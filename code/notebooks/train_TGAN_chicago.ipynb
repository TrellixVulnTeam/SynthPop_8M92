{
 "cells": [
  {
   "cell_type": "code",
   "execution_count": 1,
   "metadata": {},
   "outputs": [],
   "source": [
    "import os\n",
    "os.chdir('..')"
   ]
  },
  {
   "cell_type": "code",
   "execution_count": 2,
   "metadata": {},
   "outputs": [],
   "source": [
    "import numpy as np\n",
    "import pandas as pd\n",
    "\n",
    "from tgan.model import TGANModel\n",
    "\n",
    "# For the Python notebook\n",
    "%matplotlib inline\n",
    "%reload_ext autoreload\n",
    "%autoreload 2"
   ]
  },
  {
   "cell_type": "code",
   "execution_count": 3,
   "metadata": {},
   "outputs": [],
   "source": [
    "df = pd.read_csv('../data/Chicago/full.csv')"
   ]
  },
  {
   "cell_type": "code",
   "execution_count": 4,
   "metadata": {},
   "outputs": [
    {
     "data": {
      "text/html": [
       "<div>\n",
       "<style scoped>\n",
       "    .dataframe tbody tr th:only-of-type {\n",
       "        vertical-align: middle;\n",
       "    }\n",
       "\n",
       "    .dataframe tbody tr th {\n",
       "        vertical-align: top;\n",
       "    }\n",
       "\n",
       "    .dataframe thead th {\n",
       "        text-align: right;\n",
       "    }\n",
       "</style>\n",
       "<table border=\"1\" class=\"dataframe\">\n",
       "  <thead>\n",
       "    <tr style=\"text-align: right;\">\n",
       "      <th></th>\n",
       "      <th>choice</th>\n",
       "      <th>travel_dow</th>\n",
       "      <th>trip_purpose</th>\n",
       "      <th>distance</th>\n",
       "      <th>departure_hour</th>\n",
       "      <th>departure_min</th>\n",
       "      <th>hh_vehicles</th>\n",
       "      <th>hh_size</th>\n",
       "      <th>hh_bikes</th>\n",
       "      <th>hh_descr</th>\n",
       "      <th>hh_income</th>\n",
       "      <th>gender</th>\n",
       "      <th>age</th>\n",
       "      <th>license</th>\n",
       "      <th>education_level</th>\n",
       "      <th>work_status</th>\n",
       "    </tr>\n",
       "  </thead>\n",
       "  <tbody>\n",
       "    <tr>\n",
       "      <th>0</th>\n",
       "      <td>drive</td>\n",
       "      <td>7</td>\n",
       "      <td>HOME_OTHER</td>\n",
       "      <td>23.42579</td>\n",
       "      <td>9.0</td>\n",
       "      <td>20.0</td>\n",
       "      <td>2</td>\n",
       "      <td>2</td>\n",
       "      <td>0</td>\n",
       "      <td>2</td>\n",
       "      <td>6</td>\n",
       "      <td>1</td>\n",
       "      <td>66</td>\n",
       "      <td>1.0</td>\n",
       "      <td>6</td>\n",
       "      <td>FTE</td>\n",
       "    </tr>\n",
       "    <tr>\n",
       "      <th>1</th>\n",
       "      <td>drive</td>\n",
       "      <td>7</td>\n",
       "      <td>OTHER</td>\n",
       "      <td>1.71259</td>\n",
       "      <td>12.0</td>\n",
       "      <td>5.0</td>\n",
       "      <td>2</td>\n",
       "      <td>2</td>\n",
       "      <td>0</td>\n",
       "      <td>2</td>\n",
       "      <td>6</td>\n",
       "      <td>1</td>\n",
       "      <td>66</td>\n",
       "      <td>1.0</td>\n",
       "      <td>6</td>\n",
       "      <td>FTE</td>\n",
       "    </tr>\n",
       "    <tr>\n",
       "      <th>2</th>\n",
       "      <td>drive</td>\n",
       "      <td>7</td>\n",
       "      <td>HOME_OTHER</td>\n",
       "      <td>21.77887</td>\n",
       "      <td>15.0</td>\n",
       "      <td>30.0</td>\n",
       "      <td>2</td>\n",
       "      <td>2</td>\n",
       "      <td>0</td>\n",
       "      <td>2</td>\n",
       "      <td>6</td>\n",
       "      <td>1</td>\n",
       "      <td>66</td>\n",
       "      <td>1.0</td>\n",
       "      <td>6</td>\n",
       "      <td>FTE</td>\n",
       "    </tr>\n",
       "    <tr>\n",
       "      <th>3</th>\n",
       "      <td>drive</td>\n",
       "      <td>7</td>\n",
       "      <td>SHOPPING</td>\n",
       "      <td>2.02603</td>\n",
       "      <td>17.0</td>\n",
       "      <td>30.0</td>\n",
       "      <td>2</td>\n",
       "      <td>2</td>\n",
       "      <td>0</td>\n",
       "      <td>2</td>\n",
       "      <td>6</td>\n",
       "      <td>1</td>\n",
       "      <td>66</td>\n",
       "      <td>1.0</td>\n",
       "      <td>6</td>\n",
       "      <td>FTE</td>\n",
       "    </tr>\n",
       "    <tr>\n",
       "      <th>4</th>\n",
       "      <td>drive</td>\n",
       "      <td>7</td>\n",
       "      <td>SHOPPING</td>\n",
       "      <td>0.87691</td>\n",
       "      <td>18.0</td>\n",
       "      <td>15.0</td>\n",
       "      <td>2</td>\n",
       "      <td>2</td>\n",
       "      <td>0</td>\n",
       "      <td>2</td>\n",
       "      <td>6</td>\n",
       "      <td>1</td>\n",
       "      <td>66</td>\n",
       "      <td>1.0</td>\n",
       "      <td>6</td>\n",
       "      <td>FTE</td>\n",
       "    </tr>\n",
       "  </tbody>\n",
       "</table>\n",
       "</div>"
      ],
      "text/plain": [
       "  choice  travel_dow trip_purpose  distance  departure_hour  departure_min  \\\n",
       "0  drive           7   HOME_OTHER  23.42579             9.0           20.0   \n",
       "1  drive           7        OTHER   1.71259            12.0            5.0   \n",
       "2  drive           7   HOME_OTHER  21.77887            15.0           30.0   \n",
       "3  drive           7     SHOPPING   2.02603            17.0           30.0   \n",
       "4  drive           7     SHOPPING   0.87691            18.0           15.0   \n",
       "\n",
       "   hh_vehicles  hh_size  hh_bikes  hh_descr  hh_income  gender  age  license  \\\n",
       "0            2        2         0         2          6       1   66      1.0   \n",
       "1            2        2         0         2          6       1   66      1.0   \n",
       "2            2        2         0         2          6       1   66      1.0   \n",
       "3            2        2         0         2          6       1   66      1.0   \n",
       "4            2        2         0         2          6       1   66      1.0   \n",
       "\n",
       "   education_level work_status  \n",
       "0                6         FTE  \n",
       "1                6         FTE  \n",
       "2                6         FTE  \n",
       "3                6         FTE  \n",
       "4                6         FTE  "
      ]
     },
     "execution_count": 4,
     "metadata": {},
     "output_type": "execute_result"
    }
   ],
   "source": [
    "df.head()"
   ]
  },
  {
   "cell_type": "code",
   "execution_count": 5,
   "metadata": {},
   "outputs": [
    {
     "data": {
      "text/plain": [
       "Index(['choice', 'travel_dow', 'trip_purpose', 'distance', 'departure_hour',\n",
       "       'departure_min', 'hh_vehicles', 'hh_size', 'hh_bikes', 'hh_descr',\n",
       "       'hh_income', 'gender', 'age', 'license', 'education_level',\n",
       "       'work_status'],\n",
       "      dtype='object')"
      ]
     },
     "execution_count": 5,
     "metadata": {},
     "output_type": "execute_result"
    }
   ],
   "source": [
    "df.columns"
   ]
  },
  {
   "cell_type": "code",
   "execution_count": 6,
   "metadata": {},
   "outputs": [],
   "source": [
    "continuous_columns = [3]"
   ]
  },
  {
   "cell_type": "code",
   "execution_count": 7,
   "metadata": {},
   "outputs": [],
   "source": [
    "tgan = TGANModel(continuous_columns, max_epoch=100, steps_per_epoch=2000)"
   ]
  },
  {
   "cell_type": "code",
   "execution_count": 8,
   "metadata": {
    "scrolled": true
   },
   "outputs": [
    {
     "name": "stdout",
     "output_type": "stream",
     "text": [
      "\u001b[32m[0707 18:58:22 @input_source.py:222]\u001b[0m Setting up the queue 'QueueInput/input_queue' for CPU prefetching ...\n",
      "\u001b[32m[0707 18:58:22 @registry.py:126]\u001b[0m gen/LSTM/00/FC input: [200, 100]\n",
      "\u001b[32m[0707 18:58:22 @registry.py:134]\u001b[0m gen/LSTM/00/FC output: [200, 100]\n",
      "\u001b[32m[0707 18:58:22 @registry.py:126]\u001b[0m gen/LSTM/00/FC2 input: [200, 100]\n",
      "\u001b[32m[0707 18:58:22 @registry.py:134]\u001b[0m gen/LSTM/00/FC2 output: [200, 5]\n",
      "\u001b[32m[0707 18:58:22 @registry.py:126]\u001b[0m gen/LSTM/00/FC3 input: [200, 5]\n",
      "\u001b[32m[0707 18:58:22 @registry.py:134]\u001b[0m gen/LSTM/00/FC3 output: [200, 100]\n",
      "\u001b[32m[0707 18:58:22 @registry.py:126]\u001b[0m gen/LSTM/01/FC input: [200, 100]\n",
      "\u001b[32m[0707 18:58:22 @registry.py:134]\u001b[0m gen/LSTM/01/FC output: [200, 100]\n",
      "\u001b[32m[0707 18:58:22 @registry.py:126]\u001b[0m gen/LSTM/01/FC2 input: [200, 100]\n",
      "\u001b[32m[0707 18:58:22 @registry.py:134]\u001b[0m gen/LSTM/01/FC2 output: [200, 7]\n",
      "\u001b[32m[0707 18:58:22 @registry.py:126]\u001b[0m gen/LSTM/01/FC3 input: [200, 7]\n",
      "\u001b[32m[0707 18:58:22 @registry.py:134]\u001b[0m gen/LSTM/01/FC3 output: [200, 100]\n",
      "\u001b[32m[0707 18:58:22 @registry.py:126]\u001b[0m gen/LSTM/02/FC input: [200, 100]\n",
      "\u001b[32m[0707 18:58:22 @registry.py:134]\u001b[0m gen/LSTM/02/FC output: [200, 100]\n",
      "\u001b[32m[0707 18:58:22 @registry.py:126]\u001b[0m gen/LSTM/02/FC2 input: [200, 100]\n",
      "\u001b[32m[0707 18:58:22 @registry.py:134]\u001b[0m gen/LSTM/02/FC2 output: [200, 7]\n",
      "\u001b[32m[0707 18:58:22 @registry.py:126]\u001b[0m gen/LSTM/02/FC3 input: [200, 7]\n",
      "\u001b[32m[0707 18:58:22 @registry.py:134]\u001b[0m gen/LSTM/02/FC3 output: [200, 100]\n",
      "\u001b[32m[0707 18:58:22 @registry.py:126]\u001b[0m gen/LSTM/03/FC input: [200, 100]\n",
      "\u001b[32m[0707 18:58:22 @registry.py:134]\u001b[0m gen/LSTM/03/FC output: [200, 100]\n",
      "\u001b[32m[0707 18:58:22 @registry.py:126]\u001b[0m gen/LSTM/03/FC2 input: [200, 100]\n",
      "\u001b[32m[0707 18:58:22 @registry.py:134]\u001b[0m gen/LSTM/03/FC2 output: [200, 1]\n",
      "\u001b[32m[0707 18:58:22 @registry.py:126]\u001b[0m gen/LSTM/04/FC input: [200, 100]\n",
      "\u001b[32m[0707 18:58:22 @registry.py:134]\u001b[0m gen/LSTM/04/FC output: [200, 100]\n",
      "\u001b[32m[0707 18:58:22 @registry.py:126]\u001b[0m gen/LSTM/04/FC2 input: [200, 100]\n",
      "\u001b[32m[0707 18:58:22 @registry.py:134]\u001b[0m gen/LSTM/04/FC2 output: [200, 5]\n",
      "\u001b[32m[0707 18:58:22 @registry.py:126]\u001b[0m gen/LSTM/04/FC3 input: [200, 5]\n",
      "\u001b[32m[0707 18:58:22 @registry.py:134]\u001b[0m gen/LSTM/04/FC3 output: [200, 100]\n",
      "\u001b[32m[0707 18:58:22 @registry.py:126]\u001b[0m gen/LSTM/05/FC input: [200, 100]\n",
      "\u001b[32m[0707 18:58:22 @registry.py:134]\u001b[0m gen/LSTM/05/FC output: [200, 100]\n",
      "\u001b[32m[0707 18:58:22 @registry.py:126]\u001b[0m gen/LSTM/05/FC2 input: [200, 100]\n",
      "\u001b[32m[0707 18:58:22 @registry.py:134]\u001b[0m gen/LSTM/05/FC2 output: [200, 24]\n",
      "\u001b[32m[0707 18:58:22 @registry.py:126]\u001b[0m gen/LSTM/05/FC3 input: [200, 24]\n",
      "\u001b[32m[0707 18:58:22 @registry.py:134]\u001b[0m gen/LSTM/05/FC3 output: [200, 100]\n",
      "\u001b[32m[0707 18:58:22 @registry.py:126]\u001b[0m gen/LSTM/06/FC input: [200, 100]\n",
      "\u001b[32m[0707 18:58:22 @registry.py:134]\u001b[0m gen/LSTM/06/FC output: [200, 100]\n",
      "\u001b[32m[0707 18:58:22 @registry.py:126]\u001b[0m gen/LSTM/06/FC2 input: [200, 100]\n",
      "\u001b[32m[0707 18:58:22 @registry.py:134]\u001b[0m gen/LSTM/06/FC2 output: [200, 60]\n",
      "\u001b[32m[0707 18:58:22 @registry.py:126]\u001b[0m gen/LSTM/06/FC3 input: [200, 60]\n",
      "\u001b[32m[0707 18:58:22 @registry.py:134]\u001b[0m gen/LSTM/06/FC3 output: [200, 100]\n",
      "\u001b[32m[0707 18:58:22 @registry.py:126]\u001b[0m gen/LSTM/07/FC input: [200, 100]\n",
      "\u001b[32m[0707 18:58:22 @registry.py:134]\u001b[0m gen/LSTM/07/FC output: [200, 100]\n",
      "\u001b[32m[0707 18:58:22 @registry.py:126]\u001b[0m gen/LSTM/07/FC2 input: [200, 100]\n",
      "\u001b[32m[0707 18:58:22 @registry.py:134]\u001b[0m gen/LSTM/07/FC2 output: [200, 9]\n",
      "\u001b[32m[0707 18:58:22 @registry.py:126]\u001b[0m gen/LSTM/07/FC3 input: [200, 9]\n",
      "\u001b[32m[0707 18:58:22 @registry.py:134]\u001b[0m gen/LSTM/07/FC3 output: [200, 100]\n",
      "\u001b[32m[0707 18:58:22 @registry.py:126]\u001b[0m gen/LSTM/08/FC input: [200, 100]\n",
      "\u001b[32m[0707 18:58:23 @registry.py:134]\u001b[0m gen/LSTM/08/FC output: [200, 100]\n",
      "\u001b[32m[0707 18:58:23 @registry.py:126]\u001b[0m gen/LSTM/08/FC2 input: [200, 100]\n",
      "\u001b[32m[0707 18:58:23 @registry.py:134]\u001b[0m gen/LSTM/08/FC2 output: [200, 8]\n",
      "\u001b[32m[0707 18:58:23 @registry.py:126]\u001b[0m gen/LSTM/08/FC3 input: [200, 8]\n",
      "\u001b[32m[0707 18:58:23 @registry.py:134]\u001b[0m gen/LSTM/08/FC3 output: [200, 100]\n",
      "\u001b[32m[0707 18:58:23 @registry.py:126]\u001b[0m gen/LSTM/09/FC input: [200, 100]\n",
      "\u001b[32m[0707 18:58:23 @registry.py:134]\u001b[0m gen/LSTM/09/FC output: [200, 100]\n",
      "\u001b[32m[0707 18:58:23 @registry.py:126]\u001b[0m gen/LSTM/09/FC2 input: [200, 100]\n",
      "\u001b[32m[0707 18:58:23 @registry.py:134]\u001b[0m gen/LSTM/09/FC2 output: [200, 8]\n",
      "\u001b[32m[0707 18:58:23 @registry.py:126]\u001b[0m gen/LSTM/09/FC3 input: [200, 8]\n",
      "\u001b[32m[0707 18:58:23 @registry.py:134]\u001b[0m gen/LSTM/09/FC3 output: [200, 100]\n",
      "\u001b[32m[0707 18:58:23 @registry.py:126]\u001b[0m gen/LSTM/10/FC input: [200, 100]\n",
      "\u001b[32m[0707 18:58:23 @registry.py:134]\u001b[0m gen/LSTM/10/FC output: [200, 100]\n",
      "\u001b[32m[0707 18:58:23 @registry.py:126]\u001b[0m gen/LSTM/10/FC2 input: [200, 100]\n",
      "\u001b[32m[0707 18:58:23 @registry.py:134]\u001b[0m gen/LSTM/10/FC2 output: [200, 3]\n",
      "\u001b[32m[0707 18:58:23 @registry.py:126]\u001b[0m gen/LSTM/10/FC3 input: [200, 3]\n",
      "\u001b[32m[0707 18:58:23 @registry.py:134]\u001b[0m gen/LSTM/10/FC3 output: [200, 100]\n",
      "\u001b[32m[0707 18:58:23 @registry.py:126]\u001b[0m gen/LSTM/11/FC input: [200, 100]\n",
      "\u001b[32m[0707 18:58:23 @registry.py:134]\u001b[0m gen/LSTM/11/FC output: [200, 100]\n",
      "\u001b[32m[0707 18:58:23 @registry.py:126]\u001b[0m gen/LSTM/11/FC2 input: [200, 100]\n",
      "\u001b[32m[0707 18:58:23 @registry.py:134]\u001b[0m gen/LSTM/11/FC2 output: [200, 7]\n",
      "\u001b[32m[0707 18:58:23 @registry.py:126]\u001b[0m gen/LSTM/11/FC3 input: [200, 7]\n",
      "\u001b[32m[0707 18:58:23 @registry.py:134]\u001b[0m gen/LSTM/11/FC3 output: [200, 100]\n",
      "\u001b[32m[0707 18:58:23 @registry.py:126]\u001b[0m gen/LSTM/12/FC input: [200, 100]\n",
      "\u001b[32m[0707 18:58:23 @registry.py:134]\u001b[0m gen/LSTM/12/FC output: [200, 100]\n",
      "\u001b[32m[0707 18:58:23 @registry.py:126]\u001b[0m gen/LSTM/12/FC2 input: [200, 100]\n",
      "\u001b[32m[0707 18:58:23 @registry.py:134]\u001b[0m gen/LSTM/12/FC2 output: [200, 2]\n",
      "\u001b[32m[0707 18:58:23 @registry.py:126]\u001b[0m gen/LSTM/12/FC3 input: [200, 2]\n",
      "\u001b[32m[0707 18:58:23 @registry.py:134]\u001b[0m gen/LSTM/12/FC3 output: [200, 100]\n",
      "\u001b[32m[0707 18:58:23 @registry.py:126]\u001b[0m gen/LSTM/13/FC input: [200, 100]\n",
      "\u001b[32m[0707 18:58:23 @registry.py:134]\u001b[0m gen/LSTM/13/FC output: [200, 100]\n",
      "\u001b[32m[0707 18:58:23 @registry.py:126]\u001b[0m gen/LSTM/13/FC2 input: [200, 100]\n",
      "\u001b[32m[0707 18:58:23 @registry.py:134]\u001b[0m gen/LSTM/13/FC2 output: [200, 97]\n",
      "\u001b[32m[0707 18:58:23 @registry.py:126]\u001b[0m gen/LSTM/13/FC3 input: [200, 97]\n",
      "\u001b[32m[0707 18:58:23 @registry.py:134]\u001b[0m gen/LSTM/13/FC3 output: [200, 100]\n",
      "\u001b[32m[0707 18:58:23 @registry.py:126]\u001b[0m gen/LSTM/14/FC input: [200, 100]\n",
      "\u001b[32m[0707 18:58:23 @registry.py:134]\u001b[0m gen/LSTM/14/FC output: [200, 100]\n",
      "\u001b[32m[0707 18:58:23 @registry.py:126]\u001b[0m gen/LSTM/14/FC2 input: [200, 100]\n",
      "\u001b[32m[0707 18:58:23 @registry.py:134]\u001b[0m gen/LSTM/14/FC2 output: [200, 2]\n",
      "\u001b[32m[0707 18:58:23 @registry.py:126]\u001b[0m gen/LSTM/14/FC3 input: [200, 2]\n",
      "\u001b[32m[0707 18:58:23 @registry.py:134]\u001b[0m gen/LSTM/14/FC3 output: [200, 100]\n",
      "\u001b[32m[0707 18:58:23 @registry.py:126]\u001b[0m gen/LSTM/15/FC input: [200, 100]\n",
      "\u001b[32m[0707 18:58:23 @registry.py:134]\u001b[0m gen/LSTM/15/FC output: [200, 100]\n",
      "\u001b[32m[0707 18:58:23 @registry.py:126]\u001b[0m gen/LSTM/15/FC2 input: [200, 100]\n",
      "\u001b[32m[0707 18:58:23 @registry.py:134]\u001b[0m gen/LSTM/15/FC2 output: [200, 6]\n",
      "\u001b[32m[0707 18:58:23 @registry.py:126]\u001b[0m gen/LSTM/15/FC3 input: [200, 6]\n",
      "\u001b[32m[0707 18:58:23 @registry.py:134]\u001b[0m gen/LSTM/15/FC3 output: [200, 100]\n",
      "\u001b[32m[0707 18:58:23 @registry.py:126]\u001b[0m gen/LSTM/16/FC input: [200, 100]\n",
      "\u001b[32m[0707 18:58:23 @registry.py:134]\u001b[0m gen/LSTM/16/FC output: [200, 100]\n",
      "\u001b[32m[0707 18:58:23 @registry.py:126]\u001b[0m gen/LSTM/16/FC2 input: [200, 100]\n",
      "\u001b[32m[0707 18:58:23 @registry.py:134]\u001b[0m gen/LSTM/16/FC2 output: [200, 8]\n",
      "\u001b[32m[0707 18:58:23 @registry.py:126]\u001b[0m gen/LSTM/16/FC3 input: [200, 8]\n",
      "\u001b[32m[0707 18:58:23 @registry.py:134]\u001b[0m gen/LSTM/16/FC3 output: [200, 100]\n",
      "\u001b[32m[0707 18:58:24 @registry.py:126]\u001b[0m discrim/dis_fc0/fc input: [200, 259]\n",
      "\u001b[32m[0707 18:58:24 @registry.py:134]\u001b[0m discrim/dis_fc0/fc output: [200, 100]\n",
      "\u001b[32m[0707 18:58:24 @registry.py:126]\u001b[0m discrim/dis_fc0/fc_diversity input: [200, 100]\n",
      "\u001b[32m[0707 18:58:24 @registry.py:134]\u001b[0m discrim/dis_fc0/fc_diversity output: [200, 100]\n",
      "\u001b[32m[0707 18:58:24 @registry.py:126]\u001b[0m discrim/dis_fc_top input: [200, 110]\n",
      "\u001b[32m[0707 18:58:24 @registry.py:134]\u001b[0m discrim/dis_fc_top output: [200, 1]\n",
      "\u001b[32m[0707 18:58:27 @logger.py:90]\u001b[0m Argv: /home/gael/Applications/anaconda/lib/python3.6/site-packages/ipykernel_launcher.py -f /run/user/1000/jupyter/kernel-a0c9edae-67d1-476c-999c-0114945661bc.json\n"
     ]
    },
    {
     "name": "stdout",
     "output_type": "stream",
     "text": [
      "\u001b[32m[0707 18:58:27 @model_utils.py:67]\u001b[0m \u001b[36mList of Trainable Variables: \n",
      "\u001b[0mname                              shape         #elements\n",
      "--------------------------------  ----------  -----------\n",
      "gen/LSTM/go:0                     [1, 100]            100\n",
      "gen/LSTM/lstm_cell/kernel:0       [500, 400]       200000\n",
      "gen/LSTM/lstm_cell/bias:0         [400]               400\n",
      "gen/LSTM/00/FC/W:0                [100, 100]        10000\n",
      "gen/LSTM/00/FC/b:0                [100]               100\n",
      "gen/LSTM/00/FC2/W:0               [100, 5]            500\n",
      "gen/LSTM/00/FC2/b:0               [5]                   5\n",
      "gen/LSTM/00/FC3/W:0               [5, 100]            500\n",
      "gen/LSTM/00/FC3/b:0               [100]               100\n",
      "gen/LSTM/00/attw:0                [1, 1, 1]             1\n",
      "gen/LSTM/01/FC/W:0                [100, 100]        10000\n",
      "gen/LSTM/01/FC/b:0                [100]               100\n",
      "gen/LSTM/01/FC2/W:0               [100, 7]            700\n",
      "gen/LSTM/01/FC2/b:0               [7]                   7\n",
      "gen/LSTM/01/FC3/W:0               [7, 100]            700\n",
      "gen/LSTM/01/FC3/b:0               [100]               100\n",
      "gen/LSTM/01/attw:0                [2, 1, 1]             2\n",
      "gen/LSTM/02/FC/W:0                [100, 100]        10000\n",
      "gen/LSTM/02/FC/b:0                [100]               100\n",
      "gen/LSTM/02/FC2/W:0               [100, 7]            700\n",
      "gen/LSTM/02/FC2/b:0               [7]                   7\n",
      "gen/LSTM/02/FC3/W:0               [7, 100]            700\n",
      "gen/LSTM/02/FC3/b:0               [100]               100\n",
      "gen/LSTM/02/attw:0                [3, 1, 1]             3\n",
      "gen/LSTM/03/FC/W:0                [100, 100]        10000\n",
      "gen/LSTM/03/FC/b:0                [100]               100\n",
      "gen/LSTM/03/FC2/W:0               [100, 1]            100\n",
      "gen/LSTM/03/FC2/b:0               [1]                   1\n",
      "gen/LSTM/03/attw:0                [4, 1, 1]             4\n",
      "gen/LSTM/04/FC/W:0                [100, 100]        10000\n",
      "gen/LSTM/04/FC/b:0                [100]               100\n",
      "gen/LSTM/04/FC2/W:0               [100, 5]            500\n",
      "gen/LSTM/04/FC2/b:0               [5]                   5\n",
      "gen/LSTM/04/FC3/W:0               [5, 100]            500\n",
      "gen/LSTM/04/FC3/b:0               [100]               100\n",
      "gen/LSTM/04/attw:0                [5, 1, 1]             5\n",
      "gen/LSTM/05/FC/W:0                [100, 100]        10000\n",
      "gen/LSTM/05/FC/b:0                [100]               100\n",
      "gen/LSTM/05/FC2/W:0               [100, 24]          2400\n",
      "gen/LSTM/05/FC2/b:0               [24]                 24\n",
      "gen/LSTM/05/FC3/W:0               [24, 100]          2400\n",
      "gen/LSTM/05/FC3/b:0               [100]               100\n",
      "gen/LSTM/05/attw:0                [6, 1, 1]             6\n",
      "gen/LSTM/06/FC/W:0                [100, 100]        10000\n",
      "gen/LSTM/06/FC/b:0                [100]               100\n",
      "gen/LSTM/06/FC2/W:0               [100, 60]          6000\n",
      "gen/LSTM/06/FC2/b:0               [60]                 60\n",
      "gen/LSTM/06/FC3/W:0               [60, 100]          6000\n",
      "gen/LSTM/06/FC3/b:0               [100]               100\n",
      "gen/LSTM/06/attw:0                [7, 1, 1]             7\n",
      "gen/LSTM/07/FC/W:0                [100, 100]        10000\n",
      "gen/LSTM/07/FC/b:0                [100]               100\n",
      "gen/LSTM/07/FC2/W:0               [100, 9]            900\n",
      "gen/LSTM/07/FC2/b:0               [9]                   9\n",
      "gen/LSTM/07/FC3/W:0               [9, 100]            900\n",
      "gen/LSTM/07/FC3/b:0               [100]               100\n",
      "gen/LSTM/07/attw:0                [8, 1, 1]             8\n",
      "gen/LSTM/08/FC/W:0                [100, 100]        10000\n",
      "gen/LSTM/08/FC/b:0                [100]               100\n",
      "gen/LSTM/08/FC2/W:0               [100, 8]            800\n",
      "gen/LSTM/08/FC2/b:0               [8]                   8\n",
      "gen/LSTM/08/FC3/W:0               [8, 100]            800\n",
      "gen/LSTM/08/FC3/b:0               [100]               100\n",
      "gen/LSTM/08/attw:0                [9, 1, 1]             9\n",
      "gen/LSTM/09/FC/W:0                [100, 100]        10000\n",
      "gen/LSTM/09/FC/b:0                [100]               100\n",
      "gen/LSTM/09/FC2/W:0               [100, 8]            800\n",
      "gen/LSTM/09/FC2/b:0               [8]                   8\n",
      "gen/LSTM/09/FC3/W:0               [8, 100]            800\n",
      "gen/LSTM/09/FC3/b:0               [100]               100\n",
      "gen/LSTM/09/attw:0                [10, 1, 1]           10\n",
      "gen/LSTM/10/FC/W:0                [100, 100]        10000\n",
      "gen/LSTM/10/FC/b:0                [100]               100\n",
      "gen/LSTM/10/FC2/W:0               [100, 3]            300\n",
      "gen/LSTM/10/FC2/b:0               [3]                   3\n",
      "gen/LSTM/10/FC3/W:0               [3, 100]            300\n",
      "gen/LSTM/10/FC3/b:0               [100]               100\n",
      "gen/LSTM/10/attw:0                [11, 1, 1]           11\n",
      "gen/LSTM/11/FC/W:0                [100, 100]        10000\n",
      "gen/LSTM/11/FC/b:0                [100]               100\n",
      "gen/LSTM/11/FC2/W:0               [100, 7]            700\n",
      "gen/LSTM/11/FC2/b:0               [7]                   7\n",
      "gen/LSTM/11/FC3/W:0               [7, 100]            700\n",
      "gen/LSTM/11/FC3/b:0               [100]               100\n",
      "gen/LSTM/11/attw:0                [12, 1, 1]           12\n",
      "gen/LSTM/12/FC/W:0                [100, 100]        10000\n",
      "gen/LSTM/12/FC/b:0                [100]               100\n",
      "gen/LSTM/12/FC2/W:0               [100, 2]            200\n",
      "gen/LSTM/12/FC2/b:0               [2]                   2\n",
      "gen/LSTM/12/FC3/W:0               [2, 100]            200\n",
      "gen/LSTM/12/FC3/b:0               [100]               100\n",
      "gen/LSTM/12/attw:0                [13, 1, 1]           13\n",
      "gen/LSTM/13/FC/W:0                [100, 100]        10000\n",
      "gen/LSTM/13/FC/b:0                [100]               100\n",
      "gen/LSTM/13/FC2/W:0               [100, 97]          9700\n",
      "gen/LSTM/13/FC2/b:0               [97]                 97\n",
      "gen/LSTM/13/FC3/W:0               [97, 100]          9700\n",
      "gen/LSTM/13/FC3/b:0               [100]               100\n",
      "gen/LSTM/13/attw:0                [14, 1, 1]           14\n",
      "gen/LSTM/14/FC/W:0                [100, 100]        10000\n",
      "gen/LSTM/14/FC/b:0                [100]               100\n",
      "gen/LSTM/14/FC2/W:0               [100, 2]            200\n",
      "gen/LSTM/14/FC2/b:0               [2]                   2\n",
      "gen/LSTM/14/FC3/W:0               [2, 100]            200\n",
      "gen/LSTM/14/FC3/b:0               [100]               100\n",
      "gen/LSTM/14/attw:0                [15, 1, 1]           15\n",
      "gen/LSTM/15/FC/W:0                [100, 100]        10000\n",
      "gen/LSTM/15/FC/b:0                [100]               100\n",
      "gen/LSTM/15/FC2/W:0               [100, 6]            600\n",
      "gen/LSTM/15/FC2/b:0               [6]                   6\n",
      "gen/LSTM/15/FC3/W:0               [6, 100]            600\n",
      "gen/LSTM/15/FC3/b:0               [100]               100\n",
      "gen/LSTM/15/attw:0                [16, 1, 1]           16\n",
      "gen/LSTM/16/FC/W:0                [100, 100]        10000\n",
      "gen/LSTM/16/FC/b:0                [100]               100\n",
      "gen/LSTM/16/FC2/W:0               [100, 8]            800\n",
      "gen/LSTM/16/FC2/b:0               [8]                   8\n",
      "gen/LSTM/16/FC3/W:0               [8, 100]            800\n",
      "gen/LSTM/16/FC3/b:0               [100]               100\n",
      "gen/LSTM/16/attw:0                [17, 1, 1]           17\n",
      "discrim/dis_fc0/fc/W:0            [259, 100]        25900\n",
      "discrim/dis_fc0/fc/b:0            [100]               100\n",
      "discrim/dis_fc0/fc_diversity/W:0  [100, 100]        10000\n",
      "discrim/dis_fc0/fc_diversity/b:0  [100]               100\n",
      "discrim/dis_fc0/bn/beta:0         [110]               110\n",
      "discrim/dis_fc_top/W:0            [110, 1]            110\n",
      "discrim/dis_fc_top/b:0            [1]                   1\u001b[36m\n",
      "Number of trainable variables: 127\n",
      "Number of parameters (elements): 462233\n",
      "Storage space needed for all trainable variables: 1.76MB\u001b[0m\n",
      "\u001b[32m[0707 18:58:27 @base.py:209]\u001b[0m Setup callbacks graph ...\n",
      "\u001b[32m[0707 18:58:28 @summary.py:46]\u001b[0m [MovingAverageSummary] 6 operations in collection 'MOVING_SUMMARY_OPS' will be run with session hooks.\n",
      "\u001b[32m[0707 18:58:28 @summary.py:93]\u001b[0m Summarizing collection 'summaries' of size 9.\n",
      "\u001b[32m[0707 18:58:28 @graph.py:98]\u001b[0m Applying collection UPDATE_OPS of 4 ops.\n",
      "\u001b[32m[0707 18:58:28 @base.py:230]\u001b[0m Creating the session ...\n",
      "\u001b[32m[0707 18:58:30 @base.py:236]\u001b[0m Initializing the session ...\n"
     ]
    },
    {
     "name": "stdout",
     "output_type": "stream",
     "text": [
      "\u001b[32m[0707 18:58:30 @base.py:243]\u001b[0m Graph Finalized.\n",
      "\u001b[32m[0707 18:58:30 @concurrency.py:38]\u001b[0m Starting EnqueueThread QueueInput/input_queue ...\n",
      "\u001b[32m[0707 18:58:31 @base.py:275]\u001b[0m Start Epoch 1 ...\n"
     ]
    },
    {
     "name": "stderr",
     "output_type": "stream",
     "text": [
      "100%|##########|2000/2000[04:00<00:00, 8.32it/s]"
     ]
    },
    {
     "name": "stdout",
     "output_type": "stream",
     "text": [
      "\u001b[32m[0707 19:02:31 @base.py:285]\u001b[0m Epoch 1 (global_step 2000) finished, time:4 minutes.\n"
     ]
    },
    {
     "name": "stderr",
     "output_type": "stream",
     "text": [
      "\n"
     ]
    },
    {
     "name": "stdout",
     "output_type": "stream",
     "text": [
      "\u001b[32m[0707 19:02:31 @saver.py:79]\u001b[0m Model saved to output/model/model-2000.\n",
      "\u001b[32m[0707 19:02:31 @monitor.py:467]\u001b[0m GAN_loss/discrim/accuracy_fake: 0.875\n",
      "\u001b[32m[0707 19:02:31 @monitor.py:467]\u001b[0m GAN_loss/discrim/accuracy_real: 0.195\n",
      "\u001b[32m[0707 19:02:31 @monitor.py:467]\u001b[0m GAN_loss/discrim/loss: 0.6365\n",
      "\u001b[32m[0707 19:02:31 @monitor.py:467]\u001b[0m GAN_loss/gen/final-g-loss: 1.0685\n",
      "\u001b[32m[0707 19:02:31 @monitor.py:467]\u001b[0m GAN_loss/gen/klloss: 0.12868\n",
      "\u001b[32m[0707 19:02:31 @monitor.py:467]\u001b[0m GAN_loss/gen/loss: 0.93984\n",
      "\u001b[32m[0707 19:02:31 @monitor.py:467]\u001b[0m QueueInput/queue_size: 50\n",
      "\u001b[32m[0707 19:02:31 @base.py:275]\u001b[0m Start Epoch 2 ...\n"
     ]
    },
    {
     "name": "stderr",
     "output_type": "stream",
     "text": [
      "100%|##########|2000/2000[03:58<00:00, 8.40it/s]"
     ]
    },
    {
     "name": "stdout",
     "output_type": "stream",
     "text": [
      "\u001b[32m[0707 19:06:30 @base.py:285]\u001b[0m Epoch 2 (global_step 4000) finished, time:3 minutes 58 seconds.\n",
      "\u001b[32m[0707 19:06:30 @saver.py:79]\u001b[0m Model saved to output/model/model-4000.\n",
      "\u001b[32m[0707 19:06:30 @monitor.py:467]\u001b[0m GAN_loss/discrim/accuracy_fake: 0.885\n",
      "\u001b[32m[0707 19:06:30 @monitor.py:467]\u001b[0m GAN_loss/discrim/accuracy_real: 0.3\n",
      "\u001b[32m[0707 19:06:30 @monitor.py:467]\u001b[0m GAN_loss/discrim/loss: 0.63039\n",
      "\u001b[32m[0707 19:06:30 @monitor.py:467]\u001b[0m GAN_loss/gen/final-g-loss: 1.0958\n",
      "\u001b[32m[0707 19:06:30 @monitor.py:467]\u001b[0m GAN_loss/gen/klloss: 0.12494\n",
      "\u001b[32m[0707 19:06:30 @monitor.py:467]\u001b[0m GAN_loss/gen/loss: 0.97085\n",
      "\u001b[32m[0707 19:06:30 @monitor.py:467]\u001b[0m QueueInput/queue_size: 50\n",
      "\u001b[32m[0707 19:06:30 @base.py:275]\u001b[0m Start Epoch 3 ...\n"
     ]
    },
    {
     "name": "stderr",
     "output_type": "stream",
     "text": [
      "\n",
      "100%|##########|2000/2000[04:02<00:00, 8.20it/s]"
     ]
    },
    {
     "name": "stdout",
     "output_type": "stream",
     "text": [
      "\u001b[32m[0707 19:10:32 @base.py:285]\u001b[0m Epoch 3 (global_step 6000) finished, time:4 minutes 2 seconds.\n",
      "\u001b[32m[0707 19:10:32 @saver.py:79]\u001b[0m Model saved to output/model/model-6000.\n",
      "\u001b[32m[0707 19:10:32 @monitor.py:467]\u001b[0m GAN_loss/discrim/accuracy_fake: 0.925\n",
      "\u001b[32m[0707 19:10:32 @monitor.py:467]\u001b[0m GAN_loss/discrim/accuracy_real: 0.175\n",
      "\u001b[32m[0707 19:10:32 @monitor.py:467]\u001b[0m GAN_loss/discrim/loss: 0.63595\n",
      "\u001b[32m[0707 19:10:32 @monitor.py:467]\u001b[0m GAN_loss/gen/final-g-loss: 1.0714\n",
      "\u001b[32m[0707 19:10:32 @monitor.py:467]\u001b[0m GAN_loss/gen/klloss: 0.09496\n",
      "\u001b[32m[0707 19:10:32 @monitor.py:467]\u001b[0m GAN_loss/gen/loss: 0.97647\n",
      "\u001b[32m[0707 19:10:32 @monitor.py:467]\u001b[0m QueueInput/queue_size: 50\n",
      "\u001b[32m[0707 19:10:32 @base.py:275]\u001b[0m Start Epoch 4 ...\n"
     ]
    },
    {
     "name": "stderr",
     "output_type": "stream",
     "text": [
      "\n",
      "100%|##########|2000/2000[04:07<00:00, 7.96it/s]"
     ]
    },
    {
     "name": "stdout",
     "output_type": "stream",
     "text": [
      "\u001b[32m[0707 19:14:40 @base.py:285]\u001b[0m Epoch 4 (global_step 8000) finished, time:4 minutes 7 seconds.\n",
      "\u001b[32m[0707 19:14:40 @saver.py:79]\u001b[0m Model saved to output/model/model-8000.\n",
      "\u001b[32m[0707 19:14:40 @monitor.py:467]\u001b[0m GAN_loss/discrim/accuracy_fake: 0.895\n",
      "\u001b[32m[0707 19:14:40 @monitor.py:467]\u001b[0m GAN_loss/discrim/accuracy_real: 0.21\n",
      "\u001b[32m[0707 19:14:40 @monitor.py:467]\u001b[0m GAN_loss/discrim/loss: 0.63918\n",
      "\u001b[32m[0707 19:14:40 @monitor.py:467]\u001b[0m GAN_loss/gen/final-g-loss: 1.049\n",
      "\u001b[32m[0707 19:14:40 @monitor.py:467]\u001b[0m GAN_loss/gen/klloss: 0.087675\n",
      "\u001b[32m[0707 19:14:40 @monitor.py:467]\u001b[0m GAN_loss/gen/loss: 0.96129\n",
      "\u001b[32m[0707 19:14:40 @monitor.py:467]\u001b[0m QueueInput/queue_size: 50\n",
      "\u001b[32m[0707 19:14:40 @base.py:275]\u001b[0m Start Epoch 5 ...\n"
     ]
    },
    {
     "name": "stderr",
     "output_type": "stream",
     "text": [
      "\n",
      "100%|##########|2000/2000[04:08<00:00, 8.04it/s]"
     ]
    },
    {
     "name": "stdout",
     "output_type": "stream",
     "text": [
      "\u001b[32m[0707 19:18:48 @base.py:285]\u001b[0m Epoch 5 (global_step 10000) finished, time:4 minutes 8 seconds.\n",
      "\u001b[32m[0707 19:18:48 @saver.py:79]\u001b[0m Model saved to output/model/model-10000.\n",
      "\u001b[32m[0707 19:18:48 @monitor.py:467]\u001b[0m GAN_loss/discrim/accuracy_fake: 0.875\n",
      "\u001b[32m[0707 19:18:48 @monitor.py:467]\u001b[0m GAN_loss/discrim/accuracy_real: 0.205\n",
      "\u001b[32m[0707 19:18:48 @monitor.py:467]\u001b[0m GAN_loss/discrim/loss: 0.63349\n",
      "\u001b[32m[0707 19:18:48 @monitor.py:467]\u001b[0m GAN_loss/gen/final-g-loss: 1.0639\n",
      "\u001b[32m[0707 19:18:48 @monitor.py:467]\u001b[0m GAN_loss/gen/klloss: 0.11569\n",
      "\u001b[32m[0707 19:18:48 @monitor.py:467]\u001b[0m GAN_loss/gen/loss: 0.94819\n",
      "\u001b[32m[0707 19:18:48 @monitor.py:467]\u001b[0m QueueInput/queue_size: 50\n",
      "\u001b[32m[0707 19:18:48 @base.py:275]\u001b[0m Start Epoch 6 ...\n"
     ]
    },
    {
     "name": "stderr",
     "output_type": "stream",
     "text": [
      "\n",
      "100%|##########|2000/2000[04:07<00:00, 8.08it/s]"
     ]
    },
    {
     "name": "stdout",
     "output_type": "stream",
     "text": [
      "\u001b[32m[0707 19:22:56 @base.py:285]\u001b[0m Epoch 6 (global_step 12000) finished, time:4 minutes 7 seconds.\n",
      "\u001b[32m[0707 19:22:56 @saver.py:79]\u001b[0m Model saved to output/model/model-12000.\n",
      "\u001b[32m[0707 19:22:56 @monitor.py:467]\u001b[0m GAN_loss/discrim/accuracy_fake: 0.91\n",
      "\u001b[32m[0707 19:22:56 @monitor.py:467]\u001b[0m GAN_loss/discrim/accuracy_real: 0.275\n",
      "\u001b[32m[0707 19:22:56 @monitor.py:467]\u001b[0m GAN_loss/discrim/loss: 0.6379\n",
      "\u001b[32m[0707 19:22:56 @monitor.py:467]\u001b[0m GAN_loss/gen/final-g-loss: 1.0317\n",
      "\u001b[32m[0707 19:22:56 @monitor.py:467]\u001b[0m GAN_loss/gen/klloss: 0.08121\n",
      "\u001b[32m[0707 19:22:56 @monitor.py:467]\u001b[0m GAN_loss/gen/loss: 0.95051\n",
      "\u001b[32m[0707 19:22:56 @monitor.py:467]\u001b[0m QueueInput/queue_size: 50\n",
      "\u001b[32m[0707 19:22:56 @base.py:275]\u001b[0m Start Epoch 7 ...\n"
     ]
    },
    {
     "name": "stderr",
     "output_type": "stream",
     "text": [
      "\n",
      "100%|##########|2000/2000[04:01<00:00, 8.27it/s]"
     ]
    },
    {
     "name": "stdout",
     "output_type": "stream",
     "text": [
      "\u001b[32m[0707 19:26:58 @base.py:285]\u001b[0m Epoch 7 (global_step 14000) finished, time:4 minutes 1 second.\n",
      "\u001b[32m[0707 19:26:58 @saver.py:79]\u001b[0m Model saved to output/model/model-14000.\n",
      "\u001b[32m[0707 19:26:58 @monitor.py:467]\u001b[0m GAN_loss/discrim/accuracy_fake: 0.89\n",
      "\u001b[32m[0707 19:26:58 @monitor.py:467]\u001b[0m GAN_loss/discrim/accuracy_real: 0.205\n",
      "\u001b[32m[0707 19:26:58 @monitor.py:467]\u001b[0m GAN_loss/discrim/loss: 0.6513\n",
      "\u001b[32m[0707 19:26:58 @monitor.py:467]\u001b[0m GAN_loss/gen/final-g-loss: 1.0403\n",
      "\u001b[32m[0707 19:26:58 @monitor.py:467]\u001b[0m GAN_loss/gen/klloss: 0.10592\n",
      "\u001b[32m[0707 19:26:58 @monitor.py:467]\u001b[0m GAN_loss/gen/loss: 0.93443\n",
      "\u001b[32m[0707 19:26:58 @monitor.py:467]\u001b[0m QueueInput/queue_size: 50\n",
      "\u001b[32m[0707 19:26:58 @base.py:275]\u001b[0m Start Epoch 8 ...\n"
     ]
    },
    {
     "name": "stderr",
     "output_type": "stream",
     "text": [
      "\n",
      "100%|##########|2000/2000[03:54<00:00, 8.48it/s]"
     ]
    },
    {
     "name": "stdout",
     "output_type": "stream",
     "text": [
      "\u001b[32m[0707 19:30:52 @base.py:285]\u001b[0m Epoch 8 (global_step 16000) finished, time:3 minutes 54 seconds.\n",
      "\u001b[32m[0707 19:30:52 @saver.py:79]\u001b[0m Model saved to output/model/model-16000.\n",
      "\u001b[32m[0707 19:30:52 @monitor.py:467]\u001b[0m GAN_loss/discrim/accuracy_fake: 0.88\n",
      "\u001b[32m[0707 19:30:52 @monitor.py:467]\u001b[0m GAN_loss/discrim/accuracy_real: 0.145\n",
      "\u001b[32m[0707 19:30:52 @monitor.py:467]\u001b[0m GAN_loss/discrim/loss: 0.65193\n",
      "\u001b[32m[0707 19:30:52 @monitor.py:467]\u001b[0m GAN_loss/gen/final-g-loss: 1.0156\n",
      "\u001b[32m[0707 19:30:52 @monitor.py:467]\u001b[0m GAN_loss/gen/klloss: 0.072739\n",
      "\u001b[32m[0707 19:30:52 @monitor.py:467]\u001b[0m GAN_loss/gen/loss: 0.94281\n",
      "\u001b[32m[0707 19:30:52 @monitor.py:467]\u001b[0m QueueInput/queue_size: 50\n",
      "\u001b[32m[0707 19:30:52 @base.py:275]\u001b[0m Start Epoch 9 ...\n"
     ]
    },
    {
     "name": "stderr",
     "output_type": "stream",
     "text": [
      "\n",
      "100%|##########|2000/2000[03:54<00:00, 8.62it/s]"
     ]
    },
    {
     "name": "stdout",
     "output_type": "stream",
     "text": [
      "\u001b[32m[0707 19:34:46 @base.py:285]\u001b[0m Epoch 9 (global_step 18000) finished, time:3 minutes 54 seconds.\n",
      "\u001b[32m[0707 19:34:46 @saver.py:79]\u001b[0m Model saved to output/model/model-18000.\n",
      "\u001b[32m[0707 19:34:46 @monitor.py:467]\u001b[0m GAN_loss/discrim/accuracy_fake: 0.9\n",
      "\u001b[32m[0707 19:34:46 @monitor.py:467]\u001b[0m GAN_loss/discrim/accuracy_real: 0.195\n",
      "\u001b[32m[0707 19:34:46 @monitor.py:467]\u001b[0m GAN_loss/discrim/loss: 0.64669\n",
      "\u001b[32m[0707 19:34:46 @monitor.py:467]\u001b[0m GAN_loss/gen/final-g-loss: 1.0599\n",
      "\u001b[32m[0707 19:34:46 @monitor.py:467]\u001b[0m GAN_loss/gen/klloss: 0.099041\n",
      "\u001b[32m[0707 19:34:46 @monitor.py:467]\u001b[0m GAN_loss/gen/loss: 0.96085\n",
      "\u001b[32m[0707 19:34:46 @monitor.py:467]\u001b[0m QueueInput/queue_size: 50\n",
      "\u001b[32m[0707 19:34:46 @base.py:275]\u001b[0m Start Epoch 10 ...\n"
     ]
    },
    {
     "name": "stderr",
     "output_type": "stream",
     "text": [
      "\n",
      "100%|##########|2000/2000[03:54<00:00, 8.51it/s]"
     ]
    },
    {
     "name": "stdout",
     "output_type": "stream",
     "text": [
      "\u001b[32m[0707 19:38:41 @base.py:285]\u001b[0m Epoch 10 (global_step 20000) finished, time:3 minutes 54 seconds.\n",
      "\u001b[32m[0707 19:38:41 @saver.py:79]\u001b[0m Model saved to output/model/model-20000.\n",
      "\u001b[32m[0707 19:38:41 @monitor.py:467]\u001b[0m GAN_loss/discrim/accuracy_fake: 0.93\n",
      "\u001b[32m[0707 19:38:41 @monitor.py:467]\u001b[0m GAN_loss/discrim/accuracy_real: 0.155\n",
      "\u001b[32m[0707 19:38:41 @monitor.py:467]\u001b[0m GAN_loss/discrim/loss: 0.63844\n",
      "\u001b[32m[0707 19:38:41 @monitor.py:467]\u001b[0m GAN_loss/gen/final-g-loss: 1.0349\n",
      "\u001b[32m[0707 19:38:41 @monitor.py:467]\u001b[0m GAN_loss/gen/klloss: 0.066574\n",
      "\u001b[32m[0707 19:38:41 @monitor.py:467]\u001b[0m GAN_loss/gen/loss: 0.96832\n",
      "\u001b[32m[0707 19:38:41 @monitor.py:467]\u001b[0m QueueInput/queue_size: 50\n",
      "\u001b[32m[0707 19:38:41 @base.py:275]\u001b[0m Start Epoch 11 ...\n"
     ]
    },
    {
     "name": "stderr",
     "output_type": "stream",
     "text": [
      "\n",
      "100%|##########|2000/2000[03:54<00:00, 8.51it/s]"
     ]
    },
    {
     "name": "stdout",
     "output_type": "stream",
     "text": [
      "\u001b[32m[0707 19:42:36 @base.py:285]\u001b[0m Epoch 11 (global_step 22000) finished, time:3 minutes 54 seconds.\n",
      "\u001b[32m[0707 19:42:36 @saver.py:79]\u001b[0m Model saved to output/model/model-22000.\n",
      "\u001b[32m[0707 19:42:36 @monitor.py:467]\u001b[0m GAN_loss/discrim/accuracy_fake: 0.92\n",
      "\u001b[32m[0707 19:42:36 @monitor.py:467]\u001b[0m GAN_loss/discrim/accuracy_real: 0.165\n",
      "\u001b[32m[0707 19:42:36 @monitor.py:467]\u001b[0m GAN_loss/discrim/loss: 0.63405\n",
      "\u001b[32m[0707 19:42:36 @monitor.py:467]\u001b[0m GAN_loss/gen/final-g-loss: 1.0741\n",
      "\u001b[32m[0707 19:42:36 @monitor.py:467]\u001b[0m GAN_loss/gen/klloss: 0.10543\n",
      "\u001b[32m[0707 19:42:36 @monitor.py:467]\u001b[0m GAN_loss/gen/loss: 0.96862\n",
      "\u001b[32m[0707 19:42:36 @monitor.py:467]\u001b[0m QueueInput/queue_size: 50\n",
      "\u001b[32m[0707 19:42:36 @base.py:275]\u001b[0m Start Epoch 12 ...\n"
     ]
    },
    {
     "name": "stderr",
     "output_type": "stream",
     "text": [
      "\n",
      "100%|##########|2000/2000[03:56<00:00, 8.47it/s]"
     ]
    },
    {
     "name": "stdout",
     "output_type": "stream",
     "text": [
      "\u001b[32m[0707 19:46:32 @base.py:285]\u001b[0m Epoch 12 (global_step 24000) finished, time:3 minutes 56 seconds.\n",
      "\u001b[32m[0707 19:46:32 @saver.py:79]\u001b[0m Model saved to output/model/model-24000.\n",
      "\u001b[32m[0707 19:46:32 @monitor.py:467]\u001b[0m GAN_loss/discrim/accuracy_fake: 0.955\n",
      "\u001b[32m[0707 19:46:32 @monitor.py:467]\u001b[0m GAN_loss/discrim/accuracy_real: 0.16\n",
      "\u001b[32m[0707 19:46:32 @monitor.py:467]\u001b[0m GAN_loss/discrim/loss: 0.6326\n",
      "\u001b[32m[0707 19:46:32 @monitor.py:467]\u001b[0m GAN_loss/gen/final-g-loss: 1.0745\n",
      "\u001b[32m[0707 19:46:32 @monitor.py:467]\u001b[0m GAN_loss/gen/klloss: 0.10534\n",
      "\u001b[32m[0707 19:46:32 @monitor.py:467]\u001b[0m GAN_loss/gen/loss: 0.96917\n",
      "\u001b[32m[0707 19:46:32 @monitor.py:467]\u001b[0m QueueInput/queue_size: 50\n",
      "\u001b[32m[0707 19:46:32 @base.py:275]\u001b[0m Start Epoch 13 ...\n"
     ]
    },
    {
     "name": "stderr",
     "output_type": "stream",
     "text": [
      "\n",
      "100%|##########|2000/2000[03:54<00:00, 8.36it/s]"
     ]
    },
    {
     "name": "stdout",
     "output_type": "stream",
     "text": [
      "\u001b[32m[0707 19:50:27 @base.py:285]\u001b[0m Epoch 13 (global_step 26000) finished, time:3 minutes 54 seconds.\n",
      "\u001b[32m[0707 19:50:27 @saver.py:79]\u001b[0m Model saved to output/model/model-26000.\n",
      "\u001b[32m[0707 19:50:27 @monitor.py:467]\u001b[0m GAN_loss/discrim/accuracy_fake: 0.9\n",
      "\u001b[32m[0707 19:50:27 @monitor.py:467]\u001b[0m GAN_loss/discrim/accuracy_real: 0.165\n",
      "\u001b[32m[0707 19:50:27 @monitor.py:467]\u001b[0m GAN_loss/discrim/loss: 0.63932\n",
      "\u001b[32m[0707 19:50:27 @monitor.py:467]\u001b[0m GAN_loss/gen/final-g-loss: 1.0507\n",
      "\u001b[32m[0707 19:50:27 @monitor.py:467]\u001b[0m GAN_loss/gen/klloss: 0.089852\n",
      "\u001b[32m[0707 19:50:27 @monitor.py:467]\u001b[0m GAN_loss/gen/loss: 0.96082\n",
      "\u001b[32m[0707 19:50:27 @monitor.py:467]\u001b[0m QueueInput/queue_size: 50\n",
      "\u001b[32m[0707 19:50:27 @base.py:275]\u001b[0m Start Epoch 14 ...\n"
     ]
    },
    {
     "name": "stderr",
     "output_type": "stream",
     "text": [
      "\n",
      "100%|##########|2000/2000[03:56<00:00, 8.45it/s]"
     ]
    },
    {
     "name": "stdout",
     "output_type": "stream",
     "text": [
      "\u001b[32m[0707 19:54:23 @base.py:285]\u001b[0m Epoch 14 (global_step 28000) finished, time:3 minutes 56 seconds.\n",
      "\u001b[32m[0707 19:54:23 @saver.py:79]\u001b[0m Model saved to output/model/model-28000.\n",
      "\u001b[32m[0707 19:54:23 @monitor.py:467]\u001b[0m GAN_loss/discrim/accuracy_fake: 0.9\n",
      "\u001b[32m[0707 19:54:23 @monitor.py:467]\u001b[0m GAN_loss/discrim/accuracy_real: 0.175\n",
      "\u001b[32m[0707 19:54:23 @monitor.py:467]\u001b[0m GAN_loss/discrim/loss: 0.64011\n",
      "\u001b[32m[0707 19:54:23 @monitor.py:467]\u001b[0m GAN_loss/gen/final-g-loss: 1.0473\n",
      "\u001b[32m[0707 19:54:23 @monitor.py:467]\u001b[0m GAN_loss/gen/klloss: 0.087441\n",
      "\u001b[32m[0707 19:54:23 @monitor.py:467]\u001b[0m GAN_loss/gen/loss: 0.95985\n",
      "\u001b[32m[0707 19:54:23 @monitor.py:467]\u001b[0m QueueInput/queue_size: 50\n",
      "\u001b[32m[0707 19:54:23 @base.py:275]\u001b[0m Start Epoch 15 ...\n"
     ]
    },
    {
     "name": "stderr",
     "output_type": "stream",
     "text": [
      "\n",
      "100%|##########|2000/2000[03:54<00:00, 8.32it/s]"
     ]
    },
    {
     "name": "stdout",
     "output_type": "stream",
     "text": [
      "\u001b[32m[0707 19:58:18 @base.py:285]\u001b[0m Epoch 15 (global_step 30000) finished, time:3 minutes 54 seconds.\n",
      "\u001b[32m[0707 19:58:18 @saver.py:79]\u001b[0m Model saved to output/model/model-30000.\n",
      "\u001b[32m[0707 19:58:18 @monitor.py:467]\u001b[0m GAN_loss/discrim/accuracy_fake: 0.915\n",
      "\u001b[32m[0707 19:58:18 @monitor.py:467]\u001b[0m GAN_loss/discrim/accuracy_real: 0.14\n",
      "\u001b[32m[0707 19:58:18 @monitor.py:467]\u001b[0m GAN_loss/discrim/loss: 0.64222\n",
      "\u001b[32m[0707 19:58:18 @monitor.py:467]\u001b[0m GAN_loss/gen/final-g-loss: 1.0382\n",
      "\u001b[32m[0707 19:58:18 @monitor.py:467]\u001b[0m GAN_loss/gen/klloss: 0.081866\n",
      "\u001b[32m[0707 19:58:18 @monitor.py:467]\u001b[0m GAN_loss/gen/loss: 0.95637\n",
      "\u001b[32m[0707 19:58:18 @monitor.py:467]\u001b[0m QueueInput/queue_size: 50\n",
      "\u001b[32m[0707 19:58:18 @base.py:275]\u001b[0m Start Epoch 16 ...\n"
     ]
    },
    {
     "name": "stderr",
     "output_type": "stream",
     "text": [
      "\n",
      "100%|##########|2000/2000[03:55<00:00, 8.49it/s]"
     ]
    },
    {
     "name": "stdout",
     "output_type": "stream",
     "text": [
      "\u001b[32m[0707 20:02:14 @base.py:285]\u001b[0m Epoch 16 (global_step 32000) finished, time:3 minutes 55 seconds.\n",
      "\u001b[32m[0707 20:02:14 @saver.py:79]\u001b[0m Model saved to output/model/model-32000.\n",
      "\u001b[32m[0707 20:02:14 @monitor.py:467]\u001b[0m GAN_loss/discrim/accuracy_fake: 0.94\n",
      "\u001b[32m[0707 20:02:14 @monitor.py:467]\u001b[0m GAN_loss/discrim/accuracy_real: 0.13\n",
      "\u001b[32m[0707 20:02:14 @monitor.py:467]\u001b[0m GAN_loss/discrim/loss: 0.63847\n",
      "\u001b[32m[0707 20:02:14 @monitor.py:467]\u001b[0m GAN_loss/gen/final-g-loss: 1.0597\n",
      "\u001b[32m[0707 20:02:14 @monitor.py:467]\u001b[0m GAN_loss/gen/klloss: 0.10204\n",
      "\u001b[32m[0707 20:02:14 @monitor.py:467]\u001b[0m GAN_loss/gen/loss: 0.95767\n",
      "\u001b[32m[0707 20:02:14 @monitor.py:467]\u001b[0m QueueInput/queue_size: 50\n",
      "\u001b[32m[0707 20:02:14 @base.py:275]\u001b[0m Start Epoch 17 ...\n"
     ]
    },
    {
     "name": "stderr",
     "output_type": "stream",
     "text": [
      "\n",
      "100%|##########|2000/2000[03:57<00:00, 8.43it/s]"
     ]
    },
    {
     "name": "stdout",
     "output_type": "stream",
     "text": [
      "\u001b[32m[0707 20:06:11 @base.py:285]\u001b[0m Epoch 17 (global_step 34000) finished, time:3 minutes 57 seconds.\n",
      "\u001b[32m[0707 20:06:11 @saver.py:79]\u001b[0m Model saved to output/model/model-34000.\n",
      "\u001b[32m[0707 20:06:11 @monitor.py:467]\u001b[0m GAN_loss/discrim/accuracy_fake: 0.87\n",
      "\u001b[32m[0707 20:06:11 @monitor.py:467]\u001b[0m GAN_loss/discrim/accuracy_real: 0.16\n",
      "\u001b[32m[0707 20:06:11 @monitor.py:467]\u001b[0m GAN_loss/discrim/loss: 0.6539\n",
      "\u001b[32m[0707 20:06:11 @monitor.py:467]\u001b[0m GAN_loss/gen/final-g-loss: 1.0462\n",
      "\u001b[32m[0707 20:06:11 @monitor.py:467]\u001b[0m GAN_loss/gen/klloss: 0.12191\n",
      "\u001b[32m[0707 20:06:11 @monitor.py:467]\u001b[0m GAN_loss/gen/loss: 0.92433\n",
      "\u001b[32m[0707 20:06:11 @monitor.py:467]\u001b[0m QueueInput/queue_size: 50\n",
      "\u001b[32m[0707 20:06:11 @base.py:275]\u001b[0m Start Epoch 18 ...\n"
     ]
    },
    {
     "name": "stderr",
     "output_type": "stream",
     "text": [
      "\n",
      "100%|##########|2000/2000[03:54<00:00, 8.67it/s]"
     ]
    },
    {
     "name": "stdout",
     "output_type": "stream",
     "text": [
      "\u001b[32m[0707 20:10:05 @base.py:285]\u001b[0m Epoch 18 (global_step 36000) finished, time:3 minutes 54 seconds.\n",
      "\u001b[32m[0707 20:10:05 @saver.py:79]\u001b[0m Model saved to output/model/model-36000.\n",
      "\u001b[32m[0707 20:10:05 @monitor.py:467]\u001b[0m GAN_loss/discrim/accuracy_fake: 0.92\n",
      "\u001b[32m[0707 20:10:05 @monitor.py:467]\u001b[0m GAN_loss/discrim/accuracy_real: 0.12\n",
      "\u001b[32m[0707 20:10:05 @monitor.py:467]\u001b[0m GAN_loss/discrim/loss: 0.65441\n",
      "\u001b[32m[0707 20:10:05 @monitor.py:467]\u001b[0m GAN_loss/gen/final-g-loss: 1.0551\n",
      "\u001b[32m[0707 20:10:05 @monitor.py:467]\u001b[0m GAN_loss/gen/klloss: 0.10758\n",
      "\u001b[32m[0707 20:10:05 @monitor.py:467]\u001b[0m GAN_loss/gen/loss: 0.94752\n",
      "\u001b[32m[0707 20:10:05 @monitor.py:467]\u001b[0m QueueInput/queue_size: 50\n",
      "\u001b[32m[0707 20:10:05 @base.py:275]\u001b[0m Start Epoch 19 ...\n"
     ]
    },
    {
     "name": "stderr",
     "output_type": "stream",
     "text": [
      "\n",
      "100%|##########|2000/2000[03:55<00:00, 8.51it/s]"
     ]
    },
    {
     "name": "stdout",
     "output_type": "stream",
     "text": [
      "\u001b[32m[0707 20:14:01 @base.py:285]\u001b[0m Epoch 19 (global_step 38000) finished, time:3 minutes 55 seconds.\n",
      "\u001b[32m[0707 20:14:01 @saver.py:79]\u001b[0m Model saved to output/model/model-38000.\n",
      "\u001b[32m[0707 20:14:01 @monitor.py:467]\u001b[0m GAN_loss/discrim/accuracy_fake: 0.91\n",
      "\u001b[32m[0707 20:14:01 @monitor.py:467]\u001b[0m GAN_loss/discrim/accuracy_real: 0.155\n",
      "\u001b[32m[0707 20:14:01 @monitor.py:467]\u001b[0m GAN_loss/discrim/loss: 0.63921\n",
      "\u001b[32m[0707 20:14:01 @monitor.py:467]\u001b[0m GAN_loss/gen/final-g-loss: 1.0533\n",
      "\u001b[32m[0707 20:14:01 @monitor.py:467]\u001b[0m GAN_loss/gen/klloss: 0.090003\n",
      "\u001b[32m[0707 20:14:01 @monitor.py:467]\u001b[0m GAN_loss/gen/loss: 0.96326\n",
      "\u001b[32m[0707 20:14:01 @monitor.py:467]\u001b[0m QueueInput/queue_size: 50\n",
      "\u001b[32m[0707 20:14:01 @base.py:275]\u001b[0m Start Epoch 20 ...\n"
     ]
    },
    {
     "name": "stderr",
     "output_type": "stream",
     "text": [
      "\n",
      "100%|##########|2000/2000[03:54<00:00, 8.49it/s]"
     ]
    },
    {
     "name": "stdout",
     "output_type": "stream",
     "text": [
      "\u001b[32m[0707 20:17:55 @base.py:285]\u001b[0m Epoch 20 (global_step 40000) finished, time:3 minutes 54 seconds.\n",
      "\u001b[32m[0707 20:17:55 @saver.py:79]\u001b[0m Model saved to output/model/model-40000.\n",
      "\u001b[32m[0707 20:17:55 @monitor.py:467]\u001b[0m GAN_loss/discrim/accuracy_fake: 0.915\n",
      "\u001b[32m[0707 20:17:55 @monitor.py:467]\u001b[0m GAN_loss/discrim/accuracy_real: 0.145\n",
      "\u001b[32m[0707 20:17:55 @monitor.py:467]\u001b[0m GAN_loss/discrim/loss: 0.64574\n",
      "\u001b[32m[0707 20:17:55 @monitor.py:467]\u001b[0m GAN_loss/gen/final-g-loss: 1.0498\n",
      "\u001b[32m[0707 20:17:55 @monitor.py:467]\u001b[0m GAN_loss/gen/klloss: 0.083839\n",
      "\u001b[32m[0707 20:17:55 @monitor.py:467]\u001b[0m GAN_loss/gen/loss: 0.96594\n",
      "\u001b[32m[0707 20:17:55 @monitor.py:467]\u001b[0m QueueInput/queue_size: 50\n",
      "\u001b[32m[0707 20:17:55 @base.py:275]\u001b[0m Start Epoch 21 ...\n"
     ]
    },
    {
     "name": "stderr",
     "output_type": "stream",
     "text": [
      "\n",
      "100%|##########|2000/2000[03:54<00:00, 8.47it/s]"
     ]
    },
    {
     "name": "stdout",
     "output_type": "stream",
     "text": [
      "\u001b[32m[0707 20:21:50 @base.py:285]\u001b[0m Epoch 21 (global_step 42000) finished, time:3 minutes 54 seconds.\n",
      "\u001b[32m[0707 20:21:50 @saver.py:79]\u001b[0m Model saved to output/model/model-42000.\n",
      "\u001b[32m[0707 20:21:50 @monitor.py:467]\u001b[0m GAN_loss/discrim/accuracy_fake: 0.915\n",
      "\u001b[32m[0707 20:21:50 @monitor.py:467]\u001b[0m GAN_loss/discrim/accuracy_real: 0.155\n",
      "\u001b[32m[0707 20:21:50 @monitor.py:467]\u001b[0m GAN_loss/discrim/loss: 0.64388\n",
      "\u001b[32m[0707 20:21:50 @monitor.py:467]\u001b[0m GAN_loss/gen/final-g-loss: 1.0381\n",
      "\u001b[32m[0707 20:21:50 @monitor.py:467]\u001b[0m GAN_loss/gen/klloss: 0.10081\n",
      "\u001b[32m[0707 20:21:50 @monitor.py:467]\u001b[0m GAN_loss/gen/loss: 0.93732\n",
      "\u001b[32m[0707 20:21:50 @monitor.py:467]\u001b[0m QueueInput/queue_size: 50\n",
      "\u001b[32m[0707 20:21:50 @base.py:275]\u001b[0m Start Epoch 22 ...\n"
     ]
    },
    {
     "name": "stderr",
     "output_type": "stream",
     "text": [
      "\n",
      "100%|##########|2000/2000[03:56<00:00, 8.46it/s]"
     ]
    },
    {
     "name": "stdout",
     "output_type": "stream",
     "text": [
      "\u001b[32m[0707 20:25:46 @base.py:285]\u001b[0m Epoch 22 (global_step 44000) finished, time:3 minutes 56 seconds.\n",
      "\u001b[32m[0707 20:25:46 @saver.py:79]\u001b[0m Model saved to output/model/model-44000.\n",
      "\u001b[32m[0707 20:25:46 @monitor.py:467]\u001b[0m GAN_loss/discrim/accuracy_fake: 0.92\n",
      "\u001b[32m[0707 20:25:46 @monitor.py:467]\u001b[0m GAN_loss/discrim/accuracy_real: 0.135\n",
      "\u001b[32m[0707 20:25:46 @monitor.py:467]\u001b[0m GAN_loss/discrim/loss: 0.65091\n",
      "\u001b[32m[0707 20:25:46 @monitor.py:467]\u001b[0m GAN_loss/gen/final-g-loss: 1.0721\n",
      "\u001b[32m[0707 20:25:46 @monitor.py:467]\u001b[0m GAN_loss/gen/klloss: 0.11991\n",
      "\u001b[32m[0707 20:25:46 @monitor.py:467]\u001b[0m GAN_loss/gen/loss: 0.95218\n",
      "\u001b[32m[0707 20:25:46 @monitor.py:467]\u001b[0m QueueInput/queue_size: 50\n",
      "\u001b[32m[0707 20:25:46 @base.py:275]\u001b[0m Start Epoch 23 ...\n"
     ]
    },
    {
     "name": "stderr",
     "output_type": "stream",
     "text": [
      "\n",
      "100%|##########|2000/2000[03:54<00:00, 8.53it/s]"
     ]
    },
    {
     "name": "stdout",
     "output_type": "stream",
     "text": [
      "\u001b[32m[0707 20:29:41 @base.py:285]\u001b[0m Epoch 23 (global_step 46000) finished, time:3 minutes 54 seconds.\n",
      "\u001b[32m[0707 20:29:41 @saver.py:79]\u001b[0m Model saved to output/model/model-46000.\n",
      "\u001b[32m[0707 20:29:41 @monitor.py:467]\u001b[0m GAN_loss/discrim/accuracy_fake: 0.895\n",
      "\u001b[32m[0707 20:29:41 @monitor.py:467]\u001b[0m GAN_loss/discrim/accuracy_real: 0.17\n",
      "\u001b[32m[0707 20:29:41 @monitor.py:467]\u001b[0m GAN_loss/discrim/loss: 0.65157\n",
      "\u001b[32m[0707 20:29:41 @monitor.py:467]\u001b[0m GAN_loss/gen/final-g-loss: 1.0427\n",
      "\u001b[32m[0707 20:29:41 @monitor.py:467]\u001b[0m GAN_loss/gen/klloss: 0.08786\n",
      "\u001b[32m[0707 20:29:41 @monitor.py:467]\u001b[0m GAN_loss/gen/loss: 0.95483\n",
      "\u001b[32m[0707 20:29:41 @monitor.py:467]\u001b[0m QueueInput/queue_size: 50\n",
      "\u001b[32m[0707 20:29:41 @base.py:275]\u001b[0m Start Epoch 24 ...\n"
     ]
    },
    {
     "name": "stderr",
     "output_type": "stream",
     "text": [
      "\n",
      "100%|##########|2000/2000[03:54<00:00, 8.58it/s]"
     ]
    },
    {
     "name": "stdout",
     "output_type": "stream",
     "text": [
      "\u001b[32m[0707 20:33:35 @base.py:285]\u001b[0m Epoch 24 (global_step 48000) finished, time:3 minutes 54 seconds.\n",
      "\u001b[32m[0707 20:33:35 @saver.py:79]\u001b[0m Model saved to output/model/model-48000.\n",
      "\u001b[32m[0707 20:33:35 @monitor.py:467]\u001b[0m GAN_loss/discrim/accuracy_fake: 0.945\n",
      "\u001b[32m[0707 20:33:35 @monitor.py:467]\u001b[0m GAN_loss/discrim/accuracy_real: 0.17\n",
      "\u001b[32m[0707 20:33:35 @monitor.py:467]\u001b[0m GAN_loss/discrim/loss: 0.6475\n",
      "\u001b[32m[0707 20:33:35 @monitor.py:467]\u001b[0m GAN_loss/gen/final-g-loss: 1.05\n",
      "\u001b[32m[0707 20:33:35 @monitor.py:467]\u001b[0m GAN_loss/gen/klloss: 0.091386\n",
      "\u001b[32m[0707 20:33:35 @monitor.py:467]\u001b[0m GAN_loss/gen/loss: 0.95862\n",
      "\u001b[32m[0707 20:33:35 @monitor.py:467]\u001b[0m QueueInput/queue_size: 50\n",
      "\u001b[32m[0707 20:33:35 @base.py:275]\u001b[0m Start Epoch 25 ...\n"
     ]
    },
    {
     "name": "stderr",
     "output_type": "stream",
     "text": [
      "\n",
      "100%|##########|2000/2000[03:55<00:00, 8.43it/s]"
     ]
    },
    {
     "name": "stdout",
     "output_type": "stream",
     "text": [
      "\u001b[32m[0707 20:37:30 @base.py:285]\u001b[0m Epoch 25 (global_step 50000) finished, time:3 minutes 55 seconds.\n",
      "\u001b[32m[0707 20:37:30 @saver.py:79]\u001b[0m Model saved to output/model/model-50000.\n",
      "\u001b[32m[0707 20:37:30 @monitor.py:467]\u001b[0m GAN_loss/discrim/accuracy_fake: 0.885\n",
      "\u001b[32m[0707 20:37:30 @monitor.py:467]\u001b[0m GAN_loss/discrim/accuracy_real: 0.15\n",
      "\u001b[32m[0707 20:37:30 @monitor.py:467]\u001b[0m GAN_loss/discrim/loss: 0.64071\n",
      "\u001b[32m[0707 20:37:30 @monitor.py:467]\u001b[0m GAN_loss/gen/final-g-loss: 1.0494\n",
      "\u001b[32m[0707 20:37:30 @monitor.py:467]\u001b[0m GAN_loss/gen/klloss: 0.089082\n",
      "\u001b[32m[0707 20:37:30 @monitor.py:467]\u001b[0m GAN_loss/gen/loss: 0.9603\n",
      "\u001b[32m[0707 20:37:30 @monitor.py:467]\u001b[0m QueueInput/queue_size: 50\n",
      "\u001b[32m[0707 20:37:30 @base.py:275]\u001b[0m Start Epoch 26 ...\n"
     ]
    },
    {
     "name": "stderr",
     "output_type": "stream",
     "text": [
      "\n",
      "100%|##########|2000/2000[03:54<00:00, 8.46it/s]"
     ]
    },
    {
     "name": "stdout",
     "output_type": "stream",
     "text": [
      "\u001b[32m[0707 20:41:25 @base.py:285]\u001b[0m Epoch 26 (global_step 52000) finished, time:3 minutes 54 seconds.\n",
      "\u001b[32m[0707 20:41:25 @saver.py:79]\u001b[0m Model saved to output/model/model-52000.\n",
      "\u001b[32m[0707 20:41:25 @monitor.py:467]\u001b[0m GAN_loss/discrim/accuracy_fake: 0.885\n",
      "\u001b[32m[0707 20:41:25 @monitor.py:467]\u001b[0m GAN_loss/discrim/accuracy_real: 0.18\n",
      "\u001b[32m[0707 20:41:25 @monitor.py:467]\u001b[0m GAN_loss/discrim/loss: 0.64461\n",
      "\u001b[32m[0707 20:41:25 @monitor.py:467]\u001b[0m GAN_loss/gen/final-g-loss: 1.0174\n",
      "\u001b[32m[0707 20:41:25 @monitor.py:467]\u001b[0m GAN_loss/gen/klloss: 0.07852\n",
      "\u001b[32m[0707 20:41:25 @monitor.py:467]\u001b[0m GAN_loss/gen/loss: 0.93889\n",
      "\u001b[32m[0707 20:41:25 @monitor.py:467]\u001b[0m QueueInput/queue_size: 50\n",
      "\u001b[32m[0707 20:41:25 @base.py:275]\u001b[0m Start Epoch 27 ...\n"
     ]
    },
    {
     "name": "stderr",
     "output_type": "stream",
     "text": [
      "\n",
      "100%|##########|2000/2000[03:56<00:00, 8.40it/s]"
     ]
    },
    {
     "name": "stdout",
     "output_type": "stream",
     "text": [
      "\u001b[32m[0707 20:45:21 @base.py:285]\u001b[0m Epoch 27 (global_step 54000) finished, time:3 minutes 56 seconds.\n",
      "\u001b[32m[0707 20:45:21 @saver.py:79]\u001b[0m Model saved to output/model/model-54000.\n",
      "\u001b[32m[0707 20:45:21 @monitor.py:467]\u001b[0m GAN_loss/discrim/accuracy_fake: 0.925\n",
      "\u001b[32m[0707 20:45:21 @monitor.py:467]\u001b[0m GAN_loss/discrim/accuracy_real: 0.2\n",
      "\u001b[32m[0707 20:45:21 @monitor.py:467]\u001b[0m GAN_loss/discrim/loss: 0.63309\n",
      "\u001b[32m[0707 20:45:21 @monitor.py:467]\u001b[0m GAN_loss/gen/final-g-loss: 1.0607\n",
      "\u001b[32m[0707 20:45:21 @monitor.py:467]\u001b[0m GAN_loss/gen/klloss: 0.099821\n",
      "\u001b[32m[0707 20:45:21 @monitor.py:467]\u001b[0m GAN_loss/gen/loss: 0.96084\n",
      "\u001b[32m[0707 20:45:21 @monitor.py:467]\u001b[0m QueueInput/queue_size: 50\n",
      "\u001b[32m[0707 20:45:21 @base.py:275]\u001b[0m Start Epoch 28 ...\n"
     ]
    },
    {
     "name": "stderr",
     "output_type": "stream",
     "text": [
      "\n",
      "100%|##########|2000/2000[03:54<00:00, 8.47it/s]"
     ]
    },
    {
     "name": "stdout",
     "output_type": "stream",
     "text": [
      "\u001b[32m[0707 20:49:16 @base.py:285]\u001b[0m Epoch 28 (global_step 56000) finished, time:3 minutes 54 seconds.\n",
      "\u001b[32m[0707 20:49:16 @saver.py:79]\u001b[0m Model saved to output/model/model-56000.\n",
      "\u001b[32m[0707 20:49:16 @monitor.py:467]\u001b[0m GAN_loss/discrim/accuracy_fake: 0.915\n",
      "\u001b[32m[0707 20:49:16 @monitor.py:467]\u001b[0m GAN_loss/discrim/accuracy_real: 0.155\n",
      "\u001b[32m[0707 20:49:16 @monitor.py:467]\u001b[0m GAN_loss/discrim/loss: 0.646\n",
      "\u001b[32m[0707 20:49:16 @monitor.py:467]\u001b[0m GAN_loss/gen/final-g-loss: 1.0763\n",
      "\u001b[32m[0707 20:49:16 @monitor.py:467]\u001b[0m GAN_loss/gen/klloss: 0.095545\n",
      "\u001b[32m[0707 20:49:16 @monitor.py:467]\u001b[0m GAN_loss/gen/loss: 0.98073\n",
      "\u001b[32m[0707 20:49:16 @monitor.py:467]\u001b[0m QueueInput/queue_size: 50\n",
      "\u001b[32m[0707 20:49:16 @base.py:275]\u001b[0m Start Epoch 29 ...\n"
     ]
    },
    {
     "name": "stderr",
     "output_type": "stream",
     "text": [
      "\n",
      "100%|##########|2000/2000[03:55<00:00, 8.50it/s]"
     ]
    },
    {
     "name": "stdout",
     "output_type": "stream",
     "text": [
      "\u001b[32m[0707 20:53:11 @base.py:285]\u001b[0m Epoch 29 (global_step 58000) finished, time:3 minutes 55 seconds.\n",
      "\u001b[32m[0707 20:53:11 @saver.py:79]\u001b[0m Model saved to output/model/model-58000.\n",
      "\u001b[32m[0707 20:53:11 @monitor.py:467]\u001b[0m GAN_loss/discrim/accuracy_fake: 0.92\n",
      "\u001b[32m[0707 20:53:11 @monitor.py:467]\u001b[0m GAN_loss/discrim/accuracy_real: 0.12\n",
      "\u001b[32m[0707 20:53:11 @monitor.py:467]\u001b[0m GAN_loss/discrim/loss: 0.64577\n",
      "\u001b[32m[0707 20:53:11 @monitor.py:467]\u001b[0m GAN_loss/gen/final-g-loss: 1.0156\n",
      "\u001b[32m[0707 20:53:11 @monitor.py:467]\u001b[0m GAN_loss/gen/klloss: 0.065006\n",
      "\u001b[32m[0707 20:53:11 @monitor.py:467]\u001b[0m GAN_loss/gen/loss: 0.95061\n",
      "\u001b[32m[0707 20:53:11 @monitor.py:467]\u001b[0m QueueInput/queue_size: 50\n",
      "\u001b[32m[0707 20:53:11 @base.py:275]\u001b[0m Start Epoch 30 ...\n"
     ]
    },
    {
     "name": "stderr",
     "output_type": "stream",
     "text": [
      "\n",
      "100%|##########|2000/2000[03:54<00:00, 8.52it/s]"
     ]
    },
    {
     "name": "stdout",
     "output_type": "stream",
     "text": [
      "\u001b[32m[0707 20:57:06 @base.py:285]\u001b[0m Epoch 30 (global_step 60000) finished, time:3 minutes 54 seconds.\n",
      "\u001b[32m[0707 20:57:06 @saver.py:79]\u001b[0m Model saved to output/model/model-60000.\n",
      "\u001b[32m[0707 20:57:06 @monitor.py:467]\u001b[0m GAN_loss/discrim/accuracy_fake: 0.92\n",
      "\u001b[32m[0707 20:57:06 @monitor.py:467]\u001b[0m GAN_loss/discrim/accuracy_real: 0.155\n",
      "\u001b[32m[0707 20:57:06 @monitor.py:467]\u001b[0m GAN_loss/discrim/loss: 0.64235\n",
      "\u001b[32m[0707 20:57:06 @monitor.py:467]\u001b[0m GAN_loss/gen/final-g-loss: 1.0679\n",
      "\u001b[32m[0707 20:57:06 @monitor.py:467]\u001b[0m GAN_loss/gen/klloss: 0.095549\n",
      "\u001b[32m[0707 20:57:06 @monitor.py:467]\u001b[0m GAN_loss/gen/loss: 0.97231\n",
      "\u001b[32m[0707 20:57:06 @monitor.py:467]\u001b[0m QueueInput/queue_size: 50\n",
      "\u001b[32m[0707 20:57:06 @base.py:275]\u001b[0m Start Epoch 31 ...\n"
     ]
    },
    {
     "name": "stderr",
     "output_type": "stream",
     "text": [
      "\n",
      "100%|##########|2000/2000[03:54<00:00, 8.53it/s]"
     ]
    },
    {
     "name": "stdout",
     "output_type": "stream",
     "text": [
      "\u001b[32m[0707 21:01:01 @base.py:285]\u001b[0m Epoch 31 (global_step 62000) finished, time:3 minutes 54 seconds.\n",
      "\u001b[32m[0707 21:01:01 @saver.py:79]\u001b[0m Model saved to output/model/model-62000.\n",
      "\u001b[32m[0707 21:01:01 @monitor.py:467]\u001b[0m GAN_loss/discrim/accuracy_fake: 0.91\n",
      "\u001b[32m[0707 21:01:01 @monitor.py:467]\u001b[0m GAN_loss/discrim/accuracy_real: 0.155\n",
      "\u001b[32m[0707 21:01:01 @monitor.py:467]\u001b[0m GAN_loss/discrim/loss: 0.63969\n",
      "\u001b[32m[0707 21:01:01 @monitor.py:467]\u001b[0m GAN_loss/gen/final-g-loss: 1.0537\n",
      "\u001b[32m[0707 21:01:01 @monitor.py:467]\u001b[0m GAN_loss/gen/klloss: 0.1001\n",
      "\u001b[32m[0707 21:01:01 @monitor.py:467]\u001b[0m GAN_loss/gen/loss: 0.95361\n",
      "\u001b[32m[0707 21:01:01 @monitor.py:467]\u001b[0m QueueInput/queue_size: 50\n",
      "\u001b[32m[0707 21:01:01 @base.py:275]\u001b[0m Start Epoch 32 ...\n"
     ]
    },
    {
     "name": "stderr",
     "output_type": "stream",
     "text": [
      "\n",
      "100%|##########|2000/2000[03:56<00:00, 8.57it/s]"
     ]
    },
    {
     "name": "stdout",
     "output_type": "stream",
     "text": [
      "\u001b[32m[0707 21:04:57 @base.py:285]\u001b[0m Epoch 32 (global_step 64000) finished, time:3 minutes 56 seconds.\n",
      "\u001b[32m[0707 21:04:57 @saver.py:79]\u001b[0m Model saved to output/model/model-64000.\n",
      "\u001b[32m[0707 21:04:57 @monitor.py:467]\u001b[0m GAN_loss/discrim/accuracy_fake: 0.925\n",
      "\u001b[32m[0707 21:04:57 @monitor.py:467]\u001b[0m GAN_loss/discrim/accuracy_real: 0.175\n",
      "\u001b[32m[0707 21:04:57 @monitor.py:467]\u001b[0m GAN_loss/discrim/loss: 0.64116\n",
      "\u001b[32m[0707 21:04:57 @monitor.py:467]\u001b[0m GAN_loss/gen/final-g-loss: 1.037\n",
      "\u001b[32m[0707 21:04:57 @monitor.py:467]\u001b[0m GAN_loss/gen/klloss: 0.079344\n",
      "\u001b[32m[0707 21:04:57 @monitor.py:467]\u001b[0m GAN_loss/gen/loss: 0.95764\n",
      "\u001b[32m[0707 21:04:57 @monitor.py:467]\u001b[0m QueueInput/queue_size: 50\n",
      "\u001b[32m[0707 21:04:57 @base.py:275]\u001b[0m Start Epoch 33 ...\n"
     ]
    },
    {
     "name": "stderr",
     "output_type": "stream",
     "text": [
      "\n",
      "100%|##########|2000/2000[03:54<00:00, 8.52it/s]"
     ]
    },
    {
     "name": "stdout",
     "output_type": "stream",
     "text": [
      "\u001b[32m[0707 21:08:52 @base.py:285]\u001b[0m Epoch 33 (global_step 66000) finished, time:3 minutes 54 seconds.\n",
      "\u001b[32m[0707 21:08:52 @saver.py:79]\u001b[0m Model saved to output/model/model-66000.\n",
      "\u001b[32m[0707 21:08:52 @monitor.py:467]\u001b[0m GAN_loss/discrim/accuracy_fake: 0.91\n",
      "\u001b[32m[0707 21:08:52 @monitor.py:467]\u001b[0m GAN_loss/discrim/accuracy_real: 0.13\n",
      "\u001b[32m[0707 21:08:52 @monitor.py:467]\u001b[0m GAN_loss/discrim/loss: 0.65865\n",
      "\u001b[32m[0707 21:08:52 @monitor.py:467]\u001b[0m GAN_loss/gen/final-g-loss: 1.0358\n",
      "\u001b[32m[0707 21:08:52 @monitor.py:467]\u001b[0m GAN_loss/gen/klloss: 0.089534\n",
      "\u001b[32m[0707 21:08:52 @monitor.py:467]\u001b[0m GAN_loss/gen/loss: 0.94626\n",
      "\u001b[32m[0707 21:08:52 @monitor.py:467]\u001b[0m QueueInput/queue_size: 50\n",
      "\u001b[32m[0707 21:08:52 @base.py:275]\u001b[0m Start Epoch 34 ...\n"
     ]
    },
    {
     "name": "stderr",
     "output_type": "stream",
     "text": [
      "\n",
      "100%|##########|2000/2000[03:54<00:00, 8.68it/s]"
     ]
    },
    {
     "name": "stdout",
     "output_type": "stream",
     "text": [
      "\u001b[32m[0707 21:12:46 @base.py:285]\u001b[0m Epoch 34 (global_step 68000) finished, time:3 minutes 54 seconds.\n",
      "\u001b[32m[0707 21:12:46 @saver.py:79]\u001b[0m Model saved to output/model/model-68000.\n",
      "\u001b[32m[0707 21:12:46 @monitor.py:467]\u001b[0m GAN_loss/discrim/accuracy_fake: 0.94\n",
      "\u001b[32m[0707 21:12:46 @monitor.py:467]\u001b[0m GAN_loss/discrim/accuracy_real: 0.155\n",
      "\u001b[32m[0707 21:12:46 @monitor.py:467]\u001b[0m GAN_loss/discrim/loss: 0.64624\n",
      "\u001b[32m[0707 21:12:46 @monitor.py:467]\u001b[0m GAN_loss/gen/final-g-loss: 1.0436\n",
      "\u001b[32m[0707 21:12:46 @monitor.py:467]\u001b[0m GAN_loss/gen/klloss: 0.07825\n",
      "\u001b[32m[0707 21:12:46 @monitor.py:467]\u001b[0m GAN_loss/gen/loss: 0.96533\n",
      "\u001b[32m[0707 21:12:46 @monitor.py:467]\u001b[0m QueueInput/queue_size: 50\n",
      "\u001b[32m[0707 21:12:46 @base.py:275]\u001b[0m Start Epoch 35 ...\n"
     ]
    },
    {
     "name": "stderr",
     "output_type": "stream",
     "text": [
      "\n",
      "100%|##########|2000/2000[03:54<00:00, 8.51it/s]"
     ]
    },
    {
     "name": "stdout",
     "output_type": "stream",
     "text": [
      "\u001b[32m[0707 21:16:41 @base.py:285]\u001b[0m Epoch 35 (global_step 70000) finished, time:3 minutes 54 seconds.\n",
      "\u001b[32m[0707 21:16:41 @saver.py:79]\u001b[0m Model saved to output/model/model-70000.\n",
      "\u001b[32m[0707 21:16:41 @monitor.py:467]\u001b[0m GAN_loss/discrim/accuracy_fake: 0.935\n",
      "\u001b[32m[0707 21:16:41 @monitor.py:467]\u001b[0m GAN_loss/discrim/accuracy_real: 0.15\n",
      "\u001b[32m[0707 21:16:41 @monitor.py:467]\u001b[0m GAN_loss/discrim/loss: 0.65439\n",
      "\u001b[32m[0707 21:16:41 @monitor.py:467]\u001b[0m GAN_loss/gen/final-g-loss: 1.0515\n",
      "\u001b[32m[0707 21:16:41 @monitor.py:467]\u001b[0m GAN_loss/gen/klloss: 0.10901\n",
      "\u001b[32m[0707 21:16:41 @monitor.py:467]\u001b[0m GAN_loss/gen/loss: 0.94248\n",
      "\u001b[32m[0707 21:16:41 @monitor.py:467]\u001b[0m QueueInput/queue_size: 50\n",
      "\u001b[32m[0707 21:16:41 @base.py:275]\u001b[0m Start Epoch 36 ...\n"
     ]
    },
    {
     "name": "stderr",
     "output_type": "stream",
     "text": [
      "\n",
      "100%|##########|2000/2000[03:54<00:00, 8.53it/s]"
     ]
    },
    {
     "name": "stdout",
     "output_type": "stream",
     "text": [
      "\u001b[32m[0707 21:20:35 @base.py:285]\u001b[0m Epoch 36 (global_step 72000) finished, time:3 minutes 54 seconds.\n",
      "\u001b[32m[0707 21:20:35 @saver.py:79]\u001b[0m Model saved to output/model/model-72000.\n",
      "\u001b[32m[0707 21:20:35 @monitor.py:467]\u001b[0m GAN_loss/discrim/accuracy_fake: 0.95\n",
      "\u001b[32m[0707 21:20:35 @monitor.py:467]\u001b[0m GAN_loss/discrim/accuracy_real: 0.165\n",
      "\u001b[32m[0707 21:20:35 @monitor.py:467]\u001b[0m GAN_loss/discrim/loss: 0.64852\n",
      "\u001b[32m[0707 21:20:35 @monitor.py:467]\u001b[0m GAN_loss/gen/final-g-loss: 1.0661\n",
      "\u001b[32m[0707 21:20:35 @monitor.py:467]\u001b[0m GAN_loss/gen/klloss: 0.093923\n",
      "\u001b[32m[0707 21:20:35 @monitor.py:467]\u001b[0m GAN_loss/gen/loss: 0.97216\n",
      "\u001b[32m[0707 21:20:35 @monitor.py:467]\u001b[0m QueueInput/queue_size: 50\n",
      "\u001b[32m[0707 21:20:35 @base.py:275]\u001b[0m Start Epoch 37 ...\n"
     ]
    },
    {
     "name": "stderr",
     "output_type": "stream",
     "text": [
      "\n",
      "100%|##########|2000/2000[03:55<00:00, 8.48it/s]"
     ]
    },
    {
     "name": "stdout",
     "output_type": "stream",
     "text": [
      "\u001b[32m[0707 21:24:31 @base.py:285]\u001b[0m Epoch 37 (global_step 74000) finished, time:3 minutes 55 seconds.\n",
      "\u001b[32m[0707 21:24:31 @saver.py:79]\u001b[0m Model saved to output/model/model-74000.\n",
      "\u001b[32m[0707 21:24:31 @monitor.py:467]\u001b[0m GAN_loss/discrim/accuracy_fake: 0.955\n",
      "\u001b[32m[0707 21:24:31 @monitor.py:467]\u001b[0m GAN_loss/discrim/accuracy_real: 0.115\n",
      "\u001b[32m[0707 21:24:31 @monitor.py:467]\u001b[0m GAN_loss/discrim/loss: 0.6509\n",
      "\u001b[32m[0707 21:24:31 @monitor.py:467]\u001b[0m GAN_loss/gen/final-g-loss: 1.0462\n",
      "\u001b[32m[0707 21:24:31 @monitor.py:467]\u001b[0m GAN_loss/gen/klloss: 0.10289\n",
      "\u001b[32m[0707 21:24:31 @monitor.py:467]\u001b[0m GAN_loss/gen/loss: 0.94336\n",
      "\u001b[32m[0707 21:24:31 @monitor.py:467]\u001b[0m QueueInput/queue_size: 50\n",
      "\u001b[32m[0707 21:24:31 @base.py:275]\u001b[0m Start Epoch 38 ...\n"
     ]
    },
    {
     "name": "stderr",
     "output_type": "stream",
     "text": [
      "\n",
      "100%|##########|2000/2000[03:55<00:00, 8.47it/s]"
     ]
    },
    {
     "name": "stdout",
     "output_type": "stream",
     "text": [
      "\u001b[32m[0707 21:28:26 @base.py:285]\u001b[0m Epoch 38 (global_step 76000) finished, time:3 minutes 55 seconds.\n",
      "\u001b[32m[0707 21:28:26 @saver.py:79]\u001b[0m Model saved to output/model/model-76000.\n",
      "\u001b[32m[0707 21:28:26 @monitor.py:467]\u001b[0m GAN_loss/discrim/accuracy_fake: 0.93\n",
      "\u001b[32m[0707 21:28:26 @monitor.py:467]\u001b[0m GAN_loss/discrim/accuracy_real: 0.16\n",
      "\u001b[32m[0707 21:28:26 @monitor.py:467]\u001b[0m GAN_loss/discrim/loss: 0.64599\n",
      "\u001b[32m[0707 21:28:26 @monitor.py:467]\u001b[0m GAN_loss/gen/final-g-loss: 1.0449\n",
      "\u001b[32m[0707 21:28:26 @monitor.py:467]\u001b[0m GAN_loss/gen/klloss: 0.092355\n",
      "\u001b[32m[0707 21:28:26 @monitor.py:467]\u001b[0m GAN_loss/gen/loss: 0.95258\n",
      "\u001b[32m[0707 21:28:26 @monitor.py:467]\u001b[0m QueueInput/queue_size: 50\n",
      "\u001b[32m[0707 21:28:26 @base.py:275]\u001b[0m Start Epoch 39 ...\n"
     ]
    },
    {
     "name": "stderr",
     "output_type": "stream",
     "text": [
      "\n",
      "100%|##########|2000/2000[03:54<00:00, 8.74it/s]"
     ]
    },
    {
     "name": "stdout",
     "output_type": "stream",
     "text": [
      "\u001b[32m[0707 21:32:21 @base.py:285]\u001b[0m Epoch 39 (global_step 78000) finished, time:3 minutes 54 seconds.\n",
      "\u001b[32m[0707 21:32:21 @saver.py:79]\u001b[0m Model saved to output/model/model-78000.\n",
      "\u001b[32m[0707 21:32:21 @monitor.py:467]\u001b[0m GAN_loss/discrim/accuracy_fake: 0.91\n",
      "\u001b[32m[0707 21:32:21 @monitor.py:467]\u001b[0m GAN_loss/discrim/accuracy_real: 0.11\n",
      "\u001b[32m[0707 21:32:21 @monitor.py:467]\u001b[0m GAN_loss/discrim/loss: 0.64268\n",
      "\u001b[32m[0707 21:32:21 @monitor.py:467]\u001b[0m GAN_loss/gen/final-g-loss: 1.0379\n",
      "\u001b[32m[0707 21:32:21 @monitor.py:467]\u001b[0m GAN_loss/gen/klloss: 0.073609\n",
      "\u001b[32m[0707 21:32:21 @monitor.py:467]\u001b[0m GAN_loss/gen/loss: 0.96425\n",
      "\u001b[32m[0707 21:32:21 @monitor.py:467]\u001b[0m QueueInput/queue_size: 50\n",
      "\u001b[32m[0707 21:32:21 @base.py:275]\u001b[0m Start Epoch 40 ...\n"
     ]
    },
    {
     "name": "stderr",
     "output_type": "stream",
     "text": [
      "\n",
      "100%|##########|2000/2000[03:55<00:00, 8.51it/s]"
     ]
    },
    {
     "name": "stdout",
     "output_type": "stream",
     "text": [
      "\u001b[32m[0707 21:36:16 @base.py:285]\u001b[0m Epoch 40 (global_step 80000) finished, time:3 minutes 55 seconds.\n",
      "\u001b[32m[0707 21:36:16 @saver.py:79]\u001b[0m Model saved to output/model/model-80000.\n",
      "\u001b[32m[0707 21:36:16 @monitor.py:467]\u001b[0m GAN_loss/discrim/accuracy_fake: 0.925\n",
      "\u001b[32m[0707 21:36:16 @monitor.py:467]\u001b[0m GAN_loss/discrim/accuracy_real: 0.155\n",
      "\u001b[32m[0707 21:36:16 @monitor.py:467]\u001b[0m GAN_loss/discrim/loss: 0.63933\n",
      "\u001b[32m[0707 21:36:16 @monitor.py:467]\u001b[0m GAN_loss/gen/final-g-loss: 1.0424\n",
      "\u001b[32m[0707 21:36:16 @monitor.py:467]\u001b[0m GAN_loss/gen/klloss: 0.083914\n",
      "\u001b[32m[0707 21:36:16 @monitor.py:467]\u001b[0m GAN_loss/gen/loss: 0.95851\n",
      "\u001b[32m[0707 21:36:16 @monitor.py:467]\u001b[0m QueueInput/queue_size: 50\n",
      "\u001b[32m[0707 21:36:16 @base.py:275]\u001b[0m Start Epoch 41 ...\n"
     ]
    },
    {
     "name": "stderr",
     "output_type": "stream",
     "text": [
      "\n",
      "100%|##########|2000/2000[03:54<00:00, 8.53it/s]"
     ]
    },
    {
     "name": "stdout",
     "output_type": "stream",
     "text": [
      "\u001b[32m[0707 21:40:10 @base.py:285]\u001b[0m Epoch 41 (global_step 82000) finished, time:3 minutes 54 seconds.\n",
      "\u001b[32m[0707 21:40:11 @saver.py:79]\u001b[0m Model saved to output/model/model-82000.\n",
      "\u001b[32m[0707 21:40:11 @monitor.py:467]\u001b[0m GAN_loss/discrim/accuracy_fake: 0.925\n",
      "\u001b[32m[0707 21:40:11 @monitor.py:467]\u001b[0m GAN_loss/discrim/accuracy_real: 0.13\n",
      "\u001b[32m[0707 21:40:11 @monitor.py:467]\u001b[0m GAN_loss/discrim/loss: 0.64424\n",
      "\u001b[32m[0707 21:40:11 @monitor.py:467]\u001b[0m GAN_loss/gen/final-g-loss: 1.0867\n",
      "\u001b[32m[0707 21:40:11 @monitor.py:467]\u001b[0m GAN_loss/gen/klloss: 0.12738\n",
      "\u001b[32m[0707 21:40:11 @monitor.py:467]\u001b[0m GAN_loss/gen/loss: 0.95934\n",
      "\u001b[32m[0707 21:40:11 @monitor.py:467]\u001b[0m QueueInput/queue_size: 50\n",
      "\u001b[32m[0707 21:40:11 @base.py:275]\u001b[0m Start Epoch 42 ...\n"
     ]
    },
    {
     "name": "stderr",
     "output_type": "stream",
     "text": [
      "\n",
      "100%|##########|2000/2000[03:55<00:00, 8.48it/s]"
     ]
    },
    {
     "name": "stdout",
     "output_type": "stream",
     "text": [
      "\u001b[32m[0707 21:44:06 @base.py:285]\u001b[0m Epoch 42 (global_step 84000) finished, time:3 minutes 55 seconds.\n",
      "\u001b[32m[0707 21:44:06 @saver.py:79]\u001b[0m Model saved to output/model/model-84000.\n",
      "\u001b[32m[0707 21:44:06 @monitor.py:467]\u001b[0m GAN_loss/discrim/accuracy_fake: 0.885\n",
      "\u001b[32m[0707 21:44:06 @monitor.py:467]\u001b[0m GAN_loss/discrim/accuracy_real: 0.16\n",
      "\u001b[32m[0707 21:44:06 @monitor.py:467]\u001b[0m GAN_loss/discrim/loss: 0.65008\n",
      "\u001b[32m[0707 21:44:06 @monitor.py:467]\u001b[0m GAN_loss/gen/final-g-loss: 1.045\n",
      "\u001b[32m[0707 21:44:06 @monitor.py:467]\u001b[0m GAN_loss/gen/klloss: 0.097724\n",
      "\u001b[32m[0707 21:44:06 @monitor.py:467]\u001b[0m GAN_loss/gen/loss: 0.9473\n",
      "\u001b[32m[0707 21:44:06 @monitor.py:467]\u001b[0m QueueInput/queue_size: 50\n",
      "\u001b[32m[0707 21:44:06 @base.py:275]\u001b[0m Start Epoch 43 ...\n"
     ]
    },
    {
     "name": "stderr",
     "output_type": "stream",
     "text": [
      "\n",
      "100%|##########|2000/2000[03:54<00:00, 8.42it/s]"
     ]
    },
    {
     "name": "stdout",
     "output_type": "stream",
     "text": [
      "\u001b[32m[0707 21:48:00 @base.py:285]\u001b[0m Epoch 43 (global_step 86000) finished, time:3 minutes 54 seconds.\n",
      "\u001b[32m[0707 21:48:00 @saver.py:79]\u001b[0m Model saved to output/model/model-86000.\n",
      "\u001b[32m[0707 21:48:00 @monitor.py:467]\u001b[0m GAN_loss/discrim/accuracy_fake: 0.935\n",
      "\u001b[32m[0707 21:48:00 @monitor.py:467]\u001b[0m GAN_loss/discrim/accuracy_real: 0.225\n",
      "\u001b[32m[0707 21:48:00 @monitor.py:467]\u001b[0m GAN_loss/discrim/loss: 0.64202\n",
      "\u001b[32m[0707 21:48:00 @monitor.py:467]\u001b[0m GAN_loss/gen/final-g-loss: 1.0306\n",
      "\u001b[32m[0707 21:48:00 @monitor.py:467]\u001b[0m GAN_loss/gen/klloss: 0.079251\n",
      "\u001b[32m[0707 21:48:00 @monitor.py:467]\u001b[0m GAN_loss/gen/loss: 0.95135\n",
      "\u001b[32m[0707 21:48:00 @monitor.py:467]\u001b[0m QueueInput/queue_size: 50\n",
      "\u001b[32m[0707 21:48:00 @base.py:275]\u001b[0m Start Epoch 44 ...\n"
     ]
    },
    {
     "name": "stderr",
     "output_type": "stream",
     "text": [
      "\n",
      "100%|##########|2000/2000[03:55<00:00, 8.48it/s]"
     ]
    },
    {
     "name": "stdout",
     "output_type": "stream",
     "text": [
      "\u001b[32m[0707 21:51:56 @base.py:285]\u001b[0m Epoch 44 (global_step 88000) finished, time:3 minutes 55 seconds.\n",
      "\u001b[32m[0707 21:51:56 @saver.py:79]\u001b[0m Model saved to output/model/model-88000.\n",
      "\u001b[32m[0707 21:51:56 @monitor.py:467]\u001b[0m GAN_loss/discrim/accuracy_fake: 0.935\n",
      "\u001b[32m[0707 21:51:56 @monitor.py:467]\u001b[0m GAN_loss/discrim/accuracy_real: 0.14\n",
      "\u001b[32m[0707 21:51:56 @monitor.py:467]\u001b[0m GAN_loss/discrim/loss: 0.6469\n",
      "\u001b[32m[0707 21:51:56 @monitor.py:467]\u001b[0m GAN_loss/gen/final-g-loss: 1.0566\n",
      "\u001b[32m[0707 21:51:56 @monitor.py:467]\u001b[0m GAN_loss/gen/klloss: 0.086334\n",
      "\u001b[32m[0707 21:51:56 @monitor.py:467]\u001b[0m GAN_loss/gen/loss: 0.97031\n",
      "\u001b[32m[0707 21:51:56 @monitor.py:467]\u001b[0m QueueInput/queue_size: 50\n",
      "\u001b[32m[0707 21:51:56 @base.py:275]\u001b[0m Start Epoch 45 ...\n"
     ]
    },
    {
     "name": "stderr",
     "output_type": "stream",
     "text": [
      "\n",
      "100%|##########|2000/2000[03:55<00:00, 8.30it/s]"
     ]
    },
    {
     "name": "stdout",
     "output_type": "stream",
     "text": [
      "\u001b[32m[0707 21:55:52 @base.py:285]\u001b[0m Epoch 45 (global_step 90000) finished, time:3 minutes 55 seconds.\n",
      "\u001b[32m[0707 21:55:52 @saver.py:79]\u001b[0m Model saved to output/model/model-90000.\n",
      "\u001b[32m[0707 21:55:52 @monitor.py:467]\u001b[0m GAN_loss/discrim/accuracy_fake: 0.91\n",
      "\u001b[32m[0707 21:55:52 @monitor.py:467]\u001b[0m GAN_loss/discrim/accuracy_real: 0.095\n",
      "\u001b[32m[0707 21:55:52 @monitor.py:467]\u001b[0m GAN_loss/discrim/loss: 0.66116\n",
      "\u001b[32m[0707 21:55:52 @monitor.py:467]\u001b[0m GAN_loss/gen/final-g-loss: 1.0313\n",
      "\u001b[32m[0707 21:55:52 @monitor.py:467]\u001b[0m GAN_loss/gen/klloss: 0.088159\n",
      "\u001b[32m[0707 21:55:52 @monitor.py:467]\u001b[0m GAN_loss/gen/loss: 0.94316\n",
      "\u001b[32m[0707 21:55:52 @monitor.py:467]\u001b[0m QueueInput/queue_size: 50\n",
      "\u001b[32m[0707 21:55:52 @base.py:275]\u001b[0m Start Epoch 46 ...\n"
     ]
    },
    {
     "name": "stderr",
     "output_type": "stream",
     "text": [
      "\n",
      "100%|##########|2000/2000[03:54<00:00, 8.71it/s]"
     ]
    },
    {
     "name": "stdout",
     "output_type": "stream",
     "text": [
      "\u001b[32m[0707 21:59:46 @base.py:285]\u001b[0m Epoch 46 (global_step 92000) finished, time:3 minutes 54 seconds.\n",
      "\u001b[32m[0707 21:59:46 @saver.py:79]\u001b[0m Model saved to output/model/model-92000.\n",
      "\u001b[32m[0707 21:59:46 @monitor.py:467]\u001b[0m GAN_loss/discrim/accuracy_fake: 0.91\n",
      "\u001b[32m[0707 21:59:46 @monitor.py:467]\u001b[0m GAN_loss/discrim/accuracy_real: 0.15\n",
      "\u001b[32m[0707 21:59:46 @monitor.py:467]\u001b[0m GAN_loss/discrim/loss: 0.64887\n",
      "\u001b[32m[0707 21:59:46 @monitor.py:467]\u001b[0m GAN_loss/gen/final-g-loss: 1.0639\n",
      "\u001b[32m[0707 21:59:46 @monitor.py:467]\u001b[0m GAN_loss/gen/klloss: 0.10772\n",
      "\u001b[32m[0707 21:59:46 @monitor.py:467]\u001b[0m GAN_loss/gen/loss: 0.95615\n",
      "\u001b[32m[0707 21:59:46 @monitor.py:467]\u001b[0m QueueInput/queue_size: 50\n",
      "\u001b[32m[0707 21:59:46 @base.py:275]\u001b[0m Start Epoch 47 ...\n"
     ]
    },
    {
     "name": "stderr",
     "output_type": "stream",
     "text": [
      "\n",
      "100%|##########|2000/2000[03:54<00:00, 8.58it/s]"
     ]
    },
    {
     "name": "stdout",
     "output_type": "stream",
     "text": [
      "\u001b[32m[0707 22:03:40 @base.py:285]\u001b[0m Epoch 47 (global_step 94000) finished, time:3 minutes 54 seconds.\n",
      "\u001b[32m[0707 22:03:40 @saver.py:79]\u001b[0m Model saved to output/model/model-94000.\n",
      "\u001b[32m[0707 22:03:40 @monitor.py:467]\u001b[0m GAN_loss/discrim/accuracy_fake: 0.97\n",
      "\u001b[32m[0707 22:03:40 @monitor.py:467]\u001b[0m GAN_loss/discrim/accuracy_real: 0.095\n",
      "\u001b[32m[0707 22:03:40 @monitor.py:467]\u001b[0m GAN_loss/discrim/loss: 0.63642\n",
      "\u001b[32m[0707 22:03:40 @monitor.py:467]\u001b[0m GAN_loss/gen/final-g-loss: 1.056\n",
      "\u001b[32m[0707 22:03:40 @monitor.py:467]\u001b[0m GAN_loss/gen/klloss: 0.08255\n",
      "\u001b[32m[0707 22:03:40 @monitor.py:467]\u001b[0m GAN_loss/gen/loss: 0.97348\n",
      "\u001b[32m[0707 22:03:40 @monitor.py:467]\u001b[0m QueueInput/queue_size: 50\n",
      "\u001b[32m[0707 22:03:40 @base.py:275]\u001b[0m Start Epoch 48 ...\n"
     ]
    },
    {
     "name": "stderr",
     "output_type": "stream",
     "text": [
      "\n",
      "100%|##########|2000/2000[03:56<00:00, 8.42it/s]"
     ]
    },
    {
     "name": "stdout",
     "output_type": "stream",
     "text": [
      "\u001b[32m[0707 22:07:37 @base.py:285]\u001b[0m Epoch 48 (global_step 96000) finished, time:3 minutes 56 seconds.\n",
      "\u001b[32m[0707 22:07:37 @saver.py:79]\u001b[0m Model saved to output/model/model-96000.\n",
      "\u001b[32m[0707 22:07:37 @monitor.py:467]\u001b[0m GAN_loss/discrim/accuracy_fake: 0.955\n",
      "\u001b[32m[0707 22:07:37 @monitor.py:467]\u001b[0m GAN_loss/discrim/accuracy_real: 0.185\n",
      "\u001b[32m[0707 22:07:37 @monitor.py:467]\u001b[0m GAN_loss/discrim/loss: 0.63904\n",
      "\u001b[32m[0707 22:07:37 @monitor.py:467]\u001b[0m GAN_loss/gen/final-g-loss: 1.0242\n",
      "\u001b[32m[0707 22:07:37 @monitor.py:467]\u001b[0m GAN_loss/gen/klloss: 0.063807\n",
      "\u001b[32m[0707 22:07:37 @monitor.py:467]\u001b[0m GAN_loss/gen/loss: 0.96043\n",
      "\u001b[32m[0707 22:07:37 @monitor.py:467]\u001b[0m QueueInput/queue_size: 50\n",
      "\u001b[32m[0707 22:07:37 @base.py:275]\u001b[0m Start Epoch 49 ...\n"
     ]
    },
    {
     "name": "stderr",
     "output_type": "stream",
     "text": [
      "\n",
      "100%|##########|2000/2000[03:54<00:00, 8.48it/s]"
     ]
    },
    {
     "name": "stdout",
     "output_type": "stream",
     "text": [
      "\u001b[32m[0707 22:11:31 @base.py:285]\u001b[0m Epoch 49 (global_step 98000) finished, time:3 minutes 54 seconds.\n",
      "\u001b[32m[0707 22:11:31 @saver.py:79]\u001b[0m Model saved to output/model/model-98000.\n",
      "\u001b[32m[0707 22:11:31 @monitor.py:467]\u001b[0m GAN_loss/discrim/accuracy_fake: 0.92\n",
      "\u001b[32m[0707 22:11:31 @monitor.py:467]\u001b[0m GAN_loss/discrim/accuracy_real: 0.13\n",
      "\u001b[32m[0707 22:11:31 @monitor.py:467]\u001b[0m GAN_loss/discrim/loss: 0.64724\n",
      "\u001b[32m[0707 22:11:31 @monitor.py:467]\u001b[0m GAN_loss/gen/final-g-loss: 1.0475\n",
      "\u001b[32m[0707 22:11:31 @monitor.py:467]\u001b[0m GAN_loss/gen/klloss: 0.082841\n",
      "\u001b[32m[0707 22:11:31 @monitor.py:467]\u001b[0m GAN_loss/gen/loss: 0.96466\n",
      "\u001b[32m[0707 22:11:31 @monitor.py:467]\u001b[0m QueueInput/queue_size: 50\n",
      "\u001b[32m[0707 22:11:31 @base.py:275]\u001b[0m Start Epoch 50 ...\n"
     ]
    },
    {
     "name": "stderr",
     "output_type": "stream",
     "text": [
      "\n",
      "100%|##########|2000/2000[03:55<00:00, 8.68it/s]"
     ]
    },
    {
     "name": "stdout",
     "output_type": "stream",
     "text": [
      "\u001b[32m[0707 22:15:26 @base.py:285]\u001b[0m Epoch 50 (global_step 100000) finished, time:3 minutes 55 seconds.\n",
      "\u001b[32m[0707 22:15:26 @saver.py:79]\u001b[0m Model saved to output/model/model-100000.\n",
      "\u001b[32m[0707 22:15:26 @monitor.py:467]\u001b[0m GAN_loss/discrim/accuracy_fake: 0.93\n",
      "\u001b[32m[0707 22:15:26 @monitor.py:467]\u001b[0m GAN_loss/discrim/accuracy_real: 0.145\n",
      "\u001b[32m[0707 22:15:26 @monitor.py:467]\u001b[0m GAN_loss/discrim/loss: 0.64256\n",
      "\u001b[32m[0707 22:15:26 @monitor.py:467]\u001b[0m GAN_loss/gen/final-g-loss: 1.0545\n",
      "\u001b[32m[0707 22:15:26 @monitor.py:467]\u001b[0m GAN_loss/gen/klloss: 0.10457\n",
      "\u001b[32m[0707 22:15:26 @monitor.py:467]\u001b[0m GAN_loss/gen/loss: 0.9499\n",
      "\u001b[32m[0707 22:15:26 @monitor.py:467]\u001b[0m QueueInput/queue_size: 50\n",
      "\u001b[32m[0707 22:15:26 @base.py:275]\u001b[0m Start Epoch 51 ...\n"
     ]
    },
    {
     "name": "stderr",
     "output_type": "stream",
     "text": [
      "\n",
      "100%|##########|2000/2000[03:54<00:00, 8.59it/s]"
     ]
    },
    {
     "name": "stdout",
     "output_type": "stream",
     "text": [
      "\u001b[32m[0707 22:19:21 @base.py:285]\u001b[0m Epoch 51 (global_step 102000) finished, time:3 minutes 54 seconds.\n",
      "\u001b[32m[0707 22:19:21 @saver.py:79]\u001b[0m Model saved to output/model/model-102000.\n",
      "\u001b[32m[0707 22:19:21 @monitor.py:467]\u001b[0m GAN_loss/discrim/accuracy_fake: 0.92\n",
      "\u001b[32m[0707 22:19:21 @monitor.py:467]\u001b[0m GAN_loss/discrim/accuracy_real: 0.145\n",
      "\u001b[32m[0707 22:19:21 @monitor.py:467]\u001b[0m GAN_loss/discrim/loss: 0.6407\n",
      "\u001b[32m[0707 22:19:21 @monitor.py:467]\u001b[0m GAN_loss/gen/final-g-loss: 1.0679\n",
      "\u001b[32m[0707 22:19:21 @monitor.py:467]\u001b[0m GAN_loss/gen/klloss: 0.10825\n",
      "\u001b[32m[0707 22:19:21 @monitor.py:467]\u001b[0m GAN_loss/gen/loss: 0.9597\n",
      "\u001b[32m[0707 22:19:21 @monitor.py:467]\u001b[0m QueueInput/queue_size: 50\n",
      "\u001b[32m[0707 22:19:21 @base.py:275]\u001b[0m Start Epoch 52 ...\n"
     ]
    },
    {
     "name": "stderr",
     "output_type": "stream",
     "text": [
      "\n",
      "100%|##########|2000/2000[03:54<00:00, 8.58it/s]"
     ]
    },
    {
     "name": "stdout",
     "output_type": "stream",
     "text": [
      "\u001b[32m[0707 22:23:15 @base.py:285]\u001b[0m Epoch 52 (global_step 104000) finished, time:3 minutes 54 seconds.\n",
      "\u001b[32m[0707 22:23:15 @saver.py:79]\u001b[0m Model saved to output/model/model-104000.\n",
      "\u001b[32m[0707 22:23:15 @monitor.py:467]\u001b[0m GAN_loss/discrim/accuracy_fake: 0.925\n",
      "\u001b[32m[0707 22:23:15 @monitor.py:467]\u001b[0m GAN_loss/discrim/accuracy_real: 0.135\n",
      "\u001b[32m[0707 22:23:15 @monitor.py:467]\u001b[0m GAN_loss/discrim/loss: 0.64991\n",
      "\u001b[32m[0707 22:23:15 @monitor.py:467]\u001b[0m GAN_loss/gen/final-g-loss: 1.0205\n",
      "\u001b[32m[0707 22:23:15 @monitor.py:467]\u001b[0m GAN_loss/gen/klloss: 0.086647\n",
      "\u001b[32m[0707 22:23:15 @monitor.py:467]\u001b[0m GAN_loss/gen/loss: 0.93382\n",
      "\u001b[32m[0707 22:23:15 @monitor.py:467]\u001b[0m QueueInput/queue_size: 50\n",
      "\u001b[32m[0707 22:23:15 @base.py:275]\u001b[0m Start Epoch 53 ...\n"
     ]
    },
    {
     "name": "stderr",
     "output_type": "stream",
     "text": [
      "\n",
      "100%|##########|2000/2000[03:56<00:00, 8.46it/s]"
     ]
    },
    {
     "name": "stdout",
     "output_type": "stream",
     "text": [
      "\u001b[32m[0707 22:27:11 @base.py:285]\u001b[0m Epoch 53 (global_step 106000) finished, time:3 minutes 56 seconds.\n",
      "\u001b[32m[0707 22:27:11 @saver.py:79]\u001b[0m Model saved to output/model/model-106000.\n",
      "\u001b[32m[0707 22:27:11 @monitor.py:467]\u001b[0m GAN_loss/discrim/accuracy_fake: 0.94\n",
      "\u001b[32m[0707 22:27:11 @monitor.py:467]\u001b[0m GAN_loss/discrim/accuracy_real: 0.085\n",
      "\u001b[32m[0707 22:27:11 @monitor.py:467]\u001b[0m GAN_loss/discrim/loss: 0.64609\n",
      "\u001b[32m[0707 22:27:11 @monitor.py:467]\u001b[0m GAN_loss/gen/final-g-loss: 1.0706\n",
      "\u001b[32m[0707 22:27:11 @monitor.py:467]\u001b[0m GAN_loss/gen/klloss: 0.11816\n",
      "\u001b[32m[0707 22:27:11 @monitor.py:467]\u001b[0m GAN_loss/gen/loss: 0.95242\n",
      "\u001b[32m[0707 22:27:11 @monitor.py:467]\u001b[0m QueueInput/queue_size: 50\n",
      "\u001b[32m[0707 22:27:11 @base.py:275]\u001b[0m Start Epoch 54 ...\n"
     ]
    },
    {
     "name": "stderr",
     "output_type": "stream",
     "text": [
      "\n",
      "100%|##########|2000/2000[03:54<00:00, 8.60it/s]"
     ]
    },
    {
     "name": "stdout",
     "output_type": "stream",
     "text": [
      "\u001b[32m[0707 22:31:06 @base.py:285]\u001b[0m Epoch 54 (global_step 108000) finished, time:3 minutes 54 seconds.\n",
      "\u001b[32m[0707 22:31:06 @saver.py:79]\u001b[0m Model saved to output/model/model-108000.\n",
      "\u001b[32m[0707 22:31:06 @monitor.py:467]\u001b[0m GAN_loss/discrim/accuracy_fake: 0.95\n",
      "\u001b[32m[0707 22:31:06 @monitor.py:467]\u001b[0m GAN_loss/discrim/accuracy_real: 0.11\n",
      "\u001b[32m[0707 22:31:06 @monitor.py:467]\u001b[0m GAN_loss/discrim/loss: 0.63835\n",
      "\u001b[32m[0707 22:31:06 @monitor.py:467]\u001b[0m GAN_loss/gen/final-g-loss: 1.1191\n",
      "\u001b[32m[0707 22:31:06 @monitor.py:467]\u001b[0m GAN_loss/gen/klloss: 0.15525\n",
      "\u001b[32m[0707 22:31:06 @monitor.py:467]\u001b[0m GAN_loss/gen/loss: 0.96387\n",
      "\u001b[32m[0707 22:31:06 @monitor.py:467]\u001b[0m QueueInput/queue_size: 50\n",
      "\u001b[32m[0707 22:31:06 @base.py:275]\u001b[0m Start Epoch 55 ...\n"
     ]
    },
    {
     "name": "stderr",
     "output_type": "stream",
     "text": [
      "\n",
      "100%|##########|2000/2000[03:54<00:00, 8.46it/s]"
     ]
    },
    {
     "name": "stdout",
     "output_type": "stream",
     "text": [
      "\u001b[32m[0707 22:35:00 @base.py:285]\u001b[0m Epoch 55 (global_step 110000) finished, time:3 minutes 54 seconds.\n",
      "\u001b[32m[0707 22:35:01 @saver.py:79]\u001b[0m Model saved to output/model/model-110000.\n",
      "\u001b[32m[0707 22:35:01 @monitor.py:467]\u001b[0m GAN_loss/discrim/accuracy_fake: 0.935\n",
      "\u001b[32m[0707 22:35:01 @monitor.py:467]\u001b[0m GAN_loss/discrim/accuracy_real: 0.16\n",
      "\u001b[32m[0707 22:35:01 @monitor.py:467]\u001b[0m GAN_loss/discrim/loss: 0.64691\n",
      "\u001b[32m[0707 22:35:01 @monitor.py:467]\u001b[0m GAN_loss/gen/final-g-loss: 1.0361\n",
      "\u001b[32m[0707 22:35:01 @monitor.py:467]\u001b[0m GAN_loss/gen/klloss: 0.080207\n",
      "\u001b[32m[0707 22:35:01 @monitor.py:467]\u001b[0m GAN_loss/gen/loss: 0.95588\n",
      "\u001b[32m[0707 22:35:01 @monitor.py:467]\u001b[0m QueueInput/queue_size: 50\n",
      "\u001b[32m[0707 22:35:01 @base.py:275]\u001b[0m Start Epoch 56 ...\n"
     ]
    },
    {
     "name": "stderr",
     "output_type": "stream",
     "text": [
      "\n",
      "100%|##########|2000/2000[03:54<00:00, 8.39it/s]"
     ]
    },
    {
     "name": "stdout",
     "output_type": "stream",
     "text": [
      "\u001b[32m[0707 22:38:55 @base.py:285]\u001b[0m Epoch 56 (global_step 112000) finished, time:3 minutes 54 seconds.\n",
      "\u001b[32m[0707 22:38:55 @saver.py:79]\u001b[0m Model saved to output/model/model-112000.\n",
      "\u001b[32m[0707 22:38:55 @monitor.py:467]\u001b[0m GAN_loss/discrim/accuracy_fake: 0.935\n",
      "\u001b[32m[0707 22:38:55 @monitor.py:467]\u001b[0m GAN_loss/discrim/accuracy_real: 0.125\n",
      "\u001b[32m[0707 22:38:55 @monitor.py:467]\u001b[0m GAN_loss/discrim/loss: 0.64015\n",
      "\u001b[32m[0707 22:38:55 @monitor.py:467]\u001b[0m GAN_loss/gen/final-g-loss: 1.0541\n",
      "\u001b[32m[0707 22:38:55 @monitor.py:467]\u001b[0m GAN_loss/gen/klloss: 0.082165\n",
      "\u001b[32m[0707 22:38:55 @monitor.py:467]\u001b[0m GAN_loss/gen/loss: 0.97197\n",
      "\u001b[32m[0707 22:38:55 @monitor.py:467]\u001b[0m QueueInput/queue_size: 50\n",
      "\u001b[32m[0707 22:38:55 @base.py:275]\u001b[0m Start Epoch 57 ...\n"
     ]
    },
    {
     "name": "stderr",
     "output_type": "stream",
     "text": [
      "\n",
      "100%|##########|2000/2000[03:54<00:00, 8.61it/s]"
     ]
    },
    {
     "name": "stdout",
     "output_type": "stream",
     "text": [
      "\u001b[32m[0707 22:42:50 @base.py:285]\u001b[0m Epoch 57 (global_step 114000) finished, time:3 minutes 54 seconds.\n",
      "\u001b[32m[0707 22:42:50 @saver.py:79]\u001b[0m Model saved to output/model/model-114000.\n",
      "\u001b[32m[0707 22:42:50 @monitor.py:467]\u001b[0m GAN_loss/discrim/accuracy_fake: 0.95\n",
      "\u001b[32m[0707 22:42:50 @monitor.py:467]\u001b[0m GAN_loss/discrim/accuracy_real: 0.095\n",
      "\u001b[32m[0707 22:42:50 @monitor.py:467]\u001b[0m GAN_loss/discrim/loss: 0.64198\n",
      "\u001b[32m[0707 22:42:50 @monitor.py:467]\u001b[0m GAN_loss/gen/final-g-loss: 1.0926\n",
      "\u001b[32m[0707 22:42:50 @monitor.py:467]\u001b[0m GAN_loss/gen/klloss: 0.11337\n",
      "\u001b[32m[0707 22:42:50 @monitor.py:467]\u001b[0m GAN_loss/gen/loss: 0.97922\n",
      "\u001b[32m[0707 22:42:50 @monitor.py:467]\u001b[0m QueueInput/queue_size: 50\n",
      "\u001b[32m[0707 22:42:50 @base.py:275]\u001b[0m Start Epoch 58 ...\n"
     ]
    },
    {
     "name": "stderr",
     "output_type": "stream",
     "text": [
      "\n",
      "100%|##########|2000/2000[03:56<00:00, 8.59it/s]"
     ]
    },
    {
     "name": "stdout",
     "output_type": "stream",
     "text": [
      "\u001b[32m[0707 22:46:46 @base.py:285]\u001b[0m Epoch 58 (global_step 116000) finished, time:3 minutes 56 seconds.\n",
      "\u001b[32m[0707 22:46:46 @saver.py:79]\u001b[0m Model saved to output/model/model-116000.\n",
      "\u001b[32m[0707 22:46:46 @monitor.py:467]\u001b[0m GAN_loss/discrim/accuracy_fake: 0.93\n",
      "\u001b[32m[0707 22:46:46 @monitor.py:467]\u001b[0m GAN_loss/discrim/accuracy_real: 0.15\n",
      "\u001b[32m[0707 22:46:46 @monitor.py:467]\u001b[0m GAN_loss/discrim/loss: 0.6453\n",
      "\u001b[32m[0707 22:46:46 @monitor.py:467]\u001b[0m GAN_loss/gen/final-g-loss: 1.0573\n",
      "\u001b[32m[0707 22:46:46 @monitor.py:467]\u001b[0m GAN_loss/gen/klloss: 0.096856\n",
      "\u001b[32m[0707 22:46:46 @monitor.py:467]\u001b[0m GAN_loss/gen/loss: 0.9604\n",
      "\u001b[32m[0707 22:46:46 @monitor.py:467]\u001b[0m QueueInput/queue_size: 50\n",
      "\u001b[32m[0707 22:46:46 @base.py:275]\u001b[0m Start Epoch 59 ...\n"
     ]
    },
    {
     "name": "stderr",
     "output_type": "stream",
     "text": [
      "\n",
      "100%|##########|2000/2000[03:54<00:00, 8.53it/s]"
     ]
    },
    {
     "name": "stdout",
     "output_type": "stream",
     "text": [
      "\u001b[32m[0707 22:50:41 @base.py:285]\u001b[0m Epoch 59 (global_step 118000) finished, time:3 minutes 54 seconds.\n",
      "\u001b[32m[0707 22:50:41 @saver.py:79]\u001b[0m Model saved to output/model/model-118000.\n",
      "\u001b[32m[0707 22:50:41 @monitor.py:467]\u001b[0m GAN_loss/discrim/accuracy_fake: 0.955\n",
      "\u001b[32m[0707 22:50:41 @monitor.py:467]\u001b[0m GAN_loss/discrim/accuracy_real: 0.095\n",
      "\u001b[32m[0707 22:50:41 @monitor.py:467]\u001b[0m GAN_loss/discrim/loss: 0.65307\n",
      "\u001b[32m[0707 22:50:41 @monitor.py:467]\u001b[0m GAN_loss/gen/final-g-loss: 1.0459\n",
      "\u001b[32m[0707 22:50:41 @monitor.py:467]\u001b[0m GAN_loss/gen/klloss: 0.097966\n",
      "\u001b[32m[0707 22:50:41 @monitor.py:467]\u001b[0m GAN_loss/gen/loss: 0.94792\n",
      "\u001b[32m[0707 22:50:41 @monitor.py:467]\u001b[0m QueueInput/queue_size: 50\n",
      "\u001b[32m[0707 22:50:41 @base.py:275]\u001b[0m Start Epoch 60 ...\n"
     ]
    },
    {
     "name": "stderr",
     "output_type": "stream",
     "text": [
      "\n",
      "100%|##########|2000/2000[03:56<00:00, 8.45it/s]"
     ]
    },
    {
     "name": "stdout",
     "output_type": "stream",
     "text": [
      "\u001b[32m[0707 22:54:38 @base.py:285]\u001b[0m Epoch 60 (global_step 120000) finished, time:3 minutes 56 seconds.\n",
      "\u001b[32m[0707 22:54:38 @saver.py:79]\u001b[0m Model saved to output/model/model-120000.\n",
      "\u001b[32m[0707 22:54:38 @monitor.py:467]\u001b[0m GAN_loss/discrim/accuracy_fake: 0.945\n",
      "\u001b[32m[0707 22:54:38 @monitor.py:467]\u001b[0m GAN_loss/discrim/accuracy_real: 0.115\n",
      "\u001b[32m[0707 22:54:38 @monitor.py:467]\u001b[0m GAN_loss/discrim/loss: 0.64598\n",
      "\u001b[32m[0707 22:54:38 @monitor.py:467]\u001b[0m GAN_loss/gen/final-g-loss: 1.0462\n",
      "\u001b[32m[0707 22:54:38 @monitor.py:467]\u001b[0m GAN_loss/gen/klloss: 0.07034\n",
      "\u001b[32m[0707 22:54:38 @monitor.py:467]\u001b[0m GAN_loss/gen/loss: 0.97587\n",
      "\u001b[32m[0707 22:54:38 @monitor.py:467]\u001b[0m QueueInput/queue_size: 50\n",
      "\u001b[32m[0707 22:54:38 @base.py:275]\u001b[0m Start Epoch 61 ...\n"
     ]
    },
    {
     "name": "stderr",
     "output_type": "stream",
     "text": [
      "\n",
      "100%|##########|2000/2000[03:54<00:00, 8.51it/s]"
     ]
    },
    {
     "name": "stdout",
     "output_type": "stream",
     "text": [
      "\u001b[32m[0707 22:58:32 @base.py:285]\u001b[0m Epoch 61 (global_step 122000) finished, time:3 minutes 54 seconds.\n",
      "\u001b[32m[0707 22:58:32 @saver.py:79]\u001b[0m Model saved to output/model/model-122000.\n",
      "\u001b[32m[0707 22:58:32 @monitor.py:467]\u001b[0m GAN_loss/discrim/accuracy_fake: 0.89\n",
      "\u001b[32m[0707 22:58:32 @monitor.py:467]\u001b[0m GAN_loss/discrim/accuracy_real: 0.165\n",
      "\u001b[32m[0707 22:58:32 @monitor.py:467]\u001b[0m GAN_loss/discrim/loss: 0.64781\n",
      "\u001b[32m[0707 22:58:32 @monitor.py:467]\u001b[0m GAN_loss/gen/final-g-loss: 1.074\n",
      "\u001b[32m[0707 22:58:32 @monitor.py:467]\u001b[0m GAN_loss/gen/klloss: 0.11294\n",
      "\u001b[32m[0707 22:58:32 @monitor.py:467]\u001b[0m GAN_loss/gen/loss: 0.96102\n",
      "\u001b[32m[0707 22:58:32 @monitor.py:467]\u001b[0m QueueInput/queue_size: 50\n",
      "\u001b[32m[0707 22:58:32 @base.py:275]\u001b[0m Start Epoch 62 ...\n"
     ]
    },
    {
     "name": "stderr",
     "output_type": "stream",
     "text": [
      "\n",
      "100%|##########|2000/2000[03:54<00:00, 8.57it/s]"
     ]
    },
    {
     "name": "stdout",
     "output_type": "stream",
     "text": [
      "\u001b[32m[0707 23:02:27 @base.py:285]\u001b[0m Epoch 62 (global_step 124000) finished, time:3 minutes 54 seconds.\n",
      "\u001b[32m[0707 23:02:27 @saver.py:79]\u001b[0m Model saved to output/model/model-124000.\n",
      "\u001b[32m[0707 23:02:27 @monitor.py:467]\u001b[0m GAN_loss/discrim/accuracy_fake: 0.945\n",
      "\u001b[32m[0707 23:02:27 @monitor.py:467]\u001b[0m GAN_loss/discrim/accuracy_real: 0.135\n",
      "\u001b[32m[0707 23:02:27 @monitor.py:467]\u001b[0m GAN_loss/discrim/loss: 0.64667\n",
      "\u001b[32m[0707 23:02:27 @monitor.py:467]\u001b[0m GAN_loss/gen/final-g-loss: 1.091\n",
      "\u001b[32m[0707 23:02:27 @monitor.py:467]\u001b[0m GAN_loss/gen/klloss: 0.11611\n",
      "\u001b[32m[0707 23:02:27 @monitor.py:467]\u001b[0m GAN_loss/gen/loss: 0.97486\n",
      "\u001b[32m[0707 23:02:27 @monitor.py:467]\u001b[0m QueueInput/queue_size: 50\n",
      "\u001b[32m[0707 23:02:27 @base.py:275]\u001b[0m Start Epoch 63 ...\n"
     ]
    },
    {
     "name": "stderr",
     "output_type": "stream",
     "text": [
      "\n",
      "100%|##########|2000/2000[03:57<00:00, 8.44it/s]"
     ]
    },
    {
     "name": "stdout",
     "output_type": "stream",
     "text": [
      "\u001b[32m[0707 23:06:24 @base.py:285]\u001b[0m Epoch 63 (global_step 126000) finished, time:3 minutes 57 seconds.\n",
      "\u001b[32m[0707 23:06:24 @saver.py:79]\u001b[0m Model saved to output/model/model-126000.\n",
      "\u001b[32m[0707 23:06:24 @monitor.py:467]\u001b[0m GAN_loss/discrim/accuracy_fake: 0.935\n",
      "\u001b[32m[0707 23:06:24 @monitor.py:467]\u001b[0m GAN_loss/discrim/accuracy_real: 0.1\n",
      "\u001b[32m[0707 23:06:24 @monitor.py:467]\u001b[0m GAN_loss/discrim/loss: 0.64368\n",
      "\u001b[32m[0707 23:06:24 @monitor.py:467]\u001b[0m GAN_loss/gen/final-g-loss: 1.0455\n",
      "\u001b[32m[0707 23:06:24 @monitor.py:467]\u001b[0m GAN_loss/gen/klloss: 0.080676\n",
      "\u001b[32m[0707 23:06:24 @monitor.py:467]\u001b[0m GAN_loss/gen/loss: 0.9648\n",
      "\u001b[32m[0707 23:06:24 @monitor.py:467]\u001b[0m QueueInput/queue_size: 50\n",
      "\u001b[32m[0707 23:06:24 @base.py:275]\u001b[0m Start Epoch 64 ...\n"
     ]
    },
    {
     "name": "stderr",
     "output_type": "stream",
     "text": [
      "\n",
      "100%|##########|2000/2000[03:55<00:00, 8.49it/s]"
     ]
    },
    {
     "name": "stdout",
     "output_type": "stream",
     "text": [
      "\u001b[32m[0707 23:10:19 @base.py:285]\u001b[0m Epoch 64 (global_step 128000) finished, time:3 minutes 55 seconds.\n",
      "\u001b[32m[0707 23:10:19 @saver.py:79]\u001b[0m Model saved to output/model/model-128000.\n",
      "\u001b[32m[0707 23:10:19 @monitor.py:467]\u001b[0m GAN_loss/discrim/accuracy_fake: 0.865\n",
      "\u001b[32m[0707 23:10:19 @monitor.py:467]\u001b[0m GAN_loss/discrim/accuracy_real: 0.175\n",
      "\u001b[32m[0707 23:10:19 @monitor.py:467]\u001b[0m GAN_loss/discrim/loss: 0.65505\n",
      "\u001b[32m[0707 23:10:19 @monitor.py:467]\u001b[0m GAN_loss/gen/final-g-loss: 1.0826\n",
      "\u001b[32m[0707 23:10:19 @monitor.py:467]\u001b[0m GAN_loss/gen/klloss: 0.13067\n",
      "\u001b[32m[0707 23:10:19 @monitor.py:467]\u001b[0m GAN_loss/gen/loss: 0.95198\n",
      "\u001b[32m[0707 23:10:19 @monitor.py:467]\u001b[0m QueueInput/queue_size: 50\n",
      "\u001b[32m[0707 23:10:19 @base.py:275]\u001b[0m Start Epoch 65 ...\n"
     ]
    },
    {
     "name": "stderr",
     "output_type": "stream",
     "text": [
      "\n",
      "100%|##########|2000/2000[03:54<00:00, 8.54it/s]"
     ]
    },
    {
     "name": "stdout",
     "output_type": "stream",
     "text": [
      "\u001b[32m[0707 23:14:14 @base.py:285]\u001b[0m Epoch 65 (global_step 130000) finished, time:3 minutes 54 seconds.\n",
      "\u001b[32m[0707 23:14:14 @saver.py:79]\u001b[0m Model saved to output/model/model-130000.\n",
      "\u001b[32m[0707 23:14:14 @monitor.py:467]\u001b[0m GAN_loss/discrim/accuracy_fake: 0.93\n",
      "\u001b[32m[0707 23:14:14 @monitor.py:467]\u001b[0m GAN_loss/discrim/accuracy_real: 0.155\n",
      "\u001b[32m[0707 23:14:14 @monitor.py:467]\u001b[0m GAN_loss/discrim/loss: 0.64771\n",
      "\u001b[32m[0707 23:14:14 @monitor.py:467]\u001b[0m GAN_loss/gen/final-g-loss: 1.0635\n",
      "\u001b[32m[0707 23:14:14 @monitor.py:467]\u001b[0m GAN_loss/gen/klloss: 0.080178\n",
      "\u001b[32m[0707 23:14:14 @monitor.py:467]\u001b[0m GAN_loss/gen/loss: 0.98329\n",
      "\u001b[32m[0707 23:14:14 @monitor.py:467]\u001b[0m QueueInput/queue_size: 50\n",
      "\u001b[32m[0707 23:14:14 @base.py:275]\u001b[0m Start Epoch 66 ...\n"
     ]
    },
    {
     "name": "stderr",
     "output_type": "stream",
     "text": [
      "\n",
      "100%|##########|2000/2000[03:54<00:00, 8.50it/s]"
     ]
    },
    {
     "name": "stdout",
     "output_type": "stream",
     "text": [
      "\u001b[32m[0707 23:18:08 @base.py:285]\u001b[0m Epoch 66 (global_step 132000) finished, time:3 minutes 54 seconds.\n",
      "\u001b[32m[0707 23:18:08 @saver.py:79]\u001b[0m Model saved to output/model/model-132000.\n",
      "\u001b[32m[0707 23:18:08 @monitor.py:467]\u001b[0m GAN_loss/discrim/accuracy_fake: 0.945\n",
      "\u001b[32m[0707 23:18:08 @monitor.py:467]\u001b[0m GAN_loss/discrim/accuracy_real: 0.205\n",
      "\u001b[32m[0707 23:18:08 @monitor.py:467]\u001b[0m GAN_loss/discrim/loss: 0.64315\n",
      "\u001b[32m[0707 23:18:08 @monitor.py:467]\u001b[0m GAN_loss/gen/final-g-loss: 1.0495\n",
      "\u001b[32m[0707 23:18:08 @monitor.py:467]\u001b[0m GAN_loss/gen/klloss: 0.081849\n",
      "\u001b[32m[0707 23:18:08 @monitor.py:467]\u001b[0m GAN_loss/gen/loss: 0.96763\n",
      "\u001b[32m[0707 23:18:08 @monitor.py:467]\u001b[0m QueueInput/queue_size: 50\n",
      "\u001b[32m[0707 23:18:08 @base.py:275]\u001b[0m Start Epoch 67 ...\n"
     ]
    },
    {
     "name": "stderr",
     "output_type": "stream",
     "text": [
      "\n",
      "100%|##########|2000/2000[03:54<00:00, 8.52it/s]"
     ]
    },
    {
     "name": "stdout",
     "output_type": "stream",
     "text": [
      "\u001b[32m[0707 23:22:03 @base.py:285]\u001b[0m Epoch 67 (global_step 134000) finished, time:3 minutes 54 seconds.\n",
      "\u001b[32m[0707 23:22:03 @saver.py:79]\u001b[0m Model saved to output/model/model-134000.\n",
      "\u001b[32m[0707 23:22:03 @monitor.py:467]\u001b[0m GAN_loss/discrim/accuracy_fake: 0.93\n",
      "\u001b[32m[0707 23:22:03 @monitor.py:467]\u001b[0m GAN_loss/discrim/accuracy_real: 0.105\n",
      "\u001b[32m[0707 23:22:03 @monitor.py:467]\u001b[0m GAN_loss/discrim/loss: 0.6399\n",
      "\u001b[32m[0707 23:22:03 @monitor.py:467]\u001b[0m GAN_loss/gen/final-g-loss: 1.056\n",
      "\u001b[32m[0707 23:22:03 @monitor.py:467]\u001b[0m GAN_loss/gen/klloss: 0.083069\n",
      "\u001b[32m[0707 23:22:03 @monitor.py:467]\u001b[0m GAN_loss/gen/loss: 0.97295\n",
      "\u001b[32m[0707 23:22:03 @monitor.py:467]\u001b[0m QueueInput/queue_size: 50\n",
      "\u001b[32m[0707 23:22:03 @base.py:275]\u001b[0m Start Epoch 68 ...\n"
     ]
    },
    {
     "name": "stderr",
     "output_type": "stream",
     "text": [
      "\n",
      "100%|##########|2000/2000[03:56<00:00, 8.47it/s]"
     ]
    },
    {
     "name": "stdout",
     "output_type": "stream",
     "text": [
      "\u001b[32m[0707 23:25:59 @base.py:285]\u001b[0m Epoch 68 (global_step 136000) finished, time:3 minutes 56 seconds.\n",
      "\u001b[32m[0707 23:25:59 @saver.py:79]\u001b[0m Model saved to output/model/model-136000.\n",
      "\u001b[32m[0707 23:25:59 @monitor.py:467]\u001b[0m GAN_loss/discrim/accuracy_fake: 0.94\n",
      "\u001b[32m[0707 23:25:59 @monitor.py:467]\u001b[0m GAN_loss/discrim/accuracy_real: 0.155\n",
      "\u001b[32m[0707 23:25:59 @monitor.py:467]\u001b[0m GAN_loss/discrim/loss: 0.64367\n",
      "\u001b[32m[0707 23:25:59 @monitor.py:467]\u001b[0m GAN_loss/gen/final-g-loss: 1.0886\n",
      "\u001b[32m[0707 23:25:59 @monitor.py:467]\u001b[0m GAN_loss/gen/klloss: 0.12601\n",
      "\u001b[32m[0707 23:25:59 @monitor.py:467]\u001b[0m GAN_loss/gen/loss: 0.96254\n",
      "\u001b[32m[0707 23:25:59 @monitor.py:467]\u001b[0m QueueInput/queue_size: 50\n",
      "\u001b[32m[0707 23:25:59 @base.py:275]\u001b[0m Start Epoch 69 ...\n"
     ]
    },
    {
     "name": "stderr",
     "output_type": "stream",
     "text": [
      "\n",
      "100%|##########|2000/2000[03:54<00:00, 8.61it/s]"
     ]
    },
    {
     "name": "stdout",
     "output_type": "stream",
     "text": [
      "\u001b[32m[0707 23:29:54 @base.py:285]\u001b[0m Epoch 69 (global_step 138000) finished, time:3 minutes 54 seconds.\n",
      "\u001b[32m[0707 23:29:54 @saver.py:79]\u001b[0m Model saved to output/model/model-138000.\n",
      "\u001b[32m[0707 23:29:54 @monitor.py:467]\u001b[0m GAN_loss/discrim/accuracy_fake: 0.975\n",
      "\u001b[32m[0707 23:29:54 @monitor.py:467]\u001b[0m GAN_loss/discrim/accuracy_real: 0.105\n",
      "\u001b[32m[0707 23:29:54 @monitor.py:467]\u001b[0m GAN_loss/discrim/loss: 0.64769\n",
      "\u001b[32m[0707 23:29:54 @monitor.py:467]\u001b[0m GAN_loss/gen/final-g-loss: 1.0337\n",
      "\u001b[32m[0707 23:29:54 @monitor.py:467]\u001b[0m GAN_loss/gen/klloss: 0.082814\n",
      "\u001b[32m[0707 23:29:54 @monitor.py:467]\u001b[0m GAN_loss/gen/loss: 0.95088\n",
      "\u001b[32m[0707 23:29:54 @monitor.py:467]\u001b[0m QueueInput/queue_size: 50\n",
      "\u001b[32m[0707 23:29:54 @base.py:275]\u001b[0m Start Epoch 70 ...\n"
     ]
    },
    {
     "name": "stderr",
     "output_type": "stream",
     "text": [
      "\n",
      "100%|##########|2000/2000[03:55<00:00, 8.50it/s]"
     ]
    },
    {
     "name": "stdout",
     "output_type": "stream",
     "text": [
      "\u001b[32m[0707 23:33:49 @base.py:285]\u001b[0m Epoch 70 (global_step 140000) finished, time:3 minutes 55 seconds.\n",
      "\u001b[32m[0707 23:33:49 @saver.py:79]\u001b[0m Model saved to output/model/model-140000.\n",
      "\u001b[32m[0707 23:33:49 @monitor.py:467]\u001b[0m GAN_loss/discrim/accuracy_fake: 0.955\n",
      "\u001b[32m[0707 23:33:49 @monitor.py:467]\u001b[0m GAN_loss/discrim/accuracy_real: 0.15\n",
      "\u001b[32m[0707 23:33:49 @monitor.py:467]\u001b[0m GAN_loss/discrim/loss: 0.63701\n",
      "\u001b[32m[0707 23:33:49 @monitor.py:467]\u001b[0m GAN_loss/gen/final-g-loss: 1.0825\n",
      "\u001b[32m[0707 23:33:49 @monitor.py:467]\u001b[0m GAN_loss/gen/klloss: 0.09476\n",
      "\u001b[32m[0707 23:33:49 @monitor.py:467]\u001b[0m GAN_loss/gen/loss: 0.98772\n",
      "\u001b[32m[0707 23:33:49 @monitor.py:467]\u001b[0m QueueInput/queue_size: 50\n",
      "\u001b[32m[0707 23:33:49 @base.py:275]\u001b[0m Start Epoch 71 ...\n"
     ]
    },
    {
     "name": "stderr",
     "output_type": "stream",
     "text": [
      "\n",
      "100%|##########|2000/2000[03:54<00:00, 8.53it/s]"
     ]
    },
    {
     "name": "stdout",
     "output_type": "stream",
     "text": [
      "\u001b[32m[0707 23:37:43 @base.py:285]\u001b[0m Epoch 71 (global_step 142000) finished, time:3 minutes 54 seconds.\n",
      "\u001b[32m[0707 23:37:43 @saver.py:79]\u001b[0m Model saved to output/model/model-142000.\n",
      "\u001b[32m[0707 23:37:43 @monitor.py:467]\u001b[0m GAN_loss/discrim/accuracy_fake: 0.945\n",
      "\u001b[32m[0707 23:37:43 @monitor.py:467]\u001b[0m GAN_loss/discrim/accuracy_real: 0.145\n",
      "\u001b[32m[0707 23:37:43 @monitor.py:467]\u001b[0m GAN_loss/discrim/loss: 0.64186\n",
      "\u001b[32m[0707 23:37:43 @monitor.py:467]\u001b[0m GAN_loss/gen/final-g-loss: 1.0604\n",
      "\u001b[32m[0707 23:37:43 @monitor.py:467]\u001b[0m GAN_loss/gen/klloss: 0.08086\n",
      "\u001b[32m[0707 23:37:43 @monitor.py:467]\u001b[0m GAN_loss/gen/loss: 0.97952\n",
      "\u001b[32m[0707 23:37:43 @monitor.py:467]\u001b[0m QueueInput/queue_size: 50\n",
      "\u001b[32m[0707 23:37:43 @base.py:275]\u001b[0m Start Epoch 72 ...\n"
     ]
    },
    {
     "name": "stderr",
     "output_type": "stream",
     "text": [
      "\n",
      "100%|##########|2000/2000[03:54<00:00, 8.54it/s]"
     ]
    },
    {
     "name": "stdout",
     "output_type": "stream",
     "text": [
      "\u001b[32m[0707 23:41:37 @base.py:285]\u001b[0m Epoch 72 (global_step 144000) finished, time:3 minutes 54 seconds.\n",
      "\u001b[32m[0707 23:41:37 @saver.py:79]\u001b[0m Model saved to output/model/model-144000.\n",
      "\u001b[32m[0707 23:41:37 @monitor.py:467]\u001b[0m GAN_loss/discrim/accuracy_fake: 0.94\n",
      "\u001b[32m[0707 23:41:37 @monitor.py:467]\u001b[0m GAN_loss/discrim/accuracy_real: 0.09\n",
      "\u001b[32m[0707 23:41:37 @monitor.py:467]\u001b[0m GAN_loss/discrim/loss: 0.66268\n",
      "\u001b[32m[0707 23:41:37 @monitor.py:467]\u001b[0m GAN_loss/gen/final-g-loss: 1.0563\n",
      "\u001b[32m[0707 23:41:37 @monitor.py:467]\u001b[0m GAN_loss/gen/klloss: 0.098048\n",
      "\u001b[32m[0707 23:41:37 @monitor.py:467]\u001b[0m GAN_loss/gen/loss: 0.95825\n",
      "\u001b[32m[0707 23:41:37 @monitor.py:467]\u001b[0m QueueInput/queue_size: 50\n",
      "\u001b[32m[0707 23:41:37 @base.py:275]\u001b[0m Start Epoch 73 ...\n"
     ]
    },
    {
     "name": "stderr",
     "output_type": "stream",
     "text": [
      "\n",
      "100%|##########|2000/2000[03:56<00:00, 8.47it/s]"
     ]
    },
    {
     "name": "stdout",
     "output_type": "stream",
     "text": [
      "\u001b[32m[0707 23:45:34 @base.py:285]\u001b[0m Epoch 73 (global_step 146000) finished, time:3 minutes 56 seconds.\n",
      "\u001b[32m[0707 23:45:34 @saver.py:79]\u001b[0m Model saved to output/model/model-146000.\n",
      "\u001b[32m[0707 23:45:34 @monitor.py:467]\u001b[0m GAN_loss/discrim/accuracy_fake: 0.9\n",
      "\u001b[32m[0707 23:45:34 @monitor.py:467]\u001b[0m GAN_loss/discrim/accuracy_real: 0.155\n",
      "\u001b[32m[0707 23:45:34 @monitor.py:467]\u001b[0m GAN_loss/discrim/loss: 0.64004\n",
      "\u001b[32m[0707 23:45:34 @monitor.py:467]\u001b[0m GAN_loss/gen/final-g-loss: 1.0719\n",
      "\u001b[32m[0707 23:45:34 @monitor.py:467]\u001b[0m GAN_loss/gen/klloss: 0.1049\n",
      "\u001b[32m[0707 23:45:34 @monitor.py:467]\u001b[0m GAN_loss/gen/loss: 0.96696\n",
      "\u001b[32m[0707 23:45:34 @monitor.py:467]\u001b[0m QueueInput/queue_size: 50\n",
      "\u001b[32m[0707 23:45:34 @base.py:275]\u001b[0m Start Epoch 74 ...\n"
     ]
    },
    {
     "name": "stderr",
     "output_type": "stream",
     "text": [
      "\n",
      "100%|##########|2000/2000[03:54<00:00, 8.52it/s]"
     ]
    },
    {
     "name": "stdout",
     "output_type": "stream",
     "text": [
      "\u001b[32m[0707 23:49:28 @base.py:285]\u001b[0m Epoch 74 (global_step 148000) finished, time:3 minutes 54 seconds.\n",
      "\u001b[32m[0707 23:49:28 @saver.py:79]\u001b[0m Model saved to output/model/model-148000.\n",
      "\u001b[32m[0707 23:49:28 @monitor.py:467]\u001b[0m GAN_loss/discrim/accuracy_fake: 0.955\n",
      "\u001b[32m[0707 23:49:28 @monitor.py:467]\u001b[0m GAN_loss/discrim/accuracy_real: 0.13\n",
      "\u001b[32m[0707 23:49:28 @monitor.py:467]\u001b[0m GAN_loss/discrim/loss: 0.64974\n",
      "\u001b[32m[0707 23:49:28 @monitor.py:467]\u001b[0m GAN_loss/gen/final-g-loss: 1.0576\n",
      "\u001b[32m[0707 23:49:28 @monitor.py:467]\u001b[0m GAN_loss/gen/klloss: 0.092011\n",
      "\u001b[32m[0707 23:49:28 @monitor.py:467]\u001b[0m GAN_loss/gen/loss: 0.96557\n",
      "\u001b[32m[0707 23:49:28 @monitor.py:467]\u001b[0m QueueInput/queue_size: 50\n",
      "\u001b[32m[0707 23:49:28 @base.py:275]\u001b[0m Start Epoch 75 ...\n"
     ]
    },
    {
     "name": "stderr",
     "output_type": "stream",
     "text": [
      "\n",
      "100%|##########|2000/2000[03:55<00:00, 8.48it/s]"
     ]
    },
    {
     "name": "stdout",
     "output_type": "stream",
     "text": [
      "\u001b[32m[0707 23:53:24 @base.py:285]\u001b[0m Epoch 75 (global_step 150000) finished, time:3 minutes 55 seconds.\n",
      "\u001b[32m[0707 23:53:24 @saver.py:79]\u001b[0m Model saved to output/model/model-150000.\n",
      "\u001b[32m[0707 23:53:24 @monitor.py:467]\u001b[0m GAN_loss/discrim/accuracy_fake: 0.93\n",
      "\u001b[32m[0707 23:53:24 @monitor.py:467]\u001b[0m GAN_loss/discrim/accuracy_real: 0.16\n",
      "\u001b[32m[0707 23:53:24 @monitor.py:467]\u001b[0m GAN_loss/discrim/loss: 0.64088\n",
      "\u001b[32m[0707 23:53:24 @monitor.py:467]\u001b[0m GAN_loss/gen/final-g-loss: 1.0989\n",
      "\u001b[32m[0707 23:53:24 @monitor.py:467]\u001b[0m GAN_loss/gen/klloss: 0.10393\n",
      "\u001b[32m[0707 23:53:24 @monitor.py:467]\u001b[0m GAN_loss/gen/loss: 0.99498\n",
      "\u001b[32m[0707 23:53:24 @monitor.py:467]\u001b[0m QueueInput/queue_size: 50\n",
      "\u001b[32m[0707 23:53:24 @base.py:275]\u001b[0m Start Epoch 76 ...\n"
     ]
    },
    {
     "name": "stderr",
     "output_type": "stream",
     "text": [
      "\n",
      "100%|##########|2000/2000[03:54<00:00, 8.72it/s]"
     ]
    },
    {
     "name": "stdout",
     "output_type": "stream",
     "text": [
      "\u001b[32m[0707 23:57:19 @base.py:285]\u001b[0m Epoch 76 (global_step 152000) finished, time:3 minutes 54 seconds.\n",
      "\u001b[32m[0707 23:57:19 @saver.py:79]\u001b[0m Model saved to output/model/model-152000.\n",
      "\u001b[32m[0707 23:57:19 @monitor.py:467]\u001b[0m GAN_loss/discrim/accuracy_fake: 0.905\n",
      "\u001b[32m[0707 23:57:19 @monitor.py:467]\u001b[0m GAN_loss/discrim/accuracy_real: 0.165\n",
      "\u001b[32m[0707 23:57:19 @monitor.py:467]\u001b[0m GAN_loss/discrim/loss: 0.63943\n",
      "\u001b[32m[0707 23:57:19 @monitor.py:467]\u001b[0m GAN_loss/gen/final-g-loss: 1.0808\n",
      "\u001b[32m[0707 23:57:19 @monitor.py:467]\u001b[0m GAN_loss/gen/klloss: 0.10816\n",
      "\u001b[32m[0707 23:57:19 @monitor.py:467]\u001b[0m GAN_loss/gen/loss: 0.97265\n",
      "\u001b[32m[0707 23:57:19 @monitor.py:467]\u001b[0m QueueInput/queue_size: 50\n",
      "\u001b[32m[0707 23:57:19 @base.py:275]\u001b[0m Start Epoch 77 ...\n"
     ]
    },
    {
     "name": "stderr",
     "output_type": "stream",
     "text": [
      "\n",
      "100%|##########|2000/2000[03:54<00:00, 8.52it/s]"
     ]
    },
    {
     "name": "stdout",
     "output_type": "stream",
     "text": [
      "\u001b[32m[0708 00:01:13 @base.py:285]\u001b[0m Epoch 77 (global_step 154000) finished, time:3 minutes 54 seconds.\n",
      "\u001b[32m[0708 00:01:13 @saver.py:79]\u001b[0m Model saved to output/model/model-154000.\n",
      "\u001b[32m[0708 00:01:13 @monitor.py:467]\u001b[0m GAN_loss/discrim/accuracy_fake: 0.93\n",
      "\u001b[32m[0708 00:01:13 @monitor.py:467]\u001b[0m GAN_loss/discrim/accuracy_real: 0.205\n",
      "\u001b[32m[0708 00:01:13 @monitor.py:467]\u001b[0m GAN_loss/discrim/loss: 0.63767\n",
      "\u001b[32m[0708 00:01:13 @monitor.py:467]\u001b[0m GAN_loss/gen/final-g-loss: 1.1024\n",
      "\u001b[32m[0708 00:01:13 @monitor.py:467]\u001b[0m GAN_loss/gen/klloss: 0.11895\n",
      "\u001b[32m[0708 00:01:13 @monitor.py:467]\u001b[0m GAN_loss/gen/loss: 0.98346\n",
      "\u001b[32m[0708 00:01:13 @monitor.py:467]\u001b[0m QueueInput/queue_size: 50\n",
      "\u001b[32m[0708 00:01:13 @base.py:275]\u001b[0m Start Epoch 78 ...\n"
     ]
    },
    {
     "name": "stderr",
     "output_type": "stream",
     "text": [
      "\n",
      "100%|##########|2000/2000[03:56<00:00, 8.46it/s]"
     ]
    },
    {
     "name": "stdout",
     "output_type": "stream",
     "text": [
      "\u001b[32m[0708 00:05:09 @base.py:285]\u001b[0m Epoch 78 (global_step 156000) finished, time:3 minutes 56 seconds.\n",
      "\u001b[32m[0708 00:05:09 @saver.py:79]\u001b[0m Model saved to output/model/model-156000.\n",
      "\u001b[32m[0708 00:05:10 @monitor.py:467]\u001b[0m GAN_loss/discrim/accuracy_fake: 0.895\n",
      "\u001b[32m[0708 00:05:10 @monitor.py:467]\u001b[0m GAN_loss/discrim/accuracy_real: 0.175\n",
      "\u001b[32m[0708 00:05:10 @monitor.py:467]\u001b[0m GAN_loss/discrim/loss: 0.65107\n",
      "\u001b[32m[0708 00:05:10 @monitor.py:467]\u001b[0m GAN_loss/gen/final-g-loss: 1.0557\n",
      "\u001b[32m[0708 00:05:10 @monitor.py:467]\u001b[0m GAN_loss/gen/klloss: 0.078242\n",
      "\u001b[32m[0708 00:05:10 @monitor.py:467]\u001b[0m GAN_loss/gen/loss: 0.97744\n",
      "\u001b[32m[0708 00:05:10 @monitor.py:467]\u001b[0m QueueInput/queue_size: 50\n",
      "\u001b[32m[0708 00:05:10 @base.py:275]\u001b[0m Start Epoch 79 ...\n"
     ]
    },
    {
     "name": "stderr",
     "output_type": "stream",
     "text": [
      "\n",
      "100%|##########|2000/2000[03:54<00:00, 8.53it/s]"
     ]
    },
    {
     "name": "stdout",
     "output_type": "stream",
     "text": [
      "\u001b[32m[0708 00:09:04 @base.py:285]\u001b[0m Epoch 79 (global_step 158000) finished, time:3 minutes 54 seconds.\n",
      "\u001b[32m[0708 00:09:04 @saver.py:79]\u001b[0m Model saved to output/model/model-158000.\n",
      "\u001b[32m[0708 00:09:04 @monitor.py:467]\u001b[0m GAN_loss/discrim/accuracy_fake: 0.91\n",
      "\u001b[32m[0708 00:09:04 @monitor.py:467]\u001b[0m GAN_loss/discrim/accuracy_real: 0.145\n",
      "\u001b[32m[0708 00:09:04 @monitor.py:467]\u001b[0m GAN_loss/discrim/loss: 0.64926\n",
      "\u001b[32m[0708 00:09:04 @monitor.py:467]\u001b[0m GAN_loss/gen/final-g-loss: 1.0748\n",
      "\u001b[32m[0708 00:09:04 @monitor.py:467]\u001b[0m GAN_loss/gen/klloss: 0.11486\n",
      "\u001b[32m[0708 00:09:04 @monitor.py:467]\u001b[0m GAN_loss/gen/loss: 0.95997\n",
      "\u001b[32m[0708 00:09:04 @monitor.py:467]\u001b[0m QueueInput/queue_size: 50\n",
      "\u001b[32m[0708 00:09:04 @base.py:275]\u001b[0m Start Epoch 80 ...\n"
     ]
    },
    {
     "name": "stderr",
     "output_type": "stream",
     "text": [
      "\n",
      "100%|##########|2000/2000[03:54<00:00, 8.52it/s]"
     ]
    },
    {
     "name": "stdout",
     "output_type": "stream",
     "text": [
      "\u001b[32m[0708 00:12:59 @base.py:285]\u001b[0m Epoch 80 (global_step 160000) finished, time:3 minutes 54 seconds.\n",
      "\u001b[32m[0708 00:12:59 @saver.py:79]\u001b[0m Model saved to output/model/model-160000.\n",
      "\u001b[32m[0708 00:12:59 @monitor.py:467]\u001b[0m GAN_loss/discrim/accuracy_fake: 0.94\n",
      "\u001b[32m[0708 00:12:59 @monitor.py:467]\u001b[0m GAN_loss/discrim/accuracy_real: 0.15\n",
      "\u001b[32m[0708 00:12:59 @monitor.py:467]\u001b[0m GAN_loss/discrim/loss: 0.65004\n",
      "\u001b[32m[0708 00:12:59 @monitor.py:467]\u001b[0m GAN_loss/gen/final-g-loss: 1.0754\n",
      "\u001b[32m[0708 00:12:59 @monitor.py:467]\u001b[0m GAN_loss/gen/klloss: 0.097035\n",
      "\u001b[32m[0708 00:12:59 @monitor.py:467]\u001b[0m GAN_loss/gen/loss: 0.97841\n",
      "\u001b[32m[0708 00:12:59 @monitor.py:467]\u001b[0m QueueInput/queue_size: 50\n",
      "\u001b[32m[0708 00:12:59 @base.py:275]\u001b[0m Start Epoch 81 ...\n"
     ]
    },
    {
     "name": "stderr",
     "output_type": "stream",
     "text": [
      "\n",
      "100%|##########|2000/2000[03:54<00:00, 8.51it/s]"
     ]
    },
    {
     "name": "stdout",
     "output_type": "stream",
     "text": [
      "\u001b[32m[0708 00:16:54 @base.py:285]\u001b[0m Epoch 81 (global_step 162000) finished, time:3 minutes 54 seconds.\n",
      "\u001b[32m[0708 00:16:54 @saver.py:79]\u001b[0m Model saved to output/model/model-162000.\n",
      "\u001b[32m[0708 00:16:54 @monitor.py:467]\u001b[0m GAN_loss/discrim/accuracy_fake: 0.905\n",
      "\u001b[32m[0708 00:16:54 @monitor.py:467]\u001b[0m GAN_loss/discrim/accuracy_real: 0.195\n",
      "\u001b[32m[0708 00:16:54 @monitor.py:467]\u001b[0m GAN_loss/discrim/loss: 0.64847\n",
      "\u001b[32m[0708 00:16:54 @monitor.py:467]\u001b[0m GAN_loss/gen/final-g-loss: 1.0792\n",
      "\u001b[32m[0708 00:16:54 @monitor.py:467]\u001b[0m GAN_loss/gen/klloss: 0.10033\n",
      "\u001b[32m[0708 00:16:54 @monitor.py:467]\u001b[0m GAN_loss/gen/loss: 0.97886\n",
      "\u001b[32m[0708 00:16:54 @monitor.py:467]\u001b[0m QueueInput/queue_size: 50\n",
      "\u001b[32m[0708 00:16:54 @base.py:275]\u001b[0m Start Epoch 82 ...\n"
     ]
    },
    {
     "name": "stderr",
     "output_type": "stream",
     "text": [
      "\n",
      "100%|##########|2000/2000[03:54<00:00, 8.53it/s]"
     ]
    },
    {
     "name": "stdout",
     "output_type": "stream",
     "text": [
      "\u001b[32m[0708 00:20:48 @base.py:285]\u001b[0m Epoch 82 (global_step 164000) finished, time:3 minutes 54 seconds.\n",
      "\u001b[32m[0708 00:20:48 @saver.py:79]\u001b[0m Model saved to output/model/model-164000.\n",
      "\u001b[32m[0708 00:20:48 @monitor.py:467]\u001b[0m GAN_loss/discrim/accuracy_fake: 0.905\n",
      "\u001b[32m[0708 00:20:48 @monitor.py:467]\u001b[0m GAN_loss/discrim/accuracy_real: 0.19\n",
      "\u001b[32m[0708 00:20:48 @monitor.py:467]\u001b[0m GAN_loss/discrim/loss: 0.6438\n",
      "\u001b[32m[0708 00:20:48 @monitor.py:467]\u001b[0m GAN_loss/gen/final-g-loss: 1.0717\n",
      "\u001b[32m[0708 00:20:48 @monitor.py:467]\u001b[0m GAN_loss/gen/klloss: 0.081166\n",
      "\u001b[32m[0708 00:20:48 @monitor.py:467]\u001b[0m GAN_loss/gen/loss: 0.9905\n",
      "\u001b[32m[0708 00:20:48 @monitor.py:467]\u001b[0m QueueInput/queue_size: 50\n",
      "\u001b[32m[0708 00:20:48 @base.py:275]\u001b[0m Start Epoch 83 ...\n"
     ]
    },
    {
     "name": "stderr",
     "output_type": "stream",
     "text": [
      "\n",
      "100%|##########|2000/2000[03:56<00:00, 8.46it/s]"
     ]
    },
    {
     "name": "stdout",
     "output_type": "stream",
     "text": [
      "\u001b[32m[0708 00:24:45 @base.py:285]\u001b[0m Epoch 83 (global_step 166000) finished, time:3 minutes 56 seconds.\n",
      "\u001b[32m[0708 00:24:45 @saver.py:79]\u001b[0m Model saved to output/model/model-166000.\n",
      "\u001b[32m[0708 00:24:45 @monitor.py:467]\u001b[0m GAN_loss/discrim/accuracy_fake: 0.915\n",
      "\u001b[32m[0708 00:24:45 @monitor.py:467]\u001b[0m GAN_loss/discrim/accuracy_real: 0.225\n",
      "\u001b[32m[0708 00:24:45 @monitor.py:467]\u001b[0m GAN_loss/discrim/loss: 0.64507\n",
      "\u001b[32m[0708 00:24:45 @monitor.py:467]\u001b[0m GAN_loss/gen/final-g-loss: 1.0595\n",
      "\u001b[32m[0708 00:24:45 @monitor.py:467]\u001b[0m GAN_loss/gen/klloss: 0.067353\n",
      "\u001b[32m[0708 00:24:45 @monitor.py:467]\u001b[0m GAN_loss/gen/loss: 0.99213\n",
      "\u001b[32m[0708 00:24:45 @monitor.py:467]\u001b[0m QueueInput/queue_size: 50\n",
      "\u001b[32m[0708 00:24:45 @base.py:275]\u001b[0m Start Epoch 84 ...\n"
     ]
    },
    {
     "name": "stderr",
     "output_type": "stream",
     "text": [
      "\n",
      "100%|##########|2000/2000[03:53<00:00, 8.63it/s]"
     ]
    },
    {
     "name": "stdout",
     "output_type": "stream",
     "text": [
      "\u001b[32m[0708 00:28:38 @base.py:285]\u001b[0m Epoch 84 (global_step 168000) finished, time:3 minutes 53 seconds.\n",
      "\u001b[32m[0708 00:28:38 @saver.py:79]\u001b[0m Model saved to output/model/model-168000.\n",
      "\u001b[32m[0708 00:28:38 @monitor.py:467]\u001b[0m GAN_loss/discrim/accuracy_fake: 0.92\n",
      "\u001b[32m[0708 00:28:38 @monitor.py:467]\u001b[0m GAN_loss/discrim/accuracy_real: 0.13\n",
      "\u001b[32m[0708 00:28:38 @monitor.py:467]\u001b[0m GAN_loss/discrim/loss: 0.64975\n",
      "\u001b[32m[0708 00:28:38 @monitor.py:467]\u001b[0m GAN_loss/gen/final-g-loss: 1.0809\n",
      "\u001b[32m[0708 00:28:38 @monitor.py:467]\u001b[0m GAN_loss/gen/klloss: 0.095739\n",
      "\u001b[32m[0708 00:28:38 @monitor.py:467]\u001b[0m GAN_loss/gen/loss: 0.98514\n",
      "\u001b[32m[0708 00:28:39 @monitor.py:467]\u001b[0m QueueInput/queue_size: 50\n",
      "\u001b[32m[0708 00:28:39 @base.py:275]\u001b[0m Start Epoch 85 ...\n"
     ]
    },
    {
     "name": "stderr",
     "output_type": "stream",
     "text": [
      "\n",
      "100%|##########|2000/2000[03:54<00:00, 8.58it/s]"
     ]
    },
    {
     "name": "stdout",
     "output_type": "stream",
     "text": [
      "\u001b[32m[0708 00:32:33 @base.py:285]\u001b[0m Epoch 85 (global_step 170000) finished, time:3 minutes 54 seconds.\n",
      "\u001b[32m[0708 00:32:33 @saver.py:79]\u001b[0m Model saved to output/model/model-170000.\n",
      "\u001b[32m[0708 00:32:33 @monitor.py:467]\u001b[0m GAN_loss/discrim/accuracy_fake: 0.91\n",
      "\u001b[32m[0708 00:32:33 @monitor.py:467]\u001b[0m GAN_loss/discrim/accuracy_real: 0.14\n",
      "\u001b[32m[0708 00:32:33 @monitor.py:467]\u001b[0m GAN_loss/discrim/loss: 0.65433\n",
      "\u001b[32m[0708 00:32:33 @monitor.py:467]\u001b[0m GAN_loss/gen/final-g-loss: 1.0908\n",
      "\u001b[32m[0708 00:32:33 @monitor.py:467]\u001b[0m GAN_loss/gen/klloss: 0.12341\n",
      "\u001b[32m[0708 00:32:33 @monitor.py:467]\u001b[0m GAN_loss/gen/loss: 0.96737\n",
      "\u001b[32m[0708 00:32:33 @monitor.py:467]\u001b[0m QueueInput/queue_size: 50\n",
      "\u001b[32m[0708 00:32:33 @base.py:275]\u001b[0m Start Epoch 86 ...\n"
     ]
    },
    {
     "name": "stderr",
     "output_type": "stream",
     "text": [
      "\n",
      "100%|##########|2000/2000[03:54<00:00, 8.53it/s]"
     ]
    },
    {
     "name": "stdout",
     "output_type": "stream",
     "text": [
      "\u001b[32m[0708 00:36:27 @base.py:285]\u001b[0m Epoch 86 (global_step 172000) finished, time:3 minutes 54 seconds.\n",
      "\u001b[32m[0708 00:36:27 @saver.py:79]\u001b[0m Model saved to output/model/model-172000.\n",
      "\u001b[32m[0708 00:36:28 @monitor.py:467]\u001b[0m GAN_loss/discrim/accuracy_fake: 0.89\n",
      "\u001b[32m[0708 00:36:28 @monitor.py:467]\u001b[0m GAN_loss/discrim/accuracy_real: 0.185\n",
      "\u001b[32m[0708 00:36:28 @monitor.py:467]\u001b[0m GAN_loss/discrim/loss: 0.64731\n",
      "\u001b[32m[0708 00:36:28 @monitor.py:467]\u001b[0m GAN_loss/gen/final-g-loss: 1.0734\n",
      "\u001b[32m[0708 00:36:28 @monitor.py:467]\u001b[0m GAN_loss/gen/klloss: 0.1143\n",
      "\u001b[32m[0708 00:36:28 @monitor.py:467]\u001b[0m GAN_loss/gen/loss: 0.95907\n",
      "\u001b[32m[0708 00:36:28 @monitor.py:467]\u001b[0m QueueInput/queue_size: 50\n",
      "\u001b[32m[0708 00:36:28 @base.py:275]\u001b[0m Start Epoch 87 ...\n"
     ]
    },
    {
     "name": "stderr",
     "output_type": "stream",
     "text": [
      "\n",
      "100%|##########|2000/2000[03:54<00:00, 8.42it/s]"
     ]
    },
    {
     "name": "stdout",
     "output_type": "stream",
     "text": [
      "\u001b[32m[0708 00:40:22 @base.py:285]\u001b[0m Epoch 87 (global_step 174000) finished, time:3 minutes 54 seconds.\n",
      "\u001b[32m[0708 00:40:22 @saver.py:79]\u001b[0m Model saved to output/model/model-174000.\n",
      "\u001b[32m[0708 00:40:22 @monitor.py:467]\u001b[0m GAN_loss/discrim/accuracy_fake: 0.87\n",
      "\u001b[32m[0708 00:40:22 @monitor.py:467]\u001b[0m GAN_loss/discrim/accuracy_real: 0.14\n",
      "\u001b[32m[0708 00:40:22 @monitor.py:467]\u001b[0m GAN_loss/discrim/loss: 0.65777\n",
      "\u001b[32m[0708 00:40:22 @monitor.py:467]\u001b[0m GAN_loss/gen/final-g-loss: 1.0546\n",
      "\u001b[32m[0708 00:40:22 @monitor.py:467]\u001b[0m GAN_loss/gen/klloss: 0.093047\n",
      "\u001b[32m[0708 00:40:22 @monitor.py:467]\u001b[0m GAN_loss/gen/loss: 0.9616\n",
      "\u001b[32m[0708 00:40:22 @monitor.py:467]\u001b[0m QueueInput/queue_size: 50\n",
      "\u001b[32m[0708 00:40:22 @base.py:275]\u001b[0m Start Epoch 88 ...\n"
     ]
    },
    {
     "name": "stderr",
     "output_type": "stream",
     "text": [
      "\n",
      "100%|##########|2000/2000[03:56<00:00, 8.46it/s]"
     ]
    },
    {
     "name": "stdout",
     "output_type": "stream",
     "text": [
      "\u001b[32m[0708 00:44:18 @base.py:285]\u001b[0m Epoch 88 (global_step 176000) finished, time:3 minutes 56 seconds.\n",
      "\u001b[32m[0708 00:44:18 @saver.py:79]\u001b[0m Model saved to output/model/model-176000.\n",
      "\u001b[32m[0708 00:44:18 @monitor.py:467]\u001b[0m GAN_loss/discrim/accuracy_fake: 0.955\n",
      "\u001b[32m[0708 00:44:18 @monitor.py:467]\u001b[0m GAN_loss/discrim/accuracy_real: 0.23\n",
      "\u001b[32m[0708 00:44:18 @monitor.py:467]\u001b[0m GAN_loss/discrim/loss: 0.63328\n",
      "\u001b[32m[0708 00:44:18 @monitor.py:467]\u001b[0m GAN_loss/gen/final-g-loss: 1.1002\n",
      "\u001b[32m[0708 00:44:18 @monitor.py:467]\u001b[0m GAN_loss/gen/klloss: 0.10932\n",
      "\u001b[32m[0708 00:44:18 @monitor.py:467]\u001b[0m GAN_loss/gen/loss: 0.99087\n",
      "\u001b[32m[0708 00:44:18 @monitor.py:467]\u001b[0m QueueInput/queue_size: 50\n",
      "\u001b[32m[0708 00:44:18 @base.py:275]\u001b[0m Start Epoch 89 ...\n"
     ]
    },
    {
     "name": "stderr",
     "output_type": "stream",
     "text": [
      "\n",
      "100%|##########|2000/2000[03:53<00:00, 8.42it/s]"
     ]
    },
    {
     "name": "stdout",
     "output_type": "stream",
     "text": [
      "\u001b[32m[0708 00:48:12 @base.py:285]\u001b[0m Epoch 89 (global_step 178000) finished, time:3 minutes 53 seconds.\n",
      "\u001b[32m[0708 00:48:12 @saver.py:79]\u001b[0m Model saved to output/model/model-178000.\n",
      "\u001b[32m[0708 00:48:12 @monitor.py:467]\u001b[0m GAN_loss/discrim/accuracy_fake: 0.95\n",
      "\u001b[32m[0708 00:48:12 @monitor.py:467]\u001b[0m GAN_loss/discrim/accuracy_real: 0.145\n",
      "\u001b[32m[0708 00:48:12 @monitor.py:467]\u001b[0m GAN_loss/discrim/loss: 0.63947\n",
      "\u001b[32m[0708 00:48:12 @monitor.py:467]\u001b[0m GAN_loss/gen/final-g-loss: 1.0982\n",
      "\u001b[32m[0708 00:48:12 @monitor.py:467]\u001b[0m GAN_loss/gen/klloss: 0.10903\n",
      "\u001b[32m[0708 00:48:12 @monitor.py:467]\u001b[0m GAN_loss/gen/loss: 0.98913\n",
      "\u001b[32m[0708 00:48:12 @monitor.py:467]\u001b[0m QueueInput/queue_size: 50\n",
      "\u001b[32m[0708 00:48:12 @base.py:275]\u001b[0m Start Epoch 90 ...\n"
     ]
    },
    {
     "name": "stderr",
     "output_type": "stream",
     "text": [
      "\n",
      "100%|##########|2000/2000[03:55<00:00, 8.50it/s]"
     ]
    },
    {
     "name": "stdout",
     "output_type": "stream",
     "text": [
      "\u001b[32m[0708 00:52:07 @base.py:285]\u001b[0m Epoch 90 (global_step 180000) finished, time:3 minutes 55 seconds.\n",
      "\u001b[32m[0708 00:52:07 @saver.py:79]\u001b[0m Model saved to output/model/model-180000.\n",
      "\u001b[32m[0708 00:52:07 @monitor.py:467]\u001b[0m GAN_loss/discrim/accuracy_fake: 0.895\n",
      "\u001b[32m[0708 00:52:07 @monitor.py:467]\u001b[0m GAN_loss/discrim/accuracy_real: 0.195\n",
      "\u001b[32m[0708 00:52:07 @monitor.py:467]\u001b[0m GAN_loss/discrim/loss: 0.64033\n",
      "\u001b[32m[0708 00:52:07 @monitor.py:467]\u001b[0m GAN_loss/gen/final-g-loss: 1.093\n",
      "\u001b[32m[0708 00:52:07 @monitor.py:467]\u001b[0m GAN_loss/gen/klloss: 0.079714\n",
      "\u001b[32m[0708 00:52:07 @monitor.py:467]\u001b[0m GAN_loss/gen/loss: 1.0133\n",
      "\u001b[32m[0708 00:52:07 @monitor.py:467]\u001b[0m QueueInput/queue_size: 50\n",
      "\u001b[32m[0708 00:52:08 @base.py:275]\u001b[0m Start Epoch 91 ...\n"
     ]
    },
    {
     "name": "stderr",
     "output_type": "stream",
     "text": [
      "\n",
      "100%|##########|2000/2000[03:55<00:00, 8.50it/s]"
     ]
    },
    {
     "name": "stdout",
     "output_type": "stream",
     "text": [
      "\u001b[32m[0708 00:56:03 @base.py:285]\u001b[0m Epoch 91 (global_step 182000) finished, time:3 minutes 55 seconds.\n",
      "\u001b[32m[0708 00:56:03 @saver.py:79]\u001b[0m Model saved to output/model/model-182000.\n",
      "\u001b[32m[0708 00:56:03 @monitor.py:467]\u001b[0m GAN_loss/discrim/accuracy_fake: 0.89\n",
      "\u001b[32m[0708 00:56:03 @monitor.py:467]\u001b[0m GAN_loss/discrim/accuracy_real: 0.27\n",
      "\u001b[32m[0708 00:56:03 @monitor.py:467]\u001b[0m GAN_loss/discrim/loss: 0.63449\n",
      "\u001b[32m[0708 00:56:03 @monitor.py:467]\u001b[0m GAN_loss/gen/final-g-loss: 1.1124\n",
      "\u001b[32m[0708 00:56:03 @monitor.py:467]\u001b[0m GAN_loss/gen/klloss: 0.094558\n",
      "\u001b[32m[0708 00:56:03 @monitor.py:467]\u001b[0m GAN_loss/gen/loss: 1.0178\n",
      "\u001b[32m[0708 00:56:03 @monitor.py:467]\u001b[0m QueueInput/queue_size: 50\n",
      "\u001b[32m[0708 00:56:03 @base.py:275]\u001b[0m Start Epoch 92 ...\n"
     ]
    },
    {
     "name": "stderr",
     "output_type": "stream",
     "text": [
      "\n",
      "100%|##########|2000/2000[03:54<00:00, 8.52it/s]"
     ]
    },
    {
     "name": "stdout",
     "output_type": "stream",
     "text": [
      "\u001b[32m[0708 00:59:57 @base.py:285]\u001b[0m Epoch 92 (global_step 184000) finished, time:3 minutes 54 seconds.\n",
      "\u001b[32m[0708 00:59:57 @saver.py:79]\u001b[0m Model saved to output/model/model-184000.\n",
      "\u001b[32m[0708 00:59:57 @monitor.py:467]\u001b[0m GAN_loss/discrim/accuracy_fake: 0.925\n",
      "\u001b[32m[0708 00:59:57 @monitor.py:467]\u001b[0m GAN_loss/discrim/accuracy_real: 0.19\n",
      "\u001b[32m[0708 00:59:57 @monitor.py:467]\u001b[0m GAN_loss/discrim/loss: 0.64605\n",
      "\u001b[32m[0708 00:59:57 @monitor.py:467]\u001b[0m GAN_loss/gen/final-g-loss: 1.0792\n",
      "\u001b[32m[0708 00:59:57 @monitor.py:467]\u001b[0m GAN_loss/gen/klloss: 0.080845\n",
      "\u001b[32m[0708 00:59:57 @monitor.py:467]\u001b[0m GAN_loss/gen/loss: 0.99832\n",
      "\u001b[32m[0708 00:59:57 @monitor.py:467]\u001b[0m QueueInput/queue_size: 50\n",
      "\u001b[32m[0708 00:59:57 @base.py:275]\u001b[0m Start Epoch 93 ...\n"
     ]
    },
    {
     "name": "stderr",
     "output_type": "stream",
     "text": [
      "\n",
      "100%|##########|2000/2000[03:55<00:00, 8.32it/s]"
     ]
    },
    {
     "name": "stdout",
     "output_type": "stream",
     "text": [
      "\u001b[32m[0708 01:03:53 @base.py:285]\u001b[0m Epoch 93 (global_step 186000) finished, time:3 minutes 55 seconds.\n",
      "\u001b[32m[0708 01:03:53 @saver.py:79]\u001b[0m Model saved to output/model/model-186000.\n",
      "\u001b[32m[0708 01:03:53 @monitor.py:467]\u001b[0m GAN_loss/discrim/accuracy_fake: 0.9\n",
      "\u001b[32m[0708 01:03:53 @monitor.py:467]\u001b[0m GAN_loss/discrim/accuracy_real: 0.245\n",
      "\u001b[32m[0708 01:03:53 @monitor.py:467]\u001b[0m GAN_loss/discrim/loss: 0.63617\n",
      "\u001b[32m[0708 01:03:53 @monitor.py:467]\u001b[0m GAN_loss/gen/final-g-loss: 1.1024\n",
      "\u001b[32m[0708 01:03:53 @monitor.py:467]\u001b[0m GAN_loss/gen/klloss: 0.088075\n",
      "\u001b[32m[0708 01:03:53 @monitor.py:467]\u001b[0m GAN_loss/gen/loss: 1.0143\n",
      "\u001b[32m[0708 01:03:53 @monitor.py:467]\u001b[0m QueueInput/queue_size: 50\n",
      "\u001b[32m[0708 01:03:53 @base.py:275]\u001b[0m Start Epoch 94 ...\n"
     ]
    },
    {
     "name": "stderr",
     "output_type": "stream",
     "text": [
      "\n",
      "100%|##########|2000/2000[03:54<00:00, 8.53it/s]"
     ]
    },
    {
     "name": "stdout",
     "output_type": "stream",
     "text": [
      "\u001b[32m[0708 01:07:47 @base.py:285]\u001b[0m Epoch 94 (global_step 188000) finished, time:3 minutes 54 seconds.\n",
      "\u001b[32m[0708 01:07:47 @saver.py:79]\u001b[0m Model saved to output/model/model-188000.\n",
      "\u001b[32m[0708 01:07:47 @monitor.py:467]\u001b[0m GAN_loss/discrim/accuracy_fake: 0.92\n",
      "\u001b[32m[0708 01:07:47 @monitor.py:467]\u001b[0m GAN_loss/discrim/accuracy_real: 0.15\n",
      "\u001b[32m[0708 01:07:47 @monitor.py:467]\u001b[0m GAN_loss/discrim/loss: 0.65095\n",
      "\u001b[32m[0708 01:07:47 @monitor.py:467]\u001b[0m GAN_loss/gen/final-g-loss: 1.0437\n",
      "\u001b[32m[0708 01:07:47 @monitor.py:467]\u001b[0m GAN_loss/gen/klloss: 0.095454\n",
      "\u001b[32m[0708 01:07:47 @monitor.py:467]\u001b[0m GAN_loss/gen/loss: 0.9482\n",
      "\u001b[32m[0708 01:07:47 @monitor.py:467]\u001b[0m QueueInput/queue_size: 50\n",
      "\u001b[32m[0708 01:07:47 @base.py:275]\u001b[0m Start Epoch 95 ...\n"
     ]
    },
    {
     "name": "stderr",
     "output_type": "stream",
     "text": [
      "\n",
      "100%|##########|2000/2000[03:54<00:00, 8.54it/s]"
     ]
    },
    {
     "name": "stdout",
     "output_type": "stream",
     "text": [
      "\u001b[32m[0708 01:11:42 @base.py:285]\u001b[0m Epoch 95 (global_step 190000) finished, time:3 minutes 54 seconds.\n",
      "\u001b[32m[0708 01:11:42 @saver.py:79]\u001b[0m Model saved to output/model/model-190000.\n",
      "\u001b[32m[0708 01:11:42 @monitor.py:467]\u001b[0m GAN_loss/discrim/accuracy_fake: 0.88\n",
      "\u001b[32m[0708 01:11:42 @monitor.py:467]\u001b[0m GAN_loss/discrim/accuracy_real: 0.225\n",
      "\u001b[32m[0708 01:11:42 @monitor.py:467]\u001b[0m GAN_loss/discrim/loss: 0.64427\n",
      "\u001b[32m[0708 01:11:42 @monitor.py:467]\u001b[0m GAN_loss/gen/final-g-loss: 1.0751\n",
      "\u001b[32m[0708 01:11:42 @monitor.py:467]\u001b[0m GAN_loss/gen/klloss: 0.083279\n",
      "\u001b[32m[0708 01:11:42 @monitor.py:467]\u001b[0m GAN_loss/gen/loss: 0.99182\n",
      "\u001b[32m[0708 01:11:42 @monitor.py:467]\u001b[0m QueueInput/queue_size: 50\n",
      "\u001b[32m[0708 01:11:42 @base.py:275]\u001b[0m Start Epoch 96 ...\n"
     ]
    },
    {
     "name": "stderr",
     "output_type": "stream",
     "text": [
      "\n",
      "100%|##########|2000/2000[03:55<00:00, 8.50it/s]"
     ]
    },
    {
     "name": "stdout",
     "output_type": "stream",
     "text": [
      "\u001b[32m[0708 01:15:37 @base.py:285]\u001b[0m Epoch 96 (global_step 192000) finished, time:3 minutes 55 seconds.\n",
      "\u001b[32m[0708 01:15:37 @saver.py:79]\u001b[0m Model saved to output/model/model-192000.\n",
      "\u001b[32m[0708 01:15:37 @monitor.py:467]\u001b[0m GAN_loss/discrim/accuracy_fake: 0.905\n",
      "\u001b[32m[0708 01:15:37 @monitor.py:467]\u001b[0m GAN_loss/discrim/accuracy_real: 0.2\n",
      "\u001b[32m[0708 01:15:37 @monitor.py:467]\u001b[0m GAN_loss/discrim/loss: 0.63854\n",
      "\u001b[32m[0708 01:15:37 @monitor.py:467]\u001b[0m GAN_loss/gen/final-g-loss: 1.0779\n",
      "\u001b[32m[0708 01:15:37 @monitor.py:467]\u001b[0m GAN_loss/gen/klloss: 0.085108\n",
      "\u001b[32m[0708 01:15:37 @monitor.py:467]\u001b[0m GAN_loss/gen/loss: 0.99283\n",
      "\u001b[32m[0708 01:15:37 @monitor.py:467]\u001b[0m QueueInput/queue_size: 50\n",
      "\u001b[32m[0708 01:15:37 @base.py:275]\u001b[0m Start Epoch 97 ...\n"
     ]
    },
    {
     "name": "stderr",
     "output_type": "stream",
     "text": [
      "\n",
      "100%|##########|2000/2000[03:54<00:00, 8.62it/s]"
     ]
    },
    {
     "name": "stdout",
     "output_type": "stream",
     "text": [
      "\u001b[32m[0708 01:19:31 @base.py:285]\u001b[0m Epoch 97 (global_step 194000) finished, time:3 minutes 54 seconds.\n",
      "\u001b[32m[0708 01:19:31 @saver.py:79]\u001b[0m Model saved to output/model/model-194000.\n",
      "\u001b[32m[0708 01:19:31 @monitor.py:467]\u001b[0m GAN_loss/discrim/accuracy_fake: 0.865\n",
      "\u001b[32m[0708 01:19:31 @monitor.py:467]\u001b[0m GAN_loss/discrim/accuracy_real: 0.205\n",
      "\u001b[32m[0708 01:19:31 @monitor.py:467]\u001b[0m GAN_loss/discrim/loss: 0.64855\n",
      "\u001b[32m[0708 01:19:31 @monitor.py:467]\u001b[0m GAN_loss/gen/final-g-loss: 1.0318\n",
      "\u001b[32m[0708 01:19:31 @monitor.py:467]\u001b[0m GAN_loss/gen/klloss: 0.064824\n",
      "\u001b[32m[0708 01:19:31 @monitor.py:467]\u001b[0m GAN_loss/gen/loss: 0.96698\n",
      "\u001b[32m[0708 01:19:31 @monitor.py:467]\u001b[0m QueueInput/queue_size: 50\n",
      "\u001b[32m[0708 01:19:31 @base.py:275]\u001b[0m Start Epoch 98 ...\n"
     ]
    },
    {
     "name": "stderr",
     "output_type": "stream",
     "text": [
      "\n",
      "100%|##########|2000/2000[03:54<00:00, 8.53it/s]"
     ]
    },
    {
     "name": "stdout",
     "output_type": "stream",
     "text": [
      "\u001b[32m[0708 01:23:26 @base.py:285]\u001b[0m Epoch 98 (global_step 196000) finished, time:3 minutes 54 seconds.\n",
      "\u001b[32m[0708 01:23:26 @saver.py:79]\u001b[0m Model saved to output/model/model-196000.\n",
      "\u001b[32m[0708 01:23:26 @monitor.py:467]\u001b[0m GAN_loss/discrim/accuracy_fake: 0.87\n",
      "\u001b[32m[0708 01:23:26 @monitor.py:467]\u001b[0m GAN_loss/discrim/accuracy_real: 0.225\n",
      "\u001b[32m[0708 01:23:26 @monitor.py:467]\u001b[0m GAN_loss/discrim/loss: 0.65722\n",
      "\u001b[32m[0708 01:23:26 @monitor.py:467]\u001b[0m GAN_loss/gen/final-g-loss: 1.0718\n",
      "\u001b[32m[0708 01:23:26 @monitor.py:467]\u001b[0m GAN_loss/gen/klloss: 0.10216\n",
      "\u001b[32m[0708 01:23:26 @monitor.py:467]\u001b[0m GAN_loss/gen/loss: 0.96961\n",
      "\u001b[32m[0708 01:23:26 @monitor.py:467]\u001b[0m QueueInput/queue_size: 50\n",
      "\u001b[32m[0708 01:23:26 @base.py:275]\u001b[0m Start Epoch 99 ...\n"
     ]
    },
    {
     "name": "stderr",
     "output_type": "stream",
     "text": [
      "\n",
      "100%|##########|2000/2000[03:56<00:00, 8.47it/s]"
     ]
    },
    {
     "name": "stdout",
     "output_type": "stream",
     "text": [
      "\u001b[32m[0708 01:27:22 @base.py:285]\u001b[0m Epoch 99 (global_step 198000) finished, time:3 minutes 56 seconds.\n",
      "\u001b[32m[0708 01:27:22 @saver.py:79]\u001b[0m Model saved to output/model/model-198000.\n",
      "\u001b[32m[0708 01:27:22 @monitor.py:467]\u001b[0m GAN_loss/discrim/accuracy_fake: 0.91\n",
      "\u001b[32m[0708 01:27:22 @monitor.py:467]\u001b[0m GAN_loss/discrim/accuracy_real: 0.17\n",
      "\u001b[32m[0708 01:27:22 @monitor.py:467]\u001b[0m GAN_loss/discrim/loss: 0.63317\n",
      "\u001b[32m[0708 01:27:22 @monitor.py:467]\u001b[0m GAN_loss/gen/final-g-loss: 1.1413\n",
      "\u001b[32m[0708 01:27:22 @monitor.py:467]\u001b[0m GAN_loss/gen/klloss: 0.1353\n",
      "\u001b[32m[0708 01:27:22 @monitor.py:467]\u001b[0m GAN_loss/gen/loss: 1.006\n",
      "\u001b[32m[0708 01:27:22 @monitor.py:467]\u001b[0m QueueInput/queue_size: 50\n",
      "\u001b[32m[0708 01:27:22 @base.py:275]\u001b[0m Start Epoch 100 ...\n"
     ]
    },
    {
     "name": "stderr",
     "output_type": "stream",
     "text": [
      "\n",
      "100%|##########|2000/2000[03:54<00:00, 8.65it/s]"
     ]
    },
    {
     "name": "stdout",
     "output_type": "stream",
     "text": [
      "\u001b[32m[0708 01:31:16 @base.py:285]\u001b[0m Epoch 100 (global_step 200000) finished, time:3 minutes 54 seconds.\n",
      "\u001b[32m[0708 01:31:16 @saver.py:79]\u001b[0m Model saved to output/model/model-200000.\n",
      "\u001b[32m[0708 01:31:16 @monitor.py:467]\u001b[0m GAN_loss/discrim/accuracy_fake: 0.915\n",
      "\u001b[32m[0708 01:31:16 @monitor.py:467]\u001b[0m GAN_loss/discrim/accuracy_real: 0.155\n",
      "\u001b[32m[0708 01:31:16 @monitor.py:467]\u001b[0m GAN_loss/discrim/loss: 0.64417\n",
      "\u001b[32m[0708 01:31:16 @monitor.py:467]\u001b[0m GAN_loss/gen/final-g-loss: 1.1281\n",
      "\u001b[32m[0708 01:31:16 @monitor.py:467]\u001b[0m GAN_loss/gen/klloss: 0.1444\n",
      "\u001b[32m[0708 01:31:16 @monitor.py:467]\u001b[0m GAN_loss/gen/loss: 0.98366\n",
      "\u001b[32m[0708 01:31:16 @monitor.py:467]\u001b[0m QueueInput/queue_size: 50\n",
      "\u001b[32m[0708 01:31:16 @base.py:289]\u001b[0m Training has finished!\n"
     ]
    },
    {
     "name": "stderr",
     "output_type": "stream",
     "text": [
      "\n"
     ]
    },
    {
     "name": "stdout",
     "output_type": "stream",
     "text": [
      "\u001b[32m[0708 01:31:17 @input_source.py:178]\u001b[0m EnqueueThread QueueInput/input_queue Exited.\n",
      "\u001b[32m[0708 01:31:18 @collection.py:146]\u001b[0m New collections created in tower : tf.GraphKeys.REGULARIZATION_LOSSES\n",
      "\u001b[32m[0708 01:31:18 @collection.py:165]\u001b[0m These collections were modified but restored in : (tf.GraphKeys.SUMMARIES: 0->2)\n",
      "\u001b[32m[0708 01:31:18 @sessinit.py:87]\u001b[0m \u001b[5m\u001b[31mWRN\u001b[0m The following variables are in the checkpoint, but not found in the graph: global_step, optimize/beta1_power, optimize/beta2_power\n",
      "\u001b[32m[0708 01:31:19 @sessinit.py:114]\u001b[0m Restoring checkpoint from output/model/model-200000 ...\n"
     ]
    }
   ],
   "source": [
    "tgan.fit(df)"
   ]
  },
  {
   "cell_type": "code",
   "execution_count": 9,
   "metadata": {},
   "outputs": [
    {
     "name": "stdout",
     "output_type": "stream",
     "text": [
      "\u001b[32m[0708 01:31:23 @model.py:813]\u001b[0m Model saved successfully.\n"
     ]
    }
   ],
   "source": [
    "model_path = 'output/trained'\n",
    "\n",
    "tgan.save(model_path)"
   ]
  },
  {
   "cell_type": "code",
   "execution_count": null,
   "metadata": {},
   "outputs": [],
   "source": []
  }
 ],
 "metadata": {
  "kernelspec": {
   "display_name": "Python 3",
   "language": "python",
   "name": "python3"
  },
  "language_info": {
   "codemirror_mode": {
    "name": "ipython",
    "version": 3
   },
   "file_extension": ".py",
   "mimetype": "text/x-python",
   "name": "python",
   "nbconvert_exporter": "python",
   "pygments_lexer": "ipython3",
   "version": "3.6.3"
  }
 },
 "nbformat": 4,
 "nbformat_minor": 2
}
