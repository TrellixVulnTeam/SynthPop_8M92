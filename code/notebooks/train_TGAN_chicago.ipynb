{
 "cells": [
  {
   "cell_type": "code",
   "execution_count": 1,
   "metadata": {},
   "outputs": [],
   "source": [
    "import os\n",
    "os.chdir('..')"
   ]
  },
  {
   "cell_type": "code",
   "execution_count": 2,
   "metadata": {},
   "outputs": [
    {
     "name": "stdout",
     "output_type": "stream",
     "text": [
      "WARNING:tensorflow:From /home/gael/Applications/anaconda/envs/py37/lib/python3.7/site-packages/tensorpack/callbacks/hooks.py:17: The name tf.train.SessionRunHook is deprecated. Please use tf.estimator.SessionRunHook instead.\n",
      "\n",
      "WARNING:tensorflow:From /home/gael/Applications/anaconda/envs/py37/lib/python3.7/site-packages/tensorpack/tfutils/optimizer.py:18: The name tf.train.Optimizer is deprecated. Please use tf.compat.v1.train.Optimizer instead.\n",
      "\n",
      "WARNING:tensorflow:From /home/gael/Applications/anaconda/envs/py37/lib/python3.7/site-packages/tensorpack/tfutils/sesscreate.py:20: The name tf.train.SessionCreator is deprecated. Please use tf.compat.v1.train.SessionCreator instead.\n",
      "\n"
     ]
    }
   ],
   "source": [
    "import numpy as np\n",
    "import pandas as pd\n",
    "\n",
    "from tgan.model import TGANModel\n",
    "\n",
    "# For the Python notebook\n",
    "%matplotlib inline\n",
    "%reload_ext autoreload\n",
    "%autoreload 2"
   ]
  },
  {
   "cell_type": "code",
   "execution_count": 3,
   "metadata": {},
   "outputs": [],
   "source": [
    "df = pd.read_csv('../data/Chicago/full.csv')"
   ]
  },
  {
   "cell_type": "code",
   "execution_count": 4,
   "metadata": {},
   "outputs": [
    {
     "data": {
      "text/html": [
       "<div>\n",
       "<style scoped>\n",
       "    .dataframe tbody tr th:only-of-type {\n",
       "        vertical-align: middle;\n",
       "    }\n",
       "\n",
       "    .dataframe tbody tr th {\n",
       "        vertical-align: top;\n",
       "    }\n",
       "\n",
       "    .dataframe thead th {\n",
       "        text-align: right;\n",
       "    }\n",
       "</style>\n",
       "<table border=\"1\" class=\"dataframe\">\n",
       "  <thead>\n",
       "    <tr style=\"text-align: right;\">\n",
       "      <th></th>\n",
       "      <th>choice</th>\n",
       "      <th>travel_dow</th>\n",
       "      <th>trip_purpose</th>\n",
       "      <th>distance</th>\n",
       "      <th>departure_hour</th>\n",
       "      <th>departure_min</th>\n",
       "      <th>hh_vehicles</th>\n",
       "      <th>hh_size</th>\n",
       "      <th>hh_bikes</th>\n",
       "      <th>hh_descr</th>\n",
       "      <th>hh_income</th>\n",
       "      <th>gender</th>\n",
       "      <th>age</th>\n",
       "      <th>license</th>\n",
       "      <th>education_level</th>\n",
       "      <th>work_status</th>\n",
       "    </tr>\n",
       "  </thead>\n",
       "  <tbody>\n",
       "    <tr>\n",
       "      <th>0</th>\n",
       "      <td>drive</td>\n",
       "      <td>7</td>\n",
       "      <td>HOME_OTHER</td>\n",
       "      <td>23.42579</td>\n",
       "      <td>9.0</td>\n",
       "      <td>20.0</td>\n",
       "      <td>2</td>\n",
       "      <td>2</td>\n",
       "      <td>0</td>\n",
       "      <td>2</td>\n",
       "      <td>6</td>\n",
       "      <td>1</td>\n",
       "      <td>66</td>\n",
       "      <td>1.0</td>\n",
       "      <td>6</td>\n",
       "      <td>FTE</td>\n",
       "    </tr>\n",
       "    <tr>\n",
       "      <th>1</th>\n",
       "      <td>drive</td>\n",
       "      <td>7</td>\n",
       "      <td>OTHER</td>\n",
       "      <td>1.71259</td>\n",
       "      <td>12.0</td>\n",
       "      <td>5.0</td>\n",
       "      <td>2</td>\n",
       "      <td>2</td>\n",
       "      <td>0</td>\n",
       "      <td>2</td>\n",
       "      <td>6</td>\n",
       "      <td>1</td>\n",
       "      <td>66</td>\n",
       "      <td>1.0</td>\n",
       "      <td>6</td>\n",
       "      <td>FTE</td>\n",
       "    </tr>\n",
       "    <tr>\n",
       "      <th>2</th>\n",
       "      <td>drive</td>\n",
       "      <td>7</td>\n",
       "      <td>HOME_OTHER</td>\n",
       "      <td>21.77887</td>\n",
       "      <td>15.0</td>\n",
       "      <td>30.0</td>\n",
       "      <td>2</td>\n",
       "      <td>2</td>\n",
       "      <td>0</td>\n",
       "      <td>2</td>\n",
       "      <td>6</td>\n",
       "      <td>1</td>\n",
       "      <td>66</td>\n",
       "      <td>1.0</td>\n",
       "      <td>6</td>\n",
       "      <td>FTE</td>\n",
       "    </tr>\n",
       "    <tr>\n",
       "      <th>3</th>\n",
       "      <td>drive</td>\n",
       "      <td>7</td>\n",
       "      <td>SHOPPING</td>\n",
       "      <td>2.02603</td>\n",
       "      <td>17.0</td>\n",
       "      <td>30.0</td>\n",
       "      <td>2</td>\n",
       "      <td>2</td>\n",
       "      <td>0</td>\n",
       "      <td>2</td>\n",
       "      <td>6</td>\n",
       "      <td>1</td>\n",
       "      <td>66</td>\n",
       "      <td>1.0</td>\n",
       "      <td>6</td>\n",
       "      <td>FTE</td>\n",
       "    </tr>\n",
       "    <tr>\n",
       "      <th>4</th>\n",
       "      <td>drive</td>\n",
       "      <td>7</td>\n",
       "      <td>SHOPPING</td>\n",
       "      <td>0.87691</td>\n",
       "      <td>18.0</td>\n",
       "      <td>15.0</td>\n",
       "      <td>2</td>\n",
       "      <td>2</td>\n",
       "      <td>0</td>\n",
       "      <td>2</td>\n",
       "      <td>6</td>\n",
       "      <td>1</td>\n",
       "      <td>66</td>\n",
       "      <td>1.0</td>\n",
       "      <td>6</td>\n",
       "      <td>FTE</td>\n",
       "    </tr>\n",
       "  </tbody>\n",
       "</table>\n",
       "</div>"
      ],
      "text/plain": [
       "  choice  travel_dow trip_purpose  distance  departure_hour  departure_min  \\\n",
       "0  drive           7   HOME_OTHER  23.42579             9.0           20.0   \n",
       "1  drive           7        OTHER   1.71259            12.0            5.0   \n",
       "2  drive           7   HOME_OTHER  21.77887            15.0           30.0   \n",
       "3  drive           7     SHOPPING   2.02603            17.0           30.0   \n",
       "4  drive           7     SHOPPING   0.87691            18.0           15.0   \n",
       "\n",
       "   hh_vehicles  hh_size  hh_bikes  hh_descr  hh_income  gender  age  license  \\\n",
       "0            2        2         0         2          6       1   66      1.0   \n",
       "1            2        2         0         2          6       1   66      1.0   \n",
       "2            2        2         0         2          6       1   66      1.0   \n",
       "3            2        2         0         2          6       1   66      1.0   \n",
       "4            2        2         0         2          6       1   66      1.0   \n",
       "\n",
       "   education_level work_status  \n",
       "0                6         FTE  \n",
       "1                6         FTE  \n",
       "2                6         FTE  \n",
       "3                6         FTE  \n",
       "4                6         FTE  "
      ]
     },
     "execution_count": 4,
     "metadata": {},
     "output_type": "execute_result"
    }
   ],
   "source": [
    "df.head()"
   ]
  },
  {
   "cell_type": "code",
   "execution_count": 8,
   "metadata": {},
   "outputs": [],
   "source": [
    "continuous_columns = [3, 10, 14]"
   ]
  },
  {
   "cell_type": "code",
   "execution_count": 9,
   "metadata": {},
   "outputs": [],
   "source": [
    "output_folder = './output_TGAN/output/'"
   ]
  },
  {
   "cell_type": "code",
   "execution_count": 10,
   "metadata": {},
   "outputs": [],
   "source": [
    "tgan = TGANModel(continuous_columns, max_epoch=100, steps_per_epoch=2000, output=output_folder)"
   ]
  },
  {
   "cell_type": "code",
   "execution_count": 11,
   "metadata": {
    "scrolled": true
   },
   "outputs": [
    {
     "name": "stdout",
     "output_type": "stream",
     "text": [
      "WARNING:tensorflow:From /home/gael/Applications/anaconda/envs/py37/lib/python3.7/site-packages/tensorpack/graph_builder/model_desc.py:29: The name tf.get_default_graph is deprecated. Please use tf.compat.v1.get_default_graph instead.\n",
      "\n",
      "WARNING:tensorflow:From /home/gael/Applications/anaconda/envs/py37/lib/python3.7/site-packages/tensorpack/graph_builder/model_desc.py:39: The name tf.placeholder is deprecated. Please use tf.compat.v1.placeholder instead.\n",
      "\n",
      "WARNING:tensorflow:From /home/gael/Applications/anaconda/envs/py37/lib/python3.7/site-packages/tensorpack/input_source/input_source.py:219: The name tf.FIFOQueue is deprecated. Please use tf.queue.FIFOQueue instead.\n",
      "\n",
      "\u001b[32m[1001 17:26:25 @input_source.py:222]\u001b[0m Setting up the queue 'QueueInput/input_queue' for CPU prefetching ...\n",
      "WARNING:tensorflow:From /home/gael/Applications/anaconda/envs/py37/lib/python3.7/site-packages/tensorpack/tfutils/summary.py:237: The name tf.get_variable_scope is deprecated. Please use tf.compat.v1.get_variable_scope instead.\n",
      "\n",
      "WARNING:tensorflow:From /home/gael/Applications/anaconda/envs/py37/lib/python3.7/site-packages/tensorpack/tfutils/summary.py:27: The name tf.variable_scope is deprecated. Please use tf.compat.v1.variable_scope instead.\n",
      "\n",
      "WARNING:tensorflow:From /home/gael/Applications/anaconda/envs/py37/lib/python3.7/site-packages/tensorpack/tfutils/summary.py:254: The name tf.get_variable is deprecated. Please use tf.compat.v1.get_variable instead.\n",
      "\n",
      "WARNING:tensorflow:From /home/gael/Applications/anaconda/envs/py37/lib/python3.7/site-packages/tensorpack/tfutils/summary.py:264: The name tf.summary.scalar is deprecated. Please use tf.compat.v1.summary.scalar instead.\n",
      "\n",
      "WARNING:tensorflow:From /home/gael/Applications/anaconda/envs/py37/lib/python3.7/site-packages/tensorpack/tfutils/collection.py:105: The name tf.GraphKeys is deprecated. Please use tf.compat.v1.GraphKeys instead.\n",
      "\n",
      "WARNING:tensorflow:From /home/gael/Applications/anaconda/envs/py37/lib/python3.7/site-packages/tensorpack/tfutils/collection.py:33: The name tf.get_collection is deprecated. Please use tf.compat.v1.get_collection instead.\n",
      "\n",
      "WARNING:tensorflow:From /home/gael/Applications/anaconda/envs/py37/lib/python3.7/site-packages/tgan/model.py:455: The name tf.random_normal is deprecated. Please use tf.random.normal instead.\n",
      "\n",
      "WARNING:tensorflow:From /home/gael/Applications/anaconda/envs/py37/lib/python3.7/site-packages/tgan/model.py:458: The name tf.placeholder_with_default is deprecated. Please use tf.compat.v1.placeholder_with_default instead.\n",
      "\n",
      "WARNING:tensorflow:From /home/gael/Applications/anaconda/envs/py37/lib/python3.7/site-packages/tgan/model.py:259: LSTMCell.__init__ (from tensorflow.python.ops.rnn_cell_impl) is deprecated and will be removed in a future version.\n",
      "Instructions for updating:\n",
      "This class is equivalent as tf.keras.layers.LSTMCell, and will be replaced by that in Tensorflow 2.0.\n",
      "WARNING:tensorflow:From /home/gael/Applications/anaconda/envs/py37/lib/python3.7/site-packages/tensorflow_core/python/ops/rnn_cell_impl.py:958: Layer.add_variable (from tensorflow.python.keras.engine.base_layer) is deprecated and will be removed in a future version.\n",
      "Instructions for updating:\n",
      "Please use `layer.add_weight` method instead.\n",
      "WARNING:tensorflow:From /home/gael/Applications/anaconda/envs/py37/lib/python3.7/site-packages/tensorflow_core/python/ops/rnn_cell_impl.py:962: calling Zeros.__init__ (from tensorflow.python.ops.init_ops) with dtype is deprecated and will be removed in a future version.\n",
      "Instructions for updating:\n",
      "Call initializer instance with the dtype argument instead of passing it to the constructor\n",
      "\u001b[32m[1001 17:26:25 @registry.py:126]\u001b[0m gen/LSTM/00/FC input: [200, 100]\n",
      "WARNING:tensorflow:From /home/gael/Applications/anaconda/envs/py37/lib/python3.7/site-packages/tensorpack/models/fc.py:57: The name tf.layers.Dense is deprecated. Please use tf.compat.v1.layers.Dense instead.\n",
      "\n",
      "WARNING:tensorflow:From /home/gael/Applications/anaconda/envs/py37/lib/python3.7/site-packages/tensorpack/models/fc.py:67: Layer.apply (from tensorflow.python.keras.engine.base_layer) is deprecated and will be removed in a future version.\n",
      "Instructions for updating:\n",
      "Please use `layer.__call__` method instead.\n",
      "\u001b[32m[1001 17:26:25 @registry.py:134]\u001b[0m gen/LSTM/00/FC output: [200, 100]\n",
      "\u001b[32m[1001 17:26:25 @registry.py:126]\u001b[0m gen/LSTM/00/FC2 input: [200, 100]\n",
      "\u001b[32m[1001 17:26:25 @registry.py:134]\u001b[0m gen/LSTM/00/FC2 output: [200, 5]\n",
      "\u001b[32m[1001 17:26:25 @registry.py:126]\u001b[0m gen/LSTM/00/FC3 input: [200, 5]\n",
      "\u001b[32m[1001 17:26:25 @registry.py:134]\u001b[0m gen/LSTM/00/FC3 output: [200, 100]\n",
      "\u001b[32m[1001 17:26:25 @registry.py:126]\u001b[0m gen/LSTM/01/FC input: [200, 100]\n",
      "\u001b[32m[1001 17:26:25 @registry.py:134]\u001b[0m gen/LSTM/01/FC output: [200, 100]\n",
      "\u001b[32m[1001 17:26:25 @registry.py:126]\u001b[0m gen/LSTM/01/FC2 input: [200, 100]\n",
      "\u001b[32m[1001 17:26:25 @registry.py:134]\u001b[0m gen/LSTM/01/FC2 output: [200, 7]\n",
      "\u001b[32m[1001 17:26:25 @registry.py:126]\u001b[0m gen/LSTM/01/FC3 input: [200, 7]\n",
      "\u001b[32m[1001 17:26:25 @registry.py:134]\u001b[0m gen/LSTM/01/FC3 output: [200, 100]\n",
      "\u001b[32m[1001 17:26:25 @registry.py:126]\u001b[0m gen/LSTM/02/FC input: [200, 100]\n",
      "\u001b[32m[1001 17:26:25 @registry.py:134]\u001b[0m gen/LSTM/02/FC output: [200, 100]\n",
      "\u001b[32m[1001 17:26:25 @registry.py:126]\u001b[0m gen/LSTM/02/FC2 input: [200, 100]\n",
      "\u001b[32m[1001 17:26:25 @registry.py:134]\u001b[0m gen/LSTM/02/FC2 output: [200, 7]\n",
      "\u001b[32m[1001 17:26:25 @registry.py:126]\u001b[0m gen/LSTM/02/FC3 input: [200, 7]\n",
      "\u001b[32m[1001 17:26:25 @registry.py:134]\u001b[0m gen/LSTM/02/FC3 output: [200, 100]\n",
      "\u001b[32m[1001 17:26:25 @registry.py:126]\u001b[0m gen/LSTM/03/FC input: [200, 100]\n",
      "\u001b[32m[1001 17:26:25 @registry.py:134]\u001b[0m gen/LSTM/03/FC output: [200, 100]\n",
      "\u001b[32m[1001 17:26:25 @registry.py:126]\u001b[0m gen/LSTM/03/FC2 input: [200, 100]\n",
      "\u001b[32m[1001 17:26:25 @registry.py:134]\u001b[0m gen/LSTM/03/FC2 output: [200, 1]\n",
      "\u001b[32m[1001 17:26:25 @registry.py:126]\u001b[0m gen/LSTM/04/FC input: [200, 100]\n",
      "\u001b[32m[1001 17:26:25 @registry.py:134]\u001b[0m gen/LSTM/04/FC output: [200, 100]\n",
      "\u001b[32m[1001 17:26:25 @registry.py:126]\u001b[0m gen/LSTM/04/FC2 input: [200, 100]\n",
      "\u001b[32m[1001 17:26:25 @registry.py:134]\u001b[0m gen/LSTM/04/FC2 output: [200, 5]\n",
      "\u001b[32m[1001 17:26:25 @registry.py:126]\u001b[0m gen/LSTM/04/FC3 input: [200, 5]\n",
      "\u001b[32m[1001 17:26:25 @registry.py:134]\u001b[0m gen/LSTM/04/FC3 output: [200, 100]\n",
      "\u001b[32m[1001 17:26:25 @registry.py:126]\u001b[0m gen/LSTM/05/FC input: [200, 100]\n",
      "\u001b[32m[1001 17:26:26 @registry.py:134]\u001b[0m gen/LSTM/05/FC output: [200, 100]\n",
      "\u001b[32m[1001 17:26:26 @registry.py:126]\u001b[0m gen/LSTM/05/FC2 input: [200, 100]\n",
      "\u001b[32m[1001 17:26:26 @registry.py:134]\u001b[0m gen/LSTM/05/FC2 output: [200, 9]\n",
      "\u001b[32m[1001 17:26:26 @registry.py:126]\u001b[0m gen/LSTM/05/FC3 input: [200, 9]\n",
      "\u001b[32m[1001 17:26:26 @registry.py:134]\u001b[0m gen/LSTM/05/FC3 output: [200, 100]\n",
      "\u001b[32m[1001 17:26:26 @registry.py:126]\u001b[0m gen/LSTM/06/FC input: [200, 100]\n",
      "\u001b[32m[1001 17:26:26 @registry.py:134]\u001b[0m gen/LSTM/06/FC output: [200, 100]\n",
      "\u001b[32m[1001 17:26:26 @registry.py:126]\u001b[0m gen/LSTM/06/FC2 input: [200, 100]\n",
      "\u001b[32m[1001 17:26:26 @registry.py:134]\u001b[0m gen/LSTM/06/FC2 output: [200, 8]\n",
      "\u001b[32m[1001 17:26:26 @registry.py:126]\u001b[0m gen/LSTM/06/FC3 input: [200, 8]\n",
      "\u001b[32m[1001 17:26:26 @registry.py:134]\u001b[0m gen/LSTM/06/FC3 output: [200, 100]\n",
      "\u001b[32m[1001 17:26:26 @registry.py:126]\u001b[0m gen/LSTM/07/FC input: [200, 100]\n",
      "\u001b[32m[1001 17:26:26 @registry.py:134]\u001b[0m gen/LSTM/07/FC output: [200, 100]\n",
      "\u001b[32m[1001 17:26:26 @registry.py:126]\u001b[0m gen/LSTM/07/FC2 input: [200, 100]\n",
      "\u001b[32m[1001 17:26:26 @registry.py:134]\u001b[0m gen/LSTM/07/FC2 output: [200, 8]\n",
      "\u001b[32m[1001 17:26:26 @registry.py:126]\u001b[0m gen/LSTM/07/FC3 input: [200, 8]\n",
      "\u001b[32m[1001 17:26:26 @registry.py:134]\u001b[0m gen/LSTM/07/FC3 output: [200, 100]\n",
      "\u001b[32m[1001 17:26:26 @registry.py:126]\u001b[0m gen/LSTM/08/FC input: [200, 100]\n",
      "\u001b[32m[1001 17:26:26 @registry.py:134]\u001b[0m gen/LSTM/08/FC output: [200, 100]\n",
      "\u001b[32m[1001 17:26:26 @registry.py:126]\u001b[0m gen/LSTM/08/FC2 input: [200, 100]\n",
      "\u001b[32m[1001 17:26:26 @registry.py:134]\u001b[0m gen/LSTM/08/FC2 output: [200, 3]\n",
      "\u001b[32m[1001 17:26:26 @registry.py:126]\u001b[0m gen/LSTM/08/FC3 input: [200, 3]\n",
      "\u001b[32m[1001 17:26:26 @registry.py:134]\u001b[0m gen/LSTM/08/FC3 output: [200, 100]\n",
      "\u001b[32m[1001 17:26:26 @registry.py:126]\u001b[0m gen/LSTM/09/FC input: [200, 100]\n",
      "\u001b[32m[1001 17:26:26 @registry.py:134]\u001b[0m gen/LSTM/09/FC output: [200, 100]\n"
     ]
    },
    {
     "name": "stdout",
     "output_type": "stream",
     "text": [
      "\u001b[32m[1001 17:26:26 @registry.py:126]\u001b[0m gen/LSTM/09/FC2 input: [200, 100]\n",
      "\u001b[32m[1001 17:26:26 @registry.py:134]\u001b[0m gen/LSTM/09/FC2 output: [200, 7]\n",
      "\u001b[32m[1001 17:26:26 @registry.py:126]\u001b[0m gen/LSTM/09/FC3 input: [200, 7]\n",
      "\u001b[32m[1001 17:26:26 @registry.py:134]\u001b[0m gen/LSTM/09/FC3 output: [200, 100]\n",
      "\u001b[32m[1001 17:26:26 @registry.py:126]\u001b[0m gen/LSTM/10/FC input: [200, 100]\n",
      "\u001b[32m[1001 17:26:26 @registry.py:134]\u001b[0m gen/LSTM/10/FC output: [200, 100]\n",
      "\u001b[32m[1001 17:26:26 @registry.py:126]\u001b[0m gen/LSTM/10/FC2 input: [200, 100]\n",
      "\u001b[32m[1001 17:26:26 @registry.py:134]\u001b[0m gen/LSTM/10/FC2 output: [200, 2]\n",
      "\u001b[32m[1001 17:26:26 @registry.py:126]\u001b[0m gen/LSTM/10/FC3 input: [200, 2]\n",
      "\u001b[32m[1001 17:26:26 @registry.py:134]\u001b[0m gen/LSTM/10/FC3 output: [200, 100]\n",
      "\u001b[32m[1001 17:26:26 @registry.py:126]\u001b[0m gen/LSTM/11/FC input: [200, 100]\n",
      "\u001b[32m[1001 17:26:26 @registry.py:134]\u001b[0m gen/LSTM/11/FC output: [200, 100]\n",
      "\u001b[32m[1001 17:26:26 @registry.py:126]\u001b[0m gen/LSTM/11/FC2 input: [200, 100]\n",
      "\u001b[32m[1001 17:26:26 @registry.py:134]\u001b[0m gen/LSTM/11/FC2 output: [200, 1]\n",
      "\u001b[32m[1001 17:26:26 @registry.py:126]\u001b[0m gen/LSTM/12/FC input: [200, 100]\n",
      "\u001b[32m[1001 17:26:26 @registry.py:134]\u001b[0m gen/LSTM/12/FC output: [200, 100]\n",
      "\u001b[32m[1001 17:26:26 @registry.py:126]\u001b[0m gen/LSTM/12/FC2 input: [200, 100]\n",
      "\u001b[32m[1001 17:26:26 @registry.py:134]\u001b[0m gen/LSTM/12/FC2 output: [200, 5]\n",
      "\u001b[32m[1001 17:26:26 @registry.py:126]\u001b[0m gen/LSTM/12/FC3 input: [200, 5]\n",
      "\u001b[32m[1001 17:26:26 @registry.py:134]\u001b[0m gen/LSTM/12/FC3 output: [200, 100]\n",
      "\u001b[32m[1001 17:26:26 @registry.py:126]\u001b[0m gen/LSTM/13/FC input: [200, 100]\n",
      "\u001b[32m[1001 17:26:26 @registry.py:134]\u001b[0m gen/LSTM/13/FC output: [200, 100]\n",
      "\u001b[32m[1001 17:26:26 @registry.py:126]\u001b[0m gen/LSTM/13/FC2 input: [200, 100]\n",
      "\u001b[32m[1001 17:26:26 @registry.py:134]\u001b[0m gen/LSTM/13/FC2 output: [200, 2]\n",
      "\u001b[32m[1001 17:26:26 @registry.py:126]\u001b[0m gen/LSTM/13/FC3 input: [200, 2]\n",
      "\u001b[32m[1001 17:26:26 @registry.py:134]\u001b[0m gen/LSTM/13/FC3 output: [200, 100]\n",
      "\u001b[32m[1001 17:26:26 @registry.py:126]\u001b[0m gen/LSTM/14/FC input: [200, 100]\n",
      "\u001b[32m[1001 17:26:26 @registry.py:134]\u001b[0m gen/LSTM/14/FC output: [200, 100]\n",
      "\u001b[32m[1001 17:26:26 @registry.py:126]\u001b[0m gen/LSTM/14/FC2 input: [200, 100]\n",
      "\u001b[32m[1001 17:26:26 @registry.py:134]\u001b[0m gen/LSTM/14/FC2 output: [200, 6]\n",
      "\u001b[32m[1001 17:26:26 @registry.py:126]\u001b[0m gen/LSTM/14/FC3 input: [200, 6]\n",
      "\u001b[32m[1001 17:26:26 @registry.py:134]\u001b[0m gen/LSTM/14/FC3 output: [200, 100]\n",
      "\u001b[32m[1001 17:26:26 @registry.py:126]\u001b[0m gen/LSTM/15/FC input: [200, 100]\n",
      "\u001b[32m[1001 17:26:26 @registry.py:134]\u001b[0m gen/LSTM/15/FC output: [200, 100]\n",
      "\u001b[32m[1001 17:26:26 @registry.py:126]\u001b[0m gen/LSTM/15/FC2 input: [200, 100]\n",
      "\u001b[32m[1001 17:26:27 @registry.py:134]\u001b[0m gen/LSTM/15/FC2 output: [200, 8]\n",
      "\u001b[32m[1001 17:26:27 @registry.py:126]\u001b[0m gen/LSTM/15/FC3 input: [200, 8]\n",
      "\u001b[32m[1001 17:26:27 @registry.py:134]\u001b[0m gen/LSTM/15/FC3 output: [200, 100]\n",
      "\u001b[32m[1001 17:26:27 @registry.py:126]\u001b[0m gen/LSTM/16/FC input: [200, 100]\n",
      "\u001b[32m[1001 17:26:27 @registry.py:134]\u001b[0m gen/LSTM/16/FC output: [200, 100]\n",
      "\u001b[32m[1001 17:26:27 @registry.py:126]\u001b[0m gen/LSTM/16/FC2 input: [200, 100]\n",
      "\u001b[32m[1001 17:26:27 @registry.py:134]\u001b[0m gen/LSTM/16/FC2 output: [200, 1]\n",
      "\u001b[32m[1001 17:26:27 @registry.py:126]\u001b[0m gen/LSTM/17/FC input: [200, 100]\n",
      "\u001b[32m[1001 17:26:27 @registry.py:134]\u001b[0m gen/LSTM/17/FC output: [200, 100]\n",
      "\u001b[32m[1001 17:26:27 @registry.py:126]\u001b[0m gen/LSTM/17/FC2 input: [200, 100]\n",
      "\u001b[32m[1001 17:26:27 @registry.py:134]\u001b[0m gen/LSTM/17/FC2 output: [200, 5]\n",
      "\u001b[32m[1001 17:26:27 @registry.py:126]\u001b[0m gen/LSTM/17/FC3 input: [200, 5]\n",
      "\u001b[32m[1001 17:26:27 @registry.py:134]\u001b[0m gen/LSTM/17/FC3 output: [200, 100]\n",
      "WARNING:tensorflow:From /home/gael/Applications/anaconda/envs/py37/lib/python3.7/site-packages/tgan/model.py:494: The name tf.random_uniform is deprecated. Please use tf.random.uniform instead.\n",
      "\n",
      "WARNING:tensorflow:From /home/gael/Applications/anaconda/envs/py37/lib/python3.7/site-packages/tgan/model.py:443: The name tf.log is deprecated. Please use tf.math.log instead.\n",
      "\n",
      "\u001b[32m[1001 17:26:27 @registry.py:126]\u001b[0m discrim/dis_fc0/fc input: [200, 90]\n",
      "\u001b[32m[1001 17:26:27 @registry.py:134]\u001b[0m discrim/dis_fc0/fc output: [200, 100]\n",
      "\u001b[32m[1001 17:26:27 @registry.py:126]\u001b[0m discrim/dis_fc0/fc_diversity input: [200, 100]\n",
      "\u001b[32m[1001 17:26:27 @registry.py:134]\u001b[0m discrim/dis_fc0/fc_diversity output: [200, 100]\n",
      "WARNING:tensorflow:From /home/gael/Applications/anaconda/envs/py37/lib/python3.7/site-packages/tensorpack/models/batch_norm.py:204: The name tf.layers.BatchNormalization is deprecated. Please use tf.compat.v1.layers.BatchNormalization instead.\n",
      "\n",
      "WARNING:tensorflow:From /home/gael/Applications/anaconda/envs/py37/lib/python3.7/site-packages/tensorpack/models/batch_norm.py:212: The name tf.add_to_collection is deprecated. Please use tf.compat.v1.add_to_collection instead.\n",
      "\n",
      "\u001b[32m[1001 17:26:27 @registry.py:126]\u001b[0m discrim/dis_fc_top input: [200, 110]\n",
      "\u001b[32m[1001 17:26:27 @registry.py:134]\u001b[0m discrim/dis_fc_top output: [200, 1]\n",
      "WARNING:tensorflow:From /home/gael/Applications/anaconda/envs/py37/lib/python3.7/site-packages/tgan/model.py:118: The name tf.summary.histogram is deprecated. Please use tf.compat.v1.summary.histogram instead.\n",
      "\n",
      "WARNING:tensorflow:From /home/gael/Applications/anaconda/envs/py37/lib/python3.7/site-packages/tensorflow_core/python/ops/nn_impl.py:183: where (from tensorflow.python.ops.array_ops) is deprecated and will be removed in a future version.\n",
      "Instructions for updating:\n",
      "Use tf.where in 2.0, which has the same broadcast rule as np.where\n",
      "WARNING:tensorflow:\n",
      "The TensorFlow contrib module will not be included in TensorFlow 2.0.\n",
      "For more information, please see:\n",
      "  * https://github.com/tensorflow/community/blob/master/rfcs/20180907-contrib-sunset.md\n",
      "  * https://github.com/tensorflow/addons\n",
      "  * https://github.com/tensorflow/io (for I/O related ops)\n",
      "If you depend on functionality not listed there, please file an issue.\n",
      "\n",
      "WARNING:tensorflow:From /home/gael/Applications/anaconda/envs/py37/lib/python3.7/site-packages/tgan/model.py:551: The name tf.train.AdamOptimizer is deprecated. Please use tf.compat.v1.train.AdamOptimizer instead.\n",
      "\n",
      "\u001b[32m[1001 17:26:31 @logger.py:90]\u001b[0m Argv: /home/gael/Applications/anaconda/envs/py37/lib/python3.7/site-packages/ipykernel_launcher.py -f /home/gael/.local/share/jupyter/runtime/kernel-82eae21e-76c1-4325-8882-8e543d402371.json\n",
      "WARNING:tensorflow:From /home/gael/Applications/anaconda/envs/py37/lib/python3.7/site-packages/tensorpack/callbacks/saver.py:43: The name tf.gfile.IsDirectory is deprecated. Please use tf.io.gfile.isdir instead.\n",
      "\n",
      "WARNING:tensorflow:From /home/gael/Applications/anaconda/envs/py37/lib/python3.7/site-packages/tensorpack/callbacks/saver.py:44: The name tf.gfile.MakeDirs is deprecated. Please use tf.io.gfile.makedirs instead.\n",
      "\n",
      "WARNING:tensorflow:From /home/gael/Applications/anaconda/envs/py37/lib/python3.7/site-packages/tensorpack/tfutils/common.py:41: The name tf.ConfigProto is deprecated. Please use tf.compat.v1.ConfigProto instead.\n",
      "\n",
      "\u001b[32m[1001 17:26:31 @model_utils.py:67]\u001b[0m \u001b[36mList of Trainable Variables: \n",
      "\u001b[0mname                              shape         #elements\n",
      "--------------------------------  ----------  -----------\n",
      "gen/LSTM/go:0                     [1, 100]            100\n",
      "gen/LSTM/lstm_cell/kernel:0       [500, 400]       200000\n",
      "gen/LSTM/lstm_cell/bias:0         [400]               400\n",
      "gen/LSTM/00/FC/W:0                [100, 100]        10000\n",
      "gen/LSTM/00/FC/b:0                [100]               100\n",
      "gen/LSTM/00/FC2/W:0               [100, 5]            500\n",
      "gen/LSTM/00/FC2/b:0               [5]                   5\n",
      "gen/LSTM/00/FC3/W:0               [5, 100]            500\n",
      "gen/LSTM/00/FC3/b:0               [100]               100\n",
      "gen/LSTM/00/attw:0                [1, 1, 1]             1\n",
      "gen/LSTM/01/FC/W:0                [100, 100]        10000\n",
      "gen/LSTM/01/FC/b:0                [100]               100\n",
      "gen/LSTM/01/FC2/W:0               [100, 7]            700\n",
      "gen/LSTM/01/FC2/b:0               [7]                   7\n",
      "gen/LSTM/01/FC3/W:0               [7, 100]            700\n",
      "gen/LSTM/01/FC3/b:0               [100]               100\n",
      "gen/LSTM/01/attw:0                [2, 1, 1]             2\n",
      "gen/LSTM/02/FC/W:0                [100, 100]        10000\n",
      "gen/LSTM/02/FC/b:0                [100]               100\n",
      "gen/LSTM/02/FC2/W:0               [100, 7]            700\n",
      "gen/LSTM/02/FC2/b:0               [7]                   7\n",
      "gen/LSTM/02/FC3/W:0               [7, 100]            700\n",
      "gen/LSTM/02/FC3/b:0               [100]               100\n",
      "gen/LSTM/02/attw:0                [3, 1, 1]             3\n",
      "gen/LSTM/03/FC/W:0                [100, 100]        10000\n",
      "gen/LSTM/03/FC/b:0                [100]               100\n",
      "gen/LSTM/03/FC2/W:0               [100, 1]            100\n",
      "gen/LSTM/03/FC2/b:0               [1]                   1\n",
      "gen/LSTM/03/attw:0                [4, 1, 1]             4\n",
      "gen/LSTM/04/FC/W:0                [100, 100]        10000\n",
      "gen/LSTM/04/FC/b:0                [100]               100\n",
      "gen/LSTM/04/FC2/W:0               [100, 5]            500\n",
      "gen/LSTM/04/FC2/b:0               [5]                   5\n",
      "gen/LSTM/04/FC3/W:0               [5, 100]            500\n",
      "gen/LSTM/04/FC3/b:0               [100]               100\n",
      "gen/LSTM/04/attw:0                [5, 1, 1]             5\n",
      "gen/LSTM/05/FC/W:0                [100, 100]        10000\n",
      "gen/LSTM/05/FC/b:0                [100]               100\n",
      "gen/LSTM/05/FC2/W:0               [100, 9]            900\n",
      "gen/LSTM/05/FC2/b:0               [9]                   9\n",
      "gen/LSTM/05/FC3/W:0               [9, 100]            900\n",
      "gen/LSTM/05/FC3/b:0               [100]               100\n",
      "gen/LSTM/05/attw:0                [6, 1, 1]             6\n",
      "gen/LSTM/06/FC/W:0                [100, 100]        10000\n",
      "gen/LSTM/06/FC/b:0                [100]               100\n",
      "gen/LSTM/06/FC2/W:0               [100, 8]            800\n",
      "gen/LSTM/06/FC2/b:0               [8]                   8\n",
      "gen/LSTM/06/FC3/W:0               [8, 100]            800\n",
      "gen/LSTM/06/FC3/b:0               [100]               100\n",
      "gen/LSTM/06/attw:0                [7, 1, 1]             7\n",
      "gen/LSTM/07/FC/W:0                [100, 100]        10000\n",
      "gen/LSTM/07/FC/b:0                [100]               100\n",
      "gen/LSTM/07/FC2/W:0               [100, 8]            800\n",
      "gen/LSTM/07/FC2/b:0               [8]                   8\n",
      "gen/LSTM/07/FC3/W:0               [8, 100]            800\n",
      "gen/LSTM/07/FC3/b:0               [100]               100\n",
      "gen/LSTM/07/attw:0                [8, 1, 1]             8\n",
      "gen/LSTM/08/FC/W:0                [100, 100]        10000\n",
      "gen/LSTM/08/FC/b:0                [100]               100\n",
      "gen/LSTM/08/FC2/W:0               [100, 3]            300\n",
      "gen/LSTM/08/FC2/b:0               [3]                   3\n",
      "gen/LSTM/08/FC3/W:0               [3, 100]            300\n",
      "gen/LSTM/08/FC3/b:0               [100]               100\n",
      "gen/LSTM/08/attw:0                [9, 1, 1]             9\n",
      "gen/LSTM/09/FC/W:0                [100, 100]        10000\n",
      "gen/LSTM/09/FC/b:0                [100]               100\n",
      "gen/LSTM/09/FC2/W:0               [100, 7]            700\n",
      "gen/LSTM/09/FC2/b:0               [7]                   7\n",
      "gen/LSTM/09/FC3/W:0               [7, 100]            700\n",
      "gen/LSTM/09/FC3/b:0               [100]               100\n",
      "gen/LSTM/09/attw:0                [10, 1, 1]           10\n",
      "gen/LSTM/10/FC/W:0                [100, 100]        10000\n",
      "gen/LSTM/10/FC/b:0                [100]               100\n",
      "gen/LSTM/10/FC2/W:0               [100, 2]            200\n",
      "gen/LSTM/10/FC2/b:0               [2]                   2\n",
      "gen/LSTM/10/FC3/W:0               [2, 100]            200\n",
      "gen/LSTM/10/FC3/b:0               [100]               100\n",
      "gen/LSTM/10/attw:0                [11, 1, 1]           11\n",
      "gen/LSTM/11/FC/W:0                [100, 100]        10000\n",
      "gen/LSTM/11/FC/b:0                [100]               100\n",
      "gen/LSTM/11/FC2/W:0               [100, 1]            100\n",
      "gen/LSTM/11/FC2/b:0               [1]                   1\n",
      "gen/LSTM/11/attw:0                [12, 1, 1]           12\n",
      "gen/LSTM/12/FC/W:0                [100, 100]        10000\n",
      "gen/LSTM/12/FC/b:0                [100]               100\n",
      "gen/LSTM/12/FC2/W:0               [100, 5]            500\n",
      "gen/LSTM/12/FC2/b:0               [5]                   5\n",
      "gen/LSTM/12/FC3/W:0               [5, 100]            500\n",
      "gen/LSTM/12/FC3/b:0               [100]               100\n",
      "gen/LSTM/12/attw:0                [13, 1, 1]           13\n",
      "gen/LSTM/13/FC/W:0                [100, 100]        10000\n",
      "gen/LSTM/13/FC/b:0                [100]               100\n",
      "gen/LSTM/13/FC2/W:0               [100, 2]            200\n",
      "gen/LSTM/13/FC2/b:0               [2]                   2\n",
      "gen/LSTM/13/FC3/W:0               [2, 100]            200\n",
      "gen/LSTM/13/FC3/b:0               [100]               100\n",
      "gen/LSTM/13/attw:0                [14, 1, 1]           14\n",
      "gen/LSTM/14/FC/W:0                [100, 100]        10000\n",
      "gen/LSTM/14/FC/b:0                [100]               100\n",
      "gen/LSTM/14/FC2/W:0               [100, 6]            600\n",
      "gen/LSTM/14/FC2/b:0               [6]                   6\n",
      "gen/LSTM/14/FC3/W:0               [6, 100]            600\n",
      "gen/LSTM/14/FC3/b:0               [100]               100\n",
      "gen/LSTM/14/attw:0                [15, 1, 1]           15\n",
      "gen/LSTM/15/FC/W:0                [100, 100]        10000\n",
      "gen/LSTM/15/FC/b:0                [100]               100\n",
      "gen/LSTM/15/FC2/W:0               [100, 8]            800\n",
      "gen/LSTM/15/FC2/b:0               [8]                   8\n",
      "gen/LSTM/15/FC3/W:0               [8, 100]            800\n",
      "gen/LSTM/15/FC3/b:0               [100]               100\n",
      "gen/LSTM/15/attw:0                [16, 1, 1]           16\n",
      "gen/LSTM/16/FC/W:0                [100, 100]        10000\n",
      "gen/LSTM/16/FC/b:0                [100]               100\n",
      "gen/LSTM/16/FC2/W:0               [100, 1]            100\n",
      "gen/LSTM/16/FC2/b:0               [1]                   1\n",
      "gen/LSTM/16/attw:0                [17, 1, 1]           17\n",
      "gen/LSTM/17/FC/W:0                [100, 100]        10000\n",
      "gen/LSTM/17/FC/b:0                [100]               100\n",
      "gen/LSTM/17/FC2/W:0               [100, 5]            500\n",
      "gen/LSTM/17/FC2/b:0               [5]                   5\n",
      "gen/LSTM/17/FC3/W:0               [5, 100]            500\n",
      "gen/LSTM/17/FC3/b:0               [100]               100\n",
      "gen/LSTM/17/attw:0                [18, 1, 1]           18\n",
      "discrim/dis_fc0/fc/W:0            [90, 100]          9000\n",
      "discrim/dis_fc0/fc/b:0            [100]               100\n",
      "discrim/dis_fc0/fc_diversity/W:0  [100, 100]        10000\n",
      "discrim/dis_fc0/fc_diversity/b:0  [100]               100\n",
      "discrim/dis_fc0/bn/beta:0         [110]               110\n",
      "discrim/dis_fc_top/W:0            [110, 1]            110\n",
      "discrim/dis_fc_top/b:0            [1]                   1\u001b[36m\n",
      "Number of trainable variables: 130\n",
      "Number of parameters (elements): 421182\n",
      "Storage space needed for all trainable variables: 1.61MB\u001b[0m\n"
     ]
    },
    {
     "name": "stdout",
     "output_type": "stream",
     "text": [
      "\u001b[32m[1001 17:26:31 @base.py:209]\u001b[0m Setup callbacks graph ...\n",
      "WARNING:tensorflow:From /home/gael/Applications/anaconda/envs/py37/lib/python3.7/site-packages/tensorpack/callbacks/graph.py:54: The name tf.train.SessionRunArgs is deprecated. Please use tf.estimator.SessionRunArgs instead.\n",
      "\n",
      "WARNING:tensorflow:From /home/gael/Applications/anaconda/envs/py37/lib/python3.7/site-packages/tensorpack/tfutils/common.py:75: The name tf.VariableScope is deprecated. Please use tf.compat.v1.VariableScope instead.\n",
      "\n",
      "WARNING:tensorflow:From /home/gael/Applications/anaconda/envs/py37/lib/python3.7/site-packages/tensorpack/tfutils/common.py:77: The name tf.train.get_or_create_global_step is deprecated. Please use tf.compat.v1.train.get_or_create_global_step instead.\n",
      "\n",
      "WARNING:tensorflow:From /home/gael/Applications/anaconda/envs/py37/lib/python3.7/site-packages/tensorpack/callbacks/steps.py:117: The name tf.assign_add is deprecated. Please use tf.compat.v1.assign_add instead.\n",
      "\n",
      "WARNING:tensorflow:From /home/gael/Applications/anaconda/envs/py37/lib/python3.7/site-packages/tensorpack/callbacks/saver.py:55: The name tf.train.Saver is deprecated. Please use tf.compat.v1.train.Saver instead.\n",
      "\n",
      "WARNING:tensorflow:From /home/gael/Applications/anaconda/envs/py37/lib/python3.7/site-packages/tensorpack/callbacks/saver.py:59: The name tf.train.SaverDef is deprecated. Please use tf.compat.v1.train.SaverDef instead.\n",
      "\n",
      "\u001b[32m[1001 17:26:31 @summary.py:46]\u001b[0m [MovingAverageSummary] 6 operations in collection 'MOVING_SUMMARY_OPS' will be run with session hooks.\n",
      "\u001b[32m[1001 17:26:31 @summary.py:93]\u001b[0m Summarizing collection 'summaries' of size 9.\n",
      "WARNING:tensorflow:From /home/gael/Applications/anaconda/envs/py37/lib/python3.7/site-packages/tensorpack/callbacks/summary.py:94: The name tf.summary.merge_all is deprecated. Please use tf.compat.v1.summary.merge_all instead.\n",
      "\n",
      "\u001b[32m[1001 17:26:31 @graph.py:98]\u001b[0m Applying collection UPDATE_OPS of 4 ops.\n",
      "WARNING:tensorflow:From /home/gael/Applications/anaconda/envs/py37/lib/python3.7/site-packages/tensorpack/callbacks/monitor.py:261: The name tf.summary.FileWriter is deprecated. Please use tf.compat.v1.summary.FileWriter instead.\n",
      "\n",
      "\u001b[32m[1001 17:26:32 @base.py:230]\u001b[0m Creating the session ...\n",
      "WARNING:tensorflow:From /home/gael/Applications/anaconda/envs/py37/lib/python3.7/site-packages/tensorpack/tfutils/sesscreate.py:42: The name tf.Session is deprecated. Please use tf.compat.v1.Session instead.\n",
      "\n",
      "WARNING:tensorflow:From /home/gael/Applications/anaconda/envs/py37/lib/python3.7/site-packages/tensorpack/tfutils/sesscreate.py:71: The name tf.global_variables_initializer is deprecated. Please use tf.compat.v1.global_variables_initializer instead.\n",
      "\n",
      "WARNING:tensorflow:From /home/gael/Applications/anaconda/envs/py37/lib/python3.7/site-packages/tensorpack/tfutils/sesscreate.py:62: get_backward_walk_ops (from tensorflow.contrib.graph_editor.select) is deprecated and will be removed after 2019-06-06.\n",
      "Instructions for updating:\n",
      "Please use tensorflow.python.ops.op_selector.get_backward_walk_ops.\n",
      "WARNING:tensorflow:From /home/gael/Applications/anaconda/envs/py37/lib/python3.7/site-packages/tensorpack/tfutils/sesscreate.py:72: The name tf.local_variables_initializer is deprecated. Please use tf.compat.v1.local_variables_initializer instead.\n",
      "\n",
      "WARNING:tensorflow:From /home/gael/Applications/anaconda/envs/py37/lib/python3.7/site-packages/tensorpack/tfutils/sesscreate.py:73: The name tf.tables_initializer is deprecated. Please use tf.compat.v1.tables_initializer instead.\n",
      "\n",
      "WARNING:tensorflow:From /home/gael/Applications/anaconda/envs/py37/lib/python3.7/site-packages/tensorpack/train/base.py:254: The name tf.train.MonitoredSession is deprecated. Please use tf.compat.v1.train.MonitoredSession instead.\n",
      "\n",
      "\u001b[32m[1001 17:26:33 @base.py:236]\u001b[0m Initializing the session ...\n",
      "\u001b[32m[1001 17:26:33 @base.py:243]\u001b[0m Graph Finalized.\n",
      "WARNING:tensorflow:From /home/gael/Applications/anaconda/envs/py37/lib/python3.7/site-packages/tensorpack/tfutils/common.py:89: The name tf.train.global_step is deprecated. Please use tf.compat.v1.train.global_step instead.\n",
      "\n",
      "WARNING:tensorflow:From /home/gael/Applications/anaconda/envs/py37/lib/python3.7/site-packages/tensorpack/tfutils/common.py:90: The name tf.get_default_session is deprecated. Please use tf.compat.v1.get_default_session instead.\n",
      "\n",
      "\u001b[32m[1001 17:26:34 @concurrency.py:38]\u001b[0m Starting EnqueueThread QueueInput/input_queue ...\n",
      "WARNING:tensorflow:From /home/gael/Applications/anaconda/envs/py37/lib/python3.7/site-packages/tensorpack/callbacks/monitor.py:309: The name tf.gfile.Exists is deprecated. Please use tf.io.gfile.exists instead.\n",
      "\n",
      "\u001b[32m[1001 17:26:34 @base.py:275]\u001b[0m Start Epoch 1 ...\n"
     ]
    },
    {
     "name": "stderr",
     "output_type": "stream",
     "text": [
      "100%|#########9|1997/2000[04:11<00:00, 7.93it/s]"
     ]
    },
    {
     "name": "stdout",
     "output_type": "stream",
     "text": [
      "WARNING:tensorflow:From /home/gael/Applications/anaconda/envs/py37/lib/python3.7/site-packages/tensorpack/callbacks/monitor.py:148: The name tf.Summary is deprecated. Please use tf.compat.v1.Summary instead.\n",
      "\n"
     ]
    },
    {
     "name": "stderr",
     "output_type": "stream",
     "text": [
      "\r",
      "100%|##########|2000/2000[04:13<00:00, 7.87it/s]"
     ]
    },
    {
     "name": "stdout",
     "output_type": "stream",
     "text": [
      "\u001b[32m[1001 17:30:48 @base.py:285]\u001b[0m Epoch 1 (global_step 2000) finished, time:4 minutes 13 seconds.\n",
      "WARNING:tensorflow:From /home/gael/Applications/anaconda/envs/py37/lib/python3.7/site-packages/tensorpack/callbacks/saver.py:77: The name tf.train.get_global_step is deprecated. Please use tf.compat.v1.train.get_global_step instead.\n",
      "\n"
     ]
    },
    {
     "name": "stderr",
     "output_type": "stream",
     "text": [
      "\n"
     ]
    },
    {
     "name": "stdout",
     "output_type": "stream",
     "text": [
      "\u001b[32m[1001 17:30:48 @saver.py:79]\u001b[0m Model saved to ./output_TGAN/output/model/model-2000.\n",
      "\u001b[32m[1001 17:30:48 @monitor.py:467]\u001b[0m GAN_loss/discrim/accuracy_fake: 0.92\n",
      "\u001b[32m[1001 17:30:48 @monitor.py:467]\u001b[0m GAN_loss/discrim/accuracy_real: 0.165\n",
      "\u001b[32m[1001 17:30:48 @monitor.py:467]\u001b[0m GAN_loss/discrim/loss: 0.63167\n",
      "\u001b[32m[1001 17:30:48 @monitor.py:467]\u001b[0m GAN_loss/gen/final-g-loss: 1.0818\n",
      "\u001b[32m[1001 17:30:48 @monitor.py:467]\u001b[0m GAN_loss/gen/klloss: 0.11226\n",
      "\u001b[32m[1001 17:30:48 @monitor.py:467]\u001b[0m GAN_loss/gen/loss: 0.96956\n",
      "\u001b[32m[1001 17:30:48 @monitor.py:467]\u001b[0m QueueInput/queue_size: 50\n",
      "\u001b[32m[1001 17:30:48 @base.py:275]\u001b[0m Start Epoch 2 ...\n"
     ]
    },
    {
     "name": "stderr",
     "output_type": "stream",
     "text": [
      "100%|##########|2000/2000[04:10<00:00, 7.99it/s]"
     ]
    },
    {
     "name": "stdout",
     "output_type": "stream",
     "text": [
      "\u001b[32m[1001 17:34:59 @base.py:285]\u001b[0m Epoch 2 (global_step 4000) finished, time:4 minutes 10 seconds.\n",
      "\u001b[32m[1001 17:34:59 @saver.py:79]\u001b[0m Model saved to ./output_TGAN/output/model/model-4000.\n",
      "\u001b[32m[1001 17:34:59 @monitor.py:467]\u001b[0m GAN_loss/discrim/accuracy_fake: 0.885\n",
      "\u001b[32m[1001 17:34:59 @monitor.py:467]\u001b[0m GAN_loss/discrim/accuracy_real: 0.2\n",
      "\u001b[32m[1001 17:34:59 @monitor.py:467]\u001b[0m GAN_loss/discrim/loss: 0.64663\n",
      "\u001b[32m[1001 17:34:59 @monitor.py:467]\u001b[0m GAN_loss/gen/final-g-loss: 1.0665\n",
      "\u001b[32m[1001 17:34:59 @monitor.py:467]\u001b[0m GAN_loss/gen/klloss: 0.11541\n",
      "\u001b[32m[1001 17:34:59 @monitor.py:467]\u001b[0m GAN_loss/gen/loss: 0.95106\n",
      "\u001b[32m[1001 17:34:59 @monitor.py:467]\u001b[0m QueueInput/queue_size: 50\n",
      "\u001b[32m[1001 17:34:59 @base.py:275]\u001b[0m Start Epoch 3 ...\n"
     ]
    },
    {
     "name": "stderr",
     "output_type": "stream",
     "text": [
      "\n",
      "100%|##########|2000/2000[04:21<00:00, 7.64it/s]"
     ]
    },
    {
     "name": "stdout",
     "output_type": "stream",
     "text": [
      "\u001b[32m[1001 17:39:20 @base.py:285]\u001b[0m Epoch 3 (global_step 6000) finished, time:4 minutes 21 seconds.\n",
      "\u001b[32m[1001 17:39:20 @saver.py:79]\u001b[0m Model saved to ./output_TGAN/output/model/model-6000.\n",
      "\u001b[32m[1001 17:39:20 @monitor.py:467]\u001b[0m GAN_loss/discrim/accuracy_fake: 0.89\n",
      "\u001b[32m[1001 17:39:20 @monitor.py:467]\u001b[0m GAN_loss/discrim/accuracy_real: 0.2\n",
      "\u001b[32m[1001 17:39:20 @monitor.py:467]\u001b[0m GAN_loss/discrim/loss: 0.64874\n",
      "\u001b[32m[1001 17:39:20 @monitor.py:467]\u001b[0m GAN_loss/gen/final-g-loss: 1.0708\n",
      "\u001b[32m[1001 17:39:20 @monitor.py:467]\u001b[0m GAN_loss/gen/klloss: 0.1118\n",
      "\u001b[32m[1001 17:39:20 @monitor.py:467]\u001b[0m GAN_loss/gen/loss: 0.95904\n",
      "\u001b[32m[1001 17:39:20 @monitor.py:467]\u001b[0m QueueInput/queue_size: 50\n",
      "\u001b[32m[1001 17:39:20 @base.py:275]\u001b[0m Start Epoch 4 ...\n"
     ]
    },
    {
     "name": "stderr",
     "output_type": "stream",
     "text": [
      "\n",
      "100%|##########|2000/2000[04:19<00:00, 7.69it/s]"
     ]
    },
    {
     "name": "stdout",
     "output_type": "stream",
     "text": [
      "\u001b[32m[1001 17:43:40 @base.py:285]\u001b[0m Epoch 4 (global_step 8000) finished, time:4 minutes 19 seconds.\n",
      "\u001b[32m[1001 17:43:40 @saver.py:79]\u001b[0m Model saved to ./output_TGAN/output/model/model-8000.\n",
      "\u001b[32m[1001 17:43:40 @monitor.py:467]\u001b[0m GAN_loss/discrim/accuracy_fake: 0.865\n",
      "\u001b[32m[1001 17:43:40 @monitor.py:467]\u001b[0m GAN_loss/discrim/accuracy_real: 0.205\n",
      "\u001b[32m[1001 17:43:40 @monitor.py:467]\u001b[0m GAN_loss/discrim/loss: 0.64441\n",
      "\u001b[32m[1001 17:43:40 @monitor.py:467]\u001b[0m GAN_loss/gen/final-g-loss: 1.0656\n",
      "\u001b[32m[1001 17:43:40 @monitor.py:467]\u001b[0m GAN_loss/gen/klloss: 0.11527\n",
      "\u001b[32m[1001 17:43:40 @monitor.py:467]\u001b[0m GAN_loss/gen/loss: 0.95035\n",
      "\u001b[32m[1001 17:43:40 @monitor.py:467]\u001b[0m QueueInput/queue_size: 50\n",
      "\u001b[32m[1001 17:43:40 @base.py:275]\u001b[0m Start Epoch 5 ...\n"
     ]
    },
    {
     "name": "stderr",
     "output_type": "stream",
     "text": [
      "\n",
      "100%|##########|2000/2000[04:18<00:00, 7.73it/s]"
     ]
    },
    {
     "name": "stdout",
     "output_type": "stream",
     "text": [
      "\u001b[32m[1001 17:47:59 @base.py:285]\u001b[0m Epoch 5 (global_step 10000) finished, time:4 minutes 18 seconds.\n",
      "\u001b[32m[1001 17:47:59 @saver.py:79]\u001b[0m Model saved to ./output_TGAN/output/model/model-10000.\n",
      "\u001b[32m[1001 17:47:59 @monitor.py:467]\u001b[0m GAN_loss/discrim/accuracy_fake: 0.84\n",
      "\u001b[32m[1001 17:47:59 @monitor.py:467]\u001b[0m GAN_loss/discrim/accuracy_real: 0.24\n",
      "\u001b[32m[1001 17:47:59 @monitor.py:467]\u001b[0m GAN_loss/discrim/loss: 0.63468\n",
      "\u001b[32m[1001 17:47:59 @monitor.py:467]\u001b[0m GAN_loss/gen/final-g-loss: 1.0644\n",
      "\u001b[32m[1001 17:47:59 @monitor.py:467]\u001b[0m GAN_loss/gen/klloss: 0.10017\n",
      "\u001b[32m[1001 17:47:59 @monitor.py:467]\u001b[0m GAN_loss/gen/loss: 0.96425\n",
      "\u001b[32m[1001 17:47:59 @monitor.py:467]\u001b[0m QueueInput/queue_size: 50\n",
      "\u001b[32m[1001 17:47:59 @base.py:275]\u001b[0m Start Epoch 6 ...\n"
     ]
    },
    {
     "name": "stderr",
     "output_type": "stream",
     "text": [
      "\n",
      "100%|##########|2000/2000[04:07<00:00, 8.08it/s]"
     ]
    },
    {
     "name": "stdout",
     "output_type": "stream",
     "text": [
      "\u001b[32m[1001 17:52:07 @base.py:285]\u001b[0m Epoch 6 (global_step 12000) finished, time:4 minutes 7 seconds.\n",
      "\u001b[32m[1001 17:52:07 @saver.py:79]\u001b[0m Model saved to ./output_TGAN/output/model/model-12000.\n",
      "\u001b[32m[1001 17:52:07 @monitor.py:467]\u001b[0m GAN_loss/discrim/accuracy_fake: 0.885\n",
      "\u001b[32m[1001 17:52:07 @monitor.py:467]\u001b[0m GAN_loss/discrim/accuracy_real: 0.205\n",
      "\u001b[32m[1001 17:52:07 @monitor.py:467]\u001b[0m GAN_loss/discrim/loss: 0.63011\n",
      "\u001b[32m[1001 17:52:07 @monitor.py:467]\u001b[0m GAN_loss/gen/final-g-loss: 1.1121\n",
      "\u001b[32m[1001 17:52:07 @monitor.py:467]\u001b[0m GAN_loss/gen/klloss: 0.13928\n",
      "\u001b[32m[1001 17:52:07 @monitor.py:467]\u001b[0m GAN_loss/gen/loss: 0.97282\n",
      "\u001b[32m[1001 17:52:07 @monitor.py:467]\u001b[0m QueueInput/queue_size: 50\n",
      "\u001b[32m[1001 17:52:07 @base.py:275]\u001b[0m Start Epoch 7 ...\n"
     ]
    },
    {
     "name": "stderr",
     "output_type": "stream",
     "text": [
      "\n",
      "100%|##########|2000/2000[04:34<00:00, 7.28it/s]"
     ]
    },
    {
     "name": "stdout",
     "output_type": "stream",
     "text": [
      "\u001b[32m[1001 17:56:41 @base.py:285]\u001b[0m Epoch 7 (global_step 14000) finished, time:4 minutes 34 seconds.\n",
      "\u001b[32m[1001 17:56:41 @saver.py:79]\u001b[0m Model saved to ./output_TGAN/output/model/model-14000.\n",
      "\u001b[32m[1001 17:56:41 @monitor.py:467]\u001b[0m GAN_loss/discrim/accuracy_fake: 0.885\n",
      "\u001b[32m[1001 17:56:41 @monitor.py:467]\u001b[0m GAN_loss/discrim/accuracy_real: 0.22\n",
      "\u001b[32m[1001 17:56:41 @monitor.py:467]\u001b[0m GAN_loss/discrim/loss: 0.6355\n",
      "\u001b[32m[1001 17:56:41 @monitor.py:467]\u001b[0m GAN_loss/gen/final-g-loss: 1.0875\n",
      "\u001b[32m[1001 17:56:41 @monitor.py:467]\u001b[0m GAN_loss/gen/klloss: 0.10574\n",
      "\u001b[32m[1001 17:56:41 @monitor.py:467]\u001b[0m GAN_loss/gen/loss: 0.9818\n",
      "\u001b[32m[1001 17:56:41 @monitor.py:467]\u001b[0m QueueInput/queue_size: 50\n",
      "\u001b[32m[1001 17:56:41 @base.py:275]\u001b[0m Start Epoch 8 ...\n"
     ]
    },
    {
     "name": "stderr",
     "output_type": "stream",
     "text": [
      "\n",
      "100%|##########|2000/2000[04:44<00:00, 7.03it/s]"
     ]
    },
    {
     "name": "stdout",
     "output_type": "stream",
     "text": [
      "\u001b[32m[1001 18:01:26 @base.py:285]\u001b[0m Epoch 8 (global_step 16000) finished, time:4 minutes 44 seconds.\n",
      "\u001b[32m[1001 18:01:26 @saver.py:79]\u001b[0m Model saved to ./output_TGAN/output/model/model-16000.\n",
      "\u001b[32m[1001 18:01:26 @monitor.py:467]\u001b[0m GAN_loss/discrim/accuracy_fake: 0.895\n",
      "\u001b[32m[1001 18:01:26 @monitor.py:467]\u001b[0m GAN_loss/discrim/accuracy_real: 0.215\n",
      "\u001b[32m[1001 18:01:26 @monitor.py:467]\u001b[0m GAN_loss/discrim/loss: 0.64319\n",
      "\u001b[32m[1001 18:01:26 @monitor.py:467]\u001b[0m GAN_loss/gen/final-g-loss: 1.1127\n",
      "\u001b[32m[1001 18:01:26 @monitor.py:467]\u001b[0m GAN_loss/gen/klloss: 0.1371\n",
      "\u001b[32m[1001 18:01:26 @monitor.py:467]\u001b[0m GAN_loss/gen/loss: 0.97558\n",
      "\u001b[32m[1001 18:01:26 @monitor.py:467]\u001b[0m QueueInput/queue_size: 50\n",
      "\u001b[32m[1001 18:01:26 @base.py:275]\u001b[0m Start Epoch 9 ...\n"
     ]
    },
    {
     "name": "stderr",
     "output_type": "stream",
     "text": [
      "\n",
      "100%|##########|2000/2000[04:43<00:00, 7.05it/s]"
     ]
    },
    {
     "name": "stdout",
     "output_type": "stream",
     "text": [
      "\u001b[32m[1001 18:06:10 @base.py:285]\u001b[0m Epoch 9 (global_step 18000) finished, time:4 minutes 43 seconds.\n",
      "\u001b[32m[1001 18:06:10 @saver.py:79]\u001b[0m Model saved to ./output_TGAN/output/model/model-18000.\n",
      "\u001b[32m[1001 18:06:10 @monitor.py:467]\u001b[0m GAN_loss/discrim/accuracy_fake: 0.905\n",
      "\u001b[32m[1001 18:06:10 @monitor.py:467]\u001b[0m GAN_loss/discrim/accuracy_real: 0.22\n",
      "\u001b[32m[1001 18:06:10 @monitor.py:467]\u001b[0m GAN_loss/discrim/loss: 0.63749\n",
      "\u001b[32m[1001 18:06:10 @monitor.py:467]\u001b[0m GAN_loss/gen/final-g-loss: 1.0875\n",
      "\u001b[32m[1001 18:06:10 @monitor.py:467]\u001b[0m GAN_loss/gen/klloss: 0.10597\n",
      "\u001b[32m[1001 18:06:10 @monitor.py:467]\u001b[0m GAN_loss/gen/loss: 0.98149\n",
      "\u001b[32m[1001 18:06:10 @monitor.py:467]\u001b[0m QueueInput/queue_size: 50\n",
      "\u001b[32m[1001 18:06:10 @base.py:275]\u001b[0m Start Epoch 10 ...\n"
     ]
    },
    {
     "name": "stderr",
     "output_type": "stream",
     "text": [
      "\n",
      "100%|##########|2000/2000[04:04<00:00, 8.18it/s]"
     ]
    },
    {
     "name": "stdout",
     "output_type": "stream",
     "text": [
      "\u001b[32m[1001 18:10:14 @base.py:285]\u001b[0m Epoch 10 (global_step 20000) finished, time:4 minutes 4 seconds.\n",
      "\u001b[32m[1001 18:10:14 @saver.py:79]\u001b[0m Model saved to ./output_TGAN/output/model/model-20000.\n",
      "\u001b[32m[1001 18:10:14 @monitor.py:467]\u001b[0m GAN_loss/discrim/accuracy_fake: 0.885\n",
      "\u001b[32m[1001 18:10:14 @monitor.py:467]\u001b[0m GAN_loss/discrim/accuracy_real: 0.215\n",
      "\u001b[32m[1001 18:10:14 @monitor.py:467]\u001b[0m GAN_loss/discrim/loss: 0.64101\n",
      "\u001b[32m[1001 18:10:14 @monitor.py:467]\u001b[0m GAN_loss/gen/final-g-loss: 1.0929\n",
      "\u001b[32m[1001 18:10:14 @monitor.py:467]\u001b[0m GAN_loss/gen/klloss: 0.10967\n",
      "\u001b[32m[1001 18:10:14 @monitor.py:467]\u001b[0m GAN_loss/gen/loss: 0.98325\n",
      "\u001b[32m[1001 18:10:14 @monitor.py:467]\u001b[0m QueueInput/queue_size: 50\n",
      "\u001b[32m[1001 18:10:14 @base.py:275]\u001b[0m Start Epoch 11 ...\n"
     ]
    },
    {
     "name": "stderr",
     "output_type": "stream",
     "text": [
      "\n",
      "100%|##########|2000/2000[04:04<00:00, 8.17it/s]"
     ]
    },
    {
     "name": "stdout",
     "output_type": "stream",
     "text": [
      "\u001b[32m[1001 18:14:19 @base.py:285]\u001b[0m Epoch 11 (global_step 22000) finished, time:4 minutes 4 seconds.\n",
      "WARNING:tensorflow:From /home/gael/Applications/anaconda/envs/py37/lib/python3.7/site-packages/tensorflow_core/python/training/saver.py:963: remove_checkpoint (from tensorflow.python.training.checkpoint_management) is deprecated and will be removed in a future version.\n",
      "Instructions for updating:\n",
      "Use standard file APIs to delete files with this prefix.\n",
      "\u001b[32m[1001 18:14:19 @saver.py:79]\u001b[0m Model saved to ./output_TGAN/output/model/model-22000.\n",
      "\u001b[32m[1001 18:14:19 @monitor.py:467]\u001b[0m GAN_loss/discrim/accuracy_fake: 0.875\n",
      "\u001b[32m[1001 18:14:19 @monitor.py:467]\u001b[0m GAN_loss/discrim/accuracy_real: 0.215\n",
      "\u001b[32m[1001 18:14:19 @monitor.py:467]\u001b[0m GAN_loss/discrim/loss: 0.64184\n",
      "\u001b[32m[1001 18:14:19 @monitor.py:467]\u001b[0m GAN_loss/gen/final-g-loss: 1.0511\n",
      "\u001b[32m[1001 18:14:19 @monitor.py:467]\u001b[0m GAN_loss/gen/klloss: 0.099087\n",
      "\u001b[32m[1001 18:14:19 @monitor.py:467]\u001b[0m GAN_loss/gen/loss: 0.95206\n",
      "\u001b[32m[1001 18:14:19 @monitor.py:467]\u001b[0m QueueInput/queue_size: 50\n",
      "\u001b[32m[1001 18:14:19 @base.py:275]\u001b[0m Start Epoch 12 ...\n"
     ]
    },
    {
     "name": "stderr",
     "output_type": "stream",
     "text": [
      "\n",
      "100%|##########|2000/2000[04:02<00:00, 8.24it/s]"
     ]
    },
    {
     "name": "stdout",
     "output_type": "stream",
     "text": [
      "\u001b[32m[1001 18:18:22 @base.py:285]\u001b[0m Epoch 12 (global_step 24000) finished, time:4 minutes 2 seconds.\n",
      "\u001b[32m[1001 18:18:22 @saver.py:79]\u001b[0m Model saved to ./output_TGAN/output/model/model-24000.\n",
      "\u001b[32m[1001 18:18:22 @monitor.py:467]\u001b[0m GAN_loss/discrim/accuracy_fake: 0.895\n",
      "\u001b[32m[1001 18:18:22 @monitor.py:467]\u001b[0m GAN_loss/discrim/accuracy_real: 0.255\n",
      "\u001b[32m[1001 18:18:22 @monitor.py:467]\u001b[0m GAN_loss/discrim/loss: 0.63924\n",
      "\u001b[32m[1001 18:18:22 @monitor.py:467]\u001b[0m GAN_loss/gen/final-g-loss: 1.074\n",
      "\u001b[32m[1001 18:18:22 @monitor.py:467]\u001b[0m GAN_loss/gen/klloss: 0.090982\n",
      "\u001b[32m[1001 18:18:22 @monitor.py:467]\u001b[0m GAN_loss/gen/loss: 0.98298\n",
      "\u001b[32m[1001 18:18:22 @monitor.py:467]\u001b[0m QueueInput/queue_size: 50\n",
      "\u001b[32m[1001 18:18:22 @base.py:275]\u001b[0m Start Epoch 13 ...\n"
     ]
    },
    {
     "name": "stderr",
     "output_type": "stream",
     "text": [
      "\n",
      "100%|##########|2000/2000[03:58<00:00, 8.38it/s]"
     ]
    },
    {
     "name": "stdout",
     "output_type": "stream",
     "text": [
      "\u001b[32m[1001 18:22:20 @base.py:285]\u001b[0m Epoch 13 (global_step 26000) finished, time:3 minutes 58 seconds.\n",
      "\u001b[32m[1001 18:22:20 @saver.py:79]\u001b[0m Model saved to ./output_TGAN/output/model/model-26000.\n",
      "\u001b[32m[1001 18:22:20 @monitor.py:467]\u001b[0m GAN_loss/discrim/accuracy_fake: 0.895\n",
      "\u001b[32m[1001 18:22:20 @monitor.py:467]\u001b[0m GAN_loss/discrim/accuracy_real: 0.155\n",
      "\u001b[32m[1001 18:22:20 @monitor.py:467]\u001b[0m GAN_loss/discrim/loss: 0.64903\n",
      "\u001b[32m[1001 18:22:20 @monitor.py:467]\u001b[0m GAN_loss/gen/final-g-loss: 1.0987\n",
      "\u001b[32m[1001 18:22:20 @monitor.py:467]\u001b[0m GAN_loss/gen/klloss: 0.14108\n",
      "\u001b[32m[1001 18:22:20 @monitor.py:467]\u001b[0m GAN_loss/gen/loss: 0.95758\n",
      "\u001b[32m[1001 18:22:20 @monitor.py:467]\u001b[0m QueueInput/queue_size: 50\n",
      "\u001b[32m[1001 18:22:20 @base.py:275]\u001b[0m Start Epoch 14 ...\n"
     ]
    },
    {
     "name": "stderr",
     "output_type": "stream",
     "text": [
      "\n",
      "100%|##########|2000/2000[03:55<00:00, 8.48it/s]"
     ]
    },
    {
     "name": "stdout",
     "output_type": "stream",
     "text": [
      "\u001b[32m[1001 18:26:16 @base.py:285]\u001b[0m Epoch 14 (global_step 28000) finished, time:3 minutes 55 seconds.\n",
      "\u001b[32m[1001 18:26:16 @saver.py:79]\u001b[0m Model saved to ./output_TGAN/output/model/model-28000.\n",
      "\u001b[32m[1001 18:26:16 @monitor.py:467]\u001b[0m GAN_loss/discrim/accuracy_fake: 0.885\n",
      "\u001b[32m[1001 18:26:16 @monitor.py:467]\u001b[0m GAN_loss/discrim/accuracy_real: 0.14\n",
      "\u001b[32m[1001 18:26:16 @monitor.py:467]\u001b[0m GAN_loss/discrim/loss: 0.66176\n",
      "\u001b[32m[1001 18:26:16 @monitor.py:467]\u001b[0m GAN_loss/gen/final-g-loss: 1.116\n",
      "\u001b[32m[1001 18:26:16 @monitor.py:467]\u001b[0m GAN_loss/gen/klloss: 0.17131\n",
      "\u001b[32m[1001 18:26:16 @monitor.py:467]\u001b[0m GAN_loss/gen/loss: 0.94468\n",
      "\u001b[32m[1001 18:26:16 @monitor.py:467]\u001b[0m QueueInput/queue_size: 50\n",
      "\u001b[32m[1001 18:26:16 @base.py:275]\u001b[0m Start Epoch 15 ...\n"
     ]
    },
    {
     "name": "stderr",
     "output_type": "stream",
     "text": [
      "\n",
      "100%|##########|2000/2000[03:55<00:00, 8.49it/s]"
     ]
    },
    {
     "name": "stdout",
     "output_type": "stream",
     "text": [
      "\u001b[32m[1001 18:30:12 @base.py:285]\u001b[0m Epoch 15 (global_step 30000) finished, time:3 minutes 55 seconds.\n",
      "\u001b[32m[1001 18:30:12 @saver.py:79]\u001b[0m Model saved to ./output_TGAN/output/model/model-30000.\n",
      "\u001b[32m[1001 18:30:12 @monitor.py:467]\u001b[0m GAN_loss/discrim/accuracy_fake: 0.885\n",
      "\u001b[32m[1001 18:30:12 @monitor.py:467]\u001b[0m GAN_loss/discrim/accuracy_real: 0.155\n",
      "\u001b[32m[1001 18:30:12 @monitor.py:467]\u001b[0m GAN_loss/discrim/loss: 0.64575\n",
      "\u001b[32m[1001 18:30:12 @monitor.py:467]\u001b[0m GAN_loss/gen/final-g-loss: 1.074\n",
      "\u001b[32m[1001 18:30:12 @monitor.py:467]\u001b[0m GAN_loss/gen/klloss: 0.10238\n",
      "\u001b[32m[1001 18:30:12 @monitor.py:467]\u001b[0m GAN_loss/gen/loss: 0.97158\n",
      "\u001b[32m[1001 18:30:12 @monitor.py:467]\u001b[0m QueueInput/queue_size: 50\n",
      "\u001b[32m[1001 18:30:12 @base.py:275]\u001b[0m Start Epoch 16 ...\n"
     ]
    },
    {
     "name": "stderr",
     "output_type": "stream",
     "text": [
      "\n",
      "100%|##########|2000/2000[03:56<00:00, 8.46it/s]"
     ]
    },
    {
     "name": "stdout",
     "output_type": "stream",
     "text": [
      "\u001b[32m[1001 18:34:08 @base.py:285]\u001b[0m Epoch 16 (global_step 32000) finished, time:3 minutes 56 seconds.\n",
      "\u001b[32m[1001 18:34:08 @saver.py:79]\u001b[0m Model saved to ./output_TGAN/output/model/model-32000.\n",
      "\u001b[32m[1001 18:34:08 @monitor.py:467]\u001b[0m GAN_loss/discrim/accuracy_fake: 0.89\n",
      "\u001b[32m[1001 18:34:08 @monitor.py:467]\u001b[0m GAN_loss/discrim/accuracy_real: 0.215\n",
      "\u001b[32m[1001 18:34:08 @monitor.py:467]\u001b[0m GAN_loss/discrim/loss: 0.62804\n",
      "\u001b[32m[1001 18:34:08 @monitor.py:467]\u001b[0m GAN_loss/gen/final-g-loss: 1.1155\n",
      "\u001b[32m[1001 18:34:08 @monitor.py:467]\u001b[0m GAN_loss/gen/klloss: 0.14416\n",
      "\u001b[32m[1001 18:34:08 @monitor.py:467]\u001b[0m GAN_loss/gen/loss: 0.97134\n",
      "\u001b[32m[1001 18:34:08 @monitor.py:467]\u001b[0m QueueInput/queue_size: 50\n",
      "\u001b[32m[1001 18:34:08 @base.py:275]\u001b[0m Start Epoch 17 ...\n"
     ]
    },
    {
     "name": "stderr",
     "output_type": "stream",
     "text": [
      "\n",
      "100%|##########|2000/2000[03:55<00:00, 8.49it/s]"
     ]
    },
    {
     "name": "stdout",
     "output_type": "stream",
     "text": [
      "\u001b[32m[1001 18:38:04 @base.py:285]\u001b[0m Epoch 17 (global_step 34000) finished, time:3 minutes 55 seconds.\n",
      "\u001b[32m[1001 18:38:04 @saver.py:79]\u001b[0m Model saved to ./output_TGAN/output/model/model-34000.\n",
      "\u001b[32m[1001 18:38:04 @monitor.py:467]\u001b[0m GAN_loss/discrim/accuracy_fake: 0.92\n",
      "\u001b[32m[1001 18:38:04 @monitor.py:467]\u001b[0m GAN_loss/discrim/accuracy_real: 0.205\n",
      "\u001b[32m[1001 18:38:04 @monitor.py:467]\u001b[0m GAN_loss/discrim/loss: 0.62876\n",
      "\u001b[32m[1001 18:38:04 @monitor.py:467]\u001b[0m GAN_loss/gen/final-g-loss: 1.0845\n",
      "\u001b[32m[1001 18:38:04 @monitor.py:467]\u001b[0m GAN_loss/gen/klloss: 0.10238\n",
      "\u001b[32m[1001 18:38:04 @monitor.py:467]\u001b[0m GAN_loss/gen/loss: 0.98216\n",
      "\u001b[32m[1001 18:38:04 @monitor.py:467]\u001b[0m QueueInput/queue_size: 50\n",
      "\u001b[32m[1001 18:38:04 @base.py:275]\u001b[0m Start Epoch 18 ...\n"
     ]
    },
    {
     "name": "stderr",
     "output_type": "stream",
     "text": [
      "\n",
      "100%|##########|2000/2000[03:55<00:00, 8.50it/s]"
     ]
    },
    {
     "name": "stdout",
     "output_type": "stream",
     "text": [
      "\u001b[32m[1001 18:41:59 @base.py:285]\u001b[0m Epoch 18 (global_step 36000) finished, time:3 minutes 55 seconds.\n",
      "\u001b[32m[1001 18:41:59 @saver.py:79]\u001b[0m Model saved to ./output_TGAN/output/model/model-36000.\n",
      "\u001b[32m[1001 18:41:59 @monitor.py:467]\u001b[0m GAN_loss/discrim/accuracy_fake: 0.92\n",
      "\u001b[32m[1001 18:41:59 @monitor.py:467]\u001b[0m GAN_loss/discrim/accuracy_real: 0.23\n",
      "\u001b[32m[1001 18:41:59 @monitor.py:467]\u001b[0m GAN_loss/discrim/loss: 0.62759\n",
      "\u001b[32m[1001 18:41:59 @monitor.py:467]\u001b[0m GAN_loss/gen/final-g-loss: 1.145\n",
      "\u001b[32m[1001 18:41:59 @monitor.py:467]\u001b[0m GAN_loss/gen/klloss: 0.18355\n",
      "\u001b[32m[1001 18:41:59 @monitor.py:467]\u001b[0m GAN_loss/gen/loss: 0.9614\n",
      "\u001b[32m[1001 18:41:59 @monitor.py:467]\u001b[0m QueueInput/queue_size: 50\n",
      "\u001b[32m[1001 18:41:59 @base.py:275]\u001b[0m Start Epoch 19 ...\n"
     ]
    },
    {
     "name": "stderr",
     "output_type": "stream",
     "text": [
      "\n",
      "100%|##########|2000/2000[03:56<00:00, 8.46it/s]"
     ]
    },
    {
     "name": "stdout",
     "output_type": "stream",
     "text": [
      "\u001b[32m[1001 18:45:56 @base.py:285]\u001b[0m Epoch 19 (global_step 38000) finished, time:3 minutes 56 seconds.\n",
      "\u001b[32m[1001 18:45:56 @saver.py:79]\u001b[0m Model saved to ./output_TGAN/output/model/model-38000.\n",
      "\u001b[32m[1001 18:45:56 @monitor.py:467]\u001b[0m GAN_loss/discrim/accuracy_fake: 0.92\n",
      "\u001b[32m[1001 18:45:56 @monitor.py:467]\u001b[0m GAN_loss/discrim/accuracy_real: 0.22\n",
      "\u001b[32m[1001 18:45:56 @monitor.py:467]\u001b[0m GAN_loss/discrim/loss: 0.63234\n",
      "\u001b[32m[1001 18:45:56 @monitor.py:467]\u001b[0m GAN_loss/gen/final-g-loss: 1.0666\n",
      "\u001b[32m[1001 18:45:56 @monitor.py:467]\u001b[0m GAN_loss/gen/klloss: 0.11562\n",
      "\u001b[32m[1001 18:45:56 @monitor.py:467]\u001b[0m GAN_loss/gen/loss: 0.95101\n",
      "\u001b[32m[1001 18:45:56 @monitor.py:467]\u001b[0m QueueInput/queue_size: 50\n",
      "\u001b[32m[1001 18:45:56 @base.py:275]\u001b[0m Start Epoch 20 ...\n"
     ]
    },
    {
     "name": "stderr",
     "output_type": "stream",
     "text": [
      "\n",
      "100%|##########|2000/2000[03:55<00:00, 8.48it/s]"
     ]
    },
    {
     "name": "stdout",
     "output_type": "stream",
     "text": [
      "\u001b[32m[1001 18:49:51 @base.py:285]\u001b[0m Epoch 20 (global_step 40000) finished, time:3 minutes 55 seconds.\n",
      "\u001b[32m[1001 18:49:51 @saver.py:79]\u001b[0m Model saved to ./output_TGAN/output/model/model-40000.\n",
      "\u001b[32m[1001 18:49:51 @monitor.py:467]\u001b[0m GAN_loss/discrim/accuracy_fake: 0.895\n",
      "\u001b[32m[1001 18:49:51 @monitor.py:467]\u001b[0m GAN_loss/discrim/accuracy_real: 0.165\n",
      "\u001b[32m[1001 18:49:51 @monitor.py:467]\u001b[0m GAN_loss/discrim/loss: 0.65055\n",
      "\u001b[32m[1001 18:49:51 @monitor.py:467]\u001b[0m GAN_loss/gen/final-g-loss: 1.0463\n",
      "\u001b[32m[1001 18:49:51 @monitor.py:467]\u001b[0m GAN_loss/gen/klloss: 0.088991\n",
      "\u001b[32m[1001 18:49:51 @monitor.py:467]\u001b[0m GAN_loss/gen/loss: 0.95728\n",
      "\u001b[32m[1001 18:49:51 @monitor.py:467]\u001b[0m QueueInput/queue_size: 50\n",
      "\u001b[32m[1001 18:49:51 @base.py:275]\u001b[0m Start Epoch 21 ...\n"
     ]
    },
    {
     "name": "stderr",
     "output_type": "stream",
     "text": [
      "\n",
      "100%|##########|2000/2000[03:56<00:00, 8.47it/s]"
     ]
    },
    {
     "name": "stdout",
     "output_type": "stream",
     "text": [
      "\u001b[32m[1001 18:53:47 @base.py:285]\u001b[0m Epoch 21 (global_step 42000) finished, time:3 minutes 56 seconds.\n",
      "\u001b[32m[1001 18:53:47 @saver.py:79]\u001b[0m Model saved to ./output_TGAN/output/model/model-42000.\n",
      "\u001b[32m[1001 18:53:47 @monitor.py:467]\u001b[0m GAN_loss/discrim/accuracy_fake: 0.935\n",
      "\u001b[32m[1001 18:53:47 @monitor.py:467]\u001b[0m GAN_loss/discrim/accuracy_real: 0.225\n",
      "\u001b[32m[1001 18:53:47 @monitor.py:467]\u001b[0m GAN_loss/discrim/loss: 0.6385\n",
      "\u001b[32m[1001 18:53:47 @monitor.py:467]\u001b[0m GAN_loss/gen/final-g-loss: 1.0404\n",
      "\u001b[32m[1001 18:53:47 @monitor.py:467]\u001b[0m GAN_loss/gen/klloss: 0.0926\n",
      "\u001b[32m[1001 18:53:47 @monitor.py:467]\u001b[0m GAN_loss/gen/loss: 0.94784\n",
      "\u001b[32m[1001 18:53:47 @monitor.py:467]\u001b[0m QueueInput/queue_size: 50\n",
      "\u001b[32m[1001 18:53:47 @base.py:275]\u001b[0m Start Epoch 22 ...\n"
     ]
    },
    {
     "name": "stderr",
     "output_type": "stream",
     "text": [
      "\n",
      "100%|##########|2000/2000[03:55<00:00, 8.49it/s]"
     ]
    },
    {
     "name": "stdout",
     "output_type": "stream",
     "text": [
      "\u001b[32m[1001 18:57:43 @base.py:285]\u001b[0m Epoch 22 (global_step 44000) finished, time:3 minutes 55 seconds.\n",
      "\u001b[32m[1001 18:57:43 @saver.py:79]\u001b[0m Model saved to ./output_TGAN/output/model/model-44000.\n",
      "\u001b[32m[1001 18:57:43 @monitor.py:467]\u001b[0m GAN_loss/discrim/accuracy_fake: 0.92\n",
      "\u001b[32m[1001 18:57:43 @monitor.py:467]\u001b[0m GAN_loss/discrim/accuracy_real: 0.1\n",
      "\u001b[32m[1001 18:57:43 @monitor.py:467]\u001b[0m GAN_loss/discrim/loss: 0.64762\n",
      "\u001b[32m[1001 18:57:43 @monitor.py:467]\u001b[0m GAN_loss/gen/final-g-loss: 1.0298\n",
      "\u001b[32m[1001 18:57:43 @monitor.py:467]\u001b[0m GAN_loss/gen/klloss: 0.06726\n",
      "\u001b[32m[1001 18:57:43 @monitor.py:467]\u001b[0m GAN_loss/gen/loss: 0.96255\n",
      "\u001b[32m[1001 18:57:43 @monitor.py:467]\u001b[0m QueueInput/queue_size: 50\n",
      "\u001b[32m[1001 18:57:43 @base.py:275]\u001b[0m Start Epoch 23 ...\n"
     ]
    },
    {
     "name": "stderr",
     "output_type": "stream",
     "text": [
      "\n",
      "100%|##########|2000/2000[03:55<00:00, 8.50it/s]"
     ]
    },
    {
     "name": "stdout",
     "output_type": "stream",
     "text": [
      "\u001b[32m[1001 19:01:38 @base.py:285]\u001b[0m Epoch 23 (global_step 46000) finished, time:3 minutes 55 seconds.\n",
      "\u001b[32m[1001 19:01:38 @saver.py:79]\u001b[0m Model saved to ./output_TGAN/output/model/model-46000.\n",
      "\u001b[32m[1001 19:01:38 @monitor.py:467]\u001b[0m GAN_loss/discrim/accuracy_fake: 0.91\n",
      "\u001b[32m[1001 19:01:38 @monitor.py:467]\u001b[0m GAN_loss/discrim/accuracy_real: 0.195\n",
      "\u001b[32m[1001 19:01:38 @monitor.py:467]\u001b[0m GAN_loss/discrim/loss: 0.64092\n",
      "\u001b[32m[1001 19:01:38 @monitor.py:467]\u001b[0m GAN_loss/gen/final-g-loss: 1.0834\n",
      "\u001b[32m[1001 19:01:38 @monitor.py:467]\u001b[0m GAN_loss/gen/klloss: 0.12807\n",
      "\u001b[32m[1001 19:01:38 @monitor.py:467]\u001b[0m GAN_loss/gen/loss: 0.95531\n",
      "\u001b[32m[1001 19:01:38 @monitor.py:467]\u001b[0m QueueInput/queue_size: 50\n",
      "\u001b[32m[1001 19:01:38 @base.py:275]\u001b[0m Start Epoch 24 ...\n"
     ]
    },
    {
     "name": "stderr",
     "output_type": "stream",
     "text": [
      "\n",
      "100%|##########|2000/2000[03:55<00:00, 8.48it/s]"
     ]
    },
    {
     "name": "stdout",
     "output_type": "stream",
     "text": [
      "\u001b[32m[1001 19:05:34 @base.py:285]\u001b[0m Epoch 24 (global_step 48000) finished, time:3 minutes 55 seconds.\n",
      "\u001b[32m[1001 19:05:34 @saver.py:79]\u001b[0m Model saved to ./output_TGAN/output/model/model-48000.\n",
      "\u001b[32m[1001 19:05:34 @monitor.py:467]\u001b[0m GAN_loss/discrim/accuracy_fake: 0.93\n",
      "\u001b[32m[1001 19:05:34 @monitor.py:467]\u001b[0m GAN_loss/discrim/accuracy_real: 0.135\n",
      "\u001b[32m[1001 19:05:34 @monitor.py:467]\u001b[0m GAN_loss/discrim/loss: 0.64336\n",
      "\u001b[32m[1001 19:05:34 @monitor.py:467]\u001b[0m GAN_loss/gen/final-g-loss: 1.0625\n",
      "\u001b[32m[1001 19:05:34 @monitor.py:467]\u001b[0m GAN_loss/gen/klloss: 0.11243\n",
      "\u001b[32m[1001 19:05:34 @monitor.py:467]\u001b[0m GAN_loss/gen/loss: 0.9501\n",
      "\u001b[32m[1001 19:05:34 @monitor.py:467]\u001b[0m QueueInput/queue_size: 50\n",
      "\u001b[32m[1001 19:05:34 @base.py:275]\u001b[0m Start Epoch 25 ...\n"
     ]
    },
    {
     "name": "stderr",
     "output_type": "stream",
     "text": [
      "\n",
      "100%|##########|2000/2000[03:55<00:00, 8.49it/s]"
     ]
    },
    {
     "name": "stdout",
     "output_type": "stream",
     "text": [
      "\u001b[32m[1001 19:09:30 @base.py:285]\u001b[0m Epoch 25 (global_step 50000) finished, time:3 minutes 55 seconds.\n",
      "\u001b[32m[1001 19:09:30 @saver.py:79]\u001b[0m Model saved to ./output_TGAN/output/model/model-50000.\n",
      "\u001b[32m[1001 19:09:30 @monitor.py:467]\u001b[0m GAN_loss/discrim/accuracy_fake: 0.915\n",
      "\u001b[32m[1001 19:09:30 @monitor.py:467]\u001b[0m GAN_loss/discrim/accuracy_real: 0.18\n",
      "\u001b[32m[1001 19:09:30 @monitor.py:467]\u001b[0m GAN_loss/discrim/loss: 0.64937\n",
      "\u001b[32m[1001 19:09:30 @monitor.py:467]\u001b[0m GAN_loss/gen/final-g-loss: 1.0293\n",
      "\u001b[32m[1001 19:09:30 @monitor.py:467]\u001b[0m GAN_loss/gen/klloss: 0.072116\n",
      "\u001b[32m[1001 19:09:30 @monitor.py:467]\u001b[0m GAN_loss/gen/loss: 0.95721\n",
      "\u001b[32m[1001 19:09:30 @monitor.py:467]\u001b[0m QueueInput/queue_size: 50\n",
      "\u001b[32m[1001 19:09:30 @base.py:275]\u001b[0m Start Epoch 26 ...\n"
     ]
    },
    {
     "name": "stderr",
     "output_type": "stream",
     "text": [
      "\n",
      "100%|##########|2000/2000[03:54<00:00, 8.51it/s]"
     ]
    },
    {
     "name": "stdout",
     "output_type": "stream",
     "text": [
      "\u001b[32m[1001 19:13:25 @base.py:285]\u001b[0m Epoch 26 (global_step 52000) finished, time:3 minutes 54 seconds.\n",
      "\u001b[32m[1001 19:13:25 @saver.py:79]\u001b[0m Model saved to ./output_TGAN/output/model/model-52000.\n",
      "\u001b[32m[1001 19:13:25 @monitor.py:467]\u001b[0m GAN_loss/discrim/accuracy_fake: 0.92\n",
      "\u001b[32m[1001 19:13:25 @monitor.py:467]\u001b[0m GAN_loss/discrim/accuracy_real: 0.15\n",
      "\u001b[32m[1001 19:13:25 @monitor.py:467]\u001b[0m GAN_loss/discrim/loss: 0.64379\n",
      "\u001b[32m[1001 19:13:25 @monitor.py:467]\u001b[0m GAN_loss/gen/final-g-loss: 1.0664\n",
      "\u001b[32m[1001 19:13:25 @monitor.py:467]\u001b[0m GAN_loss/gen/klloss: 0.10113\n",
      "\u001b[32m[1001 19:13:25 @monitor.py:467]\u001b[0m GAN_loss/gen/loss: 0.96524\n",
      "\u001b[32m[1001 19:13:25 @monitor.py:467]\u001b[0m QueueInput/queue_size: 50\n",
      "\u001b[32m[1001 19:13:25 @base.py:275]\u001b[0m Start Epoch 27 ...\n"
     ]
    },
    {
     "name": "stderr",
     "output_type": "stream",
     "text": [
      "\n",
      "100%|##########|2000/2000[03:55<00:00, 8.49it/s]"
     ]
    },
    {
     "name": "stdout",
     "output_type": "stream",
     "text": [
      "\u001b[32m[1001 19:17:20 @base.py:285]\u001b[0m Epoch 27 (global_step 54000) finished, time:3 minutes 55 seconds.\n",
      "\u001b[32m[1001 19:17:20 @saver.py:79]\u001b[0m Model saved to ./output_TGAN/output/model/model-54000.\n",
      "\u001b[32m[1001 19:17:20 @monitor.py:467]\u001b[0m GAN_loss/discrim/accuracy_fake: 0.895\n",
      "\u001b[32m[1001 19:17:20 @monitor.py:467]\u001b[0m GAN_loss/discrim/accuracy_real: 0.215\n",
      "\u001b[32m[1001 19:17:20 @monitor.py:467]\u001b[0m GAN_loss/discrim/loss: 0.63924\n",
      "\u001b[32m[1001 19:17:20 @monitor.py:467]\u001b[0m GAN_loss/gen/final-g-loss: 1.0567\n",
      "\u001b[32m[1001 19:17:20 @monitor.py:467]\u001b[0m GAN_loss/gen/klloss: 0.089024\n",
      "\u001b[32m[1001 19:17:20 @monitor.py:467]\u001b[0m GAN_loss/gen/loss: 0.96769\n",
      "\u001b[32m[1001 19:17:20 @monitor.py:467]\u001b[0m QueueInput/queue_size: 50\n",
      "\u001b[32m[1001 19:17:20 @base.py:275]\u001b[0m Start Epoch 28 ...\n"
     ]
    },
    {
     "name": "stderr",
     "output_type": "stream",
     "text": [
      "\n",
      "100%|##########|2000/2000[03:55<00:00, 8.50it/s]"
     ]
    },
    {
     "name": "stdout",
     "output_type": "stream",
     "text": [
      "\u001b[32m[1001 19:21:16 @base.py:285]\u001b[0m Epoch 28 (global_step 56000) finished, time:3 minutes 55 seconds.\n",
      "\u001b[32m[1001 19:21:16 @saver.py:79]\u001b[0m Model saved to ./output_TGAN/output/model/model-56000.\n",
      "\u001b[32m[1001 19:21:16 @monitor.py:467]\u001b[0m GAN_loss/discrim/accuracy_fake: 0.93\n",
      "\u001b[32m[1001 19:21:16 @monitor.py:467]\u001b[0m GAN_loss/discrim/accuracy_real: 0.135\n",
      "\u001b[32m[1001 19:21:16 @monitor.py:467]\u001b[0m GAN_loss/discrim/loss: 0.63611\n",
      "\u001b[32m[1001 19:21:16 @monitor.py:467]\u001b[0m GAN_loss/gen/final-g-loss: 1.08\n",
      "\u001b[32m[1001 19:21:16 @monitor.py:467]\u001b[0m GAN_loss/gen/klloss: 0.1031\n",
      "\u001b[32m[1001 19:21:16 @monitor.py:467]\u001b[0m GAN_loss/gen/loss: 0.97688\n",
      "\u001b[32m[1001 19:21:16 @monitor.py:467]\u001b[0m QueueInput/queue_size: 50\n",
      "\u001b[32m[1001 19:21:16 @base.py:275]\u001b[0m Start Epoch 29 ...\n"
     ]
    },
    {
     "name": "stderr",
     "output_type": "stream",
     "text": [
      "\n",
      "100%|##########|2000/2000[03:56<00:00, 8.46it/s]"
     ]
    },
    {
     "name": "stdout",
     "output_type": "stream",
     "text": [
      "\u001b[32m[1001 19:25:12 @base.py:285]\u001b[0m Epoch 29 (global_step 58000) finished, time:3 minutes 56 seconds.\n",
      "\u001b[32m[1001 19:25:12 @saver.py:79]\u001b[0m Model saved to ./output_TGAN/output/model/model-58000.\n",
      "\u001b[32m[1001 19:25:12 @monitor.py:467]\u001b[0m GAN_loss/discrim/accuracy_fake: 0.92\n",
      "\u001b[32m[1001 19:25:12 @monitor.py:467]\u001b[0m GAN_loss/discrim/accuracy_real: 0.13\n",
      "\u001b[32m[1001 19:25:12 @monitor.py:467]\u001b[0m GAN_loss/discrim/loss: 0.64275\n",
      "\u001b[32m[1001 19:25:12 @monitor.py:467]\u001b[0m GAN_loss/gen/final-g-loss: 1.0468\n",
      "\u001b[32m[1001 19:25:12 @monitor.py:467]\u001b[0m GAN_loss/gen/klloss: 0.093065\n",
      "\u001b[32m[1001 19:25:12 @monitor.py:467]\u001b[0m GAN_loss/gen/loss: 0.95376\n",
      "\u001b[32m[1001 19:25:12 @monitor.py:467]\u001b[0m QueueInput/queue_size: 50\n",
      "\u001b[32m[1001 19:25:12 @base.py:275]\u001b[0m Start Epoch 30 ...\n"
     ]
    },
    {
     "name": "stderr",
     "output_type": "stream",
     "text": [
      "\n",
      "100%|##########|2000/2000[03:55<00:00, 8.51it/s]"
     ]
    },
    {
     "name": "stdout",
     "output_type": "stream",
     "text": [
      "\u001b[32m[1001 19:29:07 @base.py:285]\u001b[0m Epoch 30 (global_step 60000) finished, time:3 minutes 55 seconds.\n",
      "\u001b[32m[1001 19:29:07 @saver.py:79]\u001b[0m Model saved to ./output_TGAN/output/model/model-60000.\n",
      "\u001b[32m[1001 19:29:07 @monitor.py:467]\u001b[0m GAN_loss/discrim/accuracy_fake: 0.89\n",
      "\u001b[32m[1001 19:29:07 @monitor.py:467]\u001b[0m GAN_loss/discrim/accuracy_real: 0.16\n",
      "\u001b[32m[1001 19:29:07 @monitor.py:467]\u001b[0m GAN_loss/discrim/loss: 0.64141\n",
      "\u001b[32m[1001 19:29:07 @monitor.py:467]\u001b[0m GAN_loss/gen/final-g-loss: 1.0583\n",
      "\u001b[32m[1001 19:29:07 @monitor.py:467]\u001b[0m GAN_loss/gen/klloss: 0.10108\n",
      "\u001b[32m[1001 19:29:07 @monitor.py:467]\u001b[0m GAN_loss/gen/loss: 0.95727\n",
      "\u001b[32m[1001 19:29:07 @monitor.py:467]\u001b[0m QueueInput/queue_size: 50\n",
      "\u001b[32m[1001 19:29:07 @base.py:275]\u001b[0m Start Epoch 31 ...\n"
     ]
    },
    {
     "name": "stderr",
     "output_type": "stream",
     "text": [
      "\n",
      "100%|##########|2000/2000[03:54<00:00, 8.51it/s]"
     ]
    },
    {
     "name": "stdout",
     "output_type": "stream",
     "text": [
      "\u001b[32m[1001 19:33:02 @base.py:285]\u001b[0m Epoch 31 (global_step 62000) finished, time:3 minutes 54 seconds.\n",
      "\u001b[32m[1001 19:33:02 @saver.py:79]\u001b[0m Model saved to ./output_TGAN/output/model/model-62000.\n",
      "\u001b[32m[1001 19:33:02 @monitor.py:467]\u001b[0m GAN_loss/discrim/accuracy_fake: 0.93\n",
      "\u001b[32m[1001 19:33:02 @monitor.py:467]\u001b[0m GAN_loss/discrim/accuracy_real: 0.13\n",
      "\u001b[32m[1001 19:33:02 @monitor.py:467]\u001b[0m GAN_loss/discrim/loss: 0.64124\n",
      "\u001b[32m[1001 19:33:02 @monitor.py:467]\u001b[0m GAN_loss/gen/final-g-loss: 1.0794\n",
      "\u001b[32m[1001 19:33:02 @monitor.py:467]\u001b[0m GAN_loss/gen/klloss: 0.11526\n",
      "\u001b[32m[1001 19:33:02 @monitor.py:467]\u001b[0m GAN_loss/gen/loss: 0.96416\n",
      "\u001b[32m[1001 19:33:02 @monitor.py:467]\u001b[0m QueueInput/queue_size: 50\n",
      "\u001b[32m[1001 19:33:02 @base.py:275]\u001b[0m Start Epoch 32 ...\n"
     ]
    },
    {
     "name": "stderr",
     "output_type": "stream",
     "text": [
      "\n",
      "100%|##########|2000/2000[03:55<00:00, 8.49it/s]"
     ]
    },
    {
     "name": "stdout",
     "output_type": "stream",
     "text": [
      "\u001b[32m[1001 19:36:58 @base.py:285]\u001b[0m Epoch 32 (global_step 64000) finished, time:3 minutes 55 seconds.\n",
      "\u001b[32m[1001 19:36:58 @saver.py:79]\u001b[0m Model saved to ./output_TGAN/output/model/model-64000.\n",
      "\u001b[32m[1001 19:36:58 @monitor.py:467]\u001b[0m GAN_loss/discrim/accuracy_fake: 0.935\n",
      "\u001b[32m[1001 19:36:58 @monitor.py:467]\u001b[0m GAN_loss/discrim/accuracy_real: 0.14\n",
      "\u001b[32m[1001 19:36:58 @monitor.py:467]\u001b[0m GAN_loss/discrim/loss: 0.64544\n",
      "\u001b[32m[1001 19:36:58 @monitor.py:467]\u001b[0m GAN_loss/gen/final-g-loss: 1.037\n",
      "\u001b[32m[1001 19:36:58 @monitor.py:467]\u001b[0m GAN_loss/gen/klloss: 0.075367\n",
      "\u001b[32m[1001 19:36:58 @monitor.py:467]\u001b[0m GAN_loss/gen/loss: 0.96159\n",
      "\u001b[32m[1001 19:36:58 @monitor.py:467]\u001b[0m QueueInput/queue_size: 50\n",
      "\u001b[32m[1001 19:36:58 @base.py:275]\u001b[0m Start Epoch 33 ...\n"
     ]
    },
    {
     "name": "stderr",
     "output_type": "stream",
     "text": [
      "\n",
      "100%|##########|2000/2000[03:55<00:00, 8.50it/s]"
     ]
    },
    {
     "name": "stdout",
     "output_type": "stream",
     "text": [
      "\u001b[32m[1001 19:40:53 @base.py:285]\u001b[0m Epoch 33 (global_step 66000) finished, time:3 minutes 55 seconds.\n",
      "\u001b[32m[1001 19:40:53 @saver.py:79]\u001b[0m Model saved to ./output_TGAN/output/model/model-66000.\n",
      "\u001b[32m[1001 19:40:53 @monitor.py:467]\u001b[0m GAN_loss/discrim/accuracy_fake: 0.915\n",
      "\u001b[32m[1001 19:40:53 @monitor.py:467]\u001b[0m GAN_loss/discrim/accuracy_real: 0.115\n",
      "\u001b[32m[1001 19:40:53 @monitor.py:467]\u001b[0m GAN_loss/discrim/loss: 0.65202\n",
      "\u001b[32m[1001 19:40:53 @monitor.py:467]\u001b[0m GAN_loss/gen/final-g-loss: 1.0765\n",
      "\u001b[32m[1001 19:40:53 @monitor.py:467]\u001b[0m GAN_loss/gen/klloss: 0.12181\n",
      "\u001b[32m[1001 19:40:53 @monitor.py:467]\u001b[0m GAN_loss/gen/loss: 0.9547\n",
      "\u001b[32m[1001 19:40:53 @monitor.py:467]\u001b[0m QueueInput/queue_size: 50\n",
      "\u001b[32m[1001 19:40:53 @base.py:275]\u001b[0m Start Epoch 34 ...\n"
     ]
    },
    {
     "name": "stderr",
     "output_type": "stream",
     "text": [
      "\n",
      "100%|##########|2000/2000[03:59<00:00, 8.37it/s]"
     ]
    },
    {
     "name": "stdout",
     "output_type": "stream",
     "text": [
      "\u001b[32m[1001 19:44:52 @base.py:285]\u001b[0m Epoch 34 (global_step 68000) finished, time:3 minutes 59 seconds.\n",
      "\u001b[32m[1001 19:44:52 @saver.py:79]\u001b[0m Model saved to ./output_TGAN/output/model/model-68000.\n",
      "\u001b[32m[1001 19:44:52 @monitor.py:467]\u001b[0m GAN_loss/discrim/accuracy_fake: 0.925\n",
      "\u001b[32m[1001 19:44:52 @monitor.py:467]\u001b[0m GAN_loss/discrim/accuracy_real: 0.135\n",
      "\u001b[32m[1001 19:44:52 @monitor.py:467]\u001b[0m GAN_loss/discrim/loss: 0.63968\n",
      "\u001b[32m[1001 19:44:52 @monitor.py:467]\u001b[0m GAN_loss/gen/final-g-loss: 1.067\n",
      "\u001b[32m[1001 19:44:52 @monitor.py:467]\u001b[0m GAN_loss/gen/klloss: 0.10925\n",
      "\u001b[32m[1001 19:44:52 @monitor.py:467]\u001b[0m GAN_loss/gen/loss: 0.95774\n",
      "\u001b[32m[1001 19:44:52 @monitor.py:467]\u001b[0m QueueInput/queue_size: 50\n",
      "\u001b[32m[1001 19:44:52 @base.py:275]\u001b[0m Start Epoch 35 ...\n"
     ]
    },
    {
     "name": "stderr",
     "output_type": "stream",
     "text": [
      "\n",
      "100%|##########|2000/2000[03:54<00:00, 8.51it/s]"
     ]
    },
    {
     "name": "stdout",
     "output_type": "stream",
     "text": [
      "\u001b[32m[1001 19:48:47 @base.py:285]\u001b[0m Epoch 35 (global_step 70000) finished, time:3 minutes 54 seconds.\n",
      "\u001b[32m[1001 19:48:47 @saver.py:79]\u001b[0m Model saved to ./output_TGAN/output/model/model-70000.\n",
      "\u001b[32m[1001 19:48:47 @monitor.py:467]\u001b[0m GAN_loss/discrim/accuracy_fake: 0.895\n",
      "\u001b[32m[1001 19:48:47 @monitor.py:467]\u001b[0m GAN_loss/discrim/accuracy_real: 0.16\n",
      "\u001b[32m[1001 19:48:47 @monitor.py:467]\u001b[0m GAN_loss/discrim/loss: 0.65103\n",
      "\u001b[32m[1001 19:48:47 @monitor.py:467]\u001b[0m GAN_loss/gen/final-g-loss: 1.0696\n",
      "\u001b[32m[1001 19:48:47 @monitor.py:467]\u001b[0m GAN_loss/gen/klloss: 0.1207\n",
      "\u001b[32m[1001 19:48:47 @monitor.py:467]\u001b[0m GAN_loss/gen/loss: 0.94885\n",
      "\u001b[32m[1001 19:48:47 @monitor.py:467]\u001b[0m QueueInput/queue_size: 50\n",
      "\u001b[32m[1001 19:48:47 @base.py:275]\u001b[0m Start Epoch 36 ...\n"
     ]
    },
    {
     "name": "stderr",
     "output_type": "stream",
     "text": [
      "\n",
      "100%|##########|2000/2000[03:55<00:00, 8.50it/s]"
     ]
    },
    {
     "name": "stdout",
     "output_type": "stream",
     "text": [
      "\u001b[32m[1001 19:52:43 @base.py:285]\u001b[0m Epoch 36 (global_step 72000) finished, time:3 minutes 55 seconds.\n",
      "\u001b[32m[1001 19:52:43 @saver.py:79]\u001b[0m Model saved to ./output_TGAN/output/model/model-72000.\n",
      "\u001b[32m[1001 19:52:43 @monitor.py:467]\u001b[0m GAN_loss/discrim/accuracy_fake: 0.96\n",
      "\u001b[32m[1001 19:52:43 @monitor.py:467]\u001b[0m GAN_loss/discrim/accuracy_real: 0.1\n",
      "\u001b[32m[1001 19:52:43 @monitor.py:467]\u001b[0m GAN_loss/discrim/loss: 0.63196\n",
      "\u001b[32m[1001 19:52:43 @monitor.py:467]\u001b[0m GAN_loss/gen/final-g-loss: 1.0595\n",
      "\u001b[32m[1001 19:52:43 @monitor.py:467]\u001b[0m GAN_loss/gen/klloss: 0.062245\n",
      "\u001b[32m[1001 19:52:43 @monitor.py:467]\u001b[0m GAN_loss/gen/loss: 0.9973\n",
      "\u001b[32m[1001 19:52:43 @monitor.py:467]\u001b[0m QueueInput/queue_size: 50\n",
      "\u001b[32m[1001 19:52:43 @base.py:275]\u001b[0m Start Epoch 37 ...\n"
     ]
    },
    {
     "name": "stderr",
     "output_type": "stream",
     "text": [
      "\n",
      "100%|##########|2000/2000[03:55<00:00, 8.48it/s]"
     ]
    },
    {
     "name": "stdout",
     "output_type": "stream",
     "text": [
      "\u001b[32m[1001 19:56:39 @base.py:285]\u001b[0m Epoch 37 (global_step 74000) finished, time:3 minutes 55 seconds.\n",
      "\u001b[32m[1001 19:56:39 @saver.py:79]\u001b[0m Model saved to ./output_TGAN/output/model/model-74000.\n",
      "\u001b[32m[1001 19:56:39 @monitor.py:467]\u001b[0m GAN_loss/discrim/accuracy_fake: 0.92\n",
      "\u001b[32m[1001 19:56:39 @monitor.py:467]\u001b[0m GAN_loss/discrim/accuracy_real: 0.115\n",
      "\u001b[32m[1001 19:56:39 @monitor.py:467]\u001b[0m GAN_loss/discrim/loss: 0.65492\n",
      "\u001b[32m[1001 19:56:39 @monitor.py:467]\u001b[0m GAN_loss/gen/final-g-loss: 1.0471\n",
      "\u001b[32m[1001 19:56:39 @monitor.py:467]\u001b[0m GAN_loss/gen/klloss: 0.091655\n",
      "\u001b[32m[1001 19:56:39 @monitor.py:467]\u001b[0m GAN_loss/gen/loss: 0.95542\n",
      "\u001b[32m[1001 19:56:39 @monitor.py:467]\u001b[0m QueueInput/queue_size: 50\n",
      "\u001b[32m[1001 19:56:39 @base.py:275]\u001b[0m Start Epoch 38 ...\n"
     ]
    },
    {
     "name": "stderr",
     "output_type": "stream",
     "text": [
      "\n",
      "100%|##########|2000/2000[03:55<00:00, 8.48it/s]"
     ]
    },
    {
     "name": "stdout",
     "output_type": "stream",
     "text": [
      "\u001b[32m[1001 20:00:34 @base.py:285]\u001b[0m Epoch 38 (global_step 76000) finished, time:3 minutes 55 seconds.\n",
      "\u001b[32m[1001 20:00:34 @saver.py:79]\u001b[0m Model saved to ./output_TGAN/output/model/model-76000.\n",
      "\u001b[32m[1001 20:00:34 @monitor.py:467]\u001b[0m GAN_loss/discrim/accuracy_fake: 0.93\n",
      "\u001b[32m[1001 20:00:34 @monitor.py:467]\u001b[0m GAN_loss/discrim/accuracy_real: 0.145\n",
      "\u001b[32m[1001 20:00:34 @monitor.py:467]\u001b[0m GAN_loss/discrim/loss: 0.63807\n",
      "\u001b[32m[1001 20:00:34 @monitor.py:467]\u001b[0m GAN_loss/gen/final-g-loss: 1.0507\n",
      "\u001b[32m[1001 20:00:34 @monitor.py:467]\u001b[0m GAN_loss/gen/klloss: 0.086974\n",
      "\u001b[32m[1001 20:00:34 @monitor.py:467]\u001b[0m GAN_loss/gen/loss: 0.96372\n",
      "\u001b[32m[1001 20:00:34 @monitor.py:467]\u001b[0m QueueInput/queue_size: 50\n",
      "\u001b[32m[1001 20:00:34 @base.py:275]\u001b[0m Start Epoch 39 ...\n"
     ]
    },
    {
     "name": "stderr",
     "output_type": "stream",
     "text": [
      "\n",
      "100%|##########|2000/2000[03:54<00:00, 8.52it/s]"
     ]
    },
    {
     "name": "stdout",
     "output_type": "stream",
     "text": [
      "\u001b[32m[1001 20:04:29 @base.py:285]\u001b[0m Epoch 39 (global_step 78000) finished, time:3 minutes 54 seconds.\n",
      "\u001b[32m[1001 20:04:29 @saver.py:79]\u001b[0m Model saved to ./output_TGAN/output/model/model-78000.\n",
      "\u001b[32m[1001 20:04:29 @monitor.py:467]\u001b[0m GAN_loss/discrim/accuracy_fake: 0.95\n",
      "\u001b[32m[1001 20:04:29 @monitor.py:467]\u001b[0m GAN_loss/discrim/accuracy_real: 0.19\n",
      "\u001b[32m[1001 20:04:29 @monitor.py:467]\u001b[0m GAN_loss/discrim/loss: 0.6454\n",
      "\u001b[32m[1001 20:04:29 @monitor.py:467]\u001b[0m GAN_loss/gen/final-g-loss: 1.0647\n",
      "\u001b[32m[1001 20:04:29 @monitor.py:467]\u001b[0m GAN_loss/gen/klloss: 0.10824\n",
      "\u001b[32m[1001 20:04:29 @monitor.py:467]\u001b[0m GAN_loss/gen/loss: 0.95644\n",
      "\u001b[32m[1001 20:04:29 @monitor.py:467]\u001b[0m QueueInput/queue_size: 50\n",
      "\u001b[32m[1001 20:04:29 @base.py:275]\u001b[0m Start Epoch 40 ...\n"
     ]
    },
    {
     "name": "stderr",
     "output_type": "stream",
     "text": [
      "\n",
      "100%|##########|2000/2000[03:54<00:00, 8.52it/s]"
     ]
    },
    {
     "name": "stdout",
     "output_type": "stream",
     "text": [
      "\u001b[32m[1001 20:08:24 @base.py:285]\u001b[0m Epoch 40 (global_step 80000) finished, time:3 minutes 54 seconds.\n",
      "\u001b[32m[1001 20:08:24 @saver.py:79]\u001b[0m Model saved to ./output_TGAN/output/model/model-80000.\n",
      "\u001b[32m[1001 20:08:24 @monitor.py:467]\u001b[0m GAN_loss/discrim/accuracy_fake: 0.925\n",
      "\u001b[32m[1001 20:08:24 @monitor.py:467]\u001b[0m GAN_loss/discrim/accuracy_real: 0.155\n",
      "\u001b[32m[1001 20:08:24 @monitor.py:467]\u001b[0m GAN_loss/discrim/loss: 0.64476\n",
      "\u001b[32m[1001 20:08:24 @monitor.py:467]\u001b[0m GAN_loss/gen/final-g-loss: 1.0153\n",
      "\u001b[32m[1001 20:08:24 @monitor.py:467]\u001b[0m GAN_loss/gen/klloss: 0.059187\n",
      "\u001b[32m[1001 20:08:24 @monitor.py:467]\u001b[0m GAN_loss/gen/loss: 0.95607\n",
      "\u001b[32m[1001 20:08:24 @monitor.py:467]\u001b[0m QueueInput/queue_size: 50\n",
      "\u001b[32m[1001 20:08:24 @base.py:275]\u001b[0m Start Epoch 41 ...\n"
     ]
    },
    {
     "name": "stderr",
     "output_type": "stream",
     "text": [
      "\n",
      "100%|##########|2000/2000[03:55<00:00, 8.49it/s]"
     ]
    },
    {
     "name": "stdout",
     "output_type": "stream",
     "text": [
      "\u001b[32m[1001 20:12:20 @base.py:285]\u001b[0m Epoch 41 (global_step 82000) finished, time:3 minutes 55 seconds.\n",
      "\u001b[32m[1001 20:12:20 @saver.py:79]\u001b[0m Model saved to ./output_TGAN/output/model/model-82000.\n",
      "\u001b[32m[1001 20:12:20 @monitor.py:467]\u001b[0m GAN_loss/discrim/accuracy_fake: 0.935\n",
      "\u001b[32m[1001 20:12:20 @monitor.py:467]\u001b[0m GAN_loss/discrim/accuracy_real: 0.165\n",
      "\u001b[32m[1001 20:12:20 @monitor.py:467]\u001b[0m GAN_loss/discrim/loss: 0.64182\n",
      "\u001b[32m[1001 20:12:20 @monitor.py:467]\u001b[0m GAN_loss/gen/final-g-loss: 1.01\n",
      "\u001b[32m[1001 20:12:20 @monitor.py:467]\u001b[0m GAN_loss/gen/klloss: 0.054834\n",
      "\u001b[32m[1001 20:12:20 @monitor.py:467]\u001b[0m GAN_loss/gen/loss: 0.95521\n",
      "\u001b[32m[1001 20:12:20 @monitor.py:467]\u001b[0m QueueInput/queue_size: 50\n",
      "\u001b[32m[1001 20:12:20 @base.py:275]\u001b[0m Start Epoch 42 ...\n"
     ]
    },
    {
     "name": "stderr",
     "output_type": "stream",
     "text": [
      "\n",
      "100%|##########|2000/2000[03:55<00:00, 8.48it/s]"
     ]
    },
    {
     "name": "stdout",
     "output_type": "stream",
     "text": [
      "\u001b[32m[1001 20:16:15 @base.py:285]\u001b[0m Epoch 42 (global_step 84000) finished, time:3 minutes 55 seconds.\n",
      "\u001b[32m[1001 20:16:15 @saver.py:79]\u001b[0m Model saved to ./output_TGAN/output/model/model-84000.\n",
      "\u001b[32m[1001 20:16:15 @monitor.py:467]\u001b[0m GAN_loss/discrim/accuracy_fake: 0.945\n",
      "\u001b[32m[1001 20:16:15 @monitor.py:467]\u001b[0m GAN_loss/discrim/accuracy_real: 0.155\n",
      "\u001b[32m[1001 20:16:15 @monitor.py:467]\u001b[0m GAN_loss/discrim/loss: 0.64871\n",
      "\u001b[32m[1001 20:16:15 @monitor.py:467]\u001b[0m GAN_loss/gen/final-g-loss: 1.0876\n",
      "\u001b[32m[1001 20:16:15 @monitor.py:467]\u001b[0m GAN_loss/gen/klloss: 0.12297\n",
      "\u001b[32m[1001 20:16:15 @monitor.py:467]\u001b[0m GAN_loss/gen/loss: 0.96464\n",
      "\u001b[32m[1001 20:16:15 @monitor.py:467]\u001b[0m QueueInput/queue_size: 50\n",
      "\u001b[32m[1001 20:16:15 @base.py:275]\u001b[0m Start Epoch 43 ...\n"
     ]
    },
    {
     "name": "stderr",
     "output_type": "stream",
     "text": [
      "\n",
      "100%|##########|2000/2000[03:55<00:00, 8.49it/s]"
     ]
    },
    {
     "name": "stdout",
     "output_type": "stream",
     "text": [
      "\u001b[32m[1001 20:20:11 @base.py:285]\u001b[0m Epoch 43 (global_step 86000) finished, time:3 minutes 55 seconds.\n",
      "\u001b[32m[1001 20:20:11 @saver.py:79]\u001b[0m Model saved to ./output_TGAN/output/model/model-86000.\n",
      "\u001b[32m[1001 20:20:11 @monitor.py:467]\u001b[0m GAN_loss/discrim/accuracy_fake: 0.965\n",
      "\u001b[32m[1001 20:20:11 @monitor.py:467]\u001b[0m GAN_loss/discrim/accuracy_real: 0.16\n",
      "\u001b[32m[1001 20:20:11 @monitor.py:467]\u001b[0m GAN_loss/discrim/loss: 0.6452\n",
      "\u001b[32m[1001 20:20:11 @monitor.py:467]\u001b[0m GAN_loss/gen/final-g-loss: 1.0718\n",
      "\u001b[32m[1001 20:20:11 @monitor.py:467]\u001b[0m GAN_loss/gen/klloss: 0.11042\n",
      "\u001b[32m[1001 20:20:11 @monitor.py:467]\u001b[0m GAN_loss/gen/loss: 0.96141\n",
      "\u001b[32m[1001 20:20:11 @monitor.py:467]\u001b[0m QueueInput/queue_size: 50\n",
      "\u001b[32m[1001 20:20:11 @base.py:275]\u001b[0m Start Epoch 44 ...\n"
     ]
    },
    {
     "name": "stderr",
     "output_type": "stream",
     "text": [
      "\n",
      "100%|##########|2000/2000[03:56<00:00, 8.46it/s]"
     ]
    },
    {
     "name": "stdout",
     "output_type": "stream",
     "text": [
      "\u001b[32m[1001 20:24:08 @base.py:285]\u001b[0m Epoch 44 (global_step 88000) finished, time:3 minutes 56 seconds.\n",
      "\u001b[32m[1001 20:24:08 @saver.py:79]\u001b[0m Model saved to ./output_TGAN/output/model/model-88000.\n",
      "\u001b[32m[1001 20:24:08 @monitor.py:467]\u001b[0m GAN_loss/discrim/accuracy_fake: 0.915\n",
      "\u001b[32m[1001 20:24:08 @monitor.py:467]\u001b[0m GAN_loss/discrim/accuracy_real: 0.15\n",
      "\u001b[32m[1001 20:24:08 @monitor.py:467]\u001b[0m GAN_loss/discrim/loss: 0.63968\n",
      "\u001b[32m[1001 20:24:08 @monitor.py:467]\u001b[0m GAN_loss/gen/final-g-loss: 1.0685\n",
      "\u001b[32m[1001 20:24:08 @monitor.py:467]\u001b[0m GAN_loss/gen/klloss: 0.094942\n",
      "\u001b[32m[1001 20:24:08 @monitor.py:467]\u001b[0m GAN_loss/gen/loss: 0.97356\n",
      "\u001b[32m[1001 20:24:08 @monitor.py:467]\u001b[0m QueueInput/queue_size: 50\n",
      "\u001b[32m[1001 20:24:08 @base.py:275]\u001b[0m Start Epoch 45 ...\n"
     ]
    },
    {
     "name": "stderr",
     "output_type": "stream",
     "text": [
      "\n",
      "100%|##########|2000/2000[03:54<00:00, 8.52it/s]"
     ]
    },
    {
     "name": "stdout",
     "output_type": "stream",
     "text": [
      "\u001b[32m[1001 20:28:02 @base.py:285]\u001b[0m Epoch 45 (global_step 90000) finished, time:3 minutes 54 seconds.\n",
      "\u001b[32m[1001 20:28:02 @saver.py:79]\u001b[0m Model saved to ./output_TGAN/output/model/model-90000.\n",
      "\u001b[32m[1001 20:28:02 @monitor.py:467]\u001b[0m GAN_loss/discrim/accuracy_fake: 0.905\n",
      "\u001b[32m[1001 20:28:02 @monitor.py:467]\u001b[0m GAN_loss/discrim/accuracy_real: 0.18\n",
      "\u001b[32m[1001 20:28:02 @monitor.py:467]\u001b[0m GAN_loss/discrim/loss: 0.64356\n",
      "\u001b[32m[1001 20:28:02 @monitor.py:467]\u001b[0m GAN_loss/gen/final-g-loss: 1.0674\n",
      "\u001b[32m[1001 20:28:02 @monitor.py:467]\u001b[0m GAN_loss/gen/klloss: 0.11373\n",
      "\u001b[32m[1001 20:28:02 @monitor.py:467]\u001b[0m GAN_loss/gen/loss: 0.95364\n",
      "\u001b[32m[1001 20:28:02 @monitor.py:467]\u001b[0m QueueInput/queue_size: 50\n",
      "\u001b[32m[1001 20:28:02 @base.py:275]\u001b[0m Start Epoch 46 ...\n"
     ]
    },
    {
     "name": "stderr",
     "output_type": "stream",
     "text": [
      "\n",
      "100%|##########|2000/2000[03:55<00:00, 8.49it/s]"
     ]
    },
    {
     "name": "stdout",
     "output_type": "stream",
     "text": [
      "\u001b[32m[1001 20:31:58 @base.py:285]\u001b[0m Epoch 46 (global_step 92000) finished, time:3 minutes 55 seconds.\n",
      "\u001b[32m[1001 20:31:58 @saver.py:79]\u001b[0m Model saved to ./output_TGAN/output/model/model-92000.\n",
      "\u001b[32m[1001 20:31:58 @monitor.py:467]\u001b[0m GAN_loss/discrim/accuracy_fake: 0.92\n",
      "\u001b[32m[1001 20:31:58 @monitor.py:467]\u001b[0m GAN_loss/discrim/accuracy_real: 0.15\n",
      "\u001b[32m[1001 20:31:58 @monitor.py:467]\u001b[0m GAN_loss/discrim/loss: 0.6514\n",
      "\u001b[32m[1001 20:31:58 @monitor.py:467]\u001b[0m GAN_loss/gen/final-g-loss: 1.0802\n",
      "\u001b[32m[1001 20:31:58 @monitor.py:467]\u001b[0m GAN_loss/gen/klloss: 0.12228\n",
      "\u001b[32m[1001 20:31:58 @monitor.py:467]\u001b[0m GAN_loss/gen/loss: 0.95793\n",
      "\u001b[32m[1001 20:31:58 @monitor.py:467]\u001b[0m QueueInput/queue_size: 50\n",
      "\u001b[32m[1001 20:31:58 @base.py:275]\u001b[0m Start Epoch 47 ...\n"
     ]
    },
    {
     "name": "stderr",
     "output_type": "stream",
     "text": [
      "\n",
      "100%|##########|2000/2000[03:55<00:00, 8.49it/s]"
     ]
    },
    {
     "name": "stdout",
     "output_type": "stream",
     "text": [
      "\u001b[32m[1001 20:35:53 @base.py:285]\u001b[0m Epoch 47 (global_step 94000) finished, time:3 minutes 55 seconds.\n",
      "\u001b[32m[1001 20:35:53 @saver.py:79]\u001b[0m Model saved to ./output_TGAN/output/model/model-94000.\n",
      "\u001b[32m[1001 20:35:53 @monitor.py:467]\u001b[0m GAN_loss/discrim/accuracy_fake: 0.92\n",
      "\u001b[32m[1001 20:35:53 @monitor.py:467]\u001b[0m GAN_loss/discrim/accuracy_real: 0.12\n",
      "\u001b[32m[1001 20:35:53 @monitor.py:467]\u001b[0m GAN_loss/discrim/loss: 0.6369\n",
      "\u001b[32m[1001 20:35:53 @monitor.py:467]\u001b[0m GAN_loss/gen/final-g-loss: 1.0867\n",
      "\u001b[32m[1001 20:35:53 @monitor.py:467]\u001b[0m GAN_loss/gen/klloss: 0.10634\n",
      "\u001b[32m[1001 20:35:53 @monitor.py:467]\u001b[0m GAN_loss/gen/loss: 0.98037\n",
      "\u001b[32m[1001 20:35:53 @monitor.py:467]\u001b[0m QueueInput/queue_size: 50\n",
      "\u001b[32m[1001 20:35:53 @base.py:275]\u001b[0m Start Epoch 48 ...\n"
     ]
    },
    {
     "name": "stderr",
     "output_type": "stream",
     "text": [
      "\n",
      "100%|##########|2000/2000[03:54<00:00, 8.52it/s]"
     ]
    },
    {
     "name": "stdout",
     "output_type": "stream",
     "text": [
      "\u001b[32m[1001 20:39:48 @base.py:285]\u001b[0m Epoch 48 (global_step 96000) finished, time:3 minutes 54 seconds.\n",
      "\u001b[32m[1001 20:39:48 @saver.py:79]\u001b[0m Model saved to ./output_TGAN/output/model/model-96000.\n",
      "\u001b[32m[1001 20:39:48 @monitor.py:467]\u001b[0m GAN_loss/discrim/accuracy_fake: 0.92\n",
      "\u001b[32m[1001 20:39:48 @monitor.py:467]\u001b[0m GAN_loss/discrim/accuracy_real: 0.14\n",
      "\u001b[32m[1001 20:39:48 @monitor.py:467]\u001b[0m GAN_loss/discrim/loss: 0.64761\n",
      "\u001b[32m[1001 20:39:48 @monitor.py:467]\u001b[0m GAN_loss/gen/final-g-loss: 1.0818\n",
      "\u001b[32m[1001 20:39:48 @monitor.py:467]\u001b[0m GAN_loss/gen/klloss: 0.12414\n",
      "\u001b[32m[1001 20:39:48 @monitor.py:467]\u001b[0m GAN_loss/gen/loss: 0.95765\n",
      "\u001b[32m[1001 20:39:48 @monitor.py:467]\u001b[0m QueueInput/queue_size: 50\n",
      "\u001b[32m[1001 20:39:48 @base.py:275]\u001b[0m Start Epoch 49 ...\n"
     ]
    },
    {
     "name": "stderr",
     "output_type": "stream",
     "text": [
      "\n",
      "100%|##########|2000/2000[03:55<00:00, 8.51it/s]"
     ]
    },
    {
     "name": "stdout",
     "output_type": "stream",
     "text": [
      "\u001b[32m[1001 20:43:43 @base.py:285]\u001b[0m Epoch 49 (global_step 98000) finished, time:3 minutes 55 seconds.\n",
      "\u001b[32m[1001 20:43:43 @saver.py:79]\u001b[0m Model saved to ./output_TGAN/output/model/model-98000.\n",
      "\u001b[32m[1001 20:43:43 @monitor.py:467]\u001b[0m GAN_loss/discrim/accuracy_fake: 0.955\n",
      "\u001b[32m[1001 20:43:43 @monitor.py:467]\u001b[0m GAN_loss/discrim/accuracy_real: 0.175\n",
      "\u001b[32m[1001 20:43:43 @monitor.py:467]\u001b[0m GAN_loss/discrim/loss: 0.63234\n",
      "\u001b[32m[1001 20:43:43 @monitor.py:467]\u001b[0m GAN_loss/gen/final-g-loss: 1.0719\n",
      "\u001b[32m[1001 20:43:43 @monitor.py:467]\u001b[0m GAN_loss/gen/klloss: 0.085607\n",
      "\u001b[32m[1001 20:43:43 @monitor.py:467]\u001b[0m GAN_loss/gen/loss: 0.9863\n",
      "\u001b[32m[1001 20:43:43 @monitor.py:467]\u001b[0m QueueInput/queue_size: 50\n",
      "\u001b[32m[1001 20:43:43 @base.py:275]\u001b[0m Start Epoch 50 ...\n"
     ]
    },
    {
     "name": "stderr",
     "output_type": "stream",
     "text": [
      "\n",
      "100%|##########|2000/2000[03:48<00:00, 8.74it/s]"
     ]
    },
    {
     "name": "stdout",
     "output_type": "stream",
     "text": [
      "\u001b[32m[1001 20:47:32 @base.py:285]\u001b[0m Epoch 50 (global_step 100000) finished, time:3 minutes 48 seconds.\n",
      "\u001b[32m[1001 20:47:32 @saver.py:79]\u001b[0m Model saved to ./output_TGAN/output/model/model-100000.\n",
      "\u001b[32m[1001 20:47:32 @monitor.py:467]\u001b[0m GAN_loss/discrim/accuracy_fake: 0.955\n",
      "\u001b[32m[1001 20:47:32 @monitor.py:467]\u001b[0m GAN_loss/discrim/accuracy_real: 0.13\n",
      "\u001b[32m[1001 20:47:32 @monitor.py:467]\u001b[0m GAN_loss/discrim/loss: 0.64375\n",
      "\u001b[32m[1001 20:47:32 @monitor.py:467]\u001b[0m GAN_loss/gen/final-g-loss: 1.0835\n",
      "\u001b[32m[1001 20:47:32 @monitor.py:467]\u001b[0m GAN_loss/gen/klloss: 0.12398\n",
      "\u001b[32m[1001 20:47:32 @monitor.py:467]\u001b[0m GAN_loss/gen/loss: 0.95949\n",
      "\u001b[32m[1001 20:47:32 @monitor.py:467]\u001b[0m QueueInput/queue_size: 50\n",
      "\u001b[32m[1001 20:47:32 @base.py:275]\u001b[0m Start Epoch 51 ...\n"
     ]
    },
    {
     "name": "stderr",
     "output_type": "stream",
     "text": [
      "\n",
      "100%|##########|2000/2000[03:55<00:00, 8.49it/s]"
     ]
    },
    {
     "name": "stdout",
     "output_type": "stream",
     "text": [
      "\u001b[32m[1001 20:51:28 @base.py:285]\u001b[0m Epoch 51 (global_step 102000) finished, time:3 minutes 55 seconds.\n",
      "\u001b[32m[1001 20:51:28 @saver.py:79]\u001b[0m Model saved to ./output_TGAN/output/model/model-102000.\n",
      "\u001b[32m[1001 20:51:28 @monitor.py:467]\u001b[0m GAN_loss/discrim/accuracy_fake: 0.935\n",
      "\u001b[32m[1001 20:51:28 @monitor.py:467]\u001b[0m GAN_loss/discrim/accuracy_real: 0.13\n",
      "\u001b[32m[1001 20:51:28 @monitor.py:467]\u001b[0m GAN_loss/discrim/loss: 0.6425\n",
      "\u001b[32m[1001 20:51:28 @monitor.py:467]\u001b[0m GAN_loss/gen/final-g-loss: 1.0772\n",
      "\u001b[32m[1001 20:51:28 @monitor.py:467]\u001b[0m GAN_loss/gen/klloss: 0.098837\n",
      "\u001b[32m[1001 20:51:28 @monitor.py:467]\u001b[0m GAN_loss/gen/loss: 0.97838\n",
      "\u001b[32m[1001 20:51:28 @monitor.py:467]\u001b[0m QueueInput/queue_size: 50\n",
      "\u001b[32m[1001 20:51:28 @base.py:275]\u001b[0m Start Epoch 52 ...\n"
     ]
    },
    {
     "name": "stderr",
     "output_type": "stream",
     "text": [
      "\n",
      "100%|##########|2000/2000[03:56<00:00, 8.47it/s]"
     ]
    },
    {
     "name": "stdout",
     "output_type": "stream",
     "text": [
      "\u001b[32m[1001 20:55:24 @base.py:285]\u001b[0m Epoch 52 (global_step 104000) finished, time:3 minutes 56 seconds.\n",
      "\u001b[32m[1001 20:55:24 @saver.py:79]\u001b[0m Model saved to ./output_TGAN/output/model/model-104000.\n",
      "\u001b[32m[1001 20:55:24 @monitor.py:467]\u001b[0m GAN_loss/discrim/accuracy_fake: 0.935\n",
      "\u001b[32m[1001 20:55:24 @monitor.py:467]\u001b[0m GAN_loss/discrim/accuracy_real: 0.1\n",
      "\u001b[32m[1001 20:55:24 @monitor.py:467]\u001b[0m GAN_loss/discrim/loss: 0.65912\n",
      "\u001b[32m[1001 20:55:24 @monitor.py:467]\u001b[0m GAN_loss/gen/final-g-loss: 1.0689\n",
      "\u001b[32m[1001 20:55:24 @monitor.py:467]\u001b[0m GAN_loss/gen/klloss: 0.11368\n",
      "\u001b[32m[1001 20:55:24 @monitor.py:467]\u001b[0m GAN_loss/gen/loss: 0.95517\n",
      "\u001b[32m[1001 20:55:24 @monitor.py:467]\u001b[0m QueueInput/queue_size: 50\n",
      "\u001b[32m[1001 20:55:24 @base.py:275]\u001b[0m Start Epoch 53 ...\n"
     ]
    },
    {
     "name": "stderr",
     "output_type": "stream",
     "text": [
      "\n",
      "100%|##########|2000/2000[03:54<00:00, 8.52it/s]"
     ]
    },
    {
     "name": "stdout",
     "output_type": "stream",
     "text": [
      "\u001b[32m[1001 20:59:19 @base.py:285]\u001b[0m Epoch 53 (global_step 106000) finished, time:3 minutes 54 seconds.\n",
      "\u001b[32m[1001 20:59:19 @saver.py:79]\u001b[0m Model saved to ./output_TGAN/output/model/model-106000.\n",
      "\u001b[32m[1001 20:59:19 @monitor.py:467]\u001b[0m GAN_loss/discrim/accuracy_fake: 0.925\n",
      "\u001b[32m[1001 20:59:19 @monitor.py:467]\u001b[0m GAN_loss/discrim/accuracy_real: 0.15\n",
      "\u001b[32m[1001 20:59:19 @monitor.py:467]\u001b[0m GAN_loss/discrim/loss: 0.64247\n",
      "\u001b[32m[1001 20:59:19 @monitor.py:467]\u001b[0m GAN_loss/gen/final-g-loss: 1.1007\n",
      "\u001b[32m[1001 20:59:19 @monitor.py:467]\u001b[0m GAN_loss/gen/klloss: 0.13295\n",
      "\u001b[32m[1001 20:59:19 @monitor.py:467]\u001b[0m GAN_loss/gen/loss: 0.96774\n",
      "\u001b[32m[1001 20:59:19 @monitor.py:467]\u001b[0m QueueInput/queue_size: 50\n",
      "\u001b[32m[1001 20:59:19 @base.py:275]\u001b[0m Start Epoch 54 ...\n"
     ]
    },
    {
     "name": "stderr",
     "output_type": "stream",
     "text": [
      "\n",
      "100%|##########|2000/2000[03:55<00:00, 8.50it/s]"
     ]
    },
    {
     "name": "stdout",
     "output_type": "stream",
     "text": [
      "\u001b[32m[1001 21:03:14 @base.py:285]\u001b[0m Epoch 54 (global_step 108000) finished, time:3 minutes 55 seconds.\n",
      "\u001b[32m[1001 21:03:14 @saver.py:79]\u001b[0m Model saved to ./output_TGAN/output/model/model-108000.\n",
      "\u001b[32m[1001 21:03:14 @monitor.py:467]\u001b[0m GAN_loss/discrim/accuracy_fake: 0.925\n",
      "\u001b[32m[1001 21:03:14 @monitor.py:467]\u001b[0m GAN_loss/discrim/accuracy_real: 0.155\n",
      "\u001b[32m[1001 21:03:14 @monitor.py:467]\u001b[0m GAN_loss/discrim/loss: 0.65596\n",
      "\u001b[32m[1001 21:03:14 @monitor.py:467]\u001b[0m GAN_loss/gen/final-g-loss: 1.0505\n",
      "\u001b[32m[1001 21:03:14 @monitor.py:467]\u001b[0m GAN_loss/gen/klloss: 0.080306\n",
      "\u001b[32m[1001 21:03:14 @monitor.py:467]\u001b[0m GAN_loss/gen/loss: 0.97019\n",
      "\u001b[32m[1001 21:03:14 @monitor.py:467]\u001b[0m QueueInput/queue_size: 50\n",
      "\u001b[32m[1001 21:03:14 @base.py:275]\u001b[0m Start Epoch 55 ...\n"
     ]
    },
    {
     "name": "stderr",
     "output_type": "stream",
     "text": [
      "\n",
      "100%|##########|2000/2000[03:55<00:00, 8.50it/s]"
     ]
    },
    {
     "name": "stdout",
     "output_type": "stream",
     "text": [
      "\u001b[32m[1001 21:07:09 @base.py:285]\u001b[0m Epoch 55 (global_step 110000) finished, time:3 minutes 55 seconds.\n",
      "\u001b[32m[1001 21:07:09 @saver.py:79]\u001b[0m Model saved to ./output_TGAN/output/model/model-110000.\n",
      "\u001b[32m[1001 21:07:09 @monitor.py:467]\u001b[0m GAN_loss/discrim/accuracy_fake: 0.91\n",
      "\u001b[32m[1001 21:07:09 @monitor.py:467]\u001b[0m GAN_loss/discrim/accuracy_real: 0.13\n",
      "\u001b[32m[1001 21:07:09 @monitor.py:467]\u001b[0m GAN_loss/discrim/loss: 0.63805\n",
      "\u001b[32m[1001 21:07:09 @monitor.py:467]\u001b[0m GAN_loss/gen/final-g-loss: 1.0963\n",
      "\u001b[32m[1001 21:07:09 @monitor.py:467]\u001b[0m GAN_loss/gen/klloss: 0.1281\n",
      "\u001b[32m[1001 21:07:09 @monitor.py:467]\u001b[0m GAN_loss/gen/loss: 0.96824\n",
      "\u001b[32m[1001 21:07:09 @monitor.py:467]\u001b[0m QueueInput/queue_size: 50\n",
      "\u001b[32m[1001 21:07:09 @base.py:275]\u001b[0m Start Epoch 56 ...\n"
     ]
    },
    {
     "name": "stderr",
     "output_type": "stream",
     "text": [
      "\n",
      "100%|##########|2000/2000[03:55<00:00, 8.50it/s]"
     ]
    },
    {
     "name": "stdout",
     "output_type": "stream",
     "text": [
      "\u001b[32m[1001 21:11:05 @base.py:285]\u001b[0m Epoch 56 (global_step 112000) finished, time:3 minutes 55 seconds.\n",
      "\u001b[32m[1001 21:11:05 @saver.py:79]\u001b[0m Model saved to ./output_TGAN/output/model/model-112000.\n",
      "\u001b[32m[1001 21:11:05 @monitor.py:467]\u001b[0m GAN_loss/discrim/accuracy_fake: 0.935\n",
      "\u001b[32m[1001 21:11:05 @monitor.py:467]\u001b[0m GAN_loss/discrim/accuracy_real: 0.195\n",
      "\u001b[32m[1001 21:11:05 @monitor.py:467]\u001b[0m GAN_loss/discrim/loss: 0.62705\n",
      "\u001b[32m[1001 21:11:05 @monitor.py:467]\u001b[0m GAN_loss/gen/final-g-loss: 1.0629\n",
      "\u001b[32m[1001 21:11:05 @monitor.py:467]\u001b[0m GAN_loss/gen/klloss: 0.076397\n",
      "\u001b[32m[1001 21:11:05 @monitor.py:467]\u001b[0m GAN_loss/gen/loss: 0.98647\n",
      "\u001b[32m[1001 21:11:05 @monitor.py:467]\u001b[0m QueueInput/queue_size: 50\n",
      "\u001b[32m[1001 21:11:05 @base.py:275]\u001b[0m Start Epoch 57 ...\n"
     ]
    },
    {
     "name": "stderr",
     "output_type": "stream",
     "text": [
      "\n",
      "100%|##########|2000/2000[03:55<00:00, 8.48it/s]"
     ]
    },
    {
     "name": "stdout",
     "output_type": "stream",
     "text": [
      "\u001b[32m[1001 21:15:00 @base.py:285]\u001b[0m Epoch 57 (global_step 114000) finished, time:3 minutes 55 seconds.\n",
      "\u001b[32m[1001 21:15:00 @saver.py:79]\u001b[0m Model saved to ./output_TGAN/output/model/model-114000.\n",
      "\u001b[32m[1001 21:15:00 @monitor.py:467]\u001b[0m GAN_loss/discrim/accuracy_fake: 0.93\n",
      "\u001b[32m[1001 21:15:00 @monitor.py:467]\u001b[0m GAN_loss/discrim/accuracy_real: 0.14\n",
      "\u001b[32m[1001 21:15:00 @monitor.py:467]\u001b[0m GAN_loss/discrim/loss: 0.65051\n",
      "\u001b[32m[1001 21:15:00 @monitor.py:467]\u001b[0m GAN_loss/gen/final-g-loss: 1.0785\n",
      "\u001b[32m[1001 21:15:00 @monitor.py:467]\u001b[0m GAN_loss/gen/klloss: 0.11678\n",
      "\u001b[32m[1001 21:15:00 @monitor.py:467]\u001b[0m GAN_loss/gen/loss: 0.96176\n",
      "\u001b[32m[1001 21:15:00 @monitor.py:467]\u001b[0m QueueInput/queue_size: 50\n",
      "\u001b[32m[1001 21:15:00 @base.py:275]\u001b[0m Start Epoch 58 ...\n"
     ]
    },
    {
     "name": "stderr",
     "output_type": "stream",
     "text": [
      "\n",
      "100%|##########|2000/2000[03:55<00:00, 8.49it/s]"
     ]
    },
    {
     "name": "stdout",
     "output_type": "stream",
     "text": [
      "\u001b[32m[1001 21:18:56 @base.py:285]\u001b[0m Epoch 58 (global_step 116000) finished, time:3 minutes 55 seconds.\n",
      "\u001b[32m[1001 21:18:56 @saver.py:79]\u001b[0m Model saved to ./output_TGAN/output/model/model-116000.\n",
      "\u001b[32m[1001 21:18:56 @monitor.py:467]\u001b[0m GAN_loss/discrim/accuracy_fake: 0.905\n",
      "\u001b[32m[1001 21:18:56 @monitor.py:467]\u001b[0m GAN_loss/discrim/accuracy_real: 0.11\n",
      "\u001b[32m[1001 21:18:56 @monitor.py:467]\u001b[0m GAN_loss/discrim/loss: 0.64391\n",
      "\u001b[32m[1001 21:18:56 @monitor.py:467]\u001b[0m GAN_loss/gen/final-g-loss: 1.0669\n",
      "\u001b[32m[1001 21:18:56 @monitor.py:467]\u001b[0m GAN_loss/gen/klloss: 0.10231\n",
      "\u001b[32m[1001 21:18:56 @monitor.py:467]\u001b[0m GAN_loss/gen/loss: 0.96454\n",
      "\u001b[32m[1001 21:18:56 @monitor.py:467]\u001b[0m QueueInput/queue_size: 50\n",
      "\u001b[32m[1001 21:18:56 @base.py:275]\u001b[0m Start Epoch 59 ...\n"
     ]
    },
    {
     "name": "stderr",
     "output_type": "stream",
     "text": [
      "\n",
      "100%|##########|2000/2000[03:56<00:00, 8.46it/s]"
     ]
    },
    {
     "name": "stdout",
     "output_type": "stream",
     "text": [
      "\u001b[32m[1001 21:22:52 @base.py:285]\u001b[0m Epoch 59 (global_step 118000) finished, time:3 minutes 56 seconds.\n",
      "\u001b[32m[1001 21:22:52 @saver.py:79]\u001b[0m Model saved to ./output_TGAN/output/model/model-118000.\n",
      "\u001b[32m[1001 21:22:52 @monitor.py:467]\u001b[0m GAN_loss/discrim/accuracy_fake: 0.915\n",
      "\u001b[32m[1001 21:22:52 @monitor.py:467]\u001b[0m GAN_loss/discrim/accuracy_real: 0.185\n",
      "\u001b[32m[1001 21:22:52 @monitor.py:467]\u001b[0m GAN_loss/discrim/loss: 0.6428\n",
      "\u001b[32m[1001 21:22:52 @monitor.py:467]\u001b[0m GAN_loss/gen/final-g-loss: 1.0618\n",
      "\u001b[32m[1001 21:22:52 @monitor.py:467]\u001b[0m GAN_loss/gen/klloss: 0.076054\n",
      "\u001b[32m[1001 21:22:52 @monitor.py:467]\u001b[0m GAN_loss/gen/loss: 0.98574\n",
      "\u001b[32m[1001 21:22:52 @monitor.py:467]\u001b[0m QueueInput/queue_size: 50\n",
      "\u001b[32m[1001 21:22:52 @base.py:275]\u001b[0m Start Epoch 60 ...\n"
     ]
    },
    {
     "name": "stderr",
     "output_type": "stream",
     "text": [
      "\n",
      "100%|##########|2000/2000[03:55<00:00, 8.50it/s]"
     ]
    },
    {
     "name": "stdout",
     "output_type": "stream",
     "text": [
      "\u001b[32m[1001 21:26:48 @base.py:285]\u001b[0m Epoch 60 (global_step 120000) finished, time:3 minutes 55 seconds.\n",
      "\u001b[32m[1001 21:26:48 @saver.py:79]\u001b[0m Model saved to ./output_TGAN/output/model/model-120000.\n",
      "\u001b[32m[1001 21:26:48 @monitor.py:467]\u001b[0m GAN_loss/discrim/accuracy_fake: 0.91\n",
      "\u001b[32m[1001 21:26:48 @monitor.py:467]\u001b[0m GAN_loss/discrim/accuracy_real: 0.11\n",
      "\u001b[32m[1001 21:26:48 @monitor.py:467]\u001b[0m GAN_loss/discrim/loss: 0.64128\n",
      "\u001b[32m[1001 21:26:48 @monitor.py:467]\u001b[0m GAN_loss/gen/final-g-loss: 1.0575\n",
      "\u001b[32m[1001 21:26:48 @monitor.py:467]\u001b[0m GAN_loss/gen/klloss: 0.092217\n",
      "\u001b[32m[1001 21:26:48 @monitor.py:467]\u001b[0m GAN_loss/gen/loss: 0.96532\n",
      "\u001b[32m[1001 21:26:48 @monitor.py:467]\u001b[0m QueueInput/queue_size: 50\n",
      "\u001b[32m[1001 21:26:48 @base.py:275]\u001b[0m Start Epoch 61 ...\n"
     ]
    },
    {
     "name": "stderr",
     "output_type": "stream",
     "text": [
      "\n",
      "100%|##########|2000/2000[03:55<00:00, 8.50it/s]"
     ]
    },
    {
     "name": "stdout",
     "output_type": "stream",
     "text": [
      "\u001b[32m[1001 21:30:43 @base.py:285]\u001b[0m Epoch 61 (global_step 122000) finished, time:3 minutes 55 seconds.\n",
      "\u001b[32m[1001 21:30:43 @saver.py:79]\u001b[0m Model saved to ./output_TGAN/output/model/model-122000.\n",
      "\u001b[32m[1001 21:30:43 @monitor.py:467]\u001b[0m GAN_loss/discrim/accuracy_fake: 0.965\n",
      "\u001b[32m[1001 21:30:43 @monitor.py:467]\u001b[0m GAN_loss/discrim/accuracy_real: 0.165\n",
      "\u001b[32m[1001 21:30:43 @monitor.py:467]\u001b[0m GAN_loss/discrim/loss: 0.63388\n",
      "\u001b[32m[1001 21:30:43 @monitor.py:467]\u001b[0m GAN_loss/gen/final-g-loss: 1.108\n",
      "\u001b[32m[1001 21:30:43 @monitor.py:467]\u001b[0m GAN_loss/gen/klloss: 0.11893\n",
      "\u001b[32m[1001 21:30:43 @monitor.py:467]\u001b[0m GAN_loss/gen/loss: 0.98908\n",
      "\u001b[32m[1001 21:30:43 @monitor.py:467]\u001b[0m QueueInput/queue_size: 50\n",
      "\u001b[32m[1001 21:30:43 @base.py:275]\u001b[0m Start Epoch 62 ...\n"
     ]
    },
    {
     "name": "stderr",
     "output_type": "stream",
     "text": [
      "\n",
      "100%|##########|2000/2000[03:56<00:00, 8.47it/s]"
     ]
    },
    {
     "name": "stdout",
     "output_type": "stream",
     "text": [
      "\u001b[32m[1001 21:34:39 @base.py:285]\u001b[0m Epoch 62 (global_step 124000) finished, time:3 minutes 56 seconds.\n",
      "\u001b[32m[1001 21:34:39 @saver.py:79]\u001b[0m Model saved to ./output_TGAN/output/model/model-124000.\n",
      "\u001b[32m[1001 21:34:39 @monitor.py:467]\u001b[0m GAN_loss/discrim/accuracy_fake: 0.935\n",
      "\u001b[32m[1001 21:34:39 @monitor.py:467]\u001b[0m GAN_loss/discrim/accuracy_real: 0.16\n",
      "\u001b[32m[1001 21:34:39 @monitor.py:467]\u001b[0m GAN_loss/discrim/loss: 0.64928\n",
      "\u001b[32m[1001 21:34:39 @monitor.py:467]\u001b[0m GAN_loss/gen/final-g-loss: 1.0444\n",
      "\u001b[32m[1001 21:34:39 @monitor.py:467]\u001b[0m GAN_loss/gen/klloss: 0.085645\n",
      "\u001b[32m[1001 21:34:39 @monitor.py:467]\u001b[0m GAN_loss/gen/loss: 0.95874\n",
      "\u001b[32m[1001 21:34:39 @monitor.py:467]\u001b[0m QueueInput/queue_size: 50\n",
      "\u001b[32m[1001 21:34:39 @base.py:275]\u001b[0m Start Epoch 63 ...\n"
     ]
    },
    {
     "name": "stderr",
     "output_type": "stream",
     "text": [
      "\n",
      "100%|##########|2000/2000[03:55<00:00, 8.49it/s]"
     ]
    },
    {
     "name": "stdout",
     "output_type": "stream",
     "text": [
      "\u001b[32m[1001 21:38:35 @base.py:285]\u001b[0m Epoch 63 (global_step 126000) finished, time:3 minutes 55 seconds.\n",
      "\u001b[32m[1001 21:38:35 @saver.py:79]\u001b[0m Model saved to ./output_TGAN/output/model/model-126000.\n",
      "\u001b[32m[1001 21:38:35 @monitor.py:467]\u001b[0m GAN_loss/discrim/accuracy_fake: 0.935\n",
      "\u001b[32m[1001 21:38:35 @monitor.py:467]\u001b[0m GAN_loss/discrim/accuracy_real: 0.12\n",
      "\u001b[32m[1001 21:38:35 @monitor.py:467]\u001b[0m GAN_loss/discrim/loss: 0.64654\n",
      "\u001b[32m[1001 21:38:35 @monitor.py:467]\u001b[0m GAN_loss/gen/final-g-loss: 1.0644\n",
      "\u001b[32m[1001 21:38:35 @monitor.py:467]\u001b[0m GAN_loss/gen/klloss: 0.10129\n",
      "\u001b[32m[1001 21:38:35 @monitor.py:467]\u001b[0m GAN_loss/gen/loss: 0.9631\n",
      "\u001b[32m[1001 21:38:35 @monitor.py:467]\u001b[0m QueueInput/queue_size: 50\n",
      "\u001b[32m[1001 21:38:35 @base.py:275]\u001b[0m Start Epoch 64 ...\n"
     ]
    },
    {
     "name": "stderr",
     "output_type": "stream",
     "text": [
      "\n",
      "100%|##########|2000/2000[03:55<00:00, 8.48it/s]"
     ]
    },
    {
     "name": "stdout",
     "output_type": "stream",
     "text": [
      "\u001b[32m[1001 21:42:31 @base.py:285]\u001b[0m Epoch 64 (global_step 128000) finished, time:3 minutes 55 seconds.\n",
      "\u001b[32m[1001 21:42:31 @saver.py:79]\u001b[0m Model saved to ./output_TGAN/output/model/model-128000.\n",
      "\u001b[32m[1001 21:42:31 @monitor.py:467]\u001b[0m GAN_loss/discrim/accuracy_fake: 0.91\n",
      "\u001b[32m[1001 21:42:31 @monitor.py:467]\u001b[0m GAN_loss/discrim/accuracy_real: 0.185\n",
      "\u001b[32m[1001 21:42:31 @monitor.py:467]\u001b[0m GAN_loss/discrim/loss: 0.63886\n",
      "\u001b[32m[1001 21:42:31 @monitor.py:467]\u001b[0m GAN_loss/gen/final-g-loss: 1.12\n",
      "\u001b[32m[1001 21:42:31 @monitor.py:467]\u001b[0m GAN_loss/gen/klloss: 0.14753\n",
      "\u001b[32m[1001 21:42:31 @monitor.py:467]\u001b[0m GAN_loss/gen/loss: 0.97249\n",
      "\u001b[32m[1001 21:42:31 @monitor.py:467]\u001b[0m QueueInput/queue_size: 50\n",
      "\u001b[32m[1001 21:42:31 @base.py:275]\u001b[0m Start Epoch 65 ...\n"
     ]
    },
    {
     "name": "stderr",
     "output_type": "stream",
     "text": [
      "\n",
      "100%|##########|2000/2000[03:56<00:00, 8.44it/s]"
     ]
    },
    {
     "name": "stdout",
     "output_type": "stream",
     "text": [
      "\u001b[32m[1001 21:46:28 @base.py:285]\u001b[0m Epoch 65 (global_step 130000) finished, time:3 minutes 56 seconds.\n",
      "\u001b[32m[1001 21:46:28 @saver.py:79]\u001b[0m Model saved to ./output_TGAN/output/model/model-130000.\n",
      "\u001b[32m[1001 21:46:28 @monitor.py:467]\u001b[0m GAN_loss/discrim/accuracy_fake: 0.935\n",
      "\u001b[32m[1001 21:46:28 @monitor.py:467]\u001b[0m GAN_loss/discrim/accuracy_real: 0.15\n",
      "\u001b[32m[1001 21:46:28 @monitor.py:467]\u001b[0m GAN_loss/discrim/loss: 0.63309\n",
      "\u001b[32m[1001 21:46:28 @monitor.py:467]\u001b[0m GAN_loss/gen/final-g-loss: 1.0832\n",
      "\u001b[32m[1001 21:46:28 @monitor.py:467]\u001b[0m GAN_loss/gen/klloss: 0.095583\n",
      "\u001b[32m[1001 21:46:28 @monitor.py:467]\u001b[0m GAN_loss/gen/loss: 0.98757\n",
      "\u001b[32m[1001 21:46:28 @monitor.py:467]\u001b[0m QueueInput/queue_size: 50\n",
      "\u001b[32m[1001 21:46:28 @base.py:275]\u001b[0m Start Epoch 66 ...\n"
     ]
    },
    {
     "name": "stderr",
     "output_type": "stream",
     "text": [
      "\n",
      "100%|##########|2000/2000[03:57<00:00, 8.42it/s]"
     ]
    },
    {
     "name": "stdout",
     "output_type": "stream",
     "text": [
      "\u001b[32m[1001 21:50:25 @base.py:285]\u001b[0m Epoch 66 (global_step 132000) finished, time:3 minutes 57 seconds.\n",
      "\u001b[32m[1001 21:50:25 @saver.py:79]\u001b[0m Model saved to ./output_TGAN/output/model/model-132000.\n",
      "\u001b[32m[1001 21:50:25 @monitor.py:467]\u001b[0m GAN_loss/discrim/accuracy_fake: 0.925\n",
      "\u001b[32m[1001 21:50:25 @monitor.py:467]\u001b[0m GAN_loss/discrim/accuracy_real: 0.13\n",
      "\u001b[32m[1001 21:50:25 @monitor.py:467]\u001b[0m GAN_loss/discrim/loss: 0.6509\n",
      "\u001b[32m[1001 21:50:25 @monitor.py:467]\u001b[0m GAN_loss/gen/final-g-loss: 1.0324\n",
      "\u001b[32m[1001 21:50:25 @monitor.py:467]\u001b[0m GAN_loss/gen/klloss: 0.07538\n",
      "\u001b[32m[1001 21:50:25 @monitor.py:467]\u001b[0m GAN_loss/gen/loss: 0.95705\n",
      "\u001b[32m[1001 21:50:25 @monitor.py:467]\u001b[0m QueueInput/queue_size: 50\n",
      "\u001b[32m[1001 21:50:25 @base.py:275]\u001b[0m Start Epoch 67 ...\n"
     ]
    },
    {
     "name": "stderr",
     "output_type": "stream",
     "text": [
      "\n",
      "100%|##########|2000/2000[03:55<00:00, 8.49it/s]"
     ]
    },
    {
     "name": "stdout",
     "output_type": "stream",
     "text": [
      "\u001b[32m[1001 21:54:21 @base.py:285]\u001b[0m Epoch 67 (global_step 134000) finished, time:3 minutes 55 seconds.\n",
      "\u001b[32m[1001 21:54:21 @saver.py:79]\u001b[0m Model saved to ./output_TGAN/output/model/model-134000.\n",
      "\u001b[32m[1001 21:54:21 @monitor.py:467]\u001b[0m GAN_loss/discrim/accuracy_fake: 0.96\n",
      "\u001b[32m[1001 21:54:21 @monitor.py:467]\u001b[0m GAN_loss/discrim/accuracy_real: 0.16\n",
      "\u001b[32m[1001 21:54:21 @monitor.py:467]\u001b[0m GAN_loss/discrim/loss: 0.64401\n",
      "\u001b[32m[1001 21:54:21 @monitor.py:467]\u001b[0m GAN_loss/gen/final-g-loss: 1.0681\n",
      "\u001b[32m[1001 21:54:21 @monitor.py:467]\u001b[0m GAN_loss/gen/klloss: 0.091377\n",
      "\u001b[32m[1001 21:54:21 @monitor.py:467]\u001b[0m GAN_loss/gen/loss: 0.97677\n",
      "\u001b[32m[1001 21:54:21 @monitor.py:467]\u001b[0m QueueInput/queue_size: 50\n",
      "\u001b[32m[1001 21:54:21 @base.py:275]\u001b[0m Start Epoch 68 ...\n"
     ]
    },
    {
     "name": "stderr",
     "output_type": "stream",
     "text": [
      "\n",
      "100%|##########|2000/2000[03:54<00:00, 8.53it/s]"
     ]
    },
    {
     "name": "stdout",
     "output_type": "stream",
     "text": [
      "\u001b[32m[1001 21:58:16 @base.py:285]\u001b[0m Epoch 68 (global_step 136000) finished, time:3 minutes 54 seconds.\n",
      "\u001b[32m[1001 21:58:16 @saver.py:79]\u001b[0m Model saved to ./output_TGAN/output/model/model-136000.\n",
      "\u001b[32m[1001 21:58:16 @monitor.py:467]\u001b[0m GAN_loss/discrim/accuracy_fake: 0.905\n",
      "\u001b[32m[1001 21:58:16 @monitor.py:467]\u001b[0m GAN_loss/discrim/accuracy_real: 0.165\n",
      "\u001b[32m[1001 21:58:16 @monitor.py:467]\u001b[0m GAN_loss/discrim/loss: 0.65603\n",
      "\u001b[32m[1001 21:58:16 @monitor.py:467]\u001b[0m GAN_loss/gen/final-g-loss: 1.0344\n",
      "\u001b[32m[1001 21:58:16 @monitor.py:467]\u001b[0m GAN_loss/gen/klloss: 0.084212\n",
      "\u001b[32m[1001 21:58:16 @monitor.py:467]\u001b[0m GAN_loss/gen/loss: 0.95019\n",
      "\u001b[32m[1001 21:58:16 @monitor.py:467]\u001b[0m QueueInput/queue_size: 50\n",
      "\u001b[32m[1001 21:58:16 @base.py:275]\u001b[0m Start Epoch 69 ...\n"
     ]
    },
    {
     "name": "stderr",
     "output_type": "stream",
     "text": [
      "\n",
      "100%|##########|2000/2000[03:57<00:00, 8.44it/s]"
     ]
    },
    {
     "name": "stdout",
     "output_type": "stream",
     "text": [
      "\u001b[32m[1001 22:02:13 @base.py:285]\u001b[0m Epoch 69 (global_step 138000) finished, time:3 minutes 57 seconds.\n",
      "\u001b[32m[1001 22:02:13 @saver.py:79]\u001b[0m Model saved to ./output_TGAN/output/model/model-138000.\n",
      "\u001b[32m[1001 22:02:13 @monitor.py:467]\u001b[0m GAN_loss/discrim/accuracy_fake: 0.925\n",
      "\u001b[32m[1001 22:02:13 @monitor.py:467]\u001b[0m GAN_loss/discrim/accuracy_real: 0.155\n",
      "\u001b[32m[1001 22:02:13 @monitor.py:467]\u001b[0m GAN_loss/discrim/loss: 0.64296\n",
      "\u001b[32m[1001 22:02:13 @monitor.py:467]\u001b[0m GAN_loss/gen/final-g-loss: 1.0814\n",
      "\u001b[32m[1001 22:02:13 @monitor.py:467]\u001b[0m GAN_loss/gen/klloss: 0.092884\n",
      "\u001b[32m[1001 22:02:13 @monitor.py:467]\u001b[0m GAN_loss/gen/loss: 0.98855\n",
      "\u001b[32m[1001 22:02:13 @monitor.py:467]\u001b[0m QueueInput/queue_size: 50\n",
      "\u001b[32m[1001 22:02:13 @base.py:275]\u001b[0m Start Epoch 70 ...\n"
     ]
    },
    {
     "name": "stderr",
     "output_type": "stream",
     "text": [
      "\n",
      "100%|##########|2000/2000[03:55<00:00, 8.50it/s]"
     ]
    },
    {
     "name": "stdout",
     "output_type": "stream",
     "text": [
      "\u001b[32m[1001 22:06:08 @base.py:285]\u001b[0m Epoch 70 (global_step 140000) finished, time:3 minutes 55 seconds.\n",
      "\u001b[32m[1001 22:06:08 @saver.py:79]\u001b[0m Model saved to ./output_TGAN/output/model/model-140000.\n",
      "\u001b[32m[1001 22:06:08 @monitor.py:467]\u001b[0m GAN_loss/discrim/accuracy_fake: 0.915\n",
      "\u001b[32m[1001 22:06:08 @monitor.py:467]\u001b[0m GAN_loss/discrim/accuracy_real: 0.14\n",
      "\u001b[32m[1001 22:06:08 @monitor.py:467]\u001b[0m GAN_loss/discrim/loss: 0.63744\n",
      "\u001b[32m[1001 22:06:08 @monitor.py:467]\u001b[0m GAN_loss/gen/final-g-loss: 1.0742\n",
      "\u001b[32m[1001 22:06:08 @monitor.py:467]\u001b[0m GAN_loss/gen/klloss: 0.098806\n",
      "\u001b[32m[1001 22:06:08 @monitor.py:467]\u001b[0m GAN_loss/gen/loss: 0.9754\n",
      "\u001b[32m[1001 22:06:08 @monitor.py:467]\u001b[0m QueueInput/queue_size: 50\n",
      "\u001b[32m[1001 22:06:08 @base.py:275]\u001b[0m Start Epoch 71 ...\n"
     ]
    },
    {
     "name": "stderr",
     "output_type": "stream",
     "text": [
      "\n",
      "100%|##########|2000/2000[03:55<00:00, 8.48it/s]"
     ]
    },
    {
     "name": "stdout",
     "output_type": "stream",
     "text": [
      "\u001b[32m[1001 22:10:04 @base.py:285]\u001b[0m Epoch 71 (global_step 142000) finished, time:3 minutes 55 seconds.\n",
      "\u001b[32m[1001 22:10:04 @saver.py:79]\u001b[0m Model saved to ./output_TGAN/output/model/model-142000.\n",
      "\u001b[32m[1001 22:10:04 @monitor.py:467]\u001b[0m GAN_loss/discrim/accuracy_fake: 0.925\n",
      "\u001b[32m[1001 22:10:04 @monitor.py:467]\u001b[0m GAN_loss/discrim/accuracy_real: 0.13\n",
      "\u001b[32m[1001 22:10:04 @monitor.py:467]\u001b[0m GAN_loss/discrim/loss: 0.65306\n",
      "\u001b[32m[1001 22:10:04 @monitor.py:467]\u001b[0m GAN_loss/gen/final-g-loss: 1.0168\n",
      "\u001b[32m[1001 22:10:04 @monitor.py:467]\u001b[0m GAN_loss/gen/klloss: 0.064401\n",
      "\u001b[32m[1001 22:10:04 @monitor.py:467]\u001b[0m GAN_loss/gen/loss: 0.95243\n",
      "\u001b[32m[1001 22:10:04 @monitor.py:467]\u001b[0m QueueInput/queue_size: 50\n",
      "\u001b[32m[1001 22:10:04 @base.py:275]\u001b[0m Start Epoch 72 ...\n"
     ]
    },
    {
     "name": "stderr",
     "output_type": "stream",
     "text": [
      "\n",
      "100%|##########|2000/2000[03:56<00:00, 8.47it/s]"
     ]
    },
    {
     "name": "stdout",
     "output_type": "stream",
     "text": [
      "\u001b[32m[1001 22:14:00 @base.py:285]\u001b[0m Epoch 72 (global_step 144000) finished, time:3 minutes 56 seconds.\n",
      "\u001b[32m[1001 22:14:00 @saver.py:79]\u001b[0m Model saved to ./output_TGAN/output/model/model-144000.\n",
      "\u001b[32m[1001 22:14:00 @monitor.py:467]\u001b[0m GAN_loss/discrim/accuracy_fake: 0.935\n",
      "\u001b[32m[1001 22:14:00 @monitor.py:467]\u001b[0m GAN_loss/discrim/accuracy_real: 0.165\n",
      "\u001b[32m[1001 22:14:00 @monitor.py:467]\u001b[0m GAN_loss/discrim/loss: 0.63852\n",
      "\u001b[32m[1001 22:14:00 @monitor.py:467]\u001b[0m GAN_loss/gen/final-g-loss: 1.1126\n",
      "\u001b[32m[1001 22:14:00 @monitor.py:467]\u001b[0m GAN_loss/gen/klloss: 0.14362\n",
      "\u001b[32m[1001 22:14:00 @monitor.py:467]\u001b[0m GAN_loss/gen/loss: 0.96896\n",
      "\u001b[32m[1001 22:14:00 @monitor.py:467]\u001b[0m QueueInput/queue_size: 50\n",
      "\u001b[32m[1001 22:14:00 @base.py:275]\u001b[0m Start Epoch 73 ...\n"
     ]
    },
    {
     "name": "stderr",
     "output_type": "stream",
     "text": [
      "\n",
      "100%|##########|2000/2000[03:55<00:00, 8.50it/s]"
     ]
    },
    {
     "name": "stdout",
     "output_type": "stream",
     "text": [
      "\u001b[32m[1001 22:17:56 @base.py:285]\u001b[0m Epoch 73 (global_step 146000) finished, time:3 minutes 55 seconds.\n",
      "\u001b[32m[1001 22:17:56 @saver.py:79]\u001b[0m Model saved to ./output_TGAN/output/model/model-146000.\n",
      "\u001b[32m[1001 22:17:56 @monitor.py:467]\u001b[0m GAN_loss/discrim/accuracy_fake: 0.95\n",
      "\u001b[32m[1001 22:17:56 @monitor.py:467]\u001b[0m GAN_loss/discrim/accuracy_real: 0.1\n",
      "\u001b[32m[1001 22:17:56 @monitor.py:467]\u001b[0m GAN_loss/discrim/loss: 0.63999\n",
      "\u001b[32m[1001 22:17:56 @monitor.py:467]\u001b[0m GAN_loss/gen/final-g-loss: 1.0847\n",
      "\u001b[32m[1001 22:17:56 @monitor.py:467]\u001b[0m GAN_loss/gen/klloss: 0.084927\n",
      "\u001b[32m[1001 22:17:56 @monitor.py:467]\u001b[0m GAN_loss/gen/loss: 0.99977\n",
      "\u001b[32m[1001 22:17:56 @monitor.py:467]\u001b[0m QueueInput/queue_size: 50\n",
      "\u001b[32m[1001 22:17:56 @base.py:275]\u001b[0m Start Epoch 74 ...\n"
     ]
    },
    {
     "name": "stderr",
     "output_type": "stream",
     "text": [
      "\n",
      "100%|##########|2000/2000[03:56<00:00, 8.44it/s]"
     ]
    },
    {
     "name": "stdout",
     "output_type": "stream",
     "text": [
      "\u001b[32m[1001 22:21:52 @base.py:285]\u001b[0m Epoch 74 (global_step 148000) finished, time:3 minutes 56 seconds.\n",
      "\u001b[32m[1001 22:21:53 @saver.py:79]\u001b[0m Model saved to ./output_TGAN/output/model/model-148000.\n",
      "\u001b[32m[1001 22:21:53 @monitor.py:467]\u001b[0m GAN_loss/discrim/accuracy_fake: 0.915\n",
      "\u001b[32m[1001 22:21:53 @monitor.py:467]\u001b[0m GAN_loss/discrim/accuracy_real: 0.135\n",
      "\u001b[32m[1001 22:21:53 @monitor.py:467]\u001b[0m GAN_loss/discrim/loss: 0.64414\n",
      "\u001b[32m[1001 22:21:53 @monitor.py:467]\u001b[0m GAN_loss/gen/final-g-loss: 1.047\n",
      "\u001b[32m[1001 22:21:53 @monitor.py:467]\u001b[0m GAN_loss/gen/klloss: 0.087468\n",
      "\u001b[32m[1001 22:21:53 @monitor.py:467]\u001b[0m GAN_loss/gen/loss: 0.95958\n",
      "\u001b[32m[1001 22:21:53 @monitor.py:467]\u001b[0m QueueInput/queue_size: 50\n",
      "\u001b[32m[1001 22:21:53 @base.py:275]\u001b[0m Start Epoch 75 ...\n"
     ]
    },
    {
     "name": "stderr",
     "output_type": "stream",
     "text": [
      "\n",
      "100%|##########|2000/2000[03:55<00:00, 8.49it/s]"
     ]
    },
    {
     "name": "stdout",
     "output_type": "stream",
     "text": [
      "\u001b[32m[1001 22:25:48 @base.py:285]\u001b[0m Epoch 75 (global_step 150000) finished, time:3 minutes 55 seconds.\n",
      "\u001b[32m[1001 22:25:48 @saver.py:79]\u001b[0m Model saved to ./output_TGAN/output/model/model-150000.\n",
      "\u001b[32m[1001 22:25:48 @monitor.py:467]\u001b[0m GAN_loss/discrim/accuracy_fake: 0.925\n",
      "\u001b[32m[1001 22:25:48 @monitor.py:467]\u001b[0m GAN_loss/discrim/accuracy_real: 0.1\n",
      "\u001b[32m[1001 22:25:48 @monitor.py:467]\u001b[0m GAN_loss/discrim/loss: 0.64029\n",
      "\u001b[32m[1001 22:25:48 @monitor.py:467]\u001b[0m GAN_loss/gen/final-g-loss: 1.0751\n",
      "\u001b[32m[1001 22:25:48 @monitor.py:467]\u001b[0m GAN_loss/gen/klloss: 0.11586\n",
      "\u001b[32m[1001 22:25:48 @monitor.py:467]\u001b[0m GAN_loss/gen/loss: 0.95921\n",
      "\u001b[32m[1001 22:25:48 @monitor.py:467]\u001b[0m QueueInput/queue_size: 50\n",
      "\u001b[32m[1001 22:25:48 @base.py:275]\u001b[0m Start Epoch 76 ...\n"
     ]
    },
    {
     "name": "stderr",
     "output_type": "stream",
     "text": [
      "\n",
      "100%|##########|2000/2000[03:56<00:00, 8.47it/s]"
     ]
    },
    {
     "name": "stdout",
     "output_type": "stream",
     "text": [
      "\u001b[32m[1001 22:29:44 @base.py:285]\u001b[0m Epoch 76 (global_step 152000) finished, time:3 minutes 56 seconds.\n",
      "\u001b[32m[1001 22:29:44 @saver.py:79]\u001b[0m Model saved to ./output_TGAN/output/model/model-152000.\n",
      "\u001b[32m[1001 22:29:44 @monitor.py:467]\u001b[0m GAN_loss/discrim/accuracy_fake: 0.925\n",
      "\u001b[32m[1001 22:29:44 @monitor.py:467]\u001b[0m GAN_loss/discrim/accuracy_real: 0.1\n",
      "\u001b[32m[1001 22:29:44 @monitor.py:467]\u001b[0m GAN_loss/discrim/loss: 0.64641\n",
      "\u001b[32m[1001 22:29:44 @monitor.py:467]\u001b[0m GAN_loss/gen/final-g-loss: 1.1107\n",
      "\u001b[32m[1001 22:29:44 @monitor.py:467]\u001b[0m GAN_loss/gen/klloss: 0.12875\n",
      "\u001b[32m[1001 22:29:44 @monitor.py:467]\u001b[0m GAN_loss/gen/loss: 0.98194\n",
      "\u001b[32m[1001 22:29:44 @monitor.py:467]\u001b[0m QueueInput/queue_size: 50\n",
      "\u001b[32m[1001 22:29:44 @base.py:275]\u001b[0m Start Epoch 77 ...\n"
     ]
    },
    {
     "name": "stderr",
     "output_type": "stream",
     "text": [
      "\n",
      "100%|##########|2000/2000[03:55<00:00, 8.48it/s]"
     ]
    },
    {
     "name": "stdout",
     "output_type": "stream",
     "text": [
      "\u001b[32m[1001 22:33:40 @base.py:285]\u001b[0m Epoch 77 (global_step 154000) finished, time:3 minutes 55 seconds.\n",
      "\u001b[32m[1001 22:33:40 @saver.py:79]\u001b[0m Model saved to ./output_TGAN/output/model/model-154000.\n",
      "\u001b[32m[1001 22:33:40 @monitor.py:467]\u001b[0m GAN_loss/discrim/accuracy_fake: 0.935\n",
      "\u001b[32m[1001 22:33:40 @monitor.py:467]\u001b[0m GAN_loss/discrim/accuracy_real: 0.09\n",
      "\u001b[32m[1001 22:33:40 @monitor.py:467]\u001b[0m GAN_loss/discrim/loss: 0.64881\n",
      "\u001b[32m[1001 22:33:40 @monitor.py:467]\u001b[0m GAN_loss/gen/final-g-loss: 1.1015\n",
      "\u001b[32m[1001 22:33:40 @monitor.py:467]\u001b[0m GAN_loss/gen/klloss: 0.1257\n",
      "\u001b[32m[1001 22:33:40 @monitor.py:467]\u001b[0m GAN_loss/gen/loss: 0.97582\n",
      "\u001b[32m[1001 22:33:40 @monitor.py:467]\u001b[0m QueueInput/queue_size: 50\n",
      "\u001b[32m[1001 22:33:40 @base.py:275]\u001b[0m Start Epoch 78 ...\n"
     ]
    },
    {
     "name": "stderr",
     "output_type": "stream",
     "text": [
      "\n",
      "100%|##########|2000/2000[03:55<00:00, 8.49it/s]"
     ]
    },
    {
     "name": "stdout",
     "output_type": "stream",
     "text": [
      "\u001b[32m[1001 22:37:36 @base.py:285]\u001b[0m Epoch 78 (global_step 156000) finished, time:3 minutes 55 seconds.\n",
      "\u001b[32m[1001 22:37:36 @saver.py:79]\u001b[0m Model saved to ./output_TGAN/output/model/model-156000.\n",
      "\u001b[32m[1001 22:37:36 @monitor.py:467]\u001b[0m GAN_loss/discrim/accuracy_fake: 0.95\n",
      "\u001b[32m[1001 22:37:36 @monitor.py:467]\u001b[0m GAN_loss/discrim/accuracy_real: 0.135\n",
      "\u001b[32m[1001 22:37:36 @monitor.py:467]\u001b[0m GAN_loss/discrim/loss: 0.64099\n",
      "\u001b[32m[1001 22:37:36 @monitor.py:467]\u001b[0m GAN_loss/gen/final-g-loss: 1.1427\n",
      "\u001b[32m[1001 22:37:36 @monitor.py:467]\u001b[0m GAN_loss/gen/klloss: 0.15272\n",
      "\u001b[32m[1001 22:37:36 @monitor.py:467]\u001b[0m GAN_loss/gen/loss: 0.99002\n",
      "\u001b[32m[1001 22:37:36 @monitor.py:467]\u001b[0m QueueInput/queue_size: 50\n",
      "\u001b[32m[1001 22:37:36 @base.py:275]\u001b[0m Start Epoch 79 ...\n"
     ]
    },
    {
     "name": "stderr",
     "output_type": "stream",
     "text": [
      "\n",
      "100%|##########|2000/2000[03:55<00:00, 8.50it/s]"
     ]
    },
    {
     "name": "stdout",
     "output_type": "stream",
     "text": [
      "\u001b[32m[1001 22:41:31 @base.py:285]\u001b[0m Epoch 79 (global_step 158000) finished, time:3 minutes 55 seconds.\n",
      "\u001b[32m[1001 22:41:31 @saver.py:79]\u001b[0m Model saved to ./output_TGAN/output/model/model-158000.\n",
      "\u001b[32m[1001 22:41:31 @monitor.py:467]\u001b[0m GAN_loss/discrim/accuracy_fake: 0.935\n",
      "\u001b[32m[1001 22:41:31 @monitor.py:467]\u001b[0m GAN_loss/discrim/accuracy_real: 0.145\n",
      "\u001b[32m[1001 22:41:31 @monitor.py:467]\u001b[0m GAN_loss/discrim/loss: 0.63547\n",
      "\u001b[32m[1001 22:41:31 @monitor.py:467]\u001b[0m GAN_loss/gen/final-g-loss: 1.0832\n",
      "\u001b[32m[1001 22:41:31 @monitor.py:467]\u001b[0m GAN_loss/gen/klloss: 0.10551\n",
      "\u001b[32m[1001 22:41:31 @monitor.py:467]\u001b[0m GAN_loss/gen/loss: 0.97766\n",
      "\u001b[32m[1001 22:41:31 @monitor.py:467]\u001b[0m QueueInput/queue_size: 50\n",
      "\u001b[32m[1001 22:41:31 @base.py:275]\u001b[0m Start Epoch 80 ...\n"
     ]
    },
    {
     "name": "stderr",
     "output_type": "stream",
     "text": [
      "\n",
      "100%|##########|2000/2000[03:55<00:00, 8.48it/s]"
     ]
    },
    {
     "name": "stdout",
     "output_type": "stream",
     "text": [
      "\u001b[32m[1001 22:45:27 @base.py:285]\u001b[0m Epoch 80 (global_step 160000) finished, time:3 minutes 55 seconds.\n",
      "\u001b[32m[1001 22:45:27 @saver.py:79]\u001b[0m Model saved to ./output_TGAN/output/model/model-160000.\n",
      "\u001b[32m[1001 22:45:27 @monitor.py:467]\u001b[0m GAN_loss/discrim/accuracy_fake: 0.95\n",
      "\u001b[32m[1001 22:45:27 @monitor.py:467]\u001b[0m GAN_loss/discrim/accuracy_real: 0.125\n",
      "\u001b[32m[1001 22:45:27 @monitor.py:467]\u001b[0m GAN_loss/discrim/loss: 0.65013\n",
      "\u001b[32m[1001 22:45:27 @monitor.py:467]\u001b[0m GAN_loss/gen/final-g-loss: 1.0665\n",
      "\u001b[32m[1001 22:45:27 @monitor.py:467]\u001b[0m GAN_loss/gen/klloss: 0.080377\n",
      "\u001b[32m[1001 22:45:27 @monitor.py:467]\u001b[0m GAN_loss/gen/loss: 0.98614\n",
      "\u001b[32m[1001 22:45:27 @monitor.py:467]\u001b[0m QueueInput/queue_size: 50\n",
      "\u001b[32m[1001 22:45:27 @base.py:275]\u001b[0m Start Epoch 81 ...\n"
     ]
    },
    {
     "name": "stderr",
     "output_type": "stream",
     "text": [
      "\n",
      "100%|##########|2000/2000[03:56<00:00, 8.46it/s]"
     ]
    },
    {
     "name": "stdout",
     "output_type": "stream",
     "text": [
      "\u001b[32m[1001 22:49:23 @base.py:285]\u001b[0m Epoch 81 (global_step 162000) finished, time:3 minutes 56 seconds.\n",
      "\u001b[32m[1001 22:49:23 @saver.py:79]\u001b[0m Model saved to ./output_TGAN/output/model/model-162000.\n",
      "\u001b[32m[1001 22:49:23 @monitor.py:467]\u001b[0m GAN_loss/discrim/accuracy_fake: 0.94\n",
      "\u001b[32m[1001 22:49:23 @monitor.py:467]\u001b[0m GAN_loss/discrim/accuracy_real: 0.125\n",
      "\u001b[32m[1001 22:49:23 @monitor.py:467]\u001b[0m GAN_loss/discrim/loss: 0.64342\n",
      "\u001b[32m[1001 22:49:23 @monitor.py:467]\u001b[0m GAN_loss/gen/final-g-loss: 1.0789\n",
      "\u001b[32m[1001 22:49:23 @monitor.py:467]\u001b[0m GAN_loss/gen/klloss: 0.10163\n",
      "\u001b[32m[1001 22:49:23 @monitor.py:467]\u001b[0m GAN_loss/gen/loss: 0.97731\n",
      "\u001b[32m[1001 22:49:23 @monitor.py:467]\u001b[0m QueueInput/queue_size: 50\n",
      "\u001b[32m[1001 22:49:23 @base.py:275]\u001b[0m Start Epoch 82 ...\n"
     ]
    },
    {
     "name": "stderr",
     "output_type": "stream",
     "text": [
      "\n",
      "100%|##########|2000/2000[03:55<00:00, 8.50it/s]"
     ]
    },
    {
     "name": "stdout",
     "output_type": "stream",
     "text": [
      "\u001b[32m[1001 22:53:19 @base.py:285]\u001b[0m Epoch 82 (global_step 164000) finished, time:3 minutes 55 seconds.\n",
      "\u001b[32m[1001 22:53:19 @saver.py:79]\u001b[0m Model saved to ./output_TGAN/output/model/model-164000.\n",
      "\u001b[32m[1001 22:53:19 @monitor.py:467]\u001b[0m GAN_loss/discrim/accuracy_fake: 0.935\n",
      "\u001b[32m[1001 22:53:19 @monitor.py:467]\u001b[0m GAN_loss/discrim/accuracy_real: 0.11\n",
      "\u001b[32m[1001 22:53:19 @monitor.py:467]\u001b[0m GAN_loss/discrim/loss: 0.6328\n",
      "\u001b[32m[1001 22:53:19 @monitor.py:467]\u001b[0m GAN_loss/gen/final-g-loss: 1.0587\n",
      "\u001b[32m[1001 22:53:19 @monitor.py:467]\u001b[0m GAN_loss/gen/klloss: 0.067087\n",
      "\u001b[32m[1001 22:53:19 @monitor.py:467]\u001b[0m GAN_loss/gen/loss: 0.99165\n",
      "\u001b[32m[1001 22:53:19 @monitor.py:467]\u001b[0m QueueInput/queue_size: 50\n",
      "\u001b[32m[1001 22:53:19 @base.py:275]\u001b[0m Start Epoch 83 ...\n"
     ]
    },
    {
     "name": "stderr",
     "output_type": "stream",
     "text": [
      "\n",
      "100%|##########|2000/2000[03:55<00:00, 8.48it/s]"
     ]
    },
    {
     "name": "stdout",
     "output_type": "stream",
     "text": [
      "\u001b[32m[1001 22:57:14 @base.py:285]\u001b[0m Epoch 83 (global_step 166000) finished, time:3 minutes 55 seconds.\n",
      "\u001b[32m[1001 22:57:14 @saver.py:79]\u001b[0m Model saved to ./output_TGAN/output/model/model-166000.\n",
      "\u001b[32m[1001 22:57:14 @monitor.py:467]\u001b[0m GAN_loss/discrim/accuracy_fake: 0.955\n",
      "\u001b[32m[1001 22:57:14 @monitor.py:467]\u001b[0m GAN_loss/discrim/accuracy_real: 0.135\n",
      "\u001b[32m[1001 22:57:14 @monitor.py:467]\u001b[0m GAN_loss/discrim/loss: 0.63775\n",
      "\u001b[32m[1001 22:57:14 @monitor.py:467]\u001b[0m GAN_loss/gen/final-g-loss: 1.1069\n",
      "\u001b[32m[1001 22:57:14 @monitor.py:467]\u001b[0m GAN_loss/gen/klloss: 0.1011\n",
      "\u001b[32m[1001 22:57:14 @monitor.py:467]\u001b[0m GAN_loss/gen/loss: 1.0058\n",
      "\u001b[32m[1001 22:57:14 @monitor.py:467]\u001b[0m QueueInput/queue_size: 50\n",
      "\u001b[32m[1001 22:57:14 @base.py:275]\u001b[0m Start Epoch 84 ...\n"
     ]
    },
    {
     "name": "stderr",
     "output_type": "stream",
     "text": [
      "\n",
      "100%|##########|2000/2000[03:55<00:00, 8.50it/s]"
     ]
    },
    {
     "name": "stdout",
     "output_type": "stream",
     "text": [
      "\u001b[32m[1001 23:01:10 @base.py:285]\u001b[0m Epoch 84 (global_step 168000) finished, time:3 minutes 55 seconds.\n",
      "\u001b[32m[1001 23:01:10 @saver.py:79]\u001b[0m Model saved to ./output_TGAN/output/model/model-168000.\n",
      "\u001b[32m[1001 23:01:10 @monitor.py:467]\u001b[0m GAN_loss/discrim/accuracy_fake: 0.93\n",
      "\u001b[32m[1001 23:01:10 @monitor.py:467]\u001b[0m GAN_loss/discrim/accuracy_real: 0.135\n",
      "\u001b[32m[1001 23:01:10 @monitor.py:467]\u001b[0m GAN_loss/discrim/loss: 0.64208\n",
      "\u001b[32m[1001 23:01:10 @monitor.py:467]\u001b[0m GAN_loss/gen/final-g-loss: 1.0895\n",
      "\u001b[32m[1001 23:01:10 @monitor.py:467]\u001b[0m GAN_loss/gen/klloss: 0.11195\n",
      "\u001b[32m[1001 23:01:10 @monitor.py:467]\u001b[0m GAN_loss/gen/loss: 0.97754\n",
      "\u001b[32m[1001 23:01:10 @monitor.py:467]\u001b[0m QueueInput/queue_size: 50\n",
      "\u001b[32m[1001 23:01:10 @base.py:275]\u001b[0m Start Epoch 85 ...\n"
     ]
    },
    {
     "name": "stderr",
     "output_type": "stream",
     "text": [
      "\n",
      "100%|##########|2000/2000[03:55<00:00, 8.49it/s]"
     ]
    },
    {
     "name": "stdout",
     "output_type": "stream",
     "text": [
      "\u001b[32m[1001 23:05:05 @base.py:285]\u001b[0m Epoch 85 (global_step 170000) finished, time:3 minutes 55 seconds.\n",
      "\u001b[32m[1001 23:05:05 @saver.py:79]\u001b[0m Model saved to ./output_TGAN/output/model/model-170000.\n",
      "\u001b[32m[1001 23:05:05 @monitor.py:467]\u001b[0m GAN_loss/discrim/accuracy_fake: 0.92\n",
      "\u001b[32m[1001 23:05:05 @monitor.py:467]\u001b[0m GAN_loss/discrim/accuracy_real: 0.12\n",
      "\u001b[32m[1001 23:05:05 @monitor.py:467]\u001b[0m GAN_loss/discrim/loss: 0.64228\n",
      "\u001b[32m[1001 23:05:05 @monitor.py:467]\u001b[0m GAN_loss/gen/final-g-loss: 1.1253\n",
      "\u001b[32m[1001 23:05:05 @monitor.py:467]\u001b[0m GAN_loss/gen/klloss: 0.13231\n",
      "\u001b[32m[1001 23:05:05 @monitor.py:467]\u001b[0m GAN_loss/gen/loss: 0.993\n",
      "\u001b[32m[1001 23:05:05 @monitor.py:467]\u001b[0m QueueInput/queue_size: 50\n",
      "\u001b[32m[1001 23:05:05 @base.py:275]\u001b[0m Start Epoch 86 ...\n"
     ]
    },
    {
     "name": "stderr",
     "output_type": "stream",
     "text": [
      "\n",
      "100%|##########|2000/2000[03:56<00:00, 8.47it/s]"
     ]
    },
    {
     "name": "stdout",
     "output_type": "stream",
     "text": [
      "\u001b[32m[1001 23:09:02 @base.py:285]\u001b[0m Epoch 86 (global_step 172000) finished, time:3 minutes 56 seconds.\n",
      "\u001b[32m[1001 23:09:02 @saver.py:79]\u001b[0m Model saved to ./output_TGAN/output/model/model-172000.\n",
      "\u001b[32m[1001 23:09:02 @monitor.py:467]\u001b[0m GAN_loss/discrim/accuracy_fake: 0.92\n",
      "\u001b[32m[1001 23:09:02 @monitor.py:467]\u001b[0m GAN_loss/discrim/accuracy_real: 0.12\n",
      "\u001b[32m[1001 23:09:02 @monitor.py:467]\u001b[0m GAN_loss/discrim/loss: 0.6423\n",
      "\u001b[32m[1001 23:09:02 @monitor.py:467]\u001b[0m GAN_loss/gen/final-g-loss: 1.0993\n",
      "\u001b[32m[1001 23:09:02 @monitor.py:467]\u001b[0m GAN_loss/gen/klloss: 0.12485\n",
      "\u001b[32m[1001 23:09:02 @monitor.py:467]\u001b[0m GAN_loss/gen/loss: 0.97444\n",
      "\u001b[32m[1001 23:09:02 @monitor.py:467]\u001b[0m QueueInput/queue_size: 50\n",
      "\u001b[32m[1001 23:09:02 @base.py:275]\u001b[0m Start Epoch 87 ...\n"
     ]
    },
    {
     "name": "stderr",
     "output_type": "stream",
     "text": [
      "\n",
      "100%|##########|2000/2000[03:55<00:00, 8.49it/s]"
     ]
    },
    {
     "name": "stdout",
     "output_type": "stream",
     "text": [
      "\u001b[32m[1001 23:12:57 @base.py:285]\u001b[0m Epoch 87 (global_step 174000) finished, time:3 minutes 55 seconds.\n",
      "\u001b[32m[1001 23:12:57 @saver.py:79]\u001b[0m Model saved to ./output_TGAN/output/model/model-174000.\n",
      "\u001b[32m[1001 23:12:57 @monitor.py:467]\u001b[0m GAN_loss/discrim/accuracy_fake: 0.93\n",
      "\u001b[32m[1001 23:12:57 @monitor.py:467]\u001b[0m GAN_loss/discrim/accuracy_real: 0.16\n",
      "\u001b[32m[1001 23:12:57 @monitor.py:467]\u001b[0m GAN_loss/discrim/loss: 0.64768\n",
      "\u001b[32m[1001 23:12:57 @monitor.py:467]\u001b[0m GAN_loss/gen/final-g-loss: 1.0311\n",
      "\u001b[32m[1001 23:12:57 @monitor.py:467]\u001b[0m GAN_loss/gen/klloss: 0.071102\n",
      "\u001b[32m[1001 23:12:57 @monitor.py:467]\u001b[0m GAN_loss/gen/loss: 0.96003\n",
      "\u001b[32m[1001 23:12:57 @monitor.py:467]\u001b[0m QueueInput/queue_size: 50\n",
      "\u001b[32m[1001 23:12:57 @base.py:275]\u001b[0m Start Epoch 88 ...\n"
     ]
    },
    {
     "name": "stderr",
     "output_type": "stream",
     "text": [
      "\n",
      "100%|##########|2000/2000[03:55<00:00, 8.50it/s]"
     ]
    },
    {
     "name": "stdout",
     "output_type": "stream",
     "text": [
      "\u001b[32m[1001 23:16:53 @base.py:285]\u001b[0m Epoch 88 (global_step 176000) finished, time:3 minutes 55 seconds.\n",
      "\u001b[32m[1001 23:16:53 @saver.py:79]\u001b[0m Model saved to ./output_TGAN/output/model/model-176000.\n",
      "\u001b[32m[1001 23:16:53 @monitor.py:467]\u001b[0m GAN_loss/discrim/accuracy_fake: 0.95\n",
      "\u001b[32m[1001 23:16:53 @monitor.py:467]\u001b[0m GAN_loss/discrim/accuracy_real: 0.105\n",
      "\u001b[32m[1001 23:16:53 @monitor.py:467]\u001b[0m GAN_loss/discrim/loss: 0.6389\n",
      "\u001b[32m[1001 23:16:53 @monitor.py:467]\u001b[0m GAN_loss/gen/final-g-loss: 1.0933\n",
      "\u001b[32m[1001 23:16:53 @monitor.py:467]\u001b[0m GAN_loss/gen/klloss: 0.10198\n",
      "\u001b[32m[1001 23:16:53 @monitor.py:467]\u001b[0m GAN_loss/gen/loss: 0.99137\n",
      "\u001b[32m[1001 23:16:53 @monitor.py:467]\u001b[0m QueueInput/queue_size: 50\n",
      "\u001b[32m[1001 23:16:53 @base.py:275]\u001b[0m Start Epoch 89 ...\n"
     ]
    },
    {
     "name": "stderr",
     "output_type": "stream",
     "text": [
      "\n",
      "100%|##########|2000/2000[03:55<00:00, 8.50it/s]"
     ]
    },
    {
     "name": "stdout",
     "output_type": "stream",
     "text": [
      "\u001b[32m[1001 23:20:48 @base.py:285]\u001b[0m Epoch 89 (global_step 178000) finished, time:3 minutes 55 seconds.\n",
      "\u001b[32m[1001 23:20:48 @saver.py:79]\u001b[0m Model saved to ./output_TGAN/output/model/model-178000.\n",
      "\u001b[32m[1001 23:20:48 @monitor.py:467]\u001b[0m GAN_loss/discrim/accuracy_fake: 0.955\n",
      "\u001b[32m[1001 23:20:48 @monitor.py:467]\u001b[0m GAN_loss/discrim/accuracy_real: 0.155\n",
      "\u001b[32m[1001 23:20:48 @monitor.py:467]\u001b[0m GAN_loss/discrim/loss: 0.62714\n",
      "\u001b[32m[1001 23:20:48 @monitor.py:467]\u001b[0m GAN_loss/gen/final-g-loss: 1.1014\n",
      "\u001b[32m[1001 23:20:48 @monitor.py:467]\u001b[0m GAN_loss/gen/klloss: 0.11094\n",
      "\u001b[32m[1001 23:20:48 @monitor.py:467]\u001b[0m GAN_loss/gen/loss: 0.99049\n",
      "\u001b[32m[1001 23:20:48 @monitor.py:467]\u001b[0m QueueInput/queue_size: 50\n",
      "\u001b[32m[1001 23:20:48 @base.py:275]\u001b[0m Start Epoch 90 ...\n"
     ]
    },
    {
     "name": "stderr",
     "output_type": "stream",
     "text": [
      "\n",
      "100%|##########|2000/2000[03:56<00:00, 8.45it/s]"
     ]
    },
    {
     "name": "stdout",
     "output_type": "stream",
     "text": [
      "\u001b[32m[1001 23:24:45 @base.py:285]\u001b[0m Epoch 90 (global_step 180000) finished, time:3 minutes 56 seconds.\n",
      "\u001b[32m[1001 23:24:45 @saver.py:79]\u001b[0m Model saved to ./output_TGAN/output/model/model-180000.\n",
      "\u001b[32m[1001 23:24:45 @monitor.py:467]\u001b[0m GAN_loss/discrim/accuracy_fake: 0.91\n",
      "\u001b[32m[1001 23:24:45 @monitor.py:467]\u001b[0m GAN_loss/discrim/accuracy_real: 0.145\n",
      "\u001b[32m[1001 23:24:45 @monitor.py:467]\u001b[0m GAN_loss/discrim/loss: 0.6429\n",
      "\u001b[32m[1001 23:24:45 @monitor.py:467]\u001b[0m GAN_loss/gen/final-g-loss: 1.1187\n",
      "\u001b[32m[1001 23:24:45 @monitor.py:467]\u001b[0m GAN_loss/gen/klloss: 0.12941\n",
      "\u001b[32m[1001 23:24:45 @monitor.py:467]\u001b[0m GAN_loss/gen/loss: 0.98932\n",
      "\u001b[32m[1001 23:24:45 @monitor.py:467]\u001b[0m QueueInput/queue_size: 50\n",
      "\u001b[32m[1001 23:24:45 @base.py:275]\u001b[0m Start Epoch 91 ...\n"
     ]
    },
    {
     "name": "stderr",
     "output_type": "stream",
     "text": [
      "\n",
      "100%|##########|2000/2000[03:55<00:00, 8.49it/s]"
     ]
    },
    {
     "name": "stdout",
     "output_type": "stream",
     "text": [
      "\u001b[32m[1001 23:28:40 @base.py:285]\u001b[0m Epoch 91 (global_step 182000) finished, time:3 minutes 55 seconds.\n",
      "\u001b[32m[1001 23:28:40 @saver.py:79]\u001b[0m Model saved to ./output_TGAN/output/model/model-182000.\n",
      "\u001b[32m[1001 23:28:40 @monitor.py:467]\u001b[0m GAN_loss/discrim/accuracy_fake: 0.94\n",
      "\u001b[32m[1001 23:28:40 @monitor.py:467]\u001b[0m GAN_loss/discrim/accuracy_real: 0.13\n",
      "\u001b[32m[1001 23:28:40 @monitor.py:467]\u001b[0m GAN_loss/discrim/loss: 0.64167\n",
      "\u001b[32m[1001 23:28:40 @monitor.py:467]\u001b[0m GAN_loss/gen/final-g-loss: 1.1267\n",
      "\u001b[32m[1001 23:28:40 @monitor.py:467]\u001b[0m GAN_loss/gen/klloss: 0.14593\n",
      "\u001b[32m[1001 23:28:40 @monitor.py:467]\u001b[0m GAN_loss/gen/loss: 0.98082\n",
      "\u001b[32m[1001 23:28:40 @monitor.py:467]\u001b[0m QueueInput/queue_size: 50\n",
      "\u001b[32m[1001 23:28:40 @base.py:275]\u001b[0m Start Epoch 92 ...\n"
     ]
    },
    {
     "name": "stderr",
     "output_type": "stream",
     "text": [
      "\n",
      "100%|##########|2000/2000[03:56<00:00, 8.47it/s]"
     ]
    },
    {
     "name": "stdout",
     "output_type": "stream",
     "text": [
      "\u001b[32m[1001 23:32:37 @base.py:285]\u001b[0m Epoch 92 (global_step 184000) finished, time:3 minutes 56 seconds.\n",
      "\u001b[32m[1001 23:32:37 @saver.py:79]\u001b[0m Model saved to ./output_TGAN/output/model/model-184000.\n",
      "\u001b[32m[1001 23:32:37 @monitor.py:467]\u001b[0m GAN_loss/discrim/accuracy_fake: 0.935\n",
      "\u001b[32m[1001 23:32:37 @monitor.py:467]\u001b[0m GAN_loss/discrim/accuracy_real: 0.085\n",
      "\u001b[32m[1001 23:32:37 @monitor.py:467]\u001b[0m GAN_loss/discrim/loss: 0.6315\n",
      "\u001b[32m[1001 23:32:37 @monitor.py:467]\u001b[0m GAN_loss/gen/final-g-loss: 1.0979\n",
      "\u001b[32m[1001 23:32:37 @monitor.py:467]\u001b[0m GAN_loss/gen/klloss: 0.096801\n",
      "\u001b[32m[1001 23:32:37 @monitor.py:467]\u001b[0m GAN_loss/gen/loss: 1.0011\n",
      "\u001b[32m[1001 23:32:37 @monitor.py:467]\u001b[0m QueueInput/queue_size: 50\n",
      "\u001b[32m[1001 23:32:37 @base.py:275]\u001b[0m Start Epoch 93 ...\n"
     ]
    },
    {
     "name": "stderr",
     "output_type": "stream",
     "text": [
      "\n",
      "100%|##########|2000/2000[03:54<00:00, 8.51it/s]"
     ]
    },
    {
     "name": "stdout",
     "output_type": "stream",
     "text": [
      "\u001b[32m[1001 23:36:31 @base.py:285]\u001b[0m Epoch 93 (global_step 186000) finished, time:3 minutes 54 seconds.\n",
      "\u001b[32m[1001 23:36:31 @saver.py:79]\u001b[0m Model saved to ./output_TGAN/output/model/model-186000.\n",
      "\u001b[32m[1001 23:36:31 @monitor.py:467]\u001b[0m GAN_loss/discrim/accuracy_fake: 0.95\n",
      "\u001b[32m[1001 23:36:31 @monitor.py:467]\u001b[0m GAN_loss/discrim/accuracy_real: 0.115\n",
      "\u001b[32m[1001 23:36:31 @monitor.py:467]\u001b[0m GAN_loss/discrim/loss: 0.64888\n",
      "\u001b[32m[1001 23:36:31 @monitor.py:467]\u001b[0m GAN_loss/gen/final-g-loss: 1.0912\n",
      "\u001b[32m[1001 23:36:31 @monitor.py:467]\u001b[0m GAN_loss/gen/klloss: 0.11334\n",
      "\u001b[32m[1001 23:36:31 @monitor.py:467]\u001b[0m GAN_loss/gen/loss: 0.9779\n",
      "\u001b[32m[1001 23:36:31 @monitor.py:467]\u001b[0m QueueInput/queue_size: 50\n",
      "\u001b[32m[1001 23:36:31 @base.py:275]\u001b[0m Start Epoch 94 ...\n"
     ]
    },
    {
     "name": "stderr",
     "output_type": "stream",
     "text": [
      "\n",
      "100%|##########|2000/2000[03:55<00:00, 8.50it/s]"
     ]
    },
    {
     "name": "stdout",
     "output_type": "stream",
     "text": [
      "\u001b[32m[1001 23:40:27 @base.py:285]\u001b[0m Epoch 94 (global_step 188000) finished, time:3 minutes 55 seconds.\n",
      "\u001b[32m[1001 23:40:27 @saver.py:79]\u001b[0m Model saved to ./output_TGAN/output/model/model-188000.\n",
      "\u001b[32m[1001 23:40:27 @monitor.py:467]\u001b[0m GAN_loss/discrim/accuracy_fake: 0.92\n",
      "\u001b[32m[1001 23:40:27 @monitor.py:467]\u001b[0m GAN_loss/discrim/accuracy_real: 0.135\n",
      "\u001b[32m[1001 23:40:27 @monitor.py:467]\u001b[0m GAN_loss/discrim/loss: 0.65272\n",
      "\u001b[32m[1001 23:40:27 @monitor.py:467]\u001b[0m GAN_loss/gen/final-g-loss: 1.0931\n",
      "\u001b[32m[1001 23:40:27 @monitor.py:467]\u001b[0m GAN_loss/gen/klloss: 0.1412\n",
      "\u001b[32m[1001 23:40:27 @monitor.py:467]\u001b[0m GAN_loss/gen/loss: 0.95192\n",
      "\u001b[32m[1001 23:40:27 @monitor.py:467]\u001b[0m QueueInput/queue_size: 50\n",
      "\u001b[32m[1001 23:40:27 @base.py:275]\u001b[0m Start Epoch 95 ...\n"
     ]
    },
    {
     "name": "stderr",
     "output_type": "stream",
     "text": [
      "\n",
      "100%|##########|2000/2000[03:55<00:00, 8.49it/s]"
     ]
    },
    {
     "name": "stdout",
     "output_type": "stream",
     "text": [
      "\u001b[32m[1001 23:44:22 @base.py:285]\u001b[0m Epoch 95 (global_step 190000) finished, time:3 minutes 55 seconds.\n",
      "\u001b[32m[1001 23:44:22 @saver.py:79]\u001b[0m Model saved to ./output_TGAN/output/model/model-190000.\n",
      "\u001b[32m[1001 23:44:22 @monitor.py:467]\u001b[0m GAN_loss/discrim/accuracy_fake: 0.94\n",
      "\u001b[32m[1001 23:44:22 @monitor.py:467]\u001b[0m GAN_loss/discrim/accuracy_real: 0.19\n",
      "\u001b[32m[1001 23:44:22 @monitor.py:467]\u001b[0m GAN_loss/discrim/loss: 0.63957\n",
      "\u001b[32m[1001 23:44:22 @monitor.py:467]\u001b[0m GAN_loss/gen/final-g-loss: 1.0552\n",
      "\u001b[32m[1001 23:44:22 @monitor.py:467]\u001b[0m GAN_loss/gen/klloss: 0.092154\n",
      "\u001b[32m[1001 23:44:22 @monitor.py:467]\u001b[0m GAN_loss/gen/loss: 0.96304\n",
      "\u001b[32m[1001 23:44:22 @monitor.py:467]\u001b[0m QueueInput/queue_size: 50\n",
      "\u001b[32m[1001 23:44:22 @base.py:275]\u001b[0m Start Epoch 96 ...\n"
     ]
    },
    {
     "name": "stderr",
     "output_type": "stream",
     "text": [
      "\n",
      "100%|##########|2000/2000[03:55<00:00, 8.50it/s]"
     ]
    },
    {
     "name": "stdout",
     "output_type": "stream",
     "text": [
      "\u001b[32m[1001 23:48:18 @base.py:285]\u001b[0m Epoch 96 (global_step 192000) finished, time:3 minutes 55 seconds.\n",
      "\u001b[32m[1001 23:48:18 @saver.py:79]\u001b[0m Model saved to ./output_TGAN/output/model/model-192000.\n",
      "\u001b[32m[1001 23:48:18 @monitor.py:467]\u001b[0m GAN_loss/discrim/accuracy_fake: 0.94\n",
      "\u001b[32m[1001 23:48:18 @monitor.py:467]\u001b[0m GAN_loss/discrim/accuracy_real: 0.135\n",
      "\u001b[32m[1001 23:48:18 @monitor.py:467]\u001b[0m GAN_loss/discrim/loss: 0.64521\n",
      "\u001b[32m[1001 23:48:18 @monitor.py:467]\u001b[0m GAN_loss/gen/final-g-loss: 1.0656\n",
      "\u001b[32m[1001 23:48:18 @monitor.py:467]\u001b[0m GAN_loss/gen/klloss: 0.085616\n",
      "\u001b[32m[1001 23:48:18 @monitor.py:467]\u001b[0m GAN_loss/gen/loss: 0.97994\n",
      "\u001b[32m[1001 23:48:18 @monitor.py:467]\u001b[0m QueueInput/queue_size: 50\n",
      "\u001b[32m[1001 23:48:18 @base.py:275]\u001b[0m Start Epoch 97 ...\n"
     ]
    },
    {
     "name": "stderr",
     "output_type": "stream",
     "text": [
      "\n",
      "100%|##########|2000/2000[03:56<00:00, 8.47it/s]"
     ]
    },
    {
     "name": "stdout",
     "output_type": "stream",
     "text": [
      "\u001b[32m[1001 23:52:14 @base.py:285]\u001b[0m Epoch 97 (global_step 194000) finished, time:3 minutes 56 seconds.\n",
      "\u001b[32m[1001 23:52:14 @saver.py:79]\u001b[0m Model saved to ./output_TGAN/output/model/model-194000.\n",
      "\u001b[32m[1001 23:52:14 @monitor.py:467]\u001b[0m GAN_loss/discrim/accuracy_fake: 0.96\n",
      "\u001b[32m[1001 23:52:14 @monitor.py:467]\u001b[0m GAN_loss/discrim/accuracy_real: 0.145\n",
      "\u001b[32m[1001 23:52:14 @monitor.py:467]\u001b[0m GAN_loss/discrim/loss: 0.64864\n",
      "\u001b[32m[1001 23:52:14 @monitor.py:467]\u001b[0m GAN_loss/gen/final-g-loss: 1.0685\n",
      "\u001b[32m[1001 23:52:14 @monitor.py:467]\u001b[0m GAN_loss/gen/klloss: 0.086347\n",
      "\u001b[32m[1001 23:52:14 @monitor.py:467]\u001b[0m GAN_loss/gen/loss: 0.98214\n",
      "\u001b[32m[1001 23:52:14 @monitor.py:467]\u001b[0m QueueInput/queue_size: 50\n",
      "\u001b[32m[1001 23:52:14 @base.py:275]\u001b[0m Start Epoch 98 ...\n"
     ]
    },
    {
     "name": "stderr",
     "output_type": "stream",
     "text": [
      "\n",
      "100%|##########|2000/2000[03:55<00:00, 8.50it/s]"
     ]
    },
    {
     "name": "stdout",
     "output_type": "stream",
     "text": [
      "\u001b[32m[1001 23:56:09 @base.py:285]\u001b[0m Epoch 98 (global_step 196000) finished, time:3 minutes 55 seconds.\n",
      "\u001b[32m[1001 23:56:09 @saver.py:79]\u001b[0m Model saved to ./output_TGAN/output/model/model-196000.\n",
      "\u001b[32m[1001 23:56:09 @monitor.py:467]\u001b[0m GAN_loss/discrim/accuracy_fake: 0.925\n",
      "\u001b[32m[1001 23:56:09 @monitor.py:467]\u001b[0m GAN_loss/discrim/accuracy_real: 0.125\n",
      "\u001b[32m[1001 23:56:09 @monitor.py:467]\u001b[0m GAN_loss/discrim/loss: 0.64144\n",
      "\u001b[32m[1001 23:56:09 @monitor.py:467]\u001b[0m GAN_loss/gen/final-g-loss: 1.0716\n",
      "\u001b[32m[1001 23:56:09 @monitor.py:467]\u001b[0m GAN_loss/gen/klloss: 0.098373\n",
      "\u001b[32m[1001 23:56:09 @monitor.py:467]\u001b[0m GAN_loss/gen/loss: 0.97322\n",
      "\u001b[32m[1001 23:56:09 @monitor.py:467]\u001b[0m QueueInput/queue_size: 50\n",
      "\u001b[32m[1001 23:56:09 @base.py:275]\u001b[0m Start Epoch 99 ...\n"
     ]
    },
    {
     "name": "stderr",
     "output_type": "stream",
     "text": [
      "\n",
      "100%|##########|2000/2000[03:55<00:00, 8.49it/s]"
     ]
    },
    {
     "name": "stdout",
     "output_type": "stream",
     "text": [
      "\u001b[32m[1002 00:00:05 @base.py:285]\u001b[0m Epoch 99 (global_step 198000) finished, time:3 minutes 55 seconds.\n",
      "\u001b[32m[1002 00:00:05 @saver.py:79]\u001b[0m Model saved to ./output_TGAN/output/model/model-198000.\n",
      "\u001b[32m[1002 00:00:05 @monitor.py:467]\u001b[0m GAN_loss/discrim/accuracy_fake: 0.92\n",
      "\u001b[32m[1002 00:00:05 @monitor.py:467]\u001b[0m GAN_loss/discrim/accuracy_real: 0.135\n",
      "\u001b[32m[1002 00:00:05 @monitor.py:467]\u001b[0m GAN_loss/discrim/loss: 0.654\n",
      "\u001b[32m[1002 00:00:05 @monitor.py:467]\u001b[0m GAN_loss/gen/final-g-loss: 1.0706\n",
      "\u001b[32m[1002 00:00:05 @monitor.py:467]\u001b[0m GAN_loss/gen/klloss: 0.096861\n",
      "\u001b[32m[1002 00:00:05 @monitor.py:467]\u001b[0m GAN_loss/gen/loss: 0.97374\n",
      "\u001b[32m[1002 00:00:05 @monitor.py:467]\u001b[0m QueueInput/queue_size: 50\n",
      "\u001b[32m[1002 00:00:05 @base.py:275]\u001b[0m Start Epoch 100 ...\n"
     ]
    },
    {
     "name": "stderr",
     "output_type": "stream",
     "text": [
      "\n",
      "100%|##########|2000/2000[03:55<00:00, 8.49it/s]"
     ]
    },
    {
     "name": "stdout",
     "output_type": "stream",
     "text": [
      "\u001b[32m[1002 00:04:00 @base.py:285]\u001b[0m Epoch 100 (global_step 200000) finished, time:3 minutes 55 seconds.\n",
      "\u001b[32m[1002 00:04:00 @saver.py:79]\u001b[0m Model saved to ./output_TGAN/output/model/model-200000.\n",
      "\u001b[32m[1002 00:04:00 @monitor.py:467]\u001b[0m GAN_loss/discrim/accuracy_fake: 0.91\n",
      "\u001b[32m[1002 00:04:00 @monitor.py:467]\u001b[0m GAN_loss/discrim/accuracy_real: 0.13\n",
      "\u001b[32m[1002 00:04:00 @monitor.py:467]\u001b[0m GAN_loss/discrim/loss: 0.65542\n",
      "\u001b[32m[1002 00:04:00 @monitor.py:467]\u001b[0m GAN_loss/gen/final-g-loss: 1.0982\n",
      "\u001b[32m[1002 00:04:00 @monitor.py:467]\u001b[0m GAN_loss/gen/klloss: 0.12082\n",
      "\u001b[32m[1002 00:04:00 @monitor.py:467]\u001b[0m GAN_loss/gen/loss: 0.97742\n",
      "\u001b[32m[1002 00:04:00 @monitor.py:467]\u001b[0m QueueInput/queue_size: 50\n",
      "\u001b[32m[1002 00:04:00 @base.py:289]\u001b[0m Training has finished!\n",
      "WARNING:tensorflow:From /home/gael/Applications/anaconda/envs/py37/lib/python3.7/site-packages/tensorpack/predict/config.py:101: The name tf.train.ChiefSessionCreator is deprecated. Please use tf.compat.v1.train.ChiefSessionCreator instead.\n",
      "\n"
     ]
    },
    {
     "name": "stderr",
     "output_type": "stream",
     "text": [
      "\n"
     ]
    },
    {
     "name": "stdout",
     "output_type": "stream",
     "text": [
      "\u001b[32m[1002 00:04:01 @input_source.py:178]\u001b[0m EnqueueThread QueueInput/input_queue Exited.\n",
      "WARNING:tensorflow:From /home/gael/Applications/anaconda/envs/py37/lib/python3.7/site-packages/tensorpack/tfutils/collection.py:45: The name tf.get_collection_ref is deprecated. Please use tf.compat.v1.get_collection_ref instead.\n",
      "\n",
      "\u001b[32m[1002 00:04:02 @collection.py:146]\u001b[0m New collections created in tower : tf.GraphKeys.REGULARIZATION_LOSSES\n",
      "\u001b[32m[1002 00:04:02 @collection.py:165]\u001b[0m These collections were modified but restored in : (tf.GraphKeys.SUMMARIES: 0->2)\n",
      "WARNING:tensorflow:From /home/gael/Applications/anaconda/envs/py37/lib/python3.7/site-packages/tensorpack/tfutils/sessinit.py:120: The name tf.train.NewCheckpointReader is deprecated. Please use tf.compat.v1.train.NewCheckpointReader instead.\n",
      "\n",
      "WARNING:tensorflow:From /home/gael/Applications/anaconda/envs/py37/lib/python3.7/site-packages/tensorpack/tfutils/sessinit.py:127: The name tf.global_variables is deprecated. Please use tf.compat.v1.global_variables instead.\n",
      "\n",
      "\u001b[32m[1002 00:04:02 @sessinit.py:87]\u001b[0m \u001b[5m\u001b[31mWRN\u001b[0m The following variables are in the checkpoint, but not found in the graph: global_step, optimize/beta1_power, optimize/beta2_power\n",
      "INFO:tensorflow:Graph was finalized.\n",
      "INFO:tensorflow:Running local_init_op.\n",
      "INFO:tensorflow:Done running local_init_op.\n",
      "\u001b[32m[1002 00:04:03 @sessinit.py:114]\u001b[0m Restoring checkpoint from ./output_TGAN/output/model/model-200000 ...\n",
      "INFO:tensorflow:Restoring parameters from ./output_TGAN/output/model/model-200000\n"
     ]
    }
   ],
   "source": [
    "tgan.fit(df)"
   ]
  },
  {
   "cell_type": "code",
   "execution_count": 12,
   "metadata": {},
   "outputs": [
    {
     "name": "stdout",
     "output_type": "stream",
     "text": [
      "\u001b[32m[1002 00:04:03 @model.py:792]\u001b[0m The indicated path already exists. Use `force=True` to overwrite.\n"
     ]
    }
   ],
   "source": [
    "tgan.save(output_folder)"
   ]
  }
 ],
 "metadata": {
  "kernelspec": {
   "display_name": "Python [conda env:py37]",
   "language": "python",
   "name": "conda-env-py37-py"
  },
  "language_info": {
   "codemirror_mode": {
    "name": "ipython",
    "version": 3
   },
   "file_extension": ".py",
   "mimetype": "text/x-python",
   "name": "python",
   "nbconvert_exporter": "python",
   "pygments_lexer": "ipython3",
   "version": "3.7.9"
  }
 },
 "nbformat": 4,
 "nbformat_minor": 2
}
