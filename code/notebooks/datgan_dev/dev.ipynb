{
 "cells": [
  {
   "cell_type": "code",
   "execution_count": 1,
   "metadata": {},
   "outputs": [],
   "source": [
    "from platform import python_version\n",
    "\n",
    "print(python_version())"
   ]
  },
  {
   "cell_type": "code",
   "execution_count": 2,
   "metadata": {},
   "outputs": [],
   "source": [
    "import os\n",
    "os.chdir('../..')"
   ]
  },
  {
   "cell_type": "code",
   "execution_count": 3,
   "metadata": {},
   "outputs": [
    {
     "name": "stdout",
     "output_type": "stream",
     "text": [
      "WARNING:tensorflow:From D:\\Users\\glede\\anaconda3\\envs\\py37\\lib\\site-packages\\tensorpack\\callbacks\\hooks.py:17: The name tf.train.SessionRunHook is deprecated. Please use tf.estimator.SessionRunHook instead.\n",
      "\n",
      "WARNING:tensorflow:From D:\\Users\\glede\\anaconda3\\envs\\py37\\lib\\site-packages\\tensorpack\\tfutils\\optimizer.py:18: The name tf.train.Optimizer is deprecated. Please use tf.compat.v1.train.Optimizer instead.\n",
      "\n",
      "WARNING:tensorflow:From D:\\Users\\glede\\anaconda3\\envs\\py37\\lib\\site-packages\\tensorpack\\tfutils\\sesscreate.py:20: The name tf.train.SessionCreator is deprecated. Please use tf.compat.v1.train.SessionCreator instead.\n",
      "\n"
     ]
    }
   ],
   "source": [
    "import numpy as np\n",
    "import pandas as pd\n",
    "\n",
    "import tensorflow as tf\n",
    "\n",
    "import matplotlib.pyplot as plt\n",
    "\n",
    "from modules.datgan_avg.model import DATGAN\n",
    "import networkx as nx\n",
    "\n",
    "# For the Python notebook\n",
    "%matplotlib inline\n",
    "%reload_ext autoreload\n",
    "%autoreload 2"
   ]
  },
  {
   "cell_type": "code",
   "execution_count": 4,
   "metadata": {},
   "outputs": [
    {
     "data": {
      "text/plain": [
       "'1.15.5'"
      ]
     },
     "execution_count": 4,
     "metadata": {},
     "output_type": "execute_result"
    }
   ],
   "source": [
    "tf.__version__"
   ]
  },
  {
   "cell_type": "code",
   "execution_count": 5,
   "metadata": {},
   "outputs": [],
   "source": [
    "df = pd.read_csv('../data/Chicago/full.csv')"
   ]
  },
  {
   "cell_type": "code",
   "execution_count": 6,
   "metadata": {},
   "outputs": [
    {
     "data": {
      "text/html": [
       "<div>\n",
       "<style scoped>\n",
       "    .dataframe tbody tr th:only-of-type {\n",
       "        vertical-align: middle;\n",
       "    }\n",
       "\n",
       "    .dataframe tbody tr th {\n",
       "        vertical-align: top;\n",
       "    }\n",
       "\n",
       "    .dataframe thead th {\n",
       "        text-align: right;\n",
       "    }\n",
       "</style>\n",
       "<table border=\"1\" class=\"dataframe\">\n",
       "  <thead>\n",
       "    <tr style=\"text-align: right;\">\n",
       "      <th></th>\n",
       "      <th>choice</th>\n",
       "      <th>travel_dow</th>\n",
       "      <th>trip_purpose</th>\n",
       "      <th>distance</th>\n",
       "      <th>hh_vehicles</th>\n",
       "      <th>hh_size</th>\n",
       "      <th>hh_bikes</th>\n",
       "      <th>hh_descr</th>\n",
       "      <th>hh_income</th>\n",
       "      <th>gender</th>\n",
       "      <th>age</th>\n",
       "      <th>license</th>\n",
       "      <th>education_level</th>\n",
       "      <th>work_status</th>\n",
       "      <th>departure_time</th>\n",
       "    </tr>\n",
       "  </thead>\n",
       "  <tbody>\n",
       "    <tr>\n",
       "      <th>0</th>\n",
       "      <td>drive</td>\n",
       "      <td>7</td>\n",
       "      <td>HOME_OTHER</td>\n",
       "      <td>23.42579</td>\n",
       "      <td>2</td>\n",
       "      <td>2</td>\n",
       "      <td>0</td>\n",
       "      <td>2</td>\n",
       "      <td>6</td>\n",
       "      <td>1</td>\n",
       "      <td>66</td>\n",
       "      <td>1.0</td>\n",
       "      <td>6</td>\n",
       "      <td>FTE</td>\n",
       "      <td>9.333333</td>\n",
       "    </tr>\n",
       "    <tr>\n",
       "      <th>1</th>\n",
       "      <td>drive</td>\n",
       "      <td>7</td>\n",
       "      <td>OTHER</td>\n",
       "      <td>1.71259</td>\n",
       "      <td>2</td>\n",
       "      <td>2</td>\n",
       "      <td>0</td>\n",
       "      <td>2</td>\n",
       "      <td>6</td>\n",
       "      <td>1</td>\n",
       "      <td>66</td>\n",
       "      <td>1.0</td>\n",
       "      <td>6</td>\n",
       "      <td>FTE</td>\n",
       "      <td>12.083333</td>\n",
       "    </tr>\n",
       "    <tr>\n",
       "      <th>2</th>\n",
       "      <td>drive</td>\n",
       "      <td>7</td>\n",
       "      <td>HOME_OTHER</td>\n",
       "      <td>21.77887</td>\n",
       "      <td>2</td>\n",
       "      <td>2</td>\n",
       "      <td>0</td>\n",
       "      <td>2</td>\n",
       "      <td>6</td>\n",
       "      <td>1</td>\n",
       "      <td>66</td>\n",
       "      <td>1.0</td>\n",
       "      <td>6</td>\n",
       "      <td>FTE</td>\n",
       "      <td>15.500000</td>\n",
       "    </tr>\n",
       "    <tr>\n",
       "      <th>3</th>\n",
       "      <td>drive</td>\n",
       "      <td>7</td>\n",
       "      <td>SHOPPING</td>\n",
       "      <td>2.02603</td>\n",
       "      <td>2</td>\n",
       "      <td>2</td>\n",
       "      <td>0</td>\n",
       "      <td>2</td>\n",
       "      <td>6</td>\n",
       "      <td>1</td>\n",
       "      <td>66</td>\n",
       "      <td>1.0</td>\n",
       "      <td>6</td>\n",
       "      <td>FTE</td>\n",
       "      <td>17.500000</td>\n",
       "    </tr>\n",
       "    <tr>\n",
       "      <th>4</th>\n",
       "      <td>drive</td>\n",
       "      <td>7</td>\n",
       "      <td>SHOPPING</td>\n",
       "      <td>0.87691</td>\n",
       "      <td>2</td>\n",
       "      <td>2</td>\n",
       "      <td>0</td>\n",
       "      <td>2</td>\n",
       "      <td>6</td>\n",
       "      <td>1</td>\n",
       "      <td>66</td>\n",
       "      <td>1.0</td>\n",
       "      <td>6</td>\n",
       "      <td>FTE</td>\n",
       "      <td>18.250000</td>\n",
       "    </tr>\n",
       "  </tbody>\n",
       "</table>\n",
       "</div>"
      ],
      "text/plain": [
       "  choice  travel_dow trip_purpose  distance  hh_vehicles  hh_size  hh_bikes  \\\n",
       "0  drive           7   HOME_OTHER  23.42579            2        2         0   \n",
       "1  drive           7        OTHER   1.71259            2        2         0   \n",
       "2  drive           7   HOME_OTHER  21.77887            2        2         0   \n",
       "3  drive           7     SHOPPING   2.02603            2        2         0   \n",
       "4  drive           7     SHOPPING   0.87691            2        2         0   \n",
       "\n",
       "   hh_descr  hh_income  gender  age  license  education_level work_status  \\\n",
       "0         2          6       1   66      1.0                6         FTE   \n",
       "1         2          6       1   66      1.0                6         FTE   \n",
       "2         2          6       1   66      1.0                6         FTE   \n",
       "3         2          6       1   66      1.0                6         FTE   \n",
       "4         2          6       1   66      1.0                6         FTE   \n",
       "\n",
       "   departure_time  \n",
       "0        9.333333  \n",
       "1       12.083333  \n",
       "2       15.500000  \n",
       "3       17.500000  \n",
       "4       18.250000  "
      ]
     },
     "execution_count": 6,
     "metadata": {},
     "output_type": "execute_result"
    }
   ],
   "source": [
    "df.head()"
   ]
  },
  {
   "cell_type": "code",
   "execution_count": 7,
   "metadata": {},
   "outputs": [],
   "source": [
    "# personalised graph\n",
    "graph = nx.DiGraph()\n",
    "graph.add_edges_from([(\"age\", \"license\"),\n",
    "                      (\"age\", \"education_level\"),\n",
    "                      (\"gender\", \"work_status\"),\n",
    "                      (\"education_level\", \"work_status\"),\n",
    "                      (\"work_status\", \"hh_income\"),\n",
    "                      (\"education_level\", \"hh_income\"),\n",
    "                      (\"hh_income\", \"hh_descr\"),\n",
    "                      (\"hh_income\", \"hh_size\"),\n",
    "                      (\"hh_size\", \"hh_vehicles\"),\n",
    "                      (\"hh_size\", \"hh_bikes\"),\n",
    "                      (\"work_status\", \"trip_purpose\"),\n",
    "                      (\"trip_purpose\", \"departure_time\"),\n",
    "                      (\"trip_purpose\", \"distance\"),\n",
    "                      (\"distance\", \"choice\"),\n",
    "                      (\"departure_time\", \"choice\"),\n",
    "                      (\"hh_vehicles\", \"choice\"),\n",
    "                      (\"hh_bikes\", \"choice\"),\n",
    "                      # Non necessary links\n",
    "                      (\"education_level\", \"hh_size\"),\n",
    "                      (\"work_status\", \"hh_descr\"),\n",
    "                      (\"work_status\", \"hh_size\"),\n",
    "                      (\"hh_income\", \"hh_bikes\"),\n",
    "                      (\"hh_income\", \"hh_vehicles\"),\n",
    "                      (\"trip_purpose\", \"choice\")])\n",
    "graph.add_node(\"travel_dow\")"
   ]
  },
  {
   "cell_type": "code",
   "execution_count": 8,
   "metadata": {},
   "outputs": [
    {
     "data": {
      "text/plain": [
       "NodeView(('age', 'license', 'education_level', 'gender', 'work_status', 'hh_income', 'hh_descr', 'hh_size', 'hh_vehicles', 'hh_bikes', 'trip_purpose', 'departure_time', 'distance', 'choice', 'travel_dow'))"
      ]
     },
     "execution_count": 8,
     "metadata": {},
     "output_type": "execute_result"
    }
   ],
   "source": [
    "graph.nodes"
   ]
  },
  {
   "cell_type": "code",
   "execution_count": null,
   "metadata": {},
   "outputs": [],
   "source": [
    "# Linear graph following dataset\n",
    "graph = nx.columnsraph()\n",
    "tmp = []\n",
    "cols = df.columns\n",
    "for i in range(len(cols)-1):\n",
    "    tmp.append((cols[i],cols[i+1]))\n",
    "graph.add_edges_from(tmp)"
   ]
  },
  {
   "cell_type": "code",
   "execution_count": null,
   "metadata": {},
   "outputs": [],
   "source": [
    "graph.nodes"
   ]
  },
  {
   "cell_type": "code",
   "execution_count": 9,
   "metadata": {},
   "outputs": [],
   "source": [
    "continuous_columns = [\"distance\", \"age\", \"departure_time\"]"
   ]
  },
  {
   "cell_type": "code",
   "execution_count": 10,
   "metadata": {},
   "outputs": [],
   "source": [
    "output_folder = '../output/DATGAN_AVG/'"
   ]
  },
  {
   "cell_type": "code",
   "execution_count": 11,
   "metadata": {},
   "outputs": [],
   "source": [
    "datgan = DATGAN(continuous_columns, max_epoch=100, steps_per_epoch=2000, batch_size=200, output=output_folder, gpu=0)"
   ]
  },
  {
   "cell_type": "code",
   "execution_count": 12,
   "metadata": {},
   "outputs": [
    {
     "data": {
      "text/plain": [
       "Index(['choice', 'travel_dow', 'trip_purpose', 'distance', 'hh_vehicles',\n",
       "       'hh_size', 'hh_bikes', 'hh_descr', 'hh_income', 'gender', 'age',\n",
       "       'license', 'education_level', 'work_status', 'departure_time'],\n",
       "      dtype='object')"
      ]
     },
     "execution_count": 12,
     "metadata": {},
     "output_type": "execute_result"
    }
   ],
   "source": [
    "df.columns"
   ]
  },
  {
   "cell_type": "code",
   "execution_count": 13,
   "metadata": {
    "scrolled": true
   },
   "outputs": [
    {
     "name": "stdout",
     "output_type": "stream",
     "text": [
      "WARNING:tensorflow:From D:\\Users\\glede\\anaconda3\\envs\\py37\\lib\\site-packages\\tensorpack\\graph_builder\\model_desc.py:29: The name tf.get_default_graph is deprecated. Please use tf.compat.v1.get_default_graph instead.\n",
      "\n",
      "WARNING:tensorflow:From D:\\Users\\glede\\anaconda3\\envs\\py37\\lib\\site-packages\\tensorpack\\graph_builder\\model_desc.py:39: The name tf.placeholder is deprecated. Please use tf.compat.v1.placeholder instead.\n",
      "\n",
      "WARNING:tensorflow:From D:\\Users\\glede\\anaconda3\\envs\\py37\\lib\\site-packages\\tensorpack\\input_source\\input_source.py:219: The name tf.FIFOQueue is deprecated. Please use tf.queue.FIFOQueue instead.\n",
      "\n",
      "\u001b[32m[0216 16:24:41 @input_source.py:222]\u001b[0m Setting up the queue 'QueueInput/input_queue' for CPU prefetching ...\n",
      "WARNING:tensorflow:From D:\\Users\\glede\\anaconda3\\envs\\py37\\lib\\site-packages\\tensorpack\\tfutils\\summary.py:237: The name tf.get_variable_scope is deprecated. Please use tf.compat.v1.get_variable_scope instead.\n",
      "\n",
      "WARNING:tensorflow:From D:\\Users\\glede\\anaconda3\\envs\\py37\\lib\\site-packages\\tensorpack\\tfutils\\summary.py:27: The name tf.variable_scope is deprecated. Please use tf.compat.v1.variable_scope instead.\n",
      "\n",
      "WARNING:tensorflow:From D:\\Users\\glede\\anaconda3\\envs\\py37\\lib\\site-packages\\tensorpack\\tfutils\\summary.py:254: The name tf.get_variable is deprecated. Please use tf.compat.v1.get_variable instead.\n",
      "\n",
      "WARNING:tensorflow:From D:\\Users\\glede\\anaconda3\\envs\\py37\\lib\\site-packages\\tensorpack\\tfutils\\summary.py:264: The name tf.summary.scalar is deprecated. Please use tf.compat.v1.summary.scalar instead.\n",
      "\n",
      "WARNING:tensorflow:From D:\\Users\\glede\\anaconda3\\envs\\py37\\lib\\site-packages\\tensorpack\\tfutils\\collection.py:105: The name tf.GraphKeys is deprecated. Please use tf.compat.v1.GraphKeys instead.\n",
      "\n",
      "WARNING:tensorflow:From D:\\Users\\glede\\anaconda3\\envs\\py37\\lib\\site-packages\\tensorpack\\tfutils\\collection.py:33: The name tf.get_collection is deprecated. Please use tf.compat.v1.get_collection instead.\n",
      "\n",
      "WARNING:tensorflow:From C:\\Users\\glede\\Documents\\EPFL\\PhD\\SynthPop\\code\\modules\\datgan_avg\\model.py:619: The name tf.random_normal is deprecated. Please use tf.random.normal instead.\n",
      "\n",
      "WARNING:tensorflow:From C:\\Users\\glede\\Documents\\EPFL\\PhD\\SynthPop\\code\\modules\\datgan_avg\\model.py:622: The name tf.placeholder_with_default is deprecated. Please use tf.compat.v1.placeholder_with_default instead.\n",
      "\n",
      "WARNING:tensorflow:From C:\\Users\\glede\\Documents\\EPFL\\PhD\\SynthPop\\code\\modules\\datgan_avg\\model.py:283: LSTMCell.__init__ (from tensorflow.python.ops.rnn_cell_impl) is deprecated and will be removed in a future version.\n",
      "Instructions for updating:\n",
      "This class is equivalent as tf.keras.layers.LSTMCell, and will be replaced by that in Tensorflow 2.0.\n",
      "\u001b[91m-> Creating cell for age (in-edges: 0)\n",
      "WARNING:tensorflow:From D:\\Users\\glede\\anaconda3\\envs\\py37\\lib\\site-packages\\tensorflow_core\\python\\ops\\rnn_cell_impl.py:958: Layer.add_variable (from tensorflow.python.keras.engine.base_layer) is deprecated and will be removed in a future version.\n",
      "Instructions for updating:\n",
      "Please use `layer.add_weight` method instead.\n",
      "WARNING:tensorflow:From D:\\Users\\glede\\anaconda3\\envs\\py37\\lib\\site-packages\\tensorflow_core\\python\\ops\\rnn_cell_impl.py:962: calling Zeros.__init__ (from tensorflow.python.ops.init_ops) with dtype is deprecated and will be removed in a future version.\n",
      "Instructions for updating:\n",
      "Call initializer instance with the dtype argument instead of passing it to the constructor\n",
      "\u001b[32m[0216 16:24:41 @registry.py:126]\u001b[0m gen/LSTM/00/FC input: [200, 100]\n",
      "WARNING:tensorflow:From D:\\Users\\glede\\anaconda3\\envs\\py37\\lib\\site-packages\\tensorpack\\models\\fc.py:57: The name tf.layers.Dense is deprecated. Please use tf.compat.v1.layers.Dense instead.\n",
      "\n",
      "WARNING:tensorflow:From D:\\Users\\glede\\anaconda3\\envs\\py37\\lib\\site-packages\\tensorpack\\models\\fc.py:67: Layer.apply (from tensorflow.python.keras.engine.base_layer) is deprecated and will be removed in a future version.\n",
      "Instructions for updating:\n",
      "Please use `layer.__call__` method instead.\n",
      "\u001b[32m[0216 16:24:41 @registry.py:134]\u001b[0m gen/LSTM/00/FC output: [200, 100]\n",
      "\u001b[32m[0216 16:24:41 @registry.py:126]\u001b[0m gen/LSTM/00/FC2 input: [200, 100]\n",
      "\u001b[32m[0216 16:24:41 @registry.py:134]\u001b[0m gen/LSTM/00/FC2 output: [200, 1]\n",
      "\u001b[32m[0216 16:24:41 @registry.py:126]\u001b[0m gen/LSTM/01/FC input: [200, 100]\n",
      "\u001b[32m[0216 16:24:41 @registry.py:134]\u001b[0m gen/LSTM/01/FC output: [200, 100]\n",
      "\u001b[32m[0216 16:24:41 @registry.py:126]\u001b[0m gen/LSTM/01/FC2 input: [200, 100]\n",
      "\u001b[32m[0216 16:24:41 @registry.py:134]\u001b[0m gen/LSTM/01/FC2 output: [200, 5]\n",
      "\u001b[32m[0216 16:24:41 @registry.py:126]\u001b[0m gen/LSTM/01/FC3 input: [200, 5]\n",
      "\u001b[32m[0216 16:24:41 @registry.py:134]\u001b[0m gen/LSTM/01/FC3 output: [200, 100]\n",
      "\u001b[91m-> Creating cell for gender (in-edges: 0)\n",
      "\u001b[32m[0216 16:24:41 @registry.py:126]\u001b[0m gen/LSTM/02/FC input: [200, 100]\n",
      "\u001b[32m[0216 16:24:41 @registry.py:134]\u001b[0m gen/LSTM/02/FC output: [200, 100]\n",
      "\u001b[32m[0216 16:24:41 @registry.py:126]\u001b[0m gen/LSTM/02/FC2 input: [200, 100]\n",
      "\u001b[32m[0216 16:24:41 @registry.py:134]\u001b[0m gen/LSTM/02/FC2 output: [200, 2]\n",
      "\u001b[32m[0216 16:24:41 @registry.py:126]\u001b[0m gen/LSTM/02/FC3 input: [200, 2]\n",
      "\u001b[32m[0216 16:24:41 @registry.py:134]\u001b[0m gen/LSTM/02/FC3 output: [200, 100]\n",
      "\u001b[91m-> Creating cell for travel_dow (in-edges: 0)\n",
      "\u001b[32m[0216 16:24:41 @registry.py:126]\u001b[0m gen/LSTM/03/FC input: [200, 100]\n",
      "\u001b[32m[0216 16:24:41 @registry.py:134]\u001b[0m gen/LSTM/03/FC output: [200, 100]\n",
      "\u001b[32m[0216 16:24:41 @registry.py:126]\u001b[0m gen/LSTM/03/FC2 input: [200, 100]\n",
      "\u001b[32m[0216 16:24:41 @registry.py:134]\u001b[0m gen/LSTM/03/FC2 output: [200, 7]\n",
      "\u001b[32m[0216 16:24:41 @registry.py:126]\u001b[0m gen/LSTM/03/FC3 input: [200, 7]\n",
      "\u001b[32m[0216 16:24:41 @registry.py:134]\u001b[0m gen/LSTM/03/FC3 output: [200, 100]\n",
      "\u001b[91m-> Creating cell for license (in-edges: 1)\n",
      "\u001b[32m[0216 16:24:41 @registry.py:126]\u001b[0m gen/LSTM/04/FC input: [200, 100]\n",
      "\u001b[32m[0216 16:24:41 @registry.py:134]\u001b[0m gen/LSTM/04/FC output: [200, 100]\n",
      "\u001b[32m[0216 16:24:41 @registry.py:126]\u001b[0m gen/LSTM/04/FC2 input: [200, 100]\n",
      "\u001b[32m[0216 16:24:41 @registry.py:134]\u001b[0m gen/LSTM/04/FC2 output: [200, 2]\n",
      "\u001b[32m[0216 16:24:41 @registry.py:126]\u001b[0m gen/LSTM/04/FC3 input: [200, 2]\n",
      "\u001b[32m[0216 16:24:41 @registry.py:134]\u001b[0m gen/LSTM/04/FC3 output: [200, 100]\n",
      "\u001b[91m-> Creating cell for education_level (in-edges: 1)\n",
      "\u001b[32m[0216 16:24:41 @registry.py:126]\u001b[0m gen/LSTM/05/FC input: [200, 100]\n",
      "\u001b[32m[0216 16:24:41 @registry.py:134]\u001b[0m gen/LSTM/05/FC output: [200, 100]\n",
      "\u001b[32m[0216 16:24:41 @registry.py:126]\u001b[0m gen/LSTM/05/FC2 input: [200, 100]\n",
      "\u001b[32m[0216 16:24:41 @registry.py:134]\u001b[0m gen/LSTM/05/FC2 output: [200, 6]\n",
      "\u001b[32m[0216 16:24:41 @registry.py:126]\u001b[0m gen/LSTM/05/FC3 input: [200, 6]\n",
      "\u001b[32m[0216 16:24:41 @registry.py:134]\u001b[0m gen/LSTM/05/FC3 output: [200, 100]\n",
      "\u001b[91m-> Creating cell for work_status (in-edges: 2)\n",
      "\u001b[32m[0216 16:24:41 @registry.py:126]\u001b[0m gen/LSTM/06/FC input: [200, 100]\n",
      "\u001b[32m[0216 16:24:41 @registry.py:134]\u001b[0m gen/LSTM/06/FC output: [200, 100]\n",
      "\u001b[32m[0216 16:24:41 @registry.py:126]\u001b[0m gen/LSTM/06/FC2 input: [200, 100]\n",
      "\u001b[32m[0216 16:24:41 @registry.py:134]\u001b[0m gen/LSTM/06/FC2 output: [200, 8]\n",
      "\u001b[32m[0216 16:24:41 @registry.py:126]\u001b[0m gen/LSTM/06/FC3 input: [200, 8]\n",
      "\u001b[32m[0216 16:24:41 @registry.py:134]\u001b[0m gen/LSTM/06/FC3 output: [200, 100]\n",
      "\u001b[32m[0216 16:24:41 @registry.py:126]\u001b[0m gen/LSTM/07/FC input: [200, 100]\n",
      "\u001b[32m[0216 16:24:41 @registry.py:134]\u001b[0m gen/LSTM/07/FC output: [200, 100]\n",
      "\u001b[32m[0216 16:24:41 @registry.py:126]\u001b[0m gen/LSTM/07/FC2 input: [200, 100]\n",
      "\u001b[32m[0216 16:24:41 @registry.py:134]\u001b[0m gen/LSTM/07/FC2 output: [200, 8]\n",
      "\u001b[32m[0216 16:24:41 @registry.py:126]\u001b[0m gen/LSTM/07/FC3 input: [200, 8]\n",
      "\u001b[32m[0216 16:24:42 @registry.py:134]\u001b[0m gen/LSTM/07/FC3 output: [200, 100]\n",
      "WARNING:tensorflow:From C:\\Users\\glede\\Documents\\EPFL\\PhD\\SynthPop\\code\\modules\\datgan_avg\\model.py:414: The name tf.nn.rnn_cell.LSTMStateTuple is deprecated. Please use tf.compat.v1.nn.rnn_cell.LSTMStateTuple instead.\n",
      "\n",
      "\u001b[91m-> Creating cell for hh_income (in-edges: 2)\n",
      "\u001b[32m[0216 16:24:42 @registry.py:126]\u001b[0m gen/LSTM/08/FC input: [200, 100]\n",
      "\u001b[32m[0216 16:24:42 @registry.py:134]\u001b[0m gen/LSTM/08/FC output: [200, 100]\n",
      "\u001b[32m[0216 16:24:42 @registry.py:126]\u001b[0m gen/LSTM/08/FC2 input: [200, 100]\n",
      "\u001b[32m[0216 16:24:42 @registry.py:134]\u001b[0m gen/LSTM/08/FC2 output: [200, 7]\n"
     ]
    },
    {
     "name": "stdout",
     "output_type": "stream",
     "text": [
      "\u001b[32m[0216 16:24:42 @registry.py:126]\u001b[0m gen/LSTM/08/FC3 input: [200, 7]\n",
      "\u001b[32m[0216 16:24:42 @registry.py:134]\u001b[0m gen/LSTM/08/FC3 output: [200, 100]\n",
      "\u001b[32m[0216 16:24:42 @registry.py:126]\u001b[0m gen/LSTM/09/FC input: [200, 100]\n",
      "\u001b[32m[0216 16:24:42 @registry.py:134]\u001b[0m gen/LSTM/09/FC output: [200, 100]\n",
      "\u001b[32m[0216 16:24:42 @registry.py:126]\u001b[0m gen/LSTM/09/FC2 input: [200, 100]\n",
      "\u001b[32m[0216 16:24:42 @registry.py:134]\u001b[0m gen/LSTM/09/FC2 output: [200, 7]\n",
      "\u001b[32m[0216 16:24:42 @registry.py:126]\u001b[0m gen/LSTM/09/FC3 input: [200, 7]\n",
      "\u001b[32m[0216 16:24:42 @registry.py:134]\u001b[0m gen/LSTM/09/FC3 output: [200, 100]\n",
      "\u001b[91m-> Creating cell for trip_purpose (in-edges: 1)\n",
      "\u001b[32m[0216 16:24:42 @registry.py:126]\u001b[0m gen/LSTM/10/FC input: [200, 100]\n",
      "\u001b[32m[0216 16:24:42 @registry.py:134]\u001b[0m gen/LSTM/10/FC output: [200, 100]\n",
      "\u001b[32m[0216 16:24:42 @registry.py:126]\u001b[0m gen/LSTM/10/FC2 input: [200, 100]\n",
      "\u001b[32m[0216 16:24:42 @registry.py:134]\u001b[0m gen/LSTM/10/FC2 output: [200, 7]\n",
      "\u001b[32m[0216 16:24:42 @registry.py:126]\u001b[0m gen/LSTM/10/FC3 input: [200, 7]\n",
      "\u001b[32m[0216 16:24:42 @registry.py:134]\u001b[0m gen/LSTM/10/FC3 output: [200, 100]\n",
      "\u001b[91m-> Creating cell for hh_descr (in-edges: 2)\n",
      "\u001b[32m[0216 16:24:42 @registry.py:126]\u001b[0m gen/LSTM/11/FC input: [200, 100]\n",
      "\u001b[32m[0216 16:24:42 @registry.py:134]\u001b[0m gen/LSTM/11/FC output: [200, 100]\n",
      "\u001b[32m[0216 16:24:42 @registry.py:126]\u001b[0m gen/LSTM/11/FC2 input: [200, 100]\n",
      "\u001b[32m[0216 16:24:42 @registry.py:134]\u001b[0m gen/LSTM/11/FC2 output: [200, 3]\n",
      "\u001b[32m[0216 16:24:42 @registry.py:126]\u001b[0m gen/LSTM/11/FC3 input: [200, 3]\n",
      "\u001b[32m[0216 16:24:42 @registry.py:134]\u001b[0m gen/LSTM/11/FC3 output: [200, 100]\n",
      "\u001b[32m[0216 16:24:42 @registry.py:126]\u001b[0m gen/LSTM/12/FC input: [200, 100]\n",
      "\u001b[32m[0216 16:24:42 @registry.py:134]\u001b[0m gen/LSTM/12/FC output: [200, 100]\n",
      "\u001b[32m[0216 16:24:42 @registry.py:126]\u001b[0m gen/LSTM/12/FC2 input: [200, 100]\n",
      "\u001b[32m[0216 16:24:42 @registry.py:134]\u001b[0m gen/LSTM/12/FC2 output: [200, 3]\n",
      "\u001b[32m[0216 16:24:42 @registry.py:126]\u001b[0m gen/LSTM/12/FC3 input: [200, 3]\n",
      "\u001b[32m[0216 16:24:42 @registry.py:134]\u001b[0m gen/LSTM/12/FC3 output: [200, 100]\n",
      "\u001b[91m-> Creating cell for hh_size (in-edges: 3)\n",
      "\u001b[32m[0216 16:24:42 @registry.py:126]\u001b[0m gen/LSTM/13/FC input: [200, 100]\n",
      "\u001b[32m[0216 16:24:42 @registry.py:134]\u001b[0m gen/LSTM/13/FC output: [200, 100]\n",
      "\u001b[32m[0216 16:24:42 @registry.py:126]\u001b[0m gen/LSTM/13/FC2 input: [200, 100]\n",
      "\u001b[32m[0216 16:24:42 @registry.py:134]\u001b[0m gen/LSTM/13/FC2 output: [200, 8]\n",
      "\u001b[32m[0216 16:24:42 @registry.py:126]\u001b[0m gen/LSTM/13/FC3 input: [200, 8]\n",
      "\u001b[32m[0216 16:24:42 @registry.py:134]\u001b[0m gen/LSTM/13/FC3 output: [200, 100]\n",
      "\u001b[32m[0216 16:24:42 @registry.py:126]\u001b[0m gen/LSTM/14/FC input: [200, 100]\n",
      "\u001b[32m[0216 16:24:42 @registry.py:134]\u001b[0m gen/LSTM/14/FC output: [200, 100]\n",
      "\u001b[32m[0216 16:24:42 @registry.py:126]\u001b[0m gen/LSTM/14/FC2 input: [200, 100]\n",
      "\u001b[32m[0216 16:24:42 @registry.py:134]\u001b[0m gen/LSTM/14/FC2 output: [200, 8]\n",
      "\u001b[32m[0216 16:24:42 @registry.py:126]\u001b[0m gen/LSTM/14/FC3 input: [200, 8]\n",
      "\u001b[32m[0216 16:24:42 @registry.py:134]\u001b[0m gen/LSTM/14/FC3 output: [200, 100]\n",
      "\u001b[32m[0216 16:24:42 @registry.py:126]\u001b[0m gen/LSTM/15/FC input: [200, 100]\n",
      "\u001b[32m[0216 16:24:42 @registry.py:134]\u001b[0m gen/LSTM/15/FC output: [200, 100]\n",
      "\u001b[32m[0216 16:24:42 @registry.py:126]\u001b[0m gen/LSTM/15/FC2 input: [200, 100]\n",
      "\u001b[32m[0216 16:24:42 @registry.py:134]\u001b[0m gen/LSTM/15/FC2 output: [200, 8]\n",
      "\u001b[32m[0216 16:24:42 @registry.py:126]\u001b[0m gen/LSTM/15/FC3 input: [200, 8]\n",
      "\u001b[32m[0216 16:24:42 @registry.py:134]\u001b[0m gen/LSTM/15/FC3 output: [200, 100]\n",
      "\u001b[91m-> Creating cell for departure_time (in-edges: 1)\n",
      "\u001b[32m[0216 16:24:42 @registry.py:126]\u001b[0m gen/LSTM/16/FC input: [200, 100]\n",
      "\u001b[32m[0216 16:24:42 @registry.py:134]\u001b[0m gen/LSTM/16/FC output: [200, 100]\n",
      "\u001b[32m[0216 16:24:42 @registry.py:126]\u001b[0m gen/LSTM/16/FC2 input: [200, 100]\n",
      "\u001b[32m[0216 16:24:42 @registry.py:134]\u001b[0m gen/LSTM/16/FC2 output: [200, 1]\n",
      "\u001b[32m[0216 16:24:42 @registry.py:126]\u001b[0m gen/LSTM/17/FC input: [200, 100]\n",
      "\u001b[32m[0216 16:24:42 @registry.py:134]\u001b[0m gen/LSTM/17/FC output: [200, 100]\n",
      "\u001b[32m[0216 16:24:42 @registry.py:126]\u001b[0m gen/LSTM/17/FC2 input: [200, 100]\n",
      "\u001b[32m[0216 16:24:42 @registry.py:134]\u001b[0m gen/LSTM/17/FC2 output: [200, 5]\n",
      "\u001b[32m[0216 16:24:42 @registry.py:126]\u001b[0m gen/LSTM/17/FC3 input: [200, 5]\n",
      "\u001b[32m[0216 16:24:42 @registry.py:134]\u001b[0m gen/LSTM/17/FC3 output: [200, 100]\n",
      "\u001b[91m-> Creating cell for distance (in-edges: 1)\n",
      "\u001b[32m[0216 16:24:42 @registry.py:126]\u001b[0m gen/LSTM/18/FC input: [200, 100]\n",
      "\u001b[32m[0216 16:24:42 @registry.py:134]\u001b[0m gen/LSTM/18/FC output: [200, 100]\n",
      "\u001b[32m[0216 16:24:42 @registry.py:126]\u001b[0m gen/LSTM/18/FC2 input: [200, 100]\n",
      "\u001b[32m[0216 16:24:42 @registry.py:134]\u001b[0m gen/LSTM/18/FC2 output: [200, 1]\n",
      "\u001b[32m[0216 16:24:42 @registry.py:126]\u001b[0m gen/LSTM/19/FC input: [200, 100]\n",
      "\u001b[32m[0216 16:24:42 @registry.py:134]\u001b[0m gen/LSTM/19/FC output: [200, 100]\n",
      "\u001b[32m[0216 16:24:42 @registry.py:126]\u001b[0m gen/LSTM/19/FC2 input: [200, 100]\n",
      "\u001b[32m[0216 16:24:42 @registry.py:134]\u001b[0m gen/LSTM/19/FC2 output: [200, 5]\n",
      "\u001b[32m[0216 16:24:42 @registry.py:126]\u001b[0m gen/LSTM/19/FC3 input: [200, 5]\n",
      "\u001b[32m[0216 16:24:42 @registry.py:134]\u001b[0m gen/LSTM/19/FC3 output: [200, 100]\n",
      "\u001b[91m-> Creating cell for hh_vehicles (in-edges: 2)\n",
      "\u001b[32m[0216 16:24:42 @registry.py:126]\u001b[0m gen/LSTM/20/FC input: [200, 100]\n",
      "\u001b[32m[0216 16:24:42 @registry.py:134]\u001b[0m gen/LSTM/20/FC output: [200, 100]\n",
      "\u001b[32m[0216 16:24:42 @registry.py:126]\u001b[0m gen/LSTM/20/FC2 input: [200, 100]\n",
      "\u001b[32m[0216 16:24:42 @registry.py:134]\u001b[0m gen/LSTM/20/FC2 output: [200, 9]\n",
      "\u001b[32m[0216 16:24:42 @registry.py:126]\u001b[0m gen/LSTM/20/FC3 input: [200, 9]\n",
      "\u001b[32m[0216 16:24:42 @registry.py:134]\u001b[0m gen/LSTM/20/FC3 output: [200, 100]\n",
      "\u001b[32m[0216 16:24:42 @registry.py:126]\u001b[0m gen/LSTM/21/FC input: [200, 100]\n",
      "\u001b[32m[0216 16:24:42 @registry.py:134]\u001b[0m gen/LSTM/21/FC output: [200, 100]\n",
      "\u001b[32m[0216 16:24:42 @registry.py:126]\u001b[0m gen/LSTM/21/FC2 input: [200, 100]\n",
      "\u001b[32m[0216 16:24:42 @registry.py:134]\u001b[0m gen/LSTM/21/FC2 output: [200, 9]\n",
      "\u001b[32m[0216 16:24:42 @registry.py:126]\u001b[0m gen/LSTM/21/FC3 input: [200, 9]\n",
      "\u001b[32m[0216 16:24:42 @registry.py:134]\u001b[0m gen/LSTM/21/FC3 output: [200, 100]\n",
      "\u001b[91m-> Creating cell for hh_bikes (in-edges: 2)\n",
      "\u001b[32m[0216 16:24:42 @registry.py:126]\u001b[0m gen/LSTM/22/FC input: [200, 100]\n",
      "\u001b[32m[0216 16:24:42 @registry.py:134]\u001b[0m gen/LSTM/22/FC output: [200, 100]\n",
      "\u001b[32m[0216 16:24:42 @registry.py:126]\u001b[0m gen/LSTM/22/FC2 input: [200, 100]\n",
      "\u001b[32m[0216 16:24:42 @registry.py:134]\u001b[0m gen/LSTM/22/FC2 output: [200, 8]\n",
      "\u001b[32m[0216 16:24:42 @registry.py:126]\u001b[0m gen/LSTM/22/FC3 input: [200, 8]\n",
      "\u001b[32m[0216 16:24:42 @registry.py:134]\u001b[0m gen/LSTM/22/FC3 output: [200, 100]\n",
      "\u001b[32m[0216 16:24:42 @registry.py:126]\u001b[0m gen/LSTM/23/FC input: [200, 100]\n",
      "\u001b[32m[0216 16:24:42 @registry.py:134]\u001b[0m gen/LSTM/23/FC output: [200, 100]\n",
      "\u001b[32m[0216 16:24:42 @registry.py:126]\u001b[0m gen/LSTM/23/FC2 input: [200, 100]\n",
      "\u001b[32m[0216 16:24:42 @registry.py:134]\u001b[0m gen/LSTM/23/FC2 output: [200, 8]\n",
      "\u001b[32m[0216 16:24:42 @registry.py:126]\u001b[0m gen/LSTM/23/FC3 input: [200, 8]\n",
      "\u001b[32m[0216 16:24:42 @registry.py:134]\u001b[0m gen/LSTM/23/FC3 output: [200, 100]\n",
      "\u001b[91m-> Creating cell for choice (in-edges: 5)\n",
      "\u001b[32m[0216 16:24:43 @registry.py:126]\u001b[0m gen/LSTM/24/FC input: [200, 100]\n",
      "\u001b[32m[0216 16:24:43 @registry.py:134]\u001b[0m gen/LSTM/24/FC output: [200, 100]\n",
      "\u001b[32m[0216 16:24:43 @registry.py:126]\u001b[0m gen/LSTM/24/FC2 input: [200, 100]\n",
      "\u001b[32m[0216 16:24:43 @registry.py:134]\u001b[0m gen/LSTM/24/FC2 output: [200, 5]\n",
      "\u001b[32m[0216 16:24:43 @registry.py:126]\u001b[0m gen/LSTM/24/FC3 input: [200, 5]\n",
      "\u001b[32m[0216 16:24:43 @registry.py:134]\u001b[0m gen/LSTM/24/FC3 output: [200, 100]\n",
      "\u001b[32m[0216 16:24:43 @registry.py:126]\u001b[0m gen/LSTM/25/FC input: [200, 100]\n",
      "\u001b[32m[0216 16:24:43 @registry.py:134]\u001b[0m gen/LSTM/25/FC output: [200, 100]\n",
      "\u001b[32m[0216 16:24:43 @registry.py:126]\u001b[0m gen/LSTM/25/FC2 input: [200, 100]\n",
      "\u001b[32m[0216 16:24:43 @registry.py:134]\u001b[0m gen/LSTM/25/FC2 output: [200, 5]\n",
      "\u001b[32m[0216 16:24:43 @registry.py:126]\u001b[0m gen/LSTM/25/FC3 input: [200, 5]\n",
      "\u001b[32m[0216 16:24:43 @registry.py:134]\u001b[0m gen/LSTM/25/FC3 output: [200, 100]\n",
      "\u001b[32m[0216 16:24:43 @registry.py:126]\u001b[0m gen/LSTM/26/FC input: [200, 100]\n",
      "\u001b[32m[0216 16:24:43 @registry.py:134]\u001b[0m gen/LSTM/26/FC output: [200, 100]\n",
      "\u001b[32m[0216 16:24:43 @registry.py:126]\u001b[0m gen/LSTM/26/FC2 input: [200, 100]\n",
      "\u001b[32m[0216 16:24:43 @registry.py:134]\u001b[0m gen/LSTM/26/FC2 output: [200, 5]\n"
     ]
    },
    {
     "name": "stdout",
     "output_type": "stream",
     "text": [
      "\u001b[32m[0216 16:24:43 @registry.py:126]\u001b[0m gen/LSTM/26/FC3 input: [200, 5]\n",
      "\u001b[32m[0216 16:24:43 @registry.py:134]\u001b[0m gen/LSTM/26/FC3 output: [200, 100]\n",
      "\u001b[32m[0216 16:24:43 @registry.py:126]\u001b[0m gen/LSTM/27/FC input: [200, 100]\n",
      "\u001b[32m[0216 16:24:43 @registry.py:134]\u001b[0m gen/LSTM/27/FC output: [200, 100]\n",
      "\u001b[32m[0216 16:24:43 @registry.py:126]\u001b[0m gen/LSTM/27/FC2 input: [200, 100]\n",
      "\u001b[32m[0216 16:24:43 @registry.py:134]\u001b[0m gen/LSTM/27/FC2 output: [200, 5]\n",
      "\u001b[32m[0216 16:24:43 @registry.py:126]\u001b[0m gen/LSTM/27/FC3 input: [200, 5]\n",
      "\u001b[32m[0216 16:24:43 @registry.py:134]\u001b[0m gen/LSTM/27/FC3 output: [200, 100]\n",
      "\u001b[32m[0216 16:24:43 @registry.py:126]\u001b[0m gen/LSTM/28/FC input: [200, 100]\n",
      "\u001b[32m[0216 16:24:43 @registry.py:134]\u001b[0m gen/LSTM/28/FC output: [200, 100]\n",
      "\u001b[32m[0216 16:24:43 @registry.py:126]\u001b[0m gen/LSTM/28/FC2 input: [200, 100]\n",
      "\u001b[32m[0216 16:24:43 @registry.py:134]\u001b[0m gen/LSTM/28/FC2 output: [200, 5]\n",
      "\u001b[32m[0216 16:24:43 @registry.py:126]\u001b[0m gen/LSTM/28/FC3 input: [200, 5]\n",
      "\u001b[32m[0216 16:24:43 @registry.py:134]\u001b[0m gen/LSTM/28/FC3 output: [200, 100]\n",
      "WARNING:tensorflow:From C:\\Users\\glede\\Documents\\EPFL\\PhD\\SynthPop\\code\\modules\\datgan_avg\\model.py:666: The name tf.random_uniform is deprecated. Please use tf.random.uniform instead.\n",
      "\n",
      "WARNING:tensorflow:From C:\\Users\\glede\\Documents\\EPFL\\PhD\\SynthPop\\code\\modules\\datgan_avg\\model.py:607: The name tf.log is deprecated. Please use tf.math.log instead.\n",
      "\n",
      "\u001b[32m[0216 16:24:43 @registry.py:126]\u001b[0m discrim/dis_fc0/fc input: [200, 90]\n",
      "\u001b[32m[0216 16:24:43 @registry.py:134]\u001b[0m discrim/dis_fc0/fc output: [200, 100]\n",
      "\u001b[32m[0216 16:24:43 @registry.py:126]\u001b[0m discrim/dis_fc0/fc_diversity input: [200, 100]\n",
      "\u001b[32m[0216 16:24:43 @registry.py:134]\u001b[0m discrim/dis_fc0/fc_diversity output: [200, 100]\n",
      "WARNING:tensorflow:From D:\\Users\\glede\\anaconda3\\envs\\py37\\lib\\site-packages\\tensorpack\\models\\batch_norm.py:204: The name tf.layers.BatchNormalization is deprecated. Please use tf.compat.v1.layers.BatchNormalization instead.\n",
      "\n",
      "WARNING:tensorflow:From D:\\Users\\glede\\anaconda3\\envs\\py37\\lib\\site-packages\\tensorpack\\models\\batch_norm.py:212: The name tf.add_to_collection is deprecated. Please use tf.compat.v1.add_to_collection instead.\n",
      "\n",
      "\u001b[32m[0216 16:24:43 @registry.py:126]\u001b[0m discrim/dis_fc_top input: [200, 110]\n",
      "\u001b[32m[0216 16:24:43 @registry.py:134]\u001b[0m discrim/dis_fc_top output: [200, 1]\n",
      "WARNING:tensorflow:From C:\\Users\\glede\\Documents\\EPFL\\PhD\\SynthPop\\code\\modules\\datgan_avg\\model.py:123: The name tf.summary.histogram is deprecated. Please use tf.compat.v1.summary.histogram instead.\n",
      "\n",
      "WARNING:tensorflow:From D:\\Users\\glede\\anaconda3\\envs\\py37\\lib\\site-packages\\tensorflow_core\\python\\ops\\nn_impl.py:183: where (from tensorflow.python.ops.array_ops) is deprecated and will be removed in a future version.\n",
      "Instructions for updating:\n",
      "Use tf.where in 2.0, which has the same broadcast rule as np.where\n",
      "WARNING:tensorflow:\n",
      "The TensorFlow contrib module will not be included in TensorFlow 2.0.\n",
      "For more information, please see:\n",
      "  * https://github.com/tensorflow/community/blob/master/rfcs/20180907-contrib-sunset.md\n",
      "  * https://github.com/tensorflow/addons\n",
      "  * https://github.com/tensorflow/io (for I/O related ops)\n",
      "If you depend on functionality not listed there, please file an issue.\n",
      "\n",
      "WARNING:tensorflow:From C:\\Users\\glede\\Documents\\EPFL\\PhD\\SynthPop\\code\\modules\\datgan_avg\\model.py:727: The name tf.train.AdamOptimizer is deprecated. Please use tf.compat.v1.train.AdamOptimizer instead.\n",
      "\n",
      "\u001b[32m[0216 16:24:48 @logger.py:90]\u001b[0m Argv: D:\\Users\\glede\\anaconda3\\envs\\py37\\lib\\site-packages\\ipykernel_launcher.py -f C:\\Users\\glede\\AppData\\Roaming\\jupyter\\runtime\\kernel-3acead66-7d05-454c-8228-59877f2f301f.json\n",
      "WARNING:tensorflow:From D:\\Users\\glede\\anaconda3\\envs\\py37\\lib\\site-packages\\tensorpack\\callbacks\\saver.py:43: The name tf.gfile.IsDirectory is deprecated. Please use tf.io.gfile.isdir instead.\n",
      "\n",
      "WARNING:tensorflow:From D:\\Users\\glede\\anaconda3\\envs\\py37\\lib\\site-packages\\tensorpack\\callbacks\\saver.py:44: The name tf.gfile.MakeDirs is deprecated. Please use tf.io.gfile.makedirs instead.\n",
      "\n",
      "WARNING:tensorflow:From D:\\Users\\glede\\anaconda3\\envs\\py37\\lib\\site-packages\\tensorpack\\tfutils\\common.py:41: The name tf.ConfigProto is deprecated. Please use tf.compat.v1.ConfigProto instead.\n",
      "\n",
      "\u001b[32m[0216 16:24:48 @model_utils.py:67]\u001b[0m \u001b[36mList of Trainable Variables: \n",
      "\u001b[0mname                              shape         #elements\n",
      "--------------------------------  ----------  -----------\n",
      "gen/LSTM/go:0                     [1, 100]            100\n",
      "gen/LSTM/lstm_cell/kernel:0       [500, 400]       200000\n",
      "gen/LSTM/lstm_cell/bias:0         [400]               400\n",
      "gen/LSTM/00/FC/W:0                [100, 100]        10000\n",
      "gen/LSTM/00/FC/b:0                [100]               100\n",
      "gen/LSTM/00/FC2/W:0               [100, 1]            100\n",
      "gen/LSTM/00/FC2/b:0               [1]                   1\n",
      "gen/LSTM/00/attw:0                [1, 1, 1]             1\n",
      "gen/LSTM/01/FC/W:0                [100, 100]        10000\n",
      "gen/LSTM/01/FC/b:0                [100]               100\n",
      "gen/LSTM/01/FC2/W:0               [100, 5]            500\n",
      "gen/LSTM/01/FC2/b:0               [5]                   5\n",
      "gen/LSTM/01/FC3/W:0               [5, 100]            500\n",
      "gen/LSTM/01/FC3/b:0               [100]               100\n",
      "gen/LSTM/01/attw:0                [2, 1, 1]             2\n",
      "gen/LSTM/02/FC/W:0                [100, 100]        10000\n",
      "gen/LSTM/02/FC/b:0                [100]               100\n",
      "gen/LSTM/02/FC2/W:0               [100, 2]            200\n",
      "gen/LSTM/02/FC2/b:0               [2]                   2\n",
      "gen/LSTM/02/FC3/W:0               [2, 100]            200\n",
      "gen/LSTM/02/FC3/b:0               [100]               100\n",
      "gen/LSTM/02/attw:0                [1, 1, 1]             1\n",
      "gen/LSTM/03/FC/W:0                [100, 100]        10000\n",
      "gen/LSTM/03/FC/b:0                [100]               100\n",
      "gen/LSTM/03/FC2/W:0               [100, 7]            700\n",
      "gen/LSTM/03/FC2/b:0               [7]                   7\n",
      "gen/LSTM/03/FC3/W:0               [7, 100]            700\n",
      "gen/LSTM/03/FC3/b:0               [100]               100\n",
      "gen/LSTM/03/attw:0                [1, 1, 1]             1\n",
      "gen/LSTM/04/FC/W:0                [100, 100]        10000\n",
      "gen/LSTM/04/FC/b:0                [100]               100\n",
      "gen/LSTM/04/FC2/W:0               [100, 2]            200\n",
      "gen/LSTM/04/FC2/b:0               [2]                   2\n",
      "gen/LSTM/04/FC3/W:0               [2, 100]            200\n",
      "gen/LSTM/04/FC3/b:0               [100]               100\n",
      "gen/LSTM/04/attw:0                [1, 1, 1]             1\n",
      "gen/LSTM/05/FC/W:0                [100, 100]        10000\n",
      "gen/LSTM/05/FC/b:0                [100]               100\n",
      "gen/LSTM/05/FC2/W:0               [100, 6]            600\n",
      "gen/LSTM/05/FC2/b:0               [6]                   6\n",
      "gen/LSTM/05/FC3/W:0               [6, 100]            600\n",
      "gen/LSTM/05/FC3/b:0               [100]               100\n",
      "gen/LSTM/05/attw:0                [1, 1, 1]             1\n",
      "gen/LSTM/06/FC/W:0                [100, 100]        10000\n",
      "gen/LSTM/06/FC/b:0                [100]               100\n",
      "gen/LSTM/06/FC2/W:0               [100, 8]            800\n",
      "gen/LSTM/06/FC2/b:0               [8]                   8\n",
      "gen/LSTM/06/FC3/W:0               [8, 100]            800\n",
      "gen/LSTM/06/FC3/b:0               [100]               100\n",
      "gen/LSTM/06/attw:0                [1, 1, 1]             1\n",
      "gen/LSTM/07/FC/W:0                [100, 100]        10000\n",
      "gen/LSTM/07/FC/b:0                [100]               100\n",
      "gen/LSTM/07/FC2/W:0               [100, 8]            800\n",
      "gen/LSTM/07/FC2/b:0               [8]                   8\n",
      "gen/LSTM/07/FC3/W:0               [8, 100]            800\n",
      "gen/LSTM/07/FC3/b:0               [100]               100\n",
      "gen/LSTM/07/attw:0                [1, 1, 1]             1\n",
      "gen/LSTM/08/FC/W:0                [100, 100]        10000\n",
      "gen/LSTM/08/FC/b:0                [100]               100\n",
      "gen/LSTM/08/FC2/W:0               [100, 7]            700\n",
      "gen/LSTM/08/FC2/b:0               [7]                   7\n",
      "gen/LSTM/08/FC3/W:0               [7, 100]            700\n",
      "gen/LSTM/08/FC3/b:0               [100]               100\n",
      "gen/LSTM/08/attw:0                [1, 1, 1]             1\n",
      "gen/LSTM/09/FC/W:0                [100, 100]        10000\n",
      "gen/LSTM/09/FC/b:0                [100]               100\n",
      "gen/LSTM/09/FC2/W:0               [100, 7]            700\n",
      "gen/LSTM/09/FC2/b:0               [7]                   7\n",
      "gen/LSTM/09/FC3/W:0               [7, 100]            700\n",
      "gen/LSTM/09/FC3/b:0               [100]               100\n",
      "gen/LSTM/09/attw:0                [1, 1, 1]             1\n",
      "gen/LSTM/10/FC/W:0                [100, 100]        10000\n",
      "gen/LSTM/10/FC/b:0                [100]               100\n",
      "gen/LSTM/10/FC2/W:0               [100, 7]            700\n",
      "gen/LSTM/10/FC2/b:0               [7]                   7\n",
      "gen/LSTM/10/FC3/W:0               [7, 100]            700\n",
      "gen/LSTM/10/FC3/b:0               [100]               100\n",
      "gen/LSTM/10/attw:0                [1, 1, 1]             1\n",
      "gen/LSTM/11/FC/W:0                [100, 100]        10000\n",
      "gen/LSTM/11/FC/b:0                [100]               100\n",
      "gen/LSTM/11/FC2/W:0               [100, 3]            300\n",
      "gen/LSTM/11/FC2/b:0               [3]                   3\n",
      "gen/LSTM/11/FC3/W:0               [3, 100]            300\n",
      "gen/LSTM/11/FC3/b:0               [100]               100\n",
      "gen/LSTM/11/attw:0                [1, 1, 1]             1\n",
      "gen/LSTM/12/FC/W:0                [100, 100]        10000\n",
      "gen/LSTM/12/FC/b:0                [100]               100\n",
      "gen/LSTM/12/FC2/W:0               [100, 3]            300\n",
      "gen/LSTM/12/FC2/b:0               [3]                   3\n",
      "gen/LSTM/12/FC3/W:0               [3, 100]            300\n",
      "gen/LSTM/12/FC3/b:0               [100]               100\n",
      "gen/LSTM/12/attw:0                [1, 1, 1]             1\n",
      "gen/LSTM/13/FC/W:0                [100, 100]        10000\n",
      "gen/LSTM/13/FC/b:0                [100]               100\n",
      "gen/LSTM/13/FC2/W:0               [100, 8]            800\n",
      "gen/LSTM/13/FC2/b:0               [8]                   8\n",
      "gen/LSTM/13/FC3/W:0               [8, 100]            800\n",
      "gen/LSTM/13/FC3/b:0               [100]               100\n",
      "gen/LSTM/13/attw:0                [1, 1, 1]             1\n",
      "gen/LSTM/14/FC/W:0                [100, 100]        10000\n",
      "gen/LSTM/14/FC/b:0                [100]               100\n",
      "gen/LSTM/14/FC2/W:0               [100, 8]            800\n",
      "gen/LSTM/14/FC2/b:0               [8]                   8\n",
      "gen/LSTM/14/FC3/W:0               [8, 100]            800\n",
      "gen/LSTM/14/FC3/b:0               [100]               100\n",
      "gen/LSTM/14/attw:0                [1, 1, 1]             1\n",
      "gen/LSTM/15/FC/W:0                [100, 100]        10000\n",
      "gen/LSTM/15/FC/b:0                [100]               100\n",
      "gen/LSTM/15/FC2/W:0               [100, 8]            800\n",
      "gen/LSTM/15/FC2/b:0               [8]                   8\n",
      "gen/LSTM/15/FC3/W:0               [8, 100]            800\n",
      "gen/LSTM/15/FC3/b:0               [100]               100\n",
      "gen/LSTM/15/attw:0                [1, 1, 1]             1\n",
      "gen/LSTM/16/FC/W:0                [100, 100]        10000\n",
      "gen/LSTM/16/FC/b:0                [100]               100\n",
      "gen/LSTM/16/FC2/W:0               [100, 1]            100\n",
      "gen/LSTM/16/FC2/b:0               [1]                   1\n",
      "gen/LSTM/16/attw:0                [1, 1, 1]             1\n",
      "gen/LSTM/17/FC/W:0                [100, 100]        10000\n",
      "gen/LSTM/17/FC/b:0                [100]               100\n",
      "gen/LSTM/17/FC2/W:0               [100, 5]            500\n",
      "gen/LSTM/17/FC2/b:0               [5]                   5\n",
      "gen/LSTM/17/FC3/W:0               [5, 100]            500\n",
      "gen/LSTM/17/FC3/b:0               [100]               100\n",
      "gen/LSTM/17/attw:0                [2, 1, 1]             2\n",
      "gen/LSTM/18/FC/W:0                [100, 100]        10000\n",
      "gen/LSTM/18/FC/b:0                [100]               100\n",
      "gen/LSTM/18/FC2/W:0               [100, 1]            100\n",
      "gen/LSTM/18/FC2/b:0               [1]                   1\n",
      "gen/LSTM/18/attw:0                [1, 1, 1]             1\n",
      "gen/LSTM/19/FC/W:0                [100, 100]        10000\n",
      "gen/LSTM/19/FC/b:0                [100]               100\n",
      "gen/LSTM/19/FC2/W:0               [100, 5]            500\n",
      "gen/LSTM/19/FC2/b:0               [5]                   5\n",
      "gen/LSTM/19/FC3/W:0               [5, 100]            500\n",
      "gen/LSTM/19/FC3/b:0               [100]               100\n",
      "gen/LSTM/19/attw:0                [2, 1, 1]             2\n",
      "gen/LSTM/20/FC/W:0                [100, 100]        10000\n",
      "gen/LSTM/20/FC/b:0                [100]               100\n",
      "gen/LSTM/20/FC2/W:0               [100, 9]            900\n",
      "gen/LSTM/20/FC2/b:0               [9]                   9\n",
      "gen/LSTM/20/FC3/W:0               [9, 100]            900\n",
      "gen/LSTM/20/FC3/b:0               [100]               100\n",
      "gen/LSTM/20/attw:0                [1, 1, 1]             1\n",
      "gen/LSTM/21/FC/W:0                [100, 100]        10000\n",
      "gen/LSTM/21/FC/b:0                [100]               100\n",
      "gen/LSTM/21/FC2/W:0               [100, 9]            900\n",
      "gen/LSTM/21/FC2/b:0               [9]                   9\n",
      "gen/LSTM/21/FC3/W:0               [9, 100]            900\n",
      "gen/LSTM/21/FC3/b:0               [100]               100\n",
      "gen/LSTM/21/attw:0                [1, 1, 1]             1\n",
      "gen/LSTM/22/FC/W:0                [100, 100]        10000\n",
      "gen/LSTM/22/FC/b:0                [100]               100\n",
      "gen/LSTM/22/FC2/W:0               [100, 8]            800\n",
      "gen/LSTM/22/FC2/b:0               [8]                   8\n",
      "gen/LSTM/22/FC3/W:0               [8, 100]            800\n",
      "gen/LSTM/22/FC3/b:0               [100]               100\n",
      "gen/LSTM/22/attw:0                [1, 1, 1]             1\n",
      "gen/LSTM/23/FC/W:0                [100, 100]        10000\n",
      "gen/LSTM/23/FC/b:0                [100]               100\n",
      "gen/LSTM/23/FC2/W:0               [100, 8]            800\n",
      "gen/LSTM/23/FC2/b:0               [8]                   8\n",
      "gen/LSTM/23/FC3/W:0               [8, 100]            800\n",
      "gen/LSTM/23/FC3/b:0               [100]               100\n",
      "gen/LSTM/23/attw:0                [1, 1, 1]             1\n",
      "gen/LSTM/24/FC/W:0                [100, 100]        10000\n",
      "gen/LSTM/24/FC/b:0                [100]               100\n",
      "gen/LSTM/24/FC2/W:0               [100, 5]            500\n",
      "gen/LSTM/24/FC2/b:0               [5]                   5\n",
      "gen/LSTM/24/FC3/W:0               [5, 100]            500\n",
      "gen/LSTM/24/FC3/b:0               [100]               100\n",
      "gen/LSTM/24/attw:0                [1, 1, 1]             1\n",
      "gen/LSTM/25/FC/W:0                [100, 100]        10000\n",
      "gen/LSTM/25/FC/b:0                [100]               100\n",
      "gen/LSTM/25/FC2/W:0               [100, 5]            500\n",
      "gen/LSTM/25/FC2/b:0               [5]                   5\n",
      "gen/LSTM/25/FC3/W:0               [5, 100]            500\n",
      "gen/LSTM/25/FC3/b:0               [100]               100\n",
      "gen/LSTM/25/attw:0                [1, 1, 1]             1\n",
      "gen/LSTM/26/FC/W:0                [100, 100]        10000\n",
      "gen/LSTM/26/FC/b:0                [100]               100\n",
      "gen/LSTM/26/FC2/W:0               [100, 5]            500\n",
      "gen/LSTM/26/FC2/b:0               [5]                   5\n",
      "gen/LSTM/26/FC3/W:0               [5, 100]            500\n",
      "gen/LSTM/26/FC3/b:0               [100]               100\n",
      "gen/LSTM/26/attw:0                [1, 1, 1]             1\n",
      "gen/LSTM/27/FC/W:0                [100, 100]        10000\n",
      "gen/LSTM/27/FC/b:0                [100]               100\n",
      "gen/LSTM/27/FC2/W:0               [100, 5]            500\n",
      "gen/LSTM/27/FC2/b:0               [5]                   5\n",
      "gen/LSTM/27/FC3/W:0               [5, 100]            500\n",
      "gen/LSTM/27/FC3/b:0               [100]               100\n",
      "gen/LSTM/27/attw:0                [1, 1, 1]             1\n",
      "gen/LSTM/28/FC/W:0                [100, 100]        10000\n",
      "gen/LSTM/28/FC/b:0                [100]               100\n",
      "gen/LSTM/28/FC2/W:0               [100, 5]            500\n",
      "gen/LSTM/28/FC2/b:0               [5]                   5\n",
      "gen/LSTM/28/FC3/W:0               [5, 100]            500\n",
      "gen/LSTM/28/FC3/b:0               [100]               100\n",
      "gen/LSTM/28/attw:0                [1, 1, 1]             1\n",
      "discrim/dis_fc0/fc/W:0            [90, 100]          9000\n",
      "discrim/dis_fc0/fc/b:0            [100]               100\n",
      "discrim/dis_fc0/fc_diversity/W:0  [100, 100]        10000\n",
      "discrim/dis_fc0/fc_diversity/b:0  [100]               100\n",
      "discrim/dis_fc0/bn/beta:0         [110]               110\n",
      "discrim/dis_fc_top/W:0            [110, 1]            110\n",
      "discrim/dis_fc_top/b:0            [1]                   1\u001b[36m\n",
      "Number of trainable variables: 207\n",
      "Number of parameters (elements): 547514\n",
      "Storage space needed for all trainable variables: 2.09MB\u001b[0m\n"
     ]
    },
    {
     "name": "stdout",
     "output_type": "stream",
     "text": [
      "\u001b[32m[0216 16:24:48 @base.py:209]\u001b[0m Setup callbacks graph ...\n",
      "WARNING:tensorflow:From D:\\Users\\glede\\anaconda3\\envs\\py37\\lib\\site-packages\\tensorpack\\callbacks\\graph.py:54: The name tf.train.SessionRunArgs is deprecated. Please use tf.estimator.SessionRunArgs instead.\n",
      "\n",
      "WARNING:tensorflow:From D:\\Users\\glede\\anaconda3\\envs\\py37\\lib\\site-packages\\tensorpack\\tfutils\\common.py:75: The name tf.VariableScope is deprecated. Please use tf.compat.v1.VariableScope instead.\n",
      "\n",
      "WARNING:tensorflow:From D:\\Users\\glede\\anaconda3\\envs\\py37\\lib\\site-packages\\tensorpack\\tfutils\\common.py:77: The name tf.train.get_or_create_global_step is deprecated. Please use tf.compat.v1.train.get_or_create_global_step instead.\n",
      "\n",
      "WARNING:tensorflow:From D:\\Users\\glede\\anaconda3\\envs\\py37\\lib\\site-packages\\tensorpack\\callbacks\\steps.py:117: The name tf.assign_add is deprecated. Please use tf.compat.v1.assign_add instead.\n",
      "\n",
      "WARNING:tensorflow:From D:\\Users\\glede\\anaconda3\\envs\\py37\\lib\\site-packages\\tensorpack\\callbacks\\saver.py:55: The name tf.train.Saver is deprecated. Please use tf.compat.v1.train.Saver instead.\n",
      "\n",
      "WARNING:tensorflow:From D:\\Users\\glede\\anaconda3\\envs\\py37\\lib\\site-packages\\tensorpack\\callbacks\\saver.py:59: The name tf.train.SaverDef is deprecated. Please use tf.compat.v1.train.SaverDef instead.\n",
      "\n",
      "\u001b[32m[0216 16:24:48 @summary.py:46]\u001b[0m [MovingAverageSummary] 6 operations in collection 'MOVING_SUMMARY_OPS' will be run with session hooks.\n",
      "\u001b[32m[0216 16:24:48 @summary.py:93]\u001b[0m Summarizing collection 'summaries' of size 9.\n",
      "WARNING:tensorflow:From D:\\Users\\glede\\anaconda3\\envs\\py37\\lib\\site-packages\\tensorpack\\callbacks\\summary.py:94: The name tf.summary.merge_all is deprecated. Please use tf.compat.v1.summary.merge_all instead.\n",
      "\n",
      "\u001b[32m[0216 16:24:48 @graph.py:98]\u001b[0m Applying collection UPDATE_OPS of 4 ops.\n",
      "WARNING:tensorflow:From D:\\Users\\glede\\anaconda3\\envs\\py37\\lib\\site-packages\\tensorpack\\callbacks\\monitor.py:261: The name tf.summary.FileWriter is deprecated. Please use tf.compat.v1.summary.FileWriter instead.\n",
      "\n",
      "\u001b[32m[0216 16:24:49 @base.py:230]\u001b[0m Creating the session ...\n",
      "WARNING:tensorflow:From D:\\Users\\glede\\anaconda3\\envs\\py37\\lib\\site-packages\\tensorpack\\tfutils\\sesscreate.py:42: The name tf.Session is deprecated. Please use tf.compat.v1.Session instead.\n",
      "\n",
      "WARNING:tensorflow:From D:\\Users\\glede\\anaconda3\\envs\\py37\\lib\\site-packages\\tensorpack\\tfutils\\sesscreate.py:71: The name tf.global_variables_initializer is deprecated. Please use tf.compat.v1.global_variables_initializer instead.\n",
      "\n",
      "WARNING:tensorflow:From D:\\Users\\glede\\anaconda3\\envs\\py37\\lib\\site-packages\\tensorpack\\tfutils\\sesscreate.py:62: get_backward_walk_ops (from tensorflow.contrib.graph_editor.select) is deprecated and will be removed after 2019-06-06.\n",
      "Instructions for updating:\n",
      "Please use tensorflow.python.ops.op_selector.get_backward_walk_ops.\n",
      "WARNING:tensorflow:From D:\\Users\\glede\\anaconda3\\envs\\py37\\lib\\site-packages\\tensorpack\\tfutils\\sesscreate.py:72: The name tf.local_variables_initializer is deprecated. Please use tf.compat.v1.local_variables_initializer instead.\n",
      "\n",
      "WARNING:tensorflow:From D:\\Users\\glede\\anaconda3\\envs\\py37\\lib\\site-packages\\tensorpack\\tfutils\\sesscreate.py:73: The name tf.tables_initializer is deprecated. Please use tf.compat.v1.tables_initializer instead.\n",
      "\n",
      "WARNING:tensorflow:From D:\\Users\\glede\\anaconda3\\envs\\py37\\lib\\site-packages\\tensorpack\\train\\base.py:254: The name tf.train.MonitoredSession is deprecated. Please use tf.compat.v1.train.MonitoredSession instead.\n",
      "\n",
      "\u001b[32m[0216 16:24:51 @base.py:236]\u001b[0m Initializing the session ...\n",
      "\u001b[32m[0216 16:24:51 @base.py:243]\u001b[0m Graph Finalized.\n",
      "WARNING:tensorflow:From D:\\Users\\glede\\anaconda3\\envs\\py37\\lib\\site-packages\\tensorpack\\tfutils\\common.py:89: The name tf.train.global_step is deprecated. Please use tf.compat.v1.train.global_step instead.\n",
      "\n",
      "WARNING:tensorflow:From D:\\Users\\glede\\anaconda3\\envs\\py37\\lib\\site-packages\\tensorpack\\tfutils\\common.py:90: The name tf.get_default_session is deprecated. Please use tf.compat.v1.get_default_session instead.\n",
      "\n",
      "\u001b[32m[0216 16:24:52 @concurrency.py:38]\u001b[0m Starting EnqueueThread QueueInput/input_queue ...\n",
      "WARNING:tensorflow:From D:\\Users\\glede\\anaconda3\\envs\\py37\\lib\\site-packages\\tensorpack\\callbacks\\monitor.py:309: The name tf.gfile.Exists is deprecated. Please use tf.io.gfile.exists instead.\n",
      "\n",
      "\u001b[32m[0216 16:24:52 @base.py:275]\u001b[0m Start Epoch 1 ...\n"
     ]
    },
    {
     "name": "stderr",
     "output_type": "stream",
     "text": [
      " 99%|################################################################################1|1980/2000[00:44<00:00,50.81it/s]"
     ]
    },
    {
     "name": "stdout",
     "output_type": "stream",
     "text": [
      "WARNING:tensorflow:From D:\\Users\\glede\\anaconda3\\envs\\py37\\lib\\site-packages\\tensorpack\\callbacks\\monitor.py:148: The name tf.Summary is deprecated. Please use tf.compat.v1.Summary instead.\n",
      "\n"
     ]
    },
    {
     "name": "stderr",
     "output_type": "stream",
     "text": [
      "\r",
      "100%|#################################################################################|2000/2000[00:47<00:00,42.32it/s]"
     ]
    },
    {
     "name": "stdout",
     "output_type": "stream",
     "text": [
      "\u001b[32m[0216 16:25:39 @base.py:285]\u001b[0m Epoch 1 (global_step 2000) finished, time:47.3 seconds.\n",
      "WARNING:tensorflow:From D:\\Users\\glede\\anaconda3\\envs\\py37\\lib\\site-packages\\tensorpack\\callbacks\\saver.py:77: The name tf.train.get_global_step is deprecated. Please use tf.compat.v1.train.get_global_step instead.\n",
      "\n"
     ]
    },
    {
     "name": "stderr",
     "output_type": "stream",
     "text": [
      "\n"
     ]
    },
    {
     "name": "stdout",
     "output_type": "stream",
     "text": [
      "\u001b[32m[0216 16:25:40 @saver.py:79]\u001b[0m Model saved to ./output/DATGAN_AVG/model\\model-2000.\n",
      "\u001b[32m[0216 16:25:40 @monitor.py:467]\u001b[0m GAN_loss/discrim/accuracy_fake: 0.895\n",
      "\u001b[32m[0216 16:25:40 @monitor.py:467]\u001b[0m GAN_loss/discrim/accuracy_real: 0.235\n",
      "\u001b[32m[0216 16:25:40 @monitor.py:467]\u001b[0m GAN_loss/discrim/loss: 0.64266\n",
      "\u001b[32m[0216 16:25:40 @monitor.py:467]\u001b[0m GAN_loss/gen/final-g-loss: 1.056\n",
      "\u001b[32m[0216 16:25:40 @monitor.py:467]\u001b[0m GAN_loss/gen/klloss: 0.10351\n",
      "\u001b[32m[0216 16:25:40 @monitor.py:467]\u001b[0m GAN_loss/gen/loss: 0.95253\n",
      "\u001b[32m[0216 16:25:40 @monitor.py:467]\u001b[0m QueueInput/queue_size: 50\n",
      "\u001b[32m[0216 16:25:40 @base.py:275]\u001b[0m Start Epoch 2 ...\n"
     ]
    },
    {
     "name": "stderr",
     "output_type": "stream",
     "text": [
      "100%|#################################################################################|2000/2000[00:39<00:00,50.60it/s]"
     ]
    },
    {
     "name": "stdout",
     "output_type": "stream",
     "text": [
      "\u001b[32m[0216 16:26:19 @base.py:285]\u001b[0m Epoch 2 (global_step 4000) finished, time:39.5 seconds.\n",
      "\u001b[32m[0216 16:26:19 @saver.py:79]\u001b[0m Model saved to ./output/DATGAN_AVG/model\\model-4000.\n",
      "\u001b[32m[0216 16:26:19 @monitor.py:467]\u001b[0m GAN_loss/discrim/accuracy_fake: 0.855\n",
      "\u001b[32m[0216 16:26:19 @monitor.py:467]\u001b[0m GAN_loss/discrim/accuracy_real: 0.165\n",
      "\u001b[32m[0216 16:26:19 @monitor.py:467]\u001b[0m GAN_loss/discrim/loss: 0.65022\n",
      "\u001b[32m[0216 16:26:19 @monitor.py:467]\u001b[0m GAN_loss/gen/final-g-loss: 1.0875\n",
      "\u001b[32m[0216 16:26:19 @monitor.py:467]\u001b[0m GAN_loss/gen/klloss: 0.13815\n",
      "\u001b[32m[0216 16:26:19 @monitor.py:467]\u001b[0m GAN_loss/gen/loss: 0.94939\n",
      "\u001b[32m[0216 16:26:19 @monitor.py:467]\u001b[0m QueueInput/queue_size: 50\n",
      "\u001b[32m[0216 16:26:19 @base.py:275]\u001b[0m Start Epoch 3 ...\n"
     ]
    },
    {
     "name": "stderr",
     "output_type": "stream",
     "text": [
      "\n",
      "100%|#################################################################################|2000/2000[00:39<00:00,50.41it/s]"
     ]
    },
    {
     "name": "stdout",
     "output_type": "stream",
     "text": [
      "\u001b[32m[0216 16:26:59 @base.py:285]\u001b[0m Epoch 3 (global_step 6000) finished, time:39.7 seconds.\n",
      "\u001b[32m[0216 16:26:59 @saver.py:79]\u001b[0m Model saved to ./output/DATGAN_AVG/model\\model-6000.\n",
      "\u001b[32m[0216 16:26:59 @monitor.py:467]\u001b[0m GAN_loss/discrim/accuracy_fake: 0.89\n",
      "\u001b[32m[0216 16:26:59 @monitor.py:467]\u001b[0m GAN_loss/discrim/accuracy_real: 0.14\n",
      "\u001b[32m[0216 16:26:59 @monitor.py:467]\u001b[0m GAN_loss/discrim/loss: 0.64766\n",
      "\u001b[32m[0216 16:26:59 @monitor.py:467]\u001b[0m GAN_loss/gen/final-g-loss: 1.0835\n",
      "\u001b[32m[0216 16:26:59 @monitor.py:467]\u001b[0m GAN_loss/gen/klloss: 0.13877\n",
      "\u001b[32m[0216 16:26:59 @monitor.py:467]\u001b[0m GAN_loss/gen/loss: 0.94469\n",
      "\u001b[32m[0216 16:26:59 @monitor.py:467]\u001b[0m QueueInput/queue_size: 50\n",
      "\u001b[32m[0216 16:26:59 @base.py:275]\u001b[0m Start Epoch 4 ...\n"
     ]
    },
    {
     "name": "stderr",
     "output_type": "stream",
     "text": [
      "\n",
      "100%|#################################################################################|2000/2000[00:39<00:00,50.43it/s]"
     ]
    },
    {
     "name": "stdout",
     "output_type": "stream",
     "text": [
      "\u001b[32m[0216 16:27:39 @base.py:285]\u001b[0m Epoch 4 (global_step 8000) finished, time:39.7 seconds.\n",
      "\u001b[32m[0216 16:27:39 @saver.py:79]\u001b[0m Model saved to ./output/DATGAN_AVG/model\\model-8000.\n",
      "\u001b[32m[0216 16:27:39 @monitor.py:467]\u001b[0m GAN_loss/discrim/accuracy_fake: 0.935\n",
      "\u001b[32m[0216 16:27:39 @monitor.py:467]\u001b[0m GAN_loss/discrim/accuracy_real: 0.175\n",
      "\u001b[32m[0216 16:27:39 @monitor.py:467]\u001b[0m GAN_loss/discrim/loss: 0.63212\n",
      "\u001b[32m[0216 16:27:39 @monitor.py:467]\u001b[0m GAN_loss/gen/final-g-loss: 1.0813\n",
      "\u001b[32m[0216 16:27:39 @monitor.py:467]\u001b[0m GAN_loss/gen/klloss: 0.10783\n",
      "\u001b[32m[0216 16:27:39 @monitor.py:467]\u001b[0m GAN_loss/gen/loss: 0.97346\n",
      "\u001b[32m[0216 16:27:39 @monitor.py:467]\u001b[0m QueueInput/queue_size: 50\n",
      "\u001b[32m[0216 16:27:39 @base.py:275]\u001b[0m Start Epoch 5 ...\n"
     ]
    },
    {
     "name": "stderr",
     "output_type": "stream",
     "text": [
      "\n",
      "100%|#################################################################################|2000/2000[00:39<00:00,50.02it/s]"
     ]
    },
    {
     "name": "stdout",
     "output_type": "stream",
     "text": [
      "\u001b[32m[0216 16:28:19 @base.py:285]\u001b[0m Epoch 5 (global_step 10000) finished, time:40 seconds.\n",
      "\u001b[32m[0216 16:28:19 @saver.py:79]\u001b[0m Model saved to ./output/DATGAN_AVG/model\\model-10000.\n",
      "\u001b[32m[0216 16:28:19 @monitor.py:467]\u001b[0m GAN_loss/discrim/accuracy_fake: 0.925\n",
      "\u001b[32m[0216 16:28:19 @monitor.py:467]\u001b[0m GAN_loss/discrim/accuracy_real: 0.24\n",
      "\u001b[32m[0216 16:28:19 @monitor.py:467]\u001b[0m GAN_loss/discrim/loss: 0.61906\n",
      "\u001b[32m[0216 16:28:19 @monitor.py:467]\u001b[0m GAN_loss/gen/final-g-loss: 1.111\n",
      "\u001b[32m[0216 16:28:19 @monitor.py:467]\u001b[0m GAN_loss/gen/klloss: 0.087232\n",
      "\u001b[32m[0216 16:28:19 @monitor.py:467]\u001b[0m GAN_loss/gen/loss: 1.0238\n",
      "\u001b[32m[0216 16:28:19 @monitor.py:467]\u001b[0m QueueInput/queue_size: 50\n",
      "\u001b[32m[0216 16:28:19 @base.py:275]\u001b[0m Start Epoch 6 ...\n"
     ]
    },
    {
     "name": "stderr",
     "output_type": "stream",
     "text": [
      "\n",
      "100%|#################################################################################|2000/2000[00:40<00:00,49.39it/s]"
     ]
    },
    {
     "name": "stdout",
     "output_type": "stream",
     "text": [
      "\u001b[32m[0216 16:28:59 @base.py:285]\u001b[0m Epoch 6 (global_step 12000) finished, time:40.5 seconds.\n",
      "\u001b[32m[0216 16:28:59 @saver.py:79]\u001b[0m Model saved to ./output/DATGAN_AVG/model\\model-12000.\n",
      "\u001b[32m[0216 16:28:59 @monitor.py:467]\u001b[0m GAN_loss/discrim/accuracy_fake: 0.88\n",
      "\u001b[32m[0216 16:28:59 @monitor.py:467]\u001b[0m GAN_loss/discrim/accuracy_real: 0.295\n",
      "\u001b[32m[0216 16:28:59 @monitor.py:467]\u001b[0m GAN_loss/discrim/loss: 0.62349\n",
      "\u001b[32m[0216 16:28:59 @monitor.py:467]\u001b[0m GAN_loss/gen/final-g-loss: 1.116\n",
      "\u001b[32m[0216 16:28:59 @monitor.py:467]\u001b[0m GAN_loss/gen/klloss: 0.10707\n",
      "\u001b[32m[0216 16:28:59 @monitor.py:467]\u001b[0m GAN_loss/gen/loss: 1.0089\n",
      "\u001b[32m[0216 16:28:59 @monitor.py:467]\u001b[0m QueueInput/queue_size: 50\n",
      "\u001b[32m[0216 16:28:59 @base.py:275]\u001b[0m Start Epoch 7 ...\n"
     ]
    },
    {
     "name": "stderr",
     "output_type": "stream",
     "text": [
      "\n",
      "100%|#################################################################################|2000/2000[00:39<00:00,50.51it/s]"
     ]
    },
    {
     "name": "stdout",
     "output_type": "stream",
     "text": [
      "\u001b[32m[0216 16:29:39 @base.py:285]\u001b[0m Epoch 7 (global_step 14000) finished, time:39.6 seconds.\n",
      "\u001b[32m[0216 16:29:39 @saver.py:79]\u001b[0m Model saved to ./output/DATGAN_AVG/model\\model-14000.\n",
      "\u001b[32m[0216 16:29:39 @monitor.py:467]\u001b[0m GAN_loss/discrim/accuracy_fake: 0.855\n",
      "\u001b[32m[0216 16:29:39 @monitor.py:467]\u001b[0m GAN_loss/discrim/accuracy_real: 0.245\n",
      "\u001b[32m[0216 16:29:39 @monitor.py:467]\u001b[0m GAN_loss/discrim/loss: 0.63844\n",
      "\u001b[32m[0216 16:29:39 @monitor.py:467]\u001b[0m GAN_loss/gen/final-g-loss: 1.0802\n",
      "\u001b[32m[0216 16:29:39 @monitor.py:467]\u001b[0m GAN_loss/gen/klloss: 0.099479\n",
      "\u001b[32m[0216 16:29:39 @monitor.py:467]\u001b[0m GAN_loss/gen/loss: 0.98074\n",
      "\u001b[32m[0216 16:29:39 @monitor.py:467]\u001b[0m QueueInput/queue_size: 50\n",
      "\u001b[32m[0216 16:29:39 @base.py:275]\u001b[0m Start Epoch 8 ...\n"
     ]
    },
    {
     "name": "stderr",
     "output_type": "stream",
     "text": [
      "\n",
      "100%|#################################################################################|2000/2000[00:39<00:00,50.30it/s]"
     ]
    },
    {
     "name": "stdout",
     "output_type": "stream",
     "text": [
      "\u001b[32m[0216 16:30:19 @base.py:285]\u001b[0m Epoch 8 (global_step 16000) finished, time:39.8 seconds.\n",
      "\u001b[32m[0216 16:30:19 @saver.py:79]\u001b[0m Model saved to ./output/DATGAN_AVG/model\\model-16000.\n",
      "\u001b[32m[0216 16:30:19 @monitor.py:467]\u001b[0m GAN_loss/discrim/accuracy_fake: 0.9\n",
      "\u001b[32m[0216 16:30:19 @monitor.py:467]\u001b[0m GAN_loss/discrim/accuracy_real: 0.195\n",
      "\u001b[32m[0216 16:30:19 @monitor.py:467]\u001b[0m GAN_loss/discrim/loss: 0.63477\n",
      "\u001b[32m[0216 16:30:19 @monitor.py:467]\u001b[0m GAN_loss/gen/final-g-loss: 1.0853\n",
      "\u001b[32m[0216 16:30:19 @monitor.py:467]\u001b[0m GAN_loss/gen/klloss: 0.099824\n",
      "\u001b[32m[0216 16:30:19 @monitor.py:467]\u001b[0m GAN_loss/gen/loss: 0.98547\n",
      "\u001b[32m[0216 16:30:19 @monitor.py:467]\u001b[0m QueueInput/queue_size: 50\n",
      "\u001b[32m[0216 16:30:19 @base.py:275]\u001b[0m Start Epoch 9 ...\n"
     ]
    },
    {
     "name": "stderr",
     "output_type": "stream",
     "text": [
      "\n",
      "100%|#################################################################################|2000/2000[00:39<00:00,50.08it/s]"
     ]
    },
    {
     "name": "stdout",
     "output_type": "stream",
     "text": [
      "\u001b[32m[0216 16:30:59 @base.py:285]\u001b[0m Epoch 9 (global_step 18000) finished, time:39.9 seconds.\n",
      "\u001b[32m[0216 16:30:59 @saver.py:79]\u001b[0m Model saved to ./output/DATGAN_AVG/model\\model-18000.\n",
      "\u001b[32m[0216 16:30:59 @monitor.py:467]\u001b[0m GAN_loss/discrim/accuracy_fake: 0.875\n",
      "\u001b[32m[0216 16:30:59 @monitor.py:467]\u001b[0m GAN_loss/discrim/accuracy_real: 0.165\n",
      "\u001b[32m[0216 16:30:59 @monitor.py:467]\u001b[0m GAN_loss/discrim/loss: 0.64551\n",
      "\u001b[32m[0216 16:30:59 @monitor.py:467]\u001b[0m GAN_loss/gen/final-g-loss: 1.1004\n",
      "\u001b[32m[0216 16:30:59 @monitor.py:467]\u001b[0m GAN_loss/gen/klloss: 0.13683\n",
      "\u001b[32m[0216 16:30:59 @monitor.py:467]\u001b[0m GAN_loss/gen/loss: 0.96362\n",
      "\u001b[32m[0216 16:30:59 @monitor.py:467]\u001b[0m QueueInput/queue_size: 50\n",
      "\u001b[32m[0216 16:30:59 @base.py:275]\u001b[0m Start Epoch 10 ...\n"
     ]
    },
    {
     "name": "stderr",
     "output_type": "stream",
     "text": [
      "\n",
      "100%|#################################################################################|2000/2000[00:40<00:00,49.47it/s]"
     ]
    },
    {
     "name": "stdout",
     "output_type": "stream",
     "text": [
      "\u001b[32m[0216 16:31:39 @base.py:285]\u001b[0m Epoch 10 (global_step 20000) finished, time:40.4 seconds.\n",
      "\u001b[32m[0216 16:31:39 @saver.py:79]\u001b[0m Model saved to ./output/DATGAN_AVG/model\\model-20000.\n",
      "\u001b[32m[0216 16:31:39 @monitor.py:467]\u001b[0m GAN_loss/discrim/accuracy_fake: 0.89\n",
      "\u001b[32m[0216 16:31:39 @monitor.py:467]\u001b[0m GAN_loss/discrim/accuracy_real: 0.155\n",
      "\u001b[32m[0216 16:31:39 @monitor.py:467]\u001b[0m GAN_loss/discrim/loss: 0.65578\n",
      "\u001b[32m[0216 16:31:39 @monitor.py:467]\u001b[0m GAN_loss/gen/final-g-loss: 1.0737\n",
      "\u001b[32m[0216 16:31:39 @monitor.py:467]\u001b[0m GAN_loss/gen/klloss: 0.13271\n",
      "\u001b[32m[0216 16:31:39 @monitor.py:467]\u001b[0m GAN_loss/gen/loss: 0.94096\n",
      "\u001b[32m[0216 16:31:39 @monitor.py:467]\u001b[0m QueueInput/queue_size: 50\n",
      "\u001b[32m[0216 16:31:39 @base.py:275]\u001b[0m Start Epoch 11 ...\n"
     ]
    },
    {
     "name": "stderr",
     "output_type": "stream",
     "text": [
      "\n",
      "100%|#################################################################################|2000/2000[00:39<00:00,50.09it/s]"
     ]
    },
    {
     "name": "stdout",
     "output_type": "stream",
     "text": [
      "\u001b[32m[0216 16:32:19 @base.py:285]\u001b[0m Epoch 11 (global_step 22000) finished, time:39.9 seconds.\n",
      "WARNING:tensorflow:From D:\\Users\\glede\\anaconda3\\envs\\py37\\lib\\site-packages\\tensorflow_core\\python\\training\\saver.py:963: remove_checkpoint (from tensorflow.python.training.checkpoint_management) is deprecated and will be removed in a future version.\n",
      "Instructions for updating:\n",
      "Use standard file APIs to delete files with this prefix.\n",
      "\u001b[32m[0216 16:32:19 @saver.py:79]\u001b[0m Model saved to ./output/DATGAN_AVG/model\\model-22000.\n",
      "\u001b[32m[0216 16:32:19 @monitor.py:467]\u001b[0m GAN_loss/discrim/accuracy_fake: 0.915\n",
      "\u001b[32m[0216 16:32:19 @monitor.py:467]\u001b[0m GAN_loss/discrim/accuracy_real: 0.155\n",
      "\u001b[32m[0216 16:32:19 @monitor.py:467]\u001b[0m GAN_loss/discrim/loss: 0.64686\n",
      "\u001b[32m[0216 16:32:19 @monitor.py:467]\u001b[0m GAN_loss/gen/final-g-loss: 1.0873\n",
      "\u001b[32m[0216 16:32:19 @monitor.py:467]\u001b[0m GAN_loss/gen/klloss: 0.11955\n",
      "\u001b[32m[0216 16:32:19 @monitor.py:467]\u001b[0m GAN_loss/gen/loss: 0.96776\n",
      "\u001b[32m[0216 16:32:19 @monitor.py:467]\u001b[0m QueueInput/queue_size: 50\n",
      "\u001b[32m[0216 16:32:19 @base.py:275]\u001b[0m Start Epoch 12 ...\n"
     ]
    },
    {
     "name": "stderr",
     "output_type": "stream",
     "text": [
      "\n",
      "100%|#################################################################################|2000/2000[00:40<00:00,49.28it/s]"
     ]
    },
    {
     "name": "stdout",
     "output_type": "stream",
     "text": [
      "\u001b[32m[0216 16:33:00 @base.py:285]\u001b[0m Epoch 12 (global_step 24000) finished, time:40.6 seconds.\n",
      "\u001b[32m[0216 16:33:00 @saver.py:79]\u001b[0m Model saved to ./output/DATGAN_AVG/model\\model-24000.\n",
      "\u001b[32m[0216 16:33:00 @monitor.py:467]\u001b[0m GAN_loss/discrim/accuracy_fake: 0.91\n",
      "\u001b[32m[0216 16:33:00 @monitor.py:467]\u001b[0m GAN_loss/discrim/accuracy_real: 0.19\n",
      "\u001b[32m[0216 16:33:00 @monitor.py:467]\u001b[0m GAN_loss/discrim/loss: 0.64059\n",
      "\u001b[32m[0216 16:33:00 @monitor.py:467]\u001b[0m GAN_loss/gen/final-g-loss: 1.1239\n",
      "\u001b[32m[0216 16:33:00 @monitor.py:467]\u001b[0m GAN_loss/gen/klloss: 0.15337\n",
      "\u001b[32m[0216 16:33:00 @monitor.py:467]\u001b[0m GAN_loss/gen/loss: 0.97052\n",
      "\u001b[32m[0216 16:33:00 @monitor.py:467]\u001b[0m QueueInput/queue_size: 50\n",
      "\u001b[32m[0216 16:33:00 @base.py:275]\u001b[0m Start Epoch 13 ...\n"
     ]
    },
    {
     "name": "stderr",
     "output_type": "stream",
     "text": [
      "\n",
      "100%|#################################################################################|2000/2000[00:41<00:00,48.07it/s]"
     ]
    },
    {
     "name": "stdout",
     "output_type": "stream",
     "text": [
      "\u001b[32m[0216 16:33:42 @base.py:285]\u001b[0m Epoch 13 (global_step 26000) finished, time:41.6 seconds.\n",
      "\u001b[32m[0216 16:33:42 @saver.py:79]\u001b[0m Model saved to ./output/DATGAN_AVG/model\\model-26000.\n",
      "\u001b[32m[0216 16:33:42 @monitor.py:467]\u001b[0m GAN_loss/discrim/accuracy_fake: 0.9\n",
      "\u001b[32m[0216 16:33:42 @monitor.py:467]\u001b[0m GAN_loss/discrim/accuracy_real: 0.18\n",
      "\u001b[32m[0216 16:33:42 @monitor.py:467]\u001b[0m GAN_loss/discrim/loss: 0.62957\n",
      "\u001b[32m[0216 16:33:42 @monitor.py:467]\u001b[0m GAN_loss/gen/final-g-loss: 1.1126\n",
      "\u001b[32m[0216 16:33:42 @monitor.py:467]\u001b[0m GAN_loss/gen/klloss: 0.10404\n",
      "\u001b[32m[0216 16:33:42 @monitor.py:467]\u001b[0m GAN_loss/gen/loss: 1.0085\n",
      "\u001b[32m[0216 16:33:42 @monitor.py:467]\u001b[0m QueueInput/queue_size: 50\n",
      "\u001b[32m[0216 16:33:42 @base.py:275]\u001b[0m Start Epoch 14 ...\n"
     ]
    },
    {
     "name": "stderr",
     "output_type": "stream",
     "text": [
      "\n",
      "100%|#################################################################################|2000/2000[00:40<00:00,49.23it/s]"
     ]
    },
    {
     "name": "stdout",
     "output_type": "stream",
     "text": [
      "\u001b[32m[0216 16:34:22 @base.py:285]\u001b[0m Epoch 14 (global_step 28000) finished, time:40.6 seconds.\n",
      "\u001b[32m[0216 16:34:22 @saver.py:79]\u001b[0m Model saved to ./output/DATGAN_AVG/model\\model-28000.\n",
      "\u001b[32m[0216 16:34:22 @monitor.py:467]\u001b[0m GAN_loss/discrim/accuracy_fake: 0.89\n",
      "\u001b[32m[0216 16:34:22 @monitor.py:467]\u001b[0m GAN_loss/discrim/accuracy_real: 0.165\n",
      "\u001b[32m[0216 16:34:22 @monitor.py:467]\u001b[0m GAN_loss/discrim/loss: 0.6341\n",
      "\u001b[32m[0216 16:34:22 @monitor.py:467]\u001b[0m GAN_loss/gen/final-g-loss: 1.0507\n",
      "\u001b[32m[0216 16:34:22 @monitor.py:467]\u001b[0m GAN_loss/gen/klloss: 0.10389\n",
      "\u001b[32m[0216 16:34:22 @monitor.py:467]\u001b[0m GAN_loss/gen/loss: 0.94676\n",
      "\u001b[32m[0216 16:34:22 @monitor.py:467]\u001b[0m QueueInput/queue_size: 50\n",
      "\u001b[32m[0216 16:34:22 @base.py:275]\u001b[0m Start Epoch 15 ...\n"
     ]
    },
    {
     "name": "stderr",
     "output_type": "stream",
     "text": [
      "\n",
      "100%|#################################################################################|2000/2000[00:40<00:00,49.76it/s]"
     ]
    },
    {
     "name": "stdout",
     "output_type": "stream",
     "text": [
      "\u001b[32m[0216 16:35:03 @base.py:285]\u001b[0m Epoch 15 (global_step 30000) finished, time:40.2 seconds.\n",
      "\u001b[32m[0216 16:35:03 @saver.py:79]\u001b[0m Model saved to ./output/DATGAN_AVG/model\\model-30000.\n",
      "\u001b[32m[0216 16:35:03 @monitor.py:467]\u001b[0m GAN_loss/discrim/accuracy_fake: 0.925\n",
      "\u001b[32m[0216 16:35:03 @monitor.py:467]\u001b[0m GAN_loss/discrim/accuracy_real: 0.21\n",
      "\u001b[32m[0216 16:35:03 @monitor.py:467]\u001b[0m GAN_loss/discrim/loss: 0.64585\n",
      "\u001b[32m[0216 16:35:03 @monitor.py:467]\u001b[0m GAN_loss/gen/final-g-loss: 1.0288\n",
      "\u001b[32m[0216 16:35:03 @monitor.py:467]\u001b[0m GAN_loss/gen/klloss: 0.082549\n",
      "\u001b[32m[0216 16:35:03 @monitor.py:467]\u001b[0m GAN_loss/gen/loss: 0.94625\n",
      "\u001b[32m[0216 16:35:03 @monitor.py:467]\u001b[0m QueueInput/queue_size: 50\n",
      "\u001b[32m[0216 16:35:03 @base.py:275]\u001b[0m Start Epoch 16 ...\n"
     ]
    },
    {
     "name": "stderr",
     "output_type": "stream",
     "text": [
      "\n",
      "100%|#################################################################################|2000/2000[00:40<00:00,49.18it/s]"
     ]
    },
    {
     "name": "stdout",
     "output_type": "stream",
     "text": [
      "\u001b[32m[0216 16:35:43 @base.py:285]\u001b[0m Epoch 16 (global_step 32000) finished, time:40.7 seconds.\n",
      "\u001b[32m[0216 16:35:43 @saver.py:79]\u001b[0m Model saved to ./output/DATGAN_AVG/model\\model-32000.\n",
      "\u001b[32m[0216 16:35:43 @monitor.py:467]\u001b[0m GAN_loss/discrim/accuracy_fake: 0.94\n",
      "\u001b[32m[0216 16:35:43 @monitor.py:467]\u001b[0m GAN_loss/discrim/accuracy_real: 0.14\n",
      "\u001b[32m[0216 16:35:43 @monitor.py:467]\u001b[0m GAN_loss/discrim/loss: 0.64245\n",
      "\u001b[32m[0216 16:35:43 @monitor.py:467]\u001b[0m GAN_loss/gen/final-g-loss: 1.0843\n",
      "\u001b[32m[0216 16:35:43 @monitor.py:467]\u001b[0m GAN_loss/gen/klloss: 0.12875\n",
      "\u001b[32m[0216 16:35:43 @monitor.py:467]\u001b[0m GAN_loss/gen/loss: 0.95558\n",
      "\u001b[32m[0216 16:35:43 @monitor.py:467]\u001b[0m QueueInput/queue_size: 50\n",
      "\u001b[32m[0216 16:35:43 @base.py:275]\u001b[0m Start Epoch 17 ...\n"
     ]
    },
    {
     "name": "stderr",
     "output_type": "stream",
     "text": [
      "\n",
      "100%|#################################################################################|2000/2000[00:40<00:00,49.12it/s]"
     ]
    },
    {
     "name": "stdout",
     "output_type": "stream",
     "text": [
      "\u001b[32m[0216 16:36:24 @base.py:285]\u001b[0m Epoch 17 (global_step 34000) finished, time:40.7 seconds.\n",
      "\u001b[32m[0216 16:36:24 @saver.py:79]\u001b[0m Model saved to ./output/DATGAN_AVG/model\\model-34000.\n",
      "\u001b[32m[0216 16:36:24 @monitor.py:467]\u001b[0m GAN_loss/discrim/accuracy_fake: 0.95\n",
      "\u001b[32m[0216 16:36:24 @monitor.py:467]\u001b[0m GAN_loss/discrim/accuracy_real: 0.145\n",
      "\u001b[32m[0216 16:36:24 @monitor.py:467]\u001b[0m GAN_loss/discrim/loss: 0.6325\n",
      "\u001b[32m[0216 16:36:24 @monitor.py:467]\u001b[0m GAN_loss/gen/final-g-loss: 1.0872\n",
      "\u001b[32m[0216 16:36:24 @monitor.py:467]\u001b[0m GAN_loss/gen/klloss: 0.10662\n",
      "\u001b[32m[0216 16:36:24 @monitor.py:467]\u001b[0m GAN_loss/gen/loss: 0.98057\n",
      "\u001b[32m[0216 16:36:24 @monitor.py:467]\u001b[0m QueueInput/queue_size: 50\n",
      "\u001b[32m[0216 16:36:24 @base.py:275]\u001b[0m Start Epoch 18 ...\n"
     ]
    },
    {
     "name": "stderr",
     "output_type": "stream",
     "text": [
      "\n",
      "100%|#################################################################################|2000/2000[00:40<00:00,49.45it/s]"
     ]
    },
    {
     "name": "stdout",
     "output_type": "stream",
     "text": [
      "\u001b[32m[0216 16:37:05 @base.py:285]\u001b[0m Epoch 18 (global_step 36000) finished, time:40.4 seconds.\n"
     ]
    },
    {
     "name": "stderr",
     "output_type": "stream",
     "text": [
      "\n"
     ]
    },
    {
     "name": "stdout",
     "output_type": "stream",
     "text": [
      "\u001b[32m[0216 16:37:05 @saver.py:79]\u001b[0m Model saved to ./output/DATGAN_AVG/model\\model-36000.\n",
      "\u001b[32m[0216 16:37:05 @monitor.py:467]\u001b[0m GAN_loss/discrim/accuracy_fake: 0.91\n",
      "\u001b[32m[0216 16:37:05 @monitor.py:467]\u001b[0m GAN_loss/discrim/accuracy_real: 0.165\n",
      "\u001b[32m[0216 16:37:05 @monitor.py:467]\u001b[0m GAN_loss/discrim/loss: 0.64837\n",
      "\u001b[32m[0216 16:37:05 @monitor.py:467]\u001b[0m GAN_loss/gen/final-g-loss: 1.0875\n",
      "\u001b[32m[0216 16:37:05 @monitor.py:467]\u001b[0m GAN_loss/gen/klloss: 0.13399\n",
      "\u001b[32m[0216 16:37:05 @monitor.py:467]\u001b[0m GAN_loss/gen/loss: 0.95349\n",
      "\u001b[32m[0216 16:37:05 @monitor.py:467]\u001b[0m QueueInput/queue_size: 50\n",
      "\u001b[32m[0216 16:37:05 @base.py:275]\u001b[0m Start Epoch 19 ...\n"
     ]
    },
    {
     "name": "stderr",
     "output_type": "stream",
     "text": [
      "100%|#################################################################################|2000/2000[00:40<00:00,49.22it/s]"
     ]
    },
    {
     "name": "stdout",
     "output_type": "stream",
     "text": [
      "\u001b[32m[0216 16:37:45 @base.py:285]\u001b[0m Epoch 19 (global_step 38000) finished, time:40.6 seconds.\n",
      "\u001b[32m[0216 16:37:45 @saver.py:79]\u001b[0m Model saved to ./output/DATGAN_AVG/model\\model-38000.\n",
      "\u001b[32m[0216 16:37:45 @monitor.py:467]\u001b[0m GAN_loss/discrim/accuracy_fake: 0.955\n",
      "\u001b[32m[0216 16:37:45 @monitor.py:467]\u001b[0m GAN_loss/discrim/accuracy_real: 0.125\n",
      "\u001b[32m[0216 16:37:45 @monitor.py:467]\u001b[0m GAN_loss/discrim/loss: 0.64758\n",
      "\u001b[32m[0216 16:37:45 @monitor.py:467]\u001b[0m GAN_loss/gen/final-g-loss: 1.0455\n",
      "\u001b[32m[0216 16:37:45 @monitor.py:467]\u001b[0m GAN_loss/gen/klloss: 0.10566\n",
      "\u001b[32m[0216 16:37:45 @monitor.py:467]\u001b[0m GAN_loss/gen/loss: 0.93988\n",
      "\u001b[32m[0216 16:37:45 @monitor.py:467]\u001b[0m QueueInput/queue_size: 50\n",
      "\u001b[32m[0216 16:37:45 @base.py:275]\u001b[0m Start Epoch 20 ...\n"
     ]
    },
    {
     "name": "stderr",
     "output_type": "stream",
     "text": [
      "\n",
      "100%|#################################################################################|2000/2000[00:40<00:00,49.51it/s]"
     ]
    },
    {
     "name": "stdout",
     "output_type": "stream",
     "text": [
      "\u001b[32m[0216 16:38:26 @base.py:285]\u001b[0m Epoch 20 (global_step 40000) finished, time:40.4 seconds.\n",
      "\u001b[32m[0216 16:38:26 @saver.py:79]\u001b[0m Model saved to ./output/DATGAN_AVG/model\\model-40000.\n",
      "\u001b[32m[0216 16:38:26 @monitor.py:467]\u001b[0m GAN_loss/discrim/accuracy_fake: 0.93\n",
      "\u001b[32m[0216 16:38:26 @monitor.py:467]\u001b[0m GAN_loss/discrim/accuracy_real: 0.135\n",
      "\u001b[32m[0216 16:38:26 @monitor.py:467]\u001b[0m GAN_loss/discrim/loss: 0.64829\n",
      "\u001b[32m[0216 16:38:26 @monitor.py:467]\u001b[0m GAN_loss/gen/final-g-loss: 1.0159\n",
      "\u001b[32m[0216 16:38:26 @monitor.py:467]\u001b[0m GAN_loss/gen/klloss: 0.076075\n",
      "\u001b[32m[0216 16:38:26 @monitor.py:467]\u001b[0m GAN_loss/gen/loss: 0.93985\n",
      "\u001b[32m[0216 16:38:26 @monitor.py:467]\u001b[0m QueueInput/queue_size: 50\n",
      "\u001b[32m[0216 16:38:26 @base.py:275]\u001b[0m Start Epoch 21 ...\n"
     ]
    },
    {
     "name": "stderr",
     "output_type": "stream",
     "text": [
      "\n",
      "100%|#################################################################################|2000/2000[00:40<00:00,49.71it/s]"
     ]
    },
    {
     "name": "stdout",
     "output_type": "stream",
     "text": [
      "\u001b[32m[0216 16:39:06 @base.py:285]\u001b[0m Epoch 21 (global_step 42000) finished, time:40.2 seconds.\n"
     ]
    },
    {
     "name": "stderr",
     "output_type": "stream",
     "text": [
      "\n"
     ]
    },
    {
     "name": "stdout",
     "output_type": "stream",
     "text": [
      "\u001b[32m[0216 16:39:06 @saver.py:79]\u001b[0m Model saved to ./output/DATGAN_AVG/model\\model-42000.\n",
      "\u001b[32m[0216 16:39:06 @monitor.py:467]\u001b[0m GAN_loss/discrim/accuracy_fake: 0.95\n",
      "\u001b[32m[0216 16:39:06 @monitor.py:467]\u001b[0m GAN_loss/discrim/accuracy_real: 0.15\n",
      "\u001b[32m[0216 16:39:06 @monitor.py:467]\u001b[0m GAN_loss/discrim/loss: 0.6435\n",
      "\u001b[32m[0216 16:39:06 @monitor.py:467]\u001b[0m GAN_loss/gen/final-g-loss: 1.1288\n",
      "\u001b[32m[0216 16:39:06 @monitor.py:467]\u001b[0m GAN_loss/gen/klloss: 0.17078\n",
      "\u001b[32m[0216 16:39:06 @monitor.py:467]\u001b[0m GAN_loss/gen/loss: 0.95802\n",
      "\u001b[32m[0216 16:39:06 @monitor.py:467]\u001b[0m QueueInput/queue_size: 50\n",
      "\u001b[32m[0216 16:39:06 @base.py:275]\u001b[0m Start Epoch 22 ...\n"
     ]
    },
    {
     "name": "stderr",
     "output_type": "stream",
     "text": [
      "100%|#################################################################################|2000/2000[00:40<00:00,49.80it/s]"
     ]
    },
    {
     "name": "stdout",
     "output_type": "stream",
     "text": [
      "\u001b[32m[0216 16:39:46 @base.py:285]\u001b[0m Epoch 22 (global_step 44000) finished, time:40.2 seconds.\n",
      "\u001b[32m[0216 16:39:46 @saver.py:79]\u001b[0m Model saved to ./output/DATGAN_AVG/model\\model-44000.\n",
      "\u001b[32m[0216 16:39:46 @monitor.py:467]\u001b[0m GAN_loss/discrim/accuracy_fake: 0.925\n",
      "\u001b[32m[0216 16:39:46 @monitor.py:467]\u001b[0m GAN_loss/discrim/accuracy_real: 0.115\n",
      "\u001b[32m[0216 16:39:46 @monitor.py:467]\u001b[0m GAN_loss/discrim/loss: 0.64366\n",
      "\u001b[32m[0216 16:39:46 @monitor.py:467]\u001b[0m GAN_loss/gen/final-g-loss: 1.0446\n",
      "\u001b[32m[0216 16:39:46 @monitor.py:467]\u001b[0m GAN_loss/gen/klloss: 0.097547\n",
      "\u001b[32m[0216 16:39:46 @monitor.py:467]\u001b[0m GAN_loss/gen/loss: 0.94707\n",
      "\u001b[32m[0216 16:39:46 @monitor.py:467]\u001b[0m QueueInput/queue_size: 50\n",
      "\u001b[32m[0216 16:39:46 @base.py:275]\u001b[0m Start Epoch 23 ...\n"
     ]
    },
    {
     "name": "stderr",
     "output_type": "stream",
     "text": [
      "\n",
      "100%|#################################################################################|2000/2000[00:39<00:00,50.15it/s]"
     ]
    },
    {
     "name": "stdout",
     "output_type": "stream",
     "text": [
      "\u001b[32m[0216 16:40:26 @base.py:285]\u001b[0m Epoch 23 (global_step 46000) finished, time:39.9 seconds.\n",
      "\u001b[32m[0216 16:40:26 @saver.py:79]\u001b[0m Model saved to ./output/DATGAN_AVG/model\\model-46000.\n",
      "\u001b[32m[0216 16:40:26 @monitor.py:467]\u001b[0m GAN_loss/discrim/accuracy_fake: 0.945\n",
      "\u001b[32m[0216 16:40:26 @monitor.py:467]\u001b[0m GAN_loss/discrim/accuracy_real: 0.095\n",
      "\u001b[32m[0216 16:40:26 @monitor.py:467]\u001b[0m GAN_loss/discrim/loss: 0.64461\n",
      "\u001b[32m[0216 16:40:26 @monitor.py:467]\u001b[0m GAN_loss/gen/final-g-loss: 1.0374\n",
      "\u001b[32m[0216 16:40:26 @monitor.py:467]\u001b[0m GAN_loss/gen/klloss: 0.096438\n",
      "\u001b[32m[0216 16:40:26 @monitor.py:467]\u001b[0m GAN_loss/gen/loss: 0.94095\n",
      "\u001b[32m[0216 16:40:26 @monitor.py:467]\u001b[0m QueueInput/queue_size: 50\n",
      "\u001b[32m[0216 16:40:26 @base.py:275]\u001b[0m Start Epoch 24 ...\n"
     ]
    },
    {
     "name": "stderr",
     "output_type": "stream",
     "text": [
      "\n",
      "100%|#################################################################################|2000/2000[00:40<00:00,49.59it/s]"
     ]
    },
    {
     "name": "stdout",
     "output_type": "stream",
     "text": [
      "\u001b[32m[0216 16:41:07 @base.py:285]\u001b[0m Epoch 24 (global_step 48000) finished, time:40.3 seconds.\n",
      "\u001b[32m[0216 16:41:07 @saver.py:79]\u001b[0m Model saved to ./output/DATGAN_AVG/model\\model-48000.\n",
      "\u001b[32m[0216 16:41:07 @monitor.py:467]\u001b[0m GAN_loss/discrim/accuracy_fake: 0.925\n",
      "\u001b[32m[0216 16:41:07 @monitor.py:467]\u001b[0m GAN_loss/discrim/accuracy_real: 0.125\n",
      "\u001b[32m[0216 16:41:07 @monitor.py:467]\u001b[0m GAN_loss/discrim/loss: 0.64715\n",
      "\u001b[32m[0216 16:41:07 @monitor.py:467]\u001b[0m GAN_loss/gen/final-g-loss: 1.0479\n",
      "\u001b[32m[0216 16:41:07 @monitor.py:467]\u001b[0m GAN_loss/gen/klloss: 0.10296\n",
      "\u001b[32m[0216 16:41:07 @monitor.py:467]\u001b[0m GAN_loss/gen/loss: 0.94499\n",
      "\u001b[32m[0216 16:41:07 @monitor.py:467]\u001b[0m QueueInput/queue_size: 50\n",
      "\u001b[32m[0216 16:41:07 @base.py:275]\u001b[0m Start Epoch 25 ...\n"
     ]
    },
    {
     "name": "stderr",
     "output_type": "stream",
     "text": [
      "\n",
      "100%|#################################################################################|2000/2000[00:41<00:00,48.36it/s]"
     ]
    },
    {
     "name": "stdout",
     "output_type": "stream",
     "text": [
      "\u001b[32m[0216 16:41:48 @base.py:285]\u001b[0m Epoch 25 (global_step 50000) finished, time:41.4 seconds.\n",
      "\u001b[32m[0216 16:41:48 @saver.py:79]\u001b[0m Model saved to ./output/DATGAN_AVG/model\\model-50000.\n",
      "\u001b[32m[0216 16:41:48 @monitor.py:467]\u001b[0m GAN_loss/discrim/accuracy_fake: 0.955\n",
      "\u001b[32m[0216 16:41:48 @monitor.py:467]\u001b[0m GAN_loss/discrim/accuracy_real: 0.135\n",
      "\u001b[32m[0216 16:41:48 @monitor.py:467]\u001b[0m GAN_loss/discrim/loss: 0.64359\n",
      "\u001b[32m[0216 16:41:48 @monitor.py:467]\u001b[0m GAN_loss/gen/final-g-loss: 1.0564\n",
      "\u001b[32m[0216 16:41:48 @monitor.py:467]\u001b[0m GAN_loss/gen/klloss: 0.10685\n",
      "\u001b[32m[0216 16:41:48 @monitor.py:467]\u001b[0m GAN_loss/gen/loss: 0.9495\n",
      "\u001b[32m[0216 16:41:48 @monitor.py:467]\u001b[0m QueueInput/queue_size: 50\n",
      "\u001b[32m[0216 16:41:48 @base.py:275]\u001b[0m Start Epoch 26 ...\n"
     ]
    },
    {
     "name": "stderr",
     "output_type": "stream",
     "text": [
      "\n",
      "100%|#################################################################################|2000/2000[00:40<00:00,49.12it/s]"
     ]
    },
    {
     "name": "stdout",
     "output_type": "stream",
     "text": [
      "\u001b[32m[0216 16:42:29 @base.py:285]\u001b[0m Epoch 26 (global_step 52000) finished, time:40.7 seconds.\n",
      "\u001b[32m[0216 16:42:29 @saver.py:79]\u001b[0m Model saved to ./output/DATGAN_AVG/model\\model-52000.\n",
      "\u001b[32m[0216 16:42:29 @monitor.py:467]\u001b[0m GAN_loss/discrim/accuracy_fake: 0.885\n",
      "\u001b[32m[0216 16:42:29 @monitor.py:467]\u001b[0m GAN_loss/discrim/accuracy_real: 0.155\n",
      "\u001b[32m[0216 16:42:29 @monitor.py:467]\u001b[0m GAN_loss/discrim/loss: 0.65431\n",
      "\u001b[32m[0216 16:42:29 @monitor.py:467]\u001b[0m GAN_loss/gen/final-g-loss: 1.0273\n",
      "\u001b[32m[0216 16:42:29 @monitor.py:467]\u001b[0m GAN_loss/gen/klloss: 0.10215\n",
      "\u001b[32m[0216 16:42:29 @monitor.py:467]\u001b[0m GAN_loss/gen/loss: 0.9252\n",
      "\u001b[32m[0216 16:42:29 @monitor.py:467]\u001b[0m QueueInput/queue_size: 50\n",
      "\u001b[32m[0216 16:42:29 @base.py:275]\u001b[0m Start Epoch 27 ...\n"
     ]
    },
    {
     "name": "stderr",
     "output_type": "stream",
     "text": [
      "\n",
      "100%|#################################################################################|2000/2000[00:40<00:00,49.20it/s]"
     ]
    },
    {
     "name": "stdout",
     "output_type": "stream",
     "text": [
      "\u001b[32m[0216 16:43:10 @base.py:285]\u001b[0m Epoch 27 (global_step 54000) finished, time:40.7 seconds.\n",
      "\u001b[32m[0216 16:43:10 @saver.py:79]\u001b[0m Model saved to ./output/DATGAN_AVG/model\\model-54000.\n",
      "\u001b[32m[0216 16:43:10 @monitor.py:467]\u001b[0m GAN_loss/discrim/accuracy_fake: 0.975\n",
      "\u001b[32m[0216 16:43:10 @monitor.py:467]\u001b[0m GAN_loss/discrim/accuracy_real: 0.13\n",
      "\u001b[32m[0216 16:43:10 @monitor.py:467]\u001b[0m GAN_loss/discrim/loss: 0.63416\n",
      "\u001b[32m[0216 16:43:10 @monitor.py:467]\u001b[0m GAN_loss/gen/final-g-loss: 1.0587\n",
      "\u001b[32m[0216 16:43:10 @monitor.py:467]\u001b[0m GAN_loss/gen/klloss: 0.097848\n",
      "\u001b[32m[0216 16:43:10 @monitor.py:467]\u001b[0m GAN_loss/gen/loss: 0.96085\n",
      "\u001b[32m[0216 16:43:10 @monitor.py:467]\u001b[0m QueueInput/queue_size: 50\n",
      "\u001b[32m[0216 16:43:10 @base.py:275]\u001b[0m Start Epoch 28 ...\n"
     ]
    },
    {
     "name": "stderr",
     "output_type": "stream",
     "text": [
      "\n",
      "100%|#################################################################################|2000/2000[00:40<00:00,49.04it/s]"
     ]
    },
    {
     "name": "stdout",
     "output_type": "stream",
     "text": [
      "\u001b[32m[0216 16:43:50 @base.py:285]\u001b[0m Epoch 28 (global_step 56000) finished, time:40.8 seconds.\n",
      "\u001b[32m[0216 16:43:50 @saver.py:79]\u001b[0m Model saved to ./output/DATGAN_AVG/model\\model-56000.\n",
      "\u001b[32m[0216 16:43:50 @monitor.py:467]\u001b[0m GAN_loss/discrim/accuracy_fake: 0.945\n",
      "\u001b[32m[0216 16:43:50 @monitor.py:467]\u001b[0m GAN_loss/discrim/accuracy_real: 0.13\n",
      "\u001b[32m[0216 16:43:50 @monitor.py:467]\u001b[0m GAN_loss/discrim/loss: 0.64193\n",
      "\u001b[32m[0216 16:43:50 @monitor.py:467]\u001b[0m GAN_loss/gen/final-g-loss: 1.0406\n",
      "\u001b[32m[0216 16:43:50 @monitor.py:467]\u001b[0m GAN_loss/gen/klloss: 0.099725\n",
      "\u001b[32m[0216 16:43:50 @monitor.py:467]\u001b[0m GAN_loss/gen/loss: 0.94083\n",
      "\u001b[32m[0216 16:43:50 @monitor.py:467]\u001b[0m QueueInput/queue_size: 50\n",
      "\u001b[32m[0216 16:43:50 @base.py:275]\u001b[0m Start Epoch 29 ...\n"
     ]
    },
    {
     "name": "stderr",
     "output_type": "stream",
     "text": [
      "\n",
      "100%|#################################################################################|2000/2000[00:40<00:00,49.55it/s]"
     ]
    },
    {
     "name": "stdout",
     "output_type": "stream",
     "text": [
      "\u001b[32m[0216 16:44:31 @base.py:285]\u001b[0m Epoch 29 (global_step 58000) finished, time:40.4 seconds.\n",
      "\u001b[32m[0216 16:44:31 @saver.py:79]\u001b[0m Model saved to ./output/DATGAN_AVG/model\\model-58000.\n",
      "\u001b[32m[0216 16:44:31 @monitor.py:467]\u001b[0m GAN_loss/discrim/accuracy_fake: 0.935\n",
      "\u001b[32m[0216 16:44:31 @monitor.py:467]\u001b[0m GAN_loss/discrim/accuracy_real: 0.13\n",
      "\u001b[32m[0216 16:44:31 @monitor.py:467]\u001b[0m GAN_loss/discrim/loss: 0.63782\n",
      "\u001b[32m[0216 16:44:31 @monitor.py:467]\u001b[0m GAN_loss/gen/final-g-loss: 1.065\n",
      "\u001b[32m[0216 16:44:31 @monitor.py:467]\u001b[0m GAN_loss/gen/klloss: 0.090841\n",
      "\u001b[32m[0216 16:44:31 @monitor.py:467]\u001b[0m GAN_loss/gen/loss: 0.97411\n",
      "\u001b[32m[0216 16:44:31 @monitor.py:467]\u001b[0m QueueInput/queue_size: 50\n",
      "\u001b[32m[0216 16:44:31 @base.py:275]\u001b[0m Start Epoch 30 ...\n"
     ]
    },
    {
     "name": "stderr",
     "output_type": "stream",
     "text": [
      "\n",
      "100%|#################################################################################|2000/2000[00:40<00:00,49.32it/s]"
     ]
    },
    {
     "name": "stdout",
     "output_type": "stream",
     "text": [
      "\u001b[32m[0216 16:45:11 @base.py:285]\u001b[0m Epoch 30 (global_step 60000) finished, time:40.5 seconds.\n",
      "\u001b[32m[0216 16:45:11 @saver.py:79]\u001b[0m Model saved to ./output/DATGAN_AVG/model\\model-60000.\n",
      "\u001b[32m[0216 16:45:11 @monitor.py:467]\u001b[0m GAN_loss/discrim/accuracy_fake: 0.95\n",
      "\u001b[32m[0216 16:45:11 @monitor.py:467]\u001b[0m GAN_loss/discrim/accuracy_real: 0.085\n",
      "\u001b[32m[0216 16:45:11 @monitor.py:467]\u001b[0m GAN_loss/discrim/loss: 0.64609\n",
      "\u001b[32m[0216 16:45:11 @monitor.py:467]\u001b[0m GAN_loss/gen/final-g-loss: 1.0541\n",
      "\u001b[32m[0216 16:45:11 @monitor.py:467]\u001b[0m GAN_loss/gen/klloss: 0.10374\n",
      "\u001b[32m[0216 16:45:11 @monitor.py:467]\u001b[0m GAN_loss/gen/loss: 0.95039\n",
      "\u001b[32m[0216 16:45:11 @monitor.py:467]\u001b[0m QueueInput/queue_size: 50\n",
      "\u001b[32m[0216 16:45:11 @base.py:275]\u001b[0m Start Epoch 31 ...\n"
     ]
    },
    {
     "name": "stderr",
     "output_type": "stream",
     "text": [
      "\n",
      "100%|#################################################################################|2000/2000[00:39<00:00,50.16it/s]"
     ]
    },
    {
     "name": "stdout",
     "output_type": "stream",
     "text": [
      "\u001b[32m[0216 16:45:51 @base.py:285]\u001b[0m Epoch 31 (global_step 62000) finished, time:39.9 seconds.\n",
      "\u001b[32m[0216 16:45:51 @saver.py:79]\u001b[0m Model saved to ./output/DATGAN_AVG/model\\model-62000.\n",
      "\u001b[32m[0216 16:45:51 @monitor.py:467]\u001b[0m GAN_loss/discrim/accuracy_fake: 0.92\n",
      "\u001b[32m[0216 16:45:51 @monitor.py:467]\u001b[0m GAN_loss/discrim/accuracy_real: 0.12\n",
      "\u001b[32m[0216 16:45:51 @monitor.py:467]\u001b[0m GAN_loss/discrim/loss: 0.6378\n",
      "\u001b[32m[0216 16:45:51 @monitor.py:467]\u001b[0m GAN_loss/gen/final-g-loss: 1.043\n",
      "\u001b[32m[0216 16:45:51 @monitor.py:467]\u001b[0m GAN_loss/gen/klloss: 0.096241\n",
      "\u001b[32m[0216 16:45:51 @monitor.py:467]\u001b[0m GAN_loss/gen/loss: 0.94677\n",
      "\u001b[32m[0216 16:45:51 @monitor.py:467]\u001b[0m QueueInput/queue_size: 50\n",
      "\u001b[32m[0216 16:45:51 @base.py:275]\u001b[0m Start Epoch 32 ...\n"
     ]
    },
    {
     "name": "stderr",
     "output_type": "stream",
     "text": [
      "\n",
      "100%|#################################################################################|2000/2000[00:40<00:00,49.52it/s]"
     ]
    },
    {
     "name": "stdout",
     "output_type": "stream",
     "text": [
      "\u001b[32m[0216 16:46:32 @base.py:285]\u001b[0m Epoch 32 (global_step 64000) finished, time:40.4 seconds.\n",
      "\u001b[32m[0216 16:46:32 @saver.py:79]\u001b[0m Model saved to ./output/DATGAN_AVG/model\\model-64000.\n",
      "\u001b[32m[0216 16:46:32 @monitor.py:467]\u001b[0m GAN_loss/discrim/accuracy_fake: 0.93\n",
      "\u001b[32m[0216 16:46:32 @monitor.py:467]\u001b[0m GAN_loss/discrim/accuracy_real: 0.115\n",
      "\u001b[32m[0216 16:46:32 @monitor.py:467]\u001b[0m GAN_loss/discrim/loss: 0.64771\n",
      "\u001b[32m[0216 16:46:32 @monitor.py:467]\u001b[0m GAN_loss/gen/final-g-loss: 1.049\n",
      "\u001b[32m[0216 16:46:32 @monitor.py:467]\u001b[0m GAN_loss/gen/klloss: 0.088986\n",
      "\u001b[32m[0216 16:46:32 @monitor.py:467]\u001b[0m GAN_loss/gen/loss: 0.96\n",
      "\u001b[32m[0216 16:46:32 @monitor.py:467]\u001b[0m QueueInput/queue_size: 50\n",
      "\u001b[32m[0216 16:46:32 @base.py:275]\u001b[0m Start Epoch 33 ...\n"
     ]
    },
    {
     "name": "stderr",
     "output_type": "stream",
     "text": [
      "\n",
      "100%|#################################################################################|2000/2000[00:40<00:00,49.97it/s]"
     ]
    },
    {
     "name": "stdout",
     "output_type": "stream",
     "text": [
      "\u001b[32m[0216 16:47:12 @base.py:285]\u001b[0m Epoch 33 (global_step 66000) finished, time:40 seconds.\n",
      "\u001b[32m[0216 16:47:12 @saver.py:79]\u001b[0m Model saved to ./output/DATGAN_AVG/model\\model-66000.\n",
      "\u001b[32m[0216 16:47:12 @monitor.py:467]\u001b[0m GAN_loss/discrim/accuracy_fake: 0.955\n",
      "\u001b[32m[0216 16:47:12 @monitor.py:467]\u001b[0m GAN_loss/discrim/accuracy_real: 0.135\n",
      "\u001b[32m[0216 16:47:12 @monitor.py:467]\u001b[0m GAN_loss/discrim/loss: 0.64043\n",
      "\u001b[32m[0216 16:47:12 @monitor.py:467]\u001b[0m GAN_loss/gen/final-g-loss: 1.1009\n",
      "\u001b[32m[0216 16:47:12 @monitor.py:467]\u001b[0m GAN_loss/gen/klloss: 0.13684\n",
      "\u001b[32m[0216 16:47:12 @monitor.py:467]\u001b[0m GAN_loss/gen/loss: 0.96409\n",
      "\u001b[32m[0216 16:47:12 @monitor.py:467]\u001b[0m QueueInput/queue_size: 50\n",
      "\u001b[32m[0216 16:47:12 @base.py:275]\u001b[0m Start Epoch 34 ...\n"
     ]
    },
    {
     "name": "stderr",
     "output_type": "stream",
     "text": [
      "\n",
      "100%|#################################################################################|2000/2000[00:40<00:00,49.15it/s]"
     ]
    },
    {
     "name": "stdout",
     "output_type": "stream",
     "text": [
      "\u001b[32m[0216 16:47:53 @base.py:285]\u001b[0m Epoch 34 (global_step 68000) finished, time:40.7 seconds.\n",
      "\u001b[32m[0216 16:47:53 @saver.py:79]\u001b[0m Model saved to ./output/DATGAN_AVG/model\\model-68000.\n",
      "\u001b[32m[0216 16:47:53 @monitor.py:467]\u001b[0m GAN_loss/discrim/accuracy_fake: 0.93\n",
      "\u001b[32m[0216 16:47:53 @monitor.py:467]\u001b[0m GAN_loss/discrim/accuracy_real: 0.12\n",
      "\u001b[32m[0216 16:47:53 @monitor.py:467]\u001b[0m GAN_loss/discrim/loss: 0.64083\n",
      "\u001b[32m[0216 16:47:53 @monitor.py:467]\u001b[0m GAN_loss/gen/final-g-loss: 1.0754\n",
      "\u001b[32m[0216 16:47:53 @monitor.py:467]\u001b[0m GAN_loss/gen/klloss: 0.12107\n",
      "\u001b[32m[0216 16:47:53 @monitor.py:467]\u001b[0m GAN_loss/gen/loss: 0.95437\n",
      "\u001b[32m[0216 16:47:53 @monitor.py:467]\u001b[0m QueueInput/queue_size: 50\n",
      "\u001b[32m[0216 16:47:53 @base.py:275]\u001b[0m Start Epoch 35 ...\n"
     ]
    },
    {
     "name": "stderr",
     "output_type": "stream",
     "text": [
      "\n",
      "100%|#################################################################################|2000/2000[00:40<00:00,49.18it/s]"
     ]
    },
    {
     "name": "stdout",
     "output_type": "stream",
     "text": [
      "\u001b[32m[0216 16:48:33 @base.py:285]\u001b[0m Epoch 35 (global_step 70000) finished, time:40.7 seconds.\n",
      "\u001b[32m[0216 16:48:33 @saver.py:79]\u001b[0m Model saved to ./output/DATGAN_AVG/model\\model-70000.\n",
      "\u001b[32m[0216 16:48:33 @monitor.py:467]\u001b[0m GAN_loss/discrim/accuracy_fake: 0.955\n",
      "\u001b[32m[0216 16:48:33 @monitor.py:467]\u001b[0m GAN_loss/discrim/accuracy_real: 0.185\n",
      "\u001b[32m[0216 16:48:33 @monitor.py:467]\u001b[0m GAN_loss/discrim/loss: 0.63227\n",
      "\u001b[32m[0216 16:48:33 @monitor.py:467]\u001b[0m GAN_loss/gen/final-g-loss: 1.0603\n",
      "\u001b[32m[0216 16:48:33 @monitor.py:467]\u001b[0m GAN_loss/gen/klloss: 0.10444\n",
      "\u001b[32m[0216 16:48:33 @monitor.py:467]\u001b[0m GAN_loss/gen/loss: 0.95584\n",
      "\u001b[32m[0216 16:48:33 @monitor.py:467]\u001b[0m QueueInput/queue_size: 50\n",
      "\u001b[32m[0216 16:48:33 @base.py:275]\u001b[0m Start Epoch 36 ...\n"
     ]
    },
    {
     "name": "stderr",
     "output_type": "stream",
     "text": [
      "\n",
      "100%|#################################################################################|2000/2000[00:40<00:00,49.80it/s]"
     ]
    },
    {
     "name": "stdout",
     "output_type": "stream",
     "text": [
      "\u001b[32m[0216 16:49:14 @base.py:285]\u001b[0m Epoch 36 (global_step 72000) finished, time:40.2 seconds.\n",
      "\u001b[32m[0216 16:49:14 @saver.py:79]\u001b[0m Model saved to ./output/DATGAN_AVG/model\\model-72000.\n",
      "\u001b[32m[0216 16:49:14 @monitor.py:467]\u001b[0m GAN_loss/discrim/accuracy_fake: 0.935\n",
      "\u001b[32m[0216 16:49:14 @monitor.py:467]\u001b[0m GAN_loss/discrim/accuracy_real: 0.12\n",
      "\u001b[32m[0216 16:49:14 @monitor.py:467]\u001b[0m GAN_loss/discrim/loss: 0.64271\n",
      "\u001b[32m[0216 16:49:14 @monitor.py:467]\u001b[0m GAN_loss/gen/final-g-loss: 1.1319\n",
      "\u001b[32m[0216 16:49:14 @monitor.py:467]\u001b[0m GAN_loss/gen/klloss: 0.16672\n",
      "\u001b[32m[0216 16:49:14 @monitor.py:467]\u001b[0m GAN_loss/gen/loss: 0.96513\n",
      "\u001b[32m[0216 16:49:14 @monitor.py:467]\u001b[0m QueueInput/queue_size: 50\n",
      "\u001b[32m[0216 16:49:14 @base.py:275]\u001b[0m Start Epoch 37 ...\n"
     ]
    },
    {
     "name": "stderr",
     "output_type": "stream",
     "text": [
      "\n",
      "100%|#################################################################################|2000/2000[00:40<00:00,49.31it/s]"
     ]
    },
    {
     "name": "stdout",
     "output_type": "stream",
     "text": [
      "\u001b[32m[0216 16:49:54 @base.py:285]\u001b[0m Epoch 37 (global_step 74000) finished, time:40.6 seconds.\n",
      "\u001b[32m[0216 16:49:54 @saver.py:79]\u001b[0m Model saved to ./output/DATGAN_AVG/model\\model-74000.\n",
      "\u001b[32m[0216 16:49:54 @monitor.py:467]\u001b[0m GAN_loss/discrim/accuracy_fake: 0.935\n",
      "\u001b[32m[0216 16:49:54 @monitor.py:467]\u001b[0m GAN_loss/discrim/accuracy_real: 0.115\n",
      "\u001b[32m[0216 16:49:54 @monitor.py:467]\u001b[0m GAN_loss/discrim/loss: 0.64778\n",
      "\u001b[32m[0216 16:49:54 @monitor.py:467]\u001b[0m GAN_loss/gen/final-g-loss: 1.0352\n",
      "\u001b[32m[0216 16:49:54 @monitor.py:467]\u001b[0m GAN_loss/gen/klloss: 0.099408\n",
      "\u001b[32m[0216 16:49:54 @monitor.py:467]\u001b[0m GAN_loss/gen/loss: 0.93581\n",
      "\u001b[32m[0216 16:49:54 @monitor.py:467]\u001b[0m QueueInput/queue_size: 50\n",
      "\u001b[32m[0216 16:49:54 @base.py:275]\u001b[0m Start Epoch 38 ...\n"
     ]
    },
    {
     "name": "stderr",
     "output_type": "stream",
     "text": [
      "\n",
      "100%|#################################################################################|2000/2000[00:40<00:00,49.84it/s]"
     ]
    },
    {
     "name": "stdout",
     "output_type": "stream",
     "text": [
      "\u001b[32m[0216 16:50:34 @base.py:285]\u001b[0m Epoch 38 (global_step 76000) finished, time:40.1 seconds.\n",
      "\u001b[32m[0216 16:50:34 @saver.py:79]\u001b[0m Model saved to ./output/DATGAN_AVG/model\\model-76000.\n",
      "\u001b[32m[0216 16:50:34 @monitor.py:467]\u001b[0m GAN_loss/discrim/accuracy_fake: 0.945\n",
      "\u001b[32m[0216 16:50:34 @monitor.py:467]\u001b[0m GAN_loss/discrim/accuracy_real: 0.14\n",
      "\u001b[32m[0216 16:50:34 @monitor.py:467]\u001b[0m GAN_loss/discrim/loss: 0.64095\n",
      "\u001b[32m[0216 16:50:34 @monitor.py:467]\u001b[0m GAN_loss/gen/final-g-loss: 1.0247\n",
      "\u001b[32m[0216 16:50:34 @monitor.py:467]\u001b[0m GAN_loss/gen/klloss: 0.074278\n",
      "\u001b[32m[0216 16:50:34 @monitor.py:467]\u001b[0m GAN_loss/gen/loss: 0.95041\n",
      "\u001b[32m[0216 16:50:34 @monitor.py:467]\u001b[0m QueueInput/queue_size: 50\n",
      "\u001b[32m[0216 16:50:34 @base.py:275]\u001b[0m Start Epoch 39 ...\n"
     ]
    },
    {
     "name": "stderr",
     "output_type": "stream",
     "text": [
      "\n",
      "100%|#################################################################################|2000/2000[00:40<00:00,49.09it/s]"
     ]
    },
    {
     "name": "stdout",
     "output_type": "stream",
     "text": [
      "\u001b[32m[0216 16:51:15 @base.py:285]\u001b[0m Epoch 39 (global_step 78000) finished, time:40.7 seconds.\n",
      "\u001b[32m[0216 16:51:15 @saver.py:79]\u001b[0m Model saved to ./output/DATGAN_AVG/model\\model-78000.\n",
      "\u001b[32m[0216 16:51:15 @monitor.py:467]\u001b[0m GAN_loss/discrim/accuracy_fake: 0.895\n",
      "\u001b[32m[0216 16:51:15 @monitor.py:467]\u001b[0m GAN_loss/discrim/accuracy_real: 0.14\n",
      "\u001b[32m[0216 16:51:15 @monitor.py:467]\u001b[0m GAN_loss/discrim/loss: 0.65183\n",
      "\u001b[32m[0216 16:51:15 @monitor.py:467]\u001b[0m GAN_loss/gen/final-g-loss: 1.0362\n",
      "\u001b[32m[0216 16:51:15 @monitor.py:467]\u001b[0m GAN_loss/gen/klloss: 0.10528\n",
      "\u001b[32m[0216 16:51:15 @monitor.py:467]\u001b[0m GAN_loss/gen/loss: 0.93094\n",
      "\u001b[32m[0216 16:51:15 @monitor.py:467]\u001b[0m QueueInput/queue_size: 50\n",
      "\u001b[32m[0216 16:51:15 @base.py:275]\u001b[0m Start Epoch 40 ...\n"
     ]
    },
    {
     "name": "stderr",
     "output_type": "stream",
     "text": [
      "\n",
      "100%|#################################################################################|2000/2000[00:40<00:00,49.46it/s]"
     ]
    },
    {
     "name": "stdout",
     "output_type": "stream",
     "text": [
      "\u001b[32m[0216 16:51:56 @base.py:285]\u001b[0m Epoch 40 (global_step 80000) finished, time:40.4 seconds.\n",
      "\u001b[32m[0216 16:51:56 @saver.py:79]\u001b[0m Model saved to ./output/DATGAN_AVG/model\\model-80000.\n",
      "\u001b[32m[0216 16:51:56 @monitor.py:467]\u001b[0m GAN_loss/discrim/accuracy_fake: 0.945\n",
      "\u001b[32m[0216 16:51:56 @monitor.py:467]\u001b[0m GAN_loss/discrim/accuracy_real: 0.095\n",
      "\u001b[32m[0216 16:51:56 @monitor.py:467]\u001b[0m GAN_loss/discrim/loss: 0.64491\n",
      "\u001b[32m[0216 16:51:56 @monitor.py:467]\u001b[0m GAN_loss/gen/final-g-loss: 1.0802\n",
      "\u001b[32m[0216 16:51:56 @monitor.py:467]\u001b[0m GAN_loss/gen/klloss: 0.1115\n",
      "\u001b[32m[0216 16:51:56 @monitor.py:467]\u001b[0m GAN_loss/gen/loss: 0.96867\n",
      "\u001b[32m[0216 16:51:56 @monitor.py:467]\u001b[0m QueueInput/queue_size: 50\n",
      "\u001b[32m[0216 16:51:56 @base.py:275]\u001b[0m Start Epoch 41 ...\n"
     ]
    },
    {
     "name": "stderr",
     "output_type": "stream",
     "text": [
      "\n",
      "100%|#################################################################################|2000/2000[00:40<00:00,49.07it/s]"
     ]
    },
    {
     "name": "stdout",
     "output_type": "stream",
     "text": [
      "\u001b[32m[0216 16:52:37 @base.py:285]\u001b[0m Epoch 41 (global_step 82000) finished, time:40.8 seconds.\n",
      "\u001b[32m[0216 16:52:37 @saver.py:79]\u001b[0m Model saved to ./output/DATGAN_AVG/model\\model-82000.\n",
      "\u001b[32m[0216 16:52:37 @monitor.py:467]\u001b[0m GAN_loss/discrim/accuracy_fake: 0.935\n",
      "\u001b[32m[0216 16:52:37 @monitor.py:467]\u001b[0m GAN_loss/discrim/accuracy_real: 0.115\n",
      "\u001b[32m[0216 16:52:37 @monitor.py:467]\u001b[0m GAN_loss/discrim/loss: 0.64951\n",
      "\u001b[32m[0216 16:52:37 @monitor.py:467]\u001b[0m GAN_loss/gen/final-g-loss: 1.0088\n",
      "\u001b[32m[0216 16:52:37 @monitor.py:467]\u001b[0m GAN_loss/gen/klloss: 0.0649\n",
      "\u001b[32m[0216 16:52:37 @monitor.py:467]\u001b[0m GAN_loss/gen/loss: 0.9439\n",
      "\u001b[32m[0216 16:52:37 @monitor.py:467]\u001b[0m QueueInput/queue_size: 50\n",
      "\u001b[32m[0216 16:52:37 @base.py:275]\u001b[0m Start Epoch 42 ...\n"
     ]
    },
    {
     "name": "stderr",
     "output_type": "stream",
     "text": [
      "\n",
      "100%|#################################################################################|2000/2000[00:41<00:00,48.66it/s]"
     ]
    },
    {
     "name": "stdout",
     "output_type": "stream",
     "text": [
      "\u001b[32m[0216 16:53:18 @base.py:285]\u001b[0m Epoch 42 (global_step 84000) finished, time:41.1 seconds.\n",
      "\u001b[32m[0216 16:53:18 @saver.py:79]\u001b[0m Model saved to ./output/DATGAN_AVG/model\\model-84000.\n",
      "\u001b[32m[0216 16:53:18 @monitor.py:467]\u001b[0m GAN_loss/discrim/accuracy_fake: 0.91\n",
      "\u001b[32m[0216 16:53:18 @monitor.py:467]\u001b[0m GAN_loss/discrim/accuracy_real: 0.145\n",
      "\u001b[32m[0216 16:53:18 @monitor.py:467]\u001b[0m GAN_loss/discrim/loss: 0.64793\n",
      "\u001b[32m[0216 16:53:18 @monitor.py:467]\u001b[0m GAN_loss/gen/final-g-loss: 1.0663\n",
      "\u001b[32m[0216 16:53:18 @monitor.py:467]\u001b[0m GAN_loss/gen/klloss: 0.11063\n",
      "\u001b[32m[0216 16:53:18 @monitor.py:467]\u001b[0m GAN_loss/gen/loss: 0.95567\n",
      "\u001b[32m[0216 16:53:18 @monitor.py:467]\u001b[0m QueueInput/queue_size: 50\n",
      "\u001b[32m[0216 16:53:18 @base.py:275]\u001b[0m Start Epoch 43 ...\n"
     ]
    },
    {
     "name": "stderr",
     "output_type": "stream",
     "text": [
      "\n",
      "100%|#################################################################################|2000/2000[00:40<00:00,49.21it/s]"
     ]
    },
    {
     "name": "stdout",
     "output_type": "stream",
     "text": [
      "\u001b[32m[0216 16:53:58 @base.py:285]\u001b[0m Epoch 43 (global_step 86000) finished, time:40.6 seconds.\n",
      "\u001b[32m[0216 16:53:59 @saver.py:79]\u001b[0m Model saved to ./output/DATGAN_AVG/model\\model-86000.\n",
      "\u001b[32m[0216 16:53:59 @monitor.py:467]\u001b[0m GAN_loss/discrim/accuracy_fake: 0.95\n",
      "\u001b[32m[0216 16:53:59 @monitor.py:467]\u001b[0m GAN_loss/discrim/accuracy_real: 0.19\n",
      "\u001b[32m[0216 16:53:59 @monitor.py:467]\u001b[0m GAN_loss/discrim/loss: 0.64215\n",
      "\u001b[32m[0216 16:53:59 @monitor.py:467]\u001b[0m GAN_loss/gen/final-g-loss: 1.0401\n",
      "\u001b[32m[0216 16:53:59 @monitor.py:467]\u001b[0m GAN_loss/gen/klloss: 0.087574\n",
      "\u001b[32m[0216 16:53:59 @monitor.py:467]\u001b[0m GAN_loss/gen/loss: 0.95254\n",
      "\u001b[32m[0216 16:53:59 @monitor.py:467]\u001b[0m QueueInput/queue_size: 50\n",
      "\u001b[32m[0216 16:53:59 @base.py:275]\u001b[0m Start Epoch 44 ...\n"
     ]
    },
    {
     "name": "stderr",
     "output_type": "stream",
     "text": [
      "\n",
      "100%|#################################################################################|2000/2000[00:41<00:00,48.00it/s]"
     ]
    },
    {
     "name": "stdout",
     "output_type": "stream",
     "text": [
      "\u001b[32m[0216 16:54:40 @base.py:285]\u001b[0m Epoch 44 (global_step 88000) finished, time:41.7 seconds.\n",
      "\u001b[32m[0216 16:54:40 @saver.py:79]\u001b[0m Model saved to ./output/DATGAN_AVG/model\\model-88000.\n",
      "\u001b[32m[0216 16:54:40 @monitor.py:467]\u001b[0m GAN_loss/discrim/accuracy_fake: 0.92\n",
      "\u001b[32m[0216 16:54:40 @monitor.py:467]\u001b[0m GAN_loss/discrim/accuracy_real: 0.17\n",
      "\u001b[32m[0216 16:54:40 @monitor.py:467]\u001b[0m GAN_loss/discrim/loss: 0.64025\n",
      "\u001b[32m[0216 16:54:40 @monitor.py:467]\u001b[0m GAN_loss/gen/final-g-loss: 1.0268\n",
      "\u001b[32m[0216 16:54:40 @monitor.py:467]\u001b[0m GAN_loss/gen/klloss: 0.089961\n",
      "\u001b[32m[0216 16:54:40 @monitor.py:467]\u001b[0m GAN_loss/gen/loss: 0.93682\n",
      "\u001b[32m[0216 16:54:40 @monitor.py:467]\u001b[0m QueueInput/queue_size: 50\n",
      "\u001b[32m[0216 16:54:40 @base.py:275]\u001b[0m Start Epoch 45 ...\n"
     ]
    },
    {
     "name": "stderr",
     "output_type": "stream",
     "text": [
      "\n",
      "100%|#################################################################################|2000/2000[00:41<00:00,48.66it/s]"
     ]
    },
    {
     "name": "stdout",
     "output_type": "stream",
     "text": [
      "\u001b[32m[0216 16:55:21 @base.py:285]\u001b[0m Epoch 45 (global_step 90000) finished, time:41.1 seconds.\n",
      "\u001b[32m[0216 16:55:21 @saver.py:79]\u001b[0m Model saved to ./output/DATGAN_AVG/model\\model-90000.\n",
      "\u001b[32m[0216 16:55:21 @monitor.py:467]\u001b[0m GAN_loss/discrim/accuracy_fake: 0.93\n",
      "\u001b[32m[0216 16:55:21 @monitor.py:467]\u001b[0m GAN_loss/discrim/accuracy_real: 0.08\n",
      "\u001b[32m[0216 16:55:21 @monitor.py:467]\u001b[0m GAN_loss/discrim/loss: 0.64953\n",
      "\u001b[32m[0216 16:55:21 @monitor.py:467]\u001b[0m GAN_loss/gen/final-g-loss: 1.1591\n",
      "\u001b[32m[0216 16:55:21 @monitor.py:467]\u001b[0m GAN_loss/gen/klloss: 0.20509\n",
      "\u001b[32m[0216 16:55:21 @monitor.py:467]\u001b[0m GAN_loss/gen/loss: 0.954\n",
      "\u001b[32m[0216 16:55:21 @monitor.py:467]\u001b[0m QueueInput/queue_size: 50\n",
      "\u001b[32m[0216 16:55:21 @base.py:275]\u001b[0m Start Epoch 46 ...\n"
     ]
    },
    {
     "name": "stderr",
     "output_type": "stream",
     "text": [
      "\n",
      "100%|#################################################################################|2000/2000[00:41<00:00,47.96it/s]"
     ]
    },
    {
     "name": "stdout",
     "output_type": "stream",
     "text": [
      "\u001b[32m[0216 16:56:03 @base.py:285]\u001b[0m Epoch 46 (global_step 92000) finished, time:41.7 seconds.\n",
      "\u001b[32m[0216 16:56:03 @saver.py:79]\u001b[0m Model saved to ./output/DATGAN_AVG/model\\model-92000.\n",
      "\u001b[32m[0216 16:56:03 @monitor.py:467]\u001b[0m GAN_loss/discrim/accuracy_fake: 0.935\n",
      "\u001b[32m[0216 16:56:03 @monitor.py:467]\u001b[0m GAN_loss/discrim/accuracy_real: 0.135\n",
      "\u001b[32m[0216 16:56:03 @monitor.py:467]\u001b[0m GAN_loss/discrim/loss: 0.64866\n",
      "\u001b[32m[0216 16:56:03 @monitor.py:467]\u001b[0m GAN_loss/gen/final-g-loss: 1.0337\n",
      "\u001b[32m[0216 16:56:03 @monitor.py:467]\u001b[0m GAN_loss/gen/klloss: 0.084862\n",
      "\u001b[32m[0216 16:56:03 @monitor.py:467]\u001b[0m GAN_loss/gen/loss: 0.94887\n",
      "\u001b[32m[0216 16:56:03 @monitor.py:467]\u001b[0m QueueInput/queue_size: 50\n",
      "\u001b[32m[0216 16:56:03 @base.py:275]\u001b[0m Start Epoch 47 ...\n"
     ]
    },
    {
     "name": "stderr",
     "output_type": "stream",
     "text": [
      "\n",
      "100%|#################################################################################|2000/2000[00:40<00:00,49.53it/s]"
     ]
    },
    {
     "name": "stdout",
     "output_type": "stream",
     "text": [
      "\u001b[32m[0216 16:56:44 @base.py:285]\u001b[0m Epoch 47 (global_step 94000) finished, time:40.4 seconds.\n",
      "\u001b[32m[0216 16:56:44 @saver.py:79]\u001b[0m Model saved to ./output/DATGAN_AVG/model\\model-94000.\n",
      "\u001b[32m[0216 16:56:44 @monitor.py:467]\u001b[0m GAN_loss/discrim/accuracy_fake: 0.935\n",
      "\u001b[32m[0216 16:56:44 @monitor.py:467]\u001b[0m GAN_loss/discrim/accuracy_real: 0.115\n",
      "\u001b[32m[0216 16:56:44 @monitor.py:467]\u001b[0m GAN_loss/discrim/loss: 0.64666\n",
      "\u001b[32m[0216 16:56:44 @monitor.py:467]\u001b[0m GAN_loss/gen/final-g-loss: 1.0323\n",
      "\u001b[32m[0216 16:56:44 @monitor.py:467]\u001b[0m GAN_loss/gen/klloss: 0.086944\n",
      "\u001b[32m[0216 16:56:44 @monitor.py:467]\u001b[0m GAN_loss/gen/loss: 0.94538\n",
      "\u001b[32m[0216 16:56:44 @monitor.py:467]\u001b[0m QueueInput/queue_size: 50\n",
      "\u001b[32m[0216 16:56:44 @base.py:275]\u001b[0m Start Epoch 48 ...\n"
     ]
    },
    {
     "name": "stderr",
     "output_type": "stream",
     "text": [
      "\n",
      "100%|#################################################################################|2000/2000[00:39<00:00,50.34it/s]"
     ]
    },
    {
     "name": "stdout",
     "output_type": "stream",
     "text": [
      "\u001b[32m[0216 16:57:23 @base.py:285]\u001b[0m Epoch 48 (global_step 96000) finished, time:39.7 seconds.\n",
      "\u001b[32m[0216 16:57:23 @saver.py:79]\u001b[0m Model saved to ./output/DATGAN_AVG/model\\model-96000.\n",
      "\u001b[32m[0216 16:57:23 @monitor.py:467]\u001b[0m GAN_loss/discrim/accuracy_fake: 0.945\n",
      "\u001b[32m[0216 16:57:23 @monitor.py:467]\u001b[0m GAN_loss/discrim/accuracy_real: 0.115\n",
      "\u001b[32m[0216 16:57:23 @monitor.py:467]\u001b[0m GAN_loss/discrim/loss: 0.63283\n",
      "\u001b[32m[0216 16:57:23 @monitor.py:467]\u001b[0m GAN_loss/gen/final-g-loss: 1.0744\n",
      "\u001b[32m[0216 16:57:23 @monitor.py:467]\u001b[0m GAN_loss/gen/klloss: 0.1098\n",
      "\u001b[32m[0216 16:57:23 @monitor.py:467]\u001b[0m GAN_loss/gen/loss: 0.96456\n",
      "\u001b[32m[0216 16:57:23 @monitor.py:467]\u001b[0m QueueInput/queue_size: 50\n",
      "\u001b[32m[0216 16:57:23 @base.py:275]\u001b[0m Start Epoch 49 ...\n"
     ]
    },
    {
     "name": "stderr",
     "output_type": "stream",
     "text": [
      "\n",
      "100%|#################################################################################|2000/2000[00:39<00:00,50.78it/s]"
     ]
    },
    {
     "name": "stdout",
     "output_type": "stream",
     "text": [
      "\u001b[32m[0216 16:58:03 @base.py:285]\u001b[0m Epoch 49 (global_step 98000) finished, time:39.4 seconds.\n",
      "\u001b[32m[0216 16:58:03 @saver.py:79]\u001b[0m Model saved to ./output/DATGAN_AVG/model\\model-98000.\n",
      "\u001b[32m[0216 16:58:03 @monitor.py:467]\u001b[0m GAN_loss/discrim/accuracy_fake: 0.91\n",
      "\u001b[32m[0216 16:58:03 @monitor.py:467]\u001b[0m GAN_loss/discrim/accuracy_real: 0.115\n",
      "\u001b[32m[0216 16:58:03 @monitor.py:467]\u001b[0m GAN_loss/discrim/loss: 0.64861\n",
      "\u001b[32m[0216 16:58:03 @monitor.py:467]\u001b[0m GAN_loss/gen/final-g-loss: 1.0632\n",
      "\u001b[32m[0216 16:58:03 @monitor.py:467]\u001b[0m GAN_loss/gen/klloss: 0.1192\n",
      "\u001b[32m[0216 16:58:03 @monitor.py:467]\u001b[0m GAN_loss/gen/loss: 0.94401\n",
      "\u001b[32m[0216 16:58:03 @monitor.py:467]\u001b[0m QueueInput/queue_size: 50\n",
      "\u001b[32m[0216 16:58:03 @base.py:275]\u001b[0m Start Epoch 50 ...\n"
     ]
    },
    {
     "name": "stderr",
     "output_type": "stream",
     "text": [
      "\n",
      "100%|#################################################################################|2000/2000[00:40<00:00,49.93it/s]"
     ]
    },
    {
     "name": "stdout",
     "output_type": "stream",
     "text": [
      "\u001b[32m[0216 16:58:43 @base.py:285]\u001b[0m Epoch 50 (global_step 100000) finished, time:40.1 seconds.\n",
      "\u001b[32m[0216 16:58:43 @saver.py:79]\u001b[0m Model saved to ./output/DATGAN_AVG/model\\model-100000.\n",
      "\u001b[32m[0216 16:58:43 @monitor.py:467]\u001b[0m GAN_loss/discrim/accuracy_fake: 0.965\n",
      "\u001b[32m[0216 16:58:43 @monitor.py:467]\u001b[0m GAN_loss/discrim/accuracy_real: 0.105\n",
      "\u001b[32m[0216 16:58:43 @monitor.py:467]\u001b[0m GAN_loss/discrim/loss: 0.65521\n",
      "\u001b[32m[0216 16:58:43 @monitor.py:467]\u001b[0m GAN_loss/gen/final-g-loss: 1.1583\n",
      "\u001b[32m[0216 16:58:43 @monitor.py:467]\u001b[0m GAN_loss/gen/klloss: 0.2067\n",
      "\u001b[32m[0216 16:58:43 @monitor.py:467]\u001b[0m GAN_loss/gen/loss: 0.95163\n",
      "\u001b[32m[0216 16:58:43 @monitor.py:467]\u001b[0m QueueInput/queue_size: 50\n",
      "\u001b[32m[0216 16:58:43 @base.py:275]\u001b[0m Start Epoch 51 ...\n"
     ]
    },
    {
     "name": "stderr",
     "output_type": "stream",
     "text": [
      "\n",
      "100%|#################################################################################|2000/2000[00:38<00:00,51.57it/s]"
     ]
    },
    {
     "name": "stdout",
     "output_type": "stream",
     "text": [
      "\u001b[32m[0216 16:59:22 @base.py:285]\u001b[0m Epoch 51 (global_step 102000) finished, time:38.8 seconds.\n",
      "\u001b[32m[0216 16:59:22 @saver.py:79]\u001b[0m Model saved to ./output/DATGAN_AVG/model\\model-102000.\n",
      "\u001b[32m[0216 16:59:22 @monitor.py:467]\u001b[0m GAN_loss/discrim/accuracy_fake: 0.935\n",
      "\u001b[32m[0216 16:59:22 @monitor.py:467]\u001b[0m GAN_loss/discrim/accuracy_real: 0.085\n",
      "\u001b[32m[0216 16:59:22 @monitor.py:467]\u001b[0m GAN_loss/discrim/loss: 0.64332\n",
      "\u001b[32m[0216 16:59:22 @monitor.py:467]\u001b[0m GAN_loss/gen/final-g-loss: 1.0677\n",
      "\u001b[32m[0216 16:59:22 @monitor.py:467]\u001b[0m GAN_loss/gen/klloss: 0.10846\n",
      "\u001b[32m[0216 16:59:22 @monitor.py:467]\u001b[0m GAN_loss/gen/loss: 0.95923\n",
      "\u001b[32m[0216 16:59:22 @monitor.py:467]\u001b[0m QueueInput/queue_size: 50\n",
      "\u001b[32m[0216 16:59:22 @base.py:275]\u001b[0m Start Epoch 52 ...\n"
     ]
    },
    {
     "name": "stderr",
     "output_type": "stream",
     "text": [
      "\n",
      "100%|#################################################################################|2000/2000[00:39<00:00,51.21it/s]"
     ]
    },
    {
     "name": "stdout",
     "output_type": "stream",
     "text": [
      "\u001b[32m[0216 17:00:01 @base.py:285]\u001b[0m Epoch 52 (global_step 104000) finished, time:39.1 seconds.\n",
      "\u001b[32m[0216 17:00:01 @saver.py:79]\u001b[0m Model saved to ./output/DATGAN_AVG/model\\model-104000.\n",
      "\u001b[32m[0216 17:00:01 @monitor.py:467]\u001b[0m GAN_loss/discrim/accuracy_fake: 0.92\n",
      "\u001b[32m[0216 17:00:01 @monitor.py:467]\u001b[0m GAN_loss/discrim/accuracy_real: 0.14\n",
      "\u001b[32m[0216 17:00:01 @monitor.py:467]\u001b[0m GAN_loss/discrim/loss: 0.65318\n",
      "\u001b[32m[0216 17:00:01 @monitor.py:467]\u001b[0m GAN_loss/gen/final-g-loss: 1.0413\n",
      "\u001b[32m[0216 17:00:01 @monitor.py:467]\u001b[0m GAN_loss/gen/klloss: 0.10848\n",
      "\u001b[32m[0216 17:00:01 @monitor.py:467]\u001b[0m GAN_loss/gen/loss: 0.93283\n",
      "\u001b[32m[0216 17:00:01 @monitor.py:467]\u001b[0m QueueInput/queue_size: 50\n",
      "\u001b[32m[0216 17:00:01 @base.py:275]\u001b[0m Start Epoch 53 ...\n"
     ]
    },
    {
     "name": "stderr",
     "output_type": "stream",
     "text": [
      "\n",
      "100%|#################################################################################|2000/2000[00:39<00:00,51.01it/s]"
     ]
    },
    {
     "name": "stdout",
     "output_type": "stream",
     "text": [
      "\u001b[32m[0216 17:00:40 @base.py:285]\u001b[0m Epoch 53 (global_step 106000) finished, time:39.2 seconds.\n",
      "\u001b[32m[0216 17:00:40 @saver.py:79]\u001b[0m Model saved to ./output/DATGAN_AVG/model\\model-106000.\n",
      "\u001b[32m[0216 17:00:40 @monitor.py:467]\u001b[0m GAN_loss/discrim/accuracy_fake: 0.92\n",
      "\u001b[32m[0216 17:00:40 @monitor.py:467]\u001b[0m GAN_loss/discrim/accuracy_real: 0.085\n",
      "\u001b[32m[0216 17:00:40 @monitor.py:467]\u001b[0m GAN_loss/discrim/loss: 0.64887\n",
      "\u001b[32m[0216 17:00:40 @monitor.py:467]\u001b[0m GAN_loss/gen/final-g-loss: 1.0558\n",
      "\u001b[32m[0216 17:00:40 @monitor.py:467]\u001b[0m GAN_loss/gen/klloss: 0.11301\n",
      "\u001b[32m[0216 17:00:40 @monitor.py:467]\u001b[0m GAN_loss/gen/loss: 0.9428\n",
      "\u001b[32m[0216 17:00:40 @monitor.py:467]\u001b[0m QueueInput/queue_size: 50\n",
      "\u001b[32m[0216 17:00:40 @base.py:275]\u001b[0m Start Epoch 54 ...\n"
     ]
    },
    {
     "name": "stderr",
     "output_type": "stream",
     "text": [
      "\n",
      "100%|#################################################################################|2000/2000[00:39<00:00,50.48it/s]"
     ]
    },
    {
     "name": "stdout",
     "output_type": "stream",
     "text": [
      "\u001b[32m[0216 17:01:20 @base.py:285]\u001b[0m Epoch 54 (global_step 108000) finished, time:39.6 seconds.\n",
      "\u001b[32m[0216 17:01:20 @saver.py:79]\u001b[0m Model saved to ./output/DATGAN_AVG/model\\model-108000.\n",
      "\u001b[32m[0216 17:01:20 @monitor.py:467]\u001b[0m GAN_loss/discrim/accuracy_fake: 0.925\n",
      "\u001b[32m[0216 17:01:20 @monitor.py:467]\u001b[0m GAN_loss/discrim/accuracy_real: 0.105\n",
      "\u001b[32m[0216 17:01:20 @monitor.py:467]\u001b[0m GAN_loss/discrim/loss: 0.63797\n",
      "\u001b[32m[0216 17:01:20 @monitor.py:467]\u001b[0m GAN_loss/gen/final-g-loss: 1.0361\n",
      "\u001b[32m[0216 17:01:20 @monitor.py:467]\u001b[0m GAN_loss/gen/klloss: 0.08299\n",
      "\u001b[32m[0216 17:01:20 @monitor.py:467]\u001b[0m GAN_loss/gen/loss: 0.95312\n",
      "\u001b[32m[0216 17:01:20 @monitor.py:467]\u001b[0m QueueInput/queue_size: 50\n",
      "\u001b[32m[0216 17:01:20 @base.py:275]\u001b[0m Start Epoch 55 ...\n"
     ]
    },
    {
     "name": "stderr",
     "output_type": "stream",
     "text": [
      "\n",
      "100%|#################################################################################|2000/2000[00:38<00:00,52.28it/s]"
     ]
    },
    {
     "name": "stdout",
     "output_type": "stream",
     "text": [
      "\u001b[32m[0216 17:01:58 @base.py:285]\u001b[0m Epoch 55 (global_step 110000) finished, time:38.3 seconds.\n",
      "\u001b[32m[0216 17:01:58 @saver.py:79]\u001b[0m Model saved to ./output/DATGAN_AVG/model\\model-110000.\n",
      "\u001b[32m[0216 17:01:58 @monitor.py:467]\u001b[0m GAN_loss/discrim/accuracy_fake: 0.945\n"
     ]
    },
    {
     "name": "stderr",
     "output_type": "stream",
     "text": [
      "\n"
     ]
    },
    {
     "name": "stdout",
     "output_type": "stream",
     "text": [
      "\u001b[32m[0216 17:01:58 @monitor.py:467]\u001b[0m GAN_loss/discrim/accuracy_real: 0.13\n",
      "\u001b[32m[0216 17:01:58 @monitor.py:467]\u001b[0m GAN_loss/discrim/loss: 0.64681\n",
      "\u001b[32m[0216 17:01:58 @monitor.py:467]\u001b[0m GAN_loss/gen/final-g-loss: 1.0472\n",
      "\u001b[32m[0216 17:01:58 @monitor.py:467]\u001b[0m GAN_loss/gen/klloss: 0.10325\n",
      "\u001b[32m[0216 17:01:58 @monitor.py:467]\u001b[0m GAN_loss/gen/loss: 0.94398\n",
      "\u001b[32m[0216 17:01:58 @monitor.py:467]\u001b[0m QueueInput/queue_size: 50\n",
      "\u001b[32m[0216 17:01:58 @base.py:275]\u001b[0m Start Epoch 56 ...\n"
     ]
    },
    {
     "name": "stderr",
     "output_type": "stream",
     "text": [
      "100%|#################################################################################|2000/2000[00:38<00:00,51.95it/s]"
     ]
    },
    {
     "name": "stdout",
     "output_type": "stream",
     "text": [
      "\u001b[32m[0216 17:02:37 @base.py:285]\u001b[0m Epoch 56 (global_step 112000) finished, time:38.5 seconds.\n",
      "\u001b[32m[0216 17:02:37 @saver.py:79]\u001b[0m Model saved to ./output/DATGAN_AVG/model\\model-112000.\n",
      "\u001b[32m[0216 17:02:37 @monitor.py:467]\u001b[0m GAN_loss/discrim/accuracy_fake: 0.935\n",
      "\u001b[32m[0216 17:02:37 @monitor.py:467]\u001b[0m GAN_loss/discrim/accuracy_real: 0.17\n",
      "\u001b[32m[0216 17:02:37 @monitor.py:467]\u001b[0m GAN_loss/discrim/loss: 0.64105\n",
      "\u001b[32m[0216 17:02:37 @monitor.py:467]\u001b[0m GAN_loss/gen/final-g-loss: 1.0014\n",
      "\u001b[32m[0216 17:02:37 @monitor.py:467]\u001b[0m GAN_loss/gen/klloss: 0.060161\n",
      "\u001b[32m[0216 17:02:37 @monitor.py:467]\u001b[0m GAN_loss/gen/loss: 0.9412\n",
      "\u001b[32m[0216 17:02:37 @monitor.py:467]\u001b[0m QueueInput/queue_size: 50\n",
      "\u001b[32m[0216 17:02:37 @base.py:275]\u001b[0m Start Epoch 57 ...\n"
     ]
    },
    {
     "name": "stderr",
     "output_type": "stream",
     "text": [
      "\n",
      "100%|#################################################################################|2000/2000[00:38<00:00,51.59it/s]"
     ]
    },
    {
     "name": "stdout",
     "output_type": "stream",
     "text": [
      "\u001b[32m[0216 17:03:16 @base.py:285]\u001b[0m Epoch 57 (global_step 114000) finished, time:38.8 seconds.\n"
     ]
    },
    {
     "name": "stderr",
     "output_type": "stream",
     "text": [
      "\n"
     ]
    },
    {
     "name": "stdout",
     "output_type": "stream",
     "text": [
      "\u001b[32m[0216 17:03:16 @saver.py:79]\u001b[0m Model saved to ./output/DATGAN_AVG/model\\model-114000.\n",
      "\u001b[32m[0216 17:03:16 @monitor.py:467]\u001b[0m GAN_loss/discrim/accuracy_fake: 0.97\n",
      "\u001b[32m[0216 17:03:16 @monitor.py:467]\u001b[0m GAN_loss/discrim/accuracy_real: 0.11\n",
      "\u001b[32m[0216 17:03:16 @monitor.py:467]\u001b[0m GAN_loss/discrim/loss: 0.64018\n",
      "\u001b[32m[0216 17:03:16 @monitor.py:467]\u001b[0m GAN_loss/gen/final-g-loss: 1.0994\n",
      "\u001b[32m[0216 17:03:16 @monitor.py:467]\u001b[0m GAN_loss/gen/klloss: 0.13488\n",
      "\u001b[32m[0216 17:03:16 @monitor.py:467]\u001b[0m GAN_loss/gen/loss: 0.96456\n",
      "\u001b[32m[0216 17:03:16 @monitor.py:467]\u001b[0m QueueInput/queue_size: 50\n",
      "\u001b[32m[0216 17:03:16 @base.py:275]\u001b[0m Start Epoch 58 ...\n"
     ]
    },
    {
     "name": "stderr",
     "output_type": "stream",
     "text": [
      "100%|#################################################################################|2000/2000[00:38<00:00,52.59it/s]"
     ]
    },
    {
     "name": "stdout",
     "output_type": "stream",
     "text": [
      "\u001b[32m[0216 17:03:54 @base.py:285]\u001b[0m Epoch 58 (global_step 116000) finished, time:38 seconds.\n",
      "\u001b[32m[0216 17:03:54 @saver.py:79]\u001b[0m Model saved to ./output/DATGAN_AVG/model\\model-116000.\n",
      "\u001b[32m[0216 17:03:54 @monitor.py:467]\u001b[0m GAN_loss/discrim/accuracy_fake: 0.92\n",
      "\u001b[32m[0216 17:03:54 @monitor.py:467]\u001b[0m GAN_loss/discrim/accuracy_real: 0.105\n",
      "\u001b[32m[0216 17:03:54 @monitor.py:467]\u001b[0m GAN_loss/discrim/loss: 0.65089\n",
      "\u001b[32m[0216 17:03:54 @monitor.py:467]\u001b[0m GAN_loss/gen/final-g-loss: 1.0718\n",
      "\u001b[32m[0216 17:03:54 @monitor.py:467]\u001b[0m GAN_loss/gen/klloss: 0.12279\n",
      "\u001b[32m[0216 17:03:54 @monitor.py:467]\u001b[0m GAN_loss/gen/loss: 0.94899\n",
      "\u001b[32m[0216 17:03:54 @monitor.py:467]\u001b[0m QueueInput/queue_size: 50\n",
      "\u001b[32m[0216 17:03:54 @base.py:275]\u001b[0m Start Epoch 59 ...\n"
     ]
    },
    {
     "name": "stderr",
     "output_type": "stream",
     "text": [
      "\n",
      "100%|#################################################################################|2000/2000[00:38<00:00,52.61it/s]"
     ]
    },
    {
     "name": "stdout",
     "output_type": "stream",
     "text": [
      "\u001b[32m[0216 17:04:32 @base.py:285]\u001b[0m Epoch 59 (global_step 118000) finished, time:38 seconds.\n",
      "\u001b[32m[0216 17:04:32 @saver.py:79]\u001b[0m Model saved to ./output/DATGAN_AVG/model\\model-118000.\n",
      "\u001b[32m[0216 17:04:32 @monitor.py:467]\u001b[0m GAN_loss/discrim/accuracy_fake: 0.93\n",
      "\u001b[32m[0216 17:04:32 @monitor.py:467]\u001b[0m GAN_loss/discrim/accuracy_real: 0.115\n",
      "\u001b[32m[0216 17:04:32 @monitor.py:467]\u001b[0m GAN_loss/discrim/loss: 0.6352\n",
      "\u001b[32m[0216 17:04:32 @monitor.py:467]\u001b[0m GAN_loss/gen/final-g-loss: 1.0816\n",
      "\u001b[32m[0216 17:04:32 @monitor.py:467]\u001b[0m GAN_loss/gen/klloss: 0.11738\n",
      "\u001b[32m[0216 17:04:32 @monitor.py:467]\u001b[0m GAN_loss/gen/loss: 0.96425\n",
      "\u001b[32m[0216 17:04:32 @monitor.py:467]\u001b[0m QueueInput/queue_size: 50\n",
      "\u001b[32m[0216 17:04:32 @base.py:275]\u001b[0m Start Epoch 60 ...\n"
     ]
    },
    {
     "name": "stderr",
     "output_type": "stream",
     "text": [
      "\n",
      "100%|#################################################################################|2000/2000[00:38<00:00,51.98it/s]"
     ]
    },
    {
     "name": "stdout",
     "output_type": "stream",
     "text": [
      "\u001b[32m[0216 17:05:10 @base.py:285]\u001b[0m Epoch 60 (global_step 120000) finished, time:38.5 seconds.\n",
      "\u001b[32m[0216 17:05:10 @saver.py:79]\u001b[0m Model saved to ./output/DATGAN_AVG/model\\model-120000.\n",
      "\u001b[32m[0216 17:05:10 @monitor.py:467]\u001b[0m GAN_loss/discrim/accuracy_fake: 0.91\n",
      "\u001b[32m[0216 17:05:10 @monitor.py:467]\u001b[0m GAN_loss/discrim/accuracy_real: 0.125\n",
      "\u001b[32m[0216 17:05:10 @monitor.py:467]\u001b[0m GAN_loss/discrim/loss: 0.64909\n",
      "\u001b[32m[0216 17:05:10 @monitor.py:467]\u001b[0m GAN_loss/gen/final-g-loss: 1.025\n",
      "\u001b[32m[0216 17:05:10 @monitor.py:467]\u001b[0m GAN_loss/gen/klloss: 0.085529\n",
      "\u001b[32m[0216 17:05:10 @monitor.py:467]\u001b[0m GAN_loss/gen/loss: 0.93945\n",
      "\u001b[32m[0216 17:05:10 @monitor.py:467]\u001b[0m QueueInput/queue_size: 50\n",
      "\u001b[32m[0216 17:05:10 @base.py:275]\u001b[0m Start Epoch 61 ...\n"
     ]
    },
    {
     "name": "stderr",
     "output_type": "stream",
     "text": [
      "\n",
      "100%|#################################################################################|2000/2000[00:37<00:00,52.64it/s]"
     ]
    },
    {
     "name": "stdout",
     "output_type": "stream",
     "text": [
      "\u001b[32m[0216 17:05:48 @base.py:285]\u001b[0m Epoch 61 (global_step 122000) finished, time:38 seconds.\n",
      "\u001b[32m[0216 17:05:49 @saver.py:79]\u001b[0m Model saved to ./output/DATGAN_AVG/model\\model-122000.\n",
      "\u001b[32m[0216 17:05:49 @monitor.py:467]\u001b[0m GAN_loss/discrim/accuracy_fake: 0.945\n",
      "\u001b[32m[0216 17:05:49 @monitor.py:467]\u001b[0m GAN_loss/discrim/accuracy_real: 0.135\n",
      "\u001b[32m[0216 17:05:49 @monitor.py:467]\u001b[0m GAN_loss/discrim/loss: 0.63701\n",
      "\u001b[32m[0216 17:05:49 @monitor.py:467]\u001b[0m GAN_loss/gen/final-g-loss: 1.0464\n",
      "\u001b[32m[0216 17:05:49 @monitor.py:467]\u001b[0m GAN_loss/gen/klloss: 0.089542\n",
      "\u001b[32m[0216 17:05:49 @monitor.py:467]\u001b[0m GAN_loss/gen/loss: 0.95687\n",
      "\u001b[32m[0216 17:05:49 @monitor.py:467]\u001b[0m QueueInput/queue_size: 50\n",
      "\u001b[32m[0216 17:05:49 @base.py:275]\u001b[0m Start Epoch 62 ...\n"
     ]
    },
    {
     "name": "stderr",
     "output_type": "stream",
     "text": [
      "\n",
      "100%|#################################################################################|2000/2000[00:37<00:00,52.66it/s]"
     ]
    },
    {
     "name": "stdout",
     "output_type": "stream",
     "text": [
      "\u001b[32m[0216 17:06:27 @base.py:285]\u001b[0m Epoch 62 (global_step 124000) finished, time:38 seconds.\n",
      "\u001b[32m[0216 17:06:27 @saver.py:79]\u001b[0m Model saved to ./output/DATGAN_AVG/model\\model-124000.\n",
      "\u001b[32m[0216 17:06:27 @monitor.py:467]\u001b[0m GAN_loss/discrim/accuracy_fake: 0.92\n",
      "\u001b[32m[0216 17:06:27 @monitor.py:467]\u001b[0m GAN_loss/discrim/accuracy_real: 0.125\n",
      "\u001b[32m[0216 17:06:27 @monitor.py:467]\u001b[0m GAN_loss/discrim/loss: 0.6402\n",
      "\u001b[32m[0216 17:06:27 @monitor.py:467]\u001b[0m GAN_loss/gen/final-g-loss: 1.0445\n",
      "\u001b[32m[0216 17:06:27 @monitor.py:467]\u001b[0m GAN_loss/gen/klloss: 0.083404\n",
      "\u001b[32m[0216 17:06:27 @monitor.py:467]\u001b[0m GAN_loss/gen/loss: 0.96111\n",
      "\u001b[32m[0216 17:06:27 @monitor.py:467]\u001b[0m QueueInput/queue_size: 50\n",
      "\u001b[32m[0216 17:06:27 @base.py:275]\u001b[0m Start Epoch 63 ...\n"
     ]
    },
    {
     "name": "stderr",
     "output_type": "stream",
     "text": [
      "\n",
      "100%|#################################################################################|2000/2000[00:37<00:00,52.69it/s]"
     ]
    },
    {
     "name": "stdout",
     "output_type": "stream",
     "text": [
      "\u001b[32m[0216 17:07:05 @base.py:285]\u001b[0m Epoch 63 (global_step 126000) finished, time:38 seconds.\n",
      "\u001b[32m[0216 17:07:05 @saver.py:79]\u001b[0m Model saved to ./output/DATGAN_AVG/model\\model-126000.\n",
      "\u001b[32m[0216 17:07:05 @monitor.py:467]\u001b[0m GAN_loss/discrim/accuracy_fake: 0.95\n",
      "\u001b[32m[0216 17:07:05 @monitor.py:467]\u001b[0m GAN_loss/discrim/accuracy_real: 0.13\n",
      "\u001b[32m[0216 17:07:05 @monitor.py:467]\u001b[0m GAN_loss/discrim/loss: 0.63754\n",
      "\u001b[32m[0216 17:07:05 @monitor.py:467]\u001b[0m GAN_loss/gen/final-g-loss: 1.0591\n",
      "\u001b[32m[0216 17:07:05 @monitor.py:467]\u001b[0m GAN_loss/gen/klloss: 0.093575\n",
      "\u001b[32m[0216 17:07:05 @monitor.py:467]\u001b[0m GAN_loss/gen/loss: 0.96551\n",
      "\u001b[32m[0216 17:07:05 @monitor.py:467]\u001b[0m QueueInput/queue_size: 50\n",
      "\u001b[32m[0216 17:07:05 @base.py:275]\u001b[0m Start Epoch 64 ...\n"
     ]
    },
    {
     "name": "stderr",
     "output_type": "stream",
     "text": [
      "\n",
      "100%|#################################################################################|2000/2000[00:37<00:00,52.71it/s]"
     ]
    },
    {
     "name": "stdout",
     "output_type": "stream",
     "text": [
      "\u001b[32m[0216 17:07:43 @base.py:285]\u001b[0m Epoch 64 (global_step 128000) finished, time:37.9 seconds.\n",
      "\u001b[32m[0216 17:07:43 @saver.py:79]\u001b[0m Model saved to ./output/DATGAN_AVG/model\\model-128000.\n",
      "\u001b[32m[0216 17:07:43 @monitor.py:467]\u001b[0m GAN_loss/discrim/accuracy_fake: 0.925\n",
      "\u001b[32m[0216 17:07:43 @monitor.py:467]\u001b[0m GAN_loss/discrim/accuracy_real: 0.075\n",
      "\u001b[32m[0216 17:07:43 @monitor.py:467]\u001b[0m GAN_loss/discrim/loss: 0.64398\n",
      "\u001b[32m[0216 17:07:43 @monitor.py:467]\u001b[0m GAN_loss/gen/final-g-loss: 1.0376\n",
      "\u001b[32m[0216 17:07:43 @monitor.py:467]\u001b[0m GAN_loss/gen/klloss: 0.081749\n",
      "\u001b[32m[0216 17:07:43 @monitor.py:467]\u001b[0m GAN_loss/gen/loss: 0.95581\n",
      "\u001b[32m[0216 17:07:43 @monitor.py:467]\u001b[0m QueueInput/queue_size: 50\n",
      "\u001b[32m[0216 17:07:43 @base.py:275]\u001b[0m Start Epoch 65 ...\n"
     ]
    },
    {
     "name": "stderr",
     "output_type": "stream",
     "text": [
      "\n",
      "100%|#################################################################################|2000/2000[00:37<00:00,52.73it/s]"
     ]
    },
    {
     "name": "stdout",
     "output_type": "stream",
     "text": [
      "\u001b[32m[0216 17:08:21 @base.py:285]\u001b[0m Epoch 65 (global_step 130000) finished, time:37.9 seconds.\n",
      "\u001b[32m[0216 17:08:21 @saver.py:79]\u001b[0m Model saved to ./output/DATGAN_AVG/model\\model-130000.\n",
      "\u001b[32m[0216 17:08:21 @monitor.py:467]\u001b[0m GAN_loss/discrim/accuracy_fake: 0.935\n",
      "\u001b[32m[0216 17:08:21 @monitor.py:467]\u001b[0m GAN_loss/discrim/accuracy_real: 0.105\n",
      "\u001b[32m[0216 17:08:21 @monitor.py:467]\u001b[0m GAN_loss/discrim/loss: 0.6481\n",
      "\u001b[32m[0216 17:08:21 @monitor.py:467]\u001b[0m GAN_loss/gen/final-g-loss: 1.0658\n",
      "\u001b[32m[0216 17:08:21 @monitor.py:467]\u001b[0m GAN_loss/gen/klloss: 0.1017\n",
      "\u001b[32m[0216 17:08:21 @monitor.py:467]\u001b[0m GAN_loss/gen/loss: 0.96407\n",
      "\u001b[32m[0216 17:08:21 @monitor.py:467]\u001b[0m QueueInput/queue_size: 50\n",
      "\u001b[32m[0216 17:08:21 @base.py:275]\u001b[0m Start Epoch 66 ...\n"
     ]
    },
    {
     "name": "stderr",
     "output_type": "stream",
     "text": [
      "\n",
      "100%|#################################################################################|2000/2000[00:37<00:00,52.63it/s]"
     ]
    },
    {
     "name": "stdout",
     "output_type": "stream",
     "text": [
      "\u001b[32m[0216 17:08:59 @base.py:285]\u001b[0m Epoch 66 (global_step 132000) finished, time:38 seconds.\n",
      "\u001b[32m[0216 17:08:59 @saver.py:79]\u001b[0m Model saved to ./output/DATGAN_AVG/model\\model-132000.\n",
      "\u001b[32m[0216 17:08:59 @monitor.py:467]\u001b[0m GAN_loss/discrim/accuracy_fake: 0.955\n",
      "\u001b[32m[0216 17:08:59 @monitor.py:467]\u001b[0m GAN_loss/discrim/accuracy_real: 0.085\n",
      "\u001b[32m[0216 17:08:59 @monitor.py:467]\u001b[0m GAN_loss/discrim/loss: 0.64501\n",
      "\u001b[32m[0216 17:08:59 @monitor.py:467]\u001b[0m GAN_loss/gen/final-g-loss: 1.0427\n",
      "\u001b[32m[0216 17:08:59 @monitor.py:467]\u001b[0m GAN_loss/gen/klloss: 0.071119\n",
      "\u001b[32m[0216 17:08:59 @monitor.py:467]\u001b[0m GAN_loss/gen/loss: 0.97161\n",
      "\u001b[32m[0216 17:08:59 @monitor.py:467]\u001b[0m QueueInput/queue_size: 50\n",
      "\u001b[32m[0216 17:08:59 @base.py:275]\u001b[0m Start Epoch 67 ...\n"
     ]
    },
    {
     "name": "stderr",
     "output_type": "stream",
     "text": [
      "\n",
      "100%|#################################################################################|2000/2000[00:37<00:00,52.72it/s]"
     ]
    },
    {
     "name": "stdout",
     "output_type": "stream",
     "text": [
      "\u001b[32m[0216 17:09:37 @base.py:285]\u001b[0m Epoch 67 (global_step 134000) finished, time:37.9 seconds.\n",
      "\u001b[32m[0216 17:09:37 @saver.py:79]\u001b[0m Model saved to ./output/DATGAN_AVG/model\\model-134000.\n",
      "\u001b[32m[0216 17:09:37 @monitor.py:467]\u001b[0m GAN_loss/discrim/accuracy_fake: 0.955\n",
      "\u001b[32m[0216 17:09:37 @monitor.py:467]\u001b[0m GAN_loss/discrim/accuracy_real: 0.12\n",
      "\u001b[32m[0216 17:09:37 @monitor.py:467]\u001b[0m GAN_loss/discrim/loss: 0.64412\n",
      "\u001b[32m[0216 17:09:37 @monitor.py:467]\u001b[0m GAN_loss/gen/final-g-loss: 1.049\n",
      "\u001b[32m[0216 17:09:37 @monitor.py:467]\u001b[0m GAN_loss/gen/klloss: 0.09372\n",
      "\u001b[32m[0216 17:09:37 @monitor.py:467]\u001b[0m GAN_loss/gen/loss: 0.95525\n",
      "\u001b[32m[0216 17:09:37 @monitor.py:467]\u001b[0m QueueInput/queue_size: 50\n",
      "\u001b[32m[0216 17:09:37 @base.py:275]\u001b[0m Start Epoch 68 ...\n"
     ]
    },
    {
     "name": "stderr",
     "output_type": "stream",
     "text": [
      "\n",
      "100%|#################################################################################|2000/2000[00:37<00:00,52.69it/s]"
     ]
    },
    {
     "name": "stdout",
     "output_type": "stream",
     "text": [
      "\u001b[32m[0216 17:10:15 @base.py:285]\u001b[0m Epoch 68 (global_step 136000) finished, time:38 seconds.\n",
      "\u001b[32m[0216 17:10:15 @saver.py:79]\u001b[0m Model saved to ./output/DATGAN_AVG/model\\model-136000.\n",
      "\u001b[32m[0216 17:10:15 @monitor.py:467]\u001b[0m GAN_loss/discrim/accuracy_fake: 0.945\n",
      "\u001b[32m[0216 17:10:15 @monitor.py:467]\u001b[0m GAN_loss/discrim/accuracy_real: 0.11\n",
      "\u001b[32m[0216 17:10:15 @monitor.py:467]\u001b[0m GAN_loss/discrim/loss: 0.64057\n",
      "\u001b[32m[0216 17:10:15 @monitor.py:467]\u001b[0m GAN_loss/gen/final-g-loss: 1.099\n",
      "\u001b[32m[0216 17:10:15 @monitor.py:467]\u001b[0m GAN_loss/gen/klloss: 0.1213\n",
      "\u001b[32m[0216 17:10:15 @monitor.py:467]\u001b[0m GAN_loss/gen/loss: 0.9777\n",
      "\u001b[32m[0216 17:10:15 @monitor.py:467]\u001b[0m QueueInput/queue_size: 50\n",
      "\u001b[32m[0216 17:10:15 @base.py:275]\u001b[0m Start Epoch 69 ...\n"
     ]
    },
    {
     "name": "stderr",
     "output_type": "stream",
     "text": [
      "\n",
      "100%|#################################################################################|2000/2000[00:38<00:00,52.56it/s]"
     ]
    },
    {
     "name": "stdout",
     "output_type": "stream",
     "text": [
      "\u001b[32m[0216 17:10:53 @base.py:285]\u001b[0m Epoch 69 (global_step 138000) finished, time:38.1 seconds.\n",
      "\u001b[32m[0216 17:10:53 @saver.py:79]\u001b[0m Model saved to ./output/DATGAN_AVG/model\\model-138000.\n",
      "\u001b[32m[0216 17:10:53 @monitor.py:467]\u001b[0m GAN_loss/discrim/accuracy_fake: 0.93\n",
      "\u001b[32m[0216 17:10:53 @monitor.py:467]\u001b[0m GAN_loss/discrim/accuracy_real: 0.1\n",
      "\u001b[32m[0216 17:10:53 @monitor.py:467]\u001b[0m GAN_loss/discrim/loss: 0.64376\n",
      "\u001b[32m[0216 17:10:53 @monitor.py:467]\u001b[0m GAN_loss/gen/final-g-loss: 1.0435\n",
      "\u001b[32m[0216 17:10:53 @monitor.py:467]\u001b[0m GAN_loss/gen/klloss: 0.091803\n",
      "\u001b[32m[0216 17:10:53 @monitor.py:467]\u001b[0m GAN_loss/gen/loss: 0.95166\n",
      "\u001b[32m[0216 17:10:53 @monitor.py:467]\u001b[0m QueueInput/queue_size: 50\n",
      "\u001b[32m[0216 17:10:53 @base.py:275]\u001b[0m Start Epoch 70 ...\n"
     ]
    },
    {
     "name": "stderr",
     "output_type": "stream",
     "text": [
      "\n",
      "100%|#################################################################################|2000/2000[00:38<00:00,52.63it/s]"
     ]
    },
    {
     "name": "stdout",
     "output_type": "stream",
     "text": [
      "\u001b[32m[0216 17:11:31 @base.py:285]\u001b[0m Epoch 70 (global_step 140000) finished, time:38 seconds.\n",
      "\u001b[32m[0216 17:11:31 @saver.py:79]\u001b[0m Model saved to ./output/DATGAN_AVG/model\\model-140000.\n",
      "\u001b[32m[0216 17:11:31 @monitor.py:467]\u001b[0m GAN_loss/discrim/accuracy_fake: 0.94\n",
      "\u001b[32m[0216 17:11:31 @monitor.py:467]\u001b[0m GAN_loss/discrim/accuracy_real: 0.07\n",
      "\u001b[32m[0216 17:11:31 @monitor.py:467]\u001b[0m GAN_loss/discrim/loss: 0.64572\n",
      "\u001b[32m[0216 17:11:31 @monitor.py:467]\u001b[0m GAN_loss/gen/final-g-loss: 1.0652\n",
      "\u001b[32m[0216 17:11:31 @monitor.py:467]\u001b[0m GAN_loss/gen/klloss: 0.10044\n",
      "\u001b[32m[0216 17:11:31 @monitor.py:467]\u001b[0m GAN_loss/gen/loss: 0.96478\n",
      "\u001b[32m[0216 17:11:31 @monitor.py:467]\u001b[0m QueueInput/queue_size: 50\n",
      "\u001b[32m[0216 17:11:31 @base.py:275]\u001b[0m Start Epoch 71 ...\n"
     ]
    },
    {
     "name": "stderr",
     "output_type": "stream",
     "text": [
      "\n",
      "100%|#################################################################################|2000/2000[00:37<00:00,52.70it/s]"
     ]
    },
    {
     "name": "stdout",
     "output_type": "stream",
     "text": [
      "\u001b[32m[0216 17:12:09 @base.py:285]\u001b[0m Epoch 71 (global_step 142000) finished, time:37.9 seconds.\n",
      "\u001b[32m[0216 17:12:09 @saver.py:79]\u001b[0m Model saved to ./output/DATGAN_AVG/model\\model-142000.\n",
      "\u001b[32m[0216 17:12:09 @monitor.py:467]\u001b[0m GAN_loss/discrim/accuracy_fake: 0.92\n",
      "\u001b[32m[0216 17:12:09 @monitor.py:467]\u001b[0m GAN_loss/discrim/accuracy_real: 0.115\n",
      "\u001b[32m[0216 17:12:09 @monitor.py:467]\u001b[0m GAN_loss/discrim/loss: 0.64187\n",
      "\u001b[32m[0216 17:12:09 @monitor.py:467]\u001b[0m GAN_loss/gen/final-g-loss: 1.0829\n",
      "\u001b[32m[0216 17:12:09 @monitor.py:467]\u001b[0m GAN_loss/gen/klloss: 0.12338\n",
      "\u001b[32m[0216 17:12:09 @monitor.py:467]\u001b[0m GAN_loss/gen/loss: 0.95954\n",
      "\u001b[32m[0216 17:12:09 @monitor.py:467]\u001b[0m QueueInput/queue_size: 50\n",
      "\u001b[32m[0216 17:12:09 @base.py:275]\u001b[0m Start Epoch 72 ...\n"
     ]
    },
    {
     "name": "stderr",
     "output_type": "stream",
     "text": [
      "\n",
      "100%|#################################################################################|2000/2000[00:37<00:00,52.67it/s]"
     ]
    },
    {
     "name": "stdout",
     "output_type": "stream",
     "text": [
      "\u001b[32m[0216 17:12:47 @base.py:285]\u001b[0m Epoch 72 (global_step 144000) finished, time:38 seconds.\n",
      "\u001b[32m[0216 17:12:47 @saver.py:79]\u001b[0m Model saved to ./output/DATGAN_AVG/model\\model-144000.\n",
      "\u001b[32m[0216 17:12:47 @monitor.py:467]\u001b[0m GAN_loss/discrim/accuracy_fake: 0.96\n",
      "\u001b[32m[0216 17:12:47 @monitor.py:467]\u001b[0m GAN_loss/discrim/accuracy_real: 0.135\n",
      "\u001b[32m[0216 17:12:47 @monitor.py:467]\u001b[0m GAN_loss/discrim/loss: 0.63795\n",
      "\u001b[32m[0216 17:12:47 @monitor.py:467]\u001b[0m GAN_loss/gen/final-g-loss: 1.0513\n",
      "\u001b[32m[0216 17:12:47 @monitor.py:467]\u001b[0m GAN_loss/gen/klloss: 0.079108\n",
      "\u001b[32m[0216 17:12:47 @monitor.py:467]\u001b[0m GAN_loss/gen/loss: 0.97215\n",
      "\u001b[32m[0216 17:12:47 @monitor.py:467]\u001b[0m QueueInput/queue_size: 50\n",
      "\u001b[32m[0216 17:12:47 @base.py:275]\u001b[0m Start Epoch 73 ...\n"
     ]
    },
    {
     "name": "stderr",
     "output_type": "stream",
     "text": [
      "\n",
      "100%|#################################################################################|2000/2000[00:37<00:00,52.67it/s]"
     ]
    },
    {
     "name": "stdout",
     "output_type": "stream",
     "text": [
      "\u001b[32m[0216 17:13:25 @base.py:285]\u001b[0m Epoch 73 (global_step 146000) finished, time:38 seconds.\n",
      "\u001b[32m[0216 17:13:25 @saver.py:79]\u001b[0m Model saved to ./output/DATGAN_AVG/model\\model-146000.\n",
      "\u001b[32m[0216 17:13:25 @monitor.py:467]\u001b[0m GAN_loss/discrim/accuracy_fake: 0.93\n",
      "\u001b[32m[0216 17:13:25 @monitor.py:467]\u001b[0m GAN_loss/discrim/accuracy_real: 0.15\n",
      "\u001b[32m[0216 17:13:25 @monitor.py:467]\u001b[0m GAN_loss/discrim/loss: 0.64146\n",
      "\u001b[32m[0216 17:13:25 @monitor.py:467]\u001b[0m GAN_loss/gen/final-g-loss: 1.0734\n",
      "\u001b[32m[0216 17:13:25 @monitor.py:467]\u001b[0m GAN_loss/gen/klloss: 0.11906\n",
      "\u001b[32m[0216 17:13:25 @monitor.py:467]\u001b[0m GAN_loss/gen/loss: 0.95435\n",
      "\u001b[32m[0216 17:13:25 @monitor.py:467]\u001b[0m QueueInput/queue_size: 50\n",
      "\u001b[32m[0216 17:13:25 @base.py:275]\u001b[0m Start Epoch 74 ...\n"
     ]
    },
    {
     "name": "stderr",
     "output_type": "stream",
     "text": [
      "\n",
      "100%|#################################################################################|2000/2000[00:38<00:00,52.16it/s]"
     ]
    },
    {
     "name": "stdout",
     "output_type": "stream",
     "text": [
      "\u001b[32m[0216 17:14:03 @base.py:285]\u001b[0m Epoch 74 (global_step 148000) finished, time:38.3 seconds.\n",
      "\u001b[32m[0216 17:14:03 @saver.py:79]\u001b[0m Model saved to ./output/DATGAN_AVG/model\\model-148000.\n",
      "\u001b[32m[0216 17:14:03 @monitor.py:467]\u001b[0m GAN_loss/discrim/accuracy_fake: 0.92\n",
      "\u001b[32m[0216 17:14:03 @monitor.py:467]\u001b[0m GAN_loss/discrim/accuracy_real: 0.13\n",
      "\u001b[32m[0216 17:14:03 @monitor.py:467]\u001b[0m GAN_loss/discrim/loss: 0.66068\n",
      "\u001b[32m[0216 17:14:03 @monitor.py:467]\u001b[0m GAN_loss/gen/final-g-loss: 1.0347\n",
      "\u001b[32m[0216 17:14:03 @monitor.py:467]\u001b[0m GAN_loss/gen/klloss: 0.09559\n",
      "\u001b[32m[0216 17:14:03 @monitor.py:467]\u001b[0m GAN_loss/gen/loss: 0.93911\n",
      "\u001b[32m[0216 17:14:03 @monitor.py:467]\u001b[0m QueueInput/queue_size: 50\n",
      "\u001b[32m[0216 17:14:03 @base.py:275]\u001b[0m Start Epoch 75 ...\n"
     ]
    },
    {
     "name": "stderr",
     "output_type": "stream",
     "text": [
      "\n",
      "100%|#################################################################################|2000/2000[00:40<00:00,49.06it/s]"
     ]
    },
    {
     "name": "stdout",
     "output_type": "stream",
     "text": [
      "\u001b[32m[0216 17:14:44 @base.py:285]\u001b[0m Epoch 75 (global_step 150000) finished, time:40.8 seconds.\n",
      "\u001b[32m[0216 17:14:44 @saver.py:79]\u001b[0m Model saved to ./output/DATGAN_AVG/model\\model-150000.\n",
      "\u001b[32m[0216 17:14:44 @monitor.py:467]\u001b[0m GAN_loss/discrim/accuracy_fake: 0.96\n",
      "\u001b[32m[0216 17:14:44 @monitor.py:467]\u001b[0m GAN_loss/discrim/accuracy_real: 0.11\n",
      "\u001b[32m[0216 17:14:44 @monitor.py:467]\u001b[0m GAN_loss/discrim/loss: 0.64773\n",
      "\u001b[32m[0216 17:14:44 @monitor.py:467]\u001b[0m GAN_loss/gen/final-g-loss: 1.0847\n",
      "\u001b[32m[0216 17:14:44 @monitor.py:467]\u001b[0m GAN_loss/gen/klloss: 0.10792\n",
      "\u001b[32m[0216 17:14:44 @monitor.py:467]\u001b[0m GAN_loss/gen/loss: 0.97682\n",
      "\u001b[32m[0216 17:14:44 @monitor.py:467]\u001b[0m QueueInput/queue_size: 50\n",
      "\u001b[32m[0216 17:14:44 @base.py:275]\u001b[0m Start Epoch 76 ...\n"
     ]
    },
    {
     "name": "stderr",
     "output_type": "stream",
     "text": [
      "\n",
      "100%|#################################################################################|2000/2000[00:41<00:00,48.08it/s]"
     ]
    },
    {
     "name": "stdout",
     "output_type": "stream",
     "text": [
      "\u001b[32m[0216 17:15:26 @base.py:285]\u001b[0m Epoch 76 (global_step 152000) finished, time:41.6 seconds.\n",
      "\u001b[32m[0216 17:15:26 @saver.py:79]\u001b[0m Model saved to ./output/DATGAN_AVG/model\\model-152000.\n",
      "\u001b[32m[0216 17:15:26 @monitor.py:467]\u001b[0m GAN_loss/discrim/accuracy_fake: 0.95\n",
      "\u001b[32m[0216 17:15:26 @monitor.py:467]\u001b[0m GAN_loss/discrim/accuracy_real: 0.125\n",
      "\u001b[32m[0216 17:15:26 @monitor.py:467]\u001b[0m GAN_loss/discrim/loss: 0.64343\n",
      "\u001b[32m[0216 17:15:26 @monitor.py:467]\u001b[0m GAN_loss/gen/final-g-loss: 1.0659\n",
      "\u001b[32m[0216 17:15:26 @monitor.py:467]\u001b[0m GAN_loss/gen/klloss: 0.098777\n",
      "\u001b[32m[0216 17:15:26 @monitor.py:467]\u001b[0m GAN_loss/gen/loss: 0.96711\n",
      "\u001b[32m[0216 17:15:26 @monitor.py:467]\u001b[0m QueueInput/queue_size: 50\n",
      "\u001b[32m[0216 17:15:26 @base.py:275]\u001b[0m Start Epoch 77 ...\n"
     ]
    },
    {
     "name": "stderr",
     "output_type": "stream",
     "text": [
      "\n",
      "100%|#################################################################################|2000/2000[00:42<00:00,47.45it/s]"
     ]
    },
    {
     "name": "stdout",
     "output_type": "stream",
     "text": [
      "\u001b[32m[0216 17:16:08 @base.py:285]\u001b[0m Epoch 77 (global_step 154000) finished, time:42.1 seconds.\n",
      "\u001b[32m[0216 17:16:08 @saver.py:79]\u001b[0m Model saved to ./output/DATGAN_AVG/model\\model-154000.\n",
      "\u001b[32m[0216 17:16:08 @monitor.py:467]\u001b[0m GAN_loss/discrim/accuracy_fake: 0.93\n",
      "\u001b[32m[0216 17:16:08 @monitor.py:467]\u001b[0m GAN_loss/discrim/accuracy_real: 0.1\n",
      "\u001b[32m[0216 17:16:08 @monitor.py:467]\u001b[0m GAN_loss/discrim/loss: 0.64995\n",
      "\u001b[32m[0216 17:16:08 @monitor.py:467]\u001b[0m GAN_loss/gen/final-g-loss: 1.0363\n",
      "\u001b[32m[0216 17:16:08 @monitor.py:467]\u001b[0m GAN_loss/gen/klloss: 0.093141\n",
      "\u001b[32m[0216 17:16:08 @monitor.py:467]\u001b[0m GAN_loss/gen/loss: 0.9432\n",
      "\u001b[32m[0216 17:16:08 @monitor.py:467]\u001b[0m QueueInput/queue_size: 50\n",
      "\u001b[32m[0216 17:16:08 @base.py:275]\u001b[0m Start Epoch 78 ...\n"
     ]
    },
    {
     "name": "stderr",
     "output_type": "stream",
     "text": [
      "\n",
      "100%|#################################################################################|2000/2000[00:40<00:00,49.80it/s]"
     ]
    },
    {
     "name": "stdout",
     "output_type": "stream",
     "text": [
      "\u001b[32m[0216 17:16:48 @base.py:285]\u001b[0m Epoch 78 (global_step 156000) finished, time:40.2 seconds.\n",
      "\u001b[32m[0216 17:16:48 @saver.py:79]\u001b[0m Model saved to ./output/DATGAN_AVG/model\\model-156000.\n",
      "\u001b[32m[0216 17:16:48 @monitor.py:467]\u001b[0m GAN_loss/discrim/accuracy_fake: 0.96\n",
      "\u001b[32m[0216 17:16:48 @monitor.py:467]\u001b[0m GAN_loss/discrim/accuracy_real: 0.105\n",
      "\u001b[32m[0216 17:16:48 @monitor.py:467]\u001b[0m GAN_loss/discrim/loss: 0.63928\n",
      "\u001b[32m[0216 17:16:48 @monitor.py:467]\u001b[0m GAN_loss/gen/final-g-loss: 1.0589\n",
      "\u001b[32m[0216 17:16:48 @monitor.py:467]\u001b[0m GAN_loss/gen/klloss: 0.091554\n",
      "\u001b[32m[0216 17:16:48 @monitor.py:467]\u001b[0m GAN_loss/gen/loss: 0.96733\n",
      "\u001b[32m[0216 17:16:48 @monitor.py:467]\u001b[0m QueueInput/queue_size: 50\n",
      "\u001b[32m[0216 17:16:48 @base.py:275]\u001b[0m Start Epoch 79 ...\n"
     ]
    },
    {
     "name": "stderr",
     "output_type": "stream",
     "text": [
      "\n",
      "100%|#################################################################################|2000/2000[00:40<00:00,49.18it/s]"
     ]
    },
    {
     "name": "stdout",
     "output_type": "stream",
     "text": [
      "\u001b[32m[0216 17:17:29 @base.py:285]\u001b[0m Epoch 79 (global_step 158000) finished, time:40.7 seconds.\n",
      "\u001b[32m[0216 17:17:29 @saver.py:79]\u001b[0m Model saved to ./output/DATGAN_AVG/model\\model-158000.\n",
      "\u001b[32m[0216 17:17:29 @monitor.py:467]\u001b[0m GAN_loss/discrim/accuracy_fake: 0.915\n",
      "\u001b[32m[0216 17:17:29 @monitor.py:467]\u001b[0m GAN_loss/discrim/accuracy_real: 0.13\n",
      "\u001b[32m[0216 17:17:29 @monitor.py:467]\u001b[0m GAN_loss/discrim/loss: 0.64086\n",
      "\u001b[32m[0216 17:17:29 @monitor.py:467]\u001b[0m GAN_loss/gen/final-g-loss: 1.0615\n",
      "\u001b[32m[0216 17:17:29 @monitor.py:467]\u001b[0m GAN_loss/gen/klloss: 0.10982\n",
      "\u001b[32m[0216 17:17:29 @monitor.py:467]\u001b[0m GAN_loss/gen/loss: 0.95164\n",
      "\u001b[32m[0216 17:17:29 @monitor.py:467]\u001b[0m QueueInput/queue_size: 50\n",
      "\u001b[32m[0216 17:17:29 @base.py:275]\u001b[0m Start Epoch 80 ...\n"
     ]
    },
    {
     "name": "stderr",
     "output_type": "stream",
     "text": [
      "\n",
      "100%|#################################################################################|2000/2000[00:40<00:00,49.61it/s]"
     ]
    },
    {
     "name": "stdout",
     "output_type": "stream",
     "text": [
      "\u001b[32m[0216 17:18:10 @base.py:285]\u001b[0m Epoch 80 (global_step 160000) finished, time:40.3 seconds.\n",
      "\u001b[32m[0216 17:18:10 @saver.py:79]\u001b[0m Model saved to ./output/DATGAN_AVG/model\\model-160000.\n",
      "\u001b[32m[0216 17:18:10 @monitor.py:467]\u001b[0m GAN_loss/discrim/accuracy_fake: 0.94\n",
      "\u001b[32m[0216 17:18:10 @monitor.py:467]\u001b[0m GAN_loss/discrim/accuracy_real: 0.135\n",
      "\u001b[32m[0216 17:18:10 @monitor.py:467]\u001b[0m GAN_loss/discrim/loss: 0.64613\n",
      "\u001b[32m[0216 17:18:10 @monitor.py:467]\u001b[0m GAN_loss/gen/final-g-loss: 1.0436\n",
      "\u001b[32m[0216 17:18:10 @monitor.py:467]\u001b[0m GAN_loss/gen/klloss: 0.088646\n",
      "\u001b[32m[0216 17:18:10 @monitor.py:467]\u001b[0m GAN_loss/gen/loss: 0.95496\n",
      "\u001b[32m[0216 17:18:10 @monitor.py:467]\u001b[0m QueueInput/queue_size: 50\n",
      "\u001b[32m[0216 17:18:10 @base.py:275]\u001b[0m Start Epoch 81 ...\n"
     ]
    },
    {
     "name": "stderr",
     "output_type": "stream",
     "text": [
      "\n",
      "100%|#################################################################################|2000/2000[00:40<00:00,49.61it/s]"
     ]
    },
    {
     "name": "stdout",
     "output_type": "stream",
     "text": [
      "\u001b[32m[0216 17:18:50 @base.py:285]\u001b[0m Epoch 81 (global_step 162000) finished, time:40.3 seconds.\n",
      "\u001b[32m[0216 17:18:50 @saver.py:79]\u001b[0m Model saved to ./output/DATGAN_AVG/model\\model-162000.\n",
      "\u001b[32m[0216 17:18:50 @monitor.py:467]\u001b[0m GAN_loss/discrim/accuracy_fake: 0.94\n",
      "\u001b[32m[0216 17:18:50 @monitor.py:467]\u001b[0m GAN_loss/discrim/accuracy_real: 0.155\n",
      "\u001b[32m[0216 17:18:50 @monitor.py:467]\u001b[0m GAN_loss/discrim/loss: 0.63652\n",
      "\u001b[32m[0216 17:18:50 @monitor.py:467]\u001b[0m GAN_loss/gen/final-g-loss: 1.044\n",
      "\u001b[32m[0216 17:18:50 @monitor.py:467]\u001b[0m GAN_loss/gen/klloss: 0.081685\n",
      "\u001b[32m[0216 17:18:50 @monitor.py:467]\u001b[0m GAN_loss/gen/loss: 0.96235\n",
      "\u001b[32m[0216 17:18:50 @monitor.py:467]\u001b[0m QueueInput/queue_size: 50\n",
      "\u001b[32m[0216 17:18:50 @base.py:275]\u001b[0m Start Epoch 82 ...\n"
     ]
    },
    {
     "name": "stderr",
     "output_type": "stream",
     "text": [
      "\n",
      "100%|#################################################################################|2000/2000[00:41<00:00,48.00it/s]"
     ]
    },
    {
     "name": "stdout",
     "output_type": "stream",
     "text": [
      "\u001b[32m[0216 17:19:32 @base.py:285]\u001b[0m Epoch 82 (global_step 164000) finished, time:41.7 seconds.\n",
      "\u001b[32m[0216 17:19:32 @saver.py:79]\u001b[0m Model saved to ./output/DATGAN_AVG/model\\model-164000.\n",
      "\u001b[32m[0216 17:19:32 @monitor.py:467]\u001b[0m GAN_loss/discrim/accuracy_fake: 0.945\n",
      "\u001b[32m[0216 17:19:32 @monitor.py:467]\u001b[0m GAN_loss/discrim/accuracy_real: 0.13\n",
      "\u001b[32m[0216 17:19:32 @monitor.py:467]\u001b[0m GAN_loss/discrim/loss: 0.64539\n",
      "\u001b[32m[0216 17:19:32 @monitor.py:467]\u001b[0m GAN_loss/gen/final-g-loss: 1.0513\n",
      "\u001b[32m[0216 17:19:32 @monitor.py:467]\u001b[0m GAN_loss/gen/klloss: 0.087197\n",
      "\u001b[32m[0216 17:19:32 @monitor.py:467]\u001b[0m GAN_loss/gen/loss: 0.96411\n",
      "\u001b[32m[0216 17:19:32 @monitor.py:467]\u001b[0m QueueInput/queue_size: 50\n",
      "\u001b[32m[0216 17:19:32 @base.py:275]\u001b[0m Start Epoch 83 ...\n"
     ]
    },
    {
     "name": "stderr",
     "output_type": "stream",
     "text": [
      "\n",
      "100%|#################################################################################|2000/2000[00:40<00:00,49.12it/s]"
     ]
    },
    {
     "name": "stdout",
     "output_type": "stream",
     "text": [
      "\u001b[32m[0216 17:20:12 @base.py:285]\u001b[0m Epoch 83 (global_step 166000) finished, time:40.7 seconds.\n",
      "\u001b[32m[0216 17:20:12 @saver.py:79]\u001b[0m Model saved to ./output/DATGAN_AVG/model\\model-166000.\n",
      "\u001b[32m[0216 17:20:12 @monitor.py:467]\u001b[0m GAN_loss/discrim/accuracy_fake: 0.955\n",
      "\u001b[32m[0216 17:20:12 @monitor.py:467]\u001b[0m GAN_loss/discrim/accuracy_real: 0.115\n",
      "\u001b[32m[0216 17:20:12 @monitor.py:467]\u001b[0m GAN_loss/discrim/loss: 0.65533\n",
      "\u001b[32m[0216 17:20:12 @monitor.py:467]\u001b[0m GAN_loss/gen/final-g-loss: 1.0493\n",
      "\u001b[32m[0216 17:20:12 @monitor.py:467]\u001b[0m GAN_loss/gen/klloss: 0.095652\n",
      "\u001b[32m[0216 17:20:12 @monitor.py:467]\u001b[0m GAN_loss/gen/loss: 0.95368\n",
      "\u001b[32m[0216 17:20:12 @monitor.py:467]\u001b[0m QueueInput/queue_size: 50\n",
      "\u001b[32m[0216 17:20:12 @base.py:275]\u001b[0m Start Epoch 84 ...\n"
     ]
    },
    {
     "name": "stderr",
     "output_type": "stream",
     "text": [
      "\n",
      "100%|#################################################################################|2000/2000[00:40<00:00,49.85it/s]"
     ]
    },
    {
     "name": "stdout",
     "output_type": "stream",
     "text": [
      "\u001b[32m[0216 17:20:53 @base.py:285]\u001b[0m Epoch 84 (global_step 168000) finished, time:40.1 seconds.\n",
      "\u001b[32m[0216 17:20:53 @saver.py:79]\u001b[0m Model saved to ./output/DATGAN_AVG/model\\model-168000.\n",
      "\u001b[32m[0216 17:20:53 @monitor.py:467]\u001b[0m GAN_loss/discrim/accuracy_fake: 0.92\n",
      "\u001b[32m[0216 17:20:53 @monitor.py:467]\u001b[0m GAN_loss/discrim/accuracy_real: 0.09\n",
      "\u001b[32m[0216 17:20:53 @monitor.py:467]\u001b[0m GAN_loss/discrim/loss: 0.65185\n",
      "\u001b[32m[0216 17:20:53 @monitor.py:467]\u001b[0m GAN_loss/gen/final-g-loss: 1.055\n",
      "\u001b[32m[0216 17:20:53 @monitor.py:467]\u001b[0m GAN_loss/gen/klloss: 0.11186\n",
      "\u001b[32m[0216 17:20:53 @monitor.py:467]\u001b[0m GAN_loss/gen/loss: 0.94316\n",
      "\u001b[32m[0216 17:20:53 @monitor.py:467]\u001b[0m QueueInput/queue_size: 50\n",
      "\u001b[32m[0216 17:20:53 @base.py:275]\u001b[0m Start Epoch 85 ...\n"
     ]
    },
    {
     "name": "stderr",
     "output_type": "stream",
     "text": [
      "\n",
      "100%|#################################################################################|2000/2000[00:40<00:00,49.12it/s]"
     ]
    },
    {
     "name": "stdout",
     "output_type": "stream",
     "text": [
      "\u001b[32m[0216 17:21:33 @base.py:285]\u001b[0m Epoch 85 (global_step 170000) finished, time:40.7 seconds.\n",
      "\u001b[32m[0216 17:21:33 @saver.py:79]\u001b[0m Model saved to ./output/DATGAN_AVG/model\\model-170000.\n",
      "\u001b[32m[0216 17:21:33 @monitor.py:467]\u001b[0m GAN_loss/discrim/accuracy_fake: 0.9\n",
      "\u001b[32m[0216 17:21:33 @monitor.py:467]\u001b[0m GAN_loss/discrim/accuracy_real: 0.15\n",
      "\u001b[32m[0216 17:21:33 @monitor.py:467]\u001b[0m GAN_loss/discrim/loss: 0.64806\n",
      "\u001b[32m[0216 17:21:33 @monitor.py:467]\u001b[0m GAN_loss/gen/final-g-loss: 1.046\n",
      "\u001b[32m[0216 17:21:33 @monitor.py:467]\u001b[0m GAN_loss/gen/klloss: 0.1022\n",
      "\u001b[32m[0216 17:21:33 @monitor.py:467]\u001b[0m GAN_loss/gen/loss: 0.94384\n",
      "\u001b[32m[0216 17:21:33 @monitor.py:467]\u001b[0m QueueInput/queue_size: 50\n",
      "\u001b[32m[0216 17:21:33 @base.py:275]\u001b[0m Start Epoch 86 ...\n"
     ]
    },
    {
     "name": "stderr",
     "output_type": "stream",
     "text": [
      "\n",
      "100%|#################################################################################|2000/2000[00:40<00:00,49.01it/s]"
     ]
    },
    {
     "name": "stdout",
     "output_type": "stream",
     "text": [
      "\u001b[32m[0216 17:22:14 @base.py:285]\u001b[0m Epoch 86 (global_step 172000) finished, time:40.8 seconds.\n",
      "\u001b[32m[0216 17:22:14 @saver.py:79]\u001b[0m Model saved to ./output/DATGAN_AVG/model\\model-172000.\n",
      "\u001b[32m[0216 17:22:14 @monitor.py:467]\u001b[0m GAN_loss/discrim/accuracy_fake: 0.885\n",
      "\u001b[32m[0216 17:22:14 @monitor.py:467]\u001b[0m GAN_loss/discrim/accuracy_real: 0.075\n",
      "\u001b[32m[0216 17:22:14 @monitor.py:467]\u001b[0m GAN_loss/discrim/loss: 0.65269\n",
      "\u001b[32m[0216 17:22:14 @monitor.py:467]\u001b[0m GAN_loss/gen/final-g-loss: 1.0589\n",
      "\u001b[32m[0216 17:22:14 @monitor.py:467]\u001b[0m GAN_loss/gen/klloss: 0.11674\n",
      "\u001b[32m[0216 17:22:14 @monitor.py:467]\u001b[0m GAN_loss/gen/loss: 0.94216\n",
      "\u001b[32m[0216 17:22:14 @monitor.py:467]\u001b[0m QueueInput/queue_size: 50\n",
      "\u001b[32m[0216 17:22:14 @base.py:275]\u001b[0m Start Epoch 87 ...\n"
     ]
    },
    {
     "name": "stderr",
     "output_type": "stream",
     "text": [
      "\n",
      "100%|#################################################################################|2000/2000[00:39<00:00,50.13it/s]"
     ]
    },
    {
     "name": "stdout",
     "output_type": "stream",
     "text": [
      "\u001b[32m[0216 17:22:54 @base.py:285]\u001b[0m Epoch 87 (global_step 174000) finished, time:39.9 seconds.\n",
      "\u001b[32m[0216 17:22:54 @saver.py:79]\u001b[0m Model saved to ./output/DATGAN_AVG/model\\model-174000.\n",
      "\u001b[32m[0216 17:22:54 @monitor.py:467]\u001b[0m GAN_loss/discrim/accuracy_fake: 0.94\n",
      "\u001b[32m[0216 17:22:54 @monitor.py:467]\u001b[0m GAN_loss/discrim/accuracy_real: 0.095\n",
      "\u001b[32m[0216 17:22:54 @monitor.py:467]\u001b[0m GAN_loss/discrim/loss: 0.65548\n",
      "\u001b[32m[0216 17:22:54 @monitor.py:467]\u001b[0m GAN_loss/gen/final-g-loss: 1.0385\n",
      "\u001b[32m[0216 17:22:54 @monitor.py:467]\u001b[0m GAN_loss/gen/klloss: 0.10667\n",
      "\u001b[32m[0216 17:22:54 @monitor.py:467]\u001b[0m GAN_loss/gen/loss: 0.9318\n",
      "\u001b[32m[0216 17:22:54 @monitor.py:467]\u001b[0m QueueInput/queue_size: 50\n",
      "\u001b[32m[0216 17:22:54 @base.py:275]\u001b[0m Start Epoch 88 ...\n"
     ]
    },
    {
     "name": "stderr",
     "output_type": "stream",
     "text": [
      "\n",
      "100%|#################################################################################|2000/2000[00:40<00:00,49.97it/s]"
     ]
    },
    {
     "name": "stdout",
     "output_type": "stream",
     "text": [
      "\u001b[32m[0216 17:23:34 @base.py:285]\u001b[0m Epoch 88 (global_step 176000) finished, time:40 seconds.\n",
      "\u001b[32m[0216 17:23:34 @saver.py:79]\u001b[0m Model saved to ./output/DATGAN_AVG/model\\model-176000.\n",
      "\u001b[32m[0216 17:23:34 @monitor.py:467]\u001b[0m GAN_loss/discrim/accuracy_fake: 0.965\n",
      "\u001b[32m[0216 17:23:34 @monitor.py:467]\u001b[0m GAN_loss/discrim/accuracy_real: 0.12\n",
      "\u001b[32m[0216 17:23:34 @monitor.py:467]\u001b[0m GAN_loss/discrim/loss: 0.63927\n",
      "\u001b[32m[0216 17:23:34 @monitor.py:467]\u001b[0m GAN_loss/gen/final-g-loss: 1.0654\n",
      "\u001b[32m[0216 17:23:34 @monitor.py:467]\u001b[0m GAN_loss/gen/klloss: 0.088154\n",
      "\u001b[32m[0216 17:23:34 @monitor.py:467]\u001b[0m GAN_loss/gen/loss: 0.97725\n",
      "\u001b[32m[0216 17:23:34 @monitor.py:467]\u001b[0m QueueInput/queue_size: 50\n",
      "\u001b[32m[0216 17:23:34 @base.py:275]\u001b[0m Start Epoch 89 ...\n"
     ]
    },
    {
     "name": "stderr",
     "output_type": "stream",
     "text": [
      "\n",
      "100%|#################################################################################|2000/2000[00:40<00:00,49.97it/s]"
     ]
    },
    {
     "name": "stdout",
     "output_type": "stream",
     "text": [
      "\u001b[32m[0216 17:24:14 @base.py:285]\u001b[0m Epoch 89 (global_step 178000) finished, time:40 seconds.\n",
      "\u001b[32m[0216 17:24:15 @saver.py:79]\u001b[0m Model saved to ./output/DATGAN_AVG/model\\model-178000.\n",
      "\u001b[32m[0216 17:24:15 @monitor.py:467]\u001b[0m GAN_loss/discrim/accuracy_fake: 0.93\n",
      "\u001b[32m[0216 17:24:15 @monitor.py:467]\u001b[0m GAN_loss/discrim/accuracy_real: 0.125\n",
      "\u001b[32m[0216 17:24:15 @monitor.py:467]\u001b[0m GAN_loss/discrim/loss: 0.64748\n",
      "\u001b[32m[0216 17:24:15 @monitor.py:467]\u001b[0m GAN_loss/gen/final-g-loss: 1.029\n",
      "\u001b[32m[0216 17:24:15 @monitor.py:467]\u001b[0m GAN_loss/gen/klloss: 0.078095\n",
      "\u001b[32m[0216 17:24:15 @monitor.py:467]\u001b[0m GAN_loss/gen/loss: 0.95095\n",
      "\u001b[32m[0216 17:24:15 @monitor.py:467]\u001b[0m QueueInput/queue_size: 50\n",
      "\u001b[32m[0216 17:24:15 @base.py:275]\u001b[0m Start Epoch 90 ...\n"
     ]
    },
    {
     "name": "stderr",
     "output_type": "stream",
     "text": [
      "\n",
      "100%|#################################################################################|2000/2000[00:40<00:00,49.50it/s]"
     ]
    },
    {
     "name": "stdout",
     "output_type": "stream",
     "text": [
      "\u001b[32m[0216 17:24:55 @base.py:285]\u001b[0m Epoch 90 (global_step 180000) finished, time:40.4 seconds.\n",
      "\u001b[32m[0216 17:24:55 @saver.py:79]\u001b[0m Model saved to ./output/DATGAN_AVG/model\\model-180000.\n",
      "\u001b[32m[0216 17:24:55 @monitor.py:467]\u001b[0m GAN_loss/discrim/accuracy_fake: 0.95\n",
      "\u001b[32m[0216 17:24:55 @monitor.py:467]\u001b[0m GAN_loss/discrim/accuracy_real: 0.14\n",
      "\u001b[32m[0216 17:24:55 @monitor.py:467]\u001b[0m GAN_loss/discrim/loss: 0.63347\n",
      "\u001b[32m[0216 17:24:55 @monitor.py:467]\u001b[0m GAN_loss/gen/final-g-loss: 1.0561\n",
      "\u001b[32m[0216 17:24:55 @monitor.py:467]\u001b[0m GAN_loss/gen/klloss: 0.10605\n",
      "\u001b[32m[0216 17:24:55 @monitor.py:467]\u001b[0m GAN_loss/gen/loss: 0.95007\n",
      "\u001b[32m[0216 17:24:55 @monitor.py:467]\u001b[0m QueueInput/queue_size: 50\n",
      "\u001b[32m[0216 17:24:55 @base.py:275]\u001b[0m Start Epoch 91 ...\n"
     ]
    },
    {
     "name": "stderr",
     "output_type": "stream",
     "text": [
      "\n",
      "100%|#################################################################################|2000/2000[00:39<00:00,50.56it/s]"
     ]
    },
    {
     "name": "stdout",
     "output_type": "stream",
     "text": [
      "\u001b[32m[0216 17:25:35 @base.py:285]\u001b[0m Epoch 91 (global_step 182000) finished, time:39.6 seconds.\n",
      "\u001b[32m[0216 17:25:35 @saver.py:79]\u001b[0m Model saved to ./output/DATGAN_AVG/model\\model-182000.\n",
      "\u001b[32m[0216 17:25:35 @monitor.py:467]\u001b[0m GAN_loss/discrim/accuracy_fake: 0.925\n",
      "\u001b[32m[0216 17:25:35 @monitor.py:467]\u001b[0m GAN_loss/discrim/accuracy_real: 0.085\n",
      "\u001b[32m[0216 17:25:35 @monitor.py:467]\u001b[0m GAN_loss/discrim/loss: 0.64649\n",
      "\u001b[32m[0216 17:25:35 @monitor.py:467]\u001b[0m GAN_loss/gen/final-g-loss: 1.0452\n",
      "\u001b[32m[0216 17:25:35 @monitor.py:467]\u001b[0m GAN_loss/gen/klloss: 0.10084\n",
      "\u001b[32m[0216 17:25:35 @monitor.py:467]\u001b[0m GAN_loss/gen/loss: 0.94439\n",
      "\u001b[32m[0216 17:25:35 @monitor.py:467]\u001b[0m QueueInput/queue_size: 50\n",
      "\u001b[32m[0216 17:25:35 @base.py:275]\u001b[0m Start Epoch 92 ...\n"
     ]
    },
    {
     "name": "stderr",
     "output_type": "stream",
     "text": [
      "\n",
      "100%|#################################################################################|2000/2000[00:39<00:00,50.08it/s]"
     ]
    },
    {
     "name": "stdout",
     "output_type": "stream",
     "text": [
      "\u001b[32m[0216 17:26:15 @base.py:285]\u001b[0m Epoch 92 (global_step 184000) finished, time:39.9 seconds.\n",
      "\u001b[32m[0216 17:26:15 @saver.py:79]\u001b[0m Model saved to ./output/DATGAN_AVG/model\\model-184000.\n",
      "\u001b[32m[0216 17:26:15 @monitor.py:467]\u001b[0m GAN_loss/discrim/accuracy_fake: 0.925\n",
      "\u001b[32m[0216 17:26:15 @monitor.py:467]\u001b[0m GAN_loss/discrim/accuracy_real: 0.165\n",
      "\u001b[32m[0216 17:26:15 @monitor.py:467]\u001b[0m GAN_loss/discrim/loss: 0.64371\n",
      "\u001b[32m[0216 17:26:15 @monitor.py:467]\u001b[0m GAN_loss/gen/final-g-loss: 1.0713\n",
      "\u001b[32m[0216 17:26:15 @monitor.py:467]\u001b[0m GAN_loss/gen/klloss: 0.10961\n",
      "\u001b[32m[0216 17:26:15 @monitor.py:467]\u001b[0m GAN_loss/gen/loss: 0.96171\n",
      "\u001b[32m[0216 17:26:15 @monitor.py:467]\u001b[0m QueueInput/queue_size: 50\n",
      "\u001b[32m[0216 17:26:15 @base.py:275]\u001b[0m Start Epoch 93 ...\n"
     ]
    },
    {
     "name": "stderr",
     "output_type": "stream",
     "text": [
      "\n",
      "100%|#################################################################################|2000/2000[00:40<00:00,48.93it/s]"
     ]
    },
    {
     "name": "stdout",
     "output_type": "stream",
     "text": [
      "\u001b[32m[0216 17:26:56 @base.py:285]\u001b[0m Epoch 93 (global_step 186000) finished, time:40.9 seconds.\n",
      "\u001b[32m[0216 17:26:56 @saver.py:79]\u001b[0m Model saved to ./output/DATGAN_AVG/model\\model-186000.\n"
     ]
    },
    {
     "name": "stderr",
     "output_type": "stream",
     "text": [
      "\n"
     ]
    },
    {
     "name": "stdout",
     "output_type": "stream",
     "text": [
      "\u001b[32m[0216 17:26:56 @monitor.py:467]\u001b[0m GAN_loss/discrim/accuracy_fake: 0.88\n",
      "\u001b[32m[0216 17:26:56 @monitor.py:467]\u001b[0m GAN_loss/discrim/accuracy_real: 0.13\n",
      "\u001b[32m[0216 17:26:56 @monitor.py:467]\u001b[0m GAN_loss/discrim/loss: 0.64563\n",
      "\u001b[32m[0216 17:26:56 @monitor.py:467]\u001b[0m GAN_loss/gen/final-g-loss: 1.0312\n",
      "\u001b[32m[0216 17:26:56 @monitor.py:467]\u001b[0m GAN_loss/gen/klloss: 0.091305\n",
      "\u001b[32m[0216 17:26:56 @monitor.py:467]\u001b[0m GAN_loss/gen/loss: 0.93994\n",
      "\u001b[32m[0216 17:26:56 @monitor.py:467]\u001b[0m QueueInput/queue_size: 50\n",
      "\u001b[32m[0216 17:26:56 @base.py:275]\u001b[0m Start Epoch 94 ...\n"
     ]
    },
    {
     "name": "stderr",
     "output_type": "stream",
     "text": [
      "100%|#################################################################################|2000/2000[00:41<00:00,48.78it/s]"
     ]
    },
    {
     "name": "stdout",
     "output_type": "stream",
     "text": [
      "\u001b[32m[0216 17:27:37 @base.py:285]\u001b[0m Epoch 94 (global_step 188000) finished, time:41 seconds.\n",
      "\u001b[32m[0216 17:27:37 @saver.py:79]\u001b[0m Model saved to ./output/DATGAN_AVG/model\\model-188000.\n",
      "\u001b[32m[0216 17:27:37 @monitor.py:467]\u001b[0m GAN_loss/discrim/accuracy_fake: 0.935\n",
      "\u001b[32m[0216 17:27:37 @monitor.py:467]\u001b[0m GAN_loss/discrim/accuracy_real: 0.115\n",
      "\u001b[32m[0216 17:27:37 @monitor.py:467]\u001b[0m GAN_loss/discrim/loss: 0.65021\n",
      "\u001b[32m[0216 17:27:37 @monitor.py:467]\u001b[0m GAN_loss/gen/final-g-loss: 1.0668\n",
      "\u001b[32m[0216 17:27:37 @monitor.py:467]\u001b[0m GAN_loss/gen/klloss: 0.1126\n",
      "\u001b[32m[0216 17:27:37 @monitor.py:467]\u001b[0m GAN_loss/gen/loss: 0.95419\n",
      "\u001b[32m[0216 17:27:37 @monitor.py:467]\u001b[0m QueueInput/queue_size: 50\n",
      "\u001b[32m[0216 17:27:37 @base.py:275]\u001b[0m Start Epoch 95 ...\n"
     ]
    },
    {
     "name": "stderr",
     "output_type": "stream",
     "text": [
      "\n",
      "100%|#################################################################################|2000/2000[00:39<00:00,50.88it/s]"
     ]
    },
    {
     "name": "stdout",
     "output_type": "stream",
     "text": [
      "\u001b[32m[0216 17:28:16 @base.py:285]\u001b[0m Epoch 95 (global_step 190000) finished, time:39.3 seconds.\n"
     ]
    },
    {
     "name": "stderr",
     "output_type": "stream",
     "text": [
      "\n"
     ]
    },
    {
     "name": "stdout",
     "output_type": "stream",
     "text": [
      "\u001b[32m[0216 17:28:16 @saver.py:79]\u001b[0m Model saved to ./output/DATGAN_AVG/model\\model-190000.\n",
      "\u001b[32m[0216 17:28:16 @monitor.py:467]\u001b[0m GAN_loss/discrim/accuracy_fake: 0.935\n",
      "\u001b[32m[0216 17:28:16 @monitor.py:467]\u001b[0m GAN_loss/discrim/accuracy_real: 0.135\n",
      "\u001b[32m[0216 17:28:16 @monitor.py:467]\u001b[0m GAN_loss/discrim/loss: 0.64375\n",
      "\u001b[32m[0216 17:28:16 @monitor.py:467]\u001b[0m GAN_loss/gen/final-g-loss: 1.0592\n",
      "\u001b[32m[0216 17:28:16 @monitor.py:467]\u001b[0m GAN_loss/gen/klloss: 0.10688\n",
      "\u001b[32m[0216 17:28:16 @monitor.py:467]\u001b[0m GAN_loss/gen/loss: 0.95228\n",
      "\u001b[32m[0216 17:28:16 @monitor.py:467]\u001b[0m QueueInput/queue_size: 50\n",
      "\u001b[32m[0216 17:28:16 @base.py:275]\u001b[0m Start Epoch 96 ...\n"
     ]
    },
    {
     "name": "stderr",
     "output_type": "stream",
     "text": [
      "100%|#################################################################################|2000/2000[00:38<00:00,52.24it/s]\n"
     ]
    },
    {
     "name": "stdout",
     "output_type": "stream",
     "text": [
      "\u001b[32m[0216 17:28:54 @base.py:285]\u001b[0m Epoch 96 (global_step 192000) finished, time:38.3 seconds.\n",
      "\u001b[32m[0216 17:28:54 @saver.py:79]\u001b[0m Model saved to ./output/DATGAN_AVG/model\\model-192000.\n",
      "\u001b[32m[0216 17:28:54 @monitor.py:467]\u001b[0m GAN_loss/discrim/accuracy_fake: 0.95\n",
      "\u001b[32m[0216 17:28:54 @monitor.py:467]\u001b[0m GAN_loss/discrim/accuracy_real: 0.135\n",
      "\u001b[32m[0216 17:28:54 @monitor.py:467]\u001b[0m GAN_loss/discrim/loss: 0.63275\n",
      "\u001b[32m[0216 17:28:54 @monitor.py:467]\u001b[0m GAN_loss/gen/final-g-loss: 1.0654\n",
      "\u001b[32m[0216 17:28:54 @monitor.py:467]\u001b[0m GAN_loss/gen/klloss: 0.084614\n",
      "\u001b[32m[0216 17:28:54 @monitor.py:467]\u001b[0m GAN_loss/gen/loss: 0.98075\n",
      "\u001b[32m[0216 17:28:54 @monitor.py:467]\u001b[0m QueueInput/queue_size: 50\n",
      "\u001b[32m[0216 17:28:54 @base.py:275]\u001b[0m Start Epoch 97 ...\n"
     ]
    },
    {
     "name": "stderr",
     "output_type": "stream",
     "text": [
      "100%|#################################################################################|2000/2000[00:38<00:00,51.69it/s]"
     ]
    },
    {
     "name": "stdout",
     "output_type": "stream",
     "text": [
      "\u001b[32m[0216 17:29:33 @base.py:285]\u001b[0m Epoch 97 (global_step 194000) finished, time:38.7 seconds.\n",
      "\u001b[32m[0216 17:29:33 @saver.py:79]\u001b[0m Model saved to ./output/DATGAN_AVG/model\\model-194000.\n",
      "\u001b[32m[0216 17:29:33 @monitor.py:467]\u001b[0m GAN_loss/discrim/accuracy_fake: 0.935\n",
      "\u001b[32m[0216 17:29:33 @monitor.py:467]\u001b[0m GAN_loss/discrim/accuracy_real: 0.13\n",
      "\u001b[32m[0216 17:29:33 @monitor.py:467]\u001b[0m GAN_loss/discrim/loss: 0.64958\n",
      "\u001b[32m[0216 17:29:33 @monitor.py:467]\u001b[0m GAN_loss/gen/final-g-loss: 1.0495\n",
      "\u001b[32m[0216 17:29:33 @monitor.py:467]\u001b[0m GAN_loss/gen/klloss: 0.10253\n",
      "\u001b[32m[0216 17:29:33 @monitor.py:467]\u001b[0m GAN_loss/gen/loss: 0.947\n",
      "\u001b[32m[0216 17:29:33 @monitor.py:467]\u001b[0m QueueInput/queue_size: 50\n",
      "\u001b[32m[0216 17:29:33 @base.py:275]\u001b[0m Start Epoch 98 ...\n"
     ]
    },
    {
     "name": "stderr",
     "output_type": "stream",
     "text": [
      "\n",
      "100%|#################################################################################|2000/2000[00:39<00:00,50.20it/s]"
     ]
    },
    {
     "name": "stdout",
     "output_type": "stream",
     "text": [
      "\u001b[32m[0216 17:30:13 @base.py:285]\u001b[0m Epoch 98 (global_step 196000) finished, time:39.8 seconds.\n",
      "\u001b[32m[0216 17:30:13 @saver.py:79]\u001b[0m Model saved to ./output/DATGAN_AVG/model\\model-196000.\n",
      "\u001b[32m[0216 17:30:13 @monitor.py:467]\u001b[0m GAN_loss/discrim/accuracy_fake: 0.94\n",
      "\u001b[32m[0216 17:30:13 @monitor.py:467]\u001b[0m GAN_loss/discrim/accuracy_real: 0.13\n",
      "\u001b[32m[0216 17:30:13 @monitor.py:467]\u001b[0m GAN_loss/discrim/loss: 0.63646\n",
      "\u001b[32m[0216 17:30:13 @monitor.py:467]\u001b[0m GAN_loss/gen/final-g-loss: 1.0369\n",
      "\u001b[32m[0216 17:30:13 @monitor.py:467]\u001b[0m GAN_loss/gen/klloss: 0.081075\n",
      "\u001b[32m[0216 17:30:13 @monitor.py:467]\u001b[0m GAN_loss/gen/loss: 0.95578\n",
      "\u001b[32m[0216 17:30:13 @monitor.py:467]\u001b[0m QueueInput/queue_size: 50\n",
      "\u001b[32m[0216 17:30:13 @base.py:275]\u001b[0m Start Epoch 99 ...\n"
     ]
    },
    {
     "name": "stderr",
     "output_type": "stream",
     "text": [
      "\n",
      "100%|#################################################################################|2000/2000[00:39<00:00,50.90it/s]"
     ]
    },
    {
     "name": "stdout",
     "output_type": "stream",
     "text": [
      "\u001b[32m[0216 17:30:52 @base.py:285]\u001b[0m Epoch 99 (global_step 198000) finished, time:39.3 seconds.\n",
      "\u001b[32m[0216 17:30:52 @saver.py:79]\u001b[0m Model saved to ./output/DATGAN_AVG/model\\model-198000.\n",
      "\u001b[32m[0216 17:30:52 @monitor.py:467]\u001b[0m GAN_loss/discrim/accuracy_fake: 0.925\n",
      "\u001b[32m[0216 17:30:52 @monitor.py:467]\u001b[0m GAN_loss/discrim/accuracy_real: 0.08\n",
      "\u001b[32m[0216 17:30:52 @monitor.py:467]\u001b[0m GAN_loss/discrim/loss: 0.65277\n",
      "\u001b[32m[0216 17:30:52 @monitor.py:467]\u001b[0m GAN_loss/gen/final-g-loss: 1.0145\n",
      "\u001b[32m[0216 17:30:52 @monitor.py:467]\u001b[0m GAN_loss/gen/klloss: 0.073402\n"
     ]
    },
    {
     "name": "stderr",
     "output_type": "stream",
     "text": [
      "\n"
     ]
    },
    {
     "name": "stdout",
     "output_type": "stream",
     "text": [
      "\u001b[32m[0216 17:30:52 @monitor.py:467]\u001b[0m GAN_loss/gen/loss: 0.94112\n",
      "\u001b[32m[0216 17:30:52 @monitor.py:467]\u001b[0m QueueInput/queue_size: 50\n",
      "\u001b[32m[0216 17:30:52 @base.py:275]\u001b[0m Start Epoch 100 ...\n"
     ]
    },
    {
     "name": "stderr",
     "output_type": "stream",
     "text": [
      "100%|#################################################################################|2000/2000[00:38<00:00,51.43it/s]"
     ]
    },
    {
     "name": "stdout",
     "output_type": "stream",
     "text": [
      "\u001b[32m[0216 17:31:31 @base.py:285]\u001b[0m Epoch 100 (global_step 200000) finished, time:38.9 seconds.\n",
      "\u001b[32m[0216 17:31:31 @saver.py:79]\u001b[0m Model saved to ./output/DATGAN_AVG/model\\model-200000.\n",
      "\u001b[32m[0216 17:31:31 @monitor.py:467]\u001b[0m GAN_loss/discrim/accuracy_fake: 0.915\n",
      "\u001b[32m[0216 17:31:31 @monitor.py:467]\u001b[0m GAN_loss/discrim/accuracy_real: 0.125\n",
      "\u001b[32m[0216 17:31:31 @monitor.py:467]\u001b[0m GAN_loss/discrim/loss: 0.65598\n",
      "\u001b[32m[0216 17:31:31 @monitor.py:467]\u001b[0m GAN_loss/gen/final-g-loss: 1.0315\n",
      "\u001b[32m[0216 17:31:31 @monitor.py:467]\u001b[0m GAN_loss/gen/klloss: 0.090602\n",
      "\u001b[32m[0216 17:31:31 @monitor.py:467]\u001b[0m GAN_loss/gen/loss: 0.94087\n",
      "\u001b[32m[0216 17:31:31 @monitor.py:467]\u001b[0m QueueInput/queue_size: 50\n",
      "\u001b[32m[0216 17:31:31 @base.py:289]\u001b[0m Training has finished!\n",
      "WARNING:tensorflow:From D:\\Users\\glede\\anaconda3\\envs\\py37\\lib\\site-packages\\tensorpack\\predict\\config.py:101: The name tf.train.ChiefSessionCreator is deprecated. Please use tf.compat.v1.train.ChiefSessionCreator instead.\n",
      "\n"
     ]
    },
    {
     "name": "stderr",
     "output_type": "stream",
     "text": [
      "\n"
     ]
    },
    {
     "name": "stdout",
     "output_type": "stream",
     "text": [
      "\u001b[91m-> Creating cell for age (in-edges: 0)\n",
      "\u001b[91m-> Creating cell for gender (in-edges: 0)\n",
      "\u001b[91m-> Creating cell for travel_dow (in-edges: 0)\n",
      "\u001b[91m-> Creating cell for license (in-edges: 1)\n",
      "\u001b[91m-> Creating cell for education_level (in-edges: 1)\n",
      "\u001b[91m-> Creating cell for work_status (in-edges: 2)\n",
      "\u001b[91m-> Creating cell for hh_income (in-edges: 2)\n",
      "\u001b[32m[0216 17:31:32 @input_source.py:178]\u001b[0m EnqueueThread QueueInput/input_queue Exited.\n",
      "\u001b[91m-> Creating cell for trip_purpose (in-edges: 1)\n",
      "\u001b[91m-> Creating cell for hh_descr (in-edges: 2)\n",
      "\u001b[91m-> Creating cell for hh_size (in-edges: 3)\n",
      "\u001b[91m-> Creating cell for departure_time (in-edges: 1)\n",
      "\u001b[91m-> Creating cell for distance (in-edges: 1)\n",
      "\u001b[91m-> Creating cell for hh_vehicles (in-edges: 2)\n",
      "\u001b[91m-> Creating cell for hh_bikes (in-edges: 2)\n",
      "\u001b[91m-> Creating cell for choice (in-edges: 5)\n",
      "WARNING:tensorflow:From D:\\Users\\glede\\anaconda3\\envs\\py37\\lib\\site-packages\\tensorpack\\tfutils\\collection.py:45: The name tf.get_collection_ref is deprecated. Please use tf.compat.v1.get_collection_ref instead.\n",
      "\n",
      "\u001b[32m[0216 17:31:33 @collection.py:146]\u001b[0m New collections created in tower : tf.GraphKeys.REGULARIZATION_LOSSES\n",
      "\u001b[32m[0216 17:31:33 @collection.py:165]\u001b[0m These collections were modified but restored in : (tf.GraphKeys.SUMMARIES: 0->2)\n",
      "WARNING:tensorflow:From D:\\Users\\glede\\anaconda3\\envs\\py37\\lib\\site-packages\\tensorpack\\tfutils\\sessinit.py:120: The name tf.train.NewCheckpointReader is deprecated. Please use tf.compat.v1.train.NewCheckpointReader instead.\n",
      "\n",
      "WARNING:tensorflow:From D:\\Users\\glede\\anaconda3\\envs\\py37\\lib\\site-packages\\tensorpack\\tfutils\\sessinit.py:127: The name tf.global_variables is deprecated. Please use tf.compat.v1.global_variables instead.\n",
      "\n",
      "\u001b[32m[0216 17:31:33 @sessinit.py:87]\u001b[0m \u001b[5m\u001b[31mWRN\u001b[0m The following variables are in the checkpoint, but not found in the graph: global_step, optimize/beta1_power, optimize/beta2_power\n",
      "INFO:tensorflow:Graph was finalized.\n",
      "INFO:tensorflow:Running local_init_op.\n",
      "INFO:tensorflow:Done running local_init_op.\n",
      "\u001b[32m[0216 17:31:35 @sessinit.py:114]\u001b[0m Restoring checkpoint from ./output/DATGAN_AVG/model\\model-200000 ...\n",
      "INFO:tensorflow:Restoring parameters from ./output/DATGAN_AVG/model\\model-200000\n"
     ]
    }
   ],
   "source": [
    "res = datgan.fit(df, graph)"
   ]
  },
  {
   "cell_type": "code",
   "execution_count": 14,
   "metadata": {},
   "outputs": [
    {
     "name": "stdout",
     "output_type": "stream",
     "text": [
      "\u001b[32m[0216 17:31:38 @model.py:1004]\u001b[0m Model saved successfully.\n"
     ]
    }
   ],
   "source": [
    "datgan.save(output_folder + 'trained', force=True)"
   ]
  },
  {
   "cell_type": "code",
   "execution_count": null,
   "metadata": {},
   "outputs": [],
   "source": []
  }
 ],
 "metadata": {
  "kernelspec": {
   "display_name": "Python 3",
   "language": "python",
   "name": "python3"
  },
  "language_info": {
   "codemirror_mode": {
    "name": "ipython",
    "version": 3
   },
   "file_extension": ".py",
   "mimetype": "text/x-python",
   "name": "python",
   "nbconvert_exporter": "python",
   "pygments_lexer": "ipython3",
   "version": "3.7.9"
  }
 },
 "nbformat": 4,
 "nbformat_minor": 4
}
