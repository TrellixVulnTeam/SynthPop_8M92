{
 "cells": [
  {
   "cell_type": "code",
   "execution_count": 1,
   "metadata": {},
   "outputs": [
    {
     "name": "stdout",
     "output_type": "stream",
     "text": [
      "3.7.9\n"
     ]
    }
   ],
   "source": [
    "from platform import python_version\n",
    "\n",
    "print(python_version())"
   ]
  },
  {
   "cell_type": "code",
   "execution_count": 2,
   "metadata": {},
   "outputs": [],
   "source": [
    "import os\n",
    "os.chdir('../..')"
   ]
  },
  {
   "cell_type": "code",
   "execution_count": 3,
   "metadata": {},
   "outputs": [
    {
     "name": "stdout",
     "output_type": "stream",
     "text": [
      "WARNING:tensorflow:From D:\\Users\\glede\\anaconda3\\envs\\py37\\lib\\site-packages\\tensorpack\\callbacks\\hooks.py:17: The name tf.train.SessionRunHook is deprecated. Please use tf.estimator.SessionRunHook instead.\n",
      "\n",
      "WARNING:tensorflow:From D:\\Users\\glede\\anaconda3\\envs\\py37\\lib\\site-packages\\tensorpack\\tfutils\\optimizer.py:18: The name tf.train.Optimizer is deprecated. Please use tf.compat.v1.train.Optimizer instead.\n",
      "\n",
      "WARNING:tensorflow:From D:\\Users\\glede\\anaconda3\\envs\\py37\\lib\\site-packages\\tensorpack\\tfutils\\sesscreate.py:20: The name tf.train.SessionCreator is deprecated. Please use tf.compat.v1.train.SessionCreator instead.\n",
      "\n"
     ]
    }
   ],
   "source": [
    "import numpy as np\n",
    "import pandas as pd\n",
    "\n",
    "import tensorflow as tf\n",
    "\n",
    "import matplotlib.pyplot as plt\n",
    "\n",
    "from modules.datgan_preLSTM.model import DATGAN\n",
    "#from modules.datgan_no_att.model import DATGAN\n",
    "import networkx as nx\n",
    "\n",
    "# For the Python notebook\n",
    "%matplotlib inline\n",
    "%reload_ext autoreload\n",
    "%autoreload 2"
   ]
  },
  {
   "cell_type": "code",
   "execution_count": 4,
   "metadata": {},
   "outputs": [
    {
     "data": {
      "text/plain": [
       "'1.15.5'"
      ]
     },
     "execution_count": 4,
     "metadata": {},
     "output_type": "execute_result"
    }
   ],
   "source": [
    "tf.__version__"
   ]
  },
  {
   "cell_type": "code",
   "execution_count": 5,
   "metadata": {},
   "outputs": [],
   "source": [
    "df = pd.read_csv('../data/Chicago/full.csv')"
   ]
  },
  {
   "cell_type": "code",
   "execution_count": 6,
   "metadata": {},
   "outputs": [],
   "source": [
    "continuous_columns = [\"distance\", \"age\", \"departure_time\"]"
   ]
  },
  {
   "cell_type": "code",
   "execution_count": 7,
   "metadata": {},
   "outputs": [],
   "source": [
    "# personalised graph\n",
    "graph = nx.DiGraph()\n",
    "graph.add_edges_from([(\"age\", \"license\"),\n",
    "                      (\"age\", \"education_level\"),\n",
    "                      (\"gender\", \"work_status\"),\n",
    "                      (\"education_level\", \"work_status\"),\n",
    "                      (\"work_status\", \"hh_income\"),\n",
    "                      (\"education_level\", \"hh_income\"),\n",
    "                      (\"hh_income\", \"hh_descr\"),\n",
    "                      (\"hh_income\", \"hh_size\"),\n",
    "                      (\"hh_size\", \"hh_vehicles\"),\n",
    "                      (\"hh_size\", \"hh_bikes\"),\n",
    "                      (\"work_status\", \"trip_purpose\"),\n",
    "                      (\"trip_purpose\", \"departure_time\"),\n",
    "                      (\"trip_purpose\", \"distance\"),\n",
    "                      (\"travel_dow\", \"choice\"),\n",
    "                      (\"distance\", \"choice\"),\n",
    "                      (\"departure_time\", \"choice\"),\n",
    "                      (\"hh_vehicles\", \"choice\"),\n",
    "                      (\"hh_bikes\", \"choice\"),\n",
    "                      (\"license\", \"choice\"),\n",
    "                      # Non necessary links\n",
    "                      #(\"education_level\", \"hh_size\"),\n",
    "                      #(\"work_status\", \"hh_descr\"),\n",
    "                      #(\"work_status\", \"hh_size\"),\n",
    "                      #(\"hh_income\", \"hh_bikes\"),\n",
    "                      #(\"hh_income\", \"hh_vehicles\"),\n",
    "                      #(\"trip_purpose\", \"choice\")\n",
    "                     ])\n",
    "output_folder = '../output/DATGAN_PRELSTM_small/'"
   ]
  },
  {
   "cell_type": "code",
   "execution_count": 8,
   "metadata": {},
   "outputs": [
    {
     "data": {
      "text/plain": [
       "InEdgeView([('age', 'license'), ('age', 'education_level'), ('gender', 'work_status'), ('education_level', 'work_status'), ('work_status', 'hh_income'), ('education_level', 'hh_income'), ('hh_income', 'hh_descr'), ('hh_income', 'hh_size'), ('hh_size', 'hh_vehicles'), ('hh_size', 'hh_bikes'), ('work_status', 'trip_purpose'), ('trip_purpose', 'departure_time'), ('trip_purpose', 'distance'), ('travel_dow', 'choice'), ('distance', 'choice'), ('departure_time', 'choice'), ('hh_vehicles', 'choice'), ('hh_bikes', 'choice'), ('license', 'choice')])"
      ]
     },
     "execution_count": 8,
     "metadata": {},
     "output_type": "execute_result"
    }
   ],
   "source": [
    "graph.in_edges"
   ]
  },
  {
   "cell_type": "code",
   "execution_count": 9,
   "metadata": {
    "scrolled": true
   },
   "outputs": [
    {
     "name": "stdout",
     "output_type": "stream",
     "text": [
      "WARNING:tensorflow:From D:\\Users\\glede\\anaconda3\\envs\\py37\\lib\\site-packages\\tensorpack\\graph_builder\\model_desc.py:29: The name tf.get_default_graph is deprecated. Please use tf.compat.v1.get_default_graph instead.\n",
      "\n",
      "WARNING:tensorflow:From D:\\Users\\glede\\anaconda3\\envs\\py37\\lib\\site-packages\\tensorpack\\graph_builder\\model_desc.py:39: The name tf.placeholder is deprecated. Please use tf.compat.v1.placeholder instead.\n",
      "\n",
      "WARNING:tensorflow:From D:\\Users\\glede\\anaconda3\\envs\\py37\\lib\\site-packages\\tensorpack\\input_source\\input_source.py:219: The name tf.FIFOQueue is deprecated. Please use tf.queue.FIFOQueue instead.\n",
      "\n",
      "\u001b[32m[0503 10:35:16 @input_source.py:222]\u001b[0m Setting up the queue 'QueueInput/input_queue' for CPU prefetching ...\n",
      "WARNING:tensorflow:From D:\\Users\\glede\\anaconda3\\envs\\py37\\lib\\site-packages\\tensorpack\\tfutils\\summary.py:237: The name tf.get_variable_scope is deprecated. Please use tf.compat.v1.get_variable_scope instead.\n",
      "\n",
      "WARNING:tensorflow:From D:\\Users\\glede\\anaconda3\\envs\\py37\\lib\\site-packages\\tensorpack\\tfutils\\summary.py:27: The name tf.variable_scope is deprecated. Please use tf.compat.v1.variable_scope instead.\n",
      "\n",
      "WARNING:tensorflow:From D:\\Users\\glede\\anaconda3\\envs\\py37\\lib\\site-packages\\tensorpack\\tfutils\\summary.py:254: The name tf.get_variable is deprecated. Please use tf.compat.v1.get_variable instead.\n",
      "\n",
      "WARNING:tensorflow:From D:\\Users\\glede\\anaconda3\\envs\\py37\\lib\\site-packages\\tensorpack\\tfutils\\summary.py:264: The name tf.summary.scalar is deprecated. Please use tf.compat.v1.summary.scalar instead.\n",
      "\n",
      "WARNING:tensorflow:From D:\\Users\\glede\\anaconda3\\envs\\py37\\lib\\site-packages\\tensorpack\\tfutils\\collection.py:105: The name tf.GraphKeys is deprecated. Please use tf.compat.v1.GraphKeys instead.\n",
      "\n",
      "WARNING:tensorflow:From D:\\Users\\glede\\anaconda3\\envs\\py37\\lib\\site-packages\\tensorpack\\tfutils\\collection.py:33: The name tf.get_collection is deprecated. Please use tf.compat.v1.get_collection instead.\n",
      "\n",
      "WARNING:tensorflow:From C:\\Users\\glede\\Documents\\EPFL\\PhD\\SynthPop\\code\\modules\\datgan_preLSTM\\model.py:620: The name tf.random_normal is deprecated. Please use tf.random.normal instead.\n",
      "\n",
      "WARNING:tensorflow:From C:\\Users\\glede\\Documents\\EPFL\\PhD\\SynthPop\\code\\modules\\datgan_preLSTM\\model.py:623: The name tf.placeholder_with_default is deprecated. Please use tf.compat.v1.placeholder_with_default instead.\n",
      "\n",
      "WARNING:tensorflow:From C:\\Users\\glede\\Documents\\EPFL\\PhD\\SynthPop\\code\\modules\\datgan_preLSTM\\model.py:283: LSTMCell.__init__ (from tensorflow.python.ops.rnn_cell_impl) is deprecated and will be removed in a future version.\n",
      "Instructions for updating:\n",
      "This class is equivalent as tf.keras.layers.LSTMCell, and will be replaced by that in Tensorflow 2.0.\n",
      "\u001b[91m-> Creating cell for age (in-edges: 0)\n",
      "WARNING:tensorflow:From D:\\Users\\glede\\anaconda3\\envs\\py37\\lib\\site-packages\\tensorflow_core\\python\\ops\\rnn_cell_impl.py:958: Layer.add_variable (from tensorflow.python.keras.engine.base_layer) is deprecated and will be removed in a future version.\n",
      "Instructions for updating:\n",
      "Please use `layer.add_weight` method instead.\n",
      "WARNING:tensorflow:From D:\\Users\\glede\\anaconda3\\envs\\py37\\lib\\site-packages\\tensorflow_core\\python\\ops\\rnn_cell_impl.py:962: calling Zeros.__init__ (from tensorflow.python.ops.init_ops) with dtype is deprecated and will be removed in a future version.\n",
      "Instructions for updating:\n",
      "Call initializer instance with the dtype argument instead of passing it to the constructor\n",
      "\u001b[32m[0503 10:35:16 @registry.py:126]\u001b[0m gen/LSTM/00/FC input: [200, 100]\n",
      "WARNING:tensorflow:From D:\\Users\\glede\\anaconda3\\envs\\py37\\lib\\site-packages\\tensorpack\\models\\fc.py:57: The name tf.layers.Dense is deprecated. Please use tf.compat.v1.layers.Dense instead.\n",
      "\n",
      "WARNING:tensorflow:From D:\\Users\\glede\\anaconda3\\envs\\py37\\lib\\site-packages\\tensorpack\\models\\fc.py:67: Layer.apply (from tensorflow.python.keras.engine.base_layer) is deprecated and will be removed in a future version.\n",
      "Instructions for updating:\n",
      "Please use `layer.__call__` method instead.\n",
      "\u001b[32m[0503 10:35:16 @registry.py:134]\u001b[0m gen/LSTM/00/FC output: [200, 100]\n",
      "\u001b[32m[0503 10:35:16 @registry.py:126]\u001b[0m gen/LSTM/00/FC2 input: [200, 100]\n",
      "\u001b[32m[0503 10:35:16 @registry.py:134]\u001b[0m gen/LSTM/00/FC2 output: [200, 1]\n",
      "\u001b[32m[0503 10:35:16 @registry.py:126]\u001b[0m gen/LSTM/01/FC input: [200, 100]\n",
      "\u001b[32m[0503 10:35:16 @registry.py:134]\u001b[0m gen/LSTM/01/FC output: [200, 100]\n",
      "\u001b[32m[0503 10:35:16 @registry.py:126]\u001b[0m gen/LSTM/01/FC2 input: [200, 100]\n",
      "\u001b[32m[0503 10:35:16 @registry.py:134]\u001b[0m gen/LSTM/01/FC2 output: [200, 5]\n",
      "\u001b[32m[0503 10:35:16 @registry.py:126]\u001b[0m gen/LSTM/01/FC3 input: [200, 5]\n",
      "\u001b[32m[0503 10:35:16 @registry.py:134]\u001b[0m gen/LSTM/01/FC3 output: [200, 100]\n",
      "\u001b[91m-> Creating cell for gender (in-edges: 0)\n",
      "\u001b[32m[0503 10:35:16 @registry.py:126]\u001b[0m gen/LSTM/02/FC input: [200, 100]\n",
      "\u001b[32m[0503 10:35:16 @registry.py:134]\u001b[0m gen/LSTM/02/FC output: [200, 100]\n",
      "\u001b[32m[0503 10:35:16 @registry.py:126]\u001b[0m gen/LSTM/02/FC2 input: [200, 100]\n",
      "\u001b[32m[0503 10:35:16 @registry.py:134]\u001b[0m gen/LSTM/02/FC2 output: [200, 2]\n",
      "\u001b[32m[0503 10:35:16 @registry.py:126]\u001b[0m gen/LSTM/02/FC3 input: [200, 2]\n",
      "\u001b[32m[0503 10:35:16 @registry.py:134]\u001b[0m gen/LSTM/02/FC3 output: [200, 100]\n",
      "\u001b[91m-> Creating cell for travel_dow (in-edges: 0)\n",
      "\u001b[32m[0503 10:35:17 @registry.py:126]\u001b[0m gen/LSTM/03/FC input: [200, 100]\n",
      "\u001b[32m[0503 10:35:17 @registry.py:134]\u001b[0m gen/LSTM/03/FC output: [200, 100]\n",
      "\u001b[32m[0503 10:35:17 @registry.py:126]\u001b[0m gen/LSTM/03/FC2 input: [200, 100]\n",
      "\u001b[32m[0503 10:35:17 @registry.py:134]\u001b[0m gen/LSTM/03/FC2 output: [200, 7]\n",
      "\u001b[32m[0503 10:35:17 @registry.py:126]\u001b[0m gen/LSTM/03/FC3 input: [200, 7]\n",
      "\u001b[32m[0503 10:35:17 @registry.py:134]\u001b[0m gen/LSTM/03/FC3 output: [200, 100]\n",
      "\u001b[91m-> Creating cell for license (in-edges: 1)\n",
      "\u001b[32m[0503 10:35:17 @registry.py:126]\u001b[0m gen/LSTM/04/FC input: [200, 100]\n",
      "\u001b[32m[0503 10:35:17 @registry.py:134]\u001b[0m gen/LSTM/04/FC output: [200, 100]\n",
      "\u001b[32m[0503 10:35:17 @registry.py:126]\u001b[0m gen/LSTM/04/FC2 input: [200, 100]\n",
      "\u001b[32m[0503 10:35:17 @registry.py:134]\u001b[0m gen/LSTM/04/FC2 output: [200, 2]\n",
      "\u001b[32m[0503 10:35:17 @registry.py:126]\u001b[0m gen/LSTM/04/FC3 input: [200, 2]\n",
      "\u001b[32m[0503 10:35:17 @registry.py:134]\u001b[0m gen/LSTM/04/FC3 output: [200, 100]\n",
      "\u001b[91m-> Creating cell for education_level (in-edges: 1)\n",
      "\u001b[32m[0503 10:35:17 @registry.py:126]\u001b[0m gen/LSTM/05/FC input: [200, 100]\n",
      "\u001b[32m[0503 10:35:17 @registry.py:134]\u001b[0m gen/LSTM/05/FC output: [200, 100]\n",
      "\u001b[32m[0503 10:35:17 @registry.py:126]\u001b[0m gen/LSTM/05/FC2 input: [200, 100]\n",
      "\u001b[32m[0503 10:35:17 @registry.py:134]\u001b[0m gen/LSTM/05/FC2 output: [200, 6]\n",
      "\u001b[32m[0503 10:35:17 @registry.py:126]\u001b[0m gen/LSTM/05/FC3 input: [200, 6]\n",
      "\u001b[32m[0503 10:35:17 @registry.py:134]\u001b[0m gen/LSTM/05/FC3 output: [200, 100]\n",
      "\u001b[91m-> Creating cell for work_status (in-edges: 2)\n",
      "\u001b[32m[0503 10:35:17 @registry.py:126]\u001b[0m gen/LSTM/06/FC_inputs input: [200, 200]\n",
      "\u001b[32m[0503 10:35:17 @registry.py:134]\u001b[0m gen/LSTM/06/FC_inputs output: [200, 100]\n",
      "\u001b[32m[0503 10:35:17 @registry.py:126]\u001b[0m gen/LSTM/06/FC_attentions input: [200, 200]\n",
      "\u001b[32m[0503 10:35:17 @registry.py:134]\u001b[0m gen/LSTM/06/FC_attentions output: [200, 100]\n",
      "\u001b[32m[0503 10:35:17 @registry.py:126]\u001b[0m gen/LSTM/06/FC_lstm_state_0 input: [200, 200]\n",
      "\u001b[32m[0503 10:35:17 @registry.py:134]\u001b[0m gen/LSTM/06/FC_lstm_state_0 output: [200, 100]\n",
      "\u001b[32m[0503 10:35:17 @registry.py:126]\u001b[0m gen/LSTM/06/FC_lstm_state_1 input: [200, 200]\n",
      "\u001b[32m[0503 10:35:17 @registry.py:134]\u001b[0m gen/LSTM/06/FC_lstm_state_1 output: [200, 100]\n",
      "WARNING:tensorflow:From C:\\Users\\glede\\Documents\\EPFL\\PhD\\SynthPop\\code\\modules\\datgan_preLSTM\\model.py:396: The name tf.nn.rnn_cell.LSTMStateTuple is deprecated. Please use tf.compat.v1.nn.rnn_cell.LSTMStateTuple instead.\n",
      "\n",
      "\u001b[32m[0503 10:35:17 @registry.py:126]\u001b[0m gen/LSTM/07/FC input: [200, 100]\n",
      "\u001b[32m[0503 10:35:17 @registry.py:134]\u001b[0m gen/LSTM/07/FC output: [200, 100]\n",
      "\u001b[32m[0503 10:35:17 @registry.py:126]\u001b[0m gen/LSTM/07/FC2 input: [200, 100]\n",
      "\u001b[32m[0503 10:35:17 @registry.py:134]\u001b[0m gen/LSTM/07/FC2 output: [200, 8]\n",
      "\u001b[32m[0503 10:35:17 @registry.py:126]\u001b[0m gen/LSTM/07/FC3 input: [200, 8]\n",
      "\u001b[32m[0503 10:35:17 @registry.py:134]\u001b[0m gen/LSTM/07/FC3 output: [200, 100]\n",
      "\u001b[91m-> Creating cell for hh_income (in-edges: 2)\n",
      "\u001b[32m[0503 10:35:17 @registry.py:126]\u001b[0m gen/LSTM/08/FC_inputs input: [200, 200]\n"
     ]
    },
    {
     "name": "stdout",
     "output_type": "stream",
     "text": [
      "\u001b[32m[0503 10:35:17 @registry.py:134]\u001b[0m gen/LSTM/08/FC_inputs output: [200, 100]\n",
      "\u001b[32m[0503 10:35:17 @registry.py:126]\u001b[0m gen/LSTM/08/FC_attentions input: [200, 200]\n",
      "\u001b[32m[0503 10:35:17 @registry.py:134]\u001b[0m gen/LSTM/08/FC_attentions output: [200, 100]\n",
      "\u001b[32m[0503 10:35:17 @registry.py:126]\u001b[0m gen/LSTM/08/FC_lstm_state_0 input: [200, 200]\n",
      "\u001b[32m[0503 10:35:17 @registry.py:134]\u001b[0m gen/LSTM/08/FC_lstm_state_0 output: [200, 100]\n",
      "\u001b[32m[0503 10:35:17 @registry.py:126]\u001b[0m gen/LSTM/08/FC_lstm_state_1 input: [200, 200]\n",
      "\u001b[32m[0503 10:35:17 @registry.py:134]\u001b[0m gen/LSTM/08/FC_lstm_state_1 output: [200, 100]\n",
      "\u001b[32m[0503 10:35:17 @registry.py:126]\u001b[0m gen/LSTM/09/FC input: [200, 100]\n",
      "\u001b[32m[0503 10:35:17 @registry.py:134]\u001b[0m gen/LSTM/09/FC output: [200, 100]\n",
      "\u001b[32m[0503 10:35:17 @registry.py:126]\u001b[0m gen/LSTM/09/FC2 input: [200, 100]\n",
      "\u001b[32m[0503 10:35:17 @registry.py:134]\u001b[0m gen/LSTM/09/FC2 output: [200, 7]\n",
      "\u001b[32m[0503 10:35:17 @registry.py:126]\u001b[0m gen/LSTM/09/FC3 input: [200, 7]\n",
      "\u001b[32m[0503 10:35:17 @registry.py:134]\u001b[0m gen/LSTM/09/FC3 output: [200, 100]\n",
      "\u001b[91m-> Creating cell for trip_purpose (in-edges: 1)\n",
      "\u001b[32m[0503 10:35:17 @registry.py:126]\u001b[0m gen/LSTM/10/FC input: [200, 100]\n",
      "\u001b[32m[0503 10:35:17 @registry.py:134]\u001b[0m gen/LSTM/10/FC output: [200, 100]\n",
      "\u001b[32m[0503 10:35:17 @registry.py:126]\u001b[0m gen/LSTM/10/FC2 input: [200, 100]\n",
      "\u001b[32m[0503 10:35:17 @registry.py:134]\u001b[0m gen/LSTM/10/FC2 output: [200, 7]\n",
      "\u001b[32m[0503 10:35:17 @registry.py:126]\u001b[0m gen/LSTM/10/FC3 input: [200, 7]\n",
      "\u001b[32m[0503 10:35:17 @registry.py:134]\u001b[0m gen/LSTM/10/FC3 output: [200, 100]\n",
      "\u001b[91m-> Creating cell for hh_descr (in-edges: 1)\n",
      "\u001b[32m[0503 10:35:17 @registry.py:126]\u001b[0m gen/LSTM/11/FC input: [200, 100]\n",
      "\u001b[32m[0503 10:35:17 @registry.py:134]\u001b[0m gen/LSTM/11/FC output: [200, 100]\n",
      "\u001b[32m[0503 10:35:17 @registry.py:126]\u001b[0m gen/LSTM/11/FC2 input: [200, 100]\n",
      "\u001b[32m[0503 10:35:17 @registry.py:134]\u001b[0m gen/LSTM/11/FC2 output: [200, 3]\n",
      "\u001b[32m[0503 10:35:17 @registry.py:126]\u001b[0m gen/LSTM/11/FC3 input: [200, 3]\n",
      "\u001b[32m[0503 10:35:17 @registry.py:134]\u001b[0m gen/LSTM/11/FC3 output: [200, 100]\n",
      "\u001b[91m-> Creating cell for hh_size (in-edges: 1)\n",
      "\u001b[32m[0503 10:35:17 @registry.py:126]\u001b[0m gen/LSTM/12/FC input: [200, 100]\n",
      "\u001b[32m[0503 10:35:17 @registry.py:134]\u001b[0m gen/LSTM/12/FC output: [200, 100]\n",
      "\u001b[32m[0503 10:35:17 @registry.py:126]\u001b[0m gen/LSTM/12/FC2 input: [200, 100]\n",
      "\u001b[32m[0503 10:35:17 @registry.py:134]\u001b[0m gen/LSTM/12/FC2 output: [200, 8]\n",
      "\u001b[32m[0503 10:35:17 @registry.py:126]\u001b[0m gen/LSTM/12/FC3 input: [200, 8]\n",
      "\u001b[32m[0503 10:35:17 @registry.py:134]\u001b[0m gen/LSTM/12/FC3 output: [200, 100]\n",
      "\u001b[91m-> Creating cell for departure_time (in-edges: 1)\n",
      "\u001b[32m[0503 10:35:17 @registry.py:126]\u001b[0m gen/LSTM/13/FC input: [200, 100]\n",
      "\u001b[32m[0503 10:35:17 @registry.py:134]\u001b[0m gen/LSTM/13/FC output: [200, 100]\n",
      "\u001b[32m[0503 10:35:17 @registry.py:126]\u001b[0m gen/LSTM/13/FC2 input: [200, 100]\n",
      "\u001b[32m[0503 10:35:17 @registry.py:134]\u001b[0m gen/LSTM/13/FC2 output: [200, 1]\n",
      "\u001b[32m[0503 10:35:17 @registry.py:126]\u001b[0m gen/LSTM/14/FC input: [200, 100]\n",
      "\u001b[32m[0503 10:35:17 @registry.py:134]\u001b[0m gen/LSTM/14/FC output: [200, 100]\n",
      "\u001b[32m[0503 10:35:17 @registry.py:126]\u001b[0m gen/LSTM/14/FC2 input: [200, 100]\n",
      "\u001b[32m[0503 10:35:17 @registry.py:134]\u001b[0m gen/LSTM/14/FC2 output: [200, 5]\n",
      "\u001b[32m[0503 10:35:17 @registry.py:126]\u001b[0m gen/LSTM/14/FC3 input: [200, 5]\n",
      "\u001b[32m[0503 10:35:17 @registry.py:134]\u001b[0m gen/LSTM/14/FC3 output: [200, 100]\n",
      "\u001b[91m-> Creating cell for distance (in-edges: 1)\n",
      "\u001b[32m[0503 10:35:17 @registry.py:126]\u001b[0m gen/LSTM/15/FC input: [200, 100]\n",
      "\u001b[32m[0503 10:35:17 @registry.py:134]\u001b[0m gen/LSTM/15/FC output: [200, 100]\n",
      "\u001b[32m[0503 10:35:17 @registry.py:126]\u001b[0m gen/LSTM/15/FC2 input: [200, 100]\n",
      "\u001b[32m[0503 10:35:17 @registry.py:134]\u001b[0m gen/LSTM/15/FC2 output: [200, 1]\n",
      "\u001b[32m[0503 10:35:17 @registry.py:126]\u001b[0m gen/LSTM/16/FC input: [200, 100]\n",
      "\u001b[32m[0503 10:35:17 @registry.py:134]\u001b[0m gen/LSTM/16/FC output: [200, 100]\n",
      "\u001b[32m[0503 10:35:17 @registry.py:126]\u001b[0m gen/LSTM/16/FC2 input: [200, 100]\n",
      "\u001b[32m[0503 10:35:17 @registry.py:134]\u001b[0m gen/LSTM/16/FC2 output: [200, 5]\n",
      "\u001b[32m[0503 10:35:17 @registry.py:126]\u001b[0m gen/LSTM/16/FC3 input: [200, 5]\n",
      "\u001b[32m[0503 10:35:17 @registry.py:134]\u001b[0m gen/LSTM/16/FC3 output: [200, 100]\n",
      "\u001b[91m-> Creating cell for hh_vehicles (in-edges: 1)\n",
      "\u001b[32m[0503 10:35:17 @registry.py:126]\u001b[0m gen/LSTM/17/FC input: [200, 100]\n",
      "\u001b[32m[0503 10:35:17 @registry.py:134]\u001b[0m gen/LSTM/17/FC output: [200, 100]\n",
      "\u001b[32m[0503 10:35:17 @registry.py:126]\u001b[0m gen/LSTM/17/FC2 input: [200, 100]\n",
      "\u001b[32m[0503 10:35:17 @registry.py:134]\u001b[0m gen/LSTM/17/FC2 output: [200, 9]\n",
      "\u001b[32m[0503 10:35:17 @registry.py:126]\u001b[0m gen/LSTM/17/FC3 input: [200, 9]\n",
      "\u001b[32m[0503 10:35:17 @registry.py:134]\u001b[0m gen/LSTM/17/FC3 output: [200, 100]\n",
      "\u001b[91m-> Creating cell for hh_bikes (in-edges: 1)\n",
      "\u001b[32m[0503 10:35:17 @registry.py:126]\u001b[0m gen/LSTM/18/FC input: [200, 100]\n",
      "\u001b[32m[0503 10:35:17 @registry.py:134]\u001b[0m gen/LSTM/18/FC output: [200, 100]\n",
      "\u001b[32m[0503 10:35:17 @registry.py:126]\u001b[0m gen/LSTM/18/FC2 input: [200, 100]\n",
      "\u001b[32m[0503 10:35:17 @registry.py:134]\u001b[0m gen/LSTM/18/FC2 output: [200, 8]\n",
      "\u001b[32m[0503 10:35:17 @registry.py:126]\u001b[0m gen/LSTM/18/FC3 input: [200, 8]\n",
      "\u001b[32m[0503 10:35:17 @registry.py:134]\u001b[0m gen/LSTM/18/FC3 output: [200, 100]\n",
      "\u001b[91m-> Creating cell for choice (in-edges: 6)\n",
      "\u001b[32m[0503 10:35:17 @registry.py:126]\u001b[0m gen/LSTM/19/FC_inputs input: [200, 600]\n",
      "\u001b[32m[0503 10:35:17 @registry.py:134]\u001b[0m gen/LSTM/19/FC_inputs output: [200, 100]\n",
      "\u001b[32m[0503 10:35:17 @registry.py:126]\u001b[0m gen/LSTM/19/FC_attentions input: [200, 600]\n",
      "\u001b[32m[0503 10:35:17 @registry.py:134]\u001b[0m gen/LSTM/19/FC_attentions output: [200, 100]\n",
      "\u001b[32m[0503 10:35:17 @registry.py:126]\u001b[0m gen/LSTM/19/FC_lstm_state_0 input: [200, 600]\n",
      "\u001b[32m[0503 10:35:17 @registry.py:134]\u001b[0m gen/LSTM/19/FC_lstm_state_0 output: [200, 100]\n",
      "\u001b[32m[0503 10:35:17 @registry.py:126]\u001b[0m gen/LSTM/19/FC_lstm_state_1 input: [200, 600]\n",
      "\u001b[32m[0503 10:35:17 @registry.py:134]\u001b[0m gen/LSTM/19/FC_lstm_state_1 output: [200, 100]\n",
      "\u001b[32m[0503 10:35:17 @registry.py:126]\u001b[0m gen/LSTM/20/FC input: [200, 100]\n",
      "\u001b[32m[0503 10:35:17 @registry.py:134]\u001b[0m gen/LSTM/20/FC output: [200, 100]\n",
      "\u001b[32m[0503 10:35:17 @registry.py:126]\u001b[0m gen/LSTM/20/FC2 input: [200, 100]\n",
      "\u001b[32m[0503 10:35:17 @registry.py:134]\u001b[0m gen/LSTM/20/FC2 output: [200, 5]\n",
      "\u001b[32m[0503 10:35:17 @registry.py:126]\u001b[0m gen/LSTM/20/FC3 input: [200, 5]\n",
      "\u001b[32m[0503 10:35:17 @registry.py:134]\u001b[0m gen/LSTM/20/FC3 output: [200, 100]\n",
      "WARNING:tensorflow:From C:\\Users\\glede\\Documents\\EPFL\\PhD\\SynthPop\\code\\modules\\datgan_preLSTM\\model.py:667: The name tf.random_uniform is deprecated. Please use tf.random.uniform instead.\n",
      "\n",
      "WARNING:tensorflow:From C:\\Users\\glede\\Documents\\EPFL\\PhD\\SynthPop\\code\\modules\\datgan_preLSTM\\model.py:608: The name tf.log is deprecated. Please use tf.math.log instead.\n",
      "\n",
      "\u001b[32m[0503 10:35:18 @registry.py:126]\u001b[0m discrim/dis_fc0/fc input: [200, 90]\n",
      "\u001b[32m[0503 10:35:18 @registry.py:134]\u001b[0m discrim/dis_fc0/fc output: [200, 100]\n",
      "\u001b[32m[0503 10:35:18 @registry.py:126]\u001b[0m discrim/dis_fc0/fc_diversity input: [200, 100]\n",
      "\u001b[32m[0503 10:35:18 @registry.py:134]\u001b[0m discrim/dis_fc0/fc_diversity output: [200, 100]\n",
      "WARNING:tensorflow:From D:\\Users\\glede\\anaconda3\\envs\\py37\\lib\\site-packages\\tensorpack\\models\\batch_norm.py:204: The name tf.layers.BatchNormalization is deprecated. Please use tf.compat.v1.layers.BatchNormalization instead.\n",
      "\n",
      "WARNING:tensorflow:From D:\\Users\\glede\\anaconda3\\envs\\py37\\lib\\site-packages\\tensorpack\\models\\batch_norm.py:212: The name tf.add_to_collection is deprecated. Please use tf.compat.v1.add_to_collection instead.\n",
      "\n",
      "\u001b[32m[0503 10:35:18 @registry.py:126]\u001b[0m discrim/dis_fc_top input: [200, 110]\n",
      "\u001b[32m[0503 10:35:18 @registry.py:134]\u001b[0m discrim/dis_fc_top output: [200, 1]\n",
      "WARNING:tensorflow:From C:\\Users\\glede\\Documents\\EPFL\\PhD\\SynthPop\\code\\modules\\datgan_preLSTM\\model.py:123: The name tf.summary.histogram is deprecated. Please use tf.compat.v1.summary.histogram instead.\n",
      "\n",
      "WARNING:tensorflow:From D:\\Users\\glede\\anaconda3\\envs\\py37\\lib\\site-packages\\tensorflow_core\\python\\ops\\nn_impl.py:183: where (from tensorflow.python.ops.array_ops) is deprecated and will be removed in a future version.\n",
      "Instructions for updating:\n",
      "Use tf.where in 2.0, which has the same broadcast rule as np.where\n"
     ]
    },
    {
     "name": "stdout",
     "output_type": "stream",
     "text": [
      "WARNING:tensorflow:\n",
      "The TensorFlow contrib module will not be included in TensorFlow 2.0.\n",
      "For more information, please see:\n",
      "  * https://github.com/tensorflow/community/blob/master/rfcs/20180907-contrib-sunset.md\n",
      "  * https://github.com/tensorflow/addons\n",
      "  * https://github.com/tensorflow/io (for I/O related ops)\n",
      "If you depend on functionality not listed there, please file an issue.\n",
      "\n",
      "WARNING:tensorflow:From C:\\Users\\glede\\Documents\\EPFL\\PhD\\SynthPop\\code\\modules\\datgan_preLSTM\\model.py:728: The name tf.train.AdamOptimizer is deprecated. Please use tf.compat.v1.train.AdamOptimizer instead.\n",
      "\n",
      "WARNING:tensorflow:From D:\\Users\\glede\\anaconda3\\envs\\py37\\lib\\site-packages\\tensorpack\\tfutils\\varmanip.py:178: The name tf.gfile.Exists is deprecated. Please use tf.io.gfile.exists instead.\n",
      "\n",
      "\u001b[32m[0503 10:35:21 @logger.py:83]\u001b[0m Existing log file '../output/DATGAN_PRELSTM_small/logs\\log.log' backuped to '../output/DATGAN_PRELSTM_small/logs\\log.log.0503-103521'\n",
      "\u001b[32m[0503 10:35:21 @logger.py:90]\u001b[0m Argv: D:\\Users\\glede\\anaconda3\\envs\\py37\\lib\\site-packages\\ipykernel_launcher.py -f C:\\Users\\glede\\AppData\\Roaming\\jupyter\\runtime\\kernel-7117831c-5295-4bf8-bd5b-8e6eb36d2b58.json\n",
      "WARNING:tensorflow:From D:\\Users\\glede\\anaconda3\\envs\\py37\\lib\\site-packages\\tensorpack\\callbacks\\saver.py:43: The name tf.gfile.IsDirectory is deprecated. Please use tf.io.gfile.isdir instead.\n",
      "\n",
      "WARNING:tensorflow:From D:\\Users\\glede\\anaconda3\\envs\\py37\\lib\\site-packages\\tensorpack\\tfutils\\common.py:41: The name tf.ConfigProto is deprecated. Please use tf.compat.v1.ConfigProto instead.\n",
      "\n",
      "\u001b[32m[0503 10:35:21 @model_utils.py:67]\u001b[0m \u001b[36mList of Trainable Variables: \n",
      "\u001b[0mname                              shape         #elements\n",
      "--------------------------------  ----------  -----------\n",
      "gen/LSTM/go_age:0                 [1, 100]            100\n",
      "gen/LSTM/lstm_cell/kernel:0       [500, 400]       200000\n",
      "gen/LSTM/lstm_cell/bias:0         [400]               400\n",
      "gen/LSTM/00/FC/W:0                [100, 100]        10000\n",
      "gen/LSTM/00/FC/b:0                [100]               100\n",
      "gen/LSTM/00/FC2/W:0               [100, 1]            100\n",
      "gen/LSTM/00/FC2/b:0               [1]                   1\n",
      "gen/LSTM/00/attw:0                [1, 1, 1]             1\n",
      "gen/LSTM/01/FC/W:0                [100, 100]        10000\n",
      "gen/LSTM/01/FC/b:0                [100]               100\n",
      "gen/LSTM/01/FC2/W:0               [100, 5]            500\n",
      "gen/LSTM/01/FC2/b:0               [5]                   5\n",
      "gen/LSTM/01/FC3/W:0               [5, 100]            500\n",
      "gen/LSTM/01/FC3/b:0               [100]               100\n",
      "gen/LSTM/01/attw:0                [2, 1, 1]             2\n",
      "gen/LSTM/go_gender:0              [1, 100]            100\n",
      "gen/LSTM/02/FC/W:0                [100, 100]        10000\n",
      "gen/LSTM/02/FC/b:0                [100]               100\n",
      "gen/LSTM/02/FC2/W:0               [100, 2]            200\n",
      "gen/LSTM/02/FC2/b:0               [2]                   2\n",
      "gen/LSTM/02/FC3/W:0               [2, 100]            200\n",
      "gen/LSTM/02/FC3/b:0               [100]               100\n",
      "gen/LSTM/02/attw:0                [1, 1, 1]             1\n",
      "gen/LSTM/go_travel_dow:0          [1, 100]            100\n",
      "gen/LSTM/03/FC/W:0                [100, 100]        10000\n",
      "gen/LSTM/03/FC/b:0                [100]               100\n",
      "gen/LSTM/03/FC2/W:0               [100, 7]            700\n",
      "gen/LSTM/03/FC2/b:0               [7]                   7\n",
      "gen/LSTM/03/FC3/W:0               [7, 100]            700\n",
      "gen/LSTM/03/FC3/b:0               [100]               100\n",
      "gen/LSTM/03/attw:0                [1, 1, 1]             1\n",
      "gen/LSTM/04/FC/W:0                [100, 100]        10000\n",
      "gen/LSTM/04/FC/b:0                [100]               100\n",
      "gen/LSTM/04/FC2/W:0               [100, 2]            200\n",
      "gen/LSTM/04/FC2/b:0               [2]                   2\n",
      "gen/LSTM/04/FC3/W:0               [2, 100]            200\n",
      "gen/LSTM/04/FC3/b:0               [100]               100\n",
      "gen/LSTM/04/attw:0                [3, 1, 1]             3\n",
      "gen/LSTM/05/FC/W:0                [100, 100]        10000\n",
      "gen/LSTM/05/FC/b:0                [100]               100\n",
      "gen/LSTM/05/FC2/W:0               [100, 6]            600\n",
      "gen/LSTM/05/FC2/b:0               [6]                   6\n",
      "gen/LSTM/05/FC3/W:0               [6, 100]            600\n",
      "gen/LSTM/05/FC3/b:0               [100]               100\n",
      "gen/LSTM/05/attw:0                [3, 1, 1]             3\n",
      "gen/LSTM/06/FC_inputs/W:0         [200, 100]        20000\n",
      "gen/LSTM/06/FC_inputs/b:0         [100]               100\n",
      "gen/LSTM/06/FC_attentions/W:0     [200, 100]        20000\n",
      "gen/LSTM/06/FC_attentions/b:0     [100]               100\n",
      "gen/LSTM/06/FC_lstm_state_0/W:0   [200, 100]        20000\n",
      "gen/LSTM/06/FC_lstm_state_0/b:0   [100]               100\n",
      "gen/LSTM/06/FC_lstm_state_1/W:0   [200, 100]        20000\n",
      "gen/LSTM/06/FC_lstm_state_1/b:0   [100]               100\n",
      "gen/LSTM/07/FC/W:0                [100, 100]        10000\n",
      "gen/LSTM/07/FC/b:0                [100]               100\n",
      "gen/LSTM/07/FC2/W:0               [100, 8]            800\n",
      "gen/LSTM/07/FC2/b:0               [8]                   8\n",
      "gen/LSTM/07/FC3/W:0               [8, 100]            800\n",
      "gen/LSTM/07/FC3/b:0               [100]               100\n",
      "gen/LSTM/07/attw:0                [5, 1, 1]             5\n",
      "gen/LSTM/08/FC_inputs/W:0         [200, 100]        20000\n",
      "gen/LSTM/08/FC_inputs/b:0         [100]               100\n",
      "gen/LSTM/08/FC_attentions/W:0     [200, 100]        20000\n",
      "gen/LSTM/08/FC_attentions/b:0     [100]               100\n",
      "gen/LSTM/08/FC_lstm_state_0/W:0   [200, 100]        20000\n",
      "gen/LSTM/08/FC_lstm_state_0/b:0   [100]               100\n",
      "gen/LSTM/08/FC_lstm_state_1/W:0   [200, 100]        20000\n",
      "gen/LSTM/08/FC_lstm_state_1/b:0   [100]               100\n",
      "gen/LSTM/09/FC/W:0                [100, 100]        10000\n",
      "gen/LSTM/09/FC/b:0                [100]               100\n",
      "gen/LSTM/09/FC2/W:0               [100, 7]            700\n",
      "gen/LSTM/09/FC2/b:0               [7]                   7\n",
      "gen/LSTM/09/FC3/W:0               [7, 100]            700\n",
      "gen/LSTM/09/FC3/b:0               [100]               100\n",
      "gen/LSTM/09/attw:0                [6, 1, 1]             6\n",
      "gen/LSTM/10/FC/W:0                [100, 100]        10000\n",
      "gen/LSTM/10/FC/b:0                [100]               100\n",
      "gen/LSTM/10/FC2/W:0               [100, 7]            700\n",
      "gen/LSTM/10/FC2/b:0               [7]                   7\n",
      "gen/LSTM/10/FC3/W:0               [7, 100]            700\n",
      "gen/LSTM/10/FC3/b:0               [100]               100\n",
      "gen/LSTM/10/attw:0                [6, 1, 1]             6\n",
      "gen/LSTM/11/FC/W:0                [100, 100]        10000\n",
      "gen/LSTM/11/FC/b:0                [100]               100\n",
      "gen/LSTM/11/FC2/W:0               [100, 3]            300\n",
      "gen/LSTM/11/FC2/b:0               [3]                   3\n",
      "gen/LSTM/11/FC3/W:0               [3, 100]            300\n",
      "gen/LSTM/11/FC3/b:0               [100]               100\n",
      "gen/LSTM/11/attw:0                [7, 1, 1]             7\n",
      "gen/LSTM/12/FC/W:0                [100, 100]        10000\n",
      "gen/LSTM/12/FC/b:0                [100]               100\n",
      "gen/LSTM/12/FC2/W:0               [100, 8]            800\n",
      "gen/LSTM/12/FC2/b:0               [8]                   8\n",
      "gen/LSTM/12/FC3/W:0               [8, 100]            800\n",
      "gen/LSTM/12/FC3/b:0               [100]               100\n",
      "gen/LSTM/12/attw:0                [7, 1, 1]             7\n",
      "gen/LSTM/13/FC/W:0                [100, 100]        10000\n",
      "gen/LSTM/13/FC/b:0                [100]               100\n",
      "gen/LSTM/13/FC2/W:0               [100, 1]            100\n",
      "gen/LSTM/13/FC2/b:0               [1]                   1\n",
      "gen/LSTM/13/attw:0                [7, 1, 1]             7\n",
      "gen/LSTM/14/FC/W:0                [100, 100]        10000\n",
      "gen/LSTM/14/FC/b:0                [100]               100\n",
      "gen/LSTM/14/FC2/W:0               [100, 5]            500\n",
      "gen/LSTM/14/FC2/b:0               [5]                   5\n",
      "gen/LSTM/14/FC3/W:0               [5, 100]            500\n",
      "gen/LSTM/14/FC3/b:0               [100]               100\n",
      "gen/LSTM/14/attw:0                [8, 1, 1]             8\n",
      "gen/LSTM/15/FC/W:0                [100, 100]        10000\n",
      "gen/LSTM/15/FC/b:0                [100]               100\n",
      "gen/LSTM/15/FC2/W:0               [100, 1]            100\n",
      "gen/LSTM/15/FC2/b:0               [1]                   1\n",
      "gen/LSTM/15/attw:0                [7, 1, 1]             7\n",
      "gen/LSTM/16/FC/W:0                [100, 100]        10000\n",
      "gen/LSTM/16/FC/b:0                [100]               100\n",
      "gen/LSTM/16/FC2/W:0               [100, 5]            500\n",
      "gen/LSTM/16/FC2/b:0               [5]                   5\n",
      "gen/LSTM/16/FC3/W:0               [5, 100]            500\n",
      "gen/LSTM/16/FC3/b:0               [100]               100\n",
      "gen/LSTM/16/attw:0                [8, 1, 1]             8\n",
      "gen/LSTM/17/FC/W:0                [100, 100]        10000\n",
      "gen/LSTM/17/FC/b:0                [100]               100\n",
      "gen/LSTM/17/FC2/W:0               [100, 9]            900\n",
      "gen/LSTM/17/FC2/b:0               [9]                   9\n",
      "gen/LSTM/17/FC3/W:0               [9, 100]            900\n",
      "gen/LSTM/17/FC3/b:0               [100]               100\n",
      "gen/LSTM/17/attw:0                [8, 1, 1]             8\n",
      "gen/LSTM/18/FC/W:0                [100, 100]        10000\n",
      "gen/LSTM/18/FC/b:0                [100]               100\n",
      "gen/LSTM/18/FC2/W:0               [100, 8]            800\n",
      "gen/LSTM/18/FC2/b:0               [8]                   8\n",
      "gen/LSTM/18/FC3/W:0               [8, 100]            800\n",
      "gen/LSTM/18/FC3/b:0               [100]               100\n",
      "gen/LSTM/18/attw:0                [8, 1, 1]             8\n",
      "gen/LSTM/19/FC_inputs/W:0         [600, 100]        60000\n",
      "gen/LSTM/19/FC_inputs/b:0         [100]               100\n",
      "gen/LSTM/19/FC_attentions/W:0     [600, 100]        60000\n",
      "gen/LSTM/19/FC_attentions/b:0     [100]               100\n",
      "gen/LSTM/19/FC_lstm_state_0/W:0   [600, 100]        60000\n",
      "gen/LSTM/19/FC_lstm_state_0/b:0   [100]               100\n",
      "gen/LSTM/19/FC_lstm_state_1/W:0   [600, 100]        60000\n",
      "gen/LSTM/19/FC_lstm_state_1/b:0   [100]               100\n",
      "gen/LSTM/20/FC/W:0                [100, 100]        10000\n",
      "gen/LSTM/20/FC/b:0                [100]               100\n",
      "gen/LSTM/20/FC2/W:0               [100, 5]            500\n",
      "gen/LSTM/20/FC2/b:0               [5]                   5\n",
      "gen/LSTM/20/FC3/W:0               [5, 100]            500\n",
      "gen/LSTM/20/FC3/b:0               [100]               100\n",
      "gen/LSTM/20/attw:0                [17, 1, 1]           17\n",
      "discrim/dis_fc0/fc/W:0            [90, 100]          9000\n",
      "discrim/dis_fc0/fc/b:0            [100]               100\n",
      "discrim/dis_fc0/fc_diversity/W:0  [100, 100]        10000\n",
      "discrim/dis_fc0/fc_diversity/b:0  [100]               100\n",
      "discrim/dis_fc0/bn/beta:0         [110]               110\n",
      "discrim/dis_fc_top/W:0            [110, 1]            110\n",
      "discrim/dis_fc_top/b:0            [1]                   1\u001b[36m\n",
      "Number of trainable variables: 156\n",
      "Number of parameters (elements): 822516\n",
      "Storage space needed for all trainable variables: 3.14MB\u001b[0m\n"
     ]
    },
    {
     "name": "stdout",
     "output_type": "stream",
     "text": [
      "\u001b[32m[0503 10:35:21 @base.py:209]\u001b[0m Setup callbacks graph ...\n",
      "WARNING:tensorflow:From D:\\Users\\glede\\anaconda3\\envs\\py37\\lib\\site-packages\\tensorpack\\callbacks\\graph.py:54: The name tf.train.SessionRunArgs is deprecated. Please use tf.estimator.SessionRunArgs instead.\n",
      "\n",
      "WARNING:tensorflow:From D:\\Users\\glede\\anaconda3\\envs\\py37\\lib\\site-packages\\tensorpack\\tfutils\\common.py:75: The name tf.VariableScope is deprecated. Please use tf.compat.v1.VariableScope instead.\n",
      "\n",
      "WARNING:tensorflow:From D:\\Users\\glede\\anaconda3\\envs\\py37\\lib\\site-packages\\tensorpack\\tfutils\\common.py:77: The name tf.train.get_or_create_global_step is deprecated. Please use tf.compat.v1.train.get_or_create_global_step instead.\n",
      "\n",
      "WARNING:tensorflow:From D:\\Users\\glede\\anaconda3\\envs\\py37\\lib\\site-packages\\tensorpack\\callbacks\\steps.py:117: The name tf.assign_add is deprecated. Please use tf.compat.v1.assign_add instead.\n",
      "\n",
      "WARNING:tensorflow:From D:\\Users\\glede\\anaconda3\\envs\\py37\\lib\\site-packages\\tensorpack\\callbacks\\saver.py:55: The name tf.train.Saver is deprecated. Please use tf.compat.v1.train.Saver instead.\n",
      "\n",
      "WARNING:tensorflow:From D:\\Users\\glede\\anaconda3\\envs\\py37\\lib\\site-packages\\tensorpack\\callbacks\\saver.py:59: The name tf.train.SaverDef is deprecated. Please use tf.compat.v1.train.SaverDef instead.\n",
      "\n",
      "\u001b[32m[0503 10:35:22 @summary.py:46]\u001b[0m [MovingAverageSummary] 6 operations in collection 'MOVING_SUMMARY_OPS' will be run with session hooks.\n",
      "\u001b[32m[0503 10:35:22 @summary.py:93]\u001b[0m Summarizing collection 'summaries' of size 9.\n",
      "WARNING:tensorflow:From D:\\Users\\glede\\anaconda3\\envs\\py37\\lib\\site-packages\\tensorpack\\callbacks\\summary.py:94: The name tf.summary.merge_all is deprecated. Please use tf.compat.v1.summary.merge_all instead.\n",
      "\n",
      "\u001b[32m[0503 10:35:22 @graph.py:98]\u001b[0m Applying collection UPDATE_OPS of 4 ops.\n",
      "WARNING:tensorflow:From D:\\Users\\glede\\anaconda3\\envs\\py37\\lib\\site-packages\\tensorpack\\callbacks\\monitor.py:261: The name tf.summary.FileWriter is deprecated. Please use tf.compat.v1.summary.FileWriter instead.\n",
      "\n",
      "WARNING:tensorflow:From D:\\Users\\glede\\anaconda3\\envs\\py37\\lib\\site-packages\\tensorpack\\tfutils\\sessinit.py:120: The name tf.train.NewCheckpointReader is deprecated. Please use tf.compat.v1.train.NewCheckpointReader instead.\n",
      "\n",
      "WARNING:tensorflow:From D:\\Users\\glede\\anaconda3\\envs\\py37\\lib\\site-packages\\tensorpack\\tfutils\\sessinit.py:127: The name tf.global_variables is deprecated. Please use tf.compat.v1.global_variables instead.\n",
      "\n",
      "\u001b[32m[0503 10:35:23 @base.py:230]\u001b[0m Creating the session ...\n",
      "WARNING:tensorflow:From D:\\Users\\glede\\anaconda3\\envs\\py37\\lib\\site-packages\\tensorpack\\tfutils\\sesscreate.py:42: The name tf.Session is deprecated. Please use tf.compat.v1.Session instead.\n",
      "\n",
      "WARNING:tensorflow:From D:\\Users\\glede\\anaconda3\\envs\\py37\\lib\\site-packages\\tensorpack\\tfutils\\sesscreate.py:71: The name tf.global_variables_initializer is deprecated. Please use tf.compat.v1.global_variables_initializer instead.\n",
      "\n",
      "WARNING:tensorflow:From D:\\Users\\glede\\anaconda3\\envs\\py37\\lib\\site-packages\\tensorpack\\tfutils\\sesscreate.py:62: get_backward_walk_ops (from tensorflow.contrib.graph_editor.select) is deprecated and will be removed after 2019-06-06.\n",
      "Instructions for updating:\n",
      "Please use tensorflow.python.ops.op_selector.get_backward_walk_ops.\n",
      "WARNING:tensorflow:From D:\\Users\\glede\\anaconda3\\envs\\py37\\lib\\site-packages\\tensorpack\\tfutils\\sesscreate.py:72: The name tf.local_variables_initializer is deprecated. Please use tf.compat.v1.local_variables_initializer instead.\n",
      "\n",
      "WARNING:tensorflow:From D:\\Users\\glede\\anaconda3\\envs\\py37\\lib\\site-packages\\tensorpack\\tfutils\\sesscreate.py:73: The name tf.tables_initializer is deprecated. Please use tf.compat.v1.tables_initializer instead.\n",
      "\n",
      "WARNING:tensorflow:From D:\\Users\\glede\\anaconda3\\envs\\py37\\lib\\site-packages\\tensorpack\\train\\base.py:254: The name tf.train.MonitoredSession is deprecated. Please use tf.compat.v1.train.MonitoredSession instead.\n",
      "\n",
      "\u001b[32m[0503 10:35:30 @base.py:236]\u001b[0m Initializing the session ...\n",
      "\u001b[32m[0503 10:35:30 @sessinit.py:114]\u001b[0m Restoring checkpoint from ../output/DATGAN_PRELSTM_small/model\\model-1648000 ...\n",
      "INFO:tensorflow:Restoring parameters from ../output/DATGAN_PRELSTM_small/model\\model-1648000\n",
      "\u001b[32m[0503 10:35:30 @base.py:243]\u001b[0m Graph Finalized.\n",
      "WARNING:tensorflow:From D:\\Users\\glede\\anaconda3\\envs\\py37\\lib\\site-packages\\tensorpack\\tfutils\\common.py:89: The name tf.train.global_step is deprecated. Please use tf.compat.v1.train.global_step instead.\n",
      "\n",
      "WARNING:tensorflow:From D:\\Users\\glede\\anaconda3\\envs\\py37\\lib\\site-packages\\tensorpack\\tfutils\\common.py:90: The name tf.get_default_session is deprecated. Please use tf.compat.v1.get_default_session instead.\n",
      "\n",
      "\u001b[32m[0503 10:35:30 @concurrency.py:38]\u001b[0m Starting EnqueueThread QueueInput/input_queue ...\n",
      "\u001b[32m[0503 10:35:30 @steps.py:124]\u001b[0m Start training with global_step=1648000\n",
      "\u001b[32m[0503 10:35:31 @monitor.py:347]\u001b[0m Found existing JSON inside ../output/DATGAN_PRELSTM_small/logs, will append to it.\n",
      "\u001b[32m[0503 10:35:31 @base.py:275]\u001b[0m Start Epoch 825 ...\n"
     ]
    },
    {
     "name": "stderr",
     "output_type": "stream",
     "text": [
      " 99%|################################################################################1|1978/2000[00:35<00:00,58.99it/s]"
     ]
    },
    {
     "name": "stdout",
     "output_type": "stream",
     "text": [
      "WARNING:tensorflow:From D:\\Users\\glede\\anaconda3\\envs\\py37\\lib\\site-packages\\tensorpack\\callbacks\\monitor.py:148: The name tf.Summary is deprecated. Please use tf.compat.v1.Summary instead.\n",
      "\n"
     ]
    },
    {
     "name": "stderr",
     "output_type": "stream",
     "text": [
      "\r",
      "100%|#################################################################################|2000/2000[00:38<00:00,52.33it/s]"
     ]
    },
    {
     "name": "stdout",
     "output_type": "stream",
     "text": [
      "\u001b[32m[0503 10:36:09 @base.py:285]\u001b[0m Epoch 825 (global_step 1650000) finished, time:38.2 seconds.\n",
      "WARNING:tensorflow:From D:\\Users\\glede\\anaconda3\\envs\\py37\\lib\\site-packages\\tensorpack\\callbacks\\saver.py:77: The name tf.train.get_global_step is deprecated. Please use tf.compat.v1.train.get_global_step instead.\n",
      "\n"
     ]
    },
    {
     "name": "stderr",
     "output_type": "stream",
     "text": [
      "\n"
     ]
    },
    {
     "name": "stdout",
     "output_type": "stream",
     "text": [
      "\u001b[32m[0503 10:36:09 @saver.py:79]\u001b[0m Model saved to ../output/DATGAN_PRELSTM_small/model\\model-1650000.\n",
      "\u001b[32m[0503 10:36:10 @monitor.py:467]\u001b[0m GAN_loss/discrim/accuracy_fake: 0.935\n",
      "\u001b[32m[0503 10:36:10 @monitor.py:467]\u001b[0m GAN_loss/discrim/accuracy_real: 0.13\n",
      "\u001b[32m[0503 10:36:10 @monitor.py:467]\u001b[0m GAN_loss/discrim/loss: 0.63899\n",
      "\u001b[32m[0503 10:36:10 @monitor.py:467]\u001b[0m GAN_loss/gen/final-g-loss: 1.1485\n",
      "\u001b[32m[0503 10:36:10 @monitor.py:467]\u001b[0m GAN_loss/gen/klloss: 0.17318\n",
      "\u001b[32m[0503 10:36:10 @monitor.py:467]\u001b[0m GAN_loss/gen/loss: 0.97531\n",
      "\u001b[32m[0503 10:36:10 @monitor.py:467]\u001b[0m QueueInput/queue_size: 50\n",
      "\u001b[32m[0503 10:36:10 @base.py:275]\u001b[0m Start Epoch 826 ...\n"
     ]
    },
    {
     "name": "stderr",
     "output_type": "stream",
     "text": [
      "100%|#################################################################################|2000/2000[00:33<00:00,59.84it/s]"
     ]
    },
    {
     "name": "stdout",
     "output_type": "stream",
     "text": [
      "\u001b[32m[0503 10:36:43 @base.py:285]\u001b[0m Epoch 826 (global_step 1652000) finished, time:33.4 seconds.\n",
      "\u001b[32m[0503 10:36:43 @saver.py:79]\u001b[0m Model saved to ../output/DATGAN_PRELSTM_small/model\\model-1652000.\n"
     ]
    },
    {
     "name": "stderr",
     "output_type": "stream",
     "text": [
      "\n"
     ]
    },
    {
     "name": "stdout",
     "output_type": "stream",
     "text": [
      "\u001b[32m[0503 10:36:43 @monitor.py:467]\u001b[0m GAN_loss/discrim/accuracy_fake: 0.925\n",
      "\u001b[32m[0503 10:36:43 @monitor.py:467]\u001b[0m GAN_loss/discrim/accuracy_real: 0.12\n",
      "\u001b[32m[0503 10:36:43 @monitor.py:467]\u001b[0m GAN_loss/discrim/loss: 0.65243\n",
      "\u001b[32m[0503 10:36:43 @monitor.py:467]\u001b[0m GAN_loss/gen/final-g-loss: 1.0685\n",
      "\u001b[32m[0503 10:36:43 @monitor.py:467]\u001b[0m GAN_loss/gen/klloss: 0.13407\n",
      "\u001b[32m[0503 10:36:43 @monitor.py:467]\u001b[0m GAN_loss/gen/loss: 0.93442\n",
      "\u001b[32m[0503 10:36:43 @monitor.py:467]\u001b[0m QueueInput/queue_size: 50\n",
      "\u001b[32m[0503 10:36:43 @base.py:275]\u001b[0m Start Epoch 827 ...\n"
     ]
    },
    {
     "name": "stderr",
     "output_type": "stream",
     "text": [
      "100%|#################################################################################|2000/2000[00:33<00:00,59.51it/s]"
     ]
    },
    {
     "name": "stdout",
     "output_type": "stream",
     "text": [
      "\u001b[32m[0503 10:37:17 @base.py:285]\u001b[0m Epoch 827 (global_step 1654000) finished, time:33.6 seconds.\n",
      "\u001b[32m[0503 10:37:17 @saver.py:79]\u001b[0m Model saved to ../output/DATGAN_PRELSTM_small/model\\model-1654000.\n",
      "\u001b[32m[0503 10:37:17 @monitor.py:467]\u001b[0m GAN_loss/discrim/accuracy_fake: 0.91\n"
     ]
    },
    {
     "name": "stderr",
     "output_type": "stream",
     "text": [
      "\n"
     ]
    },
    {
     "name": "stdout",
     "output_type": "stream",
     "text": [
      "\u001b[32m[0503 10:37:17 @monitor.py:467]\u001b[0m GAN_loss/discrim/accuracy_real: 0.13\n",
      "\u001b[32m[0503 10:37:17 @monitor.py:467]\u001b[0m GAN_loss/discrim/loss: 0.64688\n",
      "\u001b[32m[0503 10:37:17 @monitor.py:467]\u001b[0m GAN_loss/gen/final-g-loss: 1.0502\n",
      "\u001b[32m[0503 10:37:17 @monitor.py:467]\u001b[0m GAN_loss/gen/klloss: 0.1092\n",
      "\u001b[32m[0503 10:37:17 @monitor.py:467]\u001b[0m GAN_loss/gen/loss: 0.941\n",
      "\u001b[32m[0503 10:37:17 @monitor.py:467]\u001b[0m QueueInput/queue_size: 50\n",
      "\u001b[32m[0503 10:37:17 @base.py:275]\u001b[0m Start Epoch 828 ...\n"
     ]
    },
    {
     "name": "stderr",
     "output_type": "stream",
     "text": [
      "100%|#################################################################################|2000/2000[00:34<00:00,58.58it/s]"
     ]
    },
    {
     "name": "stdout",
     "output_type": "stream",
     "text": [
      "\u001b[32m[0503 10:37:51 @base.py:285]\u001b[0m Epoch 828 (global_step 1656000) finished, time:34.1 seconds.\n",
      "\u001b[32m[0503 10:37:51 @saver.py:79]\u001b[0m Model saved to ../output/DATGAN_PRELSTM_small/model\\model-1656000.\n",
      "\u001b[32m[0503 10:37:51 @monitor.py:467]\u001b[0m GAN_loss/discrim/accuracy_fake: 0.945\n"
     ]
    },
    {
     "name": "stderr",
     "output_type": "stream",
     "text": [
      "\n"
     ]
    },
    {
     "name": "stdout",
     "output_type": "stream",
     "text": [
      "\u001b[32m[0503 10:37:51 @monitor.py:467]\u001b[0m GAN_loss/discrim/accuracy_real: 0.075\n",
      "\u001b[32m[0503 10:37:51 @monitor.py:467]\u001b[0m GAN_loss/discrim/loss: 0.65728\n",
      "\u001b[32m[0503 10:37:51 @monitor.py:467]\u001b[0m GAN_loss/gen/final-g-loss: 1.0599\n",
      "\u001b[32m[0503 10:37:51 @monitor.py:467]\u001b[0m GAN_loss/gen/klloss: 0.10866\n",
      "\u001b[32m[0503 10:37:51 @monitor.py:467]\u001b[0m GAN_loss/gen/loss: 0.95122\n",
      "\u001b[32m[0503 10:37:51 @monitor.py:467]\u001b[0m QueueInput/queue_size: 50\n",
      "\u001b[32m[0503 10:37:51 @base.py:275]\u001b[0m Start Epoch 829 ...\n"
     ]
    },
    {
     "name": "stderr",
     "output_type": "stream",
     "text": [
      "100%|#################################################################################|2000/2000[00:34<00:00,58.74it/s]"
     ]
    },
    {
     "name": "stdout",
     "output_type": "stream",
     "text": [
      "\u001b[32m[0503 10:38:25 @base.py:285]\u001b[0m Epoch 829 (global_step 1658000) finished, time:34 seconds.\n",
      "\u001b[32m[0503 10:38:25 @saver.py:79]\u001b[0m Model saved to ../output/DATGAN_PRELSTM_small/model\\model-1658000.\n"
     ]
    },
    {
     "name": "stderr",
     "output_type": "stream",
     "text": [
      "\n"
     ]
    },
    {
     "name": "stdout",
     "output_type": "stream",
     "text": [
      "\u001b[32m[0503 10:38:26 @monitor.py:467]\u001b[0m GAN_loss/discrim/accuracy_fake: 0.915\n",
      "\u001b[32m[0503 10:38:26 @monitor.py:467]\u001b[0m GAN_loss/discrim/accuracy_real: 0.095\n",
      "\u001b[32m[0503 10:38:26 @monitor.py:467]\u001b[0m GAN_loss/discrim/loss: 0.65032\n",
      "\u001b[32m[0503 10:38:26 @monitor.py:467]\u001b[0m GAN_loss/gen/final-g-loss: 1.025\n",
      "\u001b[32m[0503 10:38:26 @monitor.py:467]\u001b[0m GAN_loss/gen/klloss: 0.076335\n",
      "\u001b[32m[0503 10:38:26 @monitor.py:467]\u001b[0m GAN_loss/gen/loss: 0.94868\n",
      "\u001b[32m[0503 10:38:26 @monitor.py:467]\u001b[0m QueueInput/queue_size: 50\n",
      "\u001b[32m[0503 10:38:26 @base.py:275]\u001b[0m Start Epoch 830 ...\n"
     ]
    },
    {
     "name": "stderr",
     "output_type": "stream",
     "text": [
      "100%|#################################################################################|2000/2000[00:34<00:00,58.01it/s]"
     ]
    },
    {
     "name": "stdout",
     "output_type": "stream",
     "text": [
      "\u001b[32m[0503 10:39:00 @base.py:285]\u001b[0m Epoch 830 (global_step 1660000) finished, time:34.5 seconds.\n",
      "\u001b[32m[0503 10:39:00 @saver.py:79]\u001b[0m Model saved to ../output/DATGAN_PRELSTM_small/model\\model-1660000.\n"
     ]
    },
    {
     "name": "stderr",
     "output_type": "stream",
     "text": [
      "\n"
     ]
    },
    {
     "name": "stdout",
     "output_type": "stream",
     "text": [
      "\u001b[32m[0503 10:39:00 @monitor.py:467]\u001b[0m GAN_loss/discrim/accuracy_fake: 0.95\n",
      "\u001b[32m[0503 10:39:00 @monitor.py:467]\u001b[0m GAN_loss/discrim/accuracy_real: 0.125\n",
      "\u001b[32m[0503 10:39:00 @monitor.py:467]\u001b[0m GAN_loss/discrim/loss: 0.65078\n",
      "\u001b[32m[0503 10:39:00 @monitor.py:467]\u001b[0m GAN_loss/gen/final-g-loss: 0.97949\n",
      "\u001b[32m[0503 10:39:00 @monitor.py:467]\u001b[0m GAN_loss/gen/klloss: 0.051363\n",
      "\u001b[32m[0503 10:39:00 @monitor.py:467]\u001b[0m GAN_loss/gen/loss: 0.92813\n",
      "\u001b[32m[0503 10:39:00 @monitor.py:467]\u001b[0m QueueInput/queue_size: 50\n",
      "\u001b[32m[0503 10:39:00 @base.py:275]\u001b[0m Start Epoch 831 ...\n"
     ]
    },
    {
     "name": "stderr",
     "output_type": "stream",
     "text": [
      "100%|#################################################################################|2000/2000[00:34<00:00,58.30it/s]"
     ]
    },
    {
     "name": "stdout",
     "output_type": "stream",
     "text": [
      "\u001b[32m[0503 10:39:35 @base.py:285]\u001b[0m Epoch 831 (global_step 1662000) finished, time:34.3 seconds.\n",
      "\u001b[32m[0503 10:39:35 @saver.py:79]\u001b[0m Model saved to ../output/DATGAN_PRELSTM_small/model\\model-1662000.\n"
     ]
    },
    {
     "name": "stderr",
     "output_type": "stream",
     "text": [
      "\n"
     ]
    },
    {
     "name": "stdout",
     "output_type": "stream",
     "text": [
      "\u001b[32m[0503 10:39:35 @monitor.py:467]\u001b[0m GAN_loss/discrim/accuracy_fake: 0.935\n",
      "\u001b[32m[0503 10:39:35 @monitor.py:467]\u001b[0m GAN_loss/discrim/accuracy_real: 0.09\n",
      "\u001b[32m[0503 10:39:35 @monitor.py:467]\u001b[0m GAN_loss/discrim/loss: 0.64838\n",
      "\u001b[32m[0503 10:39:35 @monitor.py:467]\u001b[0m GAN_loss/gen/final-g-loss: 1.115\n",
      "\u001b[32m[0503 10:39:35 @monitor.py:467]\u001b[0m GAN_loss/gen/klloss: 0.1586\n",
      "\u001b[32m[0503 10:39:35 @monitor.py:467]\u001b[0m GAN_loss/gen/loss: 0.95641\n",
      "\u001b[32m[0503 10:39:35 @monitor.py:467]\u001b[0m QueueInput/queue_size: 50\n",
      "\u001b[32m[0503 10:39:35 @base.py:275]\u001b[0m Start Epoch 832 ...\n"
     ]
    },
    {
     "name": "stderr",
     "output_type": "stream",
     "text": [
      "100%|#################################################################################|2000/2000[00:34<00:00,57.67it/s]"
     ]
    },
    {
     "name": "stdout",
     "output_type": "stream",
     "text": [
      "\u001b[32m[0503 10:40:09 @base.py:285]\u001b[0m Epoch 832 (global_step 1664000) finished, time:34.7 seconds.\n",
      "\u001b[32m[0503 10:40:09 @saver.py:79]\u001b[0m Model saved to ../output/DATGAN_PRELSTM_small/model\\model-1664000.\n",
      "\u001b[32m[0503 10:40:10 @monitor.py:467]\u001b[0m GAN_loss/discrim/accuracy_fake: 0.93\n"
     ]
    },
    {
     "name": "stderr",
     "output_type": "stream",
     "text": [
      "\n"
     ]
    },
    {
     "name": "stdout",
     "output_type": "stream",
     "text": [
      "\u001b[32m[0503 10:40:10 @monitor.py:467]\u001b[0m GAN_loss/discrim/accuracy_real: 0.125\n",
      "\u001b[32m[0503 10:40:10 @monitor.py:467]\u001b[0m GAN_loss/discrim/loss: 0.65074\n",
      "\u001b[32m[0503 10:40:10 @monitor.py:467]\u001b[0m GAN_loss/gen/final-g-loss: 1.0242\n",
      "\u001b[32m[0503 10:40:10 @monitor.py:467]\u001b[0m GAN_loss/gen/klloss: 0.086488\n",
      "\u001b[32m[0503 10:40:10 @monitor.py:467]\u001b[0m GAN_loss/gen/loss: 0.93776\n",
      "\u001b[32m[0503 10:40:10 @monitor.py:467]\u001b[0m QueueInput/queue_size: 50\n",
      "\u001b[32m[0503 10:40:10 @base.py:275]\u001b[0m Start Epoch 833 ...\n"
     ]
    },
    {
     "name": "stderr",
     "output_type": "stream",
     "text": [
      "100%|#################################################################################|2000/2000[00:34<00:00,58.58it/s]"
     ]
    },
    {
     "name": "stdout",
     "output_type": "stream",
     "text": [
      "\u001b[32m[0503 10:40:44 @base.py:285]\u001b[0m Epoch 833 (global_step 1666000) finished, time:34.1 seconds.\n",
      "\u001b[32m[0503 10:40:44 @saver.py:79]\u001b[0m Model saved to ../output/DATGAN_PRELSTM_small/model\\model-1666000.\n",
      "\u001b[32m[0503 10:40:44 @monitor.py:467]\u001b[0m GAN_loss/discrim/accuracy_fake: 0.94\n"
     ]
    },
    {
     "name": "stderr",
     "output_type": "stream",
     "text": [
      "\n"
     ]
    },
    {
     "name": "stdout",
     "output_type": "stream",
     "text": [
      "\u001b[32m[0503 10:40:44 @monitor.py:467]\u001b[0m GAN_loss/discrim/accuracy_real: 0.11\n",
      "\u001b[32m[0503 10:40:44 @monitor.py:467]\u001b[0m GAN_loss/discrim/loss: 0.6495\n",
      "\u001b[32m[0503 10:40:44 @monitor.py:467]\u001b[0m GAN_loss/gen/final-g-loss: 1.1028\n",
      "\u001b[32m[0503 10:40:44 @monitor.py:467]\u001b[0m GAN_loss/gen/klloss: 0.15617\n",
      "\u001b[32m[0503 10:40:44 @monitor.py:467]\u001b[0m GAN_loss/gen/loss: 0.94662\n",
      "\u001b[32m[0503 10:40:44 @monitor.py:467]\u001b[0m QueueInput/queue_size: 50\n",
      "\u001b[32m[0503 10:40:44 @base.py:275]\u001b[0m Start Epoch 834 ...\n"
     ]
    },
    {
     "name": "stderr",
     "output_type": "stream",
     "text": [
      "100%|#################################################################################|2000/2000[00:33<00:00,59.91it/s]"
     ]
    },
    {
     "name": "stdout",
     "output_type": "stream",
     "text": [
      "\u001b[32m[0503 10:41:17 @base.py:285]\u001b[0m Epoch 834 (global_step 1668000) finished, time:33.4 seconds.\n",
      "\u001b[32m[0503 10:41:17 @saver.py:79]\u001b[0m Model saved to ../output/DATGAN_PRELSTM_small/model\\model-1668000.\n"
     ]
    },
    {
     "name": "stderr",
     "output_type": "stream",
     "text": [
      "\n"
     ]
    },
    {
     "name": "stdout",
     "output_type": "stream",
     "text": [
      "\u001b[32m[0503 10:41:17 @monitor.py:467]\u001b[0m GAN_loss/discrim/accuracy_fake: 0.975\n",
      "\u001b[32m[0503 10:41:17 @monitor.py:467]\u001b[0m GAN_loss/discrim/accuracy_real: 0.105\n",
      "\u001b[32m[0503 10:41:17 @monitor.py:467]\u001b[0m GAN_loss/discrim/loss: 0.63445\n",
      "\u001b[32m[0503 10:41:17 @monitor.py:467]\u001b[0m GAN_loss/gen/final-g-loss: 1.0572\n",
      "\u001b[32m[0503 10:41:17 @monitor.py:467]\u001b[0m GAN_loss/gen/klloss: 0.10883\n",
      "\u001b[32m[0503 10:41:17 @monitor.py:467]\u001b[0m GAN_loss/gen/loss: 0.94835\n",
      "\u001b[32m[0503 10:41:17 @monitor.py:467]\u001b[0m QueueInput/queue_size: 50\n",
      "\u001b[32m[0503 10:41:17 @base.py:275]\u001b[0m Start Epoch 835 ...\n"
     ]
    },
    {
     "name": "stderr",
     "output_type": "stream",
     "text": [
      "100%|#################################################################################|2000/2000[00:33<00:00,59.05it/s]"
     ]
    },
    {
     "name": "stdout",
     "output_type": "stream",
     "text": [
      "\u001b[32m[0503 10:41:51 @base.py:285]\u001b[0m Epoch 835 (global_step 1670000) finished, time:33.9 seconds.\n",
      "WARNING:tensorflow:From D:\\Users\\glede\\anaconda3\\envs\\py37\\lib\\site-packages\\tensorflow_core\\python\\training\\saver.py:963: remove_checkpoint (from tensorflow.python.training.checkpoint_management) is deprecated and will be removed in a future version.\n",
      "Instructions for updating:\n",
      "Use standard file APIs to delete files with this prefix.\n",
      "\u001b[32m[0503 10:41:51 @saver.py:79]\u001b[0m Model saved to ../output/DATGAN_PRELSTM_small/model\\model-1670000.\n",
      "\u001b[32m[0503 10:41:52 @monitor.py:467]\u001b[0m GAN_loss/discrim/accuracy_fake: 0.94\n"
     ]
    },
    {
     "name": "stderr",
     "output_type": "stream",
     "text": [
      "\n"
     ]
    },
    {
     "name": "stdout",
     "output_type": "stream",
     "text": [
      "\u001b[32m[0503 10:41:52 @monitor.py:467]\u001b[0m GAN_loss/discrim/accuracy_real: 0.105\n",
      "\u001b[32m[0503 10:41:52 @monitor.py:467]\u001b[0m GAN_loss/discrim/loss: 0.64491\n",
      "\u001b[32m[0503 10:41:52 @monitor.py:467]\u001b[0m GAN_loss/gen/final-g-loss: 1.0142\n",
      "\u001b[32m[0503 10:41:52 @monitor.py:467]\u001b[0m GAN_loss/gen/klloss: 0.063955\n",
      "\u001b[32m[0503 10:41:52 @monitor.py:467]\u001b[0m GAN_loss/gen/loss: 0.95026\n",
      "\u001b[32m[0503 10:41:52 @monitor.py:467]\u001b[0m QueueInput/queue_size: 50\n",
      "\u001b[32m[0503 10:41:52 @base.py:275]\u001b[0m Start Epoch 836 ...\n"
     ]
    },
    {
     "name": "stderr",
     "output_type": "stream",
     "text": [
      "100%|#################################################################################|2000/2000[00:33<00:00,60.00it/s]"
     ]
    },
    {
     "name": "stdout",
     "output_type": "stream",
     "text": [
      "\u001b[32m[0503 10:42:25 @base.py:285]\u001b[0m Epoch 836 (global_step 1672000) finished, time:33.3 seconds.\n",
      "\u001b[32m[0503 10:42:25 @saver.py:79]\u001b[0m Model saved to ../output/DATGAN_PRELSTM_small/model\\model-1672000.\n",
      "\u001b[32m[0503 10:42:25 @monitor.py:467]\u001b[0m GAN_loss/discrim/accuracy_fake: 0.975\n"
     ]
    },
    {
     "name": "stderr",
     "output_type": "stream",
     "text": [
      "\n"
     ]
    },
    {
     "name": "stdout",
     "output_type": "stream",
     "text": [
      "\u001b[32m[0503 10:42:25 @monitor.py:467]\u001b[0m GAN_loss/discrim/accuracy_real: 0.095\n",
      "\u001b[32m[0503 10:42:25 @monitor.py:467]\u001b[0m GAN_loss/discrim/loss: 0.64684\n",
      "\u001b[32m[0503 10:42:25 @monitor.py:467]\u001b[0m GAN_loss/gen/final-g-loss: 1.0648\n",
      "\u001b[32m[0503 10:42:25 @monitor.py:467]\u001b[0m GAN_loss/gen/klloss: 0.11178\n",
      "\u001b[32m[0503 10:42:25 @monitor.py:467]\u001b[0m GAN_loss/gen/loss: 0.953\n",
      "\u001b[32m[0503 10:42:25 @monitor.py:467]\u001b[0m QueueInput/queue_size: 50\n",
      "\u001b[32m[0503 10:42:25 @base.py:275]\u001b[0m Start Epoch 837 ...\n"
     ]
    },
    {
     "name": "stderr",
     "output_type": "stream",
     "text": [
      "100%|#################################################################################|2000/2000[00:33<00:00,59.73it/s]"
     ]
    },
    {
     "name": "stdout",
     "output_type": "stream",
     "text": [
      "\u001b[32m[0503 10:42:59 @base.py:285]\u001b[0m Epoch 837 (global_step 1674000) finished, time:33.5 seconds.\n"
     ]
    },
    {
     "name": "stderr",
     "output_type": "stream",
     "text": [
      "\n"
     ]
    },
    {
     "name": "stdout",
     "output_type": "stream",
     "text": [
      "\u001b[32m[0503 10:42:59 @saver.py:79]\u001b[0m Model saved to ../output/DATGAN_PRELSTM_small/model\\model-1674000.\n",
      "\u001b[32m[0503 10:42:59 @monitor.py:467]\u001b[0m GAN_loss/discrim/accuracy_fake: 0.955\n",
      "\u001b[32m[0503 10:42:59 @monitor.py:467]\u001b[0m GAN_loss/discrim/accuracy_real: 0.075\n",
      "\u001b[32m[0503 10:42:59 @monitor.py:467]\u001b[0m GAN_loss/discrim/loss: 0.64694\n",
      "\u001b[32m[0503 10:42:59 @monitor.py:467]\u001b[0m GAN_loss/gen/final-g-loss: 1.0288\n",
      "\u001b[32m[0503 10:42:59 @monitor.py:467]\u001b[0m GAN_loss/gen/klloss: 0.080198\n",
      "\u001b[32m[0503 10:42:59 @monitor.py:467]\u001b[0m GAN_loss/gen/loss: 0.9486\n",
      "\u001b[32m[0503 10:42:59 @monitor.py:467]\u001b[0m QueueInput/queue_size: 50\n",
      "\u001b[32m[0503 10:42:59 @base.py:275]\u001b[0m Start Epoch 838 ...\n"
     ]
    },
    {
     "name": "stderr",
     "output_type": "stream",
     "text": [
      "100%|#################################################################################|2000/2000[00:33<00:00,59.67it/s]"
     ]
    },
    {
     "name": "stdout",
     "output_type": "stream",
     "text": [
      "\u001b[32m[0503 10:43:32 @base.py:285]\u001b[0m Epoch 838 (global_step 1676000) finished, time:33.5 seconds.\n"
     ]
    },
    {
     "name": "stderr",
     "output_type": "stream",
     "text": [
      "\n"
     ]
    },
    {
     "name": "stdout",
     "output_type": "stream",
     "text": [
      "\u001b[32m[0503 10:43:32 @saver.py:79]\u001b[0m Model saved to ../output/DATGAN_PRELSTM_small/model\\model-1676000.\n",
      "\u001b[32m[0503 10:43:32 @monitor.py:467]\u001b[0m GAN_loss/discrim/accuracy_fake: 0.95\n",
      "\u001b[32m[0503 10:43:32 @monitor.py:467]\u001b[0m GAN_loss/discrim/accuracy_real: 0.08\n",
      "\u001b[32m[0503 10:43:32 @monitor.py:467]\u001b[0m GAN_loss/discrim/loss: 0.64453\n",
      "\u001b[32m[0503 10:43:32 @monitor.py:467]\u001b[0m GAN_loss/gen/final-g-loss: 1.0727\n",
      "\u001b[32m[0503 10:43:32 @monitor.py:467]\u001b[0m GAN_loss/gen/klloss: 0.11852\n",
      "\u001b[32m[0503 10:43:32 @monitor.py:467]\u001b[0m GAN_loss/gen/loss: 0.95416\n",
      "\u001b[32m[0503 10:43:32 @monitor.py:467]\u001b[0m QueueInput/queue_size: 50\n",
      "\u001b[32m[0503 10:43:32 @base.py:275]\u001b[0m Start Epoch 839 ...\n"
     ]
    },
    {
     "name": "stderr",
     "output_type": "stream",
     "text": [
      "100%|#################################################################################|2000/2000[00:34<00:00,58.12it/s]"
     ]
    },
    {
     "name": "stdout",
     "output_type": "stream",
     "text": [
      "\u001b[32m[0503 10:44:07 @base.py:285]\u001b[0m Epoch 839 (global_step 1678000) finished, time:34.4 seconds.\n",
      "\u001b[32m[0503 10:44:07 @saver.py:79]\u001b[0m Model saved to ../output/DATGAN_PRELSTM_small/model\\model-1678000.\n"
     ]
    },
    {
     "name": "stderr",
     "output_type": "stream",
     "text": [
      "\n"
     ]
    },
    {
     "name": "stdout",
     "output_type": "stream",
     "text": [
      "\u001b[32m[0503 10:44:07 @monitor.py:467]\u001b[0m GAN_loss/discrim/accuracy_fake: 0.975\n",
      "\u001b[32m[0503 10:44:07 @monitor.py:467]\u001b[0m GAN_loss/discrim/accuracy_real: 0.055\n",
      "\u001b[32m[0503 10:44:07 @monitor.py:467]\u001b[0m GAN_loss/discrim/loss: 0.63428\n",
      "\u001b[32m[0503 10:44:07 @monitor.py:467]\u001b[0m GAN_loss/gen/final-g-loss: 1.064\n",
      "\u001b[32m[0503 10:44:07 @monitor.py:467]\u001b[0m GAN_loss/gen/klloss: 0.10466\n",
      "\u001b[32m[0503 10:44:07 @monitor.py:467]\u001b[0m GAN_loss/gen/loss: 0.95934\n",
      "\u001b[32m[0503 10:44:07 @monitor.py:467]\u001b[0m QueueInput/queue_size: 50\n",
      "\u001b[32m[0503 10:44:07 @base.py:275]\u001b[0m Start Epoch 840 ...\n"
     ]
    },
    {
     "name": "stderr",
     "output_type": "stream",
     "text": [
      "100%|#################################################################################|2000/2000[00:33<00:00,59.65it/s]"
     ]
    },
    {
     "name": "stdout",
     "output_type": "stream",
     "text": [
      "\u001b[32m[0503 10:44:41 @base.py:285]\u001b[0m Epoch 840 (global_step 1680000) finished, time:33.5 seconds.\n",
      "\u001b[32m[0503 10:44:41 @saver.py:79]\u001b[0m Model saved to ../output/DATGAN_PRELSTM_small/model\\model-1680000.\n"
     ]
    },
    {
     "name": "stderr",
     "output_type": "stream",
     "text": [
      "\n"
     ]
    },
    {
     "name": "stdout",
     "output_type": "stream",
     "text": [
      "\u001b[32m[0503 10:44:41 @monitor.py:467]\u001b[0m GAN_loss/discrim/accuracy_fake: 0.945\n",
      "\u001b[32m[0503 10:44:41 @monitor.py:467]\u001b[0m GAN_loss/discrim/accuracy_real: 0.12\n",
      "\u001b[32m[0503 10:44:41 @monitor.py:467]\u001b[0m GAN_loss/discrim/loss: 0.64578\n",
      "\u001b[32m[0503 10:44:41 @monitor.py:467]\u001b[0m GAN_loss/gen/final-g-loss: 1.0231\n",
      "\u001b[32m[0503 10:44:41 @monitor.py:467]\u001b[0m GAN_loss/gen/klloss: 0.084054\n",
      "\u001b[32m[0503 10:44:41 @monitor.py:467]\u001b[0m GAN_loss/gen/loss: 0.939\n",
      "\u001b[32m[0503 10:44:41 @monitor.py:467]\u001b[0m QueueInput/queue_size: 50\n",
      "\u001b[32m[0503 10:44:41 @base.py:275]\u001b[0m Start Epoch 841 ...\n"
     ]
    },
    {
     "name": "stderr",
     "output_type": "stream",
     "text": [
      "100%|#################################################################################|2000/2000[00:33<00:00,59.20it/s]"
     ]
    },
    {
     "name": "stdout",
     "output_type": "stream",
     "text": [
      "\u001b[32m[0503 10:45:15 @base.py:285]\u001b[0m Epoch 841 (global_step 1682000) finished, time:33.8 seconds.\n",
      "\u001b[32m[0503 10:45:15 @saver.py:79]\u001b[0m Model saved to ../output/DATGAN_PRELSTM_small/model\\model-1682000.\n"
     ]
    },
    {
     "name": "stderr",
     "output_type": "stream",
     "text": [
      "\n"
     ]
    },
    {
     "name": "stdout",
     "output_type": "stream",
     "text": [
      "\u001b[32m[0503 10:45:15 @monitor.py:467]\u001b[0m GAN_loss/discrim/accuracy_fake: 0.935\n",
      "\u001b[32m[0503 10:45:15 @monitor.py:467]\u001b[0m GAN_loss/discrim/accuracy_real: 0.065\n",
      "\u001b[32m[0503 10:45:15 @monitor.py:467]\u001b[0m GAN_loss/discrim/loss: 0.65956\n",
      "\u001b[32m[0503 10:45:15 @monitor.py:467]\u001b[0m GAN_loss/gen/final-g-loss: 1.0438\n",
      "\u001b[32m[0503 10:45:15 @monitor.py:467]\u001b[0m GAN_loss/gen/klloss: 0.1058\n",
      "\u001b[32m[0503 10:45:15 @monitor.py:467]\u001b[0m GAN_loss/gen/loss: 0.93801\n",
      "\u001b[32m[0503 10:45:15 @monitor.py:467]\u001b[0m QueueInput/queue_size: 50\n",
      "\u001b[32m[0503 10:45:15 @base.py:275]\u001b[0m Start Epoch 842 ...\n"
     ]
    },
    {
     "name": "stderr",
     "output_type": "stream",
     "text": [
      "100%|#################################################################################|2000/2000[00:33<00:00,59.23it/s]"
     ]
    },
    {
     "name": "stdout",
     "output_type": "stream",
     "text": [
      "\u001b[32m[0503 10:45:49 @base.py:285]\u001b[0m Epoch 842 (global_step 1684000) finished, time:33.8 seconds.\n",
      "\u001b[32m[0503 10:45:49 @saver.py:79]\u001b[0m Model saved to ../output/DATGAN_PRELSTM_small/model\\model-1684000.\n"
     ]
    },
    {
     "name": "stderr",
     "output_type": "stream",
     "text": [
      "\n"
     ]
    },
    {
     "name": "stdout",
     "output_type": "stream",
     "text": [
      "\u001b[32m[0503 10:45:49 @monitor.py:467]\u001b[0m GAN_loss/discrim/accuracy_fake: 0.955\n",
      "\u001b[32m[0503 10:45:49 @monitor.py:467]\u001b[0m GAN_loss/discrim/accuracy_real: 0.155\n",
      "\u001b[32m[0503 10:45:49 @monitor.py:467]\u001b[0m GAN_loss/discrim/loss: 0.64126\n",
      "\u001b[32m[0503 10:45:49 @monitor.py:467]\u001b[0m GAN_loss/gen/final-g-loss: 1.0203\n",
      "\u001b[32m[0503 10:45:49 @monitor.py:467]\u001b[0m GAN_loss/gen/klloss: 0.096084\n",
      "\u001b[32m[0503 10:45:49 @monitor.py:467]\u001b[0m GAN_loss/gen/loss: 0.92422\n",
      "\u001b[32m[0503 10:45:49 @monitor.py:467]\u001b[0m QueueInput/queue_size: 50\n",
      "\u001b[32m[0503 10:45:49 @base.py:275]\u001b[0m Start Epoch 843 ...\n"
     ]
    },
    {
     "name": "stderr",
     "output_type": "stream",
     "text": [
      "100%|#################################################################################|2000/2000[00:33<00:00,59.92it/s]"
     ]
    },
    {
     "name": "stdout",
     "output_type": "stream",
     "text": [
      "\u001b[32m[0503 10:46:22 @base.py:285]\u001b[0m Epoch 843 (global_step 1686000) finished, time:33.4 seconds.\n",
      "\u001b[32m[0503 10:46:22 @saver.py:79]\u001b[0m Model saved to ../output/DATGAN_PRELSTM_small/model\\model-1686000.\n"
     ]
    },
    {
     "name": "stderr",
     "output_type": "stream",
     "text": [
      "\n"
     ]
    },
    {
     "name": "stdout",
     "output_type": "stream",
     "text": [
      "\u001b[32m[0503 10:46:22 @monitor.py:467]\u001b[0m GAN_loss/discrim/accuracy_fake: 0.955\n",
      "\u001b[32m[0503 10:46:22 @monitor.py:467]\u001b[0m GAN_loss/discrim/accuracy_real: 0.085\n",
      "\u001b[32m[0503 10:46:22 @monitor.py:467]\u001b[0m GAN_loss/discrim/loss: 0.64397\n",
      "\u001b[32m[0503 10:46:22 @monitor.py:467]\u001b[0m GAN_loss/gen/final-g-loss: 1.1105\n",
      "\u001b[32m[0503 10:46:22 @monitor.py:467]\u001b[0m GAN_loss/gen/klloss: 0.1576\n",
      "\u001b[32m[0503 10:46:22 @monitor.py:467]\u001b[0m GAN_loss/gen/loss: 0.95289\n",
      "\u001b[32m[0503 10:46:22 @monitor.py:467]\u001b[0m QueueInput/queue_size: 50\n",
      "\u001b[32m[0503 10:46:22 @base.py:275]\u001b[0m Start Epoch 844 ...\n"
     ]
    },
    {
     "name": "stderr",
     "output_type": "stream",
     "text": [
      "100%|#################################################################################|2000/2000[00:33<00:00,59.76it/s]"
     ]
    },
    {
     "name": "stdout",
     "output_type": "stream",
     "text": [
      "\u001b[32m[0503 10:46:56 @base.py:285]\u001b[0m Epoch 844 (global_step 1688000) finished, time:33.5 seconds.\n",
      "\u001b[32m[0503 10:46:56 @saver.py:79]\u001b[0m Model saved to ../output/DATGAN_PRELSTM_small/model\\model-1688000.\n"
     ]
    },
    {
     "name": "stderr",
     "output_type": "stream",
     "text": [
      "\n"
     ]
    },
    {
     "name": "stdout",
     "output_type": "stream",
     "text": [
      "\u001b[32m[0503 10:46:56 @monitor.py:467]\u001b[0m GAN_loss/discrim/accuracy_fake: 0.965\n",
      "\u001b[32m[0503 10:46:56 @monitor.py:467]\u001b[0m GAN_loss/discrim/accuracy_real: 0.12\n",
      "\u001b[32m[0503 10:46:56 @monitor.py:467]\u001b[0m GAN_loss/discrim/loss: 0.6442\n",
      "\u001b[32m[0503 10:46:56 @monitor.py:467]\u001b[0m GAN_loss/gen/final-g-loss: 1.0072\n",
      "\u001b[32m[0503 10:46:56 @monitor.py:467]\u001b[0m GAN_loss/gen/klloss: 0.075733\n",
      "\u001b[32m[0503 10:46:56 @monitor.py:467]\u001b[0m GAN_loss/gen/loss: 0.93147\n",
      "\u001b[32m[0503 10:46:56 @monitor.py:467]\u001b[0m QueueInput/queue_size: 50\n",
      "\u001b[32m[0503 10:46:56 @base.py:275]\u001b[0m Start Epoch 845 ...\n"
     ]
    },
    {
     "name": "stderr",
     "output_type": "stream",
     "text": [
      "100%|#################################################################################|2000/2000[00:34<00:00,58.57it/s]"
     ]
    },
    {
     "name": "stdout",
     "output_type": "stream",
     "text": [
      "\u001b[32m[0503 10:47:30 @base.py:285]\u001b[0m Epoch 845 (global_step 1690000) finished, time:34.1 seconds.\n",
      "\u001b[32m[0503 10:47:30 @saver.py:79]\u001b[0m Model saved to ../output/DATGAN_PRELSTM_small/model\\model-1690000.\n"
     ]
    },
    {
     "name": "stderr",
     "output_type": "stream",
     "text": [
      "\n"
     ]
    },
    {
     "name": "stdout",
     "output_type": "stream",
     "text": [
      "\u001b[32m[0503 10:47:30 @monitor.py:467]\u001b[0m GAN_loss/discrim/accuracy_fake: 0.965\n",
      "\u001b[32m[0503 10:47:30 @monitor.py:467]\u001b[0m GAN_loss/discrim/accuracy_real: 0.115\n",
      "\u001b[32m[0503 10:47:30 @monitor.py:467]\u001b[0m GAN_loss/discrim/loss: 0.64425\n",
      "\u001b[32m[0503 10:47:30 @monitor.py:467]\u001b[0m GAN_loss/gen/final-g-loss: 1.0409\n",
      "\u001b[32m[0503 10:47:30 @monitor.py:467]\u001b[0m GAN_loss/gen/klloss: 0.093784\n",
      "\u001b[32m[0503 10:47:30 @monitor.py:467]\u001b[0m GAN_loss/gen/loss: 0.94714\n",
      "\u001b[32m[0503 10:47:30 @monitor.py:467]\u001b[0m QueueInput/queue_size: 50\n",
      "\u001b[32m[0503 10:47:30 @base.py:275]\u001b[0m Start Epoch 846 ...\n"
     ]
    },
    {
     "name": "stderr",
     "output_type": "stream",
     "text": [
      "100%|#################################################################################|2000/2000[00:33<00:00,59.73it/s]"
     ]
    },
    {
     "name": "stdout",
     "output_type": "stream",
     "text": [
      "\u001b[32m[0503 10:48:04 @base.py:285]\u001b[0m Epoch 846 (global_step 1692000) finished, time:33.5 seconds.\n",
      "\u001b[32m[0503 10:48:04 @saver.py:79]\u001b[0m Model saved to ../output/DATGAN_PRELSTM_small/model\\model-1692000.\n"
     ]
    },
    {
     "name": "stderr",
     "output_type": "stream",
     "text": [
      "\n"
     ]
    },
    {
     "name": "stdout",
     "output_type": "stream",
     "text": [
      "\u001b[32m[0503 10:48:04 @monitor.py:467]\u001b[0m GAN_loss/discrim/accuracy_fake: 0.93\n",
      "\u001b[32m[0503 10:48:04 @monitor.py:467]\u001b[0m GAN_loss/discrim/accuracy_real: 0.085\n",
      "\u001b[32m[0503 10:48:04 @monitor.py:467]\u001b[0m GAN_loss/discrim/loss: 0.65016\n",
      "\u001b[32m[0503 10:48:04 @monitor.py:467]\u001b[0m GAN_loss/gen/final-g-loss: 1.0439\n",
      "\u001b[32m[0503 10:48:04 @monitor.py:467]\u001b[0m GAN_loss/gen/klloss: 0.10404\n",
      "\u001b[32m[0503 10:48:04 @monitor.py:467]\u001b[0m GAN_loss/gen/loss: 0.9399\n",
      "\u001b[32m[0503 10:48:04 @monitor.py:467]\u001b[0m QueueInput/queue_size: 50\n",
      "\u001b[32m[0503 10:48:04 @base.py:275]\u001b[0m Start Epoch 847 ...\n"
     ]
    },
    {
     "name": "stderr",
     "output_type": "stream",
     "text": [
      "100%|#################################################################################|2000/2000[00:31<00:00,62.99it/s]"
     ]
    },
    {
     "name": "stdout",
     "output_type": "stream",
     "text": [
      "\u001b[32m[0503 10:48:36 @base.py:285]\u001b[0m Epoch 847 (global_step 1694000) finished, time:31.8 seconds.\n",
      "\u001b[32m[0503 10:48:36 @saver.py:79]\u001b[0m Model saved to ../output/DATGAN_PRELSTM_small/model\\model-1694000.\n",
      "\u001b[32m[0503 10:48:36 @monitor.py:467]\u001b[0m GAN_loss/discrim/accuracy_fake: 0.96\n"
     ]
    },
    {
     "name": "stderr",
     "output_type": "stream",
     "text": [
      "\n"
     ]
    },
    {
     "name": "stdout",
     "output_type": "stream",
     "text": [
      "\u001b[32m[0503 10:48:36 @monitor.py:467]\u001b[0m GAN_loss/discrim/accuracy_real: 0.115\n",
      "\u001b[32m[0503 10:48:36 @monitor.py:467]\u001b[0m GAN_loss/discrim/loss: 0.64852\n",
      "\u001b[32m[0503 10:48:36 @monitor.py:467]\u001b[0m GAN_loss/gen/final-g-loss: 1.0218\n",
      "\u001b[32m[0503 10:48:36 @monitor.py:467]\u001b[0m GAN_loss/gen/klloss: 0.071782\n",
      "\u001b[32m[0503 10:48:36 @monitor.py:467]\u001b[0m GAN_loss/gen/loss: 0.95002\n",
      "\u001b[32m[0503 10:48:36 @monitor.py:467]\u001b[0m QueueInput/queue_size: 50\n",
      "\u001b[32m[0503 10:48:36 @base.py:275]\u001b[0m Start Epoch 848 ...\n"
     ]
    },
    {
     "name": "stderr",
     "output_type": "stream",
     "text": [
      "100%|#################################################################################|2000/2000[00:31<00:00,62.95it/s]"
     ]
    },
    {
     "name": "stdout",
     "output_type": "stream",
     "text": [
      "\u001b[32m[0503 10:49:08 @base.py:285]\u001b[0m Epoch 848 (global_step 1696000) finished, time:31.8 seconds.\n",
      "\u001b[32m[0503 10:49:08 @saver.py:79]\u001b[0m Model saved to ../output/DATGAN_PRELSTM_small/model\\model-1696000.\n",
      "\u001b[32m[0503 10:49:08 @monitor.py:467]\u001b[0m GAN_loss/discrim/accuracy_fake: 0.945\n"
     ]
    },
    {
     "name": "stderr",
     "output_type": "stream",
     "text": [
      "\n"
     ]
    },
    {
     "name": "stdout",
     "output_type": "stream",
     "text": [
      "\u001b[32m[0503 10:49:08 @monitor.py:467]\u001b[0m GAN_loss/discrim/accuracy_real: 0.085\n",
      "\u001b[32m[0503 10:49:08 @monitor.py:467]\u001b[0m GAN_loss/discrim/loss: 0.65114\n",
      "\u001b[32m[0503 10:49:08 @monitor.py:467]\u001b[0m GAN_loss/gen/final-g-loss: 1.0372\n",
      "\u001b[32m[0503 10:49:08 @monitor.py:467]\u001b[0m GAN_loss/gen/klloss: 0.10145\n",
      "\u001b[32m[0503 10:49:08 @monitor.py:467]\u001b[0m GAN_loss/gen/loss: 0.93576\n",
      "\u001b[32m[0503 10:49:08 @monitor.py:467]\u001b[0m QueueInput/queue_size: 50\n",
      "\u001b[32m[0503 10:49:08 @base.py:275]\u001b[0m Start Epoch 849 ...\n"
     ]
    },
    {
     "name": "stderr",
     "output_type": "stream",
     "text": [
      "100%|#################################################################################|2000/2000[00:31<00:00,62.96it/s]"
     ]
    },
    {
     "name": "stdout",
     "output_type": "stream",
     "text": [
      "\u001b[32m[0503 10:49:40 @base.py:285]\u001b[0m Epoch 849 (global_step 1698000) finished, time:31.8 seconds.\n",
      "\u001b[32m[0503 10:49:40 @saver.py:79]\u001b[0m Model saved to ../output/DATGAN_PRELSTM_small/model\\model-1698000.\n",
      "\u001b[32m[0503 10:49:40 @monitor.py:467]\u001b[0m GAN_loss/discrim/accuracy_fake: 0.97\n"
     ]
    },
    {
     "name": "stderr",
     "output_type": "stream",
     "text": [
      "\n"
     ]
    },
    {
     "name": "stdout",
     "output_type": "stream",
     "text": [
      "\u001b[32m[0503 10:49:40 @monitor.py:467]\u001b[0m GAN_loss/discrim/accuracy_real: 0.065\n",
      "\u001b[32m[0503 10:49:40 @monitor.py:467]\u001b[0m GAN_loss/discrim/loss: 0.64786\n",
      "\u001b[32m[0503 10:49:40 @monitor.py:467]\u001b[0m GAN_loss/gen/final-g-loss: 1.0739\n",
      "\u001b[32m[0503 10:49:40 @monitor.py:467]\u001b[0m GAN_loss/gen/klloss: 0.12345\n",
      "\u001b[32m[0503 10:49:40 @monitor.py:467]\u001b[0m GAN_loss/gen/loss: 0.95045\n",
      "\u001b[32m[0503 10:49:40 @monitor.py:467]\u001b[0m QueueInput/queue_size: 50\n",
      "\u001b[32m[0503 10:49:40 @base.py:275]\u001b[0m Start Epoch 850 ...\n"
     ]
    },
    {
     "name": "stderr",
     "output_type": "stream",
     "text": [
      "100%|#################################################################################|2000/2000[00:31<00:00,62.99it/s]"
     ]
    },
    {
     "name": "stdout",
     "output_type": "stream",
     "text": [
      "\u001b[32m[0503 10:50:12 @base.py:285]\u001b[0m Epoch 850 (global_step 1700000) finished, time:31.7 seconds.\n",
      "\u001b[32m[0503 10:50:12 @saver.py:79]\u001b[0m Model saved to ../output/DATGAN_PRELSTM_small/model\\model-1700000.\n",
      "\u001b[32m[0503 10:50:12 @monitor.py:467]\u001b[0m GAN_loss/discrim/accuracy_fake: 0.915\n"
     ]
    },
    {
     "name": "stderr",
     "output_type": "stream",
     "text": [
      "\n"
     ]
    },
    {
     "name": "stdout",
     "output_type": "stream",
     "text": [
      "\u001b[32m[0503 10:50:12 @monitor.py:467]\u001b[0m GAN_loss/discrim/accuracy_real: 0.065\n",
      "\u001b[32m[0503 10:50:12 @monitor.py:467]\u001b[0m GAN_loss/discrim/loss: 0.64852\n",
      "\u001b[32m[0503 10:50:12 @monitor.py:467]\u001b[0m GAN_loss/gen/final-g-loss: 1.0745\n",
      "\u001b[32m[0503 10:50:12 @monitor.py:467]\u001b[0m GAN_loss/gen/klloss: 0.13187\n",
      "\u001b[32m[0503 10:50:12 @monitor.py:467]\u001b[0m GAN_loss/gen/loss: 0.94262\n",
      "\u001b[32m[0503 10:50:12 @monitor.py:467]\u001b[0m QueueInput/queue_size: 50\n",
      "\u001b[32m[0503 10:50:12 @base.py:275]\u001b[0m Start Epoch 851 ...\n"
     ]
    },
    {
     "name": "stderr",
     "output_type": "stream",
     "text": [
      "100%|#################################################################################|2000/2000[00:31<00:00,62.79it/s]"
     ]
    },
    {
     "name": "stdout",
     "output_type": "stream",
     "text": [
      "\u001b[32m[0503 10:50:44 @base.py:285]\u001b[0m Epoch 851 (global_step 1702000) finished, time:31.9 seconds.\n",
      "\u001b[32m[0503 10:50:44 @saver.py:79]\u001b[0m Model saved to ../output/DATGAN_PRELSTM_small/model\\model-1702000.\n",
      "\u001b[32m[0503 10:50:44 @monitor.py:467]\u001b[0m GAN_loss/discrim/accuracy_fake: 0.955\n"
     ]
    },
    {
     "name": "stderr",
     "output_type": "stream",
     "text": [
      "\n"
     ]
    },
    {
     "name": "stdout",
     "output_type": "stream",
     "text": [
      "\u001b[32m[0503 10:50:44 @monitor.py:467]\u001b[0m GAN_loss/discrim/accuracy_real: 0.095\n",
      "\u001b[32m[0503 10:50:44 @monitor.py:467]\u001b[0m GAN_loss/discrim/loss: 0.65163\n",
      "\u001b[32m[0503 10:50:44 @monitor.py:467]\u001b[0m GAN_loss/gen/final-g-loss: 1.0711\n",
      "\u001b[32m[0503 10:50:44 @monitor.py:467]\u001b[0m GAN_loss/gen/klloss: 0.12816\n",
      "\u001b[32m[0503 10:50:44 @monitor.py:467]\u001b[0m GAN_loss/gen/loss: 0.94297\n",
      "\u001b[32m[0503 10:50:44 @monitor.py:467]\u001b[0m QueueInput/queue_size: 50\n",
      "\u001b[32m[0503 10:50:44 @base.py:275]\u001b[0m Start Epoch 852 ...\n"
     ]
    },
    {
     "name": "stderr",
     "output_type": "stream",
     "text": [
      "100%|#################################################################################|2000/2000[00:31<00:00,62.95it/s]"
     ]
    },
    {
     "name": "stdout",
     "output_type": "stream",
     "text": [
      "\u001b[32m[0503 10:51:16 @base.py:285]\u001b[0m Epoch 852 (global_step 1704000) finished, time:31.8 seconds.\n",
      "\u001b[32m[0503 10:51:16 @saver.py:79]\u001b[0m Model saved to ../output/DATGAN_PRELSTM_small/model\\model-1704000.\n",
      "\u001b[32m[0503 10:51:16 @monitor.py:467]\u001b[0m GAN_loss/discrim/accuracy_fake: 0.95\n",
      "\u001b[32m[0503 10:51:16 @monitor.py:467]\u001b[0m GAN_loss/discrim/accuracy_real: 0.105\n"
     ]
    },
    {
     "name": "stderr",
     "output_type": "stream",
     "text": [
      "\n"
     ]
    },
    {
     "name": "stdout",
     "output_type": "stream",
     "text": [
      "\u001b[32m[0503 10:51:16 @monitor.py:467]\u001b[0m GAN_loss/discrim/loss: 0.64139\n",
      "\u001b[32m[0503 10:51:16 @monitor.py:467]\u001b[0m GAN_loss/gen/final-g-loss: 1.0563\n",
      "\u001b[32m[0503 10:51:16 @monitor.py:467]\u001b[0m GAN_loss/gen/klloss: 0.10761\n",
      "\u001b[32m[0503 10:51:16 @monitor.py:467]\u001b[0m GAN_loss/gen/loss: 0.94871\n",
      "\u001b[32m[0503 10:51:16 @monitor.py:467]\u001b[0m QueueInput/queue_size: 50\n",
      "\u001b[32m[0503 10:51:16 @base.py:275]\u001b[0m Start Epoch 853 ...\n"
     ]
    },
    {
     "name": "stderr",
     "output_type": "stream",
     "text": [
      "100%|#################################################################################|2000/2000[00:31<00:00,62.94it/s]"
     ]
    },
    {
     "name": "stdout",
     "output_type": "stream",
     "text": [
      "\u001b[32m[0503 10:51:48 @base.py:285]\u001b[0m Epoch 853 (global_step 1706000) finished, time:31.8 seconds.\n",
      "\u001b[32m[0503 10:51:48 @saver.py:79]\u001b[0m Model saved to ../output/DATGAN_PRELSTM_small/model\\model-1706000.\n",
      "\u001b[32m[0503 10:51:48 @monitor.py:467]\u001b[0m GAN_loss/discrim/accuracy_fake: 0.94\n"
     ]
    },
    {
     "name": "stderr",
     "output_type": "stream",
     "text": [
      "\n"
     ]
    },
    {
     "name": "stdout",
     "output_type": "stream",
     "text": [
      "\u001b[32m[0503 10:51:48 @monitor.py:467]\u001b[0m GAN_loss/discrim/accuracy_real: 0.095\n",
      "\u001b[32m[0503 10:51:48 @monitor.py:467]\u001b[0m GAN_loss/discrim/loss: 0.65798\n",
      "\u001b[32m[0503 10:51:48 @monitor.py:467]\u001b[0m GAN_loss/gen/final-g-loss: 1.0355\n",
      "\u001b[32m[0503 10:51:48 @monitor.py:467]\u001b[0m GAN_loss/gen/klloss: 0.094206\n",
      "\u001b[32m[0503 10:51:48 @monitor.py:467]\u001b[0m GAN_loss/gen/loss: 0.94134\n",
      "\u001b[32m[0503 10:51:48 @monitor.py:467]\u001b[0m QueueInput/queue_size: 50\n",
      "\u001b[32m[0503 10:51:48 @base.py:275]\u001b[0m Start Epoch 854 ...\n"
     ]
    },
    {
     "name": "stderr",
     "output_type": "stream",
     "text": [
      "100%|#################################################################################|2000/2000[00:31<00:00,63.85it/s]"
     ]
    },
    {
     "name": "stdout",
     "output_type": "stream",
     "text": [
      "\u001b[32m[0503 10:52:19 @base.py:285]\u001b[0m Epoch 854 (global_step 1708000) finished, time:31.3 seconds.\n",
      "\u001b[32m[0503 10:52:19 @saver.py:79]\u001b[0m Model saved to ../output/DATGAN_PRELSTM_small/model\\model-1708000.\n"
     ]
    },
    {
     "name": "stderr",
     "output_type": "stream",
     "text": [
      "\n"
     ]
    },
    {
     "name": "stdout",
     "output_type": "stream",
     "text": [
      "\u001b[32m[0503 10:52:19 @monitor.py:467]\u001b[0m GAN_loss/discrim/accuracy_fake: 0.915\n",
      "\u001b[32m[0503 10:52:19 @monitor.py:467]\u001b[0m GAN_loss/discrim/accuracy_real: 0.105\n",
      "\u001b[32m[0503 10:52:19 @monitor.py:467]\u001b[0m GAN_loss/discrim/loss: 0.64041\n",
      "\u001b[32m[0503 10:52:19 @monitor.py:467]\u001b[0m GAN_loss/gen/final-g-loss: 1.0414\n",
      "\u001b[32m[0503 10:52:19 @monitor.py:467]\u001b[0m GAN_loss/gen/klloss: 0.098048\n",
      "\u001b[32m[0503 10:52:19 @monitor.py:467]\u001b[0m GAN_loss/gen/loss: 0.94338\n",
      "\u001b[32m[0503 10:52:19 @monitor.py:467]\u001b[0m QueueInput/queue_size: 50\n",
      "\u001b[32m[0503 10:52:19 @base.py:275]\u001b[0m Start Epoch 855 ...\n"
     ]
    },
    {
     "name": "stderr",
     "output_type": "stream",
     "text": [
      "100%|#################################################################################|2000/2000[00:32<00:00,62.04it/s]"
     ]
    },
    {
     "name": "stdout",
     "output_type": "stream",
     "text": [
      "\u001b[32m[0503 10:52:52 @base.py:285]\u001b[0m Epoch 855 (global_step 1710000) finished, time:32.2 seconds.\n",
      "\u001b[32m[0503 10:52:52 @saver.py:79]\u001b[0m Model saved to ../output/DATGAN_PRELSTM_small/model\\model-1710000.\n"
     ]
    },
    {
     "name": "stderr",
     "output_type": "stream",
     "text": [
      "\n"
     ]
    },
    {
     "name": "stdout",
     "output_type": "stream",
     "text": [
      "\u001b[32m[0503 10:52:52 @monitor.py:467]\u001b[0m GAN_loss/discrim/accuracy_fake: 0.93\n",
      "\u001b[32m[0503 10:52:52 @monitor.py:467]\u001b[0m GAN_loss/discrim/accuracy_real: 0.11\n",
      "\u001b[32m[0503 10:52:52 @monitor.py:467]\u001b[0m GAN_loss/discrim/loss: 0.65327\n",
      "\u001b[32m[0503 10:52:52 @monitor.py:467]\u001b[0m GAN_loss/gen/final-g-loss: 1.0325\n",
      "\u001b[32m[0503 10:52:52 @monitor.py:467]\u001b[0m GAN_loss/gen/klloss: 0.096049\n",
      "\u001b[32m[0503 10:52:52 @monitor.py:467]\u001b[0m GAN_loss/gen/loss: 0.9365\n",
      "\u001b[32m[0503 10:52:52 @monitor.py:467]\u001b[0m QueueInput/queue_size: 50\n",
      "\u001b[32m[0503 10:52:52 @base.py:275]\u001b[0m Start Epoch 856 ...\n"
     ]
    },
    {
     "name": "stderr",
     "output_type": "stream",
     "text": [
      "100%|#################################################################################|2000/2000[00:31<00:00,62.92it/s]"
     ]
    },
    {
     "name": "stdout",
     "output_type": "stream",
     "text": [
      "\u001b[32m[0503 10:53:24 @base.py:285]\u001b[0m Epoch 856 (global_step 1712000) finished, time:31.8 seconds.\n",
      "\u001b[32m[0503 10:53:24 @saver.py:79]\u001b[0m Model saved to ../output/DATGAN_PRELSTM_small/model\\model-1712000.\n",
      "\u001b[32m[0503 10:53:24 @monitor.py:467]\u001b[0m GAN_loss/discrim/accuracy_fake: 0.96\n"
     ]
    },
    {
     "name": "stderr",
     "output_type": "stream",
     "text": [
      "\n"
     ]
    },
    {
     "name": "stdout",
     "output_type": "stream",
     "text": [
      "\u001b[32m[0503 10:53:24 @monitor.py:467]\u001b[0m GAN_loss/discrim/accuracy_real: 0.125\n",
      "\u001b[32m[0503 10:53:24 @monitor.py:467]\u001b[0m GAN_loss/discrim/loss: 0.64304\n",
      "\u001b[32m[0503 10:53:24 @monitor.py:467]\u001b[0m GAN_loss/gen/final-g-loss: 1.0062\n",
      "\u001b[32m[0503 10:53:24 @monitor.py:467]\u001b[0m GAN_loss/gen/klloss: 0.077435\n",
      "\u001b[32m[0503 10:53:24 @monitor.py:467]\u001b[0m GAN_loss/gen/loss: 0.92878\n",
      "\u001b[32m[0503 10:53:24 @monitor.py:467]\u001b[0m QueueInput/queue_size: 50\n",
      "\u001b[32m[0503 10:53:24 @base.py:275]\u001b[0m Start Epoch 857 ...\n"
     ]
    },
    {
     "name": "stderr",
     "output_type": "stream",
     "text": [
      "100%|#################################################################################|2000/2000[00:31<00:00,62.85it/s]"
     ]
    },
    {
     "name": "stdout",
     "output_type": "stream",
     "text": [
      "\u001b[32m[0503 10:53:56 @base.py:285]\u001b[0m Epoch 857 (global_step 1714000) finished, time:31.8 seconds.\n",
      "\u001b[32m[0503 10:53:56 @saver.py:79]\u001b[0m Model saved to ../output/DATGAN_PRELSTM_small/model\\model-1714000.\n",
      "\u001b[32m[0503 10:53:56 @monitor.py:467]\u001b[0m GAN_loss/discrim/accuracy_fake: 0.975\n"
     ]
    },
    {
     "name": "stderr",
     "output_type": "stream",
     "text": [
      "\n"
     ]
    },
    {
     "name": "stdout",
     "output_type": "stream",
     "text": [
      "\u001b[32m[0503 10:53:56 @monitor.py:467]\u001b[0m GAN_loss/discrim/accuracy_real: 0.06\n",
      "\u001b[32m[0503 10:53:56 @monitor.py:467]\u001b[0m GAN_loss/discrim/loss: 0.64293\n",
      "\u001b[32m[0503 10:53:56 @monitor.py:467]\u001b[0m GAN_loss/gen/final-g-loss: 1.1004\n",
      "\u001b[32m[0503 10:53:56 @monitor.py:467]\u001b[0m GAN_loss/gen/klloss: 0.13834\n",
      "\u001b[32m[0503 10:53:56 @monitor.py:467]\u001b[0m GAN_loss/gen/loss: 0.96201\n",
      "\u001b[32m[0503 10:53:56 @monitor.py:467]\u001b[0m QueueInput/queue_size: 50\n",
      "\u001b[32m[0503 10:53:56 @base.py:275]\u001b[0m Start Epoch 858 ...\n"
     ]
    },
    {
     "name": "stderr",
     "output_type": "stream",
     "text": [
      "100%|#################################################################################|2000/2000[00:31<00:00,62.93it/s]"
     ]
    },
    {
     "name": "stdout",
     "output_type": "stream",
     "text": [
      "\u001b[32m[0503 10:54:27 @base.py:285]\u001b[0m Epoch 858 (global_step 1716000) finished, time:31.8 seconds.\n",
      "\u001b[32m[0503 10:54:28 @saver.py:79]\u001b[0m Model saved to ../output/DATGAN_PRELSTM_small/model\\model-1716000.\n",
      "\u001b[32m[0503 10:54:28 @monitor.py:467]\u001b[0m GAN_loss/discrim/accuracy_fake: 0.965\n"
     ]
    },
    {
     "name": "stderr",
     "output_type": "stream",
     "text": [
      "\n"
     ]
    },
    {
     "name": "stdout",
     "output_type": "stream",
     "text": [
      "\u001b[32m[0503 10:54:28 @monitor.py:467]\u001b[0m GAN_loss/discrim/accuracy_real: 0.085\n",
      "\u001b[32m[0503 10:54:28 @monitor.py:467]\u001b[0m GAN_loss/discrim/loss: 0.6494\n",
      "\u001b[32m[0503 10:54:28 @monitor.py:467]\u001b[0m GAN_loss/gen/final-g-loss: 1.0546\n",
      "\u001b[32m[0503 10:54:28 @monitor.py:467]\u001b[0m GAN_loss/gen/klloss: 0.12239\n",
      "\u001b[32m[0503 10:54:28 @monitor.py:467]\u001b[0m GAN_loss/gen/loss: 0.93217\n",
      "\u001b[32m[0503 10:54:28 @monitor.py:467]\u001b[0m QueueInput/queue_size: 50\n",
      "\u001b[32m[0503 10:54:28 @base.py:275]\u001b[0m Start Epoch 859 ...\n"
     ]
    },
    {
     "name": "stderr",
     "output_type": "stream",
     "text": [
      "100%|#################################################################################|2000/2000[00:31<00:00,62.89it/s]"
     ]
    },
    {
     "name": "stdout",
     "output_type": "stream",
     "text": [
      "\u001b[32m[0503 10:54:59 @base.py:285]\u001b[0m Epoch 859 (global_step 1718000) finished, time:31.8 seconds.\n",
      "\u001b[32m[0503 10:55:00 @saver.py:79]\u001b[0m Model saved to ../output/DATGAN_PRELSTM_small/model\\model-1718000.\n",
      "\u001b[32m[0503 10:55:00 @monitor.py:467]\u001b[0m GAN_loss/discrim/accuracy_fake: 0.955\n"
     ]
    },
    {
     "name": "stderr",
     "output_type": "stream",
     "text": [
      "\n"
     ]
    },
    {
     "name": "stdout",
     "output_type": "stream",
     "text": [
      "\u001b[32m[0503 10:55:00 @monitor.py:467]\u001b[0m GAN_loss/discrim/accuracy_real: 0.11\n",
      "\u001b[32m[0503 10:55:00 @monitor.py:467]\u001b[0m GAN_loss/discrim/loss: 0.64306\n",
      "\u001b[32m[0503 10:55:00 @monitor.py:467]\u001b[0m GAN_loss/gen/final-g-loss: 1.0643\n",
      "\u001b[32m[0503 10:55:00 @monitor.py:467]\u001b[0m GAN_loss/gen/klloss: 0.11622\n",
      "\u001b[32m[0503 10:55:00 @monitor.py:467]\u001b[0m GAN_loss/gen/loss: 0.94807\n",
      "\u001b[32m[0503 10:55:00 @monitor.py:467]\u001b[0m QueueInput/queue_size: 50\n",
      "\u001b[32m[0503 10:55:00 @base.py:275]\u001b[0m Start Epoch 860 ...\n"
     ]
    },
    {
     "name": "stderr",
     "output_type": "stream",
     "text": [
      "100%|#################################################################################|2000/2000[00:31<00:00,63.05it/s]"
     ]
    },
    {
     "name": "stdout",
     "output_type": "stream",
     "text": [
      "\u001b[32m[0503 10:55:31 @base.py:285]\u001b[0m Epoch 860 (global_step 1720000) finished, time:31.7 seconds.\n",
      "\u001b[32m[0503 10:55:31 @saver.py:79]\u001b[0m Model saved to ../output/DATGAN_PRELSTM_small/model\\model-1720000.\n",
      "\u001b[32m[0503 10:55:32 @monitor.py:467]\u001b[0m GAN_loss/discrim/accuracy_fake: 0.9\n",
      "\u001b[32m[0503 10:55:32 @monitor.py:467]\u001b[0m GAN_loss/discrim/accuracy_real: 0.065\n",
      "\u001b[32m[0503 10:55:32 @monitor.py:467]\u001b[0m GAN_loss/discrim/loss: 0.65343\n"
     ]
    },
    {
     "name": "stderr",
     "output_type": "stream",
     "text": [
      "\n"
     ]
    },
    {
     "name": "stdout",
     "output_type": "stream",
     "text": [
      "\u001b[32m[0503 10:55:32 @monitor.py:467]\u001b[0m GAN_loss/gen/final-g-loss: 1.0477\n",
      "\u001b[32m[0503 10:55:32 @monitor.py:467]\u001b[0m GAN_loss/gen/klloss: 0.12199\n",
      "\u001b[32m[0503 10:55:32 @monitor.py:467]\u001b[0m GAN_loss/gen/loss: 0.92567\n",
      "\u001b[32m[0503 10:55:32 @monitor.py:467]\u001b[0m QueueInput/queue_size: 50\n",
      "\u001b[32m[0503 10:55:32 @base.py:275]\u001b[0m Start Epoch 861 ...\n"
     ]
    },
    {
     "name": "stderr",
     "output_type": "stream",
     "text": [
      "100%|#################################################################################|2000/2000[00:31<00:00,63.02it/s]"
     ]
    },
    {
     "name": "stdout",
     "output_type": "stream",
     "text": [
      "\u001b[32m[0503 10:56:03 @base.py:285]\u001b[0m Epoch 861 (global_step 1722000) finished, time:31.7 seconds.\n",
      "\u001b[32m[0503 10:56:03 @saver.py:79]\u001b[0m Model saved to ../output/DATGAN_PRELSTM_small/model\\model-1722000.\n",
      "\u001b[32m[0503 10:56:04 @monitor.py:467]\u001b[0m GAN_loss/discrim/accuracy_fake: 0.94\n"
     ]
    },
    {
     "name": "stderr",
     "output_type": "stream",
     "text": [
      "\n"
     ]
    },
    {
     "name": "stdout",
     "output_type": "stream",
     "text": [
      "\u001b[32m[0503 10:56:04 @monitor.py:467]\u001b[0m GAN_loss/discrim/accuracy_real: 0.06\n",
      "\u001b[32m[0503 10:56:04 @monitor.py:467]\u001b[0m GAN_loss/discrim/loss: 0.64527\n",
      "\u001b[32m[0503 10:56:04 @monitor.py:467]\u001b[0m GAN_loss/gen/final-g-loss: 1.0316\n",
      "\u001b[32m[0503 10:56:04 @monitor.py:467]\u001b[0m GAN_loss/gen/klloss: 0.083775\n",
      "\u001b[32m[0503 10:56:04 @monitor.py:467]\u001b[0m GAN_loss/gen/loss: 0.94778\n",
      "\u001b[32m[0503 10:56:04 @monitor.py:467]\u001b[0m QueueInput/queue_size: 50\n",
      "\u001b[32m[0503 10:56:04 @base.py:275]\u001b[0m Start Epoch 862 ...\n"
     ]
    },
    {
     "name": "stderr",
     "output_type": "stream",
     "text": [
      "100%|#################################################################################|2000/2000[00:31<00:00,63.05it/s]"
     ]
    },
    {
     "name": "stdout",
     "output_type": "stream",
     "text": [
      "\u001b[32m[0503 10:56:35 @base.py:285]\u001b[0m Epoch 862 (global_step 1724000) finished, time:31.7 seconds.\n",
      "\u001b[32m[0503 10:56:35 @saver.py:79]\u001b[0m Model saved to ../output/DATGAN_PRELSTM_small/model\\model-1724000.\n",
      "\u001b[32m[0503 10:56:35 @monitor.py:467]\u001b[0m GAN_loss/discrim/accuracy_fake: 0.985\n"
     ]
    },
    {
     "name": "stderr",
     "output_type": "stream",
     "text": [
      "\n"
     ]
    },
    {
     "name": "stdout",
     "output_type": "stream",
     "text": [
      "\u001b[32m[0503 10:56:35 @monitor.py:467]\u001b[0m GAN_loss/discrim/accuracy_real: 0.08\n",
      "\u001b[32m[0503 10:56:35 @monitor.py:467]\u001b[0m GAN_loss/discrim/loss: 0.64611\n",
      "\u001b[32m[0503 10:56:35 @monitor.py:467]\u001b[0m GAN_loss/gen/final-g-loss: 1.0457\n",
      "\u001b[32m[0503 10:56:35 @monitor.py:467]\u001b[0m GAN_loss/gen/klloss: 0.11511\n",
      "\u001b[32m[0503 10:56:35 @monitor.py:467]\u001b[0m GAN_loss/gen/loss: 0.93061\n",
      "\u001b[32m[0503 10:56:35 @monitor.py:467]\u001b[0m QueueInput/queue_size: 50\n",
      "\u001b[32m[0503 10:56:35 @base.py:275]\u001b[0m Start Epoch 863 ...\n"
     ]
    },
    {
     "name": "stderr",
     "output_type": "stream",
     "text": [
      "100%|#################################################################################|2000/2000[00:31<00:00,62.96it/s]"
     ]
    },
    {
     "name": "stdout",
     "output_type": "stream",
     "text": [
      "\u001b[32m[0503 10:57:07 @base.py:285]\u001b[0m Epoch 863 (global_step 1726000) finished, time:31.8 seconds.\n",
      "\u001b[32m[0503 10:57:07 @saver.py:79]\u001b[0m Model saved to ../output/DATGAN_PRELSTM_small/model\\model-1726000.\n",
      "\u001b[32m[0503 10:57:07 @monitor.py:467]\u001b[0m GAN_loss/discrim/accuracy_fake: 0.885\n"
     ]
    },
    {
     "name": "stderr",
     "output_type": "stream",
     "text": [
      "\n"
     ]
    },
    {
     "name": "stdout",
     "output_type": "stream",
     "text": [
      "\u001b[32m[0503 10:57:07 @monitor.py:467]\u001b[0m GAN_loss/discrim/accuracy_real: 0.135\n",
      "\u001b[32m[0503 10:57:07 @monitor.py:467]\u001b[0m GAN_loss/discrim/loss: 0.64183\n",
      "\u001b[32m[0503 10:57:07 @monitor.py:467]\u001b[0m GAN_loss/gen/final-g-loss: 0.98797\n",
      "\u001b[32m[0503 10:57:07 @monitor.py:467]\u001b[0m GAN_loss/gen/klloss: 0.056785\n",
      "\u001b[32m[0503 10:57:07 @monitor.py:467]\u001b[0m GAN_loss/gen/loss: 0.93119\n",
      "\u001b[32m[0503 10:57:07 @monitor.py:467]\u001b[0m QueueInput/queue_size: 50\n",
      "\u001b[32m[0503 10:57:07 @base.py:275]\u001b[0m Start Epoch 864 ...\n"
     ]
    },
    {
     "name": "stderr",
     "output_type": "stream",
     "text": [
      "100%|#################################################################################|2000/2000[00:31<00:00,62.88it/s]"
     ]
    },
    {
     "name": "stdout",
     "output_type": "stream",
     "text": [
      "\u001b[32m[0503 10:57:39 @base.py:285]\u001b[0m Epoch 864 (global_step 1728000) finished, time:31.8 seconds.\n",
      "\u001b[32m[0503 10:57:39 @saver.py:79]\u001b[0m Model saved to ../output/DATGAN_PRELSTM_small/model\\model-1728000.\n",
      "\u001b[32m[0503 10:57:39 @monitor.py:467]\u001b[0m GAN_loss/discrim/accuracy_fake: 0.975\n"
     ]
    },
    {
     "name": "stderr",
     "output_type": "stream",
     "text": [
      "\n"
     ]
    },
    {
     "name": "stdout",
     "output_type": "stream",
     "text": [
      "\u001b[32m[0503 10:57:39 @monitor.py:467]\u001b[0m GAN_loss/discrim/accuracy_real: 0.105\n",
      "\u001b[32m[0503 10:57:39 @monitor.py:467]\u001b[0m GAN_loss/discrim/loss: 0.64384\n",
      "\u001b[32m[0503 10:57:39 @monitor.py:467]\u001b[0m GAN_loss/gen/final-g-loss: 1.0712\n",
      "\u001b[32m[0503 10:57:39 @monitor.py:467]\u001b[0m GAN_loss/gen/klloss: 0.11611\n",
      "\u001b[32m[0503 10:57:39 @monitor.py:467]\u001b[0m GAN_loss/gen/loss: 0.95504\n",
      "\u001b[32m[0503 10:57:39 @monitor.py:467]\u001b[0m QueueInput/queue_size: 50\n",
      "\u001b[32m[0503 10:57:39 @base.py:275]\u001b[0m Start Epoch 865 ...\n"
     ]
    },
    {
     "name": "stderr",
     "output_type": "stream",
     "text": [
      "100%|#################################################################################|2000/2000[00:31<00:00,62.92it/s]"
     ]
    },
    {
     "name": "stdout",
     "output_type": "stream",
     "text": [
      "\u001b[32m[0503 10:58:11 @base.py:285]\u001b[0m Epoch 865 (global_step 1730000) finished, time:31.8 seconds.\n",
      "\u001b[32m[0503 10:58:11 @saver.py:79]\u001b[0m Model saved to ../output/DATGAN_PRELSTM_small/model\\model-1730000.\n",
      "\u001b[32m[0503 10:58:11 @monitor.py:467]\u001b[0m GAN_loss/discrim/accuracy_fake: 0.955\n"
     ]
    },
    {
     "name": "stderr",
     "output_type": "stream",
     "text": [
      "\n"
     ]
    },
    {
     "name": "stdout",
     "output_type": "stream",
     "text": [
      "\u001b[32m[0503 10:58:11 @monitor.py:467]\u001b[0m GAN_loss/discrim/accuracy_real: 0.095\n",
      "\u001b[32m[0503 10:58:11 @monitor.py:467]\u001b[0m GAN_loss/discrim/loss: 0.6422\n",
      "\u001b[32m[0503 10:58:11 @monitor.py:467]\u001b[0m GAN_loss/gen/final-g-loss: 1.0349\n",
      "\u001b[32m[0503 10:58:11 @monitor.py:467]\u001b[0m GAN_loss/gen/klloss: 0.084343\n",
      "\u001b[32m[0503 10:58:11 @monitor.py:467]\u001b[0m GAN_loss/gen/loss: 0.95053\n",
      "\u001b[32m[0503 10:58:11 @monitor.py:467]\u001b[0m QueueInput/queue_size: 50\n",
      "\u001b[32m[0503 10:58:11 @base.py:275]\u001b[0m Start Epoch 866 ...\n"
     ]
    },
    {
     "name": "stderr",
     "output_type": "stream",
     "text": [
      "100%|#################################################################################|2000/2000[00:31<00:00,62.91it/s]"
     ]
    },
    {
     "name": "stdout",
     "output_type": "stream",
     "text": [
      "\u001b[32m[0503 10:58:43 @base.py:285]\u001b[0m Epoch 866 (global_step 1732000) finished, time:31.8 seconds.\n",
      "\u001b[32m[0503 10:58:43 @saver.py:79]\u001b[0m Model saved to ../output/DATGAN_PRELSTM_small/model\\model-1732000.\n",
      "\u001b[32m[0503 10:58:43 @monitor.py:467]\u001b[0m GAN_loss/discrim/accuracy_fake: 0.945\n"
     ]
    },
    {
     "name": "stderr",
     "output_type": "stream",
     "text": [
      "\n"
     ]
    },
    {
     "name": "stdout",
     "output_type": "stream",
     "text": [
      "\u001b[32m[0503 10:58:43 @monitor.py:467]\u001b[0m GAN_loss/discrim/accuracy_real: 0.085\n",
      "\u001b[32m[0503 10:58:43 @monitor.py:467]\u001b[0m GAN_loss/discrim/loss: 0.65223\n",
      "\u001b[32m[0503 10:58:43 @monitor.py:467]\u001b[0m GAN_loss/gen/final-g-loss: 1.0686\n",
      "\u001b[32m[0503 10:58:43 @monitor.py:467]\u001b[0m GAN_loss/gen/klloss: 0.12051\n",
      "\u001b[32m[0503 10:58:43 @monitor.py:467]\u001b[0m GAN_loss/gen/loss: 0.94809\n",
      "\u001b[32m[0503 10:58:43 @monitor.py:467]\u001b[0m QueueInput/queue_size: 50\n",
      "\u001b[32m[0503 10:58:43 @base.py:275]\u001b[0m Start Epoch 867 ...\n"
     ]
    },
    {
     "name": "stderr",
     "output_type": "stream",
     "text": [
      "100%|#################################################################################|2000/2000[00:31<00:00,63.00it/s]"
     ]
    },
    {
     "name": "stdout",
     "output_type": "stream",
     "text": [
      "\u001b[32m[0503 10:59:15 @base.py:285]\u001b[0m Epoch 867 (global_step 1734000) finished, time:31.7 seconds.\n",
      "\u001b[32m[0503 10:59:15 @saver.py:79]\u001b[0m Model saved to ../output/DATGAN_PRELSTM_small/model\\model-1734000.\n"
     ]
    },
    {
     "name": "stderr",
     "output_type": "stream",
     "text": [
      "\n"
     ]
    },
    {
     "name": "stdout",
     "output_type": "stream",
     "text": [
      "\u001b[32m[0503 10:59:15 @monitor.py:467]\u001b[0m GAN_loss/discrim/accuracy_fake: 0.975\n",
      "\u001b[32m[0503 10:59:15 @monitor.py:467]\u001b[0m GAN_loss/discrim/accuracy_real: 0.085\n",
      "\u001b[32m[0503 10:59:15 @monitor.py:467]\u001b[0m GAN_loss/discrim/loss: 0.64654\n",
      "\u001b[32m[0503 10:59:15 @monitor.py:467]\u001b[0m GAN_loss/gen/final-g-loss: 1.0518\n",
      "\u001b[32m[0503 10:59:15 @monitor.py:467]\u001b[0m GAN_loss/gen/klloss: 0.099206\n",
      "\u001b[32m[0503 10:59:15 @monitor.py:467]\u001b[0m GAN_loss/gen/loss: 0.95256\n",
      "\u001b[32m[0503 10:59:15 @monitor.py:467]\u001b[0m QueueInput/queue_size: 50\n",
      "\u001b[32m[0503 10:59:15 @base.py:275]\u001b[0m Start Epoch 868 ...\n"
     ]
    },
    {
     "name": "stderr",
     "output_type": "stream",
     "text": [
      "100%|#################################################################################|2000/2000[00:31<00:00,63.02it/s]"
     ]
    },
    {
     "name": "stdout",
     "output_type": "stream",
     "text": [
      "\u001b[32m[0503 10:59:47 @base.py:285]\u001b[0m Epoch 868 (global_step 1736000) finished, time:31.7 seconds.\n",
      "\u001b[32m[0503 10:59:47 @saver.py:79]\u001b[0m Model saved to ../output/DATGAN_PRELSTM_small/model\\model-1736000.\n",
      "\u001b[32m[0503 10:59:47 @monitor.py:467]\u001b[0m GAN_loss/discrim/accuracy_fake: 0.945\n"
     ]
    },
    {
     "name": "stderr",
     "output_type": "stream",
     "text": [
      "\n"
     ]
    },
    {
     "name": "stdout",
     "output_type": "stream",
     "text": [
      "\u001b[32m[0503 10:59:47 @monitor.py:467]\u001b[0m GAN_loss/discrim/accuracy_real: 0.085\n",
      "\u001b[32m[0503 10:59:47 @monitor.py:467]\u001b[0m GAN_loss/discrim/loss: 0.64935\n",
      "\u001b[32m[0503 10:59:47 @monitor.py:467]\u001b[0m GAN_loss/gen/final-g-loss: 1.0307\n",
      "\u001b[32m[0503 10:59:47 @monitor.py:467]\u001b[0m GAN_loss/gen/klloss: 0.089522\n",
      "\u001b[32m[0503 10:59:47 @monitor.py:467]\u001b[0m GAN_loss/gen/loss: 0.94122\n",
      "\u001b[32m[0503 10:59:47 @monitor.py:467]\u001b[0m QueueInput/queue_size: 50\n",
      "\u001b[32m[0503 10:59:47 @base.py:275]\u001b[0m Start Epoch 869 ...\n"
     ]
    },
    {
     "name": "stderr",
     "output_type": "stream",
     "text": [
      "100%|#################################################################################|2000/2000[00:31<00:00,63.02it/s]"
     ]
    },
    {
     "name": "stdout",
     "output_type": "stream",
     "text": [
      "\u001b[32m[0503 11:00:19 @base.py:285]\u001b[0m Epoch 869 (global_step 1738000) finished, time:31.7 seconds.\n",
      "\u001b[32m[0503 11:00:19 @saver.py:79]\u001b[0m Model saved to ../output/DATGAN_PRELSTM_small/model\\model-1738000.\n",
      "\u001b[32m[0503 11:00:19 @monitor.py:467]\u001b[0m GAN_loss/discrim/accuracy_fake: 0.97\n"
     ]
    },
    {
     "name": "stderr",
     "output_type": "stream",
     "text": [
      "\n"
     ]
    },
    {
     "name": "stdout",
     "output_type": "stream",
     "text": [
      "\u001b[32m[0503 11:00:19 @monitor.py:467]\u001b[0m GAN_loss/discrim/accuracy_real: 0.1\n",
      "\u001b[32m[0503 11:00:19 @monitor.py:467]\u001b[0m GAN_loss/discrim/loss: 0.64166\n",
      "\u001b[32m[0503 11:00:19 @monitor.py:467]\u001b[0m GAN_loss/gen/final-g-loss: 1.0468\n",
      "\u001b[32m[0503 11:00:19 @monitor.py:467]\u001b[0m GAN_loss/gen/klloss: 0.091478\n",
      "\u001b[32m[0503 11:00:19 @monitor.py:467]\u001b[0m GAN_loss/gen/loss: 0.95532\n",
      "\u001b[32m[0503 11:00:19 @monitor.py:467]\u001b[0m QueueInput/queue_size: 50\n",
      "\u001b[32m[0503 11:00:19 @base.py:275]\u001b[0m Start Epoch 870 ...\n"
     ]
    },
    {
     "name": "stderr",
     "output_type": "stream",
     "text": [
      "100%|#################################################################################|2000/2000[00:31<00:00,63.00it/s]"
     ]
    },
    {
     "name": "stdout",
     "output_type": "stream",
     "text": [
      "\u001b[32m[0503 11:00:51 @base.py:285]\u001b[0m Epoch 870 (global_step 1740000) finished, time:31.7 seconds.\n",
      "\u001b[32m[0503 11:00:51 @saver.py:79]\u001b[0m Model saved to ../output/DATGAN_PRELSTM_small/model\\model-1740000.\n",
      "\u001b[32m[0503 11:00:51 @monitor.py:467]\u001b[0m GAN_loss/discrim/accuracy_fake: 0.945\n"
     ]
    },
    {
     "name": "stderr",
     "output_type": "stream",
     "text": [
      "\n"
     ]
    },
    {
     "name": "stdout",
     "output_type": "stream",
     "text": [
      "\u001b[32m[0503 11:00:51 @monitor.py:467]\u001b[0m GAN_loss/discrim/accuracy_real: 0.095\n",
      "\u001b[32m[0503 11:00:51 @monitor.py:467]\u001b[0m GAN_loss/discrim/loss: 0.64884\n",
      "\u001b[32m[0503 11:00:51 @monitor.py:467]\u001b[0m GAN_loss/gen/final-g-loss: 1.0664\n",
      "\u001b[32m[0503 11:00:51 @monitor.py:467]\u001b[0m GAN_loss/gen/klloss: 0.12085\n",
      "\u001b[32m[0503 11:00:51 @monitor.py:467]\u001b[0m GAN_loss/gen/loss: 0.94556\n",
      "\u001b[32m[0503 11:00:51 @monitor.py:467]\u001b[0m QueueInput/queue_size: 50\n",
      "\u001b[32m[0503 11:00:51 @base.py:275]\u001b[0m Start Epoch 871 ...\n"
     ]
    },
    {
     "name": "stderr",
     "output_type": "stream",
     "text": [
      "100%|#################################################################################|2000/2000[00:31<00:00,62.98it/s]"
     ]
    },
    {
     "name": "stdout",
     "output_type": "stream",
     "text": [
      "\u001b[32m[0503 11:01:23 @base.py:285]\u001b[0m Epoch 871 (global_step 1742000) finished, time:31.8 seconds.\n",
      "\u001b[32m[0503 11:01:23 @saver.py:79]\u001b[0m Model saved to ../output/DATGAN_PRELSTM_small/model\\model-1742000.\n",
      "\u001b[32m[0503 11:01:23 @monitor.py:467]\u001b[0m GAN_loss/discrim/accuracy_fake: 0.945\n"
     ]
    },
    {
     "name": "stderr",
     "output_type": "stream",
     "text": [
      "\n"
     ]
    },
    {
     "name": "stdout",
     "output_type": "stream",
     "text": [
      "\u001b[32m[0503 11:01:23 @monitor.py:467]\u001b[0m GAN_loss/discrim/accuracy_real: 0.095\n",
      "\u001b[32m[0503 11:01:23 @monitor.py:467]\u001b[0m GAN_loss/discrim/loss: 0.63773\n",
      "\u001b[32m[0503 11:01:23 @monitor.py:467]\u001b[0m GAN_loss/gen/final-g-loss: 1.0613\n",
      "\u001b[32m[0503 11:01:23 @monitor.py:467]\u001b[0m GAN_loss/gen/klloss: 0.10426\n",
      "\u001b[32m[0503 11:01:23 @monitor.py:467]\u001b[0m GAN_loss/gen/loss: 0.95701\n",
      "\u001b[32m[0503 11:01:23 @monitor.py:467]\u001b[0m QueueInput/queue_size: 50\n",
      "\u001b[32m[0503 11:01:23 @base.py:275]\u001b[0m Start Epoch 872 ...\n"
     ]
    },
    {
     "name": "stderr",
     "output_type": "stream",
     "text": [
      "100%|#################################################################################|2000/2000[00:31<00:00,63.06it/s]"
     ]
    },
    {
     "name": "stdout",
     "output_type": "stream",
     "text": [
      "\u001b[32m[0503 11:01:55 @base.py:285]\u001b[0m Epoch 872 (global_step 1744000) finished, time:31.7 seconds.\n",
      "\u001b[32m[0503 11:01:55 @saver.py:79]\u001b[0m Model saved to ../output/DATGAN_PRELSTM_small/model\\model-1744000.\n",
      "\u001b[32m[0503 11:01:55 @monitor.py:467]\u001b[0m GAN_loss/discrim/accuracy_fake: 0.97\n"
     ]
    },
    {
     "name": "stderr",
     "output_type": "stream",
     "text": [
      "\n"
     ]
    },
    {
     "name": "stdout",
     "output_type": "stream",
     "text": [
      "\u001b[32m[0503 11:01:55 @monitor.py:467]\u001b[0m GAN_loss/discrim/accuracy_real: 0.065\n",
      "\u001b[32m[0503 11:01:55 @monitor.py:467]\u001b[0m GAN_loss/discrim/loss: 0.64937\n",
      "\u001b[32m[0503 11:01:55 @monitor.py:467]\u001b[0m GAN_loss/gen/final-g-loss: 1.0801\n",
      "\u001b[32m[0503 11:01:55 @monitor.py:467]\u001b[0m GAN_loss/gen/klloss: 0.14223\n",
      "\u001b[32m[0503 11:01:55 @monitor.py:467]\u001b[0m GAN_loss/gen/loss: 0.93789\n",
      "\u001b[32m[0503 11:01:55 @monitor.py:467]\u001b[0m QueueInput/queue_size: 50\n",
      "\u001b[32m[0503 11:01:55 @base.py:275]\u001b[0m Start Epoch 873 ...\n"
     ]
    },
    {
     "name": "stderr",
     "output_type": "stream",
     "text": [
      "100%|#################################################################################|2000/2000[00:31<00:00,63.03it/s]"
     ]
    },
    {
     "name": "stdout",
     "output_type": "stream",
     "text": [
      "\u001b[32m[0503 11:02:27 @base.py:285]\u001b[0m Epoch 873 (global_step 1746000) finished, time:31.7 seconds.\n",
      "\u001b[32m[0503 11:02:27 @saver.py:79]\u001b[0m Model saved to ../output/DATGAN_PRELSTM_small/model\\model-1746000.\n"
     ]
    },
    {
     "name": "stderr",
     "output_type": "stream",
     "text": [
      "\n"
     ]
    },
    {
     "name": "stdout",
     "output_type": "stream",
     "text": [
      "\u001b[32m[0503 11:02:27 @monitor.py:467]\u001b[0m GAN_loss/discrim/accuracy_fake: 0.96\n",
      "\u001b[32m[0503 11:02:27 @monitor.py:467]\u001b[0m GAN_loss/discrim/accuracy_real: 0.09\n",
      "\u001b[32m[0503 11:02:27 @monitor.py:467]\u001b[0m GAN_loss/discrim/loss: 0.64498\n",
      "\u001b[32m[0503 11:02:27 @monitor.py:467]\u001b[0m GAN_loss/gen/final-g-loss: 1.0641\n",
      "\u001b[32m[0503 11:02:27 @monitor.py:467]\u001b[0m GAN_loss/gen/klloss: 0.12541\n",
      "\u001b[32m[0503 11:02:27 @monitor.py:467]\u001b[0m GAN_loss/gen/loss: 0.93869\n",
      "\u001b[32m[0503 11:02:27 @monitor.py:467]\u001b[0m QueueInput/queue_size: 50\n",
      "\u001b[32m[0503 11:02:27 @base.py:275]\u001b[0m Start Epoch 874 ...\n"
     ]
    },
    {
     "name": "stderr",
     "output_type": "stream",
     "text": [
      "100%|#################################################################################|2000/2000[00:31<00:00,63.11it/s]"
     ]
    },
    {
     "name": "stdout",
     "output_type": "stream",
     "text": [
      "\u001b[32m[0503 11:02:59 @base.py:285]\u001b[0m Epoch 874 (global_step 1748000) finished, time:31.7 seconds.\n",
      "\u001b[32m[0503 11:02:59 @saver.py:79]\u001b[0m Model saved to ../output/DATGAN_PRELSTM_small/model\\model-1748000.\n",
      "\u001b[32m[0503 11:02:59 @monitor.py:467]\u001b[0m GAN_loss/discrim/accuracy_fake: 0.965\n"
     ]
    },
    {
     "name": "stderr",
     "output_type": "stream",
     "text": [
      "\n"
     ]
    },
    {
     "name": "stdout",
     "output_type": "stream",
     "text": [
      "\u001b[32m[0503 11:02:59 @monitor.py:467]\u001b[0m GAN_loss/discrim/accuracy_real: 0.075\n",
      "\u001b[32m[0503 11:02:59 @monitor.py:467]\u001b[0m GAN_loss/discrim/loss: 0.64651\n",
      "\u001b[32m[0503 11:02:59 @monitor.py:467]\u001b[0m GAN_loss/gen/final-g-loss: 1.0133\n",
      "\u001b[32m[0503 11:02:59 @monitor.py:467]\u001b[0m GAN_loss/gen/klloss: 0.0627\n",
      "\u001b[32m[0503 11:02:59 @monitor.py:467]\u001b[0m GAN_loss/gen/loss: 0.95058\n",
      "\u001b[32m[0503 11:02:59 @monitor.py:467]\u001b[0m QueueInput/queue_size: 50\n",
      "\u001b[32m[0503 11:02:59 @base.py:275]\u001b[0m Start Epoch 875 ...\n"
     ]
    },
    {
     "name": "stderr",
     "output_type": "stream",
     "text": [
      "100%|#################################################################################|2000/2000[00:31<00:00,63.03it/s]"
     ]
    },
    {
     "name": "stdout",
     "output_type": "stream",
     "text": [
      "\u001b[32m[0503 11:03:31 @base.py:285]\u001b[0m Epoch 875 (global_step 1750000) finished, time:31.7 seconds.\n",
      "\u001b[32m[0503 11:03:31 @saver.py:79]\u001b[0m Model saved to ../output/DATGAN_PRELSTM_small/model\\model-1750000.\n",
      "\u001b[32m[0503 11:03:31 @monitor.py:467]\u001b[0m GAN_loss/discrim/accuracy_fake: 0.965\n"
     ]
    },
    {
     "name": "stderr",
     "output_type": "stream",
     "text": [
      "\n"
     ]
    },
    {
     "name": "stdout",
     "output_type": "stream",
     "text": [
      "\u001b[32m[0503 11:03:31 @monitor.py:467]\u001b[0m GAN_loss/discrim/accuracy_real: 0.055\n",
      "\u001b[32m[0503 11:03:31 @monitor.py:467]\u001b[0m GAN_loss/discrim/loss: 0.64805\n",
      "\u001b[32m[0503 11:03:31 @monitor.py:467]\u001b[0m GAN_loss/gen/final-g-loss: 1.0183\n",
      "\u001b[32m[0503 11:03:31 @monitor.py:467]\u001b[0m GAN_loss/gen/klloss: 0.091686\n",
      "\u001b[32m[0503 11:03:31 @monitor.py:467]\u001b[0m GAN_loss/gen/loss: 0.92665\n",
      "\u001b[32m[0503 11:03:31 @monitor.py:467]\u001b[0m QueueInput/queue_size: 50\n",
      "\u001b[32m[0503 11:03:31 @base.py:275]\u001b[0m Start Epoch 876 ...\n"
     ]
    },
    {
     "name": "stderr",
     "output_type": "stream",
     "text": [
      "100%|#################################################################################|2000/2000[00:31<00:00,62.90it/s]"
     ]
    },
    {
     "name": "stdout",
     "output_type": "stream",
     "text": [
      "\u001b[32m[0503 11:04:03 @base.py:285]\u001b[0m Epoch 876 (global_step 1752000) finished, time:31.8 seconds.\n",
      "\u001b[32m[0503 11:04:03 @saver.py:79]\u001b[0m Model saved to ../output/DATGAN_PRELSTM_small/model\\model-1752000.\n",
      "\u001b[32m[0503 11:04:03 @monitor.py:467]\u001b[0m GAN_loss/discrim/accuracy_fake: 0.955\n"
     ]
    },
    {
     "name": "stderr",
     "output_type": "stream",
     "text": [
      "\n"
     ]
    },
    {
     "name": "stdout",
     "output_type": "stream",
     "text": [
      "\u001b[32m[0503 11:04:03 @monitor.py:467]\u001b[0m GAN_loss/discrim/accuracy_real: 0.08\n",
      "\u001b[32m[0503 11:04:03 @monitor.py:467]\u001b[0m GAN_loss/discrim/loss: 0.64196\n",
      "\u001b[32m[0503 11:04:03 @monitor.py:467]\u001b[0m GAN_loss/gen/final-g-loss: 1.0712\n",
      "\u001b[32m[0503 11:04:03 @monitor.py:467]\u001b[0m GAN_loss/gen/klloss: 0.14021\n",
      "\u001b[32m[0503 11:04:03 @monitor.py:467]\u001b[0m GAN_loss/gen/loss: 0.93098\n",
      "\u001b[32m[0503 11:04:03 @monitor.py:467]\u001b[0m QueueInput/queue_size: 50\n",
      "\u001b[32m[0503 11:04:03 @base.py:275]\u001b[0m Start Epoch 877 ...\n"
     ]
    },
    {
     "name": "stderr",
     "output_type": "stream",
     "text": [
      "100%|#################################################################################|2000/2000[00:31<00:00,63.05it/s]"
     ]
    },
    {
     "name": "stdout",
     "output_type": "stream",
     "text": [
      "\u001b[32m[0503 11:04:34 @base.py:285]\u001b[0m Epoch 877 (global_step 1754000) finished, time:31.7 seconds.\n",
      "\u001b[32m[0503 11:04:34 @saver.py:79]\u001b[0m Model saved to ../output/DATGAN_PRELSTM_small/model\\model-1754000.\n",
      "\u001b[32m[0503 11:04:35 @monitor.py:467]\u001b[0m GAN_loss/discrim/accuracy_fake: 0.94\n"
     ]
    },
    {
     "name": "stderr",
     "output_type": "stream",
     "text": [
      "\n"
     ]
    },
    {
     "name": "stdout",
     "output_type": "stream",
     "text": [
      "\u001b[32m[0503 11:04:35 @monitor.py:467]\u001b[0m GAN_loss/discrim/accuracy_real: 0.09\n",
      "\u001b[32m[0503 11:04:35 @monitor.py:467]\u001b[0m GAN_loss/discrim/loss: 0.64259\n",
      "\u001b[32m[0503 11:04:35 @monitor.py:467]\u001b[0m GAN_loss/gen/final-g-loss: 1.0543\n",
      "\u001b[32m[0503 11:04:35 @monitor.py:467]\u001b[0m GAN_loss/gen/klloss: 0.11736\n",
      "\u001b[32m[0503 11:04:35 @monitor.py:467]\u001b[0m GAN_loss/gen/loss: 0.93696\n",
      "\u001b[32m[0503 11:04:35 @monitor.py:467]\u001b[0m QueueInput/queue_size: 50\n",
      "\u001b[32m[0503 11:04:35 @base.py:275]\u001b[0m Start Epoch 878 ...\n"
     ]
    },
    {
     "name": "stderr",
     "output_type": "stream",
     "text": [
      "100%|#################################################################################|2000/2000[00:31<00:00,63.03it/s]"
     ]
    },
    {
     "name": "stdout",
     "output_type": "stream",
     "text": [
      "\u001b[32m[0503 11:05:06 @base.py:285]\u001b[0m Epoch 878 (global_step 1756000) finished, time:31.7 seconds.\n",
      "\u001b[32m[0503 11:05:06 @saver.py:79]\u001b[0m Model saved to ../output/DATGAN_PRELSTM_small/model\\model-1756000.\n",
      "\u001b[32m[0503 11:05:07 @monitor.py:467]\u001b[0m GAN_loss/discrim/accuracy_fake: 0.93\n"
     ]
    },
    {
     "name": "stderr",
     "output_type": "stream",
     "text": [
      "\n"
     ]
    },
    {
     "name": "stdout",
     "output_type": "stream",
     "text": [
      "\u001b[32m[0503 11:05:07 @monitor.py:467]\u001b[0m GAN_loss/discrim/accuracy_real: 0.12\n",
      "\u001b[32m[0503 11:05:07 @monitor.py:467]\u001b[0m GAN_loss/discrim/loss: 0.6514\n",
      "\u001b[32m[0503 11:05:07 @monitor.py:467]\u001b[0m GAN_loss/gen/final-g-loss: 1.0227\n",
      "\u001b[32m[0503 11:05:07 @monitor.py:467]\u001b[0m GAN_loss/gen/klloss: 0.097705\n",
      "\u001b[32m[0503 11:05:07 @monitor.py:467]\u001b[0m GAN_loss/gen/loss: 0.92504\n",
      "\u001b[32m[0503 11:05:07 @monitor.py:467]\u001b[0m QueueInput/queue_size: 50\n",
      "\u001b[32m[0503 11:05:07 @base.py:275]\u001b[0m Start Epoch 879 ...\n"
     ]
    },
    {
     "name": "stderr",
     "output_type": "stream",
     "text": [
      "100%|#################################################################################|2000/2000[00:31<00:00,63.04it/s]"
     ]
    },
    {
     "name": "stdout",
     "output_type": "stream",
     "text": [
      "\u001b[32m[0503 11:05:38 @base.py:285]\u001b[0m Epoch 879 (global_step 1758000) finished, time:31.7 seconds.\n",
      "\u001b[32m[0503 11:05:38 @saver.py:79]\u001b[0m Model saved to ../output/DATGAN_PRELSTM_small/model\\model-1758000.\n",
      "\u001b[32m[0503 11:05:38 @monitor.py:467]\u001b[0m GAN_loss/discrim/accuracy_fake: 0.96\n"
     ]
    },
    {
     "name": "stderr",
     "output_type": "stream",
     "text": [
      "\n"
     ]
    },
    {
     "name": "stdout",
     "output_type": "stream",
     "text": [
      "\u001b[32m[0503 11:05:38 @monitor.py:467]\u001b[0m GAN_loss/discrim/accuracy_real: 0.07\n",
      "\u001b[32m[0503 11:05:38 @monitor.py:467]\u001b[0m GAN_loss/discrim/loss: 0.65322\n",
      "\u001b[32m[0503 11:05:38 @monitor.py:467]\u001b[0m GAN_loss/gen/final-g-loss: 1.0509\n",
      "\u001b[32m[0503 11:05:38 @monitor.py:467]\u001b[0m GAN_loss/gen/klloss: 0.11238\n",
      "\u001b[32m[0503 11:05:38 @monitor.py:467]\u001b[0m GAN_loss/gen/loss: 0.93853\n",
      "\u001b[32m[0503 11:05:38 @monitor.py:467]\u001b[0m QueueInput/queue_size: 50\n",
      "\u001b[32m[0503 11:05:38 @base.py:275]\u001b[0m Start Epoch 880 ...\n"
     ]
    },
    {
     "name": "stderr",
     "output_type": "stream",
     "text": [
      "100%|#################################################################################|2000/2000[00:31<00:00,63.06it/s]"
     ]
    },
    {
     "name": "stdout",
     "output_type": "stream",
     "text": [
      "\u001b[32m[0503 11:06:10 @base.py:285]\u001b[0m Epoch 880 (global_step 1760000) finished, time:31.7 seconds.\n",
      "\u001b[32m[0503 11:06:10 @saver.py:79]\u001b[0m Model saved to ../output/DATGAN_PRELSTM_small/model\\model-1760000.\n"
     ]
    },
    {
     "name": "stderr",
     "output_type": "stream",
     "text": [
      "\n"
     ]
    },
    {
     "name": "stdout",
     "output_type": "stream",
     "text": [
      "\u001b[32m[0503 11:06:10 @monitor.py:467]\u001b[0m GAN_loss/discrim/accuracy_fake: 0.945\n",
      "\u001b[32m[0503 11:06:10 @monitor.py:467]\u001b[0m GAN_loss/discrim/accuracy_real: 0.095\n",
      "\u001b[32m[0503 11:06:10 @monitor.py:467]\u001b[0m GAN_loss/discrim/loss: 0.64415\n",
      "\u001b[32m[0503 11:06:10 @monitor.py:467]\u001b[0m GAN_loss/gen/final-g-loss: 1.0575\n",
      "\u001b[32m[0503 11:06:10 @monitor.py:467]\u001b[0m GAN_loss/gen/klloss: 0.11161\n",
      "\u001b[32m[0503 11:06:10 @monitor.py:467]\u001b[0m GAN_loss/gen/loss: 0.94593\n",
      "\u001b[32m[0503 11:06:10 @monitor.py:467]\u001b[0m QueueInput/queue_size: 50\n",
      "\u001b[32m[0503 11:06:10 @base.py:275]\u001b[0m Start Epoch 881 ...\n"
     ]
    },
    {
     "name": "stderr",
     "output_type": "stream",
     "text": [
      "100%|#################################################################################|2000/2000[00:31<00:00,63.05it/s]"
     ]
    },
    {
     "name": "stdout",
     "output_type": "stream",
     "text": [
      "\u001b[32m[0503 11:06:42 @base.py:285]\u001b[0m Epoch 881 (global_step 1762000) finished, time:31.7 seconds.\n",
      "\u001b[32m[0503 11:06:42 @saver.py:79]\u001b[0m Model saved to ../output/DATGAN_PRELSTM_small/model\\model-1762000.\n"
     ]
    },
    {
     "name": "stderr",
     "output_type": "stream",
     "text": [
      "\n"
     ]
    },
    {
     "name": "stdout",
     "output_type": "stream",
     "text": [
      "\u001b[32m[0503 11:06:42 @monitor.py:467]\u001b[0m GAN_loss/discrim/accuracy_fake: 0.955\n",
      "\u001b[32m[0503 11:06:42 @monitor.py:467]\u001b[0m GAN_loss/discrim/accuracy_real: 0.055\n",
      "\u001b[32m[0503 11:06:42 @monitor.py:467]\u001b[0m GAN_loss/discrim/loss: 0.65807\n",
      "\u001b[32m[0503 11:06:42 @monitor.py:467]\u001b[0m GAN_loss/gen/final-g-loss: 1.0445\n",
      "\u001b[32m[0503 11:06:42 @monitor.py:467]\u001b[0m GAN_loss/gen/klloss: 0.11033\n",
      "\u001b[32m[0503 11:06:42 @monitor.py:467]\u001b[0m GAN_loss/gen/loss: 0.93414\n",
      "\u001b[32m[0503 11:06:42 @monitor.py:467]\u001b[0m QueueInput/queue_size: 50\n",
      "\u001b[32m[0503 11:06:42 @base.py:275]\u001b[0m Start Epoch 882 ...\n"
     ]
    },
    {
     "name": "stderr",
     "output_type": "stream",
     "text": [
      "100%|#################################################################################|2000/2000[00:31<00:00,63.01it/s]"
     ]
    },
    {
     "name": "stdout",
     "output_type": "stream",
     "text": [
      "\u001b[32m[0503 11:07:14 @base.py:285]\u001b[0m Epoch 882 (global_step 1764000) finished, time:31.7 seconds.\n",
      "\u001b[32m[0503 11:07:14 @saver.py:79]\u001b[0m Model saved to ../output/DATGAN_PRELSTM_small/model\\model-1764000.\n"
     ]
    },
    {
     "name": "stderr",
     "output_type": "stream",
     "text": [
      "\n"
     ]
    },
    {
     "name": "stdout",
     "output_type": "stream",
     "text": [
      "\u001b[32m[0503 11:07:14 @monitor.py:467]\u001b[0m GAN_loss/discrim/accuracy_fake: 0.915\n",
      "\u001b[32m[0503 11:07:14 @monitor.py:467]\u001b[0m GAN_loss/discrim/accuracy_real: 0.095\n",
      "\u001b[32m[0503 11:07:14 @monitor.py:467]\u001b[0m GAN_loss/discrim/loss: 0.6532\n",
      "\u001b[32m[0503 11:07:14 @monitor.py:467]\u001b[0m GAN_loss/gen/final-g-loss: 1.0638\n",
      "\u001b[32m[0503 11:07:14 @monitor.py:467]\u001b[0m GAN_loss/gen/klloss: 0.1352\n",
      "\u001b[32m[0503 11:07:14 @monitor.py:467]\u001b[0m GAN_loss/gen/loss: 0.92859\n",
      "\u001b[32m[0503 11:07:14 @monitor.py:467]\u001b[0m QueueInput/queue_size: 50\n",
      "\u001b[32m[0503 11:07:14 @base.py:275]\u001b[0m Start Epoch 883 ...\n"
     ]
    },
    {
     "name": "stderr",
     "output_type": "stream",
     "text": [
      "100%|#################################################################################|2000/2000[00:31<00:00,63.01it/s]"
     ]
    },
    {
     "name": "stdout",
     "output_type": "stream",
     "text": [
      "\u001b[32m[0503 11:07:46 @base.py:285]\u001b[0m Epoch 883 (global_step 1766000) finished, time:31.7 seconds.\n",
      "\u001b[32m[0503 11:07:46 @saver.py:79]\u001b[0m Model saved to ../output/DATGAN_PRELSTM_small/model\\model-1766000.\n",
      "\u001b[32m[0503 11:07:46 @monitor.py:467]\u001b[0m GAN_loss/discrim/accuracy_fake: 0.975\n"
     ]
    },
    {
     "name": "stderr",
     "output_type": "stream",
     "text": [
      "\n"
     ]
    },
    {
     "name": "stdout",
     "output_type": "stream",
     "text": [
      "\u001b[32m[0503 11:07:46 @monitor.py:467]\u001b[0m GAN_loss/discrim/accuracy_real: 0.055\n",
      "\u001b[32m[0503 11:07:46 @monitor.py:467]\u001b[0m GAN_loss/discrim/loss: 0.65557\n",
      "\u001b[32m[0503 11:07:46 @monitor.py:467]\u001b[0m GAN_loss/gen/final-g-loss: 1.0251\n",
      "\u001b[32m[0503 11:07:46 @monitor.py:467]\u001b[0m GAN_loss/gen/klloss: 0.089338\n",
      "\u001b[32m[0503 11:07:46 @monitor.py:467]\u001b[0m GAN_loss/gen/loss: 0.93574\n",
      "\u001b[32m[0503 11:07:46 @monitor.py:467]\u001b[0m QueueInput/queue_size: 50\n",
      "\u001b[32m[0503 11:07:46 @base.py:275]\u001b[0m Start Epoch 884 ...\n"
     ]
    },
    {
     "name": "stderr",
     "output_type": "stream",
     "text": [
      "100%|#################################################################################|2000/2000[00:31<00:00,62.94it/s]"
     ]
    },
    {
     "name": "stdout",
     "output_type": "stream",
     "text": [
      "\u001b[32m[0503 11:08:18 @base.py:285]\u001b[0m Epoch 884 (global_step 1768000) finished, time:31.8 seconds.\n",
      "\u001b[32m[0503 11:08:18 @saver.py:79]\u001b[0m Model saved to ../output/DATGAN_PRELSTM_small/model\\model-1768000.\n",
      "\u001b[32m[0503 11:08:18 @monitor.py:467]\u001b[0m GAN_loss/discrim/accuracy_fake: 0.95\n"
     ]
    },
    {
     "name": "stderr",
     "output_type": "stream",
     "text": [
      "\n"
     ]
    },
    {
     "name": "stdout",
     "output_type": "stream",
     "text": [
      "\u001b[32m[0503 11:08:18 @monitor.py:467]\u001b[0m GAN_loss/discrim/accuracy_real: 0.105\n",
      "\u001b[32m[0503 11:08:18 @monitor.py:467]\u001b[0m GAN_loss/discrim/loss: 0.64007\n",
      "\u001b[32m[0503 11:08:18 @monitor.py:467]\u001b[0m GAN_loss/gen/final-g-loss: 1.0386\n",
      "\u001b[32m[0503 11:08:18 @monitor.py:467]\u001b[0m GAN_loss/gen/klloss: 0.097272\n",
      "\u001b[32m[0503 11:08:18 @monitor.py:467]\u001b[0m GAN_loss/gen/loss: 0.94131\n",
      "\u001b[32m[0503 11:08:18 @monitor.py:467]\u001b[0m QueueInput/queue_size: 50\n",
      "\u001b[32m[0503 11:08:18 @base.py:275]\u001b[0m Start Epoch 885 ...\n"
     ]
    },
    {
     "name": "stderr",
     "output_type": "stream",
     "text": [
      "100%|#################################################################################|2000/2000[00:31<00:00,64.48it/s]"
     ]
    },
    {
     "name": "stdout",
     "output_type": "stream",
     "text": [
      "\u001b[32m[0503 11:08:49 @base.py:285]\u001b[0m Epoch 885 (global_step 1770000) finished, time:31 seconds.\n",
      "\u001b[32m[0503 11:08:49 @saver.py:79]\u001b[0m Model saved to ../output/DATGAN_PRELSTM_small/model\\model-1770000.\n",
      "\u001b[32m[0503 11:08:49 @monitor.py:467]\u001b[0m GAN_loss/discrim/accuracy_fake: 0.96\n"
     ]
    },
    {
     "name": "stderr",
     "output_type": "stream",
     "text": [
      "\n"
     ]
    },
    {
     "name": "stdout",
     "output_type": "stream",
     "text": [
      "\u001b[32m[0503 11:08:49 @monitor.py:467]\u001b[0m GAN_loss/discrim/accuracy_real: 0.08\n",
      "\u001b[32m[0503 11:08:49 @monitor.py:467]\u001b[0m GAN_loss/discrim/loss: 0.64397\n",
      "\u001b[32m[0503 11:08:49 @monitor.py:467]\u001b[0m GAN_loss/gen/final-g-loss: 1.0518\n",
      "\u001b[32m[0503 11:08:49 @monitor.py:467]\u001b[0m GAN_loss/gen/klloss: 0.10305\n",
      "\u001b[32m[0503 11:08:49 @monitor.py:467]\u001b[0m GAN_loss/gen/loss: 0.94873\n",
      "\u001b[32m[0503 11:08:49 @monitor.py:467]\u001b[0m QueueInput/queue_size: 50\n",
      "\u001b[32m[0503 11:08:49 @base.py:275]\u001b[0m Start Epoch 886 ...\n"
     ]
    },
    {
     "name": "stderr",
     "output_type": "stream",
     "text": [
      "100%|#################################################################################|2000/2000[00:30<00:00,65.04it/s]"
     ]
    },
    {
     "name": "stdout",
     "output_type": "stream",
     "text": [
      "\u001b[32m[0503 11:09:20 @base.py:285]\u001b[0m Epoch 886 (global_step 1772000) finished, time:30.8 seconds.\n",
      "\u001b[32m[0503 11:09:20 @saver.py:79]\u001b[0m Model saved to ../output/DATGAN_PRELSTM_small/model\\model-1772000.\n",
      "\u001b[32m[0503 11:09:20 @monitor.py:467]\u001b[0m GAN_loss/discrim/accuracy_fake: 0.97\n"
     ]
    },
    {
     "name": "stderr",
     "output_type": "stream",
     "text": [
      "\n"
     ]
    },
    {
     "name": "stdout",
     "output_type": "stream",
     "text": [
      "\u001b[32m[0503 11:09:20 @monitor.py:467]\u001b[0m GAN_loss/discrim/accuracy_real: 0.05\n",
      "\u001b[32m[0503 11:09:20 @monitor.py:467]\u001b[0m GAN_loss/discrim/loss: 0.64653\n",
      "\u001b[32m[0503 11:09:20 @monitor.py:467]\u001b[0m GAN_loss/gen/final-g-loss: 1.0779\n",
      "\u001b[32m[0503 11:09:20 @monitor.py:467]\u001b[0m GAN_loss/gen/klloss: 0.12867\n",
      "\u001b[32m[0503 11:09:20 @monitor.py:467]\u001b[0m GAN_loss/gen/loss: 0.94918\n",
      "\u001b[32m[0503 11:09:20 @monitor.py:467]\u001b[0m QueueInput/queue_size: 50\n",
      "\u001b[32m[0503 11:09:20 @base.py:275]\u001b[0m Start Epoch 887 ...\n"
     ]
    },
    {
     "name": "stderr",
     "output_type": "stream",
     "text": [
      "100%|#################################################################################|2000/2000[00:30<00:00,65.13it/s]"
     ]
    },
    {
     "name": "stdout",
     "output_type": "stream",
     "text": [
      "\u001b[32m[0503 11:09:51 @base.py:285]\u001b[0m Epoch 887 (global_step 1774000) finished, time:30.7 seconds.\n",
      "\u001b[32m[0503 11:09:51 @saver.py:79]\u001b[0m Model saved to ../output/DATGAN_PRELSTM_small/model\\model-1774000.\n"
     ]
    },
    {
     "name": "stderr",
     "output_type": "stream",
     "text": [
      "\n"
     ]
    },
    {
     "name": "stdout",
     "output_type": "stream",
     "text": [
      "\u001b[32m[0503 11:09:51 @monitor.py:467]\u001b[0m GAN_loss/discrim/accuracy_fake: 0.965\n",
      "\u001b[32m[0503 11:09:51 @monitor.py:467]\u001b[0m GAN_loss/discrim/accuracy_real: 0.105\n",
      "\u001b[32m[0503 11:09:51 @monitor.py:467]\u001b[0m GAN_loss/discrim/loss: 0.64501\n",
      "\u001b[32m[0503 11:09:51 @monitor.py:467]\u001b[0m GAN_loss/gen/final-g-loss: 1.0149\n",
      "\u001b[32m[0503 11:09:51 @monitor.py:467]\u001b[0m GAN_loss/gen/klloss: 0.067629\n",
      "\u001b[32m[0503 11:09:51 @monitor.py:467]\u001b[0m GAN_loss/gen/loss: 0.94722\n",
      "\u001b[32m[0503 11:09:51 @monitor.py:467]\u001b[0m QueueInput/queue_size: 50\n",
      "\u001b[32m[0503 11:09:51 @base.py:275]\u001b[0m Start Epoch 888 ...\n"
     ]
    },
    {
     "name": "stderr",
     "output_type": "stream",
     "text": [
      "100%|#################################################################################|2000/2000[00:30<00:00,65.15it/s]"
     ]
    },
    {
     "name": "stdout",
     "output_type": "stream",
     "text": [
      "\u001b[32m[0503 11:10:22 @base.py:285]\u001b[0m Epoch 888 (global_step 1776000) finished, time:30.7 seconds.\n",
      "\u001b[32m[0503 11:10:22 @saver.py:79]\u001b[0m Model saved to ../output/DATGAN_PRELSTM_small/model\\model-1776000.\n",
      "\u001b[32m[0503 11:10:22 @monitor.py:467]\u001b[0m GAN_loss/discrim/accuracy_fake: 0.93\n"
     ]
    },
    {
     "name": "stderr",
     "output_type": "stream",
     "text": [
      "\n"
     ]
    },
    {
     "name": "stdout",
     "output_type": "stream",
     "text": [
      "\u001b[32m[0503 11:10:22 @monitor.py:467]\u001b[0m GAN_loss/discrim/accuracy_real: 0.065\n",
      "\u001b[32m[0503 11:10:22 @monitor.py:467]\u001b[0m GAN_loss/discrim/loss: 0.65553\n",
      "\u001b[32m[0503 11:10:22 @monitor.py:467]\u001b[0m GAN_loss/gen/final-g-loss: 1.0389\n",
      "\u001b[32m[0503 11:10:22 @monitor.py:467]\u001b[0m GAN_loss/gen/klloss: 0.12677\n",
      "\u001b[32m[0503 11:10:22 @monitor.py:467]\u001b[0m GAN_loss/gen/loss: 0.91217\n",
      "\u001b[32m[0503 11:10:22 @monitor.py:467]\u001b[0m QueueInput/queue_size: 50\n",
      "\u001b[32m[0503 11:10:22 @base.py:275]\u001b[0m Start Epoch 889 ...\n"
     ]
    },
    {
     "name": "stderr",
     "output_type": "stream",
     "text": [
      "100%|#################################################################################|2000/2000[00:30<00:00,65.16it/s]"
     ]
    },
    {
     "name": "stdout",
     "output_type": "stream",
     "text": [
      "\u001b[32m[0503 11:10:53 @base.py:285]\u001b[0m Epoch 889 (global_step 1778000) finished, time:30.7 seconds.\n",
      "\u001b[32m[0503 11:10:53 @saver.py:79]\u001b[0m Model saved to ../output/DATGAN_PRELSTM_small/model\\model-1778000.\n",
      "\u001b[32m[0503 11:10:53 @monitor.py:467]\u001b[0m GAN_loss/discrim/accuracy_fake: 0.915\n"
     ]
    },
    {
     "name": "stderr",
     "output_type": "stream",
     "text": [
      "\n"
     ]
    },
    {
     "name": "stdout",
     "output_type": "stream",
     "text": [
      "\u001b[32m[0503 11:10:53 @monitor.py:467]\u001b[0m GAN_loss/discrim/accuracy_real: 0.08\n",
      "\u001b[32m[0503 11:10:53 @monitor.py:467]\u001b[0m GAN_loss/discrim/loss: 0.64522\n",
      "\u001b[32m[0503 11:10:53 @monitor.py:467]\u001b[0m GAN_loss/gen/final-g-loss: 1.0825\n",
      "\u001b[32m[0503 11:10:53 @monitor.py:467]\u001b[0m GAN_loss/gen/klloss: 0.1451\n",
      "\u001b[32m[0503 11:10:53 @monitor.py:467]\u001b[0m GAN_loss/gen/loss: 0.93739\n",
      "\u001b[32m[0503 11:10:53 @monitor.py:467]\u001b[0m QueueInput/queue_size: 50\n",
      "\u001b[32m[0503 11:10:53 @base.py:275]\u001b[0m Start Epoch 890 ...\n"
     ]
    },
    {
     "name": "stderr",
     "output_type": "stream",
     "text": [
      "100%|#################################################################################|2000/2000[00:30<00:00,65.13it/s]"
     ]
    },
    {
     "name": "stdout",
     "output_type": "stream",
     "text": [
      "\u001b[32m[0503 11:11:24 @base.py:285]\u001b[0m Epoch 890 (global_step 1780000) finished, time:30.7 seconds.\n",
      "\u001b[32m[0503 11:11:24 @saver.py:79]\u001b[0m Model saved to ../output/DATGAN_PRELSTM_small/model\\model-1780000.\n",
      "\u001b[32m[0503 11:11:24 @monitor.py:467]\u001b[0m GAN_loss/discrim/accuracy_fake: 0.925\n"
     ]
    },
    {
     "name": "stderr",
     "output_type": "stream",
     "text": [
      "\n"
     ]
    },
    {
     "name": "stdout",
     "output_type": "stream",
     "text": [
      "\u001b[32m[0503 11:11:24 @monitor.py:467]\u001b[0m GAN_loss/discrim/accuracy_real: 0.11\n",
      "\u001b[32m[0503 11:11:24 @monitor.py:467]\u001b[0m GAN_loss/discrim/loss: 0.64696\n",
      "\u001b[32m[0503 11:11:24 @monitor.py:467]\u001b[0m GAN_loss/gen/final-g-loss: 1.0442\n",
      "\u001b[32m[0503 11:11:24 @monitor.py:467]\u001b[0m GAN_loss/gen/klloss: 0.10941\n",
      "\u001b[32m[0503 11:11:24 @monitor.py:467]\u001b[0m GAN_loss/gen/loss: 0.93479\n",
      "\u001b[32m[0503 11:11:24 @monitor.py:467]\u001b[0m QueueInput/queue_size: 50\n",
      "\u001b[32m[0503 11:11:24 @base.py:275]\u001b[0m Start Epoch 891 ...\n"
     ]
    },
    {
     "name": "stderr",
     "output_type": "stream",
     "text": [
      "100%|#################################################################################|2000/2000[00:30<00:00,65.19it/s]"
     ]
    },
    {
     "name": "stdout",
     "output_type": "stream",
     "text": [
      "\u001b[32m[0503 11:11:55 @base.py:285]\u001b[0m Epoch 891 (global_step 1782000) finished, time:30.7 seconds.\n",
      "\u001b[32m[0503 11:11:55 @saver.py:79]\u001b[0m Model saved to ../output/DATGAN_PRELSTM_small/model\\model-1782000.\n",
      "\u001b[32m[0503 11:11:55 @monitor.py:467]\u001b[0m GAN_loss/discrim/accuracy_fake: 0.905\n"
     ]
    },
    {
     "name": "stderr",
     "output_type": "stream",
     "text": [
      "\n"
     ]
    },
    {
     "name": "stdout",
     "output_type": "stream",
     "text": [
      "\u001b[32m[0503 11:11:55 @monitor.py:467]\u001b[0m GAN_loss/discrim/accuracy_real: 0.1\n",
      "\u001b[32m[0503 11:11:55 @monitor.py:467]\u001b[0m GAN_loss/discrim/loss: 0.6536\n",
      "\u001b[32m[0503 11:11:55 @monitor.py:467]\u001b[0m GAN_loss/gen/final-g-loss: 1.0526\n",
      "\u001b[32m[0503 11:11:55 @monitor.py:467]\u001b[0m GAN_loss/gen/klloss: 0.11112\n",
      "\u001b[32m[0503 11:11:55 @monitor.py:467]\u001b[0m GAN_loss/gen/loss: 0.94149\n",
      "\u001b[32m[0503 11:11:55 @monitor.py:467]\u001b[0m QueueInput/queue_size: 50\n",
      "\u001b[32m[0503 11:11:55 @base.py:275]\u001b[0m Start Epoch 892 ...\n"
     ]
    },
    {
     "name": "stderr",
     "output_type": "stream",
     "text": [
      "100%|#################################################################################|2000/2000[00:30<00:00,65.11it/s]"
     ]
    },
    {
     "name": "stdout",
     "output_type": "stream",
     "text": [
      "\u001b[32m[0503 11:12:26 @base.py:285]\u001b[0m Epoch 892 (global_step 1784000) finished, time:30.7 seconds.\n",
      "\u001b[32m[0503 11:12:26 @saver.py:79]\u001b[0m Model saved to ../output/DATGAN_PRELSTM_small/model\\model-1784000.\n"
     ]
    },
    {
     "name": "stderr",
     "output_type": "stream",
     "text": [
      "\n"
     ]
    },
    {
     "name": "stdout",
     "output_type": "stream",
     "text": [
      "\u001b[32m[0503 11:12:26 @monitor.py:467]\u001b[0m GAN_loss/discrim/accuracy_fake: 0.955\n",
      "\u001b[32m[0503 11:12:26 @monitor.py:467]\u001b[0m GAN_loss/discrim/accuracy_real: 0.06\n",
      "\u001b[32m[0503 11:12:26 @monitor.py:467]\u001b[0m GAN_loss/discrim/loss: 0.6482\n",
      "\u001b[32m[0503 11:12:26 @monitor.py:467]\u001b[0m GAN_loss/gen/final-g-loss: 1.0153\n",
      "\u001b[32m[0503 11:12:26 @monitor.py:467]\u001b[0m GAN_loss/gen/klloss: 0.080893\n",
      "\u001b[32m[0503 11:12:26 @monitor.py:467]\u001b[0m GAN_loss/gen/loss: 0.93439\n",
      "\u001b[32m[0503 11:12:26 @monitor.py:467]\u001b[0m QueueInput/queue_size: 50\n",
      "\u001b[32m[0503 11:12:26 @base.py:275]\u001b[0m Start Epoch 893 ...\n"
     ]
    },
    {
     "name": "stderr",
     "output_type": "stream",
     "text": [
      "100%|#################################################################################|2000/2000[00:32<00:00,61.07it/s]"
     ]
    },
    {
     "name": "stdout",
     "output_type": "stream",
     "text": [
      "\u001b[32m[0503 11:12:58 @base.py:285]\u001b[0m Epoch 893 (global_step 1786000) finished, time:32.8 seconds.\n",
      "\u001b[32m[0503 11:12:59 @saver.py:79]\u001b[0m Model saved to ../output/DATGAN_PRELSTM_small/model\\model-1786000.\n"
     ]
    },
    {
     "name": "stderr",
     "output_type": "stream",
     "text": [
      "\n"
     ]
    },
    {
     "name": "stdout",
     "output_type": "stream",
     "text": [
      "\u001b[32m[0503 11:12:59 @monitor.py:467]\u001b[0m GAN_loss/discrim/accuracy_fake: 0.96\n",
      "\u001b[32m[0503 11:12:59 @monitor.py:467]\u001b[0m GAN_loss/discrim/accuracy_real: 0.085\n",
      "\u001b[32m[0503 11:12:59 @monitor.py:467]\u001b[0m GAN_loss/discrim/loss: 0.64335\n",
      "\u001b[32m[0503 11:12:59 @monitor.py:467]\u001b[0m GAN_loss/gen/final-g-loss: 1.0793\n",
      "\u001b[32m[0503 11:12:59 @monitor.py:467]\u001b[0m GAN_loss/gen/klloss: 0.13254\n",
      "\u001b[32m[0503 11:12:59 @monitor.py:467]\u001b[0m GAN_loss/gen/loss: 0.94671\n",
      "\u001b[32m[0503 11:12:59 @monitor.py:467]\u001b[0m QueueInput/queue_size: 50\n",
      "\u001b[32m[0503 11:12:59 @base.py:275]\u001b[0m Start Epoch 894 ...\n"
     ]
    },
    {
     "name": "stderr",
     "output_type": "stream",
     "text": [
      "100%|#################################################################################|2000/2000[00:31<00:00,62.84it/s]"
     ]
    },
    {
     "name": "stdout",
     "output_type": "stream",
     "text": [
      "\u001b[32m[0503 11:13:30 @base.py:285]\u001b[0m Epoch 894 (global_step 1788000) finished, time:31.8 seconds.\n",
      "\u001b[32m[0503 11:13:31 @saver.py:79]\u001b[0m Model saved to ../output/DATGAN_PRELSTM_small/model\\model-1788000.\n",
      "\u001b[32m[0503 11:13:31 @monitor.py:467]\u001b[0m GAN_loss/discrim/accuracy_fake: 0.955\n"
     ]
    },
    {
     "name": "stderr",
     "output_type": "stream",
     "text": [
      "\n"
     ]
    },
    {
     "name": "stdout",
     "output_type": "stream",
     "text": [
      "\u001b[32m[0503 11:13:31 @monitor.py:467]\u001b[0m GAN_loss/discrim/accuracy_real: 0.07\n",
      "\u001b[32m[0503 11:13:31 @monitor.py:467]\u001b[0m GAN_loss/discrim/loss: 0.63849\n",
      "\u001b[32m[0503 11:13:31 @monitor.py:467]\u001b[0m GAN_loss/gen/final-g-loss: 1.0296\n",
      "\u001b[32m[0503 11:13:31 @monitor.py:467]\u001b[0m GAN_loss/gen/klloss: 0.081697\n",
      "\u001b[32m[0503 11:13:31 @monitor.py:467]\u001b[0m GAN_loss/gen/loss: 0.9479\n",
      "\u001b[32m[0503 11:13:31 @monitor.py:467]\u001b[0m QueueInput/queue_size: 50\n",
      "\u001b[32m[0503 11:13:31 @base.py:275]\u001b[0m Start Epoch 895 ...\n"
     ]
    },
    {
     "name": "stderr",
     "output_type": "stream",
     "text": [
      "100%|#################################################################################|2000/2000[00:31<00:00,63.06it/s]"
     ]
    },
    {
     "name": "stdout",
     "output_type": "stream",
     "text": [
      "\u001b[32m[0503 11:14:02 @base.py:285]\u001b[0m Epoch 895 (global_step 1790000) finished, time:31.7 seconds.\n",
      "\u001b[32m[0503 11:14:02 @saver.py:79]\u001b[0m Model saved to ../output/DATGAN_PRELSTM_small/model\\model-1790000.\n",
      "\u001b[32m[0503 11:14:03 @monitor.py:467]\u001b[0m GAN_loss/discrim/accuracy_fake: 0.95\n"
     ]
    },
    {
     "name": "stderr",
     "output_type": "stream",
     "text": [
      "\n"
     ]
    },
    {
     "name": "stdout",
     "output_type": "stream",
     "text": [
      "\u001b[32m[0503 11:14:03 @monitor.py:467]\u001b[0m GAN_loss/discrim/accuracy_real: 0.1\n",
      "\u001b[32m[0503 11:14:03 @monitor.py:467]\u001b[0m GAN_loss/discrim/loss: 0.64674\n",
      "\u001b[32m[0503 11:14:03 @monitor.py:467]\u001b[0m GAN_loss/gen/final-g-loss: 1.052\n",
      "\u001b[32m[0503 11:14:03 @monitor.py:467]\u001b[0m GAN_loss/gen/klloss: 0.11039\n",
      "\u001b[32m[0503 11:14:03 @monitor.py:467]\u001b[0m GAN_loss/gen/loss: 0.94156\n",
      "\u001b[32m[0503 11:14:03 @monitor.py:467]\u001b[0m QueueInput/queue_size: 50\n",
      "\u001b[32m[0503 11:14:03 @base.py:275]\u001b[0m Start Epoch 896 ...\n"
     ]
    },
    {
     "name": "stderr",
     "output_type": "stream",
     "text": [
      "100%|#################################################################################|2000/2000[00:31<00:00,63.04it/s]"
     ]
    },
    {
     "name": "stdout",
     "output_type": "stream",
     "text": [
      "\u001b[32m[0503 11:14:34 @base.py:285]\u001b[0m Epoch 896 (global_step 1792000) finished, time:31.7 seconds.\n",
      "\u001b[32m[0503 11:14:34 @saver.py:79]\u001b[0m Model saved to ../output/DATGAN_PRELSTM_small/model\\model-1792000.\n",
      "\u001b[32m[0503 11:14:35 @monitor.py:467]\u001b[0m GAN_loss/discrim/accuracy_fake: 0.96\n"
     ]
    },
    {
     "name": "stderr",
     "output_type": "stream",
     "text": [
      "\n"
     ]
    },
    {
     "name": "stdout",
     "output_type": "stream",
     "text": [
      "\u001b[32m[0503 11:14:35 @monitor.py:467]\u001b[0m GAN_loss/discrim/accuracy_real: 0.075\n",
      "\u001b[32m[0503 11:14:35 @monitor.py:467]\u001b[0m GAN_loss/discrim/loss: 0.644\n",
      "\u001b[32m[0503 11:14:35 @monitor.py:467]\u001b[0m GAN_loss/gen/final-g-loss: 1.0655\n",
      "\u001b[32m[0503 11:14:35 @monitor.py:467]\u001b[0m GAN_loss/gen/klloss: 0.11048\n",
      "\u001b[32m[0503 11:14:35 @monitor.py:467]\u001b[0m GAN_loss/gen/loss: 0.95505\n",
      "\u001b[32m[0503 11:14:35 @monitor.py:467]\u001b[0m QueueInput/queue_size: 50\n",
      "\u001b[32m[0503 11:14:35 @base.py:275]\u001b[0m Start Epoch 897 ...\n"
     ]
    },
    {
     "name": "stderr",
     "output_type": "stream",
     "text": [
      "100%|#################################################################################|2000/2000[00:31<00:00,63.20it/s]"
     ]
    },
    {
     "name": "stdout",
     "output_type": "stream",
     "text": [
      "\u001b[32m[0503 11:15:06 @base.py:285]\u001b[0m Epoch 897 (global_step 1794000) finished, time:31.6 seconds.\n",
      "\u001b[32m[0503 11:15:06 @saver.py:79]\u001b[0m Model saved to ../output/DATGAN_PRELSTM_small/model\\model-1794000.\n"
     ]
    },
    {
     "name": "stderr",
     "output_type": "stream",
     "text": [
      "\n"
     ]
    },
    {
     "name": "stdout",
     "output_type": "stream",
     "text": [
      "\u001b[32m[0503 11:15:06 @monitor.py:467]\u001b[0m GAN_loss/discrim/accuracy_fake: 0.935\n",
      "\u001b[32m[0503 11:15:06 @monitor.py:467]\u001b[0m GAN_loss/discrim/accuracy_real: 0.11\n",
      "\u001b[32m[0503 11:15:06 @monitor.py:467]\u001b[0m GAN_loss/discrim/loss: 0.64215\n",
      "\u001b[32m[0503 11:15:06 @monitor.py:467]\u001b[0m GAN_loss/gen/final-g-loss: 1.0349\n",
      "\u001b[32m[0503 11:15:06 @monitor.py:467]\u001b[0m GAN_loss/gen/klloss: 0.089253\n",
      "\u001b[32m[0503 11:15:06 @monitor.py:467]\u001b[0m GAN_loss/gen/loss: 0.94567\n",
      "\u001b[32m[0503 11:15:06 @monitor.py:467]\u001b[0m QueueInput/queue_size: 50\n",
      "\u001b[32m[0503 11:15:06 @base.py:275]\u001b[0m Start Epoch 898 ...\n"
     ]
    },
    {
     "name": "stderr",
     "output_type": "stream",
     "text": [
      "100%|#################################################################################|2000/2000[00:31<00:00,63.15it/s]"
     ]
    },
    {
     "name": "stdout",
     "output_type": "stream",
     "text": [
      "\u001b[32m[0503 11:15:38 @base.py:285]\u001b[0m Epoch 898 (global_step 1796000) finished, time:31.7 seconds.\n",
      "\u001b[32m[0503 11:15:38 @saver.py:79]\u001b[0m Model saved to ../output/DATGAN_PRELSTM_small/model\\model-1796000.\n"
     ]
    },
    {
     "name": "stderr",
     "output_type": "stream",
     "text": [
      "\n"
     ]
    },
    {
     "name": "stdout",
     "output_type": "stream",
     "text": [
      "\u001b[32m[0503 11:15:38 @monitor.py:467]\u001b[0m GAN_loss/discrim/accuracy_fake: 0.955\n",
      "\u001b[32m[0503 11:15:38 @monitor.py:467]\u001b[0m GAN_loss/discrim/accuracy_real: 0.1\n",
      "\u001b[32m[0503 11:15:38 @monitor.py:467]\u001b[0m GAN_loss/discrim/loss: 0.65523\n",
      "\u001b[32m[0503 11:15:38 @monitor.py:467]\u001b[0m GAN_loss/gen/final-g-loss: 1.0104\n",
      "\u001b[32m[0503 11:15:38 @monitor.py:467]\u001b[0m GAN_loss/gen/klloss: 0.094165\n",
      "\u001b[32m[0503 11:15:38 @monitor.py:467]\u001b[0m GAN_loss/gen/loss: 0.91623\n",
      "\u001b[32m[0503 11:15:38 @monitor.py:467]\u001b[0m QueueInput/queue_size: 50\n",
      "\u001b[32m[0503 11:15:38 @base.py:275]\u001b[0m Start Epoch 899 ...\n"
     ]
    },
    {
     "name": "stderr",
     "output_type": "stream",
     "text": [
      "100%|#################################################################################|2000/2000[00:31<00:00,63.10it/s]"
     ]
    },
    {
     "name": "stdout",
     "output_type": "stream",
     "text": [
      "\u001b[32m[0503 11:16:10 @base.py:285]\u001b[0m Epoch 899 (global_step 1798000) finished, time:31.7 seconds.\n",
      "\u001b[32m[0503 11:16:10 @saver.py:79]\u001b[0m Model saved to ../output/DATGAN_PRELSTM_small/model\\model-1798000.\n"
     ]
    },
    {
     "name": "stderr",
     "output_type": "stream",
     "text": [
      "\n"
     ]
    },
    {
     "name": "stdout",
     "output_type": "stream",
     "text": [
      "\u001b[32m[0503 11:16:10 @monitor.py:467]\u001b[0m GAN_loss/discrim/accuracy_fake: 0.945\n",
      "\u001b[32m[0503 11:16:10 @monitor.py:467]\u001b[0m GAN_loss/discrim/accuracy_real: 0.065\n",
      "\u001b[32m[0503 11:16:10 @monitor.py:467]\u001b[0m GAN_loss/discrim/loss: 0.64184\n",
      "\u001b[32m[0503 11:16:10 @monitor.py:467]\u001b[0m GAN_loss/gen/final-g-loss: 1.0527\n",
      "\u001b[32m[0503 11:16:10 @monitor.py:467]\u001b[0m GAN_loss/gen/klloss: 0.089463\n",
      "\u001b[32m[0503 11:16:10 @monitor.py:467]\u001b[0m GAN_loss/gen/loss: 0.96324\n",
      "\u001b[32m[0503 11:16:10 @monitor.py:467]\u001b[0m QueueInput/queue_size: 50\n",
      "\u001b[32m[0503 11:16:10 @base.py:275]\u001b[0m Start Epoch 900 ...\n"
     ]
    },
    {
     "name": "stderr",
     "output_type": "stream",
     "text": [
      "100%|#################################################################################|2000/2000[00:31<00:00,63.05it/s]"
     ]
    },
    {
     "name": "stdout",
     "output_type": "stream",
     "text": [
      "\u001b[32m[0503 11:16:42 @base.py:285]\u001b[0m Epoch 900 (global_step 1800000) finished, time:31.7 seconds.\n",
      "\u001b[32m[0503 11:16:42 @saver.py:79]\u001b[0m Model saved to ../output/DATGAN_PRELSTM_small/model\\model-1800000.\n",
      "\u001b[32m[0503 11:16:42 @monitor.py:467]\u001b[0m GAN_loss/discrim/accuracy_fake: 0.955\n"
     ]
    },
    {
     "name": "stderr",
     "output_type": "stream",
     "text": [
      "\n"
     ]
    },
    {
     "name": "stdout",
     "output_type": "stream",
     "text": [
      "\u001b[32m[0503 11:16:42 @monitor.py:467]\u001b[0m GAN_loss/discrim/accuracy_real: 0.075\n",
      "\u001b[32m[0503 11:16:42 @monitor.py:467]\u001b[0m GAN_loss/discrim/loss: 0.64522\n",
      "\u001b[32m[0503 11:16:42 @monitor.py:467]\u001b[0m GAN_loss/gen/final-g-loss: 1.0422\n",
      "\u001b[32m[0503 11:16:42 @monitor.py:467]\u001b[0m GAN_loss/gen/klloss: 0.10832\n",
      "\u001b[32m[0503 11:16:42 @monitor.py:467]\u001b[0m GAN_loss/gen/loss: 0.93387\n",
      "\u001b[32m[0503 11:16:42 @monitor.py:467]\u001b[0m QueueInput/queue_size: 50\n",
      "\u001b[32m[0503 11:16:42 @base.py:275]\u001b[0m Start Epoch 901 ...\n"
     ]
    },
    {
     "name": "stderr",
     "output_type": "stream",
     "text": [
      "100%|#################################################################################|2000/2000[00:31<00:00,62.99it/s]"
     ]
    },
    {
     "name": "stdout",
     "output_type": "stream",
     "text": [
      "\u001b[32m[0503 11:17:14 @base.py:285]\u001b[0m Epoch 901 (global_step 1802000) finished, time:31.8 seconds.\n",
      "\u001b[32m[0503 11:17:14 @saver.py:79]\u001b[0m Model saved to ../output/DATGAN_PRELSTM_small/model\\model-1802000.\n",
      "\u001b[32m[0503 11:17:14 @monitor.py:467]\u001b[0m GAN_loss/discrim/accuracy_fake: 0.97\n"
     ]
    },
    {
     "name": "stderr",
     "output_type": "stream",
     "text": [
      "\n"
     ]
    },
    {
     "name": "stdout",
     "output_type": "stream",
     "text": [
      "\u001b[32m[0503 11:17:14 @monitor.py:467]\u001b[0m GAN_loss/discrim/accuracy_real: 0.08\n",
      "\u001b[32m[0503 11:17:14 @monitor.py:467]\u001b[0m GAN_loss/discrim/loss: 0.64082\n",
      "\u001b[32m[0503 11:17:14 @monitor.py:467]\u001b[0m GAN_loss/gen/final-g-loss: 1.0378\n",
      "\u001b[32m[0503 11:17:14 @monitor.py:467]\u001b[0m GAN_loss/gen/klloss: 0.087787\n",
      "\u001b[32m[0503 11:17:14 @monitor.py:467]\u001b[0m GAN_loss/gen/loss: 0.95001\n",
      "\u001b[32m[0503 11:17:14 @monitor.py:467]\u001b[0m QueueInput/queue_size: 50\n",
      "\u001b[32m[0503 11:17:14 @base.py:275]\u001b[0m Start Epoch 902 ...\n"
     ]
    },
    {
     "name": "stderr",
     "output_type": "stream",
     "text": [
      "100%|#################################################################################|2000/2000[00:31<00:00,63.05it/s]"
     ]
    },
    {
     "name": "stdout",
     "output_type": "stream",
     "text": [
      "\u001b[32m[0503 11:17:46 @base.py:285]\u001b[0m Epoch 902 (global_step 1804000) finished, time:31.7 seconds.\n",
      "\u001b[32m[0503 11:17:46 @saver.py:79]\u001b[0m Model saved to ../output/DATGAN_PRELSTM_small/model\\model-1804000.\n",
      "\u001b[32m[0503 11:17:46 @monitor.py:467]\u001b[0m GAN_loss/discrim/accuracy_fake: 0.955\n"
     ]
    },
    {
     "name": "stderr",
     "output_type": "stream",
     "text": [
      "\n"
     ]
    },
    {
     "name": "stdout",
     "output_type": "stream",
     "text": [
      "\u001b[32m[0503 11:17:46 @monitor.py:467]\u001b[0m GAN_loss/discrim/accuracy_real: 0.125\n",
      "\u001b[32m[0503 11:17:46 @monitor.py:467]\u001b[0m GAN_loss/discrim/loss: 0.64079\n",
      "\u001b[32m[0503 11:17:46 @monitor.py:467]\u001b[0m GAN_loss/gen/final-g-loss: 1.0617\n",
      "\u001b[32m[0503 11:17:46 @monitor.py:467]\u001b[0m GAN_loss/gen/klloss: 0.11964\n",
      "\u001b[32m[0503 11:17:46 @monitor.py:467]\u001b[0m GAN_loss/gen/loss: 0.94207\n",
      "\u001b[32m[0503 11:17:46 @monitor.py:467]\u001b[0m QueueInput/queue_size: 50\n",
      "\u001b[32m[0503 11:17:46 @base.py:275]\u001b[0m Start Epoch 903 ...\n"
     ]
    },
    {
     "name": "stderr",
     "output_type": "stream",
     "text": [
      "100%|#################################################################################|2000/2000[00:31<00:00,63.03it/s]"
     ]
    },
    {
     "name": "stdout",
     "output_type": "stream",
     "text": [
      "\u001b[32m[0503 11:18:18 @base.py:285]\u001b[0m Epoch 903 (global_step 1806000) finished, time:31.7 seconds.\n",
      "\u001b[32m[0503 11:18:18 @saver.py:79]\u001b[0m Model saved to ../output/DATGAN_PRELSTM_small/model\\model-1806000.\n",
      "\u001b[32m[0503 11:18:18 @monitor.py:467]\u001b[0m GAN_loss/discrim/accuracy_fake: 0.95\n"
     ]
    },
    {
     "name": "stderr",
     "output_type": "stream",
     "text": [
      "\n"
     ]
    },
    {
     "name": "stdout",
     "output_type": "stream",
     "text": [
      "\u001b[32m[0503 11:18:18 @monitor.py:467]\u001b[0m GAN_loss/discrim/accuracy_real: 0.08\n",
      "\u001b[32m[0503 11:18:18 @monitor.py:467]\u001b[0m GAN_loss/discrim/loss: 0.65446\n",
      "\u001b[32m[0503 11:18:18 @monitor.py:467]\u001b[0m GAN_loss/gen/final-g-loss: 1.0336\n",
      "\u001b[32m[0503 11:18:18 @monitor.py:467]\u001b[0m GAN_loss/gen/klloss: 0.10601\n",
      "\u001b[32m[0503 11:18:18 @monitor.py:467]\u001b[0m GAN_loss/gen/loss: 0.92758\n",
      "\u001b[32m[0503 11:18:18 @monitor.py:467]\u001b[0m QueueInput/queue_size: 50\n",
      "\u001b[32m[0503 11:18:18 @base.py:275]\u001b[0m Start Epoch 904 ...\n"
     ]
    },
    {
     "name": "stderr",
     "output_type": "stream",
     "text": [
      "100%|#################################################################################|2000/2000[00:31<00:00,62.90it/s]"
     ]
    },
    {
     "name": "stdout",
     "output_type": "stream",
     "text": [
      "\u001b[32m[0503 11:18:50 @base.py:285]\u001b[0m Epoch 904 (global_step 1808000) finished, time:31.8 seconds.\n",
      "\u001b[32m[0503 11:18:50 @saver.py:79]\u001b[0m Model saved to ../output/DATGAN_PRELSTM_small/model\\model-1808000.\n"
     ]
    },
    {
     "name": "stderr",
     "output_type": "stream",
     "text": [
      "\n"
     ]
    },
    {
     "name": "stdout",
     "output_type": "stream",
     "text": [
      "\u001b[32m[0503 11:18:50 @monitor.py:467]\u001b[0m GAN_loss/discrim/accuracy_fake: 0.95\n",
      "\u001b[32m[0503 11:18:50 @monitor.py:467]\u001b[0m GAN_loss/discrim/accuracy_real: 0.095\n",
      "\u001b[32m[0503 11:18:50 @monitor.py:467]\u001b[0m GAN_loss/discrim/loss: 0.65017\n",
      "\u001b[32m[0503 11:18:50 @monitor.py:467]\u001b[0m GAN_loss/gen/final-g-loss: 1.028\n",
      "\u001b[32m[0503 11:18:50 @monitor.py:467]\u001b[0m GAN_loss/gen/klloss: 0.092974\n",
      "\u001b[32m[0503 11:18:50 @monitor.py:467]\u001b[0m GAN_loss/gen/loss: 0.93503\n",
      "\u001b[32m[0503 11:18:50 @monitor.py:467]\u001b[0m QueueInput/queue_size: 50\n",
      "\u001b[32m[0503 11:18:50 @base.py:275]\u001b[0m Start Epoch 905 ...\n"
     ]
    },
    {
     "name": "stderr",
     "output_type": "stream",
     "text": [
      "100%|#################################################################################|2000/2000[00:31<00:00,63.05it/s]"
     ]
    },
    {
     "name": "stdout",
     "output_type": "stream",
     "text": [
      "\u001b[32m[0503 11:19:22 @base.py:285]\u001b[0m Epoch 905 (global_step 1810000) finished, time:31.7 seconds.\n",
      "\u001b[32m[0503 11:19:22 @saver.py:79]\u001b[0m Model saved to ../output/DATGAN_PRELSTM_small/model\\model-1810000.\n",
      "\u001b[32m[0503 11:19:22 @monitor.py:467]\u001b[0m GAN_loss/discrim/accuracy_fake: 0.97\n"
     ]
    },
    {
     "name": "stderr",
     "output_type": "stream",
     "text": [
      "\n"
     ]
    },
    {
     "name": "stdout",
     "output_type": "stream",
     "text": [
      "\u001b[32m[0503 11:19:22 @monitor.py:467]\u001b[0m GAN_loss/discrim/accuracy_real: 0.07\n",
      "\u001b[32m[0503 11:19:22 @monitor.py:467]\u001b[0m GAN_loss/discrim/loss: 0.64805\n",
      "\u001b[32m[0503 11:19:22 @monitor.py:467]\u001b[0m GAN_loss/gen/final-g-loss: 1.0976\n",
      "\u001b[32m[0503 11:19:22 @monitor.py:467]\u001b[0m GAN_loss/gen/klloss: 0.15997\n",
      "\u001b[32m[0503 11:19:22 @monitor.py:467]\u001b[0m GAN_loss/gen/loss: 0.93761\n",
      "\u001b[32m[0503 11:19:22 @monitor.py:467]\u001b[0m QueueInput/queue_size: 50\n",
      "\u001b[32m[0503 11:19:22 @base.py:275]\u001b[0m Start Epoch 906 ...\n"
     ]
    },
    {
     "name": "stderr",
     "output_type": "stream",
     "text": [
      "100%|#################################################################################|2000/2000[00:31<00:00,63.06it/s]"
     ]
    },
    {
     "name": "stdout",
     "output_type": "stream",
     "text": [
      "\u001b[32m[0503 11:19:54 @base.py:285]\u001b[0m Epoch 906 (global_step 1812000) finished, time:31.7 seconds.\n",
      "\u001b[32m[0503 11:19:54 @saver.py:79]\u001b[0m Model saved to ../output/DATGAN_PRELSTM_small/model\\model-1812000.\n",
      "\u001b[32m[0503 11:19:54 @monitor.py:467]\u001b[0m GAN_loss/discrim/accuracy_fake: 0.965\n"
     ]
    },
    {
     "name": "stderr",
     "output_type": "stream",
     "text": [
      "\n"
     ]
    },
    {
     "name": "stdout",
     "output_type": "stream",
     "text": [
      "\u001b[32m[0503 11:19:54 @monitor.py:467]\u001b[0m GAN_loss/discrim/accuracy_real: 0.05\n",
      "\u001b[32m[0503 11:19:54 @monitor.py:467]\u001b[0m GAN_loss/discrim/loss: 0.64113\n",
      "\u001b[32m[0503 11:19:54 @monitor.py:467]\u001b[0m GAN_loss/gen/final-g-loss: 1.056\n",
      "\u001b[32m[0503 11:19:54 @monitor.py:467]\u001b[0m GAN_loss/gen/klloss: 0.097557\n",
      "\u001b[32m[0503 11:19:54 @monitor.py:467]\u001b[0m GAN_loss/gen/loss: 0.95848\n",
      "\u001b[32m[0503 11:19:54 @monitor.py:467]\u001b[0m QueueInput/queue_size: 50\n",
      "\u001b[32m[0503 11:19:54 @base.py:275]\u001b[0m Start Epoch 907 ...\n"
     ]
    },
    {
     "name": "stderr",
     "output_type": "stream",
     "text": [
      "100%|#################################################################################|2000/2000[00:31<00:00,63.06it/s]"
     ]
    },
    {
     "name": "stdout",
     "output_type": "stream",
     "text": [
      "\u001b[32m[0503 11:20:25 @base.py:285]\u001b[0m Epoch 907 (global_step 1814000) finished, time:31.7 seconds.\n",
      "\u001b[32m[0503 11:20:25 @saver.py:79]\u001b[0m Model saved to ../output/DATGAN_PRELSTM_small/model\\model-1814000.\n",
      "\u001b[32m[0503 11:20:26 @monitor.py:467]\u001b[0m GAN_loss/discrim/accuracy_fake: 0.94\n"
     ]
    },
    {
     "name": "stderr",
     "output_type": "stream",
     "text": [
      "\n"
     ]
    },
    {
     "name": "stdout",
     "output_type": "stream",
     "text": [
      "\u001b[32m[0503 11:20:26 @monitor.py:467]\u001b[0m GAN_loss/discrim/accuracy_real: 0.1\n",
      "\u001b[32m[0503 11:20:26 @monitor.py:467]\u001b[0m GAN_loss/discrim/loss: 0.64446\n",
      "\u001b[32m[0503 11:20:26 @monitor.py:467]\u001b[0m GAN_loss/gen/final-g-loss: 1.0292\n",
      "\u001b[32m[0503 11:20:26 @monitor.py:467]\u001b[0m GAN_loss/gen/klloss: 0.092341\n",
      "\u001b[32m[0503 11:20:26 @monitor.py:467]\u001b[0m GAN_loss/gen/loss: 0.93686\n",
      "\u001b[32m[0503 11:20:26 @monitor.py:467]\u001b[0m QueueInput/queue_size: 50\n",
      "\u001b[32m[0503 11:20:26 @base.py:275]\u001b[0m Start Epoch 908 ...\n"
     ]
    },
    {
     "name": "stderr",
     "output_type": "stream",
     "text": [
      "100%|#################################################################################|2000/2000[00:31<00:00,63.11it/s]"
     ]
    },
    {
     "name": "stdout",
     "output_type": "stream",
     "text": [
      "\u001b[32m[0503 11:20:57 @base.py:285]\u001b[0m Epoch 908 (global_step 1816000) finished, time:31.7 seconds.\n",
      "\u001b[32m[0503 11:20:57 @saver.py:79]\u001b[0m Model saved to ../output/DATGAN_PRELSTM_small/model\\model-1816000.\n",
      "\u001b[32m[0503 11:20:58 @monitor.py:467]\u001b[0m GAN_loss/discrim/accuracy_fake: 0.955\n"
     ]
    },
    {
     "name": "stderr",
     "output_type": "stream",
     "text": [
      "\n"
     ]
    },
    {
     "name": "stdout",
     "output_type": "stream",
     "text": [
      "\u001b[32m[0503 11:20:58 @monitor.py:467]\u001b[0m GAN_loss/discrim/accuracy_real: 0.1\n",
      "\u001b[32m[0503 11:20:58 @monitor.py:467]\u001b[0m GAN_loss/discrim/loss: 0.64945\n",
      "\u001b[32m[0503 11:20:58 @monitor.py:467]\u001b[0m GAN_loss/gen/final-g-loss: 1.043\n",
      "\u001b[32m[0503 11:20:58 @monitor.py:467]\u001b[0m GAN_loss/gen/klloss: 0.11215\n",
      "\u001b[32m[0503 11:20:58 @monitor.py:467]\u001b[0m GAN_loss/gen/loss: 0.93089\n",
      "\u001b[32m[0503 11:20:58 @monitor.py:467]\u001b[0m QueueInput/queue_size: 50\n",
      "\u001b[32m[0503 11:20:58 @base.py:275]\u001b[0m Start Epoch 909 ...\n"
     ]
    },
    {
     "name": "stderr",
     "output_type": "stream",
     "text": [
      "100%|#################################################################################|2000/2000[00:31<00:00,63.12it/s]"
     ]
    },
    {
     "name": "stdout",
     "output_type": "stream",
     "text": [
      "\u001b[32m[0503 11:21:29 @base.py:285]\u001b[0m Epoch 909 (global_step 1818000) finished, time:31.7 seconds.\n",
      "\u001b[32m[0503 11:21:29 @saver.py:79]\u001b[0m Model saved to ../output/DATGAN_PRELSTM_small/model\\model-1818000.\n"
     ]
    },
    {
     "name": "stderr",
     "output_type": "stream",
     "text": [
      "\n"
     ]
    },
    {
     "name": "stdout",
     "output_type": "stream",
     "text": [
      "\u001b[32m[0503 11:21:29 @monitor.py:467]\u001b[0m GAN_loss/discrim/accuracy_fake: 0.955\n",
      "\u001b[32m[0503 11:21:29 @monitor.py:467]\u001b[0m GAN_loss/discrim/accuracy_real: 0.075\n",
      "\u001b[32m[0503 11:21:29 @monitor.py:467]\u001b[0m GAN_loss/discrim/loss: 0.64726\n",
      "\u001b[32m[0503 11:21:29 @monitor.py:467]\u001b[0m GAN_loss/gen/final-g-loss: 1.0871\n",
      "\u001b[32m[0503 11:21:29 @monitor.py:467]\u001b[0m GAN_loss/gen/klloss: 0.14581\n",
      "\u001b[32m[0503 11:21:29 @monitor.py:467]\u001b[0m GAN_loss/gen/loss: 0.94128\n",
      "\u001b[32m[0503 11:21:29 @monitor.py:467]\u001b[0m QueueInput/queue_size: 50\n",
      "\u001b[32m[0503 11:21:29 @base.py:275]\u001b[0m Start Epoch 910 ...\n"
     ]
    },
    {
     "name": "stderr",
     "output_type": "stream",
     "text": [
      "100%|#################################################################################|2000/2000[00:31<00:00,63.10it/s]"
     ]
    },
    {
     "name": "stdout",
     "output_type": "stream",
     "text": [
      "\u001b[32m[0503 11:22:01 @base.py:285]\u001b[0m Epoch 910 (global_step 1820000) finished, time:31.7 seconds.\n",
      "\u001b[32m[0503 11:22:01 @saver.py:79]\u001b[0m Model saved to ../output/DATGAN_PRELSTM_small/model\\model-1820000.\n",
      "\u001b[32m[0503 11:22:01 @monitor.py:467]\u001b[0m GAN_loss/discrim/accuracy_fake: 0.94\n"
     ]
    },
    {
     "name": "stderr",
     "output_type": "stream",
     "text": [
      "\n"
     ]
    },
    {
     "name": "stdout",
     "output_type": "stream",
     "text": [
      "\u001b[32m[0503 11:22:01 @monitor.py:467]\u001b[0m GAN_loss/discrim/accuracy_real: 0.105\n",
      "\u001b[32m[0503 11:22:01 @monitor.py:467]\u001b[0m GAN_loss/discrim/loss: 0.64505\n",
      "\u001b[32m[0503 11:22:01 @monitor.py:467]\u001b[0m GAN_loss/gen/final-g-loss: 1.1035\n",
      "\u001b[32m[0503 11:22:01 @monitor.py:467]\u001b[0m GAN_loss/gen/klloss: 0.16364\n",
      "\u001b[32m[0503 11:22:01 @monitor.py:467]\u001b[0m GAN_loss/gen/loss: 0.93986\n",
      "\u001b[32m[0503 11:22:01 @monitor.py:467]\u001b[0m QueueInput/queue_size: 50\n",
      "\u001b[32m[0503 11:22:01 @base.py:275]\u001b[0m Start Epoch 911 ...\n"
     ]
    },
    {
     "name": "stderr",
     "output_type": "stream",
     "text": [
      "100%|#################################################################################|2000/2000[00:31<00:00,62.82it/s]"
     ]
    },
    {
     "name": "stdout",
     "output_type": "stream",
     "text": [
      "\u001b[32m[0503 11:22:33 @base.py:285]\u001b[0m Epoch 911 (global_step 1822000) finished, time:31.8 seconds.\n",
      "\u001b[32m[0503 11:22:33 @saver.py:79]\u001b[0m Model saved to ../output/DATGAN_PRELSTM_small/model\\model-1822000.\n",
      "\u001b[32m[0503 11:22:33 @monitor.py:467]\u001b[0m GAN_loss/discrim/accuracy_fake: 0.935\n"
     ]
    },
    {
     "name": "stderr",
     "output_type": "stream",
     "text": [
      "\n"
     ]
    },
    {
     "name": "stdout",
     "output_type": "stream",
     "text": [
      "\u001b[32m[0503 11:22:33 @monitor.py:467]\u001b[0m GAN_loss/discrim/accuracy_real: 0.095\n",
      "\u001b[32m[0503 11:22:33 @monitor.py:467]\u001b[0m GAN_loss/discrim/loss: 0.64497\n",
      "\u001b[32m[0503 11:22:33 @monitor.py:467]\u001b[0m GAN_loss/gen/final-g-loss: 1.005\n",
      "\u001b[32m[0503 11:22:33 @monitor.py:467]\u001b[0m GAN_loss/gen/klloss: 0.076213\n",
      "\u001b[32m[0503 11:22:33 @monitor.py:467]\u001b[0m GAN_loss/gen/loss: 0.9288\n",
      "\u001b[32m[0503 11:22:33 @monitor.py:467]\u001b[0m QueueInput/queue_size: 50\n",
      "\u001b[32m[0503 11:22:33 @base.py:275]\u001b[0m Start Epoch 912 ...\n"
     ]
    },
    {
     "name": "stderr",
     "output_type": "stream",
     "text": [
      "100%|#################################################################################|2000/2000[00:31<00:00,63.11it/s]"
     ]
    },
    {
     "name": "stdout",
     "output_type": "stream",
     "text": [
      "\u001b[32m[0503 11:23:05 @base.py:285]\u001b[0m Epoch 912 (global_step 1824000) finished, time:31.7 seconds.\n",
      "\u001b[32m[0503 11:23:05 @saver.py:79]\u001b[0m Model saved to ../output/DATGAN_PRELSTM_small/model\\model-1824000.\n",
      "\u001b[32m[0503 11:23:05 @monitor.py:467]\u001b[0m GAN_loss/discrim/accuracy_fake: 0.96\n"
     ]
    },
    {
     "name": "stderr",
     "output_type": "stream",
     "text": [
      "\n"
     ]
    },
    {
     "name": "stdout",
     "output_type": "stream",
     "text": [
      "\u001b[32m[0503 11:23:05 @monitor.py:467]\u001b[0m GAN_loss/discrim/accuracy_real: 0.085\n",
      "\u001b[32m[0503 11:23:05 @monitor.py:467]\u001b[0m GAN_loss/discrim/loss: 0.64554\n",
      "\u001b[32m[0503 11:23:05 @monitor.py:467]\u001b[0m GAN_loss/gen/final-g-loss: 1.0963\n",
      "\u001b[32m[0503 11:23:05 @monitor.py:467]\u001b[0m GAN_loss/gen/klloss: 0.14431\n",
      "\u001b[32m[0503 11:23:05 @monitor.py:467]\u001b[0m GAN_loss/gen/loss: 0.95201\n",
      "\u001b[32m[0503 11:23:05 @monitor.py:467]\u001b[0m QueueInput/queue_size: 50\n",
      "\u001b[32m[0503 11:23:05 @base.py:275]\u001b[0m Start Epoch 913 ...\n"
     ]
    },
    {
     "name": "stderr",
     "output_type": "stream",
     "text": [
      "100%|#################################################################################|2000/2000[00:31<00:00,62.96it/s]"
     ]
    },
    {
     "name": "stdout",
     "output_type": "stream",
     "text": [
      "\u001b[32m[0503 11:23:37 @base.py:285]\u001b[0m Epoch 913 (global_step 1826000) finished, time:31.8 seconds.\n",
      "\u001b[32m[0503 11:23:37 @saver.py:79]\u001b[0m Model saved to ../output/DATGAN_PRELSTM_small/model\\model-1826000.\n"
     ]
    },
    {
     "name": "stderr",
     "output_type": "stream",
     "text": [
      "\n"
     ]
    },
    {
     "name": "stdout",
     "output_type": "stream",
     "text": [
      "\u001b[32m[0503 11:23:37 @monitor.py:467]\u001b[0m GAN_loss/discrim/accuracy_fake: 0.97\n",
      "\u001b[32m[0503 11:23:37 @monitor.py:467]\u001b[0m GAN_loss/discrim/accuracy_real: 0.08\n",
      "\u001b[32m[0503 11:23:37 @monitor.py:467]\u001b[0m GAN_loss/discrim/loss: 0.64398\n",
      "\u001b[32m[0503 11:23:37 @monitor.py:467]\u001b[0m GAN_loss/gen/final-g-loss: 1.0193\n",
      "\u001b[32m[0503 11:23:37 @monitor.py:467]\u001b[0m GAN_loss/gen/klloss: 0.073364\n",
      "\u001b[32m[0503 11:23:37 @monitor.py:467]\u001b[0m GAN_loss/gen/loss: 0.94597\n",
      "\u001b[32m[0503 11:23:37 @monitor.py:467]\u001b[0m QueueInput/queue_size: 50\n",
      "\u001b[32m[0503 11:23:37 @base.py:275]\u001b[0m Start Epoch 914 ...\n"
     ]
    },
    {
     "name": "stderr",
     "output_type": "stream",
     "text": [
      "100%|#################################################################################|2000/2000[00:31<00:00,63.08it/s]"
     ]
    },
    {
     "name": "stdout",
     "output_type": "stream",
     "text": [
      "\u001b[32m[0503 11:24:09 @base.py:285]\u001b[0m Epoch 914 (global_step 1828000) finished, time:31.7 seconds.\n",
      "\u001b[32m[0503 11:24:09 @saver.py:79]\u001b[0m Model saved to ../output/DATGAN_PRELSTM_small/model\\model-1828000.\n"
     ]
    },
    {
     "name": "stderr",
     "output_type": "stream",
     "text": [
      "\n"
     ]
    },
    {
     "name": "stdout",
     "output_type": "stream",
     "text": [
      "\u001b[32m[0503 11:24:09 @monitor.py:467]\u001b[0m GAN_loss/discrim/accuracy_fake: 0.96\n",
      "\u001b[32m[0503 11:24:09 @monitor.py:467]\u001b[0m GAN_loss/discrim/accuracy_real: 0.1\n",
      "\u001b[32m[0503 11:24:09 @monitor.py:467]\u001b[0m GAN_loss/discrim/loss: 0.64097\n",
      "\u001b[32m[0503 11:24:09 @monitor.py:467]\u001b[0m GAN_loss/gen/final-g-loss: 1.0067\n",
      "\u001b[32m[0503 11:24:09 @monitor.py:467]\u001b[0m GAN_loss/gen/klloss: 0.070482\n",
      "\u001b[32m[0503 11:24:09 @monitor.py:467]\u001b[0m GAN_loss/gen/loss: 0.93617\n",
      "\u001b[32m[0503 11:24:09 @monitor.py:467]\u001b[0m QueueInput/queue_size: 50\n",
      "\u001b[32m[0503 11:24:09 @base.py:275]\u001b[0m Start Epoch 915 ...\n"
     ]
    },
    {
     "name": "stderr",
     "output_type": "stream",
     "text": [
      "100%|#################################################################################|2000/2000[00:31<00:00,63.20it/s]"
     ]
    },
    {
     "name": "stdout",
     "output_type": "stream",
     "text": [
      "\u001b[32m[0503 11:24:41 @base.py:285]\u001b[0m Epoch 915 (global_step 1830000) finished, time:31.6 seconds.\n",
      "\u001b[32m[0503 11:24:41 @saver.py:79]\u001b[0m Model saved to ../output/DATGAN_PRELSTM_small/model\\model-1830000.\n",
      "\u001b[32m[0503 11:24:41 @monitor.py:467]\u001b[0m GAN_loss/discrim/accuracy_fake: 0.98\n"
     ]
    },
    {
     "name": "stderr",
     "output_type": "stream",
     "text": [
      "\n"
     ]
    },
    {
     "name": "stdout",
     "output_type": "stream",
     "text": [
      "\u001b[32m[0503 11:24:41 @monitor.py:467]\u001b[0m GAN_loss/discrim/accuracy_real: 0.115\n",
      "\u001b[32m[0503 11:24:41 @monitor.py:467]\u001b[0m GAN_loss/discrim/loss: 0.64375\n",
      "\u001b[32m[0503 11:24:41 @monitor.py:467]\u001b[0m GAN_loss/gen/final-g-loss: 1.054\n",
      "\u001b[32m[0503 11:24:41 @monitor.py:467]\u001b[0m GAN_loss/gen/klloss: 0.11537\n",
      "\u001b[32m[0503 11:24:41 @monitor.py:467]\u001b[0m GAN_loss/gen/loss: 0.93861\n",
      "\u001b[32m[0503 11:24:41 @monitor.py:467]\u001b[0m QueueInput/queue_size: 50\n",
      "\u001b[32m[0503 11:24:41 @base.py:275]\u001b[0m Start Epoch 916 ...\n"
     ]
    },
    {
     "name": "stderr",
     "output_type": "stream",
     "text": [
      "100%|#################################################################################|2000/2000[00:31<00:00,63.11it/s]"
     ]
    },
    {
     "name": "stdout",
     "output_type": "stream",
     "text": [
      "\u001b[32m[0503 11:25:13 @base.py:285]\u001b[0m Epoch 916 (global_step 1832000) finished, time:31.7 seconds.\n",
      "\u001b[32m[0503 11:25:13 @saver.py:79]\u001b[0m Model saved to ../output/DATGAN_PRELSTM_small/model\\model-1832000.\n",
      "\u001b[32m[0503 11:25:13 @monitor.py:467]\u001b[0m GAN_loss/discrim/accuracy_fake: 0.935\n"
     ]
    },
    {
     "name": "stderr",
     "output_type": "stream",
     "text": [
      "\n"
     ]
    },
    {
     "name": "stdout",
     "output_type": "stream",
     "text": [
      "\u001b[32m[0503 11:25:13 @monitor.py:467]\u001b[0m GAN_loss/discrim/accuracy_real: 0.085\n",
      "\u001b[32m[0503 11:25:13 @monitor.py:467]\u001b[0m GAN_loss/discrim/loss: 0.65074\n",
      "\u001b[32m[0503 11:25:13 @monitor.py:467]\u001b[0m GAN_loss/gen/final-g-loss: 1.0906\n",
      "\u001b[32m[0503 11:25:13 @monitor.py:467]\u001b[0m GAN_loss/gen/klloss: 0.15522\n",
      "\u001b[32m[0503 11:25:13 @monitor.py:467]\u001b[0m GAN_loss/gen/loss: 0.9354\n",
      "\u001b[32m[0503 11:25:13 @monitor.py:467]\u001b[0m QueueInput/queue_size: 50\n",
      "\u001b[32m[0503 11:25:13 @base.py:275]\u001b[0m Start Epoch 917 ...\n"
     ]
    },
    {
     "name": "stderr",
     "output_type": "stream",
     "text": [
      "100%|#################################################################################|2000/2000[00:31<00:00,63.05it/s]"
     ]
    },
    {
     "name": "stdout",
     "output_type": "stream",
     "text": [
      "\u001b[32m[0503 11:25:45 @base.py:285]\u001b[0m Epoch 917 (global_step 1834000) finished, time:31.7 seconds.\n",
      "\u001b[32m[0503 11:25:45 @saver.py:79]\u001b[0m Model saved to ../output/DATGAN_PRELSTM_small/model\\model-1834000.\n",
      "\u001b[32m[0503 11:25:45 @monitor.py:467]\u001b[0m GAN_loss/discrim/accuracy_fake: 0.96\n"
     ]
    },
    {
     "name": "stderr",
     "output_type": "stream",
     "text": [
      "\n"
     ]
    },
    {
     "name": "stdout",
     "output_type": "stream",
     "text": [
      "\u001b[32m[0503 11:25:45 @monitor.py:467]\u001b[0m GAN_loss/discrim/accuracy_real: 0.095\n",
      "\u001b[32m[0503 11:25:45 @monitor.py:467]\u001b[0m GAN_loss/discrim/loss: 0.63851\n",
      "\u001b[32m[0503 11:25:45 @monitor.py:467]\u001b[0m GAN_loss/gen/final-g-loss: 1.0367\n",
      "\u001b[32m[0503 11:25:45 @monitor.py:467]\u001b[0m GAN_loss/gen/klloss: 0.092967\n",
      "\u001b[32m[0503 11:25:45 @monitor.py:467]\u001b[0m GAN_loss/gen/loss: 0.9437\n",
      "\u001b[32m[0503 11:25:45 @monitor.py:467]\u001b[0m QueueInput/queue_size: 50\n",
      "\u001b[32m[0503 11:25:45 @base.py:275]\u001b[0m Start Epoch 918 ...\n"
     ]
    },
    {
     "name": "stderr",
     "output_type": "stream",
     "text": [
      "100%|#################################################################################|2000/2000[00:31<00:00,63.06it/s]"
     ]
    },
    {
     "name": "stdout",
     "output_type": "stream",
     "text": [
      "\u001b[32m[0503 11:26:16 @base.py:285]\u001b[0m Epoch 918 (global_step 1836000) finished, time:31.7 seconds.\n",
      "\u001b[32m[0503 11:26:17 @saver.py:79]\u001b[0m Model saved to ../output/DATGAN_PRELSTM_small/model\\model-1836000.\n"
     ]
    },
    {
     "name": "stderr",
     "output_type": "stream",
     "text": [
      "\n"
     ]
    },
    {
     "name": "stdout",
     "output_type": "stream",
     "text": [
      "\u001b[32m[0503 11:26:17 @monitor.py:467]\u001b[0m GAN_loss/discrim/accuracy_fake: 0.96\n",
      "\u001b[32m[0503 11:26:17 @monitor.py:467]\u001b[0m GAN_loss/discrim/accuracy_real: 0.095\n",
      "\u001b[32m[0503 11:26:17 @monitor.py:467]\u001b[0m GAN_loss/discrim/loss: 0.64525\n",
      "\u001b[32m[0503 11:26:17 @monitor.py:467]\u001b[0m GAN_loss/gen/final-g-loss: 1.0666\n",
      "\u001b[32m[0503 11:26:17 @monitor.py:467]\u001b[0m GAN_loss/gen/klloss: 0.10759\n",
      "\u001b[32m[0503 11:26:17 @monitor.py:467]\u001b[0m GAN_loss/gen/loss: 0.95899\n",
      "\u001b[32m[0503 11:26:17 @monitor.py:467]\u001b[0m QueueInput/queue_size: 50\n",
      "\u001b[32m[0503 11:26:17 @base.py:275]\u001b[0m Start Epoch 919 ...\n"
     ]
    },
    {
     "name": "stderr",
     "output_type": "stream",
     "text": [
      "100%|#################################################################################|2000/2000[00:31<00:00,63.08it/s]"
     ]
    },
    {
     "name": "stdout",
     "output_type": "stream",
     "text": [
      "\u001b[32m[0503 11:26:48 @base.py:285]\u001b[0m Epoch 919 (global_step 1838000) finished, time:31.7 seconds.\n",
      "\u001b[32m[0503 11:26:48 @saver.py:79]\u001b[0m Model saved to ../output/DATGAN_PRELSTM_small/model\\model-1838000.\n"
     ]
    },
    {
     "name": "stderr",
     "output_type": "stream",
     "text": [
      "\n"
     ]
    },
    {
     "name": "stdout",
     "output_type": "stream",
     "text": [
      "\u001b[32m[0503 11:26:49 @monitor.py:467]\u001b[0m GAN_loss/discrim/accuracy_fake: 0.945\n",
      "\u001b[32m[0503 11:26:49 @monitor.py:467]\u001b[0m GAN_loss/discrim/accuracy_real: 0.11\n",
      "\u001b[32m[0503 11:26:49 @monitor.py:467]\u001b[0m GAN_loss/discrim/loss: 0.64035\n",
      "\u001b[32m[0503 11:26:49 @monitor.py:467]\u001b[0m GAN_loss/gen/final-g-loss: 1.0503\n",
      "\u001b[32m[0503 11:26:49 @monitor.py:467]\u001b[0m GAN_loss/gen/klloss: 0.1173\n",
      "\u001b[32m[0503 11:26:49 @monitor.py:467]\u001b[0m GAN_loss/gen/loss: 0.93297\n",
      "\u001b[32m[0503 11:26:49 @monitor.py:467]\u001b[0m QueueInput/queue_size: 50\n",
      "\u001b[32m[0503 11:26:49 @base.py:275]\u001b[0m Start Epoch 920 ...\n"
     ]
    },
    {
     "name": "stderr",
     "output_type": "stream",
     "text": [
      "100%|#################################################################################|2000/2000[00:31<00:00,63.13it/s]"
     ]
    },
    {
     "name": "stdout",
     "output_type": "stream",
     "text": [
      "\u001b[32m[0503 11:27:20 @base.py:285]\u001b[0m Epoch 920 (global_step 1840000) finished, time:31.7 seconds.\n",
      "\u001b[32m[0503 11:27:20 @saver.py:79]\u001b[0m Model saved to ../output/DATGAN_PRELSTM_small/model\\model-1840000.\n",
      "\u001b[32m[0503 11:27:20 @monitor.py:467]\u001b[0m GAN_loss/discrim/accuracy_fake: 0.96\n"
     ]
    },
    {
     "name": "stderr",
     "output_type": "stream",
     "text": [
      "\n"
     ]
    },
    {
     "name": "stdout",
     "output_type": "stream",
     "text": [
      "\u001b[32m[0503 11:27:20 @monitor.py:467]\u001b[0m GAN_loss/discrim/accuracy_real: 0.09\n",
      "\u001b[32m[0503 11:27:20 @monitor.py:467]\u001b[0m GAN_loss/discrim/loss: 0.65291\n",
      "\u001b[32m[0503 11:27:20 @monitor.py:467]\u001b[0m GAN_loss/gen/final-g-loss: 1.0132\n",
      "\u001b[32m[0503 11:27:20 @monitor.py:467]\u001b[0m GAN_loss/gen/klloss: 0.069799\n",
      "\u001b[32m[0503 11:27:20 @monitor.py:467]\u001b[0m GAN_loss/gen/loss: 0.94339\n",
      "\u001b[32m[0503 11:27:20 @monitor.py:467]\u001b[0m QueueInput/queue_size: 50\n",
      "\u001b[32m[0503 11:27:20 @base.py:275]\u001b[0m Start Epoch 921 ...\n"
     ]
    },
    {
     "name": "stderr",
     "output_type": "stream",
     "text": [
      "100%|#################################################################################|2000/2000[00:31<00:00,63.04it/s]"
     ]
    },
    {
     "name": "stdout",
     "output_type": "stream",
     "text": [
      "\u001b[32m[0503 11:27:52 @base.py:285]\u001b[0m Epoch 921 (global_step 1842000) finished, time:31.7 seconds.\n",
      "\u001b[32m[0503 11:27:52 @saver.py:79]\u001b[0m Model saved to ../output/DATGAN_PRELSTM_small/model\\model-1842000.\n",
      "\u001b[32m[0503 11:27:52 @monitor.py:467]\u001b[0m GAN_loss/discrim/accuracy_fake: 0.95\n"
     ]
    },
    {
     "name": "stderr",
     "output_type": "stream",
     "text": [
      "\n"
     ]
    },
    {
     "name": "stdout",
     "output_type": "stream",
     "text": [
      "\u001b[32m[0503 11:27:52 @monitor.py:467]\u001b[0m GAN_loss/discrim/accuracy_real: 0.115\n",
      "\u001b[32m[0503 11:27:52 @monitor.py:467]\u001b[0m GAN_loss/discrim/loss: 0.63648\n",
      "\u001b[32m[0503 11:27:52 @monitor.py:467]\u001b[0m GAN_loss/gen/final-g-loss: 1.0198\n",
      "\u001b[32m[0503 11:27:52 @monitor.py:467]\u001b[0m GAN_loss/gen/klloss: 0.073342\n",
      "\u001b[32m[0503 11:27:52 @monitor.py:467]\u001b[0m GAN_loss/gen/loss: 0.94648\n",
      "\u001b[32m[0503 11:27:52 @monitor.py:467]\u001b[0m QueueInput/queue_size: 50\n",
      "\u001b[32m[0503 11:27:52 @base.py:275]\u001b[0m Start Epoch 922 ...\n"
     ]
    },
    {
     "name": "stderr",
     "output_type": "stream",
     "text": [
      "100%|#################################################################################|2000/2000[00:31<00:00,63.07it/s]"
     ]
    },
    {
     "name": "stdout",
     "output_type": "stream",
     "text": [
      "\u001b[32m[0503 11:28:24 @base.py:285]\u001b[0m Epoch 922 (global_step 1844000) finished, time:31.7 seconds.\n",
      "\u001b[32m[0503 11:28:24 @saver.py:79]\u001b[0m Model saved to ../output/DATGAN_PRELSTM_small/model\\model-1844000.\n"
     ]
    },
    {
     "name": "stderr",
     "output_type": "stream",
     "text": [
      "\n"
     ]
    },
    {
     "name": "stdout",
     "output_type": "stream",
     "text": [
      "\u001b[32m[0503 11:28:24 @monitor.py:467]\u001b[0m GAN_loss/discrim/accuracy_fake: 0.955\n",
      "\u001b[32m[0503 11:28:24 @monitor.py:467]\u001b[0m GAN_loss/discrim/accuracy_real: 0.065\n",
      "\u001b[32m[0503 11:28:24 @monitor.py:467]\u001b[0m GAN_loss/discrim/loss: 0.65407\n",
      "\u001b[32m[0503 11:28:24 @monitor.py:467]\u001b[0m GAN_loss/gen/final-g-loss: 1.1264\n",
      "\u001b[32m[0503 11:28:24 @monitor.py:467]\u001b[0m GAN_loss/gen/klloss: 0.18738\n",
      "\u001b[32m[0503 11:28:24 @monitor.py:467]\u001b[0m GAN_loss/gen/loss: 0.93897\n",
      "\u001b[32m[0503 11:28:24 @monitor.py:467]\u001b[0m QueueInput/queue_size: 50\n",
      "\u001b[32m[0503 11:28:24 @base.py:275]\u001b[0m Start Epoch 923 ...\n"
     ]
    },
    {
     "name": "stderr",
     "output_type": "stream",
     "text": [
      "100%|#################################################################################|2000/2000[00:31<00:00,63.03it/s]"
     ]
    },
    {
     "name": "stdout",
     "output_type": "stream",
     "text": [
      "\u001b[32m[0503 11:28:56 @base.py:285]\u001b[0m Epoch 923 (global_step 1846000) finished, time:31.7 seconds.\n",
      "\u001b[32m[0503 11:28:56 @saver.py:79]\u001b[0m Model saved to ../output/DATGAN_PRELSTM_small/model\\model-1846000.\n"
     ]
    },
    {
     "name": "stderr",
     "output_type": "stream",
     "text": [
      "\n"
     ]
    },
    {
     "name": "stdout",
     "output_type": "stream",
     "text": [
      "\u001b[32m[0503 11:28:56 @monitor.py:467]\u001b[0m GAN_loss/discrim/accuracy_fake: 0.96\n",
      "\u001b[32m[0503 11:28:56 @monitor.py:467]\u001b[0m GAN_loss/discrim/accuracy_real: 0.115\n",
      "\u001b[32m[0503 11:28:56 @monitor.py:467]\u001b[0m GAN_loss/discrim/loss: 0.6371\n",
      "\u001b[32m[0503 11:28:56 @monitor.py:467]\u001b[0m GAN_loss/gen/final-g-loss: 1.0591\n",
      "\u001b[32m[0503 11:28:56 @monitor.py:467]\u001b[0m GAN_loss/gen/klloss: 0.10095\n",
      "\u001b[32m[0503 11:28:56 @monitor.py:467]\u001b[0m GAN_loss/gen/loss: 0.95816\n",
      "\u001b[32m[0503 11:28:56 @monitor.py:467]\u001b[0m QueueInput/queue_size: 50\n",
      "\u001b[32m[0503 11:28:56 @base.py:275]\u001b[0m Start Epoch 924 ...\n"
     ]
    },
    {
     "name": "stderr",
     "output_type": "stream",
     "text": [
      "100%|#################################################################################|2000/2000[00:31<00:00,63.02it/s]"
     ]
    },
    {
     "name": "stdout",
     "output_type": "stream",
     "text": [
      "\u001b[32m[0503 11:29:28 @base.py:285]\u001b[0m Epoch 924 (global_step 1848000) finished, time:31.7 seconds.\n",
      "\u001b[32m[0503 11:29:28 @saver.py:79]\u001b[0m Model saved to ../output/DATGAN_PRELSTM_small/model\\model-1848000.\n"
     ]
    },
    {
     "name": "stderr",
     "output_type": "stream",
     "text": [
      "\n"
     ]
    },
    {
     "name": "stdout",
     "output_type": "stream",
     "text": [
      "\u001b[32m[0503 11:29:28 @monitor.py:467]\u001b[0m GAN_loss/discrim/accuracy_fake: 0.955\n",
      "\u001b[32m[0503 11:29:28 @monitor.py:467]\u001b[0m GAN_loss/discrim/accuracy_real: 0.09\n",
      "\u001b[32m[0503 11:29:28 @monitor.py:467]\u001b[0m GAN_loss/discrim/loss: 0.64605\n",
      "\u001b[32m[0503 11:29:28 @monitor.py:467]\u001b[0m GAN_loss/gen/final-g-loss: 1.0186\n",
      "\u001b[32m[0503 11:29:28 @monitor.py:467]\u001b[0m GAN_loss/gen/klloss: 0.081393\n",
      "\u001b[32m[0503 11:29:28 @monitor.py:467]\u001b[0m GAN_loss/gen/loss: 0.93722\n",
      "\u001b[32m[0503 11:29:28 @monitor.py:467]\u001b[0m QueueInput/queue_size: 50\n",
      "\u001b[32m[0503 11:29:28 @base.py:275]\u001b[0m Start Epoch 925 ...\n"
     ]
    },
    {
     "name": "stderr",
     "output_type": "stream",
     "text": [
      "100%|#################################################################################|2000/2000[00:32<00:00,62.41it/s]"
     ]
    },
    {
     "name": "stdout",
     "output_type": "stream",
     "text": [
      "\u001b[32m[0503 11:30:00 @base.py:285]\u001b[0m Epoch 925 (global_step 1850000) finished, time:32 seconds.\n",
      "\u001b[32m[0503 11:30:00 @saver.py:79]\u001b[0m Model saved to ../output/DATGAN_PRELSTM_small/model\\model-1850000.\n"
     ]
    },
    {
     "name": "stderr",
     "output_type": "stream",
     "text": [
      "\n"
     ]
    },
    {
     "name": "stdout",
     "output_type": "stream",
     "text": [
      "\u001b[32m[0503 11:30:00 @monitor.py:467]\u001b[0m GAN_loss/discrim/accuracy_fake: 0.97\n",
      "\u001b[32m[0503 11:30:00 @monitor.py:467]\u001b[0m GAN_loss/discrim/accuracy_real: 0.075\n",
      "\u001b[32m[0503 11:30:00 @monitor.py:467]\u001b[0m GAN_loss/discrim/loss: 0.65458\n",
      "\u001b[32m[0503 11:30:00 @monitor.py:467]\u001b[0m GAN_loss/gen/final-g-loss: 1.0401\n",
      "\u001b[32m[0503 11:30:00 @monitor.py:467]\u001b[0m GAN_loss/gen/klloss: 0.1092\n",
      "\u001b[32m[0503 11:30:00 @monitor.py:467]\u001b[0m GAN_loss/gen/loss: 0.93092\n",
      "\u001b[32m[0503 11:30:00 @monitor.py:467]\u001b[0m QueueInput/queue_size: 50\n",
      "\u001b[32m[0503 11:30:00 @base.py:275]\u001b[0m Start Epoch 926 ...\n"
     ]
    },
    {
     "name": "stderr",
     "output_type": "stream",
     "text": [
      "100%|#################################################################################|2000/2000[00:33<00:00,59.07it/s]"
     ]
    },
    {
     "name": "stdout",
     "output_type": "stream",
     "text": [
      "\u001b[32m[0503 11:30:34 @base.py:285]\u001b[0m Epoch 926 (global_step 1852000) finished, time:33.9 seconds.\n",
      "\u001b[32m[0503 11:30:34 @saver.py:79]\u001b[0m Model saved to ../output/DATGAN_PRELSTM_small/model\\model-1852000.\n"
     ]
    },
    {
     "name": "stderr",
     "output_type": "stream",
     "text": [
      "\n"
     ]
    },
    {
     "name": "stdout",
     "output_type": "stream",
     "text": [
      "\u001b[32m[0503 11:30:35 @monitor.py:467]\u001b[0m GAN_loss/discrim/accuracy_fake: 0.95\n",
      "\u001b[32m[0503 11:30:35 @monitor.py:467]\u001b[0m GAN_loss/discrim/accuracy_real: 0.075\n",
      "\u001b[32m[0503 11:30:35 @monitor.py:467]\u001b[0m GAN_loss/discrim/loss: 0.6541\n",
      "\u001b[32m[0503 11:30:35 @monitor.py:467]\u001b[0m GAN_loss/gen/final-g-loss: 1.0353\n",
      "\u001b[32m[0503 11:30:35 @monitor.py:467]\u001b[0m GAN_loss/gen/klloss: 0.10519\n",
      "\u001b[32m[0503 11:30:35 @monitor.py:467]\u001b[0m GAN_loss/gen/loss: 0.93012\n",
      "\u001b[32m[0503 11:30:35 @monitor.py:467]\u001b[0m QueueInput/queue_size: 50\n",
      "\u001b[32m[0503 11:30:35 @base.py:275]\u001b[0m Start Epoch 927 ...\n"
     ]
    },
    {
     "name": "stderr",
     "output_type": "stream",
     "text": [
      "100%|#################################################################################|2000/2000[00:32<00:00,61.26it/s]"
     ]
    },
    {
     "name": "stdout",
     "output_type": "stream",
     "text": [
      "\u001b[32m[0503 11:31:07 @base.py:285]\u001b[0m Epoch 927 (global_step 1854000) finished, time:32.6 seconds.\n",
      "\u001b[32m[0503 11:31:07 @saver.py:79]\u001b[0m Model saved to ../output/DATGAN_PRELSTM_small/model\\model-1854000.\n"
     ]
    },
    {
     "name": "stderr",
     "output_type": "stream",
     "text": [
      "\n"
     ]
    },
    {
     "name": "stdout",
     "output_type": "stream",
     "text": [
      "\u001b[32m[0503 11:31:07 @monitor.py:467]\u001b[0m GAN_loss/discrim/accuracy_fake: 0.97\n",
      "\u001b[32m[0503 11:31:07 @monitor.py:467]\u001b[0m GAN_loss/discrim/accuracy_real: 0.06\n",
      "\u001b[32m[0503 11:31:07 @monitor.py:467]\u001b[0m GAN_loss/discrim/loss: 0.64122\n",
      "\u001b[32m[0503 11:31:07 @monitor.py:467]\u001b[0m GAN_loss/gen/final-g-loss: 1.0763\n",
      "\u001b[32m[0503 11:31:07 @monitor.py:467]\u001b[0m GAN_loss/gen/klloss: 0.12346\n",
      "\u001b[32m[0503 11:31:07 @monitor.py:467]\u001b[0m GAN_loss/gen/loss: 0.95288\n",
      "\u001b[32m[0503 11:31:07 @monitor.py:467]\u001b[0m QueueInput/queue_size: 50\n",
      "\u001b[32m[0503 11:31:07 @base.py:275]\u001b[0m Start Epoch 928 ...\n"
     ]
    },
    {
     "name": "stderr",
     "output_type": "stream",
     "text": [
      "100%|#################################################################################|2000/2000[00:32<00:00,61.16it/s]"
     ]
    },
    {
     "name": "stdout",
     "output_type": "stream",
     "text": [
      "\u001b[32m[0503 11:31:40 @base.py:285]\u001b[0m Epoch 928 (global_step 1856000) finished, time:32.7 seconds.\n",
      "\u001b[32m[0503 11:31:40 @saver.py:79]\u001b[0m Model saved to ../output/DATGAN_PRELSTM_small/model\\model-1856000.\n"
     ]
    },
    {
     "name": "stderr",
     "output_type": "stream",
     "text": [
      "\n"
     ]
    },
    {
     "name": "stdout",
     "output_type": "stream",
     "text": [
      "\u001b[32m[0503 11:31:40 @monitor.py:467]\u001b[0m GAN_loss/discrim/accuracy_fake: 0.95\n",
      "\u001b[32m[0503 11:31:40 @monitor.py:467]\u001b[0m GAN_loss/discrim/accuracy_real: 0.105\n",
      "\u001b[32m[0503 11:31:40 @monitor.py:467]\u001b[0m GAN_loss/discrim/loss: 0.63466\n",
      "\u001b[32m[0503 11:31:40 @monitor.py:467]\u001b[0m GAN_loss/gen/final-g-loss: 1.0255\n",
      "\u001b[32m[0503 11:31:40 @monitor.py:467]\u001b[0m GAN_loss/gen/klloss: 0.085631\n",
      "\u001b[32m[0503 11:31:40 @monitor.py:467]\u001b[0m GAN_loss/gen/loss: 0.93984\n",
      "\u001b[32m[0503 11:31:40 @monitor.py:467]\u001b[0m QueueInput/queue_size: 50\n",
      "\u001b[32m[0503 11:31:40 @base.py:275]\u001b[0m Start Epoch 929 ...\n"
     ]
    },
    {
     "name": "stderr",
     "output_type": "stream",
     "text": [
      "100%|#################################################################################|2000/2000[00:32<00:00,61.20it/s]"
     ]
    },
    {
     "name": "stdout",
     "output_type": "stream",
     "text": [
      "\u001b[32m[0503 11:32:13 @base.py:285]\u001b[0m Epoch 929 (global_step 1858000) finished, time:32.7 seconds.\n",
      "\u001b[32m[0503 11:32:13 @saver.py:79]\u001b[0m Model saved to ../output/DATGAN_PRELSTM_small/model\\model-1858000.\n"
     ]
    },
    {
     "name": "stderr",
     "output_type": "stream",
     "text": [
      "\n"
     ]
    },
    {
     "name": "stdout",
     "output_type": "stream",
     "text": [
      "\u001b[32m[0503 11:32:13 @monitor.py:467]\u001b[0m GAN_loss/discrim/accuracy_fake: 0.94\n",
      "\u001b[32m[0503 11:32:13 @monitor.py:467]\u001b[0m GAN_loss/discrim/accuracy_real: 0.065\n",
      "\u001b[32m[0503 11:32:13 @monitor.py:467]\u001b[0m GAN_loss/discrim/loss: 0.65184\n",
      "\u001b[32m[0503 11:32:13 @monitor.py:467]\u001b[0m GAN_loss/gen/final-g-loss: 0.98953\n",
      "\u001b[32m[0503 11:32:13 @monitor.py:467]\u001b[0m GAN_loss/gen/klloss: 0.058432\n",
      "\u001b[32m[0503 11:32:13 @monitor.py:467]\u001b[0m GAN_loss/gen/loss: 0.93109\n",
      "\u001b[32m[0503 11:32:13 @monitor.py:467]\u001b[0m QueueInput/queue_size: 50\n",
      "\u001b[32m[0503 11:32:13 @base.py:275]\u001b[0m Start Epoch 930 ...\n"
     ]
    },
    {
     "name": "stderr",
     "output_type": "stream",
     "text": [
      "100%|#################################################################################|2000/2000[00:32<00:00,61.80it/s]"
     ]
    },
    {
     "name": "stdout",
     "output_type": "stream",
     "text": [
      "\u001b[32m[0503 11:32:46 @base.py:285]\u001b[0m Epoch 930 (global_step 1860000) finished, time:32.4 seconds.\n",
      "\u001b[32m[0503 11:32:46 @saver.py:79]\u001b[0m Model saved to ../output/DATGAN_PRELSTM_small/model\\model-1860000.\n",
      "\u001b[32m[0503 11:32:46 @monitor.py:467]\u001b[0m GAN_loss/discrim/accuracy_fake: 0.96\n"
     ]
    },
    {
     "name": "stderr",
     "output_type": "stream",
     "text": [
      "\n"
     ]
    },
    {
     "name": "stdout",
     "output_type": "stream",
     "text": [
      "\u001b[32m[0503 11:32:46 @monitor.py:467]\u001b[0m GAN_loss/discrim/accuracy_real: 0.11\n",
      "\u001b[32m[0503 11:32:46 @monitor.py:467]\u001b[0m GAN_loss/discrim/loss: 0.6502\n",
      "\u001b[32m[0503 11:32:46 @monitor.py:467]\u001b[0m GAN_loss/gen/final-g-loss: 1.0338\n",
      "\u001b[32m[0503 11:32:46 @monitor.py:467]\u001b[0m GAN_loss/gen/klloss: 0.10197\n",
      "\u001b[32m[0503 11:32:46 @monitor.py:467]\u001b[0m GAN_loss/gen/loss: 0.9318\n",
      "\u001b[32m[0503 11:32:46 @monitor.py:467]\u001b[0m QueueInput/queue_size: 50\n",
      "\u001b[32m[0503 11:32:46 @base.py:275]\u001b[0m Start Epoch 931 ...\n"
     ]
    },
    {
     "name": "stderr",
     "output_type": "stream",
     "text": [
      "100%|#################################################################################|2000/2000[00:32<00:00,61.85it/s]"
     ]
    },
    {
     "name": "stdout",
     "output_type": "stream",
     "text": [
      "\u001b[32m[0503 11:33:18 @base.py:285]\u001b[0m Epoch 931 (global_step 1862000) finished, time:32.3 seconds.\n"
     ]
    },
    {
     "name": "stderr",
     "output_type": "stream",
     "text": [
      "\n"
     ]
    },
    {
     "name": "stdout",
     "output_type": "stream",
     "text": [
      "\u001b[32m[0503 11:33:18 @saver.py:79]\u001b[0m Model saved to ../output/DATGAN_PRELSTM_small/model\\model-1862000.\n",
      "\u001b[32m[0503 11:33:18 @monitor.py:467]\u001b[0m GAN_loss/discrim/accuracy_fake: 0.975\n",
      "\u001b[32m[0503 11:33:18 @monitor.py:467]\u001b[0m GAN_loss/discrim/accuracy_real: 0.075\n",
      "\u001b[32m[0503 11:33:18 @monitor.py:467]\u001b[0m GAN_loss/discrim/loss: 0.6434\n",
      "\u001b[32m[0503 11:33:18 @monitor.py:467]\u001b[0m GAN_loss/gen/final-g-loss: 1.0596\n",
      "\u001b[32m[0503 11:33:18 @monitor.py:467]\u001b[0m GAN_loss/gen/klloss: 0.11139\n",
      "\u001b[32m[0503 11:33:18 @monitor.py:467]\u001b[0m GAN_loss/gen/loss: 0.94825\n",
      "\u001b[32m[0503 11:33:18 @monitor.py:467]\u001b[0m QueueInput/queue_size: 50\n",
      "\u001b[32m[0503 11:33:18 @base.py:275]\u001b[0m Start Epoch 932 ...\n"
     ]
    },
    {
     "name": "stderr",
     "output_type": "stream",
     "text": [
      "100%|#################################################################################|2000/2000[00:32<00:00,61.74it/s]"
     ]
    },
    {
     "name": "stdout",
     "output_type": "stream",
     "text": [
      "\u001b[32m[0503 11:33:51 @base.py:285]\u001b[0m Epoch 932 (global_step 1864000) finished, time:32.4 seconds.\n",
      "\u001b[32m[0503 11:33:51 @saver.py:79]\u001b[0m Model saved to ../output/DATGAN_PRELSTM_small/model\\model-1864000.\n",
      "\u001b[32m[0503 11:33:51 @monitor.py:467]\u001b[0m GAN_loss/discrim/accuracy_fake: 0.96\n"
     ]
    },
    {
     "name": "stderr",
     "output_type": "stream",
     "text": [
      "\n"
     ]
    },
    {
     "name": "stdout",
     "output_type": "stream",
     "text": [
      "\u001b[32m[0503 11:33:51 @monitor.py:467]\u001b[0m GAN_loss/discrim/accuracy_real: 0.075\n",
      "\u001b[32m[0503 11:33:51 @monitor.py:467]\u001b[0m GAN_loss/discrim/loss: 0.65211\n",
      "\u001b[32m[0503 11:33:51 @monitor.py:467]\u001b[0m GAN_loss/gen/final-g-loss: 1.0362\n",
      "\u001b[32m[0503 11:33:51 @monitor.py:467]\u001b[0m GAN_loss/gen/klloss: 0.10668\n",
      "\u001b[32m[0503 11:33:51 @monitor.py:467]\u001b[0m GAN_loss/gen/loss: 0.92948\n",
      "\u001b[32m[0503 11:33:51 @monitor.py:467]\u001b[0m QueueInput/queue_size: 50\n",
      "\u001b[32m[0503 11:33:51 @base.py:275]\u001b[0m Start Epoch 933 ...\n"
     ]
    },
    {
     "name": "stderr",
     "output_type": "stream",
     "text": [
      "100%|#################################################################################|2000/2000[00:32<00:00,61.83it/s]"
     ]
    },
    {
     "name": "stdout",
     "output_type": "stream",
     "text": [
      "\u001b[32m[0503 11:34:23 @base.py:285]\u001b[0m Epoch 933 (global_step 1866000) finished, time:32.3 seconds.\n",
      "\u001b[32m[0503 11:34:23 @saver.py:79]\u001b[0m Model saved to ../output/DATGAN_PRELSTM_small/model\\model-1866000.\n"
     ]
    },
    {
     "name": "stderr",
     "output_type": "stream",
     "text": [
      "\n"
     ]
    },
    {
     "name": "stdout",
     "output_type": "stream",
     "text": [
      "\u001b[32m[0503 11:34:23 @monitor.py:467]\u001b[0m GAN_loss/discrim/accuracy_fake: 0.92\n",
      "\u001b[32m[0503 11:34:23 @monitor.py:467]\u001b[0m GAN_loss/discrim/accuracy_real: 0.07\n",
      "\u001b[32m[0503 11:34:23 @monitor.py:467]\u001b[0m GAN_loss/discrim/loss: 0.65668\n",
      "\u001b[32m[0503 11:34:23 @monitor.py:467]\u001b[0m GAN_loss/gen/final-g-loss: 0.98502\n",
      "\u001b[32m[0503 11:34:23 @monitor.py:467]\u001b[0m GAN_loss/gen/klloss: 0.065796\n",
      "\u001b[32m[0503 11:34:23 @monitor.py:467]\u001b[0m GAN_loss/gen/loss: 0.91922\n",
      "\u001b[32m[0503 11:34:23 @monitor.py:467]\u001b[0m QueueInput/queue_size: 50\n",
      "\u001b[32m[0503 11:34:23 @base.py:275]\u001b[0m Start Epoch 934 ...\n"
     ]
    },
    {
     "name": "stderr",
     "output_type": "stream",
     "text": [
      "100%|#################################################################################|2000/2000[00:32<00:00,61.81it/s]"
     ]
    },
    {
     "name": "stdout",
     "output_type": "stream",
     "text": [
      "\u001b[32m[0503 11:34:56 @base.py:285]\u001b[0m Epoch 934 (global_step 1868000) finished, time:32.4 seconds.\n",
      "\u001b[32m[0503 11:34:56 @saver.py:79]\u001b[0m Model saved to ../output/DATGAN_PRELSTM_small/model\\model-1868000.\n"
     ]
    },
    {
     "name": "stderr",
     "output_type": "stream",
     "text": [
      "\n"
     ]
    },
    {
     "name": "stdout",
     "output_type": "stream",
     "text": [
      "\u001b[32m[0503 11:34:56 @monitor.py:467]\u001b[0m GAN_loss/discrim/accuracy_fake: 0.97\n",
      "\u001b[32m[0503 11:34:56 @monitor.py:467]\u001b[0m GAN_loss/discrim/accuracy_real: 0.085\n",
      "\u001b[32m[0503 11:34:56 @monitor.py:467]\u001b[0m GAN_loss/discrim/loss: 0.64598\n",
      "\u001b[32m[0503 11:34:56 @monitor.py:467]\u001b[0m GAN_loss/gen/final-g-loss: 1.0468\n",
      "\u001b[32m[0503 11:34:56 @monitor.py:467]\u001b[0m GAN_loss/gen/klloss: 0.1036\n",
      "\u001b[32m[0503 11:34:56 @monitor.py:467]\u001b[0m GAN_loss/gen/loss: 0.9432\n",
      "\u001b[32m[0503 11:34:56 @monitor.py:467]\u001b[0m QueueInput/queue_size: 50\n",
      "\u001b[32m[0503 11:34:56 @base.py:275]\u001b[0m Start Epoch 935 ...\n"
     ]
    },
    {
     "name": "stderr",
     "output_type": "stream",
     "text": [
      "100%|#################################################################################|2000/2000[00:32<00:00,61.77it/s]"
     ]
    },
    {
     "name": "stdout",
     "output_type": "stream",
     "text": [
      "\u001b[32m[0503 11:35:28 @base.py:285]\u001b[0m Epoch 935 (global_step 1870000) finished, time:32.4 seconds.\n",
      "\u001b[32m[0503 11:35:28 @saver.py:79]\u001b[0m Model saved to ../output/DATGAN_PRELSTM_small/model\\model-1870000.\n"
     ]
    },
    {
     "name": "stderr",
     "output_type": "stream",
     "text": [
      "\n"
     ]
    },
    {
     "name": "stdout",
     "output_type": "stream",
     "text": [
      "\u001b[32m[0503 11:35:29 @monitor.py:467]\u001b[0m GAN_loss/discrim/accuracy_fake: 0.96\n",
      "\u001b[32m[0503 11:35:29 @monitor.py:467]\u001b[0m GAN_loss/discrim/accuracy_real: 0.155\n",
      "\u001b[32m[0503 11:35:29 @monitor.py:467]\u001b[0m GAN_loss/discrim/loss: 0.64699\n",
      "\u001b[32m[0503 11:35:29 @monitor.py:467]\u001b[0m GAN_loss/gen/final-g-loss: 1.0619\n",
      "\u001b[32m[0503 11:35:29 @monitor.py:467]\u001b[0m GAN_loss/gen/klloss: 0.11211\n",
      "\u001b[32m[0503 11:35:29 @monitor.py:467]\u001b[0m GAN_loss/gen/loss: 0.94979\n",
      "\u001b[32m[0503 11:35:29 @monitor.py:467]\u001b[0m QueueInput/queue_size: 50\n",
      "\u001b[32m[0503 11:35:29 @base.py:275]\u001b[0m Start Epoch 936 ...\n"
     ]
    },
    {
     "name": "stderr",
     "output_type": "stream",
     "text": [
      "100%|#################################################################################|2000/2000[00:32<00:00,61.80it/s]"
     ]
    },
    {
     "name": "stdout",
     "output_type": "stream",
     "text": [
      "\u001b[32m[0503 11:36:01 @base.py:285]\u001b[0m Epoch 936 (global_step 1872000) finished, time:32.4 seconds.\n",
      "\u001b[32m[0503 11:36:01 @saver.py:79]\u001b[0m Model saved to ../output/DATGAN_PRELSTM_small/model\\model-1872000.\n",
      "\u001b[32m[0503 11:36:01 @monitor.py:467]\u001b[0m GAN_loss/discrim/accuracy_fake: 0.92\n"
     ]
    },
    {
     "name": "stderr",
     "output_type": "stream",
     "text": [
      "\n"
     ]
    },
    {
     "name": "stdout",
     "output_type": "stream",
     "text": [
      "\u001b[32m[0503 11:36:01 @monitor.py:467]\u001b[0m GAN_loss/discrim/accuracy_real: 0.13\n",
      "\u001b[32m[0503 11:36:01 @monitor.py:467]\u001b[0m GAN_loss/discrim/loss: 0.65073\n",
      "\u001b[32m[0503 11:36:01 @monitor.py:467]\u001b[0m GAN_loss/gen/final-g-loss: 1.042\n",
      "\u001b[32m[0503 11:36:01 @monitor.py:467]\u001b[0m GAN_loss/gen/klloss: 0.11156\n",
      "\u001b[32m[0503 11:36:01 @monitor.py:467]\u001b[0m GAN_loss/gen/loss: 0.93045\n",
      "\u001b[32m[0503 11:36:01 @monitor.py:467]\u001b[0m QueueInput/queue_size: 50\n",
      "\u001b[32m[0503 11:36:01 @base.py:275]\u001b[0m Start Epoch 937 ...\n"
     ]
    },
    {
     "name": "stderr",
     "output_type": "stream",
     "text": [
      "100%|#################################################################################|2000/2000[00:32<00:00,61.67it/s]"
     ]
    },
    {
     "name": "stdout",
     "output_type": "stream",
     "text": [
      "\u001b[32m[0503 11:36:34 @base.py:285]\u001b[0m Epoch 937 (global_step 1874000) finished, time:32.4 seconds.\n",
      "\u001b[32m[0503 11:36:34 @saver.py:79]\u001b[0m Model saved to ../output/DATGAN_PRELSTM_small/model\\model-1874000.\n",
      "\u001b[32m[0503 11:36:34 @monitor.py:467]\u001b[0m GAN_loss/discrim/accuracy_fake: 0.95\n"
     ]
    },
    {
     "name": "stderr",
     "output_type": "stream",
     "text": [
      "\n"
     ]
    },
    {
     "name": "stdout",
     "output_type": "stream",
     "text": [
      "\u001b[32m[0503 11:36:34 @monitor.py:467]\u001b[0m GAN_loss/discrim/accuracy_real: 0.06\n",
      "\u001b[32m[0503 11:36:34 @monitor.py:467]\u001b[0m GAN_loss/discrim/loss: 0.64497\n",
      "\u001b[32m[0503 11:36:34 @monitor.py:467]\u001b[0m GAN_loss/gen/final-g-loss: 1.0422\n",
      "\u001b[32m[0503 11:36:34 @monitor.py:467]\u001b[0m GAN_loss/gen/klloss: 0.090938\n",
      "\u001b[32m[0503 11:36:34 @monitor.py:467]\u001b[0m GAN_loss/gen/loss: 0.95124\n",
      "\u001b[32m[0503 11:36:34 @monitor.py:467]\u001b[0m QueueInput/queue_size: 50\n",
      "\u001b[32m[0503 11:36:34 @base.py:275]\u001b[0m Start Epoch 938 ...\n"
     ]
    },
    {
     "name": "stderr",
     "output_type": "stream",
     "text": [
      "100%|#################################################################################|2000/2000[00:32<00:00,61.82it/s]"
     ]
    },
    {
     "name": "stdout",
     "output_type": "stream",
     "text": [
      "\u001b[32m[0503 11:37:06 @base.py:285]\u001b[0m Epoch 938 (global_step 1876000) finished, time:32.4 seconds.\n",
      "\u001b[32m[0503 11:37:06 @saver.py:79]\u001b[0m Model saved to ../output/DATGAN_PRELSTM_small/model\\model-1876000.\n",
      "\u001b[32m[0503 11:37:06 @monitor.py:467]\u001b[0m GAN_loss/discrim/accuracy_fake: 0.95\n"
     ]
    },
    {
     "name": "stderr",
     "output_type": "stream",
     "text": [
      "\n"
     ]
    },
    {
     "name": "stdout",
     "output_type": "stream",
     "text": [
      "\u001b[32m[0503 11:37:06 @monitor.py:467]\u001b[0m GAN_loss/discrim/accuracy_real: 0.09\n",
      "\u001b[32m[0503 11:37:06 @monitor.py:467]\u001b[0m GAN_loss/discrim/loss: 0.64159\n",
      "\u001b[32m[0503 11:37:06 @monitor.py:467]\u001b[0m GAN_loss/gen/final-g-loss: 1.0294\n",
      "\u001b[32m[0503 11:37:06 @monitor.py:467]\u001b[0m GAN_loss/gen/klloss: 0.091319\n",
      "\u001b[32m[0503 11:37:06 @monitor.py:467]\u001b[0m GAN_loss/gen/loss: 0.93807\n",
      "\u001b[32m[0503 11:37:06 @monitor.py:467]\u001b[0m QueueInput/queue_size: 50\n",
      "\u001b[32m[0503 11:37:06 @base.py:275]\u001b[0m Start Epoch 939 ...\n"
     ]
    },
    {
     "name": "stderr",
     "output_type": "stream",
     "text": [
      "100%|#################################################################################|2000/2000[00:32<00:00,61.06it/s]"
     ]
    },
    {
     "name": "stdout",
     "output_type": "stream",
     "text": [
      "\u001b[32m[0503 11:37:39 @base.py:285]\u001b[0m Epoch 939 (global_step 1878000) finished, time:32.8 seconds.\n",
      "\u001b[32m[0503 11:37:39 @saver.py:79]\u001b[0m Model saved to ../output/DATGAN_PRELSTM_small/model\\model-1878000.\n"
     ]
    },
    {
     "name": "stderr",
     "output_type": "stream",
     "text": [
      "\n"
     ]
    },
    {
     "name": "stdout",
     "output_type": "stream",
     "text": [
      "\u001b[32m[0503 11:37:39 @monitor.py:467]\u001b[0m GAN_loss/discrim/accuracy_fake: 0.96\n",
      "\u001b[32m[0503 11:37:39 @monitor.py:467]\u001b[0m GAN_loss/discrim/accuracy_real: 0.045\n",
      "\u001b[32m[0503 11:37:39 @monitor.py:467]\u001b[0m GAN_loss/discrim/loss: 0.64438\n",
      "\u001b[32m[0503 11:37:39 @monitor.py:467]\u001b[0m GAN_loss/gen/final-g-loss: 1.0883\n",
      "\u001b[32m[0503 11:37:39 @monitor.py:467]\u001b[0m GAN_loss/gen/klloss: 0.12914\n",
      "\u001b[32m[0503 11:37:39 @monitor.py:467]\u001b[0m GAN_loss/gen/loss: 0.95915\n",
      "\u001b[32m[0503 11:37:39 @monitor.py:467]\u001b[0m QueueInput/queue_size: 50\n",
      "\u001b[32m[0503 11:37:39 @base.py:275]\u001b[0m Start Epoch 940 ...\n"
     ]
    },
    {
     "name": "stderr",
     "output_type": "stream",
     "text": [
      "100%|#################################################################################|2000/2000[00:33<00:00,60.11it/s]"
     ]
    },
    {
     "name": "stdout",
     "output_type": "stream",
     "text": [
      "\u001b[32m[0503 11:38:13 @base.py:285]\u001b[0m Epoch 940 (global_step 1880000) finished, time:33.3 seconds.\n",
      "\u001b[32m[0503 11:38:13 @saver.py:79]\u001b[0m Model saved to ../output/DATGAN_PRELSTM_small/model\\model-1880000.\n"
     ]
    },
    {
     "name": "stderr",
     "output_type": "stream",
     "text": [
      "\n"
     ]
    },
    {
     "name": "stdout",
     "output_type": "stream",
     "text": [
      "\u001b[32m[0503 11:38:13 @monitor.py:467]\u001b[0m GAN_loss/discrim/accuracy_fake: 0.93\n",
      "\u001b[32m[0503 11:38:13 @monitor.py:467]\u001b[0m GAN_loss/discrim/accuracy_real: 0.05\n",
      "\u001b[32m[0503 11:38:13 @monitor.py:467]\u001b[0m GAN_loss/discrim/loss: 0.6514\n",
      "\u001b[32m[0503 11:38:13 @monitor.py:467]\u001b[0m GAN_loss/gen/final-g-loss: 1.0535\n",
      "\u001b[32m[0503 11:38:13 @monitor.py:467]\u001b[0m GAN_loss/gen/klloss: 0.10983\n",
      "\u001b[32m[0503 11:38:13 @monitor.py:467]\u001b[0m GAN_loss/gen/loss: 0.94372\n",
      "\u001b[32m[0503 11:38:13 @monitor.py:467]\u001b[0m QueueInput/queue_size: 50\n",
      "\u001b[32m[0503 11:38:13 @base.py:275]\u001b[0m Start Epoch 941 ...\n"
     ]
    },
    {
     "name": "stderr",
     "output_type": "stream",
     "text": [
      "100%|#################################################################################|2000/2000[00:32<00:00,61.27it/s]"
     ]
    },
    {
     "name": "stdout",
     "output_type": "stream",
     "text": [
      "\u001b[32m[0503 11:38:45 @base.py:285]\u001b[0m Epoch 941 (global_step 1882000) finished, time:32.6 seconds.\n",
      "\u001b[32m[0503 11:38:46 @saver.py:79]\u001b[0m Model saved to ../output/DATGAN_PRELSTM_small/model\\model-1882000.\n"
     ]
    },
    {
     "name": "stderr",
     "output_type": "stream",
     "text": [
      "\n"
     ]
    },
    {
     "name": "stdout",
     "output_type": "stream",
     "text": [
      "\u001b[32m[0503 11:38:46 @monitor.py:467]\u001b[0m GAN_loss/discrim/accuracy_fake: 0.955\n",
      "\u001b[32m[0503 11:38:46 @monitor.py:467]\u001b[0m GAN_loss/discrim/accuracy_real: 0.09\n",
      "\u001b[32m[0503 11:38:46 @monitor.py:467]\u001b[0m GAN_loss/discrim/loss: 0.65568\n",
      "\u001b[32m[0503 11:38:46 @monitor.py:467]\u001b[0m GAN_loss/gen/final-g-loss: 1.0227\n",
      "\u001b[32m[0503 11:38:46 @monitor.py:467]\u001b[0m GAN_loss/gen/klloss: 0.093178\n",
      "\u001b[32m[0503 11:38:46 @monitor.py:467]\u001b[0m GAN_loss/gen/loss: 0.92951\n",
      "\u001b[32m[0503 11:38:46 @monitor.py:467]\u001b[0m QueueInput/queue_size: 50\n",
      "\u001b[32m[0503 11:38:46 @base.py:275]\u001b[0m Start Epoch 942 ...\n"
     ]
    },
    {
     "name": "stderr",
     "output_type": "stream",
     "text": [
      "100%|#################################################################################|2000/2000[00:32<00:00,60.83it/s]"
     ]
    },
    {
     "name": "stdout",
     "output_type": "stream",
     "text": [
      "\u001b[32m[0503 11:39:19 @base.py:285]\u001b[0m Epoch 942 (global_step 1884000) finished, time:32.9 seconds.\n",
      "\u001b[32m[0503 11:39:19 @saver.py:79]\u001b[0m Model saved to ../output/DATGAN_PRELSTM_small/model\\model-1884000.\n"
     ]
    },
    {
     "name": "stderr",
     "output_type": "stream",
     "text": [
      "\n"
     ]
    },
    {
     "name": "stdout",
     "output_type": "stream",
     "text": [
      "\u001b[32m[0503 11:39:19 @monitor.py:467]\u001b[0m GAN_loss/discrim/accuracy_fake: 0.925\n",
      "\u001b[32m[0503 11:39:19 @monitor.py:467]\u001b[0m GAN_loss/discrim/accuracy_real: 0.095\n",
      "\u001b[32m[0503 11:39:19 @monitor.py:467]\u001b[0m GAN_loss/discrim/loss: 0.65963\n",
      "\u001b[32m[0503 11:39:19 @monitor.py:467]\u001b[0m GAN_loss/gen/final-g-loss: 1.0828\n",
      "\u001b[32m[0503 11:39:19 @monitor.py:467]\u001b[0m GAN_loss/gen/klloss: 0.1717\n",
      "\u001b[32m[0503 11:39:19 @monitor.py:467]\u001b[0m GAN_loss/gen/loss: 0.91108\n",
      "\u001b[32m[0503 11:39:19 @monitor.py:467]\u001b[0m QueueInput/queue_size: 50\n",
      "\u001b[32m[0503 11:39:19 @base.py:275]\u001b[0m Start Epoch 943 ...\n"
     ]
    },
    {
     "name": "stderr",
     "output_type": "stream",
     "text": [
      "100%|#################################################################################|2000/2000[00:32<00:00,60.83it/s]"
     ]
    },
    {
     "name": "stdout",
     "output_type": "stream",
     "text": [
      "\u001b[32m[0503 11:39:52 @base.py:285]\u001b[0m Epoch 943 (global_step 1886000) finished, time:32.9 seconds.\n",
      "\u001b[32m[0503 11:39:52 @saver.py:79]\u001b[0m Model saved to ../output/DATGAN_PRELSTM_small/model\\model-1886000.\n"
     ]
    },
    {
     "name": "stderr",
     "output_type": "stream",
     "text": [
      "\n"
     ]
    },
    {
     "name": "stdout",
     "output_type": "stream",
     "text": [
      "\u001b[32m[0503 11:39:52 @monitor.py:467]\u001b[0m GAN_loss/discrim/accuracy_fake: 0.955\n",
      "\u001b[32m[0503 11:39:52 @monitor.py:467]\u001b[0m GAN_loss/discrim/accuracy_real: 0.085\n",
      "\u001b[32m[0503 11:39:52 @monitor.py:467]\u001b[0m GAN_loss/discrim/loss: 0.64947\n",
      "\u001b[32m[0503 11:39:52 @monitor.py:467]\u001b[0m GAN_loss/gen/final-g-loss: 1.0237\n",
      "\u001b[32m[0503 11:39:52 @monitor.py:467]\u001b[0m GAN_loss/gen/klloss: 0.088544\n",
      "\u001b[32m[0503 11:39:52 @monitor.py:467]\u001b[0m GAN_loss/gen/loss: 0.93519\n",
      "\u001b[32m[0503 11:39:52 @monitor.py:467]\u001b[0m QueueInput/queue_size: 50\n",
      "\u001b[32m[0503 11:39:52 @base.py:275]\u001b[0m Start Epoch 944 ...\n"
     ]
    },
    {
     "name": "stderr",
     "output_type": "stream",
     "text": [
      "100%|#################################################################################|2000/2000[00:32<00:00,60.89it/s]"
     ]
    },
    {
     "name": "stdout",
     "output_type": "stream",
     "text": [
      "\u001b[32m[0503 11:40:25 @base.py:285]\u001b[0m Epoch 944 (global_step 1888000) finished, time:32.8 seconds.\n",
      "\u001b[32m[0503 11:40:25 @saver.py:79]\u001b[0m Model saved to ../output/DATGAN_PRELSTM_small/model\\model-1888000.\n"
     ]
    },
    {
     "name": "stderr",
     "output_type": "stream",
     "text": [
      "\n"
     ]
    },
    {
     "name": "stdout",
     "output_type": "stream",
     "text": [
      "\u001b[32m[0503 11:40:25 @monitor.py:467]\u001b[0m GAN_loss/discrim/accuracy_fake: 0.94\n",
      "\u001b[32m[0503 11:40:25 @monitor.py:467]\u001b[0m GAN_loss/discrim/accuracy_real: 0.095\n",
      "\u001b[32m[0503 11:40:25 @monitor.py:467]\u001b[0m GAN_loss/discrim/loss: 0.65062\n",
      "\u001b[32m[0503 11:40:25 @monitor.py:467]\u001b[0m GAN_loss/gen/final-g-loss: 1.0926\n",
      "\u001b[32m[0503 11:40:25 @monitor.py:467]\u001b[0m GAN_loss/gen/klloss: 0.155\n",
      "\u001b[32m[0503 11:40:25 @monitor.py:467]\u001b[0m GAN_loss/gen/loss: 0.93761\n",
      "\u001b[32m[0503 11:40:25 @monitor.py:467]\u001b[0m QueueInput/queue_size: 50\n",
      "\u001b[32m[0503 11:40:25 @base.py:275]\u001b[0m Start Epoch 945 ...\n"
     ]
    },
    {
     "name": "stderr",
     "output_type": "stream",
     "text": [
      "100%|#################################################################################|2000/2000[00:32<00:00,60.90it/s]"
     ]
    },
    {
     "name": "stdout",
     "output_type": "stream",
     "text": [
      "\u001b[32m[0503 11:40:58 @base.py:285]\u001b[0m Epoch 945 (global_step 1890000) finished, time:32.8 seconds.\n",
      "\u001b[32m[0503 11:40:58 @saver.py:79]\u001b[0m Model saved to ../output/DATGAN_PRELSTM_small/model\\model-1890000.\n"
     ]
    },
    {
     "name": "stderr",
     "output_type": "stream",
     "text": [
      "\n"
     ]
    },
    {
     "name": "stdout",
     "output_type": "stream",
     "text": [
      "\u001b[32m[0503 11:40:58 @monitor.py:467]\u001b[0m GAN_loss/discrim/accuracy_fake: 0.945\n",
      "\u001b[32m[0503 11:40:58 @monitor.py:467]\u001b[0m GAN_loss/discrim/accuracy_real: 0.07\n",
      "\u001b[32m[0503 11:40:58 @monitor.py:467]\u001b[0m GAN_loss/discrim/loss: 0.65058\n",
      "\u001b[32m[0503 11:40:58 @monitor.py:467]\u001b[0m GAN_loss/gen/final-g-loss: 1.0487\n",
      "\u001b[32m[0503 11:40:58 @monitor.py:467]\u001b[0m GAN_loss/gen/klloss: 0.098806\n",
      "\u001b[32m[0503 11:40:58 @monitor.py:467]\u001b[0m GAN_loss/gen/loss: 0.94985\n",
      "\u001b[32m[0503 11:40:58 @monitor.py:467]\u001b[0m QueueInput/queue_size: 50\n",
      "\u001b[32m[0503 11:40:58 @base.py:275]\u001b[0m Start Epoch 946 ...\n"
     ]
    },
    {
     "name": "stderr",
     "output_type": "stream",
     "text": [
      "100%|#################################################################################|2000/2000[00:34<00:00,57.75it/s]"
     ]
    },
    {
     "name": "stdout",
     "output_type": "stream",
     "text": [
      "\u001b[32m[0503 11:41:33 @base.py:285]\u001b[0m Epoch 946 (global_step 1892000) finished, time:34.6 seconds.\n",
      "\u001b[32m[0503 11:41:33 @saver.py:79]\u001b[0m Model saved to ../output/DATGAN_PRELSTM_small/model\\model-1892000.\n"
     ]
    },
    {
     "name": "stderr",
     "output_type": "stream",
     "text": [
      "\n"
     ]
    },
    {
     "name": "stdout",
     "output_type": "stream",
     "text": [
      "\u001b[32m[0503 11:41:33 @monitor.py:467]\u001b[0m GAN_loss/discrim/accuracy_fake: 0.955\n",
      "\u001b[32m[0503 11:41:33 @monitor.py:467]\u001b[0m GAN_loss/discrim/accuracy_real: 0.07\n",
      "\u001b[32m[0503 11:41:33 @monitor.py:467]\u001b[0m GAN_loss/discrim/loss: 0.65004\n",
      "\u001b[32m[0503 11:41:33 @monitor.py:467]\u001b[0m GAN_loss/gen/final-g-loss: 1.0894\n",
      "\u001b[32m[0503 11:41:33 @monitor.py:467]\u001b[0m GAN_loss/gen/klloss: 0.14568\n",
      "\u001b[32m[0503 11:41:33 @monitor.py:467]\u001b[0m GAN_loss/gen/loss: 0.94376\n",
      "\u001b[32m[0503 11:41:33 @monitor.py:467]\u001b[0m QueueInput/queue_size: 50\n",
      "\u001b[32m[0503 11:41:33 @base.py:275]\u001b[0m Start Epoch 947 ...\n"
     ]
    },
    {
     "name": "stderr",
     "output_type": "stream",
     "text": [
      "100%|#################################################################################|2000/2000[00:34<00:00,57.16it/s]"
     ]
    },
    {
     "name": "stdout",
     "output_type": "stream",
     "text": [
      "\u001b[32m[0503 11:42:08 @base.py:285]\u001b[0m Epoch 947 (global_step 1894000) finished, time:35 seconds.\n",
      "\u001b[32m[0503 11:42:08 @saver.py:79]\u001b[0m Model saved to ../output/DATGAN_PRELSTM_small/model\\model-1894000.\n"
     ]
    },
    {
     "name": "stderr",
     "output_type": "stream",
     "text": [
      "\n"
     ]
    },
    {
     "name": "stdout",
     "output_type": "stream",
     "text": [
      "\u001b[32m[0503 11:42:08 @monitor.py:467]\u001b[0m GAN_loss/discrim/accuracy_fake: 0.97\n",
      "\u001b[32m[0503 11:42:08 @monitor.py:467]\u001b[0m GAN_loss/discrim/accuracy_real: 0.085\n",
      "\u001b[32m[0503 11:42:08 @monitor.py:467]\u001b[0m GAN_loss/discrim/loss: 0.64249\n",
      "\u001b[32m[0503 11:42:08 @monitor.py:467]\u001b[0m GAN_loss/gen/final-g-loss: 1.0376\n",
      "\u001b[32m[0503 11:42:08 @monitor.py:467]\u001b[0m GAN_loss/gen/klloss: 0.092919\n",
      "\u001b[32m[0503 11:42:08 @monitor.py:467]\u001b[0m GAN_loss/gen/loss: 0.94463\n",
      "\u001b[32m[0503 11:42:08 @monitor.py:467]\u001b[0m QueueInput/queue_size: 50\n",
      "\u001b[32m[0503 11:42:08 @base.py:275]\u001b[0m Start Epoch 948 ...\n"
     ]
    },
    {
     "name": "stderr",
     "output_type": "stream",
     "text": [
      "100%|#################################################################################|2000/2000[00:32<00:00,60.69it/s]"
     ]
    },
    {
     "name": "stdout",
     "output_type": "stream",
     "text": [
      "\u001b[32m[0503 11:42:41 @base.py:285]\u001b[0m Epoch 948 (global_step 1896000) finished, time:33 seconds.\n",
      "\u001b[32m[0503 11:42:41 @saver.py:79]\u001b[0m Model saved to ../output/DATGAN_PRELSTM_small/model\\model-1896000.\n"
     ]
    },
    {
     "name": "stderr",
     "output_type": "stream",
     "text": [
      "\n"
     ]
    },
    {
     "name": "stdout",
     "output_type": "stream",
     "text": [
      "\u001b[32m[0503 11:42:41 @monitor.py:467]\u001b[0m GAN_loss/discrim/accuracy_fake: 0.95\n",
      "\u001b[32m[0503 11:42:41 @monitor.py:467]\u001b[0m GAN_loss/discrim/accuracy_real: 0.14\n",
      "\u001b[32m[0503 11:42:41 @monitor.py:467]\u001b[0m GAN_loss/discrim/loss: 0.63778\n",
      "\u001b[32m[0503 11:42:41 @monitor.py:467]\u001b[0m GAN_loss/gen/final-g-loss: 1.0143\n",
      "\u001b[32m[0503 11:42:41 @monitor.py:467]\u001b[0m GAN_loss/gen/klloss: 0.070969\n",
      "\u001b[32m[0503 11:42:41 @monitor.py:467]\u001b[0m GAN_loss/gen/loss: 0.94333\n",
      "\u001b[32m[0503 11:42:41 @monitor.py:467]\u001b[0m QueueInput/queue_size: 50\n",
      "\u001b[32m[0503 11:42:41 @base.py:275]\u001b[0m Start Epoch 949 ...\n"
     ]
    },
    {
     "name": "stderr",
     "output_type": "stream",
     "text": [
      "100%|#################################################################################|2000/2000[00:33<00:00,60.09it/s]"
     ]
    },
    {
     "name": "stdout",
     "output_type": "stream",
     "text": [
      "\u001b[32m[0503 11:43:14 @base.py:285]\u001b[0m Epoch 949 (global_step 1898000) finished, time:33.3 seconds.\n",
      "\u001b[32m[0503 11:43:15 @saver.py:79]\u001b[0m Model saved to ../output/DATGAN_PRELSTM_small/model\\model-1898000.\n"
     ]
    },
    {
     "name": "stderr",
     "output_type": "stream",
     "text": [
      "\n"
     ]
    },
    {
     "name": "stdout",
     "output_type": "stream",
     "text": [
      "\u001b[32m[0503 11:43:15 @monitor.py:467]\u001b[0m GAN_loss/discrim/accuracy_fake: 0.97\n",
      "\u001b[32m[0503 11:43:15 @monitor.py:467]\u001b[0m GAN_loss/discrim/accuracy_real: 0.09\n",
      "\u001b[32m[0503 11:43:15 @monitor.py:467]\u001b[0m GAN_loss/discrim/loss: 0.64323\n",
      "\u001b[32m[0503 11:43:15 @monitor.py:467]\u001b[0m GAN_loss/gen/final-g-loss: 1.0488\n",
      "\u001b[32m[0503 11:43:15 @monitor.py:467]\u001b[0m GAN_loss/gen/klloss: 0.096171\n",
      "\u001b[32m[0503 11:43:15 @monitor.py:467]\u001b[0m GAN_loss/gen/loss: 0.95264\n",
      "\u001b[32m[0503 11:43:15 @monitor.py:467]\u001b[0m QueueInput/queue_size: 50\n",
      "\u001b[32m[0503 11:43:15 @base.py:275]\u001b[0m Start Epoch 950 ...\n"
     ]
    },
    {
     "name": "stderr",
     "output_type": "stream",
     "text": [
      "100%|#################################################################################|2000/2000[00:34<00:00,58.21it/s]"
     ]
    },
    {
     "name": "stdout",
     "output_type": "stream",
     "text": [
      "\u001b[32m[0503 11:43:49 @base.py:285]\u001b[0m Epoch 950 (global_step 1900000) finished, time:34.4 seconds.\n",
      "\u001b[32m[0503 11:43:49 @saver.py:79]\u001b[0m Model saved to ../output/DATGAN_PRELSTM_small/model\\model-1900000.\n"
     ]
    },
    {
     "name": "stderr",
     "output_type": "stream",
     "text": [
      "\n"
     ]
    },
    {
     "name": "stdout",
     "output_type": "stream",
     "text": [
      "\u001b[32m[0503 11:43:49 @monitor.py:467]\u001b[0m GAN_loss/discrim/accuracy_fake: 0.935\n",
      "\u001b[32m[0503 11:43:49 @monitor.py:467]\u001b[0m GAN_loss/discrim/accuracy_real: 0.095\n",
      "\u001b[32m[0503 11:43:49 @monitor.py:467]\u001b[0m GAN_loss/discrim/loss: 0.65617\n",
      "\u001b[32m[0503 11:43:49 @monitor.py:467]\u001b[0m GAN_loss/gen/final-g-loss: 1.0387\n",
      "\u001b[32m[0503 11:43:49 @monitor.py:467]\u001b[0m GAN_loss/gen/klloss: 0.10606\n",
      "\u001b[32m[0503 11:43:49 @monitor.py:467]\u001b[0m GAN_loss/gen/loss: 0.93261\n",
      "\u001b[32m[0503 11:43:49 @monitor.py:467]\u001b[0m QueueInput/queue_size: 50\n",
      "\u001b[32m[0503 11:43:49 @base.py:275]\u001b[0m Start Epoch 951 ...\n"
     ]
    },
    {
     "name": "stderr",
     "output_type": "stream",
     "text": [
      "100%|#################################################################################|2000/2000[00:34<00:00,58.50it/s]"
     ]
    },
    {
     "name": "stdout",
     "output_type": "stream",
     "text": [
      "\u001b[32m[0503 11:44:23 @base.py:285]\u001b[0m Epoch 951 (global_step 1902000) finished, time:34.2 seconds.\n",
      "\u001b[32m[0503 11:44:24 @saver.py:79]\u001b[0m Model saved to ../output/DATGAN_PRELSTM_small/model\\model-1902000.\n"
     ]
    },
    {
     "name": "stderr",
     "output_type": "stream",
     "text": [
      "\n"
     ]
    },
    {
     "name": "stdout",
     "output_type": "stream",
     "text": [
      "\u001b[32m[0503 11:44:24 @monitor.py:467]\u001b[0m GAN_loss/discrim/accuracy_fake: 0.93\n",
      "\u001b[32m[0503 11:44:24 @monitor.py:467]\u001b[0m GAN_loss/discrim/accuracy_real: 0.08\n",
      "\u001b[32m[0503 11:44:24 @monitor.py:467]\u001b[0m GAN_loss/discrim/loss: 0.64636\n",
      "\u001b[32m[0503 11:44:24 @monitor.py:467]\u001b[0m GAN_loss/gen/final-g-loss: 1.0277\n",
      "\u001b[32m[0503 11:44:24 @monitor.py:467]\u001b[0m GAN_loss/gen/klloss: 0.091925\n",
      "\u001b[32m[0503 11:44:24 @monitor.py:467]\u001b[0m GAN_loss/gen/loss: 0.93574\n",
      "\u001b[32m[0503 11:44:24 @monitor.py:467]\u001b[0m QueueInput/queue_size: 50\n",
      "\u001b[32m[0503 11:44:24 @base.py:275]\u001b[0m Start Epoch 952 ...\n"
     ]
    },
    {
     "name": "stderr",
     "output_type": "stream",
     "text": [
      "100%|#################################################################################|2000/2000[00:33<00:00,59.58it/s]"
     ]
    },
    {
     "name": "stdout",
     "output_type": "stream",
     "text": [
      "\u001b[32m[0503 11:44:57 @base.py:285]\u001b[0m Epoch 952 (global_step 1904000) finished, time:33.6 seconds.\n",
      "\u001b[32m[0503 11:44:57 @saver.py:79]\u001b[0m Model saved to ../output/DATGAN_PRELSTM_small/model\\model-1904000.\n"
     ]
    },
    {
     "name": "stderr",
     "output_type": "stream",
     "text": [
      "\n"
     ]
    },
    {
     "name": "stdout",
     "output_type": "stream",
     "text": [
      "\u001b[32m[0503 11:44:57 @monitor.py:467]\u001b[0m GAN_loss/discrim/accuracy_fake: 0.945\n",
      "\u001b[32m[0503 11:44:57 @monitor.py:467]\u001b[0m GAN_loss/discrim/accuracy_real: 0.11\n",
      "\u001b[32m[0503 11:44:57 @monitor.py:467]\u001b[0m GAN_loss/discrim/loss: 0.64293\n",
      "\u001b[32m[0503 11:44:57 @monitor.py:467]\u001b[0m GAN_loss/gen/final-g-loss: 1.0279\n",
      "\u001b[32m[0503 11:44:57 @monitor.py:467]\u001b[0m GAN_loss/gen/klloss: 0.077908\n",
      "\u001b[32m[0503 11:44:57 @monitor.py:467]\u001b[0m GAN_loss/gen/loss: 0.95001\n",
      "\u001b[32m[0503 11:44:57 @monitor.py:467]\u001b[0m QueueInput/queue_size: 50\n",
      "\u001b[32m[0503 11:44:57 @base.py:275]\u001b[0m Start Epoch 953 ...\n"
     ]
    },
    {
     "name": "stderr",
     "output_type": "stream",
     "text": [
      "100%|#################################################################################|2000/2000[00:33<00:00,59.29it/s]"
     ]
    },
    {
     "name": "stdout",
     "output_type": "stream",
     "text": [
      "\u001b[32m[0503 11:45:31 @base.py:285]\u001b[0m Epoch 953 (global_step 1906000) finished, time:33.7 seconds.\n",
      "\u001b[32m[0503 11:45:31 @saver.py:79]\u001b[0m Model saved to ../output/DATGAN_PRELSTM_small/model\\model-1906000.\n"
     ]
    },
    {
     "name": "stderr",
     "output_type": "stream",
     "text": [
      "\n"
     ]
    },
    {
     "name": "stdout",
     "output_type": "stream",
     "text": [
      "\u001b[32m[0503 11:45:31 @monitor.py:467]\u001b[0m GAN_loss/discrim/accuracy_fake: 0.955\n",
      "\u001b[32m[0503 11:45:31 @monitor.py:467]\u001b[0m GAN_loss/discrim/accuracy_real: 0.06\n",
      "\u001b[32m[0503 11:45:31 @monitor.py:467]\u001b[0m GAN_loss/discrim/loss: 0.64837\n",
      "\u001b[32m[0503 11:45:31 @monitor.py:467]\u001b[0m GAN_loss/gen/final-g-loss: 1.0881\n",
      "\u001b[32m[0503 11:45:31 @monitor.py:467]\u001b[0m GAN_loss/gen/klloss: 0.13412\n",
      "\u001b[32m[0503 11:45:31 @monitor.py:467]\u001b[0m GAN_loss/gen/loss: 0.95398\n",
      "\u001b[32m[0503 11:45:31 @monitor.py:467]\u001b[0m QueueInput/queue_size: 50\n",
      "\u001b[32m[0503 11:45:31 @base.py:275]\u001b[0m Start Epoch 954 ...\n"
     ]
    },
    {
     "name": "stderr",
     "output_type": "stream",
     "text": [
      "100%|#################################################################################|2000/2000[00:31<00:00,63.04it/s]"
     ]
    },
    {
     "name": "stdout",
     "output_type": "stream",
     "text": [
      "\u001b[32m[0503 11:46:03 @base.py:285]\u001b[0m Epoch 954 (global_step 1908000) finished, time:31.7 seconds.\n",
      "\u001b[32m[0503 11:46:03 @saver.py:79]\u001b[0m Model saved to ../output/DATGAN_PRELSTM_small/model\\model-1908000.\n",
      "\u001b[32m[0503 11:46:03 @monitor.py:467]\u001b[0m GAN_loss/discrim/accuracy_fake: 0.945\n"
     ]
    },
    {
     "name": "stderr",
     "output_type": "stream",
     "text": [
      "\n"
     ]
    },
    {
     "name": "stdout",
     "output_type": "stream",
     "text": [
      "\u001b[32m[0503 11:46:03 @monitor.py:467]\u001b[0m GAN_loss/discrim/accuracy_real: 0.04\n",
      "\u001b[32m[0503 11:46:03 @monitor.py:467]\u001b[0m GAN_loss/discrim/loss: 0.65226\n",
      "\u001b[32m[0503 11:46:03 @monitor.py:467]\u001b[0m GAN_loss/gen/final-g-loss: 1.0732\n",
      "\u001b[32m[0503 11:46:03 @monitor.py:467]\u001b[0m GAN_loss/gen/klloss: 0.14225\n",
      "\u001b[32m[0503 11:46:03 @monitor.py:467]\u001b[0m GAN_loss/gen/loss: 0.93091\n",
      "\u001b[32m[0503 11:46:03 @monitor.py:467]\u001b[0m QueueInput/queue_size: 50\n",
      "\u001b[32m[0503 11:46:03 @base.py:275]\u001b[0m Start Epoch 955 ...\n"
     ]
    },
    {
     "name": "stderr",
     "output_type": "stream",
     "text": [
      "100%|#################################################################################|2000/2000[00:31<00:00,63.12it/s]"
     ]
    },
    {
     "name": "stdout",
     "output_type": "stream",
     "text": [
      "\u001b[32m[0503 11:46:35 @base.py:285]\u001b[0m Epoch 955 (global_step 1910000) finished, time:31.7 seconds.\n",
      "\u001b[32m[0503 11:46:35 @saver.py:79]\u001b[0m Model saved to ../output/DATGAN_PRELSTM_small/model\\model-1910000.\n"
     ]
    },
    {
     "name": "stderr",
     "output_type": "stream",
     "text": [
      "\n"
     ]
    },
    {
     "name": "stdout",
     "output_type": "stream",
     "text": [
      "\u001b[32m[0503 11:46:35 @monitor.py:467]\u001b[0m GAN_loss/discrim/accuracy_fake: 0.945\n",
      "\u001b[32m[0503 11:46:35 @monitor.py:467]\u001b[0m GAN_loss/discrim/accuracy_real: 0.115\n",
      "\u001b[32m[0503 11:46:35 @monitor.py:467]\u001b[0m GAN_loss/discrim/loss: 0.63565\n",
      "\u001b[32m[0503 11:46:35 @monitor.py:467]\u001b[0m GAN_loss/gen/final-g-loss: 1.0504\n",
      "\u001b[32m[0503 11:46:35 @monitor.py:467]\u001b[0m GAN_loss/gen/klloss: 0.10659\n",
      "\u001b[32m[0503 11:46:35 @monitor.py:467]\u001b[0m GAN_loss/gen/loss: 0.94381\n",
      "\u001b[32m[0503 11:46:35 @monitor.py:467]\u001b[0m QueueInput/queue_size: 50\n",
      "\u001b[32m[0503 11:46:35 @base.py:275]\u001b[0m Start Epoch 956 ...\n"
     ]
    },
    {
     "name": "stderr",
     "output_type": "stream",
     "text": [
      "100%|#################################################################################|2000/2000[00:31<00:00,63.04it/s]"
     ]
    },
    {
     "name": "stdout",
     "output_type": "stream",
     "text": [
      "\u001b[32m[0503 11:47:07 @base.py:285]\u001b[0m Epoch 956 (global_step 1912000) finished, time:31.7 seconds.\n",
      "\u001b[32m[0503 11:47:07 @saver.py:79]\u001b[0m Model saved to ../output/DATGAN_PRELSTM_small/model\\model-1912000.\n",
      "\u001b[32m[0503 11:47:07 @monitor.py:467]\u001b[0m GAN_loss/discrim/accuracy_fake: 0.955\n"
     ]
    },
    {
     "name": "stderr",
     "output_type": "stream",
     "text": [
      "\n"
     ]
    },
    {
     "name": "stdout",
     "output_type": "stream",
     "text": [
      "\u001b[32m[0503 11:47:07 @monitor.py:467]\u001b[0m GAN_loss/discrim/accuracy_real: 0.155\n",
      "\u001b[32m[0503 11:47:07 @monitor.py:467]\u001b[0m GAN_loss/discrim/loss: 0.64821\n",
      "\u001b[32m[0503 11:47:07 @monitor.py:467]\u001b[0m GAN_loss/gen/final-g-loss: 1.0498\n",
      "\u001b[32m[0503 11:47:07 @monitor.py:467]\u001b[0m GAN_loss/gen/klloss: 0.1238\n",
      "\u001b[32m[0503 11:47:07 @monitor.py:467]\u001b[0m GAN_loss/gen/loss: 0.92605\n",
      "\u001b[32m[0503 11:47:07 @monitor.py:467]\u001b[0m QueueInput/queue_size: 50\n",
      "\u001b[32m[0503 11:47:07 @base.py:275]\u001b[0m Start Epoch 957 ...\n"
     ]
    },
    {
     "name": "stderr",
     "output_type": "stream",
     "text": [
      "100%|#################################################################################|2000/2000[00:31<00:00,62.99it/s]"
     ]
    },
    {
     "name": "stdout",
     "output_type": "stream",
     "text": [
      "\u001b[32m[0503 11:47:39 @base.py:285]\u001b[0m Epoch 957 (global_step 1914000) finished, time:31.8 seconds.\n",
      "\u001b[32m[0503 11:47:39 @saver.py:79]\u001b[0m Model saved to ../output/DATGAN_PRELSTM_small/model\\model-1914000.\n"
     ]
    },
    {
     "name": "stderr",
     "output_type": "stream",
     "text": [
      "\n"
     ]
    },
    {
     "name": "stdout",
     "output_type": "stream",
     "text": [
      "\u001b[32m[0503 11:47:39 @monitor.py:467]\u001b[0m GAN_loss/discrim/accuracy_fake: 0.97\n",
      "\u001b[32m[0503 11:47:39 @monitor.py:467]\u001b[0m GAN_loss/discrim/accuracy_real: 0.05\n",
      "\u001b[32m[0503 11:47:39 @monitor.py:467]\u001b[0m GAN_loss/discrim/loss: 0.64789\n",
      "\u001b[32m[0503 11:47:39 @monitor.py:467]\u001b[0m GAN_loss/gen/final-g-loss: 1.0949\n",
      "\u001b[32m[0503 11:47:39 @monitor.py:467]\u001b[0m GAN_loss/gen/klloss: 0.14088\n",
      "\u001b[32m[0503 11:47:39 @monitor.py:467]\u001b[0m GAN_loss/gen/loss: 0.95398\n",
      "\u001b[32m[0503 11:47:39 @monitor.py:467]\u001b[0m QueueInput/queue_size: 50\n",
      "\u001b[32m[0503 11:47:39 @base.py:275]\u001b[0m Start Epoch 958 ...\n"
     ]
    },
    {
     "name": "stderr",
     "output_type": "stream",
     "text": [
      "100%|#################################################################################|2000/2000[00:32<00:00,62.45it/s]"
     ]
    },
    {
     "name": "stdout",
     "output_type": "stream",
     "text": [
      "\u001b[32m[0503 11:48:11 @base.py:285]\u001b[0m Epoch 958 (global_step 1916000) finished, time:32 seconds.\n",
      "\u001b[32m[0503 11:48:11 @saver.py:79]\u001b[0m Model saved to ../output/DATGAN_PRELSTM_small/model\\model-1916000.\n"
     ]
    },
    {
     "name": "stderr",
     "output_type": "stream",
     "text": [
      "\n"
     ]
    },
    {
     "name": "stdout",
     "output_type": "stream",
     "text": [
      "\u001b[32m[0503 11:48:11 @monitor.py:467]\u001b[0m GAN_loss/discrim/accuracy_fake: 0.96\n",
      "\u001b[32m[0503 11:48:11 @monitor.py:467]\u001b[0m GAN_loss/discrim/accuracy_real: 0.07\n",
      "\u001b[32m[0503 11:48:11 @monitor.py:467]\u001b[0m GAN_loss/discrim/loss: 0.64346\n",
      "\u001b[32m[0503 11:48:11 @monitor.py:467]\u001b[0m GAN_loss/gen/final-g-loss: 1.0001\n",
      "\u001b[32m[0503 11:48:11 @monitor.py:467]\u001b[0m GAN_loss/gen/klloss: 0.056788\n",
      "\u001b[32m[0503 11:48:11 @monitor.py:467]\u001b[0m GAN_loss/gen/loss: 0.94328\n",
      "\u001b[32m[0503 11:48:11 @monitor.py:467]\u001b[0m QueueInput/queue_size: 50\n",
      "\u001b[32m[0503 11:48:11 @base.py:275]\u001b[0m Start Epoch 959 ...\n"
     ]
    },
    {
     "name": "stderr",
     "output_type": "stream",
     "text": [
      "100%|#################################################################################|2000/2000[00:32<00:00,60.90it/s]"
     ]
    },
    {
     "name": "stdout",
     "output_type": "stream",
     "text": [
      "\u001b[32m[0503 11:48:44 @base.py:285]\u001b[0m Epoch 959 (global_step 1918000) finished, time:32.8 seconds.\n"
     ]
    },
    {
     "name": "stderr",
     "output_type": "stream",
     "text": [
      "\n"
     ]
    },
    {
     "name": "stdout",
     "output_type": "stream",
     "text": [
      "\u001b[32m[0503 11:48:44 @saver.py:79]\u001b[0m Model saved to ../output/DATGAN_PRELSTM_small/model\\model-1918000.\n",
      "\u001b[32m[0503 11:48:44 @monitor.py:467]\u001b[0m GAN_loss/discrim/accuracy_fake: 0.965\n",
      "\u001b[32m[0503 11:48:44 @monitor.py:467]\u001b[0m GAN_loss/discrim/accuracy_real: 0.115\n",
      "\u001b[32m[0503 11:48:44 @monitor.py:467]\u001b[0m GAN_loss/discrim/loss: 0.65177\n",
      "\u001b[32m[0503 11:48:44 @monitor.py:467]\u001b[0m GAN_loss/gen/final-g-loss: 1.0701\n",
      "\u001b[32m[0503 11:48:44 @monitor.py:467]\u001b[0m GAN_loss/gen/klloss: 0.12314\n",
      "\u001b[32m[0503 11:48:44 @monitor.py:467]\u001b[0m GAN_loss/gen/loss: 0.94694\n",
      "\u001b[32m[0503 11:48:44 @monitor.py:467]\u001b[0m QueueInput/queue_size: 50\n",
      "\u001b[32m[0503 11:48:44 @base.py:275]\u001b[0m Start Epoch 960 ...\n"
     ]
    },
    {
     "name": "stderr",
     "output_type": "stream",
     "text": [
      "100%|#################################################################################|2000/2000[00:31<00:00,62.67it/s]"
     ]
    },
    {
     "name": "stdout",
     "output_type": "stream",
     "text": [
      "\u001b[32m[0503 11:49:16 @base.py:285]\u001b[0m Epoch 960 (global_step 1920000) finished, time:31.9 seconds.\n",
      "\u001b[32m[0503 11:49:16 @saver.py:79]\u001b[0m Model saved to ../output/DATGAN_PRELSTM_small/model\\model-1920000.\n",
      "\u001b[32m[0503 11:49:17 @monitor.py:467]\u001b[0m GAN_loss/discrim/accuracy_fake: 0.935\n"
     ]
    },
    {
     "name": "stderr",
     "output_type": "stream",
     "text": [
      "\n"
     ]
    },
    {
     "name": "stdout",
     "output_type": "stream",
     "text": [
      "\u001b[32m[0503 11:49:17 @monitor.py:467]\u001b[0m GAN_loss/discrim/accuracy_real: 0.11\n",
      "\u001b[32m[0503 11:49:17 @monitor.py:467]\u001b[0m GAN_loss/discrim/loss: 0.65771\n",
      "\u001b[32m[0503 11:49:17 @monitor.py:467]\u001b[0m GAN_loss/gen/final-g-loss: 1.0865\n",
      "\u001b[32m[0503 11:49:17 @monitor.py:467]\u001b[0m GAN_loss/gen/klloss: 0.16171\n",
      "\u001b[32m[0503 11:49:17 @monitor.py:467]\u001b[0m GAN_loss/gen/loss: 0.92483\n",
      "\u001b[32m[0503 11:49:17 @monitor.py:467]\u001b[0m QueueInput/queue_size: 50\n",
      "\u001b[32m[0503 11:49:17 @base.py:275]\u001b[0m Start Epoch 961 ...\n"
     ]
    },
    {
     "name": "stderr",
     "output_type": "stream",
     "text": [
      "100%|#################################################################################|2000/2000[00:32<00:00,61.74it/s]"
     ]
    },
    {
     "name": "stdout",
     "output_type": "stream",
     "text": [
      "\u001b[32m[0503 11:49:49 @base.py:285]\u001b[0m Epoch 961 (global_step 1922000) finished, time:32.4 seconds.\n",
      "\u001b[32m[0503 11:49:49 @saver.py:79]\u001b[0m Model saved to ../output/DATGAN_PRELSTM_small/model\\model-1922000.\n",
      "\u001b[32m[0503 11:49:49 @monitor.py:467]\u001b[0m GAN_loss/discrim/accuracy_fake: 0.935\n"
     ]
    },
    {
     "name": "stderr",
     "output_type": "stream",
     "text": [
      "\n"
     ]
    },
    {
     "name": "stdout",
     "output_type": "stream",
     "text": [
      "\u001b[32m[0503 11:49:49 @monitor.py:467]\u001b[0m GAN_loss/discrim/accuracy_real: 0.085\n",
      "\u001b[32m[0503 11:49:49 @monitor.py:467]\u001b[0m GAN_loss/discrim/loss: 0.64688\n",
      "\u001b[32m[0503 11:49:49 @monitor.py:467]\u001b[0m GAN_loss/gen/final-g-loss: 1.0887\n",
      "\u001b[32m[0503 11:49:49 @monitor.py:467]\u001b[0m GAN_loss/gen/klloss: 0.14383\n",
      "\u001b[32m[0503 11:49:49 @monitor.py:467]\u001b[0m GAN_loss/gen/loss: 0.94491\n",
      "\u001b[32m[0503 11:49:49 @monitor.py:467]\u001b[0m QueueInput/queue_size: 50\n",
      "\u001b[32m[0503 11:49:49 @base.py:275]\u001b[0m Start Epoch 962 ...\n"
     ]
    },
    {
     "name": "stderr",
     "output_type": "stream",
     "text": [
      "100%|#################################################################################|2000/2000[00:32<00:00,61.80it/s]"
     ]
    },
    {
     "name": "stdout",
     "output_type": "stream",
     "text": [
      "\u001b[32m[0503 11:50:22 @base.py:285]\u001b[0m Epoch 962 (global_step 1924000) finished, time:32.4 seconds.\n",
      "\u001b[32m[0503 11:50:22 @saver.py:79]\u001b[0m Model saved to ../output/DATGAN_PRELSTM_small/model\\model-1924000.\n"
     ]
    },
    {
     "name": "stderr",
     "output_type": "stream",
     "text": [
      "\n"
     ]
    },
    {
     "name": "stdout",
     "output_type": "stream",
     "text": [
      "\u001b[32m[0503 11:50:22 @monitor.py:467]\u001b[0m GAN_loss/discrim/accuracy_fake: 0.955\n",
      "\u001b[32m[0503 11:50:22 @monitor.py:467]\u001b[0m GAN_loss/discrim/accuracy_real: 0.085\n",
      "\u001b[32m[0503 11:50:22 @monitor.py:467]\u001b[0m GAN_loss/discrim/loss: 0.64194\n",
      "\u001b[32m[0503 11:50:22 @monitor.py:467]\u001b[0m GAN_loss/gen/final-g-loss: 1.0302\n",
      "\u001b[32m[0503 11:50:22 @monitor.py:467]\u001b[0m GAN_loss/gen/klloss: 0.094783\n",
      "\u001b[32m[0503 11:50:22 @monitor.py:467]\u001b[0m GAN_loss/gen/loss: 0.93541\n",
      "\u001b[32m[0503 11:50:22 @monitor.py:467]\u001b[0m QueueInput/queue_size: 50\n",
      "\u001b[32m[0503 11:50:22 @base.py:275]\u001b[0m Start Epoch 963 ...\n"
     ]
    },
    {
     "name": "stderr",
     "output_type": "stream",
     "text": [
      "100%|#################################################################################|2000/2000[00:32<00:00,61.32it/s]"
     ]
    },
    {
     "name": "stdout",
     "output_type": "stream",
     "text": [
      "\u001b[32m[0503 11:50:54 @base.py:285]\u001b[0m Epoch 963 (global_step 1926000) finished, time:32.6 seconds.\n"
     ]
    },
    {
     "name": "stderr",
     "output_type": "stream",
     "text": [
      "\n"
     ]
    },
    {
     "name": "stdout",
     "output_type": "stream",
     "text": [
      "\u001b[32m[0503 11:50:54 @saver.py:79]\u001b[0m Model saved to ../output/DATGAN_PRELSTM_small/model\\model-1926000.\n",
      "\u001b[32m[0503 11:50:55 @monitor.py:467]\u001b[0m GAN_loss/discrim/accuracy_fake: 0.935\n",
      "\u001b[32m[0503 11:50:55 @monitor.py:467]\u001b[0m GAN_loss/discrim/accuracy_real: 0.085\n",
      "\u001b[32m[0503 11:50:55 @monitor.py:467]\u001b[0m GAN_loss/discrim/loss: 0.64923\n",
      "\u001b[32m[0503 11:50:55 @monitor.py:467]\u001b[0m GAN_loss/gen/final-g-loss: 1.0435\n",
      "\u001b[32m[0503 11:50:55 @monitor.py:467]\u001b[0m GAN_loss/gen/klloss: 0.10509\n",
      "\u001b[32m[0503 11:50:55 @monitor.py:467]\u001b[0m GAN_loss/gen/loss: 0.93843\n",
      "\u001b[32m[0503 11:50:55 @monitor.py:467]\u001b[0m QueueInput/queue_size: 50\n",
      "\u001b[32m[0503 11:50:55 @base.py:275]\u001b[0m Start Epoch 964 ...\n"
     ]
    },
    {
     "name": "stderr",
     "output_type": "stream",
     "text": [
      "100%|#################################################################################|2000/2000[00:33<00:00,59.63it/s]"
     ]
    },
    {
     "name": "stdout",
     "output_type": "stream",
     "text": [
      "\u001b[32m[0503 11:51:28 @base.py:285]\u001b[0m Epoch 964 (global_step 1928000) finished, time:33.5 seconds.\n"
     ]
    },
    {
     "name": "stderr",
     "output_type": "stream",
     "text": [
      "\n"
     ]
    },
    {
     "name": "stdout",
     "output_type": "stream",
     "text": [
      "\u001b[32m[0503 11:51:28 @saver.py:79]\u001b[0m Model saved to ../output/DATGAN_PRELSTM_small/model\\model-1928000.\n",
      "\u001b[32m[0503 11:51:28 @monitor.py:467]\u001b[0m GAN_loss/discrim/accuracy_fake: 0.975\n",
      "\u001b[32m[0503 11:51:28 @monitor.py:467]\u001b[0m GAN_loss/discrim/accuracy_real: 0.13\n",
      "\u001b[32m[0503 11:51:28 @monitor.py:467]\u001b[0m GAN_loss/discrim/loss: 0.64932\n",
      "\u001b[32m[0503 11:51:28 @monitor.py:467]\u001b[0m GAN_loss/gen/final-g-loss: 1.0559\n",
      "\u001b[32m[0503 11:51:28 @monitor.py:467]\u001b[0m GAN_loss/gen/klloss: 0.11679\n",
      "\u001b[32m[0503 11:51:28 @monitor.py:467]\u001b[0m GAN_loss/gen/loss: 0.93913\n",
      "\u001b[32m[0503 11:51:28 @monitor.py:467]\u001b[0m QueueInput/queue_size: 50\n",
      "\u001b[32m[0503 11:51:28 @base.py:275]\u001b[0m Start Epoch 965 ...\n"
     ]
    },
    {
     "name": "stderr",
     "output_type": "stream",
     "text": [
      "100%|#################################################################################|2000/2000[00:32<00:00,61.49it/s]"
     ]
    },
    {
     "name": "stdout",
     "output_type": "stream",
     "text": [
      "\u001b[32m[0503 11:52:01 @base.py:285]\u001b[0m Epoch 965 (global_step 1930000) finished, time:32.5 seconds.\n",
      "\u001b[32m[0503 11:52:01 @saver.py:79]\u001b[0m Model saved to ../output/DATGAN_PRELSTM_small/model\\model-1930000.\n"
     ]
    },
    {
     "name": "stderr",
     "output_type": "stream",
     "text": [
      "\n"
     ]
    },
    {
     "name": "stdout",
     "output_type": "stream",
     "text": [
      "\u001b[32m[0503 11:52:01 @monitor.py:467]\u001b[0m GAN_loss/discrim/accuracy_fake: 0.93\n",
      "\u001b[32m[0503 11:52:01 @monitor.py:467]\u001b[0m GAN_loss/discrim/accuracy_real: 0.1\n",
      "\u001b[32m[0503 11:52:01 @monitor.py:467]\u001b[0m GAN_loss/discrim/loss: 0.64215\n",
      "\u001b[32m[0503 11:52:01 @monitor.py:467]\u001b[0m GAN_loss/gen/final-g-loss: 1.0617\n",
      "\u001b[32m[0503 11:52:01 @monitor.py:467]\u001b[0m GAN_loss/gen/klloss: 0.12912\n",
      "\u001b[32m[0503 11:52:01 @monitor.py:467]\u001b[0m GAN_loss/gen/loss: 0.93256\n",
      "\u001b[32m[0503 11:52:01 @monitor.py:467]\u001b[0m QueueInput/queue_size: 50\n",
      "\u001b[32m[0503 11:52:01 @base.py:275]\u001b[0m Start Epoch 966 ...\n"
     ]
    },
    {
     "name": "stderr",
     "output_type": "stream",
     "text": [
      "100%|#################################################################################|2000/2000[00:32<00:00,61.56it/s]"
     ]
    },
    {
     "name": "stdout",
     "output_type": "stream",
     "text": [
      "\u001b[32m[0503 11:52:34 @base.py:285]\u001b[0m Epoch 966 (global_step 1932000) finished, time:32.5 seconds.\n"
     ]
    },
    {
     "name": "stderr",
     "output_type": "stream",
     "text": [
      "\n"
     ]
    },
    {
     "name": "stdout",
     "output_type": "stream",
     "text": [
      "\u001b[32m[0503 11:52:34 @saver.py:79]\u001b[0m Model saved to ../output/DATGAN_PRELSTM_small/model\\model-1932000.\n",
      "\u001b[32m[0503 11:52:34 @monitor.py:467]\u001b[0m GAN_loss/discrim/accuracy_fake: 0.975\n",
      "\u001b[32m[0503 11:52:34 @monitor.py:467]\u001b[0m GAN_loss/discrim/accuracy_real: 0.11\n",
      "\u001b[32m[0503 11:52:34 @monitor.py:467]\u001b[0m GAN_loss/discrim/loss: 0.64542\n",
      "\u001b[32m[0503 11:52:34 @monitor.py:467]\u001b[0m GAN_loss/gen/final-g-loss: 1.0636\n",
      "\u001b[32m[0503 11:52:34 @monitor.py:467]\u001b[0m GAN_loss/gen/klloss: 0.1256\n",
      "\u001b[32m[0503 11:52:34 @monitor.py:467]\u001b[0m GAN_loss/gen/loss: 0.93804\n",
      "\u001b[32m[0503 11:52:34 @monitor.py:467]\u001b[0m QueueInput/queue_size: 50\n",
      "\u001b[32m[0503 11:52:34 @base.py:275]\u001b[0m Start Epoch 967 ...\n"
     ]
    },
    {
     "name": "stderr",
     "output_type": "stream",
     "text": [
      "100%|#################################################################################|2000/2000[00:32<00:00,61.75it/s]"
     ]
    },
    {
     "name": "stdout",
     "output_type": "stream",
     "text": [
      "\u001b[32m[0503 11:53:06 @base.py:285]\u001b[0m Epoch 967 (global_step 1934000) finished, time:32.4 seconds.\n",
      "\u001b[32m[0503 11:53:06 @saver.py:79]\u001b[0m Model saved to ../output/DATGAN_PRELSTM_small/model\\model-1934000.\n"
     ]
    },
    {
     "name": "stderr",
     "output_type": "stream",
     "text": [
      "\n"
     ]
    },
    {
     "name": "stdout",
     "output_type": "stream",
     "text": [
      "\u001b[32m[0503 11:53:06 @monitor.py:467]\u001b[0m GAN_loss/discrim/accuracy_fake: 0.94\n",
      "\u001b[32m[0503 11:53:06 @monitor.py:467]\u001b[0m GAN_loss/discrim/accuracy_real: 0.1\n",
      "\u001b[32m[0503 11:53:06 @monitor.py:467]\u001b[0m GAN_loss/discrim/loss: 0.64448\n",
      "\u001b[32m[0503 11:53:06 @monitor.py:467]\u001b[0m GAN_loss/gen/final-g-loss: 1.0551\n",
      "\u001b[32m[0503 11:53:06 @monitor.py:467]\u001b[0m GAN_loss/gen/klloss: 0.10883\n",
      "\u001b[32m[0503 11:53:06 @monitor.py:467]\u001b[0m GAN_loss/gen/loss: 0.94628\n",
      "\u001b[32m[0503 11:53:06 @monitor.py:467]\u001b[0m QueueInput/queue_size: 50\n",
      "\u001b[32m[0503 11:53:06 @base.py:275]\u001b[0m Start Epoch 968 ...\n"
     ]
    },
    {
     "name": "stderr",
     "output_type": "stream",
     "text": [
      "100%|#################################################################################|2000/2000[00:32<00:00,61.96it/s]"
     ]
    },
    {
     "name": "stdout",
     "output_type": "stream",
     "text": [
      "\u001b[32m[0503 11:53:39 @base.py:285]\u001b[0m Epoch 968 (global_step 1936000) finished, time:32.3 seconds.\n",
      "\u001b[32m[0503 11:53:39 @saver.py:79]\u001b[0m Model saved to ../output/DATGAN_PRELSTM_small/model\\model-1936000.\n"
     ]
    },
    {
     "name": "stderr",
     "output_type": "stream",
     "text": [
      "\n"
     ]
    },
    {
     "name": "stdout",
     "output_type": "stream",
     "text": [
      "\u001b[32m[0503 11:53:39 @monitor.py:467]\u001b[0m GAN_loss/discrim/accuracy_fake: 0.965\n",
      "\u001b[32m[0503 11:53:39 @monitor.py:467]\u001b[0m GAN_loss/discrim/accuracy_real: 0.1\n",
      "\u001b[32m[0503 11:53:39 @monitor.py:467]\u001b[0m GAN_loss/discrim/loss: 0.64577\n",
      "\u001b[32m[0503 11:53:39 @monitor.py:467]\u001b[0m GAN_loss/gen/final-g-loss: 1.0176\n",
      "\u001b[32m[0503 11:53:39 @monitor.py:467]\u001b[0m GAN_loss/gen/klloss: 0.086153\n",
      "\u001b[32m[0503 11:53:39 @monitor.py:467]\u001b[0m GAN_loss/gen/loss: 0.93143\n",
      "\u001b[32m[0503 11:53:39 @monitor.py:467]\u001b[0m QueueInput/queue_size: 50\n",
      "\u001b[32m[0503 11:53:39 @base.py:275]\u001b[0m Start Epoch 969 ...\n"
     ]
    },
    {
     "name": "stderr",
     "output_type": "stream",
     "text": [
      "100%|#################################################################################|2000/2000[00:32<00:00,61.88it/s]"
     ]
    },
    {
     "name": "stdout",
     "output_type": "stream",
     "text": [
      "\u001b[32m[0503 11:54:11 @base.py:285]\u001b[0m Epoch 969 (global_step 1938000) finished, time:32.3 seconds.\n"
     ]
    },
    {
     "name": "stderr",
     "output_type": "stream",
     "text": [
      "\n"
     ]
    },
    {
     "name": "stdout",
     "output_type": "stream",
     "text": [
      "\u001b[32m[0503 11:54:11 @saver.py:79]\u001b[0m Model saved to ../output/DATGAN_PRELSTM_small/model\\model-1938000.\n",
      "\u001b[32m[0503 11:54:11 @monitor.py:467]\u001b[0m GAN_loss/discrim/accuracy_fake: 0.935\n",
      "\u001b[32m[0503 11:54:11 @monitor.py:467]\u001b[0m GAN_loss/discrim/accuracy_real: 0.05\n",
      "\u001b[32m[0503 11:54:11 @monitor.py:467]\u001b[0m GAN_loss/discrim/loss: 0.65487\n",
      "\u001b[32m[0503 11:54:11 @monitor.py:467]\u001b[0m GAN_loss/gen/final-g-loss: 1.048\n",
      "\u001b[32m[0503 11:54:11 @monitor.py:467]\u001b[0m GAN_loss/gen/klloss: 0.12112\n",
      "\u001b[32m[0503 11:54:11 @monitor.py:467]\u001b[0m GAN_loss/gen/loss: 0.92684\n",
      "\u001b[32m[0503 11:54:11 @monitor.py:467]\u001b[0m QueueInput/queue_size: 50\n",
      "\u001b[32m[0503 11:54:11 @base.py:275]\u001b[0m Start Epoch 970 ...\n"
     ]
    },
    {
     "name": "stderr",
     "output_type": "stream",
     "text": [
      "100%|#################################################################################|2000/2000[00:32<00:00,61.68it/s]"
     ]
    },
    {
     "name": "stdout",
     "output_type": "stream",
     "text": [
      "\u001b[32m[0503 11:54:44 @base.py:285]\u001b[0m Epoch 970 (global_step 1940000) finished, time:32.4 seconds.\n",
      "\u001b[32m[0503 11:54:44 @saver.py:79]\u001b[0m Model saved to ../output/DATGAN_PRELSTM_small/model\\model-1940000.\n"
     ]
    },
    {
     "name": "stderr",
     "output_type": "stream",
     "text": [
      "\n"
     ]
    },
    {
     "name": "stdout",
     "output_type": "stream",
     "text": [
      "\u001b[32m[0503 11:54:44 @monitor.py:467]\u001b[0m GAN_loss/discrim/accuracy_fake: 0.95\n",
      "\u001b[32m[0503 11:54:44 @monitor.py:467]\u001b[0m GAN_loss/discrim/accuracy_real: 0.09\n",
      "\u001b[32m[0503 11:54:44 @monitor.py:467]\u001b[0m GAN_loss/discrim/loss: 0.63206\n",
      "\u001b[32m[0503 11:54:44 @monitor.py:467]\u001b[0m GAN_loss/gen/final-g-loss: 1.0541\n",
      "\u001b[32m[0503 11:54:44 @monitor.py:467]\u001b[0m GAN_loss/gen/klloss: 0.097268\n",
      "\u001b[32m[0503 11:54:44 @monitor.py:467]\u001b[0m GAN_loss/gen/loss: 0.95679\n",
      "\u001b[32m[0503 11:54:44 @monitor.py:467]\u001b[0m QueueInput/queue_size: 50\n",
      "\u001b[32m[0503 11:54:44 @base.py:275]\u001b[0m Start Epoch 971 ...\n"
     ]
    },
    {
     "name": "stderr",
     "output_type": "stream",
     "text": [
      "100%|#################################################################################|2000/2000[00:32<00:00,61.17it/s]"
     ]
    },
    {
     "name": "stdout",
     "output_type": "stream",
     "text": [
      "\u001b[32m[0503 11:55:17 @base.py:285]\u001b[0m Epoch 971 (global_step 1942000) finished, time:32.7 seconds.\n",
      "\u001b[32m[0503 11:55:17 @saver.py:79]\u001b[0m Model saved to ../output/DATGAN_PRELSTM_small/model\\model-1942000.\n",
      "\u001b[32m[0503 11:55:17 @monitor.py:467]\u001b[0m GAN_loss/discrim/accuracy_fake: 0.93\n"
     ]
    },
    {
     "name": "stderr",
     "output_type": "stream",
     "text": [
      "\n"
     ]
    },
    {
     "name": "stdout",
     "output_type": "stream",
     "text": [
      "\u001b[32m[0503 11:55:17 @monitor.py:467]\u001b[0m GAN_loss/discrim/accuracy_real: 0.09\n",
      "\u001b[32m[0503 11:55:17 @monitor.py:467]\u001b[0m GAN_loss/discrim/loss: 0.65355\n",
      "\u001b[32m[0503 11:55:17 @monitor.py:467]\u001b[0m GAN_loss/gen/final-g-loss: 1.0169\n",
      "\u001b[32m[0503 11:55:17 @monitor.py:467]\u001b[0m GAN_loss/gen/klloss: 0.094682\n",
      "\u001b[32m[0503 11:55:17 @monitor.py:467]\u001b[0m GAN_loss/gen/loss: 0.92226\n",
      "\u001b[32m[0503 11:55:17 @monitor.py:467]\u001b[0m QueueInput/queue_size: 50\n",
      "\u001b[32m[0503 11:55:17 @base.py:275]\u001b[0m Start Epoch 972 ...\n"
     ]
    },
    {
     "name": "stderr",
     "output_type": "stream",
     "text": [
      "100%|#################################################################################|2000/2000[00:31<00:00,62.69it/s]"
     ]
    },
    {
     "name": "stdout",
     "output_type": "stream",
     "text": [
      "\u001b[32m[0503 11:55:49 @base.py:285]\u001b[0m Epoch 972 (global_step 1944000) finished, time:31.9 seconds.\n",
      "\u001b[32m[0503 11:55:49 @saver.py:79]\u001b[0m Model saved to ../output/DATGAN_PRELSTM_small/model\\model-1944000.\n",
      "\u001b[32m[0503 11:55:49 @monitor.py:467]\u001b[0m GAN_loss/discrim/accuracy_fake: 0.965\n"
     ]
    },
    {
     "name": "stderr",
     "output_type": "stream",
     "text": [
      "\n"
     ]
    },
    {
     "name": "stdout",
     "output_type": "stream",
     "text": [
      "\u001b[32m[0503 11:55:49 @monitor.py:467]\u001b[0m GAN_loss/discrim/accuracy_real: 0.04\n",
      "\u001b[32m[0503 11:55:49 @monitor.py:467]\u001b[0m GAN_loss/discrim/loss: 0.64613\n",
      "\u001b[32m[0503 11:55:49 @monitor.py:467]\u001b[0m GAN_loss/gen/final-g-loss: 1.0198\n",
      "\u001b[32m[0503 11:55:49 @monitor.py:467]\u001b[0m GAN_loss/gen/klloss: 0.079224\n",
      "\u001b[32m[0503 11:55:49 @monitor.py:467]\u001b[0m GAN_loss/gen/loss: 0.94053\n",
      "\u001b[32m[0503 11:55:49 @monitor.py:467]\u001b[0m QueueInput/queue_size: 50\n",
      "\u001b[32m[0503 11:55:49 @base.py:275]\u001b[0m Start Epoch 973 ...\n"
     ]
    },
    {
     "name": "stderr",
     "output_type": "stream",
     "text": [
      "100%|#################################################################################|2000/2000[00:31<00:00,63.17it/s]"
     ]
    },
    {
     "name": "stdout",
     "output_type": "stream",
     "text": [
      "\u001b[32m[0503 11:56:21 @base.py:285]\u001b[0m Epoch 973 (global_step 1946000) finished, time:31.7 seconds.\n",
      "\u001b[32m[0503 11:56:21 @saver.py:79]\u001b[0m Model saved to ../output/DATGAN_PRELSTM_small/model\\model-1946000.\n",
      "\u001b[32m[0503 11:56:21 @monitor.py:467]\u001b[0m GAN_loss/discrim/accuracy_fake: 0.975\n"
     ]
    },
    {
     "name": "stderr",
     "output_type": "stream",
     "text": [
      "\n"
     ]
    },
    {
     "name": "stdout",
     "output_type": "stream",
     "text": [
      "\u001b[32m[0503 11:56:21 @monitor.py:467]\u001b[0m GAN_loss/discrim/accuracy_real: 0.09\n",
      "\u001b[32m[0503 11:56:21 @monitor.py:467]\u001b[0m GAN_loss/discrim/loss: 0.6467\n",
      "\u001b[32m[0503 11:56:21 @monitor.py:467]\u001b[0m GAN_loss/gen/final-g-loss: 0.99809\n",
      "\u001b[32m[0503 11:56:21 @monitor.py:467]\u001b[0m GAN_loss/gen/klloss: 0.062912\n",
      "\u001b[32m[0503 11:56:21 @monitor.py:467]\u001b[0m GAN_loss/gen/loss: 0.93518\n",
      "\u001b[32m[0503 11:56:21 @monitor.py:467]\u001b[0m QueueInput/queue_size: 50\n",
      "\u001b[32m[0503 11:56:21 @base.py:275]\u001b[0m Start Epoch 974 ...\n"
     ]
    },
    {
     "name": "stderr",
     "output_type": "stream",
     "text": [
      "100%|#################################################################################|2000/2000[00:31<00:00,63.14it/s]"
     ]
    },
    {
     "name": "stdout",
     "output_type": "stream",
     "text": [
      "\u001b[32m[0503 11:56:53 @base.py:285]\u001b[0m Epoch 974 (global_step 1948000) finished, time:31.7 seconds.\n",
      "\u001b[32m[0503 11:56:53 @saver.py:79]\u001b[0m Model saved to ../output/DATGAN_PRELSTM_small/model\\model-1948000.\n",
      "\u001b[32m[0503 11:56:53 @monitor.py:467]\u001b[0m GAN_loss/discrim/accuracy_fake: 0.93\n"
     ]
    },
    {
     "name": "stderr",
     "output_type": "stream",
     "text": [
      "\n"
     ]
    },
    {
     "name": "stdout",
     "output_type": "stream",
     "text": [
      "\u001b[32m[0503 11:56:53 @monitor.py:467]\u001b[0m GAN_loss/discrim/accuracy_real: 0.09\n",
      "\u001b[32m[0503 11:56:53 @monitor.py:467]\u001b[0m GAN_loss/discrim/loss: 0.65174\n",
      "\u001b[32m[0503 11:56:53 @monitor.py:467]\u001b[0m GAN_loss/gen/final-g-loss: 1.0622\n",
      "\u001b[32m[0503 11:56:53 @monitor.py:467]\u001b[0m GAN_loss/gen/klloss: 0.12742\n",
      "\u001b[32m[0503 11:56:53 @monitor.py:467]\u001b[0m GAN_loss/gen/loss: 0.9348\n",
      "\u001b[32m[0503 11:56:53 @monitor.py:467]\u001b[0m QueueInput/queue_size: 50\n",
      "\u001b[32m[0503 11:56:53 @base.py:275]\u001b[0m Start Epoch 975 ...\n"
     ]
    },
    {
     "name": "stderr",
     "output_type": "stream",
     "text": [
      "100%|#################################################################################|2000/2000[00:31<00:00,63.17it/s]"
     ]
    },
    {
     "name": "stdout",
     "output_type": "stream",
     "text": [
      "\u001b[32m[0503 11:57:24 @base.py:285]\u001b[0m Epoch 975 (global_step 1950000) finished, time:31.7 seconds.\n",
      "\u001b[32m[0503 11:57:25 @saver.py:79]\u001b[0m Model saved to ../output/DATGAN_PRELSTM_small/model\\model-1950000.\n",
      "\u001b[32m[0503 11:57:25 @monitor.py:467]\u001b[0m GAN_loss/discrim/accuracy_fake: 0.98\n"
     ]
    },
    {
     "name": "stderr",
     "output_type": "stream",
     "text": [
      "\n"
     ]
    },
    {
     "name": "stdout",
     "output_type": "stream",
     "text": [
      "\u001b[32m[0503 11:57:25 @monitor.py:467]\u001b[0m GAN_loss/discrim/accuracy_real: 0.065\n",
      "\u001b[32m[0503 11:57:25 @monitor.py:467]\u001b[0m GAN_loss/discrim/loss: 0.63603\n",
      "\u001b[32m[0503 11:57:25 @monitor.py:467]\u001b[0m GAN_loss/gen/final-g-loss: 1.0532\n",
      "\u001b[32m[0503 11:57:25 @monitor.py:467]\u001b[0m GAN_loss/gen/klloss: 0.10383\n",
      "\u001b[32m[0503 11:57:25 @monitor.py:467]\u001b[0m GAN_loss/gen/loss: 0.9494\n",
      "\u001b[32m[0503 11:57:25 @monitor.py:467]\u001b[0m QueueInput/queue_size: 50\n",
      "\u001b[32m[0503 11:57:25 @base.py:275]\u001b[0m Start Epoch 976 ...\n"
     ]
    },
    {
     "name": "stderr",
     "output_type": "stream",
     "text": [
      "100%|#################################################################################|2000/2000[00:31<00:00,63.18it/s]"
     ]
    },
    {
     "name": "stdout",
     "output_type": "stream",
     "text": [
      "\u001b[32m[0503 11:57:56 @base.py:285]\u001b[0m Epoch 976 (global_step 1952000) finished, time:31.7 seconds.\n",
      "\u001b[32m[0503 11:57:56 @saver.py:79]\u001b[0m Model saved to ../output/DATGAN_PRELSTM_small/model\\model-1952000.\n",
      "\u001b[32m[0503 11:57:57 @monitor.py:467]\u001b[0m GAN_loss/discrim/accuracy_fake: 0.965\n"
     ]
    },
    {
     "name": "stderr",
     "output_type": "stream",
     "text": [
      "\n"
     ]
    },
    {
     "name": "stdout",
     "output_type": "stream",
     "text": [
      "\u001b[32m[0503 11:57:57 @monitor.py:467]\u001b[0m GAN_loss/discrim/accuracy_real: 0.08\n",
      "\u001b[32m[0503 11:57:57 @monitor.py:467]\u001b[0m GAN_loss/discrim/loss: 0.64097\n",
      "\u001b[32m[0503 11:57:57 @monitor.py:467]\u001b[0m GAN_loss/gen/final-g-loss: 1.0389\n",
      "\u001b[32m[0503 11:57:57 @monitor.py:467]\u001b[0m GAN_loss/gen/klloss: 0.075768\n",
      "\u001b[32m[0503 11:57:57 @monitor.py:467]\u001b[0m GAN_loss/gen/loss: 0.96316\n",
      "\u001b[32m[0503 11:57:57 @monitor.py:467]\u001b[0m QueueInput/queue_size: 50\n",
      "\u001b[32m[0503 11:57:57 @base.py:275]\u001b[0m Start Epoch 977 ...\n"
     ]
    },
    {
     "name": "stderr",
     "output_type": "stream",
     "text": [
      "100%|#################################################################################|2000/2000[00:31<00:00,63.23it/s]"
     ]
    },
    {
     "name": "stdout",
     "output_type": "stream",
     "text": [
      "\u001b[32m[0503 11:58:28 @base.py:285]\u001b[0m Epoch 977 (global_step 1954000) finished, time:31.6 seconds.\n",
      "\u001b[32m[0503 11:58:28 @saver.py:79]\u001b[0m Model saved to ../output/DATGAN_PRELSTM_small/model\\model-1954000.\n",
      "\u001b[32m[0503 11:58:28 @monitor.py:467]\u001b[0m GAN_loss/discrim/accuracy_fake: 0.97\n"
     ]
    },
    {
     "name": "stderr",
     "output_type": "stream",
     "text": [
      "\n"
     ]
    },
    {
     "name": "stdout",
     "output_type": "stream",
     "text": [
      "\u001b[32m[0503 11:58:28 @monitor.py:467]\u001b[0m GAN_loss/discrim/accuracy_real: 0.11\n",
      "\u001b[32m[0503 11:58:28 @monitor.py:467]\u001b[0m GAN_loss/discrim/loss: 0.64764\n",
      "\u001b[32m[0503 11:58:28 @monitor.py:467]\u001b[0m GAN_loss/gen/final-g-loss: 1.0459\n",
      "\u001b[32m[0503 11:58:28 @monitor.py:467]\u001b[0m GAN_loss/gen/klloss: 0.112\n",
      "\u001b[32m[0503 11:58:28 @monitor.py:467]\u001b[0m GAN_loss/gen/loss: 0.93389\n",
      "\u001b[32m[0503 11:58:28 @monitor.py:467]\u001b[0m QueueInput/queue_size: 50\n",
      "\u001b[32m[0503 11:58:28 @base.py:275]\u001b[0m Start Epoch 978 ...\n"
     ]
    },
    {
     "name": "stderr",
     "output_type": "stream",
     "text": [
      "100%|#################################################################################|2000/2000[00:31<00:00,63.10it/s]"
     ]
    },
    {
     "name": "stdout",
     "output_type": "stream",
     "text": [
      "\u001b[32m[0503 11:59:00 @base.py:285]\u001b[0m Epoch 978 (global_step 1956000) finished, time:31.7 seconds.\n",
      "\u001b[32m[0503 11:59:00 @saver.py:79]\u001b[0m Model saved to ../output/DATGAN_PRELSTM_small/model\\model-1956000.\n"
     ]
    },
    {
     "name": "stderr",
     "output_type": "stream",
     "text": [
      "\n"
     ]
    },
    {
     "name": "stdout",
     "output_type": "stream",
     "text": [
      "\u001b[32m[0503 11:59:00 @monitor.py:467]\u001b[0m GAN_loss/discrim/accuracy_fake: 0.95\n",
      "\u001b[32m[0503 11:59:00 @monitor.py:467]\u001b[0m GAN_loss/discrim/accuracy_real: 0.11\n",
      "\u001b[32m[0503 11:59:00 @monitor.py:467]\u001b[0m GAN_loss/discrim/loss: 0.63965\n",
      "\u001b[32m[0503 11:59:00 @monitor.py:467]\u001b[0m GAN_loss/gen/final-g-loss: 1.0518\n",
      "\u001b[32m[0503 11:59:00 @monitor.py:467]\u001b[0m GAN_loss/gen/klloss: 0.10494\n",
      "\u001b[32m[0503 11:59:00 @monitor.py:467]\u001b[0m GAN_loss/gen/loss: 0.94683\n",
      "\u001b[32m[0503 11:59:00 @monitor.py:467]\u001b[0m QueueInput/queue_size: 50\n",
      "\u001b[32m[0503 11:59:00 @base.py:275]\u001b[0m Start Epoch 979 ...\n"
     ]
    },
    {
     "name": "stderr",
     "output_type": "stream",
     "text": [
      "100%|#################################################################################|2000/2000[00:31<00:00,63.19it/s]"
     ]
    },
    {
     "name": "stdout",
     "output_type": "stream",
     "text": [
      "\u001b[32m[0503 11:59:32 @base.py:285]\u001b[0m Epoch 979 (global_step 1958000) finished, time:31.7 seconds.\n",
      "\u001b[32m[0503 11:59:32 @saver.py:79]\u001b[0m Model saved to ../output/DATGAN_PRELSTM_small/model\\model-1958000.\n"
     ]
    },
    {
     "name": "stderr",
     "output_type": "stream",
     "text": [
      "\n"
     ]
    },
    {
     "name": "stdout",
     "output_type": "stream",
     "text": [
      "\u001b[32m[0503 11:59:32 @monitor.py:467]\u001b[0m GAN_loss/discrim/accuracy_fake: 0.965\n",
      "\u001b[32m[0503 11:59:32 @monitor.py:467]\u001b[0m GAN_loss/discrim/accuracy_real: 0.065\n",
      "\u001b[32m[0503 11:59:32 @monitor.py:467]\u001b[0m GAN_loss/discrim/loss: 0.6557\n",
      "\u001b[32m[0503 11:59:32 @monitor.py:467]\u001b[0m GAN_loss/gen/final-g-loss: 1.0278\n",
      "\u001b[32m[0503 11:59:32 @monitor.py:467]\u001b[0m GAN_loss/gen/klloss: 0.090343\n",
      "\u001b[32m[0503 11:59:32 @monitor.py:467]\u001b[0m GAN_loss/gen/loss: 0.93741\n",
      "\u001b[32m[0503 11:59:32 @monitor.py:467]\u001b[0m QueueInput/queue_size: 50\n",
      "\u001b[32m[0503 11:59:32 @base.py:275]\u001b[0m Start Epoch 980 ...\n"
     ]
    },
    {
     "name": "stderr",
     "output_type": "stream",
     "text": [
      "100%|#################################################################################|2000/2000[00:31<00:00,63.21it/s]"
     ]
    },
    {
     "name": "stdout",
     "output_type": "stream",
     "text": [
      "\u001b[32m[0503 12:00:04 @base.py:285]\u001b[0m Epoch 980 (global_step 1960000) finished, time:31.6 seconds.\n",
      "\u001b[32m[0503 12:00:04 @saver.py:79]\u001b[0m Model saved to ../output/DATGAN_PRELSTM_small/model\\model-1960000.\n"
     ]
    },
    {
     "name": "stderr",
     "output_type": "stream",
     "text": [
      "\n"
     ]
    },
    {
     "name": "stdout",
     "output_type": "stream",
     "text": [
      "\u001b[32m[0503 12:00:04 @monitor.py:467]\u001b[0m GAN_loss/discrim/accuracy_fake: 0.98\n",
      "\u001b[32m[0503 12:00:04 @monitor.py:467]\u001b[0m GAN_loss/discrim/accuracy_real: 0.09\n",
      "\u001b[32m[0503 12:00:04 @monitor.py:467]\u001b[0m GAN_loss/discrim/loss: 0.63877\n",
      "\u001b[32m[0503 12:00:04 @monitor.py:467]\u001b[0m GAN_loss/gen/final-g-loss: 1.0229\n",
      "\u001b[32m[0503 12:00:04 @monitor.py:467]\u001b[0m GAN_loss/gen/klloss: 0.080489\n",
      "\u001b[32m[0503 12:00:04 @monitor.py:467]\u001b[0m GAN_loss/gen/loss: 0.9424\n",
      "\u001b[32m[0503 12:00:04 @monitor.py:467]\u001b[0m QueueInput/queue_size: 50\n",
      "\u001b[32m[0503 12:00:04 @base.py:275]\u001b[0m Start Epoch 981 ...\n"
     ]
    },
    {
     "name": "stderr",
     "output_type": "stream",
     "text": [
      "100%|#################################################################################|2000/2000[00:31<00:00,63.20it/s]"
     ]
    },
    {
     "name": "stdout",
     "output_type": "stream",
     "text": [
      "\u001b[32m[0503 12:00:36 @base.py:285]\u001b[0m Epoch 981 (global_step 1962000) finished, time:31.6 seconds.\n",
      "\u001b[32m[0503 12:00:36 @saver.py:79]\u001b[0m Model saved to ../output/DATGAN_PRELSTM_small/model\\model-1962000.\n"
     ]
    },
    {
     "name": "stderr",
     "output_type": "stream",
     "text": [
      "\n"
     ]
    },
    {
     "name": "stdout",
     "output_type": "stream",
     "text": [
      "\u001b[32m[0503 12:00:36 @monitor.py:467]\u001b[0m GAN_loss/discrim/accuracy_fake: 0.95\n",
      "\u001b[32m[0503 12:00:36 @monitor.py:467]\u001b[0m GAN_loss/discrim/accuracy_real: 0.095\n",
      "\u001b[32m[0503 12:00:36 @monitor.py:467]\u001b[0m GAN_loss/discrim/loss: 0.63685\n",
      "\u001b[32m[0503 12:00:36 @monitor.py:467]\u001b[0m GAN_loss/gen/final-g-loss: 1.0683\n",
      "\u001b[32m[0503 12:00:36 @monitor.py:467]\u001b[0m GAN_loss/gen/klloss: 0.12982\n",
      "\u001b[32m[0503 12:00:36 @monitor.py:467]\u001b[0m GAN_loss/gen/loss: 0.93852\n",
      "\u001b[32m[0503 12:00:36 @monitor.py:467]\u001b[0m QueueInput/queue_size: 50\n",
      "\u001b[32m[0503 12:00:36 @base.py:275]\u001b[0m Start Epoch 982 ...\n"
     ]
    },
    {
     "name": "stderr",
     "output_type": "stream",
     "text": [
      "100%|#################################################################################|2000/2000[00:31<00:00,63.13it/s]"
     ]
    },
    {
     "name": "stdout",
     "output_type": "stream",
     "text": [
      "\u001b[32m[0503 12:01:08 @base.py:285]\u001b[0m Epoch 982 (global_step 1964000) finished, time:31.7 seconds.\n",
      "\u001b[32m[0503 12:01:08 @saver.py:79]\u001b[0m Model saved to ../output/DATGAN_PRELSTM_small/model\\model-1964000.\n",
      "\u001b[32m[0503 12:01:08 @monitor.py:467]\u001b[0m GAN_loss/discrim/accuracy_fake: 0.985\n"
     ]
    },
    {
     "name": "stderr",
     "output_type": "stream",
     "text": [
      "\n"
     ]
    },
    {
     "name": "stdout",
     "output_type": "stream",
     "text": [
      "\u001b[32m[0503 12:01:08 @monitor.py:467]\u001b[0m GAN_loss/discrim/accuracy_real: 0.085\n",
      "\u001b[32m[0503 12:01:08 @monitor.py:467]\u001b[0m GAN_loss/discrim/loss: 0.63797\n",
      "\u001b[32m[0503 12:01:08 @monitor.py:467]\u001b[0m GAN_loss/gen/final-g-loss: 1.036\n",
      "\u001b[32m[0503 12:01:08 @monitor.py:467]\u001b[0m GAN_loss/gen/klloss: 0.093614\n",
      "\u001b[32m[0503 12:01:08 @monitor.py:467]\u001b[0m GAN_loss/gen/loss: 0.94236\n",
      "\u001b[32m[0503 12:01:08 @monitor.py:467]\u001b[0m QueueInput/queue_size: 50\n",
      "\u001b[32m[0503 12:01:08 @base.py:275]\u001b[0m Start Epoch 983 ...\n"
     ]
    },
    {
     "name": "stderr",
     "output_type": "stream",
     "text": [
      "100%|#################################################################################|2000/2000[00:31<00:00,63.22it/s]"
     ]
    },
    {
     "name": "stdout",
     "output_type": "stream",
     "text": [
      "\u001b[32m[0503 12:01:39 @base.py:285]\u001b[0m Epoch 983 (global_step 1966000) finished, time:31.6 seconds.\n",
      "\u001b[32m[0503 12:01:39 @saver.py:79]\u001b[0m Model saved to ../output/DATGAN_PRELSTM_small/model\\model-1966000.\n"
     ]
    },
    {
     "name": "stderr",
     "output_type": "stream",
     "text": [
      "\n"
     ]
    },
    {
     "name": "stdout",
     "output_type": "stream",
     "text": [
      "\u001b[32m[0503 12:01:40 @monitor.py:467]\u001b[0m GAN_loss/discrim/accuracy_fake: 0.93\n",
      "\u001b[32m[0503 12:01:40 @monitor.py:467]\u001b[0m GAN_loss/discrim/accuracy_real: 0.09\n",
      "\u001b[32m[0503 12:01:40 @monitor.py:467]\u001b[0m GAN_loss/discrim/loss: 0.64558\n",
      "\u001b[32m[0503 12:01:40 @monitor.py:467]\u001b[0m GAN_loss/gen/final-g-loss: 1.0251\n",
      "\u001b[32m[0503 12:01:40 @monitor.py:467]\u001b[0m GAN_loss/gen/klloss: 0.086381\n",
      "\u001b[32m[0503 12:01:40 @monitor.py:467]\u001b[0m GAN_loss/gen/loss: 0.93874\n",
      "\u001b[32m[0503 12:01:40 @monitor.py:467]\u001b[0m QueueInput/queue_size: 50\n",
      "\u001b[32m[0503 12:01:40 @base.py:275]\u001b[0m Start Epoch 984 ...\n"
     ]
    },
    {
     "name": "stderr",
     "output_type": "stream",
     "text": [
      "100%|#################################################################################|2000/2000[00:31<00:00,63.25it/s]"
     ]
    },
    {
     "name": "stdout",
     "output_type": "stream",
     "text": [
      "\u001b[32m[0503 12:02:11 @base.py:285]\u001b[0m Epoch 984 (global_step 1968000) finished, time:31.6 seconds.\n",
      "\u001b[32m[0503 12:02:11 @saver.py:79]\u001b[0m Model saved to ../output/DATGAN_PRELSTM_small/model\\model-1968000.\n",
      "\u001b[32m[0503 12:02:11 @monitor.py:467]\u001b[0m GAN_loss/discrim/accuracy_fake: 0.965\n"
     ]
    },
    {
     "name": "stderr",
     "output_type": "stream",
     "text": [
      "\n"
     ]
    },
    {
     "name": "stdout",
     "output_type": "stream",
     "text": [
      "\u001b[32m[0503 12:02:11 @monitor.py:467]\u001b[0m GAN_loss/discrim/accuracy_real: 0.085\n",
      "\u001b[32m[0503 12:02:11 @monitor.py:467]\u001b[0m GAN_loss/discrim/loss: 0.63902\n",
      "\u001b[32m[0503 12:02:11 @monitor.py:467]\u001b[0m GAN_loss/gen/final-g-loss: 1.0203\n",
      "\u001b[32m[0503 12:02:11 @monitor.py:467]\u001b[0m GAN_loss/gen/klloss: 0.075566\n",
      "\u001b[32m[0503 12:02:11 @monitor.py:467]\u001b[0m GAN_loss/gen/loss: 0.94471\n",
      "\u001b[32m[0503 12:02:11 @monitor.py:467]\u001b[0m QueueInput/queue_size: 50\n",
      "\u001b[32m[0503 12:02:11 @base.py:275]\u001b[0m Start Epoch 985 ...\n"
     ]
    },
    {
     "name": "stderr",
     "output_type": "stream",
     "text": [
      "100%|#################################################################################|2000/2000[00:31<00:00,63.17it/s]"
     ]
    },
    {
     "name": "stdout",
     "output_type": "stream",
     "text": [
      "\u001b[32m[0503 12:02:43 @base.py:285]\u001b[0m Epoch 985 (global_step 1970000) finished, time:31.7 seconds.\n",
      "\u001b[32m[0503 12:02:43 @saver.py:79]\u001b[0m Model saved to ../output/DATGAN_PRELSTM_small/model\\model-1970000.\n"
     ]
    },
    {
     "name": "stderr",
     "output_type": "stream",
     "text": [
      "\n"
     ]
    },
    {
     "name": "stdout",
     "output_type": "stream",
     "text": [
      "\u001b[32m[0503 12:02:43 @monitor.py:467]\u001b[0m GAN_loss/discrim/accuracy_fake: 0.965\n",
      "\u001b[32m[0503 12:02:43 @monitor.py:467]\u001b[0m GAN_loss/discrim/accuracy_real: 0.085\n",
      "\u001b[32m[0503 12:02:43 @monitor.py:467]\u001b[0m GAN_loss/discrim/loss: 0.64419\n",
      "\u001b[32m[0503 12:02:43 @monitor.py:467]\u001b[0m GAN_loss/gen/final-g-loss: 1.0844\n",
      "\u001b[32m[0503 12:02:43 @monitor.py:467]\u001b[0m GAN_loss/gen/klloss: 0.12675\n",
      "\u001b[32m[0503 12:02:43 @monitor.py:467]\u001b[0m GAN_loss/gen/loss: 0.9577\n",
      "\u001b[32m[0503 12:02:43 @monitor.py:467]\u001b[0m QueueInput/queue_size: 50\n",
      "\u001b[32m[0503 12:02:43 @base.py:275]\u001b[0m Start Epoch 986 ...\n"
     ]
    },
    {
     "name": "stderr",
     "output_type": "stream",
     "text": [
      "100%|#################################################################################|2000/2000[00:31<00:00,63.16it/s]"
     ]
    },
    {
     "name": "stdout",
     "output_type": "stream",
     "text": [
      "\u001b[32m[0503 12:03:15 @base.py:285]\u001b[0m Epoch 986 (global_step 1972000) finished, time:31.7 seconds.\n",
      "\u001b[32m[0503 12:03:15 @saver.py:79]\u001b[0m Model saved to ../output/DATGAN_PRELSTM_small/model\\model-1972000.\n"
     ]
    },
    {
     "name": "stderr",
     "output_type": "stream",
     "text": [
      "\n"
     ]
    },
    {
     "name": "stdout",
     "output_type": "stream",
     "text": [
      "\u001b[32m[0503 12:03:15 @monitor.py:467]\u001b[0m GAN_loss/discrim/accuracy_fake: 0.975\n",
      "\u001b[32m[0503 12:03:15 @monitor.py:467]\u001b[0m GAN_loss/discrim/accuracy_real: 0.095\n",
      "\u001b[32m[0503 12:03:15 @monitor.py:467]\u001b[0m GAN_loss/discrim/loss: 0.64323\n",
      "\u001b[32m[0503 12:03:15 @monitor.py:467]\u001b[0m GAN_loss/gen/final-g-loss: 1.0351\n",
      "\u001b[32m[0503 12:03:15 @monitor.py:467]\u001b[0m GAN_loss/gen/klloss: 0.08732\n",
      "\u001b[32m[0503 12:03:15 @monitor.py:467]\u001b[0m GAN_loss/gen/loss: 0.94776\n",
      "\u001b[32m[0503 12:03:15 @monitor.py:467]\u001b[0m QueueInput/queue_size: 50\n",
      "\u001b[32m[0503 12:03:15 @base.py:275]\u001b[0m Start Epoch 987 ...\n"
     ]
    },
    {
     "name": "stderr",
     "output_type": "stream",
     "text": [
      "100%|#################################################################################|2000/2000[00:31<00:00,63.06it/s]"
     ]
    },
    {
     "name": "stdout",
     "output_type": "stream",
     "text": [
      "\u001b[32m[0503 12:03:47 @base.py:285]\u001b[0m Epoch 987 (global_step 1974000) finished, time:31.7 seconds.\n",
      "\u001b[32m[0503 12:03:47 @saver.py:79]\u001b[0m Model saved to ../output/DATGAN_PRELSTM_small/model\\model-1974000.\n"
     ]
    },
    {
     "name": "stderr",
     "output_type": "stream",
     "text": [
      "\n"
     ]
    },
    {
     "name": "stdout",
     "output_type": "stream",
     "text": [
      "\u001b[32m[0503 12:03:47 @monitor.py:467]\u001b[0m GAN_loss/discrim/accuracy_fake: 0.94\n",
      "\u001b[32m[0503 12:03:47 @monitor.py:467]\u001b[0m GAN_loss/discrim/accuracy_real: 0.105\n",
      "\u001b[32m[0503 12:03:47 @monitor.py:467]\u001b[0m GAN_loss/discrim/loss: 0.6558\n",
      "\u001b[32m[0503 12:03:47 @monitor.py:467]\u001b[0m GAN_loss/gen/final-g-loss: 1.0448\n",
      "\u001b[32m[0503 12:03:47 @monitor.py:467]\u001b[0m GAN_loss/gen/klloss: 0.11183\n",
      "\u001b[32m[0503 12:03:47 @monitor.py:467]\u001b[0m GAN_loss/gen/loss: 0.93296\n",
      "\u001b[32m[0503 12:03:47 @monitor.py:467]\u001b[0m QueueInput/queue_size: 50\n",
      "\u001b[32m[0503 12:03:47 @base.py:275]\u001b[0m Start Epoch 988 ...\n"
     ]
    },
    {
     "name": "stderr",
     "output_type": "stream",
     "text": [
      "100%|#################################################################################|2000/2000[00:31<00:00,63.10it/s]"
     ]
    },
    {
     "name": "stdout",
     "output_type": "stream",
     "text": [
      "\u001b[32m[0503 12:04:19 @base.py:285]\u001b[0m Epoch 988 (global_step 1976000) finished, time:31.7 seconds.\n",
      "\u001b[32m[0503 12:04:19 @saver.py:79]\u001b[0m Model saved to ../output/DATGAN_PRELSTM_small/model\\model-1976000.\n"
     ]
    },
    {
     "name": "stderr",
     "output_type": "stream",
     "text": [
      "\n"
     ]
    },
    {
     "name": "stdout",
     "output_type": "stream",
     "text": [
      "\u001b[32m[0503 12:04:19 @monitor.py:467]\u001b[0m GAN_loss/discrim/accuracy_fake: 0.92\n",
      "\u001b[32m[0503 12:04:19 @monitor.py:467]\u001b[0m GAN_loss/discrim/accuracy_real: 0.05\n",
      "\u001b[32m[0503 12:04:19 @monitor.py:467]\u001b[0m GAN_loss/discrim/loss: 0.64564\n",
      "\u001b[32m[0503 12:04:19 @monitor.py:467]\u001b[0m GAN_loss/gen/final-g-loss: 1.0882\n",
      "\u001b[32m[0503 12:04:19 @monitor.py:467]\u001b[0m GAN_loss/gen/klloss: 0.1417\n",
      "\u001b[32m[0503 12:04:19 @monitor.py:467]\u001b[0m GAN_loss/gen/loss: 0.94646\n",
      "\u001b[32m[0503 12:04:19 @monitor.py:467]\u001b[0m QueueInput/queue_size: 50\n",
      "\u001b[32m[0503 12:04:19 @base.py:275]\u001b[0m Start Epoch 989 ...\n"
     ]
    },
    {
     "name": "stderr",
     "output_type": "stream",
     "text": [
      "100%|#################################################################################|2000/2000[00:31<00:00,63.19it/s]"
     ]
    },
    {
     "name": "stdout",
     "output_type": "stream",
     "text": [
      "\u001b[32m[0503 12:04:51 @base.py:285]\u001b[0m Epoch 989 (global_step 1978000) finished, time:31.7 seconds.\n",
      "\u001b[32m[0503 12:04:51 @saver.py:79]\u001b[0m Model saved to ../output/DATGAN_PRELSTM_small/model\\model-1978000.\n"
     ]
    },
    {
     "name": "stderr",
     "output_type": "stream",
     "text": [
      "\n"
     ]
    },
    {
     "name": "stdout",
     "output_type": "stream",
     "text": [
      "\u001b[32m[0503 12:04:51 @monitor.py:467]\u001b[0m GAN_loss/discrim/accuracy_fake: 0.94\n",
      "\u001b[32m[0503 12:04:51 @monitor.py:467]\u001b[0m GAN_loss/discrim/accuracy_real: 0.08\n",
      "\u001b[32m[0503 12:04:51 @monitor.py:467]\u001b[0m GAN_loss/discrim/loss: 0.64493\n",
      "\u001b[32m[0503 12:04:51 @monitor.py:467]\u001b[0m GAN_loss/gen/final-g-loss: 1.0639\n",
      "\u001b[32m[0503 12:04:51 @monitor.py:467]\u001b[0m GAN_loss/gen/klloss: 0.11821\n",
      "\u001b[32m[0503 12:04:51 @monitor.py:467]\u001b[0m GAN_loss/gen/loss: 0.94574\n",
      "\u001b[32m[0503 12:04:51 @monitor.py:467]\u001b[0m QueueInput/queue_size: 50\n",
      "\u001b[32m[0503 12:04:51 @base.py:275]\u001b[0m Start Epoch 990 ...\n"
     ]
    },
    {
     "name": "stderr",
     "output_type": "stream",
     "text": [
      "100%|#################################################################################|2000/2000[00:31<00:00,63.12it/s]"
     ]
    },
    {
     "name": "stdout",
     "output_type": "stream",
     "text": [
      "\u001b[32m[0503 12:05:23 @base.py:285]\u001b[0m Epoch 990 (global_step 1980000) finished, time:31.7 seconds.\n",
      "\u001b[32m[0503 12:05:23 @saver.py:79]\u001b[0m Model saved to ../output/DATGAN_PRELSTM_small/model\\model-1980000.\n"
     ]
    },
    {
     "name": "stderr",
     "output_type": "stream",
     "text": [
      "\n"
     ]
    },
    {
     "name": "stdout",
     "output_type": "stream",
     "text": [
      "\u001b[32m[0503 12:05:23 @monitor.py:467]\u001b[0m GAN_loss/discrim/accuracy_fake: 0.96\n",
      "\u001b[32m[0503 12:05:23 @monitor.py:467]\u001b[0m GAN_loss/discrim/accuracy_real: 0.09\n",
      "\u001b[32m[0503 12:05:23 @monitor.py:467]\u001b[0m GAN_loss/discrim/loss: 0.65481\n",
      "\u001b[32m[0503 12:05:23 @monitor.py:467]\u001b[0m GAN_loss/gen/final-g-loss: 1.0266\n",
      "\u001b[32m[0503 12:05:23 @monitor.py:467]\u001b[0m GAN_loss/gen/klloss: 0.082178\n",
      "\u001b[32m[0503 12:05:23 @monitor.py:467]\u001b[0m GAN_loss/gen/loss: 0.94447\n",
      "\u001b[32m[0503 12:05:23 @monitor.py:467]\u001b[0m QueueInput/queue_size: 50\n",
      "\u001b[32m[0503 12:05:23 @base.py:275]\u001b[0m Start Epoch 991 ...\n"
     ]
    },
    {
     "name": "stderr",
     "output_type": "stream",
     "text": [
      "100%|#################################################################################|2000/2000[00:31<00:00,63.15it/s]"
     ]
    },
    {
     "name": "stdout",
     "output_type": "stream",
     "text": [
      "\u001b[32m[0503 12:05:54 @base.py:285]\u001b[0m Epoch 991 (global_step 1982000) finished, time:31.7 seconds.\n",
      "\u001b[32m[0503 12:05:55 @saver.py:79]\u001b[0m Model saved to ../output/DATGAN_PRELSTM_small/model\\model-1982000.\n",
      "\u001b[32m[0503 12:05:55 @monitor.py:467]\u001b[0m GAN_loss/discrim/accuracy_fake: 0.975\n"
     ]
    },
    {
     "name": "stderr",
     "output_type": "stream",
     "text": [
      "\n"
     ]
    },
    {
     "name": "stdout",
     "output_type": "stream",
     "text": [
      "\u001b[32m[0503 12:05:55 @monitor.py:467]\u001b[0m GAN_loss/discrim/accuracy_real: 0.07\n",
      "\u001b[32m[0503 12:05:55 @monitor.py:467]\u001b[0m GAN_loss/discrim/loss: 0.63841\n",
      "\u001b[32m[0503 12:05:55 @monitor.py:467]\u001b[0m GAN_loss/gen/final-g-loss: 1.0315\n",
      "\u001b[32m[0503 12:05:55 @monitor.py:467]\u001b[0m GAN_loss/gen/klloss: 0.083078\n",
      "\u001b[32m[0503 12:05:55 @monitor.py:467]\u001b[0m GAN_loss/gen/loss: 0.94838\n",
      "\u001b[32m[0503 12:05:55 @monitor.py:467]\u001b[0m QueueInput/queue_size: 50\n",
      "\u001b[32m[0503 12:05:55 @base.py:275]\u001b[0m Start Epoch 992 ...\n"
     ]
    },
    {
     "name": "stderr",
     "output_type": "stream",
     "text": [
      "100%|#################################################################################|2000/2000[00:31<00:00,63.21it/s]"
     ]
    },
    {
     "name": "stdout",
     "output_type": "stream",
     "text": [
      "\u001b[32m[0503 12:06:26 @base.py:285]\u001b[0m Epoch 992 (global_step 1984000) finished, time:31.6 seconds.\n",
      "\u001b[32m[0503 12:06:26 @saver.py:79]\u001b[0m Model saved to ../output/DATGAN_PRELSTM_small/model\\model-1984000.\n",
      "\u001b[32m[0503 12:06:27 @monitor.py:467]\u001b[0m GAN_loss/discrim/accuracy_fake: 0.95\n"
     ]
    },
    {
     "name": "stderr",
     "output_type": "stream",
     "text": [
      "\n"
     ]
    },
    {
     "name": "stdout",
     "output_type": "stream",
     "text": [
      "\u001b[32m[0503 12:06:27 @monitor.py:467]\u001b[0m GAN_loss/discrim/accuracy_real: 0.08\n",
      "\u001b[32m[0503 12:06:27 @monitor.py:467]\u001b[0m GAN_loss/discrim/loss: 0.6457\n",
      "\u001b[32m[0503 12:06:27 @monitor.py:467]\u001b[0m GAN_loss/gen/final-g-loss: 1.0781\n",
      "\u001b[32m[0503 12:06:27 @monitor.py:467]\u001b[0m GAN_loss/gen/klloss: 0.14525\n",
      "\u001b[32m[0503 12:06:27 @monitor.py:467]\u001b[0m GAN_loss/gen/loss: 0.93281\n",
      "\u001b[32m[0503 12:06:27 @monitor.py:467]\u001b[0m QueueInput/queue_size: 50\n",
      "\u001b[32m[0503 12:06:27 @base.py:275]\u001b[0m Start Epoch 993 ...\n"
     ]
    },
    {
     "name": "stderr",
     "output_type": "stream",
     "text": [
      "100%|#################################################################################|2000/2000[00:31<00:00,63.15it/s]"
     ]
    },
    {
     "name": "stdout",
     "output_type": "stream",
     "text": [
      "\u001b[32m[0503 12:06:58 @base.py:285]\u001b[0m Epoch 993 (global_step 1986000) finished, time:31.7 seconds.\n",
      "\u001b[32m[0503 12:06:58 @saver.py:79]\u001b[0m Model saved to ../output/DATGAN_PRELSTM_small/model\\model-1986000.\n"
     ]
    },
    {
     "name": "stderr",
     "output_type": "stream",
     "text": [
      "\n"
     ]
    },
    {
     "name": "stdout",
     "output_type": "stream",
     "text": [
      "\u001b[32m[0503 12:06:58 @monitor.py:467]\u001b[0m GAN_loss/discrim/accuracy_fake: 0.975\n",
      "\u001b[32m[0503 12:06:58 @monitor.py:467]\u001b[0m GAN_loss/discrim/accuracy_real: 0.075\n",
      "\u001b[32m[0503 12:06:58 @monitor.py:467]\u001b[0m GAN_loss/discrim/loss: 0.64414\n",
      "\u001b[32m[0503 12:06:58 @monitor.py:467]\u001b[0m GAN_loss/gen/final-g-loss: 1.0821\n",
      "\u001b[32m[0503 12:06:58 @monitor.py:467]\u001b[0m GAN_loss/gen/klloss: 0.12687\n",
      "\u001b[32m[0503 12:06:58 @monitor.py:467]\u001b[0m GAN_loss/gen/loss: 0.9552\n",
      "\u001b[32m[0503 12:06:58 @monitor.py:467]\u001b[0m QueueInput/queue_size: 50\n",
      "\u001b[32m[0503 12:06:58 @base.py:275]\u001b[0m Start Epoch 994 ...\n"
     ]
    },
    {
     "name": "stderr",
     "output_type": "stream",
     "text": [
      "100%|#################################################################################|2000/2000[00:31<00:00,63.22it/s]"
     ]
    },
    {
     "name": "stdout",
     "output_type": "stream",
     "text": [
      "\u001b[32m[0503 12:07:30 @base.py:285]\u001b[0m Epoch 994 (global_step 1988000) finished, time:31.6 seconds.\n",
      "\u001b[32m[0503 12:07:30 @saver.py:79]\u001b[0m Model saved to ../output/DATGAN_PRELSTM_small/model\\model-1988000.\n"
     ]
    },
    {
     "name": "stderr",
     "output_type": "stream",
     "text": [
      "\n"
     ]
    },
    {
     "name": "stdout",
     "output_type": "stream",
     "text": [
      "\u001b[32m[0503 12:07:30 @monitor.py:467]\u001b[0m GAN_loss/discrim/accuracy_fake: 0.96\n",
      "\u001b[32m[0503 12:07:30 @monitor.py:467]\u001b[0m GAN_loss/discrim/accuracy_real: 0.1\n",
      "\u001b[32m[0503 12:07:30 @monitor.py:467]\u001b[0m GAN_loss/discrim/loss: 0.64129\n",
      "\u001b[32m[0503 12:07:30 @monitor.py:467]\u001b[0m GAN_loss/gen/final-g-loss: 1.0496\n",
      "\u001b[32m[0503 12:07:30 @monitor.py:467]\u001b[0m GAN_loss/gen/klloss: 0.10524\n",
      "\u001b[32m[0503 12:07:30 @monitor.py:467]\u001b[0m GAN_loss/gen/loss: 0.9444\n",
      "\u001b[32m[0503 12:07:30 @monitor.py:467]\u001b[0m QueueInput/queue_size: 50\n",
      "\u001b[32m[0503 12:07:30 @base.py:275]\u001b[0m Start Epoch 995 ...\n"
     ]
    },
    {
     "name": "stderr",
     "output_type": "stream",
     "text": [
      "100%|#################################################################################|2000/2000[00:31<00:00,63.24it/s]"
     ]
    },
    {
     "name": "stdout",
     "output_type": "stream",
     "text": [
      "\u001b[32m[0503 12:08:02 @base.py:285]\u001b[0m Epoch 995 (global_step 1990000) finished, time:31.6 seconds.\n",
      "\u001b[32m[0503 12:08:02 @saver.py:79]\u001b[0m Model saved to ../output/DATGAN_PRELSTM_small/model\\model-1990000.\n"
     ]
    },
    {
     "name": "stderr",
     "output_type": "stream",
     "text": [
      "\n"
     ]
    },
    {
     "name": "stdout",
     "output_type": "stream",
     "text": [
      "\u001b[32m[0503 12:08:02 @monitor.py:467]\u001b[0m GAN_loss/discrim/accuracy_fake: 0.925\n",
      "\u001b[32m[0503 12:08:02 @monitor.py:467]\u001b[0m GAN_loss/discrim/accuracy_real: 0.06\n",
      "\u001b[32m[0503 12:08:02 @monitor.py:467]\u001b[0m GAN_loss/discrim/loss: 0.66072\n",
      "\u001b[32m[0503 12:08:02 @monitor.py:467]\u001b[0m GAN_loss/gen/final-g-loss: 1.0537\n",
      "\u001b[32m[0503 12:08:02 @monitor.py:467]\u001b[0m GAN_loss/gen/klloss: 0.13836\n",
      "\u001b[32m[0503 12:08:02 @monitor.py:467]\u001b[0m GAN_loss/gen/loss: 0.91531\n",
      "\u001b[32m[0503 12:08:02 @monitor.py:467]\u001b[0m QueueInput/queue_size: 50\n",
      "\u001b[32m[0503 12:08:02 @base.py:275]\u001b[0m Start Epoch 996 ...\n"
     ]
    },
    {
     "name": "stderr",
     "output_type": "stream",
     "text": [
      "100%|#################################################################################|2000/2000[00:31<00:00,63.21it/s]"
     ]
    },
    {
     "name": "stdout",
     "output_type": "stream",
     "text": [
      "\u001b[32m[0503 12:08:34 @base.py:285]\u001b[0m Epoch 996 (global_step 1992000) finished, time:31.6 seconds.\n",
      "\u001b[32m[0503 12:08:34 @saver.py:79]\u001b[0m Model saved to ../output/DATGAN_PRELSTM_small/model\\model-1992000.\n",
      "\u001b[32m[0503 12:08:34 @monitor.py:467]\u001b[0m GAN_loss/discrim/accuracy_fake: 0.955\n"
     ]
    },
    {
     "name": "stderr",
     "output_type": "stream",
     "text": [
      "\n"
     ]
    },
    {
     "name": "stdout",
     "output_type": "stream",
     "text": [
      "\u001b[32m[0503 12:08:34 @monitor.py:467]\u001b[0m GAN_loss/discrim/accuracy_real: 0.12\n",
      "\u001b[32m[0503 12:08:34 @monitor.py:467]\u001b[0m GAN_loss/discrim/loss: 0.64087\n",
      "\u001b[32m[0503 12:08:34 @monitor.py:467]\u001b[0m GAN_loss/gen/final-g-loss: 1.0704\n",
      "\u001b[32m[0503 12:08:34 @monitor.py:467]\u001b[0m GAN_loss/gen/klloss: 0.12857\n",
      "\u001b[32m[0503 12:08:34 @monitor.py:467]\u001b[0m GAN_loss/gen/loss: 0.94187\n",
      "\u001b[32m[0503 12:08:34 @monitor.py:467]\u001b[0m QueueInput/queue_size: 50\n",
      "\u001b[32m[0503 12:08:34 @base.py:275]\u001b[0m Start Epoch 997 ...\n"
     ]
    },
    {
     "name": "stderr",
     "output_type": "stream",
     "text": [
      "100%|#################################################################################|2000/2000[00:31<00:00,63.20it/s]"
     ]
    },
    {
     "name": "stdout",
     "output_type": "stream",
     "text": [
      "\u001b[32m[0503 12:09:06 @base.py:285]\u001b[0m Epoch 997 (global_step 1994000) finished, time:31.6 seconds.\n",
      "\u001b[32m[0503 12:09:06 @saver.py:79]\u001b[0m Model saved to ../output/DATGAN_PRELSTM_small/model\\model-1994000.\n"
     ]
    },
    {
     "name": "stderr",
     "output_type": "stream",
     "text": [
      "\n"
     ]
    },
    {
     "name": "stdout",
     "output_type": "stream",
     "text": [
      "\u001b[32m[0503 12:09:06 @monitor.py:467]\u001b[0m GAN_loss/discrim/accuracy_fake: 0.94\n",
      "\u001b[32m[0503 12:09:06 @monitor.py:467]\u001b[0m GAN_loss/discrim/accuracy_real: 0.1\n",
      "\u001b[32m[0503 12:09:06 @monitor.py:467]\u001b[0m GAN_loss/discrim/loss: 0.63689\n",
      "\u001b[32m[0503 12:09:06 @monitor.py:467]\u001b[0m GAN_loss/gen/final-g-loss: 1.0149\n",
      "\u001b[32m[0503 12:09:06 @monitor.py:467]\u001b[0m GAN_loss/gen/klloss: 0.06992\n",
      "\u001b[32m[0503 12:09:06 @monitor.py:467]\u001b[0m GAN_loss/gen/loss: 0.945\n",
      "\u001b[32m[0503 12:09:06 @monitor.py:467]\u001b[0m QueueInput/queue_size: 50\n",
      "\u001b[32m[0503 12:09:06 @base.py:275]\u001b[0m Start Epoch 998 ...\n"
     ]
    },
    {
     "name": "stderr",
     "output_type": "stream",
     "text": [
      "100%|#################################################################################|2000/2000[00:31<00:00,63.18it/s]"
     ]
    },
    {
     "name": "stdout",
     "output_type": "stream",
     "text": [
      "\u001b[32m[0503 12:09:38 @base.py:285]\u001b[0m Epoch 998 (global_step 1996000) finished, time:31.7 seconds.\n",
      "\u001b[32m[0503 12:09:38 @saver.py:79]\u001b[0m Model saved to ../output/DATGAN_PRELSTM_small/model\\model-1996000.\n"
     ]
    },
    {
     "name": "stderr",
     "output_type": "stream",
     "text": [
      "\n"
     ]
    },
    {
     "name": "stdout",
     "output_type": "stream",
     "text": [
      "\u001b[32m[0503 12:09:38 @monitor.py:467]\u001b[0m GAN_loss/discrim/accuracy_fake: 0.95\n",
      "\u001b[32m[0503 12:09:38 @monitor.py:467]\u001b[0m GAN_loss/discrim/accuracy_real: 0.08\n",
      "\u001b[32m[0503 12:09:38 @monitor.py:467]\u001b[0m GAN_loss/discrim/loss: 0.64259\n",
      "\u001b[32m[0503 12:09:38 @monitor.py:467]\u001b[0m GAN_loss/gen/final-g-loss: 1.0572\n",
      "\u001b[32m[0503 12:09:38 @monitor.py:467]\u001b[0m GAN_loss/gen/klloss: 0.11691\n",
      "\u001b[32m[0503 12:09:38 @monitor.py:467]\u001b[0m GAN_loss/gen/loss: 0.94026\n",
      "\u001b[32m[0503 12:09:38 @monitor.py:467]\u001b[0m QueueInput/queue_size: 50\n",
      "\u001b[32m[0503 12:09:38 @base.py:275]\u001b[0m Start Epoch 999 ...\n"
     ]
    },
    {
     "name": "stderr",
     "output_type": "stream",
     "text": [
      "100%|#################################################################################|2000/2000[00:31<00:00,63.26it/s]"
     ]
    },
    {
     "name": "stdout",
     "output_type": "stream",
     "text": [
      "\u001b[32m[0503 12:10:09 @base.py:285]\u001b[0m Epoch 999 (global_step 1998000) finished, time:31.6 seconds.\n",
      "\u001b[32m[0503 12:10:09 @saver.py:79]\u001b[0m Model saved to ../output/DATGAN_PRELSTM_small/model\\model-1998000.\n",
      "\u001b[32m[0503 12:10:10 @monitor.py:467]\u001b[0m GAN_loss/discrim/accuracy_fake: 0.93\n"
     ]
    },
    {
     "name": "stderr",
     "output_type": "stream",
     "text": [
      "\n"
     ]
    },
    {
     "name": "stdout",
     "output_type": "stream",
     "text": [
      "\u001b[32m[0503 12:10:10 @monitor.py:467]\u001b[0m GAN_loss/discrim/accuracy_real: 0.085\n",
      "\u001b[32m[0503 12:10:10 @monitor.py:467]\u001b[0m GAN_loss/discrim/loss: 0.65752\n",
      "\u001b[32m[0503 12:10:10 @monitor.py:467]\u001b[0m GAN_loss/gen/final-g-loss: 1.0494\n",
      "\u001b[32m[0503 12:10:10 @monitor.py:467]\u001b[0m GAN_loss/gen/klloss: 0.11686\n",
      "\u001b[32m[0503 12:10:10 @monitor.py:467]\u001b[0m GAN_loss/gen/loss: 0.93251\n",
      "\u001b[32m[0503 12:10:10 @monitor.py:467]\u001b[0m QueueInput/queue_size: 50\n",
      "\u001b[32m[0503 12:10:10 @base.py:275]\u001b[0m Start Epoch 1000 ...\n"
     ]
    },
    {
     "name": "stderr",
     "output_type": "stream",
     "text": [
      "100%|#################################################################################|2000/2000[00:31<00:00,63.20it/s]"
     ]
    },
    {
     "name": "stdout",
     "output_type": "stream",
     "text": [
      "\u001b[32m[0503 12:10:41 @base.py:285]\u001b[0m Epoch 1000 (global_step 2000000) finished, time:31.6 seconds.\n",
      "\u001b[32m[0503 12:10:41 @saver.py:79]\u001b[0m Model saved to ../output/DATGAN_PRELSTM_small/model\\model-2000000.\n"
     ]
    },
    {
     "name": "stderr",
     "output_type": "stream",
     "text": [
      "\n"
     ]
    },
    {
     "name": "stdout",
     "output_type": "stream",
     "text": [
      "\u001b[32m[0503 12:10:41 @monitor.py:467]\u001b[0m GAN_loss/discrim/accuracy_fake: 0.97\n",
      "\u001b[32m[0503 12:10:41 @monitor.py:467]\u001b[0m GAN_loss/discrim/accuracy_real: 0.115\n",
      "\u001b[32m[0503 12:10:41 @monitor.py:467]\u001b[0m GAN_loss/discrim/loss: 0.64321\n",
      "\u001b[32m[0503 12:10:41 @monitor.py:467]\u001b[0m GAN_loss/gen/final-g-loss: 1.0327\n",
      "\u001b[32m[0503 12:10:41 @monitor.py:467]\u001b[0m GAN_loss/gen/klloss: 0.077706\n",
      "\u001b[32m[0503 12:10:41 @monitor.py:467]\u001b[0m GAN_loss/gen/loss: 0.95503\n",
      "\u001b[32m[0503 12:10:41 @monitor.py:467]\u001b[0m QueueInput/queue_size: 50\n",
      "\u001b[32m[0503 12:10:41 @base.py:289]\u001b[0m Training has finished!\n",
      "WARNING:tensorflow:From D:\\Users\\glede\\anaconda3\\envs\\py37\\lib\\site-packages\\tensorpack\\predict\\config.py:101: The name tf.train.ChiefSessionCreator is deprecated. Please use tf.compat.v1.train.ChiefSessionCreator instead.\n",
      "\n",
      "\u001b[91m-> Creating cell for age (in-edges: 0)\n",
      "\u001b[91m-> Creating cell for gender (in-edges: 0)\n",
      "\u001b[91m-> Creating cell for travel_dow (in-edges: 0)\n",
      "\u001b[91m-> Creating cell for license (in-edges: 1)\n",
      "\u001b[91m-> Creating cell for education_level (in-edges: 1)\n",
      "\u001b[91m-> Creating cell for work_status (in-edges: 2)\n",
      "\u001b[91m-> Creating cell for hh_income (in-edges: 2)\n",
      "\u001b[91m-> Creating cell for trip_purpose (in-edges: 1)\n",
      "\u001b[91m-> Creating cell for hh_descr (in-edges: 1)\n",
      "\u001b[91m-> Creating cell for hh_size (in-edges: 1)\n",
      "\u001b[91m-> Creating cell for departure_time (in-edges: 1)\n",
      "\u001b[32m[0503 12:10:42 @input_source.py:178]\u001b[0m EnqueueThread QueueInput/input_queue Exited.\n",
      "\u001b[91m-> Creating cell for distance (in-edges: 1)\n",
      "\u001b[91m-> Creating cell for hh_vehicles (in-edges: 1)\n",
      "\u001b[91m-> Creating cell for hh_bikes (in-edges: 1)\n",
      "\u001b[91m-> Creating cell for choice (in-edges: 6)\n",
      "WARNING:tensorflow:From D:\\Users\\glede\\anaconda3\\envs\\py37\\lib\\site-packages\\tensorpack\\tfutils\\collection.py:45: The name tf.get_collection_ref is deprecated. Please use tf.compat.v1.get_collection_ref instead.\n",
      "\n",
      "\u001b[32m[0503 12:10:43 @collection.py:146]\u001b[0m New collections created in tower : tf.GraphKeys.REGULARIZATION_LOSSES\n",
      "\u001b[32m[0503 12:10:43 @collection.py:165]\u001b[0m These collections were modified but restored in : (tf.GraphKeys.SUMMARIES: 0->2)\n",
      "\u001b[32m[0503 12:10:43 @sessinit.py:87]\u001b[0m \u001b[5m\u001b[31mWRN\u001b[0m The following variables are in the checkpoint, but not found in the graph: global_step, optimize/beta1_power, optimize/beta2_power\n",
      "INFO:tensorflow:Graph was finalized.\n",
      "INFO:tensorflow:Running local_init_op.\n",
      "INFO:tensorflow:Done running local_init_op.\n",
      "\u001b[32m[0503 12:10:44 @sessinit.py:114]\u001b[0m Restoring checkpoint from ../output/DATGAN_PRELSTM_small/model\\model-2000000 ...\n",
      "INFO:tensorflow:Restoring parameters from ../output/DATGAN_PRELSTM_small/model\\model-2000000\n",
      "\u001b[32m[0503 12:11:03 @model.py:1004]\u001b[0m Model saved successfully.\n"
     ]
    }
   ],
   "source": [
    "datgan = DATGAN(continuous_columns, max_epoch = 1000, steps_per_epoch=2000, batch_size=200, output=output_folder, gpu=0)\n",
    "res = datgan.fit(df, graph)\n",
    "datgan.save(\"1000_ep\", force=True)"
   ]
  },
  {
   "cell_type": "code",
   "execution_count": null,
   "metadata": {},
   "outputs": [],
   "source": []
  }
 ],
 "metadata": {
  "kernelspec": {
   "display_name": "Python 3",
   "language": "python",
   "name": "python3"
  },
  "language_info": {
   "codemirror_mode": {
    "name": "ipython",
    "version": 3
   },
   "file_extension": ".py",
   "mimetype": "text/x-python",
   "name": "python",
   "nbconvert_exporter": "python",
   "pygments_lexer": "ipython3",
   "version": "3.7.9"
  }
 },
 "nbformat": 4,
 "nbformat_minor": 4
}
