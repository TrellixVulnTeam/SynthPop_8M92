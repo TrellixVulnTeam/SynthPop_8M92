{
 "cells": [
  {
   "cell_type": "code",
   "execution_count": 1,
   "metadata": {},
   "outputs": [],
   "source": [
    "import os\n",
    "os.chdir('../..')"
   ]
  },
  {
   "cell_type": "code",
   "execution_count": 2,
   "metadata": {},
   "outputs": [
    {
     "name": "stdout",
     "output_type": "stream",
     "text": [
      "3.7.9\n"
     ]
    }
   ],
   "source": [
    "from platform import python_version\n",
    "print(python_version())"
   ]
  },
  {
   "cell_type": "code",
   "execution_count": 3,
   "metadata": {},
   "outputs": [
    {
     "name": "stdout",
     "output_type": "stream",
     "text": [
      "WARNING:tensorflow:From D:\\Users\\glede\\anaconda3\\envs\\py37\\lib\\site-packages\\tensorpack\\callbacks\\hooks.py:17: The name tf.train.SessionRunHook is deprecated. Please use tf.estimator.SessionRunHook instead.\n",
      "\n",
      "WARNING:tensorflow:From D:\\Users\\glede\\anaconda3\\envs\\py37\\lib\\site-packages\\tensorpack\\tfutils\\optimizer.py:18: The name tf.train.Optimizer is deprecated. Please use tf.compat.v1.train.Optimizer instead.\n",
      "\n",
      "WARNING:tensorflow:From D:\\Users\\glede\\anaconda3\\envs\\py37\\lib\\site-packages\\tensorpack\\tfutils\\sesscreate.py:20: The name tf.train.SessionCreator is deprecated. Please use tf.compat.v1.train.SessionCreator instead.\n",
      "\n"
     ]
    }
   ],
   "source": [
    "import numpy as np\n",
    "import pandas as pd\n",
    "\n",
    "import tensorflow as tf\n",
    "\n",
    "import matplotlib.pyplot as plt\n",
    "\n",
    "from modules.datgan import DATWGANGP\n",
    "\n",
    "import networkx as nx\n",
    "import json\n",
    "import beepy\n",
    "\n",
    "# For the Python notebook\n",
    "%matplotlib inline\n",
    "%reload_ext autoreload\n",
    "%autoreload 2"
   ]
  },
  {
   "cell_type": "code",
   "execution_count": 4,
   "metadata": {},
   "outputs": [],
   "source": [
    "dataset = 'Chicago'"
   ]
  },
  {
   "cell_type": "code",
   "execution_count": 5,
   "metadata": {},
   "outputs": [],
   "source": [
    "df = pd.read_csv('../data/{}/data.csv'.format(dataset), index_col=False)"
   ]
  },
  {
   "cell_type": "code",
   "execution_count": 6,
   "metadata": {},
   "outputs": [
    {
     "data": {
      "text/html": [
       "<div>\n",
       "<style scoped>\n",
       "    .dataframe tbody tr th:only-of-type {\n",
       "        vertical-align: middle;\n",
       "    }\n",
       "\n",
       "    .dataframe tbody tr th {\n",
       "        vertical-align: top;\n",
       "    }\n",
       "\n",
       "    .dataframe thead th {\n",
       "        text-align: right;\n",
       "    }\n",
       "</style>\n",
       "<table border=\"1\" class=\"dataframe\">\n",
       "  <thead>\n",
       "    <tr style=\"text-align: right;\">\n",
       "      <th></th>\n",
       "      <th>choice</th>\n",
       "      <th>travel_dow</th>\n",
       "      <th>trip_purpose</th>\n",
       "      <th>distance</th>\n",
       "      <th>hh_vehicles</th>\n",
       "      <th>hh_size</th>\n",
       "      <th>hh_bikes</th>\n",
       "      <th>hh_descr</th>\n",
       "      <th>hh_income</th>\n",
       "      <th>gender</th>\n",
       "      <th>age</th>\n",
       "      <th>license</th>\n",
       "      <th>education_level</th>\n",
       "      <th>work_status</th>\n",
       "      <th>departure_time</th>\n",
       "    </tr>\n",
       "  </thead>\n",
       "  <tbody>\n",
       "    <tr>\n",
       "      <th>0</th>\n",
       "      <td>drive</td>\n",
       "      <td>7</td>\n",
       "      <td>HOME_OTHER</td>\n",
       "      <td>23.42579</td>\n",
       "      <td>2</td>\n",
       "      <td>2</td>\n",
       "      <td>0</td>\n",
       "      <td>2</td>\n",
       "      <td>6</td>\n",
       "      <td>1</td>\n",
       "      <td>66</td>\n",
       "      <td>1.0</td>\n",
       "      <td>6</td>\n",
       "      <td>FTE</td>\n",
       "      <td>9.333333</td>\n",
       "    </tr>\n",
       "    <tr>\n",
       "      <th>1</th>\n",
       "      <td>drive</td>\n",
       "      <td>7</td>\n",
       "      <td>OTHER</td>\n",
       "      <td>1.71259</td>\n",
       "      <td>2</td>\n",
       "      <td>2</td>\n",
       "      <td>0</td>\n",
       "      <td>2</td>\n",
       "      <td>6</td>\n",
       "      <td>1</td>\n",
       "      <td>66</td>\n",
       "      <td>1.0</td>\n",
       "      <td>6</td>\n",
       "      <td>FTE</td>\n",
       "      <td>12.083333</td>\n",
       "    </tr>\n",
       "    <tr>\n",
       "      <th>2</th>\n",
       "      <td>drive</td>\n",
       "      <td>7</td>\n",
       "      <td>HOME_OTHER</td>\n",
       "      <td>21.77887</td>\n",
       "      <td>2</td>\n",
       "      <td>2</td>\n",
       "      <td>0</td>\n",
       "      <td>2</td>\n",
       "      <td>6</td>\n",
       "      <td>1</td>\n",
       "      <td>66</td>\n",
       "      <td>1.0</td>\n",
       "      <td>6</td>\n",
       "      <td>FTE</td>\n",
       "      <td>15.500000</td>\n",
       "    </tr>\n",
       "    <tr>\n",
       "      <th>3</th>\n",
       "      <td>drive</td>\n",
       "      <td>7</td>\n",
       "      <td>SHOPPING</td>\n",
       "      <td>2.02603</td>\n",
       "      <td>2</td>\n",
       "      <td>2</td>\n",
       "      <td>0</td>\n",
       "      <td>2</td>\n",
       "      <td>6</td>\n",
       "      <td>1</td>\n",
       "      <td>66</td>\n",
       "      <td>1.0</td>\n",
       "      <td>6</td>\n",
       "      <td>FTE</td>\n",
       "      <td>17.500000</td>\n",
       "    </tr>\n",
       "    <tr>\n",
       "      <th>4</th>\n",
       "      <td>drive</td>\n",
       "      <td>7</td>\n",
       "      <td>SHOPPING</td>\n",
       "      <td>0.87691</td>\n",
       "      <td>2</td>\n",
       "      <td>2</td>\n",
       "      <td>0</td>\n",
       "      <td>2</td>\n",
       "      <td>6</td>\n",
       "      <td>1</td>\n",
       "      <td>66</td>\n",
       "      <td>1.0</td>\n",
       "      <td>6</td>\n",
       "      <td>FTE</td>\n",
       "      <td>18.250000</td>\n",
       "    </tr>\n",
       "  </tbody>\n",
       "</table>\n",
       "</div>"
      ],
      "text/plain": [
       "  choice  travel_dow trip_purpose  distance  hh_vehicles  hh_size  hh_bikes  \\\n",
       "0  drive           7   HOME_OTHER  23.42579            2        2         0   \n",
       "1  drive           7        OTHER   1.71259            2        2         0   \n",
       "2  drive           7   HOME_OTHER  21.77887            2        2         0   \n",
       "3  drive           7     SHOPPING   2.02603            2        2         0   \n",
       "4  drive           7     SHOPPING   0.87691            2        2         0   \n",
       "\n",
       "   hh_descr  hh_income  gender  age  license  education_level work_status  \\\n",
       "0         2          6       1   66      1.0                6         FTE   \n",
       "1         2          6       1   66      1.0                6         FTE   \n",
       "2         2          6       1   66      1.0                6         FTE   \n",
       "3         2          6       1   66      1.0                6         FTE   \n",
       "4         2          6       1   66      1.0                6         FTE   \n",
       "\n",
       "   departure_time  \n",
       "0        9.333333  \n",
       "1       12.083333  \n",
       "2       15.500000  \n",
       "3       17.500000  \n",
       "4       18.250000  "
      ]
     },
     "execution_count": 6,
     "metadata": {},
     "output_type": "execute_result"
    }
   ],
   "source": [
    "df.head()"
   ]
  },
  {
   "cell_type": "code",
   "execution_count": 7,
   "metadata": {},
   "outputs": [],
   "source": [
    "if dataset is 'Chicago':\n",
    "    continuous_columns = [\"distance\", \"age\", \"departure_time\"]\n",
    "elif dataset is 'LPMC':\n",
    "    continuous_columns = ['start_time_linear', 'age', 'distance', 'dur_walking', 'dur_cycling', 'dur_pt_access', 'dur_pt_rail', 'dur_pt_bus', 'dur_pt_int', 'dur_driving', 'cost_transit', 'cost_driving_fuel', 'driving_traffic_percent']"
   ]
  },
  {
   "cell_type": "code",
   "execution_count": 8,
   "metadata": {},
   "outputs": [],
   "source": [
    "# personalised graph\n",
    "graph = nx.DiGraph()\n",
    "\n",
    "if dataset is 'Chicago':\n",
    "    graph.add_edges_from([\n",
    "        (\"age\", \"license\"),\n",
    "        (\"age\", \"education_level\"),\n",
    "        (\"gender\", \"work_status\"),\n",
    "        (\"education_level\", \"work_status\"),\n",
    "        (\"education_level\", \"hh_income\"),\n",
    "        (\"work_status\", \"hh_income\"),\n",
    "        (\"hh_income\", \"hh_descr\"),\n",
    "        (\"hh_income\", \"hh_size\"),\n",
    "        (\"hh_size\", \"hh_vehicles\"),\n",
    "        (\"hh_size\", \"hh_bikes\"),\n",
    "        (\"work_status\", \"trip_purpose\"),\n",
    "        (\"trip_purpose\", \"departure_time\"),\n",
    "        (\"trip_purpose\", \"distance\"),\n",
    "        (\"travel_dow\", \"choice\"),\n",
    "        (\"distance\", \"choice\"),\n",
    "        (\"departure_time\", \"choice\"),\n",
    "        (\"hh_vehicles\", \"choice\"),\n",
    "        (\"hh_bikes\", \"choice\"),\n",
    "        (\"license\", \"choice\"),\n",
    "        # Non necessary links\n",
    "        (\"education_level\", \"hh_size\"),\n",
    "        (\"work_status\", \"hh_descr\"),\n",
    "        (\"work_status\", \"hh_size\"),\n",
    "        (\"hh_income\", \"hh_bikes\"),\n",
    "        (\"hh_income\", \"hh_vehicles\"),\n",
    "        (\"trip_purpose\", \"choice\")\n",
    "    ])\n",
    "elif dataset is 'LPMC':\n",
    "    graph.add_edges_from([\n",
    "        (\"travel_year\", \"survey_year\"),\n",
    "        (\"travel_date\", \"day_of_week\"),\n",
    "        (\"day_of_week\", \"purpose\"),\n",
    "        (\"purpose\", \"start_time_linear\"),\n",
    "        (\"purpose\", \"cost_driving_con_charge\"),\n",
    "        (\"purpose\", \"distance\"),\n",
    "        (\"day_of_week\", \"driving_traffic_percent\"),\n",
    "        (\"day_of_week\", \"cost_driving_con_charge\"),\n",
    "        (\"start_time_linear\", \"driving_traffic_percent\"),\n",
    "        (\"start_time_linear\", \"cost_driving_con_charge\"),\n",
    "        (\"driving_traffic_percent\", \"cost_driving_con_charge\"),\n",
    "        (\"female\", \"driving_license\"),\n",
    "        (\"age\", \"bus_scale\"),\n",
    "        (\"age\", \"car_ownership\"),\n",
    "        (\"age\", \"driving_license\"),\n",
    "        (\"age\", \"faretype\"),\n",
    "        (\"driving_license\", \"car_ownership\"),\n",
    "        (\"car_ownership\", \"fueltype\"),\n",
    "        (\"fueltype\", \"cost_driving_con_charge\"),\n",
    "        (\"fueltype\", \"cost_driving_fuel\"),\n",
    "        (\"distance\", \"cost_driving_fuel\"),\n",
    "        (\"distance\", \"dur_driving\"),\n",
    "        (\"distance\", \"dur_walking\"),\n",
    "        (\"distance\", \"dur_cycling\"),\n",
    "        (\"distance\", \"dur_pt_access\"),\n",
    "        (\"distance\", \"dur_pt_rail\"),\n",
    "        (\"distance\", \"dur_pt_bus\"),\n",
    "        (\"distance\", \"dur_pt_int\"),\n",
    "        (\"dur_pt_bus\", \"cost_transit\"),\n",
    "        (\"dur_pt_rail\", \"cost_transit\"),\n",
    "        (\"pt_n_interchanges\", \"dur_pt_int\"),\n",
    "        (\"pt_n_interchanges\", \"cost_transit\"),\n",
    "        (\"faretype\", \"cost_transit\"),\n",
    "        (\"bus_scale\", \"cost_transit\"),\n",
    "        (\"car_ownership\", \"travel_mode\"),\n",
    "        (\"age\", \"travel_mode\"),\n",
    "        (\"cost_driving_con_charge\", \"travel_mode\"),\n",
    "        (\"driving_traffic_percent\", \"travel_mode\"),\n",
    "        (\"female\", \"travel_mode\"),\n",
    "        (\"purpose\", \"travel_mode\"),\n",
    "        (\"cost_transit\", \"travel_mode\"),\n",
    "        (\"cost_driving_fuel\", \"travel_mode\"),\n",
    "        (\"dur_driving\", \"travel_mode\"),\n",
    "        (\"dur_walking\", \"travel_mode\"),\n",
    "        (\"dur_cycling\", \"travel_mode\"),\n",
    "        (\"dur_pt_access\", \"travel_mode\"),\n",
    "        (\"dur_pt_rail\", \"travel_mode\"),\n",
    "        (\"dur_pt_bus\", \"travel_mode\"),\n",
    "        (\"dur_pt_int\", \"travel_mode\")\n",
    "    ])\n",
    "    graph.add_node(\"travel_month\")"
   ]
  },
  {
   "cell_type": "code",
   "execution_count": 9,
   "metadata": {},
   "outputs": [],
   "source": [
    "output_folder = '../output/' + dataset + '/WGGP_WI_new3/'"
   ]
  },
  {
   "cell_type": "code",
   "execution_count": 10,
   "metadata": {},
   "outputs": [],
   "source": [
    "datgan = DATWGANGP(continuous_columns, max_epoch=1000, batch_size=500, output=output_folder, gpu=0)"
   ]
  },
  {
   "cell_type": "code",
   "execution_count": 11,
   "metadata": {},
   "outputs": [
    {
     "name": "stdout",
     "output_type": "stream",
     "text": [
      "\u001b[32m[1104 17:15:12 @DATSGAN.py:155]\u001b[0m Found preprocessed data\n",
      "\u001b[32m[1104 17:15:12 @DATSGAN.py:163]\u001b[0m Preprocessed data have been loaded!\n",
      "WARNING:tensorflow:From D:\\Users\\glede\\anaconda3\\envs\\py37\\lib\\site-packages\\tensorpack\\graph_builder\\model_desc.py:29: The name tf.get_default_graph is deprecated. Please use tf.compat.v1.get_default_graph instead.\n",
      "\n",
      "WARNING:tensorflow:From D:\\Users\\glede\\anaconda3\\envs\\py37\\lib\\site-packages\\tensorpack\\graph_builder\\model_desc.py:39: The name tf.placeholder is deprecated. Please use tf.compat.v1.placeholder instead.\n",
      "\n",
      "WARNING:tensorflow:From D:\\Users\\glede\\anaconda3\\envs\\py37\\lib\\site-packages\\tensorpack\\input_source\\input_source.py:219: The name tf.FIFOQueue is deprecated. Please use tf.queue.FIFOQueue instead.\n",
      "\n",
      "\u001b[32m[1104 17:15:13 @input_source.py:222]\u001b[0m Setting up the queue 'QueueInput/input_queue' for CPU prefetching ...\n",
      "WARNING:tensorflow:From D:\\Users\\glede\\anaconda3\\envs\\py37\\lib\\site-packages\\tensorpack\\tfutils\\summary.py:237: The name tf.get_variable_scope is deprecated. Please use tf.compat.v1.get_variable_scope instead.\n",
      "\n",
      "WARNING:tensorflow:From D:\\Users\\glede\\anaconda3\\envs\\py37\\lib\\site-packages\\tensorpack\\tfutils\\summary.py:27: The name tf.variable_scope is deprecated. Please use tf.compat.v1.variable_scope instead.\n",
      "\n",
      "WARNING:tensorflow:From D:\\Users\\glede\\anaconda3\\envs\\py37\\lib\\site-packages\\tensorpack\\tfutils\\summary.py:254: The name tf.get_variable is deprecated. Please use tf.compat.v1.get_variable instead.\n",
      "\n",
      "WARNING:tensorflow:From D:\\Users\\glede\\anaconda3\\envs\\py37\\lib\\site-packages\\tensorpack\\tfutils\\summary.py:264: The name tf.summary.scalar is deprecated. Please use tf.compat.v1.summary.scalar instead.\n",
      "\n",
      "WARNING:tensorflow:From D:\\Users\\glede\\anaconda3\\envs\\py37\\lib\\site-packages\\tensorpack\\tfutils\\collection.py:105: The name tf.GraphKeys is deprecated. Please use tf.compat.v1.GraphKeys instead.\n",
      "\n",
      "WARNING:tensorflow:From D:\\Users\\glede\\anaconda3\\envs\\py37\\lib\\site-packages\\tensorpack\\tfutils\\collection.py:33: The name tf.get_collection is deprecated. Please use tf.compat.v1.get_collection instead.\n",
      "\n",
      "WARNING:tensorflow:From C:\\Users\\glede\\Documents\\EPFL\\PhD\\SynthPop\\code\\modules\\datgan\\models\\DATSGANModel.py:514: The name tf.random_normal is deprecated. Please use tf.random.normal instead.\n",
      "\n",
      "WARNING:tensorflow:From C:\\Users\\glede\\Documents\\EPFL\\PhD\\SynthPop\\code\\modules\\datgan\\models\\DATSGANModel.py:515: The name tf.placeholder_with_default is deprecated. Please use tf.compat.v1.placeholder_with_default instead.\n",
      "\n",
      "WARNING:tensorflow:From C:\\Users\\glede\\Documents\\EPFL\\PhD\\SynthPop\\code\\modules\\datgan\\models\\DATSGANModel.py:205: LSTMCell.__init__ (from tensorflow.python.ops.rnn_cell_impl) is deprecated and will be removed in a future version.\n",
      "Instructions for updating:\n",
      "This class is equivalent as tf.keras.layers.LSTMCell, and will be replaced by that in Tensorflow 2.0.\n",
      "\u001b[32m[1104 17:15:13 @DATSGANModel.py:211]\u001b[0m \u001b[91mCreating cell for age (in-edges: 0; ancestors: 0)\n",
      "WARNING:tensorflow:From D:\\Users\\glede\\anaconda3\\envs\\py37\\lib\\site-packages\\tensorflow_core\\python\\ops\\rnn_cell_impl.py:958: Layer.add_variable (from tensorflow.python.keras.engine.base_layer) is deprecated and will be removed in a future version.\n",
      "Instructions for updating:\n",
      "Please use `layer.add_weight` method instead.\n",
      "WARNING:tensorflow:From D:\\Users\\glede\\anaconda3\\envs\\py37\\lib\\site-packages\\tensorflow_core\\python\\ops\\rnn_cell_impl.py:962: calling Zeros.__init__ (from tensorflow.python.ops.init_ops) with dtype is deprecated and will be removed in a future version.\n",
      "Instructions for updating:\n",
      "Call initializer instance with the dtype argument instead of passing it to the constructor\n",
      "\u001b[32m[1104 17:15:13 @registry.py:126]\u001b[0m gen/LSTM/age/FC input: [500, 100]\n",
      "WARNING:tensorflow:From D:\\Users\\glede\\anaconda3\\envs\\py37\\lib\\site-packages\\tensorpack\\models\\fc.py:57: The name tf.layers.Dense is deprecated. Please use tf.compat.v1.layers.Dense instead.\n",
      "\n",
      "WARNING:tensorflow:From D:\\Users\\glede\\anaconda3\\envs\\py37\\lib\\site-packages\\tensorpack\\models\\fc.py:67: Layer.apply (from tensorflow.python.keras.engine.base_layer) is deprecated and will be removed in a future version.\n",
      "Instructions for updating:\n",
      "Please use `layer.__call__` method instead.\n",
      "\u001b[32m[1104 17:15:13 @registry.py:134]\u001b[0m gen/LSTM/age/FC output: [500, 100]\n",
      "\u001b[32m[1104 17:15:13 @registry.py:126]\u001b[0m gen/LSTM/age/FC2_val input: [500, 100]\n",
      "\u001b[32m[1104 17:15:13 @registry.py:134]\u001b[0m gen/LSTM/age/FC2_val output: [500, 6]\n",
      "\u001b[32m[1104 17:15:13 @registry.py:126]\u001b[0m gen/LSTM/age/FC2_prob input: [500, 100]\n",
      "\u001b[32m[1104 17:15:13 @registry.py:134]\u001b[0m gen/LSTM/age/FC2_prob output: [500, 6]\n",
      "\u001b[32m[1104 17:15:13 @registry.py:126]\u001b[0m gen/LSTM/age/FC3 input: [500, 12]\n",
      "\u001b[32m[1104 17:15:13 @registry.py:134]\u001b[0m gen/LSTM/age/FC3 output: [500, 100]\n",
      "\u001b[32m[1104 17:15:13 @DATSGANModel.py:211]\u001b[0m \u001b[91mCreating cell for gender (in-edges: 0; ancestors: 0)\n",
      "\u001b[32m[1104 17:15:13 @registry.py:126]\u001b[0m gen/LSTM/gender/FC input: [500, 100]\n",
      "\u001b[32m[1104 17:15:13 @registry.py:134]\u001b[0m gen/LSTM/gender/FC output: [500, 100]\n",
      "\u001b[32m[1104 17:15:13 @registry.py:126]\u001b[0m gen/LSTM/gender/FC2 input: [500, 100]\n",
      "\u001b[32m[1104 17:15:13 @registry.py:134]\u001b[0m gen/LSTM/gender/FC2 output: [500, 2]\n",
      "\u001b[32m[1104 17:15:13 @registry.py:126]\u001b[0m gen/LSTM/gender/FC3 input: [500, 2]\n",
      "\u001b[32m[1104 17:15:13 @registry.py:134]\u001b[0m gen/LSTM/gender/FC3 output: [500, 100]\n",
      "\u001b[32m[1104 17:15:13 @DATSGANModel.py:211]\u001b[0m \u001b[91mCreating cell for travel_dow (in-edges: 0; ancestors: 0)\n",
      "\u001b[32m[1104 17:15:13 @registry.py:126]\u001b[0m gen/LSTM/travel_dow/FC input: [500, 100]\n",
      "\u001b[32m[1104 17:15:13 @registry.py:134]\u001b[0m gen/LSTM/travel_dow/FC output: [500, 100]\n",
      "\u001b[32m[1104 17:15:13 @registry.py:126]\u001b[0m gen/LSTM/travel_dow/FC2 input: [500, 100]\n",
      "\u001b[32m[1104 17:15:13 @registry.py:134]\u001b[0m gen/LSTM/travel_dow/FC2 output: [500, 7]\n",
      "\u001b[32m[1104 17:15:13 @registry.py:126]\u001b[0m gen/LSTM/travel_dow/FC3 input: [500, 7]\n",
      "\u001b[32m[1104 17:15:13 @registry.py:134]\u001b[0m gen/LSTM/travel_dow/FC3 output: [500, 100]\n",
      "\u001b[32m[1104 17:15:13 @DATSGANModel.py:211]\u001b[0m \u001b[91mCreating cell for license (in-edges: 1; ancestors: 1)\n",
      "\u001b[32m[1104 17:15:13 @registry.py:126]\u001b[0m gen/LSTM/license/FC input: [500, 100]\n",
      "\u001b[32m[1104 17:15:13 @registry.py:134]\u001b[0m gen/LSTM/license/FC output: [500, 100]\n",
      "\u001b[32m[1104 17:15:13 @registry.py:126]\u001b[0m gen/LSTM/license/FC2 input: [500, 100]\n",
      "\u001b[32m[1104 17:15:13 @registry.py:134]\u001b[0m gen/LSTM/license/FC2 output: [500, 2]\n",
      "\u001b[32m[1104 17:15:13 @registry.py:126]\u001b[0m gen/LSTM/license/FC3 input: [500, 2]\n",
      "\u001b[32m[1104 17:15:13 @registry.py:134]\u001b[0m gen/LSTM/license/FC3 output: [500, 100]\n",
      "\u001b[32m[1104 17:15:13 @DATSGANModel.py:211]\u001b[0m \u001b[91mCreating cell for education_level (in-edges: 1; ancestors: 1)\n",
      "\u001b[32m[1104 17:15:13 @registry.py:126]\u001b[0m gen/LSTM/education_level/FC input: [500, 100]\n",
      "\u001b[32m[1104 17:15:13 @registry.py:134]\u001b[0m gen/LSTM/education_level/FC output: [500, 100]\n",
      "\u001b[32m[1104 17:15:13 @registry.py:126]\u001b[0m gen/LSTM/education_level/FC2 input: [500, 100]\n",
      "\u001b[32m[1104 17:15:13 @registry.py:134]\u001b[0m gen/LSTM/education_level/FC2 output: [500, 6]\n",
      "\u001b[32m[1104 17:15:13 @registry.py:126]\u001b[0m gen/LSTM/education_level/FC3 input: [500, 6]\n",
      "\u001b[32m[1104 17:15:13 @registry.py:134]\u001b[0m gen/LSTM/education_level/FC3 output: [500, 100]\n",
      "\u001b[32m[1104 17:15:13 @DATSGANModel.py:211]\u001b[0m \u001b[91mCreating cell for work_status (in-edges: 2; ancestors: 3)\n",
      "\u001b[32m[1104 17:15:13 @registry.py:126]\u001b[0m gen/LSTM/concat-work_status/FC_inputs input: [500, 200]\n",
      "\u001b[32m[1104 17:15:13 @registry.py:134]\u001b[0m gen/LSTM/concat-work_status/FC_inputs output: [500, 100]\n",
      "\u001b[32m[1104 17:15:13 @registry.py:126]\u001b[0m gen/LSTM/concat-work_status/FC_attentions input: [500, 200]\n",
      "\u001b[32m[1104 17:15:13 @registry.py:134]\u001b[0m gen/LSTM/concat-work_status/FC_attentions output: [500, 100]\n",
      "\u001b[32m[1104 17:15:13 @registry.py:126]\u001b[0m gen/LSTM/concat-work_status/FC_lstm_state_0 input: [500, 200]\n",
      "\u001b[32m[1104 17:15:13 @registry.py:134]\u001b[0m gen/LSTM/concat-work_status/FC_lstm_state_0 output: [500, 100]\n",
      "\u001b[32m[1104 17:15:13 @registry.py:126]\u001b[0m gen/LSTM/concat-work_status/FC_lstm_state_1 input: [500, 200]\n",
      "\u001b[32m[1104 17:15:13 @registry.py:134]\u001b[0m gen/LSTM/concat-work_status/FC_lstm_state_1 output: [500, 100]\n",
      "WARNING:tensorflow:From C:\\Users\\glede\\Documents\\EPFL\\PhD\\SynthPop\\code\\modules\\datgan\\models\\DATSGANModel.py:289: The name tf.nn.rnn_cell.LSTMStateTuple is deprecated. Please use tf.compat.v1.nn.rnn_cell.LSTMStateTuple instead.\n",
      "\n"
     ]
    },
    {
     "name": "stdout",
     "output_type": "stream",
     "text": [
      "\u001b[32m[1104 17:15:13 @registry.py:126]\u001b[0m gen/LSTM/work_status/FC input: [500, 100]\n",
      "\u001b[32m[1104 17:15:13 @registry.py:134]\u001b[0m gen/LSTM/work_status/FC output: [500, 100]\n",
      "\u001b[32m[1104 17:15:13 @registry.py:126]\u001b[0m gen/LSTM/work_status/FC2 input: [500, 100]\n",
      "\u001b[32m[1104 17:15:13 @registry.py:134]\u001b[0m gen/LSTM/work_status/FC2 output: [500, 8]\n",
      "\u001b[32m[1104 17:15:13 @registry.py:126]\u001b[0m gen/LSTM/work_status/FC3 input: [500, 8]\n",
      "\u001b[32m[1104 17:15:13 @registry.py:134]\u001b[0m gen/LSTM/work_status/FC3 output: [500, 100]\n",
      "\u001b[32m[1104 17:15:13 @DATSGANModel.py:211]\u001b[0m \u001b[91mCreating cell for hh_income (in-edges: 2; ancestors: 4)\n",
      "\u001b[32m[1104 17:15:13 @registry.py:126]\u001b[0m gen/LSTM/concat-hh_income/FC_inputs input: [500, 200]\n",
      "\u001b[32m[1104 17:15:13 @registry.py:134]\u001b[0m gen/LSTM/concat-hh_income/FC_inputs output: [500, 100]\n",
      "\u001b[32m[1104 17:15:13 @registry.py:126]\u001b[0m gen/LSTM/concat-hh_income/FC_attentions input: [500, 200]\n",
      "\u001b[32m[1104 17:15:13 @registry.py:134]\u001b[0m gen/LSTM/concat-hh_income/FC_attentions output: [500, 100]\n",
      "\u001b[32m[1104 17:15:13 @registry.py:126]\u001b[0m gen/LSTM/concat-hh_income/FC_lstm_state_0 input: [500, 200]\n",
      "\u001b[32m[1104 17:15:13 @registry.py:134]\u001b[0m gen/LSTM/concat-hh_income/FC_lstm_state_0 output: [500, 100]\n",
      "\u001b[32m[1104 17:15:13 @registry.py:126]\u001b[0m gen/LSTM/concat-hh_income/FC_lstm_state_1 input: [500, 200]\n",
      "\u001b[32m[1104 17:15:13 @registry.py:134]\u001b[0m gen/LSTM/concat-hh_income/FC_lstm_state_1 output: [500, 100]\n",
      "\u001b[32m[1104 17:15:13 @registry.py:126]\u001b[0m gen/LSTM/hh_income/FC input: [500, 100]\n",
      "\u001b[32m[1104 17:15:13 @registry.py:134]\u001b[0m gen/LSTM/hh_income/FC output: [500, 100]\n",
      "\u001b[32m[1104 17:15:13 @registry.py:126]\u001b[0m gen/LSTM/hh_income/FC2 input: [500, 100]\n",
      "\u001b[32m[1104 17:15:13 @registry.py:134]\u001b[0m gen/LSTM/hh_income/FC2 output: [500, 7]\n",
      "\u001b[32m[1104 17:15:13 @registry.py:126]\u001b[0m gen/LSTM/hh_income/FC3 input: [500, 7]\n",
      "\u001b[32m[1104 17:15:13 @registry.py:134]\u001b[0m gen/LSTM/hh_income/FC3 output: [500, 100]\n",
      "\u001b[32m[1104 17:15:13 @DATSGANModel.py:211]\u001b[0m \u001b[91mCreating cell for trip_purpose (in-edges: 1; ancestors: 4)\n",
      "\u001b[32m[1104 17:15:13 @registry.py:126]\u001b[0m gen/LSTM/trip_purpose/FC input: [500, 100]\n",
      "\u001b[32m[1104 17:15:13 @registry.py:134]\u001b[0m gen/LSTM/trip_purpose/FC output: [500, 100]\n",
      "\u001b[32m[1104 17:15:13 @registry.py:126]\u001b[0m gen/LSTM/trip_purpose/FC2 input: [500, 100]\n",
      "\u001b[32m[1104 17:15:13 @registry.py:134]\u001b[0m gen/LSTM/trip_purpose/FC2 output: [500, 7]\n",
      "\u001b[32m[1104 17:15:13 @registry.py:126]\u001b[0m gen/LSTM/trip_purpose/FC3 input: [500, 7]\n",
      "\u001b[32m[1104 17:15:13 @registry.py:134]\u001b[0m gen/LSTM/trip_purpose/FC3 output: [500, 100]\n",
      "\u001b[32m[1104 17:15:13 @DATSGANModel.py:211]\u001b[0m \u001b[91mCreating cell for hh_descr (in-edges: 2; ancestors: 5)\n",
      "\u001b[32m[1104 17:15:13 @registry.py:126]\u001b[0m gen/LSTM/concat-hh_descr/FC_inputs input: [500, 200]\n",
      "\u001b[32m[1104 17:15:13 @registry.py:134]\u001b[0m gen/LSTM/concat-hh_descr/FC_inputs output: [500, 100]\n",
      "\u001b[32m[1104 17:15:13 @registry.py:126]\u001b[0m gen/LSTM/concat-hh_descr/FC_attentions input: [500, 200]\n",
      "\u001b[32m[1104 17:15:13 @registry.py:134]\u001b[0m gen/LSTM/concat-hh_descr/FC_attentions output: [500, 100]\n",
      "\u001b[32m[1104 17:15:13 @registry.py:126]\u001b[0m gen/LSTM/concat-hh_descr/FC_lstm_state_0 input: [500, 200]\n",
      "\u001b[32m[1104 17:15:13 @registry.py:134]\u001b[0m gen/LSTM/concat-hh_descr/FC_lstm_state_0 output: [500, 100]\n",
      "\u001b[32m[1104 17:15:13 @registry.py:126]\u001b[0m gen/LSTM/concat-hh_descr/FC_lstm_state_1 input: [500, 200]\n",
      "\u001b[32m[1104 17:15:13 @registry.py:134]\u001b[0m gen/LSTM/concat-hh_descr/FC_lstm_state_1 output: [500, 100]\n",
      "\u001b[32m[1104 17:15:13 @registry.py:126]\u001b[0m gen/LSTM/hh_descr/FC input: [500, 100]\n",
      "\u001b[32m[1104 17:15:13 @registry.py:134]\u001b[0m gen/LSTM/hh_descr/FC output: [500, 100]\n",
      "\u001b[32m[1104 17:15:13 @registry.py:126]\u001b[0m gen/LSTM/hh_descr/FC2 input: [500, 100]\n",
      "\u001b[32m[1104 17:15:13 @registry.py:134]\u001b[0m gen/LSTM/hh_descr/FC2 output: [500, 3]\n",
      "\u001b[32m[1104 17:15:13 @registry.py:126]\u001b[0m gen/LSTM/hh_descr/FC3 input: [500, 3]\n",
      "\u001b[32m[1104 17:15:13 @registry.py:134]\u001b[0m gen/LSTM/hh_descr/FC3 output: [500, 100]\n",
      "\u001b[32m[1104 17:15:13 @DATSGANModel.py:211]\u001b[0m \u001b[91mCreating cell for hh_size (in-edges: 3; ancestors: 5)\n",
      "\u001b[32m[1104 17:15:13 @registry.py:126]\u001b[0m gen/LSTM/concat-hh_size/FC_inputs input: [500, 300]\n",
      "\u001b[32m[1104 17:15:13 @registry.py:134]\u001b[0m gen/LSTM/concat-hh_size/FC_inputs output: [500, 100]\n",
      "\u001b[32m[1104 17:15:13 @registry.py:126]\u001b[0m gen/LSTM/concat-hh_size/FC_attentions input: [500, 300]\n",
      "\u001b[32m[1104 17:15:13 @registry.py:134]\u001b[0m gen/LSTM/concat-hh_size/FC_attentions output: [500, 100]\n",
      "\u001b[32m[1104 17:15:13 @registry.py:126]\u001b[0m gen/LSTM/concat-hh_size/FC_lstm_state_0 input: [500, 300]\n",
      "\u001b[32m[1104 17:15:13 @registry.py:134]\u001b[0m gen/LSTM/concat-hh_size/FC_lstm_state_0 output: [500, 100]\n",
      "\u001b[32m[1104 17:15:13 @registry.py:126]\u001b[0m gen/LSTM/concat-hh_size/FC_lstm_state_1 input: [500, 300]\n",
      "\u001b[32m[1104 17:15:13 @registry.py:134]\u001b[0m gen/LSTM/concat-hh_size/FC_lstm_state_1 output: [500, 100]\n",
      "\u001b[32m[1104 17:15:13 @registry.py:126]\u001b[0m gen/LSTM/hh_size/FC input: [500, 100]\n",
      "\u001b[32m[1104 17:15:13 @registry.py:134]\u001b[0m gen/LSTM/hh_size/FC output: [500, 100]\n",
      "\u001b[32m[1104 17:15:13 @registry.py:126]\u001b[0m gen/LSTM/hh_size/FC2 input: [500, 100]\n",
      "\u001b[32m[1104 17:15:13 @registry.py:134]\u001b[0m gen/LSTM/hh_size/FC2 output: [500, 8]\n",
      "\u001b[32m[1104 17:15:13 @registry.py:126]\u001b[0m gen/LSTM/hh_size/FC3 input: [500, 8]\n",
      "\u001b[32m[1104 17:15:13 @registry.py:134]\u001b[0m gen/LSTM/hh_size/FC3 output: [500, 100]\n",
      "\u001b[32m[1104 17:15:14 @DATSGANModel.py:211]\u001b[0m \u001b[91mCreating cell for departure_time (in-edges: 1; ancestors: 5)\n",
      "\u001b[32m[1104 17:15:14 @registry.py:126]\u001b[0m gen/LSTM/departure_time/FC input: [500, 100]\n",
      "\u001b[32m[1104 17:15:14 @registry.py:134]\u001b[0m gen/LSTM/departure_time/FC output: [500, 100]\n",
      "\u001b[32m[1104 17:15:14 @registry.py:126]\u001b[0m gen/LSTM/departure_time/FC2_val input: [500, 100]\n",
      "\u001b[32m[1104 17:15:14 @registry.py:134]\u001b[0m gen/LSTM/departure_time/FC2_val output: [500, 8]\n",
      "\u001b[32m[1104 17:15:14 @registry.py:126]\u001b[0m gen/LSTM/departure_time/FC2_prob input: [500, 100]\n",
      "\u001b[32m[1104 17:15:14 @registry.py:134]\u001b[0m gen/LSTM/departure_time/FC2_prob output: [500, 8]\n",
      "\u001b[32m[1104 17:15:14 @registry.py:126]\u001b[0m gen/LSTM/departure_time/FC3 input: [500, 16]\n",
      "\u001b[32m[1104 17:15:14 @registry.py:134]\u001b[0m gen/LSTM/departure_time/FC3 output: [500, 100]\n",
      "\u001b[32m[1104 17:15:14 @DATSGANModel.py:211]\u001b[0m \u001b[91mCreating cell for distance (in-edges: 1; ancestors: 5)\n",
      "\u001b[32m[1104 17:15:14 @registry.py:126]\u001b[0m gen/LSTM/distance/FC input: [500, 100]\n",
      "\u001b[32m[1104 17:15:14 @registry.py:134]\u001b[0m gen/LSTM/distance/FC output: [500, 100]\n",
      "\u001b[32m[1104 17:15:14 @registry.py:126]\u001b[0m gen/LSTM/distance/FC2_val input: [500, 100]\n",
      "\u001b[32m[1104 17:15:14 @registry.py:134]\u001b[0m gen/LSTM/distance/FC2_val output: [500, 10]\n",
      "\u001b[32m[1104 17:15:14 @registry.py:126]\u001b[0m gen/LSTM/distance/FC2_prob input: [500, 100]\n",
      "\u001b[32m[1104 17:15:14 @registry.py:134]\u001b[0m gen/LSTM/distance/FC2_prob output: [500, 10]\n",
      "\u001b[32m[1104 17:15:14 @registry.py:126]\u001b[0m gen/LSTM/distance/FC3 input: [500, 20]\n",
      "\u001b[32m[1104 17:15:14 @registry.py:134]\u001b[0m gen/LSTM/distance/FC3 output: [500, 100]\n",
      "\u001b[32m[1104 17:15:14 @DATSGANModel.py:211]\u001b[0m \u001b[91mCreating cell for hh_vehicles (in-edges: 2; ancestors: 6)\n",
      "\u001b[32m[1104 17:15:14 @registry.py:126]\u001b[0m gen/LSTM/concat-hh_vehicles/FC_inputs input: [500, 200]\n",
      "\u001b[32m[1104 17:15:14 @registry.py:134]\u001b[0m gen/LSTM/concat-hh_vehicles/FC_inputs output: [500, 100]\n",
      "\u001b[32m[1104 17:15:14 @registry.py:126]\u001b[0m gen/LSTM/concat-hh_vehicles/FC_attentions input: [500, 200]\n",
      "\u001b[32m[1104 17:15:14 @registry.py:134]\u001b[0m gen/LSTM/concat-hh_vehicles/FC_attentions output: [500, 100]\n",
      "\u001b[32m[1104 17:15:14 @registry.py:126]\u001b[0m gen/LSTM/concat-hh_vehicles/FC_lstm_state_0 input: [500, 200]\n",
      "\u001b[32m[1104 17:15:14 @registry.py:134]\u001b[0m gen/LSTM/concat-hh_vehicles/FC_lstm_state_0 output: [500, 100]\n",
      "\u001b[32m[1104 17:15:14 @registry.py:126]\u001b[0m gen/LSTM/concat-hh_vehicles/FC_lstm_state_1 input: [500, 200]\n",
      "\u001b[32m[1104 17:15:14 @registry.py:134]\u001b[0m gen/LSTM/concat-hh_vehicles/FC_lstm_state_1 output: [500, 100]\n",
      "\u001b[32m[1104 17:15:14 @registry.py:126]\u001b[0m gen/LSTM/hh_vehicles/FC input: [500, 100]\n",
      "\u001b[32m[1104 17:15:14 @registry.py:134]\u001b[0m gen/LSTM/hh_vehicles/FC output: [500, 100]\n",
      "\u001b[32m[1104 17:15:14 @registry.py:126]\u001b[0m gen/LSTM/hh_vehicles/FC2 input: [500, 100]\n",
      "\u001b[32m[1104 17:15:14 @registry.py:134]\u001b[0m gen/LSTM/hh_vehicles/FC2 output: [500, 9]\n",
      "\u001b[32m[1104 17:15:14 @registry.py:126]\u001b[0m gen/LSTM/hh_vehicles/FC3 input: [500, 9]\n"
     ]
    },
    {
     "name": "stdout",
     "output_type": "stream",
     "text": [
      "\u001b[32m[1104 17:15:14 @registry.py:134]\u001b[0m gen/LSTM/hh_vehicles/FC3 output: [500, 100]\n",
      "\u001b[32m[1104 17:15:14 @DATSGANModel.py:211]\u001b[0m \u001b[91mCreating cell for hh_bikes (in-edges: 2; ancestors: 6)\n",
      "\u001b[32m[1104 17:15:14 @registry.py:126]\u001b[0m gen/LSTM/concat-hh_bikes/FC_inputs input: [500, 200]\n",
      "\u001b[32m[1104 17:15:14 @registry.py:134]\u001b[0m gen/LSTM/concat-hh_bikes/FC_inputs output: [500, 100]\n",
      "\u001b[32m[1104 17:15:14 @registry.py:126]\u001b[0m gen/LSTM/concat-hh_bikes/FC_attentions input: [500, 200]\n",
      "\u001b[32m[1104 17:15:14 @registry.py:134]\u001b[0m gen/LSTM/concat-hh_bikes/FC_attentions output: [500, 100]\n",
      "\u001b[32m[1104 17:15:14 @registry.py:126]\u001b[0m gen/LSTM/concat-hh_bikes/FC_lstm_state_0 input: [500, 200]\n",
      "\u001b[32m[1104 17:15:14 @registry.py:134]\u001b[0m gen/LSTM/concat-hh_bikes/FC_lstm_state_0 output: [500, 100]\n",
      "\u001b[32m[1104 17:15:14 @registry.py:126]\u001b[0m gen/LSTM/concat-hh_bikes/FC_lstm_state_1 input: [500, 200]\n",
      "\u001b[32m[1104 17:15:14 @registry.py:134]\u001b[0m gen/LSTM/concat-hh_bikes/FC_lstm_state_1 output: [500, 100]\n",
      "\u001b[32m[1104 17:15:14 @registry.py:126]\u001b[0m gen/LSTM/hh_bikes/FC input: [500, 100]\n",
      "\u001b[32m[1104 17:15:14 @registry.py:134]\u001b[0m gen/LSTM/hh_bikes/FC output: [500, 100]\n",
      "\u001b[32m[1104 17:15:14 @registry.py:126]\u001b[0m gen/LSTM/hh_bikes/FC2 input: [500, 100]\n",
      "\u001b[32m[1104 17:15:14 @registry.py:134]\u001b[0m gen/LSTM/hh_bikes/FC2 output: [500, 8]\n",
      "\u001b[32m[1104 17:15:14 @registry.py:126]\u001b[0m gen/LSTM/hh_bikes/FC3 input: [500, 8]\n",
      "\u001b[32m[1104 17:15:14 @registry.py:134]\u001b[0m gen/LSTM/hh_bikes/FC3 output: [500, 100]\n",
      "\u001b[32m[1104 17:15:14 @DATSGANModel.py:211]\u001b[0m \u001b[91mCreating cell for choice (in-edges: 7; ancestors: 13)\n",
      "\u001b[32m[1104 17:15:14 @registry.py:126]\u001b[0m gen/LSTM/concat-choice/FC_inputs input: [500, 700]\n",
      "\u001b[32m[1104 17:15:14 @registry.py:134]\u001b[0m gen/LSTM/concat-choice/FC_inputs output: [500, 100]\n",
      "\u001b[32m[1104 17:15:14 @registry.py:126]\u001b[0m gen/LSTM/concat-choice/FC_attentions input: [500, 700]\n",
      "\u001b[32m[1104 17:15:14 @registry.py:134]\u001b[0m gen/LSTM/concat-choice/FC_attentions output: [500, 100]\n",
      "\u001b[32m[1104 17:15:14 @registry.py:126]\u001b[0m gen/LSTM/concat-choice/FC_lstm_state_0 input: [500, 700]\n",
      "\u001b[32m[1104 17:15:14 @registry.py:134]\u001b[0m gen/LSTM/concat-choice/FC_lstm_state_0 output: [500, 100]\n",
      "\u001b[32m[1104 17:15:14 @registry.py:126]\u001b[0m gen/LSTM/concat-choice/FC_lstm_state_1 input: [500, 700]\n",
      "\u001b[32m[1104 17:15:14 @registry.py:134]\u001b[0m gen/LSTM/concat-choice/FC_lstm_state_1 output: [500, 100]\n",
      "\u001b[32m[1104 17:15:14 @registry.py:126]\u001b[0m gen/LSTM/choice/FC input: [500, 100]\n",
      "\u001b[32m[1104 17:15:14 @registry.py:134]\u001b[0m gen/LSTM/choice/FC output: [500, 100]\n",
      "\u001b[32m[1104 17:15:14 @registry.py:126]\u001b[0m gen/LSTM/choice/FC2 input: [500, 100]\n",
      "\u001b[32m[1104 17:15:14 @registry.py:134]\u001b[0m gen/LSTM/choice/FC2 output: [500, 5]\n",
      "\u001b[32m[1104 17:15:14 @registry.py:126]\u001b[0m gen/LSTM/choice/FC3 input: [500, 5]\n",
      "\u001b[32m[1104 17:15:14 @registry.py:134]\u001b[0m gen/LSTM/choice/FC3 output: [500, 100]\n",
      "WARNING:tensorflow:From C:\\Users\\glede\\Documents\\EPFL\\PhD\\SynthPop\\code\\modules\\datgan\\models\\DATSGANModel.py:543: The name tf.random_uniform is deprecated. Please use tf.random.uniform instead.\n",
      "\n",
      "WARNING:tensorflow:From C:\\Users\\glede\\Documents\\EPFL\\PhD\\SynthPop\\code\\modules\\datgan\\models\\DATSGANModel.py:475: The name tf.log is deprecated. Please use tf.math.log instead.\n",
      "\n",
      "\u001b[32m[1104 17:15:14 @registry.py:126]\u001b[0m discrim/discrim/dis_fc0/fc input: [500, 120]\n",
      "\u001b[32m[1104 17:15:14 @registry.py:134]\u001b[0m discrim/discrim/dis_fc0/fc output: [500, 100]\n",
      "\u001b[32m[1104 17:15:14 @registry.py:126]\u001b[0m discrim/discrim/dis_fc0/FC_DIVERSITY input: [500, 100]\n",
      "\u001b[32m[1104 17:15:14 @registry.py:134]\u001b[0m discrim/discrim/dis_fc0/FC_DIVERSITY output: [500, 100]\n",
      "\u001b[32m[1104 17:15:14 @registry.py:126]\u001b[0m discrim/discrim/dis_fc_top input: [500, 110]\n",
      "\u001b[32m[1104 17:15:14 @registry.py:134]\u001b[0m discrim/discrim/dis_fc_top output: [500, 1]\n",
      "WARNING:tensorflow:From D:\\Users\\glede\\anaconda3\\envs\\py37\\lib\\site-packages\\tensorpack\\tfutils\\summary.py:269: The name tf.add_to_collection is deprecated. Please use tf.compat.v1.add_to_collection instead.\n",
      "\n",
      "WARNING:tensorflow:From C:\\Users\\glede\\Documents\\EPFL\\PhD\\SynthPop\\code\\modules\\datgan\\models\\DATWGANGPModel.py:153: The name tf.train.AdamOptimizer is deprecated. Please use tf.compat.v1.train.AdamOptimizer instead.\n",
      "\n",
      "\u001b[32m[1104 17:15:18 @DATSGAN.py:200]\u001b[0m Found an already existing model. Loading it!\n",
      "WARNING:tensorflow:From D:\\Users\\glede\\anaconda3\\envs\\py37\\lib\\site-packages\\tensorpack\\tfutils\\varmanip.py:178: The name tf.gfile.Exists is deprecated. Please use tf.io.gfile.exists instead.\n",
      "\n",
      "\u001b[32m[1104 17:15:18 @logger.py:83]\u001b[0m Existing log file '../output/Chicago/WGGP_WI_new3/logs\\log.log' backuped to '../output/Chicago/WGGP_WI_new3/logs\\log.log.1104-171518'\n",
      "\u001b[32m[1104 17:15:18 @logger.py:90]\u001b[0m Argv: D:\\Users\\glede\\anaconda3\\envs\\py37\\lib\\site-packages\\ipykernel_launcher.py -f C:\\Users\\glede\\AppData\\Roaming\\jupyter\\runtime\\kernel-de02fd75-ea1f-44ea-b212-b697f4a168ca.json\n",
      "WARNING:tensorflow:From D:\\Users\\glede\\anaconda3\\envs\\py37\\lib\\site-packages\\tensorpack\\callbacks\\saver.py:43: The name tf.gfile.IsDirectory is deprecated. Please use tf.io.gfile.isdir instead.\n",
      "\n",
      "WARNING:tensorflow:From D:\\Users\\glede\\anaconda3\\envs\\py37\\lib\\site-packages\\tensorpack\\tfutils\\common.py:41: The name tf.ConfigProto is deprecated. Please use tf.compat.v1.ConfigProto instead.\n",
      "\n",
      "\u001b[32m[1104 17:15:18 @model_utils.py:67]\u001b[0m \u001b[36mList of Trainable Variables: \n",
      "\u001b[0mname                                             shape         #elements\n",
      "-----------------------------------------------  ----------  -----------\n",
      "gen/LSTM/zero.input-age:0                        [1, 100]            100\n",
      "gen/LSTM/age/kernel:0                            [500, 400]       200000\n",
      "gen/LSTM/age/bias:0                              [400]               400\n",
      "gen/LSTM/age/FC/W:0                              [100, 100]        10000\n",
      "gen/LSTM/age/FC/b:0                              [100]               100\n",
      "gen/LSTM/age/FC2_val/W:0                         [100, 6]            600\n",
      "gen/LSTM/age/FC2_val/b:0                         [6]                   6\n",
      "gen/LSTM/age/FC2_prob/W:0                        [100, 6]            600\n",
      "gen/LSTM/age/FC2_prob/b:0                        [6]                   6\n",
      "gen/LSTM/age/FC3/W:0                             [12, 100]          1200\n",
      "gen/LSTM/age/FC3/b:0                             [100]               100\n",
      "gen/LSTM/age/attw:0                              [1, 1, 1]             1\n",
      "gen/LSTM/zero.input-gender:0                     [1, 100]            100\n",
      "gen/LSTM/gender/kernel:0                         [500, 400]       200000\n",
      "gen/LSTM/gender/bias:0                           [400]               400\n",
      "gen/LSTM/gender/FC/W:0                           [100, 100]        10000\n",
      "gen/LSTM/gender/FC/b:0                           [100]               100\n",
      "gen/LSTM/gender/FC2/W:0                          [100, 2]            200\n",
      "gen/LSTM/gender/FC2/b:0                          [2]                   2\n",
      "gen/LSTM/gender/FC3/W:0                          [2, 100]            200\n",
      "gen/LSTM/gender/FC3/b:0                          [100]               100\n",
      "gen/LSTM/gender/attw:0                           [1, 1, 1]             1\n",
      "gen/LSTM/zero.input-travel_dow:0                 [1, 100]            100\n",
      "gen/LSTM/travel_dow/kernel:0                     [500, 400]       200000\n",
      "gen/LSTM/travel_dow/bias:0                       [400]               400\n",
      "gen/LSTM/travel_dow/FC/W:0                       [100, 100]        10000\n",
      "gen/LSTM/travel_dow/FC/b:0                       [100]               100\n",
      "gen/LSTM/travel_dow/FC2/W:0                      [100, 7]            700\n",
      "gen/LSTM/travel_dow/FC2/b:0                      [7]                   7\n",
      "gen/LSTM/travel_dow/FC3/W:0                      [7, 100]            700\n",
      "gen/LSTM/travel_dow/FC3/b:0                      [100]               100\n",
      "gen/LSTM/travel_dow/attw:0                       [1, 1, 1]             1\n",
      "gen/LSTM/license/kernel:0                        [500, 400]       200000\n",
      "gen/LSTM/license/bias:0                          [400]               400\n",
      "gen/LSTM/license/FC/W:0                          [100, 100]        10000\n",
      "gen/LSTM/license/FC/b:0                          [100]               100\n",
      "gen/LSTM/license/FC2/W:0                         [100, 2]            200\n",
      "gen/LSTM/license/FC2/b:0                         [2]                   2\n",
      "gen/LSTM/license/FC3/W:0                         [2, 100]            200\n",
      "gen/LSTM/license/FC3/b:0                         [100]               100\n",
      "gen/LSTM/license/attw:0                          [2, 1, 1]             2\n",
      "gen/LSTM/education_level/kernel:0                [500, 400]       200000\n",
      "gen/LSTM/education_level/bias:0                  [400]               400\n",
      "gen/LSTM/education_level/FC/W:0                  [100, 100]        10000\n",
      "gen/LSTM/education_level/FC/b:0                  [100]               100\n",
      "gen/LSTM/education_level/FC2/W:0                 [100, 6]            600\n",
      "gen/LSTM/education_level/FC2/b:0                 [6]                   6\n",
      "gen/LSTM/education_level/FC3/W:0                 [6, 100]            600\n",
      "gen/LSTM/education_level/FC3/b:0                 [100]               100\n",
      "gen/LSTM/education_level/attw:0                  [2, 1, 1]             2\n",
      "gen/LSTM/concat-work_status/FC_inputs/W:0        [200, 100]        20000\n",
      "gen/LSTM/concat-work_status/FC_inputs/b:0        [100]               100\n",
      "gen/LSTM/concat-work_status/FC_attentions/W:0    [200, 100]        20000\n",
      "gen/LSTM/concat-work_status/FC_attentions/b:0    [100]               100\n",
      "gen/LSTM/concat-work_status/FC_lstm_state_0/W:0  [200, 100]        20000\n",
      "gen/LSTM/concat-work_status/FC_lstm_state_0/b:0  [100]               100\n",
      "gen/LSTM/concat-work_status/FC_lstm_state_1/W:0  [200, 100]        20000\n",
      "gen/LSTM/concat-work_status/FC_lstm_state_1/b:0  [100]               100\n",
      "gen/LSTM/work_status/kernel:0                    [500, 400]       200000\n",
      "gen/LSTM/work_status/bias:0                      [400]               400\n",
      "gen/LSTM/work_status/FC/W:0                      [100, 100]        10000\n",
      "gen/LSTM/work_status/FC/b:0                      [100]               100\n",
      "gen/LSTM/work_status/FC2/W:0                     [100, 8]            800\n",
      "gen/LSTM/work_status/FC2/b:0                     [8]                   8\n",
      "gen/LSTM/work_status/FC3/W:0                     [8, 100]            800\n",
      "gen/LSTM/work_status/FC3/b:0                     [100]               100\n",
      "gen/LSTM/work_status/attw:0                      [4, 1, 1]             4\n",
      "gen/LSTM/concat-hh_income/FC_inputs/W:0          [200, 100]        20000\n",
      "gen/LSTM/concat-hh_income/FC_inputs/b:0          [100]               100\n",
      "gen/LSTM/concat-hh_income/FC_attentions/W:0      [200, 100]        20000\n",
      "gen/LSTM/concat-hh_income/FC_attentions/b:0      [100]               100\n",
      "gen/LSTM/concat-hh_income/FC_lstm_state_0/W:0    [200, 100]        20000\n",
      "gen/LSTM/concat-hh_income/FC_lstm_state_0/b:0    [100]               100\n",
      "gen/LSTM/concat-hh_income/FC_lstm_state_1/W:0    [200, 100]        20000\n",
      "gen/LSTM/concat-hh_income/FC_lstm_state_1/b:0    [100]               100\n",
      "gen/LSTM/hh_income/kernel:0                      [500, 400]       200000\n",
      "gen/LSTM/hh_income/bias:0                        [400]               400\n",
      "gen/LSTM/hh_income/FC/W:0                        [100, 100]        10000\n",
      "gen/LSTM/hh_income/FC/b:0                        [100]               100\n",
      "gen/LSTM/hh_income/FC2/W:0                       [100, 7]            700\n",
      "gen/LSTM/hh_income/FC2/b:0                       [7]                   7\n",
      "gen/LSTM/hh_income/FC3/W:0                       [7, 100]            700\n",
      "gen/LSTM/hh_income/FC3/b:0                       [100]               100\n",
      "gen/LSTM/hh_income/attw:0                        [5, 1, 1]             5\n",
      "gen/LSTM/trip_purpose/kernel:0                   [500, 400]       200000\n",
      "gen/LSTM/trip_purpose/bias:0                     [400]               400\n",
      "gen/LSTM/trip_purpose/FC/W:0                     [100, 100]        10000\n",
      "gen/LSTM/trip_purpose/FC/b:0                     [100]               100\n",
      "gen/LSTM/trip_purpose/FC2/W:0                    [100, 7]            700\n",
      "gen/LSTM/trip_purpose/FC2/b:0                    [7]                   7\n",
      "gen/LSTM/trip_purpose/FC3/W:0                    [7, 100]            700\n",
      "gen/LSTM/trip_purpose/FC3/b:0                    [100]               100\n",
      "gen/LSTM/trip_purpose/attw:0                     [5, 1, 1]             5\n",
      "gen/LSTM/concat-hh_descr/FC_inputs/W:0           [200, 100]        20000\n",
      "gen/LSTM/concat-hh_descr/FC_inputs/b:0           [100]               100\n",
      "gen/LSTM/concat-hh_descr/FC_attentions/W:0       [200, 100]        20000\n",
      "gen/LSTM/concat-hh_descr/FC_attentions/b:0       [100]               100\n",
      "gen/LSTM/concat-hh_descr/FC_lstm_state_0/W:0     [200, 100]        20000\n",
      "gen/LSTM/concat-hh_descr/FC_lstm_state_0/b:0     [100]               100\n",
      "gen/LSTM/concat-hh_descr/FC_lstm_state_1/W:0     [200, 100]        20000\n",
      "gen/LSTM/concat-hh_descr/FC_lstm_state_1/b:0     [100]               100\n",
      "gen/LSTM/hh_descr/kernel:0                       [500, 400]       200000\n",
      "gen/LSTM/hh_descr/bias:0                         [400]               400\n",
      "gen/LSTM/hh_descr/FC/W:0                         [100, 100]        10000\n",
      "gen/LSTM/hh_descr/FC/b:0                         [100]               100\n",
      "gen/LSTM/hh_descr/FC2/W:0                        [100, 3]            300\n",
      "gen/LSTM/hh_descr/FC2/b:0                        [3]                   3\n",
      "gen/LSTM/hh_descr/FC3/W:0                        [3, 100]            300\n",
      "gen/LSTM/hh_descr/FC3/b:0                        [100]               100\n",
      "gen/LSTM/hh_descr/attw:0                         [6, 1, 1]             6\n",
      "gen/LSTM/concat-hh_size/FC_inputs/W:0            [300, 100]        30000\n",
      "gen/LSTM/concat-hh_size/FC_inputs/b:0            [100]               100\n",
      "gen/LSTM/concat-hh_size/FC_attentions/W:0        [300, 100]        30000\n",
      "gen/LSTM/concat-hh_size/FC_attentions/b:0        [100]               100\n",
      "gen/LSTM/concat-hh_size/FC_lstm_state_0/W:0      [300, 100]        30000\n",
      "gen/LSTM/concat-hh_size/FC_lstm_state_0/b:0      [100]               100\n",
      "gen/LSTM/concat-hh_size/FC_lstm_state_1/W:0      [300, 100]        30000\n",
      "gen/LSTM/concat-hh_size/FC_lstm_state_1/b:0      [100]               100\n",
      "gen/LSTM/hh_size/kernel:0                        [500, 400]       200000\n",
      "gen/LSTM/hh_size/bias:0                          [400]               400\n",
      "gen/LSTM/hh_size/FC/W:0                          [100, 100]        10000\n",
      "gen/LSTM/hh_size/FC/b:0                          [100]               100\n",
      "gen/LSTM/hh_size/FC2/W:0                         [100, 8]            800\n",
      "gen/LSTM/hh_size/FC2/b:0                         [8]                   8\n",
      "gen/LSTM/hh_size/FC3/W:0                         [8, 100]            800\n",
      "gen/LSTM/hh_size/FC3/b:0                         [100]               100\n",
      "gen/LSTM/hh_size/attw:0                          [6, 1, 1]             6\n",
      "gen/LSTM/departure_time/kernel:0                 [500, 400]       200000\n",
      "gen/LSTM/departure_time/bias:0                   [400]               400\n",
      "gen/LSTM/departure_time/FC/W:0                   [100, 100]        10000\n",
      "gen/LSTM/departure_time/FC/b:0                   [100]               100\n",
      "gen/LSTM/departure_time/FC2_val/W:0              [100, 8]            800\n",
      "gen/LSTM/departure_time/FC2_val/b:0              [8]                   8\n",
      "gen/LSTM/departure_time/FC2_prob/W:0             [100, 8]            800\n",
      "gen/LSTM/departure_time/FC2_prob/b:0             [8]                   8\n",
      "gen/LSTM/departure_time/FC3/W:0                  [16, 100]          1600\n",
      "gen/LSTM/departure_time/FC3/b:0                  [100]               100\n",
      "gen/LSTM/departure_time/attw:0                   [6, 1, 1]             6\n",
      "gen/LSTM/distance/kernel:0                       [500, 400]       200000\n",
      "gen/LSTM/distance/bias:0                         [400]               400\n",
      "gen/LSTM/distance/FC/W:0                         [100, 100]        10000\n",
      "gen/LSTM/distance/FC/b:0                         [100]               100\n",
      "gen/LSTM/distance/FC2_val/W:0                    [100, 10]          1000\n",
      "gen/LSTM/distance/FC2_val/b:0                    [10]                 10\n",
      "gen/LSTM/distance/FC2_prob/W:0                   [100, 10]          1000\n",
      "gen/LSTM/distance/FC2_prob/b:0                   [10]                 10\n",
      "gen/LSTM/distance/FC3/W:0                        [20, 100]          2000\n",
      "gen/LSTM/distance/FC3/b:0                        [100]               100\n",
      "gen/LSTM/distance/attw:0                         [6, 1, 1]             6\n",
      "gen/LSTM/concat-hh_vehicles/FC_inputs/W:0        [200, 100]        20000\n",
      "gen/LSTM/concat-hh_vehicles/FC_inputs/b:0        [100]               100\n",
      "gen/LSTM/concat-hh_vehicles/FC_attentions/W:0    [200, 100]        20000\n",
      "gen/LSTM/concat-hh_vehicles/FC_attentions/b:0    [100]               100\n",
      "gen/LSTM/concat-hh_vehicles/FC_lstm_state_0/W:0  [200, 100]        20000\n",
      "gen/LSTM/concat-hh_vehicles/FC_lstm_state_0/b:0  [100]               100\n",
      "gen/LSTM/concat-hh_vehicles/FC_lstm_state_1/W:0  [200, 100]        20000\n",
      "gen/LSTM/concat-hh_vehicles/FC_lstm_state_1/b:0  [100]               100\n",
      "gen/LSTM/hh_vehicles/kernel:0                    [500, 400]       200000\n",
      "gen/LSTM/hh_vehicles/bias:0                      [400]               400\n",
      "gen/LSTM/hh_vehicles/FC/W:0                      [100, 100]        10000\n",
      "gen/LSTM/hh_vehicles/FC/b:0                      [100]               100\n",
      "gen/LSTM/hh_vehicles/FC2/W:0                     [100, 9]            900\n",
      "gen/LSTM/hh_vehicles/FC2/b:0                     [9]                   9\n",
      "gen/LSTM/hh_vehicles/FC3/W:0                     [9, 100]            900\n",
      "gen/LSTM/hh_vehicles/FC3/b:0                     [100]               100\n",
      "gen/LSTM/hh_vehicles/attw:0                      [7, 1, 1]             7\n",
      "gen/LSTM/concat-hh_bikes/FC_inputs/W:0           [200, 100]        20000\n",
      "gen/LSTM/concat-hh_bikes/FC_inputs/b:0           [100]               100\n",
      "gen/LSTM/concat-hh_bikes/FC_attentions/W:0       [200, 100]        20000\n",
      "gen/LSTM/concat-hh_bikes/FC_attentions/b:0       [100]               100\n",
      "gen/LSTM/concat-hh_bikes/FC_lstm_state_0/W:0     [200, 100]        20000\n",
      "gen/LSTM/concat-hh_bikes/FC_lstm_state_0/b:0     [100]               100\n",
      "gen/LSTM/concat-hh_bikes/FC_lstm_state_1/W:0     [200, 100]        20000\n",
      "gen/LSTM/concat-hh_bikes/FC_lstm_state_1/b:0     [100]               100\n",
      "gen/LSTM/hh_bikes/kernel:0                       [500, 400]       200000\n",
      "gen/LSTM/hh_bikes/bias:0                         [400]               400\n",
      "gen/LSTM/hh_bikes/FC/W:0                         [100, 100]        10000\n",
      "gen/LSTM/hh_bikes/FC/b:0                         [100]               100\n",
      "gen/LSTM/hh_bikes/FC2/W:0                        [100, 8]            800\n",
      "gen/LSTM/hh_bikes/FC2/b:0                        [8]                   8\n",
      "gen/LSTM/hh_bikes/FC3/W:0                        [8, 100]            800\n",
      "gen/LSTM/hh_bikes/FC3/b:0                        [100]               100\n",
      "gen/LSTM/hh_bikes/attw:0                         [7, 1, 1]             7\n",
      "gen/LSTM/concat-choice/FC_inputs/W:0             [700, 100]        70000\n",
      "gen/LSTM/concat-choice/FC_inputs/b:0             [100]               100\n",
      "gen/LSTM/concat-choice/FC_attentions/W:0         [700, 100]        70000\n",
      "gen/LSTM/concat-choice/FC_attentions/b:0         [100]               100\n",
      "gen/LSTM/concat-choice/FC_lstm_state_0/W:0       [700, 100]        70000\n",
      "gen/LSTM/concat-choice/FC_lstm_state_0/b:0       [100]               100\n",
      "gen/LSTM/concat-choice/FC_lstm_state_1/W:0       [700, 100]        70000\n",
      "gen/LSTM/concat-choice/FC_lstm_state_1/b:0       [100]               100\n",
      "gen/LSTM/choice/kernel:0                         [500, 400]       200000\n",
      "gen/LSTM/choice/bias:0                           [400]               400\n",
      "gen/LSTM/choice/FC/W:0                           [100, 100]        10000\n",
      "gen/LSTM/choice/FC/b:0                           [100]               100\n",
      "gen/LSTM/choice/FC2/W:0                          [100, 5]            500\n",
      "gen/LSTM/choice/FC2/b:0                          [5]                   5\n",
      "gen/LSTM/choice/FC3/W:0                          [5, 100]            500\n",
      "gen/LSTM/choice/FC3/b:0                          [100]               100\n",
      "gen/LSTM/choice/attw:0                           [14, 1, 1]           14\n",
      "discrim/discrim/dis_fc0/fc/W:0                   [120, 100]        12000\n",
      "discrim/discrim/dis_fc0/fc/b:0                   [100]               100\n",
      "discrim/discrim/dis_fc0/FC_DIVERSITY/W:0         [100, 100]        10000\n",
      "discrim/discrim/dis_fc0/FC_DIVERSITY/b:0         [100]               100\n",
      "discrim/discrim/dis_fc0/ln/beta:0                [110]               110\n",
      "discrim/discrim/dis_fc0/ln/gamma:0               [110]               110\n",
      "discrim/discrim/dis_fc_top/W:0                   [110, 1]            110\n",
      "discrim/discrim/dis_fc_top/b:0                   [1]                   1\u001b[36m\n",
      "Number of trainable variables: 208\n",
      "Number of parameters (elements): 4008824\n",
      "Storage space needed for all trainable variables: 15.29MB\u001b[0m\n"
     ]
    },
    {
     "name": "stdout",
     "output_type": "stream",
     "text": [
      "\u001b[32m[1104 17:15:18 @base.py:209]\u001b[0m Setup callbacks graph ...\n",
      "WARNING:tensorflow:From D:\\Users\\glede\\anaconda3\\envs\\py37\\lib\\site-packages\\tensorpack\\callbacks\\graph.py:54: The name tf.train.SessionRunArgs is deprecated. Please use tf.estimator.SessionRunArgs instead.\n",
      "\n",
      "WARNING:tensorflow:From D:\\Users\\glede\\anaconda3\\envs\\py37\\lib\\site-packages\\tensorpack\\tfutils\\common.py:75: The name tf.VariableScope is deprecated. Please use tf.compat.v1.VariableScope instead.\n",
      "\n",
      "WARNING:tensorflow:From D:\\Users\\glede\\anaconda3\\envs\\py37\\lib\\site-packages\\tensorpack\\tfutils\\common.py:77: The name tf.train.get_or_create_global_step is deprecated. Please use tf.compat.v1.train.get_or_create_global_step instead.\n",
      "\n",
      "WARNING:tensorflow:From D:\\Users\\glede\\anaconda3\\envs\\py37\\lib\\site-packages\\tensorpack\\callbacks\\steps.py:117: The name tf.assign_add is deprecated. Please use tf.compat.v1.assign_add instead.\n",
      "\n",
      "WARNING:tensorflow:From D:\\Users\\glede\\anaconda3\\envs\\py37\\lib\\site-packages\\tensorpack\\callbacks\\saver.py:55: The name tf.train.Saver is deprecated. Please use tf.compat.v1.train.Saver instead.\n",
      "\n",
      "WARNING:tensorflow:From D:\\Users\\glede\\anaconda3\\envs\\py37\\lib\\site-packages\\tensorpack\\callbacks\\saver.py:59: The name tf.train.SaverDef is deprecated. Please use tf.compat.v1.train.SaverDef instead.\n",
      "\n",
      "\u001b[32m[1104 17:15:18 @summary.py:46]\u001b[0m [MovingAverageSummary] 5 operations in collection 'MOVING_SUMMARY_OPS' will be run with session hooks.\n",
      "\u001b[32m[1104 17:15:18 @summary.py:93]\u001b[0m Summarizing collection 'summaries' of size 6.\n",
      "WARNING:tensorflow:From D:\\Users\\glede\\anaconda3\\envs\\py37\\lib\\site-packages\\tensorpack\\callbacks\\summary.py:94: The name tf.summary.merge_all is deprecated. Please use tf.compat.v1.summary.merge_all instead.\n",
      "\n",
      "WARNING:tensorflow:From D:\\Users\\glede\\anaconda3\\envs\\py37\\lib\\site-packages\\tensorpack\\callbacks\\monitor.py:261: The name tf.summary.FileWriter is deprecated. Please use tf.compat.v1.summary.FileWriter instead.\n",
      "\n",
      "WARNING:tensorflow:From D:\\Users\\glede\\anaconda3\\envs\\py37\\lib\\site-packages\\tensorpack\\tfutils\\sessinit.py:120: The name tf.train.NewCheckpointReader is deprecated. Please use tf.compat.v1.train.NewCheckpointReader instead.\n",
      "\n",
      "WARNING:tensorflow:From D:\\Users\\glede\\anaconda3\\envs\\py37\\lib\\site-packages\\tensorpack\\tfutils\\sessinit.py:127: The name tf.global_variables is deprecated. Please use tf.compat.v1.global_variables instead.\n",
      "\n",
      "\u001b[32m[1104 17:15:19 @base.py:230]\u001b[0m Creating the session ...\n",
      "WARNING:tensorflow:From D:\\Users\\glede\\anaconda3\\envs\\py37\\lib\\site-packages\\tensorpack\\tfutils\\sesscreate.py:42: The name tf.Session is deprecated. Please use tf.compat.v1.Session instead.\n",
      "\n",
      "WARNING:tensorflow:From D:\\Users\\glede\\anaconda3\\envs\\py37\\lib\\site-packages\\tensorpack\\tfutils\\sesscreate.py:71: The name tf.global_variables_initializer is deprecated. Please use tf.compat.v1.global_variables_initializer instead.\n",
      "\n",
      "WARNING:tensorflow:From D:\\Users\\glede\\anaconda3\\envs\\py37\\lib\\site-packages\\tensorpack\\tfutils\\sesscreate.py:62: get_backward_walk_ops (from tensorflow.contrib.graph_editor.select) is deprecated and will be removed after 2019-06-06.\n",
      "Instructions for updating:\n",
      "Please use tensorflow.python.ops.op_selector.get_backward_walk_ops.\n",
      "WARNING:tensorflow:From D:\\Users\\glede\\anaconda3\\envs\\py37\\lib\\site-packages\\tensorpack\\tfutils\\sesscreate.py:72: The name tf.local_variables_initializer is deprecated. Please use tf.compat.v1.local_variables_initializer instead.\n",
      "\n",
      "WARNING:tensorflow:From D:\\Users\\glede\\anaconda3\\envs\\py37\\lib\\site-packages\\tensorpack\\tfutils\\sesscreate.py:73: The name tf.tables_initializer is deprecated. Please use tf.compat.v1.tables_initializer instead.\n",
      "\n",
      "WARNING:tensorflow:From D:\\Users\\glede\\anaconda3\\envs\\py37\\lib\\site-packages\\tensorpack\\train\\base.py:254: The name tf.train.MonitoredSession is deprecated. Please use tf.compat.v1.train.MonitoredSession instead.\n",
      "\n",
      "\u001b[32m[1104 17:15:21 @base.py:236]\u001b[0m Initializing the session ...\n",
      "\u001b[32m[1104 17:15:21 @sessinit.py:114]\u001b[0m Restoring checkpoint from ../output/Chicago/WGGP_WI_new3/model\\model-104999 ...\n",
      "INFO:tensorflow:Restoring parameters from ../output/Chicago/WGGP_WI_new3/model\\model-104999\n",
      "\u001b[32m[1104 17:15:22 @base.py:243]\u001b[0m Graph Finalized.\n",
      "WARNING:tensorflow:From D:\\Users\\glede\\anaconda3\\envs\\py37\\lib\\site-packages\\tensorpack\\tfutils\\common.py:89: The name tf.train.global_step is deprecated. Please use tf.compat.v1.train.global_step instead.\n",
      "\n",
      "WARNING:tensorflow:From D:\\Users\\glede\\anaconda3\\envs\\py37\\lib\\site-packages\\tensorpack\\tfutils\\common.py:90: The name tf.get_default_session is deprecated. Please use tf.compat.v1.get_default_session instead.\n",
      "\n",
      "\u001b[32m[1104 17:15:22 @concurrency.py:38]\u001b[0m Starting EnqueueThread QueueInput/input_queue ...\n",
      "\u001b[32m[1104 17:15:22 @steps.py:124]\u001b[0m Start training with global_step=104999\n",
      "\u001b[32m[1104 17:15:22 @monitor.py:347]\u001b[0m Found existing JSON inside ../output/Chicago/WGGP_WI_new3/logs, will append to it.\n",
      "\u001b[32m[1104 17:15:22 @base.py:275]\u001b[0m Start Epoch 501 ...\n"
     ]
    },
    {
     "name": "stderr",
     "output_type": "stream",
     "text": [
      " 98%|#################################################################################1 |171/175[00:09<00:00,26.30it/s]"
     ]
    },
    {
     "name": "stdout",
     "output_type": "stream",
     "text": [
      "WARNING:tensorflow:From D:\\Users\\glede\\anaconda3\\envs\\py37\\lib\\site-packages\\tensorpack\\callbacks\\monitor.py:148: The name tf.Summary is deprecated. Please use tf.compat.v1.Summary instead.\n",
      "\n"
     ]
    },
    {
     "name": "stderr",
     "output_type": "stream",
     "text": [
      "\r",
      "100%|###################################################################################|175/175[00:10<00:00,16.36it/s]"
     ]
    },
    {
     "name": "stdout",
     "output_type": "stream",
     "text": [
      "\u001b[32m[1104 17:15:33 @base.py:285]\u001b[0m Epoch 501 (global_step 105209) finished, time:10.7 seconds.\n",
      "WARNING:tensorflow:From D:\\Users\\glede\\anaconda3\\envs\\py37\\lib\\site-packages\\tensorpack\\callbacks\\saver.py:77: The name tf.train.get_global_step is deprecated. Please use tf.compat.v1.train.get_global_step instead.\n",
      "\n"
     ]
    },
    {
     "name": "stderr",
     "output_type": "stream",
     "text": [
      "\n"
     ]
    },
    {
     "name": "stdout",
     "output_type": "stream",
     "text": [
      "\u001b[32m[1104 17:15:33 @saver.py:79]\u001b[0m Model saved to ../output/Chicago/WGGP_WI_new3/model\\model-105209.\n",
      "\u001b[32m[1104 17:15:33 @monitor.py:467]\u001b[0m GAN_loss/d_loss: -0.47424\n",
      "\u001b[32m[1104 17:15:33 @monitor.py:467]\u001b[0m GAN_loss/g_loss: -0.14703\n",
      "\u001b[32m[1104 17:15:33 @monitor.py:467]\u001b[0m GAN_loss/gradient_penalty: 0.0076089\n",
      "\u001b[32m[1104 17:15:33 @monitor.py:467]\u001b[0m GAN_loss/gradient_rms: 0.99785\n",
      "\u001b[32m[1104 17:15:33 @monitor.py:467]\u001b[0m GAN_loss/kl_div: 0.073899\n",
      "\u001b[32m[1104 17:15:33 @monitor.py:467]\u001b[0m QueueInput/queue_size: 50\n",
      "\u001b[32m[1104 17:15:33 @base.py:275]\u001b[0m Start Epoch 502 ...\n"
     ]
    },
    {
     "name": "stderr",
     "output_type": "stream",
     "text": [
      "100%|###################################################################################|175/175[00:06<00:00,26.81it/s]"
     ]
    },
    {
     "name": "stdout",
     "output_type": "stream",
     "text": [
      "\u001b[32m[1104 17:15:40 @base.py:285]\u001b[0m Epoch 502 (global_step 105419) finished, time:6.53 seconds.\n",
      "\u001b[32m[1104 17:15:40 @saver.py:79]\u001b[0m Model saved to ../output/Chicago/WGGP_WI_new3/model\\model-105419.\n",
      "\u001b[32m[1104 17:15:40 @monitor.py:467]\u001b[0m GAN_loss/d_loss: -0.46297\n"
     ]
    },
    {
     "name": "stderr",
     "output_type": "stream",
     "text": [
      "\n"
     ]
    },
    {
     "name": "stdout",
     "output_type": "stream",
     "text": [
      "\u001b[32m[1104 17:15:40 @monitor.py:467]\u001b[0m GAN_loss/g_loss: -0.14391\n",
      "\u001b[32m[1104 17:15:40 @monitor.py:467]\u001b[0m GAN_loss/gradient_penalty: 0.0081492\n",
      "\u001b[32m[1104 17:15:40 @monitor.py:467]\u001b[0m GAN_loss/gradient_rms: 0.99921\n",
      "\u001b[32m[1104 17:15:40 @monitor.py:467]\u001b[0m GAN_loss/kl_div: 0.067924\n",
      "\u001b[32m[1104 17:15:40 @monitor.py:467]\u001b[0m QueueInput/queue_size: 50\n",
      "\u001b[32m[1104 17:15:40 @base.py:275]\u001b[0m Start Epoch 503 ...\n"
     ]
    },
    {
     "name": "stderr",
     "output_type": "stream",
     "text": [
      "100%|###################################################################################|175/175[00:06<00:00,26.80it/s]"
     ]
    },
    {
     "name": "stdout",
     "output_type": "stream",
     "text": [
      "\u001b[32m[1104 17:15:47 @base.py:285]\u001b[0m Epoch 503 (global_step 105629) finished, time:6.53 seconds.\n"
     ]
    },
    {
     "name": "stderr",
     "output_type": "stream",
     "text": [
      "\n"
     ]
    },
    {
     "name": "stdout",
     "output_type": "stream",
     "text": [
      "\u001b[32m[1104 17:15:47 @saver.py:79]\u001b[0m Model saved to ../output/Chicago/WGGP_WI_new3/model\\model-105629.\n",
      "\u001b[32m[1104 17:15:47 @monitor.py:467]\u001b[0m GAN_loss/d_loss: -0.40489\n",
      "\u001b[32m[1104 17:15:47 @monitor.py:467]\u001b[0m GAN_loss/g_loss: -0.16825\n",
      "\u001b[32m[1104 17:15:47 @monitor.py:467]\u001b[0m GAN_loss/gradient_penalty: 0.007789\n",
      "\u001b[32m[1104 17:15:47 @monitor.py:467]\u001b[0m GAN_loss/gradient_rms: 0.9972\n",
      "\u001b[32m[1104 17:15:47 @monitor.py:467]\u001b[0m GAN_loss/kl_div: 0.083033\n",
      "\u001b[32m[1104 17:15:47 @monitor.py:467]\u001b[0m QueueInput/queue_size: 50\n",
      "\u001b[32m[1104 17:15:47 @base.py:275]\u001b[0m Start Epoch 504 ...\n"
     ]
    },
    {
     "name": "stderr",
     "output_type": "stream",
     "text": [
      "100%|###################################################################################|175/175[00:06<00:00,26.84it/s]"
     ]
    },
    {
     "name": "stdout",
     "output_type": "stream",
     "text": [
      "\u001b[32m[1104 17:15:53 @base.py:285]\u001b[0m Epoch 504 (global_step 105839) finished, time:6.52 seconds.\n",
      "\u001b[32m[1104 17:15:54 @saver.py:79]\u001b[0m Model saved to ../output/Chicago/WGGP_WI_new3/model\\model-105839.\n",
      "\u001b[32m[1104 17:15:54 @monitor.py:467]\u001b[0m GAN_loss/d_loss: -0.33977\n"
     ]
    },
    {
     "name": "stderr",
     "output_type": "stream",
     "text": [
      "\n"
     ]
    },
    {
     "name": "stdout",
     "output_type": "stream",
     "text": [
      "\u001b[32m[1104 17:15:54 @monitor.py:467]\u001b[0m GAN_loss/g_loss: -0.15478\n",
      "\u001b[32m[1104 17:15:54 @monitor.py:467]\u001b[0m GAN_loss/gradient_penalty: 0.0077502\n",
      "\u001b[32m[1104 17:15:54 @monitor.py:467]\u001b[0m GAN_loss/gradient_rms: 0.99763\n",
      "\u001b[32m[1104 17:15:54 @monitor.py:467]\u001b[0m GAN_loss/kl_div: 0.087198\n",
      "\u001b[32m[1104 17:15:54 @monitor.py:467]\u001b[0m QueueInput/queue_size: 50\n",
      "\u001b[32m[1104 17:15:54 @base.py:275]\u001b[0m Start Epoch 505 ...\n"
     ]
    },
    {
     "name": "stderr",
     "output_type": "stream",
     "text": [
      "100%|###################################################################################|175/175[00:06<00:00,26.84it/s]"
     ]
    },
    {
     "name": "stdout",
     "output_type": "stream",
     "text": [
      "\u001b[32m[1104 17:16:00 @base.py:285]\u001b[0m Epoch 505 (global_step 106049) finished, time:6.52 seconds.\n",
      "\u001b[32m[1104 17:16:00 @saver.py:79]\u001b[0m Model saved to ../output/Chicago/WGGP_WI_new3/model\\model-106049.\n",
      "\u001b[32m[1104 17:16:00 @monitor.py:467]\u001b[0m GAN_loss/d_loss: -0.3134\n"
     ]
    },
    {
     "name": "stderr",
     "output_type": "stream",
     "text": [
      "\n"
     ]
    },
    {
     "name": "stdout",
     "output_type": "stream",
     "text": [
      "\u001b[32m[1104 17:16:00 @monitor.py:467]\u001b[0m GAN_loss/g_loss: -0.14551\n",
      "\u001b[32m[1104 17:16:00 @monitor.py:467]\u001b[0m GAN_loss/gradient_penalty: 0.0072657\n",
      "\u001b[32m[1104 17:16:00 @monitor.py:467]\u001b[0m GAN_loss/gradient_rms: 0.99848\n",
      "\u001b[32m[1104 17:16:00 @monitor.py:467]\u001b[0m GAN_loss/kl_div: 0.080877\n",
      "\u001b[32m[1104 17:16:00 @monitor.py:467]\u001b[0m QueueInput/queue_size: 50\n",
      "\u001b[32m[1104 17:16:00 @base.py:275]\u001b[0m Start Epoch 506 ...\n"
     ]
    },
    {
     "name": "stderr",
     "output_type": "stream",
     "text": [
      "100%|###################################################################################|175/175[00:06<00:00,26.81it/s]"
     ]
    },
    {
     "name": "stdout",
     "output_type": "stream",
     "text": [
      "\u001b[32m[1104 17:16:07 @base.py:285]\u001b[0m Epoch 506 (global_step 106259) finished, time:6.53 seconds.\n",
      "\u001b[32m[1104 17:16:07 @saver.py:79]\u001b[0m Model saved to ../output/Chicago/WGGP_WI_new3/model\\model-106259.\n"
     ]
    },
    {
     "name": "stderr",
     "output_type": "stream",
     "text": [
      "\n"
     ]
    },
    {
     "name": "stdout",
     "output_type": "stream",
     "text": [
      "\u001b[32m[1104 17:16:07 @monitor.py:467]\u001b[0m GAN_loss/d_loss: -0.29339\n",
      "\u001b[32m[1104 17:16:07 @monitor.py:467]\u001b[0m GAN_loss/g_loss: -0.14261\n",
      "\u001b[32m[1104 17:16:07 @monitor.py:467]\u001b[0m GAN_loss/gradient_penalty: 0.0072596\n",
      "\u001b[32m[1104 17:16:07 @monitor.py:467]\u001b[0m GAN_loss/gradient_rms: 1.0005\n",
      "\u001b[32m[1104 17:16:07 @monitor.py:467]\u001b[0m GAN_loss/kl_div: 0.076648\n",
      "\u001b[32m[1104 17:16:07 @monitor.py:467]\u001b[0m QueueInput/queue_size: 50\n",
      "\u001b[32m[1104 17:16:07 @base.py:275]\u001b[0m Start Epoch 507 ...\n"
     ]
    },
    {
     "name": "stderr",
     "output_type": "stream",
     "text": [
      "100%|###################################################################################|175/175[00:06<00:00,26.77it/s]"
     ]
    },
    {
     "name": "stdout",
     "output_type": "stream",
     "text": [
      "\u001b[32m[1104 17:16:14 @base.py:285]\u001b[0m Epoch 507 (global_step 106469) finished, time:6.54 seconds.\n",
      "\u001b[32m[1104 17:16:14 @saver.py:79]\u001b[0m Model saved to ../output/Chicago/WGGP_WI_new3/model\\model-106469.\n"
     ]
    },
    {
     "name": "stderr",
     "output_type": "stream",
     "text": [
      "\n"
     ]
    },
    {
     "name": "stdout",
     "output_type": "stream",
     "text": [
      "\u001b[32m[1104 17:16:14 @monitor.py:467]\u001b[0m GAN_loss/d_loss: -0.23244\n",
      "\u001b[32m[1104 17:16:14 @monitor.py:467]\u001b[0m GAN_loss/g_loss: -0.1555\n",
      "\u001b[32m[1104 17:16:14 @monitor.py:467]\u001b[0m GAN_loss/gradient_penalty: 0.0069813\n",
      "\u001b[32m[1104 17:16:14 @monitor.py:467]\u001b[0m GAN_loss/gradient_rms: 0.99726\n",
      "\u001b[32m[1104 17:16:14 @monitor.py:467]\u001b[0m GAN_loss/kl_div: 0.076338\n",
      "\u001b[32m[1104 17:16:14 @monitor.py:467]\u001b[0m QueueInput/queue_size: 50\n",
      "\u001b[32m[1104 17:16:14 @base.py:275]\u001b[0m Start Epoch 508 ...\n"
     ]
    },
    {
     "name": "stderr",
     "output_type": "stream",
     "text": [
      "100%|###################################################################################|175/175[00:06<00:00,26.78it/s]"
     ]
    },
    {
     "name": "stdout",
     "output_type": "stream",
     "text": [
      "\u001b[32m[1104 17:16:20 @base.py:285]\u001b[0m Epoch 508 (global_step 106679) finished, time:6.54 seconds.\n",
      "\u001b[32m[1104 17:16:20 @saver.py:79]\u001b[0m Model saved to ../output/Chicago/WGGP_WI_new3/model\\model-106679.\n",
      "\u001b[32m[1104 17:16:20 @monitor.py:467]\u001b[0m GAN_loss/d_loss: -0.2555\n"
     ]
    },
    {
     "name": "stderr",
     "output_type": "stream",
     "text": [
      "\n"
     ]
    },
    {
     "name": "stdout",
     "output_type": "stream",
     "text": [
      "\u001b[32m[1104 17:16:20 @monitor.py:467]\u001b[0m GAN_loss/g_loss: -0.13306\n",
      "\u001b[32m[1104 17:16:20 @monitor.py:467]\u001b[0m GAN_loss/gradient_penalty: 0.007047\n",
      "\u001b[32m[1104 17:16:20 @monitor.py:467]\u001b[0m GAN_loss/gradient_rms: 0.99911\n",
      "\u001b[32m[1104 17:16:20 @monitor.py:467]\u001b[0m GAN_loss/kl_div: 0.073395\n",
      "\u001b[32m[1104 17:16:20 @monitor.py:467]\u001b[0m QueueInput/queue_size: 50\n",
      "\u001b[32m[1104 17:16:20 @base.py:275]\u001b[0m Start Epoch 509 ...\n"
     ]
    },
    {
     "name": "stderr",
     "output_type": "stream",
     "text": [
      "100%|###################################################################################|175/175[00:06<00:00,26.84it/s]"
     ]
    },
    {
     "name": "stdout",
     "output_type": "stream",
     "text": [
      "\u001b[32m[1104 17:16:27 @base.py:285]\u001b[0m Epoch 509 (global_step 106889) finished, time:6.52 seconds.\n",
      "\u001b[32m[1104 17:16:27 @saver.py:79]\u001b[0m Model saved to ../output/Chicago/WGGP_WI_new3/model\\model-106889.\n",
      "\u001b[32m[1104 17:16:27 @monitor.py:467]\u001b[0m GAN_loss/d_loss: -0.211\n"
     ]
    },
    {
     "name": "stderr",
     "output_type": "stream",
     "text": [
      "\n"
     ]
    },
    {
     "name": "stdout",
     "output_type": "stream",
     "text": [
      "\u001b[32m[1104 17:16:27 @monitor.py:467]\u001b[0m GAN_loss/g_loss: -0.15241\n",
      "\u001b[32m[1104 17:16:27 @monitor.py:467]\u001b[0m GAN_loss/gradient_penalty: 0.007182\n",
      "\u001b[32m[1104 17:16:27 @monitor.py:467]\u001b[0m GAN_loss/gradient_rms: 0.99692\n",
      "\u001b[32m[1104 17:16:27 @monitor.py:467]\u001b[0m GAN_loss/kl_div: 0.077399\n",
      "\u001b[32m[1104 17:16:27 @monitor.py:467]\u001b[0m QueueInput/queue_size: 50\n",
      "\u001b[32m[1104 17:16:27 @base.py:275]\u001b[0m Start Epoch 510 ...\n"
     ]
    },
    {
     "name": "stderr",
     "output_type": "stream",
     "text": [
      "100%|###################################################################################|175/175[00:06<00:00,26.78it/s]"
     ]
    },
    {
     "name": "stdout",
     "output_type": "stream",
     "text": [
      "\u001b[32m[1104 17:16:34 @base.py:285]\u001b[0m Epoch 510 (global_step 107099) finished, time:6.54 seconds.\n"
     ]
    },
    {
     "name": "stderr",
     "output_type": "stream",
     "text": [
      "\n"
     ]
    },
    {
     "name": "stdout",
     "output_type": "stream",
     "text": [
      "\u001b[32m[1104 17:16:34 @saver.py:79]\u001b[0m Model saved to ../output/Chicago/WGGP_WI_new3/model\\model-107099.\n",
      "\u001b[32m[1104 17:16:34 @monitor.py:467]\u001b[0m GAN_loss/d_loss: -0.23441\n",
      "\u001b[32m[1104 17:16:34 @monitor.py:467]\u001b[0m GAN_loss/g_loss: -0.18153\n",
      "\u001b[32m[1104 17:16:34 @monitor.py:467]\u001b[0m GAN_loss/gradient_penalty: 0.007576\n",
      "\u001b[32m[1104 17:16:34 @monitor.py:467]\u001b[0m GAN_loss/gradient_rms: 0.99792\n",
      "\u001b[32m[1104 17:16:34 @monitor.py:467]\u001b[0m GAN_loss/kl_div: 0.08972\n",
      "\u001b[32m[1104 17:16:34 @monitor.py:467]\u001b[0m QueueInput/queue_size: 50\n",
      "\u001b[32m[1104 17:16:34 @base.py:275]\u001b[0m Start Epoch 511 ...\n"
     ]
    },
    {
     "name": "stderr",
     "output_type": "stream",
     "text": [
      "100%|###################################################################################|175/175[00:06<00:00,26.82it/s]"
     ]
    },
    {
     "name": "stdout",
     "output_type": "stream",
     "text": [
      "\u001b[32m[1104 17:16:40 @base.py:285]\u001b[0m Epoch 511 (global_step 107309) finished, time:6.53 seconds.\n",
      "WARNING:tensorflow:From D:\\Users\\glede\\anaconda3\\envs\\py37\\lib\\site-packages\\tensorflow_core\\python\\training\\saver.py:963: remove_checkpoint (from tensorflow.python.training.checkpoint_management) is deprecated and will be removed in a future version.\n",
      "Instructions for updating:\n",
      "Use standard file APIs to delete files with this prefix.\n",
      "\u001b[32m[1104 17:16:41 @saver.py:79]\u001b[0m Model saved to ../output/Chicago/WGGP_WI_new3/model\\model-107309.\n"
     ]
    },
    {
     "name": "stderr",
     "output_type": "stream",
     "text": [
      "\n"
     ]
    },
    {
     "name": "stdout",
     "output_type": "stream",
     "text": [
      "\u001b[32m[1104 17:16:41 @monitor.py:467]\u001b[0m GAN_loss/d_loss: -0.31755\n",
      "\u001b[32m[1104 17:16:41 @monitor.py:467]\u001b[0m GAN_loss/g_loss: -0.1617\n",
      "\u001b[32m[1104 17:16:41 @monitor.py:467]\u001b[0m GAN_loss/gradient_penalty: 0.0072756\n",
      "\u001b[32m[1104 17:16:41 @monitor.py:467]\u001b[0m GAN_loss/gradient_rms: 0.99896\n",
      "\u001b[32m[1104 17:16:41 @monitor.py:467]\u001b[0m GAN_loss/kl_div: 0.09278\n",
      "\u001b[32m[1104 17:16:41 @monitor.py:467]\u001b[0m QueueInput/queue_size: 50\n",
      "\u001b[32m[1104 17:16:41 @base.py:275]\u001b[0m Start Epoch 512 ...\n"
     ]
    },
    {
     "name": "stderr",
     "output_type": "stream",
     "text": [
      "100%|###################################################################################|175/175[00:06<00:00,26.85it/s]"
     ]
    },
    {
     "name": "stdout",
     "output_type": "stream",
     "text": [
      "\u001b[32m[1104 17:16:47 @base.py:285]\u001b[0m Epoch 512 (global_step 107519) finished, time:6.52 seconds.\n",
      "\u001b[32m[1104 17:16:47 @saver.py:79]\u001b[0m Model saved to ../output/Chicago/WGGP_WI_new3/model\\model-107519.\n",
      "\u001b[32m[1104 17:16:47 @monitor.py:467]\u001b[0m GAN_loss/d_loss: -0.37675\n"
     ]
    },
    {
     "name": "stderr",
     "output_type": "stream",
     "text": [
      "\n"
     ]
    },
    {
     "name": "stdout",
     "output_type": "stream",
     "text": [
      "\u001b[32m[1104 17:16:47 @monitor.py:467]\u001b[0m GAN_loss/g_loss: -0.18532\n",
      "\u001b[32m[1104 17:16:47 @monitor.py:467]\u001b[0m GAN_loss/gradient_penalty: 0.0073043\n",
      "\u001b[32m[1104 17:16:47 @monitor.py:467]\u001b[0m GAN_loss/gradient_rms: 0.99631\n",
      "\u001b[32m[1104 17:16:47 @monitor.py:467]\u001b[0m GAN_loss/kl_div: 0.093814\n",
      "\u001b[32m[1104 17:16:47 @monitor.py:467]\u001b[0m QueueInput/queue_size: 50\n",
      "\u001b[32m[1104 17:16:47 @base.py:275]\u001b[0m Start Epoch 513 ...\n"
     ]
    },
    {
     "name": "stderr",
     "output_type": "stream",
     "text": [
      "100%|###################################################################################|175/175[00:06<00:00,26.87it/s]"
     ]
    },
    {
     "name": "stdout",
     "output_type": "stream",
     "text": [
      "\u001b[32m[1104 17:16:54 @base.py:285]\u001b[0m Epoch 513 (global_step 107729) finished, time:6.51 seconds.\n",
      "\u001b[32m[1104 17:16:54 @saver.py:79]\u001b[0m Model saved to ../output/Chicago/WGGP_WI_new3/model\\model-107729.\n",
      "\u001b[32m[1104 17:16:54 @monitor.py:467]\u001b[0m GAN_loss/d_loss: -0.28785\n"
     ]
    },
    {
     "name": "stderr",
     "output_type": "stream",
     "text": [
      "\n"
     ]
    },
    {
     "name": "stdout",
     "output_type": "stream",
     "text": [
      "\u001b[32m[1104 17:16:54 @monitor.py:467]\u001b[0m GAN_loss/g_loss: -0.21299\n",
      "\u001b[32m[1104 17:16:54 @monitor.py:467]\u001b[0m GAN_loss/gradient_penalty: 0.0068211\n",
      "\u001b[32m[1104 17:16:54 @monitor.py:467]\u001b[0m GAN_loss/gradient_rms: 0.99811\n",
      "\u001b[32m[1104 17:16:54 @monitor.py:467]\u001b[0m GAN_loss/kl_div: 0.073651\n",
      "\u001b[32m[1104 17:16:54 @monitor.py:467]\u001b[0m QueueInput/queue_size: 50\n",
      "\u001b[32m[1104 17:16:54 @base.py:275]\u001b[0m Start Epoch 514 ...\n"
     ]
    },
    {
     "name": "stderr",
     "output_type": "stream",
     "text": [
      "100%|###################################################################################|175/175[00:06<00:00,26.84it/s]"
     ]
    },
    {
     "name": "stdout",
     "output_type": "stream",
     "text": [
      "\u001b[32m[1104 17:17:01 @base.py:285]\u001b[0m Epoch 514 (global_step 107939) finished, time:6.52 seconds.\n",
      "\u001b[32m[1104 17:17:01 @saver.py:79]\u001b[0m Model saved to ../output/Chicago/WGGP_WI_new3/model\\model-107939.\n",
      "\u001b[32m[1104 17:17:01 @monitor.py:467]\u001b[0m GAN_loss/d_loss: -0.29301\n"
     ]
    },
    {
     "name": "stderr",
     "output_type": "stream",
     "text": [
      "\n"
     ]
    },
    {
     "name": "stdout",
     "output_type": "stream",
     "text": [
      "\u001b[32m[1104 17:17:01 @monitor.py:467]\u001b[0m GAN_loss/g_loss: -0.23927\n",
      "\u001b[32m[1104 17:17:01 @monitor.py:467]\u001b[0m GAN_loss/gradient_penalty: 0.0067014\n",
      "\u001b[32m[1104 17:17:01 @monitor.py:467]\u001b[0m GAN_loss/gradient_rms: 0.99756\n",
      "\u001b[32m[1104 17:17:01 @monitor.py:467]\u001b[0m GAN_loss/kl_div: 0.088459\n",
      "\u001b[32m[1104 17:17:01 @monitor.py:467]\u001b[0m QueueInput/queue_size: 50\n",
      "\u001b[32m[1104 17:17:01 @base.py:275]\u001b[0m Start Epoch 515 ...\n"
     ]
    },
    {
     "name": "stderr",
     "output_type": "stream",
     "text": [
      "100%|###################################################################################|175/175[00:06<00:00,26.85it/s]"
     ]
    },
    {
     "name": "stdout",
     "output_type": "stream",
     "text": [
      "\u001b[32m[1104 17:17:07 @base.py:285]\u001b[0m Epoch 515 (global_step 108149) finished, time:6.52 seconds.\n",
      "\u001b[32m[1104 17:17:07 @saver.py:79]\u001b[0m Model saved to ../output/Chicago/WGGP_WI_new3/model\\model-108149.\n"
     ]
    },
    {
     "name": "stderr",
     "output_type": "stream",
     "text": [
      "\n"
     ]
    },
    {
     "name": "stdout",
     "output_type": "stream",
     "text": [
      "\u001b[32m[1104 17:17:08 @monitor.py:467]\u001b[0m GAN_loss/d_loss: -0.39194\n",
      "\u001b[32m[1104 17:17:08 @monitor.py:467]\u001b[0m GAN_loss/g_loss: -0.22841\n",
      "\u001b[32m[1104 17:17:08 @monitor.py:467]\u001b[0m GAN_loss/gradient_penalty: 0.0069432\n",
      "\u001b[32m[1104 17:17:08 @monitor.py:467]\u001b[0m GAN_loss/gradient_rms: 0.99704\n",
      "\u001b[32m[1104 17:17:08 @monitor.py:467]\u001b[0m GAN_loss/kl_div: 0.085883\n",
      "\u001b[32m[1104 17:17:08 @monitor.py:467]\u001b[0m QueueInput/queue_size: 50\n",
      "\u001b[32m[1104 17:17:08 @base.py:275]\u001b[0m Start Epoch 516 ...\n"
     ]
    },
    {
     "name": "stderr",
     "output_type": "stream",
     "text": [
      "100%|###################################################################################|175/175[00:06<00:00,26.85it/s]"
     ]
    },
    {
     "name": "stdout",
     "output_type": "stream",
     "text": [
      "\u001b[32m[1104 17:17:14 @base.py:285]\u001b[0m Epoch 516 (global_step 108359) finished, time:6.52 seconds.\n",
      "\u001b[32m[1104 17:17:14 @saver.py:79]\u001b[0m Model saved to ../output/Chicago/WGGP_WI_new3/model\\model-108359.\n"
     ]
    },
    {
     "name": "stderr",
     "output_type": "stream",
     "text": [
      "\n"
     ]
    },
    {
     "name": "stdout",
     "output_type": "stream",
     "text": [
      "\u001b[32m[1104 17:17:14 @monitor.py:467]\u001b[0m GAN_loss/d_loss: -0.3164\n",
      "\u001b[32m[1104 17:17:14 @monitor.py:467]\u001b[0m GAN_loss/g_loss: -0.24534\n",
      "\u001b[32m[1104 17:17:14 @monitor.py:467]\u001b[0m GAN_loss/gradient_penalty: 0.0075032\n",
      "\u001b[32m[1104 17:17:14 @monitor.py:467]\u001b[0m GAN_loss/gradient_rms: 0.99842\n",
      "\u001b[32m[1104 17:17:14 @monitor.py:467]\u001b[0m GAN_loss/kl_div: 0.08382\n",
      "\u001b[32m[1104 17:17:14 @monitor.py:467]\u001b[0m QueueInput/queue_size: 50\n",
      "\u001b[32m[1104 17:17:14 @base.py:275]\u001b[0m Start Epoch 517 ...\n"
     ]
    },
    {
     "name": "stderr",
     "output_type": "stream",
     "text": [
      "100%|###################################################################################|175/175[00:06<00:00,26.83it/s]"
     ]
    },
    {
     "name": "stdout",
     "output_type": "stream",
     "text": [
      "\u001b[32m[1104 17:17:21 @base.py:285]\u001b[0m Epoch 517 (global_step 108569) finished, time:6.52 seconds.\n",
      "\u001b[32m[1104 17:17:21 @saver.py:79]\u001b[0m Model saved to ../output/Chicago/WGGP_WI_new3/model\\model-108569.\n",
      "\u001b[32m[1104 17:17:21 @monitor.py:467]\u001b[0m GAN_loss/d_loss: -0.37064\n"
     ]
    },
    {
     "name": "stderr",
     "output_type": "stream",
     "text": [
      "\n"
     ]
    },
    {
     "name": "stdout",
     "output_type": "stream",
     "text": [
      "\u001b[32m[1104 17:17:21 @monitor.py:467]\u001b[0m GAN_loss/g_loss: -0.25331\n",
      "\u001b[32m[1104 17:17:21 @monitor.py:467]\u001b[0m GAN_loss/gradient_penalty: 0.0069164\n",
      "\u001b[32m[1104 17:17:21 @monitor.py:467]\u001b[0m GAN_loss/gradient_rms: 0.99904\n",
      "\u001b[32m[1104 17:17:21 @monitor.py:467]\u001b[0m GAN_loss/kl_div: 0.078125\n",
      "\u001b[32m[1104 17:17:21 @monitor.py:467]\u001b[0m QueueInput/queue_size: 50\n",
      "\u001b[32m[1104 17:17:21 @base.py:275]\u001b[0m Start Epoch 518 ...\n"
     ]
    },
    {
     "name": "stderr",
     "output_type": "stream",
     "text": [
      "100%|###################################################################################|175/175[00:06<00:00,26.85it/s]"
     ]
    },
    {
     "name": "stdout",
     "output_type": "stream",
     "text": [
      "\u001b[32m[1104 17:17:28 @base.py:285]\u001b[0m Epoch 518 (global_step 108779) finished, time:6.52 seconds.\n",
      "\u001b[32m[1104 17:17:28 @saver.py:79]\u001b[0m Model saved to ../output/Chicago/WGGP_WI_new3/model\\model-108779.\n",
      "\u001b[32m[1104 17:17:28 @monitor.py:467]\u001b[0m GAN_loss/d_loss: -0.43197\n"
     ]
    },
    {
     "name": "stderr",
     "output_type": "stream",
     "text": [
      "\n"
     ]
    },
    {
     "name": "stdout",
     "output_type": "stream",
     "text": [
      "\u001b[32m[1104 17:17:28 @monitor.py:467]\u001b[0m GAN_loss/g_loss: -0.26112\n",
      "\u001b[32m[1104 17:17:28 @monitor.py:467]\u001b[0m GAN_loss/gradient_penalty: 0.007641\n",
      "\u001b[32m[1104 17:17:28 @monitor.py:467]\u001b[0m GAN_loss/gradient_rms: 0.99863\n",
      "\u001b[32m[1104 17:17:28 @monitor.py:467]\u001b[0m GAN_loss/kl_div: 0.092598\n",
      "\u001b[32m[1104 17:17:28 @monitor.py:467]\u001b[0m QueueInput/queue_size: 50\n",
      "\u001b[32m[1104 17:17:28 @base.py:275]\u001b[0m Start Epoch 519 ...\n"
     ]
    },
    {
     "name": "stderr",
     "output_type": "stream",
     "text": [
      "100%|###################################################################################|175/175[00:06<00:00,26.84it/s]"
     ]
    },
    {
     "name": "stdout",
     "output_type": "stream",
     "text": [
      "\u001b[32m[1104 17:17:34 @base.py:285]\u001b[0m Epoch 519 (global_step 108989) finished, time:6.52 seconds.\n",
      "\u001b[32m[1104 17:17:34 @saver.py:79]\u001b[0m Model saved to ../output/Chicago/WGGP_WI_new3/model\\model-108989.\n"
     ]
    },
    {
     "name": "stderr",
     "output_type": "stream",
     "text": [
      "\n"
     ]
    },
    {
     "name": "stdout",
     "output_type": "stream",
     "text": [
      "\u001b[32m[1104 17:17:34 @monitor.py:467]\u001b[0m GAN_loss/d_loss: -0.54302\n",
      "\u001b[32m[1104 17:17:34 @monitor.py:467]\u001b[0m GAN_loss/g_loss: -0.28157\n",
      "\u001b[32m[1104 17:17:34 @monitor.py:467]\u001b[0m GAN_loss/gradient_penalty: 0.0083521\n",
      "\u001b[32m[1104 17:17:34 @monitor.py:467]\u001b[0m GAN_loss/gradient_rms: 0.99854\n",
      "\u001b[32m[1104 17:17:34 @monitor.py:467]\u001b[0m GAN_loss/kl_div: 0.080623\n",
      "\u001b[32m[1104 17:17:34 @monitor.py:467]\u001b[0m QueueInput/queue_size: 50\n",
      "\u001b[32m[1104 17:17:34 @base.py:275]\u001b[0m Start Epoch 520 ...\n"
     ]
    },
    {
     "name": "stderr",
     "output_type": "stream",
     "text": [
      "100%|###################################################################################|175/175[00:06<00:00,26.85it/s]"
     ]
    },
    {
     "name": "stdout",
     "output_type": "stream",
     "text": [
      "\u001b[32m[1104 17:17:41 @base.py:285]\u001b[0m Epoch 520 (global_step 109199) finished, time:6.52 seconds.\n",
      "\u001b[32m[1104 17:17:41 @saver.py:79]\u001b[0m Model saved to ../output/Chicago/WGGP_WI_new3/model\\model-109199.\n",
      "\u001b[32m[1104 17:17:41 @monitor.py:467]\u001b[0m GAN_loss/d_loss: -0.3777\n"
     ]
    },
    {
     "name": "stderr",
     "output_type": "stream",
     "text": [
      "\n"
     ]
    },
    {
     "name": "stdout",
     "output_type": "stream",
     "text": [
      "\u001b[32m[1104 17:17:41 @monitor.py:467]\u001b[0m GAN_loss/g_loss: -0.27901\n",
      "\u001b[32m[1104 17:17:41 @monitor.py:467]\u001b[0m GAN_loss/gradient_penalty: 0.0075298\n",
      "\u001b[32m[1104 17:17:41 @monitor.py:467]\u001b[0m GAN_loss/gradient_rms: 0.99664\n",
      "\u001b[32m[1104 17:17:41 @monitor.py:467]\u001b[0m GAN_loss/kl_div: 0.078665\n",
      "\u001b[32m[1104 17:17:41 @monitor.py:467]\u001b[0m QueueInput/queue_size: 50\n",
      "\u001b[32m[1104 17:17:41 @base.py:275]\u001b[0m Start Epoch 521 ...\n"
     ]
    },
    {
     "name": "stderr",
     "output_type": "stream",
     "text": [
      "100%|###################################################################################|175/175[00:06<00:00,26.86it/s]"
     ]
    },
    {
     "name": "stdout",
     "output_type": "stream",
     "text": [
      "\u001b[32m[1104 17:17:48 @base.py:285]\u001b[0m Epoch 521 (global_step 109409) finished, time:6.52 seconds.\n",
      "\u001b[32m[1104 17:17:48 @saver.py:79]\u001b[0m Model saved to ../output/Chicago/WGGP_WI_new3/model\\model-109409.\n",
      "\u001b[32m[1104 17:17:48 @monitor.py:467]\u001b[0m GAN_loss/d_loss: -0.30328\n"
     ]
    },
    {
     "name": "stderr",
     "output_type": "stream",
     "text": [
      "\n"
     ]
    },
    {
     "name": "stdout",
     "output_type": "stream",
     "text": [
      "\u001b[32m[1104 17:17:48 @monitor.py:467]\u001b[0m GAN_loss/g_loss: -0.27052\n",
      "\u001b[32m[1104 17:17:48 @monitor.py:467]\u001b[0m GAN_loss/gradient_penalty: 0.0074079\n",
      "\u001b[32m[1104 17:17:48 @monitor.py:467]\u001b[0m GAN_loss/gradient_rms: 0.99609\n",
      "\u001b[32m[1104 17:17:48 @monitor.py:467]\u001b[0m GAN_loss/kl_div: 0.10466\n",
      "\u001b[32m[1104 17:17:48 @monitor.py:467]\u001b[0m QueueInput/queue_size: 50\n",
      "\u001b[32m[1104 17:17:48 @base.py:275]\u001b[0m Start Epoch 522 ...\n"
     ]
    },
    {
     "name": "stderr",
     "output_type": "stream",
     "text": [
      "100%|###################################################################################|175/175[00:06<00:00,26.84it/s]"
     ]
    },
    {
     "name": "stdout",
     "output_type": "stream",
     "text": [
      "\u001b[32m[1104 17:17:54 @base.py:285]\u001b[0m Epoch 522 (global_step 109619) finished, time:6.52 seconds.\n",
      "\u001b[32m[1104 17:17:55 @saver.py:79]\u001b[0m Model saved to ../output/Chicago/WGGP_WI_new3/model\\model-109619.\n",
      "\u001b[32m[1104 17:17:55 @monitor.py:467]\u001b[0m GAN_loss/d_loss: -0.20691\n"
     ]
    },
    {
     "name": "stderr",
     "output_type": "stream",
     "text": [
      "\n"
     ]
    },
    {
     "name": "stdout",
     "output_type": "stream",
     "text": [
      "\u001b[32m[1104 17:17:55 @monitor.py:467]\u001b[0m GAN_loss/g_loss: -0.27529\n",
      "\u001b[32m[1104 17:17:55 @monitor.py:467]\u001b[0m GAN_loss/gradient_penalty: 0.0066876\n",
      "\u001b[32m[1104 17:17:55 @monitor.py:467]\u001b[0m GAN_loss/gradient_rms: 0.99694\n",
      "\u001b[32m[1104 17:17:55 @monitor.py:467]\u001b[0m GAN_loss/kl_div: 0.085559\n",
      "\u001b[32m[1104 17:17:55 @monitor.py:467]\u001b[0m QueueInput/queue_size: 50\n",
      "\u001b[32m[1104 17:17:55 @base.py:275]\u001b[0m Start Epoch 523 ...\n"
     ]
    },
    {
     "name": "stderr",
     "output_type": "stream",
     "text": [
      "100%|###################################################################################|175/175[00:06<00:00,26.85it/s]"
     ]
    },
    {
     "name": "stdout",
     "output_type": "stream",
     "text": [
      "\u001b[32m[1104 17:18:01 @base.py:285]\u001b[0m Epoch 523 (global_step 109829) finished, time:6.52 seconds.\n",
      "\u001b[32m[1104 17:18:01 @saver.py:79]\u001b[0m Model saved to ../output/Chicago/WGGP_WI_new3/model\\model-109829.\n",
      "\u001b[32m[1104 17:18:01 @monitor.py:467]\u001b[0m GAN_loss/d_loss: -0.1971\n"
     ]
    },
    {
     "name": "stderr",
     "output_type": "stream",
     "text": [
      "\n"
     ]
    },
    {
     "name": "stdout",
     "output_type": "stream",
     "text": [
      "\u001b[32m[1104 17:18:01 @monitor.py:467]\u001b[0m GAN_loss/g_loss: -0.30213\n",
      "\u001b[32m[1104 17:18:01 @monitor.py:467]\u001b[0m GAN_loss/gradient_penalty: 0.0068926\n",
      "\u001b[32m[1104 17:18:01 @monitor.py:467]\u001b[0m GAN_loss/gradient_rms: 0.99682\n",
      "\u001b[32m[1104 17:18:01 @monitor.py:467]\u001b[0m GAN_loss/kl_div: 0.084322\n",
      "\u001b[32m[1104 17:18:01 @monitor.py:467]\u001b[0m QueueInput/queue_size: 50\n",
      "\u001b[32m[1104 17:18:01 @base.py:275]\u001b[0m Start Epoch 524 ...\n"
     ]
    },
    {
     "name": "stderr",
     "output_type": "stream",
     "text": [
      "100%|###################################################################################|175/175[00:06<00:00,26.84it/s]"
     ]
    },
    {
     "name": "stdout",
     "output_type": "stream",
     "text": [
      "\u001b[32m[1104 17:18:08 @base.py:285]\u001b[0m Epoch 524 (global_step 110039) finished, time:6.52 seconds.\n",
      "\u001b[32m[1104 17:18:08 @saver.py:79]\u001b[0m Model saved to ../output/Chicago/WGGP_WI_new3/model\\model-110039.\n",
      "\u001b[32m[1104 17:18:08 @monitor.py:467]\u001b[0m GAN_loss/d_loss: -0.21589\n"
     ]
    },
    {
     "name": "stderr",
     "output_type": "stream",
     "text": [
      "\n"
     ]
    },
    {
     "name": "stdout",
     "output_type": "stream",
     "text": [
      "\u001b[32m[1104 17:18:08 @monitor.py:467]\u001b[0m GAN_loss/g_loss: -0.32393\n",
      "\u001b[32m[1104 17:18:08 @monitor.py:467]\u001b[0m GAN_loss/gradient_penalty: 0.0067838\n",
      "\u001b[32m[1104 17:18:08 @monitor.py:467]\u001b[0m GAN_loss/gradient_rms: 0.99997\n",
      "\u001b[32m[1104 17:18:08 @monitor.py:467]\u001b[0m GAN_loss/kl_div: 0.079459\n",
      "\u001b[32m[1104 17:18:08 @monitor.py:467]\u001b[0m QueueInput/queue_size: 50\n",
      "\u001b[32m[1104 17:18:08 @base.py:275]\u001b[0m Start Epoch 525 ...\n"
     ]
    },
    {
     "name": "stderr",
     "output_type": "stream",
     "text": [
      "100%|###################################################################################|175/175[00:06<00:00,26.79it/s]"
     ]
    },
    {
     "name": "stdout",
     "output_type": "stream",
     "text": [
      "\u001b[32m[1104 17:18:15 @base.py:285]\u001b[0m Epoch 525 (global_step 110249) finished, time:6.53 seconds.\n"
     ]
    },
    {
     "name": "stderr",
     "output_type": "stream",
     "text": [
      "\n"
     ]
    },
    {
     "name": "stdout",
     "output_type": "stream",
     "text": [
      "\u001b[32m[1104 17:18:15 @saver.py:79]\u001b[0m Model saved to ../output/Chicago/WGGP_WI_new3/model\\model-110249.\n",
      "\u001b[32m[1104 17:18:15 @monitor.py:467]\u001b[0m GAN_loss/d_loss: -0.20256\n",
      "\u001b[32m[1104 17:18:15 @monitor.py:467]\u001b[0m GAN_loss/g_loss: -0.2708\n",
      "\u001b[32m[1104 17:18:15 @monitor.py:467]\u001b[0m GAN_loss/gradient_penalty: 0.0067462\n",
      "\u001b[32m[1104 17:18:15 @monitor.py:467]\u001b[0m GAN_loss/gradient_rms: 0.99591\n",
      "\u001b[32m[1104 17:18:15 @monitor.py:467]\u001b[0m GAN_loss/kl_div: 0.071663\n",
      "\u001b[32m[1104 17:18:15 @monitor.py:467]\u001b[0m QueueInput/queue_size: 50\n",
      "\u001b[32m[1104 17:18:15 @base.py:275]\u001b[0m Start Epoch 526 ...\n"
     ]
    },
    {
     "name": "stderr",
     "output_type": "stream",
     "text": [
      "100%|###################################################################################|175/175[00:06<00:00,26.86it/s]"
     ]
    },
    {
     "name": "stdout",
     "output_type": "stream",
     "text": [
      "\u001b[32m[1104 17:18:21 @base.py:285]\u001b[0m Epoch 526 (global_step 110459) finished, time:6.52 seconds.\n",
      "\u001b[32m[1104 17:18:21 @saver.py:79]\u001b[0m Model saved to ../output/Chicago/WGGP_WI_new3/model\\model-110459.\n"
     ]
    },
    {
     "name": "stderr",
     "output_type": "stream",
     "text": [
      "\n"
     ]
    },
    {
     "name": "stdout",
     "output_type": "stream",
     "text": [
      "\u001b[32m[1104 17:18:22 @monitor.py:467]\u001b[0m GAN_loss/d_loss: -0.22534\n",
      "\u001b[32m[1104 17:18:22 @monitor.py:467]\u001b[0m GAN_loss/g_loss: -0.25833\n",
      "\u001b[32m[1104 17:18:22 @monitor.py:467]\u001b[0m GAN_loss/gradient_penalty: 0.0066643\n",
      "\u001b[32m[1104 17:18:22 @monitor.py:467]\u001b[0m GAN_loss/gradient_rms: 0.99757\n",
      "\u001b[32m[1104 17:18:22 @monitor.py:467]\u001b[0m GAN_loss/kl_div: 0.076795\n",
      "\u001b[32m[1104 17:18:22 @monitor.py:467]\u001b[0m QueueInput/queue_size: 50\n",
      "\u001b[32m[1104 17:18:22 @base.py:275]\u001b[0m Start Epoch 527 ...\n"
     ]
    },
    {
     "name": "stderr",
     "output_type": "stream",
     "text": [
      "100%|###################################################################################|175/175[00:06<00:00,26.85it/s]"
     ]
    },
    {
     "name": "stdout",
     "output_type": "stream",
     "text": [
      "\u001b[32m[1104 17:18:28 @base.py:285]\u001b[0m Epoch 527 (global_step 110669) finished, time:6.52 seconds.\n",
      "\u001b[32m[1104 17:18:28 @saver.py:79]\u001b[0m Model saved to ../output/Chicago/WGGP_WI_new3/model\\model-110669.\n"
     ]
    },
    {
     "name": "stderr",
     "output_type": "stream",
     "text": [
      "\n"
     ]
    },
    {
     "name": "stdout",
     "output_type": "stream",
     "text": [
      "\u001b[32m[1104 17:18:28 @monitor.py:467]\u001b[0m GAN_loss/d_loss: -0.19003\n",
      "\u001b[32m[1104 17:18:28 @monitor.py:467]\u001b[0m GAN_loss/g_loss: -0.26643\n",
      "\u001b[32m[1104 17:18:28 @monitor.py:467]\u001b[0m GAN_loss/gradient_penalty: 0.0067989\n",
      "\u001b[32m[1104 17:18:28 @monitor.py:467]\u001b[0m GAN_loss/gradient_rms: 0.99532\n",
      "\u001b[32m[1104 17:18:28 @monitor.py:467]\u001b[0m GAN_loss/kl_div: 0.081177\n",
      "\u001b[32m[1104 17:18:28 @monitor.py:467]\u001b[0m QueueInput/queue_size: 50\n",
      "\u001b[32m[1104 17:18:28 @base.py:275]\u001b[0m Start Epoch 528 ...\n"
     ]
    },
    {
     "name": "stderr",
     "output_type": "stream",
     "text": [
      "100%|###################################################################################|175/175[00:06<00:00,26.84it/s]"
     ]
    },
    {
     "name": "stdout",
     "output_type": "stream",
     "text": [
      "\u001b[32m[1104 17:18:35 @base.py:285]\u001b[0m Epoch 528 (global_step 110879) finished, time:6.52 seconds.\n",
      "\u001b[32m[1104 17:18:35 @saver.py:79]\u001b[0m Model saved to ../output/Chicago/WGGP_WI_new3/model\\model-110879.\n"
     ]
    },
    {
     "name": "stderr",
     "output_type": "stream",
     "text": [
      "\n"
     ]
    },
    {
     "name": "stdout",
     "output_type": "stream",
     "text": [
      "\u001b[32m[1104 17:18:35 @monitor.py:467]\u001b[0m GAN_loss/d_loss: -0.2411\n",
      "\u001b[32m[1104 17:18:35 @monitor.py:467]\u001b[0m GAN_loss/g_loss: -0.26172\n",
      "\u001b[32m[1104 17:18:35 @monitor.py:467]\u001b[0m GAN_loss/gradient_penalty: 0.0066664\n",
      "\u001b[32m[1104 17:18:35 @monitor.py:467]\u001b[0m GAN_loss/gradient_rms: 0.99845\n",
      "\u001b[32m[1104 17:18:35 @monitor.py:467]\u001b[0m GAN_loss/kl_div: 0.096674\n",
      "\u001b[32m[1104 17:18:35 @monitor.py:467]\u001b[0m QueueInput/queue_size: 50\n",
      "\u001b[32m[1104 17:18:35 @base.py:275]\u001b[0m Start Epoch 529 ...\n"
     ]
    },
    {
     "name": "stderr",
     "output_type": "stream",
     "text": [
      "100%|###################################################################################|175/175[00:06<00:00,26.85it/s]"
     ]
    },
    {
     "name": "stdout",
     "output_type": "stream",
     "text": [
      "\u001b[32m[1104 17:18:42 @base.py:285]\u001b[0m Epoch 529 (global_step 111089) finished, time:6.52 seconds.\n",
      "\u001b[32m[1104 17:18:42 @saver.py:79]\u001b[0m Model saved to ../output/Chicago/WGGP_WI_new3/model\\model-111089.\n"
     ]
    },
    {
     "name": "stderr",
     "output_type": "stream",
     "text": [
      "\n"
     ]
    },
    {
     "name": "stdout",
     "output_type": "stream",
     "text": [
      "\u001b[32m[1104 17:18:42 @monitor.py:467]\u001b[0m GAN_loss/d_loss: -0.20143\n",
      "\u001b[32m[1104 17:18:42 @monitor.py:467]\u001b[0m GAN_loss/g_loss: -0.22492\n",
      "\u001b[32m[1104 17:18:42 @monitor.py:467]\u001b[0m GAN_loss/gradient_penalty: 0.0066789\n",
      "\u001b[32m[1104 17:18:42 @monitor.py:467]\u001b[0m GAN_loss/gradient_rms: 0.99625\n",
      "\u001b[32m[1104 17:18:42 @monitor.py:467]\u001b[0m GAN_loss/kl_div: 0.091739\n",
      "\u001b[32m[1104 17:18:42 @monitor.py:467]\u001b[0m QueueInput/queue_size: 50\n",
      "\u001b[32m[1104 17:18:42 @base.py:275]\u001b[0m Start Epoch 530 ...\n"
     ]
    },
    {
     "name": "stderr",
     "output_type": "stream",
     "text": [
      "100%|###################################################################################|175/175[00:06<00:00,26.82it/s]"
     ]
    },
    {
     "name": "stdout",
     "output_type": "stream",
     "text": [
      "\u001b[32m[1104 17:18:48 @base.py:285]\u001b[0m Epoch 530 (global_step 111299) finished, time:6.52 seconds.\n",
      "\u001b[32m[1104 17:18:48 @saver.py:79]\u001b[0m Model saved to ../output/Chicago/WGGP_WI_new3/model\\model-111299.\n"
     ]
    },
    {
     "name": "stderr",
     "output_type": "stream",
     "text": [
      "\n"
     ]
    },
    {
     "name": "stdout",
     "output_type": "stream",
     "text": [
      "\u001b[32m[1104 17:18:49 @monitor.py:467]\u001b[0m GAN_loss/d_loss: -0.1953\n",
      "\u001b[32m[1104 17:18:49 @monitor.py:467]\u001b[0m GAN_loss/g_loss: -0.22264\n",
      "\u001b[32m[1104 17:18:49 @monitor.py:467]\u001b[0m GAN_loss/gradient_penalty: 0.0070611\n",
      "\u001b[32m[1104 17:18:49 @monitor.py:467]\u001b[0m GAN_loss/gradient_rms: 0.99757\n",
      "\u001b[32m[1104 17:18:49 @monitor.py:467]\u001b[0m GAN_loss/kl_div: 0.079492\n",
      "\u001b[32m[1104 17:18:49 @monitor.py:467]\u001b[0m QueueInput/queue_size: 50\n",
      "\u001b[32m[1104 17:18:49 @base.py:275]\u001b[0m Start Epoch 531 ...\n"
     ]
    },
    {
     "name": "stderr",
     "output_type": "stream",
     "text": [
      "100%|###################################################################################|175/175[00:06<00:00,26.86it/s]"
     ]
    },
    {
     "name": "stdout",
     "output_type": "stream",
     "text": [
      "\u001b[32m[1104 17:18:55 @base.py:285]\u001b[0m Epoch 531 (global_step 111509) finished, time:6.52 seconds.\n",
      "\u001b[32m[1104 17:18:55 @saver.py:79]\u001b[0m Model saved to ../output/Chicago/WGGP_WI_new3/model\\model-111509.\n",
      "\u001b[32m[1104 17:18:55 @monitor.py:467]\u001b[0m GAN_loss/d_loss: -0.18113\n"
     ]
    },
    {
     "name": "stderr",
     "output_type": "stream",
     "text": [
      "\n"
     ]
    },
    {
     "name": "stdout",
     "output_type": "stream",
     "text": [
      "\u001b[32m[1104 17:18:55 @monitor.py:467]\u001b[0m GAN_loss/g_loss: -0.27991\n",
      "\u001b[32m[1104 17:18:55 @monitor.py:467]\u001b[0m GAN_loss/gradient_penalty: 0.006992\n",
      "\u001b[32m[1104 17:18:55 @monitor.py:467]\u001b[0m GAN_loss/gradient_rms: 0.99527\n",
      "\u001b[32m[1104 17:18:55 @monitor.py:467]\u001b[0m GAN_loss/kl_div: 0.07307\n",
      "\u001b[32m[1104 17:18:55 @monitor.py:467]\u001b[0m QueueInput/queue_size: 50\n",
      "\u001b[32m[1104 17:18:55 @base.py:275]\u001b[0m Start Epoch 532 ...\n"
     ]
    },
    {
     "name": "stderr",
     "output_type": "stream",
     "text": [
      "100%|###################################################################################|175/175[00:06<00:00,26.83it/s]"
     ]
    },
    {
     "name": "stdout",
     "output_type": "stream",
     "text": [
      "\u001b[32m[1104 17:19:02 @base.py:285]\u001b[0m Epoch 532 (global_step 111719) finished, time:6.52 seconds.\n",
      "\u001b[32m[1104 17:19:02 @saver.py:79]\u001b[0m Model saved to ../output/Chicago/WGGP_WI_new3/model\\model-111719.\n",
      "\u001b[32m[1104 17:19:02 @monitor.py:467]\u001b[0m GAN_loss/d_loss: -0.27138\n"
     ]
    },
    {
     "name": "stderr",
     "output_type": "stream",
     "text": [
      "\n"
     ]
    },
    {
     "name": "stdout",
     "output_type": "stream",
     "text": [
      "\u001b[32m[1104 17:19:02 @monitor.py:467]\u001b[0m GAN_loss/g_loss: -0.2478\n",
      "\u001b[32m[1104 17:19:02 @monitor.py:467]\u001b[0m GAN_loss/gradient_penalty: 0.0069439\n",
      "\u001b[32m[1104 17:19:02 @monitor.py:467]\u001b[0m GAN_loss/gradient_rms: 0.99718\n",
      "\u001b[32m[1104 17:19:02 @monitor.py:467]\u001b[0m GAN_loss/kl_div: 0.074754\n",
      "\u001b[32m[1104 17:19:02 @monitor.py:467]\u001b[0m QueueInput/queue_size: 50\n",
      "\u001b[32m[1104 17:19:02 @base.py:275]\u001b[0m Start Epoch 533 ...\n"
     ]
    },
    {
     "name": "stderr",
     "output_type": "stream",
     "text": [
      "100%|###################################################################################|175/175[00:06<00:00,26.84it/s]"
     ]
    },
    {
     "name": "stdout",
     "output_type": "stream",
     "text": [
      "\u001b[32m[1104 17:19:08 @base.py:285]\u001b[0m Epoch 533 (global_step 111929) finished, time:6.52 seconds.\n",
      "\u001b[32m[1104 17:19:09 @saver.py:79]\u001b[0m Model saved to ../output/Chicago/WGGP_WI_new3/model\\model-111929.\n"
     ]
    },
    {
     "name": "stderr",
     "output_type": "stream",
     "text": [
      "\n"
     ]
    },
    {
     "name": "stdout",
     "output_type": "stream",
     "text": [
      "\u001b[32m[1104 17:19:09 @monitor.py:467]\u001b[0m GAN_loss/d_loss: -0.42586\n",
      "\u001b[32m[1104 17:19:09 @monitor.py:467]\u001b[0m GAN_loss/g_loss: -0.24123\n",
      "\u001b[32m[1104 17:19:09 @monitor.py:467]\u001b[0m GAN_loss/gradient_penalty: 0.0073367\n",
      "\u001b[32m[1104 17:19:09 @monitor.py:467]\u001b[0m GAN_loss/gradient_rms: 0.99836\n",
      "\u001b[32m[1104 17:19:09 @monitor.py:467]\u001b[0m GAN_loss/kl_div: 0.081425\n",
      "\u001b[32m[1104 17:19:09 @monitor.py:467]\u001b[0m QueueInput/queue_size: 50\n",
      "\u001b[32m[1104 17:19:09 @base.py:275]\u001b[0m Start Epoch 534 ...\n"
     ]
    },
    {
     "name": "stderr",
     "output_type": "stream",
     "text": [
      "100%|###################################################################################|175/175[00:06<00:00,26.86it/s]"
     ]
    },
    {
     "name": "stdout",
     "output_type": "stream",
     "text": [
      "\u001b[32m[1104 17:19:15 @base.py:285]\u001b[0m Epoch 534 (global_step 112139) finished, time:6.52 seconds.\n",
      "\u001b[32m[1104 17:19:15 @saver.py:79]\u001b[0m Model saved to ../output/Chicago/WGGP_WI_new3/model\\model-112139.\n"
     ]
    },
    {
     "name": "stderr",
     "output_type": "stream",
     "text": [
      "\n"
     ]
    },
    {
     "name": "stdout",
     "output_type": "stream",
     "text": [
      "\u001b[32m[1104 17:19:15 @monitor.py:467]\u001b[0m GAN_loss/d_loss: -0.45029\n",
      "\u001b[32m[1104 17:19:15 @monitor.py:467]\u001b[0m GAN_loss/g_loss: -0.29766\n",
      "\u001b[32m[1104 17:19:15 @monitor.py:467]\u001b[0m GAN_loss/gradient_penalty: 0.0078621\n",
      "\u001b[32m[1104 17:19:15 @monitor.py:467]\u001b[0m GAN_loss/gradient_rms: 0.99657\n",
      "\u001b[32m[1104 17:19:15 @monitor.py:467]\u001b[0m GAN_loss/kl_div: 0.076477\n",
      "\u001b[32m[1104 17:19:15 @monitor.py:467]\u001b[0m QueueInput/queue_size: 50\n",
      "\u001b[32m[1104 17:19:15 @base.py:275]\u001b[0m Start Epoch 535 ...\n"
     ]
    },
    {
     "name": "stderr",
     "output_type": "stream",
     "text": [
      "100%|###################################################################################|175/175[00:06<00:00,26.79it/s]"
     ]
    },
    {
     "name": "stdout",
     "output_type": "stream",
     "text": [
      "\u001b[32m[1104 17:19:22 @base.py:285]\u001b[0m Epoch 535 (global_step 112349) finished, time:6.53 seconds.\n"
     ]
    },
    {
     "name": "stderr",
     "output_type": "stream",
     "text": [
      "\n"
     ]
    },
    {
     "name": "stdout",
     "output_type": "stream",
     "text": [
      "\u001b[32m[1104 17:19:22 @saver.py:79]\u001b[0m Model saved to ../output/Chicago/WGGP_WI_new3/model\\model-112349.\n",
      "\u001b[32m[1104 17:19:22 @monitor.py:467]\u001b[0m GAN_loss/d_loss: -0.46574\n",
      "\u001b[32m[1104 17:19:22 @monitor.py:467]\u001b[0m GAN_loss/g_loss: -0.29987\n",
      "\u001b[32m[1104 17:19:22 @monitor.py:467]\u001b[0m GAN_loss/gradient_penalty: 0.0076785\n",
      "\u001b[32m[1104 17:19:22 @monitor.py:467]\u001b[0m GAN_loss/gradient_rms: 0.99818\n",
      "\u001b[32m[1104 17:19:22 @monitor.py:467]\u001b[0m GAN_loss/kl_div: 0.080738\n",
      "\u001b[32m[1104 17:19:22 @monitor.py:467]\u001b[0m QueueInput/queue_size: 50\n",
      "\u001b[32m[1104 17:19:22 @base.py:275]\u001b[0m Start Epoch 536 ...\n"
     ]
    },
    {
     "name": "stderr",
     "output_type": "stream",
     "text": [
      "100%|###################################################################################|175/175[00:06<00:00,26.87it/s]"
     ]
    },
    {
     "name": "stdout",
     "output_type": "stream",
     "text": [
      "\u001b[32m[1104 17:19:29 @base.py:285]\u001b[0m Epoch 536 (global_step 112559) finished, time:6.51 seconds.\n",
      "\u001b[32m[1104 17:19:29 @saver.py:79]\u001b[0m Model saved to ../output/Chicago/WGGP_WI_new3/model\\model-112559.\n"
     ]
    },
    {
     "name": "stderr",
     "output_type": "stream",
     "text": [
      "\n"
     ]
    },
    {
     "name": "stdout",
     "output_type": "stream",
     "text": [
      "\u001b[32m[1104 17:19:29 @monitor.py:467]\u001b[0m GAN_loss/d_loss: -0.44455\n",
      "\u001b[32m[1104 17:19:29 @monitor.py:467]\u001b[0m GAN_loss/g_loss: -0.30104\n",
      "\u001b[32m[1104 17:19:29 @monitor.py:467]\u001b[0m GAN_loss/gradient_penalty: 0.0072245\n",
      "\u001b[32m[1104 17:19:29 @monitor.py:467]\u001b[0m GAN_loss/gradient_rms: 0.99728\n",
      "\u001b[32m[1104 17:19:29 @monitor.py:467]\u001b[0m GAN_loss/kl_div: 0.075826\n",
      "\u001b[32m[1104 17:19:29 @monitor.py:467]\u001b[0m QueueInput/queue_size: 50\n",
      "\u001b[32m[1104 17:19:29 @base.py:275]\u001b[0m Start Epoch 537 ...\n"
     ]
    },
    {
     "name": "stderr",
     "output_type": "stream",
     "text": [
      "100%|###################################################################################|175/175[00:06<00:00,26.83it/s]"
     ]
    },
    {
     "name": "stdout",
     "output_type": "stream",
     "text": [
      "\u001b[32m[1104 17:19:35 @base.py:285]\u001b[0m Epoch 537 (global_step 112769) finished, time:6.52 seconds.\n",
      "\u001b[32m[1104 17:19:36 @saver.py:79]\u001b[0m Model saved to ../output/Chicago/WGGP_WI_new3/model\\model-112769.\n",
      "\u001b[32m[1104 17:19:36 @monitor.py:467]\u001b[0m GAN_loss/d_loss: -0.31034\n"
     ]
    },
    {
     "name": "stderr",
     "output_type": "stream",
     "text": [
      "\n"
     ]
    },
    {
     "name": "stdout",
     "output_type": "stream",
     "text": [
      "\u001b[32m[1104 17:19:36 @monitor.py:467]\u001b[0m GAN_loss/g_loss: -0.28088\n",
      "\u001b[32m[1104 17:19:36 @monitor.py:467]\u001b[0m GAN_loss/gradient_penalty: 0.0068843\n",
      "\u001b[32m[1104 17:19:36 @monitor.py:467]\u001b[0m GAN_loss/gradient_rms: 0.99754\n",
      "\u001b[32m[1104 17:19:36 @monitor.py:467]\u001b[0m GAN_loss/kl_div: 0.080529\n",
      "\u001b[32m[1104 17:19:36 @monitor.py:467]\u001b[0m QueueInput/queue_size: 50\n",
      "\u001b[32m[1104 17:19:36 @base.py:275]\u001b[0m Start Epoch 538 ...\n"
     ]
    },
    {
     "name": "stderr",
     "output_type": "stream",
     "text": [
      "100%|###################################################################################|175/175[00:06<00:00,26.84it/s]"
     ]
    },
    {
     "name": "stdout",
     "output_type": "stream",
     "text": [
      "\u001b[32m[1104 17:19:42 @base.py:285]\u001b[0m Epoch 538 (global_step 112979) finished, time:6.52 seconds.\n",
      "\u001b[32m[1104 17:19:42 @saver.py:79]\u001b[0m Model saved to ../output/Chicago/WGGP_WI_new3/model\\model-112979.\n"
     ]
    },
    {
     "name": "stderr",
     "output_type": "stream",
     "text": [
      "\n"
     ]
    },
    {
     "name": "stdout",
     "output_type": "stream",
     "text": [
      "\u001b[32m[1104 17:19:42 @monitor.py:467]\u001b[0m GAN_loss/d_loss: -0.34926\n",
      "\u001b[32m[1104 17:19:42 @monitor.py:467]\u001b[0m GAN_loss/g_loss: -0.30119\n",
      "\u001b[32m[1104 17:19:42 @monitor.py:467]\u001b[0m GAN_loss/gradient_penalty: 0.0069356\n",
      "\u001b[32m[1104 17:19:42 @monitor.py:467]\u001b[0m GAN_loss/gradient_rms: 0.99786\n",
      "\u001b[32m[1104 17:19:42 @monitor.py:467]\u001b[0m GAN_loss/kl_div: 0.082546\n",
      "\u001b[32m[1104 17:19:42 @monitor.py:467]\u001b[0m QueueInput/queue_size: 50\n",
      "\u001b[32m[1104 17:19:42 @base.py:275]\u001b[0m Start Epoch 539 ...\n"
     ]
    },
    {
     "name": "stderr",
     "output_type": "stream",
     "text": [
      "100%|###################################################################################|175/175[00:06<00:00,26.84it/s]"
     ]
    },
    {
     "name": "stdout",
     "output_type": "stream",
     "text": [
      "\u001b[32m[1104 17:19:49 @base.py:285]\u001b[0m Epoch 539 (global_step 113189) finished, time:6.52 seconds.\n",
      "\u001b[32m[1104 17:19:49 @saver.py:79]\u001b[0m Model saved to ../output/Chicago/WGGP_WI_new3/model\\model-113189.\n",
      "\u001b[32m[1104 17:19:49 @monitor.py:467]\u001b[0m GAN_loss/d_loss: -0.40287\n"
     ]
    },
    {
     "name": "stderr",
     "output_type": "stream",
     "text": [
      "\n"
     ]
    },
    {
     "name": "stdout",
     "output_type": "stream",
     "text": [
      "\u001b[32m[1104 17:19:49 @monitor.py:467]\u001b[0m GAN_loss/g_loss: -0.28596\n",
      "\u001b[32m[1104 17:19:49 @monitor.py:467]\u001b[0m GAN_loss/gradient_penalty: 0.0070401\n",
      "\u001b[32m[1104 17:19:49 @monitor.py:467]\u001b[0m GAN_loss/gradient_rms: 0.99838\n",
      "\u001b[32m[1104 17:19:49 @monitor.py:467]\u001b[0m GAN_loss/kl_div: 0.070483\n",
      "\u001b[32m[1104 17:19:49 @monitor.py:467]\u001b[0m QueueInput/queue_size: 50\n",
      "\u001b[32m[1104 17:19:49 @base.py:275]\u001b[0m Start Epoch 540 ...\n"
     ]
    },
    {
     "name": "stderr",
     "output_type": "stream",
     "text": [
      "100%|###################################################################################|175/175[00:06<00:00,26.84it/s]"
     ]
    },
    {
     "name": "stdout",
     "output_type": "stream",
     "text": [
      "\u001b[32m[1104 17:19:56 @base.py:285]\u001b[0m Epoch 540 (global_step 113399) finished, time:6.52 seconds.\n",
      "\u001b[32m[1104 17:19:56 @saver.py:79]\u001b[0m Model saved to ../output/Chicago/WGGP_WI_new3/model\\model-113399.\n",
      "\u001b[32m[1104 17:19:56 @monitor.py:467]\u001b[0m GAN_loss/d_loss: -0.3757\n"
     ]
    },
    {
     "name": "stderr",
     "output_type": "stream",
     "text": [
      "\n"
     ]
    },
    {
     "name": "stdout",
     "output_type": "stream",
     "text": [
      "\u001b[32m[1104 17:19:56 @monitor.py:467]\u001b[0m GAN_loss/g_loss: -0.29648\n",
      "\u001b[32m[1104 17:19:56 @monitor.py:467]\u001b[0m GAN_loss/gradient_penalty: 0.0067028\n",
      "\u001b[32m[1104 17:19:56 @monitor.py:467]\u001b[0m GAN_loss/gradient_rms: 0.99913\n",
      "\u001b[32m[1104 17:19:56 @monitor.py:467]\u001b[0m GAN_loss/kl_div: 0.078256\n",
      "\u001b[32m[1104 17:19:56 @monitor.py:467]\u001b[0m QueueInput/queue_size: 50\n",
      "\u001b[32m[1104 17:19:56 @base.py:275]\u001b[0m Start Epoch 541 ...\n"
     ]
    },
    {
     "name": "stderr",
     "output_type": "stream",
     "text": [
      "100%|###################################################################################|175/175[00:06<00:00,26.85it/s]"
     ]
    },
    {
     "name": "stdout",
     "output_type": "stream",
     "text": [
      "\u001b[32m[1104 17:20:02 @base.py:285]\u001b[0m Epoch 541 (global_step 113609) finished, time:6.52 seconds.\n",
      "\u001b[32m[1104 17:20:02 @saver.py:79]\u001b[0m Model saved to ../output/Chicago/WGGP_WI_new3/model\\model-113609.\n"
     ]
    },
    {
     "name": "stderr",
     "output_type": "stream",
     "text": [
      "\n"
     ]
    },
    {
     "name": "stdout",
     "output_type": "stream",
     "text": [
      "\u001b[32m[1104 17:20:03 @monitor.py:467]\u001b[0m GAN_loss/d_loss: -0.43255\n",
      "\u001b[32m[1104 17:20:03 @monitor.py:467]\u001b[0m GAN_loss/g_loss: -0.27425\n",
      "\u001b[32m[1104 17:20:03 @monitor.py:467]\u001b[0m GAN_loss/gradient_penalty: 0.0071241\n",
      "\u001b[32m[1104 17:20:03 @monitor.py:467]\u001b[0m GAN_loss/gradient_rms: 0.99824\n",
      "\u001b[32m[1104 17:20:03 @monitor.py:467]\u001b[0m GAN_loss/kl_div: 0.0763\n",
      "\u001b[32m[1104 17:20:03 @monitor.py:467]\u001b[0m QueueInput/queue_size: 50\n",
      "\u001b[32m[1104 17:20:03 @base.py:275]\u001b[0m Start Epoch 542 ...\n"
     ]
    },
    {
     "name": "stderr",
     "output_type": "stream",
     "text": [
      "100%|###################################################################################|175/175[00:06<00:00,26.84it/s]"
     ]
    },
    {
     "name": "stdout",
     "output_type": "stream",
     "text": [
      "\u001b[32m[1104 17:20:09 @base.py:285]\u001b[0m Epoch 542 (global_step 113819) finished, time:6.52 seconds.\n",
      "\u001b[32m[1104 17:20:09 @saver.py:79]\u001b[0m Model saved to ../output/Chicago/WGGP_WI_new3/model\\model-113819.\n"
     ]
    },
    {
     "name": "stderr",
     "output_type": "stream",
     "text": [
      "\n"
     ]
    },
    {
     "name": "stdout",
     "output_type": "stream",
     "text": [
      "\u001b[32m[1104 17:20:09 @monitor.py:467]\u001b[0m GAN_loss/d_loss: -0.49957\n",
      "\u001b[32m[1104 17:20:09 @monitor.py:467]\u001b[0m GAN_loss/g_loss: -0.31244\n",
      "\u001b[32m[1104 17:20:09 @monitor.py:467]\u001b[0m GAN_loss/gradient_penalty: 0.0070893\n",
      "\u001b[32m[1104 17:20:09 @monitor.py:467]\u001b[0m GAN_loss/gradient_rms: 0.99898\n",
      "\u001b[32m[1104 17:20:09 @monitor.py:467]\u001b[0m GAN_loss/kl_div: 0.084762\n",
      "\u001b[32m[1104 17:20:09 @monitor.py:467]\u001b[0m QueueInput/queue_size: 50\n",
      "\u001b[32m[1104 17:20:09 @base.py:275]\u001b[0m Start Epoch 543 ...\n"
     ]
    },
    {
     "name": "stderr",
     "output_type": "stream",
     "text": [
      "100%|###################################################################################|175/175[00:06<00:00,26.69it/s]"
     ]
    },
    {
     "name": "stdout",
     "output_type": "stream",
     "text": [
      "\u001b[32m[1104 17:20:16 @base.py:285]\u001b[0m Epoch 543 (global_step 114029) finished, time:6.56 seconds.\n"
     ]
    },
    {
     "name": "stderr",
     "output_type": "stream",
     "text": [
      "\n"
     ]
    },
    {
     "name": "stdout",
     "output_type": "stream",
     "text": [
      "\u001b[32m[1104 17:20:16 @saver.py:79]\u001b[0m Model saved to ../output/Chicago/WGGP_WI_new3/model\\model-114029.\n",
      "\u001b[32m[1104 17:20:16 @monitor.py:467]\u001b[0m GAN_loss/d_loss: -0.48533\n",
      "\u001b[32m[1104 17:20:16 @monitor.py:467]\u001b[0m GAN_loss/g_loss: -0.31408\n",
      "\u001b[32m[1104 17:20:16 @monitor.py:467]\u001b[0m GAN_loss/gradient_penalty: 0.0073451\n",
      "\u001b[32m[1104 17:20:16 @monitor.py:467]\u001b[0m GAN_loss/gradient_rms: 0.9995\n",
      "\u001b[32m[1104 17:20:16 @monitor.py:467]\u001b[0m GAN_loss/kl_div: 0.082401\n",
      "\u001b[32m[1104 17:20:16 @monitor.py:467]\u001b[0m QueueInput/queue_size: 50\n",
      "\u001b[32m[1104 17:20:16 @base.py:275]\u001b[0m Start Epoch 544 ...\n"
     ]
    },
    {
     "name": "stderr",
     "output_type": "stream",
     "text": [
      "100%|###################################################################################|175/175[00:06<00:00,26.86it/s]"
     ]
    },
    {
     "name": "stdout",
     "output_type": "stream",
     "text": [
      "\u001b[32m[1104 17:20:23 @base.py:285]\u001b[0m Epoch 544 (global_step 114239) finished, time:6.52 seconds.\n",
      "\u001b[32m[1104 17:20:23 @saver.py:79]\u001b[0m Model saved to ../output/Chicago/WGGP_WI_new3/model\\model-114239.\n",
      "\u001b[32m[1104 17:20:23 @monitor.py:467]\u001b[0m GAN_loss/d_loss: -0.52657\n"
     ]
    },
    {
     "name": "stderr",
     "output_type": "stream",
     "text": [
      "\n"
     ]
    },
    {
     "name": "stdout",
     "output_type": "stream",
     "text": [
      "\u001b[32m[1104 17:20:23 @monitor.py:467]\u001b[0m GAN_loss/g_loss: -0.32629\n",
      "\u001b[32m[1104 17:20:23 @monitor.py:467]\u001b[0m GAN_loss/gradient_penalty: 0.0072354\n",
      "\u001b[32m[1104 17:20:23 @monitor.py:467]\u001b[0m GAN_loss/gradient_rms: 0.99721\n",
      "\u001b[32m[1104 17:20:23 @monitor.py:467]\u001b[0m GAN_loss/kl_div: 0.092103\n",
      "\u001b[32m[1104 17:20:23 @monitor.py:467]\u001b[0m QueueInput/queue_size: 50\n",
      "\u001b[32m[1104 17:20:23 @base.py:275]\u001b[0m Start Epoch 545 ...\n"
     ]
    },
    {
     "name": "stderr",
     "output_type": "stream",
     "text": [
      "100%|###################################################################################|175/175[00:06<00:00,26.83it/s]"
     ]
    },
    {
     "name": "stdout",
     "output_type": "stream",
     "text": [
      "\u001b[32m[1104 17:20:29 @base.py:285]\u001b[0m Epoch 545 (global_step 114449) finished, time:6.52 seconds.\n",
      "\u001b[32m[1104 17:20:29 @saver.py:79]\u001b[0m Model saved to ../output/Chicago/WGGP_WI_new3/model\\model-114449.\n"
     ]
    },
    {
     "name": "stderr",
     "output_type": "stream",
     "text": [
      "\n"
     ]
    },
    {
     "name": "stdout",
     "output_type": "stream",
     "text": [
      "\u001b[32m[1104 17:20:30 @monitor.py:467]\u001b[0m GAN_loss/d_loss: -0.19119\n",
      "\u001b[32m[1104 17:20:30 @monitor.py:467]\u001b[0m GAN_loss/g_loss: -0.35443\n",
      "\u001b[32m[1104 17:20:30 @monitor.py:467]\u001b[0m GAN_loss/gradient_penalty: 0.0064457\n",
      "\u001b[32m[1104 17:20:30 @monitor.py:467]\u001b[0m GAN_loss/gradient_rms: 0.99949\n",
      "\u001b[32m[1104 17:20:30 @monitor.py:467]\u001b[0m GAN_loss/kl_div: 0.081309\n",
      "\u001b[32m[1104 17:20:30 @monitor.py:467]\u001b[0m QueueInput/queue_size: 50\n",
      "\u001b[32m[1104 17:20:30 @base.py:275]\u001b[0m Start Epoch 546 ...\n"
     ]
    },
    {
     "name": "stderr",
     "output_type": "stream",
     "text": [
      "100%|###################################################################################|175/175[00:06<00:00,26.84it/s]"
     ]
    },
    {
     "name": "stdout",
     "output_type": "stream",
     "text": [
      "\u001b[32m[1104 17:20:36 @base.py:285]\u001b[0m Epoch 546 (global_step 114659) finished, time:6.52 seconds.\n",
      "\u001b[32m[1104 17:20:36 @saver.py:79]\u001b[0m Model saved to ../output/Chicago/WGGP_WI_new3/model\\model-114659.\n"
     ]
    },
    {
     "name": "stderr",
     "output_type": "stream",
     "text": [
      "\n"
     ]
    },
    {
     "name": "stdout",
     "output_type": "stream",
     "text": [
      "\u001b[32m[1104 17:20:36 @monitor.py:467]\u001b[0m GAN_loss/d_loss: -0.22601\n",
      "\u001b[32m[1104 17:20:36 @monitor.py:467]\u001b[0m GAN_loss/g_loss: -0.34505\n",
      "\u001b[32m[1104 17:20:36 @monitor.py:467]\u001b[0m GAN_loss/gradient_penalty: 0.0063288\n",
      "\u001b[32m[1104 17:20:36 @monitor.py:467]\u001b[0m GAN_loss/gradient_rms: 0.99871\n",
      "\u001b[32m[1104 17:20:36 @monitor.py:467]\u001b[0m GAN_loss/kl_div: 0.090084\n",
      "\u001b[32m[1104 17:20:36 @monitor.py:467]\u001b[0m QueueInput/queue_size: 50\n",
      "\u001b[32m[1104 17:20:36 @base.py:275]\u001b[0m Start Epoch 547 ...\n"
     ]
    },
    {
     "name": "stderr",
     "output_type": "stream",
     "text": [
      "100%|###################################################################################|175/175[00:06<00:00,26.85it/s]"
     ]
    },
    {
     "name": "stdout",
     "output_type": "stream",
     "text": [
      "\u001b[32m[1104 17:20:43 @base.py:285]\u001b[0m Epoch 547 (global_step 114869) finished, time:6.52 seconds.\n",
      "\u001b[32m[1104 17:20:43 @saver.py:79]\u001b[0m Model saved to ../output/Chicago/WGGP_WI_new3/model\\model-114869.\n"
     ]
    },
    {
     "name": "stderr",
     "output_type": "stream",
     "text": [
      "\n"
     ]
    },
    {
     "name": "stdout",
     "output_type": "stream",
     "text": [
      "\u001b[32m[1104 17:20:43 @monitor.py:467]\u001b[0m GAN_loss/d_loss: -0.29729\n",
      "\u001b[32m[1104 17:20:43 @monitor.py:467]\u001b[0m GAN_loss/g_loss: -0.30854\n",
      "\u001b[32m[1104 17:20:43 @monitor.py:467]\u001b[0m GAN_loss/gradient_penalty: 0.0072167\n",
      "\u001b[32m[1104 17:20:43 @monitor.py:467]\u001b[0m GAN_loss/gradient_rms: 0.99812\n",
      "\u001b[32m[1104 17:20:43 @monitor.py:467]\u001b[0m GAN_loss/kl_div: 0.080914\n",
      "\u001b[32m[1104 17:20:43 @monitor.py:467]\u001b[0m QueueInput/queue_size: 50\n",
      "\u001b[32m[1104 17:20:43 @base.py:275]\u001b[0m Start Epoch 548 ...\n"
     ]
    },
    {
     "name": "stderr",
     "output_type": "stream",
     "text": [
      "100%|###################################################################################|175/175[00:06<00:00,26.80it/s]"
     ]
    },
    {
     "name": "stdout",
     "output_type": "stream",
     "text": [
      "\u001b[32m[1104 17:20:50 @base.py:285]\u001b[0m Epoch 548 (global_step 115079) finished, time:6.53 seconds.\n"
     ]
    },
    {
     "name": "stderr",
     "output_type": "stream",
     "text": [
      "\n"
     ]
    },
    {
     "name": "stdout",
     "output_type": "stream",
     "text": [
      "\u001b[32m[1104 17:20:50 @saver.py:79]\u001b[0m Model saved to ../output/Chicago/WGGP_WI_new3/model\\model-115079.\n",
      "\u001b[32m[1104 17:20:50 @monitor.py:467]\u001b[0m GAN_loss/d_loss: -0.32687\n",
      "\u001b[32m[1104 17:20:50 @monitor.py:467]\u001b[0m GAN_loss/g_loss: -0.30396\n",
      "\u001b[32m[1104 17:20:50 @monitor.py:467]\u001b[0m GAN_loss/gradient_penalty: 0.007197\n",
      "\u001b[32m[1104 17:20:50 @monitor.py:467]\u001b[0m GAN_loss/gradient_rms: 0.99973\n",
      "\u001b[32m[1104 17:20:50 @monitor.py:467]\u001b[0m GAN_loss/kl_div: 0.07108\n",
      "\u001b[32m[1104 17:20:50 @monitor.py:467]\u001b[0m QueueInput/queue_size: 50\n",
      "\u001b[32m[1104 17:20:50 @base.py:275]\u001b[0m Start Epoch 549 ...\n"
     ]
    },
    {
     "name": "stderr",
     "output_type": "stream",
     "text": [
      "100%|###################################################################################|175/175[00:06<00:00,26.84it/s]"
     ]
    },
    {
     "name": "stdout",
     "output_type": "stream",
     "text": [
      "\u001b[32m[1104 17:20:56 @base.py:285]\u001b[0m Epoch 549 (global_step 115289) finished, time:6.52 seconds.\n",
      "\u001b[32m[1104 17:20:56 @saver.py:79]\u001b[0m Model saved to ../output/Chicago/WGGP_WI_new3/model\\model-115289.\n",
      "\u001b[32m[1104 17:20:56 @monitor.py:467]\u001b[0m GAN_loss/d_loss: -0.31929\n"
     ]
    },
    {
     "name": "stderr",
     "output_type": "stream",
     "text": [
      "\n"
     ]
    },
    {
     "name": "stdout",
     "output_type": "stream",
     "text": [
      "\u001b[32m[1104 17:20:56 @monitor.py:467]\u001b[0m GAN_loss/g_loss: -0.32673\n",
      "\u001b[32m[1104 17:20:56 @monitor.py:467]\u001b[0m GAN_loss/gradient_penalty: 0.0069431\n",
      "\u001b[32m[1104 17:20:56 @monitor.py:467]\u001b[0m GAN_loss/gradient_rms: 0.99605\n",
      "\u001b[32m[1104 17:20:56 @monitor.py:467]\u001b[0m GAN_loss/kl_div: 0.079461\n",
      "\u001b[32m[1104 17:20:56 @monitor.py:467]\u001b[0m QueueInput/queue_size: 50\n",
      "\u001b[32m[1104 17:20:56 @base.py:275]\u001b[0m Start Epoch 550 ...\n"
     ]
    },
    {
     "name": "stderr",
     "output_type": "stream",
     "text": [
      "100%|###################################################################################|175/175[00:06<00:00,26.86it/s]"
     ]
    },
    {
     "name": "stdout",
     "output_type": "stream",
     "text": [
      "\u001b[32m[1104 17:21:03 @base.py:285]\u001b[0m Epoch 550 (global_step 115499) finished, time:6.52 seconds.\n",
      "\u001b[32m[1104 17:21:03 @saver.py:79]\u001b[0m Model saved to ../output/Chicago/WGGP_WI_new3/model\\model-115499.\n"
     ]
    },
    {
     "name": "stderr",
     "output_type": "stream",
     "text": [
      "\n"
     ]
    },
    {
     "name": "stdout",
     "output_type": "stream",
     "text": [
      "\u001b[32m[1104 17:21:03 @monitor.py:467]\u001b[0m GAN_loss/d_loss: -0.33237\n",
      "\u001b[32m[1104 17:21:03 @monitor.py:467]\u001b[0m GAN_loss/g_loss: -0.32688\n",
      "\u001b[32m[1104 17:21:03 @monitor.py:467]\u001b[0m GAN_loss/gradient_penalty: 0.0072306\n",
      "\u001b[32m[1104 17:21:03 @monitor.py:467]\u001b[0m GAN_loss/gradient_rms: 0.99978\n",
      "\u001b[32m[1104 17:21:03 @monitor.py:467]\u001b[0m GAN_loss/kl_div: 0.073825\n",
      "\u001b[32m[1104 17:21:03 @monitor.py:467]\u001b[0m QueueInput/queue_size: 50\n",
      "\u001b[32m[1104 17:21:03 @base.py:275]\u001b[0m Start Epoch 551 ...\n"
     ]
    },
    {
     "name": "stderr",
     "output_type": "stream",
     "text": [
      "100%|###################################################################################|175/175[00:06<00:00,26.81it/s]"
     ]
    },
    {
     "name": "stdout",
     "output_type": "stream",
     "text": [
      "\u001b[32m[1104 17:21:10 @base.py:285]\u001b[0m Epoch 551 (global_step 115709) finished, time:6.53 seconds.\n",
      "\u001b[32m[1104 17:21:10 @saver.py:79]\u001b[0m Model saved to ../output/Chicago/WGGP_WI_new3/model\\model-115709.\n"
     ]
    },
    {
     "name": "stderr",
     "output_type": "stream",
     "text": [
      "\n"
     ]
    },
    {
     "name": "stdout",
     "output_type": "stream",
     "text": [
      "\u001b[32m[1104 17:21:10 @monitor.py:467]\u001b[0m GAN_loss/d_loss: -0.23249\n",
      "\u001b[32m[1104 17:21:10 @monitor.py:467]\u001b[0m GAN_loss/g_loss: -0.3403\n",
      "\u001b[32m[1104 17:21:10 @monitor.py:467]\u001b[0m GAN_loss/gradient_penalty: 0.0072263\n",
      "\u001b[32m[1104 17:21:10 @monitor.py:467]\u001b[0m GAN_loss/gradient_rms: 0.99895\n",
      "\u001b[32m[1104 17:21:10 @monitor.py:467]\u001b[0m GAN_loss/kl_div: 0.073638\n",
      "\u001b[32m[1104 17:21:10 @monitor.py:467]\u001b[0m QueueInput/queue_size: 50\n",
      "\u001b[32m[1104 17:21:10 @base.py:275]\u001b[0m Start Epoch 552 ...\n"
     ]
    },
    {
     "name": "stderr",
     "output_type": "stream",
     "text": [
      "100%|###################################################################################|175/175[00:06<00:00,26.85it/s]"
     ]
    },
    {
     "name": "stdout",
     "output_type": "stream",
     "text": [
      "\u001b[32m[1104 17:21:16 @base.py:285]\u001b[0m Epoch 552 (global_step 115919) finished, time:6.52 seconds.\n",
      "\u001b[32m[1104 17:21:17 @saver.py:79]\u001b[0m Model saved to ../output/Chicago/WGGP_WI_new3/model\\model-115919.\n"
     ]
    },
    {
     "name": "stderr",
     "output_type": "stream",
     "text": [
      "\n"
     ]
    },
    {
     "name": "stdout",
     "output_type": "stream",
     "text": [
      "\u001b[32m[1104 17:21:17 @monitor.py:467]\u001b[0m GAN_loss/d_loss: -0.2448\n",
      "\u001b[32m[1104 17:21:17 @monitor.py:467]\u001b[0m GAN_loss/g_loss: -0.33903\n",
      "\u001b[32m[1104 17:21:17 @monitor.py:467]\u001b[0m GAN_loss/gradient_penalty: 0.0068383\n",
      "\u001b[32m[1104 17:21:17 @monitor.py:467]\u001b[0m GAN_loss/gradient_rms: 0.99597\n",
      "\u001b[32m[1104 17:21:17 @monitor.py:467]\u001b[0m GAN_loss/kl_div: 0.077447\n",
      "\u001b[32m[1104 17:21:17 @monitor.py:467]\u001b[0m QueueInput/queue_size: 50\n",
      "\u001b[32m[1104 17:21:17 @base.py:275]\u001b[0m Start Epoch 553 ...\n"
     ]
    },
    {
     "name": "stderr",
     "output_type": "stream",
     "text": [
      "100%|###################################################################################|175/175[00:06<00:00,26.82it/s]"
     ]
    },
    {
     "name": "stdout",
     "output_type": "stream",
     "text": [
      "\u001b[32m[1104 17:21:23 @base.py:285]\u001b[0m Epoch 553 (global_step 116129) finished, time:6.53 seconds.\n",
      "\u001b[32m[1104 17:21:23 @saver.py:79]\u001b[0m Model saved to ../output/Chicago/WGGP_WI_new3/model\\model-116129.\n"
     ]
    },
    {
     "name": "stderr",
     "output_type": "stream",
     "text": [
      "\n"
     ]
    },
    {
     "name": "stdout",
     "output_type": "stream",
     "text": [
      "\u001b[32m[1104 17:21:23 @monitor.py:467]\u001b[0m GAN_loss/d_loss: -0.22367\n",
      "\u001b[32m[1104 17:21:23 @monitor.py:467]\u001b[0m GAN_loss/g_loss: -0.32758\n",
      "\u001b[32m[1104 17:21:23 @monitor.py:467]\u001b[0m GAN_loss/gradient_penalty: 0.0064411\n",
      "\u001b[32m[1104 17:21:23 @monitor.py:467]\u001b[0m GAN_loss/gradient_rms: 0.99942\n",
      "\u001b[32m[1104 17:21:23 @monitor.py:467]\u001b[0m GAN_loss/kl_div: 0.079449\n",
      "\u001b[32m[1104 17:21:23 @monitor.py:467]\u001b[0m QueueInput/queue_size: 50\n",
      "\u001b[32m[1104 17:21:23 @base.py:275]\u001b[0m Start Epoch 554 ...\n"
     ]
    },
    {
     "name": "stderr",
     "output_type": "stream",
     "text": [
      "100%|###################################################################################|175/175[00:06<00:00,26.85it/s]"
     ]
    },
    {
     "name": "stdout",
     "output_type": "stream",
     "text": [
      "\u001b[32m[1104 17:21:30 @base.py:285]\u001b[0m Epoch 554 (global_step 116339) finished, time:6.52 seconds.\n",
      "\u001b[32m[1104 17:21:30 @saver.py:79]\u001b[0m Model saved to ../output/Chicago/WGGP_WI_new3/model\\model-116339.\n"
     ]
    },
    {
     "name": "stderr",
     "output_type": "stream",
     "text": [
      "\n"
     ]
    },
    {
     "name": "stdout",
     "output_type": "stream",
     "text": [
      "\u001b[32m[1104 17:21:30 @monitor.py:467]\u001b[0m GAN_loss/d_loss: -0.27515\n",
      "\u001b[32m[1104 17:21:30 @monitor.py:467]\u001b[0m GAN_loss/g_loss: -0.31786\n",
      "\u001b[32m[1104 17:21:30 @monitor.py:467]\u001b[0m GAN_loss/gradient_penalty: 0.0067409\n",
      "\u001b[32m[1104 17:21:30 @monitor.py:467]\u001b[0m GAN_loss/gradient_rms: 1.0003\n",
      "\u001b[32m[1104 17:21:30 @monitor.py:467]\u001b[0m GAN_loss/kl_div: 0.078029\n",
      "\u001b[32m[1104 17:21:30 @monitor.py:467]\u001b[0m QueueInput/queue_size: 50\n",
      "\u001b[32m[1104 17:21:30 @base.py:275]\u001b[0m Start Epoch 555 ...\n"
     ]
    },
    {
     "name": "stderr",
     "output_type": "stream",
     "text": [
      "100%|###################################################################################|175/175[00:06<00:00,26.85it/s]"
     ]
    },
    {
     "name": "stdout",
     "output_type": "stream",
     "text": [
      "\u001b[32m[1104 17:21:37 @base.py:285]\u001b[0m Epoch 555 (global_step 116549) finished, time:6.52 seconds.\n",
      "\u001b[32m[1104 17:21:37 @saver.py:79]\u001b[0m Model saved to ../output/Chicago/WGGP_WI_new3/model\\model-116549.\n",
      "\u001b[32m[1104 17:21:37 @monitor.py:467]\u001b[0m GAN_loss/d_loss: -0.20506\n"
     ]
    },
    {
     "name": "stderr",
     "output_type": "stream",
     "text": [
      "\n"
     ]
    },
    {
     "name": "stdout",
     "output_type": "stream",
     "text": [
      "\u001b[32m[1104 17:21:37 @monitor.py:467]\u001b[0m GAN_loss/g_loss: -0.32385\n",
      "\u001b[32m[1104 17:21:37 @monitor.py:467]\u001b[0m GAN_loss/gradient_penalty: 0.0063611\n",
      "\u001b[32m[1104 17:21:37 @monitor.py:467]\u001b[0m GAN_loss/gradient_rms: 0.99774\n",
      "\u001b[32m[1104 17:21:37 @monitor.py:467]\u001b[0m GAN_loss/kl_div: 0.083281\n",
      "\u001b[32m[1104 17:21:37 @monitor.py:467]\u001b[0m QueueInput/queue_size: 50\n",
      "\u001b[32m[1104 17:21:37 @base.py:275]\u001b[0m Start Epoch 556 ...\n"
     ]
    },
    {
     "name": "stderr",
     "output_type": "stream",
     "text": [
      "100%|###################################################################################|175/175[00:06<00:00,26.84it/s]"
     ]
    },
    {
     "name": "stdout",
     "output_type": "stream",
     "text": [
      "\u001b[32m[1104 17:21:43 @base.py:285]\u001b[0m Epoch 556 (global_step 116759) finished, time:6.52 seconds.\n",
      "\u001b[32m[1104 17:21:44 @saver.py:79]\u001b[0m Model saved to ../output/Chicago/WGGP_WI_new3/model\\model-116759.\n"
     ]
    },
    {
     "name": "stderr",
     "output_type": "stream",
     "text": [
      "\n"
     ]
    },
    {
     "name": "stdout",
     "output_type": "stream",
     "text": [
      "\u001b[32m[1104 17:21:44 @monitor.py:467]\u001b[0m GAN_loss/d_loss: -0.22407\n",
      "\u001b[32m[1104 17:21:44 @monitor.py:467]\u001b[0m GAN_loss/g_loss: -0.3491\n",
      "\u001b[32m[1104 17:21:44 @monitor.py:467]\u001b[0m GAN_loss/gradient_penalty: 0.0064025\n",
      "\u001b[32m[1104 17:21:44 @monitor.py:467]\u001b[0m GAN_loss/gradient_rms: 0.99747\n",
      "\u001b[32m[1104 17:21:44 @monitor.py:467]\u001b[0m GAN_loss/kl_div: 0.08931\n",
      "\u001b[32m[1104 17:21:44 @monitor.py:467]\u001b[0m QueueInput/queue_size: 50\n",
      "\u001b[32m[1104 17:21:44 @base.py:275]\u001b[0m Start Epoch 557 ...\n"
     ]
    },
    {
     "name": "stderr",
     "output_type": "stream",
     "text": [
      "100%|###################################################################################|175/175[00:06<00:00,26.84it/s]"
     ]
    },
    {
     "name": "stdout",
     "output_type": "stream",
     "text": [
      "\u001b[32m[1104 17:21:50 @base.py:285]\u001b[0m Epoch 557 (global_step 116969) finished, time:6.52 seconds.\n",
      "\u001b[32m[1104 17:21:50 @saver.py:79]\u001b[0m Model saved to ../output/Chicago/WGGP_WI_new3/model\\model-116969.\n"
     ]
    },
    {
     "name": "stderr",
     "output_type": "stream",
     "text": [
      "\n"
     ]
    },
    {
     "name": "stdout",
     "output_type": "stream",
     "text": [
      "\u001b[32m[1104 17:21:50 @monitor.py:467]\u001b[0m GAN_loss/d_loss: -0.31856\n",
      "\u001b[32m[1104 17:21:50 @monitor.py:467]\u001b[0m GAN_loss/g_loss: -0.35883\n",
      "\u001b[32m[1104 17:21:50 @monitor.py:467]\u001b[0m GAN_loss/gradient_penalty: 0.0061949\n",
      "\u001b[32m[1104 17:21:50 @monitor.py:467]\u001b[0m GAN_loss/gradient_rms: 0.99816\n",
      "\u001b[32m[1104 17:21:50 @monitor.py:467]\u001b[0m GAN_loss/kl_div: 0.078137\n",
      "\u001b[32m[1104 17:21:50 @monitor.py:467]\u001b[0m QueueInput/queue_size: 50\n",
      "\u001b[32m[1104 17:21:50 @base.py:275]\u001b[0m Start Epoch 558 ...\n"
     ]
    },
    {
     "name": "stderr",
     "output_type": "stream",
     "text": [
      "100%|###################################################################################|175/175[00:06<00:00,26.85it/s]"
     ]
    },
    {
     "name": "stdout",
     "output_type": "stream",
     "text": [
      "\u001b[32m[1104 17:21:57 @base.py:285]\u001b[0m Epoch 558 (global_step 117179) finished, time:6.52 seconds.\n",
      "\u001b[32m[1104 17:21:57 @saver.py:79]\u001b[0m Model saved to ../output/Chicago/WGGP_WI_new3/model\\model-117179.\n",
      "\u001b[32m[1104 17:21:57 @monitor.py:467]\u001b[0m GAN_loss/d_loss: -0.41137\n"
     ]
    },
    {
     "name": "stderr",
     "output_type": "stream",
     "text": [
      "\n"
     ]
    },
    {
     "name": "stdout",
     "output_type": "stream",
     "text": [
      "\u001b[32m[1104 17:21:57 @monitor.py:467]\u001b[0m GAN_loss/g_loss: -0.34338\n",
      "\u001b[32m[1104 17:21:57 @monitor.py:467]\u001b[0m GAN_loss/gradient_penalty: 0.0067914\n",
      "\u001b[32m[1104 17:21:57 @monitor.py:467]\u001b[0m GAN_loss/gradient_rms: 0.99928\n",
      "\u001b[32m[1104 17:21:57 @monitor.py:467]\u001b[0m GAN_loss/kl_div: 0.075319\n",
      "\u001b[32m[1104 17:21:57 @monitor.py:467]\u001b[0m QueueInput/queue_size: 50\n",
      "\u001b[32m[1104 17:21:57 @base.py:275]\u001b[0m Start Epoch 559 ...\n"
     ]
    },
    {
     "name": "stderr",
     "output_type": "stream",
     "text": [
      "100%|###################################################################################|175/175[00:06<00:00,26.85it/s]"
     ]
    },
    {
     "name": "stdout",
     "output_type": "stream",
     "text": [
      "\u001b[32m[1104 17:22:04 @base.py:285]\u001b[0m Epoch 559 (global_step 117389) finished, time:6.52 seconds.\n",
      "\u001b[32m[1104 17:22:04 @saver.py:79]\u001b[0m Model saved to ../output/Chicago/WGGP_WI_new3/model\\model-117389.\n",
      "\u001b[32m[1104 17:22:04 @monitor.py:467]\u001b[0m GAN_loss/d_loss: -0.37787\n"
     ]
    },
    {
     "name": "stderr",
     "output_type": "stream",
     "text": [
      "\n"
     ]
    },
    {
     "name": "stdout",
     "output_type": "stream",
     "text": [
      "\u001b[32m[1104 17:22:04 @monitor.py:467]\u001b[0m GAN_loss/g_loss: -0.32223\n",
      "\u001b[32m[1104 17:22:04 @monitor.py:467]\u001b[0m GAN_loss/gradient_penalty: 0.0069134\n",
      "\u001b[32m[1104 17:22:04 @monitor.py:467]\u001b[0m GAN_loss/gradient_rms: 0.99829\n",
      "\u001b[32m[1104 17:22:04 @monitor.py:467]\u001b[0m GAN_loss/kl_div: 0.086209\n",
      "\u001b[32m[1104 17:22:04 @monitor.py:467]\u001b[0m QueueInput/queue_size: 50\n",
      "\u001b[32m[1104 17:22:04 @base.py:275]\u001b[0m Start Epoch 560 ...\n"
     ]
    },
    {
     "name": "stderr",
     "output_type": "stream",
     "text": [
      "100%|###################################################################################|175/175[00:06<00:00,26.82it/s]"
     ]
    },
    {
     "name": "stdout",
     "output_type": "stream",
     "text": [
      "\u001b[32m[1104 17:22:10 @base.py:285]\u001b[0m Epoch 560 (global_step 117599) finished, time:6.52 seconds.\n",
      "\u001b[32m[1104 17:22:10 @saver.py:79]\u001b[0m Model saved to ../output/Chicago/WGGP_WI_new3/model\\model-117599.\n"
     ]
    },
    {
     "name": "stderr",
     "output_type": "stream",
     "text": [
      "\n"
     ]
    },
    {
     "name": "stdout",
     "output_type": "stream",
     "text": [
      "\u001b[32m[1104 17:22:11 @monitor.py:467]\u001b[0m GAN_loss/d_loss: -0.36905\n",
      "\u001b[32m[1104 17:22:11 @monitor.py:467]\u001b[0m GAN_loss/g_loss: -0.33034\n",
      "\u001b[32m[1104 17:22:11 @monitor.py:467]\u001b[0m GAN_loss/gradient_penalty: 0.0069191\n",
      "\u001b[32m[1104 17:22:11 @monitor.py:467]\u001b[0m GAN_loss/gradient_rms: 0.99647\n",
      "\u001b[32m[1104 17:22:11 @monitor.py:467]\u001b[0m GAN_loss/kl_div: 0.072635\n",
      "\u001b[32m[1104 17:22:11 @monitor.py:467]\u001b[0m QueueInput/queue_size: 50\n",
      "\u001b[32m[1104 17:22:11 @base.py:275]\u001b[0m Start Epoch 561 ...\n"
     ]
    },
    {
     "name": "stderr",
     "output_type": "stream",
     "text": [
      "100%|###################################################################################|175/175[00:06<00:00,26.71it/s]"
     ]
    },
    {
     "name": "stdout",
     "output_type": "stream",
     "text": [
      "\u001b[32m[1104 17:22:17 @base.py:285]\u001b[0m Epoch 561 (global_step 117809) finished, time:6.55 seconds.\n"
     ]
    },
    {
     "name": "stderr",
     "output_type": "stream",
     "text": [
      "\n"
     ]
    },
    {
     "name": "stdout",
     "output_type": "stream",
     "text": [
      "\u001b[32m[1104 17:22:17 @saver.py:79]\u001b[0m Model saved to ../output/Chicago/WGGP_WI_new3/model\\model-117809.\n",
      "\u001b[32m[1104 17:22:17 @monitor.py:467]\u001b[0m GAN_loss/d_loss: -0.26724\n",
      "\u001b[32m[1104 17:22:17 @monitor.py:467]\u001b[0m GAN_loss/g_loss: -0.33303\n",
      "\u001b[32m[1104 17:22:17 @monitor.py:467]\u001b[0m GAN_loss/gradient_penalty: 0.0072216\n",
      "\u001b[32m[1104 17:22:17 @monitor.py:467]\u001b[0m GAN_loss/gradient_rms: 0.9975\n",
      "\u001b[32m[1104 17:22:17 @monitor.py:467]\u001b[0m GAN_loss/kl_div: 0.077616\n",
      "\u001b[32m[1104 17:22:17 @monitor.py:467]\u001b[0m QueueInput/queue_size: 50\n",
      "\u001b[32m[1104 17:22:17 @base.py:275]\u001b[0m Start Epoch 562 ...\n"
     ]
    },
    {
     "name": "stderr",
     "output_type": "stream",
     "text": [
      "100%|###################################################################################|175/175[00:06<00:00,26.85it/s]"
     ]
    },
    {
     "name": "stdout",
     "output_type": "stream",
     "text": [
      "\u001b[32m[1104 17:22:24 @base.py:285]\u001b[0m Epoch 562 (global_step 118019) finished, time:6.52 seconds.\n",
      "\u001b[32m[1104 17:22:24 @saver.py:79]\u001b[0m Model saved to ../output/Chicago/WGGP_WI_new3/model\\model-118019.\n"
     ]
    },
    {
     "name": "stderr",
     "output_type": "stream",
     "text": [
      "\n"
     ]
    },
    {
     "name": "stdout",
     "output_type": "stream",
     "text": [
      "\u001b[32m[1104 17:22:24 @monitor.py:467]\u001b[0m GAN_loss/d_loss: -0.26871\n",
      "\u001b[32m[1104 17:22:24 @monitor.py:467]\u001b[0m GAN_loss/g_loss: -0.31769\n",
      "\u001b[32m[1104 17:22:24 @monitor.py:467]\u001b[0m GAN_loss/gradient_penalty: 0.007164\n",
      "\u001b[32m[1104 17:22:24 @monitor.py:467]\u001b[0m GAN_loss/gradient_rms: 0.99881\n",
      "\u001b[32m[1104 17:22:24 @monitor.py:467]\u001b[0m GAN_loss/kl_div: 0.087778\n",
      "\u001b[32m[1104 17:22:24 @monitor.py:467]\u001b[0m QueueInput/queue_size: 50\n",
      "\u001b[32m[1104 17:22:24 @base.py:275]\u001b[0m Start Epoch 563 ...\n"
     ]
    },
    {
     "name": "stderr",
     "output_type": "stream",
     "text": [
      "100%|###################################################################################|175/175[00:06<00:00,26.85it/s]"
     ]
    },
    {
     "name": "stdout",
     "output_type": "stream",
     "text": [
      "\u001b[32m[1104 17:22:31 @base.py:285]\u001b[0m Epoch 563 (global_step 118229) finished, time:6.52 seconds.\n",
      "\u001b[32m[1104 17:22:31 @saver.py:79]\u001b[0m Model saved to ../output/Chicago/WGGP_WI_new3/model\\model-118229.\n",
      "\u001b[32m[1104 17:22:31 @monitor.py:467]\u001b[0m GAN_loss/d_loss: -0.26018\n"
     ]
    },
    {
     "name": "stderr",
     "output_type": "stream",
     "text": [
      "\n"
     ]
    },
    {
     "name": "stdout",
     "output_type": "stream",
     "text": [
      "\u001b[32m[1104 17:22:31 @monitor.py:467]\u001b[0m GAN_loss/g_loss: -0.30565\n",
      "\u001b[32m[1104 17:22:31 @monitor.py:467]\u001b[0m GAN_loss/gradient_penalty: 0.0067374\n",
      "\u001b[32m[1104 17:22:31 @monitor.py:467]\u001b[0m GAN_loss/gradient_rms: 0.99854\n",
      "\u001b[32m[1104 17:22:31 @monitor.py:467]\u001b[0m GAN_loss/kl_div: 0.087875\n",
      "\u001b[32m[1104 17:22:31 @monitor.py:467]\u001b[0m QueueInput/queue_size: 50\n",
      "\u001b[32m[1104 17:22:31 @base.py:275]\u001b[0m Start Epoch 564 ...\n"
     ]
    },
    {
     "name": "stderr",
     "output_type": "stream",
     "text": [
      "100%|###################################################################################|175/175[00:06<00:00,26.83it/s]"
     ]
    },
    {
     "name": "stdout",
     "output_type": "stream",
     "text": [
      "\u001b[32m[1104 17:22:37 @base.py:285]\u001b[0m Epoch 564 (global_step 118439) finished, time:6.52 seconds.\n",
      "\u001b[32m[1104 17:22:37 @saver.py:79]\u001b[0m Model saved to ../output/Chicago/WGGP_WI_new3/model\\model-118439.\n"
     ]
    },
    {
     "name": "stderr",
     "output_type": "stream",
     "text": [
      "\n"
     ]
    },
    {
     "name": "stdout",
     "output_type": "stream",
     "text": [
      "\u001b[32m[1104 17:22:38 @monitor.py:467]\u001b[0m GAN_loss/d_loss: -0.31795\n",
      "\u001b[32m[1104 17:22:38 @monitor.py:467]\u001b[0m GAN_loss/g_loss: -0.32109\n",
      "\u001b[32m[1104 17:22:38 @monitor.py:467]\u001b[0m GAN_loss/gradient_penalty: 0.0067398\n",
      "\u001b[32m[1104 17:22:38 @monitor.py:467]\u001b[0m GAN_loss/gradient_rms: 0.99892\n",
      "\u001b[32m[1104 17:22:38 @monitor.py:467]\u001b[0m GAN_loss/kl_div: 0.078409\n",
      "\u001b[32m[1104 17:22:38 @monitor.py:467]\u001b[0m QueueInput/queue_size: 50\n",
      "\u001b[32m[1104 17:22:38 @base.py:275]\u001b[0m Start Epoch 565 ...\n"
     ]
    },
    {
     "name": "stderr",
     "output_type": "stream",
     "text": [
      "100%|###################################################################################|175/175[00:06<00:00,26.83it/s]"
     ]
    },
    {
     "name": "stdout",
     "output_type": "stream",
     "text": [
      "\u001b[32m[1104 17:22:44 @base.py:285]\u001b[0m Epoch 565 (global_step 118649) finished, time:6.52 seconds.\n",
      "\u001b[32m[1104 17:22:44 @saver.py:79]\u001b[0m Model saved to ../output/Chicago/WGGP_WI_new3/model\\model-118649.\n"
     ]
    },
    {
     "name": "stderr",
     "output_type": "stream",
     "text": [
      "\n"
     ]
    },
    {
     "name": "stdout",
     "output_type": "stream",
     "text": [
      "\u001b[32m[1104 17:22:44 @monitor.py:467]\u001b[0m GAN_loss/d_loss: -0.26045\n",
      "\u001b[32m[1104 17:22:44 @monitor.py:467]\u001b[0m GAN_loss/g_loss: -0.29778\n",
      "\u001b[32m[1104 17:22:44 @monitor.py:467]\u001b[0m GAN_loss/gradient_penalty: 0.006629\n",
      "\u001b[32m[1104 17:22:44 @monitor.py:467]\u001b[0m GAN_loss/gradient_rms: 0.99522\n",
      "\u001b[32m[1104 17:22:44 @monitor.py:467]\u001b[0m GAN_loss/kl_div: 0.076533\n",
      "\u001b[32m[1104 17:22:44 @monitor.py:467]\u001b[0m QueueInput/queue_size: 50\n",
      "\u001b[32m[1104 17:22:44 @base.py:275]\u001b[0m Start Epoch 566 ...\n"
     ]
    },
    {
     "name": "stderr",
     "output_type": "stream",
     "text": [
      "100%|###################################################################################|175/175[00:06<00:00,26.82it/s]"
     ]
    },
    {
     "name": "stdout",
     "output_type": "stream",
     "text": [
      "\u001b[32m[1104 17:22:51 @base.py:285]\u001b[0m Epoch 566 (global_step 118859) finished, time:6.53 seconds.\n",
      "\u001b[32m[1104 17:22:51 @saver.py:79]\u001b[0m Model saved to ../output/Chicago/WGGP_WI_new3/model\\model-118859.\n"
     ]
    },
    {
     "name": "stderr",
     "output_type": "stream",
     "text": [
      "\n"
     ]
    },
    {
     "name": "stdout",
     "output_type": "stream",
     "text": [
      "\u001b[32m[1104 17:22:51 @monitor.py:467]\u001b[0m GAN_loss/d_loss: -0.25184\n",
      "\u001b[32m[1104 17:22:51 @monitor.py:467]\u001b[0m GAN_loss/g_loss: -0.33389\n",
      "\u001b[32m[1104 17:22:51 @monitor.py:467]\u001b[0m GAN_loss/gradient_penalty: 0.0069084\n",
      "\u001b[32m[1104 17:22:51 @monitor.py:467]\u001b[0m GAN_loss/gradient_rms: 0.99822\n",
      "\u001b[32m[1104 17:22:51 @monitor.py:467]\u001b[0m GAN_loss/kl_div: 0.086141\n",
      "\u001b[32m[1104 17:22:51 @monitor.py:467]\u001b[0m QueueInput/queue_size: 50\n",
      "\u001b[32m[1104 17:22:51 @base.py:275]\u001b[0m Start Epoch 567 ...\n"
     ]
    },
    {
     "name": "stderr",
     "output_type": "stream",
     "text": [
      "100%|###################################################################################|175/175[00:06<00:00,26.86it/s]"
     ]
    },
    {
     "name": "stdout",
     "output_type": "stream",
     "text": [
      "\u001b[32m[1104 17:22:57 @base.py:285]\u001b[0m Epoch 567 (global_step 119069) finished, time:6.52 seconds.\n",
      "\u001b[32m[1104 17:22:58 @saver.py:79]\u001b[0m Model saved to ../output/Chicago/WGGP_WI_new3/model\\model-119069.\n",
      "\u001b[32m[1104 17:22:58 @monitor.py:467]\u001b[0m GAN_loss/d_loss: -0.3002\n"
     ]
    },
    {
     "name": "stderr",
     "output_type": "stream",
     "text": [
      "\n"
     ]
    },
    {
     "name": "stdout",
     "output_type": "stream",
     "text": [
      "\u001b[32m[1104 17:22:58 @monitor.py:467]\u001b[0m GAN_loss/g_loss: -0.32264\n",
      "\u001b[32m[1104 17:22:58 @monitor.py:467]\u001b[0m GAN_loss/gradient_penalty: 0.0066431\n",
      "\u001b[32m[1104 17:22:58 @monitor.py:467]\u001b[0m GAN_loss/gradient_rms: 0.99825\n",
      "\u001b[32m[1104 17:22:58 @monitor.py:467]\u001b[0m GAN_loss/kl_div: 0.081626\n",
      "\u001b[32m[1104 17:22:58 @monitor.py:467]\u001b[0m QueueInput/queue_size: 50\n",
      "\u001b[32m[1104 17:22:58 @base.py:275]\u001b[0m Start Epoch 568 ...\n"
     ]
    },
    {
     "name": "stderr",
     "output_type": "stream",
     "text": [
      "100%|###################################################################################|175/175[00:06<00:00,26.84it/s]"
     ]
    },
    {
     "name": "stdout",
     "output_type": "stream",
     "text": [
      "\u001b[32m[1104 17:23:04 @base.py:285]\u001b[0m Epoch 568 (global_step 119279) finished, time:6.52 seconds.\n",
      "\u001b[32m[1104 17:23:04 @saver.py:79]\u001b[0m Model saved to ../output/Chicago/WGGP_WI_new3/model\\model-119279.\n"
     ]
    },
    {
     "name": "stderr",
     "output_type": "stream",
     "text": [
      "\n"
     ]
    },
    {
     "name": "stdout",
     "output_type": "stream",
     "text": [
      "\u001b[32m[1104 17:23:04 @monitor.py:467]\u001b[0m GAN_loss/d_loss: -0.40093\n",
      "\u001b[32m[1104 17:23:04 @monitor.py:467]\u001b[0m GAN_loss/g_loss: -0.30866\n",
      "\u001b[32m[1104 17:23:04 @monitor.py:467]\u001b[0m GAN_loss/gradient_penalty: 0.0067143\n",
      "\u001b[32m[1104 17:23:04 @monitor.py:467]\u001b[0m GAN_loss/gradient_rms: 0.99817\n",
      "\u001b[32m[1104 17:23:04 @monitor.py:467]\u001b[0m GAN_loss/kl_div: 0.075915\n",
      "\u001b[32m[1104 17:23:04 @monitor.py:467]\u001b[0m QueueInput/queue_size: 50\n",
      "\u001b[32m[1104 17:23:04 @base.py:275]\u001b[0m Start Epoch 569 ...\n"
     ]
    },
    {
     "name": "stderr",
     "output_type": "stream",
     "text": [
      "100%|###################################################################################|175/175[00:06<00:00,26.83it/s]"
     ]
    },
    {
     "name": "stdout",
     "output_type": "stream",
     "text": [
      "\u001b[32m[1104 17:23:11 @base.py:285]\u001b[0m Epoch 569 (global_step 119489) finished, time:6.52 seconds.\n",
      "\u001b[32m[1104 17:23:11 @saver.py:79]\u001b[0m Model saved to ../output/Chicago/WGGP_WI_new3/model\\model-119489.\n",
      "\u001b[32m[1104 17:23:11 @monitor.py:467]\u001b[0m GAN_loss/d_loss: -0.38015\n"
     ]
    },
    {
     "name": "stderr",
     "output_type": "stream",
     "text": [
      "\n"
     ]
    },
    {
     "name": "stdout",
     "output_type": "stream",
     "text": [
      "\u001b[32m[1104 17:23:11 @monitor.py:467]\u001b[0m GAN_loss/g_loss: -0.32141\n",
      "\u001b[32m[1104 17:23:11 @monitor.py:467]\u001b[0m GAN_loss/gradient_penalty: 0.0066276\n",
      "\u001b[32m[1104 17:23:11 @monitor.py:467]\u001b[0m GAN_loss/gradient_rms: 1.0005\n",
      "\u001b[32m[1104 17:23:11 @monitor.py:467]\u001b[0m GAN_loss/kl_div: 0.082017\n",
      "\u001b[32m[1104 17:23:11 @monitor.py:467]\u001b[0m QueueInput/queue_size: 50\n",
      "\u001b[32m[1104 17:23:11 @base.py:275]\u001b[0m Start Epoch 570 ...\n"
     ]
    },
    {
     "name": "stderr",
     "output_type": "stream",
     "text": [
      "100%|###################################################################################|175/175[00:06<00:00,26.84it/s]"
     ]
    },
    {
     "name": "stdout",
     "output_type": "stream",
     "text": [
      "\u001b[32m[1104 17:23:18 @base.py:285]\u001b[0m Epoch 570 (global_step 119699) finished, time:6.52 seconds.\n",
      "\u001b[32m[1104 17:23:18 @saver.py:79]\u001b[0m Model saved to ../output/Chicago/WGGP_WI_new3/model\\model-119699.\n",
      "\u001b[32m[1104 17:23:18 @monitor.py:467]\u001b[0m GAN_loss/d_loss: -0.36397\n"
     ]
    },
    {
     "name": "stderr",
     "output_type": "stream",
     "text": [
      "\n"
     ]
    },
    {
     "name": "stdout",
     "output_type": "stream",
     "text": [
      "\u001b[32m[1104 17:23:18 @monitor.py:467]\u001b[0m GAN_loss/g_loss: -0.32441\n",
      "\u001b[32m[1104 17:23:18 @monitor.py:467]\u001b[0m GAN_loss/gradient_penalty: 0.0067713\n",
      "\u001b[32m[1104 17:23:18 @monitor.py:467]\u001b[0m GAN_loss/gradient_rms: 0.99779\n",
      "\u001b[32m[1104 17:23:18 @monitor.py:467]\u001b[0m GAN_loss/kl_div: 0.075058\n",
      "\u001b[32m[1104 17:23:18 @monitor.py:467]\u001b[0m QueueInput/queue_size: 50\n",
      "\u001b[32m[1104 17:23:18 @base.py:275]\u001b[0m Start Epoch 571 ...\n"
     ]
    },
    {
     "name": "stderr",
     "output_type": "stream",
     "text": [
      "100%|###################################################################################|175/175[00:06<00:00,26.82it/s]"
     ]
    },
    {
     "name": "stdout",
     "output_type": "stream",
     "text": [
      "\u001b[32m[1104 17:23:24 @base.py:285]\u001b[0m Epoch 571 (global_step 119909) finished, time:6.53 seconds.\n",
      "\u001b[32m[1104 17:23:25 @saver.py:79]\u001b[0m Model saved to ../output/Chicago/WGGP_WI_new3/model\\model-119909.\n",
      "\u001b[32m[1104 17:23:25 @monitor.py:467]\u001b[0m GAN_loss/d_loss: -0.38704\n"
     ]
    },
    {
     "name": "stderr",
     "output_type": "stream",
     "text": [
      "\n"
     ]
    },
    {
     "name": "stdout",
     "output_type": "stream",
     "text": [
      "\u001b[32m[1104 17:23:25 @monitor.py:467]\u001b[0m GAN_loss/g_loss: -0.30971\n",
      "\u001b[32m[1104 17:23:25 @monitor.py:467]\u001b[0m GAN_loss/gradient_penalty: 0.0065995\n",
      "\u001b[32m[1104 17:23:25 @monitor.py:467]\u001b[0m GAN_loss/gradient_rms: 0.99896\n",
      "\u001b[32m[1104 17:23:25 @monitor.py:467]\u001b[0m GAN_loss/kl_div: 0.078521\n",
      "\u001b[32m[1104 17:23:25 @monitor.py:467]\u001b[0m QueueInput/queue_size: 50\n",
      "\u001b[32m[1104 17:23:25 @base.py:275]\u001b[0m Start Epoch 572 ...\n"
     ]
    },
    {
     "name": "stderr",
     "output_type": "stream",
     "text": [
      "100%|###################################################################################|175/175[00:06<00:00,26.85it/s]"
     ]
    },
    {
     "name": "stdout",
     "output_type": "stream",
     "text": [
      "\u001b[32m[1104 17:23:31 @base.py:285]\u001b[0m Epoch 572 (global_step 120119) finished, time:6.52 seconds.\n",
      "\u001b[32m[1104 17:23:31 @saver.py:79]\u001b[0m Model saved to ../output/Chicago/WGGP_WI_new3/model\\model-120119.\n",
      "\u001b[32m[1104 17:23:31 @monitor.py:467]\u001b[0m GAN_loss/d_loss: -0.30949\n"
     ]
    },
    {
     "name": "stderr",
     "output_type": "stream",
     "text": [
      "\n"
     ]
    },
    {
     "name": "stdout",
     "output_type": "stream",
     "text": [
      "\u001b[32m[1104 17:23:31 @monitor.py:467]\u001b[0m GAN_loss/g_loss: -0.33372\n",
      "\u001b[32m[1104 17:23:31 @monitor.py:467]\u001b[0m GAN_loss/gradient_penalty: 0.0066444\n",
      "\u001b[32m[1104 17:23:31 @monitor.py:467]\u001b[0m GAN_loss/gradient_rms: 0.99704\n",
      "\u001b[32m[1104 17:23:31 @monitor.py:467]\u001b[0m GAN_loss/kl_div: 0.083516\n",
      "\u001b[32m[1104 17:23:31 @monitor.py:467]\u001b[0m QueueInput/queue_size: 50\n",
      "\u001b[32m[1104 17:23:31 @base.py:275]\u001b[0m Start Epoch 573 ...\n"
     ]
    },
    {
     "name": "stderr",
     "output_type": "stream",
     "text": [
      "100%|###################################################################################|175/175[00:06<00:00,26.83it/s]"
     ]
    },
    {
     "name": "stdout",
     "output_type": "stream",
     "text": [
      "\u001b[32m[1104 17:23:38 @base.py:285]\u001b[0m Epoch 573 (global_step 120329) finished, time:6.52 seconds.\n",
      "\u001b[32m[1104 17:23:38 @saver.py:79]\u001b[0m Model saved to ../output/Chicago/WGGP_WI_new3/model\\model-120329.\n",
      "\u001b[32m[1104 17:23:38 @monitor.py:467]\u001b[0m GAN_loss/d_loss: -0.31369\n"
     ]
    },
    {
     "name": "stderr",
     "output_type": "stream",
     "text": [
      "\n"
     ]
    },
    {
     "name": "stdout",
     "output_type": "stream",
     "text": [
      "\u001b[32m[1104 17:23:38 @monitor.py:467]\u001b[0m GAN_loss/g_loss: -0.28988\n",
      "\u001b[32m[1104 17:23:38 @monitor.py:467]\u001b[0m GAN_loss/gradient_penalty: 0.00661\n",
      "\u001b[32m[1104 17:23:38 @monitor.py:467]\u001b[0m GAN_loss/gradient_rms: 0.9994\n",
      "\u001b[32m[1104 17:23:38 @monitor.py:467]\u001b[0m GAN_loss/kl_div: 0.078777\n",
      "\u001b[32m[1104 17:23:38 @monitor.py:467]\u001b[0m QueueInput/queue_size: 50\n",
      "\u001b[32m[1104 17:23:38 @base.py:275]\u001b[0m Start Epoch 574 ...\n"
     ]
    },
    {
     "name": "stderr",
     "output_type": "stream",
     "text": [
      "100%|###################################################################################|175/175[00:06<00:00,26.84it/s]"
     ]
    },
    {
     "name": "stdout",
     "output_type": "stream",
     "text": [
      "\u001b[32m[1104 17:23:45 @base.py:285]\u001b[0m Epoch 574 (global_step 120539) finished, time:6.52 seconds.\n",
      "\u001b[32m[1104 17:23:45 @saver.py:79]\u001b[0m Model saved to ../output/Chicago/WGGP_WI_new3/model\\model-120539.\n"
     ]
    },
    {
     "name": "stderr",
     "output_type": "stream",
     "text": [
      "\n"
     ]
    },
    {
     "name": "stdout",
     "output_type": "stream",
     "text": [
      "\u001b[32m[1104 17:23:45 @monitor.py:467]\u001b[0m GAN_loss/d_loss: -0.34178\n",
      "\u001b[32m[1104 17:23:45 @monitor.py:467]\u001b[0m GAN_loss/g_loss: -0.3207\n",
      "\u001b[32m[1104 17:23:45 @monitor.py:467]\u001b[0m GAN_loss/gradient_penalty: 0.006683\n",
      "\u001b[32m[1104 17:23:45 @monitor.py:467]\u001b[0m GAN_loss/gradient_rms: 0.99734\n",
      "\u001b[32m[1104 17:23:45 @monitor.py:467]\u001b[0m GAN_loss/kl_div: 0.08361\n",
      "\u001b[32m[1104 17:23:45 @monitor.py:467]\u001b[0m QueueInput/queue_size: 50\n",
      "\u001b[32m[1104 17:23:45 @base.py:275]\u001b[0m Start Epoch 575 ...\n"
     ]
    },
    {
     "name": "stderr",
     "output_type": "stream",
     "text": [
      "100%|###################################################################################|175/175[00:06<00:00,26.85it/s]"
     ]
    },
    {
     "name": "stdout",
     "output_type": "stream",
     "text": [
      "\u001b[32m[1104 17:23:51 @base.py:285]\u001b[0m Epoch 575 (global_step 120749) finished, time:6.52 seconds.\n",
      "\u001b[32m[1104 17:23:51 @saver.py:79]\u001b[0m Model saved to ../output/Chicago/WGGP_WI_new3/model\\model-120749.\n",
      "\u001b[32m[1104 17:23:52 @monitor.py:467]\u001b[0m GAN_loss/d_loss: -0.41219\n"
     ]
    },
    {
     "name": "stderr",
     "output_type": "stream",
     "text": [
      "\n"
     ]
    },
    {
     "name": "stdout",
     "output_type": "stream",
     "text": [
      "\u001b[32m[1104 17:23:52 @monitor.py:467]\u001b[0m GAN_loss/g_loss: -0.33262\n",
      "\u001b[32m[1104 17:23:52 @monitor.py:467]\u001b[0m GAN_loss/gradient_penalty: 0.00684\n",
      "\u001b[32m[1104 17:23:52 @monitor.py:467]\u001b[0m GAN_loss/gradient_rms: 0.99798\n",
      "\u001b[32m[1104 17:23:52 @monitor.py:467]\u001b[0m GAN_loss/kl_div: 0.082356\n",
      "\u001b[32m[1104 17:23:52 @monitor.py:467]\u001b[0m QueueInput/queue_size: 50\n",
      "\u001b[32m[1104 17:23:52 @base.py:275]\u001b[0m Start Epoch 576 ...\n"
     ]
    },
    {
     "name": "stderr",
     "output_type": "stream",
     "text": [
      "100%|###################################################################################|175/175[00:06<00:00,26.84it/s]"
     ]
    },
    {
     "name": "stdout",
     "output_type": "stream",
     "text": [
      "\u001b[32m[1104 17:23:58 @base.py:285]\u001b[0m Epoch 576 (global_step 120959) finished, time:6.52 seconds.\n",
      "\u001b[32m[1104 17:23:58 @saver.py:79]\u001b[0m Model saved to ../output/Chicago/WGGP_WI_new3/model\\model-120959.\n"
     ]
    },
    {
     "name": "stderr",
     "output_type": "stream",
     "text": [
      "\n"
     ]
    },
    {
     "name": "stdout",
     "output_type": "stream",
     "text": [
      "\u001b[32m[1104 17:23:58 @monitor.py:467]\u001b[0m GAN_loss/d_loss: -0.43205\n",
      "\u001b[32m[1104 17:23:58 @monitor.py:467]\u001b[0m GAN_loss/g_loss: -0.36442\n",
      "\u001b[32m[1104 17:23:58 @monitor.py:467]\u001b[0m GAN_loss/gradient_penalty: 0.006649\n",
      "\u001b[32m[1104 17:23:58 @monitor.py:467]\u001b[0m GAN_loss/gradient_rms: 0.99872\n",
      "\u001b[32m[1104 17:23:58 @monitor.py:467]\u001b[0m GAN_loss/kl_div: 0.081287\n",
      "\u001b[32m[1104 17:23:58 @monitor.py:467]\u001b[0m QueueInput/queue_size: 50\n",
      "\u001b[32m[1104 17:23:58 @base.py:275]\u001b[0m Start Epoch 577 ...\n"
     ]
    },
    {
     "name": "stderr",
     "output_type": "stream",
     "text": [
      "100%|###################################################################################|175/175[00:06<00:00,26.85it/s]"
     ]
    },
    {
     "name": "stdout",
     "output_type": "stream",
     "text": [
      "\u001b[32m[1104 17:24:05 @base.py:285]\u001b[0m Epoch 577 (global_step 121169) finished, time:6.52 seconds.\n",
      "\u001b[32m[1104 17:24:05 @saver.py:79]\u001b[0m Model saved to ../output/Chicago/WGGP_WI_new3/model\\model-121169.\n"
     ]
    },
    {
     "name": "stderr",
     "output_type": "stream",
     "text": [
      "\n"
     ]
    },
    {
     "name": "stdout",
     "output_type": "stream",
     "text": [
      "\u001b[32m[1104 17:24:05 @monitor.py:467]\u001b[0m GAN_loss/d_loss: -0.35789\n",
      "\u001b[32m[1104 17:24:05 @monitor.py:467]\u001b[0m GAN_loss/g_loss: -0.3671\n",
      "\u001b[32m[1104 17:24:05 @monitor.py:467]\u001b[0m GAN_loss/gradient_penalty: 0.006826\n",
      "\u001b[32m[1104 17:24:05 @monitor.py:467]\u001b[0m GAN_loss/gradient_rms: 0.99877\n",
      "\u001b[32m[1104 17:24:05 @monitor.py:467]\u001b[0m GAN_loss/kl_div: 0.073079\n",
      "\u001b[32m[1104 17:24:05 @monitor.py:467]\u001b[0m QueueInput/queue_size: 50\n",
      "\u001b[32m[1104 17:24:05 @base.py:275]\u001b[0m Start Epoch 578 ...\n"
     ]
    },
    {
     "name": "stderr",
     "output_type": "stream",
     "text": [
      "100%|###################################################################################|175/175[00:06<00:00,26.84it/s]"
     ]
    },
    {
     "name": "stdout",
     "output_type": "stream",
     "text": [
      "\u001b[32m[1104 17:24:12 @base.py:285]\u001b[0m Epoch 578 (global_step 121379) finished, time:6.52 seconds.\n",
      "\u001b[32m[1104 17:24:12 @saver.py:79]\u001b[0m Model saved to ../output/Chicago/WGGP_WI_new3/model\\model-121379.\n"
     ]
    },
    {
     "name": "stderr",
     "output_type": "stream",
     "text": [
      "\n"
     ]
    },
    {
     "name": "stdout",
     "output_type": "stream",
     "text": [
      "\u001b[32m[1104 17:24:12 @monitor.py:467]\u001b[0m GAN_loss/d_loss: -0.29564\n",
      "\u001b[32m[1104 17:24:12 @monitor.py:467]\u001b[0m GAN_loss/g_loss: -0.39013\n",
      "\u001b[32m[1104 17:24:12 @monitor.py:467]\u001b[0m GAN_loss/gradient_penalty: 0.0065271\n",
      "\u001b[32m[1104 17:24:12 @monitor.py:467]\u001b[0m GAN_loss/gradient_rms: 0.99912\n",
      "\u001b[32m[1104 17:24:12 @monitor.py:467]\u001b[0m GAN_loss/kl_div: 0.075528\n",
      "\u001b[32m[1104 17:24:12 @monitor.py:467]\u001b[0m QueueInput/queue_size: 50\n",
      "\u001b[32m[1104 17:24:12 @base.py:275]\u001b[0m Start Epoch 579 ...\n"
     ]
    },
    {
     "name": "stderr",
     "output_type": "stream",
     "text": [
      "100%|###################################################################################|175/175[00:06<00:00,26.71it/s]"
     ]
    },
    {
     "name": "stdout",
     "output_type": "stream",
     "text": [
      "\u001b[32m[1104 17:24:18 @base.py:285]\u001b[0m Epoch 579 (global_step 121589) finished, time:6.55 seconds.\n"
     ]
    },
    {
     "name": "stderr",
     "output_type": "stream",
     "text": [
      "\n"
     ]
    },
    {
     "name": "stdout",
     "output_type": "stream",
     "text": [
      "\u001b[32m[1104 17:24:18 @saver.py:79]\u001b[0m Model saved to ../output/Chicago/WGGP_WI_new3/model\\model-121589.\n",
      "\u001b[32m[1104 17:24:19 @monitor.py:467]\u001b[0m GAN_loss/d_loss: -0.30075\n",
      "\u001b[32m[1104 17:24:19 @monitor.py:467]\u001b[0m GAN_loss/g_loss: -0.43119\n",
      "\u001b[32m[1104 17:24:19 @monitor.py:467]\u001b[0m GAN_loss/gradient_penalty: 0.0063308\n",
      "\u001b[32m[1104 17:24:19 @monitor.py:467]\u001b[0m GAN_loss/gradient_rms: 0.99866\n",
      "\u001b[32m[1104 17:24:19 @monitor.py:467]\u001b[0m GAN_loss/kl_div: 0.074148\n",
      "\u001b[32m[1104 17:24:19 @monitor.py:467]\u001b[0m QueueInput/queue_size: 50\n",
      "\u001b[32m[1104 17:24:19 @base.py:275]\u001b[0m Start Epoch 580 ...\n"
     ]
    },
    {
     "name": "stderr",
     "output_type": "stream",
     "text": [
      "100%|###################################################################################|175/175[00:06<00:00,26.85it/s]"
     ]
    },
    {
     "name": "stdout",
     "output_type": "stream",
     "text": [
      "\u001b[32m[1104 17:24:25 @base.py:285]\u001b[0m Epoch 580 (global_step 121799) finished, time:6.52 seconds.\n",
      "\u001b[32m[1104 17:24:25 @saver.py:79]\u001b[0m Model saved to ../output/Chicago/WGGP_WI_new3/model\\model-121799.\n"
     ]
    },
    {
     "name": "stderr",
     "output_type": "stream",
     "text": [
      "\n"
     ]
    },
    {
     "name": "stdout",
     "output_type": "stream",
     "text": [
      "\u001b[32m[1104 17:24:25 @monitor.py:467]\u001b[0m GAN_loss/d_loss: -0.27387\n",
      "\u001b[32m[1104 17:24:25 @monitor.py:467]\u001b[0m GAN_loss/g_loss: -0.40879\n",
      "\u001b[32m[1104 17:24:25 @monitor.py:467]\u001b[0m GAN_loss/gradient_penalty: 0.0067859\n",
      "\u001b[32m[1104 17:24:25 @monitor.py:467]\u001b[0m GAN_loss/gradient_rms: 0.9959\n",
      "\u001b[32m[1104 17:24:25 @monitor.py:467]\u001b[0m GAN_loss/kl_div: 0.085022\n",
      "\u001b[32m[1104 17:24:25 @monitor.py:467]\u001b[0m QueueInput/queue_size: 50\n",
      "\u001b[32m[1104 17:24:25 @base.py:275]\u001b[0m Start Epoch 581 ...\n"
     ]
    },
    {
     "name": "stderr",
     "output_type": "stream",
     "text": [
      "100%|###################################################################################|175/175[00:06<00:00,26.80it/s]"
     ]
    },
    {
     "name": "stdout",
     "output_type": "stream",
     "text": [
      "\u001b[32m[1104 17:24:32 @base.py:285]\u001b[0m Epoch 581 (global_step 122009) finished, time:6.53 seconds.\n",
      "\u001b[32m[1104 17:24:32 @saver.py:79]\u001b[0m Model saved to ../output/Chicago/WGGP_WI_new3/model\\model-122009.\n"
     ]
    },
    {
     "name": "stderr",
     "output_type": "stream",
     "text": [
      "\n"
     ]
    },
    {
     "name": "stdout",
     "output_type": "stream",
     "text": [
      "\u001b[32m[1104 17:24:32 @monitor.py:467]\u001b[0m GAN_loss/d_loss: -0.32192\n",
      "\u001b[32m[1104 17:24:32 @monitor.py:467]\u001b[0m GAN_loss/g_loss: -0.43499\n",
      "\u001b[32m[1104 17:24:32 @monitor.py:467]\u001b[0m GAN_loss/gradient_penalty: 0.0064588\n",
      "\u001b[32m[1104 17:24:32 @monitor.py:467]\u001b[0m GAN_loss/gradient_rms: 0.99906\n",
      "\u001b[32m[1104 17:24:32 @monitor.py:467]\u001b[0m GAN_loss/kl_div: 0.087455\n",
      "\u001b[32m[1104 17:24:32 @monitor.py:467]\u001b[0m QueueInput/queue_size: 50\n",
      "\u001b[32m[1104 17:24:32 @base.py:275]\u001b[0m Start Epoch 582 ...\n"
     ]
    },
    {
     "name": "stderr",
     "output_type": "stream",
     "text": [
      "100%|###################################################################################|175/175[00:06<00:00,26.83it/s]"
     ]
    },
    {
     "name": "stdout",
     "output_type": "stream",
     "text": [
      "\u001b[32m[1104 17:24:38 @base.py:285]\u001b[0m Epoch 582 (global_step 122219) finished, time:6.52 seconds.\n",
      "\u001b[32m[1104 17:24:39 @saver.py:79]\u001b[0m Model saved to ../output/Chicago/WGGP_WI_new3/model\\model-122219.\n",
      "\u001b[32m[1104 17:24:39 @monitor.py:467]\u001b[0m GAN_loss/d_loss: -0.26011\n"
     ]
    },
    {
     "name": "stderr",
     "output_type": "stream",
     "text": [
      "\n"
     ]
    },
    {
     "name": "stdout",
     "output_type": "stream",
     "text": [
      "\u001b[32m[1104 17:24:39 @monitor.py:467]\u001b[0m GAN_loss/g_loss: -0.45445\n",
      "\u001b[32m[1104 17:24:39 @monitor.py:467]\u001b[0m GAN_loss/gradient_penalty: 0.006279\n",
      "\u001b[32m[1104 17:24:39 @monitor.py:467]\u001b[0m GAN_loss/gradient_rms: 1.0004\n",
      "\u001b[32m[1104 17:24:39 @monitor.py:467]\u001b[0m GAN_loss/kl_div: 0.078111\n",
      "\u001b[32m[1104 17:24:39 @monitor.py:467]\u001b[0m QueueInput/queue_size: 50\n",
      "\u001b[32m[1104 17:24:39 @base.py:275]\u001b[0m Start Epoch 583 ...\n"
     ]
    },
    {
     "name": "stderr",
     "output_type": "stream",
     "text": [
      "100%|###################################################################################|175/175[00:06<00:00,26.84it/s]"
     ]
    },
    {
     "name": "stdout",
     "output_type": "stream",
     "text": [
      "\u001b[32m[1104 17:24:45 @base.py:285]\u001b[0m Epoch 583 (global_step 122429) finished, time:6.52 seconds.\n",
      "\u001b[32m[1104 17:24:45 @saver.py:79]\u001b[0m Model saved to ../output/Chicago/WGGP_WI_new3/model\\model-122429.\n"
     ]
    },
    {
     "name": "stderr",
     "output_type": "stream",
     "text": [
      "\n"
     ]
    },
    {
     "name": "stdout",
     "output_type": "stream",
     "text": [
      "\u001b[32m[1104 17:24:45 @monitor.py:467]\u001b[0m GAN_loss/d_loss: -0.30357\n",
      "\u001b[32m[1104 17:24:45 @monitor.py:467]\u001b[0m GAN_loss/g_loss: -0.46507\n",
      "\u001b[32m[1104 17:24:45 @monitor.py:467]\u001b[0m GAN_loss/gradient_penalty: 0.0067258\n",
      "\u001b[32m[1104 17:24:45 @monitor.py:467]\u001b[0m GAN_loss/gradient_rms: 0.99955\n",
      "\u001b[32m[1104 17:24:45 @monitor.py:467]\u001b[0m GAN_loss/kl_div: 0.102\n",
      "\u001b[32m[1104 17:24:45 @monitor.py:467]\u001b[0m QueueInput/queue_size: 50\n",
      "\u001b[32m[1104 17:24:45 @base.py:275]\u001b[0m Start Epoch 584 ...\n"
     ]
    },
    {
     "name": "stderr",
     "output_type": "stream",
     "text": [
      "100%|###################################################################################|175/175[00:06<00:00,26.84it/s]"
     ]
    },
    {
     "name": "stdout",
     "output_type": "stream",
     "text": [
      "\u001b[32m[1104 17:24:52 @base.py:285]\u001b[0m Epoch 584 (global_step 122639) finished, time:6.52 seconds.\n",
      "\u001b[32m[1104 17:24:52 @saver.py:79]\u001b[0m Model saved to ../output/Chicago/WGGP_WI_new3/model\\model-122639.\n"
     ]
    },
    {
     "name": "stderr",
     "output_type": "stream",
     "text": [
      "\n"
     ]
    },
    {
     "name": "stdout",
     "output_type": "stream",
     "text": [
      "\u001b[32m[1104 17:24:52 @monitor.py:467]\u001b[0m GAN_loss/d_loss: -0.2511\n",
      "\u001b[32m[1104 17:24:52 @monitor.py:467]\u001b[0m GAN_loss/g_loss: -0.46321\n",
      "\u001b[32m[1104 17:24:52 @monitor.py:467]\u001b[0m GAN_loss/gradient_penalty: 0.0068472\n",
      "\u001b[32m[1104 17:24:52 @monitor.py:467]\u001b[0m GAN_loss/gradient_rms: 0.99993\n",
      "\u001b[32m[1104 17:24:52 @monitor.py:467]\u001b[0m GAN_loss/kl_div: 0.08902\n",
      "\u001b[32m[1104 17:24:52 @monitor.py:467]\u001b[0m QueueInput/queue_size: 50\n",
      "\u001b[32m[1104 17:24:52 @base.py:275]\u001b[0m Start Epoch 585 ...\n"
     ]
    },
    {
     "name": "stderr",
     "output_type": "stream",
     "text": [
      "100%|###################################################################################|175/175[00:06<00:00,26.84it/s]"
     ]
    },
    {
     "name": "stdout",
     "output_type": "stream",
     "text": [
      "\u001b[32m[1104 17:24:59 @base.py:285]\u001b[0m Epoch 585 (global_step 122849) finished, time:6.52 seconds.\n",
      "\u001b[32m[1104 17:24:59 @saver.py:79]\u001b[0m Model saved to ../output/Chicago/WGGP_WI_new3/model\\model-122849.\n"
     ]
    },
    {
     "name": "stderr",
     "output_type": "stream",
     "text": [
      "\n"
     ]
    },
    {
     "name": "stdout",
     "output_type": "stream",
     "text": [
      "\u001b[32m[1104 17:24:59 @monitor.py:467]\u001b[0m GAN_loss/d_loss: -0.24418\n",
      "\u001b[32m[1104 17:24:59 @monitor.py:467]\u001b[0m GAN_loss/g_loss: -0.47152\n",
      "\u001b[32m[1104 17:24:59 @monitor.py:467]\u001b[0m GAN_loss/gradient_penalty: 0.006787\n",
      "\u001b[32m[1104 17:24:59 @monitor.py:467]\u001b[0m GAN_loss/gradient_rms: 0.99788\n",
      "\u001b[32m[1104 17:24:59 @monitor.py:467]\u001b[0m GAN_loss/kl_div: 0.078659\n",
      "\u001b[32m[1104 17:24:59 @monitor.py:467]\u001b[0m QueueInput/queue_size: 50\n",
      "\u001b[32m[1104 17:24:59 @base.py:275]\u001b[0m Start Epoch 586 ...\n"
     ]
    },
    {
     "name": "stderr",
     "output_type": "stream",
     "text": [
      "100%|###################################################################################|175/175[00:06<00:00,26.82it/s]"
     ]
    },
    {
     "name": "stdout",
     "output_type": "stream",
     "text": [
      "\u001b[32m[1104 17:25:05 @base.py:285]\u001b[0m Epoch 586 (global_step 123059) finished, time:6.53 seconds.\n",
      "\u001b[32m[1104 17:25:06 @saver.py:79]\u001b[0m Model saved to ../output/Chicago/WGGP_WI_new3/model\\model-123059.\n"
     ]
    },
    {
     "name": "stderr",
     "output_type": "stream",
     "text": [
      "\n"
     ]
    },
    {
     "name": "stdout",
     "output_type": "stream",
     "text": [
      "\u001b[32m[1104 17:25:06 @monitor.py:467]\u001b[0m GAN_loss/d_loss: -0.22212\n",
      "\u001b[32m[1104 17:25:06 @monitor.py:467]\u001b[0m GAN_loss/g_loss: -0.49414\n",
      "\u001b[32m[1104 17:25:06 @monitor.py:467]\u001b[0m GAN_loss/gradient_penalty: 0.0063852\n",
      "\u001b[32m[1104 17:25:06 @monitor.py:467]\u001b[0m GAN_loss/gradient_rms: 0.99792\n",
      "\u001b[32m[1104 17:25:06 @monitor.py:467]\u001b[0m GAN_loss/kl_div: 0.076821\n",
      "\u001b[32m[1104 17:25:06 @monitor.py:467]\u001b[0m QueueInput/queue_size: 50\n",
      "\u001b[32m[1104 17:25:06 @base.py:275]\u001b[0m Start Epoch 587 ...\n"
     ]
    },
    {
     "name": "stderr",
     "output_type": "stream",
     "text": [
      "100%|###################################################################################|175/175[00:06<00:00,26.83it/s]"
     ]
    },
    {
     "name": "stdout",
     "output_type": "stream",
     "text": [
      "\u001b[32m[1104 17:25:12 @base.py:285]\u001b[0m Epoch 587 (global_step 123269) finished, time:6.52 seconds.\n",
      "\u001b[32m[1104 17:25:12 @saver.py:79]\u001b[0m Model saved to ../output/Chicago/WGGP_WI_new3/model\\model-123269.\n"
     ]
    },
    {
     "name": "stderr",
     "output_type": "stream",
     "text": [
      "\n"
     ]
    },
    {
     "name": "stdout",
     "output_type": "stream",
     "text": [
      "\u001b[32m[1104 17:25:12 @monitor.py:467]\u001b[0m GAN_loss/d_loss: -0.27931\n",
      "\u001b[32m[1104 17:25:12 @monitor.py:467]\u001b[0m GAN_loss/g_loss: -0.42429\n",
      "\u001b[32m[1104 17:25:12 @monitor.py:467]\u001b[0m GAN_loss/gradient_penalty: 0.006707\n",
      "\u001b[32m[1104 17:25:12 @monitor.py:467]\u001b[0m GAN_loss/gradient_rms: 0.99677\n",
      "\u001b[32m[1104 17:25:12 @monitor.py:467]\u001b[0m GAN_loss/kl_div: 0.074135\n",
      "\u001b[32m[1104 17:25:12 @monitor.py:467]\u001b[0m QueueInput/queue_size: 50\n",
      "\u001b[32m[1104 17:25:12 @base.py:275]\u001b[0m Start Epoch 588 ...\n"
     ]
    },
    {
     "name": "stderr",
     "output_type": "stream",
     "text": [
      "100%|###################################################################################|175/175[00:06<00:00,26.84it/s]"
     ]
    },
    {
     "name": "stdout",
     "output_type": "stream",
     "text": [
      "\u001b[32m[1104 17:25:19 @base.py:285]\u001b[0m Epoch 588 (global_step 123479) finished, time:6.52 seconds.\n",
      "\u001b[32m[1104 17:25:19 @saver.py:79]\u001b[0m Model saved to ../output/Chicago/WGGP_WI_new3/model\\model-123479.\n",
      "\u001b[32m[1104 17:25:19 @monitor.py:467]\u001b[0m GAN_loss/d_loss: -0.35928\n"
     ]
    },
    {
     "name": "stderr",
     "output_type": "stream",
     "text": [
      "\n"
     ]
    },
    {
     "name": "stdout",
     "output_type": "stream",
     "text": [
      "\u001b[32m[1104 17:25:19 @monitor.py:467]\u001b[0m GAN_loss/g_loss: -0.43398\n",
      "\u001b[32m[1104 17:25:19 @monitor.py:467]\u001b[0m GAN_loss/gradient_penalty: 0.0068964\n",
      "\u001b[32m[1104 17:25:19 @monitor.py:467]\u001b[0m GAN_loss/gradient_rms: 0.99798\n",
      "\u001b[32m[1104 17:25:19 @monitor.py:467]\u001b[0m GAN_loss/kl_div: 0.073314\n",
      "\u001b[32m[1104 17:25:19 @monitor.py:467]\u001b[0m QueueInput/queue_size: 50\n",
      "\u001b[32m[1104 17:25:19 @base.py:275]\u001b[0m Start Epoch 589 ...\n"
     ]
    },
    {
     "name": "stderr",
     "output_type": "stream",
     "text": [
      "100%|###################################################################################|175/175[00:06<00:00,26.80it/s]"
     ]
    },
    {
     "name": "stdout",
     "output_type": "stream",
     "text": [
      "\u001b[32m[1104 17:25:26 @base.py:285]\u001b[0m Epoch 589 (global_step 123689) finished, time:6.53 seconds.\n",
      "\u001b[32m[1104 17:25:26 @saver.py:79]\u001b[0m Model saved to ../output/Chicago/WGGP_WI_new3/model\\model-123689.\n",
      "\u001b[32m[1104 17:25:26 @monitor.py:467]\u001b[0m GAN_loss/d_loss: -0.29294\n"
     ]
    },
    {
     "name": "stderr",
     "output_type": "stream",
     "text": [
      "\n"
     ]
    },
    {
     "name": "stdout",
     "output_type": "stream",
     "text": [
      "\u001b[32m[1104 17:25:26 @monitor.py:467]\u001b[0m GAN_loss/g_loss: -0.4373\n",
      "\u001b[32m[1104 17:25:26 @monitor.py:467]\u001b[0m GAN_loss/gradient_penalty: 0.0065709\n",
      "\u001b[32m[1104 17:25:26 @monitor.py:467]\u001b[0m GAN_loss/gradient_rms: 0.99865\n",
      "\u001b[32m[1104 17:25:26 @monitor.py:467]\u001b[0m GAN_loss/kl_div: 0.071619\n",
      "\u001b[32m[1104 17:25:26 @monitor.py:467]\u001b[0m QueueInput/queue_size: 50\n",
      "\u001b[32m[1104 17:25:26 @base.py:275]\u001b[0m Start Epoch 590 ...\n"
     ]
    },
    {
     "name": "stderr",
     "output_type": "stream",
     "text": [
      "100%|###################################################################################|175/175[00:06<00:00,26.83it/s]"
     ]
    },
    {
     "name": "stdout",
     "output_type": "stream",
     "text": [
      "\u001b[32m[1104 17:25:32 @base.py:285]\u001b[0m Epoch 590 (global_step 123899) finished, time:6.52 seconds.\n",
      "\u001b[32m[1104 17:25:33 @saver.py:79]\u001b[0m Model saved to ../output/Chicago/WGGP_WI_new3/model\\model-123899.\n"
     ]
    },
    {
     "name": "stderr",
     "output_type": "stream",
     "text": [
      "\n"
     ]
    },
    {
     "name": "stdout",
     "output_type": "stream",
     "text": [
      "\u001b[32m[1104 17:25:33 @monitor.py:467]\u001b[0m GAN_loss/d_loss: -0.32723\n",
      "\u001b[32m[1104 17:25:33 @monitor.py:467]\u001b[0m GAN_loss/g_loss: -0.42806\n",
      "\u001b[32m[1104 17:25:33 @monitor.py:467]\u001b[0m GAN_loss/gradient_penalty: 0.0066577\n",
      "\u001b[32m[1104 17:25:33 @monitor.py:467]\u001b[0m GAN_loss/gradient_rms: 0.99648\n",
      "\u001b[32m[1104 17:25:33 @monitor.py:467]\u001b[0m GAN_loss/kl_div: 0.074857\n",
      "\u001b[32m[1104 17:25:33 @monitor.py:467]\u001b[0m QueueInput/queue_size: 50\n",
      "\u001b[32m[1104 17:25:33 @base.py:275]\u001b[0m Start Epoch 591 ...\n"
     ]
    },
    {
     "name": "stderr",
     "output_type": "stream",
     "text": [
      "100%|###################################################################################|175/175[00:06<00:00,26.83it/s]"
     ]
    },
    {
     "name": "stdout",
     "output_type": "stream",
     "text": [
      "\u001b[32m[1104 17:25:39 @base.py:285]\u001b[0m Epoch 591 (global_step 124109) finished, time:6.52 seconds.\n",
      "\u001b[32m[1104 17:25:39 @saver.py:79]\u001b[0m Model saved to ../output/Chicago/WGGP_WI_new3/model\\model-124109.\n"
     ]
    },
    {
     "name": "stderr",
     "output_type": "stream",
     "text": [
      "\n"
     ]
    },
    {
     "name": "stdout",
     "output_type": "stream",
     "text": [
      "\u001b[32m[1104 17:25:39 @monitor.py:467]\u001b[0m GAN_loss/d_loss: -0.29067\n",
      "\u001b[32m[1104 17:25:39 @monitor.py:467]\u001b[0m GAN_loss/g_loss: -0.44149\n",
      "\u001b[32m[1104 17:25:39 @monitor.py:467]\u001b[0m GAN_loss/gradient_penalty: 0.0065104\n",
      "\u001b[32m[1104 17:25:39 @monitor.py:467]\u001b[0m GAN_loss/gradient_rms: 0.99831\n",
      "\u001b[32m[1104 17:25:39 @monitor.py:467]\u001b[0m GAN_loss/kl_div: 0.097117\n",
      "\u001b[32m[1104 17:25:39 @monitor.py:467]\u001b[0m QueueInput/queue_size: 50\n",
      "\u001b[32m[1104 17:25:39 @base.py:275]\u001b[0m Start Epoch 592 ...\n"
     ]
    },
    {
     "name": "stderr",
     "output_type": "stream",
     "text": [
      "100%|###################################################################################|175/175[00:06<00:00,26.77it/s]"
     ]
    },
    {
     "name": "stdout",
     "output_type": "stream",
     "text": [
      "\u001b[32m[1104 17:25:46 @base.py:285]\u001b[0m Epoch 592 (global_step 124319) finished, time:6.54 seconds.\n"
     ]
    },
    {
     "name": "stderr",
     "output_type": "stream",
     "text": [
      "\n"
     ]
    },
    {
     "name": "stdout",
     "output_type": "stream",
     "text": [
      "\u001b[32m[1104 17:25:46 @saver.py:79]\u001b[0m Model saved to ../output/Chicago/WGGP_WI_new3/model\\model-124319.\n",
      "\u001b[32m[1104 17:25:46 @monitor.py:467]\u001b[0m GAN_loss/d_loss: -0.29062\n",
      "\u001b[32m[1104 17:25:46 @monitor.py:467]\u001b[0m GAN_loss/g_loss: -0.47485\n",
      "\u001b[32m[1104 17:25:46 @monitor.py:467]\u001b[0m GAN_loss/gradient_penalty: 0.0063973\n",
      "\u001b[32m[1104 17:25:46 @monitor.py:467]\u001b[0m GAN_loss/gradient_rms: 0.9977\n",
      "\u001b[32m[1104 17:25:46 @monitor.py:467]\u001b[0m GAN_loss/kl_div: 0.090338\n",
      "\u001b[32m[1104 17:25:46 @monitor.py:467]\u001b[0m QueueInput/queue_size: 50\n",
      "\u001b[32m[1104 17:25:46 @base.py:275]\u001b[0m Start Epoch 593 ...\n"
     ]
    },
    {
     "name": "stderr",
     "output_type": "stream",
     "text": [
      "100%|###################################################################################|175/175[00:06<00:00,26.83it/s]"
     ]
    },
    {
     "name": "stdout",
     "output_type": "stream",
     "text": [
      "\u001b[32m[1104 17:25:53 @base.py:285]\u001b[0m Epoch 593 (global_step 124529) finished, time:6.52 seconds.\n",
      "\u001b[32m[1104 17:25:53 @saver.py:79]\u001b[0m Model saved to ../output/Chicago/WGGP_WI_new3/model\\model-124529.\n"
     ]
    },
    {
     "name": "stderr",
     "output_type": "stream",
     "text": [
      "\n"
     ]
    },
    {
     "name": "stdout",
     "output_type": "stream",
     "text": [
      "\u001b[32m[1104 17:25:53 @monitor.py:467]\u001b[0m GAN_loss/d_loss: -0.31313\n",
      "\u001b[32m[1104 17:25:53 @monitor.py:467]\u001b[0m GAN_loss/g_loss: -0.49664\n",
      "\u001b[32m[1104 17:25:53 @monitor.py:467]\u001b[0m GAN_loss/gradient_penalty: 0.0064341\n",
      "\u001b[32m[1104 17:25:53 @monitor.py:467]\u001b[0m GAN_loss/gradient_rms: 0.9981\n",
      "\u001b[32m[1104 17:25:53 @monitor.py:467]\u001b[0m GAN_loss/kl_div: 0.077313\n",
      "\u001b[32m[1104 17:25:53 @monitor.py:467]\u001b[0m QueueInput/queue_size: 50\n",
      "\u001b[32m[1104 17:25:53 @base.py:275]\u001b[0m Start Epoch 594 ...\n"
     ]
    },
    {
     "name": "stderr",
     "output_type": "stream",
     "text": [
      "100%|###################################################################################|175/175[00:06<00:00,26.83it/s]"
     ]
    },
    {
     "name": "stdout",
     "output_type": "stream",
     "text": [
      "\u001b[32m[1104 17:25:59 @base.py:285]\u001b[0m Epoch 594 (global_step 124739) finished, time:6.52 seconds.\n"
     ]
    },
    {
     "name": "stderr",
     "output_type": "stream",
     "text": [
      "\n"
     ]
    },
    {
     "name": "stdout",
     "output_type": "stream",
     "text": [
      "\u001b[32m[1104 17:26:00 @saver.py:79]\u001b[0m Model saved to ../output/Chicago/WGGP_WI_new3/model\\model-124739.\n",
      "\u001b[32m[1104 17:26:00 @monitor.py:467]\u001b[0m GAN_loss/d_loss: -0.43621\n",
      "\u001b[32m[1104 17:26:00 @monitor.py:467]\u001b[0m GAN_loss/g_loss: -0.4773\n",
      "\u001b[32m[1104 17:26:00 @monitor.py:467]\u001b[0m GAN_loss/gradient_penalty: 0.0067856\n",
      "\u001b[32m[1104 17:26:00 @monitor.py:467]\u001b[0m GAN_loss/gradient_rms: 0.99729\n",
      "\u001b[32m[1104 17:26:00 @monitor.py:467]\u001b[0m GAN_loss/kl_div: 0.07755\n",
      "\u001b[32m[1104 17:26:00 @monitor.py:467]\u001b[0m QueueInput/queue_size: 50\n",
      "\u001b[32m[1104 17:26:00 @base.py:275]\u001b[0m Start Epoch 595 ...\n"
     ]
    },
    {
     "name": "stderr",
     "output_type": "stream",
     "text": [
      "100%|###################################################################################|175/175[00:06<00:00,26.84it/s]"
     ]
    },
    {
     "name": "stdout",
     "output_type": "stream",
     "text": [
      "\u001b[32m[1104 17:26:06 @base.py:285]\u001b[0m Epoch 595 (global_step 124949) finished, time:6.52 seconds.\n",
      "\u001b[32m[1104 17:26:06 @saver.py:79]\u001b[0m Model saved to ../output/Chicago/WGGP_WI_new3/model\\model-124949.\n"
     ]
    },
    {
     "name": "stderr",
     "output_type": "stream",
     "text": [
      "\n"
     ]
    },
    {
     "name": "stdout",
     "output_type": "stream",
     "text": [
      "\u001b[32m[1104 17:26:06 @monitor.py:467]\u001b[0m GAN_loss/d_loss: -0.36578\n",
      "\u001b[32m[1104 17:26:06 @monitor.py:467]\u001b[0m GAN_loss/g_loss: -0.49061\n",
      "\u001b[32m[1104 17:26:06 @monitor.py:467]\u001b[0m GAN_loss/gradient_penalty: 0.0068694\n",
      "\u001b[32m[1104 17:26:06 @monitor.py:467]\u001b[0m GAN_loss/gradient_rms: 0.99864\n",
      "\u001b[32m[1104 17:26:06 @monitor.py:467]\u001b[0m GAN_loss/kl_div: 0.074464\n",
      "\u001b[32m[1104 17:26:06 @monitor.py:467]\u001b[0m QueueInput/queue_size: 50\n",
      "\u001b[32m[1104 17:26:06 @base.py:275]\u001b[0m Start Epoch 596 ...\n"
     ]
    },
    {
     "name": "stderr",
     "output_type": "stream",
     "text": [
      "100%|###################################################################################|175/175[00:06<00:00,26.81it/s]"
     ]
    },
    {
     "name": "stdout",
     "output_type": "stream",
     "text": [
      "\u001b[32m[1104 17:26:13 @base.py:285]\u001b[0m Epoch 596 (global_step 125159) finished, time:6.53 seconds.\n",
      "\u001b[32m[1104 17:26:13 @saver.py:79]\u001b[0m Model saved to ../output/Chicago/WGGP_WI_new3/model\\model-125159.\n"
     ]
    },
    {
     "name": "stderr",
     "output_type": "stream",
     "text": [
      "\n"
     ]
    },
    {
     "name": "stdout",
     "output_type": "stream",
     "text": [
      "\u001b[32m[1104 17:26:13 @monitor.py:467]\u001b[0m GAN_loss/d_loss: -0.39635\n",
      "\u001b[32m[1104 17:26:13 @monitor.py:467]\u001b[0m GAN_loss/g_loss: -0.52797\n",
      "\u001b[32m[1104 17:26:13 @monitor.py:467]\u001b[0m GAN_loss/gradient_penalty: 0.0068659\n",
      "\u001b[32m[1104 17:26:13 @monitor.py:467]\u001b[0m GAN_loss/gradient_rms: 0.99931\n",
      "\u001b[32m[1104 17:26:13 @monitor.py:467]\u001b[0m GAN_loss/kl_div: 0.078488\n",
      "\u001b[32m[1104 17:26:13 @monitor.py:467]\u001b[0m QueueInput/queue_size: 50\n",
      "\u001b[32m[1104 17:26:13 @base.py:275]\u001b[0m Start Epoch 597 ...\n"
     ]
    },
    {
     "name": "stderr",
     "output_type": "stream",
     "text": [
      "100%|###################################################################################|175/175[00:06<00:00,26.77it/s]"
     ]
    },
    {
     "name": "stdout",
     "output_type": "stream",
     "text": [
      "\u001b[32m[1104 17:26:20 @base.py:285]\u001b[0m Epoch 597 (global_step 125369) finished, time:6.54 seconds.\n",
      "\u001b[32m[1104 17:26:20 @saver.py:79]\u001b[0m Model saved to ../output/Chicago/WGGP_WI_new3/model\\model-125369.\n",
      "\u001b[32m[1104 17:26:20 @monitor.py:467]\u001b[0m GAN_loss/d_loss: -0.32217\n"
     ]
    },
    {
     "name": "stderr",
     "output_type": "stream",
     "text": [
      "\n"
     ]
    },
    {
     "name": "stdout",
     "output_type": "stream",
     "text": [
      "\u001b[32m[1104 17:26:20 @monitor.py:467]\u001b[0m GAN_loss/g_loss: -0.53766\n",
      "\u001b[32m[1104 17:26:20 @monitor.py:467]\u001b[0m GAN_loss/gradient_penalty: 0.0068264\n",
      "\u001b[32m[1104 17:26:20 @monitor.py:467]\u001b[0m GAN_loss/gradient_rms: 0.99638\n",
      "\u001b[32m[1104 17:26:20 @monitor.py:467]\u001b[0m GAN_loss/kl_div: 0.080716\n",
      "\u001b[32m[1104 17:26:20 @monitor.py:467]\u001b[0m QueueInput/queue_size: 50\n",
      "\u001b[32m[1104 17:26:20 @base.py:275]\u001b[0m Start Epoch 598 ...\n"
     ]
    },
    {
     "name": "stderr",
     "output_type": "stream",
     "text": [
      "100%|###################################################################################|175/175[00:06<00:00,26.85it/s]"
     ]
    },
    {
     "name": "stdout",
     "output_type": "stream",
     "text": [
      "\u001b[32m[1104 17:26:26 @base.py:285]\u001b[0m Epoch 598 (global_step 125579) finished, time:6.52 seconds.\n",
      "\u001b[32m[1104 17:26:26 @saver.py:79]\u001b[0m Model saved to ../output/Chicago/WGGP_WI_new3/model\\model-125579.\n",
      "\u001b[32m[1104 17:26:27 @monitor.py:467]\u001b[0m GAN_loss/d_loss: -0.32999\n"
     ]
    },
    {
     "name": "stderr",
     "output_type": "stream",
     "text": [
      "\n"
     ]
    },
    {
     "name": "stdout",
     "output_type": "stream",
     "text": [
      "\u001b[32m[1104 17:26:27 @monitor.py:467]\u001b[0m GAN_loss/g_loss: -0.4986\n",
      "\u001b[32m[1104 17:26:27 @monitor.py:467]\u001b[0m GAN_loss/gradient_penalty: 0.0068745\n",
      "\u001b[32m[1104 17:26:27 @monitor.py:467]\u001b[0m GAN_loss/gradient_rms: 0.9963\n",
      "\u001b[32m[1104 17:26:27 @monitor.py:467]\u001b[0m GAN_loss/kl_div: 0.080372\n",
      "\u001b[32m[1104 17:26:27 @monitor.py:467]\u001b[0m QueueInput/queue_size: 50\n",
      "\u001b[32m[1104 17:26:27 @base.py:275]\u001b[0m Start Epoch 599 ...\n"
     ]
    },
    {
     "name": "stderr",
     "output_type": "stream",
     "text": [
      "100%|###################################################################################|175/175[00:06<00:00,26.85it/s]"
     ]
    },
    {
     "name": "stdout",
     "output_type": "stream",
     "text": [
      "\u001b[32m[1104 17:26:33 @base.py:285]\u001b[0m Epoch 599 (global_step 125789) finished, time:6.52 seconds.\n",
      "\u001b[32m[1104 17:26:33 @saver.py:79]\u001b[0m Model saved to ../output/Chicago/WGGP_WI_new3/model\\model-125789.\n",
      "\u001b[32m[1104 17:26:33 @monitor.py:467]\u001b[0m GAN_loss/d_loss: -0.46365\n"
     ]
    },
    {
     "name": "stderr",
     "output_type": "stream",
     "text": [
      "\n"
     ]
    },
    {
     "name": "stdout",
     "output_type": "stream",
     "text": [
      "\u001b[32m[1104 17:26:33 @monitor.py:467]\u001b[0m GAN_loss/g_loss: -0.44821\n",
      "\u001b[32m[1104 17:26:33 @monitor.py:467]\u001b[0m GAN_loss/gradient_penalty: 0.0070945\n",
      "\u001b[32m[1104 17:26:33 @monitor.py:467]\u001b[0m GAN_loss/gradient_rms: 0.99838\n",
      "\u001b[32m[1104 17:26:33 @monitor.py:467]\u001b[0m GAN_loss/kl_div: 0.090292\n",
      "\u001b[32m[1104 17:26:33 @monitor.py:467]\u001b[0m QueueInput/queue_size: 50\n",
      "\u001b[32m[1104 17:26:33 @base.py:275]\u001b[0m Start Epoch 600 ...\n"
     ]
    },
    {
     "name": "stderr",
     "output_type": "stream",
     "text": [
      "100%|###################################################################################|175/175[00:06<00:00,26.85it/s]"
     ]
    },
    {
     "name": "stdout",
     "output_type": "stream",
     "text": [
      "\u001b[32m[1104 17:26:40 @base.py:285]\u001b[0m Epoch 600 (global_step 125999) finished, time:6.52 seconds.\n",
      "\u001b[32m[1104 17:26:40 @saver.py:79]\u001b[0m Model saved to ../output/Chicago/WGGP_WI_new3/model\\model-125999.\n",
      "\u001b[32m[1104 17:26:40 @monitor.py:467]\u001b[0m GAN_loss/d_loss: -0.3895\n"
     ]
    },
    {
     "name": "stderr",
     "output_type": "stream",
     "text": [
      "\n"
     ]
    },
    {
     "name": "stdout",
     "output_type": "stream",
     "text": [
      "\u001b[32m[1104 17:26:40 @monitor.py:467]\u001b[0m GAN_loss/g_loss: -0.48128\n",
      "\u001b[32m[1104 17:26:40 @monitor.py:467]\u001b[0m GAN_loss/gradient_penalty: 0.0070134\n",
      "\u001b[32m[1104 17:26:40 @monitor.py:467]\u001b[0m GAN_loss/gradient_rms: 1.0005\n",
      "\u001b[32m[1104 17:26:40 @monitor.py:467]\u001b[0m GAN_loss/kl_div: 0.077018\n",
      "\u001b[32m[1104 17:26:40 @monitor.py:467]\u001b[0m QueueInput/queue_size: 50\n",
      "\u001b[32m[1104 17:26:40 @base.py:275]\u001b[0m Start Epoch 601 ...\n"
     ]
    },
    {
     "name": "stderr",
     "output_type": "stream",
     "text": [
      "100%|###################################################################################|175/175[00:06<00:00,26.84it/s]"
     ]
    },
    {
     "name": "stdout",
     "output_type": "stream",
     "text": [
      "\u001b[32m[1104 17:26:47 @base.py:285]\u001b[0m Epoch 601 (global_step 126209) finished, time:6.52 seconds.\n",
      "\u001b[32m[1104 17:26:47 @saver.py:79]\u001b[0m Model saved to ../output/Chicago/WGGP_WI_new3/model\\model-126209.\n"
     ]
    },
    {
     "name": "stderr",
     "output_type": "stream",
     "text": [
      "\n"
     ]
    },
    {
     "name": "stdout",
     "output_type": "stream",
     "text": [
      "\u001b[32m[1104 17:26:47 @monitor.py:467]\u001b[0m GAN_loss/d_loss: -0.48407\n",
      "\u001b[32m[1104 17:26:47 @monitor.py:467]\u001b[0m GAN_loss/g_loss: -0.46945\n",
      "\u001b[32m[1104 17:26:47 @monitor.py:467]\u001b[0m GAN_loss/gradient_penalty: 0.0071416\n",
      "\u001b[32m[1104 17:26:47 @monitor.py:467]\u001b[0m GAN_loss/gradient_rms: 1.0009\n",
      "\u001b[32m[1104 17:26:47 @monitor.py:467]\u001b[0m GAN_loss/kl_div: 0.081008\n",
      "\u001b[32m[1104 17:26:47 @monitor.py:467]\u001b[0m QueueInput/queue_size: 50\n",
      "\u001b[32m[1104 17:26:47 @base.py:275]\u001b[0m Start Epoch 602 ...\n"
     ]
    },
    {
     "name": "stderr",
     "output_type": "stream",
     "text": [
      "100%|###################################################################################|175/175[00:06<00:00,26.77it/s]"
     ]
    },
    {
     "name": "stdout",
     "output_type": "stream",
     "text": [
      "\u001b[32m[1104 17:26:53 @base.py:285]\u001b[0m Epoch 602 (global_step 126419) finished, time:6.54 seconds.\n"
     ]
    },
    {
     "name": "stderr",
     "output_type": "stream",
     "text": [
      "\n"
     ]
    },
    {
     "name": "stdout",
     "output_type": "stream",
     "text": [
      "\u001b[32m[1104 17:26:53 @saver.py:79]\u001b[0m Model saved to ../output/Chicago/WGGP_WI_new3/model\\model-126419.\n",
      "\u001b[32m[1104 17:26:54 @monitor.py:467]\u001b[0m GAN_loss/d_loss: -0.64712\n",
      "\u001b[32m[1104 17:26:54 @monitor.py:467]\u001b[0m GAN_loss/g_loss: -0.49177\n",
      "\u001b[32m[1104 17:26:54 @monitor.py:467]\u001b[0m GAN_loss/gradient_penalty: 0.0071931\n",
      "\u001b[32m[1104 17:26:54 @monitor.py:467]\u001b[0m GAN_loss/gradient_rms: 0.99924\n",
      "\u001b[32m[1104 17:26:54 @monitor.py:467]\u001b[0m GAN_loss/kl_div: 0.083838\n",
      "\u001b[32m[1104 17:26:54 @monitor.py:467]\u001b[0m QueueInput/queue_size: 50\n",
      "\u001b[32m[1104 17:26:54 @base.py:275]\u001b[0m Start Epoch 603 ...\n"
     ]
    },
    {
     "name": "stderr",
     "output_type": "stream",
     "text": [
      "100%|###################################################################################|175/175[00:06<00:00,26.83it/s]"
     ]
    },
    {
     "name": "stdout",
     "output_type": "stream",
     "text": [
      "\u001b[32m[1104 17:27:00 @base.py:285]\u001b[0m Epoch 603 (global_step 126629) finished, time:6.52 seconds.\n",
      "\u001b[32m[1104 17:27:00 @saver.py:79]\u001b[0m Model saved to ../output/Chicago/WGGP_WI_new3/model\\model-126629.\n"
     ]
    },
    {
     "name": "stderr",
     "output_type": "stream",
     "text": [
      "\n"
     ]
    },
    {
     "name": "stdout",
     "output_type": "stream",
     "text": [
      "\u001b[32m[1104 17:27:00 @monitor.py:467]\u001b[0m GAN_loss/d_loss: -0.79317\n",
      "\u001b[32m[1104 17:27:00 @monitor.py:467]\u001b[0m GAN_loss/g_loss: -0.46571\n",
      "\u001b[32m[1104 17:27:00 @monitor.py:467]\u001b[0m GAN_loss/gradient_penalty: 0.0077079\n",
      "\u001b[32m[1104 17:27:00 @monitor.py:467]\u001b[0m GAN_loss/gradient_rms: 1.0003\n",
      "\u001b[32m[1104 17:27:00 @monitor.py:467]\u001b[0m GAN_loss/kl_div: 0.077906\n",
      "\u001b[32m[1104 17:27:00 @monitor.py:467]\u001b[0m QueueInput/queue_size: 50\n",
      "\u001b[32m[1104 17:27:00 @base.py:275]\u001b[0m Start Epoch 604 ...\n"
     ]
    },
    {
     "name": "stderr",
     "output_type": "stream",
     "text": [
      "100%|###################################################################################|175/175[00:06<00:00,26.84it/s]"
     ]
    },
    {
     "name": "stdout",
     "output_type": "stream",
     "text": [
      "\u001b[32m[1104 17:27:07 @base.py:285]\u001b[0m Epoch 604 (global_step 126839) finished, time:6.52 seconds.\n",
      "\u001b[32m[1104 17:27:07 @saver.py:79]\u001b[0m Model saved to ../output/Chicago/WGGP_WI_new3/model\\model-126839.\n"
     ]
    },
    {
     "name": "stderr",
     "output_type": "stream",
     "text": [
      "\n"
     ]
    },
    {
     "name": "stdout",
     "output_type": "stream",
     "text": [
      "\u001b[32m[1104 17:27:07 @monitor.py:467]\u001b[0m GAN_loss/d_loss: -0.58933\n",
      "\u001b[32m[1104 17:27:07 @monitor.py:467]\u001b[0m GAN_loss/g_loss: -0.43847\n",
      "\u001b[32m[1104 17:27:07 @monitor.py:467]\u001b[0m GAN_loss/gradient_penalty: 0.0075806\n",
      "\u001b[32m[1104 17:27:07 @monitor.py:467]\u001b[0m GAN_loss/gradient_rms: 1.0005\n",
      "\u001b[32m[1104 17:27:07 @monitor.py:467]\u001b[0m GAN_loss/kl_div: 0.078521\n",
      "\u001b[32m[1104 17:27:07 @monitor.py:467]\u001b[0m QueueInput/queue_size: 50\n",
      "\u001b[32m[1104 17:27:07 @base.py:275]\u001b[0m Start Epoch 605 ...\n"
     ]
    },
    {
     "name": "stderr",
     "output_type": "stream",
     "text": [
      "100%|###################################################################################|175/175[00:06<00:00,26.82it/s]"
     ]
    },
    {
     "name": "stdout",
     "output_type": "stream",
     "text": [
      "\u001b[32m[1104 17:27:14 @base.py:285]\u001b[0m Epoch 605 (global_step 127049) finished, time:6.53 seconds.\n"
     ]
    },
    {
     "name": "stderr",
     "output_type": "stream",
     "text": [
      "\n"
     ]
    },
    {
     "name": "stdout",
     "output_type": "stream",
     "text": [
      "\u001b[32m[1104 17:27:14 @saver.py:79]\u001b[0m Model saved to ../output/Chicago/WGGP_WI_new3/model\\model-127049.\n",
      "\u001b[32m[1104 17:27:14 @monitor.py:467]\u001b[0m GAN_loss/d_loss: -0.50608\n",
      "\u001b[32m[1104 17:27:14 @monitor.py:467]\u001b[0m GAN_loss/g_loss: -0.42874\n",
      "\u001b[32m[1104 17:27:14 @monitor.py:467]\u001b[0m GAN_loss/gradient_penalty: 0.007156\n",
      "\u001b[32m[1104 17:27:14 @monitor.py:467]\u001b[0m GAN_loss/gradient_rms: 0.99882\n",
      "\u001b[32m[1104 17:27:14 @monitor.py:467]\u001b[0m GAN_loss/kl_div: 0.085408\n",
      "\u001b[32m[1104 17:27:14 @monitor.py:467]\u001b[0m QueueInput/queue_size: 50\n",
      "\u001b[32m[1104 17:27:14 @base.py:275]\u001b[0m Start Epoch 606 ...\n"
     ]
    },
    {
     "name": "stderr",
     "output_type": "stream",
     "text": [
      "100%|###################################################################################|175/175[00:06<00:00,26.84it/s]"
     ]
    },
    {
     "name": "stdout",
     "output_type": "stream",
     "text": [
      "\u001b[32m[1104 17:27:20 @base.py:285]\u001b[0m Epoch 606 (global_step 127259) finished, time:6.52 seconds.\n",
      "\u001b[32m[1104 17:27:20 @saver.py:79]\u001b[0m Model saved to ../output/Chicago/WGGP_WI_new3/model\\model-127259.\n"
     ]
    },
    {
     "name": "stderr",
     "output_type": "stream",
     "text": [
      "\n"
     ]
    },
    {
     "name": "stdout",
     "output_type": "stream",
     "text": [
      "\u001b[32m[1104 17:27:20 @monitor.py:467]\u001b[0m GAN_loss/d_loss: -0.38074\n",
      "\u001b[32m[1104 17:27:20 @monitor.py:467]\u001b[0m GAN_loss/g_loss: -0.47285\n",
      "\u001b[32m[1104 17:27:20 @monitor.py:467]\u001b[0m GAN_loss/gradient_penalty: 0.0068421\n",
      "\u001b[32m[1104 17:27:20 @monitor.py:467]\u001b[0m GAN_loss/gradient_rms: 0.99751\n",
      "\u001b[32m[1104 17:27:20 @monitor.py:467]\u001b[0m GAN_loss/kl_div: 0.09234\n",
      "\u001b[32m[1104 17:27:20 @monitor.py:467]\u001b[0m QueueInput/queue_size: 50\n",
      "\u001b[32m[1104 17:27:20 @base.py:275]\u001b[0m Start Epoch 607 ...\n"
     ]
    },
    {
     "name": "stderr",
     "output_type": "stream",
     "text": [
      "100%|###################################################################################|175/175[00:06<00:00,26.81it/s]"
     ]
    },
    {
     "name": "stdout",
     "output_type": "stream",
     "text": [
      "\u001b[32m[1104 17:27:27 @base.py:285]\u001b[0m Epoch 607 (global_step 127469) finished, time:6.53 seconds.\n",
      "\u001b[32m[1104 17:27:27 @saver.py:79]\u001b[0m Model saved to ../output/Chicago/WGGP_WI_new3/model\\model-127469.\n",
      "\u001b[32m[1104 17:27:27 @monitor.py:467]\u001b[0m GAN_loss/d_loss: -0.42869\n"
     ]
    },
    {
     "name": "stderr",
     "output_type": "stream",
     "text": [
      "\n"
     ]
    },
    {
     "name": "stdout",
     "output_type": "stream",
     "text": [
      "\u001b[32m[1104 17:27:27 @monitor.py:467]\u001b[0m GAN_loss/g_loss: -0.45732\n",
      "\u001b[32m[1104 17:27:27 @monitor.py:467]\u001b[0m GAN_loss/gradient_penalty: 0.0068425\n",
      "\u001b[32m[1104 17:27:27 @monitor.py:467]\u001b[0m GAN_loss/gradient_rms: 0.9995\n",
      "\u001b[32m[1104 17:27:27 @monitor.py:467]\u001b[0m GAN_loss/kl_div: 0.10099\n",
      "\u001b[32m[1104 17:27:27 @monitor.py:467]\u001b[0m QueueInput/queue_size: 50\n",
      "\u001b[32m[1104 17:27:27 @base.py:275]\u001b[0m Start Epoch 608 ...\n"
     ]
    },
    {
     "name": "stderr",
     "output_type": "stream",
     "text": [
      "100%|###################################################################################|175/175[00:06<00:00,26.86it/s]"
     ]
    },
    {
     "name": "stdout",
     "output_type": "stream",
     "text": [
      "\u001b[32m[1104 17:27:34 @base.py:285]\u001b[0m Epoch 608 (global_step 127679) finished, time:6.52 seconds.\n",
      "\u001b[32m[1104 17:27:34 @saver.py:79]\u001b[0m Model saved to ../output/Chicago/WGGP_WI_new3/model\\model-127679.\n"
     ]
    },
    {
     "name": "stderr",
     "output_type": "stream",
     "text": [
      "\n"
     ]
    },
    {
     "name": "stdout",
     "output_type": "stream",
     "text": [
      "\u001b[32m[1104 17:27:34 @monitor.py:467]\u001b[0m GAN_loss/d_loss: -0.31907\n",
      "\u001b[32m[1104 17:27:34 @monitor.py:467]\u001b[0m GAN_loss/g_loss: -0.46648\n",
      "\u001b[32m[1104 17:27:34 @monitor.py:467]\u001b[0m GAN_loss/gradient_penalty: 0.0063814\n",
      "\u001b[32m[1104 17:27:34 @monitor.py:467]\u001b[0m GAN_loss/gradient_rms: 1.001\n",
      "\u001b[32m[1104 17:27:34 @monitor.py:467]\u001b[0m GAN_loss/kl_div: 0.076095\n",
      "\u001b[32m[1104 17:27:34 @monitor.py:467]\u001b[0m QueueInput/queue_size: 50\n",
      "\u001b[32m[1104 17:27:34 @base.py:275]\u001b[0m Start Epoch 609 ...\n"
     ]
    },
    {
     "name": "stderr",
     "output_type": "stream",
     "text": [
      "100%|###################################################################################|175/175[00:06<00:00,26.84it/s]"
     ]
    },
    {
     "name": "stdout",
     "output_type": "stream",
     "text": [
      "\u001b[32m[1104 17:27:40 @base.py:285]\u001b[0m Epoch 609 (global_step 127889) finished, time:6.52 seconds.\n",
      "\u001b[32m[1104 17:27:41 @saver.py:79]\u001b[0m Model saved to ../output/Chicago/WGGP_WI_new3/model\\model-127889.\n"
     ]
    },
    {
     "name": "stderr",
     "output_type": "stream",
     "text": [
      "\n"
     ]
    },
    {
     "name": "stdout",
     "output_type": "stream",
     "text": [
      "\u001b[32m[1104 17:27:41 @monitor.py:467]\u001b[0m GAN_loss/d_loss: -0.34781\n",
      "\u001b[32m[1104 17:27:41 @monitor.py:467]\u001b[0m GAN_loss/g_loss: -0.47066\n",
      "\u001b[32m[1104 17:27:41 @monitor.py:467]\u001b[0m GAN_loss/gradient_penalty: 0.006578\n",
      "\u001b[32m[1104 17:27:41 @monitor.py:467]\u001b[0m GAN_loss/gradient_rms: 0.99773\n",
      "\u001b[32m[1104 17:27:41 @monitor.py:467]\u001b[0m GAN_loss/kl_div: 0.083928\n",
      "\u001b[32m[1104 17:27:41 @monitor.py:467]\u001b[0m QueueInput/queue_size: 50\n",
      "\u001b[32m[1104 17:27:41 @base.py:275]\u001b[0m Start Epoch 610 ...\n"
     ]
    },
    {
     "name": "stderr",
     "output_type": "stream",
     "text": [
      "100%|###################################################################################|175/175[00:06<00:00,26.81it/s]"
     ]
    },
    {
     "name": "stdout",
     "output_type": "stream",
     "text": [
      "\u001b[32m[1104 17:27:47 @base.py:285]\u001b[0m Epoch 610 (global_step 128099) finished, time:6.53 seconds.\n"
     ]
    },
    {
     "name": "stderr",
     "output_type": "stream",
     "text": [
      "\n"
     ]
    },
    {
     "name": "stdout",
     "output_type": "stream",
     "text": [
      "\u001b[32m[1104 17:27:47 @saver.py:79]\u001b[0m Model saved to ../output/Chicago/WGGP_WI_new3/model\\model-128099.\n",
      "\u001b[32m[1104 17:27:47 @monitor.py:467]\u001b[0m GAN_loss/d_loss: -0.38587\n",
      "\u001b[32m[1104 17:27:47 @monitor.py:467]\u001b[0m GAN_loss/g_loss: -0.47984\n",
      "\u001b[32m[1104 17:27:47 @monitor.py:467]\u001b[0m GAN_loss/gradient_penalty: 0.0068835\n",
      "\u001b[32m[1104 17:27:47 @monitor.py:467]\u001b[0m GAN_loss/gradient_rms: 0.99898\n",
      "\u001b[32m[1104 17:27:47 @monitor.py:467]\u001b[0m GAN_loss/kl_div: 0.081777\n",
      "\u001b[32m[1104 17:27:47 @monitor.py:467]\u001b[0m QueueInput/queue_size: 50\n",
      "\u001b[32m[1104 17:27:47 @base.py:275]\u001b[0m Start Epoch 611 ...\n"
     ]
    },
    {
     "name": "stderr",
     "output_type": "stream",
     "text": [
      "100%|###################################################################################|175/175[00:06<00:00,26.84it/s]"
     ]
    },
    {
     "name": "stdout",
     "output_type": "stream",
     "text": [
      "\u001b[32m[1104 17:27:54 @base.py:285]\u001b[0m Epoch 611 (global_step 128309) finished, time:6.52 seconds.\n",
      "\u001b[32m[1104 17:27:54 @saver.py:79]\u001b[0m Model saved to ../output/Chicago/WGGP_WI_new3/model\\model-128309.\n",
      "\u001b[32m[1104 17:27:54 @monitor.py:467]\u001b[0m GAN_loss/d_loss: -0.46398\n"
     ]
    },
    {
     "name": "stderr",
     "output_type": "stream",
     "text": [
      "\n"
     ]
    },
    {
     "name": "stdout",
     "output_type": "stream",
     "text": [
      "\u001b[32m[1104 17:27:54 @monitor.py:467]\u001b[0m GAN_loss/g_loss: -0.45808\n",
      "\u001b[32m[1104 17:27:54 @monitor.py:467]\u001b[0m GAN_loss/gradient_penalty: 0.0074965\n",
      "\u001b[32m[1104 17:27:54 @monitor.py:467]\u001b[0m GAN_loss/gradient_rms: 0.99876\n",
      "\u001b[32m[1104 17:27:54 @monitor.py:467]\u001b[0m GAN_loss/kl_div: 0.079705\n",
      "\u001b[32m[1104 17:27:54 @monitor.py:467]\u001b[0m QueueInput/queue_size: 50\n",
      "\u001b[32m[1104 17:27:54 @base.py:275]\u001b[0m Start Epoch 612 ...\n"
     ]
    },
    {
     "name": "stderr",
     "output_type": "stream",
     "text": [
      "100%|###################################################################################|175/175[00:06<00:00,26.85it/s]"
     ]
    },
    {
     "name": "stdout",
     "output_type": "stream",
     "text": [
      "\u001b[32m[1104 17:28:01 @base.py:285]\u001b[0m Epoch 612 (global_step 128519) finished, time:6.52 seconds.\n",
      "\u001b[32m[1104 17:28:01 @saver.py:79]\u001b[0m Model saved to ../output/Chicago/WGGP_WI_new3/model\\model-128519.\n"
     ]
    },
    {
     "name": "stderr",
     "output_type": "stream",
     "text": [
      "\n"
     ]
    },
    {
     "name": "stdout",
     "output_type": "stream",
     "text": [
      "\u001b[32m[1104 17:28:01 @monitor.py:467]\u001b[0m GAN_loss/d_loss: -0.48768\n",
      "\u001b[32m[1104 17:28:01 @monitor.py:467]\u001b[0m GAN_loss/g_loss: -0.45042\n",
      "\u001b[32m[1104 17:28:01 @monitor.py:467]\u001b[0m GAN_loss/gradient_penalty: 0.007115\n",
      "\u001b[32m[1104 17:28:01 @monitor.py:467]\u001b[0m GAN_loss/gradient_rms: 0.99857\n",
      "\u001b[32m[1104 17:28:01 @monitor.py:467]\u001b[0m GAN_loss/kl_div: 0.092541\n",
      "\u001b[32m[1104 17:28:01 @monitor.py:467]\u001b[0m QueueInput/queue_size: 50\n",
      "\u001b[32m[1104 17:28:01 @base.py:275]\u001b[0m Start Epoch 613 ...\n"
     ]
    },
    {
     "name": "stderr",
     "output_type": "stream",
     "text": [
      "100%|###################################################################################|175/175[00:06<00:00,26.85it/s]"
     ]
    },
    {
     "name": "stdout",
     "output_type": "stream",
     "text": [
      "\u001b[32m[1104 17:28:07 @base.py:285]\u001b[0m Epoch 613 (global_step 128729) finished, time:6.52 seconds.\n",
      "\u001b[32m[1104 17:28:08 @saver.py:79]\u001b[0m Model saved to ../output/Chicago/WGGP_WI_new3/model\\model-128729.\n"
     ]
    },
    {
     "name": "stderr",
     "output_type": "stream",
     "text": [
      "\n"
     ]
    },
    {
     "name": "stdout",
     "output_type": "stream",
     "text": [
      "\u001b[32m[1104 17:28:08 @monitor.py:467]\u001b[0m GAN_loss/d_loss: -0.54632\n",
      "\u001b[32m[1104 17:28:08 @monitor.py:467]\u001b[0m GAN_loss/g_loss: -0.46286\n",
      "\u001b[32m[1104 17:28:08 @monitor.py:467]\u001b[0m GAN_loss/gradient_penalty: 0.00726\n",
      "\u001b[32m[1104 17:28:08 @monitor.py:467]\u001b[0m GAN_loss/gradient_rms: 0.99762\n",
      "\u001b[32m[1104 17:28:08 @monitor.py:467]\u001b[0m GAN_loss/kl_div: 0.085099\n",
      "\u001b[32m[1104 17:28:08 @monitor.py:467]\u001b[0m QueueInput/queue_size: 50\n",
      "\u001b[32m[1104 17:28:08 @base.py:275]\u001b[0m Start Epoch 614 ...\n"
     ]
    },
    {
     "name": "stderr",
     "output_type": "stream",
     "text": [
      "100%|###################################################################################|175/175[00:06<00:00,26.77it/s]"
     ]
    },
    {
     "name": "stdout",
     "output_type": "stream",
     "text": [
      "\u001b[32m[1104 17:28:14 @base.py:285]\u001b[0m Epoch 614 (global_step 128939) finished, time:6.54 seconds.\n"
     ]
    },
    {
     "name": "stderr",
     "output_type": "stream",
     "text": [
      "\n"
     ]
    },
    {
     "name": "stdout",
     "output_type": "stream",
     "text": [
      "\u001b[32m[1104 17:28:14 @saver.py:79]\u001b[0m Model saved to ../output/Chicago/WGGP_WI_new3/model\\model-128939.\n",
      "\u001b[32m[1104 17:28:14 @monitor.py:467]\u001b[0m GAN_loss/d_loss: -0.52445\n",
      "\u001b[32m[1104 17:28:14 @monitor.py:467]\u001b[0m GAN_loss/g_loss: -0.43344\n",
      "\u001b[32m[1104 17:28:14 @monitor.py:467]\u001b[0m GAN_loss/gradient_penalty: 0.0071945\n",
      "\u001b[32m[1104 17:28:14 @monitor.py:467]\u001b[0m GAN_loss/gradient_rms: 0.99866\n",
      "\u001b[32m[1104 17:28:14 @monitor.py:467]\u001b[0m GAN_loss/kl_div: 0.096431\n",
      "\u001b[32m[1104 17:28:14 @monitor.py:467]\u001b[0m QueueInput/queue_size: 50\n",
      "\u001b[32m[1104 17:28:14 @base.py:275]\u001b[0m Start Epoch 615 ...\n"
     ]
    },
    {
     "name": "stderr",
     "output_type": "stream",
     "text": [
      "100%|###################################################################################|175/175[00:06<00:00,26.78it/s]"
     ]
    },
    {
     "name": "stdout",
     "output_type": "stream",
     "text": [
      "\u001b[32m[1104 17:28:21 @base.py:285]\u001b[0m Epoch 615 (global_step 129149) finished, time:6.54 seconds.\n",
      "\u001b[32m[1104 17:28:21 @saver.py:79]\u001b[0m Model saved to ../output/Chicago/WGGP_WI_new3/model\\model-129149.\n"
     ]
    },
    {
     "name": "stderr",
     "output_type": "stream",
     "text": [
      "\n"
     ]
    },
    {
     "name": "stdout",
     "output_type": "stream",
     "text": [
      "\u001b[32m[1104 17:28:21 @monitor.py:467]\u001b[0m GAN_loss/d_loss: -0.50301\n",
      "\u001b[32m[1104 17:28:21 @monitor.py:467]\u001b[0m GAN_loss/g_loss: -0.44242\n",
      "\u001b[32m[1104 17:28:21 @monitor.py:467]\u001b[0m GAN_loss/gradient_penalty: 0.0071027\n",
      "\u001b[32m[1104 17:28:21 @monitor.py:467]\u001b[0m GAN_loss/gradient_rms: 0.9995\n",
      "\u001b[32m[1104 17:28:21 @monitor.py:467]\u001b[0m GAN_loss/kl_div: 0.093698\n",
      "\u001b[32m[1104 17:28:21 @monitor.py:467]\u001b[0m QueueInput/queue_size: 50\n",
      "\u001b[32m[1104 17:28:21 @base.py:275]\u001b[0m Start Epoch 616 ...\n"
     ]
    },
    {
     "name": "stderr",
     "output_type": "stream",
     "text": [
      "100%|###################################################################################|175/175[00:06<00:00,26.87it/s]"
     ]
    },
    {
     "name": "stdout",
     "output_type": "stream",
     "text": [
      "\u001b[32m[1104 17:28:28 @base.py:285]\u001b[0m Epoch 616 (global_step 129359) finished, time:6.51 seconds.\n",
      "\u001b[32m[1104 17:28:28 @saver.py:79]\u001b[0m Model saved to ../output/Chicago/WGGP_WI_new3/model\\model-129359.\n"
     ]
    },
    {
     "name": "stderr",
     "output_type": "stream",
     "text": [
      "\n"
     ]
    },
    {
     "name": "stdout",
     "output_type": "stream",
     "text": [
      "\u001b[32m[1104 17:28:28 @monitor.py:467]\u001b[0m GAN_loss/d_loss: -0.28363\n",
      "\u001b[32m[1104 17:28:28 @monitor.py:467]\u001b[0m GAN_loss/g_loss: -0.45002\n",
      "\u001b[32m[1104 17:28:28 @monitor.py:467]\u001b[0m GAN_loss/gradient_penalty: 0.0065853\n",
      "\u001b[32m[1104 17:28:28 @monitor.py:467]\u001b[0m GAN_loss/gradient_rms: 0.9984\n",
      "\u001b[32m[1104 17:28:28 @monitor.py:467]\u001b[0m GAN_loss/kl_div: 0.080443\n",
      "\u001b[32m[1104 17:28:28 @monitor.py:467]\u001b[0m QueueInput/queue_size: 50\n",
      "\u001b[32m[1104 17:28:28 @base.py:275]\u001b[0m Start Epoch 617 ...\n"
     ]
    },
    {
     "name": "stderr",
     "output_type": "stream",
     "text": [
      "100%|###################################################################################|175/175[00:06<00:00,26.80it/s]"
     ]
    },
    {
     "name": "stdout",
     "output_type": "stream",
     "text": [
      "\u001b[32m[1104 17:28:34 @base.py:285]\u001b[0m Epoch 617 (global_step 129569) finished, time:6.53 seconds.\n",
      "\u001b[32m[1104 17:28:35 @saver.py:79]\u001b[0m Model saved to ../output/Chicago/WGGP_WI_new3/model\\model-129569.\n"
     ]
    },
    {
     "name": "stderr",
     "output_type": "stream",
     "text": [
      "\n"
     ]
    },
    {
     "name": "stdout",
     "output_type": "stream",
     "text": [
      "\u001b[32m[1104 17:28:35 @monitor.py:467]\u001b[0m GAN_loss/d_loss: -0.30254\n",
      "\u001b[32m[1104 17:28:35 @monitor.py:467]\u001b[0m GAN_loss/g_loss: -0.43787\n",
      "\u001b[32m[1104 17:28:35 @monitor.py:467]\u001b[0m GAN_loss/gradient_penalty: 0.0069949\n",
      "\u001b[32m[1104 17:28:35 @monitor.py:467]\u001b[0m GAN_loss/gradient_rms: 0.99876\n",
      "\u001b[32m[1104 17:28:35 @monitor.py:467]\u001b[0m GAN_loss/kl_div: 0.083984\n",
      "\u001b[32m[1104 17:28:35 @monitor.py:467]\u001b[0m QueueInput/queue_size: 50\n",
      "\u001b[32m[1104 17:28:35 @base.py:275]\u001b[0m Start Epoch 618 ...\n"
     ]
    },
    {
     "name": "stderr",
     "output_type": "stream",
     "text": [
      "100%|###################################################################################|175/175[00:06<00:00,26.83it/s]"
     ]
    },
    {
     "name": "stdout",
     "output_type": "stream",
     "text": [
      "\u001b[32m[1104 17:28:41 @base.py:285]\u001b[0m Epoch 618 (global_step 129779) finished, time:6.52 seconds.\n",
      "\u001b[32m[1104 17:28:41 @saver.py:79]\u001b[0m Model saved to ../output/Chicago/WGGP_WI_new3/model\\model-129779.\n"
     ]
    },
    {
     "name": "stderr",
     "output_type": "stream",
     "text": [
      "\n"
     ]
    },
    {
     "name": "stdout",
     "output_type": "stream",
     "text": [
      "\u001b[32m[1104 17:28:41 @monitor.py:467]\u001b[0m GAN_loss/d_loss: -0.24901\n",
      "\u001b[32m[1104 17:28:41 @monitor.py:467]\u001b[0m GAN_loss/g_loss: -0.41726\n",
      "\u001b[32m[1104 17:28:41 @monitor.py:467]\u001b[0m GAN_loss/gradient_penalty: 0.0068093\n",
      "\u001b[32m[1104 17:28:41 @monitor.py:467]\u001b[0m GAN_loss/gradient_rms: 0.99768\n",
      "\u001b[32m[1104 17:28:41 @monitor.py:467]\u001b[0m GAN_loss/kl_div: 0.077428\n",
      "\u001b[32m[1104 17:28:41 @monitor.py:467]\u001b[0m QueueInput/queue_size: 50\n",
      "\u001b[32m[1104 17:28:41 @base.py:275]\u001b[0m Start Epoch 619 ...\n"
     ]
    },
    {
     "name": "stderr",
     "output_type": "stream",
     "text": [
      "100%|###################################################################################|175/175[00:06<00:00,26.85it/s]"
     ]
    },
    {
     "name": "stdout",
     "output_type": "stream",
     "text": [
      "\u001b[32m[1104 17:28:48 @base.py:285]\u001b[0m Epoch 619 (global_step 129989) finished, time:6.52 seconds.\n",
      "\u001b[32m[1104 17:28:48 @saver.py:79]\u001b[0m Model saved to ../output/Chicago/WGGP_WI_new3/model\\model-129989.\n",
      "\u001b[32m[1104 17:28:48 @monitor.py:467]\u001b[0m GAN_loss/d_loss: -0.3669\n"
     ]
    },
    {
     "name": "stderr",
     "output_type": "stream",
     "text": [
      "\n"
     ]
    },
    {
     "name": "stdout",
     "output_type": "stream",
     "text": [
      "\u001b[32m[1104 17:28:48 @monitor.py:467]\u001b[0m GAN_loss/g_loss: -0.42246\n",
      "\u001b[32m[1104 17:28:48 @monitor.py:467]\u001b[0m GAN_loss/gradient_penalty: 0.0071125\n",
      "\u001b[32m[1104 17:28:48 @monitor.py:467]\u001b[0m GAN_loss/gradient_rms: 0.99656\n",
      "\u001b[32m[1104 17:28:48 @monitor.py:467]\u001b[0m GAN_loss/kl_div: 0.078766\n",
      "\u001b[32m[1104 17:28:48 @monitor.py:467]\u001b[0m QueueInput/queue_size: 50\n",
      "\u001b[32m[1104 17:28:48 @base.py:275]\u001b[0m Start Epoch 620 ...\n"
     ]
    },
    {
     "name": "stderr",
     "output_type": "stream",
     "text": [
      "100%|###################################################################################|175/175[00:06<00:00,26.81it/s]"
     ]
    },
    {
     "name": "stdout",
     "output_type": "stream",
     "text": [
      "\u001b[32m[1104 17:28:55 @base.py:285]\u001b[0m Epoch 620 (global_step 130199) finished, time:6.53 seconds.\n",
      "\u001b[32m[1104 17:28:55 @saver.py:79]\u001b[0m Model saved to ../output/Chicago/WGGP_WI_new3/model\\model-130199.\n"
     ]
    },
    {
     "name": "stderr",
     "output_type": "stream",
     "text": [
      "\n"
     ]
    },
    {
     "name": "stdout",
     "output_type": "stream",
     "text": [
      "\u001b[32m[1104 17:28:55 @monitor.py:467]\u001b[0m GAN_loss/d_loss: -0.34714\n",
      "\u001b[32m[1104 17:28:55 @monitor.py:467]\u001b[0m GAN_loss/g_loss: -0.42142\n",
      "\u001b[32m[1104 17:28:55 @monitor.py:467]\u001b[0m GAN_loss/gradient_penalty: 0.006906\n",
      "\u001b[32m[1104 17:28:55 @monitor.py:467]\u001b[0m GAN_loss/gradient_rms: 0.99928\n",
      "\u001b[32m[1104 17:28:55 @monitor.py:467]\u001b[0m GAN_loss/kl_div: 0.075755\n",
      "\u001b[32m[1104 17:28:55 @monitor.py:467]\u001b[0m QueueInput/queue_size: 50\n",
      "\u001b[32m[1104 17:28:55 @base.py:275]\u001b[0m Start Epoch 621 ...\n"
     ]
    },
    {
     "name": "stderr",
     "output_type": "stream",
     "text": [
      "100%|###################################################################################|175/175[00:06<00:00,26.84it/s]"
     ]
    },
    {
     "name": "stdout",
     "output_type": "stream",
     "text": [
      "\u001b[32m[1104 17:29:01 @base.py:285]\u001b[0m Epoch 621 (global_step 130409) finished, time:6.52 seconds.\n",
      "\u001b[32m[1104 17:29:01 @saver.py:79]\u001b[0m Model saved to ../output/Chicago/WGGP_WI_new3/model\\model-130409.\n"
     ]
    },
    {
     "name": "stderr",
     "output_type": "stream",
     "text": [
      "\n"
     ]
    },
    {
     "name": "stdout",
     "output_type": "stream",
     "text": [
      "\u001b[32m[1104 17:29:02 @monitor.py:467]\u001b[0m GAN_loss/d_loss: -0.4624\n",
      "\u001b[32m[1104 17:29:02 @monitor.py:467]\u001b[0m GAN_loss/g_loss: -0.43474\n",
      "\u001b[32m[1104 17:29:02 @monitor.py:467]\u001b[0m GAN_loss/gradient_penalty: 0.007291\n",
      "\u001b[32m[1104 17:29:02 @monitor.py:467]\u001b[0m GAN_loss/gradient_rms: 0.99917\n",
      "\u001b[32m[1104 17:29:02 @monitor.py:467]\u001b[0m GAN_loss/kl_div: 0.075505\n",
      "\u001b[32m[1104 17:29:02 @monitor.py:467]\u001b[0m QueueInput/queue_size: 50\n",
      "\u001b[32m[1104 17:29:02 @base.py:275]\u001b[0m Start Epoch 622 ...\n"
     ]
    },
    {
     "name": "stderr",
     "output_type": "stream",
     "text": [
      "100%|###################################################################################|175/175[00:06<00:00,26.82it/s]"
     ]
    },
    {
     "name": "stdout",
     "output_type": "stream",
     "text": [
      "\u001b[32m[1104 17:29:08 @base.py:285]\u001b[0m Epoch 622 (global_step 130619) finished, time:6.53 seconds.\n",
      "\u001b[32m[1104 17:29:08 @saver.py:79]\u001b[0m Model saved to ../output/Chicago/WGGP_WI_new3/model\\model-130619.\n"
     ]
    },
    {
     "name": "stderr",
     "output_type": "stream",
     "text": [
      "\n"
     ]
    },
    {
     "name": "stdout",
     "output_type": "stream",
     "text": [
      "\u001b[32m[1104 17:29:08 @monitor.py:467]\u001b[0m GAN_loss/d_loss: -0.40191\n",
      "\u001b[32m[1104 17:29:08 @monitor.py:467]\u001b[0m GAN_loss/g_loss: -0.44633\n",
      "\u001b[32m[1104 17:29:08 @monitor.py:467]\u001b[0m GAN_loss/gradient_penalty: 0.0071992\n",
      "\u001b[32m[1104 17:29:08 @monitor.py:467]\u001b[0m GAN_loss/gradient_rms: 0.99882\n",
      "\u001b[32m[1104 17:29:08 @monitor.py:467]\u001b[0m GAN_loss/kl_div: 0.079544\n",
      "\u001b[32m[1104 17:29:08 @monitor.py:467]\u001b[0m QueueInput/queue_size: 50\n",
      "\u001b[32m[1104 17:29:08 @base.py:275]\u001b[0m Start Epoch 623 ...\n"
     ]
    },
    {
     "name": "stderr",
     "output_type": "stream",
     "text": [
      "100%|###################################################################################|175/175[00:06<00:00,26.81it/s]"
     ]
    },
    {
     "name": "stdout",
     "output_type": "stream",
     "text": [
      "\u001b[32m[1104 17:29:15 @base.py:285]\u001b[0m Epoch 623 (global_step 130829) finished, time:6.53 seconds.\n"
     ]
    },
    {
     "name": "stderr",
     "output_type": "stream",
     "text": [
      "\n"
     ]
    },
    {
     "name": "stdout",
     "output_type": "stream",
     "text": [
      "\u001b[32m[1104 17:29:15 @saver.py:79]\u001b[0m Model saved to ../output/Chicago/WGGP_WI_new3/model\\model-130829.\n",
      "\u001b[32m[1104 17:29:15 @monitor.py:467]\u001b[0m GAN_loss/d_loss: -0.38741\n",
      "\u001b[32m[1104 17:29:15 @monitor.py:467]\u001b[0m GAN_loss/g_loss: -0.4833\n",
      "\u001b[32m[1104 17:29:15 @monitor.py:467]\u001b[0m GAN_loss/gradient_penalty: 0.0070617\n",
      "\u001b[32m[1104 17:29:15 @monitor.py:467]\u001b[0m GAN_loss/gradient_rms: 0.99739\n",
      "\u001b[32m[1104 17:29:15 @monitor.py:467]\u001b[0m GAN_loss/kl_div: 0.081944\n",
      "\u001b[32m[1104 17:29:15 @monitor.py:467]\u001b[0m QueueInput/queue_size: 50\n",
      "\u001b[32m[1104 17:29:15 @base.py:275]\u001b[0m Start Epoch 624 ...\n"
     ]
    },
    {
     "name": "stderr",
     "output_type": "stream",
     "text": [
      "100%|###################################################################################|175/175[00:06<00:00,26.83it/s]"
     ]
    },
    {
     "name": "stdout",
     "output_type": "stream",
     "text": [
      "\u001b[32m[1104 17:29:22 @base.py:285]\u001b[0m Epoch 624 (global_step 131039) finished, time:6.52 seconds.\n",
      "\u001b[32m[1104 17:29:22 @saver.py:79]\u001b[0m Model saved to ../output/Chicago/WGGP_WI_new3/model\\model-131039.\n",
      "\u001b[32m[1104 17:29:22 @monitor.py:467]\u001b[0m GAN_loss/d_loss: -0.47845\n"
     ]
    },
    {
     "name": "stderr",
     "output_type": "stream",
     "text": [
      "\n"
     ]
    },
    {
     "name": "stdout",
     "output_type": "stream",
     "text": [
      "\u001b[32m[1104 17:29:22 @monitor.py:467]\u001b[0m GAN_loss/g_loss: -0.47081\n",
      "\u001b[32m[1104 17:29:22 @monitor.py:467]\u001b[0m GAN_loss/gradient_penalty: 0.0072501\n",
      "\u001b[32m[1104 17:29:22 @monitor.py:467]\u001b[0m GAN_loss/gradient_rms: 0.99946\n",
      "\u001b[32m[1104 17:29:22 @monitor.py:467]\u001b[0m GAN_loss/kl_div: 0.090263\n",
      "\u001b[32m[1104 17:29:22 @monitor.py:467]\u001b[0m QueueInput/queue_size: 50\n",
      "\u001b[32m[1104 17:29:22 @base.py:275]\u001b[0m Start Epoch 625 ...\n"
     ]
    },
    {
     "name": "stderr",
     "output_type": "stream",
     "text": [
      "100%|###################################################################################|175/175[00:06<00:00,26.70it/s]"
     ]
    },
    {
     "name": "stdout",
     "output_type": "stream",
     "text": [
      "\u001b[32m[1104 17:29:28 @base.py:285]\u001b[0m Epoch 625 (global_step 131249) finished, time:6.55 seconds.\n"
     ]
    },
    {
     "name": "stderr",
     "output_type": "stream",
     "text": [
      "\n"
     ]
    },
    {
     "name": "stdout",
     "output_type": "stream",
     "text": [
      "\u001b[32m[1104 17:29:28 @saver.py:79]\u001b[0m Model saved to ../output/Chicago/WGGP_WI_new3/model\\model-131249.\n",
      "\u001b[32m[1104 17:29:29 @monitor.py:467]\u001b[0m GAN_loss/d_loss: -0.44715\n",
      "\u001b[32m[1104 17:29:29 @monitor.py:467]\u001b[0m GAN_loss/g_loss: -0.46583\n",
      "\u001b[32m[1104 17:29:29 @monitor.py:467]\u001b[0m GAN_loss/gradient_penalty: 0.0073077\n",
      "\u001b[32m[1104 17:29:29 @monitor.py:467]\u001b[0m GAN_loss/gradient_rms: 0.9987\n",
      "\u001b[32m[1104 17:29:29 @monitor.py:467]\u001b[0m GAN_loss/kl_div: 0.082354\n",
      "\u001b[32m[1104 17:29:29 @monitor.py:467]\u001b[0m QueueInput/queue_size: 50\n",
      "\u001b[32m[1104 17:29:29 @base.py:275]\u001b[0m Start Epoch 626 ...\n"
     ]
    },
    {
     "name": "stderr",
     "output_type": "stream",
     "text": [
      "100%|###################################################################################|175/175[00:06<00:00,26.10it/s]"
     ]
    },
    {
     "name": "stdout",
     "output_type": "stream",
     "text": [
      "\u001b[32m[1104 17:29:35 @base.py:285]\u001b[0m Epoch 626 (global_step 131459) finished, time:6.71 seconds.\n",
      "\u001b[32m[1104 17:29:35 @saver.py:79]\u001b[0m Model saved to ../output/Chicago/WGGP_WI_new3/model\\model-131459.\n"
     ]
    },
    {
     "name": "stderr",
     "output_type": "stream",
     "text": [
      "\n"
     ]
    },
    {
     "name": "stdout",
     "output_type": "stream",
     "text": [
      "\u001b[32m[1104 17:29:35 @monitor.py:467]\u001b[0m GAN_loss/d_loss: -0.30739\n",
      "\u001b[32m[1104 17:29:35 @monitor.py:467]\u001b[0m GAN_loss/g_loss: -0.47509\n",
      "\u001b[32m[1104 17:29:35 @monitor.py:467]\u001b[0m GAN_loss/gradient_penalty: 0.0068361\n",
      "\u001b[32m[1104 17:29:35 @monitor.py:467]\u001b[0m GAN_loss/gradient_rms: 0.99703\n",
      "\u001b[32m[1104 17:29:36 @monitor.py:467]\u001b[0m GAN_loss/kl_div: 0.081499\n",
      "\u001b[32m[1104 17:29:36 @monitor.py:467]\u001b[0m QueueInput/queue_size: 50\n",
      "\u001b[32m[1104 17:29:36 @base.py:275]\u001b[0m Start Epoch 627 ...\n"
     ]
    },
    {
     "name": "stderr",
     "output_type": "stream",
     "text": [
      "100%|###################################################################################|175/175[00:06<00:00,26.70it/s]"
     ]
    },
    {
     "name": "stdout",
     "output_type": "stream",
     "text": [
      "\u001b[32m[1104 17:29:42 @base.py:285]\u001b[0m Epoch 627 (global_step 131669) finished, time:6.55 seconds.\n"
     ]
    },
    {
     "name": "stderr",
     "output_type": "stream",
     "text": [
      "\n"
     ]
    },
    {
     "name": "stdout",
     "output_type": "stream",
     "text": [
      "\u001b[32m[1104 17:29:42 @saver.py:79]\u001b[0m Model saved to ../output/Chicago/WGGP_WI_new3/model\\model-131669.\n",
      "\u001b[32m[1104 17:29:42 @monitor.py:467]\u001b[0m GAN_loss/d_loss: -0.2888\n",
      "\u001b[32m[1104 17:29:42 @monitor.py:467]\u001b[0m GAN_loss/g_loss: -0.49496\n",
      "\u001b[32m[1104 17:29:42 @monitor.py:467]\u001b[0m GAN_loss/gradient_penalty: 0.0067165\n",
      "\u001b[32m[1104 17:29:42 @monitor.py:467]\u001b[0m GAN_loss/gradient_rms: 0.99845\n",
      "\u001b[32m[1104 17:29:42 @monitor.py:467]\u001b[0m GAN_loss/kl_div: 0.08565\n",
      "\u001b[32m[1104 17:29:42 @monitor.py:467]\u001b[0m QueueInput/queue_size: 50\n",
      "\u001b[32m[1104 17:29:42 @base.py:275]\u001b[0m Start Epoch 628 ...\n"
     ]
    },
    {
     "name": "stderr",
     "output_type": "stream",
     "text": [
      "100%|###################################################################################|175/175[00:06<00:00,26.25it/s]"
     ]
    },
    {
     "name": "stdout",
     "output_type": "stream",
     "text": [
      "\u001b[32m[1104 17:29:49 @base.py:285]\u001b[0m Epoch 628 (global_step 131879) finished, time:6.67 seconds.\n",
      "\u001b[32m[1104 17:29:49 @saver.py:79]\u001b[0m Model saved to ../output/Chicago/WGGP_WI_new3/model\\model-131879.\n"
     ]
    },
    {
     "name": "stderr",
     "output_type": "stream",
     "text": [
      "\n"
     ]
    },
    {
     "name": "stdout",
     "output_type": "stream",
     "text": [
      "\u001b[32m[1104 17:29:49 @monitor.py:467]\u001b[0m GAN_loss/d_loss: -0.31218\n",
      "\u001b[32m[1104 17:29:49 @monitor.py:467]\u001b[0m GAN_loss/g_loss: -0.46448\n",
      "\u001b[32m[1104 17:29:49 @monitor.py:467]\u001b[0m GAN_loss/gradient_penalty: 0.0066492\n",
      "\u001b[32m[1104 17:29:49 @monitor.py:467]\u001b[0m GAN_loss/gradient_rms: 0.99864\n",
      "\u001b[32m[1104 17:29:49 @monitor.py:467]\u001b[0m GAN_loss/kl_div: 0.085481\n",
      "\u001b[32m[1104 17:29:49 @monitor.py:467]\u001b[0m QueueInput/queue_size: 50\n",
      "\u001b[32m[1104 17:29:49 @base.py:275]\u001b[0m Start Epoch 629 ...\n"
     ]
    },
    {
     "name": "stderr",
     "output_type": "stream",
     "text": [
      "100%|###################################################################################|175/175[00:06<00:00,26.47it/s]"
     ]
    },
    {
     "name": "stdout",
     "output_type": "stream",
     "text": [
      "\u001b[32m[1104 17:29:56 @base.py:285]\u001b[0m Epoch 629 (global_step 132089) finished, time:6.61 seconds.\n",
      "\u001b[32m[1104 17:29:56 @saver.py:79]\u001b[0m Model saved to ../output/Chicago/WGGP_WI_new3/model\\model-132089.\n"
     ]
    },
    {
     "name": "stderr",
     "output_type": "stream",
     "text": [
      "\n"
     ]
    },
    {
     "name": "stdout",
     "output_type": "stream",
     "text": [
      "\u001b[32m[1104 17:29:56 @monitor.py:467]\u001b[0m GAN_loss/d_loss: -0.2816\n",
      "\u001b[32m[1104 17:29:56 @monitor.py:467]\u001b[0m GAN_loss/g_loss: -0.47821\n",
      "\u001b[32m[1104 17:29:56 @monitor.py:467]\u001b[0m GAN_loss/gradient_penalty: 0.0064437\n",
      "\u001b[32m[1104 17:29:56 @monitor.py:467]\u001b[0m GAN_loss/gradient_rms: 0.99856\n",
      "\u001b[32m[1104 17:29:56 @monitor.py:467]\u001b[0m GAN_loss/kl_div: 0.077312\n",
      "\u001b[32m[1104 17:29:56 @monitor.py:467]\u001b[0m QueueInput/queue_size: 50\n",
      "\u001b[32m[1104 17:29:56 @base.py:275]\u001b[0m Start Epoch 630 ...\n"
     ]
    },
    {
     "name": "stderr",
     "output_type": "stream",
     "text": [
      "100%|###################################################################################|175/175[00:06<00:00,26.40it/s]"
     ]
    },
    {
     "name": "stdout",
     "output_type": "stream",
     "text": [
      "\u001b[32m[1104 17:30:03 @base.py:285]\u001b[0m Epoch 630 (global_step 132299) finished, time:6.63 seconds.\n",
      "\u001b[32m[1104 17:30:03 @saver.py:79]\u001b[0m Model saved to ../output/Chicago/WGGP_WI_new3/model\\model-132299.\n"
     ]
    },
    {
     "name": "stderr",
     "output_type": "stream",
     "text": [
      "\n"
     ]
    },
    {
     "name": "stdout",
     "output_type": "stream",
     "text": [
      "\u001b[32m[1104 17:30:03 @monitor.py:467]\u001b[0m GAN_loss/d_loss: -0.45547\n",
      "\u001b[32m[1104 17:30:03 @monitor.py:467]\u001b[0m GAN_loss/g_loss: -0.45251\n",
      "\u001b[32m[1104 17:30:03 @monitor.py:467]\u001b[0m GAN_loss/gradient_penalty: 0.0068072\n",
      "\u001b[32m[1104 17:30:03 @monitor.py:467]\u001b[0m GAN_loss/gradient_rms: 0.99903\n",
      "\u001b[32m[1104 17:30:03 @monitor.py:467]\u001b[0m GAN_loss/kl_div: 0.080804\n",
      "\u001b[32m[1104 17:30:03 @monitor.py:467]\u001b[0m QueueInput/queue_size: 50\n",
      "\u001b[32m[1104 17:30:03 @base.py:275]\u001b[0m Start Epoch 631 ...\n"
     ]
    },
    {
     "name": "stderr",
     "output_type": "stream",
     "text": [
      "100%|###################################################################################|175/175[00:06<00:00,26.00it/s]"
     ]
    },
    {
     "name": "stdout",
     "output_type": "stream",
     "text": [
      "\u001b[32m[1104 17:30:10 @base.py:285]\u001b[0m Epoch 631 (global_step 132509) finished, time:6.73 seconds.\n",
      "\u001b[32m[1104 17:30:10 @saver.py:79]\u001b[0m Model saved to ../output/Chicago/WGGP_WI_new3/model\\model-132509.\n"
     ]
    },
    {
     "name": "stderr",
     "output_type": "stream",
     "text": [
      "\n"
     ]
    },
    {
     "name": "stdout",
     "output_type": "stream",
     "text": [
      "\u001b[32m[1104 17:30:10 @monitor.py:467]\u001b[0m GAN_loss/d_loss: -0.57401\n",
      "\u001b[32m[1104 17:30:10 @monitor.py:467]\u001b[0m GAN_loss/g_loss: -0.42241\n",
      "\u001b[32m[1104 17:30:10 @monitor.py:467]\u001b[0m GAN_loss/gradient_penalty: 0.0072447\n",
      "\u001b[32m[1104 17:30:10 @monitor.py:467]\u001b[0m GAN_loss/gradient_rms: 0.99703\n",
      "\u001b[32m[1104 17:30:10 @monitor.py:467]\u001b[0m GAN_loss/kl_div: 0.083174\n",
      "\u001b[32m[1104 17:30:10 @monitor.py:467]\u001b[0m QueueInput/queue_size: 50\n",
      "\u001b[32m[1104 17:30:10 @base.py:275]\u001b[0m Start Epoch 632 ...\n"
     ]
    },
    {
     "name": "stderr",
     "output_type": "stream",
     "text": [
      "100%|###################################################################################|175/175[00:06<00:00,26.31it/s]"
     ]
    },
    {
     "name": "stdout",
     "output_type": "stream",
     "text": [
      "\u001b[32m[1104 17:30:16 @base.py:285]\u001b[0m Epoch 632 (global_step 132719) finished, time:6.65 seconds.\n",
      "\u001b[32m[1104 17:30:17 @saver.py:79]\u001b[0m Model saved to ../output/Chicago/WGGP_WI_new3/model\\model-132719.\n"
     ]
    },
    {
     "name": "stderr",
     "output_type": "stream",
     "text": [
      "\n"
     ]
    },
    {
     "name": "stdout",
     "output_type": "stream",
     "text": [
      "\u001b[32m[1104 17:30:17 @monitor.py:467]\u001b[0m GAN_loss/d_loss: -0.40402\n",
      "\u001b[32m[1104 17:30:17 @monitor.py:467]\u001b[0m GAN_loss/g_loss: -0.43604\n",
      "\u001b[32m[1104 17:30:17 @monitor.py:467]\u001b[0m GAN_loss/gradient_penalty: 0.0069245\n",
      "\u001b[32m[1104 17:30:17 @monitor.py:467]\u001b[0m GAN_loss/gradient_rms: 0.99841\n",
      "\u001b[32m[1104 17:30:17 @monitor.py:467]\u001b[0m GAN_loss/kl_div: 0.074785\n",
      "\u001b[32m[1104 17:30:17 @monitor.py:467]\u001b[0m QueueInput/queue_size: 50\n",
      "\u001b[32m[1104 17:30:17 @base.py:275]\u001b[0m Start Epoch 633 ...\n"
     ]
    },
    {
     "name": "stderr",
     "output_type": "stream",
     "text": [
      "100%|###################################################################################|175/175[00:06<00:00,26.53it/s]"
     ]
    },
    {
     "name": "stdout",
     "output_type": "stream",
     "text": [
      "\u001b[32m[1104 17:30:23 @base.py:285]\u001b[0m Epoch 633 (global_step 132929) finished, time:6.6 seconds.\n",
      "\u001b[32m[1104 17:30:23 @saver.py:79]\u001b[0m Model saved to ../output/Chicago/WGGP_WI_new3/model\\model-132929.\n"
     ]
    },
    {
     "name": "stderr",
     "output_type": "stream",
     "text": [
      "\n"
     ]
    },
    {
     "name": "stdout",
     "output_type": "stream",
     "text": [
      "\u001b[32m[1104 17:30:23 @monitor.py:467]\u001b[0m GAN_loss/d_loss: -0.40805\n",
      "\u001b[32m[1104 17:30:23 @monitor.py:467]\u001b[0m GAN_loss/g_loss: -0.48364\n",
      "\u001b[32m[1104 17:30:23 @monitor.py:467]\u001b[0m GAN_loss/gradient_penalty: 0.0066985\n",
      "\u001b[32m[1104 17:30:23 @monitor.py:467]\u001b[0m GAN_loss/gradient_rms: 0.99827\n",
      "\u001b[32m[1104 17:30:23 @monitor.py:467]\u001b[0m GAN_loss/kl_div: 0.076947\n",
      "\u001b[32m[1104 17:30:23 @monitor.py:467]\u001b[0m QueueInput/queue_size: 50\n",
      "\u001b[32m[1104 17:30:23 @base.py:275]\u001b[0m Start Epoch 634 ...\n"
     ]
    },
    {
     "name": "stderr",
     "output_type": "stream",
     "text": [
      "100%|###################################################################################|175/175[00:06<00:00,26.75it/s]"
     ]
    },
    {
     "name": "stdout",
     "output_type": "stream",
     "text": [
      "\u001b[32m[1104 17:30:30 @base.py:285]\u001b[0m Epoch 634 (global_step 133139) finished, time:6.54 seconds.\n",
      "\u001b[32m[1104 17:30:30 @saver.py:79]\u001b[0m Model saved to ../output/Chicago/WGGP_WI_new3/model\\model-133139.\n"
     ]
    },
    {
     "name": "stderr",
     "output_type": "stream",
     "text": [
      "\n"
     ]
    },
    {
     "name": "stdout",
     "output_type": "stream",
     "text": [
      "\u001b[32m[1104 17:30:30 @monitor.py:467]\u001b[0m GAN_loss/d_loss: -0.36912\n",
      "\u001b[32m[1104 17:30:30 @monitor.py:467]\u001b[0m GAN_loss/g_loss: -0.46793\n",
      "\u001b[32m[1104 17:30:30 @monitor.py:467]\u001b[0m GAN_loss/gradient_penalty: 0.0067325\n",
      "\u001b[32m[1104 17:30:30 @monitor.py:467]\u001b[0m GAN_loss/gradient_rms: 0.99831\n",
      "\u001b[32m[1104 17:30:30 @monitor.py:467]\u001b[0m GAN_loss/kl_div: 0.077156\n",
      "\u001b[32m[1104 17:30:30 @monitor.py:467]\u001b[0m QueueInput/queue_size: 50\n",
      "\u001b[32m[1104 17:30:30 @base.py:275]\u001b[0m Start Epoch 635 ...\n"
     ]
    },
    {
     "name": "stderr",
     "output_type": "stream",
     "text": [
      "100%|###################################################################################|175/175[00:06<00:00,26.81it/s]"
     ]
    },
    {
     "name": "stdout",
     "output_type": "stream",
     "text": [
      "\u001b[32m[1104 17:30:37 @base.py:285]\u001b[0m Epoch 635 (global_step 133349) finished, time:6.53 seconds.\n",
      "\u001b[32m[1104 17:30:37 @saver.py:79]\u001b[0m Model saved to ../output/Chicago/WGGP_WI_new3/model\\model-133349.\n"
     ]
    },
    {
     "name": "stderr",
     "output_type": "stream",
     "text": [
      "\n"
     ]
    },
    {
     "name": "stdout",
     "output_type": "stream",
     "text": [
      "\u001b[32m[1104 17:30:37 @monitor.py:467]\u001b[0m GAN_loss/d_loss: -0.24985\n",
      "\u001b[32m[1104 17:30:37 @monitor.py:467]\u001b[0m GAN_loss/g_loss: -0.45339\n",
      "\u001b[32m[1104 17:30:37 @monitor.py:467]\u001b[0m GAN_loss/gradient_penalty: 0.0062212\n",
      "\u001b[32m[1104 17:30:37 @monitor.py:467]\u001b[0m GAN_loss/gradient_rms: 0.99956\n",
      "\u001b[32m[1104 17:30:37 @monitor.py:467]\u001b[0m GAN_loss/kl_div: 0.073583\n",
      "\u001b[32m[1104 17:30:37 @monitor.py:467]\u001b[0m QueueInput/queue_size: 50\n",
      "\u001b[32m[1104 17:30:37 @base.py:275]\u001b[0m Start Epoch 636 ...\n"
     ]
    },
    {
     "name": "stderr",
     "output_type": "stream",
     "text": [
      "100%|###################################################################################|175/175[00:06<00:00,26.20it/s]"
     ]
    },
    {
     "name": "stdout",
     "output_type": "stream",
     "text": [
      "\u001b[32m[1104 17:30:44 @base.py:285]\u001b[0m Epoch 636 (global_step 133559) finished, time:6.68 seconds.\n",
      "\u001b[32m[1104 17:30:44 @saver.py:79]\u001b[0m Model saved to ../output/Chicago/WGGP_WI_new3/model\\model-133559.\n"
     ]
    },
    {
     "name": "stderr",
     "output_type": "stream",
     "text": [
      "\n"
     ]
    },
    {
     "name": "stdout",
     "output_type": "stream",
     "text": [
      "\u001b[32m[1104 17:30:44 @monitor.py:467]\u001b[0m GAN_loss/d_loss: -0.3263\n",
      "\u001b[32m[1104 17:30:44 @monitor.py:467]\u001b[0m GAN_loss/g_loss: -0.46128\n",
      "\u001b[32m[1104 17:30:44 @monitor.py:467]\u001b[0m GAN_loss/gradient_penalty: 0.006856\n",
      "\u001b[32m[1104 17:30:44 @monitor.py:467]\u001b[0m GAN_loss/gradient_rms: 0.99726\n",
      "\u001b[32m[1104 17:30:44 @monitor.py:467]\u001b[0m GAN_loss/kl_div: 0.076201\n",
      "\u001b[32m[1104 17:30:44 @monitor.py:467]\u001b[0m QueueInput/queue_size: 50\n",
      "\u001b[32m[1104 17:30:44 @base.py:275]\u001b[0m Start Epoch 637 ...\n"
     ]
    },
    {
     "name": "stderr",
     "output_type": "stream",
     "text": [
      "100%|###################################################################################|175/175[00:06<00:00,26.27it/s]"
     ]
    },
    {
     "name": "stdout",
     "output_type": "stream",
     "text": [
      "\u001b[32m[1104 17:30:51 @base.py:285]\u001b[0m Epoch 637 (global_step 133769) finished, time:6.66 seconds.\n",
      "\u001b[32m[1104 17:30:51 @saver.py:79]\u001b[0m Model saved to ../output/Chicago/WGGP_WI_new3/model\\model-133769.\n"
     ]
    },
    {
     "name": "stderr",
     "output_type": "stream",
     "text": [
      "\n"
     ]
    },
    {
     "name": "stdout",
     "output_type": "stream",
     "text": [
      "\u001b[32m[1104 17:30:51 @monitor.py:467]\u001b[0m GAN_loss/d_loss: -0.41343\n",
      "\u001b[32m[1104 17:30:51 @monitor.py:467]\u001b[0m GAN_loss/g_loss: -0.50959\n",
      "\u001b[32m[1104 17:30:51 @monitor.py:467]\u001b[0m GAN_loss/gradient_penalty: 0.0068178\n",
      "\u001b[32m[1104 17:30:51 @monitor.py:467]\u001b[0m GAN_loss/gradient_rms: 1.0004\n",
      "\u001b[32m[1104 17:30:51 @monitor.py:467]\u001b[0m GAN_loss/kl_div: 0.074242\n",
      "\u001b[32m[1104 17:30:51 @monitor.py:467]\u001b[0m QueueInput/queue_size: 50\n",
      "\u001b[32m[1104 17:30:51 @base.py:275]\u001b[0m Start Epoch 638 ...\n"
     ]
    },
    {
     "name": "stderr",
     "output_type": "stream",
     "text": [
      "100%|###################################################################################|175/175[00:06<00:00,25.86it/s]"
     ]
    },
    {
     "name": "stdout",
     "output_type": "stream",
     "text": [
      "\u001b[32m[1104 17:30:58 @base.py:285]\u001b[0m Epoch 638 (global_step 133979) finished, time:6.77 seconds.\n",
      "\u001b[32m[1104 17:30:58 @saver.py:79]\u001b[0m Model saved to ../output/Chicago/WGGP_WI_new3/model\\model-133979.\n"
     ]
    },
    {
     "name": "stderr",
     "output_type": "stream",
     "text": [
      "\n"
     ]
    },
    {
     "name": "stdout",
     "output_type": "stream",
     "text": [
      "\u001b[32m[1104 17:30:58 @monitor.py:467]\u001b[0m GAN_loss/d_loss: -0.50422\n",
      "\u001b[32m[1104 17:30:58 @monitor.py:467]\u001b[0m GAN_loss/g_loss: -0.47839\n",
      "\u001b[32m[1104 17:30:58 @monitor.py:467]\u001b[0m GAN_loss/gradient_penalty: 0.0072082\n",
      "\u001b[32m[1104 17:30:58 @monitor.py:467]\u001b[0m GAN_loss/gradient_rms: 1.0006\n",
      "\u001b[32m[1104 17:30:58 @monitor.py:467]\u001b[0m GAN_loss/kl_div: 0.074136\n",
      "\u001b[32m[1104 17:30:58 @monitor.py:467]\u001b[0m QueueInput/queue_size: 50\n",
      "\u001b[32m[1104 17:30:58 @base.py:275]\u001b[0m Start Epoch 639 ...\n"
     ]
    },
    {
     "name": "stderr",
     "output_type": "stream",
     "text": [
      "100%|###################################################################################|175/175[00:06<00:00,26.60it/s]"
     ]
    },
    {
     "name": "stdout",
     "output_type": "stream",
     "text": [
      "\u001b[32m[1104 17:31:04 @base.py:285]\u001b[0m Epoch 639 (global_step 134189) finished, time:6.58 seconds.\n",
      "\u001b[32m[1104 17:31:04 @saver.py:79]\u001b[0m Model saved to ../output/Chicago/WGGP_WI_new3/model\\model-134189.\n"
     ]
    },
    {
     "name": "stderr",
     "output_type": "stream",
     "text": [
      "\n"
     ]
    },
    {
     "name": "stdout",
     "output_type": "stream",
     "text": [
      "\u001b[32m[1104 17:31:05 @monitor.py:467]\u001b[0m GAN_loss/d_loss: -0.39807\n",
      "\u001b[32m[1104 17:31:05 @monitor.py:467]\u001b[0m GAN_loss/g_loss: -0.49493\n",
      "\u001b[32m[1104 17:31:05 @monitor.py:467]\u001b[0m GAN_loss/gradient_penalty: 0.0071237\n",
      "\u001b[32m[1104 17:31:05 @monitor.py:467]\u001b[0m GAN_loss/gradient_rms: 0.99847\n",
      "\u001b[32m[1104 17:31:05 @monitor.py:467]\u001b[0m GAN_loss/kl_div: 0.071051\n",
      "\u001b[32m[1104 17:31:05 @monitor.py:467]\u001b[0m QueueInput/queue_size: 50\n",
      "\u001b[32m[1104 17:31:05 @base.py:275]\u001b[0m Start Epoch 640 ...\n"
     ]
    },
    {
     "name": "stderr",
     "output_type": "stream",
     "text": [
      "100%|###################################################################################|175/175[00:06<00:00,26.77it/s]"
     ]
    },
    {
     "name": "stdout",
     "output_type": "stream",
     "text": [
      "\u001b[32m[1104 17:31:11 @base.py:285]\u001b[0m Epoch 640 (global_step 134399) finished, time:6.54 seconds.\n",
      "\u001b[32m[1104 17:31:11 @saver.py:79]\u001b[0m Model saved to ../output/Chicago/WGGP_WI_new3/model\\model-134399.\n"
     ]
    },
    {
     "name": "stderr",
     "output_type": "stream",
     "text": [
      "\n"
     ]
    },
    {
     "name": "stdout",
     "output_type": "stream",
     "text": [
      "\u001b[32m[1104 17:31:11 @monitor.py:467]\u001b[0m GAN_loss/d_loss: -0.36987\n",
      "\u001b[32m[1104 17:31:11 @monitor.py:467]\u001b[0m GAN_loss/g_loss: -0.48841\n",
      "\u001b[32m[1104 17:31:11 @monitor.py:467]\u001b[0m GAN_loss/gradient_penalty: 0.0068753\n",
      "\u001b[32m[1104 17:31:11 @monitor.py:467]\u001b[0m GAN_loss/gradient_rms: 0.99805\n",
      "\u001b[32m[1104 17:31:11 @monitor.py:467]\u001b[0m GAN_loss/kl_div: 0.075928\n",
      "\u001b[32m[1104 17:31:11 @monitor.py:467]\u001b[0m QueueInput/queue_size: 50\n",
      "\u001b[32m[1104 17:31:11 @base.py:275]\u001b[0m Start Epoch 641 ...\n"
     ]
    },
    {
     "name": "stderr",
     "output_type": "stream",
     "text": [
      "100%|###################################################################################|175/175[00:06<00:00,26.43it/s]"
     ]
    },
    {
     "name": "stdout",
     "output_type": "stream",
     "text": [
      "\u001b[32m[1104 17:31:18 @base.py:285]\u001b[0m Epoch 641 (global_step 134609) finished, time:6.62 seconds.\n",
      "\u001b[32m[1104 17:31:18 @saver.py:79]\u001b[0m Model saved to ../output/Chicago/WGGP_WI_new3/model\\model-134609.\n"
     ]
    },
    {
     "name": "stderr",
     "output_type": "stream",
     "text": [
      "\n"
     ]
    },
    {
     "name": "stdout",
     "output_type": "stream",
     "text": [
      "\u001b[32m[1104 17:31:18 @monitor.py:467]\u001b[0m GAN_loss/d_loss: -0.49433\n",
      "\u001b[32m[1104 17:31:18 @monitor.py:467]\u001b[0m GAN_loss/g_loss: -0.45118\n",
      "\u001b[32m[1104 17:31:18 @monitor.py:467]\u001b[0m GAN_loss/gradient_penalty: 0.0075306\n",
      "\u001b[32m[1104 17:31:18 @monitor.py:467]\u001b[0m GAN_loss/gradient_rms: 0.99912\n",
      "\u001b[32m[1104 17:31:18 @monitor.py:467]\u001b[0m GAN_loss/kl_div: 0.083342\n",
      "\u001b[32m[1104 17:31:18 @monitor.py:467]\u001b[0m QueueInput/queue_size: 50\n",
      "\u001b[32m[1104 17:31:18 @base.py:275]\u001b[0m Start Epoch 642 ...\n"
     ]
    },
    {
     "name": "stderr",
     "output_type": "stream",
     "text": [
      "100%|###################################################################################|175/175[00:06<00:00,25.77it/s]"
     ]
    },
    {
     "name": "stdout",
     "output_type": "stream",
     "text": [
      "\u001b[32m[1104 17:31:25 @base.py:285]\u001b[0m Epoch 642 (global_step 134819) finished, time:6.79 seconds.\n",
      "\u001b[32m[1104 17:31:25 @saver.py:79]\u001b[0m Model saved to ../output/Chicago/WGGP_WI_new3/model\\model-134819.\n"
     ]
    },
    {
     "name": "stderr",
     "output_type": "stream",
     "text": [
      "\n"
     ]
    },
    {
     "name": "stdout",
     "output_type": "stream",
     "text": [
      "\u001b[32m[1104 17:31:25 @monitor.py:467]\u001b[0m GAN_loss/d_loss: -0.52148\n",
      "\u001b[32m[1104 17:31:25 @monitor.py:467]\u001b[0m GAN_loss/g_loss: -0.40279\n",
      "\u001b[32m[1104 17:31:25 @monitor.py:467]\u001b[0m GAN_loss/gradient_penalty: 0.0069746\n",
      "\u001b[32m[1104 17:31:25 @monitor.py:467]\u001b[0m GAN_loss/gradient_rms: 0.99912\n",
      "\u001b[32m[1104 17:31:25 @monitor.py:467]\u001b[0m GAN_loss/kl_div: 0.072743\n",
      "\u001b[32m[1104 17:31:25 @monitor.py:467]\u001b[0m QueueInput/queue_size: 50\n",
      "\u001b[32m[1104 17:31:25 @base.py:275]\u001b[0m Start Epoch 643 ...\n"
     ]
    },
    {
     "name": "stderr",
     "output_type": "stream",
     "text": [
      "100%|###################################################################################|175/175[00:06<00:00,26.75it/s]"
     ]
    },
    {
     "name": "stdout",
     "output_type": "stream",
     "text": [
      "\u001b[32m[1104 17:31:32 @base.py:285]\u001b[0m Epoch 643 (global_step 135029) finished, time:6.54 seconds.\n"
     ]
    },
    {
     "name": "stderr",
     "output_type": "stream",
     "text": [
      "\n"
     ]
    },
    {
     "name": "stdout",
     "output_type": "stream",
     "text": [
      "\u001b[32m[1104 17:31:32 @saver.py:79]\u001b[0m Model saved to ../output/Chicago/WGGP_WI_new3/model\\model-135029.\n",
      "\u001b[32m[1104 17:31:32 @monitor.py:467]\u001b[0m GAN_loss/d_loss: -0.50772\n",
      "\u001b[32m[1104 17:31:32 @monitor.py:467]\u001b[0m GAN_loss/g_loss: -0.43142\n",
      "\u001b[32m[1104 17:31:32 @monitor.py:467]\u001b[0m GAN_loss/gradient_penalty: 0.0069639\n",
      "\u001b[32m[1104 17:31:32 @monitor.py:467]\u001b[0m GAN_loss/gradient_rms: 0.9992\n",
      "\u001b[32m[1104 17:31:32 @monitor.py:467]\u001b[0m GAN_loss/kl_div: 0.069614\n",
      "\u001b[32m[1104 17:31:32 @monitor.py:467]\u001b[0m QueueInput/queue_size: 50\n",
      "\u001b[32m[1104 17:31:32 @base.py:275]\u001b[0m Start Epoch 644 ...\n"
     ]
    },
    {
     "name": "stderr",
     "output_type": "stream",
     "text": [
      "100%|###################################################################################|175/175[00:06<00:00,26.74it/s]"
     ]
    },
    {
     "name": "stdout",
     "output_type": "stream",
     "text": [
      "\u001b[32m[1104 17:31:38 @base.py:285]\u001b[0m Epoch 644 (global_step 135239) finished, time:6.54 seconds.\n",
      "\u001b[32m[1104 17:31:39 @saver.py:79]\u001b[0m Model saved to ../output/Chicago/WGGP_WI_new3/model\\model-135239.\n"
     ]
    },
    {
     "name": "stderr",
     "output_type": "stream",
     "text": [
      "\n"
     ]
    },
    {
     "name": "stdout",
     "output_type": "stream",
     "text": [
      "\u001b[32m[1104 17:31:39 @monitor.py:467]\u001b[0m GAN_loss/d_loss: -0.61351\n",
      "\u001b[32m[1104 17:31:39 @monitor.py:467]\u001b[0m GAN_loss/g_loss: -0.46987\n",
      "\u001b[32m[1104 17:31:39 @monitor.py:467]\u001b[0m GAN_loss/gradient_penalty: 0.0076937\n",
      "\u001b[32m[1104 17:31:39 @monitor.py:467]\u001b[0m GAN_loss/gradient_rms: 1.001\n",
      "\u001b[32m[1104 17:31:39 @monitor.py:467]\u001b[0m GAN_loss/kl_div: 0.068398\n",
      "\u001b[32m[1104 17:31:39 @monitor.py:467]\u001b[0m QueueInput/queue_size: 50\n",
      "\u001b[32m[1104 17:31:39 @base.py:275]\u001b[0m Start Epoch 645 ...\n"
     ]
    },
    {
     "name": "stderr",
     "output_type": "stream",
     "text": [
      "100%|###################################################################################|175/175[00:06<00:00,26.78it/s]"
     ]
    },
    {
     "name": "stdout",
     "output_type": "stream",
     "text": [
      "\u001b[32m[1104 17:31:45 @base.py:285]\u001b[0m Epoch 645 (global_step 135449) finished, time:6.53 seconds.\n"
     ]
    },
    {
     "name": "stderr",
     "output_type": "stream",
     "text": [
      "\n"
     ]
    },
    {
     "name": "stdout",
     "output_type": "stream",
     "text": [
      "\u001b[32m[1104 17:31:45 @saver.py:79]\u001b[0m Model saved to ../output/Chicago/WGGP_WI_new3/model\\model-135449.\n",
      "\u001b[32m[1104 17:31:45 @monitor.py:467]\u001b[0m GAN_loss/d_loss: -0.45853\n",
      "\u001b[32m[1104 17:31:45 @monitor.py:467]\u001b[0m GAN_loss/g_loss: -0.4712\n",
      "\u001b[32m[1104 17:31:45 @monitor.py:467]\u001b[0m GAN_loss/gradient_penalty: 0.0069542\n",
      "\u001b[32m[1104 17:31:45 @monitor.py:467]\u001b[0m GAN_loss/gradient_rms: 0.99885\n",
      "\u001b[32m[1104 17:31:45 @monitor.py:467]\u001b[0m GAN_loss/kl_div: 0.073098\n",
      "\u001b[32m[1104 17:31:45 @monitor.py:467]\u001b[0m QueueInput/queue_size: 50\n",
      "\u001b[32m[1104 17:31:45 @base.py:275]\u001b[0m Start Epoch 646 ...\n"
     ]
    },
    {
     "name": "stderr",
     "output_type": "stream",
     "text": [
      "100%|###################################################################################|175/175[00:06<00:00,26.76it/s]"
     ]
    },
    {
     "name": "stdout",
     "output_type": "stream",
     "text": [
      "\u001b[32m[1104 17:31:52 @base.py:285]\u001b[0m Epoch 646 (global_step 135659) finished, time:6.54 seconds.\n",
      "\u001b[32m[1104 17:31:52 @saver.py:79]\u001b[0m Model saved to ../output/Chicago/WGGP_WI_new3/model\\model-135659.\n"
     ]
    },
    {
     "name": "stderr",
     "output_type": "stream",
     "text": [
      "\n"
     ]
    },
    {
     "name": "stdout",
     "output_type": "stream",
     "text": [
      "\u001b[32m[1104 17:31:52 @monitor.py:467]\u001b[0m GAN_loss/d_loss: -0.40576\n",
      "\u001b[32m[1104 17:31:52 @monitor.py:467]\u001b[0m GAN_loss/g_loss: -0.51965\n",
      "\u001b[32m[1104 17:31:52 @monitor.py:467]\u001b[0m GAN_loss/gradient_penalty: 0.0068265\n",
      "\u001b[32m[1104 17:31:52 @monitor.py:467]\u001b[0m GAN_loss/gradient_rms: 0.99895\n",
      "\u001b[32m[1104 17:31:52 @monitor.py:467]\u001b[0m GAN_loss/kl_div: 0.081735\n",
      "\u001b[32m[1104 17:31:52 @monitor.py:467]\u001b[0m QueueInput/queue_size: 50\n",
      "\u001b[32m[1104 17:31:52 @base.py:275]\u001b[0m Start Epoch 647 ...\n"
     ]
    },
    {
     "name": "stderr",
     "output_type": "stream",
     "text": [
      "100%|###################################################################################|175/175[00:06<00:00,26.19it/s]"
     ]
    },
    {
     "name": "stdout",
     "output_type": "stream",
     "text": [
      "\u001b[32m[1104 17:31:59 @base.py:285]\u001b[0m Epoch 647 (global_step 135869) finished, time:6.68 seconds.\n"
     ]
    },
    {
     "name": "stderr",
     "output_type": "stream",
     "text": [
      "\n"
     ]
    },
    {
     "name": "stdout",
     "output_type": "stream",
     "text": [
      "\u001b[32m[1104 17:31:59 @saver.py:79]\u001b[0m Model saved to ../output/Chicago/WGGP_WI_new3/model\\model-135869.\n",
      "\u001b[32m[1104 17:31:59 @monitor.py:467]\u001b[0m GAN_loss/d_loss: -0.46199\n",
      "\u001b[32m[1104 17:31:59 @monitor.py:467]\u001b[0m GAN_loss/g_loss: -0.51041\n",
      "\u001b[32m[1104 17:31:59 @monitor.py:467]\u001b[0m GAN_loss/gradient_penalty: 0.0070314\n",
      "\u001b[32m[1104 17:31:59 @monitor.py:467]\u001b[0m GAN_loss/gradient_rms: 1.0001\n",
      "\u001b[32m[1104 17:31:59 @monitor.py:467]\u001b[0m GAN_loss/kl_div: 0.087904\n",
      "\u001b[32m[1104 17:31:59 @monitor.py:467]\u001b[0m QueueInput/queue_size: 50\n",
      "\u001b[32m[1104 17:31:59 @base.py:275]\u001b[0m Start Epoch 648 ...\n"
     ]
    },
    {
     "name": "stderr",
     "output_type": "stream",
     "text": [
      "100%|###################################################################################|175/175[00:06<00:00,25.97it/s]"
     ]
    },
    {
     "name": "stdout",
     "output_type": "stream",
     "text": [
      "\u001b[32m[1104 17:32:06 @base.py:285]\u001b[0m Epoch 648 (global_step 136079) finished, time:6.74 seconds.\n",
      "\u001b[32m[1104 17:32:06 @saver.py:79]\u001b[0m Model saved to ../output/Chicago/WGGP_WI_new3/model\\model-136079.\n"
     ]
    },
    {
     "name": "stderr",
     "output_type": "stream",
     "text": [
      "\n"
     ]
    },
    {
     "name": "stdout",
     "output_type": "stream",
     "text": [
      "\u001b[32m[1104 17:32:06 @monitor.py:467]\u001b[0m GAN_loss/d_loss: -0.45764\n",
      "\u001b[32m[1104 17:32:06 @monitor.py:467]\u001b[0m GAN_loss/g_loss: -0.47745\n",
      "\u001b[32m[1104 17:32:06 @monitor.py:467]\u001b[0m GAN_loss/gradient_penalty: 0.0068595\n",
      "\u001b[32m[1104 17:32:06 @monitor.py:467]\u001b[0m GAN_loss/gradient_rms: 0.99866\n",
      "\u001b[32m[1104 17:32:06 @monitor.py:467]\u001b[0m GAN_loss/kl_div: 0.098757\n",
      "\u001b[32m[1104 17:32:06 @monitor.py:467]\u001b[0m QueueInput/queue_size: 50\n",
      "\u001b[32m[1104 17:32:06 @base.py:275]\u001b[0m Start Epoch 649 ...\n"
     ]
    },
    {
     "name": "stderr",
     "output_type": "stream",
     "text": [
      "100%|###################################################################################|175/175[00:06<00:00,25.64it/s]"
     ]
    },
    {
     "name": "stdout",
     "output_type": "stream",
     "text": [
      "\u001b[32m[1104 17:32:13 @base.py:285]\u001b[0m Epoch 649 (global_step 136289) finished, time:6.83 seconds.\n",
      "\u001b[32m[1104 17:32:13 @saver.py:79]\u001b[0m Model saved to ../output/Chicago/WGGP_WI_new3/model\\model-136289.\n"
     ]
    },
    {
     "name": "stderr",
     "output_type": "stream",
     "text": [
      "\n"
     ]
    },
    {
     "name": "stdout",
     "output_type": "stream",
     "text": [
      "\u001b[32m[1104 17:32:13 @monitor.py:467]\u001b[0m GAN_loss/d_loss: -0.46424\n",
      "\u001b[32m[1104 17:32:13 @monitor.py:467]\u001b[0m GAN_loss/g_loss: -0.4456\n",
      "\u001b[32m[1104 17:32:13 @monitor.py:467]\u001b[0m GAN_loss/gradient_penalty: 0.0066628\n",
      "\u001b[32m[1104 17:32:13 @monitor.py:467]\u001b[0m GAN_loss/gradient_rms: 0.99975\n",
      "\u001b[32m[1104 17:32:13 @monitor.py:467]\u001b[0m GAN_loss/kl_div: 0.092321\n",
      "\u001b[32m[1104 17:32:13 @monitor.py:467]\u001b[0m QueueInput/queue_size: 50\n",
      "\u001b[32m[1104 17:32:13 @base.py:275]\u001b[0m Start Epoch 650 ...\n"
     ]
    },
    {
     "name": "stderr",
     "output_type": "stream",
     "text": [
      "100%|###################################################################################|175/175[00:06<00:00,26.06it/s]"
     ]
    },
    {
     "name": "stdout",
     "output_type": "stream",
     "text": [
      "\u001b[32m[1104 17:32:20 @base.py:285]\u001b[0m Epoch 650 (global_step 136499) finished, time:6.72 seconds.\n",
      "\u001b[32m[1104 17:32:20 @saver.py:79]\u001b[0m Model saved to ../output/Chicago/WGGP_WI_new3/model\\model-136499.\n"
     ]
    },
    {
     "name": "stderr",
     "output_type": "stream",
     "text": [
      "\n"
     ]
    },
    {
     "name": "stdout",
     "output_type": "stream",
     "text": [
      "\u001b[32m[1104 17:32:20 @monitor.py:467]\u001b[0m GAN_loss/d_loss: -0.46004\n",
      "\u001b[32m[1104 17:32:20 @monitor.py:467]\u001b[0m GAN_loss/g_loss: -0.47932\n",
      "\u001b[32m[1104 17:32:20 @monitor.py:467]\u001b[0m GAN_loss/gradient_penalty: 0.0066765\n",
      "\u001b[32m[1104 17:32:20 @monitor.py:467]\u001b[0m GAN_loss/gradient_rms: 0.99832\n",
      "\u001b[32m[1104 17:32:20 @monitor.py:467]\u001b[0m GAN_loss/kl_div: 0.09326\n",
      "\u001b[32m[1104 17:32:20 @monitor.py:467]\u001b[0m QueueInput/queue_size: 50\n",
      "\u001b[32m[1104 17:32:20 @base.py:275]\u001b[0m Start Epoch 651 ...\n"
     ]
    },
    {
     "name": "stderr",
     "output_type": "stream",
     "text": [
      "100%|###################################################################################|175/175[00:06<00:00,26.74it/s]"
     ]
    },
    {
     "name": "stdout",
     "output_type": "stream",
     "text": [
      "\u001b[32m[1104 17:32:27 @base.py:285]\u001b[0m Epoch 651 (global_step 136709) finished, time:6.54 seconds.\n",
      "\u001b[32m[1104 17:32:27 @saver.py:79]\u001b[0m Model saved to ../output/Chicago/WGGP_WI_new3/model\\model-136709.\n"
     ]
    },
    {
     "name": "stderr",
     "output_type": "stream",
     "text": [
      "\n"
     ]
    },
    {
     "name": "stdout",
     "output_type": "stream",
     "text": [
      "\u001b[32m[1104 17:32:27 @monitor.py:467]\u001b[0m GAN_loss/d_loss: -0.4156\n",
      "\u001b[32m[1104 17:32:27 @monitor.py:467]\u001b[0m GAN_loss/g_loss: -0.43667\n",
      "\u001b[32m[1104 17:32:27 @monitor.py:467]\u001b[0m GAN_loss/gradient_penalty: 0.0069309\n",
      "\u001b[32m[1104 17:32:27 @monitor.py:467]\u001b[0m GAN_loss/gradient_rms: 0.99624\n",
      "\u001b[32m[1104 17:32:27 @monitor.py:467]\u001b[0m GAN_loss/kl_div: 0.093864\n",
      "\u001b[32m[1104 17:32:27 @monitor.py:467]\u001b[0m QueueInput/queue_size: 50\n",
      "\u001b[32m[1104 17:32:27 @base.py:275]\u001b[0m Start Epoch 652 ...\n"
     ]
    },
    {
     "name": "stderr",
     "output_type": "stream",
     "text": [
      "100%|###################################################################################|175/175[00:06<00:00,26.71it/s]"
     ]
    },
    {
     "name": "stdout",
     "output_type": "stream",
     "text": [
      "\u001b[32m[1104 17:32:33 @base.py:285]\u001b[0m Epoch 652 (global_step 136919) finished, time:6.55 seconds.\n"
     ]
    },
    {
     "name": "stderr",
     "output_type": "stream",
     "text": [
      "\n"
     ]
    },
    {
     "name": "stdout",
     "output_type": "stream",
     "text": [
      "\u001b[32m[1104 17:32:34 @saver.py:79]\u001b[0m Model saved to ../output/Chicago/WGGP_WI_new3/model\\model-136919.\n",
      "\u001b[32m[1104 17:32:34 @monitor.py:467]\u001b[0m GAN_loss/d_loss: -0.3825\n",
      "\u001b[32m[1104 17:32:34 @monitor.py:467]\u001b[0m GAN_loss/g_loss: -0.45878\n",
      "\u001b[32m[1104 17:32:34 @monitor.py:467]\u001b[0m GAN_loss/gradient_penalty: 0.0064909\n",
      "\u001b[32m[1104 17:32:34 @monitor.py:467]\u001b[0m GAN_loss/gradient_rms: 0.99755\n",
      "\u001b[32m[1104 17:32:34 @monitor.py:467]\u001b[0m GAN_loss/kl_div: 0.08578\n",
      "\u001b[32m[1104 17:32:34 @monitor.py:467]\u001b[0m QueueInput/queue_size: 50\n",
      "\u001b[32m[1104 17:32:34 @base.py:275]\u001b[0m Start Epoch 653 ...\n"
     ]
    },
    {
     "name": "stderr",
     "output_type": "stream",
     "text": [
      "100%|###################################################################################|175/175[00:06<00:00,26.71it/s]"
     ]
    },
    {
     "name": "stdout",
     "output_type": "stream",
     "text": [
      "\u001b[32m[1104 17:32:40 @base.py:285]\u001b[0m Epoch 653 (global_step 137129) finished, time:6.55 seconds.\n"
     ]
    },
    {
     "name": "stderr",
     "output_type": "stream",
     "text": [
      "\n"
     ]
    },
    {
     "name": "stdout",
     "output_type": "stream",
     "text": [
      "\u001b[32m[1104 17:32:40 @saver.py:79]\u001b[0m Model saved to ../output/Chicago/WGGP_WI_new3/model\\model-137129.\n",
      "\u001b[32m[1104 17:32:40 @monitor.py:467]\u001b[0m GAN_loss/d_loss: -0.36903\n",
      "\u001b[32m[1104 17:32:40 @monitor.py:467]\u001b[0m GAN_loss/g_loss: -0.44547\n",
      "\u001b[32m[1104 17:32:40 @monitor.py:467]\u001b[0m GAN_loss/gradient_penalty: 0.006973\n",
      "\u001b[32m[1104 17:32:40 @monitor.py:467]\u001b[0m GAN_loss/gradient_rms: 0.99818\n",
      "\u001b[32m[1104 17:32:40 @monitor.py:467]\u001b[0m GAN_loss/kl_div: 0.081979\n",
      "\u001b[32m[1104 17:32:40 @monitor.py:467]\u001b[0m QueueInput/queue_size: 50\n",
      "\u001b[32m[1104 17:32:40 @base.py:275]\u001b[0m Start Epoch 654 ...\n"
     ]
    },
    {
     "name": "stderr",
     "output_type": "stream",
     "text": [
      "100%|###################################################################################|175/175[00:06<00:00,26.81it/s]"
     ]
    },
    {
     "name": "stdout",
     "output_type": "stream",
     "text": [
      "\u001b[32m[1104 17:32:47 @base.py:285]\u001b[0m Epoch 654 (global_step 137339) finished, time:6.53 seconds.\n",
      "\u001b[32m[1104 17:32:47 @saver.py:79]\u001b[0m Model saved to ../output/Chicago/WGGP_WI_new3/model\\model-137339.\n"
     ]
    },
    {
     "name": "stderr",
     "output_type": "stream",
     "text": [
      "\n"
     ]
    },
    {
     "name": "stdout",
     "output_type": "stream",
     "text": [
      "\u001b[32m[1104 17:32:47 @monitor.py:467]\u001b[0m GAN_loss/d_loss: -0.46971\n",
      "\u001b[32m[1104 17:32:47 @monitor.py:467]\u001b[0m GAN_loss/g_loss: -0.43756\n",
      "\u001b[32m[1104 17:32:47 @monitor.py:467]\u001b[0m GAN_loss/gradient_penalty: 0.0066826\n",
      "\u001b[32m[1104 17:32:47 @monitor.py:467]\u001b[0m GAN_loss/gradient_rms: 0.99973\n",
      "\u001b[32m[1104 17:32:47 @monitor.py:467]\u001b[0m GAN_loss/kl_div: 0.081275\n",
      "\u001b[32m[1104 17:32:47 @monitor.py:467]\u001b[0m QueueInput/queue_size: 50\n",
      "\u001b[32m[1104 17:32:47 @base.py:275]\u001b[0m Start Epoch 655 ...\n"
     ]
    },
    {
     "name": "stderr",
     "output_type": "stream",
     "text": [
      "100%|###################################################################################|175/175[00:06<00:00,26.77it/s]"
     ]
    },
    {
     "name": "stdout",
     "output_type": "stream",
     "text": [
      "\u001b[32m[1104 17:32:54 @base.py:285]\u001b[0m Epoch 655 (global_step 137549) finished, time:6.54 seconds.\n",
      "\u001b[32m[1104 17:32:54 @saver.py:79]\u001b[0m Model saved to ../output/Chicago/WGGP_WI_new3/model\\model-137549.\n"
     ]
    },
    {
     "name": "stderr",
     "output_type": "stream",
     "text": [
      "\n"
     ]
    },
    {
     "name": "stdout",
     "output_type": "stream",
     "text": [
      "\u001b[32m[1104 17:32:54 @monitor.py:467]\u001b[0m GAN_loss/d_loss: -0.41791\n",
      "\u001b[32m[1104 17:32:54 @monitor.py:467]\u001b[0m GAN_loss/g_loss: -0.4031\n",
      "\u001b[32m[1104 17:32:54 @monitor.py:467]\u001b[0m GAN_loss/gradient_penalty: 0.0069212\n",
      "\u001b[32m[1104 17:32:54 @monitor.py:467]\u001b[0m GAN_loss/gradient_rms: 0.99929\n",
      "\u001b[32m[1104 17:32:54 @monitor.py:467]\u001b[0m GAN_loss/kl_div: 0.080444\n",
      "\u001b[32m[1104 17:32:54 @monitor.py:467]\u001b[0m QueueInput/queue_size: 50\n",
      "\u001b[32m[1104 17:32:54 @base.py:275]\u001b[0m Start Epoch 656 ...\n"
     ]
    },
    {
     "name": "stderr",
     "output_type": "stream",
     "text": [
      "100%|###################################################################################|175/175[00:06<00:00,26.71it/s]"
     ]
    },
    {
     "name": "stdout",
     "output_type": "stream",
     "text": [
      "\u001b[32m[1104 17:33:01 @base.py:285]\u001b[0m Epoch 656 (global_step 137759) finished, time:6.55 seconds.\n"
     ]
    },
    {
     "name": "stderr",
     "output_type": "stream",
     "text": [
      "\n"
     ]
    },
    {
     "name": "stdout",
     "output_type": "stream",
     "text": [
      "\u001b[32m[1104 17:33:01 @saver.py:79]\u001b[0m Model saved to ../output/Chicago/WGGP_WI_new3/model\\model-137759.\n",
      "\u001b[32m[1104 17:33:01 @monitor.py:467]\u001b[0m GAN_loss/d_loss: -0.51997\n",
      "\u001b[32m[1104 17:33:01 @monitor.py:467]\u001b[0m GAN_loss/g_loss: -0.38261\n",
      "\u001b[32m[1104 17:33:01 @monitor.py:467]\u001b[0m GAN_loss/gradient_penalty: 0.006832\n",
      "\u001b[32m[1104 17:33:01 @monitor.py:467]\u001b[0m GAN_loss/gradient_rms: 0.99698\n",
      "\u001b[32m[1104 17:33:01 @monitor.py:467]\u001b[0m GAN_loss/kl_div: 0.076154\n",
      "\u001b[32m[1104 17:33:01 @monitor.py:467]\u001b[0m QueueInput/queue_size: 50\n",
      "\u001b[32m[1104 17:33:01 @base.py:275]\u001b[0m Start Epoch 657 ...\n"
     ]
    },
    {
     "name": "stderr",
     "output_type": "stream",
     "text": [
      "100%|###################################################################################|175/175[00:06<00:00,26.85it/s]"
     ]
    },
    {
     "name": "stdout",
     "output_type": "stream",
     "text": [
      "\u001b[32m[1104 17:33:07 @base.py:285]\u001b[0m Epoch 657 (global_step 137969) finished, time:6.52 seconds.\n"
     ]
    },
    {
     "name": "stderr",
     "output_type": "stream",
     "text": [
      "\n"
     ]
    },
    {
     "name": "stdout",
     "output_type": "stream",
     "text": [
      "\u001b[32m[1104 17:33:07 @saver.py:79]\u001b[0m Model saved to ../output/Chicago/WGGP_WI_new3/model\\model-137969.\n",
      "\u001b[32m[1104 17:33:07 @monitor.py:467]\u001b[0m GAN_loss/d_loss: -0.41017\n",
      "\u001b[32m[1104 17:33:07 @monitor.py:467]\u001b[0m GAN_loss/g_loss: -0.41137\n",
      "\u001b[32m[1104 17:33:07 @monitor.py:467]\u001b[0m GAN_loss/gradient_penalty: 0.0065843\n",
      "\u001b[32m[1104 17:33:07 @monitor.py:467]\u001b[0m GAN_loss/gradient_rms: 0.99817\n",
      "\u001b[32m[1104 17:33:07 @monitor.py:467]\u001b[0m GAN_loss/kl_div: 0.081121\n",
      "\u001b[32m[1104 17:33:07 @monitor.py:467]\u001b[0m QueueInput/queue_size: 50\n",
      "\u001b[32m[1104 17:33:07 @base.py:275]\u001b[0m Start Epoch 658 ...\n"
     ]
    },
    {
     "name": "stderr",
     "output_type": "stream",
     "text": [
      "100%|###################################################################################|175/175[00:06<00:00,26.44it/s]"
     ]
    },
    {
     "name": "stdout",
     "output_type": "stream",
     "text": [
      "\u001b[32m[1104 17:33:14 @base.py:285]\u001b[0m Epoch 658 (global_step 138179) finished, time:6.62 seconds.\n"
     ]
    },
    {
     "name": "stderr",
     "output_type": "stream",
     "text": [
      "\n"
     ]
    },
    {
     "name": "stdout",
     "output_type": "stream",
     "text": [
      "\u001b[32m[1104 17:33:14 @saver.py:79]\u001b[0m Model saved to ../output/Chicago/WGGP_WI_new3/model\\model-138179.\n",
      "\u001b[32m[1104 17:33:14 @monitor.py:467]\u001b[0m GAN_loss/d_loss: -0.47083\n",
      "\u001b[32m[1104 17:33:14 @monitor.py:467]\u001b[0m GAN_loss/g_loss: -0.41168\n",
      "\u001b[32m[1104 17:33:14 @monitor.py:467]\u001b[0m GAN_loss/gradient_penalty: 0.0073362\n",
      "\u001b[32m[1104 17:33:14 @monitor.py:467]\u001b[0m GAN_loss/gradient_rms: 0.99981\n",
      "\u001b[32m[1104 17:33:14 @monitor.py:467]\u001b[0m GAN_loss/kl_div: 0.091577\n",
      "\u001b[32m[1104 17:33:14 @monitor.py:467]\u001b[0m QueueInput/queue_size: 50\n",
      "\u001b[32m[1104 17:33:14 @base.py:275]\u001b[0m Start Epoch 659 ...\n"
     ]
    },
    {
     "name": "stderr",
     "output_type": "stream",
     "text": [
      "100%|###################################################################################|175/175[00:06<00:00,26.70it/s]"
     ]
    },
    {
     "name": "stdout",
     "output_type": "stream",
     "text": [
      "\u001b[32m[1104 17:33:21 @base.py:285]\u001b[0m Epoch 659 (global_step 138389) finished, time:6.56 seconds.\n"
     ]
    },
    {
     "name": "stderr",
     "output_type": "stream",
     "text": [
      "\n"
     ]
    },
    {
     "name": "stdout",
     "output_type": "stream",
     "text": [
      "\u001b[32m[1104 17:33:21 @saver.py:79]\u001b[0m Model saved to ../output/Chicago/WGGP_WI_new3/model\\model-138389.\n",
      "\u001b[32m[1104 17:33:21 @monitor.py:467]\u001b[0m GAN_loss/d_loss: -0.44033\n",
      "\u001b[32m[1104 17:33:21 @monitor.py:467]\u001b[0m GAN_loss/g_loss: -0.41393\n",
      "\u001b[32m[1104 17:33:21 @monitor.py:467]\u001b[0m GAN_loss/gradient_penalty: 0.0068652\n",
      "\u001b[32m[1104 17:33:21 @monitor.py:467]\u001b[0m GAN_loss/gradient_rms: 0.9989\n",
      "\u001b[32m[1104 17:33:21 @monitor.py:467]\u001b[0m GAN_loss/kl_div: 0.08641\n",
      "\u001b[32m[1104 17:33:21 @monitor.py:467]\u001b[0m QueueInput/queue_size: 50\n",
      "\u001b[32m[1104 17:33:21 @base.py:275]\u001b[0m Start Epoch 660 ...\n"
     ]
    },
    {
     "name": "stderr",
     "output_type": "stream",
     "text": [
      "100%|###################################################################################|175/175[00:06<00:00,26.83it/s]"
     ]
    },
    {
     "name": "stdout",
     "output_type": "stream",
     "text": [
      "\u001b[32m[1104 17:33:28 @base.py:285]\u001b[0m Epoch 660 (global_step 138599) finished, time:6.52 seconds.\n"
     ]
    },
    {
     "name": "stderr",
     "output_type": "stream",
     "text": [
      "\n"
     ]
    },
    {
     "name": "stdout",
     "output_type": "stream",
     "text": [
      "\u001b[32m[1104 17:33:28 @saver.py:79]\u001b[0m Model saved to ../output/Chicago/WGGP_WI_new3/model\\model-138599.\n",
      "\u001b[32m[1104 17:33:28 @monitor.py:467]\u001b[0m GAN_loss/d_loss: -0.45646\n",
      "\u001b[32m[1104 17:33:28 @monitor.py:467]\u001b[0m GAN_loss/g_loss: -0.38457\n",
      "\u001b[32m[1104 17:33:28 @monitor.py:467]\u001b[0m GAN_loss/gradient_penalty: 0.0069749\n",
      "\u001b[32m[1104 17:33:28 @monitor.py:467]\u001b[0m GAN_loss/gradient_rms: 0.999\n",
      "\u001b[32m[1104 17:33:28 @monitor.py:467]\u001b[0m GAN_loss/kl_div: 0.068088\n",
      "\u001b[32m[1104 17:33:28 @monitor.py:467]\u001b[0m QueueInput/queue_size: 50\n",
      "\u001b[32m[1104 17:33:28 @base.py:275]\u001b[0m Start Epoch 661 ...\n"
     ]
    },
    {
     "name": "stderr",
     "output_type": "stream",
     "text": [
      "100%|###################################################################################|175/175[00:06<00:00,26.70it/s]"
     ]
    },
    {
     "name": "stdout",
     "output_type": "stream",
     "text": [
      "\u001b[32m[1104 17:33:34 @base.py:285]\u001b[0m Epoch 661 (global_step 138809) finished, time:6.55 seconds.\n"
     ]
    },
    {
     "name": "stderr",
     "output_type": "stream",
     "text": [
      "\n"
     ]
    },
    {
     "name": "stdout",
     "output_type": "stream",
     "text": [
      "\u001b[32m[1104 17:33:35 @saver.py:79]\u001b[0m Model saved to ../output/Chicago/WGGP_WI_new3/model\\model-138809.\n",
      "\u001b[32m[1104 17:33:35 @monitor.py:467]\u001b[0m GAN_loss/d_loss: -0.4219\n",
      "\u001b[32m[1104 17:33:35 @monitor.py:467]\u001b[0m GAN_loss/g_loss: -0.39339\n",
      "\u001b[32m[1104 17:33:35 @monitor.py:467]\u001b[0m GAN_loss/gradient_penalty: 0.0068136\n",
      "\u001b[32m[1104 17:33:35 @monitor.py:467]\u001b[0m GAN_loss/gradient_rms: 0.99956\n",
      "\u001b[32m[1104 17:33:35 @monitor.py:467]\u001b[0m GAN_loss/kl_div: 0.075511\n",
      "\u001b[32m[1104 17:33:35 @monitor.py:467]\u001b[0m QueueInput/queue_size: 50\n",
      "\u001b[32m[1104 17:33:35 @base.py:275]\u001b[0m Start Epoch 662 ...\n"
     ]
    },
    {
     "name": "stderr",
     "output_type": "stream",
     "text": [
      "100%|###################################################################################|175/175[00:06<00:00,26.80it/s]"
     ]
    },
    {
     "name": "stdout",
     "output_type": "stream",
     "text": [
      "\u001b[32m[1104 17:33:41 @base.py:285]\u001b[0m Epoch 662 (global_step 139019) finished, time:6.53 seconds.\n"
     ]
    },
    {
     "name": "stderr",
     "output_type": "stream",
     "text": [
      "\n"
     ]
    },
    {
     "name": "stdout",
     "output_type": "stream",
     "text": [
      "\u001b[32m[1104 17:33:41 @saver.py:79]\u001b[0m Model saved to ../output/Chicago/WGGP_WI_new3/model\\model-139019.\n",
      "\u001b[32m[1104 17:33:41 @monitor.py:467]\u001b[0m GAN_loss/d_loss: -0.37302\n",
      "\u001b[32m[1104 17:33:41 @monitor.py:467]\u001b[0m GAN_loss/g_loss: -0.41336\n",
      "\u001b[32m[1104 17:33:41 @monitor.py:467]\u001b[0m GAN_loss/gradient_penalty: 0.006427\n",
      "\u001b[32m[1104 17:33:41 @monitor.py:467]\u001b[0m GAN_loss/gradient_rms: 0.99792\n",
      "\u001b[32m[1104 17:33:41 @monitor.py:467]\u001b[0m GAN_loss/kl_div: 0.079407\n",
      "\u001b[32m[1104 17:33:41 @monitor.py:467]\u001b[0m QueueInput/queue_size: 50\n",
      "\u001b[32m[1104 17:33:41 @base.py:275]\u001b[0m Start Epoch 663 ...\n"
     ]
    },
    {
     "name": "stderr",
     "output_type": "stream",
     "text": [
      "100%|###################################################################################|175/175[00:06<00:00,26.79it/s]"
     ]
    },
    {
     "name": "stdout",
     "output_type": "stream",
     "text": [
      "\u001b[32m[1104 17:33:48 @base.py:285]\u001b[0m Epoch 663 (global_step 139229) finished, time:6.53 seconds.\n"
     ]
    },
    {
     "name": "stderr",
     "output_type": "stream",
     "text": [
      "\n"
     ]
    },
    {
     "name": "stdout",
     "output_type": "stream",
     "text": [
      "\u001b[32m[1104 17:33:48 @saver.py:79]\u001b[0m Model saved to ../output/Chicago/WGGP_WI_new3/model\\model-139229.\n",
      "\u001b[32m[1104 17:33:48 @monitor.py:467]\u001b[0m GAN_loss/d_loss: -0.27527\n",
      "\u001b[32m[1104 17:33:48 @monitor.py:467]\u001b[0m GAN_loss/g_loss: -0.4311\n",
      "\u001b[32m[1104 17:33:48 @monitor.py:467]\u001b[0m GAN_loss/gradient_penalty: 0.0066653\n",
      "\u001b[32m[1104 17:33:48 @monitor.py:467]\u001b[0m GAN_loss/gradient_rms: 0.99721\n",
      "\u001b[32m[1104 17:33:48 @monitor.py:467]\u001b[0m GAN_loss/kl_div: 0.076607\n",
      "\u001b[32m[1104 17:33:48 @monitor.py:467]\u001b[0m QueueInput/queue_size: 50\n",
      "\u001b[32m[1104 17:33:48 @base.py:275]\u001b[0m Start Epoch 664 ...\n"
     ]
    },
    {
     "name": "stderr",
     "output_type": "stream",
     "text": [
      "100%|###################################################################################|175/175[00:06<00:00,26.77it/s]"
     ]
    },
    {
     "name": "stdout",
     "output_type": "stream",
     "text": [
      "\u001b[32m[1104 17:33:55 @base.py:285]\u001b[0m Epoch 664 (global_step 139439) finished, time:6.54 seconds.\n"
     ]
    },
    {
     "name": "stderr",
     "output_type": "stream",
     "text": [
      "\n"
     ]
    },
    {
     "name": "stdout",
     "output_type": "stream",
     "text": [
      "\u001b[32m[1104 17:33:55 @saver.py:79]\u001b[0m Model saved to ../output/Chicago/WGGP_WI_new3/model\\model-139439.\n",
      "\u001b[32m[1104 17:33:55 @monitor.py:467]\u001b[0m GAN_loss/d_loss: -0.2727\n",
      "\u001b[32m[1104 17:33:55 @monitor.py:467]\u001b[0m GAN_loss/g_loss: -0.43641\n",
      "\u001b[32m[1104 17:33:55 @monitor.py:467]\u001b[0m GAN_loss/gradient_penalty: 0.0065896\n",
      "\u001b[32m[1104 17:33:55 @monitor.py:467]\u001b[0m GAN_loss/gradient_rms: 1\n",
      "\u001b[32m[1104 17:33:55 @monitor.py:467]\u001b[0m GAN_loss/kl_div: 0.079819\n",
      "\u001b[32m[1104 17:33:55 @monitor.py:467]\u001b[0m QueueInput/queue_size: 50\n",
      "\u001b[32m[1104 17:33:55 @base.py:275]\u001b[0m Start Epoch 665 ...\n"
     ]
    },
    {
     "name": "stderr",
     "output_type": "stream",
     "text": [
      "100%|###################################################################################|175/175[00:06<00:00,26.79it/s]"
     ]
    },
    {
     "name": "stdout",
     "output_type": "stream",
     "text": [
      "\u001b[32m[1104 17:34:01 @base.py:285]\u001b[0m Epoch 665 (global_step 139649) finished, time:6.53 seconds.\n",
      "\u001b[32m[1104 17:34:02 @saver.py:79]\u001b[0m Model saved to ../output/Chicago/WGGP_WI_new3/model\\model-139649.\n"
     ]
    },
    {
     "name": "stderr",
     "output_type": "stream",
     "text": [
      "\n"
     ]
    },
    {
     "name": "stdout",
     "output_type": "stream",
     "text": [
      "\u001b[32m[1104 17:34:02 @monitor.py:467]\u001b[0m GAN_loss/d_loss: -0.34728\n",
      "\u001b[32m[1104 17:34:02 @monitor.py:467]\u001b[0m GAN_loss/g_loss: -0.45616\n",
      "\u001b[32m[1104 17:34:02 @monitor.py:467]\u001b[0m GAN_loss/gradient_penalty: 0.0065208\n",
      "\u001b[32m[1104 17:34:02 @monitor.py:467]\u001b[0m GAN_loss/gradient_rms: 0.99821\n",
      "\u001b[32m[1104 17:34:02 @monitor.py:467]\u001b[0m GAN_loss/kl_div: 0.08338\n",
      "\u001b[32m[1104 17:34:02 @monitor.py:467]\u001b[0m QueueInput/queue_size: 50\n",
      "\u001b[32m[1104 17:34:02 @base.py:275]\u001b[0m Start Epoch 666 ...\n"
     ]
    },
    {
     "name": "stderr",
     "output_type": "stream",
     "text": [
      "100%|###################################################################################|175/175[00:06<00:00,26.65it/s]"
     ]
    },
    {
     "name": "stdout",
     "output_type": "stream",
     "text": [
      "\u001b[32m[1104 17:34:08 @base.py:285]\u001b[0m Epoch 666 (global_step 139859) finished, time:6.57 seconds.\n",
      "\u001b[32m[1104 17:34:08 @saver.py:79]\u001b[0m Model saved to ../output/Chicago/WGGP_WI_new3/model\\model-139859.\n"
     ]
    },
    {
     "name": "stderr",
     "output_type": "stream",
     "text": [
      "\n"
     ]
    },
    {
     "name": "stdout",
     "output_type": "stream",
     "text": [
      "\u001b[32m[1104 17:34:08 @monitor.py:467]\u001b[0m GAN_loss/d_loss: -0.27598\n",
      "\u001b[32m[1104 17:34:08 @monitor.py:467]\u001b[0m GAN_loss/g_loss: -0.42424\n",
      "\u001b[32m[1104 17:34:08 @monitor.py:467]\u001b[0m GAN_loss/gradient_penalty: 0.0065227\n",
      "\u001b[32m[1104 17:34:08 @monitor.py:467]\u001b[0m GAN_loss/gradient_rms: 0.99791\n",
      "\u001b[32m[1104 17:34:08 @monitor.py:467]\u001b[0m GAN_loss/kl_div: 0.076999\n",
      "\u001b[32m[1104 17:34:08 @monitor.py:467]\u001b[0m QueueInput/queue_size: 50\n",
      "\u001b[32m[1104 17:34:08 @base.py:275]\u001b[0m Start Epoch 667 ...\n"
     ]
    },
    {
     "name": "stderr",
     "output_type": "stream",
     "text": [
      "100%|###################################################################################|175/175[00:06<00:00,26.75it/s]"
     ]
    },
    {
     "name": "stdout",
     "output_type": "stream",
     "text": [
      "\u001b[32m[1104 17:34:15 @base.py:285]\u001b[0m Epoch 667 (global_step 140069) finished, time:6.54 seconds.\n"
     ]
    },
    {
     "name": "stderr",
     "output_type": "stream",
     "text": [
      "\n"
     ]
    },
    {
     "name": "stdout",
     "output_type": "stream",
     "text": [
      "\u001b[32m[1104 17:34:15 @saver.py:79]\u001b[0m Model saved to ../output/Chicago/WGGP_WI_new3/model\\model-140069.\n",
      "\u001b[32m[1104 17:34:15 @monitor.py:467]\u001b[0m GAN_loss/d_loss: -0.47098\n",
      "\u001b[32m[1104 17:34:15 @monitor.py:467]\u001b[0m GAN_loss/g_loss: -0.37904\n",
      "\u001b[32m[1104 17:34:15 @monitor.py:467]\u001b[0m GAN_loss/gradient_penalty: 0.0067305\n",
      "\u001b[32m[1104 17:34:15 @monitor.py:467]\u001b[0m GAN_loss/gradient_rms: 0.9985\n",
      "\u001b[32m[1104 17:34:15 @monitor.py:467]\u001b[0m GAN_loss/kl_div: 0.090849\n",
      "\u001b[32m[1104 17:34:15 @monitor.py:467]\u001b[0m QueueInput/queue_size: 50\n",
      "\u001b[32m[1104 17:34:15 @base.py:275]\u001b[0m Start Epoch 668 ...\n"
     ]
    },
    {
     "name": "stderr",
     "output_type": "stream",
     "text": [
      "100%|###################################################################################|175/175[00:06<00:00,26.79it/s]"
     ]
    },
    {
     "name": "stdout",
     "output_type": "stream",
     "text": [
      "\u001b[32m[1104 17:34:22 @base.py:285]\u001b[0m Epoch 668 (global_step 140279) finished, time:6.53 seconds.\n"
     ]
    },
    {
     "name": "stderr",
     "output_type": "stream",
     "text": [
      "\n"
     ]
    },
    {
     "name": "stdout",
     "output_type": "stream",
     "text": [
      "\u001b[32m[1104 17:34:22 @saver.py:79]\u001b[0m Model saved to ../output/Chicago/WGGP_WI_new3/model\\model-140279.\n",
      "\u001b[32m[1104 17:34:22 @monitor.py:467]\u001b[0m GAN_loss/d_loss: -0.41078\n",
      "\u001b[32m[1104 17:34:22 @monitor.py:467]\u001b[0m GAN_loss/g_loss: -0.41061\n",
      "\u001b[32m[1104 17:34:22 @monitor.py:467]\u001b[0m GAN_loss/gradient_penalty: 0.006814\n",
      "\u001b[32m[1104 17:34:22 @monitor.py:467]\u001b[0m GAN_loss/gradient_rms: 0.99846\n",
      "\u001b[32m[1104 17:34:22 @monitor.py:467]\u001b[0m GAN_loss/kl_div: 0.080951\n",
      "\u001b[32m[1104 17:34:22 @monitor.py:467]\u001b[0m QueueInput/queue_size: 50\n",
      "\u001b[32m[1104 17:34:22 @base.py:275]\u001b[0m Start Epoch 669 ...\n"
     ]
    },
    {
     "name": "stderr",
     "output_type": "stream",
     "text": [
      "100%|###################################################################################|175/175[00:06<00:00,26.74it/s]"
     ]
    },
    {
     "name": "stdout",
     "output_type": "stream",
     "text": [
      "\u001b[32m[1104 17:34:29 @base.py:285]\u001b[0m Epoch 669 (global_step 140489) finished, time:6.55 seconds.\n",
      "\u001b[32m[1104 17:34:29 @saver.py:79]\u001b[0m Model saved to ../output/Chicago/WGGP_WI_new3/model\\model-140489.\n",
      "\u001b[32m[1104 17:34:29 @monitor.py:467]\u001b[0m GAN_loss/d_loss: -0.4592\n"
     ]
    },
    {
     "name": "stderr",
     "output_type": "stream",
     "text": [
      "\n"
     ]
    },
    {
     "name": "stdout",
     "output_type": "stream",
     "text": [
      "\u001b[32m[1104 17:34:29 @monitor.py:467]\u001b[0m GAN_loss/g_loss: -0.4211\n",
      "\u001b[32m[1104 17:34:29 @monitor.py:467]\u001b[0m GAN_loss/gradient_penalty: 0.0067559\n",
      "\u001b[32m[1104 17:34:29 @monitor.py:467]\u001b[0m GAN_loss/gradient_rms: 0.9994\n",
      "\u001b[32m[1104 17:34:29 @monitor.py:467]\u001b[0m GAN_loss/kl_div: 0.092115\n",
      "\u001b[32m[1104 17:34:29 @monitor.py:467]\u001b[0m QueueInput/queue_size: 50\n",
      "\u001b[32m[1104 17:34:29 @base.py:275]\u001b[0m Start Epoch 670 ...\n"
     ]
    },
    {
     "name": "stderr",
     "output_type": "stream",
     "text": [
      "100%|###################################################################################|175/175[00:06<00:00,26.65it/s]"
     ]
    },
    {
     "name": "stdout",
     "output_type": "stream",
     "text": [
      "\u001b[32m[1104 17:34:35 @base.py:285]\u001b[0m Epoch 670 (global_step 140699) finished, time:6.57 seconds.\n",
      "\u001b[32m[1104 17:34:35 @saver.py:79]\u001b[0m Model saved to ../output/Chicago/WGGP_WI_new3/model\\model-140699.\n"
     ]
    },
    {
     "name": "stderr",
     "output_type": "stream",
     "text": [
      "\n"
     ]
    },
    {
     "name": "stdout",
     "output_type": "stream",
     "text": [
      "\u001b[32m[1104 17:34:36 @monitor.py:467]\u001b[0m GAN_loss/d_loss: -0.39911\n",
      "\u001b[32m[1104 17:34:36 @monitor.py:467]\u001b[0m GAN_loss/g_loss: -0.42899\n",
      "\u001b[32m[1104 17:34:36 @monitor.py:467]\u001b[0m GAN_loss/gradient_penalty: 0.0067997\n",
      "\u001b[32m[1104 17:34:36 @monitor.py:467]\u001b[0m GAN_loss/gradient_rms: 0.99762\n",
      "\u001b[32m[1104 17:34:36 @monitor.py:467]\u001b[0m GAN_loss/kl_div: 0.091935\n",
      "\u001b[32m[1104 17:34:36 @monitor.py:467]\u001b[0m QueueInput/queue_size: 50\n",
      "\u001b[32m[1104 17:34:36 @base.py:275]\u001b[0m Start Epoch 671 ...\n"
     ]
    },
    {
     "name": "stderr",
     "output_type": "stream",
     "text": [
      "100%|###################################################################################|175/175[00:06<00:00,26.85it/s]"
     ]
    },
    {
     "name": "stdout",
     "output_type": "stream",
     "text": [
      "\u001b[32m[1104 17:34:42 @base.py:285]\u001b[0m Epoch 671 (global_step 140909) finished, time:6.52 seconds.\n"
     ]
    },
    {
     "name": "stderr",
     "output_type": "stream",
     "text": [
      "\n"
     ]
    },
    {
     "name": "stdout",
     "output_type": "stream",
     "text": [
      "\u001b[32m[1104 17:34:42 @saver.py:79]\u001b[0m Model saved to ../output/Chicago/WGGP_WI_new3/model\\model-140909.\n",
      "\u001b[32m[1104 17:34:42 @monitor.py:467]\u001b[0m GAN_loss/d_loss: -0.31706\n",
      "\u001b[32m[1104 17:34:42 @monitor.py:467]\u001b[0m GAN_loss/g_loss: -0.43563\n",
      "\u001b[32m[1104 17:34:42 @monitor.py:467]\u001b[0m GAN_loss/gradient_penalty: 0.0064507\n",
      "\u001b[32m[1104 17:34:42 @monitor.py:467]\u001b[0m GAN_loss/gradient_rms: 0.99678\n",
      "\u001b[32m[1104 17:34:42 @monitor.py:467]\u001b[0m GAN_loss/kl_div: 0.085902\n",
      "\u001b[32m[1104 17:34:42 @monitor.py:467]\u001b[0m QueueInput/queue_size: 50\n",
      "\u001b[32m[1104 17:34:42 @base.py:275]\u001b[0m Start Epoch 672 ...\n"
     ]
    },
    {
     "name": "stderr",
     "output_type": "stream",
     "text": [
      "100%|###################################################################################|175/175[00:06<00:00,26.83it/s]"
     ]
    },
    {
     "name": "stdout",
     "output_type": "stream",
     "text": [
      "\u001b[32m[1104 17:34:49 @base.py:285]\u001b[0m Epoch 672 (global_step 141119) finished, time:6.52 seconds.\n",
      "\u001b[32m[1104 17:34:49 @saver.py:79]\u001b[0m Model saved to ../output/Chicago/WGGP_WI_new3/model\\model-141119.\n"
     ]
    },
    {
     "name": "stderr",
     "output_type": "stream",
     "text": [
      "\n"
     ]
    },
    {
     "name": "stdout",
     "output_type": "stream",
     "text": [
      "\u001b[32m[1104 17:34:49 @monitor.py:467]\u001b[0m GAN_loss/d_loss: -0.32165\n",
      "\u001b[32m[1104 17:34:49 @monitor.py:467]\u001b[0m GAN_loss/g_loss: -0.4276\n",
      "\u001b[32m[1104 17:34:49 @monitor.py:467]\u001b[0m GAN_loss/gradient_penalty: 0.0065569\n",
      "\u001b[32m[1104 17:34:49 @monitor.py:467]\u001b[0m GAN_loss/gradient_rms: 0.99623\n",
      "\u001b[32m[1104 17:34:49 @monitor.py:467]\u001b[0m GAN_loss/kl_div: 0.082264\n",
      "\u001b[32m[1104 17:34:49 @monitor.py:467]\u001b[0m QueueInput/queue_size: 50\n",
      "\u001b[32m[1104 17:34:49 @base.py:275]\u001b[0m Start Epoch 673 ...\n"
     ]
    },
    {
     "name": "stderr",
     "output_type": "stream",
     "text": [
      "100%|###################################################################################|175/175[00:06<00:00,26.77it/s]"
     ]
    },
    {
     "name": "stdout",
     "output_type": "stream",
     "text": [
      "\u001b[32m[1104 17:34:56 @base.py:285]\u001b[0m Epoch 673 (global_step 141329) finished, time:6.54 seconds.\n"
     ]
    },
    {
     "name": "stderr",
     "output_type": "stream",
     "text": [
      "\n"
     ]
    },
    {
     "name": "stdout",
     "output_type": "stream",
     "text": [
      "\u001b[32m[1104 17:34:56 @saver.py:79]\u001b[0m Model saved to ../output/Chicago/WGGP_WI_new3/model\\model-141329.\n",
      "\u001b[32m[1104 17:34:56 @monitor.py:467]\u001b[0m GAN_loss/d_loss: -0.43655\n",
      "\u001b[32m[1104 17:34:56 @monitor.py:467]\u001b[0m GAN_loss/g_loss: -0.43551\n",
      "\u001b[32m[1104 17:34:56 @monitor.py:467]\u001b[0m GAN_loss/gradient_penalty: 0.0066874\n",
      "\u001b[32m[1104 17:34:56 @monitor.py:467]\u001b[0m GAN_loss/gradient_rms: 0.99848\n",
      "\u001b[32m[1104 17:34:56 @monitor.py:467]\u001b[0m GAN_loss/kl_div: 0.086414\n",
      "\u001b[32m[1104 17:34:56 @monitor.py:467]\u001b[0m QueueInput/queue_size: 50\n",
      "\u001b[32m[1104 17:34:56 @base.py:275]\u001b[0m Start Epoch 674 ...\n"
     ]
    },
    {
     "name": "stderr",
     "output_type": "stream",
     "text": [
      "100%|###################################################################################|175/175[00:06<00:00,26.76it/s]"
     ]
    },
    {
     "name": "stdout",
     "output_type": "stream",
     "text": [
      "\u001b[32m[1104 17:35:02 @base.py:285]\u001b[0m Epoch 674 (global_step 141539) finished, time:6.54 seconds.\n",
      "\u001b[32m[1104 17:35:02 @saver.py:79]\u001b[0m Model saved to ../output/Chicago/WGGP_WI_new3/model\\model-141539.\n"
     ]
    },
    {
     "name": "stderr",
     "output_type": "stream",
     "text": [
      "\n"
     ]
    },
    {
     "name": "stdout",
     "output_type": "stream",
     "text": [
      "\u001b[32m[1104 17:35:03 @monitor.py:467]\u001b[0m GAN_loss/d_loss: -0.38039\n",
      "\u001b[32m[1104 17:35:03 @monitor.py:467]\u001b[0m GAN_loss/g_loss: -0.4023\n",
      "\u001b[32m[1104 17:35:03 @monitor.py:467]\u001b[0m GAN_loss/gradient_penalty: 0.0069078\n",
      "\u001b[32m[1104 17:35:03 @monitor.py:467]\u001b[0m GAN_loss/gradient_rms: 0.99779\n",
      "\u001b[32m[1104 17:35:03 @monitor.py:467]\u001b[0m GAN_loss/kl_div: 0.096069\n",
      "\u001b[32m[1104 17:35:03 @monitor.py:467]\u001b[0m QueueInput/queue_size: 50\n",
      "\u001b[32m[1104 17:35:03 @base.py:275]\u001b[0m Start Epoch 675 ...\n"
     ]
    },
    {
     "name": "stderr",
     "output_type": "stream",
     "text": [
      "100%|###################################################################################|175/175[00:06<00:00,26.79it/s]"
     ]
    },
    {
     "name": "stdout",
     "output_type": "stream",
     "text": [
      "\u001b[32m[1104 17:35:09 @base.py:285]\u001b[0m Epoch 675 (global_step 141749) finished, time:6.53 seconds.\n",
      "\u001b[32m[1104 17:35:09 @saver.py:79]\u001b[0m Model saved to ../output/Chicago/WGGP_WI_new3/model\\model-141749.\n"
     ]
    },
    {
     "name": "stderr",
     "output_type": "stream",
     "text": [
      "\n"
     ]
    },
    {
     "name": "stdout",
     "output_type": "stream",
     "text": [
      "\u001b[32m[1104 17:35:09 @monitor.py:467]\u001b[0m GAN_loss/d_loss: -0.41125\n",
      "\u001b[32m[1104 17:35:09 @monitor.py:467]\u001b[0m GAN_loss/g_loss: -0.39517\n",
      "\u001b[32m[1104 17:35:09 @monitor.py:467]\u001b[0m GAN_loss/gradient_penalty: 0.006812\n",
      "\u001b[32m[1104 17:35:09 @monitor.py:467]\u001b[0m GAN_loss/gradient_rms: 0.99988\n",
      "\u001b[32m[1104 17:35:09 @monitor.py:467]\u001b[0m GAN_loss/kl_div: 0.090034\n",
      "\u001b[32m[1104 17:35:09 @monitor.py:467]\u001b[0m QueueInput/queue_size: 50\n",
      "\u001b[32m[1104 17:35:09 @base.py:275]\u001b[0m Start Epoch 676 ...\n"
     ]
    },
    {
     "name": "stderr",
     "output_type": "stream",
     "text": [
      "100%|###################################################################################|175/175[00:06<00:00,26.77it/s]"
     ]
    },
    {
     "name": "stdout",
     "output_type": "stream",
     "text": [
      "\u001b[32m[1104 17:35:16 @base.py:285]\u001b[0m Epoch 676 (global_step 141959) finished, time:6.54 seconds.\n",
      "\u001b[32m[1104 17:35:16 @saver.py:79]\u001b[0m Model saved to ../output/Chicago/WGGP_WI_new3/model\\model-141959.\n"
     ]
    },
    {
     "name": "stderr",
     "output_type": "stream",
     "text": [
      "\n"
     ]
    },
    {
     "name": "stdout",
     "output_type": "stream",
     "text": [
      "\u001b[32m[1104 17:35:16 @monitor.py:467]\u001b[0m GAN_loss/d_loss: -0.44575\n",
      "\u001b[32m[1104 17:35:16 @monitor.py:467]\u001b[0m GAN_loss/g_loss: -0.35474\n",
      "\u001b[32m[1104 17:35:16 @monitor.py:467]\u001b[0m GAN_loss/gradient_penalty: 0.0067391\n",
      "\u001b[32m[1104 17:35:16 @monitor.py:467]\u001b[0m GAN_loss/gradient_rms: 0.99637\n",
      "\u001b[32m[1104 17:35:16 @monitor.py:467]\u001b[0m GAN_loss/kl_div: 0.10904\n",
      "\u001b[32m[1104 17:35:16 @monitor.py:467]\u001b[0m QueueInput/queue_size: 50\n",
      "\u001b[32m[1104 17:35:16 @base.py:275]\u001b[0m Start Epoch 677 ...\n"
     ]
    },
    {
     "name": "stderr",
     "output_type": "stream",
     "text": [
      "100%|###################################################################################|175/175[00:06<00:00,26.80it/s]"
     ]
    },
    {
     "name": "stdout",
     "output_type": "stream",
     "text": [
      "\u001b[32m[1104 17:35:23 @base.py:285]\u001b[0m Epoch 677 (global_step 142169) finished, time:6.53 seconds.\n"
     ]
    },
    {
     "name": "stderr",
     "output_type": "stream",
     "text": [
      "\n"
     ]
    },
    {
     "name": "stdout",
     "output_type": "stream",
     "text": [
      "\u001b[32m[1104 17:35:23 @saver.py:79]\u001b[0m Model saved to ../output/Chicago/WGGP_WI_new3/model\\model-142169.\n",
      "\u001b[32m[1104 17:35:23 @monitor.py:467]\u001b[0m GAN_loss/d_loss: -0.31128\n",
      "\u001b[32m[1104 17:35:23 @monitor.py:467]\u001b[0m GAN_loss/g_loss: -0.36564\n",
      "\u001b[32m[1104 17:35:23 @monitor.py:467]\u001b[0m GAN_loss/gradient_penalty: 0.0068655\n",
      "\u001b[32m[1104 17:35:23 @monitor.py:467]\u001b[0m GAN_loss/gradient_rms: 1\n",
      "\u001b[32m[1104 17:35:23 @monitor.py:467]\u001b[0m GAN_loss/kl_div: 0.082287\n",
      "\u001b[32m[1104 17:35:23 @monitor.py:467]\u001b[0m QueueInput/queue_size: 50\n",
      "\u001b[32m[1104 17:35:23 @base.py:275]\u001b[0m Start Epoch 678 ...\n"
     ]
    },
    {
     "name": "stderr",
     "output_type": "stream",
     "text": [
      "100%|###################################################################################|175/175[00:06<00:00,26.68it/s]"
     ]
    },
    {
     "name": "stdout",
     "output_type": "stream",
     "text": [
      "\u001b[32m[1104 17:35:29 @base.py:285]\u001b[0m Epoch 678 (global_step 142379) finished, time:6.56 seconds.\n",
      "\u001b[32m[1104 17:35:30 @saver.py:79]\u001b[0m Model saved to ../output/Chicago/WGGP_WI_new3/model\\model-142379.\n"
     ]
    },
    {
     "name": "stderr",
     "output_type": "stream",
     "text": [
      "\n"
     ]
    },
    {
     "name": "stdout",
     "output_type": "stream",
     "text": [
      "\u001b[32m[1104 17:35:30 @monitor.py:467]\u001b[0m GAN_loss/d_loss: -0.34356\n",
      "\u001b[32m[1104 17:35:30 @monitor.py:467]\u001b[0m GAN_loss/g_loss: -0.36658\n",
      "\u001b[32m[1104 17:35:30 @monitor.py:467]\u001b[0m GAN_loss/gradient_penalty: 0.0066242\n",
      "\u001b[32m[1104 17:35:30 @monitor.py:467]\u001b[0m GAN_loss/gradient_rms: 0.99902\n",
      "\u001b[32m[1104 17:35:30 @monitor.py:467]\u001b[0m GAN_loss/kl_div: 0.071725\n",
      "\u001b[32m[1104 17:35:30 @monitor.py:467]\u001b[0m QueueInput/queue_size: 50\n",
      "\u001b[32m[1104 17:35:30 @base.py:275]\u001b[0m Start Epoch 679 ...\n"
     ]
    },
    {
     "name": "stderr",
     "output_type": "stream",
     "text": [
      "100%|###################################################################################|175/175[00:06<00:00,26.81it/s]"
     ]
    },
    {
     "name": "stdout",
     "output_type": "stream",
     "text": [
      "\u001b[32m[1104 17:35:36 @base.py:285]\u001b[0m Epoch 679 (global_step 142589) finished, time:6.53 seconds.\n"
     ]
    },
    {
     "name": "stderr",
     "output_type": "stream",
     "text": [
      "\n"
     ]
    },
    {
     "name": "stdout",
     "output_type": "stream",
     "text": [
      "\u001b[32m[1104 17:35:36 @saver.py:79]\u001b[0m Model saved to ../output/Chicago/WGGP_WI_new3/model\\model-142589.\n",
      "\u001b[32m[1104 17:35:36 @monitor.py:467]\u001b[0m GAN_loss/d_loss: -0.33241\n",
      "\u001b[32m[1104 17:35:36 @monitor.py:467]\u001b[0m GAN_loss/g_loss: -0.35638\n",
      "\u001b[32m[1104 17:35:36 @monitor.py:467]\u001b[0m GAN_loss/gradient_penalty: 0.0065992\n",
      "\u001b[32m[1104 17:35:36 @monitor.py:467]\u001b[0m GAN_loss/gradient_rms: 0.99584\n",
      "\u001b[32m[1104 17:35:36 @monitor.py:467]\u001b[0m GAN_loss/kl_div: 0.075786\n",
      "\u001b[32m[1104 17:35:36 @monitor.py:467]\u001b[0m QueueInput/queue_size: 50\n",
      "\u001b[32m[1104 17:35:36 @base.py:275]\u001b[0m Start Epoch 680 ...\n"
     ]
    },
    {
     "name": "stderr",
     "output_type": "stream",
     "text": [
      "100%|###################################################################################|175/175[00:06<00:00,26.71it/s]"
     ]
    },
    {
     "name": "stdout",
     "output_type": "stream",
     "text": [
      "\u001b[32m[1104 17:35:43 @base.py:285]\u001b[0m Epoch 680 (global_step 142799) finished, time:6.55 seconds.\n",
      "\u001b[32m[1104 17:35:43 @saver.py:79]\u001b[0m Model saved to ../output/Chicago/WGGP_WI_new3/model\\model-142799.\n"
     ]
    },
    {
     "name": "stderr",
     "output_type": "stream",
     "text": [
      "\n"
     ]
    },
    {
     "name": "stdout",
     "output_type": "stream",
     "text": [
      "\u001b[32m[1104 17:35:43 @monitor.py:467]\u001b[0m GAN_loss/d_loss: -0.41541\n",
      "\u001b[32m[1104 17:35:43 @monitor.py:467]\u001b[0m GAN_loss/g_loss: -0.37411\n",
      "\u001b[32m[1104 17:35:43 @monitor.py:467]\u001b[0m GAN_loss/gradient_penalty: 0.0065666\n",
      "\u001b[32m[1104 17:35:43 @monitor.py:467]\u001b[0m GAN_loss/gradient_rms: 0.99749\n",
      "\u001b[32m[1104 17:35:43 @monitor.py:467]\u001b[0m GAN_loss/kl_div: 0.078711\n",
      "\u001b[32m[1104 17:35:43 @monitor.py:467]\u001b[0m QueueInput/queue_size: 50\n",
      "\u001b[32m[1104 17:35:43 @base.py:275]\u001b[0m Start Epoch 681 ...\n"
     ]
    },
    {
     "name": "stderr",
     "output_type": "stream",
     "text": [
      "100%|###################################################################################|175/175[00:06<00:00,26.76it/s]"
     ]
    },
    {
     "name": "stdout",
     "output_type": "stream",
     "text": [
      "\u001b[32m[1104 17:35:50 @base.py:285]\u001b[0m Epoch 681 (global_step 143009) finished, time:6.54 seconds.\n",
      "\u001b[32m[1104 17:35:50 @saver.py:79]\u001b[0m Model saved to ../output/Chicago/WGGP_WI_new3/model\\model-143009.\n"
     ]
    },
    {
     "name": "stderr",
     "output_type": "stream",
     "text": [
      "\n"
     ]
    },
    {
     "name": "stdout",
     "output_type": "stream",
     "text": [
      "\u001b[32m[1104 17:35:50 @monitor.py:467]\u001b[0m GAN_loss/d_loss: -0.46305\n",
      "\u001b[32m[1104 17:35:50 @monitor.py:467]\u001b[0m GAN_loss/g_loss: -0.39689\n",
      "\u001b[32m[1104 17:35:50 @monitor.py:467]\u001b[0m GAN_loss/gradient_penalty: 0.0065908\n",
      "\u001b[32m[1104 17:35:50 @monitor.py:467]\u001b[0m GAN_loss/gradient_rms: 0.99836\n",
      "\u001b[32m[1104 17:35:50 @monitor.py:467]\u001b[0m GAN_loss/kl_div: 0.084844\n",
      "\u001b[32m[1104 17:35:50 @monitor.py:467]\u001b[0m QueueInput/queue_size: 50\n",
      "\u001b[32m[1104 17:35:50 @base.py:275]\u001b[0m Start Epoch 682 ...\n"
     ]
    },
    {
     "name": "stderr",
     "output_type": "stream",
     "text": [
      "100%|###################################################################################|175/175[00:06<00:00,26.27it/s]"
     ]
    },
    {
     "name": "stdout",
     "output_type": "stream",
     "text": [
      "\u001b[32m[1104 17:35:57 @base.py:285]\u001b[0m Epoch 682 (global_step 143219) finished, time:6.66 seconds.\n"
     ]
    },
    {
     "name": "stderr",
     "output_type": "stream",
     "text": [
      "\n"
     ]
    },
    {
     "name": "stdout",
     "output_type": "stream",
     "text": [
      "\u001b[32m[1104 17:35:57 @saver.py:79]\u001b[0m Model saved to ../output/Chicago/WGGP_WI_new3/model\\model-143219.\n",
      "\u001b[32m[1104 17:35:57 @monitor.py:467]\u001b[0m GAN_loss/d_loss: -0.40358\n",
      "\u001b[32m[1104 17:35:57 @monitor.py:467]\u001b[0m GAN_loss/g_loss: -0.3859\n",
      "\u001b[32m[1104 17:35:57 @monitor.py:467]\u001b[0m GAN_loss/gradient_penalty: 0.0066618\n",
      "\u001b[32m[1104 17:35:57 @monitor.py:467]\u001b[0m GAN_loss/gradient_rms: 0.99713\n",
      "\u001b[32m[1104 17:35:57 @monitor.py:467]\u001b[0m GAN_loss/kl_div: 0.087162\n",
      "\u001b[32m[1104 17:35:57 @monitor.py:467]\u001b[0m QueueInput/queue_size: 50\n",
      "\u001b[32m[1104 17:35:57 @base.py:275]\u001b[0m Start Epoch 683 ...\n"
     ]
    },
    {
     "name": "stderr",
     "output_type": "stream",
     "text": [
      "100%|###################################################################################|175/175[00:06<00:00,25.95it/s]"
     ]
    },
    {
     "name": "stdout",
     "output_type": "stream",
     "text": [
      "\u001b[32m[1104 17:36:04 @base.py:285]\u001b[0m Epoch 683 (global_step 143429) finished, time:6.75 seconds.\n",
      "\u001b[32m[1104 17:36:04 @saver.py:79]\u001b[0m Model saved to ../output/Chicago/WGGP_WI_new3/model\\model-143429.\n"
     ]
    },
    {
     "name": "stderr",
     "output_type": "stream",
     "text": [
      "\n"
     ]
    },
    {
     "name": "stdout",
     "output_type": "stream",
     "text": [
      "\u001b[32m[1104 17:36:04 @monitor.py:467]\u001b[0m GAN_loss/d_loss: -0.5157\n",
      "\u001b[32m[1104 17:36:04 @monitor.py:467]\u001b[0m GAN_loss/g_loss: -0.3944\n",
      "\u001b[32m[1104 17:36:04 @monitor.py:467]\u001b[0m GAN_loss/gradient_penalty: 0.0067936\n",
      "\u001b[32m[1104 17:36:04 @monitor.py:467]\u001b[0m GAN_loss/gradient_rms: 0.99894\n",
      "\u001b[32m[1104 17:36:04 @monitor.py:467]\u001b[0m GAN_loss/kl_div: 0.084208\n",
      "\u001b[32m[1104 17:36:04 @monitor.py:467]\u001b[0m QueueInput/queue_size: 50\n",
      "\u001b[32m[1104 17:36:04 @base.py:275]\u001b[0m Start Epoch 684 ...\n"
     ]
    },
    {
     "name": "stderr",
     "output_type": "stream",
     "text": [
      "100%|###################################################################################|175/175[00:06<00:00,26.34it/s]"
     ]
    },
    {
     "name": "stdout",
     "output_type": "stream",
     "text": [
      "\u001b[32m[1104 17:36:10 @base.py:285]\u001b[0m Epoch 684 (global_step 143639) finished, time:6.64 seconds.\n",
      "\u001b[32m[1104 17:36:11 @saver.py:79]\u001b[0m Model saved to ../output/Chicago/WGGP_WI_new3/model\\model-143639.\n"
     ]
    },
    {
     "name": "stderr",
     "output_type": "stream",
     "text": [
      "\n"
     ]
    },
    {
     "name": "stdout",
     "output_type": "stream",
     "text": [
      "\u001b[32m[1104 17:36:11 @monitor.py:467]\u001b[0m GAN_loss/d_loss: -0.38407\n",
      "\u001b[32m[1104 17:36:11 @monitor.py:467]\u001b[0m GAN_loss/g_loss: -0.37041\n",
      "\u001b[32m[1104 17:36:11 @monitor.py:467]\u001b[0m GAN_loss/gradient_penalty: 0.0066757\n",
      "\u001b[32m[1104 17:36:11 @monitor.py:467]\u001b[0m GAN_loss/gradient_rms: 0.99904\n",
      "\u001b[32m[1104 17:36:11 @monitor.py:467]\u001b[0m GAN_loss/kl_div: 0.082052\n",
      "\u001b[32m[1104 17:36:11 @monitor.py:467]\u001b[0m QueueInput/queue_size: 50\n",
      "\u001b[32m[1104 17:36:11 @base.py:275]\u001b[0m Start Epoch 685 ...\n"
     ]
    },
    {
     "name": "stderr",
     "output_type": "stream",
     "text": [
      "100%|###################################################################################|175/175[00:06<00:00,26.86it/s]"
     ]
    },
    {
     "name": "stdout",
     "output_type": "stream",
     "text": [
      "\u001b[32m[1104 17:36:17 @base.py:285]\u001b[0m Epoch 685 (global_step 143849) finished, time:6.52 seconds.\n",
      "\u001b[32m[1104 17:36:17 @saver.py:79]\u001b[0m Model saved to ../output/Chicago/WGGP_WI_new3/model\\model-143849.\n"
     ]
    },
    {
     "name": "stderr",
     "output_type": "stream",
     "text": [
      "\n"
     ]
    },
    {
     "name": "stdout",
     "output_type": "stream",
     "text": [
      "\u001b[32m[1104 17:36:17 @monitor.py:467]\u001b[0m GAN_loss/d_loss: -0.539\n",
      "\u001b[32m[1104 17:36:17 @monitor.py:467]\u001b[0m GAN_loss/g_loss: -0.38904\n",
      "\u001b[32m[1104 17:36:17 @monitor.py:467]\u001b[0m GAN_loss/gradient_penalty: 0.0072364\n",
      "\u001b[32m[1104 17:36:17 @monitor.py:467]\u001b[0m GAN_loss/gradient_rms: 0.99965\n",
      "\u001b[32m[1104 17:36:17 @monitor.py:467]\u001b[0m GAN_loss/kl_div: 0.081991\n",
      "\u001b[32m[1104 17:36:17 @monitor.py:467]\u001b[0m QueueInput/queue_size: 50\n",
      "\u001b[32m[1104 17:36:17 @base.py:275]\u001b[0m Start Epoch 686 ...\n"
     ]
    },
    {
     "name": "stderr",
     "output_type": "stream",
     "text": [
      "100%|###################################################################################|175/175[00:06<00:00,26.75it/s]"
     ]
    },
    {
     "name": "stdout",
     "output_type": "stream",
     "text": [
      "\u001b[32m[1104 17:36:24 @base.py:285]\u001b[0m Epoch 686 (global_step 144059) finished, time:6.54 seconds.\n"
     ]
    },
    {
     "name": "stderr",
     "output_type": "stream",
     "text": [
      "\n"
     ]
    },
    {
     "name": "stdout",
     "output_type": "stream",
     "text": [
      "\u001b[32m[1104 17:36:24 @saver.py:79]\u001b[0m Model saved to ../output/Chicago/WGGP_WI_new3/model\\model-144059.\n",
      "\u001b[32m[1104 17:36:24 @monitor.py:467]\u001b[0m GAN_loss/d_loss: -0.43321\n",
      "\u001b[32m[1104 17:36:24 @monitor.py:467]\u001b[0m GAN_loss/g_loss: -0.4093\n",
      "\u001b[32m[1104 17:36:24 @monitor.py:467]\u001b[0m GAN_loss/gradient_penalty: 0.0070441\n",
      "\u001b[32m[1104 17:36:24 @monitor.py:467]\u001b[0m GAN_loss/gradient_rms: 0.9975\n",
      "\u001b[32m[1104 17:36:24 @monitor.py:467]\u001b[0m GAN_loss/kl_div: 0.084875\n",
      "\u001b[32m[1104 17:36:24 @monitor.py:467]\u001b[0m QueueInput/queue_size: 50\n",
      "\u001b[32m[1104 17:36:24 @base.py:275]\u001b[0m Start Epoch 687 ...\n"
     ]
    },
    {
     "name": "stderr",
     "output_type": "stream",
     "text": [
      "100%|###################################################################################|175/175[00:06<00:00,26.67it/s]"
     ]
    },
    {
     "name": "stdout",
     "output_type": "stream",
     "text": [
      "\u001b[32m[1104 17:36:31 @base.py:285]\u001b[0m Epoch 687 (global_step 144269) finished, time:6.56 seconds.\n",
      "\u001b[32m[1104 17:36:31 @saver.py:79]\u001b[0m Model saved to ../output/Chicago/WGGP_WI_new3/model\\model-144269.\n"
     ]
    },
    {
     "name": "stderr",
     "output_type": "stream",
     "text": [
      "\n"
     ]
    },
    {
     "name": "stdout",
     "output_type": "stream",
     "text": [
      "\u001b[32m[1104 17:36:31 @monitor.py:467]\u001b[0m GAN_loss/d_loss: -0.43578\n",
      "\u001b[32m[1104 17:36:31 @monitor.py:467]\u001b[0m GAN_loss/g_loss: -0.43914\n",
      "\u001b[32m[1104 17:36:31 @monitor.py:467]\u001b[0m GAN_loss/gradient_penalty: 0.0069788\n",
      "\u001b[32m[1104 17:36:31 @monitor.py:467]\u001b[0m GAN_loss/gradient_rms: 0.99931\n",
      "\u001b[32m[1104 17:36:31 @monitor.py:467]\u001b[0m GAN_loss/kl_div: 0.085262\n",
      "\u001b[32m[1104 17:36:31 @monitor.py:467]\u001b[0m QueueInput/queue_size: 50\n",
      "\u001b[32m[1104 17:36:31 @base.py:275]\u001b[0m Start Epoch 688 ...\n"
     ]
    },
    {
     "name": "stderr",
     "output_type": "stream",
     "text": [
      "100%|###################################################################################|175/175[00:06<00:00,26.40it/s]"
     ]
    },
    {
     "name": "stdout",
     "output_type": "stream",
     "text": [
      "\u001b[32m[1104 17:36:38 @base.py:285]\u001b[0m Epoch 688 (global_step 144479) finished, time:6.63 seconds.\n"
     ]
    },
    {
     "name": "stderr",
     "output_type": "stream",
     "text": [
      "\n"
     ]
    },
    {
     "name": "stdout",
     "output_type": "stream",
     "text": [
      "\u001b[32m[1104 17:36:38 @saver.py:79]\u001b[0m Model saved to ../output/Chicago/WGGP_WI_new3/model\\model-144479.\n",
      "\u001b[32m[1104 17:36:38 @monitor.py:467]\u001b[0m GAN_loss/d_loss: -0.34046\n",
      "\u001b[32m[1104 17:36:38 @monitor.py:467]\u001b[0m GAN_loss/g_loss: -0.43098\n",
      "\u001b[32m[1104 17:36:38 @monitor.py:467]\u001b[0m GAN_loss/gradient_penalty: 0.0067072\n",
      "\u001b[32m[1104 17:36:38 @monitor.py:467]\u001b[0m GAN_loss/gradient_rms: 0.99617\n",
      "\u001b[32m[1104 17:36:38 @monitor.py:467]\u001b[0m GAN_loss/kl_div: 0.072605\n",
      "\u001b[32m[1104 17:36:38 @monitor.py:467]\u001b[0m QueueInput/queue_size: 50\n",
      "\u001b[32m[1104 17:36:38 @base.py:275]\u001b[0m Start Epoch 689 ...\n"
     ]
    },
    {
     "name": "stderr",
     "output_type": "stream",
     "text": [
      "100%|###################################################################################|175/175[00:06<00:00,26.13it/s]"
     ]
    },
    {
     "name": "stdout",
     "output_type": "stream",
     "text": [
      "\u001b[32m[1104 17:36:44 @base.py:285]\u001b[0m Epoch 689 (global_step 144689) finished, time:6.7 seconds.\n",
      "\u001b[32m[1104 17:36:45 @saver.py:79]\u001b[0m Model saved to ../output/Chicago/WGGP_WI_new3/model\\model-144689.\n"
     ]
    },
    {
     "name": "stderr",
     "output_type": "stream",
     "text": [
      "\n"
     ]
    },
    {
     "name": "stdout",
     "output_type": "stream",
     "text": [
      "\u001b[32m[1104 17:36:45 @monitor.py:467]\u001b[0m GAN_loss/d_loss: -0.35071\n",
      "\u001b[32m[1104 17:36:45 @monitor.py:467]\u001b[0m GAN_loss/g_loss: -0.41201\n",
      "\u001b[32m[1104 17:36:45 @monitor.py:467]\u001b[0m GAN_loss/gradient_penalty: 0.0066969\n",
      "\u001b[32m[1104 17:36:45 @monitor.py:467]\u001b[0m GAN_loss/gradient_rms: 0.99816\n",
      "\u001b[32m[1104 17:36:45 @monitor.py:467]\u001b[0m GAN_loss/kl_div: 0.081847\n",
      "\u001b[32m[1104 17:36:45 @monitor.py:467]\u001b[0m QueueInput/queue_size: 50\n",
      "\u001b[32m[1104 17:36:45 @base.py:275]\u001b[0m Start Epoch 690 ...\n"
     ]
    },
    {
     "name": "stderr",
     "output_type": "stream",
     "text": [
      "100%|###################################################################################|175/175[00:06<00:00,26.83it/s]"
     ]
    },
    {
     "name": "stdout",
     "output_type": "stream",
     "text": [
      "\u001b[32m[1104 17:36:51 @base.py:285]\u001b[0m Epoch 690 (global_step 144899) finished, time:6.52 seconds.\n",
      "\u001b[32m[1104 17:36:51 @saver.py:79]\u001b[0m Model saved to ../output/Chicago/WGGP_WI_new3/model\\model-144899.\n"
     ]
    },
    {
     "name": "stderr",
     "output_type": "stream",
     "text": [
      "\n"
     ]
    },
    {
     "name": "stdout",
     "output_type": "stream",
     "text": [
      "\u001b[32m[1104 17:36:51 @monitor.py:467]\u001b[0m GAN_loss/d_loss: -0.37691\n",
      "\u001b[32m[1104 17:36:51 @monitor.py:467]\u001b[0m GAN_loss/g_loss: -0.39508\n",
      "\u001b[32m[1104 17:36:51 @monitor.py:467]\u001b[0m GAN_loss/gradient_penalty: 0.0067308\n",
      "\u001b[32m[1104 17:36:51 @monitor.py:467]\u001b[0m GAN_loss/gradient_rms: 0.99815\n",
      "\u001b[32m[1104 17:36:51 @monitor.py:467]\u001b[0m GAN_loss/kl_div: 0.080256\n",
      "\u001b[32m[1104 17:36:51 @monitor.py:467]\u001b[0m QueueInput/queue_size: 50\n",
      "\u001b[32m[1104 17:36:51 @base.py:275]\u001b[0m Start Epoch 691 ...\n"
     ]
    },
    {
     "name": "stderr",
     "output_type": "stream",
     "text": [
      "100%|###################################################################################|175/175[00:06<00:00,26.83it/s]"
     ]
    },
    {
     "name": "stdout",
     "output_type": "stream",
     "text": [
      "\u001b[32m[1104 17:36:58 @base.py:285]\u001b[0m Epoch 691 (global_step 145109) finished, time:6.52 seconds.\n"
     ]
    },
    {
     "name": "stderr",
     "output_type": "stream",
     "text": [
      "\n"
     ]
    },
    {
     "name": "stdout",
     "output_type": "stream",
     "text": [
      "\u001b[32m[1104 17:36:58 @saver.py:79]\u001b[0m Model saved to ../output/Chicago/WGGP_WI_new3/model\\model-145109.\n",
      "\u001b[32m[1104 17:36:58 @monitor.py:467]\u001b[0m GAN_loss/d_loss: -0.46673\n",
      "\u001b[32m[1104 17:36:58 @monitor.py:467]\u001b[0m GAN_loss/g_loss: -0.35722\n",
      "\u001b[32m[1104 17:36:58 @monitor.py:467]\u001b[0m GAN_loss/gradient_penalty: 0.0068965\n",
      "\u001b[32m[1104 17:36:58 @monitor.py:467]\u001b[0m GAN_loss/gradient_rms: 0.99956\n",
      "\u001b[32m[1104 17:36:58 @monitor.py:467]\u001b[0m GAN_loss/kl_div: 0.089284\n",
      "\u001b[32m[1104 17:36:58 @monitor.py:467]\u001b[0m QueueInput/queue_size: 50\n",
      "\u001b[32m[1104 17:36:58 @base.py:275]\u001b[0m Start Epoch 692 ...\n"
     ]
    },
    {
     "name": "stderr",
     "output_type": "stream",
     "text": [
      "100%|###################################################################################|175/175[00:06<00:00,26.89it/s]"
     ]
    },
    {
     "name": "stdout",
     "output_type": "stream",
     "text": [
      "\u001b[32m[1104 17:37:05 @base.py:285]\u001b[0m Epoch 692 (global_step 145319) finished, time:6.51 seconds.\n"
     ]
    },
    {
     "name": "stderr",
     "output_type": "stream",
     "text": [
      "\n"
     ]
    },
    {
     "name": "stdout",
     "output_type": "stream",
     "text": [
      "\u001b[32m[1104 17:37:05 @saver.py:79]\u001b[0m Model saved to ../output/Chicago/WGGP_WI_new3/model\\model-145319.\n",
      "\u001b[32m[1104 17:37:05 @monitor.py:467]\u001b[0m GAN_loss/d_loss: -0.40551\n",
      "\u001b[32m[1104 17:37:05 @monitor.py:467]\u001b[0m GAN_loss/g_loss: -0.34626\n",
      "\u001b[32m[1104 17:37:05 @monitor.py:467]\u001b[0m GAN_loss/gradient_penalty: 0.0064855\n",
      "\u001b[32m[1104 17:37:05 @monitor.py:467]\u001b[0m GAN_loss/gradient_rms: 0.99904\n",
      "\u001b[32m[1104 17:37:05 @monitor.py:467]\u001b[0m GAN_loss/kl_div: 0.085247\n",
      "\u001b[32m[1104 17:37:05 @monitor.py:467]\u001b[0m QueueInput/queue_size: 50\n",
      "\u001b[32m[1104 17:37:05 @base.py:275]\u001b[0m Start Epoch 693 ...\n"
     ]
    },
    {
     "name": "stderr",
     "output_type": "stream",
     "text": [
      "100%|###################################################################################|175/175[00:06<00:00,26.64it/s]"
     ]
    },
    {
     "name": "stdout",
     "output_type": "stream",
     "text": [
      "\u001b[32m[1104 17:37:11 @base.py:285]\u001b[0m Epoch 693 (global_step 145529) finished, time:6.57 seconds.\n",
      "\u001b[32m[1104 17:37:12 @saver.py:79]\u001b[0m Model saved to ../output/Chicago/WGGP_WI_new3/model\\model-145529.\n"
     ]
    },
    {
     "name": "stderr",
     "output_type": "stream",
     "text": [
      "\n"
     ]
    },
    {
     "name": "stdout",
     "output_type": "stream",
     "text": [
      "\u001b[32m[1104 17:37:12 @monitor.py:467]\u001b[0m GAN_loss/d_loss: -0.37848\n",
      "\u001b[32m[1104 17:37:12 @monitor.py:467]\u001b[0m GAN_loss/g_loss: -0.33207\n",
      "\u001b[32m[1104 17:37:12 @monitor.py:467]\u001b[0m GAN_loss/gradient_penalty: 0.0068604\n",
      "\u001b[32m[1104 17:37:12 @monitor.py:467]\u001b[0m GAN_loss/gradient_rms: 1.0003\n",
      "\u001b[32m[1104 17:37:12 @monitor.py:467]\u001b[0m GAN_loss/kl_div: 0.09386\n",
      "\u001b[32m[1104 17:37:12 @monitor.py:467]\u001b[0m QueueInput/queue_size: 50\n",
      "\u001b[32m[1104 17:37:12 @base.py:275]\u001b[0m Start Epoch 694 ...\n"
     ]
    },
    {
     "name": "stderr",
     "output_type": "stream",
     "text": [
      "100%|###################################################################################|175/175[00:06<00:00,26.67it/s]"
     ]
    },
    {
     "name": "stdout",
     "output_type": "stream",
     "text": [
      "\u001b[32m[1104 17:37:18 @base.py:285]\u001b[0m Epoch 694 (global_step 145739) finished, time:6.56 seconds.\n"
     ]
    },
    {
     "name": "stderr",
     "output_type": "stream",
     "text": [
      "\n"
     ]
    },
    {
     "name": "stdout",
     "output_type": "stream",
     "text": [
      "\u001b[32m[1104 17:37:18 @saver.py:79]\u001b[0m Model saved to ../output/Chicago/WGGP_WI_new3/model\\model-145739.\n",
      "\u001b[32m[1104 17:37:18 @monitor.py:467]\u001b[0m GAN_loss/d_loss: -0.46999\n",
      "\u001b[32m[1104 17:37:18 @monitor.py:467]\u001b[0m GAN_loss/g_loss: -0.31035\n",
      "\u001b[32m[1104 17:37:19 @monitor.py:467]\u001b[0m GAN_loss/gradient_penalty: 0.0067726\n",
      "\u001b[32m[1104 17:37:19 @monitor.py:467]\u001b[0m GAN_loss/gradient_rms: 0.99828\n",
      "\u001b[32m[1104 17:37:19 @monitor.py:467]\u001b[0m GAN_loss/kl_div: 0.087668\n",
      "\u001b[32m[1104 17:37:19 @monitor.py:467]\u001b[0m QueueInput/queue_size: 50\n",
      "\u001b[32m[1104 17:37:19 @base.py:275]\u001b[0m Start Epoch 695 ...\n"
     ]
    },
    {
     "name": "stderr",
     "output_type": "stream",
     "text": [
      "100%|###################################################################################|175/175[00:06<00:00,26.62it/s]"
     ]
    },
    {
     "name": "stdout",
     "output_type": "stream",
     "text": [
      "\u001b[32m[1104 17:37:25 @base.py:285]\u001b[0m Epoch 695 (global_step 145949) finished, time:6.58 seconds.\n",
      "\u001b[32m[1104 17:37:25 @saver.py:79]\u001b[0m Model saved to ../output/Chicago/WGGP_WI_new3/model\\model-145949.\n"
     ]
    },
    {
     "name": "stderr",
     "output_type": "stream",
     "text": [
      "\n"
     ]
    },
    {
     "name": "stdout",
     "output_type": "stream",
     "text": [
      "\u001b[32m[1104 17:37:25 @monitor.py:467]\u001b[0m GAN_loss/d_loss: -0.48933\n",
      "\u001b[32m[1104 17:37:25 @monitor.py:467]\u001b[0m GAN_loss/g_loss: -0.26625\n",
      "\u001b[32m[1104 17:37:25 @monitor.py:467]\u001b[0m GAN_loss/gradient_penalty: 0.0067965\n",
      "\u001b[32m[1104 17:37:25 @monitor.py:467]\u001b[0m GAN_loss/gradient_rms: 0.99841\n",
      "\u001b[32m[1104 17:37:25 @monitor.py:467]\u001b[0m GAN_loss/kl_div: 0.091543\n",
      "\u001b[32m[1104 17:37:25 @monitor.py:467]\u001b[0m QueueInput/queue_size: 50\n",
      "\u001b[32m[1104 17:37:25 @base.py:275]\u001b[0m Start Epoch 696 ...\n"
     ]
    },
    {
     "name": "stderr",
     "output_type": "stream",
     "text": [
      "100%|###################################################################################|175/175[00:06<00:00,26.78it/s]"
     ]
    },
    {
     "name": "stdout",
     "output_type": "stream",
     "text": [
      "\u001b[32m[1104 17:37:32 @base.py:285]\u001b[0m Epoch 696 (global_step 146159) finished, time:6.54 seconds.\n",
      "\u001b[32m[1104 17:37:32 @saver.py:79]\u001b[0m Model saved to ../output/Chicago/WGGP_WI_new3/model\\model-146159.\n"
     ]
    },
    {
     "name": "stderr",
     "output_type": "stream",
     "text": [
      "\n"
     ]
    },
    {
     "name": "stdout",
     "output_type": "stream",
     "text": [
      "\u001b[32m[1104 17:37:32 @monitor.py:467]\u001b[0m GAN_loss/d_loss: -0.51391\n",
      "\u001b[32m[1104 17:37:32 @monitor.py:467]\u001b[0m GAN_loss/g_loss: -0.23917\n",
      "\u001b[32m[1104 17:37:32 @monitor.py:467]\u001b[0m GAN_loss/gradient_penalty: 0.0069478\n",
      "\u001b[32m[1104 17:37:32 @monitor.py:467]\u001b[0m GAN_loss/gradient_rms: 0.99825\n",
      "\u001b[32m[1104 17:37:32 @monitor.py:467]\u001b[0m GAN_loss/kl_div: 0.083589\n",
      "\u001b[32m[1104 17:37:32 @monitor.py:467]\u001b[0m QueueInput/queue_size: 50\n",
      "\u001b[32m[1104 17:37:32 @base.py:275]\u001b[0m Start Epoch 697 ...\n"
     ]
    },
    {
     "name": "stderr",
     "output_type": "stream",
     "text": [
      "100%|###################################################################################|175/175[00:06<00:00,26.50it/s]"
     ]
    },
    {
     "name": "stdout",
     "output_type": "stream",
     "text": [
      "\u001b[32m[1104 17:37:39 @base.py:285]\u001b[0m Epoch 697 (global_step 146369) finished, time:6.6 seconds.\n",
      "\u001b[32m[1104 17:37:39 @saver.py:79]\u001b[0m Model saved to ../output/Chicago/WGGP_WI_new3/model\\model-146369.\n"
     ]
    },
    {
     "name": "stderr",
     "output_type": "stream",
     "text": [
      "\n"
     ]
    },
    {
     "name": "stdout",
     "output_type": "stream",
     "text": [
      "\u001b[32m[1104 17:37:39 @monitor.py:467]\u001b[0m GAN_loss/d_loss: -0.81468\n",
      "\u001b[32m[1104 17:37:39 @monitor.py:467]\u001b[0m GAN_loss/g_loss: -0.21142\n",
      "\u001b[32m[1104 17:37:39 @monitor.py:467]\u001b[0m GAN_loss/gradient_penalty: 0.0075157\n",
      "\u001b[32m[1104 17:37:39 @monitor.py:467]\u001b[0m GAN_loss/gradient_rms: 1.0003\n",
      "\u001b[32m[1104 17:37:39 @monitor.py:467]\u001b[0m GAN_loss/kl_div: 0.09776\n",
      "\u001b[32m[1104 17:37:39 @monitor.py:467]\u001b[0m QueueInput/queue_size: 50\n",
      "\u001b[32m[1104 17:37:39 @base.py:275]\u001b[0m Start Epoch 698 ...\n"
     ]
    },
    {
     "name": "stderr",
     "output_type": "stream",
     "text": [
      "100%|###################################################################################|175/175[00:06<00:00,26.78it/s]"
     ]
    },
    {
     "name": "stdout",
     "output_type": "stream",
     "text": [
      "\u001b[32m[1104 17:37:45 @base.py:285]\u001b[0m Epoch 698 (global_step 146579) finished, time:6.54 seconds.\n"
     ]
    },
    {
     "name": "stderr",
     "output_type": "stream",
     "text": [
      "\n"
     ]
    },
    {
     "name": "stdout",
     "output_type": "stream",
     "text": [
      "\u001b[32m[1104 17:37:46 @saver.py:79]\u001b[0m Model saved to ../output/Chicago/WGGP_WI_new3/model\\model-146579.\n",
      "\u001b[32m[1104 17:37:46 @monitor.py:467]\u001b[0m GAN_loss/d_loss: -0.67851\n",
      "\u001b[32m[1104 17:37:46 @monitor.py:467]\u001b[0m GAN_loss/g_loss: -0.23553\n",
      "\u001b[32m[1104 17:37:46 @monitor.py:467]\u001b[0m GAN_loss/gradient_penalty: 0.0073255\n",
      "\u001b[32m[1104 17:37:46 @monitor.py:467]\u001b[0m GAN_loss/gradient_rms: 0.99903\n",
      "\u001b[32m[1104 17:37:46 @monitor.py:467]\u001b[0m GAN_loss/kl_div: 0.10371\n",
      "\u001b[32m[1104 17:37:46 @monitor.py:467]\u001b[0m QueueInput/queue_size: 50\n",
      "\u001b[32m[1104 17:37:46 @base.py:275]\u001b[0m Start Epoch 699 ...\n"
     ]
    },
    {
     "name": "stderr",
     "output_type": "stream",
     "text": [
      "100%|###################################################################################|175/175[00:06<00:00,26.78it/s]"
     ]
    },
    {
     "name": "stdout",
     "output_type": "stream",
     "text": [
      "\u001b[32m[1104 17:37:52 @base.py:285]\u001b[0m Epoch 699 (global_step 146789) finished, time:6.53 seconds.\n",
      "\u001b[32m[1104 17:37:52 @saver.py:79]\u001b[0m Model saved to ../output/Chicago/WGGP_WI_new3/model\\model-146789.\n"
     ]
    },
    {
     "name": "stderr",
     "output_type": "stream",
     "text": [
      "\n"
     ]
    },
    {
     "name": "stdout",
     "output_type": "stream",
     "text": [
      "\u001b[32m[1104 17:37:52 @monitor.py:467]\u001b[0m GAN_loss/d_loss: -0.61846\n",
      "\u001b[32m[1104 17:37:52 @monitor.py:467]\u001b[0m GAN_loss/g_loss: -0.21799\n",
      "\u001b[32m[1104 17:37:52 @monitor.py:467]\u001b[0m GAN_loss/gradient_penalty: 0.0080773\n",
      "\u001b[32m[1104 17:37:52 @monitor.py:467]\u001b[0m GAN_loss/gradient_rms: 0.9989\n",
      "\u001b[32m[1104 17:37:52 @monitor.py:467]\u001b[0m GAN_loss/kl_div: 0.079821\n",
      "\u001b[32m[1104 17:37:52 @monitor.py:467]\u001b[0m QueueInput/queue_size: 50\n",
      "\u001b[32m[1104 17:37:52 @base.py:275]\u001b[0m Start Epoch 700 ...\n"
     ]
    },
    {
     "name": "stderr",
     "output_type": "stream",
     "text": [
      "100%|###################################################################################|175/175[00:06<00:00,26.66it/s]"
     ]
    },
    {
     "name": "stdout",
     "output_type": "stream",
     "text": [
      "\u001b[32m[1104 17:37:59 @base.py:285]\u001b[0m Epoch 700 (global_step 146999) finished, time:6.57 seconds.\n",
      "\u001b[32m[1104 17:37:59 @saver.py:79]\u001b[0m Model saved to ../output/Chicago/WGGP_WI_new3/model\\model-146999.\n"
     ]
    },
    {
     "name": "stderr",
     "output_type": "stream",
     "text": [
      "\n"
     ]
    },
    {
     "name": "stdout",
     "output_type": "stream",
     "text": [
      "\u001b[32m[1104 17:37:59 @monitor.py:467]\u001b[0m GAN_loss/d_loss: -0.42839\n",
      "\u001b[32m[1104 17:37:59 @monitor.py:467]\u001b[0m GAN_loss/g_loss: -0.24524\n",
      "\u001b[32m[1104 17:37:59 @monitor.py:467]\u001b[0m GAN_loss/gradient_penalty: 0.0070453\n",
      "\u001b[32m[1104 17:37:59 @monitor.py:467]\u001b[0m GAN_loss/gradient_rms: 0.99747\n",
      "\u001b[32m[1104 17:37:59 @monitor.py:467]\u001b[0m GAN_loss/kl_div: 0.089653\n",
      "\u001b[32m[1104 17:37:59 @monitor.py:467]\u001b[0m QueueInput/queue_size: 50\n",
      "\u001b[32m[1104 17:37:59 @base.py:275]\u001b[0m Start Epoch 701 ...\n"
     ]
    },
    {
     "name": "stderr",
     "output_type": "stream",
     "text": [
      "100%|###################################################################################|175/175[00:06<00:00,26.47it/s]"
     ]
    },
    {
     "name": "stdout",
     "output_type": "stream",
     "text": [
      "\u001b[32m[1104 17:38:06 @base.py:285]\u001b[0m Epoch 701 (global_step 147209) finished, time:6.61 seconds.\n",
      "\u001b[32m[1104 17:38:06 @saver.py:79]\u001b[0m Model saved to ../output/Chicago/WGGP_WI_new3/model\\model-147209.\n"
     ]
    },
    {
     "name": "stderr",
     "output_type": "stream",
     "text": [
      "\n"
     ]
    },
    {
     "name": "stdout",
     "output_type": "stream",
     "text": [
      "\u001b[32m[1104 17:38:06 @monitor.py:467]\u001b[0m GAN_loss/d_loss: -0.36634\n",
      "\u001b[32m[1104 17:38:06 @monitor.py:467]\u001b[0m GAN_loss/g_loss: -0.26293\n",
      "\u001b[32m[1104 17:38:06 @monitor.py:467]\u001b[0m GAN_loss/gradient_penalty: 0.0068138\n",
      "\u001b[32m[1104 17:38:06 @monitor.py:467]\u001b[0m GAN_loss/gradient_rms: 0.99784\n",
      "\u001b[32m[1104 17:38:06 @monitor.py:467]\u001b[0m GAN_loss/kl_div: 0.090027\n",
      "\u001b[32m[1104 17:38:06 @monitor.py:467]\u001b[0m QueueInput/queue_size: 50\n",
      "\u001b[32m[1104 17:38:06 @base.py:275]\u001b[0m Start Epoch 702 ...\n"
     ]
    },
    {
     "name": "stderr",
     "output_type": "stream",
     "text": [
      "100%|###################################################################################|175/175[00:06<00:00,26.70it/s]"
     ]
    },
    {
     "name": "stdout",
     "output_type": "stream",
     "text": [
      "\u001b[32m[1104 17:38:13 @base.py:285]\u001b[0m Epoch 702 (global_step 147419) finished, time:6.55 seconds.\n"
     ]
    },
    {
     "name": "stderr",
     "output_type": "stream",
     "text": [
      "\n"
     ]
    },
    {
     "name": "stdout",
     "output_type": "stream",
     "text": [
      "\u001b[32m[1104 17:38:13 @saver.py:79]\u001b[0m Model saved to ../output/Chicago/WGGP_WI_new3/model\\model-147419.\n",
      "\u001b[32m[1104 17:38:13 @monitor.py:467]\u001b[0m GAN_loss/d_loss: -0.3673\n",
      "\u001b[32m[1104 17:38:13 @monitor.py:467]\u001b[0m GAN_loss/g_loss: -0.26574\n",
      "\u001b[32m[1104 17:38:13 @monitor.py:467]\u001b[0m GAN_loss/gradient_penalty: 0.006904\n",
      "\u001b[32m[1104 17:38:13 @monitor.py:467]\u001b[0m GAN_loss/gradient_rms: 0.99853\n",
      "\u001b[32m[1104 17:38:13 @monitor.py:467]\u001b[0m GAN_loss/kl_div: 0.08054\n",
      "\u001b[32m[1104 17:38:13 @monitor.py:467]\u001b[0m QueueInput/queue_size: 50\n",
      "\u001b[32m[1104 17:38:13 @base.py:275]\u001b[0m Start Epoch 703 ...\n"
     ]
    },
    {
     "name": "stderr",
     "output_type": "stream",
     "text": [
      "100%|###################################################################################|175/175[00:06<00:00,26.76it/s]"
     ]
    },
    {
     "name": "stdout",
     "output_type": "stream",
     "text": [
      "\u001b[32m[1104 17:38:19 @base.py:285]\u001b[0m Epoch 703 (global_step 147629) finished, time:6.54 seconds.\n"
     ]
    },
    {
     "name": "stderr",
     "output_type": "stream",
     "text": [
      "\n"
     ]
    },
    {
     "name": "stdout",
     "output_type": "stream",
     "text": [
      "\u001b[32m[1104 17:38:20 @saver.py:79]\u001b[0m Model saved to ../output/Chicago/WGGP_WI_new3/model\\model-147629.\n",
      "\u001b[32m[1104 17:38:20 @monitor.py:467]\u001b[0m GAN_loss/d_loss: -0.38273\n",
      "\u001b[32m[1104 17:38:20 @monitor.py:467]\u001b[0m GAN_loss/g_loss: -0.26936\n",
      "\u001b[32m[1104 17:38:20 @monitor.py:467]\u001b[0m GAN_loss/gradient_penalty: 0.0066188\n",
      "\u001b[32m[1104 17:38:20 @monitor.py:467]\u001b[0m GAN_loss/gradient_rms: 0.99861\n",
      "\u001b[32m[1104 17:38:20 @monitor.py:467]\u001b[0m GAN_loss/kl_div: 0.087805\n",
      "\u001b[32m[1104 17:38:20 @monitor.py:467]\u001b[0m QueueInput/queue_size: 50\n",
      "\u001b[32m[1104 17:38:20 @base.py:275]\u001b[0m Start Epoch 704 ...\n"
     ]
    },
    {
     "name": "stderr",
     "output_type": "stream",
     "text": [
      "100%|###################################################################################|175/175[00:06<00:00,26.83it/s]"
     ]
    },
    {
     "name": "stdout",
     "output_type": "stream",
     "text": [
      "\u001b[32m[1104 17:38:26 @base.py:285]\u001b[0m Epoch 704 (global_step 147839) finished, time:6.52 seconds.\n"
     ]
    },
    {
     "name": "stderr",
     "output_type": "stream",
     "text": [
      "\n"
     ]
    },
    {
     "name": "stdout",
     "output_type": "stream",
     "text": [
      "\u001b[32m[1104 17:38:26 @saver.py:79]\u001b[0m Model saved to ../output/Chicago/WGGP_WI_new3/model\\model-147839.\n",
      "\u001b[32m[1104 17:38:26 @monitor.py:467]\u001b[0m GAN_loss/d_loss: -0.35604\n",
      "\u001b[32m[1104 17:38:26 @monitor.py:467]\u001b[0m GAN_loss/g_loss: -0.30832\n",
      "\u001b[32m[1104 17:38:26 @monitor.py:467]\u001b[0m GAN_loss/gradient_penalty: 0.0064895\n",
      "\u001b[32m[1104 17:38:26 @monitor.py:467]\u001b[0m GAN_loss/gradient_rms: 0.99863\n",
      "\u001b[32m[1104 17:38:26 @monitor.py:467]\u001b[0m GAN_loss/kl_div: 0.087434\n",
      "\u001b[32m[1104 17:38:26 @monitor.py:467]\u001b[0m QueueInput/queue_size: 50\n",
      "\u001b[32m[1104 17:38:26 @base.py:275]\u001b[0m Start Epoch 705 ...\n"
     ]
    },
    {
     "name": "stderr",
     "output_type": "stream",
     "text": [
      "100%|###################################################################################|175/175[00:06<00:00,26.77it/s]"
     ]
    },
    {
     "name": "stdout",
     "output_type": "stream",
     "text": [
      "\u001b[32m[1104 17:38:33 @base.py:285]\u001b[0m Epoch 705 (global_step 148049) finished, time:6.54 seconds.\n"
     ]
    },
    {
     "name": "stderr",
     "output_type": "stream",
     "text": [
      "\n"
     ]
    },
    {
     "name": "stdout",
     "output_type": "stream",
     "text": [
      "\u001b[32m[1104 17:38:33 @saver.py:79]\u001b[0m Model saved to ../output/Chicago/WGGP_WI_new3/model\\model-148049.\n",
      "\u001b[32m[1104 17:38:33 @monitor.py:467]\u001b[0m GAN_loss/d_loss: -0.36179\n",
      "\u001b[32m[1104 17:38:33 @monitor.py:467]\u001b[0m GAN_loss/g_loss: -0.28302\n",
      "\u001b[32m[1104 17:38:33 @monitor.py:467]\u001b[0m GAN_loss/gradient_penalty: 0.0064415\n",
      "\u001b[32m[1104 17:38:33 @monitor.py:467]\u001b[0m GAN_loss/gradient_rms: 0.99857\n",
      "\u001b[32m[1104 17:38:33 @monitor.py:467]\u001b[0m GAN_loss/kl_div: 0.090492\n",
      "\u001b[32m[1104 17:38:33 @monitor.py:467]\u001b[0m QueueInput/queue_size: 50\n",
      "\u001b[32m[1104 17:38:33 @base.py:275]\u001b[0m Start Epoch 706 ...\n"
     ]
    },
    {
     "name": "stderr",
     "output_type": "stream",
     "text": [
      "100%|###################################################################################|175/175[00:06<00:00,26.80it/s]"
     ]
    },
    {
     "name": "stdout",
     "output_type": "stream",
     "text": [
      "\u001b[32m[1104 17:38:40 @base.py:285]\u001b[0m Epoch 706 (global_step 148259) finished, time:6.53 seconds.\n"
     ]
    },
    {
     "name": "stderr",
     "output_type": "stream",
     "text": [
      "\n"
     ]
    },
    {
     "name": "stdout",
     "output_type": "stream",
     "text": [
      "\u001b[32m[1104 17:38:40 @saver.py:79]\u001b[0m Model saved to ../output/Chicago/WGGP_WI_new3/model\\model-148259.\n",
      "\u001b[32m[1104 17:38:40 @monitor.py:467]\u001b[0m GAN_loss/d_loss: -0.40259\n",
      "\u001b[32m[1104 17:38:40 @monitor.py:467]\u001b[0m GAN_loss/g_loss: -0.28781\n",
      "\u001b[32m[1104 17:38:40 @monitor.py:467]\u001b[0m GAN_loss/gradient_penalty: 0.006818\n",
      "\u001b[32m[1104 17:38:40 @monitor.py:467]\u001b[0m GAN_loss/gradient_rms: 0.99842\n",
      "\u001b[32m[1104 17:38:40 @monitor.py:467]\u001b[0m GAN_loss/kl_div: 0.085719\n",
      "\u001b[32m[1104 17:38:40 @monitor.py:467]\u001b[0m QueueInput/queue_size: 50\n",
      "\u001b[32m[1104 17:38:40 @base.py:275]\u001b[0m Start Epoch 707 ...\n"
     ]
    },
    {
     "name": "stderr",
     "output_type": "stream",
     "text": [
      "100%|###################################################################################|175/175[00:06<00:00,26.78it/s]"
     ]
    },
    {
     "name": "stdout",
     "output_type": "stream",
     "text": [
      "\u001b[32m[1104 17:38:46 @base.py:285]\u001b[0m Epoch 707 (global_step 148469) finished, time:6.53 seconds.\n",
      "\u001b[32m[1104 17:38:47 @saver.py:79]\u001b[0m Model saved to ../output/Chicago/WGGP_WI_new3/model\\model-148469.\n"
     ]
    },
    {
     "name": "stderr",
     "output_type": "stream",
     "text": [
      "\n"
     ]
    },
    {
     "name": "stdout",
     "output_type": "stream",
     "text": [
      "\u001b[32m[1104 17:38:47 @monitor.py:467]\u001b[0m GAN_loss/d_loss: -0.32759\n",
      "\u001b[32m[1104 17:38:47 @monitor.py:467]\u001b[0m GAN_loss/g_loss: -0.27012\n",
      "\u001b[32m[1104 17:38:47 @monitor.py:467]\u001b[0m GAN_loss/gradient_penalty: 0.0064959\n",
      "\u001b[32m[1104 17:38:47 @monitor.py:467]\u001b[0m GAN_loss/gradient_rms: 0.99901\n",
      "\u001b[32m[1104 17:38:47 @monitor.py:467]\u001b[0m GAN_loss/kl_div: 0.087125\n",
      "\u001b[32m[1104 17:38:47 @monitor.py:467]\u001b[0m QueueInput/queue_size: 50\n",
      "\u001b[32m[1104 17:38:47 @base.py:275]\u001b[0m Start Epoch 708 ...\n"
     ]
    },
    {
     "name": "stderr",
     "output_type": "stream",
     "text": [
      "100%|###################################################################################|175/175[00:06<00:00,26.74it/s]"
     ]
    },
    {
     "name": "stdout",
     "output_type": "stream",
     "text": [
      "\u001b[32m[1104 17:38:53 @base.py:285]\u001b[0m Epoch 708 (global_step 148679) finished, time:6.54 seconds.\n"
     ]
    },
    {
     "name": "stderr",
     "output_type": "stream",
     "text": [
      "\n"
     ]
    },
    {
     "name": "stdout",
     "output_type": "stream",
     "text": [
      "\u001b[32m[1104 17:38:53 @saver.py:79]\u001b[0m Model saved to ../output/Chicago/WGGP_WI_new3/model\\model-148679.\n",
      "\u001b[32m[1104 17:38:54 @monitor.py:467]\u001b[0m GAN_loss/d_loss: -0.41509\n",
      "\u001b[32m[1104 17:38:54 @monitor.py:467]\u001b[0m GAN_loss/g_loss: -0.24515\n",
      "\u001b[32m[1104 17:38:54 @monitor.py:467]\u001b[0m GAN_loss/gradient_penalty: 0.0068285\n",
      "\u001b[32m[1104 17:38:54 @monitor.py:467]\u001b[0m GAN_loss/gradient_rms: 0.9991\n",
      "\u001b[32m[1104 17:38:54 @monitor.py:467]\u001b[0m GAN_loss/kl_div: 0.085856\n",
      "\u001b[32m[1104 17:38:54 @monitor.py:467]\u001b[0m QueueInput/queue_size: 50\n",
      "\u001b[32m[1104 17:38:54 @base.py:275]\u001b[0m Start Epoch 709 ...\n"
     ]
    },
    {
     "name": "stderr",
     "output_type": "stream",
     "text": [
      "100%|###################################################################################|175/175[00:06<00:00,25.92it/s]"
     ]
    },
    {
     "name": "stdout",
     "output_type": "stream",
     "text": [
      "\u001b[32m[1104 17:39:00 @base.py:285]\u001b[0m Epoch 709 (global_step 148889) finished, time:6.75 seconds.\n",
      "\u001b[32m[1104 17:39:00 @saver.py:79]\u001b[0m Model saved to ../output/Chicago/WGGP_WI_new3/model\\model-148889.\n"
     ]
    },
    {
     "name": "stderr",
     "output_type": "stream",
     "text": [
      "\n"
     ]
    },
    {
     "name": "stdout",
     "output_type": "stream",
     "text": [
      "\u001b[32m[1104 17:39:01 @monitor.py:467]\u001b[0m GAN_loss/d_loss: -0.40144\n",
      "\u001b[32m[1104 17:39:01 @monitor.py:467]\u001b[0m GAN_loss/g_loss: -0.25928\n",
      "\u001b[32m[1104 17:39:01 @monitor.py:467]\u001b[0m GAN_loss/gradient_penalty: 0.0069101\n",
      "\u001b[32m[1104 17:39:01 @monitor.py:467]\u001b[0m GAN_loss/gradient_rms: 0.99943\n",
      "\u001b[32m[1104 17:39:01 @monitor.py:467]\u001b[0m GAN_loss/kl_div: 0.099209\n",
      "\u001b[32m[1104 17:39:01 @monitor.py:467]\u001b[0m QueueInput/queue_size: 50\n",
      "\u001b[32m[1104 17:39:01 @base.py:275]\u001b[0m Start Epoch 710 ...\n"
     ]
    },
    {
     "name": "stderr",
     "output_type": "stream",
     "text": [
      "100%|###################################################################################|175/175[00:06<00:00,25.72it/s]"
     ]
    },
    {
     "name": "stdout",
     "output_type": "stream",
     "text": [
      "\u001b[32m[1104 17:39:07 @base.py:285]\u001b[0m Epoch 710 (global_step 149099) finished, time:6.81 seconds.\n",
      "\u001b[32m[1104 17:39:07 @saver.py:79]\u001b[0m Model saved to ../output/Chicago/WGGP_WI_new3/model\\model-149099.\n"
     ]
    },
    {
     "name": "stderr",
     "output_type": "stream",
     "text": [
      "\n"
     ]
    },
    {
     "name": "stdout",
     "output_type": "stream",
     "text": [
      "\u001b[32m[1104 17:39:08 @monitor.py:467]\u001b[0m GAN_loss/d_loss: -0.37806\n",
      "\u001b[32m[1104 17:39:08 @monitor.py:467]\u001b[0m GAN_loss/g_loss: -0.25803\n",
      "\u001b[32m[1104 17:39:08 @monitor.py:467]\u001b[0m GAN_loss/gradient_penalty: 0.0065382\n",
      "\u001b[32m[1104 17:39:08 @monitor.py:467]\u001b[0m GAN_loss/gradient_rms: 0.99907\n",
      "\u001b[32m[1104 17:39:08 @monitor.py:467]\u001b[0m GAN_loss/kl_div: 0.088612\n",
      "\u001b[32m[1104 17:39:08 @monitor.py:467]\u001b[0m QueueInput/queue_size: 50\n",
      "\u001b[32m[1104 17:39:08 @base.py:275]\u001b[0m Start Epoch 711 ...\n"
     ]
    },
    {
     "name": "stderr",
     "output_type": "stream",
     "text": [
      "100%|###################################################################################|175/175[00:06<00:00,25.89it/s]"
     ]
    },
    {
     "name": "stdout",
     "output_type": "stream",
     "text": [
      "\u001b[32m[1104 17:39:14 @base.py:285]\u001b[0m Epoch 711 (global_step 149309) finished, time:6.76 seconds.\n",
      "\u001b[32m[1104 17:39:14 @saver.py:79]\u001b[0m Model saved to ../output/Chicago/WGGP_WI_new3/model\\model-149309.\n"
     ]
    },
    {
     "name": "stderr",
     "output_type": "stream",
     "text": [
      "\n"
     ]
    },
    {
     "name": "stdout",
     "output_type": "stream",
     "text": [
      "\u001b[32m[1104 17:39:15 @monitor.py:467]\u001b[0m GAN_loss/d_loss: -0.48314\n",
      "\u001b[32m[1104 17:39:15 @monitor.py:467]\u001b[0m GAN_loss/g_loss: -0.28973\n",
      "\u001b[32m[1104 17:39:15 @monitor.py:467]\u001b[0m GAN_loss/gradient_penalty: 0.0067879\n",
      "\u001b[32m[1104 17:39:15 @monitor.py:467]\u001b[0m GAN_loss/gradient_rms: 0.99947\n",
      "\u001b[32m[1104 17:39:15 @monitor.py:467]\u001b[0m GAN_loss/kl_div: 0.09049\n",
      "\u001b[32m[1104 17:39:15 @monitor.py:467]\u001b[0m QueueInput/queue_size: 50\n",
      "\u001b[32m[1104 17:39:15 @base.py:275]\u001b[0m Start Epoch 712 ...\n"
     ]
    },
    {
     "name": "stderr",
     "output_type": "stream",
     "text": [
      "100%|###################################################################################|175/175[00:06<00:00,26.24it/s]"
     ]
    },
    {
     "name": "stdout",
     "output_type": "stream",
     "text": [
      "\u001b[32m[1104 17:39:21 @base.py:285]\u001b[0m Epoch 712 (global_step 149519) finished, time:6.67 seconds.\n",
      "\u001b[32m[1104 17:39:21 @saver.py:79]\u001b[0m Model saved to ../output/Chicago/WGGP_WI_new3/model\\model-149519.\n"
     ]
    },
    {
     "name": "stderr",
     "output_type": "stream",
     "text": [
      "\n"
     ]
    },
    {
     "name": "stdout",
     "output_type": "stream",
     "text": [
      "\u001b[32m[1104 17:39:21 @monitor.py:467]\u001b[0m GAN_loss/d_loss: -0.54379\n",
      "\u001b[32m[1104 17:39:21 @monitor.py:467]\u001b[0m GAN_loss/g_loss: -0.29092\n",
      "\u001b[32m[1104 17:39:21 @monitor.py:467]\u001b[0m GAN_loss/gradient_penalty: 0.0071466\n",
      "\u001b[32m[1104 17:39:21 @monitor.py:467]\u001b[0m GAN_loss/gradient_rms: 1.0001\n",
      "\u001b[32m[1104 17:39:21 @monitor.py:467]\u001b[0m GAN_loss/kl_div: 0.091429\n",
      "\u001b[32m[1104 17:39:21 @monitor.py:467]\u001b[0m QueueInput/queue_size: 50\n",
      "\u001b[32m[1104 17:39:21 @base.py:275]\u001b[0m Start Epoch 713 ...\n"
     ]
    },
    {
     "name": "stderr",
     "output_type": "stream",
     "text": [
      "100%|###################################################################################|175/175[00:06<00:00,26.42it/s]"
     ]
    },
    {
     "name": "stdout",
     "output_type": "stream",
     "text": [
      "\u001b[32m[1104 17:39:28 @base.py:285]\u001b[0m Epoch 713 (global_step 149729) finished, time:6.62 seconds.\n"
     ]
    },
    {
     "name": "stderr",
     "output_type": "stream",
     "text": [
      "\n"
     ]
    },
    {
     "name": "stdout",
     "output_type": "stream",
     "text": [
      "\u001b[32m[1104 17:39:28 @saver.py:79]\u001b[0m Model saved to ../output/Chicago/WGGP_WI_new3/model\\model-149729.\n",
      "\u001b[32m[1104 17:39:28 @monitor.py:467]\u001b[0m GAN_loss/d_loss: -0.54577\n",
      "\u001b[32m[1104 17:39:28 @monitor.py:467]\u001b[0m GAN_loss/g_loss: -0.30637\n",
      "\u001b[32m[1104 17:39:28 @monitor.py:467]\u001b[0m GAN_loss/gradient_penalty: 0.0073349\n",
      "\u001b[32m[1104 17:39:28 @monitor.py:467]\u001b[0m GAN_loss/gradient_rms: 0.99792\n",
      "\u001b[32m[1104 17:39:28 @monitor.py:467]\u001b[0m GAN_loss/kl_div: 0.10459\n",
      "\u001b[32m[1104 17:39:28 @monitor.py:467]\u001b[0m QueueInput/queue_size: 50\n",
      "\u001b[32m[1104 17:39:28 @base.py:275]\u001b[0m Start Epoch 714 ...\n"
     ]
    },
    {
     "name": "stderr",
     "output_type": "stream",
     "text": [
      "100%|###################################################################################|175/175[00:06<00:00,26.83it/s]"
     ]
    },
    {
     "name": "stdout",
     "output_type": "stream",
     "text": [
      "\u001b[32m[1104 17:39:35 @base.py:285]\u001b[0m Epoch 714 (global_step 149939) finished, time:6.52 seconds.\n",
      "\u001b[32m[1104 17:39:35 @saver.py:79]\u001b[0m Model saved to ../output/Chicago/WGGP_WI_new3/model\\model-149939.\n"
     ]
    },
    {
     "name": "stderr",
     "output_type": "stream",
     "text": [
      "\n"
     ]
    },
    {
     "name": "stdout",
     "output_type": "stream",
     "text": [
      "\u001b[32m[1104 17:39:35 @monitor.py:467]\u001b[0m GAN_loss/d_loss: -0.48618\n",
      "\u001b[32m[1104 17:39:35 @monitor.py:467]\u001b[0m GAN_loss/g_loss: -0.33653\n",
      "\u001b[32m[1104 17:39:35 @monitor.py:467]\u001b[0m GAN_loss/gradient_penalty: 0.0068431\n",
      "\u001b[32m[1104 17:39:35 @monitor.py:467]\u001b[0m GAN_loss/gradient_rms: 0.99868\n",
      "\u001b[32m[1104 17:39:35 @monitor.py:467]\u001b[0m GAN_loss/kl_div: 0.11127\n",
      "\u001b[32m[1104 17:39:35 @monitor.py:467]\u001b[0m QueueInput/queue_size: 50\n",
      "\u001b[32m[1104 17:39:35 @base.py:275]\u001b[0m Start Epoch 715 ...\n"
     ]
    },
    {
     "name": "stderr",
     "output_type": "stream",
     "text": [
      "100%|###################################################################################|175/175[00:06<00:00,26.54it/s]"
     ]
    },
    {
     "name": "stdout",
     "output_type": "stream",
     "text": [
      "\u001b[32m[1104 17:39:42 @base.py:285]\u001b[0m Epoch 715 (global_step 150149) finished, time:6.59 seconds.\n"
     ]
    },
    {
     "name": "stderr",
     "output_type": "stream",
     "text": [
      "\n"
     ]
    },
    {
     "name": "stdout",
     "output_type": "stream",
     "text": [
      "\u001b[32m[1104 17:39:42 @saver.py:79]\u001b[0m Model saved to ../output/Chicago/WGGP_WI_new3/model\\model-150149.\n",
      "\u001b[32m[1104 17:39:42 @monitor.py:467]\u001b[0m GAN_loss/d_loss: -0.56852\n",
      "\u001b[32m[1104 17:39:42 @monitor.py:467]\u001b[0m GAN_loss/g_loss: -0.32282\n",
      "\u001b[32m[1104 17:39:42 @monitor.py:467]\u001b[0m GAN_loss/gradient_penalty: 0.0070362\n",
      "\u001b[32m[1104 17:39:42 @monitor.py:467]\u001b[0m GAN_loss/gradient_rms: 0.99896\n",
      "\u001b[32m[1104 17:39:42 @monitor.py:467]\u001b[0m GAN_loss/kl_div: 0.10805\n",
      "\u001b[32m[1104 17:39:42 @monitor.py:467]\u001b[0m QueueInput/queue_size: 50\n",
      "\u001b[32m[1104 17:39:42 @base.py:275]\u001b[0m Start Epoch 716 ...\n"
     ]
    },
    {
     "name": "stderr",
     "output_type": "stream",
     "text": [
      "100%|###################################################################################|175/175[00:06<00:00,26.55it/s]"
     ]
    },
    {
     "name": "stdout",
     "output_type": "stream",
     "text": [
      "\u001b[32m[1104 17:39:48 @base.py:285]\u001b[0m Epoch 716 (global_step 150359) finished, time:6.59 seconds.\n",
      "\u001b[32m[1104 17:39:49 @saver.py:79]\u001b[0m Model saved to ../output/Chicago/WGGP_WI_new3/model\\model-150359.\n"
     ]
    },
    {
     "name": "stderr",
     "output_type": "stream",
     "text": [
      "\n"
     ]
    },
    {
     "name": "stdout",
     "output_type": "stream",
     "text": [
      "\u001b[32m[1104 17:39:49 @monitor.py:467]\u001b[0m GAN_loss/d_loss: -0.72743\n",
      "\u001b[32m[1104 17:39:49 @monitor.py:467]\u001b[0m GAN_loss/g_loss: -0.33147\n",
      "\u001b[32m[1104 17:39:49 @monitor.py:467]\u001b[0m GAN_loss/gradient_penalty: 0.0072298\n",
      "\u001b[32m[1104 17:39:49 @monitor.py:467]\u001b[0m GAN_loss/gradient_rms: 0.99989\n",
      "\u001b[32m[1104 17:39:49 @monitor.py:467]\u001b[0m GAN_loss/kl_div: 0.09974\n",
      "\u001b[32m[1104 17:39:49 @monitor.py:467]\u001b[0m QueueInput/queue_size: 50\n",
      "\u001b[32m[1104 17:39:49 @base.py:275]\u001b[0m Start Epoch 717 ...\n"
     ]
    },
    {
     "name": "stderr",
     "output_type": "stream",
     "text": [
      "100%|###################################################################################|175/175[00:06<00:00,26.67it/s]"
     ]
    },
    {
     "name": "stdout",
     "output_type": "stream",
     "text": [
      "\u001b[32m[1104 17:39:55 @base.py:285]\u001b[0m Epoch 717 (global_step 150569) finished, time:6.56 seconds.\n",
      "\u001b[32m[1104 17:39:55 @saver.py:79]\u001b[0m Model saved to ../output/Chicago/WGGP_WI_new3/model\\model-150569.\n"
     ]
    },
    {
     "name": "stderr",
     "output_type": "stream",
     "text": [
      "\n"
     ]
    },
    {
     "name": "stdout",
     "output_type": "stream",
     "text": [
      "\u001b[32m[1104 17:39:56 @monitor.py:467]\u001b[0m GAN_loss/d_loss: -0.78316\n",
      "\u001b[32m[1104 17:39:56 @monitor.py:467]\u001b[0m GAN_loss/g_loss: -0.31572\n",
      "\u001b[32m[1104 17:39:56 @monitor.py:467]\u001b[0m GAN_loss/gradient_penalty: 0.007711\n",
      "\u001b[32m[1104 17:39:56 @monitor.py:467]\u001b[0m GAN_loss/gradient_rms: 0.9995\n",
      "\u001b[32m[1104 17:39:56 @monitor.py:467]\u001b[0m GAN_loss/kl_div: 0.079501\n",
      "\u001b[32m[1104 17:39:56 @monitor.py:467]\u001b[0m QueueInput/queue_size: 50\n",
      "\u001b[32m[1104 17:39:56 @base.py:275]\u001b[0m Start Epoch 718 ...\n"
     ]
    },
    {
     "name": "stderr",
     "output_type": "stream",
     "text": [
      "100%|###################################################################################|175/175[00:06<00:00,26.69it/s]"
     ]
    },
    {
     "name": "stdout",
     "output_type": "stream",
     "text": [
      "\u001b[32m[1104 17:40:02 @base.py:285]\u001b[0m Epoch 718 (global_step 150779) finished, time:6.56 seconds.\n",
      "\u001b[32m[1104 17:40:02 @saver.py:79]\u001b[0m Model saved to ../output/Chicago/WGGP_WI_new3/model\\model-150779.\n"
     ]
    },
    {
     "name": "stderr",
     "output_type": "stream",
     "text": [
      "\n"
     ]
    },
    {
     "name": "stdout",
     "output_type": "stream",
     "text": [
      "\u001b[32m[1104 17:40:02 @monitor.py:467]\u001b[0m GAN_loss/d_loss: -0.52618\n",
      "\u001b[32m[1104 17:40:02 @monitor.py:467]\u001b[0m GAN_loss/g_loss: -0.33275\n",
      "\u001b[32m[1104 17:40:02 @monitor.py:467]\u001b[0m GAN_loss/gradient_penalty: 0.0068335\n",
      "\u001b[32m[1104 17:40:02 @monitor.py:467]\u001b[0m GAN_loss/gradient_rms: 0.9987\n",
      "\u001b[32m[1104 17:40:02 @monitor.py:467]\u001b[0m GAN_loss/kl_div: 0.077508\n",
      "\u001b[32m[1104 17:40:02 @monitor.py:467]\u001b[0m QueueInput/queue_size: 50\n",
      "\u001b[32m[1104 17:40:02 @base.py:275]\u001b[0m Start Epoch 719 ...\n"
     ]
    },
    {
     "name": "stderr",
     "output_type": "stream",
     "text": [
      "100%|###################################################################################|175/175[00:06<00:00,26.66it/s]"
     ]
    },
    {
     "name": "stdout",
     "output_type": "stream",
     "text": [
      "\u001b[32m[1104 17:40:09 @base.py:285]\u001b[0m Epoch 719 (global_step 150989) finished, time:6.57 seconds.\n",
      "\u001b[32m[1104 17:40:09 @saver.py:79]\u001b[0m Model saved to ../output/Chicago/WGGP_WI_new3/model\\model-150989.\n"
     ]
    },
    {
     "name": "stderr",
     "output_type": "stream",
     "text": [
      "\n"
     ]
    },
    {
     "name": "stdout",
     "output_type": "stream",
     "text": [
      "\u001b[32m[1104 17:40:09 @monitor.py:467]\u001b[0m GAN_loss/d_loss: -0.82906\n",
      "\u001b[32m[1104 17:40:09 @monitor.py:467]\u001b[0m GAN_loss/g_loss: -0.31386\n",
      "\u001b[32m[1104 17:40:09 @monitor.py:467]\u001b[0m GAN_loss/gradient_penalty: 0.007775\n",
      "\u001b[32m[1104 17:40:09 @monitor.py:467]\u001b[0m GAN_loss/gradient_rms: 1.0001\n",
      "\u001b[32m[1104 17:40:09 @monitor.py:467]\u001b[0m GAN_loss/kl_div: 0.083367\n",
      "\u001b[32m[1104 17:40:09 @monitor.py:467]\u001b[0m QueueInput/queue_size: 50\n",
      "\u001b[32m[1104 17:40:09 @base.py:275]\u001b[0m Start Epoch 720 ...\n"
     ]
    },
    {
     "name": "stderr",
     "output_type": "stream",
     "text": [
      "100%|###################################################################################|175/175[00:06<00:00,26.80it/s]"
     ]
    },
    {
     "name": "stdout",
     "output_type": "stream",
     "text": [
      "\u001b[32m[1104 17:40:16 @base.py:285]\u001b[0m Epoch 720 (global_step 151199) finished, time:6.53 seconds.\n",
      "\u001b[32m[1104 17:40:16 @saver.py:79]\u001b[0m Model saved to ../output/Chicago/WGGP_WI_new3/model\\model-151199.\n"
     ]
    },
    {
     "name": "stderr",
     "output_type": "stream",
     "text": [
      "\n"
     ]
    },
    {
     "name": "stdout",
     "output_type": "stream",
     "text": [
      "\u001b[32m[1104 17:40:16 @monitor.py:467]\u001b[0m GAN_loss/d_loss: -0.70195\n",
      "\u001b[32m[1104 17:40:16 @monitor.py:467]\u001b[0m GAN_loss/g_loss: -0.30633\n",
      "\u001b[32m[1104 17:40:16 @monitor.py:467]\u001b[0m GAN_loss/gradient_penalty: 0.0076154\n",
      "\u001b[32m[1104 17:40:16 @monitor.py:467]\u001b[0m GAN_loss/gradient_rms: 1.0018\n",
      "\u001b[32m[1104 17:40:16 @monitor.py:467]\u001b[0m GAN_loss/kl_div: 0.095135\n",
      "\u001b[32m[1104 17:40:16 @monitor.py:467]\u001b[0m QueueInput/queue_size: 50\n",
      "\u001b[32m[1104 17:40:16 @base.py:275]\u001b[0m Start Epoch 721 ...\n"
     ]
    },
    {
     "name": "stderr",
     "output_type": "stream",
     "text": [
      "100%|###################################################################################|175/175[00:06<00:00,26.95it/s]"
     ]
    },
    {
     "name": "stdout",
     "output_type": "stream",
     "text": [
      "\u001b[32m[1104 17:40:22 @base.py:285]\u001b[0m Epoch 721 (global_step 151409) finished, time:6.49 seconds.\n",
      "\u001b[32m[1104 17:40:22 @saver.py:79]\u001b[0m Model saved to ../output/Chicago/WGGP_WI_new3/model\\model-151409.\n"
     ]
    },
    {
     "name": "stderr",
     "output_type": "stream",
     "text": [
      "\n"
     ]
    },
    {
     "name": "stdout",
     "output_type": "stream",
     "text": [
      "\u001b[32m[1104 17:40:23 @monitor.py:467]\u001b[0m GAN_loss/d_loss: -0.75649\n",
      "\u001b[32m[1104 17:40:23 @monitor.py:467]\u001b[0m GAN_loss/g_loss: -0.33733\n",
      "\u001b[32m[1104 17:40:23 @monitor.py:467]\u001b[0m GAN_loss/gradient_penalty: 0.0076919\n",
      "\u001b[32m[1104 17:40:23 @monitor.py:467]\u001b[0m GAN_loss/gradient_rms: 0.99946\n",
      "\u001b[32m[1104 17:40:23 @monitor.py:467]\u001b[0m GAN_loss/kl_div: 0.0915\n",
      "\u001b[32m[1104 17:40:23 @monitor.py:467]\u001b[0m QueueInput/queue_size: 50\n",
      "\u001b[32m[1104 17:40:23 @base.py:275]\u001b[0m Start Epoch 722 ...\n"
     ]
    },
    {
     "name": "stderr",
     "output_type": "stream",
     "text": [
      "100%|###################################################################################|175/175[00:06<00:00,26.70it/s]"
     ]
    },
    {
     "name": "stdout",
     "output_type": "stream",
     "text": [
      "\u001b[32m[1104 17:40:29 @base.py:285]\u001b[0m Epoch 722 (global_step 151619) finished, time:6.56 seconds.\n",
      "\u001b[32m[1104 17:40:29 @saver.py:79]\u001b[0m Model saved to ../output/Chicago/WGGP_WI_new3/model\\model-151619.\n"
     ]
    },
    {
     "name": "stderr",
     "output_type": "stream",
     "text": [
      "\n"
     ]
    },
    {
     "name": "stdout",
     "output_type": "stream",
     "text": [
      "\u001b[32m[1104 17:40:29 @monitor.py:467]\u001b[0m GAN_loss/d_loss: -0.85914\n",
      "\u001b[32m[1104 17:40:29 @monitor.py:467]\u001b[0m GAN_loss/g_loss: -0.34072\n",
      "\u001b[32m[1104 17:40:29 @monitor.py:467]\u001b[0m GAN_loss/gradient_penalty: 0.0081333\n",
      "\u001b[32m[1104 17:40:29 @monitor.py:467]\u001b[0m GAN_loss/gradient_rms: 1.0012\n",
      "\u001b[32m[1104 17:40:29 @monitor.py:467]\u001b[0m GAN_loss/kl_div: 0.08588\n",
      "\u001b[32m[1104 17:40:29 @monitor.py:467]\u001b[0m QueueInput/queue_size: 50\n",
      "\u001b[32m[1104 17:40:29 @base.py:275]\u001b[0m Start Epoch 723 ...\n"
     ]
    },
    {
     "name": "stderr",
     "output_type": "stream",
     "text": [
      "100%|###################################################################################|175/175[00:06<00:00,26.70it/s]"
     ]
    },
    {
     "name": "stdout",
     "output_type": "stream",
     "text": [
      "\u001b[32m[1104 17:40:36 @base.py:285]\u001b[0m Epoch 723 (global_step 151829) finished, time:6.56 seconds.\n",
      "\u001b[32m[1104 17:40:36 @saver.py:79]\u001b[0m Model saved to ../output/Chicago/WGGP_WI_new3/model\\model-151829.\n"
     ]
    },
    {
     "name": "stderr",
     "output_type": "stream",
     "text": [
      "\n"
     ]
    },
    {
     "name": "stdout",
     "output_type": "stream",
     "text": [
      "\u001b[32m[1104 17:40:36 @monitor.py:467]\u001b[0m GAN_loss/d_loss: -0.67741\n",
      "\u001b[32m[1104 17:40:36 @monitor.py:467]\u001b[0m GAN_loss/g_loss: -0.33575\n",
      "\u001b[32m[1104 17:40:36 @monitor.py:467]\u001b[0m GAN_loss/gradient_penalty: 0.0079068\n",
      "\u001b[32m[1104 17:40:36 @monitor.py:467]\u001b[0m GAN_loss/gradient_rms: 0.99998\n",
      "\u001b[32m[1104 17:40:36 @monitor.py:467]\u001b[0m GAN_loss/kl_div: 0.085939\n",
      "\u001b[32m[1104 17:40:36 @monitor.py:467]\u001b[0m QueueInput/queue_size: 50\n",
      "\u001b[32m[1104 17:40:36 @base.py:275]\u001b[0m Start Epoch 724 ...\n"
     ]
    },
    {
     "name": "stderr",
     "output_type": "stream",
     "text": [
      "100%|###################################################################################|175/175[00:06<00:00,26.82it/s]"
     ]
    },
    {
     "name": "stdout",
     "output_type": "stream",
     "text": [
      "\u001b[32m[1104 17:40:43 @base.py:285]\u001b[0m Epoch 724 (global_step 152039) finished, time:6.52 seconds.\n"
     ]
    },
    {
     "name": "stderr",
     "output_type": "stream",
     "text": [
      "\n"
     ]
    },
    {
     "name": "stdout",
     "output_type": "stream",
     "text": [
      "\u001b[32m[1104 17:40:43 @saver.py:79]\u001b[0m Model saved to ../output/Chicago/WGGP_WI_new3/model\\model-152039.\n",
      "\u001b[32m[1104 17:40:43 @monitor.py:467]\u001b[0m GAN_loss/d_loss: -0.58199\n",
      "\u001b[32m[1104 17:40:43 @monitor.py:467]\u001b[0m GAN_loss/g_loss: -0.32096\n",
      "\u001b[32m[1104 17:40:43 @monitor.py:467]\u001b[0m GAN_loss/gradient_penalty: 0.0077479\n",
      "\u001b[32m[1104 17:40:43 @monitor.py:467]\u001b[0m GAN_loss/gradient_rms: 0.99948\n",
      "\u001b[32m[1104 17:40:43 @monitor.py:467]\u001b[0m GAN_loss/kl_div: 0.081329\n",
      "\u001b[32m[1104 17:40:43 @monitor.py:467]\u001b[0m QueueInput/queue_size: 50\n",
      "\u001b[32m[1104 17:40:43 @base.py:275]\u001b[0m Start Epoch 725 ...\n"
     ]
    },
    {
     "name": "stderr",
     "output_type": "stream",
     "text": [
      "100%|###################################################################################|175/175[00:06<00:00,26.83it/s]"
     ]
    },
    {
     "name": "stdout",
     "output_type": "stream",
     "text": [
      "\u001b[32m[1104 17:40:49 @base.py:285]\u001b[0m Epoch 725 (global_step 152249) finished, time:6.52 seconds.\n"
     ]
    },
    {
     "name": "stderr",
     "output_type": "stream",
     "text": [
      "\n"
     ]
    },
    {
     "name": "stdout",
     "output_type": "stream",
     "text": [
      "\u001b[32m[1104 17:40:50 @saver.py:79]\u001b[0m Model saved to ../output/Chicago/WGGP_WI_new3/model\\model-152249.\n",
      "\u001b[32m[1104 17:40:50 @monitor.py:467]\u001b[0m GAN_loss/d_loss: -0.42973\n",
      "\u001b[32m[1104 17:40:50 @monitor.py:467]\u001b[0m GAN_loss/g_loss: -0.32175\n",
      "\u001b[32m[1104 17:40:50 @monitor.py:467]\u001b[0m GAN_loss/gradient_penalty: 0.0072576\n",
      "\u001b[32m[1104 17:40:50 @monitor.py:467]\u001b[0m GAN_loss/gradient_rms: 0.99682\n",
      "\u001b[32m[1104 17:40:50 @monitor.py:467]\u001b[0m GAN_loss/kl_div: 0.081371\n",
      "\u001b[32m[1104 17:40:50 @monitor.py:467]\u001b[0m QueueInput/queue_size: 50\n",
      "\u001b[32m[1104 17:40:50 @base.py:275]\u001b[0m Start Epoch 726 ...\n"
     ]
    },
    {
     "name": "stderr",
     "output_type": "stream",
     "text": [
      "100%|###################################################################################|175/175[00:06<00:00,26.97it/s]"
     ]
    },
    {
     "name": "stdout",
     "output_type": "stream",
     "text": [
      "\u001b[32m[1104 17:40:56 @base.py:285]\u001b[0m Epoch 726 (global_step 152459) finished, time:6.49 seconds.\n",
      "\u001b[32m[1104 17:40:56 @saver.py:79]\u001b[0m Model saved to ../output/Chicago/WGGP_WI_new3/model\\model-152459.\n"
     ]
    },
    {
     "name": "stderr",
     "output_type": "stream",
     "text": [
      "\n"
     ]
    },
    {
     "name": "stdout",
     "output_type": "stream",
     "text": [
      "\u001b[32m[1104 17:40:56 @monitor.py:467]\u001b[0m GAN_loss/d_loss: -0.6413\n",
      "\u001b[32m[1104 17:40:56 @monitor.py:467]\u001b[0m GAN_loss/g_loss: -0.299\n",
      "\u001b[32m[1104 17:40:56 @monitor.py:467]\u001b[0m GAN_loss/gradient_penalty: 0.0075294\n",
      "\u001b[32m[1104 17:40:56 @monitor.py:467]\u001b[0m GAN_loss/gradient_rms: 0.99935\n",
      "\u001b[32m[1104 17:40:56 @monitor.py:467]\u001b[0m GAN_loss/kl_div: 0.091957\n",
      "\u001b[32m[1104 17:40:56 @monitor.py:467]\u001b[0m QueueInput/queue_size: 50\n",
      "\u001b[32m[1104 17:40:56 @base.py:275]\u001b[0m Start Epoch 727 ...\n"
     ]
    },
    {
     "name": "stderr",
     "output_type": "stream",
     "text": [
      "100%|###################################################################################|175/175[00:06<00:00,26.89it/s]"
     ]
    },
    {
     "name": "stdout",
     "output_type": "stream",
     "text": [
      "\u001b[32m[1104 17:41:03 @base.py:285]\u001b[0m Epoch 727 (global_step 152669) finished, time:6.51 seconds.\n"
     ]
    },
    {
     "name": "stderr",
     "output_type": "stream",
     "text": [
      "\n"
     ]
    },
    {
     "name": "stdout",
     "output_type": "stream",
     "text": [
      "\u001b[32m[1104 17:41:03 @saver.py:79]\u001b[0m Model saved to ../output/Chicago/WGGP_WI_new3/model\\model-152669.\n",
      "\u001b[32m[1104 17:41:03 @monitor.py:467]\u001b[0m GAN_loss/d_loss: -0.53279\n",
      "\u001b[32m[1104 17:41:03 @monitor.py:467]\u001b[0m GAN_loss/g_loss: -0.29556\n",
      "\u001b[32m[1104 17:41:03 @monitor.py:467]\u001b[0m GAN_loss/gradient_penalty: 0.0074733\n",
      "\u001b[32m[1104 17:41:03 @monitor.py:467]\u001b[0m GAN_loss/gradient_rms: 0.99842\n",
      "\u001b[32m[1104 17:41:03 @monitor.py:467]\u001b[0m GAN_loss/kl_div: 0.083353\n",
      "\u001b[32m[1104 17:41:03 @monitor.py:467]\u001b[0m QueueInput/queue_size: 50\n",
      "\u001b[32m[1104 17:41:03 @base.py:275]\u001b[0m Start Epoch 728 ...\n"
     ]
    },
    {
     "name": "stderr",
     "output_type": "stream",
     "text": [
      "100%|###################################################################################|175/175[00:06<00:00,26.74it/s]"
     ]
    },
    {
     "name": "stdout",
     "output_type": "stream",
     "text": [
      "\u001b[32m[1104 17:41:10 @base.py:285]\u001b[0m Epoch 728 (global_step 152879) finished, time:6.55 seconds.\n",
      "\u001b[32m[1104 17:41:10 @saver.py:79]\u001b[0m Model saved to ../output/Chicago/WGGP_WI_new3/model\\model-152879.\n"
     ]
    },
    {
     "name": "stderr",
     "output_type": "stream",
     "text": [
      "\n"
     ]
    },
    {
     "name": "stdout",
     "output_type": "stream",
     "text": [
      "\u001b[32m[1104 17:41:10 @monitor.py:467]\u001b[0m GAN_loss/d_loss: -0.93377\n",
      "\u001b[32m[1104 17:41:10 @monitor.py:467]\u001b[0m GAN_loss/g_loss: -0.27282\n",
      "\u001b[32m[1104 17:41:10 @monitor.py:467]\u001b[0m GAN_loss/gradient_penalty: 0.0079681\n",
      "\u001b[32m[1104 17:41:10 @monitor.py:467]\u001b[0m GAN_loss/gradient_rms: 1.002\n",
      "\u001b[32m[1104 17:41:10 @monitor.py:467]\u001b[0m GAN_loss/kl_div: 0.090059\n",
      "\u001b[32m[1104 17:41:10 @monitor.py:467]\u001b[0m QueueInput/queue_size: 50\n",
      "\u001b[32m[1104 17:41:10 @base.py:275]\u001b[0m Start Epoch 729 ...\n"
     ]
    },
    {
     "name": "stderr",
     "output_type": "stream",
     "text": [
      "100%|###################################################################################|175/175[00:06<00:00,26.87it/s]"
     ]
    },
    {
     "name": "stdout",
     "output_type": "stream",
     "text": [
      "\u001b[32m[1104 17:41:16 @base.py:285]\u001b[0m Epoch 729 (global_step 153089) finished, time:6.51 seconds.\n",
      "\u001b[32m[1104 17:41:17 @saver.py:79]\u001b[0m Model saved to ../output/Chicago/WGGP_WI_new3/model\\model-153089.\n"
     ]
    },
    {
     "name": "stderr",
     "output_type": "stream",
     "text": [
      "\n"
     ]
    },
    {
     "name": "stdout",
     "output_type": "stream",
     "text": [
      "\u001b[32m[1104 17:41:17 @monitor.py:467]\u001b[0m GAN_loss/d_loss: -0.56329\n",
      "\u001b[32m[1104 17:41:17 @monitor.py:467]\u001b[0m GAN_loss/g_loss: -0.2722\n",
      "\u001b[32m[1104 17:41:17 @monitor.py:467]\u001b[0m GAN_loss/gradient_penalty: 0.0074143\n",
      "\u001b[32m[1104 17:41:17 @monitor.py:467]\u001b[0m GAN_loss/gradient_rms: 0.99867\n",
      "\u001b[32m[1104 17:41:17 @monitor.py:467]\u001b[0m GAN_loss/kl_div: 0.080368\n",
      "\u001b[32m[1104 17:41:17 @monitor.py:467]\u001b[0m QueueInput/queue_size: 50\n",
      "\u001b[32m[1104 17:41:17 @base.py:275]\u001b[0m Start Epoch 730 ...\n"
     ]
    },
    {
     "name": "stderr",
     "output_type": "stream",
     "text": [
      "100%|###################################################################################|175/175[00:06<00:00,26.96it/s]"
     ]
    },
    {
     "name": "stdout",
     "output_type": "stream",
     "text": [
      "\u001b[32m[1104 17:41:23 @base.py:285]\u001b[0m Epoch 730 (global_step 153299) finished, time:6.49 seconds.\n",
      "\u001b[32m[1104 17:41:23 @saver.py:79]\u001b[0m Model saved to ../output/Chicago/WGGP_WI_new3/model\\model-153299.\n"
     ]
    },
    {
     "name": "stderr",
     "output_type": "stream",
     "text": [
      "\n"
     ]
    },
    {
     "name": "stdout",
     "output_type": "stream",
     "text": [
      "\u001b[32m[1104 17:41:23 @monitor.py:467]\u001b[0m GAN_loss/d_loss: -0.43029\n",
      "\u001b[32m[1104 17:41:23 @monitor.py:467]\u001b[0m GAN_loss/g_loss: -0.28421\n",
      "\u001b[32m[1104 17:41:23 @monitor.py:467]\u001b[0m GAN_loss/gradient_penalty: 0.0069604\n",
      "\u001b[32m[1104 17:41:23 @monitor.py:467]\u001b[0m GAN_loss/gradient_rms: 0.99812\n",
      "\u001b[32m[1104 17:41:23 @monitor.py:467]\u001b[0m GAN_loss/kl_div: 0.086658\n",
      "\u001b[32m[1104 17:41:23 @monitor.py:467]\u001b[0m QueueInput/queue_size: 50\n",
      "\u001b[32m[1104 17:41:23 @base.py:275]\u001b[0m Start Epoch 731 ...\n"
     ]
    },
    {
     "name": "stderr",
     "output_type": "stream",
     "text": [
      "100%|###################################################################################|175/175[00:06<00:00,26.86it/s]"
     ]
    },
    {
     "name": "stdout",
     "output_type": "stream",
     "text": [
      "\u001b[32m[1104 17:41:30 @base.py:285]\u001b[0m Epoch 731 (global_step 153509) finished, time:6.52 seconds.\n"
     ]
    },
    {
     "name": "stderr",
     "output_type": "stream",
     "text": [
      "\n"
     ]
    },
    {
     "name": "stdout",
     "output_type": "stream",
     "text": [
      "\u001b[32m[1104 17:41:30 @saver.py:79]\u001b[0m Model saved to ../output/Chicago/WGGP_WI_new3/model\\model-153509.\n",
      "\u001b[32m[1104 17:41:30 @monitor.py:467]\u001b[0m GAN_loss/d_loss: -0.62332\n",
      "\u001b[32m[1104 17:41:30 @monitor.py:467]\u001b[0m GAN_loss/g_loss: -0.30128\n",
      "\u001b[32m[1104 17:41:30 @monitor.py:467]\u001b[0m GAN_loss/gradient_penalty: 0.0071538\n",
      "\u001b[32m[1104 17:41:30 @monitor.py:467]\u001b[0m GAN_loss/gradient_rms: 1.0009\n",
      "\u001b[32m[1104 17:41:30 @monitor.py:467]\u001b[0m GAN_loss/kl_div: 0.077543\n",
      "\u001b[32m[1104 17:41:30 @monitor.py:467]\u001b[0m QueueInput/queue_size: 50\n",
      "\u001b[32m[1104 17:41:30 @base.py:275]\u001b[0m Start Epoch 732 ...\n"
     ]
    },
    {
     "name": "stderr",
     "output_type": "stream",
     "text": [
      "100%|###################################################################################|175/175[00:06<00:00,26.81it/s]"
     ]
    },
    {
     "name": "stdout",
     "output_type": "stream",
     "text": [
      "\u001b[32m[1104 17:41:37 @base.py:285]\u001b[0m Epoch 732 (global_step 153719) finished, time:6.53 seconds.\n"
     ]
    },
    {
     "name": "stderr",
     "output_type": "stream",
     "text": [
      "\n"
     ]
    },
    {
     "name": "stdout",
     "output_type": "stream",
     "text": [
      "\u001b[32m[1104 17:41:37 @saver.py:79]\u001b[0m Model saved to ../output/Chicago/WGGP_WI_new3/model\\model-153719.\n",
      "\u001b[32m[1104 17:41:37 @monitor.py:467]\u001b[0m GAN_loss/d_loss: -0.66403\n",
      "\u001b[32m[1104 17:41:37 @monitor.py:467]\u001b[0m GAN_loss/g_loss: -0.2908\n",
      "\u001b[32m[1104 17:41:37 @monitor.py:467]\u001b[0m GAN_loss/gradient_penalty: 0.0074138\n",
      "\u001b[32m[1104 17:41:37 @monitor.py:467]\u001b[0m GAN_loss/gradient_rms: 1.0001\n",
      "\u001b[32m[1104 17:41:37 @monitor.py:467]\u001b[0m GAN_loss/kl_div: 0.081833\n",
      "\u001b[32m[1104 17:41:37 @monitor.py:467]\u001b[0m QueueInput/queue_size: 50\n",
      "\u001b[32m[1104 17:41:37 @base.py:275]\u001b[0m Start Epoch 733 ...\n"
     ]
    },
    {
     "name": "stderr",
     "output_type": "stream",
     "text": [
      "100%|###################################################################################|175/175[00:06<00:00,26.70it/s]"
     ]
    },
    {
     "name": "stdout",
     "output_type": "stream",
     "text": [
      "\u001b[32m[1104 17:41:43 @base.py:285]\u001b[0m Epoch 733 (global_step 153929) finished, time:6.56 seconds.\n"
     ]
    },
    {
     "name": "stderr",
     "output_type": "stream",
     "text": [
      "\n"
     ]
    },
    {
     "name": "stdout",
     "output_type": "stream",
     "text": [
      "\u001b[32m[1104 17:41:44 @saver.py:79]\u001b[0m Model saved to ../output/Chicago/WGGP_WI_new3/model\\model-153929.\n",
      "\u001b[32m[1104 17:41:44 @monitor.py:467]\u001b[0m GAN_loss/d_loss: -0.65954\n",
      "\u001b[32m[1104 17:41:44 @monitor.py:467]\u001b[0m GAN_loss/g_loss: -0.26937\n",
      "\u001b[32m[1104 17:41:44 @monitor.py:467]\u001b[0m GAN_loss/gradient_penalty: 0.0076641\n",
      "\u001b[32m[1104 17:41:44 @monitor.py:467]\u001b[0m GAN_loss/gradient_rms: 1.0024\n",
      "\u001b[32m[1104 17:41:44 @monitor.py:467]\u001b[0m GAN_loss/kl_div: 0.08306\n",
      "\u001b[32m[1104 17:41:44 @monitor.py:467]\u001b[0m QueueInput/queue_size: 50\n",
      "\u001b[32m[1104 17:41:44 @base.py:275]\u001b[0m Start Epoch 734 ...\n"
     ]
    },
    {
     "name": "stderr",
     "output_type": "stream",
     "text": [
      "100%|###################################################################################|175/175[00:06<00:00,26.84it/s]"
     ]
    },
    {
     "name": "stdout",
     "output_type": "stream",
     "text": [
      "\u001b[32m[1104 17:41:50 @base.py:285]\u001b[0m Epoch 734 (global_step 154139) finished, time:6.52 seconds.\n"
     ]
    },
    {
     "name": "stderr",
     "output_type": "stream",
     "text": [
      "\n"
     ]
    },
    {
     "name": "stdout",
     "output_type": "stream",
     "text": [
      "\u001b[32m[1104 17:41:50 @saver.py:79]\u001b[0m Model saved to ../output/Chicago/WGGP_WI_new3/model\\model-154139.\n",
      "\u001b[32m[1104 17:41:51 @monitor.py:467]\u001b[0m GAN_loss/d_loss: -0.74587\n",
      "\u001b[32m[1104 17:41:51 @monitor.py:467]\u001b[0m GAN_loss/g_loss: -0.33744\n",
      "\u001b[32m[1104 17:41:51 @monitor.py:467]\u001b[0m GAN_loss/gradient_penalty: 0.0077788\n",
      "\u001b[32m[1104 17:41:51 @monitor.py:467]\u001b[0m GAN_loss/gradient_rms: 0.99983\n",
      "\u001b[32m[1104 17:41:51 @monitor.py:467]\u001b[0m GAN_loss/kl_div: 0.094607\n",
      "\u001b[32m[1104 17:41:51 @monitor.py:467]\u001b[0m QueueInput/queue_size: 50\n",
      "\u001b[32m[1104 17:41:51 @base.py:275]\u001b[0m Start Epoch 735 ...\n"
     ]
    },
    {
     "name": "stderr",
     "output_type": "stream",
     "text": [
      "100%|###################################################################################|175/175[00:06<00:00,26.74it/s]"
     ]
    },
    {
     "name": "stdout",
     "output_type": "stream",
     "text": [
      "\u001b[32m[1104 17:41:57 @base.py:285]\u001b[0m Epoch 735 (global_step 154349) finished, time:6.55 seconds.\n",
      "\u001b[32m[1104 17:41:57 @saver.py:79]\u001b[0m Model saved to ../output/Chicago/WGGP_WI_new3/model\\model-154349.\n"
     ]
    },
    {
     "name": "stderr",
     "output_type": "stream",
     "text": [
      "\n"
     ]
    },
    {
     "name": "stdout",
     "output_type": "stream",
     "text": [
      "\u001b[32m[1104 17:41:57 @monitor.py:467]\u001b[0m GAN_loss/d_loss: -0.70852\n",
      "\u001b[32m[1104 17:41:57 @monitor.py:467]\u001b[0m GAN_loss/g_loss: -0.30583\n",
      "\u001b[32m[1104 17:41:57 @monitor.py:467]\u001b[0m GAN_loss/gradient_penalty: 0.0080228\n",
      "\u001b[32m[1104 17:41:57 @monitor.py:467]\u001b[0m GAN_loss/gradient_rms: 0.99988\n",
      "\u001b[32m[1104 17:41:57 @monitor.py:467]\u001b[0m GAN_loss/kl_div: 0.086849\n",
      "\u001b[32m[1104 17:41:57 @monitor.py:467]\u001b[0m QueueInput/queue_size: 50\n",
      "\u001b[32m[1104 17:41:57 @base.py:275]\u001b[0m Start Epoch 736 ...\n"
     ]
    },
    {
     "name": "stderr",
     "output_type": "stream",
     "text": [
      "100%|###################################################################################|175/175[00:06<00:00,26.63it/s]"
     ]
    },
    {
     "name": "stdout",
     "output_type": "stream",
     "text": [
      "\u001b[32m[1104 17:42:04 @base.py:285]\u001b[0m Epoch 736 (global_step 154559) finished, time:6.57 seconds.\n",
      "\u001b[32m[1104 17:42:04 @saver.py:79]\u001b[0m Model saved to ../output/Chicago/WGGP_WI_new3/model\\model-154559.\n"
     ]
    },
    {
     "name": "stderr",
     "output_type": "stream",
     "text": [
      "\n"
     ]
    },
    {
     "name": "stdout",
     "output_type": "stream",
     "text": [
      "\u001b[32m[1104 17:42:04 @monitor.py:467]\u001b[0m GAN_loss/d_loss: -0.64018\n",
      "\u001b[32m[1104 17:42:04 @monitor.py:467]\u001b[0m GAN_loss/g_loss: -0.29861\n",
      "\u001b[32m[1104 17:42:04 @monitor.py:467]\u001b[0m GAN_loss/gradient_penalty: 0.007187\n",
      "\u001b[32m[1104 17:42:04 @monitor.py:467]\u001b[0m GAN_loss/gradient_rms: 0.99999\n",
      "\u001b[32m[1104 17:42:04 @monitor.py:467]\u001b[0m GAN_loss/kl_div: 0.087773\n",
      "\u001b[32m[1104 17:42:04 @monitor.py:467]\u001b[0m QueueInput/queue_size: 50\n",
      "\u001b[32m[1104 17:42:04 @base.py:275]\u001b[0m Start Epoch 737 ...\n"
     ]
    },
    {
     "name": "stderr",
     "output_type": "stream",
     "text": [
      "100%|###################################################################################|175/175[00:06<00:00,26.69it/s]"
     ]
    },
    {
     "name": "stdout",
     "output_type": "stream",
     "text": [
      "\u001b[32m[1104 17:42:11 @base.py:285]\u001b[0m Epoch 737 (global_step 154769) finished, time:6.56 seconds.\n",
      "\u001b[32m[1104 17:42:11 @saver.py:79]\u001b[0m Model saved to ../output/Chicago/WGGP_WI_new3/model\\model-154769.\n"
     ]
    },
    {
     "name": "stderr",
     "output_type": "stream",
     "text": [
      "\n"
     ]
    },
    {
     "name": "stdout",
     "output_type": "stream",
     "text": [
      "\u001b[32m[1104 17:42:11 @monitor.py:467]\u001b[0m GAN_loss/d_loss: -1.087\n",
      "\u001b[32m[1104 17:42:11 @monitor.py:467]\u001b[0m GAN_loss/g_loss: -0.29499\n",
      "\u001b[32m[1104 17:42:11 @monitor.py:467]\u001b[0m GAN_loss/gradient_penalty: 0.0088137\n",
      "\u001b[32m[1104 17:42:11 @monitor.py:467]\u001b[0m GAN_loss/gradient_rms: 1.0019\n",
      "\u001b[32m[1104 17:42:11 @monitor.py:467]\u001b[0m GAN_loss/kl_div: 0.094832\n",
      "\u001b[32m[1104 17:42:11 @monitor.py:467]\u001b[0m QueueInput/queue_size: 50\n",
      "\u001b[32m[1104 17:42:11 @base.py:275]\u001b[0m Start Epoch 738 ...\n"
     ]
    },
    {
     "name": "stderr",
     "output_type": "stream",
     "text": [
      "100%|###################################################################################|175/175[00:06<00:00,26.91it/s]"
     ]
    },
    {
     "name": "stdout",
     "output_type": "stream",
     "text": [
      "\u001b[32m[1104 17:42:17 @base.py:285]\u001b[0m Epoch 738 (global_step 154979) finished, time:6.5 seconds.\n",
      "\u001b[32m[1104 17:42:18 @saver.py:79]\u001b[0m Model saved to ../output/Chicago/WGGP_WI_new3/model\\model-154979.\n"
     ]
    },
    {
     "name": "stderr",
     "output_type": "stream",
     "text": [
      "\n"
     ]
    },
    {
     "name": "stdout",
     "output_type": "stream",
     "text": [
      "\u001b[32m[1104 17:42:18 @monitor.py:467]\u001b[0m GAN_loss/d_loss: -1.9033\n",
      "\u001b[32m[1104 17:42:18 @monitor.py:467]\u001b[0m GAN_loss/g_loss: -0.31324\n",
      "\u001b[32m[1104 17:42:18 @monitor.py:467]\u001b[0m GAN_loss/gradient_penalty: 0.0096808\n",
      "\u001b[32m[1104 17:42:18 @monitor.py:467]\u001b[0m GAN_loss/gradient_rms: 1.0029\n",
      "\u001b[32m[1104 17:42:18 @monitor.py:467]\u001b[0m GAN_loss/kl_div: 0.090239\n",
      "\u001b[32m[1104 17:42:18 @monitor.py:467]\u001b[0m QueueInput/queue_size: 50\n",
      "\u001b[32m[1104 17:42:18 @base.py:275]\u001b[0m Start Epoch 739 ...\n"
     ]
    },
    {
     "name": "stderr",
     "output_type": "stream",
     "text": [
      "100%|###################################################################################|175/175[00:06<00:00,26.93it/s]"
     ]
    },
    {
     "name": "stdout",
     "output_type": "stream",
     "text": [
      "\u001b[32m[1104 17:42:24 @base.py:285]\u001b[0m Epoch 739 (global_step 155189) finished, time:6.5 seconds.\n",
      "\u001b[32m[1104 17:42:24 @saver.py:79]\u001b[0m Model saved to ../output/Chicago/WGGP_WI_new3/model\\model-155189.\n"
     ]
    },
    {
     "name": "stderr",
     "output_type": "stream",
     "text": [
      "\n"
     ]
    },
    {
     "name": "stdout",
     "output_type": "stream",
     "text": [
      "\u001b[32m[1104 17:42:24 @monitor.py:467]\u001b[0m GAN_loss/d_loss: -0.57165\n",
      "\u001b[32m[1104 17:42:24 @monitor.py:467]\u001b[0m GAN_loss/g_loss: -0.35065\n",
      "\u001b[32m[1104 17:42:24 @monitor.py:467]\u001b[0m GAN_loss/gradient_penalty: 0.0077634\n",
      "\u001b[32m[1104 17:42:24 @monitor.py:467]\u001b[0m GAN_loss/gradient_rms: 0.99771\n",
      "\u001b[32m[1104 17:42:24 @monitor.py:467]\u001b[0m GAN_loss/kl_div: 0.084067\n",
      "\u001b[32m[1104 17:42:24 @monitor.py:467]\u001b[0m QueueInput/queue_size: 50\n",
      "\u001b[32m[1104 17:42:24 @base.py:275]\u001b[0m Start Epoch 740 ...\n"
     ]
    },
    {
     "name": "stderr",
     "output_type": "stream",
     "text": [
      "100%|###################################################################################|175/175[00:06<00:00,26.91it/s]"
     ]
    },
    {
     "name": "stdout",
     "output_type": "stream",
     "text": [
      "\u001b[32m[1104 17:42:31 @base.py:285]\u001b[0m Epoch 740 (global_step 155399) finished, time:6.5 seconds.\n",
      "\u001b[32m[1104 17:42:31 @saver.py:79]\u001b[0m Model saved to ../output/Chicago/WGGP_WI_new3/model\\model-155399.\n"
     ]
    },
    {
     "name": "stderr",
     "output_type": "stream",
     "text": [
      "\n"
     ]
    },
    {
     "name": "stdout",
     "output_type": "stream",
     "text": [
      "\u001b[32m[1104 17:42:31 @monitor.py:467]\u001b[0m GAN_loss/d_loss: -1.0112\n",
      "\u001b[32m[1104 17:42:31 @monitor.py:467]\u001b[0m GAN_loss/g_loss: -0.36127\n",
      "\u001b[32m[1104 17:42:31 @monitor.py:467]\u001b[0m GAN_loss/gradient_penalty: 0.0095632\n",
      "\u001b[32m[1104 17:42:31 @monitor.py:467]\u001b[0m GAN_loss/gradient_rms: 1.0039\n",
      "\u001b[32m[1104 17:42:31 @monitor.py:467]\u001b[0m GAN_loss/kl_div: 0.084331\n",
      "\u001b[32m[1104 17:42:31 @monitor.py:467]\u001b[0m QueueInput/queue_size: 50\n",
      "\u001b[32m[1104 17:42:31 @base.py:275]\u001b[0m Start Epoch 741 ...\n"
     ]
    },
    {
     "name": "stderr",
     "output_type": "stream",
     "text": [
      "100%|###################################################################################|175/175[00:06<00:00,26.77it/s]"
     ]
    },
    {
     "name": "stdout",
     "output_type": "stream",
     "text": [
      "\u001b[32m[1104 17:42:38 @base.py:285]\u001b[0m Epoch 741 (global_step 155609) finished, time:6.54 seconds.\n",
      "\u001b[32m[1104 17:42:38 @saver.py:79]\u001b[0m Model saved to ../output/Chicago/WGGP_WI_new3/model\\model-155609.\n"
     ]
    },
    {
     "name": "stderr",
     "output_type": "stream",
     "text": [
      "\n"
     ]
    },
    {
     "name": "stdout",
     "output_type": "stream",
     "text": [
      "\u001b[32m[1104 17:42:38 @monitor.py:467]\u001b[0m GAN_loss/d_loss: -1.7561\n",
      "\u001b[32m[1104 17:42:38 @monitor.py:467]\u001b[0m GAN_loss/g_loss: -0.36044\n",
      "\u001b[32m[1104 17:42:38 @monitor.py:467]\u001b[0m GAN_loss/gradient_penalty: 0.0096302\n",
      "\u001b[32m[1104 17:42:38 @monitor.py:467]\u001b[0m GAN_loss/gradient_rms: 1.0037\n",
      "\u001b[32m[1104 17:42:38 @monitor.py:467]\u001b[0m GAN_loss/kl_div: 0.088341\n",
      "\u001b[32m[1104 17:42:38 @monitor.py:467]\u001b[0m QueueInput/queue_size: 50\n",
      "\u001b[32m[1104 17:42:38 @base.py:275]\u001b[0m Start Epoch 742 ...\n"
     ]
    },
    {
     "name": "stderr",
     "output_type": "stream",
     "text": [
      "100%|###################################################################################|175/175[00:06<00:00,26.75it/s]"
     ]
    },
    {
     "name": "stdout",
     "output_type": "stream",
     "text": [
      "\u001b[32m[1104 17:42:44 @base.py:285]\u001b[0m Epoch 742 (global_step 155819) finished, time:6.54 seconds.\n"
     ]
    },
    {
     "name": "stderr",
     "output_type": "stream",
     "text": [
      "\n"
     ]
    },
    {
     "name": "stdout",
     "output_type": "stream",
     "text": [
      "\u001b[32m[1104 17:42:45 @saver.py:79]\u001b[0m Model saved to ../output/Chicago/WGGP_WI_new3/model\\model-155819.\n",
      "\u001b[32m[1104 17:42:45 @monitor.py:467]\u001b[0m GAN_loss/d_loss: -0.85011\n",
      "\u001b[32m[1104 17:42:45 @monitor.py:467]\u001b[0m GAN_loss/g_loss: -0.37534\n",
      "\u001b[32m[1104 17:42:45 @monitor.py:467]\u001b[0m GAN_loss/gradient_penalty: 0.0090569\n",
      "\u001b[32m[1104 17:42:45 @monitor.py:467]\u001b[0m GAN_loss/gradient_rms: 1.001\n",
      "\u001b[32m[1104 17:42:45 @monitor.py:467]\u001b[0m GAN_loss/kl_div: 0.095192\n",
      "\u001b[32m[1104 17:42:45 @monitor.py:467]\u001b[0m QueueInput/queue_size: 50\n",
      "\u001b[32m[1104 17:42:45 @base.py:275]\u001b[0m Start Epoch 743 ...\n"
     ]
    },
    {
     "name": "stderr",
     "output_type": "stream",
     "text": [
      "100%|###################################################################################|175/175[00:06<00:00,26.83it/s]"
     ]
    },
    {
     "name": "stdout",
     "output_type": "stream",
     "text": [
      "\u001b[32m[1104 17:42:51 @base.py:285]\u001b[0m Epoch 743 (global_step 156029) finished, time:6.52 seconds.\n"
     ]
    },
    {
     "name": "stderr",
     "output_type": "stream",
     "text": [
      "\n"
     ]
    },
    {
     "name": "stdout",
     "output_type": "stream",
     "text": [
      "\u001b[32m[1104 17:42:51 @saver.py:79]\u001b[0m Model saved to ../output/Chicago/WGGP_WI_new3/model\\model-156029.\n",
      "\u001b[32m[1104 17:42:51 @monitor.py:467]\u001b[0m GAN_loss/d_loss: -1.0678\n",
      "\u001b[32m[1104 17:42:51 @monitor.py:467]\u001b[0m GAN_loss/g_loss: -0.38908\n",
      "\u001b[32m[1104 17:42:51 @monitor.py:467]\u001b[0m GAN_loss/gradient_penalty: 0.0090996\n",
      "\u001b[32m[1104 17:42:51 @monitor.py:467]\u001b[0m GAN_loss/gradient_rms: 0.9995\n",
      "\u001b[32m[1104 17:42:51 @monitor.py:467]\u001b[0m GAN_loss/kl_div: 0.075742\n",
      "\u001b[32m[1104 17:42:51 @monitor.py:467]\u001b[0m QueueInput/queue_size: 50\n",
      "\u001b[32m[1104 17:42:51 @base.py:275]\u001b[0m Start Epoch 744 ...\n"
     ]
    },
    {
     "name": "stderr",
     "output_type": "stream",
     "text": [
      "100%|###################################################################################|175/175[00:06<00:00,26.82it/s]"
     ]
    },
    {
     "name": "stdout",
     "output_type": "stream",
     "text": [
      "\u001b[32m[1104 17:42:58 @base.py:285]\u001b[0m Epoch 744 (global_step 156239) finished, time:6.53 seconds.\n"
     ]
    },
    {
     "name": "stderr",
     "output_type": "stream",
     "text": [
      "\n"
     ]
    },
    {
     "name": "stdout",
     "output_type": "stream",
     "text": [
      "\u001b[32m[1104 17:42:58 @saver.py:79]\u001b[0m Model saved to ../output/Chicago/WGGP_WI_new3/model\\model-156239.\n",
      "\u001b[32m[1104 17:42:58 @monitor.py:467]\u001b[0m GAN_loss/d_loss: -0.82147\n",
      "\u001b[32m[1104 17:42:58 @monitor.py:467]\u001b[0m GAN_loss/g_loss: -0.41227\n",
      "\u001b[32m[1104 17:42:58 @monitor.py:467]\u001b[0m GAN_loss/gradient_penalty: 0.0080589\n",
      "\u001b[32m[1104 17:42:58 @monitor.py:467]\u001b[0m GAN_loss/gradient_rms: 1.0021\n",
      "\u001b[32m[1104 17:42:58 @monitor.py:467]\u001b[0m GAN_loss/kl_div: 0.072813\n",
      "\u001b[32m[1104 17:42:58 @monitor.py:467]\u001b[0m QueueInput/queue_size: 50\n",
      "\u001b[32m[1104 17:42:58 @base.py:275]\u001b[0m Start Epoch 745 ...\n"
     ]
    },
    {
     "name": "stderr",
     "output_type": "stream",
     "text": [
      "100%|###################################################################################|175/175[00:06<00:00,26.68it/s]"
     ]
    },
    {
     "name": "stdout",
     "output_type": "stream",
     "text": [
      "\u001b[32m[1104 17:43:05 @base.py:285]\u001b[0m Epoch 745 (global_step 156449) finished, time:6.56 seconds.\n"
     ]
    },
    {
     "name": "stderr",
     "output_type": "stream",
     "text": [
      "\n"
     ]
    },
    {
     "name": "stdout",
     "output_type": "stream",
     "text": [
      "\u001b[32m[1104 17:43:05 @saver.py:79]\u001b[0m Model saved to ../output/Chicago/WGGP_WI_new3/model\\model-156449.\n",
      "\u001b[32m[1104 17:43:05 @monitor.py:467]\u001b[0m GAN_loss/d_loss: -0.66631\n",
      "\u001b[32m[1104 17:43:05 @monitor.py:467]\u001b[0m GAN_loss/g_loss: -0.37795\n",
      "\u001b[32m[1104 17:43:05 @monitor.py:467]\u001b[0m GAN_loss/gradient_penalty: 0.0076458\n",
      "\u001b[32m[1104 17:43:05 @monitor.py:467]\u001b[0m GAN_loss/gradient_rms: 1.002\n",
      "\u001b[32m[1104 17:43:05 @monitor.py:467]\u001b[0m GAN_loss/kl_div: 0.075826\n",
      "\u001b[32m[1104 17:43:05 @monitor.py:467]\u001b[0m QueueInput/queue_size: 50\n",
      "\u001b[32m[1104 17:43:05 @base.py:275]\u001b[0m Start Epoch 746 ...\n"
     ]
    },
    {
     "name": "stderr",
     "output_type": "stream",
     "text": [
      "100%|###################################################################################|175/175[00:06<00:00,26.68it/s]"
     ]
    },
    {
     "name": "stdout",
     "output_type": "stream",
     "text": [
      "\u001b[32m[1104 17:43:12 @base.py:285]\u001b[0m Epoch 746 (global_step 156659) finished, time:6.56 seconds.\n",
      "\u001b[32m[1104 17:43:12 @saver.py:79]\u001b[0m Model saved to ../output/Chicago/WGGP_WI_new3/model\\model-156659.\n"
     ]
    },
    {
     "name": "stderr",
     "output_type": "stream",
     "text": [
      "\n"
     ]
    },
    {
     "name": "stdout",
     "output_type": "stream",
     "text": [
      "\u001b[32m[1104 17:43:12 @monitor.py:467]\u001b[0m GAN_loss/d_loss: -0.78104\n",
      "\u001b[32m[1104 17:43:12 @monitor.py:467]\u001b[0m GAN_loss/g_loss: -0.35938\n",
      "\u001b[32m[1104 17:43:12 @monitor.py:467]\u001b[0m GAN_loss/gradient_penalty: 0.0075451\n",
      "\u001b[32m[1104 17:43:12 @monitor.py:467]\u001b[0m GAN_loss/gradient_rms: 0.99887\n",
      "\u001b[32m[1104 17:43:12 @monitor.py:467]\u001b[0m GAN_loss/kl_div: 0.081921\n",
      "\u001b[32m[1104 17:43:12 @monitor.py:467]\u001b[0m QueueInput/queue_size: 50\n",
      "\u001b[32m[1104 17:43:12 @base.py:275]\u001b[0m Start Epoch 747 ...\n"
     ]
    },
    {
     "name": "stderr",
     "output_type": "stream",
     "text": [
      "100%|###################################################################################|175/175[00:06<00:00,26.69it/s]"
     ]
    },
    {
     "name": "stdout",
     "output_type": "stream",
     "text": [
      "\u001b[32m[1104 17:43:18 @base.py:285]\u001b[0m Epoch 747 (global_step 156869) finished, time:6.56 seconds.\n"
     ]
    },
    {
     "name": "stderr",
     "output_type": "stream",
     "text": [
      "\n"
     ]
    },
    {
     "name": "stdout",
     "output_type": "stream",
     "text": [
      "\u001b[32m[1104 17:43:18 @saver.py:79]\u001b[0m Model saved to ../output/Chicago/WGGP_WI_new3/model\\model-156869.\n",
      "\u001b[32m[1104 17:43:19 @monitor.py:467]\u001b[0m GAN_loss/d_loss: -0.93066\n",
      "\u001b[32m[1104 17:43:19 @monitor.py:467]\u001b[0m GAN_loss/g_loss: -0.34267\n",
      "\u001b[32m[1104 17:43:19 @monitor.py:467]\u001b[0m GAN_loss/gradient_penalty: 0.0082383\n",
      "\u001b[32m[1104 17:43:19 @monitor.py:467]\u001b[0m GAN_loss/gradient_rms: 1.0009\n",
      "\u001b[32m[1104 17:43:19 @monitor.py:467]\u001b[0m GAN_loss/kl_div: 0.074725\n",
      "\u001b[32m[1104 17:43:19 @monitor.py:467]\u001b[0m QueueInput/queue_size: 50\n",
      "\u001b[32m[1104 17:43:19 @base.py:275]\u001b[0m Start Epoch 748 ...\n"
     ]
    },
    {
     "name": "stderr",
     "output_type": "stream",
     "text": [
      "100%|###################################################################################|175/175[00:06<00:00,26.78it/s]"
     ]
    },
    {
     "name": "stdout",
     "output_type": "stream",
     "text": [
      "\u001b[32m[1104 17:43:25 @base.py:285]\u001b[0m Epoch 748 (global_step 157079) finished, time:6.54 seconds.\n"
     ]
    },
    {
     "name": "stderr",
     "output_type": "stream",
     "text": [
      "\n"
     ]
    },
    {
     "name": "stdout",
     "output_type": "stream",
     "text": [
      "\u001b[32m[1104 17:43:25 @saver.py:79]\u001b[0m Model saved to ../output/Chicago/WGGP_WI_new3/model\\model-157079.\n",
      "\u001b[32m[1104 17:43:25 @monitor.py:467]\u001b[0m GAN_loss/d_loss: -1.2188\n",
      "\u001b[32m[1104 17:43:25 @monitor.py:467]\u001b[0m GAN_loss/g_loss: -0.35263\n",
      "\u001b[32m[1104 17:43:25 @monitor.py:467]\u001b[0m GAN_loss/gradient_penalty: 0.0087231\n",
      "\u001b[32m[1104 17:43:25 @monitor.py:467]\u001b[0m GAN_loss/gradient_rms: 0.99979\n",
      "\u001b[32m[1104 17:43:25 @monitor.py:467]\u001b[0m GAN_loss/kl_div: 0.079978\n",
      "\u001b[32m[1104 17:43:25 @monitor.py:467]\u001b[0m QueueInput/queue_size: 50\n",
      "\u001b[32m[1104 17:43:25 @base.py:275]\u001b[0m Start Epoch 749 ...\n"
     ]
    },
    {
     "name": "stderr",
     "output_type": "stream",
     "text": [
      "100%|###################################################################################|175/175[00:06<00:00,26.73it/s]"
     ]
    },
    {
     "name": "stdout",
     "output_type": "stream",
     "text": [
      "\u001b[32m[1104 17:43:32 @base.py:285]\u001b[0m Epoch 749 (global_step 157289) finished, time:6.55 seconds.\n",
      "\u001b[32m[1104 17:43:32 @saver.py:79]\u001b[0m Model saved to ../output/Chicago/WGGP_WI_new3/model\\model-157289.\n"
     ]
    },
    {
     "name": "stderr",
     "output_type": "stream",
     "text": [
      "\n"
     ]
    },
    {
     "name": "stdout",
     "output_type": "stream",
     "text": [
      "\u001b[32m[1104 17:43:32 @monitor.py:467]\u001b[0m GAN_loss/d_loss: -0.97251\n",
      "\u001b[32m[1104 17:43:32 @monitor.py:467]\u001b[0m GAN_loss/g_loss: -0.38552\n",
      "\u001b[32m[1104 17:43:32 @monitor.py:467]\u001b[0m GAN_loss/gradient_penalty: 0.0080139\n",
      "\u001b[32m[1104 17:43:32 @monitor.py:467]\u001b[0m GAN_loss/gradient_rms: 1.0008\n",
      "\u001b[32m[1104 17:43:32 @monitor.py:467]\u001b[0m GAN_loss/kl_div: 0.079504\n",
      "\u001b[32m[1104 17:43:32 @monitor.py:467]\u001b[0m QueueInput/queue_size: 50\n",
      "\u001b[32m[1104 17:43:32 @base.py:275]\u001b[0m Start Epoch 750 ...\n"
     ]
    },
    {
     "name": "stderr",
     "output_type": "stream",
     "text": [
      "100%|###################################################################################|175/175[00:06<00:00,26.80it/s]"
     ]
    },
    {
     "name": "stdout",
     "output_type": "stream",
     "text": [
      "\u001b[32m[1104 17:43:39 @base.py:285]\u001b[0m Epoch 750 (global_step 157499) finished, time:6.53 seconds.\n"
     ]
    },
    {
     "name": "stderr",
     "output_type": "stream",
     "text": [
      "\n"
     ]
    },
    {
     "name": "stdout",
     "output_type": "stream",
     "text": [
      "\u001b[32m[1104 17:43:39 @saver.py:79]\u001b[0m Model saved to ../output/Chicago/WGGP_WI_new3/model\\model-157499.\n",
      "\u001b[32m[1104 17:43:39 @monitor.py:467]\u001b[0m GAN_loss/d_loss: -0.72983\n",
      "\u001b[32m[1104 17:43:39 @monitor.py:467]\u001b[0m GAN_loss/g_loss: -0.38039\n",
      "\u001b[32m[1104 17:43:39 @monitor.py:467]\u001b[0m GAN_loss/gradient_penalty: 0.0081137\n",
      "\u001b[32m[1104 17:43:39 @monitor.py:467]\u001b[0m GAN_loss/gradient_rms: 1.001\n",
      "\u001b[32m[1104 17:43:39 @monitor.py:467]\u001b[0m GAN_loss/kl_div: 0.08038\n",
      "\u001b[32m[1104 17:43:39 @monitor.py:467]\u001b[0m QueueInput/queue_size: 50\n",
      "\u001b[32m[1104 17:43:39 @base.py:275]\u001b[0m Start Epoch 751 ...\n"
     ]
    },
    {
     "name": "stderr",
     "output_type": "stream",
     "text": [
      "100%|###################################################################################|175/175[00:06<00:00,25.92it/s]"
     ]
    },
    {
     "name": "stdout",
     "output_type": "stream",
     "text": [
      "\u001b[32m[1104 17:43:46 @base.py:285]\u001b[0m Epoch 751 (global_step 157709) finished, time:6.75 seconds.\n",
      "\u001b[32m[1104 17:43:46 @saver.py:79]\u001b[0m Model saved to ../output/Chicago/WGGP_WI_new3/model\\model-157709.\n"
     ]
    },
    {
     "name": "stderr",
     "output_type": "stream",
     "text": [
      "\n"
     ]
    },
    {
     "name": "stdout",
     "output_type": "stream",
     "text": [
      "\u001b[32m[1104 17:43:46 @monitor.py:467]\u001b[0m GAN_loss/d_loss: -0.84059\n",
      "\u001b[32m[1104 17:43:46 @monitor.py:467]\u001b[0m GAN_loss/g_loss: -0.39695\n",
      "\u001b[32m[1104 17:43:46 @monitor.py:467]\u001b[0m GAN_loss/gradient_penalty: 0.0084949\n",
      "\u001b[32m[1104 17:43:46 @monitor.py:467]\u001b[0m GAN_loss/gradient_rms: 0.99791\n",
      "\u001b[32m[1104 17:43:46 @monitor.py:467]\u001b[0m GAN_loss/kl_div: 0.092753\n",
      "\u001b[32m[1104 17:43:46 @monitor.py:467]\u001b[0m QueueInput/queue_size: 50\n",
      "\u001b[32m[1104 17:43:46 @base.py:275]\u001b[0m Start Epoch 752 ...\n"
     ]
    },
    {
     "name": "stderr",
     "output_type": "stream",
     "text": [
      "100%|###################################################################################|175/175[00:06<00:00,25.76it/s]"
     ]
    },
    {
     "name": "stdout",
     "output_type": "stream",
     "text": [
      "\u001b[32m[1104 17:43:53 @base.py:285]\u001b[0m Epoch 752 (global_step 157919) finished, time:6.79 seconds.\n",
      "\u001b[32m[1104 17:43:53 @saver.py:79]\u001b[0m Model saved to ../output/Chicago/WGGP_WI_new3/model\\model-157919.\n"
     ]
    },
    {
     "name": "stderr",
     "output_type": "stream",
     "text": [
      "\n"
     ]
    },
    {
     "name": "stdout",
     "output_type": "stream",
     "text": [
      "\u001b[32m[1104 17:43:53 @monitor.py:467]\u001b[0m GAN_loss/d_loss: -0.83894\n",
      "\u001b[32m[1104 17:43:53 @monitor.py:467]\u001b[0m GAN_loss/g_loss: -0.41827\n",
      "\u001b[32m[1104 17:43:53 @monitor.py:467]\u001b[0m GAN_loss/gradient_penalty: 0.0082699\n",
      "\u001b[32m[1104 17:43:53 @monitor.py:467]\u001b[0m GAN_loss/gradient_rms: 0.99819\n",
      "\u001b[32m[1104 17:43:53 @monitor.py:467]\u001b[0m GAN_loss/kl_div: 0.082146\n",
      "\u001b[32m[1104 17:43:53 @monitor.py:467]\u001b[0m QueueInput/queue_size: 50\n",
      "\u001b[32m[1104 17:43:53 @base.py:275]\u001b[0m Start Epoch 753 ...\n"
     ]
    },
    {
     "name": "stderr",
     "output_type": "stream",
     "text": [
      "100%|###################################################################################|175/175[00:06<00:00,26.83it/s]"
     ]
    },
    {
     "name": "stdout",
     "output_type": "stream",
     "text": [
      "\u001b[32m[1104 17:43:59 @base.py:285]\u001b[0m Epoch 753 (global_step 158129) finished, time:6.52 seconds.\n",
      "\u001b[32m[1104 17:44:00 @saver.py:79]\u001b[0m Model saved to ../output/Chicago/WGGP_WI_new3/model\\model-158129.\n"
     ]
    },
    {
     "name": "stderr",
     "output_type": "stream",
     "text": [
      "\n"
     ]
    },
    {
     "name": "stdout",
     "output_type": "stream",
     "text": [
      "\u001b[32m[1104 17:44:00 @monitor.py:467]\u001b[0m GAN_loss/d_loss: -0.70976\n",
      "\u001b[32m[1104 17:44:00 @monitor.py:467]\u001b[0m GAN_loss/g_loss: -0.45653\n",
      "\u001b[32m[1104 17:44:00 @monitor.py:467]\u001b[0m GAN_loss/gradient_penalty: 0.0079699\n",
      "\u001b[32m[1104 17:44:00 @monitor.py:467]\u001b[0m GAN_loss/gradient_rms: 0.99967\n",
      "\u001b[32m[1104 17:44:00 @monitor.py:467]\u001b[0m GAN_loss/kl_div: 0.080326\n",
      "\u001b[32m[1104 17:44:00 @monitor.py:467]\u001b[0m QueueInput/queue_size: 50\n",
      "\u001b[32m[1104 17:44:00 @base.py:275]\u001b[0m Start Epoch 754 ...\n"
     ]
    },
    {
     "name": "stderr",
     "output_type": "stream",
     "text": [
      "100%|###################################################################################|175/175[00:06<00:00,26.85it/s]"
     ]
    },
    {
     "name": "stdout",
     "output_type": "stream",
     "text": [
      "\u001b[32m[1104 17:44:06 @base.py:285]\u001b[0m Epoch 754 (global_step 158339) finished, time:6.52 seconds.\n"
     ]
    },
    {
     "name": "stderr",
     "output_type": "stream",
     "text": [
      "\n"
     ]
    },
    {
     "name": "stdout",
     "output_type": "stream",
     "text": [
      "\u001b[32m[1104 17:44:06 @saver.py:79]\u001b[0m Model saved to ../output/Chicago/WGGP_WI_new3/model\\model-158339.\n",
      "\u001b[32m[1104 17:44:06 @monitor.py:467]\u001b[0m GAN_loss/d_loss: -0.66009\n",
      "\u001b[32m[1104 17:44:06 @monitor.py:467]\u001b[0m GAN_loss/g_loss: -0.49598\n",
      "\u001b[32m[1104 17:44:06 @monitor.py:467]\u001b[0m GAN_loss/gradient_penalty: 0.0079446\n",
      "\u001b[32m[1104 17:44:06 @monitor.py:467]\u001b[0m GAN_loss/gradient_rms: 0.99976\n",
      "\u001b[32m[1104 17:44:06 @monitor.py:467]\u001b[0m GAN_loss/kl_div: 0.087934\n",
      "\u001b[32m[1104 17:44:06 @monitor.py:467]\u001b[0m QueueInput/queue_size: 50\n",
      "\u001b[32m[1104 17:44:06 @base.py:275]\u001b[0m Start Epoch 755 ...\n"
     ]
    },
    {
     "name": "stderr",
     "output_type": "stream",
     "text": [
      "100%|###################################################################################|175/175[00:06<00:00,26.96it/s]"
     ]
    },
    {
     "name": "stdout",
     "output_type": "stream",
     "text": [
      "\u001b[32m[1104 17:44:13 @base.py:285]\u001b[0m Epoch 755 (global_step 158549) finished, time:6.49 seconds.\n"
     ]
    },
    {
     "name": "stderr",
     "output_type": "stream",
     "text": [
      "\n"
     ]
    },
    {
     "name": "stdout",
     "output_type": "stream",
     "text": [
      "\u001b[32m[1104 17:44:13 @saver.py:79]\u001b[0m Model saved to ../output/Chicago/WGGP_WI_new3/model\\model-158549.\n",
      "\u001b[32m[1104 17:44:13 @monitor.py:467]\u001b[0m GAN_loss/d_loss: -0.71534\n",
      "\u001b[32m[1104 17:44:13 @monitor.py:467]\u001b[0m GAN_loss/g_loss: -0.48048\n",
      "\u001b[32m[1104 17:44:13 @monitor.py:467]\u001b[0m GAN_loss/gradient_penalty: 0.0084523\n",
      "\u001b[32m[1104 17:44:13 @monitor.py:467]\u001b[0m GAN_loss/gradient_rms: 0.9997\n",
      "\u001b[32m[1104 17:44:13 @monitor.py:467]\u001b[0m GAN_loss/kl_div: 0.088689\n",
      "\u001b[32m[1104 17:44:13 @monitor.py:467]\u001b[0m QueueInput/queue_size: 50\n",
      "\u001b[32m[1104 17:44:13 @base.py:275]\u001b[0m Start Epoch 756 ...\n"
     ]
    },
    {
     "name": "stderr",
     "output_type": "stream",
     "text": [
      "100%|###################################################################################|175/175[00:06<00:00,26.87it/s]"
     ]
    },
    {
     "name": "stdout",
     "output_type": "stream",
     "text": [
      "\u001b[32m[1104 17:44:20 @base.py:285]\u001b[0m Epoch 756 (global_step 158759) finished, time:6.51 seconds.\n"
     ]
    },
    {
     "name": "stderr",
     "output_type": "stream",
     "text": [
      "\n"
     ]
    },
    {
     "name": "stdout",
     "output_type": "stream",
     "text": [
      "\u001b[32m[1104 17:44:20 @saver.py:79]\u001b[0m Model saved to ../output/Chicago/WGGP_WI_new3/model\\model-158759.\n",
      "\u001b[32m[1104 17:44:20 @monitor.py:467]\u001b[0m GAN_loss/d_loss: -0.55116\n",
      "\u001b[32m[1104 17:44:20 @monitor.py:467]\u001b[0m GAN_loss/g_loss: -0.5047\n",
      "\u001b[32m[1104 17:44:20 @monitor.py:467]\u001b[0m GAN_loss/gradient_penalty: 0.007379\n",
      "\u001b[32m[1104 17:44:20 @monitor.py:467]\u001b[0m GAN_loss/gradient_rms: 0.99926\n",
      "\u001b[32m[1104 17:44:20 @monitor.py:467]\u001b[0m GAN_loss/kl_div: 0.099517\n",
      "\u001b[32m[1104 17:44:20 @monitor.py:467]\u001b[0m QueueInput/queue_size: 50\n",
      "\u001b[32m[1104 17:44:20 @base.py:275]\u001b[0m Start Epoch 757 ...\n"
     ]
    },
    {
     "name": "stderr",
     "output_type": "stream",
     "text": [
      "100%|###################################################################################|175/175[00:06<00:00,26.72it/s]"
     ]
    },
    {
     "name": "stdout",
     "output_type": "stream",
     "text": [
      "\u001b[32m[1104 17:44:26 @base.py:285]\u001b[0m Epoch 757 (global_step 158969) finished, time:6.55 seconds.\n",
      "\u001b[32m[1104 17:44:27 @saver.py:79]\u001b[0m Model saved to ../output/Chicago/WGGP_WI_new3/model\\model-158969.\n"
     ]
    },
    {
     "name": "stderr",
     "output_type": "stream",
     "text": [
      "\n"
     ]
    },
    {
     "name": "stdout",
     "output_type": "stream",
     "text": [
      "\u001b[32m[1104 17:44:27 @monitor.py:467]\u001b[0m GAN_loss/d_loss: -0.66806\n",
      "\u001b[32m[1104 17:44:27 @monitor.py:467]\u001b[0m GAN_loss/g_loss: -0.49124\n",
      "\u001b[32m[1104 17:44:27 @monitor.py:467]\u001b[0m GAN_loss/gradient_penalty: 0.0077032\n",
      "\u001b[32m[1104 17:44:27 @monitor.py:467]\u001b[0m GAN_loss/gradient_rms: 0.99889\n",
      "\u001b[32m[1104 17:44:27 @monitor.py:467]\u001b[0m GAN_loss/kl_div: 0.1174\n",
      "\u001b[32m[1104 17:44:27 @monitor.py:467]\u001b[0m QueueInput/queue_size: 50\n",
      "\u001b[32m[1104 17:44:27 @base.py:275]\u001b[0m Start Epoch 758 ...\n"
     ]
    },
    {
     "name": "stderr",
     "output_type": "stream",
     "text": [
      "100%|###################################################################################|175/175[00:06<00:00,26.75it/s]"
     ]
    },
    {
     "name": "stdout",
     "output_type": "stream",
     "text": [
      "\u001b[32m[1104 17:44:33 @base.py:285]\u001b[0m Epoch 758 (global_step 159179) finished, time:6.54 seconds.\n"
     ]
    },
    {
     "name": "stderr",
     "output_type": "stream",
     "text": [
      "\n"
     ]
    },
    {
     "name": "stdout",
     "output_type": "stream",
     "text": [
      "\u001b[32m[1104 17:44:33 @saver.py:79]\u001b[0m Model saved to ../output/Chicago/WGGP_WI_new3/model\\model-159179.\n",
      "\u001b[32m[1104 17:44:34 @monitor.py:467]\u001b[0m GAN_loss/d_loss: -1.1031\n",
      "\u001b[32m[1104 17:44:34 @monitor.py:467]\u001b[0m GAN_loss/g_loss: -0.44641\n",
      "\u001b[32m[1104 17:44:34 @monitor.py:467]\u001b[0m GAN_loss/gradient_penalty: 0.0089501\n",
      "\u001b[32m[1104 17:44:34 @monitor.py:467]\u001b[0m GAN_loss/gradient_rms: 1.001\n",
      "\u001b[32m[1104 17:44:34 @monitor.py:467]\u001b[0m GAN_loss/kl_div: 0.11925\n",
      "\u001b[32m[1104 17:44:34 @monitor.py:467]\u001b[0m QueueInput/queue_size: 50\n",
      "\u001b[32m[1104 17:44:34 @base.py:275]\u001b[0m Start Epoch 759 ...\n"
     ]
    },
    {
     "name": "stderr",
     "output_type": "stream",
     "text": [
      "100%|###################################################################################|175/175[00:06<00:00,26.79it/s]"
     ]
    },
    {
     "name": "stdout",
     "output_type": "stream",
     "text": [
      "\u001b[32m[1104 17:44:40 @base.py:285]\u001b[0m Epoch 759 (global_step 159389) finished, time:6.53 seconds.\n",
      "\u001b[32m[1104 17:44:40 @saver.py:79]\u001b[0m Model saved to ../output/Chicago/WGGP_WI_new3/model\\model-159389.\n"
     ]
    },
    {
     "name": "stderr",
     "output_type": "stream",
     "text": [
      "\n"
     ]
    },
    {
     "name": "stdout",
     "output_type": "stream",
     "text": [
      "\u001b[32m[1104 17:44:40 @monitor.py:467]\u001b[0m GAN_loss/d_loss: -1.1341\n",
      "\u001b[32m[1104 17:44:40 @monitor.py:467]\u001b[0m GAN_loss/g_loss: -0.42543\n",
      "\u001b[32m[1104 17:44:40 @monitor.py:467]\u001b[0m GAN_loss/gradient_penalty: 0.0092363\n",
      "\u001b[32m[1104 17:44:40 @monitor.py:467]\u001b[0m GAN_loss/gradient_rms: 0.99993\n",
      "\u001b[32m[1104 17:44:40 @monitor.py:467]\u001b[0m GAN_loss/kl_div: 0.1057\n",
      "\u001b[32m[1104 17:44:40 @monitor.py:467]\u001b[0m QueueInput/queue_size: 50\n",
      "\u001b[32m[1104 17:44:40 @base.py:275]\u001b[0m Start Epoch 760 ...\n"
     ]
    },
    {
     "name": "stderr",
     "output_type": "stream",
     "text": [
      "100%|###################################################################################|175/175[00:06<00:00,26.62it/s]"
     ]
    },
    {
     "name": "stdout",
     "output_type": "stream",
     "text": [
      "\u001b[32m[1104 17:44:47 @base.py:285]\u001b[0m Epoch 760 (global_step 159599) finished, time:6.57 seconds.\n",
      "\u001b[32m[1104 17:44:47 @saver.py:79]\u001b[0m Model saved to ../output/Chicago/WGGP_WI_new3/model\\model-159599.\n"
     ]
    },
    {
     "name": "stderr",
     "output_type": "stream",
     "text": [
      "\n"
     ]
    },
    {
     "name": "stdout",
     "output_type": "stream",
     "text": [
      "\u001b[32m[1104 17:44:47 @monitor.py:467]\u001b[0m GAN_loss/d_loss: -0.76387\n",
      "\u001b[32m[1104 17:44:47 @monitor.py:467]\u001b[0m GAN_loss/g_loss: -0.44112\n",
      "\u001b[32m[1104 17:44:47 @monitor.py:467]\u001b[0m GAN_loss/gradient_penalty: 0.0082155\n",
      "\u001b[32m[1104 17:44:47 @monitor.py:467]\u001b[0m GAN_loss/gradient_rms: 1.0017\n",
      "\u001b[32m[1104 17:44:47 @monitor.py:467]\u001b[0m GAN_loss/kl_div: 0.08847\n",
      "\u001b[32m[1104 17:44:47 @monitor.py:467]\u001b[0m QueueInput/queue_size: 50\n",
      "\u001b[32m[1104 17:44:47 @base.py:275]\u001b[0m Start Epoch 761 ...\n"
     ]
    },
    {
     "name": "stderr",
     "output_type": "stream",
     "text": [
      "100%|###################################################################################|175/175[00:06<00:00,26.83it/s]"
     ]
    },
    {
     "name": "stdout",
     "output_type": "stream",
     "text": [
      "\u001b[32m[1104 17:44:54 @base.py:285]\u001b[0m Epoch 761 (global_step 159809) finished, time:6.52 seconds.\n"
     ]
    },
    {
     "name": "stderr",
     "output_type": "stream",
     "text": [
      "\n"
     ]
    },
    {
     "name": "stdout",
     "output_type": "stream",
     "text": [
      "\u001b[32m[1104 17:44:54 @saver.py:79]\u001b[0m Model saved to ../output/Chicago/WGGP_WI_new3/model\\model-159809.\n",
      "\u001b[32m[1104 17:44:54 @monitor.py:467]\u001b[0m GAN_loss/d_loss: -1.0237\n",
      "\u001b[32m[1104 17:44:54 @monitor.py:467]\u001b[0m GAN_loss/g_loss: -0.44794\n",
      "\u001b[32m[1104 17:44:54 @monitor.py:467]\u001b[0m GAN_loss/gradient_penalty: 0.0090077\n",
      "\u001b[32m[1104 17:44:54 @monitor.py:467]\u001b[0m GAN_loss/gradient_rms: 1.0007\n",
      "\u001b[32m[1104 17:44:54 @monitor.py:467]\u001b[0m GAN_loss/kl_div: 0.099684\n",
      "\u001b[32m[1104 17:44:54 @monitor.py:467]\u001b[0m QueueInput/queue_size: 50\n",
      "\u001b[32m[1104 17:44:54 @base.py:275]\u001b[0m Start Epoch 762 ...\n"
     ]
    },
    {
     "name": "stderr",
     "output_type": "stream",
     "text": [
      "100%|###################################################################################|175/175[00:06<00:00,26.77it/s]"
     ]
    },
    {
     "name": "stdout",
     "output_type": "stream",
     "text": [
      "\u001b[32m[1104 17:45:00 @base.py:285]\u001b[0m Epoch 762 (global_step 160019) finished, time:6.54 seconds.\n",
      "\u001b[32m[1104 17:45:01 @saver.py:79]\u001b[0m Model saved to ../output/Chicago/WGGP_WI_new3/model\\model-160019.\n"
     ]
    },
    {
     "name": "stderr",
     "output_type": "stream",
     "text": [
      "\n"
     ]
    },
    {
     "name": "stdout",
     "output_type": "stream",
     "text": [
      "\u001b[32m[1104 17:45:01 @monitor.py:467]\u001b[0m GAN_loss/d_loss: -0.82048\n",
      "\u001b[32m[1104 17:45:01 @monitor.py:467]\u001b[0m GAN_loss/g_loss: -0.48311\n",
      "\u001b[32m[1104 17:45:01 @monitor.py:467]\u001b[0m GAN_loss/gradient_penalty: 0.00784\n",
      "\u001b[32m[1104 17:45:01 @monitor.py:467]\u001b[0m GAN_loss/gradient_rms: 1.0004\n",
      "\u001b[32m[1104 17:45:01 @monitor.py:467]\u001b[0m GAN_loss/kl_div: 0.096105\n",
      "\u001b[32m[1104 17:45:01 @monitor.py:467]\u001b[0m QueueInput/queue_size: 50\n",
      "\u001b[32m[1104 17:45:01 @base.py:275]\u001b[0m Start Epoch 763 ...\n"
     ]
    },
    {
     "name": "stderr",
     "output_type": "stream",
     "text": [
      "100%|###################################################################################|175/175[00:06<00:00,26.72it/s]"
     ]
    },
    {
     "name": "stdout",
     "output_type": "stream",
     "text": [
      "\u001b[32m[1104 17:45:07 @base.py:285]\u001b[0m Epoch 763 (global_step 160229) finished, time:6.55 seconds.\n",
      "\u001b[32m[1104 17:45:07 @saver.py:79]\u001b[0m Model saved to ../output/Chicago/WGGP_WI_new3/model\\model-160229.\n"
     ]
    },
    {
     "name": "stderr",
     "output_type": "stream",
     "text": [
      "\n"
     ]
    },
    {
     "name": "stdout",
     "output_type": "stream",
     "text": [
      "\u001b[32m[1104 17:45:07 @monitor.py:467]\u001b[0m GAN_loss/d_loss: -0.72426\n",
      "\u001b[32m[1104 17:45:07 @monitor.py:467]\u001b[0m GAN_loss/g_loss: -0.4603\n",
      "\u001b[32m[1104 17:45:07 @monitor.py:467]\u001b[0m GAN_loss/gradient_penalty: 0.0079659\n",
      "\u001b[32m[1104 17:45:07 @monitor.py:467]\u001b[0m GAN_loss/gradient_rms: 0.99865\n",
      "\u001b[32m[1104 17:45:07 @monitor.py:467]\u001b[0m GAN_loss/kl_div: 0.097083\n",
      "\u001b[32m[1104 17:45:07 @monitor.py:467]\u001b[0m QueueInput/queue_size: 50\n",
      "\u001b[32m[1104 17:45:07 @base.py:275]\u001b[0m Start Epoch 764 ...\n"
     ]
    },
    {
     "name": "stderr",
     "output_type": "stream",
     "text": [
      "100%|###################################################################################|175/175[00:06<00:00,26.67it/s]"
     ]
    },
    {
     "name": "stdout",
     "output_type": "stream",
     "text": [
      "\u001b[32m[1104 17:45:14 @base.py:285]\u001b[0m Epoch 764 (global_step 160439) finished, time:6.56 seconds.\n",
      "\u001b[32m[1104 17:45:14 @saver.py:79]\u001b[0m Model saved to ../output/Chicago/WGGP_WI_new3/model\\model-160439.\n"
     ]
    },
    {
     "name": "stderr",
     "output_type": "stream",
     "text": [
      "\n"
     ]
    },
    {
     "name": "stdout",
     "output_type": "stream",
     "text": [
      "\u001b[32m[1104 17:45:14 @monitor.py:467]\u001b[0m GAN_loss/d_loss: -0.76187\n",
      "\u001b[32m[1104 17:45:14 @monitor.py:467]\u001b[0m GAN_loss/g_loss: -0.48683\n",
      "\u001b[32m[1104 17:45:14 @monitor.py:467]\u001b[0m GAN_loss/gradient_penalty: 0.0078698\n",
      "\u001b[32m[1104 17:45:14 @monitor.py:467]\u001b[0m GAN_loss/gradient_rms: 1.0022\n",
      "\u001b[32m[1104 17:45:14 @monitor.py:467]\u001b[0m GAN_loss/kl_div: 0.087619\n",
      "\u001b[32m[1104 17:45:14 @monitor.py:467]\u001b[0m QueueInput/queue_size: 50\n",
      "\u001b[32m[1104 17:45:14 @base.py:275]\u001b[0m Start Epoch 765 ...\n"
     ]
    },
    {
     "name": "stderr",
     "output_type": "stream",
     "text": [
      "100%|###################################################################################|175/175[00:06<00:00,26.62it/s]"
     ]
    },
    {
     "name": "stdout",
     "output_type": "stream",
     "text": [
      "\u001b[32m[1104 17:45:21 @base.py:285]\u001b[0m Epoch 765 (global_step 160649) finished, time:6.57 seconds.\n",
      "\u001b[32m[1104 17:45:21 @saver.py:79]\u001b[0m Model saved to ../output/Chicago/WGGP_WI_new3/model\\model-160649.\n"
     ]
    },
    {
     "name": "stderr",
     "output_type": "stream",
     "text": [
      "\n"
     ]
    },
    {
     "name": "stdout",
     "output_type": "stream",
     "text": [
      "\u001b[32m[1104 17:45:21 @monitor.py:467]\u001b[0m GAN_loss/d_loss: -0.86237\n",
      "\u001b[32m[1104 17:45:21 @monitor.py:467]\u001b[0m GAN_loss/g_loss: -0.47212\n",
      "\u001b[32m[1104 17:45:21 @monitor.py:467]\u001b[0m GAN_loss/gradient_penalty: 0.0082974\n",
      "\u001b[32m[1104 17:45:21 @monitor.py:467]\u001b[0m GAN_loss/gradient_rms: 1.0009\n",
      "\u001b[32m[1104 17:45:21 @monitor.py:467]\u001b[0m GAN_loss/kl_div: 0.090475\n",
      "\u001b[32m[1104 17:45:21 @monitor.py:467]\u001b[0m QueueInput/queue_size: 50\n",
      "\u001b[32m[1104 17:45:21 @base.py:275]\u001b[0m Start Epoch 766 ...\n"
     ]
    },
    {
     "name": "stderr",
     "output_type": "stream",
     "text": [
      "100%|###################################################################################|175/175[00:06<00:00,26.89it/s]"
     ]
    },
    {
     "name": "stdout",
     "output_type": "stream",
     "text": [
      "\u001b[32m[1104 17:45:28 @base.py:285]\u001b[0m Epoch 766 (global_step 160859) finished, time:6.51 seconds.\n",
      "\u001b[32m[1104 17:45:28 @saver.py:79]\u001b[0m Model saved to ../output/Chicago/WGGP_WI_new3/model\\model-160859.\n"
     ]
    },
    {
     "name": "stderr",
     "output_type": "stream",
     "text": [
      "\n"
     ]
    },
    {
     "name": "stdout",
     "output_type": "stream",
     "text": [
      "\u001b[32m[1104 17:45:28 @monitor.py:467]\u001b[0m GAN_loss/d_loss: -0.79828\n",
      "\u001b[32m[1104 17:45:28 @monitor.py:467]\u001b[0m GAN_loss/g_loss: -0.45831\n",
      "\u001b[32m[1104 17:45:28 @monitor.py:467]\u001b[0m GAN_loss/gradient_penalty: 0.0079573\n",
      "\u001b[32m[1104 17:45:28 @monitor.py:467]\u001b[0m GAN_loss/gradient_rms: 0.99935\n",
      "\u001b[32m[1104 17:45:28 @monitor.py:467]\u001b[0m GAN_loss/kl_div: 0.088825\n",
      "\u001b[32m[1104 17:45:28 @monitor.py:467]\u001b[0m QueueInput/queue_size: 50\n",
      "\u001b[32m[1104 17:45:28 @base.py:275]\u001b[0m Start Epoch 767 ...\n"
     ]
    },
    {
     "name": "stderr",
     "output_type": "stream",
     "text": [
      "100%|###################################################################################|175/175[00:06<00:00,26.96it/s]"
     ]
    },
    {
     "name": "stdout",
     "output_type": "stream",
     "text": [
      "\u001b[32m[1104 17:45:34 @base.py:285]\u001b[0m Epoch 767 (global_step 161069) finished, time:6.49 seconds.\n",
      "\u001b[32m[1104 17:45:34 @saver.py:79]\u001b[0m Model saved to ../output/Chicago/WGGP_WI_new3/model\\model-161069.\n"
     ]
    },
    {
     "name": "stderr",
     "output_type": "stream",
     "text": [
      "\n"
     ]
    },
    {
     "name": "stdout",
     "output_type": "stream",
     "text": [
      "\u001b[32m[1104 17:45:35 @monitor.py:467]\u001b[0m GAN_loss/d_loss: -0.86811\n",
      "\u001b[32m[1104 17:45:35 @monitor.py:467]\u001b[0m GAN_loss/g_loss: -0.48824\n",
      "\u001b[32m[1104 17:45:35 @monitor.py:467]\u001b[0m GAN_loss/gradient_penalty: 0.0081376\n",
      "\u001b[32m[1104 17:45:35 @monitor.py:467]\u001b[0m GAN_loss/gradient_rms: 1.0001\n",
      "\u001b[32m[1104 17:45:35 @monitor.py:467]\u001b[0m GAN_loss/kl_div: 0.091992\n",
      "\u001b[32m[1104 17:45:35 @monitor.py:467]\u001b[0m QueueInput/queue_size: 50\n",
      "\u001b[32m[1104 17:45:35 @base.py:275]\u001b[0m Start Epoch 768 ...\n"
     ]
    },
    {
     "name": "stderr",
     "output_type": "stream",
     "text": [
      "100%|###################################################################################|175/175[00:06<00:00,26.79it/s]"
     ]
    },
    {
     "name": "stdout",
     "output_type": "stream",
     "text": [
      "\u001b[32m[1104 17:45:41 @base.py:285]\u001b[0m Epoch 768 (global_step 161279) finished, time:6.53 seconds.\n",
      "\u001b[32m[1104 17:45:41 @saver.py:79]\u001b[0m Model saved to ../output/Chicago/WGGP_WI_new3/model\\model-161279.\n"
     ]
    },
    {
     "name": "stderr",
     "output_type": "stream",
     "text": [
      "\n"
     ]
    },
    {
     "name": "stdout",
     "output_type": "stream",
     "text": [
      "\u001b[32m[1104 17:45:41 @monitor.py:467]\u001b[0m GAN_loss/d_loss: -0.56645\n",
      "\u001b[32m[1104 17:45:41 @monitor.py:467]\u001b[0m GAN_loss/g_loss: -0.48257\n",
      "\u001b[32m[1104 17:45:41 @monitor.py:467]\u001b[0m GAN_loss/gradient_penalty: 0.007676\n",
      "\u001b[32m[1104 17:45:41 @monitor.py:467]\u001b[0m GAN_loss/gradient_rms: 0.99967\n",
      "\u001b[32m[1104 17:45:41 @monitor.py:467]\u001b[0m GAN_loss/kl_div: 0.09381\n",
      "\u001b[32m[1104 17:45:41 @monitor.py:467]\u001b[0m QueueInput/queue_size: 50\n",
      "\u001b[32m[1104 17:45:41 @base.py:275]\u001b[0m Start Epoch 769 ...\n"
     ]
    },
    {
     "name": "stderr",
     "output_type": "stream",
     "text": [
      "100%|###################################################################################|175/175[00:06<00:00,26.76it/s]"
     ]
    },
    {
     "name": "stdout",
     "output_type": "stream",
     "text": [
      "\u001b[32m[1104 17:45:48 @base.py:285]\u001b[0m Epoch 769 (global_step 161489) finished, time:6.54 seconds.\n"
     ]
    },
    {
     "name": "stderr",
     "output_type": "stream",
     "text": [
      "\n"
     ]
    },
    {
     "name": "stdout",
     "output_type": "stream",
     "text": [
      "\u001b[32m[1104 17:45:48 @saver.py:79]\u001b[0m Model saved to ../output/Chicago/WGGP_WI_new3/model\\model-161489.\n",
      "\u001b[32m[1104 17:45:48 @monitor.py:467]\u001b[0m GAN_loss/d_loss: -0.95408\n",
      "\u001b[32m[1104 17:45:48 @monitor.py:467]\u001b[0m GAN_loss/g_loss: -0.45758\n",
      "\u001b[32m[1104 17:45:48 @monitor.py:467]\u001b[0m GAN_loss/gradient_penalty: 0.0090501\n",
      "\u001b[32m[1104 17:45:48 @monitor.py:467]\u001b[0m GAN_loss/gradient_rms: 1.0022\n",
      "\u001b[32m[1104 17:45:48 @monitor.py:467]\u001b[0m GAN_loss/kl_div: 0.09676\n",
      "\u001b[32m[1104 17:45:48 @monitor.py:467]\u001b[0m QueueInput/queue_size: 50\n",
      "\u001b[32m[1104 17:45:48 @base.py:275]\u001b[0m Start Epoch 770 ...\n"
     ]
    },
    {
     "name": "stderr",
     "output_type": "stream",
     "text": [
      "100%|###################################################################################|175/175[00:06<00:00,26.83it/s]"
     ]
    },
    {
     "name": "stdout",
     "output_type": "stream",
     "text": [
      "\u001b[32m[1104 17:45:55 @base.py:285]\u001b[0m Epoch 770 (global_step 161699) finished, time:6.52 seconds.\n"
     ]
    },
    {
     "name": "stderr",
     "output_type": "stream",
     "text": [
      "\n"
     ]
    },
    {
     "name": "stdout",
     "output_type": "stream",
     "text": [
      "\u001b[32m[1104 17:45:55 @saver.py:79]\u001b[0m Model saved to ../output/Chicago/WGGP_WI_new3/model\\model-161699.\n",
      "\u001b[32m[1104 17:45:55 @monitor.py:467]\u001b[0m GAN_loss/d_loss: -0.72814\n",
      "\u001b[32m[1104 17:45:55 @monitor.py:467]\u001b[0m GAN_loss/g_loss: -0.46312\n",
      "\u001b[32m[1104 17:45:55 @monitor.py:467]\u001b[0m GAN_loss/gradient_penalty: 0.0077517\n",
      "\u001b[32m[1104 17:45:55 @monitor.py:467]\u001b[0m GAN_loss/gradient_rms: 0.9975\n",
      "\u001b[32m[1104 17:45:55 @monitor.py:467]\u001b[0m GAN_loss/kl_div: 0.089487\n",
      "\u001b[32m[1104 17:45:55 @monitor.py:467]\u001b[0m QueueInput/queue_size: 50\n",
      "\u001b[32m[1104 17:45:55 @base.py:275]\u001b[0m Start Epoch 771 ...\n"
     ]
    },
    {
     "name": "stderr",
     "output_type": "stream",
     "text": [
      "100%|###################################################################################|175/175[00:06<00:00,26.85it/s]"
     ]
    },
    {
     "name": "stdout",
     "output_type": "stream",
     "text": [
      "\u001b[32m[1104 17:46:01 @base.py:285]\u001b[0m Epoch 771 (global_step 161909) finished, time:6.52 seconds.\n",
      "\u001b[32m[1104 17:46:02 @saver.py:79]\u001b[0m Model saved to ../output/Chicago/WGGP_WI_new3/model\\model-161909.\n"
     ]
    },
    {
     "name": "stderr",
     "output_type": "stream",
     "text": [
      "\n"
     ]
    },
    {
     "name": "stdout",
     "output_type": "stream",
     "text": [
      "\u001b[32m[1104 17:46:02 @monitor.py:467]\u001b[0m GAN_loss/d_loss: -0.70636\n",
      "\u001b[32m[1104 17:46:02 @monitor.py:467]\u001b[0m GAN_loss/g_loss: -0.45936\n",
      "\u001b[32m[1104 17:46:02 @monitor.py:467]\u001b[0m GAN_loss/gradient_penalty: 0.0081425\n",
      "\u001b[32m[1104 17:46:02 @monitor.py:467]\u001b[0m GAN_loss/gradient_rms: 0.99963\n",
      "\u001b[32m[1104 17:46:02 @monitor.py:467]\u001b[0m GAN_loss/kl_div: 0.091846\n",
      "\u001b[32m[1104 17:46:02 @monitor.py:467]\u001b[0m QueueInput/queue_size: 50\n",
      "\u001b[32m[1104 17:46:02 @base.py:275]\u001b[0m Start Epoch 772 ...\n"
     ]
    },
    {
     "name": "stderr",
     "output_type": "stream",
     "text": [
      "100%|###################################################################################|175/175[00:06<00:00,26.63it/s]"
     ]
    },
    {
     "name": "stdout",
     "output_type": "stream",
     "text": [
      "\u001b[32m[1104 17:46:08 @base.py:285]\u001b[0m Epoch 772 (global_step 162119) finished, time:6.57 seconds.\n",
      "\u001b[32m[1104 17:46:08 @saver.py:79]\u001b[0m Model saved to ../output/Chicago/WGGP_WI_new3/model\\model-162119.\n"
     ]
    },
    {
     "name": "stderr",
     "output_type": "stream",
     "text": [
      "\n"
     ]
    },
    {
     "name": "stdout",
     "output_type": "stream",
     "text": [
      "\u001b[32m[1104 17:46:08 @monitor.py:467]\u001b[0m GAN_loss/d_loss: -0.6756\n",
      "\u001b[32m[1104 17:46:08 @monitor.py:467]\u001b[0m GAN_loss/g_loss: -0.46774\n",
      "\u001b[32m[1104 17:46:08 @monitor.py:467]\u001b[0m GAN_loss/gradient_penalty: 0.0085518\n",
      "\u001b[32m[1104 17:46:08 @monitor.py:467]\u001b[0m GAN_loss/gradient_rms: 1.0009\n",
      "\u001b[32m[1104 17:46:08 @monitor.py:467]\u001b[0m GAN_loss/kl_div: 0.080767\n",
      "\u001b[32m[1104 17:46:08 @monitor.py:467]\u001b[0m QueueInput/queue_size: 50\n",
      "\u001b[32m[1104 17:46:08 @base.py:275]\u001b[0m Start Epoch 773 ...\n"
     ]
    },
    {
     "name": "stderr",
     "output_type": "stream",
     "text": [
      "100%|###################################################################################|175/175[00:06<00:00,26.87it/s]"
     ]
    },
    {
     "name": "stdout",
     "output_type": "stream",
     "text": [
      "\u001b[32m[1104 17:46:15 @base.py:285]\u001b[0m Epoch 773 (global_step 162329) finished, time:6.51 seconds.\n"
     ]
    },
    {
     "name": "stderr",
     "output_type": "stream",
     "text": [
      "\n"
     ]
    },
    {
     "name": "stdout",
     "output_type": "stream",
     "text": [
      "\u001b[32m[1104 17:46:15 @saver.py:79]\u001b[0m Model saved to ../output/Chicago/WGGP_WI_new3/model\\model-162329.\n",
      "\u001b[32m[1104 17:46:15 @monitor.py:467]\u001b[0m GAN_loss/d_loss: -0.86541\n",
      "\u001b[32m[1104 17:46:15 @monitor.py:467]\u001b[0m GAN_loss/g_loss: -0.48469\n",
      "\u001b[32m[1104 17:46:15 @monitor.py:467]\u001b[0m GAN_loss/gradient_penalty: 0.0080728\n",
      "\u001b[32m[1104 17:46:15 @monitor.py:467]\u001b[0m GAN_loss/gradient_rms: 1.0016\n",
      "\u001b[32m[1104 17:46:15 @monitor.py:467]\u001b[0m GAN_loss/kl_div: 0.078044\n",
      "\u001b[32m[1104 17:46:15 @monitor.py:467]\u001b[0m QueueInput/queue_size: 50\n",
      "\u001b[32m[1104 17:46:15 @base.py:275]\u001b[0m Start Epoch 774 ...\n"
     ]
    },
    {
     "name": "stderr",
     "output_type": "stream",
     "text": [
      "100%|###################################################################################|175/175[00:06<00:00,26.67it/s]"
     ]
    },
    {
     "name": "stdout",
     "output_type": "stream",
     "text": [
      "\u001b[32m[1104 17:46:22 @base.py:285]\u001b[0m Epoch 774 (global_step 162539) finished, time:6.56 seconds.\n"
     ]
    },
    {
     "name": "stderr",
     "output_type": "stream",
     "text": [
      "\n"
     ]
    },
    {
     "name": "stdout",
     "output_type": "stream",
     "text": [
      "\u001b[32m[1104 17:46:22 @saver.py:79]\u001b[0m Model saved to ../output/Chicago/WGGP_WI_new3/model\\model-162539.\n",
      "\u001b[32m[1104 17:46:22 @monitor.py:467]\u001b[0m GAN_loss/d_loss: -1.1311\n",
      "\u001b[32m[1104 17:46:22 @monitor.py:467]\u001b[0m GAN_loss/g_loss: -0.46438\n",
      "\u001b[32m[1104 17:46:22 @monitor.py:467]\u001b[0m GAN_loss/gradient_penalty: 0.0084478\n",
      "\u001b[32m[1104 17:46:22 @monitor.py:467]\u001b[0m GAN_loss/gradient_rms: 0.9992\n",
      "\u001b[32m[1104 17:46:22 @monitor.py:467]\u001b[0m GAN_loss/kl_div: 0.08435\n",
      "\u001b[32m[1104 17:46:22 @monitor.py:467]\u001b[0m QueueInput/queue_size: 50\n",
      "\u001b[32m[1104 17:46:22 @base.py:275]\u001b[0m Start Epoch 775 ...\n"
     ]
    },
    {
     "name": "stderr",
     "output_type": "stream",
     "text": [
      "100%|###################################################################################|175/175[00:06<00:00,26.87it/s]"
     ]
    },
    {
     "name": "stdout",
     "output_type": "stream",
     "text": [
      "\u001b[32m[1104 17:46:28 @base.py:285]\u001b[0m Epoch 775 (global_step 162749) finished, time:6.51 seconds.\n"
     ]
    },
    {
     "name": "stderr",
     "output_type": "stream",
     "text": [
      "\n"
     ]
    },
    {
     "name": "stdout",
     "output_type": "stream",
     "text": [
      "\u001b[32m[1104 17:46:29 @saver.py:79]\u001b[0m Model saved to ../output/Chicago/WGGP_WI_new3/model\\model-162749.\n",
      "\u001b[32m[1104 17:46:29 @monitor.py:467]\u001b[0m GAN_loss/d_loss: -0.90529\n",
      "\u001b[32m[1104 17:46:29 @monitor.py:467]\u001b[0m GAN_loss/g_loss: -0.47122\n",
      "\u001b[32m[1104 17:46:29 @monitor.py:467]\u001b[0m GAN_loss/gradient_penalty: 0.0082967\n",
      "\u001b[32m[1104 17:46:29 @monitor.py:467]\u001b[0m GAN_loss/gradient_rms: 1.0006\n",
      "\u001b[32m[1104 17:46:29 @monitor.py:467]\u001b[0m GAN_loss/kl_div: 0.083138\n",
      "\u001b[32m[1104 17:46:29 @monitor.py:467]\u001b[0m QueueInput/queue_size: 50\n",
      "\u001b[32m[1104 17:46:29 @base.py:275]\u001b[0m Start Epoch 776 ...\n"
     ]
    },
    {
     "name": "stderr",
     "output_type": "stream",
     "text": [
      "100%|###################################################################################|175/175[00:06<00:00,26.83it/s]"
     ]
    },
    {
     "name": "stdout",
     "output_type": "stream",
     "text": [
      "\u001b[32m[1104 17:46:35 @base.py:285]\u001b[0m Epoch 776 (global_step 162959) finished, time:6.52 seconds.\n",
      "\u001b[32m[1104 17:46:35 @saver.py:79]\u001b[0m Model saved to ../output/Chicago/WGGP_WI_new3/model\\model-162959.\n"
     ]
    },
    {
     "name": "stderr",
     "output_type": "stream",
     "text": [
      "\n"
     ]
    },
    {
     "name": "stdout",
     "output_type": "stream",
     "text": [
      "\u001b[32m[1104 17:46:35 @monitor.py:467]\u001b[0m GAN_loss/d_loss: -0.55917\n",
      "\u001b[32m[1104 17:46:35 @monitor.py:467]\u001b[0m GAN_loss/g_loss: -0.49118\n",
      "\u001b[32m[1104 17:46:35 @monitor.py:467]\u001b[0m GAN_loss/gradient_penalty: 0.0079769\n",
      "\u001b[32m[1104 17:46:35 @monitor.py:467]\u001b[0m GAN_loss/gradient_rms: 0.99788\n",
      "\u001b[32m[1104 17:46:35 @monitor.py:467]\u001b[0m GAN_loss/kl_div: 0.088342\n",
      "\u001b[32m[1104 17:46:35 @monitor.py:467]\u001b[0m QueueInput/queue_size: 50\n",
      "\u001b[32m[1104 17:46:35 @base.py:275]\u001b[0m Start Epoch 777 ...\n"
     ]
    },
    {
     "name": "stderr",
     "output_type": "stream",
     "text": [
      "100%|###################################################################################|175/175[00:06<00:00,26.93it/s]"
     ]
    },
    {
     "name": "stdout",
     "output_type": "stream",
     "text": [
      "\u001b[32m[1104 17:46:42 @base.py:285]\u001b[0m Epoch 777 (global_step 163169) finished, time:6.5 seconds.\n",
      "\u001b[32m[1104 17:46:42 @saver.py:79]\u001b[0m Model saved to ../output/Chicago/WGGP_WI_new3/model\\model-163169.\n"
     ]
    },
    {
     "name": "stderr",
     "output_type": "stream",
     "text": [
      "\n"
     ]
    },
    {
     "name": "stdout",
     "output_type": "stream",
     "text": [
      "\u001b[32m[1104 17:46:42 @monitor.py:467]\u001b[0m GAN_loss/d_loss: -0.77854\n",
      "\u001b[32m[1104 17:46:42 @monitor.py:467]\u001b[0m GAN_loss/g_loss: -0.5362\n",
      "\u001b[32m[1104 17:46:42 @monitor.py:467]\u001b[0m GAN_loss/gradient_penalty: 0.0080953\n",
      "\u001b[32m[1104 17:46:42 @monitor.py:467]\u001b[0m GAN_loss/gradient_rms: 0.99932\n",
      "\u001b[32m[1104 17:46:42 @monitor.py:467]\u001b[0m GAN_loss/kl_div: 0.092811\n",
      "\u001b[32m[1104 17:46:42 @monitor.py:467]\u001b[0m QueueInput/queue_size: 50\n",
      "\u001b[32m[1104 17:46:42 @base.py:275]\u001b[0m Start Epoch 778 ...\n"
     ]
    },
    {
     "name": "stderr",
     "output_type": "stream",
     "text": [
      "100%|###################################################################################|175/175[00:06<00:00,26.72it/s]"
     ]
    },
    {
     "name": "stdout",
     "output_type": "stream",
     "text": [
      "\u001b[32m[1104 17:46:49 @base.py:285]\u001b[0m Epoch 778 (global_step 163379) finished, time:6.55 seconds.\n",
      "\u001b[32m[1104 17:46:49 @saver.py:79]\u001b[0m Model saved to ../output/Chicago/WGGP_WI_new3/model\\model-163379.\n"
     ]
    },
    {
     "name": "stderr",
     "output_type": "stream",
     "text": [
      "\n"
     ]
    },
    {
     "name": "stdout",
     "output_type": "stream",
     "text": [
      "\u001b[32m[1104 17:46:49 @monitor.py:467]\u001b[0m GAN_loss/d_loss: -0.80508\n",
      "\u001b[32m[1104 17:46:49 @monitor.py:467]\u001b[0m GAN_loss/g_loss: -0.53491\n",
      "\u001b[32m[1104 17:46:49 @monitor.py:467]\u001b[0m GAN_loss/gradient_penalty: 0.0085745\n",
      "\u001b[32m[1104 17:46:49 @monitor.py:467]\u001b[0m GAN_loss/gradient_rms: 1.0011\n",
      "\u001b[32m[1104 17:46:49 @monitor.py:467]\u001b[0m GAN_loss/kl_div: 0.094924\n",
      "\u001b[32m[1104 17:46:49 @monitor.py:467]\u001b[0m QueueInput/queue_size: 50\n",
      "\u001b[32m[1104 17:46:49 @base.py:275]\u001b[0m Start Epoch 779 ...\n"
     ]
    },
    {
     "name": "stderr",
     "output_type": "stream",
     "text": [
      "100%|###################################################################################|175/175[00:06<00:00,26.63it/s]"
     ]
    },
    {
     "name": "stdout",
     "output_type": "stream",
     "text": [
      "\u001b[32m[1104 17:46:56 @base.py:285]\u001b[0m Epoch 779 (global_step 163589) finished, time:6.57 seconds.\n",
      "\u001b[32m[1104 17:46:56 @saver.py:79]\u001b[0m Model saved to ../output/Chicago/WGGP_WI_new3/model\\model-163589.\n"
     ]
    },
    {
     "name": "stderr",
     "output_type": "stream",
     "text": [
      "\n"
     ]
    },
    {
     "name": "stdout",
     "output_type": "stream",
     "text": [
      "\u001b[32m[1104 17:46:56 @monitor.py:467]\u001b[0m GAN_loss/d_loss: -0.94215\n",
      "\u001b[32m[1104 17:46:56 @monitor.py:467]\u001b[0m GAN_loss/g_loss: -0.54983\n",
      "\u001b[32m[1104 17:46:56 @monitor.py:467]\u001b[0m GAN_loss/gradient_penalty: 0.0084608\n",
      "\u001b[32m[1104 17:46:56 @monitor.py:467]\u001b[0m GAN_loss/gradient_rms: 1.0005\n",
      "\u001b[32m[1104 17:46:56 @monitor.py:467]\u001b[0m GAN_loss/kl_div: 0.10317\n",
      "\u001b[32m[1104 17:46:56 @monitor.py:467]\u001b[0m QueueInput/queue_size: 50\n",
      "\u001b[32m[1104 17:46:56 @base.py:275]\u001b[0m Start Epoch 780 ...\n"
     ]
    },
    {
     "name": "stderr",
     "output_type": "stream",
     "text": [
      "100%|###################################################################################|175/175[00:06<00:00,26.92it/s]"
     ]
    },
    {
     "name": "stdout",
     "output_type": "stream",
     "text": [
      "\u001b[32m[1104 17:47:02 @base.py:285]\u001b[0m Epoch 780 (global_step 163799) finished, time:6.5 seconds.\n",
      "\u001b[32m[1104 17:47:02 @saver.py:79]\u001b[0m Model saved to ../output/Chicago/WGGP_WI_new3/model\\model-163799.\n"
     ]
    },
    {
     "name": "stderr",
     "output_type": "stream",
     "text": [
      "\n"
     ]
    },
    {
     "name": "stdout",
     "output_type": "stream",
     "text": [
      "\u001b[32m[1104 17:47:03 @monitor.py:467]\u001b[0m GAN_loss/d_loss: -0.88237\n",
      "\u001b[32m[1104 17:47:03 @monitor.py:467]\u001b[0m GAN_loss/g_loss: -0.55109\n",
      "\u001b[32m[1104 17:47:03 @monitor.py:467]\u001b[0m GAN_loss/gradient_penalty: 0.0098995\n",
      "\u001b[32m[1104 17:47:03 @monitor.py:467]\u001b[0m GAN_loss/gradient_rms: 1.0005\n",
      "\u001b[32m[1104 17:47:03 @monitor.py:467]\u001b[0m GAN_loss/kl_div: 0.10848\n",
      "\u001b[32m[1104 17:47:03 @monitor.py:467]\u001b[0m QueueInput/queue_size: 50\n",
      "\u001b[32m[1104 17:47:03 @base.py:275]\u001b[0m Start Epoch 781 ...\n"
     ]
    },
    {
     "name": "stderr",
     "output_type": "stream",
     "text": [
      "100%|###################################################################################|175/175[00:06<00:00,26.87it/s]"
     ]
    },
    {
     "name": "stdout",
     "output_type": "stream",
     "text": [
      "\u001b[32m[1104 17:47:09 @base.py:285]\u001b[0m Epoch 781 (global_step 164009) finished, time:6.51 seconds.\n",
      "\u001b[32m[1104 17:47:09 @saver.py:79]\u001b[0m Model saved to ../output/Chicago/WGGP_WI_new3/model\\model-164009.\n"
     ]
    },
    {
     "name": "stderr",
     "output_type": "stream",
     "text": [
      "\n"
     ]
    },
    {
     "name": "stdout",
     "output_type": "stream",
     "text": [
      "\u001b[32m[1104 17:47:09 @monitor.py:467]\u001b[0m GAN_loss/d_loss: -0.66755\n",
      "\u001b[32m[1104 17:47:09 @monitor.py:467]\u001b[0m GAN_loss/g_loss: -0.56023\n",
      "\u001b[32m[1104 17:47:09 @monitor.py:467]\u001b[0m GAN_loss/gradient_penalty: 0.008303\n",
      "\u001b[32m[1104 17:47:09 @monitor.py:467]\u001b[0m GAN_loss/gradient_rms: 0.99898\n",
      "\u001b[32m[1104 17:47:09 @monitor.py:467]\u001b[0m GAN_loss/kl_div: 0.085028\n",
      "\u001b[32m[1104 17:47:09 @monitor.py:467]\u001b[0m QueueInput/queue_size: 50\n",
      "\u001b[32m[1104 17:47:09 @base.py:275]\u001b[0m Start Epoch 782 ...\n"
     ]
    },
    {
     "name": "stderr",
     "output_type": "stream",
     "text": [
      "100%|###################################################################################|175/175[00:06<00:00,26.70it/s]"
     ]
    },
    {
     "name": "stdout",
     "output_type": "stream",
     "text": [
      "\u001b[32m[1104 17:47:16 @base.py:285]\u001b[0m Epoch 782 (global_step 164219) finished, time:6.56 seconds.\n",
      "\u001b[32m[1104 17:47:16 @saver.py:79]\u001b[0m Model saved to ../output/Chicago/WGGP_WI_new3/model\\model-164219.\n"
     ]
    },
    {
     "name": "stderr",
     "output_type": "stream",
     "text": [
      "\n"
     ]
    },
    {
     "name": "stdout",
     "output_type": "stream",
     "text": [
      "\u001b[32m[1104 17:47:16 @monitor.py:467]\u001b[0m GAN_loss/d_loss: -0.73442\n",
      "\u001b[32m[1104 17:47:16 @monitor.py:467]\u001b[0m GAN_loss/g_loss: -0.58336\n",
      "\u001b[32m[1104 17:47:16 @monitor.py:467]\u001b[0m GAN_loss/gradient_penalty: 0.0084165\n",
      "\u001b[32m[1104 17:47:16 @monitor.py:467]\u001b[0m GAN_loss/gradient_rms: 0.99862\n",
      "\u001b[32m[1104 17:47:16 @monitor.py:467]\u001b[0m GAN_loss/kl_div: 0.087162\n",
      "\u001b[32m[1104 17:47:16 @monitor.py:467]\u001b[0m QueueInput/queue_size: 50\n",
      "\u001b[32m[1104 17:47:16 @base.py:275]\u001b[0m Start Epoch 783 ...\n"
     ]
    },
    {
     "name": "stderr",
     "output_type": "stream",
     "text": [
      "100%|###################################################################################|175/175[00:06<00:00,26.73it/s]"
     ]
    },
    {
     "name": "stdout",
     "output_type": "stream",
     "text": [
      "\u001b[32m[1104 17:47:23 @base.py:285]\u001b[0m Epoch 783 (global_step 164429) finished, time:6.55 seconds.\n"
     ]
    },
    {
     "name": "stderr",
     "output_type": "stream",
     "text": [
      "\n"
     ]
    },
    {
     "name": "stdout",
     "output_type": "stream",
     "text": [
      "\u001b[32m[1104 17:47:23 @saver.py:79]\u001b[0m Model saved to ../output/Chicago/WGGP_WI_new3/model\\model-164429.\n",
      "\u001b[32m[1104 17:47:23 @monitor.py:467]\u001b[0m GAN_loss/d_loss: -0.78317\n",
      "\u001b[32m[1104 17:47:23 @monitor.py:467]\u001b[0m GAN_loss/g_loss: -0.56334\n",
      "\u001b[32m[1104 17:47:23 @monitor.py:467]\u001b[0m GAN_loss/gradient_penalty: 0.0083908\n",
      "\u001b[32m[1104 17:47:23 @monitor.py:467]\u001b[0m GAN_loss/gradient_rms: 0.99965\n",
      "\u001b[32m[1104 17:47:23 @monitor.py:467]\u001b[0m GAN_loss/kl_div: 0.10731\n",
      "\u001b[32m[1104 17:47:23 @monitor.py:467]\u001b[0m QueueInput/queue_size: 50\n",
      "\u001b[32m[1104 17:47:23 @base.py:275]\u001b[0m Start Epoch 784 ...\n"
     ]
    },
    {
     "name": "stderr",
     "output_type": "stream",
     "text": [
      "100%|###################################################################################|175/175[00:06<00:00,26.90it/s]"
     ]
    },
    {
     "name": "stdout",
     "output_type": "stream",
     "text": [
      "\u001b[32m[1104 17:47:29 @base.py:285]\u001b[0m Epoch 784 (global_step 164639) finished, time:6.51 seconds.\n"
     ]
    },
    {
     "name": "stderr",
     "output_type": "stream",
     "text": [
      "\n"
     ]
    },
    {
     "name": "stdout",
     "output_type": "stream",
     "text": [
      "\u001b[32m[1104 17:47:30 @saver.py:79]\u001b[0m Model saved to ../output/Chicago/WGGP_WI_new3/model\\model-164639.\n",
      "\u001b[32m[1104 17:47:30 @monitor.py:467]\u001b[0m GAN_loss/d_loss: -0.90318\n",
      "\u001b[32m[1104 17:47:30 @monitor.py:467]\u001b[0m GAN_loss/g_loss: -0.55491\n",
      "\u001b[32m[1104 17:47:30 @monitor.py:467]\u001b[0m GAN_loss/gradient_penalty: 0.0087193\n",
      "\u001b[32m[1104 17:47:30 @monitor.py:467]\u001b[0m GAN_loss/gradient_rms: 0.99841\n",
      "\u001b[32m[1104 17:47:30 @monitor.py:467]\u001b[0m GAN_loss/kl_div: 0.093548\n",
      "\u001b[32m[1104 17:47:30 @monitor.py:467]\u001b[0m QueueInput/queue_size: 50\n",
      "\u001b[32m[1104 17:47:30 @base.py:275]\u001b[0m Start Epoch 785 ...\n"
     ]
    },
    {
     "name": "stderr",
     "output_type": "stream",
     "text": [
      "100%|###################################################################################|175/175[00:06<00:00,26.69it/s]"
     ]
    },
    {
     "name": "stdout",
     "output_type": "stream",
     "text": [
      "\u001b[32m[1104 17:47:36 @base.py:285]\u001b[0m Epoch 785 (global_step 164849) finished, time:6.56 seconds.\n",
      "\u001b[32m[1104 17:47:36 @saver.py:79]\u001b[0m Model saved to ../output/Chicago/WGGP_WI_new3/model\\model-164849.\n"
     ]
    },
    {
     "name": "stderr",
     "output_type": "stream",
     "text": [
      "\n"
     ]
    },
    {
     "name": "stdout",
     "output_type": "stream",
     "text": [
      "\u001b[32m[1104 17:47:36 @monitor.py:467]\u001b[0m GAN_loss/d_loss: -0.95883\n",
      "\u001b[32m[1104 17:47:36 @monitor.py:467]\u001b[0m GAN_loss/g_loss: -0.5849\n",
      "\u001b[32m[1104 17:47:36 @monitor.py:467]\u001b[0m GAN_loss/gradient_penalty: 0.0082024\n",
      "\u001b[32m[1104 17:47:36 @monitor.py:467]\u001b[0m GAN_loss/gradient_rms: 1.001\n",
      "\u001b[32m[1104 17:47:36 @monitor.py:467]\u001b[0m GAN_loss/kl_div: 0.084417\n",
      "\u001b[32m[1104 17:47:36 @monitor.py:467]\u001b[0m QueueInput/queue_size: 50\n",
      "\u001b[32m[1104 17:47:36 @base.py:275]\u001b[0m Start Epoch 786 ...\n"
     ]
    },
    {
     "name": "stderr",
     "output_type": "stream",
     "text": [
      "100%|###################################################################################|175/175[00:06<00:00,26.66it/s]"
     ]
    },
    {
     "name": "stdout",
     "output_type": "stream",
     "text": [
      "\u001b[32m[1104 17:47:43 @base.py:285]\u001b[0m Epoch 786 (global_step 165059) finished, time:6.56 seconds.\n",
      "\u001b[32m[1104 17:47:43 @saver.py:79]\u001b[0m Model saved to ../output/Chicago/WGGP_WI_new3/model\\model-165059.\n"
     ]
    },
    {
     "name": "stderr",
     "output_type": "stream",
     "text": [
      "\n"
     ]
    },
    {
     "name": "stdout",
     "output_type": "stream",
     "text": [
      "\u001b[32m[1104 17:47:43 @monitor.py:467]\u001b[0m GAN_loss/d_loss: -0.97231\n",
      "\u001b[32m[1104 17:47:43 @monitor.py:467]\u001b[0m GAN_loss/g_loss: -0.59966\n",
      "\u001b[32m[1104 17:47:43 @monitor.py:467]\u001b[0m GAN_loss/gradient_penalty: 0.0091318\n",
      "\u001b[32m[1104 17:47:43 @monitor.py:467]\u001b[0m GAN_loss/gradient_rms: 1.001\n",
      "\u001b[32m[1104 17:47:43 @monitor.py:467]\u001b[0m GAN_loss/kl_div: 0.091124\n",
      "\u001b[32m[1104 17:47:43 @monitor.py:467]\u001b[0m QueueInput/queue_size: 50\n",
      "\u001b[32m[1104 17:47:43 @base.py:275]\u001b[0m Start Epoch 787 ...\n"
     ]
    },
    {
     "name": "stderr",
     "output_type": "stream",
     "text": [
      "100%|###################################################################################|175/175[00:06<00:00,26.77it/s]"
     ]
    },
    {
     "name": "stdout",
     "output_type": "stream",
     "text": [
      "\u001b[32m[1104 17:47:50 @base.py:285]\u001b[0m Epoch 787 (global_step 165269) finished, time:6.54 seconds.\n"
     ]
    },
    {
     "name": "stderr",
     "output_type": "stream",
     "text": [
      "\n"
     ]
    },
    {
     "name": "stdout",
     "output_type": "stream",
     "text": [
      "\u001b[32m[1104 17:47:50 @saver.py:79]\u001b[0m Model saved to ../output/Chicago/WGGP_WI_new3/model\\model-165269.\n",
      "\u001b[32m[1104 17:47:50 @monitor.py:467]\u001b[0m GAN_loss/d_loss: -1.1642\n",
      "\u001b[32m[1104 17:47:50 @monitor.py:467]\u001b[0m GAN_loss/g_loss: -0.62806\n",
      "\u001b[32m[1104 17:47:50 @monitor.py:467]\u001b[0m GAN_loss/gradient_penalty: 0.0087727\n",
      "\u001b[32m[1104 17:47:50 @monitor.py:467]\u001b[0m GAN_loss/gradient_rms: 0.99999\n",
      "\u001b[32m[1104 17:47:50 @monitor.py:467]\u001b[0m GAN_loss/kl_div: 0.11382\n",
      "\u001b[32m[1104 17:47:50 @monitor.py:467]\u001b[0m QueueInput/queue_size: 50\n",
      "\u001b[32m[1104 17:47:50 @base.py:275]\u001b[0m Start Epoch 788 ...\n"
     ]
    },
    {
     "name": "stderr",
     "output_type": "stream",
     "text": [
      "100%|###################################################################################|175/175[00:06<00:00,26.84it/s]"
     ]
    },
    {
     "name": "stdout",
     "output_type": "stream",
     "text": [
      "\u001b[32m[1104 17:47:57 @base.py:285]\u001b[0m Epoch 788 (global_step 165479) finished, time:6.52 seconds.\n"
     ]
    },
    {
     "name": "stderr",
     "output_type": "stream",
     "text": [
      "\n"
     ]
    },
    {
     "name": "stdout",
     "output_type": "stream",
     "text": [
      "\u001b[32m[1104 17:47:57 @saver.py:79]\u001b[0m Model saved to ../output/Chicago/WGGP_WI_new3/model\\model-165479.\n",
      "\u001b[32m[1104 17:47:57 @monitor.py:467]\u001b[0m GAN_loss/d_loss: -0.87912\n",
      "\u001b[32m[1104 17:47:57 @monitor.py:467]\u001b[0m GAN_loss/g_loss: -0.57641\n",
      "\u001b[32m[1104 17:47:57 @monitor.py:467]\u001b[0m GAN_loss/gradient_penalty: 0.0084504\n",
      "\u001b[32m[1104 17:47:57 @monitor.py:467]\u001b[0m GAN_loss/gradient_rms: 1.0006\n",
      "\u001b[32m[1104 17:47:57 @monitor.py:467]\u001b[0m GAN_loss/kl_div: 0.11008\n",
      "\u001b[32m[1104 17:47:57 @monitor.py:467]\u001b[0m QueueInput/queue_size: 50\n",
      "\u001b[32m[1104 17:47:57 @base.py:275]\u001b[0m Start Epoch 789 ...\n"
     ]
    },
    {
     "name": "stderr",
     "output_type": "stream",
     "text": [
      "100%|###################################################################################|175/175[00:06<00:00,26.67it/s]"
     ]
    },
    {
     "name": "stdout",
     "output_type": "stream",
     "text": [
      "\u001b[32m[1104 17:48:03 @base.py:285]\u001b[0m Epoch 789 (global_step 165689) finished, time:6.56 seconds.\n",
      "\u001b[32m[1104 17:48:04 @saver.py:79]\u001b[0m Model saved to ../output/Chicago/WGGP_WI_new3/model\\model-165689.\n"
     ]
    },
    {
     "name": "stderr",
     "output_type": "stream",
     "text": [
      "\n"
     ]
    },
    {
     "name": "stdout",
     "output_type": "stream",
     "text": [
      "\u001b[32m[1104 17:48:04 @monitor.py:467]\u001b[0m GAN_loss/d_loss: -1.2805\n",
      "\u001b[32m[1104 17:48:04 @monitor.py:467]\u001b[0m GAN_loss/g_loss: -0.57009\n",
      "\u001b[32m[1104 17:48:04 @monitor.py:467]\u001b[0m GAN_loss/gradient_penalty: 0.0096723\n",
      "\u001b[32m[1104 17:48:04 @monitor.py:467]\u001b[0m GAN_loss/gradient_rms: 1.0004\n",
      "\u001b[32m[1104 17:48:04 @monitor.py:467]\u001b[0m GAN_loss/kl_div: 0.11014\n",
      "\u001b[32m[1104 17:48:04 @monitor.py:467]\u001b[0m QueueInput/queue_size: 50\n",
      "\u001b[32m[1104 17:48:04 @base.py:275]\u001b[0m Start Epoch 790 ...\n"
     ]
    },
    {
     "name": "stderr",
     "output_type": "stream",
     "text": [
      "100%|###################################################################################|175/175[00:06<00:00,26.79it/s]"
     ]
    },
    {
     "name": "stdout",
     "output_type": "stream",
     "text": [
      "\u001b[32m[1104 17:48:10 @base.py:285]\u001b[0m Epoch 790 (global_step 165899) finished, time:6.53 seconds.\n"
     ]
    },
    {
     "name": "stderr",
     "output_type": "stream",
     "text": [
      "\n"
     ]
    },
    {
     "name": "stdout",
     "output_type": "stream",
     "text": [
      "\u001b[32m[1104 17:48:10 @saver.py:79]\u001b[0m Model saved to ../output/Chicago/WGGP_WI_new3/model\\model-165899.\n",
      "\u001b[32m[1104 17:48:10 @monitor.py:467]\u001b[0m GAN_loss/d_loss: -0.83424\n",
      "\u001b[32m[1104 17:48:10 @monitor.py:467]\u001b[0m GAN_loss/g_loss: -0.58444\n",
      "\u001b[32m[1104 17:48:10 @monitor.py:467]\u001b[0m GAN_loss/gradient_penalty: 0.0085059\n",
      "\u001b[32m[1104 17:48:10 @monitor.py:467]\u001b[0m GAN_loss/gradient_rms: 0.99872\n",
      "\u001b[32m[1104 17:48:10 @monitor.py:467]\u001b[0m GAN_loss/kl_div: 0.10312\n",
      "\u001b[32m[1104 17:48:10 @monitor.py:467]\u001b[0m QueueInput/queue_size: 50\n",
      "\u001b[32m[1104 17:48:10 @base.py:275]\u001b[0m Start Epoch 791 ...\n"
     ]
    },
    {
     "name": "stderr",
     "output_type": "stream",
     "text": [
      "100%|###################################################################################|175/175[00:06<00:00,26.79it/s]"
     ]
    },
    {
     "name": "stdout",
     "output_type": "stream",
     "text": [
      "\u001b[32m[1104 17:48:17 @base.py:285]\u001b[0m Epoch 791 (global_step 166109) finished, time:6.53 seconds.\n",
      "\u001b[32m[1104 17:48:17 @saver.py:79]\u001b[0m Model saved to ../output/Chicago/WGGP_WI_new3/model\\model-166109.\n"
     ]
    },
    {
     "name": "stderr",
     "output_type": "stream",
     "text": [
      "\n"
     ]
    },
    {
     "name": "stdout",
     "output_type": "stream",
     "text": [
      "\u001b[32m[1104 17:48:17 @monitor.py:467]\u001b[0m GAN_loss/d_loss: -1.0925\n",
      "\u001b[32m[1104 17:48:17 @monitor.py:467]\u001b[0m GAN_loss/g_loss: -0.61898\n",
      "\u001b[32m[1104 17:48:17 @monitor.py:467]\u001b[0m GAN_loss/gradient_penalty: 0.0086003\n",
      "\u001b[32m[1104 17:48:17 @monitor.py:467]\u001b[0m GAN_loss/gradient_rms: 1.0011\n",
      "\u001b[32m[1104 17:48:17 @monitor.py:467]\u001b[0m GAN_loss/kl_div: 0.10374\n",
      "\u001b[32m[1104 17:48:17 @monitor.py:467]\u001b[0m QueueInput/queue_size: 50\n",
      "\u001b[32m[1104 17:48:17 @base.py:275]\u001b[0m Start Epoch 792 ...\n"
     ]
    },
    {
     "name": "stderr",
     "output_type": "stream",
     "text": [
      "100%|###################################################################################|175/175[00:06<00:00,26.73it/s]"
     ]
    },
    {
     "name": "stdout",
     "output_type": "stream",
     "text": [
      "\u001b[32m[1104 17:48:24 @base.py:285]\u001b[0m Epoch 792 (global_step 166319) finished, time:6.55 seconds.\n",
      "\u001b[32m[1104 17:48:24 @saver.py:79]\u001b[0m Model saved to ../output/Chicago/WGGP_WI_new3/model\\model-166319.\n"
     ]
    },
    {
     "name": "stderr",
     "output_type": "stream",
     "text": [
      "\n"
     ]
    },
    {
     "name": "stdout",
     "output_type": "stream",
     "text": [
      "\u001b[32m[1104 17:48:24 @monitor.py:467]\u001b[0m GAN_loss/d_loss: -0.9636\n",
      "\u001b[32m[1104 17:48:24 @monitor.py:467]\u001b[0m GAN_loss/g_loss: -0.61187\n",
      "\u001b[32m[1104 17:48:24 @monitor.py:467]\u001b[0m GAN_loss/gradient_penalty: 0.0089593\n",
      "\u001b[32m[1104 17:48:24 @monitor.py:467]\u001b[0m GAN_loss/gradient_rms: 0.99977\n",
      "\u001b[32m[1104 17:48:24 @monitor.py:467]\u001b[0m GAN_loss/kl_div: 0.088829\n",
      "\u001b[32m[1104 17:48:24 @monitor.py:467]\u001b[0m QueueInput/queue_size: 50\n",
      "\u001b[32m[1104 17:48:24 @base.py:275]\u001b[0m Start Epoch 793 ...\n"
     ]
    },
    {
     "name": "stderr",
     "output_type": "stream",
     "text": [
      "100%|###################################################################################|175/175[00:06<00:00,26.87it/s]"
     ]
    },
    {
     "name": "stdout",
     "output_type": "stream",
     "text": [
      "\u001b[32m[1104 17:48:30 @base.py:285]\u001b[0m Epoch 793 (global_step 166529) finished, time:6.51 seconds.\n",
      "\u001b[32m[1104 17:48:31 @saver.py:79]\u001b[0m Model saved to ../output/Chicago/WGGP_WI_new3/model\\model-166529.\n"
     ]
    },
    {
     "name": "stderr",
     "output_type": "stream",
     "text": [
      "\n"
     ]
    },
    {
     "name": "stdout",
     "output_type": "stream",
     "text": [
      "\u001b[32m[1104 17:48:31 @monitor.py:467]\u001b[0m GAN_loss/d_loss: -0.78453\n",
      "\u001b[32m[1104 17:48:31 @monitor.py:467]\u001b[0m GAN_loss/g_loss: -0.63797\n",
      "\u001b[32m[1104 17:48:31 @monitor.py:467]\u001b[0m GAN_loss/gradient_penalty: 0.0087885\n",
      "\u001b[32m[1104 17:48:31 @monitor.py:467]\u001b[0m GAN_loss/gradient_rms: 0.99879\n",
      "\u001b[32m[1104 17:48:31 @monitor.py:467]\u001b[0m GAN_loss/kl_div: 0.08778\n",
      "\u001b[32m[1104 17:48:31 @monitor.py:467]\u001b[0m QueueInput/queue_size: 50\n",
      "\u001b[32m[1104 17:48:31 @base.py:275]\u001b[0m Start Epoch 794 ...\n"
     ]
    },
    {
     "name": "stderr",
     "output_type": "stream",
     "text": [
      "100%|###################################################################################|175/175[00:06<00:00,26.74it/s]"
     ]
    },
    {
     "name": "stdout",
     "output_type": "stream",
     "text": [
      "\u001b[32m[1104 17:48:37 @base.py:285]\u001b[0m Epoch 794 (global_step 166739) finished, time:6.54 seconds.\n"
     ]
    },
    {
     "name": "stderr",
     "output_type": "stream",
     "text": [
      "\n"
     ]
    },
    {
     "name": "stdout",
     "output_type": "stream",
     "text": [
      "\u001b[32m[1104 17:48:37 @saver.py:79]\u001b[0m Model saved to ../output/Chicago/WGGP_WI_new3/model\\model-166739.\n",
      "\u001b[32m[1104 17:48:38 @monitor.py:467]\u001b[0m GAN_loss/d_loss: -1.0216\n",
      "\u001b[32m[1104 17:48:38 @monitor.py:467]\u001b[0m GAN_loss/g_loss: -0.6151\n",
      "\u001b[32m[1104 17:48:38 @monitor.py:467]\u001b[0m GAN_loss/gradient_penalty: 0.0099701\n",
      "\u001b[32m[1104 17:48:38 @monitor.py:467]\u001b[0m GAN_loss/gradient_rms: 1.0009\n",
      "\u001b[32m[1104 17:48:38 @monitor.py:467]\u001b[0m GAN_loss/kl_div: 0.092374\n",
      "\u001b[32m[1104 17:48:38 @monitor.py:467]\u001b[0m QueueInput/queue_size: 50\n",
      "\u001b[32m[1104 17:48:38 @base.py:275]\u001b[0m Start Epoch 795 ...\n"
     ]
    },
    {
     "name": "stderr",
     "output_type": "stream",
     "text": [
      "100%|###################################################################################|175/175[00:06<00:00,26.20it/s]"
     ]
    },
    {
     "name": "stdout",
     "output_type": "stream",
     "text": [
      "\u001b[32m[1104 17:48:44 @base.py:285]\u001b[0m Epoch 795 (global_step 166949) finished, time:6.68 seconds.\n",
      "\u001b[32m[1104 17:48:44 @saver.py:79]\u001b[0m Model saved to ../output/Chicago/WGGP_WI_new3/model\\model-166949.\n"
     ]
    },
    {
     "name": "stderr",
     "output_type": "stream",
     "text": [
      "\n"
     ]
    },
    {
     "name": "stdout",
     "output_type": "stream",
     "text": [
      "\u001b[32m[1104 17:48:44 @monitor.py:467]\u001b[0m GAN_loss/d_loss: -1.1926\n",
      "\u001b[32m[1104 17:48:44 @monitor.py:467]\u001b[0m GAN_loss/g_loss: -0.65152\n",
      "\u001b[32m[1104 17:48:44 @monitor.py:467]\u001b[0m GAN_loss/gradient_penalty: 0.0093272\n",
      "\u001b[32m[1104 17:48:44 @monitor.py:467]\u001b[0m GAN_loss/gradient_rms: 1.0029\n",
      "\u001b[32m[1104 17:48:44 @monitor.py:467]\u001b[0m GAN_loss/kl_div: 0.082248\n",
      "\u001b[32m[1104 17:48:44 @monitor.py:467]\u001b[0m QueueInput/queue_size: 50\n",
      "\u001b[32m[1104 17:48:44 @base.py:275]\u001b[0m Start Epoch 796 ...\n"
     ]
    },
    {
     "name": "stderr",
     "output_type": "stream",
     "text": [
      "100%|###################################################################################|175/175[00:06<00:00,26.39it/s]"
     ]
    },
    {
     "name": "stdout",
     "output_type": "stream",
     "text": [
      "\u001b[32m[1104 17:48:51 @base.py:285]\u001b[0m Epoch 796 (global_step 167159) finished, time:6.63 seconds.\n",
      "\u001b[32m[1104 17:48:51 @saver.py:79]\u001b[0m Model saved to ../output/Chicago/WGGP_WI_new3/model\\model-167159.\n"
     ]
    },
    {
     "name": "stderr",
     "output_type": "stream",
     "text": [
      "\n"
     ]
    },
    {
     "name": "stdout",
     "output_type": "stream",
     "text": [
      "\u001b[32m[1104 17:48:51 @monitor.py:467]\u001b[0m GAN_loss/d_loss: -0.9547\n",
      "\u001b[32m[1104 17:48:51 @monitor.py:467]\u001b[0m GAN_loss/g_loss: -0.62444\n",
      "\u001b[32m[1104 17:48:51 @monitor.py:467]\u001b[0m GAN_loss/gradient_penalty: 0.0098861\n",
      "\u001b[32m[1104 17:48:51 @monitor.py:467]\u001b[0m GAN_loss/gradient_rms: 1.0024\n",
      "\u001b[32m[1104 17:48:51 @monitor.py:467]\u001b[0m GAN_loss/kl_div: 0.082831\n",
      "\u001b[32m[1104 17:48:51 @monitor.py:467]\u001b[0m QueueInput/queue_size: 50\n",
      "\u001b[32m[1104 17:48:51 @base.py:275]\u001b[0m Start Epoch 797 ...\n"
     ]
    },
    {
     "name": "stderr",
     "output_type": "stream",
     "text": [
      "100%|###################################################################################|175/175[00:06<00:00,26.80it/s]"
     ]
    },
    {
     "name": "stdout",
     "output_type": "stream",
     "text": [
      "\u001b[32m[1104 17:48:58 @base.py:285]\u001b[0m Epoch 797 (global_step 167369) finished, time:6.53 seconds.\n",
      "\u001b[32m[1104 17:48:58 @saver.py:79]\u001b[0m Model saved to ../output/Chicago/WGGP_WI_new3/model\\model-167369.\n"
     ]
    },
    {
     "name": "stderr",
     "output_type": "stream",
     "text": [
      "\n"
     ]
    },
    {
     "name": "stdout",
     "output_type": "stream",
     "text": [
      "\u001b[32m[1104 17:48:58 @monitor.py:467]\u001b[0m GAN_loss/d_loss: -1.0231\n",
      "\u001b[32m[1104 17:48:58 @monitor.py:467]\u001b[0m GAN_loss/g_loss: -0.67876\n",
      "\u001b[32m[1104 17:48:58 @monitor.py:467]\u001b[0m GAN_loss/gradient_penalty: 0.0095049\n",
      "\u001b[32m[1104 17:48:58 @monitor.py:467]\u001b[0m GAN_loss/gradient_rms: 0.99845\n",
      "\u001b[32m[1104 17:48:58 @monitor.py:467]\u001b[0m GAN_loss/kl_div: 0.085125\n",
      "\u001b[32m[1104 17:48:58 @monitor.py:467]\u001b[0m QueueInput/queue_size: 50\n",
      "\u001b[32m[1104 17:48:58 @base.py:275]\u001b[0m Start Epoch 798 ...\n"
     ]
    },
    {
     "name": "stderr",
     "output_type": "stream",
     "text": [
      "100%|###################################################################################|175/175[00:06<00:00,26.76it/s]"
     ]
    },
    {
     "name": "stdout",
     "output_type": "stream",
     "text": [
      "\u001b[32m[1104 17:49:05 @base.py:285]\u001b[0m Epoch 798 (global_step 167579) finished, time:6.54 seconds.\n"
     ]
    },
    {
     "name": "stderr",
     "output_type": "stream",
     "text": [
      "\n"
     ]
    },
    {
     "name": "stdout",
     "output_type": "stream",
     "text": [
      "\u001b[32m[1104 17:49:05 @saver.py:79]\u001b[0m Model saved to ../output/Chicago/WGGP_WI_new3/model\\model-167579.\n",
      "\u001b[32m[1104 17:49:05 @monitor.py:467]\u001b[0m GAN_loss/d_loss: -0.76899\n",
      "\u001b[32m[1104 17:49:05 @monitor.py:467]\u001b[0m GAN_loss/g_loss: -0.66401\n",
      "\u001b[32m[1104 17:49:05 @monitor.py:467]\u001b[0m GAN_loss/gradient_penalty: 0.0088254\n",
      "\u001b[32m[1104 17:49:05 @monitor.py:467]\u001b[0m GAN_loss/gradient_rms: 1.0018\n",
      "\u001b[32m[1104 17:49:05 @monitor.py:467]\u001b[0m GAN_loss/kl_div: 0.08321\n",
      "\u001b[32m[1104 17:49:05 @monitor.py:467]\u001b[0m QueueInput/queue_size: 50\n",
      "\u001b[32m[1104 17:49:05 @base.py:275]\u001b[0m Start Epoch 799 ...\n"
     ]
    },
    {
     "name": "stderr",
     "output_type": "stream",
     "text": [
      "100%|###################################################################################|175/175[00:06<00:00,26.82it/s]"
     ]
    },
    {
     "name": "stdout",
     "output_type": "stream",
     "text": [
      "\u001b[32m[1104 17:49:11 @base.py:285]\u001b[0m Epoch 799 (global_step 167789) finished, time:6.53 seconds.\n",
      "\u001b[32m[1104 17:49:11 @saver.py:79]\u001b[0m Model saved to ../output/Chicago/WGGP_WI_new3/model\\model-167789.\n"
     ]
    },
    {
     "name": "stderr",
     "output_type": "stream",
     "text": [
      "\n"
     ]
    },
    {
     "name": "stdout",
     "output_type": "stream",
     "text": [
      "\u001b[32m[1104 17:49:12 @monitor.py:467]\u001b[0m GAN_loss/d_loss: -0.94948\n",
      "\u001b[32m[1104 17:49:12 @monitor.py:467]\u001b[0m GAN_loss/g_loss: -0.66798\n",
      "\u001b[32m[1104 17:49:12 @monitor.py:467]\u001b[0m GAN_loss/gradient_penalty: 0.008529\n",
      "\u001b[32m[1104 17:49:12 @monitor.py:467]\u001b[0m GAN_loss/gradient_rms: 1.0013\n",
      "\u001b[32m[1104 17:49:12 @monitor.py:467]\u001b[0m GAN_loss/kl_div: 0.08092\n",
      "\u001b[32m[1104 17:49:12 @monitor.py:467]\u001b[0m QueueInput/queue_size: 50\n",
      "\u001b[32m[1104 17:49:12 @base.py:275]\u001b[0m Start Epoch 800 ...\n"
     ]
    },
    {
     "name": "stderr",
     "output_type": "stream",
     "text": [
      "100%|###################################################################################|175/175[00:06<00:00,26.73it/s]"
     ]
    },
    {
     "name": "stdout",
     "output_type": "stream",
     "text": [
      "\u001b[32m[1104 17:49:18 @base.py:285]\u001b[0m Epoch 800 (global_step 167999) finished, time:6.55 seconds.\n",
      "\u001b[32m[1104 17:49:18 @saver.py:79]\u001b[0m Model saved to ../output/Chicago/WGGP_WI_new3/model\\model-167999.\n"
     ]
    },
    {
     "name": "stderr",
     "output_type": "stream",
     "text": [
      "\n"
     ]
    },
    {
     "name": "stdout",
     "output_type": "stream",
     "text": [
      "\u001b[32m[1104 17:49:18 @monitor.py:467]\u001b[0m GAN_loss/d_loss: -0.83327\n",
      "\u001b[32m[1104 17:49:18 @monitor.py:467]\u001b[0m GAN_loss/g_loss: -0.65208\n",
      "\u001b[32m[1104 17:49:18 @monitor.py:467]\u001b[0m GAN_loss/gradient_penalty: 0.0086549\n",
      "\u001b[32m[1104 17:49:18 @monitor.py:467]\u001b[0m GAN_loss/gradient_rms: 0.99761\n",
      "\u001b[32m[1104 17:49:18 @monitor.py:467]\u001b[0m GAN_loss/kl_div: 0.079833\n",
      "\u001b[32m[1104 17:49:18 @monitor.py:467]\u001b[0m QueueInput/queue_size: 50\n",
      "\u001b[32m[1104 17:49:18 @base.py:275]\u001b[0m Start Epoch 801 ...\n"
     ]
    },
    {
     "name": "stderr",
     "output_type": "stream",
     "text": [
      "100%|###################################################################################|175/175[00:06<00:00,26.78it/s]"
     ]
    },
    {
     "name": "stdout",
     "output_type": "stream",
     "text": [
      "\u001b[32m[1104 17:49:25 @base.py:285]\u001b[0m Epoch 801 (global_step 168209) finished, time:6.53 seconds.\n",
      "\u001b[32m[1104 17:49:25 @saver.py:79]\u001b[0m Model saved to ../output/Chicago/WGGP_WI_new3/model\\model-168209.\n"
     ]
    },
    {
     "name": "stderr",
     "output_type": "stream",
     "text": [
      "\n"
     ]
    },
    {
     "name": "stdout",
     "output_type": "stream",
     "text": [
      "\u001b[32m[1104 17:49:25 @monitor.py:467]\u001b[0m GAN_loss/d_loss: -1.0081\n",
      "\u001b[32m[1104 17:49:25 @monitor.py:467]\u001b[0m GAN_loss/g_loss: -0.65216\n",
      "\u001b[32m[1104 17:49:25 @monitor.py:467]\u001b[0m GAN_loss/gradient_penalty: 0.0084829\n",
      "\u001b[32m[1104 17:49:25 @monitor.py:467]\u001b[0m GAN_loss/gradient_rms: 0.9987\n",
      "\u001b[32m[1104 17:49:25 @monitor.py:467]\u001b[0m GAN_loss/kl_div: 0.082353\n",
      "\u001b[32m[1104 17:49:25 @monitor.py:467]\u001b[0m QueueInput/queue_size: 50\n",
      "\u001b[32m[1104 17:49:25 @base.py:275]\u001b[0m Start Epoch 802 ...\n"
     ]
    },
    {
     "name": "stderr",
     "output_type": "stream",
     "text": [
      "100%|###################################################################################|175/175[00:06<00:00,26.78it/s]"
     ]
    },
    {
     "name": "stdout",
     "output_type": "stream",
     "text": [
      "\u001b[32m[1104 17:49:32 @base.py:285]\u001b[0m Epoch 802 (global_step 168419) finished, time:6.54 seconds.\n"
     ]
    },
    {
     "name": "stderr",
     "output_type": "stream",
     "text": [
      "\n"
     ]
    },
    {
     "name": "stdout",
     "output_type": "stream",
     "text": [
      "\u001b[32m[1104 17:49:32 @saver.py:79]\u001b[0m Model saved to ../output/Chicago/WGGP_WI_new3/model\\model-168419.\n",
      "\u001b[32m[1104 17:49:32 @monitor.py:467]\u001b[0m GAN_loss/d_loss: -1.1862\n",
      "\u001b[32m[1104 17:49:32 @monitor.py:467]\u001b[0m GAN_loss/g_loss: -0.63045\n",
      "\u001b[32m[1104 17:49:32 @monitor.py:467]\u001b[0m GAN_loss/gradient_penalty: 0.0098239\n",
      "\u001b[32m[1104 17:49:32 @monitor.py:467]\u001b[0m GAN_loss/gradient_rms: 1.0017\n",
      "\u001b[32m[1104 17:49:32 @monitor.py:467]\u001b[0m GAN_loss/kl_div: 0.081054\n",
      "\u001b[32m[1104 17:49:32 @monitor.py:467]\u001b[0m QueueInput/queue_size: 50\n",
      "\u001b[32m[1104 17:49:32 @base.py:275]\u001b[0m Start Epoch 803 ...\n"
     ]
    },
    {
     "name": "stderr",
     "output_type": "stream",
     "text": [
      "100%|###################################################################################|175/175[00:06<00:00,26.75it/s]"
     ]
    },
    {
     "name": "stdout",
     "output_type": "stream",
     "text": [
      "\u001b[32m[1104 17:49:39 @base.py:285]\u001b[0m Epoch 803 (global_step 168629) finished, time:6.54 seconds.\n",
      "\u001b[32m[1104 17:49:39 @saver.py:79]\u001b[0m Model saved to ../output/Chicago/WGGP_WI_new3/model\\model-168629.\n"
     ]
    },
    {
     "name": "stderr",
     "output_type": "stream",
     "text": [
      "\n"
     ]
    },
    {
     "name": "stdout",
     "output_type": "stream",
     "text": [
      "\u001b[32m[1104 17:49:39 @monitor.py:467]\u001b[0m GAN_loss/d_loss: -0.99884\n",
      "\u001b[32m[1104 17:49:39 @monitor.py:467]\u001b[0m GAN_loss/g_loss: -0.65619\n",
      "\u001b[32m[1104 17:49:39 @monitor.py:467]\u001b[0m GAN_loss/gradient_penalty: 0.0090697\n",
      "\u001b[32m[1104 17:49:39 @monitor.py:467]\u001b[0m GAN_loss/gradient_rms: 1.0003\n",
      "\u001b[32m[1104 17:49:39 @monitor.py:467]\u001b[0m GAN_loss/kl_div: 0.084854\n",
      "\u001b[32m[1104 17:49:39 @monitor.py:467]\u001b[0m QueueInput/queue_size: 50\n",
      "\u001b[32m[1104 17:49:39 @base.py:275]\u001b[0m Start Epoch 804 ...\n"
     ]
    },
    {
     "name": "stderr",
     "output_type": "stream",
     "text": [
      "100%|###################################################################################|175/175[00:06<00:00,26.68it/s]"
     ]
    },
    {
     "name": "stdout",
     "output_type": "stream",
     "text": [
      "\u001b[32m[1104 17:49:45 @base.py:285]\u001b[0m Epoch 804 (global_step 168839) finished, time:6.56 seconds.\n",
      "\u001b[32m[1104 17:49:45 @saver.py:79]\u001b[0m Model saved to ../output/Chicago/WGGP_WI_new3/model\\model-168839.\n"
     ]
    },
    {
     "name": "stderr",
     "output_type": "stream",
     "text": [
      "\n"
     ]
    },
    {
     "name": "stdout",
     "output_type": "stream",
     "text": [
      "\u001b[32m[1104 17:49:46 @monitor.py:467]\u001b[0m GAN_loss/d_loss: -1.1917\n",
      "\u001b[32m[1104 17:49:46 @monitor.py:467]\u001b[0m GAN_loss/g_loss: -0.66414\n",
      "\u001b[32m[1104 17:49:46 @monitor.py:467]\u001b[0m GAN_loss/gradient_penalty: 0.0095222\n",
      "\u001b[32m[1104 17:49:46 @monitor.py:467]\u001b[0m GAN_loss/gradient_rms: 0.99913\n",
      "\u001b[32m[1104 17:49:46 @monitor.py:467]\u001b[0m GAN_loss/kl_div: 0.079978\n",
      "\u001b[32m[1104 17:49:46 @monitor.py:467]\u001b[0m QueueInput/queue_size: 50\n",
      "\u001b[32m[1104 17:49:46 @base.py:275]\u001b[0m Start Epoch 805 ...\n"
     ]
    },
    {
     "name": "stderr",
     "output_type": "stream",
     "text": [
      "100%|###################################################################################|175/175[00:06<00:00,26.71it/s]"
     ]
    },
    {
     "name": "stdout",
     "output_type": "stream",
     "text": [
      "\u001b[32m[1104 17:49:52 @base.py:285]\u001b[0m Epoch 805 (global_step 169049) finished, time:6.55 seconds.\n",
      "\u001b[32m[1104 17:49:52 @saver.py:79]\u001b[0m Model saved to ../output/Chicago/WGGP_WI_new3/model\\model-169049.\n"
     ]
    },
    {
     "name": "stderr",
     "output_type": "stream",
     "text": [
      "\n"
     ]
    },
    {
     "name": "stdout",
     "output_type": "stream",
     "text": [
      "\u001b[32m[1104 17:49:52 @monitor.py:467]\u001b[0m GAN_loss/d_loss: -1.0315\n",
      "\u001b[32m[1104 17:49:52 @monitor.py:467]\u001b[0m GAN_loss/g_loss: -0.60865\n",
      "\u001b[32m[1104 17:49:52 @monitor.py:467]\u001b[0m GAN_loss/gradient_penalty: 0.0095851\n",
      "\u001b[32m[1104 17:49:52 @monitor.py:467]\u001b[0m GAN_loss/gradient_rms: 1.0007\n",
      "\u001b[32m[1104 17:49:52 @monitor.py:467]\u001b[0m GAN_loss/kl_div: 0.078495\n",
      "\u001b[32m[1104 17:49:52 @monitor.py:467]\u001b[0m QueueInput/queue_size: 50\n",
      "\u001b[32m[1104 17:49:52 @base.py:275]\u001b[0m Start Epoch 806 ...\n"
     ]
    },
    {
     "name": "stderr",
     "output_type": "stream",
     "text": [
      "100%|###################################################################################|175/175[00:06<00:00,26.66it/s]"
     ]
    },
    {
     "name": "stdout",
     "output_type": "stream",
     "text": [
      "\u001b[32m[1104 17:49:59 @base.py:285]\u001b[0m Epoch 806 (global_step 169259) finished, time:6.57 seconds.\n",
      "\u001b[32m[1104 17:49:59 @saver.py:79]\u001b[0m Model saved to ../output/Chicago/WGGP_WI_new3/model\\model-169259.\n"
     ]
    },
    {
     "name": "stderr",
     "output_type": "stream",
     "text": [
      "\n"
     ]
    },
    {
     "name": "stdout",
     "output_type": "stream",
     "text": [
      "\u001b[32m[1104 17:49:59 @monitor.py:467]\u001b[0m GAN_loss/d_loss: -0.89333\n",
      "\u001b[32m[1104 17:49:59 @monitor.py:467]\u001b[0m GAN_loss/g_loss: -0.62951\n",
      "\u001b[32m[1104 17:49:59 @monitor.py:467]\u001b[0m GAN_loss/gradient_penalty: 0.0092608\n",
      "\u001b[32m[1104 17:49:59 @monitor.py:467]\u001b[0m GAN_loss/gradient_rms: 1.0003\n",
      "\u001b[32m[1104 17:49:59 @monitor.py:467]\u001b[0m GAN_loss/kl_div: 0.076329\n",
      "\u001b[32m[1104 17:49:59 @monitor.py:467]\u001b[0m QueueInput/queue_size: 50\n",
      "\u001b[32m[1104 17:49:59 @base.py:275]\u001b[0m Start Epoch 807 ...\n"
     ]
    },
    {
     "name": "stderr",
     "output_type": "stream",
     "text": [
      "100%|###################################################################################|175/175[00:06<00:00,26.60it/s]"
     ]
    },
    {
     "name": "stdout",
     "output_type": "stream",
     "text": [
      "\u001b[32m[1104 17:50:06 @base.py:285]\u001b[0m Epoch 807 (global_step 169469) finished, time:6.58 seconds.\n",
      "\u001b[32m[1104 17:50:06 @saver.py:79]\u001b[0m Model saved to ../output/Chicago/WGGP_WI_new3/model\\model-169469.\n"
     ]
    },
    {
     "name": "stderr",
     "output_type": "stream",
     "text": [
      "\n"
     ]
    },
    {
     "name": "stdout",
     "output_type": "stream",
     "text": [
      "\u001b[32m[1104 17:50:06 @monitor.py:467]\u001b[0m GAN_loss/d_loss: -0.73016\n",
      "\u001b[32m[1104 17:50:06 @monitor.py:467]\u001b[0m GAN_loss/g_loss: -0.63066\n",
      "\u001b[32m[1104 17:50:06 @monitor.py:467]\u001b[0m GAN_loss/gradient_penalty: 0.0084351\n",
      "\u001b[32m[1104 17:50:06 @monitor.py:467]\u001b[0m GAN_loss/gradient_rms: 0.9971\n",
      "\u001b[32m[1104 17:50:06 @monitor.py:467]\u001b[0m GAN_loss/kl_div: 0.076599\n",
      "\u001b[32m[1104 17:50:06 @monitor.py:467]\u001b[0m QueueInput/queue_size: 50\n",
      "\u001b[32m[1104 17:50:06 @base.py:275]\u001b[0m Start Epoch 808 ...\n"
     ]
    },
    {
     "name": "stderr",
     "output_type": "stream",
     "text": [
      "100%|###################################################################################|175/175[00:06<00:00,26.51it/s]"
     ]
    },
    {
     "name": "stdout",
     "output_type": "stream",
     "text": [
      "\u001b[32m[1104 17:50:13 @base.py:285]\u001b[0m Epoch 808 (global_step 169679) finished, time:6.6 seconds.\n",
      "\u001b[32m[1104 17:50:13 @saver.py:79]\u001b[0m Model saved to ../output/Chicago/WGGP_WI_new3/model\\model-169679.\n"
     ]
    },
    {
     "name": "stderr",
     "output_type": "stream",
     "text": [
      "\n"
     ]
    },
    {
     "name": "stdout",
     "output_type": "stream",
     "text": [
      "\u001b[32m[1104 17:50:13 @monitor.py:467]\u001b[0m GAN_loss/d_loss: -1.0293\n",
      "\u001b[32m[1104 17:50:13 @monitor.py:467]\u001b[0m GAN_loss/g_loss: -0.6136\n",
      "\u001b[32m[1104 17:50:13 @monitor.py:467]\u001b[0m GAN_loss/gradient_penalty: 0.0092824\n",
      "\u001b[32m[1104 17:50:13 @monitor.py:467]\u001b[0m GAN_loss/gradient_rms: 1.0005\n",
      "\u001b[32m[1104 17:50:13 @monitor.py:467]\u001b[0m GAN_loss/kl_div: 0.092317\n",
      "\u001b[32m[1104 17:50:13 @monitor.py:467]\u001b[0m QueueInput/queue_size: 50\n",
      "\u001b[32m[1104 17:50:13 @base.py:275]\u001b[0m Start Epoch 809 ...\n"
     ]
    },
    {
     "name": "stderr",
     "output_type": "stream",
     "text": [
      "100%|###################################################################################|175/175[00:06<00:00,26.66it/s]"
     ]
    },
    {
     "name": "stdout",
     "output_type": "stream",
     "text": [
      "\u001b[32m[1104 17:50:19 @base.py:285]\u001b[0m Epoch 809 (global_step 169889) finished, time:6.57 seconds.\n"
     ]
    },
    {
     "name": "stderr",
     "output_type": "stream",
     "text": [
      "\n"
     ]
    },
    {
     "name": "stdout",
     "output_type": "stream",
     "text": [
      "\u001b[32m[1104 17:50:20 @saver.py:79]\u001b[0m Model saved to ../output/Chicago/WGGP_WI_new3/model\\model-169889.\n",
      "\u001b[32m[1104 17:50:20 @monitor.py:467]\u001b[0m GAN_loss/d_loss: -1.0301\n",
      "\u001b[32m[1104 17:50:20 @monitor.py:467]\u001b[0m GAN_loss/g_loss: -0.60647\n",
      "\u001b[32m[1104 17:50:20 @monitor.py:467]\u001b[0m GAN_loss/gradient_penalty: 0.0093072\n",
      "\u001b[32m[1104 17:50:20 @monitor.py:467]\u001b[0m GAN_loss/gradient_rms: 0.99882\n",
      "\u001b[32m[1104 17:50:20 @monitor.py:467]\u001b[0m GAN_loss/kl_div: 0.095315\n",
      "\u001b[32m[1104 17:50:20 @monitor.py:467]\u001b[0m QueueInput/queue_size: 50\n",
      "\u001b[32m[1104 17:50:20 @base.py:275]\u001b[0m Start Epoch 810 ...\n"
     ]
    },
    {
     "name": "stderr",
     "output_type": "stream",
     "text": [
      "100%|###################################################################################|175/175[00:06<00:00,26.98it/s]"
     ]
    },
    {
     "name": "stdout",
     "output_type": "stream",
     "text": [
      "\u001b[32m[1104 17:50:26 @base.py:285]\u001b[0m Epoch 810 (global_step 170099) finished, time:6.49 seconds.\n",
      "\u001b[32m[1104 17:50:26 @saver.py:79]\u001b[0m Model saved to ../output/Chicago/WGGP_WI_new3/model\\model-170099.\n"
     ]
    },
    {
     "name": "stderr",
     "output_type": "stream",
     "text": [
      "\n"
     ]
    },
    {
     "name": "stdout",
     "output_type": "stream",
     "text": [
      "\u001b[32m[1104 17:50:26 @monitor.py:467]\u001b[0m GAN_loss/d_loss: -0.79721\n",
      "\u001b[32m[1104 17:50:26 @monitor.py:467]\u001b[0m GAN_loss/g_loss: -0.61754\n",
      "\u001b[32m[1104 17:50:26 @monitor.py:467]\u001b[0m GAN_loss/gradient_penalty: 0.0098254\n",
      "\u001b[32m[1104 17:50:26 @monitor.py:467]\u001b[0m GAN_loss/gradient_rms: 0.99865\n",
      "\u001b[32m[1104 17:50:26 @monitor.py:467]\u001b[0m GAN_loss/kl_div: 0.088881\n",
      "\u001b[32m[1104 17:50:26 @monitor.py:467]\u001b[0m QueueInput/queue_size: 50\n",
      "\u001b[32m[1104 17:50:26 @base.py:275]\u001b[0m Start Epoch 811 ...\n"
     ]
    },
    {
     "name": "stderr",
     "output_type": "stream",
     "text": [
      "100%|###################################################################################|175/175[00:06<00:00,26.89it/s]"
     ]
    },
    {
     "name": "stdout",
     "output_type": "stream",
     "text": [
      "\u001b[32m[1104 17:50:33 @base.py:285]\u001b[0m Epoch 811 (global_step 170309) finished, time:6.51 seconds.\n"
     ]
    },
    {
     "name": "stderr",
     "output_type": "stream",
     "text": [
      "\n"
     ]
    },
    {
     "name": "stdout",
     "output_type": "stream",
     "text": [
      "\u001b[32m[1104 17:50:33 @saver.py:79]\u001b[0m Model saved to ../output/Chicago/WGGP_WI_new3/model\\model-170309.\n",
      "\u001b[32m[1104 17:50:33 @monitor.py:467]\u001b[0m GAN_loss/d_loss: -0.84666\n",
      "\u001b[32m[1104 17:50:33 @monitor.py:467]\u001b[0m GAN_loss/g_loss: -0.59187\n",
      "\u001b[32m[1104 17:50:33 @monitor.py:467]\u001b[0m GAN_loss/gradient_penalty: 0.0093091\n",
      "\u001b[32m[1104 17:50:33 @monitor.py:467]\u001b[0m GAN_loss/gradient_rms: 1.001\n",
      "\u001b[32m[1104 17:50:33 @monitor.py:467]\u001b[0m GAN_loss/kl_div: 0.096751\n",
      "\u001b[32m[1104 17:50:33 @monitor.py:467]\u001b[0m QueueInput/queue_size: 50\n",
      "\u001b[32m[1104 17:50:33 @base.py:275]\u001b[0m Start Epoch 812 ...\n"
     ]
    },
    {
     "name": "stderr",
     "output_type": "stream",
     "text": [
      "100%|###################################################################################|175/175[00:06<00:00,26.73it/s]"
     ]
    },
    {
     "name": "stdout",
     "output_type": "stream",
     "text": [
      "\u001b[32m[1104 17:50:40 @base.py:285]\u001b[0m Epoch 812 (global_step 170519) finished, time:6.55 seconds.\n"
     ]
    },
    {
     "name": "stderr",
     "output_type": "stream",
     "text": [
      "\n"
     ]
    },
    {
     "name": "stdout",
     "output_type": "stream",
     "text": [
      "\u001b[32m[1104 17:50:40 @saver.py:79]\u001b[0m Model saved to ../output/Chicago/WGGP_WI_new3/model\\model-170519.\n",
      "\u001b[32m[1104 17:50:40 @monitor.py:467]\u001b[0m GAN_loss/d_loss: -0.81643\n",
      "\u001b[32m[1104 17:50:40 @monitor.py:467]\u001b[0m GAN_loss/g_loss: -0.59371\n",
      "\u001b[32m[1104 17:50:40 @monitor.py:467]\u001b[0m GAN_loss/gradient_penalty: 0.0092257\n",
      "\u001b[32m[1104 17:50:40 @monitor.py:467]\u001b[0m GAN_loss/gradient_rms: 0.99948\n",
      "\u001b[32m[1104 17:50:40 @monitor.py:467]\u001b[0m GAN_loss/kl_div: 0.10067\n",
      "\u001b[32m[1104 17:50:40 @monitor.py:467]\u001b[0m QueueInput/queue_size: 50\n",
      "\u001b[32m[1104 17:50:40 @base.py:275]\u001b[0m Start Epoch 813 ...\n"
     ]
    },
    {
     "name": "stderr",
     "output_type": "stream",
     "text": [
      "100%|###################################################################################|175/175[00:06<00:00,26.75it/s]"
     ]
    },
    {
     "name": "stdout",
     "output_type": "stream",
     "text": [
      "\u001b[32m[1104 17:50:46 @base.py:285]\u001b[0m Epoch 813 (global_step 170729) finished, time:6.54 seconds.\n"
     ]
    },
    {
     "name": "stderr",
     "output_type": "stream",
     "text": [
      "\n"
     ]
    },
    {
     "name": "stdout",
     "output_type": "stream",
     "text": [
      "\u001b[32m[1104 17:50:47 @saver.py:79]\u001b[0m Model saved to ../output/Chicago/WGGP_WI_new3/model\\model-170729.\n",
      "\u001b[32m[1104 17:50:47 @monitor.py:467]\u001b[0m GAN_loss/d_loss: -0.82603\n",
      "\u001b[32m[1104 17:50:47 @monitor.py:467]\u001b[0m GAN_loss/g_loss: -0.61669\n",
      "\u001b[32m[1104 17:50:47 @monitor.py:467]\u001b[0m GAN_loss/gradient_penalty: 0.0093852\n",
      "\u001b[32m[1104 17:50:47 @monitor.py:467]\u001b[0m GAN_loss/gradient_rms: 1.0028\n",
      "\u001b[32m[1104 17:50:47 @monitor.py:467]\u001b[0m GAN_loss/kl_div: 0.087922\n",
      "\u001b[32m[1104 17:50:47 @monitor.py:467]\u001b[0m QueueInput/queue_size: 50\n",
      "\u001b[32m[1104 17:50:47 @base.py:275]\u001b[0m Start Epoch 814 ...\n"
     ]
    },
    {
     "name": "stderr",
     "output_type": "stream",
     "text": [
      "100%|###################################################################################|175/175[00:06<00:00,26.74it/s]"
     ]
    },
    {
     "name": "stdout",
     "output_type": "stream",
     "text": [
      "\u001b[32m[1104 17:50:53 @base.py:285]\u001b[0m Epoch 814 (global_step 170939) finished, time:6.54 seconds.\n"
     ]
    },
    {
     "name": "stderr",
     "output_type": "stream",
     "text": [
      "\n"
     ]
    },
    {
     "name": "stdout",
     "output_type": "stream",
     "text": [
      "\u001b[32m[1104 17:50:53 @saver.py:79]\u001b[0m Model saved to ../output/Chicago/WGGP_WI_new3/model\\model-170939.\n",
      "\u001b[32m[1104 17:50:54 @monitor.py:467]\u001b[0m GAN_loss/d_loss: -0.90642\n",
      "\u001b[32m[1104 17:50:54 @monitor.py:467]\u001b[0m GAN_loss/g_loss: -0.63069\n",
      "\u001b[32m[1104 17:50:54 @monitor.py:467]\u001b[0m GAN_loss/gradient_penalty: 0.0092831\n",
      "\u001b[32m[1104 17:50:54 @monitor.py:467]\u001b[0m GAN_loss/gradient_rms: 0.99861\n",
      "\u001b[32m[1104 17:50:54 @monitor.py:467]\u001b[0m GAN_loss/kl_div: 0.086739\n",
      "\u001b[32m[1104 17:50:54 @monitor.py:467]\u001b[0m QueueInput/queue_size: 50\n",
      "\u001b[32m[1104 17:50:54 @base.py:275]\u001b[0m Start Epoch 815 ...\n"
     ]
    },
    {
     "name": "stderr",
     "output_type": "stream",
     "text": [
      "100%|###################################################################################|175/175[00:06<00:00,26.69it/s]"
     ]
    },
    {
     "name": "stdout",
     "output_type": "stream",
     "text": [
      "\u001b[32m[1104 17:51:00 @base.py:285]\u001b[0m Epoch 815 (global_step 171149) finished, time:6.56 seconds.\n",
      "\u001b[32m[1104 17:51:00 @saver.py:79]\u001b[0m Model saved to ../output/Chicago/WGGP_WI_new3/model\\model-171149.\n"
     ]
    },
    {
     "name": "stderr",
     "output_type": "stream",
     "text": [
      "\n"
     ]
    },
    {
     "name": "stdout",
     "output_type": "stream",
     "text": [
      "\u001b[32m[1104 17:51:00 @monitor.py:467]\u001b[0m GAN_loss/d_loss: -1.1498\n",
      "\u001b[32m[1104 17:51:00 @monitor.py:467]\u001b[0m GAN_loss/g_loss: -0.66365\n",
      "\u001b[32m[1104 17:51:00 @monitor.py:467]\u001b[0m GAN_loss/gradient_penalty: 0.0094047\n",
      "\u001b[32m[1104 17:51:00 @monitor.py:467]\u001b[0m GAN_loss/gradient_rms: 1.0013\n",
      "\u001b[32m[1104 17:51:00 @monitor.py:467]\u001b[0m GAN_loss/kl_div: 0.087429\n",
      "\u001b[32m[1104 17:51:00 @monitor.py:467]\u001b[0m QueueInput/queue_size: 50\n",
      "\u001b[32m[1104 17:51:00 @base.py:275]\u001b[0m Start Epoch 816 ...\n"
     ]
    },
    {
     "name": "stderr",
     "output_type": "stream",
     "text": [
      "100%|###################################################################################|175/175[00:06<00:00,26.70it/s]"
     ]
    },
    {
     "name": "stdout",
     "output_type": "stream",
     "text": [
      "\u001b[32m[1104 17:51:07 @base.py:285]\u001b[0m Epoch 816 (global_step 171359) finished, time:6.55 seconds.\n",
      "\u001b[32m[1104 17:51:07 @saver.py:79]\u001b[0m Model saved to ../output/Chicago/WGGP_WI_new3/model\\model-171359.\n"
     ]
    },
    {
     "name": "stderr",
     "output_type": "stream",
     "text": [
      "\n"
     ]
    },
    {
     "name": "stdout",
     "output_type": "stream",
     "text": [
      "\u001b[32m[1104 17:51:07 @monitor.py:467]\u001b[0m GAN_loss/d_loss: -0.69358\n",
      "\u001b[32m[1104 17:51:07 @monitor.py:467]\u001b[0m GAN_loss/g_loss: -0.6727\n",
      "\u001b[32m[1104 17:51:07 @monitor.py:467]\u001b[0m GAN_loss/gradient_penalty: 0.0088608\n",
      "\u001b[32m[1104 17:51:07 @monitor.py:467]\u001b[0m GAN_loss/gradient_rms: 1.0003\n",
      "\u001b[32m[1104 17:51:07 @monitor.py:467]\u001b[0m GAN_loss/kl_div: 0.10632\n",
      "\u001b[32m[1104 17:51:07 @monitor.py:467]\u001b[0m QueueInput/queue_size: 50\n",
      "\u001b[32m[1104 17:51:07 @base.py:275]\u001b[0m Start Epoch 817 ...\n"
     ]
    },
    {
     "name": "stderr",
     "output_type": "stream",
     "text": [
      "100%|###################################################################################|175/175[00:06<00:00,26.76it/s]"
     ]
    },
    {
     "name": "stdout",
     "output_type": "stream",
     "text": [
      "\u001b[32m[1104 17:51:14 @base.py:285]\u001b[0m Epoch 817 (global_step 171569) finished, time:6.54 seconds.\n"
     ]
    },
    {
     "name": "stderr",
     "output_type": "stream",
     "text": [
      "\n"
     ]
    },
    {
     "name": "stdout",
     "output_type": "stream",
     "text": [
      "\u001b[32m[1104 17:51:14 @saver.py:79]\u001b[0m Model saved to ../output/Chicago/WGGP_WI_new3/model\\model-171569.\n",
      "\u001b[32m[1104 17:51:14 @monitor.py:467]\u001b[0m GAN_loss/d_loss: -0.82696\n",
      "\u001b[32m[1104 17:51:14 @monitor.py:467]\u001b[0m GAN_loss/g_loss: -0.67102\n",
      "\u001b[32m[1104 17:51:14 @monitor.py:467]\u001b[0m GAN_loss/gradient_penalty: 0.0094009\n",
      "\u001b[32m[1104 17:51:14 @monitor.py:467]\u001b[0m GAN_loss/gradient_rms: 0.99981\n",
      "\u001b[32m[1104 17:51:14 @monitor.py:467]\u001b[0m GAN_loss/kl_div: 0.089448\n",
      "\u001b[32m[1104 17:51:14 @monitor.py:467]\u001b[0m QueueInput/queue_size: 50\n",
      "\u001b[32m[1104 17:51:14 @base.py:275]\u001b[0m Start Epoch 818 ...\n"
     ]
    },
    {
     "name": "stderr",
     "output_type": "stream",
     "text": [
      "100%|###################################################################################|175/175[00:06<00:00,26.67it/s]"
     ]
    },
    {
     "name": "stdout",
     "output_type": "stream",
     "text": [
      "\u001b[32m[1104 17:51:20 @base.py:285]\u001b[0m Epoch 818 (global_step 171779) finished, time:6.56 seconds.\n",
      "\u001b[32m[1104 17:51:21 @saver.py:79]\u001b[0m Model saved to ../output/Chicago/WGGP_WI_new3/model\\model-171779.\n"
     ]
    },
    {
     "name": "stderr",
     "output_type": "stream",
     "text": [
      "\n"
     ]
    },
    {
     "name": "stdout",
     "output_type": "stream",
     "text": [
      "\u001b[32m[1104 17:51:21 @monitor.py:467]\u001b[0m GAN_loss/d_loss: -0.89473\n",
      "\u001b[32m[1104 17:51:21 @monitor.py:467]\u001b[0m GAN_loss/g_loss: -0.64092\n",
      "\u001b[32m[1104 17:51:21 @monitor.py:467]\u001b[0m GAN_loss/gradient_penalty: 0.010454\n",
      "\u001b[32m[1104 17:51:21 @monitor.py:467]\u001b[0m GAN_loss/gradient_rms: 0.99934\n",
      "\u001b[32m[1104 17:51:21 @monitor.py:467]\u001b[0m GAN_loss/kl_div: 0.075117\n",
      "\u001b[32m[1104 17:51:21 @monitor.py:467]\u001b[0m QueueInput/queue_size: 50\n",
      "\u001b[32m[1104 17:51:21 @base.py:275]\u001b[0m Start Epoch 819 ...\n"
     ]
    },
    {
     "name": "stderr",
     "output_type": "stream",
     "text": [
      "100%|###################################################################################|175/175[00:06<00:00,26.81it/s]"
     ]
    },
    {
     "name": "stdout",
     "output_type": "stream",
     "text": [
      "\u001b[32m[1104 17:51:27 @base.py:285]\u001b[0m Epoch 819 (global_step 171989) finished, time:6.53 seconds.\n"
     ]
    },
    {
     "name": "stderr",
     "output_type": "stream",
     "text": [
      "\n"
     ]
    },
    {
     "name": "stdout",
     "output_type": "stream",
     "text": [
      "\u001b[32m[1104 17:51:27 @saver.py:79]\u001b[0m Model saved to ../output/Chicago/WGGP_WI_new3/model\\model-171989.\n",
      "\u001b[32m[1104 17:51:27 @monitor.py:467]\u001b[0m GAN_loss/d_loss: -0.71072\n",
      "\u001b[32m[1104 17:51:27 @monitor.py:467]\u001b[0m GAN_loss/g_loss: -0.61583\n",
      "\u001b[32m[1104 17:51:27 @monitor.py:467]\u001b[0m GAN_loss/gradient_penalty: 0.0095505\n",
      "\u001b[32m[1104 17:51:27 @monitor.py:467]\u001b[0m GAN_loss/gradient_rms: 0.99807\n",
      "\u001b[32m[1104 17:51:27 @monitor.py:467]\u001b[0m GAN_loss/kl_div: 0.071939\n",
      "\u001b[32m[1104 17:51:27 @monitor.py:467]\u001b[0m QueueInput/queue_size: 50\n",
      "\u001b[32m[1104 17:51:27 @base.py:275]\u001b[0m Start Epoch 820 ...\n"
     ]
    },
    {
     "name": "stderr",
     "output_type": "stream",
     "text": [
      "100%|###################################################################################|175/175[00:06<00:00,26.83it/s]"
     ]
    },
    {
     "name": "stdout",
     "output_type": "stream",
     "text": [
      "\u001b[32m[1104 17:51:34 @base.py:285]\u001b[0m Epoch 820 (global_step 172199) finished, time:6.52 seconds.\n"
     ]
    },
    {
     "name": "stderr",
     "output_type": "stream",
     "text": [
      "\n"
     ]
    },
    {
     "name": "stdout",
     "output_type": "stream",
     "text": [
      "\u001b[32m[1104 17:51:34 @saver.py:79]\u001b[0m Model saved to ../output/Chicago/WGGP_WI_new3/model\\model-172199.\n",
      "\u001b[32m[1104 17:51:34 @monitor.py:467]\u001b[0m GAN_loss/d_loss: -0.78147\n",
      "\u001b[32m[1104 17:51:34 @monitor.py:467]\u001b[0m GAN_loss/g_loss: -0.64885\n",
      "\u001b[32m[1104 17:51:34 @monitor.py:467]\u001b[0m GAN_loss/gradient_penalty: 0.0087391\n",
      "\u001b[32m[1104 17:51:34 @monitor.py:467]\u001b[0m GAN_loss/gradient_rms: 0.99917\n",
      "\u001b[32m[1104 17:51:34 @monitor.py:467]\u001b[0m GAN_loss/kl_div: 0.074354\n",
      "\u001b[32m[1104 17:51:34 @monitor.py:467]\u001b[0m QueueInput/queue_size: 50\n",
      "\u001b[32m[1104 17:51:34 @base.py:275]\u001b[0m Start Epoch 821 ...\n"
     ]
    },
    {
     "name": "stderr",
     "output_type": "stream",
     "text": [
      "100%|###################################################################################|175/175[00:06<00:00,26.85it/s]"
     ]
    },
    {
     "name": "stdout",
     "output_type": "stream",
     "text": [
      "\u001b[32m[1104 17:51:41 @base.py:285]\u001b[0m Epoch 821 (global_step 172409) finished, time:6.52 seconds.\n",
      "\u001b[32m[1104 17:51:41 @saver.py:79]\u001b[0m Model saved to ../output/Chicago/WGGP_WI_new3/model\\model-172409.\n"
     ]
    },
    {
     "name": "stderr",
     "output_type": "stream",
     "text": [
      "\n"
     ]
    },
    {
     "name": "stdout",
     "output_type": "stream",
     "text": [
      "\u001b[32m[1104 17:51:41 @monitor.py:467]\u001b[0m GAN_loss/d_loss: -0.73314\n",
      "\u001b[32m[1104 17:51:41 @monitor.py:467]\u001b[0m GAN_loss/g_loss: -0.64846\n",
      "\u001b[32m[1104 17:51:41 @monitor.py:467]\u001b[0m GAN_loss/gradient_penalty: 0.0089913\n",
      "\u001b[32m[1104 17:51:41 @monitor.py:467]\u001b[0m GAN_loss/gradient_rms: 0.99804\n",
      "\u001b[32m[1104 17:51:41 @monitor.py:467]\u001b[0m GAN_loss/kl_div: 0.075058\n",
      "\u001b[32m[1104 17:51:41 @monitor.py:467]\u001b[0m QueueInput/queue_size: 50\n",
      "\u001b[32m[1104 17:51:41 @base.py:275]\u001b[0m Start Epoch 822 ...\n"
     ]
    },
    {
     "name": "stderr",
     "output_type": "stream",
     "text": [
      "100%|###################################################################################|175/175[00:06<00:00,26.74it/s]"
     ]
    },
    {
     "name": "stdout",
     "output_type": "stream",
     "text": [
      "\u001b[32m[1104 17:51:48 @base.py:285]\u001b[0m Epoch 822 (global_step 172619) finished, time:6.55 seconds.\n"
     ]
    },
    {
     "name": "stderr",
     "output_type": "stream",
     "text": [
      "\n"
     ]
    },
    {
     "name": "stdout",
     "output_type": "stream",
     "text": [
      "\u001b[32m[1104 17:51:48 @saver.py:79]\u001b[0m Model saved to ../output/Chicago/WGGP_WI_new3/model\\model-172619.\n",
      "\u001b[32m[1104 17:51:48 @monitor.py:467]\u001b[0m GAN_loss/d_loss: -0.88693\n",
      "\u001b[32m[1104 17:51:48 @monitor.py:467]\u001b[0m GAN_loss/g_loss: -0.64296\n",
      "\u001b[32m[1104 17:51:48 @monitor.py:467]\u001b[0m GAN_loss/gradient_penalty: 0.0090088\n",
      "\u001b[32m[1104 17:51:48 @monitor.py:467]\u001b[0m GAN_loss/gradient_rms: 0.99729\n",
      "\u001b[32m[1104 17:51:48 @monitor.py:467]\u001b[0m GAN_loss/kl_div: 0.075245\n",
      "\u001b[32m[1104 17:51:48 @monitor.py:467]\u001b[0m QueueInput/queue_size: 50\n",
      "\u001b[32m[1104 17:51:48 @base.py:275]\u001b[0m Start Epoch 823 ...\n"
     ]
    },
    {
     "name": "stderr",
     "output_type": "stream",
     "text": [
      "100%|###################################################################################|175/175[00:06<00:00,26.81it/s]"
     ]
    },
    {
     "name": "stdout",
     "output_type": "stream",
     "text": [
      "\u001b[32m[1104 17:51:54 @base.py:285]\u001b[0m Epoch 823 (global_step 172829) finished, time:6.53 seconds.\n"
     ]
    },
    {
     "name": "stderr",
     "output_type": "stream",
     "text": [
      "\n"
     ]
    },
    {
     "name": "stdout",
     "output_type": "stream",
     "text": [
      "\u001b[32m[1104 17:51:54 @saver.py:79]\u001b[0m Model saved to ../output/Chicago/WGGP_WI_new3/model\\model-172829.\n",
      "\u001b[32m[1104 17:51:55 @monitor.py:467]\u001b[0m GAN_loss/d_loss: -1.3215\n",
      "\u001b[32m[1104 17:51:55 @monitor.py:467]\u001b[0m GAN_loss/g_loss: -0.60523\n",
      "\u001b[32m[1104 17:51:55 @monitor.py:467]\u001b[0m GAN_loss/gradient_penalty: 0.010452\n",
      "\u001b[32m[1104 17:51:55 @monitor.py:467]\u001b[0m GAN_loss/gradient_rms: 1.0015\n",
      "\u001b[32m[1104 17:51:55 @monitor.py:467]\u001b[0m GAN_loss/kl_div: 0.079893\n",
      "\u001b[32m[1104 17:51:55 @monitor.py:467]\u001b[0m QueueInput/queue_size: 50\n",
      "\u001b[32m[1104 17:51:55 @base.py:275]\u001b[0m Start Epoch 824 ...\n"
     ]
    },
    {
     "name": "stderr",
     "output_type": "stream",
     "text": [
      "100%|###################################################################################|175/175[00:06<00:00,26.84it/s]"
     ]
    },
    {
     "name": "stdout",
     "output_type": "stream",
     "text": [
      "\u001b[32m[1104 17:52:01 @base.py:285]\u001b[0m Epoch 824 (global_step 173039) finished, time:6.52 seconds.\n",
      "\u001b[32m[1104 17:52:01 @saver.py:79]\u001b[0m Model saved to ../output/Chicago/WGGP_WI_new3/model\\model-173039.\n"
     ]
    },
    {
     "name": "stderr",
     "output_type": "stream",
     "text": [
      "\n"
     ]
    },
    {
     "name": "stdout",
     "output_type": "stream",
     "text": [
      "\u001b[32m[1104 17:52:01 @monitor.py:467]\u001b[0m GAN_loss/d_loss: -0.6906\n",
      "\u001b[32m[1104 17:52:01 @monitor.py:467]\u001b[0m GAN_loss/g_loss: -0.61592\n",
      "\u001b[32m[1104 17:52:01 @monitor.py:467]\u001b[0m GAN_loss/gradient_penalty: 0.0095285\n",
      "\u001b[32m[1104 17:52:01 @monitor.py:467]\u001b[0m GAN_loss/gradient_rms: 0.99811\n",
      "\u001b[32m[1104 17:52:01 @monitor.py:467]\u001b[0m GAN_loss/kl_div: 0.078021\n",
      "\u001b[32m[1104 17:52:01 @monitor.py:467]\u001b[0m QueueInput/queue_size: 50\n",
      "\u001b[32m[1104 17:52:01 @base.py:275]\u001b[0m Start Epoch 825 ...\n"
     ]
    },
    {
     "name": "stderr",
     "output_type": "stream",
     "text": [
      "100%|###################################################################################|175/175[00:06<00:00,26.65it/s]"
     ]
    },
    {
     "name": "stdout",
     "output_type": "stream",
     "text": [
      "\u001b[32m[1104 17:52:08 @base.py:285]\u001b[0m Epoch 825 (global_step 173249) finished, time:6.57 seconds.\n",
      "\u001b[32m[1104 17:52:08 @saver.py:79]\u001b[0m Model saved to ../output/Chicago/WGGP_WI_new3/model\\model-173249.\n"
     ]
    },
    {
     "name": "stderr",
     "output_type": "stream",
     "text": [
      "\n"
     ]
    },
    {
     "name": "stdout",
     "output_type": "stream",
     "text": [
      "\u001b[32m[1104 17:52:08 @monitor.py:467]\u001b[0m GAN_loss/d_loss: -0.85395\n",
      "\u001b[32m[1104 17:52:08 @monitor.py:467]\u001b[0m GAN_loss/g_loss: -0.60103\n",
      "\u001b[32m[1104 17:52:08 @monitor.py:467]\u001b[0m GAN_loss/gradient_penalty: 0.0094281\n",
      "\u001b[32m[1104 17:52:08 @monitor.py:467]\u001b[0m GAN_loss/gradient_rms: 0.99962\n",
      "\u001b[32m[1104 17:52:08 @monitor.py:467]\u001b[0m GAN_loss/kl_div: 0.080025\n",
      "\u001b[32m[1104 17:52:08 @monitor.py:467]\u001b[0m QueueInput/queue_size: 50\n",
      "\u001b[32m[1104 17:52:08 @base.py:275]\u001b[0m Start Epoch 826 ...\n"
     ]
    },
    {
     "name": "stderr",
     "output_type": "stream",
     "text": [
      "100%|###################################################################################|175/175[00:06<00:00,26.74it/s]"
     ]
    },
    {
     "name": "stdout",
     "output_type": "stream",
     "text": [
      "\u001b[32m[1104 17:52:15 @base.py:285]\u001b[0m Epoch 826 (global_step 173459) finished, time:6.55 seconds.\n",
      "\u001b[32m[1104 17:52:15 @saver.py:79]\u001b[0m Model saved to ../output/Chicago/WGGP_WI_new3/model\\model-173459.\n"
     ]
    },
    {
     "name": "stderr",
     "output_type": "stream",
     "text": [
      "\n"
     ]
    },
    {
     "name": "stdout",
     "output_type": "stream",
     "text": [
      "\u001b[32m[1104 17:52:15 @monitor.py:467]\u001b[0m GAN_loss/d_loss: -0.93609\n",
      "\u001b[32m[1104 17:52:15 @monitor.py:467]\u001b[0m GAN_loss/g_loss: -0.61644\n",
      "\u001b[32m[1104 17:52:15 @monitor.py:467]\u001b[0m GAN_loss/gradient_penalty: 0.0096746\n",
      "\u001b[32m[1104 17:52:15 @monitor.py:467]\u001b[0m GAN_loss/gradient_rms: 1\n",
      "\u001b[32m[1104 17:52:15 @monitor.py:467]\u001b[0m GAN_loss/kl_div: 0.076653\n",
      "\u001b[32m[1104 17:52:15 @monitor.py:467]\u001b[0m QueueInput/queue_size: 50\n",
      "\u001b[32m[1104 17:52:15 @base.py:275]\u001b[0m Start Epoch 827 ...\n"
     ]
    },
    {
     "name": "stderr",
     "output_type": "stream",
     "text": [
      "100%|###################################################################################|175/175[00:06<00:00,26.75it/s]"
     ]
    },
    {
     "name": "stdout",
     "output_type": "stream",
     "text": [
      "\u001b[32m[1104 17:52:21 @base.py:285]\u001b[0m Epoch 827 (global_step 173669) finished, time:6.54 seconds.\n",
      "\u001b[32m[1104 17:52:22 @saver.py:79]\u001b[0m Model saved to ../output/Chicago/WGGP_WI_new3/model\\model-173669.\n"
     ]
    },
    {
     "name": "stderr",
     "output_type": "stream",
     "text": [
      "\n"
     ]
    },
    {
     "name": "stdout",
     "output_type": "stream",
     "text": [
      "\u001b[32m[1104 17:52:22 @monitor.py:467]\u001b[0m GAN_loss/d_loss: -0.71298\n",
      "\u001b[32m[1104 17:52:22 @monitor.py:467]\u001b[0m GAN_loss/g_loss: -0.61044\n",
      "\u001b[32m[1104 17:52:22 @monitor.py:467]\u001b[0m GAN_loss/gradient_penalty: 0.0084642\n",
      "\u001b[32m[1104 17:52:22 @monitor.py:467]\u001b[0m GAN_loss/gradient_rms: 0.99805\n",
      "\u001b[32m[1104 17:52:22 @monitor.py:467]\u001b[0m GAN_loss/kl_div: 0.072036\n",
      "\u001b[32m[1104 17:52:22 @monitor.py:467]\u001b[0m QueueInput/queue_size: 50\n",
      "\u001b[32m[1104 17:52:22 @base.py:275]\u001b[0m Start Epoch 828 ...\n"
     ]
    },
    {
     "name": "stderr",
     "output_type": "stream",
     "text": [
      "100%|###################################################################################|175/175[00:06<00:00,26.81it/s]"
     ]
    },
    {
     "name": "stdout",
     "output_type": "stream",
     "text": [
      "\u001b[32m[1104 17:52:28 @base.py:285]\u001b[0m Epoch 828 (global_step 173879) finished, time:6.53 seconds.\n",
      "\u001b[32m[1104 17:52:28 @saver.py:79]\u001b[0m Model saved to ../output/Chicago/WGGP_WI_new3/model\\model-173879.\n"
     ]
    },
    {
     "name": "stderr",
     "output_type": "stream",
     "text": [
      "\n"
     ]
    },
    {
     "name": "stdout",
     "output_type": "stream",
     "text": [
      "\u001b[32m[1104 17:52:29 @monitor.py:467]\u001b[0m GAN_loss/d_loss: -0.98643\n",
      "\u001b[32m[1104 17:52:29 @monitor.py:467]\u001b[0m GAN_loss/g_loss: -0.60785\n",
      "\u001b[32m[1104 17:52:29 @monitor.py:467]\u001b[0m GAN_loss/gradient_penalty: 0.0096847\n",
      "\u001b[32m[1104 17:52:29 @monitor.py:467]\u001b[0m GAN_loss/gradient_rms: 1.0005\n",
      "\u001b[32m[1104 17:52:29 @monitor.py:467]\u001b[0m GAN_loss/kl_div: 0.084951\n",
      "\u001b[32m[1104 17:52:29 @monitor.py:467]\u001b[0m QueueInput/queue_size: 50\n",
      "\u001b[32m[1104 17:52:29 @base.py:275]\u001b[0m Start Epoch 829 ...\n"
     ]
    },
    {
     "name": "stderr",
     "output_type": "stream",
     "text": [
      "100%|###################################################################################|175/175[00:06<00:00,26.70it/s]"
     ]
    },
    {
     "name": "stdout",
     "output_type": "stream",
     "text": [
      "\u001b[32m[1104 17:52:35 @base.py:285]\u001b[0m Epoch 829 (global_step 174089) finished, time:6.56 seconds.\n",
      "\u001b[32m[1104 17:52:35 @saver.py:79]\u001b[0m Model saved to ../output/Chicago/WGGP_WI_new3/model\\model-174089.\n"
     ]
    },
    {
     "name": "stderr",
     "output_type": "stream",
     "text": [
      "\n"
     ]
    },
    {
     "name": "stdout",
     "output_type": "stream",
     "text": [
      "\u001b[32m[1104 17:52:35 @monitor.py:467]\u001b[0m GAN_loss/d_loss: -0.72097\n",
      "\u001b[32m[1104 17:52:35 @monitor.py:467]\u001b[0m GAN_loss/g_loss: -0.59713\n",
      "\u001b[32m[1104 17:52:35 @monitor.py:467]\u001b[0m GAN_loss/gradient_penalty: 0.009551\n",
      "\u001b[32m[1104 17:52:35 @monitor.py:467]\u001b[0m GAN_loss/gradient_rms: 0.99747\n",
      "\u001b[32m[1104 17:52:35 @monitor.py:467]\u001b[0m GAN_loss/kl_div: 0.085253\n",
      "\u001b[32m[1104 17:52:35 @monitor.py:467]\u001b[0m QueueInput/queue_size: 50\n",
      "\u001b[32m[1104 17:52:35 @base.py:275]\u001b[0m Start Epoch 830 ...\n"
     ]
    },
    {
     "name": "stderr",
     "output_type": "stream",
     "text": [
      "100%|###################################################################################|175/175[00:06<00:00,26.38it/s]"
     ]
    },
    {
     "name": "stdout",
     "output_type": "stream",
     "text": [
      "\u001b[32m[1104 17:52:42 @base.py:285]\u001b[0m Epoch 830 (global_step 174299) finished, time:6.64 seconds.\n",
      "\u001b[32m[1104 17:52:42 @saver.py:79]\u001b[0m Model saved to ../output/Chicago/WGGP_WI_new3/model\\model-174299.\n"
     ]
    },
    {
     "name": "stderr",
     "output_type": "stream",
     "text": [
      "\n"
     ]
    },
    {
     "name": "stdout",
     "output_type": "stream",
     "text": [
      "\u001b[32m[1104 17:52:42 @monitor.py:467]\u001b[0m GAN_loss/d_loss: -0.87183\n",
      "\u001b[32m[1104 17:52:42 @monitor.py:467]\u001b[0m GAN_loss/g_loss: -0.59096\n",
      "\u001b[32m[1104 17:52:42 @monitor.py:467]\u001b[0m GAN_loss/gradient_penalty: 0.0091512\n",
      "\u001b[32m[1104 17:52:42 @monitor.py:467]\u001b[0m GAN_loss/gradient_rms: 0.9997\n",
      "\u001b[32m[1104 17:52:42 @monitor.py:467]\u001b[0m GAN_loss/kl_div: 0.099649\n",
      "\u001b[32m[1104 17:52:42 @monitor.py:467]\u001b[0m QueueInput/queue_size: 50\n",
      "\u001b[32m[1104 17:52:42 @base.py:275]\u001b[0m Start Epoch 831 ...\n"
     ]
    },
    {
     "name": "stderr",
     "output_type": "stream",
     "text": [
      "100%|###################################################################################|175/175[00:06<00:00,26.90it/s]"
     ]
    },
    {
     "name": "stdout",
     "output_type": "stream",
     "text": [
      "\u001b[32m[1104 17:52:49 @base.py:285]\u001b[0m Epoch 831 (global_step 174509) finished, time:6.51 seconds.\n",
      "\u001b[32m[1104 17:52:49 @saver.py:79]\u001b[0m Model saved to ../output/Chicago/WGGP_WI_new3/model\\model-174509.\n"
     ]
    },
    {
     "name": "stderr",
     "output_type": "stream",
     "text": [
      "\n"
     ]
    },
    {
     "name": "stdout",
     "output_type": "stream",
     "text": [
      "\u001b[32m[1104 17:52:49 @monitor.py:467]\u001b[0m GAN_loss/d_loss: -0.99097\n",
      "\u001b[32m[1104 17:52:49 @monitor.py:467]\u001b[0m GAN_loss/g_loss: -0.60345\n",
      "\u001b[32m[1104 17:52:49 @monitor.py:467]\u001b[0m GAN_loss/gradient_penalty: 0.0093013\n",
      "\u001b[32m[1104 17:52:49 @monitor.py:467]\u001b[0m GAN_loss/gradient_rms: 1.0009\n",
      "\u001b[32m[1104 17:52:49 @monitor.py:467]\u001b[0m GAN_loss/kl_div: 0.084395\n",
      "\u001b[32m[1104 17:52:49 @monitor.py:467]\u001b[0m QueueInput/queue_size: 50\n",
      "\u001b[32m[1104 17:52:49 @base.py:275]\u001b[0m Start Epoch 832 ...\n"
     ]
    },
    {
     "name": "stderr",
     "output_type": "stream",
     "text": [
      "100%|###################################################################################|175/175[00:06<00:00,26.76it/s]"
     ]
    },
    {
     "name": "stdout",
     "output_type": "stream",
     "text": [
      "\u001b[32m[1104 17:52:56 @base.py:285]\u001b[0m Epoch 832 (global_step 174719) finished, time:6.54 seconds.\n",
      "\u001b[32m[1104 17:52:56 @saver.py:79]\u001b[0m Model saved to ../output/Chicago/WGGP_WI_new3/model\\model-174719.\n"
     ]
    },
    {
     "name": "stderr",
     "output_type": "stream",
     "text": [
      "\n"
     ]
    },
    {
     "name": "stdout",
     "output_type": "stream",
     "text": [
      "\u001b[32m[1104 17:52:56 @monitor.py:467]\u001b[0m GAN_loss/d_loss: -0.77853\n",
      "\u001b[32m[1104 17:52:56 @monitor.py:467]\u001b[0m GAN_loss/g_loss: -0.61539\n",
      "\u001b[32m[1104 17:52:56 @monitor.py:467]\u001b[0m GAN_loss/gradient_penalty: 0.0093481\n",
      "\u001b[32m[1104 17:52:56 @monitor.py:467]\u001b[0m GAN_loss/gradient_rms: 0.99881\n",
      "\u001b[32m[1104 17:52:56 @monitor.py:467]\u001b[0m GAN_loss/kl_div: 0.078571\n",
      "\u001b[32m[1104 17:52:56 @monitor.py:467]\u001b[0m QueueInput/queue_size: 50\n",
      "\u001b[32m[1104 17:52:56 @base.py:275]\u001b[0m Start Epoch 833 ...\n"
     ]
    },
    {
     "name": "stderr",
     "output_type": "stream",
     "text": [
      "100%|###################################################################################|175/175[00:06<00:00,26.91it/s]"
     ]
    },
    {
     "name": "stdout",
     "output_type": "stream",
     "text": [
      "\u001b[32m[1104 17:53:02 @base.py:285]\u001b[0m Epoch 833 (global_step 174929) finished, time:6.5 seconds.\n",
      "\u001b[32m[1104 17:53:02 @saver.py:79]\u001b[0m Model saved to ../output/Chicago/WGGP_WI_new3/model\\model-174929.\n"
     ]
    },
    {
     "name": "stderr",
     "output_type": "stream",
     "text": [
      "\n"
     ]
    },
    {
     "name": "stdout",
     "output_type": "stream",
     "text": [
      "\u001b[32m[1104 17:53:03 @monitor.py:467]\u001b[0m GAN_loss/d_loss: -0.93199\n",
      "\u001b[32m[1104 17:53:03 @monitor.py:467]\u001b[0m GAN_loss/g_loss: -0.60212\n",
      "\u001b[32m[1104 17:53:03 @monitor.py:467]\u001b[0m GAN_loss/gradient_penalty: 0.0097261\n",
      "\u001b[32m[1104 17:53:03 @monitor.py:467]\u001b[0m GAN_loss/gradient_rms: 1.0002\n",
      "\u001b[32m[1104 17:53:03 @monitor.py:467]\u001b[0m GAN_loss/kl_div: 0.082172\n",
      "\u001b[32m[1104 17:53:03 @monitor.py:467]\u001b[0m QueueInput/queue_size: 50\n",
      "\u001b[32m[1104 17:53:03 @base.py:275]\u001b[0m Start Epoch 834 ...\n"
     ]
    },
    {
     "name": "stderr",
     "output_type": "stream",
     "text": [
      "100%|###################################################################################|175/175[00:06<00:00,26.80it/s]"
     ]
    },
    {
     "name": "stdout",
     "output_type": "stream",
     "text": [
      "\u001b[32m[1104 17:53:09 @base.py:285]\u001b[0m Epoch 834 (global_step 175139) finished, time:6.53 seconds.\n",
      "\u001b[32m[1104 17:53:09 @saver.py:79]\u001b[0m Model saved to ../output/Chicago/WGGP_WI_new3/model\\model-175139.\n"
     ]
    },
    {
     "name": "stderr",
     "output_type": "stream",
     "text": [
      "\n"
     ]
    },
    {
     "name": "stdout",
     "output_type": "stream",
     "text": [
      "\u001b[32m[1104 17:53:09 @monitor.py:467]\u001b[0m GAN_loss/d_loss: -1.0309\n",
      "\u001b[32m[1104 17:53:09 @monitor.py:467]\u001b[0m GAN_loss/g_loss: -0.60599\n",
      "\u001b[32m[1104 17:53:09 @monitor.py:467]\u001b[0m GAN_loss/gradient_penalty: 0.0099205\n",
      "\u001b[32m[1104 17:53:09 @monitor.py:467]\u001b[0m GAN_loss/gradient_rms: 1.0014\n",
      "\u001b[32m[1104 17:53:09 @monitor.py:467]\u001b[0m GAN_loss/kl_div: 0.085812\n",
      "\u001b[32m[1104 17:53:09 @monitor.py:467]\u001b[0m QueueInput/queue_size: 50\n",
      "\u001b[32m[1104 17:53:09 @base.py:275]\u001b[0m Start Epoch 835 ...\n"
     ]
    },
    {
     "name": "stderr",
     "output_type": "stream",
     "text": [
      "100%|###################################################################################|175/175[00:06<00:00,26.79it/s]"
     ]
    },
    {
     "name": "stdout",
     "output_type": "stream",
     "text": [
      "\u001b[32m[1104 17:53:16 @base.py:285]\u001b[0m Epoch 835 (global_step 175349) finished, time:6.53 seconds.\n",
      "\u001b[32m[1104 17:53:16 @saver.py:79]\u001b[0m Model saved to ../output/Chicago/WGGP_WI_new3/model\\model-175349.\n"
     ]
    },
    {
     "name": "stderr",
     "output_type": "stream",
     "text": [
      "\n"
     ]
    },
    {
     "name": "stdout",
     "output_type": "stream",
     "text": [
      "\u001b[32m[1104 17:53:16 @monitor.py:467]\u001b[0m GAN_loss/d_loss: -0.74229\n",
      "\u001b[32m[1104 17:53:16 @monitor.py:467]\u001b[0m GAN_loss/g_loss: -0.6204\n",
      "\u001b[32m[1104 17:53:16 @monitor.py:467]\u001b[0m GAN_loss/gradient_penalty: 0.0095015\n",
      "\u001b[32m[1104 17:53:16 @monitor.py:467]\u001b[0m GAN_loss/gradient_rms: 0.99913\n",
      "\u001b[32m[1104 17:53:16 @monitor.py:467]\u001b[0m GAN_loss/kl_div: 0.072222\n",
      "\u001b[32m[1104 17:53:16 @monitor.py:467]\u001b[0m QueueInput/queue_size: 50\n",
      "\u001b[32m[1104 17:53:16 @base.py:275]\u001b[0m Start Epoch 836 ...\n"
     ]
    },
    {
     "name": "stderr",
     "output_type": "stream",
     "text": [
      "100%|###################################################################################|175/175[00:06<00:00,25.57it/s]"
     ]
    },
    {
     "name": "stdout",
     "output_type": "stream",
     "text": [
      "\u001b[32m[1104 17:53:23 @base.py:285]\u001b[0m Epoch 836 (global_step 175559) finished, time:6.84 seconds.\n",
      "\u001b[32m[1104 17:53:23 @saver.py:79]\u001b[0m Model saved to ../output/Chicago/WGGP_WI_new3/model\\model-175559.\n"
     ]
    },
    {
     "name": "stderr",
     "output_type": "stream",
     "text": [
      "\n"
     ]
    },
    {
     "name": "stdout",
     "output_type": "stream",
     "text": [
      "\u001b[32m[1104 17:53:23 @monitor.py:467]\u001b[0m GAN_loss/d_loss: -1.1982\n",
      "\u001b[32m[1104 17:53:23 @monitor.py:467]\u001b[0m GAN_loss/g_loss: -0.63687\n",
      "\u001b[32m[1104 17:53:23 @monitor.py:467]\u001b[0m GAN_loss/gradient_penalty: 0.010838\n",
      "\u001b[32m[1104 17:53:23 @monitor.py:467]\u001b[0m GAN_loss/gradient_rms: 0.9997\n",
      "\u001b[32m[1104 17:53:23 @monitor.py:467]\u001b[0m GAN_loss/kl_div: 0.078944\n",
      "\u001b[32m[1104 17:53:23 @monitor.py:467]\u001b[0m QueueInput/queue_size: 50\n",
      "\u001b[32m[1104 17:53:23 @base.py:275]\u001b[0m Start Epoch 837 ...\n"
     ]
    },
    {
     "name": "stderr",
     "output_type": "stream",
     "text": [
      "100%|###################################################################################|175/175[00:06<00:00,26.34it/s]"
     ]
    },
    {
     "name": "stdout",
     "output_type": "stream",
     "text": [
      "\u001b[32m[1104 17:53:30 @base.py:285]\u001b[0m Epoch 837 (global_step 175769) finished, time:6.64 seconds.\n",
      "\u001b[32m[1104 17:53:30 @saver.py:79]\u001b[0m Model saved to ../output/Chicago/WGGP_WI_new3/model\\model-175769.\n"
     ]
    },
    {
     "name": "stderr",
     "output_type": "stream",
     "text": [
      "\n"
     ]
    },
    {
     "name": "stdout",
     "output_type": "stream",
     "text": [
      "\u001b[32m[1104 17:53:30 @monitor.py:467]\u001b[0m GAN_loss/d_loss: -1.4514\n",
      "\u001b[32m[1104 17:53:30 @monitor.py:467]\u001b[0m GAN_loss/g_loss: -0.65888\n",
      "\u001b[32m[1104 17:53:30 @monitor.py:467]\u001b[0m GAN_loss/gradient_penalty: 0.0119\n",
      "\u001b[32m[1104 17:53:30 @monitor.py:467]\u001b[0m GAN_loss/gradient_rms: 1.0012\n",
      "\u001b[32m[1104 17:53:30 @monitor.py:467]\u001b[0m GAN_loss/kl_div: 0.080425\n",
      "\u001b[32m[1104 17:53:30 @monitor.py:467]\u001b[0m QueueInput/queue_size: 50\n",
      "\u001b[32m[1104 17:53:30 @base.py:275]\u001b[0m Start Epoch 838 ...\n"
     ]
    },
    {
     "name": "stderr",
     "output_type": "stream",
     "text": [
      "100%|###################################################################################|175/175[00:06<00:00,26.75it/s]"
     ]
    },
    {
     "name": "stdout",
     "output_type": "stream",
     "text": [
      "\u001b[32m[1104 17:53:37 @base.py:285]\u001b[0m Epoch 838 (global_step 175979) finished, time:6.54 seconds.\n",
      "\u001b[32m[1104 17:53:37 @saver.py:79]\u001b[0m Model saved to ../output/Chicago/WGGP_WI_new3/model\\model-175979.\n"
     ]
    },
    {
     "name": "stderr",
     "output_type": "stream",
     "text": [
      "\n"
     ]
    },
    {
     "name": "stdout",
     "output_type": "stream",
     "text": [
      "\u001b[32m[1104 17:53:37 @monitor.py:467]\u001b[0m GAN_loss/d_loss: -1.1478\n",
      "\u001b[32m[1104 17:53:37 @monitor.py:467]\u001b[0m GAN_loss/g_loss: -0.65918\n",
      "\u001b[32m[1104 17:53:37 @monitor.py:467]\u001b[0m GAN_loss/gradient_penalty: 0.011115\n",
      "\u001b[32m[1104 17:53:37 @monitor.py:467]\u001b[0m GAN_loss/gradient_rms: 0.99997\n",
      "\u001b[32m[1104 17:53:37 @monitor.py:467]\u001b[0m GAN_loss/kl_div: 0.084971\n",
      "\u001b[32m[1104 17:53:37 @monitor.py:467]\u001b[0m QueueInput/queue_size: 50\n",
      "\u001b[32m[1104 17:53:37 @base.py:275]\u001b[0m Start Epoch 839 ...\n"
     ]
    },
    {
     "name": "stderr",
     "output_type": "stream",
     "text": [
      "100%|###################################################################################|175/175[00:06<00:00,26.38it/s]"
     ]
    },
    {
     "name": "stdout",
     "output_type": "stream",
     "text": [
      "\u001b[32m[1104 17:53:44 @base.py:285]\u001b[0m Epoch 839 (global_step 176189) finished, time:6.64 seconds.\n",
      "\u001b[32m[1104 17:53:44 @saver.py:79]\u001b[0m Model saved to ../output/Chicago/WGGP_WI_new3/model\\model-176189.\n"
     ]
    },
    {
     "name": "stderr",
     "output_type": "stream",
     "text": [
      "\n"
     ]
    },
    {
     "name": "stdout",
     "output_type": "stream",
     "text": [
      "\u001b[32m[1104 17:53:44 @monitor.py:467]\u001b[0m GAN_loss/d_loss: -1.1928\n",
      "\u001b[32m[1104 17:53:44 @monitor.py:467]\u001b[0m GAN_loss/g_loss: -0.67364\n",
      "\u001b[32m[1104 17:53:44 @monitor.py:467]\u001b[0m GAN_loss/gradient_penalty: 0.012008\n",
      "\u001b[32m[1104 17:53:44 @monitor.py:467]\u001b[0m GAN_loss/gradient_rms: 1.0007\n",
      "\u001b[32m[1104 17:53:44 @monitor.py:467]\u001b[0m GAN_loss/kl_div: 0.090092\n",
      "\u001b[32m[1104 17:53:44 @monitor.py:467]\u001b[0m QueueInput/queue_size: 50\n",
      "\u001b[32m[1104 17:53:44 @base.py:275]\u001b[0m Start Epoch 840 ...\n"
     ]
    },
    {
     "name": "stderr",
     "output_type": "stream",
     "text": [
      "100%|###################################################################################|175/175[00:06<00:00,26.10it/s]"
     ]
    },
    {
     "name": "stdout",
     "output_type": "stream",
     "text": [
      "\u001b[32m[1104 17:53:50 @base.py:285]\u001b[0m Epoch 840 (global_step 176399) finished, time:6.71 seconds.\n",
      "\u001b[32m[1104 17:53:51 @saver.py:79]\u001b[0m Model saved to ../output/Chicago/WGGP_WI_new3/model\\model-176399.\n"
     ]
    },
    {
     "name": "stderr",
     "output_type": "stream",
     "text": [
      "\n"
     ]
    },
    {
     "name": "stdout",
     "output_type": "stream",
     "text": [
      "\u001b[32m[1104 17:53:51 @monitor.py:467]\u001b[0m GAN_loss/d_loss: -1.4054\n",
      "\u001b[32m[1104 17:53:51 @monitor.py:467]\u001b[0m GAN_loss/g_loss: -0.64299\n",
      "\u001b[32m[1104 17:53:51 @monitor.py:467]\u001b[0m GAN_loss/gradient_penalty: 0.012551\n",
      "\u001b[32m[1104 17:53:51 @monitor.py:467]\u001b[0m GAN_loss/gradient_rms: 0.99762\n",
      "\u001b[32m[1104 17:53:51 @monitor.py:467]\u001b[0m GAN_loss/kl_div: 0.092743\n",
      "\u001b[32m[1104 17:53:51 @monitor.py:467]\u001b[0m QueueInput/queue_size: 50\n",
      "\u001b[32m[1104 17:53:51 @base.py:275]\u001b[0m Start Epoch 841 ...\n"
     ]
    },
    {
     "name": "stderr",
     "output_type": "stream",
     "text": [
      "100%|###################################################################################|175/175[00:06<00:00,26.78it/s]"
     ]
    },
    {
     "name": "stdout",
     "output_type": "stream",
     "text": [
      "\u001b[32m[1104 17:53:57 @base.py:285]\u001b[0m Epoch 841 (global_step 176609) finished, time:6.53 seconds.\n"
     ]
    },
    {
     "name": "stderr",
     "output_type": "stream",
     "text": [
      "\n"
     ]
    },
    {
     "name": "stdout",
     "output_type": "stream",
     "text": [
      "\u001b[32m[1104 17:53:57 @saver.py:79]\u001b[0m Model saved to ../output/Chicago/WGGP_WI_new3/model\\model-176609.\n",
      "\u001b[32m[1104 17:53:57 @monitor.py:467]\u001b[0m GAN_loss/d_loss: -1.8667\n",
      "\u001b[32m[1104 17:53:57 @monitor.py:467]\u001b[0m GAN_loss/g_loss: -0.65052\n",
      "\u001b[32m[1104 17:53:57 @monitor.py:467]\u001b[0m GAN_loss/gradient_penalty: 0.013806\n",
      "\u001b[32m[1104 17:53:57 @monitor.py:467]\u001b[0m GAN_loss/gradient_rms: 1.0025\n",
      "\u001b[32m[1104 17:53:57 @monitor.py:467]\u001b[0m GAN_loss/kl_div: 0.10074\n",
      "\u001b[32m[1104 17:53:57 @monitor.py:467]\u001b[0m QueueInput/queue_size: 50\n",
      "\u001b[32m[1104 17:53:57 @base.py:275]\u001b[0m Start Epoch 842 ...\n"
     ]
    },
    {
     "name": "stderr",
     "output_type": "stream",
     "text": [
      "100%|###################################################################################|175/175[00:06<00:00,26.67it/s]"
     ]
    },
    {
     "name": "stdout",
     "output_type": "stream",
     "text": [
      "\u001b[32m[1104 17:54:04 @base.py:285]\u001b[0m Epoch 842 (global_step 176819) finished, time:6.56 seconds.\n"
     ]
    },
    {
     "name": "stderr",
     "output_type": "stream",
     "text": [
      "\n"
     ]
    },
    {
     "name": "stdout",
     "output_type": "stream",
     "text": [
      "\u001b[32m[1104 17:54:04 @saver.py:79]\u001b[0m Model saved to ../output/Chicago/WGGP_WI_new3/model\\model-176819.\n",
      "\u001b[32m[1104 17:54:04 @monitor.py:467]\u001b[0m GAN_loss/d_loss: -1.6302\n",
      "\u001b[32m[1104 17:54:04 @monitor.py:467]\u001b[0m GAN_loss/g_loss: -0.61834\n",
      "\u001b[32m[1104 17:54:04 @monitor.py:467]\u001b[0m GAN_loss/gradient_penalty: 0.014225\n",
      "\u001b[32m[1104 17:54:04 @monitor.py:467]\u001b[0m GAN_loss/gradient_rms: 0.9983\n",
      "\u001b[32m[1104 17:54:04 @monitor.py:467]\u001b[0m GAN_loss/kl_div: 0.089782\n",
      "\u001b[32m[1104 17:54:04 @monitor.py:467]\u001b[0m QueueInput/queue_size: 50\n",
      "\u001b[32m[1104 17:54:04 @base.py:275]\u001b[0m Start Epoch 843 ...\n"
     ]
    },
    {
     "name": "stderr",
     "output_type": "stream",
     "text": [
      "100%|###################################################################################|175/175[00:06<00:00,26.80it/s]"
     ]
    },
    {
     "name": "stdout",
     "output_type": "stream",
     "text": [
      "\u001b[32m[1104 17:54:11 @base.py:285]\u001b[0m Epoch 843 (global_step 177029) finished, time:6.53 seconds.\n"
     ]
    },
    {
     "name": "stderr",
     "output_type": "stream",
     "text": [
      "\n"
     ]
    },
    {
     "name": "stdout",
     "output_type": "stream",
     "text": [
      "\u001b[32m[1104 17:54:11 @saver.py:79]\u001b[0m Model saved to ../output/Chicago/WGGP_WI_new3/model\\model-177029.\n",
      "\u001b[32m[1104 17:54:11 @monitor.py:467]\u001b[0m GAN_loss/d_loss: -1.9014\n",
      "\u001b[32m[1104 17:54:11 @monitor.py:467]\u001b[0m GAN_loss/g_loss: -0.65811\n",
      "\u001b[32m[1104 17:54:11 @monitor.py:467]\u001b[0m GAN_loss/gradient_penalty: 0.015209\n",
      "\u001b[32m[1104 17:54:11 @monitor.py:467]\u001b[0m GAN_loss/gradient_rms: 1.0016\n",
      "\u001b[32m[1104 17:54:11 @monitor.py:467]\u001b[0m GAN_loss/kl_div: 0.088475\n",
      "\u001b[32m[1104 17:54:11 @monitor.py:467]\u001b[0m QueueInput/queue_size: 50\n",
      "\u001b[32m[1104 17:54:11 @base.py:275]\u001b[0m Start Epoch 844 ...\n"
     ]
    },
    {
     "name": "stderr",
     "output_type": "stream",
     "text": [
      "100%|###################################################################################|175/175[00:06<00:00,26.72it/s]"
     ]
    },
    {
     "name": "stdout",
     "output_type": "stream",
     "text": [
      "\u001b[32m[1104 17:54:18 @base.py:285]\u001b[0m Epoch 844 (global_step 177239) finished, time:6.55 seconds.\n",
      "\u001b[32m[1104 17:54:18 @saver.py:79]\u001b[0m Model saved to ../output/Chicago/WGGP_WI_new3/model\\model-177239.\n"
     ]
    },
    {
     "name": "stderr",
     "output_type": "stream",
     "text": [
      "\n"
     ]
    },
    {
     "name": "stdout",
     "output_type": "stream",
     "text": [
      "\u001b[32m[1104 17:54:18 @monitor.py:467]\u001b[0m GAN_loss/d_loss: -2.0321\n",
      "\u001b[32m[1104 17:54:18 @monitor.py:467]\u001b[0m GAN_loss/g_loss: -0.67045\n",
      "\u001b[32m[1104 17:54:18 @monitor.py:467]\u001b[0m GAN_loss/gradient_penalty: 0.015336\n",
      "\u001b[32m[1104 17:54:18 @monitor.py:467]\u001b[0m GAN_loss/gradient_rms: 1.001\n",
      "\u001b[32m[1104 17:54:18 @monitor.py:467]\u001b[0m GAN_loss/kl_div: 0.086063\n",
      "\u001b[32m[1104 17:54:18 @monitor.py:467]\u001b[0m QueueInput/queue_size: 50\n",
      "\u001b[32m[1104 17:54:18 @base.py:275]\u001b[0m Start Epoch 845 ...\n"
     ]
    },
    {
     "name": "stderr",
     "output_type": "stream",
     "text": [
      "100%|###################################################################################|175/175[00:06<00:00,26.69it/s]"
     ]
    },
    {
     "name": "stdout",
     "output_type": "stream",
     "text": [
      "\u001b[32m[1104 17:54:24 @base.py:285]\u001b[0m Epoch 845 (global_step 177449) finished, time:6.56 seconds.\n",
      "\u001b[32m[1104 17:54:25 @saver.py:79]\u001b[0m Model saved to ../output/Chicago/WGGP_WI_new3/model\\model-177449.\n"
     ]
    },
    {
     "name": "stderr",
     "output_type": "stream",
     "text": [
      "\n"
     ]
    },
    {
     "name": "stdout",
     "output_type": "stream",
     "text": [
      "\u001b[32m[1104 17:54:25 @monitor.py:467]\u001b[0m GAN_loss/d_loss: -1.7475\n",
      "\u001b[32m[1104 17:54:25 @monitor.py:467]\u001b[0m GAN_loss/g_loss: -0.64538\n",
      "\u001b[32m[1104 17:54:25 @monitor.py:467]\u001b[0m GAN_loss/gradient_penalty: 0.014434\n",
      "\u001b[32m[1104 17:54:25 @monitor.py:467]\u001b[0m GAN_loss/gradient_rms: 1.0017\n",
      "\u001b[32m[1104 17:54:25 @monitor.py:467]\u001b[0m GAN_loss/kl_div: 0.10058\n",
      "\u001b[32m[1104 17:54:25 @monitor.py:467]\u001b[0m QueueInput/queue_size: 50\n",
      "\u001b[32m[1104 17:54:25 @base.py:275]\u001b[0m Start Epoch 846 ...\n"
     ]
    },
    {
     "name": "stderr",
     "output_type": "stream",
     "text": [
      "100%|###################################################################################|175/175[00:06<00:00,26.78it/s]"
     ]
    },
    {
     "name": "stdout",
     "output_type": "stream",
     "text": [
      "\u001b[32m[1104 17:54:31 @base.py:285]\u001b[0m Epoch 846 (global_step 177659) finished, time:6.54 seconds.\n",
      "\u001b[32m[1104 17:54:31 @saver.py:79]\u001b[0m Model saved to ../output/Chicago/WGGP_WI_new3/model\\model-177659.\n"
     ]
    },
    {
     "name": "stderr",
     "output_type": "stream",
     "text": [
      "\n"
     ]
    },
    {
     "name": "stdout",
     "output_type": "stream",
     "text": [
      "\u001b[32m[1104 17:54:31 @monitor.py:467]\u001b[0m GAN_loss/d_loss: -1.7389\n",
      "\u001b[32m[1104 17:54:31 @monitor.py:467]\u001b[0m GAN_loss/g_loss: -0.62028\n",
      "\u001b[32m[1104 17:54:31 @monitor.py:467]\u001b[0m GAN_loss/gradient_penalty: 0.015261\n",
      "\u001b[32m[1104 17:54:31 @monitor.py:467]\u001b[0m GAN_loss/gradient_rms: 1.002\n",
      "\u001b[32m[1104 17:54:31 @monitor.py:467]\u001b[0m GAN_loss/kl_div: 0.077588\n",
      "\u001b[32m[1104 17:54:31 @monitor.py:467]\u001b[0m QueueInput/queue_size: 50\n",
      "\u001b[32m[1104 17:54:31 @base.py:275]\u001b[0m Start Epoch 847 ...\n"
     ]
    },
    {
     "name": "stderr",
     "output_type": "stream",
     "text": [
      "100%|###################################################################################|175/175[00:06<00:00,26.76it/s]"
     ]
    },
    {
     "name": "stdout",
     "output_type": "stream",
     "text": [
      "\u001b[32m[1104 17:54:38 @base.py:285]\u001b[0m Epoch 847 (global_step 177869) finished, time:6.54 seconds.\n",
      "\u001b[32m[1104 17:54:38 @saver.py:79]\u001b[0m Model saved to ../output/Chicago/WGGP_WI_new3/model\\model-177869.\n"
     ]
    },
    {
     "name": "stderr",
     "output_type": "stream",
     "text": [
      "\n"
     ]
    },
    {
     "name": "stdout",
     "output_type": "stream",
     "text": [
      "\u001b[32m[1104 17:54:38 @monitor.py:467]\u001b[0m GAN_loss/d_loss: -2.0777\n",
      "\u001b[32m[1104 17:54:38 @monitor.py:467]\u001b[0m GAN_loss/g_loss: -0.60575\n",
      "\u001b[32m[1104 17:54:38 @monitor.py:467]\u001b[0m GAN_loss/gradient_penalty: 0.015077\n",
      "\u001b[32m[1104 17:54:38 @monitor.py:467]\u001b[0m GAN_loss/gradient_rms: 1.002\n",
      "\u001b[32m[1104 17:54:38 @monitor.py:467]\u001b[0m GAN_loss/kl_div: 0.087859\n",
      "\u001b[32m[1104 17:54:38 @monitor.py:467]\u001b[0m QueueInput/queue_size: 50\n",
      "\u001b[32m[1104 17:54:38 @base.py:275]\u001b[0m Start Epoch 848 ...\n"
     ]
    },
    {
     "name": "stderr",
     "output_type": "stream",
     "text": [
      "100%|###################################################################################|175/175[00:06<00:00,26.63it/s]"
     ]
    },
    {
     "name": "stdout",
     "output_type": "stream",
     "text": [
      "\u001b[32m[1104 17:54:45 @base.py:285]\u001b[0m Epoch 848 (global_step 178079) finished, time:6.57 seconds.\n",
      "\u001b[32m[1104 17:54:45 @saver.py:79]\u001b[0m Model saved to ../output/Chicago/WGGP_WI_new3/model\\model-178079.\n"
     ]
    },
    {
     "name": "stderr",
     "output_type": "stream",
     "text": [
      "\n"
     ]
    },
    {
     "name": "stdout",
     "output_type": "stream",
     "text": [
      "\u001b[32m[1104 17:54:45 @monitor.py:467]\u001b[0m GAN_loss/d_loss: -2.2947\n",
      "\u001b[32m[1104 17:54:45 @monitor.py:467]\u001b[0m GAN_loss/g_loss: -0.60445\n",
      "\u001b[32m[1104 17:54:45 @monitor.py:467]\u001b[0m GAN_loss/gradient_penalty: 0.016511\n",
      "\u001b[32m[1104 17:54:45 @monitor.py:467]\u001b[0m GAN_loss/gradient_rms: 1.0043\n",
      "\u001b[32m[1104 17:54:45 @monitor.py:467]\u001b[0m GAN_loss/kl_div: 0.085978\n",
      "\u001b[32m[1104 17:54:45 @monitor.py:467]\u001b[0m QueueInput/queue_size: 50\n",
      "\u001b[32m[1104 17:54:45 @base.py:275]\u001b[0m Start Epoch 849 ...\n"
     ]
    },
    {
     "name": "stderr",
     "output_type": "stream",
     "text": [
      "100%|###################################################################################|175/175[00:06<00:00,26.40it/s]"
     ]
    },
    {
     "name": "stdout",
     "output_type": "stream",
     "text": [
      "\u001b[32m[1104 17:54:52 @base.py:285]\u001b[0m Epoch 849 (global_step 178289) finished, time:6.63 seconds.\n",
      "\u001b[32m[1104 17:54:52 @saver.py:79]\u001b[0m Model saved to ../output/Chicago/WGGP_WI_new3/model\\model-178289.\n"
     ]
    },
    {
     "name": "stderr",
     "output_type": "stream",
     "text": [
      "\n"
     ]
    },
    {
     "name": "stdout",
     "output_type": "stream",
     "text": [
      "\u001b[32m[1104 17:54:52 @monitor.py:467]\u001b[0m GAN_loss/d_loss: -2.0965\n",
      "\u001b[32m[1104 17:54:52 @monitor.py:467]\u001b[0m GAN_loss/g_loss: -0.6254\n",
      "\u001b[32m[1104 17:54:52 @monitor.py:467]\u001b[0m GAN_loss/gradient_penalty: 0.016407\n",
      "\u001b[32m[1104 17:54:52 @monitor.py:467]\u001b[0m GAN_loss/gradient_rms: 1.0037\n",
      "\u001b[32m[1104 17:54:52 @monitor.py:467]\u001b[0m GAN_loss/kl_div: 0.082691\n",
      "\u001b[32m[1104 17:54:52 @monitor.py:467]\u001b[0m QueueInput/queue_size: 50\n",
      "\u001b[32m[1104 17:54:52 @base.py:275]\u001b[0m Start Epoch 850 ...\n"
     ]
    },
    {
     "name": "stderr",
     "output_type": "stream",
     "text": [
      "100%|###################################################################################|175/175[00:06<00:00,26.73it/s]"
     ]
    },
    {
     "name": "stdout",
     "output_type": "stream",
     "text": [
      "\u001b[32m[1104 17:54:59 @base.py:285]\u001b[0m Epoch 850 (global_step 178499) finished, time:6.55 seconds.\n",
      "\u001b[32m[1104 17:54:59 @saver.py:79]\u001b[0m Model saved to ../output/Chicago/WGGP_WI_new3/model\\model-178499.\n"
     ]
    },
    {
     "name": "stderr",
     "output_type": "stream",
     "text": [
      "\n"
     ]
    },
    {
     "name": "stdout",
     "output_type": "stream",
     "text": [
      "\u001b[32m[1104 17:54:59 @monitor.py:467]\u001b[0m GAN_loss/d_loss: -2.171\n",
      "\u001b[32m[1104 17:54:59 @monitor.py:467]\u001b[0m GAN_loss/g_loss: -0.61531\n",
      "\u001b[32m[1104 17:54:59 @monitor.py:467]\u001b[0m GAN_loss/gradient_penalty: 0.017585\n",
      "\u001b[32m[1104 17:54:59 @monitor.py:467]\u001b[0m GAN_loss/gradient_rms: 1\n",
      "\u001b[32m[1104 17:54:59 @monitor.py:467]\u001b[0m GAN_loss/kl_div: 0.089611\n",
      "\u001b[32m[1104 17:54:59 @monitor.py:467]\u001b[0m QueueInput/queue_size: 50\n",
      "\u001b[32m[1104 17:54:59 @base.py:275]\u001b[0m Start Epoch 851 ...\n"
     ]
    },
    {
     "name": "stderr",
     "output_type": "stream",
     "text": [
      "100%|###################################################################################|175/175[00:06<00:00,26.72it/s]"
     ]
    },
    {
     "name": "stdout",
     "output_type": "stream",
     "text": [
      "\u001b[32m[1104 17:55:05 @base.py:285]\u001b[0m Epoch 851 (global_step 178709) finished, time:6.55 seconds.\n"
     ]
    },
    {
     "name": "stderr",
     "output_type": "stream",
     "text": [
      "\n"
     ]
    },
    {
     "name": "stdout",
     "output_type": "stream",
     "text": [
      "\u001b[32m[1104 17:55:05 @saver.py:79]\u001b[0m Model saved to ../output/Chicago/WGGP_WI_new3/model\\model-178709.\n",
      "\u001b[32m[1104 17:55:06 @monitor.py:467]\u001b[0m GAN_loss/d_loss: -2.5334\n",
      "\u001b[32m[1104 17:55:06 @monitor.py:467]\u001b[0m GAN_loss/g_loss: -0.62614\n",
      "\u001b[32m[1104 17:55:06 @monitor.py:467]\u001b[0m GAN_loss/gradient_penalty: 0.017722\n",
      "\u001b[32m[1104 17:55:06 @monitor.py:467]\u001b[0m GAN_loss/gradient_rms: 1.0059\n",
      "\u001b[32m[1104 17:55:06 @monitor.py:467]\u001b[0m GAN_loss/kl_div: 0.09412\n",
      "\u001b[32m[1104 17:55:06 @monitor.py:467]\u001b[0m QueueInput/queue_size: 50\n",
      "\u001b[32m[1104 17:55:06 @base.py:275]\u001b[0m Start Epoch 852 ...\n"
     ]
    },
    {
     "name": "stderr",
     "output_type": "stream",
     "text": [
      "100%|###################################################################################|175/175[00:06<00:00,26.31it/s]"
     ]
    },
    {
     "name": "stdout",
     "output_type": "stream",
     "text": [
      "\u001b[32m[1104 17:55:12 @base.py:285]\u001b[0m Epoch 852 (global_step 178919) finished, time:6.65 seconds.\n"
     ]
    },
    {
     "name": "stderr",
     "output_type": "stream",
     "text": [
      "\n"
     ]
    },
    {
     "name": "stdout",
     "output_type": "stream",
     "text": [
      "\u001b[32m[1104 17:55:12 @saver.py:79]\u001b[0m Model saved to ../output/Chicago/WGGP_WI_new3/model\\model-178919.\n",
      "\u001b[32m[1104 17:55:12 @monitor.py:467]\u001b[0m GAN_loss/d_loss: -2.4559\n",
      "\u001b[32m[1104 17:55:12 @monitor.py:467]\u001b[0m GAN_loss/g_loss: -0.64684\n",
      "\u001b[32m[1104 17:55:12 @monitor.py:467]\u001b[0m GAN_loss/gradient_penalty: 0.017998\n",
      "\u001b[32m[1104 17:55:12 @monitor.py:467]\u001b[0m GAN_loss/gradient_rms: 1.0035\n",
      "\u001b[32m[1104 17:55:12 @monitor.py:467]\u001b[0m GAN_loss/kl_div: 0.084986\n",
      "\u001b[32m[1104 17:55:12 @monitor.py:467]\u001b[0m QueueInput/queue_size: 50\n",
      "\u001b[32m[1104 17:55:12 @base.py:275]\u001b[0m Start Epoch 853 ...\n"
     ]
    },
    {
     "name": "stderr",
     "output_type": "stream",
     "text": [
      "100%|###################################################################################|175/175[00:06<00:00,25.95it/s]"
     ]
    },
    {
     "name": "stdout",
     "output_type": "stream",
     "text": [
      "\u001b[32m[1104 17:55:19 @base.py:285]\u001b[0m Epoch 853 (global_step 179129) finished, time:6.75 seconds.\n",
      "\u001b[32m[1104 17:55:19 @saver.py:79]\u001b[0m Model saved to ../output/Chicago/WGGP_WI_new3/model\\model-179129.\n"
     ]
    },
    {
     "name": "stderr",
     "output_type": "stream",
     "text": [
      "\n"
     ]
    },
    {
     "name": "stdout",
     "output_type": "stream",
     "text": [
      "\u001b[32m[1104 17:55:19 @monitor.py:467]\u001b[0m GAN_loss/d_loss: -2.1513\n",
      "\u001b[32m[1104 17:55:19 @monitor.py:467]\u001b[0m GAN_loss/g_loss: -0.61995\n",
      "\u001b[32m[1104 17:55:19 @monitor.py:467]\u001b[0m GAN_loss/gradient_penalty: 0.018111\n",
      "\u001b[32m[1104 17:55:19 @monitor.py:467]\u001b[0m GAN_loss/gradient_rms: 1.0058\n",
      "\u001b[32m[1104 17:55:19 @monitor.py:467]\u001b[0m GAN_loss/kl_div: 0.082745\n",
      "\u001b[32m[1104 17:55:19 @monitor.py:467]\u001b[0m QueueInput/queue_size: 50\n",
      "\u001b[32m[1104 17:55:19 @base.py:275]\u001b[0m Start Epoch 854 ...\n"
     ]
    },
    {
     "name": "stderr",
     "output_type": "stream",
     "text": [
      "100%|###################################################################################|175/175[00:06<00:00,26.83it/s]"
     ]
    },
    {
     "name": "stdout",
     "output_type": "stream",
     "text": [
      "\u001b[32m[1104 17:55:26 @base.py:285]\u001b[0m Epoch 854 (global_step 179339) finished, time:6.52 seconds.\n",
      "\u001b[32m[1104 17:55:26 @saver.py:79]\u001b[0m Model saved to ../output/Chicago/WGGP_WI_new3/model\\model-179339.\n"
     ]
    },
    {
     "name": "stderr",
     "output_type": "stream",
     "text": [
      "\n"
     ]
    },
    {
     "name": "stdout",
     "output_type": "stream",
     "text": [
      "\u001b[32m[1104 17:55:26 @monitor.py:467]\u001b[0m GAN_loss/d_loss: -2.0643\n",
      "\u001b[32m[1104 17:55:26 @monitor.py:467]\u001b[0m GAN_loss/g_loss: -0.5962\n",
      "\u001b[32m[1104 17:55:26 @monitor.py:467]\u001b[0m GAN_loss/gradient_penalty: 0.017325\n",
      "\u001b[32m[1104 17:55:26 @monitor.py:467]\u001b[0m GAN_loss/gradient_rms: 1.0036\n",
      "\u001b[32m[1104 17:55:26 @monitor.py:467]\u001b[0m GAN_loss/kl_div: 0.082371\n",
      "\u001b[32m[1104 17:55:26 @monitor.py:467]\u001b[0m QueueInput/queue_size: 50\n",
      "\u001b[32m[1104 17:55:26 @base.py:275]\u001b[0m Start Epoch 855 ...\n"
     ]
    },
    {
     "name": "stderr",
     "output_type": "stream",
     "text": [
      "100%|###################################################################################|175/175[00:06<00:00,26.78it/s]"
     ]
    },
    {
     "name": "stdout",
     "output_type": "stream",
     "text": [
      "\u001b[32m[1104 17:55:33 @base.py:285]\u001b[0m Epoch 855 (global_step 179549) finished, time:6.53 seconds.\n",
      "\u001b[32m[1104 17:55:33 @saver.py:79]\u001b[0m Model saved to ../output/Chicago/WGGP_WI_new3/model\\model-179549.\n"
     ]
    },
    {
     "name": "stderr",
     "output_type": "stream",
     "text": [
      "\n"
     ]
    },
    {
     "name": "stdout",
     "output_type": "stream",
     "text": [
      "\u001b[32m[1104 17:55:33 @monitor.py:467]\u001b[0m GAN_loss/d_loss: -1.9852\n",
      "\u001b[32m[1104 17:55:33 @monitor.py:467]\u001b[0m GAN_loss/g_loss: -0.5467\n",
      "\u001b[32m[1104 17:55:33 @monitor.py:467]\u001b[0m GAN_loss/gradient_penalty: 0.017208\n",
      "\u001b[32m[1104 17:55:33 @monitor.py:467]\u001b[0m GAN_loss/gradient_rms: 1.0049\n",
      "\u001b[32m[1104 17:55:33 @monitor.py:467]\u001b[0m GAN_loss/kl_div: 0.073579\n",
      "\u001b[32m[1104 17:55:33 @monitor.py:467]\u001b[0m QueueInput/queue_size: 50\n",
      "\u001b[32m[1104 17:55:33 @base.py:275]\u001b[0m Start Epoch 856 ...\n"
     ]
    },
    {
     "name": "stderr",
     "output_type": "stream",
     "text": [
      "100%|###################################################################################|175/175[00:06<00:00,26.74it/s]"
     ]
    },
    {
     "name": "stdout",
     "output_type": "stream",
     "text": [
      "\u001b[32m[1104 17:55:40 @base.py:285]\u001b[0m Epoch 856 (global_step 179759) finished, time:6.54 seconds.\n"
     ]
    },
    {
     "name": "stderr",
     "output_type": "stream",
     "text": [
      "\n"
     ]
    },
    {
     "name": "stdout",
     "output_type": "stream",
     "text": [
      "\u001b[32m[1104 17:55:40 @saver.py:79]\u001b[0m Model saved to ../output/Chicago/WGGP_WI_new3/model\\model-179759.\n",
      "\u001b[32m[1104 17:55:40 @monitor.py:467]\u001b[0m GAN_loss/d_loss: -2.1822\n",
      "\u001b[32m[1104 17:55:40 @monitor.py:467]\u001b[0m GAN_loss/g_loss: -0.53508\n",
      "\u001b[32m[1104 17:55:40 @monitor.py:467]\u001b[0m GAN_loss/gradient_penalty: 0.016429\n",
      "\u001b[32m[1104 17:55:40 @monitor.py:467]\u001b[0m GAN_loss/gradient_rms: 1.0021\n",
      "\u001b[32m[1104 17:55:40 @monitor.py:467]\u001b[0m GAN_loss/kl_div: 0.080581\n",
      "\u001b[32m[1104 17:55:40 @monitor.py:467]\u001b[0m QueueInput/queue_size: 50\n",
      "\u001b[32m[1104 17:55:40 @base.py:275]\u001b[0m Start Epoch 857 ...\n"
     ]
    },
    {
     "name": "stderr",
     "output_type": "stream",
     "text": [
      "100%|###################################################################################|175/175[00:06<00:00,26.71it/s]"
     ]
    },
    {
     "name": "stdout",
     "output_type": "stream",
     "text": [
      "\u001b[32m[1104 17:55:46 @base.py:285]\u001b[0m Epoch 857 (global_step 179969) finished, time:6.55 seconds.\n"
     ]
    },
    {
     "name": "stderr",
     "output_type": "stream",
     "text": [
      "\n"
     ]
    },
    {
     "name": "stdout",
     "output_type": "stream",
     "text": [
      "\u001b[32m[1104 17:55:46 @saver.py:79]\u001b[0m Model saved to ../output/Chicago/WGGP_WI_new3/model\\model-179969.\n",
      "\u001b[32m[1104 17:55:47 @monitor.py:467]\u001b[0m GAN_loss/d_loss: -2.5101\n",
      "\u001b[32m[1104 17:55:47 @monitor.py:467]\u001b[0m GAN_loss/g_loss: -0.52915\n",
      "\u001b[32m[1104 17:55:47 @monitor.py:467]\u001b[0m GAN_loss/gradient_penalty: 0.017707\n",
      "\u001b[32m[1104 17:55:47 @monitor.py:467]\u001b[0m GAN_loss/gradient_rms: 1.0042\n",
      "\u001b[32m[1104 17:55:47 @monitor.py:467]\u001b[0m GAN_loss/kl_div: 0.07545\n",
      "\u001b[32m[1104 17:55:47 @monitor.py:467]\u001b[0m QueueInput/queue_size: 50\n",
      "\u001b[32m[1104 17:55:47 @base.py:275]\u001b[0m Start Epoch 858 ...\n"
     ]
    },
    {
     "name": "stderr",
     "output_type": "stream",
     "text": [
      "100%|###################################################################################|175/175[00:06<00:00,26.77it/s]"
     ]
    },
    {
     "name": "stdout",
     "output_type": "stream",
     "text": [
      "\u001b[32m[1104 17:55:53 @base.py:285]\u001b[0m Epoch 858 (global_step 180179) finished, time:6.54 seconds.\n",
      "\u001b[32m[1104 17:55:53 @saver.py:79]\u001b[0m Model saved to ../output/Chicago/WGGP_WI_new3/model\\model-180179.\n"
     ]
    },
    {
     "name": "stderr",
     "output_type": "stream",
     "text": [
      "\n"
     ]
    },
    {
     "name": "stdout",
     "output_type": "stream",
     "text": [
      "\u001b[32m[1104 17:55:53 @monitor.py:467]\u001b[0m GAN_loss/d_loss: -2.3809\n",
      "\u001b[32m[1104 17:55:53 @monitor.py:467]\u001b[0m GAN_loss/g_loss: -0.48127\n",
      "\u001b[32m[1104 17:55:53 @monitor.py:467]\u001b[0m GAN_loss/gradient_penalty: 0.018662\n",
      "\u001b[32m[1104 17:55:53 @monitor.py:467]\u001b[0m GAN_loss/gradient_rms: 1.001\n",
      "\u001b[32m[1104 17:55:53 @monitor.py:467]\u001b[0m GAN_loss/kl_div: 0.088169\n",
      "\u001b[32m[1104 17:55:53 @monitor.py:467]\u001b[0m QueueInput/queue_size: 50\n",
      "\u001b[32m[1104 17:55:53 @base.py:275]\u001b[0m Start Epoch 859 ...\n"
     ]
    },
    {
     "name": "stderr",
     "output_type": "stream",
     "text": [
      "100%|###################################################################################|175/175[00:06<00:00,26.70it/s]"
     ]
    },
    {
     "name": "stdout",
     "output_type": "stream",
     "text": [
      "\u001b[32m[1104 17:56:00 @base.py:285]\u001b[0m Epoch 859 (global_step 180389) finished, time:6.56 seconds.\n",
      "\u001b[32m[1104 17:56:00 @saver.py:79]\u001b[0m Model saved to ../output/Chicago/WGGP_WI_new3/model\\model-180389.\n"
     ]
    },
    {
     "name": "stderr",
     "output_type": "stream",
     "text": [
      "\n"
     ]
    },
    {
     "name": "stdout",
     "output_type": "stream",
     "text": [
      "\u001b[32m[1104 17:56:00 @monitor.py:467]\u001b[0m GAN_loss/d_loss: -2.152\n",
      "\u001b[32m[1104 17:56:00 @monitor.py:467]\u001b[0m GAN_loss/g_loss: -0.44654\n",
      "\u001b[32m[1104 17:56:00 @monitor.py:467]\u001b[0m GAN_loss/gradient_penalty: 0.017732\n",
      "\u001b[32m[1104 17:56:00 @monitor.py:467]\u001b[0m GAN_loss/gradient_rms: 1.0028\n",
      "\u001b[32m[1104 17:56:00 @monitor.py:467]\u001b[0m GAN_loss/kl_div: 0.076327\n",
      "\u001b[32m[1104 17:56:00 @monitor.py:467]\u001b[0m QueueInput/queue_size: 50\n",
      "\u001b[32m[1104 17:56:00 @base.py:275]\u001b[0m Start Epoch 860 ...\n"
     ]
    },
    {
     "name": "stderr",
     "output_type": "stream",
     "text": [
      "100%|###################################################################################|175/175[00:06<00:00,26.68it/s]"
     ]
    },
    {
     "name": "stdout",
     "output_type": "stream",
     "text": [
      "\u001b[32m[1104 17:56:07 @base.py:285]\u001b[0m Epoch 860 (global_step 180599) finished, time:6.56 seconds.\n",
      "\u001b[32m[1104 17:56:07 @saver.py:79]\u001b[0m Model saved to ../output/Chicago/WGGP_WI_new3/model\\model-180599.\n"
     ]
    },
    {
     "name": "stderr",
     "output_type": "stream",
     "text": [
      "\n"
     ]
    },
    {
     "name": "stdout",
     "output_type": "stream",
     "text": [
      "\u001b[32m[1104 17:56:07 @monitor.py:467]\u001b[0m GAN_loss/d_loss: -1.7949\n",
      "\u001b[32m[1104 17:56:07 @monitor.py:467]\u001b[0m GAN_loss/g_loss: -0.40653\n",
      "\u001b[32m[1104 17:56:07 @monitor.py:467]\u001b[0m GAN_loss/gradient_penalty: 0.016751\n",
      "\u001b[32m[1104 17:56:07 @monitor.py:467]\u001b[0m GAN_loss/gradient_rms: 1.0036\n",
      "\u001b[32m[1104 17:56:07 @monitor.py:467]\u001b[0m GAN_loss/kl_div: 0.083636\n",
      "\u001b[32m[1104 17:56:07 @monitor.py:467]\u001b[0m QueueInput/queue_size: 50\n",
      "\u001b[32m[1104 17:56:07 @base.py:275]\u001b[0m Start Epoch 861 ...\n"
     ]
    },
    {
     "name": "stderr",
     "output_type": "stream",
     "text": [
      "100%|###################################################################################|175/175[00:06<00:00,26.81it/s]"
     ]
    },
    {
     "name": "stdout",
     "output_type": "stream",
     "text": [
      "\u001b[32m[1104 17:56:14 @base.py:285]\u001b[0m Epoch 861 (global_step 180809) finished, time:6.53 seconds.\n",
      "\u001b[32m[1104 17:56:14 @saver.py:79]\u001b[0m Model saved to ../output/Chicago/WGGP_WI_new3/model\\model-180809.\n"
     ]
    },
    {
     "name": "stderr",
     "output_type": "stream",
     "text": [
      "\n"
     ]
    },
    {
     "name": "stdout",
     "output_type": "stream",
     "text": [
      "\u001b[32m[1104 17:56:14 @monitor.py:467]\u001b[0m GAN_loss/d_loss: -1.4796\n",
      "\u001b[32m[1104 17:56:14 @monitor.py:467]\u001b[0m GAN_loss/g_loss: -0.37923\n",
      "\u001b[32m[1104 17:56:14 @monitor.py:467]\u001b[0m GAN_loss/gradient_penalty: 0.01499\n",
      "\u001b[32m[1104 17:56:14 @monitor.py:467]\u001b[0m GAN_loss/gradient_rms: 1.001\n",
      "\u001b[32m[1104 17:56:14 @monitor.py:467]\u001b[0m GAN_loss/kl_div: 0.093189\n",
      "\u001b[32m[1104 17:56:14 @monitor.py:467]\u001b[0m QueueInput/queue_size: 50\n",
      "\u001b[32m[1104 17:56:14 @base.py:275]\u001b[0m Start Epoch 862 ...\n"
     ]
    },
    {
     "name": "stderr",
     "output_type": "stream",
     "text": [
      "100%|###################################################################################|175/175[00:06<00:00,26.86it/s]"
     ]
    },
    {
     "name": "stdout",
     "output_type": "stream",
     "text": [
      "\u001b[32m[1104 17:56:20 @base.py:285]\u001b[0m Epoch 862 (global_step 181019) finished, time:6.52 seconds.\n",
      "\u001b[32m[1104 17:56:20 @saver.py:79]\u001b[0m Model saved to ../output/Chicago/WGGP_WI_new3/model\\model-181019.\n"
     ]
    },
    {
     "name": "stderr",
     "output_type": "stream",
     "text": [
      "\n"
     ]
    },
    {
     "name": "stdout",
     "output_type": "stream",
     "text": [
      "\u001b[32m[1104 17:56:21 @monitor.py:467]\u001b[0m GAN_loss/d_loss: -1.3079\n",
      "\u001b[32m[1104 17:56:21 @monitor.py:467]\u001b[0m GAN_loss/g_loss: -0.34703\n",
      "\u001b[32m[1104 17:56:21 @monitor.py:467]\u001b[0m GAN_loss/gradient_penalty: 0.014539\n",
      "\u001b[32m[1104 17:56:21 @monitor.py:467]\u001b[0m GAN_loss/gradient_rms: 1.0015\n",
      "\u001b[32m[1104 17:56:21 @monitor.py:467]\u001b[0m GAN_loss/kl_div: 0.081534\n",
      "\u001b[32m[1104 17:56:21 @monitor.py:467]\u001b[0m QueueInput/queue_size: 50\n",
      "\u001b[32m[1104 17:56:21 @base.py:275]\u001b[0m Start Epoch 863 ...\n"
     ]
    },
    {
     "name": "stderr",
     "output_type": "stream",
     "text": [
      "100%|###################################################################################|175/175[00:06<00:00,26.79it/s]"
     ]
    },
    {
     "name": "stdout",
     "output_type": "stream",
     "text": [
      "\u001b[32m[1104 17:56:27 @base.py:285]\u001b[0m Epoch 863 (global_step 181229) finished, time:6.53 seconds.\n"
     ]
    },
    {
     "name": "stderr",
     "output_type": "stream",
     "text": [
      "\n"
     ]
    },
    {
     "name": "stdout",
     "output_type": "stream",
     "text": [
      "\u001b[32m[1104 17:56:27 @saver.py:79]\u001b[0m Model saved to ../output/Chicago/WGGP_WI_new3/model\\model-181229.\n",
      "\u001b[32m[1104 17:56:27 @monitor.py:467]\u001b[0m GAN_loss/d_loss: -1.2252\n",
      "\u001b[32m[1104 17:56:27 @monitor.py:467]\u001b[0m GAN_loss/g_loss: -0.29167\n",
      "\u001b[32m[1104 17:56:27 @monitor.py:467]\u001b[0m GAN_loss/gradient_penalty: 0.013271\n",
      "\u001b[32m[1104 17:56:27 @monitor.py:467]\u001b[0m GAN_loss/gradient_rms: 1.0006\n",
      "\u001b[32m[1104 17:56:27 @monitor.py:467]\u001b[0m GAN_loss/kl_div: 0.087915\n",
      "\u001b[32m[1104 17:56:27 @monitor.py:467]\u001b[0m QueueInput/queue_size: 50\n",
      "\u001b[32m[1104 17:56:27 @base.py:275]\u001b[0m Start Epoch 864 ...\n"
     ]
    },
    {
     "name": "stderr",
     "output_type": "stream",
     "text": [
      "100%|###################################################################################|175/175[00:06<00:00,26.70it/s]"
     ]
    },
    {
     "name": "stdout",
     "output_type": "stream",
     "text": [
      "\u001b[32m[1104 17:56:34 @base.py:285]\u001b[0m Epoch 864 (global_step 181439) finished, time:6.56 seconds.\n",
      "\u001b[32m[1104 17:56:34 @saver.py:79]\u001b[0m Model saved to ../output/Chicago/WGGP_WI_new3/model\\model-181439.\n"
     ]
    },
    {
     "name": "stderr",
     "output_type": "stream",
     "text": [
      "\n"
     ]
    },
    {
     "name": "stdout",
     "output_type": "stream",
     "text": [
      "\u001b[32m[1104 17:56:34 @monitor.py:467]\u001b[0m GAN_loss/d_loss: -1.0209\n",
      "\u001b[32m[1104 17:56:34 @monitor.py:467]\u001b[0m GAN_loss/g_loss: -0.22732\n",
      "\u001b[32m[1104 17:56:34 @monitor.py:467]\u001b[0m GAN_loss/gradient_penalty: 0.013361\n",
      "\u001b[32m[1104 17:56:34 @monitor.py:467]\u001b[0m GAN_loss/gradient_rms: 0.99643\n",
      "\u001b[32m[1104 17:56:34 @monitor.py:467]\u001b[0m GAN_loss/kl_div: 0.087696\n",
      "\u001b[32m[1104 17:56:34 @monitor.py:467]\u001b[0m QueueInput/queue_size: 50\n",
      "\u001b[32m[1104 17:56:34 @base.py:275]\u001b[0m Start Epoch 865 ...\n"
     ]
    },
    {
     "name": "stderr",
     "output_type": "stream",
     "text": [
      "100%|###################################################################################|175/175[00:06<00:00,26.70it/s]"
     ]
    },
    {
     "name": "stdout",
     "output_type": "stream",
     "text": [
      "\u001b[32m[1104 17:56:41 @base.py:285]\u001b[0m Epoch 865 (global_step 181649) finished, time:6.55 seconds.\n"
     ]
    },
    {
     "name": "stderr",
     "output_type": "stream",
     "text": [
      "\n"
     ]
    },
    {
     "name": "stdout",
     "output_type": "stream",
     "text": [
      "\u001b[32m[1104 17:56:41 @saver.py:79]\u001b[0m Model saved to ../output/Chicago/WGGP_WI_new3/model\\model-181649.\n",
      "\u001b[32m[1104 17:56:41 @monitor.py:467]\u001b[0m GAN_loss/d_loss: -0.82425\n",
      "\u001b[32m[1104 17:56:41 @monitor.py:467]\u001b[0m GAN_loss/g_loss: -0.16605\n",
      "\u001b[32m[1104 17:56:41 @monitor.py:467]\u001b[0m GAN_loss/gradient_penalty: 0.0126\n",
      "\u001b[32m[1104 17:56:41 @monitor.py:467]\u001b[0m GAN_loss/gradient_rms: 0.99801\n",
      "\u001b[32m[1104 17:56:41 @monitor.py:467]\u001b[0m GAN_loss/kl_div: 0.079545\n",
      "\u001b[32m[1104 17:56:41 @monitor.py:467]\u001b[0m QueueInput/queue_size: 50\n",
      "\u001b[32m[1104 17:56:41 @base.py:275]\u001b[0m Start Epoch 866 ...\n"
     ]
    },
    {
     "name": "stderr",
     "output_type": "stream",
     "text": [
      "100%|###################################################################################|175/175[00:06<00:00,26.71it/s]"
     ]
    },
    {
     "name": "stdout",
     "output_type": "stream",
     "text": [
      "\u001b[32m[1104 17:56:48 @base.py:285]\u001b[0m Epoch 866 (global_step 181859) finished, time:6.55 seconds.\n"
     ]
    },
    {
     "name": "stderr",
     "output_type": "stream",
     "text": [
      "\n"
     ]
    },
    {
     "name": "stdout",
     "output_type": "stream",
     "text": [
      "\u001b[32m[1104 17:56:48 @saver.py:79]\u001b[0m Model saved to ../output/Chicago/WGGP_WI_new3/model\\model-181859.\n",
      "\u001b[32m[1104 17:56:48 @monitor.py:467]\u001b[0m GAN_loss/d_loss: -0.89647\n",
      "\u001b[32m[1104 17:56:48 @monitor.py:467]\u001b[0m GAN_loss/g_loss: -0.066509\n",
      "\u001b[32m[1104 17:56:48 @monitor.py:467]\u001b[0m GAN_loss/gradient_penalty: 0.011661\n",
      "\u001b[32m[1104 17:56:48 @monitor.py:467]\u001b[0m GAN_loss/gradient_rms: 0.99706\n",
      "\u001b[32m[1104 17:56:48 @monitor.py:467]\u001b[0m GAN_loss/kl_div: 0.083401\n",
      "\u001b[32m[1104 17:56:48 @monitor.py:467]\u001b[0m QueueInput/queue_size: 50\n",
      "\u001b[32m[1104 17:56:48 @base.py:275]\u001b[0m Start Epoch 867 ...\n"
     ]
    },
    {
     "name": "stderr",
     "output_type": "stream",
     "text": [
      "100%|###################################################################################|175/175[00:06<00:00,26.81it/s]"
     ]
    },
    {
     "name": "stdout",
     "output_type": "stream",
     "text": [
      "\u001b[32m[1104 17:56:54 @base.py:285]\u001b[0m Epoch 867 (global_step 182069) finished, time:6.53 seconds.\n",
      "\u001b[32m[1104 17:56:54 @saver.py:79]\u001b[0m Model saved to ../output/Chicago/WGGP_WI_new3/model\\model-182069.\n"
     ]
    },
    {
     "name": "stderr",
     "output_type": "stream",
     "text": [
      "\n"
     ]
    },
    {
     "name": "stdout",
     "output_type": "stream",
     "text": [
      "\u001b[32m[1104 17:56:55 @monitor.py:467]\u001b[0m GAN_loss/d_loss: -1.206\n",
      "\u001b[32m[1104 17:56:55 @monitor.py:467]\u001b[0m GAN_loss/g_loss: 0.016635\n",
      "\u001b[32m[1104 17:56:55 @monitor.py:467]\u001b[0m GAN_loss/gradient_penalty: 0.012545\n",
      "\u001b[32m[1104 17:56:55 @monitor.py:467]\u001b[0m GAN_loss/gradient_rms: 1.0018\n",
      "\u001b[32m[1104 17:56:55 @monitor.py:467]\u001b[0m GAN_loss/kl_div: 0.085019\n",
      "\u001b[32m[1104 17:56:55 @monitor.py:467]\u001b[0m QueueInput/queue_size: 50\n",
      "\u001b[32m[1104 17:56:55 @base.py:275]\u001b[0m Start Epoch 868 ...\n"
     ]
    },
    {
     "name": "stderr",
     "output_type": "stream",
     "text": [
      "100%|###################################################################################|175/175[00:06<00:00,26.65it/s]"
     ]
    },
    {
     "name": "stdout",
     "output_type": "stream",
     "text": [
      "\u001b[32m[1104 17:57:01 @base.py:285]\u001b[0m Epoch 868 (global_step 182279) finished, time:6.57 seconds.\n",
      "\u001b[32m[1104 17:57:01 @saver.py:79]\u001b[0m Model saved to ../output/Chicago/WGGP_WI_new3/model\\model-182279.\n"
     ]
    },
    {
     "name": "stderr",
     "output_type": "stream",
     "text": [
      "\n"
     ]
    },
    {
     "name": "stdout",
     "output_type": "stream",
     "text": [
      "\u001b[32m[1104 17:57:01 @monitor.py:467]\u001b[0m GAN_loss/d_loss: -1.6808\n",
      "\u001b[32m[1104 17:57:01 @monitor.py:467]\u001b[0m GAN_loss/g_loss: 0.029986\n",
      "\u001b[32m[1104 17:57:01 @monitor.py:467]\u001b[0m GAN_loss/gradient_penalty: 0.013423\n",
      "\u001b[32m[1104 17:57:01 @monitor.py:467]\u001b[0m GAN_loss/gradient_rms: 1.0018\n",
      "\u001b[32m[1104 17:57:01 @monitor.py:467]\u001b[0m GAN_loss/kl_div: 0.079851\n",
      "\u001b[32m[1104 17:57:01 @monitor.py:467]\u001b[0m QueueInput/queue_size: 50\n",
      "\u001b[32m[1104 17:57:01 @base.py:275]\u001b[0m Start Epoch 869 ...\n"
     ]
    },
    {
     "name": "stderr",
     "output_type": "stream",
     "text": [
      "100%|###################################################################################|175/175[00:06<00:00,26.76it/s]"
     ]
    },
    {
     "name": "stdout",
     "output_type": "stream",
     "text": [
      "\u001b[32m[1104 17:57:08 @base.py:285]\u001b[0m Epoch 869 (global_step 182489) finished, time:6.54 seconds.\n",
      "\u001b[32m[1104 17:57:08 @saver.py:79]\u001b[0m Model saved to ../output/Chicago/WGGP_WI_new3/model\\model-182489.\n"
     ]
    },
    {
     "name": "stderr",
     "output_type": "stream",
     "text": [
      "\n"
     ]
    },
    {
     "name": "stdout",
     "output_type": "stream",
     "text": [
      "\u001b[32m[1104 17:57:08 @monitor.py:467]\u001b[0m GAN_loss/d_loss: -1.6678\n",
      "\u001b[32m[1104 17:57:08 @monitor.py:467]\u001b[0m GAN_loss/g_loss: 0.068588\n",
      "\u001b[32m[1104 17:57:08 @monitor.py:467]\u001b[0m GAN_loss/gradient_penalty: 0.013836\n",
      "\u001b[32m[1104 17:57:08 @monitor.py:467]\u001b[0m GAN_loss/gradient_rms: 1.0025\n",
      "\u001b[32m[1104 17:57:08 @monitor.py:467]\u001b[0m GAN_loss/kl_div: 0.077047\n",
      "\u001b[32m[1104 17:57:08 @monitor.py:467]\u001b[0m QueueInput/queue_size: 50\n",
      "\u001b[32m[1104 17:57:08 @base.py:275]\u001b[0m Start Epoch 870 ...\n"
     ]
    },
    {
     "name": "stderr",
     "output_type": "stream",
     "text": [
      "100%|###################################################################################|175/175[00:06<00:00,26.97it/s]"
     ]
    },
    {
     "name": "stdout",
     "output_type": "stream",
     "text": [
      "\u001b[32m[1104 17:57:15 @base.py:285]\u001b[0m Epoch 870 (global_step 182699) finished, time:6.49 seconds.\n",
      "\u001b[32m[1104 17:57:15 @saver.py:79]\u001b[0m Model saved to ../output/Chicago/WGGP_WI_new3/model\\model-182699.\n"
     ]
    },
    {
     "name": "stderr",
     "output_type": "stream",
     "text": [
      "\n"
     ]
    },
    {
     "name": "stdout",
     "output_type": "stream",
     "text": [
      "\u001b[32m[1104 17:57:15 @monitor.py:467]\u001b[0m GAN_loss/d_loss: -1.2215\n",
      "\u001b[32m[1104 17:57:15 @monitor.py:467]\u001b[0m GAN_loss/g_loss: 0.1107\n",
      "\u001b[32m[1104 17:57:15 @monitor.py:467]\u001b[0m GAN_loss/gradient_penalty: 0.013375\n",
      "\u001b[32m[1104 17:57:15 @monitor.py:467]\u001b[0m GAN_loss/gradient_rms: 0.99931\n",
      "\u001b[32m[1104 17:57:15 @monitor.py:467]\u001b[0m GAN_loss/kl_div: 0.091096\n",
      "\u001b[32m[1104 17:57:15 @monitor.py:467]\u001b[0m QueueInput/queue_size: 50\n",
      "\u001b[32m[1104 17:57:15 @base.py:275]\u001b[0m Start Epoch 871 ...\n"
     ]
    },
    {
     "name": "stderr",
     "output_type": "stream",
     "text": [
      "100%|###################################################################################|175/175[00:06<00:00,26.76it/s]"
     ]
    },
    {
     "name": "stdout",
     "output_type": "stream",
     "text": [
      "\u001b[32m[1104 17:57:21 @base.py:285]\u001b[0m Epoch 871 (global_step 182909) finished, time:6.54 seconds.\n",
      "\u001b[32m[1104 17:57:22 @saver.py:79]\u001b[0m Model saved to ../output/Chicago/WGGP_WI_new3/model\\model-182909.\n"
     ]
    },
    {
     "name": "stderr",
     "output_type": "stream",
     "text": [
      "\n"
     ]
    },
    {
     "name": "stdout",
     "output_type": "stream",
     "text": [
      "\u001b[32m[1104 17:57:22 @monitor.py:467]\u001b[0m GAN_loss/d_loss: -1.1797\n",
      "\u001b[32m[1104 17:57:22 @monitor.py:467]\u001b[0m GAN_loss/g_loss: 0.13163\n",
      "\u001b[32m[1104 17:57:22 @monitor.py:467]\u001b[0m GAN_loss/gradient_penalty: 0.012745\n",
      "\u001b[32m[1104 17:57:22 @monitor.py:467]\u001b[0m GAN_loss/gradient_rms: 1.0016\n",
      "\u001b[32m[1104 17:57:22 @monitor.py:467]\u001b[0m GAN_loss/kl_div: 0.089648\n",
      "\u001b[32m[1104 17:57:22 @monitor.py:467]\u001b[0m QueueInput/queue_size: 50\n",
      "\u001b[32m[1104 17:57:22 @base.py:275]\u001b[0m Start Epoch 872 ...\n"
     ]
    },
    {
     "name": "stderr",
     "output_type": "stream",
     "text": [
      "100%|###################################################################################|175/175[00:06<00:00,26.88it/s]"
     ]
    },
    {
     "name": "stdout",
     "output_type": "stream",
     "text": [
      "\u001b[32m[1104 17:57:28 @base.py:285]\u001b[0m Epoch 872 (global_step 183119) finished, time:6.51 seconds.\n"
     ]
    },
    {
     "name": "stderr",
     "output_type": "stream",
     "text": [
      "\n"
     ]
    },
    {
     "name": "stdout",
     "output_type": "stream",
     "text": [
      "\u001b[32m[1104 17:57:28 @saver.py:79]\u001b[0m Model saved to ../output/Chicago/WGGP_WI_new3/model\\model-183119.\n",
      "\u001b[32m[1104 17:57:28 @monitor.py:467]\u001b[0m GAN_loss/d_loss: -1.2619\n",
      "\u001b[32m[1104 17:57:28 @monitor.py:467]\u001b[0m GAN_loss/g_loss: 0.15499\n",
      "\u001b[32m[1104 17:57:28 @monitor.py:467]\u001b[0m GAN_loss/gradient_penalty: 0.011876\n",
      "\u001b[32m[1104 17:57:28 @monitor.py:467]\u001b[0m GAN_loss/gradient_rms: 1.0017\n",
      "\u001b[32m[1104 17:57:28 @monitor.py:467]\u001b[0m GAN_loss/kl_div: 0.095291\n",
      "\u001b[32m[1104 17:57:28 @monitor.py:467]\u001b[0m QueueInput/queue_size: 50\n",
      "\u001b[32m[1104 17:57:28 @base.py:275]\u001b[0m Start Epoch 873 ...\n"
     ]
    },
    {
     "name": "stderr",
     "output_type": "stream",
     "text": [
      "100%|###################################################################################|175/175[00:06<00:00,26.64it/s]"
     ]
    },
    {
     "name": "stdout",
     "output_type": "stream",
     "text": [
      "\u001b[32m[1104 17:57:35 @base.py:285]\u001b[0m Epoch 873 (global_step 183329) finished, time:6.57 seconds.\n",
      "\u001b[32m[1104 17:57:35 @saver.py:79]\u001b[0m Model saved to ../output/Chicago/WGGP_WI_new3/model\\model-183329.\n"
     ]
    },
    {
     "name": "stderr",
     "output_type": "stream",
     "text": [
      "\n"
     ]
    },
    {
     "name": "stdout",
     "output_type": "stream",
     "text": [
      "\u001b[32m[1104 17:57:35 @monitor.py:467]\u001b[0m GAN_loss/d_loss: -1.3839\n",
      "\u001b[32m[1104 17:57:35 @monitor.py:467]\u001b[0m GAN_loss/g_loss: 0.15334\n",
      "\u001b[32m[1104 17:57:35 @monitor.py:467]\u001b[0m GAN_loss/gradient_penalty: 0.01203\n",
      "\u001b[32m[1104 17:57:35 @monitor.py:467]\u001b[0m GAN_loss/gradient_rms: 0.99987\n",
      "\u001b[32m[1104 17:57:35 @monitor.py:467]\u001b[0m GAN_loss/kl_div: 0.094019\n",
      "\u001b[32m[1104 17:57:35 @monitor.py:467]\u001b[0m QueueInput/queue_size: 50\n",
      "\u001b[32m[1104 17:57:35 @base.py:275]\u001b[0m Start Epoch 874 ...\n"
     ]
    },
    {
     "name": "stderr",
     "output_type": "stream",
     "text": [
      "100%|###################################################################################|175/175[00:06<00:00,26.57it/s]"
     ]
    },
    {
     "name": "stdout",
     "output_type": "stream",
     "text": [
      "\u001b[32m[1104 17:57:42 @base.py:285]\u001b[0m Epoch 874 (global_step 183539) finished, time:6.59 seconds.\n",
      "\u001b[32m[1104 17:57:42 @saver.py:79]\u001b[0m Model saved to ../output/Chicago/WGGP_WI_new3/model\\model-183539.\n"
     ]
    },
    {
     "name": "stderr",
     "output_type": "stream",
     "text": [
      "\n"
     ]
    },
    {
     "name": "stdout",
     "output_type": "stream",
     "text": [
      "\u001b[32m[1104 17:57:42 @monitor.py:467]\u001b[0m GAN_loss/d_loss: -1.85\n",
      "\u001b[32m[1104 17:57:42 @monitor.py:467]\u001b[0m GAN_loss/g_loss: 0.13486\n",
      "\u001b[32m[1104 17:57:42 @monitor.py:467]\u001b[0m GAN_loss/gradient_penalty: 0.012782\n",
      "\u001b[32m[1104 17:57:42 @monitor.py:467]\u001b[0m GAN_loss/gradient_rms: 1.0036\n",
      "\u001b[32m[1104 17:57:42 @monitor.py:467]\u001b[0m GAN_loss/kl_div: 0.082296\n",
      "\u001b[32m[1104 17:57:42 @monitor.py:467]\u001b[0m QueueInput/queue_size: 50\n",
      "\u001b[32m[1104 17:57:42 @base.py:275]\u001b[0m Start Epoch 875 ...\n"
     ]
    },
    {
     "name": "stderr",
     "output_type": "stream",
     "text": [
      "100%|###################################################################################|175/175[00:06<00:00,26.72it/s]"
     ]
    },
    {
     "name": "stdout",
     "output_type": "stream",
     "text": [
      "\u001b[32m[1104 17:57:49 @base.py:285]\u001b[0m Epoch 875 (global_step 183749) finished, time:6.55 seconds.\n",
      "\u001b[32m[1104 17:57:49 @saver.py:79]\u001b[0m Model saved to ../output/Chicago/WGGP_WI_new3/model\\model-183749.\n"
     ]
    },
    {
     "name": "stderr",
     "output_type": "stream",
     "text": [
      "\n"
     ]
    },
    {
     "name": "stdout",
     "output_type": "stream",
     "text": [
      "\u001b[32m[1104 17:57:49 @monitor.py:467]\u001b[0m GAN_loss/d_loss: -2.1164\n",
      "\u001b[32m[1104 17:57:49 @monitor.py:467]\u001b[0m GAN_loss/g_loss: 0.055715\n",
      "\u001b[32m[1104 17:57:49 @monitor.py:467]\u001b[0m GAN_loss/gradient_penalty: 0.013716\n",
      "\u001b[32m[1104 17:57:49 @monitor.py:467]\u001b[0m GAN_loss/gradient_rms: 1.0033\n",
      "\u001b[32m[1104 17:57:49 @monitor.py:467]\u001b[0m GAN_loss/kl_div: 0.095058\n",
      "\u001b[32m[1104 17:57:49 @monitor.py:467]\u001b[0m QueueInput/queue_size: 50\n",
      "\u001b[32m[1104 17:57:49 @base.py:275]\u001b[0m Start Epoch 876 ...\n"
     ]
    },
    {
     "name": "stderr",
     "output_type": "stream",
     "text": [
      "100%|###################################################################################|175/175[00:06<00:00,26.68it/s]"
     ]
    },
    {
     "name": "stdout",
     "output_type": "stream",
     "text": [
      "\u001b[32m[1104 17:57:56 @base.py:285]\u001b[0m Epoch 876 (global_step 183959) finished, time:6.56 seconds.\n",
      "\u001b[32m[1104 17:57:56 @saver.py:79]\u001b[0m Model saved to ../output/Chicago/WGGP_WI_new3/model\\model-183959.\n"
     ]
    },
    {
     "name": "stderr",
     "output_type": "stream",
     "text": [
      "\n"
     ]
    },
    {
     "name": "stdout",
     "output_type": "stream",
     "text": [
      "\u001b[32m[1104 17:57:56 @monitor.py:467]\u001b[0m GAN_loss/d_loss: -1.7048\n",
      "\u001b[32m[1104 17:57:56 @monitor.py:467]\u001b[0m GAN_loss/g_loss: 0.0088958\n",
      "\u001b[32m[1104 17:57:56 @monitor.py:467]\u001b[0m GAN_loss/gradient_penalty: 0.013342\n",
      "\u001b[32m[1104 17:57:56 @monitor.py:467]\u001b[0m GAN_loss/gradient_rms: 1.0049\n",
      "\u001b[32m[1104 17:57:56 @monitor.py:467]\u001b[0m GAN_loss/kl_div: 0.086117\n",
      "\u001b[32m[1104 17:57:56 @monitor.py:467]\u001b[0m QueueInput/queue_size: 50\n",
      "\u001b[32m[1104 17:57:56 @base.py:275]\u001b[0m Start Epoch 877 ...\n"
     ]
    },
    {
     "name": "stderr",
     "output_type": "stream",
     "text": [
      "100%|###################################################################################|175/175[00:06<00:00,26.66it/s]"
     ]
    },
    {
     "name": "stdout",
     "output_type": "stream",
     "text": [
      "\u001b[32m[1104 17:58:02 @base.py:285]\u001b[0m Epoch 877 (global_step 184169) finished, time:6.56 seconds.\n",
      "\u001b[32m[1104 17:58:02 @saver.py:79]\u001b[0m Model saved to ../output/Chicago/WGGP_WI_new3/model\\model-184169.\n"
     ]
    },
    {
     "name": "stderr",
     "output_type": "stream",
     "text": [
      "\n"
     ]
    },
    {
     "name": "stdout",
     "output_type": "stream",
     "text": [
      "\u001b[32m[1104 17:58:03 @monitor.py:467]\u001b[0m GAN_loss/d_loss: -1.9814\n",
      "\u001b[32m[1104 17:58:03 @monitor.py:467]\u001b[0m GAN_loss/g_loss: -0.0094197\n",
      "\u001b[32m[1104 17:58:03 @monitor.py:467]\u001b[0m GAN_loss/gradient_penalty: 0.014371\n",
      "\u001b[32m[1104 17:58:03 @monitor.py:467]\u001b[0m GAN_loss/gradient_rms: 1.0033\n",
      "\u001b[32m[1104 17:58:03 @monitor.py:467]\u001b[0m GAN_loss/kl_div: 0.080581\n",
      "\u001b[32m[1104 17:58:03 @monitor.py:467]\u001b[0m QueueInput/queue_size: 50\n",
      "\u001b[32m[1104 17:58:03 @base.py:275]\u001b[0m Start Epoch 878 ...\n"
     ]
    },
    {
     "name": "stderr",
     "output_type": "stream",
     "text": [
      "100%|###################################################################################|175/175[00:06<00:00,26.81it/s]"
     ]
    },
    {
     "name": "stdout",
     "output_type": "stream",
     "text": [
      "\u001b[32m[1104 17:58:09 @base.py:285]\u001b[0m Epoch 878 (global_step 184379) finished, time:6.53 seconds.\n"
     ]
    },
    {
     "name": "stderr",
     "output_type": "stream",
     "text": [
      "\n"
     ]
    },
    {
     "name": "stdout",
     "output_type": "stream",
     "text": [
      "\u001b[32m[1104 17:58:09 @saver.py:79]\u001b[0m Model saved to ../output/Chicago/WGGP_WI_new3/model\\model-184379.\n",
      "\u001b[32m[1104 17:58:09 @monitor.py:467]\u001b[0m GAN_loss/d_loss: -1.8067\n",
      "\u001b[32m[1104 17:58:09 @monitor.py:467]\u001b[0m GAN_loss/g_loss: -0.033155\n",
      "\u001b[32m[1104 17:58:09 @monitor.py:467]\u001b[0m GAN_loss/gradient_penalty: 0.012946\n",
      "\u001b[32m[1104 17:58:09 @monitor.py:467]\u001b[0m GAN_loss/gradient_rms: 1.0041\n",
      "\u001b[32m[1104 17:58:09 @monitor.py:467]\u001b[0m GAN_loss/kl_div: 0.085904\n",
      "\u001b[32m[1104 17:58:09 @monitor.py:467]\u001b[0m QueueInput/queue_size: 50\n",
      "\u001b[32m[1104 17:58:09 @base.py:275]\u001b[0m Start Epoch 879 ...\n"
     ]
    },
    {
     "name": "stderr",
     "output_type": "stream",
     "text": [
      "100%|###################################################################################|175/175[00:06<00:00,26.82it/s]"
     ]
    },
    {
     "name": "stdout",
     "output_type": "stream",
     "text": [
      "\u001b[32m[1104 17:58:16 @base.py:285]\u001b[0m Epoch 879 (global_step 184589) finished, time:6.53 seconds.\n"
     ]
    },
    {
     "name": "stderr",
     "output_type": "stream",
     "text": [
      "\n"
     ]
    },
    {
     "name": "stdout",
     "output_type": "stream",
     "text": [
      "\u001b[32m[1104 17:58:16 @saver.py:79]\u001b[0m Model saved to ../output/Chicago/WGGP_WI_new3/model\\model-184589.\n",
      "\u001b[32m[1104 17:58:16 @monitor.py:467]\u001b[0m GAN_loss/d_loss: -1.5793\n",
      "\u001b[32m[1104 17:58:16 @monitor.py:467]\u001b[0m GAN_loss/g_loss: -0.041305\n",
      "\u001b[32m[1104 17:58:16 @monitor.py:467]\u001b[0m GAN_loss/gradient_penalty: 0.012211\n",
      "\u001b[32m[1104 17:58:16 @monitor.py:467]\u001b[0m GAN_loss/gradient_rms: 1.0013\n",
      "\u001b[32m[1104 17:58:16 @monitor.py:467]\u001b[0m GAN_loss/kl_div: 0.079425\n",
      "\u001b[32m[1104 17:58:16 @monitor.py:467]\u001b[0m QueueInput/queue_size: 50\n",
      "\u001b[32m[1104 17:58:16 @base.py:275]\u001b[0m Start Epoch 880 ...\n"
     ]
    },
    {
     "name": "stderr",
     "output_type": "stream",
     "text": [
      "100%|###################################################################################|175/175[00:06<00:00,26.69it/s]"
     ]
    },
    {
     "name": "stdout",
     "output_type": "stream",
     "text": [
      "\u001b[32m[1104 17:58:23 @base.py:285]\u001b[0m Epoch 880 (global_step 184799) finished, time:6.56 seconds.\n",
      "\u001b[32m[1104 17:58:23 @saver.py:79]\u001b[0m Model saved to ../output/Chicago/WGGP_WI_new3/model\\model-184799.\n"
     ]
    },
    {
     "name": "stderr",
     "output_type": "stream",
     "text": [
      "\n"
     ]
    },
    {
     "name": "stdout",
     "output_type": "stream",
     "text": [
      "\u001b[32m[1104 17:58:23 @monitor.py:467]\u001b[0m GAN_loss/d_loss: -1.0926\n",
      "\u001b[32m[1104 17:58:23 @monitor.py:467]\u001b[0m GAN_loss/g_loss: -0.074448\n",
      "\u001b[32m[1104 17:58:23 @monitor.py:467]\u001b[0m GAN_loss/gradient_penalty: 0.010943\n",
      "\u001b[32m[1104 17:58:23 @monitor.py:467]\u001b[0m GAN_loss/gradient_rms: 1.001\n",
      "\u001b[32m[1104 17:58:23 @monitor.py:467]\u001b[0m GAN_loss/kl_div: 0.070829\n",
      "\u001b[32m[1104 17:58:23 @monitor.py:467]\u001b[0m QueueInput/queue_size: 50\n",
      "\u001b[32m[1104 17:58:23 @base.py:275]\u001b[0m Start Epoch 881 ...\n"
     ]
    },
    {
     "name": "stderr",
     "output_type": "stream",
     "text": [
      "100%|###################################################################################|175/175[00:06<00:00,26.71it/s]"
     ]
    },
    {
     "name": "stdout",
     "output_type": "stream",
     "text": [
      "\u001b[32m[1104 17:58:30 @base.py:285]\u001b[0m Epoch 881 (global_step 185009) finished, time:6.55 seconds.\n",
      "\u001b[32m[1104 17:58:30 @saver.py:79]\u001b[0m Model saved to ../output/Chicago/WGGP_WI_new3/model\\model-185009.\n"
     ]
    },
    {
     "name": "stderr",
     "output_type": "stream",
     "text": [
      "\n"
     ]
    },
    {
     "name": "stdout",
     "output_type": "stream",
     "text": [
      "\u001b[32m[1104 17:58:30 @monitor.py:467]\u001b[0m GAN_loss/d_loss: -0.95489\n",
      "\u001b[32m[1104 17:58:30 @monitor.py:467]\u001b[0m GAN_loss/g_loss: -0.04334\n",
      "\u001b[32m[1104 17:58:30 @monitor.py:467]\u001b[0m GAN_loss/gradient_penalty: 0.010342\n",
      "\u001b[32m[1104 17:58:30 @monitor.py:467]\u001b[0m GAN_loss/gradient_rms: 1.0016\n",
      "\u001b[32m[1104 17:58:30 @monitor.py:467]\u001b[0m GAN_loss/kl_div: 0.080664\n",
      "\u001b[32m[1104 17:58:30 @monitor.py:467]\u001b[0m QueueInput/queue_size: 50\n",
      "\u001b[32m[1104 17:58:30 @base.py:275]\u001b[0m Start Epoch 882 ...\n"
     ]
    },
    {
     "name": "stderr",
     "output_type": "stream",
     "text": [
      "100%|###################################################################################|175/175[00:06<00:00,26.79it/s]"
     ]
    },
    {
     "name": "stdout",
     "output_type": "stream",
     "text": [
      "\u001b[32m[1104 17:58:36 @base.py:285]\u001b[0m Epoch 882 (global_step 185219) finished, time:6.53 seconds.\n"
     ]
    },
    {
     "name": "stderr",
     "output_type": "stream",
     "text": [
      "\n"
     ]
    },
    {
     "name": "stdout",
     "output_type": "stream",
     "text": [
      "\u001b[32m[1104 17:58:36 @saver.py:79]\u001b[0m Model saved to ../output/Chicago/WGGP_WI_new3/model\\model-185219.\n",
      "\u001b[32m[1104 17:58:37 @monitor.py:467]\u001b[0m GAN_loss/d_loss: -0.89752\n",
      "\u001b[32m[1104 17:58:37 @monitor.py:467]\u001b[0m GAN_loss/g_loss: -0.030931\n",
      "\u001b[32m[1104 17:58:37 @monitor.py:467]\u001b[0m GAN_loss/gradient_penalty: 0.010367\n",
      "\u001b[32m[1104 17:58:37 @monitor.py:467]\u001b[0m GAN_loss/gradient_rms: 1.0019\n",
      "\u001b[32m[1104 17:58:37 @monitor.py:467]\u001b[0m GAN_loss/kl_div: 0.072371\n",
      "\u001b[32m[1104 17:58:37 @monitor.py:467]\u001b[0m QueueInput/queue_size: 50\n",
      "\u001b[32m[1104 17:58:37 @base.py:275]\u001b[0m Start Epoch 883 ...\n"
     ]
    },
    {
     "name": "stderr",
     "output_type": "stream",
     "text": [
      "100%|###################################################################################|175/175[00:06<00:00,26.63it/s]"
     ]
    },
    {
     "name": "stdout",
     "output_type": "stream",
     "text": [
      "\u001b[32m[1104 17:58:43 @base.py:285]\u001b[0m Epoch 883 (global_step 185429) finished, time:6.57 seconds.\n"
     ]
    },
    {
     "name": "stderr",
     "output_type": "stream",
     "text": [
      "\n"
     ]
    },
    {
     "name": "stdout",
     "output_type": "stream",
     "text": [
      "\u001b[32m[1104 17:58:43 @saver.py:79]\u001b[0m Model saved to ../output/Chicago/WGGP_WI_new3/model\\model-185429.\n",
      "\u001b[32m[1104 17:58:43 @monitor.py:467]\u001b[0m GAN_loss/d_loss: -1.0176\n",
      "\u001b[32m[1104 17:58:43 @monitor.py:467]\u001b[0m GAN_loss/g_loss: -0.035204\n",
      "\u001b[32m[1104 17:58:43 @monitor.py:467]\u001b[0m GAN_loss/gradient_penalty: 0.0099584\n",
      "\u001b[32m[1104 17:58:43 @monitor.py:467]\u001b[0m GAN_loss/gradient_rms: 0.99975\n",
      "\u001b[32m[1104 17:58:43 @monitor.py:467]\u001b[0m GAN_loss/kl_div: 0.084984\n",
      "\u001b[32m[1104 17:58:43 @monitor.py:467]\u001b[0m QueueInput/queue_size: 50\n",
      "\u001b[32m[1104 17:58:43 @base.py:275]\u001b[0m Start Epoch 884 ...\n"
     ]
    },
    {
     "name": "stderr",
     "output_type": "stream",
     "text": [
      "100%|###################################################################################|175/175[00:06<00:00,26.53it/s]"
     ]
    },
    {
     "name": "stdout",
     "output_type": "stream",
     "text": [
      "\u001b[32m[1104 17:58:50 @base.py:285]\u001b[0m Epoch 884 (global_step 185639) finished, time:6.6 seconds.\n",
      "\u001b[32m[1104 17:58:50 @saver.py:79]\u001b[0m Model saved to ../output/Chicago/WGGP_WI_new3/model\\model-185639.\n"
     ]
    },
    {
     "name": "stderr",
     "output_type": "stream",
     "text": [
      "\n"
     ]
    },
    {
     "name": "stdout",
     "output_type": "stream",
     "text": [
      "\u001b[32m[1104 17:58:50 @monitor.py:467]\u001b[0m GAN_loss/d_loss: -1.001\n",
      "\u001b[32m[1104 17:58:50 @monitor.py:467]\u001b[0m GAN_loss/g_loss: -0.027102\n",
      "\u001b[32m[1104 17:58:50 @monitor.py:467]\u001b[0m GAN_loss/gradient_penalty: 0.0097723\n",
      "\u001b[32m[1104 17:58:50 @monitor.py:467]\u001b[0m GAN_loss/gradient_rms: 1.0004\n",
      "\u001b[32m[1104 17:58:50 @monitor.py:467]\u001b[0m GAN_loss/kl_div: 0.08041\n",
      "\u001b[32m[1104 17:58:50 @monitor.py:467]\u001b[0m QueueInput/queue_size: 50\n",
      "\u001b[32m[1104 17:58:50 @base.py:275]\u001b[0m Start Epoch 885 ...\n"
     ]
    },
    {
     "name": "stderr",
     "output_type": "stream",
     "text": [
      "100%|###################################################################################|175/175[00:06<00:00,26.59it/s]"
     ]
    },
    {
     "name": "stdout",
     "output_type": "stream",
     "text": [
      "\u001b[32m[1104 17:58:57 @base.py:285]\u001b[0m Epoch 885 (global_step 185849) finished, time:6.58 seconds.\n",
      "\u001b[32m[1104 17:58:57 @saver.py:79]\u001b[0m Model saved to ../output/Chicago/WGGP_WI_new3/model\\model-185849.\n"
     ]
    },
    {
     "name": "stderr",
     "output_type": "stream",
     "text": [
      "\n"
     ]
    },
    {
     "name": "stdout",
     "output_type": "stream",
     "text": [
      "\u001b[32m[1104 17:58:57 @monitor.py:467]\u001b[0m GAN_loss/d_loss: -0.97664\n",
      "\u001b[32m[1104 17:58:57 @monitor.py:467]\u001b[0m GAN_loss/g_loss: -0.041019\n",
      "\u001b[32m[1104 17:58:57 @monitor.py:467]\u001b[0m GAN_loss/gradient_penalty: 0.0099495\n",
      "\u001b[32m[1104 17:58:57 @monitor.py:467]\u001b[0m GAN_loss/gradient_rms: 0.99964\n",
      "\u001b[32m[1104 17:58:57 @monitor.py:467]\u001b[0m GAN_loss/kl_div: 0.0856\n",
      "\u001b[32m[1104 17:58:57 @monitor.py:467]\u001b[0m QueueInput/queue_size: 50\n",
      "\u001b[32m[1104 17:58:57 @base.py:275]\u001b[0m Start Epoch 886 ...\n"
     ]
    },
    {
     "name": "stderr",
     "output_type": "stream",
     "text": [
      "100%|###################################################################################|175/175[00:06<00:00,26.76it/s]"
     ]
    },
    {
     "name": "stdout",
     "output_type": "stream",
     "text": [
      "\u001b[32m[1104 17:59:04 @base.py:285]\u001b[0m Epoch 886 (global_step 186059) finished, time:6.54 seconds.\n"
     ]
    },
    {
     "name": "stderr",
     "output_type": "stream",
     "text": [
      "\n"
     ]
    },
    {
     "name": "stdout",
     "output_type": "stream",
     "text": [
      "\u001b[32m[1104 17:59:04 @saver.py:79]\u001b[0m Model saved to ../output/Chicago/WGGP_WI_new3/model\\model-186059.\n",
      "\u001b[32m[1104 17:59:04 @monitor.py:467]\u001b[0m GAN_loss/d_loss: -1.0597\n",
      "\u001b[32m[1104 17:59:04 @monitor.py:467]\u001b[0m GAN_loss/g_loss: -0.0492\n",
      "\u001b[32m[1104 17:59:04 @monitor.py:467]\u001b[0m GAN_loss/gradient_penalty: 0.0099143\n",
      "\u001b[32m[1104 17:59:04 @monitor.py:467]\u001b[0m GAN_loss/gradient_rms: 1.0013\n",
      "\u001b[32m[1104 17:59:04 @monitor.py:467]\u001b[0m GAN_loss/kl_div: 0.096172\n",
      "\u001b[32m[1104 17:59:04 @monitor.py:467]\u001b[0m QueueInput/queue_size: 50\n",
      "\u001b[32m[1104 17:59:04 @base.py:275]\u001b[0m Start Epoch 887 ...\n"
     ]
    },
    {
     "name": "stderr",
     "output_type": "stream",
     "text": [
      "100%|###################################################################################|175/175[00:06<00:00,26.67it/s]"
     ]
    },
    {
     "name": "stdout",
     "output_type": "stream",
     "text": [
      "\u001b[32m[1104 17:59:10 @base.py:285]\u001b[0m Epoch 887 (global_step 186269) finished, time:6.56 seconds.\n",
      "\u001b[32m[1104 17:59:11 @saver.py:79]\u001b[0m Model saved to ../output/Chicago/WGGP_WI_new3/model\\model-186269.\n"
     ]
    },
    {
     "name": "stderr",
     "output_type": "stream",
     "text": [
      "\n"
     ]
    },
    {
     "name": "stdout",
     "output_type": "stream",
     "text": [
      "\u001b[32m[1104 17:59:11 @monitor.py:467]\u001b[0m GAN_loss/d_loss: -1.0919\n",
      "\u001b[32m[1104 17:59:11 @monitor.py:467]\u001b[0m GAN_loss/g_loss: -0.075242\n",
      "\u001b[32m[1104 17:59:11 @monitor.py:467]\u001b[0m GAN_loss/gradient_penalty: 0.0098065\n",
      "\u001b[32m[1104 17:59:11 @monitor.py:467]\u001b[0m GAN_loss/gradient_rms: 0.99989\n",
      "\u001b[32m[1104 17:59:11 @monitor.py:467]\u001b[0m GAN_loss/kl_div: 0.10155\n",
      "\u001b[32m[1104 17:59:11 @monitor.py:467]\u001b[0m QueueInput/queue_size: 50\n",
      "\u001b[32m[1104 17:59:11 @base.py:275]\u001b[0m Start Epoch 888 ...\n"
     ]
    },
    {
     "name": "stderr",
     "output_type": "stream",
     "text": [
      "100%|###################################################################################|175/175[00:06<00:00,26.61it/s]"
     ]
    },
    {
     "name": "stdout",
     "output_type": "stream",
     "text": [
      "\u001b[32m[1104 17:59:17 @base.py:285]\u001b[0m Epoch 888 (global_step 186479) finished, time:6.58 seconds.\n",
      "\u001b[32m[1104 17:59:17 @saver.py:79]\u001b[0m Model saved to ../output/Chicago/WGGP_WI_new3/model\\model-186479.\n"
     ]
    },
    {
     "name": "stderr",
     "output_type": "stream",
     "text": [
      "\n"
     ]
    },
    {
     "name": "stdout",
     "output_type": "stream",
     "text": [
      "\u001b[32m[1104 17:59:18 @monitor.py:467]\u001b[0m GAN_loss/d_loss: -0.90703\n",
      "\u001b[32m[1104 17:59:18 @monitor.py:467]\u001b[0m GAN_loss/g_loss: -0.078752\n",
      "\u001b[32m[1104 17:59:18 @monitor.py:467]\u001b[0m GAN_loss/gradient_penalty: 0.0097865\n",
      "\u001b[32m[1104 17:59:18 @monitor.py:467]\u001b[0m GAN_loss/gradient_rms: 1.0002\n",
      "\u001b[32m[1104 17:59:18 @monitor.py:467]\u001b[0m GAN_loss/kl_div: 0.08841\n",
      "\u001b[32m[1104 17:59:18 @monitor.py:467]\u001b[0m QueueInput/queue_size: 50\n",
      "\u001b[32m[1104 17:59:18 @base.py:275]\u001b[0m Start Epoch 889 ...\n"
     ]
    },
    {
     "name": "stderr",
     "output_type": "stream",
     "text": [
      "100%|###################################################################################|175/175[00:06<00:00,26.71it/s]"
     ]
    },
    {
     "name": "stdout",
     "output_type": "stream",
     "text": [
      "\u001b[32m[1104 17:59:24 @base.py:285]\u001b[0m Epoch 889 (global_step 186689) finished, time:6.55 seconds.\n",
      "\u001b[32m[1104 17:59:24 @saver.py:79]\u001b[0m Model saved to ../output/Chicago/WGGP_WI_new3/model\\model-186689.\n"
     ]
    },
    {
     "name": "stderr",
     "output_type": "stream",
     "text": [
      "\n"
     ]
    },
    {
     "name": "stdout",
     "output_type": "stream",
     "text": [
      "\u001b[32m[1104 17:59:24 @monitor.py:467]\u001b[0m GAN_loss/d_loss: -0.76458\n",
      "\u001b[32m[1104 17:59:24 @monitor.py:467]\u001b[0m GAN_loss/g_loss: -0.086565\n",
      "\u001b[32m[1104 17:59:24 @monitor.py:467]\u001b[0m GAN_loss/gradient_penalty: 0.0088444\n",
      "\u001b[32m[1104 17:59:24 @monitor.py:467]\u001b[0m GAN_loss/gradient_rms: 1.0011\n",
      "\u001b[32m[1104 17:59:24 @monitor.py:467]\u001b[0m GAN_loss/kl_div: 0.093828\n",
      "\u001b[32m[1104 17:59:24 @monitor.py:467]\u001b[0m QueueInput/queue_size: 50\n",
      "\u001b[32m[1104 17:59:24 @base.py:275]\u001b[0m Start Epoch 890 ...\n"
     ]
    },
    {
     "name": "stderr",
     "output_type": "stream",
     "text": [
      "100%|###################################################################################|175/175[00:06<00:00,26.77it/s]"
     ]
    },
    {
     "name": "stdout",
     "output_type": "stream",
     "text": [
      "\u001b[32m[1104 17:59:31 @base.py:285]\u001b[0m Epoch 890 (global_step 186899) finished, time:6.54 seconds.\n"
     ]
    },
    {
     "name": "stderr",
     "output_type": "stream",
     "text": [
      "\n"
     ]
    },
    {
     "name": "stdout",
     "output_type": "stream",
     "text": [
      "\u001b[32m[1104 17:59:31 @saver.py:79]\u001b[0m Model saved to ../output/Chicago/WGGP_WI_new3/model\\model-186899.\n",
      "\u001b[32m[1104 17:59:31 @monitor.py:467]\u001b[0m GAN_loss/d_loss: -0.58384\n",
      "\u001b[32m[1104 17:59:31 @monitor.py:467]\u001b[0m GAN_loss/g_loss: -0.095792\n",
      "\u001b[32m[1104 17:59:31 @monitor.py:467]\u001b[0m GAN_loss/gradient_penalty: 0.0082954\n",
      "\u001b[32m[1104 17:59:31 @monitor.py:467]\u001b[0m GAN_loss/gradient_rms: 0.99918\n",
      "\u001b[32m[1104 17:59:31 @monitor.py:467]\u001b[0m GAN_loss/kl_div: 0.075536\n",
      "\u001b[32m[1104 17:59:31 @monitor.py:467]\u001b[0m QueueInput/queue_size: 50\n",
      "\u001b[32m[1104 17:59:31 @base.py:275]\u001b[0m Start Epoch 891 ...\n"
     ]
    },
    {
     "name": "stderr",
     "output_type": "stream",
     "text": [
      "100%|###################################################################################|175/175[00:06<00:00,26.63it/s]"
     ]
    },
    {
     "name": "stdout",
     "output_type": "stream",
     "text": [
      "\u001b[32m[1104 17:59:38 @base.py:285]\u001b[0m Epoch 891 (global_step 187109) finished, time:6.57 seconds.\n",
      "\u001b[32m[1104 17:59:38 @saver.py:79]\u001b[0m Model saved to ../output/Chicago/WGGP_WI_new3/model\\model-187109.\n"
     ]
    },
    {
     "name": "stderr",
     "output_type": "stream",
     "text": [
      "\n"
     ]
    },
    {
     "name": "stdout",
     "output_type": "stream",
     "text": [
      "\u001b[32m[1104 17:59:38 @monitor.py:467]\u001b[0m GAN_loss/d_loss: -0.83279\n",
      "\u001b[32m[1104 17:59:38 @monitor.py:467]\u001b[0m GAN_loss/g_loss: -0.11492\n",
      "\u001b[32m[1104 17:59:38 @monitor.py:467]\u001b[0m GAN_loss/gradient_penalty: 0.0089778\n",
      "\u001b[32m[1104 17:59:38 @monitor.py:467]\u001b[0m GAN_loss/gradient_rms: 0.9999\n",
      "\u001b[32m[1104 17:59:38 @monitor.py:467]\u001b[0m GAN_loss/kl_div: 0.083925\n",
      "\u001b[32m[1104 17:59:38 @monitor.py:467]\u001b[0m QueueInput/queue_size: 50\n",
      "\u001b[32m[1104 17:59:38 @base.py:275]\u001b[0m Start Epoch 892 ...\n"
     ]
    },
    {
     "name": "stderr",
     "output_type": "stream",
     "text": [
      "100%|###################################################################################|175/175[00:06<00:00,26.71it/s]"
     ]
    },
    {
     "name": "stdout",
     "output_type": "stream",
     "text": [
      "\u001b[32m[1104 17:59:45 @base.py:285]\u001b[0m Epoch 892 (global_step 187319) finished, time:6.55 seconds.\n"
     ]
    },
    {
     "name": "stderr",
     "output_type": "stream",
     "text": [
      "\n"
     ]
    },
    {
     "name": "stdout",
     "output_type": "stream",
     "text": [
      "\u001b[32m[1104 17:59:45 @saver.py:79]\u001b[0m Model saved to ../output/Chicago/WGGP_WI_new3/model\\model-187319.\n",
      "\u001b[32m[1104 17:59:45 @monitor.py:467]\u001b[0m GAN_loss/d_loss: -1.1158\n",
      "\u001b[32m[1104 17:59:45 @monitor.py:467]\u001b[0m GAN_loss/g_loss: -0.12144\n",
      "\u001b[32m[1104 17:59:45 @monitor.py:467]\u001b[0m GAN_loss/gradient_penalty: 0.0092481\n",
      "\u001b[32m[1104 17:59:45 @monitor.py:467]\u001b[0m GAN_loss/gradient_rms: 1.001\n",
      "\u001b[32m[1104 17:59:45 @monitor.py:467]\u001b[0m GAN_loss/kl_div: 0.086165\n",
      "\u001b[32m[1104 17:59:45 @monitor.py:467]\u001b[0m QueueInput/queue_size: 50\n",
      "\u001b[32m[1104 17:59:45 @base.py:275]\u001b[0m Start Epoch 893 ...\n"
     ]
    },
    {
     "name": "stderr",
     "output_type": "stream",
     "text": [
      "100%|###################################################################################|175/175[00:06<00:00,26.72it/s]"
     ]
    },
    {
     "name": "stdout",
     "output_type": "stream",
     "text": [
      "\u001b[32m[1104 17:59:51 @base.py:285]\u001b[0m Epoch 893 (global_step 187529) finished, time:6.55 seconds.\n",
      "\u001b[32m[1104 17:59:52 @saver.py:79]\u001b[0m Model saved to ../output/Chicago/WGGP_WI_new3/model\\model-187529.\n"
     ]
    },
    {
     "name": "stderr",
     "output_type": "stream",
     "text": [
      "\n"
     ]
    },
    {
     "name": "stdout",
     "output_type": "stream",
     "text": [
      "\u001b[32m[1104 17:59:52 @monitor.py:467]\u001b[0m GAN_loss/d_loss: -1.053\n",
      "\u001b[32m[1104 17:59:52 @monitor.py:467]\u001b[0m GAN_loss/g_loss: -0.14886\n",
      "\u001b[32m[1104 17:59:52 @monitor.py:467]\u001b[0m GAN_loss/gradient_penalty: 0.0093405\n",
      "\u001b[32m[1104 17:59:52 @monitor.py:467]\u001b[0m GAN_loss/gradient_rms: 1.0012\n",
      "\u001b[32m[1104 17:59:52 @monitor.py:467]\u001b[0m GAN_loss/kl_div: 0.11198\n",
      "\u001b[32m[1104 17:59:52 @monitor.py:467]\u001b[0m QueueInput/queue_size: 50\n",
      "\u001b[32m[1104 17:59:52 @base.py:275]\u001b[0m Start Epoch 894 ...\n"
     ]
    },
    {
     "name": "stderr",
     "output_type": "stream",
     "text": [
      "100%|###################################################################################|175/175[00:06<00:00,26.64it/s]"
     ]
    },
    {
     "name": "stdout",
     "output_type": "stream",
     "text": [
      "\u001b[32m[1104 17:59:58 @base.py:285]\u001b[0m Epoch 894 (global_step 187739) finished, time:6.57 seconds.\n",
      "\u001b[32m[1104 17:59:58 @saver.py:79]\u001b[0m Model saved to ../output/Chicago/WGGP_WI_new3/model\\model-187739.\n"
     ]
    },
    {
     "name": "stderr",
     "output_type": "stream",
     "text": [
      "\n"
     ]
    },
    {
     "name": "stdout",
     "output_type": "stream",
     "text": [
      "\u001b[32m[1104 17:59:59 @monitor.py:467]\u001b[0m GAN_loss/d_loss: -1.8967\n",
      "\u001b[32m[1104 17:59:59 @monitor.py:467]\u001b[0m GAN_loss/g_loss: -0.15714\n",
      "\u001b[32m[1104 17:59:59 @monitor.py:467]\u001b[0m GAN_loss/gradient_penalty: 0.011605\n",
      "\u001b[32m[1104 17:59:59 @monitor.py:467]\u001b[0m GAN_loss/gradient_rms: 1.0044\n",
      "\u001b[32m[1104 17:59:59 @monitor.py:467]\u001b[0m GAN_loss/kl_div: 0.10706\n",
      "\u001b[32m[1104 17:59:59 @monitor.py:467]\u001b[0m QueueInput/queue_size: 50\n",
      "\u001b[32m[1104 17:59:59 @base.py:275]\u001b[0m Start Epoch 895 ...\n"
     ]
    },
    {
     "name": "stderr",
     "output_type": "stream",
     "text": [
      "100%|###################################################################################|175/175[00:06<00:00,26.88it/s]"
     ]
    },
    {
     "name": "stdout",
     "output_type": "stream",
     "text": [
      "\u001b[32m[1104 18:00:05 @base.py:285]\u001b[0m Epoch 895 (global_step 187949) finished, time:6.51 seconds.\n",
      "\u001b[32m[1104 18:00:05 @saver.py:79]\u001b[0m Model saved to ../output/Chicago/WGGP_WI_new3/model\\model-187949.\n"
     ]
    },
    {
     "name": "stderr",
     "output_type": "stream",
     "text": [
      "\n"
     ]
    },
    {
     "name": "stdout",
     "output_type": "stream",
     "text": [
      "\u001b[32m[1104 18:00:05 @monitor.py:467]\u001b[0m GAN_loss/d_loss: -1.7933\n",
      "\u001b[32m[1104 18:00:05 @monitor.py:467]\u001b[0m GAN_loss/g_loss: -0.19521\n",
      "\u001b[32m[1104 18:00:05 @monitor.py:467]\u001b[0m GAN_loss/gradient_penalty: 0.011809\n",
      "\u001b[32m[1104 18:00:05 @monitor.py:467]\u001b[0m GAN_loss/gradient_rms: 1.0033\n",
      "\u001b[32m[1104 18:00:05 @monitor.py:467]\u001b[0m GAN_loss/kl_div: 0.10434\n",
      "\u001b[32m[1104 18:00:05 @monitor.py:467]\u001b[0m QueueInput/queue_size: 50\n",
      "\u001b[32m[1104 18:00:05 @base.py:275]\u001b[0m Start Epoch 896 ...\n"
     ]
    },
    {
     "name": "stderr",
     "output_type": "stream",
     "text": [
      "100%|###################################################################################|175/175[00:06<00:00,26.72it/s]"
     ]
    },
    {
     "name": "stdout",
     "output_type": "stream",
     "text": [
      "\u001b[32m[1104 18:00:12 @base.py:285]\u001b[0m Epoch 896 (global_step 188159) finished, time:6.55 seconds.\n"
     ]
    },
    {
     "name": "stderr",
     "output_type": "stream",
     "text": [
      "\n"
     ]
    },
    {
     "name": "stdout",
     "output_type": "stream",
     "text": [
      "\u001b[32m[1104 18:00:12 @saver.py:79]\u001b[0m Model saved to ../output/Chicago/WGGP_WI_new3/model\\model-188159.\n",
      "\u001b[32m[1104 18:00:12 @monitor.py:467]\u001b[0m GAN_loss/d_loss: -1.4\n",
      "\u001b[32m[1104 18:00:12 @monitor.py:467]\u001b[0m GAN_loss/g_loss: -0.23183\n",
      "\u001b[32m[1104 18:00:12 @monitor.py:467]\u001b[0m GAN_loss/gradient_penalty: 0.010449\n",
      "\u001b[32m[1104 18:00:12 @monitor.py:467]\u001b[0m GAN_loss/gradient_rms: 1\n",
      "\u001b[32m[1104 18:00:12 @monitor.py:467]\u001b[0m GAN_loss/kl_div: 0.088193\n",
      "\u001b[32m[1104 18:00:12 @monitor.py:467]\u001b[0m QueueInput/queue_size: 50\n",
      "\u001b[32m[1104 18:00:12 @base.py:275]\u001b[0m Start Epoch 897 ...\n"
     ]
    },
    {
     "name": "stderr",
     "output_type": "stream",
     "text": [
      "100%|###################################################################################|175/175[00:06<00:00,26.79it/s]"
     ]
    },
    {
     "name": "stdout",
     "output_type": "stream",
     "text": [
      "\u001b[32m[1104 18:00:19 @base.py:285]\u001b[0m Epoch 897 (global_step 188369) finished, time:6.53 seconds.\n"
     ]
    },
    {
     "name": "stderr",
     "output_type": "stream",
     "text": [
      "\n"
     ]
    },
    {
     "name": "stdout",
     "output_type": "stream",
     "text": [
      "\u001b[32m[1104 18:00:19 @saver.py:79]\u001b[0m Model saved to ../output/Chicago/WGGP_WI_new3/model\\model-188369.\n",
      "\u001b[32m[1104 18:00:19 @monitor.py:467]\u001b[0m GAN_loss/d_loss: -1.7801\n",
      "\u001b[32m[1104 18:00:19 @monitor.py:467]\u001b[0m GAN_loss/g_loss: -0.27193\n",
      "\u001b[32m[1104 18:00:19 @monitor.py:467]\u001b[0m GAN_loss/gradient_penalty: 0.013208\n",
      "\u001b[32m[1104 18:00:19 @monitor.py:467]\u001b[0m GAN_loss/gradient_rms: 1.0032\n",
      "\u001b[32m[1104 18:00:19 @monitor.py:467]\u001b[0m GAN_loss/kl_div: 0.08014\n",
      "\u001b[32m[1104 18:00:19 @monitor.py:467]\u001b[0m QueueInput/queue_size: 50\n",
      "\u001b[32m[1104 18:00:19 @base.py:275]\u001b[0m Start Epoch 898 ...\n"
     ]
    },
    {
     "name": "stderr",
     "output_type": "stream",
     "text": [
      "100%|###################################################################################|175/175[00:06<00:00,26.63it/s]"
     ]
    },
    {
     "name": "stdout",
     "output_type": "stream",
     "text": [
      "\u001b[32m[1104 18:00:25 @base.py:285]\u001b[0m Epoch 898 (global_step 188579) finished, time:6.57 seconds.\n"
     ]
    },
    {
     "name": "stderr",
     "output_type": "stream",
     "text": [
      "\n"
     ]
    },
    {
     "name": "stdout",
     "output_type": "stream",
     "text": [
      "\u001b[32m[1104 18:00:26 @saver.py:79]\u001b[0m Model saved to ../output/Chicago/WGGP_WI_new3/model\\model-188579.\n",
      "\u001b[32m[1104 18:00:26 @monitor.py:467]\u001b[0m GAN_loss/d_loss: -0.55039\n",
      "\u001b[32m[1104 18:00:26 @monitor.py:467]\u001b[0m GAN_loss/g_loss: -0.32929\n",
      "\u001b[32m[1104 18:00:26 @monitor.py:467]\u001b[0m GAN_loss/gradient_penalty: 0.0094577\n",
      "\u001b[32m[1104 18:00:26 @monitor.py:467]\u001b[0m GAN_loss/gradient_rms: 0.99716\n",
      "\u001b[32m[1104 18:00:26 @monitor.py:467]\u001b[0m GAN_loss/kl_div: 0.077967\n",
      "\u001b[32m[1104 18:00:26 @monitor.py:467]\u001b[0m QueueInput/queue_size: 50\n",
      "\u001b[32m[1104 18:00:26 @base.py:275]\u001b[0m Start Epoch 899 ...\n"
     ]
    },
    {
     "name": "stderr",
     "output_type": "stream",
     "text": [
      "100%|###################################################################################|175/175[00:06<00:00,26.85it/s]"
     ]
    },
    {
     "name": "stdout",
     "output_type": "stream",
     "text": [
      "\u001b[32m[1104 18:00:32 @base.py:285]\u001b[0m Epoch 899 (global_step 188789) finished, time:6.52 seconds.\n",
      "\u001b[32m[1104 18:00:32 @saver.py:79]\u001b[0m Model saved to ../output/Chicago/WGGP_WI_new3/model\\model-188789.\n"
     ]
    },
    {
     "name": "stderr",
     "output_type": "stream",
     "text": [
      "\n"
     ]
    },
    {
     "name": "stdout",
     "output_type": "stream",
     "text": [
      "\u001b[32m[1104 18:00:32 @monitor.py:467]\u001b[0m GAN_loss/d_loss: -1.2801\n",
      "\u001b[32m[1104 18:00:32 @monitor.py:467]\u001b[0m GAN_loss/g_loss: -0.31402\n",
      "\u001b[32m[1104 18:00:32 @monitor.py:467]\u001b[0m GAN_loss/gradient_penalty: 0.010642\n",
      "\u001b[32m[1104 18:00:32 @monitor.py:467]\u001b[0m GAN_loss/gradient_rms: 1.0028\n",
      "\u001b[32m[1104 18:00:32 @monitor.py:467]\u001b[0m GAN_loss/kl_div: 0.081943\n",
      "\u001b[32m[1104 18:00:32 @monitor.py:467]\u001b[0m QueueInput/queue_size: 50\n",
      "\u001b[32m[1104 18:00:32 @base.py:275]\u001b[0m Start Epoch 900 ...\n"
     ]
    },
    {
     "name": "stderr",
     "output_type": "stream",
     "text": [
      "100%|###################################################################################|175/175[00:06<00:00,26.76it/s]"
     ]
    },
    {
     "name": "stdout",
     "output_type": "stream",
     "text": [
      "\u001b[32m[1104 18:00:39 @base.py:285]\u001b[0m Epoch 900 (global_step 188999) finished, time:6.54 seconds.\n",
      "\u001b[32m[1104 18:00:39 @saver.py:79]\u001b[0m Model saved to ../output/Chicago/WGGP_WI_new3/model\\model-188999.\n"
     ]
    },
    {
     "name": "stderr",
     "output_type": "stream",
     "text": [
      "\n"
     ]
    },
    {
     "name": "stdout",
     "output_type": "stream",
     "text": [
      "\u001b[32m[1104 18:00:39 @monitor.py:467]\u001b[0m GAN_loss/d_loss: -0.82292\n",
      "\u001b[32m[1104 18:00:39 @monitor.py:467]\u001b[0m GAN_loss/g_loss: -0.35091\n",
      "\u001b[32m[1104 18:00:39 @monitor.py:467]\u001b[0m GAN_loss/gradient_penalty: 0.010425\n",
      "\u001b[32m[1104 18:00:39 @monitor.py:467]\u001b[0m GAN_loss/gradient_rms: 0.99958\n",
      "\u001b[32m[1104 18:00:39 @monitor.py:467]\u001b[0m GAN_loss/kl_div: 0.084427\n",
      "\u001b[32m[1104 18:00:39 @monitor.py:467]\u001b[0m QueueInput/queue_size: 50\n",
      "\u001b[32m[1104 18:00:39 @base.py:275]\u001b[0m Start Epoch 901 ...\n"
     ]
    },
    {
     "name": "stderr",
     "output_type": "stream",
     "text": [
      "100%|###################################################################################|175/175[00:06<00:00,26.76it/s]"
     ]
    },
    {
     "name": "stdout",
     "output_type": "stream",
     "text": [
      "\u001b[32m[1104 18:00:46 @base.py:285]\u001b[0m Epoch 901 (global_step 189209) finished, time:6.54 seconds.\n"
     ]
    },
    {
     "name": "stderr",
     "output_type": "stream",
     "text": [
      "\n"
     ]
    },
    {
     "name": "stdout",
     "output_type": "stream",
     "text": [
      "\u001b[32m[1104 18:00:46 @saver.py:79]\u001b[0m Model saved to ../output/Chicago/WGGP_WI_new3/model\\model-189209.\n",
      "\u001b[32m[1104 18:00:46 @monitor.py:467]\u001b[0m GAN_loss/d_loss: -1.4358\n",
      "\u001b[32m[1104 18:00:46 @monitor.py:467]\u001b[0m GAN_loss/g_loss: -0.40102\n",
      "\u001b[32m[1104 18:00:46 @monitor.py:467]\u001b[0m GAN_loss/gradient_penalty: 0.010993\n",
      "\u001b[32m[1104 18:00:46 @monitor.py:467]\u001b[0m GAN_loss/gradient_rms: 1.0014\n",
      "\u001b[32m[1104 18:00:46 @monitor.py:467]\u001b[0m GAN_loss/kl_div: 0.08937\n",
      "\u001b[32m[1104 18:00:46 @monitor.py:467]\u001b[0m QueueInput/queue_size: 50\n",
      "\u001b[32m[1104 18:00:46 @base.py:275]\u001b[0m Start Epoch 902 ...\n"
     ]
    },
    {
     "name": "stderr",
     "output_type": "stream",
     "text": [
      "100%|###################################################################################|175/175[00:06<00:00,26.65it/s]"
     ]
    },
    {
     "name": "stdout",
     "output_type": "stream",
     "text": [
      "\u001b[32m[1104 18:00:53 @base.py:285]\u001b[0m Epoch 902 (global_step 189419) finished, time:6.57 seconds.\n",
      "\u001b[32m[1104 18:00:53 @saver.py:79]\u001b[0m Model saved to ../output/Chicago/WGGP_WI_new3/model\\model-189419.\n"
     ]
    },
    {
     "name": "stderr",
     "output_type": "stream",
     "text": [
      "\n"
     ]
    },
    {
     "name": "stdout",
     "output_type": "stream",
     "text": [
      "\u001b[32m[1104 18:00:53 @monitor.py:467]\u001b[0m GAN_loss/d_loss: -2.4284\n",
      "\u001b[32m[1104 18:00:53 @monitor.py:467]\u001b[0m GAN_loss/g_loss: -0.45354\n",
      "\u001b[32m[1104 18:00:53 @monitor.py:467]\u001b[0m GAN_loss/gradient_penalty: 0.014061\n",
      "\u001b[32m[1104 18:00:53 @monitor.py:467]\u001b[0m GAN_loss/gradient_rms: 1.0061\n",
      "\u001b[32m[1104 18:00:53 @monitor.py:467]\u001b[0m GAN_loss/kl_div: 0.087633\n",
      "\u001b[32m[1104 18:00:53 @monitor.py:467]\u001b[0m QueueInput/queue_size: 50\n",
      "\u001b[32m[1104 18:00:53 @base.py:275]\u001b[0m Start Epoch 903 ...\n"
     ]
    },
    {
     "name": "stderr",
     "output_type": "stream",
     "text": [
      "100%|###################################################################################|175/175[00:06<00:00,26.66it/s]"
     ]
    },
    {
     "name": "stdout",
     "output_type": "stream",
     "text": [
      "\u001b[32m[1104 18:00:59 @base.py:285]\u001b[0m Epoch 903 (global_step 189629) finished, time:6.56 seconds.\n"
     ]
    },
    {
     "name": "stderr",
     "output_type": "stream",
     "text": [
      "\n"
     ]
    },
    {
     "name": "stdout",
     "output_type": "stream",
     "text": [
      "\u001b[32m[1104 18:01:00 @saver.py:79]\u001b[0m Model saved to ../output/Chicago/WGGP_WI_new3/model\\model-189629.\n",
      "\u001b[32m[1104 18:01:00 @monitor.py:467]\u001b[0m GAN_loss/d_loss: -1.2988\n",
      "\u001b[32m[1104 18:01:00 @monitor.py:467]\u001b[0m GAN_loss/g_loss: -0.48261\n",
      "\u001b[32m[1104 18:01:00 @monitor.py:467]\u001b[0m GAN_loss/gradient_penalty: 0.011859\n",
      "\u001b[32m[1104 18:01:00 @monitor.py:467]\u001b[0m GAN_loss/gradient_rms: 1.0014\n",
      "\u001b[32m[1104 18:01:00 @monitor.py:467]\u001b[0m GAN_loss/kl_div: 0.078861\n",
      "\u001b[32m[1104 18:01:00 @monitor.py:467]\u001b[0m QueueInput/queue_size: 50\n",
      "\u001b[32m[1104 18:01:00 @base.py:275]\u001b[0m Start Epoch 904 ...\n"
     ]
    },
    {
     "name": "stderr",
     "output_type": "stream",
     "text": [
      "100%|###################################################################################|175/175[00:06<00:00,26.85it/s]"
     ]
    },
    {
     "name": "stdout",
     "output_type": "stream",
     "text": [
      "\u001b[32m[1104 18:01:06 @base.py:285]\u001b[0m Epoch 904 (global_step 189839) finished, time:6.52 seconds.\n",
      "\u001b[32m[1104 18:01:06 @saver.py:79]\u001b[0m Model saved to ../output/Chicago/WGGP_WI_new3/model\\model-189839.\n"
     ]
    },
    {
     "name": "stderr",
     "output_type": "stream",
     "text": [
      "\n"
     ]
    },
    {
     "name": "stdout",
     "output_type": "stream",
     "text": [
      "\u001b[32m[1104 18:01:06 @monitor.py:467]\u001b[0m GAN_loss/d_loss: -1.8995\n",
      "\u001b[32m[1104 18:01:06 @monitor.py:467]\u001b[0m GAN_loss/g_loss: -0.49465\n",
      "\u001b[32m[1104 18:01:06 @monitor.py:467]\u001b[0m GAN_loss/gradient_penalty: 0.013016\n",
      "\u001b[32m[1104 18:01:06 @monitor.py:467]\u001b[0m GAN_loss/gradient_rms: 1.0035\n",
      "\u001b[32m[1104 18:01:06 @monitor.py:467]\u001b[0m GAN_loss/kl_div: 0.082831\n",
      "\u001b[32m[1104 18:01:06 @monitor.py:467]\u001b[0m QueueInput/queue_size: 50\n",
      "\u001b[32m[1104 18:01:06 @base.py:275]\u001b[0m Start Epoch 905 ...\n"
     ]
    },
    {
     "name": "stderr",
     "output_type": "stream",
     "text": [
      "100%|###################################################################################|175/175[00:06<00:00,26.72it/s]"
     ]
    },
    {
     "name": "stdout",
     "output_type": "stream",
     "text": [
      "\u001b[32m[1104 18:01:13 @base.py:285]\u001b[0m Epoch 905 (global_step 190049) finished, time:6.55 seconds.\n",
      "\u001b[32m[1104 18:01:13 @saver.py:79]\u001b[0m Model saved to ../output/Chicago/WGGP_WI_new3/model\\model-190049.\n"
     ]
    },
    {
     "name": "stderr",
     "output_type": "stream",
     "text": [
      "\n"
     ]
    },
    {
     "name": "stdout",
     "output_type": "stream",
     "text": [
      "\u001b[32m[1104 18:01:13 @monitor.py:467]\u001b[0m GAN_loss/d_loss: -0.58707\n",
      "\u001b[32m[1104 18:01:13 @monitor.py:467]\u001b[0m GAN_loss/g_loss: -0.53232\n",
      "\u001b[32m[1104 18:01:13 @monitor.py:467]\u001b[0m GAN_loss/gradient_penalty: 0.010232\n",
      "\u001b[32m[1104 18:01:13 @monitor.py:467]\u001b[0m GAN_loss/gradient_rms: 0.99768\n",
      "\u001b[32m[1104 18:01:13 @monitor.py:467]\u001b[0m GAN_loss/kl_div: 0.08045\n",
      "\u001b[32m[1104 18:01:13 @monitor.py:467]\u001b[0m QueueInput/queue_size: 50\n",
      "\u001b[32m[1104 18:01:13 @base.py:275]\u001b[0m Start Epoch 906 ...\n"
     ]
    },
    {
     "name": "stderr",
     "output_type": "stream",
     "text": [
      "100%|###################################################################################|175/175[00:06<00:00,26.73it/s]"
     ]
    },
    {
     "name": "stdout",
     "output_type": "stream",
     "text": [
      "\u001b[32m[1104 18:01:20 @base.py:285]\u001b[0m Epoch 906 (global_step 190259) finished, time:6.55 seconds.\n"
     ]
    },
    {
     "name": "stderr",
     "output_type": "stream",
     "text": [
      "\n"
     ]
    },
    {
     "name": "stdout",
     "output_type": "stream",
     "text": [
      "\u001b[32m[1104 18:01:20 @saver.py:79]\u001b[0m Model saved to ../output/Chicago/WGGP_WI_new3/model\\model-190259.\n",
      "\u001b[32m[1104 18:01:20 @monitor.py:467]\u001b[0m GAN_loss/d_loss: -1.6977\n",
      "\u001b[32m[1104 18:01:20 @monitor.py:467]\u001b[0m GAN_loss/g_loss: -0.5533\n",
      "\u001b[32m[1104 18:01:20 @monitor.py:467]\u001b[0m GAN_loss/gradient_penalty: 0.010557\n",
      "\u001b[32m[1104 18:01:20 @monitor.py:467]\u001b[0m GAN_loss/gradient_rms: 1.0009\n",
      "\u001b[32m[1104 18:01:20 @monitor.py:467]\u001b[0m GAN_loss/kl_div: 0.090136\n",
      "\u001b[32m[1104 18:01:20 @monitor.py:467]\u001b[0m QueueInput/queue_size: 50\n",
      "\u001b[32m[1104 18:01:20 @base.py:275]\u001b[0m Start Epoch 907 ...\n"
     ]
    },
    {
     "name": "stderr",
     "output_type": "stream",
     "text": [
      "100%|###################################################################################|175/175[00:06<00:00,26.69it/s]"
     ]
    },
    {
     "name": "stdout",
     "output_type": "stream",
     "text": [
      "\u001b[32m[1104 18:01:27 @base.py:285]\u001b[0m Epoch 907 (global_step 190469) finished, time:6.56 seconds.\n"
     ]
    },
    {
     "name": "stderr",
     "output_type": "stream",
     "text": [
      "\n"
     ]
    },
    {
     "name": "stdout",
     "output_type": "stream",
     "text": [
      "\u001b[32m[1104 18:01:27 @saver.py:79]\u001b[0m Model saved to ../output/Chicago/WGGP_WI_new3/model\\model-190469.\n",
      "\u001b[32m[1104 18:01:27 @monitor.py:467]\u001b[0m GAN_loss/d_loss: -1.9102\n",
      "\u001b[32m[1104 18:01:27 @monitor.py:467]\u001b[0m GAN_loss/g_loss: -0.55811\n",
      "\u001b[32m[1104 18:01:27 @monitor.py:467]\u001b[0m GAN_loss/gradient_penalty: 0.011754\n",
      "\u001b[32m[1104 18:01:27 @monitor.py:467]\u001b[0m GAN_loss/gradient_rms: 1.0034\n",
      "\u001b[32m[1104 18:01:27 @monitor.py:467]\u001b[0m GAN_loss/kl_div: 0.099551\n",
      "\u001b[32m[1104 18:01:27 @monitor.py:467]\u001b[0m QueueInput/queue_size: 50\n",
      "\u001b[32m[1104 18:01:27 @base.py:275]\u001b[0m Start Epoch 908 ...\n"
     ]
    },
    {
     "name": "stderr",
     "output_type": "stream",
     "text": [
      "100%|###################################################################################|175/175[00:06<00:00,26.95it/s]"
     ]
    },
    {
     "name": "stdout",
     "output_type": "stream",
     "text": [
      "\u001b[32m[1104 18:01:33 @base.py:285]\u001b[0m Epoch 908 (global_step 190679) finished, time:6.5 seconds.\n",
      "\u001b[32m[1104 18:01:34 @saver.py:79]\u001b[0m Model saved to ../output/Chicago/WGGP_WI_new3/model\\model-190679.\n"
     ]
    },
    {
     "name": "stderr",
     "output_type": "stream",
     "text": [
      "\n"
     ]
    },
    {
     "name": "stdout",
     "output_type": "stream",
     "text": [
      "\u001b[32m[1104 18:01:34 @monitor.py:467]\u001b[0m GAN_loss/d_loss: -0.81827\n",
      "\u001b[32m[1104 18:01:34 @monitor.py:467]\u001b[0m GAN_loss/g_loss: -0.61271\n",
      "\u001b[32m[1104 18:01:34 @monitor.py:467]\u001b[0m GAN_loss/gradient_penalty: 0.010382\n",
      "\u001b[32m[1104 18:01:34 @monitor.py:467]\u001b[0m GAN_loss/gradient_rms: 0.99728\n",
      "\u001b[32m[1104 18:01:34 @monitor.py:467]\u001b[0m GAN_loss/kl_div: 0.094462\n",
      "\u001b[32m[1104 18:01:34 @monitor.py:467]\u001b[0m QueueInput/queue_size: 50\n",
      "\u001b[32m[1104 18:01:34 @base.py:275]\u001b[0m Start Epoch 909 ...\n"
     ]
    },
    {
     "name": "stderr",
     "output_type": "stream",
     "text": [
      "100%|###################################################################################|175/175[00:06<00:00,26.89it/s]"
     ]
    },
    {
     "name": "stdout",
     "output_type": "stream",
     "text": [
      "\u001b[32m[1104 18:01:40 @base.py:285]\u001b[0m Epoch 909 (global_step 190889) finished, time:6.51 seconds.\n",
      "\u001b[32m[1104 18:01:40 @saver.py:79]\u001b[0m Model saved to ../output/Chicago/WGGP_WI_new3/model\\model-190889.\n"
     ]
    },
    {
     "name": "stderr",
     "output_type": "stream",
     "text": [
      "\n"
     ]
    },
    {
     "name": "stdout",
     "output_type": "stream",
     "text": [
      "\u001b[32m[1104 18:01:40 @monitor.py:467]\u001b[0m GAN_loss/d_loss: -1.6244\n",
      "\u001b[32m[1104 18:01:40 @monitor.py:467]\u001b[0m GAN_loss/g_loss: -0.65283\n",
      "\u001b[32m[1104 18:01:40 @monitor.py:467]\u001b[0m GAN_loss/gradient_penalty: 0.012181\n",
      "\u001b[32m[1104 18:01:40 @monitor.py:467]\u001b[0m GAN_loss/gradient_rms: 1.0018\n",
      "\u001b[32m[1104 18:01:40 @monitor.py:467]\u001b[0m GAN_loss/kl_div: 0.084057\n",
      "\u001b[32m[1104 18:01:40 @monitor.py:467]\u001b[0m QueueInput/queue_size: 50\n",
      "\u001b[32m[1104 18:01:40 @base.py:275]\u001b[0m Start Epoch 910 ...\n"
     ]
    },
    {
     "name": "stderr",
     "output_type": "stream",
     "text": [
      "100%|###################################################################################|175/175[00:06<00:00,26.72it/s]"
     ]
    },
    {
     "name": "stdout",
     "output_type": "stream",
     "text": [
      "\u001b[32m[1104 18:01:47 @base.py:285]\u001b[0m Epoch 910 (global_step 191099) finished, time:6.55 seconds.\n",
      "\u001b[32m[1104 18:01:47 @saver.py:79]\u001b[0m Model saved to ../output/Chicago/WGGP_WI_new3/model\\model-191099.\n"
     ]
    },
    {
     "name": "stderr",
     "output_type": "stream",
     "text": [
      "\n"
     ]
    },
    {
     "name": "stdout",
     "output_type": "stream",
     "text": [
      "\u001b[32m[1104 18:01:47 @monitor.py:467]\u001b[0m GAN_loss/d_loss: -1.8909\n",
      "\u001b[32m[1104 18:01:47 @monitor.py:467]\u001b[0m GAN_loss/g_loss: -0.66858\n",
      "\u001b[32m[1104 18:01:47 @monitor.py:467]\u001b[0m GAN_loss/gradient_penalty: 0.012863\n",
      "\u001b[32m[1104 18:01:47 @monitor.py:467]\u001b[0m GAN_loss/gradient_rms: 1.0034\n",
      "\u001b[32m[1104 18:01:47 @monitor.py:467]\u001b[0m GAN_loss/kl_div: 0.074658\n",
      "\u001b[32m[1104 18:01:47 @monitor.py:467]\u001b[0m QueueInput/queue_size: 50\n",
      "\u001b[32m[1104 18:01:47 @base.py:275]\u001b[0m Start Epoch 911 ...\n"
     ]
    },
    {
     "name": "stderr",
     "output_type": "stream",
     "text": [
      "100%|###################################################################################|175/175[00:06<00:00,26.74it/s]"
     ]
    },
    {
     "name": "stdout",
     "output_type": "stream",
     "text": [
      "\u001b[32m[1104 18:01:54 @base.py:285]\u001b[0m Epoch 911 (global_step 191309) finished, time:6.54 seconds.\n"
     ]
    },
    {
     "name": "stderr",
     "output_type": "stream",
     "text": [
      "\n"
     ]
    },
    {
     "name": "stdout",
     "output_type": "stream",
     "text": [
      "\u001b[32m[1104 18:01:54 @saver.py:79]\u001b[0m Model saved to ../output/Chicago/WGGP_WI_new3/model\\model-191309.\n",
      "\u001b[32m[1104 18:01:54 @monitor.py:467]\u001b[0m GAN_loss/d_loss: -2.2805\n",
      "\u001b[32m[1104 18:01:54 @monitor.py:467]\u001b[0m GAN_loss/g_loss: -0.6913\n",
      "\u001b[32m[1104 18:01:54 @monitor.py:467]\u001b[0m GAN_loss/gradient_penalty: 0.013249\n",
      "\u001b[32m[1104 18:01:54 @monitor.py:467]\u001b[0m GAN_loss/gradient_rms: 1.005\n",
      "\u001b[32m[1104 18:01:54 @monitor.py:467]\u001b[0m GAN_loss/kl_div: 0.085363\n",
      "\u001b[32m[1104 18:01:54 @monitor.py:467]\u001b[0m QueueInput/queue_size: 50\n",
      "\u001b[32m[1104 18:01:54 @base.py:275]\u001b[0m Start Epoch 912 ...\n"
     ]
    },
    {
     "name": "stderr",
     "output_type": "stream",
     "text": [
      "100%|###################################################################################|175/175[00:06<00:00,26.70it/s]"
     ]
    },
    {
     "name": "stdout",
     "output_type": "stream",
     "text": [
      "\u001b[32m[1104 18:02:01 @base.py:285]\u001b[0m Epoch 912 (global_step 191519) finished, time:6.56 seconds.\n"
     ]
    },
    {
     "name": "stderr",
     "output_type": "stream",
     "text": [
      "\n"
     ]
    },
    {
     "name": "stdout",
     "output_type": "stream",
     "text": [
      "\u001b[32m[1104 18:02:01 @saver.py:79]\u001b[0m Model saved to ../output/Chicago/WGGP_WI_new3/model\\model-191519.\n",
      "\u001b[32m[1104 18:02:01 @monitor.py:467]\u001b[0m GAN_loss/d_loss: -2.1566\n",
      "\u001b[32m[1104 18:02:01 @monitor.py:467]\u001b[0m GAN_loss/g_loss: -0.70454\n",
      "\u001b[32m[1104 18:02:01 @monitor.py:467]\u001b[0m GAN_loss/gradient_penalty: 0.015469\n",
      "\u001b[32m[1104 18:02:01 @monitor.py:467]\u001b[0m GAN_loss/gradient_rms: 1.0065\n",
      "\u001b[32m[1104 18:02:01 @monitor.py:467]\u001b[0m GAN_loss/kl_div: 0.083993\n",
      "\u001b[32m[1104 18:02:01 @monitor.py:467]\u001b[0m QueueInput/queue_size: 50\n",
      "\u001b[32m[1104 18:02:01 @base.py:275]\u001b[0m Start Epoch 913 ...\n"
     ]
    },
    {
     "name": "stderr",
     "output_type": "stream",
     "text": [
      "100%|###################################################################################|175/175[00:06<00:00,26.56it/s]"
     ]
    },
    {
     "name": "stdout",
     "output_type": "stream",
     "text": [
      "\u001b[32m[1104 18:02:07 @base.py:285]\u001b[0m Epoch 913 (global_step 191729) finished, time:6.59 seconds.\n",
      "\u001b[32m[1104 18:02:08 @saver.py:79]\u001b[0m Model saved to ../output/Chicago/WGGP_WI_new3/model\\model-191729.\n"
     ]
    },
    {
     "name": "stderr",
     "output_type": "stream",
     "text": [
      "\n"
     ]
    },
    {
     "name": "stdout",
     "output_type": "stream",
     "text": [
      "\u001b[32m[1104 18:02:08 @monitor.py:467]\u001b[0m GAN_loss/d_loss: -2.0409\n",
      "\u001b[32m[1104 18:02:08 @monitor.py:467]\u001b[0m GAN_loss/g_loss: -0.78205\n",
      "\u001b[32m[1104 18:02:08 @monitor.py:467]\u001b[0m GAN_loss/gradient_penalty: 0.013686\n",
      "\u001b[32m[1104 18:02:08 @monitor.py:467]\u001b[0m GAN_loss/gradient_rms: 1.0054\n",
      "\u001b[32m[1104 18:02:08 @monitor.py:467]\u001b[0m GAN_loss/kl_div: 0.10511\n",
      "\u001b[32m[1104 18:02:08 @monitor.py:467]\u001b[0m QueueInput/queue_size: 50\n",
      "\u001b[32m[1104 18:02:08 @base.py:275]\u001b[0m Start Epoch 914 ...\n"
     ]
    },
    {
     "name": "stderr",
     "output_type": "stream",
     "text": [
      "100%|###################################################################################|175/175[00:06<00:00,26.72it/s]"
     ]
    },
    {
     "name": "stdout",
     "output_type": "stream",
     "text": [
      "\u001b[32m[1104 18:02:14 @base.py:285]\u001b[0m Epoch 914 (global_step 191939) finished, time:6.55 seconds.\n"
     ]
    },
    {
     "name": "stderr",
     "output_type": "stream",
     "text": [
      "\n"
     ]
    },
    {
     "name": "stdout",
     "output_type": "stream",
     "text": [
      "\u001b[32m[1104 18:02:14 @saver.py:79]\u001b[0m Model saved to ../output/Chicago/WGGP_WI_new3/model\\model-191939.\n",
      "\u001b[32m[1104 18:02:14 @monitor.py:467]\u001b[0m GAN_loss/d_loss: -1.2325\n",
      "\u001b[32m[1104 18:02:14 @monitor.py:467]\u001b[0m GAN_loss/g_loss: -0.80327\n",
      "\u001b[32m[1104 18:02:14 @monitor.py:467]\u001b[0m GAN_loss/gradient_penalty: 0.012405\n",
      "\u001b[32m[1104 18:02:14 @monitor.py:467]\u001b[0m GAN_loss/gradient_rms: 1.0034\n",
      "\u001b[32m[1104 18:02:14 @monitor.py:467]\u001b[0m GAN_loss/kl_div: 0.10328\n",
      "\u001b[32m[1104 18:02:14 @monitor.py:467]\u001b[0m QueueInput/queue_size: 50\n",
      "\u001b[32m[1104 18:02:14 @base.py:275]\u001b[0m Start Epoch 915 ...\n"
     ]
    },
    {
     "name": "stderr",
     "output_type": "stream",
     "text": [
      "100%|###################################################################################|175/175[00:06<00:00,26.76it/s]"
     ]
    },
    {
     "name": "stdout",
     "output_type": "stream",
     "text": [
      "\u001b[32m[1104 18:02:21 @base.py:285]\u001b[0m Epoch 915 (global_step 192149) finished, time:6.54 seconds.\n",
      "\u001b[32m[1104 18:02:21 @saver.py:79]\u001b[0m Model saved to ../output/Chicago/WGGP_WI_new3/model\\model-192149.\n"
     ]
    },
    {
     "name": "stderr",
     "output_type": "stream",
     "text": [
      "\n"
     ]
    },
    {
     "name": "stdout",
     "output_type": "stream",
     "text": [
      "\u001b[32m[1104 18:02:21 @monitor.py:467]\u001b[0m GAN_loss/d_loss: -0.64155\n",
      "\u001b[32m[1104 18:02:21 @monitor.py:467]\u001b[0m GAN_loss/g_loss: -0.86771\n",
      "\u001b[32m[1104 18:02:21 @monitor.py:467]\u001b[0m GAN_loss/gradient_penalty: 0.00992\n",
      "\u001b[32m[1104 18:02:21 @monitor.py:467]\u001b[0m GAN_loss/gradient_rms: 1.0009\n",
      "\u001b[32m[1104 18:02:21 @monitor.py:467]\u001b[0m GAN_loss/kl_div: 0.097124\n",
      "\u001b[32m[1104 18:02:21 @monitor.py:467]\u001b[0m QueueInput/queue_size: 50\n",
      "\u001b[32m[1104 18:02:21 @base.py:275]\u001b[0m Start Epoch 916 ...\n"
     ]
    },
    {
     "name": "stderr",
     "output_type": "stream",
     "text": [
      "100%|###################################################################################|175/175[00:06<00:00,26.69it/s]"
     ]
    },
    {
     "name": "stdout",
     "output_type": "stream",
     "text": [
      "\u001b[32m[1104 18:02:28 @base.py:285]\u001b[0m Epoch 916 (global_step 192359) finished, time:6.56 seconds.\n",
      "\u001b[32m[1104 18:02:28 @saver.py:79]\u001b[0m Model saved to ../output/Chicago/WGGP_WI_new3/model\\model-192359.\n"
     ]
    },
    {
     "name": "stderr",
     "output_type": "stream",
     "text": [
      "\n"
     ]
    },
    {
     "name": "stdout",
     "output_type": "stream",
     "text": [
      "\u001b[32m[1104 18:02:28 @monitor.py:467]\u001b[0m GAN_loss/d_loss: -1.2868\n",
      "\u001b[32m[1104 18:02:28 @monitor.py:467]\u001b[0m GAN_loss/g_loss: -0.87346\n",
      "\u001b[32m[1104 18:02:28 @monitor.py:467]\u001b[0m GAN_loss/gradient_penalty: 0.011094\n",
      "\u001b[32m[1104 18:02:28 @monitor.py:467]\u001b[0m GAN_loss/gradient_rms: 1.0014\n",
      "\u001b[32m[1104 18:02:28 @monitor.py:467]\u001b[0m GAN_loss/kl_div: 0.098507\n",
      "\u001b[32m[1104 18:02:28 @monitor.py:467]\u001b[0m QueueInput/queue_size: 50\n",
      "\u001b[32m[1104 18:02:28 @base.py:275]\u001b[0m Start Epoch 917 ...\n"
     ]
    },
    {
     "name": "stderr",
     "output_type": "stream",
     "text": [
      "100%|###################################################################################|175/175[00:06<00:00,26.96it/s]"
     ]
    },
    {
     "name": "stdout",
     "output_type": "stream",
     "text": [
      "\u001b[32m[1104 18:02:35 @base.py:285]\u001b[0m Epoch 917 (global_step 192569) finished, time:6.49 seconds.\n",
      "\u001b[32m[1104 18:02:35 @saver.py:79]\u001b[0m Model saved to ../output/Chicago/WGGP_WI_new3/model\\model-192569.\n"
     ]
    },
    {
     "name": "stderr",
     "output_type": "stream",
     "text": [
      "\n"
     ]
    },
    {
     "name": "stdout",
     "output_type": "stream",
     "text": [
      "\u001b[32m[1104 18:02:35 @monitor.py:467]\u001b[0m GAN_loss/d_loss: -0.9559\n",
      "\u001b[32m[1104 18:02:35 @monitor.py:467]\u001b[0m GAN_loss/g_loss: -0.88273\n",
      "\u001b[32m[1104 18:02:35 @monitor.py:467]\u001b[0m GAN_loss/gradient_penalty: 0.01077\n",
      "\u001b[32m[1104 18:02:35 @monitor.py:467]\u001b[0m GAN_loss/gradient_rms: 1.0014\n",
      "\u001b[32m[1104 18:02:35 @monitor.py:467]\u001b[0m GAN_loss/kl_div: 0.094816\n",
      "\u001b[32m[1104 18:02:35 @monitor.py:467]\u001b[0m QueueInput/queue_size: 50\n",
      "\u001b[32m[1104 18:02:35 @base.py:275]\u001b[0m Start Epoch 918 ...\n"
     ]
    },
    {
     "name": "stderr",
     "output_type": "stream",
     "text": [
      "100%|###################################################################################|175/175[00:06<00:00,26.83it/s]"
     ]
    },
    {
     "name": "stdout",
     "output_type": "stream",
     "text": [
      "\u001b[32m[1104 18:02:41 @base.py:285]\u001b[0m Epoch 918 (global_step 192779) finished, time:6.52 seconds.\n"
     ]
    },
    {
     "name": "stderr",
     "output_type": "stream",
     "text": [
      "\n"
     ]
    },
    {
     "name": "stdout",
     "output_type": "stream",
     "text": [
      "\u001b[32m[1104 18:02:41 @saver.py:79]\u001b[0m Model saved to ../output/Chicago/WGGP_WI_new3/model\\model-192779.\n",
      "\u001b[32m[1104 18:02:42 @monitor.py:467]\u001b[0m GAN_loss/d_loss: -1.008\n",
      "\u001b[32m[1104 18:02:42 @monitor.py:467]\u001b[0m GAN_loss/g_loss: -0.86667\n",
      "\u001b[32m[1104 18:02:42 @monitor.py:467]\u001b[0m GAN_loss/gradient_penalty: 0.0097974\n",
      "\u001b[32m[1104 18:02:42 @monitor.py:467]\u001b[0m GAN_loss/gradient_rms: 1.0012\n",
      "\u001b[32m[1104 18:02:42 @monitor.py:467]\u001b[0m GAN_loss/kl_div: 0.091364\n",
      "\u001b[32m[1104 18:02:42 @monitor.py:467]\u001b[0m QueueInput/queue_size: 50\n",
      "\u001b[32m[1104 18:02:42 @base.py:275]\u001b[0m Start Epoch 919 ...\n"
     ]
    },
    {
     "name": "stderr",
     "output_type": "stream",
     "text": [
      "100%|###################################################################################|175/175[00:06<00:00,26.83it/s]"
     ]
    },
    {
     "name": "stdout",
     "output_type": "stream",
     "text": [
      "\u001b[32m[1104 18:02:48 @base.py:285]\u001b[0m Epoch 919 (global_step 192989) finished, time:6.52 seconds.\n"
     ]
    },
    {
     "name": "stderr",
     "output_type": "stream",
     "text": [
      "\n"
     ]
    },
    {
     "name": "stdout",
     "output_type": "stream",
     "text": [
      "\u001b[32m[1104 18:02:48 @saver.py:79]\u001b[0m Model saved to ../output/Chicago/WGGP_WI_new3/model\\model-192989.\n",
      "\u001b[32m[1104 18:02:48 @monitor.py:467]\u001b[0m GAN_loss/d_loss: -1.5519\n",
      "\u001b[32m[1104 18:02:48 @monitor.py:467]\u001b[0m GAN_loss/g_loss: -0.8482\n",
      "\u001b[32m[1104 18:02:48 @monitor.py:467]\u001b[0m GAN_loss/gradient_penalty: 0.011077\n",
      "\u001b[32m[1104 18:02:48 @monitor.py:467]\u001b[0m GAN_loss/gradient_rms: 1.0003\n",
      "\u001b[32m[1104 18:02:48 @monitor.py:467]\u001b[0m GAN_loss/kl_div: 0.098963\n",
      "\u001b[32m[1104 18:02:48 @monitor.py:467]\u001b[0m QueueInput/queue_size: 50\n",
      "\u001b[32m[1104 18:02:48 @base.py:275]\u001b[0m Start Epoch 920 ...\n"
     ]
    },
    {
     "name": "stderr",
     "output_type": "stream",
     "text": [
      "100%|###################################################################################|175/175[00:06<00:00,26.76it/s]"
     ]
    },
    {
     "name": "stdout",
     "output_type": "stream",
     "text": [
      "\u001b[32m[1104 18:02:55 @base.py:285]\u001b[0m Epoch 920 (global_step 193199) finished, time:6.54 seconds.\n"
     ]
    },
    {
     "name": "stderr",
     "output_type": "stream",
     "text": [
      "\n"
     ]
    },
    {
     "name": "stdout",
     "output_type": "stream",
     "text": [
      "\u001b[32m[1104 18:02:55 @saver.py:79]\u001b[0m Model saved to ../output/Chicago/WGGP_WI_new3/model\\model-193199.\n",
      "\u001b[32m[1104 18:02:55 @monitor.py:467]\u001b[0m GAN_loss/d_loss: -1.4968\n",
      "\u001b[32m[1104 18:02:55 @monitor.py:467]\u001b[0m GAN_loss/g_loss: -0.89688\n",
      "\u001b[32m[1104 18:02:55 @monitor.py:467]\u001b[0m GAN_loss/gradient_penalty: 0.011397\n",
      "\u001b[32m[1104 18:02:55 @monitor.py:467]\u001b[0m GAN_loss/gradient_rms: 1.0016\n",
      "\u001b[32m[1104 18:02:55 @monitor.py:467]\u001b[0m GAN_loss/kl_div: 0.089707\n",
      "\u001b[32m[1104 18:02:55 @monitor.py:467]\u001b[0m QueueInput/queue_size: 50\n",
      "\u001b[32m[1104 18:02:55 @base.py:275]\u001b[0m Start Epoch 921 ...\n"
     ]
    },
    {
     "name": "stderr",
     "output_type": "stream",
     "text": [
      "100%|###################################################################################|175/175[00:06<00:00,26.67it/s]"
     ]
    },
    {
     "name": "stdout",
     "output_type": "stream",
     "text": [
      "\u001b[32m[1104 18:03:02 @base.py:285]\u001b[0m Epoch 921 (global_step 193409) finished, time:6.56 seconds.\n"
     ]
    },
    {
     "name": "stderr",
     "output_type": "stream",
     "text": [
      "\n"
     ]
    },
    {
     "name": "stdout",
     "output_type": "stream",
     "text": [
      "\u001b[32m[1104 18:03:02 @saver.py:79]\u001b[0m Model saved to ../output/Chicago/WGGP_WI_new3/model\\model-193409.\n",
      "\u001b[32m[1104 18:03:02 @monitor.py:467]\u001b[0m GAN_loss/d_loss: -2.7161\n",
      "\u001b[32m[1104 18:03:02 @monitor.py:467]\u001b[0m GAN_loss/g_loss: -0.89886\n",
      "\u001b[32m[1104 18:03:02 @monitor.py:467]\u001b[0m GAN_loss/gradient_penalty: 0.014289\n",
      "\u001b[32m[1104 18:03:02 @monitor.py:467]\u001b[0m GAN_loss/gradient_rms: 1.0091\n",
      "\u001b[32m[1104 18:03:02 @monitor.py:467]\u001b[0m GAN_loss/kl_div: 0.1011\n",
      "\u001b[32m[1104 18:03:02 @monitor.py:467]\u001b[0m QueueInput/queue_size: 50\n",
      "\u001b[32m[1104 18:03:02 @base.py:275]\u001b[0m Start Epoch 922 ...\n"
     ]
    },
    {
     "name": "stderr",
     "output_type": "stream",
     "text": [
      "100%|###################################################################################|175/175[00:06<00:00,26.68it/s]"
     ]
    },
    {
     "name": "stdout",
     "output_type": "stream",
     "text": [
      "\u001b[32m[1104 18:03:09 @base.py:285]\u001b[0m Epoch 922 (global_step 193619) finished, time:6.56 seconds.\n",
      "\u001b[32m[1104 18:03:09 @saver.py:79]\u001b[0m Model saved to ../output/Chicago/WGGP_WI_new3/model\\model-193619.\n"
     ]
    },
    {
     "name": "stderr",
     "output_type": "stream",
     "text": [
      "\n"
     ]
    },
    {
     "name": "stdout",
     "output_type": "stream",
     "text": [
      "\u001b[32m[1104 18:03:09 @monitor.py:467]\u001b[0m GAN_loss/d_loss: -1.8957\n",
      "\u001b[32m[1104 18:03:09 @monitor.py:467]\u001b[0m GAN_loss/g_loss: -0.93678\n",
      "\u001b[32m[1104 18:03:09 @monitor.py:467]\u001b[0m GAN_loss/gradient_penalty: 0.012857\n",
      "\u001b[32m[1104 18:03:09 @monitor.py:467]\u001b[0m GAN_loss/gradient_rms: 0.99834\n",
      "\u001b[32m[1104 18:03:09 @monitor.py:467]\u001b[0m GAN_loss/kl_div: 0.083471\n",
      "\u001b[32m[1104 18:03:09 @monitor.py:467]\u001b[0m QueueInput/queue_size: 50\n",
      "\u001b[32m[1104 18:03:09 @base.py:275]\u001b[0m Start Epoch 923 ...\n"
     ]
    },
    {
     "name": "stderr",
     "output_type": "stream",
     "text": [
      "100%|###################################################################################|175/175[00:06<00:00,26.74it/s]"
     ]
    },
    {
     "name": "stdout",
     "output_type": "stream",
     "text": [
      "\u001b[32m[1104 18:03:15 @base.py:285]\u001b[0m Epoch 923 (global_step 193829) finished, time:6.55 seconds.\n"
     ]
    },
    {
     "name": "stderr",
     "output_type": "stream",
     "text": [
      "\n"
     ]
    },
    {
     "name": "stdout",
     "output_type": "stream",
     "text": [
      "\u001b[32m[1104 18:03:16 @saver.py:79]\u001b[0m Model saved to ../output/Chicago/WGGP_WI_new3/model\\model-193829.\n",
      "\u001b[32m[1104 18:03:16 @monitor.py:467]\u001b[0m GAN_loss/d_loss: -1.2838\n",
      "\u001b[32m[1104 18:03:16 @monitor.py:467]\u001b[0m GAN_loss/g_loss: -0.95624\n",
      "\u001b[32m[1104 18:03:16 @monitor.py:467]\u001b[0m GAN_loss/gradient_penalty: 0.012709\n",
      "\u001b[32m[1104 18:03:16 @monitor.py:467]\u001b[0m GAN_loss/gradient_rms: 1.0011\n",
      "\u001b[32m[1104 18:03:16 @monitor.py:467]\u001b[0m GAN_loss/kl_div: 0.085791\n",
      "\u001b[32m[1104 18:03:16 @monitor.py:467]\u001b[0m QueueInput/queue_size: 50\n",
      "\u001b[32m[1104 18:03:16 @base.py:275]\u001b[0m Start Epoch 924 ...\n"
     ]
    },
    {
     "name": "stderr",
     "output_type": "stream",
     "text": [
      "100%|###################################################################################|175/175[00:06<00:00,26.81it/s]"
     ]
    },
    {
     "name": "stdout",
     "output_type": "stream",
     "text": [
      "\u001b[32m[1104 18:03:22 @base.py:285]\u001b[0m Epoch 924 (global_step 194039) finished, time:6.53 seconds.\n"
     ]
    },
    {
     "name": "stderr",
     "output_type": "stream",
     "text": [
      "\n"
     ]
    },
    {
     "name": "stdout",
     "output_type": "stream",
     "text": [
      "\u001b[32m[1104 18:03:22 @saver.py:79]\u001b[0m Model saved to ../output/Chicago/WGGP_WI_new3/model\\model-194039.\n",
      "\u001b[32m[1104 18:03:22 @monitor.py:467]\u001b[0m GAN_loss/d_loss: -0.96413\n",
      "\u001b[32m[1104 18:03:22 @monitor.py:467]\u001b[0m GAN_loss/g_loss: -1.0132\n",
      "\u001b[32m[1104 18:03:22 @monitor.py:467]\u001b[0m GAN_loss/gradient_penalty: 0.01059\n",
      "\u001b[32m[1104 18:03:22 @monitor.py:467]\u001b[0m GAN_loss/gradient_rms: 1.0009\n",
      "\u001b[32m[1104 18:03:22 @monitor.py:467]\u001b[0m GAN_loss/kl_div: 0.078671\n",
      "\u001b[32m[1104 18:03:22 @monitor.py:467]\u001b[0m QueueInput/queue_size: 50\n",
      "\u001b[32m[1104 18:03:22 @base.py:275]\u001b[0m Start Epoch 925 ...\n"
     ]
    },
    {
     "name": "stderr",
     "output_type": "stream",
     "text": [
      "100%|###################################################################################|175/175[00:06<00:00,26.80it/s]"
     ]
    },
    {
     "name": "stdout",
     "output_type": "stream",
     "text": [
      "\u001b[32m[1104 18:03:29 @base.py:285]\u001b[0m Epoch 925 (global_step 194249) finished, time:6.53 seconds.\n"
     ]
    },
    {
     "name": "stderr",
     "output_type": "stream",
     "text": [
      "\n"
     ]
    },
    {
     "name": "stdout",
     "output_type": "stream",
     "text": [
      "\u001b[32m[1104 18:03:29 @saver.py:79]\u001b[0m Model saved to ../output/Chicago/WGGP_WI_new3/model\\model-194249.\n",
      "\u001b[32m[1104 18:03:29 @monitor.py:467]\u001b[0m GAN_loss/d_loss: -0.94387\n",
      "\u001b[32m[1104 18:03:29 @monitor.py:467]\u001b[0m GAN_loss/g_loss: -1.089\n",
      "\u001b[32m[1104 18:03:29 @monitor.py:467]\u001b[0m GAN_loss/gradient_penalty: 0.010766\n",
      "\u001b[32m[1104 18:03:29 @monitor.py:467]\u001b[0m GAN_loss/gradient_rms: 1.0021\n",
      "\u001b[32m[1104 18:03:29 @monitor.py:467]\u001b[0m GAN_loss/kl_div: 0.091272\n",
      "\u001b[32m[1104 18:03:29 @monitor.py:467]\u001b[0m QueueInput/queue_size: 50\n",
      "\u001b[32m[1104 18:03:29 @base.py:275]\u001b[0m Start Epoch 926 ...\n"
     ]
    },
    {
     "name": "stderr",
     "output_type": "stream",
     "text": [
      "100%|###################################################################################|175/175[00:06<00:00,26.74it/s]"
     ]
    },
    {
     "name": "stdout",
     "output_type": "stream",
     "text": [
      "\u001b[32m[1104 18:03:36 @base.py:285]\u001b[0m Epoch 926 (global_step 194459) finished, time:6.55 seconds.\n",
      "\u001b[32m[1104 18:03:36 @saver.py:79]\u001b[0m Model saved to ../output/Chicago/WGGP_WI_new3/model\\model-194459.\n"
     ]
    },
    {
     "name": "stderr",
     "output_type": "stream",
     "text": [
      "\n"
     ]
    },
    {
     "name": "stdout",
     "output_type": "stream",
     "text": [
      "\u001b[32m[1104 18:03:36 @monitor.py:467]\u001b[0m GAN_loss/d_loss: -1.5593\n",
      "\u001b[32m[1104 18:03:36 @monitor.py:467]\u001b[0m GAN_loss/g_loss: -1.0431\n",
      "\u001b[32m[1104 18:03:36 @monitor.py:467]\u001b[0m GAN_loss/gradient_penalty: 0.012609\n",
      "\u001b[32m[1104 18:03:36 @monitor.py:467]\u001b[0m GAN_loss/gradient_rms: 1.0029\n",
      "\u001b[32m[1104 18:03:36 @monitor.py:467]\u001b[0m GAN_loss/kl_div: 0.08465\n",
      "\u001b[32m[1104 18:03:36 @monitor.py:467]\u001b[0m QueueInput/queue_size: 50\n",
      "\u001b[32m[1104 18:03:36 @base.py:275]\u001b[0m Start Epoch 927 ...\n"
     ]
    },
    {
     "name": "stderr",
     "output_type": "stream",
     "text": [
      "100%|###################################################################################|175/175[00:06<00:00,26.78it/s]"
     ]
    },
    {
     "name": "stdout",
     "output_type": "stream",
     "text": [
      "\u001b[32m[1104 18:03:43 @base.py:285]\u001b[0m Epoch 927 (global_step 194669) finished, time:6.54 seconds.\n",
      "\u001b[32m[1104 18:03:43 @saver.py:79]\u001b[0m Model saved to ../output/Chicago/WGGP_WI_new3/model\\model-194669.\n"
     ]
    },
    {
     "name": "stderr",
     "output_type": "stream",
     "text": [
      "\n"
     ]
    },
    {
     "name": "stdout",
     "output_type": "stream",
     "text": [
      "\u001b[32m[1104 18:03:43 @monitor.py:467]\u001b[0m GAN_loss/d_loss: -1.1753\n",
      "\u001b[32m[1104 18:03:43 @monitor.py:467]\u001b[0m GAN_loss/g_loss: -1.0395\n",
      "\u001b[32m[1104 18:03:43 @monitor.py:467]\u001b[0m GAN_loss/gradient_penalty: 0.011412\n",
      "\u001b[32m[1104 18:03:43 @monitor.py:467]\u001b[0m GAN_loss/gradient_rms: 0.9979\n",
      "\u001b[32m[1104 18:03:43 @monitor.py:467]\u001b[0m GAN_loss/kl_div: 0.097564\n",
      "\u001b[32m[1104 18:03:43 @monitor.py:467]\u001b[0m QueueInput/queue_size: 50\n",
      "\u001b[32m[1104 18:03:43 @base.py:275]\u001b[0m Start Epoch 928 ...\n"
     ]
    },
    {
     "name": "stderr",
     "output_type": "stream",
     "text": [
      "100%|###################################################################################|175/175[00:06<00:00,26.81it/s]"
     ]
    },
    {
     "name": "stdout",
     "output_type": "stream",
     "text": [
      "\u001b[32m[1104 18:03:49 @base.py:285]\u001b[0m Epoch 928 (global_step 194879) finished, time:6.53 seconds.\n",
      "\u001b[32m[1104 18:03:50 @saver.py:79]\u001b[0m Model saved to ../output/Chicago/WGGP_WI_new3/model\\model-194879.\n"
     ]
    },
    {
     "name": "stderr",
     "output_type": "stream",
     "text": [
      "\n"
     ]
    },
    {
     "name": "stdout",
     "output_type": "stream",
     "text": [
      "\u001b[32m[1104 18:03:50 @monitor.py:467]\u001b[0m GAN_loss/d_loss: -0.64108\n",
      "\u001b[32m[1104 18:03:50 @monitor.py:467]\u001b[0m GAN_loss/g_loss: -1.0634\n",
      "\u001b[32m[1104 18:03:50 @monitor.py:467]\u001b[0m GAN_loss/gradient_penalty: 0.010125\n",
      "\u001b[32m[1104 18:03:50 @monitor.py:467]\u001b[0m GAN_loss/gradient_rms: 0.9977\n",
      "\u001b[32m[1104 18:03:50 @monitor.py:467]\u001b[0m GAN_loss/kl_div: 0.097731\n",
      "\u001b[32m[1104 18:03:50 @monitor.py:467]\u001b[0m QueueInput/queue_size: 50\n",
      "\u001b[32m[1104 18:03:50 @base.py:275]\u001b[0m Start Epoch 929 ...\n"
     ]
    },
    {
     "name": "stderr",
     "output_type": "stream",
     "text": [
      "100%|###################################################################################|175/175[00:06<00:00,26.75it/s]"
     ]
    },
    {
     "name": "stdout",
     "output_type": "stream",
     "text": [
      "\u001b[32m[1104 18:03:56 @base.py:285]\u001b[0m Epoch 929 (global_step 195089) finished, time:6.54 seconds.\n"
     ]
    },
    {
     "name": "stderr",
     "output_type": "stream",
     "text": [
      "\n"
     ]
    },
    {
     "name": "stdout",
     "output_type": "stream",
     "text": [
      "\u001b[32m[1104 18:03:56 @saver.py:79]\u001b[0m Model saved to ../output/Chicago/WGGP_WI_new3/model\\model-195089.\n",
      "\u001b[32m[1104 18:03:56 @monitor.py:467]\u001b[0m GAN_loss/d_loss: -0.91252\n",
      "\u001b[32m[1104 18:03:56 @monitor.py:467]\u001b[0m GAN_loss/g_loss: -1.0087\n",
      "\u001b[32m[1104 18:03:56 @monitor.py:467]\u001b[0m GAN_loss/gradient_penalty: 0.01137\n",
      "\u001b[32m[1104 18:03:56 @monitor.py:467]\u001b[0m GAN_loss/gradient_rms: 1.0004\n",
      "\u001b[32m[1104 18:03:56 @monitor.py:467]\u001b[0m GAN_loss/kl_div: 0.10707\n",
      "\u001b[32m[1104 18:03:56 @monitor.py:467]\u001b[0m QueueInput/queue_size: 50\n",
      "\u001b[32m[1104 18:03:56 @base.py:275]\u001b[0m Start Epoch 930 ...\n"
     ]
    },
    {
     "name": "stderr",
     "output_type": "stream",
     "text": [
      "100%|###################################################################################|175/175[00:06<00:00,26.83it/s]"
     ]
    },
    {
     "name": "stdout",
     "output_type": "stream",
     "text": [
      "\u001b[32m[1104 18:04:03 @base.py:285]\u001b[0m Epoch 930 (global_step 195299) finished, time:6.52 seconds.\n"
     ]
    },
    {
     "name": "stderr",
     "output_type": "stream",
     "text": [
      "\n"
     ]
    },
    {
     "name": "stdout",
     "output_type": "stream",
     "text": [
      "\u001b[32m[1104 18:04:03 @saver.py:79]\u001b[0m Model saved to ../output/Chicago/WGGP_WI_new3/model\\model-195299.\n",
      "\u001b[32m[1104 18:04:03 @monitor.py:467]\u001b[0m GAN_loss/d_loss: -1.1091\n",
      "\u001b[32m[1104 18:04:03 @monitor.py:467]\u001b[0m GAN_loss/g_loss: -1.0345\n",
      "\u001b[32m[1104 18:04:03 @monitor.py:467]\u001b[0m GAN_loss/gradient_penalty: 0.012095\n",
      "\u001b[32m[1104 18:04:03 @monitor.py:467]\u001b[0m GAN_loss/gradient_rms: 0.99752\n",
      "\u001b[32m[1104 18:04:03 @monitor.py:467]\u001b[0m GAN_loss/kl_div: 0.10365\n",
      "\u001b[32m[1104 18:04:03 @monitor.py:467]\u001b[0m QueueInput/queue_size: 50\n",
      "\u001b[32m[1104 18:04:03 @base.py:275]\u001b[0m Start Epoch 931 ...\n"
     ]
    },
    {
     "name": "stderr",
     "output_type": "stream",
     "text": [
      "100%|###################################################################################|175/175[00:06<00:00,26.62it/s]"
     ]
    },
    {
     "name": "stdout",
     "output_type": "stream",
     "text": [
      "\u001b[32m[1104 18:04:10 @base.py:285]\u001b[0m Epoch 931 (global_step 195509) finished, time:6.57 seconds.\n",
      "\u001b[32m[1104 18:04:10 @saver.py:79]\u001b[0m Model saved to ../output/Chicago/WGGP_WI_new3/model\\model-195509.\n"
     ]
    },
    {
     "name": "stderr",
     "output_type": "stream",
     "text": [
      "\n"
     ]
    },
    {
     "name": "stdout",
     "output_type": "stream",
     "text": [
      "\u001b[32m[1104 18:04:10 @monitor.py:467]\u001b[0m GAN_loss/d_loss: -1.4249\n",
      "\u001b[32m[1104 18:04:10 @monitor.py:467]\u001b[0m GAN_loss/g_loss: -1.0391\n",
      "\u001b[32m[1104 18:04:10 @monitor.py:467]\u001b[0m GAN_loss/gradient_penalty: 0.011342\n",
      "\u001b[32m[1104 18:04:10 @monitor.py:467]\u001b[0m GAN_loss/gradient_rms: 1.0018\n",
      "\u001b[32m[1104 18:04:10 @monitor.py:467]\u001b[0m GAN_loss/kl_div: 0.097823\n",
      "\u001b[32m[1104 18:04:10 @monitor.py:467]\u001b[0m QueueInput/queue_size: 50\n",
      "\u001b[32m[1104 18:04:10 @base.py:275]\u001b[0m Start Epoch 932 ...\n"
     ]
    },
    {
     "name": "stderr",
     "output_type": "stream",
     "text": [
      "100%|###################################################################################|175/175[00:06<00:00,26.79it/s]"
     ]
    },
    {
     "name": "stdout",
     "output_type": "stream",
     "text": [
      "\u001b[32m[1104 18:04:17 @base.py:285]\u001b[0m Epoch 932 (global_step 195719) finished, time:6.53 seconds.\n"
     ]
    },
    {
     "name": "stderr",
     "output_type": "stream",
     "text": [
      "\n"
     ]
    },
    {
     "name": "stdout",
     "output_type": "stream",
     "text": [
      "\u001b[32m[1104 18:04:17 @saver.py:79]\u001b[0m Model saved to ../output/Chicago/WGGP_WI_new3/model\\model-195719.\n",
      "\u001b[32m[1104 18:04:17 @monitor.py:467]\u001b[0m GAN_loss/d_loss: -1.0562\n",
      "\u001b[32m[1104 18:04:17 @monitor.py:467]\u001b[0m GAN_loss/g_loss: -1.0709\n",
      "\u001b[32m[1104 18:04:17 @monitor.py:467]\u001b[0m GAN_loss/gradient_penalty: 0.011436\n",
      "\u001b[32m[1104 18:04:17 @monitor.py:467]\u001b[0m GAN_loss/gradient_rms: 1.0022\n",
      "\u001b[32m[1104 18:04:17 @monitor.py:467]\u001b[0m GAN_loss/kl_div: 0.098826\n",
      "\u001b[32m[1104 18:04:17 @monitor.py:467]\u001b[0m QueueInput/queue_size: 50\n",
      "\u001b[32m[1104 18:04:17 @base.py:275]\u001b[0m Start Epoch 933 ...\n"
     ]
    },
    {
     "name": "stderr",
     "output_type": "stream",
     "text": [
      "100%|###################################################################################|175/175[00:06<00:00,26.81it/s]"
     ]
    },
    {
     "name": "stdout",
     "output_type": "stream",
     "text": [
      "\u001b[32m[1104 18:04:23 @base.py:285]\u001b[0m Epoch 933 (global_step 195929) finished, time:6.53 seconds.\n",
      "\u001b[32m[1104 18:04:24 @saver.py:79]\u001b[0m Model saved to ../output/Chicago/WGGP_WI_new3/model\\model-195929.\n"
     ]
    },
    {
     "name": "stderr",
     "output_type": "stream",
     "text": [
      "\n"
     ]
    },
    {
     "name": "stdout",
     "output_type": "stream",
     "text": [
      "\u001b[32m[1104 18:04:24 @monitor.py:467]\u001b[0m GAN_loss/d_loss: -0.76427\n",
      "\u001b[32m[1104 18:04:24 @monitor.py:467]\u001b[0m GAN_loss/g_loss: -1.0843\n",
      "\u001b[32m[1104 18:04:24 @monitor.py:467]\u001b[0m GAN_loss/gradient_penalty: 0.01066\n",
      "\u001b[32m[1104 18:04:24 @monitor.py:467]\u001b[0m GAN_loss/gradient_rms: 0.99896\n",
      "\u001b[32m[1104 18:04:24 @monitor.py:467]\u001b[0m GAN_loss/kl_div: 0.095032\n",
      "\u001b[32m[1104 18:04:24 @monitor.py:467]\u001b[0m QueueInput/queue_size: 50\n",
      "\u001b[32m[1104 18:04:24 @base.py:275]\u001b[0m Start Epoch 934 ...\n"
     ]
    },
    {
     "name": "stderr",
     "output_type": "stream",
     "text": [
      "100%|###################################################################################|175/175[00:06<00:00,26.62it/s]"
     ]
    },
    {
     "name": "stdout",
     "output_type": "stream",
     "text": [
      "\u001b[32m[1104 18:04:30 @base.py:285]\u001b[0m Epoch 934 (global_step 196139) finished, time:6.57 seconds.\n",
      "\u001b[32m[1104 18:04:30 @saver.py:79]\u001b[0m Model saved to ../output/Chicago/WGGP_WI_new3/model\\model-196139.\n"
     ]
    },
    {
     "name": "stderr",
     "output_type": "stream",
     "text": [
      "\n"
     ]
    },
    {
     "name": "stdout",
     "output_type": "stream",
     "text": [
      "\u001b[32m[1104 18:04:31 @monitor.py:467]\u001b[0m GAN_loss/d_loss: -1.2252\n",
      "\u001b[32m[1104 18:04:31 @monitor.py:467]\u001b[0m GAN_loss/g_loss: -1.075\n",
      "\u001b[32m[1104 18:04:31 @monitor.py:467]\u001b[0m GAN_loss/gradient_penalty: 0.010774\n",
      "\u001b[32m[1104 18:04:31 @monitor.py:467]\u001b[0m GAN_loss/gradient_rms: 1.0008\n",
      "\u001b[32m[1104 18:04:31 @monitor.py:467]\u001b[0m GAN_loss/kl_div: 0.097797\n",
      "\u001b[32m[1104 18:04:31 @monitor.py:467]\u001b[0m QueueInput/queue_size: 50\n",
      "\u001b[32m[1104 18:04:31 @base.py:275]\u001b[0m Start Epoch 935 ...\n"
     ]
    },
    {
     "name": "stderr",
     "output_type": "stream",
     "text": [
      "100%|###################################################################################|175/175[00:06<00:00,26.57it/s]"
     ]
    },
    {
     "name": "stdout",
     "output_type": "stream",
     "text": [
      "\u001b[32m[1104 18:04:37 @base.py:285]\u001b[0m Epoch 935 (global_step 196349) finished, time:6.59 seconds.\n",
      "\u001b[32m[1104 18:04:37 @saver.py:79]\u001b[0m Model saved to ../output/Chicago/WGGP_WI_new3/model\\model-196349.\n"
     ]
    },
    {
     "name": "stderr",
     "output_type": "stream",
     "text": [
      "\n"
     ]
    },
    {
     "name": "stdout",
     "output_type": "stream",
     "text": [
      "\u001b[32m[1104 18:04:37 @monitor.py:467]\u001b[0m GAN_loss/d_loss: -1.367\n",
      "\u001b[32m[1104 18:04:37 @monitor.py:467]\u001b[0m GAN_loss/g_loss: -1.0664\n",
      "\u001b[32m[1104 18:04:37 @monitor.py:467]\u001b[0m GAN_loss/gradient_penalty: 0.010685\n",
      "\u001b[32m[1104 18:04:37 @monitor.py:467]\u001b[0m GAN_loss/gradient_rms: 1.0006\n",
      "\u001b[32m[1104 18:04:37 @monitor.py:467]\u001b[0m GAN_loss/kl_div: 0.087638\n",
      "\u001b[32m[1104 18:04:37 @monitor.py:467]\u001b[0m QueueInput/queue_size: 50\n",
      "\u001b[32m[1104 18:04:37 @base.py:275]\u001b[0m Start Epoch 936 ...\n"
     ]
    },
    {
     "name": "stderr",
     "output_type": "stream",
     "text": [
      "100%|###################################################################################|175/175[00:06<00:00,26.51it/s]"
     ]
    },
    {
     "name": "stdout",
     "output_type": "stream",
     "text": [
      "\u001b[32m[1104 18:04:44 @base.py:285]\u001b[0m Epoch 936 (global_step 196559) finished, time:6.6 seconds.\n",
      "\u001b[32m[1104 18:04:44 @saver.py:79]\u001b[0m Model saved to ../output/Chicago/WGGP_WI_new3/model\\model-196559.\n"
     ]
    },
    {
     "name": "stderr",
     "output_type": "stream",
     "text": [
      "\n"
     ]
    },
    {
     "name": "stdout",
     "output_type": "stream",
     "text": [
      "\u001b[32m[1104 18:04:44 @monitor.py:467]\u001b[0m GAN_loss/d_loss: -0.99829\n",
      "\u001b[32m[1104 18:04:44 @monitor.py:467]\u001b[0m GAN_loss/g_loss: -1.0709\n",
      "\u001b[32m[1104 18:04:44 @monitor.py:467]\u001b[0m GAN_loss/gradient_penalty: 0.010419\n",
      "\u001b[32m[1104 18:04:44 @monitor.py:467]\u001b[0m GAN_loss/gradient_rms: 1.0026\n",
      "\u001b[32m[1104 18:04:44 @monitor.py:467]\u001b[0m GAN_loss/kl_div: 0.096498\n",
      "\u001b[32m[1104 18:04:44 @monitor.py:467]\u001b[0m QueueInput/queue_size: 50\n",
      "\u001b[32m[1104 18:04:44 @base.py:275]\u001b[0m Start Epoch 937 ...\n"
     ]
    },
    {
     "name": "stderr",
     "output_type": "stream",
     "text": [
      "100%|###################################################################################|175/175[00:06<00:00,26.64it/s]"
     ]
    },
    {
     "name": "stdout",
     "output_type": "stream",
     "text": [
      "\u001b[32m[1104 18:04:51 @base.py:285]\u001b[0m Epoch 937 (global_step 196769) finished, time:6.57 seconds.\n",
      "\u001b[32m[1104 18:04:51 @saver.py:79]\u001b[0m Model saved to ../output/Chicago/WGGP_WI_new3/model\\model-196769.\n"
     ]
    },
    {
     "name": "stderr",
     "output_type": "stream",
     "text": [
      "\n"
     ]
    },
    {
     "name": "stdout",
     "output_type": "stream",
     "text": [
      "\u001b[32m[1104 18:04:51 @monitor.py:467]\u001b[0m GAN_loss/d_loss: -0.97231\n",
      "\u001b[32m[1104 18:04:51 @monitor.py:467]\u001b[0m GAN_loss/g_loss: -1.0575\n",
      "\u001b[32m[1104 18:04:51 @monitor.py:467]\u001b[0m GAN_loss/gradient_penalty: 0.010013\n",
      "\u001b[32m[1104 18:04:51 @monitor.py:467]\u001b[0m GAN_loss/gradient_rms: 0.99935\n",
      "\u001b[32m[1104 18:04:51 @monitor.py:467]\u001b[0m GAN_loss/kl_div: 0.091587\n",
      "\u001b[32m[1104 18:04:51 @monitor.py:467]\u001b[0m QueueInput/queue_size: 50\n",
      "\u001b[32m[1104 18:04:51 @base.py:275]\u001b[0m Start Epoch 938 ...\n"
     ]
    },
    {
     "name": "stderr",
     "output_type": "stream",
     "text": [
      "100%|###################################################################################|175/175[00:06<00:00,26.69it/s]"
     ]
    },
    {
     "name": "stdout",
     "output_type": "stream",
     "text": [
      "\u001b[32m[1104 18:04:58 @base.py:285]\u001b[0m Epoch 938 (global_step 196979) finished, time:6.56 seconds.\n",
      "\u001b[32m[1104 18:04:58 @saver.py:79]\u001b[0m Model saved to ../output/Chicago/WGGP_WI_new3/model\\model-196979.\n"
     ]
    },
    {
     "name": "stderr",
     "output_type": "stream",
     "text": [
      "\n"
     ]
    },
    {
     "name": "stdout",
     "output_type": "stream",
     "text": [
      "\u001b[32m[1104 18:04:58 @monitor.py:467]\u001b[0m GAN_loss/d_loss: -1.6004\n",
      "\u001b[32m[1104 18:04:58 @monitor.py:467]\u001b[0m GAN_loss/g_loss: -1.0363\n",
      "\u001b[32m[1104 18:04:58 @monitor.py:467]\u001b[0m GAN_loss/gradient_penalty: 0.011293\n",
      "\u001b[32m[1104 18:04:58 @monitor.py:467]\u001b[0m GAN_loss/gradient_rms: 1.0016\n",
      "\u001b[32m[1104 18:04:58 @monitor.py:467]\u001b[0m GAN_loss/kl_div: 0.090466\n",
      "\u001b[32m[1104 18:04:58 @monitor.py:467]\u001b[0m QueueInput/queue_size: 50\n",
      "\u001b[32m[1104 18:04:58 @base.py:275]\u001b[0m Start Epoch 939 ...\n"
     ]
    },
    {
     "name": "stderr",
     "output_type": "stream",
     "text": [
      "100%|###################################################################################|175/175[00:06<00:00,26.97it/s]"
     ]
    },
    {
     "name": "stdout",
     "output_type": "stream",
     "text": [
      "\u001b[32m[1104 18:05:04 @base.py:285]\u001b[0m Epoch 939 (global_step 197189) finished, time:6.49 seconds.\n",
      "\u001b[32m[1104 18:05:05 @saver.py:79]\u001b[0m Model saved to ../output/Chicago/WGGP_WI_new3/model\\model-197189.\n"
     ]
    },
    {
     "name": "stderr",
     "output_type": "stream",
     "text": [
      "\n"
     ]
    },
    {
     "name": "stdout",
     "output_type": "stream",
     "text": [
      "\u001b[32m[1104 18:05:05 @monitor.py:467]\u001b[0m GAN_loss/d_loss: -1.4439\n",
      "\u001b[32m[1104 18:05:05 @monitor.py:467]\u001b[0m GAN_loss/g_loss: -1.0614\n",
      "\u001b[32m[1104 18:05:05 @monitor.py:467]\u001b[0m GAN_loss/gradient_penalty: 0.012316\n",
      "\u001b[32m[1104 18:05:05 @monitor.py:467]\u001b[0m GAN_loss/gradient_rms: 1.0049\n",
      "\u001b[32m[1104 18:05:05 @monitor.py:467]\u001b[0m GAN_loss/kl_div: 0.081764\n",
      "\u001b[32m[1104 18:05:05 @monitor.py:467]\u001b[0m QueueInput/queue_size: 50\n",
      "\u001b[32m[1104 18:05:05 @base.py:275]\u001b[0m Start Epoch 940 ...\n"
     ]
    },
    {
     "name": "stderr",
     "output_type": "stream",
     "text": [
      "100%|###################################################################################|175/175[00:06<00:00,26.95it/s]"
     ]
    },
    {
     "name": "stdout",
     "output_type": "stream",
     "text": [
      "\u001b[32m[1104 18:05:11 @base.py:285]\u001b[0m Epoch 940 (global_step 197399) finished, time:6.49 seconds.\n",
      "\u001b[32m[1104 18:05:11 @saver.py:79]\u001b[0m Model saved to ../output/Chicago/WGGP_WI_new3/model\\model-197399.\n"
     ]
    },
    {
     "name": "stderr",
     "output_type": "stream",
     "text": [
      "\n"
     ]
    },
    {
     "name": "stdout",
     "output_type": "stream",
     "text": [
      "\u001b[32m[1104 18:05:11 @monitor.py:467]\u001b[0m GAN_loss/d_loss: -1.331\n",
      "\u001b[32m[1104 18:05:11 @monitor.py:467]\u001b[0m GAN_loss/g_loss: -1.102\n",
      "\u001b[32m[1104 18:05:11 @monitor.py:467]\u001b[0m GAN_loss/gradient_penalty: 0.011768\n",
      "\u001b[32m[1104 18:05:11 @monitor.py:467]\u001b[0m GAN_loss/gradient_rms: 1.0004\n",
      "\u001b[32m[1104 18:05:11 @monitor.py:467]\u001b[0m GAN_loss/kl_div: 0.078611\n",
      "\u001b[32m[1104 18:05:11 @monitor.py:467]\u001b[0m QueueInput/queue_size: 50\n",
      "\u001b[32m[1104 18:05:11 @base.py:275]\u001b[0m Start Epoch 941 ...\n"
     ]
    },
    {
     "name": "stderr",
     "output_type": "stream",
     "text": [
      "100%|###################################################################################|175/175[00:06<00:00,26.97it/s]"
     ]
    },
    {
     "name": "stdout",
     "output_type": "stream",
     "text": [
      "\u001b[32m[1104 18:05:18 @base.py:285]\u001b[0m Epoch 941 (global_step 197609) finished, time:6.49 seconds.\n",
      "\u001b[32m[1104 18:05:18 @saver.py:79]\u001b[0m Model saved to ../output/Chicago/WGGP_WI_new3/model\\model-197609.\n"
     ]
    },
    {
     "name": "stderr",
     "output_type": "stream",
     "text": [
      "\n"
     ]
    },
    {
     "name": "stdout",
     "output_type": "stream",
     "text": [
      "\u001b[32m[1104 18:05:18 @monitor.py:467]\u001b[0m GAN_loss/d_loss: -0.80513\n",
      "\u001b[32m[1104 18:05:18 @monitor.py:467]\u001b[0m GAN_loss/g_loss: -1.1239\n",
      "\u001b[32m[1104 18:05:18 @monitor.py:467]\u001b[0m GAN_loss/gradient_penalty: 0.011786\n",
      "\u001b[32m[1104 18:05:18 @monitor.py:467]\u001b[0m GAN_loss/gradient_rms: 0.99706\n",
      "\u001b[32m[1104 18:05:18 @monitor.py:467]\u001b[0m GAN_loss/kl_div: 0.083107\n",
      "\u001b[32m[1104 18:05:18 @monitor.py:467]\u001b[0m QueueInput/queue_size: 50\n",
      "\u001b[32m[1104 18:05:18 @base.py:275]\u001b[0m Start Epoch 942 ...\n"
     ]
    },
    {
     "name": "stderr",
     "output_type": "stream",
     "text": [
      "100%|###################################################################################|175/175[00:06<00:00,26.84it/s]"
     ]
    },
    {
     "name": "stdout",
     "output_type": "stream",
     "text": [
      "\u001b[32m[1104 18:05:25 @base.py:285]\u001b[0m Epoch 942 (global_step 197819) finished, time:6.52 seconds.\n"
     ]
    },
    {
     "name": "stderr",
     "output_type": "stream",
     "text": [
      "\n"
     ]
    },
    {
     "name": "stdout",
     "output_type": "stream",
     "text": [
      "\u001b[32m[1104 18:05:25 @saver.py:79]\u001b[0m Model saved to ../output/Chicago/WGGP_WI_new3/model\\model-197819.\n",
      "\u001b[32m[1104 18:05:25 @monitor.py:467]\u001b[0m GAN_loss/d_loss: -1.0347\n",
      "\u001b[32m[1104 18:05:25 @monitor.py:467]\u001b[0m GAN_loss/g_loss: -1.1465\n",
      "\u001b[32m[1104 18:05:25 @monitor.py:467]\u001b[0m GAN_loss/gradient_penalty: 0.013007\n",
      "\u001b[32m[1104 18:05:25 @monitor.py:467]\u001b[0m GAN_loss/gradient_rms: 0.99764\n",
      "\u001b[32m[1104 18:05:25 @monitor.py:467]\u001b[0m GAN_loss/kl_div: 0.082433\n",
      "\u001b[32m[1104 18:05:25 @monitor.py:467]\u001b[0m QueueInput/queue_size: 50\n",
      "\u001b[32m[1104 18:05:25 @base.py:275]\u001b[0m Start Epoch 943 ...\n"
     ]
    },
    {
     "name": "stderr",
     "output_type": "stream",
     "text": [
      "100%|###################################################################################|175/175[00:06<00:00,26.95it/s]"
     ]
    },
    {
     "name": "stdout",
     "output_type": "stream",
     "text": [
      "\u001b[32m[1104 18:05:31 @base.py:285]\u001b[0m Epoch 943 (global_step 198029) finished, time:6.49 seconds.\n"
     ]
    },
    {
     "name": "stderr",
     "output_type": "stream",
     "text": [
      "\n"
     ]
    },
    {
     "name": "stdout",
     "output_type": "stream",
     "text": [
      "\u001b[32m[1104 18:05:32 @saver.py:79]\u001b[0m Model saved to ../output/Chicago/WGGP_WI_new3/model\\model-198029.\n",
      "\u001b[32m[1104 18:05:32 @monitor.py:467]\u001b[0m GAN_loss/d_loss: -0.99157\n",
      "\u001b[32m[1104 18:05:32 @monitor.py:467]\u001b[0m GAN_loss/g_loss: -1.1371\n",
      "\u001b[32m[1104 18:05:32 @monitor.py:467]\u001b[0m GAN_loss/gradient_penalty: 0.014949\n",
      "\u001b[32m[1104 18:05:32 @monitor.py:467]\u001b[0m GAN_loss/gradient_rms: 0.99617\n",
      "\u001b[32m[1104 18:05:32 @monitor.py:467]\u001b[0m GAN_loss/kl_div: 0.0936\n",
      "\u001b[32m[1104 18:05:32 @monitor.py:467]\u001b[0m QueueInput/queue_size: 50\n",
      "\u001b[32m[1104 18:05:32 @base.py:275]\u001b[0m Start Epoch 944 ...\n"
     ]
    },
    {
     "name": "stderr",
     "output_type": "stream",
     "text": [
      "100%|###################################################################################|175/175[00:06<00:00,26.89it/s]"
     ]
    },
    {
     "name": "stdout",
     "output_type": "stream",
     "text": [
      "\u001b[32m[1104 18:05:38 @base.py:285]\u001b[0m Epoch 944 (global_step 198239) finished, time:6.51 seconds.\n",
      "\u001b[32m[1104 18:05:38 @saver.py:79]\u001b[0m Model saved to ../output/Chicago/WGGP_WI_new3/model\\model-198239.\n"
     ]
    },
    {
     "name": "stderr",
     "output_type": "stream",
     "text": [
      "\n"
     ]
    },
    {
     "name": "stdout",
     "output_type": "stream",
     "text": [
      "\u001b[32m[1104 18:05:38 @monitor.py:467]\u001b[0m GAN_loss/d_loss: -1.4798\n",
      "\u001b[32m[1104 18:05:38 @monitor.py:467]\u001b[0m GAN_loss/g_loss: -1.1478\n",
      "\u001b[32m[1104 18:05:38 @monitor.py:467]\u001b[0m GAN_loss/gradient_penalty: 0.017967\n",
      "\u001b[32m[1104 18:05:38 @monitor.py:467]\u001b[0m GAN_loss/gradient_rms: 0.99759\n",
      "\u001b[32m[1104 18:05:38 @monitor.py:467]\u001b[0m GAN_loss/kl_div: 0.10455\n",
      "\u001b[32m[1104 18:05:38 @monitor.py:467]\u001b[0m QueueInput/queue_size: 50\n",
      "\u001b[32m[1104 18:05:38 @base.py:275]\u001b[0m Start Epoch 945 ...\n"
     ]
    },
    {
     "name": "stderr",
     "output_type": "stream",
     "text": [
      "100%|###################################################################################|175/175[00:06<00:00,26.77it/s]"
     ]
    },
    {
     "name": "stdout",
     "output_type": "stream",
     "text": [
      "\u001b[32m[1104 18:05:45 @base.py:285]\u001b[0m Epoch 945 (global_step 198449) finished, time:6.54 seconds.\n",
      "\u001b[32m[1104 18:05:45 @saver.py:79]\u001b[0m Model saved to ../output/Chicago/WGGP_WI_new3/model\\model-198449.\n"
     ]
    },
    {
     "name": "stderr",
     "output_type": "stream",
     "text": [
      "\n"
     ]
    },
    {
     "name": "stdout",
     "output_type": "stream",
     "text": [
      "\u001b[32m[1104 18:05:45 @monitor.py:467]\u001b[0m GAN_loss/d_loss: -1.6023\n",
      "\u001b[32m[1104 18:05:45 @monitor.py:467]\u001b[0m GAN_loss/g_loss: -1.1715\n",
      "\u001b[32m[1104 18:05:45 @monitor.py:467]\u001b[0m GAN_loss/gradient_penalty: 0.018064\n",
      "\u001b[32m[1104 18:05:45 @monitor.py:467]\u001b[0m GAN_loss/gradient_rms: 0.99794\n",
      "\u001b[32m[1104 18:05:45 @monitor.py:467]\u001b[0m GAN_loss/kl_div: 0.096592\n",
      "\u001b[32m[1104 18:05:45 @monitor.py:467]\u001b[0m QueueInput/queue_size: 50\n",
      "\u001b[32m[1104 18:05:45 @base.py:275]\u001b[0m Start Epoch 946 ...\n"
     ]
    },
    {
     "name": "stderr",
     "output_type": "stream",
     "text": [
      "100%|###################################################################################|175/175[00:06<00:00,26.78it/s]"
     ]
    },
    {
     "name": "stdout",
     "output_type": "stream",
     "text": [
      "\u001b[32m[1104 18:05:52 @base.py:285]\u001b[0m Epoch 946 (global_step 198659) finished, time:6.54 seconds.\n",
      "\u001b[32m[1104 18:05:52 @saver.py:79]\u001b[0m Model saved to ../output/Chicago/WGGP_WI_new3/model\\model-198659.\n"
     ]
    },
    {
     "name": "stderr",
     "output_type": "stream",
     "text": [
      "\n"
     ]
    },
    {
     "name": "stdout",
     "output_type": "stream",
     "text": [
      "\u001b[32m[1104 18:05:52 @monitor.py:467]\u001b[0m GAN_loss/d_loss: -1.6507\n",
      "\u001b[32m[1104 18:05:52 @monitor.py:467]\u001b[0m GAN_loss/g_loss: -1.1973\n",
      "\u001b[32m[1104 18:05:52 @monitor.py:467]\u001b[0m GAN_loss/gradient_penalty: 0.017055\n",
      "\u001b[32m[1104 18:05:52 @monitor.py:467]\u001b[0m GAN_loss/gradient_rms: 0.99836\n",
      "\u001b[32m[1104 18:05:52 @monitor.py:467]\u001b[0m GAN_loss/kl_div: 0.088188\n",
      "\u001b[32m[1104 18:05:52 @monitor.py:467]\u001b[0m QueueInput/queue_size: 50\n",
      "\u001b[32m[1104 18:05:52 @base.py:275]\u001b[0m Start Epoch 947 ...\n"
     ]
    },
    {
     "name": "stderr",
     "output_type": "stream",
     "text": [
      "100%|###################################################################################|175/175[00:06<00:00,26.69it/s]"
     ]
    },
    {
     "name": "stdout",
     "output_type": "stream",
     "text": [
      "\u001b[32m[1104 18:05:59 @base.py:285]\u001b[0m Epoch 947 (global_step 198869) finished, time:6.56 seconds.\n",
      "\u001b[32m[1104 18:05:59 @saver.py:79]\u001b[0m Model saved to ../output/Chicago/WGGP_WI_new3/model\\model-198869.\n"
     ]
    },
    {
     "name": "stderr",
     "output_type": "stream",
     "text": [
      "\n"
     ]
    },
    {
     "name": "stdout",
     "output_type": "stream",
     "text": [
      "\u001b[32m[1104 18:05:59 @monitor.py:467]\u001b[0m GAN_loss/d_loss: -2.0065\n",
      "\u001b[32m[1104 18:05:59 @monitor.py:467]\u001b[0m GAN_loss/g_loss: -1.2092\n",
      "\u001b[32m[1104 18:05:59 @monitor.py:467]\u001b[0m GAN_loss/gradient_penalty: 0.018338\n",
      "\u001b[32m[1104 18:05:59 @monitor.py:467]\u001b[0m GAN_loss/gradient_rms: 0.99964\n",
      "\u001b[32m[1104 18:05:59 @monitor.py:467]\u001b[0m GAN_loss/kl_div: 0.10562\n",
      "\u001b[32m[1104 18:05:59 @monitor.py:467]\u001b[0m QueueInput/queue_size: 50\n",
      "\u001b[32m[1104 18:05:59 @base.py:275]\u001b[0m Start Epoch 948 ...\n"
     ]
    },
    {
     "name": "stderr",
     "output_type": "stream",
     "text": [
      "100%|###################################################################################|175/175[00:06<00:00,26.72it/s]"
     ]
    },
    {
     "name": "stdout",
     "output_type": "stream",
     "text": [
      "\u001b[32m[1104 18:06:05 @base.py:285]\u001b[0m Epoch 948 (global_step 199079) finished, time:6.55 seconds.\n",
      "\u001b[32m[1104 18:06:06 @saver.py:79]\u001b[0m Model saved to ../output/Chicago/WGGP_WI_new3/model\\model-199079.\n"
     ]
    },
    {
     "name": "stderr",
     "output_type": "stream",
     "text": [
      "\n"
     ]
    },
    {
     "name": "stdout",
     "output_type": "stream",
     "text": [
      "\u001b[32m[1104 18:06:06 @monitor.py:467]\u001b[0m GAN_loss/d_loss: -1.9913\n",
      "\u001b[32m[1104 18:06:06 @monitor.py:467]\u001b[0m GAN_loss/g_loss: -1.1893\n",
      "\u001b[32m[1104 18:06:06 @monitor.py:467]\u001b[0m GAN_loss/gradient_penalty: 0.019328\n",
      "\u001b[32m[1104 18:06:06 @monitor.py:467]\u001b[0m GAN_loss/gradient_rms: 1.0026\n",
      "\u001b[32m[1104 18:06:06 @monitor.py:467]\u001b[0m GAN_loss/kl_div: 0.10061\n",
      "\u001b[32m[1104 18:06:06 @monitor.py:467]\u001b[0m QueueInput/queue_size: 50\n",
      "\u001b[32m[1104 18:06:06 @base.py:275]\u001b[0m Start Epoch 949 ...\n"
     ]
    },
    {
     "name": "stderr",
     "output_type": "stream",
     "text": [
      "100%|###################################################################################|175/175[00:06<00:00,26.65it/s]"
     ]
    },
    {
     "name": "stdout",
     "output_type": "stream",
     "text": [
      "\u001b[32m[1104 18:06:12 @base.py:285]\u001b[0m Epoch 949 (global_step 199289) finished, time:6.57 seconds.\n"
     ]
    },
    {
     "name": "stderr",
     "output_type": "stream",
     "text": [
      "\n"
     ]
    },
    {
     "name": "stdout",
     "output_type": "stream",
     "text": [
      "\u001b[32m[1104 18:06:12 @saver.py:79]\u001b[0m Model saved to ../output/Chicago/WGGP_WI_new3/model\\model-199289.\n",
      "\u001b[32m[1104 18:06:13 @monitor.py:467]\u001b[0m GAN_loss/d_loss: -1.7918\n",
      "\u001b[32m[1104 18:06:13 @monitor.py:467]\u001b[0m GAN_loss/g_loss: -1.1695\n",
      "\u001b[32m[1104 18:06:13 @monitor.py:467]\u001b[0m GAN_loss/gradient_penalty: 0.017568\n",
      "\u001b[32m[1104 18:06:13 @monitor.py:467]\u001b[0m GAN_loss/gradient_rms: 0.99965\n",
      "\u001b[32m[1104 18:06:13 @monitor.py:467]\u001b[0m GAN_loss/kl_div: 0.10891\n",
      "\u001b[32m[1104 18:06:13 @monitor.py:467]\u001b[0m QueueInput/queue_size: 50\n",
      "\u001b[32m[1104 18:06:13 @base.py:275]\u001b[0m Start Epoch 950 ...\n"
     ]
    },
    {
     "name": "stderr",
     "output_type": "stream",
     "text": [
      "100%|###################################################################################|175/175[00:06<00:00,26.70it/s]"
     ]
    },
    {
     "name": "stdout",
     "output_type": "stream",
     "text": [
      "\u001b[32m[1104 18:06:19 @base.py:285]\u001b[0m Epoch 950 (global_step 199499) finished, time:6.56 seconds.\n",
      "\u001b[32m[1104 18:06:19 @saver.py:79]\u001b[0m Model saved to ../output/Chicago/WGGP_WI_new3/model\\model-199499.\n"
     ]
    },
    {
     "name": "stderr",
     "output_type": "stream",
     "text": [
      "\n"
     ]
    },
    {
     "name": "stdout",
     "output_type": "stream",
     "text": [
      "\u001b[32m[1104 18:06:19 @monitor.py:467]\u001b[0m GAN_loss/d_loss: -1.7911\n",
      "\u001b[32m[1104 18:06:19 @monitor.py:467]\u001b[0m GAN_loss/g_loss: -1.1328\n",
      "\u001b[32m[1104 18:06:19 @monitor.py:467]\u001b[0m GAN_loss/gradient_penalty: 0.01694\n",
      "\u001b[32m[1104 18:06:19 @monitor.py:467]\u001b[0m GAN_loss/gradient_rms: 1.0029\n",
      "\u001b[32m[1104 18:06:19 @monitor.py:467]\u001b[0m GAN_loss/kl_div: 0.10935\n",
      "\u001b[32m[1104 18:06:19 @monitor.py:467]\u001b[0m QueueInput/queue_size: 50\n",
      "\u001b[32m[1104 18:06:19 @base.py:275]\u001b[0m Start Epoch 951 ...\n"
     ]
    },
    {
     "name": "stderr",
     "output_type": "stream",
     "text": [
      "100%|###################################################################################|175/175[00:06<00:00,26.58it/s]"
     ]
    },
    {
     "name": "stdout",
     "output_type": "stream",
     "text": [
      "\u001b[32m[1104 18:06:26 @base.py:285]\u001b[0m Epoch 951 (global_step 199709) finished, time:6.58 seconds.\n"
     ]
    },
    {
     "name": "stderr",
     "output_type": "stream",
     "text": [
      "\n"
     ]
    },
    {
     "name": "stdout",
     "output_type": "stream",
     "text": [
      "\u001b[32m[1104 18:06:26 @saver.py:79]\u001b[0m Model saved to ../output/Chicago/WGGP_WI_new3/model\\model-199709.\n",
      "\u001b[32m[1104 18:06:26 @monitor.py:467]\u001b[0m GAN_loss/d_loss: -2.0637\n",
      "\u001b[32m[1104 18:06:26 @monitor.py:467]\u001b[0m GAN_loss/g_loss: -1.0921\n",
      "\u001b[32m[1104 18:06:26 @monitor.py:467]\u001b[0m GAN_loss/gradient_penalty: 0.017233\n",
      "\u001b[32m[1104 18:06:26 @monitor.py:467]\u001b[0m GAN_loss/gradient_rms: 1.0023\n",
      "\u001b[32m[1104 18:06:26 @monitor.py:467]\u001b[0m GAN_loss/kl_div: 0.11478\n",
      "\u001b[32m[1104 18:06:26 @monitor.py:467]\u001b[0m QueueInput/queue_size: 50\n",
      "\u001b[32m[1104 18:06:26 @base.py:275]\u001b[0m Start Epoch 952 ...\n"
     ]
    },
    {
     "name": "stderr",
     "output_type": "stream",
     "text": [
      "100%|###################################################################################|175/175[00:06<00:00,26.68it/s]"
     ]
    },
    {
     "name": "stdout",
     "output_type": "stream",
     "text": [
      "\u001b[32m[1104 18:06:33 @base.py:285]\u001b[0m Epoch 952 (global_step 199919) finished, time:6.56 seconds.\n"
     ]
    },
    {
     "name": "stderr",
     "output_type": "stream",
     "text": [
      "\n"
     ]
    },
    {
     "name": "stdout",
     "output_type": "stream",
     "text": [
      "\u001b[32m[1104 18:06:33 @saver.py:79]\u001b[0m Model saved to ../output/Chicago/WGGP_WI_new3/model\\model-199919.\n",
      "\u001b[32m[1104 18:06:33 @monitor.py:467]\u001b[0m GAN_loss/d_loss: -1.6643\n",
      "\u001b[32m[1104 18:06:33 @monitor.py:467]\u001b[0m GAN_loss/g_loss: -1.028\n",
      "\u001b[32m[1104 18:06:33 @monitor.py:467]\u001b[0m GAN_loss/gradient_penalty: 0.016533\n",
      "\u001b[32m[1104 18:06:33 @monitor.py:467]\u001b[0m GAN_loss/gradient_rms: 1.0003\n",
      "\u001b[32m[1104 18:06:33 @monitor.py:467]\u001b[0m GAN_loss/kl_div: 0.12314\n",
      "\u001b[32m[1104 18:06:33 @monitor.py:467]\u001b[0m QueueInput/queue_size: 50\n",
      "\u001b[32m[1104 18:06:33 @base.py:275]\u001b[0m Start Epoch 953 ...\n"
     ]
    },
    {
     "name": "stderr",
     "output_type": "stream",
     "text": [
      "100%|###################################################################################|175/175[00:06<00:00,26.83it/s]"
     ]
    },
    {
     "name": "stdout",
     "output_type": "stream",
     "text": [
      "\u001b[32m[1104 18:06:40 @base.py:285]\u001b[0m Epoch 953 (global_step 200129) finished, time:6.52 seconds.\n"
     ]
    },
    {
     "name": "stderr",
     "output_type": "stream",
     "text": [
      "\n"
     ]
    },
    {
     "name": "stdout",
     "output_type": "stream",
     "text": [
      "\u001b[32m[1104 18:06:40 @saver.py:79]\u001b[0m Model saved to ../output/Chicago/WGGP_WI_new3/model\\model-200129.\n",
      "\u001b[32m[1104 18:06:40 @monitor.py:467]\u001b[0m GAN_loss/d_loss: -1.5435\n",
      "\u001b[32m[1104 18:06:40 @monitor.py:467]\u001b[0m GAN_loss/g_loss: -0.99465\n",
      "\u001b[32m[1104 18:06:40 @monitor.py:467]\u001b[0m GAN_loss/gradient_penalty: 0.015867\n",
      "\u001b[32m[1104 18:06:40 @monitor.py:467]\u001b[0m GAN_loss/gradient_rms: 1.0005\n",
      "\u001b[32m[1104 18:06:40 @monitor.py:467]\u001b[0m GAN_loss/kl_div: 0.11633\n",
      "\u001b[32m[1104 18:06:40 @monitor.py:467]\u001b[0m QueueInput/queue_size: 50\n",
      "\u001b[32m[1104 18:06:40 @base.py:275]\u001b[0m Start Epoch 954 ...\n"
     ]
    },
    {
     "name": "stderr",
     "output_type": "stream",
     "text": [
      "100%|###################################################################################|175/175[00:06<00:00,26.63it/s]"
     ]
    },
    {
     "name": "stdout",
     "output_type": "stream",
     "text": [
      "\u001b[32m[1104 18:06:46 @base.py:285]\u001b[0m Epoch 954 (global_step 200339) finished, time:6.57 seconds.\n"
     ]
    },
    {
     "name": "stderr",
     "output_type": "stream",
     "text": [
      "\n"
     ]
    },
    {
     "name": "stdout",
     "output_type": "stream",
     "text": [
      "\u001b[32m[1104 18:06:47 @saver.py:79]\u001b[0m Model saved to ../output/Chicago/WGGP_WI_new3/model\\model-200339.\n",
      "\u001b[32m[1104 18:06:47 @monitor.py:467]\u001b[0m GAN_loss/d_loss: -1.9519\n",
      "\u001b[32m[1104 18:06:47 @monitor.py:467]\u001b[0m GAN_loss/g_loss: -0.98376\n",
      "\u001b[32m[1104 18:06:47 @monitor.py:467]\u001b[0m GAN_loss/gradient_penalty: 0.016076\n",
      "\u001b[32m[1104 18:06:47 @monitor.py:467]\u001b[0m GAN_loss/gradient_rms: 1.0008\n",
      "\u001b[32m[1104 18:06:47 @monitor.py:467]\u001b[0m GAN_loss/kl_div: 0.12032\n",
      "\u001b[32m[1104 18:06:47 @monitor.py:467]\u001b[0m QueueInput/queue_size: 50\n",
      "\u001b[32m[1104 18:06:47 @base.py:275]\u001b[0m Start Epoch 955 ...\n"
     ]
    },
    {
     "name": "stderr",
     "output_type": "stream",
     "text": [
      "100%|###################################################################################|175/175[00:06<00:00,26.73it/s]"
     ]
    },
    {
     "name": "stdout",
     "output_type": "stream",
     "text": [
      "\u001b[32m[1104 18:06:53 @base.py:285]\u001b[0m Epoch 955 (global_step 200549) finished, time:6.55 seconds.\n",
      "\u001b[32m[1104 18:06:53 @saver.py:79]\u001b[0m Model saved to ../output/Chicago/WGGP_WI_new3/model\\model-200549.\n"
     ]
    },
    {
     "name": "stderr",
     "output_type": "stream",
     "text": [
      "\n"
     ]
    },
    {
     "name": "stdout",
     "output_type": "stream",
     "text": [
      "\u001b[32m[1104 18:06:54 @monitor.py:467]\u001b[0m GAN_loss/d_loss: -1.3901\n",
      "\u001b[32m[1104 18:06:54 @monitor.py:467]\u001b[0m GAN_loss/g_loss: -0.96322\n",
      "\u001b[32m[1104 18:06:54 @monitor.py:467]\u001b[0m GAN_loss/gradient_penalty: 0.015523\n",
      "\u001b[32m[1104 18:06:54 @monitor.py:467]\u001b[0m GAN_loss/gradient_rms: 0.99827\n",
      "\u001b[32m[1104 18:06:54 @monitor.py:467]\u001b[0m GAN_loss/kl_div: 0.091094\n",
      "\u001b[32m[1104 18:06:54 @monitor.py:467]\u001b[0m QueueInput/queue_size: 50\n",
      "\u001b[32m[1104 18:06:54 @base.py:275]\u001b[0m Start Epoch 956 ...\n"
     ]
    },
    {
     "name": "stderr",
     "output_type": "stream",
     "text": [
      "100%|###################################################################################|175/175[00:06<00:00,26.75it/s]"
     ]
    },
    {
     "name": "stdout",
     "output_type": "stream",
     "text": [
      "\u001b[32m[1104 18:07:00 @base.py:285]\u001b[0m Epoch 956 (global_step 200759) finished, time:6.54 seconds.\n"
     ]
    },
    {
     "name": "stderr",
     "output_type": "stream",
     "text": [
      "\n"
     ]
    },
    {
     "name": "stdout",
     "output_type": "stream",
     "text": [
      "\u001b[32m[1104 18:07:00 @saver.py:79]\u001b[0m Model saved to ../output/Chicago/WGGP_WI_new3/model\\model-200759.\n",
      "\u001b[32m[1104 18:07:00 @monitor.py:467]\u001b[0m GAN_loss/d_loss: -1.1536\n",
      "\u001b[32m[1104 18:07:00 @monitor.py:467]\u001b[0m GAN_loss/g_loss: -0.89602\n",
      "\u001b[32m[1104 18:07:00 @monitor.py:467]\u001b[0m GAN_loss/gradient_penalty: 0.015549\n",
      "\u001b[32m[1104 18:07:00 @monitor.py:467]\u001b[0m GAN_loss/gradient_rms: 0.99815\n",
      "\u001b[32m[1104 18:07:00 @monitor.py:467]\u001b[0m GAN_loss/kl_div: 0.085456\n",
      "\u001b[32m[1104 18:07:00 @monitor.py:467]\u001b[0m QueueInput/queue_size: 50\n",
      "\u001b[32m[1104 18:07:00 @base.py:275]\u001b[0m Start Epoch 957 ...\n"
     ]
    },
    {
     "name": "stderr",
     "output_type": "stream",
     "text": [
      "100%|###################################################################################|175/175[00:06<00:00,26.77it/s]"
     ]
    },
    {
     "name": "stdout",
     "output_type": "stream",
     "text": [
      "\u001b[32m[1104 18:07:07 @base.py:285]\u001b[0m Epoch 957 (global_step 200969) finished, time:6.54 seconds.\n"
     ]
    },
    {
     "name": "stderr",
     "output_type": "stream",
     "text": [
      "\n"
     ]
    },
    {
     "name": "stdout",
     "output_type": "stream",
     "text": [
      "\u001b[32m[1104 18:07:07 @saver.py:79]\u001b[0m Model saved to ../output/Chicago/WGGP_WI_new3/model\\model-200969.\n",
      "\u001b[32m[1104 18:07:07 @monitor.py:467]\u001b[0m GAN_loss/d_loss: -1.4699\n",
      "\u001b[32m[1104 18:07:07 @monitor.py:467]\u001b[0m GAN_loss/g_loss: -0.8426\n",
      "\u001b[32m[1104 18:07:07 @monitor.py:467]\u001b[0m GAN_loss/gradient_penalty: 0.013647\n",
      "\u001b[32m[1104 18:07:07 @monitor.py:467]\u001b[0m GAN_loss/gradient_rms: 0.99683\n",
      "\u001b[32m[1104 18:07:07 @monitor.py:467]\u001b[0m GAN_loss/kl_div: 0.10271\n",
      "\u001b[32m[1104 18:07:07 @monitor.py:467]\u001b[0m QueueInput/queue_size: 50\n",
      "\u001b[32m[1104 18:07:07 @base.py:275]\u001b[0m Start Epoch 958 ...\n"
     ]
    },
    {
     "name": "stderr",
     "output_type": "stream",
     "text": [
      "100%|###################################################################################|175/175[00:06<00:00,26.76it/s]"
     ]
    },
    {
     "name": "stdout",
     "output_type": "stream",
     "text": [
      "\u001b[32m[1104 18:07:14 @base.py:285]\u001b[0m Epoch 958 (global_step 201179) finished, time:6.54 seconds.\n"
     ]
    },
    {
     "name": "stderr",
     "output_type": "stream",
     "text": [
      "\n"
     ]
    },
    {
     "name": "stdout",
     "output_type": "stream",
     "text": [
      "\u001b[32m[1104 18:07:14 @saver.py:79]\u001b[0m Model saved to ../output/Chicago/WGGP_WI_new3/model\\model-201179.\n",
      "\u001b[32m[1104 18:07:14 @monitor.py:467]\u001b[0m GAN_loss/d_loss: -1.5823\n",
      "\u001b[32m[1104 18:07:14 @monitor.py:467]\u001b[0m GAN_loss/g_loss: -0.7973\n",
      "\u001b[32m[1104 18:07:14 @monitor.py:467]\u001b[0m GAN_loss/gradient_penalty: 0.01467\n",
      "\u001b[32m[1104 18:07:14 @monitor.py:467]\u001b[0m GAN_loss/gradient_rms: 1.001\n",
      "\u001b[32m[1104 18:07:14 @monitor.py:467]\u001b[0m GAN_loss/kl_div: 0.10278\n",
      "\u001b[32m[1104 18:07:14 @monitor.py:467]\u001b[0m QueueInput/queue_size: 50\n",
      "\u001b[32m[1104 18:07:14 @base.py:275]\u001b[0m Start Epoch 959 ...\n"
     ]
    },
    {
     "name": "stderr",
     "output_type": "stream",
     "text": [
      "100%|###################################################################################|175/175[00:06<00:00,26.74it/s]"
     ]
    },
    {
     "name": "stdout",
     "output_type": "stream",
     "text": [
      "\u001b[32m[1104 18:07:21 @base.py:285]\u001b[0m Epoch 959 (global_step 201389) finished, time:6.54 seconds.\n"
     ]
    },
    {
     "name": "stderr",
     "output_type": "stream",
     "text": [
      "\n"
     ]
    },
    {
     "name": "stdout",
     "output_type": "stream",
     "text": [
      "\u001b[32m[1104 18:07:21 @saver.py:79]\u001b[0m Model saved to ../output/Chicago/WGGP_WI_new3/model\\model-201389.\n",
      "\u001b[32m[1104 18:07:21 @monitor.py:467]\u001b[0m GAN_loss/d_loss: -1.4409\n",
      "\u001b[32m[1104 18:07:21 @monitor.py:467]\u001b[0m GAN_loss/g_loss: -0.78836\n",
      "\u001b[32m[1104 18:07:21 @monitor.py:467]\u001b[0m GAN_loss/gradient_penalty: 0.014999\n",
      "\u001b[32m[1104 18:07:21 @monitor.py:467]\u001b[0m GAN_loss/gradient_rms: 1.0016\n",
      "\u001b[32m[1104 18:07:21 @monitor.py:467]\u001b[0m GAN_loss/kl_div: 0.095137\n",
      "\u001b[32m[1104 18:07:21 @monitor.py:467]\u001b[0m QueueInput/queue_size: 50\n",
      "\u001b[32m[1104 18:07:21 @base.py:275]\u001b[0m Start Epoch 960 ...\n"
     ]
    },
    {
     "name": "stderr",
     "output_type": "stream",
     "text": [
      "100%|###################################################################################|175/175[00:06<00:00,26.69it/s]"
     ]
    },
    {
     "name": "stdout",
     "output_type": "stream",
     "text": [
      "\u001b[32m[1104 18:07:27 @base.py:285]\u001b[0m Epoch 960 (global_step 201599) finished, time:6.56 seconds.\n",
      "\u001b[32m[1104 18:07:27 @saver.py:79]\u001b[0m Model saved to ../output/Chicago/WGGP_WI_new3/model\\model-201599.\n"
     ]
    },
    {
     "name": "stderr",
     "output_type": "stream",
     "text": [
      "\n"
     ]
    },
    {
     "name": "stdout",
     "output_type": "stream",
     "text": [
      "\u001b[32m[1104 18:07:28 @monitor.py:467]\u001b[0m GAN_loss/d_loss: -1.5646\n",
      "\u001b[32m[1104 18:07:28 @monitor.py:467]\u001b[0m GAN_loss/g_loss: -0.72506\n",
      "\u001b[32m[1104 18:07:28 @monitor.py:467]\u001b[0m GAN_loss/gradient_penalty: 0.014208\n",
      "\u001b[32m[1104 18:07:28 @monitor.py:467]\u001b[0m GAN_loss/gradient_rms: 1.0005\n",
      "\u001b[32m[1104 18:07:28 @monitor.py:467]\u001b[0m GAN_loss/kl_div: 0.097613\n",
      "\u001b[32m[1104 18:07:28 @monitor.py:467]\u001b[0m QueueInput/queue_size: 50\n",
      "\u001b[32m[1104 18:07:28 @base.py:275]\u001b[0m Start Epoch 961 ...\n"
     ]
    },
    {
     "name": "stderr",
     "output_type": "stream",
     "text": [
      "100%|###################################################################################|175/175[00:06<00:00,26.50it/s]"
     ]
    },
    {
     "name": "stdout",
     "output_type": "stream",
     "text": [
      "\u001b[32m[1104 18:07:34 @base.py:285]\u001b[0m Epoch 961 (global_step 201809) finished, time:6.6 seconds.\n",
      "\u001b[32m[1104 18:07:34 @saver.py:79]\u001b[0m Model saved to ../output/Chicago/WGGP_WI_new3/model\\model-201809.\n"
     ]
    },
    {
     "name": "stderr",
     "output_type": "stream",
     "text": [
      "\n"
     ]
    },
    {
     "name": "stdout",
     "output_type": "stream",
     "text": [
      "\u001b[32m[1104 18:07:34 @monitor.py:467]\u001b[0m GAN_loss/d_loss: -2.0496\n",
      "\u001b[32m[1104 18:07:34 @monitor.py:467]\u001b[0m GAN_loss/g_loss: -0.70131\n",
      "\u001b[32m[1104 18:07:34 @monitor.py:467]\u001b[0m GAN_loss/gradient_penalty: 0.01591\n",
      "\u001b[32m[1104 18:07:34 @monitor.py:467]\u001b[0m GAN_loss/gradient_rms: 1.0005\n",
      "\u001b[32m[1104 18:07:34 @monitor.py:467]\u001b[0m GAN_loss/kl_div: 0.096622\n",
      "\u001b[32m[1104 18:07:34 @monitor.py:467]\u001b[0m QueueInput/queue_size: 50\n",
      "\u001b[32m[1104 18:07:34 @base.py:275]\u001b[0m Start Epoch 962 ...\n"
     ]
    },
    {
     "name": "stderr",
     "output_type": "stream",
     "text": [
      "100%|###################################################################################|175/175[00:06<00:00,26.56it/s]"
     ]
    },
    {
     "name": "stdout",
     "output_type": "stream",
     "text": [
      "\u001b[32m[1104 18:07:41 @base.py:285]\u001b[0m Epoch 962 (global_step 202019) finished, time:6.59 seconds.\n",
      "\u001b[32m[1104 18:07:41 @saver.py:79]\u001b[0m Model saved to ../output/Chicago/WGGP_WI_new3/model\\model-202019.\n"
     ]
    },
    {
     "name": "stderr",
     "output_type": "stream",
     "text": [
      "\n"
     ]
    },
    {
     "name": "stdout",
     "output_type": "stream",
     "text": [
      "\u001b[32m[1104 18:07:41 @monitor.py:467]\u001b[0m GAN_loss/d_loss: -1.5986\n",
      "\u001b[32m[1104 18:07:41 @monitor.py:467]\u001b[0m GAN_loss/g_loss: -0.6712\n",
      "\u001b[32m[1104 18:07:41 @monitor.py:467]\u001b[0m GAN_loss/gradient_penalty: 0.01592\n",
      "\u001b[32m[1104 18:07:41 @monitor.py:467]\u001b[0m GAN_loss/gradient_rms: 0.9997\n",
      "\u001b[32m[1104 18:07:41 @monitor.py:467]\u001b[0m GAN_loss/kl_div: 0.10284\n",
      "\u001b[32m[1104 18:07:41 @monitor.py:467]\u001b[0m QueueInput/queue_size: 50\n",
      "\u001b[32m[1104 18:07:41 @base.py:275]\u001b[0m Start Epoch 963 ...\n"
     ]
    },
    {
     "name": "stderr",
     "output_type": "stream",
     "text": [
      "100%|###################################################################################|175/175[00:06<00:00,26.49it/s]"
     ]
    },
    {
     "name": "stdout",
     "output_type": "stream",
     "text": [
      "\u001b[32m[1104 18:07:48 @base.py:285]\u001b[0m Epoch 963 (global_step 202229) finished, time:6.61 seconds.\n",
      "\u001b[32m[1104 18:07:48 @saver.py:79]\u001b[0m Model saved to ../output/Chicago/WGGP_WI_new3/model\\model-202229.\n"
     ]
    },
    {
     "name": "stderr",
     "output_type": "stream",
     "text": [
      "\n"
     ]
    },
    {
     "name": "stdout",
     "output_type": "stream",
     "text": [
      "\u001b[32m[1104 18:07:48 @monitor.py:467]\u001b[0m GAN_loss/d_loss: -1.6796\n",
      "\u001b[32m[1104 18:07:48 @monitor.py:467]\u001b[0m GAN_loss/g_loss: -0.68259\n",
      "\u001b[32m[1104 18:07:48 @monitor.py:467]\u001b[0m GAN_loss/gradient_penalty: 0.016096\n",
      "\u001b[32m[1104 18:07:48 @monitor.py:467]\u001b[0m GAN_loss/gradient_rms: 1.0031\n",
      "\u001b[32m[1104 18:07:48 @monitor.py:467]\u001b[0m GAN_loss/kl_div: 0.093887\n",
      "\u001b[32m[1104 18:07:48 @monitor.py:467]\u001b[0m QueueInput/queue_size: 50\n",
      "\u001b[32m[1104 18:07:48 @base.py:275]\u001b[0m Start Epoch 964 ...\n"
     ]
    },
    {
     "name": "stderr",
     "output_type": "stream",
     "text": [
      "100%|###################################################################################|175/175[00:06<00:00,26.81it/s]"
     ]
    },
    {
     "name": "stdout",
     "output_type": "stream",
     "text": [
      "\u001b[32m[1104 18:07:55 @base.py:285]\u001b[0m Epoch 964 (global_step 202439) finished, time:6.53 seconds.\n"
     ]
    },
    {
     "name": "stderr",
     "output_type": "stream",
     "text": [
      "\n"
     ]
    },
    {
     "name": "stdout",
     "output_type": "stream",
     "text": [
      "\u001b[32m[1104 18:07:55 @saver.py:79]\u001b[0m Model saved to ../output/Chicago/WGGP_WI_new3/model\\model-202439.\n",
      "\u001b[32m[1104 18:07:55 @monitor.py:467]\u001b[0m GAN_loss/d_loss: -1.3321\n",
      "\u001b[32m[1104 18:07:55 @monitor.py:467]\u001b[0m GAN_loss/g_loss: -0.62716\n",
      "\u001b[32m[1104 18:07:55 @monitor.py:467]\u001b[0m GAN_loss/gradient_penalty: 0.014042\n",
      "\u001b[32m[1104 18:07:55 @monitor.py:467]\u001b[0m GAN_loss/gradient_rms: 1.0014\n",
      "\u001b[32m[1104 18:07:55 @monitor.py:467]\u001b[0m GAN_loss/kl_div: 0.095416\n",
      "\u001b[32m[1104 18:07:55 @monitor.py:467]\u001b[0m QueueInput/queue_size: 50\n",
      "\u001b[32m[1104 18:07:55 @base.py:275]\u001b[0m Start Epoch 965 ...\n"
     ]
    },
    {
     "name": "stderr",
     "output_type": "stream",
     "text": [
      "100%|###################################################################################|175/175[00:06<00:00,26.79it/s]"
     ]
    },
    {
     "name": "stdout",
     "output_type": "stream",
     "text": [
      "\u001b[32m[1104 18:08:02 @base.py:285]\u001b[0m Epoch 965 (global_step 202649) finished, time:6.53 seconds.\n",
      "\u001b[32m[1104 18:08:02 @saver.py:79]\u001b[0m Model saved to ../output/Chicago/WGGP_WI_new3/model\\model-202649.\n"
     ]
    },
    {
     "name": "stderr",
     "output_type": "stream",
     "text": [
      "\n"
     ]
    },
    {
     "name": "stdout",
     "output_type": "stream",
     "text": [
      "\u001b[32m[1104 18:08:02 @monitor.py:467]\u001b[0m GAN_loss/d_loss: -1.1705\n",
      "\u001b[32m[1104 18:08:02 @monitor.py:467]\u001b[0m GAN_loss/g_loss: -0.57355\n",
      "\u001b[32m[1104 18:08:02 @monitor.py:467]\u001b[0m GAN_loss/gradient_penalty: 0.013695\n",
      "\u001b[32m[1104 18:08:02 @monitor.py:467]\u001b[0m GAN_loss/gradient_rms: 1.0043\n",
      "\u001b[32m[1104 18:08:02 @monitor.py:467]\u001b[0m GAN_loss/kl_div: 0.086407\n",
      "\u001b[32m[1104 18:08:02 @monitor.py:467]\u001b[0m QueueInput/queue_size: 50\n",
      "\u001b[32m[1104 18:08:02 @base.py:275]\u001b[0m Start Epoch 966 ...\n"
     ]
    },
    {
     "name": "stderr",
     "output_type": "stream",
     "text": [
      "100%|###################################################################################|175/175[00:06<00:00,26.64it/s]"
     ]
    },
    {
     "name": "stdout",
     "output_type": "stream",
     "text": [
      "\u001b[32m[1104 18:08:08 @base.py:285]\u001b[0m Epoch 966 (global_step 202859) finished, time:6.57 seconds.\n",
      "\u001b[32m[1104 18:08:09 @saver.py:79]\u001b[0m Model saved to ../output/Chicago/WGGP_WI_new3/model\\model-202859.\n"
     ]
    },
    {
     "name": "stderr",
     "output_type": "stream",
     "text": [
      "\n"
     ]
    },
    {
     "name": "stdout",
     "output_type": "stream",
     "text": [
      "\u001b[32m[1104 18:08:09 @monitor.py:467]\u001b[0m GAN_loss/d_loss: -1.0684\n",
      "\u001b[32m[1104 18:08:09 @monitor.py:467]\u001b[0m GAN_loss/g_loss: -0.54725\n",
      "\u001b[32m[1104 18:08:09 @monitor.py:467]\u001b[0m GAN_loss/gradient_penalty: 0.013681\n",
      "\u001b[32m[1104 18:08:09 @monitor.py:467]\u001b[0m GAN_loss/gradient_rms: 0.99826\n",
      "\u001b[32m[1104 18:08:09 @monitor.py:467]\u001b[0m GAN_loss/kl_div: 0.091939\n",
      "\u001b[32m[1104 18:08:09 @monitor.py:467]\u001b[0m QueueInput/queue_size: 50\n",
      "\u001b[32m[1104 18:08:09 @base.py:275]\u001b[0m Start Epoch 967 ...\n"
     ]
    },
    {
     "name": "stderr",
     "output_type": "stream",
     "text": [
      "100%|###################################################################################|175/175[00:06<00:00,26.43it/s]"
     ]
    },
    {
     "name": "stdout",
     "output_type": "stream",
     "text": [
      "\u001b[32m[1104 18:08:15 @base.py:285]\u001b[0m Epoch 967 (global_step 203069) finished, time:6.62 seconds.\n",
      "\u001b[32m[1104 18:08:15 @saver.py:79]\u001b[0m Model saved to ../output/Chicago/WGGP_WI_new3/model\\model-203069.\n"
     ]
    },
    {
     "name": "stderr",
     "output_type": "stream",
     "text": [
      "\n"
     ]
    },
    {
     "name": "stdout",
     "output_type": "stream",
     "text": [
      "\u001b[32m[1104 18:08:16 @monitor.py:467]\u001b[0m GAN_loss/d_loss: -1.1907\n",
      "\u001b[32m[1104 18:08:16 @monitor.py:467]\u001b[0m GAN_loss/g_loss: -0.52915\n",
      "\u001b[32m[1104 18:08:16 @monitor.py:467]\u001b[0m GAN_loss/gradient_penalty: 0.013693\n",
      "\u001b[32m[1104 18:08:16 @monitor.py:467]\u001b[0m GAN_loss/gradient_rms: 1.0017\n",
      "\u001b[32m[1104 18:08:16 @monitor.py:467]\u001b[0m GAN_loss/kl_div: 0.0968\n",
      "\u001b[32m[1104 18:08:16 @monitor.py:467]\u001b[0m QueueInput/queue_size: 50\n",
      "\u001b[32m[1104 18:08:16 @base.py:275]\u001b[0m Start Epoch 968 ...\n"
     ]
    },
    {
     "name": "stderr",
     "output_type": "stream",
     "text": [
      "100%|###################################################################################|175/175[00:07<00:00,24.95it/s]"
     ]
    },
    {
     "name": "stdout",
     "output_type": "stream",
     "text": [
      "\u001b[32m[1104 18:08:23 @base.py:285]\u001b[0m Epoch 968 (global_step 203279) finished, time:7.02 seconds.\n"
     ]
    },
    {
     "name": "stderr",
     "output_type": "stream",
     "text": [
      "\n"
     ]
    },
    {
     "name": "stdout",
     "output_type": "stream",
     "text": [
      "\u001b[32m[1104 18:08:23 @saver.py:79]\u001b[0m Model saved to ../output/Chicago/WGGP_WI_new3/model\\model-203279.\n",
      "\u001b[32m[1104 18:08:23 @monitor.py:467]\u001b[0m GAN_loss/d_loss: -1.383\n",
      "\u001b[32m[1104 18:08:23 @monitor.py:467]\u001b[0m GAN_loss/g_loss: -0.50024\n",
      "\u001b[32m[1104 18:08:23 @monitor.py:467]\u001b[0m GAN_loss/gradient_penalty: 0.013255\n",
      "\u001b[32m[1104 18:08:23 @monitor.py:467]\u001b[0m GAN_loss/gradient_rms: 0.99859\n",
      "\u001b[32m[1104 18:08:23 @monitor.py:467]\u001b[0m GAN_loss/kl_div: 0.11068\n",
      "\u001b[32m[1104 18:08:23 @monitor.py:467]\u001b[0m QueueInput/queue_size: 50\n",
      "\u001b[32m[1104 18:08:23 @base.py:275]\u001b[0m Start Epoch 969 ...\n"
     ]
    },
    {
     "name": "stderr",
     "output_type": "stream",
     "text": [
      "100%|###################################################################################|175/175[00:06<00:00,25.61it/s]"
     ]
    },
    {
     "name": "stdout",
     "output_type": "stream",
     "text": [
      "\u001b[32m[1104 18:08:30 @base.py:285]\u001b[0m Epoch 969 (global_step 203489) finished, time:6.83 seconds.\n",
      "\u001b[32m[1104 18:08:30 @saver.py:79]\u001b[0m Model saved to ../output/Chicago/WGGP_WI_new3/model\\model-203489.\n"
     ]
    },
    {
     "name": "stderr",
     "output_type": "stream",
     "text": [
      "\n"
     ]
    },
    {
     "name": "stdout",
     "output_type": "stream",
     "text": [
      "\u001b[32m[1104 18:08:30 @monitor.py:467]\u001b[0m GAN_loss/d_loss: -1.1995\n",
      "\u001b[32m[1104 18:08:30 @monitor.py:467]\u001b[0m GAN_loss/g_loss: -0.46605\n",
      "\u001b[32m[1104 18:08:30 @monitor.py:467]\u001b[0m GAN_loss/gradient_penalty: 0.013961\n",
      "\u001b[32m[1104 18:08:30 @monitor.py:467]\u001b[0m GAN_loss/gradient_rms: 1.0004\n",
      "\u001b[32m[1104 18:08:30 @monitor.py:467]\u001b[0m GAN_loss/kl_div: 0.13931\n",
      "\u001b[32m[1104 18:08:30 @monitor.py:467]\u001b[0m QueueInput/queue_size: 50\n",
      "\u001b[32m[1104 18:08:30 @base.py:275]\u001b[0m Start Epoch 970 ...\n"
     ]
    },
    {
     "name": "stderr",
     "output_type": "stream",
     "text": [
      "100%|###################################################################################|175/175[00:06<00:00,26.21it/s]"
     ]
    },
    {
     "name": "stdout",
     "output_type": "stream",
     "text": [
      "\u001b[32m[1104 18:08:37 @base.py:285]\u001b[0m Epoch 970 (global_step 203699) finished, time:6.68 seconds.\n",
      "\u001b[32m[1104 18:08:37 @saver.py:79]\u001b[0m Model saved to ../output/Chicago/WGGP_WI_new3/model\\model-203699.\n"
     ]
    },
    {
     "name": "stderr",
     "output_type": "stream",
     "text": [
      "\n"
     ]
    },
    {
     "name": "stdout",
     "output_type": "stream",
     "text": [
      "\u001b[32m[1104 18:08:37 @monitor.py:467]\u001b[0m GAN_loss/d_loss: -1.0809\n",
      "\u001b[32m[1104 18:08:37 @monitor.py:467]\u001b[0m GAN_loss/g_loss: -0.46618\n",
      "\u001b[32m[1104 18:08:37 @monitor.py:467]\u001b[0m GAN_loss/gradient_penalty: 0.013241\n",
      "\u001b[32m[1104 18:08:37 @monitor.py:467]\u001b[0m GAN_loss/gradient_rms: 0.99887\n",
      "\u001b[32m[1104 18:08:37 @monitor.py:467]\u001b[0m GAN_loss/kl_div: 0.11757\n",
      "\u001b[32m[1104 18:08:37 @monitor.py:467]\u001b[0m QueueInput/queue_size: 50\n",
      "\u001b[32m[1104 18:08:37 @base.py:275]\u001b[0m Start Epoch 971 ...\n"
     ]
    },
    {
     "name": "stderr",
     "output_type": "stream",
     "text": [
      "100%|###################################################################################|175/175[00:06<00:00,26.50it/s]"
     ]
    },
    {
     "name": "stdout",
     "output_type": "stream",
     "text": [
      "\u001b[32m[1104 18:08:44 @base.py:285]\u001b[0m Epoch 971 (global_step 203909) finished, time:6.6 seconds.\n",
      "\u001b[32m[1104 18:08:44 @saver.py:79]\u001b[0m Model saved to ../output/Chicago/WGGP_WI_new3/model\\model-203909.\n"
     ]
    },
    {
     "name": "stderr",
     "output_type": "stream",
     "text": [
      "\n"
     ]
    },
    {
     "name": "stdout",
     "output_type": "stream",
     "text": [
      "\u001b[32m[1104 18:08:44 @monitor.py:467]\u001b[0m GAN_loss/d_loss: -0.95697\n",
      "\u001b[32m[1104 18:08:44 @monitor.py:467]\u001b[0m GAN_loss/g_loss: -0.42144\n",
      "\u001b[32m[1104 18:08:44 @monitor.py:467]\u001b[0m GAN_loss/gradient_penalty: 0.012956\n",
      "\u001b[32m[1104 18:08:44 @monitor.py:467]\u001b[0m GAN_loss/gradient_rms: 0.99915\n",
      "\u001b[32m[1104 18:08:44 @monitor.py:467]\u001b[0m GAN_loss/kl_div: 0.093046\n",
      "\u001b[32m[1104 18:08:44 @monitor.py:467]\u001b[0m QueueInput/queue_size: 50\n",
      "\u001b[32m[1104 18:08:44 @base.py:275]\u001b[0m Start Epoch 972 ...\n"
     ]
    },
    {
     "name": "stderr",
     "output_type": "stream",
     "text": [
      "100%|###################################################################################|175/175[00:06<00:00,26.70it/s]"
     ]
    },
    {
     "name": "stdout",
     "output_type": "stream",
     "text": [
      "\u001b[32m[1104 18:08:50 @base.py:285]\u001b[0m Epoch 972 (global_step 204119) finished, time:6.56 seconds.\n",
      "\u001b[32m[1104 18:08:51 @saver.py:79]\u001b[0m Model saved to ../output/Chicago/WGGP_WI_new3/model\\model-204119.\n"
     ]
    },
    {
     "name": "stderr",
     "output_type": "stream",
     "text": [
      "\n"
     ]
    },
    {
     "name": "stdout",
     "output_type": "stream",
     "text": [
      "\u001b[32m[1104 18:08:51 @monitor.py:467]\u001b[0m GAN_loss/d_loss: -1.0127\n",
      "\u001b[32m[1104 18:08:51 @monitor.py:467]\u001b[0m GAN_loss/g_loss: -0.38746\n",
      "\u001b[32m[1104 18:08:51 @monitor.py:467]\u001b[0m GAN_loss/gradient_penalty: 0.012999\n",
      "\u001b[32m[1104 18:08:51 @monitor.py:467]\u001b[0m GAN_loss/gradient_rms: 0.99791\n",
      "\u001b[32m[1104 18:08:51 @monitor.py:467]\u001b[0m GAN_loss/kl_div: 0.1004\n",
      "\u001b[32m[1104 18:08:51 @monitor.py:467]\u001b[0m QueueInput/queue_size: 50\n",
      "\u001b[32m[1104 18:08:51 @base.py:275]\u001b[0m Start Epoch 973 ...\n"
     ]
    },
    {
     "name": "stderr",
     "output_type": "stream",
     "text": [
      "100%|###################################################################################|175/175[00:06<00:00,26.61it/s]"
     ]
    },
    {
     "name": "stdout",
     "output_type": "stream",
     "text": [
      "\u001b[32m[1104 18:08:57 @base.py:285]\u001b[0m Epoch 973 (global_step 204329) finished, time:6.58 seconds.\n",
      "\u001b[32m[1104 18:08:57 @saver.py:79]\u001b[0m Model saved to ../output/Chicago/WGGP_WI_new3/model\\model-204329.\n"
     ]
    },
    {
     "name": "stderr",
     "output_type": "stream",
     "text": [
      "\n"
     ]
    },
    {
     "name": "stdout",
     "output_type": "stream",
     "text": [
      "\u001b[32m[1104 18:08:58 @monitor.py:467]\u001b[0m GAN_loss/d_loss: -1.1731\n",
      "\u001b[32m[1104 18:08:58 @monitor.py:467]\u001b[0m GAN_loss/g_loss: -0.39107\n",
      "\u001b[32m[1104 18:08:58 @monitor.py:467]\u001b[0m GAN_loss/gradient_penalty: 0.013207\n",
      "\u001b[32m[1104 18:08:58 @monitor.py:467]\u001b[0m GAN_loss/gradient_rms: 0.99927\n",
      "\u001b[32m[1104 18:08:58 @monitor.py:467]\u001b[0m GAN_loss/kl_div: 0.086928\n",
      "\u001b[32m[1104 18:08:58 @monitor.py:467]\u001b[0m QueueInput/queue_size: 50\n",
      "\u001b[32m[1104 18:08:58 @base.py:275]\u001b[0m Start Epoch 974 ...\n"
     ]
    },
    {
     "name": "stderr",
     "output_type": "stream",
     "text": [
      "100%|###################################################################################|175/175[00:06<00:00,26.83it/s]"
     ]
    },
    {
     "name": "stdout",
     "output_type": "stream",
     "text": [
      "\u001b[32m[1104 18:09:04 @base.py:285]\u001b[0m Epoch 974 (global_step 204539) finished, time:6.52 seconds.\n"
     ]
    },
    {
     "name": "stderr",
     "output_type": "stream",
     "text": [
      "\n"
     ]
    },
    {
     "name": "stdout",
     "output_type": "stream",
     "text": [
      "\u001b[32m[1104 18:09:04 @saver.py:79]\u001b[0m Model saved to ../output/Chicago/WGGP_WI_new3/model\\model-204539.\n",
      "\u001b[32m[1104 18:09:04 @monitor.py:467]\u001b[0m GAN_loss/d_loss: -1.5275\n",
      "\u001b[32m[1104 18:09:04 @monitor.py:467]\u001b[0m GAN_loss/g_loss: -0.37479\n",
      "\u001b[32m[1104 18:09:04 @monitor.py:467]\u001b[0m GAN_loss/gradient_penalty: 0.013876\n",
      "\u001b[32m[1104 18:09:04 @monitor.py:467]\u001b[0m GAN_loss/gradient_rms: 1.0015\n",
      "\u001b[32m[1104 18:09:04 @monitor.py:467]\u001b[0m GAN_loss/kl_div: 0.10258\n",
      "\u001b[32m[1104 18:09:04 @monitor.py:467]\u001b[0m QueueInput/queue_size: 50\n",
      "\u001b[32m[1104 18:09:04 @base.py:275]\u001b[0m Start Epoch 975 ...\n"
     ]
    },
    {
     "name": "stderr",
     "output_type": "stream",
     "text": [
      "100%|###################################################################################|175/175[00:06<00:00,26.68it/s]"
     ]
    },
    {
     "name": "stdout",
     "output_type": "stream",
     "text": [
      "\u001b[32m[1104 18:09:11 @base.py:285]\u001b[0m Epoch 975 (global_step 204749) finished, time:6.56 seconds.\n",
      "\u001b[32m[1104 18:09:11 @saver.py:79]\u001b[0m Model saved to ../output/Chicago/WGGP_WI_new3/model\\model-204749.\n"
     ]
    },
    {
     "name": "stderr",
     "output_type": "stream",
     "text": [
      "\n"
     ]
    },
    {
     "name": "stdout",
     "output_type": "stream",
     "text": [
      "\u001b[32m[1104 18:09:11 @monitor.py:467]\u001b[0m GAN_loss/d_loss: -1.6047\n",
      "\u001b[32m[1104 18:09:11 @monitor.py:467]\u001b[0m GAN_loss/g_loss: -0.41025\n",
      "\u001b[32m[1104 18:09:11 @monitor.py:467]\u001b[0m GAN_loss/gradient_penalty: 0.015191\n",
      "\u001b[32m[1104 18:09:11 @monitor.py:467]\u001b[0m GAN_loss/gradient_rms: 1.0016\n",
      "\u001b[32m[1104 18:09:11 @monitor.py:467]\u001b[0m GAN_loss/kl_div: 0.084457\n",
      "\u001b[32m[1104 18:09:11 @monitor.py:467]\u001b[0m QueueInput/queue_size: 50\n",
      "\u001b[32m[1104 18:09:11 @base.py:275]\u001b[0m Start Epoch 976 ...\n"
     ]
    },
    {
     "name": "stderr",
     "output_type": "stream",
     "text": [
      "100%|###################################################################################|175/175[00:06<00:00,26.80it/s]"
     ]
    },
    {
     "name": "stdout",
     "output_type": "stream",
     "text": [
      "\u001b[32m[1104 18:09:18 @base.py:285]\u001b[0m Epoch 976 (global_step 204959) finished, time:6.53 seconds.\n",
      "\u001b[32m[1104 18:09:18 @saver.py:79]\u001b[0m Model saved to ../output/Chicago/WGGP_WI_new3/model\\model-204959.\n"
     ]
    },
    {
     "name": "stderr",
     "output_type": "stream",
     "text": [
      "\n"
     ]
    },
    {
     "name": "stdout",
     "output_type": "stream",
     "text": [
      "\u001b[32m[1104 18:09:18 @monitor.py:467]\u001b[0m GAN_loss/d_loss: -1.437\n",
      "\u001b[32m[1104 18:09:18 @monitor.py:467]\u001b[0m GAN_loss/g_loss: -0.37741\n",
      "\u001b[32m[1104 18:09:18 @monitor.py:467]\u001b[0m GAN_loss/gradient_penalty: 0.01614\n",
      "\u001b[32m[1104 18:09:18 @monitor.py:467]\u001b[0m GAN_loss/gradient_rms: 0.99921\n",
      "\u001b[32m[1104 18:09:18 @monitor.py:467]\u001b[0m GAN_loss/kl_div: 0.088609\n",
      "\u001b[32m[1104 18:09:18 @monitor.py:467]\u001b[0m QueueInput/queue_size: 50\n",
      "\u001b[32m[1104 18:09:18 @base.py:275]\u001b[0m Start Epoch 977 ...\n"
     ]
    },
    {
     "name": "stderr",
     "output_type": "stream",
     "text": [
      "100%|###################################################################################|175/175[00:06<00:00,26.61it/s]"
     ]
    },
    {
     "name": "stdout",
     "output_type": "stream",
     "text": [
      "\u001b[32m[1104 18:09:25 @base.py:285]\u001b[0m Epoch 977 (global_step 205169) finished, time:6.58 seconds.\n",
      "\u001b[32m[1104 18:09:25 @saver.py:79]\u001b[0m Model saved to ../output/Chicago/WGGP_WI_new3/model\\model-205169.\n"
     ]
    },
    {
     "name": "stderr",
     "output_type": "stream",
     "text": [
      "\n"
     ]
    },
    {
     "name": "stdout",
     "output_type": "stream",
     "text": [
      "\u001b[32m[1104 18:09:25 @monitor.py:467]\u001b[0m GAN_loss/d_loss: -1.3445\n",
      "\u001b[32m[1104 18:09:25 @monitor.py:467]\u001b[0m GAN_loss/g_loss: -0.34568\n",
      "\u001b[32m[1104 18:09:25 @monitor.py:467]\u001b[0m GAN_loss/gradient_penalty: 0.014747\n",
      "\u001b[32m[1104 18:09:25 @monitor.py:467]\u001b[0m GAN_loss/gradient_rms: 0.99834\n",
      "\u001b[32m[1104 18:09:25 @monitor.py:467]\u001b[0m GAN_loss/kl_div: 0.084467\n",
      "\u001b[32m[1104 18:09:25 @monitor.py:467]\u001b[0m QueueInput/queue_size: 50\n",
      "\u001b[32m[1104 18:09:25 @base.py:275]\u001b[0m Start Epoch 978 ...\n"
     ]
    },
    {
     "name": "stderr",
     "output_type": "stream",
     "text": [
      "100%|###################################################################################|175/175[00:06<00:00,26.83it/s]"
     ]
    },
    {
     "name": "stdout",
     "output_type": "stream",
     "text": [
      "\u001b[32m[1104 18:09:31 @base.py:285]\u001b[0m Epoch 978 (global_step 205379) finished, time:6.52 seconds.\n",
      "\u001b[32m[1104 18:09:31 @saver.py:79]\u001b[0m Model saved to ../output/Chicago/WGGP_WI_new3/model\\model-205379.\n"
     ]
    },
    {
     "name": "stderr",
     "output_type": "stream",
     "text": [
      "\n"
     ]
    },
    {
     "name": "stdout",
     "output_type": "stream",
     "text": [
      "\u001b[32m[1104 18:09:32 @monitor.py:467]\u001b[0m GAN_loss/d_loss: -1.2961\n",
      "\u001b[32m[1104 18:09:32 @monitor.py:467]\u001b[0m GAN_loss/g_loss: -0.30787\n",
      "\u001b[32m[1104 18:09:32 @monitor.py:467]\u001b[0m GAN_loss/gradient_penalty: 0.01465\n",
      "\u001b[32m[1104 18:09:32 @monitor.py:467]\u001b[0m GAN_loss/gradient_rms: 1.0005\n",
      "\u001b[32m[1104 18:09:32 @monitor.py:467]\u001b[0m GAN_loss/kl_div: 0.082067\n",
      "\u001b[32m[1104 18:09:32 @monitor.py:467]\u001b[0m QueueInput/queue_size: 50\n",
      "\u001b[32m[1104 18:09:32 @base.py:275]\u001b[0m Start Epoch 979 ...\n"
     ]
    },
    {
     "name": "stderr",
     "output_type": "stream",
     "text": [
      "100%|###################################################################################|175/175[00:06<00:00,25.65it/s]"
     ]
    },
    {
     "name": "stdout",
     "output_type": "stream",
     "text": [
      "\u001b[32m[1104 18:09:38 @base.py:285]\u001b[0m Epoch 979 (global_step 205589) finished, time:6.82 seconds.\n",
      "\u001b[32m[1104 18:09:39 @saver.py:79]\u001b[0m Model saved to ../output/Chicago/WGGP_WI_new3/model\\model-205589.\n"
     ]
    },
    {
     "name": "stderr",
     "output_type": "stream",
     "text": [
      "\n"
     ]
    },
    {
     "name": "stdout",
     "output_type": "stream",
     "text": [
      "\u001b[32m[1104 18:09:39 @monitor.py:467]\u001b[0m GAN_loss/d_loss: -1.0751\n",
      "\u001b[32m[1104 18:09:39 @monitor.py:467]\u001b[0m GAN_loss/g_loss: -0.24925\n",
      "\u001b[32m[1104 18:09:39 @monitor.py:467]\u001b[0m GAN_loss/gradient_penalty: 0.013791\n",
      "\u001b[32m[1104 18:09:39 @monitor.py:467]\u001b[0m GAN_loss/gradient_rms: 0.99998\n",
      "\u001b[32m[1104 18:09:39 @monitor.py:467]\u001b[0m GAN_loss/kl_div: 0.080366\n",
      "\u001b[32m[1104 18:09:39 @monitor.py:467]\u001b[0m QueueInput/queue_size: 50\n",
      "\u001b[32m[1104 18:09:39 @base.py:275]\u001b[0m Start Epoch 980 ...\n"
     ]
    },
    {
     "name": "stderr",
     "output_type": "stream",
     "text": [
      "100%|###################################################################################|175/175[00:06<00:00,26.30it/s]"
     ]
    },
    {
     "name": "stdout",
     "output_type": "stream",
     "text": [
      "\u001b[32m[1104 18:09:45 @base.py:285]\u001b[0m Epoch 980 (global_step 205799) finished, time:6.65 seconds.\n",
      "\u001b[32m[1104 18:09:45 @saver.py:79]\u001b[0m Model saved to ../output/Chicago/WGGP_WI_new3/model\\model-205799.\n"
     ]
    },
    {
     "name": "stderr",
     "output_type": "stream",
     "text": [
      "\n"
     ]
    },
    {
     "name": "stdout",
     "output_type": "stream",
     "text": [
      "\u001b[32m[1104 18:09:46 @monitor.py:467]\u001b[0m GAN_loss/d_loss: -1.211\n",
      "\u001b[32m[1104 18:09:46 @monitor.py:467]\u001b[0m GAN_loss/g_loss: -0.26165\n",
      "\u001b[32m[1104 18:09:46 @monitor.py:467]\u001b[0m GAN_loss/gradient_penalty: 0.015\n",
      "\u001b[32m[1104 18:09:46 @monitor.py:467]\u001b[0m GAN_loss/gradient_rms: 0.9984\n",
      "\u001b[32m[1104 18:09:46 @monitor.py:467]\u001b[0m GAN_loss/kl_div: 0.071159\n",
      "\u001b[32m[1104 18:09:46 @monitor.py:467]\u001b[0m QueueInput/queue_size: 50\n",
      "\u001b[32m[1104 18:09:46 @base.py:275]\u001b[0m Start Epoch 981 ...\n"
     ]
    },
    {
     "name": "stderr",
     "output_type": "stream",
     "text": [
      "100%|###################################################################################|175/175[00:06<00:00,26.39it/s]"
     ]
    },
    {
     "name": "stdout",
     "output_type": "stream",
     "text": [
      "\u001b[32m[1104 18:09:52 @base.py:285]\u001b[0m Epoch 981 (global_step 206009) finished, time:6.63 seconds.\n",
      "\u001b[32m[1104 18:09:52 @saver.py:79]\u001b[0m Model saved to ../output/Chicago/WGGP_WI_new3/model\\model-206009.\n"
     ]
    },
    {
     "name": "stderr",
     "output_type": "stream",
     "text": [
      "\n"
     ]
    },
    {
     "name": "stdout",
     "output_type": "stream",
     "text": [
      "\u001b[32m[1104 18:09:53 @monitor.py:467]\u001b[0m GAN_loss/d_loss: -1.4145\n",
      "\u001b[32m[1104 18:09:53 @monitor.py:467]\u001b[0m GAN_loss/g_loss: -0.25272\n",
      "\u001b[32m[1104 18:09:53 @monitor.py:467]\u001b[0m GAN_loss/gradient_penalty: 0.013971\n",
      "\u001b[32m[1104 18:09:53 @monitor.py:467]\u001b[0m GAN_loss/gradient_rms: 1.0026\n",
      "\u001b[32m[1104 18:09:53 @monitor.py:467]\u001b[0m GAN_loss/kl_div: 0.076961\n",
      "\u001b[32m[1104 18:09:53 @monitor.py:467]\u001b[0m QueueInput/queue_size: 50\n",
      "\u001b[32m[1104 18:09:53 @base.py:275]\u001b[0m Start Epoch 982 ...\n"
     ]
    },
    {
     "name": "stderr",
     "output_type": "stream",
     "text": [
      "100%|###################################################################################|175/175[00:06<00:00,26.70it/s]"
     ]
    },
    {
     "name": "stdout",
     "output_type": "stream",
     "text": [
      "\u001b[32m[1104 18:09:59 @base.py:285]\u001b[0m Epoch 982 (global_step 206219) finished, time:6.56 seconds.\n",
      "\u001b[32m[1104 18:09:59 @saver.py:79]\u001b[0m Model saved to ../output/Chicago/WGGP_WI_new3/model\\model-206219.\n"
     ]
    },
    {
     "name": "stderr",
     "output_type": "stream",
     "text": [
      "\n"
     ]
    },
    {
     "name": "stdout",
     "output_type": "stream",
     "text": [
      "\u001b[32m[1104 18:09:59 @monitor.py:467]\u001b[0m GAN_loss/d_loss: -1.3474\n",
      "\u001b[32m[1104 18:09:59 @monitor.py:467]\u001b[0m GAN_loss/g_loss: -0.27856\n",
      "\u001b[32m[1104 18:09:59 @monitor.py:467]\u001b[0m GAN_loss/gradient_penalty: 0.014987\n",
      "\u001b[32m[1104 18:09:59 @monitor.py:467]\u001b[0m GAN_loss/gradient_rms: 0.99746\n",
      "\u001b[32m[1104 18:09:59 @monitor.py:467]\u001b[0m GAN_loss/kl_div: 0.081994\n",
      "\u001b[32m[1104 18:09:59 @monitor.py:467]\u001b[0m QueueInput/queue_size: 50\n",
      "\u001b[32m[1104 18:09:59 @base.py:275]\u001b[0m Start Epoch 983 ...\n"
     ]
    },
    {
     "name": "stderr",
     "output_type": "stream",
     "text": [
      "100%|###################################################################################|175/175[00:06<00:00,26.65it/s]"
     ]
    },
    {
     "name": "stdout",
     "output_type": "stream",
     "text": [
      "\u001b[32m[1104 18:10:06 @base.py:285]\u001b[0m Epoch 983 (global_step 206429) finished, time:6.57 seconds.\n"
     ]
    },
    {
     "name": "stderr",
     "output_type": "stream",
     "text": [
      "\n"
     ]
    },
    {
     "name": "stdout",
     "output_type": "stream",
     "text": [
      "\u001b[32m[1104 18:10:06 @saver.py:79]\u001b[0m Model saved to ../output/Chicago/WGGP_WI_new3/model\\model-206429.\n",
      "\u001b[32m[1104 18:10:06 @monitor.py:467]\u001b[0m GAN_loss/d_loss: -1.7402\n",
      "\u001b[32m[1104 18:10:06 @monitor.py:467]\u001b[0m GAN_loss/g_loss: -0.28505\n",
      "\u001b[32m[1104 18:10:06 @monitor.py:467]\u001b[0m GAN_loss/gradient_penalty: 0.014985\n",
      "\u001b[32m[1104 18:10:06 @monitor.py:467]\u001b[0m GAN_loss/gradient_rms: 1.0032\n",
      "\u001b[32m[1104 18:10:06 @monitor.py:467]\u001b[0m GAN_loss/kl_div: 0.092068\n",
      "\u001b[32m[1104 18:10:06 @monitor.py:467]\u001b[0m QueueInput/queue_size: 50\n",
      "\u001b[32m[1104 18:10:06 @base.py:275]\u001b[0m Start Epoch 984 ...\n"
     ]
    },
    {
     "name": "stderr",
     "output_type": "stream",
     "text": [
      "100%|###################################################################################|175/175[00:06<00:00,26.73it/s]"
     ]
    },
    {
     "name": "stdout",
     "output_type": "stream",
     "text": [
      "\u001b[32m[1104 18:10:13 @base.py:285]\u001b[0m Epoch 984 (global_step 206639) finished, time:6.55 seconds.\n",
      "\u001b[32m[1104 18:10:13 @saver.py:79]\u001b[0m Model saved to ../output/Chicago/WGGP_WI_new3/model\\model-206639.\n"
     ]
    },
    {
     "name": "stderr",
     "output_type": "stream",
     "text": [
      "\n"
     ]
    },
    {
     "name": "stdout",
     "output_type": "stream",
     "text": [
      "\u001b[32m[1104 18:10:13 @monitor.py:467]\u001b[0m GAN_loss/d_loss: -1.7034\n",
      "\u001b[32m[1104 18:10:13 @monitor.py:467]\u001b[0m GAN_loss/g_loss: -0.28486\n",
      "\u001b[32m[1104 18:10:13 @monitor.py:467]\u001b[0m GAN_loss/gradient_penalty: 0.014811\n",
      "\u001b[32m[1104 18:10:13 @monitor.py:467]\u001b[0m GAN_loss/gradient_rms: 1.0037\n",
      "\u001b[32m[1104 18:10:13 @monitor.py:467]\u001b[0m GAN_loss/kl_div: 0.11814\n",
      "\u001b[32m[1104 18:10:13 @monitor.py:467]\u001b[0m QueueInput/queue_size: 50\n",
      "\u001b[32m[1104 18:10:13 @base.py:275]\u001b[0m Start Epoch 985 ...\n"
     ]
    },
    {
     "name": "stderr",
     "output_type": "stream",
     "text": [
      "100%|###################################################################################|175/175[00:06<00:00,26.69it/s]"
     ]
    },
    {
     "name": "stdout",
     "output_type": "stream",
     "text": [
      "\u001b[32m[1104 18:10:20 @base.py:285]\u001b[0m Epoch 985 (global_step 206849) finished, time:6.56 seconds.\n"
     ]
    },
    {
     "name": "stderr",
     "output_type": "stream",
     "text": [
      "\n"
     ]
    },
    {
     "name": "stdout",
     "output_type": "stream",
     "text": [
      "\u001b[32m[1104 18:10:20 @saver.py:79]\u001b[0m Model saved to ../output/Chicago/WGGP_WI_new3/model\\model-206849.\n",
      "\u001b[32m[1104 18:10:20 @monitor.py:467]\u001b[0m GAN_loss/d_loss: -1.5072\n",
      "\u001b[32m[1104 18:10:20 @monitor.py:467]\u001b[0m GAN_loss/g_loss: -0.31639\n",
      "\u001b[32m[1104 18:10:20 @monitor.py:467]\u001b[0m GAN_loss/gradient_penalty: 0.014679\n",
      "\u001b[32m[1104 18:10:20 @monitor.py:467]\u001b[0m GAN_loss/gradient_rms: 0.99966\n",
      "\u001b[32m[1104 18:10:20 @monitor.py:467]\u001b[0m GAN_loss/kl_div: 0.087934\n",
      "\u001b[32m[1104 18:10:20 @monitor.py:467]\u001b[0m QueueInput/queue_size: 50\n",
      "\u001b[32m[1104 18:10:20 @base.py:275]\u001b[0m Start Epoch 986 ...\n"
     ]
    },
    {
     "name": "stderr",
     "output_type": "stream",
     "text": [
      "100%|###################################################################################|175/175[00:06<00:00,26.75it/s]"
     ]
    },
    {
     "name": "stdout",
     "output_type": "stream",
     "text": [
      "\u001b[32m[1104 18:10:26 @base.py:285]\u001b[0m Epoch 986 (global_step 207059) finished, time:6.54 seconds.\n"
     ]
    },
    {
     "name": "stderr",
     "output_type": "stream",
     "text": [
      "\n"
     ]
    },
    {
     "name": "stdout",
     "output_type": "stream",
     "text": [
      "\u001b[32m[1104 18:10:27 @saver.py:79]\u001b[0m Model saved to ../output/Chicago/WGGP_WI_new3/model\\model-207059.\n",
      "\u001b[32m[1104 18:10:27 @monitor.py:467]\u001b[0m GAN_loss/d_loss: -1.6468\n",
      "\u001b[32m[1104 18:10:27 @monitor.py:467]\u001b[0m GAN_loss/g_loss: -0.28707\n",
      "\u001b[32m[1104 18:10:27 @monitor.py:467]\u001b[0m GAN_loss/gradient_penalty: 0.015253\n",
      "\u001b[32m[1104 18:10:27 @monitor.py:467]\u001b[0m GAN_loss/gradient_rms: 1.0008\n",
      "\u001b[32m[1104 18:10:27 @monitor.py:467]\u001b[0m GAN_loss/kl_div: 0.098994\n",
      "\u001b[32m[1104 18:10:27 @monitor.py:467]\u001b[0m QueueInput/queue_size: 50\n",
      "\u001b[32m[1104 18:10:27 @base.py:275]\u001b[0m Start Epoch 987 ...\n"
     ]
    },
    {
     "name": "stderr",
     "output_type": "stream",
     "text": [
      "100%|###################################################################################|175/175[00:06<00:00,26.82it/s]"
     ]
    },
    {
     "name": "stdout",
     "output_type": "stream",
     "text": [
      "\u001b[32m[1104 18:10:33 @base.py:285]\u001b[0m Epoch 987 (global_step 207269) finished, time:6.53 seconds.\n"
     ]
    },
    {
     "name": "stderr",
     "output_type": "stream",
     "text": [
      "\n"
     ]
    },
    {
     "name": "stdout",
     "output_type": "stream",
     "text": [
      "\u001b[32m[1104 18:10:33 @saver.py:79]\u001b[0m Model saved to ../output/Chicago/WGGP_WI_new3/model\\model-207269.\n",
      "\u001b[32m[1104 18:10:33 @monitor.py:467]\u001b[0m GAN_loss/d_loss: -1.5406\n",
      "\u001b[32m[1104 18:10:33 @monitor.py:467]\u001b[0m GAN_loss/g_loss: -0.31798\n",
      "\u001b[32m[1104 18:10:33 @monitor.py:467]\u001b[0m GAN_loss/gradient_penalty: 0.014225\n",
      "\u001b[32m[1104 18:10:33 @monitor.py:467]\u001b[0m GAN_loss/gradient_rms: 1.0001\n",
      "\u001b[32m[1104 18:10:33 @monitor.py:467]\u001b[0m GAN_loss/kl_div: 0.098378\n",
      "\u001b[32m[1104 18:10:33 @monitor.py:467]\u001b[0m QueueInput/queue_size: 50\n",
      "\u001b[32m[1104 18:10:33 @base.py:275]\u001b[0m Start Epoch 988 ...\n"
     ]
    },
    {
     "name": "stderr",
     "output_type": "stream",
     "text": [
      "100%|###################################################################################|175/175[00:06<00:00,26.78it/s]"
     ]
    },
    {
     "name": "stdout",
     "output_type": "stream",
     "text": [
      "\u001b[32m[1104 18:10:40 @base.py:285]\u001b[0m Epoch 988 (global_step 207479) finished, time:6.53 seconds.\n"
     ]
    },
    {
     "name": "stderr",
     "output_type": "stream",
     "text": [
      "\n"
     ]
    },
    {
     "name": "stdout",
     "output_type": "stream",
     "text": [
      "\u001b[32m[1104 18:10:40 @saver.py:79]\u001b[0m Model saved to ../output/Chicago/WGGP_WI_new3/model\\model-207479.\n",
      "\u001b[32m[1104 18:10:40 @monitor.py:467]\u001b[0m GAN_loss/d_loss: -1.4631\n",
      "\u001b[32m[1104 18:10:40 @monitor.py:467]\u001b[0m GAN_loss/g_loss: -0.34005\n",
      "\u001b[32m[1104 18:10:40 @monitor.py:467]\u001b[0m GAN_loss/gradient_penalty: 0.014852\n",
      "\u001b[32m[1104 18:10:40 @monitor.py:467]\u001b[0m GAN_loss/gradient_rms: 1.0016\n",
      "\u001b[32m[1104 18:10:40 @monitor.py:467]\u001b[0m GAN_loss/kl_div: 0.12172\n",
      "\u001b[32m[1104 18:10:40 @monitor.py:467]\u001b[0m QueueInput/queue_size: 50\n",
      "\u001b[32m[1104 18:10:40 @base.py:275]\u001b[0m Start Epoch 989 ...\n"
     ]
    },
    {
     "name": "stderr",
     "output_type": "stream",
     "text": [
      "100%|###################################################################################|175/175[00:06<00:00,26.66it/s]"
     ]
    },
    {
     "name": "stdout",
     "output_type": "stream",
     "text": [
      "\u001b[32m[1104 18:10:47 @base.py:285]\u001b[0m Epoch 989 (global_step 207689) finished, time:6.56 seconds.\n",
      "\u001b[32m[1104 18:10:47 @saver.py:79]\u001b[0m Model saved to ../output/Chicago/WGGP_WI_new3/model\\model-207689.\n"
     ]
    },
    {
     "name": "stderr",
     "output_type": "stream",
     "text": [
      "\n"
     ]
    },
    {
     "name": "stdout",
     "output_type": "stream",
     "text": [
      "\u001b[32m[1104 18:10:47 @monitor.py:467]\u001b[0m GAN_loss/d_loss: -1.3224\n",
      "\u001b[32m[1104 18:10:47 @monitor.py:467]\u001b[0m GAN_loss/g_loss: -0.35225\n",
      "\u001b[32m[1104 18:10:47 @monitor.py:467]\u001b[0m GAN_loss/gradient_penalty: 0.013649\n",
      "\u001b[32m[1104 18:10:47 @monitor.py:467]\u001b[0m GAN_loss/gradient_rms: 0.99969\n",
      "\u001b[32m[1104 18:10:47 @monitor.py:467]\u001b[0m GAN_loss/kl_div: 0.10574\n",
      "\u001b[32m[1104 18:10:47 @monitor.py:467]\u001b[0m QueueInput/queue_size: 50\n",
      "\u001b[32m[1104 18:10:47 @base.py:275]\u001b[0m Start Epoch 990 ...\n"
     ]
    },
    {
     "name": "stderr",
     "output_type": "stream",
     "text": [
      "100%|###################################################################################|175/175[00:06<00:00,26.85it/s]"
     ]
    },
    {
     "name": "stdout",
     "output_type": "stream",
     "text": [
      "\u001b[32m[1104 18:10:54 @base.py:285]\u001b[0m Epoch 990 (global_step 207899) finished, time:6.52 seconds.\n"
     ]
    },
    {
     "name": "stderr",
     "output_type": "stream",
     "text": [
      "\n"
     ]
    },
    {
     "name": "stdout",
     "output_type": "stream",
     "text": [
      "\u001b[32m[1104 18:10:54 @saver.py:79]\u001b[0m Model saved to ../output/Chicago/WGGP_WI_new3/model\\model-207899.\n",
      "\u001b[32m[1104 18:10:54 @monitor.py:467]\u001b[0m GAN_loss/d_loss: -1.6555\n",
      "\u001b[32m[1104 18:10:54 @monitor.py:467]\u001b[0m GAN_loss/g_loss: -0.37897\n",
      "\u001b[32m[1104 18:10:54 @monitor.py:467]\u001b[0m GAN_loss/gradient_penalty: 0.014432\n",
      "\u001b[32m[1104 18:10:54 @monitor.py:467]\u001b[0m GAN_loss/gradient_rms: 0.99943\n",
      "\u001b[32m[1104 18:10:54 @monitor.py:467]\u001b[0m GAN_loss/kl_div: 0.084734\n",
      "\u001b[32m[1104 18:10:54 @monitor.py:467]\u001b[0m QueueInput/queue_size: 50\n",
      "\u001b[32m[1104 18:10:54 @base.py:275]\u001b[0m Start Epoch 991 ...\n"
     ]
    },
    {
     "name": "stderr",
     "output_type": "stream",
     "text": [
      "100%|###################################################################################|175/175[00:06<00:00,26.74it/s]"
     ]
    },
    {
     "name": "stdout",
     "output_type": "stream",
     "text": [
      "\u001b[32m[1104 18:11:00 @base.py:285]\u001b[0m Epoch 991 (global_step 208109) finished, time:6.55 seconds.\n"
     ]
    },
    {
     "name": "stderr",
     "output_type": "stream",
     "text": [
      "\n"
     ]
    },
    {
     "name": "stdout",
     "output_type": "stream",
     "text": [
      "\u001b[32m[1104 18:11:01 @saver.py:79]\u001b[0m Model saved to ../output/Chicago/WGGP_WI_new3/model\\model-208109.\n",
      "\u001b[32m[1104 18:11:01 @monitor.py:467]\u001b[0m GAN_loss/d_loss: -1.6365\n",
      "\u001b[32m[1104 18:11:01 @monitor.py:467]\u001b[0m GAN_loss/g_loss: -0.40937\n",
      "\u001b[32m[1104 18:11:01 @monitor.py:467]\u001b[0m GAN_loss/gradient_penalty: 0.015069\n",
      "\u001b[32m[1104 18:11:01 @monitor.py:467]\u001b[0m GAN_loss/gradient_rms: 1.0006\n",
      "\u001b[32m[1104 18:11:01 @monitor.py:467]\u001b[0m GAN_loss/kl_div: 0.086115\n",
      "\u001b[32m[1104 18:11:01 @monitor.py:467]\u001b[0m QueueInput/queue_size: 50\n",
      "\u001b[32m[1104 18:11:01 @base.py:275]\u001b[0m Start Epoch 992 ...\n"
     ]
    },
    {
     "name": "stderr",
     "output_type": "stream",
     "text": [
      "100%|###################################################################################|175/175[00:06<00:00,26.68it/s]"
     ]
    },
    {
     "name": "stdout",
     "output_type": "stream",
     "text": [
      "\u001b[32m[1104 18:11:07 @base.py:285]\u001b[0m Epoch 992 (global_step 208319) finished, time:6.56 seconds.\n"
     ]
    },
    {
     "name": "stderr",
     "output_type": "stream",
     "text": [
      "\n"
     ]
    },
    {
     "name": "stdout",
     "output_type": "stream",
     "text": [
      "\u001b[32m[1104 18:11:07 @saver.py:79]\u001b[0m Model saved to ../output/Chicago/WGGP_WI_new3/model\\model-208319.\n",
      "\u001b[32m[1104 18:11:08 @monitor.py:467]\u001b[0m GAN_loss/d_loss: -2.045\n",
      "\u001b[32m[1104 18:11:08 @monitor.py:467]\u001b[0m GAN_loss/g_loss: -0.43594\n",
      "\u001b[32m[1104 18:11:08 @monitor.py:467]\u001b[0m GAN_loss/gradient_penalty: 0.015146\n",
      "\u001b[32m[1104 18:11:08 @monitor.py:467]\u001b[0m GAN_loss/gradient_rms: 1.0012\n",
      "\u001b[32m[1104 18:11:08 @monitor.py:467]\u001b[0m GAN_loss/kl_div: 0.091694\n",
      "\u001b[32m[1104 18:11:08 @monitor.py:467]\u001b[0m QueueInput/queue_size: 50\n",
      "\u001b[32m[1104 18:11:08 @base.py:275]\u001b[0m Start Epoch 993 ...\n"
     ]
    },
    {
     "name": "stderr",
     "output_type": "stream",
     "text": [
      "100%|###################################################################################|175/175[00:06<00:00,26.73it/s]"
     ]
    },
    {
     "name": "stdout",
     "output_type": "stream",
     "text": [
      "\u001b[32m[1104 18:11:14 @base.py:285]\u001b[0m Epoch 993 (global_step 208529) finished, time:6.55 seconds.\n"
     ]
    },
    {
     "name": "stderr",
     "output_type": "stream",
     "text": [
      "\n"
     ]
    },
    {
     "name": "stdout",
     "output_type": "stream",
     "text": [
      "\u001b[32m[1104 18:11:14 @saver.py:79]\u001b[0m Model saved to ../output/Chicago/WGGP_WI_new3/model\\model-208529.\n",
      "\u001b[32m[1104 18:11:14 @monitor.py:467]\u001b[0m GAN_loss/d_loss: -2.4837\n",
      "\u001b[32m[1104 18:11:14 @monitor.py:467]\u001b[0m GAN_loss/g_loss: -0.47746\n",
      "\u001b[32m[1104 18:11:14 @monitor.py:467]\u001b[0m GAN_loss/gradient_penalty: 0.016746\n",
      "\u001b[32m[1104 18:11:14 @monitor.py:467]\u001b[0m GAN_loss/gradient_rms: 1.0033\n",
      "\u001b[32m[1104 18:11:14 @monitor.py:467]\u001b[0m GAN_loss/kl_div: 0.10253\n",
      "\u001b[32m[1104 18:11:14 @monitor.py:467]\u001b[0m QueueInput/queue_size: 50\n",
      "\u001b[32m[1104 18:11:14 @base.py:275]\u001b[0m Start Epoch 994 ...\n"
     ]
    },
    {
     "name": "stderr",
     "output_type": "stream",
     "text": [
      "100%|###################################################################################|175/175[00:06<00:00,26.72it/s]"
     ]
    },
    {
     "name": "stdout",
     "output_type": "stream",
     "text": [
      "\u001b[32m[1104 18:11:21 @base.py:285]\u001b[0m Epoch 994 (global_step 208739) finished, time:6.55 seconds.\n",
      "\u001b[32m[1104 18:11:21 @saver.py:79]\u001b[0m Model saved to ../output/Chicago/WGGP_WI_new3/model\\model-208739.\n"
     ]
    },
    {
     "name": "stderr",
     "output_type": "stream",
     "text": [
      "\n"
     ]
    },
    {
     "name": "stdout",
     "output_type": "stream",
     "text": [
      "\u001b[32m[1104 18:11:21 @monitor.py:467]\u001b[0m GAN_loss/d_loss: -2.2281\n",
      "\u001b[32m[1104 18:11:21 @monitor.py:467]\u001b[0m GAN_loss/g_loss: -0.49564\n",
      "\u001b[32m[1104 18:11:21 @monitor.py:467]\u001b[0m GAN_loss/gradient_penalty: 0.017162\n",
      "\u001b[32m[1104 18:11:21 @monitor.py:467]\u001b[0m GAN_loss/gradient_rms: 1.0035\n",
      "\u001b[32m[1104 18:11:21 @monitor.py:467]\u001b[0m GAN_loss/kl_div: 0.09092\n",
      "\u001b[32m[1104 18:11:21 @monitor.py:467]\u001b[0m QueueInput/queue_size: 50\n",
      "\u001b[32m[1104 18:11:21 @base.py:275]\u001b[0m Start Epoch 995 ...\n"
     ]
    },
    {
     "name": "stderr",
     "output_type": "stream",
     "text": [
      "100%|###################################################################################|175/175[00:06<00:00,26.74it/s]"
     ]
    },
    {
     "name": "stdout",
     "output_type": "stream",
     "text": [
      "\u001b[32m[1104 18:11:28 @base.py:285]\u001b[0m Epoch 995 (global_step 208949) finished, time:6.55 seconds.\n",
      "\u001b[32m[1104 18:11:28 @saver.py:79]\u001b[0m Model saved to ../output/Chicago/WGGP_WI_new3/model\\model-208949.\n"
     ]
    },
    {
     "name": "stderr",
     "output_type": "stream",
     "text": [
      "\n"
     ]
    },
    {
     "name": "stdout",
     "output_type": "stream",
     "text": [
      "\u001b[32m[1104 18:11:28 @monitor.py:467]\u001b[0m GAN_loss/d_loss: -2.4263\n",
      "\u001b[32m[1104 18:11:28 @monitor.py:467]\u001b[0m GAN_loss/g_loss: -0.52633\n",
      "\u001b[32m[1104 18:11:28 @monitor.py:467]\u001b[0m GAN_loss/gradient_penalty: 0.017834\n",
      "\u001b[32m[1104 18:11:28 @monitor.py:467]\u001b[0m GAN_loss/gradient_rms: 1.0049\n",
      "\u001b[32m[1104 18:11:28 @monitor.py:467]\u001b[0m GAN_loss/kl_div: 0.093434\n",
      "\u001b[32m[1104 18:11:28 @monitor.py:467]\u001b[0m QueueInput/queue_size: 50\n",
      "\u001b[32m[1104 18:11:28 @base.py:275]\u001b[0m Start Epoch 996 ...\n"
     ]
    },
    {
     "name": "stderr",
     "output_type": "stream",
     "text": [
      "100%|###################################################################################|175/175[00:06<00:00,26.71it/s]"
     ]
    },
    {
     "name": "stdout",
     "output_type": "stream",
     "text": [
      "\u001b[32m[1104 18:11:35 @base.py:285]\u001b[0m Epoch 996 (global_step 209159) finished, time:6.55 seconds.\n",
      "\u001b[32m[1104 18:11:35 @saver.py:79]\u001b[0m Model saved to ../output/Chicago/WGGP_WI_new3/model\\model-209159.\n"
     ]
    },
    {
     "name": "stderr",
     "output_type": "stream",
     "text": [
      "\n"
     ]
    },
    {
     "name": "stdout",
     "output_type": "stream",
     "text": [
      "\u001b[32m[1104 18:11:35 @monitor.py:467]\u001b[0m GAN_loss/d_loss: -1.9727\n",
      "\u001b[32m[1104 18:11:35 @monitor.py:467]\u001b[0m GAN_loss/g_loss: -0.52711\n",
      "\u001b[32m[1104 18:11:35 @monitor.py:467]\u001b[0m GAN_loss/gradient_penalty: 0.015743\n",
      "\u001b[32m[1104 18:11:35 @monitor.py:467]\u001b[0m GAN_loss/gradient_rms: 1.0029\n",
      "\u001b[32m[1104 18:11:35 @monitor.py:467]\u001b[0m GAN_loss/kl_div: 0.10407\n",
      "\u001b[32m[1104 18:11:35 @monitor.py:467]\u001b[0m QueueInput/queue_size: 50\n",
      "\u001b[32m[1104 18:11:35 @base.py:275]\u001b[0m Start Epoch 997 ...\n"
     ]
    },
    {
     "name": "stderr",
     "output_type": "stream",
     "text": [
      "100%|###################################################################################|175/175[00:06<00:00,26.68it/s]"
     ]
    },
    {
     "name": "stdout",
     "output_type": "stream",
     "text": [
      "\u001b[32m[1104 18:11:41 @base.py:285]\u001b[0m Epoch 997 (global_step 209369) finished, time:6.56 seconds.\n",
      "\u001b[32m[1104 18:11:42 @saver.py:79]\u001b[0m Model saved to ../output/Chicago/WGGP_WI_new3/model\\model-209369.\n"
     ]
    },
    {
     "name": "stderr",
     "output_type": "stream",
     "text": [
      "\n"
     ]
    },
    {
     "name": "stdout",
     "output_type": "stream",
     "text": [
      "\u001b[32m[1104 18:11:42 @monitor.py:467]\u001b[0m GAN_loss/d_loss: -1.8566\n",
      "\u001b[32m[1104 18:11:42 @monitor.py:467]\u001b[0m GAN_loss/g_loss: -0.5354\n",
      "\u001b[32m[1104 18:11:42 @monitor.py:467]\u001b[0m GAN_loss/gradient_penalty: 0.016779\n",
      "\u001b[32m[1104 18:11:42 @monitor.py:467]\u001b[0m GAN_loss/gradient_rms: 1.0027\n",
      "\u001b[32m[1104 18:11:42 @monitor.py:467]\u001b[0m GAN_loss/kl_div: 0.083293\n",
      "\u001b[32m[1104 18:11:42 @monitor.py:467]\u001b[0m QueueInput/queue_size: 50\n",
      "\u001b[32m[1104 18:11:42 @base.py:275]\u001b[0m Start Epoch 998 ...\n"
     ]
    },
    {
     "name": "stderr",
     "output_type": "stream",
     "text": [
      "100%|###################################################################################|175/175[00:06<00:00,26.67it/s]"
     ]
    },
    {
     "name": "stdout",
     "output_type": "stream",
     "text": [
      "\u001b[32m[1104 18:11:48 @base.py:285]\u001b[0m Epoch 998 (global_step 209579) finished, time:6.56 seconds.\n",
      "\u001b[32m[1104 18:11:48 @saver.py:79]\u001b[0m Model saved to ../output/Chicago/WGGP_WI_new3/model\\model-209579.\n"
     ]
    },
    {
     "name": "stderr",
     "output_type": "stream",
     "text": [
      "\n"
     ]
    },
    {
     "name": "stdout",
     "output_type": "stream",
     "text": [
      "\u001b[32m[1104 18:11:49 @monitor.py:467]\u001b[0m GAN_loss/d_loss: -1.3593\n",
      "\u001b[32m[1104 18:11:49 @monitor.py:467]\u001b[0m GAN_loss/g_loss: -0.52372\n",
      "\u001b[32m[1104 18:11:49 @monitor.py:467]\u001b[0m GAN_loss/gradient_penalty: 0.015746\n",
      "\u001b[32m[1104 18:11:49 @monitor.py:467]\u001b[0m GAN_loss/gradient_rms: 1.0007\n",
      "\u001b[32m[1104 18:11:49 @monitor.py:467]\u001b[0m GAN_loss/kl_div: 0.089129\n",
      "\u001b[32m[1104 18:11:49 @monitor.py:467]\u001b[0m QueueInput/queue_size: 50\n",
      "\u001b[32m[1104 18:11:49 @base.py:275]\u001b[0m Start Epoch 999 ...\n"
     ]
    },
    {
     "name": "stderr",
     "output_type": "stream",
     "text": [
      "100%|###################################################################################|175/175[00:06<00:00,26.82it/s]"
     ]
    },
    {
     "name": "stdout",
     "output_type": "stream",
     "text": [
      "\u001b[32m[1104 18:11:55 @base.py:285]\u001b[0m Epoch 999 (global_step 209789) finished, time:6.53 seconds.\n",
      "\u001b[32m[1104 18:11:55 @saver.py:79]\u001b[0m Model saved to ../output/Chicago/WGGP_WI_new3/model\\model-209789.\n"
     ]
    },
    {
     "name": "stderr",
     "output_type": "stream",
     "text": [
      "\n"
     ]
    },
    {
     "name": "stdout",
     "output_type": "stream",
     "text": [
      "\u001b[32m[1104 18:11:55 @monitor.py:467]\u001b[0m GAN_loss/d_loss: -1.0491\n",
      "\u001b[32m[1104 18:11:55 @monitor.py:467]\u001b[0m GAN_loss/g_loss: -0.50651\n",
      "\u001b[32m[1104 18:11:55 @monitor.py:467]\u001b[0m GAN_loss/gradient_penalty: 0.013865\n",
      "\u001b[32m[1104 18:11:55 @monitor.py:467]\u001b[0m GAN_loss/gradient_rms: 1.0001\n",
      "\u001b[32m[1104 18:11:55 @monitor.py:467]\u001b[0m GAN_loss/kl_div: 0.093351\n",
      "\u001b[32m[1104 18:11:55 @monitor.py:467]\u001b[0m QueueInput/queue_size: 50\n",
      "\u001b[32m[1104 18:11:55 @base.py:275]\u001b[0m Start Epoch 1000 ...\n"
     ]
    },
    {
     "name": "stderr",
     "output_type": "stream",
     "text": [
      "100%|###################################################################################|175/175[00:06<00:00,26.89it/s]"
     ]
    },
    {
     "name": "stdout",
     "output_type": "stream",
     "text": [
      "\u001b[32m[1104 18:12:02 @base.py:285]\u001b[0m Epoch 1000 (global_step 209999) finished, time:6.51 seconds.\n",
      "\u001b[32m[1104 18:12:02 @saver.py:79]\u001b[0m Model saved to ../output/Chicago/WGGP_WI_new3/model\\model-209999.\n"
     ]
    },
    {
     "name": "stderr",
     "output_type": "stream",
     "text": [
      "\n"
     ]
    },
    {
     "name": "stdout",
     "output_type": "stream",
     "text": [
      "\u001b[32m[1104 18:12:02 @monitor.py:467]\u001b[0m GAN_loss/d_loss: -1.0464\n",
      "\u001b[32m[1104 18:12:02 @monitor.py:467]\u001b[0m GAN_loss/g_loss: -0.50939\n",
      "\u001b[32m[1104 18:12:02 @monitor.py:467]\u001b[0m GAN_loss/gradient_penalty: 0.013636\n",
      "\u001b[32m[1104 18:12:02 @monitor.py:467]\u001b[0m GAN_loss/gradient_rms: 0.998\n",
      "\u001b[32m[1104 18:12:02 @monitor.py:467]\u001b[0m GAN_loss/kl_div: 0.0832\n",
      "\u001b[32m[1104 18:12:02 @monitor.py:467]\u001b[0m QueueInput/queue_size: 50\n",
      "\u001b[32m[1104 18:12:02 @base.py:289]\u001b[0m Training has finished!\n",
      "WARNING:tensorflow:From D:\\Users\\glede\\anaconda3\\envs\\py37\\lib\\site-packages\\tensorpack\\predict\\config.py:101: The name tf.train.ChiefSessionCreator is deprecated. Please use tf.compat.v1.train.ChiefSessionCreator instead.\n",
      "\n",
      "\u001b[32m[1104 18:12:02 @DATSGANModel.py:211]\u001b[0m \u001b[91mCreating cell for age (in-edges: 0; ancestors: 0)\n",
      "\u001b[32m[1104 18:12:02 @DATSGANModel.py:211]\u001b[0m \u001b[91mCreating cell for gender (in-edges: 0; ancestors: 0)\n",
      "\u001b[32m[1104 18:12:02 @DATSGANModel.py:211]\u001b[0m \u001b[91mCreating cell for travel_dow (in-edges: 0; ancestors: 0)\n",
      "\u001b[32m[1104 18:12:02 @DATSGANModel.py:211]\u001b[0m \u001b[91mCreating cell for license (in-edges: 1; ancestors: 1)\n",
      "\u001b[32m[1104 18:12:02 @DATSGANModel.py:211]\u001b[0m \u001b[91mCreating cell for education_level (in-edges: 1; ancestors: 1)\n",
      "\u001b[32m[1104 18:12:03 @DATSGANModel.py:211]\u001b[0m \u001b[91mCreating cell for work_status (in-edges: 2; ancestors: 3)\n",
      "\u001b[32m[1104 18:12:03 @DATSGANModel.py:211]\u001b[0m \u001b[91mCreating cell for hh_income (in-edges: 2; ancestors: 4)\n",
      "\u001b[32m[1104 18:12:03 @DATSGANModel.py:211]\u001b[0m \u001b[91mCreating cell for trip_purpose (in-edges: 1; ancestors: 4)\n",
      "\u001b[32m[1104 18:12:03 @DATSGANModel.py:211]\u001b[0m \u001b[91mCreating cell for hh_descr (in-edges: 2; ancestors: 5)\n",
      "\u001b[32m[1104 18:12:03 @DATSGANModel.py:211]\u001b[0m \u001b[91mCreating cell for hh_size (in-edges: 3; ancestors: 5)\n",
      "\u001b[32m[1104 18:12:03 @input_source.py:178]\u001b[0m EnqueueThread QueueInput/input_queue Exited.\n",
      "\u001b[32m[1104 18:12:03 @DATSGANModel.py:211]\u001b[0m \u001b[91mCreating cell for departure_time (in-edges: 1; ancestors: 5)\n",
      "\u001b[32m[1104 18:12:03 @DATSGANModel.py:211]\u001b[0m \u001b[91mCreating cell for distance (in-edges: 1; ancestors: 5)\n",
      "\u001b[32m[1104 18:12:03 @DATSGANModel.py:211]\u001b[0m \u001b[91mCreating cell for hh_vehicles (in-edges: 2; ancestors: 6)\n",
      "\u001b[32m[1104 18:12:03 @DATSGANModel.py:211]\u001b[0m \u001b[91mCreating cell for hh_bikes (in-edges: 2; ancestors: 6)\n",
      "\u001b[32m[1104 18:12:03 @DATSGANModel.py:211]\u001b[0m \u001b[91mCreating cell for choice (in-edges: 7; ancestors: 13)\n",
      "WARNING:tensorflow:From D:\\Users\\glede\\anaconda3\\envs\\py37\\lib\\site-packages\\tensorpack\\tfutils\\collection.py:45: The name tf.get_collection_ref is deprecated. Please use tf.compat.v1.get_collection_ref instead.\n",
      "\n",
      "\u001b[32m[1104 18:12:04 @sessinit.py:87]\u001b[0m \u001b[5m\u001b[31mWRN\u001b[0m The following variables are in the checkpoint, but not found in the graph: global_step, optimize/beta1_power, optimize/beta2_power\n",
      "WARNING:tensorflow:From D:\\Users\\glede\\anaconda3\\envs\\py37\\lib\\site-packages\\tensorflow_core\\python\\ops\\array_ops.py:1475: where (from tensorflow.python.ops.array_ops) is deprecated and will be removed in a future version.\n",
      "Instructions for updating:\n",
      "Use tf.where in 2.0, which has the same broadcast rule as np.where\n",
      "INFO:tensorflow:Graph was finalized.\n",
      "INFO:tensorflow:Running local_init_op.\n",
      "INFO:tensorflow:Done running local_init_op.\n",
      "\u001b[32m[1104 18:12:05 @sessinit.py:114]\u001b[0m Restoring checkpoint from ../output/Chicago/WGGP_WI_new3/model\\model-209999 ...\n",
      "INFO:tensorflow:Restoring parameters from ../output/Chicago/WGGP_WI_new3/model\\model-209999\n"
     ]
    }
   ],
   "source": [
    "test = datgan.fit(df, graph)"
   ]
  },
  {
   "cell_type": "code",
   "execution_count": 12,
   "metadata": {},
   "outputs": [
    {
     "name": "stdout",
     "output_type": "stream",
     "text": [
      "\u001b[32m[1104 18:12:53 @DATSGAN.py:362]\u001b[0m Model saved successfully.\n"
     ]
    }
   ],
   "source": [
    "datgan.save('trained', force=True)"
   ]
  },
  {
   "cell_type": "code",
   "execution_count": 13,
   "metadata": {},
   "outputs": [],
   "source": [
    "beepy.beep(6)"
   ]
  }
 ],
 "metadata": {
  "kernelspec": {
   "display_name": "Python 3",
   "language": "python",
   "name": "python3"
  },
  "language_info": {
   "codemirror_mode": {
    "name": "ipython",
    "version": 3
   },
   "file_extension": ".py",
   "mimetype": "text/x-python",
   "name": "python",
   "nbconvert_exporter": "python",
   "pygments_lexer": "ipython3",
   "version": "3.7.9"
  }
 },
 "nbformat": 4,
 "nbformat_minor": 2
}
