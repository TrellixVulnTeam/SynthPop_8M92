{
 "cells": [
  {
   "cell_type": "code",
   "execution_count": 1,
   "metadata": {},
   "outputs": [],
   "source": [
    "import os\n",
    "os.chdir('../..')"
   ]
  },
  {
   "cell_type": "code",
   "execution_count": 2,
   "metadata": {},
   "outputs": [],
   "source": [
    "import numpy as np\n",
    "import pandas as pd\n",
    "\n",
    "from CTABGAN.model.ctabgan import CTABGAN\n",
    "\n",
    "# For the Python notebook\n",
    "%matplotlib inline\n",
    "%reload_ext autoreload\n",
    "%autoreload 2"
   ]
  },
  {
   "cell_type": "code",
   "execution_count": 3,
   "metadata": {},
   "outputs": [],
   "source": [
    "dataset = 'LPMC'"
   ]
  },
  {
   "cell_type": "code",
   "execution_count": 4,
   "metadata": {},
   "outputs": [],
   "source": [
    "df = pd.read_csv('../data/{}/data.csv'.format(dataset), index_col=False)"
   ]
  },
  {
   "cell_type": "code",
   "execution_count": 5,
   "metadata": {},
   "outputs": [
    {
     "data": {
      "text/html": [
       "<div>\n",
       "<style scoped>\n",
       "    .dataframe tbody tr th:only-of-type {\n",
       "        vertical-align: middle;\n",
       "    }\n",
       "\n",
       "    .dataframe tbody tr th {\n",
       "        vertical-align: top;\n",
       "    }\n",
       "\n",
       "    .dataframe thead th {\n",
       "        text-align: right;\n",
       "    }\n",
       "</style>\n",
       "<table border=\"1\" class=\"dataframe\">\n",
       "  <thead>\n",
       "    <tr style=\"text-align: right;\">\n",
       "      <th></th>\n",
       "      <th>travel_mode</th>\n",
       "      <th>purpose</th>\n",
       "      <th>fueltype</th>\n",
       "      <th>faretype</th>\n",
       "      <th>bus_scale</th>\n",
       "      <th>travel_year</th>\n",
       "      <th>travel_month</th>\n",
       "      <th>travel_date</th>\n",
       "      <th>day_of_week</th>\n",
       "      <th>start_time_linear</th>\n",
       "      <th>...</th>\n",
       "      <th>dur_pt_access</th>\n",
       "      <th>dur_pt_rail</th>\n",
       "      <th>dur_pt_bus</th>\n",
       "      <th>dur_pt_int</th>\n",
       "      <th>pt_n_interchanges</th>\n",
       "      <th>dur_driving</th>\n",
       "      <th>cost_transit</th>\n",
       "      <th>cost_driving_fuel</th>\n",
       "      <th>cost_driving_con_charge</th>\n",
       "      <th>driving_traffic_percent</th>\n",
       "    </tr>\n",
       "  </thead>\n",
       "  <tbody>\n",
       "    <tr>\n",
       "      <th>0</th>\n",
       "      <td>drive</td>\n",
       "      <td>HBO</td>\n",
       "      <td>Petrol_Car</td>\n",
       "      <td>child</td>\n",
       "      <td>0.0</td>\n",
       "      <td>2012</td>\n",
       "      <td>4</td>\n",
       "      <td>1</td>\n",
       "      <td>7</td>\n",
       "      <td>10.000000</td>\n",
       "      <td>...</td>\n",
       "      <td>0.134444</td>\n",
       "      <td>0.0</td>\n",
       "      <td>0.016667</td>\n",
       "      <td>0.000000</td>\n",
       "      <td>0</td>\n",
       "      <td>0.052222</td>\n",
       "      <td>0.0</td>\n",
       "      <td>0.14</td>\n",
       "      <td>0.0</td>\n",
       "      <td>0.111702</td>\n",
       "    </tr>\n",
       "    <tr>\n",
       "      <th>1</th>\n",
       "      <td>drive</td>\n",
       "      <td>HBO</td>\n",
       "      <td>Petrol_Car</td>\n",
       "      <td>free</td>\n",
       "      <td>0.0</td>\n",
       "      <td>2012</td>\n",
       "      <td>4</td>\n",
       "      <td>1</td>\n",
       "      <td>7</td>\n",
       "      <td>17.666667</td>\n",
       "      <td>...</td>\n",
       "      <td>0.241389</td>\n",
       "      <td>0.0</td>\n",
       "      <td>0.122222</td>\n",
       "      <td>0.000000</td>\n",
       "      <td>0</td>\n",
       "      <td>0.132222</td>\n",
       "      <td>0.0</td>\n",
       "      <td>0.50</td>\n",
       "      <td>0.0</td>\n",
       "      <td>0.065126</td>\n",
       "    </tr>\n",
       "    <tr>\n",
       "      <th>2</th>\n",
       "      <td>drive</td>\n",
       "      <td>HBO</td>\n",
       "      <td>Petrol_Car</td>\n",
       "      <td>full</td>\n",
       "      <td>1.0</td>\n",
       "      <td>2012</td>\n",
       "      <td>4</td>\n",
       "      <td>1</td>\n",
       "      <td>7</td>\n",
       "      <td>13.000000</td>\n",
       "      <td>...</td>\n",
       "      <td>0.257500</td>\n",
       "      <td>0.0</td>\n",
       "      <td>0.873889</td>\n",
       "      <td>0.089444</td>\n",
       "      <td>1</td>\n",
       "      <td>0.508333</td>\n",
       "      <td>3.0</td>\n",
       "      <td>1.59</td>\n",
       "      <td>0.0</td>\n",
       "      <td>0.356831</td>\n",
       "    </tr>\n",
       "    <tr>\n",
       "      <th>3</th>\n",
       "      <td>pt</td>\n",
       "      <td>HBW</td>\n",
       "      <td>Average_Car</td>\n",
       "      <td>full</td>\n",
       "      <td>1.0</td>\n",
       "      <td>2012</td>\n",
       "      <td>4</td>\n",
       "      <td>1</td>\n",
       "      <td>7</td>\n",
       "      <td>21.500000</td>\n",
       "      <td>...</td>\n",
       "      <td>0.123889</td>\n",
       "      <td>0.0</td>\n",
       "      <td>0.208056</td>\n",
       "      <td>0.091667</td>\n",
       "      <td>1</td>\n",
       "      <td>0.115556</td>\n",
       "      <td>3.0</td>\n",
       "      <td>0.33</td>\n",
       "      <td>0.0</td>\n",
       "      <td>0.033654</td>\n",
       "    </tr>\n",
       "    <tr>\n",
       "      <th>4</th>\n",
       "      <td>pt</td>\n",
       "      <td>HBO</td>\n",
       "      <td>Average_Car</td>\n",
       "      <td>free</td>\n",
       "      <td>0.0</td>\n",
       "      <td>2012</td>\n",
       "      <td>4</td>\n",
       "      <td>1</td>\n",
       "      <td>7</td>\n",
       "      <td>8.916667</td>\n",
       "      <td>...</td>\n",
       "      <td>0.171389</td>\n",
       "      <td>0.0</td>\n",
       "      <td>0.334444</td>\n",
       "      <td>0.000000</td>\n",
       "      <td>0</td>\n",
       "      <td>0.196389</td>\n",
       "      <td>0.0</td>\n",
       "      <td>0.53</td>\n",
       "      <td>0.0</td>\n",
       "      <td>0.035361</td>\n",
       "    </tr>\n",
       "  </tbody>\n",
       "</table>\n",
       "<p>5 rows × 27 columns</p>\n",
       "</div>"
      ],
      "text/plain": [
       "  travel_mode purpose     fueltype faretype  bus_scale  travel_year  \\\n",
       "0       drive     HBO   Petrol_Car    child        0.0         2012   \n",
       "1       drive     HBO   Petrol_Car     free        0.0         2012   \n",
       "2       drive     HBO   Petrol_Car     full        1.0         2012   \n",
       "3          pt     HBW  Average_Car     full        1.0         2012   \n",
       "4          pt     HBO  Average_Car     free        0.0         2012   \n",
       "\n",
       "   travel_month  travel_date  day_of_week  start_time_linear  ...  \\\n",
       "0             4            1            7          10.000000  ...   \n",
       "1             4            1            7          17.666667  ...   \n",
       "2             4            1            7          13.000000  ...   \n",
       "3             4            1            7          21.500000  ...   \n",
       "4             4            1            7           8.916667  ...   \n",
       "\n",
       "   dur_pt_access  dur_pt_rail  dur_pt_bus  dur_pt_int  pt_n_interchanges  \\\n",
       "0       0.134444          0.0    0.016667    0.000000                  0   \n",
       "1       0.241389          0.0    0.122222    0.000000                  0   \n",
       "2       0.257500          0.0    0.873889    0.089444                  1   \n",
       "3       0.123889          0.0    0.208056    0.091667                  1   \n",
       "4       0.171389          0.0    0.334444    0.000000                  0   \n",
       "\n",
       "   dur_driving  cost_transit  cost_driving_fuel  cost_driving_con_charge  \\\n",
       "0     0.052222           0.0               0.14                      0.0   \n",
       "1     0.132222           0.0               0.50                      0.0   \n",
       "2     0.508333           3.0               1.59                      0.0   \n",
       "3     0.115556           3.0               0.33                      0.0   \n",
       "4     0.196389           0.0               0.53                      0.0   \n",
       "\n",
       "   driving_traffic_percent  \n",
       "0                 0.111702  \n",
       "1                 0.065126  \n",
       "2                 0.356831  \n",
       "3                 0.033654  \n",
       "4                 0.035361  \n",
       "\n",
       "[5 rows x 27 columns]"
      ]
     },
     "execution_count": 5,
     "metadata": {},
     "output_type": "execute_result"
    }
   ],
   "source": [
    "df.head()"
   ]
  },
  {
   "cell_type": "code",
   "execution_count": 6,
   "metadata": {},
   "outputs": [],
   "source": [
    "if dataset is 'Chicago':\n",
    "    discrete_columns = [\n",
    "        'choice',\n",
    "        'travel_dow',\n",
    "        'trip_purpose',\n",
    "        'hh_vehicles',\n",
    "        'hh_size',\n",
    "        'hh_bikes',\n",
    "        'hh_descr',\n",
    "        'hh_income',\n",
    "        'gender',\n",
    "        'license',\n",
    "        'education_level',\n",
    "        'work_status'\n",
    "    ]\n",
    "elif dataset is 'LPMC':\n",
    "    discrete_columns = [\n",
    "        'travel_mode',\n",
    "        'purpose',\n",
    "        'fueltype',\n",
    "        'faretype',\n",
    "        'bus_scale',\n",
    "        'travel_year',\n",
    "        'travel_month',\n",
    "        'travel_date',\n",
    "        'day_of_week',\n",
    "        'female',\n",
    "        'driving_license',\n",
    "        'car_ownership',\n",
    "        'pt_n_interchanges',\n",
    "        'cost_driving_con_charge'\n",
    "    ]"
   ]
  },
  {
   "cell_type": "code",
   "execution_count": 7,
   "metadata": {},
   "outputs": [],
   "source": [
    "output_folder = '../output/TEST/CTABGAN/'"
   ]
  },
  {
   "cell_type": "markdown",
   "metadata": {},
   "source": [
    "# Train the model"
   ]
  },
  {
   "cell_type": "code",
   "execution_count": 10,
   "metadata": {},
   "outputs": [],
   "source": [
    "if dataset is 'Chicago':\n",
    "    synthesizer =  CTABGAN(raw_csv_path = '../data/{}/data.csv'.format(dataset),\n",
    "                     test_ratio = 0.2,\n",
    "                     categorical_columns = discrete_columns, \n",
    "                     log_columns = [],\n",
    "                     mixed_columns= {},\n",
    "                     integer_columns = ['age'],\n",
    "                     problem_type= {'Classification': 'choice'},\n",
    "                     epochs = 1000)\n",
    "elif dataset is 'LPMC':\n",
    "    synthesizer =  CTABGAN(raw_csv_path = '../data/{}/data.csv'.format(dataset),\n",
    "                 test_ratio = 0.2,\n",
    "                 categorical_columns = discrete_columns, \n",
    "                 log_columns = [],\n",
    "                 mixed_columns= {'dur_pt_rail': [0.0], 'dur_pt_bus': [0.0], 'dur_pt_int': [0.0], 'cost_transit': [0.0, 1.5]},\n",
    "                 integer_columns = ['age', 'distance'],\n",
    "                 problem_type= {'Classification': 'travel_mode'},\n",
    "                 epochs = 1000)"
   ]
  },
  {
   "cell_type": "code",
   "execution_count": 11,
   "metadata": {},
   "outputs": [
    {
     "name": "stdout",
     "output_type": "stream",
     "text": [
      "\n"
     ]
    },
    {
     "name": "stderr",
     "output_type": "stream",
     "text": [
      "100%|████████████████████████████████████████████████████████████████████████████| 1000/1000 [1:09:34<00:00,  4.17s/it]"
     ]
    },
    {
     "name": "stdout",
     "output_type": "stream",
     "text": [
      "Finished training in 4203.4115858078  seconds.\n"
     ]
    },
    {
     "name": "stderr",
     "output_type": "stream",
     "text": [
      "\n"
     ]
    }
   ],
   "source": [
    "synthesizer.fit()"
   ]
  },
  {
   "cell_type": "code",
   "execution_count": 12,
   "metadata": {},
   "outputs": [],
   "source": [
    "syn = synthesizer.generate_samples()"
   ]
  },
  {
   "cell_type": "code",
   "execution_count": 13,
   "metadata": {},
   "outputs": [],
   "source": [
    "syn.to_csv('../synth_data/TEST/CTABGAN.csv', index= False)"
   ]
  },
  {
   "cell_type": "code",
   "execution_count": null,
   "metadata": {},
   "outputs": [],
   "source": []
  }
 ],
 "metadata": {
  "kernelspec": {
   "display_name": "Python 3",
   "language": "python",
   "name": "python3"
  },
  "language_info": {
   "codemirror_mode": {
    "name": "ipython",
    "version": 3
   },
   "file_extension": ".py",
   "mimetype": "text/x-python",
   "name": "python",
   "nbconvert_exporter": "python",
   "pygments_lexer": "ipython3",
   "version": "3.7.9"
  }
 },
 "nbformat": 4,
 "nbformat_minor": 4
}
