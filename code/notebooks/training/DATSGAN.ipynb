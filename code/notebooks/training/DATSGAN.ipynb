{
 "cells": [
  {
   "cell_type": "code",
   "execution_count": 1,
   "metadata": {},
   "outputs": [],
   "source": [
    "import os\n",
    "os.chdir('../..')"
   ]
  },
  {
   "cell_type": "code",
   "execution_count": 2,
   "metadata": {},
   "outputs": [
    {
     "name": "stdout",
     "output_type": "stream",
     "text": [
      "3.7.9\n"
     ]
    }
   ],
   "source": [
    "from platform import python_version\n",
    "print(python_version())"
   ]
  },
  {
   "cell_type": "code",
   "execution_count": 3,
   "metadata": {},
   "outputs": [
    {
     "name": "stdout",
     "output_type": "stream",
     "text": [
      "WARNING:tensorflow:From D:\\Users\\glede\\anaconda3\\envs\\py37\\lib\\site-packages\\tensorpack\\callbacks\\hooks.py:17: The name tf.train.SessionRunHook is deprecated. Please use tf.estimator.SessionRunHook instead.\n",
      "\n",
      "WARNING:tensorflow:From D:\\Users\\glede\\anaconda3\\envs\\py37\\lib\\site-packages\\tensorpack\\tfutils\\optimizer.py:18: The name tf.train.Optimizer is deprecated. Please use tf.compat.v1.train.Optimizer instead.\n",
      "\n",
      "WARNING:tensorflow:From D:\\Users\\glede\\anaconda3\\envs\\py37\\lib\\site-packages\\tensorpack\\tfutils\\sesscreate.py:20: The name tf.train.SessionCreator is deprecated. Please use tf.compat.v1.train.SessionCreator instead.\n",
      "\n"
     ]
    }
   ],
   "source": [
    "import numpy as np\n",
    "import pandas as pd\n",
    "\n",
    "import tensorflow as tf\n",
    "\n",
    "import matplotlib.pyplot as plt\n",
    "\n",
    "from modules.datgan import DATSGAN\n",
    "#from modules.datgan_preLSTM.model import DATGAN\n",
    "\n",
    "#from modules.datgan_no_att.model import DATGAN\n",
    "import networkx as nx\n",
    "import json\n",
    "import beepy\n",
    "\n",
    "# For the Python notebook\n",
    "%matplotlib inline\n",
    "%reload_ext autoreload\n",
    "%autoreload 2"
   ]
  },
  {
   "cell_type": "code",
   "execution_count": 4,
   "metadata": {},
   "outputs": [],
   "source": [
    "dataset = 'Chicago'"
   ]
  },
  {
   "cell_type": "code",
   "execution_count": 5,
   "metadata": {},
   "outputs": [],
   "source": [
    "df = pd.read_csv('../data/{}/data.csv'.format(dataset), index_col=False)"
   ]
  },
  {
   "cell_type": "code",
   "execution_count": 6,
   "metadata": {},
   "outputs": [
    {
     "data": {
      "text/html": [
       "<div>\n",
       "<style scoped>\n",
       "    .dataframe tbody tr th:only-of-type {\n",
       "        vertical-align: middle;\n",
       "    }\n",
       "\n",
       "    .dataframe tbody tr th {\n",
       "        vertical-align: top;\n",
       "    }\n",
       "\n",
       "    .dataframe thead th {\n",
       "        text-align: right;\n",
       "    }\n",
       "</style>\n",
       "<table border=\"1\" class=\"dataframe\">\n",
       "  <thead>\n",
       "    <tr style=\"text-align: right;\">\n",
       "      <th></th>\n",
       "      <th>choice</th>\n",
       "      <th>travel_dow</th>\n",
       "      <th>trip_purpose</th>\n",
       "      <th>distance</th>\n",
       "      <th>hh_vehicles</th>\n",
       "      <th>hh_size</th>\n",
       "      <th>hh_bikes</th>\n",
       "      <th>hh_descr</th>\n",
       "      <th>hh_income</th>\n",
       "      <th>gender</th>\n",
       "      <th>age</th>\n",
       "      <th>license</th>\n",
       "      <th>education_level</th>\n",
       "      <th>work_status</th>\n",
       "      <th>departure_time</th>\n",
       "    </tr>\n",
       "  </thead>\n",
       "  <tbody>\n",
       "    <tr>\n",
       "      <th>0</th>\n",
       "      <td>drive</td>\n",
       "      <td>7</td>\n",
       "      <td>HOME_OTHER</td>\n",
       "      <td>23.42579</td>\n",
       "      <td>2</td>\n",
       "      <td>2</td>\n",
       "      <td>0</td>\n",
       "      <td>2</td>\n",
       "      <td>6</td>\n",
       "      <td>1</td>\n",
       "      <td>66</td>\n",
       "      <td>1.0</td>\n",
       "      <td>6</td>\n",
       "      <td>FTE</td>\n",
       "      <td>9.333333</td>\n",
       "    </tr>\n",
       "    <tr>\n",
       "      <th>1</th>\n",
       "      <td>drive</td>\n",
       "      <td>7</td>\n",
       "      <td>OTHER</td>\n",
       "      <td>1.71259</td>\n",
       "      <td>2</td>\n",
       "      <td>2</td>\n",
       "      <td>0</td>\n",
       "      <td>2</td>\n",
       "      <td>6</td>\n",
       "      <td>1</td>\n",
       "      <td>66</td>\n",
       "      <td>1.0</td>\n",
       "      <td>6</td>\n",
       "      <td>FTE</td>\n",
       "      <td>12.083333</td>\n",
       "    </tr>\n",
       "    <tr>\n",
       "      <th>2</th>\n",
       "      <td>drive</td>\n",
       "      <td>7</td>\n",
       "      <td>HOME_OTHER</td>\n",
       "      <td>21.77887</td>\n",
       "      <td>2</td>\n",
       "      <td>2</td>\n",
       "      <td>0</td>\n",
       "      <td>2</td>\n",
       "      <td>6</td>\n",
       "      <td>1</td>\n",
       "      <td>66</td>\n",
       "      <td>1.0</td>\n",
       "      <td>6</td>\n",
       "      <td>FTE</td>\n",
       "      <td>15.500000</td>\n",
       "    </tr>\n",
       "    <tr>\n",
       "      <th>3</th>\n",
       "      <td>drive</td>\n",
       "      <td>7</td>\n",
       "      <td>SHOPPING</td>\n",
       "      <td>2.02603</td>\n",
       "      <td>2</td>\n",
       "      <td>2</td>\n",
       "      <td>0</td>\n",
       "      <td>2</td>\n",
       "      <td>6</td>\n",
       "      <td>1</td>\n",
       "      <td>66</td>\n",
       "      <td>1.0</td>\n",
       "      <td>6</td>\n",
       "      <td>FTE</td>\n",
       "      <td>17.500000</td>\n",
       "    </tr>\n",
       "    <tr>\n",
       "      <th>4</th>\n",
       "      <td>drive</td>\n",
       "      <td>7</td>\n",
       "      <td>SHOPPING</td>\n",
       "      <td>0.87691</td>\n",
       "      <td>2</td>\n",
       "      <td>2</td>\n",
       "      <td>0</td>\n",
       "      <td>2</td>\n",
       "      <td>6</td>\n",
       "      <td>1</td>\n",
       "      <td>66</td>\n",
       "      <td>1.0</td>\n",
       "      <td>6</td>\n",
       "      <td>FTE</td>\n",
       "      <td>18.250000</td>\n",
       "    </tr>\n",
       "  </tbody>\n",
       "</table>\n",
       "</div>"
      ],
      "text/plain": [
       "  choice  travel_dow trip_purpose  distance  hh_vehicles  hh_size  hh_bikes  \\\n",
       "0  drive           7   HOME_OTHER  23.42579            2        2         0   \n",
       "1  drive           7        OTHER   1.71259            2        2         0   \n",
       "2  drive           7   HOME_OTHER  21.77887            2        2         0   \n",
       "3  drive           7     SHOPPING   2.02603            2        2         0   \n",
       "4  drive           7     SHOPPING   0.87691            2        2         0   \n",
       "\n",
       "   hh_descr  hh_income  gender  age  license  education_level work_status  \\\n",
       "0         2          6       1   66      1.0                6         FTE   \n",
       "1         2          6       1   66      1.0                6         FTE   \n",
       "2         2          6       1   66      1.0                6         FTE   \n",
       "3         2          6       1   66      1.0                6         FTE   \n",
       "4         2          6       1   66      1.0                6         FTE   \n",
       "\n",
       "   departure_time  \n",
       "0        9.333333  \n",
       "1       12.083333  \n",
       "2       15.500000  \n",
       "3       17.500000  \n",
       "4       18.250000  "
      ]
     },
     "execution_count": 6,
     "metadata": {},
     "output_type": "execute_result"
    }
   ],
   "source": [
    "df.head()"
   ]
  },
  {
   "cell_type": "code",
   "execution_count": 7,
   "metadata": {},
   "outputs": [],
   "source": [
    "if dataset is 'Chicago':\n",
    "    continuous_columns = [\"distance\", \"age\", \"departure_time\"]\n",
    "elif dataset is 'LPMC':\n",
    "    continuous_columns = ['start_time_linear', 'age', 'distance', 'dur_walking', 'dur_cycling', 'dur_pt_access', 'dur_pt_rail', 'dur_pt_bus', 'dur_pt_int', 'dur_driving', 'cost_transit', 'cost_driving_fuel', 'driving_traffic_percent']"
   ]
  },
  {
   "cell_type": "code",
   "execution_count": 8,
   "metadata": {},
   "outputs": [],
   "source": [
    "# personalised graph\n",
    "graph = nx.DiGraph()\n",
    "\n",
    "if dataset is 'Chicago':\n",
    "    graph.add_edges_from([\n",
    "        (\"age\", \"license\"),\n",
    "        (\"age\", \"education_level\"),\n",
    "        (\"gender\", \"work_status\"),\n",
    "        (\"education_level\", \"work_status\"),\n",
    "        (\"education_level\", \"hh_income\"),\n",
    "        (\"work_status\", \"hh_income\"),\n",
    "        (\"hh_income\", \"hh_descr\"),\n",
    "        (\"hh_income\", \"hh_size\"),\n",
    "        (\"hh_size\", \"hh_vehicles\"),\n",
    "        (\"hh_size\", \"hh_bikes\"),\n",
    "        (\"work_status\", \"trip_purpose\"),\n",
    "        (\"trip_purpose\", \"departure_time\"),\n",
    "        (\"trip_purpose\", \"distance\"),\n",
    "        (\"travel_dow\", \"choice\"),\n",
    "        (\"distance\", \"choice\"),\n",
    "        (\"departure_time\", \"choice\"),\n",
    "        (\"hh_vehicles\", \"choice\"),\n",
    "        (\"hh_bikes\", \"choice\"),\n",
    "        (\"license\", \"choice\"),\n",
    "        # Non necessary links\n",
    "        (\"education_level\", \"hh_size\"),\n",
    "        (\"work_status\", \"hh_descr\"),\n",
    "        (\"work_status\", \"hh_size\"),\n",
    "        (\"hh_income\", \"hh_bikes\"),\n",
    "        (\"hh_income\", \"hh_vehicles\"),\n",
    "        (\"trip_purpose\", \"choice\")\n",
    "    ])\n",
    "elif dataset is 'LPMC':\n",
    "    graph.add_edges_from([\n",
    "        (\"travel_year\", \"survey_year\"),\n",
    "        (\"travel_date\", \"day_of_week\"),\n",
    "        (\"day_of_week\", \"purpose\"),\n",
    "        (\"purpose\", \"start_time_linear\"),\n",
    "        (\"purpose\", \"cost_driving_con_charge\"),\n",
    "        (\"purpose\", \"distance\"),\n",
    "        (\"day_of_week\", \"driving_traffic_percent\"),\n",
    "        (\"day_of_week\", \"cost_driving_con_charge\"),\n",
    "        (\"start_time_linear\", \"driving_traffic_percent\"),\n",
    "        (\"start_time_linear\", \"cost_driving_con_charge\"),\n",
    "        (\"driving_traffic_percent\", \"cost_driving_con_charge\"),\n",
    "        (\"female\", \"driving_license\"),\n",
    "        (\"age\", \"bus_scale\"),\n",
    "        (\"age\", \"car_ownership\"),\n",
    "        (\"age\", \"driving_license\"),\n",
    "        (\"age\", \"faretype\"),\n",
    "        (\"driving_license\", \"car_ownership\"),\n",
    "        (\"car_ownership\", \"fueltype\"),\n",
    "        (\"fueltype\", \"cost_driving_con_charge\"),\n",
    "        (\"fueltype\", \"cost_driving_fuel\"),\n",
    "        (\"distance\", \"cost_driving_fuel\"),\n",
    "        (\"distance\", \"dur_driving\"),\n",
    "        (\"distance\", \"dur_walking\"),\n",
    "        (\"distance\", \"dur_cycling\"),\n",
    "        (\"distance\", \"dur_pt_access\"),\n",
    "        (\"distance\", \"dur_pt_rail\"),\n",
    "        (\"distance\", \"dur_pt_bus\"),\n",
    "        (\"distance\", \"dur_pt_int\"),\n",
    "        (\"dur_pt_bus\", \"cost_transit\"),\n",
    "        (\"dur_pt_rail\", \"cost_transit\"),\n",
    "        (\"pt_n_interchanges\", \"dur_pt_int\"),\n",
    "        (\"pt_n_interchanges\", \"cost_transit\"),\n",
    "        (\"faretype\", \"cost_transit\"),\n",
    "        (\"bus_scale\", \"cost_transit\"),\n",
    "        (\"car_ownership\", \"travel_mode\"),\n",
    "        (\"age\", \"travel_mode\"),\n",
    "        (\"cost_driving_con_charge\", \"travel_mode\"),\n",
    "        (\"driving_traffic_percent\", \"travel_mode\"),\n",
    "        (\"female\", \"travel_mode\"),\n",
    "        (\"purpose\", \"travel_mode\"),\n",
    "        (\"cost_transit\", \"travel_mode\"),\n",
    "        (\"cost_driving_fuel\", \"travel_mode\"),\n",
    "        (\"dur_driving\", \"travel_mode\"),\n",
    "        (\"dur_walking\", \"travel_mode\"),\n",
    "        (\"dur_cycling\", \"travel_mode\"),\n",
    "        (\"dur_pt_access\", \"travel_mode\"),\n",
    "        (\"dur_pt_rail\", \"travel_mode\"),\n",
    "        (\"dur_pt_bus\", \"travel_mode\"),\n",
    "        (\"dur_pt_int\", \"travel_mode\")\n",
    "    ])\n",
    "    graph.add_node(\"travel_month\")"
   ]
  },
  {
   "cell_type": "code",
   "execution_count": 9,
   "metadata": {},
   "outputs": [],
   "source": [
    "output_folder = '../output/' + dataset + '/DATSGAN2_1000/'"
   ]
  },
  {
   "cell_type": "code",
   "execution_count": 10,
   "metadata": {},
   "outputs": [],
   "source": [
    "datgan = DATGAN(continuous_columns, max_epoch=1000, batch_size=500, output=output_folder, gpu=0)"
   ]
  },
  {
   "cell_type": "code",
   "execution_count": 11,
   "metadata": {
    "scrolled": true
   },
   "outputs": [
    {
     "name": "stdout",
     "output_type": "stream",
     "text": [
      "\u001b[32m[1026 11:09:51 @DATGAN.py:155]\u001b[0m Found preprocessed data\n",
      "\u001b[32m[1026 11:09:51 @DATGAN.py:163]\u001b[0m Preprocessed data have been loaded!\n",
      "WARNING:tensorflow:From D:\\Users\\glede\\anaconda3\\envs\\py37\\lib\\site-packages\\tensorpack\\graph_builder\\model_desc.py:29: The name tf.get_default_graph is deprecated. Please use tf.compat.v1.get_default_graph instead.\n",
      "\n",
      "WARNING:tensorflow:From D:\\Users\\glede\\anaconda3\\envs\\py37\\lib\\site-packages\\tensorpack\\graph_builder\\model_desc.py:39: The name tf.placeholder is deprecated. Please use tf.compat.v1.placeholder instead.\n",
      "\n",
      "WARNING:tensorflow:From D:\\Users\\glede\\anaconda3\\envs\\py37\\lib\\site-packages\\tensorpack\\input_source\\input_source.py:219: The name tf.FIFOQueue is deprecated. Please use tf.queue.FIFOQueue instead.\n",
      "\n",
      "\u001b[32m[1026 11:09:52 @input_source.py:222]\u001b[0m Setting up the queue 'QueueInput/input_queue' for CPU prefetching ...\n",
      "WARNING:tensorflow:From D:\\Users\\glede\\anaconda3\\envs\\py37\\lib\\site-packages\\tensorpack\\tfutils\\summary.py:237: The name tf.get_variable_scope is deprecated. Please use tf.compat.v1.get_variable_scope instead.\n",
      "\n",
      "WARNING:tensorflow:From D:\\Users\\glede\\anaconda3\\envs\\py37\\lib\\site-packages\\tensorpack\\tfutils\\summary.py:27: The name tf.variable_scope is deprecated. Please use tf.compat.v1.variable_scope instead.\n",
      "\n",
      "WARNING:tensorflow:From D:\\Users\\glede\\anaconda3\\envs\\py37\\lib\\site-packages\\tensorpack\\tfutils\\summary.py:254: The name tf.get_variable is deprecated. Please use tf.compat.v1.get_variable instead.\n",
      "\n",
      "WARNING:tensorflow:From D:\\Users\\glede\\anaconda3\\envs\\py37\\lib\\site-packages\\tensorpack\\tfutils\\summary.py:264: The name tf.summary.scalar is deprecated. Please use tf.compat.v1.summary.scalar instead.\n",
      "\n",
      "WARNING:tensorflow:From D:\\Users\\glede\\anaconda3\\envs\\py37\\lib\\site-packages\\tensorpack\\tfutils\\collection.py:105: The name tf.GraphKeys is deprecated. Please use tf.compat.v1.GraphKeys instead.\n",
      "\n",
      "WARNING:tensorflow:From D:\\Users\\glede\\anaconda3\\envs\\py37\\lib\\site-packages\\tensorpack\\tfutils\\collection.py:33: The name tf.get_collection is deprecated. Please use tf.compat.v1.get_collection instead.\n",
      "\n",
      "WARNING:tensorflow:From C:\\Users\\glede\\Documents\\EPFL\\PhD\\SynthPop\\code\\modules\\datgan\\DATGANModel.py:532: The name tf.random_normal is deprecated. Please use tf.random.normal instead.\n",
      "\n",
      "WARNING:tensorflow:From C:\\Users\\glede\\Documents\\EPFL\\PhD\\SynthPop\\code\\modules\\datgan\\DATGANModel.py:535: The name tf.placeholder_with_default is deprecated. Please use tf.compat.v1.placeholder_with_default instead.\n",
      "\n",
      "WARNING:tensorflow:From C:\\Users\\glede\\Documents\\EPFL\\PhD\\SynthPop\\code\\modules\\datgan\\DATGANModel.py:192: LSTMCell.__init__ (from tensorflow.python.ops.rnn_cell_impl) is deprecated and will be removed in a future version.\n",
      "Instructions for updating:\n",
      "This class is equivalent as tf.keras.layers.LSTMCell, and will be replaced by that in Tensorflow 2.0.\n",
      "\u001b[32m[1026 11:09:52 @DATGANModel.py:209]\u001b[0m \u001b[91mCreating cell for age (in-edges: 0)\n",
      "WARNING:tensorflow:From D:\\Users\\glede\\anaconda3\\envs\\py37\\lib\\site-packages\\tensorflow_core\\python\\ops\\rnn_cell_impl.py:958: Layer.add_variable (from tensorflow.python.keras.engine.base_layer) is deprecated and will be removed in a future version.\n",
      "Instructions for updating:\n",
      "Please use `layer.add_weight` method instead.\n",
      "WARNING:tensorflow:From D:\\Users\\glede\\anaconda3\\envs\\py37\\lib\\site-packages\\tensorflow_core\\python\\ops\\rnn_cell_impl.py:962: calling Zeros.__init__ (from tensorflow.python.ops.init_ops) with dtype is deprecated and will be removed in a future version.\n",
      "Instructions for updating:\n",
      "Call initializer instance with the dtype argument instead of passing it to the constructor\n",
      "\u001b[32m[1026 11:09:52 @registry.py:126]\u001b[0m gen/LSTM/00/FC input: [500, 100]\n",
      "WARNING:tensorflow:From D:\\Users\\glede\\anaconda3\\envs\\py37\\lib\\site-packages\\tensorpack\\models\\fc.py:57: The name tf.layers.Dense is deprecated. Please use tf.compat.v1.layers.Dense instead.\n",
      "\n",
      "WARNING:tensorflow:From D:\\Users\\glede\\anaconda3\\envs\\py37\\lib\\site-packages\\tensorpack\\models\\fc.py:67: Layer.apply (from tensorflow.python.keras.engine.base_layer) is deprecated and will be removed in a future version.\n",
      "Instructions for updating:\n",
      "Please use `layer.__call__` method instead.\n",
      "\u001b[32m[1026 11:09:52 @registry.py:134]\u001b[0m gen/LSTM/00/FC output: [500, 100]\n",
      "\u001b[32m[1026 11:09:52 @registry.py:126]\u001b[0m gen/LSTM/00/FC2_val input: [500, 100]\n",
      "\u001b[32m[1026 11:09:52 @registry.py:134]\u001b[0m gen/LSTM/00/FC2_val output: [500, 6]\n",
      "\u001b[32m[1026 11:09:52 @registry.py:126]\u001b[0m gen/LSTM/00/FC2_prob input: [500, 100]\n",
      "\u001b[32m[1026 11:09:52 @registry.py:134]\u001b[0m gen/LSTM/00/FC2_prob output: [500, 6]\n",
      "\u001b[32m[1026 11:09:52 @registry.py:126]\u001b[0m gen/LSTM/00/FC3 input: [500, 12]\n",
      "\u001b[32m[1026 11:09:52 @registry.py:134]\u001b[0m gen/LSTM/00/FC3 output: [500, 100]\n",
      "\u001b[32m[1026 11:09:52 @DATGANModel.py:209]\u001b[0m \u001b[91mCreating cell for gender (in-edges: 0)\n",
      "\u001b[32m[1026 11:09:52 @registry.py:126]\u001b[0m gen/LSTM/01/FC input: [500, 100]\n",
      "\u001b[32m[1026 11:09:52 @registry.py:134]\u001b[0m gen/LSTM/01/FC output: [500, 100]\n",
      "\u001b[32m[1026 11:09:52 @registry.py:126]\u001b[0m gen/LSTM/01/FC2 input: [500, 100]\n",
      "\u001b[32m[1026 11:09:52 @registry.py:134]\u001b[0m gen/LSTM/01/FC2 output: [500, 2]\n",
      "\u001b[32m[1026 11:09:52 @registry.py:126]\u001b[0m gen/LSTM/01/FC3 input: [500, 2]\n",
      "\u001b[32m[1026 11:09:52 @registry.py:134]\u001b[0m gen/LSTM/01/FC3 output: [500, 100]\n",
      "\u001b[32m[1026 11:09:52 @DATGANModel.py:209]\u001b[0m \u001b[91mCreating cell for travel_dow (in-edges: 0)\n",
      "\u001b[32m[1026 11:09:52 @registry.py:126]\u001b[0m gen/LSTM/02/FC input: [500, 100]\n",
      "\u001b[32m[1026 11:09:52 @registry.py:134]\u001b[0m gen/LSTM/02/FC output: [500, 100]\n",
      "\u001b[32m[1026 11:09:52 @registry.py:126]\u001b[0m gen/LSTM/02/FC2 input: [500, 100]\n",
      "\u001b[32m[1026 11:09:52 @registry.py:134]\u001b[0m gen/LSTM/02/FC2 output: [500, 7]\n",
      "\u001b[32m[1026 11:09:52 @registry.py:126]\u001b[0m gen/LSTM/02/FC3 input: [500, 7]\n",
      "\u001b[32m[1026 11:09:52 @registry.py:134]\u001b[0m gen/LSTM/02/FC3 output: [500, 100]\n",
      "\u001b[32m[1026 11:09:52 @DATGANModel.py:209]\u001b[0m \u001b[91mCreating cell for license (in-edges: 1)\n",
      "\u001b[32m[1026 11:09:52 @registry.py:126]\u001b[0m gen/LSTM/03/FC input: [500, 100]\n",
      "\u001b[32m[1026 11:09:52 @registry.py:134]\u001b[0m gen/LSTM/03/FC output: [500, 100]\n",
      "\u001b[32m[1026 11:09:52 @registry.py:126]\u001b[0m gen/LSTM/03/FC2 input: [500, 100]\n",
      "\u001b[32m[1026 11:09:52 @registry.py:134]\u001b[0m gen/LSTM/03/FC2 output: [500, 2]\n",
      "\u001b[32m[1026 11:09:52 @registry.py:126]\u001b[0m gen/LSTM/03/FC3 input: [500, 2]\n",
      "\u001b[32m[1026 11:09:52 @registry.py:134]\u001b[0m gen/LSTM/03/FC3 output: [500, 100]\n",
      "\u001b[32m[1026 11:09:52 @DATGANModel.py:209]\u001b[0m \u001b[91mCreating cell for education_level (in-edges: 1)\n",
      "\u001b[32m[1026 11:09:52 @registry.py:126]\u001b[0m gen/LSTM/04/FC input: [500, 100]\n",
      "\u001b[32m[1026 11:09:52 @registry.py:134]\u001b[0m gen/LSTM/04/FC output: [500, 100]\n",
      "\u001b[32m[1026 11:09:52 @registry.py:126]\u001b[0m gen/LSTM/04/FC2 input: [500, 100]\n",
      "\u001b[32m[1026 11:09:52 @registry.py:134]\u001b[0m gen/LSTM/04/FC2 output: [500, 6]\n",
      "\u001b[32m[1026 11:09:52 @registry.py:126]\u001b[0m gen/LSTM/04/FC3 input: [500, 6]\n",
      "\u001b[32m[1026 11:09:52 @registry.py:134]\u001b[0m gen/LSTM/04/FC3 output: [500, 100]\n",
      "\u001b[32m[1026 11:09:52 @DATGANModel.py:209]\u001b[0m \u001b[91mCreating cell for work_status (in-edges: 2)\n",
      "\u001b[32m[1026 11:09:52 @registry.py:126]\u001b[0m gen/LSTM/05/FC_inputs input: [500, 200]\n",
      "\u001b[32m[1026 11:09:52 @registry.py:134]\u001b[0m gen/LSTM/05/FC_inputs output: [500, 100]\n",
      "\u001b[32m[1026 11:09:52 @registry.py:126]\u001b[0m gen/LSTM/05/FC_attentions input: [500, 200]\n",
      "\u001b[32m[1026 11:09:52 @registry.py:134]\u001b[0m gen/LSTM/05/FC_attentions output: [500, 100]\n",
      "\u001b[32m[1026 11:09:52 @registry.py:126]\u001b[0m gen/LSTM/05/FC_lstm_state_0 input: [500, 200]\n",
      "\u001b[32m[1026 11:09:52 @registry.py:134]\u001b[0m gen/LSTM/05/FC_lstm_state_0 output: [500, 100]\n",
      "\u001b[32m[1026 11:09:52 @registry.py:126]\u001b[0m gen/LSTM/05/FC_lstm_state_1 input: [500, 200]\n",
      "\u001b[32m[1026 11:09:52 @registry.py:134]\u001b[0m gen/LSTM/05/FC_lstm_state_1 output: [500, 100]\n",
      "WARNING:tensorflow:From C:\\Users\\glede\\Documents\\EPFL\\PhD\\SynthPop\\code\\modules\\datgan\\DATGANModel.py:305: The name tf.nn.rnn_cell.LSTMStateTuple is deprecated. Please use tf.compat.v1.nn.rnn_cell.LSTMStateTuple instead.\n",
      "\n",
      "\u001b[32m[1026 11:09:52 @registry.py:126]\u001b[0m gen/LSTM/06/FC input: [500, 100]\n",
      "\u001b[32m[1026 11:09:52 @registry.py:134]\u001b[0m gen/LSTM/06/FC output: [500, 100]\n",
      "\u001b[32m[1026 11:09:52 @registry.py:126]\u001b[0m gen/LSTM/06/FC2 input: [500, 100]\n",
      "\u001b[32m[1026 11:09:52 @registry.py:134]\u001b[0m gen/LSTM/06/FC2 output: [500, 8]\n"
     ]
    },
    {
     "name": "stdout",
     "output_type": "stream",
     "text": [
      "\u001b[32m[1026 11:09:52 @registry.py:126]\u001b[0m gen/LSTM/06/FC3 input: [500, 8]\n",
      "\u001b[32m[1026 11:09:52 @registry.py:134]\u001b[0m gen/LSTM/06/FC3 output: [500, 100]\n",
      "\u001b[32m[1026 11:09:52 @DATGANModel.py:209]\u001b[0m \u001b[91mCreating cell for hh_income (in-edges: 2)\n",
      "\u001b[32m[1026 11:09:52 @registry.py:126]\u001b[0m gen/LSTM/07/FC_inputs input: [500, 200]\n",
      "\u001b[32m[1026 11:09:52 @registry.py:134]\u001b[0m gen/LSTM/07/FC_inputs output: [500, 100]\n",
      "\u001b[32m[1026 11:09:52 @registry.py:126]\u001b[0m gen/LSTM/07/FC_attentions input: [500, 200]\n",
      "\u001b[32m[1026 11:09:52 @registry.py:134]\u001b[0m gen/LSTM/07/FC_attentions output: [500, 100]\n",
      "\u001b[32m[1026 11:09:52 @registry.py:126]\u001b[0m gen/LSTM/07/FC_lstm_state_0 input: [500, 200]\n",
      "\u001b[32m[1026 11:09:52 @registry.py:134]\u001b[0m gen/LSTM/07/FC_lstm_state_0 output: [500, 100]\n",
      "\u001b[32m[1026 11:09:52 @registry.py:126]\u001b[0m gen/LSTM/07/FC_lstm_state_1 input: [500, 200]\n",
      "\u001b[32m[1026 11:09:52 @registry.py:134]\u001b[0m gen/LSTM/07/FC_lstm_state_1 output: [500, 100]\n",
      "\u001b[32m[1026 11:09:52 @registry.py:126]\u001b[0m gen/LSTM/08/FC input: [500, 100]\n",
      "\u001b[32m[1026 11:09:52 @registry.py:134]\u001b[0m gen/LSTM/08/FC output: [500, 100]\n",
      "\u001b[32m[1026 11:09:52 @registry.py:126]\u001b[0m gen/LSTM/08/FC2 input: [500, 100]\n",
      "\u001b[32m[1026 11:09:52 @registry.py:134]\u001b[0m gen/LSTM/08/FC2 output: [500, 7]\n",
      "\u001b[32m[1026 11:09:52 @registry.py:126]\u001b[0m gen/LSTM/08/FC3 input: [500, 7]\n",
      "\u001b[32m[1026 11:09:52 @registry.py:134]\u001b[0m gen/LSTM/08/FC3 output: [500, 100]\n",
      "\u001b[32m[1026 11:09:52 @DATGANModel.py:209]\u001b[0m \u001b[91mCreating cell for trip_purpose (in-edges: 1)\n",
      "\u001b[32m[1026 11:09:52 @registry.py:126]\u001b[0m gen/LSTM/09/FC input: [500, 100]\n",
      "\u001b[32m[1026 11:09:52 @registry.py:134]\u001b[0m gen/LSTM/09/FC output: [500, 100]\n",
      "\u001b[32m[1026 11:09:52 @registry.py:126]\u001b[0m gen/LSTM/09/FC2 input: [500, 100]\n",
      "\u001b[32m[1026 11:09:52 @registry.py:134]\u001b[0m gen/LSTM/09/FC2 output: [500, 7]\n",
      "\u001b[32m[1026 11:09:52 @registry.py:126]\u001b[0m gen/LSTM/09/FC3 input: [500, 7]\n",
      "\u001b[32m[1026 11:09:52 @registry.py:134]\u001b[0m gen/LSTM/09/FC3 output: [500, 100]\n",
      "\u001b[32m[1026 11:09:52 @DATGANModel.py:209]\u001b[0m \u001b[91mCreating cell for hh_descr (in-edges: 2)\n",
      "\u001b[32m[1026 11:09:52 @registry.py:126]\u001b[0m gen/LSTM/10/FC_inputs input: [500, 200]\n",
      "\u001b[32m[1026 11:09:52 @registry.py:134]\u001b[0m gen/LSTM/10/FC_inputs output: [500, 100]\n",
      "\u001b[32m[1026 11:09:52 @registry.py:126]\u001b[0m gen/LSTM/10/FC_attentions input: [500, 200]\n",
      "\u001b[32m[1026 11:09:52 @registry.py:134]\u001b[0m gen/LSTM/10/FC_attentions output: [500, 100]\n",
      "\u001b[32m[1026 11:09:52 @registry.py:126]\u001b[0m gen/LSTM/10/FC_lstm_state_0 input: [500, 200]\n",
      "\u001b[32m[1026 11:09:52 @registry.py:134]\u001b[0m gen/LSTM/10/FC_lstm_state_0 output: [500, 100]\n",
      "\u001b[32m[1026 11:09:52 @registry.py:126]\u001b[0m gen/LSTM/10/FC_lstm_state_1 input: [500, 200]\n",
      "\u001b[32m[1026 11:09:52 @registry.py:134]\u001b[0m gen/LSTM/10/FC_lstm_state_1 output: [500, 100]\n",
      "\u001b[32m[1026 11:09:52 @registry.py:126]\u001b[0m gen/LSTM/11/FC input: [500, 100]\n",
      "\u001b[32m[1026 11:09:52 @registry.py:134]\u001b[0m gen/LSTM/11/FC output: [500, 100]\n",
      "\u001b[32m[1026 11:09:52 @registry.py:126]\u001b[0m gen/LSTM/11/FC2 input: [500, 100]\n",
      "\u001b[32m[1026 11:09:52 @registry.py:134]\u001b[0m gen/LSTM/11/FC2 output: [500, 3]\n",
      "\u001b[32m[1026 11:09:52 @registry.py:126]\u001b[0m gen/LSTM/11/FC3 input: [500, 3]\n",
      "\u001b[32m[1026 11:09:52 @registry.py:134]\u001b[0m gen/LSTM/11/FC3 output: [500, 100]\n",
      "\u001b[32m[1026 11:09:52 @DATGANModel.py:209]\u001b[0m \u001b[91mCreating cell for hh_size (in-edges: 3)\n",
      "\u001b[32m[1026 11:09:52 @registry.py:126]\u001b[0m gen/LSTM/12/FC_inputs input: [500, 300]\n",
      "\u001b[32m[1026 11:09:52 @registry.py:134]\u001b[0m gen/LSTM/12/FC_inputs output: [500, 100]\n",
      "\u001b[32m[1026 11:09:52 @registry.py:126]\u001b[0m gen/LSTM/12/FC_attentions input: [500, 300]\n",
      "\u001b[32m[1026 11:09:52 @registry.py:134]\u001b[0m gen/LSTM/12/FC_attentions output: [500, 100]\n",
      "\u001b[32m[1026 11:09:52 @registry.py:126]\u001b[0m gen/LSTM/12/FC_lstm_state_0 input: [500, 300]\n",
      "\u001b[32m[1026 11:09:52 @registry.py:134]\u001b[0m gen/LSTM/12/FC_lstm_state_0 output: [500, 100]\n",
      "\u001b[32m[1026 11:09:52 @registry.py:126]\u001b[0m gen/LSTM/12/FC_lstm_state_1 input: [500, 300]\n",
      "\u001b[32m[1026 11:09:52 @registry.py:134]\u001b[0m gen/LSTM/12/FC_lstm_state_1 output: [500, 100]\n",
      "\u001b[32m[1026 11:09:52 @registry.py:126]\u001b[0m gen/LSTM/13/FC input: [500, 100]\n",
      "\u001b[32m[1026 11:09:52 @registry.py:134]\u001b[0m gen/LSTM/13/FC output: [500, 100]\n",
      "\u001b[32m[1026 11:09:52 @registry.py:126]\u001b[0m gen/LSTM/13/FC2 input: [500, 100]\n",
      "\u001b[32m[1026 11:09:52 @registry.py:134]\u001b[0m gen/LSTM/13/FC2 output: [500, 8]\n",
      "\u001b[32m[1026 11:09:52 @registry.py:126]\u001b[0m gen/LSTM/13/FC3 input: [500, 8]\n",
      "\u001b[32m[1026 11:09:52 @registry.py:134]\u001b[0m gen/LSTM/13/FC3 output: [500, 100]\n",
      "\u001b[32m[1026 11:09:52 @DATGANModel.py:209]\u001b[0m \u001b[91mCreating cell for departure_time (in-edges: 1)\n",
      "\u001b[32m[1026 11:09:52 @registry.py:126]\u001b[0m gen/LSTM/14/FC input: [500, 100]\n",
      "\u001b[32m[1026 11:09:52 @registry.py:134]\u001b[0m gen/LSTM/14/FC output: [500, 100]\n",
      "\u001b[32m[1026 11:09:52 @registry.py:126]\u001b[0m gen/LSTM/14/FC2_val input: [500, 100]\n",
      "\u001b[32m[1026 11:09:52 @registry.py:134]\u001b[0m gen/LSTM/14/FC2_val output: [500, 8]\n",
      "\u001b[32m[1026 11:09:52 @registry.py:126]\u001b[0m gen/LSTM/14/FC2_prob input: [500, 100]\n",
      "\u001b[32m[1026 11:09:52 @registry.py:134]\u001b[0m gen/LSTM/14/FC2_prob output: [500, 8]\n",
      "\u001b[32m[1026 11:09:52 @registry.py:126]\u001b[0m gen/LSTM/14/FC3 input: [500, 16]\n",
      "\u001b[32m[1026 11:09:52 @registry.py:134]\u001b[0m gen/LSTM/14/FC3 output: [500, 100]\n",
      "\u001b[32m[1026 11:09:52 @DATGANModel.py:209]\u001b[0m \u001b[91mCreating cell for distance (in-edges: 1)\n",
      "\u001b[32m[1026 11:09:52 @registry.py:126]\u001b[0m gen/LSTM/15/FC input: [500, 100]\n",
      "\u001b[32m[1026 11:09:52 @registry.py:134]\u001b[0m gen/LSTM/15/FC output: [500, 100]\n",
      "\u001b[32m[1026 11:09:52 @registry.py:126]\u001b[0m gen/LSTM/15/FC2_val input: [500, 100]\n",
      "\u001b[32m[1026 11:09:52 @registry.py:134]\u001b[0m gen/LSTM/15/FC2_val output: [500, 10]\n",
      "\u001b[32m[1026 11:09:52 @registry.py:126]\u001b[0m gen/LSTM/15/FC2_prob input: [500, 100]\n",
      "\u001b[32m[1026 11:09:52 @registry.py:134]\u001b[0m gen/LSTM/15/FC2_prob output: [500, 10]\n",
      "\u001b[32m[1026 11:09:52 @registry.py:126]\u001b[0m gen/LSTM/15/FC3 input: [500, 20]\n",
      "\u001b[32m[1026 11:09:52 @registry.py:134]\u001b[0m gen/LSTM/15/FC3 output: [500, 100]\n",
      "\u001b[32m[1026 11:09:52 @DATGANModel.py:209]\u001b[0m \u001b[91mCreating cell for hh_vehicles (in-edges: 2)\n",
      "\u001b[32m[1026 11:09:52 @registry.py:126]\u001b[0m gen/LSTM/16/FC_inputs input: [500, 200]\n",
      "\u001b[32m[1026 11:09:52 @registry.py:134]\u001b[0m gen/LSTM/16/FC_inputs output: [500, 100]\n",
      "\u001b[32m[1026 11:09:52 @registry.py:126]\u001b[0m gen/LSTM/16/FC_attentions input: [500, 200]\n",
      "\u001b[32m[1026 11:09:52 @registry.py:134]\u001b[0m gen/LSTM/16/FC_attentions output: [500, 100]\n",
      "\u001b[32m[1026 11:09:52 @registry.py:126]\u001b[0m gen/LSTM/16/FC_lstm_state_0 input: [500, 200]\n",
      "\u001b[32m[1026 11:09:53 @registry.py:134]\u001b[0m gen/LSTM/16/FC_lstm_state_0 output: [500, 100]\n",
      "\u001b[32m[1026 11:09:53 @registry.py:126]\u001b[0m gen/LSTM/16/FC_lstm_state_1 input: [500, 200]\n",
      "\u001b[32m[1026 11:09:53 @registry.py:134]\u001b[0m gen/LSTM/16/FC_lstm_state_1 output: [500, 100]\n",
      "\u001b[32m[1026 11:09:53 @registry.py:126]\u001b[0m gen/LSTM/17/FC input: [500, 100]\n",
      "\u001b[32m[1026 11:09:53 @registry.py:134]\u001b[0m gen/LSTM/17/FC output: [500, 100]\n",
      "\u001b[32m[1026 11:09:53 @registry.py:126]\u001b[0m gen/LSTM/17/FC2 input: [500, 100]\n",
      "\u001b[32m[1026 11:09:53 @registry.py:134]\u001b[0m gen/LSTM/17/FC2 output: [500, 9]\n",
      "\u001b[32m[1026 11:09:53 @registry.py:126]\u001b[0m gen/LSTM/17/FC3 input: [500, 9]\n",
      "\u001b[32m[1026 11:09:53 @registry.py:134]\u001b[0m gen/LSTM/17/FC3 output: [500, 100]\n",
      "\u001b[32m[1026 11:09:53 @DATGANModel.py:209]\u001b[0m \u001b[91mCreating cell for hh_bikes (in-edges: 2)\n",
      "\u001b[32m[1026 11:09:53 @registry.py:126]\u001b[0m gen/LSTM/18/FC_inputs input: [500, 200]\n",
      "\u001b[32m[1026 11:09:53 @registry.py:134]\u001b[0m gen/LSTM/18/FC_inputs output: [500, 100]\n",
      "\u001b[32m[1026 11:09:53 @registry.py:126]\u001b[0m gen/LSTM/18/FC_attentions input: [500, 200]\n",
      "\u001b[32m[1026 11:09:53 @registry.py:134]\u001b[0m gen/LSTM/18/FC_attentions output: [500, 100]\n",
      "\u001b[32m[1026 11:09:53 @registry.py:126]\u001b[0m gen/LSTM/18/FC_lstm_state_0 input: [500, 200]\n",
      "\u001b[32m[1026 11:09:53 @registry.py:134]\u001b[0m gen/LSTM/18/FC_lstm_state_0 output: [500, 100]\n",
      "\u001b[32m[1026 11:09:53 @registry.py:126]\u001b[0m gen/LSTM/18/FC_lstm_state_1 input: [500, 200]\n",
      "\u001b[32m[1026 11:09:53 @registry.py:134]\u001b[0m gen/LSTM/18/FC_lstm_state_1 output: [500, 100]\n",
      "\u001b[32m[1026 11:09:53 @registry.py:126]\u001b[0m gen/LSTM/19/FC input: [500, 100]\n",
      "\u001b[32m[1026 11:09:53 @registry.py:134]\u001b[0m gen/LSTM/19/FC output: [500, 100]\n",
      "\u001b[32m[1026 11:09:53 @registry.py:126]\u001b[0m gen/LSTM/19/FC2 input: [500, 100]\n",
      "\u001b[32m[1026 11:09:53 @registry.py:134]\u001b[0m gen/LSTM/19/FC2 output: [500, 8]\n",
      "\u001b[32m[1026 11:09:53 @registry.py:126]\u001b[0m gen/LSTM/19/FC3 input: [500, 8]\n"
     ]
    },
    {
     "name": "stdout",
     "output_type": "stream",
     "text": [
      "\u001b[32m[1026 11:09:53 @registry.py:134]\u001b[0m gen/LSTM/19/FC3 output: [500, 100]\n",
      "\u001b[32m[1026 11:09:53 @DATGANModel.py:209]\u001b[0m \u001b[91mCreating cell for choice (in-edges: 7)\n",
      "\u001b[32m[1026 11:09:53 @registry.py:126]\u001b[0m gen/LSTM/20/FC_inputs input: [500, 700]\n",
      "\u001b[32m[1026 11:09:53 @registry.py:134]\u001b[0m gen/LSTM/20/FC_inputs output: [500, 100]\n",
      "\u001b[32m[1026 11:09:53 @registry.py:126]\u001b[0m gen/LSTM/20/FC_attentions input: [500, 700]\n",
      "\u001b[32m[1026 11:09:53 @registry.py:134]\u001b[0m gen/LSTM/20/FC_attentions output: [500, 100]\n",
      "\u001b[32m[1026 11:09:53 @registry.py:126]\u001b[0m gen/LSTM/20/FC_lstm_state_0 input: [500, 700]\n",
      "\u001b[32m[1026 11:09:53 @registry.py:134]\u001b[0m gen/LSTM/20/FC_lstm_state_0 output: [500, 100]\n",
      "\u001b[32m[1026 11:09:53 @registry.py:126]\u001b[0m gen/LSTM/20/FC_lstm_state_1 input: [500, 700]\n",
      "\u001b[32m[1026 11:09:53 @registry.py:134]\u001b[0m gen/LSTM/20/FC_lstm_state_1 output: [500, 100]\n",
      "\u001b[32m[1026 11:09:53 @registry.py:126]\u001b[0m gen/LSTM/21/FC input: [500, 100]\n",
      "\u001b[32m[1026 11:09:53 @registry.py:134]\u001b[0m gen/LSTM/21/FC output: [500, 100]\n",
      "\u001b[32m[1026 11:09:53 @registry.py:126]\u001b[0m gen/LSTM/21/FC2 input: [500, 100]\n",
      "\u001b[32m[1026 11:09:53 @registry.py:134]\u001b[0m gen/LSTM/21/FC2 output: [500, 5]\n",
      "\u001b[32m[1026 11:09:53 @registry.py:126]\u001b[0m gen/LSTM/21/FC3 input: [500, 5]\n",
      "\u001b[32m[1026 11:09:53 @registry.py:134]\u001b[0m gen/LSTM/21/FC3 output: [500, 100]\n",
      "WARNING:tensorflow:From C:\\Users\\glede\\Documents\\EPFL\\PhD\\SynthPop\\code\\modules\\datgan\\DATGANModel.py:572: The name tf.random_uniform is deprecated. Please use tf.random.uniform instead.\n",
      "\n",
      "WARNING:tensorflow:From C:\\Users\\glede\\Documents\\EPFL\\PhD\\SynthPop\\code\\modules\\datgan\\DATGANModel.py:496: The name tf.log is deprecated. Please use tf.math.log instead.\n",
      "\n",
      "\u001b[32m[1026 11:09:53 @registry.py:126]\u001b[0m discrim/dis_fc0/fc input: [500, 120]\n",
      "\u001b[32m[1026 11:09:53 @registry.py:134]\u001b[0m discrim/dis_fc0/fc output: [500, 100]\n",
      "\u001b[32m[1026 11:09:53 @registry.py:126]\u001b[0m discrim/dis_fc0/fc_diversity input: [500, 100]\n",
      "\u001b[32m[1026 11:09:53 @registry.py:134]\u001b[0m discrim/dis_fc0/fc_diversity output: [500, 100]\n",
      "WARNING:tensorflow:From D:\\Users\\glede\\anaconda3\\envs\\py37\\lib\\site-packages\\tensorpack\\models\\batch_norm.py:204: The name tf.layers.BatchNormalization is deprecated. Please use tf.compat.v1.layers.BatchNormalization instead.\n",
      "\n",
      "WARNING:tensorflow:From D:\\Users\\glede\\anaconda3\\envs\\py37\\lib\\site-packages\\tensorpack\\models\\batch_norm.py:212: The name tf.add_to_collection is deprecated. Please use tf.compat.v1.add_to_collection instead.\n",
      "\n",
      "\u001b[32m[1026 11:09:53 @registry.py:126]\u001b[0m discrim/dis_fc_top input: [500, 110]\n",
      "\u001b[32m[1026 11:09:53 @registry.py:134]\u001b[0m discrim/dis_fc_top output: [500, 1]\n",
      "WARNING:tensorflow:From C:\\Users\\glede\\Documents\\EPFL\\PhD\\SynthPop\\code\\modules\\datgan\\DATGANModel.py:626: The name tf.summary.histogram is deprecated. Please use tf.compat.v1.summary.histogram instead.\n",
      "\n",
      "WARNING:tensorflow:From D:\\Users\\glede\\anaconda3\\envs\\py37\\lib\\site-packages\\tensorflow_core\\python\\ops\\nn_impl.py:183: where (from tensorflow.python.ops.array_ops) is deprecated and will be removed in a future version.\n",
      "Instructions for updating:\n",
      "Use tf.where in 2.0, which has the same broadcast rule as np.where\n",
      "WARNING:tensorflow:\n",
      "The TensorFlow contrib module will not be included in TensorFlow 2.0.\n",
      "For more information, please see:\n",
      "  * https://github.com/tensorflow/community/blob/master/rfcs/20180907-contrib-sunset.md\n",
      "  * https://github.com/tensorflow/addons\n",
      "  * https://github.com/tensorflow/io (for I/O related ops)\n",
      "If you depend on functionality not listed there, please file an issue.\n",
      "\n",
      "WARNING:tensorflow:From C:\\Users\\glede\\Documents\\EPFL\\PhD\\SynthPop\\code\\modules\\datgan\\DATGANModel.py:673: The name tf.train.AdamOptimizer is deprecated. Please use tf.compat.v1.train.AdamOptimizer instead.\n",
      "\n",
      "\u001b[32m[1026 11:09:57 @DATGAN.py:200]\u001b[0m Found an already existing model. Loading it!\n",
      "WARNING:tensorflow:From D:\\Users\\glede\\anaconda3\\envs\\py37\\lib\\site-packages\\tensorpack\\tfutils\\varmanip.py:178: The name tf.gfile.Exists is deprecated. Please use tf.io.gfile.exists instead.\n",
      "\n",
      "\u001b[32m[1026 11:09:57 @logger.py:83]\u001b[0m Existing log file '../output/Chicago/DATGAN2_1000/logs\\log.log' backuped to '../output/Chicago/DATGAN2_1000/logs\\log.log.1026-110957'\n",
      "\u001b[32m[1026 11:09:57 @logger.py:90]\u001b[0m Argv: D:\\Users\\glede\\anaconda3\\envs\\py37\\lib\\site-packages\\ipykernel_launcher.py -f C:\\Users\\glede\\AppData\\Roaming\\jupyter\\runtime\\kernel-1f1b8435-584f-4975-9594-ab4a26710426.json\n",
      "WARNING:tensorflow:From D:\\Users\\glede\\anaconda3\\envs\\py37\\lib\\site-packages\\tensorpack\\callbacks\\saver.py:43: The name tf.gfile.IsDirectory is deprecated. Please use tf.io.gfile.isdir instead.\n",
      "\n",
      "WARNING:tensorflow:From D:\\Users\\glede\\anaconda3\\envs\\py37\\lib\\site-packages\\tensorpack\\tfutils\\common.py:41: The name tf.ConfigProto is deprecated. Please use tf.compat.v1.ConfigProto instead.\n",
      "\n",
      "\u001b[32m[1026 11:09:57 @model_utils.py:67]\u001b[0m \u001b[36mList of Trainable Variables: \n",
      "\u001b[0mname                              shape         #elements\n",
      "--------------------------------  ----------  -----------\n",
      "gen/LSTM/go_age:0                 [1, 100]            100\n",
      "gen/LSTM/lstm_cell/kernel:0       [500, 400]       200000\n",
      "gen/LSTM/lstm_cell/bias:0         [400]               400\n",
      "gen/LSTM/00/FC/W:0                [100, 100]        10000\n",
      "gen/LSTM/00/FC/b:0                [100]               100\n",
      "gen/LSTM/00/FC2_val/W:0           [100, 6]            600\n",
      "gen/LSTM/00/FC2_val/b:0           [6]                   6\n",
      "gen/LSTM/00/FC2_prob/W:0          [100, 6]            600\n",
      "gen/LSTM/00/FC2_prob/b:0          [6]                   6\n",
      "gen/LSTM/00/FC3/W:0               [12, 100]          1200\n",
      "gen/LSTM/00/FC3/b:0               [100]               100\n",
      "gen/LSTM/00/attw:0                [1, 1, 1]             1\n",
      "gen/LSTM/go_gender:0              [1, 100]            100\n",
      "gen/LSTM/01/FC/W:0                [100, 100]        10000\n",
      "gen/LSTM/01/FC/b:0                [100]               100\n",
      "gen/LSTM/01/FC2/W:0               [100, 2]            200\n",
      "gen/LSTM/01/FC2/b:0               [2]                   2\n",
      "gen/LSTM/01/FC3/W:0               [2, 100]            200\n",
      "gen/LSTM/01/FC3/b:0               [100]               100\n",
      "gen/LSTM/01/attw:0                [1, 1, 1]             1\n",
      "gen/LSTM/go_travel_dow:0          [1, 100]            100\n",
      "gen/LSTM/02/FC/W:0                [100, 100]        10000\n",
      "gen/LSTM/02/FC/b:0                [100]               100\n",
      "gen/LSTM/02/FC2/W:0               [100, 7]            700\n",
      "gen/LSTM/02/FC2/b:0               [7]                   7\n",
      "gen/LSTM/02/FC3/W:0               [7, 100]            700\n",
      "gen/LSTM/02/FC3/b:0               [100]               100\n",
      "gen/LSTM/02/attw:0                [1, 1, 1]             1\n",
      "gen/LSTM/03/FC/W:0                [100, 100]        10000\n",
      "gen/LSTM/03/FC/b:0                [100]               100\n",
      "gen/LSTM/03/FC2/W:0               [100, 2]            200\n",
      "gen/LSTM/03/FC2/b:0               [2]                   2\n",
      "gen/LSTM/03/FC3/W:0               [2, 100]            200\n",
      "gen/LSTM/03/FC3/b:0               [100]               100\n",
      "gen/LSTM/03/attw:0                [2, 1, 1]             2\n",
      "gen/LSTM/04/FC/W:0                [100, 100]        10000\n",
      "gen/LSTM/04/FC/b:0                [100]               100\n",
      "gen/LSTM/04/FC2/W:0               [100, 6]            600\n",
      "gen/LSTM/04/FC2/b:0               [6]                   6\n",
      "gen/LSTM/04/FC3/W:0               [6, 100]            600\n",
      "gen/LSTM/04/FC3/b:0               [100]               100\n",
      "gen/LSTM/04/attw:0                [2, 1, 1]             2\n",
      "gen/LSTM/05/FC_inputs/W:0         [200, 100]        20000\n",
      "gen/LSTM/05/FC_inputs/b:0         [100]               100\n",
      "gen/LSTM/05/FC_attentions/W:0     [200, 100]        20000\n",
      "gen/LSTM/05/FC_attentions/b:0     [100]               100\n",
      "gen/LSTM/05/FC_lstm_state_0/W:0   [200, 100]        20000\n",
      "gen/LSTM/05/FC_lstm_state_0/b:0   [100]               100\n",
      "gen/LSTM/05/FC_lstm_state_1/W:0   [200, 100]        20000\n",
      "gen/LSTM/05/FC_lstm_state_1/b:0   [100]               100\n",
      "gen/LSTM/06/FC/W:0                [100, 100]        10000\n",
      "gen/LSTM/06/FC/b:0                [100]               100\n",
      "gen/LSTM/06/FC2/W:0               [100, 8]            800\n",
      "gen/LSTM/06/FC2/b:0               [8]                   8\n",
      "gen/LSTM/06/FC3/W:0               [8, 100]            800\n",
      "gen/LSTM/06/FC3/b:0               [100]               100\n",
      "gen/LSTM/06/attw:0                [4, 1, 1]             4\n",
      "gen/LSTM/07/FC_inputs/W:0         [200, 100]        20000\n",
      "gen/LSTM/07/FC_inputs/b:0         [100]               100\n",
      "gen/LSTM/07/FC_attentions/W:0     [200, 100]        20000\n",
      "gen/LSTM/07/FC_attentions/b:0     [100]               100\n",
      "gen/LSTM/07/FC_lstm_state_0/W:0   [200, 100]        20000\n",
      "gen/LSTM/07/FC_lstm_state_0/b:0   [100]               100\n",
      "gen/LSTM/07/FC_lstm_state_1/W:0   [200, 100]        20000\n",
      "gen/LSTM/07/FC_lstm_state_1/b:0   [100]               100\n",
      "gen/LSTM/08/FC/W:0                [100, 100]        10000\n",
      "gen/LSTM/08/FC/b:0                [100]               100\n",
      "gen/LSTM/08/FC2/W:0               [100, 7]            700\n",
      "gen/LSTM/08/FC2/b:0               [7]                   7\n",
      "gen/LSTM/08/FC3/W:0               [7, 100]            700\n",
      "gen/LSTM/08/FC3/b:0               [100]               100\n",
      "gen/LSTM/08/attw:0                [5, 1, 1]             5\n",
      "gen/LSTM/09/FC/W:0                [100, 100]        10000\n",
      "gen/LSTM/09/FC/b:0                [100]               100\n",
      "gen/LSTM/09/FC2/W:0               [100, 7]            700\n",
      "gen/LSTM/09/FC2/b:0               [7]                   7\n",
      "gen/LSTM/09/FC3/W:0               [7, 100]            700\n",
      "gen/LSTM/09/FC3/b:0               [100]               100\n",
      "gen/LSTM/09/attw:0                [5, 1, 1]             5\n",
      "gen/LSTM/10/FC_inputs/W:0         [200, 100]        20000\n",
      "gen/LSTM/10/FC_inputs/b:0         [100]               100\n",
      "gen/LSTM/10/FC_attentions/W:0     [200, 100]        20000\n",
      "gen/LSTM/10/FC_attentions/b:0     [100]               100\n",
      "gen/LSTM/10/FC_lstm_state_0/W:0   [200, 100]        20000\n",
      "gen/LSTM/10/FC_lstm_state_0/b:0   [100]               100\n",
      "gen/LSTM/10/FC_lstm_state_1/W:0   [200, 100]        20000\n",
      "gen/LSTM/10/FC_lstm_state_1/b:0   [100]               100\n",
      "gen/LSTM/11/FC/W:0                [100, 100]        10000\n",
      "gen/LSTM/11/FC/b:0                [100]               100\n",
      "gen/LSTM/11/FC2/W:0               [100, 3]            300\n",
      "gen/LSTM/11/FC2/b:0               [3]                   3\n",
      "gen/LSTM/11/FC3/W:0               [3, 100]            300\n",
      "gen/LSTM/11/FC3/b:0               [100]               100\n",
      "gen/LSTM/11/attw:0                [6, 1, 1]             6\n",
      "gen/LSTM/12/FC_inputs/W:0         [300, 100]        30000\n",
      "gen/LSTM/12/FC_inputs/b:0         [100]               100\n",
      "gen/LSTM/12/FC_attentions/W:0     [300, 100]        30000\n",
      "gen/LSTM/12/FC_attentions/b:0     [100]               100\n",
      "gen/LSTM/12/FC_lstm_state_0/W:0   [300, 100]        30000\n",
      "gen/LSTM/12/FC_lstm_state_0/b:0   [100]               100\n",
      "gen/LSTM/12/FC_lstm_state_1/W:0   [300, 100]        30000\n",
      "gen/LSTM/12/FC_lstm_state_1/b:0   [100]               100\n",
      "gen/LSTM/13/FC/W:0                [100, 100]        10000\n",
      "gen/LSTM/13/FC/b:0                [100]               100\n",
      "gen/LSTM/13/FC2/W:0               [100, 8]            800\n",
      "gen/LSTM/13/FC2/b:0               [8]                   8\n",
      "gen/LSTM/13/FC3/W:0               [8, 100]            800\n",
      "gen/LSTM/13/FC3/b:0               [100]               100\n",
      "gen/LSTM/13/attw:0                [6, 1, 1]             6\n",
      "gen/LSTM/14/FC/W:0                [100, 100]        10000\n",
      "gen/LSTM/14/FC/b:0                [100]               100\n",
      "gen/LSTM/14/FC2_val/W:0           [100, 8]            800\n",
      "gen/LSTM/14/FC2_val/b:0           [8]                   8\n",
      "gen/LSTM/14/FC2_prob/W:0          [100, 8]            800\n",
      "gen/LSTM/14/FC2_prob/b:0          [8]                   8\n",
      "gen/LSTM/14/FC3/W:0               [16, 100]          1600\n",
      "gen/LSTM/14/FC3/b:0               [100]               100\n",
      "gen/LSTM/14/attw:0                [6, 1, 1]             6\n",
      "gen/LSTM/15/FC/W:0                [100, 100]        10000\n",
      "gen/LSTM/15/FC/b:0                [100]               100\n",
      "gen/LSTM/15/FC2_val/W:0           [100, 10]          1000\n",
      "gen/LSTM/15/FC2_val/b:0           [10]                 10\n",
      "gen/LSTM/15/FC2_prob/W:0          [100, 10]          1000\n",
      "gen/LSTM/15/FC2_prob/b:0          [10]                 10\n",
      "gen/LSTM/15/FC3/W:0               [20, 100]          2000\n",
      "gen/LSTM/15/FC3/b:0               [100]               100\n",
      "gen/LSTM/15/attw:0                [6, 1, 1]             6\n",
      "gen/LSTM/16/FC_inputs/W:0         [200, 100]        20000\n",
      "gen/LSTM/16/FC_inputs/b:0         [100]               100\n",
      "gen/LSTM/16/FC_attentions/W:0     [200, 100]        20000\n",
      "gen/LSTM/16/FC_attentions/b:0     [100]               100\n",
      "gen/LSTM/16/FC_lstm_state_0/W:0   [200, 100]        20000\n",
      "gen/LSTM/16/FC_lstm_state_0/b:0   [100]               100\n",
      "gen/LSTM/16/FC_lstm_state_1/W:0   [200, 100]        20000\n",
      "gen/LSTM/16/FC_lstm_state_1/b:0   [100]               100\n",
      "gen/LSTM/17/FC/W:0                [100, 100]        10000\n",
      "gen/LSTM/17/FC/b:0                [100]               100\n",
      "gen/LSTM/17/FC2/W:0               [100, 9]            900\n",
      "gen/LSTM/17/FC2/b:0               [9]                   9\n",
      "gen/LSTM/17/FC3/W:0               [9, 100]            900\n",
      "gen/LSTM/17/FC3/b:0               [100]               100\n",
      "gen/LSTM/17/attw:0                [7, 1, 1]             7\n",
      "gen/LSTM/18/FC_inputs/W:0         [200, 100]        20000\n",
      "gen/LSTM/18/FC_inputs/b:0         [100]               100\n",
      "gen/LSTM/18/FC_attentions/W:0     [200, 100]        20000\n",
      "gen/LSTM/18/FC_attentions/b:0     [100]               100\n",
      "gen/LSTM/18/FC_lstm_state_0/W:0   [200, 100]        20000\n",
      "gen/LSTM/18/FC_lstm_state_0/b:0   [100]               100\n",
      "gen/LSTM/18/FC_lstm_state_1/W:0   [200, 100]        20000\n",
      "gen/LSTM/18/FC_lstm_state_1/b:0   [100]               100\n",
      "gen/LSTM/19/FC/W:0                [100, 100]        10000\n",
      "gen/LSTM/19/FC/b:0                [100]               100\n",
      "gen/LSTM/19/FC2/W:0               [100, 8]            800\n",
      "gen/LSTM/19/FC2/b:0               [8]                   8\n",
      "gen/LSTM/19/FC3/W:0               [8, 100]            800\n",
      "gen/LSTM/19/FC3/b:0               [100]               100\n",
      "gen/LSTM/19/attw:0                [7, 1, 1]             7\n",
      "gen/LSTM/20/FC_inputs/W:0         [700, 100]        70000\n",
      "gen/LSTM/20/FC_inputs/b:0         [100]               100\n",
      "gen/LSTM/20/FC_attentions/W:0     [700, 100]        70000\n",
      "gen/LSTM/20/FC_attentions/b:0     [100]               100\n",
      "gen/LSTM/20/FC_lstm_state_0/W:0   [700, 100]        70000\n",
      "gen/LSTM/20/FC_lstm_state_0/b:0   [100]               100\n",
      "gen/LSTM/20/FC_lstm_state_1/W:0   [700, 100]        70000\n",
      "gen/LSTM/20/FC_lstm_state_1/b:0   [100]               100\n",
      "gen/LSTM/21/FC/W:0                [100, 100]        10000\n",
      "gen/LSTM/21/FC/b:0                [100]               100\n",
      "gen/LSTM/21/FC2/W:0               [100, 5]            500\n",
      "gen/LSTM/21/FC2/b:0               [5]                   5\n",
      "gen/LSTM/21/FC3/W:0               [5, 100]            500\n",
      "gen/LSTM/21/FC3/b:0               [100]               100\n",
      "gen/LSTM/21/attw:0                [14, 1, 1]           14\n",
      "discrim/dis_fc0/fc/W:0            [120, 100]        12000\n",
      "discrim/dis_fc0/fc/b:0            [100]               100\n",
      "discrim/dis_fc0/fc_diversity/W:0  [100, 100]        10000\n",
      "discrim/dis_fc0/fc_diversity/b:0  [100]               100\n",
      "discrim/dis_fc0/bn/beta:0         [110]               110\n",
      "discrim/dis_fc_top/W:0            [110, 1]            110\n",
      "discrim/dis_fc_top/b:0            [1]                   1\u001b[36m\n",
      "Number of trainable variables: 179\n",
      "Number of parameters (elements): 1203114\n",
      "Storage space needed for all trainable variables: 4.59MB\u001b[0m\n"
     ]
    },
    {
     "name": "stdout",
     "output_type": "stream",
     "text": [
      "\u001b[32m[1026 11:09:57 @base.py:209]\u001b[0m Setup callbacks graph ...\n",
      "WARNING:tensorflow:From D:\\Users\\glede\\anaconda3\\envs\\py37\\lib\\site-packages\\tensorpack\\callbacks\\graph.py:54: The name tf.train.SessionRunArgs is deprecated. Please use tf.estimator.SessionRunArgs instead.\n",
      "\n",
      "WARNING:tensorflow:From D:\\Users\\glede\\anaconda3\\envs\\py37\\lib\\site-packages\\tensorpack\\tfutils\\common.py:75: The name tf.VariableScope is deprecated. Please use tf.compat.v1.VariableScope instead.\n",
      "\n",
      "WARNING:tensorflow:From D:\\Users\\glede\\anaconda3\\envs\\py37\\lib\\site-packages\\tensorpack\\tfutils\\common.py:77: The name tf.train.get_or_create_global_step is deprecated. Please use tf.compat.v1.train.get_or_create_global_step instead.\n",
      "\n",
      "WARNING:tensorflow:From D:\\Users\\glede\\anaconda3\\envs\\py37\\lib\\site-packages\\tensorpack\\callbacks\\steps.py:117: The name tf.assign_add is deprecated. Please use tf.compat.v1.assign_add instead.\n",
      "\n",
      "WARNING:tensorflow:From D:\\Users\\glede\\anaconda3\\envs\\py37\\lib\\site-packages\\tensorpack\\callbacks\\saver.py:55: The name tf.train.Saver is deprecated. Please use tf.compat.v1.train.Saver instead.\n",
      "\n",
      "WARNING:tensorflow:From D:\\Users\\glede\\anaconda3\\envs\\py37\\lib\\site-packages\\tensorpack\\callbacks\\saver.py:59: The name tf.train.SaverDef is deprecated. Please use tf.compat.v1.train.SaverDef instead.\n",
      "\n",
      "\u001b[32m[1026 11:09:57 @summary.py:46]\u001b[0m [MovingAverageSummary] 6 operations in collection 'MOVING_SUMMARY_OPS' will be run with session hooks.\n",
      "\u001b[32m[1026 11:09:57 @summary.py:93]\u001b[0m Summarizing collection 'summaries' of size 9.\n",
      "WARNING:tensorflow:From D:\\Users\\glede\\anaconda3\\envs\\py37\\lib\\site-packages\\tensorpack\\callbacks\\summary.py:94: The name tf.summary.merge_all is deprecated. Please use tf.compat.v1.summary.merge_all instead.\n",
      "\n",
      "\u001b[32m[1026 11:09:57 @graph.py:98]\u001b[0m Applying collection UPDATE_OPS of 4 ops.\n",
      "WARNING:tensorflow:From D:\\Users\\glede\\anaconda3\\envs\\py37\\lib\\site-packages\\tensorpack\\callbacks\\monitor.py:261: The name tf.summary.FileWriter is deprecated. Please use tf.compat.v1.summary.FileWriter instead.\n",
      "\n",
      "WARNING:tensorflow:From D:\\Users\\glede\\anaconda3\\envs\\py37\\lib\\site-packages\\tensorpack\\tfutils\\sessinit.py:120: The name tf.train.NewCheckpointReader is deprecated. Please use tf.compat.v1.train.NewCheckpointReader instead.\n",
      "\n",
      "WARNING:tensorflow:From D:\\Users\\glede\\anaconda3\\envs\\py37\\lib\\site-packages\\tensorpack\\tfutils\\sessinit.py:127: The name tf.global_variables is deprecated. Please use tf.compat.v1.global_variables instead.\n",
      "\n",
      "\u001b[32m[1026 11:09:58 @base.py:230]\u001b[0m Creating the session ...\n",
      "WARNING:tensorflow:From D:\\Users\\glede\\anaconda3\\envs\\py37\\lib\\site-packages\\tensorpack\\tfutils\\sesscreate.py:42: The name tf.Session is deprecated. Please use tf.compat.v1.Session instead.\n",
      "\n",
      "WARNING:tensorflow:From D:\\Users\\glede\\anaconda3\\envs\\py37\\lib\\site-packages\\tensorpack\\tfutils\\sesscreate.py:71: The name tf.global_variables_initializer is deprecated. Please use tf.compat.v1.global_variables_initializer instead.\n",
      "\n",
      "WARNING:tensorflow:From D:\\Users\\glede\\anaconda3\\envs\\py37\\lib\\site-packages\\tensorpack\\tfutils\\sesscreate.py:62: get_backward_walk_ops (from tensorflow.contrib.graph_editor.select) is deprecated and will be removed after 2019-06-06.\n",
      "Instructions for updating:\n",
      "Please use tensorflow.python.ops.op_selector.get_backward_walk_ops.\n",
      "WARNING:tensorflow:From D:\\Users\\glede\\anaconda3\\envs\\py37\\lib\\site-packages\\tensorpack\\tfutils\\sesscreate.py:72: The name tf.local_variables_initializer is deprecated. Please use tf.compat.v1.local_variables_initializer instead.\n",
      "\n",
      "WARNING:tensorflow:From D:\\Users\\glede\\anaconda3\\envs\\py37\\lib\\site-packages\\tensorpack\\tfutils\\sesscreate.py:73: The name tf.tables_initializer is deprecated. Please use tf.compat.v1.tables_initializer instead.\n",
      "\n",
      "WARNING:tensorflow:From D:\\Users\\glede\\anaconda3\\envs\\py37\\lib\\site-packages\\tensorpack\\train\\base.py:254: The name tf.train.MonitoredSession is deprecated. Please use tf.compat.v1.train.MonitoredSession instead.\n",
      "\n",
      "\u001b[32m[1026 11:10:00 @base.py:236]\u001b[0m Initializing the session ...\n",
      "\u001b[32m[1026 11:10:00 @sessinit.py:114]\u001b[0m Restoring checkpoint from ../output/Chicago/DATGAN2_1000/model\\model-87500 ...\n",
      "INFO:tensorflow:Restoring parameters from ../output/Chicago/DATGAN2_1000/model\\model-87500\n",
      "\u001b[32m[1026 11:10:00 @base.py:243]\u001b[0m Graph Finalized.\n",
      "WARNING:tensorflow:From D:\\Users\\glede\\anaconda3\\envs\\py37\\lib\\site-packages\\tensorpack\\tfutils\\common.py:89: The name tf.train.global_step is deprecated. Please use tf.compat.v1.train.global_step instead.\n",
      "\n",
      "WARNING:tensorflow:From D:\\Users\\glede\\anaconda3\\envs\\py37\\lib\\site-packages\\tensorpack\\tfutils\\common.py:90: The name tf.get_default_session is deprecated. Please use tf.compat.v1.get_default_session instead.\n",
      "\n",
      "\u001b[32m[1026 11:10:00 @concurrency.py:38]\u001b[0m Starting EnqueueThread QueueInput/input_queue ...\n",
      "\u001b[32m[1026 11:10:00 @steps.py:124]\u001b[0m Start training with global_step=87500\n",
      "\u001b[32m[1026 11:10:01 @monitor.py:347]\u001b[0m Found existing JSON inside ../output/Chicago/DATGAN2_1000/logs, will append to it.\n",
      "\u001b[32m[1026 11:10:01 @base.py:275]\u001b[0m Start Epoch 501 ...\n"
     ]
    },
    {
     "name": "stderr",
     "output_type": "stream",
     "text": [
      " 93%|#############################################################################3     |163/175[00:07<00:00,29.88it/s]"
     ]
    },
    {
     "name": "stdout",
     "output_type": "stream",
     "text": [
      "WARNING:tensorflow:From D:\\Users\\glede\\anaconda3\\envs\\py37\\lib\\site-packages\\tensorpack\\callbacks\\monitor.py:148: The name tf.Summary is deprecated. Please use tf.compat.v1.Summary instead.\n",
      "\n"
     ]
    },
    {
     "name": "stderr",
     "output_type": "stream",
     "text": [
      "\r",
      "100%|###################################################################################|175/175[00:09<00:00,18.19it/s]"
     ]
    },
    {
     "name": "stdout",
     "output_type": "stream",
     "text": [
      "\u001b[32m[1026 11:10:11 @base.py:285]\u001b[0m Epoch 501 (global_step 87675) finished, time:9.62 seconds.\n",
      "WARNING:tensorflow:From D:\\Users\\glede\\anaconda3\\envs\\py37\\lib\\site-packages\\tensorpack\\callbacks\\saver.py:77: The name tf.train.get_global_step is deprecated. Please use tf.compat.v1.train.get_global_step instead.\n",
      "\n"
     ]
    },
    {
     "name": "stderr",
     "output_type": "stream",
     "text": [
      "\n"
     ]
    },
    {
     "name": "stdout",
     "output_type": "stream",
     "text": [
      "\u001b[32m[1026 11:10:11 @saver.py:79]\u001b[0m Model saved to ../output/Chicago/DATGAN2_1000/model\\model-87675.\n",
      "\u001b[32m[1026 11:10:11 @monitor.py:467]\u001b[0m GAN_loss/discrim/accuracy_fake: 0.972\n",
      "\u001b[32m[1026 11:10:11 @monitor.py:467]\u001b[0m GAN_loss/discrim/accuracy_real: 0.074\n",
      "\u001b[32m[1026 11:10:11 @monitor.py:467]\u001b[0m GAN_loss/discrim/loss: 0.64981\n",
      "\u001b[32m[1026 11:10:11 @monitor.py:467]\u001b[0m GAN_loss/gen/final-g-loss: 0.98673\n",
      "\u001b[32m[1026 11:10:11 @monitor.py:467]\u001b[0m GAN_loss/gen/klloss: 0.045803\n",
      "\u001b[32m[1026 11:10:11 @monitor.py:467]\u001b[0m GAN_loss/gen/loss: 0.94093\n",
      "\u001b[32m[1026 11:10:11 @monitor.py:467]\u001b[0m QueueInput/queue_size: 50\n",
      "\u001b[32m[1026 11:10:11 @base.py:275]\u001b[0m Start Epoch 502 ...\n"
     ]
    },
    {
     "name": "stderr",
     "output_type": "stream",
     "text": [
      "100%|###################################################################################|175/175[00:05<00:00,32.05it/s]"
     ]
    },
    {
     "name": "stdout",
     "output_type": "stream",
     "text": [
      "\u001b[32m[1026 11:10:16 @base.py:285]\u001b[0m Epoch 502 (global_step 87850) finished, time:5.46 seconds.\n",
      "\u001b[32m[1026 11:10:17 @saver.py:79]\u001b[0m Model saved to ../output/Chicago/DATGAN2_1000/model\\model-87850.\n",
      "\u001b[32m[1026 11:10:17 @monitor.py:467]\u001b[0m GAN_loss/discrim/accuracy_fake: 0.966\n",
      "\u001b[32m[1026 11:10:17 @monitor.py:467]\u001b[0m GAN_loss/discrim/accuracy_real: 0.042\n",
      "\u001b[32m[1026 11:10:17 @monitor.py:467]\u001b[0m GAN_loss/discrim/loss: 0.64486\n",
      "\u001b[32m[1026 11:10:17 @monitor.py:467]\u001b[0m GAN_loss/gen/final-g-loss: 1.009\n",
      "\u001b[32m[1026 11:10:17 @monitor.py:467]\u001b[0m GAN_loss/gen/klloss: 0.058277\n",
      "\u001b[32m[1026 11:10:17 @monitor.py:467]\u001b[0m GAN_loss/gen/loss: 0.95071\n",
      "\u001b[32m[1026 11:10:17 @monitor.py:467]\u001b[0m QueueInput/queue_size: 50\n",
      "\u001b[32m[1026 11:10:17 @base.py:275]\u001b[0m Start Epoch 503 ...\n"
     ]
    },
    {
     "name": "stderr",
     "output_type": "stream",
     "text": [
      "\n",
      "100%|###################################################################################|175/175[00:05<00:00,32.16it/s]"
     ]
    },
    {
     "name": "stdout",
     "output_type": "stream",
     "text": [
      "\u001b[32m[1026 11:10:22 @base.py:285]\u001b[0m Epoch 503 (global_step 88025) finished, time:5.44 seconds.\n",
      "\u001b[32m[1026 11:10:22 @saver.py:79]\u001b[0m Model saved to ../output/Chicago/DATGAN2_1000/model\\model-88025.\n",
      "\u001b[32m[1026 11:10:22 @monitor.py:467]\u001b[0m GAN_loss/discrim/accuracy_fake: 0.954\n",
      "\u001b[32m[1026 11:10:22 @monitor.py:467]\u001b[0m GAN_loss/discrim/accuracy_real: 0.042\n",
      "\u001b[32m[1026 11:10:22 @monitor.py:467]\u001b[0m GAN_loss/discrim/loss: 0.65191\n",
      "\u001b[32m[1026 11:10:22 @monitor.py:467]\u001b[0m GAN_loss/gen/final-g-loss: 0.99734\n",
      "\u001b[32m[1026 11:10:22 @monitor.py:467]\u001b[0m GAN_loss/gen/klloss: 0.058574\n",
      "\u001b[32m[1026 11:10:22 @monitor.py:467]\u001b[0m GAN_loss/gen/loss: 0.93877\n",
      "\u001b[32m[1026 11:10:22 @monitor.py:467]\u001b[0m QueueInput/queue_size: 50\n",
      "\u001b[32m[1026 11:10:22 @base.py:275]\u001b[0m Start Epoch 504 ...\n"
     ]
    },
    {
     "name": "stderr",
     "output_type": "stream",
     "text": [
      "\n",
      "100%|###################################################################################|175/175[00:05<00:00,32.19it/s]"
     ]
    },
    {
     "name": "stdout",
     "output_type": "stream",
     "text": [
      "\u001b[32m[1026 11:10:28 @base.py:285]\u001b[0m Epoch 504 (global_step 88200) finished, time:5.44 seconds.\n"
     ]
    },
    {
     "name": "stderr",
     "output_type": "stream",
     "text": [
      "\n"
     ]
    },
    {
     "name": "stdout",
     "output_type": "stream",
     "text": [
      "\u001b[32m[1026 11:10:28 @saver.py:79]\u001b[0m Model saved to ../output/Chicago/DATGAN2_1000/model\\model-88200.\n",
      "\u001b[32m[1026 11:10:28 @monitor.py:467]\u001b[0m GAN_loss/discrim/accuracy_fake: 0.98\n",
      "\u001b[32m[1026 11:10:28 @monitor.py:467]\u001b[0m GAN_loss/discrim/accuracy_real: 0.052\n",
      "\u001b[32m[1026 11:10:28 @monitor.py:467]\u001b[0m GAN_loss/discrim/loss: 0.64827\n",
      "\u001b[32m[1026 11:10:28 @monitor.py:467]\u001b[0m GAN_loss/gen/final-g-loss: 1.0043\n",
      "\u001b[32m[1026 11:10:28 @monitor.py:467]\u001b[0m GAN_loss/gen/klloss: 0.054627\n",
      "\u001b[32m[1026 11:10:28 @monitor.py:467]\u001b[0m GAN_loss/gen/loss: 0.94965\n",
      "\u001b[32m[1026 11:10:28 @monitor.py:467]\u001b[0m QueueInput/queue_size: 50\n",
      "\u001b[32m[1026 11:10:28 @base.py:275]\u001b[0m Start Epoch 505 ...\n"
     ]
    },
    {
     "name": "stderr",
     "output_type": "stream",
     "text": [
      "100%|###################################################################################|175/175[00:05<00:00,32.14it/s]"
     ]
    },
    {
     "name": "stdout",
     "output_type": "stream",
     "text": [
      "\u001b[32m[1026 11:10:33 @base.py:285]\u001b[0m Epoch 505 (global_step 88375) finished, time:5.45 seconds.\n",
      "\u001b[32m[1026 11:10:33 @saver.py:79]\u001b[0m Model saved to ../output/Chicago/DATGAN2_1000/model\\model-88375.\n",
      "\u001b[32m[1026 11:10:33 @monitor.py:467]\u001b[0m GAN_loss/discrim/accuracy_fake: 0.968\n",
      "\u001b[32m[1026 11:10:33 @monitor.py:467]\u001b[0m GAN_loss/discrim/accuracy_real: 0.054\n",
      "\u001b[32m[1026 11:10:33 @monitor.py:467]\u001b[0m GAN_loss/discrim/loss: 0.65184\n",
      "\u001b[32m[1026 11:10:33 @monitor.py:467]\u001b[0m GAN_loss/gen/final-g-loss: 1.024\n",
      "\u001b[32m[1026 11:10:33 @monitor.py:467]\u001b[0m GAN_loss/gen/klloss: 0.081428\n",
      "\u001b[32m[1026 11:10:33 @monitor.py:467]\u001b[0m GAN_loss/gen/loss: 0.94258\n",
      "\u001b[32m[1026 11:10:33 @monitor.py:467]\u001b[0m QueueInput/queue_size: 50\n",
      "\u001b[32m[1026 11:10:33 @base.py:275]\u001b[0m Start Epoch 506 ...\n"
     ]
    },
    {
     "name": "stderr",
     "output_type": "stream",
     "text": [
      "\n",
      "100%|###################################################################################|175/175[00:05<00:00,32.20it/s]"
     ]
    },
    {
     "name": "stdout",
     "output_type": "stream",
     "text": [
      "\u001b[32m[1026 11:10:39 @base.py:285]\u001b[0m Epoch 506 (global_step 88550) finished, time:5.44 seconds.\n"
     ]
    },
    {
     "name": "stderr",
     "output_type": "stream",
     "text": [
      "\n"
     ]
    },
    {
     "name": "stdout",
     "output_type": "stream",
     "text": [
      "\u001b[32m[1026 11:10:39 @saver.py:79]\u001b[0m Model saved to ../output/Chicago/DATGAN2_1000/model\\model-88550.\n",
      "\u001b[32m[1026 11:10:39 @monitor.py:467]\u001b[0m GAN_loss/discrim/accuracy_fake: 0.956\n",
      "\u001b[32m[1026 11:10:39 @monitor.py:467]\u001b[0m GAN_loss/discrim/accuracy_real: 0.054\n",
      "\u001b[32m[1026 11:10:39 @monitor.py:467]\u001b[0m GAN_loss/discrim/loss: 0.65713\n",
      "\u001b[32m[1026 11:10:39 @monitor.py:467]\u001b[0m GAN_loss/gen/final-g-loss: 1.0167\n",
      "\u001b[32m[1026 11:10:39 @monitor.py:467]\u001b[0m GAN_loss/gen/klloss: 0.075515\n",
      "\u001b[32m[1026 11:10:39 @monitor.py:467]\u001b[0m GAN_loss/gen/loss: 0.94116\n",
      "\u001b[32m[1026 11:10:39 @monitor.py:467]\u001b[0m QueueInput/queue_size: 50\n",
      "\u001b[32m[1026 11:10:39 @base.py:275]\u001b[0m Start Epoch 507 ...\n"
     ]
    },
    {
     "name": "stderr",
     "output_type": "stream",
     "text": [
      "100%|###################################################################################|175/175[00:05<00:00,32.19it/s]"
     ]
    },
    {
     "name": "stdout",
     "output_type": "stream",
     "text": [
      "\u001b[32m[1026 11:10:44 @base.py:285]\u001b[0m Epoch 507 (global_step 88725) finished, time:5.44 seconds.\n"
     ]
    },
    {
     "name": "stderr",
     "output_type": "stream",
     "text": [
      "\n"
     ]
    },
    {
     "name": "stdout",
     "output_type": "stream",
     "text": [
      "\u001b[32m[1026 11:10:45 @saver.py:79]\u001b[0m Model saved to ../output/Chicago/DATGAN2_1000/model\\model-88725.\n",
      "\u001b[32m[1026 11:10:45 @monitor.py:467]\u001b[0m GAN_loss/discrim/accuracy_fake: 0.956\n",
      "\u001b[32m[1026 11:10:45 @monitor.py:467]\u001b[0m GAN_loss/discrim/accuracy_real: 0.048\n",
      "\u001b[32m[1026 11:10:45 @monitor.py:467]\u001b[0m GAN_loss/discrim/loss: 0.64836\n",
      "\u001b[32m[1026 11:10:45 @monitor.py:467]\u001b[0m GAN_loss/gen/final-g-loss: 0.98836\n",
      "\u001b[32m[1026 11:10:45 @monitor.py:467]\u001b[0m GAN_loss/gen/klloss: 0.043407\n",
      "\u001b[32m[1026 11:10:45 @monitor.py:467]\u001b[0m GAN_loss/gen/loss: 0.94495\n",
      "\u001b[32m[1026 11:10:45 @monitor.py:467]\u001b[0m QueueInput/queue_size: 50\n",
      "\u001b[32m[1026 11:10:45 @base.py:275]\u001b[0m Start Epoch 508 ...\n"
     ]
    },
    {
     "name": "stderr",
     "output_type": "stream",
     "text": [
      "100%|###################################################################################|175/175[00:05<00:00,32.19it/s]"
     ]
    },
    {
     "name": "stdout",
     "output_type": "stream",
     "text": [
      "\u001b[32m[1026 11:10:50 @base.py:285]\u001b[0m Epoch 508 (global_step 88900) finished, time:5.44 seconds.\n"
     ]
    },
    {
     "name": "stderr",
     "output_type": "stream",
     "text": [
      "\n"
     ]
    },
    {
     "name": "stdout",
     "output_type": "stream",
     "text": [
      "\u001b[32m[1026 11:10:50 @saver.py:79]\u001b[0m Model saved to ../output/Chicago/DATGAN2_1000/model\\model-88900.\n",
      "\u001b[32m[1026 11:10:50 @monitor.py:467]\u001b[0m GAN_loss/discrim/accuracy_fake: 0.966\n",
      "\u001b[32m[1026 11:10:50 @monitor.py:467]\u001b[0m GAN_loss/discrim/accuracy_real: 0.054\n",
      "\u001b[32m[1026 11:10:50 @monitor.py:467]\u001b[0m GAN_loss/discrim/loss: 0.64864\n",
      "\u001b[32m[1026 11:10:50 @monitor.py:467]\u001b[0m GAN_loss/gen/final-g-loss: 1.0359\n",
      "\u001b[32m[1026 11:10:50 @monitor.py:467]\u001b[0m GAN_loss/gen/klloss: 0.084545\n",
      "\u001b[32m[1026 11:10:50 @monitor.py:467]\u001b[0m GAN_loss/gen/loss: 0.95136\n",
      "\u001b[32m[1026 11:10:50 @monitor.py:467]\u001b[0m QueueInput/queue_size: 50\n",
      "\u001b[32m[1026 11:10:50 @base.py:275]\u001b[0m Start Epoch 509 ...\n"
     ]
    },
    {
     "name": "stderr",
     "output_type": "stream",
     "text": [
      "100%|###################################################################################|175/175[00:05<00:00,32.17it/s]"
     ]
    },
    {
     "name": "stdout",
     "output_type": "stream",
     "text": [
      "\u001b[32m[1026 11:10:56 @base.py:285]\u001b[0m Epoch 509 (global_step 89075) finished, time:5.44 seconds.\n"
     ]
    },
    {
     "name": "stderr",
     "output_type": "stream",
     "text": [
      "\n"
     ]
    },
    {
     "name": "stdout",
     "output_type": "stream",
     "text": [
      "\u001b[32m[1026 11:10:56 @saver.py:79]\u001b[0m Model saved to ../output/Chicago/DATGAN2_1000/model\\model-89075.\n",
      "\u001b[32m[1026 11:10:56 @monitor.py:467]\u001b[0m GAN_loss/discrim/accuracy_fake: 0.968\n",
      "\u001b[32m[1026 11:10:56 @monitor.py:467]\u001b[0m GAN_loss/discrim/accuracy_real: 0.066\n",
      "\u001b[32m[1026 11:10:56 @monitor.py:467]\u001b[0m GAN_loss/discrim/loss: 0.65024\n",
      "\u001b[32m[1026 11:10:56 @monitor.py:467]\u001b[0m GAN_loss/gen/final-g-loss: 1.0115\n",
      "\u001b[32m[1026 11:10:56 @monitor.py:467]\u001b[0m GAN_loss/gen/klloss: 0.073132\n",
      "\u001b[32m[1026 11:10:56 @monitor.py:467]\u001b[0m GAN_loss/gen/loss: 0.93832\n",
      "\u001b[32m[1026 11:10:56 @monitor.py:467]\u001b[0m QueueInput/queue_size: 50\n",
      "\u001b[32m[1026 11:10:56 @base.py:275]\u001b[0m Start Epoch 510 ...\n"
     ]
    },
    {
     "name": "stderr",
     "output_type": "stream",
     "text": [
      "100%|###################################################################################|175/175[00:05<00:00,32.20it/s]"
     ]
    },
    {
     "name": "stdout",
     "output_type": "stream",
     "text": [
      "\u001b[32m[1026 11:11:01 @base.py:285]\u001b[0m Epoch 510 (global_step 89250) finished, time:5.44 seconds.\n"
     ]
    },
    {
     "name": "stderr",
     "output_type": "stream",
     "text": [
      "\n"
     ]
    },
    {
     "name": "stdout",
     "output_type": "stream",
     "text": [
      "\u001b[32m[1026 11:11:01 @saver.py:79]\u001b[0m Model saved to ../output/Chicago/DATGAN2_1000/model\\model-89250.\n",
      "\u001b[32m[1026 11:11:01 @monitor.py:467]\u001b[0m GAN_loss/discrim/accuracy_fake: 0.968\n",
      "\u001b[32m[1026 11:11:01 @monitor.py:467]\u001b[0m GAN_loss/discrim/accuracy_real: 0.038\n",
      "\u001b[32m[1026 11:11:01 @monitor.py:467]\u001b[0m GAN_loss/discrim/loss: 0.65153\n",
      "\u001b[32m[1026 11:11:01 @monitor.py:467]\u001b[0m GAN_loss/gen/final-g-loss: 1.0288\n",
      "\u001b[32m[1026 11:11:01 @monitor.py:467]\u001b[0m GAN_loss/gen/klloss: 0.084316\n",
      "\u001b[32m[1026 11:11:01 @monitor.py:467]\u001b[0m GAN_loss/gen/loss: 0.94452\n",
      "\u001b[32m[1026 11:11:01 @monitor.py:467]\u001b[0m QueueInput/queue_size: 50\n",
      "\u001b[32m[1026 11:11:01 @base.py:275]\u001b[0m Start Epoch 511 ...\n"
     ]
    },
    {
     "name": "stderr",
     "output_type": "stream",
     "text": [
      "100%|###################################################################################|175/175[00:05<00:00,32.20it/s]"
     ]
    },
    {
     "name": "stdout",
     "output_type": "stream",
     "text": [
      "\u001b[32m[1026 11:11:07 @base.py:285]\u001b[0m Epoch 511 (global_step 89425) finished, time:5.43 seconds.\n"
     ]
    },
    {
     "name": "stderr",
     "output_type": "stream",
     "text": [
      "\n"
     ]
    },
    {
     "name": "stdout",
     "output_type": "stream",
     "text": [
      "WARNING:tensorflow:From D:\\Users\\glede\\anaconda3\\envs\\py37\\lib\\site-packages\\tensorflow_core\\python\\training\\saver.py:963: remove_checkpoint (from tensorflow.python.training.checkpoint_management) is deprecated and will be removed in a future version.\n",
      "Instructions for updating:\n",
      "Use standard file APIs to delete files with this prefix.\n",
      "\u001b[32m[1026 11:11:07 @saver.py:79]\u001b[0m Model saved to ../output/Chicago/DATGAN2_1000/model\\model-89425.\n",
      "\u001b[32m[1026 11:11:07 @monitor.py:467]\u001b[0m GAN_loss/discrim/accuracy_fake: 0.968\n",
      "\u001b[32m[1026 11:11:07 @monitor.py:467]\u001b[0m GAN_loss/discrim/accuracy_real: 0.054\n",
      "\u001b[32m[1026 11:11:07 @monitor.py:467]\u001b[0m GAN_loss/discrim/loss: 0.64534\n",
      "\u001b[32m[1026 11:11:07 @monitor.py:467]\u001b[0m GAN_loss/gen/final-g-loss: 0.99622\n",
      "\u001b[32m[1026 11:11:07 @monitor.py:467]\u001b[0m GAN_loss/gen/klloss: 0.050347\n",
      "\u001b[32m[1026 11:11:07 @monitor.py:467]\u001b[0m GAN_loss/gen/loss: 0.94587\n",
      "\u001b[32m[1026 11:11:07 @monitor.py:467]\u001b[0m QueueInput/queue_size: 50\n",
      "\u001b[32m[1026 11:11:07 @base.py:275]\u001b[0m Start Epoch 512 ...\n"
     ]
    },
    {
     "name": "stderr",
     "output_type": "stream",
     "text": [
      "100%|###################################################################################|175/175[00:05<00:00,32.15it/s]"
     ]
    },
    {
     "name": "stdout",
     "output_type": "stream",
     "text": [
      "\u001b[32m[1026 11:11:13 @base.py:285]\u001b[0m Epoch 512 (global_step 89600) finished, time:5.44 seconds.\n",
      "\u001b[32m[1026 11:11:13 @saver.py:79]\u001b[0m Model saved to ../output/Chicago/DATGAN2_1000/model\\model-89600.\n",
      "\u001b[32m[1026 11:11:13 @monitor.py:467]\u001b[0m GAN_loss/discrim/accuracy_fake: 0.966\n",
      "\u001b[32m[1026 11:11:13 @monitor.py:467]\u001b[0m GAN_loss/discrim/accuracy_real: 0.062\n",
      "\u001b[32m[1026 11:11:13 @monitor.py:467]\u001b[0m GAN_loss/discrim/loss: 0.64901\n",
      "\u001b[32m[1026 11:11:13 @monitor.py:467]\u001b[0m GAN_loss/gen/final-g-loss: 0.99905\n",
      "\u001b[32m[1026 11:11:13 @monitor.py:467]\u001b[0m GAN_loss/gen/klloss: 0.056053\n",
      "\u001b[32m[1026 11:11:13 @monitor.py:467]\u001b[0m GAN_loss/gen/loss: 0.943\n",
      "\u001b[32m[1026 11:11:13 @monitor.py:467]\u001b[0m QueueInput/queue_size: 50\n",
      "\u001b[32m[1026 11:11:13 @base.py:275]\u001b[0m Start Epoch 513 ...\n"
     ]
    },
    {
     "name": "stderr",
     "output_type": "stream",
     "text": [
      "\n",
      "100%|###################################################################################|175/175[00:05<00:00,32.19it/s]"
     ]
    },
    {
     "name": "stdout",
     "output_type": "stream",
     "text": [
      "\u001b[32m[1026 11:11:18 @base.py:285]\u001b[0m Epoch 513 (global_step 89775) finished, time:5.44 seconds.\n"
     ]
    },
    {
     "name": "stderr",
     "output_type": "stream",
     "text": [
      "\n"
     ]
    },
    {
     "name": "stdout",
     "output_type": "stream",
     "text": [
      "\u001b[32m[1026 11:11:18 @saver.py:79]\u001b[0m Model saved to ../output/Chicago/DATGAN2_1000/model\\model-89775.\n",
      "\u001b[32m[1026 11:11:18 @monitor.py:467]\u001b[0m GAN_loss/discrim/accuracy_fake: 0.958\n",
      "\u001b[32m[1026 11:11:18 @monitor.py:467]\u001b[0m GAN_loss/discrim/accuracy_real: 0.048\n",
      "\u001b[32m[1026 11:11:18 @monitor.py:467]\u001b[0m GAN_loss/discrim/loss: 0.65048\n",
      "\u001b[32m[1026 11:11:18 @monitor.py:467]\u001b[0m GAN_loss/gen/final-g-loss: 0.99309\n",
      "\u001b[32m[1026 11:11:18 @monitor.py:467]\u001b[0m GAN_loss/gen/klloss: 0.046171\n",
      "\u001b[32m[1026 11:11:18 @monitor.py:467]\u001b[0m GAN_loss/gen/loss: 0.94692\n",
      "\u001b[32m[1026 11:11:18 @monitor.py:467]\u001b[0m QueueInput/queue_size: 50\n",
      "\u001b[32m[1026 11:11:18 @base.py:275]\u001b[0m Start Epoch 514 ...\n"
     ]
    },
    {
     "name": "stderr",
     "output_type": "stream",
     "text": [
      "100%|###################################################################################|175/175[00:05<00:00,32.17it/s]"
     ]
    },
    {
     "name": "stdout",
     "output_type": "stream",
     "text": [
      "\u001b[32m[1026 11:11:24 @base.py:285]\u001b[0m Epoch 514 (global_step 89950) finished, time:5.44 seconds.\n",
      "\u001b[32m[1026 11:11:24 @saver.py:79]\u001b[0m Model saved to ../output/Chicago/DATGAN2_1000/model\\model-89950.\n",
      "\u001b[32m[1026 11:11:24 @monitor.py:467]\u001b[0m GAN_loss/discrim/accuracy_fake: 0.964\n"
     ]
    },
    {
     "name": "stderr",
     "output_type": "stream",
     "text": [
      "\n"
     ]
    },
    {
     "name": "stdout",
     "output_type": "stream",
     "text": [
      "\u001b[32m[1026 11:11:24 @monitor.py:467]\u001b[0m GAN_loss/discrim/accuracy_real: 0.046\n",
      "\u001b[32m[1026 11:11:24 @monitor.py:467]\u001b[0m GAN_loss/discrim/loss: 0.64882\n",
      "\u001b[32m[1026 11:11:24 @monitor.py:467]\u001b[0m GAN_loss/gen/final-g-loss: 1.0016\n",
      "\u001b[32m[1026 11:11:24 @monitor.py:467]\u001b[0m GAN_loss/gen/klloss: 0.060787\n",
      "\u001b[32m[1026 11:11:24 @monitor.py:467]\u001b[0m GAN_loss/gen/loss: 0.94086\n",
      "\u001b[32m[1026 11:11:24 @monitor.py:467]\u001b[0m QueueInput/queue_size: 50\n",
      "\u001b[32m[1026 11:11:24 @base.py:275]\u001b[0m Start Epoch 515 ...\n"
     ]
    },
    {
     "name": "stderr",
     "output_type": "stream",
     "text": [
      "100%|###################################################################################|175/175[00:05<00:00,32.02it/s]"
     ]
    },
    {
     "name": "stdout",
     "output_type": "stream",
     "text": [
      "\u001b[32m[1026 11:11:29 @base.py:285]\u001b[0m Epoch 515 (global_step 90125) finished, time:5.47 seconds.\n",
      "\u001b[32m[1026 11:11:29 @saver.py:79]\u001b[0m Model saved to ../output/Chicago/DATGAN2_1000/model\\model-90125.\n",
      "\u001b[32m[1026 11:11:30 @monitor.py:467]\u001b[0m GAN_loss/discrim/accuracy_fake: 0.966\n",
      "\u001b[32m[1026 11:11:30 @monitor.py:467]\u001b[0m GAN_loss/discrim/accuracy_real: 0.072\n",
      "\u001b[32m[1026 11:11:30 @monitor.py:467]\u001b[0m GAN_loss/discrim/loss: 0.64496\n",
      "\u001b[32m[1026 11:11:30 @monitor.py:467]\u001b[0m GAN_loss/gen/final-g-loss: 1.036\n",
      "\u001b[32m[1026 11:11:30 @monitor.py:467]\u001b[0m GAN_loss/gen/klloss: 0.083459\n",
      "\u001b[32m[1026 11:11:30 @monitor.py:467]\u001b[0m GAN_loss/gen/loss: 0.95251\n",
      "\u001b[32m[1026 11:11:30 @monitor.py:467]\u001b[0m QueueInput/queue_size: 50\n",
      "\u001b[32m[1026 11:11:30 @base.py:275]\u001b[0m Start Epoch 516 ...\n"
     ]
    },
    {
     "name": "stderr",
     "output_type": "stream",
     "text": [
      "\n",
      "100%|###################################################################################|175/175[00:05<00:00,32.18it/s]"
     ]
    },
    {
     "name": "stdout",
     "output_type": "stream",
     "text": [
      "\u001b[32m[1026 11:11:35 @base.py:285]\u001b[0m Epoch 516 (global_step 90300) finished, time:5.44 seconds.\n"
     ]
    },
    {
     "name": "stderr",
     "output_type": "stream",
     "text": [
      "\n"
     ]
    },
    {
     "name": "stdout",
     "output_type": "stream",
     "text": [
      "\u001b[32m[1026 11:11:35 @saver.py:79]\u001b[0m Model saved to ../output/Chicago/DATGAN2_1000/model\\model-90300.\n",
      "\u001b[32m[1026 11:11:35 @monitor.py:467]\u001b[0m GAN_loss/discrim/accuracy_fake: 0.948\n",
      "\u001b[32m[1026 11:11:35 @monitor.py:467]\u001b[0m GAN_loss/discrim/accuracy_real: 0.05\n",
      "\u001b[32m[1026 11:11:35 @monitor.py:467]\u001b[0m GAN_loss/discrim/loss: 0.64708\n",
      "\u001b[32m[1026 11:11:35 @monitor.py:467]\u001b[0m GAN_loss/gen/final-g-loss: 0.99717\n",
      "\u001b[32m[1026 11:11:35 @monitor.py:467]\u001b[0m GAN_loss/gen/klloss: 0.053707\n",
      "\u001b[32m[1026 11:11:35 @monitor.py:467]\u001b[0m GAN_loss/gen/loss: 0.94347\n",
      "\u001b[32m[1026 11:11:35 @monitor.py:467]\u001b[0m QueueInput/queue_size: 50\n",
      "\u001b[32m[1026 11:11:35 @base.py:275]\u001b[0m Start Epoch 517 ...\n"
     ]
    },
    {
     "name": "stderr",
     "output_type": "stream",
     "text": [
      "100%|###################################################################################|175/175[00:05<00:00,32.21it/s]"
     ]
    },
    {
     "name": "stdout",
     "output_type": "stream",
     "text": [
      "\u001b[32m[1026 11:11:41 @base.py:285]\u001b[0m Epoch 517 (global_step 90475) finished, time:5.43 seconds.\n",
      "\u001b[32m[1026 11:11:41 @saver.py:79]\u001b[0m Model saved to ../output/Chicago/DATGAN2_1000/model\\model-90475.\n",
      "\u001b[32m[1026 11:11:41 @monitor.py:467]\u001b[0m GAN_loss/discrim/accuracy_fake: 0.958\n",
      "\u001b[32m[1026 11:11:41 @monitor.py:467]\u001b[0m GAN_loss/discrim/accuracy_real: 0.062\n",
      "\u001b[32m[1026 11:11:41 @monitor.py:467]\u001b[0m GAN_loss/discrim/loss: 0.65023\n",
      "\u001b[32m[1026 11:11:41 @monitor.py:467]\u001b[0m GAN_loss/gen/final-g-loss: 1.0086\n",
      "\u001b[32m[1026 11:11:41 @monitor.py:467]\u001b[0m GAN_loss/gen/klloss: 0.06664\n",
      "\u001b[32m[1026 11:11:41 @monitor.py:467]\u001b[0m GAN_loss/gen/loss: 0.94198\n",
      "\u001b[32m[1026 11:11:41 @monitor.py:467]\u001b[0m QueueInput/queue_size: 50\n",
      "\u001b[32m[1026 11:11:41 @base.py:275]\u001b[0m Start Epoch 518 ...\n"
     ]
    },
    {
     "name": "stderr",
     "output_type": "stream",
     "text": [
      "\n",
      "100%|###################################################################################|175/175[00:05<00:00,32.16it/s]"
     ]
    },
    {
     "name": "stdout",
     "output_type": "stream",
     "text": [
      "\u001b[32m[1026 11:11:46 @base.py:285]\u001b[0m Epoch 518 (global_step 90650) finished, time:5.44 seconds.\n"
     ]
    },
    {
     "name": "stderr",
     "output_type": "stream",
     "text": [
      "\n"
     ]
    },
    {
     "name": "stdout",
     "output_type": "stream",
     "text": [
      "\u001b[32m[1026 11:11:46 @saver.py:79]\u001b[0m Model saved to ../output/Chicago/DATGAN2_1000/model\\model-90650.\n",
      "\u001b[32m[1026 11:11:46 @monitor.py:467]\u001b[0m GAN_loss/discrim/accuracy_fake: 0.97\n",
      "\u001b[32m[1026 11:11:46 @monitor.py:467]\u001b[0m GAN_loss/discrim/accuracy_real: 0.052\n",
      "\u001b[32m[1026 11:11:46 @monitor.py:467]\u001b[0m GAN_loss/discrim/loss: 0.6464\n",
      "\u001b[32m[1026 11:11:46 @monitor.py:467]\u001b[0m GAN_loss/gen/final-g-loss: 1.0009\n",
      "\u001b[32m[1026 11:11:46 @monitor.py:467]\u001b[0m GAN_loss/gen/klloss: 0.054911\n",
      "\u001b[32m[1026 11:11:46 @monitor.py:467]\u001b[0m GAN_loss/gen/loss: 0.946\n",
      "\u001b[32m[1026 11:11:46 @monitor.py:467]\u001b[0m QueueInput/queue_size: 50\n",
      "\u001b[32m[1026 11:11:46 @base.py:275]\u001b[0m Start Epoch 519 ...\n"
     ]
    },
    {
     "name": "stderr",
     "output_type": "stream",
     "text": [
      "100%|###################################################################################|175/175[00:05<00:00,32.19it/s]"
     ]
    },
    {
     "name": "stdout",
     "output_type": "stream",
     "text": [
      "\u001b[32m[1026 11:11:52 @base.py:285]\u001b[0m Epoch 519 (global_step 90825) finished, time:5.44 seconds.\n"
     ]
    },
    {
     "name": "stderr",
     "output_type": "stream",
     "text": [
      "\n"
     ]
    },
    {
     "name": "stdout",
     "output_type": "stream",
     "text": [
      "\u001b[32m[1026 11:11:52 @saver.py:79]\u001b[0m Model saved to ../output/Chicago/DATGAN2_1000/model\\model-90825.\n",
      "\u001b[32m[1026 11:11:52 @monitor.py:467]\u001b[0m GAN_loss/discrim/accuracy_fake: 0.96\n",
      "\u001b[32m[1026 11:11:52 @monitor.py:467]\u001b[0m GAN_loss/discrim/accuracy_real: 0.052\n",
      "\u001b[32m[1026 11:11:52 @monitor.py:467]\u001b[0m GAN_loss/discrim/loss: 0.65281\n",
      "\u001b[32m[1026 11:11:52 @monitor.py:467]\u001b[0m GAN_loss/gen/final-g-loss: 1.0079\n",
      "\u001b[32m[1026 11:11:52 @monitor.py:467]\u001b[0m GAN_loss/gen/klloss: 0.068942\n",
      "\u001b[32m[1026 11:11:52 @monitor.py:467]\u001b[0m GAN_loss/gen/loss: 0.93892\n",
      "\u001b[32m[1026 11:11:52 @monitor.py:467]\u001b[0m QueueInput/queue_size: 50\n",
      "\u001b[32m[1026 11:11:52 @base.py:275]\u001b[0m Start Epoch 520 ...\n"
     ]
    },
    {
     "name": "stderr",
     "output_type": "stream",
     "text": [
      "100%|###################################################################################|175/175[00:05<00:00,32.14it/s]"
     ]
    },
    {
     "name": "stdout",
     "output_type": "stream",
     "text": [
      "\u001b[32m[1026 11:11:58 @base.py:285]\u001b[0m Epoch 520 (global_step 91000) finished, time:5.45 seconds.\n",
      "\u001b[32m[1026 11:11:58 @saver.py:79]\u001b[0m Model saved to ../output/Chicago/DATGAN2_1000/model\\model-91000.\n",
      "\u001b[32m[1026 11:11:58 @monitor.py:467]\u001b[0m GAN_loss/discrim/accuracy_fake: 0.976\n",
      "\u001b[32m[1026 11:11:58 @monitor.py:467]\u001b[0m GAN_loss/discrim/accuracy_real: 0.056\n",
      "\u001b[32m[1026 11:11:58 @monitor.py:467]\u001b[0m GAN_loss/discrim/loss: 0.64568\n",
      "\u001b[32m[1026 11:11:58 @monitor.py:467]\u001b[0m GAN_loss/gen/final-g-loss: 1.0238\n",
      "\u001b[32m[1026 11:11:58 @monitor.py:467]\u001b[0m GAN_loss/gen/klloss: 0.08134\n",
      "\u001b[32m[1026 11:11:58 @monitor.py:467]\u001b[0m GAN_loss/gen/loss: 0.94245\n",
      "\u001b[32m[1026 11:11:58 @monitor.py:467]\u001b[0m QueueInput/queue_size: 50\n",
      "\u001b[32m[1026 11:11:58 @base.py:275]\u001b[0m Start Epoch 521 ...\n"
     ]
    },
    {
     "name": "stderr",
     "output_type": "stream",
     "text": [
      "\n",
      "100%|###################################################################################|175/175[00:05<00:00,32.17it/s]"
     ]
    },
    {
     "name": "stdout",
     "output_type": "stream",
     "text": [
      "\u001b[32m[1026 11:12:03 @base.py:285]\u001b[0m Epoch 521 (global_step 91175) finished, time:5.44 seconds.\n"
     ]
    },
    {
     "name": "stderr",
     "output_type": "stream",
     "text": [
      "\n"
     ]
    },
    {
     "name": "stdout",
     "output_type": "stream",
     "text": [
      "\u001b[32m[1026 11:12:03 @saver.py:79]\u001b[0m Model saved to ../output/Chicago/DATGAN2_1000/model\\model-91175.\n",
      "\u001b[32m[1026 11:12:03 @monitor.py:467]\u001b[0m GAN_loss/discrim/accuracy_fake: 0.962\n",
      "\u001b[32m[1026 11:12:03 @monitor.py:467]\u001b[0m GAN_loss/discrim/accuracy_real: 0.068\n",
      "\u001b[32m[1026 11:12:03 @monitor.py:467]\u001b[0m GAN_loss/discrim/loss: 0.6439\n",
      "\u001b[32m[1026 11:12:03 @monitor.py:467]\u001b[0m GAN_loss/gen/final-g-loss: 0.99624\n",
      "\u001b[32m[1026 11:12:03 @monitor.py:467]\u001b[0m GAN_loss/gen/klloss: 0.043526\n",
      "\u001b[32m[1026 11:12:03 @monitor.py:467]\u001b[0m GAN_loss/gen/loss: 0.95271\n",
      "\u001b[32m[1026 11:12:03 @monitor.py:467]\u001b[0m QueueInput/queue_size: 50\n",
      "\u001b[32m[1026 11:12:03 @base.py:275]\u001b[0m Start Epoch 522 ...\n"
     ]
    },
    {
     "name": "stderr",
     "output_type": "stream",
     "text": [
      "100%|###################################################################################|175/175[00:05<00:00,32.15it/s]"
     ]
    },
    {
     "name": "stdout",
     "output_type": "stream",
     "text": [
      "\u001b[32m[1026 11:12:09 @base.py:285]\u001b[0m Epoch 522 (global_step 91350) finished, time:5.44 seconds.\n",
      "\u001b[32m[1026 11:12:09 @saver.py:79]\u001b[0m Model saved to ../output/Chicago/DATGAN2_1000/model\\model-91350.\n",
      "\u001b[32m[1026 11:12:09 @monitor.py:467]\u001b[0m GAN_loss/discrim/accuracy_fake: 0.948\n",
      "\u001b[32m[1026 11:12:09 @monitor.py:467]\u001b[0m GAN_loss/discrim/accuracy_real: 0.048\n",
      "\u001b[32m[1026 11:12:09 @monitor.py:467]\u001b[0m GAN_loss/discrim/loss: 0.64992\n",
      "\u001b[32m[1026 11:12:09 @monitor.py:467]\u001b[0m GAN_loss/gen/final-g-loss: 0.99705\n",
      "\u001b[32m[1026 11:12:09 @monitor.py:467]\u001b[0m GAN_loss/gen/klloss: 0.061122\n",
      "\u001b[32m[1026 11:12:09 @monitor.py:467]\u001b[0m GAN_loss/gen/loss: 0.93592\n",
      "\u001b[32m[1026 11:12:09 @monitor.py:467]\u001b[0m QueueInput/queue_size: 50\n",
      "\u001b[32m[1026 11:12:09 @base.py:275]\u001b[0m Start Epoch 523 ...\n"
     ]
    },
    {
     "name": "stderr",
     "output_type": "stream",
     "text": [
      "\n",
      "100%|###################################################################################|175/175[00:05<00:00,32.20it/s]"
     ]
    },
    {
     "name": "stdout",
     "output_type": "stream",
     "text": [
      "\u001b[32m[1026 11:12:14 @base.py:285]\u001b[0m Epoch 523 (global_step 91525) finished, time:5.43 seconds.\n"
     ]
    },
    {
     "name": "stderr",
     "output_type": "stream",
     "text": [
      "\n"
     ]
    },
    {
     "name": "stdout",
     "output_type": "stream",
     "text": [
      "\u001b[32m[1026 11:12:14 @saver.py:79]\u001b[0m Model saved to ../output/Chicago/DATGAN2_1000/model\\model-91525.\n",
      "\u001b[32m[1026 11:12:15 @monitor.py:467]\u001b[0m GAN_loss/discrim/accuracy_fake: 0.954\n",
      "\u001b[32m[1026 11:12:15 @monitor.py:467]\u001b[0m GAN_loss/discrim/accuracy_real: 0.064\n",
      "\u001b[32m[1026 11:12:15 @monitor.py:467]\u001b[0m GAN_loss/discrim/loss: 0.64457\n",
      "\u001b[32m[1026 11:12:15 @monitor.py:467]\u001b[0m GAN_loss/gen/final-g-loss: 1.03\n",
      "\u001b[32m[1026 11:12:15 @monitor.py:467]\u001b[0m GAN_loss/gen/klloss: 0.072277\n",
      "\u001b[32m[1026 11:12:15 @monitor.py:467]\u001b[0m GAN_loss/gen/loss: 0.9577\n",
      "\u001b[32m[1026 11:12:15 @monitor.py:467]\u001b[0m QueueInput/queue_size: 50\n",
      "\u001b[32m[1026 11:12:15 @base.py:275]\u001b[0m Start Epoch 524 ...\n"
     ]
    },
    {
     "name": "stderr",
     "output_type": "stream",
     "text": [
      "100%|###################################################################################|175/175[00:05<00:00,32.13it/s]"
     ]
    },
    {
     "name": "stdout",
     "output_type": "stream",
     "text": [
      "\u001b[32m[1026 11:12:20 @base.py:285]\u001b[0m Epoch 524 (global_step 91700) finished, time:5.45 seconds.\n",
      "\u001b[32m[1026 11:12:20 @saver.py:79]\u001b[0m Model saved to ../output/Chicago/DATGAN2_1000/model\\model-91700.\n",
      "\u001b[32m[1026 11:12:20 @monitor.py:467]\u001b[0m GAN_loss/discrim/accuracy_fake: 0.962\n",
      "\u001b[32m[1026 11:12:20 @monitor.py:467]\u001b[0m GAN_loss/discrim/accuracy_real: 0.064\n",
      "\u001b[32m[1026 11:12:20 @monitor.py:467]\u001b[0m GAN_loss/discrim/loss: 0.64934\n",
      "\u001b[32m[1026 11:12:20 @monitor.py:467]\u001b[0m GAN_loss/gen/final-g-loss: 1.0131\n",
      "\u001b[32m[1026 11:12:20 @monitor.py:467]\u001b[0m GAN_loss/gen/klloss: 0.069473\n",
      "\u001b[32m[1026 11:12:20 @monitor.py:467]\u001b[0m GAN_loss/gen/loss: 0.94367\n",
      "\u001b[32m[1026 11:12:20 @monitor.py:467]\u001b[0m QueueInput/queue_size: 50\n",
      "\u001b[32m[1026 11:12:20 @base.py:275]\u001b[0m Start Epoch 525 ...\n"
     ]
    },
    {
     "name": "stderr",
     "output_type": "stream",
     "text": [
      "\n",
      "100%|###################################################################################|175/175[00:05<00:00,32.22it/s]"
     ]
    },
    {
     "name": "stdout",
     "output_type": "stream",
     "text": [
      "\u001b[32m[1026 11:12:26 @base.py:285]\u001b[0m Epoch 525 (global_step 91875) finished, time:5.43 seconds.\n"
     ]
    },
    {
     "name": "stderr",
     "output_type": "stream",
     "text": [
      "\n"
     ]
    },
    {
     "name": "stdout",
     "output_type": "stream",
     "text": [
      "\u001b[32m[1026 11:12:26 @saver.py:79]\u001b[0m Model saved to ../output/Chicago/DATGAN2_1000/model\\model-91875.\n",
      "\u001b[32m[1026 11:12:26 @monitor.py:467]\u001b[0m GAN_loss/discrim/accuracy_fake: 0.968\n",
      "\u001b[32m[1026 11:12:26 @monitor.py:467]\u001b[0m GAN_loss/discrim/accuracy_real: 0.044\n",
      "\u001b[32m[1026 11:12:26 @monitor.py:467]\u001b[0m GAN_loss/discrim/loss: 0.64635\n",
      "\u001b[32m[1026 11:12:26 @monitor.py:467]\u001b[0m GAN_loss/gen/final-g-loss: 1.0136\n",
      "\u001b[32m[1026 11:12:26 @monitor.py:467]\u001b[0m GAN_loss/gen/klloss: 0.059353\n",
      "\u001b[32m[1026 11:12:26 @monitor.py:467]\u001b[0m GAN_loss/gen/loss: 0.95425\n",
      "\u001b[32m[1026 11:12:26 @monitor.py:467]\u001b[0m QueueInput/queue_size: 50\n",
      "\u001b[32m[1026 11:12:26 @base.py:275]\u001b[0m Start Epoch 526 ...\n"
     ]
    },
    {
     "name": "stderr",
     "output_type": "stream",
     "text": [
      "100%|###################################################################################|175/175[00:05<00:00,32.15it/s]"
     ]
    },
    {
     "name": "stdout",
     "output_type": "stream",
     "text": [
      "\u001b[32m[1026 11:12:31 @base.py:285]\u001b[0m Epoch 526 (global_step 92050) finished, time:5.44 seconds.\n",
      "\u001b[32m[1026 11:12:31 @saver.py:79]\u001b[0m Model saved to ../output/Chicago/DATGAN2_1000/model\\model-92050.\n",
      "\u001b[32m[1026 11:12:31 @monitor.py:467]\u001b[0m GAN_loss/discrim/accuracy_fake: 0.974\n",
      "\u001b[32m[1026 11:12:31 @monitor.py:467]\u001b[0m GAN_loss/discrim/accuracy_real: 0.062\n",
      "\u001b[32m[1026 11:12:31 @monitor.py:467]\u001b[0m GAN_loss/discrim/loss: 0.6435\n",
      "\u001b[32m[1026 11:12:31 @monitor.py:467]\u001b[0m GAN_loss/gen/final-g-loss: 1.0201\n",
      "\u001b[32m[1026 11:12:31 @monitor.py:467]\u001b[0m GAN_loss/gen/klloss: 0.065816\n",
      "\u001b[32m[1026 11:12:31 @monitor.py:467]\u001b[0m GAN_loss/gen/loss: 0.95429\n",
      "\u001b[32m[1026 11:12:31 @monitor.py:467]\u001b[0m QueueInput/queue_size: 50\n",
      "\u001b[32m[1026 11:12:31 @base.py:275]\u001b[0m Start Epoch 527 ...\n"
     ]
    },
    {
     "name": "stderr",
     "output_type": "stream",
     "text": [
      "\n",
      "100%|###################################################################################|175/175[00:05<00:00,32.22it/s]"
     ]
    },
    {
     "name": "stdout",
     "output_type": "stream",
     "text": [
      "\u001b[32m[1026 11:12:37 @base.py:285]\u001b[0m Epoch 527 (global_step 92225) finished, time:5.43 seconds.\n"
     ]
    },
    {
     "name": "stderr",
     "output_type": "stream",
     "text": [
      "\n"
     ]
    },
    {
     "name": "stdout",
     "output_type": "stream",
     "text": [
      "\u001b[32m[1026 11:12:37 @saver.py:79]\u001b[0m Model saved to ../output/Chicago/DATGAN2_1000/model\\model-92225.\n",
      "\u001b[32m[1026 11:12:37 @monitor.py:467]\u001b[0m GAN_loss/discrim/accuracy_fake: 0.97\n",
      "\u001b[32m[1026 11:12:37 @monitor.py:467]\u001b[0m GAN_loss/discrim/accuracy_real: 0.05\n",
      "\u001b[32m[1026 11:12:37 @monitor.py:467]\u001b[0m GAN_loss/discrim/loss: 0.64623\n",
      "\u001b[32m[1026 11:12:37 @monitor.py:467]\u001b[0m GAN_loss/gen/final-g-loss: 1.0061\n",
      "\u001b[32m[1026 11:12:37 @monitor.py:467]\u001b[0m GAN_loss/gen/klloss: 0.055837\n",
      "\u001b[32m[1026 11:12:37 @monitor.py:467]\u001b[0m GAN_loss/gen/loss: 0.95023\n",
      "\u001b[32m[1026 11:12:37 @monitor.py:467]\u001b[0m QueueInput/queue_size: 50\n",
      "\u001b[32m[1026 11:12:37 @base.py:275]\u001b[0m Start Epoch 528 ...\n"
     ]
    },
    {
     "name": "stderr",
     "output_type": "stream",
     "text": [
      "100%|###################################################################################|175/175[00:05<00:00,32.17it/s]"
     ]
    },
    {
     "name": "stdout",
     "output_type": "stream",
     "text": [
      "\u001b[32m[1026 11:12:42 @base.py:285]\u001b[0m Epoch 528 (global_step 92400) finished, time:5.44 seconds.\n",
      "\u001b[32m[1026 11:12:43 @saver.py:79]\u001b[0m Model saved to ../output/Chicago/DATGAN2_1000/model\\model-92400.\n",
      "\u001b[32m[1026 11:12:43 @monitor.py:467]\u001b[0m GAN_loss/discrim/accuracy_fake: 0.97\n",
      "\u001b[32m[1026 11:12:43 @monitor.py:467]\u001b[0m GAN_loss/discrim/accuracy_real: 0.036\n",
      "\u001b[32m[1026 11:12:43 @monitor.py:467]\u001b[0m GAN_loss/discrim/loss: 0.65163\n",
      "\u001b[32m[1026 11:12:43 @monitor.py:467]\u001b[0m GAN_loss/gen/final-g-loss: 1.0226\n"
     ]
    },
    {
     "name": "stderr",
     "output_type": "stream",
     "text": [
      "\n"
     ]
    },
    {
     "name": "stdout",
     "output_type": "stream",
     "text": [
      "\u001b[32m[1026 11:12:43 @monitor.py:467]\u001b[0m GAN_loss/gen/klloss: 0.07446\n",
      "\u001b[32m[1026 11:12:43 @monitor.py:467]\u001b[0m GAN_loss/gen/loss: 0.94819\n",
      "\u001b[32m[1026 11:12:43 @monitor.py:467]\u001b[0m QueueInput/queue_size: 50\n",
      "\u001b[32m[1026 11:12:43 @base.py:275]\u001b[0m Start Epoch 529 ...\n"
     ]
    },
    {
     "name": "stderr",
     "output_type": "stream",
     "text": [
      "100%|###################################################################################|175/175[00:05<00:00,32.15it/s]"
     ]
    },
    {
     "name": "stdout",
     "output_type": "stream",
     "text": [
      "\u001b[32m[1026 11:12:48 @base.py:285]\u001b[0m Epoch 529 (global_step 92575) finished, time:5.44 seconds.\n",
      "\u001b[32m[1026 11:12:48 @saver.py:79]\u001b[0m Model saved to ../output/Chicago/DATGAN2_1000/model\\model-92575.\n",
      "\u001b[32m[1026 11:12:48 @monitor.py:467]\u001b[0m GAN_loss/discrim/accuracy_fake: 0.968\n"
     ]
    },
    {
     "name": "stderr",
     "output_type": "stream",
     "text": [
      "\n"
     ]
    },
    {
     "name": "stdout",
     "output_type": "stream",
     "text": [
      "\u001b[32m[1026 11:12:48 @monitor.py:467]\u001b[0m GAN_loss/discrim/accuracy_real: 0.058\n",
      "\u001b[32m[1026 11:12:48 @monitor.py:467]\u001b[0m GAN_loss/discrim/loss: 0.64722\n",
      "\u001b[32m[1026 11:12:48 @monitor.py:467]\u001b[0m GAN_loss/gen/final-g-loss: 1.0228\n",
      "\u001b[32m[1026 11:12:48 @monitor.py:467]\u001b[0m GAN_loss/gen/klloss: 0.07131\n",
      "\u001b[32m[1026 11:12:48 @monitor.py:467]\u001b[0m GAN_loss/gen/loss: 0.9515\n",
      "\u001b[32m[1026 11:12:48 @monitor.py:467]\u001b[0m QueueInput/queue_size: 50\n",
      "\u001b[32m[1026 11:12:48 @base.py:275]\u001b[0m Start Epoch 530 ...\n"
     ]
    },
    {
     "name": "stderr",
     "output_type": "stream",
     "text": [
      "100%|###################################################################################|175/175[00:05<00:00,32.17it/s]"
     ]
    },
    {
     "name": "stdout",
     "output_type": "stream",
     "text": [
      "\u001b[32m[1026 11:12:54 @base.py:285]\u001b[0m Epoch 530 (global_step 92750) finished, time:5.44 seconds.\n",
      "\u001b[32m[1026 11:12:54 @saver.py:79]\u001b[0m Model saved to ../output/Chicago/DATGAN2_1000/model\\model-92750.\n",
      "\u001b[32m[1026 11:12:54 @monitor.py:467]\u001b[0m GAN_loss/discrim/accuracy_fake: 0.966\n",
      "\u001b[32m[1026 11:12:54 @monitor.py:467]\u001b[0m GAN_loss/discrim/accuracy_real: 0.052\n",
      "\u001b[32m[1026 11:12:54 @monitor.py:467]\u001b[0m GAN_loss/discrim/loss: 0.6484\n",
      "\u001b[32m[1026 11:12:54 @monitor.py:467]\u001b[0m GAN_loss/gen/final-g-loss: 1.0168\n",
      "\u001b[32m[1026 11:12:54 @monitor.py:467]\u001b[0m GAN_loss/gen/klloss: 0.076331\n",
      "\u001b[32m[1026 11:12:54 @monitor.py:467]\u001b[0m GAN_loss/gen/loss: 0.94045\n",
      "\u001b[32m[1026 11:12:54 @monitor.py:467]\u001b[0m QueueInput/queue_size: 50\n"
     ]
    },
    {
     "name": "stderr",
     "output_type": "stream",
     "text": [
      "\n"
     ]
    },
    {
     "name": "stdout",
     "output_type": "stream",
     "text": [
      "\u001b[32m[1026 11:12:54 @base.py:275]\u001b[0m Start Epoch 531 ...\n"
     ]
    },
    {
     "name": "stderr",
     "output_type": "stream",
     "text": [
      "100%|###################################################################################|175/175[00:05<00:00,32.19it/s]"
     ]
    },
    {
     "name": "stdout",
     "output_type": "stream",
     "text": [
      "\u001b[32m[1026 11:12:59 @base.py:285]\u001b[0m Epoch 531 (global_step 92925) finished, time:5.44 seconds.\n"
     ]
    },
    {
     "name": "stderr",
     "output_type": "stream",
     "text": [
      "\n"
     ]
    },
    {
     "name": "stdout",
     "output_type": "stream",
     "text": [
      "\u001b[32m[1026 11:12:59 @saver.py:79]\u001b[0m Model saved to ../output/Chicago/DATGAN2_1000/model\\model-92925.\n",
      "\u001b[32m[1026 11:12:59 @monitor.py:467]\u001b[0m GAN_loss/discrim/accuracy_fake: 0.962\n",
      "\u001b[32m[1026 11:12:59 @monitor.py:467]\u001b[0m GAN_loss/discrim/accuracy_real: 0.044\n",
      "\u001b[32m[1026 11:12:59 @monitor.py:467]\u001b[0m GAN_loss/discrim/loss: 0.64716\n",
      "\u001b[32m[1026 11:12:59 @monitor.py:467]\u001b[0m GAN_loss/gen/final-g-loss: 0.99066\n",
      "\u001b[32m[1026 11:12:59 @monitor.py:467]\u001b[0m GAN_loss/gen/klloss: 0.050633\n",
      "\u001b[32m[1026 11:12:59 @monitor.py:467]\u001b[0m GAN_loss/gen/loss: 0.94003\n",
      "\u001b[32m[1026 11:12:59 @monitor.py:467]\u001b[0m QueueInput/queue_size: 50\n",
      "\u001b[32m[1026 11:12:59 @base.py:275]\u001b[0m Start Epoch 532 ...\n"
     ]
    },
    {
     "name": "stderr",
     "output_type": "stream",
     "text": [
      "100%|###################################################################################|175/175[00:05<00:00,31.79it/s]"
     ]
    },
    {
     "name": "stdout",
     "output_type": "stream",
     "text": [
      "\u001b[32m[1026 11:13:05 @base.py:285]\u001b[0m Epoch 532 (global_step 93100) finished, time:5.51 seconds.\n",
      "\u001b[32m[1026 11:13:05 @saver.py:79]\u001b[0m Model saved to ../output/Chicago/DATGAN2_1000/model\\model-93100.\n",
      "\u001b[32m[1026 11:13:05 @monitor.py:467]\u001b[0m GAN_loss/discrim/accuracy_fake: 0.97\n",
      "\u001b[32m[1026 11:13:05 @monitor.py:467]\u001b[0m GAN_loss/discrim/accuracy_real: 0.052\n",
      "\u001b[32m[1026 11:13:05 @monitor.py:467]\u001b[0m GAN_loss/discrim/loss: 0.65397\n",
      "\u001b[32m[1026 11:13:05 @monitor.py:467]\u001b[0m GAN_loss/gen/final-g-loss: 1.0169\n",
      "\u001b[32m[1026 11:13:05 @monitor.py:467]\u001b[0m GAN_loss/gen/klloss: 0.072694\n",
      "\u001b[32m[1026 11:13:05 @monitor.py:467]\u001b[0m GAN_loss/gen/loss: 0.94423\n",
      "\u001b[32m[1026 11:13:05 @monitor.py:467]\u001b[0m QueueInput/queue_size: 50\n",
      "\u001b[32m[1026 11:13:05 @base.py:275]\u001b[0m Start Epoch 533 ...\n"
     ]
    },
    {
     "name": "stderr",
     "output_type": "stream",
     "text": [
      "\n",
      "100%|###################################################################################|175/175[00:05<00:00,31.56it/s]"
     ]
    },
    {
     "name": "stdout",
     "output_type": "stream",
     "text": [
      "\u001b[32m[1026 11:13:11 @base.py:285]\u001b[0m Epoch 533 (global_step 93275) finished, time:5.55 seconds.\n",
      "\u001b[32m[1026 11:13:11 @saver.py:79]\u001b[0m Model saved to ../output/Chicago/DATGAN2_1000/model\\model-93275.\n",
      "\u001b[32m[1026 11:13:11 @monitor.py:467]\u001b[0m GAN_loss/discrim/accuracy_fake: 0.962\n"
     ]
    },
    {
     "name": "stderr",
     "output_type": "stream",
     "text": [
      "\n"
     ]
    },
    {
     "name": "stdout",
     "output_type": "stream",
     "text": [
      "\u001b[32m[1026 11:13:11 @monitor.py:467]\u001b[0m GAN_loss/discrim/accuracy_real: 0.054\n",
      "\u001b[32m[1026 11:13:11 @monitor.py:467]\u001b[0m GAN_loss/discrim/loss: 0.65023\n",
      "\u001b[32m[1026 11:13:11 @monitor.py:467]\u001b[0m GAN_loss/gen/final-g-loss: 0.9858\n",
      "\u001b[32m[1026 11:13:11 @monitor.py:467]\u001b[0m GAN_loss/gen/klloss: 0.049886\n",
      "\u001b[32m[1026 11:13:11 @monitor.py:467]\u001b[0m GAN_loss/gen/loss: 0.93592\n",
      "\u001b[32m[1026 11:13:11 @monitor.py:467]\u001b[0m QueueInput/queue_size: 50\n",
      "\u001b[32m[1026 11:13:11 @base.py:275]\u001b[0m Start Epoch 534 ...\n"
     ]
    },
    {
     "name": "stderr",
     "output_type": "stream",
     "text": [
      "100%|###################################################################################|175/175[00:05<00:00,30.31it/s]"
     ]
    },
    {
     "name": "stdout",
     "output_type": "stream",
     "text": [
      "\u001b[32m[1026 11:13:17 @base.py:285]\u001b[0m Epoch 534 (global_step 93450) finished, time:5.77 seconds.\n",
      "\u001b[32m[1026 11:13:17 @saver.py:79]\u001b[0m Model saved to ../output/Chicago/DATGAN2_1000/model\\model-93450.\n"
     ]
    },
    {
     "name": "stderr",
     "output_type": "stream",
     "text": [
      "\n"
     ]
    },
    {
     "name": "stdout",
     "output_type": "stream",
     "text": [
      "\u001b[32m[1026 11:13:17 @monitor.py:467]\u001b[0m GAN_loss/discrim/accuracy_fake: 0.968\n",
      "\u001b[32m[1026 11:13:17 @monitor.py:467]\u001b[0m GAN_loss/discrim/accuracy_real: 0.056\n",
      "\u001b[32m[1026 11:13:17 @monitor.py:467]\u001b[0m GAN_loss/discrim/loss: 0.64194\n",
      "\u001b[32m[1026 11:13:17 @monitor.py:467]\u001b[0m GAN_loss/gen/final-g-loss: 1.0025\n",
      "\u001b[32m[1026 11:13:17 @monitor.py:467]\u001b[0m GAN_loss/gen/klloss: 0.048693\n",
      "\u001b[32m[1026 11:13:17 @monitor.py:467]\u001b[0m GAN_loss/gen/loss: 0.95377\n",
      "\u001b[32m[1026 11:13:17 @monitor.py:467]\u001b[0m QueueInput/queue_size: 50\n",
      "\u001b[32m[1026 11:13:17 @base.py:275]\u001b[0m Start Epoch 535 ...\n"
     ]
    },
    {
     "name": "stderr",
     "output_type": "stream",
     "text": [
      "100%|###################################################################################|175/175[00:05<00:00,30.70it/s]"
     ]
    },
    {
     "name": "stdout",
     "output_type": "stream",
     "text": [
      "\u001b[32m[1026 11:13:23 @base.py:285]\u001b[0m Epoch 535 (global_step 93625) finished, time:5.7 seconds.\n",
      "\u001b[32m[1026 11:13:23 @saver.py:79]\u001b[0m Model saved to ../output/Chicago/DATGAN2_1000/model\\model-93625.\n",
      "\u001b[32m[1026 11:13:23 @monitor.py:467]\u001b[0m GAN_loss/discrim/accuracy_fake: 0.968\n",
      "\u001b[32m[1026 11:13:23 @monitor.py:467]\u001b[0m GAN_loss/discrim/accuracy_real: 0.042\n",
      "\u001b[32m[1026 11:13:23 @monitor.py:467]\u001b[0m GAN_loss/discrim/loss: 0.64963\n",
      "\u001b[32m[1026 11:13:23 @monitor.py:467]\u001b[0m GAN_loss/gen/final-g-loss: 1.0112\n",
      "\u001b[32m[1026 11:13:23 @monitor.py:467]\u001b[0m GAN_loss/gen/klloss: 0.061657\n",
      "\u001b[32m[1026 11:13:23 @monitor.py:467]\u001b[0m GAN_loss/gen/loss: 0.94953\n",
      "\u001b[32m[1026 11:13:23 @monitor.py:467]\u001b[0m QueueInput/queue_size: 50\n",
      "\u001b[32m[1026 11:13:23 @base.py:275]\u001b[0m Start Epoch 536 ...\n"
     ]
    },
    {
     "name": "stderr",
     "output_type": "stream",
     "text": [
      "\n",
      "100%|###################################################################################|175/175[00:06<00:00,27.72it/s]"
     ]
    },
    {
     "name": "stdout",
     "output_type": "stream",
     "text": [
      "\u001b[32m[1026 11:13:29 @base.py:285]\u001b[0m Epoch 536 (global_step 93800) finished, time:6.31 seconds.\n",
      "\u001b[32m[1026 11:13:29 @saver.py:79]\u001b[0m Model saved to ../output/Chicago/DATGAN2_1000/model\\model-93800.\n",
      "\u001b[32m[1026 11:13:29 @monitor.py:467]\u001b[0m GAN_loss/discrim/accuracy_fake: 0.96\n"
     ]
    },
    {
     "name": "stderr",
     "output_type": "stream",
     "text": [
      "\n"
     ]
    },
    {
     "name": "stdout",
     "output_type": "stream",
     "text": [
      "\u001b[32m[1026 11:13:29 @monitor.py:467]\u001b[0m GAN_loss/discrim/accuracy_real: 0.038\n",
      "\u001b[32m[1026 11:13:29 @monitor.py:467]\u001b[0m GAN_loss/discrim/loss: 0.65259\n",
      "\u001b[32m[1026 11:13:29 @monitor.py:467]\u001b[0m GAN_loss/gen/final-g-loss: 1.029\n",
      "\u001b[32m[1026 11:13:29 @monitor.py:467]\u001b[0m GAN_loss/gen/klloss: 0.092626\n",
      "\u001b[32m[1026 11:13:29 @monitor.py:467]\u001b[0m GAN_loss/gen/loss: 0.93641\n",
      "\u001b[32m[1026 11:13:29 @monitor.py:467]\u001b[0m QueueInput/queue_size: 50\n",
      "\u001b[32m[1026 11:13:29 @base.py:275]\u001b[0m Start Epoch 537 ...\n"
     ]
    },
    {
     "name": "stderr",
     "output_type": "stream",
     "text": [
      "100%|###################################################################################|175/175[00:05<00:00,32.28it/s]"
     ]
    },
    {
     "name": "stdout",
     "output_type": "stream",
     "text": [
      "\u001b[32m[1026 11:13:35 @base.py:285]\u001b[0m Epoch 537 (global_step 93975) finished, time:5.42 seconds.\n"
     ]
    },
    {
     "name": "stderr",
     "output_type": "stream",
     "text": [
      "\n"
     ]
    },
    {
     "name": "stdout",
     "output_type": "stream",
     "text": [
      "\u001b[32m[1026 11:13:35 @saver.py:79]\u001b[0m Model saved to ../output/Chicago/DATGAN2_1000/model\\model-93975.\n",
      "\u001b[32m[1026 11:13:35 @monitor.py:467]\u001b[0m GAN_loss/discrim/accuracy_fake: 0.964\n",
      "\u001b[32m[1026 11:13:35 @monitor.py:467]\u001b[0m GAN_loss/discrim/accuracy_real: 0.052\n",
      "\u001b[32m[1026 11:13:35 @monitor.py:467]\u001b[0m GAN_loss/discrim/loss: 0.64733\n",
      "\u001b[32m[1026 11:13:35 @monitor.py:467]\u001b[0m GAN_loss/gen/final-g-loss: 1.0015\n",
      "\u001b[32m[1026 11:13:35 @monitor.py:467]\u001b[0m GAN_loss/gen/klloss: 0.062287\n",
      "\u001b[32m[1026 11:13:35 @monitor.py:467]\u001b[0m GAN_loss/gen/loss: 0.93921\n",
      "\u001b[32m[1026 11:13:35 @monitor.py:467]\u001b[0m QueueInput/queue_size: 50\n",
      "\u001b[32m[1026 11:13:35 @base.py:275]\u001b[0m Start Epoch 538 ...\n"
     ]
    },
    {
     "name": "stderr",
     "output_type": "stream",
     "text": [
      "100%|###################################################################################|175/175[00:05<00:00,31.13it/s]"
     ]
    },
    {
     "name": "stdout",
     "output_type": "stream",
     "text": [
      "\u001b[32m[1026 11:13:40 @base.py:285]\u001b[0m Epoch 538 (global_step 94150) finished, time:5.62 seconds.\n",
      "\u001b[32m[1026 11:13:41 @saver.py:79]\u001b[0m Model saved to ../output/Chicago/DATGAN2_1000/model\\model-94150.\n",
      "\u001b[32m[1026 11:13:41 @monitor.py:467]\u001b[0m GAN_loss/discrim/accuracy_fake: 0.97\n"
     ]
    },
    {
     "name": "stderr",
     "output_type": "stream",
     "text": [
      "\n"
     ]
    },
    {
     "name": "stdout",
     "output_type": "stream",
     "text": [
      "\u001b[32m[1026 11:13:41 @monitor.py:467]\u001b[0m GAN_loss/discrim/accuracy_real: 0.06\n",
      "\u001b[32m[1026 11:13:41 @monitor.py:467]\u001b[0m GAN_loss/discrim/loss: 0.64986\n",
      "\u001b[32m[1026 11:13:41 @monitor.py:467]\u001b[0m GAN_loss/gen/final-g-loss: 1.0076\n",
      "\u001b[32m[1026 11:13:41 @monitor.py:467]\u001b[0m GAN_loss/gen/klloss: 0.065792\n",
      "\u001b[32m[1026 11:13:41 @monitor.py:467]\u001b[0m GAN_loss/gen/loss: 0.94182\n",
      "\u001b[32m[1026 11:13:41 @monitor.py:467]\u001b[0m QueueInput/queue_size: 50\n",
      "\u001b[32m[1026 11:13:41 @base.py:275]\u001b[0m Start Epoch 539 ...\n"
     ]
    },
    {
     "name": "stderr",
     "output_type": "stream",
     "text": [
      "100%|###################################################################################|175/175[00:05<00:00,32.27it/s]"
     ]
    },
    {
     "name": "stdout",
     "output_type": "stream",
     "text": [
      "\u001b[32m[1026 11:13:46 @base.py:285]\u001b[0m Epoch 539 (global_step 94325) finished, time:5.42 seconds.\n"
     ]
    },
    {
     "name": "stderr",
     "output_type": "stream",
     "text": [
      "\n"
     ]
    },
    {
     "name": "stdout",
     "output_type": "stream",
     "text": [
      "\u001b[32m[1026 11:13:46 @saver.py:79]\u001b[0m Model saved to ../output/Chicago/DATGAN2_1000/model\\model-94325.\n",
      "\u001b[32m[1026 11:13:46 @monitor.py:467]\u001b[0m GAN_loss/discrim/accuracy_fake: 0.976\n",
      "\u001b[32m[1026 11:13:46 @monitor.py:467]\u001b[0m GAN_loss/discrim/accuracy_real: 0.066\n",
      "\u001b[32m[1026 11:13:46 @monitor.py:467]\u001b[0m GAN_loss/discrim/loss: 0.64567\n",
      "\u001b[32m[1026 11:13:46 @monitor.py:467]\u001b[0m GAN_loss/gen/final-g-loss: 1.0151\n",
      "\u001b[32m[1026 11:13:46 @monitor.py:467]\u001b[0m GAN_loss/gen/klloss: 0.062969\n",
      "\u001b[32m[1026 11:13:46 @monitor.py:467]\u001b[0m GAN_loss/gen/loss: 0.95212\n",
      "\u001b[32m[1026 11:13:46 @monitor.py:467]\u001b[0m QueueInput/queue_size: 50\n",
      "\u001b[32m[1026 11:13:46 @base.py:275]\u001b[0m Start Epoch 540 ...\n"
     ]
    },
    {
     "name": "stderr",
     "output_type": "stream",
     "text": [
      "100%|###################################################################################|175/175[00:05<00:00,31.75it/s]"
     ]
    },
    {
     "name": "stdout",
     "output_type": "stream",
     "text": [
      "\u001b[32m[1026 11:13:52 @base.py:285]\u001b[0m Epoch 540 (global_step 94500) finished, time:5.51 seconds.\n",
      "\u001b[32m[1026 11:13:52 @saver.py:79]\u001b[0m Model saved to ../output/Chicago/DATGAN2_1000/model\\model-94500.\n"
     ]
    },
    {
     "name": "stderr",
     "output_type": "stream",
     "text": [
      "\n"
     ]
    },
    {
     "name": "stdout",
     "output_type": "stream",
     "text": [
      "\u001b[32m[1026 11:13:52 @monitor.py:467]\u001b[0m GAN_loss/discrim/accuracy_fake: 0.964\n",
      "\u001b[32m[1026 11:13:52 @monitor.py:467]\u001b[0m GAN_loss/discrim/accuracy_real: 0.052\n",
      "\u001b[32m[1026 11:13:52 @monitor.py:467]\u001b[0m GAN_loss/discrim/loss: 0.65222\n",
      "\u001b[32m[1026 11:13:52 @monitor.py:467]\u001b[0m GAN_loss/gen/final-g-loss: 1.0144\n",
      "\u001b[32m[1026 11:13:52 @monitor.py:467]\u001b[0m GAN_loss/gen/klloss: 0.066538\n",
      "\u001b[32m[1026 11:13:52 @monitor.py:467]\u001b[0m GAN_loss/gen/loss: 0.94788\n",
      "\u001b[32m[1026 11:13:52 @monitor.py:467]\u001b[0m QueueInput/queue_size: 50\n",
      "\u001b[32m[1026 11:13:52 @base.py:275]\u001b[0m Start Epoch 541 ...\n"
     ]
    },
    {
     "name": "stderr",
     "output_type": "stream",
     "text": [
      "100%|###################################################################################|175/175[00:05<00:00,32.07it/s]"
     ]
    },
    {
     "name": "stdout",
     "output_type": "stream",
     "text": [
      "\u001b[32m[1026 11:13:57 @base.py:285]\u001b[0m Epoch 541 (global_step 94675) finished, time:5.46 seconds.\n",
      "\u001b[32m[1026 11:13:58 @saver.py:79]\u001b[0m Model saved to ../output/Chicago/DATGAN2_1000/model\\model-94675.\n"
     ]
    },
    {
     "name": "stderr",
     "output_type": "stream",
     "text": [
      "\n"
     ]
    },
    {
     "name": "stdout",
     "output_type": "stream",
     "text": [
      "\u001b[32m[1026 11:13:58 @monitor.py:467]\u001b[0m GAN_loss/discrim/accuracy_fake: 0.976\n",
      "\u001b[32m[1026 11:13:58 @monitor.py:467]\u001b[0m GAN_loss/discrim/accuracy_real: 0.058\n",
      "\u001b[32m[1026 11:13:58 @monitor.py:467]\u001b[0m GAN_loss/discrim/loss: 0.64548\n",
      "\u001b[32m[1026 11:13:58 @monitor.py:467]\u001b[0m GAN_loss/gen/final-g-loss: 1.0658\n",
      "\u001b[32m[1026 11:13:58 @monitor.py:467]\u001b[0m GAN_loss/gen/klloss: 0.11761\n",
      "\u001b[32m[1026 11:13:58 @monitor.py:467]\u001b[0m GAN_loss/gen/loss: 0.94819\n",
      "\u001b[32m[1026 11:13:58 @monitor.py:467]\u001b[0m QueueInput/queue_size: 50\n",
      "\u001b[32m[1026 11:13:58 @base.py:275]\u001b[0m Start Epoch 542 ...\n"
     ]
    },
    {
     "name": "stderr",
     "output_type": "stream",
     "text": [
      "100%|###################################################################################|175/175[00:05<00:00,32.28it/s]"
     ]
    },
    {
     "name": "stdout",
     "output_type": "stream",
     "text": [
      "\u001b[32m[1026 11:14:03 @base.py:285]\u001b[0m Epoch 542 (global_step 94850) finished, time:5.42 seconds.\n"
     ]
    },
    {
     "name": "stderr",
     "output_type": "stream",
     "text": [
      "\n"
     ]
    },
    {
     "name": "stdout",
     "output_type": "stream",
     "text": [
      "\u001b[32m[1026 11:14:03 @saver.py:79]\u001b[0m Model saved to ../output/Chicago/DATGAN2_1000/model\\model-94850.\n",
      "\u001b[32m[1026 11:14:03 @monitor.py:467]\u001b[0m GAN_loss/discrim/accuracy_fake: 0.954\n",
      "\u001b[32m[1026 11:14:03 @monitor.py:467]\u001b[0m GAN_loss/discrim/accuracy_real: 0.072\n",
      "\u001b[32m[1026 11:14:03 @monitor.py:467]\u001b[0m GAN_loss/discrim/loss: 0.65087\n",
      "\u001b[32m[1026 11:14:03 @monitor.py:467]\u001b[0m GAN_loss/gen/final-g-loss: 0.97202\n",
      "\u001b[32m[1026 11:14:03 @monitor.py:467]\u001b[0m GAN_loss/gen/klloss: 0.038138\n",
      "\u001b[32m[1026 11:14:03 @monitor.py:467]\u001b[0m GAN_loss/gen/loss: 0.93388\n",
      "\u001b[32m[1026 11:14:03 @monitor.py:467]\u001b[0m QueueInput/queue_size: 50\n",
      "\u001b[32m[1026 11:14:03 @base.py:275]\u001b[0m Start Epoch 543 ...\n"
     ]
    },
    {
     "name": "stderr",
     "output_type": "stream",
     "text": [
      "100%|###################################################################################|175/175[00:05<00:00,32.29it/s]"
     ]
    },
    {
     "name": "stdout",
     "output_type": "stream",
     "text": [
      "\u001b[32m[1026 11:14:09 @base.py:285]\u001b[0m Epoch 543 (global_step 95025) finished, time:5.42 seconds.\n"
     ]
    },
    {
     "name": "stderr",
     "output_type": "stream",
     "text": [
      "\n"
     ]
    },
    {
     "name": "stdout",
     "output_type": "stream",
     "text": [
      "\u001b[32m[1026 11:14:09 @saver.py:79]\u001b[0m Model saved to ../output/Chicago/DATGAN2_1000/model\\model-95025.\n",
      "\u001b[32m[1026 11:14:09 @monitor.py:467]\u001b[0m GAN_loss/discrim/accuracy_fake: 0.962\n",
      "\u001b[32m[1026 11:14:09 @monitor.py:467]\u001b[0m GAN_loss/discrim/accuracy_real: 0.082\n",
      "\u001b[32m[1026 11:14:09 @monitor.py:467]\u001b[0m GAN_loss/discrim/loss: 0.64066\n",
      "\u001b[32m[1026 11:14:09 @monitor.py:467]\u001b[0m GAN_loss/gen/final-g-loss: 0.99962\n",
      "\u001b[32m[1026 11:14:09 @monitor.py:467]\u001b[0m GAN_loss/gen/klloss: 0.057125\n",
      "\u001b[32m[1026 11:14:09 @monitor.py:467]\u001b[0m GAN_loss/gen/loss: 0.9425\n",
      "\u001b[32m[1026 11:14:09 @monitor.py:467]\u001b[0m QueueInput/queue_size: 50\n",
      "\u001b[32m[1026 11:14:09 @base.py:275]\u001b[0m Start Epoch 544 ...\n"
     ]
    },
    {
     "name": "stderr",
     "output_type": "stream",
     "text": [
      "100%|###################################################################################|175/175[00:05<00:00,32.32it/s]"
     ]
    },
    {
     "name": "stdout",
     "output_type": "stream",
     "text": [
      "\u001b[32m[1026 11:14:14 @base.py:285]\u001b[0m Epoch 544 (global_step 95200) finished, time:5.41 seconds.\n"
     ]
    },
    {
     "name": "stderr",
     "output_type": "stream",
     "text": [
      "\n"
     ]
    },
    {
     "name": "stdout",
     "output_type": "stream",
     "text": [
      "\u001b[32m[1026 11:14:14 @saver.py:79]\u001b[0m Model saved to ../output/Chicago/DATGAN2_1000/model\\model-95200.\n",
      "\u001b[32m[1026 11:14:14 @monitor.py:467]\u001b[0m GAN_loss/discrim/accuracy_fake: 0.958\n",
      "\u001b[32m[1026 11:14:14 @monitor.py:467]\u001b[0m GAN_loss/discrim/accuracy_real: 0.066\n",
      "\u001b[32m[1026 11:14:14 @monitor.py:467]\u001b[0m GAN_loss/discrim/loss: 0.64883\n",
      "\u001b[32m[1026 11:14:14 @monitor.py:467]\u001b[0m GAN_loss/gen/final-g-loss: 1.0115\n",
      "\u001b[32m[1026 11:14:14 @monitor.py:467]\u001b[0m GAN_loss/gen/klloss: 0.069882\n",
      "\u001b[32m[1026 11:14:14 @monitor.py:467]\u001b[0m GAN_loss/gen/loss: 0.94157\n",
      "\u001b[32m[1026 11:14:14 @monitor.py:467]\u001b[0m QueueInput/queue_size: 50\n",
      "\u001b[32m[1026 11:14:14 @base.py:275]\u001b[0m Start Epoch 545 ...\n"
     ]
    },
    {
     "name": "stderr",
     "output_type": "stream",
     "text": [
      "100%|###################################################################################|175/175[00:05<00:00,32.28it/s]"
     ]
    },
    {
     "name": "stdout",
     "output_type": "stream",
     "text": [
      "\u001b[32m[1026 11:14:20 @base.py:285]\u001b[0m Epoch 545 (global_step 95375) finished, time:5.42 seconds.\n"
     ]
    },
    {
     "name": "stderr",
     "output_type": "stream",
     "text": [
      "\n"
     ]
    },
    {
     "name": "stdout",
     "output_type": "stream",
     "text": [
      "\u001b[32m[1026 11:14:20 @saver.py:79]\u001b[0m Model saved to ../output/Chicago/DATGAN2_1000/model\\model-95375.\n",
      "\u001b[32m[1026 11:14:20 @monitor.py:467]\u001b[0m GAN_loss/discrim/accuracy_fake: 0.948\n",
      "\u001b[32m[1026 11:14:20 @monitor.py:467]\u001b[0m GAN_loss/discrim/accuracy_real: 0.052\n",
      "\u001b[32m[1026 11:14:20 @monitor.py:467]\u001b[0m GAN_loss/discrim/loss: 0.6499\n",
      "\u001b[32m[1026 11:14:20 @monitor.py:467]\u001b[0m GAN_loss/gen/final-g-loss: 1.0386\n",
      "\u001b[32m[1026 11:14:20 @monitor.py:467]\u001b[0m GAN_loss/gen/klloss: 0.099726\n",
      "\u001b[32m[1026 11:14:20 @monitor.py:467]\u001b[0m GAN_loss/gen/loss: 0.9389\n",
      "\u001b[32m[1026 11:14:20 @monitor.py:467]\u001b[0m QueueInput/queue_size: 50\n",
      "\u001b[32m[1026 11:14:20 @base.py:275]\u001b[0m Start Epoch 546 ...\n"
     ]
    },
    {
     "name": "stderr",
     "output_type": "stream",
     "text": [
      "100%|###################################################################################|175/175[00:05<00:00,32.31it/s]"
     ]
    },
    {
     "name": "stdout",
     "output_type": "stream",
     "text": [
      "\u001b[32m[1026 11:14:25 @base.py:285]\u001b[0m Epoch 546 (global_step 95550) finished, time:5.42 seconds.\n"
     ]
    },
    {
     "name": "stderr",
     "output_type": "stream",
     "text": [
      "\n"
     ]
    },
    {
     "name": "stdout",
     "output_type": "stream",
     "text": [
      "\u001b[32m[1026 11:14:25 @saver.py:79]\u001b[0m Model saved to ../output/Chicago/DATGAN2_1000/model\\model-95550.\n",
      "\u001b[32m[1026 11:14:26 @monitor.py:467]\u001b[0m GAN_loss/discrim/accuracy_fake: 0.948\n",
      "\u001b[32m[1026 11:14:26 @monitor.py:467]\u001b[0m GAN_loss/discrim/accuracy_real: 0.066\n",
      "\u001b[32m[1026 11:14:26 @monitor.py:467]\u001b[0m GAN_loss/discrim/loss: 0.64514\n",
      "\u001b[32m[1026 11:14:26 @monitor.py:467]\u001b[0m GAN_loss/gen/final-g-loss: 1.0172\n",
      "\u001b[32m[1026 11:14:26 @monitor.py:467]\u001b[0m GAN_loss/gen/klloss: 0.079563\n",
      "\u001b[32m[1026 11:14:26 @monitor.py:467]\u001b[0m GAN_loss/gen/loss: 0.93767\n",
      "\u001b[32m[1026 11:14:26 @monitor.py:467]\u001b[0m QueueInput/queue_size: 50\n",
      "\u001b[32m[1026 11:14:26 @base.py:275]\u001b[0m Start Epoch 547 ...\n"
     ]
    },
    {
     "name": "stderr",
     "output_type": "stream",
     "text": [
      "100%|###################################################################################|175/175[00:05<00:00,32.26it/s]"
     ]
    },
    {
     "name": "stdout",
     "output_type": "stream",
     "text": [
      "\u001b[32m[1026 11:14:31 @base.py:285]\u001b[0m Epoch 547 (global_step 95725) finished, time:5.42 seconds.\n"
     ]
    },
    {
     "name": "stderr",
     "output_type": "stream",
     "text": [
      "\n"
     ]
    },
    {
     "name": "stdout",
     "output_type": "stream",
     "text": [
      "\u001b[32m[1026 11:14:31 @saver.py:79]\u001b[0m Model saved to ../output/Chicago/DATGAN2_1000/model\\model-95725.\n",
      "\u001b[32m[1026 11:14:31 @monitor.py:467]\u001b[0m GAN_loss/discrim/accuracy_fake: 0.97\n",
      "\u001b[32m[1026 11:14:31 @monitor.py:467]\u001b[0m GAN_loss/discrim/accuracy_real: 0.048\n",
      "\u001b[32m[1026 11:14:31 @monitor.py:467]\u001b[0m GAN_loss/discrim/loss: 0.64606\n",
      "\u001b[32m[1026 11:14:31 @monitor.py:467]\u001b[0m GAN_loss/gen/final-g-loss: 1.0269\n",
      "\u001b[32m[1026 11:14:31 @monitor.py:467]\u001b[0m GAN_loss/gen/klloss: 0.074936\n",
      "\u001b[32m[1026 11:14:31 @monitor.py:467]\u001b[0m GAN_loss/gen/loss: 0.95195\n",
      "\u001b[32m[1026 11:14:31 @monitor.py:467]\u001b[0m QueueInput/queue_size: 50\n",
      "\u001b[32m[1026 11:14:31 @base.py:275]\u001b[0m Start Epoch 548 ...\n"
     ]
    },
    {
     "name": "stderr",
     "output_type": "stream",
     "text": [
      "100%|###################################################################################|175/175[00:05<00:00,32.17it/s]"
     ]
    },
    {
     "name": "stdout",
     "output_type": "stream",
     "text": [
      "\u001b[32m[1026 11:14:37 @base.py:285]\u001b[0m Epoch 548 (global_step 95900) finished, time:5.44 seconds.\n",
      "\u001b[32m[1026 11:14:37 @saver.py:79]\u001b[0m Model saved to ../output/Chicago/DATGAN2_1000/model\\model-95900.\n"
     ]
    },
    {
     "name": "stderr",
     "output_type": "stream",
     "text": [
      "\n"
     ]
    },
    {
     "name": "stdout",
     "output_type": "stream",
     "text": [
      "\u001b[32m[1026 11:14:37 @monitor.py:467]\u001b[0m GAN_loss/discrim/accuracy_fake: 0.97\n",
      "\u001b[32m[1026 11:14:37 @monitor.py:467]\u001b[0m GAN_loss/discrim/accuracy_real: 0.042\n",
      "\u001b[32m[1026 11:14:37 @monitor.py:467]\u001b[0m GAN_loss/discrim/loss: 0.64605\n",
      "\u001b[32m[1026 11:14:37 @monitor.py:467]\u001b[0m GAN_loss/gen/final-g-loss: 1.0052\n",
      "\u001b[32m[1026 11:14:37 @monitor.py:467]\u001b[0m GAN_loss/gen/klloss: 0.054585\n",
      "\u001b[32m[1026 11:14:37 @monitor.py:467]\u001b[0m GAN_loss/gen/loss: 0.95066\n",
      "\u001b[32m[1026 11:14:37 @monitor.py:467]\u001b[0m QueueInput/queue_size: 50\n",
      "\u001b[32m[1026 11:14:37 @base.py:275]\u001b[0m Start Epoch 549 ...\n"
     ]
    },
    {
     "name": "stderr",
     "output_type": "stream",
     "text": [
      "100%|###################################################################################|175/175[00:05<00:00,32.02it/s]"
     ]
    },
    {
     "name": "stdout",
     "output_type": "stream",
     "text": [
      "\u001b[32m[1026 11:14:42 @base.py:285]\u001b[0m Epoch 549 (global_step 96075) finished, time:5.47 seconds.\n",
      "\u001b[32m[1026 11:14:42 @saver.py:79]\u001b[0m Model saved to ../output/Chicago/DATGAN2_1000/model\\model-96075.\n",
      "\u001b[32m[1026 11:14:42 @monitor.py:467]\u001b[0m GAN_loss/discrim/accuracy_fake: 0.954\n",
      "\u001b[32m[1026 11:14:42 @monitor.py:467]\u001b[0m GAN_loss/discrim/accuracy_real: 0.05\n",
      "\u001b[32m[1026 11:14:42 @monitor.py:467]\u001b[0m GAN_loss/discrim/loss: 0.64987\n",
      "\u001b[32m[1026 11:14:42 @monitor.py:467]\u001b[0m GAN_loss/gen/final-g-loss: 1.0043\n",
      "\u001b[32m[1026 11:14:42 @monitor.py:467]\u001b[0m GAN_loss/gen/klloss: 0.062149\n",
      "\u001b[32m[1026 11:14:42 @monitor.py:467]\u001b[0m GAN_loss/gen/loss: 0.94219\n",
      "\u001b[32m[1026 11:14:42 @monitor.py:467]\u001b[0m QueueInput/queue_size: 50\n",
      "\u001b[32m[1026 11:14:42 @base.py:275]\u001b[0m Start Epoch 550 ...\n"
     ]
    },
    {
     "name": "stderr",
     "output_type": "stream",
     "text": [
      "\n",
      "100%|###################################################################################|175/175[00:05<00:00,31.82it/s]"
     ]
    },
    {
     "name": "stdout",
     "output_type": "stream",
     "text": [
      "\u001b[32m[1026 11:14:48 @base.py:285]\u001b[0m Epoch 550 (global_step 96250) finished, time:5.5 seconds.\n",
      "\u001b[32m[1026 11:14:48 @saver.py:79]\u001b[0m Model saved to ../output/Chicago/DATGAN2_1000/model\\model-96250.\n"
     ]
    },
    {
     "name": "stderr",
     "output_type": "stream",
     "text": [
      "\n"
     ]
    },
    {
     "name": "stdout",
     "output_type": "stream",
     "text": [
      "\u001b[32m[1026 11:14:48 @monitor.py:467]\u001b[0m GAN_loss/discrim/accuracy_fake: 0.97\n",
      "\u001b[32m[1026 11:14:48 @monitor.py:467]\u001b[0m GAN_loss/discrim/accuracy_real: 0.052\n",
      "\u001b[32m[1026 11:14:48 @monitor.py:467]\u001b[0m GAN_loss/discrim/loss: 0.65031\n",
      "\u001b[32m[1026 11:14:48 @monitor.py:467]\u001b[0m GAN_loss/gen/final-g-loss: 1.0024\n",
      "\u001b[32m[1026 11:14:48 @monitor.py:467]\u001b[0m GAN_loss/gen/klloss: 0.05964\n",
      "\u001b[32m[1026 11:14:48 @monitor.py:467]\u001b[0m GAN_loss/gen/loss: 0.94281\n",
      "\u001b[32m[1026 11:14:48 @monitor.py:467]\u001b[0m QueueInput/queue_size: 50\n",
      "\u001b[32m[1026 11:14:48 @base.py:275]\u001b[0m Start Epoch 551 ...\n"
     ]
    },
    {
     "name": "stderr",
     "output_type": "stream",
     "text": [
      "100%|###################################################################################|175/175[00:05<00:00,32.12it/s]"
     ]
    },
    {
     "name": "stdout",
     "output_type": "stream",
     "text": [
      "\u001b[32m[1026 11:14:54 @base.py:285]\u001b[0m Epoch 551 (global_step 96425) finished, time:5.45 seconds.\n",
      "\u001b[32m[1026 11:14:54 @saver.py:79]\u001b[0m Model saved to ../output/Chicago/DATGAN2_1000/model\\model-96425.\n"
     ]
    },
    {
     "name": "stderr",
     "output_type": "stream",
     "text": [
      "\n"
     ]
    },
    {
     "name": "stdout",
     "output_type": "stream",
     "text": [
      "\u001b[32m[1026 11:14:54 @monitor.py:467]\u001b[0m GAN_loss/discrim/accuracy_fake: 0.958\n",
      "\u001b[32m[1026 11:14:54 @monitor.py:467]\u001b[0m GAN_loss/discrim/accuracy_real: 0.052\n",
      "\u001b[32m[1026 11:14:54 @monitor.py:467]\u001b[0m GAN_loss/discrim/loss: 0.65001\n",
      "\u001b[32m[1026 11:14:54 @monitor.py:467]\u001b[0m GAN_loss/gen/final-g-loss: 0.9908\n",
      "\u001b[32m[1026 11:14:54 @monitor.py:467]\u001b[0m GAN_loss/gen/klloss: 0.053899\n",
      "\u001b[32m[1026 11:14:54 @monitor.py:467]\u001b[0m GAN_loss/gen/loss: 0.93691\n",
      "\u001b[32m[1026 11:14:54 @monitor.py:467]\u001b[0m QueueInput/queue_size: 50\n",
      "\u001b[32m[1026 11:14:54 @base.py:275]\u001b[0m Start Epoch 552 ...\n"
     ]
    },
    {
     "name": "stderr",
     "output_type": "stream",
     "text": [
      "100%|###################################################################################|175/175[00:05<00:00,32.32it/s]"
     ]
    },
    {
     "name": "stdout",
     "output_type": "stream",
     "text": [
      "\u001b[32m[1026 11:14:59 @base.py:285]\u001b[0m Epoch 552 (global_step 96600) finished, time:5.41 seconds.\n"
     ]
    },
    {
     "name": "stderr",
     "output_type": "stream",
     "text": [
      "\n"
     ]
    },
    {
     "name": "stdout",
     "output_type": "stream",
     "text": [
      "\u001b[32m[1026 11:14:59 @saver.py:79]\u001b[0m Model saved to ../output/Chicago/DATGAN2_1000/model\\model-96600.\n",
      "\u001b[32m[1026 11:14:59 @monitor.py:467]\u001b[0m GAN_loss/discrim/accuracy_fake: 0.964\n",
      "\u001b[32m[1026 11:14:59 @monitor.py:467]\u001b[0m GAN_loss/discrim/accuracy_real: 0.07\n",
      "\u001b[32m[1026 11:14:59 @monitor.py:467]\u001b[0m GAN_loss/discrim/loss: 0.64665\n",
      "\u001b[32m[1026 11:14:59 @monitor.py:467]\u001b[0m GAN_loss/gen/final-g-loss: 1.0095\n",
      "\u001b[32m[1026 11:14:59 @monitor.py:467]\u001b[0m GAN_loss/gen/klloss: 0.071293\n",
      "\u001b[32m[1026 11:14:59 @monitor.py:467]\u001b[0m GAN_loss/gen/loss: 0.93818\n",
      "\u001b[32m[1026 11:14:59 @monitor.py:467]\u001b[0m QueueInput/queue_size: 50\n",
      "\u001b[32m[1026 11:14:59 @base.py:275]\u001b[0m Start Epoch 553 ...\n"
     ]
    },
    {
     "name": "stderr",
     "output_type": "stream",
     "text": [
      "100%|###################################################################################|175/175[00:05<00:00,32.09it/s]"
     ]
    },
    {
     "name": "stdout",
     "output_type": "stream",
     "text": [
      "\u001b[32m[1026 11:15:05 @base.py:285]\u001b[0m Epoch 553 (global_step 96775) finished, time:5.45 seconds.\n",
      "\u001b[32m[1026 11:15:05 @saver.py:79]\u001b[0m Model saved to ../output/Chicago/DATGAN2_1000/model\\model-96775.\n",
      "\u001b[32m[1026 11:15:05 @monitor.py:467]\u001b[0m GAN_loss/discrim/accuracy_fake: 0.964\n",
      "\u001b[32m[1026 11:15:05 @monitor.py:467]\u001b[0m GAN_loss/discrim/accuracy_real: 0.066\n",
      "\u001b[32m[1026 11:15:05 @monitor.py:467]\u001b[0m GAN_loss/discrim/loss: 0.65112\n",
      "\u001b[32m[1026 11:15:05 @monitor.py:467]\u001b[0m GAN_loss/gen/final-g-loss: 1.0035\n",
      "\u001b[32m[1026 11:15:05 @monitor.py:467]\u001b[0m GAN_loss/gen/klloss: 0.062612\n",
      "\u001b[32m[1026 11:15:05 @monitor.py:467]\u001b[0m GAN_loss/gen/loss: 0.94087\n",
      "\u001b[32m[1026 11:15:05 @monitor.py:467]\u001b[0m QueueInput/queue_size: 50\n",
      "\u001b[32m[1026 11:15:05 @base.py:275]\u001b[0m Start Epoch 554 ...\n"
     ]
    },
    {
     "name": "stderr",
     "output_type": "stream",
     "text": [
      "\n",
      "100%|###################################################################################|175/175[00:05<00:00,32.36it/s]"
     ]
    },
    {
     "name": "stdout",
     "output_type": "stream",
     "text": [
      "\u001b[32m[1026 11:15:10 @base.py:285]\u001b[0m Epoch 554 (global_step 96950) finished, time:5.41 seconds.\n"
     ]
    },
    {
     "name": "stderr",
     "output_type": "stream",
     "text": [
      "\n"
     ]
    },
    {
     "name": "stdout",
     "output_type": "stream",
     "text": [
      "\u001b[32m[1026 11:15:11 @saver.py:79]\u001b[0m Model saved to ../output/Chicago/DATGAN2_1000/model\\model-96950.\n",
      "\u001b[32m[1026 11:15:11 @monitor.py:467]\u001b[0m GAN_loss/discrim/accuracy_fake: 0.95\n",
      "\u001b[32m[1026 11:15:11 @monitor.py:467]\u001b[0m GAN_loss/discrim/accuracy_real: 0.044\n",
      "\u001b[32m[1026 11:15:11 @monitor.py:467]\u001b[0m GAN_loss/discrim/loss: 0.65188\n",
      "\u001b[32m[1026 11:15:11 @monitor.py:467]\u001b[0m GAN_loss/gen/final-g-loss: 1.0145\n",
      "\u001b[32m[1026 11:15:11 @monitor.py:467]\u001b[0m GAN_loss/gen/klloss: 0.072008\n",
      "\u001b[32m[1026 11:15:11 @monitor.py:467]\u001b[0m GAN_loss/gen/loss: 0.94247\n",
      "\u001b[32m[1026 11:15:11 @monitor.py:467]\u001b[0m QueueInput/queue_size: 50\n",
      "\u001b[32m[1026 11:15:11 @base.py:275]\u001b[0m Start Epoch 555 ...\n"
     ]
    },
    {
     "name": "stderr",
     "output_type": "stream",
     "text": [
      "100%|###################################################################################|175/175[00:05<00:00,32.31it/s]"
     ]
    },
    {
     "name": "stdout",
     "output_type": "stream",
     "text": [
      "\u001b[32m[1026 11:15:16 @base.py:285]\u001b[0m Epoch 555 (global_step 97125) finished, time:5.42 seconds.\n"
     ]
    },
    {
     "name": "stderr",
     "output_type": "stream",
     "text": [
      "\n"
     ]
    },
    {
     "name": "stdout",
     "output_type": "stream",
     "text": [
      "\u001b[32m[1026 11:15:16 @saver.py:79]\u001b[0m Model saved to ../output/Chicago/DATGAN2_1000/model\\model-97125.\n",
      "\u001b[32m[1026 11:15:16 @monitor.py:467]\u001b[0m GAN_loss/discrim/accuracy_fake: 0.964\n",
      "\u001b[32m[1026 11:15:16 @monitor.py:467]\u001b[0m GAN_loss/discrim/accuracy_real: 0.046\n",
      "\u001b[32m[1026 11:15:16 @monitor.py:467]\u001b[0m GAN_loss/discrim/loss: 0.65565\n",
      "\u001b[32m[1026 11:15:16 @monitor.py:467]\u001b[0m GAN_loss/gen/final-g-loss: 0.99572\n",
      "\u001b[32m[1026 11:15:16 @monitor.py:467]\u001b[0m GAN_loss/gen/klloss: 0.057175\n",
      "\u001b[32m[1026 11:15:16 @monitor.py:467]\u001b[0m GAN_loss/gen/loss: 0.93854\n",
      "\u001b[32m[1026 11:15:16 @monitor.py:467]\u001b[0m QueueInput/queue_size: 50\n",
      "\u001b[32m[1026 11:15:16 @base.py:275]\u001b[0m Start Epoch 556 ...\n"
     ]
    },
    {
     "name": "stderr",
     "output_type": "stream",
     "text": [
      "100%|###################################################################################|175/175[00:05<00:00,32.34it/s]"
     ]
    },
    {
     "name": "stdout",
     "output_type": "stream",
     "text": [
      "\u001b[32m[1026 11:15:22 @base.py:285]\u001b[0m Epoch 556 (global_step 97300) finished, time:5.41 seconds.\n"
     ]
    },
    {
     "name": "stderr",
     "output_type": "stream",
     "text": [
      "\n"
     ]
    },
    {
     "name": "stdout",
     "output_type": "stream",
     "text": [
      "\u001b[32m[1026 11:15:22 @saver.py:79]\u001b[0m Model saved to ../output/Chicago/DATGAN2_1000/model\\model-97300.\n",
      "\u001b[32m[1026 11:15:22 @monitor.py:467]\u001b[0m GAN_loss/discrim/accuracy_fake: 0.966\n",
      "\u001b[32m[1026 11:15:22 @monitor.py:467]\u001b[0m GAN_loss/discrim/accuracy_real: 0.048\n",
      "\u001b[32m[1026 11:15:22 @monitor.py:467]\u001b[0m GAN_loss/discrim/loss: 0.64913\n",
      "\u001b[32m[1026 11:15:22 @monitor.py:467]\u001b[0m GAN_loss/gen/final-g-loss: 0.99979\n",
      "\u001b[32m[1026 11:15:22 @monitor.py:467]\u001b[0m GAN_loss/gen/klloss: 0.049856\n",
      "\u001b[32m[1026 11:15:22 @monitor.py:467]\u001b[0m GAN_loss/gen/loss: 0.94993\n",
      "\u001b[32m[1026 11:15:22 @monitor.py:467]\u001b[0m QueueInput/queue_size: 50\n",
      "\u001b[32m[1026 11:15:22 @base.py:275]\u001b[0m Start Epoch 557 ...\n"
     ]
    },
    {
     "name": "stderr",
     "output_type": "stream",
     "text": [
      "100%|###################################################################################|175/175[00:05<00:00,32.31it/s]"
     ]
    },
    {
     "name": "stdout",
     "output_type": "stream",
     "text": [
      "\u001b[32m[1026 11:15:27 @base.py:285]\u001b[0m Epoch 557 (global_step 97475) finished, time:5.42 seconds.\n",
      "\u001b[32m[1026 11:15:27 @saver.py:79]\u001b[0m Model saved to ../output/Chicago/DATGAN2_1000/model\\model-97475.\n",
      "\u001b[32m[1026 11:15:27 @monitor.py:467]\u001b[0m GAN_loss/discrim/accuracy_fake: 0.964\n"
     ]
    },
    {
     "name": "stderr",
     "output_type": "stream",
     "text": [
      "\n"
     ]
    },
    {
     "name": "stdout",
     "output_type": "stream",
     "text": [
      "\u001b[32m[1026 11:15:27 @monitor.py:467]\u001b[0m GAN_loss/discrim/accuracy_real: 0.054\n",
      "\u001b[32m[1026 11:15:27 @monitor.py:467]\u001b[0m GAN_loss/discrim/loss: 0.65052\n",
      "\u001b[32m[1026 11:15:27 @monitor.py:467]\u001b[0m GAN_loss/gen/final-g-loss: 1.0314\n",
      "\u001b[32m[1026 11:15:27 @monitor.py:467]\u001b[0m GAN_loss/gen/klloss: 0.084239\n",
      "\u001b[32m[1026 11:15:27 @monitor.py:467]\u001b[0m GAN_loss/gen/loss: 0.94718\n",
      "\u001b[32m[1026 11:15:27 @monitor.py:467]\u001b[0m QueueInput/queue_size: 50\n",
      "\u001b[32m[1026 11:15:27 @base.py:275]\u001b[0m Start Epoch 558 ...\n"
     ]
    },
    {
     "name": "stderr",
     "output_type": "stream",
     "text": [
      "100%|###################################################################################|175/175[00:05<00:00,32.36it/s]"
     ]
    },
    {
     "name": "stdout",
     "output_type": "stream",
     "text": [
      "\u001b[32m[1026 11:15:33 @base.py:285]\u001b[0m Epoch 558 (global_step 97650) finished, time:5.41 seconds.\n"
     ]
    },
    {
     "name": "stderr",
     "output_type": "stream",
     "text": [
      "\n"
     ]
    },
    {
     "name": "stdout",
     "output_type": "stream",
     "text": [
      "\u001b[32m[1026 11:15:33 @saver.py:79]\u001b[0m Model saved to ../output/Chicago/DATGAN2_1000/model\\model-97650.\n",
      "\u001b[32m[1026 11:15:33 @monitor.py:467]\u001b[0m GAN_loss/discrim/accuracy_fake: 0.968\n",
      "\u001b[32m[1026 11:15:33 @monitor.py:467]\u001b[0m GAN_loss/discrim/accuracy_real: 0.054\n",
      "\u001b[32m[1026 11:15:33 @monitor.py:467]\u001b[0m GAN_loss/discrim/loss: 0.652\n",
      "\u001b[32m[1026 11:15:33 @monitor.py:467]\u001b[0m GAN_loss/gen/final-g-loss: 1.013\n",
      "\u001b[32m[1026 11:15:33 @monitor.py:467]\u001b[0m GAN_loss/gen/klloss: 0.078607\n",
      "\u001b[32m[1026 11:15:33 @monitor.py:467]\u001b[0m GAN_loss/gen/loss: 0.93442\n",
      "\u001b[32m[1026 11:15:33 @monitor.py:467]\u001b[0m QueueInput/queue_size: 50\n",
      "\u001b[32m[1026 11:15:33 @base.py:275]\u001b[0m Start Epoch 559 ...\n"
     ]
    },
    {
     "name": "stderr",
     "output_type": "stream",
     "text": [
      "100%|###################################################################################|175/175[00:05<00:00,32.31it/s]"
     ]
    },
    {
     "name": "stdout",
     "output_type": "stream",
     "text": [
      "\u001b[32m[1026 11:15:38 @base.py:285]\u001b[0m Epoch 559 (global_step 97825) finished, time:5.42 seconds.\n",
      "\u001b[32m[1026 11:15:39 @saver.py:79]\u001b[0m Model saved to ../output/Chicago/DATGAN2_1000/model\\model-97825.\n",
      "\u001b[32m[1026 11:15:39 @monitor.py:467]\u001b[0m GAN_loss/discrim/accuracy_fake: 0.962\n",
      "\u001b[32m[1026 11:15:39 @monitor.py:467]\u001b[0m GAN_loss/discrim/accuracy_real: 0.056\n",
      "\u001b[32m[1026 11:15:39 @monitor.py:467]\u001b[0m GAN_loss/discrim/loss: 0.65121\n",
      "\u001b[32m[1026 11:15:39 @monitor.py:467]\u001b[0m GAN_loss/gen/final-g-loss: 1.0004\n",
      "\u001b[32m[1026 11:15:39 @monitor.py:467]\u001b[0m GAN_loss/gen/klloss: 0.068137\n",
      "\u001b[32m[1026 11:15:39 @monitor.py:467]\u001b[0m GAN_loss/gen/loss: 0.93222\n",
      "\u001b[32m[1026 11:15:39 @monitor.py:467]\u001b[0m QueueInput/queue_size: 50\n",
      "\u001b[32m[1026 11:15:39 @base.py:275]\u001b[0m Start Epoch 560 ...\n"
     ]
    },
    {
     "name": "stderr",
     "output_type": "stream",
     "text": [
      "\n",
      "100%|###################################################################################|175/175[00:05<00:00,32.31it/s]"
     ]
    },
    {
     "name": "stdout",
     "output_type": "stream",
     "text": [
      "\u001b[32m[1026 11:15:44 @base.py:285]\u001b[0m Epoch 560 (global_step 98000) finished, time:5.42 seconds.\n"
     ]
    },
    {
     "name": "stderr",
     "output_type": "stream",
     "text": [
      "\n"
     ]
    },
    {
     "name": "stdout",
     "output_type": "stream",
     "text": [
      "\u001b[32m[1026 11:15:44 @saver.py:79]\u001b[0m Model saved to ../output/Chicago/DATGAN2_1000/model\\model-98000.\n",
      "\u001b[32m[1026 11:15:44 @monitor.py:467]\u001b[0m GAN_loss/discrim/accuracy_fake: 0.948\n",
      "\u001b[32m[1026 11:15:44 @monitor.py:467]\u001b[0m GAN_loss/discrim/accuracy_real: 0.058\n",
      "\u001b[32m[1026 11:15:44 @monitor.py:467]\u001b[0m GAN_loss/discrim/loss: 0.64853\n",
      "\u001b[32m[1026 11:15:44 @monitor.py:467]\u001b[0m GAN_loss/gen/final-g-loss: 0.99288\n",
      "\u001b[32m[1026 11:15:44 @monitor.py:467]\u001b[0m GAN_loss/gen/klloss: 0.055895\n",
      "\u001b[32m[1026 11:15:44 @monitor.py:467]\u001b[0m GAN_loss/gen/loss: 0.93698\n",
      "\u001b[32m[1026 11:15:44 @monitor.py:467]\u001b[0m QueueInput/queue_size: 50\n",
      "\u001b[32m[1026 11:15:44 @base.py:275]\u001b[0m Start Epoch 561 ...\n"
     ]
    },
    {
     "name": "stderr",
     "output_type": "stream",
     "text": [
      "100%|###################################################################################|175/175[00:05<00:00,32.31it/s]"
     ]
    },
    {
     "name": "stdout",
     "output_type": "stream",
     "text": [
      "\u001b[32m[1026 11:15:50 @base.py:285]\u001b[0m Epoch 561 (global_step 98175) finished, time:5.42 seconds.\n"
     ]
    },
    {
     "name": "stderr",
     "output_type": "stream",
     "text": [
      "\n"
     ]
    },
    {
     "name": "stdout",
     "output_type": "stream",
     "text": [
      "\u001b[32m[1026 11:15:50 @saver.py:79]\u001b[0m Model saved to ../output/Chicago/DATGAN2_1000/model\\model-98175.\n",
      "\u001b[32m[1026 11:15:50 @monitor.py:467]\u001b[0m GAN_loss/discrim/accuracy_fake: 0.974\n",
      "\u001b[32m[1026 11:15:50 @monitor.py:467]\u001b[0m GAN_loss/discrim/accuracy_real: 0.038\n",
      "\u001b[32m[1026 11:15:50 @monitor.py:467]\u001b[0m GAN_loss/discrim/loss: 0.64755\n",
      "\u001b[32m[1026 11:15:50 @monitor.py:467]\u001b[0m GAN_loss/gen/final-g-loss: 0.99177\n",
      "\u001b[32m[1026 11:15:50 @monitor.py:467]\u001b[0m GAN_loss/gen/klloss: 0.04277\n",
      "\u001b[32m[1026 11:15:50 @monitor.py:467]\u001b[0m GAN_loss/gen/loss: 0.949\n",
      "\u001b[32m[1026 11:15:50 @monitor.py:467]\u001b[0m QueueInput/queue_size: 50\n",
      "\u001b[32m[1026 11:15:50 @base.py:275]\u001b[0m Start Epoch 562 ...\n"
     ]
    },
    {
     "name": "stderr",
     "output_type": "stream",
     "text": [
      "100%|###################################################################################|175/175[00:05<00:00,32.34it/s]"
     ]
    },
    {
     "name": "stdout",
     "output_type": "stream",
     "text": [
      "\u001b[32m[1026 11:15:55 @base.py:285]\u001b[0m Epoch 562 (global_step 98350) finished, time:5.41 seconds.\n"
     ]
    },
    {
     "name": "stderr",
     "output_type": "stream",
     "text": [
      "\n"
     ]
    },
    {
     "name": "stdout",
     "output_type": "stream",
     "text": [
      "\u001b[32m[1026 11:15:55 @saver.py:79]\u001b[0m Model saved to ../output/Chicago/DATGAN2_1000/model\\model-98350.\n",
      "\u001b[32m[1026 11:15:55 @monitor.py:467]\u001b[0m GAN_loss/discrim/accuracy_fake: 0.97\n",
      "\u001b[32m[1026 11:15:55 @monitor.py:467]\u001b[0m GAN_loss/discrim/accuracy_real: 0.064\n",
      "\u001b[32m[1026 11:15:55 @monitor.py:467]\u001b[0m GAN_loss/discrim/loss: 0.63966\n",
      "\u001b[32m[1026 11:15:55 @monitor.py:467]\u001b[0m GAN_loss/gen/final-g-loss: 0.99708\n",
      "\u001b[32m[1026 11:15:55 @monitor.py:467]\u001b[0m GAN_loss/gen/klloss: 0.044296\n",
      "\u001b[32m[1026 11:15:55 @monitor.py:467]\u001b[0m GAN_loss/gen/loss: 0.95278\n",
      "\u001b[32m[1026 11:15:55 @monitor.py:467]\u001b[0m QueueInput/queue_size: 50\n",
      "\u001b[32m[1026 11:15:55 @base.py:275]\u001b[0m Start Epoch 563 ...\n"
     ]
    },
    {
     "name": "stderr",
     "output_type": "stream",
     "text": [
      "100%|###################################################################################|175/175[00:05<00:00,32.24it/s]"
     ]
    },
    {
     "name": "stdout",
     "output_type": "stream",
     "text": [
      "\u001b[32m[1026 11:16:01 @base.py:285]\u001b[0m Epoch 563 (global_step 98525) finished, time:5.43 seconds.\n",
      "\u001b[32m[1026 11:16:01 @saver.py:79]\u001b[0m Model saved to ../output/Chicago/DATGAN2_1000/model\\model-98525.\n"
     ]
    },
    {
     "name": "stderr",
     "output_type": "stream",
     "text": [
      "\n"
     ]
    },
    {
     "name": "stdout",
     "output_type": "stream",
     "text": [
      "\u001b[32m[1026 11:16:01 @monitor.py:467]\u001b[0m GAN_loss/discrim/accuracy_fake: 0.966\n",
      "\u001b[32m[1026 11:16:01 @monitor.py:467]\u001b[0m GAN_loss/discrim/accuracy_real: 0.048\n",
      "\u001b[32m[1026 11:16:01 @monitor.py:467]\u001b[0m GAN_loss/discrim/loss: 0.64786\n",
      "\u001b[32m[1026 11:16:01 @monitor.py:467]\u001b[0m GAN_loss/gen/final-g-loss: 1.0012\n",
      "\u001b[32m[1026 11:16:01 @monitor.py:467]\u001b[0m GAN_loss/gen/klloss: 0.0573\n",
      "\u001b[32m[1026 11:16:01 @monitor.py:467]\u001b[0m GAN_loss/gen/loss: 0.94392\n",
      "\u001b[32m[1026 11:16:01 @monitor.py:467]\u001b[0m QueueInput/queue_size: 50\n",
      "\u001b[32m[1026 11:16:01 @base.py:275]\u001b[0m Start Epoch 564 ...\n"
     ]
    },
    {
     "name": "stderr",
     "output_type": "stream",
     "text": [
      "100%|###################################################################################|175/175[00:05<00:00,32.30it/s]"
     ]
    },
    {
     "name": "stdout",
     "output_type": "stream",
     "text": [
      "\u001b[32m[1026 11:16:06 @base.py:285]\u001b[0m Epoch 564 (global_step 98700) finished, time:5.42 seconds.\n"
     ]
    },
    {
     "name": "stderr",
     "output_type": "stream",
     "text": [
      "\n"
     ]
    },
    {
     "name": "stdout",
     "output_type": "stream",
     "text": [
      "\u001b[32m[1026 11:16:07 @saver.py:79]\u001b[0m Model saved to ../output/Chicago/DATGAN2_1000/model\\model-98700.\n",
      "\u001b[32m[1026 11:16:07 @monitor.py:467]\u001b[0m GAN_loss/discrim/accuracy_fake: 0.952\n",
      "\u001b[32m[1026 11:16:07 @monitor.py:467]\u001b[0m GAN_loss/discrim/accuracy_real: 0.066\n",
      "\u001b[32m[1026 11:16:07 @monitor.py:467]\u001b[0m GAN_loss/discrim/loss: 0.65115\n",
      "\u001b[32m[1026 11:16:07 @monitor.py:467]\u001b[0m GAN_loss/gen/final-g-loss: 0.9908\n",
      "\u001b[32m[1026 11:16:07 @monitor.py:467]\u001b[0m GAN_loss/gen/klloss: 0.058483\n",
      "\u001b[32m[1026 11:16:07 @monitor.py:467]\u001b[0m GAN_loss/gen/loss: 0.93232\n",
      "\u001b[32m[1026 11:16:07 @monitor.py:467]\u001b[0m QueueInput/queue_size: 50\n",
      "\u001b[32m[1026 11:16:07 @base.py:275]\u001b[0m Start Epoch 565 ...\n"
     ]
    },
    {
     "name": "stderr",
     "output_type": "stream",
     "text": [
      "100%|###################################################################################|175/175[00:05<00:00,32.31it/s]"
     ]
    },
    {
     "name": "stdout",
     "output_type": "stream",
     "text": [
      "\u001b[32m[1026 11:16:12 @base.py:285]\u001b[0m Epoch 565 (global_step 98875) finished, time:5.42 seconds.\n",
      "\u001b[32m[1026 11:16:12 @saver.py:79]\u001b[0m Model saved to ../output/Chicago/DATGAN2_1000/model\\model-98875.\n",
      "\u001b[32m[1026 11:16:12 @monitor.py:467]\u001b[0m GAN_loss/discrim/accuracy_fake: 0.966\n",
      "\u001b[32m[1026 11:16:12 @monitor.py:467]\u001b[0m GAN_loss/discrim/accuracy_real: 0.06\n",
      "\u001b[32m[1026 11:16:12 @monitor.py:467]\u001b[0m GAN_loss/discrim/loss: 0.64569\n",
      "\u001b[32m[1026 11:16:12 @monitor.py:467]\u001b[0m GAN_loss/gen/final-g-loss: 0.99891\n",
      "\u001b[32m[1026 11:16:12 @monitor.py:467]\u001b[0m GAN_loss/gen/klloss: 0.053412\n",
      "\u001b[32m[1026 11:16:12 @monitor.py:467]\u001b[0m GAN_loss/gen/loss: 0.9455\n",
      "\u001b[32m[1026 11:16:12 @monitor.py:467]\u001b[0m QueueInput/queue_size: 50\n",
      "\u001b[32m[1026 11:16:12 @base.py:275]\u001b[0m Start Epoch 566 ...\n"
     ]
    },
    {
     "name": "stderr",
     "output_type": "stream",
     "text": [
      "\n",
      "100%|###################################################################################|175/175[00:05<00:00,32.38it/s]"
     ]
    },
    {
     "name": "stdout",
     "output_type": "stream",
     "text": [
      "\u001b[32m[1026 11:16:18 @base.py:285]\u001b[0m Epoch 566 (global_step 99050) finished, time:5.41 seconds.\n"
     ]
    },
    {
     "name": "stderr",
     "output_type": "stream",
     "text": [
      "\n"
     ]
    },
    {
     "name": "stdout",
     "output_type": "stream",
     "text": [
      "\u001b[32m[1026 11:16:18 @saver.py:79]\u001b[0m Model saved to ../output/Chicago/DATGAN2_1000/model\\model-99050.\n",
      "\u001b[32m[1026 11:16:18 @monitor.py:467]\u001b[0m GAN_loss/discrim/accuracy_fake: 0.966\n",
      "\u001b[32m[1026 11:16:18 @monitor.py:467]\u001b[0m GAN_loss/discrim/accuracy_real: 0.048\n",
      "\u001b[32m[1026 11:16:18 @monitor.py:467]\u001b[0m GAN_loss/discrim/loss: 0.65129\n",
      "\u001b[32m[1026 11:16:18 @monitor.py:467]\u001b[0m GAN_loss/gen/final-g-loss: 0.99613\n",
      "\u001b[32m[1026 11:16:18 @monitor.py:467]\u001b[0m GAN_loss/gen/klloss: 0.050039\n",
      "\u001b[32m[1026 11:16:18 @monitor.py:467]\u001b[0m GAN_loss/gen/loss: 0.94609\n",
      "\u001b[32m[1026 11:16:18 @monitor.py:467]\u001b[0m QueueInput/queue_size: 50\n",
      "\u001b[32m[1026 11:16:18 @base.py:275]\u001b[0m Start Epoch 567 ...\n"
     ]
    },
    {
     "name": "stderr",
     "output_type": "stream",
     "text": [
      "100%|###################################################################################|175/175[00:05<00:00,32.28it/s]"
     ]
    },
    {
     "name": "stdout",
     "output_type": "stream",
     "text": [
      "\u001b[32m[1026 11:16:23 @base.py:285]\u001b[0m Epoch 567 (global_step 99225) finished, time:5.42 seconds.\n",
      "\u001b[32m[1026 11:16:23 @saver.py:79]\u001b[0m Model saved to ../output/Chicago/DATGAN2_1000/model\\model-99225.\n"
     ]
    },
    {
     "name": "stderr",
     "output_type": "stream",
     "text": [
      "\n"
     ]
    },
    {
     "name": "stdout",
     "output_type": "stream",
     "text": [
      "\u001b[32m[1026 11:16:23 @monitor.py:467]\u001b[0m GAN_loss/discrim/accuracy_fake: 0.946\n",
      "\u001b[32m[1026 11:16:23 @monitor.py:467]\u001b[0m GAN_loss/discrim/accuracy_real: 0.068\n",
      "\u001b[32m[1026 11:16:23 @monitor.py:467]\u001b[0m GAN_loss/discrim/loss: 0.64954\n",
      "\u001b[32m[1026 11:16:23 @monitor.py:467]\u001b[0m GAN_loss/gen/final-g-loss: 0.99429\n",
      "\u001b[32m[1026 11:16:23 @monitor.py:467]\u001b[0m GAN_loss/gen/klloss: 0.040964\n",
      "\u001b[32m[1026 11:16:23 @monitor.py:467]\u001b[0m GAN_loss/gen/loss: 0.95333\n",
      "\u001b[32m[1026 11:16:23 @monitor.py:467]\u001b[0m QueueInput/queue_size: 50\n",
      "\u001b[32m[1026 11:16:23 @base.py:275]\u001b[0m Start Epoch 568 ...\n"
     ]
    },
    {
     "name": "stderr",
     "output_type": "stream",
     "text": [
      "100%|###################################################################################|175/175[00:05<00:00,32.38it/s]"
     ]
    },
    {
     "name": "stdout",
     "output_type": "stream",
     "text": [
      "\u001b[32m[1026 11:16:29 @base.py:285]\u001b[0m Epoch 568 (global_step 99400) finished, time:5.41 seconds.\n"
     ]
    },
    {
     "name": "stderr",
     "output_type": "stream",
     "text": [
      "\n"
     ]
    },
    {
     "name": "stdout",
     "output_type": "stream",
     "text": [
      "\u001b[32m[1026 11:16:29 @saver.py:79]\u001b[0m Model saved to ../output/Chicago/DATGAN2_1000/model\\model-99400.\n",
      "\u001b[32m[1026 11:16:29 @monitor.py:467]\u001b[0m GAN_loss/discrim/accuracy_fake: 0.952\n",
      "\u001b[32m[1026 11:16:29 @monitor.py:467]\u001b[0m GAN_loss/discrim/accuracy_real: 0.046\n",
      "\u001b[32m[1026 11:16:29 @monitor.py:467]\u001b[0m GAN_loss/discrim/loss: 0.65336\n",
      "\u001b[32m[1026 11:16:29 @monitor.py:467]\u001b[0m GAN_loss/gen/final-g-loss: 0.99318\n",
      "\u001b[32m[1026 11:16:29 @monitor.py:467]\u001b[0m GAN_loss/gen/klloss: 0.059517\n",
      "\u001b[32m[1026 11:16:29 @monitor.py:467]\u001b[0m GAN_loss/gen/loss: 0.93366\n",
      "\u001b[32m[1026 11:16:29 @monitor.py:467]\u001b[0m QueueInput/queue_size: 50\n",
      "\u001b[32m[1026 11:16:29 @base.py:275]\u001b[0m Start Epoch 569 ...\n"
     ]
    },
    {
     "name": "stderr",
     "output_type": "stream",
     "text": [
      "100%|###################################################################################|175/175[00:05<00:00,32.30it/s]"
     ]
    },
    {
     "name": "stdout",
     "output_type": "stream",
     "text": [
      "\u001b[32m[1026 11:16:34 @base.py:285]\u001b[0m Epoch 569 (global_step 99575) finished, time:5.42 seconds.\n",
      "\u001b[32m[1026 11:16:35 @saver.py:79]\u001b[0m Model saved to ../output/Chicago/DATGAN2_1000/model\\model-99575.\n",
      "\u001b[32m[1026 11:16:35 @monitor.py:467]\u001b[0m GAN_loss/discrim/accuracy_fake: 0.974\n",
      "\u001b[32m[1026 11:16:35 @monitor.py:467]\u001b[0m GAN_loss/discrim/accuracy_real: 0.06\n",
      "\u001b[32m[1026 11:16:35 @monitor.py:467]\u001b[0m GAN_loss/discrim/loss: 0.64868\n",
      "\u001b[32m[1026 11:16:35 @monitor.py:467]\u001b[0m GAN_loss/gen/final-g-loss: 1.0091\n",
      "\u001b[32m[1026 11:16:35 @monitor.py:467]\u001b[0m GAN_loss/gen/klloss: 0.049661\n",
      "\u001b[32m[1026 11:16:35 @monitor.py:467]\u001b[0m GAN_loss/gen/loss: 0.95948\n",
      "\u001b[32m[1026 11:16:35 @monitor.py:467]\u001b[0m QueueInput/queue_size: 50\n",
      "\u001b[32m[1026 11:16:35 @base.py:275]\u001b[0m Start Epoch 570 ...\n"
     ]
    },
    {
     "name": "stderr",
     "output_type": "stream",
     "text": [
      "\n",
      "100%|###################################################################################|175/175[00:05<00:00,32.36it/s]"
     ]
    },
    {
     "name": "stdout",
     "output_type": "stream",
     "text": [
      "\u001b[32m[1026 11:16:40 @base.py:285]\u001b[0m Epoch 570 (global_step 99750) finished, time:5.41 seconds.\n"
     ]
    },
    {
     "name": "stderr",
     "output_type": "stream",
     "text": [
      "\n"
     ]
    },
    {
     "name": "stdout",
     "output_type": "stream",
     "text": [
      "\u001b[32m[1026 11:16:40 @saver.py:79]\u001b[0m Model saved to ../output/Chicago/DATGAN2_1000/model\\model-99750.\n",
      "\u001b[32m[1026 11:16:40 @monitor.py:467]\u001b[0m GAN_loss/discrim/accuracy_fake: 0.962\n",
      "\u001b[32m[1026 11:16:40 @monitor.py:467]\u001b[0m GAN_loss/discrim/accuracy_real: 0.046\n",
      "\u001b[32m[1026 11:16:40 @monitor.py:467]\u001b[0m GAN_loss/discrim/loss: 0.64833\n",
      "\u001b[32m[1026 11:16:40 @monitor.py:467]\u001b[0m GAN_loss/gen/final-g-loss: 0.99408\n",
      "\u001b[32m[1026 11:16:40 @monitor.py:467]\u001b[0m GAN_loss/gen/klloss: 0.047691\n",
      "\u001b[32m[1026 11:16:40 @monitor.py:467]\u001b[0m GAN_loss/gen/loss: 0.94639\n",
      "\u001b[32m[1026 11:16:40 @monitor.py:467]\u001b[0m QueueInput/queue_size: 50\n",
      "\u001b[32m[1026 11:16:40 @base.py:275]\u001b[0m Start Epoch 571 ...\n"
     ]
    },
    {
     "name": "stderr",
     "output_type": "stream",
     "text": [
      "100%|###################################################################################|175/175[00:05<00:00,32.31it/s]"
     ]
    },
    {
     "name": "stdout",
     "output_type": "stream",
     "text": [
      "\u001b[32m[1026 11:16:46 @base.py:285]\u001b[0m Epoch 571 (global_step 99925) finished, time:5.42 seconds.\n",
      "\u001b[32m[1026 11:16:46 @saver.py:79]\u001b[0m Model saved to ../output/Chicago/DATGAN2_1000/model\\model-99925.\n",
      "\u001b[32m[1026 11:16:46 @monitor.py:467]\u001b[0m GAN_loss/discrim/accuracy_fake: 0.96\n",
      "\u001b[32m[1026 11:16:46 @monitor.py:467]\u001b[0m GAN_loss/discrim/accuracy_real: 0.046\n",
      "\u001b[32m[1026 11:16:46 @monitor.py:467]\u001b[0m GAN_loss/discrim/loss: 0.65427\n",
      "\u001b[32m[1026 11:16:46 @monitor.py:467]\u001b[0m GAN_loss/gen/final-g-loss: 1.0109\n",
      "\u001b[32m[1026 11:16:46 @monitor.py:467]\u001b[0m GAN_loss/gen/klloss: 0.068277\n",
      "\u001b[32m[1026 11:16:46 @monitor.py:467]\u001b[0m GAN_loss/gen/loss: 0.9426\n",
      "\u001b[32m[1026 11:16:46 @monitor.py:467]\u001b[0m QueueInput/queue_size: 50\n",
      "\u001b[32m[1026 11:16:46 @base.py:275]\u001b[0m Start Epoch 572 ...\n"
     ]
    },
    {
     "name": "stderr",
     "output_type": "stream",
     "text": [
      "\n",
      "100%|###################################################################################|175/175[00:05<00:00,32.36it/s]"
     ]
    },
    {
     "name": "stdout",
     "output_type": "stream",
     "text": [
      "\u001b[32m[1026 11:16:51 @base.py:285]\u001b[0m Epoch 572 (global_step 100100) finished, time:5.41 seconds.\n"
     ]
    },
    {
     "name": "stderr",
     "output_type": "stream",
     "text": [
      "\n"
     ]
    },
    {
     "name": "stdout",
     "output_type": "stream",
     "text": [
      "\u001b[32m[1026 11:16:51 @saver.py:79]\u001b[0m Model saved to ../output/Chicago/DATGAN2_1000/model\\model-100100.\n",
      "\u001b[32m[1026 11:16:51 @monitor.py:467]\u001b[0m GAN_loss/discrim/accuracy_fake: 0.952\n",
      "\u001b[32m[1026 11:16:51 @monitor.py:467]\u001b[0m GAN_loss/discrim/accuracy_real: 0.044\n",
      "\u001b[32m[1026 11:16:51 @monitor.py:467]\u001b[0m GAN_loss/discrim/loss: 0.65265\n",
      "\u001b[32m[1026 11:16:51 @monitor.py:467]\u001b[0m GAN_loss/gen/final-g-loss: 0.99487\n",
      "\u001b[32m[1026 11:16:51 @monitor.py:467]\u001b[0m GAN_loss/gen/klloss: 0.063782\n",
      "\u001b[32m[1026 11:16:51 @monitor.py:467]\u001b[0m GAN_loss/gen/loss: 0.93108\n",
      "\u001b[32m[1026 11:16:51 @monitor.py:467]\u001b[0m QueueInput/queue_size: 50\n",
      "\u001b[32m[1026 11:16:51 @base.py:275]\u001b[0m Start Epoch 573 ...\n"
     ]
    },
    {
     "name": "stderr",
     "output_type": "stream",
     "text": [
      "100%|###################################################################################|175/175[00:05<00:00,32.35it/s]"
     ]
    },
    {
     "name": "stdout",
     "output_type": "stream",
     "text": [
      "\u001b[32m[1026 11:16:57 @base.py:285]\u001b[0m Epoch 573 (global_step 100275) finished, time:5.41 seconds.\n",
      "\u001b[32m[1026 11:16:57 @saver.py:79]\u001b[0m Model saved to ../output/Chicago/DATGAN2_1000/model\\model-100275.\n",
      "\u001b[32m[1026 11:16:57 @monitor.py:467]\u001b[0m GAN_loss/discrim/accuracy_fake: 0.964\n"
     ]
    },
    {
     "name": "stderr",
     "output_type": "stream",
     "text": [
      "\n"
     ]
    },
    {
     "name": "stdout",
     "output_type": "stream",
     "text": [
      "\u001b[32m[1026 11:16:57 @monitor.py:467]\u001b[0m GAN_loss/discrim/accuracy_real: 0.036\n",
      "\u001b[32m[1026 11:16:57 @monitor.py:467]\u001b[0m GAN_loss/discrim/loss: 0.6482\n",
      "\u001b[32m[1026 11:16:57 @monitor.py:467]\u001b[0m GAN_loss/gen/final-g-loss: 1.0332\n",
      "\u001b[32m[1026 11:16:57 @monitor.py:467]\u001b[0m GAN_loss/gen/klloss: 0.081639\n",
      "\u001b[32m[1026 11:16:57 @monitor.py:467]\u001b[0m GAN_loss/gen/loss: 0.95158\n",
      "\u001b[32m[1026 11:16:57 @monitor.py:467]\u001b[0m QueueInput/queue_size: 50\n",
      "\u001b[32m[1026 11:16:57 @base.py:275]\u001b[0m Start Epoch 574 ...\n"
     ]
    },
    {
     "name": "stderr",
     "output_type": "stream",
     "text": [
      "100%|###################################################################################|175/175[00:05<00:00,32.35it/s]"
     ]
    },
    {
     "name": "stdout",
     "output_type": "stream",
     "text": [
      "\u001b[32m[1026 11:17:02 @base.py:285]\u001b[0m Epoch 574 (global_step 100450) finished, time:5.41 seconds.\n"
     ]
    },
    {
     "name": "stderr",
     "output_type": "stream",
     "text": [
      "\n"
     ]
    },
    {
     "name": "stdout",
     "output_type": "stream",
     "text": [
      "\u001b[32m[1026 11:17:03 @saver.py:79]\u001b[0m Model saved to ../output/Chicago/DATGAN2_1000/model\\model-100450.\n",
      "\u001b[32m[1026 11:17:03 @monitor.py:467]\u001b[0m GAN_loss/discrim/accuracy_fake: 0.972\n",
      "\u001b[32m[1026 11:17:03 @monitor.py:467]\u001b[0m GAN_loss/discrim/accuracy_real: 0.044\n",
      "\u001b[32m[1026 11:17:03 @monitor.py:467]\u001b[0m GAN_loss/discrim/loss: 0.65209\n",
      "\u001b[32m[1026 11:17:03 @monitor.py:467]\u001b[0m GAN_loss/gen/final-g-loss: 1.0156\n",
      "\u001b[32m[1026 11:17:03 @monitor.py:467]\u001b[0m GAN_loss/gen/klloss: 0.067664\n",
      "\u001b[32m[1026 11:17:03 @monitor.py:467]\u001b[0m GAN_loss/gen/loss: 0.94798\n",
      "\u001b[32m[1026 11:17:03 @monitor.py:467]\u001b[0m QueueInput/queue_size: 50\n",
      "\u001b[32m[1026 11:17:03 @base.py:275]\u001b[0m Start Epoch 575 ...\n"
     ]
    },
    {
     "name": "stderr",
     "output_type": "stream",
     "text": [
      "100%|###################################################################################|175/175[00:05<00:00,32.28it/s]"
     ]
    },
    {
     "name": "stdout",
     "output_type": "stream",
     "text": [
      "\u001b[32m[1026 11:17:08 @base.py:285]\u001b[0m Epoch 575 (global_step 100625) finished, time:5.42 seconds.\n",
      "\u001b[32m[1026 11:17:08 @saver.py:79]\u001b[0m Model saved to ../output/Chicago/DATGAN2_1000/model\\model-100625.\n",
      "\u001b[32m[1026 11:17:08 @monitor.py:467]\u001b[0m GAN_loss/discrim/accuracy_fake: 0.976\n"
     ]
    },
    {
     "name": "stderr",
     "output_type": "stream",
     "text": [
      "\n"
     ]
    },
    {
     "name": "stdout",
     "output_type": "stream",
     "text": [
      "\u001b[32m[1026 11:17:08 @monitor.py:467]\u001b[0m GAN_loss/discrim/accuracy_real: 0.028\n",
      "\u001b[32m[1026 11:17:08 @monitor.py:467]\u001b[0m GAN_loss/discrim/loss: 0.64639\n",
      "\u001b[32m[1026 11:17:08 @monitor.py:467]\u001b[0m GAN_loss/gen/final-g-loss: 1.0089\n",
      "\u001b[32m[1026 11:17:08 @monitor.py:467]\u001b[0m GAN_loss/gen/klloss: 0.055027\n",
      "\u001b[32m[1026 11:17:08 @monitor.py:467]\u001b[0m GAN_loss/gen/loss: 0.95386\n",
      "\u001b[32m[1026 11:17:08 @monitor.py:467]\u001b[0m QueueInput/queue_size: 50\n",
      "\u001b[32m[1026 11:17:08 @base.py:275]\u001b[0m Start Epoch 576 ...\n"
     ]
    },
    {
     "name": "stderr",
     "output_type": "stream",
     "text": [
      "100%|###################################################################################|175/175[00:05<00:00,32.33it/s]"
     ]
    },
    {
     "name": "stdout",
     "output_type": "stream",
     "text": [
      "\u001b[32m[1026 11:17:14 @base.py:285]\u001b[0m Epoch 576 (global_step 100800) finished, time:5.41 seconds.\n"
     ]
    },
    {
     "name": "stderr",
     "output_type": "stream",
     "text": [
      "\n"
     ]
    },
    {
     "name": "stdout",
     "output_type": "stream",
     "text": [
      "\u001b[32m[1026 11:17:14 @saver.py:79]\u001b[0m Model saved to ../output/Chicago/DATGAN2_1000/model\\model-100800.\n",
      "\u001b[32m[1026 11:17:14 @monitor.py:467]\u001b[0m GAN_loss/discrim/accuracy_fake: 0.976\n",
      "\u001b[32m[1026 11:17:14 @monitor.py:467]\u001b[0m GAN_loss/discrim/accuracy_real: 0.054\n",
      "\u001b[32m[1026 11:17:14 @monitor.py:467]\u001b[0m GAN_loss/discrim/loss: 0.64304\n",
      "\u001b[32m[1026 11:17:14 @monitor.py:467]\u001b[0m GAN_loss/gen/final-g-loss: 1.0065\n",
      "\u001b[32m[1026 11:17:14 @monitor.py:467]\u001b[0m GAN_loss/gen/klloss: 0.050134\n",
      "\u001b[32m[1026 11:17:14 @monitor.py:467]\u001b[0m GAN_loss/gen/loss: 0.95636\n",
      "\u001b[32m[1026 11:17:14 @monitor.py:467]\u001b[0m QueueInput/queue_size: 50\n",
      "\u001b[32m[1026 11:17:14 @base.py:275]\u001b[0m Start Epoch 577 ...\n"
     ]
    },
    {
     "name": "stderr",
     "output_type": "stream",
     "text": [
      "100%|###################################################################################|175/175[00:05<00:00,32.31it/s]"
     ]
    },
    {
     "name": "stdout",
     "output_type": "stream",
     "text": [
      "\u001b[32m[1026 11:17:19 @base.py:285]\u001b[0m Epoch 577 (global_step 100975) finished, time:5.42 seconds.\n",
      "\u001b[32m[1026 11:17:19 @saver.py:79]\u001b[0m Model saved to ../output/Chicago/DATGAN2_1000/model\\model-100975.\n",
      "\u001b[32m[1026 11:17:19 @monitor.py:467]\u001b[0m GAN_loss/discrim/accuracy_fake: 0.942\n"
     ]
    },
    {
     "name": "stderr",
     "output_type": "stream",
     "text": [
      "\n"
     ]
    },
    {
     "name": "stdout",
     "output_type": "stream",
     "text": [
      "\u001b[32m[1026 11:17:19 @monitor.py:467]\u001b[0m GAN_loss/discrim/accuracy_real: 0.058\n",
      "\u001b[32m[1026 11:17:19 @monitor.py:467]\u001b[0m GAN_loss/discrim/loss: 0.65205\n",
      "\u001b[32m[1026 11:17:19 @monitor.py:467]\u001b[0m GAN_loss/gen/final-g-loss: 1.0049\n",
      "\u001b[32m[1026 11:17:19 @monitor.py:467]\u001b[0m GAN_loss/gen/klloss: 0.071127\n",
      "\u001b[32m[1026 11:17:19 @monitor.py:467]\u001b[0m GAN_loss/gen/loss: 0.93381\n",
      "\u001b[32m[1026 11:17:19 @monitor.py:467]\u001b[0m QueueInput/queue_size: 50\n",
      "\u001b[32m[1026 11:17:19 @base.py:275]\u001b[0m Start Epoch 578 ...\n"
     ]
    },
    {
     "name": "stderr",
     "output_type": "stream",
     "text": [
      "100%|###################################################################################|175/175[00:05<00:00,32.34it/s]"
     ]
    },
    {
     "name": "stdout",
     "output_type": "stream",
     "text": [
      "\u001b[32m[1026 11:17:25 @base.py:285]\u001b[0m Epoch 578 (global_step 101150) finished, time:5.41 seconds.\n"
     ]
    },
    {
     "name": "stderr",
     "output_type": "stream",
     "text": [
      "\n"
     ]
    },
    {
     "name": "stdout",
     "output_type": "stream",
     "text": [
      "\u001b[32m[1026 11:17:25 @saver.py:79]\u001b[0m Model saved to ../output/Chicago/DATGAN2_1000/model\\model-101150.\n",
      "\u001b[32m[1026 11:17:25 @monitor.py:467]\u001b[0m GAN_loss/discrim/accuracy_fake: 0.974\n",
      "\u001b[32m[1026 11:17:25 @monitor.py:467]\u001b[0m GAN_loss/discrim/accuracy_real: 0.028\n",
      "\u001b[32m[1026 11:17:25 @monitor.py:467]\u001b[0m GAN_loss/discrim/loss: 0.65227\n",
      "\u001b[32m[1026 11:17:25 @monitor.py:467]\u001b[0m GAN_loss/gen/final-g-loss: 1.0258\n",
      "\u001b[32m[1026 11:17:25 @monitor.py:467]\u001b[0m GAN_loss/gen/klloss: 0.08795\n",
      "\u001b[32m[1026 11:17:25 @monitor.py:467]\u001b[0m GAN_loss/gen/loss: 0.9378\n",
      "\u001b[32m[1026 11:17:25 @monitor.py:467]\u001b[0m QueueInput/queue_size: 50\n",
      "\u001b[32m[1026 11:17:25 @base.py:275]\u001b[0m Start Epoch 579 ...\n"
     ]
    },
    {
     "name": "stderr",
     "output_type": "stream",
     "text": [
      "100%|###################################################################################|175/175[00:05<00:00,32.27it/s]"
     ]
    },
    {
     "name": "stdout",
     "output_type": "stream",
     "text": [
      "\u001b[32m[1026 11:17:30 @base.py:285]\u001b[0m Epoch 579 (global_step 101325) finished, time:5.42 seconds.\n",
      "\u001b[32m[1026 11:17:31 @saver.py:79]\u001b[0m Model saved to ../output/Chicago/DATGAN2_1000/model\\model-101325.\n",
      "\u001b[32m[1026 11:17:31 @monitor.py:467]\u001b[0m GAN_loss/discrim/accuracy_fake: 0.986\n"
     ]
    },
    {
     "name": "stderr",
     "output_type": "stream",
     "text": [
      "\n"
     ]
    },
    {
     "name": "stdout",
     "output_type": "stream",
     "text": [
      "\u001b[32m[1026 11:17:31 @monitor.py:467]\u001b[0m GAN_loss/discrim/accuracy_real: 0.05\n",
      "\u001b[32m[1026 11:17:31 @monitor.py:467]\u001b[0m GAN_loss/discrim/loss: 0.64624\n",
      "\u001b[32m[1026 11:17:31 @monitor.py:467]\u001b[0m GAN_loss/gen/final-g-loss: 0.99969\n",
      "\u001b[32m[1026 11:17:31 @monitor.py:467]\u001b[0m GAN_loss/gen/klloss: 0.048871\n",
      "\u001b[32m[1026 11:17:31 @monitor.py:467]\u001b[0m GAN_loss/gen/loss: 0.95082\n",
      "\u001b[32m[1026 11:17:31 @monitor.py:467]\u001b[0m QueueInput/queue_size: 50\n",
      "\u001b[32m[1026 11:17:31 @base.py:275]\u001b[0m Start Epoch 580 ...\n"
     ]
    },
    {
     "name": "stderr",
     "output_type": "stream",
     "text": [
      "100%|###################################################################################|175/175[00:05<00:00,32.32it/s]"
     ]
    },
    {
     "name": "stdout",
     "output_type": "stream",
     "text": [
      "\u001b[32m[1026 11:17:36 @base.py:285]\u001b[0m Epoch 580 (global_step 101500) finished, time:5.41 seconds.\n"
     ]
    },
    {
     "name": "stderr",
     "output_type": "stream",
     "text": [
      "\n"
     ]
    },
    {
     "name": "stdout",
     "output_type": "stream",
     "text": [
      "\u001b[32m[1026 11:17:36 @saver.py:79]\u001b[0m Model saved to ../output/Chicago/DATGAN2_1000/model\\model-101500.\n",
      "\u001b[32m[1026 11:17:36 @monitor.py:467]\u001b[0m GAN_loss/discrim/accuracy_fake: 0.972\n",
      "\u001b[32m[1026 11:17:36 @monitor.py:467]\u001b[0m GAN_loss/discrim/accuracy_real: 0.048\n",
      "\u001b[32m[1026 11:17:36 @monitor.py:467]\u001b[0m GAN_loss/discrim/loss: 0.64765\n",
      "\u001b[32m[1026 11:17:36 @monitor.py:467]\u001b[0m GAN_loss/gen/final-g-loss: 0.98649\n",
      "\u001b[32m[1026 11:17:36 @monitor.py:467]\u001b[0m GAN_loss/gen/klloss: 0.040047\n",
      "\u001b[32m[1026 11:17:36 @monitor.py:467]\u001b[0m GAN_loss/gen/loss: 0.94644\n",
      "\u001b[32m[1026 11:17:36 @monitor.py:467]\u001b[0m QueueInput/queue_size: 50\n",
      "\u001b[32m[1026 11:17:36 @base.py:275]\u001b[0m Start Epoch 581 ...\n"
     ]
    },
    {
     "name": "stderr",
     "output_type": "stream",
     "text": [
      "100%|###################################################################################|175/175[00:05<00:00,32.27it/s]"
     ]
    },
    {
     "name": "stdout",
     "output_type": "stream",
     "text": [
      "\u001b[32m[1026 11:17:42 @base.py:285]\u001b[0m Epoch 581 (global_step 101675) finished, time:5.42 seconds.\n",
      "\u001b[32m[1026 11:17:42 @saver.py:79]\u001b[0m Model saved to ../output/Chicago/DATGAN2_1000/model\\model-101675.\n",
      "\u001b[32m[1026 11:17:42 @monitor.py:467]\u001b[0m GAN_loss/discrim/accuracy_fake: 0.948\n"
     ]
    },
    {
     "name": "stderr",
     "output_type": "stream",
     "text": [
      "\n"
     ]
    },
    {
     "name": "stdout",
     "output_type": "stream",
     "text": [
      "\u001b[32m[1026 11:17:42 @monitor.py:467]\u001b[0m GAN_loss/discrim/accuracy_real: 0.056\n",
      "\u001b[32m[1026 11:17:42 @monitor.py:467]\u001b[0m GAN_loss/discrim/loss: 0.65194\n",
      "\u001b[32m[1026 11:17:42 @monitor.py:467]\u001b[0m GAN_loss/gen/final-g-loss: 1.01\n",
      "\u001b[32m[1026 11:17:42 @monitor.py:467]\u001b[0m GAN_loss/gen/klloss: 0.065244\n",
      "\u001b[32m[1026 11:17:42 @monitor.py:467]\u001b[0m GAN_loss/gen/loss: 0.94473\n",
      "\u001b[32m[1026 11:17:42 @monitor.py:467]\u001b[0m QueueInput/queue_size: 50\n",
      "\u001b[32m[1026 11:17:42 @base.py:275]\u001b[0m Start Epoch 582 ...\n"
     ]
    },
    {
     "name": "stderr",
     "output_type": "stream",
     "text": [
      "100%|###################################################################################|175/175[00:05<00:00,32.27it/s]"
     ]
    },
    {
     "name": "stdout",
     "output_type": "stream",
     "text": [
      "\u001b[32m[1026 11:17:47 @base.py:285]\u001b[0m Epoch 582 (global_step 101850) finished, time:5.42 seconds.\n"
     ]
    },
    {
     "name": "stderr",
     "output_type": "stream",
     "text": [
      "\n"
     ]
    },
    {
     "name": "stdout",
     "output_type": "stream",
     "text": [
      "\u001b[32m[1026 11:17:47 @saver.py:79]\u001b[0m Model saved to ../output/Chicago/DATGAN2_1000/model\\model-101850.\n",
      "\u001b[32m[1026 11:17:47 @monitor.py:467]\u001b[0m GAN_loss/discrim/accuracy_fake: 0.96\n",
      "\u001b[32m[1026 11:17:47 @monitor.py:467]\u001b[0m GAN_loss/discrim/accuracy_real: 0.04\n",
      "\u001b[32m[1026 11:17:47 @monitor.py:467]\u001b[0m GAN_loss/discrim/loss: 0.65395\n",
      "\u001b[32m[1026 11:17:47 @monitor.py:467]\u001b[0m GAN_loss/gen/final-g-loss: 0.99843\n",
      "\u001b[32m[1026 11:17:47 @monitor.py:467]\u001b[0m GAN_loss/gen/klloss: 0.048116\n",
      "\u001b[32m[1026 11:17:47 @monitor.py:467]\u001b[0m GAN_loss/gen/loss: 0.95031\n",
      "\u001b[32m[1026 11:17:47 @monitor.py:467]\u001b[0m QueueInput/queue_size: 50\n",
      "\u001b[32m[1026 11:17:47 @base.py:275]\u001b[0m Start Epoch 583 ...\n"
     ]
    },
    {
     "name": "stderr",
     "output_type": "stream",
     "text": [
      "100%|###################################################################################|175/175[00:05<00:00,32.31it/s]"
     ]
    },
    {
     "name": "stdout",
     "output_type": "stream",
     "text": [
      "\u001b[32m[1026 11:17:53 @base.py:285]\u001b[0m Epoch 583 (global_step 102025) finished, time:5.42 seconds.\n",
      "\u001b[32m[1026 11:17:53 @saver.py:79]\u001b[0m Model saved to ../output/Chicago/DATGAN2_1000/model\\model-102025.\n",
      "\u001b[32m[1026 11:17:53 @monitor.py:467]\u001b[0m GAN_loss/discrim/accuracy_fake: 0.976\n"
     ]
    },
    {
     "name": "stderr",
     "output_type": "stream",
     "text": [
      "\n"
     ]
    },
    {
     "name": "stdout",
     "output_type": "stream",
     "text": [
      "\u001b[32m[1026 11:17:53 @monitor.py:467]\u001b[0m GAN_loss/discrim/accuracy_real: 0.048\n",
      "\u001b[32m[1026 11:17:53 @monitor.py:467]\u001b[0m GAN_loss/discrim/loss: 0.6481\n",
      "\u001b[32m[1026 11:17:53 @monitor.py:467]\u001b[0m GAN_loss/gen/final-g-loss: 0.99942\n",
      "\u001b[32m[1026 11:17:53 @monitor.py:467]\u001b[0m GAN_loss/gen/klloss: 0.053649\n",
      "\u001b[32m[1026 11:17:53 @monitor.py:467]\u001b[0m GAN_loss/gen/loss: 0.94577\n",
      "\u001b[32m[1026 11:17:53 @monitor.py:467]\u001b[0m QueueInput/queue_size: 50\n",
      "\u001b[32m[1026 11:17:53 @base.py:275]\u001b[0m Start Epoch 584 ...\n"
     ]
    },
    {
     "name": "stderr",
     "output_type": "stream",
     "text": [
      "100%|###################################################################################|175/175[00:05<00:00,32.32it/s]"
     ]
    },
    {
     "name": "stdout",
     "output_type": "stream",
     "text": [
      "\u001b[32m[1026 11:17:58 @base.py:285]\u001b[0m Epoch 584 (global_step 102200) finished, time:5.41 seconds.\n"
     ]
    },
    {
     "name": "stderr",
     "output_type": "stream",
     "text": [
      "\n"
     ]
    },
    {
     "name": "stdout",
     "output_type": "stream",
     "text": [
      "\u001b[32m[1026 11:17:59 @saver.py:79]\u001b[0m Model saved to ../output/Chicago/DATGAN2_1000/model\\model-102200.\n",
      "\u001b[32m[1026 11:17:59 @monitor.py:467]\u001b[0m GAN_loss/discrim/accuracy_fake: 0.976\n",
      "\u001b[32m[1026 11:17:59 @monitor.py:467]\u001b[0m GAN_loss/discrim/accuracy_real: 0.058\n",
      "\u001b[32m[1026 11:17:59 @monitor.py:467]\u001b[0m GAN_loss/discrim/loss: 0.64929\n",
      "\u001b[32m[1026 11:17:59 @monitor.py:467]\u001b[0m GAN_loss/gen/final-g-loss: 1.0137\n",
      "\u001b[32m[1026 11:17:59 @monitor.py:467]\u001b[0m GAN_loss/gen/klloss: 0.070026\n",
      "\u001b[32m[1026 11:17:59 @monitor.py:467]\u001b[0m GAN_loss/gen/loss: 0.9437\n",
      "\u001b[32m[1026 11:17:59 @monitor.py:467]\u001b[0m QueueInput/queue_size: 50\n",
      "\u001b[32m[1026 11:17:59 @base.py:275]\u001b[0m Start Epoch 585 ...\n"
     ]
    },
    {
     "name": "stderr",
     "output_type": "stream",
     "text": [
      "100%|###################################################################################|175/175[00:05<00:00,32.28it/s]"
     ]
    },
    {
     "name": "stdout",
     "output_type": "stream",
     "text": [
      "\u001b[32m[1026 11:18:04 @base.py:285]\u001b[0m Epoch 585 (global_step 102375) finished, time:5.42 seconds.\n",
      "\u001b[32m[1026 11:18:04 @saver.py:79]\u001b[0m Model saved to ../output/Chicago/DATGAN2_1000/model\\model-102375.\n",
      "\u001b[32m[1026 11:18:04 @monitor.py:467]\u001b[0m GAN_loss/discrim/accuracy_fake: 0.976\n"
     ]
    },
    {
     "name": "stderr",
     "output_type": "stream",
     "text": [
      "\n"
     ]
    },
    {
     "name": "stdout",
     "output_type": "stream",
     "text": [
      "\u001b[32m[1026 11:18:04 @monitor.py:467]\u001b[0m GAN_loss/discrim/accuracy_real: 0.038\n",
      "\u001b[32m[1026 11:18:04 @monitor.py:467]\u001b[0m GAN_loss/discrim/loss: 0.65072\n",
      "\u001b[32m[1026 11:18:04 @monitor.py:467]\u001b[0m GAN_loss/gen/final-g-loss: 0.98481\n",
      "\u001b[32m[1026 11:18:04 @monitor.py:467]\u001b[0m GAN_loss/gen/klloss: 0.041224\n",
      "\u001b[32m[1026 11:18:04 @monitor.py:467]\u001b[0m GAN_loss/gen/loss: 0.94358\n",
      "\u001b[32m[1026 11:18:04 @monitor.py:467]\u001b[0m QueueInput/queue_size: 50\n",
      "\u001b[32m[1026 11:18:04 @base.py:275]\u001b[0m Start Epoch 586 ...\n"
     ]
    },
    {
     "name": "stderr",
     "output_type": "stream",
     "text": [
      "100%|###################################################################################|175/175[00:05<00:00,32.31it/s]"
     ]
    },
    {
     "name": "stdout",
     "output_type": "stream",
     "text": [
      "\u001b[32m[1026 11:18:10 @base.py:285]\u001b[0m Epoch 586 (global_step 102550) finished, time:5.42 seconds.\n"
     ]
    },
    {
     "name": "stderr",
     "output_type": "stream",
     "text": [
      "\n"
     ]
    },
    {
     "name": "stdout",
     "output_type": "stream",
     "text": [
      "\u001b[32m[1026 11:18:10 @saver.py:79]\u001b[0m Model saved to ../output/Chicago/DATGAN2_1000/model\\model-102550.\n",
      "\u001b[32m[1026 11:18:10 @monitor.py:467]\u001b[0m GAN_loss/discrim/accuracy_fake: 0.974\n",
      "\u001b[32m[1026 11:18:10 @monitor.py:467]\u001b[0m GAN_loss/discrim/accuracy_real: 0.044\n",
      "\u001b[32m[1026 11:18:10 @monitor.py:467]\u001b[0m GAN_loss/discrim/loss: 0.64922\n",
      "\u001b[32m[1026 11:18:10 @monitor.py:467]\u001b[0m GAN_loss/gen/final-g-loss: 1.0144\n",
      "\u001b[32m[1026 11:18:10 @monitor.py:467]\u001b[0m GAN_loss/gen/klloss: 0.06447\n",
      "\u001b[32m[1026 11:18:10 @monitor.py:467]\u001b[0m GAN_loss/gen/loss: 0.94994\n",
      "\u001b[32m[1026 11:18:10 @monitor.py:467]\u001b[0m QueueInput/queue_size: 50\n",
      "\u001b[32m[1026 11:18:10 @base.py:275]\u001b[0m Start Epoch 587 ...\n"
     ]
    },
    {
     "name": "stderr",
     "output_type": "stream",
     "text": [
      "100%|###################################################################################|175/175[00:05<00:00,32.30it/s]"
     ]
    },
    {
     "name": "stdout",
     "output_type": "stream",
     "text": [
      "\u001b[32m[1026 11:18:15 @base.py:285]\u001b[0m Epoch 587 (global_step 102725) finished, time:5.42 seconds.\n"
     ]
    },
    {
     "name": "stderr",
     "output_type": "stream",
     "text": [
      "\n"
     ]
    },
    {
     "name": "stdout",
     "output_type": "stream",
     "text": [
      "\u001b[32m[1026 11:18:15 @saver.py:79]\u001b[0m Model saved to ../output/Chicago/DATGAN2_1000/model\\model-102725.\n",
      "\u001b[32m[1026 11:18:15 @monitor.py:467]\u001b[0m GAN_loss/discrim/accuracy_fake: 0.97\n",
      "\u001b[32m[1026 11:18:15 @monitor.py:467]\u001b[0m GAN_loss/discrim/accuracy_real: 0.048\n",
      "\u001b[32m[1026 11:18:15 @monitor.py:467]\u001b[0m GAN_loss/discrim/loss: 0.64821\n",
      "\u001b[32m[1026 11:18:15 @monitor.py:467]\u001b[0m GAN_loss/gen/final-g-loss: 0.98863\n",
      "\u001b[32m[1026 11:18:15 @monitor.py:467]\u001b[0m GAN_loss/gen/klloss: 0.047789\n",
      "\u001b[32m[1026 11:18:15 @monitor.py:467]\u001b[0m GAN_loss/gen/loss: 0.94084\n",
      "\u001b[32m[1026 11:18:15 @monitor.py:467]\u001b[0m QueueInput/queue_size: 50\n",
      "\u001b[32m[1026 11:18:15 @base.py:275]\u001b[0m Start Epoch 588 ...\n"
     ]
    },
    {
     "name": "stderr",
     "output_type": "stream",
     "text": [
      "100%|###################################################################################|175/175[00:05<00:00,32.31it/s]"
     ]
    },
    {
     "name": "stdout",
     "output_type": "stream",
     "text": [
      "\u001b[32m[1026 11:18:21 @base.py:285]\u001b[0m Epoch 588 (global_step 102900) finished, time:5.42 seconds.\n"
     ]
    },
    {
     "name": "stderr",
     "output_type": "stream",
     "text": [
      "\n"
     ]
    },
    {
     "name": "stdout",
     "output_type": "stream",
     "text": [
      "\u001b[32m[1026 11:18:21 @saver.py:79]\u001b[0m Model saved to ../output/Chicago/DATGAN2_1000/model\\model-102900.\n",
      "\u001b[32m[1026 11:18:21 @monitor.py:467]\u001b[0m GAN_loss/discrim/accuracy_fake: 0.968\n",
      "\u001b[32m[1026 11:18:21 @monitor.py:467]\u001b[0m GAN_loss/discrim/accuracy_real: 0.048\n",
      "\u001b[32m[1026 11:18:21 @monitor.py:467]\u001b[0m GAN_loss/discrim/loss: 0.65029\n",
      "\u001b[32m[1026 11:18:21 @monitor.py:467]\u001b[0m GAN_loss/gen/final-g-loss: 1.0072\n",
      "\u001b[32m[1026 11:18:21 @monitor.py:467]\u001b[0m GAN_loss/gen/klloss: 0.061319\n",
      "\u001b[32m[1026 11:18:21 @monitor.py:467]\u001b[0m GAN_loss/gen/loss: 0.94584\n",
      "\u001b[32m[1026 11:18:21 @monitor.py:467]\u001b[0m QueueInput/queue_size: 50\n",
      "\u001b[32m[1026 11:18:21 @base.py:275]\u001b[0m Start Epoch 589 ...\n"
     ]
    },
    {
     "name": "stderr",
     "output_type": "stream",
     "text": [
      "100%|###################################################################################|175/175[00:05<00:00,32.33it/s]"
     ]
    },
    {
     "name": "stdout",
     "output_type": "stream",
     "text": [
      "\u001b[32m[1026 11:18:26 @base.py:285]\u001b[0m Epoch 589 (global_step 103075) finished, time:5.41 seconds.\n"
     ]
    },
    {
     "name": "stderr",
     "output_type": "stream",
     "text": [
      "\n"
     ]
    },
    {
     "name": "stdout",
     "output_type": "stream",
     "text": [
      "\u001b[32m[1026 11:18:27 @saver.py:79]\u001b[0m Model saved to ../output/Chicago/DATGAN2_1000/model\\model-103075.\n",
      "\u001b[32m[1026 11:18:27 @monitor.py:467]\u001b[0m GAN_loss/discrim/accuracy_fake: 0.956\n",
      "\u001b[32m[1026 11:18:27 @monitor.py:467]\u001b[0m GAN_loss/discrim/accuracy_real: 0.072\n",
      "\u001b[32m[1026 11:18:27 @monitor.py:467]\u001b[0m GAN_loss/discrim/loss: 0.6477\n",
      "\u001b[32m[1026 11:18:27 @monitor.py:467]\u001b[0m GAN_loss/gen/final-g-loss: 0.98104\n",
      "\u001b[32m[1026 11:18:27 @monitor.py:467]\u001b[0m GAN_loss/gen/klloss: 0.041951\n",
      "\u001b[32m[1026 11:18:27 @monitor.py:467]\u001b[0m GAN_loss/gen/loss: 0.93909\n",
      "\u001b[32m[1026 11:18:27 @monitor.py:467]\u001b[0m QueueInput/queue_size: 50\n",
      "\u001b[32m[1026 11:18:27 @base.py:275]\u001b[0m Start Epoch 590 ...\n"
     ]
    },
    {
     "name": "stderr",
     "output_type": "stream",
     "text": [
      "100%|###################################################################################|175/175[00:05<00:00,32.32it/s]"
     ]
    },
    {
     "name": "stdout",
     "output_type": "stream",
     "text": [
      "\u001b[32m[1026 11:18:32 @base.py:285]\u001b[0m Epoch 590 (global_step 103250) finished, time:5.42 seconds.\n"
     ]
    },
    {
     "name": "stderr",
     "output_type": "stream",
     "text": [
      "\n"
     ]
    },
    {
     "name": "stdout",
     "output_type": "stream",
     "text": [
      "\u001b[32m[1026 11:18:32 @saver.py:79]\u001b[0m Model saved to ../output/Chicago/DATGAN2_1000/model\\model-103250.\n",
      "\u001b[32m[1026 11:18:32 @monitor.py:467]\u001b[0m GAN_loss/discrim/accuracy_fake: 0.962\n",
      "\u001b[32m[1026 11:18:32 @monitor.py:467]\u001b[0m GAN_loss/discrim/accuracy_real: 0.052\n",
      "\u001b[32m[1026 11:18:32 @monitor.py:467]\u001b[0m GAN_loss/discrim/loss: 0.64933\n",
      "\u001b[32m[1026 11:18:32 @monitor.py:467]\u001b[0m GAN_loss/gen/final-g-loss: 1.0005\n",
      "\u001b[32m[1026 11:18:32 @monitor.py:467]\u001b[0m GAN_loss/gen/klloss: 0.059495\n",
      "\u001b[32m[1026 11:18:32 @monitor.py:467]\u001b[0m GAN_loss/gen/loss: 0.94101\n",
      "\u001b[32m[1026 11:18:32 @monitor.py:467]\u001b[0m QueueInput/queue_size: 50\n",
      "\u001b[32m[1026 11:18:32 @base.py:275]\u001b[0m Start Epoch 591 ...\n"
     ]
    },
    {
     "name": "stderr",
     "output_type": "stream",
     "text": [
      "100%|###################################################################################|175/175[00:05<00:00,32.29it/s]"
     ]
    },
    {
     "name": "stdout",
     "output_type": "stream",
     "text": [
      "\u001b[32m[1026 11:18:38 @base.py:285]\u001b[0m Epoch 591 (global_step 103425) finished, time:5.42 seconds.\n"
     ]
    },
    {
     "name": "stderr",
     "output_type": "stream",
     "text": [
      "\n"
     ]
    },
    {
     "name": "stdout",
     "output_type": "stream",
     "text": [
      "\u001b[32m[1026 11:18:38 @saver.py:79]\u001b[0m Model saved to ../output/Chicago/DATGAN2_1000/model\\model-103425.\n",
      "\u001b[32m[1026 11:18:38 @monitor.py:467]\u001b[0m GAN_loss/discrim/accuracy_fake: 0.972\n",
      "\u001b[32m[1026 11:18:38 @monitor.py:467]\u001b[0m GAN_loss/discrim/accuracy_real: 0.05\n",
      "\u001b[32m[1026 11:18:38 @monitor.py:467]\u001b[0m GAN_loss/discrim/loss: 0.63847\n",
      "\u001b[32m[1026 11:18:38 @monitor.py:467]\u001b[0m GAN_loss/gen/final-g-loss: 0.99819\n",
      "\u001b[32m[1026 11:18:38 @monitor.py:467]\u001b[0m GAN_loss/gen/klloss: 0.047553\n",
      "\u001b[32m[1026 11:18:38 @monitor.py:467]\u001b[0m GAN_loss/gen/loss: 0.95064\n",
      "\u001b[32m[1026 11:18:38 @monitor.py:467]\u001b[0m QueueInput/queue_size: 50\n",
      "\u001b[32m[1026 11:18:38 @base.py:275]\u001b[0m Start Epoch 592 ...\n"
     ]
    },
    {
     "name": "stderr",
     "output_type": "stream",
     "text": [
      "100%|###################################################################################|175/175[00:05<00:00,32.37it/s]"
     ]
    },
    {
     "name": "stdout",
     "output_type": "stream",
     "text": [
      "\u001b[32m[1026 11:18:43 @base.py:285]\u001b[0m Epoch 592 (global_step 103600) finished, time:5.41 seconds.\n"
     ]
    },
    {
     "name": "stderr",
     "output_type": "stream",
     "text": [
      "\n"
     ]
    },
    {
     "name": "stdout",
     "output_type": "stream",
     "text": [
      "\u001b[32m[1026 11:18:43 @saver.py:79]\u001b[0m Model saved to ../output/Chicago/DATGAN2_1000/model\\model-103600.\n",
      "\u001b[32m[1026 11:18:44 @monitor.py:467]\u001b[0m GAN_loss/discrim/accuracy_fake: 0.972\n",
      "\u001b[32m[1026 11:18:44 @monitor.py:467]\u001b[0m GAN_loss/discrim/accuracy_real: 0.036\n",
      "\u001b[32m[1026 11:18:44 @monitor.py:467]\u001b[0m GAN_loss/discrim/loss: 0.64368\n",
      "\u001b[32m[1026 11:18:44 @monitor.py:467]\u001b[0m GAN_loss/gen/final-g-loss: 1.0054\n",
      "\u001b[32m[1026 11:18:44 @monitor.py:467]\u001b[0m GAN_loss/gen/klloss: 0.056935\n",
      "\u001b[32m[1026 11:18:44 @monitor.py:467]\u001b[0m GAN_loss/gen/loss: 0.9485\n",
      "\u001b[32m[1026 11:18:44 @monitor.py:467]\u001b[0m QueueInput/queue_size: 50\n",
      "\u001b[32m[1026 11:18:44 @base.py:275]\u001b[0m Start Epoch 593 ...\n"
     ]
    },
    {
     "name": "stderr",
     "output_type": "stream",
     "text": [
      "100%|###################################################################################|175/175[00:05<00:00,32.33it/s]"
     ]
    },
    {
     "name": "stdout",
     "output_type": "stream",
     "text": [
      "\u001b[32m[1026 11:18:49 @base.py:285]\u001b[0m Epoch 593 (global_step 103775) finished, time:5.41 seconds.\n"
     ]
    },
    {
     "name": "stderr",
     "output_type": "stream",
     "text": [
      "\n"
     ]
    },
    {
     "name": "stdout",
     "output_type": "stream",
     "text": [
      "\u001b[32m[1026 11:18:49 @saver.py:79]\u001b[0m Model saved to ../output/Chicago/DATGAN2_1000/model\\model-103775.\n",
      "\u001b[32m[1026 11:18:49 @monitor.py:467]\u001b[0m GAN_loss/discrim/accuracy_fake: 0.966\n",
      "\u001b[32m[1026 11:18:49 @monitor.py:467]\u001b[0m GAN_loss/discrim/accuracy_real: 0.056\n",
      "\u001b[32m[1026 11:18:49 @monitor.py:467]\u001b[0m GAN_loss/discrim/loss: 0.64951\n",
      "\u001b[32m[1026 11:18:49 @monitor.py:467]\u001b[0m GAN_loss/gen/final-g-loss: 1.0062\n",
      "\u001b[32m[1026 11:18:49 @monitor.py:467]\u001b[0m GAN_loss/gen/klloss: 0.058183\n",
      "\u001b[32m[1026 11:18:49 @monitor.py:467]\u001b[0m GAN_loss/gen/loss: 0.94798\n",
      "\u001b[32m[1026 11:18:49 @monitor.py:467]\u001b[0m QueueInput/queue_size: 50\n",
      "\u001b[32m[1026 11:18:49 @base.py:275]\u001b[0m Start Epoch 594 ...\n"
     ]
    },
    {
     "name": "stderr",
     "output_type": "stream",
     "text": [
      "100%|###################################################################################|175/175[00:05<00:00,32.27it/s]"
     ]
    },
    {
     "name": "stdout",
     "output_type": "stream",
     "text": [
      "\u001b[32m[1026 11:18:55 @base.py:285]\u001b[0m Epoch 594 (global_step 103950) finished, time:5.42 seconds.\n"
     ]
    },
    {
     "name": "stderr",
     "output_type": "stream",
     "text": [
      "\n"
     ]
    },
    {
     "name": "stdout",
     "output_type": "stream",
     "text": [
      "\u001b[32m[1026 11:18:55 @saver.py:79]\u001b[0m Model saved to ../output/Chicago/DATGAN2_1000/model\\model-103950.\n",
      "\u001b[32m[1026 11:18:55 @monitor.py:467]\u001b[0m GAN_loss/discrim/accuracy_fake: 0.99\n",
      "\u001b[32m[1026 11:18:55 @monitor.py:467]\u001b[0m GAN_loss/discrim/accuracy_real: 0.044\n",
      "\u001b[32m[1026 11:18:55 @monitor.py:467]\u001b[0m GAN_loss/discrim/loss: 0.64581\n",
      "\u001b[32m[1026 11:18:55 @monitor.py:467]\u001b[0m GAN_loss/gen/final-g-loss: 0.99222\n",
      "\u001b[32m[1026 11:18:55 @monitor.py:467]\u001b[0m GAN_loss/gen/klloss: 0.046619\n",
      "\u001b[32m[1026 11:18:55 @monitor.py:467]\u001b[0m GAN_loss/gen/loss: 0.9456\n",
      "\u001b[32m[1026 11:18:55 @monitor.py:467]\u001b[0m QueueInput/queue_size: 50\n",
      "\u001b[32m[1026 11:18:55 @base.py:275]\u001b[0m Start Epoch 595 ...\n"
     ]
    },
    {
     "name": "stderr",
     "output_type": "stream",
     "text": [
      "100%|###################################################################################|175/175[00:05<00:00,32.33it/s]"
     ]
    },
    {
     "name": "stdout",
     "output_type": "stream",
     "text": [
      "\u001b[32m[1026 11:19:00 @base.py:285]\u001b[0m Epoch 595 (global_step 104125) finished, time:5.41 seconds.\n"
     ]
    },
    {
     "name": "stderr",
     "output_type": "stream",
     "text": [
      "\n"
     ]
    },
    {
     "name": "stdout",
     "output_type": "stream",
     "text": [
      "\u001b[32m[1026 11:19:00 @saver.py:79]\u001b[0m Model saved to ../output/Chicago/DATGAN2_1000/model\\model-104125.\n",
      "\u001b[32m[1026 11:19:00 @monitor.py:467]\u001b[0m GAN_loss/discrim/accuracy_fake: 0.968\n",
      "\u001b[32m[1026 11:19:00 @monitor.py:467]\u001b[0m GAN_loss/discrim/accuracy_real: 0.054\n",
      "\u001b[32m[1026 11:19:00 @monitor.py:467]\u001b[0m GAN_loss/discrim/loss: 0.64724\n",
      "\u001b[32m[1026 11:19:00 @monitor.py:467]\u001b[0m GAN_loss/gen/final-g-loss: 0.98884\n",
      "\u001b[32m[1026 11:19:00 @monitor.py:467]\u001b[0m GAN_loss/gen/klloss: 0.037414\n",
      "\u001b[32m[1026 11:19:00 @monitor.py:467]\u001b[0m GAN_loss/gen/loss: 0.95142\n",
      "\u001b[32m[1026 11:19:00 @monitor.py:467]\u001b[0m QueueInput/queue_size: 50\n",
      "\u001b[32m[1026 11:19:00 @base.py:275]\u001b[0m Start Epoch 596 ...\n"
     ]
    },
    {
     "name": "stderr",
     "output_type": "stream",
     "text": [
      "100%|###################################################################################|175/175[00:05<00:00,32.30it/s]"
     ]
    },
    {
     "name": "stdout",
     "output_type": "stream",
     "text": [
      "\u001b[32m[1026 11:19:06 @base.py:285]\u001b[0m Epoch 596 (global_step 104300) finished, time:5.42 seconds.\n"
     ]
    },
    {
     "name": "stderr",
     "output_type": "stream",
     "text": [
      "\n"
     ]
    },
    {
     "name": "stdout",
     "output_type": "stream",
     "text": [
      "\u001b[32m[1026 11:19:06 @saver.py:79]\u001b[0m Model saved to ../output/Chicago/DATGAN2_1000/model\\model-104300.\n",
      "\u001b[32m[1026 11:19:06 @monitor.py:467]\u001b[0m GAN_loss/discrim/accuracy_fake: 0.964\n",
      "\u001b[32m[1026 11:19:06 @monitor.py:467]\u001b[0m GAN_loss/discrim/accuracy_real: 0.032\n",
      "\u001b[32m[1026 11:19:06 @monitor.py:467]\u001b[0m GAN_loss/discrim/loss: 0.65052\n",
      "\u001b[32m[1026 11:19:06 @monitor.py:467]\u001b[0m GAN_loss/gen/final-g-loss: 1.0111\n",
      "\u001b[32m[1026 11:19:06 @monitor.py:467]\u001b[0m GAN_loss/gen/klloss: 0.064123\n",
      "\u001b[32m[1026 11:19:06 @monitor.py:467]\u001b[0m GAN_loss/gen/loss: 0.94698\n",
      "\u001b[32m[1026 11:19:06 @monitor.py:467]\u001b[0m QueueInput/queue_size: 50\n",
      "\u001b[32m[1026 11:19:06 @base.py:275]\u001b[0m Start Epoch 597 ...\n"
     ]
    },
    {
     "name": "stderr",
     "output_type": "stream",
     "text": [
      "100%|###################################################################################|175/175[00:05<00:00,32.30it/s]"
     ]
    },
    {
     "name": "stdout",
     "output_type": "stream",
     "text": [
      "\u001b[32m[1026 11:19:11 @base.py:285]\u001b[0m Epoch 597 (global_step 104475) finished, time:5.42 seconds.\n"
     ]
    },
    {
     "name": "stderr",
     "output_type": "stream",
     "text": [
      "\n"
     ]
    },
    {
     "name": "stdout",
     "output_type": "stream",
     "text": [
      "\u001b[32m[1026 11:19:11 @saver.py:79]\u001b[0m Model saved to ../output/Chicago/DATGAN2_1000/model\\model-104475.\n",
      "\u001b[32m[1026 11:19:12 @monitor.py:467]\u001b[0m GAN_loss/discrim/accuracy_fake: 0.96\n",
      "\u001b[32m[1026 11:19:12 @monitor.py:467]\u001b[0m GAN_loss/discrim/accuracy_real: 0.048\n",
      "\u001b[32m[1026 11:19:12 @monitor.py:467]\u001b[0m GAN_loss/discrim/loss: 0.64728\n",
      "\u001b[32m[1026 11:19:12 @monitor.py:467]\u001b[0m GAN_loss/gen/final-g-loss: 0.9933\n",
      "\u001b[32m[1026 11:19:12 @monitor.py:467]\u001b[0m GAN_loss/gen/klloss: 0.048245\n",
      "\u001b[32m[1026 11:19:12 @monitor.py:467]\u001b[0m GAN_loss/gen/loss: 0.94505\n",
      "\u001b[32m[1026 11:19:12 @monitor.py:467]\u001b[0m QueueInput/queue_size: 50\n",
      "\u001b[32m[1026 11:19:12 @base.py:275]\u001b[0m Start Epoch 598 ...\n"
     ]
    },
    {
     "name": "stderr",
     "output_type": "stream",
     "text": [
      "100%|###################################################################################|175/175[00:05<00:00,32.10it/s]"
     ]
    },
    {
     "name": "stdout",
     "output_type": "stream",
     "text": [
      "\u001b[32m[1026 11:19:17 @base.py:285]\u001b[0m Epoch 598 (global_step 104650) finished, time:5.45 seconds.\n",
      "\u001b[32m[1026 11:19:17 @saver.py:79]\u001b[0m Model saved to ../output/Chicago/DATGAN2_1000/model\\model-104650.\n",
      "\u001b[32m[1026 11:19:17 @monitor.py:467]\u001b[0m GAN_loss/discrim/accuracy_fake: 0.962\n"
     ]
    },
    {
     "name": "stderr",
     "output_type": "stream",
     "text": [
      "\n"
     ]
    },
    {
     "name": "stdout",
     "output_type": "stream",
     "text": [
      "\u001b[32m[1026 11:19:17 @monitor.py:467]\u001b[0m GAN_loss/discrim/accuracy_real: 0.044\n",
      "\u001b[32m[1026 11:19:17 @monitor.py:467]\u001b[0m GAN_loss/discrim/loss: 0.65458\n",
      "\u001b[32m[1026 11:19:17 @monitor.py:467]\u001b[0m GAN_loss/gen/final-g-loss: 0.98793\n",
      "\u001b[32m[1026 11:19:17 @monitor.py:467]\u001b[0m GAN_loss/gen/klloss: 0.057868\n",
      "\u001b[32m[1026 11:19:17 @monitor.py:467]\u001b[0m GAN_loss/gen/loss: 0.93006\n",
      "\u001b[32m[1026 11:19:17 @monitor.py:467]\u001b[0m QueueInput/queue_size: 50\n",
      "\u001b[32m[1026 11:19:17 @base.py:275]\u001b[0m Start Epoch 599 ...\n"
     ]
    },
    {
     "name": "stderr",
     "output_type": "stream",
     "text": [
      "100%|###################################################################################|175/175[00:05<00:00,32.26it/s]"
     ]
    },
    {
     "name": "stdout",
     "output_type": "stream",
     "text": [
      "\u001b[32m[1026 11:19:23 @base.py:285]\u001b[0m Epoch 599 (global_step 104825) finished, time:5.42 seconds.\n"
     ]
    },
    {
     "name": "stderr",
     "output_type": "stream",
     "text": [
      "\n"
     ]
    },
    {
     "name": "stdout",
     "output_type": "stream",
     "text": [
      "\u001b[32m[1026 11:19:23 @saver.py:79]\u001b[0m Model saved to ../output/Chicago/DATGAN2_1000/model\\model-104825.\n",
      "\u001b[32m[1026 11:19:23 @monitor.py:467]\u001b[0m GAN_loss/discrim/accuracy_fake: 0.98\n",
      "\u001b[32m[1026 11:19:23 @monitor.py:467]\u001b[0m GAN_loss/discrim/accuracy_real: 0.052\n",
      "\u001b[32m[1026 11:19:23 @monitor.py:467]\u001b[0m GAN_loss/discrim/loss: 0.64716\n",
      "\u001b[32m[1026 11:19:23 @monitor.py:467]\u001b[0m GAN_loss/gen/final-g-loss: 0.99913\n",
      "\u001b[32m[1026 11:19:23 @monitor.py:467]\u001b[0m GAN_loss/gen/klloss: 0.049328\n",
      "\u001b[32m[1026 11:19:23 @monitor.py:467]\u001b[0m GAN_loss/gen/loss: 0.9498\n",
      "\u001b[32m[1026 11:19:23 @monitor.py:467]\u001b[0m QueueInput/queue_size: 50\n",
      "\u001b[32m[1026 11:19:23 @base.py:275]\u001b[0m Start Epoch 600 ...\n"
     ]
    },
    {
     "name": "stderr",
     "output_type": "stream",
     "text": [
      "100%|###################################################################################|175/175[00:05<00:00,32.33it/s]"
     ]
    },
    {
     "name": "stdout",
     "output_type": "stream",
     "text": [
      "\u001b[32m[1026 11:19:28 @base.py:285]\u001b[0m Epoch 600 (global_step 105000) finished, time:5.41 seconds.\n"
     ]
    },
    {
     "name": "stderr",
     "output_type": "stream",
     "text": [
      "\n"
     ]
    },
    {
     "name": "stdout",
     "output_type": "stream",
     "text": [
      "\u001b[32m[1026 11:19:28 @saver.py:79]\u001b[0m Model saved to ../output/Chicago/DATGAN2_1000/model\\model-105000.\n",
      "\u001b[32m[1026 11:19:28 @monitor.py:467]\u001b[0m GAN_loss/discrim/accuracy_fake: 0.964\n",
      "\u001b[32m[1026 11:19:28 @monitor.py:467]\u001b[0m GAN_loss/discrim/accuracy_real: 0.05\n",
      "\u001b[32m[1026 11:19:28 @monitor.py:467]\u001b[0m GAN_loss/discrim/loss: 0.65327\n",
      "\u001b[32m[1026 11:19:28 @monitor.py:467]\u001b[0m GAN_loss/gen/final-g-loss: 0.9806\n",
      "\u001b[32m[1026 11:19:28 @monitor.py:467]\u001b[0m GAN_loss/gen/klloss: 0.042042\n",
      "\u001b[32m[1026 11:19:28 @monitor.py:467]\u001b[0m GAN_loss/gen/loss: 0.93856\n",
      "\u001b[32m[1026 11:19:28 @monitor.py:467]\u001b[0m QueueInput/queue_size: 50\n",
      "\u001b[32m[1026 11:19:28 @base.py:275]\u001b[0m Start Epoch 601 ...\n"
     ]
    },
    {
     "name": "stderr",
     "output_type": "stream",
     "text": [
      "100%|###################################################################################|175/175[00:05<00:00,32.34it/s]"
     ]
    },
    {
     "name": "stdout",
     "output_type": "stream",
     "text": [
      "\u001b[32m[1026 11:19:34 @base.py:285]\u001b[0m Epoch 601 (global_step 105175) finished, time:5.41 seconds.\n"
     ]
    },
    {
     "name": "stderr",
     "output_type": "stream",
     "text": [
      "\n"
     ]
    },
    {
     "name": "stdout",
     "output_type": "stream",
     "text": [
      "\u001b[32m[1026 11:19:34 @saver.py:79]\u001b[0m Model saved to ../output/Chicago/DATGAN2_1000/model\\model-105175.\n",
      "\u001b[32m[1026 11:19:34 @monitor.py:467]\u001b[0m GAN_loss/discrim/accuracy_fake: 0.954\n",
      "\u001b[32m[1026 11:19:34 @monitor.py:467]\u001b[0m GAN_loss/discrim/accuracy_real: 0.068\n",
      "\u001b[32m[1026 11:19:34 @monitor.py:467]\u001b[0m GAN_loss/discrim/loss: 0.65195\n",
      "\u001b[32m[1026 11:19:34 @monitor.py:467]\u001b[0m GAN_loss/gen/final-g-loss: 0.98989\n",
      "\u001b[32m[1026 11:19:34 @monitor.py:467]\u001b[0m GAN_loss/gen/klloss: 0.054841\n",
      "\u001b[32m[1026 11:19:34 @monitor.py:467]\u001b[0m GAN_loss/gen/loss: 0.93504\n",
      "\u001b[32m[1026 11:19:34 @monitor.py:467]\u001b[0m QueueInput/queue_size: 50\n",
      "\u001b[32m[1026 11:19:34 @base.py:275]\u001b[0m Start Epoch 602 ...\n"
     ]
    },
    {
     "name": "stderr",
     "output_type": "stream",
     "text": [
      "100%|###################################################################################|175/175[00:05<00:00,32.32it/s]"
     ]
    },
    {
     "name": "stdout",
     "output_type": "stream",
     "text": [
      "\u001b[32m[1026 11:19:39 @base.py:285]\u001b[0m Epoch 602 (global_step 105350) finished, time:5.41 seconds.\n"
     ]
    },
    {
     "name": "stderr",
     "output_type": "stream",
     "text": [
      "\n"
     ]
    },
    {
     "name": "stdout",
     "output_type": "stream",
     "text": [
      "\u001b[32m[1026 11:19:40 @saver.py:79]\u001b[0m Model saved to ../output/Chicago/DATGAN2_1000/model\\model-105350.\n",
      "\u001b[32m[1026 11:19:40 @monitor.py:467]\u001b[0m GAN_loss/discrim/accuracy_fake: 0.976\n",
      "\u001b[32m[1026 11:19:40 @monitor.py:467]\u001b[0m GAN_loss/discrim/accuracy_real: 0.052\n",
      "\u001b[32m[1026 11:19:40 @monitor.py:467]\u001b[0m GAN_loss/discrim/loss: 0.64315\n",
      "\u001b[32m[1026 11:19:40 @monitor.py:467]\u001b[0m GAN_loss/gen/final-g-loss: 1.0036\n",
      "\u001b[32m[1026 11:19:40 @monitor.py:467]\u001b[0m GAN_loss/gen/klloss: 0.061194\n",
      "\u001b[32m[1026 11:19:40 @monitor.py:467]\u001b[0m GAN_loss/gen/loss: 0.94242\n",
      "\u001b[32m[1026 11:19:40 @monitor.py:467]\u001b[0m QueueInput/queue_size: 50\n",
      "\u001b[32m[1026 11:19:40 @base.py:275]\u001b[0m Start Epoch 603 ...\n"
     ]
    },
    {
     "name": "stderr",
     "output_type": "stream",
     "text": [
      "100%|###################################################################################|175/175[00:05<00:00,32.32it/s]"
     ]
    },
    {
     "name": "stdout",
     "output_type": "stream",
     "text": [
      "\u001b[32m[1026 11:19:45 @base.py:285]\u001b[0m Epoch 603 (global_step 105525) finished, time:5.41 seconds.\n"
     ]
    },
    {
     "name": "stderr",
     "output_type": "stream",
     "text": [
      "\n"
     ]
    },
    {
     "name": "stdout",
     "output_type": "stream",
     "text": [
      "\u001b[32m[1026 11:19:45 @saver.py:79]\u001b[0m Model saved to ../output/Chicago/DATGAN2_1000/model\\model-105525.\n",
      "\u001b[32m[1026 11:19:45 @monitor.py:467]\u001b[0m GAN_loss/discrim/accuracy_fake: 0.968\n",
      "\u001b[32m[1026 11:19:45 @monitor.py:467]\u001b[0m GAN_loss/discrim/accuracy_real: 0.032\n",
      "\u001b[32m[1026 11:19:45 @monitor.py:467]\u001b[0m GAN_loss/discrim/loss: 0.65392\n",
      "\u001b[32m[1026 11:19:45 @monitor.py:467]\u001b[0m GAN_loss/gen/final-g-loss: 0.99784\n",
      "\u001b[32m[1026 11:19:45 @monitor.py:467]\u001b[0m GAN_loss/gen/klloss: 0.056077\n",
      "\u001b[32m[1026 11:19:45 @monitor.py:467]\u001b[0m GAN_loss/gen/loss: 0.94177\n",
      "\u001b[32m[1026 11:19:45 @monitor.py:467]\u001b[0m QueueInput/queue_size: 50\n",
      "\u001b[32m[1026 11:19:45 @base.py:275]\u001b[0m Start Epoch 604 ...\n"
     ]
    },
    {
     "name": "stderr",
     "output_type": "stream",
     "text": [
      "100%|###################################################################################|175/175[00:05<00:00,32.28it/s]"
     ]
    },
    {
     "name": "stdout",
     "output_type": "stream",
     "text": [
      "\u001b[32m[1026 11:19:51 @base.py:285]\u001b[0m Epoch 604 (global_step 105700) finished, time:5.42 seconds.\n",
      "\u001b[32m[1026 11:19:51 @saver.py:79]\u001b[0m Model saved to ../output/Chicago/DATGAN2_1000/model\\model-105700.\n",
      "\u001b[32m[1026 11:19:51 @monitor.py:467]\u001b[0m GAN_loss/discrim/accuracy_fake: 0.972\n"
     ]
    },
    {
     "name": "stderr",
     "output_type": "stream",
     "text": [
      "\n"
     ]
    },
    {
     "name": "stdout",
     "output_type": "stream",
     "text": [
      "\u001b[32m[1026 11:19:51 @monitor.py:467]\u001b[0m GAN_loss/discrim/accuracy_real: 0.066\n",
      "\u001b[32m[1026 11:19:51 @monitor.py:467]\u001b[0m GAN_loss/discrim/loss: 0.65214\n",
      "\u001b[32m[1026 11:19:51 @monitor.py:467]\u001b[0m GAN_loss/gen/final-g-loss: 1.0157\n",
      "\u001b[32m[1026 11:19:51 @monitor.py:467]\u001b[0m GAN_loss/gen/klloss: 0.075209\n",
      "\u001b[32m[1026 11:19:51 @monitor.py:467]\u001b[0m GAN_loss/gen/loss: 0.94045\n",
      "\u001b[32m[1026 11:19:51 @monitor.py:467]\u001b[0m QueueInput/queue_size: 50\n",
      "\u001b[32m[1026 11:19:51 @base.py:275]\u001b[0m Start Epoch 605 ...\n"
     ]
    },
    {
     "name": "stderr",
     "output_type": "stream",
     "text": [
      "100%|###################################################################################|175/175[00:05<00:00,32.16it/s]"
     ]
    },
    {
     "name": "stdout",
     "output_type": "stream",
     "text": [
      "\u001b[32m[1026 11:19:56 @base.py:285]\u001b[0m Epoch 605 (global_step 105875) finished, time:5.44 seconds.\n",
      "\u001b[32m[1026 11:19:56 @saver.py:79]\u001b[0m Model saved to ../output/Chicago/DATGAN2_1000/model\\model-105875.\n"
     ]
    },
    {
     "name": "stderr",
     "output_type": "stream",
     "text": [
      "\n"
     ]
    },
    {
     "name": "stdout",
     "output_type": "stream",
     "text": [
      "\u001b[32m[1026 11:19:56 @monitor.py:467]\u001b[0m GAN_loss/discrim/accuracy_fake: 0.976\n",
      "\u001b[32m[1026 11:19:56 @monitor.py:467]\u001b[0m GAN_loss/discrim/accuracy_real: 0.05\n",
      "\u001b[32m[1026 11:19:56 @monitor.py:467]\u001b[0m GAN_loss/discrim/loss: 0.6454\n",
      "\u001b[32m[1026 11:19:56 @monitor.py:467]\u001b[0m GAN_loss/gen/final-g-loss: 1.0153\n",
      "\u001b[32m[1026 11:19:56 @monitor.py:467]\u001b[0m GAN_loss/gen/klloss: 0.060464\n",
      "\u001b[32m[1026 11:19:56 @monitor.py:467]\u001b[0m GAN_loss/gen/loss: 0.95484\n",
      "\u001b[32m[1026 11:19:56 @monitor.py:467]\u001b[0m QueueInput/queue_size: 50\n",
      "\u001b[32m[1026 11:19:56 @base.py:275]\u001b[0m Start Epoch 606 ...\n"
     ]
    },
    {
     "name": "stderr",
     "output_type": "stream",
     "text": [
      "100%|###################################################################################|175/175[00:05<00:00,31.72it/s]"
     ]
    },
    {
     "name": "stdout",
     "output_type": "stream",
     "text": [
      "\u001b[32m[1026 11:20:02 @base.py:285]\u001b[0m Epoch 606 (global_step 106050) finished, time:5.52 seconds.\n",
      "\u001b[32m[1026 11:20:02 @saver.py:79]\u001b[0m Model saved to ../output/Chicago/DATGAN2_1000/model\\model-106050.\n",
      "\u001b[32m[1026 11:20:02 @monitor.py:467]\u001b[0m GAN_loss/discrim/accuracy_fake: 0.966\n"
     ]
    },
    {
     "name": "stderr",
     "output_type": "stream",
     "text": [
      "\n"
     ]
    },
    {
     "name": "stdout",
     "output_type": "stream",
     "text": [
      "\u001b[32m[1026 11:20:02 @monitor.py:467]\u001b[0m GAN_loss/discrim/accuracy_real: 0.038\n",
      "\u001b[32m[1026 11:20:02 @monitor.py:467]\u001b[0m GAN_loss/discrim/loss: 0.64585\n",
      "\u001b[32m[1026 11:20:02 @monitor.py:467]\u001b[0m GAN_loss/gen/final-g-loss: 0.98814\n",
      "\u001b[32m[1026 11:20:02 @monitor.py:467]\u001b[0m GAN_loss/gen/klloss: 0.038756\n",
      "\u001b[32m[1026 11:20:02 @monitor.py:467]\u001b[0m GAN_loss/gen/loss: 0.94938\n",
      "\u001b[32m[1026 11:20:02 @monitor.py:467]\u001b[0m QueueInput/queue_size: 50\n",
      "\u001b[32m[1026 11:20:02 @base.py:275]\u001b[0m Start Epoch 607 ...\n"
     ]
    },
    {
     "name": "stderr",
     "output_type": "stream",
     "text": [
      "100%|###################################################################################|175/175[00:05<00:00,31.80it/s]"
     ]
    },
    {
     "name": "stdout",
     "output_type": "stream",
     "text": [
      "\u001b[32m[1026 11:20:08 @base.py:285]\u001b[0m Epoch 607 (global_step 106225) finished, time:5.5 seconds.\n",
      "\u001b[32m[1026 11:20:08 @saver.py:79]\u001b[0m Model saved to ../output/Chicago/DATGAN2_1000/model\\model-106225.\n",
      "\u001b[32m[1026 11:20:08 @monitor.py:467]\u001b[0m GAN_loss/discrim/accuracy_fake: 0.968\n"
     ]
    },
    {
     "name": "stderr",
     "output_type": "stream",
     "text": [
      "\n"
     ]
    },
    {
     "name": "stdout",
     "output_type": "stream",
     "text": [
      "\u001b[32m[1026 11:20:08 @monitor.py:467]\u001b[0m GAN_loss/discrim/accuracy_real: 0.072\n",
      "\u001b[32m[1026 11:20:08 @monitor.py:467]\u001b[0m GAN_loss/discrim/loss: 0.6478\n",
      "\u001b[32m[1026 11:20:08 @monitor.py:467]\u001b[0m GAN_loss/gen/final-g-loss: 1.0068\n",
      "\u001b[32m[1026 11:20:08 @monitor.py:467]\u001b[0m GAN_loss/gen/klloss: 0.055448\n",
      "\u001b[32m[1026 11:20:08 @monitor.py:467]\u001b[0m GAN_loss/gen/loss: 0.95132\n",
      "\u001b[32m[1026 11:20:08 @monitor.py:467]\u001b[0m QueueInput/queue_size: 50\n",
      "\u001b[32m[1026 11:20:08 @base.py:275]\u001b[0m Start Epoch 608 ...\n"
     ]
    },
    {
     "name": "stderr",
     "output_type": "stream",
     "text": [
      "100%|###################################################################################|175/175[00:05<00:00,32.06it/s]"
     ]
    },
    {
     "name": "stdout",
     "output_type": "stream",
     "text": [
      "\u001b[32m[1026 11:20:13 @base.py:285]\u001b[0m Epoch 608 (global_step 106400) finished, time:5.46 seconds.\n",
      "\u001b[32m[1026 11:20:13 @saver.py:79]\u001b[0m Model saved to ../output/Chicago/DATGAN2_1000/model\\model-106400.\n",
      "\u001b[32m[1026 11:20:14 @monitor.py:467]\u001b[0m GAN_loss/discrim/accuracy_fake: 0.968\n"
     ]
    },
    {
     "name": "stderr",
     "output_type": "stream",
     "text": [
      "\n"
     ]
    },
    {
     "name": "stdout",
     "output_type": "stream",
     "text": [
      "\u001b[32m[1026 11:20:14 @monitor.py:467]\u001b[0m GAN_loss/discrim/accuracy_real: 0.072\n",
      "\u001b[32m[1026 11:20:14 @monitor.py:467]\u001b[0m GAN_loss/discrim/loss: 0.64464\n",
      "\u001b[32m[1026 11:20:14 @monitor.py:467]\u001b[0m GAN_loss/gen/final-g-loss: 1.0386\n",
      "\u001b[32m[1026 11:20:14 @monitor.py:467]\u001b[0m GAN_loss/gen/klloss: 0.092493\n",
      "\u001b[32m[1026 11:20:14 @monitor.py:467]\u001b[0m GAN_loss/gen/loss: 0.94609\n",
      "\u001b[32m[1026 11:20:14 @monitor.py:467]\u001b[0m QueueInput/queue_size: 50\n",
      "\u001b[32m[1026 11:20:14 @base.py:275]\u001b[0m Start Epoch 609 ...\n"
     ]
    },
    {
     "name": "stderr",
     "output_type": "stream",
     "text": [
      "100%|###################################################################################|175/175[00:05<00:00,31.87it/s]"
     ]
    },
    {
     "name": "stdout",
     "output_type": "stream",
     "text": [
      "\u001b[32m[1026 11:20:19 @base.py:285]\u001b[0m Epoch 609 (global_step 106575) finished, time:5.49 seconds.\n",
      "\u001b[32m[1026 11:20:19 @saver.py:79]\u001b[0m Model saved to ../output/Chicago/DATGAN2_1000/model\\model-106575.\n",
      "\u001b[32m[1026 11:20:19 @monitor.py:467]\u001b[0m GAN_loss/discrim/accuracy_fake: 0.966\n"
     ]
    },
    {
     "name": "stderr",
     "output_type": "stream",
     "text": [
      "\n"
     ]
    },
    {
     "name": "stdout",
     "output_type": "stream",
     "text": [
      "\u001b[32m[1026 11:20:19 @monitor.py:467]\u001b[0m GAN_loss/discrim/accuracy_real: 0.056\n",
      "\u001b[32m[1026 11:20:19 @monitor.py:467]\u001b[0m GAN_loss/discrim/loss: 0.64824\n",
      "\u001b[32m[1026 11:20:19 @monitor.py:467]\u001b[0m GAN_loss/gen/final-g-loss: 1.0052\n",
      "\u001b[32m[1026 11:20:19 @monitor.py:467]\u001b[0m GAN_loss/gen/klloss: 0.055575\n",
      "\u001b[32m[1026 11:20:19 @monitor.py:467]\u001b[0m GAN_loss/gen/loss: 0.94961\n",
      "\u001b[32m[1026 11:20:19 @monitor.py:467]\u001b[0m QueueInput/queue_size: 50\n",
      "\u001b[32m[1026 11:20:19 @base.py:275]\u001b[0m Start Epoch 610 ...\n"
     ]
    },
    {
     "name": "stderr",
     "output_type": "stream",
     "text": [
      "100%|###################################################################################|175/175[00:05<00:00,31.67it/s]"
     ]
    },
    {
     "name": "stdout",
     "output_type": "stream",
     "text": [
      "\u001b[32m[1026 11:20:25 @base.py:285]\u001b[0m Epoch 610 (global_step 106750) finished, time:5.53 seconds.\n",
      "\u001b[32m[1026 11:20:25 @saver.py:79]\u001b[0m Model saved to ../output/Chicago/DATGAN2_1000/model\\model-106750.\n"
     ]
    },
    {
     "name": "stderr",
     "output_type": "stream",
     "text": [
      "\n"
     ]
    },
    {
     "name": "stdout",
     "output_type": "stream",
     "text": [
      "\u001b[32m[1026 11:20:25 @monitor.py:467]\u001b[0m GAN_loss/discrim/accuracy_fake: 0.968\n",
      "\u001b[32m[1026 11:20:25 @monitor.py:467]\u001b[0m GAN_loss/discrim/accuracy_real: 0.06\n",
      "\u001b[32m[1026 11:20:25 @monitor.py:467]\u001b[0m GAN_loss/discrim/loss: 0.64509\n",
      "\u001b[32m[1026 11:20:25 @monitor.py:467]\u001b[0m GAN_loss/gen/final-g-loss: 1.0128\n",
      "\u001b[32m[1026 11:20:25 @monitor.py:467]\u001b[0m GAN_loss/gen/klloss: 0.057807\n",
      "\u001b[32m[1026 11:20:25 @monitor.py:467]\u001b[0m GAN_loss/gen/loss: 0.95497\n",
      "\u001b[32m[1026 11:20:25 @monitor.py:467]\u001b[0m QueueInput/queue_size: 50\n",
      "\u001b[32m[1026 11:20:25 @base.py:275]\u001b[0m Start Epoch 611 ...\n"
     ]
    },
    {
     "name": "stderr",
     "output_type": "stream",
     "text": [
      "100%|###################################################################################|175/175[00:05<00:00,32.25it/s]"
     ]
    },
    {
     "name": "stdout",
     "output_type": "stream",
     "text": [
      "\u001b[32m[1026 11:20:30 @base.py:285]\u001b[0m Epoch 611 (global_step 106925) finished, time:5.43 seconds.\n",
      "\u001b[32m[1026 11:20:30 @saver.py:79]\u001b[0m Model saved to ../output/Chicago/DATGAN2_1000/model\\model-106925.\n",
      "\u001b[32m[1026 11:20:31 @monitor.py:467]\u001b[0m GAN_loss/discrim/accuracy_fake: 0.96\n"
     ]
    },
    {
     "name": "stderr",
     "output_type": "stream",
     "text": [
      "\n"
     ]
    },
    {
     "name": "stdout",
     "output_type": "stream",
     "text": [
      "\u001b[32m[1026 11:20:31 @monitor.py:467]\u001b[0m GAN_loss/discrim/accuracy_real: 0.054\n",
      "\u001b[32m[1026 11:20:31 @monitor.py:467]\u001b[0m GAN_loss/discrim/loss: 0.64822\n",
      "\u001b[32m[1026 11:20:31 @monitor.py:467]\u001b[0m GAN_loss/gen/final-g-loss: 0.99716\n",
      "\u001b[32m[1026 11:20:31 @monitor.py:467]\u001b[0m GAN_loss/gen/klloss: 0.054662\n",
      "\u001b[32m[1026 11:20:31 @monitor.py:467]\u001b[0m GAN_loss/gen/loss: 0.94249\n",
      "\u001b[32m[1026 11:20:31 @monitor.py:467]\u001b[0m QueueInput/queue_size: 50\n",
      "\u001b[32m[1026 11:20:31 @base.py:275]\u001b[0m Start Epoch 612 ...\n"
     ]
    },
    {
     "name": "stderr",
     "output_type": "stream",
     "text": [
      "100%|###################################################################################|175/175[00:05<00:00,32.26it/s]"
     ]
    },
    {
     "name": "stdout",
     "output_type": "stream",
     "text": [
      "\u001b[32m[1026 11:20:36 @base.py:285]\u001b[0m Epoch 612 (global_step 107100) finished, time:5.43 seconds.\n",
      "\u001b[32m[1026 11:20:36 @saver.py:79]\u001b[0m Model saved to ../output/Chicago/DATGAN2_1000/model\\model-107100.\n",
      "\u001b[32m[1026 11:20:36 @monitor.py:467]\u001b[0m GAN_loss/discrim/accuracy_fake: 0.964\n"
     ]
    },
    {
     "name": "stderr",
     "output_type": "stream",
     "text": [
      "\n"
     ]
    },
    {
     "name": "stdout",
     "output_type": "stream",
     "text": [
      "\u001b[32m[1026 11:20:36 @monitor.py:467]\u001b[0m GAN_loss/discrim/accuracy_real: 0.07\n",
      "\u001b[32m[1026 11:20:36 @monitor.py:467]\u001b[0m GAN_loss/discrim/loss: 0.6445\n",
      "\u001b[32m[1026 11:20:36 @monitor.py:467]\u001b[0m GAN_loss/gen/final-g-loss: 1.0144\n",
      "\u001b[32m[1026 11:20:36 @monitor.py:467]\u001b[0m GAN_loss/gen/klloss: 0.066204\n",
      "\u001b[32m[1026 11:20:36 @monitor.py:467]\u001b[0m GAN_loss/gen/loss: 0.94816\n",
      "\u001b[32m[1026 11:20:36 @monitor.py:467]\u001b[0m QueueInput/queue_size: 50\n",
      "\u001b[32m[1026 11:20:36 @base.py:275]\u001b[0m Start Epoch 613 ...\n"
     ]
    },
    {
     "name": "stderr",
     "output_type": "stream",
     "text": [
      "100%|###################################################################################|175/175[00:05<00:00,32.33it/s]"
     ]
    },
    {
     "name": "stdout",
     "output_type": "stream",
     "text": [
      "\u001b[32m[1026 11:20:42 @base.py:285]\u001b[0m Epoch 613 (global_step 107275) finished, time:5.41 seconds.\n"
     ]
    },
    {
     "name": "stderr",
     "output_type": "stream",
     "text": [
      "\n"
     ]
    },
    {
     "name": "stdout",
     "output_type": "stream",
     "text": [
      "\u001b[32m[1026 11:20:42 @saver.py:79]\u001b[0m Model saved to ../output/Chicago/DATGAN2_1000/model\\model-107275.\n",
      "\u001b[32m[1026 11:20:42 @monitor.py:467]\u001b[0m GAN_loss/discrim/accuracy_fake: 0.966\n",
      "\u001b[32m[1026 11:20:42 @monitor.py:467]\u001b[0m GAN_loss/discrim/accuracy_real: 0.064\n",
      "\u001b[32m[1026 11:20:42 @monitor.py:467]\u001b[0m GAN_loss/discrim/loss: 0.64595\n",
      "\u001b[32m[1026 11:20:42 @monitor.py:467]\u001b[0m GAN_loss/gen/final-g-loss: 1.0146\n",
      "\u001b[32m[1026 11:20:42 @monitor.py:467]\u001b[0m GAN_loss/gen/klloss: 0.069424\n",
      "\u001b[32m[1026 11:20:42 @monitor.py:467]\u001b[0m GAN_loss/gen/loss: 0.94514\n",
      "\u001b[32m[1026 11:20:42 @monitor.py:467]\u001b[0m QueueInput/queue_size: 50\n",
      "\u001b[32m[1026 11:20:42 @base.py:275]\u001b[0m Start Epoch 614 ...\n"
     ]
    },
    {
     "name": "stderr",
     "output_type": "stream",
     "text": [
      "100%|###################################################################################|175/175[00:05<00:00,32.26it/s]"
     ]
    },
    {
     "name": "stdout",
     "output_type": "stream",
     "text": [
      "\u001b[32m[1026 11:20:47 @base.py:285]\u001b[0m Epoch 614 (global_step 107450) finished, time:5.42 seconds.\n",
      "\u001b[32m[1026 11:20:47 @saver.py:79]\u001b[0m Model saved to ../output/Chicago/DATGAN2_1000/model\\model-107450.\n"
     ]
    },
    {
     "name": "stderr",
     "output_type": "stream",
     "text": [
      "\n"
     ]
    },
    {
     "name": "stdout",
     "output_type": "stream",
     "text": [
      "\u001b[32m[1026 11:20:47 @monitor.py:467]\u001b[0m GAN_loss/discrim/accuracy_fake: 0.98\n",
      "\u001b[32m[1026 11:20:47 @monitor.py:467]\u001b[0m GAN_loss/discrim/accuracy_real: 0.054\n",
      "\u001b[32m[1026 11:20:47 @monitor.py:467]\u001b[0m GAN_loss/discrim/loss: 0.65047\n",
      "\u001b[32m[1026 11:20:47 @monitor.py:467]\u001b[0m GAN_loss/gen/final-g-loss: 1.0078\n",
      "\u001b[32m[1026 11:20:47 @monitor.py:467]\u001b[0m GAN_loss/gen/klloss: 0.065081\n",
      "\u001b[32m[1026 11:20:47 @monitor.py:467]\u001b[0m GAN_loss/gen/loss: 0.94268\n",
      "\u001b[32m[1026 11:20:47 @monitor.py:467]\u001b[0m QueueInput/queue_size: 50\n",
      "\u001b[32m[1026 11:20:47 @base.py:275]\u001b[0m Start Epoch 615 ...\n"
     ]
    },
    {
     "name": "stderr",
     "output_type": "stream",
     "text": [
      "100%|###################################################################################|175/175[00:05<00:00,32.31it/s]"
     ]
    },
    {
     "name": "stdout",
     "output_type": "stream",
     "text": [
      "\u001b[32m[1026 11:20:53 @base.py:285]\u001b[0m Epoch 615 (global_step 107625) finished, time:5.42 seconds.\n"
     ]
    },
    {
     "name": "stderr",
     "output_type": "stream",
     "text": [
      "\n"
     ]
    },
    {
     "name": "stdout",
     "output_type": "stream",
     "text": [
      "\u001b[32m[1026 11:20:53 @saver.py:79]\u001b[0m Model saved to ../output/Chicago/DATGAN2_1000/model\\model-107625.\n",
      "\u001b[32m[1026 11:20:53 @monitor.py:467]\u001b[0m GAN_loss/discrim/accuracy_fake: 0.97\n",
      "\u001b[32m[1026 11:20:53 @monitor.py:467]\u001b[0m GAN_loss/discrim/accuracy_real: 0.06\n",
      "\u001b[32m[1026 11:20:53 @monitor.py:467]\u001b[0m GAN_loss/discrim/loss: 0.647\n",
      "\u001b[32m[1026 11:20:53 @monitor.py:467]\u001b[0m GAN_loss/gen/final-g-loss: 1.0007\n",
      "\u001b[32m[1026 11:20:53 @monitor.py:467]\u001b[0m GAN_loss/gen/klloss: 0.055895\n",
      "\u001b[32m[1026 11:20:53 @monitor.py:467]\u001b[0m GAN_loss/gen/loss: 0.94477\n",
      "\u001b[32m[1026 11:20:53 @monitor.py:467]\u001b[0m QueueInput/queue_size: 50\n",
      "\u001b[32m[1026 11:20:53 @base.py:275]\u001b[0m Start Epoch 616 ...\n"
     ]
    },
    {
     "name": "stderr",
     "output_type": "stream",
     "text": [
      "100%|###################################################################################|175/175[00:05<00:00,32.30it/s]"
     ]
    },
    {
     "name": "stdout",
     "output_type": "stream",
     "text": [
      "\u001b[32m[1026 11:20:58 @base.py:285]\u001b[0m Epoch 616 (global_step 107800) finished, time:5.42 seconds.\n",
      "\u001b[32m[1026 11:20:59 @saver.py:79]\u001b[0m Model saved to ../output/Chicago/DATGAN2_1000/model\\model-107800.\n"
     ]
    },
    {
     "name": "stderr",
     "output_type": "stream",
     "text": [
      "\n"
     ]
    },
    {
     "name": "stdout",
     "output_type": "stream",
     "text": [
      "\u001b[32m[1026 11:20:59 @monitor.py:467]\u001b[0m GAN_loss/discrim/accuracy_fake: 0.97\n",
      "\u001b[32m[1026 11:20:59 @monitor.py:467]\u001b[0m GAN_loss/discrim/accuracy_real: 0.052\n",
      "\u001b[32m[1026 11:20:59 @monitor.py:467]\u001b[0m GAN_loss/discrim/loss: 0.64887\n",
      "\u001b[32m[1026 11:20:59 @monitor.py:467]\u001b[0m GAN_loss/gen/final-g-loss: 1.0428\n",
      "\u001b[32m[1026 11:20:59 @monitor.py:467]\u001b[0m GAN_loss/gen/klloss: 0.10021\n",
      "\u001b[32m[1026 11:20:59 @monitor.py:467]\u001b[0m GAN_loss/gen/loss: 0.94257\n",
      "\u001b[32m[1026 11:20:59 @monitor.py:467]\u001b[0m QueueInput/queue_size: 50\n",
      "\u001b[32m[1026 11:20:59 @base.py:275]\u001b[0m Start Epoch 617 ...\n"
     ]
    },
    {
     "name": "stderr",
     "output_type": "stream",
     "text": [
      "100%|###################################################################################|175/175[00:05<00:00,32.32it/s]"
     ]
    },
    {
     "name": "stdout",
     "output_type": "stream",
     "text": [
      "\u001b[32m[1026 11:21:04 @base.py:285]\u001b[0m Epoch 617 (global_step 107975) finished, time:5.42 seconds.\n"
     ]
    },
    {
     "name": "stderr",
     "output_type": "stream",
     "text": [
      "\n"
     ]
    },
    {
     "name": "stdout",
     "output_type": "stream",
     "text": [
      "\u001b[32m[1026 11:21:04 @saver.py:79]\u001b[0m Model saved to ../output/Chicago/DATGAN2_1000/model\\model-107975.\n",
      "\u001b[32m[1026 11:21:04 @monitor.py:467]\u001b[0m GAN_loss/discrim/accuracy_fake: 0.97\n",
      "\u001b[32m[1026 11:21:04 @monitor.py:467]\u001b[0m GAN_loss/discrim/accuracy_real: 0.042\n",
      "\u001b[32m[1026 11:21:04 @monitor.py:467]\u001b[0m GAN_loss/discrim/loss: 0.64865\n",
      "\u001b[32m[1026 11:21:04 @monitor.py:467]\u001b[0m GAN_loss/gen/final-g-loss: 1.0036\n",
      "\u001b[32m[1026 11:21:04 @monitor.py:467]\u001b[0m GAN_loss/gen/klloss: 0.062331\n",
      "\u001b[32m[1026 11:21:04 @monitor.py:467]\u001b[0m GAN_loss/gen/loss: 0.94123\n",
      "\u001b[32m[1026 11:21:04 @monitor.py:467]\u001b[0m QueueInput/queue_size: 50\n",
      "\u001b[32m[1026 11:21:04 @base.py:275]\u001b[0m Start Epoch 618 ...\n"
     ]
    },
    {
     "name": "stderr",
     "output_type": "stream",
     "text": [
      "100%|###################################################################################|175/175[00:05<00:00,32.11it/s]"
     ]
    },
    {
     "name": "stdout",
     "output_type": "stream",
     "text": [
      "\u001b[32m[1026 11:21:10 @base.py:285]\u001b[0m Epoch 618 (global_step 108150) finished, time:5.45 seconds.\n",
      "\u001b[32m[1026 11:21:10 @saver.py:79]\u001b[0m Model saved to ../output/Chicago/DATGAN2_1000/model\\model-108150.\n"
     ]
    },
    {
     "name": "stderr",
     "output_type": "stream",
     "text": [
      "\n"
     ]
    },
    {
     "name": "stdout",
     "output_type": "stream",
     "text": [
      "\u001b[32m[1026 11:21:10 @monitor.py:467]\u001b[0m GAN_loss/discrim/accuracy_fake: 0.97\n",
      "\u001b[32m[1026 11:21:10 @monitor.py:467]\u001b[0m GAN_loss/discrim/accuracy_real: 0.046\n",
      "\u001b[32m[1026 11:21:10 @monitor.py:467]\u001b[0m GAN_loss/discrim/loss: 0.65116\n",
      "\u001b[32m[1026 11:21:10 @monitor.py:467]\u001b[0m GAN_loss/gen/final-g-loss: 1.0107\n",
      "\u001b[32m[1026 11:21:10 @monitor.py:467]\u001b[0m GAN_loss/gen/klloss: 0.069167\n",
      "\u001b[32m[1026 11:21:10 @monitor.py:467]\u001b[0m GAN_loss/gen/loss: 0.9415\n",
      "\u001b[32m[1026 11:21:10 @monitor.py:467]\u001b[0m QueueInput/queue_size: 50\n",
      "\u001b[32m[1026 11:21:10 @base.py:275]\u001b[0m Start Epoch 619 ...\n"
     ]
    },
    {
     "name": "stderr",
     "output_type": "stream",
     "text": [
      "100%|###################################################################################|175/175[00:05<00:00,32.10it/s]"
     ]
    },
    {
     "name": "stdout",
     "output_type": "stream",
     "text": [
      "\u001b[32m[1026 11:21:15 @base.py:285]\u001b[0m Epoch 619 (global_step 108325) finished, time:5.45 seconds.\n",
      "\u001b[32m[1026 11:21:15 @saver.py:79]\u001b[0m Model saved to ../output/Chicago/DATGAN2_1000/model\\model-108325.\n"
     ]
    },
    {
     "name": "stderr",
     "output_type": "stream",
     "text": [
      "\n"
     ]
    },
    {
     "name": "stdout",
     "output_type": "stream",
     "text": [
      "\u001b[32m[1026 11:21:16 @monitor.py:467]\u001b[0m GAN_loss/discrim/accuracy_fake: 0.968\n",
      "\u001b[32m[1026 11:21:16 @monitor.py:467]\u001b[0m GAN_loss/discrim/accuracy_real: 0.074\n",
      "\u001b[32m[1026 11:21:16 @monitor.py:467]\u001b[0m GAN_loss/discrim/loss: 0.6436\n",
      "\u001b[32m[1026 11:21:16 @monitor.py:467]\u001b[0m GAN_loss/gen/final-g-loss: 1.0098\n",
      "\u001b[32m[1026 11:21:16 @monitor.py:467]\u001b[0m GAN_loss/gen/klloss: 0.053139\n",
      "\u001b[32m[1026 11:21:16 @monitor.py:467]\u001b[0m GAN_loss/gen/loss: 0.95669\n",
      "\u001b[32m[1026 11:21:16 @monitor.py:467]\u001b[0m QueueInput/queue_size: 50\n",
      "\u001b[32m[1026 11:21:16 @base.py:275]\u001b[0m Start Epoch 620 ...\n"
     ]
    },
    {
     "name": "stderr",
     "output_type": "stream",
     "text": [
      "100%|###################################################################################|175/175[00:05<00:00,32.10it/s]"
     ]
    },
    {
     "name": "stdout",
     "output_type": "stream",
     "text": [
      "\u001b[32m[1026 11:21:21 @base.py:285]\u001b[0m Epoch 620 (global_step 108500) finished, time:5.45 seconds.\n",
      "\u001b[32m[1026 11:21:21 @saver.py:79]\u001b[0m Model saved to ../output/Chicago/DATGAN2_1000/model\\model-108500.\n"
     ]
    },
    {
     "name": "stderr",
     "output_type": "stream",
     "text": [
      "\n"
     ]
    },
    {
     "name": "stdout",
     "output_type": "stream",
     "text": [
      "\u001b[32m[1026 11:21:21 @monitor.py:467]\u001b[0m GAN_loss/discrim/accuracy_fake: 0.96\n",
      "\u001b[32m[1026 11:21:21 @monitor.py:467]\u001b[0m GAN_loss/discrim/accuracy_real: 0.058\n",
      "\u001b[32m[1026 11:21:21 @monitor.py:467]\u001b[0m GAN_loss/discrim/loss: 0.65123\n",
      "\u001b[32m[1026 11:21:21 @monitor.py:467]\u001b[0m GAN_loss/gen/final-g-loss: 1.0052\n",
      "\u001b[32m[1026 11:21:21 @monitor.py:467]\u001b[0m GAN_loss/gen/klloss: 0.065986\n",
      "\u001b[32m[1026 11:21:21 @monitor.py:467]\u001b[0m GAN_loss/gen/loss: 0.93923\n",
      "\u001b[32m[1026 11:21:21 @monitor.py:467]\u001b[0m QueueInput/queue_size: 50\n",
      "\u001b[32m[1026 11:21:21 @base.py:275]\u001b[0m Start Epoch 621 ...\n"
     ]
    },
    {
     "name": "stderr",
     "output_type": "stream",
     "text": [
      "100%|###################################################################################|175/175[00:05<00:00,32.31it/s]"
     ]
    },
    {
     "name": "stdout",
     "output_type": "stream",
     "text": [
      "\u001b[32m[1026 11:21:27 @base.py:285]\u001b[0m Epoch 621 (global_step 108675) finished, time:5.42 seconds.\n"
     ]
    },
    {
     "name": "stderr",
     "output_type": "stream",
     "text": [
      "\n"
     ]
    },
    {
     "name": "stdout",
     "output_type": "stream",
     "text": [
      "\u001b[32m[1026 11:21:27 @saver.py:79]\u001b[0m Model saved to ../output/Chicago/DATGAN2_1000/model\\model-108675.\n",
      "\u001b[32m[1026 11:21:27 @monitor.py:467]\u001b[0m GAN_loss/discrim/accuracy_fake: 0.982\n",
      "\u001b[32m[1026 11:21:27 @monitor.py:467]\u001b[0m GAN_loss/discrim/accuracy_real: 0.062\n",
      "\u001b[32m[1026 11:21:27 @monitor.py:467]\u001b[0m GAN_loss/discrim/loss: 0.64661\n",
      "\u001b[32m[1026 11:21:27 @monitor.py:467]\u001b[0m GAN_loss/gen/final-g-loss: 0.9985\n",
      "\u001b[32m[1026 11:21:27 @monitor.py:467]\u001b[0m GAN_loss/gen/klloss: 0.046993\n",
      "\u001b[32m[1026 11:21:27 @monitor.py:467]\u001b[0m GAN_loss/gen/loss: 0.9515\n",
      "\u001b[32m[1026 11:21:27 @monitor.py:467]\u001b[0m QueueInput/queue_size: 50\n",
      "\u001b[32m[1026 11:21:27 @base.py:275]\u001b[0m Start Epoch 622 ...\n"
     ]
    },
    {
     "name": "stderr",
     "output_type": "stream",
     "text": [
      "100%|###################################################################################|175/175[00:05<00:00,32.27it/s]"
     ]
    },
    {
     "name": "stdout",
     "output_type": "stream",
     "text": [
      "\u001b[32m[1026 11:21:32 @base.py:285]\u001b[0m Epoch 622 (global_step 108850) finished, time:5.42 seconds.\n",
      "\u001b[32m[1026 11:21:32 @saver.py:79]\u001b[0m Model saved to ../output/Chicago/DATGAN2_1000/model\\model-108850.\n"
     ]
    },
    {
     "name": "stderr",
     "output_type": "stream",
     "text": [
      "\n"
     ]
    },
    {
     "name": "stdout",
     "output_type": "stream",
     "text": [
      "\u001b[32m[1026 11:21:33 @monitor.py:467]\u001b[0m GAN_loss/discrim/accuracy_fake: 0.97\n",
      "\u001b[32m[1026 11:21:33 @monitor.py:467]\u001b[0m GAN_loss/discrim/accuracy_real: 0.048\n",
      "\u001b[32m[1026 11:21:33 @monitor.py:467]\u001b[0m GAN_loss/discrim/loss: 0.64731\n",
      "\u001b[32m[1026 11:21:33 @monitor.py:467]\u001b[0m GAN_loss/gen/final-g-loss: 0.99177\n",
      "\u001b[32m[1026 11:21:33 @monitor.py:467]\u001b[0m GAN_loss/gen/klloss: 0.046545\n",
      "\u001b[32m[1026 11:21:33 @monitor.py:467]\u001b[0m GAN_loss/gen/loss: 0.94522\n",
      "\u001b[32m[1026 11:21:33 @monitor.py:467]\u001b[0m QueueInput/queue_size: 50\n",
      "\u001b[32m[1026 11:21:33 @base.py:275]\u001b[0m Start Epoch 623 ...\n"
     ]
    },
    {
     "name": "stderr",
     "output_type": "stream",
     "text": [
      "100%|###################################################################################|175/175[00:05<00:00,32.28it/s]"
     ]
    },
    {
     "name": "stdout",
     "output_type": "stream",
     "text": [
      "\u001b[32m[1026 11:21:38 @base.py:285]\u001b[0m Epoch 623 (global_step 109025) finished, time:5.42 seconds.\n"
     ]
    },
    {
     "name": "stderr",
     "output_type": "stream",
     "text": [
      "\n"
     ]
    },
    {
     "name": "stdout",
     "output_type": "stream",
     "text": [
      "\u001b[32m[1026 11:21:38 @saver.py:79]\u001b[0m Model saved to ../output/Chicago/DATGAN2_1000/model\\model-109025.\n",
      "\u001b[32m[1026 11:21:38 @monitor.py:467]\u001b[0m GAN_loss/discrim/accuracy_fake: 0.964\n",
      "\u001b[32m[1026 11:21:38 @monitor.py:467]\u001b[0m GAN_loss/discrim/accuracy_real: 0.036\n",
      "\u001b[32m[1026 11:21:38 @monitor.py:467]\u001b[0m GAN_loss/discrim/loss: 0.65353\n",
      "\u001b[32m[1026 11:21:38 @monitor.py:467]\u001b[0m GAN_loss/gen/final-g-loss: 1.0088\n",
      "\u001b[32m[1026 11:21:38 @monitor.py:467]\u001b[0m GAN_loss/gen/klloss: 0.066226\n",
      "\u001b[32m[1026 11:21:38 @monitor.py:467]\u001b[0m GAN_loss/gen/loss: 0.94254\n",
      "\u001b[32m[1026 11:21:38 @monitor.py:467]\u001b[0m QueueInput/queue_size: 50\n",
      "\u001b[32m[1026 11:21:38 @base.py:275]\u001b[0m Start Epoch 624 ...\n"
     ]
    },
    {
     "name": "stderr",
     "output_type": "stream",
     "text": [
      "100%|###################################################################################|175/175[00:05<00:00,32.23it/s]"
     ]
    },
    {
     "name": "stdout",
     "output_type": "stream",
     "text": [
      "\u001b[32m[1026 11:21:44 @base.py:285]\u001b[0m Epoch 624 (global_step 109200) finished, time:5.43 seconds.\n",
      "\u001b[32m[1026 11:21:44 @saver.py:79]\u001b[0m Model saved to ../output/Chicago/DATGAN2_1000/model\\model-109200.\n"
     ]
    },
    {
     "name": "stderr",
     "output_type": "stream",
     "text": [
      "\n"
     ]
    },
    {
     "name": "stdout",
     "output_type": "stream",
     "text": [
      "\u001b[32m[1026 11:21:44 @monitor.py:467]\u001b[0m GAN_loss/discrim/accuracy_fake: 0.948\n",
      "\u001b[32m[1026 11:21:44 @monitor.py:467]\u001b[0m GAN_loss/discrim/accuracy_real: 0.066\n",
      "\u001b[32m[1026 11:21:44 @monitor.py:467]\u001b[0m GAN_loss/discrim/loss: 0.64873\n",
      "\u001b[32m[1026 11:21:44 @monitor.py:467]\u001b[0m GAN_loss/gen/final-g-loss: 0.97607\n",
      "\u001b[32m[1026 11:21:44 @monitor.py:467]\u001b[0m GAN_loss/gen/klloss: 0.038858\n",
      "\u001b[32m[1026 11:21:44 @monitor.py:467]\u001b[0m GAN_loss/gen/loss: 0.93721\n",
      "\u001b[32m[1026 11:21:44 @monitor.py:467]\u001b[0m QueueInput/queue_size: 50\n",
      "\u001b[32m[1026 11:21:44 @base.py:275]\u001b[0m Start Epoch 625 ...\n"
     ]
    },
    {
     "name": "stderr",
     "output_type": "stream",
     "text": [
      "100%|###################################################################################|175/175[00:05<00:00,32.29it/s]"
     ]
    },
    {
     "name": "stdout",
     "output_type": "stream",
     "text": [
      "\u001b[32m[1026 11:21:49 @base.py:285]\u001b[0m Epoch 625 (global_step 109375) finished, time:5.42 seconds.\n"
     ]
    },
    {
     "name": "stderr",
     "output_type": "stream",
     "text": [
      "\n"
     ]
    },
    {
     "name": "stdout",
     "output_type": "stream",
     "text": [
      "\u001b[32m[1026 11:21:49 @saver.py:79]\u001b[0m Model saved to ../output/Chicago/DATGAN2_1000/model\\model-109375.\n",
      "\u001b[32m[1026 11:21:49 @monitor.py:467]\u001b[0m GAN_loss/discrim/accuracy_fake: 0.964\n",
      "\u001b[32m[1026 11:21:49 @monitor.py:467]\u001b[0m GAN_loss/discrim/accuracy_real: 0.032\n",
      "\u001b[32m[1026 11:21:49 @monitor.py:467]\u001b[0m GAN_loss/discrim/loss: 0.64441\n",
      "\u001b[32m[1026 11:21:49 @monitor.py:467]\u001b[0m GAN_loss/gen/final-g-loss: 1.0238\n",
      "\u001b[32m[1026 11:21:49 @monitor.py:467]\u001b[0m GAN_loss/gen/klloss: 0.068857\n",
      "\u001b[32m[1026 11:21:49 @monitor.py:467]\u001b[0m GAN_loss/gen/loss: 0.95498\n",
      "\u001b[32m[1026 11:21:49 @monitor.py:467]\u001b[0m QueueInput/queue_size: 50\n",
      "\u001b[32m[1026 11:21:49 @base.py:275]\u001b[0m Start Epoch 626 ...\n"
     ]
    },
    {
     "name": "stderr",
     "output_type": "stream",
     "text": [
      "100%|###################################################################################|175/175[00:05<00:00,32.24it/s]"
     ]
    },
    {
     "name": "stdout",
     "output_type": "stream",
     "text": [
      "\u001b[32m[1026 11:21:55 @base.py:285]\u001b[0m Epoch 626 (global_step 109550) finished, time:5.43 seconds.\n",
      "\u001b[32m[1026 11:21:55 @saver.py:79]\u001b[0m Model saved to ../output/Chicago/DATGAN2_1000/model\\model-109550.\n"
     ]
    },
    {
     "name": "stderr",
     "output_type": "stream",
     "text": [
      "\n"
     ]
    },
    {
     "name": "stdout",
     "output_type": "stream",
     "text": [
      "\u001b[32m[1026 11:21:55 @monitor.py:467]\u001b[0m GAN_loss/discrim/accuracy_fake: 0.98\n",
      "\u001b[32m[1026 11:21:55 @monitor.py:467]\u001b[0m GAN_loss/discrim/accuracy_real: 0.044\n",
      "\u001b[32m[1026 11:21:55 @monitor.py:467]\u001b[0m GAN_loss/discrim/loss: 0.64272\n",
      "\u001b[32m[1026 11:21:55 @monitor.py:467]\u001b[0m GAN_loss/gen/final-g-loss: 1.0848\n",
      "\u001b[32m[1026 11:21:55 @monitor.py:467]\u001b[0m GAN_loss/gen/klloss: 0.13676\n",
      "\u001b[32m[1026 11:21:55 @monitor.py:467]\u001b[0m GAN_loss/gen/loss: 0.94803\n",
      "\u001b[32m[1026 11:21:55 @monitor.py:467]\u001b[0m QueueInput/queue_size: 50\n",
      "\u001b[32m[1026 11:21:55 @base.py:275]\u001b[0m Start Epoch 627 ...\n"
     ]
    },
    {
     "name": "stderr",
     "output_type": "stream",
     "text": [
      "100%|###################################################################################|175/175[00:05<00:00,32.13it/s]"
     ]
    },
    {
     "name": "stdout",
     "output_type": "stream",
     "text": [
      "\u001b[32m[1026 11:22:01 @base.py:285]\u001b[0m Epoch 627 (global_step 109725) finished, time:5.45 seconds.\n",
      "\u001b[32m[1026 11:22:01 @saver.py:79]\u001b[0m Model saved to ../output/Chicago/DATGAN2_1000/model\\model-109725.\n"
     ]
    },
    {
     "name": "stderr",
     "output_type": "stream",
     "text": [
      "\n"
     ]
    },
    {
     "name": "stdout",
     "output_type": "stream",
     "text": [
      "\u001b[32m[1026 11:22:01 @monitor.py:467]\u001b[0m GAN_loss/discrim/accuracy_fake: 0.97\n",
      "\u001b[32m[1026 11:22:01 @monitor.py:467]\u001b[0m GAN_loss/discrim/accuracy_real: 0.074\n",
      "\u001b[32m[1026 11:22:01 @monitor.py:467]\u001b[0m GAN_loss/discrim/loss: 0.64671\n",
      "\u001b[32m[1026 11:22:01 @monitor.py:467]\u001b[0m GAN_loss/gen/final-g-loss: 1.0175\n",
      "\u001b[32m[1026 11:22:01 @monitor.py:467]\u001b[0m GAN_loss/gen/klloss: 0.07134\n",
      "\u001b[32m[1026 11:22:01 @monitor.py:467]\u001b[0m GAN_loss/gen/loss: 0.94614\n",
      "\u001b[32m[1026 11:22:01 @monitor.py:467]\u001b[0m QueueInput/queue_size: 50\n",
      "\u001b[32m[1026 11:22:01 @base.py:275]\u001b[0m Start Epoch 628 ...\n"
     ]
    },
    {
     "name": "stderr",
     "output_type": "stream",
     "text": [
      "100%|###################################################################################|175/175[00:05<00:00,32.25it/s]"
     ]
    },
    {
     "name": "stdout",
     "output_type": "stream",
     "text": [
      "\u001b[32m[1026 11:22:06 @base.py:285]\u001b[0m Epoch 628 (global_step 109900) finished, time:5.43 seconds.\n",
      "\u001b[32m[1026 11:22:06 @saver.py:79]\u001b[0m Model saved to ../output/Chicago/DATGAN2_1000/model\\model-109900.\n"
     ]
    },
    {
     "name": "stderr",
     "output_type": "stream",
     "text": [
      "\n"
     ]
    },
    {
     "name": "stdout",
     "output_type": "stream",
     "text": [
      "\u001b[32m[1026 11:22:06 @monitor.py:467]\u001b[0m GAN_loss/discrim/accuracy_fake: 0.948\n",
      "\u001b[32m[1026 11:22:06 @monitor.py:467]\u001b[0m GAN_loss/discrim/accuracy_real: 0.056\n",
      "\u001b[32m[1026 11:22:06 @monitor.py:467]\u001b[0m GAN_loss/discrim/loss: 0.65175\n",
      "\u001b[32m[1026 11:22:06 @monitor.py:467]\u001b[0m GAN_loss/gen/final-g-loss: 0.99714\n",
      "\u001b[32m[1026 11:22:06 @monitor.py:467]\u001b[0m GAN_loss/gen/klloss: 0.052649\n",
      "\u001b[32m[1026 11:22:06 @monitor.py:467]\u001b[0m GAN_loss/gen/loss: 0.94449\n",
      "\u001b[32m[1026 11:22:06 @monitor.py:467]\u001b[0m QueueInput/queue_size: 50\n",
      "\u001b[32m[1026 11:22:06 @base.py:275]\u001b[0m Start Epoch 629 ...\n"
     ]
    },
    {
     "name": "stderr",
     "output_type": "stream",
     "text": [
      "100%|###################################################################################|175/175[00:05<00:00,32.29it/s]"
     ]
    },
    {
     "name": "stdout",
     "output_type": "stream",
     "text": [
      "\u001b[32m[1026 11:22:12 @base.py:285]\u001b[0m Epoch 629 (global_step 110075) finished, time:5.42 seconds.\n"
     ]
    },
    {
     "name": "stderr",
     "output_type": "stream",
     "text": [
      "\n"
     ]
    },
    {
     "name": "stdout",
     "output_type": "stream",
     "text": [
      "\u001b[32m[1026 11:22:12 @saver.py:79]\u001b[0m Model saved to ../output/Chicago/DATGAN2_1000/model\\model-110075.\n",
      "\u001b[32m[1026 11:22:12 @monitor.py:467]\u001b[0m GAN_loss/discrim/accuracy_fake: 0.974\n",
      "\u001b[32m[1026 11:22:12 @monitor.py:467]\u001b[0m GAN_loss/discrim/accuracy_real: 0.05\n",
      "\u001b[32m[1026 11:22:12 @monitor.py:467]\u001b[0m GAN_loss/discrim/loss: 0.64416\n",
      "\u001b[32m[1026 11:22:12 @monitor.py:467]\u001b[0m GAN_loss/gen/final-g-loss: 1.0001\n",
      "\u001b[32m[1026 11:22:12 @monitor.py:467]\u001b[0m GAN_loss/gen/klloss: 0.046683\n",
      "\u001b[32m[1026 11:22:12 @monitor.py:467]\u001b[0m GAN_loss/gen/loss: 0.95342\n",
      "\u001b[32m[1026 11:22:12 @monitor.py:467]\u001b[0m QueueInput/queue_size: 50\n",
      "\u001b[32m[1026 11:22:12 @base.py:275]\u001b[0m Start Epoch 630 ...\n"
     ]
    },
    {
     "name": "stderr",
     "output_type": "stream",
     "text": [
      "100%|###################################################################################|175/175[00:05<00:00,32.22it/s]"
     ]
    },
    {
     "name": "stdout",
     "output_type": "stream",
     "text": [
      "\u001b[32m[1026 11:22:17 @base.py:285]\u001b[0m Epoch 630 (global_step 110250) finished, time:5.43 seconds.\n"
     ]
    },
    {
     "name": "stderr",
     "output_type": "stream",
     "text": [
      "\n"
     ]
    },
    {
     "name": "stdout",
     "output_type": "stream",
     "text": [
      "\u001b[32m[1026 11:22:18 @saver.py:79]\u001b[0m Model saved to ../output/Chicago/DATGAN2_1000/model\\model-110250.\n",
      "\u001b[32m[1026 11:22:18 @monitor.py:467]\u001b[0m GAN_loss/discrim/accuracy_fake: 0.956\n",
      "\u001b[32m[1026 11:22:18 @monitor.py:467]\u001b[0m GAN_loss/discrim/accuracy_real: 0.068\n",
      "\u001b[32m[1026 11:22:18 @monitor.py:467]\u001b[0m GAN_loss/discrim/loss: 0.65354\n",
      "\u001b[32m[1026 11:22:18 @monitor.py:467]\u001b[0m GAN_loss/gen/final-g-loss: 0.98092\n",
      "\u001b[32m[1026 11:22:18 @monitor.py:467]\u001b[0m GAN_loss/gen/klloss: 0.044362\n",
      "\u001b[32m[1026 11:22:18 @monitor.py:467]\u001b[0m GAN_loss/gen/loss: 0.93656\n",
      "\u001b[32m[1026 11:22:18 @monitor.py:467]\u001b[0m QueueInput/queue_size: 50\n",
      "\u001b[32m[1026 11:22:18 @base.py:275]\u001b[0m Start Epoch 631 ...\n"
     ]
    },
    {
     "name": "stderr",
     "output_type": "stream",
     "text": [
      "100%|###################################################################################|175/175[00:05<00:00,32.32it/s]"
     ]
    },
    {
     "name": "stdout",
     "output_type": "stream",
     "text": [
      "\u001b[32m[1026 11:22:23 @base.py:285]\u001b[0m Epoch 631 (global_step 110425) finished, time:5.42 seconds.\n"
     ]
    },
    {
     "name": "stderr",
     "output_type": "stream",
     "text": [
      "\n"
     ]
    },
    {
     "name": "stdout",
     "output_type": "stream",
     "text": [
      "\u001b[32m[1026 11:22:23 @saver.py:79]\u001b[0m Model saved to ../output/Chicago/DATGAN2_1000/model\\model-110425.\n",
      "\u001b[32m[1026 11:22:23 @monitor.py:467]\u001b[0m GAN_loss/discrim/accuracy_fake: 0.968\n",
      "\u001b[32m[1026 11:22:23 @monitor.py:467]\u001b[0m GAN_loss/discrim/accuracy_real: 0.04\n",
      "\u001b[32m[1026 11:22:23 @monitor.py:467]\u001b[0m GAN_loss/discrim/loss: 0.64729\n",
      "\u001b[32m[1026 11:22:23 @monitor.py:467]\u001b[0m GAN_loss/gen/final-g-loss: 1.0254\n",
      "\u001b[32m[1026 11:22:23 @monitor.py:467]\u001b[0m GAN_loss/gen/klloss: 0.077901\n",
      "\u001b[32m[1026 11:22:23 @monitor.py:467]\u001b[0m GAN_loss/gen/loss: 0.94753\n",
      "\u001b[32m[1026 11:22:23 @monitor.py:467]\u001b[0m QueueInput/queue_size: 50\n",
      "\u001b[32m[1026 11:22:23 @base.py:275]\u001b[0m Start Epoch 632 ...\n"
     ]
    },
    {
     "name": "stderr",
     "output_type": "stream",
     "text": [
      "100%|###################################################################################|175/175[00:05<00:00,32.26it/s]"
     ]
    },
    {
     "name": "stdout",
     "output_type": "stream",
     "text": [
      "\u001b[32m[1026 11:22:29 @base.py:285]\u001b[0m Epoch 632 (global_step 110600) finished, time:5.43 seconds.\n"
     ]
    },
    {
     "name": "stderr",
     "output_type": "stream",
     "text": [
      "\n"
     ]
    },
    {
     "name": "stdout",
     "output_type": "stream",
     "text": [
      "\u001b[32m[1026 11:22:29 @saver.py:79]\u001b[0m Model saved to ../output/Chicago/DATGAN2_1000/model\\model-110600.\n",
      "\u001b[32m[1026 11:22:29 @monitor.py:467]\u001b[0m GAN_loss/discrim/accuracy_fake: 0.968\n",
      "\u001b[32m[1026 11:22:29 @monitor.py:467]\u001b[0m GAN_loss/discrim/accuracy_real: 0.042\n",
      "\u001b[32m[1026 11:22:29 @monitor.py:467]\u001b[0m GAN_loss/discrim/loss: 0.64893\n",
      "\u001b[32m[1026 11:22:29 @monitor.py:467]\u001b[0m GAN_loss/gen/final-g-loss: 0.99671\n",
      "\u001b[32m[1026 11:22:29 @monitor.py:467]\u001b[0m GAN_loss/gen/klloss: 0.054762\n",
      "\u001b[32m[1026 11:22:29 @monitor.py:467]\u001b[0m GAN_loss/gen/loss: 0.94195\n",
      "\u001b[32m[1026 11:22:29 @monitor.py:467]\u001b[0m QueueInput/queue_size: 50\n",
      "\u001b[32m[1026 11:22:29 @base.py:275]\u001b[0m Start Epoch 633 ...\n"
     ]
    },
    {
     "name": "stderr",
     "output_type": "stream",
     "text": [
      "100%|###################################################################################|175/175[00:05<00:00,32.27it/s]"
     ]
    },
    {
     "name": "stdout",
     "output_type": "stream",
     "text": [
      "\u001b[32m[1026 11:22:34 @base.py:285]\u001b[0m Epoch 633 (global_step 110775) finished, time:5.42 seconds.\n"
     ]
    },
    {
     "name": "stderr",
     "output_type": "stream",
     "text": [
      "\n"
     ]
    },
    {
     "name": "stdout",
     "output_type": "stream",
     "text": [
      "\u001b[32m[1026 11:22:34 @saver.py:79]\u001b[0m Model saved to ../output/Chicago/DATGAN2_1000/model\\model-110775.\n",
      "\u001b[32m[1026 11:22:35 @monitor.py:467]\u001b[0m GAN_loss/discrim/accuracy_fake: 0.978\n",
      "\u001b[32m[1026 11:22:35 @monitor.py:467]\u001b[0m GAN_loss/discrim/accuracy_real: 0.042\n",
      "\u001b[32m[1026 11:22:35 @monitor.py:467]\u001b[0m GAN_loss/discrim/loss: 0.65348\n",
      "\u001b[32m[1026 11:22:35 @monitor.py:467]\u001b[0m GAN_loss/gen/final-g-loss: 1.0116\n",
      "\u001b[32m[1026 11:22:35 @monitor.py:467]\u001b[0m GAN_loss/gen/klloss: 0.069656\n",
      "\u001b[32m[1026 11:22:35 @monitor.py:467]\u001b[0m GAN_loss/gen/loss: 0.94191\n",
      "\u001b[32m[1026 11:22:35 @monitor.py:467]\u001b[0m QueueInput/queue_size: 50\n",
      "\u001b[32m[1026 11:22:35 @base.py:275]\u001b[0m Start Epoch 634 ...\n"
     ]
    },
    {
     "name": "stderr",
     "output_type": "stream",
     "text": [
      "100%|###################################################################################|175/175[00:05<00:00,32.32it/s]"
     ]
    },
    {
     "name": "stdout",
     "output_type": "stream",
     "text": [
      "\u001b[32m[1026 11:22:40 @base.py:285]\u001b[0m Epoch 634 (global_step 110950) finished, time:5.42 seconds.\n"
     ]
    },
    {
     "name": "stderr",
     "output_type": "stream",
     "text": [
      "\n"
     ]
    },
    {
     "name": "stdout",
     "output_type": "stream",
     "text": [
      "\u001b[32m[1026 11:22:40 @saver.py:79]\u001b[0m Model saved to ../output/Chicago/DATGAN2_1000/model\\model-110950.\n",
      "\u001b[32m[1026 11:22:40 @monitor.py:467]\u001b[0m GAN_loss/discrim/accuracy_fake: 0.964\n",
      "\u001b[32m[1026 11:22:40 @monitor.py:467]\u001b[0m GAN_loss/discrim/accuracy_real: 0.052\n",
      "\u001b[32m[1026 11:22:40 @monitor.py:467]\u001b[0m GAN_loss/discrim/loss: 0.65142\n",
      "\u001b[32m[1026 11:22:40 @monitor.py:467]\u001b[0m GAN_loss/gen/final-g-loss: 1.0167\n",
      "\u001b[32m[1026 11:22:40 @monitor.py:467]\u001b[0m GAN_loss/gen/klloss: 0.078723\n",
      "\u001b[32m[1026 11:22:40 @monitor.py:467]\u001b[0m GAN_loss/gen/loss: 0.93796\n",
      "\u001b[32m[1026 11:22:40 @monitor.py:467]\u001b[0m QueueInput/queue_size: 50\n",
      "\u001b[32m[1026 11:22:40 @base.py:275]\u001b[0m Start Epoch 635 ...\n"
     ]
    },
    {
     "name": "stderr",
     "output_type": "stream",
     "text": [
      "100%|###################################################################################|175/175[00:05<00:00,32.23it/s]"
     ]
    },
    {
     "name": "stdout",
     "output_type": "stream",
     "text": [
      "\u001b[32m[1026 11:22:46 @base.py:285]\u001b[0m Epoch 635 (global_step 111125) finished, time:5.43 seconds.\n"
     ]
    },
    {
     "name": "stderr",
     "output_type": "stream",
     "text": [
      "\n"
     ]
    },
    {
     "name": "stdout",
     "output_type": "stream",
     "text": [
      "\u001b[32m[1026 11:22:46 @saver.py:79]\u001b[0m Model saved to ../output/Chicago/DATGAN2_1000/model\\model-111125.\n",
      "\u001b[32m[1026 11:22:46 @monitor.py:467]\u001b[0m GAN_loss/discrim/accuracy_fake: 0.976\n",
      "\u001b[32m[1026 11:22:46 @monitor.py:467]\u001b[0m GAN_loss/discrim/accuracy_real: 0.054\n",
      "\u001b[32m[1026 11:22:46 @monitor.py:467]\u001b[0m GAN_loss/discrim/loss: 0.64645\n",
      "\u001b[32m[1026 11:22:46 @monitor.py:467]\u001b[0m GAN_loss/gen/final-g-loss: 1.0168\n",
      "\u001b[32m[1026 11:22:46 @monitor.py:467]\u001b[0m GAN_loss/gen/klloss: 0.062867\n",
      "\u001b[32m[1026 11:22:46 @monitor.py:467]\u001b[0m GAN_loss/gen/loss: 0.9539\n",
      "\u001b[32m[1026 11:22:46 @monitor.py:467]\u001b[0m QueueInput/queue_size: 50\n",
      "\u001b[32m[1026 11:22:46 @base.py:275]\u001b[0m Start Epoch 636 ...\n"
     ]
    },
    {
     "name": "stderr",
     "output_type": "stream",
     "text": [
      "100%|###################################################################################|175/175[00:05<00:00,32.24it/s]"
     ]
    },
    {
     "name": "stdout",
     "output_type": "stream",
     "text": [
      "\u001b[32m[1026 11:22:51 @base.py:285]\u001b[0m Epoch 636 (global_step 111300) finished, time:5.43 seconds.\n"
     ]
    },
    {
     "name": "stderr",
     "output_type": "stream",
     "text": [
      "\n"
     ]
    },
    {
     "name": "stdout",
     "output_type": "stream",
     "text": [
      "\u001b[32m[1026 11:22:51 @saver.py:79]\u001b[0m Model saved to ../output/Chicago/DATGAN2_1000/model\\model-111300.\n",
      "\u001b[32m[1026 11:22:51 @monitor.py:467]\u001b[0m GAN_loss/discrim/accuracy_fake: 0.954\n",
      "\u001b[32m[1026 11:22:51 @monitor.py:467]\u001b[0m GAN_loss/discrim/accuracy_real: 0.04\n",
      "\u001b[32m[1026 11:22:51 @monitor.py:467]\u001b[0m GAN_loss/discrim/loss: 0.65143\n",
      "\u001b[32m[1026 11:22:51 @monitor.py:467]\u001b[0m GAN_loss/gen/final-g-loss: 1.0047\n",
      "\u001b[32m[1026 11:22:51 @monitor.py:467]\u001b[0m GAN_loss/gen/klloss: 0.072268\n",
      "\u001b[32m[1026 11:22:51 @monitor.py:467]\u001b[0m GAN_loss/gen/loss: 0.93243\n",
      "\u001b[32m[1026 11:22:51 @monitor.py:467]\u001b[0m QueueInput/queue_size: 50\n",
      "\u001b[32m[1026 11:22:51 @base.py:275]\u001b[0m Start Epoch 637 ...\n"
     ]
    },
    {
     "name": "stderr",
     "output_type": "stream",
     "text": [
      "100%|###################################################################################|175/175[00:05<00:00,32.23it/s]"
     ]
    },
    {
     "name": "stdout",
     "output_type": "stream",
     "text": [
      "\u001b[32m[1026 11:22:57 @base.py:285]\u001b[0m Epoch 637 (global_step 111475) finished, time:5.43 seconds.\n"
     ]
    },
    {
     "name": "stderr",
     "output_type": "stream",
     "text": [
      "\n"
     ]
    },
    {
     "name": "stdout",
     "output_type": "stream",
     "text": [
      "\u001b[32m[1026 11:22:57 @saver.py:79]\u001b[0m Model saved to ../output/Chicago/DATGAN2_1000/model\\model-111475.\n",
      "\u001b[32m[1026 11:22:57 @monitor.py:467]\u001b[0m GAN_loss/discrim/accuracy_fake: 0.968\n",
      "\u001b[32m[1026 11:22:57 @monitor.py:467]\u001b[0m GAN_loss/discrim/accuracy_real: 0.054\n",
      "\u001b[32m[1026 11:22:57 @monitor.py:467]\u001b[0m GAN_loss/discrim/loss: 0.65398\n",
      "\u001b[32m[1026 11:22:57 @monitor.py:467]\u001b[0m GAN_loss/gen/final-g-loss: 0.9877\n",
      "\u001b[32m[1026 11:22:57 @monitor.py:467]\u001b[0m GAN_loss/gen/klloss: 0.054284\n",
      "\u001b[32m[1026 11:22:57 @monitor.py:467]\u001b[0m GAN_loss/gen/loss: 0.93342\n",
      "\u001b[32m[1026 11:22:57 @monitor.py:467]\u001b[0m QueueInput/queue_size: 50\n",
      "\u001b[32m[1026 11:22:57 @base.py:275]\u001b[0m Start Epoch 638 ...\n"
     ]
    },
    {
     "name": "stderr",
     "output_type": "stream",
     "text": [
      "100%|###################################################################################|175/175[00:05<00:00,32.22it/s]"
     ]
    },
    {
     "name": "stdout",
     "output_type": "stream",
     "text": [
      "\u001b[32m[1026 11:23:03 @base.py:285]\u001b[0m Epoch 638 (global_step 111650) finished, time:5.43 seconds.\n"
     ]
    },
    {
     "name": "stderr",
     "output_type": "stream",
     "text": [
      "\n"
     ]
    },
    {
     "name": "stdout",
     "output_type": "stream",
     "text": [
      "\u001b[32m[1026 11:23:03 @saver.py:79]\u001b[0m Model saved to ../output/Chicago/DATGAN2_1000/model\\model-111650.\n",
      "\u001b[32m[1026 11:23:03 @monitor.py:467]\u001b[0m GAN_loss/discrim/accuracy_fake: 0.98\n",
      "\u001b[32m[1026 11:23:03 @monitor.py:467]\u001b[0m GAN_loss/discrim/accuracy_real: 0.05\n",
      "\u001b[32m[1026 11:23:03 @monitor.py:467]\u001b[0m GAN_loss/discrim/loss: 0.64948\n",
      "\u001b[32m[1026 11:23:03 @monitor.py:467]\u001b[0m GAN_loss/gen/final-g-loss: 1.0064\n",
      "\u001b[32m[1026 11:23:03 @monitor.py:467]\u001b[0m GAN_loss/gen/klloss: 0.061665\n",
      "\u001b[32m[1026 11:23:03 @monitor.py:467]\u001b[0m GAN_loss/gen/loss: 0.9447\n",
      "\u001b[32m[1026 11:23:03 @monitor.py:467]\u001b[0m QueueInput/queue_size: 50\n",
      "\u001b[32m[1026 11:23:03 @base.py:275]\u001b[0m Start Epoch 639 ...\n"
     ]
    },
    {
     "name": "stderr",
     "output_type": "stream",
     "text": [
      "100%|###################################################################################|175/175[00:05<00:00,32.06it/s]"
     ]
    },
    {
     "name": "stdout",
     "output_type": "stream",
     "text": [
      "\u001b[32m[1026 11:23:08 @base.py:285]\u001b[0m Epoch 639 (global_step 111825) finished, time:5.46 seconds.\n",
      "\u001b[32m[1026 11:23:08 @saver.py:79]\u001b[0m Model saved to ../output/Chicago/DATGAN2_1000/model\\model-111825.\n"
     ]
    },
    {
     "name": "stderr",
     "output_type": "stream",
     "text": [
      "\n"
     ]
    },
    {
     "name": "stdout",
     "output_type": "stream",
     "text": [
      "\u001b[32m[1026 11:23:08 @monitor.py:467]\u001b[0m GAN_loss/discrim/accuracy_fake: 0.978\n",
      "\u001b[32m[1026 11:23:08 @monitor.py:467]\u001b[0m GAN_loss/discrim/accuracy_real: 0.032\n",
      "\u001b[32m[1026 11:23:08 @monitor.py:467]\u001b[0m GAN_loss/discrim/loss: 0.64819\n",
      "\u001b[32m[1026 11:23:08 @monitor.py:467]\u001b[0m GAN_loss/gen/final-g-loss: 1.0401\n",
      "\u001b[32m[1026 11:23:08 @monitor.py:467]\u001b[0m GAN_loss/gen/klloss: 0.088916\n",
      "\u001b[32m[1026 11:23:08 @monitor.py:467]\u001b[0m GAN_loss/gen/loss: 0.95121\n",
      "\u001b[32m[1026 11:23:08 @monitor.py:467]\u001b[0m QueueInput/queue_size: 50\n",
      "\u001b[32m[1026 11:23:08 @base.py:275]\u001b[0m Start Epoch 640 ...\n"
     ]
    },
    {
     "name": "stderr",
     "output_type": "stream",
     "text": [
      "100%|###################################################################################|175/175[00:05<00:00,32.12it/s]"
     ]
    },
    {
     "name": "stdout",
     "output_type": "stream",
     "text": [
      "\u001b[32m[1026 11:23:14 @base.py:285]\u001b[0m Epoch 640 (global_step 112000) finished, time:5.45 seconds.\n",
      "\u001b[32m[1026 11:23:14 @saver.py:79]\u001b[0m Model saved to ../output/Chicago/DATGAN2_1000/model\\model-112000.\n"
     ]
    },
    {
     "name": "stderr",
     "output_type": "stream",
     "text": [
      "\n"
     ]
    },
    {
     "name": "stdout",
     "output_type": "stream",
     "text": [
      "\u001b[32m[1026 11:23:14 @monitor.py:467]\u001b[0m GAN_loss/discrim/accuracy_fake: 0.97\n",
      "\u001b[32m[1026 11:23:14 @monitor.py:467]\u001b[0m GAN_loss/discrim/accuracy_real: 0.054\n",
      "\u001b[32m[1026 11:23:14 @monitor.py:467]\u001b[0m GAN_loss/discrim/loss: 0.6487\n",
      "\u001b[32m[1026 11:23:14 @monitor.py:467]\u001b[0m GAN_loss/gen/final-g-loss: 1.0299\n",
      "\u001b[32m[1026 11:23:14 @monitor.py:467]\u001b[0m GAN_loss/gen/klloss: 0.092315\n",
      "\u001b[32m[1026 11:23:14 @monitor.py:467]\u001b[0m GAN_loss/gen/loss: 0.93757\n",
      "\u001b[32m[1026 11:23:14 @monitor.py:467]\u001b[0m QueueInput/queue_size: 50\n",
      "\u001b[32m[1026 11:23:14 @base.py:275]\u001b[0m Start Epoch 641 ...\n"
     ]
    },
    {
     "name": "stderr",
     "output_type": "stream",
     "text": [
      "100%|###################################################################################|175/175[00:05<00:00,32.22it/s]"
     ]
    },
    {
     "name": "stdout",
     "output_type": "stream",
     "text": [
      "\u001b[32m[1026 11:23:20 @base.py:285]\u001b[0m Epoch 641 (global_step 112175) finished, time:5.43 seconds.\n"
     ]
    },
    {
     "name": "stderr",
     "output_type": "stream",
     "text": [
      "\n"
     ]
    },
    {
     "name": "stdout",
     "output_type": "stream",
     "text": [
      "\u001b[32m[1026 11:23:20 @saver.py:79]\u001b[0m Model saved to ../output/Chicago/DATGAN2_1000/model\\model-112175.\n",
      "\u001b[32m[1026 11:23:20 @monitor.py:467]\u001b[0m GAN_loss/discrim/accuracy_fake: 0.982\n",
      "\u001b[32m[1026 11:23:20 @monitor.py:467]\u001b[0m GAN_loss/discrim/accuracy_real: 0.036\n",
      "\u001b[32m[1026 11:23:20 @monitor.py:467]\u001b[0m GAN_loss/discrim/loss: 0.6537\n",
      "\u001b[32m[1026 11:23:20 @monitor.py:467]\u001b[0m GAN_loss/gen/final-g-loss: 0.99938\n",
      "\u001b[32m[1026 11:23:20 @monitor.py:467]\u001b[0m GAN_loss/gen/klloss: 0.055666\n",
      "\u001b[32m[1026 11:23:20 @monitor.py:467]\u001b[0m GAN_loss/gen/loss: 0.94371\n",
      "\u001b[32m[1026 11:23:20 @monitor.py:467]\u001b[0m QueueInput/queue_size: 50\n",
      "\u001b[32m[1026 11:23:20 @base.py:275]\u001b[0m Start Epoch 642 ...\n"
     ]
    },
    {
     "name": "stderr",
     "output_type": "stream",
     "text": [
      "100%|###################################################################################|175/175[00:05<00:00,32.30it/s]"
     ]
    },
    {
     "name": "stdout",
     "output_type": "stream",
     "text": [
      "\u001b[32m[1026 11:23:25 @base.py:285]\u001b[0m Epoch 642 (global_step 112350) finished, time:5.42 seconds.\n"
     ]
    },
    {
     "name": "stderr",
     "output_type": "stream",
     "text": [
      "\n"
     ]
    },
    {
     "name": "stdout",
     "output_type": "stream",
     "text": [
      "\u001b[32m[1026 11:23:25 @saver.py:79]\u001b[0m Model saved to ../output/Chicago/DATGAN2_1000/model\\model-112350.\n",
      "\u001b[32m[1026 11:23:25 @monitor.py:467]\u001b[0m GAN_loss/discrim/accuracy_fake: 0.966\n",
      "\u001b[32m[1026 11:23:25 @monitor.py:467]\u001b[0m GAN_loss/discrim/accuracy_real: 0.05\n",
      "\u001b[32m[1026 11:23:25 @monitor.py:467]\u001b[0m GAN_loss/discrim/loss: 0.6541\n",
      "\u001b[32m[1026 11:23:25 @monitor.py:467]\u001b[0m GAN_loss/gen/final-g-loss: 0.98133\n",
      "\u001b[32m[1026 11:23:25 @monitor.py:467]\u001b[0m GAN_loss/gen/klloss: 0.037523\n",
      "\u001b[32m[1026 11:23:25 @monitor.py:467]\u001b[0m GAN_loss/gen/loss: 0.94381\n",
      "\u001b[32m[1026 11:23:25 @monitor.py:467]\u001b[0m QueueInput/queue_size: 50\n",
      "\u001b[32m[1026 11:23:25 @base.py:275]\u001b[0m Start Epoch 643 ...\n"
     ]
    },
    {
     "name": "stderr",
     "output_type": "stream",
     "text": [
      "100%|###################################################################################|175/175[00:05<00:00,32.24it/s]"
     ]
    },
    {
     "name": "stdout",
     "output_type": "stream",
     "text": [
      "\u001b[32m[1026 11:23:31 @base.py:285]\u001b[0m Epoch 643 (global_step 112525) finished, time:5.43 seconds.\n",
      "\u001b[32m[1026 11:23:31 @saver.py:79]\u001b[0m Model saved to ../output/Chicago/DATGAN2_1000/model\\model-112525.\n"
     ]
    },
    {
     "name": "stderr",
     "output_type": "stream",
     "text": [
      "\n"
     ]
    },
    {
     "name": "stdout",
     "output_type": "stream",
     "text": [
      "\u001b[32m[1026 11:23:31 @monitor.py:467]\u001b[0m GAN_loss/discrim/accuracy_fake: 0.972\n",
      "\u001b[32m[1026 11:23:31 @monitor.py:467]\u001b[0m GAN_loss/discrim/accuracy_real: 0.052\n",
      "\u001b[32m[1026 11:23:31 @monitor.py:467]\u001b[0m GAN_loss/discrim/loss: 0.64644\n",
      "\u001b[32m[1026 11:23:31 @monitor.py:467]\u001b[0m GAN_loss/gen/final-g-loss: 1.006\n",
      "\u001b[32m[1026 11:23:31 @monitor.py:467]\u001b[0m GAN_loss/gen/klloss: 0.050092\n",
      "\u001b[32m[1026 11:23:31 @monitor.py:467]\u001b[0m GAN_loss/gen/loss: 0.95595\n",
      "\u001b[32m[1026 11:23:31 @monitor.py:467]\u001b[0m QueueInput/queue_size: 50\n",
      "\u001b[32m[1026 11:23:31 @base.py:275]\u001b[0m Start Epoch 644 ...\n"
     ]
    },
    {
     "name": "stderr",
     "output_type": "stream",
     "text": [
      "100%|###################################################################################|175/175[00:05<00:00,32.27it/s]"
     ]
    },
    {
     "name": "stdout",
     "output_type": "stream",
     "text": [
      "\u001b[32m[1026 11:23:36 @base.py:285]\u001b[0m Epoch 644 (global_step 112700) finished, time:5.42 seconds.\n"
     ]
    },
    {
     "name": "stderr",
     "output_type": "stream",
     "text": [
      "\n"
     ]
    },
    {
     "name": "stdout",
     "output_type": "stream",
     "text": [
      "\u001b[32m[1026 11:23:37 @saver.py:79]\u001b[0m Model saved to ../output/Chicago/DATGAN2_1000/model\\model-112700.\n",
      "\u001b[32m[1026 11:23:37 @monitor.py:467]\u001b[0m GAN_loss/discrim/accuracy_fake: 0.966\n",
      "\u001b[32m[1026 11:23:37 @monitor.py:467]\u001b[0m GAN_loss/discrim/accuracy_real: 0.056\n",
      "\u001b[32m[1026 11:23:37 @monitor.py:467]\u001b[0m GAN_loss/discrim/loss: 0.6532\n",
      "\u001b[32m[1026 11:23:37 @monitor.py:467]\u001b[0m GAN_loss/gen/final-g-loss: 1.0101\n",
      "\u001b[32m[1026 11:23:37 @monitor.py:467]\u001b[0m GAN_loss/gen/klloss: 0.06732\n",
      "\u001b[32m[1026 11:23:37 @monitor.py:467]\u001b[0m GAN_loss/gen/loss: 0.94279\n",
      "\u001b[32m[1026 11:23:37 @monitor.py:467]\u001b[0m QueueInput/queue_size: 50\n",
      "\u001b[32m[1026 11:23:37 @base.py:275]\u001b[0m Start Epoch 645 ...\n"
     ]
    },
    {
     "name": "stderr",
     "output_type": "stream",
     "text": [
      "100%|###################################################################################|175/175[00:05<00:00,32.25it/s]"
     ]
    },
    {
     "name": "stdout",
     "output_type": "stream",
     "text": [
      "\u001b[32m[1026 11:23:42 @base.py:285]\u001b[0m Epoch 645 (global_step 112875) finished, time:5.43 seconds.\n"
     ]
    },
    {
     "name": "stderr",
     "output_type": "stream",
     "text": [
      "\n"
     ]
    },
    {
     "name": "stdout",
     "output_type": "stream",
     "text": [
      "\u001b[32m[1026 11:23:42 @saver.py:79]\u001b[0m Model saved to ../output/Chicago/DATGAN2_1000/model\\model-112875.\n",
      "\u001b[32m[1026 11:23:42 @monitor.py:467]\u001b[0m GAN_loss/discrim/accuracy_fake: 0.972\n",
      "\u001b[32m[1026 11:23:42 @monitor.py:467]\u001b[0m GAN_loss/discrim/accuracy_real: 0.062\n",
      "\u001b[32m[1026 11:23:42 @monitor.py:467]\u001b[0m GAN_loss/discrim/loss: 0.64695\n",
      "\u001b[32m[1026 11:23:42 @monitor.py:467]\u001b[0m GAN_loss/gen/final-g-loss: 1.009\n",
      "\u001b[32m[1026 11:23:42 @monitor.py:467]\u001b[0m GAN_loss/gen/klloss: 0.05977\n",
      "\u001b[32m[1026 11:23:42 @monitor.py:467]\u001b[0m GAN_loss/gen/loss: 0.94923\n",
      "\u001b[32m[1026 11:23:42 @monitor.py:467]\u001b[0m QueueInput/queue_size: 50\n",
      "\u001b[32m[1026 11:23:42 @base.py:275]\u001b[0m Start Epoch 646 ...\n"
     ]
    },
    {
     "name": "stderr",
     "output_type": "stream",
     "text": [
      "100%|###################################################################################|175/175[00:05<00:00,32.28it/s]"
     ]
    },
    {
     "name": "stdout",
     "output_type": "stream",
     "text": [
      "\u001b[32m[1026 11:23:48 @base.py:285]\u001b[0m Epoch 646 (global_step 113050) finished, time:5.42 seconds.\n"
     ]
    },
    {
     "name": "stderr",
     "output_type": "stream",
     "text": [
      "\n"
     ]
    },
    {
     "name": "stdout",
     "output_type": "stream",
     "text": [
      "\u001b[32m[1026 11:23:48 @saver.py:79]\u001b[0m Model saved to ../output/Chicago/DATGAN2_1000/model\\model-113050.\n",
      "\u001b[32m[1026 11:23:48 @monitor.py:467]\u001b[0m GAN_loss/discrim/accuracy_fake: 0.978\n",
      "\u001b[32m[1026 11:23:48 @monitor.py:467]\u001b[0m GAN_loss/discrim/accuracy_real: 0.046\n",
      "\u001b[32m[1026 11:23:48 @monitor.py:467]\u001b[0m GAN_loss/discrim/loss: 0.64585\n",
      "\u001b[32m[1026 11:23:48 @monitor.py:467]\u001b[0m GAN_loss/gen/final-g-loss: 1.0249\n",
      "\u001b[32m[1026 11:23:48 @monitor.py:467]\u001b[0m GAN_loss/gen/klloss: 0.071915\n",
      "\u001b[32m[1026 11:23:48 @monitor.py:467]\u001b[0m GAN_loss/gen/loss: 0.95294\n",
      "\u001b[32m[1026 11:23:48 @monitor.py:467]\u001b[0m QueueInput/queue_size: 50\n",
      "\u001b[32m[1026 11:23:48 @base.py:275]\u001b[0m Start Epoch 647 ...\n"
     ]
    },
    {
     "name": "stderr",
     "output_type": "stream",
     "text": [
      "100%|###################################################################################|175/175[00:05<00:00,32.26it/s]"
     ]
    },
    {
     "name": "stdout",
     "output_type": "stream",
     "text": [
      "\u001b[32m[1026 11:23:53 @base.py:285]\u001b[0m Epoch 647 (global_step 113225) finished, time:5.43 seconds.\n",
      "\u001b[32m[1026 11:23:53 @saver.py:79]\u001b[0m Model saved to ../output/Chicago/DATGAN2_1000/model\\model-113225.\n"
     ]
    },
    {
     "name": "stderr",
     "output_type": "stream",
     "text": [
      "\n"
     ]
    },
    {
     "name": "stdout",
     "output_type": "stream",
     "text": [
      "\u001b[32m[1026 11:23:54 @monitor.py:467]\u001b[0m GAN_loss/discrim/accuracy_fake: 0.974\n",
      "\u001b[32m[1026 11:23:54 @monitor.py:467]\u001b[0m GAN_loss/discrim/accuracy_real: 0.054\n",
      "\u001b[32m[1026 11:23:54 @monitor.py:467]\u001b[0m GAN_loss/discrim/loss: 0.6488\n",
      "\u001b[32m[1026 11:23:54 @monitor.py:467]\u001b[0m GAN_loss/gen/final-g-loss: 1.0071\n",
      "\u001b[32m[1026 11:23:54 @monitor.py:467]\u001b[0m GAN_loss/gen/klloss: 0.065588\n",
      "\u001b[32m[1026 11:23:54 @monitor.py:467]\u001b[0m GAN_loss/gen/loss: 0.94154\n",
      "\u001b[32m[1026 11:23:54 @monitor.py:467]\u001b[0m QueueInput/queue_size: 50\n",
      "\u001b[32m[1026 11:23:54 @base.py:275]\u001b[0m Start Epoch 648 ...\n"
     ]
    },
    {
     "name": "stderr",
     "output_type": "stream",
     "text": [
      "100%|###################################################################################|175/175[00:05<00:00,32.29it/s]"
     ]
    },
    {
     "name": "stdout",
     "output_type": "stream",
     "text": [
      "\u001b[32m[1026 11:23:59 @base.py:285]\u001b[0m Epoch 648 (global_step 113400) finished, time:5.42 seconds.\n"
     ]
    },
    {
     "name": "stderr",
     "output_type": "stream",
     "text": [
      "\n"
     ]
    },
    {
     "name": "stdout",
     "output_type": "stream",
     "text": [
      "\u001b[32m[1026 11:23:59 @saver.py:79]\u001b[0m Model saved to ../output/Chicago/DATGAN2_1000/model\\model-113400.\n",
      "\u001b[32m[1026 11:23:59 @monitor.py:467]\u001b[0m GAN_loss/discrim/accuracy_fake: 0.982\n",
      "\u001b[32m[1026 11:23:59 @monitor.py:467]\u001b[0m GAN_loss/discrim/accuracy_real: 0.068\n",
      "\u001b[32m[1026 11:23:59 @monitor.py:467]\u001b[0m GAN_loss/discrim/loss: 0.64409\n",
      "\u001b[32m[1026 11:23:59 @monitor.py:467]\u001b[0m GAN_loss/gen/final-g-loss: 1.0026\n",
      "\u001b[32m[1026 11:23:59 @monitor.py:467]\u001b[0m GAN_loss/gen/klloss: 0.051564\n",
      "\u001b[32m[1026 11:23:59 @monitor.py:467]\u001b[0m GAN_loss/gen/loss: 0.951\n",
      "\u001b[32m[1026 11:23:59 @monitor.py:467]\u001b[0m QueueInput/queue_size: 50\n",
      "\u001b[32m[1026 11:23:59 @base.py:275]\u001b[0m Start Epoch 649 ...\n"
     ]
    },
    {
     "name": "stderr",
     "output_type": "stream",
     "text": [
      "100%|###################################################################################|175/175[00:05<00:00,32.24it/s]"
     ]
    },
    {
     "name": "stdout",
     "output_type": "stream",
     "text": [
      "\u001b[32m[1026 11:24:05 @base.py:285]\u001b[0m Epoch 649 (global_step 113575) finished, time:5.43 seconds.\n",
      "\u001b[32m[1026 11:24:05 @saver.py:79]\u001b[0m Model saved to ../output/Chicago/DATGAN2_1000/model\\model-113575.\n"
     ]
    },
    {
     "name": "stderr",
     "output_type": "stream",
     "text": [
      "\n"
     ]
    },
    {
     "name": "stdout",
     "output_type": "stream",
     "text": [
      "\u001b[32m[1026 11:24:05 @monitor.py:467]\u001b[0m GAN_loss/discrim/accuracy_fake: 0.968\n",
      "\u001b[32m[1026 11:24:05 @monitor.py:467]\u001b[0m GAN_loss/discrim/accuracy_real: 0.052\n",
      "\u001b[32m[1026 11:24:05 @monitor.py:467]\u001b[0m GAN_loss/discrim/loss: 0.64658\n",
      "\u001b[32m[1026 11:24:05 @monitor.py:467]\u001b[0m GAN_loss/gen/final-g-loss: 1.0239\n",
      "\u001b[32m[1026 11:24:05 @monitor.py:467]\u001b[0m GAN_loss/gen/klloss: 0.082538\n",
      "\u001b[32m[1026 11:24:05 @monitor.py:467]\u001b[0m GAN_loss/gen/loss: 0.94139\n",
      "\u001b[32m[1026 11:24:05 @monitor.py:467]\u001b[0m QueueInput/queue_size: 50\n",
      "\u001b[32m[1026 11:24:05 @base.py:275]\u001b[0m Start Epoch 650 ...\n"
     ]
    },
    {
     "name": "stderr",
     "output_type": "stream",
     "text": [
      "100%|###################################################################################|175/175[00:05<00:00,32.28it/s]"
     ]
    },
    {
     "name": "stdout",
     "output_type": "stream",
     "text": [
      "\u001b[32m[1026 11:24:10 @base.py:285]\u001b[0m Epoch 650 (global_step 113750) finished, time:5.42 seconds.\n"
     ]
    },
    {
     "name": "stderr",
     "output_type": "stream",
     "text": [
      "\n"
     ]
    },
    {
     "name": "stdout",
     "output_type": "stream",
     "text": [
      "\u001b[32m[1026 11:24:10 @saver.py:79]\u001b[0m Model saved to ../output/Chicago/DATGAN2_1000/model\\model-113750.\n",
      "\u001b[32m[1026 11:24:11 @monitor.py:467]\u001b[0m GAN_loss/discrim/accuracy_fake: 0.974\n",
      "\u001b[32m[1026 11:24:11 @monitor.py:467]\u001b[0m GAN_loss/discrim/accuracy_real: 0.05\n",
      "\u001b[32m[1026 11:24:11 @monitor.py:467]\u001b[0m GAN_loss/discrim/loss: 0.64645\n",
      "\u001b[32m[1026 11:24:11 @monitor.py:467]\u001b[0m GAN_loss/gen/final-g-loss: 1.0429\n",
      "\u001b[32m[1026 11:24:11 @monitor.py:467]\u001b[0m GAN_loss/gen/klloss: 0.090631\n",
      "\u001b[32m[1026 11:24:11 @monitor.py:467]\u001b[0m GAN_loss/gen/loss: 0.9523\n",
      "\u001b[32m[1026 11:24:11 @monitor.py:467]\u001b[0m QueueInput/queue_size: 50\n",
      "\u001b[32m[1026 11:24:11 @base.py:275]\u001b[0m Start Epoch 651 ...\n"
     ]
    },
    {
     "name": "stderr",
     "output_type": "stream",
     "text": [
      "100%|###################################################################################|175/175[00:05<00:00,32.25it/s]"
     ]
    },
    {
     "name": "stdout",
     "output_type": "stream",
     "text": [
      "\u001b[32m[1026 11:24:16 @base.py:285]\u001b[0m Epoch 651 (global_step 113925) finished, time:5.43 seconds.\n",
      "\u001b[32m[1026 11:24:16 @saver.py:79]\u001b[0m Model saved to ../output/Chicago/DATGAN2_1000/model\\model-113925.\n"
     ]
    },
    {
     "name": "stderr",
     "output_type": "stream",
     "text": [
      "\n"
     ]
    },
    {
     "name": "stdout",
     "output_type": "stream",
     "text": [
      "\u001b[32m[1026 11:24:16 @monitor.py:467]\u001b[0m GAN_loss/discrim/accuracy_fake: 0.97\n",
      "\u001b[32m[1026 11:24:16 @monitor.py:467]\u001b[0m GAN_loss/discrim/accuracy_real: 0.062\n",
      "\u001b[32m[1026 11:24:16 @monitor.py:467]\u001b[0m GAN_loss/discrim/loss: 0.64799\n",
      "\u001b[32m[1026 11:24:16 @monitor.py:467]\u001b[0m GAN_loss/gen/final-g-loss: 0.99091\n",
      "\u001b[32m[1026 11:24:16 @monitor.py:467]\u001b[0m GAN_loss/gen/klloss: 0.042059\n",
      "\u001b[32m[1026 11:24:16 @monitor.py:467]\u001b[0m GAN_loss/gen/loss: 0.94885\n",
      "\u001b[32m[1026 11:24:16 @monitor.py:467]\u001b[0m QueueInput/queue_size: 50\n",
      "\u001b[32m[1026 11:24:16 @base.py:275]\u001b[0m Start Epoch 652 ...\n"
     ]
    },
    {
     "name": "stderr",
     "output_type": "stream",
     "text": [
      "100%|###################################################################################|175/175[00:05<00:00,32.27it/s]"
     ]
    },
    {
     "name": "stdout",
     "output_type": "stream",
     "text": [
      "\u001b[32m[1026 11:24:22 @base.py:285]\u001b[0m Epoch 652 (global_step 114100) finished, time:5.42 seconds.\n"
     ]
    },
    {
     "name": "stderr",
     "output_type": "stream",
     "text": [
      "\n"
     ]
    },
    {
     "name": "stdout",
     "output_type": "stream",
     "text": [
      "\u001b[32m[1026 11:24:22 @saver.py:79]\u001b[0m Model saved to ../output/Chicago/DATGAN2_1000/model\\model-114100.\n",
      "\u001b[32m[1026 11:24:22 @monitor.py:467]\u001b[0m GAN_loss/discrim/accuracy_fake: 0.98\n",
      "\u001b[32m[1026 11:24:22 @monitor.py:467]\u001b[0m GAN_loss/discrim/accuracy_real: 0.038\n",
      "\u001b[32m[1026 11:24:22 @monitor.py:467]\u001b[0m GAN_loss/discrim/loss: 0.64946\n",
      "\u001b[32m[1026 11:24:22 @monitor.py:467]\u001b[0m GAN_loss/gen/final-g-loss: 1.0493\n",
      "\u001b[32m[1026 11:24:22 @monitor.py:467]\u001b[0m GAN_loss/gen/klloss: 0.092518\n",
      "\u001b[32m[1026 11:24:22 @monitor.py:467]\u001b[0m GAN_loss/gen/loss: 0.95679\n",
      "\u001b[32m[1026 11:24:22 @monitor.py:467]\u001b[0m QueueInput/queue_size: 50\n",
      "\u001b[32m[1026 11:24:22 @base.py:275]\u001b[0m Start Epoch 653 ...\n"
     ]
    },
    {
     "name": "stderr",
     "output_type": "stream",
     "text": [
      "100%|###################################################################################|175/175[00:05<00:00,32.26it/s]"
     ]
    },
    {
     "name": "stdout",
     "output_type": "stream",
     "text": [
      "\u001b[32m[1026 11:24:27 @base.py:285]\u001b[0m Epoch 653 (global_step 114275) finished, time:5.43 seconds.\n",
      "\u001b[32m[1026 11:24:27 @saver.py:79]\u001b[0m Model saved to ../output/Chicago/DATGAN2_1000/model\\model-114275.\n"
     ]
    },
    {
     "name": "stderr",
     "output_type": "stream",
     "text": [
      "\n"
     ]
    },
    {
     "name": "stdout",
     "output_type": "stream",
     "text": [
      "\u001b[32m[1026 11:24:27 @monitor.py:467]\u001b[0m GAN_loss/discrim/accuracy_fake: 0.972\n",
      "\u001b[32m[1026 11:24:27 @monitor.py:467]\u001b[0m GAN_loss/discrim/accuracy_real: 0.054\n",
      "\u001b[32m[1026 11:24:27 @monitor.py:467]\u001b[0m GAN_loss/discrim/loss: 0.64605\n",
      "\u001b[32m[1026 11:24:27 @monitor.py:467]\u001b[0m GAN_loss/gen/final-g-loss: 1.0002\n",
      "\u001b[32m[1026 11:24:27 @monitor.py:467]\u001b[0m GAN_loss/gen/klloss: 0.052083\n",
      "\u001b[32m[1026 11:24:27 @monitor.py:467]\u001b[0m GAN_loss/gen/loss: 0.94811\n",
      "\u001b[32m[1026 11:24:27 @monitor.py:467]\u001b[0m QueueInput/queue_size: 50\n",
      "\u001b[32m[1026 11:24:27 @base.py:275]\u001b[0m Start Epoch 654 ...\n"
     ]
    },
    {
     "name": "stderr",
     "output_type": "stream",
     "text": [
      "100%|###################################################################################|175/175[00:05<00:00,32.30it/s]"
     ]
    },
    {
     "name": "stdout",
     "output_type": "stream",
     "text": [
      "\u001b[32m[1026 11:24:33 @base.py:285]\u001b[0m Epoch 654 (global_step 114450) finished, time:5.42 seconds.\n"
     ]
    },
    {
     "name": "stderr",
     "output_type": "stream",
     "text": [
      "\n"
     ]
    },
    {
     "name": "stdout",
     "output_type": "stream",
     "text": [
      "\u001b[32m[1026 11:24:33 @saver.py:79]\u001b[0m Model saved to ../output/Chicago/DATGAN2_1000/model\\model-114450.\n",
      "\u001b[32m[1026 11:24:33 @monitor.py:467]\u001b[0m GAN_loss/discrim/accuracy_fake: 0.958\n",
      "\u001b[32m[1026 11:24:33 @monitor.py:467]\u001b[0m GAN_loss/discrim/accuracy_real: 0.064\n",
      "\u001b[32m[1026 11:24:33 @monitor.py:467]\u001b[0m GAN_loss/discrim/loss: 0.65062\n",
      "\u001b[32m[1026 11:24:33 @monitor.py:467]\u001b[0m GAN_loss/gen/final-g-loss: 0.98746\n",
      "\u001b[32m[1026 11:24:33 @monitor.py:467]\u001b[0m GAN_loss/gen/klloss: 0.045512\n",
      "\u001b[32m[1026 11:24:33 @monitor.py:467]\u001b[0m GAN_loss/gen/loss: 0.94195\n",
      "\u001b[32m[1026 11:24:33 @monitor.py:467]\u001b[0m QueueInput/queue_size: 50\n",
      "\u001b[32m[1026 11:24:33 @base.py:275]\u001b[0m Start Epoch 655 ...\n"
     ]
    },
    {
     "name": "stderr",
     "output_type": "stream",
     "text": [
      "100%|###################################################################################|175/175[00:05<00:00,32.20it/s]"
     ]
    },
    {
     "name": "stdout",
     "output_type": "stream",
     "text": [
      "\u001b[32m[1026 11:24:39 @base.py:285]\u001b[0m Epoch 655 (global_step 114625) finished, time:5.44 seconds.\n",
      "\u001b[32m[1026 11:24:39 @saver.py:79]\u001b[0m Model saved to ../output/Chicago/DATGAN2_1000/model\\model-114625.\n"
     ]
    },
    {
     "name": "stderr",
     "output_type": "stream",
     "text": [
      "\n"
     ]
    },
    {
     "name": "stdout",
     "output_type": "stream",
     "text": [
      "\u001b[32m[1026 11:24:39 @monitor.py:467]\u001b[0m GAN_loss/discrim/accuracy_fake: 0.974\n",
      "\u001b[32m[1026 11:24:39 @monitor.py:467]\u001b[0m GAN_loss/discrim/accuracy_real: 0.044\n",
      "\u001b[32m[1026 11:24:39 @monitor.py:467]\u001b[0m GAN_loss/discrim/loss: 0.65069\n",
      "\u001b[32m[1026 11:24:39 @monitor.py:467]\u001b[0m GAN_loss/gen/final-g-loss: 1.0127\n",
      "\u001b[32m[1026 11:24:39 @monitor.py:467]\u001b[0m GAN_loss/gen/klloss: 0.064195\n",
      "\u001b[32m[1026 11:24:39 @monitor.py:467]\u001b[0m GAN_loss/gen/loss: 0.9485\n",
      "\u001b[32m[1026 11:24:39 @monitor.py:467]\u001b[0m QueueInput/queue_size: 50\n",
      "\u001b[32m[1026 11:24:39 @base.py:275]\u001b[0m Start Epoch 656 ...\n"
     ]
    },
    {
     "name": "stderr",
     "output_type": "stream",
     "text": [
      "100%|###################################################################################|175/175[00:05<00:00,32.30it/s]"
     ]
    },
    {
     "name": "stdout",
     "output_type": "stream",
     "text": [
      "\u001b[32m[1026 11:24:44 @base.py:285]\u001b[0m Epoch 656 (global_step 114800) finished, time:5.42 seconds.\n"
     ]
    },
    {
     "name": "stderr",
     "output_type": "stream",
     "text": [
      "\n"
     ]
    },
    {
     "name": "stdout",
     "output_type": "stream",
     "text": [
      "\u001b[32m[1026 11:24:44 @saver.py:79]\u001b[0m Model saved to ../output/Chicago/DATGAN2_1000/model\\model-114800.\n",
      "\u001b[32m[1026 11:24:44 @monitor.py:467]\u001b[0m GAN_loss/discrim/accuracy_fake: 0.964\n",
      "\u001b[32m[1026 11:24:44 @monitor.py:467]\u001b[0m GAN_loss/discrim/accuracy_real: 0.052\n",
      "\u001b[32m[1026 11:24:44 @monitor.py:467]\u001b[0m GAN_loss/discrim/loss: 0.64889\n",
      "\u001b[32m[1026 11:24:44 @monitor.py:467]\u001b[0m GAN_loss/gen/final-g-loss: 0.98417\n",
      "\u001b[32m[1026 11:24:44 @monitor.py:467]\u001b[0m GAN_loss/gen/klloss: 0.039793\n",
      "\u001b[32m[1026 11:24:44 @monitor.py:467]\u001b[0m GAN_loss/gen/loss: 0.94438\n",
      "\u001b[32m[1026 11:24:44 @monitor.py:467]\u001b[0m QueueInput/queue_size: 50\n",
      "\u001b[32m[1026 11:24:44 @base.py:275]\u001b[0m Start Epoch 657 ...\n"
     ]
    },
    {
     "name": "stderr",
     "output_type": "stream",
     "text": [
      "100%|###################################################################################|175/175[00:05<00:00,32.26it/s]"
     ]
    },
    {
     "name": "stdout",
     "output_type": "stream",
     "text": [
      "\u001b[32m[1026 11:24:50 @base.py:285]\u001b[0m Epoch 657 (global_step 114975) finished, time:5.43 seconds.\n",
      "\u001b[32m[1026 11:24:50 @saver.py:79]\u001b[0m Model saved to ../output/Chicago/DATGAN2_1000/model\\model-114975.\n"
     ]
    },
    {
     "name": "stderr",
     "output_type": "stream",
     "text": [
      "\n"
     ]
    },
    {
     "name": "stdout",
     "output_type": "stream",
     "text": [
      "\u001b[32m[1026 11:24:50 @monitor.py:467]\u001b[0m GAN_loss/discrim/accuracy_fake: 0.968\n",
      "\u001b[32m[1026 11:24:50 @monitor.py:467]\u001b[0m GAN_loss/discrim/accuracy_real: 0.056\n",
      "\u001b[32m[1026 11:24:50 @monitor.py:467]\u001b[0m GAN_loss/discrim/loss: 0.64283\n",
      "\u001b[32m[1026 11:24:50 @monitor.py:467]\u001b[0m GAN_loss/gen/final-g-loss: 1.0254\n",
      "\u001b[32m[1026 11:24:50 @monitor.py:467]\u001b[0m GAN_loss/gen/klloss: 0.069957\n",
      "\u001b[32m[1026 11:24:50 @monitor.py:467]\u001b[0m GAN_loss/gen/loss: 0.95541\n",
      "\u001b[32m[1026 11:24:50 @monitor.py:467]\u001b[0m QueueInput/queue_size: 50\n",
      "\u001b[32m[1026 11:24:50 @base.py:275]\u001b[0m Start Epoch 658 ...\n"
     ]
    },
    {
     "name": "stderr",
     "output_type": "stream",
     "text": [
      "100%|###################################################################################|175/175[00:05<00:00,31.98it/s]"
     ]
    },
    {
     "name": "stdout",
     "output_type": "stream",
     "text": [
      "\u001b[32m[1026 11:24:55 @base.py:285]\u001b[0m Epoch 658 (global_step 115150) finished, time:5.47 seconds.\n",
      "\u001b[32m[1026 11:24:56 @saver.py:79]\u001b[0m Model saved to ../output/Chicago/DATGAN2_1000/model\\model-115150.\n"
     ]
    },
    {
     "name": "stderr",
     "output_type": "stream",
     "text": [
      "\n"
     ]
    },
    {
     "name": "stdout",
     "output_type": "stream",
     "text": [
      "\u001b[32m[1026 11:24:56 @monitor.py:467]\u001b[0m GAN_loss/discrim/accuracy_fake: 0.974\n",
      "\u001b[32m[1026 11:24:56 @monitor.py:467]\u001b[0m GAN_loss/discrim/accuracy_real: 0.052\n",
      "\u001b[32m[1026 11:24:56 @monitor.py:467]\u001b[0m GAN_loss/discrim/loss: 0.6489\n",
      "\u001b[32m[1026 11:24:56 @monitor.py:467]\u001b[0m GAN_loss/gen/final-g-loss: 0.99336\n",
      "\u001b[32m[1026 11:24:56 @monitor.py:467]\u001b[0m GAN_loss/gen/klloss: 0.049326\n",
      "\u001b[32m[1026 11:24:56 @monitor.py:467]\u001b[0m GAN_loss/gen/loss: 0.94404\n",
      "\u001b[32m[1026 11:24:56 @monitor.py:467]\u001b[0m QueueInput/queue_size: 50\n",
      "\u001b[32m[1026 11:24:56 @base.py:275]\u001b[0m Start Epoch 659 ...\n"
     ]
    },
    {
     "name": "stderr",
     "output_type": "stream",
     "text": [
      "100%|###################################################################################|175/175[00:05<00:00,32.26it/s]"
     ]
    },
    {
     "name": "stdout",
     "output_type": "stream",
     "text": [
      "\u001b[32m[1026 11:25:01 @base.py:285]\u001b[0m Epoch 659 (global_step 115325) finished, time:5.42 seconds.\n",
      "\u001b[32m[1026 11:25:01 @saver.py:79]\u001b[0m Model saved to ../output/Chicago/DATGAN2_1000/model\\model-115325.\n"
     ]
    },
    {
     "name": "stderr",
     "output_type": "stream",
     "text": [
      "\n"
     ]
    },
    {
     "name": "stdout",
     "output_type": "stream",
     "text": [
      "\u001b[32m[1026 11:25:01 @monitor.py:467]\u001b[0m GAN_loss/discrim/accuracy_fake: 0.972\n",
      "\u001b[32m[1026 11:25:01 @monitor.py:467]\u001b[0m GAN_loss/discrim/accuracy_real: 0.056\n",
      "\u001b[32m[1026 11:25:01 @monitor.py:467]\u001b[0m GAN_loss/discrim/loss: 0.64565\n",
      "\u001b[32m[1026 11:25:01 @monitor.py:467]\u001b[0m GAN_loss/gen/final-g-loss: 1.0102\n",
      "\u001b[32m[1026 11:25:01 @monitor.py:467]\u001b[0m GAN_loss/gen/klloss: 0.055711\n",
      "\u001b[32m[1026 11:25:01 @monitor.py:467]\u001b[0m GAN_loss/gen/loss: 0.9545\n",
      "\u001b[32m[1026 11:25:01 @monitor.py:467]\u001b[0m QueueInput/queue_size: 50\n",
      "\u001b[32m[1026 11:25:01 @base.py:275]\u001b[0m Start Epoch 660 ...\n"
     ]
    },
    {
     "name": "stderr",
     "output_type": "stream",
     "text": [
      "100%|###################################################################################|175/175[00:05<00:00,32.30it/s]"
     ]
    },
    {
     "name": "stdout",
     "output_type": "stream",
     "text": [
      "\u001b[32m[1026 11:25:07 @base.py:285]\u001b[0m Epoch 660 (global_step 115500) finished, time:5.42 seconds.\n"
     ]
    },
    {
     "name": "stderr",
     "output_type": "stream",
     "text": [
      "\n"
     ]
    },
    {
     "name": "stdout",
     "output_type": "stream",
     "text": [
      "\u001b[32m[1026 11:25:07 @saver.py:79]\u001b[0m Model saved to ../output/Chicago/DATGAN2_1000/model\\model-115500.\n",
      "\u001b[32m[1026 11:25:07 @monitor.py:467]\u001b[0m GAN_loss/discrim/accuracy_fake: 0.964\n",
      "\u001b[32m[1026 11:25:07 @monitor.py:467]\u001b[0m GAN_loss/discrim/accuracy_real: 0.054\n",
      "\u001b[32m[1026 11:25:07 @monitor.py:467]\u001b[0m GAN_loss/discrim/loss: 0.645\n",
      "\u001b[32m[1026 11:25:07 @monitor.py:467]\u001b[0m GAN_loss/gen/final-g-loss: 1.0336\n",
      "\u001b[32m[1026 11:25:07 @monitor.py:467]\u001b[0m GAN_loss/gen/klloss: 0.088149\n",
      "\u001b[32m[1026 11:25:07 @monitor.py:467]\u001b[0m GAN_loss/gen/loss: 0.94549\n",
      "\u001b[32m[1026 11:25:07 @monitor.py:467]\u001b[0m QueueInput/queue_size: 50\n",
      "\u001b[32m[1026 11:25:07 @base.py:275]\u001b[0m Start Epoch 661 ...\n"
     ]
    },
    {
     "name": "stderr",
     "output_type": "stream",
     "text": [
      "100%|###################################################################################|175/175[00:05<00:00,32.26it/s]"
     ]
    },
    {
     "name": "stdout",
     "output_type": "stream",
     "text": [
      "\u001b[32m[1026 11:25:12 @base.py:285]\u001b[0m Epoch 661 (global_step 115675) finished, time:5.43 seconds.\n",
      "\u001b[32m[1026 11:25:12 @saver.py:79]\u001b[0m Model saved to ../output/Chicago/DATGAN2_1000/model\\model-115675.\n"
     ]
    },
    {
     "name": "stderr",
     "output_type": "stream",
     "text": [
      "\n"
     ]
    },
    {
     "name": "stdout",
     "output_type": "stream",
     "text": [
      "\u001b[32m[1026 11:25:13 @monitor.py:467]\u001b[0m GAN_loss/discrim/accuracy_fake: 0.954\n",
      "\u001b[32m[1026 11:25:13 @monitor.py:467]\u001b[0m GAN_loss/discrim/accuracy_real: 0.062\n",
      "\u001b[32m[1026 11:25:13 @monitor.py:467]\u001b[0m GAN_loss/discrim/loss: 0.6556\n",
      "\u001b[32m[1026 11:25:13 @monitor.py:467]\u001b[0m GAN_loss/gen/final-g-loss: 0.97453\n",
      "\u001b[32m[1026 11:25:13 @monitor.py:467]\u001b[0m GAN_loss/gen/klloss: 0.051584\n",
      "\u001b[32m[1026 11:25:13 @monitor.py:467]\u001b[0m GAN_loss/gen/loss: 0.92294\n",
      "\u001b[32m[1026 11:25:13 @monitor.py:467]\u001b[0m QueueInput/queue_size: 50\n",
      "\u001b[32m[1026 11:25:13 @base.py:275]\u001b[0m Start Epoch 662 ...\n"
     ]
    },
    {
     "name": "stderr",
     "output_type": "stream",
     "text": [
      "100%|###################################################################################|175/175[00:05<00:00,32.29it/s]"
     ]
    },
    {
     "name": "stdout",
     "output_type": "stream",
     "text": [
      "\u001b[32m[1026 11:25:18 @base.py:285]\u001b[0m Epoch 662 (global_step 115850) finished, time:5.42 seconds.\n"
     ]
    },
    {
     "name": "stderr",
     "output_type": "stream",
     "text": [
      "\n"
     ]
    },
    {
     "name": "stdout",
     "output_type": "stream",
     "text": [
      "\u001b[32m[1026 11:25:18 @saver.py:79]\u001b[0m Model saved to ../output/Chicago/DATGAN2_1000/model\\model-115850.\n",
      "\u001b[32m[1026 11:25:18 @monitor.py:467]\u001b[0m GAN_loss/discrim/accuracy_fake: 0.972\n",
      "\u001b[32m[1026 11:25:18 @monitor.py:467]\u001b[0m GAN_loss/discrim/accuracy_real: 0.038\n",
      "\u001b[32m[1026 11:25:18 @monitor.py:467]\u001b[0m GAN_loss/discrim/loss: 0.65172\n",
      "\u001b[32m[1026 11:25:18 @monitor.py:467]\u001b[0m GAN_loss/gen/final-g-loss: 0.99106\n",
      "\u001b[32m[1026 11:25:18 @monitor.py:467]\u001b[0m GAN_loss/gen/klloss: 0.04735\n",
      "\u001b[32m[1026 11:25:18 @monitor.py:467]\u001b[0m GAN_loss/gen/loss: 0.94371\n",
      "\u001b[32m[1026 11:25:18 @monitor.py:467]\u001b[0m QueueInput/queue_size: 50\n",
      "\u001b[32m[1026 11:25:18 @base.py:275]\u001b[0m Start Epoch 663 ...\n"
     ]
    },
    {
     "name": "stderr",
     "output_type": "stream",
     "text": [
      "100%|###################################################################################|175/175[00:05<00:00,32.26it/s]"
     ]
    },
    {
     "name": "stdout",
     "output_type": "stream",
     "text": [
      "\u001b[32m[1026 11:25:24 @base.py:285]\u001b[0m Epoch 663 (global_step 116025) finished, time:5.43 seconds.\n",
      "\u001b[32m[1026 11:25:24 @saver.py:79]\u001b[0m Model saved to ../output/Chicago/DATGAN2_1000/model\\model-116025.\n",
      "\u001b[32m[1026 11:25:24 @monitor.py:467]\u001b[0m GAN_loss/discrim/accuracy_fake: 0.974\n"
     ]
    },
    {
     "name": "stderr",
     "output_type": "stream",
     "text": [
      "\n"
     ]
    },
    {
     "name": "stdout",
     "output_type": "stream",
     "text": [
      "\u001b[32m[1026 11:25:24 @monitor.py:467]\u001b[0m GAN_loss/discrim/accuracy_real: 0.036\n",
      "\u001b[32m[1026 11:25:24 @monitor.py:467]\u001b[0m GAN_loss/discrim/loss: 0.64618\n",
      "\u001b[32m[1026 11:25:24 @monitor.py:467]\u001b[0m GAN_loss/gen/final-g-loss: 1.0404\n",
      "\u001b[32m[1026 11:25:24 @monitor.py:467]\u001b[0m GAN_loss/gen/klloss: 0.080932\n",
      "\u001b[32m[1026 11:25:24 @monitor.py:467]\u001b[0m GAN_loss/gen/loss: 0.95945\n",
      "\u001b[32m[1026 11:25:24 @monitor.py:467]\u001b[0m QueueInput/queue_size: 50\n",
      "\u001b[32m[1026 11:25:24 @base.py:275]\u001b[0m Start Epoch 664 ...\n"
     ]
    },
    {
     "name": "stderr",
     "output_type": "stream",
     "text": [
      "100%|###################################################################################|175/175[00:05<00:00,32.31it/s]"
     ]
    },
    {
     "name": "stdout",
     "output_type": "stream",
     "text": [
      "\u001b[32m[1026 11:25:29 @base.py:285]\u001b[0m Epoch 664 (global_step 116200) finished, time:5.42 seconds.\n"
     ]
    },
    {
     "name": "stderr",
     "output_type": "stream",
     "text": [
      "\n"
     ]
    },
    {
     "name": "stdout",
     "output_type": "stream",
     "text": [
      "\u001b[32m[1026 11:25:29 @saver.py:79]\u001b[0m Model saved to ../output/Chicago/DATGAN2_1000/model\\model-116200.\n",
      "\u001b[32m[1026 11:25:29 @monitor.py:467]\u001b[0m GAN_loss/discrim/accuracy_fake: 0.978\n",
      "\u001b[32m[1026 11:25:29 @monitor.py:467]\u001b[0m GAN_loss/discrim/accuracy_real: 0.042\n",
      "\u001b[32m[1026 11:25:29 @monitor.py:467]\u001b[0m GAN_loss/discrim/loss: 0.64819\n",
      "\u001b[32m[1026 11:25:29 @monitor.py:467]\u001b[0m GAN_loss/gen/final-g-loss: 1.0449\n",
      "\u001b[32m[1026 11:25:29 @monitor.py:467]\u001b[0m GAN_loss/gen/klloss: 0.087325\n",
      "\u001b[32m[1026 11:25:29 @monitor.py:467]\u001b[0m GAN_loss/gen/loss: 0.95753\n",
      "\u001b[32m[1026 11:25:29 @monitor.py:467]\u001b[0m QueueInput/queue_size: 50\n",
      "\u001b[32m[1026 11:25:29 @base.py:275]\u001b[0m Start Epoch 665 ...\n"
     ]
    },
    {
     "name": "stderr",
     "output_type": "stream",
     "text": [
      "100%|###################################################################################|175/175[00:05<00:00,32.28it/s]"
     ]
    },
    {
     "name": "stdout",
     "output_type": "stream",
     "text": [
      "\u001b[32m[1026 11:25:35 @base.py:285]\u001b[0m Epoch 665 (global_step 116375) finished, time:5.42 seconds.\n",
      "\u001b[32m[1026 11:25:35 @saver.py:79]\u001b[0m Model saved to ../output/Chicago/DATGAN2_1000/model\\model-116375.\n"
     ]
    },
    {
     "name": "stderr",
     "output_type": "stream",
     "text": [
      "\n"
     ]
    },
    {
     "name": "stdout",
     "output_type": "stream",
     "text": [
      "\u001b[32m[1026 11:25:35 @monitor.py:467]\u001b[0m GAN_loss/discrim/accuracy_fake: 0.986\n",
      "\u001b[32m[1026 11:25:35 @monitor.py:467]\u001b[0m GAN_loss/discrim/accuracy_real: 0.056\n",
      "\u001b[32m[1026 11:25:35 @monitor.py:467]\u001b[0m GAN_loss/discrim/loss: 0.64594\n",
      "\u001b[32m[1026 11:25:35 @monitor.py:467]\u001b[0m GAN_loss/gen/final-g-loss: 0.99453\n",
      "\u001b[32m[1026 11:25:35 @monitor.py:467]\u001b[0m GAN_loss/gen/klloss: 0.041372\n",
      "\u001b[32m[1026 11:25:35 @monitor.py:467]\u001b[0m GAN_loss/gen/loss: 0.95316\n",
      "\u001b[32m[1026 11:25:35 @monitor.py:467]\u001b[0m QueueInput/queue_size: 50\n",
      "\u001b[32m[1026 11:25:35 @base.py:275]\u001b[0m Start Epoch 666 ...\n"
     ]
    },
    {
     "name": "stderr",
     "output_type": "stream",
     "text": [
      "100%|###################################################################################|175/175[00:05<00:00,32.31it/s]"
     ]
    },
    {
     "name": "stdout",
     "output_type": "stream",
     "text": [
      "\u001b[32m[1026 11:25:41 @base.py:285]\u001b[0m Epoch 666 (global_step 116550) finished, time:5.42 seconds.\n"
     ]
    },
    {
     "name": "stderr",
     "output_type": "stream",
     "text": [
      "\n"
     ]
    },
    {
     "name": "stdout",
     "output_type": "stream",
     "text": [
      "\u001b[32m[1026 11:25:41 @saver.py:79]\u001b[0m Model saved to ../output/Chicago/DATGAN2_1000/model\\model-116550.\n",
      "\u001b[32m[1026 11:25:41 @monitor.py:467]\u001b[0m GAN_loss/discrim/accuracy_fake: 0.972\n",
      "\u001b[32m[1026 11:25:41 @monitor.py:467]\u001b[0m GAN_loss/discrim/accuracy_real: 0.056\n",
      "\u001b[32m[1026 11:25:41 @monitor.py:467]\u001b[0m GAN_loss/discrim/loss: 0.64924\n",
      "\u001b[32m[1026 11:25:41 @monitor.py:467]\u001b[0m GAN_loss/gen/final-g-loss: 1.0217\n",
      "\u001b[32m[1026 11:25:41 @monitor.py:467]\u001b[0m GAN_loss/gen/klloss: 0.069796\n",
      "\u001b[32m[1026 11:25:41 @monitor.py:467]\u001b[0m GAN_loss/gen/loss: 0.95195\n",
      "\u001b[32m[1026 11:25:41 @monitor.py:467]\u001b[0m QueueInput/queue_size: 50\n",
      "\u001b[32m[1026 11:25:41 @base.py:275]\u001b[0m Start Epoch 667 ...\n"
     ]
    },
    {
     "name": "stderr",
     "output_type": "stream",
     "text": [
      "100%|###################################################################################|175/175[00:05<00:00,32.26it/s]"
     ]
    },
    {
     "name": "stdout",
     "output_type": "stream",
     "text": [
      "\u001b[32m[1026 11:25:46 @base.py:285]\u001b[0m Epoch 667 (global_step 116725) finished, time:5.43 seconds.\n",
      "\u001b[32m[1026 11:25:46 @saver.py:79]\u001b[0m Model saved to ../output/Chicago/DATGAN2_1000/model\\model-116725.\n"
     ]
    },
    {
     "name": "stderr",
     "output_type": "stream",
     "text": [
      "\n"
     ]
    },
    {
     "name": "stdout",
     "output_type": "stream",
     "text": [
      "\u001b[32m[1026 11:25:46 @monitor.py:467]\u001b[0m GAN_loss/discrim/accuracy_fake: 0.972\n",
      "\u001b[32m[1026 11:25:46 @monitor.py:467]\u001b[0m GAN_loss/discrim/accuracy_real: 0.042\n",
      "\u001b[32m[1026 11:25:46 @monitor.py:467]\u001b[0m GAN_loss/discrim/loss: 0.64803\n",
      "\u001b[32m[1026 11:25:46 @monitor.py:467]\u001b[0m GAN_loss/gen/final-g-loss: 1.0067\n",
      "\u001b[32m[1026 11:25:46 @monitor.py:467]\u001b[0m GAN_loss/gen/klloss: 0.058701\n",
      "\u001b[32m[1026 11:25:46 @monitor.py:467]\u001b[0m GAN_loss/gen/loss: 0.94804\n",
      "\u001b[32m[1026 11:25:46 @monitor.py:467]\u001b[0m QueueInput/queue_size: 50\n",
      "\u001b[32m[1026 11:25:46 @base.py:275]\u001b[0m Start Epoch 668 ...\n"
     ]
    },
    {
     "name": "stderr",
     "output_type": "stream",
     "text": [
      "100%|###################################################################################|175/175[00:05<00:00,32.30it/s]"
     ]
    },
    {
     "name": "stdout",
     "output_type": "stream",
     "text": [
      "\u001b[32m[1026 11:25:52 @base.py:285]\u001b[0m Epoch 668 (global_step 116900) finished, time:5.42 seconds.\n"
     ]
    },
    {
     "name": "stderr",
     "output_type": "stream",
     "text": [
      "\n"
     ]
    },
    {
     "name": "stdout",
     "output_type": "stream",
     "text": [
      "\u001b[32m[1026 11:25:52 @saver.py:79]\u001b[0m Model saved to ../output/Chicago/DATGAN2_1000/model\\model-116900.\n",
      "\u001b[32m[1026 11:25:52 @monitor.py:467]\u001b[0m GAN_loss/discrim/accuracy_fake: 0.972\n",
      "\u001b[32m[1026 11:25:52 @monitor.py:467]\u001b[0m GAN_loss/discrim/accuracy_real: 0.048\n",
      "\u001b[32m[1026 11:25:52 @monitor.py:467]\u001b[0m GAN_loss/discrim/loss: 0.65132\n",
      "\u001b[32m[1026 11:25:52 @monitor.py:467]\u001b[0m GAN_loss/gen/final-g-loss: 0.98377\n",
      "\u001b[32m[1026 11:25:52 @monitor.py:467]\u001b[0m GAN_loss/gen/klloss: 0.040611\n",
      "\u001b[32m[1026 11:25:52 @monitor.py:467]\u001b[0m GAN_loss/gen/loss: 0.94316\n",
      "\u001b[32m[1026 11:25:52 @monitor.py:467]\u001b[0m QueueInput/queue_size: 50\n",
      "\u001b[32m[1026 11:25:52 @base.py:275]\u001b[0m Start Epoch 669 ...\n"
     ]
    },
    {
     "name": "stderr",
     "output_type": "stream",
     "text": [
      "100%|###################################################################################|175/175[00:05<00:00,32.18it/s]"
     ]
    },
    {
     "name": "stdout",
     "output_type": "stream",
     "text": [
      "\u001b[32m[1026 11:25:57 @base.py:285]\u001b[0m Epoch 669 (global_step 117075) finished, time:5.44 seconds.\n",
      "\u001b[32m[1026 11:25:58 @saver.py:79]\u001b[0m Model saved to ../output/Chicago/DATGAN2_1000/model\\model-117075.\n"
     ]
    },
    {
     "name": "stderr",
     "output_type": "stream",
     "text": [
      "\n"
     ]
    },
    {
     "name": "stdout",
     "output_type": "stream",
     "text": [
      "\u001b[32m[1026 11:25:58 @monitor.py:467]\u001b[0m GAN_loss/discrim/accuracy_fake: 0.962\n",
      "\u001b[32m[1026 11:25:58 @monitor.py:467]\u001b[0m GAN_loss/discrim/accuracy_real: 0.062\n",
      "\u001b[32m[1026 11:25:58 @monitor.py:467]\u001b[0m GAN_loss/discrim/loss: 0.64683\n",
      "\u001b[32m[1026 11:25:58 @monitor.py:467]\u001b[0m GAN_loss/gen/final-g-loss: 1.0298\n",
      "\u001b[32m[1026 11:25:58 @monitor.py:467]\u001b[0m GAN_loss/gen/klloss: 0.084854\n",
      "\u001b[32m[1026 11:25:58 @monitor.py:467]\u001b[0m GAN_loss/gen/loss: 0.94498\n",
      "\u001b[32m[1026 11:25:58 @monitor.py:467]\u001b[0m QueueInput/queue_size: 50\n",
      "\u001b[32m[1026 11:25:58 @base.py:275]\u001b[0m Start Epoch 670 ...\n"
     ]
    },
    {
     "name": "stderr",
     "output_type": "stream",
     "text": [
      "100%|###################################################################################|175/175[00:05<00:00,32.23it/s]"
     ]
    },
    {
     "name": "stdout",
     "output_type": "stream",
     "text": [
      "\u001b[32m[1026 11:26:03 @base.py:285]\u001b[0m Epoch 670 (global_step 117250) finished, time:5.43 seconds.\n",
      "\u001b[32m[1026 11:26:03 @saver.py:79]\u001b[0m Model saved to ../output/Chicago/DATGAN2_1000/model\\model-117250.\n"
     ]
    },
    {
     "name": "stderr",
     "output_type": "stream",
     "text": [
      "\n"
     ]
    },
    {
     "name": "stdout",
     "output_type": "stream",
     "text": [
      "\u001b[32m[1026 11:26:03 @monitor.py:467]\u001b[0m GAN_loss/discrim/accuracy_fake: 0.964\n",
      "\u001b[32m[1026 11:26:03 @monitor.py:467]\u001b[0m GAN_loss/discrim/accuracy_real: 0.046\n",
      "\u001b[32m[1026 11:26:03 @monitor.py:467]\u001b[0m GAN_loss/discrim/loss: 0.65107\n",
      "\u001b[32m[1026 11:26:03 @monitor.py:467]\u001b[0m GAN_loss/gen/final-g-loss: 0.99498\n",
      "\u001b[32m[1026 11:26:03 @monitor.py:467]\u001b[0m GAN_loss/gen/klloss: 0.051091\n",
      "\u001b[32m[1026 11:26:03 @monitor.py:467]\u001b[0m GAN_loss/gen/loss: 0.94388\n",
      "\u001b[32m[1026 11:26:03 @monitor.py:467]\u001b[0m QueueInput/queue_size: 50\n",
      "\u001b[32m[1026 11:26:03 @base.py:275]\u001b[0m Start Epoch 671 ...\n"
     ]
    },
    {
     "name": "stderr",
     "output_type": "stream",
     "text": [
      "100%|###################################################################################|175/175[00:05<00:00,32.29it/s]"
     ]
    },
    {
     "name": "stdout",
     "output_type": "stream",
     "text": [
      "\u001b[32m[1026 11:26:09 @base.py:285]\u001b[0m Epoch 671 (global_step 117425) finished, time:5.42 seconds.\n"
     ]
    },
    {
     "name": "stderr",
     "output_type": "stream",
     "text": [
      "\n"
     ]
    },
    {
     "name": "stdout",
     "output_type": "stream",
     "text": [
      "\u001b[32m[1026 11:26:09 @saver.py:79]\u001b[0m Model saved to ../output/Chicago/DATGAN2_1000/model\\model-117425.\n",
      "\u001b[32m[1026 11:26:09 @monitor.py:467]\u001b[0m GAN_loss/discrim/accuracy_fake: 0.958\n",
      "\u001b[32m[1026 11:26:09 @monitor.py:467]\u001b[0m GAN_loss/discrim/accuracy_real: 0.044\n",
      "\u001b[32m[1026 11:26:09 @monitor.py:467]\u001b[0m GAN_loss/discrim/loss: 0.65043\n",
      "\u001b[32m[1026 11:26:09 @monitor.py:467]\u001b[0m GAN_loss/gen/final-g-loss: 1.0003\n",
      "\u001b[32m[1026 11:26:09 @monitor.py:467]\u001b[0m GAN_loss/gen/klloss: 0.056634\n",
      "\u001b[32m[1026 11:26:09 @monitor.py:467]\u001b[0m GAN_loss/gen/loss: 0.94364\n",
      "\u001b[32m[1026 11:26:09 @monitor.py:467]\u001b[0m QueueInput/queue_size: 50\n",
      "\u001b[32m[1026 11:26:09 @base.py:275]\u001b[0m Start Epoch 672 ...\n"
     ]
    },
    {
     "name": "stderr",
     "output_type": "stream",
     "text": [
      "100%|###################################################################################|175/175[00:05<00:00,32.28it/s]"
     ]
    },
    {
     "name": "stdout",
     "output_type": "stream",
     "text": [
      "\u001b[32m[1026 11:26:14 @base.py:285]\u001b[0m Epoch 672 (global_step 117600) finished, time:5.42 seconds.\n"
     ]
    },
    {
     "name": "stderr",
     "output_type": "stream",
     "text": [
      "\n"
     ]
    },
    {
     "name": "stdout",
     "output_type": "stream",
     "text": [
      "\u001b[32m[1026 11:26:14 @saver.py:79]\u001b[0m Model saved to ../output/Chicago/DATGAN2_1000/model\\model-117600.\n",
      "\u001b[32m[1026 11:26:15 @monitor.py:467]\u001b[0m GAN_loss/discrim/accuracy_fake: 0.972\n",
      "\u001b[32m[1026 11:26:15 @monitor.py:467]\u001b[0m GAN_loss/discrim/accuracy_real: 0.044\n",
      "\u001b[32m[1026 11:26:15 @monitor.py:467]\u001b[0m GAN_loss/discrim/loss: 0.64217\n",
      "\u001b[32m[1026 11:26:15 @monitor.py:467]\u001b[0m GAN_loss/gen/final-g-loss: 1.0036\n",
      "\u001b[32m[1026 11:26:15 @monitor.py:467]\u001b[0m GAN_loss/gen/klloss: 0.059142\n",
      "\u001b[32m[1026 11:26:15 @monitor.py:467]\u001b[0m GAN_loss/gen/loss: 0.94442\n",
      "\u001b[32m[1026 11:26:15 @monitor.py:467]\u001b[0m QueueInput/queue_size: 50\n",
      "\u001b[32m[1026 11:26:15 @base.py:275]\u001b[0m Start Epoch 673 ...\n"
     ]
    },
    {
     "name": "stderr",
     "output_type": "stream",
     "text": [
      "100%|###################################################################################|175/175[00:05<00:00,32.32it/s]"
     ]
    },
    {
     "name": "stdout",
     "output_type": "stream",
     "text": [
      "\u001b[32m[1026 11:26:20 @base.py:285]\u001b[0m Epoch 673 (global_step 117775) finished, time:5.41 seconds.\n"
     ]
    },
    {
     "name": "stderr",
     "output_type": "stream",
     "text": [
      "\n"
     ]
    },
    {
     "name": "stdout",
     "output_type": "stream",
     "text": [
      "\u001b[32m[1026 11:26:20 @saver.py:79]\u001b[0m Model saved to ../output/Chicago/DATGAN2_1000/model\\model-117775.\n",
      "\u001b[32m[1026 11:26:20 @monitor.py:467]\u001b[0m GAN_loss/discrim/accuracy_fake: 0.968\n",
      "\u001b[32m[1026 11:26:20 @monitor.py:467]\u001b[0m GAN_loss/discrim/accuracy_real: 0.024\n",
      "\u001b[32m[1026 11:26:20 @monitor.py:467]\u001b[0m GAN_loss/discrim/loss: 0.64926\n",
      "\u001b[32m[1026 11:26:20 @monitor.py:467]\u001b[0m GAN_loss/gen/final-g-loss: 1.0345\n",
      "\u001b[32m[1026 11:26:20 @monitor.py:467]\u001b[0m GAN_loss/gen/klloss: 0.081558\n",
      "\u001b[32m[1026 11:26:20 @monitor.py:467]\u001b[0m GAN_loss/gen/loss: 0.95295\n",
      "\u001b[32m[1026 11:26:20 @monitor.py:467]\u001b[0m QueueInput/queue_size: 50\n",
      "\u001b[32m[1026 11:26:20 @base.py:275]\u001b[0m Start Epoch 674 ...\n"
     ]
    },
    {
     "name": "stderr",
     "output_type": "stream",
     "text": [
      "100%|###################################################################################|175/175[00:05<00:00,32.24it/s]"
     ]
    },
    {
     "name": "stdout",
     "output_type": "stream",
     "text": [
      "\u001b[32m[1026 11:26:26 @base.py:285]\u001b[0m Epoch 674 (global_step 117950) finished, time:5.43 seconds.\n"
     ]
    },
    {
     "name": "stderr",
     "output_type": "stream",
     "text": [
      "\n"
     ]
    },
    {
     "name": "stdout",
     "output_type": "stream",
     "text": [
      "\u001b[32m[1026 11:26:26 @saver.py:79]\u001b[0m Model saved to ../output/Chicago/DATGAN2_1000/model\\model-117950.\n",
      "\u001b[32m[1026 11:26:26 @monitor.py:467]\u001b[0m GAN_loss/discrim/accuracy_fake: 0.946\n",
      "\u001b[32m[1026 11:26:26 @monitor.py:467]\u001b[0m GAN_loss/discrim/accuracy_real: 0.048\n",
      "\u001b[32m[1026 11:26:26 @monitor.py:467]\u001b[0m GAN_loss/discrim/loss: 0.65194\n",
      "\u001b[32m[1026 11:26:26 @monitor.py:467]\u001b[0m GAN_loss/gen/final-g-loss: 1.0083\n",
      "\u001b[32m[1026 11:26:26 @monitor.py:467]\u001b[0m GAN_loss/gen/klloss: 0.07104\n",
      "\u001b[32m[1026 11:26:26 @monitor.py:467]\u001b[0m GAN_loss/gen/loss: 0.9373\n",
      "\u001b[32m[1026 11:26:26 @monitor.py:467]\u001b[0m QueueInput/queue_size: 50\n",
      "\u001b[32m[1026 11:26:26 @base.py:275]\u001b[0m Start Epoch 675 ...\n"
     ]
    },
    {
     "name": "stderr",
     "output_type": "stream",
     "text": [
      "100%|###################################################################################|175/175[00:05<00:00,32.27it/s]"
     ]
    },
    {
     "name": "stdout",
     "output_type": "stream",
     "text": [
      "\u001b[32m[1026 11:26:31 @base.py:285]\u001b[0m Epoch 675 (global_step 118125) finished, time:5.42 seconds.\n",
      "\u001b[32m[1026 11:26:31 @saver.py:79]\u001b[0m Model saved to ../output/Chicago/DATGAN2_1000/model\\model-118125.\n"
     ]
    },
    {
     "name": "stderr",
     "output_type": "stream",
     "text": [
      "\n"
     ]
    },
    {
     "name": "stdout",
     "output_type": "stream",
     "text": [
      "\u001b[32m[1026 11:26:31 @monitor.py:467]\u001b[0m GAN_loss/discrim/accuracy_fake: 0.964\n",
      "\u001b[32m[1026 11:26:31 @monitor.py:467]\u001b[0m GAN_loss/discrim/accuracy_real: 0.058\n",
      "\u001b[32m[1026 11:26:31 @monitor.py:467]\u001b[0m GAN_loss/discrim/loss: 0.64778\n",
      "\u001b[32m[1026 11:26:31 @monitor.py:467]\u001b[0m GAN_loss/gen/final-g-loss: 0.99235\n",
      "\u001b[32m[1026 11:26:31 @monitor.py:467]\u001b[0m GAN_loss/gen/klloss: 0.050292\n",
      "\u001b[32m[1026 11:26:31 @monitor.py:467]\u001b[0m GAN_loss/gen/loss: 0.94205\n",
      "\u001b[32m[1026 11:26:31 @monitor.py:467]\u001b[0m QueueInput/queue_size: 50\n",
      "\u001b[32m[1026 11:26:31 @base.py:275]\u001b[0m Start Epoch 676 ...\n"
     ]
    },
    {
     "name": "stderr",
     "output_type": "stream",
     "text": [
      "100%|###################################################################################|175/175[00:05<00:00,32.30it/s]"
     ]
    },
    {
     "name": "stdout",
     "output_type": "stream",
     "text": [
      "\u001b[32m[1026 11:26:37 @base.py:285]\u001b[0m Epoch 676 (global_step 118300) finished, time:5.42 seconds.\n"
     ]
    },
    {
     "name": "stderr",
     "output_type": "stream",
     "text": [
      "\n"
     ]
    },
    {
     "name": "stdout",
     "output_type": "stream",
     "text": [
      "\u001b[32m[1026 11:26:37 @saver.py:79]\u001b[0m Model saved to ../output/Chicago/DATGAN2_1000/model\\model-118300.\n",
      "\u001b[32m[1026 11:26:37 @monitor.py:467]\u001b[0m GAN_loss/discrim/accuracy_fake: 0.98\n",
      "\u001b[32m[1026 11:26:37 @monitor.py:467]\u001b[0m GAN_loss/discrim/accuracy_real: 0.06\n",
      "\u001b[32m[1026 11:26:37 @monitor.py:467]\u001b[0m GAN_loss/discrim/loss: 0.64584\n",
      "\u001b[32m[1026 11:26:37 @monitor.py:467]\u001b[0m GAN_loss/gen/final-g-loss: 1.0193\n",
      "\u001b[32m[1026 11:26:37 @monitor.py:467]\u001b[0m GAN_loss/gen/klloss: 0.066808\n",
      "\u001b[32m[1026 11:26:37 @monitor.py:467]\u001b[0m GAN_loss/gen/loss: 0.95246\n",
      "\u001b[32m[1026 11:26:37 @monitor.py:467]\u001b[0m QueueInput/queue_size: 50\n",
      "\u001b[32m[1026 11:26:37 @base.py:275]\u001b[0m Start Epoch 677 ...\n"
     ]
    },
    {
     "name": "stderr",
     "output_type": "stream",
     "text": [
      "100%|###################################################################################|175/175[00:05<00:00,32.31it/s]"
     ]
    },
    {
     "name": "stdout",
     "output_type": "stream",
     "text": [
      "\u001b[32m[1026 11:26:42 @base.py:285]\u001b[0m Epoch 677 (global_step 118475) finished, time:5.42 seconds.\n"
     ]
    },
    {
     "name": "stderr",
     "output_type": "stream",
     "text": [
      "\n"
     ]
    },
    {
     "name": "stdout",
     "output_type": "stream",
     "text": [
      "\u001b[32m[1026 11:26:43 @saver.py:79]\u001b[0m Model saved to ../output/Chicago/DATGAN2_1000/model\\model-118475.\n",
      "\u001b[32m[1026 11:26:43 @monitor.py:467]\u001b[0m GAN_loss/discrim/accuracy_fake: 0.98\n",
      "\u001b[32m[1026 11:26:43 @monitor.py:467]\u001b[0m GAN_loss/discrim/accuracy_real: 0.026\n",
      "\u001b[32m[1026 11:26:43 @monitor.py:467]\u001b[0m GAN_loss/discrim/loss: 0.64872\n",
      "\u001b[32m[1026 11:26:43 @monitor.py:467]\u001b[0m GAN_loss/gen/final-g-loss: 1.0138\n",
      "\u001b[32m[1026 11:26:43 @monitor.py:467]\u001b[0m GAN_loss/gen/klloss: 0.068647\n",
      "\u001b[32m[1026 11:26:43 @monitor.py:467]\u001b[0m GAN_loss/gen/loss: 0.94512\n",
      "\u001b[32m[1026 11:26:43 @monitor.py:467]\u001b[0m QueueInput/queue_size: 50\n",
      "\u001b[32m[1026 11:26:43 @base.py:275]\u001b[0m Start Epoch 678 ...\n"
     ]
    },
    {
     "name": "stderr",
     "output_type": "stream",
     "text": [
      "100%|###################################################################################|175/175[00:05<00:00,32.30it/s]"
     ]
    },
    {
     "name": "stdout",
     "output_type": "stream",
     "text": [
      "\u001b[32m[1026 11:26:48 @base.py:285]\u001b[0m Epoch 678 (global_step 118650) finished, time:5.42 seconds.\n"
     ]
    },
    {
     "name": "stderr",
     "output_type": "stream",
     "text": [
      "\n"
     ]
    },
    {
     "name": "stdout",
     "output_type": "stream",
     "text": [
      "\u001b[32m[1026 11:26:48 @saver.py:79]\u001b[0m Model saved to ../output/Chicago/DATGAN2_1000/model\\model-118650.\n",
      "\u001b[32m[1026 11:26:48 @monitor.py:467]\u001b[0m GAN_loss/discrim/accuracy_fake: 0.978\n",
      "\u001b[32m[1026 11:26:48 @monitor.py:467]\u001b[0m GAN_loss/discrim/accuracy_real: 0.042\n",
      "\u001b[32m[1026 11:26:48 @monitor.py:467]\u001b[0m GAN_loss/discrim/loss: 0.65169\n",
      "\u001b[32m[1026 11:26:48 @monitor.py:467]\u001b[0m GAN_loss/gen/final-g-loss: 0.99139\n",
      "\u001b[32m[1026 11:26:48 @monitor.py:467]\u001b[0m GAN_loss/gen/klloss: 0.046015\n",
      "\u001b[32m[1026 11:26:48 @monitor.py:467]\u001b[0m GAN_loss/gen/loss: 0.94538\n",
      "\u001b[32m[1026 11:26:48 @monitor.py:467]\u001b[0m QueueInput/queue_size: 50\n",
      "\u001b[32m[1026 11:26:48 @base.py:275]\u001b[0m Start Epoch 679 ...\n"
     ]
    },
    {
     "name": "stderr",
     "output_type": "stream",
     "text": [
      "100%|###################################################################################|175/175[00:05<00:00,32.34it/s]"
     ]
    },
    {
     "name": "stdout",
     "output_type": "stream",
     "text": [
      "\u001b[32m[1026 11:26:54 @base.py:285]\u001b[0m Epoch 679 (global_step 118825) finished, time:5.41 seconds.\n"
     ]
    },
    {
     "name": "stderr",
     "output_type": "stream",
     "text": [
      "\n"
     ]
    },
    {
     "name": "stdout",
     "output_type": "stream",
     "text": [
      "\u001b[32m[1026 11:26:54 @saver.py:79]\u001b[0m Model saved to ../output/Chicago/DATGAN2_1000/model\\model-118825.\n",
      "\u001b[32m[1026 11:26:54 @monitor.py:467]\u001b[0m GAN_loss/discrim/accuracy_fake: 0.97\n",
      "\u001b[32m[1026 11:26:54 @monitor.py:467]\u001b[0m GAN_loss/discrim/accuracy_real: 0.058\n",
      "\u001b[32m[1026 11:26:54 @monitor.py:467]\u001b[0m GAN_loss/discrim/loss: 0.6495\n",
      "\u001b[32m[1026 11:26:54 @monitor.py:467]\u001b[0m GAN_loss/gen/final-g-loss: 1.0102\n",
      "\u001b[32m[1026 11:26:54 @monitor.py:467]\u001b[0m GAN_loss/gen/klloss: 0.069825\n",
      "\u001b[32m[1026 11:26:54 @monitor.py:467]\u001b[0m GAN_loss/gen/loss: 0.94035\n",
      "\u001b[32m[1026 11:26:54 @monitor.py:467]\u001b[0m QueueInput/queue_size: 50\n",
      "\u001b[32m[1026 11:26:54 @base.py:275]\u001b[0m Start Epoch 680 ...\n"
     ]
    },
    {
     "name": "stderr",
     "output_type": "stream",
     "text": [
      "100%|###################################################################################|175/175[00:05<00:00,32.28it/s]"
     ]
    },
    {
     "name": "stdout",
     "output_type": "stream",
     "text": [
      "\u001b[32m[1026 11:26:59 @base.py:285]\u001b[0m Epoch 680 (global_step 119000) finished, time:5.42 seconds.\n"
     ]
    },
    {
     "name": "stderr",
     "output_type": "stream",
     "text": [
      "\n"
     ]
    },
    {
     "name": "stdout",
     "output_type": "stream",
     "text": [
      "\u001b[32m[1026 11:26:59 @saver.py:79]\u001b[0m Model saved to ../output/Chicago/DATGAN2_1000/model\\model-119000.\n",
      "\u001b[32m[1026 11:27:00 @monitor.py:467]\u001b[0m GAN_loss/discrim/accuracy_fake: 0.976\n",
      "\u001b[32m[1026 11:27:00 @monitor.py:467]\u001b[0m GAN_loss/discrim/accuracy_real: 0.06\n",
      "\u001b[32m[1026 11:27:00 @monitor.py:467]\u001b[0m GAN_loss/discrim/loss: 0.65234\n",
      "\u001b[32m[1026 11:27:00 @monitor.py:467]\u001b[0m GAN_loss/gen/final-g-loss: 1.0317\n",
      "\u001b[32m[1026 11:27:00 @monitor.py:467]\u001b[0m GAN_loss/gen/klloss: 0.084906\n",
      "\u001b[32m[1026 11:27:00 @monitor.py:467]\u001b[0m GAN_loss/gen/loss: 0.94677\n",
      "\u001b[32m[1026 11:27:00 @monitor.py:467]\u001b[0m QueueInput/queue_size: 50\n",
      "\u001b[32m[1026 11:27:00 @base.py:275]\u001b[0m Start Epoch 681 ...\n"
     ]
    },
    {
     "name": "stderr",
     "output_type": "stream",
     "text": [
      "100%|###################################################################################|175/175[00:05<00:00,32.35it/s]"
     ]
    },
    {
     "name": "stdout",
     "output_type": "stream",
     "text": [
      "\u001b[32m[1026 11:27:05 @base.py:285]\u001b[0m Epoch 681 (global_step 119175) finished, time:5.41 seconds.\n"
     ]
    },
    {
     "name": "stderr",
     "output_type": "stream",
     "text": [
      "\n"
     ]
    },
    {
     "name": "stdout",
     "output_type": "stream",
     "text": [
      "\u001b[32m[1026 11:27:05 @saver.py:79]\u001b[0m Model saved to ../output/Chicago/DATGAN2_1000/model\\model-119175.\n",
      "\u001b[32m[1026 11:27:05 @monitor.py:467]\u001b[0m GAN_loss/discrim/accuracy_fake: 0.974\n",
      "\u001b[32m[1026 11:27:05 @monitor.py:467]\u001b[0m GAN_loss/discrim/accuracy_real: 0.054\n",
      "\u001b[32m[1026 11:27:05 @monitor.py:467]\u001b[0m GAN_loss/discrim/loss: 0.64942\n",
      "\u001b[32m[1026 11:27:05 @monitor.py:467]\u001b[0m GAN_loss/gen/final-g-loss: 0.99649\n",
      "\u001b[32m[1026 11:27:05 @monitor.py:467]\u001b[0m GAN_loss/gen/klloss: 0.050284\n",
      "\u001b[32m[1026 11:27:05 @monitor.py:467]\u001b[0m GAN_loss/gen/loss: 0.94621\n",
      "\u001b[32m[1026 11:27:05 @monitor.py:467]\u001b[0m QueueInput/queue_size: 50\n",
      "\u001b[32m[1026 11:27:05 @base.py:275]\u001b[0m Start Epoch 682 ...\n"
     ]
    },
    {
     "name": "stderr",
     "output_type": "stream",
     "text": [
      "100%|###################################################################################|175/175[00:05<00:00,32.32it/s]"
     ]
    },
    {
     "name": "stdout",
     "output_type": "stream",
     "text": [
      "\u001b[32m[1026 11:27:11 @base.py:285]\u001b[0m Epoch 682 (global_step 119350) finished, time:5.42 seconds.\n"
     ]
    },
    {
     "name": "stderr",
     "output_type": "stream",
     "text": [
      "\n"
     ]
    },
    {
     "name": "stdout",
     "output_type": "stream",
     "text": [
      "\u001b[32m[1026 11:27:11 @saver.py:79]\u001b[0m Model saved to ../output/Chicago/DATGAN2_1000/model\\model-119350.\n",
      "\u001b[32m[1026 11:27:11 @monitor.py:467]\u001b[0m GAN_loss/discrim/accuracy_fake: 0.968\n",
      "\u001b[32m[1026 11:27:11 @monitor.py:467]\u001b[0m GAN_loss/discrim/accuracy_real: 0.048\n",
      "\u001b[32m[1026 11:27:11 @monitor.py:467]\u001b[0m GAN_loss/discrim/loss: 0.64372\n",
      "\u001b[32m[1026 11:27:11 @monitor.py:467]\u001b[0m GAN_loss/gen/final-g-loss: 0.98778\n",
      "\u001b[32m[1026 11:27:11 @monitor.py:467]\u001b[0m GAN_loss/gen/klloss: 0.046278\n",
      "\u001b[32m[1026 11:27:11 @monitor.py:467]\u001b[0m GAN_loss/gen/loss: 0.9415\n",
      "\u001b[32m[1026 11:27:11 @monitor.py:467]\u001b[0m QueueInput/queue_size: 50\n",
      "\u001b[32m[1026 11:27:11 @base.py:275]\u001b[0m Start Epoch 683 ...\n"
     ]
    },
    {
     "name": "stderr",
     "output_type": "stream",
     "text": [
      "100%|###################################################################################|175/175[00:05<00:00,32.37it/s]"
     ]
    },
    {
     "name": "stdout",
     "output_type": "stream",
     "text": [
      "\u001b[32m[1026 11:27:16 @base.py:285]\u001b[0m Epoch 683 (global_step 119525) finished, time:5.41 seconds.\n"
     ]
    },
    {
     "name": "stderr",
     "output_type": "stream",
     "text": [
      "\n"
     ]
    },
    {
     "name": "stdout",
     "output_type": "stream",
     "text": [
      "\u001b[32m[1026 11:27:16 @saver.py:79]\u001b[0m Model saved to ../output/Chicago/DATGAN2_1000/model\\model-119525.\n",
      "\u001b[32m[1026 11:27:16 @monitor.py:467]\u001b[0m GAN_loss/discrim/accuracy_fake: 0.974\n",
      "\u001b[32m[1026 11:27:16 @monitor.py:467]\u001b[0m GAN_loss/discrim/accuracy_real: 0.05\n",
      "\u001b[32m[1026 11:27:16 @monitor.py:467]\u001b[0m GAN_loss/discrim/loss: 0.65023\n",
      "\u001b[32m[1026 11:27:16 @monitor.py:467]\u001b[0m GAN_loss/gen/final-g-loss: 1.0296\n",
      "\u001b[32m[1026 11:27:16 @monitor.py:467]\u001b[0m GAN_loss/gen/klloss: 0.088274\n",
      "\u001b[32m[1026 11:27:16 @monitor.py:467]\u001b[0m GAN_loss/gen/loss: 0.9413\n",
      "\u001b[32m[1026 11:27:16 @monitor.py:467]\u001b[0m QueueInput/queue_size: 50\n",
      "\u001b[32m[1026 11:27:16 @base.py:275]\u001b[0m Start Epoch 684 ...\n"
     ]
    },
    {
     "name": "stderr",
     "output_type": "stream",
     "text": [
      "100%|###################################################################################|175/175[00:05<00:00,32.33it/s]"
     ]
    },
    {
     "name": "stdout",
     "output_type": "stream",
     "text": [
      "\u001b[32m[1026 11:27:22 @base.py:285]\u001b[0m Epoch 684 (global_step 119700) finished, time:5.41 seconds.\n"
     ]
    },
    {
     "name": "stderr",
     "output_type": "stream",
     "text": [
      "\n"
     ]
    },
    {
     "name": "stdout",
     "output_type": "stream",
     "text": [
      "\u001b[32m[1026 11:27:22 @saver.py:79]\u001b[0m Model saved to ../output/Chicago/DATGAN2_1000/model\\model-119700.\n",
      "\u001b[32m[1026 11:27:22 @monitor.py:467]\u001b[0m GAN_loss/discrim/accuracy_fake: 0.974\n",
      "\u001b[32m[1026 11:27:22 @monitor.py:467]\u001b[0m GAN_loss/discrim/accuracy_real: 0.04\n",
      "\u001b[32m[1026 11:27:22 @monitor.py:467]\u001b[0m GAN_loss/discrim/loss: 0.65215\n",
      "\u001b[32m[1026 11:27:22 @monitor.py:467]\u001b[0m GAN_loss/gen/final-g-loss: 1.0092\n",
      "\u001b[32m[1026 11:27:22 @monitor.py:467]\u001b[0m GAN_loss/gen/klloss: 0.065525\n",
      "\u001b[32m[1026 11:27:22 @monitor.py:467]\u001b[0m GAN_loss/gen/loss: 0.94365\n",
      "\u001b[32m[1026 11:27:22 @monitor.py:467]\u001b[0m QueueInput/queue_size: 50\n",
      "\u001b[32m[1026 11:27:22 @base.py:275]\u001b[0m Start Epoch 685 ...\n"
     ]
    },
    {
     "name": "stderr",
     "output_type": "stream",
     "text": [
      "100%|###################################################################################|175/175[00:05<00:00,32.33it/s]"
     ]
    },
    {
     "name": "stdout",
     "output_type": "stream",
     "text": [
      "\u001b[32m[1026 11:27:27 @base.py:285]\u001b[0m Epoch 685 (global_step 119875) finished, time:5.41 seconds.\n"
     ]
    },
    {
     "name": "stderr",
     "output_type": "stream",
     "text": [
      "\n"
     ]
    },
    {
     "name": "stdout",
     "output_type": "stream",
     "text": [
      "\u001b[32m[1026 11:27:27 @saver.py:79]\u001b[0m Model saved to ../output/Chicago/DATGAN2_1000/model\\model-119875.\n",
      "\u001b[32m[1026 11:27:28 @monitor.py:467]\u001b[0m GAN_loss/discrim/accuracy_fake: 0.966\n",
      "\u001b[32m[1026 11:27:28 @monitor.py:467]\u001b[0m GAN_loss/discrim/accuracy_real: 0.05\n",
      "\u001b[32m[1026 11:27:28 @monitor.py:467]\u001b[0m GAN_loss/discrim/loss: 0.64954\n",
      "\u001b[32m[1026 11:27:28 @monitor.py:467]\u001b[0m GAN_loss/gen/final-g-loss: 0.99348\n",
      "\u001b[32m[1026 11:27:28 @monitor.py:467]\u001b[0m GAN_loss/gen/klloss: 0.047098\n",
      "\u001b[32m[1026 11:27:28 @monitor.py:467]\u001b[0m GAN_loss/gen/loss: 0.94638\n",
      "\u001b[32m[1026 11:27:28 @monitor.py:467]\u001b[0m QueueInput/queue_size: 50\n",
      "\u001b[32m[1026 11:27:28 @base.py:275]\u001b[0m Start Epoch 686 ...\n"
     ]
    },
    {
     "name": "stderr",
     "output_type": "stream",
     "text": [
      "100%|###################################################################################|175/175[00:05<00:00,32.31it/s]"
     ]
    },
    {
     "name": "stdout",
     "output_type": "stream",
     "text": [
      "\u001b[32m[1026 11:27:33 @base.py:285]\u001b[0m Epoch 686 (global_step 120050) finished, time:5.42 seconds.\n"
     ]
    },
    {
     "name": "stderr",
     "output_type": "stream",
     "text": [
      "\n"
     ]
    },
    {
     "name": "stdout",
     "output_type": "stream",
     "text": [
      "\u001b[32m[1026 11:27:33 @saver.py:79]\u001b[0m Model saved to ../output/Chicago/DATGAN2_1000/model\\model-120050.\n",
      "\u001b[32m[1026 11:27:33 @monitor.py:467]\u001b[0m GAN_loss/discrim/accuracy_fake: 0.976\n",
      "\u001b[32m[1026 11:27:33 @monitor.py:467]\u001b[0m GAN_loss/discrim/accuracy_real: 0.062\n",
      "\u001b[32m[1026 11:27:33 @monitor.py:467]\u001b[0m GAN_loss/discrim/loss: 0.64808\n",
      "\u001b[32m[1026 11:27:33 @monitor.py:467]\u001b[0m GAN_loss/gen/final-g-loss: 1.0108\n",
      "\u001b[32m[1026 11:27:33 @monitor.py:467]\u001b[0m GAN_loss/gen/klloss: 0.065953\n",
      "\u001b[32m[1026 11:27:33 @monitor.py:467]\u001b[0m GAN_loss/gen/loss: 0.94486\n",
      "\u001b[32m[1026 11:27:33 @monitor.py:467]\u001b[0m QueueInput/queue_size: 50\n",
      "\u001b[32m[1026 11:27:33 @base.py:275]\u001b[0m Start Epoch 687 ...\n"
     ]
    },
    {
     "name": "stderr",
     "output_type": "stream",
     "text": [
      "100%|###################################################################################|175/175[00:05<00:00,32.34it/s]"
     ]
    },
    {
     "name": "stdout",
     "output_type": "stream",
     "text": [
      "\u001b[32m[1026 11:27:39 @base.py:285]\u001b[0m Epoch 687 (global_step 120225) finished, time:5.41 seconds.\n"
     ]
    },
    {
     "name": "stderr",
     "output_type": "stream",
     "text": [
      "\n"
     ]
    },
    {
     "name": "stdout",
     "output_type": "stream",
     "text": [
      "\u001b[32m[1026 11:27:39 @saver.py:79]\u001b[0m Model saved to ../output/Chicago/DATGAN2_1000/model\\model-120225.\n",
      "\u001b[32m[1026 11:27:39 @monitor.py:467]\u001b[0m GAN_loss/discrim/accuracy_fake: 0.968\n",
      "\u001b[32m[1026 11:27:39 @monitor.py:467]\u001b[0m GAN_loss/discrim/accuracy_real: 0.046\n",
      "\u001b[32m[1026 11:27:39 @monitor.py:467]\u001b[0m GAN_loss/discrim/loss: 0.6454\n",
      "\u001b[32m[1026 11:27:39 @monitor.py:467]\u001b[0m GAN_loss/gen/final-g-loss: 1.0074\n",
      "\u001b[32m[1026 11:27:39 @monitor.py:467]\u001b[0m GAN_loss/gen/klloss: 0.057865\n",
      "\u001b[32m[1026 11:27:39 @monitor.py:467]\u001b[0m GAN_loss/gen/loss: 0.94953\n",
      "\u001b[32m[1026 11:27:39 @monitor.py:467]\u001b[0m QueueInput/queue_size: 50\n",
      "\u001b[32m[1026 11:27:39 @base.py:275]\u001b[0m Start Epoch 688 ...\n"
     ]
    },
    {
     "name": "stderr",
     "output_type": "stream",
     "text": [
      "100%|###################################################################################|175/175[00:05<00:00,32.30it/s]"
     ]
    },
    {
     "name": "stdout",
     "output_type": "stream",
     "text": [
      "\u001b[32m[1026 11:27:44 @base.py:285]\u001b[0m Epoch 688 (global_step 120400) finished, time:5.42 seconds.\n",
      "\u001b[32m[1026 11:27:44 @saver.py:79]\u001b[0m Model saved to ../output/Chicago/DATGAN2_1000/model\\model-120400.\n",
      "\u001b[32m[1026 11:27:44 @monitor.py:467]\u001b[0m GAN_loss/discrim/accuracy_fake: 0.97\n"
     ]
    },
    {
     "name": "stderr",
     "output_type": "stream",
     "text": [
      "\n"
     ]
    },
    {
     "name": "stdout",
     "output_type": "stream",
     "text": [
      "\u001b[32m[1026 11:27:44 @monitor.py:467]\u001b[0m GAN_loss/discrim/accuracy_real: 0.044\n",
      "\u001b[32m[1026 11:27:44 @monitor.py:467]\u001b[0m GAN_loss/discrim/loss: 0.65351\n",
      "\u001b[32m[1026 11:27:44 @monitor.py:467]\u001b[0m GAN_loss/gen/final-g-loss: 1.0528\n",
      "\u001b[32m[1026 11:27:44 @monitor.py:467]\u001b[0m GAN_loss/gen/klloss: 0.11401\n",
      "\u001b[32m[1026 11:27:44 @monitor.py:467]\u001b[0m GAN_loss/gen/loss: 0.93878\n",
      "\u001b[32m[1026 11:27:44 @monitor.py:467]\u001b[0m QueueInput/queue_size: 50\n",
      "\u001b[32m[1026 11:27:44 @base.py:275]\u001b[0m Start Epoch 689 ...\n"
     ]
    },
    {
     "name": "stderr",
     "output_type": "stream",
     "text": [
      "100%|###################################################################################|175/175[00:05<00:00,32.28it/s]"
     ]
    },
    {
     "name": "stdout",
     "output_type": "stream",
     "text": [
      "\u001b[32m[1026 11:27:50 @base.py:285]\u001b[0m Epoch 689 (global_step 120575) finished, time:5.42 seconds.\n",
      "\u001b[32m[1026 11:27:50 @saver.py:79]\u001b[0m Model saved to ../output/Chicago/DATGAN2_1000/model\\model-120575.\n",
      "\u001b[32m[1026 11:27:50 @monitor.py:467]\u001b[0m GAN_loss/discrim/accuracy_fake: 0.968\n"
     ]
    },
    {
     "name": "stderr",
     "output_type": "stream",
     "text": [
      "\n"
     ]
    },
    {
     "name": "stdout",
     "output_type": "stream",
     "text": [
      "\u001b[32m[1026 11:27:50 @monitor.py:467]\u001b[0m GAN_loss/discrim/accuracy_real: 0.042\n",
      "\u001b[32m[1026 11:27:50 @monitor.py:467]\u001b[0m GAN_loss/discrim/loss: 0.65276\n",
      "\u001b[32m[1026 11:27:50 @monitor.py:467]\u001b[0m GAN_loss/gen/final-g-loss: 1.0223\n",
      "\u001b[32m[1026 11:27:50 @monitor.py:467]\u001b[0m GAN_loss/gen/klloss: 0.07752\n",
      "\u001b[32m[1026 11:27:50 @monitor.py:467]\u001b[0m GAN_loss/gen/loss: 0.94475\n",
      "\u001b[32m[1026 11:27:50 @monitor.py:467]\u001b[0m QueueInput/queue_size: 50\n",
      "\u001b[32m[1026 11:27:50 @base.py:275]\u001b[0m Start Epoch 690 ...\n"
     ]
    },
    {
     "name": "stderr",
     "output_type": "stream",
     "text": [
      "100%|###################################################################################|175/175[00:05<00:00,32.29it/s]"
     ]
    },
    {
     "name": "stdout",
     "output_type": "stream",
     "text": [
      "\u001b[32m[1026 11:27:56 @base.py:285]\u001b[0m Epoch 690 (global_step 120750) finished, time:5.42 seconds.\n",
      "\u001b[32m[1026 11:27:56 @saver.py:79]\u001b[0m Model saved to ../output/Chicago/DATGAN2_1000/model\\model-120750.\n",
      "\u001b[32m[1026 11:27:56 @monitor.py:467]\u001b[0m GAN_loss/discrim/accuracy_fake: 0.984\n"
     ]
    },
    {
     "name": "stderr",
     "output_type": "stream",
     "text": [
      "\n"
     ]
    },
    {
     "name": "stdout",
     "output_type": "stream",
     "text": [
      "\u001b[32m[1026 11:27:56 @monitor.py:467]\u001b[0m GAN_loss/discrim/accuracy_real: 0.046\n",
      "\u001b[32m[1026 11:27:56 @monitor.py:467]\u001b[0m GAN_loss/discrim/loss: 0.65032\n",
      "\u001b[32m[1026 11:27:56 @monitor.py:467]\u001b[0m GAN_loss/gen/final-g-loss: 1.008\n",
      "\u001b[32m[1026 11:27:56 @monitor.py:467]\u001b[0m GAN_loss/gen/klloss: 0.060171\n",
      "\u001b[32m[1026 11:27:56 @monitor.py:467]\u001b[0m GAN_loss/gen/loss: 0.94778\n",
      "\u001b[32m[1026 11:27:56 @monitor.py:467]\u001b[0m QueueInput/queue_size: 50\n",
      "\u001b[32m[1026 11:27:56 @base.py:275]\u001b[0m Start Epoch 691 ...\n"
     ]
    },
    {
     "name": "stderr",
     "output_type": "stream",
     "text": [
      "100%|###################################################################################|175/175[00:05<00:00,32.15it/s]"
     ]
    },
    {
     "name": "stdout",
     "output_type": "stream",
     "text": [
      "\u001b[32m[1026 11:28:01 @base.py:285]\u001b[0m Epoch 691 (global_step 120925) finished, time:5.44 seconds.\n",
      "\u001b[32m[1026 11:28:01 @saver.py:79]\u001b[0m Model saved to ../output/Chicago/DATGAN2_1000/model\\model-120925.\n",
      "\u001b[32m[1026 11:28:01 @monitor.py:467]\u001b[0m GAN_loss/discrim/accuracy_fake: 0.986\n"
     ]
    },
    {
     "name": "stderr",
     "output_type": "stream",
     "text": [
      "\n"
     ]
    },
    {
     "name": "stdout",
     "output_type": "stream",
     "text": [
      "\u001b[32m[1026 11:28:01 @monitor.py:467]\u001b[0m GAN_loss/discrim/accuracy_real: 0.05\n",
      "\u001b[32m[1026 11:28:01 @monitor.py:467]\u001b[0m GAN_loss/discrim/loss: 0.64971\n",
      "\u001b[32m[1026 11:28:01 @monitor.py:467]\u001b[0m GAN_loss/gen/final-g-loss: 1.0008\n",
      "\u001b[32m[1026 11:28:01 @monitor.py:467]\u001b[0m GAN_loss/gen/klloss: 0.056541\n",
      "\u001b[32m[1026 11:28:01 @monitor.py:467]\u001b[0m GAN_loss/gen/loss: 0.94424\n",
      "\u001b[32m[1026 11:28:01 @monitor.py:467]\u001b[0m QueueInput/queue_size: 50\n",
      "\u001b[32m[1026 11:28:01 @base.py:275]\u001b[0m Start Epoch 692 ...\n"
     ]
    },
    {
     "name": "stderr",
     "output_type": "stream",
     "text": [
      "100%|###################################################################################|175/175[00:05<00:00,32.29it/s]"
     ]
    },
    {
     "name": "stdout",
     "output_type": "stream",
     "text": [
      "\u001b[32m[1026 11:28:07 @base.py:285]\u001b[0m Epoch 692 (global_step 121100) finished, time:5.42 seconds.\n",
      "\u001b[32m[1026 11:28:07 @saver.py:79]\u001b[0m Model saved to ../output/Chicago/DATGAN2_1000/model\\model-121100.\n",
      "\u001b[32m[1026 11:28:07 @monitor.py:467]\u001b[0m GAN_loss/discrim/accuracy_fake: 0.974\n"
     ]
    },
    {
     "name": "stderr",
     "output_type": "stream",
     "text": [
      "\n"
     ]
    },
    {
     "name": "stdout",
     "output_type": "stream",
     "text": [
      "\u001b[32m[1026 11:28:07 @monitor.py:467]\u001b[0m GAN_loss/discrim/accuracy_real: 0.054\n",
      "\u001b[32m[1026 11:28:07 @monitor.py:467]\u001b[0m GAN_loss/discrim/loss: 0.64329\n",
      "\u001b[32m[1026 11:28:07 @monitor.py:467]\u001b[0m GAN_loss/gen/final-g-loss: 1.0073\n",
      "\u001b[32m[1026 11:28:07 @monitor.py:467]\u001b[0m GAN_loss/gen/klloss: 0.052982\n",
      "\u001b[32m[1026 11:28:07 @monitor.py:467]\u001b[0m GAN_loss/gen/loss: 0.95437\n",
      "\u001b[32m[1026 11:28:07 @monitor.py:467]\u001b[0m QueueInput/queue_size: 50\n",
      "\u001b[32m[1026 11:28:07 @base.py:275]\u001b[0m Start Epoch 693 ...\n"
     ]
    },
    {
     "name": "stderr",
     "output_type": "stream",
     "text": [
      "100%|###################################################################################|175/175[00:05<00:00,32.36it/s]"
     ]
    },
    {
     "name": "stdout",
     "output_type": "stream",
     "text": [
      "\u001b[32m[1026 11:28:12 @base.py:285]\u001b[0m Epoch 693 (global_step 121275) finished, time:5.41 seconds.\n"
     ]
    },
    {
     "name": "stderr",
     "output_type": "stream",
     "text": [
      "\n"
     ]
    },
    {
     "name": "stdout",
     "output_type": "stream",
     "text": [
      "\u001b[32m[1026 11:28:12 @saver.py:79]\u001b[0m Model saved to ../output/Chicago/DATGAN2_1000/model\\model-121275.\n",
      "\u001b[32m[1026 11:28:13 @monitor.py:467]\u001b[0m GAN_loss/discrim/accuracy_fake: 0.97\n",
      "\u001b[32m[1026 11:28:13 @monitor.py:467]\u001b[0m GAN_loss/discrim/accuracy_real: 0.054\n",
      "\u001b[32m[1026 11:28:13 @monitor.py:467]\u001b[0m GAN_loss/discrim/loss: 0.64765\n",
      "\u001b[32m[1026 11:28:13 @monitor.py:467]\u001b[0m GAN_loss/gen/final-g-loss: 1.0391\n",
      "\u001b[32m[1026 11:28:13 @monitor.py:467]\u001b[0m GAN_loss/gen/klloss: 0.089635\n",
      "\u001b[32m[1026 11:28:13 @monitor.py:467]\u001b[0m GAN_loss/gen/loss: 0.94945\n",
      "\u001b[32m[1026 11:28:13 @monitor.py:467]\u001b[0m QueueInput/queue_size: 50\n",
      "\u001b[32m[1026 11:28:13 @base.py:275]\u001b[0m Start Epoch 694 ...\n"
     ]
    },
    {
     "name": "stderr",
     "output_type": "stream",
     "text": [
      "100%|###################################################################################|175/175[00:05<00:00,32.29it/s]"
     ]
    },
    {
     "name": "stdout",
     "output_type": "stream",
     "text": [
      "\u001b[32m[1026 11:28:18 @base.py:285]\u001b[0m Epoch 694 (global_step 121450) finished, time:5.42 seconds.\n",
      "\u001b[32m[1026 11:28:18 @saver.py:79]\u001b[0m Model saved to ../output/Chicago/DATGAN2_1000/model\\model-121450.\n"
     ]
    },
    {
     "name": "stderr",
     "output_type": "stream",
     "text": [
      "\n"
     ]
    },
    {
     "name": "stdout",
     "output_type": "stream",
     "text": [
      "\u001b[32m[1026 11:28:18 @monitor.py:467]\u001b[0m GAN_loss/discrim/accuracy_fake: 0.97\n",
      "\u001b[32m[1026 11:28:18 @monitor.py:467]\u001b[0m GAN_loss/discrim/accuracy_real: 0.058\n",
      "\u001b[32m[1026 11:28:18 @monitor.py:467]\u001b[0m GAN_loss/discrim/loss: 0.64796\n",
      "\u001b[32m[1026 11:28:18 @monitor.py:467]\u001b[0m GAN_loss/gen/final-g-loss: 0.9907\n",
      "\u001b[32m[1026 11:28:18 @monitor.py:467]\u001b[0m GAN_loss/gen/klloss: 0.049455\n",
      "\u001b[32m[1026 11:28:18 @monitor.py:467]\u001b[0m GAN_loss/gen/loss: 0.94124\n",
      "\u001b[32m[1026 11:28:18 @monitor.py:467]\u001b[0m QueueInput/queue_size: 50\n",
      "\u001b[32m[1026 11:28:18 @base.py:275]\u001b[0m Start Epoch 695 ...\n"
     ]
    },
    {
     "name": "stderr",
     "output_type": "stream",
     "text": [
      "100%|###################################################################################|175/175[00:05<00:00,32.35it/s]"
     ]
    },
    {
     "name": "stdout",
     "output_type": "stream",
     "text": [
      "\u001b[32m[1026 11:28:24 @base.py:285]\u001b[0m Epoch 695 (global_step 121625) finished, time:5.41 seconds.\n"
     ]
    },
    {
     "name": "stderr",
     "output_type": "stream",
     "text": [
      "\n"
     ]
    },
    {
     "name": "stdout",
     "output_type": "stream",
     "text": [
      "\u001b[32m[1026 11:28:24 @saver.py:79]\u001b[0m Model saved to ../output/Chicago/DATGAN2_1000/model\\model-121625.\n",
      "\u001b[32m[1026 11:28:24 @monitor.py:467]\u001b[0m GAN_loss/discrim/accuracy_fake: 0.964\n",
      "\u001b[32m[1026 11:28:24 @monitor.py:467]\u001b[0m GAN_loss/discrim/accuracy_real: 0.056\n",
      "\u001b[32m[1026 11:28:24 @monitor.py:467]\u001b[0m GAN_loss/discrim/loss: 0.65193\n",
      "\u001b[32m[1026 11:28:24 @monitor.py:467]\u001b[0m GAN_loss/gen/final-g-loss: 1.0009\n",
      "\u001b[32m[1026 11:28:24 @monitor.py:467]\u001b[0m GAN_loss/gen/klloss: 0.056915\n",
      "\u001b[32m[1026 11:28:24 @monitor.py:467]\u001b[0m GAN_loss/gen/loss: 0.94396\n",
      "\u001b[32m[1026 11:28:24 @monitor.py:467]\u001b[0m QueueInput/queue_size: 50\n",
      "\u001b[32m[1026 11:28:24 @base.py:275]\u001b[0m Start Epoch 696 ...\n"
     ]
    },
    {
     "name": "stderr",
     "output_type": "stream",
     "text": [
      "100%|###################################################################################|175/175[00:05<00:00,32.27it/s]"
     ]
    },
    {
     "name": "stdout",
     "output_type": "stream",
     "text": [
      "\u001b[32m[1026 11:28:29 @base.py:285]\u001b[0m Epoch 696 (global_step 121800) finished, time:5.42 seconds.\n",
      "\u001b[32m[1026 11:28:29 @saver.py:79]\u001b[0m Model saved to ../output/Chicago/DATGAN2_1000/model\\model-121800.\n",
      "\u001b[32m[1026 11:28:29 @monitor.py:467]\u001b[0m GAN_loss/discrim/accuracy_fake: 0.976\n"
     ]
    },
    {
     "name": "stderr",
     "output_type": "stream",
     "text": [
      "\n"
     ]
    },
    {
     "name": "stdout",
     "output_type": "stream",
     "text": [
      "\u001b[32m[1026 11:28:29 @monitor.py:467]\u001b[0m GAN_loss/discrim/accuracy_real: 0.044\n",
      "\u001b[32m[1026 11:28:29 @monitor.py:467]\u001b[0m GAN_loss/discrim/loss: 0.64718\n",
      "\u001b[32m[1026 11:28:29 @monitor.py:467]\u001b[0m GAN_loss/gen/final-g-loss: 1.0015\n",
      "\u001b[32m[1026 11:28:29 @monitor.py:467]\u001b[0m GAN_loss/gen/klloss: 0.04656\n",
      "\u001b[32m[1026 11:28:29 @monitor.py:467]\u001b[0m GAN_loss/gen/loss: 0.9549\n",
      "\u001b[32m[1026 11:28:29 @monitor.py:467]\u001b[0m QueueInput/queue_size: 50\n",
      "\u001b[32m[1026 11:28:29 @base.py:275]\u001b[0m Start Epoch 697 ...\n"
     ]
    },
    {
     "name": "stderr",
     "output_type": "stream",
     "text": [
      "100%|###################################################################################|175/175[00:05<00:00,32.35it/s]"
     ]
    },
    {
     "name": "stdout",
     "output_type": "stream",
     "text": [
      "\u001b[32m[1026 11:28:35 @base.py:285]\u001b[0m Epoch 697 (global_step 121975) finished, time:5.41 seconds.\n"
     ]
    },
    {
     "name": "stderr",
     "output_type": "stream",
     "text": [
      "\n"
     ]
    },
    {
     "name": "stdout",
     "output_type": "stream",
     "text": [
      "\u001b[32m[1026 11:28:35 @saver.py:79]\u001b[0m Model saved to ../output/Chicago/DATGAN2_1000/model\\model-121975.\n",
      "\u001b[32m[1026 11:28:35 @monitor.py:467]\u001b[0m GAN_loss/discrim/accuracy_fake: 0.966\n",
      "\u001b[32m[1026 11:28:35 @monitor.py:467]\u001b[0m GAN_loss/discrim/accuracy_real: 0.058\n",
      "\u001b[32m[1026 11:28:35 @monitor.py:467]\u001b[0m GAN_loss/discrim/loss: 0.65122\n",
      "\u001b[32m[1026 11:28:35 @monitor.py:467]\u001b[0m GAN_loss/gen/final-g-loss: 0.99422\n",
      "\u001b[32m[1026 11:28:35 @monitor.py:467]\u001b[0m GAN_loss/gen/klloss: 0.057041\n",
      "\u001b[32m[1026 11:28:35 @monitor.py:467]\u001b[0m GAN_loss/gen/loss: 0.93718\n",
      "\u001b[32m[1026 11:28:35 @monitor.py:467]\u001b[0m QueueInput/queue_size: 50\n",
      "\u001b[32m[1026 11:28:35 @base.py:275]\u001b[0m Start Epoch 698 ...\n"
     ]
    },
    {
     "name": "stderr",
     "output_type": "stream",
     "text": [
      "100%|###################################################################################|175/175[00:05<00:00,32.32it/s]"
     ]
    },
    {
     "name": "stdout",
     "output_type": "stream",
     "text": [
      "\u001b[32m[1026 11:28:40 @base.py:285]\u001b[0m Epoch 698 (global_step 122150) finished, time:5.42 seconds.\n",
      "\u001b[32m[1026 11:28:41 @saver.py:79]\u001b[0m Model saved to ../output/Chicago/DATGAN2_1000/model\\model-122150.\n",
      "\u001b[32m[1026 11:28:41 @monitor.py:467]\u001b[0m GAN_loss/discrim/accuracy_fake: 0.984\n"
     ]
    },
    {
     "name": "stderr",
     "output_type": "stream",
     "text": [
      "\n"
     ]
    },
    {
     "name": "stdout",
     "output_type": "stream",
     "text": [
      "\u001b[32m[1026 11:28:41 @monitor.py:467]\u001b[0m GAN_loss/discrim/accuracy_real: 0.066\n",
      "\u001b[32m[1026 11:28:41 @monitor.py:467]\u001b[0m GAN_loss/discrim/loss: 0.64496\n",
      "\u001b[32m[1026 11:28:41 @monitor.py:467]\u001b[0m GAN_loss/gen/final-g-loss: 1.0165\n",
      "\u001b[32m[1026 11:28:41 @monitor.py:467]\u001b[0m GAN_loss/gen/klloss: 0.063542\n",
      "\u001b[32m[1026 11:28:41 @monitor.py:467]\u001b[0m GAN_loss/gen/loss: 0.95291\n",
      "\u001b[32m[1026 11:28:41 @monitor.py:467]\u001b[0m QueueInput/queue_size: 50\n",
      "\u001b[32m[1026 11:28:41 @base.py:275]\u001b[0m Start Epoch 699 ...\n"
     ]
    },
    {
     "name": "stderr",
     "output_type": "stream",
     "text": [
      "100%|###################################################################################|175/175[00:05<00:00,32.31it/s]"
     ]
    },
    {
     "name": "stdout",
     "output_type": "stream",
     "text": [
      "\u001b[32m[1026 11:28:46 @base.py:285]\u001b[0m Epoch 699 (global_step 122325) finished, time:5.42 seconds.\n"
     ]
    },
    {
     "name": "stderr",
     "output_type": "stream",
     "text": [
      "\n"
     ]
    },
    {
     "name": "stdout",
     "output_type": "stream",
     "text": [
      "\u001b[32m[1026 11:28:46 @saver.py:79]\u001b[0m Model saved to ../output/Chicago/DATGAN2_1000/model\\model-122325.\n",
      "\u001b[32m[1026 11:28:46 @monitor.py:467]\u001b[0m GAN_loss/discrim/accuracy_fake: 0.98\n",
      "\u001b[32m[1026 11:28:46 @monitor.py:467]\u001b[0m GAN_loss/discrim/accuracy_real: 0.042\n",
      "\u001b[32m[1026 11:28:46 @monitor.py:467]\u001b[0m GAN_loss/discrim/loss: 0.64895\n",
      "\u001b[32m[1026 11:28:46 @monitor.py:467]\u001b[0m GAN_loss/gen/final-g-loss: 1.0008\n",
      "\u001b[32m[1026 11:28:46 @monitor.py:467]\u001b[0m GAN_loss/gen/klloss: 0.0552\n",
      "\u001b[32m[1026 11:28:46 @monitor.py:467]\u001b[0m GAN_loss/gen/loss: 0.94563\n",
      "\u001b[32m[1026 11:28:46 @monitor.py:467]\u001b[0m QueueInput/queue_size: 50\n",
      "\u001b[32m[1026 11:28:46 @base.py:275]\u001b[0m Start Epoch 700 ...\n"
     ]
    },
    {
     "name": "stderr",
     "output_type": "stream",
     "text": [
      "100%|###################################################################################|175/175[00:05<00:00,32.33it/s]"
     ]
    },
    {
     "name": "stdout",
     "output_type": "stream",
     "text": [
      "\u001b[32m[1026 11:28:52 @base.py:285]\u001b[0m Epoch 700 (global_step 122500) finished, time:5.41 seconds.\n"
     ]
    },
    {
     "name": "stderr",
     "output_type": "stream",
     "text": [
      "\n"
     ]
    },
    {
     "name": "stdout",
     "output_type": "stream",
     "text": [
      "\u001b[32m[1026 11:28:52 @saver.py:79]\u001b[0m Model saved to ../output/Chicago/DATGAN2_1000/model\\model-122500.\n",
      "\u001b[32m[1026 11:28:52 @monitor.py:467]\u001b[0m GAN_loss/discrim/accuracy_fake: 0.964\n",
      "\u001b[32m[1026 11:28:52 @monitor.py:467]\u001b[0m GAN_loss/discrim/accuracy_real: 0.054\n",
      "\u001b[32m[1026 11:28:52 @monitor.py:467]\u001b[0m GAN_loss/discrim/loss: 0.64756\n",
      "\u001b[32m[1026 11:28:52 @monitor.py:467]\u001b[0m GAN_loss/gen/final-g-loss: 0.99818\n",
      "\u001b[32m[1026 11:28:52 @monitor.py:467]\u001b[0m GAN_loss/gen/klloss: 0.053179\n",
      "\u001b[32m[1026 11:28:52 @monitor.py:467]\u001b[0m GAN_loss/gen/loss: 0.945\n",
      "\u001b[32m[1026 11:28:52 @monitor.py:467]\u001b[0m QueueInput/queue_size: 50\n",
      "\u001b[32m[1026 11:28:52 @base.py:275]\u001b[0m Start Epoch 701 ...\n"
     ]
    },
    {
     "name": "stderr",
     "output_type": "stream",
     "text": [
      "100%|###################################################################################|175/175[00:05<00:00,32.31it/s]"
     ]
    },
    {
     "name": "stdout",
     "output_type": "stream",
     "text": [
      "\u001b[32m[1026 11:28:57 @base.py:285]\u001b[0m Epoch 701 (global_step 122675) finished, time:5.42 seconds.\n"
     ]
    },
    {
     "name": "stderr",
     "output_type": "stream",
     "text": [
      "\n"
     ]
    },
    {
     "name": "stdout",
     "output_type": "stream",
     "text": [
      "\u001b[32m[1026 11:28:57 @saver.py:79]\u001b[0m Model saved to ../output/Chicago/DATGAN2_1000/model\\model-122675.\n",
      "\u001b[32m[1026 11:28:58 @monitor.py:467]\u001b[0m GAN_loss/discrim/accuracy_fake: 0.962\n",
      "\u001b[32m[1026 11:28:58 @monitor.py:467]\u001b[0m GAN_loss/discrim/accuracy_real: 0.044\n",
      "\u001b[32m[1026 11:28:58 @monitor.py:467]\u001b[0m GAN_loss/discrim/loss: 0.6489\n",
      "\u001b[32m[1026 11:28:58 @monitor.py:467]\u001b[0m GAN_loss/gen/final-g-loss: 1.0153\n",
      "\u001b[32m[1026 11:28:58 @monitor.py:467]\u001b[0m GAN_loss/gen/klloss: 0.062046\n",
      "\u001b[32m[1026 11:28:58 @monitor.py:467]\u001b[0m GAN_loss/gen/loss: 0.95323\n",
      "\u001b[32m[1026 11:28:58 @monitor.py:467]\u001b[0m QueueInput/queue_size: 50\n",
      "\u001b[32m[1026 11:28:58 @base.py:275]\u001b[0m Start Epoch 702 ...\n"
     ]
    },
    {
     "name": "stderr",
     "output_type": "stream",
     "text": [
      "100%|###################################################################################|175/175[00:05<00:00,32.33it/s]"
     ]
    },
    {
     "name": "stdout",
     "output_type": "stream",
     "text": [
      "\u001b[32m[1026 11:29:03 @base.py:285]\u001b[0m Epoch 702 (global_step 122850) finished, time:5.41 seconds.\n",
      "\u001b[32m[1026 11:29:03 @saver.py:79]\u001b[0m Model saved to ../output/Chicago/DATGAN2_1000/model\\model-122850.\n"
     ]
    },
    {
     "name": "stderr",
     "output_type": "stream",
     "text": [
      "\n"
     ]
    },
    {
     "name": "stdout",
     "output_type": "stream",
     "text": [
      "\u001b[32m[1026 11:29:03 @monitor.py:467]\u001b[0m GAN_loss/discrim/accuracy_fake: 0.96\n",
      "\u001b[32m[1026 11:29:03 @monitor.py:467]\u001b[0m GAN_loss/discrim/accuracy_real: 0.058\n",
      "\u001b[32m[1026 11:29:03 @monitor.py:467]\u001b[0m GAN_loss/discrim/loss: 0.64458\n",
      "\u001b[32m[1026 11:29:03 @monitor.py:467]\u001b[0m GAN_loss/gen/final-g-loss: 1.0112\n",
      "\u001b[32m[1026 11:29:03 @monitor.py:467]\u001b[0m GAN_loss/gen/klloss: 0.061601\n",
      "\u001b[32m[1026 11:29:03 @monitor.py:467]\u001b[0m GAN_loss/gen/loss: 0.94955\n",
      "\u001b[32m[1026 11:29:03 @monitor.py:467]\u001b[0m QueueInput/queue_size: 50\n",
      "\u001b[32m[1026 11:29:03 @base.py:275]\u001b[0m Start Epoch 703 ...\n"
     ]
    },
    {
     "name": "stderr",
     "output_type": "stream",
     "text": [
      "100%|###################################################################################|175/175[00:05<00:00,32.34it/s]"
     ]
    },
    {
     "name": "stdout",
     "output_type": "stream",
     "text": [
      "\u001b[32m[1026 11:29:09 @base.py:285]\u001b[0m Epoch 703 (global_step 123025) finished, time:5.41 seconds.\n"
     ]
    },
    {
     "name": "stderr",
     "output_type": "stream",
     "text": [
      "\n"
     ]
    },
    {
     "name": "stdout",
     "output_type": "stream",
     "text": [
      "\u001b[32m[1026 11:29:09 @saver.py:79]\u001b[0m Model saved to ../output/Chicago/DATGAN2_1000/model\\model-123025.\n",
      "\u001b[32m[1026 11:29:09 @monitor.py:467]\u001b[0m GAN_loss/discrim/accuracy_fake: 0.95\n",
      "\u001b[32m[1026 11:29:09 @monitor.py:467]\u001b[0m GAN_loss/discrim/accuracy_real: 0.058\n",
      "\u001b[32m[1026 11:29:09 @monitor.py:467]\u001b[0m GAN_loss/discrim/loss: 0.64623\n",
      "\u001b[32m[1026 11:29:09 @monitor.py:467]\u001b[0m GAN_loss/gen/final-g-loss: 1.0333\n",
      "\u001b[32m[1026 11:29:09 @monitor.py:467]\u001b[0m GAN_loss/gen/klloss: 0.083056\n",
      "\u001b[32m[1026 11:29:09 @monitor.py:467]\u001b[0m GAN_loss/gen/loss: 0.95023\n",
      "\u001b[32m[1026 11:29:09 @monitor.py:467]\u001b[0m QueueInput/queue_size: 50\n",
      "\u001b[32m[1026 11:29:09 @base.py:275]\u001b[0m Start Epoch 704 ...\n"
     ]
    },
    {
     "name": "stderr",
     "output_type": "stream",
     "text": [
      "100%|###################################################################################|175/175[00:05<00:00,32.33it/s]"
     ]
    },
    {
     "name": "stdout",
     "output_type": "stream",
     "text": [
      "\u001b[32m[1026 11:29:14 @base.py:285]\u001b[0m Epoch 704 (global_step 123200) finished, time:5.41 seconds.\n",
      "\u001b[32m[1026 11:29:14 @saver.py:79]\u001b[0m Model saved to ../output/Chicago/DATGAN2_1000/model\\model-123200.\n"
     ]
    },
    {
     "name": "stderr",
     "output_type": "stream",
     "text": [
      "\n"
     ]
    },
    {
     "name": "stdout",
     "output_type": "stream",
     "text": [
      "\u001b[32m[1026 11:29:14 @monitor.py:467]\u001b[0m GAN_loss/discrim/accuracy_fake: 0.962\n",
      "\u001b[32m[1026 11:29:14 @monitor.py:467]\u001b[0m GAN_loss/discrim/accuracy_real: 0.046\n",
      "\u001b[32m[1026 11:29:14 @monitor.py:467]\u001b[0m GAN_loss/discrim/loss: 0.65193\n",
      "\u001b[32m[1026 11:29:14 @monitor.py:467]\u001b[0m GAN_loss/gen/final-g-loss: 1.0029\n",
      "\u001b[32m[1026 11:29:14 @monitor.py:467]\u001b[0m GAN_loss/gen/klloss: 0.063518\n",
      "\u001b[32m[1026 11:29:14 @monitor.py:467]\u001b[0m GAN_loss/gen/loss: 0.93935\n",
      "\u001b[32m[1026 11:29:14 @monitor.py:467]\u001b[0m QueueInput/queue_size: 50\n",
      "\u001b[32m[1026 11:29:14 @base.py:275]\u001b[0m Start Epoch 705 ...\n"
     ]
    },
    {
     "name": "stderr",
     "output_type": "stream",
     "text": [
      "100%|###################################################################################|175/175[00:05<00:00,32.35it/s]"
     ]
    },
    {
     "name": "stdout",
     "output_type": "stream",
     "text": [
      "\u001b[32m[1026 11:29:20 @base.py:285]\u001b[0m Epoch 705 (global_step 123375) finished, time:5.41 seconds.\n"
     ]
    },
    {
     "name": "stderr",
     "output_type": "stream",
     "text": [
      "\n"
     ]
    },
    {
     "name": "stdout",
     "output_type": "stream",
     "text": [
      "\u001b[32m[1026 11:29:20 @saver.py:79]\u001b[0m Model saved to ../output/Chicago/DATGAN2_1000/model\\model-123375.\n",
      "\u001b[32m[1026 11:29:20 @monitor.py:467]\u001b[0m GAN_loss/discrim/accuracy_fake: 0.944\n",
      "\u001b[32m[1026 11:29:20 @monitor.py:467]\u001b[0m GAN_loss/discrim/accuracy_real: 0.05\n",
      "\u001b[32m[1026 11:29:20 @monitor.py:467]\u001b[0m GAN_loss/discrim/loss: 0.65101\n",
      "\u001b[32m[1026 11:29:20 @monitor.py:467]\u001b[0m GAN_loss/gen/final-g-loss: 0.99624\n",
      "\u001b[32m[1026 11:29:20 @monitor.py:467]\u001b[0m GAN_loss/gen/klloss: 0.054638\n",
      "\u001b[32m[1026 11:29:20 @monitor.py:467]\u001b[0m GAN_loss/gen/loss: 0.9416\n",
      "\u001b[32m[1026 11:29:20 @monitor.py:467]\u001b[0m QueueInput/queue_size: 50\n",
      "\u001b[32m[1026 11:29:20 @base.py:275]\u001b[0m Start Epoch 706 ...\n"
     ]
    },
    {
     "name": "stderr",
     "output_type": "stream",
     "text": [
      "100%|###################################################################################|175/175[00:05<00:00,32.32it/s]"
     ]
    },
    {
     "name": "stdout",
     "output_type": "stream",
     "text": [
      "\u001b[32m[1026 11:29:25 @base.py:285]\u001b[0m Epoch 706 (global_step 123550) finished, time:5.42 seconds.\n",
      "\u001b[32m[1026 11:29:26 @saver.py:79]\u001b[0m Model saved to ../output/Chicago/DATGAN2_1000/model\\model-123550.\n",
      "\u001b[32m[1026 11:29:26 @monitor.py:467]\u001b[0m GAN_loss/discrim/accuracy_fake: 0.982\n"
     ]
    },
    {
     "name": "stderr",
     "output_type": "stream",
     "text": [
      "\n"
     ]
    },
    {
     "name": "stdout",
     "output_type": "stream",
     "text": [
      "\u001b[32m[1026 11:29:26 @monitor.py:467]\u001b[0m GAN_loss/discrim/accuracy_real: 0.044\n",
      "\u001b[32m[1026 11:29:26 @monitor.py:467]\u001b[0m GAN_loss/discrim/loss: 0.64778\n",
      "\u001b[32m[1026 11:29:26 @monitor.py:467]\u001b[0m GAN_loss/gen/final-g-loss: 1.0111\n",
      "\u001b[32m[1026 11:29:26 @monitor.py:467]\u001b[0m GAN_loss/gen/klloss: 0.063806\n",
      "\u001b[32m[1026 11:29:26 @monitor.py:467]\u001b[0m GAN_loss/gen/loss: 0.94731\n",
      "\u001b[32m[1026 11:29:26 @monitor.py:467]\u001b[0m QueueInput/queue_size: 50\n",
      "\u001b[32m[1026 11:29:26 @base.py:275]\u001b[0m Start Epoch 707 ...\n"
     ]
    },
    {
     "name": "stderr",
     "output_type": "stream",
     "text": [
      "100%|###################################################################################|175/175[00:05<00:00,32.09it/s]"
     ]
    },
    {
     "name": "stdout",
     "output_type": "stream",
     "text": [
      "\u001b[32m[1026 11:29:31 @base.py:285]\u001b[0m Epoch 707 (global_step 123725) finished, time:5.45 seconds.\n"
     ]
    },
    {
     "name": "stderr",
     "output_type": "stream",
     "text": [
      "\n"
     ]
    },
    {
     "name": "stdout",
     "output_type": "stream",
     "text": [
      "\u001b[32m[1026 11:29:31 @saver.py:79]\u001b[0m Model saved to ../output/Chicago/DATGAN2_1000/model\\model-123725.\n",
      "\u001b[32m[1026 11:29:31 @monitor.py:467]\u001b[0m GAN_loss/discrim/accuracy_fake: 0.974\n",
      "\u001b[32m[1026 11:29:31 @monitor.py:467]\u001b[0m GAN_loss/discrim/accuracy_real: 0.058\n",
      "\u001b[32m[1026 11:29:31 @monitor.py:467]\u001b[0m GAN_loss/discrim/loss: 0.64376\n",
      "\u001b[32m[1026 11:29:31 @monitor.py:467]\u001b[0m GAN_loss/gen/final-g-loss: 1.0114\n",
      "\u001b[32m[1026 11:29:31 @monitor.py:467]\u001b[0m GAN_loss/gen/klloss: 0.064988\n",
      "\u001b[32m[1026 11:29:31 @monitor.py:467]\u001b[0m GAN_loss/gen/loss: 0.94645\n",
      "\u001b[32m[1026 11:29:31 @monitor.py:467]\u001b[0m QueueInput/queue_size: 50\n",
      "\u001b[32m[1026 11:29:31 @base.py:275]\u001b[0m Start Epoch 708 ...\n"
     ]
    },
    {
     "name": "stderr",
     "output_type": "stream",
     "text": [
      "100%|###################################################################################|175/175[00:05<00:00,30.43it/s]"
     ]
    },
    {
     "name": "stdout",
     "output_type": "stream",
     "text": [
      "\u001b[32m[1026 11:29:37 @base.py:285]\u001b[0m Epoch 708 (global_step 123900) finished, time:5.75 seconds.\n",
      "\u001b[32m[1026 11:29:37 @saver.py:79]\u001b[0m Model saved to ../output/Chicago/DATGAN2_1000/model\\model-123900.\n",
      "\u001b[32m[1026 11:29:37 @monitor.py:467]\u001b[0m GAN_loss/discrim/accuracy_fake: 0.972\n"
     ]
    },
    {
     "name": "stderr",
     "output_type": "stream",
     "text": [
      "\n"
     ]
    },
    {
     "name": "stdout",
     "output_type": "stream",
     "text": [
      "\u001b[32m[1026 11:29:37 @monitor.py:467]\u001b[0m GAN_loss/discrim/accuracy_real: 0.048\n",
      "\u001b[32m[1026 11:29:37 @monitor.py:467]\u001b[0m GAN_loss/discrim/loss: 0.64811\n",
      "\u001b[32m[1026 11:29:37 @monitor.py:467]\u001b[0m GAN_loss/gen/final-g-loss: 1.0002\n",
      "\u001b[32m[1026 11:29:37 @monitor.py:467]\u001b[0m GAN_loss/gen/klloss: 0.048333\n",
      "\u001b[32m[1026 11:29:37 @monitor.py:467]\u001b[0m GAN_loss/gen/loss: 0.95189\n",
      "\u001b[32m[1026 11:29:37 @monitor.py:467]\u001b[0m QueueInput/queue_size: 50\n",
      "\u001b[32m[1026 11:29:37 @base.py:275]\u001b[0m Start Epoch 709 ...\n"
     ]
    },
    {
     "name": "stderr",
     "output_type": "stream",
     "text": [
      "100%|###################################################################################|175/175[00:05<00:00,31.67it/s]"
     ]
    },
    {
     "name": "stdout",
     "output_type": "stream",
     "text": [
      "\u001b[32m[1026 11:29:43 @base.py:285]\u001b[0m Epoch 709 (global_step 124075) finished, time:5.53 seconds.\n",
      "\u001b[32m[1026 11:29:43 @saver.py:79]\u001b[0m Model saved to ../output/Chicago/DATGAN2_1000/model\\model-124075.\n"
     ]
    },
    {
     "name": "stderr",
     "output_type": "stream",
     "text": [
      "\n"
     ]
    },
    {
     "name": "stdout",
     "output_type": "stream",
     "text": [
      "\u001b[32m[1026 11:29:43 @monitor.py:467]\u001b[0m GAN_loss/discrim/accuracy_fake: 0.982\n",
      "\u001b[32m[1026 11:29:43 @monitor.py:467]\u001b[0m GAN_loss/discrim/accuracy_real: 0.072\n",
      "\u001b[32m[1026 11:29:43 @monitor.py:467]\u001b[0m GAN_loss/discrim/loss: 0.64733\n",
      "\u001b[32m[1026 11:29:43 @monitor.py:467]\u001b[0m GAN_loss/gen/final-g-loss: 1.0086\n",
      "\u001b[32m[1026 11:29:43 @monitor.py:467]\u001b[0m GAN_loss/gen/klloss: 0.055889\n",
      "\u001b[32m[1026 11:29:43 @monitor.py:467]\u001b[0m GAN_loss/gen/loss: 0.95269\n",
      "\u001b[32m[1026 11:29:43 @monitor.py:467]\u001b[0m QueueInput/queue_size: 50\n",
      "\u001b[32m[1026 11:29:43 @base.py:275]\u001b[0m Start Epoch 710 ...\n"
     ]
    },
    {
     "name": "stderr",
     "output_type": "stream",
     "text": [
      "100%|###################################################################################|175/175[00:05<00:00,31.91it/s]"
     ]
    },
    {
     "name": "stdout",
     "output_type": "stream",
     "text": [
      "\u001b[32m[1026 11:29:48 @base.py:285]\u001b[0m Epoch 710 (global_step 124250) finished, time:5.48 seconds.\n",
      "\u001b[32m[1026 11:29:49 @saver.py:79]\u001b[0m Model saved to ../output/Chicago/DATGAN2_1000/model\\model-124250.\n",
      "\u001b[32m[1026 11:29:49 @monitor.py:467]\u001b[0m GAN_loss/discrim/accuracy_fake: 0.966\n"
     ]
    },
    {
     "name": "stderr",
     "output_type": "stream",
     "text": [
      "\n"
     ]
    },
    {
     "name": "stdout",
     "output_type": "stream",
     "text": [
      "\u001b[32m[1026 11:29:49 @monitor.py:467]\u001b[0m GAN_loss/discrim/accuracy_real: 0.064\n",
      "\u001b[32m[1026 11:29:49 @monitor.py:467]\u001b[0m GAN_loss/discrim/loss: 0.6486\n",
      "\u001b[32m[1026 11:29:49 @monitor.py:467]\u001b[0m GAN_loss/gen/final-g-loss: 0.99628\n",
      "\u001b[32m[1026 11:29:49 @monitor.py:467]\u001b[0m GAN_loss/gen/klloss: 0.055846\n",
      "\u001b[32m[1026 11:29:49 @monitor.py:467]\u001b[0m GAN_loss/gen/loss: 0.94043\n",
      "\u001b[32m[1026 11:29:49 @monitor.py:467]\u001b[0m QueueInput/queue_size: 50\n",
      "\u001b[32m[1026 11:29:49 @base.py:275]\u001b[0m Start Epoch 711 ...\n"
     ]
    },
    {
     "name": "stderr",
     "output_type": "stream",
     "text": [
      "100%|###################################################################################|175/175[00:05<00:00,31.29it/s]"
     ]
    },
    {
     "name": "stdout",
     "output_type": "stream",
     "text": [
      "\u001b[32m[1026 11:29:54 @base.py:285]\u001b[0m Epoch 711 (global_step 124425) finished, time:5.59 seconds.\n",
      "\u001b[32m[1026 11:29:54 @saver.py:79]\u001b[0m Model saved to ../output/Chicago/DATGAN2_1000/model\\model-124425.\n"
     ]
    },
    {
     "name": "stderr",
     "output_type": "stream",
     "text": [
      "\n"
     ]
    },
    {
     "name": "stdout",
     "output_type": "stream",
     "text": [
      "\u001b[32m[1026 11:29:55 @monitor.py:467]\u001b[0m GAN_loss/discrim/accuracy_fake: 0.964\n",
      "\u001b[32m[1026 11:29:55 @monitor.py:467]\u001b[0m GAN_loss/discrim/accuracy_real: 0.056\n",
      "\u001b[32m[1026 11:29:55 @monitor.py:467]\u001b[0m GAN_loss/discrim/loss: 0.6478\n",
      "\u001b[32m[1026 11:29:55 @monitor.py:467]\u001b[0m GAN_loss/gen/final-g-loss: 1.0013\n",
      "\u001b[32m[1026 11:29:55 @monitor.py:467]\u001b[0m GAN_loss/gen/klloss: 0.053875\n",
      "\u001b[32m[1026 11:29:55 @monitor.py:467]\u001b[0m GAN_loss/gen/loss: 0.94744\n",
      "\u001b[32m[1026 11:29:55 @monitor.py:467]\u001b[0m QueueInput/queue_size: 50\n",
      "\u001b[32m[1026 11:29:55 @base.py:275]\u001b[0m Start Epoch 712 ...\n"
     ]
    },
    {
     "name": "stderr",
     "output_type": "stream",
     "text": [
      "100%|###################################################################################|175/175[00:05<00:00,31.23it/s]"
     ]
    },
    {
     "name": "stdout",
     "output_type": "stream",
     "text": [
      "\u001b[32m[1026 11:30:00 @base.py:285]\u001b[0m Epoch 712 (global_step 124600) finished, time:5.6 seconds.\n",
      "\u001b[32m[1026 11:30:00 @saver.py:79]\u001b[0m Model saved to ../output/Chicago/DATGAN2_1000/model\\model-124600.\n"
     ]
    },
    {
     "name": "stderr",
     "output_type": "stream",
     "text": [
      "\n"
     ]
    },
    {
     "name": "stdout",
     "output_type": "stream",
     "text": [
      "\u001b[32m[1026 11:30:00 @monitor.py:467]\u001b[0m GAN_loss/discrim/accuracy_fake: 0.97\n",
      "\u001b[32m[1026 11:30:00 @monitor.py:467]\u001b[0m GAN_loss/discrim/accuracy_real: 0.036\n",
      "\u001b[32m[1026 11:30:00 @monitor.py:467]\u001b[0m GAN_loss/discrim/loss: 0.6488\n",
      "\u001b[32m[1026 11:30:00 @monitor.py:467]\u001b[0m GAN_loss/gen/final-g-loss: 1.0035\n",
      "\u001b[32m[1026 11:30:00 @monitor.py:467]\u001b[0m GAN_loss/gen/klloss: 0.054892\n",
      "\u001b[32m[1026 11:30:00 @monitor.py:467]\u001b[0m GAN_loss/gen/loss: 0.94865\n",
      "\u001b[32m[1026 11:30:00 @monitor.py:467]\u001b[0m QueueInput/queue_size: 50\n",
      "\u001b[32m[1026 11:30:00 @base.py:275]\u001b[0m Start Epoch 713 ...\n"
     ]
    },
    {
     "name": "stderr",
     "output_type": "stream",
     "text": [
      "100%|###################################################################################|175/175[00:05<00:00,31.31it/s]"
     ]
    },
    {
     "name": "stdout",
     "output_type": "stream",
     "text": [
      "\u001b[32m[1026 11:30:06 @base.py:285]\u001b[0m Epoch 713 (global_step 124775) finished, time:5.59 seconds.\n",
      "\u001b[32m[1026 11:30:06 @saver.py:79]\u001b[0m Model saved to ../output/Chicago/DATGAN2_1000/model\\model-124775.\n"
     ]
    },
    {
     "name": "stderr",
     "output_type": "stream",
     "text": [
      "\n"
     ]
    },
    {
     "name": "stdout",
     "output_type": "stream",
     "text": [
      "\u001b[32m[1026 11:30:06 @monitor.py:467]\u001b[0m GAN_loss/discrim/accuracy_fake: 0.982\n",
      "\u001b[32m[1026 11:30:06 @monitor.py:467]\u001b[0m GAN_loss/discrim/accuracy_real: 0.03\n",
      "\u001b[32m[1026 11:30:06 @monitor.py:467]\u001b[0m GAN_loss/discrim/loss: 0.64883\n",
      "\u001b[32m[1026 11:30:06 @monitor.py:467]\u001b[0m GAN_loss/gen/final-g-loss: 0.98808\n",
      "\u001b[32m[1026 11:30:06 @monitor.py:467]\u001b[0m GAN_loss/gen/klloss: 0.042645\n",
      "\u001b[32m[1026 11:30:06 @monitor.py:467]\u001b[0m GAN_loss/gen/loss: 0.94543\n",
      "\u001b[32m[1026 11:30:06 @monitor.py:467]\u001b[0m QueueInput/queue_size: 50\n",
      "\u001b[32m[1026 11:30:06 @base.py:275]\u001b[0m Start Epoch 714 ...\n"
     ]
    },
    {
     "name": "stderr",
     "output_type": "stream",
     "text": [
      "100%|###################################################################################|175/175[00:05<00:00,31.93it/s]"
     ]
    },
    {
     "name": "stdout",
     "output_type": "stream",
     "text": [
      "\u001b[32m[1026 11:30:12 @base.py:285]\u001b[0m Epoch 714 (global_step 124950) finished, time:5.48 seconds.\n",
      "\u001b[32m[1026 11:30:12 @saver.py:79]\u001b[0m Model saved to ../output/Chicago/DATGAN2_1000/model\\model-124950.\n"
     ]
    },
    {
     "name": "stderr",
     "output_type": "stream",
     "text": [
      "\n"
     ]
    },
    {
     "name": "stdout",
     "output_type": "stream",
     "text": [
      "\u001b[32m[1026 11:30:12 @monitor.py:467]\u001b[0m GAN_loss/discrim/accuracy_fake: 0.96\n",
      "\u001b[32m[1026 11:30:12 @monitor.py:467]\u001b[0m GAN_loss/discrim/accuracy_real: 0.056\n",
      "\u001b[32m[1026 11:30:12 @monitor.py:467]\u001b[0m GAN_loss/discrim/loss: 0.64634\n",
      "\u001b[32m[1026 11:30:12 @monitor.py:467]\u001b[0m GAN_loss/gen/final-g-loss: 1.008\n",
      "\u001b[32m[1026 11:30:12 @monitor.py:467]\u001b[0m GAN_loss/gen/klloss: 0.057169\n",
      "\u001b[32m[1026 11:30:12 @monitor.py:467]\u001b[0m GAN_loss/gen/loss: 0.95083\n",
      "\u001b[32m[1026 11:30:12 @monitor.py:467]\u001b[0m QueueInput/queue_size: 50\n",
      "\u001b[32m[1026 11:30:12 @base.py:275]\u001b[0m Start Epoch 715 ...\n"
     ]
    },
    {
     "name": "stderr",
     "output_type": "stream",
     "text": [
      "100%|###################################################################################|175/175[00:05<00:00,31.07it/s]"
     ]
    },
    {
     "name": "stdout",
     "output_type": "stream",
     "text": [
      "\u001b[32m[1026 11:30:17 @base.py:285]\u001b[0m Epoch 715 (global_step 125125) finished, time:5.63 seconds.\n",
      "\u001b[32m[1026 11:30:18 @saver.py:79]\u001b[0m Model saved to ../output/Chicago/DATGAN2_1000/model\\model-125125.\n",
      "\u001b[32m[1026 11:30:18 @monitor.py:467]\u001b[0m GAN_loss/discrim/accuracy_fake: 0.956\n"
     ]
    },
    {
     "name": "stderr",
     "output_type": "stream",
     "text": [
      "\n"
     ]
    },
    {
     "name": "stdout",
     "output_type": "stream",
     "text": [
      "\u001b[32m[1026 11:30:18 @monitor.py:467]\u001b[0m GAN_loss/discrim/accuracy_real: 0.038\n",
      "\u001b[32m[1026 11:30:18 @monitor.py:467]\u001b[0m GAN_loss/discrim/loss: 0.65357\n",
      "\u001b[32m[1026 11:30:18 @monitor.py:467]\u001b[0m GAN_loss/gen/final-g-loss: 1.0156\n",
      "\u001b[32m[1026 11:30:18 @monitor.py:467]\u001b[0m GAN_loss/gen/klloss: 0.075147\n",
      "\u001b[32m[1026 11:30:18 @monitor.py:467]\u001b[0m GAN_loss/gen/loss: 0.94042\n",
      "\u001b[32m[1026 11:30:18 @monitor.py:467]\u001b[0m QueueInput/queue_size: 50\n",
      "\u001b[32m[1026 11:30:18 @base.py:275]\u001b[0m Start Epoch 716 ...\n"
     ]
    },
    {
     "name": "stderr",
     "output_type": "stream",
     "text": [
      "100%|###################################################################################|175/175[00:05<00:00,30.79it/s]"
     ]
    },
    {
     "name": "stdout",
     "output_type": "stream",
     "text": [
      "\u001b[32m[1026 11:30:23 @base.py:285]\u001b[0m Epoch 716 (global_step 125300) finished, time:5.68 seconds.\n",
      "\u001b[32m[1026 11:30:23 @saver.py:79]\u001b[0m Model saved to ../output/Chicago/DATGAN2_1000/model\\model-125300.\n"
     ]
    },
    {
     "name": "stderr",
     "output_type": "stream",
     "text": [
      "\n"
     ]
    },
    {
     "name": "stdout",
     "output_type": "stream",
     "text": [
      "\u001b[32m[1026 11:30:24 @monitor.py:467]\u001b[0m GAN_loss/discrim/accuracy_fake: 0.954\n",
      "\u001b[32m[1026 11:30:24 @monitor.py:467]\u001b[0m GAN_loss/discrim/accuracy_real: 0.054\n",
      "\u001b[32m[1026 11:30:24 @monitor.py:467]\u001b[0m GAN_loss/discrim/loss: 0.6504\n",
      "\u001b[32m[1026 11:30:24 @monitor.py:467]\u001b[0m GAN_loss/gen/final-g-loss: 0.98116\n",
      "\u001b[32m[1026 11:30:24 @monitor.py:467]\u001b[0m GAN_loss/gen/klloss: 0.036589\n",
      "\u001b[32m[1026 11:30:24 @monitor.py:467]\u001b[0m GAN_loss/gen/loss: 0.94457\n",
      "\u001b[32m[1026 11:30:24 @monitor.py:467]\u001b[0m QueueInput/queue_size: 50\n",
      "\u001b[32m[1026 11:30:24 @base.py:275]\u001b[0m Start Epoch 717 ...\n"
     ]
    },
    {
     "name": "stderr",
     "output_type": "stream",
     "text": [
      "100%|###################################################################################|175/175[00:05<00:00,30.89it/s]"
     ]
    },
    {
     "name": "stdout",
     "output_type": "stream",
     "text": [
      "\u001b[32m[1026 11:30:29 @base.py:285]\u001b[0m Epoch 717 (global_step 125475) finished, time:5.67 seconds.\n",
      "\u001b[32m[1026 11:30:29 @saver.py:79]\u001b[0m Model saved to ../output/Chicago/DATGAN2_1000/model\\model-125475.\n"
     ]
    },
    {
     "name": "stderr",
     "output_type": "stream",
     "text": [
      "\n"
     ]
    },
    {
     "name": "stdout",
     "output_type": "stream",
     "text": [
      "\u001b[32m[1026 11:30:29 @monitor.py:467]\u001b[0m GAN_loss/discrim/accuracy_fake: 0.97\n",
      "\u001b[32m[1026 11:30:29 @monitor.py:467]\u001b[0m GAN_loss/discrim/accuracy_real: 0.046\n",
      "\u001b[32m[1026 11:30:29 @monitor.py:467]\u001b[0m GAN_loss/discrim/loss: 0.65331\n",
      "\u001b[32m[1026 11:30:29 @monitor.py:467]\u001b[0m GAN_loss/gen/final-g-loss: 1.0107\n",
      "\u001b[32m[1026 11:30:29 @monitor.py:467]\u001b[0m GAN_loss/gen/klloss: 0.075017\n",
      "\u001b[32m[1026 11:30:29 @monitor.py:467]\u001b[0m GAN_loss/gen/loss: 0.93564\n",
      "\u001b[32m[1026 11:30:29 @monitor.py:467]\u001b[0m QueueInput/queue_size: 50\n",
      "\u001b[32m[1026 11:30:29 @base.py:275]\u001b[0m Start Epoch 718 ...\n"
     ]
    },
    {
     "name": "stderr",
     "output_type": "stream",
     "text": [
      "100%|###################################################################################|175/175[00:05<00:00,29.73it/s]"
     ]
    },
    {
     "name": "stdout",
     "output_type": "stream",
     "text": [
      "\u001b[32m[1026 11:30:35 @base.py:285]\u001b[0m Epoch 718 (global_step 125650) finished, time:5.89 seconds.\n"
     ]
    },
    {
     "name": "stderr",
     "output_type": "stream",
     "text": [
      "\n"
     ]
    },
    {
     "name": "stdout",
     "output_type": "stream",
     "text": [
      "\u001b[32m[1026 11:30:35 @saver.py:79]\u001b[0m Model saved to ../output/Chicago/DATGAN2_1000/model\\model-125650.\n",
      "\u001b[32m[1026 11:30:36 @monitor.py:467]\u001b[0m GAN_loss/discrim/accuracy_fake: 0.966\n",
      "\u001b[32m[1026 11:30:36 @monitor.py:467]\u001b[0m GAN_loss/discrim/accuracy_real: 0.026\n",
      "\u001b[32m[1026 11:30:36 @monitor.py:467]\u001b[0m GAN_loss/discrim/loss: 0.65298\n",
      "\u001b[32m[1026 11:30:36 @monitor.py:467]\u001b[0m GAN_loss/gen/final-g-loss: 0.99694\n",
      "\u001b[32m[1026 11:30:36 @monitor.py:467]\u001b[0m GAN_loss/gen/klloss: 0.053601\n",
      "\u001b[32m[1026 11:30:36 @monitor.py:467]\u001b[0m GAN_loss/gen/loss: 0.94334\n",
      "\u001b[32m[1026 11:30:36 @monitor.py:467]\u001b[0m QueueInput/queue_size: 50\n",
      "\u001b[32m[1026 11:30:36 @base.py:275]\u001b[0m Start Epoch 719 ...\n"
     ]
    },
    {
     "name": "stderr",
     "output_type": "stream",
     "text": [
      "100%|###################################################################################|175/175[00:05<00:00,30.04it/s]"
     ]
    },
    {
     "name": "stdout",
     "output_type": "stream",
     "text": [
      "\u001b[32m[1026 11:30:41 @base.py:285]\u001b[0m Epoch 719 (global_step 125825) finished, time:5.83 seconds.\n",
      "\u001b[32m[1026 11:30:42 @saver.py:79]\u001b[0m Model saved to ../output/Chicago/DATGAN2_1000/model\\model-125825.\n"
     ]
    },
    {
     "name": "stderr",
     "output_type": "stream",
     "text": [
      "\n"
     ]
    },
    {
     "name": "stdout",
     "output_type": "stream",
     "text": [
      "\u001b[32m[1026 11:30:42 @monitor.py:467]\u001b[0m GAN_loss/discrim/accuracy_fake: 0.982\n",
      "\u001b[32m[1026 11:30:42 @monitor.py:467]\u001b[0m GAN_loss/discrim/accuracy_real: 0.056\n",
      "\u001b[32m[1026 11:30:42 @monitor.py:467]\u001b[0m GAN_loss/discrim/loss: 0.64117\n",
      "\u001b[32m[1026 11:30:42 @monitor.py:467]\u001b[0m GAN_loss/gen/final-g-loss: 1.0197\n",
      "\u001b[32m[1026 11:30:42 @monitor.py:467]\u001b[0m GAN_loss/gen/klloss: 0.065442\n",
      "\u001b[32m[1026 11:30:42 @monitor.py:467]\u001b[0m GAN_loss/gen/loss: 0.95426\n",
      "\u001b[32m[1026 11:30:42 @monitor.py:467]\u001b[0m QueueInput/queue_size: 50\n",
      "\u001b[32m[1026 11:30:42 @base.py:275]\u001b[0m Start Epoch 720 ...\n"
     ]
    },
    {
     "name": "stderr",
     "output_type": "stream",
     "text": [
      "100%|###################################################################################|175/175[00:05<00:00,30.92it/s]"
     ]
    },
    {
     "name": "stdout",
     "output_type": "stream",
     "text": [
      "\u001b[32m[1026 11:30:47 @base.py:285]\u001b[0m Epoch 720 (global_step 126000) finished, time:5.66 seconds.\n",
      "\u001b[32m[1026 11:30:48 @saver.py:79]\u001b[0m Model saved to ../output/Chicago/DATGAN2_1000/model\\model-126000.\n"
     ]
    },
    {
     "name": "stderr",
     "output_type": "stream",
     "text": [
      "\n"
     ]
    },
    {
     "name": "stdout",
     "output_type": "stream",
     "text": [
      "\u001b[32m[1026 11:30:48 @monitor.py:467]\u001b[0m GAN_loss/discrim/accuracy_fake: 0.966\n",
      "\u001b[32m[1026 11:30:48 @monitor.py:467]\u001b[0m GAN_loss/discrim/accuracy_real: 0.042\n",
      "\u001b[32m[1026 11:30:48 @monitor.py:467]\u001b[0m GAN_loss/discrim/loss: 0.64603\n",
      "\u001b[32m[1026 11:30:48 @monitor.py:467]\u001b[0m GAN_loss/gen/final-g-loss: 1.0357\n",
      "\u001b[32m[1026 11:30:48 @monitor.py:467]\u001b[0m GAN_loss/gen/klloss: 0.094608\n",
      "\u001b[32m[1026 11:30:48 @monitor.py:467]\u001b[0m GAN_loss/gen/loss: 0.94114\n",
      "\u001b[32m[1026 11:30:48 @monitor.py:467]\u001b[0m QueueInput/queue_size: 50\n",
      "\u001b[32m[1026 11:30:48 @base.py:275]\u001b[0m Start Epoch 721 ...\n"
     ]
    },
    {
     "name": "stderr",
     "output_type": "stream",
     "text": [
      "100%|###################################################################################|175/175[00:05<00:00,30.77it/s]"
     ]
    },
    {
     "name": "stdout",
     "output_type": "stream",
     "text": [
      "\u001b[32m[1026 11:30:53 @base.py:285]\u001b[0m Epoch 721 (global_step 126175) finished, time:5.69 seconds.\n",
      "\u001b[32m[1026 11:30:53 @saver.py:79]\u001b[0m Model saved to ../output/Chicago/DATGAN2_1000/model\\model-126175.\n"
     ]
    },
    {
     "name": "stderr",
     "output_type": "stream",
     "text": [
      "\n"
     ]
    },
    {
     "name": "stdout",
     "output_type": "stream",
     "text": [
      "\u001b[32m[1026 11:30:54 @monitor.py:467]\u001b[0m GAN_loss/discrim/accuracy_fake: 0.976\n",
      "\u001b[32m[1026 11:30:54 @monitor.py:467]\u001b[0m GAN_loss/discrim/accuracy_real: 0.028\n",
      "\u001b[32m[1026 11:30:54 @monitor.py:467]\u001b[0m GAN_loss/discrim/loss: 0.64979\n",
      "\u001b[32m[1026 11:30:54 @monitor.py:467]\u001b[0m GAN_loss/gen/final-g-loss: 0.98435\n",
      "\u001b[32m[1026 11:30:54 @monitor.py:467]\u001b[0m GAN_loss/gen/klloss: 0.038397\n",
      "\u001b[32m[1026 11:30:54 @monitor.py:467]\u001b[0m GAN_loss/gen/loss: 0.94595\n",
      "\u001b[32m[1026 11:30:54 @monitor.py:467]\u001b[0m QueueInput/queue_size: 50\n",
      "\u001b[32m[1026 11:30:54 @base.py:275]\u001b[0m Start Epoch 722 ...\n"
     ]
    },
    {
     "name": "stderr",
     "output_type": "stream",
     "text": [
      "100%|###################################################################################|175/175[00:05<00:00,31.09it/s]"
     ]
    },
    {
     "name": "stdout",
     "output_type": "stream",
     "text": [
      "\u001b[32m[1026 11:30:59 @base.py:285]\u001b[0m Epoch 722 (global_step 126350) finished, time:5.63 seconds.\n",
      "\u001b[32m[1026 11:30:59 @saver.py:79]\u001b[0m Model saved to ../output/Chicago/DATGAN2_1000/model\\model-126350.\n"
     ]
    },
    {
     "name": "stderr",
     "output_type": "stream",
     "text": [
      "\n"
     ]
    },
    {
     "name": "stdout",
     "output_type": "stream",
     "text": [
      "\u001b[32m[1026 11:30:59 @monitor.py:467]\u001b[0m GAN_loss/discrim/accuracy_fake: 0.968\n",
      "\u001b[32m[1026 11:30:59 @monitor.py:467]\u001b[0m GAN_loss/discrim/accuracy_real: 0.046\n",
      "\u001b[32m[1026 11:30:59 @monitor.py:467]\u001b[0m GAN_loss/discrim/loss: 0.65192\n",
      "\u001b[32m[1026 11:30:59 @monitor.py:467]\u001b[0m GAN_loss/gen/final-g-loss: 1.0049\n",
      "\u001b[32m[1026 11:30:59 @monitor.py:467]\u001b[0m GAN_loss/gen/klloss: 0.067871\n",
      "\u001b[32m[1026 11:30:59 @monitor.py:467]\u001b[0m GAN_loss/gen/loss: 0.93704\n",
      "\u001b[32m[1026 11:30:59 @monitor.py:467]\u001b[0m QueueInput/queue_size: 50\n",
      "\u001b[32m[1026 11:30:59 @base.py:275]\u001b[0m Start Epoch 723 ...\n"
     ]
    },
    {
     "name": "stderr",
     "output_type": "stream",
     "text": [
      "100%|###################################################################################|175/175[00:05<00:00,31.56it/s]"
     ]
    },
    {
     "name": "stdout",
     "output_type": "stream",
     "text": [
      "\u001b[32m[1026 11:31:05 @base.py:285]\u001b[0m Epoch 723 (global_step 126525) finished, time:5.55 seconds.\n",
      "\u001b[32m[1026 11:31:05 @saver.py:79]\u001b[0m Model saved to ../output/Chicago/DATGAN2_1000/model\\model-126525.\n"
     ]
    },
    {
     "name": "stderr",
     "output_type": "stream",
     "text": [
      "\n"
     ]
    },
    {
     "name": "stdout",
     "output_type": "stream",
     "text": [
      "\u001b[32m[1026 11:31:05 @monitor.py:467]\u001b[0m GAN_loss/discrim/accuracy_fake: 0.964\n",
      "\u001b[32m[1026 11:31:05 @monitor.py:467]\u001b[0m GAN_loss/discrim/accuracy_real: 0.056\n",
      "\u001b[32m[1026 11:31:05 @monitor.py:467]\u001b[0m GAN_loss/discrim/loss: 0.64408\n",
      "\u001b[32m[1026 11:31:05 @monitor.py:467]\u001b[0m GAN_loss/gen/final-g-loss: 0.99552\n",
      "\u001b[32m[1026 11:31:05 @monitor.py:467]\u001b[0m GAN_loss/gen/klloss: 0.044816\n",
      "\u001b[32m[1026 11:31:05 @monitor.py:467]\u001b[0m GAN_loss/gen/loss: 0.95071\n",
      "\u001b[32m[1026 11:31:05 @monitor.py:467]\u001b[0m QueueInput/queue_size: 50\n",
      "\u001b[32m[1026 11:31:05 @base.py:275]\u001b[0m Start Epoch 724 ...\n"
     ]
    },
    {
     "name": "stderr",
     "output_type": "stream",
     "text": [
      "100%|###################################################################################|175/175[00:05<00:00,31.78it/s]"
     ]
    },
    {
     "name": "stdout",
     "output_type": "stream",
     "text": [
      "\u001b[32m[1026 11:31:11 @base.py:285]\u001b[0m Epoch 724 (global_step 126700) finished, time:5.51 seconds.\n",
      "\u001b[32m[1026 11:31:11 @saver.py:79]\u001b[0m Model saved to ../output/Chicago/DATGAN2_1000/model\\model-126700.\n",
      "\u001b[32m[1026 11:31:11 @monitor.py:467]\u001b[0m GAN_loss/discrim/accuracy_fake: 0.968\n"
     ]
    },
    {
     "name": "stderr",
     "output_type": "stream",
     "text": [
      "\n"
     ]
    },
    {
     "name": "stdout",
     "output_type": "stream",
     "text": [
      "\u001b[32m[1026 11:31:11 @monitor.py:467]\u001b[0m GAN_loss/discrim/accuracy_real: 0.044\n",
      "\u001b[32m[1026 11:31:11 @monitor.py:467]\u001b[0m GAN_loss/discrim/loss: 0.64916\n",
      "\u001b[32m[1026 11:31:11 @monitor.py:467]\u001b[0m GAN_loss/gen/final-g-loss: 1.0001\n",
      "\u001b[32m[1026 11:31:11 @monitor.py:467]\u001b[0m GAN_loss/gen/klloss: 0.051644\n",
      "\u001b[32m[1026 11:31:11 @monitor.py:467]\u001b[0m GAN_loss/gen/loss: 0.9485\n",
      "\u001b[32m[1026 11:31:11 @monitor.py:467]\u001b[0m QueueInput/queue_size: 50\n",
      "\u001b[32m[1026 11:31:11 @base.py:275]\u001b[0m Start Epoch 725 ...\n"
     ]
    },
    {
     "name": "stderr",
     "output_type": "stream",
     "text": [
      "100%|###################################################################################|175/175[00:05<00:00,32.15it/s]"
     ]
    },
    {
     "name": "stdout",
     "output_type": "stream",
     "text": [
      "\u001b[32m[1026 11:31:16 @base.py:285]\u001b[0m Epoch 725 (global_step 126875) finished, time:5.44 seconds.\n",
      "\u001b[32m[1026 11:31:16 @saver.py:79]\u001b[0m Model saved to ../output/Chicago/DATGAN2_1000/model\\model-126875.\n"
     ]
    },
    {
     "name": "stderr",
     "output_type": "stream",
     "text": [
      "\n"
     ]
    },
    {
     "name": "stdout",
     "output_type": "stream",
     "text": [
      "\u001b[32m[1026 11:31:17 @monitor.py:467]\u001b[0m GAN_loss/discrim/accuracy_fake: 0.97\n",
      "\u001b[32m[1026 11:31:17 @monitor.py:467]\u001b[0m GAN_loss/discrim/accuracy_real: 0.042\n",
      "\u001b[32m[1026 11:31:17 @monitor.py:467]\u001b[0m GAN_loss/discrim/loss: 0.64432\n",
      "\u001b[32m[1026 11:31:17 @monitor.py:467]\u001b[0m GAN_loss/gen/final-g-loss: 1.0103\n",
      "\u001b[32m[1026 11:31:17 @monitor.py:467]\u001b[0m GAN_loss/gen/klloss: 0.062416\n",
      "\u001b[32m[1026 11:31:17 @monitor.py:467]\u001b[0m GAN_loss/gen/loss: 0.94786\n",
      "\u001b[32m[1026 11:31:17 @monitor.py:467]\u001b[0m QueueInput/queue_size: 50\n",
      "\u001b[32m[1026 11:31:17 @base.py:275]\u001b[0m Start Epoch 726 ...\n"
     ]
    },
    {
     "name": "stderr",
     "output_type": "stream",
     "text": [
      "100%|###################################################################################|175/175[00:05<00:00,32.26it/s]"
     ]
    },
    {
     "name": "stdout",
     "output_type": "stream",
     "text": [
      "\u001b[32m[1026 11:31:22 @base.py:285]\u001b[0m Epoch 726 (global_step 127050) finished, time:5.43 seconds.\n"
     ]
    },
    {
     "name": "stderr",
     "output_type": "stream",
     "text": [
      "\n"
     ]
    },
    {
     "name": "stdout",
     "output_type": "stream",
     "text": [
      "\u001b[32m[1026 11:31:22 @saver.py:79]\u001b[0m Model saved to ../output/Chicago/DATGAN2_1000/model\\model-127050.\n",
      "\u001b[32m[1026 11:31:22 @monitor.py:467]\u001b[0m GAN_loss/discrim/accuracy_fake: 0.982\n",
      "\u001b[32m[1026 11:31:22 @monitor.py:467]\u001b[0m GAN_loss/discrim/accuracy_real: 0.042\n",
      "\u001b[32m[1026 11:31:22 @monitor.py:467]\u001b[0m GAN_loss/discrim/loss: 0.64653\n",
      "\u001b[32m[1026 11:31:22 @monitor.py:467]\u001b[0m GAN_loss/gen/final-g-loss: 0.99657\n",
      "\u001b[32m[1026 11:31:22 @monitor.py:467]\u001b[0m GAN_loss/gen/klloss: 0.048369\n",
      "\u001b[32m[1026 11:31:22 @monitor.py:467]\u001b[0m GAN_loss/gen/loss: 0.94821\n",
      "\u001b[32m[1026 11:31:22 @monitor.py:467]\u001b[0m QueueInput/queue_size: 50\n",
      "\u001b[32m[1026 11:31:22 @base.py:275]\u001b[0m Start Epoch 727 ...\n"
     ]
    },
    {
     "name": "stderr",
     "output_type": "stream",
     "text": [
      "100%|###################################################################################|175/175[00:05<00:00,31.70it/s]"
     ]
    },
    {
     "name": "stdout",
     "output_type": "stream",
     "text": [
      "\u001b[32m[1026 11:31:28 @base.py:285]\u001b[0m Epoch 727 (global_step 127225) finished, time:5.52 seconds.\n",
      "\u001b[32m[1026 11:31:28 @saver.py:79]\u001b[0m Model saved to ../output/Chicago/DATGAN2_1000/model\\model-127225.\n"
     ]
    },
    {
     "name": "stderr",
     "output_type": "stream",
     "text": [
      "\n"
     ]
    },
    {
     "name": "stdout",
     "output_type": "stream",
     "text": [
      "\u001b[32m[1026 11:31:28 @monitor.py:467]\u001b[0m GAN_loss/discrim/accuracy_fake: 0.96\n",
      "\u001b[32m[1026 11:31:28 @monitor.py:467]\u001b[0m GAN_loss/discrim/accuracy_real: 0.05\n",
      "\u001b[32m[1026 11:31:28 @monitor.py:467]\u001b[0m GAN_loss/discrim/loss: 0.64503\n",
      "\u001b[32m[1026 11:31:28 @monitor.py:467]\u001b[0m GAN_loss/gen/final-g-loss: 0.9908\n",
      "\u001b[32m[1026 11:31:28 @monitor.py:467]\u001b[0m GAN_loss/gen/klloss: 0.045626\n",
      "\u001b[32m[1026 11:31:28 @monitor.py:467]\u001b[0m GAN_loss/gen/loss: 0.94517\n",
      "\u001b[32m[1026 11:31:28 @monitor.py:467]\u001b[0m QueueInput/queue_size: 50\n",
      "\u001b[32m[1026 11:31:28 @base.py:275]\u001b[0m Start Epoch 728 ...\n"
     ]
    },
    {
     "name": "stderr",
     "output_type": "stream",
     "text": [
      "100%|###################################################################################|175/175[00:05<00:00,31.60it/s]"
     ]
    },
    {
     "name": "stdout",
     "output_type": "stream",
     "text": [
      "\u001b[32m[1026 11:31:33 @base.py:285]\u001b[0m Epoch 728 (global_step 127400) finished, time:5.54 seconds.\n",
      "\u001b[32m[1026 11:31:34 @saver.py:79]\u001b[0m Model saved to ../output/Chicago/DATGAN2_1000/model\\model-127400.\n"
     ]
    },
    {
     "name": "stderr",
     "output_type": "stream",
     "text": [
      "\n"
     ]
    },
    {
     "name": "stdout",
     "output_type": "stream",
     "text": [
      "\u001b[32m[1026 11:31:34 @monitor.py:467]\u001b[0m GAN_loss/discrim/accuracy_fake: 0.986\n",
      "\u001b[32m[1026 11:31:34 @monitor.py:467]\u001b[0m GAN_loss/discrim/accuracy_real: 0.038\n",
      "\u001b[32m[1026 11:31:34 @monitor.py:467]\u001b[0m GAN_loss/discrim/loss: 0.64932\n",
      "\u001b[32m[1026 11:31:34 @monitor.py:467]\u001b[0m GAN_loss/gen/final-g-loss: 0.98986\n",
      "\u001b[32m[1026 11:31:34 @monitor.py:467]\u001b[0m GAN_loss/gen/klloss: 0.047754\n",
      "\u001b[32m[1026 11:31:34 @monitor.py:467]\u001b[0m GAN_loss/gen/loss: 0.94211\n",
      "\u001b[32m[1026 11:31:34 @monitor.py:467]\u001b[0m QueueInput/queue_size: 50\n",
      "\u001b[32m[1026 11:31:34 @base.py:275]\u001b[0m Start Epoch 729 ...\n"
     ]
    },
    {
     "name": "stderr",
     "output_type": "stream",
     "text": [
      "100%|###################################################################################|175/175[00:05<00:00,31.72it/s]"
     ]
    },
    {
     "name": "stdout",
     "output_type": "stream",
     "text": [
      "\u001b[32m[1026 11:31:39 @base.py:285]\u001b[0m Epoch 729 (global_step 127575) finished, time:5.52 seconds.\n",
      "\u001b[32m[1026 11:31:39 @saver.py:79]\u001b[0m Model saved to ../output/Chicago/DATGAN2_1000/model\\model-127575.\n",
      "\u001b[32m[1026 11:31:39 @monitor.py:467]\u001b[0m GAN_loss/discrim/accuracy_fake: 0.96\n"
     ]
    },
    {
     "name": "stderr",
     "output_type": "stream",
     "text": [
      "\n"
     ]
    },
    {
     "name": "stdout",
     "output_type": "stream",
     "text": [
      "\u001b[32m[1026 11:31:39 @monitor.py:467]\u001b[0m GAN_loss/discrim/accuracy_real: 0.048\n",
      "\u001b[32m[1026 11:31:39 @monitor.py:467]\u001b[0m GAN_loss/discrim/loss: 0.64555\n",
      "\u001b[32m[1026 11:31:39 @monitor.py:467]\u001b[0m GAN_loss/gen/final-g-loss: 0.99022\n",
      "\u001b[32m[1026 11:31:39 @monitor.py:467]\u001b[0m GAN_loss/gen/klloss: 0.050091\n",
      "\u001b[32m[1026 11:31:39 @monitor.py:467]\u001b[0m GAN_loss/gen/loss: 0.94013\n",
      "\u001b[32m[1026 11:31:39 @monitor.py:467]\u001b[0m QueueInput/queue_size: 50\n",
      "\u001b[32m[1026 11:31:39 @base.py:275]\u001b[0m Start Epoch 730 ...\n"
     ]
    },
    {
     "name": "stderr",
     "output_type": "stream",
     "text": [
      "100%|###################################################################################|175/175[00:05<00:00,30.69it/s]"
     ]
    },
    {
     "name": "stdout",
     "output_type": "stream",
     "text": [
      "\u001b[32m[1026 11:31:45 @base.py:285]\u001b[0m Epoch 730 (global_step 127750) finished, time:5.7 seconds.\n",
      "\u001b[32m[1026 11:31:45 @saver.py:79]\u001b[0m Model saved to ../output/Chicago/DATGAN2_1000/model\\model-127750.\n"
     ]
    },
    {
     "name": "stderr",
     "output_type": "stream",
     "text": [
      "\n"
     ]
    },
    {
     "name": "stdout",
     "output_type": "stream",
     "text": [
      "\u001b[32m[1026 11:31:45 @monitor.py:467]\u001b[0m GAN_loss/discrim/accuracy_fake: 0.982\n",
      "\u001b[32m[1026 11:31:45 @monitor.py:467]\u001b[0m GAN_loss/discrim/accuracy_real: 0.034\n",
      "\u001b[32m[1026 11:31:45 @monitor.py:467]\u001b[0m GAN_loss/discrim/loss: 0.64881\n",
      "\u001b[32m[1026 11:31:45 @monitor.py:467]\u001b[0m GAN_loss/gen/final-g-loss: 1.0189\n",
      "\u001b[32m[1026 11:31:45 @monitor.py:467]\u001b[0m GAN_loss/gen/klloss: 0.066301\n",
      "\u001b[32m[1026 11:31:45 @monitor.py:467]\u001b[0m GAN_loss/gen/loss: 0.95262\n",
      "\u001b[32m[1026 11:31:45 @monitor.py:467]\u001b[0m QueueInput/queue_size: 50\n",
      "\u001b[32m[1026 11:31:45 @base.py:275]\u001b[0m Start Epoch 731 ...\n"
     ]
    },
    {
     "name": "stderr",
     "output_type": "stream",
     "text": [
      "100%|###################################################################################|175/175[00:05<00:00,31.96it/s]"
     ]
    },
    {
     "name": "stdout",
     "output_type": "stream",
     "text": [
      "\u001b[32m[1026 11:31:51 @base.py:285]\u001b[0m Epoch 731 (global_step 127925) finished, time:5.48 seconds.\n",
      "\u001b[32m[1026 11:31:51 @saver.py:79]\u001b[0m Model saved to ../output/Chicago/DATGAN2_1000/model\\model-127925.\n"
     ]
    },
    {
     "name": "stderr",
     "output_type": "stream",
     "text": [
      "\n"
     ]
    },
    {
     "name": "stdout",
     "output_type": "stream",
     "text": [
      "\u001b[32m[1026 11:31:51 @monitor.py:467]\u001b[0m GAN_loss/discrim/accuracy_fake: 0.974\n",
      "\u001b[32m[1026 11:31:51 @monitor.py:467]\u001b[0m GAN_loss/discrim/accuracy_real: 0.048\n",
      "\u001b[32m[1026 11:31:51 @monitor.py:467]\u001b[0m GAN_loss/discrim/loss: 0.64508\n",
      "\u001b[32m[1026 11:31:51 @monitor.py:467]\u001b[0m GAN_loss/gen/final-g-loss: 1.0142\n",
      "\u001b[32m[1026 11:31:51 @monitor.py:467]\u001b[0m GAN_loss/gen/klloss: 0.066779\n",
      "\u001b[32m[1026 11:31:51 @monitor.py:467]\u001b[0m GAN_loss/gen/loss: 0.94742\n",
      "\u001b[32m[1026 11:31:51 @monitor.py:467]\u001b[0m QueueInput/queue_size: 50\n",
      "\u001b[32m[1026 11:31:51 @base.py:275]\u001b[0m Start Epoch 732 ...\n"
     ]
    },
    {
     "name": "stderr",
     "output_type": "stream",
     "text": [
      "100%|###################################################################################|175/175[00:05<00:00,32.04it/s]"
     ]
    },
    {
     "name": "stdout",
     "output_type": "stream",
     "text": [
      "\u001b[32m[1026 11:31:56 @base.py:285]\u001b[0m Epoch 732 (global_step 128100) finished, time:5.46 seconds.\n",
      "\u001b[32m[1026 11:31:57 @saver.py:79]\u001b[0m Model saved to ../output/Chicago/DATGAN2_1000/model\\model-128100.\n"
     ]
    },
    {
     "name": "stderr",
     "output_type": "stream",
     "text": [
      "\n"
     ]
    },
    {
     "name": "stdout",
     "output_type": "stream",
     "text": [
      "\u001b[32m[1026 11:31:57 @monitor.py:467]\u001b[0m GAN_loss/discrim/accuracy_fake: 0.986\n",
      "\u001b[32m[1026 11:31:57 @monitor.py:467]\u001b[0m GAN_loss/discrim/accuracy_real: 0.07\n",
      "\u001b[32m[1026 11:31:57 @monitor.py:467]\u001b[0m GAN_loss/discrim/loss: 0.63898\n",
      "\u001b[32m[1026 11:31:57 @monitor.py:467]\u001b[0m GAN_loss/gen/final-g-loss: 1.0006\n",
      "\u001b[32m[1026 11:31:57 @monitor.py:467]\u001b[0m GAN_loss/gen/klloss: 0.045\n",
      "\u001b[32m[1026 11:31:57 @monitor.py:467]\u001b[0m GAN_loss/gen/loss: 0.95561\n",
      "\u001b[32m[1026 11:31:57 @monitor.py:467]\u001b[0m QueueInput/queue_size: 50\n",
      "\u001b[32m[1026 11:31:57 @base.py:275]\u001b[0m Start Epoch 733 ...\n"
     ]
    },
    {
     "name": "stderr",
     "output_type": "stream",
     "text": [
      "100%|###################################################################################|175/175[00:05<00:00,32.24it/s]"
     ]
    },
    {
     "name": "stdout",
     "output_type": "stream",
     "text": [
      "\u001b[32m[1026 11:32:02 @base.py:285]\u001b[0m Epoch 733 (global_step 128275) finished, time:5.43 seconds.\n"
     ]
    },
    {
     "name": "stderr",
     "output_type": "stream",
     "text": [
      "\n"
     ]
    },
    {
     "name": "stdout",
     "output_type": "stream",
     "text": [
      "\u001b[32m[1026 11:32:02 @saver.py:79]\u001b[0m Model saved to ../output/Chicago/DATGAN2_1000/model\\model-128275.\n",
      "\u001b[32m[1026 11:32:02 @monitor.py:467]\u001b[0m GAN_loss/discrim/accuracy_fake: 0.964\n",
      "\u001b[32m[1026 11:32:02 @monitor.py:467]\u001b[0m GAN_loss/discrim/accuracy_real: 0.054\n",
      "\u001b[32m[1026 11:32:02 @monitor.py:467]\u001b[0m GAN_loss/discrim/loss: 0.64895\n",
      "\u001b[32m[1026 11:32:02 @monitor.py:467]\u001b[0m GAN_loss/gen/final-g-loss: 1.0018\n",
      "\u001b[32m[1026 11:32:02 @monitor.py:467]\u001b[0m GAN_loss/gen/klloss: 0.064596\n",
      "\u001b[32m[1026 11:32:02 @monitor.py:467]\u001b[0m GAN_loss/gen/loss: 0.93725\n",
      "\u001b[32m[1026 11:32:02 @monitor.py:467]\u001b[0m QueueInput/queue_size: 50\n",
      "\u001b[32m[1026 11:32:02 @base.py:275]\u001b[0m Start Epoch 734 ...\n"
     ]
    },
    {
     "name": "stderr",
     "output_type": "stream",
     "text": [
      "100%|###################################################################################|175/175[00:05<00:00,32.19it/s]"
     ]
    },
    {
     "name": "stdout",
     "output_type": "stream",
     "text": [
      "\u001b[32m[1026 11:32:08 @base.py:285]\u001b[0m Epoch 734 (global_step 128450) finished, time:5.44 seconds.\n",
      "\u001b[32m[1026 11:32:08 @saver.py:79]\u001b[0m Model saved to ../output/Chicago/DATGAN2_1000/model\\model-128450.\n"
     ]
    },
    {
     "name": "stderr",
     "output_type": "stream",
     "text": [
      "\n"
     ]
    },
    {
     "name": "stdout",
     "output_type": "stream",
     "text": [
      "\u001b[32m[1026 11:32:08 @monitor.py:467]\u001b[0m GAN_loss/discrim/accuracy_fake: 0.956\n",
      "\u001b[32m[1026 11:32:08 @monitor.py:467]\u001b[0m GAN_loss/discrim/accuracy_real: 0.062\n",
      "\u001b[32m[1026 11:32:08 @monitor.py:467]\u001b[0m GAN_loss/discrim/loss: 0.65137\n",
      "\u001b[32m[1026 11:32:08 @monitor.py:467]\u001b[0m GAN_loss/gen/final-g-loss: 1.0387\n",
      "\u001b[32m[1026 11:32:08 @monitor.py:467]\u001b[0m GAN_loss/gen/klloss: 0.094082\n",
      "\u001b[32m[1026 11:32:08 @monitor.py:467]\u001b[0m GAN_loss/gen/loss: 0.94463\n",
      "\u001b[32m[1026 11:32:08 @monitor.py:467]\u001b[0m QueueInput/queue_size: 50\n",
      "\u001b[32m[1026 11:32:08 @base.py:275]\u001b[0m Start Epoch 735 ...\n"
     ]
    },
    {
     "name": "stderr",
     "output_type": "stream",
     "text": [
      "100%|###################################################################################|175/175[00:05<00:00,32.22it/s]"
     ]
    },
    {
     "name": "stdout",
     "output_type": "stream",
     "text": [
      "\u001b[32m[1026 11:32:13 @base.py:285]\u001b[0m Epoch 735 (global_step 128625) finished, time:5.43 seconds.\n"
     ]
    },
    {
     "name": "stderr",
     "output_type": "stream",
     "text": [
      "\n"
     ]
    },
    {
     "name": "stdout",
     "output_type": "stream",
     "text": [
      "\u001b[32m[1026 11:32:14 @saver.py:79]\u001b[0m Model saved to ../output/Chicago/DATGAN2_1000/model\\model-128625.\n",
      "\u001b[32m[1026 11:32:14 @monitor.py:467]\u001b[0m GAN_loss/discrim/accuracy_fake: 0.966\n",
      "\u001b[32m[1026 11:32:14 @monitor.py:467]\u001b[0m GAN_loss/discrim/accuracy_real: 0.032\n",
      "\u001b[32m[1026 11:32:14 @monitor.py:467]\u001b[0m GAN_loss/discrim/loss: 0.64657\n",
      "\u001b[32m[1026 11:32:14 @monitor.py:467]\u001b[0m GAN_loss/gen/final-g-loss: 1.0128\n",
      "\u001b[32m[1026 11:32:14 @monitor.py:467]\u001b[0m GAN_loss/gen/klloss: 0.069596\n",
      "\u001b[32m[1026 11:32:14 @monitor.py:467]\u001b[0m GAN_loss/gen/loss: 0.9432\n",
      "\u001b[32m[1026 11:32:14 @monitor.py:467]\u001b[0m QueueInput/queue_size: 50\n",
      "\u001b[32m[1026 11:32:14 @base.py:275]\u001b[0m Start Epoch 736 ...\n"
     ]
    },
    {
     "name": "stderr",
     "output_type": "stream",
     "text": [
      "100%|###################################################################################|175/175[00:05<00:00,32.22it/s]"
     ]
    },
    {
     "name": "stdout",
     "output_type": "stream",
     "text": [
      "\u001b[32m[1026 11:32:19 @base.py:285]\u001b[0m Epoch 736 (global_step 128800) finished, time:5.43 seconds.\n",
      "\u001b[32m[1026 11:32:19 @saver.py:79]\u001b[0m Model saved to ../output/Chicago/DATGAN2_1000/model\\model-128800.\n"
     ]
    },
    {
     "name": "stderr",
     "output_type": "stream",
     "text": [
      "\n"
     ]
    },
    {
     "name": "stdout",
     "output_type": "stream",
     "text": [
      "\u001b[32m[1026 11:32:19 @monitor.py:467]\u001b[0m GAN_loss/discrim/accuracy_fake: 0.962\n",
      "\u001b[32m[1026 11:32:19 @monitor.py:467]\u001b[0m GAN_loss/discrim/accuracy_real: 0.05\n",
      "\u001b[32m[1026 11:32:19 @monitor.py:467]\u001b[0m GAN_loss/discrim/loss: 0.64961\n",
      "\u001b[32m[1026 11:32:19 @monitor.py:467]\u001b[0m GAN_loss/gen/final-g-loss: 0.99889\n",
      "\u001b[32m[1026 11:32:19 @monitor.py:467]\u001b[0m GAN_loss/gen/klloss: 0.051132\n",
      "\u001b[32m[1026 11:32:19 @monitor.py:467]\u001b[0m GAN_loss/gen/loss: 0.94776\n",
      "\u001b[32m[1026 11:32:19 @monitor.py:467]\u001b[0m QueueInput/queue_size: 50\n",
      "\u001b[32m[1026 11:32:19 @base.py:275]\u001b[0m Start Epoch 737 ...\n"
     ]
    },
    {
     "name": "stderr",
     "output_type": "stream",
     "text": [
      "100%|###################################################################################|175/175[00:05<00:00,32.24it/s]"
     ]
    },
    {
     "name": "stdout",
     "output_type": "stream",
     "text": [
      "\u001b[32m[1026 11:32:25 @base.py:285]\u001b[0m Epoch 737 (global_step 128975) finished, time:5.43 seconds.\n"
     ]
    },
    {
     "name": "stderr",
     "output_type": "stream",
     "text": [
      "\n"
     ]
    },
    {
     "name": "stdout",
     "output_type": "stream",
     "text": [
      "\u001b[32m[1026 11:32:25 @saver.py:79]\u001b[0m Model saved to ../output/Chicago/DATGAN2_1000/model\\model-128975.\n",
      "\u001b[32m[1026 11:32:25 @monitor.py:467]\u001b[0m GAN_loss/discrim/accuracy_fake: 0.98\n",
      "\u001b[32m[1026 11:32:25 @monitor.py:467]\u001b[0m GAN_loss/discrim/accuracy_real: 0.04\n",
      "\u001b[32m[1026 11:32:25 @monitor.py:467]\u001b[0m GAN_loss/discrim/loss: 0.64574\n",
      "\u001b[32m[1026 11:32:25 @monitor.py:467]\u001b[0m GAN_loss/gen/final-g-loss: 0.99858\n",
      "\u001b[32m[1026 11:32:25 @monitor.py:467]\u001b[0m GAN_loss/gen/klloss: 0.055745\n",
      "\u001b[32m[1026 11:32:25 @monitor.py:467]\u001b[0m GAN_loss/gen/loss: 0.94284\n",
      "\u001b[32m[1026 11:32:25 @monitor.py:467]\u001b[0m QueueInput/queue_size: 50\n",
      "\u001b[32m[1026 11:32:25 @base.py:275]\u001b[0m Start Epoch 738 ...\n"
     ]
    },
    {
     "name": "stderr",
     "output_type": "stream",
     "text": [
      "100%|###################################################################################|175/175[00:05<00:00,32.22it/s]"
     ]
    },
    {
     "name": "stdout",
     "output_type": "stream",
     "text": [
      "\u001b[32m[1026 11:32:30 @base.py:285]\u001b[0m Epoch 738 (global_step 129150) finished, time:5.43 seconds.\n",
      "\u001b[32m[1026 11:32:30 @saver.py:79]\u001b[0m Model saved to ../output/Chicago/DATGAN2_1000/model\\model-129150.\n",
      "\u001b[32m[1026 11:32:31 @monitor.py:467]\u001b[0m GAN_loss/discrim/accuracy_fake: 0.97\n"
     ]
    },
    {
     "name": "stderr",
     "output_type": "stream",
     "text": [
      "\n"
     ]
    },
    {
     "name": "stdout",
     "output_type": "stream",
     "text": [
      "\u001b[32m[1026 11:32:31 @monitor.py:467]\u001b[0m GAN_loss/discrim/accuracy_real: 0.044\n",
      "\u001b[32m[1026 11:32:31 @monitor.py:467]\u001b[0m GAN_loss/discrim/loss: 0.64957\n",
      "\u001b[32m[1026 11:32:31 @monitor.py:467]\u001b[0m GAN_loss/gen/final-g-loss: 0.996\n",
      "\u001b[32m[1026 11:32:31 @monitor.py:467]\u001b[0m GAN_loss/gen/klloss: 0.057741\n",
      "\u001b[32m[1026 11:32:31 @monitor.py:467]\u001b[0m GAN_loss/gen/loss: 0.93826\n",
      "\u001b[32m[1026 11:32:31 @monitor.py:467]\u001b[0m QueueInput/queue_size: 50\n",
      "\u001b[32m[1026 11:32:31 @base.py:275]\u001b[0m Start Epoch 739 ...\n"
     ]
    },
    {
     "name": "stderr",
     "output_type": "stream",
     "text": [
      "100%|###################################################################################|175/175[00:05<00:00,32.20it/s]"
     ]
    },
    {
     "name": "stdout",
     "output_type": "stream",
     "text": [
      "\u001b[32m[1026 11:32:36 @base.py:285]\u001b[0m Epoch 739 (global_step 129325) finished, time:5.43 seconds.\n"
     ]
    },
    {
     "name": "stderr",
     "output_type": "stream",
     "text": [
      "\n"
     ]
    },
    {
     "name": "stdout",
     "output_type": "stream",
     "text": [
      "\u001b[32m[1026 11:32:36 @saver.py:79]\u001b[0m Model saved to ../output/Chicago/DATGAN2_1000/model\\model-129325.\n",
      "\u001b[32m[1026 11:32:36 @monitor.py:467]\u001b[0m GAN_loss/discrim/accuracy_fake: 0.972\n",
      "\u001b[32m[1026 11:32:36 @monitor.py:467]\u001b[0m GAN_loss/discrim/accuracy_real: 0.046\n",
      "\u001b[32m[1026 11:32:36 @monitor.py:467]\u001b[0m GAN_loss/discrim/loss: 0.64547\n",
      "\u001b[32m[1026 11:32:36 @monitor.py:467]\u001b[0m GAN_loss/gen/final-g-loss: 1.0469\n",
      "\u001b[32m[1026 11:32:36 @monitor.py:467]\u001b[0m GAN_loss/gen/klloss: 0.10416\n",
      "\u001b[32m[1026 11:32:36 @monitor.py:467]\u001b[0m GAN_loss/gen/loss: 0.94277\n",
      "\u001b[32m[1026 11:32:36 @monitor.py:467]\u001b[0m QueueInput/queue_size: 50\n",
      "\u001b[32m[1026 11:32:36 @base.py:275]\u001b[0m Start Epoch 740 ...\n"
     ]
    },
    {
     "name": "stderr",
     "output_type": "stream",
     "text": [
      "100%|###################################################################################|175/175[00:05<00:00,32.17it/s]"
     ]
    },
    {
     "name": "stdout",
     "output_type": "stream",
     "text": [
      "\u001b[32m[1026 11:32:42 @base.py:285]\u001b[0m Epoch 740 (global_step 129500) finished, time:5.44 seconds.\n",
      "\u001b[32m[1026 11:32:42 @saver.py:79]\u001b[0m Model saved to ../output/Chicago/DATGAN2_1000/model\\model-129500.\n"
     ]
    },
    {
     "name": "stderr",
     "output_type": "stream",
     "text": [
      "\n"
     ]
    },
    {
     "name": "stdout",
     "output_type": "stream",
     "text": [
      "\u001b[32m[1026 11:32:42 @monitor.py:467]\u001b[0m GAN_loss/discrim/accuracy_fake: 0.952\n",
      "\u001b[32m[1026 11:32:42 @monitor.py:467]\u001b[0m GAN_loss/discrim/accuracy_real: 0.036\n",
      "\u001b[32m[1026 11:32:42 @monitor.py:467]\u001b[0m GAN_loss/discrim/loss: 0.64933\n",
      "\u001b[32m[1026 11:32:42 @monitor.py:467]\u001b[0m GAN_loss/gen/final-g-loss: 1.01\n",
      "\u001b[32m[1026 11:32:42 @monitor.py:467]\u001b[0m GAN_loss/gen/klloss: 0.0745\n",
      "\u001b[32m[1026 11:32:42 @monitor.py:467]\u001b[0m GAN_loss/gen/loss: 0.93549\n",
      "\u001b[32m[1026 11:32:42 @monitor.py:467]\u001b[0m QueueInput/queue_size: 50\n",
      "\u001b[32m[1026 11:32:42 @base.py:275]\u001b[0m Start Epoch 741 ...\n"
     ]
    },
    {
     "name": "stderr",
     "output_type": "stream",
     "text": [
      "100%|###################################################################################|175/175[00:05<00:00,32.22it/s]"
     ]
    },
    {
     "name": "stdout",
     "output_type": "stream",
     "text": [
      "\u001b[32m[1026 11:32:47 @base.py:285]\u001b[0m Epoch 741 (global_step 129675) finished, time:5.43 seconds.\n"
     ]
    },
    {
     "name": "stderr",
     "output_type": "stream",
     "text": [
      "\n"
     ]
    },
    {
     "name": "stdout",
     "output_type": "stream",
     "text": [
      "\u001b[32m[1026 11:32:47 @saver.py:79]\u001b[0m Model saved to ../output/Chicago/DATGAN2_1000/model\\model-129675.\n",
      "\u001b[32m[1026 11:32:47 @monitor.py:467]\u001b[0m GAN_loss/discrim/accuracy_fake: 0.98\n",
      "\u001b[32m[1026 11:32:47 @monitor.py:467]\u001b[0m GAN_loss/discrim/accuracy_real: 0.052\n",
      "\u001b[32m[1026 11:32:48 @monitor.py:467]\u001b[0m GAN_loss/discrim/loss: 0.64985\n",
      "\u001b[32m[1026 11:32:48 @monitor.py:467]\u001b[0m GAN_loss/gen/final-g-loss: 1.006\n",
      "\u001b[32m[1026 11:32:48 @monitor.py:467]\u001b[0m GAN_loss/gen/klloss: 0.060034\n",
      "\u001b[32m[1026 11:32:48 @monitor.py:467]\u001b[0m GAN_loss/gen/loss: 0.946\n",
      "\u001b[32m[1026 11:32:48 @monitor.py:467]\u001b[0m QueueInput/queue_size: 50\n",
      "\u001b[32m[1026 11:32:48 @base.py:275]\u001b[0m Start Epoch 742 ...\n"
     ]
    },
    {
     "name": "stderr",
     "output_type": "stream",
     "text": [
      "100%|###################################################################################|175/175[00:05<00:00,31.54it/s]"
     ]
    },
    {
     "name": "stdout",
     "output_type": "stream",
     "text": [
      "\u001b[32m[1026 11:32:53 @base.py:285]\u001b[0m Epoch 742 (global_step 129850) finished, time:5.55 seconds.\n",
      "\u001b[32m[1026 11:32:53 @saver.py:79]\u001b[0m Model saved to ../output/Chicago/DATGAN2_1000/model\\model-129850.\n"
     ]
    },
    {
     "name": "stderr",
     "output_type": "stream",
     "text": [
      "\n"
     ]
    },
    {
     "name": "stdout",
     "output_type": "stream",
     "text": [
      "\u001b[32m[1026 11:32:53 @monitor.py:467]\u001b[0m GAN_loss/discrim/accuracy_fake: 0.976\n",
      "\u001b[32m[1026 11:32:53 @monitor.py:467]\u001b[0m GAN_loss/discrim/accuracy_real: 0.068\n",
      "\u001b[32m[1026 11:32:53 @monitor.py:467]\u001b[0m GAN_loss/discrim/loss: 0.64905\n",
      "\u001b[32m[1026 11:32:53 @monitor.py:467]\u001b[0m GAN_loss/gen/final-g-loss: 0.99945\n",
      "\u001b[32m[1026 11:32:53 @monitor.py:467]\u001b[0m GAN_loss/gen/klloss: 0.050502\n",
      "\u001b[32m[1026 11:32:53 @monitor.py:467]\u001b[0m GAN_loss/gen/loss: 0.94895\n",
      "\u001b[32m[1026 11:32:53 @monitor.py:467]\u001b[0m QueueInput/queue_size: 50\n",
      "\u001b[32m[1026 11:32:53 @base.py:275]\u001b[0m Start Epoch 743 ...\n"
     ]
    },
    {
     "name": "stderr",
     "output_type": "stream",
     "text": [
      "100%|###################################################################################|175/175[00:05<00:00,31.68it/s]"
     ]
    },
    {
     "name": "stdout",
     "output_type": "stream",
     "text": [
      "\u001b[32m[1026 11:32:59 @base.py:285]\u001b[0m Epoch 743 (global_step 130025) finished, time:5.53 seconds.\n",
      "\u001b[32m[1026 11:32:59 @saver.py:79]\u001b[0m Model saved to ../output/Chicago/DATGAN2_1000/model\\model-130025.\n"
     ]
    },
    {
     "name": "stderr",
     "output_type": "stream",
     "text": [
      "\n"
     ]
    },
    {
     "name": "stdout",
     "output_type": "stream",
     "text": [
      "\u001b[32m[1026 11:32:59 @monitor.py:467]\u001b[0m GAN_loss/discrim/accuracy_fake: 0.972\n",
      "\u001b[32m[1026 11:32:59 @monitor.py:467]\u001b[0m GAN_loss/discrim/accuracy_real: 0.032\n",
      "\u001b[32m[1026 11:32:59 @monitor.py:467]\u001b[0m GAN_loss/discrim/loss: 0.64887\n",
      "\u001b[32m[1026 11:32:59 @monitor.py:467]\u001b[0m GAN_loss/gen/final-g-loss: 0.99142\n",
      "\u001b[32m[1026 11:32:59 @monitor.py:467]\u001b[0m GAN_loss/gen/klloss: 0.050333\n",
      "\u001b[32m[1026 11:32:59 @monitor.py:467]\u001b[0m GAN_loss/gen/loss: 0.94109\n",
      "\u001b[32m[1026 11:32:59 @monitor.py:467]\u001b[0m QueueInput/queue_size: 50\n",
      "\u001b[32m[1026 11:32:59 @base.py:275]\u001b[0m Start Epoch 744 ...\n"
     ]
    },
    {
     "name": "stderr",
     "output_type": "stream",
     "text": [
      "100%|###################################################################################|175/175[00:05<00:00,31.28it/s]"
     ]
    },
    {
     "name": "stdout",
     "output_type": "stream",
     "text": [
      "\u001b[32m[1026 11:33:05 @base.py:285]\u001b[0m Epoch 744 (global_step 130200) finished, time:5.59 seconds.\n",
      "\u001b[32m[1026 11:33:05 @saver.py:79]\u001b[0m Model saved to ../output/Chicago/DATGAN2_1000/model\\model-130200.\n"
     ]
    },
    {
     "name": "stderr",
     "output_type": "stream",
     "text": [
      "\n"
     ]
    },
    {
     "name": "stdout",
     "output_type": "stream",
     "text": [
      "\u001b[32m[1026 11:33:05 @monitor.py:467]\u001b[0m GAN_loss/discrim/accuracy_fake: 0.97\n",
      "\u001b[32m[1026 11:33:05 @monitor.py:467]\u001b[0m GAN_loss/discrim/accuracy_real: 0.05\n",
      "\u001b[32m[1026 11:33:05 @monitor.py:467]\u001b[0m GAN_loss/discrim/loss: 0.64733\n",
      "\u001b[32m[1026 11:33:05 @monitor.py:467]\u001b[0m GAN_loss/gen/final-g-loss: 0.99749\n",
      "\u001b[32m[1026 11:33:05 @monitor.py:467]\u001b[0m GAN_loss/gen/klloss: 0.054287\n",
      "\u001b[32m[1026 11:33:05 @monitor.py:467]\u001b[0m GAN_loss/gen/loss: 0.9432\n",
      "\u001b[32m[1026 11:33:05 @monitor.py:467]\u001b[0m QueueInput/queue_size: 50\n",
      "\u001b[32m[1026 11:33:05 @base.py:275]\u001b[0m Start Epoch 745 ...\n"
     ]
    },
    {
     "name": "stderr",
     "output_type": "stream",
     "text": [
      "100%|###################################################################################|175/175[00:05<00:00,30.94it/s]"
     ]
    },
    {
     "name": "stdout",
     "output_type": "stream",
     "text": [
      "\u001b[32m[1026 11:33:10 @base.py:285]\u001b[0m Epoch 745 (global_step 130375) finished, time:5.66 seconds.\n",
      "\u001b[32m[1026 11:33:11 @saver.py:79]\u001b[0m Model saved to ../output/Chicago/DATGAN2_1000/model\\model-130375.\n"
     ]
    },
    {
     "name": "stderr",
     "output_type": "stream",
     "text": [
      "\n"
     ]
    },
    {
     "name": "stdout",
     "output_type": "stream",
     "text": [
      "\u001b[32m[1026 11:33:11 @monitor.py:467]\u001b[0m GAN_loss/discrim/accuracy_fake: 0.98\n",
      "\u001b[32m[1026 11:33:11 @monitor.py:467]\u001b[0m GAN_loss/discrim/accuracy_real: 0.056\n",
      "\u001b[32m[1026 11:33:11 @monitor.py:467]\u001b[0m GAN_loss/discrim/loss: 0.64555\n",
      "\u001b[32m[1026 11:33:11 @monitor.py:467]\u001b[0m GAN_loss/gen/final-g-loss: 1.0025\n",
      "\u001b[32m[1026 11:33:11 @monitor.py:467]\u001b[0m GAN_loss/gen/klloss: 0.055393\n",
      "\u001b[32m[1026 11:33:11 @monitor.py:467]\u001b[0m GAN_loss/gen/loss: 0.94714\n",
      "\u001b[32m[1026 11:33:11 @monitor.py:467]\u001b[0m QueueInput/queue_size: 50\n",
      "\u001b[32m[1026 11:33:11 @base.py:275]\u001b[0m Start Epoch 746 ...\n"
     ]
    },
    {
     "name": "stderr",
     "output_type": "stream",
     "text": [
      "100%|###################################################################################|175/175[00:05<00:00,31.94it/s]"
     ]
    },
    {
     "name": "stdout",
     "output_type": "stream",
     "text": [
      "\u001b[32m[1026 11:33:16 @base.py:285]\u001b[0m Epoch 746 (global_step 130550) finished, time:5.48 seconds.\n",
      "\u001b[32m[1026 11:33:16 @saver.py:79]\u001b[0m Model saved to ../output/Chicago/DATGAN2_1000/model\\model-130550.\n"
     ]
    },
    {
     "name": "stderr",
     "output_type": "stream",
     "text": [
      "\n"
     ]
    },
    {
     "name": "stdout",
     "output_type": "stream",
     "text": [
      "\u001b[32m[1026 11:33:16 @monitor.py:467]\u001b[0m GAN_loss/discrim/accuracy_fake: 0.98\n",
      "\u001b[32m[1026 11:33:16 @monitor.py:467]\u001b[0m GAN_loss/discrim/accuracy_real: 0.044\n",
      "\u001b[32m[1026 11:33:16 @monitor.py:467]\u001b[0m GAN_loss/discrim/loss: 0.64801\n",
      "\u001b[32m[1026 11:33:16 @monitor.py:467]\u001b[0m GAN_loss/gen/final-g-loss: 1.0291\n",
      "\u001b[32m[1026 11:33:16 @monitor.py:467]\u001b[0m GAN_loss/gen/klloss: 0.083056\n",
      "\u001b[32m[1026 11:33:16 @monitor.py:467]\u001b[0m GAN_loss/gen/loss: 0.94603\n",
      "\u001b[32m[1026 11:33:16 @monitor.py:467]\u001b[0m QueueInput/queue_size: 50\n",
      "\u001b[32m[1026 11:33:16 @base.py:275]\u001b[0m Start Epoch 747 ...\n"
     ]
    },
    {
     "name": "stderr",
     "output_type": "stream",
     "text": [
      "100%|###################################################################################|175/175[00:05<00:00,30.99it/s]"
     ]
    },
    {
     "name": "stdout",
     "output_type": "stream",
     "text": [
      "\u001b[32m[1026 11:33:22 @base.py:285]\u001b[0m Epoch 747 (global_step 130725) finished, time:5.65 seconds.\n",
      "\u001b[32m[1026 11:33:22 @saver.py:79]\u001b[0m Model saved to ../output/Chicago/DATGAN2_1000/model\\model-130725.\n"
     ]
    },
    {
     "name": "stderr",
     "output_type": "stream",
     "text": [
      "\n"
     ]
    },
    {
     "name": "stdout",
     "output_type": "stream",
     "text": [
      "\u001b[32m[1026 11:33:22 @monitor.py:467]\u001b[0m GAN_loss/discrim/accuracy_fake: 0.976\n",
      "\u001b[32m[1026 11:33:22 @monitor.py:467]\u001b[0m GAN_loss/discrim/accuracy_real: 0.038\n",
      "\u001b[32m[1026 11:33:22 @monitor.py:467]\u001b[0m GAN_loss/discrim/loss: 0.65091\n",
      "\u001b[32m[1026 11:33:22 @monitor.py:467]\u001b[0m GAN_loss/gen/final-g-loss: 1.0149\n",
      "\u001b[32m[1026 11:33:22 @monitor.py:467]\u001b[0m GAN_loss/gen/klloss: 0.073566\n",
      "\u001b[32m[1026 11:33:22 @monitor.py:467]\u001b[0m GAN_loss/gen/loss: 0.94135\n",
      "\u001b[32m[1026 11:33:22 @monitor.py:467]\u001b[0m QueueInput/queue_size: 50\n",
      "\u001b[32m[1026 11:33:22 @base.py:275]\u001b[0m Start Epoch 748 ...\n"
     ]
    },
    {
     "name": "stderr",
     "output_type": "stream",
     "text": [
      "100%|###################################################################################|175/175[00:05<00:00,31.74it/s]"
     ]
    },
    {
     "name": "stdout",
     "output_type": "stream",
     "text": [
      "\u001b[32m[1026 11:33:28 @base.py:285]\u001b[0m Epoch 748 (global_step 130900) finished, time:5.51 seconds.\n",
      "\u001b[32m[1026 11:33:28 @saver.py:79]\u001b[0m Model saved to ../output/Chicago/DATGAN2_1000/model\\model-130900.\n"
     ]
    },
    {
     "name": "stderr",
     "output_type": "stream",
     "text": [
      "\n"
     ]
    },
    {
     "name": "stdout",
     "output_type": "stream",
     "text": [
      "\u001b[32m[1026 11:33:28 @monitor.py:467]\u001b[0m GAN_loss/discrim/accuracy_fake: 0.968\n",
      "\u001b[32m[1026 11:33:28 @monitor.py:467]\u001b[0m GAN_loss/discrim/accuracy_real: 0.052\n",
      "\u001b[32m[1026 11:33:28 @monitor.py:467]\u001b[0m GAN_loss/discrim/loss: 0.6518\n",
      "\u001b[32m[1026 11:33:28 @monitor.py:467]\u001b[0m GAN_loss/gen/final-g-loss: 1.0126\n",
      "\u001b[32m[1026 11:33:28 @monitor.py:467]\u001b[0m GAN_loss/gen/klloss: 0.068332\n",
      "\u001b[32m[1026 11:33:28 @monitor.py:467]\u001b[0m GAN_loss/gen/loss: 0.94423\n",
      "\u001b[32m[1026 11:33:28 @monitor.py:467]\u001b[0m QueueInput/queue_size: 50\n",
      "\u001b[32m[1026 11:33:28 @base.py:275]\u001b[0m Start Epoch 749 ...\n"
     ]
    },
    {
     "name": "stderr",
     "output_type": "stream",
     "text": [
      "100%|###################################################################################|175/175[00:05<00:00,30.88it/s]"
     ]
    },
    {
     "name": "stdout",
     "output_type": "stream",
     "text": [
      "\u001b[32m[1026 11:33:34 @base.py:285]\u001b[0m Epoch 749 (global_step 131075) finished, time:5.67 seconds.\n",
      "\u001b[32m[1026 11:33:34 @saver.py:79]\u001b[0m Model saved to ../output/Chicago/DATGAN2_1000/model\\model-131075.\n"
     ]
    },
    {
     "name": "stderr",
     "output_type": "stream",
     "text": [
      "\n"
     ]
    },
    {
     "name": "stdout",
     "output_type": "stream",
     "text": [
      "\u001b[32m[1026 11:33:34 @monitor.py:467]\u001b[0m GAN_loss/discrim/accuracy_fake: 0.976\n",
      "\u001b[32m[1026 11:33:34 @monitor.py:467]\u001b[0m GAN_loss/discrim/accuracy_real: 0.054\n",
      "\u001b[32m[1026 11:33:34 @monitor.py:467]\u001b[0m GAN_loss/discrim/loss: 0.64606\n",
      "\u001b[32m[1026 11:33:34 @monitor.py:467]\u001b[0m GAN_loss/gen/final-g-loss: 1.036\n",
      "\u001b[32m[1026 11:33:34 @monitor.py:467]\u001b[0m GAN_loss/gen/klloss: 0.084007\n",
      "\u001b[32m[1026 11:33:34 @monitor.py:467]\u001b[0m GAN_loss/gen/loss: 0.95199\n",
      "\u001b[32m[1026 11:33:34 @monitor.py:467]\u001b[0m QueueInput/queue_size: 50\n",
      "\u001b[32m[1026 11:33:34 @base.py:275]\u001b[0m Start Epoch 750 ...\n"
     ]
    },
    {
     "name": "stderr",
     "output_type": "stream",
     "text": [
      "100%|###################################################################################|175/175[00:05<00:00,30.46it/s]"
     ]
    },
    {
     "name": "stdout",
     "output_type": "stream",
     "text": [
      "\u001b[32m[1026 11:33:40 @base.py:285]\u001b[0m Epoch 750 (global_step 131250) finished, time:5.75 seconds.\n",
      "\u001b[32m[1026 11:33:40 @saver.py:79]\u001b[0m Model saved to ../output/Chicago/DATGAN2_1000/model\\model-131250.\n"
     ]
    },
    {
     "name": "stderr",
     "output_type": "stream",
     "text": [
      "\n"
     ]
    },
    {
     "name": "stdout",
     "output_type": "stream",
     "text": [
      "\u001b[32m[1026 11:33:40 @monitor.py:467]\u001b[0m GAN_loss/discrim/accuracy_fake: 0.968\n",
      "\u001b[32m[1026 11:33:40 @monitor.py:467]\u001b[0m GAN_loss/discrim/accuracy_real: 0.038\n",
      "\u001b[32m[1026 11:33:40 @monitor.py:467]\u001b[0m GAN_loss/discrim/loss: 0.64698\n",
      "\u001b[32m[1026 11:33:40 @monitor.py:467]\u001b[0m GAN_loss/gen/final-g-loss: 1.0238\n",
      "\u001b[32m[1026 11:33:40 @monitor.py:467]\u001b[0m GAN_loss/gen/klloss: 0.073607\n",
      "\u001b[32m[1026 11:33:40 @monitor.py:467]\u001b[0m GAN_loss/gen/loss: 0.95024\n",
      "\u001b[32m[1026 11:33:40 @monitor.py:467]\u001b[0m QueueInput/queue_size: 50\n",
      "\u001b[32m[1026 11:33:40 @base.py:275]\u001b[0m Start Epoch 751 ...\n"
     ]
    },
    {
     "name": "stderr",
     "output_type": "stream",
     "text": [
      "100%|###################################################################################|175/175[00:05<00:00,30.45it/s]"
     ]
    },
    {
     "name": "stdout",
     "output_type": "stream",
     "text": [
      "\u001b[32m[1026 11:33:46 @base.py:285]\u001b[0m Epoch 751 (global_step 131425) finished, time:5.75 seconds.\n",
      "\u001b[32m[1026 11:33:46 @saver.py:79]\u001b[0m Model saved to ../output/Chicago/DATGAN2_1000/model\\model-131425.\n"
     ]
    },
    {
     "name": "stderr",
     "output_type": "stream",
     "text": [
      "\n"
     ]
    },
    {
     "name": "stdout",
     "output_type": "stream",
     "text": [
      "\u001b[32m[1026 11:33:46 @monitor.py:467]\u001b[0m GAN_loss/discrim/accuracy_fake: 0.968\n",
      "\u001b[32m[1026 11:33:46 @monitor.py:467]\u001b[0m GAN_loss/discrim/accuracy_real: 0.056\n",
      "\u001b[32m[1026 11:33:46 @monitor.py:467]\u001b[0m GAN_loss/discrim/loss: 0.64682\n",
      "\u001b[32m[1026 11:33:46 @monitor.py:467]\u001b[0m GAN_loss/gen/final-g-loss: 0.99988\n",
      "\u001b[32m[1026 11:33:46 @monitor.py:467]\u001b[0m GAN_loss/gen/klloss: 0.05131\n",
      "\u001b[32m[1026 11:33:46 @monitor.py:467]\u001b[0m GAN_loss/gen/loss: 0.94856\n",
      "\u001b[32m[1026 11:33:46 @monitor.py:467]\u001b[0m QueueInput/queue_size: 50\n",
      "\u001b[32m[1026 11:33:46 @base.py:275]\u001b[0m Start Epoch 752 ...\n"
     ]
    },
    {
     "name": "stderr",
     "output_type": "stream",
     "text": [
      "100%|###################################################################################|175/175[00:05<00:00,31.81it/s]"
     ]
    },
    {
     "name": "stdout",
     "output_type": "stream",
     "text": [
      "\u001b[32m[1026 11:33:51 @base.py:285]\u001b[0m Epoch 752 (global_step 131600) finished, time:5.5 seconds.\n",
      "\u001b[32m[1026 11:33:51 @saver.py:79]\u001b[0m Model saved to ../output/Chicago/DATGAN2_1000/model\\model-131600.\n"
     ]
    },
    {
     "name": "stderr",
     "output_type": "stream",
     "text": [
      "\n"
     ]
    },
    {
     "name": "stdout",
     "output_type": "stream",
     "text": [
      "\u001b[32m[1026 11:33:52 @monitor.py:467]\u001b[0m GAN_loss/discrim/accuracy_fake: 0.974\n",
      "\u001b[32m[1026 11:33:52 @monitor.py:467]\u001b[0m GAN_loss/discrim/accuracy_real: 0.034\n",
      "\u001b[32m[1026 11:33:52 @monitor.py:467]\u001b[0m GAN_loss/discrim/loss: 0.64697\n",
      "\u001b[32m[1026 11:33:52 @monitor.py:467]\u001b[0m GAN_loss/gen/final-g-loss: 1.0033\n",
      "\u001b[32m[1026 11:33:52 @monitor.py:467]\u001b[0m GAN_loss/gen/klloss: 0.053335\n",
      "\u001b[32m[1026 11:33:52 @monitor.py:467]\u001b[0m GAN_loss/gen/loss: 0.94995\n",
      "\u001b[32m[1026 11:33:52 @monitor.py:467]\u001b[0m QueueInput/queue_size: 50\n",
      "\u001b[32m[1026 11:33:52 @base.py:275]\u001b[0m Start Epoch 753 ...\n"
     ]
    },
    {
     "name": "stderr",
     "output_type": "stream",
     "text": [
      "100%|###################################################################################|175/175[00:05<00:00,31.77it/s]"
     ]
    },
    {
     "name": "stdout",
     "output_type": "stream",
     "text": [
      "\u001b[32m[1026 11:33:57 @base.py:285]\u001b[0m Epoch 753 (global_step 131775) finished, time:5.51 seconds.\n",
      "\u001b[32m[1026 11:33:57 @saver.py:79]\u001b[0m Model saved to ../output/Chicago/DATGAN2_1000/model\\model-131775.\n"
     ]
    },
    {
     "name": "stderr",
     "output_type": "stream",
     "text": [
      "\n"
     ]
    },
    {
     "name": "stdout",
     "output_type": "stream",
     "text": [
      "\u001b[32m[1026 11:33:57 @monitor.py:467]\u001b[0m GAN_loss/discrim/accuracy_fake: 0.966\n",
      "\u001b[32m[1026 11:33:57 @monitor.py:467]\u001b[0m GAN_loss/discrim/accuracy_real: 0.04\n",
      "\u001b[32m[1026 11:33:57 @monitor.py:467]\u001b[0m GAN_loss/discrim/loss: 0.64531\n",
      "\u001b[32m[1026 11:33:57 @monitor.py:467]\u001b[0m GAN_loss/gen/final-g-loss: 1.0023\n",
      "\u001b[32m[1026 11:33:57 @monitor.py:467]\u001b[0m GAN_loss/gen/klloss: 0.057822\n",
      "\u001b[32m[1026 11:33:57 @monitor.py:467]\u001b[0m GAN_loss/gen/loss: 0.94451\n",
      "\u001b[32m[1026 11:33:57 @monitor.py:467]\u001b[0m QueueInput/queue_size: 50\n",
      "\u001b[32m[1026 11:33:57 @base.py:275]\u001b[0m Start Epoch 754 ...\n"
     ]
    },
    {
     "name": "stderr",
     "output_type": "stream",
     "text": [
      "100%|###################################################################################|175/175[00:05<00:00,30.57it/s]"
     ]
    },
    {
     "name": "stdout",
     "output_type": "stream",
     "text": [
      "\u001b[32m[1026 11:34:03 @base.py:285]\u001b[0m Epoch 754 (global_step 131950) finished, time:5.72 seconds.\n",
      "\u001b[32m[1026 11:34:03 @saver.py:79]\u001b[0m Model saved to ../output/Chicago/DATGAN2_1000/model\\model-131950.\n"
     ]
    },
    {
     "name": "stderr",
     "output_type": "stream",
     "text": [
      "\n"
     ]
    },
    {
     "name": "stdout",
     "output_type": "stream",
     "text": [
      "\u001b[32m[1026 11:34:03 @monitor.py:467]\u001b[0m GAN_loss/discrim/accuracy_fake: 0.974\n",
      "\u001b[32m[1026 11:34:03 @monitor.py:467]\u001b[0m GAN_loss/discrim/accuracy_real: 0.042\n",
      "\u001b[32m[1026 11:34:03 @monitor.py:467]\u001b[0m GAN_loss/discrim/loss: 0.65064\n",
      "\u001b[32m[1026 11:34:03 @monitor.py:467]\u001b[0m GAN_loss/gen/final-g-loss: 1.013\n",
      "\u001b[32m[1026 11:34:03 @monitor.py:467]\u001b[0m GAN_loss/gen/klloss: 0.06015\n",
      "\u001b[32m[1026 11:34:03 @monitor.py:467]\u001b[0m GAN_loss/gen/loss: 0.95289\n",
      "\u001b[32m[1026 11:34:03 @monitor.py:467]\u001b[0m QueueInput/queue_size: 50\n",
      "\u001b[32m[1026 11:34:03 @base.py:275]\u001b[0m Start Epoch 755 ...\n"
     ]
    },
    {
     "name": "stderr",
     "output_type": "stream",
     "text": [
      "100%|###################################################################################|175/175[00:05<00:00,30.68it/s]"
     ]
    },
    {
     "name": "stdout",
     "output_type": "stream",
     "text": [
      "\u001b[32m[1026 11:34:09 @base.py:285]\u001b[0m Epoch 755 (global_step 132125) finished, time:5.7 seconds.\n",
      "\u001b[32m[1026 11:34:09 @saver.py:79]\u001b[0m Model saved to ../output/Chicago/DATGAN2_1000/model\\model-132125.\n"
     ]
    },
    {
     "name": "stderr",
     "output_type": "stream",
     "text": [
      "\n"
     ]
    },
    {
     "name": "stdout",
     "output_type": "stream",
     "text": [
      "\u001b[32m[1026 11:34:09 @monitor.py:467]\u001b[0m GAN_loss/discrim/accuracy_fake: 0.974\n",
      "\u001b[32m[1026 11:34:09 @monitor.py:467]\u001b[0m GAN_loss/discrim/accuracy_real: 0.034\n",
      "\u001b[32m[1026 11:34:09 @monitor.py:467]\u001b[0m GAN_loss/discrim/loss: 0.64789\n",
      "\u001b[32m[1026 11:34:09 @monitor.py:467]\u001b[0m GAN_loss/gen/final-g-loss: 0.98041\n",
      "\u001b[32m[1026 11:34:09 @monitor.py:467]\u001b[0m GAN_loss/gen/klloss: 0.036137\n",
      "\u001b[32m[1026 11:34:09 @monitor.py:467]\u001b[0m GAN_loss/gen/loss: 0.94427\n",
      "\u001b[32m[1026 11:34:09 @monitor.py:467]\u001b[0m QueueInput/queue_size: 50\n",
      "\u001b[32m[1026 11:34:09 @base.py:275]\u001b[0m Start Epoch 756 ...\n"
     ]
    },
    {
     "name": "stderr",
     "output_type": "stream",
     "text": [
      "100%|###################################################################################|175/175[00:05<00:00,31.37it/s]"
     ]
    },
    {
     "name": "stdout",
     "output_type": "stream",
     "text": [
      "\u001b[32m[1026 11:34:15 @base.py:285]\u001b[0m Epoch 756 (global_step 132300) finished, time:5.58 seconds.\n",
      "\u001b[32m[1026 11:34:15 @saver.py:79]\u001b[0m Model saved to ../output/Chicago/DATGAN2_1000/model\\model-132300.\n"
     ]
    },
    {
     "name": "stderr",
     "output_type": "stream",
     "text": [
      "\n"
     ]
    },
    {
     "name": "stdout",
     "output_type": "stream",
     "text": [
      "\u001b[32m[1026 11:34:15 @monitor.py:467]\u001b[0m GAN_loss/discrim/accuracy_fake: 0.976\n",
      "\u001b[32m[1026 11:34:15 @monitor.py:467]\u001b[0m GAN_loss/discrim/accuracy_real: 0.05\n",
      "\u001b[32m[1026 11:34:15 @monitor.py:467]\u001b[0m GAN_loss/discrim/loss: 0.64897\n",
      "\u001b[32m[1026 11:34:15 @monitor.py:467]\u001b[0m GAN_loss/gen/final-g-loss: 1.0089\n",
      "\u001b[32m[1026 11:34:15 @monitor.py:467]\u001b[0m GAN_loss/gen/klloss: 0.066975\n",
      "\u001b[32m[1026 11:34:15 @monitor.py:467]\u001b[0m GAN_loss/gen/loss: 0.94188\n",
      "\u001b[32m[1026 11:34:15 @monitor.py:467]\u001b[0m QueueInput/queue_size: 50\n",
      "\u001b[32m[1026 11:34:15 @base.py:275]\u001b[0m Start Epoch 757 ...\n"
     ]
    },
    {
     "name": "stderr",
     "output_type": "stream",
     "text": [
      "100%|###################################################################################|175/175[00:05<00:00,30.77it/s]"
     ]
    },
    {
     "name": "stdout",
     "output_type": "stream",
     "text": [
      "\u001b[32m[1026 11:34:21 @base.py:285]\u001b[0m Epoch 757 (global_step 132475) finished, time:5.69 seconds.\n",
      "\u001b[32m[1026 11:34:21 @saver.py:79]\u001b[0m Model saved to ../output/Chicago/DATGAN2_1000/model\\model-132475.\n"
     ]
    },
    {
     "name": "stderr",
     "output_type": "stream",
     "text": [
      "\n"
     ]
    },
    {
     "name": "stdout",
     "output_type": "stream",
     "text": [
      "\u001b[32m[1026 11:34:21 @monitor.py:467]\u001b[0m GAN_loss/discrim/accuracy_fake: 0.968\n",
      "\u001b[32m[1026 11:34:21 @monitor.py:467]\u001b[0m GAN_loss/discrim/accuracy_real: 0.044\n",
      "\u001b[32m[1026 11:34:21 @monitor.py:467]\u001b[0m GAN_loss/discrim/loss: 0.65152\n",
      "\u001b[32m[1026 11:34:21 @monitor.py:467]\u001b[0m GAN_loss/gen/final-g-loss: 0.9924\n",
      "\u001b[32m[1026 11:34:21 @monitor.py:467]\u001b[0m GAN_loss/gen/klloss: 0.050454\n",
      "\u001b[32m[1026 11:34:21 @monitor.py:467]\u001b[0m GAN_loss/gen/loss: 0.94195\n",
      "\u001b[32m[1026 11:34:21 @monitor.py:467]\u001b[0m QueueInput/queue_size: 50\n",
      "\u001b[32m[1026 11:34:21 @base.py:275]\u001b[0m Start Epoch 758 ...\n"
     ]
    },
    {
     "name": "stderr",
     "output_type": "stream",
     "text": [
      "100%|###################################################################################|175/175[00:05<00:00,30.58it/s]"
     ]
    },
    {
     "name": "stdout",
     "output_type": "stream",
     "text": [
      "\u001b[32m[1026 11:34:27 @base.py:285]\u001b[0m Epoch 758 (global_step 132650) finished, time:5.72 seconds.\n",
      "\u001b[32m[1026 11:34:27 @saver.py:79]\u001b[0m Model saved to ../output/Chicago/DATGAN2_1000/model\\model-132650.\n"
     ]
    },
    {
     "name": "stderr",
     "output_type": "stream",
     "text": [
      "\n"
     ]
    },
    {
     "name": "stdout",
     "output_type": "stream",
     "text": [
      "\u001b[32m[1026 11:34:27 @monitor.py:467]\u001b[0m GAN_loss/discrim/accuracy_fake: 0.966\n",
      "\u001b[32m[1026 11:34:27 @monitor.py:467]\u001b[0m GAN_loss/discrim/accuracy_real: 0.038\n",
      "\u001b[32m[1026 11:34:27 @monitor.py:467]\u001b[0m GAN_loss/discrim/loss: 0.64962\n",
      "\u001b[32m[1026 11:34:27 @monitor.py:467]\u001b[0m GAN_loss/gen/final-g-loss: 1.0054\n",
      "\u001b[32m[1026 11:34:27 @monitor.py:467]\u001b[0m GAN_loss/gen/klloss: 0.060312\n",
      "\u001b[32m[1026 11:34:27 @monitor.py:467]\u001b[0m GAN_loss/gen/loss: 0.94513\n",
      "\u001b[32m[1026 11:34:27 @monitor.py:467]\u001b[0m QueueInput/queue_size: 50\n",
      "\u001b[32m[1026 11:34:27 @base.py:275]\u001b[0m Start Epoch 759 ...\n"
     ]
    },
    {
     "name": "stderr",
     "output_type": "stream",
     "text": [
      "100%|###################################################################################|175/175[00:05<00:00,30.60it/s]"
     ]
    },
    {
     "name": "stdout",
     "output_type": "stream",
     "text": [
      "\u001b[32m[1026 11:34:32 @base.py:285]\u001b[0m Epoch 759 (global_step 132825) finished, time:5.72 seconds.\n",
      "\u001b[32m[1026 11:34:33 @saver.py:79]\u001b[0m Model saved to ../output/Chicago/DATGAN2_1000/model\\model-132825.\n"
     ]
    },
    {
     "name": "stderr",
     "output_type": "stream",
     "text": [
      "\n"
     ]
    },
    {
     "name": "stdout",
     "output_type": "stream",
     "text": [
      "\u001b[32m[1026 11:34:33 @monitor.py:467]\u001b[0m GAN_loss/discrim/accuracy_fake: 0.974\n",
      "\u001b[32m[1026 11:34:33 @monitor.py:467]\u001b[0m GAN_loss/discrim/accuracy_real: 0.048\n",
      "\u001b[32m[1026 11:34:33 @monitor.py:467]\u001b[0m GAN_loss/discrim/loss: 0.64759\n",
      "\u001b[32m[1026 11:34:33 @monitor.py:467]\u001b[0m GAN_loss/gen/final-g-loss: 0.99471\n",
      "\u001b[32m[1026 11:34:33 @monitor.py:467]\u001b[0m GAN_loss/gen/klloss: 0.047577\n",
      "\u001b[32m[1026 11:34:33 @monitor.py:467]\u001b[0m GAN_loss/gen/loss: 0.94714\n",
      "\u001b[32m[1026 11:34:33 @monitor.py:467]\u001b[0m QueueInput/queue_size: 50\n",
      "\u001b[32m[1026 11:34:33 @base.py:275]\u001b[0m Start Epoch 760 ...\n"
     ]
    },
    {
     "name": "stderr",
     "output_type": "stream",
     "text": [
      "100%|###################################################################################|175/175[00:05<00:00,30.30it/s]"
     ]
    },
    {
     "name": "stdout",
     "output_type": "stream",
     "text": [
      "\u001b[32m[1026 11:34:38 @base.py:285]\u001b[0m Epoch 760 (global_step 133000) finished, time:5.78 seconds.\n",
      "\u001b[32m[1026 11:34:39 @saver.py:79]\u001b[0m Model saved to ../output/Chicago/DATGAN2_1000/model\\model-133000.\n"
     ]
    },
    {
     "name": "stderr",
     "output_type": "stream",
     "text": [
      "\n"
     ]
    },
    {
     "name": "stdout",
     "output_type": "stream",
     "text": [
      "\u001b[32m[1026 11:34:39 @monitor.py:467]\u001b[0m GAN_loss/discrim/accuracy_fake: 0.976\n",
      "\u001b[32m[1026 11:34:39 @monitor.py:467]\u001b[0m GAN_loss/discrim/accuracy_real: 0.038\n",
      "\u001b[32m[1026 11:34:39 @monitor.py:467]\u001b[0m GAN_loss/discrim/loss: 0.64872\n",
      "\u001b[32m[1026 11:34:39 @monitor.py:467]\u001b[0m GAN_loss/gen/final-g-loss: 1.0157\n",
      "\u001b[32m[1026 11:34:39 @monitor.py:467]\u001b[0m GAN_loss/gen/klloss: 0.068719\n",
      "\u001b[32m[1026 11:34:39 @monitor.py:467]\u001b[0m GAN_loss/gen/loss: 0.94696\n",
      "\u001b[32m[1026 11:34:39 @monitor.py:467]\u001b[0m QueueInput/queue_size: 50\n",
      "\u001b[32m[1026 11:34:39 @base.py:275]\u001b[0m Start Epoch 761 ...\n"
     ]
    },
    {
     "name": "stderr",
     "output_type": "stream",
     "text": [
      "100%|###################################################################################|175/175[00:05<00:00,32.23it/s]"
     ]
    },
    {
     "name": "stdout",
     "output_type": "stream",
     "text": [
      "\u001b[32m[1026 11:34:44 @base.py:285]\u001b[0m Epoch 761 (global_step 133175) finished, time:5.43 seconds.\n",
      "\u001b[32m[1026 11:34:44 @saver.py:79]\u001b[0m Model saved to ../output/Chicago/DATGAN2_1000/model\\model-133175.\n"
     ]
    },
    {
     "name": "stderr",
     "output_type": "stream",
     "text": [
      "\n"
     ]
    },
    {
     "name": "stdout",
     "output_type": "stream",
     "text": [
      "\u001b[32m[1026 11:34:44 @monitor.py:467]\u001b[0m GAN_loss/discrim/accuracy_fake: 0.96\n",
      "\u001b[32m[1026 11:34:44 @monitor.py:467]\u001b[0m GAN_loss/discrim/accuracy_real: 0.058\n",
      "\u001b[32m[1026 11:34:44 @monitor.py:467]\u001b[0m GAN_loss/discrim/loss: 0.64948\n",
      "\u001b[32m[1026 11:34:44 @monitor.py:467]\u001b[0m GAN_loss/gen/final-g-loss: 0.99278\n",
      "\u001b[32m[1026 11:34:44 @monitor.py:467]\u001b[0m GAN_loss/gen/klloss: 0.047216\n",
      "\u001b[32m[1026 11:34:44 @monitor.py:467]\u001b[0m GAN_loss/gen/loss: 0.94557\n",
      "\u001b[32m[1026 11:34:44 @monitor.py:467]\u001b[0m QueueInput/queue_size: 50\n",
      "\u001b[32m[1026 11:34:44 @base.py:275]\u001b[0m Start Epoch 762 ...\n"
     ]
    },
    {
     "name": "stderr",
     "output_type": "stream",
     "text": [
      "100%|###################################################################################|175/175[00:05<00:00,32.33it/s]"
     ]
    },
    {
     "name": "stdout",
     "output_type": "stream",
     "text": [
      "\u001b[32m[1026 11:34:50 @base.py:285]\u001b[0m Epoch 762 (global_step 133350) finished, time:5.41 seconds.\n"
     ]
    },
    {
     "name": "stderr",
     "output_type": "stream",
     "text": [
      "\n"
     ]
    },
    {
     "name": "stdout",
     "output_type": "stream",
     "text": [
      "\u001b[32m[1026 11:34:50 @saver.py:79]\u001b[0m Model saved to ../output/Chicago/DATGAN2_1000/model\\model-133350.\n",
      "\u001b[32m[1026 11:34:50 @monitor.py:467]\u001b[0m GAN_loss/discrim/accuracy_fake: 0.97\n",
      "\u001b[32m[1026 11:34:50 @monitor.py:467]\u001b[0m GAN_loss/discrim/accuracy_real: 0.036\n",
      "\u001b[32m[1026 11:34:50 @monitor.py:467]\u001b[0m GAN_loss/discrim/loss: 0.64539\n",
      "\u001b[32m[1026 11:34:50 @monitor.py:467]\u001b[0m GAN_loss/gen/final-g-loss: 0.99353\n",
      "\u001b[32m[1026 11:34:50 @monitor.py:467]\u001b[0m GAN_loss/gen/klloss: 0.043614\n",
      "\u001b[32m[1026 11:34:50 @monitor.py:467]\u001b[0m GAN_loss/gen/loss: 0.94992\n",
      "\u001b[32m[1026 11:34:50 @monitor.py:467]\u001b[0m QueueInput/queue_size: 50\n",
      "\u001b[32m[1026 11:34:50 @base.py:275]\u001b[0m Start Epoch 763 ...\n"
     ]
    },
    {
     "name": "stderr",
     "output_type": "stream",
     "text": [
      "100%|###################################################################################|175/175[00:05<00:00,32.28it/s]"
     ]
    },
    {
     "name": "stdout",
     "output_type": "stream",
     "text": [
      "\u001b[32m[1026 11:34:55 @base.py:285]\u001b[0m Epoch 763 (global_step 133525) finished, time:5.42 seconds.\n",
      "\u001b[32m[1026 11:34:55 @saver.py:79]\u001b[0m Model saved to ../output/Chicago/DATGAN2_1000/model\\model-133525.\n"
     ]
    },
    {
     "name": "stderr",
     "output_type": "stream",
     "text": [
      "\n"
     ]
    },
    {
     "name": "stdout",
     "output_type": "stream",
     "text": [
      "\u001b[32m[1026 11:34:56 @monitor.py:467]\u001b[0m GAN_loss/discrim/accuracy_fake: 0.96\n",
      "\u001b[32m[1026 11:34:56 @monitor.py:467]\u001b[0m GAN_loss/discrim/accuracy_real: 0.042\n",
      "\u001b[32m[1026 11:34:56 @monitor.py:467]\u001b[0m GAN_loss/discrim/loss: 0.65233\n",
      "\u001b[32m[1026 11:34:56 @monitor.py:467]\u001b[0m GAN_loss/gen/final-g-loss: 0.98972\n",
      "\u001b[32m[1026 11:34:56 @monitor.py:467]\u001b[0m GAN_loss/gen/klloss: 0.057591\n",
      "\u001b[32m[1026 11:34:56 @monitor.py:467]\u001b[0m GAN_loss/gen/loss: 0.93213\n",
      "\u001b[32m[1026 11:34:56 @monitor.py:467]\u001b[0m QueueInput/queue_size: 50\n",
      "\u001b[32m[1026 11:34:56 @base.py:275]\u001b[0m Start Epoch 764 ...\n"
     ]
    },
    {
     "name": "stderr",
     "output_type": "stream",
     "text": [
      "100%|###################################################################################|175/175[00:05<00:00,32.36it/s]"
     ]
    },
    {
     "name": "stdout",
     "output_type": "stream",
     "text": [
      "\u001b[32m[1026 11:35:01 @base.py:285]\u001b[0m Epoch 764 (global_step 133700) finished, time:5.41 seconds.\n"
     ]
    },
    {
     "name": "stderr",
     "output_type": "stream",
     "text": [
      "\n"
     ]
    },
    {
     "name": "stdout",
     "output_type": "stream",
     "text": [
      "\u001b[32m[1026 11:35:01 @saver.py:79]\u001b[0m Model saved to ../output/Chicago/DATGAN2_1000/model\\model-133700.\n",
      "\u001b[32m[1026 11:35:01 @monitor.py:467]\u001b[0m GAN_loss/discrim/accuracy_fake: 0.956\n",
      "\u001b[32m[1026 11:35:01 @monitor.py:467]\u001b[0m GAN_loss/discrim/accuracy_real: 0.04\n",
      "\u001b[32m[1026 11:35:01 @monitor.py:467]\u001b[0m GAN_loss/discrim/loss: 0.65152\n",
      "\u001b[32m[1026 11:35:01 @monitor.py:467]\u001b[0m GAN_loss/gen/final-g-loss: 1.0295\n",
      "\u001b[32m[1026 11:35:01 @monitor.py:467]\u001b[0m GAN_loss/gen/klloss: 0.08868\n",
      "\u001b[32m[1026 11:35:01 @monitor.py:467]\u001b[0m GAN_loss/gen/loss: 0.94082\n",
      "\u001b[32m[1026 11:35:01 @monitor.py:467]\u001b[0m QueueInput/queue_size: 50\n",
      "\u001b[32m[1026 11:35:01 @base.py:275]\u001b[0m Start Epoch 765 ...\n"
     ]
    },
    {
     "name": "stderr",
     "output_type": "stream",
     "text": [
      "100%|###################################################################################|175/175[00:05<00:00,32.29it/s]"
     ]
    },
    {
     "name": "stdout",
     "output_type": "stream",
     "text": [
      "\u001b[32m[1026 11:35:07 @base.py:285]\u001b[0m Epoch 765 (global_step 133875) finished, time:5.42 seconds.\n",
      "\u001b[32m[1026 11:35:07 @saver.py:79]\u001b[0m Model saved to ../output/Chicago/DATGAN2_1000/model\\model-133875.\n"
     ]
    },
    {
     "name": "stderr",
     "output_type": "stream",
     "text": [
      "\n"
     ]
    },
    {
     "name": "stdout",
     "output_type": "stream",
     "text": [
      "\u001b[32m[1026 11:35:07 @monitor.py:467]\u001b[0m GAN_loss/discrim/accuracy_fake: 0.974\n",
      "\u001b[32m[1026 11:35:07 @monitor.py:467]\u001b[0m GAN_loss/discrim/accuracy_real: 0.06\n",
      "\u001b[32m[1026 11:35:07 @monitor.py:467]\u001b[0m GAN_loss/discrim/loss: 0.64678\n",
      "\u001b[32m[1026 11:35:07 @monitor.py:467]\u001b[0m GAN_loss/gen/final-g-loss: 1.0071\n",
      "\u001b[32m[1026 11:35:07 @monitor.py:467]\u001b[0m GAN_loss/gen/klloss: 0.06429\n",
      "\u001b[32m[1026 11:35:07 @monitor.py:467]\u001b[0m GAN_loss/gen/loss: 0.94278\n",
      "\u001b[32m[1026 11:35:07 @monitor.py:467]\u001b[0m QueueInput/queue_size: 50\n",
      "\u001b[32m[1026 11:35:07 @base.py:275]\u001b[0m Start Epoch 766 ...\n"
     ]
    },
    {
     "name": "stderr",
     "output_type": "stream",
     "text": [
      "100%|###################################################################################|175/175[00:05<00:00,32.33it/s]"
     ]
    },
    {
     "name": "stdout",
     "output_type": "stream",
     "text": [
      "\u001b[32m[1026 11:35:12 @base.py:285]\u001b[0m Epoch 766 (global_step 134050) finished, time:5.41 seconds.\n"
     ]
    },
    {
     "name": "stderr",
     "output_type": "stream",
     "text": [
      "\n"
     ]
    },
    {
     "name": "stdout",
     "output_type": "stream",
     "text": [
      "\u001b[32m[1026 11:35:12 @saver.py:79]\u001b[0m Model saved to ../output/Chicago/DATGAN2_1000/model\\model-134050.\n",
      "\u001b[32m[1026 11:35:13 @monitor.py:467]\u001b[0m GAN_loss/discrim/accuracy_fake: 0.97\n",
      "\u001b[32m[1026 11:35:13 @monitor.py:467]\u001b[0m GAN_loss/discrim/accuracy_real: 0.048\n",
      "\u001b[32m[1026 11:35:13 @monitor.py:467]\u001b[0m GAN_loss/discrim/loss: 0.64861\n",
      "\u001b[32m[1026 11:35:13 @monitor.py:467]\u001b[0m GAN_loss/gen/final-g-loss: 1.0014\n",
      "\u001b[32m[1026 11:35:13 @monitor.py:467]\u001b[0m GAN_loss/gen/klloss: 0.055567\n",
      "\u001b[32m[1026 11:35:13 @monitor.py:467]\u001b[0m GAN_loss/gen/loss: 0.94581\n",
      "\u001b[32m[1026 11:35:13 @monitor.py:467]\u001b[0m QueueInput/queue_size: 50\n",
      "\u001b[32m[1026 11:35:13 @base.py:275]\u001b[0m Start Epoch 767 ...\n"
     ]
    },
    {
     "name": "stderr",
     "output_type": "stream",
     "text": [
      "100%|###################################################################################|175/175[00:05<00:00,32.33it/s]"
     ]
    },
    {
     "name": "stdout",
     "output_type": "stream",
     "text": [
      "\u001b[32m[1026 11:35:18 @base.py:285]\u001b[0m Epoch 767 (global_step 134225) finished, time:5.41 seconds.\n",
      "\u001b[32m[1026 11:35:18 @saver.py:79]\u001b[0m Model saved to ../output/Chicago/DATGAN2_1000/model\\model-134225.\n"
     ]
    },
    {
     "name": "stderr",
     "output_type": "stream",
     "text": [
      "\n"
     ]
    },
    {
     "name": "stdout",
     "output_type": "stream",
     "text": [
      "\u001b[32m[1026 11:35:18 @monitor.py:467]\u001b[0m GAN_loss/discrim/accuracy_fake: 0.98\n",
      "\u001b[32m[1026 11:35:18 @monitor.py:467]\u001b[0m GAN_loss/discrim/accuracy_real: 0.056\n",
      "\u001b[32m[1026 11:35:18 @monitor.py:467]\u001b[0m GAN_loss/discrim/loss: 0.64924\n",
      "\u001b[32m[1026 11:35:18 @monitor.py:467]\u001b[0m GAN_loss/gen/final-g-loss: 1.0062\n",
      "\u001b[32m[1026 11:35:18 @monitor.py:467]\u001b[0m GAN_loss/gen/klloss: 0.064555\n",
      "\u001b[32m[1026 11:35:18 @monitor.py:467]\u001b[0m GAN_loss/gen/loss: 0.94164\n",
      "\u001b[32m[1026 11:35:18 @monitor.py:467]\u001b[0m QueueInput/queue_size: 50\n",
      "\u001b[32m[1026 11:35:18 @base.py:275]\u001b[0m Start Epoch 768 ...\n"
     ]
    },
    {
     "name": "stderr",
     "output_type": "stream",
     "text": [
      "100%|###################################################################################|175/175[00:05<00:00,32.35it/s]"
     ]
    },
    {
     "name": "stdout",
     "output_type": "stream",
     "text": [
      "\u001b[32m[1026 11:35:24 @base.py:285]\u001b[0m Epoch 768 (global_step 134400) finished, time:5.41 seconds.\n"
     ]
    },
    {
     "name": "stderr",
     "output_type": "stream",
     "text": [
      "\n"
     ]
    },
    {
     "name": "stdout",
     "output_type": "stream",
     "text": [
      "\u001b[32m[1026 11:35:24 @saver.py:79]\u001b[0m Model saved to ../output/Chicago/DATGAN2_1000/model\\model-134400.\n",
      "\u001b[32m[1026 11:35:24 @monitor.py:467]\u001b[0m GAN_loss/discrim/accuracy_fake: 0.982\n",
      "\u001b[32m[1026 11:35:24 @monitor.py:467]\u001b[0m GAN_loss/discrim/accuracy_real: 0.028\n",
      "\u001b[32m[1026 11:35:24 @monitor.py:467]\u001b[0m GAN_loss/discrim/loss: 0.64397\n",
      "\u001b[32m[1026 11:35:24 @monitor.py:467]\u001b[0m GAN_loss/gen/final-g-loss: 1.0167\n",
      "\u001b[32m[1026 11:35:24 @monitor.py:467]\u001b[0m GAN_loss/gen/klloss: 0.069349\n",
      "\u001b[32m[1026 11:35:24 @monitor.py:467]\u001b[0m GAN_loss/gen/loss: 0.94733\n",
      "\u001b[32m[1026 11:35:24 @monitor.py:467]\u001b[0m QueueInput/queue_size: 50\n",
      "\u001b[32m[1026 11:35:24 @base.py:275]\u001b[0m Start Epoch 769 ...\n"
     ]
    },
    {
     "name": "stderr",
     "output_type": "stream",
     "text": [
      "100%|###################################################################################|175/175[00:05<00:00,32.27it/s]"
     ]
    },
    {
     "name": "stdout",
     "output_type": "stream",
     "text": [
      "\u001b[32m[1026 11:35:29 @base.py:285]\u001b[0m Epoch 769 (global_step 134575) finished, time:5.42 seconds.\n",
      "\u001b[32m[1026 11:35:29 @saver.py:79]\u001b[0m Model saved to ../output/Chicago/DATGAN2_1000/model\\model-134575.\n"
     ]
    },
    {
     "name": "stderr",
     "output_type": "stream",
     "text": [
      "\n"
     ]
    },
    {
     "name": "stdout",
     "output_type": "stream",
     "text": [
      "\u001b[32m[1026 11:35:29 @monitor.py:467]\u001b[0m GAN_loss/discrim/accuracy_fake: 0.966\n",
      "\u001b[32m[1026 11:35:29 @monitor.py:467]\u001b[0m GAN_loss/discrim/accuracy_real: 0.05\n",
      "\u001b[32m[1026 11:35:29 @monitor.py:467]\u001b[0m GAN_loss/discrim/loss: 0.64715\n",
      "\u001b[32m[1026 11:35:29 @monitor.py:467]\u001b[0m GAN_loss/gen/final-g-loss: 0.9985\n",
      "\u001b[32m[1026 11:35:29 @monitor.py:467]\u001b[0m GAN_loss/gen/klloss: 0.049231\n",
      "\u001b[32m[1026 11:35:29 @monitor.py:467]\u001b[0m GAN_loss/gen/loss: 0.94927\n",
      "\u001b[32m[1026 11:35:29 @monitor.py:467]\u001b[0m QueueInput/queue_size: 50\n",
      "\u001b[32m[1026 11:35:29 @base.py:275]\u001b[0m Start Epoch 770 ...\n"
     ]
    },
    {
     "name": "stderr",
     "output_type": "stream",
     "text": [
      "100%|###################################################################################|175/175[00:05<00:00,32.35it/s]"
     ]
    },
    {
     "name": "stdout",
     "output_type": "stream",
     "text": [
      "\u001b[32m[1026 11:35:35 @base.py:285]\u001b[0m Epoch 770 (global_step 134750) finished, time:5.41 seconds.\n"
     ]
    },
    {
     "name": "stderr",
     "output_type": "stream",
     "text": [
      "\n"
     ]
    },
    {
     "name": "stdout",
     "output_type": "stream",
     "text": [
      "\u001b[32m[1026 11:35:35 @saver.py:79]\u001b[0m Model saved to ../output/Chicago/DATGAN2_1000/model\\model-134750.\n",
      "\u001b[32m[1026 11:35:35 @monitor.py:467]\u001b[0m GAN_loss/discrim/accuracy_fake: 0.976\n",
      "\u001b[32m[1026 11:35:35 @monitor.py:467]\u001b[0m GAN_loss/discrim/accuracy_real: 0.028\n",
      "\u001b[32m[1026 11:35:35 @monitor.py:467]\u001b[0m GAN_loss/discrim/loss: 0.65053\n",
      "\u001b[32m[1026 11:35:35 @monitor.py:467]\u001b[0m GAN_loss/gen/final-g-loss: 1.042\n",
      "\u001b[32m[1026 11:35:35 @monitor.py:467]\u001b[0m GAN_loss/gen/klloss: 0.091848\n",
      "\u001b[32m[1026 11:35:35 @monitor.py:467]\u001b[0m GAN_loss/gen/loss: 0.9502\n",
      "\u001b[32m[1026 11:35:35 @monitor.py:467]\u001b[0m QueueInput/queue_size: 50\n",
      "\u001b[32m[1026 11:35:35 @base.py:275]\u001b[0m Start Epoch 771 ...\n"
     ]
    },
    {
     "name": "stderr",
     "output_type": "stream",
     "text": [
      "100%|###################################################################################|175/175[00:05<00:00,32.31it/s]"
     ]
    },
    {
     "name": "stdout",
     "output_type": "stream",
     "text": [
      "\u001b[32m[1026 11:35:40 @base.py:285]\u001b[0m Epoch 771 (global_step 134925) finished, time:5.42 seconds.\n"
     ]
    },
    {
     "name": "stderr",
     "output_type": "stream",
     "text": [
      "\n"
     ]
    },
    {
     "name": "stdout",
     "output_type": "stream",
     "text": [
      "\u001b[32m[1026 11:35:41 @saver.py:79]\u001b[0m Model saved to ../output/Chicago/DATGAN2_1000/model\\model-134925.\n",
      "\u001b[32m[1026 11:35:41 @monitor.py:467]\u001b[0m GAN_loss/discrim/accuracy_fake: 0.968\n",
      "\u001b[32m[1026 11:35:41 @monitor.py:467]\u001b[0m GAN_loss/discrim/accuracy_real: 0.074\n",
      "\u001b[32m[1026 11:35:41 @monitor.py:467]\u001b[0m GAN_loss/discrim/loss: 0.65017\n",
      "\u001b[32m[1026 11:35:41 @monitor.py:467]\u001b[0m GAN_loss/gen/final-g-loss: 0.9998\n",
      "\u001b[32m[1026 11:35:41 @monitor.py:467]\u001b[0m GAN_loss/gen/klloss: 0.063581\n",
      "\u001b[32m[1026 11:35:41 @monitor.py:467]\u001b[0m GAN_loss/gen/loss: 0.93622\n",
      "\u001b[32m[1026 11:35:41 @monitor.py:467]\u001b[0m QueueInput/queue_size: 50\n",
      "\u001b[32m[1026 11:35:41 @base.py:275]\u001b[0m Start Epoch 772 ...\n"
     ]
    },
    {
     "name": "stderr",
     "output_type": "stream",
     "text": [
      "100%|###################################################################################|175/175[00:05<00:00,32.37it/s]"
     ]
    },
    {
     "name": "stdout",
     "output_type": "stream",
     "text": [
      "\u001b[32m[1026 11:35:46 @base.py:285]\u001b[0m Epoch 772 (global_step 135100) finished, time:5.41 seconds.\n"
     ]
    },
    {
     "name": "stderr",
     "output_type": "stream",
     "text": [
      "\n"
     ]
    },
    {
     "name": "stdout",
     "output_type": "stream",
     "text": [
      "\u001b[32m[1026 11:35:46 @saver.py:79]\u001b[0m Model saved to ../output/Chicago/DATGAN2_1000/model\\model-135100.\n",
      "\u001b[32m[1026 11:35:46 @monitor.py:467]\u001b[0m GAN_loss/discrim/accuracy_fake: 0.976\n",
      "\u001b[32m[1026 11:35:46 @monitor.py:467]\u001b[0m GAN_loss/discrim/accuracy_real: 0.052\n",
      "\u001b[32m[1026 11:35:46 @monitor.py:467]\u001b[0m GAN_loss/discrim/loss: 0.64514\n",
      "\u001b[32m[1026 11:35:46 @monitor.py:467]\u001b[0m GAN_loss/gen/final-g-loss: 0.99644\n",
      "\u001b[32m[1026 11:35:46 @monitor.py:467]\u001b[0m GAN_loss/gen/klloss: 0.052629\n",
      "\u001b[32m[1026 11:35:46 @monitor.py:467]\u001b[0m GAN_loss/gen/loss: 0.94381\n",
      "\u001b[32m[1026 11:35:46 @monitor.py:467]\u001b[0m QueueInput/queue_size: 50\n",
      "\u001b[32m[1026 11:35:46 @base.py:275]\u001b[0m Start Epoch 773 ...\n"
     ]
    },
    {
     "name": "stderr",
     "output_type": "stream",
     "text": [
      "100%|###################################################################################|175/175[00:05<00:00,32.30it/s]"
     ]
    },
    {
     "name": "stdout",
     "output_type": "stream",
     "text": [
      "\u001b[32m[1026 11:35:52 @base.py:285]\u001b[0m Epoch 773 (global_step 135275) finished, time:5.42 seconds.\n"
     ]
    },
    {
     "name": "stderr",
     "output_type": "stream",
     "text": [
      "\n"
     ]
    },
    {
     "name": "stdout",
     "output_type": "stream",
     "text": [
      "\u001b[32m[1026 11:35:52 @saver.py:79]\u001b[0m Model saved to ../output/Chicago/DATGAN2_1000/model\\model-135275.\n",
      "\u001b[32m[1026 11:35:52 @monitor.py:467]\u001b[0m GAN_loss/discrim/accuracy_fake: 0.98\n",
      "\u001b[32m[1026 11:35:52 @monitor.py:467]\u001b[0m GAN_loss/discrim/accuracy_real: 0.056\n",
      "\u001b[32m[1026 11:35:52 @monitor.py:467]\u001b[0m GAN_loss/discrim/loss: 0.64991\n",
      "\u001b[32m[1026 11:35:52 @monitor.py:467]\u001b[0m GAN_loss/gen/final-g-loss: 1.0153\n",
      "\u001b[32m[1026 11:35:52 @monitor.py:467]\u001b[0m GAN_loss/gen/klloss: 0.070961\n",
      "\u001b[32m[1026 11:35:52 @monitor.py:467]\u001b[0m GAN_loss/gen/loss: 0.94438\n",
      "\u001b[32m[1026 11:35:52 @monitor.py:467]\u001b[0m QueueInput/queue_size: 50\n",
      "\u001b[32m[1026 11:35:52 @base.py:275]\u001b[0m Start Epoch 774 ...\n"
     ]
    },
    {
     "name": "stderr",
     "output_type": "stream",
     "text": [
      "100%|###################################################################################|175/175[00:05<00:00,32.28it/s]"
     ]
    },
    {
     "name": "stdout",
     "output_type": "stream",
     "text": [
      "\u001b[32m[1026 11:35:57 @base.py:285]\u001b[0m Epoch 774 (global_step 135450) finished, time:5.42 seconds.\n"
     ]
    },
    {
     "name": "stderr",
     "output_type": "stream",
     "text": [
      "\n"
     ]
    },
    {
     "name": "stdout",
     "output_type": "stream",
     "text": [
      "\u001b[32m[1026 11:35:57 @saver.py:79]\u001b[0m Model saved to ../output/Chicago/DATGAN2_1000/model\\model-135450.\n",
      "\u001b[32m[1026 11:35:58 @monitor.py:467]\u001b[0m GAN_loss/discrim/accuracy_fake: 0.972\n",
      "\u001b[32m[1026 11:35:58 @monitor.py:467]\u001b[0m GAN_loss/discrim/accuracy_real: 0.056\n",
      "\u001b[32m[1026 11:35:58 @monitor.py:467]\u001b[0m GAN_loss/discrim/loss: 0.64317\n",
      "\u001b[32m[1026 11:35:58 @monitor.py:467]\u001b[0m GAN_loss/gen/final-g-loss: 1.0085\n",
      "\u001b[32m[1026 11:35:58 @monitor.py:467]\u001b[0m GAN_loss/gen/klloss: 0.05162\n",
      "\u001b[32m[1026 11:35:58 @monitor.py:467]\u001b[0m GAN_loss/gen/loss: 0.95684\n",
      "\u001b[32m[1026 11:35:58 @monitor.py:467]\u001b[0m QueueInput/queue_size: 50\n",
      "\u001b[32m[1026 11:35:58 @base.py:275]\u001b[0m Start Epoch 775 ...\n"
     ]
    },
    {
     "name": "stderr",
     "output_type": "stream",
     "text": [
      "100%|###################################################################################|175/175[00:05<00:00,32.35it/s]"
     ]
    },
    {
     "name": "stdout",
     "output_type": "stream",
     "text": [
      "\u001b[32m[1026 11:36:03 @base.py:285]\u001b[0m Epoch 775 (global_step 135625) finished, time:5.41 seconds.\n"
     ]
    },
    {
     "name": "stderr",
     "output_type": "stream",
     "text": [
      "\n"
     ]
    },
    {
     "name": "stdout",
     "output_type": "stream",
     "text": [
      "\u001b[32m[1026 11:36:03 @saver.py:79]\u001b[0m Model saved to ../output/Chicago/DATGAN2_1000/model\\model-135625.\n",
      "\u001b[32m[1026 11:36:03 @monitor.py:467]\u001b[0m GAN_loss/discrim/accuracy_fake: 0.978\n",
      "\u001b[32m[1026 11:36:03 @monitor.py:467]\u001b[0m GAN_loss/discrim/accuracy_real: 0.058\n",
      "\u001b[32m[1026 11:36:03 @monitor.py:467]\u001b[0m GAN_loss/discrim/loss: 0.64443\n",
      "\u001b[32m[1026 11:36:03 @monitor.py:467]\u001b[0m GAN_loss/gen/final-g-loss: 1.0199\n",
      "\u001b[32m[1026 11:36:03 @monitor.py:467]\u001b[0m GAN_loss/gen/klloss: 0.071578\n",
      "\u001b[32m[1026 11:36:03 @monitor.py:467]\u001b[0m GAN_loss/gen/loss: 0.94835\n",
      "\u001b[32m[1026 11:36:03 @monitor.py:467]\u001b[0m QueueInput/queue_size: 50\n",
      "\u001b[32m[1026 11:36:03 @base.py:275]\u001b[0m Start Epoch 776 ...\n"
     ]
    },
    {
     "name": "stderr",
     "output_type": "stream",
     "text": [
      "100%|###################################################################################|175/175[00:05<00:00,32.29it/s]"
     ]
    },
    {
     "name": "stdout",
     "output_type": "stream",
     "text": [
      "\u001b[32m[1026 11:36:09 @base.py:285]\u001b[0m Epoch 776 (global_step 135800) finished, time:5.42 seconds.\n"
     ]
    },
    {
     "name": "stderr",
     "output_type": "stream",
     "text": [
      "\n"
     ]
    },
    {
     "name": "stdout",
     "output_type": "stream",
     "text": [
      "\u001b[32m[1026 11:36:09 @saver.py:79]\u001b[0m Model saved to ../output/Chicago/DATGAN2_1000/model\\model-135800.\n",
      "\u001b[32m[1026 11:36:09 @monitor.py:467]\u001b[0m GAN_loss/discrim/accuracy_fake: 0.966\n",
      "\u001b[32m[1026 11:36:09 @monitor.py:467]\u001b[0m GAN_loss/discrim/accuracy_real: 0.048\n",
      "\u001b[32m[1026 11:36:09 @monitor.py:467]\u001b[0m GAN_loss/discrim/loss: 0.64893\n",
      "\u001b[32m[1026 11:36:09 @monitor.py:467]\u001b[0m GAN_loss/gen/final-g-loss: 1.0323\n",
      "\u001b[32m[1026 11:36:09 @monitor.py:467]\u001b[0m GAN_loss/gen/klloss: 0.084426\n",
      "\u001b[32m[1026 11:36:09 @monitor.py:467]\u001b[0m GAN_loss/gen/loss: 0.94791\n",
      "\u001b[32m[1026 11:36:09 @monitor.py:467]\u001b[0m QueueInput/queue_size: 50\n",
      "\u001b[32m[1026 11:36:09 @base.py:275]\u001b[0m Start Epoch 777 ...\n"
     ]
    },
    {
     "name": "stderr",
     "output_type": "stream",
     "text": [
      "100%|###################################################################################|175/175[00:05<00:00,32.36it/s]"
     ]
    },
    {
     "name": "stdout",
     "output_type": "stream",
     "text": [
      "\u001b[32m[1026 11:36:14 @base.py:285]\u001b[0m Epoch 777 (global_step 135975) finished, time:5.41 seconds.\n"
     ]
    },
    {
     "name": "stderr",
     "output_type": "stream",
     "text": [
      "\n"
     ]
    },
    {
     "name": "stdout",
     "output_type": "stream",
     "text": [
      "\u001b[32m[1026 11:36:14 @saver.py:79]\u001b[0m Model saved to ../output/Chicago/DATGAN2_1000/model\\model-135975.\n",
      "\u001b[32m[1026 11:36:14 @monitor.py:467]\u001b[0m GAN_loss/discrim/accuracy_fake: 0.976\n",
      "\u001b[32m[1026 11:36:14 @monitor.py:467]\u001b[0m GAN_loss/discrim/accuracy_real: 0.046\n",
      "\u001b[32m[1026 11:36:14 @monitor.py:467]\u001b[0m GAN_loss/discrim/loss: 0.65053\n",
      "\u001b[32m[1026 11:36:14 @monitor.py:467]\u001b[0m GAN_loss/gen/final-g-loss: 1.0169\n",
      "\u001b[32m[1026 11:36:14 @monitor.py:467]\u001b[0m GAN_loss/gen/klloss: 0.067455\n",
      "\u001b[32m[1026 11:36:14 @monitor.py:467]\u001b[0m GAN_loss/gen/loss: 0.94947\n",
      "\u001b[32m[1026 11:36:14 @monitor.py:467]\u001b[0m QueueInput/queue_size: 50\n",
      "\u001b[32m[1026 11:36:14 @base.py:275]\u001b[0m Start Epoch 778 ...\n"
     ]
    },
    {
     "name": "stderr",
     "output_type": "stream",
     "text": [
      "100%|###################################################################################|175/175[00:05<00:00,32.30it/s]"
     ]
    },
    {
     "name": "stdout",
     "output_type": "stream",
     "text": [
      "\u001b[32m[1026 11:36:20 @base.py:285]\u001b[0m Epoch 778 (global_step 136150) finished, time:5.42 seconds.\n"
     ]
    },
    {
     "name": "stderr",
     "output_type": "stream",
     "text": [
      "\n"
     ]
    },
    {
     "name": "stdout",
     "output_type": "stream",
     "text": [
      "\u001b[32m[1026 11:36:20 @saver.py:79]\u001b[0m Model saved to ../output/Chicago/DATGAN2_1000/model\\model-136150.\n",
      "\u001b[32m[1026 11:36:20 @monitor.py:467]\u001b[0m GAN_loss/discrim/accuracy_fake: 0.986\n",
      "\u001b[32m[1026 11:36:20 @monitor.py:467]\u001b[0m GAN_loss/discrim/accuracy_real: 0.038\n",
      "\u001b[32m[1026 11:36:20 @monitor.py:467]\u001b[0m GAN_loss/discrim/loss: 0.64691\n",
      "\u001b[32m[1026 11:36:20 @monitor.py:467]\u001b[0m GAN_loss/gen/final-g-loss: 1.0064\n",
      "\u001b[32m[1026 11:36:20 @monitor.py:467]\u001b[0m GAN_loss/gen/klloss: 0.059968\n",
      "\u001b[32m[1026 11:36:20 @monitor.py:467]\u001b[0m GAN_loss/gen/loss: 0.94645\n",
      "\u001b[32m[1026 11:36:20 @monitor.py:467]\u001b[0m QueueInput/queue_size: 50\n",
      "\u001b[32m[1026 11:36:20 @base.py:275]\u001b[0m Start Epoch 779 ...\n"
     ]
    },
    {
     "name": "stderr",
     "output_type": "stream",
     "text": [
      "100%|###################################################################################|175/175[00:05<00:00,32.31it/s]"
     ]
    },
    {
     "name": "stdout",
     "output_type": "stream",
     "text": [
      "\u001b[32m[1026 11:36:26 @base.py:285]\u001b[0m Epoch 779 (global_step 136325) finished, time:5.42 seconds.\n"
     ]
    },
    {
     "name": "stderr",
     "output_type": "stream",
     "text": [
      "\n"
     ]
    },
    {
     "name": "stdout",
     "output_type": "stream",
     "text": [
      "\u001b[32m[1026 11:36:26 @saver.py:79]\u001b[0m Model saved to ../output/Chicago/DATGAN2_1000/model\\model-136325.\n",
      "\u001b[32m[1026 11:36:26 @monitor.py:467]\u001b[0m GAN_loss/discrim/accuracy_fake: 0.976\n",
      "\u001b[32m[1026 11:36:26 @monitor.py:467]\u001b[0m GAN_loss/discrim/accuracy_real: 0.036\n",
      "\u001b[32m[1026 11:36:26 @monitor.py:467]\u001b[0m GAN_loss/discrim/loss: 0.65094\n",
      "\u001b[32m[1026 11:36:26 @monitor.py:467]\u001b[0m GAN_loss/gen/final-g-loss: 1.0066\n",
      "\u001b[32m[1026 11:36:26 @monitor.py:467]\u001b[0m GAN_loss/gen/klloss: 0.060524\n",
      "\u001b[32m[1026 11:36:26 @monitor.py:467]\u001b[0m GAN_loss/gen/loss: 0.94603\n",
      "\u001b[32m[1026 11:36:26 @monitor.py:467]\u001b[0m QueueInput/queue_size: 50\n",
      "\u001b[32m[1026 11:36:26 @base.py:275]\u001b[0m Start Epoch 780 ...\n"
     ]
    },
    {
     "name": "stderr",
     "output_type": "stream",
     "text": [
      "100%|###################################################################################|175/175[00:05<00:00,32.28it/s]"
     ]
    },
    {
     "name": "stdout",
     "output_type": "stream",
     "text": [
      "\u001b[32m[1026 11:36:31 @base.py:285]\u001b[0m Epoch 780 (global_step 136500) finished, time:5.42 seconds.\n"
     ]
    },
    {
     "name": "stderr",
     "output_type": "stream",
     "text": [
      "\n"
     ]
    },
    {
     "name": "stdout",
     "output_type": "stream",
     "text": [
      "\u001b[32m[1026 11:36:31 @saver.py:79]\u001b[0m Model saved to ../output/Chicago/DATGAN2_1000/model\\model-136500.\n",
      "\u001b[32m[1026 11:36:31 @monitor.py:467]\u001b[0m GAN_loss/discrim/accuracy_fake: 0.966\n",
      "\u001b[32m[1026 11:36:31 @monitor.py:467]\u001b[0m GAN_loss/discrim/accuracy_real: 0.04\n",
      "\u001b[32m[1026 11:36:31 @monitor.py:467]\u001b[0m GAN_loss/discrim/loss: 0.65279\n",
      "\u001b[32m[1026 11:36:31 @monitor.py:467]\u001b[0m GAN_loss/gen/final-g-loss: 1.0125\n",
      "\u001b[32m[1026 11:36:31 @monitor.py:467]\u001b[0m GAN_loss/gen/klloss: 0.073518\n",
      "\u001b[32m[1026 11:36:31 @monitor.py:467]\u001b[0m GAN_loss/gen/loss: 0.93901\n",
      "\u001b[32m[1026 11:36:31 @monitor.py:467]\u001b[0m QueueInput/queue_size: 50\n",
      "\u001b[32m[1026 11:36:31 @base.py:275]\u001b[0m Start Epoch 781 ...\n"
     ]
    },
    {
     "name": "stderr",
     "output_type": "stream",
     "text": [
      "100%|###################################################################################|175/175[00:05<00:00,32.32it/s]"
     ]
    },
    {
     "name": "stdout",
     "output_type": "stream",
     "text": [
      "\u001b[32m[1026 11:36:37 @base.py:285]\u001b[0m Epoch 781 (global_step 136675) finished, time:5.42 seconds.\n"
     ]
    },
    {
     "name": "stderr",
     "output_type": "stream",
     "text": [
      "\n"
     ]
    },
    {
     "name": "stdout",
     "output_type": "stream",
     "text": [
      "\u001b[32m[1026 11:36:37 @saver.py:79]\u001b[0m Model saved to ../output/Chicago/DATGAN2_1000/model\\model-136675.\n",
      "\u001b[32m[1026 11:36:37 @monitor.py:467]\u001b[0m GAN_loss/discrim/accuracy_fake: 0.972\n",
      "\u001b[32m[1026 11:36:37 @monitor.py:467]\u001b[0m GAN_loss/discrim/accuracy_real: 0.038\n",
      "\u001b[32m[1026 11:36:37 @monitor.py:467]\u001b[0m GAN_loss/discrim/loss: 0.64874\n",
      "\u001b[32m[1026 11:36:37 @monitor.py:467]\u001b[0m GAN_loss/gen/final-g-loss: 0.98868\n",
      "\u001b[32m[1026 11:36:37 @monitor.py:467]\u001b[0m GAN_loss/gen/klloss: 0.0485\n",
      "\u001b[32m[1026 11:36:37 @monitor.py:467]\u001b[0m GAN_loss/gen/loss: 0.94018\n",
      "\u001b[32m[1026 11:36:37 @monitor.py:467]\u001b[0m QueueInput/queue_size: 50\n",
      "\u001b[32m[1026 11:36:37 @base.py:275]\u001b[0m Start Epoch 782 ...\n"
     ]
    },
    {
     "name": "stderr",
     "output_type": "stream",
     "text": [
      "100%|###################################################################################|175/175[00:05<00:00,32.23it/s]"
     ]
    },
    {
     "name": "stdout",
     "output_type": "stream",
     "text": [
      "\u001b[32m[1026 11:36:42 @base.py:285]\u001b[0m Epoch 782 (global_step 136850) finished, time:5.43 seconds.\n"
     ]
    },
    {
     "name": "stderr",
     "output_type": "stream",
     "text": [
      "\n"
     ]
    },
    {
     "name": "stdout",
     "output_type": "stream",
     "text": [
      "\u001b[32m[1026 11:36:43 @saver.py:79]\u001b[0m Model saved to ../output/Chicago/DATGAN2_1000/model\\model-136850.\n",
      "\u001b[32m[1026 11:36:43 @monitor.py:467]\u001b[0m GAN_loss/discrim/accuracy_fake: 0.962\n",
      "\u001b[32m[1026 11:36:43 @monitor.py:467]\u001b[0m GAN_loss/discrim/accuracy_real: 0.028\n",
      "\u001b[32m[1026 11:36:43 @monitor.py:467]\u001b[0m GAN_loss/discrim/loss: 0.65222\n",
      "\u001b[32m[1026 11:36:43 @monitor.py:467]\u001b[0m GAN_loss/gen/final-g-loss: 1.0104\n",
      "\u001b[32m[1026 11:36:43 @monitor.py:467]\u001b[0m GAN_loss/gen/klloss: 0.078142\n",
      "\u001b[32m[1026 11:36:43 @monitor.py:467]\u001b[0m GAN_loss/gen/loss: 0.93226\n",
      "\u001b[32m[1026 11:36:43 @monitor.py:467]\u001b[0m QueueInput/queue_size: 50\n",
      "\u001b[32m[1026 11:36:43 @base.py:275]\u001b[0m Start Epoch 783 ...\n"
     ]
    },
    {
     "name": "stderr",
     "output_type": "stream",
     "text": [
      "100%|###################################################################################|175/175[00:05<00:00,32.33it/s]"
     ]
    },
    {
     "name": "stdout",
     "output_type": "stream",
     "text": [
      "\u001b[32m[1026 11:36:48 @base.py:285]\u001b[0m Epoch 783 (global_step 137025) finished, time:5.41 seconds.\n"
     ]
    },
    {
     "name": "stderr",
     "output_type": "stream",
     "text": [
      "\n"
     ]
    },
    {
     "name": "stdout",
     "output_type": "stream",
     "text": [
      "\u001b[32m[1026 11:36:48 @saver.py:79]\u001b[0m Model saved to ../output/Chicago/DATGAN2_1000/model\\model-137025.\n",
      "\u001b[32m[1026 11:36:48 @monitor.py:467]\u001b[0m GAN_loss/discrim/accuracy_fake: 0.982\n",
      "\u001b[32m[1026 11:36:48 @monitor.py:467]\u001b[0m GAN_loss/discrim/accuracy_real: 0.036\n",
      "\u001b[32m[1026 11:36:48 @monitor.py:467]\u001b[0m GAN_loss/discrim/loss: 0.65507\n",
      "\u001b[32m[1026 11:36:48 @monitor.py:467]\u001b[0m GAN_loss/gen/final-g-loss: 1.0074\n",
      "\u001b[32m[1026 11:36:48 @monitor.py:467]\u001b[0m GAN_loss/gen/klloss: 0.072058\n",
      "\u001b[32m[1026 11:36:48 @monitor.py:467]\u001b[0m GAN_loss/gen/loss: 0.93537\n",
      "\u001b[32m[1026 11:36:48 @monitor.py:467]\u001b[0m QueueInput/queue_size: 50\n",
      "\u001b[32m[1026 11:36:48 @base.py:275]\u001b[0m Start Epoch 784 ...\n"
     ]
    },
    {
     "name": "stderr",
     "output_type": "stream",
     "text": [
      "100%|###################################################################################|175/175[00:05<00:00,31.86it/s]"
     ]
    },
    {
     "name": "stdout",
     "output_type": "stream",
     "text": [
      "\u001b[32m[1026 11:36:54 @base.py:285]\u001b[0m Epoch 784 (global_step 137200) finished, time:5.49 seconds.\n",
      "\u001b[32m[1026 11:36:54 @saver.py:79]\u001b[0m Model saved to ../output/Chicago/DATGAN2_1000/model\\model-137200.\n"
     ]
    },
    {
     "name": "stderr",
     "output_type": "stream",
     "text": [
      "\n"
     ]
    },
    {
     "name": "stdout",
     "output_type": "stream",
     "text": [
      "\u001b[32m[1026 11:36:54 @monitor.py:467]\u001b[0m GAN_loss/discrim/accuracy_fake: 0.976\n",
      "\u001b[32m[1026 11:36:54 @monitor.py:467]\u001b[0m GAN_loss/discrim/accuracy_real: 0.052\n",
      "\u001b[32m[1026 11:36:54 @monitor.py:467]\u001b[0m GAN_loss/discrim/loss: 0.64887\n",
      "\u001b[32m[1026 11:36:54 @monitor.py:467]\u001b[0m GAN_loss/gen/final-g-loss: 0.9962\n",
      "\u001b[32m[1026 11:36:54 @monitor.py:467]\u001b[0m GAN_loss/gen/klloss: 0.057839\n",
      "\u001b[32m[1026 11:36:54 @monitor.py:467]\u001b[0m GAN_loss/gen/loss: 0.93836\n",
      "\u001b[32m[1026 11:36:54 @monitor.py:467]\u001b[0m QueueInput/queue_size: 50\n",
      "\u001b[32m[1026 11:36:54 @base.py:275]\u001b[0m Start Epoch 785 ...\n"
     ]
    },
    {
     "name": "stderr",
     "output_type": "stream",
     "text": [
      "100%|###################################################################################|175/175[00:05<00:00,32.03it/s]"
     ]
    },
    {
     "name": "stdout",
     "output_type": "stream",
     "text": [
      "\u001b[32m[1026 11:37:00 @base.py:285]\u001b[0m Epoch 785 (global_step 137375) finished, time:5.46 seconds.\n",
      "\u001b[32m[1026 11:37:00 @saver.py:79]\u001b[0m Model saved to ../output/Chicago/DATGAN2_1000/model\\model-137375.\n"
     ]
    },
    {
     "name": "stderr",
     "output_type": "stream",
     "text": [
      "\n"
     ]
    },
    {
     "name": "stdout",
     "output_type": "stream",
     "text": [
      "\u001b[32m[1026 11:37:00 @monitor.py:467]\u001b[0m GAN_loss/discrim/accuracy_fake: 0.976\n",
      "\u001b[32m[1026 11:37:00 @monitor.py:467]\u001b[0m GAN_loss/discrim/accuracy_real: 0.034\n",
      "\u001b[32m[1026 11:37:00 @monitor.py:467]\u001b[0m GAN_loss/discrim/loss: 0.65273\n",
      "\u001b[32m[1026 11:37:00 @monitor.py:467]\u001b[0m GAN_loss/gen/final-g-loss: 1.0071\n",
      "\u001b[32m[1026 11:37:00 @monitor.py:467]\u001b[0m GAN_loss/gen/klloss: 0.06744\n",
      "\u001b[32m[1026 11:37:00 @monitor.py:467]\u001b[0m GAN_loss/gen/loss: 0.93966\n",
      "\u001b[32m[1026 11:37:00 @monitor.py:467]\u001b[0m QueueInput/queue_size: 50\n",
      "\u001b[32m[1026 11:37:00 @base.py:275]\u001b[0m Start Epoch 786 ...\n"
     ]
    },
    {
     "name": "stderr",
     "output_type": "stream",
     "text": [
      "100%|###################################################################################|175/175[00:05<00:00,32.16it/s]"
     ]
    },
    {
     "name": "stdout",
     "output_type": "stream",
     "text": [
      "\u001b[32m[1026 11:37:05 @base.py:285]\u001b[0m Epoch 786 (global_step 137550) finished, time:5.44 seconds.\n",
      "\u001b[32m[1026 11:37:05 @saver.py:79]\u001b[0m Model saved to ../output/Chicago/DATGAN2_1000/model\\model-137550.\n",
      "\u001b[32m[1026 11:37:05 @monitor.py:467]\u001b[0m GAN_loss/discrim/accuracy_fake: 0.97\n"
     ]
    },
    {
     "name": "stderr",
     "output_type": "stream",
     "text": [
      "\n"
     ]
    },
    {
     "name": "stdout",
     "output_type": "stream",
     "text": [
      "\u001b[32m[1026 11:37:05 @monitor.py:467]\u001b[0m GAN_loss/discrim/accuracy_real: 0.054\n",
      "\u001b[32m[1026 11:37:05 @monitor.py:467]\u001b[0m GAN_loss/discrim/loss: 0.64289\n",
      "\u001b[32m[1026 11:37:05 @monitor.py:467]\u001b[0m GAN_loss/gen/final-g-loss: 1.0201\n",
      "\u001b[32m[1026 11:37:05 @monitor.py:467]\u001b[0m GAN_loss/gen/klloss: 0.066162\n",
      "\u001b[32m[1026 11:37:05 @monitor.py:467]\u001b[0m GAN_loss/gen/loss: 0.95396\n",
      "\u001b[32m[1026 11:37:05 @monitor.py:467]\u001b[0m QueueInput/queue_size: 50\n",
      "\u001b[32m[1026 11:37:05 @base.py:275]\u001b[0m Start Epoch 787 ...\n"
     ]
    },
    {
     "name": "stderr",
     "output_type": "stream",
     "text": [
      "100%|###################################################################################|175/175[00:05<00:00,32.24it/s]"
     ]
    },
    {
     "name": "stdout",
     "output_type": "stream",
     "text": [
      "\u001b[32m[1026 11:37:11 @base.py:285]\u001b[0m Epoch 787 (global_step 137725) finished, time:5.43 seconds.\n"
     ]
    },
    {
     "name": "stderr",
     "output_type": "stream",
     "text": [
      "\n"
     ]
    },
    {
     "name": "stdout",
     "output_type": "stream",
     "text": [
      "\u001b[32m[1026 11:37:11 @saver.py:79]\u001b[0m Model saved to ../output/Chicago/DATGAN2_1000/model\\model-137725.\n",
      "\u001b[32m[1026 11:37:11 @monitor.py:467]\u001b[0m GAN_loss/discrim/accuracy_fake: 0.968\n",
      "\u001b[32m[1026 11:37:11 @monitor.py:467]\u001b[0m GAN_loss/discrim/accuracy_real: 0.026\n",
      "\u001b[32m[1026 11:37:11 @monitor.py:467]\u001b[0m GAN_loss/discrim/loss: 0.65262\n",
      "\u001b[32m[1026 11:37:11 @monitor.py:467]\u001b[0m GAN_loss/gen/final-g-loss: 1.0129\n",
      "\u001b[32m[1026 11:37:11 @monitor.py:467]\u001b[0m GAN_loss/gen/klloss: 0.073321\n",
      "\u001b[32m[1026 11:37:11 @monitor.py:467]\u001b[0m GAN_loss/gen/loss: 0.93961\n",
      "\u001b[32m[1026 11:37:11 @monitor.py:467]\u001b[0m QueueInput/queue_size: 50\n",
      "\u001b[32m[1026 11:37:11 @base.py:275]\u001b[0m Start Epoch 788 ...\n"
     ]
    },
    {
     "name": "stderr",
     "output_type": "stream",
     "text": [
      "100%|###################################################################################|175/175[00:05<00:00,32.15it/s]"
     ]
    },
    {
     "name": "stdout",
     "output_type": "stream",
     "text": [
      "\u001b[32m[1026 11:37:16 @base.py:285]\u001b[0m Epoch 788 (global_step 137900) finished, time:5.44 seconds.\n",
      "\u001b[32m[1026 11:37:17 @saver.py:79]\u001b[0m Model saved to ../output/Chicago/DATGAN2_1000/model\\model-137900.\n"
     ]
    },
    {
     "name": "stderr",
     "output_type": "stream",
     "text": [
      "\n"
     ]
    },
    {
     "name": "stdout",
     "output_type": "stream",
     "text": [
      "\u001b[32m[1026 11:37:17 @monitor.py:467]\u001b[0m GAN_loss/discrim/accuracy_fake: 0.972\n",
      "\u001b[32m[1026 11:37:17 @monitor.py:467]\u001b[0m GAN_loss/discrim/accuracy_real: 0.034\n",
      "\u001b[32m[1026 11:37:17 @monitor.py:467]\u001b[0m GAN_loss/discrim/loss: 0.65278\n",
      "\u001b[32m[1026 11:37:17 @monitor.py:467]\u001b[0m GAN_loss/gen/final-g-loss: 0.99566\n",
      "\u001b[32m[1026 11:37:17 @monitor.py:467]\u001b[0m GAN_loss/gen/klloss: 0.056174\n",
      "\u001b[32m[1026 11:37:17 @monitor.py:467]\u001b[0m GAN_loss/gen/loss: 0.93949\n",
      "\u001b[32m[1026 11:37:17 @monitor.py:467]\u001b[0m QueueInput/queue_size: 50\n",
      "\u001b[32m[1026 11:37:17 @base.py:275]\u001b[0m Start Epoch 789 ...\n"
     ]
    },
    {
     "name": "stderr",
     "output_type": "stream",
     "text": [
      "100%|###################################################################################|175/175[00:05<00:00,32.25it/s]"
     ]
    },
    {
     "name": "stdout",
     "output_type": "stream",
     "text": [
      "\u001b[32m[1026 11:37:22 @base.py:285]\u001b[0m Epoch 789 (global_step 138075) finished, time:5.43 seconds.\n"
     ]
    },
    {
     "name": "stderr",
     "output_type": "stream",
     "text": [
      "\n"
     ]
    },
    {
     "name": "stdout",
     "output_type": "stream",
     "text": [
      "\u001b[32m[1026 11:37:22 @saver.py:79]\u001b[0m Model saved to ../output/Chicago/DATGAN2_1000/model\\model-138075.\n",
      "\u001b[32m[1026 11:37:22 @monitor.py:467]\u001b[0m GAN_loss/discrim/accuracy_fake: 0.97\n",
      "\u001b[32m[1026 11:37:22 @monitor.py:467]\u001b[0m GAN_loss/discrim/accuracy_real: 0.044\n",
      "\u001b[32m[1026 11:37:22 @monitor.py:467]\u001b[0m GAN_loss/discrim/loss: 0.65414\n",
      "\u001b[32m[1026 11:37:22 @monitor.py:467]\u001b[0m GAN_loss/gen/final-g-loss: 0.98044\n",
      "\u001b[32m[1026 11:37:22 @monitor.py:467]\u001b[0m GAN_loss/gen/klloss: 0.042275\n",
      "\u001b[32m[1026 11:37:22 @monitor.py:467]\u001b[0m GAN_loss/gen/loss: 0.93816\n",
      "\u001b[32m[1026 11:37:22 @monitor.py:467]\u001b[0m QueueInput/queue_size: 50\n",
      "\u001b[32m[1026 11:37:22 @base.py:275]\u001b[0m Start Epoch 790 ...\n"
     ]
    },
    {
     "name": "stderr",
     "output_type": "stream",
     "text": [
      "100%|###################################################################################|175/175[00:05<00:00,32.19it/s]"
     ]
    },
    {
     "name": "stdout",
     "output_type": "stream",
     "text": [
      "\u001b[32m[1026 11:37:28 @base.py:285]\u001b[0m Epoch 790 (global_step 138250) finished, time:5.44 seconds.\n",
      "\u001b[32m[1026 11:37:28 @saver.py:79]\u001b[0m Model saved to ../output/Chicago/DATGAN2_1000/model\\model-138250.\n"
     ]
    },
    {
     "name": "stderr",
     "output_type": "stream",
     "text": [
      "\n"
     ]
    },
    {
     "name": "stdout",
     "output_type": "stream",
     "text": [
      "\u001b[32m[1026 11:37:28 @monitor.py:467]\u001b[0m GAN_loss/discrim/accuracy_fake: 0.976\n",
      "\u001b[32m[1026 11:37:28 @monitor.py:467]\u001b[0m GAN_loss/discrim/accuracy_real: 0.034\n",
      "\u001b[32m[1026 11:37:28 @monitor.py:467]\u001b[0m GAN_loss/discrim/loss: 0.6509\n",
      "\u001b[32m[1026 11:37:28 @monitor.py:467]\u001b[0m GAN_loss/gen/final-g-loss: 0.99529\n",
      "\u001b[32m[1026 11:37:28 @monitor.py:467]\u001b[0m GAN_loss/gen/klloss: 0.05262\n",
      "\u001b[32m[1026 11:37:28 @monitor.py:467]\u001b[0m GAN_loss/gen/loss: 0.94267\n",
      "\u001b[32m[1026 11:37:28 @monitor.py:467]\u001b[0m QueueInput/queue_size: 50\n",
      "\u001b[32m[1026 11:37:28 @base.py:275]\u001b[0m Start Epoch 791 ...\n"
     ]
    },
    {
     "name": "stderr",
     "output_type": "stream",
     "text": [
      "100%|###################################################################################|175/175[00:05<00:00,32.22it/s]"
     ]
    },
    {
     "name": "stdout",
     "output_type": "stream",
     "text": [
      "\u001b[32m[1026 11:37:33 @base.py:285]\u001b[0m Epoch 791 (global_step 138425) finished, time:5.43 seconds.\n"
     ]
    },
    {
     "name": "stderr",
     "output_type": "stream",
     "text": [
      "\n"
     ]
    },
    {
     "name": "stdout",
     "output_type": "stream",
     "text": [
      "\u001b[32m[1026 11:37:34 @saver.py:79]\u001b[0m Model saved to ../output/Chicago/DATGAN2_1000/model\\model-138425.\n",
      "\u001b[32m[1026 11:37:34 @monitor.py:467]\u001b[0m GAN_loss/discrim/accuracy_fake: 0.958\n",
      "\u001b[32m[1026 11:37:34 @monitor.py:467]\u001b[0m GAN_loss/discrim/accuracy_real: 0.038\n",
      "\u001b[32m[1026 11:37:34 @monitor.py:467]\u001b[0m GAN_loss/discrim/loss: 0.65287\n",
      "\u001b[32m[1026 11:37:34 @monitor.py:467]\u001b[0m GAN_loss/gen/final-g-loss: 1.0052\n",
      "\u001b[32m[1026 11:37:34 @monitor.py:467]\u001b[0m GAN_loss/gen/klloss: 0.068791\n",
      "\u001b[32m[1026 11:37:34 @monitor.py:467]\u001b[0m GAN_loss/gen/loss: 0.93646\n",
      "\u001b[32m[1026 11:37:34 @monitor.py:467]\u001b[0m QueueInput/queue_size: 50\n",
      "\u001b[32m[1026 11:37:34 @base.py:275]\u001b[0m Start Epoch 792 ...\n"
     ]
    },
    {
     "name": "stderr",
     "output_type": "stream",
     "text": [
      "100%|###################################################################################|175/175[00:05<00:00,32.19it/s]"
     ]
    },
    {
     "name": "stdout",
     "output_type": "stream",
     "text": [
      "\u001b[32m[1026 11:37:39 @base.py:285]\u001b[0m Epoch 792 (global_step 138600) finished, time:5.44 seconds.\n",
      "\u001b[32m[1026 11:37:39 @saver.py:79]\u001b[0m Model saved to ../output/Chicago/DATGAN2_1000/model\\model-138600.\n"
     ]
    },
    {
     "name": "stderr",
     "output_type": "stream",
     "text": [
      "\n"
     ]
    },
    {
     "name": "stdout",
     "output_type": "stream",
     "text": [
      "\u001b[32m[1026 11:37:39 @monitor.py:467]\u001b[0m GAN_loss/discrim/accuracy_fake: 0.962\n",
      "\u001b[32m[1026 11:37:39 @monitor.py:467]\u001b[0m GAN_loss/discrim/accuracy_real: 0.032\n",
      "\u001b[32m[1026 11:37:39 @monitor.py:467]\u001b[0m GAN_loss/discrim/loss: 0.64921\n",
      "\u001b[32m[1026 11:37:39 @monitor.py:467]\u001b[0m GAN_loss/gen/final-g-loss: 0.99677\n",
      "\u001b[32m[1026 11:37:39 @monitor.py:467]\u001b[0m GAN_loss/gen/klloss: 0.047751\n",
      "\u001b[32m[1026 11:37:39 @monitor.py:467]\u001b[0m GAN_loss/gen/loss: 0.94902\n",
      "\u001b[32m[1026 11:37:39 @monitor.py:467]\u001b[0m QueueInput/queue_size: 50\n",
      "\u001b[32m[1026 11:37:39 @base.py:275]\u001b[0m Start Epoch 793 ...\n"
     ]
    },
    {
     "name": "stderr",
     "output_type": "stream",
     "text": [
      "100%|###################################################################################|175/175[00:05<00:00,32.22it/s]"
     ]
    },
    {
     "name": "stdout",
     "output_type": "stream",
     "text": [
      "\u001b[32m[1026 11:37:45 @base.py:285]\u001b[0m Epoch 793 (global_step 138775) finished, time:5.43 seconds.\n"
     ]
    },
    {
     "name": "stderr",
     "output_type": "stream",
     "text": [
      "\n"
     ]
    },
    {
     "name": "stdout",
     "output_type": "stream",
     "text": [
      "\u001b[32m[1026 11:37:45 @saver.py:79]\u001b[0m Model saved to ../output/Chicago/DATGAN2_1000/model\\model-138775.\n",
      "\u001b[32m[1026 11:37:45 @monitor.py:467]\u001b[0m GAN_loss/discrim/accuracy_fake: 0.972\n",
      "\u001b[32m[1026 11:37:45 @monitor.py:467]\u001b[0m GAN_loss/discrim/accuracy_real: 0.052\n",
      "\u001b[32m[1026 11:37:45 @monitor.py:467]\u001b[0m GAN_loss/discrim/loss: 0.65135\n",
      "\u001b[32m[1026 11:37:45 @monitor.py:467]\u001b[0m GAN_loss/gen/final-g-loss: 0.9942\n",
      "\u001b[32m[1026 11:37:45 @monitor.py:467]\u001b[0m GAN_loss/gen/klloss: 0.056904\n",
      "\u001b[32m[1026 11:37:45 @monitor.py:467]\u001b[0m GAN_loss/gen/loss: 0.9373\n",
      "\u001b[32m[1026 11:37:45 @monitor.py:467]\u001b[0m QueueInput/queue_size: 50\n",
      "\u001b[32m[1026 11:37:45 @base.py:275]\u001b[0m Start Epoch 794 ...\n"
     ]
    },
    {
     "name": "stderr",
     "output_type": "stream",
     "text": [
      "100%|###################################################################################|175/175[00:05<00:00,32.16it/s]"
     ]
    },
    {
     "name": "stdout",
     "output_type": "stream",
     "text": [
      "\u001b[32m[1026 11:37:50 @base.py:285]\u001b[0m Epoch 794 (global_step 138950) finished, time:5.44 seconds.\n",
      "\u001b[32m[1026 11:37:51 @saver.py:79]\u001b[0m Model saved to ../output/Chicago/DATGAN2_1000/model\\model-138950.\n"
     ]
    },
    {
     "name": "stderr",
     "output_type": "stream",
     "text": [
      "\n"
     ]
    },
    {
     "name": "stdout",
     "output_type": "stream",
     "text": [
      "\u001b[32m[1026 11:37:51 @monitor.py:467]\u001b[0m GAN_loss/discrim/accuracy_fake: 0.96\n",
      "\u001b[32m[1026 11:37:51 @monitor.py:467]\u001b[0m GAN_loss/discrim/accuracy_real: 0.044\n",
      "\u001b[32m[1026 11:37:51 @monitor.py:467]\u001b[0m GAN_loss/discrim/loss: 0.65429\n",
      "\u001b[32m[1026 11:37:51 @monitor.py:467]\u001b[0m GAN_loss/gen/final-g-loss: 0.99793\n",
      "\u001b[32m[1026 11:37:51 @monitor.py:467]\u001b[0m GAN_loss/gen/klloss: 0.05863\n",
      "\u001b[32m[1026 11:37:51 @monitor.py:467]\u001b[0m GAN_loss/gen/loss: 0.9393\n",
      "\u001b[32m[1026 11:37:51 @monitor.py:467]\u001b[0m QueueInput/queue_size: 50\n",
      "\u001b[32m[1026 11:37:51 @base.py:275]\u001b[0m Start Epoch 795 ...\n"
     ]
    },
    {
     "name": "stderr",
     "output_type": "stream",
     "text": [
      "100%|###################################################################################|175/175[00:05<00:00,32.24it/s]"
     ]
    },
    {
     "name": "stdout",
     "output_type": "stream",
     "text": [
      "\u001b[32m[1026 11:37:56 @base.py:285]\u001b[0m Epoch 795 (global_step 139125) finished, time:5.43 seconds.\n"
     ]
    },
    {
     "name": "stderr",
     "output_type": "stream",
     "text": [
      "\n"
     ]
    },
    {
     "name": "stdout",
     "output_type": "stream",
     "text": [
      "\u001b[32m[1026 11:37:56 @saver.py:79]\u001b[0m Model saved to ../output/Chicago/DATGAN2_1000/model\\model-139125.\n",
      "\u001b[32m[1026 11:37:56 @monitor.py:467]\u001b[0m GAN_loss/discrim/accuracy_fake: 0.972\n",
      "\u001b[32m[1026 11:37:56 @monitor.py:467]\u001b[0m GAN_loss/discrim/accuracy_real: 0.042\n",
      "\u001b[32m[1026 11:37:56 @monitor.py:467]\u001b[0m GAN_loss/discrim/loss: 0.64649\n",
      "\u001b[32m[1026 11:37:56 @monitor.py:467]\u001b[0m GAN_loss/gen/final-g-loss: 1.006\n",
      "\u001b[32m[1026 11:37:56 @monitor.py:467]\u001b[0m GAN_loss/gen/klloss: 0.055876\n",
      "\u001b[32m[1026 11:37:56 @monitor.py:467]\u001b[0m GAN_loss/gen/loss: 0.95017\n",
      "\u001b[32m[1026 11:37:56 @monitor.py:467]\u001b[0m QueueInput/queue_size: 50\n",
      "\u001b[32m[1026 11:37:56 @base.py:275]\u001b[0m Start Epoch 796 ...\n"
     ]
    },
    {
     "name": "stderr",
     "output_type": "stream",
     "text": [
      "100%|###################################################################################|175/175[00:05<00:00,32.21it/s]"
     ]
    },
    {
     "name": "stdout",
     "output_type": "stream",
     "text": [
      "\u001b[32m[1026 11:38:02 @base.py:285]\u001b[0m Epoch 796 (global_step 139300) finished, time:5.43 seconds.\n",
      "\u001b[32m[1026 11:38:02 @saver.py:79]\u001b[0m Model saved to ../output/Chicago/DATGAN2_1000/model\\model-139300.\n"
     ]
    },
    {
     "name": "stderr",
     "output_type": "stream",
     "text": [
      "\n"
     ]
    },
    {
     "name": "stdout",
     "output_type": "stream",
     "text": [
      "\u001b[32m[1026 11:38:02 @monitor.py:467]\u001b[0m GAN_loss/discrim/accuracy_fake: 0.968\n",
      "\u001b[32m[1026 11:38:02 @monitor.py:467]\u001b[0m GAN_loss/discrim/accuracy_real: 0.058\n",
      "\u001b[32m[1026 11:38:02 @monitor.py:467]\u001b[0m GAN_loss/discrim/loss: 0.64932\n",
      "\u001b[32m[1026 11:38:02 @monitor.py:467]\u001b[0m GAN_loss/gen/final-g-loss: 0.99231\n",
      "\u001b[32m[1026 11:38:02 @monitor.py:467]\u001b[0m GAN_loss/gen/klloss: 0.03941\n",
      "\u001b[32m[1026 11:38:02 @monitor.py:467]\u001b[0m GAN_loss/gen/loss: 0.9529\n",
      "\u001b[32m[1026 11:38:02 @monitor.py:467]\u001b[0m QueueInput/queue_size: 50\n",
      "\u001b[32m[1026 11:38:02 @base.py:275]\u001b[0m Start Epoch 797 ...\n"
     ]
    },
    {
     "name": "stderr",
     "output_type": "stream",
     "text": [
      "100%|###################################################################################|175/175[00:05<00:00,32.25it/s]"
     ]
    },
    {
     "name": "stdout",
     "output_type": "stream",
     "text": [
      "\u001b[32m[1026 11:38:07 @base.py:285]\u001b[0m Epoch 797 (global_step 139475) finished, time:5.43 seconds.\n"
     ]
    },
    {
     "name": "stderr",
     "output_type": "stream",
     "text": [
      "\n"
     ]
    },
    {
     "name": "stdout",
     "output_type": "stream",
     "text": [
      "\u001b[32m[1026 11:38:07 @saver.py:79]\u001b[0m Model saved to ../output/Chicago/DATGAN2_1000/model\\model-139475.\n",
      "\u001b[32m[1026 11:38:08 @monitor.py:467]\u001b[0m GAN_loss/discrim/accuracy_fake: 0.97\n",
      "\u001b[32m[1026 11:38:08 @monitor.py:467]\u001b[0m GAN_loss/discrim/accuracy_real: 0.04\n",
      "\u001b[32m[1026 11:38:08 @monitor.py:467]\u001b[0m GAN_loss/discrim/loss: 0.65004\n",
      "\u001b[32m[1026 11:38:08 @monitor.py:467]\u001b[0m GAN_loss/gen/final-g-loss: 0.99167\n",
      "\u001b[32m[1026 11:38:08 @monitor.py:467]\u001b[0m GAN_loss/gen/klloss: 0.050868\n",
      "\u001b[32m[1026 11:38:08 @monitor.py:467]\u001b[0m GAN_loss/gen/loss: 0.9408\n",
      "\u001b[32m[1026 11:38:08 @monitor.py:467]\u001b[0m QueueInput/queue_size: 50\n",
      "\u001b[32m[1026 11:38:08 @base.py:275]\u001b[0m Start Epoch 798 ...\n"
     ]
    },
    {
     "name": "stderr",
     "output_type": "stream",
     "text": [
      "100%|###################################################################################|175/175[00:05<00:00,32.18it/s]"
     ]
    },
    {
     "name": "stdout",
     "output_type": "stream",
     "text": [
      "\u001b[32m[1026 11:38:13 @base.py:285]\u001b[0m Epoch 798 (global_step 139650) finished, time:5.44 seconds.\n",
      "\u001b[32m[1026 11:38:13 @saver.py:79]\u001b[0m Model saved to ../output/Chicago/DATGAN2_1000/model\\model-139650.\n"
     ]
    },
    {
     "name": "stderr",
     "output_type": "stream",
     "text": [
      "\n"
     ]
    },
    {
     "name": "stdout",
     "output_type": "stream",
     "text": [
      "\u001b[32m[1026 11:38:13 @monitor.py:467]\u001b[0m GAN_loss/discrim/accuracy_fake: 0.96\n",
      "\u001b[32m[1026 11:38:13 @monitor.py:467]\u001b[0m GAN_loss/discrim/accuracy_real: 0.062\n",
      "\u001b[32m[1026 11:38:13 @monitor.py:467]\u001b[0m GAN_loss/discrim/loss: 0.64907\n",
      "\u001b[32m[1026 11:38:13 @monitor.py:467]\u001b[0m GAN_loss/gen/final-g-loss: 0.99021\n",
      "\u001b[32m[1026 11:38:13 @monitor.py:467]\u001b[0m GAN_loss/gen/klloss: 0.044307\n",
      "\u001b[32m[1026 11:38:13 @monitor.py:467]\u001b[0m GAN_loss/gen/loss: 0.9459\n",
      "\u001b[32m[1026 11:38:13 @monitor.py:467]\u001b[0m QueueInput/queue_size: 50\n",
      "\u001b[32m[1026 11:38:13 @base.py:275]\u001b[0m Start Epoch 799 ...\n"
     ]
    },
    {
     "name": "stderr",
     "output_type": "stream",
     "text": [
      "100%|###################################################################################|175/175[00:05<00:00,32.24it/s]"
     ]
    },
    {
     "name": "stdout",
     "output_type": "stream",
     "text": [
      "\u001b[32m[1026 11:38:19 @base.py:285]\u001b[0m Epoch 799 (global_step 139825) finished, time:5.43 seconds.\n"
     ]
    },
    {
     "name": "stderr",
     "output_type": "stream",
     "text": [
      "\n"
     ]
    },
    {
     "name": "stdout",
     "output_type": "stream",
     "text": [
      "\u001b[32m[1026 11:38:19 @saver.py:79]\u001b[0m Model saved to ../output/Chicago/DATGAN2_1000/model\\model-139825.\n",
      "\u001b[32m[1026 11:38:19 @monitor.py:467]\u001b[0m GAN_loss/discrim/accuracy_fake: 0.964\n",
      "\u001b[32m[1026 11:38:19 @monitor.py:467]\u001b[0m GAN_loss/discrim/accuracy_real: 0.05\n",
      "\u001b[32m[1026 11:38:19 @monitor.py:467]\u001b[0m GAN_loss/discrim/loss: 0.6476\n",
      "\u001b[32m[1026 11:38:19 @monitor.py:467]\u001b[0m GAN_loss/gen/final-g-loss: 1.0184\n",
      "\u001b[32m[1026 11:38:19 @monitor.py:467]\u001b[0m GAN_loss/gen/klloss: 0.072325\n",
      "\u001b[32m[1026 11:38:19 @monitor.py:467]\u001b[0m GAN_loss/gen/loss: 0.94612\n",
      "\u001b[32m[1026 11:38:19 @monitor.py:467]\u001b[0m QueueInput/queue_size: 50\n",
      "\u001b[32m[1026 11:38:19 @base.py:275]\u001b[0m Start Epoch 800 ...\n"
     ]
    },
    {
     "name": "stderr",
     "output_type": "stream",
     "text": [
      "100%|###################################################################################|175/175[00:05<00:00,32.18it/s]"
     ]
    },
    {
     "name": "stdout",
     "output_type": "stream",
     "text": [
      "\u001b[32m[1026 11:38:24 @base.py:285]\u001b[0m Epoch 800 (global_step 140000) finished, time:5.44 seconds.\n",
      "\u001b[32m[1026 11:38:24 @saver.py:79]\u001b[0m Model saved to ../output/Chicago/DATGAN2_1000/model\\model-140000.\n"
     ]
    },
    {
     "name": "stderr",
     "output_type": "stream",
     "text": [
      "\n"
     ]
    },
    {
     "name": "stdout",
     "output_type": "stream",
     "text": [
      "\u001b[32m[1026 11:38:25 @monitor.py:467]\u001b[0m GAN_loss/discrim/accuracy_fake: 0.968\n",
      "\u001b[32m[1026 11:38:25 @monitor.py:467]\u001b[0m GAN_loss/discrim/accuracy_real: 0.046\n",
      "\u001b[32m[1026 11:38:25 @monitor.py:467]\u001b[0m GAN_loss/discrim/loss: 0.65203\n",
      "\u001b[32m[1026 11:38:25 @monitor.py:467]\u001b[0m GAN_loss/gen/final-g-loss: 1.0229\n",
      "\u001b[32m[1026 11:38:25 @monitor.py:467]\u001b[0m GAN_loss/gen/klloss: 0.076014\n",
      "\u001b[32m[1026 11:38:25 @monitor.py:467]\u001b[0m GAN_loss/gen/loss: 0.94689\n",
      "\u001b[32m[1026 11:38:25 @monitor.py:467]\u001b[0m QueueInput/queue_size: 50\n",
      "\u001b[32m[1026 11:38:25 @base.py:275]\u001b[0m Start Epoch 801 ...\n"
     ]
    },
    {
     "name": "stderr",
     "output_type": "stream",
     "text": [
      "100%|###################################################################################|175/175[00:05<00:00,32.21it/s]"
     ]
    },
    {
     "name": "stdout",
     "output_type": "stream",
     "text": [
      "\u001b[32m[1026 11:38:30 @base.py:285]\u001b[0m Epoch 801 (global_step 140175) finished, time:5.43 seconds.\n"
     ]
    },
    {
     "name": "stderr",
     "output_type": "stream",
     "text": [
      "\n"
     ]
    },
    {
     "name": "stdout",
     "output_type": "stream",
     "text": [
      "\u001b[32m[1026 11:38:30 @saver.py:79]\u001b[0m Model saved to ../output/Chicago/DATGAN2_1000/model\\model-140175.\n",
      "\u001b[32m[1026 11:38:30 @monitor.py:467]\u001b[0m GAN_loss/discrim/accuracy_fake: 0.962\n",
      "\u001b[32m[1026 11:38:30 @monitor.py:467]\u001b[0m GAN_loss/discrim/accuracy_real: 0.042\n",
      "\u001b[32m[1026 11:38:30 @monitor.py:467]\u001b[0m GAN_loss/discrim/loss: 0.65231\n",
      "\u001b[32m[1026 11:38:30 @monitor.py:467]\u001b[0m GAN_loss/gen/final-g-loss: 1.0114\n",
      "\u001b[32m[1026 11:38:30 @monitor.py:467]\u001b[0m GAN_loss/gen/klloss: 0.068793\n",
      "\u001b[32m[1026 11:38:30 @monitor.py:467]\u001b[0m GAN_loss/gen/loss: 0.9426\n",
      "\u001b[32m[1026 11:38:30 @monitor.py:467]\u001b[0m QueueInput/queue_size: 50\n",
      "\u001b[32m[1026 11:38:30 @base.py:275]\u001b[0m Start Epoch 802 ...\n"
     ]
    },
    {
     "name": "stderr",
     "output_type": "stream",
     "text": [
      "100%|###################################################################################|175/175[00:05<00:00,32.22it/s]"
     ]
    },
    {
     "name": "stdout",
     "output_type": "stream",
     "text": [
      "\u001b[32m[1026 11:38:36 @base.py:285]\u001b[0m Epoch 802 (global_step 140350) finished, time:5.43 seconds.\n"
     ]
    },
    {
     "name": "stderr",
     "output_type": "stream",
     "text": [
      "\n"
     ]
    },
    {
     "name": "stdout",
     "output_type": "stream",
     "text": [
      "\u001b[32m[1026 11:38:36 @saver.py:79]\u001b[0m Model saved to ../output/Chicago/DATGAN2_1000/model\\model-140350.\n",
      "\u001b[32m[1026 11:38:36 @monitor.py:467]\u001b[0m GAN_loss/discrim/accuracy_fake: 0.972\n",
      "\u001b[32m[1026 11:38:36 @monitor.py:467]\u001b[0m GAN_loss/discrim/accuracy_real: 0.042\n",
      "\u001b[32m[1026 11:38:36 @monitor.py:467]\u001b[0m GAN_loss/discrim/loss: 0.64839\n",
      "\u001b[32m[1026 11:38:36 @monitor.py:467]\u001b[0m GAN_loss/gen/final-g-loss: 1.0047\n",
      "\u001b[32m[1026 11:38:36 @monitor.py:467]\u001b[0m GAN_loss/gen/klloss: 0.062708\n",
      "\u001b[32m[1026 11:38:36 @monitor.py:467]\u001b[0m GAN_loss/gen/loss: 0.94203\n",
      "\u001b[32m[1026 11:38:36 @monitor.py:467]\u001b[0m QueueInput/queue_size: 50\n",
      "\u001b[32m[1026 11:38:36 @base.py:275]\u001b[0m Start Epoch 803 ...\n"
     ]
    },
    {
     "name": "stderr",
     "output_type": "stream",
     "text": [
      "100%|###################################################################################|175/175[00:05<00:00,32.24it/s]"
     ]
    },
    {
     "name": "stdout",
     "output_type": "stream",
     "text": [
      "\u001b[32m[1026 11:38:41 @base.py:285]\u001b[0m Epoch 803 (global_step 140525) finished, time:5.43 seconds.\n",
      "\u001b[32m[1026 11:38:41 @saver.py:79]\u001b[0m Model saved to ../output/Chicago/DATGAN2_1000/model\\model-140525.\n"
     ]
    },
    {
     "name": "stderr",
     "output_type": "stream",
     "text": [
      "\n"
     ]
    },
    {
     "name": "stdout",
     "output_type": "stream",
     "text": [
      "\u001b[32m[1026 11:38:42 @monitor.py:467]\u001b[0m GAN_loss/discrim/accuracy_fake: 0.982\n",
      "\u001b[32m[1026 11:38:42 @monitor.py:467]\u001b[0m GAN_loss/discrim/accuracy_real: 0.042\n",
      "\u001b[32m[1026 11:38:42 @monitor.py:467]\u001b[0m GAN_loss/discrim/loss: 0.65158\n",
      "\u001b[32m[1026 11:38:42 @monitor.py:467]\u001b[0m GAN_loss/gen/final-g-loss: 1.0086\n",
      "\u001b[32m[1026 11:38:42 @monitor.py:467]\u001b[0m GAN_loss/gen/klloss: 0.061789\n",
      "\u001b[32m[1026 11:38:42 @monitor.py:467]\u001b[0m GAN_loss/gen/loss: 0.94677\n",
      "\u001b[32m[1026 11:38:42 @monitor.py:467]\u001b[0m QueueInput/queue_size: 50\n",
      "\u001b[32m[1026 11:38:42 @base.py:275]\u001b[0m Start Epoch 804 ...\n"
     ]
    },
    {
     "name": "stderr",
     "output_type": "stream",
     "text": [
      "100%|###################################################################################|175/175[00:05<00:00,32.18it/s]"
     ]
    },
    {
     "name": "stdout",
     "output_type": "stream",
     "text": [
      "\u001b[32m[1026 11:38:47 @base.py:285]\u001b[0m Epoch 804 (global_step 140700) finished, time:5.44 seconds.\n"
     ]
    },
    {
     "name": "stderr",
     "output_type": "stream",
     "text": [
      "\n"
     ]
    },
    {
     "name": "stdout",
     "output_type": "stream",
     "text": [
      "\u001b[32m[1026 11:38:47 @saver.py:79]\u001b[0m Model saved to ../output/Chicago/DATGAN2_1000/model\\model-140700.\n",
      "\u001b[32m[1026 11:38:47 @monitor.py:467]\u001b[0m GAN_loss/discrim/accuracy_fake: 0.966\n",
      "\u001b[32m[1026 11:38:47 @monitor.py:467]\u001b[0m GAN_loss/discrim/accuracy_real: 0.052\n",
      "\u001b[32m[1026 11:38:47 @monitor.py:467]\u001b[0m GAN_loss/discrim/loss: 0.65208\n",
      "\u001b[32m[1026 11:38:47 @monitor.py:467]\u001b[0m GAN_loss/gen/final-g-loss: 0.99977\n",
      "\u001b[32m[1026 11:38:47 @monitor.py:467]\u001b[0m GAN_loss/gen/klloss: 0.061453\n",
      "\u001b[32m[1026 11:38:47 @monitor.py:467]\u001b[0m GAN_loss/gen/loss: 0.93832\n",
      "\u001b[32m[1026 11:38:47 @monitor.py:467]\u001b[0m QueueInput/queue_size: 50\n",
      "\u001b[32m[1026 11:38:47 @base.py:275]\u001b[0m Start Epoch 805 ...\n"
     ]
    },
    {
     "name": "stderr",
     "output_type": "stream",
     "text": [
      "100%|###################################################################################|175/175[00:05<00:00,32.22it/s]"
     ]
    },
    {
     "name": "stdout",
     "output_type": "stream",
     "text": [
      "\u001b[32m[1026 11:38:53 @base.py:285]\u001b[0m Epoch 805 (global_step 140875) finished, time:5.43 seconds.\n"
     ]
    },
    {
     "name": "stderr",
     "output_type": "stream",
     "text": [
      "\n"
     ]
    },
    {
     "name": "stdout",
     "output_type": "stream",
     "text": [
      "\u001b[32m[1026 11:38:53 @saver.py:79]\u001b[0m Model saved to ../output/Chicago/DATGAN2_1000/model\\model-140875.\n",
      "\u001b[32m[1026 11:38:53 @monitor.py:467]\u001b[0m GAN_loss/discrim/accuracy_fake: 0.978\n",
      "\u001b[32m[1026 11:38:53 @monitor.py:467]\u001b[0m GAN_loss/discrim/accuracy_real: 0.034\n",
      "\u001b[32m[1026 11:38:53 @monitor.py:467]\u001b[0m GAN_loss/discrim/loss: 0.64822\n",
      "\u001b[32m[1026 11:38:53 @monitor.py:467]\u001b[0m GAN_loss/gen/final-g-loss: 1.0036\n",
      "\u001b[32m[1026 11:38:53 @monitor.py:467]\u001b[0m GAN_loss/gen/klloss: 0.050279\n",
      "\u001b[32m[1026 11:38:53 @monitor.py:467]\u001b[0m GAN_loss/gen/loss: 0.95328\n",
      "\u001b[32m[1026 11:38:53 @monitor.py:467]\u001b[0m QueueInput/queue_size: 50\n",
      "\u001b[32m[1026 11:38:53 @base.py:275]\u001b[0m Start Epoch 806 ...\n"
     ]
    },
    {
     "name": "stderr",
     "output_type": "stream",
     "text": [
      "100%|###################################################################################|175/175[00:05<00:00,32.18it/s]"
     ]
    },
    {
     "name": "stdout",
     "output_type": "stream",
     "text": [
      "\u001b[32m[1026 11:38:58 @base.py:285]\u001b[0m Epoch 806 (global_step 141050) finished, time:5.44 seconds.\n",
      "\u001b[32m[1026 11:38:58 @saver.py:79]\u001b[0m Model saved to ../output/Chicago/DATGAN2_1000/model\\model-141050.\n"
     ]
    },
    {
     "name": "stderr",
     "output_type": "stream",
     "text": [
      "\n"
     ]
    },
    {
     "name": "stdout",
     "output_type": "stream",
     "text": [
      "\u001b[32m[1026 11:38:58 @monitor.py:467]\u001b[0m GAN_loss/discrim/accuracy_fake: 0.978\n",
      "\u001b[32m[1026 11:38:58 @monitor.py:467]\u001b[0m GAN_loss/discrim/accuracy_real: 0.04\n",
      "\u001b[32m[1026 11:38:58 @monitor.py:467]\u001b[0m GAN_loss/discrim/loss: 0.6469\n",
      "\u001b[32m[1026 11:38:58 @monitor.py:467]\u001b[0m GAN_loss/gen/final-g-loss: 0.99232\n",
      "\u001b[32m[1026 11:38:58 @monitor.py:467]\u001b[0m GAN_loss/gen/klloss: 0.043988\n",
      "\u001b[32m[1026 11:38:58 @monitor.py:467]\u001b[0m GAN_loss/gen/loss: 0.94833\n",
      "\u001b[32m[1026 11:38:58 @monitor.py:467]\u001b[0m QueueInput/queue_size: 50\n",
      "\u001b[32m[1026 11:38:58 @base.py:275]\u001b[0m Start Epoch 807 ...\n"
     ]
    },
    {
     "name": "stderr",
     "output_type": "stream",
     "text": [
      "100%|###################################################################################|175/175[00:05<00:00,32.23it/s]"
     ]
    },
    {
     "name": "stdout",
     "output_type": "stream",
     "text": [
      "\u001b[32m[1026 11:39:04 @base.py:285]\u001b[0m Epoch 807 (global_step 141225) finished, time:5.43 seconds.\n"
     ]
    },
    {
     "name": "stderr",
     "output_type": "stream",
     "text": [
      "\n"
     ]
    },
    {
     "name": "stdout",
     "output_type": "stream",
     "text": [
      "\u001b[32m[1026 11:39:04 @saver.py:79]\u001b[0m Model saved to ../output/Chicago/DATGAN2_1000/model\\model-141225.\n",
      "\u001b[32m[1026 11:39:04 @monitor.py:467]\u001b[0m GAN_loss/discrim/accuracy_fake: 0.972\n",
      "\u001b[32m[1026 11:39:04 @monitor.py:467]\u001b[0m GAN_loss/discrim/accuracy_real: 0.056\n",
      "\u001b[32m[1026 11:39:04 @monitor.py:467]\u001b[0m GAN_loss/discrim/loss: 0.64915\n",
      "\u001b[32m[1026 11:39:04 @monitor.py:467]\u001b[0m GAN_loss/gen/final-g-loss: 1.0089\n",
      "\u001b[32m[1026 11:39:04 @monitor.py:467]\u001b[0m GAN_loss/gen/klloss: 0.059865\n",
      "\u001b[32m[1026 11:39:04 @monitor.py:467]\u001b[0m GAN_loss/gen/loss: 0.94906\n",
      "\u001b[32m[1026 11:39:04 @monitor.py:467]\u001b[0m QueueInput/queue_size: 50\n",
      "\u001b[32m[1026 11:39:04 @base.py:275]\u001b[0m Start Epoch 808 ...\n"
     ]
    },
    {
     "name": "stderr",
     "output_type": "stream",
     "text": [
      "100%|###################################################################################|175/175[00:05<00:00,32.24it/s]"
     ]
    },
    {
     "name": "stdout",
     "output_type": "stream",
     "text": [
      "\u001b[32m[1026 11:39:10 @base.py:285]\u001b[0m Epoch 808 (global_step 141400) finished, time:5.43 seconds.\n"
     ]
    },
    {
     "name": "stderr",
     "output_type": "stream",
     "text": [
      "\n"
     ]
    },
    {
     "name": "stdout",
     "output_type": "stream",
     "text": [
      "\u001b[32m[1026 11:39:10 @saver.py:79]\u001b[0m Model saved to ../output/Chicago/DATGAN2_1000/model\\model-141400.\n",
      "\u001b[32m[1026 11:39:10 @monitor.py:467]\u001b[0m GAN_loss/discrim/accuracy_fake: 0.966\n",
      "\u001b[32m[1026 11:39:10 @monitor.py:467]\u001b[0m GAN_loss/discrim/accuracy_real: 0.072\n",
      "\u001b[32m[1026 11:39:10 @monitor.py:467]\u001b[0m GAN_loss/discrim/loss: 0.6427\n",
      "\u001b[32m[1026 11:39:10 @monitor.py:467]\u001b[0m GAN_loss/gen/final-g-loss: 1.007\n",
      "\u001b[32m[1026 11:39:10 @monitor.py:467]\u001b[0m GAN_loss/gen/klloss: 0.053953\n",
      "\u001b[32m[1026 11:39:10 @monitor.py:467]\u001b[0m GAN_loss/gen/loss: 0.95308\n",
      "\u001b[32m[1026 11:39:10 @monitor.py:467]\u001b[0m QueueInput/queue_size: 50\n",
      "\u001b[32m[1026 11:39:10 @base.py:275]\u001b[0m Start Epoch 809 ...\n"
     ]
    },
    {
     "name": "stderr",
     "output_type": "stream",
     "text": [
      "100%|###################################################################################|175/175[00:05<00:00,32.24it/s]"
     ]
    },
    {
     "name": "stdout",
     "output_type": "stream",
     "text": [
      "\u001b[32m[1026 11:39:15 @base.py:285]\u001b[0m Epoch 809 (global_step 141575) finished, time:5.43 seconds.\n",
      "\u001b[32m[1026 11:39:15 @saver.py:79]\u001b[0m Model saved to ../output/Chicago/DATGAN2_1000/model\\model-141575.\n"
     ]
    },
    {
     "name": "stderr",
     "output_type": "stream",
     "text": [
      "\n"
     ]
    },
    {
     "name": "stdout",
     "output_type": "stream",
     "text": [
      "\u001b[32m[1026 11:39:15 @monitor.py:467]\u001b[0m GAN_loss/discrim/accuracy_fake: 0.974\n",
      "\u001b[32m[1026 11:39:15 @monitor.py:467]\u001b[0m GAN_loss/discrim/accuracy_real: 0.034\n",
      "\u001b[32m[1026 11:39:15 @monitor.py:467]\u001b[0m GAN_loss/discrim/loss: 0.65057\n",
      "\u001b[32m[1026 11:39:15 @monitor.py:467]\u001b[0m GAN_loss/gen/final-g-loss: 0.98032\n",
      "\u001b[32m[1026 11:39:15 @monitor.py:467]\u001b[0m GAN_loss/gen/klloss: 0.039871\n",
      "\u001b[32m[1026 11:39:15 @monitor.py:467]\u001b[0m GAN_loss/gen/loss: 0.94045\n",
      "\u001b[32m[1026 11:39:15 @monitor.py:467]\u001b[0m QueueInput/queue_size: 50\n",
      "\u001b[32m[1026 11:39:15 @base.py:275]\u001b[0m Start Epoch 810 ...\n"
     ]
    },
    {
     "name": "stderr",
     "output_type": "stream",
     "text": [
      "100%|###################################################################################|175/175[00:05<00:00,32.24it/s]"
     ]
    },
    {
     "name": "stdout",
     "output_type": "stream",
     "text": [
      "\u001b[32m[1026 11:39:21 @base.py:285]\u001b[0m Epoch 810 (global_step 141750) finished, time:5.43 seconds.\n"
     ]
    },
    {
     "name": "stderr",
     "output_type": "stream",
     "text": [
      "\n"
     ]
    },
    {
     "name": "stdout",
     "output_type": "stream",
     "text": [
      "\u001b[32m[1026 11:39:21 @saver.py:79]\u001b[0m Model saved to ../output/Chicago/DATGAN2_1000/model\\model-141750.\n",
      "\u001b[32m[1026 11:39:21 @monitor.py:467]\u001b[0m GAN_loss/discrim/accuracy_fake: 0.974\n",
      "\u001b[32m[1026 11:39:21 @monitor.py:467]\u001b[0m GAN_loss/discrim/accuracy_real: 0.046\n",
      "\u001b[32m[1026 11:39:21 @monitor.py:467]\u001b[0m GAN_loss/discrim/loss: 0.65168\n",
      "\u001b[32m[1026 11:39:21 @monitor.py:467]\u001b[0m GAN_loss/gen/final-g-loss: 0.99258\n",
      "\u001b[32m[1026 11:39:21 @monitor.py:467]\u001b[0m GAN_loss/gen/klloss: 0.04679\n",
      "\u001b[32m[1026 11:39:21 @monitor.py:467]\u001b[0m GAN_loss/gen/loss: 0.94579\n",
      "\u001b[32m[1026 11:39:21 @monitor.py:467]\u001b[0m QueueInput/queue_size: 50\n",
      "\u001b[32m[1026 11:39:21 @base.py:275]\u001b[0m Start Epoch 811 ...\n"
     ]
    },
    {
     "name": "stderr",
     "output_type": "stream",
     "text": [
      "100%|###################################################################################|175/175[00:05<00:00,32.16it/s]"
     ]
    },
    {
     "name": "stdout",
     "output_type": "stream",
     "text": [
      "\u001b[32m[1026 11:39:27 @base.py:285]\u001b[0m Epoch 811 (global_step 141925) finished, time:5.44 seconds.\n"
     ]
    },
    {
     "name": "stderr",
     "output_type": "stream",
     "text": [
      "\n"
     ]
    },
    {
     "name": "stdout",
     "output_type": "stream",
     "text": [
      "\u001b[32m[1026 11:39:27 @saver.py:79]\u001b[0m Model saved to ../output/Chicago/DATGAN2_1000/model\\model-141925.\n",
      "\u001b[32m[1026 11:39:27 @monitor.py:467]\u001b[0m GAN_loss/discrim/accuracy_fake: 0.97\n",
      "\u001b[32m[1026 11:39:27 @monitor.py:467]\u001b[0m GAN_loss/discrim/accuracy_real: 0.038\n",
      "\u001b[32m[1026 11:39:27 @monitor.py:467]\u001b[0m GAN_loss/discrim/loss: 0.64972\n",
      "\u001b[32m[1026 11:39:27 @monitor.py:467]\u001b[0m GAN_loss/gen/final-g-loss: 0.99668\n",
      "\u001b[32m[1026 11:39:27 @monitor.py:467]\u001b[0m GAN_loss/gen/klloss: 0.058817\n",
      "\u001b[32m[1026 11:39:27 @monitor.py:467]\u001b[0m GAN_loss/gen/loss: 0.93786\n",
      "\u001b[32m[1026 11:39:27 @monitor.py:467]\u001b[0m QueueInput/queue_size: 50\n",
      "\u001b[32m[1026 11:39:27 @base.py:275]\u001b[0m Start Epoch 812 ...\n"
     ]
    },
    {
     "name": "stderr",
     "output_type": "stream",
     "text": [
      "100%|###################################################################################|175/175[00:05<00:00,32.25it/s]"
     ]
    },
    {
     "name": "stdout",
     "output_type": "stream",
     "text": [
      "\u001b[32m[1026 11:39:32 @base.py:285]\u001b[0m Epoch 812 (global_step 142100) finished, time:5.43 seconds.\n"
     ]
    },
    {
     "name": "stderr",
     "output_type": "stream",
     "text": [
      "\n"
     ]
    },
    {
     "name": "stdout",
     "output_type": "stream",
     "text": [
      "\u001b[32m[1026 11:39:32 @saver.py:79]\u001b[0m Model saved to ../output/Chicago/DATGAN2_1000/model\\model-142100.\n",
      "\u001b[32m[1026 11:39:32 @monitor.py:467]\u001b[0m GAN_loss/discrim/accuracy_fake: 0.974\n",
      "\u001b[32m[1026 11:39:32 @monitor.py:467]\u001b[0m GAN_loss/discrim/accuracy_real: 0.03\n",
      "\u001b[32m[1026 11:39:32 @monitor.py:467]\u001b[0m GAN_loss/discrim/loss: 0.64235\n",
      "\u001b[32m[1026 11:39:32 @monitor.py:467]\u001b[0m GAN_loss/gen/final-g-loss: 1.0081\n",
      "\u001b[32m[1026 11:39:32 @monitor.py:467]\u001b[0m GAN_loss/gen/klloss: 0.050146\n",
      "\u001b[32m[1026 11:39:32 @monitor.py:467]\u001b[0m GAN_loss/gen/loss: 0.95799\n",
      "\u001b[32m[1026 11:39:32 @monitor.py:467]\u001b[0m QueueInput/queue_size: 50\n",
      "\u001b[32m[1026 11:39:32 @base.py:275]\u001b[0m Start Epoch 813 ...\n"
     ]
    },
    {
     "name": "stderr",
     "output_type": "stream",
     "text": [
      "100%|###################################################################################|175/175[00:05<00:00,32.20it/s]"
     ]
    },
    {
     "name": "stdout",
     "output_type": "stream",
     "text": [
      "\u001b[32m[1026 11:39:38 @base.py:285]\u001b[0m Epoch 813 (global_step 142275) finished, time:5.43 seconds.\n"
     ]
    },
    {
     "name": "stderr",
     "output_type": "stream",
     "text": [
      "\n"
     ]
    },
    {
     "name": "stdout",
     "output_type": "stream",
     "text": [
      "\u001b[32m[1026 11:39:38 @saver.py:79]\u001b[0m Model saved to ../output/Chicago/DATGAN2_1000/model\\model-142275.\n",
      "\u001b[32m[1026 11:39:38 @monitor.py:467]\u001b[0m GAN_loss/discrim/accuracy_fake: 0.962\n",
      "\u001b[32m[1026 11:39:38 @monitor.py:467]\u001b[0m GAN_loss/discrim/accuracy_real: 0.05\n",
      "\u001b[32m[1026 11:39:38 @monitor.py:467]\u001b[0m GAN_loss/discrim/loss: 0.65224\n",
      "\u001b[32m[1026 11:39:38 @monitor.py:467]\u001b[0m GAN_loss/gen/final-g-loss: 0.99692\n",
      "\u001b[32m[1026 11:39:38 @monitor.py:467]\u001b[0m GAN_loss/gen/klloss: 0.051649\n",
      "\u001b[32m[1026 11:39:38 @monitor.py:467]\u001b[0m GAN_loss/gen/loss: 0.94527\n",
      "\u001b[32m[1026 11:39:38 @monitor.py:467]\u001b[0m QueueInput/queue_size: 50\n",
      "\u001b[32m[1026 11:39:38 @base.py:275]\u001b[0m Start Epoch 814 ...\n"
     ]
    },
    {
     "name": "stderr",
     "output_type": "stream",
     "text": [
      "100%|###################################################################################|175/175[00:05<00:00,32.22it/s]"
     ]
    },
    {
     "name": "stdout",
     "output_type": "stream",
     "text": [
      "\u001b[32m[1026 11:39:44 @base.py:285]\u001b[0m Epoch 814 (global_step 142450) finished, time:5.43 seconds.\n"
     ]
    },
    {
     "name": "stderr",
     "output_type": "stream",
     "text": [
      "\n"
     ]
    },
    {
     "name": "stdout",
     "output_type": "stream",
     "text": [
      "\u001b[32m[1026 11:39:44 @saver.py:79]\u001b[0m Model saved to ../output/Chicago/DATGAN2_1000/model\\model-142450.\n",
      "\u001b[32m[1026 11:39:44 @monitor.py:467]\u001b[0m GAN_loss/discrim/accuracy_fake: 0.968\n",
      "\u001b[32m[1026 11:39:44 @monitor.py:467]\u001b[0m GAN_loss/discrim/accuracy_real: 0.042\n",
      "\u001b[32m[1026 11:39:44 @monitor.py:467]\u001b[0m GAN_loss/discrim/loss: 0.65369\n",
      "\u001b[32m[1026 11:39:44 @monitor.py:467]\u001b[0m GAN_loss/gen/final-g-loss: 1.0207\n",
      "\u001b[32m[1026 11:39:44 @monitor.py:467]\u001b[0m GAN_loss/gen/klloss: 0.075433\n",
      "\u001b[32m[1026 11:39:44 @monitor.py:467]\u001b[0m GAN_loss/gen/loss: 0.94529\n",
      "\u001b[32m[1026 11:39:44 @monitor.py:467]\u001b[0m QueueInput/queue_size: 50\n",
      "\u001b[32m[1026 11:39:44 @base.py:275]\u001b[0m Start Epoch 815 ...\n"
     ]
    },
    {
     "name": "stderr",
     "output_type": "stream",
     "text": [
      "100%|###################################################################################|175/175[00:05<00:00,32.19it/s]"
     ]
    },
    {
     "name": "stdout",
     "output_type": "stream",
     "text": [
      "\u001b[32m[1026 11:39:49 @base.py:285]\u001b[0m Epoch 815 (global_step 142625) finished, time:5.44 seconds.\n"
     ]
    },
    {
     "name": "stderr",
     "output_type": "stream",
     "text": [
      "\n"
     ]
    },
    {
     "name": "stdout",
     "output_type": "stream",
     "text": [
      "\u001b[32m[1026 11:39:49 @saver.py:79]\u001b[0m Model saved to ../output/Chicago/DATGAN2_1000/model\\model-142625.\n",
      "\u001b[32m[1026 11:39:49 @monitor.py:467]\u001b[0m GAN_loss/discrim/accuracy_fake: 0.966\n",
      "\u001b[32m[1026 11:39:49 @monitor.py:467]\u001b[0m GAN_loss/discrim/accuracy_real: 0.036\n",
      "\u001b[32m[1026 11:39:49 @monitor.py:467]\u001b[0m GAN_loss/discrim/loss: 0.65001\n",
      "\u001b[32m[1026 11:39:49 @monitor.py:467]\u001b[0m GAN_loss/gen/final-g-loss: 1.0154\n",
      "\u001b[32m[1026 11:39:49 @monitor.py:467]\u001b[0m GAN_loss/gen/klloss: 0.067402\n",
      "\u001b[32m[1026 11:39:49 @monitor.py:467]\u001b[0m GAN_loss/gen/loss: 0.94802\n",
      "\u001b[32m[1026 11:39:49 @monitor.py:467]\u001b[0m QueueInput/queue_size: 50\n",
      "\u001b[32m[1026 11:39:49 @base.py:275]\u001b[0m Start Epoch 816 ...\n"
     ]
    },
    {
     "name": "stderr",
     "output_type": "stream",
     "text": [
      "100%|###################################################################################|175/175[00:05<00:00,31.85it/s]"
     ]
    },
    {
     "name": "stdout",
     "output_type": "stream",
     "text": [
      "\u001b[32m[1026 11:39:55 @base.py:285]\u001b[0m Epoch 816 (global_step 142800) finished, time:5.5 seconds.\n",
      "\u001b[32m[1026 11:39:55 @saver.py:79]\u001b[0m Model saved to ../output/Chicago/DATGAN2_1000/model\\model-142800.\n"
     ]
    },
    {
     "name": "stderr",
     "output_type": "stream",
     "text": [
      "\n"
     ]
    },
    {
     "name": "stdout",
     "output_type": "stream",
     "text": [
      "\u001b[32m[1026 11:39:55 @monitor.py:467]\u001b[0m GAN_loss/discrim/accuracy_fake: 0.976\n",
      "\u001b[32m[1026 11:39:55 @monitor.py:467]\u001b[0m GAN_loss/discrim/accuracy_real: 0.062\n",
      "\u001b[32m[1026 11:39:55 @monitor.py:467]\u001b[0m GAN_loss/discrim/loss: 0.65165\n",
      "\u001b[32m[1026 11:39:55 @monitor.py:467]\u001b[0m GAN_loss/gen/final-g-loss: 0.99227\n",
      "\u001b[32m[1026 11:39:55 @monitor.py:467]\u001b[0m GAN_loss/gen/klloss: 0.053874\n",
      "\u001b[32m[1026 11:39:55 @monitor.py:467]\u001b[0m GAN_loss/gen/loss: 0.93839\n",
      "\u001b[32m[1026 11:39:55 @monitor.py:467]\u001b[0m QueueInput/queue_size: 50\n",
      "\u001b[32m[1026 11:39:55 @base.py:275]\u001b[0m Start Epoch 817 ...\n"
     ]
    },
    {
     "name": "stderr",
     "output_type": "stream",
     "text": [
      "100%|###################################################################################|175/175[00:05<00:00,31.89it/s]"
     ]
    },
    {
     "name": "stdout",
     "output_type": "stream",
     "text": [
      "\u001b[32m[1026 11:40:01 @base.py:285]\u001b[0m Epoch 817 (global_step 142975) finished, time:5.49 seconds.\n",
      "\u001b[32m[1026 11:40:01 @saver.py:79]\u001b[0m Model saved to ../output/Chicago/DATGAN2_1000/model\\model-142975.\n"
     ]
    },
    {
     "name": "stderr",
     "output_type": "stream",
     "text": [
      "\n"
     ]
    },
    {
     "name": "stdout",
     "output_type": "stream",
     "text": [
      "\u001b[32m[1026 11:40:01 @monitor.py:467]\u001b[0m GAN_loss/discrim/accuracy_fake: 0.97\n",
      "\u001b[32m[1026 11:40:01 @monitor.py:467]\u001b[0m GAN_loss/discrim/accuracy_real: 0.048\n",
      "\u001b[32m[1026 11:40:01 @monitor.py:467]\u001b[0m GAN_loss/discrim/loss: 0.65235\n",
      "\u001b[32m[1026 11:40:01 @monitor.py:467]\u001b[0m GAN_loss/gen/final-g-loss: 1.0505\n",
      "\u001b[32m[1026 11:40:01 @monitor.py:467]\u001b[0m GAN_loss/gen/klloss: 0.10857\n",
      "\u001b[32m[1026 11:40:01 @monitor.py:467]\u001b[0m GAN_loss/gen/loss: 0.94192\n",
      "\u001b[32m[1026 11:40:01 @monitor.py:467]\u001b[0m QueueInput/queue_size: 50\n",
      "\u001b[32m[1026 11:40:01 @base.py:275]\u001b[0m Start Epoch 818 ...\n"
     ]
    },
    {
     "name": "stderr",
     "output_type": "stream",
     "text": [
      "100%|###################################################################################|175/175[00:05<00:00,31.56it/s]"
     ]
    },
    {
     "name": "stdout",
     "output_type": "stream",
     "text": [
      "\u001b[32m[1026 11:40:06 @base.py:285]\u001b[0m Epoch 818 (global_step 143150) finished, time:5.55 seconds.\n",
      "\u001b[32m[1026 11:40:06 @saver.py:79]\u001b[0m Model saved to ../output/Chicago/DATGAN2_1000/model\\model-143150.\n"
     ]
    },
    {
     "name": "stderr",
     "output_type": "stream",
     "text": [
      "\n"
     ]
    },
    {
     "name": "stdout",
     "output_type": "stream",
     "text": [
      "\u001b[32m[1026 11:40:07 @monitor.py:467]\u001b[0m GAN_loss/discrim/accuracy_fake: 0.96\n",
      "\u001b[32m[1026 11:40:07 @monitor.py:467]\u001b[0m GAN_loss/discrim/accuracy_real: 0.054\n",
      "\u001b[32m[1026 11:40:07 @monitor.py:467]\u001b[0m GAN_loss/discrim/loss: 0.65325\n",
      "\u001b[32m[1026 11:40:07 @monitor.py:467]\u001b[0m GAN_loss/gen/final-g-loss: 0.98876\n",
      "\u001b[32m[1026 11:40:07 @monitor.py:467]\u001b[0m GAN_loss/gen/klloss: 0.048671\n",
      "\u001b[32m[1026 11:40:07 @monitor.py:467]\u001b[0m GAN_loss/gen/loss: 0.94008\n",
      "\u001b[32m[1026 11:40:07 @monitor.py:467]\u001b[0m QueueInput/queue_size: 50\n",
      "\u001b[32m[1026 11:40:07 @base.py:275]\u001b[0m Start Epoch 819 ...\n"
     ]
    },
    {
     "name": "stderr",
     "output_type": "stream",
     "text": [
      "100%|###################################################################################|175/175[00:05<00:00,31.53it/s]"
     ]
    },
    {
     "name": "stdout",
     "output_type": "stream",
     "text": [
      "\u001b[32m[1026 11:40:12 @base.py:285]\u001b[0m Epoch 819 (global_step 143325) finished, time:5.55 seconds.\n",
      "\u001b[32m[1026 11:40:12 @saver.py:79]\u001b[0m Model saved to ../output/Chicago/DATGAN2_1000/model\\model-143325.\n"
     ]
    },
    {
     "name": "stderr",
     "output_type": "stream",
     "text": [
      "\n"
     ]
    },
    {
     "name": "stdout",
     "output_type": "stream",
     "text": [
      "\u001b[32m[1026 11:40:12 @monitor.py:467]\u001b[0m GAN_loss/discrim/accuracy_fake: 0.972\n",
      "\u001b[32m[1026 11:40:12 @monitor.py:467]\u001b[0m GAN_loss/discrim/accuracy_real: 0.054\n",
      "\u001b[32m[1026 11:40:12 @monitor.py:467]\u001b[0m GAN_loss/discrim/loss: 0.64963\n",
      "\u001b[32m[1026 11:40:12 @monitor.py:467]\u001b[0m GAN_loss/gen/final-g-loss: 1.0105\n",
      "\u001b[32m[1026 11:40:12 @monitor.py:467]\u001b[0m GAN_loss/gen/klloss: 0.079728\n",
      "\u001b[32m[1026 11:40:12 @monitor.py:467]\u001b[0m GAN_loss/gen/loss: 0.93081\n",
      "\u001b[32m[1026 11:40:12 @monitor.py:467]\u001b[0m QueueInput/queue_size: 50\n",
      "\u001b[32m[1026 11:40:12 @base.py:275]\u001b[0m Start Epoch 820 ...\n"
     ]
    },
    {
     "name": "stderr",
     "output_type": "stream",
     "text": [
      "100%|###################################################################################|175/175[00:05<00:00,31.35it/s]"
     ]
    },
    {
     "name": "stdout",
     "output_type": "stream",
     "text": [
      "\u001b[32m[1026 11:40:18 @base.py:285]\u001b[0m Epoch 820 (global_step 143500) finished, time:5.58 seconds.\n",
      "\u001b[32m[1026 11:40:18 @saver.py:79]\u001b[0m Model saved to ../output/Chicago/DATGAN2_1000/model\\model-143500.\n"
     ]
    },
    {
     "name": "stderr",
     "output_type": "stream",
     "text": [
      "\n"
     ]
    },
    {
     "name": "stdout",
     "output_type": "stream",
     "text": [
      "\u001b[32m[1026 11:40:18 @monitor.py:467]\u001b[0m GAN_loss/discrim/accuracy_fake: 0.978\n",
      "\u001b[32m[1026 11:40:18 @monitor.py:467]\u001b[0m GAN_loss/discrim/accuracy_real: 0.046\n",
      "\u001b[32m[1026 11:40:18 @monitor.py:467]\u001b[0m GAN_loss/discrim/loss: 0.64442\n",
      "\u001b[32m[1026 11:40:18 @monitor.py:467]\u001b[0m GAN_loss/gen/final-g-loss: 1.0004\n",
      "\u001b[32m[1026 11:40:18 @monitor.py:467]\u001b[0m GAN_loss/gen/klloss: 0.053794\n",
      "\u001b[32m[1026 11:40:18 @monitor.py:467]\u001b[0m GAN_loss/gen/loss: 0.94661\n",
      "\u001b[32m[1026 11:40:18 @monitor.py:467]\u001b[0m QueueInput/queue_size: 50\n",
      "\u001b[32m[1026 11:40:18 @base.py:275]\u001b[0m Start Epoch 821 ...\n"
     ]
    },
    {
     "name": "stderr",
     "output_type": "stream",
     "text": [
      "100%|###################################################################################|175/175[00:05<00:00,31.43it/s]"
     ]
    },
    {
     "name": "stdout",
     "output_type": "stream",
     "text": [
      "\u001b[32m[1026 11:40:24 @base.py:285]\u001b[0m Epoch 821 (global_step 143675) finished, time:5.57 seconds.\n",
      "\u001b[32m[1026 11:40:24 @saver.py:79]\u001b[0m Model saved to ../output/Chicago/DATGAN2_1000/model\\model-143675.\n"
     ]
    },
    {
     "name": "stderr",
     "output_type": "stream",
     "text": [
      "\n"
     ]
    },
    {
     "name": "stdout",
     "output_type": "stream",
     "text": [
      "\u001b[32m[1026 11:40:24 @monitor.py:467]\u001b[0m GAN_loss/discrim/accuracy_fake: 0.95\n",
      "\u001b[32m[1026 11:40:24 @monitor.py:467]\u001b[0m GAN_loss/discrim/accuracy_real: 0.036\n",
      "\u001b[32m[1026 11:40:24 @monitor.py:467]\u001b[0m GAN_loss/discrim/loss: 0.65304\n",
      "\u001b[32m[1026 11:40:24 @monitor.py:467]\u001b[0m GAN_loss/gen/final-g-loss: 0.98662\n",
      "\u001b[32m[1026 11:40:24 @monitor.py:467]\u001b[0m GAN_loss/gen/klloss: 0.050237\n",
      "\u001b[32m[1026 11:40:24 @monitor.py:467]\u001b[0m GAN_loss/gen/loss: 0.93638\n",
      "\u001b[32m[1026 11:40:24 @monitor.py:467]\u001b[0m QueueInput/queue_size: 50\n",
      "\u001b[32m[1026 11:40:24 @base.py:275]\u001b[0m Start Epoch 822 ...\n"
     ]
    },
    {
     "name": "stderr",
     "output_type": "stream",
     "text": [
      "100%|###################################################################################|175/175[00:05<00:00,31.31it/s]"
     ]
    },
    {
     "name": "stdout",
     "output_type": "stream",
     "text": [
      "\u001b[32m[1026 11:40:30 @base.py:285]\u001b[0m Epoch 822 (global_step 143850) finished, time:5.59 seconds.\n",
      "\u001b[32m[1026 11:40:30 @saver.py:79]\u001b[0m Model saved to ../output/Chicago/DATGAN2_1000/model\\model-143850.\n"
     ]
    },
    {
     "name": "stderr",
     "output_type": "stream",
     "text": [
      "\n"
     ]
    },
    {
     "name": "stdout",
     "output_type": "stream",
     "text": [
      "\u001b[32m[1026 11:40:30 @monitor.py:467]\u001b[0m GAN_loss/discrim/accuracy_fake: 0.976\n",
      "\u001b[32m[1026 11:40:30 @monitor.py:467]\u001b[0m GAN_loss/discrim/accuracy_real: 0.034\n",
      "\u001b[32m[1026 11:40:30 @monitor.py:467]\u001b[0m GAN_loss/discrim/loss: 0.65096\n",
      "\u001b[32m[1026 11:40:30 @monitor.py:467]\u001b[0m GAN_loss/gen/final-g-loss: 0.98635\n",
      "\u001b[32m[1026 11:40:30 @monitor.py:467]\u001b[0m GAN_loss/gen/klloss: 0.050703\n",
      "\u001b[32m[1026 11:40:30 @monitor.py:467]\u001b[0m GAN_loss/gen/loss: 0.93564\n",
      "\u001b[32m[1026 11:40:30 @monitor.py:467]\u001b[0m QueueInput/queue_size: 50\n",
      "\u001b[32m[1026 11:40:30 @base.py:275]\u001b[0m Start Epoch 823 ...\n"
     ]
    },
    {
     "name": "stderr",
     "output_type": "stream",
     "text": [
      "100%|###################################################################################|175/175[00:05<00:00,31.24it/s]"
     ]
    },
    {
     "name": "stdout",
     "output_type": "stream",
     "text": [
      "\u001b[32m[1026 11:40:35 @base.py:285]\u001b[0m Epoch 823 (global_step 144025) finished, time:5.6 seconds.\n",
      "\u001b[32m[1026 11:40:35 @saver.py:79]\u001b[0m Model saved to ../output/Chicago/DATGAN2_1000/model\\model-144025.\n"
     ]
    },
    {
     "name": "stderr",
     "output_type": "stream",
     "text": [
      "\n"
     ]
    },
    {
     "name": "stdout",
     "output_type": "stream",
     "text": [
      "\u001b[32m[1026 11:40:36 @monitor.py:467]\u001b[0m GAN_loss/discrim/accuracy_fake: 0.974\n",
      "\u001b[32m[1026 11:40:36 @monitor.py:467]\u001b[0m GAN_loss/discrim/accuracy_real: 0.044\n",
      "\u001b[32m[1026 11:40:36 @monitor.py:467]\u001b[0m GAN_loss/discrim/loss: 0.65308\n",
      "\u001b[32m[1026 11:40:36 @monitor.py:467]\u001b[0m GAN_loss/gen/final-g-loss: 0.99332\n",
      "\u001b[32m[1026 11:40:36 @monitor.py:467]\u001b[0m GAN_loss/gen/klloss: 0.055746\n",
      "\u001b[32m[1026 11:40:36 @monitor.py:467]\u001b[0m GAN_loss/gen/loss: 0.93757\n",
      "\u001b[32m[1026 11:40:36 @monitor.py:467]\u001b[0m QueueInput/queue_size: 50\n",
      "\u001b[32m[1026 11:40:36 @base.py:275]\u001b[0m Start Epoch 824 ...\n"
     ]
    },
    {
     "name": "stderr",
     "output_type": "stream",
     "text": [
      "100%|###################################################################################|175/175[00:05<00:00,31.98it/s]"
     ]
    },
    {
     "name": "stdout",
     "output_type": "stream",
     "text": [
      "\u001b[32m[1026 11:40:41 @base.py:285]\u001b[0m Epoch 824 (global_step 144200) finished, time:5.47 seconds.\n",
      "\u001b[32m[1026 11:40:41 @saver.py:79]\u001b[0m Model saved to ../output/Chicago/DATGAN2_1000/model\\model-144200.\n"
     ]
    },
    {
     "name": "stderr",
     "output_type": "stream",
     "text": [
      "\n"
     ]
    },
    {
     "name": "stdout",
     "output_type": "stream",
     "text": [
      "\u001b[32m[1026 11:40:41 @monitor.py:467]\u001b[0m GAN_loss/discrim/accuracy_fake: 0.952\n",
      "\u001b[32m[1026 11:40:41 @monitor.py:467]\u001b[0m GAN_loss/discrim/accuracy_real: 0.058\n",
      "\u001b[32m[1026 11:40:41 @monitor.py:467]\u001b[0m GAN_loss/discrim/loss: 0.64733\n",
      "\u001b[32m[1026 11:40:41 @monitor.py:467]\u001b[0m GAN_loss/gen/final-g-loss: 1.0045\n",
      "\u001b[32m[1026 11:40:41 @monitor.py:467]\u001b[0m GAN_loss/gen/klloss: 0.060123\n",
      "\u001b[32m[1026 11:40:41 @monitor.py:467]\u001b[0m GAN_loss/gen/loss: 0.94441\n",
      "\u001b[32m[1026 11:40:41 @monitor.py:467]\u001b[0m QueueInput/queue_size: 50\n",
      "\u001b[32m[1026 11:40:41 @base.py:275]\u001b[0m Start Epoch 825 ...\n"
     ]
    },
    {
     "name": "stderr",
     "output_type": "stream",
     "text": [
      "100%|###################################################################################|175/175[00:05<00:00,31.08it/s]"
     ]
    },
    {
     "name": "stdout",
     "output_type": "stream",
     "text": [
      "\u001b[32m[1026 11:40:47 @base.py:285]\u001b[0m Epoch 825 (global_step 144375) finished, time:5.63 seconds.\n",
      "\u001b[32m[1026 11:40:47 @saver.py:79]\u001b[0m Model saved to ../output/Chicago/DATGAN2_1000/model\\model-144375.\n"
     ]
    },
    {
     "name": "stderr",
     "output_type": "stream",
     "text": [
      "\n"
     ]
    },
    {
     "name": "stdout",
     "output_type": "stream",
     "text": [
      "\u001b[32m[1026 11:40:47 @monitor.py:467]\u001b[0m GAN_loss/discrim/accuracy_fake: 0.97\n",
      "\u001b[32m[1026 11:40:47 @monitor.py:467]\u001b[0m GAN_loss/discrim/accuracy_real: 0.038\n",
      "\u001b[32m[1026 11:40:47 @monitor.py:467]\u001b[0m GAN_loss/discrim/loss: 0.64552\n",
      "\u001b[32m[1026 11:40:47 @monitor.py:467]\u001b[0m GAN_loss/gen/final-g-loss: 0.99077\n",
      "\u001b[32m[1026 11:40:47 @monitor.py:467]\u001b[0m GAN_loss/gen/klloss: 0.049352\n",
      "\u001b[32m[1026 11:40:47 @monitor.py:467]\u001b[0m GAN_loss/gen/loss: 0.94142\n",
      "\u001b[32m[1026 11:40:47 @monitor.py:467]\u001b[0m QueueInput/queue_size: 50\n",
      "\u001b[32m[1026 11:40:47 @base.py:275]\u001b[0m Start Epoch 826 ...\n"
     ]
    },
    {
     "name": "stderr",
     "output_type": "stream",
     "text": [
      "100%|###################################################################################|175/175[00:05<00:00,30.23it/s]"
     ]
    },
    {
     "name": "stdout",
     "output_type": "stream",
     "text": [
      "\u001b[32m[1026 11:40:53 @base.py:285]\u001b[0m Epoch 826 (global_step 144550) finished, time:5.79 seconds.\n"
     ]
    },
    {
     "name": "stderr",
     "output_type": "stream",
     "text": [
      "\n"
     ]
    },
    {
     "name": "stdout",
     "output_type": "stream",
     "text": [
      "\u001b[32m[1026 11:40:53 @saver.py:79]\u001b[0m Model saved to ../output/Chicago/DATGAN2_1000/model\\model-144550.\n",
      "\u001b[32m[1026 11:40:53 @monitor.py:467]\u001b[0m GAN_loss/discrim/accuracy_fake: 0.976\n",
      "\u001b[32m[1026 11:40:53 @monitor.py:467]\u001b[0m GAN_loss/discrim/accuracy_real: 0.04\n",
      "\u001b[32m[1026 11:40:53 @monitor.py:467]\u001b[0m GAN_loss/discrim/loss: 0.64802\n",
      "\u001b[32m[1026 11:40:53 @monitor.py:467]\u001b[0m GAN_loss/gen/final-g-loss: 0.98922\n",
      "\u001b[32m[1026 11:40:53 @monitor.py:467]\u001b[0m GAN_loss/gen/klloss: 0.045954\n",
      "\u001b[32m[1026 11:40:53 @monitor.py:467]\u001b[0m GAN_loss/gen/loss: 0.94327\n",
      "\u001b[32m[1026 11:40:53 @monitor.py:467]\u001b[0m QueueInput/queue_size: 50\n",
      "\u001b[32m[1026 11:40:53 @base.py:275]\u001b[0m Start Epoch 827 ...\n"
     ]
    },
    {
     "name": "stderr",
     "output_type": "stream",
     "text": [
      "100%|###################################################################################|175/175[00:05<00:00,31.26it/s]"
     ]
    },
    {
     "name": "stdout",
     "output_type": "stream",
     "text": [
      "\u001b[32m[1026 11:40:59 @base.py:285]\u001b[0m Epoch 827 (global_step 144725) finished, time:5.6 seconds.\n",
      "\u001b[32m[1026 11:40:59 @saver.py:79]\u001b[0m Model saved to ../output/Chicago/DATGAN2_1000/model\\model-144725.\n",
      "\u001b[32m[1026 11:40:59 @monitor.py:467]\u001b[0m GAN_loss/discrim/accuracy_fake: 0.982\n"
     ]
    },
    {
     "name": "stderr",
     "output_type": "stream",
     "text": [
      "\n"
     ]
    },
    {
     "name": "stdout",
     "output_type": "stream",
     "text": [
      "\u001b[32m[1026 11:40:59 @monitor.py:467]\u001b[0m GAN_loss/discrim/accuracy_real: 0.038\n",
      "\u001b[32m[1026 11:40:59 @monitor.py:467]\u001b[0m GAN_loss/discrim/loss: 0.64359\n",
      "\u001b[32m[1026 11:40:59 @monitor.py:467]\u001b[0m GAN_loss/gen/final-g-loss: 1.0077\n",
      "\u001b[32m[1026 11:40:59 @monitor.py:467]\u001b[0m GAN_loss/gen/klloss: 0.061981\n",
      "\u001b[32m[1026 11:40:59 @monitor.py:467]\u001b[0m GAN_loss/gen/loss: 0.94575\n",
      "\u001b[32m[1026 11:40:59 @monitor.py:467]\u001b[0m QueueInput/queue_size: 50\n",
      "\u001b[32m[1026 11:40:59 @base.py:275]\u001b[0m Start Epoch 828 ...\n"
     ]
    },
    {
     "name": "stderr",
     "output_type": "stream",
     "text": [
      "100%|###################################################################################|175/175[00:05<00:00,31.51it/s]"
     ]
    },
    {
     "name": "stdout",
     "output_type": "stream",
     "text": [
      "\u001b[32m[1026 11:41:05 @base.py:285]\u001b[0m Epoch 828 (global_step 144900) finished, time:5.55 seconds.\n",
      "\u001b[32m[1026 11:41:05 @saver.py:79]\u001b[0m Model saved to ../output/Chicago/DATGAN2_1000/model\\model-144900.\n"
     ]
    },
    {
     "name": "stderr",
     "output_type": "stream",
     "text": [
      "\n"
     ]
    },
    {
     "name": "stdout",
     "output_type": "stream",
     "text": [
      "\u001b[32m[1026 11:41:05 @monitor.py:467]\u001b[0m GAN_loss/discrim/accuracy_fake: 0.962\n",
      "\u001b[32m[1026 11:41:05 @monitor.py:467]\u001b[0m GAN_loss/discrim/accuracy_real: 0.058\n",
      "\u001b[32m[1026 11:41:05 @monitor.py:467]\u001b[0m GAN_loss/discrim/loss: 0.64867\n",
      "\u001b[32m[1026 11:41:05 @monitor.py:467]\u001b[0m GAN_loss/gen/final-g-loss: 1.003\n",
      "\u001b[32m[1026 11:41:05 @monitor.py:467]\u001b[0m GAN_loss/gen/klloss: 0.058598\n",
      "\u001b[32m[1026 11:41:05 @monitor.py:467]\u001b[0m GAN_loss/gen/loss: 0.94437\n",
      "\u001b[32m[1026 11:41:05 @monitor.py:467]\u001b[0m QueueInput/queue_size: 50\n",
      "\u001b[32m[1026 11:41:05 @base.py:275]\u001b[0m Start Epoch 829 ...\n"
     ]
    },
    {
     "name": "stderr",
     "output_type": "stream",
     "text": [
      "100%|###################################################################################|175/175[00:05<00:00,30.46it/s]"
     ]
    },
    {
     "name": "stdout",
     "output_type": "stream",
     "text": [
      "\u001b[32m[1026 11:41:11 @base.py:285]\u001b[0m Epoch 829 (global_step 145075) finished, time:5.75 seconds.\n",
      "\u001b[32m[1026 11:41:11 @saver.py:79]\u001b[0m Model saved to ../output/Chicago/DATGAN2_1000/model\\model-145075.\n"
     ]
    },
    {
     "name": "stderr",
     "output_type": "stream",
     "text": [
      "\n"
     ]
    },
    {
     "name": "stdout",
     "output_type": "stream",
     "text": [
      "\u001b[32m[1026 11:41:11 @monitor.py:467]\u001b[0m GAN_loss/discrim/accuracy_fake: 0.968\n",
      "\u001b[32m[1026 11:41:11 @monitor.py:467]\u001b[0m GAN_loss/discrim/accuracy_real: 0.046\n",
      "\u001b[32m[1026 11:41:11 @monitor.py:467]\u001b[0m GAN_loss/discrim/loss: 0.64536\n",
      "\u001b[32m[1026 11:41:11 @monitor.py:467]\u001b[0m GAN_loss/gen/final-g-loss: 1.0223\n",
      "\u001b[32m[1026 11:41:11 @monitor.py:467]\u001b[0m GAN_loss/gen/klloss: 0.069783\n",
      "\u001b[32m[1026 11:41:11 @monitor.py:467]\u001b[0m GAN_loss/gen/loss: 0.95248\n",
      "\u001b[32m[1026 11:41:11 @monitor.py:467]\u001b[0m QueueInput/queue_size: 50\n",
      "\u001b[32m[1026 11:41:11 @base.py:275]\u001b[0m Start Epoch 830 ...\n"
     ]
    },
    {
     "name": "stderr",
     "output_type": "stream",
     "text": [
      "100%|###################################################################################|175/175[00:05<00:00,32.00it/s]"
     ]
    },
    {
     "name": "stdout",
     "output_type": "stream",
     "text": [
      "\u001b[32m[1026 11:41:16 @base.py:285]\u001b[0m Epoch 830 (global_step 145250) finished, time:5.47 seconds.\n",
      "\u001b[32m[1026 11:41:16 @saver.py:79]\u001b[0m Model saved to ../output/Chicago/DATGAN2_1000/model\\model-145250.\n"
     ]
    },
    {
     "name": "stderr",
     "output_type": "stream",
     "text": [
      "\n"
     ]
    },
    {
     "name": "stdout",
     "output_type": "stream",
     "text": [
      "\u001b[32m[1026 11:41:16 @monitor.py:467]\u001b[0m GAN_loss/discrim/accuracy_fake: 0.976\n",
      "\u001b[32m[1026 11:41:16 @monitor.py:467]\u001b[0m GAN_loss/discrim/accuracy_real: 0.044\n",
      "\u001b[32m[1026 11:41:16 @monitor.py:467]\u001b[0m GAN_loss/discrim/loss: 0.65017\n",
      "\u001b[32m[1026 11:41:16 @monitor.py:467]\u001b[0m GAN_loss/gen/final-g-loss: 1.0198\n",
      "\u001b[32m[1026 11:41:16 @monitor.py:467]\u001b[0m GAN_loss/gen/klloss: 0.075954\n",
      "\u001b[32m[1026 11:41:16 @monitor.py:467]\u001b[0m GAN_loss/gen/loss: 0.94388\n",
      "\u001b[32m[1026 11:41:16 @monitor.py:467]\u001b[0m QueueInput/queue_size: 50\n",
      "\u001b[32m[1026 11:41:16 @base.py:275]\u001b[0m Start Epoch 831 ...\n"
     ]
    },
    {
     "name": "stderr",
     "output_type": "stream",
     "text": [
      "100%|###################################################################################|175/175[00:05<00:00,31.75it/s]"
     ]
    },
    {
     "name": "stdout",
     "output_type": "stream",
     "text": [
      "\u001b[32m[1026 11:41:22 @base.py:285]\u001b[0m Epoch 831 (global_step 145425) finished, time:5.51 seconds.\n",
      "\u001b[32m[1026 11:41:22 @saver.py:79]\u001b[0m Model saved to ../output/Chicago/DATGAN2_1000/model\\model-145425.\n"
     ]
    },
    {
     "name": "stderr",
     "output_type": "stream",
     "text": [
      "\n"
     ]
    },
    {
     "name": "stdout",
     "output_type": "stream",
     "text": [
      "\u001b[32m[1026 11:41:22 @monitor.py:467]\u001b[0m GAN_loss/discrim/accuracy_fake: 0.976\n",
      "\u001b[32m[1026 11:41:22 @monitor.py:467]\u001b[0m GAN_loss/discrim/accuracy_real: 0.044\n",
      "\u001b[32m[1026 11:41:22 @monitor.py:467]\u001b[0m GAN_loss/discrim/loss: 0.64651\n",
      "\u001b[32m[1026 11:41:22 @monitor.py:467]\u001b[0m GAN_loss/gen/final-g-loss: 0.9986\n",
      "\u001b[32m[1026 11:41:22 @monitor.py:467]\u001b[0m GAN_loss/gen/klloss: 0.055109\n",
      "\u001b[32m[1026 11:41:22 @monitor.py:467]\u001b[0m GAN_loss/gen/loss: 0.94349\n",
      "\u001b[32m[1026 11:41:22 @monitor.py:467]\u001b[0m QueueInput/queue_size: 50\n",
      "\u001b[32m[1026 11:41:22 @base.py:275]\u001b[0m Start Epoch 832 ...\n"
     ]
    },
    {
     "name": "stderr",
     "output_type": "stream",
     "text": [
      "100%|###################################################################################|175/175[00:05<00:00,32.05it/s]"
     ]
    },
    {
     "name": "stdout",
     "output_type": "stream",
     "text": [
      "\u001b[32m[1026 11:41:28 @base.py:285]\u001b[0m Epoch 832 (global_step 145600) finished, time:5.46 seconds.\n",
      "\u001b[32m[1026 11:41:28 @saver.py:79]\u001b[0m Model saved to ../output/Chicago/DATGAN2_1000/model\\model-145600.\n"
     ]
    },
    {
     "name": "stderr",
     "output_type": "stream",
     "text": [
      "\n"
     ]
    },
    {
     "name": "stdout",
     "output_type": "stream",
     "text": [
      "\u001b[32m[1026 11:41:28 @monitor.py:467]\u001b[0m GAN_loss/discrim/accuracy_fake: 0.984\n",
      "\u001b[32m[1026 11:41:28 @monitor.py:467]\u001b[0m GAN_loss/discrim/accuracy_real: 0.038\n",
      "\u001b[32m[1026 11:41:28 @monitor.py:467]\u001b[0m GAN_loss/discrim/loss: 0.65184\n",
      "\u001b[32m[1026 11:41:28 @monitor.py:467]\u001b[0m GAN_loss/gen/final-g-loss: 0.99611\n",
      "\u001b[32m[1026 11:41:28 @monitor.py:467]\u001b[0m GAN_loss/gen/klloss: 0.054838\n",
      "\u001b[32m[1026 11:41:28 @monitor.py:467]\u001b[0m GAN_loss/gen/loss: 0.94128\n",
      "\u001b[32m[1026 11:41:28 @monitor.py:467]\u001b[0m QueueInput/queue_size: 50\n",
      "\u001b[32m[1026 11:41:28 @base.py:275]\u001b[0m Start Epoch 833 ...\n"
     ]
    },
    {
     "name": "stderr",
     "output_type": "stream",
     "text": [
      "100%|###################################################################################|175/175[00:05<00:00,30.72it/s]"
     ]
    },
    {
     "name": "stdout",
     "output_type": "stream",
     "text": [
      "\u001b[32m[1026 11:41:34 @base.py:285]\u001b[0m Epoch 833 (global_step 145775) finished, time:5.7 seconds.\n",
      "\u001b[32m[1026 11:41:34 @saver.py:79]\u001b[0m Model saved to ../output/Chicago/DATGAN2_1000/model\\model-145775.\n"
     ]
    },
    {
     "name": "stderr",
     "output_type": "stream",
     "text": [
      "\n"
     ]
    },
    {
     "name": "stdout",
     "output_type": "stream",
     "text": [
      "\u001b[32m[1026 11:41:34 @monitor.py:467]\u001b[0m GAN_loss/discrim/accuracy_fake: 0.976\n",
      "\u001b[32m[1026 11:41:34 @monitor.py:467]\u001b[0m GAN_loss/discrim/accuracy_real: 0.04\n",
      "\u001b[32m[1026 11:41:34 @monitor.py:467]\u001b[0m GAN_loss/discrim/loss: 0.64412\n",
      "\u001b[32m[1026 11:41:34 @monitor.py:467]\u001b[0m GAN_loss/gen/final-g-loss: 1.005\n",
      "\u001b[32m[1026 11:41:34 @monitor.py:467]\u001b[0m GAN_loss/gen/klloss: 0.059608\n",
      "\u001b[32m[1026 11:41:34 @monitor.py:467]\u001b[0m GAN_loss/gen/loss: 0.94538\n",
      "\u001b[32m[1026 11:41:34 @monitor.py:467]\u001b[0m QueueInput/queue_size: 50\n",
      "\u001b[32m[1026 11:41:34 @base.py:275]\u001b[0m Start Epoch 834 ...\n"
     ]
    },
    {
     "name": "stderr",
     "output_type": "stream",
     "text": [
      "100%|###################################################################################|175/175[00:05<00:00,30.69it/s]"
     ]
    },
    {
     "name": "stdout",
     "output_type": "stream",
     "text": [
      "\u001b[32m[1026 11:41:40 @base.py:285]\u001b[0m Epoch 834 (global_step 145950) finished, time:5.7 seconds.\n",
      "\u001b[32m[1026 11:41:40 @saver.py:79]\u001b[0m Model saved to ../output/Chicago/DATGAN2_1000/model\\model-145950.\n"
     ]
    },
    {
     "name": "stderr",
     "output_type": "stream",
     "text": [
      "\n"
     ]
    },
    {
     "name": "stdout",
     "output_type": "stream",
     "text": [
      "\u001b[32m[1026 11:41:40 @monitor.py:467]\u001b[0m GAN_loss/discrim/accuracy_fake: 0.982\n",
      "\u001b[32m[1026 11:41:40 @monitor.py:467]\u001b[0m GAN_loss/discrim/accuracy_real: 0.034\n",
      "\u001b[32m[1026 11:41:40 @monitor.py:467]\u001b[0m GAN_loss/discrim/loss: 0.65243\n",
      "\u001b[32m[1026 11:41:40 @monitor.py:467]\u001b[0m GAN_loss/gen/final-g-loss: 0.98653\n",
      "\u001b[32m[1026 11:41:40 @monitor.py:467]\u001b[0m GAN_loss/gen/klloss: 0.042716\n",
      "\u001b[32m[1026 11:41:40 @monitor.py:467]\u001b[0m GAN_loss/gen/loss: 0.94382\n",
      "\u001b[32m[1026 11:41:40 @monitor.py:467]\u001b[0m QueueInput/queue_size: 50\n",
      "\u001b[32m[1026 11:41:40 @base.py:275]\u001b[0m Start Epoch 835 ...\n"
     ]
    },
    {
     "name": "stderr",
     "output_type": "stream",
     "text": [
      "100%|###################################################################################|175/175[00:05<00:00,31.10it/s]"
     ]
    },
    {
     "name": "stdout",
     "output_type": "stream",
     "text": [
      "\u001b[32m[1026 11:41:45 @base.py:285]\u001b[0m Epoch 835 (global_step 146125) finished, time:5.63 seconds.\n",
      "\u001b[32m[1026 11:41:45 @saver.py:79]\u001b[0m Model saved to ../output/Chicago/DATGAN2_1000/model\\model-146125.\n"
     ]
    },
    {
     "name": "stderr",
     "output_type": "stream",
     "text": [
      "\n"
     ]
    },
    {
     "name": "stdout",
     "output_type": "stream",
     "text": [
      "\u001b[32m[1026 11:41:46 @monitor.py:467]\u001b[0m GAN_loss/discrim/accuracy_fake: 0.98\n",
      "\u001b[32m[1026 11:41:46 @monitor.py:467]\u001b[0m GAN_loss/discrim/accuracy_real: 0.038\n",
      "\u001b[32m[1026 11:41:46 @monitor.py:467]\u001b[0m GAN_loss/discrim/loss: 0.64886\n",
      "\u001b[32m[1026 11:41:46 @monitor.py:467]\u001b[0m GAN_loss/gen/final-g-loss: 0.98141\n",
      "\u001b[32m[1026 11:41:46 @monitor.py:467]\u001b[0m GAN_loss/gen/klloss: 0.043621\n",
      "\u001b[32m[1026 11:41:46 @monitor.py:467]\u001b[0m GAN_loss/gen/loss: 0.93779\n",
      "\u001b[32m[1026 11:41:46 @monitor.py:467]\u001b[0m QueueInput/queue_size: 50\n",
      "\u001b[32m[1026 11:41:46 @base.py:275]\u001b[0m Start Epoch 836 ...\n"
     ]
    },
    {
     "name": "stderr",
     "output_type": "stream",
     "text": [
      "100%|###################################################################################|175/175[00:05<00:00,32.12it/s]"
     ]
    },
    {
     "name": "stdout",
     "output_type": "stream",
     "text": [
      "\u001b[32m[1026 11:41:51 @base.py:285]\u001b[0m Epoch 836 (global_step 146300) finished, time:5.45 seconds.\n",
      "\u001b[32m[1026 11:41:51 @saver.py:79]\u001b[0m Model saved to ../output/Chicago/DATGAN2_1000/model\\model-146300.\n"
     ]
    },
    {
     "name": "stderr",
     "output_type": "stream",
     "text": [
      "\n"
     ]
    },
    {
     "name": "stdout",
     "output_type": "stream",
     "text": [
      "\u001b[32m[1026 11:41:51 @monitor.py:467]\u001b[0m GAN_loss/discrim/accuracy_fake: 0.956\n",
      "\u001b[32m[1026 11:41:51 @monitor.py:467]\u001b[0m GAN_loss/discrim/accuracy_real: 0.05\n",
      "\u001b[32m[1026 11:41:51 @monitor.py:467]\u001b[0m GAN_loss/discrim/loss: 0.65076\n",
      "\u001b[32m[1026 11:41:51 @monitor.py:467]\u001b[0m GAN_loss/gen/final-g-loss: 0.98727\n",
      "\u001b[32m[1026 11:41:51 @monitor.py:467]\u001b[0m GAN_loss/gen/klloss: 0.047321\n",
      "\u001b[32m[1026 11:41:51 @monitor.py:467]\u001b[0m GAN_loss/gen/loss: 0.93995\n",
      "\u001b[32m[1026 11:41:51 @monitor.py:467]\u001b[0m QueueInput/queue_size: 50\n",
      "\u001b[32m[1026 11:41:51 @base.py:275]\u001b[0m Start Epoch 837 ...\n"
     ]
    },
    {
     "name": "stderr",
     "output_type": "stream",
     "text": [
      "100%|###################################################################################|175/175[00:05<00:00,32.25it/s]"
     ]
    },
    {
     "name": "stdout",
     "output_type": "stream",
     "text": [
      "\u001b[32m[1026 11:41:57 @base.py:285]\u001b[0m Epoch 837 (global_step 146475) finished, time:5.43 seconds.\n"
     ]
    },
    {
     "name": "stderr",
     "output_type": "stream",
     "text": [
      "\n"
     ]
    },
    {
     "name": "stdout",
     "output_type": "stream",
     "text": [
      "\u001b[32m[1026 11:41:57 @saver.py:79]\u001b[0m Model saved to ../output/Chicago/DATGAN2_1000/model\\model-146475.\n",
      "\u001b[32m[1026 11:41:57 @monitor.py:467]\u001b[0m GAN_loss/discrim/accuracy_fake: 0.98\n",
      "\u001b[32m[1026 11:41:57 @monitor.py:467]\u001b[0m GAN_loss/discrim/accuracy_real: 0.054\n",
      "\u001b[32m[1026 11:41:57 @monitor.py:467]\u001b[0m GAN_loss/discrim/loss: 0.64618\n",
      "\u001b[32m[1026 11:41:57 @monitor.py:467]\u001b[0m GAN_loss/gen/final-g-loss: 1.0023\n",
      "\u001b[32m[1026 11:41:57 @monitor.py:467]\u001b[0m GAN_loss/gen/klloss: 0.05356\n",
      "\u001b[32m[1026 11:41:57 @monitor.py:467]\u001b[0m GAN_loss/gen/loss: 0.94876\n",
      "\u001b[32m[1026 11:41:57 @monitor.py:467]\u001b[0m QueueInput/queue_size: 50\n",
      "\u001b[32m[1026 11:41:57 @base.py:275]\u001b[0m Start Epoch 838 ...\n"
     ]
    },
    {
     "name": "stderr",
     "output_type": "stream",
     "text": [
      "100%|###################################################################################|175/175[00:05<00:00,32.18it/s]"
     ]
    },
    {
     "name": "stdout",
     "output_type": "stream",
     "text": [
      "\u001b[32m[1026 11:42:02 @base.py:285]\u001b[0m Epoch 838 (global_step 146650) finished, time:5.44 seconds.\n",
      "\u001b[32m[1026 11:42:02 @saver.py:79]\u001b[0m Model saved to ../output/Chicago/DATGAN2_1000/model\\model-146650.\n"
     ]
    },
    {
     "name": "stderr",
     "output_type": "stream",
     "text": [
      "\n"
     ]
    },
    {
     "name": "stdout",
     "output_type": "stream",
     "text": [
      "\u001b[32m[1026 11:42:03 @monitor.py:467]\u001b[0m GAN_loss/discrim/accuracy_fake: 0.976\n",
      "\u001b[32m[1026 11:42:03 @monitor.py:467]\u001b[0m GAN_loss/discrim/accuracy_real: 0.034\n",
      "\u001b[32m[1026 11:42:03 @monitor.py:467]\u001b[0m GAN_loss/discrim/loss: 0.65209\n",
      "\u001b[32m[1026 11:42:03 @monitor.py:467]\u001b[0m GAN_loss/gen/final-g-loss: 0.99803\n",
      "\u001b[32m[1026 11:42:03 @monitor.py:467]\u001b[0m GAN_loss/gen/klloss: 0.057187\n",
      "\u001b[32m[1026 11:42:03 @monitor.py:467]\u001b[0m GAN_loss/gen/loss: 0.94084\n",
      "\u001b[32m[1026 11:42:03 @monitor.py:467]\u001b[0m QueueInput/queue_size: 50\n",
      "\u001b[32m[1026 11:42:03 @base.py:275]\u001b[0m Start Epoch 839 ...\n"
     ]
    },
    {
     "name": "stderr",
     "output_type": "stream",
     "text": [
      "100%|###################################################################################|175/175[00:05<00:00,32.23it/s]"
     ]
    },
    {
     "name": "stdout",
     "output_type": "stream",
     "text": [
      "\u001b[32m[1026 11:42:08 @base.py:285]\u001b[0m Epoch 839 (global_step 146825) finished, time:5.43 seconds.\n"
     ]
    },
    {
     "name": "stderr",
     "output_type": "stream",
     "text": [
      "\n"
     ]
    },
    {
     "name": "stdout",
     "output_type": "stream",
     "text": [
      "\u001b[32m[1026 11:42:08 @saver.py:79]\u001b[0m Model saved to ../output/Chicago/DATGAN2_1000/model\\model-146825.\n",
      "\u001b[32m[1026 11:42:08 @monitor.py:467]\u001b[0m GAN_loss/discrim/accuracy_fake: 0.984\n",
      "\u001b[32m[1026 11:42:08 @monitor.py:467]\u001b[0m GAN_loss/discrim/accuracy_real: 0.042\n",
      "\u001b[32m[1026 11:42:08 @monitor.py:467]\u001b[0m GAN_loss/discrim/loss: 0.64759\n",
      "\u001b[32m[1026 11:42:08 @monitor.py:467]\u001b[0m GAN_loss/gen/final-g-loss: 0.98119\n",
      "\u001b[32m[1026 11:42:08 @monitor.py:467]\u001b[0m GAN_loss/gen/klloss: 0.038417\n",
      "\u001b[32m[1026 11:42:08 @monitor.py:467]\u001b[0m GAN_loss/gen/loss: 0.94278\n",
      "\u001b[32m[1026 11:42:08 @monitor.py:467]\u001b[0m QueueInput/queue_size: 50\n",
      "\u001b[32m[1026 11:42:08 @base.py:275]\u001b[0m Start Epoch 840 ...\n"
     ]
    },
    {
     "name": "stderr",
     "output_type": "stream",
     "text": [
      "100%|###################################################################################|175/175[00:05<00:00,32.17it/s]"
     ]
    },
    {
     "name": "stdout",
     "output_type": "stream",
     "text": [
      "\u001b[32m[1026 11:42:14 @base.py:285]\u001b[0m Epoch 840 (global_step 147000) finished, time:5.44 seconds.\n",
      "\u001b[32m[1026 11:42:14 @saver.py:79]\u001b[0m Model saved to ../output/Chicago/DATGAN2_1000/model\\model-147000.\n"
     ]
    },
    {
     "name": "stderr",
     "output_type": "stream",
     "text": [
      "\n"
     ]
    },
    {
     "name": "stdout",
     "output_type": "stream",
     "text": [
      "\u001b[32m[1026 11:42:14 @monitor.py:467]\u001b[0m GAN_loss/discrim/accuracy_fake: 0.97\n",
      "\u001b[32m[1026 11:42:14 @monitor.py:467]\u001b[0m GAN_loss/discrim/accuracy_real: 0.036\n",
      "\u001b[32m[1026 11:42:14 @monitor.py:467]\u001b[0m GAN_loss/discrim/loss: 0.65438\n",
      "\u001b[32m[1026 11:42:14 @monitor.py:467]\u001b[0m GAN_loss/gen/final-g-loss: 0.99703\n",
      "\u001b[32m[1026 11:42:14 @monitor.py:467]\u001b[0m GAN_loss/gen/klloss: 0.054411\n",
      "\u001b[32m[1026 11:42:14 @monitor.py:467]\u001b[0m GAN_loss/gen/loss: 0.94262\n",
      "\u001b[32m[1026 11:42:14 @monitor.py:467]\u001b[0m QueueInput/queue_size: 50\n",
      "\u001b[32m[1026 11:42:14 @base.py:275]\u001b[0m Start Epoch 841 ...\n"
     ]
    },
    {
     "name": "stderr",
     "output_type": "stream",
     "text": [
      "100%|###################################################################################|175/175[00:05<00:00,32.23it/s]"
     ]
    },
    {
     "name": "stdout",
     "output_type": "stream",
     "text": [
      "\u001b[32m[1026 11:42:19 @base.py:285]\u001b[0m Epoch 841 (global_step 147175) finished, time:5.43 seconds.\n"
     ]
    },
    {
     "name": "stderr",
     "output_type": "stream",
     "text": [
      "\n"
     ]
    },
    {
     "name": "stdout",
     "output_type": "stream",
     "text": [
      "\u001b[32m[1026 11:42:19 @saver.py:79]\u001b[0m Model saved to ../output/Chicago/DATGAN2_1000/model\\model-147175.\n",
      "\u001b[32m[1026 11:42:20 @monitor.py:467]\u001b[0m GAN_loss/discrim/accuracy_fake: 0.968\n",
      "\u001b[32m[1026 11:42:20 @monitor.py:467]\u001b[0m GAN_loss/discrim/accuracy_real: 0.054\n",
      "\u001b[32m[1026 11:42:20 @monitor.py:467]\u001b[0m GAN_loss/discrim/loss: 0.64368\n",
      "\u001b[32m[1026 11:42:20 @monitor.py:467]\u001b[0m GAN_loss/gen/final-g-loss: 1.0004\n",
      "\u001b[32m[1026 11:42:20 @monitor.py:467]\u001b[0m GAN_loss/gen/klloss: 0.050257\n",
      "\u001b[32m[1026 11:42:20 @monitor.py:467]\u001b[0m GAN_loss/gen/loss: 0.95012\n",
      "\u001b[32m[1026 11:42:20 @monitor.py:467]\u001b[0m QueueInput/queue_size: 50\n",
      "\u001b[32m[1026 11:42:20 @base.py:275]\u001b[0m Start Epoch 842 ...\n"
     ]
    },
    {
     "name": "stderr",
     "output_type": "stream",
     "text": [
      "100%|###################################################################################|175/175[00:05<00:00,32.19it/s]"
     ]
    },
    {
     "name": "stdout",
     "output_type": "stream",
     "text": [
      "\u001b[32m[1026 11:42:25 @base.py:285]\u001b[0m Epoch 842 (global_step 147350) finished, time:5.44 seconds.\n",
      "\u001b[32m[1026 11:42:25 @saver.py:79]\u001b[0m Model saved to ../output/Chicago/DATGAN2_1000/model\\model-147350.\n"
     ]
    },
    {
     "name": "stderr",
     "output_type": "stream",
     "text": [
      "\n"
     ]
    },
    {
     "name": "stdout",
     "output_type": "stream",
     "text": [
      "\u001b[32m[1026 11:42:25 @monitor.py:467]\u001b[0m GAN_loss/discrim/accuracy_fake: 0.974\n",
      "\u001b[32m[1026 11:42:25 @monitor.py:467]\u001b[0m GAN_loss/discrim/accuracy_real: 0.04\n",
      "\u001b[32m[1026 11:42:25 @monitor.py:467]\u001b[0m GAN_loss/discrim/loss: 0.64933\n",
      "\u001b[32m[1026 11:42:25 @monitor.py:467]\u001b[0m GAN_loss/gen/final-g-loss: 1.0144\n",
      "\u001b[32m[1026 11:42:25 @monitor.py:467]\u001b[0m GAN_loss/gen/klloss: 0.073521\n",
      "\u001b[32m[1026 11:42:25 @monitor.py:467]\u001b[0m GAN_loss/gen/loss: 0.9409\n",
      "\u001b[32m[1026 11:42:25 @monitor.py:467]\u001b[0m QueueInput/queue_size: 50\n",
      "\u001b[32m[1026 11:42:25 @base.py:275]\u001b[0m Start Epoch 843 ...\n"
     ]
    },
    {
     "name": "stderr",
     "output_type": "stream",
     "text": [
      "100%|###################################################################################|175/175[00:05<00:00,32.25it/s]"
     ]
    },
    {
     "name": "stdout",
     "output_type": "stream",
     "text": [
      "\u001b[32m[1026 11:42:31 @base.py:285]\u001b[0m Epoch 843 (global_step 147525) finished, time:5.43 seconds.\n"
     ]
    },
    {
     "name": "stderr",
     "output_type": "stream",
     "text": [
      "\n"
     ]
    },
    {
     "name": "stdout",
     "output_type": "stream",
     "text": [
      "\u001b[32m[1026 11:42:31 @saver.py:79]\u001b[0m Model saved to ../output/Chicago/DATGAN2_1000/model\\model-147525.\n",
      "\u001b[32m[1026 11:42:31 @monitor.py:467]\u001b[0m GAN_loss/discrim/accuracy_fake: 0.978\n",
      "\u001b[32m[1026 11:42:31 @monitor.py:467]\u001b[0m GAN_loss/discrim/accuracy_real: 0.04\n",
      "\u001b[32m[1026 11:42:31 @monitor.py:467]\u001b[0m GAN_loss/discrim/loss: 0.64635\n",
      "\u001b[32m[1026 11:42:31 @monitor.py:467]\u001b[0m GAN_loss/gen/final-g-loss: 1.0288\n",
      "\u001b[32m[1026 11:42:31 @monitor.py:467]\u001b[0m GAN_loss/gen/klloss: 0.086825\n",
      "\u001b[32m[1026 11:42:31 @monitor.py:467]\u001b[0m GAN_loss/gen/loss: 0.94193\n",
      "\u001b[32m[1026 11:42:31 @monitor.py:467]\u001b[0m QueueInput/queue_size: 50\n",
      "\u001b[32m[1026 11:42:31 @base.py:275]\u001b[0m Start Epoch 844 ...\n"
     ]
    },
    {
     "name": "stderr",
     "output_type": "stream",
     "text": [
      "100%|###################################################################################|175/175[00:05<00:00,32.23it/s]"
     ]
    },
    {
     "name": "stdout",
     "output_type": "stream",
     "text": [
      "\u001b[32m[1026 11:42:36 @base.py:285]\u001b[0m Epoch 844 (global_step 147700) finished, time:5.43 seconds.\n",
      "\u001b[32m[1026 11:42:36 @saver.py:79]\u001b[0m Model saved to ../output/Chicago/DATGAN2_1000/model\\model-147700.\n"
     ]
    },
    {
     "name": "stderr",
     "output_type": "stream",
     "text": [
      "\n"
     ]
    },
    {
     "name": "stdout",
     "output_type": "stream",
     "text": [
      "\u001b[32m[1026 11:42:37 @monitor.py:467]\u001b[0m GAN_loss/discrim/accuracy_fake: 0.982\n",
      "\u001b[32m[1026 11:42:37 @monitor.py:467]\u001b[0m GAN_loss/discrim/accuracy_real: 0.04\n",
      "\u001b[32m[1026 11:42:37 @monitor.py:467]\u001b[0m GAN_loss/discrim/loss: 0.64672\n",
      "\u001b[32m[1026 11:42:37 @monitor.py:467]\u001b[0m GAN_loss/gen/final-g-loss: 0.99235\n",
      "\u001b[32m[1026 11:42:37 @monitor.py:467]\u001b[0m GAN_loss/gen/klloss: 0.046969\n",
      "\u001b[32m[1026 11:42:37 @monitor.py:467]\u001b[0m GAN_loss/gen/loss: 0.94538\n",
      "\u001b[32m[1026 11:42:37 @monitor.py:467]\u001b[0m QueueInput/queue_size: 50\n",
      "\u001b[32m[1026 11:42:37 @base.py:275]\u001b[0m Start Epoch 845 ...\n"
     ]
    },
    {
     "name": "stderr",
     "output_type": "stream",
     "text": [
      "100%|###################################################################################|175/175[00:05<00:00,32.26it/s]"
     ]
    },
    {
     "name": "stdout",
     "output_type": "stream",
     "text": [
      "\u001b[32m[1026 11:42:42 @base.py:285]\u001b[0m Epoch 845 (global_step 147875) finished, time:5.42 seconds.\n"
     ]
    },
    {
     "name": "stderr",
     "output_type": "stream",
     "text": [
      "\n"
     ]
    },
    {
     "name": "stdout",
     "output_type": "stream",
     "text": [
      "\u001b[32m[1026 11:42:42 @saver.py:79]\u001b[0m Model saved to ../output/Chicago/DATGAN2_1000/model\\model-147875.\n",
      "\u001b[32m[1026 11:42:42 @monitor.py:467]\u001b[0m GAN_loss/discrim/accuracy_fake: 0.97\n",
      "\u001b[32m[1026 11:42:42 @monitor.py:467]\u001b[0m GAN_loss/discrim/accuracy_real: 0.028\n",
      "\u001b[32m[1026 11:42:42 @monitor.py:467]\u001b[0m GAN_loss/discrim/loss: 0.65049\n",
      "\u001b[32m[1026 11:42:42 @monitor.py:467]\u001b[0m GAN_loss/gen/final-g-loss: 1.0151\n",
      "\u001b[32m[1026 11:42:42 @monitor.py:467]\u001b[0m GAN_loss/gen/klloss: 0.069906\n",
      "\u001b[32m[1026 11:42:42 @monitor.py:467]\u001b[0m GAN_loss/gen/loss: 0.94521\n",
      "\u001b[32m[1026 11:42:42 @monitor.py:467]\u001b[0m QueueInput/queue_size: 50\n",
      "\u001b[32m[1026 11:42:42 @base.py:275]\u001b[0m Start Epoch 846 ...\n"
     ]
    },
    {
     "name": "stderr",
     "output_type": "stream",
     "text": [
      "100%|###################################################################################|175/175[00:05<00:00,32.14it/s]"
     ]
    },
    {
     "name": "stdout",
     "output_type": "stream",
     "text": [
      "\u001b[32m[1026 11:42:48 @base.py:285]\u001b[0m Epoch 846 (global_step 148050) finished, time:5.45 seconds.\n"
     ]
    },
    {
     "name": "stderr",
     "output_type": "stream",
     "text": [
      "\n"
     ]
    },
    {
     "name": "stdout",
     "output_type": "stream",
     "text": [
      "\u001b[32m[1026 11:42:48 @saver.py:79]\u001b[0m Model saved to ../output/Chicago/DATGAN2_1000/model\\model-148050.\n",
      "\u001b[32m[1026 11:42:48 @monitor.py:467]\u001b[0m GAN_loss/discrim/accuracy_fake: 0.966\n",
      "\u001b[32m[1026 11:42:48 @monitor.py:467]\u001b[0m GAN_loss/discrim/accuracy_real: 0.028\n",
      "\u001b[32m[1026 11:42:48 @monitor.py:467]\u001b[0m GAN_loss/discrim/loss: 0.65255\n",
      "\u001b[32m[1026 11:42:48 @monitor.py:467]\u001b[0m GAN_loss/gen/final-g-loss: 1.009\n",
      "\u001b[32m[1026 11:42:48 @monitor.py:467]\u001b[0m GAN_loss/gen/klloss: 0.06628\n",
      "\u001b[32m[1026 11:42:48 @monitor.py:467]\u001b[0m GAN_loss/gen/loss: 0.94273\n",
      "\u001b[32m[1026 11:42:48 @monitor.py:467]\u001b[0m QueueInput/queue_size: 50\n",
      "\u001b[32m[1026 11:42:48 @base.py:275]\u001b[0m Start Epoch 847 ...\n"
     ]
    },
    {
     "name": "stderr",
     "output_type": "stream",
     "text": [
      "100%|###################################################################################|175/175[00:05<00:00,32.24it/s]"
     ]
    },
    {
     "name": "stdout",
     "output_type": "stream",
     "text": [
      "\u001b[32m[1026 11:42:53 @base.py:285]\u001b[0m Epoch 847 (global_step 148225) finished, time:5.43 seconds.\n"
     ]
    },
    {
     "name": "stderr",
     "output_type": "stream",
     "text": [
      "\n"
     ]
    },
    {
     "name": "stdout",
     "output_type": "stream",
     "text": [
      "\u001b[32m[1026 11:42:53 @saver.py:79]\u001b[0m Model saved to ../output/Chicago/DATGAN2_1000/model\\model-148225.\n",
      "\u001b[32m[1026 11:42:54 @monitor.py:467]\u001b[0m GAN_loss/discrim/accuracy_fake: 0.978\n",
      "\u001b[32m[1026 11:42:54 @monitor.py:467]\u001b[0m GAN_loss/discrim/accuracy_real: 0.05\n",
      "\u001b[32m[1026 11:42:54 @monitor.py:467]\u001b[0m GAN_loss/discrim/loss: 0.64582\n",
      "\u001b[32m[1026 11:42:54 @monitor.py:467]\u001b[0m GAN_loss/gen/final-g-loss: 1.0068\n",
      "\u001b[32m[1026 11:42:54 @monitor.py:467]\u001b[0m GAN_loss/gen/klloss: 0.054798\n",
      "\u001b[32m[1026 11:42:54 @monitor.py:467]\u001b[0m GAN_loss/gen/loss: 0.95204\n",
      "\u001b[32m[1026 11:42:54 @monitor.py:467]\u001b[0m QueueInput/queue_size: 50\n",
      "\u001b[32m[1026 11:42:54 @base.py:275]\u001b[0m Start Epoch 848 ...\n"
     ]
    },
    {
     "name": "stderr",
     "output_type": "stream",
     "text": [
      "100%|###################################################################################|175/175[00:05<00:00,32.21it/s]"
     ]
    },
    {
     "name": "stdout",
     "output_type": "stream",
     "text": [
      "\u001b[32m[1026 11:42:59 @base.py:285]\u001b[0m Epoch 848 (global_step 148400) finished, time:5.43 seconds.\n",
      "\u001b[32m[1026 11:42:59 @saver.py:79]\u001b[0m Model saved to ../output/Chicago/DATGAN2_1000/model\\model-148400.\n"
     ]
    },
    {
     "name": "stderr",
     "output_type": "stream",
     "text": [
      "\n"
     ]
    },
    {
     "name": "stdout",
     "output_type": "stream",
     "text": [
      "\u001b[32m[1026 11:42:59 @monitor.py:467]\u001b[0m GAN_loss/discrim/accuracy_fake: 0.974\n",
      "\u001b[32m[1026 11:42:59 @monitor.py:467]\u001b[0m GAN_loss/discrim/accuracy_real: 0.046\n",
      "\u001b[32m[1026 11:42:59 @monitor.py:467]\u001b[0m GAN_loss/discrim/loss: 0.64766\n",
      "\u001b[32m[1026 11:42:59 @monitor.py:467]\u001b[0m GAN_loss/gen/final-g-loss: 1.0201\n",
      "\u001b[32m[1026 11:42:59 @monitor.py:467]\u001b[0m GAN_loss/gen/klloss: 0.069872\n",
      "\u001b[32m[1026 11:42:59 @monitor.py:467]\u001b[0m GAN_loss/gen/loss: 0.95027\n",
      "\u001b[32m[1026 11:42:59 @monitor.py:467]\u001b[0m QueueInput/queue_size: 50\n",
      "\u001b[32m[1026 11:42:59 @base.py:275]\u001b[0m Start Epoch 849 ...\n"
     ]
    },
    {
     "name": "stderr",
     "output_type": "stream",
     "text": [
      "100%|###################################################################################|175/175[00:05<00:00,32.20it/s]"
     ]
    },
    {
     "name": "stdout",
     "output_type": "stream",
     "text": [
      "\u001b[32m[1026 11:43:05 @base.py:285]\u001b[0m Epoch 849 (global_step 148575) finished, time:5.44 seconds.\n"
     ]
    },
    {
     "name": "stderr",
     "output_type": "stream",
     "text": [
      "\n"
     ]
    },
    {
     "name": "stdout",
     "output_type": "stream",
     "text": [
      "\u001b[32m[1026 11:43:05 @saver.py:79]\u001b[0m Model saved to ../output/Chicago/DATGAN2_1000/model\\model-148575.\n",
      "\u001b[32m[1026 11:43:05 @monitor.py:467]\u001b[0m GAN_loss/discrim/accuracy_fake: 0.974\n",
      "\u001b[32m[1026 11:43:05 @monitor.py:467]\u001b[0m GAN_loss/discrim/accuracy_real: 0.036\n",
      "\u001b[32m[1026 11:43:05 @monitor.py:467]\u001b[0m GAN_loss/discrim/loss: 0.65391\n",
      "\u001b[32m[1026 11:43:05 @monitor.py:467]\u001b[0m GAN_loss/gen/final-g-loss: 1.0025\n",
      "\u001b[32m[1026 11:43:05 @monitor.py:467]\u001b[0m GAN_loss/gen/klloss: 0.061739\n",
      "\u001b[32m[1026 11:43:05 @monitor.py:467]\u001b[0m GAN_loss/gen/loss: 0.94078\n",
      "\u001b[32m[1026 11:43:05 @monitor.py:467]\u001b[0m QueueInput/queue_size: 50\n",
      "\u001b[32m[1026 11:43:05 @base.py:275]\u001b[0m Start Epoch 850 ...\n"
     ]
    },
    {
     "name": "stderr",
     "output_type": "stream",
     "text": [
      "100%|###################################################################################|175/175[00:05<00:00,32.17it/s]"
     ]
    },
    {
     "name": "stdout",
     "output_type": "stream",
     "text": [
      "\u001b[32m[1026 11:43:10 @base.py:285]\u001b[0m Epoch 850 (global_step 148750) finished, time:5.44 seconds.\n",
      "\u001b[32m[1026 11:43:10 @saver.py:79]\u001b[0m Model saved to ../output/Chicago/DATGAN2_1000/model\\model-148750.\n"
     ]
    },
    {
     "name": "stderr",
     "output_type": "stream",
     "text": [
      "\n"
     ]
    },
    {
     "name": "stdout",
     "output_type": "stream",
     "text": [
      "\u001b[32m[1026 11:43:11 @monitor.py:467]\u001b[0m GAN_loss/discrim/accuracy_fake: 0.968\n",
      "\u001b[32m[1026 11:43:11 @monitor.py:467]\u001b[0m GAN_loss/discrim/accuracy_real: 0.052\n",
      "\u001b[32m[1026 11:43:11 @monitor.py:467]\u001b[0m GAN_loss/discrim/loss: 0.64522\n",
      "\u001b[32m[1026 11:43:11 @monitor.py:467]\u001b[0m GAN_loss/gen/final-g-loss: 0.99544\n",
      "\u001b[32m[1026 11:43:11 @monitor.py:467]\u001b[0m GAN_loss/gen/klloss: 0.045859\n",
      "\u001b[32m[1026 11:43:11 @monitor.py:467]\u001b[0m GAN_loss/gen/loss: 0.94958\n",
      "\u001b[32m[1026 11:43:11 @monitor.py:467]\u001b[0m QueueInput/queue_size: 50\n",
      "\u001b[32m[1026 11:43:11 @base.py:275]\u001b[0m Start Epoch 851 ...\n"
     ]
    },
    {
     "name": "stderr",
     "output_type": "stream",
     "text": [
      "100%|###################################################################################|175/175[00:05<00:00,32.25it/s]"
     ]
    },
    {
     "name": "stdout",
     "output_type": "stream",
     "text": [
      "\u001b[32m[1026 11:43:16 @base.py:285]\u001b[0m Epoch 851 (global_step 148925) finished, time:5.43 seconds.\n"
     ]
    },
    {
     "name": "stderr",
     "output_type": "stream",
     "text": [
      "\n"
     ]
    },
    {
     "name": "stdout",
     "output_type": "stream",
     "text": [
      "\u001b[32m[1026 11:43:16 @saver.py:79]\u001b[0m Model saved to ../output/Chicago/DATGAN2_1000/model\\model-148925.\n",
      "\u001b[32m[1026 11:43:16 @monitor.py:467]\u001b[0m GAN_loss/discrim/accuracy_fake: 0.968\n",
      "\u001b[32m[1026 11:43:16 @monitor.py:467]\u001b[0m GAN_loss/discrim/accuracy_real: 0.056\n",
      "\u001b[32m[1026 11:43:16 @monitor.py:467]\u001b[0m GAN_loss/discrim/loss: 0.6524\n",
      "\u001b[32m[1026 11:43:16 @monitor.py:467]\u001b[0m GAN_loss/gen/final-g-loss: 1.0114\n",
      "\u001b[32m[1026 11:43:16 @monitor.py:467]\u001b[0m GAN_loss/gen/klloss: 0.068893\n",
      "\u001b[32m[1026 11:43:16 @monitor.py:467]\u001b[0m GAN_loss/gen/loss: 0.94251\n",
      "\u001b[32m[1026 11:43:16 @monitor.py:467]\u001b[0m QueueInput/queue_size: 50\n",
      "\u001b[32m[1026 11:43:16 @base.py:275]\u001b[0m Start Epoch 852 ...\n"
     ]
    },
    {
     "name": "stderr",
     "output_type": "stream",
     "text": [
      "100%|###################################################################################|175/175[00:05<00:00,32.21it/s]"
     ]
    },
    {
     "name": "stdout",
     "output_type": "stream",
     "text": [
      "\u001b[32m[1026 11:43:22 @base.py:285]\u001b[0m Epoch 852 (global_step 149100) finished, time:5.43 seconds.\n",
      "\u001b[32m[1026 11:43:22 @saver.py:79]\u001b[0m Model saved to ../output/Chicago/DATGAN2_1000/model\\model-149100.\n"
     ]
    },
    {
     "name": "stderr",
     "output_type": "stream",
     "text": [
      "\n"
     ]
    },
    {
     "name": "stdout",
     "output_type": "stream",
     "text": [
      "\u001b[32m[1026 11:43:22 @monitor.py:467]\u001b[0m GAN_loss/discrim/accuracy_fake: 0.976\n",
      "\u001b[32m[1026 11:43:22 @monitor.py:467]\u001b[0m GAN_loss/discrim/accuracy_real: 0.042\n",
      "\u001b[32m[1026 11:43:22 @monitor.py:467]\u001b[0m GAN_loss/discrim/loss: 0.64421\n",
      "\u001b[32m[1026 11:43:22 @monitor.py:467]\u001b[0m GAN_loss/gen/final-g-loss: 0.98549\n",
      "\u001b[32m[1026 11:43:22 @monitor.py:467]\u001b[0m GAN_loss/gen/klloss: 0.042528\n",
      "\u001b[32m[1026 11:43:22 @monitor.py:467]\u001b[0m GAN_loss/gen/loss: 0.94296\n",
      "\u001b[32m[1026 11:43:22 @monitor.py:467]\u001b[0m QueueInput/queue_size: 50\n",
      "\u001b[32m[1026 11:43:22 @base.py:275]\u001b[0m Start Epoch 853 ...\n"
     ]
    },
    {
     "name": "stderr",
     "output_type": "stream",
     "text": [
      "100%|###################################################################################|175/175[00:05<00:00,32.25it/s]"
     ]
    },
    {
     "name": "stdout",
     "output_type": "stream",
     "text": [
      "\u001b[32m[1026 11:43:27 @base.py:285]\u001b[0m Epoch 853 (global_step 149275) finished, time:5.43 seconds.\n"
     ]
    },
    {
     "name": "stderr",
     "output_type": "stream",
     "text": [
      "\n"
     ]
    },
    {
     "name": "stdout",
     "output_type": "stream",
     "text": [
      "\u001b[32m[1026 11:43:27 @saver.py:79]\u001b[0m Model saved to ../output/Chicago/DATGAN2_1000/model\\model-149275.\n",
      "\u001b[32m[1026 11:43:28 @monitor.py:467]\u001b[0m GAN_loss/discrim/accuracy_fake: 0.982\n",
      "\u001b[32m[1026 11:43:28 @monitor.py:467]\u001b[0m GAN_loss/discrim/accuracy_real: 0.032\n",
      "\u001b[32m[1026 11:43:28 @monitor.py:467]\u001b[0m GAN_loss/discrim/loss: 0.64512\n",
      "\u001b[32m[1026 11:43:28 @monitor.py:467]\u001b[0m GAN_loss/gen/final-g-loss: 1.0291\n",
      "\u001b[32m[1026 11:43:28 @monitor.py:467]\u001b[0m GAN_loss/gen/klloss: 0.076455\n",
      "\u001b[32m[1026 11:43:28 @monitor.py:467]\u001b[0m GAN_loss/gen/loss: 0.95269\n",
      "\u001b[32m[1026 11:43:28 @monitor.py:467]\u001b[0m QueueInput/queue_size: 50\n",
      "\u001b[32m[1026 11:43:28 @base.py:275]\u001b[0m Start Epoch 854 ...\n"
     ]
    },
    {
     "name": "stderr",
     "output_type": "stream",
     "text": [
      "100%|###################################################################################|175/175[00:05<00:00,32.19it/s]"
     ]
    },
    {
     "name": "stdout",
     "output_type": "stream",
     "text": [
      "\u001b[32m[1026 11:43:33 @base.py:285]\u001b[0m Epoch 854 (global_step 149450) finished, time:5.44 seconds.\n",
      "\u001b[32m[1026 11:43:33 @saver.py:79]\u001b[0m Model saved to ../output/Chicago/DATGAN2_1000/model\\model-149450.\n"
     ]
    },
    {
     "name": "stderr",
     "output_type": "stream",
     "text": [
      "\n"
     ]
    },
    {
     "name": "stdout",
     "output_type": "stream",
     "text": [
      "\u001b[32m[1026 11:43:33 @monitor.py:467]\u001b[0m GAN_loss/discrim/accuracy_fake: 0.97\n",
      "\u001b[32m[1026 11:43:33 @monitor.py:467]\u001b[0m GAN_loss/discrim/accuracy_real: 0.048\n",
      "\u001b[32m[1026 11:43:33 @monitor.py:467]\u001b[0m GAN_loss/discrim/loss: 0.64783\n",
      "\u001b[32m[1026 11:43:33 @monitor.py:467]\u001b[0m GAN_loss/gen/final-g-loss: 1.0026\n",
      "\u001b[32m[1026 11:43:33 @monitor.py:467]\u001b[0m GAN_loss/gen/klloss: 0.05272\n",
      "\u001b[32m[1026 11:43:33 @monitor.py:467]\u001b[0m GAN_loss/gen/loss: 0.94988\n",
      "\u001b[32m[1026 11:43:33 @monitor.py:467]\u001b[0m QueueInput/queue_size: 50\n",
      "\u001b[32m[1026 11:43:33 @base.py:275]\u001b[0m Start Epoch 855 ...\n"
     ]
    },
    {
     "name": "stderr",
     "output_type": "stream",
     "text": [
      "100%|###################################################################################|175/175[00:05<00:00,32.23it/s]"
     ]
    },
    {
     "name": "stdout",
     "output_type": "stream",
     "text": [
      "\u001b[32m[1026 11:43:39 @base.py:285]\u001b[0m Epoch 855 (global_step 149625) finished, time:5.43 seconds.\n"
     ]
    },
    {
     "name": "stderr",
     "output_type": "stream",
     "text": [
      "\n"
     ]
    },
    {
     "name": "stdout",
     "output_type": "stream",
     "text": [
      "\u001b[32m[1026 11:43:39 @saver.py:79]\u001b[0m Model saved to ../output/Chicago/DATGAN2_1000/model\\model-149625.\n",
      "\u001b[32m[1026 11:43:39 @monitor.py:467]\u001b[0m GAN_loss/discrim/accuracy_fake: 0.974\n",
      "\u001b[32m[1026 11:43:39 @monitor.py:467]\u001b[0m GAN_loss/discrim/accuracy_real: 0.04\n",
      "\u001b[32m[1026 11:43:39 @monitor.py:467]\u001b[0m GAN_loss/discrim/loss: 0.65348\n",
      "\u001b[32m[1026 11:43:39 @monitor.py:467]\u001b[0m GAN_loss/gen/final-g-loss: 0.9865\n",
      "\u001b[32m[1026 11:43:39 @monitor.py:467]\u001b[0m GAN_loss/gen/klloss: 0.044973\n",
      "\u001b[32m[1026 11:43:39 @monitor.py:467]\u001b[0m GAN_loss/gen/loss: 0.94152\n",
      "\u001b[32m[1026 11:43:39 @monitor.py:467]\u001b[0m QueueInput/queue_size: 50\n",
      "\u001b[32m[1026 11:43:39 @base.py:275]\u001b[0m Start Epoch 856 ...\n"
     ]
    },
    {
     "name": "stderr",
     "output_type": "stream",
     "text": [
      "100%|###################################################################################|175/175[00:05<00:00,32.19it/s]"
     ]
    },
    {
     "name": "stdout",
     "output_type": "stream",
     "text": [
      "\u001b[32m[1026 11:43:44 @base.py:285]\u001b[0m Epoch 856 (global_step 149800) finished, time:5.44 seconds.\n"
     ]
    },
    {
     "name": "stderr",
     "output_type": "stream",
     "text": [
      "\n"
     ]
    },
    {
     "name": "stdout",
     "output_type": "stream",
     "text": [
      "\u001b[32m[1026 11:43:44 @saver.py:79]\u001b[0m Model saved to ../output/Chicago/DATGAN2_1000/model\\model-149800.\n",
      "\u001b[32m[1026 11:43:45 @monitor.py:467]\u001b[0m GAN_loss/discrim/accuracy_fake: 0.976\n",
      "\u001b[32m[1026 11:43:45 @monitor.py:467]\u001b[0m GAN_loss/discrim/accuracy_real: 0.036\n",
      "\u001b[32m[1026 11:43:45 @monitor.py:467]\u001b[0m GAN_loss/discrim/loss: 0.64844\n",
      "\u001b[32m[1026 11:43:45 @monitor.py:467]\u001b[0m GAN_loss/gen/final-g-loss: 1.0129\n",
      "\u001b[32m[1026 11:43:45 @monitor.py:467]\u001b[0m GAN_loss/gen/klloss: 0.06883\n",
      "\u001b[32m[1026 11:43:45 @monitor.py:467]\u001b[0m GAN_loss/gen/loss: 0.94408\n",
      "\u001b[32m[1026 11:43:45 @monitor.py:467]\u001b[0m QueueInput/queue_size: 50\n",
      "\u001b[32m[1026 11:43:45 @base.py:275]\u001b[0m Start Epoch 857 ...\n"
     ]
    },
    {
     "name": "stderr",
     "output_type": "stream",
     "text": [
      "100%|###################################################################################|175/175[00:05<00:00,31.79it/s]"
     ]
    },
    {
     "name": "stdout",
     "output_type": "stream",
     "text": [
      "\u001b[32m[1026 11:43:50 @base.py:285]\u001b[0m Epoch 857 (global_step 149975) finished, time:5.51 seconds.\n",
      "\u001b[32m[1026 11:43:50 @saver.py:79]\u001b[0m Model saved to ../output/Chicago/DATGAN2_1000/model\\model-149975.\n"
     ]
    },
    {
     "name": "stderr",
     "output_type": "stream",
     "text": [
      "\n"
     ]
    },
    {
     "name": "stdout",
     "output_type": "stream",
     "text": [
      "\u001b[32m[1026 11:43:50 @monitor.py:467]\u001b[0m GAN_loss/discrim/accuracy_fake: 0.968\n",
      "\u001b[32m[1026 11:43:50 @monitor.py:467]\u001b[0m GAN_loss/discrim/accuracy_real: 0.056\n",
      "\u001b[32m[1026 11:43:50 @monitor.py:467]\u001b[0m GAN_loss/discrim/loss: 0.64847\n",
      "\u001b[32m[1026 11:43:50 @monitor.py:467]\u001b[0m GAN_loss/gen/final-g-loss: 1.002\n",
      "\u001b[32m[1026 11:43:50 @monitor.py:467]\u001b[0m GAN_loss/gen/klloss: 0.068891\n",
      "\u001b[32m[1026 11:43:50 @monitor.py:467]\u001b[0m GAN_loss/gen/loss: 0.93314\n",
      "\u001b[32m[1026 11:43:50 @monitor.py:467]\u001b[0m QueueInput/queue_size: 50\n",
      "\u001b[32m[1026 11:43:50 @base.py:275]\u001b[0m Start Epoch 858 ...\n"
     ]
    },
    {
     "name": "stderr",
     "output_type": "stream",
     "text": [
      "100%|###################################################################################|175/175[00:05<00:00,32.00it/s]"
     ]
    },
    {
     "name": "stdout",
     "output_type": "stream",
     "text": [
      "\u001b[32m[1026 11:43:56 @base.py:285]\u001b[0m Epoch 858 (global_step 150150) finished, time:5.47 seconds.\n",
      "\u001b[32m[1026 11:43:56 @saver.py:79]\u001b[0m Model saved to ../output/Chicago/DATGAN2_1000/model\\model-150150.\n"
     ]
    },
    {
     "name": "stderr",
     "output_type": "stream",
     "text": [
      "\n"
     ]
    },
    {
     "name": "stdout",
     "output_type": "stream",
     "text": [
      "\u001b[32m[1026 11:43:56 @monitor.py:467]\u001b[0m GAN_loss/discrim/accuracy_fake: 0.962\n",
      "\u001b[32m[1026 11:43:56 @monitor.py:467]\u001b[0m GAN_loss/discrim/accuracy_real: 0.054\n",
      "\u001b[32m[1026 11:43:56 @monitor.py:467]\u001b[0m GAN_loss/discrim/loss: 0.64541\n",
      "\u001b[32m[1026 11:43:56 @monitor.py:467]\u001b[0m GAN_loss/gen/final-g-loss: 0.9894\n",
      "\u001b[32m[1026 11:43:56 @monitor.py:467]\u001b[0m GAN_loss/gen/klloss: 0.04131\n",
      "\u001b[32m[1026 11:43:56 @monitor.py:467]\u001b[0m GAN_loss/gen/loss: 0.94809\n",
      "\u001b[32m[1026 11:43:56 @monitor.py:467]\u001b[0m QueueInput/queue_size: 50\n",
      "\u001b[32m[1026 11:43:56 @base.py:275]\u001b[0m Start Epoch 859 ...\n"
     ]
    },
    {
     "name": "stderr",
     "output_type": "stream",
     "text": [
      "100%|###################################################################################|175/175[00:05<00:00,32.19it/s]"
     ]
    },
    {
     "name": "stdout",
     "output_type": "stream",
     "text": [
      "\u001b[32m[1026 11:44:01 @base.py:285]\u001b[0m Epoch 859 (global_step 150325) finished, time:5.44 seconds.\n"
     ]
    },
    {
     "name": "stderr",
     "output_type": "stream",
     "text": [
      "\n"
     ]
    },
    {
     "name": "stdout",
     "output_type": "stream",
     "text": [
      "\u001b[32m[1026 11:44:02 @saver.py:79]\u001b[0m Model saved to ../output/Chicago/DATGAN2_1000/model\\model-150325.\n",
      "\u001b[32m[1026 11:44:02 @monitor.py:467]\u001b[0m GAN_loss/discrim/accuracy_fake: 0.972\n",
      "\u001b[32m[1026 11:44:02 @monitor.py:467]\u001b[0m GAN_loss/discrim/accuracy_real: 0.044\n",
      "\u001b[32m[1026 11:44:02 @monitor.py:467]\u001b[0m GAN_loss/discrim/loss: 0.64937\n",
      "\u001b[32m[1026 11:44:02 @monitor.py:467]\u001b[0m GAN_loss/gen/final-g-loss: 1.0211\n",
      "\u001b[32m[1026 11:44:02 @monitor.py:467]\u001b[0m GAN_loss/gen/klloss: 0.08471\n",
      "\u001b[32m[1026 11:44:02 @monitor.py:467]\u001b[0m GAN_loss/gen/loss: 0.93635\n",
      "\u001b[32m[1026 11:44:02 @monitor.py:467]\u001b[0m QueueInput/queue_size: 50\n",
      "\u001b[32m[1026 11:44:02 @base.py:275]\u001b[0m Start Epoch 860 ...\n"
     ]
    },
    {
     "name": "stderr",
     "output_type": "stream",
     "text": [
      "100%|###################################################################################|175/175[00:05<00:00,32.23it/s]"
     ]
    },
    {
     "name": "stdout",
     "output_type": "stream",
     "text": [
      "\u001b[32m[1026 11:44:07 @base.py:285]\u001b[0m Epoch 860 (global_step 150500) finished, time:5.43 seconds.\n",
      "\u001b[32m[1026 11:44:07 @saver.py:79]\u001b[0m Model saved to ../output/Chicago/DATGAN2_1000/model\\model-150500.\n"
     ]
    },
    {
     "name": "stderr",
     "output_type": "stream",
     "text": [
      "\n"
     ]
    },
    {
     "name": "stdout",
     "output_type": "stream",
     "text": [
      "\u001b[32m[1026 11:44:07 @monitor.py:467]\u001b[0m GAN_loss/discrim/accuracy_fake: 0.954\n",
      "\u001b[32m[1026 11:44:07 @monitor.py:467]\u001b[0m GAN_loss/discrim/accuracy_real: 0.042\n",
      "\u001b[32m[1026 11:44:07 @monitor.py:467]\u001b[0m GAN_loss/discrim/loss: 0.64991\n",
      "\u001b[32m[1026 11:44:07 @monitor.py:467]\u001b[0m GAN_loss/gen/final-g-loss: 1.0076\n",
      "\u001b[32m[1026 11:44:07 @monitor.py:467]\u001b[0m GAN_loss/gen/klloss: 0.068394\n",
      "\u001b[32m[1026 11:44:07 @monitor.py:467]\u001b[0m GAN_loss/gen/loss: 0.93925\n",
      "\u001b[32m[1026 11:44:07 @monitor.py:467]\u001b[0m QueueInput/queue_size: 50\n",
      "\u001b[32m[1026 11:44:07 @base.py:275]\u001b[0m Start Epoch 861 ...\n"
     ]
    },
    {
     "name": "stderr",
     "output_type": "stream",
     "text": [
      "100%|###################################################################################|175/175[00:05<00:00,32.17it/s]"
     ]
    },
    {
     "name": "stdout",
     "output_type": "stream",
     "text": [
      "\u001b[32m[1026 11:44:13 @base.py:285]\u001b[0m Epoch 861 (global_step 150675) finished, time:5.44 seconds.\n",
      "\u001b[32m[1026 11:44:13 @saver.py:79]\u001b[0m Model saved to ../output/Chicago/DATGAN2_1000/model\\model-150675.\n"
     ]
    },
    {
     "name": "stderr",
     "output_type": "stream",
     "text": [
      "\n"
     ]
    },
    {
     "name": "stdout",
     "output_type": "stream",
     "text": [
      "\u001b[32m[1026 11:44:13 @monitor.py:467]\u001b[0m GAN_loss/discrim/accuracy_fake: 0.968\n",
      "\u001b[32m[1026 11:44:13 @monitor.py:467]\u001b[0m GAN_loss/discrim/accuracy_real: 0.06\n",
      "\u001b[32m[1026 11:44:13 @monitor.py:467]\u001b[0m GAN_loss/discrim/loss: 0.64599\n",
      "\u001b[32m[1026 11:44:13 @monitor.py:467]\u001b[0m GAN_loss/gen/final-g-loss: 1.0215\n",
      "\u001b[32m[1026 11:44:13 @monitor.py:467]\u001b[0m GAN_loss/gen/klloss: 0.0708\n",
      "\u001b[32m[1026 11:44:13 @monitor.py:467]\u001b[0m GAN_loss/gen/loss: 0.95066\n",
      "\u001b[32m[1026 11:44:13 @monitor.py:467]\u001b[0m QueueInput/queue_size: 50\n",
      "\u001b[32m[1026 11:44:13 @base.py:275]\u001b[0m Start Epoch 862 ...\n"
     ]
    },
    {
     "name": "stderr",
     "output_type": "stream",
     "text": [
      "100%|###################################################################################|175/175[00:05<00:00,31.84it/s]"
     ]
    },
    {
     "name": "stdout",
     "output_type": "stream",
     "text": [
      "\u001b[32m[1026 11:44:19 @base.py:285]\u001b[0m Epoch 862 (global_step 150850) finished, time:5.5 seconds.\n",
      "\u001b[32m[1026 11:44:19 @saver.py:79]\u001b[0m Model saved to ../output/Chicago/DATGAN2_1000/model\\model-150850.\n"
     ]
    },
    {
     "name": "stderr",
     "output_type": "stream",
     "text": [
      "\n"
     ]
    },
    {
     "name": "stdout",
     "output_type": "stream",
     "text": [
      "\u001b[32m[1026 11:44:19 @monitor.py:467]\u001b[0m GAN_loss/discrim/accuracy_fake: 0.972\n",
      "\u001b[32m[1026 11:44:19 @monitor.py:467]\u001b[0m GAN_loss/discrim/accuracy_real: 0.048\n",
      "\u001b[32m[1026 11:44:19 @monitor.py:467]\u001b[0m GAN_loss/discrim/loss: 0.65368\n",
      "\u001b[32m[1026 11:44:19 @monitor.py:467]\u001b[0m GAN_loss/gen/final-g-loss: 1.0184\n",
      "\u001b[32m[1026 11:44:19 @monitor.py:467]\u001b[0m GAN_loss/gen/klloss: 0.082551\n",
      "\u001b[32m[1026 11:44:19 @monitor.py:467]\u001b[0m GAN_loss/gen/loss: 0.93585\n",
      "\u001b[32m[1026 11:44:19 @monitor.py:467]\u001b[0m QueueInput/queue_size: 50\n",
      "\u001b[32m[1026 11:44:19 @base.py:275]\u001b[0m Start Epoch 863 ...\n"
     ]
    },
    {
     "name": "stderr",
     "output_type": "stream",
     "text": [
      "100%|###################################################################################|175/175[00:05<00:00,31.24it/s]"
     ]
    },
    {
     "name": "stdout",
     "output_type": "stream",
     "text": [
      "\u001b[32m[1026 11:44:24 @base.py:285]\u001b[0m Epoch 863 (global_step 151025) finished, time:5.6 seconds.\n",
      "\u001b[32m[1026 11:44:24 @saver.py:79]\u001b[0m Model saved to ../output/Chicago/DATGAN2_1000/model\\model-151025.\n"
     ]
    },
    {
     "name": "stderr",
     "output_type": "stream",
     "text": [
      "\n"
     ]
    },
    {
     "name": "stdout",
     "output_type": "stream",
     "text": [
      "\u001b[32m[1026 11:44:25 @monitor.py:467]\u001b[0m GAN_loss/discrim/accuracy_fake: 0.972\n",
      "\u001b[32m[1026 11:44:25 @monitor.py:467]\u001b[0m GAN_loss/discrim/accuracy_real: 0.05\n",
      "\u001b[32m[1026 11:44:25 @monitor.py:467]\u001b[0m GAN_loss/discrim/loss: 0.645\n",
      "\u001b[32m[1026 11:44:25 @monitor.py:467]\u001b[0m GAN_loss/gen/final-g-loss: 1.0169\n",
      "\u001b[32m[1026 11:44:25 @monitor.py:467]\u001b[0m GAN_loss/gen/klloss: 0.064423\n",
      "\u001b[32m[1026 11:44:25 @monitor.py:467]\u001b[0m GAN_loss/gen/loss: 0.95252\n",
      "\u001b[32m[1026 11:44:25 @monitor.py:467]\u001b[0m QueueInput/queue_size: 50\n",
      "\u001b[32m[1026 11:44:25 @base.py:275]\u001b[0m Start Epoch 864 ...\n"
     ]
    },
    {
     "name": "stderr",
     "output_type": "stream",
     "text": [
      "100%|###################################################################################|175/175[00:05<00:00,31.36it/s]"
     ]
    },
    {
     "name": "stdout",
     "output_type": "stream",
     "text": [
      "\u001b[32m[1026 11:44:30 @base.py:285]\u001b[0m Epoch 864 (global_step 151200) finished, time:5.58 seconds.\n",
      "\u001b[32m[1026 11:44:30 @saver.py:79]\u001b[0m Model saved to ../output/Chicago/DATGAN2_1000/model\\model-151200.\n"
     ]
    },
    {
     "name": "stderr",
     "output_type": "stream",
     "text": [
      "\n"
     ]
    },
    {
     "name": "stdout",
     "output_type": "stream",
     "text": [
      "\u001b[32m[1026 11:44:30 @monitor.py:467]\u001b[0m GAN_loss/discrim/accuracy_fake: 0.974\n",
      "\u001b[32m[1026 11:44:30 @monitor.py:467]\u001b[0m GAN_loss/discrim/accuracy_real: 0.052\n",
      "\u001b[32m[1026 11:44:30 @monitor.py:467]\u001b[0m GAN_loss/discrim/loss: 0.64888\n",
      "\u001b[32m[1026 11:44:30 @monitor.py:467]\u001b[0m GAN_loss/gen/final-g-loss: 1.0065\n",
      "\u001b[32m[1026 11:44:30 @monitor.py:467]\u001b[0m GAN_loss/gen/klloss: 0.062243\n",
      "\u001b[32m[1026 11:44:30 @monitor.py:467]\u001b[0m GAN_loss/gen/loss: 0.94426\n",
      "\u001b[32m[1026 11:44:30 @monitor.py:467]\u001b[0m QueueInput/queue_size: 50\n",
      "\u001b[32m[1026 11:44:30 @base.py:275]\u001b[0m Start Epoch 865 ...\n"
     ]
    },
    {
     "name": "stderr",
     "output_type": "stream",
     "text": [
      "100%|###################################################################################|175/175[00:05<00:00,32.05it/s]"
     ]
    },
    {
     "name": "stdout",
     "output_type": "stream",
     "text": [
      "\u001b[32m[1026 11:44:36 @base.py:285]\u001b[0m Epoch 865 (global_step 151375) finished, time:5.46 seconds.\n",
      "\u001b[32m[1026 11:44:36 @saver.py:79]\u001b[0m Model saved to ../output/Chicago/DATGAN2_1000/model\\model-151375.\n"
     ]
    },
    {
     "name": "stderr",
     "output_type": "stream",
     "text": [
      "\n"
     ]
    },
    {
     "name": "stdout",
     "output_type": "stream",
     "text": [
      "\u001b[32m[1026 11:44:36 @monitor.py:467]\u001b[0m GAN_loss/discrim/accuracy_fake: 0.978\n",
      "\u001b[32m[1026 11:44:36 @monitor.py:467]\u001b[0m GAN_loss/discrim/accuracy_real: 0.04\n",
      "\u001b[32m[1026 11:44:36 @monitor.py:467]\u001b[0m GAN_loss/discrim/loss: 0.64962\n",
      "\u001b[32m[1026 11:44:36 @monitor.py:467]\u001b[0m GAN_loss/gen/final-g-loss: 1.0004\n",
      "\u001b[32m[1026 11:44:36 @monitor.py:467]\u001b[0m GAN_loss/gen/klloss: 0.060905\n",
      "\u001b[32m[1026 11:44:36 @monitor.py:467]\u001b[0m GAN_loss/gen/loss: 0.93954\n",
      "\u001b[32m[1026 11:44:36 @monitor.py:467]\u001b[0m QueueInput/queue_size: 50\n",
      "\u001b[32m[1026 11:44:36 @base.py:275]\u001b[0m Start Epoch 866 ...\n"
     ]
    },
    {
     "name": "stderr",
     "output_type": "stream",
     "text": [
      "100%|###################################################################################|175/175[00:05<00:00,32.22it/s]"
     ]
    },
    {
     "name": "stdout",
     "output_type": "stream",
     "text": [
      "\u001b[32m[1026 11:44:42 @base.py:285]\u001b[0m Epoch 866 (global_step 151550) finished, time:5.43 seconds.\n"
     ]
    },
    {
     "name": "stderr",
     "output_type": "stream",
     "text": [
      "\n"
     ]
    },
    {
     "name": "stdout",
     "output_type": "stream",
     "text": [
      "\u001b[32m[1026 11:44:42 @saver.py:79]\u001b[0m Model saved to ../output/Chicago/DATGAN2_1000/model\\model-151550.\n",
      "\u001b[32m[1026 11:44:42 @monitor.py:467]\u001b[0m GAN_loss/discrim/accuracy_fake: 0.958\n",
      "\u001b[32m[1026 11:44:42 @monitor.py:467]\u001b[0m GAN_loss/discrim/accuracy_real: 0.044\n",
      "\u001b[32m[1026 11:44:42 @monitor.py:467]\u001b[0m GAN_loss/discrim/loss: 0.65768\n",
      "\u001b[32m[1026 11:44:42 @monitor.py:467]\u001b[0m GAN_loss/gen/final-g-loss: 0.98937\n",
      "\u001b[32m[1026 11:44:42 @monitor.py:467]\u001b[0m GAN_loss/gen/klloss: 0.059688\n",
      "\u001b[32m[1026 11:44:42 @monitor.py:467]\u001b[0m GAN_loss/gen/loss: 0.92968\n",
      "\u001b[32m[1026 11:44:42 @monitor.py:467]\u001b[0m QueueInput/queue_size: 50\n",
      "\u001b[32m[1026 11:44:42 @base.py:275]\u001b[0m Start Epoch 867 ...\n"
     ]
    },
    {
     "name": "stderr",
     "output_type": "stream",
     "text": [
      "100%|###################################################################################|175/175[00:05<00:00,31.71it/s]"
     ]
    },
    {
     "name": "stdout",
     "output_type": "stream",
     "text": [
      "\u001b[32m[1026 11:44:47 @base.py:285]\u001b[0m Epoch 867 (global_step 151725) finished, time:5.52 seconds.\n",
      "\u001b[32m[1026 11:44:47 @saver.py:79]\u001b[0m Model saved to ../output/Chicago/DATGAN2_1000/model\\model-151725.\n"
     ]
    },
    {
     "name": "stderr",
     "output_type": "stream",
     "text": [
      "\n"
     ]
    },
    {
     "name": "stdout",
     "output_type": "stream",
     "text": [
      "\u001b[32m[1026 11:44:48 @monitor.py:467]\u001b[0m GAN_loss/discrim/accuracy_fake: 0.968\n",
      "\u001b[32m[1026 11:44:48 @monitor.py:467]\u001b[0m GAN_loss/discrim/accuracy_real: 0.032\n",
      "\u001b[32m[1026 11:44:48 @monitor.py:467]\u001b[0m GAN_loss/discrim/loss: 0.65018\n",
      "\u001b[32m[1026 11:44:48 @monitor.py:467]\u001b[0m GAN_loss/gen/final-g-loss: 1.0049\n",
      "\u001b[32m[1026 11:44:48 @monitor.py:467]\u001b[0m GAN_loss/gen/klloss: 0.068434\n",
      "\u001b[32m[1026 11:44:48 @monitor.py:467]\u001b[0m GAN_loss/gen/loss: 0.93644\n",
      "\u001b[32m[1026 11:44:48 @monitor.py:467]\u001b[0m QueueInput/queue_size: 50\n",
      "\u001b[32m[1026 11:44:48 @base.py:275]\u001b[0m Start Epoch 868 ...\n"
     ]
    },
    {
     "name": "stderr",
     "output_type": "stream",
     "text": [
      "100%|###################################################################################|175/175[00:05<00:00,31.60it/s]"
     ]
    },
    {
     "name": "stdout",
     "output_type": "stream",
     "text": [
      "\u001b[32m[1026 11:44:53 @base.py:285]\u001b[0m Epoch 868 (global_step 151900) finished, time:5.54 seconds.\n",
      "\u001b[32m[1026 11:44:53 @saver.py:79]\u001b[0m Model saved to ../output/Chicago/DATGAN2_1000/model\\model-151900.\n"
     ]
    },
    {
     "name": "stderr",
     "output_type": "stream",
     "text": [
      "\n"
     ]
    },
    {
     "name": "stdout",
     "output_type": "stream",
     "text": [
      "\u001b[32m[1026 11:44:53 @monitor.py:467]\u001b[0m GAN_loss/discrim/accuracy_fake: 0.972\n",
      "\u001b[32m[1026 11:44:53 @monitor.py:467]\u001b[0m GAN_loss/discrim/accuracy_real: 0.036\n",
      "\u001b[32m[1026 11:44:53 @monitor.py:467]\u001b[0m GAN_loss/discrim/loss: 0.65056\n",
      "\u001b[32m[1026 11:44:53 @monitor.py:467]\u001b[0m GAN_loss/gen/final-g-loss: 0.98421\n",
      "\u001b[32m[1026 11:44:53 @monitor.py:467]\u001b[0m GAN_loss/gen/klloss: 0.053469\n",
      "\u001b[32m[1026 11:44:53 @monitor.py:467]\u001b[0m GAN_loss/gen/loss: 0.93074\n",
      "\u001b[32m[1026 11:44:53 @monitor.py:467]\u001b[0m QueueInput/queue_size: 50\n",
      "\u001b[32m[1026 11:44:53 @base.py:275]\u001b[0m Start Epoch 869 ...\n"
     ]
    },
    {
     "name": "stderr",
     "output_type": "stream",
     "text": [
      "100%|###################################################################################|175/175[00:05<00:00,32.20it/s]"
     ]
    },
    {
     "name": "stdout",
     "output_type": "stream",
     "text": [
      "\u001b[32m[1026 11:44:59 @base.py:285]\u001b[0m Epoch 869 (global_step 152075) finished, time:5.43 seconds.\n",
      "\u001b[32m[1026 11:44:59 @saver.py:79]\u001b[0m Model saved to ../output/Chicago/DATGAN2_1000/model\\model-152075.\n"
     ]
    },
    {
     "name": "stderr",
     "output_type": "stream",
     "text": [
      "\n"
     ]
    },
    {
     "name": "stdout",
     "output_type": "stream",
     "text": [
      "\u001b[32m[1026 11:44:59 @monitor.py:467]\u001b[0m GAN_loss/discrim/accuracy_fake: 0.976\n",
      "\u001b[32m[1026 11:44:59 @monitor.py:467]\u001b[0m GAN_loss/discrim/accuracy_real: 0.038\n",
      "\u001b[32m[1026 11:44:59 @monitor.py:467]\u001b[0m GAN_loss/discrim/loss: 0.65132\n",
      "\u001b[32m[1026 11:44:59 @monitor.py:467]\u001b[0m GAN_loss/gen/final-g-loss: 0.99773\n",
      "\u001b[32m[1026 11:44:59 @monitor.py:467]\u001b[0m GAN_loss/gen/klloss: 0.056869\n",
      "\u001b[32m[1026 11:44:59 @monitor.py:467]\u001b[0m GAN_loss/gen/loss: 0.94086\n",
      "\u001b[32m[1026 11:44:59 @monitor.py:467]\u001b[0m QueueInput/queue_size: 50\n",
      "\u001b[32m[1026 11:44:59 @base.py:275]\u001b[0m Start Epoch 870 ...\n"
     ]
    },
    {
     "name": "stderr",
     "output_type": "stream",
     "text": [
      "100%|###################################################################################|175/175[00:05<00:00,32.24it/s]"
     ]
    },
    {
     "name": "stdout",
     "output_type": "stream",
     "text": [
      "\u001b[32m[1026 11:45:04 @base.py:285]\u001b[0m Epoch 870 (global_step 152250) finished, time:5.43 seconds.\n"
     ]
    },
    {
     "name": "stderr",
     "output_type": "stream",
     "text": [
      "\n"
     ]
    },
    {
     "name": "stdout",
     "output_type": "stream",
     "text": [
      "\u001b[32m[1026 11:45:05 @saver.py:79]\u001b[0m Model saved to ../output/Chicago/DATGAN2_1000/model\\model-152250.\n",
      "\u001b[32m[1026 11:45:05 @monitor.py:467]\u001b[0m GAN_loss/discrim/accuracy_fake: 0.974\n",
      "\u001b[32m[1026 11:45:05 @monitor.py:467]\u001b[0m GAN_loss/discrim/accuracy_real: 0.038\n",
      "\u001b[32m[1026 11:45:05 @monitor.py:467]\u001b[0m GAN_loss/discrim/loss: 0.65056\n",
      "\u001b[32m[1026 11:45:05 @monitor.py:467]\u001b[0m GAN_loss/gen/final-g-loss: 0.98778\n",
      "\u001b[32m[1026 11:45:05 @monitor.py:467]\u001b[0m GAN_loss/gen/klloss: 0.051959\n",
      "\u001b[32m[1026 11:45:05 @monitor.py:467]\u001b[0m GAN_loss/gen/loss: 0.93582\n",
      "\u001b[32m[1026 11:45:05 @monitor.py:467]\u001b[0m QueueInput/queue_size: 50\n",
      "\u001b[32m[1026 11:45:05 @base.py:275]\u001b[0m Start Epoch 871 ...\n"
     ]
    },
    {
     "name": "stderr",
     "output_type": "stream",
     "text": [
      "100%|###################################################################################|175/175[00:05<00:00,32.20it/s]"
     ]
    },
    {
     "name": "stdout",
     "output_type": "stream",
     "text": [
      "\u001b[32m[1026 11:45:10 @base.py:285]\u001b[0m Epoch 871 (global_step 152425) finished, time:5.44 seconds.\n",
      "\u001b[32m[1026 11:45:10 @saver.py:79]\u001b[0m Model saved to ../output/Chicago/DATGAN2_1000/model\\model-152425.\n"
     ]
    },
    {
     "name": "stderr",
     "output_type": "stream",
     "text": [
      "\n"
     ]
    },
    {
     "name": "stdout",
     "output_type": "stream",
     "text": [
      "\u001b[32m[1026 11:45:10 @monitor.py:467]\u001b[0m GAN_loss/discrim/accuracy_fake: 0.98\n",
      "\u001b[32m[1026 11:45:10 @monitor.py:467]\u001b[0m GAN_loss/discrim/accuracy_real: 0.018\n",
      "\u001b[32m[1026 11:45:10 @monitor.py:467]\u001b[0m GAN_loss/discrim/loss: 0.64622\n",
      "\u001b[32m[1026 11:45:10 @monitor.py:467]\u001b[0m GAN_loss/gen/final-g-loss: 1.0275\n",
      "\u001b[32m[1026 11:45:10 @monitor.py:467]\u001b[0m GAN_loss/gen/klloss: 0.082774\n",
      "\u001b[32m[1026 11:45:10 @monitor.py:467]\u001b[0m GAN_loss/gen/loss: 0.94474\n",
      "\u001b[32m[1026 11:45:10 @monitor.py:467]\u001b[0m QueueInput/queue_size: 50\n",
      "\u001b[32m[1026 11:45:10 @base.py:275]\u001b[0m Start Epoch 872 ...\n"
     ]
    },
    {
     "name": "stderr",
     "output_type": "stream",
     "text": [
      "100%|###################################################################################|175/175[00:05<00:00,32.26it/s]"
     ]
    },
    {
     "name": "stdout",
     "output_type": "stream",
     "text": [
      "\u001b[32m[1026 11:45:16 @base.py:285]\u001b[0m Epoch 872 (global_step 152600) finished, time:5.43 seconds.\n"
     ]
    },
    {
     "name": "stderr",
     "output_type": "stream",
     "text": [
      "\n"
     ]
    },
    {
     "name": "stdout",
     "output_type": "stream",
     "text": [
      "\u001b[32m[1026 11:45:16 @saver.py:79]\u001b[0m Model saved to ../output/Chicago/DATGAN2_1000/model\\model-152600.\n",
      "\u001b[32m[1026 11:45:16 @monitor.py:467]\u001b[0m GAN_loss/discrim/accuracy_fake: 0.978\n",
      "\u001b[32m[1026 11:45:16 @monitor.py:467]\u001b[0m GAN_loss/discrim/accuracy_real: 0.036\n",
      "\u001b[32m[1026 11:45:16 @monitor.py:467]\u001b[0m GAN_loss/discrim/loss: 0.64748\n",
      "\u001b[32m[1026 11:45:16 @monitor.py:467]\u001b[0m GAN_loss/gen/final-g-loss: 1.0052\n",
      "\u001b[32m[1026 11:45:16 @monitor.py:467]\u001b[0m GAN_loss/gen/klloss: 0.069599\n",
      "\u001b[32m[1026 11:45:16 @monitor.py:467]\u001b[0m GAN_loss/gen/loss: 0.93558\n",
      "\u001b[32m[1026 11:45:16 @monitor.py:467]\u001b[0m QueueInput/queue_size: 50\n",
      "\u001b[32m[1026 11:45:16 @base.py:275]\u001b[0m Start Epoch 873 ...\n"
     ]
    },
    {
     "name": "stderr",
     "output_type": "stream",
     "text": [
      "100%|###################################################################################|175/175[00:05<00:00,32.07it/s]"
     ]
    },
    {
     "name": "stdout",
     "output_type": "stream",
     "text": [
      "\u001b[32m[1026 11:45:22 @base.py:285]\u001b[0m Epoch 873 (global_step 152775) finished, time:5.46 seconds.\n",
      "\u001b[32m[1026 11:45:22 @saver.py:79]\u001b[0m Model saved to ../output/Chicago/DATGAN2_1000/model\\model-152775.\n"
     ]
    },
    {
     "name": "stderr",
     "output_type": "stream",
     "text": [
      "\n"
     ]
    },
    {
     "name": "stdout",
     "output_type": "stream",
     "text": [
      "\u001b[32m[1026 11:45:22 @monitor.py:467]\u001b[0m GAN_loss/discrim/accuracy_fake: 0.972\n",
      "\u001b[32m[1026 11:45:22 @monitor.py:467]\u001b[0m GAN_loss/discrim/accuracy_real: 0.054\n",
      "\u001b[32m[1026 11:45:22 @monitor.py:467]\u001b[0m GAN_loss/discrim/loss: 0.64854\n",
      "\u001b[32m[1026 11:45:22 @monitor.py:467]\u001b[0m GAN_loss/gen/final-g-loss: 1.0199\n",
      "\u001b[32m[1026 11:45:22 @monitor.py:467]\u001b[0m GAN_loss/gen/klloss: 0.078278\n",
      "\u001b[32m[1026 11:45:22 @monitor.py:467]\u001b[0m GAN_loss/gen/loss: 0.94166\n",
      "\u001b[32m[1026 11:45:22 @monitor.py:467]\u001b[0m QueueInput/queue_size: 50\n",
      "\u001b[32m[1026 11:45:22 @base.py:275]\u001b[0m Start Epoch 874 ...\n"
     ]
    },
    {
     "name": "stderr",
     "output_type": "stream",
     "text": [
      "100%|###################################################################################|175/175[00:05<00:00,32.11it/s]"
     ]
    },
    {
     "name": "stdout",
     "output_type": "stream",
     "text": [
      "\u001b[32m[1026 11:45:27 @base.py:285]\u001b[0m Epoch 874 (global_step 152950) finished, time:5.45 seconds.\n",
      "\u001b[32m[1026 11:45:27 @saver.py:79]\u001b[0m Model saved to ../output/Chicago/DATGAN2_1000/model\\model-152950.\n"
     ]
    },
    {
     "name": "stderr",
     "output_type": "stream",
     "text": [
      "\n"
     ]
    },
    {
     "name": "stdout",
     "output_type": "stream",
     "text": [
      "\u001b[32m[1026 11:45:27 @monitor.py:467]\u001b[0m GAN_loss/discrim/accuracy_fake: 0.992\n",
      "\u001b[32m[1026 11:45:27 @monitor.py:467]\u001b[0m GAN_loss/discrim/accuracy_real: 0.028\n",
      "\u001b[32m[1026 11:45:27 @monitor.py:467]\u001b[0m GAN_loss/discrim/loss: 0.64454\n",
      "\u001b[32m[1026 11:45:27 @monitor.py:467]\u001b[0m GAN_loss/gen/final-g-loss: 1.0031\n",
      "\u001b[32m[1026 11:45:27 @monitor.py:467]\u001b[0m GAN_loss/gen/klloss: 0.054134\n",
      "\u001b[32m[1026 11:45:27 @monitor.py:467]\u001b[0m GAN_loss/gen/loss: 0.94893\n",
      "\u001b[32m[1026 11:45:27 @monitor.py:467]\u001b[0m QueueInput/queue_size: 50\n",
      "\u001b[32m[1026 11:45:27 @base.py:275]\u001b[0m Start Epoch 875 ...\n"
     ]
    },
    {
     "name": "stderr",
     "output_type": "stream",
     "text": [
      "100%|###################################################################################|175/175[00:05<00:00,31.52it/s]"
     ]
    },
    {
     "name": "stdout",
     "output_type": "stream",
     "text": [
      "\u001b[32m[1026 11:45:33 @base.py:285]\u001b[0m Epoch 875 (global_step 153125) finished, time:5.55 seconds.\n",
      "\u001b[32m[1026 11:45:33 @saver.py:79]\u001b[0m Model saved to ../output/Chicago/DATGAN2_1000/model\\model-153125.\n"
     ]
    },
    {
     "name": "stderr",
     "output_type": "stream",
     "text": [
      "\n"
     ]
    },
    {
     "name": "stdout",
     "output_type": "stream",
     "text": [
      "\u001b[32m[1026 11:45:33 @monitor.py:467]\u001b[0m GAN_loss/discrim/accuracy_fake: 0.982\n",
      "\u001b[32m[1026 11:45:33 @monitor.py:467]\u001b[0m GAN_loss/discrim/accuracy_real: 0.038\n",
      "\u001b[32m[1026 11:45:33 @monitor.py:467]\u001b[0m GAN_loss/discrim/loss: 0.64842\n",
      "\u001b[32m[1026 11:45:33 @monitor.py:467]\u001b[0m GAN_loss/gen/final-g-loss: 1.0164\n",
      "\u001b[32m[1026 11:45:33 @monitor.py:467]\u001b[0m GAN_loss/gen/klloss: 0.066291\n",
      "\u001b[32m[1026 11:45:33 @monitor.py:467]\u001b[0m GAN_loss/gen/loss: 0.95013\n",
      "\u001b[32m[1026 11:45:33 @monitor.py:467]\u001b[0m QueueInput/queue_size: 50\n",
      "\u001b[32m[1026 11:45:33 @base.py:275]\u001b[0m Start Epoch 876 ...\n"
     ]
    },
    {
     "name": "stderr",
     "output_type": "stream",
     "text": [
      "100%|###################################################################################|175/175[00:05<00:00,31.37it/s]"
     ]
    },
    {
     "name": "stdout",
     "output_type": "stream",
     "text": [
      "\u001b[32m[1026 11:45:39 @base.py:285]\u001b[0m Epoch 876 (global_step 153300) finished, time:5.58 seconds.\n",
      "\u001b[32m[1026 11:45:39 @saver.py:79]\u001b[0m Model saved to ../output/Chicago/DATGAN2_1000/model\\model-153300.\n"
     ]
    },
    {
     "name": "stderr",
     "output_type": "stream",
     "text": [
      "\n"
     ]
    },
    {
     "name": "stdout",
     "output_type": "stream",
     "text": [
      "\u001b[32m[1026 11:45:39 @monitor.py:467]\u001b[0m GAN_loss/discrim/accuracy_fake: 0.976\n",
      "\u001b[32m[1026 11:45:39 @monitor.py:467]\u001b[0m GAN_loss/discrim/accuracy_real: 0.038\n",
      "\u001b[32m[1026 11:45:39 @monitor.py:467]\u001b[0m GAN_loss/discrim/loss: 0.64954\n",
      "\u001b[32m[1026 11:45:39 @monitor.py:467]\u001b[0m GAN_loss/gen/final-g-loss: 1.012\n",
      "\u001b[32m[1026 11:45:39 @monitor.py:467]\u001b[0m GAN_loss/gen/klloss: 0.064973\n",
      "\u001b[32m[1026 11:45:39 @monitor.py:467]\u001b[0m GAN_loss/gen/loss: 0.94707\n",
      "\u001b[32m[1026 11:45:39 @monitor.py:467]\u001b[0m QueueInput/queue_size: 50\n",
      "\u001b[32m[1026 11:45:39 @base.py:275]\u001b[0m Start Epoch 877 ...\n"
     ]
    },
    {
     "name": "stderr",
     "output_type": "stream",
     "text": [
      "100%|###################################################################################|175/175[00:05<00:00,31.11it/s]"
     ]
    },
    {
     "name": "stdout",
     "output_type": "stream",
     "text": [
      "\u001b[32m[1026 11:45:45 @base.py:285]\u001b[0m Epoch 877 (global_step 153475) finished, time:5.63 seconds.\n",
      "\u001b[32m[1026 11:45:45 @saver.py:79]\u001b[0m Model saved to ../output/Chicago/DATGAN2_1000/model\\model-153475.\n"
     ]
    },
    {
     "name": "stderr",
     "output_type": "stream",
     "text": [
      "\n"
     ]
    },
    {
     "name": "stdout",
     "output_type": "stream",
     "text": [
      "\u001b[32m[1026 11:45:45 @monitor.py:467]\u001b[0m GAN_loss/discrim/accuracy_fake: 0.97\n",
      "\u001b[32m[1026 11:45:45 @monitor.py:467]\u001b[0m GAN_loss/discrim/accuracy_real: 0.054\n",
      "\u001b[32m[1026 11:45:45 @monitor.py:467]\u001b[0m GAN_loss/discrim/loss: 0.64929\n",
      "\u001b[32m[1026 11:45:45 @monitor.py:467]\u001b[0m GAN_loss/gen/final-g-loss: 1.0003\n",
      "\u001b[32m[1026 11:45:45 @monitor.py:467]\u001b[0m GAN_loss/gen/klloss: 0.060343\n",
      "\u001b[32m[1026 11:45:45 @monitor.py:467]\u001b[0m GAN_loss/gen/loss: 0.93991\n",
      "\u001b[32m[1026 11:45:45 @monitor.py:467]\u001b[0m QueueInput/queue_size: 50\n",
      "\u001b[32m[1026 11:45:45 @base.py:275]\u001b[0m Start Epoch 878 ...\n"
     ]
    },
    {
     "name": "stderr",
     "output_type": "stream",
     "text": [
      "100%|###################################################################################|175/175[00:05<00:00,31.16it/s]"
     ]
    },
    {
     "name": "stdout",
     "output_type": "stream",
     "text": [
      "\u001b[32m[1026 11:45:51 @base.py:285]\u001b[0m Epoch 878 (global_step 153650) finished, time:5.62 seconds.\n",
      "\u001b[32m[1026 11:45:51 @saver.py:79]\u001b[0m Model saved to ../output/Chicago/DATGAN2_1000/model\\model-153650.\n"
     ]
    },
    {
     "name": "stderr",
     "output_type": "stream",
     "text": [
      "\n"
     ]
    },
    {
     "name": "stdout",
     "output_type": "stream",
     "text": [
      "\u001b[32m[1026 11:45:51 @monitor.py:467]\u001b[0m GAN_loss/discrim/accuracy_fake: 0.966\n",
      "\u001b[32m[1026 11:45:51 @monitor.py:467]\u001b[0m GAN_loss/discrim/accuracy_real: 0.048\n",
      "\u001b[32m[1026 11:45:51 @monitor.py:467]\u001b[0m GAN_loss/discrim/loss: 0.65035\n",
      "\u001b[32m[1026 11:45:51 @monitor.py:467]\u001b[0m GAN_loss/gen/final-g-loss: 1.0263\n",
      "\u001b[32m[1026 11:45:51 @monitor.py:467]\u001b[0m GAN_loss/gen/klloss: 0.077954\n",
      "\u001b[32m[1026 11:45:51 @monitor.py:467]\u001b[0m GAN_loss/gen/loss: 0.94833\n",
      "\u001b[32m[1026 11:45:51 @monitor.py:467]\u001b[0m QueueInput/queue_size: 50\n",
      "\u001b[32m[1026 11:45:51 @base.py:275]\u001b[0m Start Epoch 879 ...\n"
     ]
    },
    {
     "name": "stderr",
     "output_type": "stream",
     "text": [
      "100%|###################################################################################|175/175[00:05<00:00,31.44it/s]"
     ]
    },
    {
     "name": "stdout",
     "output_type": "stream",
     "text": [
      "\u001b[32m[1026 11:45:56 @base.py:285]\u001b[0m Epoch 879 (global_step 153825) finished, time:5.57 seconds.\n",
      "\u001b[32m[1026 11:45:56 @saver.py:79]\u001b[0m Model saved to ../output/Chicago/DATGAN2_1000/model\\model-153825.\n"
     ]
    },
    {
     "name": "stderr",
     "output_type": "stream",
     "text": [
      "\n"
     ]
    },
    {
     "name": "stdout",
     "output_type": "stream",
     "text": [
      "\u001b[32m[1026 11:45:57 @monitor.py:467]\u001b[0m GAN_loss/discrim/accuracy_fake: 0.976\n",
      "\u001b[32m[1026 11:45:57 @monitor.py:467]\u001b[0m GAN_loss/discrim/accuracy_real: 0.026\n",
      "\u001b[32m[1026 11:45:57 @monitor.py:467]\u001b[0m GAN_loss/discrim/loss: 0.65018\n",
      "\u001b[32m[1026 11:45:57 @monitor.py:467]\u001b[0m GAN_loss/gen/final-g-loss: 1.0173\n",
      "\u001b[32m[1026 11:45:57 @monitor.py:467]\u001b[0m GAN_loss/gen/klloss: 0.071683\n",
      "\u001b[32m[1026 11:45:57 @monitor.py:467]\u001b[0m GAN_loss/gen/loss: 0.94562\n",
      "\u001b[32m[1026 11:45:57 @monitor.py:467]\u001b[0m QueueInput/queue_size: 50\n",
      "\u001b[32m[1026 11:45:57 @base.py:275]\u001b[0m Start Epoch 880 ...\n"
     ]
    },
    {
     "name": "stderr",
     "output_type": "stream",
     "text": [
      "100%|###################################################################################|175/175[00:05<00:00,31.30it/s]"
     ]
    },
    {
     "name": "stdout",
     "output_type": "stream",
     "text": [
      "\u001b[32m[1026 11:46:02 @base.py:285]\u001b[0m Epoch 880 (global_step 154000) finished, time:5.59 seconds.\n",
      "\u001b[32m[1026 11:46:02 @saver.py:79]\u001b[0m Model saved to ../output/Chicago/DATGAN2_1000/model\\model-154000.\n"
     ]
    },
    {
     "name": "stderr",
     "output_type": "stream",
     "text": [
      "\n"
     ]
    },
    {
     "name": "stdout",
     "output_type": "stream",
     "text": [
      "\u001b[32m[1026 11:46:02 @monitor.py:467]\u001b[0m GAN_loss/discrim/accuracy_fake: 0.96\n",
      "\u001b[32m[1026 11:46:02 @monitor.py:467]\u001b[0m GAN_loss/discrim/accuracy_real: 0.038\n",
      "\u001b[32m[1026 11:46:02 @monitor.py:467]\u001b[0m GAN_loss/discrim/loss: 0.65009\n",
      "\u001b[32m[1026 11:46:02 @monitor.py:467]\u001b[0m GAN_loss/gen/final-g-loss: 0.9853\n",
      "\u001b[32m[1026 11:46:02 @monitor.py:467]\u001b[0m GAN_loss/gen/klloss: 0.046421\n",
      "\u001b[32m[1026 11:46:02 @monitor.py:467]\u001b[0m GAN_loss/gen/loss: 0.93888\n",
      "\u001b[32m[1026 11:46:02 @monitor.py:467]\u001b[0m QueueInput/queue_size: 50\n",
      "\u001b[32m[1026 11:46:02 @base.py:275]\u001b[0m Start Epoch 881 ...\n"
     ]
    },
    {
     "name": "stderr",
     "output_type": "stream",
     "text": [
      "100%|###################################################################################|175/175[00:05<00:00,31.63it/s]"
     ]
    },
    {
     "name": "stdout",
     "output_type": "stream",
     "text": [
      "\u001b[32m[1026 11:46:08 @base.py:285]\u001b[0m Epoch 881 (global_step 154175) finished, time:5.53 seconds.\n",
      "\u001b[32m[1026 11:46:08 @saver.py:79]\u001b[0m Model saved to ../output/Chicago/DATGAN2_1000/model\\model-154175.\n"
     ]
    },
    {
     "name": "stderr",
     "output_type": "stream",
     "text": [
      "\n"
     ]
    },
    {
     "name": "stdout",
     "output_type": "stream",
     "text": [
      "\u001b[32m[1026 11:46:08 @monitor.py:467]\u001b[0m GAN_loss/discrim/accuracy_fake: 0.962\n",
      "\u001b[32m[1026 11:46:08 @monitor.py:467]\u001b[0m GAN_loss/discrim/accuracy_real: 0.042\n",
      "\u001b[32m[1026 11:46:08 @monitor.py:467]\u001b[0m GAN_loss/discrim/loss: 0.65218\n",
      "\u001b[32m[1026 11:46:08 @monitor.py:467]\u001b[0m GAN_loss/gen/final-g-loss: 0.99685\n",
      "\u001b[32m[1026 11:46:08 @monitor.py:467]\u001b[0m GAN_loss/gen/klloss: 0.065176\n",
      "\u001b[32m[1026 11:46:08 @monitor.py:467]\u001b[0m GAN_loss/gen/loss: 0.93167\n",
      "\u001b[32m[1026 11:46:08 @monitor.py:467]\u001b[0m QueueInput/queue_size: 50\n",
      "\u001b[32m[1026 11:46:08 @base.py:275]\u001b[0m Start Epoch 882 ...\n"
     ]
    },
    {
     "name": "stderr",
     "output_type": "stream",
     "text": [
      "100%|###################################################################################|175/175[00:05<00:00,30.26it/s]"
     ]
    },
    {
     "name": "stdout",
     "output_type": "stream",
     "text": [
      "\u001b[32m[1026 11:46:14 @base.py:285]\u001b[0m Epoch 882 (global_step 154350) finished, time:5.78 seconds.\n"
     ]
    },
    {
     "name": "stderr",
     "output_type": "stream",
     "text": [
      "\n"
     ]
    },
    {
     "name": "stdout",
     "output_type": "stream",
     "text": [
      "\u001b[32m[1026 11:46:14 @saver.py:79]\u001b[0m Model saved to ../output/Chicago/DATGAN2_1000/model\\model-154350.\n",
      "\u001b[32m[1026 11:46:14 @monitor.py:467]\u001b[0m GAN_loss/discrim/accuracy_fake: 0.974\n",
      "\u001b[32m[1026 11:46:14 @monitor.py:467]\u001b[0m GAN_loss/discrim/accuracy_real: 0.034\n",
      "\u001b[32m[1026 11:46:14 @monitor.py:467]\u001b[0m GAN_loss/discrim/loss: 0.64833\n",
      "\u001b[32m[1026 11:46:14 @monitor.py:467]\u001b[0m GAN_loss/gen/final-g-loss: 1.0061\n",
      "\u001b[32m[1026 11:46:14 @monitor.py:467]\u001b[0m GAN_loss/gen/klloss: 0.050736\n",
      "\u001b[32m[1026 11:46:14 @monitor.py:467]\u001b[0m GAN_loss/gen/loss: 0.95534\n",
      "\u001b[32m[1026 11:46:14 @monitor.py:467]\u001b[0m QueueInput/queue_size: 50\n",
      "\u001b[32m[1026 11:46:14 @base.py:275]\u001b[0m Start Epoch 883 ...\n"
     ]
    },
    {
     "name": "stderr",
     "output_type": "stream",
     "text": [
      "100%|###################################################################################|175/175[00:05<00:00,31.46it/s]"
     ]
    },
    {
     "name": "stdout",
     "output_type": "stream",
     "text": [
      "\u001b[32m[1026 11:46:20 @base.py:285]\u001b[0m Epoch 883 (global_step 154525) finished, time:5.56 seconds.\n",
      "\u001b[32m[1026 11:46:20 @saver.py:79]\u001b[0m Model saved to ../output/Chicago/DATGAN2_1000/model\\model-154525.\n"
     ]
    },
    {
     "name": "stderr",
     "output_type": "stream",
     "text": [
      "\n"
     ]
    },
    {
     "name": "stdout",
     "output_type": "stream",
     "text": [
      "\u001b[32m[1026 11:46:20 @monitor.py:467]\u001b[0m GAN_loss/discrim/accuracy_fake: 0.976\n",
      "\u001b[32m[1026 11:46:20 @monitor.py:467]\u001b[0m GAN_loss/discrim/accuracy_real: 0.052\n",
      "\u001b[32m[1026 11:46:20 @monitor.py:467]\u001b[0m GAN_loss/discrim/loss: 0.64462\n",
      "\u001b[32m[1026 11:46:20 @monitor.py:467]\u001b[0m GAN_loss/gen/final-g-loss: 1.0321\n",
      "\u001b[32m[1026 11:46:20 @monitor.py:467]\u001b[0m GAN_loss/gen/klloss: 0.086885\n",
      "\u001b[32m[1026 11:46:20 @monitor.py:467]\u001b[0m GAN_loss/gen/loss: 0.94518\n",
      "\u001b[32m[1026 11:46:20 @monitor.py:467]\u001b[0m QueueInput/queue_size: 50\n",
      "\u001b[32m[1026 11:46:20 @base.py:275]\u001b[0m Start Epoch 884 ...\n"
     ]
    },
    {
     "name": "stderr",
     "output_type": "stream",
     "text": [
      "100%|###################################################################################|175/175[00:05<00:00,31.76it/s]"
     ]
    },
    {
     "name": "stdout",
     "output_type": "stream",
     "text": [
      "\u001b[32m[1026 11:46:26 @base.py:285]\u001b[0m Epoch 884 (global_step 154700) finished, time:5.51 seconds.\n",
      "\u001b[32m[1026 11:46:26 @saver.py:79]\u001b[0m Model saved to ../output/Chicago/DATGAN2_1000/model\\model-154700.\n"
     ]
    },
    {
     "name": "stderr",
     "output_type": "stream",
     "text": [
      "\n"
     ]
    },
    {
     "name": "stdout",
     "output_type": "stream",
     "text": [
      "\u001b[32m[1026 11:46:26 @monitor.py:467]\u001b[0m GAN_loss/discrim/accuracy_fake: 0.962\n",
      "\u001b[32m[1026 11:46:26 @monitor.py:467]\u001b[0m GAN_loss/discrim/accuracy_real: 0.036\n",
      "\u001b[32m[1026 11:46:26 @monitor.py:467]\u001b[0m GAN_loss/discrim/loss: 0.65346\n",
      "\u001b[32m[1026 11:46:26 @monitor.py:467]\u001b[0m GAN_loss/gen/final-g-loss: 1.0008\n",
      "\u001b[32m[1026 11:46:26 @monitor.py:467]\u001b[0m GAN_loss/gen/klloss: 0.057799\n",
      "\u001b[32m[1026 11:46:26 @monitor.py:467]\u001b[0m GAN_loss/gen/loss: 0.94296\n",
      "\u001b[32m[1026 11:46:26 @monitor.py:467]\u001b[0m QueueInput/queue_size: 50\n",
      "\u001b[32m[1026 11:46:26 @base.py:275]\u001b[0m Start Epoch 885 ...\n"
     ]
    },
    {
     "name": "stderr",
     "output_type": "stream",
     "text": [
      "100%|###################################################################################|175/175[00:05<00:00,31.20it/s]"
     ]
    },
    {
     "name": "stdout",
     "output_type": "stream",
     "text": [
      "\u001b[32m[1026 11:46:31 @base.py:285]\u001b[0m Epoch 885 (global_step 154875) finished, time:5.61 seconds.\n",
      "\u001b[32m[1026 11:46:31 @saver.py:79]\u001b[0m Model saved to ../output/Chicago/DATGAN2_1000/model\\model-154875.\n"
     ]
    },
    {
     "name": "stderr",
     "output_type": "stream",
     "text": [
      "\n"
     ]
    },
    {
     "name": "stdout",
     "output_type": "stream",
     "text": [
      "\u001b[32m[1026 11:46:32 @monitor.py:467]\u001b[0m GAN_loss/discrim/accuracy_fake: 0.972\n",
      "\u001b[32m[1026 11:46:32 @monitor.py:467]\u001b[0m GAN_loss/discrim/accuracy_real: 0.054\n",
      "\u001b[32m[1026 11:46:32 @monitor.py:467]\u001b[0m GAN_loss/discrim/loss: 0.65341\n",
      "\u001b[32m[1026 11:46:32 @monitor.py:467]\u001b[0m GAN_loss/gen/final-g-loss: 0.98439\n",
      "\u001b[32m[1026 11:46:32 @monitor.py:467]\u001b[0m GAN_loss/gen/klloss: 0.038094\n",
      "\u001b[32m[1026 11:46:32 @monitor.py:467]\u001b[0m GAN_loss/gen/loss: 0.9463\n",
      "\u001b[32m[1026 11:46:32 @monitor.py:467]\u001b[0m QueueInput/queue_size: 50\n",
      "\u001b[32m[1026 11:46:32 @base.py:275]\u001b[0m Start Epoch 886 ...\n"
     ]
    },
    {
     "name": "stderr",
     "output_type": "stream",
     "text": [
      "100%|###################################################################################|175/175[00:05<00:00,31.25it/s]"
     ]
    },
    {
     "name": "stdout",
     "output_type": "stream",
     "text": [
      "\u001b[32m[1026 11:46:37 @base.py:285]\u001b[0m Epoch 886 (global_step 155050) finished, time:5.6 seconds.\n",
      "\u001b[32m[1026 11:46:37 @saver.py:79]\u001b[0m Model saved to ../output/Chicago/DATGAN2_1000/model\\model-155050.\n"
     ]
    },
    {
     "name": "stderr",
     "output_type": "stream",
     "text": [
      "\n"
     ]
    },
    {
     "name": "stdout",
     "output_type": "stream",
     "text": [
      "\u001b[32m[1026 11:46:37 @monitor.py:467]\u001b[0m GAN_loss/discrim/accuracy_fake: 0.974\n",
      "\u001b[32m[1026 11:46:37 @monitor.py:467]\u001b[0m GAN_loss/discrim/accuracy_real: 0.034\n",
      "\u001b[32m[1026 11:46:37 @monitor.py:467]\u001b[0m GAN_loss/discrim/loss: 0.65243\n",
      "\u001b[32m[1026 11:46:37 @monitor.py:467]\u001b[0m GAN_loss/gen/final-g-loss: 0.98749\n",
      "\u001b[32m[1026 11:46:37 @monitor.py:467]\u001b[0m GAN_loss/gen/klloss: 0.050608\n",
      "\u001b[32m[1026 11:46:37 @monitor.py:467]\u001b[0m GAN_loss/gen/loss: 0.93688\n",
      "\u001b[32m[1026 11:46:37 @monitor.py:467]\u001b[0m QueueInput/queue_size: 50\n",
      "\u001b[32m[1026 11:46:37 @base.py:275]\u001b[0m Start Epoch 887 ...\n"
     ]
    },
    {
     "name": "stderr",
     "output_type": "stream",
     "text": [
      "100%|###################################################################################|175/175[00:05<00:00,31.70it/s]"
     ]
    },
    {
     "name": "stdout",
     "output_type": "stream",
     "text": [
      "\u001b[32m[1026 11:46:43 @base.py:285]\u001b[0m Epoch 887 (global_step 155225) finished, time:5.52 seconds.\n",
      "\u001b[32m[1026 11:46:43 @saver.py:79]\u001b[0m Model saved to ../output/Chicago/DATGAN2_1000/model\\model-155225.\n"
     ]
    },
    {
     "name": "stderr",
     "output_type": "stream",
     "text": [
      "\n"
     ]
    },
    {
     "name": "stdout",
     "output_type": "stream",
     "text": [
      "\u001b[32m[1026 11:46:43 @monitor.py:467]\u001b[0m GAN_loss/discrim/accuracy_fake: 0.976\n",
      "\u001b[32m[1026 11:46:43 @monitor.py:467]\u001b[0m GAN_loss/discrim/accuracy_real: 0.04\n",
      "\u001b[32m[1026 11:46:43 @monitor.py:467]\u001b[0m GAN_loss/discrim/loss: 0.65014\n",
      "\u001b[32m[1026 11:46:43 @monitor.py:467]\u001b[0m GAN_loss/gen/final-g-loss: 1.041\n",
      "\u001b[32m[1026 11:46:43 @monitor.py:467]\u001b[0m GAN_loss/gen/klloss: 0.10048\n",
      "\u001b[32m[1026 11:46:43 @monitor.py:467]\u001b[0m GAN_loss/gen/loss: 0.94056\n",
      "\u001b[32m[1026 11:46:43 @monitor.py:467]\u001b[0m QueueInput/queue_size: 50\n",
      "\u001b[32m[1026 11:46:43 @base.py:275]\u001b[0m Start Epoch 888 ...\n"
     ]
    },
    {
     "name": "stderr",
     "output_type": "stream",
     "text": [
      "100%|###################################################################################|175/175[00:05<00:00,31.74it/s]"
     ]
    },
    {
     "name": "stdout",
     "output_type": "stream",
     "text": [
      "\u001b[32m[1026 11:46:49 @base.py:285]\u001b[0m Epoch 888 (global_step 155400) finished, time:5.51 seconds.\n",
      "\u001b[32m[1026 11:46:49 @saver.py:79]\u001b[0m Model saved to ../output/Chicago/DATGAN2_1000/model\\model-155400.\n"
     ]
    },
    {
     "name": "stderr",
     "output_type": "stream",
     "text": [
      "\n"
     ]
    },
    {
     "name": "stdout",
     "output_type": "stream",
     "text": [
      "\u001b[32m[1026 11:46:49 @monitor.py:467]\u001b[0m GAN_loss/discrim/accuracy_fake: 0.968\n",
      "\u001b[32m[1026 11:46:49 @monitor.py:467]\u001b[0m GAN_loss/discrim/accuracy_real: 0.05\n",
      "\u001b[32m[1026 11:46:49 @monitor.py:467]\u001b[0m GAN_loss/discrim/loss: 0.64785\n",
      "\u001b[32m[1026 11:46:49 @monitor.py:467]\u001b[0m GAN_loss/gen/final-g-loss: 1.0101\n",
      "\u001b[32m[1026 11:46:49 @monitor.py:467]\u001b[0m GAN_loss/gen/klloss: 0.060037\n",
      "\u001b[32m[1026 11:46:49 @monitor.py:467]\u001b[0m GAN_loss/gen/loss: 0.95003\n",
      "\u001b[32m[1026 11:46:49 @monitor.py:467]\u001b[0m QueueInput/queue_size: 50\n",
      "\u001b[32m[1026 11:46:49 @base.py:275]\u001b[0m Start Epoch 889 ...\n"
     ]
    },
    {
     "name": "stderr",
     "output_type": "stream",
     "text": [
      "100%|###################################################################################|175/175[00:05<00:00,32.06it/s]"
     ]
    },
    {
     "name": "stdout",
     "output_type": "stream",
     "text": [
      "\u001b[32m[1026 11:46:54 @base.py:285]\u001b[0m Epoch 889 (global_step 155575) finished, time:5.46 seconds.\n",
      "\u001b[32m[1026 11:46:55 @saver.py:79]\u001b[0m Model saved to ../output/Chicago/DATGAN2_1000/model\\model-155575.\n"
     ]
    },
    {
     "name": "stderr",
     "output_type": "stream",
     "text": [
      "\n"
     ]
    },
    {
     "name": "stdout",
     "output_type": "stream",
     "text": [
      "\u001b[32m[1026 11:46:55 @monitor.py:467]\u001b[0m GAN_loss/discrim/accuracy_fake: 0.972\n",
      "\u001b[32m[1026 11:46:55 @monitor.py:467]\u001b[0m GAN_loss/discrim/accuracy_real: 0.046\n",
      "\u001b[32m[1026 11:46:55 @monitor.py:467]\u001b[0m GAN_loss/discrim/loss: 0.64591\n",
      "\u001b[32m[1026 11:46:55 @monitor.py:467]\u001b[0m GAN_loss/gen/final-g-loss: 1.0085\n",
      "\u001b[32m[1026 11:46:55 @monitor.py:467]\u001b[0m GAN_loss/gen/klloss: 0.058952\n",
      "\u001b[32m[1026 11:46:55 @monitor.py:467]\u001b[0m GAN_loss/gen/loss: 0.9495\n",
      "\u001b[32m[1026 11:46:55 @monitor.py:467]\u001b[0m QueueInput/queue_size: 50\n",
      "\u001b[32m[1026 11:46:55 @base.py:275]\u001b[0m Start Epoch 890 ...\n"
     ]
    },
    {
     "name": "stderr",
     "output_type": "stream",
     "text": [
      "100%|###################################################################################|175/175[00:05<00:00,31.88it/s]"
     ]
    },
    {
     "name": "stdout",
     "output_type": "stream",
     "text": [
      "\u001b[32m[1026 11:47:00 @base.py:285]\u001b[0m Epoch 890 (global_step 155750) finished, time:5.49 seconds.\n",
      "\u001b[32m[1026 11:47:00 @saver.py:79]\u001b[0m Model saved to ../output/Chicago/DATGAN2_1000/model\\model-155750.\n"
     ]
    },
    {
     "name": "stderr",
     "output_type": "stream",
     "text": [
      "\n"
     ]
    },
    {
     "name": "stdout",
     "output_type": "stream",
     "text": [
      "\u001b[32m[1026 11:47:00 @monitor.py:467]\u001b[0m GAN_loss/discrim/accuracy_fake: 0.982\n",
      "\u001b[32m[1026 11:47:00 @monitor.py:467]\u001b[0m GAN_loss/discrim/accuracy_real: 0.05\n",
      "\u001b[32m[1026 11:47:00 @monitor.py:467]\u001b[0m GAN_loss/discrim/loss: 0.6512\n",
      "\u001b[32m[1026 11:47:00 @monitor.py:467]\u001b[0m GAN_loss/gen/final-g-loss: 1.0031\n",
      "\u001b[32m[1026 11:47:00 @monitor.py:467]\u001b[0m GAN_loss/gen/klloss: 0.061279\n",
      "\u001b[32m[1026 11:47:00 @monitor.py:467]\u001b[0m GAN_loss/gen/loss: 0.94186\n",
      "\u001b[32m[1026 11:47:00 @monitor.py:467]\u001b[0m QueueInput/queue_size: 50\n",
      "\u001b[32m[1026 11:47:00 @base.py:275]\u001b[0m Start Epoch 891 ...\n"
     ]
    },
    {
     "name": "stderr",
     "output_type": "stream",
     "text": [
      "100%|###################################################################################|175/175[00:05<00:00,31.73it/s]"
     ]
    },
    {
     "name": "stdout",
     "output_type": "stream",
     "text": [
      "\u001b[32m[1026 11:47:06 @base.py:285]\u001b[0m Epoch 891 (global_step 155925) finished, time:5.52 seconds.\n",
      "\u001b[32m[1026 11:47:06 @saver.py:79]\u001b[0m Model saved to ../output/Chicago/DATGAN2_1000/model\\model-155925.\n"
     ]
    },
    {
     "name": "stderr",
     "output_type": "stream",
     "text": [
      "\n"
     ]
    },
    {
     "name": "stdout",
     "output_type": "stream",
     "text": [
      "\u001b[32m[1026 11:47:06 @monitor.py:467]\u001b[0m GAN_loss/discrim/accuracy_fake: 0.972\n",
      "\u001b[32m[1026 11:47:06 @monitor.py:467]\u001b[0m GAN_loss/discrim/accuracy_real: 0.04\n",
      "\u001b[32m[1026 11:47:06 @monitor.py:467]\u001b[0m GAN_loss/discrim/loss: 0.65227\n",
      "\u001b[32m[1026 11:47:06 @monitor.py:467]\u001b[0m GAN_loss/gen/final-g-loss: 1.044\n",
      "\u001b[32m[1026 11:47:06 @monitor.py:467]\u001b[0m GAN_loss/gen/klloss: 0.10003\n",
      "\u001b[32m[1026 11:47:06 @monitor.py:467]\u001b[0m GAN_loss/gen/loss: 0.94398\n",
      "\u001b[32m[1026 11:47:06 @monitor.py:467]\u001b[0m QueueInput/queue_size: 50\n",
      "\u001b[32m[1026 11:47:06 @base.py:275]\u001b[0m Start Epoch 892 ...\n"
     ]
    },
    {
     "name": "stderr",
     "output_type": "stream",
     "text": [
      "100%|###################################################################################|175/175[00:05<00:00,31.61it/s]"
     ]
    },
    {
     "name": "stdout",
     "output_type": "stream",
     "text": [
      "\u001b[32m[1026 11:47:12 @base.py:285]\u001b[0m Epoch 892 (global_step 156100) finished, time:5.54 seconds.\n",
      "\u001b[32m[1026 11:47:12 @saver.py:79]\u001b[0m Model saved to ../output/Chicago/DATGAN2_1000/model\\model-156100.\n"
     ]
    },
    {
     "name": "stderr",
     "output_type": "stream",
     "text": [
      "\n"
     ]
    },
    {
     "name": "stdout",
     "output_type": "stream",
     "text": [
      "\u001b[32m[1026 11:47:12 @monitor.py:467]\u001b[0m GAN_loss/discrim/accuracy_fake: 0.976\n",
      "\u001b[32m[1026 11:47:12 @monitor.py:467]\u001b[0m GAN_loss/discrim/accuracy_real: 0.05\n",
      "\u001b[32m[1026 11:47:12 @monitor.py:467]\u001b[0m GAN_loss/discrim/loss: 0.64943\n",
      "\u001b[32m[1026 11:47:12 @monitor.py:467]\u001b[0m GAN_loss/gen/final-g-loss: 0.9874\n",
      "\u001b[32m[1026 11:47:12 @monitor.py:467]\u001b[0m GAN_loss/gen/klloss: 0.048362\n",
      "\u001b[32m[1026 11:47:12 @monitor.py:467]\u001b[0m GAN_loss/gen/loss: 0.93904\n",
      "\u001b[32m[1026 11:47:12 @monitor.py:467]\u001b[0m QueueInput/queue_size: 50\n",
      "\u001b[32m[1026 11:47:12 @base.py:275]\u001b[0m Start Epoch 893 ...\n"
     ]
    },
    {
     "name": "stderr",
     "output_type": "stream",
     "text": [
      "100%|###################################################################################|175/175[00:05<00:00,29.92it/s]"
     ]
    },
    {
     "name": "stdout",
     "output_type": "stream",
     "text": [
      "\u001b[32m[1026 11:47:18 @base.py:285]\u001b[0m Epoch 893 (global_step 156275) finished, time:5.85 seconds.\n",
      "\u001b[32m[1026 11:47:18 @saver.py:79]\u001b[0m Model saved to ../output/Chicago/DATGAN2_1000/model\\model-156275.\n"
     ]
    },
    {
     "name": "stderr",
     "output_type": "stream",
     "text": [
      "\n"
     ]
    },
    {
     "name": "stdout",
     "output_type": "stream",
     "text": [
      "\u001b[32m[1026 11:47:18 @monitor.py:467]\u001b[0m GAN_loss/discrim/accuracy_fake: 0.978\n",
      "\u001b[32m[1026 11:47:18 @monitor.py:467]\u001b[0m GAN_loss/discrim/accuracy_real: 0.044\n",
      "\u001b[32m[1026 11:47:18 @monitor.py:467]\u001b[0m GAN_loss/discrim/loss: 0.64867\n",
      "\u001b[32m[1026 11:47:18 @monitor.py:467]\u001b[0m GAN_loss/gen/final-g-loss: 1.0082\n",
      "\u001b[32m[1026 11:47:18 @monitor.py:467]\u001b[0m GAN_loss/gen/klloss: 0.067122\n",
      "\u001b[32m[1026 11:47:18 @monitor.py:467]\u001b[0m GAN_loss/gen/loss: 0.94105\n",
      "\u001b[32m[1026 11:47:18 @monitor.py:467]\u001b[0m QueueInput/queue_size: 50\n",
      "\u001b[32m[1026 11:47:18 @base.py:275]\u001b[0m Start Epoch 894 ...\n"
     ]
    },
    {
     "name": "stderr",
     "output_type": "stream",
     "text": [
      "100%|###################################################################################|175/175[00:05<00:00,31.91it/s]"
     ]
    },
    {
     "name": "stdout",
     "output_type": "stream",
     "text": [
      "\u001b[32m[1026 11:47:24 @base.py:285]\u001b[0m Epoch 894 (global_step 156450) finished, time:5.48 seconds.\n",
      "\u001b[32m[1026 11:47:24 @saver.py:79]\u001b[0m Model saved to ../output/Chicago/DATGAN2_1000/model\\model-156450.\n"
     ]
    },
    {
     "name": "stderr",
     "output_type": "stream",
     "text": [
      "\n"
     ]
    },
    {
     "name": "stdout",
     "output_type": "stream",
     "text": [
      "\u001b[32m[1026 11:47:24 @monitor.py:467]\u001b[0m GAN_loss/discrim/accuracy_fake: 0.98\n",
      "\u001b[32m[1026 11:47:24 @monitor.py:467]\u001b[0m GAN_loss/discrim/accuracy_real: 0.032\n",
      "\u001b[32m[1026 11:47:24 @monitor.py:467]\u001b[0m GAN_loss/discrim/loss: 0.64783\n",
      "\u001b[32m[1026 11:47:24 @monitor.py:467]\u001b[0m GAN_loss/gen/final-g-loss: 0.9944\n",
      "\u001b[32m[1026 11:47:24 @monitor.py:467]\u001b[0m GAN_loss/gen/klloss: 0.051795\n",
      "\u001b[32m[1026 11:47:24 @monitor.py:467]\u001b[0m GAN_loss/gen/loss: 0.94261\n",
      "\u001b[32m[1026 11:47:24 @monitor.py:467]\u001b[0m QueueInput/queue_size: 50\n",
      "\u001b[32m[1026 11:47:24 @base.py:275]\u001b[0m Start Epoch 895 ...\n"
     ]
    },
    {
     "name": "stderr",
     "output_type": "stream",
     "text": [
      "100%|###################################################################################|175/175[00:05<00:00,29.86it/s]"
     ]
    },
    {
     "name": "stdout",
     "output_type": "stream",
     "text": [
      "\u001b[32m[1026 11:47:30 @base.py:285]\u001b[0m Epoch 895 (global_step 156625) finished, time:5.86 seconds.\n",
      "\u001b[32m[1026 11:47:30 @saver.py:79]\u001b[0m Model saved to ../output/Chicago/DATGAN2_1000/model\\model-156625.\n"
     ]
    },
    {
     "name": "stderr",
     "output_type": "stream",
     "text": [
      "\n"
     ]
    },
    {
     "name": "stdout",
     "output_type": "stream",
     "text": [
      "\u001b[32m[1026 11:47:30 @monitor.py:467]\u001b[0m GAN_loss/discrim/accuracy_fake: 0.958\n",
      "\u001b[32m[1026 11:47:30 @monitor.py:467]\u001b[0m GAN_loss/discrim/accuracy_real: 0.048\n",
      "\u001b[32m[1026 11:47:30 @monitor.py:467]\u001b[0m GAN_loss/discrim/loss: 0.65461\n",
      "\u001b[32m[1026 11:47:30 @monitor.py:467]\u001b[0m GAN_loss/gen/final-g-loss: 1.004\n",
      "\u001b[32m[1026 11:47:30 @monitor.py:467]\u001b[0m GAN_loss/gen/klloss: 0.066976\n",
      "\u001b[32m[1026 11:47:30 @monitor.py:467]\u001b[0m GAN_loss/gen/loss: 0.93703\n",
      "\u001b[32m[1026 11:47:30 @monitor.py:467]\u001b[0m QueueInput/queue_size: 50\n",
      "\u001b[32m[1026 11:47:30 @base.py:275]\u001b[0m Start Epoch 896 ...\n"
     ]
    },
    {
     "name": "stderr",
     "output_type": "stream",
     "text": [
      "100%|###################################################################################|175/175[00:05<00:00,31.41it/s]"
     ]
    },
    {
     "name": "stdout",
     "output_type": "stream",
     "text": [
      "\u001b[32m[1026 11:47:35 @base.py:285]\u001b[0m Epoch 896 (global_step 156800) finished, time:5.57 seconds.\n",
      "\u001b[32m[1026 11:47:36 @saver.py:79]\u001b[0m Model saved to ../output/Chicago/DATGAN2_1000/model\\model-156800.\n"
     ]
    },
    {
     "name": "stderr",
     "output_type": "stream",
     "text": [
      "\n"
     ]
    },
    {
     "name": "stdout",
     "output_type": "stream",
     "text": [
      "\u001b[32m[1026 11:47:36 @monitor.py:467]\u001b[0m GAN_loss/discrim/accuracy_fake: 0.962\n",
      "\u001b[32m[1026 11:47:36 @monitor.py:467]\u001b[0m GAN_loss/discrim/accuracy_real: 0.042\n",
      "\u001b[32m[1026 11:47:36 @monitor.py:467]\u001b[0m GAN_loss/discrim/loss: 0.64911\n",
      "\u001b[32m[1026 11:47:36 @monitor.py:467]\u001b[0m GAN_loss/gen/final-g-loss: 0.98748\n",
      "\u001b[32m[1026 11:47:36 @monitor.py:467]\u001b[0m GAN_loss/gen/klloss: 0.043427\n",
      "\u001b[32m[1026 11:47:36 @monitor.py:467]\u001b[0m GAN_loss/gen/loss: 0.94405\n",
      "\u001b[32m[1026 11:47:36 @monitor.py:467]\u001b[0m QueueInput/queue_size: 50\n",
      "\u001b[32m[1026 11:47:36 @base.py:275]\u001b[0m Start Epoch 897 ...\n"
     ]
    },
    {
     "name": "stderr",
     "output_type": "stream",
     "text": [
      "100%|###################################################################################|175/175[00:05<00:00,30.91it/s]"
     ]
    },
    {
     "name": "stdout",
     "output_type": "stream",
     "text": [
      "\u001b[32m[1026 11:47:41 @base.py:285]\u001b[0m Epoch 897 (global_step 156975) finished, time:5.66 seconds.\n",
      "\u001b[32m[1026 11:47:41 @saver.py:79]\u001b[0m Model saved to ../output/Chicago/DATGAN2_1000/model\\model-156975.\n"
     ]
    },
    {
     "name": "stderr",
     "output_type": "stream",
     "text": [
      "\n"
     ]
    },
    {
     "name": "stdout",
     "output_type": "stream",
     "text": [
      "\u001b[32m[1026 11:47:42 @monitor.py:467]\u001b[0m GAN_loss/discrim/accuracy_fake: 0.954\n",
      "\u001b[32m[1026 11:47:42 @monitor.py:467]\u001b[0m GAN_loss/discrim/accuracy_real: 0.054\n",
      "\u001b[32m[1026 11:47:42 @monitor.py:467]\u001b[0m GAN_loss/discrim/loss: 0.65022\n",
      "\u001b[32m[1026 11:47:42 @monitor.py:467]\u001b[0m GAN_loss/gen/final-g-loss: 0.99798\n",
      "\u001b[32m[1026 11:47:42 @monitor.py:467]\u001b[0m GAN_loss/gen/klloss: 0.057243\n",
      "\u001b[32m[1026 11:47:42 @monitor.py:467]\u001b[0m GAN_loss/gen/loss: 0.94074\n",
      "\u001b[32m[1026 11:47:42 @monitor.py:467]\u001b[0m QueueInput/queue_size: 50\n",
      "\u001b[32m[1026 11:47:42 @base.py:275]\u001b[0m Start Epoch 898 ...\n"
     ]
    },
    {
     "name": "stderr",
     "output_type": "stream",
     "text": [
      "100%|###################################################################################|175/175[00:05<00:00,31.07it/s]"
     ]
    },
    {
     "name": "stdout",
     "output_type": "stream",
     "text": [
      "\u001b[32m[1026 11:47:47 @base.py:285]\u001b[0m Epoch 898 (global_step 157150) finished, time:5.63 seconds.\n",
      "\u001b[32m[1026 11:47:47 @saver.py:79]\u001b[0m Model saved to ../output/Chicago/DATGAN2_1000/model\\model-157150.\n"
     ]
    },
    {
     "name": "stderr",
     "output_type": "stream",
     "text": [
      "\n"
     ]
    },
    {
     "name": "stdout",
     "output_type": "stream",
     "text": [
      "\u001b[32m[1026 11:47:48 @monitor.py:467]\u001b[0m GAN_loss/discrim/accuracy_fake: 0.966\n",
      "\u001b[32m[1026 11:47:48 @monitor.py:467]\u001b[0m GAN_loss/discrim/accuracy_real: 0.038\n",
      "\u001b[32m[1026 11:47:48 @monitor.py:467]\u001b[0m GAN_loss/discrim/loss: 0.65308\n",
      "\u001b[32m[1026 11:47:48 @monitor.py:467]\u001b[0m GAN_loss/gen/final-g-loss: 0.99341\n",
      "\u001b[32m[1026 11:47:48 @monitor.py:467]\u001b[0m GAN_loss/gen/klloss: 0.054001\n",
      "\u001b[32m[1026 11:47:48 @monitor.py:467]\u001b[0m GAN_loss/gen/loss: 0.93941\n",
      "\u001b[32m[1026 11:47:48 @monitor.py:467]\u001b[0m QueueInput/queue_size: 50\n",
      "\u001b[32m[1026 11:47:48 @base.py:275]\u001b[0m Start Epoch 899 ...\n"
     ]
    },
    {
     "name": "stderr",
     "output_type": "stream",
     "text": [
      "100%|###################################################################################|175/175[00:05<00:00,31.91it/s]"
     ]
    },
    {
     "name": "stdout",
     "output_type": "stream",
     "text": [
      "\u001b[32m[1026 11:47:53 @base.py:285]\u001b[0m Epoch 899 (global_step 157325) finished, time:5.48 seconds.\n",
      "\u001b[32m[1026 11:47:53 @saver.py:79]\u001b[0m Model saved to ../output/Chicago/DATGAN2_1000/model\\model-157325.\n"
     ]
    },
    {
     "name": "stderr",
     "output_type": "stream",
     "text": [
      "\n"
     ]
    },
    {
     "name": "stdout",
     "output_type": "stream",
     "text": [
      "\u001b[32m[1026 11:47:53 @monitor.py:467]\u001b[0m GAN_loss/discrim/accuracy_fake: 0.966\n",
      "\u001b[32m[1026 11:47:53 @monitor.py:467]\u001b[0m GAN_loss/discrim/accuracy_real: 0.042\n",
      "\u001b[32m[1026 11:47:53 @monitor.py:467]\u001b[0m GAN_loss/discrim/loss: 0.64835\n",
      "\u001b[32m[1026 11:47:53 @monitor.py:467]\u001b[0m GAN_loss/gen/final-g-loss: 0.98358\n",
      "\u001b[32m[1026 11:47:53 @monitor.py:467]\u001b[0m GAN_loss/gen/klloss: 0.042841\n",
      "\u001b[32m[1026 11:47:53 @monitor.py:467]\u001b[0m GAN_loss/gen/loss: 0.94074\n",
      "\u001b[32m[1026 11:47:53 @monitor.py:467]\u001b[0m QueueInput/queue_size: 50\n",
      "\u001b[32m[1026 11:47:53 @base.py:275]\u001b[0m Start Epoch 900 ...\n"
     ]
    },
    {
     "name": "stderr",
     "output_type": "stream",
     "text": [
      "100%|###################################################################################|175/175[00:05<00:00,31.83it/s]"
     ]
    },
    {
     "name": "stdout",
     "output_type": "stream",
     "text": [
      "\u001b[32m[1026 11:47:59 @base.py:285]\u001b[0m Epoch 900 (global_step 157500) finished, time:5.5 seconds.\n",
      "\u001b[32m[1026 11:47:59 @saver.py:79]\u001b[0m Model saved to ../output/Chicago/DATGAN2_1000/model\\model-157500.\n"
     ]
    },
    {
     "name": "stderr",
     "output_type": "stream",
     "text": [
      "\n"
     ]
    },
    {
     "name": "stdout",
     "output_type": "stream",
     "text": [
      "\u001b[32m[1026 11:47:59 @monitor.py:467]\u001b[0m GAN_loss/discrim/accuracy_fake: 0.982\n",
      "\u001b[32m[1026 11:47:59 @monitor.py:467]\u001b[0m GAN_loss/discrim/accuracy_real: 0.028\n",
      "\u001b[32m[1026 11:47:59 @monitor.py:467]\u001b[0m GAN_loss/discrim/loss: 0.65057\n",
      "\u001b[32m[1026 11:47:59 @monitor.py:467]\u001b[0m GAN_loss/gen/final-g-loss: 1.0221\n",
      "\u001b[32m[1026 11:47:59 @monitor.py:467]\u001b[0m GAN_loss/gen/klloss: 0.072193\n",
      "\u001b[32m[1026 11:47:59 @monitor.py:467]\u001b[0m GAN_loss/gen/loss: 0.94987\n",
      "\u001b[32m[1026 11:47:59 @monitor.py:467]\u001b[0m QueueInput/queue_size: 50\n",
      "\u001b[32m[1026 11:47:59 @base.py:275]\u001b[0m Start Epoch 901 ...\n"
     ]
    },
    {
     "name": "stderr",
     "output_type": "stream",
     "text": [
      "100%|###################################################################################|175/175[00:05<00:00,32.00it/s]"
     ]
    },
    {
     "name": "stdout",
     "output_type": "stream",
     "text": [
      "\u001b[32m[1026 11:48:05 @base.py:285]\u001b[0m Epoch 901 (global_step 157675) finished, time:5.47 seconds.\n",
      "\u001b[32m[1026 11:48:05 @saver.py:79]\u001b[0m Model saved to ../output/Chicago/DATGAN2_1000/model\\model-157675.\n"
     ]
    },
    {
     "name": "stderr",
     "output_type": "stream",
     "text": [
      "\n"
     ]
    },
    {
     "name": "stdout",
     "output_type": "stream",
     "text": [
      "\u001b[32m[1026 11:48:05 @monitor.py:467]\u001b[0m GAN_loss/discrim/accuracy_fake: 0.972\n",
      "\u001b[32m[1026 11:48:05 @monitor.py:467]\u001b[0m GAN_loss/discrim/accuracy_real: 0.058\n",
      "\u001b[32m[1026 11:48:05 @monitor.py:467]\u001b[0m GAN_loss/discrim/loss: 0.64929\n",
      "\u001b[32m[1026 11:48:05 @monitor.py:467]\u001b[0m GAN_loss/gen/final-g-loss: 1.0025\n",
      "\u001b[32m[1026 11:48:05 @monitor.py:467]\u001b[0m GAN_loss/gen/klloss: 0.055588\n",
      "\u001b[32m[1026 11:48:05 @monitor.py:467]\u001b[0m GAN_loss/gen/loss: 0.94695\n",
      "\u001b[32m[1026 11:48:05 @monitor.py:467]\u001b[0m QueueInput/queue_size: 50\n",
      "\u001b[32m[1026 11:48:05 @base.py:275]\u001b[0m Start Epoch 902 ...\n"
     ]
    },
    {
     "name": "stderr",
     "output_type": "stream",
     "text": [
      "100%|###################################################################################|175/175[00:05<00:00,32.05it/s]"
     ]
    },
    {
     "name": "stdout",
     "output_type": "stream",
     "text": [
      "\u001b[32m[1026 11:48:10 @base.py:285]\u001b[0m Epoch 902 (global_step 157850) finished, time:5.46 seconds.\n",
      "\u001b[32m[1026 11:48:10 @saver.py:79]\u001b[0m Model saved to ../output/Chicago/DATGAN2_1000/model\\model-157850.\n"
     ]
    },
    {
     "name": "stderr",
     "output_type": "stream",
     "text": [
      "\n"
     ]
    },
    {
     "name": "stdout",
     "output_type": "stream",
     "text": [
      "\u001b[32m[1026 11:48:10 @monitor.py:467]\u001b[0m GAN_loss/discrim/accuracy_fake: 0.972\n",
      "\u001b[32m[1026 11:48:10 @monitor.py:467]\u001b[0m GAN_loss/discrim/accuracy_real: 0.048\n",
      "\u001b[32m[1026 11:48:10 @monitor.py:467]\u001b[0m GAN_loss/discrim/loss: 0.65103\n",
      "\u001b[32m[1026 11:48:10 @monitor.py:467]\u001b[0m GAN_loss/gen/final-g-loss: 0.987\n",
      "\u001b[32m[1026 11:48:10 @monitor.py:467]\u001b[0m GAN_loss/gen/klloss: 0.037823\n",
      "\u001b[32m[1026 11:48:10 @monitor.py:467]\u001b[0m GAN_loss/gen/loss: 0.94918\n",
      "\u001b[32m[1026 11:48:10 @monitor.py:467]\u001b[0m QueueInput/queue_size: 50\n",
      "\u001b[32m[1026 11:48:10 @base.py:275]\u001b[0m Start Epoch 903 ...\n"
     ]
    },
    {
     "name": "stderr",
     "output_type": "stream",
     "text": [
      "100%|###################################################################################|175/175[00:05<00:00,31.98it/s]"
     ]
    },
    {
     "name": "stdout",
     "output_type": "stream",
     "text": [
      "\u001b[32m[1026 11:48:16 @base.py:285]\u001b[0m Epoch 903 (global_step 158025) finished, time:5.47 seconds.\n",
      "\u001b[32m[1026 11:48:16 @saver.py:79]\u001b[0m Model saved to ../output/Chicago/DATGAN2_1000/model\\model-158025.\n"
     ]
    },
    {
     "name": "stderr",
     "output_type": "stream",
     "text": [
      "\n"
     ]
    },
    {
     "name": "stdout",
     "output_type": "stream",
     "text": [
      "\u001b[32m[1026 11:48:16 @monitor.py:467]\u001b[0m GAN_loss/discrim/accuracy_fake: 0.966\n",
      "\u001b[32m[1026 11:48:16 @monitor.py:467]\u001b[0m GAN_loss/discrim/accuracy_real: 0.026\n",
      "\u001b[32m[1026 11:48:16 @monitor.py:467]\u001b[0m GAN_loss/discrim/loss: 0.65319\n",
      "\u001b[32m[1026 11:48:16 @monitor.py:467]\u001b[0m GAN_loss/gen/final-g-loss: 1.0177\n",
      "\u001b[32m[1026 11:48:16 @monitor.py:467]\u001b[0m GAN_loss/gen/klloss: 0.066603\n",
      "\u001b[32m[1026 11:48:16 @monitor.py:467]\u001b[0m GAN_loss/gen/loss: 0.95108\n",
      "\u001b[32m[1026 11:48:16 @monitor.py:467]\u001b[0m QueueInput/queue_size: 50\n",
      "\u001b[32m[1026 11:48:16 @base.py:275]\u001b[0m Start Epoch 904 ...\n"
     ]
    },
    {
     "name": "stderr",
     "output_type": "stream",
     "text": [
      "100%|###################################################################################|175/175[00:05<00:00,32.04it/s]"
     ]
    },
    {
     "name": "stdout",
     "output_type": "stream",
     "text": [
      "\u001b[32m[1026 11:48:22 @base.py:285]\u001b[0m Epoch 904 (global_step 158200) finished, time:5.46 seconds.\n",
      "\u001b[32m[1026 11:48:22 @saver.py:79]\u001b[0m Model saved to ../output/Chicago/DATGAN2_1000/model\\model-158200.\n"
     ]
    },
    {
     "name": "stderr",
     "output_type": "stream",
     "text": [
      "\n"
     ]
    },
    {
     "name": "stdout",
     "output_type": "stream",
     "text": [
      "\u001b[32m[1026 11:48:22 @monitor.py:467]\u001b[0m GAN_loss/discrim/accuracy_fake: 0.964\n",
      "\u001b[32m[1026 11:48:22 @monitor.py:467]\u001b[0m GAN_loss/discrim/accuracy_real: 0.044\n",
      "\u001b[32m[1026 11:48:22 @monitor.py:467]\u001b[0m GAN_loss/discrim/loss: 0.65095\n",
      "\u001b[32m[1026 11:48:22 @monitor.py:467]\u001b[0m GAN_loss/gen/final-g-loss: 0.98528\n",
      "\u001b[32m[1026 11:48:22 @monitor.py:467]\u001b[0m GAN_loss/gen/klloss: 0.044119\n",
      "\u001b[32m[1026 11:48:22 @monitor.py:467]\u001b[0m GAN_loss/gen/loss: 0.94116\n",
      "\u001b[32m[1026 11:48:22 @monitor.py:467]\u001b[0m QueueInput/queue_size: 50\n",
      "\u001b[32m[1026 11:48:22 @base.py:275]\u001b[0m Start Epoch 905 ...\n"
     ]
    },
    {
     "name": "stderr",
     "output_type": "stream",
     "text": [
      "100%|###################################################################################|175/175[00:05<00:00,32.01it/s]"
     ]
    },
    {
     "name": "stdout",
     "output_type": "stream",
     "text": [
      "\u001b[32m[1026 11:48:27 @base.py:285]\u001b[0m Epoch 905 (global_step 158375) finished, time:5.47 seconds.\n",
      "\u001b[32m[1026 11:48:27 @saver.py:79]\u001b[0m Model saved to ../output/Chicago/DATGAN2_1000/model\\model-158375.\n"
     ]
    },
    {
     "name": "stderr",
     "output_type": "stream",
     "text": [
      "\n"
     ]
    },
    {
     "name": "stdout",
     "output_type": "stream",
     "text": [
      "\u001b[32m[1026 11:48:28 @monitor.py:467]\u001b[0m GAN_loss/discrim/accuracy_fake: 0.99\n",
      "\u001b[32m[1026 11:48:28 @monitor.py:467]\u001b[0m GAN_loss/discrim/accuracy_real: 0.04\n",
      "\u001b[32m[1026 11:48:28 @monitor.py:467]\u001b[0m GAN_loss/discrim/loss: 0.64621\n",
      "\u001b[32m[1026 11:48:28 @monitor.py:467]\u001b[0m GAN_loss/gen/final-g-loss: 1.0085\n",
      "\u001b[32m[1026 11:48:28 @monitor.py:467]\u001b[0m GAN_loss/gen/klloss: 0.059961\n",
      "\u001b[32m[1026 11:48:28 @monitor.py:467]\u001b[0m GAN_loss/gen/loss: 0.94849\n",
      "\u001b[32m[1026 11:48:28 @monitor.py:467]\u001b[0m QueueInput/queue_size: 50\n",
      "\u001b[32m[1026 11:48:28 @base.py:275]\u001b[0m Start Epoch 906 ...\n"
     ]
    },
    {
     "name": "stderr",
     "output_type": "stream",
     "text": [
      "100%|###################################################################################|175/175[00:05<00:00,32.07it/s]"
     ]
    },
    {
     "name": "stdout",
     "output_type": "stream",
     "text": [
      "\u001b[32m[1026 11:48:33 @base.py:285]\u001b[0m Epoch 906 (global_step 158550) finished, time:5.46 seconds.\n",
      "\u001b[32m[1026 11:48:33 @saver.py:79]\u001b[0m Model saved to ../output/Chicago/DATGAN2_1000/model\\model-158550.\n"
     ]
    },
    {
     "name": "stderr",
     "output_type": "stream",
     "text": [
      "\n"
     ]
    },
    {
     "name": "stdout",
     "output_type": "stream",
     "text": [
      "\u001b[32m[1026 11:48:33 @monitor.py:467]\u001b[0m GAN_loss/discrim/accuracy_fake: 0.966\n",
      "\u001b[32m[1026 11:48:33 @monitor.py:467]\u001b[0m GAN_loss/discrim/accuracy_real: 0.038\n",
      "\u001b[32m[1026 11:48:33 @monitor.py:467]\u001b[0m GAN_loss/discrim/loss: 0.64376\n",
      "\u001b[32m[1026 11:48:33 @monitor.py:467]\u001b[0m GAN_loss/gen/final-g-loss: 1.0028\n",
      "\u001b[32m[1026 11:48:33 @monitor.py:467]\u001b[0m GAN_loss/gen/klloss: 0.063222\n",
      "\u001b[32m[1026 11:48:33 @monitor.py:467]\u001b[0m GAN_loss/gen/loss: 0.93959\n",
      "\u001b[32m[1026 11:48:33 @monitor.py:467]\u001b[0m QueueInput/queue_size: 50\n",
      "\u001b[32m[1026 11:48:33 @base.py:275]\u001b[0m Start Epoch 907 ...\n"
     ]
    },
    {
     "name": "stderr",
     "output_type": "stream",
     "text": [
      "100%|###################################################################################|175/175[00:05<00:00,31.99it/s]"
     ]
    },
    {
     "name": "stdout",
     "output_type": "stream",
     "text": [
      "\u001b[32m[1026 11:48:39 @base.py:285]\u001b[0m Epoch 907 (global_step 158725) finished, time:5.47 seconds.\n",
      "\u001b[32m[1026 11:48:39 @saver.py:79]\u001b[0m Model saved to ../output/Chicago/DATGAN2_1000/model\\model-158725.\n"
     ]
    },
    {
     "name": "stderr",
     "output_type": "stream",
     "text": [
      "\n"
     ]
    },
    {
     "name": "stdout",
     "output_type": "stream",
     "text": [
      "\u001b[32m[1026 11:48:39 @monitor.py:467]\u001b[0m GAN_loss/discrim/accuracy_fake: 0.96\n",
      "\u001b[32m[1026 11:48:39 @monitor.py:467]\u001b[0m GAN_loss/discrim/accuracy_real: 0.042\n",
      "\u001b[32m[1026 11:48:39 @monitor.py:467]\u001b[0m GAN_loss/discrim/loss: 0.64933\n",
      "\u001b[32m[1026 11:48:39 @monitor.py:467]\u001b[0m GAN_loss/gen/final-g-loss: 1.0202\n",
      "\u001b[32m[1026 11:48:39 @monitor.py:467]\u001b[0m GAN_loss/gen/klloss: 0.075731\n",
      "\u001b[32m[1026 11:48:39 @monitor.py:467]\u001b[0m GAN_loss/gen/loss: 0.94448\n",
      "\u001b[32m[1026 11:48:39 @monitor.py:467]\u001b[0m QueueInput/queue_size: 50\n",
      "\u001b[32m[1026 11:48:39 @base.py:275]\u001b[0m Start Epoch 908 ...\n"
     ]
    },
    {
     "name": "stderr",
     "output_type": "stream",
     "text": [
      "100%|###################################################################################|175/175[00:05<00:00,32.05it/s]"
     ]
    },
    {
     "name": "stdout",
     "output_type": "stream",
     "text": [
      "\u001b[32m[1026 11:48:45 @base.py:285]\u001b[0m Epoch 908 (global_step 158900) finished, time:5.46 seconds.\n",
      "\u001b[32m[1026 11:48:45 @saver.py:79]\u001b[0m Model saved to ../output/Chicago/DATGAN2_1000/model\\model-158900.\n"
     ]
    },
    {
     "name": "stderr",
     "output_type": "stream",
     "text": [
      "\n"
     ]
    },
    {
     "name": "stdout",
     "output_type": "stream",
     "text": [
      "\u001b[32m[1026 11:48:45 @monitor.py:467]\u001b[0m GAN_loss/discrim/accuracy_fake: 0.982\n",
      "\u001b[32m[1026 11:48:45 @monitor.py:467]\u001b[0m GAN_loss/discrim/accuracy_real: 0.034\n",
      "\u001b[32m[1026 11:48:45 @monitor.py:467]\u001b[0m GAN_loss/discrim/loss: 0.65118\n",
      "\u001b[32m[1026 11:48:45 @monitor.py:467]\u001b[0m GAN_loss/gen/final-g-loss: 0.98831\n",
      "\u001b[32m[1026 11:48:45 @monitor.py:467]\u001b[0m GAN_loss/gen/klloss: 0.049139\n",
      "\u001b[32m[1026 11:48:45 @monitor.py:467]\u001b[0m GAN_loss/gen/loss: 0.93917\n",
      "\u001b[32m[1026 11:48:45 @monitor.py:467]\u001b[0m QueueInput/queue_size: 50\n",
      "\u001b[32m[1026 11:48:45 @base.py:275]\u001b[0m Start Epoch 909 ...\n"
     ]
    },
    {
     "name": "stderr",
     "output_type": "stream",
     "text": [
      "100%|###################################################################################|175/175[00:05<00:00,31.93it/s]"
     ]
    },
    {
     "name": "stdout",
     "output_type": "stream",
     "text": [
      "\u001b[32m[1026 11:48:50 @base.py:285]\u001b[0m Epoch 909 (global_step 159075) finished, time:5.48 seconds.\n",
      "\u001b[32m[1026 11:48:50 @saver.py:79]\u001b[0m Model saved to ../output/Chicago/DATGAN2_1000/model\\model-159075.\n"
     ]
    },
    {
     "name": "stderr",
     "output_type": "stream",
     "text": [
      "\n"
     ]
    },
    {
     "name": "stdout",
     "output_type": "stream",
     "text": [
      "\u001b[32m[1026 11:48:51 @monitor.py:467]\u001b[0m GAN_loss/discrim/accuracy_fake: 0.97\n",
      "\u001b[32m[1026 11:48:51 @monitor.py:467]\u001b[0m GAN_loss/discrim/accuracy_real: 0.028\n",
      "\u001b[32m[1026 11:48:51 @monitor.py:467]\u001b[0m GAN_loss/discrim/loss: 0.64764\n",
      "\u001b[32m[1026 11:48:51 @monitor.py:467]\u001b[0m GAN_loss/gen/final-g-loss: 0.9923\n",
      "\u001b[32m[1026 11:48:51 @monitor.py:467]\u001b[0m GAN_loss/gen/klloss: 0.045331\n",
      "\u001b[32m[1026 11:48:51 @monitor.py:467]\u001b[0m GAN_loss/gen/loss: 0.94697\n",
      "\u001b[32m[1026 11:48:51 @monitor.py:467]\u001b[0m QueueInput/queue_size: 50\n",
      "\u001b[32m[1026 11:48:51 @base.py:275]\u001b[0m Start Epoch 910 ...\n"
     ]
    },
    {
     "name": "stderr",
     "output_type": "stream",
     "text": [
      "100%|###################################################################################|175/175[00:05<00:00,31.88it/s]"
     ]
    },
    {
     "name": "stdout",
     "output_type": "stream",
     "text": [
      "\u001b[32m[1026 11:48:56 @base.py:285]\u001b[0m Epoch 910 (global_step 159250) finished, time:5.49 seconds.\n",
      "\u001b[32m[1026 11:48:56 @saver.py:79]\u001b[0m Model saved to ../output/Chicago/DATGAN2_1000/model\\model-159250.\n"
     ]
    },
    {
     "name": "stderr",
     "output_type": "stream",
     "text": [
      "\n"
     ]
    },
    {
     "name": "stdout",
     "output_type": "stream",
     "text": [
      "\u001b[32m[1026 11:48:56 @monitor.py:467]\u001b[0m GAN_loss/discrim/accuracy_fake: 0.958\n",
      "\u001b[32m[1026 11:48:56 @monitor.py:467]\u001b[0m GAN_loss/discrim/accuracy_real: 0.058\n",
      "\u001b[32m[1026 11:48:56 @monitor.py:467]\u001b[0m GAN_loss/discrim/loss: 0.64698\n",
      "\u001b[32m[1026 11:48:56 @monitor.py:467]\u001b[0m GAN_loss/gen/final-g-loss: 1.0263\n",
      "\u001b[32m[1026 11:48:56 @monitor.py:467]\u001b[0m GAN_loss/gen/klloss: 0.076559\n",
      "\u001b[32m[1026 11:48:56 @monitor.py:467]\u001b[0m GAN_loss/gen/loss: 0.94973\n",
      "\u001b[32m[1026 11:48:56 @monitor.py:467]\u001b[0m QueueInput/queue_size: 50\n",
      "\u001b[32m[1026 11:48:56 @base.py:275]\u001b[0m Start Epoch 911 ...\n"
     ]
    },
    {
     "name": "stderr",
     "output_type": "stream",
     "text": [
      "100%|###################################################################################|175/175[00:05<00:00,32.09it/s]"
     ]
    },
    {
     "name": "stdout",
     "output_type": "stream",
     "text": [
      "\u001b[32m[1026 11:49:02 @base.py:285]\u001b[0m Epoch 911 (global_step 159425) finished, time:5.45 seconds.\n",
      "\u001b[32m[1026 11:49:02 @saver.py:79]\u001b[0m Model saved to ../output/Chicago/DATGAN2_1000/model\\model-159425.\n"
     ]
    },
    {
     "name": "stderr",
     "output_type": "stream",
     "text": [
      "\n"
     ]
    },
    {
     "name": "stdout",
     "output_type": "stream",
     "text": [
      "\u001b[32m[1026 11:49:02 @monitor.py:467]\u001b[0m GAN_loss/discrim/accuracy_fake: 0.988\n",
      "\u001b[32m[1026 11:49:02 @monitor.py:467]\u001b[0m GAN_loss/discrim/accuracy_real: 0.036\n",
      "\u001b[32m[1026 11:49:02 @monitor.py:467]\u001b[0m GAN_loss/discrim/loss: 0.64132\n",
      "\u001b[32m[1026 11:49:02 @monitor.py:467]\u001b[0m GAN_loss/gen/final-g-loss: 1.0067\n",
      "\u001b[32m[1026 11:49:02 @monitor.py:467]\u001b[0m GAN_loss/gen/klloss: 0.055417\n",
      "\u001b[32m[1026 11:49:02 @monitor.py:467]\u001b[0m GAN_loss/gen/loss: 0.95124\n",
      "\u001b[32m[1026 11:49:02 @monitor.py:467]\u001b[0m QueueInput/queue_size: 50\n",
      "\u001b[32m[1026 11:49:02 @base.py:275]\u001b[0m Start Epoch 912 ...\n"
     ]
    },
    {
     "name": "stderr",
     "output_type": "stream",
     "text": [
      "100%|###################################################################################|175/175[00:05<00:00,32.27it/s]"
     ]
    },
    {
     "name": "stdout",
     "output_type": "stream",
     "text": [
      "\u001b[32m[1026 11:49:07 @base.py:285]\u001b[0m Epoch 912 (global_step 159600) finished, time:5.42 seconds.\n"
     ]
    },
    {
     "name": "stderr",
     "output_type": "stream",
     "text": [
      "\n"
     ]
    },
    {
     "name": "stdout",
     "output_type": "stream",
     "text": [
      "\u001b[32m[1026 11:49:08 @saver.py:79]\u001b[0m Model saved to ../output/Chicago/DATGAN2_1000/model\\model-159600.\n",
      "\u001b[32m[1026 11:49:08 @monitor.py:467]\u001b[0m GAN_loss/discrim/accuracy_fake: 0.986\n",
      "\u001b[32m[1026 11:49:08 @monitor.py:467]\u001b[0m GAN_loss/discrim/accuracy_real: 0.048\n",
      "\u001b[32m[1026 11:49:08 @monitor.py:467]\u001b[0m GAN_loss/discrim/loss: 0.64461\n",
      "\u001b[32m[1026 11:49:08 @monitor.py:467]\u001b[0m GAN_loss/gen/final-g-loss: 1.0098\n",
      "\u001b[32m[1026 11:49:08 @monitor.py:467]\u001b[0m GAN_loss/gen/klloss: 0.071133\n",
      "\u001b[32m[1026 11:49:08 @monitor.py:467]\u001b[0m GAN_loss/gen/loss: 0.9387\n",
      "\u001b[32m[1026 11:49:08 @monitor.py:467]\u001b[0m QueueInput/queue_size: 50\n",
      "\u001b[32m[1026 11:49:08 @base.py:275]\u001b[0m Start Epoch 913 ...\n"
     ]
    },
    {
     "name": "stderr",
     "output_type": "stream",
     "text": [
      "100%|###################################################################################|175/175[00:05<00:00,31.40it/s]"
     ]
    },
    {
     "name": "stdout",
     "output_type": "stream",
     "text": [
      "\u001b[32m[1026 11:49:13 @base.py:285]\u001b[0m Epoch 913 (global_step 159775) finished, time:5.57 seconds.\n",
      "\u001b[32m[1026 11:49:13 @saver.py:79]\u001b[0m Model saved to ../output/Chicago/DATGAN2_1000/model\\model-159775.\n"
     ]
    },
    {
     "name": "stderr",
     "output_type": "stream",
     "text": [
      "\n"
     ]
    },
    {
     "name": "stdout",
     "output_type": "stream",
     "text": [
      "\u001b[32m[1026 11:49:14 @monitor.py:467]\u001b[0m GAN_loss/discrim/accuracy_fake: 0.98\n",
      "\u001b[32m[1026 11:49:14 @monitor.py:467]\u001b[0m GAN_loss/discrim/accuracy_real: 0.046\n",
      "\u001b[32m[1026 11:49:14 @monitor.py:467]\u001b[0m GAN_loss/discrim/loss: 0.64709\n",
      "\u001b[32m[1026 11:49:14 @monitor.py:467]\u001b[0m GAN_loss/gen/final-g-loss: 1.0091\n",
      "\u001b[32m[1026 11:49:14 @monitor.py:467]\u001b[0m GAN_loss/gen/klloss: 0.064056\n",
      "\u001b[32m[1026 11:49:14 @monitor.py:467]\u001b[0m GAN_loss/gen/loss: 0.945\n",
      "\u001b[32m[1026 11:49:14 @monitor.py:467]\u001b[0m QueueInput/queue_size: 50\n",
      "\u001b[32m[1026 11:49:14 @base.py:275]\u001b[0m Start Epoch 914 ...\n"
     ]
    },
    {
     "name": "stderr",
     "output_type": "stream",
     "text": [
      "100%|###################################################################################|175/175[00:05<00:00,32.15it/s]"
     ]
    },
    {
     "name": "stdout",
     "output_type": "stream",
     "text": [
      "\u001b[32m[1026 11:49:19 @base.py:285]\u001b[0m Epoch 914 (global_step 159950) finished, time:5.44 seconds.\n"
     ]
    },
    {
     "name": "stderr",
     "output_type": "stream",
     "text": [
      "\n"
     ]
    },
    {
     "name": "stdout",
     "output_type": "stream",
     "text": [
      "\u001b[32m[1026 11:49:19 @saver.py:79]\u001b[0m Model saved to ../output/Chicago/DATGAN2_1000/model\\model-159950.\n",
      "\u001b[32m[1026 11:49:19 @monitor.py:467]\u001b[0m GAN_loss/discrim/accuracy_fake: 0.974\n",
      "\u001b[32m[1026 11:49:19 @monitor.py:467]\u001b[0m GAN_loss/discrim/accuracy_real: 0.04\n",
      "\u001b[32m[1026 11:49:19 @monitor.py:467]\u001b[0m GAN_loss/discrim/loss: 0.64984\n",
      "\u001b[32m[1026 11:49:19 @monitor.py:467]\u001b[0m GAN_loss/gen/final-g-loss: 1.0053\n",
      "\u001b[32m[1026 11:49:19 @monitor.py:467]\u001b[0m GAN_loss/gen/klloss: 0.059377\n",
      "\u001b[32m[1026 11:49:19 @monitor.py:467]\u001b[0m GAN_loss/gen/loss: 0.94588\n",
      "\u001b[32m[1026 11:49:19 @monitor.py:467]\u001b[0m QueueInput/queue_size: 50\n",
      "\u001b[32m[1026 11:49:19 @base.py:275]\u001b[0m Start Epoch 915 ...\n"
     ]
    },
    {
     "name": "stderr",
     "output_type": "stream",
     "text": [
      "100%|###################################################################################|175/175[00:05<00:00,32.07it/s]"
     ]
    },
    {
     "name": "stdout",
     "output_type": "stream",
     "text": [
      "\u001b[32m[1026 11:49:25 @base.py:285]\u001b[0m Epoch 915 (global_step 160125) finished, time:5.46 seconds.\n"
     ]
    },
    {
     "name": "stderr",
     "output_type": "stream",
     "text": [
      "\n"
     ]
    },
    {
     "name": "stdout",
     "output_type": "stream",
     "text": [
      "\u001b[32m[1026 11:49:25 @saver.py:79]\u001b[0m Model saved to ../output/Chicago/DATGAN2_1000/model\\model-160125.\n",
      "\u001b[32m[1026 11:49:25 @monitor.py:467]\u001b[0m GAN_loss/discrim/accuracy_fake: 0.974\n",
      "\u001b[32m[1026 11:49:25 @monitor.py:467]\u001b[0m GAN_loss/discrim/accuracy_real: 0.042\n",
      "\u001b[32m[1026 11:49:25 @monitor.py:467]\u001b[0m GAN_loss/discrim/loss: 0.64736\n",
      "\u001b[32m[1026 11:49:25 @monitor.py:467]\u001b[0m GAN_loss/gen/final-g-loss: 1.0323\n",
      "\u001b[32m[1026 11:49:25 @monitor.py:467]\u001b[0m GAN_loss/gen/klloss: 0.08425\n",
      "\u001b[32m[1026 11:49:25 @monitor.py:467]\u001b[0m GAN_loss/gen/loss: 0.94807\n",
      "\u001b[32m[1026 11:49:25 @monitor.py:467]\u001b[0m QueueInput/queue_size: 50\n",
      "\u001b[32m[1026 11:49:25 @base.py:275]\u001b[0m Start Epoch 916 ...\n"
     ]
    },
    {
     "name": "stderr",
     "output_type": "stream",
     "text": [
      "100%|###################################################################################|175/175[00:05<00:00,32.10it/s]"
     ]
    },
    {
     "name": "stdout",
     "output_type": "stream",
     "text": [
      "\u001b[32m[1026 11:49:30 @base.py:285]\u001b[0m Epoch 916 (global_step 160300) finished, time:5.45 seconds.\n",
      "\u001b[32m[1026 11:49:30 @saver.py:79]\u001b[0m Model saved to ../output/Chicago/DATGAN2_1000/model\\model-160300.\n"
     ]
    },
    {
     "name": "stderr",
     "output_type": "stream",
     "text": [
      "\n"
     ]
    },
    {
     "name": "stdout",
     "output_type": "stream",
     "text": [
      "\u001b[32m[1026 11:49:31 @monitor.py:467]\u001b[0m GAN_loss/discrim/accuracy_fake: 0.962\n",
      "\u001b[32m[1026 11:49:31 @monitor.py:467]\u001b[0m GAN_loss/discrim/accuracy_real: 0.046\n",
      "\u001b[32m[1026 11:49:31 @monitor.py:467]\u001b[0m GAN_loss/discrim/loss: 0.64714\n",
      "\u001b[32m[1026 11:49:31 @monitor.py:467]\u001b[0m GAN_loss/gen/final-g-loss: 1.0306\n",
      "\u001b[32m[1026 11:49:31 @monitor.py:467]\u001b[0m GAN_loss/gen/klloss: 0.083954\n",
      "\u001b[32m[1026 11:49:31 @monitor.py:467]\u001b[0m GAN_loss/gen/loss: 0.94666\n",
      "\u001b[32m[1026 11:49:31 @monitor.py:467]\u001b[0m QueueInput/queue_size: 50\n",
      "\u001b[32m[1026 11:49:31 @base.py:275]\u001b[0m Start Epoch 917 ...\n"
     ]
    },
    {
     "name": "stderr",
     "output_type": "stream",
     "text": [
      "100%|###################################################################################|175/175[00:05<00:00,32.10it/s]"
     ]
    },
    {
     "name": "stdout",
     "output_type": "stream",
     "text": [
      "\u001b[32m[1026 11:49:36 @base.py:285]\u001b[0m Epoch 917 (global_step 160475) finished, time:5.45 seconds.\n",
      "\u001b[32m[1026 11:49:36 @saver.py:79]\u001b[0m Model saved to ../output/Chicago/DATGAN2_1000/model\\model-160475.\n"
     ]
    },
    {
     "name": "stderr",
     "output_type": "stream",
     "text": [
      "\n"
     ]
    },
    {
     "name": "stdout",
     "output_type": "stream",
     "text": [
      "\u001b[32m[1026 11:49:36 @monitor.py:467]\u001b[0m GAN_loss/discrim/accuracy_fake: 0.972\n",
      "\u001b[32m[1026 11:49:36 @monitor.py:467]\u001b[0m GAN_loss/discrim/accuracy_real: 0.034\n",
      "\u001b[32m[1026 11:49:36 @monitor.py:467]\u001b[0m GAN_loss/discrim/loss: 0.64882\n",
      "\u001b[32m[1026 11:49:36 @monitor.py:467]\u001b[0m GAN_loss/gen/final-g-loss: 0.9837\n",
      "\u001b[32m[1026 11:49:36 @monitor.py:467]\u001b[0m GAN_loss/gen/klloss: 0.041106\n",
      "\u001b[32m[1026 11:49:36 @monitor.py:467]\u001b[0m GAN_loss/gen/loss: 0.9426\n",
      "\u001b[32m[1026 11:49:36 @monitor.py:467]\u001b[0m QueueInput/queue_size: 50\n",
      "\u001b[32m[1026 11:49:36 @base.py:275]\u001b[0m Start Epoch 918 ...\n"
     ]
    },
    {
     "name": "stderr",
     "output_type": "stream",
     "text": [
      "100%|###################################################################################|175/175[00:05<00:00,32.01it/s]"
     ]
    },
    {
     "name": "stdout",
     "output_type": "stream",
     "text": [
      "\u001b[32m[1026 11:49:42 @base.py:285]\u001b[0m Epoch 918 (global_step 160650) finished, time:5.47 seconds.\n",
      "\u001b[32m[1026 11:49:42 @saver.py:79]\u001b[0m Model saved to ../output/Chicago/DATGAN2_1000/model\\model-160650.\n"
     ]
    },
    {
     "name": "stderr",
     "output_type": "stream",
     "text": [
      "\n"
     ]
    },
    {
     "name": "stdout",
     "output_type": "stream",
     "text": [
      "\u001b[32m[1026 11:49:42 @monitor.py:467]\u001b[0m GAN_loss/discrim/accuracy_fake: 0.972\n",
      "\u001b[32m[1026 11:49:42 @monitor.py:467]\u001b[0m GAN_loss/discrim/accuracy_real: 0.056\n",
      "\u001b[32m[1026 11:49:42 @monitor.py:467]\u001b[0m GAN_loss/discrim/loss: 0.64747\n",
      "\u001b[32m[1026 11:49:42 @monitor.py:467]\u001b[0m GAN_loss/gen/final-g-loss: 1.0099\n",
      "\u001b[32m[1026 11:49:42 @monitor.py:467]\u001b[0m GAN_loss/gen/klloss: 0.06618\n",
      "\u001b[32m[1026 11:49:42 @monitor.py:467]\u001b[0m GAN_loss/gen/loss: 0.94374\n",
      "\u001b[32m[1026 11:49:42 @monitor.py:467]\u001b[0m QueueInput/queue_size: 50\n",
      "\u001b[32m[1026 11:49:42 @base.py:275]\u001b[0m Start Epoch 919 ...\n"
     ]
    },
    {
     "name": "stderr",
     "output_type": "stream",
     "text": [
      "100%|###################################################################################|175/175[00:05<00:00,32.10it/s]"
     ]
    },
    {
     "name": "stdout",
     "output_type": "stream",
     "text": [
      "\u001b[32m[1026 11:49:48 @base.py:285]\u001b[0m Epoch 919 (global_step 160825) finished, time:5.45 seconds.\n",
      "\u001b[32m[1026 11:49:48 @saver.py:79]\u001b[0m Model saved to ../output/Chicago/DATGAN2_1000/model\\model-160825.\n"
     ]
    },
    {
     "name": "stderr",
     "output_type": "stream",
     "text": [
      "\n"
     ]
    },
    {
     "name": "stdout",
     "output_type": "stream",
     "text": [
      "\u001b[32m[1026 11:49:48 @monitor.py:467]\u001b[0m GAN_loss/discrim/accuracy_fake: 0.976\n",
      "\u001b[32m[1026 11:49:48 @monitor.py:467]\u001b[0m GAN_loss/discrim/accuracy_real: 0.042\n",
      "\u001b[32m[1026 11:49:48 @monitor.py:467]\u001b[0m GAN_loss/discrim/loss: 0.6434\n",
      "\u001b[32m[1026 11:49:48 @monitor.py:467]\u001b[0m GAN_loss/gen/final-g-loss: 1.0041\n",
      "\u001b[32m[1026 11:49:48 @monitor.py:467]\u001b[0m GAN_loss/gen/klloss: 0.054823\n",
      "\u001b[32m[1026 11:49:48 @monitor.py:467]\u001b[0m GAN_loss/gen/loss: 0.9493\n",
      "\u001b[32m[1026 11:49:48 @monitor.py:467]\u001b[0m QueueInput/queue_size: 50\n",
      "\u001b[32m[1026 11:49:48 @base.py:275]\u001b[0m Start Epoch 920 ...\n"
     ]
    },
    {
     "name": "stderr",
     "output_type": "stream",
     "text": [
      "100%|###################################################################################|175/175[00:05<00:00,32.10it/s]"
     ]
    },
    {
     "name": "stdout",
     "output_type": "stream",
     "text": [
      "\u001b[32m[1026 11:49:53 @base.py:285]\u001b[0m Epoch 920 (global_step 161000) finished, time:5.45 seconds.\n"
     ]
    },
    {
     "name": "stderr",
     "output_type": "stream",
     "text": [
      "\n"
     ]
    },
    {
     "name": "stdout",
     "output_type": "stream",
     "text": [
      "\u001b[32m[1026 11:49:53 @saver.py:79]\u001b[0m Model saved to ../output/Chicago/DATGAN2_1000/model\\model-161000.\n",
      "\u001b[32m[1026 11:49:53 @monitor.py:467]\u001b[0m GAN_loss/discrim/accuracy_fake: 0.97\n",
      "\u001b[32m[1026 11:49:53 @monitor.py:467]\u001b[0m GAN_loss/discrim/accuracy_real: 0.044\n",
      "\u001b[32m[1026 11:49:53 @monitor.py:467]\u001b[0m GAN_loss/discrim/loss: 0.65097\n",
      "\u001b[32m[1026 11:49:53 @monitor.py:467]\u001b[0m GAN_loss/gen/final-g-loss: 1.0175\n",
      "\u001b[32m[1026 11:49:53 @monitor.py:467]\u001b[0m GAN_loss/gen/klloss: 0.075912\n",
      "\u001b[32m[1026 11:49:53 @monitor.py:467]\u001b[0m GAN_loss/gen/loss: 0.9416\n",
      "\u001b[32m[1026 11:49:53 @monitor.py:467]\u001b[0m QueueInput/queue_size: 50\n",
      "\u001b[32m[1026 11:49:53 @base.py:275]\u001b[0m Start Epoch 921 ...\n"
     ]
    },
    {
     "name": "stderr",
     "output_type": "stream",
     "text": [
      "100%|###################################################################################|175/175[00:05<00:00,32.13it/s]"
     ]
    },
    {
     "name": "stdout",
     "output_type": "stream",
     "text": [
      "\u001b[32m[1026 11:49:59 @base.py:285]\u001b[0m Epoch 921 (global_step 161175) finished, time:5.45 seconds.\n",
      "\u001b[32m[1026 11:49:59 @saver.py:79]\u001b[0m Model saved to ../output/Chicago/DATGAN2_1000/model\\model-161175.\n"
     ]
    },
    {
     "name": "stderr",
     "output_type": "stream",
     "text": [
      "\n"
     ]
    },
    {
     "name": "stdout",
     "output_type": "stream",
     "text": [
      "\u001b[32m[1026 11:49:59 @monitor.py:467]\u001b[0m GAN_loss/discrim/accuracy_fake: 0.972\n",
      "\u001b[32m[1026 11:49:59 @monitor.py:467]\u001b[0m GAN_loss/discrim/accuracy_real: 0.042\n",
      "\u001b[32m[1026 11:49:59 @monitor.py:467]\u001b[0m GAN_loss/discrim/loss: 0.6489\n",
      "\u001b[32m[1026 11:49:59 @monitor.py:467]\u001b[0m GAN_loss/gen/final-g-loss: 1.0235\n",
      "\u001b[32m[1026 11:49:59 @monitor.py:467]\u001b[0m GAN_loss/gen/klloss: 0.067642\n",
      "\u001b[32m[1026 11:49:59 @monitor.py:467]\u001b[0m GAN_loss/gen/loss: 0.95583\n",
      "\u001b[32m[1026 11:49:59 @monitor.py:467]\u001b[0m QueueInput/queue_size: 50\n",
      "\u001b[32m[1026 11:49:59 @base.py:275]\u001b[0m Start Epoch 922 ...\n"
     ]
    },
    {
     "name": "stderr",
     "output_type": "stream",
     "text": [
      "100%|###################################################################################|175/175[00:05<00:00,32.11it/s]"
     ]
    },
    {
     "name": "stdout",
     "output_type": "stream",
     "text": [
      "\u001b[32m[1026 11:50:05 @base.py:285]\u001b[0m Epoch 922 (global_step 161350) finished, time:5.45 seconds.\n",
      "\u001b[32m[1026 11:50:05 @saver.py:79]\u001b[0m Model saved to ../output/Chicago/DATGAN2_1000/model\\model-161350.\n"
     ]
    },
    {
     "name": "stderr",
     "output_type": "stream",
     "text": [
      "\n"
     ]
    },
    {
     "name": "stdout",
     "output_type": "stream",
     "text": [
      "\u001b[32m[1026 11:50:05 @monitor.py:467]\u001b[0m GAN_loss/discrim/accuracy_fake: 0.974\n",
      "\u001b[32m[1026 11:50:05 @monitor.py:467]\u001b[0m GAN_loss/discrim/accuracy_real: 0.042\n",
      "\u001b[32m[1026 11:50:05 @monitor.py:467]\u001b[0m GAN_loss/discrim/loss: 0.64693\n",
      "\u001b[32m[1026 11:50:05 @monitor.py:467]\u001b[0m GAN_loss/gen/final-g-loss: 1.0074\n",
      "\u001b[32m[1026 11:50:05 @monitor.py:467]\u001b[0m GAN_loss/gen/klloss: 0.0625\n",
      "\u001b[32m[1026 11:50:05 @monitor.py:467]\u001b[0m GAN_loss/gen/loss: 0.94489\n",
      "\u001b[32m[1026 11:50:05 @monitor.py:467]\u001b[0m QueueInput/queue_size: 50\n",
      "\u001b[32m[1026 11:50:05 @base.py:275]\u001b[0m Start Epoch 923 ...\n"
     ]
    },
    {
     "name": "stderr",
     "output_type": "stream",
     "text": [
      "100%|###################################################################################|175/175[00:05<00:00,32.13it/s]"
     ]
    },
    {
     "name": "stdout",
     "output_type": "stream",
     "text": [
      "\u001b[32m[1026 11:50:10 @base.py:285]\u001b[0m Epoch 923 (global_step 161525) finished, time:5.45 seconds.\n",
      "\u001b[32m[1026 11:50:10 @saver.py:79]\u001b[0m Model saved to ../output/Chicago/DATGAN2_1000/model\\model-161525.\n"
     ]
    },
    {
     "name": "stderr",
     "output_type": "stream",
     "text": [
      "\n"
     ]
    },
    {
     "name": "stdout",
     "output_type": "stream",
     "text": [
      "\u001b[32m[1026 11:50:11 @monitor.py:467]\u001b[0m GAN_loss/discrim/accuracy_fake: 0.976\n",
      "\u001b[32m[1026 11:50:11 @monitor.py:467]\u001b[0m GAN_loss/discrim/accuracy_real: 0.044\n",
      "\u001b[32m[1026 11:50:11 @monitor.py:467]\u001b[0m GAN_loss/discrim/loss: 0.65023\n",
      "\u001b[32m[1026 11:50:11 @monitor.py:467]\u001b[0m GAN_loss/gen/final-g-loss: 1.0094\n",
      "\u001b[32m[1026 11:50:11 @monitor.py:467]\u001b[0m GAN_loss/gen/klloss: 0.060939\n",
      "\u001b[32m[1026 11:50:11 @monitor.py:467]\u001b[0m GAN_loss/gen/loss: 0.94849\n",
      "\u001b[32m[1026 11:50:11 @monitor.py:467]\u001b[0m QueueInput/queue_size: 50\n",
      "\u001b[32m[1026 11:50:11 @base.py:275]\u001b[0m Start Epoch 924 ...\n"
     ]
    },
    {
     "name": "stderr",
     "output_type": "stream",
     "text": [
      "100%|###################################################################################|175/175[00:05<00:00,31.91it/s]"
     ]
    },
    {
     "name": "stdout",
     "output_type": "stream",
     "text": [
      "\u001b[32m[1026 11:50:16 @base.py:285]\u001b[0m Epoch 924 (global_step 161700) finished, time:5.49 seconds.\n",
      "\u001b[32m[1026 11:50:16 @saver.py:79]\u001b[0m Model saved to ../output/Chicago/DATGAN2_1000/model\\model-161700.\n"
     ]
    },
    {
     "name": "stderr",
     "output_type": "stream",
     "text": [
      "\n"
     ]
    },
    {
     "name": "stdout",
     "output_type": "stream",
     "text": [
      "\u001b[32m[1026 11:50:16 @monitor.py:467]\u001b[0m GAN_loss/discrim/accuracy_fake: 0.97\n",
      "\u001b[32m[1026 11:50:16 @monitor.py:467]\u001b[0m GAN_loss/discrim/accuracy_real: 0.04\n",
      "\u001b[32m[1026 11:50:16 @monitor.py:467]\u001b[0m GAN_loss/discrim/loss: 0.64943\n",
      "\u001b[32m[1026 11:50:16 @monitor.py:467]\u001b[0m GAN_loss/gen/final-g-loss: 1.0076\n",
      "\u001b[32m[1026 11:50:16 @monitor.py:467]\u001b[0m GAN_loss/gen/klloss: 0.066906\n",
      "\u001b[32m[1026 11:50:16 @monitor.py:467]\u001b[0m GAN_loss/gen/loss: 0.94068\n",
      "\u001b[32m[1026 11:50:16 @monitor.py:467]\u001b[0m QueueInput/queue_size: 50\n",
      "\u001b[32m[1026 11:50:16 @base.py:275]\u001b[0m Start Epoch 925 ...\n"
     ]
    },
    {
     "name": "stderr",
     "output_type": "stream",
     "text": [
      "100%|###################################################################################|175/175[00:05<00:00,32.14it/s]"
     ]
    },
    {
     "name": "stdout",
     "output_type": "stream",
     "text": [
      "\u001b[32m[1026 11:50:22 @base.py:285]\u001b[0m Epoch 925 (global_step 161875) finished, time:5.44 seconds.\n",
      "\u001b[32m[1026 11:50:22 @saver.py:79]\u001b[0m Model saved to ../output/Chicago/DATGAN2_1000/model\\model-161875.\n"
     ]
    },
    {
     "name": "stderr",
     "output_type": "stream",
     "text": [
      "\n"
     ]
    },
    {
     "name": "stdout",
     "output_type": "stream",
     "text": [
      "\u001b[32m[1026 11:50:22 @monitor.py:467]\u001b[0m GAN_loss/discrim/accuracy_fake: 0.966\n",
      "\u001b[32m[1026 11:50:22 @monitor.py:467]\u001b[0m GAN_loss/discrim/accuracy_real: 0.04\n",
      "\u001b[32m[1026 11:50:22 @monitor.py:467]\u001b[0m GAN_loss/discrim/loss: 0.64848\n",
      "\u001b[32m[1026 11:50:22 @monitor.py:467]\u001b[0m GAN_loss/gen/final-g-loss: 1.025\n",
      "\u001b[32m[1026 11:50:22 @monitor.py:467]\u001b[0m GAN_loss/gen/klloss: 0.08122\n",
      "\u001b[32m[1026 11:50:22 @monitor.py:467]\u001b[0m GAN_loss/gen/loss: 0.94373\n",
      "\u001b[32m[1026 11:50:22 @monitor.py:467]\u001b[0m QueueInput/queue_size: 50\n",
      "\u001b[32m[1026 11:50:22 @base.py:275]\u001b[0m Start Epoch 926 ...\n"
     ]
    },
    {
     "name": "stderr",
     "output_type": "stream",
     "text": [
      "100%|###################################################################################|175/175[00:05<00:00,32.08it/s]"
     ]
    },
    {
     "name": "stdout",
     "output_type": "stream",
     "text": [
      "\u001b[32m[1026 11:50:28 @base.py:285]\u001b[0m Epoch 926 (global_step 162050) finished, time:5.46 seconds.\n",
      "\u001b[32m[1026 11:50:28 @saver.py:79]\u001b[0m Model saved to ../output/Chicago/DATGAN2_1000/model\\model-162050.\n"
     ]
    },
    {
     "name": "stderr",
     "output_type": "stream",
     "text": [
      "\n"
     ]
    },
    {
     "name": "stdout",
     "output_type": "stream",
     "text": [
      "\u001b[32m[1026 11:50:28 @monitor.py:467]\u001b[0m GAN_loss/discrim/accuracy_fake: 0.974\n",
      "\u001b[32m[1026 11:50:28 @monitor.py:467]\u001b[0m GAN_loss/discrim/accuracy_real: 0.026\n",
      "\u001b[32m[1026 11:50:28 @monitor.py:467]\u001b[0m GAN_loss/discrim/loss: 0.65147\n",
      "\u001b[32m[1026 11:50:28 @monitor.py:467]\u001b[0m GAN_loss/gen/final-g-loss: 1.0061\n",
      "\u001b[32m[1026 11:50:28 @monitor.py:467]\u001b[0m GAN_loss/gen/klloss: 0.05697\n",
      "\u001b[32m[1026 11:50:28 @monitor.py:467]\u001b[0m GAN_loss/gen/loss: 0.94909\n",
      "\u001b[32m[1026 11:50:28 @monitor.py:467]\u001b[0m QueueInput/queue_size: 50\n",
      "\u001b[32m[1026 11:50:28 @base.py:275]\u001b[0m Start Epoch 927 ...\n"
     ]
    },
    {
     "name": "stderr",
     "output_type": "stream",
     "text": [
      "100%|###################################################################################|175/175[00:05<00:00,32.17it/s]"
     ]
    },
    {
     "name": "stdout",
     "output_type": "stream",
     "text": [
      "\u001b[32m[1026 11:50:33 @base.py:285]\u001b[0m Epoch 927 (global_step 162225) finished, time:5.44 seconds.\n"
     ]
    },
    {
     "name": "stderr",
     "output_type": "stream",
     "text": [
      "\n"
     ]
    },
    {
     "name": "stdout",
     "output_type": "stream",
     "text": [
      "\u001b[32m[1026 11:50:33 @saver.py:79]\u001b[0m Model saved to ../output/Chicago/DATGAN2_1000/model\\model-162225.\n",
      "\u001b[32m[1026 11:50:33 @monitor.py:467]\u001b[0m GAN_loss/discrim/accuracy_fake: 0.982\n",
      "\u001b[32m[1026 11:50:33 @monitor.py:467]\u001b[0m GAN_loss/discrim/accuracy_real: 0.04\n",
      "\u001b[32m[1026 11:50:33 @monitor.py:467]\u001b[0m GAN_loss/discrim/loss: 0.64446\n",
      "\u001b[32m[1026 11:50:33 @monitor.py:467]\u001b[0m GAN_loss/gen/final-g-loss: 0.99506\n",
      "\u001b[32m[1026 11:50:33 @monitor.py:467]\u001b[0m GAN_loss/gen/klloss: 0.043873\n",
      "\u001b[32m[1026 11:50:33 @monitor.py:467]\u001b[0m GAN_loss/gen/loss: 0.95118\n",
      "\u001b[32m[1026 11:50:33 @monitor.py:467]\u001b[0m QueueInput/queue_size: 50\n",
      "\u001b[32m[1026 11:50:33 @base.py:275]\u001b[0m Start Epoch 928 ...\n"
     ]
    },
    {
     "name": "stderr",
     "output_type": "stream",
     "text": [
      "100%|###################################################################################|175/175[00:05<00:00,32.13it/s]"
     ]
    },
    {
     "name": "stdout",
     "output_type": "stream",
     "text": [
      "\u001b[32m[1026 11:50:39 @base.py:285]\u001b[0m Epoch 928 (global_step 162400) finished, time:5.45 seconds.\n",
      "\u001b[32m[1026 11:50:39 @saver.py:79]\u001b[0m Model saved to ../output/Chicago/DATGAN2_1000/model\\model-162400.\n"
     ]
    },
    {
     "name": "stderr",
     "output_type": "stream",
     "text": [
      "\n"
     ]
    },
    {
     "name": "stdout",
     "output_type": "stream",
     "text": [
      "\u001b[32m[1026 11:50:39 @monitor.py:467]\u001b[0m GAN_loss/discrim/accuracy_fake: 0.97\n",
      "\u001b[32m[1026 11:50:39 @monitor.py:467]\u001b[0m GAN_loss/discrim/accuracy_real: 0.036\n",
      "\u001b[32m[1026 11:50:39 @monitor.py:467]\u001b[0m GAN_loss/discrim/loss: 0.6523\n",
      "\u001b[32m[1026 11:50:39 @monitor.py:467]\u001b[0m GAN_loss/gen/final-g-loss: 0.99946\n",
      "\u001b[32m[1026 11:50:39 @monitor.py:467]\u001b[0m GAN_loss/gen/klloss: 0.056344\n",
      "\u001b[32m[1026 11:50:39 @monitor.py:467]\u001b[0m GAN_loss/gen/loss: 0.94312\n",
      "\u001b[32m[1026 11:50:39 @monitor.py:467]\u001b[0m QueueInput/queue_size: 50\n",
      "\u001b[32m[1026 11:50:39 @base.py:275]\u001b[0m Start Epoch 929 ...\n"
     ]
    },
    {
     "name": "stderr",
     "output_type": "stream",
     "text": [
      "100%|###################################################################################|175/175[00:05<00:00,32.16it/s]"
     ]
    },
    {
     "name": "stdout",
     "output_type": "stream",
     "text": [
      "\u001b[32m[1026 11:50:45 @base.py:285]\u001b[0m Epoch 929 (global_step 162575) finished, time:5.44 seconds.\n",
      "\u001b[32m[1026 11:50:45 @saver.py:79]\u001b[0m Model saved to ../output/Chicago/DATGAN2_1000/model\\model-162575.\n"
     ]
    },
    {
     "name": "stderr",
     "output_type": "stream",
     "text": [
      "\n"
     ]
    },
    {
     "name": "stdout",
     "output_type": "stream",
     "text": [
      "\u001b[32m[1026 11:50:45 @monitor.py:467]\u001b[0m GAN_loss/discrim/accuracy_fake: 0.984\n",
      "\u001b[32m[1026 11:50:45 @monitor.py:467]\u001b[0m GAN_loss/discrim/accuracy_real: 0.034\n",
      "\u001b[32m[1026 11:50:45 @monitor.py:467]\u001b[0m GAN_loss/discrim/loss: 0.65239\n",
      "\u001b[32m[1026 11:50:45 @monitor.py:467]\u001b[0m GAN_loss/gen/final-g-loss: 1.0056\n",
      "\u001b[32m[1026 11:50:45 @monitor.py:467]\u001b[0m GAN_loss/gen/klloss: 0.058956\n",
      "\u001b[32m[1026 11:50:45 @monitor.py:467]\u001b[0m GAN_loss/gen/loss: 0.94663\n",
      "\u001b[32m[1026 11:50:45 @monitor.py:467]\u001b[0m QueueInput/queue_size: 50\n",
      "\u001b[32m[1026 11:50:45 @base.py:275]\u001b[0m Start Epoch 930 ...\n"
     ]
    },
    {
     "name": "stderr",
     "output_type": "stream",
     "text": [
      "100%|###################################################################################|175/175[00:05<00:00,32.07it/s]"
     ]
    },
    {
     "name": "stdout",
     "output_type": "stream",
     "text": [
      "\u001b[32m[1026 11:50:50 @base.py:285]\u001b[0m Epoch 930 (global_step 162750) finished, time:5.46 seconds.\n",
      "\u001b[32m[1026 11:50:50 @saver.py:79]\u001b[0m Model saved to ../output/Chicago/DATGAN2_1000/model\\model-162750.\n"
     ]
    },
    {
     "name": "stderr",
     "output_type": "stream",
     "text": [
      "\n"
     ]
    },
    {
     "name": "stdout",
     "output_type": "stream",
     "text": [
      "\u001b[32m[1026 11:50:51 @monitor.py:467]\u001b[0m GAN_loss/discrim/accuracy_fake: 0.97\n",
      "\u001b[32m[1026 11:50:51 @monitor.py:467]\u001b[0m GAN_loss/discrim/accuracy_real: 0.046\n",
      "\u001b[32m[1026 11:50:51 @monitor.py:467]\u001b[0m GAN_loss/discrim/loss: 0.6502\n",
      "\u001b[32m[1026 11:50:51 @monitor.py:467]\u001b[0m GAN_loss/gen/final-g-loss: 1.005\n",
      "\u001b[32m[1026 11:50:51 @monitor.py:467]\u001b[0m GAN_loss/gen/klloss: 0.057979\n",
      "\u001b[32m[1026 11:50:51 @monitor.py:467]\u001b[0m GAN_loss/gen/loss: 0.94698\n",
      "\u001b[32m[1026 11:50:51 @monitor.py:467]\u001b[0m QueueInput/queue_size: 50\n",
      "\u001b[32m[1026 11:50:51 @base.py:275]\u001b[0m Start Epoch 931 ...\n"
     ]
    },
    {
     "name": "stderr",
     "output_type": "stream",
     "text": [
      "100%|###################################################################################|175/175[00:05<00:00,32.15it/s]"
     ]
    },
    {
     "name": "stdout",
     "output_type": "stream",
     "text": [
      "\u001b[32m[1026 11:50:56 @base.py:285]\u001b[0m Epoch 931 (global_step 162925) finished, time:5.44 seconds.\n",
      "\u001b[32m[1026 11:50:56 @saver.py:79]\u001b[0m Model saved to ../output/Chicago/DATGAN2_1000/model\\model-162925.\n"
     ]
    },
    {
     "name": "stderr",
     "output_type": "stream",
     "text": [
      "\n"
     ]
    },
    {
     "name": "stdout",
     "output_type": "stream",
     "text": [
      "\u001b[32m[1026 11:50:56 @monitor.py:467]\u001b[0m GAN_loss/discrim/accuracy_fake: 0.968\n",
      "\u001b[32m[1026 11:50:56 @monitor.py:467]\u001b[0m GAN_loss/discrim/accuracy_real: 0.044\n",
      "\u001b[32m[1026 11:50:56 @monitor.py:467]\u001b[0m GAN_loss/discrim/loss: 0.64662\n",
      "\u001b[32m[1026 11:50:56 @monitor.py:467]\u001b[0m GAN_loss/gen/final-g-loss: 1.0262\n",
      "\u001b[32m[1026 11:50:56 @monitor.py:467]\u001b[0m GAN_loss/gen/klloss: 0.07357\n",
      "\u001b[32m[1026 11:50:56 @monitor.py:467]\u001b[0m GAN_loss/gen/loss: 0.95266\n",
      "\u001b[32m[1026 11:50:56 @monitor.py:467]\u001b[0m QueueInput/queue_size: 50\n",
      "\u001b[32m[1026 11:50:56 @base.py:275]\u001b[0m Start Epoch 932 ...\n"
     ]
    },
    {
     "name": "stderr",
     "output_type": "stream",
     "text": [
      "100%|###################################################################################|175/175[00:05<00:00,32.12it/s]"
     ]
    },
    {
     "name": "stdout",
     "output_type": "stream",
     "text": [
      "\u001b[32m[1026 11:51:02 @base.py:285]\u001b[0m Epoch 932 (global_step 163100) finished, time:5.45 seconds.\n",
      "\u001b[32m[1026 11:51:02 @saver.py:79]\u001b[0m Model saved to ../output/Chicago/DATGAN2_1000/model\\model-163100.\n"
     ]
    },
    {
     "name": "stderr",
     "output_type": "stream",
     "text": [
      "\n"
     ]
    },
    {
     "name": "stdout",
     "output_type": "stream",
     "text": [
      "\u001b[32m[1026 11:51:02 @monitor.py:467]\u001b[0m GAN_loss/discrim/accuracy_fake: 0.972\n",
      "\u001b[32m[1026 11:51:02 @monitor.py:467]\u001b[0m GAN_loss/discrim/accuracy_real: 0.036\n",
      "\u001b[32m[1026 11:51:02 @monitor.py:467]\u001b[0m GAN_loss/discrim/loss: 0.65011\n",
      "\u001b[32m[1026 11:51:02 @monitor.py:467]\u001b[0m GAN_loss/gen/final-g-loss: 1.001\n",
      "\u001b[32m[1026 11:51:02 @monitor.py:467]\u001b[0m GAN_loss/gen/klloss: 0.058983\n",
      "\u001b[32m[1026 11:51:02 @monitor.py:467]\u001b[0m GAN_loss/gen/loss: 0.94204\n",
      "\u001b[32m[1026 11:51:02 @monitor.py:467]\u001b[0m QueueInput/queue_size: 50\n",
      "\u001b[32m[1026 11:51:02 @base.py:275]\u001b[0m Start Epoch 933 ...\n"
     ]
    },
    {
     "name": "stderr",
     "output_type": "stream",
     "text": [
      "100%|###################################################################################|175/175[00:05<00:00,32.15it/s]"
     ]
    },
    {
     "name": "stdout",
     "output_type": "stream",
     "text": [
      "\u001b[32m[1026 11:51:07 @base.py:285]\u001b[0m Epoch 933 (global_step 163275) finished, time:5.44 seconds.\n"
     ]
    },
    {
     "name": "stderr",
     "output_type": "stream",
     "text": [
      "\n"
     ]
    },
    {
     "name": "stdout",
     "output_type": "stream",
     "text": [
      "\u001b[32m[1026 11:51:08 @saver.py:79]\u001b[0m Model saved to ../output/Chicago/DATGAN2_1000/model\\model-163275.\n",
      "\u001b[32m[1026 11:51:08 @monitor.py:467]\u001b[0m GAN_loss/discrim/accuracy_fake: 0.976\n",
      "\u001b[32m[1026 11:51:08 @monitor.py:467]\u001b[0m GAN_loss/discrim/accuracy_real: 0.024\n",
      "\u001b[32m[1026 11:51:08 @monitor.py:467]\u001b[0m GAN_loss/discrim/loss: 0.65093\n",
      "\u001b[32m[1026 11:51:08 @monitor.py:467]\u001b[0m GAN_loss/gen/final-g-loss: 1.0252\n",
      "\u001b[32m[1026 11:51:08 @monitor.py:467]\u001b[0m GAN_loss/gen/klloss: 0.08326\n",
      "\u001b[32m[1026 11:51:08 @monitor.py:467]\u001b[0m GAN_loss/gen/loss: 0.94193\n",
      "\u001b[32m[1026 11:51:08 @monitor.py:467]\u001b[0m QueueInput/queue_size: 50\n",
      "\u001b[32m[1026 11:51:08 @base.py:275]\u001b[0m Start Epoch 934 ...\n"
     ]
    },
    {
     "name": "stderr",
     "output_type": "stream",
     "text": [
      "100%|###################################################################################|175/175[00:05<00:00,32.13it/s]"
     ]
    },
    {
     "name": "stdout",
     "output_type": "stream",
     "text": [
      "\u001b[32m[1026 11:51:13 @base.py:285]\u001b[0m Epoch 934 (global_step 163450) finished, time:5.45 seconds.\n",
      "\u001b[32m[1026 11:51:13 @saver.py:79]\u001b[0m Model saved to ../output/Chicago/DATGAN2_1000/model\\model-163450.\n"
     ]
    },
    {
     "name": "stderr",
     "output_type": "stream",
     "text": [
      "\n"
     ]
    },
    {
     "name": "stdout",
     "output_type": "stream",
     "text": [
      "\u001b[32m[1026 11:51:13 @monitor.py:467]\u001b[0m GAN_loss/discrim/accuracy_fake: 0.966\n",
      "\u001b[32m[1026 11:51:13 @monitor.py:467]\u001b[0m GAN_loss/discrim/accuracy_real: 0.058\n",
      "\u001b[32m[1026 11:51:13 @monitor.py:467]\u001b[0m GAN_loss/discrim/loss: 0.65028\n",
      "\u001b[32m[1026 11:51:13 @monitor.py:467]\u001b[0m GAN_loss/gen/final-g-loss: 1.0089\n",
      "\u001b[32m[1026 11:51:13 @monitor.py:467]\u001b[0m GAN_loss/gen/klloss: 0.065025\n",
      "\u001b[32m[1026 11:51:13 @monitor.py:467]\u001b[0m GAN_loss/gen/loss: 0.9439\n",
      "\u001b[32m[1026 11:51:13 @monitor.py:467]\u001b[0m QueueInput/queue_size: 50\n",
      "\u001b[32m[1026 11:51:13 @base.py:275]\u001b[0m Start Epoch 935 ...\n"
     ]
    },
    {
     "name": "stderr",
     "output_type": "stream",
     "text": [
      "100%|###################################################################################|175/175[00:05<00:00,32.14it/s]"
     ]
    },
    {
     "name": "stdout",
     "output_type": "stream",
     "text": [
      "\u001b[32m[1026 11:51:19 @base.py:285]\u001b[0m Epoch 935 (global_step 163625) finished, time:5.45 seconds.\n"
     ]
    },
    {
     "name": "stderr",
     "output_type": "stream",
     "text": [
      "\n"
     ]
    },
    {
     "name": "stdout",
     "output_type": "stream",
     "text": [
      "\u001b[32m[1026 11:51:19 @saver.py:79]\u001b[0m Model saved to ../output/Chicago/DATGAN2_1000/model\\model-163625.\n",
      "\u001b[32m[1026 11:51:19 @monitor.py:467]\u001b[0m GAN_loss/discrim/accuracy_fake: 0.98\n",
      "\u001b[32m[1026 11:51:19 @monitor.py:467]\u001b[0m GAN_loss/discrim/accuracy_real: 0.038\n",
      "\u001b[32m[1026 11:51:19 @monitor.py:467]\u001b[0m GAN_loss/discrim/loss: 0.65048\n",
      "\u001b[32m[1026 11:51:19 @monitor.py:467]\u001b[0m GAN_loss/gen/final-g-loss: 1.0092\n",
      "\u001b[32m[1026 11:51:19 @monitor.py:467]\u001b[0m GAN_loss/gen/klloss: 0.070877\n",
      "\u001b[32m[1026 11:51:19 @monitor.py:467]\u001b[0m GAN_loss/gen/loss: 0.93831\n",
      "\u001b[32m[1026 11:51:19 @monitor.py:467]\u001b[0m QueueInput/queue_size: 50\n",
      "\u001b[32m[1026 11:51:19 @base.py:275]\u001b[0m Start Epoch 936 ...\n"
     ]
    },
    {
     "name": "stderr",
     "output_type": "stream",
     "text": [
      "100%|###################################################################################|175/175[00:05<00:00,32.14it/s]"
     ]
    },
    {
     "name": "stdout",
     "output_type": "stream",
     "text": [
      "\u001b[32m[1026 11:51:25 @base.py:285]\u001b[0m Epoch 936 (global_step 163800) finished, time:5.45 seconds.\n",
      "\u001b[32m[1026 11:51:25 @saver.py:79]\u001b[0m Model saved to ../output/Chicago/DATGAN2_1000/model\\model-163800.\n"
     ]
    },
    {
     "name": "stderr",
     "output_type": "stream",
     "text": [
      "\n"
     ]
    },
    {
     "name": "stdout",
     "output_type": "stream",
     "text": [
      "\u001b[32m[1026 11:51:25 @monitor.py:467]\u001b[0m GAN_loss/discrim/accuracy_fake: 0.962\n",
      "\u001b[32m[1026 11:51:25 @monitor.py:467]\u001b[0m GAN_loss/discrim/accuracy_real: 0.05\n",
      "\u001b[32m[1026 11:51:25 @monitor.py:467]\u001b[0m GAN_loss/discrim/loss: 0.64786\n",
      "\u001b[32m[1026 11:51:25 @monitor.py:467]\u001b[0m GAN_loss/gen/final-g-loss: 0.99483\n",
      "\u001b[32m[1026 11:51:25 @monitor.py:467]\u001b[0m GAN_loss/gen/klloss: 0.056524\n",
      "\u001b[32m[1026 11:51:25 @monitor.py:467]\u001b[0m GAN_loss/gen/loss: 0.9383\n",
      "\u001b[32m[1026 11:51:25 @monitor.py:467]\u001b[0m QueueInput/queue_size: 50\n",
      "\u001b[32m[1026 11:51:25 @base.py:275]\u001b[0m Start Epoch 937 ...\n"
     ]
    },
    {
     "name": "stderr",
     "output_type": "stream",
     "text": [
      "100%|###################################################################################|175/175[00:05<00:00,32.12it/s]"
     ]
    },
    {
     "name": "stdout",
     "output_type": "stream",
     "text": [
      "\u001b[32m[1026 11:51:30 @base.py:285]\u001b[0m Epoch 937 (global_step 163975) finished, time:5.45 seconds.\n",
      "\u001b[32m[1026 11:51:30 @saver.py:79]\u001b[0m Model saved to ../output/Chicago/DATGAN2_1000/model\\model-163975.\n"
     ]
    },
    {
     "name": "stderr",
     "output_type": "stream",
     "text": [
      "\n"
     ]
    },
    {
     "name": "stdout",
     "output_type": "stream",
     "text": [
      "\u001b[32m[1026 11:51:31 @monitor.py:467]\u001b[0m GAN_loss/discrim/accuracy_fake: 0.982\n",
      "\u001b[32m[1026 11:51:31 @monitor.py:467]\u001b[0m GAN_loss/discrim/accuracy_real: 0.036\n",
      "\u001b[32m[1026 11:51:31 @monitor.py:467]\u001b[0m GAN_loss/discrim/loss: 0.65185\n",
      "\u001b[32m[1026 11:51:31 @monitor.py:467]\u001b[0m GAN_loss/gen/final-g-loss: 1.0295\n",
      "\u001b[32m[1026 11:51:31 @monitor.py:467]\u001b[0m GAN_loss/gen/klloss: 0.085885\n",
      "\u001b[32m[1026 11:51:31 @monitor.py:467]\u001b[0m GAN_loss/gen/loss: 0.94359\n",
      "\u001b[32m[1026 11:51:31 @monitor.py:467]\u001b[0m QueueInput/queue_size: 50\n",
      "\u001b[32m[1026 11:51:31 @base.py:275]\u001b[0m Start Epoch 938 ...\n"
     ]
    },
    {
     "name": "stderr",
     "output_type": "stream",
     "text": [
      "100%|###################################################################################|175/175[00:05<00:00,32.06it/s]"
     ]
    },
    {
     "name": "stdout",
     "output_type": "stream",
     "text": [
      "\u001b[32m[1026 11:51:36 @base.py:285]\u001b[0m Epoch 938 (global_step 164150) finished, time:5.46 seconds.\n",
      "\u001b[32m[1026 11:51:36 @saver.py:79]\u001b[0m Model saved to ../output/Chicago/DATGAN2_1000/model\\model-164150.\n"
     ]
    },
    {
     "name": "stderr",
     "output_type": "stream",
     "text": [
      "\n"
     ]
    },
    {
     "name": "stdout",
     "output_type": "stream",
     "text": [
      "\u001b[32m[1026 11:51:36 @monitor.py:467]\u001b[0m GAN_loss/discrim/accuracy_fake: 0.98\n",
      "\u001b[32m[1026 11:51:36 @monitor.py:467]\u001b[0m GAN_loss/discrim/accuracy_real: 0.054\n",
      "\u001b[32m[1026 11:51:36 @monitor.py:467]\u001b[0m GAN_loss/discrim/loss: 0.645\n",
      "\u001b[32m[1026 11:51:36 @monitor.py:467]\u001b[0m GAN_loss/gen/final-g-loss: 1.0318\n",
      "\u001b[32m[1026 11:51:36 @monitor.py:467]\u001b[0m GAN_loss/gen/klloss: 0.077741\n",
      "\u001b[32m[1026 11:51:36 @monitor.py:467]\u001b[0m GAN_loss/gen/loss: 0.95404\n",
      "\u001b[32m[1026 11:51:36 @monitor.py:467]\u001b[0m QueueInput/queue_size: 50\n",
      "\u001b[32m[1026 11:51:36 @base.py:275]\u001b[0m Start Epoch 939 ...\n"
     ]
    },
    {
     "name": "stderr",
     "output_type": "stream",
     "text": [
      "100%|###################################################################################|175/175[00:05<00:00,32.12it/s]"
     ]
    },
    {
     "name": "stdout",
     "output_type": "stream",
     "text": [
      "\u001b[32m[1026 11:51:42 @base.py:285]\u001b[0m Epoch 939 (global_step 164325) finished, time:5.45 seconds.\n",
      "\u001b[32m[1026 11:51:42 @saver.py:79]\u001b[0m Model saved to ../output/Chicago/DATGAN2_1000/model\\model-164325.\n"
     ]
    },
    {
     "name": "stderr",
     "output_type": "stream",
     "text": [
      "\n"
     ]
    },
    {
     "name": "stdout",
     "output_type": "stream",
     "text": [
      "\u001b[32m[1026 11:51:42 @monitor.py:467]\u001b[0m GAN_loss/discrim/accuracy_fake: 0.988\n",
      "\u001b[32m[1026 11:51:42 @monitor.py:467]\u001b[0m GAN_loss/discrim/accuracy_real: 0.048\n",
      "\u001b[32m[1026 11:51:42 @monitor.py:467]\u001b[0m GAN_loss/discrim/loss: 0.64759\n",
      "\u001b[32m[1026 11:51:42 @monitor.py:467]\u001b[0m GAN_loss/gen/final-g-loss: 1.0117\n",
      "\u001b[32m[1026 11:51:42 @monitor.py:467]\u001b[0m GAN_loss/gen/klloss: 0.063209\n",
      "\u001b[32m[1026 11:51:42 @monitor.py:467]\u001b[0m GAN_loss/gen/loss: 0.94844\n",
      "\u001b[32m[1026 11:51:42 @monitor.py:467]\u001b[0m QueueInput/queue_size: 50\n",
      "\u001b[32m[1026 11:51:42 @base.py:275]\u001b[0m Start Epoch 940 ...\n"
     ]
    },
    {
     "name": "stderr",
     "output_type": "stream",
     "text": [
      "100%|###################################################################################|175/175[00:05<00:00,32.11it/s]"
     ]
    },
    {
     "name": "stdout",
     "output_type": "stream",
     "text": [
      "\u001b[32m[1026 11:51:47 @base.py:285]\u001b[0m Epoch 940 (global_step 164500) finished, time:5.45 seconds.\n",
      "\u001b[32m[1026 11:51:47 @saver.py:79]\u001b[0m Model saved to ../output/Chicago/DATGAN2_1000/model\\model-164500.\n"
     ]
    },
    {
     "name": "stderr",
     "output_type": "stream",
     "text": [
      "\n"
     ]
    },
    {
     "name": "stdout",
     "output_type": "stream",
     "text": [
      "\u001b[32m[1026 11:51:48 @monitor.py:467]\u001b[0m GAN_loss/discrim/accuracy_fake: 0.968\n",
      "\u001b[32m[1026 11:51:48 @monitor.py:467]\u001b[0m GAN_loss/discrim/accuracy_real: 0.058\n",
      "\u001b[32m[1026 11:51:48 @monitor.py:467]\u001b[0m GAN_loss/discrim/loss: 0.64151\n",
      "\u001b[32m[1026 11:51:48 @monitor.py:467]\u001b[0m GAN_loss/gen/final-g-loss: 1.031\n",
      "\u001b[32m[1026 11:51:48 @monitor.py:467]\u001b[0m GAN_loss/gen/klloss: 0.082427\n",
      "\u001b[32m[1026 11:51:48 @monitor.py:467]\u001b[0m GAN_loss/gen/loss: 0.94857\n",
      "\u001b[32m[1026 11:51:48 @monitor.py:467]\u001b[0m QueueInput/queue_size: 50\n",
      "\u001b[32m[1026 11:51:48 @base.py:275]\u001b[0m Start Epoch 941 ...\n"
     ]
    },
    {
     "name": "stderr",
     "output_type": "stream",
     "text": [
      "100%|###################################################################################|175/175[00:05<00:00,32.17it/s]"
     ]
    },
    {
     "name": "stdout",
     "output_type": "stream",
     "text": [
      "\u001b[32m[1026 11:51:53 @base.py:285]\u001b[0m Epoch 941 (global_step 164675) finished, time:5.44 seconds.\n",
      "\u001b[32m[1026 11:51:53 @saver.py:79]\u001b[0m Model saved to ../output/Chicago/DATGAN2_1000/model\\model-164675.\n"
     ]
    },
    {
     "name": "stderr",
     "output_type": "stream",
     "text": [
      "\n"
     ]
    },
    {
     "name": "stdout",
     "output_type": "stream",
     "text": [
      "\u001b[32m[1026 11:51:53 @monitor.py:467]\u001b[0m GAN_loss/discrim/accuracy_fake: 0.98\n",
      "\u001b[32m[1026 11:51:53 @monitor.py:467]\u001b[0m GAN_loss/discrim/accuracy_real: 0.026\n",
      "\u001b[32m[1026 11:51:53 @monitor.py:467]\u001b[0m GAN_loss/discrim/loss: 0.64802\n",
      "\u001b[32m[1026 11:51:53 @monitor.py:467]\u001b[0m GAN_loss/gen/final-g-loss: 1.0459\n",
      "\u001b[32m[1026 11:51:53 @monitor.py:467]\u001b[0m GAN_loss/gen/klloss: 0.097196\n",
      "\u001b[32m[1026 11:51:53 @monitor.py:467]\u001b[0m GAN_loss/gen/loss: 0.94875\n",
      "\u001b[32m[1026 11:51:53 @monitor.py:467]\u001b[0m QueueInput/queue_size: 50\n",
      "\u001b[32m[1026 11:51:53 @base.py:275]\u001b[0m Start Epoch 942 ...\n"
     ]
    },
    {
     "name": "stderr",
     "output_type": "stream",
     "text": [
      "100%|###################################################################################|175/175[00:05<00:00,31.92it/s]"
     ]
    },
    {
     "name": "stdout",
     "output_type": "stream",
     "text": [
      "\u001b[32m[1026 11:51:59 @base.py:285]\u001b[0m Epoch 942 (global_step 164850) finished, time:5.48 seconds.\n",
      "\u001b[32m[1026 11:51:59 @saver.py:79]\u001b[0m Model saved to ../output/Chicago/DATGAN2_1000/model\\model-164850.\n"
     ]
    },
    {
     "name": "stderr",
     "output_type": "stream",
     "text": [
      "\n"
     ]
    },
    {
     "name": "stdout",
     "output_type": "stream",
     "text": [
      "\u001b[32m[1026 11:51:59 @monitor.py:467]\u001b[0m GAN_loss/discrim/accuracy_fake: 0.962\n",
      "\u001b[32m[1026 11:51:59 @monitor.py:467]\u001b[0m GAN_loss/discrim/accuracy_real: 0.034\n",
      "\u001b[32m[1026 11:51:59 @monitor.py:467]\u001b[0m GAN_loss/discrim/loss: 0.65162\n",
      "\u001b[32m[1026 11:51:59 @monitor.py:467]\u001b[0m GAN_loss/gen/final-g-loss: 1.0096\n",
      "\u001b[32m[1026 11:51:59 @monitor.py:467]\u001b[0m GAN_loss/gen/klloss: 0.070901\n",
      "\u001b[32m[1026 11:51:59 @monitor.py:467]\u001b[0m GAN_loss/gen/loss: 0.93874\n",
      "\u001b[32m[1026 11:51:59 @monitor.py:467]\u001b[0m QueueInput/queue_size: 50\n",
      "\u001b[32m[1026 11:51:59 @base.py:275]\u001b[0m Start Epoch 943 ...\n"
     ]
    },
    {
     "name": "stderr",
     "output_type": "stream",
     "text": [
      "100%|###################################################################################|175/175[00:05<00:00,31.44it/s]"
     ]
    },
    {
     "name": "stdout",
     "output_type": "stream",
     "text": [
      "\u001b[32m[1026 11:52:05 @base.py:285]\u001b[0m Epoch 943 (global_step 165025) finished, time:5.57 seconds.\n",
      "\u001b[32m[1026 11:52:05 @saver.py:79]\u001b[0m Model saved to ../output/Chicago/DATGAN2_1000/model\\model-165025.\n"
     ]
    },
    {
     "name": "stderr",
     "output_type": "stream",
     "text": [
      "\n"
     ]
    },
    {
     "name": "stdout",
     "output_type": "stream",
     "text": [
      "\u001b[32m[1026 11:52:05 @monitor.py:467]\u001b[0m GAN_loss/discrim/accuracy_fake: 0.982\n",
      "\u001b[32m[1026 11:52:05 @monitor.py:467]\u001b[0m GAN_loss/discrim/accuracy_real: 0.046\n",
      "\u001b[32m[1026 11:52:05 @monitor.py:467]\u001b[0m GAN_loss/discrim/loss: 0.64717\n",
      "\u001b[32m[1026 11:52:05 @monitor.py:467]\u001b[0m GAN_loss/gen/final-g-loss: 0.99208\n",
      "\u001b[32m[1026 11:52:05 @monitor.py:467]\u001b[0m GAN_loss/gen/klloss: 0.048062\n",
      "\u001b[32m[1026 11:52:05 @monitor.py:467]\u001b[0m GAN_loss/gen/loss: 0.94402\n",
      "\u001b[32m[1026 11:52:05 @monitor.py:467]\u001b[0m QueueInput/queue_size: 50\n",
      "\u001b[32m[1026 11:52:05 @base.py:275]\u001b[0m Start Epoch 944 ...\n"
     ]
    },
    {
     "name": "stderr",
     "output_type": "stream",
     "text": [
      "100%|###################################################################################|175/175[00:05<00:00,32.24it/s]"
     ]
    },
    {
     "name": "stdout",
     "output_type": "stream",
     "text": [
      "\u001b[32m[1026 11:52:10 @base.py:285]\u001b[0m Epoch 944 (global_step 165200) finished, time:5.43 seconds.\n"
     ]
    },
    {
     "name": "stderr",
     "output_type": "stream",
     "text": [
      "\n"
     ]
    },
    {
     "name": "stdout",
     "output_type": "stream",
     "text": [
      "\u001b[32m[1026 11:52:10 @saver.py:79]\u001b[0m Model saved to ../output/Chicago/DATGAN2_1000/model\\model-165200.\n",
      "\u001b[32m[1026 11:52:11 @monitor.py:467]\u001b[0m GAN_loss/discrim/accuracy_fake: 0.978\n",
      "\u001b[32m[1026 11:52:11 @monitor.py:467]\u001b[0m GAN_loss/discrim/accuracy_real: 0.048\n",
      "\u001b[32m[1026 11:52:11 @monitor.py:467]\u001b[0m GAN_loss/discrim/loss: 0.65258\n",
      "\u001b[32m[1026 11:52:11 @monitor.py:467]\u001b[0m GAN_loss/gen/final-g-loss: 1.0044\n",
      "\u001b[32m[1026 11:52:11 @monitor.py:467]\u001b[0m GAN_loss/gen/klloss: 0.059895\n",
      "\u001b[32m[1026 11:52:11 @monitor.py:467]\u001b[0m GAN_loss/gen/loss: 0.94446\n",
      "\u001b[32m[1026 11:52:11 @monitor.py:467]\u001b[0m QueueInput/queue_size: 50\n",
      "\u001b[32m[1026 11:52:11 @base.py:275]\u001b[0m Start Epoch 945 ...\n"
     ]
    },
    {
     "name": "stderr",
     "output_type": "stream",
     "text": [
      "100%|###################################################################################|175/175[00:05<00:00,31.98it/s]"
     ]
    },
    {
     "name": "stdout",
     "output_type": "stream",
     "text": [
      "\u001b[32m[1026 11:52:16 @base.py:285]\u001b[0m Epoch 945 (global_step 165375) finished, time:5.47 seconds.\n",
      "\u001b[32m[1026 11:52:16 @saver.py:79]\u001b[0m Model saved to ../output/Chicago/DATGAN2_1000/model\\model-165375.\n"
     ]
    },
    {
     "name": "stderr",
     "output_type": "stream",
     "text": [
      "\n"
     ]
    },
    {
     "name": "stdout",
     "output_type": "stream",
     "text": [
      "\u001b[32m[1026 11:52:16 @monitor.py:467]\u001b[0m GAN_loss/discrim/accuracy_fake: 0.966\n",
      "\u001b[32m[1026 11:52:16 @monitor.py:467]\u001b[0m GAN_loss/discrim/accuracy_real: 0.046\n",
      "\u001b[32m[1026 11:52:16 @monitor.py:467]\u001b[0m GAN_loss/discrim/loss: 0.65543\n",
      "\u001b[32m[1026 11:52:16 @monitor.py:467]\u001b[0m GAN_loss/gen/final-g-loss: 0.99546\n",
      "\u001b[32m[1026 11:52:16 @monitor.py:467]\u001b[0m GAN_loss/gen/klloss: 0.060186\n",
      "\u001b[32m[1026 11:52:16 @monitor.py:467]\u001b[0m GAN_loss/gen/loss: 0.93527\n",
      "\u001b[32m[1026 11:52:16 @monitor.py:467]\u001b[0m QueueInput/queue_size: 50\n",
      "\u001b[32m[1026 11:52:16 @base.py:275]\u001b[0m Start Epoch 946 ...\n"
     ]
    },
    {
     "name": "stderr",
     "output_type": "stream",
     "text": [
      "100%|###################################################################################|175/175[00:05<00:00,32.23it/s]"
     ]
    },
    {
     "name": "stdout",
     "output_type": "stream",
     "text": [
      "\u001b[32m[1026 11:52:22 @base.py:285]\u001b[0m Epoch 946 (global_step 165550) finished, time:5.43 seconds.\n"
     ]
    },
    {
     "name": "stderr",
     "output_type": "stream",
     "text": [
      "\n"
     ]
    },
    {
     "name": "stdout",
     "output_type": "stream",
     "text": [
      "\u001b[32m[1026 11:52:22 @saver.py:79]\u001b[0m Model saved to ../output/Chicago/DATGAN2_1000/model\\model-165550.\n",
      "\u001b[32m[1026 11:52:22 @monitor.py:467]\u001b[0m GAN_loss/discrim/accuracy_fake: 0.962\n",
      "\u001b[32m[1026 11:52:22 @monitor.py:467]\u001b[0m GAN_loss/discrim/accuracy_real: 0.054\n",
      "\u001b[32m[1026 11:52:22 @monitor.py:467]\u001b[0m GAN_loss/discrim/loss: 0.64878\n",
      "\u001b[32m[1026 11:52:22 @monitor.py:467]\u001b[0m GAN_loss/gen/final-g-loss: 1.0154\n",
      "\u001b[32m[1026 11:52:22 @monitor.py:467]\u001b[0m GAN_loss/gen/klloss: 0.070687\n",
      "\u001b[32m[1026 11:52:22 @monitor.py:467]\u001b[0m GAN_loss/gen/loss: 0.94472\n",
      "\u001b[32m[1026 11:52:22 @monitor.py:467]\u001b[0m QueueInput/queue_size: 50\n",
      "\u001b[32m[1026 11:52:22 @base.py:275]\u001b[0m Start Epoch 947 ...\n"
     ]
    },
    {
     "name": "stderr",
     "output_type": "stream",
     "text": [
      "100%|###################################################################################|175/175[00:05<00:00,32.20it/s]"
     ]
    },
    {
     "name": "stdout",
     "output_type": "stream",
     "text": [
      "\u001b[32m[1026 11:52:27 @base.py:285]\u001b[0m Epoch 947 (global_step 165725) finished, time:5.44 seconds.\n",
      "\u001b[32m[1026 11:52:28 @saver.py:79]\u001b[0m Model saved to ../output/Chicago/DATGAN2_1000/model\\model-165725.\n"
     ]
    },
    {
     "name": "stderr",
     "output_type": "stream",
     "text": [
      "\n"
     ]
    },
    {
     "name": "stdout",
     "output_type": "stream",
     "text": [
      "\u001b[32m[1026 11:52:28 @monitor.py:467]\u001b[0m GAN_loss/discrim/accuracy_fake: 0.976\n",
      "\u001b[32m[1026 11:52:28 @monitor.py:467]\u001b[0m GAN_loss/discrim/accuracy_real: 0.04\n",
      "\u001b[32m[1026 11:52:28 @monitor.py:467]\u001b[0m GAN_loss/discrim/loss: 0.64867\n",
      "\u001b[32m[1026 11:52:28 @monitor.py:467]\u001b[0m GAN_loss/gen/final-g-loss: 1.0016\n",
      "\u001b[32m[1026 11:52:28 @monitor.py:467]\u001b[0m GAN_loss/gen/klloss: 0.053762\n",
      "\u001b[32m[1026 11:52:28 @monitor.py:467]\u001b[0m GAN_loss/gen/loss: 0.94782\n",
      "\u001b[32m[1026 11:52:28 @monitor.py:467]\u001b[0m QueueInput/queue_size: 50\n",
      "\u001b[32m[1026 11:52:28 @base.py:275]\u001b[0m Start Epoch 948 ...\n"
     ]
    },
    {
     "name": "stderr",
     "output_type": "stream",
     "text": [
      "100%|###################################################################################|175/175[00:05<00:00,32.21it/s]"
     ]
    },
    {
     "name": "stdout",
     "output_type": "stream",
     "text": [
      "\u001b[32m[1026 11:52:33 @base.py:285]\u001b[0m Epoch 948 (global_step 165900) finished, time:5.43 seconds.\n"
     ]
    },
    {
     "name": "stderr",
     "output_type": "stream",
     "text": [
      "\n"
     ]
    },
    {
     "name": "stdout",
     "output_type": "stream",
     "text": [
      "\u001b[32m[1026 11:52:33 @saver.py:79]\u001b[0m Model saved to ../output/Chicago/DATGAN2_1000/model\\model-165900.\n",
      "\u001b[32m[1026 11:52:33 @monitor.py:467]\u001b[0m GAN_loss/discrim/accuracy_fake: 0.98\n",
      "\u001b[32m[1026 11:52:33 @monitor.py:467]\u001b[0m GAN_loss/discrim/accuracy_real: 0.05\n",
      "\u001b[32m[1026 11:52:33 @monitor.py:467]\u001b[0m GAN_loss/discrim/loss: 0.65037\n",
      "\u001b[32m[1026 11:52:33 @monitor.py:467]\u001b[0m GAN_loss/gen/final-g-loss: 0.99493\n",
      "\u001b[32m[1026 11:52:33 @monitor.py:467]\u001b[0m GAN_loss/gen/klloss: 0.051447\n",
      "\u001b[32m[1026 11:52:33 @monitor.py:467]\u001b[0m GAN_loss/gen/loss: 0.94349\n",
      "\u001b[32m[1026 11:52:33 @monitor.py:467]\u001b[0m QueueInput/queue_size: 50\n",
      "\u001b[32m[1026 11:52:33 @base.py:275]\u001b[0m Start Epoch 949 ...\n"
     ]
    },
    {
     "name": "stderr",
     "output_type": "stream",
     "text": [
      "100%|###################################################################################|175/175[00:05<00:00,32.16it/s]"
     ]
    },
    {
     "name": "stdout",
     "output_type": "stream",
     "text": [
      "\u001b[32m[1026 11:52:39 @base.py:285]\u001b[0m Epoch 949 (global_step 166075) finished, time:5.44 seconds.\n",
      "\u001b[32m[1026 11:52:39 @saver.py:79]\u001b[0m Model saved to ../output/Chicago/DATGAN2_1000/model\\model-166075.\n"
     ]
    },
    {
     "name": "stderr",
     "output_type": "stream",
     "text": [
      "\n"
     ]
    },
    {
     "name": "stdout",
     "output_type": "stream",
     "text": [
      "\u001b[32m[1026 11:52:39 @monitor.py:467]\u001b[0m GAN_loss/discrim/accuracy_fake: 0.982\n",
      "\u001b[32m[1026 11:52:39 @monitor.py:467]\u001b[0m GAN_loss/discrim/accuracy_real: 0.038\n",
      "\u001b[32m[1026 11:52:39 @monitor.py:467]\u001b[0m GAN_loss/discrim/loss: 0.65325\n",
      "\u001b[32m[1026 11:52:39 @monitor.py:467]\u001b[0m GAN_loss/gen/final-g-loss: 1.0221\n",
      "\u001b[32m[1026 11:52:39 @monitor.py:467]\u001b[0m GAN_loss/gen/klloss: 0.067882\n",
      "\u001b[32m[1026 11:52:39 @monitor.py:467]\u001b[0m GAN_loss/gen/loss: 0.95421\n",
      "\u001b[32m[1026 11:52:39 @monitor.py:467]\u001b[0m QueueInput/queue_size: 50\n",
      "\u001b[32m[1026 11:52:39 @base.py:275]\u001b[0m Start Epoch 950 ...\n"
     ]
    },
    {
     "name": "stderr",
     "output_type": "stream",
     "text": [
      "100%|###################################################################################|175/175[00:05<00:00,32.22it/s]"
     ]
    },
    {
     "name": "stdout",
     "output_type": "stream",
     "text": [
      "\u001b[32m[1026 11:52:45 @base.py:285]\u001b[0m Epoch 950 (global_step 166250) finished, time:5.43 seconds.\n"
     ]
    },
    {
     "name": "stderr",
     "output_type": "stream",
     "text": [
      "\n"
     ]
    },
    {
     "name": "stdout",
     "output_type": "stream",
     "text": [
      "\u001b[32m[1026 11:52:45 @saver.py:79]\u001b[0m Model saved to ../output/Chicago/DATGAN2_1000/model\\model-166250.\n",
      "\u001b[32m[1026 11:52:45 @monitor.py:467]\u001b[0m GAN_loss/discrim/accuracy_fake: 0.972\n",
      "\u001b[32m[1026 11:52:45 @monitor.py:467]\u001b[0m GAN_loss/discrim/accuracy_real: 0.042\n",
      "\u001b[32m[1026 11:52:45 @monitor.py:467]\u001b[0m GAN_loss/discrim/loss: 0.64652\n",
      "\u001b[32m[1026 11:52:45 @monitor.py:467]\u001b[0m GAN_loss/gen/final-g-loss: 0.98965\n",
      "\u001b[32m[1026 11:52:45 @monitor.py:467]\u001b[0m GAN_loss/gen/klloss: 0.044327\n",
      "\u001b[32m[1026 11:52:45 @monitor.py:467]\u001b[0m GAN_loss/gen/loss: 0.94532\n",
      "\u001b[32m[1026 11:52:45 @monitor.py:467]\u001b[0m QueueInput/queue_size: 50\n",
      "\u001b[32m[1026 11:52:45 @base.py:275]\u001b[0m Start Epoch 951 ...\n"
     ]
    },
    {
     "name": "stderr",
     "output_type": "stream",
     "text": [
      "100%|###################################################################################|175/175[00:05<00:00,32.14it/s]"
     ]
    },
    {
     "name": "stdout",
     "output_type": "stream",
     "text": [
      "\u001b[32m[1026 11:52:50 @base.py:285]\u001b[0m Epoch 951 (global_step 166425) finished, time:5.45 seconds.\n",
      "\u001b[32m[1026 11:52:50 @saver.py:79]\u001b[0m Model saved to ../output/Chicago/DATGAN2_1000/model\\model-166425.\n"
     ]
    },
    {
     "name": "stderr",
     "output_type": "stream",
     "text": [
      "\n"
     ]
    },
    {
     "name": "stdout",
     "output_type": "stream",
     "text": [
      "\u001b[32m[1026 11:52:50 @monitor.py:467]\u001b[0m GAN_loss/discrim/accuracy_fake: 0.98\n",
      "\u001b[32m[1026 11:52:50 @monitor.py:467]\u001b[0m GAN_loss/discrim/accuracy_real: 0.038\n",
      "\u001b[32m[1026 11:52:50 @monitor.py:467]\u001b[0m GAN_loss/discrim/loss: 0.648\n",
      "\u001b[32m[1026 11:52:50 @monitor.py:467]\u001b[0m GAN_loss/gen/final-g-loss: 1.0098\n",
      "\u001b[32m[1026 11:52:50 @monitor.py:467]\u001b[0m GAN_loss/gen/klloss: 0.071226\n",
      "\u001b[32m[1026 11:52:50 @monitor.py:467]\u001b[0m GAN_loss/gen/loss: 0.9386\n",
      "\u001b[32m[1026 11:52:50 @monitor.py:467]\u001b[0m QueueInput/queue_size: 50\n",
      "\u001b[32m[1026 11:52:50 @base.py:275]\u001b[0m Start Epoch 952 ...\n"
     ]
    },
    {
     "name": "stderr",
     "output_type": "stream",
     "text": [
      "100%|###################################################################################|175/175[00:05<00:00,32.23it/s]"
     ]
    },
    {
     "name": "stdout",
     "output_type": "stream",
     "text": [
      "\u001b[32m[1026 11:52:56 @base.py:285]\u001b[0m Epoch 952 (global_step 166600) finished, time:5.43 seconds.\n"
     ]
    },
    {
     "name": "stderr",
     "output_type": "stream",
     "text": [
      "\n"
     ]
    },
    {
     "name": "stdout",
     "output_type": "stream",
     "text": [
      "\u001b[32m[1026 11:52:56 @saver.py:79]\u001b[0m Model saved to ../output/Chicago/DATGAN2_1000/model\\model-166600.\n",
      "\u001b[32m[1026 11:52:56 @monitor.py:467]\u001b[0m GAN_loss/discrim/accuracy_fake: 0.964\n",
      "\u001b[32m[1026 11:52:56 @monitor.py:467]\u001b[0m GAN_loss/discrim/accuracy_real: 0.038\n",
      "\u001b[32m[1026 11:52:56 @monitor.py:467]\u001b[0m GAN_loss/discrim/loss: 0.64842\n",
      "\u001b[32m[1026 11:52:56 @monitor.py:467]\u001b[0m GAN_loss/gen/final-g-loss: 1.0038\n",
      "\u001b[32m[1026 11:52:56 @monitor.py:467]\u001b[0m GAN_loss/gen/klloss: 0.060008\n",
      "\u001b[32m[1026 11:52:56 @monitor.py:467]\u001b[0m GAN_loss/gen/loss: 0.94375\n",
      "\u001b[32m[1026 11:52:56 @monitor.py:467]\u001b[0m QueueInput/queue_size: 50\n",
      "\u001b[32m[1026 11:52:56 @base.py:275]\u001b[0m Start Epoch 953 ...\n"
     ]
    },
    {
     "name": "stderr",
     "output_type": "stream",
     "text": [
      "100%|###################################################################################|175/175[00:05<00:00,32.16it/s]"
     ]
    },
    {
     "name": "stdout",
     "output_type": "stream",
     "text": [
      "\u001b[32m[1026 11:53:02 @base.py:285]\u001b[0m Epoch 953 (global_step 166775) finished, time:5.44 seconds.\n",
      "\u001b[32m[1026 11:53:02 @saver.py:79]\u001b[0m Model saved to ../output/Chicago/DATGAN2_1000/model\\model-166775.\n"
     ]
    },
    {
     "name": "stderr",
     "output_type": "stream",
     "text": [
      "\n"
     ]
    },
    {
     "name": "stdout",
     "output_type": "stream",
     "text": [
      "\u001b[32m[1026 11:53:02 @monitor.py:467]\u001b[0m GAN_loss/discrim/accuracy_fake: 0.972\n",
      "\u001b[32m[1026 11:53:02 @monitor.py:467]\u001b[0m GAN_loss/discrim/accuracy_real: 0.03\n",
      "\u001b[32m[1026 11:53:02 @monitor.py:467]\u001b[0m GAN_loss/discrim/loss: 0.65166\n",
      "\u001b[32m[1026 11:53:02 @monitor.py:467]\u001b[0m GAN_loss/gen/final-g-loss: 0.98277\n",
      "\u001b[32m[1026 11:53:02 @monitor.py:467]\u001b[0m GAN_loss/gen/klloss: 0.043567\n",
      "\u001b[32m[1026 11:53:02 @monitor.py:467]\u001b[0m GAN_loss/gen/loss: 0.9392\n",
      "\u001b[32m[1026 11:53:02 @monitor.py:467]\u001b[0m QueueInput/queue_size: 50\n",
      "\u001b[32m[1026 11:53:02 @base.py:275]\u001b[0m Start Epoch 954 ...\n"
     ]
    },
    {
     "name": "stderr",
     "output_type": "stream",
     "text": [
      "100%|###################################################################################|175/175[00:05<00:00,32.19it/s]"
     ]
    },
    {
     "name": "stdout",
     "output_type": "stream",
     "text": [
      "\u001b[32m[1026 11:53:07 @base.py:285]\u001b[0m Epoch 954 (global_step 166950) finished, time:5.44 seconds.\n"
     ]
    },
    {
     "name": "stderr",
     "output_type": "stream",
     "text": [
      "\n"
     ]
    },
    {
     "name": "stdout",
     "output_type": "stream",
     "text": [
      "\u001b[32m[1026 11:53:07 @saver.py:79]\u001b[0m Model saved to ../output/Chicago/DATGAN2_1000/model\\model-166950.\n",
      "\u001b[32m[1026 11:53:07 @monitor.py:467]\u001b[0m GAN_loss/discrim/accuracy_fake: 0.974\n",
      "\u001b[32m[1026 11:53:07 @monitor.py:467]\u001b[0m GAN_loss/discrim/accuracy_real: 0.048\n",
      "\u001b[32m[1026 11:53:07 @monitor.py:467]\u001b[0m GAN_loss/discrim/loss: 0.64775\n",
      "\u001b[32m[1026 11:53:08 @monitor.py:467]\u001b[0m GAN_loss/gen/final-g-loss: 0.98353\n",
      "\u001b[32m[1026 11:53:08 @monitor.py:467]\u001b[0m GAN_loss/gen/klloss: 0.046018\n",
      "\u001b[32m[1026 11:53:08 @monitor.py:467]\u001b[0m GAN_loss/gen/loss: 0.93751\n",
      "\u001b[32m[1026 11:53:08 @monitor.py:467]\u001b[0m QueueInput/queue_size: 50\n",
      "\u001b[32m[1026 11:53:08 @base.py:275]\u001b[0m Start Epoch 955 ...\n"
     ]
    },
    {
     "name": "stderr",
     "output_type": "stream",
     "text": [
      "100%|###################################################################################|175/175[00:05<00:00,32.17it/s]"
     ]
    },
    {
     "name": "stdout",
     "output_type": "stream",
     "text": [
      "\u001b[32m[1026 11:53:13 @base.py:285]\u001b[0m Epoch 955 (global_step 167125) finished, time:5.44 seconds.\n",
      "\u001b[32m[1026 11:53:13 @saver.py:79]\u001b[0m Model saved to ../output/Chicago/DATGAN2_1000/model\\model-167125.\n"
     ]
    },
    {
     "name": "stderr",
     "output_type": "stream",
     "text": [
      "\n"
     ]
    },
    {
     "name": "stdout",
     "output_type": "stream",
     "text": [
      "\u001b[32m[1026 11:53:13 @monitor.py:467]\u001b[0m GAN_loss/discrim/accuracy_fake: 0.98\n",
      "\u001b[32m[1026 11:53:13 @monitor.py:467]\u001b[0m GAN_loss/discrim/accuracy_real: 0.048\n",
      "\u001b[32m[1026 11:53:13 @monitor.py:467]\u001b[0m GAN_loss/discrim/loss: 0.64826\n",
      "\u001b[32m[1026 11:53:13 @monitor.py:467]\u001b[0m GAN_loss/gen/final-g-loss: 0.9984\n",
      "\u001b[32m[1026 11:53:13 @monitor.py:467]\u001b[0m GAN_loss/gen/klloss: 0.052037\n",
      "\u001b[32m[1026 11:53:13 @monitor.py:467]\u001b[0m GAN_loss/gen/loss: 0.94636\n",
      "\u001b[32m[1026 11:53:13 @monitor.py:467]\u001b[0m QueueInput/queue_size: 50\n",
      "\u001b[32m[1026 11:53:13 @base.py:275]\u001b[0m Start Epoch 956 ...\n"
     ]
    },
    {
     "name": "stderr",
     "output_type": "stream",
     "text": [
      "100%|###################################################################################|175/175[00:05<00:00,32.20it/s]"
     ]
    },
    {
     "name": "stdout",
     "output_type": "stream",
     "text": [
      "\u001b[32m[1026 11:53:19 @base.py:285]\u001b[0m Epoch 956 (global_step 167300) finished, time:5.43 seconds.\n"
     ]
    },
    {
     "name": "stderr",
     "output_type": "stream",
     "text": [
      "\n"
     ]
    },
    {
     "name": "stdout",
     "output_type": "stream",
     "text": [
      "\u001b[32m[1026 11:53:19 @saver.py:79]\u001b[0m Model saved to ../output/Chicago/DATGAN2_1000/model\\model-167300.\n",
      "\u001b[32m[1026 11:53:19 @monitor.py:467]\u001b[0m GAN_loss/discrim/accuracy_fake: 0.962\n",
      "\u001b[32m[1026 11:53:19 @monitor.py:467]\u001b[0m GAN_loss/discrim/accuracy_real: 0.046\n",
      "\u001b[32m[1026 11:53:19 @monitor.py:467]\u001b[0m GAN_loss/discrim/loss: 0.64992\n",
      "\u001b[32m[1026 11:53:19 @monitor.py:467]\u001b[0m GAN_loss/gen/final-g-loss: 0.99515\n",
      "\u001b[32m[1026 11:53:19 @monitor.py:467]\u001b[0m GAN_loss/gen/klloss: 0.049414\n",
      "\u001b[32m[1026 11:53:19 @monitor.py:467]\u001b[0m GAN_loss/gen/loss: 0.94574\n",
      "\u001b[32m[1026 11:53:19 @monitor.py:467]\u001b[0m QueueInput/queue_size: 50\n",
      "\u001b[32m[1026 11:53:19 @base.py:275]\u001b[0m Start Epoch 957 ...\n"
     ]
    },
    {
     "name": "stderr",
     "output_type": "stream",
     "text": [
      "100%|###################################################################################|175/175[00:05<00:00,32.22it/s]"
     ]
    },
    {
     "name": "stdout",
     "output_type": "stream",
     "text": [
      "\u001b[32m[1026 11:53:24 @base.py:285]\u001b[0m Epoch 957 (global_step 167475) finished, time:5.43 seconds.\n",
      "\u001b[32m[1026 11:53:24 @saver.py:79]\u001b[0m Model saved to ../output/Chicago/DATGAN2_1000/model\\model-167475.\n"
     ]
    },
    {
     "name": "stderr",
     "output_type": "stream",
     "text": [
      "\n"
     ]
    },
    {
     "name": "stdout",
     "output_type": "stream",
     "text": [
      "\u001b[32m[1026 11:53:25 @monitor.py:467]\u001b[0m GAN_loss/discrim/accuracy_fake: 0.984\n",
      "\u001b[32m[1026 11:53:25 @monitor.py:467]\u001b[0m GAN_loss/discrim/accuracy_real: 0.044\n",
      "\u001b[32m[1026 11:53:25 @monitor.py:467]\u001b[0m GAN_loss/discrim/loss: 0.64965\n",
      "\u001b[32m[1026 11:53:25 @monitor.py:467]\u001b[0m GAN_loss/gen/final-g-loss: 1.0309\n",
      "\u001b[32m[1026 11:53:25 @monitor.py:467]\u001b[0m GAN_loss/gen/klloss: 0.087242\n",
      "\u001b[32m[1026 11:53:25 @monitor.py:467]\u001b[0m GAN_loss/gen/loss: 0.94362\n",
      "\u001b[32m[1026 11:53:25 @monitor.py:467]\u001b[0m QueueInput/queue_size: 50\n",
      "\u001b[32m[1026 11:53:25 @base.py:275]\u001b[0m Start Epoch 958 ...\n"
     ]
    },
    {
     "name": "stderr",
     "output_type": "stream",
     "text": [
      "100%|###################################################################################|175/175[00:05<00:00,32.22it/s]"
     ]
    },
    {
     "name": "stdout",
     "output_type": "stream",
     "text": [
      "\u001b[32m[1026 11:53:30 @base.py:285]\u001b[0m Epoch 958 (global_step 167650) finished, time:5.43 seconds.\n"
     ]
    },
    {
     "name": "stderr",
     "output_type": "stream",
     "text": [
      "\n"
     ]
    },
    {
     "name": "stdout",
     "output_type": "stream",
     "text": [
      "\u001b[32m[1026 11:53:30 @saver.py:79]\u001b[0m Model saved to ../output/Chicago/DATGAN2_1000/model\\model-167650.\n",
      "\u001b[32m[1026 11:53:30 @monitor.py:467]\u001b[0m GAN_loss/discrim/accuracy_fake: 0.972\n",
      "\u001b[32m[1026 11:53:30 @monitor.py:467]\u001b[0m GAN_loss/discrim/accuracy_real: 0.038\n",
      "\u001b[32m[1026 11:53:30 @monitor.py:467]\u001b[0m GAN_loss/discrim/loss: 0.65079\n",
      "\u001b[32m[1026 11:53:30 @monitor.py:467]\u001b[0m GAN_loss/gen/final-g-loss: 1.0118\n",
      "\u001b[32m[1026 11:53:30 @monitor.py:467]\u001b[0m GAN_loss/gen/klloss: 0.074593\n",
      "\u001b[32m[1026 11:53:30 @monitor.py:467]\u001b[0m GAN_loss/gen/loss: 0.93717\n",
      "\u001b[32m[1026 11:53:30 @monitor.py:467]\u001b[0m QueueInput/queue_size: 50\n",
      "\u001b[32m[1026 11:53:30 @base.py:275]\u001b[0m Start Epoch 959 ...\n"
     ]
    },
    {
     "name": "stderr",
     "output_type": "stream",
     "text": [
      "100%|###################################################################################|175/175[00:05<00:00,32.18it/s]"
     ]
    },
    {
     "name": "stdout",
     "output_type": "stream",
     "text": [
      "\u001b[32m[1026 11:53:36 @base.py:285]\u001b[0m Epoch 959 (global_step 167825) finished, time:5.44 seconds.\n",
      "\u001b[32m[1026 11:53:36 @saver.py:79]\u001b[0m Model saved to ../output/Chicago/DATGAN2_1000/model\\model-167825.\n"
     ]
    },
    {
     "name": "stderr",
     "output_type": "stream",
     "text": [
      "\n"
     ]
    },
    {
     "name": "stdout",
     "output_type": "stream",
     "text": [
      "\u001b[32m[1026 11:53:36 @monitor.py:467]\u001b[0m GAN_loss/discrim/accuracy_fake: 0.968\n",
      "\u001b[32m[1026 11:53:36 @monitor.py:467]\u001b[0m GAN_loss/discrim/accuracy_real: 0.044\n",
      "\u001b[32m[1026 11:53:36 @monitor.py:467]\u001b[0m GAN_loss/discrim/loss: 0.64515\n",
      "\u001b[32m[1026 11:53:36 @monitor.py:467]\u001b[0m GAN_loss/gen/final-g-loss: 0.99692\n",
      "\u001b[32m[1026 11:53:36 @monitor.py:467]\u001b[0m GAN_loss/gen/klloss: 0.055398\n",
      "\u001b[32m[1026 11:53:36 @monitor.py:467]\u001b[0m GAN_loss/gen/loss: 0.94152\n",
      "\u001b[32m[1026 11:53:36 @monitor.py:467]\u001b[0m QueueInput/queue_size: 50\n",
      "\u001b[32m[1026 11:53:36 @base.py:275]\u001b[0m Start Epoch 960 ...\n"
     ]
    },
    {
     "name": "stderr",
     "output_type": "stream",
     "text": [
      "100%|###################################################################################|175/175[00:05<00:00,32.23it/s]"
     ]
    },
    {
     "name": "stdout",
     "output_type": "stream",
     "text": [
      "\u001b[32m[1026 11:53:41 @base.py:285]\u001b[0m Epoch 960 (global_step 168000) finished, time:5.43 seconds.\n"
     ]
    },
    {
     "name": "stderr",
     "output_type": "stream",
     "text": [
      "\n"
     ]
    },
    {
     "name": "stdout",
     "output_type": "stream",
     "text": [
      "\u001b[32m[1026 11:53:41 @saver.py:79]\u001b[0m Model saved to ../output/Chicago/DATGAN2_1000/model\\model-168000.\n",
      "\u001b[32m[1026 11:53:42 @monitor.py:467]\u001b[0m GAN_loss/discrim/accuracy_fake: 0.974\n",
      "\u001b[32m[1026 11:53:42 @monitor.py:467]\u001b[0m GAN_loss/discrim/accuracy_real: 0.052\n",
      "\u001b[32m[1026 11:53:42 @monitor.py:467]\u001b[0m GAN_loss/discrim/loss: 0.64852\n",
      "\u001b[32m[1026 11:53:42 @monitor.py:467]\u001b[0m GAN_loss/gen/final-g-loss: 1.0186\n",
      "\u001b[32m[1026 11:53:42 @monitor.py:467]\u001b[0m GAN_loss/gen/klloss: 0.073788\n",
      "\u001b[32m[1026 11:53:42 @monitor.py:467]\u001b[0m GAN_loss/gen/loss: 0.94478\n",
      "\u001b[32m[1026 11:53:42 @monitor.py:467]\u001b[0m QueueInput/queue_size: 50\n",
      "\u001b[32m[1026 11:53:42 @base.py:275]\u001b[0m Start Epoch 961 ...\n"
     ]
    },
    {
     "name": "stderr",
     "output_type": "stream",
     "text": [
      "100%|###################################################################################|175/175[00:05<00:00,32.17it/s]"
     ]
    },
    {
     "name": "stdout",
     "output_type": "stream",
     "text": [
      "\u001b[32m[1026 11:53:47 @base.py:285]\u001b[0m Epoch 961 (global_step 168175) finished, time:5.44 seconds.\n",
      "\u001b[32m[1026 11:53:47 @saver.py:79]\u001b[0m Model saved to ../output/Chicago/DATGAN2_1000/model\\model-168175.\n"
     ]
    },
    {
     "name": "stderr",
     "output_type": "stream",
     "text": [
      "\n"
     ]
    },
    {
     "name": "stdout",
     "output_type": "stream",
     "text": [
      "\u001b[32m[1026 11:53:47 @monitor.py:467]\u001b[0m GAN_loss/discrim/accuracy_fake: 0.96\n",
      "\u001b[32m[1026 11:53:47 @monitor.py:467]\u001b[0m GAN_loss/discrim/accuracy_real: 0.03\n",
      "\u001b[32m[1026 11:53:47 @monitor.py:467]\u001b[0m GAN_loss/discrim/loss: 0.6496\n",
      "\u001b[32m[1026 11:53:47 @monitor.py:467]\u001b[0m GAN_loss/gen/final-g-loss: 0.99098\n",
      "\u001b[32m[1026 11:53:47 @monitor.py:467]\u001b[0m GAN_loss/gen/klloss: 0.04805\n",
      "\u001b[32m[1026 11:53:47 @monitor.py:467]\u001b[0m GAN_loss/gen/loss: 0.94293\n",
      "\u001b[32m[1026 11:53:47 @monitor.py:467]\u001b[0m QueueInput/queue_size: 50\n",
      "\u001b[32m[1026 11:53:47 @base.py:275]\u001b[0m Start Epoch 962 ...\n"
     ]
    },
    {
     "name": "stderr",
     "output_type": "stream",
     "text": [
      "100%|###################################################################################|175/175[00:05<00:00,32.24it/s]"
     ]
    },
    {
     "name": "stdout",
     "output_type": "stream",
     "text": [
      "\u001b[32m[1026 11:53:53 @base.py:285]\u001b[0m Epoch 962 (global_step 168350) finished, time:5.43 seconds.\n"
     ]
    },
    {
     "name": "stderr",
     "output_type": "stream",
     "text": [
      "\n"
     ]
    },
    {
     "name": "stdout",
     "output_type": "stream",
     "text": [
      "\u001b[32m[1026 11:53:53 @saver.py:79]\u001b[0m Model saved to ../output/Chicago/DATGAN2_1000/model\\model-168350.\n",
      "\u001b[32m[1026 11:53:53 @monitor.py:467]\u001b[0m GAN_loss/discrim/accuracy_fake: 0.98\n",
      "\u001b[32m[1026 11:53:53 @monitor.py:467]\u001b[0m GAN_loss/discrim/accuracy_real: 0.026\n",
      "\u001b[32m[1026 11:53:53 @monitor.py:467]\u001b[0m GAN_loss/discrim/loss: 0.65217\n",
      "\u001b[32m[1026 11:53:53 @monitor.py:467]\u001b[0m GAN_loss/gen/final-g-loss: 0.99378\n",
      "\u001b[32m[1026 11:53:53 @monitor.py:467]\u001b[0m GAN_loss/gen/klloss: 0.04419\n",
      "\u001b[32m[1026 11:53:53 @monitor.py:467]\u001b[0m GAN_loss/gen/loss: 0.94959\n",
      "\u001b[32m[1026 11:53:53 @monitor.py:467]\u001b[0m QueueInput/queue_size: 50\n",
      "\u001b[32m[1026 11:53:53 @base.py:275]\u001b[0m Start Epoch 963 ...\n"
     ]
    },
    {
     "name": "stderr",
     "output_type": "stream",
     "text": [
      "100%|###################################################################################|175/175[00:05<00:00,32.19it/s]"
     ]
    },
    {
     "name": "stdout",
     "output_type": "stream",
     "text": [
      "\u001b[32m[1026 11:53:58 @base.py:285]\u001b[0m Epoch 963 (global_step 168525) finished, time:5.44 seconds.\n",
      "\u001b[32m[1026 11:53:58 @saver.py:79]\u001b[0m Model saved to ../output/Chicago/DATGAN2_1000/model\\model-168525.\n"
     ]
    },
    {
     "name": "stderr",
     "output_type": "stream",
     "text": [
      "\n"
     ]
    },
    {
     "name": "stdout",
     "output_type": "stream",
     "text": [
      "\u001b[32m[1026 11:53:59 @monitor.py:467]\u001b[0m GAN_loss/discrim/accuracy_fake: 0.958\n",
      "\u001b[32m[1026 11:53:59 @monitor.py:467]\u001b[0m GAN_loss/discrim/accuracy_real: 0.052\n",
      "\u001b[32m[1026 11:53:59 @monitor.py:467]\u001b[0m GAN_loss/discrim/loss: 0.65457\n",
      "\u001b[32m[1026 11:53:59 @monitor.py:467]\u001b[0m GAN_loss/gen/final-g-loss: 1.0071\n",
      "\u001b[32m[1026 11:53:59 @monitor.py:467]\u001b[0m GAN_loss/gen/klloss: 0.06651\n",
      "\u001b[32m[1026 11:53:59 @monitor.py:467]\u001b[0m GAN_loss/gen/loss: 0.94057\n",
      "\u001b[32m[1026 11:53:59 @monitor.py:467]\u001b[0m QueueInput/queue_size: 50\n",
      "\u001b[32m[1026 11:53:59 @base.py:275]\u001b[0m Start Epoch 964 ...\n"
     ]
    },
    {
     "name": "stderr",
     "output_type": "stream",
     "text": [
      "100%|###################################################################################|175/175[00:05<00:00,32.23it/s]"
     ]
    },
    {
     "name": "stdout",
     "output_type": "stream",
     "text": [
      "\u001b[32m[1026 11:54:04 @base.py:285]\u001b[0m Epoch 964 (global_step 168700) finished, time:5.43 seconds.\n"
     ]
    },
    {
     "name": "stderr",
     "output_type": "stream",
     "text": [
      "\n"
     ]
    },
    {
     "name": "stdout",
     "output_type": "stream",
     "text": [
      "\u001b[32m[1026 11:54:04 @saver.py:79]\u001b[0m Model saved to ../output/Chicago/DATGAN2_1000/model\\model-168700.\n",
      "\u001b[32m[1026 11:54:04 @monitor.py:467]\u001b[0m GAN_loss/discrim/accuracy_fake: 0.976\n",
      "\u001b[32m[1026 11:54:04 @monitor.py:467]\u001b[0m GAN_loss/discrim/accuracy_real: 0.046\n",
      "\u001b[32m[1026 11:54:04 @monitor.py:467]\u001b[0m GAN_loss/discrim/loss: 0.64336\n",
      "\u001b[32m[1026 11:54:04 @monitor.py:467]\u001b[0m GAN_loss/gen/final-g-loss: 1.0518\n",
      "\u001b[32m[1026 11:54:04 @monitor.py:467]\u001b[0m GAN_loss/gen/klloss: 0.099282\n",
      "\u001b[32m[1026 11:54:04 @monitor.py:467]\u001b[0m GAN_loss/gen/loss: 0.95248\n",
      "\u001b[32m[1026 11:54:04 @monitor.py:467]\u001b[0m QueueInput/queue_size: 50\n",
      "\u001b[32m[1026 11:54:04 @base.py:275]\u001b[0m Start Epoch 965 ...\n"
     ]
    },
    {
     "name": "stderr",
     "output_type": "stream",
     "text": [
      "100%|###################################################################################|175/175[00:05<00:00,32.19it/s]"
     ]
    },
    {
     "name": "stdout",
     "output_type": "stream",
     "text": [
      "\u001b[32m[1026 11:54:10 @base.py:285]\u001b[0m Epoch 965 (global_step 168875) finished, time:5.44 seconds.\n",
      "\u001b[32m[1026 11:54:10 @saver.py:79]\u001b[0m Model saved to ../output/Chicago/DATGAN2_1000/model\\model-168875.\n"
     ]
    },
    {
     "name": "stderr",
     "output_type": "stream",
     "text": [
      "\n"
     ]
    },
    {
     "name": "stdout",
     "output_type": "stream",
     "text": [
      "\u001b[32m[1026 11:54:10 @monitor.py:467]\u001b[0m GAN_loss/discrim/accuracy_fake: 0.984\n",
      "\u001b[32m[1026 11:54:10 @monitor.py:467]\u001b[0m GAN_loss/discrim/accuracy_real: 0.04\n",
      "\u001b[32m[1026 11:54:10 @monitor.py:467]\u001b[0m GAN_loss/discrim/loss: 0.64919\n",
      "\u001b[32m[1026 11:54:10 @monitor.py:467]\u001b[0m GAN_loss/gen/final-g-loss: 1.0159\n",
      "\u001b[32m[1026 11:54:10 @monitor.py:467]\u001b[0m GAN_loss/gen/klloss: 0.073568\n",
      "\u001b[32m[1026 11:54:10 @monitor.py:467]\u001b[0m GAN_loss/gen/loss: 0.94233\n",
      "\u001b[32m[1026 11:54:10 @monitor.py:467]\u001b[0m QueueInput/queue_size: 50\n",
      "\u001b[32m[1026 11:54:10 @base.py:275]\u001b[0m Start Epoch 966 ...\n"
     ]
    },
    {
     "name": "stderr",
     "output_type": "stream",
     "text": [
      "100%|###################################################################################|175/175[00:05<00:00,32.20it/s]"
     ]
    },
    {
     "name": "stdout",
     "output_type": "stream",
     "text": [
      "\u001b[32m[1026 11:54:15 @base.py:285]\u001b[0m Epoch 966 (global_step 169050) finished, time:5.43 seconds.\n"
     ]
    },
    {
     "name": "stderr",
     "output_type": "stream",
     "text": [
      "\n"
     ]
    },
    {
     "name": "stdout",
     "output_type": "stream",
     "text": [
      "\u001b[32m[1026 11:54:16 @saver.py:79]\u001b[0m Model saved to ../output/Chicago/DATGAN2_1000/model\\model-169050.\n",
      "\u001b[32m[1026 11:54:16 @monitor.py:467]\u001b[0m GAN_loss/discrim/accuracy_fake: 0.974\n",
      "\u001b[32m[1026 11:54:16 @monitor.py:467]\u001b[0m GAN_loss/discrim/accuracy_real: 0.062\n",
      "\u001b[32m[1026 11:54:16 @monitor.py:467]\u001b[0m GAN_loss/discrim/loss: 0.64987\n",
      "\u001b[32m[1026 11:54:16 @monitor.py:467]\u001b[0m GAN_loss/gen/final-g-loss: 0.98816\n",
      "\u001b[32m[1026 11:54:16 @monitor.py:467]\u001b[0m GAN_loss/gen/klloss: 0.053472\n",
      "\u001b[32m[1026 11:54:16 @monitor.py:467]\u001b[0m GAN_loss/gen/loss: 0.93468\n",
      "\u001b[32m[1026 11:54:16 @monitor.py:467]\u001b[0m QueueInput/queue_size: 50\n",
      "\u001b[32m[1026 11:54:16 @base.py:275]\u001b[0m Start Epoch 967 ...\n"
     ]
    },
    {
     "name": "stderr",
     "output_type": "stream",
     "text": [
      "100%|###################################################################################|175/175[00:05<00:00,32.20it/s]"
     ]
    },
    {
     "name": "stdout",
     "output_type": "stream",
     "text": [
      "\u001b[32m[1026 11:54:21 @base.py:285]\u001b[0m Epoch 967 (global_step 169225) finished, time:5.44 seconds.\n",
      "\u001b[32m[1026 11:54:21 @saver.py:79]\u001b[0m Model saved to ../output/Chicago/DATGAN2_1000/model\\model-169225.\n"
     ]
    },
    {
     "name": "stderr",
     "output_type": "stream",
     "text": [
      "\n"
     ]
    },
    {
     "name": "stdout",
     "output_type": "stream",
     "text": [
      "\u001b[32m[1026 11:54:21 @monitor.py:467]\u001b[0m GAN_loss/discrim/accuracy_fake: 0.99\n",
      "\u001b[32m[1026 11:54:21 @monitor.py:467]\u001b[0m GAN_loss/discrim/accuracy_real: 0.036\n",
      "\u001b[32m[1026 11:54:21 @monitor.py:467]\u001b[0m GAN_loss/discrim/loss: 0.64542\n",
      "\u001b[32m[1026 11:54:21 @monitor.py:467]\u001b[0m GAN_loss/gen/final-g-loss: 1.0164\n",
      "\u001b[32m[1026 11:54:21 @monitor.py:467]\u001b[0m GAN_loss/gen/klloss: 0.064778\n",
      "\u001b[32m[1026 11:54:21 @monitor.py:467]\u001b[0m GAN_loss/gen/loss: 0.95161\n",
      "\u001b[32m[1026 11:54:21 @monitor.py:467]\u001b[0m QueueInput/queue_size: 50\n",
      "\u001b[32m[1026 11:54:21 @base.py:275]\u001b[0m Start Epoch 968 ...\n"
     ]
    },
    {
     "name": "stderr",
     "output_type": "stream",
     "text": [
      "100%|###################################################################################|175/175[00:05<00:00,32.24it/s]"
     ]
    },
    {
     "name": "stdout",
     "output_type": "stream",
     "text": [
      "\u001b[32m[1026 11:54:27 @base.py:285]\u001b[0m Epoch 968 (global_step 169400) finished, time:5.43 seconds.\n"
     ]
    },
    {
     "name": "stderr",
     "output_type": "stream",
     "text": [
      "\n"
     ]
    },
    {
     "name": "stdout",
     "output_type": "stream",
     "text": [
      "\u001b[32m[1026 11:54:27 @saver.py:79]\u001b[0m Model saved to ../output/Chicago/DATGAN2_1000/model\\model-169400.\n",
      "\u001b[32m[1026 11:54:27 @monitor.py:467]\u001b[0m GAN_loss/discrim/accuracy_fake: 0.984\n",
      "\u001b[32m[1026 11:54:27 @monitor.py:467]\u001b[0m GAN_loss/discrim/accuracy_real: 0.046\n",
      "\u001b[32m[1026 11:54:27 @monitor.py:467]\u001b[0m GAN_loss/discrim/loss: 0.65146\n",
      "\u001b[32m[1026 11:54:27 @monitor.py:467]\u001b[0m GAN_loss/gen/final-g-loss: 0.99343\n",
      "\u001b[32m[1026 11:54:27 @monitor.py:467]\u001b[0m GAN_loss/gen/klloss: 0.051483\n",
      "\u001b[32m[1026 11:54:27 @monitor.py:467]\u001b[0m GAN_loss/gen/loss: 0.94195\n",
      "\u001b[32m[1026 11:54:27 @monitor.py:467]\u001b[0m QueueInput/queue_size: 50\n",
      "\u001b[32m[1026 11:54:27 @base.py:275]\u001b[0m Start Epoch 969 ...\n"
     ]
    },
    {
     "name": "stderr",
     "output_type": "stream",
     "text": [
      "100%|###################################################################################|175/175[00:05<00:00,32.17it/s]"
     ]
    },
    {
     "name": "stdout",
     "output_type": "stream",
     "text": [
      "\u001b[32m[1026 11:54:33 @base.py:285]\u001b[0m Epoch 969 (global_step 169575) finished, time:5.44 seconds.\n",
      "\u001b[32m[1026 11:54:33 @saver.py:79]\u001b[0m Model saved to ../output/Chicago/DATGAN2_1000/model\\model-169575.\n"
     ]
    },
    {
     "name": "stderr",
     "output_type": "stream",
     "text": [
      "\n"
     ]
    },
    {
     "name": "stdout",
     "output_type": "stream",
     "text": [
      "\u001b[32m[1026 11:54:33 @monitor.py:467]\u001b[0m GAN_loss/discrim/accuracy_fake: 0.978\n",
      "\u001b[32m[1026 11:54:33 @monitor.py:467]\u001b[0m GAN_loss/discrim/accuracy_real: 0.042\n",
      "\u001b[32m[1026 11:54:33 @monitor.py:467]\u001b[0m GAN_loss/discrim/loss: 0.65198\n",
      "\u001b[32m[1026 11:54:33 @monitor.py:467]\u001b[0m GAN_loss/gen/final-g-loss: 1.0195\n",
      "\u001b[32m[1026 11:54:33 @monitor.py:467]\u001b[0m GAN_loss/gen/klloss: 0.073931\n",
      "\u001b[32m[1026 11:54:33 @monitor.py:467]\u001b[0m GAN_loss/gen/loss: 0.94556\n",
      "\u001b[32m[1026 11:54:33 @monitor.py:467]\u001b[0m QueueInput/queue_size: 50\n",
      "\u001b[32m[1026 11:54:33 @base.py:275]\u001b[0m Start Epoch 970 ...\n"
     ]
    },
    {
     "name": "stderr",
     "output_type": "stream",
     "text": [
      "100%|###################################################################################|175/175[00:05<00:00,32.22it/s]"
     ]
    },
    {
     "name": "stdout",
     "output_type": "stream",
     "text": [
      "\u001b[32m[1026 11:54:38 @base.py:285]\u001b[0m Epoch 970 (global_step 169750) finished, time:5.43 seconds.\n"
     ]
    },
    {
     "name": "stderr",
     "output_type": "stream",
     "text": [
      "\n"
     ]
    },
    {
     "name": "stdout",
     "output_type": "stream",
     "text": [
      "\u001b[32m[1026 11:54:38 @saver.py:79]\u001b[0m Model saved to ../output/Chicago/DATGAN2_1000/model\\model-169750.\n",
      "\u001b[32m[1026 11:54:38 @monitor.py:467]\u001b[0m GAN_loss/discrim/accuracy_fake: 0.968\n",
      "\u001b[32m[1026 11:54:38 @monitor.py:467]\u001b[0m GAN_loss/discrim/accuracy_real: 0.038\n",
      "\u001b[32m[1026 11:54:38 @monitor.py:467]\u001b[0m GAN_loss/discrim/loss: 0.64715\n",
      "\u001b[32m[1026 11:54:38 @monitor.py:467]\u001b[0m GAN_loss/gen/final-g-loss: 0.99404\n",
      "\u001b[32m[1026 11:54:38 @monitor.py:467]\u001b[0m GAN_loss/gen/klloss: 0.050714\n",
      "\u001b[32m[1026 11:54:38 @monitor.py:467]\u001b[0m GAN_loss/gen/loss: 0.94333\n",
      "\u001b[32m[1026 11:54:38 @monitor.py:467]\u001b[0m QueueInput/queue_size: 50\n",
      "\u001b[32m[1026 11:54:38 @base.py:275]\u001b[0m Start Epoch 971 ...\n"
     ]
    },
    {
     "name": "stderr",
     "output_type": "stream",
     "text": [
      "100%|###################################################################################|175/175[00:05<00:00,32.17it/s]"
     ]
    },
    {
     "name": "stdout",
     "output_type": "stream",
     "text": [
      "\u001b[32m[1026 11:54:44 @base.py:285]\u001b[0m Epoch 971 (global_step 169925) finished, time:5.44 seconds.\n"
     ]
    },
    {
     "name": "stderr",
     "output_type": "stream",
     "text": [
      "\n"
     ]
    },
    {
     "name": "stdout",
     "output_type": "stream",
     "text": [
      "\u001b[32m[1026 11:54:44 @saver.py:79]\u001b[0m Model saved to ../output/Chicago/DATGAN2_1000/model\\model-169925.\n",
      "\u001b[32m[1026 11:54:44 @monitor.py:467]\u001b[0m GAN_loss/discrim/accuracy_fake: 0.976\n",
      "\u001b[32m[1026 11:54:44 @monitor.py:467]\u001b[0m GAN_loss/discrim/accuracy_real: 0.048\n",
      "\u001b[32m[1026 11:54:44 @monitor.py:467]\u001b[0m GAN_loss/discrim/loss: 0.64963\n",
      "\u001b[32m[1026 11:54:44 @monitor.py:467]\u001b[0m GAN_loss/gen/final-g-loss: 0.99324\n",
      "\u001b[32m[1026 11:54:44 @monitor.py:467]\u001b[0m GAN_loss/gen/klloss: 0.049901\n",
      "\u001b[32m[1026 11:54:44 @monitor.py:467]\u001b[0m GAN_loss/gen/loss: 0.94334\n",
      "\u001b[32m[1026 11:54:44 @monitor.py:467]\u001b[0m QueueInput/queue_size: 50\n",
      "\u001b[32m[1026 11:54:44 @base.py:275]\u001b[0m Start Epoch 972 ...\n"
     ]
    },
    {
     "name": "stderr",
     "output_type": "stream",
     "text": [
      "100%|###################################################################################|175/175[00:05<00:00,32.21it/s]"
     ]
    },
    {
     "name": "stdout",
     "output_type": "stream",
     "text": [
      "\u001b[32m[1026 11:54:50 @base.py:285]\u001b[0m Epoch 972 (global_step 170100) finished, time:5.43 seconds.\n"
     ]
    },
    {
     "name": "stderr",
     "output_type": "stream",
     "text": [
      "\n"
     ]
    },
    {
     "name": "stdout",
     "output_type": "stream",
     "text": [
      "\u001b[32m[1026 11:54:50 @saver.py:79]\u001b[0m Model saved to ../output/Chicago/DATGAN2_1000/model\\model-170100.\n",
      "\u001b[32m[1026 11:54:50 @monitor.py:467]\u001b[0m GAN_loss/discrim/accuracy_fake: 0.99\n",
      "\u001b[32m[1026 11:54:50 @monitor.py:467]\u001b[0m GAN_loss/discrim/accuracy_real: 0.036\n",
      "\u001b[32m[1026 11:54:50 @monitor.py:467]\u001b[0m GAN_loss/discrim/loss: 0.64221\n",
      "\u001b[32m[1026 11:54:50 @monitor.py:467]\u001b[0m GAN_loss/gen/final-g-loss: 1.0414\n",
      "\u001b[32m[1026 11:54:50 @monitor.py:467]\u001b[0m GAN_loss/gen/klloss: 0.080823\n",
      "\u001b[32m[1026 11:54:50 @monitor.py:467]\u001b[0m GAN_loss/gen/loss: 0.96058\n",
      "\u001b[32m[1026 11:54:50 @monitor.py:467]\u001b[0m QueueInput/queue_size: 50\n",
      "\u001b[32m[1026 11:54:50 @base.py:275]\u001b[0m Start Epoch 973 ...\n"
     ]
    },
    {
     "name": "stderr",
     "output_type": "stream",
     "text": [
      "100%|###################################################################################|175/175[00:05<00:00,32.24it/s]"
     ]
    },
    {
     "name": "stdout",
     "output_type": "stream",
     "text": [
      "\u001b[32m[1026 11:54:55 @base.py:285]\u001b[0m Epoch 973 (global_step 170275) finished, time:5.43 seconds.\n"
     ]
    },
    {
     "name": "stderr",
     "output_type": "stream",
     "text": [
      "\n"
     ]
    },
    {
     "name": "stdout",
     "output_type": "stream",
     "text": [
      "\u001b[32m[1026 11:54:55 @saver.py:79]\u001b[0m Model saved to ../output/Chicago/DATGAN2_1000/model\\model-170275.\n",
      "\u001b[32m[1026 11:54:56 @monitor.py:467]\u001b[0m GAN_loss/discrim/accuracy_fake: 0.972\n",
      "\u001b[32m[1026 11:54:56 @monitor.py:467]\u001b[0m GAN_loss/discrim/accuracy_real: 0.034\n",
      "\u001b[32m[1026 11:54:56 @monitor.py:467]\u001b[0m GAN_loss/discrim/loss: 0.65134\n",
      "\u001b[32m[1026 11:54:56 @monitor.py:467]\u001b[0m GAN_loss/gen/final-g-loss: 0.9907\n",
      "\u001b[32m[1026 11:54:56 @monitor.py:467]\u001b[0m GAN_loss/gen/klloss: 0.047627\n",
      "\u001b[32m[1026 11:54:56 @monitor.py:467]\u001b[0m GAN_loss/gen/loss: 0.94307\n",
      "\u001b[32m[1026 11:54:56 @monitor.py:467]\u001b[0m QueueInput/queue_size: 50\n",
      "\u001b[32m[1026 11:54:56 @base.py:275]\u001b[0m Start Epoch 974 ...\n"
     ]
    },
    {
     "name": "stderr",
     "output_type": "stream",
     "text": [
      "100%|###################################################################################|175/175[00:05<00:00,32.16it/s]"
     ]
    },
    {
     "name": "stdout",
     "output_type": "stream",
     "text": [
      "\u001b[32m[1026 11:55:01 @base.py:285]\u001b[0m Epoch 974 (global_step 170450) finished, time:5.44 seconds.\n"
     ]
    },
    {
     "name": "stderr",
     "output_type": "stream",
     "text": [
      "\n"
     ]
    },
    {
     "name": "stdout",
     "output_type": "stream",
     "text": [
      "\u001b[32m[1026 11:55:01 @saver.py:79]\u001b[0m Model saved to ../output/Chicago/DATGAN2_1000/model\\model-170450.\n",
      "\u001b[32m[1026 11:55:01 @monitor.py:467]\u001b[0m GAN_loss/discrim/accuracy_fake: 0.98\n",
      "\u001b[32m[1026 11:55:01 @monitor.py:467]\u001b[0m GAN_loss/discrim/accuracy_real: 0.038\n",
      "\u001b[32m[1026 11:55:01 @monitor.py:467]\u001b[0m GAN_loss/discrim/loss: 0.64774\n",
      "\u001b[32m[1026 11:55:01 @monitor.py:467]\u001b[0m GAN_loss/gen/final-g-loss: 0.99823\n",
      "\u001b[32m[1026 11:55:01 @monitor.py:467]\u001b[0m GAN_loss/gen/klloss: 0.054596\n",
      "\u001b[32m[1026 11:55:01 @monitor.py:467]\u001b[0m GAN_loss/gen/loss: 0.94364\n",
      "\u001b[32m[1026 11:55:01 @monitor.py:467]\u001b[0m QueueInput/queue_size: 50\n",
      "\u001b[32m[1026 11:55:01 @base.py:275]\u001b[0m Start Epoch 975 ...\n"
     ]
    },
    {
     "name": "stderr",
     "output_type": "stream",
     "text": [
      "100%|###################################################################################|175/175[00:05<00:00,32.22it/s]"
     ]
    },
    {
     "name": "stdout",
     "output_type": "stream",
     "text": [
      "\u001b[32m[1026 11:55:07 @base.py:285]\u001b[0m Epoch 975 (global_step 170625) finished, time:5.43 seconds.\n"
     ]
    },
    {
     "name": "stderr",
     "output_type": "stream",
     "text": [
      "\n"
     ]
    },
    {
     "name": "stdout",
     "output_type": "stream",
     "text": [
      "\u001b[32m[1026 11:55:07 @saver.py:79]\u001b[0m Model saved to ../output/Chicago/DATGAN2_1000/model\\model-170625.\n",
      "\u001b[32m[1026 11:55:07 @monitor.py:467]\u001b[0m GAN_loss/discrim/accuracy_fake: 0.954\n",
      "\u001b[32m[1026 11:55:07 @monitor.py:467]\u001b[0m GAN_loss/discrim/accuracy_real: 0.036\n",
      "\u001b[32m[1026 11:55:07 @monitor.py:467]\u001b[0m GAN_loss/discrim/loss: 0.65305\n",
      "\u001b[32m[1026 11:55:07 @monitor.py:467]\u001b[0m GAN_loss/gen/final-g-loss: 1.0042\n",
      "\u001b[32m[1026 11:55:07 @monitor.py:467]\u001b[0m GAN_loss/gen/klloss: 0.063048\n",
      "\u001b[32m[1026 11:55:07 @monitor.py:467]\u001b[0m GAN_loss/gen/loss: 0.94117\n",
      "\u001b[32m[1026 11:55:07 @monitor.py:467]\u001b[0m QueueInput/queue_size: 50\n",
      "\u001b[32m[1026 11:55:07 @base.py:275]\u001b[0m Start Epoch 976 ...\n"
     ]
    },
    {
     "name": "stderr",
     "output_type": "stream",
     "text": [
      "100%|###################################################################################|175/175[00:05<00:00,32.18it/s]"
     ]
    },
    {
     "name": "stdout",
     "output_type": "stream",
     "text": [
      "\u001b[32m[1026 11:55:12 @base.py:285]\u001b[0m Epoch 976 (global_step 170800) finished, time:5.44 seconds.\n"
     ]
    },
    {
     "name": "stderr",
     "output_type": "stream",
     "text": [
      "\n"
     ]
    },
    {
     "name": "stdout",
     "output_type": "stream",
     "text": [
      "\u001b[32m[1026 11:55:12 @saver.py:79]\u001b[0m Model saved to ../output/Chicago/DATGAN2_1000/model\\model-170800.\n",
      "\u001b[32m[1026 11:55:13 @monitor.py:467]\u001b[0m GAN_loss/discrim/accuracy_fake: 0.976\n",
      "\u001b[32m[1026 11:55:13 @monitor.py:467]\u001b[0m GAN_loss/discrim/accuracy_real: 0.046\n",
      "\u001b[32m[1026 11:55:13 @monitor.py:467]\u001b[0m GAN_loss/discrim/loss: 0.6484\n",
      "\u001b[32m[1026 11:55:13 @monitor.py:467]\u001b[0m GAN_loss/gen/final-g-loss: 1.0071\n",
      "\u001b[32m[1026 11:55:13 @monitor.py:467]\u001b[0m GAN_loss/gen/klloss: 0.065637\n",
      "\u001b[32m[1026 11:55:13 @monitor.py:467]\u001b[0m GAN_loss/gen/loss: 0.94143\n",
      "\u001b[32m[1026 11:55:13 @monitor.py:467]\u001b[0m QueueInput/queue_size: 50\n",
      "\u001b[32m[1026 11:55:13 @base.py:275]\u001b[0m Start Epoch 977 ...\n"
     ]
    },
    {
     "name": "stderr",
     "output_type": "stream",
     "text": [
      "100%|###################################################################################|175/175[00:05<00:00,32.21it/s]"
     ]
    },
    {
     "name": "stdout",
     "output_type": "stream",
     "text": [
      "\u001b[32m[1026 11:55:18 @base.py:285]\u001b[0m Epoch 977 (global_step 170975) finished, time:5.43 seconds.\n"
     ]
    },
    {
     "name": "stderr",
     "output_type": "stream",
     "text": [
      "\n"
     ]
    },
    {
     "name": "stdout",
     "output_type": "stream",
     "text": [
      "\u001b[32m[1026 11:55:18 @saver.py:79]\u001b[0m Model saved to ../output/Chicago/DATGAN2_1000/model\\model-170975.\n",
      "\u001b[32m[1026 11:55:18 @monitor.py:467]\u001b[0m GAN_loss/discrim/accuracy_fake: 0.966\n",
      "\u001b[32m[1026 11:55:18 @monitor.py:467]\u001b[0m GAN_loss/discrim/accuracy_real: 0.032\n",
      "\u001b[32m[1026 11:55:18 @monitor.py:467]\u001b[0m GAN_loss/discrim/loss: 0.65326\n",
      "\u001b[32m[1026 11:55:18 @monitor.py:467]\u001b[0m GAN_loss/gen/final-g-loss: 0.99225\n",
      "\u001b[32m[1026 11:55:18 @monitor.py:467]\u001b[0m GAN_loss/gen/klloss: 0.057195\n",
      "\u001b[32m[1026 11:55:18 @monitor.py:467]\u001b[0m GAN_loss/gen/loss: 0.93506\n",
      "\u001b[32m[1026 11:55:18 @monitor.py:467]\u001b[0m QueueInput/queue_size: 50\n",
      "\u001b[32m[1026 11:55:18 @base.py:275]\u001b[0m Start Epoch 978 ...\n"
     ]
    },
    {
     "name": "stderr",
     "output_type": "stream",
     "text": [
      "100%|###################################################################################|175/175[00:05<00:00,32.17it/s]"
     ]
    },
    {
     "name": "stdout",
     "output_type": "stream",
     "text": [
      "\u001b[32m[1026 11:55:24 @base.py:285]\u001b[0m Epoch 978 (global_step 171150) finished, time:5.44 seconds.\n"
     ]
    },
    {
     "name": "stderr",
     "output_type": "stream",
     "text": [
      "\n"
     ]
    },
    {
     "name": "stdout",
     "output_type": "stream",
     "text": [
      "\u001b[32m[1026 11:55:24 @saver.py:79]\u001b[0m Model saved to ../output/Chicago/DATGAN2_1000/model\\model-171150.\n",
      "\u001b[32m[1026 11:55:24 @monitor.py:467]\u001b[0m GAN_loss/discrim/accuracy_fake: 0.976\n",
      "\u001b[32m[1026 11:55:24 @monitor.py:467]\u001b[0m GAN_loss/discrim/accuracy_real: 0.034\n",
      "\u001b[32m[1026 11:55:24 @monitor.py:467]\u001b[0m GAN_loss/discrim/loss: 0.64398\n",
      "\u001b[32m[1026 11:55:24 @monitor.py:467]\u001b[0m GAN_loss/gen/final-g-loss: 1.0103\n",
      "\u001b[32m[1026 11:55:24 @monitor.py:467]\u001b[0m GAN_loss/gen/klloss: 0.06845\n",
      "\u001b[32m[1026 11:55:24 @monitor.py:467]\u001b[0m GAN_loss/gen/loss: 0.94189\n",
      "\u001b[32m[1026 11:55:24 @monitor.py:467]\u001b[0m QueueInput/queue_size: 50\n",
      "\u001b[32m[1026 11:55:24 @base.py:275]\u001b[0m Start Epoch 979 ...\n"
     ]
    },
    {
     "name": "stderr",
     "output_type": "stream",
     "text": [
      "100%|###################################################################################|175/175[00:05<00:00,32.19it/s]"
     ]
    },
    {
     "name": "stdout",
     "output_type": "stream",
     "text": [
      "\u001b[32m[1026 11:55:29 @base.py:285]\u001b[0m Epoch 979 (global_step 171325) finished, time:5.44 seconds.\n",
      "\u001b[32m[1026 11:55:30 @saver.py:79]\u001b[0m Model saved to ../output/Chicago/DATGAN2_1000/model\\model-171325.\n"
     ]
    },
    {
     "name": "stderr",
     "output_type": "stream",
     "text": [
      "\n"
     ]
    },
    {
     "name": "stdout",
     "output_type": "stream",
     "text": [
      "\u001b[32m[1026 11:55:30 @monitor.py:467]\u001b[0m GAN_loss/discrim/accuracy_fake: 0.962\n",
      "\u001b[32m[1026 11:55:30 @monitor.py:467]\u001b[0m GAN_loss/discrim/accuracy_real: 0.03\n",
      "\u001b[32m[1026 11:55:30 @monitor.py:467]\u001b[0m GAN_loss/discrim/loss: 0.64761\n",
      "\u001b[32m[1026 11:55:30 @monitor.py:467]\u001b[0m GAN_loss/gen/final-g-loss: 1.0076\n",
      "\u001b[32m[1026 11:55:30 @monitor.py:467]\u001b[0m GAN_loss/gen/klloss: 0.060841\n",
      "\u001b[32m[1026 11:55:30 @monitor.py:467]\u001b[0m GAN_loss/gen/loss: 0.94678\n",
      "\u001b[32m[1026 11:55:30 @monitor.py:467]\u001b[0m QueueInput/queue_size: 50\n",
      "\u001b[32m[1026 11:55:30 @base.py:275]\u001b[0m Start Epoch 980 ...\n"
     ]
    },
    {
     "name": "stderr",
     "output_type": "stream",
     "text": [
      "100%|###################################################################################|175/175[00:05<00:00,32.23it/s]"
     ]
    },
    {
     "name": "stdout",
     "output_type": "stream",
     "text": [
      "\u001b[32m[1026 11:55:35 @base.py:285]\u001b[0m Epoch 980 (global_step 171500) finished, time:5.43 seconds.\n",
      "\u001b[32m[1026 11:55:35 @saver.py:79]\u001b[0m Model saved to ../output/Chicago/DATGAN2_1000/model\\model-171500.\n"
     ]
    },
    {
     "name": "stderr",
     "output_type": "stream",
     "text": [
      "\n"
     ]
    },
    {
     "name": "stdout",
     "output_type": "stream",
     "text": [
      "\u001b[32m[1026 11:55:35 @monitor.py:467]\u001b[0m GAN_loss/discrim/accuracy_fake: 0.972\n",
      "\u001b[32m[1026 11:55:35 @monitor.py:467]\u001b[0m GAN_loss/discrim/accuracy_real: 0.042\n",
      "\u001b[32m[1026 11:55:35 @monitor.py:467]\u001b[0m GAN_loss/discrim/loss: 0.65045\n",
      "\u001b[32m[1026 11:55:35 @monitor.py:467]\u001b[0m GAN_loss/gen/final-g-loss: 1.0004\n",
      "\u001b[32m[1026 11:55:35 @monitor.py:467]\u001b[0m GAN_loss/gen/klloss: 0.061333\n",
      "\u001b[32m[1026 11:55:35 @monitor.py:467]\u001b[0m GAN_loss/gen/loss: 0.93911\n",
      "\u001b[32m[1026 11:55:35 @monitor.py:467]\u001b[0m QueueInput/queue_size: 50\n",
      "\u001b[32m[1026 11:55:35 @base.py:275]\u001b[0m Start Epoch 981 ...\n"
     ]
    },
    {
     "name": "stderr",
     "output_type": "stream",
     "text": [
      "100%|###################################################################################|175/175[00:05<00:00,32.24it/s]"
     ]
    },
    {
     "name": "stdout",
     "output_type": "stream",
     "text": [
      "\u001b[32m[1026 11:55:41 @base.py:285]\u001b[0m Epoch 981 (global_step 171675) finished, time:5.43 seconds.\n"
     ]
    },
    {
     "name": "stderr",
     "output_type": "stream",
     "text": [
      "\n"
     ]
    },
    {
     "name": "stdout",
     "output_type": "stream",
     "text": [
      "\u001b[32m[1026 11:55:41 @saver.py:79]\u001b[0m Model saved to ../output/Chicago/DATGAN2_1000/model\\model-171675.\n",
      "\u001b[32m[1026 11:55:41 @monitor.py:467]\u001b[0m GAN_loss/discrim/accuracy_fake: 0.976\n",
      "\u001b[32m[1026 11:55:41 @monitor.py:467]\u001b[0m GAN_loss/discrim/accuracy_real: 0.046\n",
      "\u001b[32m[1026 11:55:41 @monitor.py:467]\u001b[0m GAN_loss/discrim/loss: 0.65267\n",
      "\u001b[32m[1026 11:55:41 @monitor.py:467]\u001b[0m GAN_loss/gen/final-g-loss: 1.0033\n",
      "\u001b[32m[1026 11:55:41 @monitor.py:467]\u001b[0m GAN_loss/gen/klloss: 0.055542\n",
      "\u001b[32m[1026 11:55:41 @monitor.py:467]\u001b[0m GAN_loss/gen/loss: 0.94773\n",
      "\u001b[32m[1026 11:55:41 @monitor.py:467]\u001b[0m QueueInput/queue_size: 50\n",
      "\u001b[32m[1026 11:55:41 @base.py:275]\u001b[0m Start Epoch 982 ...\n"
     ]
    },
    {
     "name": "stderr",
     "output_type": "stream",
     "text": [
      "100%|###################################################################################|175/175[00:05<00:00,32.22it/s]"
     ]
    },
    {
     "name": "stdout",
     "output_type": "stream",
     "text": [
      "\u001b[32m[1026 11:55:46 @base.py:285]\u001b[0m Epoch 982 (global_step 171850) finished, time:5.43 seconds.\n",
      "\u001b[32m[1026 11:55:47 @saver.py:79]\u001b[0m Model saved to ../output/Chicago/DATGAN2_1000/model\\model-171850.\n"
     ]
    },
    {
     "name": "stderr",
     "output_type": "stream",
     "text": [
      "\n"
     ]
    },
    {
     "name": "stdout",
     "output_type": "stream",
     "text": [
      "\u001b[32m[1026 11:55:47 @monitor.py:467]\u001b[0m GAN_loss/discrim/accuracy_fake: 0.982\n",
      "\u001b[32m[1026 11:55:47 @monitor.py:467]\u001b[0m GAN_loss/discrim/accuracy_real: 0.028\n",
      "\u001b[32m[1026 11:55:47 @monitor.py:467]\u001b[0m GAN_loss/discrim/loss: 0.6517\n",
      "\u001b[32m[1026 11:55:47 @monitor.py:467]\u001b[0m GAN_loss/gen/final-g-loss: 1.0025\n",
      "\u001b[32m[1026 11:55:47 @monitor.py:467]\u001b[0m GAN_loss/gen/klloss: 0.053567\n",
      "\u001b[32m[1026 11:55:47 @monitor.py:467]\u001b[0m GAN_loss/gen/loss: 0.94898\n",
      "\u001b[32m[1026 11:55:47 @monitor.py:467]\u001b[0m QueueInput/queue_size: 50\n",
      "\u001b[32m[1026 11:55:47 @base.py:275]\u001b[0m Start Epoch 983 ...\n"
     ]
    },
    {
     "name": "stderr",
     "output_type": "stream",
     "text": [
      "100%|###################################################################################|175/175[00:05<00:00,32.10it/s]"
     ]
    },
    {
     "name": "stdout",
     "output_type": "stream",
     "text": [
      "\u001b[32m[1026 11:55:52 @base.py:285]\u001b[0m Epoch 983 (global_step 172025) finished, time:5.45 seconds.\n"
     ]
    },
    {
     "name": "stderr",
     "output_type": "stream",
     "text": [
      "\n"
     ]
    },
    {
     "name": "stdout",
     "output_type": "stream",
     "text": [
      "\u001b[32m[1026 11:55:52 @saver.py:79]\u001b[0m Model saved to ../output/Chicago/DATGAN2_1000/model\\model-172025.\n",
      "\u001b[32m[1026 11:55:52 @monitor.py:467]\u001b[0m GAN_loss/discrim/accuracy_fake: 0.958\n",
      "\u001b[32m[1026 11:55:52 @monitor.py:467]\u001b[0m GAN_loss/discrim/accuracy_real: 0.042\n",
      "\u001b[32m[1026 11:55:52 @monitor.py:467]\u001b[0m GAN_loss/discrim/loss: 0.65237\n",
      "\u001b[32m[1026 11:55:52 @monitor.py:467]\u001b[0m GAN_loss/gen/final-g-loss: 1.0257\n",
      "\u001b[32m[1026 11:55:52 @monitor.py:467]\u001b[0m GAN_loss/gen/klloss: 0.081931\n",
      "\u001b[32m[1026 11:55:52 @monitor.py:467]\u001b[0m GAN_loss/gen/loss: 0.94377\n",
      "\u001b[32m[1026 11:55:52 @monitor.py:467]\u001b[0m QueueInput/queue_size: 50\n",
      "\u001b[32m[1026 11:55:52 @base.py:275]\u001b[0m Start Epoch 984 ...\n"
     ]
    },
    {
     "name": "stderr",
     "output_type": "stream",
     "text": [
      "100%|###################################################################################|175/175[00:05<00:00,32.09it/s]"
     ]
    },
    {
     "name": "stdout",
     "output_type": "stream",
     "text": [
      "\u001b[32m[1026 11:55:58 @base.py:285]\u001b[0m Epoch 984 (global_step 172200) finished, time:5.45 seconds.\n",
      "\u001b[32m[1026 11:55:58 @saver.py:79]\u001b[0m Model saved to ../output/Chicago/DATGAN2_1000/model\\model-172200.\n"
     ]
    },
    {
     "name": "stderr",
     "output_type": "stream",
     "text": [
      "\n"
     ]
    },
    {
     "name": "stdout",
     "output_type": "stream",
     "text": [
      "\u001b[32m[1026 11:55:58 @monitor.py:467]\u001b[0m GAN_loss/discrim/accuracy_fake: 0.974\n",
      "\u001b[32m[1026 11:55:58 @monitor.py:467]\u001b[0m GAN_loss/discrim/accuracy_real: 0.03\n",
      "\u001b[32m[1026 11:55:58 @monitor.py:467]\u001b[0m GAN_loss/discrim/loss: 0.65243\n",
      "\u001b[32m[1026 11:55:58 @monitor.py:467]\u001b[0m GAN_loss/gen/final-g-loss: 1.0232\n",
      "\u001b[32m[1026 11:55:58 @monitor.py:467]\u001b[0m GAN_loss/gen/klloss: 0.08506\n",
      "\u001b[32m[1026 11:55:58 @monitor.py:467]\u001b[0m GAN_loss/gen/loss: 0.93809\n",
      "\u001b[32m[1026 11:55:58 @monitor.py:467]\u001b[0m QueueInput/queue_size: 50\n",
      "\u001b[32m[1026 11:55:58 @base.py:275]\u001b[0m Start Epoch 985 ...\n"
     ]
    },
    {
     "name": "stderr",
     "output_type": "stream",
     "text": [
      "100%|###################################################################################|175/175[00:05<00:00,31.73it/s]"
     ]
    },
    {
     "name": "stdout",
     "output_type": "stream",
     "text": [
      "\u001b[32m[1026 11:56:04 @base.py:285]\u001b[0m Epoch 985 (global_step 172375) finished, time:5.52 seconds.\n",
      "\u001b[32m[1026 11:56:04 @saver.py:79]\u001b[0m Model saved to ../output/Chicago/DATGAN2_1000/model\\model-172375.\n"
     ]
    },
    {
     "name": "stderr",
     "output_type": "stream",
     "text": [
      "\n"
     ]
    },
    {
     "name": "stdout",
     "output_type": "stream",
     "text": [
      "\u001b[32m[1026 11:56:04 @monitor.py:467]\u001b[0m GAN_loss/discrim/accuracy_fake: 0.986\n",
      "\u001b[32m[1026 11:56:04 @monitor.py:467]\u001b[0m GAN_loss/discrim/accuracy_real: 0.03\n",
      "\u001b[32m[1026 11:56:04 @monitor.py:467]\u001b[0m GAN_loss/discrim/loss: 0.64877\n",
      "\u001b[32m[1026 11:56:04 @monitor.py:467]\u001b[0m GAN_loss/gen/final-g-loss: 1.002\n",
      "\u001b[32m[1026 11:56:04 @monitor.py:467]\u001b[0m GAN_loss/gen/klloss: 0.053021\n",
      "\u001b[32m[1026 11:56:04 @monitor.py:467]\u001b[0m GAN_loss/gen/loss: 0.94894\n",
      "\u001b[32m[1026 11:56:04 @monitor.py:467]\u001b[0m QueueInput/queue_size: 50\n",
      "\u001b[32m[1026 11:56:04 @base.py:275]\u001b[0m Start Epoch 986 ...\n"
     ]
    },
    {
     "name": "stderr",
     "output_type": "stream",
     "text": [
      "100%|###################################################################################|175/175[00:05<00:00,31.99it/s]"
     ]
    },
    {
     "name": "stdout",
     "output_type": "stream",
     "text": [
      "\u001b[32m[1026 11:56:09 @base.py:285]\u001b[0m Epoch 986 (global_step 172550) finished, time:5.47 seconds.\n",
      "\u001b[32m[1026 11:56:09 @saver.py:79]\u001b[0m Model saved to ../output/Chicago/DATGAN2_1000/model\\model-172550.\n"
     ]
    },
    {
     "name": "stderr",
     "output_type": "stream",
     "text": [
      "\n"
     ]
    },
    {
     "name": "stdout",
     "output_type": "stream",
     "text": [
      "\u001b[32m[1026 11:56:10 @monitor.py:467]\u001b[0m GAN_loss/discrim/accuracy_fake: 0.97\n",
      "\u001b[32m[1026 11:56:10 @monitor.py:467]\u001b[0m GAN_loss/discrim/accuracy_real: 0.054\n",
      "\u001b[32m[1026 11:56:10 @monitor.py:467]\u001b[0m GAN_loss/discrim/loss: 0.64606\n",
      "\u001b[32m[1026 11:56:10 @monitor.py:467]\u001b[0m GAN_loss/gen/final-g-loss: 0.97961\n",
      "\u001b[32m[1026 11:56:10 @monitor.py:467]\u001b[0m GAN_loss/gen/klloss: 0.037356\n",
      "\u001b[32m[1026 11:56:10 @monitor.py:467]\u001b[0m GAN_loss/gen/loss: 0.94225\n",
      "\u001b[32m[1026 11:56:10 @monitor.py:467]\u001b[0m QueueInput/queue_size: 50\n",
      "\u001b[32m[1026 11:56:10 @base.py:275]\u001b[0m Start Epoch 987 ...\n"
     ]
    },
    {
     "name": "stderr",
     "output_type": "stream",
     "text": [
      "100%|###################################################################################|175/175[00:05<00:00,32.19it/s]"
     ]
    },
    {
     "name": "stdout",
     "output_type": "stream",
     "text": [
      "\u001b[32m[1026 11:56:15 @base.py:285]\u001b[0m Epoch 987 (global_step 172725) finished, time:5.44 seconds.\n",
      "\u001b[32m[1026 11:56:15 @saver.py:79]\u001b[0m Model saved to ../output/Chicago/DATGAN2_1000/model\\model-172725.\n"
     ]
    },
    {
     "name": "stderr",
     "output_type": "stream",
     "text": [
      "\n"
     ]
    },
    {
     "name": "stdout",
     "output_type": "stream",
     "text": [
      "\u001b[32m[1026 11:56:15 @monitor.py:467]\u001b[0m GAN_loss/discrim/accuracy_fake: 0.98\n",
      "\u001b[32m[1026 11:56:15 @monitor.py:467]\u001b[0m GAN_loss/discrim/accuracy_real: 0.036\n",
      "\u001b[32m[1026 11:56:15 @monitor.py:467]\u001b[0m GAN_loss/discrim/loss: 0.64656\n",
      "\u001b[32m[1026 11:56:15 @monitor.py:467]\u001b[0m GAN_loss/gen/final-g-loss: 1.02\n",
      "\u001b[32m[1026 11:56:15 @monitor.py:467]\u001b[0m GAN_loss/gen/klloss: 0.075669\n",
      "\u001b[32m[1026 11:56:15 @monitor.py:467]\u001b[0m GAN_loss/gen/loss: 0.94435\n",
      "\u001b[32m[1026 11:56:15 @monitor.py:467]\u001b[0m QueueInput/queue_size: 50\n",
      "\u001b[32m[1026 11:56:15 @base.py:275]\u001b[0m Start Epoch 988 ...\n"
     ]
    },
    {
     "name": "stderr",
     "output_type": "stream",
     "text": [
      "100%|###################################################################################|175/175[00:05<00:00,32.16it/s]"
     ]
    },
    {
     "name": "stdout",
     "output_type": "stream",
     "text": [
      "\u001b[32m[1026 11:56:21 @base.py:285]\u001b[0m Epoch 988 (global_step 172900) finished, time:5.44 seconds.\n",
      "\u001b[32m[1026 11:56:21 @saver.py:79]\u001b[0m Model saved to ../output/Chicago/DATGAN2_1000/model\\model-172900.\n"
     ]
    },
    {
     "name": "stderr",
     "output_type": "stream",
     "text": [
      "\n"
     ]
    },
    {
     "name": "stdout",
     "output_type": "stream",
     "text": [
      "\u001b[32m[1026 11:56:21 @monitor.py:467]\u001b[0m GAN_loss/discrim/accuracy_fake: 0.968\n",
      "\u001b[32m[1026 11:56:21 @monitor.py:467]\u001b[0m GAN_loss/discrim/accuracy_real: 0.062\n",
      "\u001b[32m[1026 11:56:21 @monitor.py:467]\u001b[0m GAN_loss/discrim/loss: 0.64759\n",
      "\u001b[32m[1026 11:56:21 @monitor.py:467]\u001b[0m GAN_loss/gen/final-g-loss: 0.9904\n",
      "\u001b[32m[1026 11:56:21 @monitor.py:467]\u001b[0m GAN_loss/gen/klloss: 0.046623\n",
      "\u001b[32m[1026 11:56:21 @monitor.py:467]\u001b[0m GAN_loss/gen/loss: 0.94377\n",
      "\u001b[32m[1026 11:56:21 @monitor.py:467]\u001b[0m QueueInput/queue_size: 50\n",
      "\u001b[32m[1026 11:56:21 @base.py:275]\u001b[0m Start Epoch 989 ...\n"
     ]
    },
    {
     "name": "stderr",
     "output_type": "stream",
     "text": [
      "100%|###################################################################################|175/175[00:05<00:00,31.56it/s]"
     ]
    },
    {
     "name": "stdout",
     "output_type": "stream",
     "text": [
      "\u001b[32m[1026 11:56:27 @base.py:285]\u001b[0m Epoch 989 (global_step 173075) finished, time:5.55 seconds.\n",
      "\u001b[32m[1026 11:56:27 @saver.py:79]\u001b[0m Model saved to ../output/Chicago/DATGAN2_1000/model\\model-173075.\n"
     ]
    },
    {
     "name": "stderr",
     "output_type": "stream",
     "text": [
      "\n"
     ]
    },
    {
     "name": "stdout",
     "output_type": "stream",
     "text": [
      "\u001b[32m[1026 11:56:27 @monitor.py:467]\u001b[0m GAN_loss/discrim/accuracy_fake: 0.96\n",
      "\u001b[32m[1026 11:56:27 @monitor.py:467]\u001b[0m GAN_loss/discrim/accuracy_real: 0.054\n",
      "\u001b[32m[1026 11:56:27 @monitor.py:467]\u001b[0m GAN_loss/discrim/loss: 0.65036\n",
      "\u001b[32m[1026 11:56:27 @monitor.py:467]\u001b[0m GAN_loss/gen/final-g-loss: 1.0156\n",
      "\u001b[32m[1026 11:56:27 @monitor.py:467]\u001b[0m GAN_loss/gen/klloss: 0.067778\n",
      "\u001b[32m[1026 11:56:27 @monitor.py:467]\u001b[0m GAN_loss/gen/loss: 0.94786\n",
      "\u001b[32m[1026 11:56:27 @monitor.py:467]\u001b[0m QueueInput/queue_size: 50\n",
      "\u001b[32m[1026 11:56:27 @base.py:275]\u001b[0m Start Epoch 990 ...\n"
     ]
    },
    {
     "name": "stderr",
     "output_type": "stream",
     "text": [
      "100%|###################################################################################|175/175[00:05<00:00,31.62it/s]"
     ]
    },
    {
     "name": "stdout",
     "output_type": "stream",
     "text": [
      "\u001b[32m[1026 11:56:32 @base.py:285]\u001b[0m Epoch 990 (global_step 173250) finished, time:5.54 seconds.\n",
      "\u001b[32m[1026 11:56:32 @saver.py:79]\u001b[0m Model saved to ../output/Chicago/DATGAN2_1000/model\\model-173250.\n"
     ]
    },
    {
     "name": "stderr",
     "output_type": "stream",
     "text": [
      "\n"
     ]
    },
    {
     "name": "stdout",
     "output_type": "stream",
     "text": [
      "\u001b[32m[1026 11:56:33 @monitor.py:467]\u001b[0m GAN_loss/discrim/accuracy_fake: 0.976\n",
      "\u001b[32m[1026 11:56:33 @monitor.py:467]\u001b[0m GAN_loss/discrim/accuracy_real: 0.056\n",
      "\u001b[32m[1026 11:56:33 @monitor.py:467]\u001b[0m GAN_loss/discrim/loss: 0.6483\n",
      "\u001b[32m[1026 11:56:33 @monitor.py:467]\u001b[0m GAN_loss/gen/final-g-loss: 1.0101\n",
      "\u001b[32m[1026 11:56:33 @monitor.py:467]\u001b[0m GAN_loss/gen/klloss: 0.066323\n",
      "\u001b[32m[1026 11:56:33 @monitor.py:467]\u001b[0m GAN_loss/gen/loss: 0.94381\n",
      "\u001b[32m[1026 11:56:33 @monitor.py:467]\u001b[0m QueueInput/queue_size: 50\n",
      "\u001b[32m[1026 11:56:33 @base.py:275]\u001b[0m Start Epoch 991 ...\n"
     ]
    },
    {
     "name": "stderr",
     "output_type": "stream",
     "text": [
      "100%|###################################################################################|175/175[00:05<00:00,31.79it/s]"
     ]
    },
    {
     "name": "stdout",
     "output_type": "stream",
     "text": [
      "\u001b[32m[1026 11:56:38 @base.py:285]\u001b[0m Epoch 991 (global_step 173425) finished, time:5.5 seconds.\n",
      "\u001b[32m[1026 11:56:38 @saver.py:79]\u001b[0m Model saved to ../output/Chicago/DATGAN2_1000/model\\model-173425.\n"
     ]
    },
    {
     "name": "stderr",
     "output_type": "stream",
     "text": [
      "\n"
     ]
    },
    {
     "name": "stdout",
     "output_type": "stream",
     "text": [
      "\u001b[32m[1026 11:56:38 @monitor.py:467]\u001b[0m GAN_loss/discrim/accuracy_fake: 0.964\n",
      "\u001b[32m[1026 11:56:38 @monitor.py:467]\u001b[0m GAN_loss/discrim/accuracy_real: 0.06\n",
      "\u001b[32m[1026 11:56:38 @monitor.py:467]\u001b[0m GAN_loss/discrim/loss: 0.64824\n",
      "\u001b[32m[1026 11:56:38 @monitor.py:467]\u001b[0m GAN_loss/gen/final-g-loss: 1.0014\n",
      "\u001b[32m[1026 11:56:38 @monitor.py:467]\u001b[0m GAN_loss/gen/klloss: 0.059691\n",
      "\u001b[32m[1026 11:56:38 @monitor.py:467]\u001b[0m GAN_loss/gen/loss: 0.94172\n",
      "\u001b[32m[1026 11:56:38 @monitor.py:467]\u001b[0m QueueInput/queue_size: 50\n",
      "\u001b[32m[1026 11:56:38 @base.py:275]\u001b[0m Start Epoch 992 ...\n"
     ]
    },
    {
     "name": "stderr",
     "output_type": "stream",
     "text": [
      "100%|###################################################################################|175/175[00:05<00:00,32.15it/s]"
     ]
    },
    {
     "name": "stdout",
     "output_type": "stream",
     "text": [
      "\u001b[32m[1026 11:56:44 @base.py:285]\u001b[0m Epoch 992 (global_step 173600) finished, time:5.44 seconds.\n",
      "\u001b[32m[1026 11:56:44 @saver.py:79]\u001b[0m Model saved to ../output/Chicago/DATGAN2_1000/model\\model-173600.\n"
     ]
    },
    {
     "name": "stderr",
     "output_type": "stream",
     "text": [
      "\n"
     ]
    },
    {
     "name": "stdout",
     "output_type": "stream",
     "text": [
      "\u001b[32m[1026 11:56:44 @monitor.py:467]\u001b[0m GAN_loss/discrim/accuracy_fake: 0.98\n",
      "\u001b[32m[1026 11:56:44 @monitor.py:467]\u001b[0m GAN_loss/discrim/accuracy_real: 0.038\n",
      "\u001b[32m[1026 11:56:44 @monitor.py:467]\u001b[0m GAN_loss/discrim/loss: 0.65304\n",
      "\u001b[32m[1026 11:56:44 @monitor.py:467]\u001b[0m GAN_loss/gen/final-g-loss: 1.0034\n",
      "\u001b[32m[1026 11:56:44 @monitor.py:467]\u001b[0m GAN_loss/gen/klloss: 0.058349\n",
      "\u001b[32m[1026 11:56:44 @monitor.py:467]\u001b[0m GAN_loss/gen/loss: 0.94507\n",
      "\u001b[32m[1026 11:56:44 @monitor.py:467]\u001b[0m QueueInput/queue_size: 50\n",
      "\u001b[32m[1026 11:56:44 @base.py:275]\u001b[0m Start Epoch 993 ...\n"
     ]
    },
    {
     "name": "stderr",
     "output_type": "stream",
     "text": [
      "100%|###################################################################################|175/175[00:05<00:00,32.21it/s]"
     ]
    },
    {
     "name": "stdout",
     "output_type": "stream",
     "text": [
      "\u001b[32m[1026 11:56:50 @base.py:285]\u001b[0m Epoch 993 (global_step 173775) finished, time:5.43 seconds.\n"
     ]
    },
    {
     "name": "stderr",
     "output_type": "stream",
     "text": [
      "\n"
     ]
    },
    {
     "name": "stdout",
     "output_type": "stream",
     "text": [
      "\u001b[32m[1026 11:56:50 @saver.py:79]\u001b[0m Model saved to ../output/Chicago/DATGAN2_1000/model\\model-173775.\n",
      "\u001b[32m[1026 11:56:50 @monitor.py:467]\u001b[0m GAN_loss/discrim/accuracy_fake: 0.96\n",
      "\u001b[32m[1026 11:56:50 @monitor.py:467]\u001b[0m GAN_loss/discrim/accuracy_real: 0.036\n",
      "\u001b[32m[1026 11:56:50 @monitor.py:467]\u001b[0m GAN_loss/discrim/loss: 0.64955\n",
      "\u001b[32m[1026 11:56:50 @monitor.py:467]\u001b[0m GAN_loss/gen/final-g-loss: 0.98701\n",
      "\u001b[32m[1026 11:56:50 @monitor.py:467]\u001b[0m GAN_loss/gen/klloss: 0.043438\n",
      "\u001b[32m[1026 11:56:50 @monitor.py:467]\u001b[0m GAN_loss/gen/loss: 0.94357\n",
      "\u001b[32m[1026 11:56:50 @monitor.py:467]\u001b[0m QueueInput/queue_size: 50\n",
      "\u001b[32m[1026 11:56:50 @base.py:275]\u001b[0m Start Epoch 994 ...\n"
     ]
    },
    {
     "name": "stderr",
     "output_type": "stream",
     "text": [
      "100%|###################################################################################|175/175[00:05<00:00,32.16it/s]"
     ]
    },
    {
     "name": "stdout",
     "output_type": "stream",
     "text": [
      "\u001b[32m[1026 11:56:55 @base.py:285]\u001b[0m Epoch 994 (global_step 173950) finished, time:5.44 seconds.\n",
      "\u001b[32m[1026 11:56:55 @saver.py:79]\u001b[0m Model saved to ../output/Chicago/DATGAN2_1000/model\\model-173950.\n"
     ]
    },
    {
     "name": "stderr",
     "output_type": "stream",
     "text": [
      "\n"
     ]
    },
    {
     "name": "stdout",
     "output_type": "stream",
     "text": [
      "\u001b[32m[1026 11:56:55 @monitor.py:467]\u001b[0m GAN_loss/discrim/accuracy_fake: 0.984\n",
      "\u001b[32m[1026 11:56:55 @monitor.py:467]\u001b[0m GAN_loss/discrim/accuracy_real: 0.04\n",
      "\u001b[32m[1026 11:56:55 @monitor.py:467]\u001b[0m GAN_loss/discrim/loss: 0.65044\n",
      "\u001b[32m[1026 11:56:55 @monitor.py:467]\u001b[0m GAN_loss/gen/final-g-loss: 1.0023\n",
      "\u001b[32m[1026 11:56:55 @monitor.py:467]\u001b[0m GAN_loss/gen/klloss: 0.058847\n",
      "\u001b[32m[1026 11:56:55 @monitor.py:467]\u001b[0m GAN_loss/gen/loss: 0.9435\n",
      "\u001b[32m[1026 11:56:55 @monitor.py:467]\u001b[0m QueueInput/queue_size: 50\n",
      "\u001b[32m[1026 11:56:55 @base.py:275]\u001b[0m Start Epoch 995 ...\n"
     ]
    },
    {
     "name": "stderr",
     "output_type": "stream",
     "text": [
      "100%|###################################################################################|175/175[00:05<00:00,32.19it/s]"
     ]
    },
    {
     "name": "stdout",
     "output_type": "stream",
     "text": [
      "\u001b[32m[1026 11:57:01 @base.py:285]\u001b[0m Epoch 995 (global_step 174125) finished, time:5.44 seconds.\n",
      "\u001b[32m[1026 11:57:01 @saver.py:79]\u001b[0m Model saved to ../output/Chicago/DATGAN2_1000/model\\model-174125.\n"
     ]
    },
    {
     "name": "stderr",
     "output_type": "stream",
     "text": [
      "\n"
     ]
    },
    {
     "name": "stdout",
     "output_type": "stream",
     "text": [
      "\u001b[32m[1026 11:57:01 @monitor.py:467]\u001b[0m GAN_loss/discrim/accuracy_fake: 0.97\n",
      "\u001b[32m[1026 11:57:01 @monitor.py:467]\u001b[0m GAN_loss/discrim/accuracy_real: 0.046\n",
      "\u001b[32m[1026 11:57:01 @monitor.py:467]\u001b[0m GAN_loss/discrim/loss: 0.64295\n",
      "\u001b[32m[1026 11:57:01 @monitor.py:467]\u001b[0m GAN_loss/gen/final-g-loss: 1.0092\n",
      "\u001b[32m[1026 11:57:01 @monitor.py:467]\u001b[0m GAN_loss/gen/klloss: 0.063688\n",
      "\u001b[32m[1026 11:57:01 @monitor.py:467]\u001b[0m GAN_loss/gen/loss: 0.94553\n",
      "\u001b[32m[1026 11:57:01 @monitor.py:467]\u001b[0m QueueInput/queue_size: 50\n",
      "\u001b[32m[1026 11:57:01 @base.py:275]\u001b[0m Start Epoch 996 ...\n"
     ]
    },
    {
     "name": "stderr",
     "output_type": "stream",
     "text": [
      "100%|###################################################################################|175/175[00:05<00:00,32.19it/s]"
     ]
    },
    {
     "name": "stdout",
     "output_type": "stream",
     "text": [
      "\u001b[32m[1026 11:57:07 @base.py:285]\u001b[0m Epoch 996 (global_step 174300) finished, time:5.44 seconds.\n"
     ]
    },
    {
     "name": "stderr",
     "output_type": "stream",
     "text": [
      "\n"
     ]
    },
    {
     "name": "stdout",
     "output_type": "stream",
     "text": [
      "\u001b[32m[1026 11:57:07 @saver.py:79]\u001b[0m Model saved to ../output/Chicago/DATGAN2_1000/model\\model-174300.\n",
      "\u001b[32m[1026 11:57:07 @monitor.py:467]\u001b[0m GAN_loss/discrim/accuracy_fake: 0.98\n",
      "\u001b[32m[1026 11:57:07 @monitor.py:467]\u001b[0m GAN_loss/discrim/accuracy_real: 0.038\n",
      "\u001b[32m[1026 11:57:07 @monitor.py:467]\u001b[0m GAN_loss/discrim/loss: 0.64929\n",
      "\u001b[32m[1026 11:57:07 @monitor.py:467]\u001b[0m GAN_loss/gen/final-g-loss: 1.0094\n",
      "\u001b[32m[1026 11:57:07 @monitor.py:467]\u001b[0m GAN_loss/gen/klloss: 0.057766\n",
      "\u001b[32m[1026 11:57:07 @monitor.py:467]\u001b[0m GAN_loss/gen/loss: 0.95159\n",
      "\u001b[32m[1026 11:57:07 @monitor.py:467]\u001b[0m QueueInput/queue_size: 50\n",
      "\u001b[32m[1026 11:57:07 @base.py:275]\u001b[0m Start Epoch 997 ...\n"
     ]
    },
    {
     "name": "stderr",
     "output_type": "stream",
     "text": [
      "100%|###################################################################################|175/175[00:05<00:00,32.21it/s]"
     ]
    },
    {
     "name": "stdout",
     "output_type": "stream",
     "text": [
      "\u001b[32m[1026 11:57:12 @base.py:285]\u001b[0m Epoch 997 (global_step 174475) finished, time:5.43 seconds.\n"
     ]
    },
    {
     "name": "stderr",
     "output_type": "stream",
     "text": [
      "\n"
     ]
    },
    {
     "name": "stdout",
     "output_type": "stream",
     "text": [
      "\u001b[32m[1026 11:57:12 @saver.py:79]\u001b[0m Model saved to ../output/Chicago/DATGAN2_1000/model\\model-174475.\n",
      "\u001b[32m[1026 11:57:13 @monitor.py:467]\u001b[0m GAN_loss/discrim/accuracy_fake: 0.972\n",
      "\u001b[32m[1026 11:57:13 @monitor.py:467]\u001b[0m GAN_loss/discrim/accuracy_real: 0.044\n",
      "\u001b[32m[1026 11:57:13 @monitor.py:467]\u001b[0m GAN_loss/discrim/loss: 0.64343\n",
      "\u001b[32m[1026 11:57:13 @monitor.py:467]\u001b[0m GAN_loss/gen/final-g-loss: 1.0539\n",
      "\u001b[32m[1026 11:57:13 @monitor.py:467]\u001b[0m GAN_loss/gen/klloss: 0.10477\n",
      "\u001b[32m[1026 11:57:13 @monitor.py:467]\u001b[0m GAN_loss/gen/loss: 0.94912\n",
      "\u001b[32m[1026 11:57:13 @monitor.py:467]\u001b[0m QueueInput/queue_size: 50\n",
      "\u001b[32m[1026 11:57:13 @base.py:275]\u001b[0m Start Epoch 998 ...\n"
     ]
    },
    {
     "name": "stderr",
     "output_type": "stream",
     "text": [
      "100%|###################################################################################|175/175[00:05<00:00,32.14it/s]"
     ]
    },
    {
     "name": "stdout",
     "output_type": "stream",
     "text": [
      "\u001b[32m[1026 11:57:18 @base.py:285]\u001b[0m Epoch 998 (global_step 174650) finished, time:5.45 seconds.\n"
     ]
    },
    {
     "name": "stderr",
     "output_type": "stream",
     "text": [
      "\n"
     ]
    },
    {
     "name": "stdout",
     "output_type": "stream",
     "text": [
      "\u001b[32m[1026 11:57:18 @saver.py:79]\u001b[0m Model saved to ../output/Chicago/DATGAN2_1000/model\\model-174650.\n",
      "\u001b[32m[1026 11:57:18 @monitor.py:467]\u001b[0m GAN_loss/discrim/accuracy_fake: 0.982\n",
      "\u001b[32m[1026 11:57:18 @monitor.py:467]\u001b[0m GAN_loss/discrim/accuracy_real: 0.034\n",
      "\u001b[32m[1026 11:57:18 @monitor.py:467]\u001b[0m GAN_loss/discrim/loss: 0.64737\n",
      "\u001b[32m[1026 11:57:18 @monitor.py:467]\u001b[0m GAN_loss/gen/final-g-loss: 1.028\n",
      "\u001b[32m[1026 11:57:18 @monitor.py:467]\u001b[0m GAN_loss/gen/klloss: 0.084431\n",
      "\u001b[32m[1026 11:57:18 @monitor.py:467]\u001b[0m GAN_loss/gen/loss: 0.94357\n",
      "\u001b[32m[1026 11:57:18 @monitor.py:467]\u001b[0m QueueInput/queue_size: 50\n",
      "\u001b[32m[1026 11:57:18 @base.py:275]\u001b[0m Start Epoch 999 ...\n"
     ]
    },
    {
     "name": "stderr",
     "output_type": "stream",
     "text": [
      "100%|###################################################################################|175/175[00:05<00:00,32.18it/s]"
     ]
    },
    {
     "name": "stdout",
     "output_type": "stream",
     "text": [
      "\u001b[32m[1026 11:57:24 @base.py:285]\u001b[0m Epoch 999 (global_step 174825) finished, time:5.44 seconds.\n"
     ]
    },
    {
     "name": "stderr",
     "output_type": "stream",
     "text": [
      "\n"
     ]
    },
    {
     "name": "stdout",
     "output_type": "stream",
     "text": [
      "\u001b[32m[1026 11:57:24 @saver.py:79]\u001b[0m Model saved to ../output/Chicago/DATGAN2_1000/model\\model-174825.\n",
      "\u001b[32m[1026 11:57:24 @monitor.py:467]\u001b[0m GAN_loss/discrim/accuracy_fake: 0.974\n",
      "\u001b[32m[1026 11:57:24 @monitor.py:467]\u001b[0m GAN_loss/discrim/accuracy_real: 0.054\n",
      "\u001b[32m[1026 11:57:24 @monitor.py:467]\u001b[0m GAN_loss/discrim/loss: 0.64799\n",
      "\u001b[32m[1026 11:57:24 @monitor.py:467]\u001b[0m GAN_loss/gen/final-g-loss: 0.98682\n",
      "\u001b[32m[1026 11:57:24 @monitor.py:467]\u001b[0m GAN_loss/gen/klloss: 0.043784\n",
      "\u001b[32m[1026 11:57:24 @monitor.py:467]\u001b[0m GAN_loss/gen/loss: 0.94303\n",
      "\u001b[32m[1026 11:57:24 @monitor.py:467]\u001b[0m QueueInput/queue_size: 50\n",
      "\u001b[32m[1026 11:57:24 @base.py:275]\u001b[0m Start Epoch 1000 ...\n"
     ]
    },
    {
     "name": "stderr",
     "output_type": "stream",
     "text": [
      "100%|###################################################################################|175/175[00:05<00:00,32.22it/s]"
     ]
    },
    {
     "name": "stdout",
     "output_type": "stream",
     "text": [
      "\u001b[32m[1026 11:57:29 @base.py:285]\u001b[0m Epoch 1000 (global_step 175000) finished, time:5.43 seconds.\n"
     ]
    },
    {
     "name": "stderr",
     "output_type": "stream",
     "text": [
      "\n"
     ]
    },
    {
     "name": "stdout",
     "output_type": "stream",
     "text": [
      "\u001b[32m[1026 11:57:29 @saver.py:79]\u001b[0m Model saved to ../output/Chicago/DATGAN2_1000/model\\model-175000.\n",
      "\u001b[32m[1026 11:57:30 @monitor.py:467]\u001b[0m GAN_loss/discrim/accuracy_fake: 0.974\n",
      "\u001b[32m[1026 11:57:30 @monitor.py:467]\u001b[0m GAN_loss/discrim/accuracy_real: 0.04\n",
      "\u001b[32m[1026 11:57:30 @monitor.py:467]\u001b[0m GAN_loss/discrim/loss: 0.6415\n",
      "\u001b[32m[1026 11:57:30 @monitor.py:467]\u001b[0m GAN_loss/gen/final-g-loss: 1.0175\n",
      "\u001b[32m[1026 11:57:30 @monitor.py:467]\u001b[0m GAN_loss/gen/klloss: 0.055615\n",
      "\u001b[32m[1026 11:57:30 @monitor.py:467]\u001b[0m GAN_loss/gen/loss: 0.96191\n",
      "\u001b[32m[1026 11:57:30 @monitor.py:467]\u001b[0m QueueInput/queue_size: 50\n",
      "\u001b[32m[1026 11:57:30 @base.py:289]\u001b[0m Training has finished!\n",
      "WARNING:tensorflow:From D:\\Users\\glede\\anaconda3\\envs\\py37\\lib\\site-packages\\tensorpack\\predict\\config.py:101: The name tf.train.ChiefSessionCreator is deprecated. Please use tf.compat.v1.train.ChiefSessionCreator instead.\n",
      "\n",
      "\u001b[32m[1026 11:57:30 @DATGANModel.py:209]\u001b[0m \u001b[91mCreating cell for age (in-edges: 0)\n",
      "\u001b[32m[1026 11:57:30 @DATGANModel.py:209]\u001b[0m \u001b[91mCreating cell for gender (in-edges: 0)\n",
      "\u001b[32m[1026 11:57:30 @DATGANModel.py:209]\u001b[0m \u001b[91mCreating cell for travel_dow (in-edges: 0)\n",
      "\u001b[32m[1026 11:57:30 @DATGANModel.py:209]\u001b[0m \u001b[91mCreating cell for license (in-edges: 1)\n",
      "\u001b[32m[1026 11:57:30 @DATGANModel.py:209]\u001b[0m \u001b[91mCreating cell for education_level (in-edges: 1)\n",
      "\u001b[32m[1026 11:57:30 @DATGANModel.py:209]\u001b[0m \u001b[91mCreating cell for work_status (in-edges: 2)\n",
      "\u001b[32m[1026 11:57:30 @DATGANModel.py:209]\u001b[0m \u001b[91mCreating cell for hh_income (in-edges: 2)\n",
      "\u001b[32m[1026 11:57:30 @DATGANModel.py:209]\u001b[0m \u001b[91mCreating cell for trip_purpose (in-edges: 1)\n",
      "\u001b[32m[1026 11:57:30 @DATGANModel.py:209]\u001b[0m \u001b[91mCreating cell for hh_descr (in-edges: 2)\n",
      "\u001b[32m[1026 11:57:30 @DATGANModel.py:209]\u001b[0m \u001b[91mCreating cell for hh_size (in-edges: 3)\n",
      "\u001b[32m[1026 11:57:30 @DATGANModel.py:209]\u001b[0m \u001b[91mCreating cell for departure_time (in-edges: 1)\n",
      "\u001b[32m[1026 11:57:30 @input_source.py:178]\u001b[0m EnqueueThread QueueInput/input_queue Exited.\n",
      "\u001b[32m[1026 11:57:30 @DATGANModel.py:209]\u001b[0m \u001b[91mCreating cell for distance (in-edges: 1)\n",
      "\u001b[32m[1026 11:57:31 @DATGANModel.py:209]\u001b[0m \u001b[91mCreating cell for hh_vehicles (in-edges: 2)\n",
      "\u001b[32m[1026 11:57:31 @DATGANModel.py:209]\u001b[0m \u001b[91mCreating cell for hh_bikes (in-edges: 2)\n",
      "\u001b[32m[1026 11:57:31 @DATGANModel.py:209]\u001b[0m \u001b[91mCreating cell for choice (in-edges: 7)\n",
      "WARNING:tensorflow:From D:\\Users\\glede\\anaconda3\\envs\\py37\\lib\\site-packages\\tensorpack\\tfutils\\collection.py:45: The name tf.get_collection_ref is deprecated. Please use tf.compat.v1.get_collection_ref instead.\n",
      "\n",
      "\u001b[32m[1026 11:57:31 @collection.py:146]\u001b[0m New collections created in tower : tf.GraphKeys.REGULARIZATION_LOSSES\n",
      "\u001b[32m[1026 11:57:31 @collection.py:165]\u001b[0m These collections were modified but restored in : (tf.GraphKeys.SUMMARIES: 0->2)\n",
      "\u001b[32m[1026 11:57:31 @sessinit.py:87]\u001b[0m \u001b[5m\u001b[31mWRN\u001b[0m The following variables are in the checkpoint, but not found in the graph: global_step, optimize/beta1_power, optimize/beta2_power\n",
      "INFO:tensorflow:Graph was finalized.\n",
      "INFO:tensorflow:Running local_init_op.\n",
      "INFO:tensorflow:Done running local_init_op.\n",
      "\u001b[32m[1026 11:57:32 @sessinit.py:114]\u001b[0m Restoring checkpoint from ../output/Chicago/DATGAN2_1000/model\\model-175000 ...\n",
      "INFO:tensorflow:Restoring parameters from ../output/Chicago/DATGAN2_1000/model\\model-175000\n"
     ]
    }
   ],
   "source": [
    "test = datgan.fit(df, graph)"
   ]
  },
  {
   "cell_type": "code",
   "execution_count": 12,
   "metadata": {},
   "outputs": [
    {
     "name": "stdout",
     "output_type": "stream",
     "text": [
      "\u001b[32m[1026 11:57:45 @DATGAN.py:347]\u001b[0m Model saved successfully.\n"
     ]
    }
   ],
   "source": [
    "datgan.save('trained', force=True)"
   ]
  },
  {
   "cell_type": "code",
   "execution_count": 13,
   "metadata": {},
   "outputs": [],
   "source": [
    "beepy.beep(6)"
   ]
  }
 ],
 "metadata": {
  "kernelspec": {
   "display_name": "Python 3",
   "language": "python",
   "name": "python3"
  },
  "language_info": {
   "codemirror_mode": {
    "name": "ipython",
    "version": 3
   },
   "file_extension": ".py",
   "mimetype": "text/x-python",
   "name": "python",
   "nbconvert_exporter": "python",
   "pygments_lexer": "ipython3",
   "version": "3.7.9"
  }
 },
 "nbformat": 4,
 "nbformat_minor": 2
}
