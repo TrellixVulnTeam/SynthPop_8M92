{
 "cells": [
  {
   "cell_type": "code",
   "execution_count": 1,
   "metadata": {},
   "outputs": [],
   "source": [
    "import os\n",
    "os.chdir('../..')"
   ]
  },
  {
   "cell_type": "code",
   "execution_count": 2,
   "metadata": {},
   "outputs": [
    {
     "name": "stdout",
     "output_type": "stream",
     "text": [
      "WARNING:tensorflow:From /home/gael/Applications/anaconda/envs/py37/lib/python3.7/site-packages/tensorpack/callbacks/hooks.py:17: The name tf.train.SessionRunHook is deprecated. Please use tf.estimator.SessionRunHook instead.\n",
      "\n",
      "WARNING:tensorflow:From /home/gael/Applications/anaconda/envs/py37/lib/python3.7/site-packages/tensorpack/tfutils/optimizer.py:18: The name tf.train.Optimizer is deprecated. Please use tf.compat.v1.train.Optimizer instead.\n",
      "\n",
      "WARNING:tensorflow:From /home/gael/Applications/anaconda/envs/py37/lib/python3.7/site-packages/tensorpack/tfutils/sesscreate.py:20: The name tf.train.SessionCreator is deprecated. Please use tf.compat.v1.train.SessionCreator instead.\n",
      "\n"
     ]
    }
   ],
   "source": [
    "import numpy as np\n",
    "import pandas as pd\n",
    "\n",
    "from tgan.model import TGANModel\n",
    "\n",
    "# For the Python notebook\n",
    "%matplotlib inline\n",
    "%reload_ext autoreload\n",
    "%autoreload 2"
   ]
  },
  {
   "cell_type": "code",
   "execution_count": 3,
   "metadata": {},
   "outputs": [],
   "source": [
    "df = pd.read_csv('../data/Chicago/full.csv')"
   ]
  },
  {
   "cell_type": "code",
   "execution_count": 4,
   "metadata": {},
   "outputs": [],
   "source": [
    "input_folder = './output_TGAN/columns_order/'\n",
    "output_folder = '../synth_data/Chicago/columns_order/'\n",
    "\n",
    "names = ['original', 'best', 'order1', 'order2', 'order3', 'order4', 'order5', 'order6', 'order7', 'order8', 'order9', 'order10']"
   ]
  },
  {
   "cell_type": "code",
   "execution_count": 5,
   "metadata": {},
   "outputs": [
    {
     "name": "stdout",
     "output_type": "stream",
     "text": [
      "Preparing synth data for original\n",
      "WARNING:tensorflow:From /home/gael/Applications/anaconda/envs/py37/lib/python3.7/site-packages/tensorpack/tfutils/varmanip.py:178: The name tf.gfile.Exists is deprecated. Please use tf.io.gfile.exists instead.\n",
      "\n",
      "WARNING:tensorflow:From /home/gael/Applications/anaconda/envs/py37/lib/python3.7/site-packages/tensorpack/predict/config.py:101: The name tf.train.ChiefSessionCreator is deprecated. Please use tf.compat.v1.train.ChiefSessionCreator instead.\n",
      "\n",
      "WARNING:tensorflow:From /home/gael/Applications/anaconda/envs/py37/lib/python3.7/site-packages/tensorpack/tfutils/common.py:41: The name tf.ConfigProto is deprecated. Please use tf.compat.v1.ConfigProto instead.\n",
      "\n",
      "WARNING:tensorflow:From /home/gael/Applications/anaconda/envs/py37/lib/python3.7/site-packages/tensorpack/graph_builder/model_desc.py:29: The name tf.get_default_graph is deprecated. Please use tf.compat.v1.get_default_graph instead.\n",
      "\n",
      "WARNING:tensorflow:From /home/gael/Applications/anaconda/envs/py37/lib/python3.7/site-packages/tensorpack/graph_builder/model_desc.py:39: The name tf.placeholder is deprecated. Please use tf.compat.v1.placeholder instead.\n",
      "\n",
      "WARNING:tensorflow:From /home/gael/Applications/anaconda/envs/py37/lib/python3.7/site-packages/tensorpack/tfutils/tower.py:204: The name tf.get_variable_scope is deprecated. Please use tf.compat.v1.get_variable_scope instead.\n",
      "\n",
      "WARNING:tensorflow:From /home/gael/Applications/anaconda/envs/py37/lib/python3.7/site-packages/tensorpack/tfutils/tower.py:216: The name tf.GraphKeys is deprecated. Please use tf.compat.v1.GraphKeys instead.\n",
      "\n",
      "WARNING:tensorflow:From /home/gael/Applications/anaconda/envs/py37/lib/python3.7/site-packages/tensorpack/tfutils/tower.py:101: The name tf.variable_scope is deprecated. Please use tf.compat.v1.variable_scope instead.\n",
      "\n",
      "WARNING:tensorflow:From /home/gael/Applications/anaconda/envs/py37/lib/python3.7/site-packages/tensorpack/tfutils/collection.py:33: The name tf.get_collection is deprecated. Please use tf.compat.v1.get_collection instead.\n",
      "\n",
      "WARNING:tensorflow:From /home/gael/Applications/anaconda/envs/py37/lib/python3.7/site-packages/tgan/model.py:455: The name tf.random_normal is deprecated. Please use tf.random.normal instead.\n",
      "\n",
      "WARNING:tensorflow:From /home/gael/Applications/anaconda/envs/py37/lib/python3.7/site-packages/tgan/model.py:458: The name tf.placeholder_with_default is deprecated. Please use tf.compat.v1.placeholder_with_default instead.\n",
      "\n",
      "WARNING:tensorflow:From /home/gael/Applications/anaconda/envs/py37/lib/python3.7/site-packages/tgan/model.py:259: LSTMCell.__init__ (from tensorflow.python.ops.rnn_cell_impl) is deprecated and will be removed in a future version.\n",
      "Instructions for updating:\n",
      "This class is equivalent as tf.keras.layers.LSTMCell, and will be replaced by that in Tensorflow 2.0.\n",
      "WARNING:tensorflow:From /home/gael/Applications/anaconda/envs/py37/lib/python3.7/site-packages/tgan/model.py:264: The name tf.get_variable is deprecated. Please use tf.compat.v1.get_variable instead.\n",
      "\n",
      "WARNING:tensorflow:From /home/gael/Applications/anaconda/envs/py37/lib/python3.7/site-packages/tensorflow_core/python/ops/rnn_cell_impl.py:958: Layer.add_variable (from tensorflow.python.keras.engine.base_layer) is deprecated and will be removed in a future version.\n",
      "Instructions for updating:\n",
      "Please use `layer.add_weight` method instead.\n",
      "WARNING:tensorflow:From /home/gael/Applications/anaconda/envs/py37/lib/python3.7/site-packages/tensorflow_core/python/ops/rnn_cell_impl.py:962: calling Zeros.__init__ (from tensorflow.python.ops.init_ops) with dtype is deprecated and will be removed in a future version.\n",
      "Instructions for updating:\n",
      "Call initializer instance with the dtype argument instead of passing it to the constructor\n",
      "\u001b[32m[1113 14:19:56 @registry.py:126]\u001b[0m gen/LSTM/00/FC input: [200, 100]\n",
      "WARNING:tensorflow:From /home/gael/Applications/anaconda/envs/py37/lib/python3.7/site-packages/tensorpack/models/fc.py:57: The name tf.layers.Dense is deprecated. Please use tf.compat.v1.layers.Dense instead.\n",
      "\n",
      "WARNING:tensorflow:From /home/gael/Applications/anaconda/envs/py37/lib/python3.7/site-packages/tensorpack/models/fc.py:67: Layer.apply (from tensorflow.python.keras.engine.base_layer) is deprecated and will be removed in a future version.\n",
      "Instructions for updating:\n",
      "Please use `layer.__call__` method instead.\n",
      "\u001b[32m[1113 14:19:56 @registry.py:134]\u001b[0m gen/LSTM/00/FC output: [200, 100]\n",
      "\u001b[32m[1113 14:19:56 @registry.py:126]\u001b[0m gen/LSTM/00/FC2 input: [200, 100]\n",
      "\u001b[32m[1113 14:19:56 @registry.py:134]\u001b[0m gen/LSTM/00/FC2 output: [200, 5]\n",
      "\u001b[32m[1113 14:19:56 @registry.py:126]\u001b[0m gen/LSTM/00/FC3 input: [200, 5]\n",
      "\u001b[32m[1113 14:19:56 @registry.py:134]\u001b[0m gen/LSTM/00/FC3 output: [200, 100]\n",
      "\u001b[32m[1113 14:19:56 @registry.py:126]\u001b[0m gen/LSTM/01/FC input: [200, 100]\n",
      "\u001b[32m[1113 14:19:56 @registry.py:134]\u001b[0m gen/LSTM/01/FC output: [200, 100]\n",
      "\u001b[32m[1113 14:19:56 @registry.py:126]\u001b[0m gen/LSTM/01/FC2 input: [200, 100]\n",
      "\u001b[32m[1113 14:19:56 @registry.py:134]\u001b[0m gen/LSTM/01/FC2 output: [200, 7]\n",
      "\u001b[32m[1113 14:19:56 @registry.py:126]\u001b[0m gen/LSTM/01/FC3 input: [200, 7]\n",
      "\u001b[32m[1113 14:19:56 @registry.py:134]\u001b[0m gen/LSTM/01/FC3 output: [200, 100]\n",
      "\u001b[32m[1113 14:19:57 @registry.py:126]\u001b[0m gen/LSTM/02/FC input: [200, 100]\n",
      "\u001b[32m[1113 14:19:57 @registry.py:134]\u001b[0m gen/LSTM/02/FC output: [200, 100]\n",
      "\u001b[32m[1113 14:19:57 @registry.py:126]\u001b[0m gen/LSTM/02/FC2 input: [200, 100]\n",
      "\u001b[32m[1113 14:19:57 @registry.py:134]\u001b[0m gen/LSTM/02/FC2 output: [200, 7]\n",
      "\u001b[32m[1113 14:19:57 @registry.py:126]\u001b[0m gen/LSTM/02/FC3 input: [200, 7]\n",
      "\u001b[32m[1113 14:19:57 @registry.py:134]\u001b[0m gen/LSTM/02/FC3 output: [200, 100]\n",
      "\u001b[32m[1113 14:19:57 @registry.py:126]\u001b[0m gen/LSTM/03/FC input: [200, 100]\n",
      "\u001b[32m[1113 14:19:57 @registry.py:134]\u001b[0m gen/LSTM/03/FC output: [200, 100]\n",
      "\u001b[32m[1113 14:19:57 @registry.py:126]\u001b[0m gen/LSTM/03/FC2 input: [200, 100]\n",
      "\u001b[32m[1113 14:19:57 @registry.py:134]\u001b[0m gen/LSTM/03/FC2 output: [200, 1]\n",
      "\u001b[32m[1113 14:19:57 @registry.py:126]\u001b[0m gen/LSTM/04/FC input: [200, 100]\n",
      "\u001b[32m[1113 14:19:57 @registry.py:134]\u001b[0m gen/LSTM/04/FC output: [200, 100]\n",
      "\u001b[32m[1113 14:19:57 @registry.py:126]\u001b[0m gen/LSTM/04/FC2 input: [200, 100]\n",
      "\u001b[32m[1113 14:19:57 @registry.py:134]\u001b[0m gen/LSTM/04/FC2 output: [200, 5]\n",
      "\u001b[32m[1113 14:19:57 @registry.py:126]\u001b[0m gen/LSTM/04/FC3 input: [200, 5]\n",
      "\u001b[32m[1113 14:19:57 @registry.py:134]\u001b[0m gen/LSTM/04/FC3 output: [200, 100]\n",
      "\u001b[32m[1113 14:19:57 @registry.py:126]\u001b[0m gen/LSTM/05/FC input: [200, 100]\n",
      "\u001b[32m[1113 14:19:57 @registry.py:134]\u001b[0m gen/LSTM/05/FC output: [200, 100]\n",
      "\u001b[32m[1113 14:19:57 @registry.py:126]\u001b[0m gen/LSTM/05/FC2 input: [200, 100]\n",
      "\u001b[32m[1113 14:19:57 @registry.py:134]\u001b[0m gen/LSTM/05/FC2 output: [200, 9]\n",
      "\u001b[32m[1113 14:19:57 @registry.py:126]\u001b[0m gen/LSTM/05/FC3 input: [200, 9]\n",
      "\u001b[32m[1113 14:19:57 @registry.py:134]\u001b[0m gen/LSTM/05/FC3 output: [200, 100]\n",
      "\u001b[32m[1113 14:19:57 @registry.py:126]\u001b[0m gen/LSTM/06/FC input: [200, 100]\n",
      "\u001b[32m[1113 14:19:57 @registry.py:134]\u001b[0m gen/LSTM/06/FC output: [200, 100]\n",
      "\u001b[32m[1113 14:19:57 @registry.py:126]\u001b[0m gen/LSTM/06/FC2 input: [200, 100]\n",
      "\u001b[32m[1113 14:19:57 @registry.py:134]\u001b[0m gen/LSTM/06/FC2 output: [200, 8]\n",
      "\u001b[32m[1113 14:19:57 @registry.py:126]\u001b[0m gen/LSTM/06/FC3 input: [200, 8]\n",
      "\u001b[32m[1113 14:19:57 @registry.py:134]\u001b[0m gen/LSTM/06/FC3 output: [200, 100]\n",
      "\u001b[32m[1113 14:19:57 @registry.py:126]\u001b[0m gen/LSTM/07/FC input: [200, 100]\n",
      "\u001b[32m[1113 14:19:57 @registry.py:134]\u001b[0m gen/LSTM/07/FC output: [200, 100]\n",
      "\u001b[32m[1113 14:19:57 @registry.py:126]\u001b[0m gen/LSTM/07/FC2 input: [200, 100]\n",
      "\u001b[32m[1113 14:19:57 @registry.py:134]\u001b[0m gen/LSTM/07/FC2 output: [200, 8]\n",
      "\u001b[32m[1113 14:19:57 @registry.py:126]\u001b[0m gen/LSTM/07/FC3 input: [200, 8]\n",
      "\u001b[32m[1113 14:19:57 @registry.py:134]\u001b[0m gen/LSTM/07/FC3 output: [200, 100]\n",
      "\u001b[32m[1113 14:19:57 @registry.py:126]\u001b[0m gen/LSTM/08/FC input: [200, 100]\n",
      "\u001b[32m[1113 14:19:57 @registry.py:134]\u001b[0m gen/LSTM/08/FC output: [200, 100]\n",
      "\u001b[32m[1113 14:19:57 @registry.py:126]\u001b[0m gen/LSTM/08/FC2 input: [200, 100]\n",
      "\u001b[32m[1113 14:19:57 @registry.py:134]\u001b[0m gen/LSTM/08/FC2 output: [200, 3]\n",
      "\u001b[32m[1113 14:19:57 @registry.py:126]\u001b[0m gen/LSTM/08/FC3 input: [200, 3]\n",
      "\u001b[32m[1113 14:19:57 @registry.py:134]\u001b[0m gen/LSTM/08/FC3 output: [200, 100]\n",
      "\u001b[32m[1113 14:19:57 @registry.py:126]\u001b[0m gen/LSTM/09/FC input: [200, 100]\n"
     ]
    },
    {
     "name": "stdout",
     "output_type": "stream",
     "text": [
      "\u001b[32m[1113 14:19:57 @registry.py:134]\u001b[0m gen/LSTM/09/FC output: [200, 100]\n",
      "\u001b[32m[1113 14:19:57 @registry.py:126]\u001b[0m gen/LSTM/09/FC2 input: [200, 100]\n",
      "\u001b[32m[1113 14:19:58 @registry.py:134]\u001b[0m gen/LSTM/09/FC2 output: [200, 7]\n",
      "\u001b[32m[1113 14:19:58 @registry.py:126]\u001b[0m gen/LSTM/09/FC3 input: [200, 7]\n",
      "\u001b[32m[1113 14:19:58 @registry.py:134]\u001b[0m gen/LSTM/09/FC3 output: [200, 100]\n",
      "\u001b[32m[1113 14:19:58 @registry.py:126]\u001b[0m gen/LSTM/10/FC input: [200, 100]\n",
      "\u001b[32m[1113 14:19:58 @registry.py:134]\u001b[0m gen/LSTM/10/FC output: [200, 100]\n",
      "\u001b[32m[1113 14:19:58 @registry.py:126]\u001b[0m gen/LSTM/10/FC2 input: [200, 100]\n",
      "\u001b[32m[1113 14:19:58 @registry.py:134]\u001b[0m gen/LSTM/10/FC2 output: [200, 2]\n",
      "\u001b[32m[1113 14:19:58 @registry.py:126]\u001b[0m gen/LSTM/10/FC3 input: [200, 2]\n",
      "\u001b[32m[1113 14:19:58 @registry.py:134]\u001b[0m gen/LSTM/10/FC3 output: [200, 100]\n",
      "\u001b[32m[1113 14:19:58 @registry.py:126]\u001b[0m gen/LSTM/11/FC input: [200, 100]\n",
      "\u001b[32m[1113 14:19:58 @registry.py:134]\u001b[0m gen/LSTM/11/FC output: [200, 100]\n",
      "\u001b[32m[1113 14:19:58 @registry.py:126]\u001b[0m gen/LSTM/11/FC2 input: [200, 100]\n",
      "\u001b[32m[1113 14:19:58 @registry.py:134]\u001b[0m gen/LSTM/11/FC2 output: [200, 1]\n",
      "\u001b[32m[1113 14:19:58 @registry.py:126]\u001b[0m gen/LSTM/12/FC input: [200, 100]\n",
      "\u001b[32m[1113 14:19:58 @registry.py:134]\u001b[0m gen/LSTM/12/FC output: [200, 100]\n",
      "\u001b[32m[1113 14:19:58 @registry.py:126]\u001b[0m gen/LSTM/12/FC2 input: [200, 100]\n",
      "\u001b[32m[1113 14:19:58 @registry.py:134]\u001b[0m gen/LSTM/12/FC2 output: [200, 5]\n",
      "\u001b[32m[1113 14:19:58 @registry.py:126]\u001b[0m gen/LSTM/12/FC3 input: [200, 5]\n",
      "\u001b[32m[1113 14:19:58 @registry.py:134]\u001b[0m gen/LSTM/12/FC3 output: [200, 100]\n",
      "\u001b[32m[1113 14:19:58 @registry.py:126]\u001b[0m gen/LSTM/13/FC input: [200, 100]\n",
      "\u001b[32m[1113 14:19:58 @registry.py:134]\u001b[0m gen/LSTM/13/FC output: [200, 100]\n",
      "\u001b[32m[1113 14:19:58 @registry.py:126]\u001b[0m gen/LSTM/13/FC2 input: [200, 100]\n",
      "\u001b[32m[1113 14:19:58 @registry.py:134]\u001b[0m gen/LSTM/13/FC2 output: [200, 2]\n",
      "\u001b[32m[1113 14:19:58 @registry.py:126]\u001b[0m gen/LSTM/13/FC3 input: [200, 2]\n",
      "\u001b[32m[1113 14:19:58 @registry.py:134]\u001b[0m gen/LSTM/13/FC3 output: [200, 100]\n",
      "\u001b[32m[1113 14:19:58 @registry.py:126]\u001b[0m gen/LSTM/14/FC input: [200, 100]\n",
      "\u001b[32m[1113 14:19:58 @registry.py:134]\u001b[0m gen/LSTM/14/FC output: [200, 100]\n",
      "\u001b[32m[1113 14:19:58 @registry.py:126]\u001b[0m gen/LSTM/14/FC2 input: [200, 100]\n",
      "\u001b[32m[1113 14:19:58 @registry.py:134]\u001b[0m gen/LSTM/14/FC2 output: [200, 6]\n",
      "\u001b[32m[1113 14:19:58 @registry.py:126]\u001b[0m gen/LSTM/14/FC3 input: [200, 6]\n",
      "\u001b[32m[1113 14:19:58 @registry.py:134]\u001b[0m gen/LSTM/14/FC3 output: [200, 100]\n",
      "\u001b[32m[1113 14:19:58 @registry.py:126]\u001b[0m gen/LSTM/15/FC input: [200, 100]\n",
      "\u001b[32m[1113 14:19:58 @registry.py:134]\u001b[0m gen/LSTM/15/FC output: [200, 100]\n",
      "\u001b[32m[1113 14:19:58 @registry.py:126]\u001b[0m gen/LSTM/15/FC2 input: [200, 100]\n",
      "\u001b[32m[1113 14:19:58 @registry.py:134]\u001b[0m gen/LSTM/15/FC2 output: [200, 8]\n",
      "\u001b[32m[1113 14:19:58 @registry.py:126]\u001b[0m gen/LSTM/15/FC3 input: [200, 8]\n",
      "\u001b[32m[1113 14:19:59 @registry.py:134]\u001b[0m gen/LSTM/15/FC3 output: [200, 100]\n",
      "\u001b[32m[1113 14:19:59 @registry.py:126]\u001b[0m gen/LSTM/16/FC input: [200, 100]\n",
      "\u001b[32m[1113 14:19:59 @registry.py:134]\u001b[0m gen/LSTM/16/FC output: [200, 100]\n",
      "\u001b[32m[1113 14:19:59 @registry.py:126]\u001b[0m gen/LSTM/16/FC2 input: [200, 100]\n",
      "\u001b[32m[1113 14:19:59 @registry.py:134]\u001b[0m gen/LSTM/16/FC2 output: [200, 1]\n",
      "\u001b[32m[1113 14:19:59 @registry.py:126]\u001b[0m gen/LSTM/17/FC input: [200, 100]\n",
      "\u001b[32m[1113 14:19:59 @registry.py:134]\u001b[0m gen/LSTM/17/FC output: [200, 100]\n",
      "\u001b[32m[1113 14:19:59 @registry.py:126]\u001b[0m gen/LSTM/17/FC2 input: [200, 100]\n",
      "\u001b[32m[1113 14:19:59 @registry.py:134]\u001b[0m gen/LSTM/17/FC2 output: [200, 5]\n",
      "\u001b[32m[1113 14:19:59 @registry.py:126]\u001b[0m gen/LSTM/17/FC3 input: [200, 5]\n",
      "\u001b[32m[1113 14:19:59 @registry.py:134]\u001b[0m gen/LSTM/17/FC3 output: [200, 100]\n",
      "\u001b[32m[1113 14:19:59 @registry.py:126]\u001b[0m discrim/dis_fc0/fc input: [200, 90]\n",
      "\u001b[32m[1113 14:19:59 @registry.py:134]\u001b[0m discrim/dis_fc0/fc output: [200, 100]\n",
      "\u001b[32m[1113 14:19:59 @registry.py:126]\u001b[0m discrim/dis_fc0/fc_diversity input: [200, 100]\n",
      "\u001b[32m[1113 14:19:59 @registry.py:134]\u001b[0m discrim/dis_fc0/fc_diversity output: [200, 100]\n",
      "WARNING:tensorflow:From /home/gael/Applications/anaconda/envs/py37/lib/python3.7/site-packages/tensorpack/models/batch_norm.py:204: The name tf.layers.BatchNormalization is deprecated. Please use tf.compat.v1.layers.BatchNormalization instead.\n",
      "\n",
      "WARNING:tensorflow:From /home/gael/Applications/anaconda/envs/py37/lib/python3.7/site-packages/tensorpack/tfutils/collection.py:45: The name tf.get_collection_ref is deprecated. Please use tf.compat.v1.get_collection_ref instead.\n",
      "\n",
      "\u001b[32m[1113 14:19:59 @registry.py:126]\u001b[0m discrim/dis_fc_top input: [200, 110]\n",
      "\u001b[32m[1113 14:19:59 @registry.py:134]\u001b[0m discrim/dis_fc_top output: [200, 1]\n",
      "WARNING:tensorflow:From /home/gael/Applications/anaconda/envs/py37/lib/python3.7/site-packages/tgan/model.py:118: The name tf.summary.histogram is deprecated. Please use tf.compat.v1.summary.histogram instead.\n",
      "\n",
      "WARNING:tensorflow:From /home/gael/Applications/anaconda/envs/py37/lib/python3.7/site-packages/tensorflow_core/python/ops/nn_impl.py:183: where (from tensorflow.python.ops.array_ops) is deprecated and will be removed in a future version.\n",
      "Instructions for updating:\n",
      "Use tf.where in 2.0, which has the same broadcast rule as np.where\n",
      "WARNING:tensorflow:From /home/gael/Applications/anaconda/envs/py37/lib/python3.7/site-packages/tgan/model.py:125: The name tf.random_uniform is deprecated. Please use tf.random.uniform instead.\n",
      "\n",
      "WARNING:tensorflow:\n",
      "The TensorFlow contrib module will not be included in TensorFlow 2.0.\n",
      "For more information, please see:\n",
      "  * https://github.com/tensorflow/community/blob/master/rfcs/20180907-contrib-sunset.md\n",
      "  * https://github.com/tensorflow/addons\n",
      "  * https://github.com/tensorflow/io (for I/O related ops)\n",
      "If you depend on functionality not listed there, please file an issue.\n",
      "\n",
      "\u001b[32m[1113 14:20:00 @collection.py:146]\u001b[0m New collections created in tower : tf.GraphKeys.REGULARIZATION_LOSSES\n",
      "\u001b[32m[1113 14:20:00 @collection.py:165]\u001b[0m These collections were modified but restored in : (tf.GraphKeys.SUMMARIES: 0->2)\n",
      "WARNING:tensorflow:From /home/gael/Applications/anaconda/envs/py37/lib/python3.7/site-packages/tensorpack/tfutils/sessinit.py:120: The name tf.train.NewCheckpointReader is deprecated. Please use tf.compat.v1.train.NewCheckpointReader instead.\n",
      "\n",
      "WARNING:tensorflow:From /home/gael/Applications/anaconda/envs/py37/lib/python3.7/site-packages/tensorpack/tfutils/sessinit.py:127: The name tf.global_variables is deprecated. Please use tf.compat.v1.global_variables instead.\n",
      "\n",
      "\u001b[32m[1113 14:20:00 @sessinit.py:87]\u001b[0m \u001b[5m\u001b[31mWRN\u001b[0m The following variables are in the checkpoint, but not found in the graph: global_step, optimize/beta1_power, optimize/beta2_power\n",
      "WARNING:tensorflow:From /home/gael/Applications/anaconda/envs/py37/lib/python3.7/site-packages/tensorpack/tfutils/sessinit.py:111: The name tf.train.Saver is deprecated. Please use tf.compat.v1.train.Saver instead.\n",
      "\n",
      "INFO:tensorflow:Graph was finalized.\n",
      "INFO:tensorflow:Running local_init_op.\n",
      "INFO:tensorflow:Done running local_init_op.\n",
      "\u001b[32m[1113 14:20:01 @sessinit.py:114]\u001b[0m Restoring checkpoint from ./output_TGAN/columns_order/original/model/model-200000 ...\n",
      "INFO:tensorflow:Restoring parameters from ./output_TGAN/columns_order/original/model/model-200000\n"
     ]
    },
    {
     "name": "stderr",
     "output_type": "stream",
     "text": [
      "|          |438/?[00:16<00:00,26.47it/s]      \n"
     ]
    },
    {
     "name": "stdout",
     "output_type": "stream",
     "text": [
      "Preparing synth data for best\n",
      "\u001b[32m[1113 14:20:21 @registry.py:126]\u001b[0m gen/LSTM/03/FC3 input: [200, 6]\n",
      "\u001b[32m[1113 14:20:21 @registry.py:134]\u001b[0m gen/LSTM/03/FC3 output: [200, 100]\n",
      "\u001b[32m[1113 14:20:21 @registry.py:126]\u001b[0m gen/LSTM/11/FC3 input: [200, 8]\n",
      "\u001b[32m[1113 14:20:21 @registry.py:134]\u001b[0m gen/LSTM/11/FC3 output: [200, 100]\n",
      "\u001b[32m[1113 14:20:22 @registry.py:126]\u001b[0m gen/LSTM/16/FC3 input: [200, 5]\n",
      "\u001b[32m[1113 14:20:22 @registry.py:134]\u001b[0m gen/LSTM/16/FC3 output: [200, 100]\n",
      "\u001b[32m[1113 14:20:22 @collection.py:146]\u001b[0m New collections created in tower : tf.GraphKeys.REGULARIZATION_LOSSES\n",
      "\u001b[32m[1113 14:20:22 @collection.py:165]\u001b[0m These collections were modified but restored in : (tf.GraphKeys.SUMMARIES: 0->2)\n",
      "\u001b[32m[1113 14:20:22 @sessinit.py:87]\u001b[0m \u001b[5m\u001b[31mWRN\u001b[0m The following variables are in the checkpoint, but not found in the graph: global_step, optimize/beta1_power, optimize/beta2_power\n",
      "INFO:tensorflow:Graph was finalized.\n",
      "INFO:tensorflow:Running local_init_op.\n",
      "INFO:tensorflow:Done running local_init_op.\n",
      "\u001b[32m[1113 14:20:23 @sessinit.py:114]\u001b[0m Restoring checkpoint from ./output_TGAN/columns_order/best/model/model-200000 ...\n",
      "INFO:tensorflow:Restoring parameters from ./output_TGAN/columns_order/best/model/model-200000\n"
     ]
    },
    {
     "name": "stderr",
     "output_type": "stream",
     "text": [
      "|          |438/?[00:16<00:00,26.66it/s]      \n"
     ]
    },
    {
     "name": "stdout",
     "output_type": "stream",
     "text": [
      "Preparing synth data for order1\n",
      "\u001b[32m[1113 14:20:44 @collection.py:146]\u001b[0m New collections created in tower : tf.GraphKeys.REGULARIZATION_LOSSES\n",
      "\u001b[32m[1113 14:20:44 @collection.py:165]\u001b[0m These collections were modified but restored in : (tf.GraphKeys.SUMMARIES: 0->2)\n",
      "\u001b[32m[1113 14:20:44 @sessinit.py:87]\u001b[0m \u001b[5m\u001b[31mWRN\u001b[0m The following variables are in the checkpoint, but not found in the graph: global_step, optimize/beta1_power, optimize/beta2_power\n",
      "INFO:tensorflow:Graph was finalized.\n",
      "INFO:tensorflow:Running local_init_op.\n",
      "INFO:tensorflow:Done running local_init_op.\n",
      "\u001b[32m[1113 14:20:45 @sessinit.py:114]\u001b[0m Restoring checkpoint from ./output_TGAN/columns_order/order1/model/model-200000 ...\n",
      "INFO:tensorflow:Restoring parameters from ./output_TGAN/columns_order/order1/model/model-200000\n"
     ]
    },
    {
     "name": "stderr",
     "output_type": "stream",
     "text": [
      "|          |438/?[00:13<00:00,31.49it/s]      \n"
     ]
    },
    {
     "name": "stdout",
     "output_type": "stream",
     "text": [
      "Preparing synth data for order2\n",
      "\u001b[32m[1113 14:21:03 @collection.py:146]\u001b[0m New collections created in tower : tf.GraphKeys.REGULARIZATION_LOSSES\n",
      "\u001b[32m[1113 14:21:03 @collection.py:165]\u001b[0m These collections were modified but restored in : (tf.GraphKeys.SUMMARIES: 0->2)\n",
      "\u001b[32m[1113 14:21:03 @sessinit.py:87]\u001b[0m \u001b[5m\u001b[31mWRN\u001b[0m The following variables are in the checkpoint, but not found in the graph: global_step, optimize/beta1_power, optimize/beta2_power\n",
      "INFO:tensorflow:Graph was finalized.\n",
      "INFO:tensorflow:Running local_init_op.\n",
      "INFO:tensorflow:Done running local_init_op.\n",
      "\u001b[32m[1113 14:21:05 @sessinit.py:114]\u001b[0m Restoring checkpoint from ./output_TGAN/columns_order/order2/model/model-200000 ...\n",
      "INFO:tensorflow:Restoring parameters from ./output_TGAN/columns_order/order2/model/model-200000\n"
     ]
    },
    {
     "name": "stderr",
     "output_type": "stream",
     "text": [
      "|          |438/?[00:15<00:00,28.42it/s]      \n"
     ]
    },
    {
     "name": "stdout",
     "output_type": "stream",
     "text": [
      "Preparing synth data for order3\n",
      "\u001b[32m[1113 14:21:25 @collection.py:146]\u001b[0m New collections created in tower : tf.GraphKeys.REGULARIZATION_LOSSES\n",
      "\u001b[32m[1113 14:21:25 @collection.py:165]\u001b[0m These collections were modified but restored in : (tf.GraphKeys.SUMMARIES: 0->2)\n",
      "\u001b[32m[1113 14:21:25 @sessinit.py:87]\u001b[0m \u001b[5m\u001b[31mWRN\u001b[0m The following variables are in the checkpoint, but not found in the graph: global_step, optimize/beta1_power, optimize/beta2_power\n",
      "INFO:tensorflow:Graph was finalized.\n",
      "INFO:tensorflow:Running local_init_op.\n",
      "INFO:tensorflow:Done running local_init_op.\n",
      "\u001b[32m[1113 14:21:27 @sessinit.py:114]\u001b[0m Restoring checkpoint from ./output_TGAN/columns_order/order3/model/model-200000 ...\n",
      "INFO:tensorflow:Restoring parameters from ./output_TGAN/columns_order/order3/model/model-200000\n"
     ]
    },
    {
     "name": "stderr",
     "output_type": "stream",
     "text": [
      "|          |438/?[00:14<00:00,29.54it/s]      \n"
     ]
    },
    {
     "name": "stdout",
     "output_type": "stream",
     "text": [
      "Preparing synth data for order4\n",
      "\u001b[32m[1113 14:21:46 @collection.py:146]\u001b[0m New collections created in tower : tf.GraphKeys.REGULARIZATION_LOSSES\n",
      "\u001b[32m[1113 14:21:46 @collection.py:165]\u001b[0m These collections were modified but restored in : (tf.GraphKeys.SUMMARIES: 0->2)\n",
      "\u001b[32m[1113 14:21:46 @sessinit.py:87]\u001b[0m \u001b[5m\u001b[31mWRN\u001b[0m The following variables are in the checkpoint, but not found in the graph: global_step, optimize/beta1_power, optimize/beta2_power\n",
      "INFO:tensorflow:Graph was finalized.\n",
      "INFO:tensorflow:Running local_init_op.\n",
      "INFO:tensorflow:Done running local_init_op.\n",
      "\u001b[32m[1113 14:21:47 @sessinit.py:114]\u001b[0m Restoring checkpoint from ./output_TGAN/columns_order/order4/model/model-200000 ...\n",
      "INFO:tensorflow:Restoring parameters from ./output_TGAN/columns_order/order4/model/model-200000\n"
     ]
    },
    {
     "name": "stderr",
     "output_type": "stream",
     "text": [
      "|          |438/?[00:13<00:00,31.83it/s]      \n"
     ]
    },
    {
     "name": "stdout",
     "output_type": "stream",
     "text": [
      "Preparing synth data for order5\n",
      "\u001b[32m[1113 14:22:05 @collection.py:146]\u001b[0m New collections created in tower : tf.GraphKeys.REGULARIZATION_LOSSES\n",
      "\u001b[32m[1113 14:22:05 @collection.py:165]\u001b[0m These collections were modified but restored in : (tf.GraphKeys.SUMMARIES: 0->2)\n",
      "\u001b[32m[1113 14:22:05 @sessinit.py:87]\u001b[0m \u001b[5m\u001b[31mWRN\u001b[0m The following variables are in the checkpoint, but not found in the graph: global_step, optimize/beta1_power, optimize/beta2_power\n",
      "INFO:tensorflow:Graph was finalized.\n",
      "INFO:tensorflow:Running local_init_op.\n",
      "INFO:tensorflow:Done running local_init_op.\n",
      "\u001b[32m[1113 14:22:07 @sessinit.py:114]\u001b[0m Restoring checkpoint from ./output_TGAN/columns_order/order5/model/model-200000 ...\n",
      "INFO:tensorflow:Restoring parameters from ./output_TGAN/columns_order/order5/model/model-200000\n"
     ]
    },
    {
     "name": "stderr",
     "output_type": "stream",
     "text": [
      "|          |438/?[00:19<00:00,22.96it/s]      \n"
     ]
    },
    {
     "name": "stdout",
     "output_type": "stream",
     "text": [
      "Preparing synth data for order6\n",
      "\u001b[32m[1113 14:22:31 @collection.py:146]\u001b[0m New collections created in tower : tf.GraphKeys.REGULARIZATION_LOSSES\n",
      "\u001b[32m[1113 14:22:31 @collection.py:165]\u001b[0m These collections were modified but restored in : (tf.GraphKeys.SUMMARIES: 0->2)\n",
      "\u001b[32m[1113 14:22:31 @sessinit.py:87]\u001b[0m \u001b[5m\u001b[31mWRN\u001b[0m The following variables are in the checkpoint, but not found in the graph: global_step, optimize/beta1_power, optimize/beta2_power\n",
      "INFO:tensorflow:Graph was finalized.\n",
      "INFO:tensorflow:Running local_init_op.\n",
      "INFO:tensorflow:Done running local_init_op.\n",
      "\u001b[32m[1113 14:22:33 @sessinit.py:114]\u001b[0m Restoring checkpoint from ./output_TGAN/columns_order/order6/model/model-200000 ...\n",
      "INFO:tensorflow:Restoring parameters from ./output_TGAN/columns_order/order6/model/model-200000\n"
     ]
    },
    {
     "name": "stderr",
     "output_type": "stream",
     "text": [
      "|          |438/?[00:21<00:00,20.62it/s]      \n"
     ]
    },
    {
     "name": "stdout",
     "output_type": "stream",
     "text": [
      "Preparing synth data for order7\n",
      "\u001b[32m[1113 14:23:00 @collection.py:146]\u001b[0m New collections created in tower : tf.GraphKeys.REGULARIZATION_LOSSES\n",
      "\u001b[32m[1113 14:23:00 @collection.py:165]\u001b[0m These collections were modified but restored in : (tf.GraphKeys.SUMMARIES: 0->2)\n",
      "\u001b[32m[1113 14:23:00 @sessinit.py:87]\u001b[0m \u001b[5m\u001b[31mWRN\u001b[0m The following variables are in the checkpoint, but not found in the graph: global_step, optimize/beta1_power, optimize/beta2_power\n",
      "INFO:tensorflow:Graph was finalized.\n",
      "INFO:tensorflow:Running local_init_op.\n",
      "INFO:tensorflow:Done running local_init_op.\n",
      "\u001b[32m[1113 14:23:01 @sessinit.py:114]\u001b[0m Restoring checkpoint from ./output_TGAN/columns_order/order7/model/model-200000 ...\n",
      "INFO:tensorflow:Restoring parameters from ./output_TGAN/columns_order/order7/model/model-200000\n"
     ]
    },
    {
     "name": "stderr",
     "output_type": "stream",
     "text": [
      "|          |438/?[00:16<00:00,25.93it/s]      \n"
     ]
    },
    {
     "name": "stdout",
     "output_type": "stream",
     "text": [
      "Preparing synth data for order8\n",
      "\u001b[32m[1113 14:23:23 @collection.py:146]\u001b[0m New collections created in tower : tf.GraphKeys.REGULARIZATION_LOSSES\n",
      "\u001b[32m[1113 14:23:23 @collection.py:165]\u001b[0m These collections were modified but restored in : (tf.GraphKeys.SUMMARIES: 0->2)\n",
      "\u001b[32m[1113 14:23:23 @sessinit.py:87]\u001b[0m \u001b[5m\u001b[31mWRN\u001b[0m The following variables are in the checkpoint, but not found in the graph: global_step, optimize/beta1_power, optimize/beta2_power\n",
      "INFO:tensorflow:Graph was finalized.\n",
      "INFO:tensorflow:Running local_init_op.\n",
      "INFO:tensorflow:Done running local_init_op.\n",
      "\u001b[32m[1113 14:23:25 @sessinit.py:114]\u001b[0m Restoring checkpoint from ./output_TGAN/columns_order/order8/model/model-200000 ...\n",
      "INFO:tensorflow:Restoring parameters from ./output_TGAN/columns_order/order8/model/model-200000\n"
     ]
    },
    {
     "name": "stderr",
     "output_type": "stream",
     "text": [
      "|          |438/?[00:19<00:00,22.32it/s]      \n"
     ]
    },
    {
     "name": "stdout",
     "output_type": "stream",
     "text": [
      "Preparing synth data for order9\n",
      "\u001b[32m[1113 14:23:50 @collection.py:146]\u001b[0m New collections created in tower : tf.GraphKeys.REGULARIZATION_LOSSES\n",
      "\u001b[32m[1113 14:23:50 @collection.py:165]\u001b[0m These collections were modified but restored in : (tf.GraphKeys.SUMMARIES: 0->2)\n",
      "\u001b[32m[1113 14:23:50 @sessinit.py:87]\u001b[0m \u001b[5m\u001b[31mWRN\u001b[0m The following variables are in the checkpoint, but not found in the graph: global_step, optimize/beta1_power, optimize/beta2_power\n",
      "INFO:tensorflow:Graph was finalized.\n",
      "INFO:tensorflow:Running local_init_op.\n",
      "INFO:tensorflow:Done running local_init_op.\n",
      "\u001b[32m[1113 14:23:51 @sessinit.py:114]\u001b[0m Restoring checkpoint from ./output_TGAN/columns_order/order9/model/model-200000 ...\n",
      "INFO:tensorflow:Restoring parameters from ./output_TGAN/columns_order/order9/model/model-200000\n"
     ]
    },
    {
     "name": "stderr",
     "output_type": "stream",
     "text": [
      "|          |438/?[00:16<00:00,27.00it/s]      \n"
     ]
    },
    {
     "name": "stdout",
     "output_type": "stream",
     "text": [
      "Preparing synth data for order10\n",
      "\u001b[32m[1113 14:24:13 @collection.py:146]\u001b[0m New collections created in tower : tf.GraphKeys.REGULARIZATION_LOSSES\n",
      "\u001b[32m[1113 14:24:13 @collection.py:165]\u001b[0m These collections were modified but restored in : (tf.GraphKeys.SUMMARIES: 0->2)\n",
      "\u001b[32m[1113 14:24:13 @sessinit.py:87]\u001b[0m \u001b[5m\u001b[31mWRN\u001b[0m The following variables are in the checkpoint, but not found in the graph: global_step, optimize/beta1_power, optimize/beta2_power\n",
      "INFO:tensorflow:Graph was finalized.\n",
      "INFO:tensorflow:Running local_init_op.\n",
      "INFO:tensorflow:Done running local_init_op.\n",
      "\u001b[32m[1113 14:24:15 @sessinit.py:114]\u001b[0m Restoring checkpoint from ./output_TGAN/columns_order/order10/model/model-200000 ...\n",
      "INFO:tensorflow:Restoring parameters from ./output_TGAN/columns_order/order10/model/model-200000\n"
     ]
    },
    {
     "name": "stderr",
     "output_type": "stream",
     "text": [
      "|          |438/?[00:15<00:00,29.03it/s]      \n"
     ]
    }
   ],
   "source": [
    "for n in names:\n",
    "    print(\"Preparing synth data for {}\".format(n))\n",
    "    tgan = TGANModel.load(input_folder + n + '/trained')\n",
    "    samples = tgan.sample(len(df))\n",
    "    samples.age = np.round(samples.age)\n",
    "    samples.to_csv(output_folder + n + '.csv', index=False)"
   ]
  },
  {
   "cell_type": "markdown",
   "metadata": {},
   "source": [
    "# TGAN - 1000 epochs"
   ]
  },
  {
   "cell_type": "code",
   "execution_count": 8,
   "metadata": {},
   "outputs": [
    {
     "name": "stdout",
     "output_type": "stream",
     "text": [
      "\u001b[32m[1109 15:32:17 @collection.py:146]\u001b[0m New collections created in tower : tf.GraphKeys.REGULARIZATION_LOSSES\n",
      "\u001b[32m[1109 15:32:17 @collection.py:165]\u001b[0m These collections were modified but restored in : (tf.GraphKeys.SUMMARIES: 0->2)\n",
      "\u001b[32m[1109 15:32:17 @sessinit.py:87]\u001b[0m \u001b[5m\u001b[31mWRN\u001b[0m The following variables are in the checkpoint, but not found in the graph: global_step, optimize/beta1_power, optimize/beta2_power\n",
      "INFO:tensorflow:Graph was finalized.\n",
      "INFO:tensorflow:Running local_init_op.\n",
      "INFO:tensorflow:Done running local_init_op.\n",
      "\u001b[32m[1109 15:32:18 @sessinit.py:114]\u001b[0m Restoring checkpoint from ./output_TGAN/output/model/model-2000000 ...\n",
      "INFO:tensorflow:Restoring parameters from ./output_TGAN/output/model/model-2000000\n"
     ]
    }
   ],
   "source": [
    "tgan = TGANModel.load('./output_TGAN/output_1000/trained')"
   ]
  },
  {
   "cell_type": "code",
   "execution_count": 9,
   "metadata": {},
   "outputs": [
    {
     "name": "stderr",
     "output_type": "stream",
     "text": [
      "|          |438/?[00:15<00:00,27.59it/s]      \n"
     ]
    },
    {
     "data": {
      "text/html": [
       "<div>\n",
       "<style scoped>\n",
       "    .dataframe tbody tr th:only-of-type {\n",
       "        vertical-align: middle;\n",
       "    }\n",
       "\n",
       "    .dataframe tbody tr th {\n",
       "        vertical-align: top;\n",
       "    }\n",
       "\n",
       "    .dataframe thead th {\n",
       "        text-align: right;\n",
       "    }\n",
       "</style>\n",
       "<table border=\"1\" class=\"dataframe\">\n",
       "  <thead>\n",
       "    <tr style=\"text-align: right;\">\n",
       "      <th></th>\n",
       "      <th>choice</th>\n",
       "      <th>travel_dow</th>\n",
       "      <th>trip_purpose</th>\n",
       "      <th>distance</th>\n",
       "      <th>hh_vehicles</th>\n",
       "      <th>hh_size</th>\n",
       "      <th>hh_bikes</th>\n",
       "      <th>hh_descr</th>\n",
       "      <th>hh_income</th>\n",
       "      <th>gender</th>\n",
       "      <th>age</th>\n",
       "      <th>license</th>\n",
       "      <th>education_level</th>\n",
       "      <th>work_status</th>\n",
       "      <th>departure_time</th>\n",
       "    </tr>\n",
       "  </thead>\n",
       "  <tbody>\n",
       "    <tr>\n",
       "      <th>0</th>\n",
       "      <td>walk</td>\n",
       "      <td>3</td>\n",
       "      <td>HOME_OTHER</td>\n",
       "      <td>-0.145826</td>\n",
       "      <td>1</td>\n",
       "      <td>4</td>\n",
       "      <td>4</td>\n",
       "      <td>1</td>\n",
       "      <td>7</td>\n",
       "      <td>1</td>\n",
       "      <td>56.770448</td>\n",
       "      <td>1.0</td>\n",
       "      <td>5</td>\n",
       "      <td>Retired</td>\n",
       "      <td>21.472414</td>\n",
       "    </tr>\n",
       "    <tr>\n",
       "      <th>1</th>\n",
       "      <td>drive</td>\n",
       "      <td>1</td>\n",
       "      <td>OTHER</td>\n",
       "      <td>5.238106</td>\n",
       "      <td>1</td>\n",
       "      <td>2</td>\n",
       "      <td>1</td>\n",
       "      <td>2</td>\n",
       "      <td>7</td>\n",
       "      <td>0</td>\n",
       "      <td>48.727123</td>\n",
       "      <td>1.0</td>\n",
       "      <td>5</td>\n",
       "      <td>FTE</td>\n",
       "      <td>11.560687</td>\n",
       "    </tr>\n",
       "    <tr>\n",
       "      <th>2</th>\n",
       "      <td>drive</td>\n",
       "      <td>5</td>\n",
       "      <td>SHOPPING</td>\n",
       "      <td>21.093629</td>\n",
       "      <td>3</td>\n",
       "      <td>2</td>\n",
       "      <td>2</td>\n",
       "      <td>1</td>\n",
       "      <td>7</td>\n",
       "      <td>1</td>\n",
       "      <td>45.843921</td>\n",
       "      <td>1.0</td>\n",
       "      <td>6</td>\n",
       "      <td>FTE</td>\n",
       "      <td>19.746883</td>\n",
       "    </tr>\n",
       "    <tr>\n",
       "      <th>3</th>\n",
       "      <td>passenger</td>\n",
       "      <td>7</td>\n",
       "      <td>SHOPPING</td>\n",
       "      <td>5.610004</td>\n",
       "      <td>2</td>\n",
       "      <td>2</td>\n",
       "      <td>0</td>\n",
       "      <td>1</td>\n",
       "      <td>6</td>\n",
       "      <td>0</td>\n",
       "      <td>48.444202</td>\n",
       "      <td>1.0</td>\n",
       "      <td>4</td>\n",
       "      <td>FTE</td>\n",
       "      <td>16.642691</td>\n",
       "    </tr>\n",
       "    <tr>\n",
       "      <th>4</th>\n",
       "      <td>drive</td>\n",
       "      <td>1</td>\n",
       "      <td>HOME_OTHER</td>\n",
       "      <td>0.986547</td>\n",
       "      <td>3</td>\n",
       "      <td>3</td>\n",
       "      <td>1</td>\n",
       "      <td>1</td>\n",
       "      <td>7</td>\n",
       "      <td>1</td>\n",
       "      <td>58.471113</td>\n",
       "      <td>1.0</td>\n",
       "      <td>3</td>\n",
       "      <td>FTE</td>\n",
       "      <td>17.698649</td>\n",
       "    </tr>\n",
       "  </tbody>\n",
       "</table>\n",
       "</div>"
      ],
      "text/plain": [
       "      choice travel_dow trip_purpose   distance hh_vehicles hh_size hh_bikes  \\\n",
       "0       walk          3   HOME_OTHER  -0.145826           1       4        4   \n",
       "1      drive          1        OTHER   5.238106           1       2        1   \n",
       "2      drive          5     SHOPPING  21.093629           3       2        2   \n",
       "3  passenger          7     SHOPPING   5.610004           2       2        0   \n",
       "4      drive          1   HOME_OTHER   0.986547           3       3        1   \n",
       "\n",
       "  hh_descr hh_income gender        age license education_level work_status  \\\n",
       "0        1         7      1  56.770448     1.0               5     Retired   \n",
       "1        2         7      0  48.727123     1.0               5         FTE   \n",
       "2        1         7      1  45.843921     1.0               6         FTE   \n",
       "3        1         6      0  48.444202     1.0               4         FTE   \n",
       "4        1         7      1  58.471113     1.0               3         FTE   \n",
       "\n",
       "   departure_time  \n",
       "0       21.472414  \n",
       "1       11.560687  \n",
       "2       19.746883  \n",
       "3       16.642691  \n",
       "4       17.698649  "
      ]
     },
     "execution_count": 9,
     "metadata": {},
     "output_type": "execute_result"
    }
   ],
   "source": [
    "samples = tgan.sample(len(df))\n",
    "\n",
    "samples.head()"
   ]
  },
  {
   "cell_type": "code",
   "execution_count": 10,
   "metadata": {},
   "outputs": [],
   "source": [
    "samples.age = np.round(samples.age)"
   ]
  },
  {
   "cell_type": "code",
   "execution_count": 11,
   "metadata": {},
   "outputs": [],
   "source": [
    "samples.to_csv('../synth_data/Chicago/tgan_1000.csv', index=False)"
   ]
  },
  {
   "cell_type": "code",
   "execution_count": null,
   "metadata": {},
   "outputs": [],
   "source": []
  }
 ],
 "metadata": {
  "kernelspec": {
   "display_name": "Python [conda env:py37]",
   "language": "python",
   "name": "conda-env-py37-py"
  },
  "language_info": {
   "codemirror_mode": {
    "name": "ipython",
    "version": 3
   },
   "file_extension": ".py",
   "mimetype": "text/x-python",
   "name": "python",
   "nbconvert_exporter": "python",
   "pygments_lexer": "ipython3",
   "version": "3.7.9"
  }
 },
 "nbformat": 4,
 "nbformat_minor": 4
}
