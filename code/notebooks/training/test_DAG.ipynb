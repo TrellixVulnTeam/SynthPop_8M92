{
 "cells": [
  {
   "cell_type": "code",
   "execution_count": 1,
   "metadata": {},
   "outputs": [],
   "source": [
    "import os\n",
    "os.chdir('../..')"
   ]
  },
  {
   "cell_type": "code",
   "execution_count": 2,
   "metadata": {},
   "outputs": [
    {
     "name": "stdout",
     "output_type": "stream",
     "text": [
      "3.7.9\n"
     ]
    }
   ],
   "source": [
    "from platform import python_version\n",
    "print(python_version())"
   ]
  },
  {
   "cell_type": "code",
   "execution_count": 3,
   "metadata": {
    "scrolled": true
   },
   "outputs": [
    {
     "name": "stdout",
     "output_type": "stream",
     "text": [
      "WARNING:tensorflow:From D:\\Users\\glede\\anaconda3\\envs\\py37\\lib\\site-packages\\tensorpack\\callbacks\\hooks.py:17: The name tf.train.SessionRunHook is deprecated. Please use tf.estimator.SessionRunHook instead.\n",
      "\n",
      "WARNING:tensorflow:From D:\\Users\\glede\\anaconda3\\envs\\py37\\lib\\site-packages\\tensorpack\\tfutils\\optimizer.py:18: The name tf.train.Optimizer is deprecated. Please use tf.compat.v1.train.Optimizer instead.\n",
      "\n",
      "WARNING:tensorflow:From D:\\Users\\glede\\anaconda3\\envs\\py37\\lib\\site-packages\\tensorpack\\tfutils\\sesscreate.py:20: The name tf.train.SessionCreator is deprecated. Please use tf.compat.v1.train.SessionCreator instead.\n",
      "\n"
     ]
    }
   ],
   "source": [
    "import numpy as np\n",
    "import pandas as pd\n",
    "\n",
    "import tensorflow as tf\n",
    "\n",
    "import matplotlib.pyplot as plt\n",
    "\n",
    "from modules.datgan import DATWGAN\n",
    "\n",
    "import networkx as nx\n",
    "import json\n",
    "import beepy\n",
    "\n",
    "# For the Python notebook\n",
    "%matplotlib inline\n",
    "%reload_ext autoreload\n",
    "%autoreload 2"
   ]
  },
  {
   "cell_type": "code",
   "execution_count": 4,
   "metadata": {},
   "outputs": [],
   "source": [
    "dataset = 'Chicago'\n",
    "name = 'NOLINKS'"
   ]
  },
  {
   "cell_type": "code",
   "execution_count": 5,
   "metadata": {},
   "outputs": [],
   "source": [
    "df = pd.read_csv('../data/{}/data.csv'.format(dataset), index_col=False)"
   ]
  },
  {
   "cell_type": "code",
   "execution_count": 6,
   "metadata": {},
   "outputs": [
    {
     "data": {
      "text/html": [
       "<div>\n",
       "<style scoped>\n",
       "    .dataframe tbody tr th:only-of-type {\n",
       "        vertical-align: middle;\n",
       "    }\n",
       "\n",
       "    .dataframe tbody tr th {\n",
       "        vertical-align: top;\n",
       "    }\n",
       "\n",
       "    .dataframe thead th {\n",
       "        text-align: right;\n",
       "    }\n",
       "</style>\n",
       "<table border=\"1\" class=\"dataframe\">\n",
       "  <thead>\n",
       "    <tr style=\"text-align: right;\">\n",
       "      <th></th>\n",
       "      <th>choice</th>\n",
       "      <th>travel_dow</th>\n",
       "      <th>trip_purpose</th>\n",
       "      <th>distance</th>\n",
       "      <th>hh_vehicles</th>\n",
       "      <th>hh_size</th>\n",
       "      <th>hh_bikes</th>\n",
       "      <th>hh_descr</th>\n",
       "      <th>hh_income</th>\n",
       "      <th>gender</th>\n",
       "      <th>age</th>\n",
       "      <th>license</th>\n",
       "      <th>education_level</th>\n",
       "      <th>work_status</th>\n",
       "      <th>departure_time</th>\n",
       "    </tr>\n",
       "  </thead>\n",
       "  <tbody>\n",
       "    <tr>\n",
       "      <th>0</th>\n",
       "      <td>drive</td>\n",
       "      <td>7</td>\n",
       "      <td>HOME_OTHER</td>\n",
       "      <td>23.42579</td>\n",
       "      <td>2</td>\n",
       "      <td>2</td>\n",
       "      <td>0</td>\n",
       "      <td>2</td>\n",
       "      <td>6</td>\n",
       "      <td>1</td>\n",
       "      <td>66</td>\n",
       "      <td>1.0</td>\n",
       "      <td>6</td>\n",
       "      <td>FTE</td>\n",
       "      <td>9.333333</td>\n",
       "    </tr>\n",
       "    <tr>\n",
       "      <th>1</th>\n",
       "      <td>drive</td>\n",
       "      <td>7</td>\n",
       "      <td>OTHER</td>\n",
       "      <td>1.71259</td>\n",
       "      <td>2</td>\n",
       "      <td>2</td>\n",
       "      <td>0</td>\n",
       "      <td>2</td>\n",
       "      <td>6</td>\n",
       "      <td>1</td>\n",
       "      <td>66</td>\n",
       "      <td>1.0</td>\n",
       "      <td>6</td>\n",
       "      <td>FTE</td>\n",
       "      <td>12.083333</td>\n",
       "    </tr>\n",
       "    <tr>\n",
       "      <th>2</th>\n",
       "      <td>drive</td>\n",
       "      <td>7</td>\n",
       "      <td>HOME_OTHER</td>\n",
       "      <td>21.77887</td>\n",
       "      <td>2</td>\n",
       "      <td>2</td>\n",
       "      <td>0</td>\n",
       "      <td>2</td>\n",
       "      <td>6</td>\n",
       "      <td>1</td>\n",
       "      <td>66</td>\n",
       "      <td>1.0</td>\n",
       "      <td>6</td>\n",
       "      <td>FTE</td>\n",
       "      <td>15.500000</td>\n",
       "    </tr>\n",
       "    <tr>\n",
       "      <th>3</th>\n",
       "      <td>drive</td>\n",
       "      <td>7</td>\n",
       "      <td>SHOPPING</td>\n",
       "      <td>2.02603</td>\n",
       "      <td>2</td>\n",
       "      <td>2</td>\n",
       "      <td>0</td>\n",
       "      <td>2</td>\n",
       "      <td>6</td>\n",
       "      <td>1</td>\n",
       "      <td>66</td>\n",
       "      <td>1.0</td>\n",
       "      <td>6</td>\n",
       "      <td>FTE</td>\n",
       "      <td>17.500000</td>\n",
       "    </tr>\n",
       "    <tr>\n",
       "      <th>4</th>\n",
       "      <td>drive</td>\n",
       "      <td>7</td>\n",
       "      <td>SHOPPING</td>\n",
       "      <td>0.87691</td>\n",
       "      <td>2</td>\n",
       "      <td>2</td>\n",
       "      <td>0</td>\n",
       "      <td>2</td>\n",
       "      <td>6</td>\n",
       "      <td>1</td>\n",
       "      <td>66</td>\n",
       "      <td>1.0</td>\n",
       "      <td>6</td>\n",
       "      <td>FTE</td>\n",
       "      <td>18.250000</td>\n",
       "    </tr>\n",
       "  </tbody>\n",
       "</table>\n",
       "</div>"
      ],
      "text/plain": [
       "  choice  travel_dow trip_purpose  distance  hh_vehicles  hh_size  hh_bikes  \\\n",
       "0  drive           7   HOME_OTHER  23.42579            2        2         0   \n",
       "1  drive           7        OTHER   1.71259            2        2         0   \n",
       "2  drive           7   HOME_OTHER  21.77887            2        2         0   \n",
       "3  drive           7     SHOPPING   2.02603            2        2         0   \n",
       "4  drive           7     SHOPPING   0.87691            2        2         0   \n",
       "\n",
       "   hh_descr  hh_income  gender  age  license  education_level work_status  \\\n",
       "0         2          6       1   66      1.0                6         FTE   \n",
       "1         2          6       1   66      1.0                6         FTE   \n",
       "2         2          6       1   66      1.0                6         FTE   \n",
       "3         2          6       1   66      1.0                6         FTE   \n",
       "4         2          6       1   66      1.0                6         FTE   \n",
       "\n",
       "   departure_time  \n",
       "0        9.333333  \n",
       "1       12.083333  \n",
       "2       15.500000  \n",
       "3       17.500000  \n",
       "4       18.250000  "
      ]
     },
     "execution_count": 6,
     "metadata": {},
     "output_type": "execute_result"
    }
   ],
   "source": [
    "df.head()"
   ]
  },
  {
   "cell_type": "code",
   "execution_count": 7,
   "metadata": {},
   "outputs": [],
   "source": [
    "continuous_columns = [\"distance\", \"age\", \"departure_time\"]"
   ]
  },
  {
   "cell_type": "code",
   "execution_count": 8,
   "metadata": {},
   "outputs": [],
   "source": [
    "# personalised graph\n",
    "graph = nx.DiGraph()\n",
    "\n",
    "if name in ['FULLDAG', 'TRANSRED']:\n",
    "    graph.add_edges_from([\n",
    "        (\"age\", \"license\"),\n",
    "        (\"age\", \"education_level\"),\n",
    "        (\"gender\", \"work_status\"),\n",
    "        (\"education_level\", \"work_status\"),\n",
    "        (\"education_level\", \"hh_income\"),\n",
    "        (\"work_status\", \"hh_income\"),\n",
    "        (\"hh_income\", \"hh_descr\"),\n",
    "        (\"hh_income\", \"hh_size\"),\n",
    "        (\"hh_size\", \"hh_vehicles\"),\n",
    "        (\"hh_size\", \"hh_bikes\"),\n",
    "        (\"work_status\", \"trip_purpose\"),\n",
    "        (\"trip_purpose\", \"departure_time\"),\n",
    "        (\"trip_purpose\", \"distance\"),\n",
    "        (\"travel_dow\", \"choice\"),\n",
    "        (\"distance\", \"choice\"),\n",
    "        (\"departure_time\", \"choice\"),\n",
    "        (\"hh_vehicles\", \"choice\"),\n",
    "        (\"hh_bikes\", \"choice\"),\n",
    "        (\"license\", \"choice\"),\n",
    "        # Non necessary links\n",
    "        (\"education_level\", \"hh_size\"),\n",
    "        (\"work_status\", \"hh_descr\"),\n",
    "        (\"work_status\", \"hh_size\"),\n",
    "        (\"hh_income\", \"hh_bikes\"),\n",
    "        (\"hh_income\", \"hh_vehicles\"),\n",
    "        (\"trip_purpose\", \"choice\")\n",
    "    ])\n",
    "    \n",
    "    if name is 'TRANSRED':\n",
    "        graph = nx.transitive_reduction(graph)\n",
    "elif name is 'LINEAR':\n",
    "    list_ = []\n",
    "    for i in range(len(df.columns)-1):\n",
    "        list_.append((df.columns[i], df.columns[i+1]))\n",
    "    graph.add_edges_from(list_)\n",
    "elif name is 'NOLINKS':\n",
    "    for c in df.columns:\n",
    "        graph.add_node(c)\n",
    "elif name is 'CHOICE':\n",
    "    list_ = []\n",
    "    for c in df.columns:\n",
    "        if c == 'choice':\n",
    "            pass\n",
    "        else:\n",
    "            list_.append((c, 'choice'))\n",
    "    graph.add_edges_from(list_)\n",
    "else:\n",
    "    print(\"PROBLEM\")"
   ]
  },
  {
   "cell_type": "code",
   "execution_count": 9,
   "metadata": {},
   "outputs": [],
   "source": [
    "output_folder = '../output/' + dataset + '/{}/'.format(name)"
   ]
  },
  {
   "cell_type": "code",
   "execution_count": 10,
   "metadata": {},
   "outputs": [],
   "source": [
    "datgan = DATWGAN(continuous_columns, max_epoch=300, batch_size=500, output=output_folder, gpu=0)"
   ]
  },
  {
   "cell_type": "code",
   "execution_count": 11,
   "metadata": {},
   "outputs": [
    {
     "name": "stdout",
     "output_type": "stream",
     "text": [
      "\u001b[32m[1029 16:28:39 @DATWGAN.py:128]\u001b[0m Preprocessing the data!\n",
      "\u001b[32m[1029 16:28:39 @data.py:387]\u001b[0m Encoding categorical variable \"choice\"...\n",
      "\u001b[32m[1029 16:28:39 @data.py:387]\u001b[0m Encoding categorical variable \"travel_dow\"...\n",
      "\u001b[32m[1029 16:28:39 @data.py:387]\u001b[0m Encoding categorical variable \"trip_purpose\"...\n",
      "\u001b[32m[1029 16:28:39 @data.py:374]\u001b[0m Encoding continuous variable \"distance\"...\n",
      "\u001b[32m[1029 16:28:39 @data.py:247]\u001b[0m   Found 0 peaks!\n",
      "\u001b[32m[1029 16:28:39 @data.py:255]\u001b[0m   Encoding with 10 components.\n",
      "\u001b[32m[1029 16:30:19 @data.py:274]\u001b[0m   Predictions were done on 10 components => FINISHED!\n",
      "\u001b[32m[1029 16:30:19 @data.py:387]\u001b[0m Encoding categorical variable \"hh_vehicles\"...\n",
      "\u001b[32m[1029 16:30:19 @data.py:387]\u001b[0m Encoding categorical variable \"hh_size\"...\n",
      "\u001b[32m[1029 16:30:19 @data.py:387]\u001b[0m Encoding categorical variable \"hh_bikes\"...\n"
     ]
    },
    {
     "name": "stderr",
     "output_type": "stream",
     "text": [
      "D:\\Users\\glede\\anaconda3\\envs\\py37\\lib\\site-packages\\sklearn\\mixture\\_base.py:282: ConvergenceWarning: Initialization 10 did not converge. Try different init parameters, or increase max_iter, tol or check for degenerate data.\n",
      "  ConvergenceWarning,\n"
     ]
    },
    {
     "name": "stdout",
     "output_type": "stream",
     "text": [
      "\u001b[32m[1029 16:30:19 @data.py:387]\u001b[0m Encoding categorical variable \"hh_descr\"...\n",
      "\u001b[32m[1029 16:30:19 @data.py:387]\u001b[0m Encoding categorical variable \"hh_income\"...\n",
      "\u001b[32m[1029 16:30:19 @data.py:387]\u001b[0m Encoding categorical variable \"gender\"...\n",
      "\u001b[32m[1029 16:30:19 @data.py:374]\u001b[0m Encoding continuous variable \"age\"...\n",
      "\u001b[32m[1029 16:30:19 @data.py:247]\u001b[0m   Found 6 peaks!\n",
      "\u001b[32m[1029 16:30:19 @data.py:255]\u001b[0m   Encoding with 6 components.\n",
      "\u001b[32m[1029 16:31:18 @data.py:274]\u001b[0m   Predictions were done on 6 components => FINISHED!\n",
      "\u001b[32m[1029 16:31:18 @data.py:387]\u001b[0m Encoding categorical variable \"license\"...\n",
      "\u001b[32m[1029 16:31:18 @data.py:387]\u001b[0m Encoding categorical variable \"education_level\"...\n",
      "\u001b[32m[1029 16:31:18 @data.py:387]\u001b[0m Encoding categorical variable \"work_status\"...\n",
      "\u001b[32m[1029 16:31:18 @data.py:374]\u001b[0m Encoding continuous variable \"departure_time\"...\n",
      "\u001b[32m[1029 16:31:19 @data.py:247]\u001b[0m   Found 8 peaks!\n",
      "\u001b[32m[1029 16:31:19 @data.py:255]\u001b[0m   Encoding with 8 components.\n"
     ]
    },
    {
     "name": "stderr",
     "output_type": "stream",
     "text": [
      "D:\\Users\\glede\\anaconda3\\envs\\py37\\lib\\site-packages\\sklearn\\mixture\\_base.py:282: ConvergenceWarning: Initialization 10 did not converge. Try different init parameters, or increase max_iter, tol or check for degenerate data.\n",
      "  ConvergenceWarning,\n"
     ]
    },
    {
     "name": "stdout",
     "output_type": "stream",
     "text": [
      "\u001b[32m[1029 16:32:37 @data.py:274]\u001b[0m   Predictions were done on 8 components => FINISHED!\n",
      "\u001b[32m[1029 16:32:37 @DATWGAN.py:141]\u001b[0m Preprocessed data have been saved!\n"
     ]
    },
    {
     "name": "stderr",
     "output_type": "stream",
     "text": [
      "D:\\Users\\glede\\anaconda3\\envs\\py37\\lib\\site-packages\\sklearn\\mixture\\_base.py:282: ConvergenceWarning: Initialization 10 did not converge. Try different init parameters, or increase max_iter, tol or check for degenerate data.\n",
      "  ConvergenceWarning,\n"
     ]
    },
    {
     "name": "stdout",
     "output_type": "stream",
     "text": [
      "WARNING:tensorflow:From D:\\Users\\glede\\anaconda3\\envs\\py37\\lib\\site-packages\\tensorpack\\graph_builder\\model_desc.py:29: The name tf.get_default_graph is deprecated. Please use tf.compat.v1.get_default_graph instead.\n",
      "\n",
      "WARNING:tensorflow:From D:\\Users\\glede\\anaconda3\\envs\\py37\\lib\\site-packages\\tensorpack\\graph_builder\\model_desc.py:39: The name tf.placeholder is deprecated. Please use tf.compat.v1.placeholder instead.\n",
      "\n",
      "WARNING:tensorflow:From D:\\Users\\glede\\anaconda3\\envs\\py37\\lib\\site-packages\\tensorpack\\input_source\\input_source.py:219: The name tf.FIFOQueue is deprecated. Please use tf.queue.FIFOQueue instead.\n",
      "\n",
      "\u001b[32m[1029 16:32:38 @input_source.py:222]\u001b[0m Setting up the queue 'QueueInput/input_queue' for CPU prefetching ...\n",
      "WARNING:tensorflow:From D:\\Users\\glede\\anaconda3\\envs\\py37\\lib\\site-packages\\tensorpack\\tfutils\\summary.py:237: The name tf.get_variable_scope is deprecated. Please use tf.compat.v1.get_variable_scope instead.\n",
      "\n",
      "WARNING:tensorflow:From D:\\Users\\glede\\anaconda3\\envs\\py37\\lib\\site-packages\\tensorpack\\tfutils\\summary.py:27: The name tf.variable_scope is deprecated. Please use tf.compat.v1.variable_scope instead.\n",
      "\n",
      "WARNING:tensorflow:From D:\\Users\\glede\\anaconda3\\envs\\py37\\lib\\site-packages\\tensorpack\\tfutils\\summary.py:254: The name tf.get_variable is deprecated. Please use tf.compat.v1.get_variable instead.\n",
      "\n",
      "WARNING:tensorflow:From D:\\Users\\glede\\anaconda3\\envs\\py37\\lib\\site-packages\\tensorpack\\tfutils\\summary.py:264: The name tf.summary.scalar is deprecated. Please use tf.compat.v1.summary.scalar instead.\n",
      "\n",
      "WARNING:tensorflow:From D:\\Users\\glede\\anaconda3\\envs\\py37\\lib\\site-packages\\tensorpack\\tfutils\\collection.py:105: The name tf.GraphKeys is deprecated. Please use tf.compat.v1.GraphKeys instead.\n",
      "\n",
      "WARNING:tensorflow:From D:\\Users\\glede\\anaconda3\\envs\\py37\\lib\\site-packages\\tensorpack\\tfutils\\collection.py:33: The name tf.get_collection is deprecated. Please use tf.compat.v1.get_collection instead.\n",
      "\n",
      "WARNING:tensorflow:From C:\\Users\\glede\\Documents\\EPFL\\PhD\\SynthPop\\code\\modules\\datgan\\models\\DATSGANModel.py:532: The name tf.random_normal is deprecated. Please use tf.random.normal instead.\n",
      "\n",
      "WARNING:tensorflow:From C:\\Users\\glede\\Documents\\EPFL\\PhD\\SynthPop\\code\\modules\\datgan\\models\\DATSGANModel.py:535: The name tf.placeholder_with_default is deprecated. Please use tf.compat.v1.placeholder_with_default instead.\n",
      "\n",
      "WARNING:tensorflow:From C:\\Users\\glede\\Documents\\EPFL\\PhD\\SynthPop\\code\\modules\\datgan\\models\\DATSGANModel.py:192: LSTMCell.__init__ (from tensorflow.python.ops.rnn_cell_impl) is deprecated and will be removed in a future version.\n",
      "Instructions for updating:\n",
      "This class is equivalent as tf.keras.layers.LSTMCell, and will be replaced by that in Tensorflow 2.0.\n",
      "\u001b[32m[1029 16:32:38 @DATSGANModel.py:209]\u001b[0m \u001b[91mCreating cell for choice (in-edges: 0)\n",
      "WARNING:tensorflow:From D:\\Users\\glede\\anaconda3\\envs\\py37\\lib\\site-packages\\tensorflow_core\\python\\ops\\rnn_cell_impl.py:958: Layer.add_variable (from tensorflow.python.keras.engine.base_layer) is deprecated and will be removed in a future version.\n",
      "Instructions for updating:\n",
      "Please use `layer.add_weight` method instead.\n",
      "WARNING:tensorflow:From D:\\Users\\glede\\anaconda3\\envs\\py37\\lib\\site-packages\\tensorflow_core\\python\\ops\\rnn_cell_impl.py:962: calling Zeros.__init__ (from tensorflow.python.ops.init_ops) with dtype is deprecated and will be removed in a future version.\n",
      "Instructions for updating:\n",
      "Call initializer instance with the dtype argument instead of passing it to the constructor\n",
      "\u001b[32m[1029 16:32:38 @registry.py:126]\u001b[0m gen/LSTM/00/FC input: [500, 100]\n",
      "WARNING:tensorflow:From D:\\Users\\glede\\anaconda3\\envs\\py37\\lib\\site-packages\\tensorpack\\models\\fc.py:57: The name tf.layers.Dense is deprecated. Please use tf.compat.v1.layers.Dense instead.\n",
      "\n",
      "WARNING:tensorflow:From D:\\Users\\glede\\anaconda3\\envs\\py37\\lib\\site-packages\\tensorpack\\models\\fc.py:67: Layer.apply (from tensorflow.python.keras.engine.base_layer) is deprecated and will be removed in a future version.\n",
      "Instructions for updating:\n",
      "Please use `layer.__call__` method instead.\n",
      "\u001b[32m[1029 16:32:38 @registry.py:134]\u001b[0m gen/LSTM/00/FC output: [500, 100]\n",
      "\u001b[32m[1029 16:32:38 @registry.py:126]\u001b[0m gen/LSTM/00/FC2 input: [500, 100]\n",
      "\u001b[32m[1029 16:32:38 @registry.py:134]\u001b[0m gen/LSTM/00/FC2 output: [500, 5]\n",
      "\u001b[32m[1029 16:32:38 @registry.py:126]\u001b[0m gen/LSTM/00/FC3 input: [500, 5]\n",
      "\u001b[32m[1029 16:32:38 @registry.py:134]\u001b[0m gen/LSTM/00/FC3 output: [500, 100]\n",
      "\u001b[32m[1029 16:32:38 @DATSGANModel.py:209]\u001b[0m \u001b[91mCreating cell for travel_dow (in-edges: 0)\n",
      "\u001b[32m[1029 16:32:38 @registry.py:126]\u001b[0m gen/LSTM/01/FC input: [500, 100]\n",
      "\u001b[32m[1029 16:32:38 @registry.py:134]\u001b[0m gen/LSTM/01/FC output: [500, 100]\n",
      "\u001b[32m[1029 16:32:38 @registry.py:126]\u001b[0m gen/LSTM/01/FC2 input: [500, 100]\n",
      "\u001b[32m[1029 16:32:38 @registry.py:134]\u001b[0m gen/LSTM/01/FC2 output: [500, 7]\n",
      "\u001b[32m[1029 16:32:38 @registry.py:126]\u001b[0m gen/LSTM/01/FC3 input: [500, 7]\n",
      "\u001b[32m[1029 16:32:38 @registry.py:134]\u001b[0m gen/LSTM/01/FC3 output: [500, 100]\n",
      "\u001b[32m[1029 16:32:38 @DATSGANModel.py:209]\u001b[0m \u001b[91mCreating cell for trip_purpose (in-edges: 0)\n",
      "\u001b[32m[1029 16:32:38 @registry.py:126]\u001b[0m gen/LSTM/02/FC input: [500, 100]\n",
      "\u001b[32m[1029 16:32:38 @registry.py:134]\u001b[0m gen/LSTM/02/FC output: [500, 100]\n",
      "\u001b[32m[1029 16:32:38 @registry.py:126]\u001b[0m gen/LSTM/02/FC2 input: [500, 100]\n",
      "\u001b[32m[1029 16:32:38 @registry.py:134]\u001b[0m gen/LSTM/02/FC2 output: [500, 7]\n",
      "\u001b[32m[1029 16:32:38 @registry.py:126]\u001b[0m gen/LSTM/02/FC3 input: [500, 7]\n",
      "\u001b[32m[1029 16:32:38 @registry.py:134]\u001b[0m gen/LSTM/02/FC3 output: [500, 100]\n",
      "\u001b[32m[1029 16:32:38 @DATSGANModel.py:209]\u001b[0m \u001b[91mCreating cell for distance (in-edges: 0)\n",
      "\u001b[32m[1029 16:32:38 @registry.py:126]\u001b[0m gen/LSTM/03/FC input: [500, 100]\n",
      "\u001b[32m[1029 16:32:38 @registry.py:134]\u001b[0m gen/LSTM/03/FC output: [500, 100]\n",
      "\u001b[32m[1029 16:32:38 @registry.py:126]\u001b[0m gen/LSTM/03/FC2_val input: [500, 100]\n",
      "\u001b[32m[1029 16:32:38 @registry.py:134]\u001b[0m gen/LSTM/03/FC2_val output: [500, 10]\n",
      "\u001b[32m[1029 16:32:38 @registry.py:126]\u001b[0m gen/LSTM/03/FC2_prob input: [500, 100]\n",
      "\u001b[32m[1029 16:32:38 @registry.py:134]\u001b[0m gen/LSTM/03/FC2_prob output: [500, 10]\n",
      "\u001b[32m[1029 16:32:38 @registry.py:126]\u001b[0m gen/LSTM/03/FC3 input: [500, 20]\n",
      "\u001b[32m[1029 16:32:38 @registry.py:134]\u001b[0m gen/LSTM/03/FC3 output: [500, 100]\n",
      "\u001b[32m[1029 16:32:38 @DATSGANModel.py:209]\u001b[0m \u001b[91mCreating cell for hh_vehicles (in-edges: 0)\n",
      "\u001b[32m[1029 16:32:38 @registry.py:126]\u001b[0m gen/LSTM/04/FC input: [500, 100]\n",
      "\u001b[32m[1029 16:32:38 @registry.py:134]\u001b[0m gen/LSTM/04/FC output: [500, 100]\n",
      "\u001b[32m[1029 16:32:38 @registry.py:126]\u001b[0m gen/LSTM/04/FC2 input: [500, 100]\n",
      "\u001b[32m[1029 16:32:38 @registry.py:134]\u001b[0m gen/LSTM/04/FC2 output: [500, 9]\n",
      "\u001b[32m[1029 16:32:38 @registry.py:126]\u001b[0m gen/LSTM/04/FC3 input: [500, 9]\n",
      "\u001b[32m[1029 16:32:38 @registry.py:134]\u001b[0m gen/LSTM/04/FC3 output: [500, 100]\n",
      "\u001b[32m[1029 16:32:38 @DATSGANModel.py:209]\u001b[0m \u001b[91mCreating cell for hh_size (in-edges: 0)\n",
      "\u001b[32m[1029 16:32:38 @registry.py:126]\u001b[0m gen/LSTM/05/FC input: [500, 100]\n",
      "\u001b[32m[1029 16:32:38 @registry.py:134]\u001b[0m gen/LSTM/05/FC output: [500, 100]\n",
      "\u001b[32m[1029 16:32:38 @registry.py:126]\u001b[0m gen/LSTM/05/FC2 input: [500, 100]\n",
      "\u001b[32m[1029 16:32:38 @registry.py:134]\u001b[0m gen/LSTM/05/FC2 output: [500, 8]\n",
      "\u001b[32m[1029 16:32:38 @registry.py:126]\u001b[0m gen/LSTM/05/FC3 input: [500, 8]\n",
      "\u001b[32m[1029 16:32:38 @registry.py:134]\u001b[0m gen/LSTM/05/FC3 output: [500, 100]\n",
      "\u001b[32m[1029 16:32:38 @DATSGANModel.py:209]\u001b[0m \u001b[91mCreating cell for hh_bikes (in-edges: 0)\n",
      "\u001b[32m[1029 16:32:38 @registry.py:126]\u001b[0m gen/LSTM/06/FC input: [500, 100]\n",
      "\u001b[32m[1029 16:32:38 @registry.py:134]\u001b[0m gen/LSTM/06/FC output: [500, 100]\n",
      "\u001b[32m[1029 16:32:38 @registry.py:126]\u001b[0m gen/LSTM/06/FC2 input: [500, 100]\n",
      "\u001b[32m[1029 16:32:38 @registry.py:134]\u001b[0m gen/LSTM/06/FC2 output: [500, 8]\n",
      "\u001b[32m[1029 16:32:38 @registry.py:126]\u001b[0m gen/LSTM/06/FC3 input: [500, 8]\n",
      "\u001b[32m[1029 16:32:38 @registry.py:134]\u001b[0m gen/LSTM/06/FC3 output: [500, 100]\n",
      "\u001b[32m[1029 16:32:38 @DATSGANModel.py:209]\u001b[0m \u001b[91mCreating cell for hh_descr (in-edges: 0)\n",
      "\u001b[32m[1029 16:32:38 @registry.py:126]\u001b[0m gen/LSTM/07/FC input: [500, 100]\n",
      "\u001b[32m[1029 16:32:38 @registry.py:134]\u001b[0m gen/LSTM/07/FC output: [500, 100]\n",
      "\u001b[32m[1029 16:32:38 @registry.py:126]\u001b[0m gen/LSTM/07/FC2 input: [500, 100]\n"
     ]
    },
    {
     "name": "stdout",
     "output_type": "stream",
     "text": [
      "\u001b[32m[1029 16:32:38 @registry.py:134]\u001b[0m gen/LSTM/07/FC2 output: [500, 3]\n",
      "\u001b[32m[1029 16:32:38 @registry.py:126]\u001b[0m gen/LSTM/07/FC3 input: [500, 3]\n",
      "\u001b[32m[1029 16:32:38 @registry.py:134]\u001b[0m gen/LSTM/07/FC3 output: [500, 100]\n",
      "\u001b[32m[1029 16:32:38 @DATSGANModel.py:209]\u001b[0m \u001b[91mCreating cell for hh_income (in-edges: 0)\n",
      "\u001b[32m[1029 16:32:38 @registry.py:126]\u001b[0m gen/LSTM/08/FC input: [500, 100]\n",
      "\u001b[32m[1029 16:32:38 @registry.py:134]\u001b[0m gen/LSTM/08/FC output: [500, 100]\n",
      "\u001b[32m[1029 16:32:38 @registry.py:126]\u001b[0m gen/LSTM/08/FC2 input: [500, 100]\n",
      "\u001b[32m[1029 16:32:38 @registry.py:134]\u001b[0m gen/LSTM/08/FC2 output: [500, 7]\n",
      "\u001b[32m[1029 16:32:38 @registry.py:126]\u001b[0m gen/LSTM/08/FC3 input: [500, 7]\n",
      "\u001b[32m[1029 16:32:38 @registry.py:134]\u001b[0m gen/LSTM/08/FC3 output: [500, 100]\n",
      "\u001b[32m[1029 16:32:38 @DATSGANModel.py:209]\u001b[0m \u001b[91mCreating cell for gender (in-edges: 0)\n",
      "\u001b[32m[1029 16:32:38 @registry.py:126]\u001b[0m gen/LSTM/09/FC input: [500, 100]\n",
      "\u001b[32m[1029 16:32:38 @registry.py:134]\u001b[0m gen/LSTM/09/FC output: [500, 100]\n",
      "\u001b[32m[1029 16:32:38 @registry.py:126]\u001b[0m gen/LSTM/09/FC2 input: [500, 100]\n",
      "\u001b[32m[1029 16:32:38 @registry.py:134]\u001b[0m gen/LSTM/09/FC2 output: [500, 2]\n",
      "\u001b[32m[1029 16:32:38 @registry.py:126]\u001b[0m gen/LSTM/09/FC3 input: [500, 2]\n",
      "\u001b[32m[1029 16:32:38 @registry.py:134]\u001b[0m gen/LSTM/09/FC3 output: [500, 100]\n",
      "\u001b[32m[1029 16:32:38 @DATSGANModel.py:209]\u001b[0m \u001b[91mCreating cell for age (in-edges: 0)\n",
      "\u001b[32m[1029 16:32:38 @registry.py:126]\u001b[0m gen/LSTM/10/FC input: [500, 100]\n",
      "\u001b[32m[1029 16:32:38 @registry.py:134]\u001b[0m gen/LSTM/10/FC output: [500, 100]\n",
      "\u001b[32m[1029 16:32:38 @registry.py:126]\u001b[0m gen/LSTM/10/FC2_val input: [500, 100]\n",
      "\u001b[32m[1029 16:32:38 @registry.py:134]\u001b[0m gen/LSTM/10/FC2_val output: [500, 6]\n",
      "\u001b[32m[1029 16:32:38 @registry.py:126]\u001b[0m gen/LSTM/10/FC2_prob input: [500, 100]\n",
      "\u001b[32m[1029 16:32:38 @registry.py:134]\u001b[0m gen/LSTM/10/FC2_prob output: [500, 6]\n",
      "\u001b[32m[1029 16:32:38 @registry.py:126]\u001b[0m gen/LSTM/10/FC3 input: [500, 12]\n",
      "\u001b[32m[1029 16:32:38 @registry.py:134]\u001b[0m gen/LSTM/10/FC3 output: [500, 100]\n",
      "\u001b[32m[1029 16:32:38 @DATSGANModel.py:209]\u001b[0m \u001b[91mCreating cell for license (in-edges: 0)\n",
      "\u001b[32m[1029 16:32:38 @registry.py:126]\u001b[0m gen/LSTM/11/FC input: [500, 100]\n",
      "\u001b[32m[1029 16:32:38 @registry.py:134]\u001b[0m gen/LSTM/11/FC output: [500, 100]\n",
      "\u001b[32m[1029 16:32:38 @registry.py:126]\u001b[0m gen/LSTM/11/FC2 input: [500, 100]\n",
      "\u001b[32m[1029 16:32:38 @registry.py:134]\u001b[0m gen/LSTM/11/FC2 output: [500, 2]\n",
      "\u001b[32m[1029 16:32:38 @registry.py:126]\u001b[0m gen/LSTM/11/FC3 input: [500, 2]\n",
      "\u001b[32m[1029 16:32:38 @registry.py:134]\u001b[0m gen/LSTM/11/FC3 output: [500, 100]\n",
      "\u001b[32m[1029 16:32:38 @DATSGANModel.py:209]\u001b[0m \u001b[91mCreating cell for education_level (in-edges: 0)\n",
      "\u001b[32m[1029 16:32:39 @registry.py:126]\u001b[0m gen/LSTM/12/FC input: [500, 100]\n",
      "\u001b[32m[1029 16:32:39 @registry.py:134]\u001b[0m gen/LSTM/12/FC output: [500, 100]\n",
      "\u001b[32m[1029 16:32:39 @registry.py:126]\u001b[0m gen/LSTM/12/FC2 input: [500, 100]\n",
      "\u001b[32m[1029 16:32:39 @registry.py:134]\u001b[0m gen/LSTM/12/FC2 output: [500, 6]\n",
      "\u001b[32m[1029 16:32:39 @registry.py:126]\u001b[0m gen/LSTM/12/FC3 input: [500, 6]\n",
      "\u001b[32m[1029 16:32:39 @registry.py:134]\u001b[0m gen/LSTM/12/FC3 output: [500, 100]\n",
      "\u001b[32m[1029 16:32:39 @DATSGANModel.py:209]\u001b[0m \u001b[91mCreating cell for work_status (in-edges: 0)\n",
      "\u001b[32m[1029 16:32:39 @registry.py:126]\u001b[0m gen/LSTM/13/FC input: [500, 100]\n",
      "\u001b[32m[1029 16:32:39 @registry.py:134]\u001b[0m gen/LSTM/13/FC output: [500, 100]\n",
      "\u001b[32m[1029 16:32:39 @registry.py:126]\u001b[0m gen/LSTM/13/FC2 input: [500, 100]\n",
      "\u001b[32m[1029 16:32:39 @registry.py:134]\u001b[0m gen/LSTM/13/FC2 output: [500, 8]\n",
      "\u001b[32m[1029 16:32:39 @registry.py:126]\u001b[0m gen/LSTM/13/FC3 input: [500, 8]\n",
      "\u001b[32m[1029 16:32:39 @registry.py:134]\u001b[0m gen/LSTM/13/FC3 output: [500, 100]\n",
      "\u001b[32m[1029 16:32:39 @DATSGANModel.py:209]\u001b[0m \u001b[91mCreating cell for departure_time (in-edges: 0)\n",
      "\u001b[32m[1029 16:32:39 @registry.py:126]\u001b[0m gen/LSTM/14/FC input: [500, 100]\n",
      "\u001b[32m[1029 16:32:39 @registry.py:134]\u001b[0m gen/LSTM/14/FC output: [500, 100]\n",
      "\u001b[32m[1029 16:32:39 @registry.py:126]\u001b[0m gen/LSTM/14/FC2_val input: [500, 100]\n",
      "\u001b[32m[1029 16:32:39 @registry.py:134]\u001b[0m gen/LSTM/14/FC2_val output: [500, 8]\n",
      "\u001b[32m[1029 16:32:39 @registry.py:126]\u001b[0m gen/LSTM/14/FC2_prob input: [500, 100]\n",
      "\u001b[32m[1029 16:32:39 @registry.py:134]\u001b[0m gen/LSTM/14/FC2_prob output: [500, 8]\n",
      "\u001b[32m[1029 16:32:39 @registry.py:126]\u001b[0m gen/LSTM/14/FC3 input: [500, 16]\n",
      "\u001b[32m[1029 16:32:39 @registry.py:134]\u001b[0m gen/LSTM/14/FC3 output: [500, 100]\n",
      "WARNING:tensorflow:From C:\\Users\\glede\\Documents\\EPFL\\PhD\\SynthPop\\code\\modules\\datgan\\models\\DATSGANModel.py:496: The name tf.log is deprecated. Please use tf.math.log instead.\n",
      "\n",
      "\u001b[32m[1029 16:32:39 @registry.py:126]\u001b[0m discrim/dis_fc0/fc input: [500, 120]\n",
      "\u001b[32m[1029 16:32:39 @registry.py:134]\u001b[0m discrim/dis_fc0/fc output: [500, 100]\n",
      "\u001b[32m[1029 16:32:39 @registry.py:126]\u001b[0m discrim/dis_fc0/fc_diversity input: [500, 100]\n",
      "\u001b[32m[1029 16:32:39 @registry.py:134]\u001b[0m discrim/dis_fc0/fc_diversity output: [500, 100]\n",
      "WARNING:tensorflow:From D:\\Users\\glede\\anaconda3\\envs\\py37\\lib\\site-packages\\tensorpack\\models\\batch_norm.py:204: The name tf.layers.BatchNormalization is deprecated. Please use tf.compat.v1.layers.BatchNormalization instead.\n",
      "\n",
      "WARNING:tensorflow:From D:\\Users\\glede\\anaconda3\\envs\\py37\\lib\\site-packages\\tensorpack\\models\\batch_norm.py:212: The name tf.add_to_collection is deprecated. Please use tf.compat.v1.add_to_collection instead.\n",
      "\n",
      "\u001b[32m[1029 16:32:39 @registry.py:126]\u001b[0m discrim/dis_fc_top input: [500, 110]\n",
      "\u001b[32m[1029 16:32:39 @registry.py:134]\u001b[0m discrim/dis_fc_top output: [500, 1]\n",
      "WARNING:tensorflow:From C:\\Users\\glede\\Documents\\EPFL\\PhD\\SynthPop\\code\\modules\\datgan\\models\\DATWGANModel.py:75: The name tf.train.RMSPropOptimizer is deprecated. Please use tf.compat.v1.train.RMSPropOptimizer instead.\n",
      "\n",
      "WARNING:tensorflow:From D:\\Users\\glede\\anaconda3\\envs\\py37\\lib\\site-packages\\tensorflow_core\\python\\training\\rmsprop.py:119: calling Ones.__init__ (from tensorflow.python.ops.init_ops) with dtype is deprecated and will be removed in a future version.\n",
      "Instructions for updating:\n",
      "Call initializer instance with the dtype argument instead of passing it to the constructor\n",
      "\u001b[32m[1029 16:32:41 @logger.py:90]\u001b[0m Argv: D:\\Users\\glede\\anaconda3\\envs\\py37\\lib\\site-packages\\ipykernel_launcher.py -f C:\\Users\\glede\\AppData\\Roaming\\jupyter\\runtime\\kernel-2cc6698c-8d5b-4139-8074-109e4ca860a6.json\n",
      "WARNING:tensorflow:From D:\\Users\\glede\\anaconda3\\envs\\py37\\lib\\site-packages\\tensorpack\\callbacks\\saver.py:43: The name tf.gfile.IsDirectory is deprecated. Please use tf.io.gfile.isdir instead.\n",
      "\n",
      "WARNING:tensorflow:From D:\\Users\\glede\\anaconda3\\envs\\py37\\lib\\site-packages\\tensorpack\\callbacks\\saver.py:44: The name tf.gfile.MakeDirs is deprecated. Please use tf.io.gfile.makedirs instead.\n",
      "\n",
      "WARNING:tensorflow:From D:\\Users\\glede\\anaconda3\\envs\\py37\\lib\\site-packages\\tensorpack\\tfutils\\common.py:41: The name tf.ConfigProto is deprecated. Please use tf.compat.v1.ConfigProto instead.\n",
      "\n",
      "\u001b[32m[1029 16:32:41 @model_utils.py:67]\u001b[0m \u001b[36mList of Trainable Variables: \n",
      "\u001b[0mname                              shape         #elements\n",
      "--------------------------------  ----------  -----------\n",
      "gen/LSTM/go_choice:0              [1, 100]            100\n",
      "gen/LSTM/lstm_cell/kernel:0       [500, 400]       200000\n",
      "gen/LSTM/lstm_cell/bias:0         [400]               400\n",
      "gen/LSTM/00/FC/W:0                [100, 100]        10000\n",
      "gen/LSTM/00/FC/b:0                [100]               100\n",
      "gen/LSTM/00/FC2/W:0               [100, 5]            500\n",
      "gen/LSTM/00/FC2/b:0               [5]                   5\n",
      "gen/LSTM/00/FC3/W:0               [5, 100]            500\n",
      "gen/LSTM/00/FC3/b:0               [100]               100\n",
      "gen/LSTM/00/attw:0                [1, 1, 1]             1\n",
      "gen/LSTM/go_travel_dow:0          [1, 100]            100\n",
      "gen/LSTM/01/FC/W:0                [100, 100]        10000\n",
      "gen/LSTM/01/FC/b:0                [100]               100\n",
      "gen/LSTM/01/FC2/W:0               [100, 7]            700\n",
      "gen/LSTM/01/FC2/b:0               [7]                   7\n",
      "gen/LSTM/01/FC3/W:0               [7, 100]            700\n",
      "gen/LSTM/01/FC3/b:0               [100]               100\n",
      "gen/LSTM/01/attw:0                [1, 1, 1]             1\n",
      "gen/LSTM/go_trip_purpose:0        [1, 100]            100\n",
      "gen/LSTM/02/FC/W:0                [100, 100]        10000\n",
      "gen/LSTM/02/FC/b:0                [100]               100\n",
      "gen/LSTM/02/FC2/W:0               [100, 7]            700\n",
      "gen/LSTM/02/FC2/b:0               [7]                   7\n",
      "gen/LSTM/02/FC3/W:0               [7, 100]            700\n",
      "gen/LSTM/02/FC3/b:0               [100]               100\n",
      "gen/LSTM/02/attw:0                [1, 1, 1]             1\n",
      "gen/LSTM/go_distance:0            [1, 100]            100\n",
      "gen/LSTM/03/FC/W:0                [100, 100]        10000\n",
      "gen/LSTM/03/FC/b:0                [100]               100\n",
      "gen/LSTM/03/FC2_val/W:0           [100, 10]          1000\n",
      "gen/LSTM/03/FC2_val/b:0           [10]                 10\n",
      "gen/LSTM/03/FC2_prob/W:0          [100, 10]          1000\n",
      "gen/LSTM/03/FC2_prob/b:0          [10]                 10\n",
      "gen/LSTM/03/FC3/W:0               [20, 100]          2000\n",
      "gen/LSTM/03/FC3/b:0               [100]               100\n",
      "gen/LSTM/03/attw:0                [1, 1, 1]             1\n",
      "gen/LSTM/go_hh_vehicles:0         [1, 100]            100\n",
      "gen/LSTM/04/FC/W:0                [100, 100]        10000\n",
      "gen/LSTM/04/FC/b:0                [100]               100\n",
      "gen/LSTM/04/FC2/W:0               [100, 9]            900\n",
      "gen/LSTM/04/FC2/b:0               [9]                   9\n",
      "gen/LSTM/04/FC3/W:0               [9, 100]            900\n",
      "gen/LSTM/04/FC3/b:0               [100]               100\n",
      "gen/LSTM/04/attw:0                [1, 1, 1]             1\n",
      "gen/LSTM/go_hh_size:0             [1, 100]            100\n",
      "gen/LSTM/05/FC/W:0                [100, 100]        10000\n",
      "gen/LSTM/05/FC/b:0                [100]               100\n",
      "gen/LSTM/05/FC2/W:0               [100, 8]            800\n",
      "gen/LSTM/05/FC2/b:0               [8]                   8\n",
      "gen/LSTM/05/FC3/W:0               [8, 100]            800\n",
      "gen/LSTM/05/FC3/b:0               [100]               100\n",
      "gen/LSTM/05/attw:0                [1, 1, 1]             1\n",
      "gen/LSTM/go_hh_bikes:0            [1, 100]            100\n",
      "gen/LSTM/06/FC/W:0                [100, 100]        10000\n",
      "gen/LSTM/06/FC/b:0                [100]               100\n",
      "gen/LSTM/06/FC2/W:0               [100, 8]            800\n",
      "gen/LSTM/06/FC2/b:0               [8]                   8\n",
      "gen/LSTM/06/FC3/W:0               [8, 100]            800\n",
      "gen/LSTM/06/FC3/b:0               [100]               100\n",
      "gen/LSTM/06/attw:0                [1, 1, 1]             1\n",
      "gen/LSTM/go_hh_descr:0            [1, 100]            100\n",
      "gen/LSTM/07/FC/W:0                [100, 100]        10000\n",
      "gen/LSTM/07/FC/b:0                [100]               100\n",
      "gen/LSTM/07/FC2/W:0               [100, 3]            300\n",
      "gen/LSTM/07/FC2/b:0               [3]                   3\n",
      "gen/LSTM/07/FC3/W:0               [3, 100]            300\n",
      "gen/LSTM/07/FC3/b:0               [100]               100\n",
      "gen/LSTM/07/attw:0                [1, 1, 1]             1\n",
      "gen/LSTM/go_hh_income:0           [1, 100]            100\n",
      "gen/LSTM/08/FC/W:0                [100, 100]        10000\n",
      "gen/LSTM/08/FC/b:0                [100]               100\n",
      "gen/LSTM/08/FC2/W:0               [100, 7]            700\n",
      "gen/LSTM/08/FC2/b:0               [7]                   7\n",
      "gen/LSTM/08/FC3/W:0               [7, 100]            700\n",
      "gen/LSTM/08/FC3/b:0               [100]               100\n",
      "gen/LSTM/08/attw:0                [1, 1, 1]             1\n",
      "gen/LSTM/go_gender:0              [1, 100]            100\n",
      "gen/LSTM/09/FC/W:0                [100, 100]        10000\n",
      "gen/LSTM/09/FC/b:0                [100]               100\n",
      "gen/LSTM/09/FC2/W:0               [100, 2]            200\n",
      "gen/LSTM/09/FC2/b:0               [2]                   2\n",
      "gen/LSTM/09/FC3/W:0               [2, 100]            200\n",
      "gen/LSTM/09/FC3/b:0               [100]               100\n",
      "gen/LSTM/09/attw:0                [1, 1, 1]             1\n",
      "gen/LSTM/go_age:0                 [1, 100]            100\n",
      "gen/LSTM/10/FC/W:0                [100, 100]        10000\n",
      "gen/LSTM/10/FC/b:0                [100]               100\n",
      "gen/LSTM/10/FC2_val/W:0           [100, 6]            600\n",
      "gen/LSTM/10/FC2_val/b:0           [6]                   6\n",
      "gen/LSTM/10/FC2_prob/W:0          [100, 6]            600\n",
      "gen/LSTM/10/FC2_prob/b:0          [6]                   6\n",
      "gen/LSTM/10/FC3/W:0               [12, 100]          1200\n",
      "gen/LSTM/10/FC3/b:0               [100]               100\n",
      "gen/LSTM/10/attw:0                [1, 1, 1]             1\n",
      "gen/LSTM/go_license:0             [1, 100]            100\n",
      "gen/LSTM/11/FC/W:0                [100, 100]        10000\n",
      "gen/LSTM/11/FC/b:0                [100]               100\n",
      "gen/LSTM/11/FC2/W:0               [100, 2]            200\n",
      "gen/LSTM/11/FC2/b:0               [2]                   2\n",
      "gen/LSTM/11/FC3/W:0               [2, 100]            200\n",
      "gen/LSTM/11/FC3/b:0               [100]               100\n",
      "gen/LSTM/11/attw:0                [1, 1, 1]             1\n",
      "gen/LSTM/go_education_level:0     [1, 100]            100\n",
      "gen/LSTM/12/FC/W:0                [100, 100]        10000\n",
      "gen/LSTM/12/FC/b:0                [100]               100\n",
      "gen/LSTM/12/FC2/W:0               [100, 6]            600\n",
      "gen/LSTM/12/FC2/b:0               [6]                   6\n",
      "gen/LSTM/12/FC3/W:0               [6, 100]            600\n",
      "gen/LSTM/12/FC3/b:0               [100]               100\n",
      "gen/LSTM/12/attw:0                [1, 1, 1]             1\n",
      "gen/LSTM/go_work_status:0         [1, 100]            100\n",
      "gen/LSTM/13/FC/W:0                [100, 100]        10000\n",
      "gen/LSTM/13/FC/b:0                [100]               100\n",
      "gen/LSTM/13/FC2/W:0               [100, 8]            800\n",
      "gen/LSTM/13/FC2/b:0               [8]                   8\n",
      "gen/LSTM/13/FC3/W:0               [8, 100]            800\n",
      "gen/LSTM/13/FC3/b:0               [100]               100\n",
      "gen/LSTM/13/attw:0                [1, 1, 1]             1\n",
      "gen/LSTM/go_departure_time:0      [1, 100]            100\n",
      "gen/LSTM/14/FC/W:0                [100, 100]        10000\n",
      "gen/LSTM/14/FC/b:0                [100]               100\n",
      "gen/LSTM/14/FC2_val/W:0           [100, 8]            800\n",
      "gen/LSTM/14/FC2_val/b:0           [8]                   8\n",
      "gen/LSTM/14/FC2_prob/W:0          [100, 8]            800\n",
      "gen/LSTM/14/FC2_prob/b:0          [8]                   8\n",
      "gen/LSTM/14/FC3/W:0               [16, 100]          1600\n",
      "gen/LSTM/14/FC3/b:0               [100]               100\n",
      "gen/LSTM/14/attw:0                [1, 1, 1]             1\n",
      "discrim/dis_fc0/fc/W:0            [120, 100]        12000\n",
      "discrim/dis_fc0/fc/b:0            [100]               100\n",
      "discrim/dis_fc0/fc_diversity/W:0  [100, 100]        10000\n",
      "discrim/dis_fc0/fc_diversity/b:0  [100]               100\n",
      "discrim/dis_fc0/bn/beta:0         [110]               110\n",
      "discrim/dis_fc_top/W:0            [110, 1]            110\n",
      "discrim/dis_fc_top/b:0            [1]                   1\u001b[36m\n",
      "Number of trainable variables: 135\n",
      "Number of parameters (elements): 401456\n",
      "Storage space needed for all trainable variables: 1.53MB\u001b[0m\n"
     ]
    },
    {
     "name": "stdout",
     "output_type": "stream",
     "text": [
      "\u001b[32m[1029 16:32:41 @base.py:209]\u001b[0m Setup callbacks graph ...\n",
      "WARNING:tensorflow:From D:\\Users\\glede\\anaconda3\\envs\\py37\\lib\\site-packages\\tensorpack\\callbacks\\graph.py:54: The name tf.train.SessionRunArgs is deprecated. Please use tf.estimator.SessionRunArgs instead.\n",
      "\n",
      "WARNING:tensorflow:From D:\\Users\\glede\\anaconda3\\envs\\py37\\lib\\site-packages\\tensorpack\\tfutils\\common.py:75: The name tf.VariableScope is deprecated. Please use tf.compat.v1.VariableScope instead.\n",
      "\n",
      "WARNING:tensorflow:From D:\\Users\\glede\\anaconda3\\envs\\py37\\lib\\site-packages\\tensorpack\\tfutils\\common.py:77: The name tf.train.get_or_create_global_step is deprecated. Please use tf.compat.v1.train.get_or_create_global_step instead.\n",
      "\n",
      "WARNING:tensorflow:From D:\\Users\\glede\\anaconda3\\envs\\py37\\lib\\site-packages\\tensorpack\\callbacks\\steps.py:117: The name tf.assign_add is deprecated. Please use tf.compat.v1.assign_add instead.\n",
      "\n",
      "WARNING:tensorflow:From D:\\Users\\glede\\anaconda3\\envs\\py37\\lib\\site-packages\\tensorpack\\callbacks\\saver.py:55: The name tf.train.Saver is deprecated. Please use tf.compat.v1.train.Saver instead.\n",
      "\n",
      "WARNING:tensorflow:From D:\\Users\\glede\\anaconda3\\envs\\py37\\lib\\site-packages\\tensorpack\\callbacks\\saver.py:59: The name tf.train.SaverDef is deprecated. Please use tf.compat.v1.train.SaverDef instead.\n",
      "\n",
      "WARNING:tensorflow:From C:\\Users\\glede\\Documents\\EPFL\\PhD\\SynthPop\\code\\modules\\datgan\\utils.py:70: The name tf.trainable_variables is deprecated. Please use tf.compat.v1.trainable_variables instead.\n",
      "\n",
      "\u001b[32m[1029 16:32:41 @utils.py:76]\u001b[0m Clip discrim/dis_fc0/fc/W\n",
      "WARNING:tensorflow:From C:\\Users\\glede\\Documents\\EPFL\\PhD\\SynthPop\\code\\modules\\datgan\\utils.py:77: The name tf.assign is deprecated. Please use tf.compat.v1.assign instead.\n",
      "\n",
      "\u001b[32m[1029 16:32:41 @utils.py:76]\u001b[0m Clip discrim/dis_fc0/fc/b\n",
      "\u001b[32m[1029 16:32:41 @utils.py:76]\u001b[0m Clip discrim/dis_fc0/fc_diversity/W\n",
      "\u001b[32m[1029 16:32:41 @utils.py:76]\u001b[0m Clip discrim/dis_fc0/fc_diversity/b\n",
      "\u001b[32m[1029 16:32:41 @utils.py:76]\u001b[0m Clip discrim/dis_fc0/bn/beta\n",
      "\u001b[32m[1029 16:32:41 @utils.py:76]\u001b[0m Clip discrim/dis_fc_top/W\n",
      "\u001b[32m[1029 16:32:41 @utils.py:76]\u001b[0m Clip discrim/dis_fc_top/b\n",
      "\u001b[32m[1029 16:32:41 @summary.py:46]\u001b[0m [MovingAverageSummary] 3 operations in collection 'MOVING_SUMMARY_OPS' will be run with session hooks.\n",
      "\u001b[32m[1029 16:32:41 @summary.py:93]\u001b[0m Summarizing collection 'summaries' of size 4.\n",
      "WARNING:tensorflow:From D:\\Users\\glede\\anaconda3\\envs\\py37\\lib\\site-packages\\tensorpack\\callbacks\\summary.py:94: The name tf.summary.merge_all is deprecated. Please use tf.compat.v1.summary.merge_all instead.\n",
      "\n",
      "\u001b[32m[1029 16:32:41 @graph.py:98]\u001b[0m Applying collection UPDATE_OPS of 4 ops.\n",
      "WARNING:tensorflow:From D:\\Users\\glede\\anaconda3\\envs\\py37\\lib\\site-packages\\tensorpack\\callbacks\\monitor.py:261: The name tf.summary.FileWriter is deprecated. Please use tf.compat.v1.summary.FileWriter instead.\n",
      "\n",
      "\u001b[32m[1029 16:32:41 @base.py:230]\u001b[0m Creating the session ...\n",
      "WARNING:tensorflow:From D:\\Users\\glede\\anaconda3\\envs\\py37\\lib\\site-packages\\tensorpack\\tfutils\\sesscreate.py:42: The name tf.Session is deprecated. Please use tf.compat.v1.Session instead.\n",
      "\n",
      "WARNING:tensorflow:From D:\\Users\\glede\\anaconda3\\envs\\py37\\lib\\site-packages\\tensorpack\\tfutils\\sesscreate.py:71: The name tf.global_variables_initializer is deprecated. Please use tf.compat.v1.global_variables_initializer instead.\n",
      "\n",
      "WARNING:tensorflow:From D:\\Users\\glede\\anaconda3\\envs\\py37\\lib\\site-packages\\tensorpack\\tfutils\\sesscreate.py:62: get_backward_walk_ops (from tensorflow.contrib.graph_editor.select) is deprecated and will be removed after 2019-06-06.\n",
      "Instructions for updating:\n",
      "Please use tensorflow.python.ops.op_selector.get_backward_walk_ops.\n",
      "WARNING:tensorflow:From D:\\Users\\glede\\anaconda3\\envs\\py37\\lib\\site-packages\\tensorpack\\tfutils\\sesscreate.py:72: The name tf.local_variables_initializer is deprecated. Please use tf.compat.v1.local_variables_initializer instead.\n",
      "\n",
      "WARNING:tensorflow:From D:\\Users\\glede\\anaconda3\\envs\\py37\\lib\\site-packages\\tensorpack\\tfutils\\sesscreate.py:73: The name tf.tables_initializer is deprecated. Please use tf.compat.v1.tables_initializer instead.\n",
      "\n",
      "WARNING:tensorflow:From D:\\Users\\glede\\anaconda3\\envs\\py37\\lib\\site-packages\\tensorpack\\train\\base.py:254: The name tf.train.MonitoredSession is deprecated. Please use tf.compat.v1.train.MonitoredSession instead.\n",
      "\n",
      "\u001b[32m[1029 16:32:42 @base.py:236]\u001b[0m Initializing the session ...\n",
      "\u001b[32m[1029 16:32:42 @base.py:243]\u001b[0m Graph Finalized.\n",
      "WARNING:tensorflow:From D:\\Users\\glede\\anaconda3\\envs\\py37\\lib\\site-packages\\tensorpack\\tfutils\\common.py:89: The name tf.train.global_step is deprecated. Please use tf.compat.v1.train.global_step instead.\n",
      "\n",
      "WARNING:tensorflow:From D:\\Users\\glede\\anaconda3\\envs\\py37\\lib\\site-packages\\tensorpack\\tfutils\\common.py:90: The name tf.get_default_session is deprecated. Please use tf.compat.v1.get_default_session instead.\n",
      "\n",
      "\u001b[32m[1029 16:32:43 @concurrency.py:38]\u001b[0m Starting EnqueueThread QueueInput/input_queue ...\n",
      "WARNING:tensorflow:From D:\\Users\\glede\\anaconda3\\envs\\py37\\lib\\site-packages\\tensorpack\\callbacks\\monitor.py:309: The name tf.gfile.Exists is deprecated. Please use tf.io.gfile.exists instead.\n",
      "\n",
      "\u001b[32m[1029 16:32:43 @base.py:275]\u001b[0m Start Epoch 1 ...\n"
     ]
    },
    {
     "name": "stderr",
     "output_type": "stream",
     "text": [
      " 90%|##########################################################################4        |157/175[00:05<00:00,36.81it/s]"
     ]
    },
    {
     "name": "stdout",
     "output_type": "stream",
     "text": [
      "WARNING:tensorflow:From D:\\Users\\glede\\anaconda3\\envs\\py37\\lib\\site-packages\\tensorpack\\callbacks\\monitor.py:148: The name tf.Summary is deprecated. Please use tf.compat.v1.Summary instead.\n",
      "\n"
     ]
    },
    {
     "name": "stderr",
     "output_type": "stream",
     "text": [
      "\r",
      "100%|###################################################################################|175/175[00:06<00:00,26.26it/s]"
     ]
    },
    {
     "name": "stdout",
     "output_type": "stream",
     "text": [
      "\u001b[32m[1029 16:32:49 @base.py:285]\u001b[0m Epoch 1 (global_step 262) finished, time:6.66 seconds.\n",
      "WARNING:tensorflow:From D:\\Users\\glede\\anaconda3\\envs\\py37\\lib\\site-packages\\tensorpack\\callbacks\\saver.py:77: The name tf.train.get_global_step is deprecated. Please use tf.compat.v1.train.get_global_step instead.\n",
      "\n"
     ]
    },
    {
     "name": "stderr",
     "output_type": "stream",
     "text": [
      "\n"
     ]
    },
    {
     "name": "stdout",
     "output_type": "stream",
     "text": [
      "\u001b[32m[1029 16:32:50 @saver.py:79]\u001b[0m Model saved to ../output/Chicago/NOLINKS/model\\model-262.\n",
      "\u001b[32m[1029 16:32:50 @monitor.py:467]\u001b[0m GAN_loss/d_loss: -0.0074371\n",
      "\u001b[32m[1029 16:32:50 @monitor.py:467]\u001b[0m GAN_loss/g_loss: -0.051981\n",
      "\u001b[32m[1029 16:32:50 @monitor.py:467]\u001b[0m GAN_loss/kl_div: 6.7178\n",
      "\u001b[32m[1029 16:32:50 @monitor.py:467]\u001b[0m QueueInput/queue_size: 50\n",
      "\u001b[32m[1029 16:32:50 @base.py:275]\u001b[0m Start Epoch 2 ...\n"
     ]
    },
    {
     "name": "stderr",
     "output_type": "stream",
     "text": [
      "100%|###################################################################################|175/175[00:04<00:00,42.64it/s]"
     ]
    },
    {
     "name": "stdout",
     "output_type": "stream",
     "text": [
      "\u001b[32m[1029 16:32:54 @base.py:285]\u001b[0m Epoch 2 (global_step 524) finished, time:4.1 seconds.\n",
      "\u001b[32m[1029 16:32:54 @saver.py:79]\u001b[0m Model saved to ../output/Chicago/NOLINKS/model\\model-524.\n",
      "\u001b[32m[1029 16:32:54 @monitor.py:467]\u001b[0m GAN_loss/d_loss: -0.037007\n",
      "\u001b[32m[1029 16:32:54 @monitor.py:467]\u001b[0m GAN_loss/g_loss: -0.086259\n",
      "\u001b[32m[1029 16:32:54 @monitor.py:467]\u001b[0m GAN_loss/kl_div: 5.0065\n",
      "\u001b[32m[1029 16:32:54 @monitor.py:467]\u001b[0m QueueInput/queue_size: 50\n",
      "\u001b[32m[1029 16:32:54 @base.py:275]\u001b[0m Start Epoch 3 ...\n"
     ]
    },
    {
     "name": "stderr",
     "output_type": "stream",
     "text": [
      "\n",
      "100%|###################################################################################|175/175[00:04<00:00,41.51it/s]"
     ]
    },
    {
     "name": "stdout",
     "output_type": "stream",
     "text": [
      "\u001b[32m[1029 16:32:58 @base.py:285]\u001b[0m Epoch 3 (global_step 787) finished, time:4.22 seconds.\n"
     ]
    },
    {
     "name": "stderr",
     "output_type": "stream",
     "text": [
      "\n"
     ]
    },
    {
     "name": "stdout",
     "output_type": "stream",
     "text": [
      "\u001b[32m[1029 16:32:58 @saver.py:79]\u001b[0m Model saved to ../output/Chicago/NOLINKS/model\\model-787.\n",
      "\u001b[32m[1029 16:32:58 @monitor.py:467]\u001b[0m GAN_loss/d_loss: -0.13836\n",
      "\u001b[32m[1029 16:32:58 @monitor.py:467]\u001b[0m GAN_loss/g_loss: -0.020591\n",
      "\u001b[32m[1029 16:32:58 @monitor.py:467]\u001b[0m GAN_loss/kl_div: 2.1843\n",
      "\u001b[32m[1029 16:32:58 @monitor.py:467]\u001b[0m QueueInput/queue_size: 50\n",
      "\u001b[32m[1029 16:32:58 @base.py:275]\u001b[0m Start Epoch 4 ...\n"
     ]
    },
    {
     "name": "stderr",
     "output_type": "stream",
     "text": [
      "100%|###################################################################################|175/175[00:04<00:00,42.25it/s]"
     ]
    },
    {
     "name": "stdout",
     "output_type": "stream",
     "text": [
      "\u001b[32m[1029 16:33:03 @base.py:285]\u001b[0m Epoch 4 (global_step 1049) finished, time:4.14 seconds.\n",
      "\u001b[32m[1029 16:33:03 @saver.py:79]\u001b[0m Model saved to ../output/Chicago/NOLINKS/model\\model-1049.\n",
      "\u001b[32m[1029 16:33:03 @monitor.py:467]\u001b[0m GAN_loss/d_loss: -0.18814\n",
      "\u001b[32m[1029 16:33:03 @monitor.py:467]\u001b[0m GAN_loss/g_loss: -0.013239\n",
      "\u001b[32m[1029 16:33:03 @monitor.py:467]\u001b[0m GAN_loss/kl_div: 0.4509\n",
      "\u001b[32m[1029 16:33:03 @monitor.py:467]\u001b[0m QueueInput/queue_size: 50\n",
      "\u001b[32m[1029 16:33:03 @base.py:275]\u001b[0m Start Epoch 5 ...\n"
     ]
    },
    {
     "name": "stderr",
     "output_type": "stream",
     "text": [
      "\n",
      "100%|###################################################################################|175/175[00:04<00:00,42.78it/s]"
     ]
    },
    {
     "name": "stdout",
     "output_type": "stream",
     "text": [
      "\u001b[32m[1029 16:33:07 @base.py:285]\u001b[0m Epoch 5 (global_step 1312) finished, time:4.09 seconds.\n",
      "\u001b[32m[1029 16:33:07 @saver.py:79]\u001b[0m Model saved to ../output/Chicago/NOLINKS/model\\model-1312.\n",
      "\u001b[32m[1029 16:33:07 @monitor.py:467]\u001b[0m GAN_loss/d_loss: -0.22673\n",
      "\u001b[32m[1029 16:33:07 @monitor.py:467]\u001b[0m GAN_loss/g_loss: 0.010291\n",
      "\u001b[32m[1029 16:33:07 @monitor.py:467]\u001b[0m GAN_loss/kl_div: 0.12263\n",
      "\u001b[32m[1029 16:33:07 @monitor.py:467]\u001b[0m QueueInput/queue_size: 50\n",
      "\u001b[32m[1029 16:33:07 @base.py:275]\u001b[0m Start Epoch 6 ...\n"
     ]
    },
    {
     "name": "stderr",
     "output_type": "stream",
     "text": [
      "\n",
      "100%|###################################################################################|175/175[00:04<00:00,42.79it/s]"
     ]
    },
    {
     "name": "stdout",
     "output_type": "stream",
     "text": [
      "\u001b[32m[1029 16:33:11 @base.py:285]\u001b[0m Epoch 6 (global_step 1574) finished, time:4.09 seconds.\n",
      "\u001b[32m[1029 16:33:11 @saver.py:79]\u001b[0m Model saved to ../output/Chicago/NOLINKS/model\\model-1574.\n",
      "\u001b[32m[1029 16:33:11 @monitor.py:467]\u001b[0m GAN_loss/d_loss: -0.24189\n",
      "\u001b[32m[1029 16:33:11 @monitor.py:467]\u001b[0m GAN_loss/g_loss: 0.018674\n",
      "\u001b[32m[1029 16:33:11 @monitor.py:467]\u001b[0m GAN_loss/kl_div: 0.091449\n",
      "\u001b[32m[1029 16:33:11 @monitor.py:467]\u001b[0m QueueInput/queue_size: 50\n",
      "\u001b[32m[1029 16:33:11 @base.py:275]\u001b[0m Start Epoch 7 ...\n"
     ]
    },
    {
     "name": "stderr",
     "output_type": "stream",
     "text": [
      "\n",
      "100%|###################################################################################|175/175[00:04<00:00,42.57it/s]"
     ]
    },
    {
     "name": "stdout",
     "output_type": "stream",
     "text": [
      "\u001b[32m[1029 16:33:15 @base.py:285]\u001b[0m Epoch 7 (global_step 1837) finished, time:4.11 seconds.\n",
      "\u001b[32m[1029 16:33:15 @saver.py:79]\u001b[0m Model saved to ../output/Chicago/NOLINKS/model\\model-1837.\n",
      "\u001b[32m[1029 16:33:15 @monitor.py:467]\u001b[0m GAN_loss/d_loss: -0.24218\n",
      "\u001b[32m[1029 16:33:15 @monitor.py:467]\u001b[0m GAN_loss/g_loss: 0.017672\n",
      "\u001b[32m[1029 16:33:15 @monitor.py:467]\u001b[0m GAN_loss/kl_div: 0.08197\n",
      "\u001b[32m[1029 16:33:15 @monitor.py:467]\u001b[0m QueueInput/queue_size: 50\n",
      "\u001b[32m[1029 16:33:15 @base.py:275]\u001b[0m Start Epoch 8 ...\n"
     ]
    },
    {
     "name": "stderr",
     "output_type": "stream",
     "text": [
      "\n",
      "100%|###################################################################################|175/175[00:04<00:00,42.78it/s]"
     ]
    },
    {
     "name": "stdout",
     "output_type": "stream",
     "text": [
      "\u001b[32m[1029 16:33:19 @base.py:285]\u001b[0m Epoch 8 (global_step 2099) finished, time:4.09 seconds.\n",
      "\u001b[32m[1029 16:33:19 @saver.py:79]\u001b[0m Model saved to ../output/Chicago/NOLINKS/model\\model-2099.\n",
      "\u001b[32m[1029 16:33:19 @monitor.py:467]\u001b[0m GAN_loss/d_loss: -0.23638\n",
      "\u001b[32m[1029 16:33:19 @monitor.py:467]\u001b[0m GAN_loss/g_loss: 0.013028\n",
      "\u001b[32m[1029 16:33:19 @monitor.py:467]\u001b[0m GAN_loss/kl_div: 0.08212\n",
      "\u001b[32m[1029 16:33:19 @monitor.py:467]\u001b[0m QueueInput/queue_size: 50\n",
      "\u001b[32m[1029 16:33:19 @base.py:275]\u001b[0m Start Epoch 9 ...\n"
     ]
    },
    {
     "name": "stderr",
     "output_type": "stream",
     "text": [
      "\n",
      "100%|###################################################################################|175/175[00:04<00:00,42.49it/s]"
     ]
    },
    {
     "name": "stdout",
     "output_type": "stream",
     "text": [
      "\u001b[32m[1029 16:33:23 @base.py:285]\u001b[0m Epoch 9 (global_step 2362) finished, time:4.12 seconds.\n",
      "\u001b[32m[1029 16:33:23 @saver.py:79]\u001b[0m Model saved to ../output/Chicago/NOLINKS/model\\model-2362.\n",
      "\u001b[32m[1029 16:33:23 @monitor.py:467]\u001b[0m GAN_loss/d_loss: -0.23527\n",
      "\u001b[32m[1029 16:33:23 @monitor.py:467]\u001b[0m GAN_loss/g_loss: 0.011691\n",
      "\u001b[32m[1029 16:33:23 @monitor.py:467]\u001b[0m GAN_loss/kl_div: 0.078873\n",
      "\u001b[32m[1029 16:33:23 @monitor.py:467]\u001b[0m QueueInput/queue_size: 50\n",
      "\u001b[32m[1029 16:33:23 @base.py:275]\u001b[0m Start Epoch 10 ...\n"
     ]
    },
    {
     "name": "stderr",
     "output_type": "stream",
     "text": [
      "\n",
      "100%|###################################################################################|175/175[00:04<00:00,43.04it/s]"
     ]
    },
    {
     "name": "stdout",
     "output_type": "stream",
     "text": [
      "\u001b[32m[1029 16:33:27 @base.py:285]\u001b[0m Epoch 10 (global_step 2624) finished, time:4.07 seconds.\n",
      "\u001b[32m[1029 16:33:27 @saver.py:79]\u001b[0m Model saved to ../output/Chicago/NOLINKS/model\\model-2624.\n",
      "\u001b[32m[1029 16:33:28 @monitor.py:467]\u001b[0m GAN_loss/d_loss: -0.23217\n",
      "\u001b[32m[1029 16:33:28 @monitor.py:467]\u001b[0m GAN_loss/g_loss: 0.01014\n",
      "\u001b[32m[1029 16:33:28 @monitor.py:467]\u001b[0m GAN_loss/kl_div: 0.076006\n",
      "\u001b[32m[1029 16:33:28 @monitor.py:467]\u001b[0m QueueInput/queue_size: 50\n",
      "\u001b[32m[1029 16:33:28 @base.py:275]\u001b[0m Start Epoch 11 ...\n"
     ]
    },
    {
     "name": "stderr",
     "output_type": "stream",
     "text": [
      "\n",
      "100%|###################################################################################|175/175[00:04<00:00,42.85it/s]"
     ]
    },
    {
     "name": "stdout",
     "output_type": "stream",
     "text": [
      "\u001b[32m[1029 16:33:32 @base.py:285]\u001b[0m Epoch 11 (global_step 2887) finished, time:4.08 seconds.\n",
      "WARNING:tensorflow:From D:\\Users\\glede\\anaconda3\\envs\\py37\\lib\\site-packages\\tensorflow_core\\python\\training\\saver.py:963: remove_checkpoint (from tensorflow.python.training.checkpoint_management) is deprecated and will be removed in a future version.\n",
      "Instructions for updating:\n",
      "Use standard file APIs to delete files with this prefix.\n",
      "\u001b[32m[1029 16:33:32 @saver.py:79]\u001b[0m Model saved to ../output/Chicago/NOLINKS/model\\model-2887.\n",
      "\u001b[32m[1029 16:33:32 @monitor.py:467]\u001b[0m GAN_loss/d_loss: -0.23124\n",
      "\u001b[32m[1029 16:33:32 @monitor.py:467]\u001b[0m GAN_loss/g_loss: 0.0095459\n",
      "\u001b[32m[1029 16:33:32 @monitor.py:467]\u001b[0m GAN_loss/kl_div: 0.075361\n",
      "\u001b[32m[1029 16:33:32 @monitor.py:467]\u001b[0m QueueInput/queue_size: 50\n",
      "\u001b[32m[1029 16:33:32 @base.py:275]\u001b[0m Start Epoch 12 ...\n"
     ]
    },
    {
     "name": "stderr",
     "output_type": "stream",
     "text": [
      "\n",
      "100%|###################################################################################|175/175[00:04<00:00,42.90it/s]"
     ]
    },
    {
     "name": "stdout",
     "output_type": "stream",
     "text": [
      "\u001b[32m[1029 16:33:36 @base.py:285]\u001b[0m Epoch 12 (global_step 3149) finished, time:4.08 seconds.\n",
      "\u001b[32m[1029 16:33:36 @saver.py:79]\u001b[0m Model saved to ../output/Chicago/NOLINKS/model\\model-3149.\n",
      "\u001b[32m[1029 16:33:36 @monitor.py:467]\u001b[0m GAN_loss/d_loss: -0.23288\n",
      "\u001b[32m[1029 16:33:36 @monitor.py:467]\u001b[0m GAN_loss/g_loss: 0.010297\n",
      "\u001b[32m[1029 16:33:36 @monitor.py:467]\u001b[0m GAN_loss/kl_div: 0.076373\n",
      "\u001b[32m[1029 16:33:36 @monitor.py:467]\u001b[0m QueueInput/queue_size: 50\n",
      "\u001b[32m[1029 16:33:36 @base.py:275]\u001b[0m Start Epoch 13 ...\n"
     ]
    },
    {
     "name": "stderr",
     "output_type": "stream",
     "text": [
      "\n",
      "100%|###################################################################################|175/175[00:04<00:00,42.91it/s]"
     ]
    },
    {
     "name": "stdout",
     "output_type": "stream",
     "text": [
      "\u001b[32m[1029 16:33:40 @base.py:285]\u001b[0m Epoch 13 (global_step 3412) finished, time:4.08 seconds.\n",
      "\u001b[32m[1029 16:33:40 @saver.py:79]\u001b[0m Model saved to ../output/Chicago/NOLINKS/model\\model-3412.\n",
      "\u001b[32m[1029 16:33:40 @monitor.py:467]\u001b[0m GAN_loss/d_loss: -0.23144\n",
      "\u001b[32m[1029 16:33:40 @monitor.py:467]\u001b[0m GAN_loss/g_loss: 0.0089509\n",
      "\u001b[32m[1029 16:33:40 @monitor.py:467]\u001b[0m GAN_loss/kl_div: 0.076971\n",
      "\u001b[32m[1029 16:33:40 @monitor.py:467]\u001b[0m QueueInput/queue_size: 50\n",
      "\u001b[32m[1029 16:33:40 @base.py:275]\u001b[0m Start Epoch 14 ...\n"
     ]
    },
    {
     "name": "stderr",
     "output_type": "stream",
     "text": [
      "\n",
      "100%|###################################################################################|175/175[00:04<00:00,42.85it/s]"
     ]
    },
    {
     "name": "stdout",
     "output_type": "stream",
     "text": [
      "\u001b[32m[1029 16:33:44 @base.py:285]\u001b[0m Epoch 14 (global_step 3674) finished, time:4.08 seconds.\n",
      "\u001b[32m[1029 16:33:44 @saver.py:79]\u001b[0m Model saved to ../output/Chicago/NOLINKS/model\\model-3674.\n",
      "\u001b[32m[1029 16:33:44 @monitor.py:467]\u001b[0m GAN_loss/d_loss: -0.23019\n",
      "\u001b[32m[1029 16:33:44 @monitor.py:467]\u001b[0m GAN_loss/g_loss: 0.0066314\n",
      "\u001b[32m[1029 16:33:44 @monitor.py:467]\u001b[0m GAN_loss/kl_div: 0.075792\n",
      "\u001b[32m[1029 16:33:44 @monitor.py:467]\u001b[0m QueueInput/queue_size: 50\n",
      "\u001b[32m[1029 16:33:44 @base.py:275]\u001b[0m Start Epoch 15 ...\n"
     ]
    },
    {
     "name": "stderr",
     "output_type": "stream",
     "text": [
      "\n",
      "100%|###################################################################################|175/175[00:04<00:00,42.96it/s]"
     ]
    },
    {
     "name": "stdout",
     "output_type": "stream",
     "text": [
      "\u001b[32m[1029 16:33:48 @base.py:285]\u001b[0m Epoch 15 (global_step 3937) finished, time:4.07 seconds.\n",
      "\u001b[32m[1029 16:33:48 @saver.py:79]\u001b[0m Model saved to ../output/Chicago/NOLINKS/model\\model-3937.\n",
      "\u001b[32m[1029 16:33:48 @monitor.py:467]\u001b[0m GAN_loss/d_loss: -0.22772\n",
      "\u001b[32m[1029 16:33:48 @monitor.py:467]\u001b[0m GAN_loss/g_loss: 0.0043334\n",
      "\u001b[32m[1029 16:33:48 @monitor.py:467]\u001b[0m GAN_loss/kl_div: 0.084749\n",
      "\u001b[32m[1029 16:33:48 @monitor.py:467]\u001b[0m QueueInput/queue_size: 50\n",
      "\u001b[32m[1029 16:33:48 @base.py:275]\u001b[0m Start Epoch 16 ...\n"
     ]
    },
    {
     "name": "stderr",
     "output_type": "stream",
     "text": [
      "\n",
      "100%|###################################################################################|175/175[00:04<00:00,43.02it/s]"
     ]
    },
    {
     "name": "stdout",
     "output_type": "stream",
     "text": [
      "\u001b[32m[1029 16:33:52 @base.py:285]\u001b[0m Epoch 16 (global_step 4199) finished, time:4.07 seconds.\n",
      "\u001b[32m[1029 16:33:52 @saver.py:79]\u001b[0m Model saved to ../output/Chicago/NOLINKS/model\\model-4199.\n",
      "\u001b[32m[1029 16:33:52 @monitor.py:467]\u001b[0m GAN_loss/d_loss: -0.22495\n",
      "\u001b[32m[1029 16:33:52 @monitor.py:467]\u001b[0m GAN_loss/g_loss: 0.0020464\n",
      "\u001b[32m[1029 16:33:52 @monitor.py:467]\u001b[0m GAN_loss/kl_div: 0.073654\n",
      "\u001b[32m[1029 16:33:52 @monitor.py:467]\u001b[0m QueueInput/queue_size: 50\n",
      "\u001b[32m[1029 16:33:52 @base.py:275]\u001b[0m Start Epoch 17 ...\n"
     ]
    },
    {
     "name": "stderr",
     "output_type": "stream",
     "text": [
      "\n",
      "100%|###################################################################################|175/175[00:04<00:00,42.71it/s]"
     ]
    },
    {
     "name": "stdout",
     "output_type": "stream",
     "text": [
      "\u001b[32m[1029 16:33:56 @base.py:285]\u001b[0m Epoch 17 (global_step 4462) finished, time:4.1 seconds.\n",
      "\u001b[32m[1029 16:33:56 @saver.py:79]\u001b[0m Model saved to ../output/Chicago/NOLINKS/model\\model-4462.\n",
      "\u001b[32m[1029 16:33:56 @monitor.py:467]\u001b[0m GAN_loss/d_loss: -0.22171\n",
      "\u001b[32m[1029 16:33:57 @monitor.py:467]\u001b[0m GAN_loss/g_loss: -0.00046092\n",
      "\u001b[32m[1029 16:33:57 @monitor.py:467]\u001b[0m GAN_loss/kl_div: 0.078689\n",
      "\u001b[32m[1029 16:33:57 @monitor.py:467]\u001b[0m QueueInput/queue_size: 50\n",
      "\u001b[32m[1029 16:33:57 @base.py:275]\u001b[0m Start Epoch 18 ...\n"
     ]
    },
    {
     "name": "stderr",
     "output_type": "stream",
     "text": [
      "\n",
      "100%|###################################################################################|175/175[00:04<00:00,42.92it/s]"
     ]
    },
    {
     "name": "stdout",
     "output_type": "stream",
     "text": [
      "\u001b[32m[1029 16:34:01 @base.py:285]\u001b[0m Epoch 18 (global_step 4724) finished, time:4.08 seconds.\n",
      "\u001b[32m[1029 16:34:01 @saver.py:79]\u001b[0m Model saved to ../output/Chicago/NOLINKS/model\\model-4724.\n",
      "\u001b[32m[1029 16:34:01 @monitor.py:467]\u001b[0m GAN_loss/d_loss: -0.21838\n",
      "\u001b[32m[1029 16:34:01 @monitor.py:467]\u001b[0m GAN_loss/g_loss: -0.0031306\n",
      "\u001b[32m[1029 16:34:01 @monitor.py:467]\u001b[0m GAN_loss/kl_div: 0.080311\n",
      "\u001b[32m[1029 16:34:01 @monitor.py:467]\u001b[0m QueueInput/queue_size: 50\n",
      "\u001b[32m[1029 16:34:01 @base.py:275]\u001b[0m Start Epoch 19 ...\n"
     ]
    },
    {
     "name": "stderr",
     "output_type": "stream",
     "text": [
      "\n",
      "100%|###################################################################################|175/175[00:04<00:00,42.26it/s]"
     ]
    },
    {
     "name": "stdout",
     "output_type": "stream",
     "text": [
      "\u001b[32m[1029 16:34:05 @base.py:285]\u001b[0m Epoch 19 (global_step 4987) finished, time:4.14 seconds.\n",
      "\u001b[32m[1029 16:34:05 @saver.py:79]\u001b[0m Model saved to ../output/Chicago/NOLINKS/model\\model-4987.\n",
      "\u001b[32m[1029 16:34:05 @monitor.py:467]\u001b[0m GAN_loss/d_loss: -0.21476\n",
      "\u001b[32m[1029 16:34:05 @monitor.py:467]\u001b[0m GAN_loss/g_loss: -0.0058671\n",
      "\u001b[32m[1029 16:34:05 @monitor.py:467]\u001b[0m GAN_loss/kl_div: 0.077145\n",
      "\u001b[32m[1029 16:34:05 @monitor.py:467]\u001b[0m QueueInput/queue_size: 50\n",
      "\u001b[32m[1029 16:34:05 @base.py:275]\u001b[0m Start Epoch 20 ...\n"
     ]
    },
    {
     "name": "stderr",
     "output_type": "stream",
     "text": [
      "\n",
      "100%|###################################################################################|175/175[00:04<00:00,41.46it/s]"
     ]
    },
    {
     "name": "stdout",
     "output_type": "stream",
     "text": [
      "\u001b[32m[1029 16:34:09 @base.py:285]\u001b[0m Epoch 20 (global_step 5249) finished, time:4.22 seconds.\n",
      "\u001b[32m[1029 16:34:09 @saver.py:79]\u001b[0m Model saved to ../output/Chicago/NOLINKS/model\\model-5249.\n",
      "\u001b[32m[1029 16:34:09 @monitor.py:467]\u001b[0m GAN_loss/d_loss: -0.20997\n",
      "\u001b[32m[1029 16:34:09 @monitor.py:467]\u001b[0m GAN_loss/g_loss: -0.0084756\n",
      "\u001b[32m[1029 16:34:09 @monitor.py:467]\u001b[0m GAN_loss/kl_div: 0.077084\n",
      "\u001b[32m[1029 16:34:09 @monitor.py:467]\u001b[0m QueueInput/queue_size: 50\n",
      "\u001b[32m[1029 16:34:09 @base.py:275]\u001b[0m Start Epoch 21 ...\n"
     ]
    },
    {
     "name": "stderr",
     "output_type": "stream",
     "text": [
      "\n",
      "100%|###################################################################################|175/175[00:04<00:00,41.29it/s]"
     ]
    },
    {
     "name": "stdout",
     "output_type": "stream",
     "text": [
      "\u001b[32m[1029 16:34:13 @base.py:285]\u001b[0m Epoch 21 (global_step 5512) finished, time:4.24 seconds.\n",
      "\u001b[32m[1029 16:34:13 @saver.py:79]\u001b[0m Model saved to ../output/Chicago/NOLINKS/model\\model-5512.\n",
      "\u001b[32m[1029 16:34:13 @monitor.py:467]\u001b[0m GAN_loss/d_loss: -0.20791\n",
      "\u001b[32m[1029 16:34:13 @monitor.py:467]\u001b[0m GAN_loss/g_loss: -0.010523\n",
      "\u001b[32m[1029 16:34:13 @monitor.py:467]\u001b[0m GAN_loss/kl_div: 0.078429\n",
      "\u001b[32m[1029 16:34:13 @monitor.py:467]\u001b[0m QueueInput/queue_size: 50\n",
      "\u001b[32m[1029 16:34:13 @base.py:275]\u001b[0m Start Epoch 22 ...\n"
     ]
    },
    {
     "name": "stderr",
     "output_type": "stream",
     "text": [
      "\n",
      "100%|###################################################################################|175/175[00:04<00:00,42.11it/s]"
     ]
    },
    {
     "name": "stdout",
     "output_type": "stream",
     "text": [
      "\u001b[32m[1029 16:34:18 @base.py:285]\u001b[0m Epoch 22 (global_step 5774) finished, time:4.16 seconds.\n",
      "\u001b[32m[1029 16:34:18 @saver.py:79]\u001b[0m Model saved to ../output/Chicago/NOLINKS/model\\model-5774.\n",
      "\u001b[32m[1029 16:34:18 @monitor.py:467]\u001b[0m GAN_loss/d_loss: -0.20569\n",
      "\u001b[32m[1029 16:34:18 @monitor.py:467]\u001b[0m GAN_loss/g_loss: -0.012679\n",
      "\u001b[32m[1029 16:34:18 @monitor.py:467]\u001b[0m GAN_loss/kl_div: 0.075084\n",
      "\u001b[32m[1029 16:34:18 @monitor.py:467]\u001b[0m QueueInput/queue_size: 50\n",
      "\u001b[32m[1029 16:34:18 @base.py:275]\u001b[0m Start Epoch 23 ...\n"
     ]
    },
    {
     "name": "stderr",
     "output_type": "stream",
     "text": [
      "\n",
      "100%|###################################################################################|175/175[00:04<00:00,42.52it/s]"
     ]
    },
    {
     "name": "stdout",
     "output_type": "stream",
     "text": [
      "\u001b[32m[1029 16:34:22 @base.py:285]\u001b[0m Epoch 23 (global_step 6037) finished, time:4.12 seconds.\n",
      "\u001b[32m[1029 16:34:22 @saver.py:79]\u001b[0m Model saved to ../output/Chicago/NOLINKS/model\\model-6037.\n",
      "\u001b[32m[1029 16:34:22 @monitor.py:467]\u001b[0m GAN_loss/d_loss: -0.20138\n",
      "\u001b[32m[1029 16:34:22 @monitor.py:467]\u001b[0m GAN_loss/g_loss: -0.014867\n",
      "\u001b[32m[1029 16:34:22 @monitor.py:467]\u001b[0m GAN_loss/kl_div: 0.077454\n",
      "\u001b[32m[1029 16:34:22 @monitor.py:467]\u001b[0m QueueInput/queue_size: 50\n",
      "\u001b[32m[1029 16:34:22 @base.py:275]\u001b[0m Start Epoch 24 ...\n"
     ]
    },
    {
     "name": "stderr",
     "output_type": "stream",
     "text": [
      "\n",
      "100%|###################################################################################|175/175[00:04<00:00,43.16it/s]"
     ]
    },
    {
     "name": "stdout",
     "output_type": "stream",
     "text": [
      "\u001b[32m[1029 16:34:26 @base.py:285]\u001b[0m Epoch 24 (global_step 6299) finished, time:4.05 seconds.\n",
      "\u001b[32m[1029 16:34:26 @saver.py:79]\u001b[0m Model saved to ../output/Chicago/NOLINKS/model\\model-6299.\n",
      "\u001b[32m[1029 16:34:26 @monitor.py:467]\u001b[0m GAN_loss/d_loss: -0.19926\n",
      "\u001b[32m[1029 16:34:26 @monitor.py:467]\u001b[0m GAN_loss/g_loss: -0.016301\n",
      "\u001b[32m[1029 16:34:26 @monitor.py:467]\u001b[0m GAN_loss/kl_div: 0.079692\n",
      "\u001b[32m[1029 16:34:26 @monitor.py:467]\u001b[0m QueueInput/queue_size: 50\n",
      "\u001b[32m[1029 16:34:26 @base.py:275]\u001b[0m Start Epoch 25 ...\n"
     ]
    },
    {
     "name": "stderr",
     "output_type": "stream",
     "text": [
      "\n",
      "100%|###################################################################################|175/175[00:04<00:00,42.79it/s]"
     ]
    },
    {
     "name": "stdout",
     "output_type": "stream",
     "text": [
      "\u001b[32m[1029 16:34:30 @base.py:285]\u001b[0m Epoch 25 (global_step 6562) finished, time:4.09 seconds.\n",
      "\u001b[32m[1029 16:34:30 @saver.py:79]\u001b[0m Model saved to ../output/Chicago/NOLINKS/model\\model-6562.\n",
      "\u001b[32m[1029 16:34:30 @monitor.py:467]\u001b[0m GAN_loss/d_loss: -0.19547\n",
      "\u001b[32m[1029 16:34:30 @monitor.py:467]\u001b[0m GAN_loss/g_loss: -0.018139\n",
      "\u001b[32m[1029 16:34:30 @monitor.py:467]\u001b[0m GAN_loss/kl_div: 0.0794\n",
      "\u001b[32m[1029 16:34:30 @monitor.py:467]\u001b[0m QueueInput/queue_size: 50\n",
      "\u001b[32m[1029 16:34:30 @base.py:275]\u001b[0m Start Epoch 26 ...\n"
     ]
    },
    {
     "name": "stderr",
     "output_type": "stream",
     "text": [
      "\n",
      "100%|###################################################################################|175/175[00:04<00:00,43.05it/s]"
     ]
    },
    {
     "name": "stdout",
     "output_type": "stream",
     "text": [
      "\u001b[32m[1029 16:34:34 @base.py:285]\u001b[0m Epoch 26 (global_step 6824) finished, time:4.07 seconds.\n",
      "\u001b[32m[1029 16:34:34 @saver.py:79]\u001b[0m Model saved to ../output/Chicago/NOLINKS/model\\model-6824.\n",
      "\u001b[32m[1029 16:34:34 @monitor.py:467]\u001b[0m GAN_loss/d_loss: -0.19274\n",
      "\u001b[32m[1029 16:34:34 @monitor.py:467]\u001b[0m GAN_loss/g_loss: -0.020799\n",
      "\u001b[32m[1029 16:34:34 @monitor.py:467]\u001b[0m GAN_loss/kl_div: 0.073344\n",
      "\u001b[32m[1029 16:34:34 @monitor.py:467]\u001b[0m QueueInput/queue_size: 50\n",
      "\u001b[32m[1029 16:34:34 @base.py:275]\u001b[0m Start Epoch 27 ...\n"
     ]
    },
    {
     "name": "stderr",
     "output_type": "stream",
     "text": [
      "\n",
      "100%|###################################################################################|175/175[00:04<00:00,43.03it/s]"
     ]
    },
    {
     "name": "stdout",
     "output_type": "stream",
     "text": [
      "\u001b[32m[1029 16:34:38 @base.py:285]\u001b[0m Epoch 27 (global_step 7087) finished, time:4.07 seconds.\n",
      "\u001b[32m[1029 16:34:38 @saver.py:79]\u001b[0m Model saved to ../output/Chicago/NOLINKS/model\\model-7087.\n",
      "\u001b[32m[1029 16:34:38 @monitor.py:467]\u001b[0m GAN_loss/d_loss: -0.19051\n",
      "\u001b[32m[1029 16:34:38 @monitor.py:467]\u001b[0m GAN_loss/g_loss: -0.023328\n",
      "\u001b[32m[1029 16:34:38 @monitor.py:467]\u001b[0m GAN_loss/kl_div: 0.077312\n",
      "\u001b[32m[1029 16:34:38 @monitor.py:467]\u001b[0m QueueInput/queue_size: 50\n",
      "\u001b[32m[1029 16:34:38 @base.py:275]\u001b[0m Start Epoch 28 ...\n"
     ]
    },
    {
     "name": "stderr",
     "output_type": "stream",
     "text": [
      "\n",
      "100%|###################################################################################|175/175[00:04<00:00,42.75it/s]"
     ]
    },
    {
     "name": "stdout",
     "output_type": "stream",
     "text": [
      "\u001b[32m[1029 16:34:43 @base.py:285]\u001b[0m Epoch 28 (global_step 7349) finished, time:4.09 seconds.\n",
      "\u001b[32m[1029 16:34:43 @saver.py:79]\u001b[0m Model saved to ../output/Chicago/NOLINKS/model\\model-7349.\n",
      "\u001b[32m[1029 16:34:43 @monitor.py:467]\u001b[0m GAN_loss/d_loss: -0.18701\n",
      "\u001b[32m[1029 16:34:43 @monitor.py:467]\u001b[0m GAN_loss/g_loss: -0.026508\n",
      "\u001b[32m[1029 16:34:43 @monitor.py:467]\u001b[0m GAN_loss/kl_div: 0.084569\n",
      "\u001b[32m[1029 16:34:43 @monitor.py:467]\u001b[0m QueueInput/queue_size: 50\n",
      "\u001b[32m[1029 16:34:43 @base.py:275]\u001b[0m Start Epoch 29 ...\n"
     ]
    },
    {
     "name": "stderr",
     "output_type": "stream",
     "text": [
      "\n",
      "100%|###################################################################################|175/175[00:04<00:00,42.42it/s]"
     ]
    },
    {
     "name": "stdout",
     "output_type": "stream",
     "text": [
      "\u001b[32m[1029 16:34:47 @base.py:285]\u001b[0m Epoch 29 (global_step 7612) finished, time:4.13 seconds.\n",
      "\u001b[32m[1029 16:34:47 @saver.py:79]\u001b[0m Model saved to ../output/Chicago/NOLINKS/model\\model-7612.\n",
      "\u001b[32m[1029 16:34:47 @monitor.py:467]\u001b[0m GAN_loss/d_loss: -0.18502\n",
      "\u001b[32m[1029 16:34:47 @monitor.py:467]\u001b[0m GAN_loss/g_loss: -0.029236\n",
      "\u001b[32m[1029 16:34:47 @monitor.py:467]\u001b[0m GAN_loss/kl_div: 0.084045\n",
      "\u001b[32m[1029 16:34:47 @monitor.py:467]\u001b[0m QueueInput/queue_size: 50\n",
      "\u001b[32m[1029 16:34:47 @base.py:275]\u001b[0m Start Epoch 30 ...\n"
     ]
    },
    {
     "name": "stderr",
     "output_type": "stream",
     "text": [
      "\n",
      "100%|###################################################################################|175/175[00:04<00:00,42.75it/s]"
     ]
    },
    {
     "name": "stdout",
     "output_type": "stream",
     "text": [
      "\u001b[32m[1029 16:34:51 @base.py:285]\u001b[0m Epoch 30 (global_step 7874) finished, time:4.09 seconds.\n",
      "\u001b[32m[1029 16:34:51 @saver.py:79]\u001b[0m Model saved to ../output/Chicago/NOLINKS/model\\model-7874.\n",
      "\u001b[32m[1029 16:34:51 @monitor.py:467]\u001b[0m GAN_loss/d_loss: -0.18167\n",
      "\u001b[32m[1029 16:34:51 @monitor.py:467]\u001b[0m GAN_loss/g_loss: -0.032223\n",
      "\u001b[32m[1029 16:34:51 @monitor.py:467]\u001b[0m GAN_loss/kl_div: 0.07667\n",
      "\u001b[32m[1029 16:34:51 @monitor.py:467]\u001b[0m QueueInput/queue_size: 50\n",
      "\u001b[32m[1029 16:34:51 @base.py:275]\u001b[0m Start Epoch 31 ...\n"
     ]
    },
    {
     "name": "stderr",
     "output_type": "stream",
     "text": [
      "\n",
      "100%|###################################################################################|175/175[00:04<00:00,41.98it/s]"
     ]
    },
    {
     "name": "stdout",
     "output_type": "stream",
     "text": [
      "\u001b[32m[1029 16:34:55 @base.py:285]\u001b[0m Epoch 31 (global_step 8137) finished, time:4.17 seconds.\n",
      "\u001b[32m[1029 16:34:55 @saver.py:79]\u001b[0m Model saved to ../output/Chicago/NOLINKS/model\\model-8137.\n",
      "\u001b[32m[1029 16:34:55 @monitor.py:467]\u001b[0m GAN_loss/d_loss: -0.1808\n",
      "\u001b[32m[1029 16:34:55 @monitor.py:467]\u001b[0m GAN_loss/g_loss: -0.034368\n",
      "\u001b[32m[1029 16:34:55 @monitor.py:467]\u001b[0m GAN_loss/kl_div: 0.083661\n",
      "\u001b[32m[1029 16:34:55 @monitor.py:467]\u001b[0m QueueInput/queue_size: 50\n",
      "\u001b[32m[1029 16:34:55 @base.py:275]\u001b[0m Start Epoch 32 ...\n"
     ]
    },
    {
     "name": "stderr",
     "output_type": "stream",
     "text": [
      "\n",
      "100%|###################################################################################|175/175[00:04<00:00,42.49it/s]"
     ]
    },
    {
     "name": "stdout",
     "output_type": "stream",
     "text": [
      "\u001b[32m[1029 16:34:59 @base.py:285]\u001b[0m Epoch 32 (global_step 8399) finished, time:4.12 seconds.\n",
      "\u001b[32m[1029 16:34:59 @saver.py:79]\u001b[0m Model saved to ../output/Chicago/NOLINKS/model\\model-8399.\n",
      "\u001b[32m[1029 16:34:59 @monitor.py:467]\u001b[0m GAN_loss/d_loss: -0.18217\n",
      "\u001b[32m[1029 16:34:59 @monitor.py:467]\u001b[0m GAN_loss/g_loss: -0.037386\n",
      "\u001b[32m[1029 16:34:59 @monitor.py:467]\u001b[0m GAN_loss/kl_div: 0.075476\n",
      "\u001b[32m[1029 16:34:59 @monitor.py:467]\u001b[0m QueueInput/queue_size: 50\n",
      "\u001b[32m[1029 16:34:59 @base.py:275]\u001b[0m Start Epoch 33 ...\n"
     ]
    },
    {
     "name": "stderr",
     "output_type": "stream",
     "text": [
      "\n",
      "100%|###################################################################################|175/175[00:04<00:00,42.89it/s]"
     ]
    },
    {
     "name": "stdout",
     "output_type": "stream",
     "text": [
      "\u001b[32m[1029 16:35:03 @base.py:285]\u001b[0m Epoch 33 (global_step 8662) finished, time:4.08 seconds.\n",
      "\u001b[32m[1029 16:35:03 @saver.py:79]\u001b[0m Model saved to ../output/Chicago/NOLINKS/model\\model-8662.\n",
      "\u001b[32m[1029 16:35:03 @monitor.py:467]\u001b[0m GAN_loss/d_loss: -0.18177\n",
      "\u001b[32m[1029 16:35:03 @monitor.py:467]\u001b[0m GAN_loss/g_loss: -0.039771\n",
      "\u001b[32m[1029 16:35:03 @monitor.py:467]\u001b[0m GAN_loss/kl_div: 0.076384\n",
      "\u001b[32m[1029 16:35:03 @monitor.py:467]\u001b[0m QueueInput/queue_size: 50\n",
      "\u001b[32m[1029 16:35:03 @base.py:275]\u001b[0m Start Epoch 34 ...\n"
     ]
    },
    {
     "name": "stderr",
     "output_type": "stream",
     "text": [
      "\n",
      "100%|###################################################################################|175/175[00:04<00:00,42.40it/s]"
     ]
    },
    {
     "name": "stdout",
     "output_type": "stream",
     "text": [
      "\u001b[32m[1029 16:35:08 @base.py:285]\u001b[0m Epoch 34 (global_step 8924) finished, time:4.13 seconds.\n",
      "\u001b[32m[1029 16:35:08 @saver.py:79]\u001b[0m Model saved to ../output/Chicago/NOLINKS/model\\model-8924.\n",
      "\u001b[32m[1029 16:35:08 @monitor.py:467]\u001b[0m GAN_loss/d_loss: -0.1816\n",
      "\u001b[32m[1029 16:35:08 @monitor.py:467]\u001b[0m GAN_loss/g_loss: -0.041437\n",
      "\u001b[32m[1029 16:35:08 @monitor.py:467]\u001b[0m GAN_loss/kl_div: 0.079871\n",
      "\u001b[32m[1029 16:35:08 @monitor.py:467]\u001b[0m QueueInput/queue_size: 50\n",
      "\u001b[32m[1029 16:35:08 @base.py:275]\u001b[0m Start Epoch 35 ...\n"
     ]
    },
    {
     "name": "stderr",
     "output_type": "stream",
     "text": [
      "\n",
      "100%|###################################################################################|175/175[00:04<00:00,42.57it/s]"
     ]
    },
    {
     "name": "stdout",
     "output_type": "stream",
     "text": [
      "\u001b[32m[1029 16:35:12 @base.py:285]\u001b[0m Epoch 35 (global_step 9187) finished, time:4.11 seconds.\n",
      "\u001b[32m[1029 16:35:12 @saver.py:79]\u001b[0m Model saved to ../output/Chicago/NOLINKS/model\\model-9187.\n",
      "\u001b[32m[1029 16:35:12 @monitor.py:467]\u001b[0m GAN_loss/d_loss: -0.18153\n",
      "\u001b[32m[1029 16:35:12 @monitor.py:467]\u001b[0m GAN_loss/g_loss: -0.044413\n",
      "\u001b[32m[1029 16:35:12 @monitor.py:467]\u001b[0m GAN_loss/kl_div: 0.075592\n",
      "\u001b[32m[1029 16:35:12 @monitor.py:467]\u001b[0m QueueInput/queue_size: 50\n",
      "\u001b[32m[1029 16:35:12 @base.py:275]\u001b[0m Start Epoch 36 ...\n"
     ]
    },
    {
     "name": "stderr",
     "output_type": "stream",
     "text": [
      "\n",
      "100%|###################################################################################|175/175[00:04<00:00,42.69it/s]"
     ]
    },
    {
     "name": "stdout",
     "output_type": "stream",
     "text": [
      "\u001b[32m[1029 16:35:16 @base.py:285]\u001b[0m Epoch 36 (global_step 9449) finished, time:4.1 seconds.\n",
      "\u001b[32m[1029 16:35:16 @saver.py:79]\u001b[0m Model saved to ../output/Chicago/NOLINKS/model\\model-9449.\n",
      "\u001b[32m[1029 16:35:16 @monitor.py:467]\u001b[0m GAN_loss/d_loss: -0.18009\n",
      "\u001b[32m[1029 16:35:16 @monitor.py:467]\u001b[0m GAN_loss/g_loss: -0.044782\n",
      "\u001b[32m[1029 16:35:16 @monitor.py:467]\u001b[0m GAN_loss/kl_div: 0.082154\n",
      "\u001b[32m[1029 16:35:16 @monitor.py:467]\u001b[0m QueueInput/queue_size: 50\n",
      "\u001b[32m[1029 16:35:16 @base.py:275]\u001b[0m Start Epoch 37 ...\n"
     ]
    },
    {
     "name": "stderr",
     "output_type": "stream",
     "text": [
      "\n",
      "100%|###################################################################################|175/175[00:04<00:00,42.98it/s]"
     ]
    },
    {
     "name": "stdout",
     "output_type": "stream",
     "text": [
      "\u001b[32m[1029 16:35:20 @base.py:285]\u001b[0m Epoch 37 (global_step 9712) finished, time:4.07 seconds.\n",
      "\u001b[32m[1029 16:35:20 @saver.py:79]\u001b[0m Model saved to ../output/Chicago/NOLINKS/model\\model-9712.\n",
      "\u001b[32m[1029 16:35:20 @monitor.py:467]\u001b[0m GAN_loss/d_loss: -0.17961\n",
      "\u001b[32m[1029 16:35:20 @monitor.py:467]\u001b[0m GAN_loss/g_loss: -0.044419\n",
      "\u001b[32m[1029 16:35:20 @monitor.py:467]\u001b[0m GAN_loss/kl_div: 0.081905\n",
      "\u001b[32m[1029 16:35:20 @monitor.py:467]\u001b[0m QueueInput/queue_size: 50\n",
      "\u001b[32m[1029 16:35:20 @base.py:275]\u001b[0m Start Epoch 38 ...\n"
     ]
    },
    {
     "name": "stderr",
     "output_type": "stream",
     "text": [
      "\n",
      "100%|###################################################################################|175/175[00:04<00:00,43.05it/s]"
     ]
    },
    {
     "name": "stdout",
     "output_type": "stream",
     "text": [
      "\u001b[32m[1029 16:35:24 @base.py:285]\u001b[0m Epoch 38 (global_step 9974) finished, time:4.07 seconds.\n",
      "\u001b[32m[1029 16:35:24 @saver.py:79]\u001b[0m Model saved to ../output/Chicago/NOLINKS/model\\model-9974.\n",
      "\u001b[32m[1029 16:35:24 @monitor.py:467]\u001b[0m GAN_loss/d_loss: -0.17852\n",
      "\u001b[32m[1029 16:35:24 @monitor.py:467]\u001b[0m GAN_loss/g_loss: -0.045862\n",
      "\u001b[32m[1029 16:35:24 @monitor.py:467]\u001b[0m GAN_loss/kl_div: 0.081839\n",
      "\u001b[32m[1029 16:35:24 @monitor.py:467]\u001b[0m QueueInput/queue_size: 50\n",
      "\u001b[32m[1029 16:35:24 @base.py:275]\u001b[0m Start Epoch 39 ...\n"
     ]
    },
    {
     "name": "stderr",
     "output_type": "stream",
     "text": [
      "\n",
      "100%|###################################################################################|175/175[00:04<00:00,42.48it/s]"
     ]
    },
    {
     "name": "stdout",
     "output_type": "stream",
     "text": [
      "\u001b[32m[1029 16:35:28 @base.py:285]\u001b[0m Epoch 39 (global_step 10237) finished, time:4.12 seconds.\n",
      "\u001b[32m[1029 16:35:28 @saver.py:79]\u001b[0m Model saved to ../output/Chicago/NOLINKS/model\\model-10237.\n",
      "\u001b[32m[1029 16:35:28 @monitor.py:467]\u001b[0m GAN_loss/d_loss: -0.17951\n",
      "\u001b[32m[1029 16:35:28 @monitor.py:467]\u001b[0m GAN_loss/g_loss: -0.047703\n",
      "\u001b[32m[1029 16:35:28 @monitor.py:467]\u001b[0m GAN_loss/kl_div: 0.077868\n",
      "\u001b[32m[1029 16:35:28 @monitor.py:467]\u001b[0m QueueInput/queue_size: 50\n",
      "\u001b[32m[1029 16:35:28 @base.py:275]\u001b[0m Start Epoch 40 ...\n"
     ]
    },
    {
     "name": "stderr",
     "output_type": "stream",
     "text": [
      "\n",
      "100%|###################################################################################|175/175[00:04<00:00,42.99it/s]"
     ]
    },
    {
     "name": "stdout",
     "output_type": "stream",
     "text": [
      "\u001b[32m[1029 16:35:33 @base.py:285]\u001b[0m Epoch 40 (global_step 10499) finished, time:4.07 seconds.\n",
      "\u001b[32m[1029 16:35:33 @saver.py:79]\u001b[0m Model saved to ../output/Chicago/NOLINKS/model\\model-10499.\n",
      "\u001b[32m[1029 16:35:33 @monitor.py:467]\u001b[0m GAN_loss/d_loss: -0.17712\n",
      "\u001b[32m[1029 16:35:33 @monitor.py:467]\u001b[0m GAN_loss/g_loss: -0.048895\n",
      "\u001b[32m[1029 16:35:33 @monitor.py:467]\u001b[0m GAN_loss/kl_div: 0.0797\n",
      "\u001b[32m[1029 16:35:33 @monitor.py:467]\u001b[0m QueueInput/queue_size: 50\n",
      "\u001b[32m[1029 16:35:33 @base.py:275]\u001b[0m Start Epoch 41 ...\n"
     ]
    },
    {
     "name": "stderr",
     "output_type": "stream",
     "text": [
      "\n",
      "100%|###################################################################################|175/175[00:04<00:00,42.98it/s]"
     ]
    },
    {
     "name": "stdout",
     "output_type": "stream",
     "text": [
      "\u001b[32m[1029 16:35:37 @base.py:285]\u001b[0m Epoch 41 (global_step 10762) finished, time:4.07 seconds.\n",
      "\u001b[32m[1029 16:35:37 @saver.py:79]\u001b[0m Model saved to ../output/Chicago/NOLINKS/model\\model-10762.\n",
      "\u001b[32m[1029 16:35:37 @monitor.py:467]\u001b[0m GAN_loss/d_loss: -0.17528\n",
      "\u001b[32m[1029 16:35:37 @monitor.py:467]\u001b[0m GAN_loss/g_loss: -0.05001\n",
      "\u001b[32m[1029 16:35:37 @monitor.py:467]\u001b[0m GAN_loss/kl_div: 0.081782\n",
      "\u001b[32m[1029 16:35:37 @monitor.py:467]\u001b[0m QueueInput/queue_size: 50\n",
      "\u001b[32m[1029 16:35:37 @base.py:275]\u001b[0m Start Epoch 42 ...\n"
     ]
    },
    {
     "name": "stderr",
     "output_type": "stream",
     "text": [
      "\n",
      "100%|###################################################################################|175/175[00:04<00:00,42.76it/s]"
     ]
    },
    {
     "name": "stdout",
     "output_type": "stream",
     "text": [
      "\u001b[32m[1029 16:35:41 @base.py:285]\u001b[0m Epoch 42 (global_step 11024) finished, time:4.09 seconds.\n",
      "\u001b[32m[1029 16:35:41 @saver.py:79]\u001b[0m Model saved to ../output/Chicago/NOLINKS/model\\model-11024.\n",
      "\u001b[32m[1029 16:35:41 @monitor.py:467]\u001b[0m GAN_loss/d_loss: -0.17454\n",
      "\u001b[32m[1029 16:35:41 @monitor.py:467]\u001b[0m GAN_loss/g_loss: -0.050907\n",
      "\u001b[32m[1029 16:35:41 @monitor.py:467]\u001b[0m GAN_loss/kl_div: 0.080527\n",
      "\u001b[32m[1029 16:35:41 @monitor.py:467]\u001b[0m QueueInput/queue_size: 50\n",
      "\u001b[32m[1029 16:35:41 @base.py:275]\u001b[0m Start Epoch 43 ...\n"
     ]
    },
    {
     "name": "stderr",
     "output_type": "stream",
     "text": [
      "\n",
      "100%|###################################################################################|175/175[00:04<00:00,42.68it/s]"
     ]
    },
    {
     "name": "stdout",
     "output_type": "stream",
     "text": [
      "\u001b[32m[1029 16:35:45 @base.py:285]\u001b[0m Epoch 43 (global_step 11287) finished, time:4.1 seconds.\n",
      "\u001b[32m[1029 16:35:45 @saver.py:79]\u001b[0m Model saved to ../output/Chicago/NOLINKS/model\\model-11287.\n",
      "\u001b[32m[1029 16:35:45 @monitor.py:467]\u001b[0m GAN_loss/d_loss: -0.17209\n",
      "\u001b[32m[1029 16:35:45 @monitor.py:467]\u001b[0m GAN_loss/g_loss: -0.05208\n",
      "\u001b[32m[1029 16:35:45 @monitor.py:467]\u001b[0m GAN_loss/kl_div: 0.076008\n",
      "\u001b[32m[1029 16:35:45 @monitor.py:467]\u001b[0m QueueInput/queue_size: 50\n",
      "\u001b[32m[1029 16:35:45 @base.py:275]\u001b[0m Start Epoch 44 ...\n"
     ]
    },
    {
     "name": "stderr",
     "output_type": "stream",
     "text": [
      "\n",
      "100%|###################################################################################|175/175[00:04<00:00,42.83it/s]"
     ]
    },
    {
     "name": "stdout",
     "output_type": "stream",
     "text": [
      "\u001b[32m[1029 16:35:49 @base.py:285]\u001b[0m Epoch 44 (global_step 11549) finished, time:4.09 seconds.\n",
      "\u001b[32m[1029 16:35:49 @saver.py:79]\u001b[0m Model saved to ../output/Chicago/NOLINKS/model\\model-11549.\n",
      "\u001b[32m[1029 16:35:49 @monitor.py:467]\u001b[0m GAN_loss/d_loss: -0.17174\n",
      "\u001b[32m[1029 16:35:49 @monitor.py:467]\u001b[0m GAN_loss/g_loss: -0.051738\n",
      "\u001b[32m[1029 16:35:49 @monitor.py:467]\u001b[0m GAN_loss/kl_div: 0.078939\n",
      "\u001b[32m[1029 16:35:49 @monitor.py:467]\u001b[0m QueueInput/queue_size: 50\n",
      "\u001b[32m[1029 16:35:49 @base.py:275]\u001b[0m Start Epoch 45 ...\n"
     ]
    },
    {
     "name": "stderr",
     "output_type": "stream",
     "text": [
      "\n",
      "100%|###################################################################################|175/175[00:04<00:00,42.46it/s]"
     ]
    },
    {
     "name": "stdout",
     "output_type": "stream",
     "text": [
      "\u001b[32m[1029 16:35:53 @base.py:285]\u001b[0m Epoch 45 (global_step 11812) finished, time:4.12 seconds.\n",
      "\u001b[32m[1029 16:35:53 @saver.py:79]\u001b[0m Model saved to ../output/Chicago/NOLINKS/model\\model-11812.\n",
      "\u001b[32m[1029 16:35:53 @monitor.py:467]\u001b[0m GAN_loss/d_loss: -0.17078\n",
      "\u001b[32m[1029 16:35:53 @monitor.py:467]\u001b[0m GAN_loss/g_loss: -0.053299\n",
      "\u001b[32m[1029 16:35:53 @monitor.py:467]\u001b[0m GAN_loss/kl_div: 0.080247\n",
      "\u001b[32m[1029 16:35:53 @monitor.py:467]\u001b[0m QueueInput/queue_size: 50\n",
      "\u001b[32m[1029 16:35:53 @base.py:275]\u001b[0m Start Epoch 46 ...\n"
     ]
    },
    {
     "name": "stderr",
     "output_type": "stream",
     "text": [
      "\n",
      "100%|###################################################################################|175/175[00:04<00:00,42.89it/s]"
     ]
    },
    {
     "name": "stdout",
     "output_type": "stream",
     "text": [
      "\u001b[32m[1029 16:35:57 @base.py:285]\u001b[0m Epoch 46 (global_step 12074) finished, time:4.08 seconds.\n",
      "\u001b[32m[1029 16:35:57 @saver.py:79]\u001b[0m Model saved to ../output/Chicago/NOLINKS/model\\model-12074.\n",
      "\u001b[32m[1029 16:35:58 @monitor.py:467]\u001b[0m GAN_loss/d_loss: -0.16876\n",
      "\u001b[32m[1029 16:35:58 @monitor.py:467]\u001b[0m GAN_loss/g_loss: -0.054069\n",
      "\u001b[32m[1029 16:35:58 @monitor.py:467]\u001b[0m GAN_loss/kl_div: 0.079243\n",
      "\u001b[32m[1029 16:35:58 @monitor.py:467]\u001b[0m QueueInput/queue_size: 50\n",
      "\u001b[32m[1029 16:35:58 @base.py:275]\u001b[0m Start Epoch 47 ...\n"
     ]
    },
    {
     "name": "stderr",
     "output_type": "stream",
     "text": [
      "\n",
      "100%|###################################################################################|175/175[00:04<00:00,42.69it/s]"
     ]
    },
    {
     "name": "stdout",
     "output_type": "stream",
     "text": [
      "\u001b[32m[1029 16:36:02 @base.py:285]\u001b[0m Epoch 47 (global_step 12337) finished, time:4.1 seconds.\n",
      "\u001b[32m[1029 16:36:02 @saver.py:79]\u001b[0m Model saved to ../output/Chicago/NOLINKS/model\\model-12337.\n",
      "\u001b[32m[1029 16:36:02 @monitor.py:467]\u001b[0m GAN_loss/d_loss: -0.16688\n",
      "\u001b[32m[1029 16:36:02 @monitor.py:467]\u001b[0m GAN_loss/g_loss: -0.054344\n",
      "\u001b[32m[1029 16:36:02 @monitor.py:467]\u001b[0m GAN_loss/kl_div: 0.080358\n",
      "\u001b[32m[1029 16:36:02 @monitor.py:467]\u001b[0m QueueInput/queue_size: 50\n",
      "\u001b[32m[1029 16:36:02 @base.py:275]\u001b[0m Start Epoch 48 ...\n"
     ]
    },
    {
     "name": "stderr",
     "output_type": "stream",
     "text": [
      "\n",
      "100%|###################################################################################|175/175[00:04<00:00,42.80it/s]"
     ]
    },
    {
     "name": "stdout",
     "output_type": "stream",
     "text": [
      "\u001b[32m[1029 16:36:06 @base.py:285]\u001b[0m Epoch 48 (global_step 12599) finished, time:4.09 seconds.\n",
      "\u001b[32m[1029 16:36:06 @saver.py:79]\u001b[0m Model saved to ../output/Chicago/NOLINKS/model\\model-12599.\n",
      "\u001b[32m[1029 16:36:06 @monitor.py:467]\u001b[0m GAN_loss/d_loss: -0.16708\n",
      "\u001b[32m[1029 16:36:06 @monitor.py:467]\u001b[0m GAN_loss/g_loss: -0.055519\n",
      "\u001b[32m[1029 16:36:06 @monitor.py:467]\u001b[0m GAN_loss/kl_div: 0.084664\n",
      "\u001b[32m[1029 16:36:06 @monitor.py:467]\u001b[0m QueueInput/queue_size: 50\n",
      "\u001b[32m[1029 16:36:06 @base.py:275]\u001b[0m Start Epoch 49 ...\n"
     ]
    },
    {
     "name": "stderr",
     "output_type": "stream",
     "text": [
      "\n",
      "100%|###################################################################################|175/175[00:04<00:00,42.80it/s]"
     ]
    },
    {
     "name": "stdout",
     "output_type": "stream",
     "text": [
      "\u001b[32m[1029 16:36:10 @base.py:285]\u001b[0m Epoch 49 (global_step 12862) finished, time:4.09 seconds.\n",
      "\u001b[32m[1029 16:36:10 @saver.py:79]\u001b[0m Model saved to ../output/Chicago/NOLINKS/model\\model-12862.\n",
      "\u001b[32m[1029 16:36:10 @monitor.py:467]\u001b[0m GAN_loss/d_loss: -0.16526\n",
      "\u001b[32m[1029 16:36:10 @monitor.py:467]\u001b[0m GAN_loss/g_loss: -0.055796\n",
      "\u001b[32m[1029 16:36:10 @monitor.py:467]\u001b[0m GAN_loss/kl_div: 0.077965\n",
      "\u001b[32m[1029 16:36:10 @monitor.py:467]\u001b[0m QueueInput/queue_size: 50\n",
      "\u001b[32m[1029 16:36:10 @base.py:275]\u001b[0m Start Epoch 50 ...\n"
     ]
    },
    {
     "name": "stderr",
     "output_type": "stream",
     "text": [
      "\n",
      "100%|###################################################################################|175/175[00:04<00:00,42.67it/s]"
     ]
    },
    {
     "name": "stdout",
     "output_type": "stream",
     "text": [
      "\u001b[32m[1029 16:36:14 @base.py:285]\u001b[0m Epoch 50 (global_step 13124) finished, time:4.1 seconds.\n",
      "\u001b[32m[1029 16:36:14 @saver.py:79]\u001b[0m Model saved to ../output/Chicago/NOLINKS/model\\model-13124.\n",
      "\u001b[32m[1029 16:36:14 @monitor.py:467]\u001b[0m GAN_loss/d_loss: -0.16232\n",
      "\u001b[32m[1029 16:36:14 @monitor.py:467]\u001b[0m GAN_loss/g_loss: -0.057995\n",
      "\u001b[32m[1029 16:36:14 @monitor.py:467]\u001b[0m GAN_loss/kl_div: 0.076582\n",
      "\u001b[32m[1029 16:36:14 @monitor.py:467]\u001b[0m QueueInput/queue_size: 50\n",
      "\u001b[32m[1029 16:36:14 @base.py:275]\u001b[0m Start Epoch 51 ...\n"
     ]
    },
    {
     "name": "stderr",
     "output_type": "stream",
     "text": [
      "\n",
      "100%|###################################################################################|175/175[00:04<00:00,42.80it/s]"
     ]
    },
    {
     "name": "stdout",
     "output_type": "stream",
     "text": [
      "\u001b[32m[1029 16:36:18 @base.py:285]\u001b[0m Epoch 51 (global_step 13387) finished, time:4.09 seconds.\n",
      "\u001b[32m[1029 16:36:18 @saver.py:79]\u001b[0m Model saved to ../output/Chicago/NOLINKS/model\\model-13387.\n",
      "\u001b[32m[1029 16:36:18 @monitor.py:467]\u001b[0m GAN_loss/d_loss: -0.16238\n",
      "\u001b[32m[1029 16:36:18 @monitor.py:467]\u001b[0m GAN_loss/g_loss: -0.058336\n",
      "\u001b[32m[1029 16:36:18 @monitor.py:467]\u001b[0m GAN_loss/kl_div: 0.085807\n",
      "\u001b[32m[1029 16:36:18 @monitor.py:467]\u001b[0m QueueInput/queue_size: 50\n",
      "\u001b[32m[1029 16:36:18 @base.py:275]\u001b[0m Start Epoch 52 ...\n"
     ]
    },
    {
     "name": "stderr",
     "output_type": "stream",
     "text": [
      "\n",
      "100%|###################################################################################|175/175[00:04<00:00,42.87it/s]"
     ]
    },
    {
     "name": "stdout",
     "output_type": "stream",
     "text": [
      "\u001b[32m[1029 16:36:22 @base.py:285]\u001b[0m Epoch 52 (global_step 13649) finished, time:4.08 seconds.\n",
      "\u001b[32m[1029 16:36:22 @saver.py:79]\u001b[0m Model saved to ../output/Chicago/NOLINKS/model\\model-13649.\n",
      "\u001b[32m[1029 16:36:22 @monitor.py:467]\u001b[0m GAN_loss/d_loss: -0.16153\n",
      "\u001b[32m[1029 16:36:22 @monitor.py:467]\u001b[0m GAN_loss/g_loss: -0.059294\n",
      "\u001b[32m[1029 16:36:22 @monitor.py:467]\u001b[0m GAN_loss/kl_div: 0.082773\n",
      "\u001b[32m[1029 16:36:22 @monitor.py:467]\u001b[0m QueueInput/queue_size: 50\n",
      "\u001b[32m[1029 16:36:22 @base.py:275]\u001b[0m Start Epoch 53 ...\n"
     ]
    },
    {
     "name": "stderr",
     "output_type": "stream",
     "text": [
      "\n",
      "100%|###################################################################################|175/175[00:04<00:00,42.06it/s]"
     ]
    },
    {
     "name": "stdout",
     "output_type": "stream",
     "text": [
      "\u001b[32m[1029 16:36:27 @base.py:285]\u001b[0m Epoch 53 (global_step 13912) finished, time:4.16 seconds.\n",
      "\u001b[32m[1029 16:36:27 @saver.py:79]\u001b[0m Model saved to ../output/Chicago/NOLINKS/model\\model-13912.\n",
      "\u001b[32m[1029 16:36:27 @monitor.py:467]\u001b[0m GAN_loss/d_loss: -0.16041\n",
      "\u001b[32m[1029 16:36:27 @monitor.py:467]\u001b[0m GAN_loss/g_loss: -0.059548\n",
      "\u001b[32m[1029 16:36:27 @monitor.py:467]\u001b[0m GAN_loss/kl_div: 0.078651\n",
      "\u001b[32m[1029 16:36:27 @monitor.py:467]\u001b[0m QueueInput/queue_size: 50\n",
      "\u001b[32m[1029 16:36:27 @base.py:275]\u001b[0m Start Epoch 54 ...\n"
     ]
    },
    {
     "name": "stderr",
     "output_type": "stream",
     "text": [
      "\n",
      "100%|###################################################################################|175/175[00:04<00:00,42.37it/s]"
     ]
    },
    {
     "name": "stdout",
     "output_type": "stream",
     "text": [
      "\u001b[32m[1029 16:36:31 @base.py:285]\u001b[0m Epoch 54 (global_step 14174) finished, time:4.13 seconds.\n",
      "\u001b[32m[1029 16:36:31 @saver.py:79]\u001b[0m Model saved to ../output/Chicago/NOLINKS/model\\model-14174.\n",
      "\u001b[32m[1029 16:36:31 @monitor.py:467]\u001b[0m GAN_loss/d_loss: -0.15905\n",
      "\u001b[32m[1029 16:36:31 @monitor.py:467]\u001b[0m GAN_loss/g_loss: -0.061125\n",
      "\u001b[32m[1029 16:36:31 @monitor.py:467]\u001b[0m GAN_loss/kl_div: 0.08032\n",
      "\u001b[32m[1029 16:36:31 @monitor.py:467]\u001b[0m QueueInput/queue_size: 50\n",
      "\u001b[32m[1029 16:36:31 @base.py:275]\u001b[0m Start Epoch 55 ...\n"
     ]
    },
    {
     "name": "stderr",
     "output_type": "stream",
     "text": [
      "\n",
      "100%|###################################################################################|175/175[00:04<00:00,42.49it/s]"
     ]
    },
    {
     "name": "stdout",
     "output_type": "stream",
     "text": [
      "\u001b[32m[1029 16:36:35 @base.py:285]\u001b[0m Epoch 55 (global_step 14437) finished, time:4.12 seconds.\n",
      "\u001b[32m[1029 16:36:35 @saver.py:79]\u001b[0m Model saved to ../output/Chicago/NOLINKS/model\\model-14437.\n",
      "\u001b[32m[1029 16:36:35 @monitor.py:467]\u001b[0m GAN_loss/d_loss: -0.15771\n",
      "\u001b[32m[1029 16:36:35 @monitor.py:467]\u001b[0m GAN_loss/g_loss: -0.061285\n",
      "\u001b[32m[1029 16:36:35 @monitor.py:467]\u001b[0m GAN_loss/kl_div: 0.082256\n",
      "\u001b[32m[1029 16:36:35 @monitor.py:467]\u001b[0m QueueInput/queue_size: 50\n",
      "\u001b[32m[1029 16:36:35 @base.py:275]\u001b[0m Start Epoch 56 ...\n"
     ]
    },
    {
     "name": "stderr",
     "output_type": "stream",
     "text": [
      "\n",
      "100%|###################################################################################|175/175[00:04<00:00,42.99it/s]"
     ]
    },
    {
     "name": "stdout",
     "output_type": "stream",
     "text": [
      "\u001b[32m[1029 16:36:39 @base.py:285]\u001b[0m Epoch 56 (global_step 14699) finished, time:4.07 seconds.\n",
      "\u001b[32m[1029 16:36:39 @saver.py:79]\u001b[0m Model saved to ../output/Chicago/NOLINKS/model\\model-14699.\n",
      "\u001b[32m[1029 16:36:39 @monitor.py:467]\u001b[0m GAN_loss/d_loss: -0.15627\n",
      "\u001b[32m[1029 16:36:39 @monitor.py:467]\u001b[0m GAN_loss/g_loss: -0.062571\n",
      "\u001b[32m[1029 16:36:39 @monitor.py:467]\u001b[0m GAN_loss/kl_div: 0.084059\n",
      "\u001b[32m[1029 16:36:39 @monitor.py:467]\u001b[0m QueueInput/queue_size: 50\n",
      "\u001b[32m[1029 16:36:39 @base.py:275]\u001b[0m Start Epoch 57 ...\n"
     ]
    },
    {
     "name": "stderr",
     "output_type": "stream",
     "text": [
      "\n",
      "100%|###################################################################################|175/175[00:04<00:00,41.19it/s]"
     ]
    },
    {
     "name": "stdout",
     "output_type": "stream",
     "text": [
      "\u001b[32m[1029 16:36:43 @base.py:285]\u001b[0m Epoch 57 (global_step 14962) finished, time:4.25 seconds.\n",
      "\u001b[32m[1029 16:36:43 @saver.py:79]\u001b[0m Model saved to ../output/Chicago/NOLINKS/model\\model-14962.\n",
      "\u001b[32m[1029 16:36:43 @monitor.py:467]\u001b[0m GAN_loss/d_loss: -0.15595\n",
      "\u001b[32m[1029 16:36:43 @monitor.py:467]\u001b[0m GAN_loss/g_loss: -0.062489\n",
      "\u001b[32m[1029 16:36:43 @monitor.py:467]\u001b[0m GAN_loss/kl_div: 0.081343\n",
      "\u001b[32m[1029 16:36:43 @monitor.py:467]\u001b[0m QueueInput/queue_size: 50\n",
      "\u001b[32m[1029 16:36:43 @base.py:275]\u001b[0m Start Epoch 58 ...\n"
     ]
    },
    {
     "name": "stderr",
     "output_type": "stream",
     "text": [
      "\n",
      "100%|###################################################################################|175/175[00:04<00:00,40.45it/s]"
     ]
    },
    {
     "name": "stdout",
     "output_type": "stream",
     "text": [
      "\u001b[32m[1029 16:36:48 @base.py:285]\u001b[0m Epoch 58 (global_step 15224) finished, time:4.33 seconds.\n"
     ]
    },
    {
     "name": "stderr",
     "output_type": "stream",
     "text": [
      "\n"
     ]
    },
    {
     "name": "stdout",
     "output_type": "stream",
     "text": [
      "\u001b[32m[1029 16:36:48 @saver.py:79]\u001b[0m Model saved to ../output/Chicago/NOLINKS/model\\model-15224.\n",
      "\u001b[32m[1029 16:36:48 @monitor.py:467]\u001b[0m GAN_loss/d_loss: -0.15365\n",
      "\u001b[32m[1029 16:36:48 @monitor.py:467]\u001b[0m GAN_loss/g_loss: -0.063013\n",
      "\u001b[32m[1029 16:36:48 @monitor.py:467]\u001b[0m GAN_loss/kl_div: 0.08226\n",
      "\u001b[32m[1029 16:36:48 @monitor.py:467]\u001b[0m QueueInput/queue_size: 50\n",
      "\u001b[32m[1029 16:36:48 @base.py:275]\u001b[0m Start Epoch 59 ...\n"
     ]
    },
    {
     "name": "stderr",
     "output_type": "stream",
     "text": [
      "100%|###################################################################################|175/175[00:04<00:00,39.33it/s]"
     ]
    },
    {
     "name": "stdout",
     "output_type": "stream",
     "text": [
      "\u001b[32m[1029 16:36:52 @base.py:285]\u001b[0m Epoch 59 (global_step 15487) finished, time:4.45 seconds.\n",
      "\u001b[32m[1029 16:36:52 @saver.py:79]\u001b[0m Model saved to ../output/Chicago/NOLINKS/model\\model-15487.\n",
      "\u001b[32m[1029 16:36:52 @monitor.py:467]\u001b[0m GAN_loss/d_loss: -0.15299\n",
      "\u001b[32m[1029 16:36:52 @monitor.py:467]\u001b[0m GAN_loss/g_loss: -0.064084\n",
      "\u001b[32m[1029 16:36:52 @monitor.py:467]\u001b[0m GAN_loss/kl_div: 0.081183\n",
      "\u001b[32m[1029 16:36:52 @monitor.py:467]\u001b[0m QueueInput/queue_size: 50\n",
      "\u001b[32m[1029 16:36:52 @base.py:275]\u001b[0m Start Epoch 60 ...\n"
     ]
    },
    {
     "name": "stderr",
     "output_type": "stream",
     "text": [
      "\n",
      "100%|###################################################################################|175/175[00:04<00:00,39.80it/s]"
     ]
    },
    {
     "name": "stdout",
     "output_type": "stream",
     "text": [
      "\u001b[32m[1029 16:36:57 @base.py:285]\u001b[0m Epoch 60 (global_step 15749) finished, time:4.4 seconds.\n",
      "\u001b[32m[1029 16:36:57 @saver.py:79]\u001b[0m Model saved to ../output/Chicago/NOLINKS/model\\model-15749.\n",
      "\u001b[32m[1029 16:36:57 @monitor.py:467]\u001b[0m GAN_loss/d_loss: -0.15285\n",
      "\u001b[32m[1029 16:36:57 @monitor.py:467]\u001b[0m GAN_loss/g_loss: -0.064645\n",
      "\u001b[32m[1029 16:36:57 @monitor.py:467]\u001b[0m GAN_loss/kl_div: 0.083489\n",
      "\u001b[32m[1029 16:36:57 @monitor.py:467]\u001b[0m QueueInput/queue_size: 50\n",
      "\u001b[32m[1029 16:36:57 @base.py:275]\u001b[0m Start Epoch 61 ...\n"
     ]
    },
    {
     "name": "stderr",
     "output_type": "stream",
     "text": [
      "\n",
      "100%|###################################################################################|175/175[00:04<00:00,37.56it/s]"
     ]
    },
    {
     "name": "stdout",
     "output_type": "stream",
     "text": [
      "\u001b[32m[1029 16:37:02 @base.py:285]\u001b[0m Epoch 61 (global_step 16012) finished, time:4.66 seconds.\n",
      "\u001b[32m[1029 16:37:02 @saver.py:79]\u001b[0m Model saved to ../output/Chicago/NOLINKS/model\\model-16012.\n",
      "\u001b[32m[1029 16:37:02 @monitor.py:467]\u001b[0m GAN_loss/d_loss: -0.15112\n",
      "\u001b[32m[1029 16:37:02 @monitor.py:467]\u001b[0m GAN_loss/g_loss: -0.0666\n",
      "\u001b[32m[1029 16:37:02 @monitor.py:467]\u001b[0m GAN_loss/kl_div: 0.086457\n",
      "\u001b[32m[1029 16:37:02 @monitor.py:467]\u001b[0m QueueInput/queue_size: 50\n",
      "\u001b[32m[1029 16:37:02 @base.py:275]\u001b[0m Start Epoch 62 ...\n"
     ]
    },
    {
     "name": "stderr",
     "output_type": "stream",
     "text": [
      "\n",
      "100%|###################################################################################|175/175[00:04<00:00,41.77it/s]"
     ]
    },
    {
     "name": "stdout",
     "output_type": "stream",
     "text": [
      "\u001b[32m[1029 16:37:06 @base.py:285]\u001b[0m Epoch 62 (global_step 16274) finished, time:4.19 seconds.\n",
      "\u001b[32m[1029 16:37:06 @saver.py:79]\u001b[0m Model saved to ../output/Chicago/NOLINKS/model\\model-16274.\n",
      "\u001b[32m[1029 16:37:06 @monitor.py:467]\u001b[0m GAN_loss/d_loss: -0.15064\n",
      "\u001b[32m[1029 16:37:06 @monitor.py:467]\u001b[0m GAN_loss/g_loss: -0.066475\n",
      "\u001b[32m[1029 16:37:06 @monitor.py:467]\u001b[0m GAN_loss/kl_div: 0.087407\n",
      "\u001b[32m[1029 16:37:06 @monitor.py:467]\u001b[0m QueueInput/queue_size: 50\n",
      "\u001b[32m[1029 16:37:06 @base.py:275]\u001b[0m Start Epoch 63 ...\n"
     ]
    },
    {
     "name": "stderr",
     "output_type": "stream",
     "text": [
      "\n",
      "100%|###################################################################################|175/175[00:04<00:00,42.45it/s]"
     ]
    },
    {
     "name": "stdout",
     "output_type": "stream",
     "text": [
      "\u001b[32m[1029 16:37:10 @base.py:285]\u001b[0m Epoch 63 (global_step 16537) finished, time:4.12 seconds.\n",
      "\u001b[32m[1029 16:37:10 @saver.py:79]\u001b[0m Model saved to ../output/Chicago/NOLINKS/model\\model-16537.\n",
      "\u001b[32m[1029 16:37:10 @monitor.py:467]\u001b[0m GAN_loss/d_loss: -0.14936\n",
      "\u001b[32m[1029 16:37:10 @monitor.py:467]\u001b[0m GAN_loss/g_loss: -0.066945\n",
      "\u001b[32m[1029 16:37:10 @monitor.py:467]\u001b[0m GAN_loss/kl_div: 0.086421\n",
      "\u001b[32m[1029 16:37:10 @monitor.py:467]\u001b[0m QueueInput/queue_size: 50\n",
      "\u001b[32m[1029 16:37:10 @base.py:275]\u001b[0m Start Epoch 64 ...\n"
     ]
    },
    {
     "name": "stderr",
     "output_type": "stream",
     "text": [
      "\n",
      "100%|###################################################################################|175/175[00:04<00:00,42.39it/s]"
     ]
    },
    {
     "name": "stdout",
     "output_type": "stream",
     "text": [
      "\u001b[32m[1029 16:37:14 @base.py:285]\u001b[0m Epoch 64 (global_step 16799) finished, time:4.13 seconds.\n",
      "\u001b[32m[1029 16:37:14 @saver.py:79]\u001b[0m Model saved to ../output/Chicago/NOLINKS/model\\model-16799.\n",
      "\u001b[32m[1029 16:37:14 @monitor.py:467]\u001b[0m GAN_loss/d_loss: -0.14831\n",
      "\u001b[32m[1029 16:37:14 @monitor.py:467]\u001b[0m GAN_loss/g_loss: -0.06792\n",
      "\u001b[32m[1029 16:37:14 @monitor.py:467]\u001b[0m GAN_loss/kl_div: 0.089065\n",
      "\u001b[32m[1029 16:37:14 @monitor.py:467]\u001b[0m QueueInput/queue_size: 50\n",
      "\u001b[32m[1029 16:37:14 @base.py:275]\u001b[0m Start Epoch 65 ...\n"
     ]
    },
    {
     "name": "stderr",
     "output_type": "stream",
     "text": [
      "\n",
      "100%|###################################################################################|175/175[00:04<00:00,41.67it/s]"
     ]
    },
    {
     "name": "stdout",
     "output_type": "stream",
     "text": [
      "\u001b[32m[1029 16:37:18 @base.py:285]\u001b[0m Epoch 65 (global_step 17062) finished, time:4.2 seconds.\n",
      "\u001b[32m[1029 16:37:18 @saver.py:79]\u001b[0m Model saved to ../output/Chicago/NOLINKS/model\\model-17062.\n",
      "\u001b[32m[1029 16:37:18 @monitor.py:467]\u001b[0m GAN_loss/d_loss: -0.1489\n",
      "\u001b[32m[1029 16:37:18 @monitor.py:467]\u001b[0m GAN_loss/g_loss: -0.068885\n",
      "\u001b[32m[1029 16:37:18 @monitor.py:467]\u001b[0m GAN_loss/kl_div: 0.084372\n",
      "\u001b[32m[1029 16:37:18 @monitor.py:467]\u001b[0m QueueInput/queue_size: 50\n",
      "\u001b[32m[1029 16:37:18 @base.py:275]\u001b[0m Start Epoch 66 ...\n"
     ]
    },
    {
     "name": "stderr",
     "output_type": "stream",
     "text": [
      "\n",
      "100%|###################################################################################|175/175[00:04<00:00,42.95it/s]"
     ]
    },
    {
     "name": "stdout",
     "output_type": "stream",
     "text": [
      "\u001b[32m[1029 16:37:23 @base.py:285]\u001b[0m Epoch 66 (global_step 17324) finished, time:4.07 seconds.\n",
      "\u001b[32m[1029 16:37:23 @saver.py:79]\u001b[0m Model saved to ../output/Chicago/NOLINKS/model\\model-17324.\n",
      "\u001b[32m[1029 16:37:23 @monitor.py:467]\u001b[0m GAN_loss/d_loss: -0.14667\n",
      "\u001b[32m[1029 16:37:23 @monitor.py:467]\u001b[0m GAN_loss/g_loss: -0.069413\n",
      "\u001b[32m[1029 16:37:23 @monitor.py:467]\u001b[0m GAN_loss/kl_div: 0.082566\n",
      "\u001b[32m[1029 16:37:23 @monitor.py:467]\u001b[0m QueueInput/queue_size: 50\n",
      "\u001b[32m[1029 16:37:23 @base.py:275]\u001b[0m Start Epoch 67 ...\n"
     ]
    },
    {
     "name": "stderr",
     "output_type": "stream",
     "text": [
      "\n",
      "100%|###################################################################################|175/175[00:04<00:00,43.04it/s]"
     ]
    },
    {
     "name": "stdout",
     "output_type": "stream",
     "text": [
      "\u001b[32m[1029 16:37:27 @base.py:285]\u001b[0m Epoch 67 (global_step 17587) finished, time:4.07 seconds.\n",
      "\u001b[32m[1029 16:37:27 @saver.py:79]\u001b[0m Model saved to ../output/Chicago/NOLINKS/model\\model-17587.\n",
      "\u001b[32m[1029 16:37:27 @monitor.py:467]\u001b[0m GAN_loss/d_loss: -0.14603\n",
      "\u001b[32m[1029 16:37:27 @monitor.py:467]\u001b[0m GAN_loss/g_loss: -0.07069\n",
      "\u001b[32m[1029 16:37:27 @monitor.py:467]\u001b[0m GAN_loss/kl_div: 0.085543\n",
      "\u001b[32m[1029 16:37:27 @monitor.py:467]\u001b[0m QueueInput/queue_size: 50\n",
      "\u001b[32m[1029 16:37:27 @base.py:275]\u001b[0m Start Epoch 68 ...\n"
     ]
    },
    {
     "name": "stderr",
     "output_type": "stream",
     "text": [
      "\n",
      "100%|###################################################################################|175/175[00:04<00:00,42.86it/s]"
     ]
    },
    {
     "name": "stdout",
     "output_type": "stream",
     "text": [
      "\u001b[32m[1029 16:37:31 @base.py:285]\u001b[0m Epoch 68 (global_step 17849) finished, time:4.08 seconds.\n",
      "\u001b[32m[1029 16:37:31 @saver.py:79]\u001b[0m Model saved to ../output/Chicago/NOLINKS/model\\model-17849.\n",
      "\u001b[32m[1029 16:37:31 @monitor.py:467]\u001b[0m GAN_loss/d_loss: -0.1449\n",
      "\u001b[32m[1029 16:37:31 @monitor.py:467]\u001b[0m GAN_loss/g_loss: -0.070501\n",
      "\u001b[32m[1029 16:37:31 @monitor.py:467]\u001b[0m GAN_loss/kl_div: 0.081433\n",
      "\u001b[32m[1029 16:37:31 @monitor.py:467]\u001b[0m QueueInput/queue_size: 50\n",
      "\u001b[32m[1029 16:37:31 @base.py:275]\u001b[0m Start Epoch 69 ...\n"
     ]
    },
    {
     "name": "stderr",
     "output_type": "stream",
     "text": [
      "\n",
      "100%|###################################################################################|175/175[00:04<00:00,42.51it/s]"
     ]
    },
    {
     "name": "stdout",
     "output_type": "stream",
     "text": [
      "\u001b[32m[1029 16:37:35 @base.py:285]\u001b[0m Epoch 69 (global_step 18112) finished, time:4.12 seconds.\n",
      "\u001b[32m[1029 16:37:35 @saver.py:79]\u001b[0m Model saved to ../output/Chicago/NOLINKS/model\\model-18112.\n",
      "\u001b[32m[1029 16:37:35 @monitor.py:467]\u001b[0m GAN_loss/d_loss: -0.14393\n",
      "\u001b[32m[1029 16:37:35 @monitor.py:467]\u001b[0m GAN_loss/g_loss: -0.070899\n",
      "\u001b[32m[1029 16:37:35 @monitor.py:467]\u001b[0m GAN_loss/kl_div: 0.083774\n",
      "\u001b[32m[1029 16:37:35 @monitor.py:467]\u001b[0m QueueInput/queue_size: 50\n",
      "\u001b[32m[1029 16:37:35 @base.py:275]\u001b[0m Start Epoch 70 ...\n"
     ]
    },
    {
     "name": "stderr",
     "output_type": "stream",
     "text": [
      "\n",
      "100%|###################################################################################|175/175[00:04<00:00,42.68it/s]"
     ]
    },
    {
     "name": "stdout",
     "output_type": "stream",
     "text": [
      "\u001b[32m[1029 16:37:39 @base.py:285]\u001b[0m Epoch 70 (global_step 18374) finished, time:4.1 seconds.\n",
      "\u001b[32m[1029 16:37:39 @saver.py:79]\u001b[0m Model saved to ../output/Chicago/NOLINKS/model\\model-18374.\n",
      "\u001b[32m[1029 16:37:39 @monitor.py:467]\u001b[0m GAN_loss/d_loss: -0.14301\n",
      "\u001b[32m[1029 16:37:39 @monitor.py:467]\u001b[0m GAN_loss/g_loss: -0.071618\n",
      "\u001b[32m[1029 16:37:39 @monitor.py:467]\u001b[0m GAN_loss/kl_div: 0.091393\n",
      "\u001b[32m[1029 16:37:39 @monitor.py:467]\u001b[0m QueueInput/queue_size: 50\n",
      "\u001b[32m[1029 16:37:39 @base.py:275]\u001b[0m Start Epoch 71 ...\n"
     ]
    },
    {
     "name": "stderr",
     "output_type": "stream",
     "text": [
      "\n",
      "100%|###################################################################################|175/175[00:04<00:00,42.64it/s]"
     ]
    },
    {
     "name": "stdout",
     "output_type": "stream",
     "text": [
      "\u001b[32m[1029 16:37:43 @base.py:285]\u001b[0m Epoch 71 (global_step 18637) finished, time:4.1 seconds.\n",
      "\u001b[32m[1029 16:37:43 @saver.py:79]\u001b[0m Model saved to ../output/Chicago/NOLINKS/model\\model-18637.\n",
      "\u001b[32m[1029 16:37:43 @monitor.py:467]\u001b[0m GAN_loss/d_loss: -0.14293\n",
      "\u001b[32m[1029 16:37:43 @monitor.py:467]\u001b[0m GAN_loss/g_loss: -0.072377\n",
      "\u001b[32m[1029 16:37:43 @monitor.py:467]\u001b[0m GAN_loss/kl_div: 0.086419\n",
      "\u001b[32m[1029 16:37:43 @monitor.py:467]\u001b[0m QueueInput/queue_size: 50\n",
      "\u001b[32m[1029 16:37:43 @base.py:275]\u001b[0m Start Epoch 72 ...\n"
     ]
    },
    {
     "name": "stderr",
     "output_type": "stream",
     "text": [
      "\n",
      "100%|###################################################################################|175/175[00:04<00:00,42.56it/s]"
     ]
    },
    {
     "name": "stdout",
     "output_type": "stream",
     "text": [
      "\u001b[32m[1029 16:37:48 @base.py:285]\u001b[0m Epoch 72 (global_step 18899) finished, time:4.11 seconds.\n",
      "\u001b[32m[1029 16:37:48 @saver.py:79]\u001b[0m Model saved to ../output/Chicago/NOLINKS/model\\model-18899.\n",
      "\u001b[32m[1029 16:37:48 @monitor.py:467]\u001b[0m GAN_loss/d_loss: -0.14245\n",
      "\u001b[32m[1029 16:37:48 @monitor.py:467]\u001b[0m GAN_loss/g_loss: -0.071889\n",
      "\u001b[32m[1029 16:37:48 @monitor.py:467]\u001b[0m GAN_loss/kl_div: 0.086068\n",
      "\u001b[32m[1029 16:37:48 @monitor.py:467]\u001b[0m QueueInput/queue_size: 50\n",
      "\u001b[32m[1029 16:37:48 @base.py:275]\u001b[0m Start Epoch 73 ...\n"
     ]
    },
    {
     "name": "stderr",
     "output_type": "stream",
     "text": [
      "\n",
      "100%|###################################################################################|175/175[00:04<00:00,42.84it/s]"
     ]
    },
    {
     "name": "stdout",
     "output_type": "stream",
     "text": [
      "\u001b[32m[1029 16:37:52 @base.py:285]\u001b[0m Epoch 73 (global_step 19162) finished, time:4.09 seconds.\n",
      "\u001b[32m[1029 16:37:52 @saver.py:79]\u001b[0m Model saved to ../output/Chicago/NOLINKS/model\\model-19162.\n",
      "\u001b[32m[1029 16:37:52 @monitor.py:467]\u001b[0m GAN_loss/d_loss: -0.14172\n",
      "\u001b[32m[1029 16:37:52 @monitor.py:467]\u001b[0m GAN_loss/g_loss: -0.073012\n",
      "\u001b[32m[1029 16:37:52 @monitor.py:467]\u001b[0m GAN_loss/kl_div: 0.084491\n",
      "\u001b[32m[1029 16:37:52 @monitor.py:467]\u001b[0m QueueInput/queue_size: 50\n",
      "\u001b[32m[1029 16:37:52 @base.py:275]\u001b[0m Start Epoch 74 ...\n"
     ]
    },
    {
     "name": "stderr",
     "output_type": "stream",
     "text": [
      "\n",
      "100%|###################################################################################|175/175[00:04<00:00,42.80it/s]"
     ]
    },
    {
     "name": "stdout",
     "output_type": "stream",
     "text": [
      "\u001b[32m[1029 16:37:56 @base.py:285]\u001b[0m Epoch 74 (global_step 19424) finished, time:4.09 seconds.\n",
      "\u001b[32m[1029 16:37:56 @saver.py:79]\u001b[0m Model saved to ../output/Chicago/NOLINKS/model\\model-19424.\n",
      "\u001b[32m[1029 16:37:56 @monitor.py:467]\u001b[0m GAN_loss/d_loss: -0.14192\n",
      "\u001b[32m[1029 16:37:56 @monitor.py:467]\u001b[0m GAN_loss/g_loss: -0.072486\n",
      "\u001b[32m[1029 16:37:56 @monitor.py:467]\u001b[0m GAN_loss/kl_div: 0.086398\n",
      "\u001b[32m[1029 16:37:56 @monitor.py:467]\u001b[0m QueueInput/queue_size: 50\n",
      "\u001b[32m[1029 16:37:56 @base.py:275]\u001b[0m Start Epoch 75 ...\n"
     ]
    },
    {
     "name": "stderr",
     "output_type": "stream",
     "text": [
      "\n",
      "100%|###################################################################################|175/175[00:04<00:00,42.67it/s]"
     ]
    },
    {
     "name": "stdout",
     "output_type": "stream",
     "text": [
      "\u001b[32m[1029 16:38:00 @base.py:285]\u001b[0m Epoch 75 (global_step 19687) finished, time:4.1 seconds.\n",
      "\u001b[32m[1029 16:38:00 @saver.py:79]\u001b[0m Model saved to ../output/Chicago/NOLINKS/model\\model-19687.\n",
      "\u001b[32m[1029 16:38:00 @monitor.py:467]\u001b[0m GAN_loss/d_loss: -0.13978\n",
      "\u001b[32m[1029 16:38:00 @monitor.py:467]\u001b[0m GAN_loss/g_loss: -0.073228\n",
      "\u001b[32m[1029 16:38:00 @monitor.py:467]\u001b[0m GAN_loss/kl_div: 0.084833\n",
      "\u001b[32m[1029 16:38:00 @monitor.py:467]\u001b[0m QueueInput/queue_size: 50\n",
      "\u001b[32m[1029 16:38:00 @base.py:275]\u001b[0m Start Epoch 76 ...\n"
     ]
    },
    {
     "name": "stderr",
     "output_type": "stream",
     "text": [
      "\n",
      "100%|###################################################################################|175/175[00:04<00:00,42.95it/s]"
     ]
    },
    {
     "name": "stdout",
     "output_type": "stream",
     "text": [
      "\u001b[32m[1029 16:38:04 @base.py:285]\u001b[0m Epoch 76 (global_step 19949) finished, time:4.07 seconds.\n",
      "\u001b[32m[1029 16:38:04 @saver.py:79]\u001b[0m Model saved to ../output/Chicago/NOLINKS/model\\model-19949.\n",
      "\u001b[32m[1029 16:38:04 @monitor.py:467]\u001b[0m GAN_loss/d_loss: -0.13974\n",
      "\u001b[32m[1029 16:38:04 @monitor.py:467]\u001b[0m GAN_loss/g_loss: -0.073094\n",
      "\u001b[32m[1029 16:38:04 @monitor.py:467]\u001b[0m GAN_loss/kl_div: 0.089832\n",
      "\u001b[32m[1029 16:38:04 @monitor.py:467]\u001b[0m QueueInput/queue_size: 50\n",
      "\u001b[32m[1029 16:38:04 @base.py:275]\u001b[0m Start Epoch 77 ...\n"
     ]
    },
    {
     "name": "stderr",
     "output_type": "stream",
     "text": [
      "\n",
      "100%|###################################################################################|175/175[00:04<00:00,42.91it/s]"
     ]
    },
    {
     "name": "stdout",
     "output_type": "stream",
     "text": [
      "\u001b[32m[1029 16:38:08 @base.py:285]\u001b[0m Epoch 77 (global_step 20212) finished, time:4.08 seconds.\n",
      "\u001b[32m[1029 16:38:08 @saver.py:79]\u001b[0m Model saved to ../output/Chicago/NOLINKS/model\\model-20212.\n",
      "\u001b[32m[1029 16:38:08 @monitor.py:467]\u001b[0m GAN_loss/d_loss: -0.13941\n",
      "\u001b[32m[1029 16:38:08 @monitor.py:467]\u001b[0m GAN_loss/g_loss: -0.07373\n",
      "\u001b[32m[1029 16:38:08 @monitor.py:467]\u001b[0m GAN_loss/kl_div: 0.08812\n",
      "\u001b[32m[1029 16:38:08 @monitor.py:467]\u001b[0m QueueInput/queue_size: 50\n",
      "\u001b[32m[1029 16:38:08 @base.py:275]\u001b[0m Start Epoch 78 ...\n"
     ]
    },
    {
     "name": "stderr",
     "output_type": "stream",
     "text": [
      "\n",
      "100%|###################################################################################|175/175[00:04<00:00,42.68it/s]"
     ]
    },
    {
     "name": "stdout",
     "output_type": "stream",
     "text": [
      "\u001b[32m[1029 16:38:12 @base.py:285]\u001b[0m Epoch 78 (global_step 20474) finished, time:4.1 seconds.\n",
      "\u001b[32m[1029 16:38:13 @saver.py:79]\u001b[0m Model saved to ../output/Chicago/NOLINKS/model\\model-20474.\n",
      "\u001b[32m[1029 16:38:13 @monitor.py:467]\u001b[0m GAN_loss/d_loss: -0.13774\n",
      "\u001b[32m[1029 16:38:13 @monitor.py:467]\u001b[0m GAN_loss/g_loss: -0.074083\n",
      "\u001b[32m[1029 16:38:13 @monitor.py:467]\u001b[0m GAN_loss/kl_div: 0.085773\n",
      "\u001b[32m[1029 16:38:13 @monitor.py:467]\u001b[0m QueueInput/queue_size: 50\n",
      "\u001b[32m[1029 16:38:13 @base.py:275]\u001b[0m Start Epoch 79 ...\n"
     ]
    },
    {
     "name": "stderr",
     "output_type": "stream",
     "text": [
      "\n",
      "100%|###################################################################################|175/175[00:04<00:00,42.48it/s]"
     ]
    },
    {
     "name": "stdout",
     "output_type": "stream",
     "text": [
      "\u001b[32m[1029 16:38:17 @base.py:285]\u001b[0m Epoch 79 (global_step 20737) finished, time:4.12 seconds.\n",
      "\u001b[32m[1029 16:38:17 @saver.py:79]\u001b[0m Model saved to ../output/Chicago/NOLINKS/model\\model-20737.\n",
      "\u001b[32m[1029 16:38:17 @monitor.py:467]\u001b[0m GAN_loss/d_loss: -0.13716\n",
      "\u001b[32m[1029 16:38:17 @monitor.py:467]\u001b[0m GAN_loss/g_loss: -0.074859\n",
      "\u001b[32m[1029 16:38:17 @monitor.py:467]\u001b[0m GAN_loss/kl_div: 0.087723\n",
      "\u001b[32m[1029 16:38:17 @monitor.py:467]\u001b[0m QueueInput/queue_size: 50\n",
      "\u001b[32m[1029 16:38:17 @base.py:275]\u001b[0m Start Epoch 80 ...\n"
     ]
    },
    {
     "name": "stderr",
     "output_type": "stream",
     "text": [
      "\n",
      "100%|###################################################################################|175/175[00:04<00:00,42.76it/s]"
     ]
    },
    {
     "name": "stdout",
     "output_type": "stream",
     "text": [
      "\u001b[32m[1029 16:38:21 @base.py:285]\u001b[0m Epoch 80 (global_step 20999) finished, time:4.09 seconds.\n",
      "\u001b[32m[1029 16:38:21 @saver.py:79]\u001b[0m Model saved to ../output/Chicago/NOLINKS/model\\model-20999.\n",
      "\u001b[32m[1029 16:38:21 @monitor.py:467]\u001b[0m GAN_loss/d_loss: -0.13586\n",
      "\u001b[32m[1029 16:38:21 @monitor.py:467]\u001b[0m GAN_loss/g_loss: -0.074884\n",
      "\u001b[32m[1029 16:38:21 @monitor.py:467]\u001b[0m GAN_loss/kl_div: 0.091722\n",
      "\u001b[32m[1029 16:38:21 @monitor.py:467]\u001b[0m QueueInput/queue_size: 50\n",
      "\u001b[32m[1029 16:38:21 @base.py:275]\u001b[0m Start Epoch 81 ...\n"
     ]
    },
    {
     "name": "stderr",
     "output_type": "stream",
     "text": [
      "\n",
      "100%|###################################################################################|175/175[00:04<00:00,42.87it/s]"
     ]
    },
    {
     "name": "stdout",
     "output_type": "stream",
     "text": [
      "\u001b[32m[1029 16:38:25 @base.py:285]\u001b[0m Epoch 81 (global_step 21262) finished, time:4.08 seconds.\n",
      "\u001b[32m[1029 16:38:25 @saver.py:79]\u001b[0m Model saved to ../output/Chicago/NOLINKS/model\\model-21262.\n",
      "\u001b[32m[1029 16:38:25 @monitor.py:467]\u001b[0m GAN_loss/d_loss: -0.13491\n",
      "\u001b[32m[1029 16:38:25 @monitor.py:467]\u001b[0m GAN_loss/g_loss: -0.075057\n",
      "\u001b[32m[1029 16:38:25 @monitor.py:467]\u001b[0m GAN_loss/kl_div: 0.081431\n",
      "\u001b[32m[1029 16:38:25 @monitor.py:467]\u001b[0m QueueInput/queue_size: 50\n",
      "\u001b[32m[1029 16:38:25 @base.py:275]\u001b[0m Start Epoch 82 ...\n"
     ]
    },
    {
     "name": "stderr",
     "output_type": "stream",
     "text": [
      "\n",
      "100%|###################################################################################|175/175[00:04<00:00,43.08it/s]"
     ]
    },
    {
     "name": "stdout",
     "output_type": "stream",
     "text": [
      "\u001b[32m[1029 16:38:29 @base.py:285]\u001b[0m Epoch 82 (global_step 21524) finished, time:4.06 seconds.\n",
      "\u001b[32m[1029 16:38:29 @saver.py:79]\u001b[0m Model saved to ../output/Chicago/NOLINKS/model\\model-21524.\n",
      "\u001b[32m[1029 16:38:29 @monitor.py:467]\u001b[0m GAN_loss/d_loss: -0.13428\n",
      "\u001b[32m[1029 16:38:29 @monitor.py:467]\u001b[0m GAN_loss/g_loss: -0.075514\n",
      "\u001b[32m[1029 16:38:29 @monitor.py:467]\u001b[0m GAN_loss/kl_div: 0.089544\n",
      "\u001b[32m[1029 16:38:29 @monitor.py:467]\u001b[0m QueueInput/queue_size: 50\n",
      "\u001b[32m[1029 16:38:29 @base.py:275]\u001b[0m Start Epoch 83 ...\n"
     ]
    },
    {
     "name": "stderr",
     "output_type": "stream",
     "text": [
      "\n",
      "100%|###################################################################################|175/175[00:04<00:00,42.38it/s]"
     ]
    },
    {
     "name": "stdout",
     "output_type": "stream",
     "text": [
      "\u001b[32m[1029 16:38:33 @base.py:285]\u001b[0m Epoch 83 (global_step 21787) finished, time:4.13 seconds.\n",
      "\u001b[32m[1029 16:38:33 @saver.py:79]\u001b[0m Model saved to ../output/Chicago/NOLINKS/model\\model-21787.\n",
      "\u001b[32m[1029 16:38:33 @monitor.py:467]\u001b[0m GAN_loss/d_loss: -0.13391\n",
      "\u001b[32m[1029 16:38:33 @monitor.py:467]\u001b[0m GAN_loss/g_loss: -0.076757\n",
      "\u001b[32m[1029 16:38:33 @monitor.py:467]\u001b[0m GAN_loss/kl_div: 0.089847\n",
      "\u001b[32m[1029 16:38:33 @monitor.py:467]\u001b[0m QueueInput/queue_size: 50\n",
      "\u001b[32m[1029 16:38:33 @base.py:275]\u001b[0m Start Epoch 84 ...\n"
     ]
    },
    {
     "name": "stderr",
     "output_type": "stream",
     "text": [
      "\n",
      "100%|###################################################################################|175/175[00:04<00:00,42.44it/s]"
     ]
    },
    {
     "name": "stdout",
     "output_type": "stream",
     "text": [
      "\u001b[32m[1029 16:38:37 @base.py:285]\u001b[0m Epoch 84 (global_step 22049) finished, time:4.12 seconds.\n",
      "\u001b[32m[1029 16:38:38 @saver.py:79]\u001b[0m Model saved to ../output/Chicago/NOLINKS/model\\model-22049.\n",
      "\u001b[32m[1029 16:38:38 @monitor.py:467]\u001b[0m GAN_loss/d_loss: -0.13294\n",
      "\u001b[32m[1029 16:38:38 @monitor.py:467]\u001b[0m GAN_loss/g_loss: -0.076842\n",
      "\u001b[32m[1029 16:38:38 @monitor.py:467]\u001b[0m GAN_loss/kl_div: 0.092743\n",
      "\u001b[32m[1029 16:38:38 @monitor.py:467]\u001b[0m QueueInput/queue_size: 50\n",
      "\u001b[32m[1029 16:38:38 @base.py:275]\u001b[0m Start Epoch 85 ...\n"
     ]
    },
    {
     "name": "stderr",
     "output_type": "stream",
     "text": [
      "\n",
      "100%|###################################################################################|175/175[00:04<00:00,42.68it/s]"
     ]
    },
    {
     "name": "stdout",
     "output_type": "stream",
     "text": [
      "\u001b[32m[1029 16:38:42 @base.py:285]\u001b[0m Epoch 85 (global_step 22312) finished, time:4.1 seconds.\n",
      "\u001b[32m[1029 16:38:42 @saver.py:79]\u001b[0m Model saved to ../output/Chicago/NOLINKS/model\\model-22312.\n",
      "\u001b[32m[1029 16:38:42 @monitor.py:467]\u001b[0m GAN_loss/d_loss: -0.13192\n",
      "\u001b[32m[1029 16:38:42 @monitor.py:467]\u001b[0m GAN_loss/g_loss: -0.076704\n",
      "\u001b[32m[1029 16:38:42 @monitor.py:467]\u001b[0m GAN_loss/kl_div: 0.087088\n",
      "\u001b[32m[1029 16:38:42 @monitor.py:467]\u001b[0m QueueInput/queue_size: 50\n",
      "\u001b[32m[1029 16:38:42 @base.py:275]\u001b[0m Start Epoch 86 ...\n"
     ]
    },
    {
     "name": "stderr",
     "output_type": "stream",
     "text": [
      "\n",
      "100%|###################################################################################|175/175[00:04<00:00,42.95it/s]"
     ]
    },
    {
     "name": "stdout",
     "output_type": "stream",
     "text": [
      "\u001b[32m[1029 16:38:46 @base.py:285]\u001b[0m Epoch 86 (global_step 22574) finished, time:4.08 seconds.\n",
      "\u001b[32m[1029 16:38:46 @saver.py:79]\u001b[0m Model saved to ../output/Chicago/NOLINKS/model\\model-22574.\n",
      "\u001b[32m[1029 16:38:46 @monitor.py:467]\u001b[0m GAN_loss/d_loss: -0.13166\n",
      "\u001b[32m[1029 16:38:46 @monitor.py:467]\u001b[0m GAN_loss/g_loss: -0.077119\n",
      "\u001b[32m[1029 16:38:46 @monitor.py:467]\u001b[0m GAN_loss/kl_div: 0.086916\n",
      "\u001b[32m[1029 16:38:46 @monitor.py:467]\u001b[0m QueueInput/queue_size: 50\n",
      "\u001b[32m[1029 16:38:46 @base.py:275]\u001b[0m Start Epoch 87 ...\n"
     ]
    },
    {
     "name": "stderr",
     "output_type": "stream",
     "text": [
      "\n",
      "100%|###################################################################################|175/175[00:04<00:00,43.06it/s]"
     ]
    },
    {
     "name": "stdout",
     "output_type": "stream",
     "text": [
      "\u001b[32m[1029 16:38:50 @base.py:285]\u001b[0m Epoch 87 (global_step 22837) finished, time:4.06 seconds.\n",
      "\u001b[32m[1029 16:38:50 @saver.py:79]\u001b[0m Model saved to ../output/Chicago/NOLINKS/model\\model-22837.\n",
      "\u001b[32m[1029 16:38:50 @monitor.py:467]\u001b[0m GAN_loss/d_loss: -0.13106\n",
      "\u001b[32m[1029 16:38:50 @monitor.py:467]\u001b[0m GAN_loss/g_loss: -0.077449\n",
      "\u001b[32m[1029 16:38:50 @monitor.py:467]\u001b[0m GAN_loss/kl_div: 0.090261\n",
      "\u001b[32m[1029 16:38:50 @monitor.py:467]\u001b[0m QueueInput/queue_size: 50\n",
      "\u001b[32m[1029 16:38:50 @base.py:275]\u001b[0m Start Epoch 88 ...\n"
     ]
    },
    {
     "name": "stderr",
     "output_type": "stream",
     "text": [
      "\n",
      "100%|###################################################################################|175/175[00:04<00:00,43.17it/s]"
     ]
    },
    {
     "name": "stdout",
     "output_type": "stream",
     "text": [
      "\u001b[32m[1029 16:38:54 @base.py:285]\u001b[0m Epoch 88 (global_step 23099) finished, time:4.05 seconds.\n",
      "\u001b[32m[1029 16:38:54 @saver.py:79]\u001b[0m Model saved to ../output/Chicago/NOLINKS/model\\model-23099.\n",
      "\u001b[32m[1029 16:38:54 @monitor.py:467]\u001b[0m GAN_loss/d_loss: -0.13105\n",
      "\u001b[32m[1029 16:38:54 @monitor.py:467]\u001b[0m GAN_loss/g_loss: -0.078293\n",
      "\u001b[32m[1029 16:38:54 @monitor.py:467]\u001b[0m GAN_loss/kl_div: 0.091908\n",
      "\u001b[32m[1029 16:38:54 @monitor.py:467]\u001b[0m QueueInput/queue_size: 50\n",
      "\u001b[32m[1029 16:38:54 @base.py:275]\u001b[0m Start Epoch 89 ...\n"
     ]
    },
    {
     "name": "stderr",
     "output_type": "stream",
     "text": [
      "\n",
      "100%|###################################################################################|175/175[00:04<00:00,42.68it/s]"
     ]
    },
    {
     "name": "stdout",
     "output_type": "stream",
     "text": [
      "\u001b[32m[1029 16:38:58 @base.py:285]\u001b[0m Epoch 89 (global_step 23362) finished, time:4.1 seconds.\n",
      "\u001b[32m[1029 16:38:58 @saver.py:79]\u001b[0m Model saved to ../output/Chicago/NOLINKS/model\\model-23362.\n",
      "\u001b[32m[1029 16:38:58 @monitor.py:467]\u001b[0m GAN_loss/d_loss: -0.12952\n",
      "\u001b[32m[1029 16:38:58 @monitor.py:467]\u001b[0m GAN_loss/g_loss: -0.078011\n",
      "\u001b[32m[1029 16:38:58 @monitor.py:467]\u001b[0m GAN_loss/kl_div: 0.08955\n",
      "\u001b[32m[1029 16:38:58 @monitor.py:467]\u001b[0m QueueInput/queue_size: 50\n",
      "\u001b[32m[1029 16:38:58 @base.py:275]\u001b[0m Start Epoch 90 ...\n"
     ]
    },
    {
     "name": "stderr",
     "output_type": "stream",
     "text": [
      "\n",
      "100%|###################################################################################|175/175[00:04<00:00,42.92it/s]"
     ]
    },
    {
     "name": "stdout",
     "output_type": "stream",
     "text": [
      "\u001b[32m[1029 16:39:02 @base.py:285]\u001b[0m Epoch 90 (global_step 23624) finished, time:4.08 seconds.\n",
      "\u001b[32m[1029 16:39:02 @saver.py:79]\u001b[0m Model saved to ../output/Chicago/NOLINKS/model\\model-23624.\n",
      "\u001b[32m[1029 16:39:02 @monitor.py:467]\u001b[0m GAN_loss/d_loss: -0.12926\n",
      "\u001b[32m[1029 16:39:02 @monitor.py:467]\u001b[0m GAN_loss/g_loss: -0.078677\n",
      "\u001b[32m[1029 16:39:02 @monitor.py:467]\u001b[0m GAN_loss/kl_div: 0.095079\n",
      "\u001b[32m[1029 16:39:02 @monitor.py:467]\u001b[0m QueueInput/queue_size: 50\n",
      "\u001b[32m[1029 16:39:02 @base.py:275]\u001b[0m Start Epoch 91 ...\n"
     ]
    },
    {
     "name": "stderr",
     "output_type": "stream",
     "text": [
      "\n",
      "100%|###################################################################################|175/175[00:04<00:00,42.65it/s]"
     ]
    },
    {
     "name": "stdout",
     "output_type": "stream",
     "text": [
      "\u001b[32m[1029 16:39:07 @base.py:285]\u001b[0m Epoch 91 (global_step 23887) finished, time:4.1 seconds.\n",
      "\u001b[32m[1029 16:39:07 @saver.py:79]\u001b[0m Model saved to ../output/Chicago/NOLINKS/model\\model-23887.\n",
      "\u001b[32m[1029 16:39:07 @monitor.py:467]\u001b[0m GAN_loss/d_loss: -0.12796\n",
      "\u001b[32m[1029 16:39:07 @monitor.py:467]\u001b[0m GAN_loss/g_loss: -0.078409\n",
      "\u001b[32m[1029 16:39:07 @monitor.py:467]\u001b[0m GAN_loss/kl_div: 0.092621\n",
      "\u001b[32m[1029 16:39:07 @monitor.py:467]\u001b[0m QueueInput/queue_size: 50\n",
      "\u001b[32m[1029 16:39:07 @base.py:275]\u001b[0m Start Epoch 92 ...\n"
     ]
    },
    {
     "name": "stderr",
     "output_type": "stream",
     "text": [
      "\n",
      "100%|###################################################################################|175/175[00:04<00:00,41.60it/s]"
     ]
    },
    {
     "name": "stdout",
     "output_type": "stream",
     "text": [
      "\u001b[32m[1029 16:39:11 @base.py:285]\u001b[0m Epoch 92 (global_step 24149) finished, time:4.21 seconds.\n",
      "\u001b[32m[1029 16:39:11 @saver.py:79]\u001b[0m Model saved to ../output/Chicago/NOLINKS/model\\model-24149.\n"
     ]
    },
    {
     "name": "stderr",
     "output_type": "stream",
     "text": [
      "\n"
     ]
    },
    {
     "name": "stdout",
     "output_type": "stream",
     "text": [
      "\u001b[32m[1029 16:39:11 @monitor.py:467]\u001b[0m GAN_loss/d_loss: -0.12831\n",
      "\u001b[32m[1029 16:39:11 @monitor.py:467]\u001b[0m GAN_loss/g_loss: -0.079065\n",
      "\u001b[32m[1029 16:39:11 @monitor.py:467]\u001b[0m GAN_loss/kl_div: 0.092318\n",
      "\u001b[32m[1029 16:39:11 @monitor.py:467]\u001b[0m QueueInput/queue_size: 50\n",
      "\u001b[32m[1029 16:39:11 @base.py:275]\u001b[0m Start Epoch 93 ...\n"
     ]
    },
    {
     "name": "stderr",
     "output_type": "stream",
     "text": [
      "100%|###################################################################################|175/175[00:04<00:00,42.34it/s]"
     ]
    },
    {
     "name": "stdout",
     "output_type": "stream",
     "text": [
      "\u001b[32m[1029 16:39:15 @base.py:285]\u001b[0m Epoch 93 (global_step 24412) finished, time:4.13 seconds.\n",
      "\u001b[32m[1029 16:39:15 @saver.py:79]\u001b[0m Model saved to ../output/Chicago/NOLINKS/model\\model-24412.\n",
      "\u001b[32m[1029 16:39:15 @monitor.py:467]\u001b[0m GAN_loss/d_loss: -0.12677\n",
      "\u001b[32m[1029 16:39:15 @monitor.py:467]\u001b[0m GAN_loss/g_loss: -0.079708\n",
      "\u001b[32m[1029 16:39:15 @monitor.py:467]\u001b[0m GAN_loss/kl_div: 0.088145\n",
      "\u001b[32m[1029 16:39:15 @monitor.py:467]\u001b[0m QueueInput/queue_size: 50\n",
      "\u001b[32m[1029 16:39:15 @base.py:275]\u001b[0m Start Epoch 94 ...\n"
     ]
    },
    {
     "name": "stderr",
     "output_type": "stream",
     "text": [
      "\n",
      "100%|###################################################################################|175/175[00:04<00:00,40.30it/s]"
     ]
    },
    {
     "name": "stdout",
     "output_type": "stream",
     "text": [
      "\u001b[32m[1029 16:39:19 @base.py:285]\u001b[0m Epoch 94 (global_step 24674) finished, time:4.34 seconds.\n",
      "\u001b[32m[1029 16:39:19 @saver.py:79]\u001b[0m Model saved to ../output/Chicago/NOLINKS/model\\model-24674.\n",
      "\u001b[32m[1029 16:39:19 @monitor.py:467]\u001b[0m GAN_loss/d_loss: -0.12718\n",
      "\u001b[32m[1029 16:39:19 @monitor.py:467]\u001b[0m GAN_loss/g_loss: -0.079825\n",
      "\u001b[32m[1029 16:39:19 @monitor.py:467]\u001b[0m GAN_loss/kl_div: 0.089342\n",
      "\u001b[32m[1029 16:39:19 @monitor.py:467]\u001b[0m QueueInput/queue_size: 50\n",
      "\u001b[32m[1029 16:39:19 @base.py:275]\u001b[0m Start Epoch 95 ...\n"
     ]
    },
    {
     "name": "stderr",
     "output_type": "stream",
     "text": [
      "\n",
      "100%|###################################################################################|175/175[00:04<00:00,42.10it/s]"
     ]
    },
    {
     "name": "stdout",
     "output_type": "stream",
     "text": [
      "\u001b[32m[1029 16:39:24 @base.py:285]\u001b[0m Epoch 95 (global_step 24937) finished, time:4.16 seconds.\n",
      "\u001b[32m[1029 16:39:24 @saver.py:79]\u001b[0m Model saved to ../output/Chicago/NOLINKS/model\\model-24937.\n",
      "\u001b[32m[1029 16:39:24 @monitor.py:467]\u001b[0m GAN_loss/d_loss: -0.12648\n",
      "\u001b[32m[1029 16:39:24 @monitor.py:467]\u001b[0m GAN_loss/g_loss: -0.07996\n",
      "\u001b[32m[1029 16:39:24 @monitor.py:467]\u001b[0m GAN_loss/kl_div: 0.090203\n",
      "\u001b[32m[1029 16:39:24 @monitor.py:467]\u001b[0m QueueInput/queue_size: 50\n",
      "\u001b[32m[1029 16:39:24 @base.py:275]\u001b[0m Start Epoch 96 ...\n"
     ]
    },
    {
     "name": "stderr",
     "output_type": "stream",
     "text": [
      "\n",
      "100%|###################################################################################|175/175[00:04<00:00,42.24it/s]"
     ]
    },
    {
     "name": "stdout",
     "output_type": "stream",
     "text": [
      "\u001b[32m[1029 16:39:28 @base.py:285]\u001b[0m Epoch 96 (global_step 25199) finished, time:4.14 seconds.\n",
      "\u001b[32m[1029 16:39:28 @saver.py:79]\u001b[0m Model saved to ../output/Chicago/NOLINKS/model\\model-25199.\n",
      "\u001b[32m[1029 16:39:28 @monitor.py:467]\u001b[0m GAN_loss/d_loss: -0.12632\n",
      "\u001b[32m[1029 16:39:28 @monitor.py:467]\u001b[0m GAN_loss/g_loss: -0.080623\n",
      "\u001b[32m[1029 16:39:28 @monitor.py:467]\u001b[0m GAN_loss/kl_div: 0.088675\n",
      "\u001b[32m[1029 16:39:28 @monitor.py:467]\u001b[0m QueueInput/queue_size: 50\n",
      "\u001b[32m[1029 16:39:28 @base.py:275]\u001b[0m Start Epoch 97 ...\n"
     ]
    },
    {
     "name": "stderr",
     "output_type": "stream",
     "text": [
      "\n",
      "100%|###################################################################################|175/175[00:04<00:00,41.02it/s]"
     ]
    },
    {
     "name": "stdout",
     "output_type": "stream",
     "text": [
      "\u001b[32m[1029 16:39:32 @base.py:285]\u001b[0m Epoch 97 (global_step 25462) finished, time:4.27 seconds.\n"
     ]
    },
    {
     "name": "stderr",
     "output_type": "stream",
     "text": [
      "\n"
     ]
    },
    {
     "name": "stdout",
     "output_type": "stream",
     "text": [
      "\u001b[32m[1029 16:39:32 @saver.py:79]\u001b[0m Model saved to ../output/Chicago/NOLINKS/model\\model-25462.\n",
      "\u001b[32m[1029 16:39:32 @monitor.py:467]\u001b[0m GAN_loss/d_loss: -0.12454\n",
      "\u001b[32m[1029 16:39:32 @monitor.py:467]\u001b[0m GAN_loss/g_loss: -0.081845\n",
      "\u001b[32m[1029 16:39:32 @monitor.py:467]\u001b[0m GAN_loss/kl_div: 0.09251\n",
      "\u001b[32m[1029 16:39:32 @monitor.py:467]\u001b[0m QueueInput/queue_size: 50\n",
      "\u001b[32m[1029 16:39:32 @base.py:275]\u001b[0m Start Epoch 98 ...\n"
     ]
    },
    {
     "name": "stderr",
     "output_type": "stream",
     "text": [
      "100%|###################################################################################|175/175[00:04<00:00,42.75it/s]"
     ]
    },
    {
     "name": "stdout",
     "output_type": "stream",
     "text": [
      "\u001b[32m[1029 16:39:36 @base.py:285]\u001b[0m Epoch 98 (global_step 25724) finished, time:4.09 seconds.\n",
      "\u001b[32m[1029 16:39:36 @saver.py:79]\u001b[0m Model saved to ../output/Chicago/NOLINKS/model\\model-25724.\n",
      "\u001b[32m[1029 16:39:36 @monitor.py:467]\u001b[0m GAN_loss/d_loss: -0.12517\n",
      "\u001b[32m[1029 16:39:36 @monitor.py:467]\u001b[0m GAN_loss/g_loss: -0.080681\n",
      "\u001b[32m[1029 16:39:36 @monitor.py:467]\u001b[0m GAN_loss/kl_div: 0.08524\n",
      "\u001b[32m[1029 16:39:36 @monitor.py:467]\u001b[0m QueueInput/queue_size: 50\n",
      "\u001b[32m[1029 16:39:36 @base.py:275]\u001b[0m Start Epoch 99 ...\n"
     ]
    },
    {
     "name": "stderr",
     "output_type": "stream",
     "text": [
      "\n",
      "100%|###################################################################################|175/175[00:04<00:00,42.44it/s]"
     ]
    },
    {
     "name": "stdout",
     "output_type": "stream",
     "text": [
      "\u001b[32m[1029 16:39:41 @base.py:285]\u001b[0m Epoch 99 (global_step 25987) finished, time:4.12 seconds.\n",
      "\u001b[32m[1029 16:39:41 @saver.py:79]\u001b[0m Model saved to ../output/Chicago/NOLINKS/model\\model-25987.\n",
      "\u001b[32m[1029 16:39:41 @monitor.py:467]\u001b[0m GAN_loss/d_loss: -0.12404\n",
      "\u001b[32m[1029 16:39:41 @monitor.py:467]\u001b[0m GAN_loss/g_loss: -0.081995\n",
      "\u001b[32m[1029 16:39:41 @monitor.py:467]\u001b[0m GAN_loss/kl_div: 0.089356\n",
      "\u001b[32m[1029 16:39:41 @monitor.py:467]\u001b[0m QueueInput/queue_size: 50\n",
      "\u001b[32m[1029 16:39:41 @base.py:275]\u001b[0m Start Epoch 100 ...\n"
     ]
    },
    {
     "name": "stderr",
     "output_type": "stream",
     "text": [
      "\n",
      "100%|###################################################################################|175/175[00:04<00:00,42.17it/s]"
     ]
    },
    {
     "name": "stdout",
     "output_type": "stream",
     "text": [
      "\u001b[32m[1029 16:39:45 @base.py:285]\u001b[0m Epoch 100 (global_step 26249) finished, time:4.15 seconds.\n",
      "\u001b[32m[1029 16:39:45 @saver.py:79]\u001b[0m Model saved to ../output/Chicago/NOLINKS/model\\model-26249.\n",
      "\u001b[32m[1029 16:39:45 @monitor.py:467]\u001b[0m GAN_loss/d_loss: -0.12396\n",
      "\u001b[32m[1029 16:39:45 @monitor.py:467]\u001b[0m GAN_loss/g_loss: -0.082538\n",
      "\u001b[32m[1029 16:39:45 @monitor.py:467]\u001b[0m GAN_loss/kl_div: 0.089072\n",
      "\u001b[32m[1029 16:39:45 @monitor.py:467]\u001b[0m QueueInput/queue_size: 50\n",
      "\u001b[32m[1029 16:39:45 @base.py:275]\u001b[0m Start Epoch 101 ...\n"
     ]
    },
    {
     "name": "stderr",
     "output_type": "stream",
     "text": [
      "\n",
      "100%|###################################################################################|175/175[00:04<00:00,42.27it/s]"
     ]
    },
    {
     "name": "stdout",
     "output_type": "stream",
     "text": [
      "\u001b[32m[1029 16:39:49 @base.py:285]\u001b[0m Epoch 101 (global_step 26512) finished, time:4.14 seconds.\n",
      "\u001b[32m[1029 16:39:49 @saver.py:79]\u001b[0m Model saved to ../output/Chicago/NOLINKS/model\\model-26512.\n",
      "\u001b[32m[1029 16:39:49 @monitor.py:467]\u001b[0m GAN_loss/d_loss: -0.12367\n",
      "\u001b[32m[1029 16:39:49 @monitor.py:467]\u001b[0m GAN_loss/g_loss: -0.081229\n",
      "\u001b[32m[1029 16:39:49 @monitor.py:467]\u001b[0m GAN_loss/kl_div: 0.08884\n",
      "\u001b[32m[1029 16:39:49 @monitor.py:467]\u001b[0m QueueInput/queue_size: 50\n",
      "\u001b[32m[1029 16:39:49 @base.py:275]\u001b[0m Start Epoch 102 ...\n"
     ]
    },
    {
     "name": "stderr",
     "output_type": "stream",
     "text": [
      "\n",
      "100%|###################################################################################|175/175[00:04<00:00,42.06it/s]"
     ]
    },
    {
     "name": "stdout",
     "output_type": "stream",
     "text": [
      "\u001b[32m[1029 16:39:53 @base.py:285]\u001b[0m Epoch 102 (global_step 26774) finished, time:4.16 seconds.\n",
      "\u001b[32m[1029 16:39:53 @saver.py:79]\u001b[0m Model saved to ../output/Chicago/NOLINKS/model\\model-26774.\n",
      "\u001b[32m[1029 16:39:53 @monitor.py:467]\u001b[0m GAN_loss/d_loss: -0.12328\n",
      "\u001b[32m[1029 16:39:53 @monitor.py:467]\u001b[0m GAN_loss/g_loss: -0.081897\n",
      "\u001b[32m[1029 16:39:53 @monitor.py:467]\u001b[0m GAN_loss/kl_div: 0.086015\n",
      "\u001b[32m[1029 16:39:53 @monitor.py:467]\u001b[0m QueueInput/queue_size: 50\n",
      "\u001b[32m[1029 16:39:53 @base.py:275]\u001b[0m Start Epoch 103 ...\n"
     ]
    },
    {
     "name": "stderr",
     "output_type": "stream",
     "text": [
      "\n",
      "100%|###################################################################################|175/175[00:04<00:00,41.97it/s]"
     ]
    },
    {
     "name": "stdout",
     "output_type": "stream",
     "text": [
      "\u001b[32m[1029 16:39:57 @base.py:285]\u001b[0m Epoch 103 (global_step 27037) finished, time:4.17 seconds.\n",
      "\u001b[32m[1029 16:39:58 @saver.py:79]\u001b[0m Model saved to ../output/Chicago/NOLINKS/model\\model-27037.\n",
      "\u001b[32m[1029 16:39:58 @monitor.py:467]\u001b[0m GAN_loss/d_loss: -0.12251\n",
      "\u001b[32m[1029 16:39:58 @monitor.py:467]\u001b[0m GAN_loss/g_loss: -0.083102\n",
      "\u001b[32m[1029 16:39:58 @monitor.py:467]\u001b[0m GAN_loss/kl_div: 0.090126\n",
      "\u001b[32m[1029 16:39:58 @monitor.py:467]\u001b[0m QueueInput/queue_size: 50\n",
      "\u001b[32m[1029 16:39:58 @base.py:275]\u001b[0m Start Epoch 104 ...\n"
     ]
    },
    {
     "name": "stderr",
     "output_type": "stream",
     "text": [
      "\n",
      "100%|###################################################################################|175/175[00:04<00:00,41.71it/s]"
     ]
    },
    {
     "name": "stdout",
     "output_type": "stream",
     "text": [
      "\u001b[32m[1029 16:40:02 @base.py:285]\u001b[0m Epoch 104 (global_step 27299) finished, time:4.2 seconds.\n",
      "\u001b[32m[1029 16:40:02 @saver.py:79]\u001b[0m Model saved to ../output/Chicago/NOLINKS/model\\model-27299.\n",
      "\u001b[32m[1029 16:40:02 @monitor.py:467]\u001b[0m GAN_loss/d_loss: -0.12261\n",
      "\u001b[32m[1029 16:40:02 @monitor.py:467]\u001b[0m GAN_loss/g_loss: -0.083025\n",
      "\u001b[32m[1029 16:40:02 @monitor.py:467]\u001b[0m GAN_loss/kl_div: 0.093585\n",
      "\u001b[32m[1029 16:40:02 @monitor.py:467]\u001b[0m QueueInput/queue_size: 50\n",
      "\u001b[32m[1029 16:40:02 @base.py:275]\u001b[0m Start Epoch 105 ...\n"
     ]
    },
    {
     "name": "stderr",
     "output_type": "stream",
     "text": [
      "\n",
      "100%|###################################################################################|175/175[00:04<00:00,42.35it/s]"
     ]
    },
    {
     "name": "stdout",
     "output_type": "stream",
     "text": [
      "\u001b[32m[1029 16:40:06 @base.py:285]\u001b[0m Epoch 105 (global_step 27562) finished, time:4.13 seconds.\n",
      "\u001b[32m[1029 16:40:06 @saver.py:79]\u001b[0m Model saved to ../output/Chicago/NOLINKS/model\\model-27562.\n",
      "\u001b[32m[1029 16:40:06 @monitor.py:467]\u001b[0m GAN_loss/d_loss: -0.12153\n",
      "\u001b[32m[1029 16:40:06 @monitor.py:467]\u001b[0m GAN_loss/g_loss: -0.083402\n",
      "\u001b[32m[1029 16:40:06 @monitor.py:467]\u001b[0m GAN_loss/kl_div: 0.093715\n",
      "\u001b[32m[1029 16:40:06 @monitor.py:467]\u001b[0m QueueInput/queue_size: 50\n",
      "\u001b[32m[1029 16:40:06 @base.py:275]\u001b[0m Start Epoch 106 ...\n"
     ]
    },
    {
     "name": "stderr",
     "output_type": "stream",
     "text": [
      "\n",
      "100%|###################################################################################|175/175[00:04<00:00,43.01it/s]"
     ]
    },
    {
     "name": "stdout",
     "output_type": "stream",
     "text": [
      "\u001b[32m[1029 16:40:10 @base.py:285]\u001b[0m Epoch 106 (global_step 27824) finished, time:4.07 seconds.\n",
      "\u001b[32m[1029 16:40:10 @saver.py:79]\u001b[0m Model saved to ../output/Chicago/NOLINKS/model\\model-27824.\n",
      "\u001b[32m[1029 16:40:10 @monitor.py:467]\u001b[0m GAN_loss/d_loss: -0.12194\n",
      "\u001b[32m[1029 16:40:10 @monitor.py:467]\u001b[0m GAN_loss/g_loss: -0.084065\n",
      "\u001b[32m[1029 16:40:10 @monitor.py:467]\u001b[0m GAN_loss/kl_div: 0.096187\n",
      "\u001b[32m[1029 16:40:10 @monitor.py:467]\u001b[0m QueueInput/queue_size: 50\n",
      "\u001b[32m[1029 16:40:10 @base.py:275]\u001b[0m Start Epoch 107 ...\n"
     ]
    },
    {
     "name": "stderr",
     "output_type": "stream",
     "text": [
      "\n",
      "100%|###################################################################################|175/175[00:04<00:00,42.84it/s]"
     ]
    },
    {
     "name": "stdout",
     "output_type": "stream",
     "text": [
      "\u001b[32m[1029 16:40:14 @base.py:285]\u001b[0m Epoch 107 (global_step 28087) finished, time:4.09 seconds.\n",
      "\u001b[32m[1029 16:40:14 @saver.py:79]\u001b[0m Model saved to ../output/Chicago/NOLINKS/model\\model-28087.\n",
      "\u001b[32m[1029 16:40:14 @monitor.py:467]\u001b[0m GAN_loss/d_loss: -0.12075\n",
      "\u001b[32m[1029 16:40:14 @monitor.py:467]\u001b[0m GAN_loss/g_loss: -0.084812\n",
      "\u001b[32m[1029 16:40:14 @monitor.py:467]\u001b[0m GAN_loss/kl_div: 0.093651\n",
      "\u001b[32m[1029 16:40:14 @monitor.py:467]\u001b[0m QueueInput/queue_size: 50\n",
      "\u001b[32m[1029 16:40:14 @base.py:275]\u001b[0m Start Epoch 108 ...\n"
     ]
    },
    {
     "name": "stderr",
     "output_type": "stream",
     "text": [
      "\n",
      "100%|###################################################################################|175/175[00:04<00:00,42.47it/s]"
     ]
    },
    {
     "name": "stdout",
     "output_type": "stream",
     "text": [
      "\u001b[32m[1029 16:40:18 @base.py:285]\u001b[0m Epoch 108 (global_step 28349) finished, time:4.12 seconds.\n",
      "\u001b[32m[1029 16:40:18 @saver.py:79]\u001b[0m Model saved to ../output/Chicago/NOLINKS/model\\model-28349.\n",
      "\u001b[32m[1029 16:40:18 @monitor.py:467]\u001b[0m GAN_loss/d_loss: -0.11989\n",
      "\u001b[32m[1029 16:40:18 @monitor.py:467]\u001b[0m GAN_loss/g_loss: -0.085023\n",
      "\u001b[32m[1029 16:40:18 @monitor.py:467]\u001b[0m GAN_loss/kl_div: 0.092574\n",
      "\u001b[32m[1029 16:40:18 @monitor.py:467]\u001b[0m QueueInput/queue_size: 50\n",
      "\u001b[32m[1029 16:40:18 @base.py:275]\u001b[0m Start Epoch 109 ...\n"
     ]
    },
    {
     "name": "stderr",
     "output_type": "stream",
     "text": [
      "\n",
      "100%|###################################################################################|175/175[00:04<00:00,41.58it/s]"
     ]
    },
    {
     "name": "stdout",
     "output_type": "stream",
     "text": [
      "\u001b[32m[1029 16:40:23 @base.py:285]\u001b[0m Epoch 109 (global_step 28612) finished, time:4.21 seconds.\n",
      "\u001b[32m[1029 16:40:23 @saver.py:79]\u001b[0m Model saved to ../output/Chicago/NOLINKS/model\\model-28612.\n",
      "\u001b[32m[1029 16:40:23 @monitor.py:467]\u001b[0m GAN_loss/d_loss: -0.11896\n",
      "\u001b[32m[1029 16:40:23 @monitor.py:467]\u001b[0m GAN_loss/g_loss: -0.086141\n",
      "\u001b[32m[1029 16:40:23 @monitor.py:467]\u001b[0m GAN_loss/kl_div: 0.093185\n",
      "\u001b[32m[1029 16:40:23 @monitor.py:467]\u001b[0m QueueInput/queue_size: 50\n",
      "\u001b[32m[1029 16:40:23 @base.py:275]\u001b[0m Start Epoch 110 ...\n"
     ]
    },
    {
     "name": "stderr",
     "output_type": "stream",
     "text": [
      "\n",
      "100%|###################################################################################|175/175[00:04<00:00,41.39it/s]"
     ]
    },
    {
     "name": "stdout",
     "output_type": "stream",
     "text": [
      "\u001b[32m[1029 16:40:27 @base.py:285]\u001b[0m Epoch 110 (global_step 28874) finished, time:4.23 seconds.\n",
      "\u001b[32m[1029 16:40:27 @saver.py:79]\u001b[0m Model saved to ../output/Chicago/NOLINKS/model\\model-28874.\n",
      "\u001b[32m[1029 16:40:27 @monitor.py:467]\u001b[0m GAN_loss/d_loss: -0.11966\n",
      "\u001b[32m[1029 16:40:27 @monitor.py:467]\u001b[0m GAN_loss/g_loss: -0.087155\n",
      "\u001b[32m[1029 16:40:27 @monitor.py:467]\u001b[0m GAN_loss/kl_div: 0.098235\n",
      "\u001b[32m[1029 16:40:27 @monitor.py:467]\u001b[0m QueueInput/queue_size: 50\n",
      "\u001b[32m[1029 16:40:27 @base.py:275]\u001b[0m Start Epoch 111 ...\n"
     ]
    },
    {
     "name": "stderr",
     "output_type": "stream",
     "text": [
      "\n",
      "100%|###################################################################################|175/175[00:04<00:00,42.27it/s]"
     ]
    },
    {
     "name": "stdout",
     "output_type": "stream",
     "text": [
      "\u001b[32m[1029 16:40:31 @base.py:285]\u001b[0m Epoch 111 (global_step 29137) finished, time:4.14 seconds.\n",
      "\u001b[32m[1029 16:40:31 @saver.py:79]\u001b[0m Model saved to ../output/Chicago/NOLINKS/model\\model-29137.\n",
      "\u001b[32m[1029 16:40:31 @monitor.py:467]\u001b[0m GAN_loss/d_loss: -0.11866\n",
      "\u001b[32m[1029 16:40:31 @monitor.py:467]\u001b[0m GAN_loss/g_loss: -0.086767\n",
      "\u001b[32m[1029 16:40:31 @monitor.py:467]\u001b[0m GAN_loss/kl_div: 0.093931\n",
      "\u001b[32m[1029 16:40:31 @monitor.py:467]\u001b[0m QueueInput/queue_size: 50\n",
      "\u001b[32m[1029 16:40:31 @base.py:275]\u001b[0m Start Epoch 112 ...\n"
     ]
    },
    {
     "name": "stderr",
     "output_type": "stream",
     "text": [
      "\n",
      "100%|###################################################################################|175/175[00:04<00:00,43.03it/s]"
     ]
    },
    {
     "name": "stdout",
     "output_type": "stream",
     "text": [
      "\u001b[32m[1029 16:40:35 @base.py:285]\u001b[0m Epoch 112 (global_step 29399) finished, time:4.07 seconds.\n",
      "\u001b[32m[1029 16:40:35 @saver.py:79]\u001b[0m Model saved to ../output/Chicago/NOLINKS/model\\model-29399.\n",
      "\u001b[32m[1029 16:40:35 @monitor.py:467]\u001b[0m GAN_loss/d_loss: -0.11918\n",
      "\u001b[32m[1029 16:40:35 @monitor.py:467]\u001b[0m GAN_loss/g_loss: -0.08735\n",
      "\u001b[32m[1029 16:40:35 @monitor.py:467]\u001b[0m GAN_loss/kl_div: 0.092247\n",
      "\u001b[32m[1029 16:40:35 @monitor.py:467]\u001b[0m QueueInput/queue_size: 50\n",
      "\u001b[32m[1029 16:40:35 @base.py:275]\u001b[0m Start Epoch 113 ...\n"
     ]
    },
    {
     "name": "stderr",
     "output_type": "stream",
     "text": [
      "\n",
      "100%|###################################################################################|175/175[00:04<00:00,43.08it/s]"
     ]
    },
    {
     "name": "stdout",
     "output_type": "stream",
     "text": [
      "\u001b[32m[1029 16:40:40 @base.py:285]\u001b[0m Epoch 113 (global_step 29662) finished, time:4.06 seconds.\n",
      "\u001b[32m[1029 16:40:40 @saver.py:79]\u001b[0m Model saved to ../output/Chicago/NOLINKS/model\\model-29662.\n",
      "\u001b[32m[1029 16:40:40 @monitor.py:467]\u001b[0m GAN_loss/d_loss: -0.11824\n",
      "\u001b[32m[1029 16:40:40 @monitor.py:467]\u001b[0m GAN_loss/g_loss: -0.088187\n",
      "\u001b[32m[1029 16:40:40 @monitor.py:467]\u001b[0m GAN_loss/kl_div: 0.091889\n",
      "\u001b[32m[1029 16:40:40 @monitor.py:467]\u001b[0m QueueInput/queue_size: 50\n",
      "\u001b[32m[1029 16:40:40 @base.py:275]\u001b[0m Start Epoch 114 ...\n"
     ]
    },
    {
     "name": "stderr",
     "output_type": "stream",
     "text": [
      "\n",
      "100%|###################################################################################|175/175[00:04<00:00,42.78it/s]"
     ]
    },
    {
     "name": "stdout",
     "output_type": "stream",
     "text": [
      "\u001b[32m[1029 16:40:44 @base.py:285]\u001b[0m Epoch 114 (global_step 29924) finished, time:4.09 seconds.\n",
      "\u001b[32m[1029 16:40:44 @saver.py:79]\u001b[0m Model saved to ../output/Chicago/NOLINKS/model\\model-29924.\n",
      "\u001b[32m[1029 16:40:44 @monitor.py:467]\u001b[0m GAN_loss/d_loss: -0.11856\n",
      "\u001b[32m[1029 16:40:44 @monitor.py:467]\u001b[0m GAN_loss/g_loss: -0.088821\n",
      "\u001b[32m[1029 16:40:44 @monitor.py:467]\u001b[0m GAN_loss/kl_div: 0.095301\n",
      "\u001b[32m[1029 16:40:44 @monitor.py:467]\u001b[0m QueueInput/queue_size: 50\n",
      "\u001b[32m[1029 16:40:44 @base.py:275]\u001b[0m Start Epoch 115 ...\n"
     ]
    },
    {
     "name": "stderr",
     "output_type": "stream",
     "text": [
      "\n",
      "100%|###################################################################################|175/175[00:04<00:00,43.04it/s]"
     ]
    },
    {
     "name": "stdout",
     "output_type": "stream",
     "text": [
      "\u001b[32m[1029 16:40:48 @base.py:285]\u001b[0m Epoch 115 (global_step 30187) finished, time:4.07 seconds.\n",
      "\u001b[32m[1029 16:40:48 @saver.py:79]\u001b[0m Model saved to ../output/Chicago/NOLINKS/model\\model-30187.\n",
      "\u001b[32m[1029 16:40:48 @monitor.py:467]\u001b[0m GAN_loss/d_loss: -0.11652\n",
      "\u001b[32m[1029 16:40:48 @monitor.py:467]\u001b[0m GAN_loss/g_loss: -0.089998\n",
      "\u001b[32m[1029 16:40:48 @monitor.py:467]\u001b[0m GAN_loss/kl_div: 0.095725\n",
      "\u001b[32m[1029 16:40:48 @monitor.py:467]\u001b[0m QueueInput/queue_size: 50\n",
      "\u001b[32m[1029 16:40:48 @base.py:275]\u001b[0m Start Epoch 116 ...\n"
     ]
    },
    {
     "name": "stderr",
     "output_type": "stream",
     "text": [
      "\n",
      "100%|###################################################################################|175/175[00:04<00:00,42.76it/s]"
     ]
    },
    {
     "name": "stdout",
     "output_type": "stream",
     "text": [
      "\u001b[32m[1029 16:40:52 @base.py:285]\u001b[0m Epoch 116 (global_step 30449) finished, time:4.09 seconds.\n",
      "\u001b[32m[1029 16:40:52 @saver.py:79]\u001b[0m Model saved to ../output/Chicago/NOLINKS/model\\model-30449.\n",
      "\u001b[32m[1029 16:40:52 @monitor.py:467]\u001b[0m GAN_loss/d_loss: -0.11694\n",
      "\u001b[32m[1029 16:40:52 @monitor.py:467]\u001b[0m GAN_loss/g_loss: -0.090449\n",
      "\u001b[32m[1029 16:40:52 @monitor.py:467]\u001b[0m GAN_loss/kl_div: 0.097481\n",
      "\u001b[32m[1029 16:40:52 @monitor.py:467]\u001b[0m QueueInput/queue_size: 50\n",
      "\u001b[32m[1029 16:40:52 @base.py:275]\u001b[0m Start Epoch 117 ...\n"
     ]
    },
    {
     "name": "stderr",
     "output_type": "stream",
     "text": [
      "\n",
      "100%|###################################################################################|175/175[00:04<00:00,42.35it/s]"
     ]
    },
    {
     "name": "stdout",
     "output_type": "stream",
     "text": [
      "\u001b[32m[1029 16:40:56 @base.py:285]\u001b[0m Epoch 117 (global_step 30712) finished, time:4.13 seconds.\n",
      "\u001b[32m[1029 16:40:56 @saver.py:79]\u001b[0m Model saved to ../output/Chicago/NOLINKS/model\\model-30712.\n",
      "\u001b[32m[1029 16:40:56 @monitor.py:467]\u001b[0m GAN_loss/d_loss: -0.11609\n",
      "\u001b[32m[1029 16:40:56 @monitor.py:467]\u001b[0m GAN_loss/g_loss: -0.09085\n",
      "\u001b[32m[1029 16:40:56 @monitor.py:467]\u001b[0m GAN_loss/kl_div: 0.094216\n",
      "\u001b[32m[1029 16:40:56 @monitor.py:467]\u001b[0m QueueInput/queue_size: 50\n",
      "\u001b[32m[1029 16:40:56 @base.py:275]\u001b[0m Start Epoch 118 ...\n"
     ]
    },
    {
     "name": "stderr",
     "output_type": "stream",
     "text": [
      "\n",
      "100%|###################################################################################|175/175[00:04<00:00,42.79it/s]"
     ]
    },
    {
     "name": "stdout",
     "output_type": "stream",
     "text": [
      "\u001b[32m[1029 16:41:00 @base.py:285]\u001b[0m Epoch 118 (global_step 30974) finished, time:4.09 seconds.\n",
      "\u001b[32m[1029 16:41:00 @saver.py:79]\u001b[0m Model saved to ../output/Chicago/NOLINKS/model\\model-30974.\n",
      "\u001b[32m[1029 16:41:00 @monitor.py:467]\u001b[0m GAN_loss/d_loss: -0.11509\n",
      "\u001b[32m[1029 16:41:00 @monitor.py:467]\u001b[0m GAN_loss/g_loss: -0.091062\n",
      "\u001b[32m[1029 16:41:00 @monitor.py:467]\u001b[0m GAN_loss/kl_div: 0.094392\n",
      "\u001b[32m[1029 16:41:00 @monitor.py:467]\u001b[0m QueueInput/queue_size: 50\n",
      "\u001b[32m[1029 16:41:00 @base.py:275]\u001b[0m Start Epoch 119 ...\n"
     ]
    },
    {
     "name": "stderr",
     "output_type": "stream",
     "text": [
      "\n",
      "100%|###################################################################################|175/175[00:04<00:00,42.66it/s]"
     ]
    },
    {
     "name": "stdout",
     "output_type": "stream",
     "text": [
      "\u001b[32m[1029 16:41:05 @base.py:285]\u001b[0m Epoch 119 (global_step 31237) finished, time:4.1 seconds.\n",
      "\u001b[32m[1029 16:41:05 @saver.py:79]\u001b[0m Model saved to ../output/Chicago/NOLINKS/model\\model-31237.\n",
      "\u001b[32m[1029 16:41:05 @monitor.py:467]\u001b[0m GAN_loss/d_loss: -0.11441\n",
      "\u001b[32m[1029 16:41:05 @monitor.py:467]\u001b[0m GAN_loss/g_loss: -0.09126\n",
      "\u001b[32m[1029 16:41:05 @monitor.py:467]\u001b[0m GAN_loss/kl_div: 0.09326\n",
      "\u001b[32m[1029 16:41:05 @monitor.py:467]\u001b[0m QueueInput/queue_size: 50\n",
      "\u001b[32m[1029 16:41:05 @base.py:275]\u001b[0m Start Epoch 120 ...\n"
     ]
    },
    {
     "name": "stderr",
     "output_type": "stream",
     "text": [
      "\n",
      "100%|###################################################################################|175/175[00:04<00:00,42.43it/s]"
     ]
    },
    {
     "name": "stdout",
     "output_type": "stream",
     "text": [
      "\u001b[32m[1029 16:41:09 @base.py:285]\u001b[0m Epoch 120 (global_step 31499) finished, time:4.12 seconds.\n",
      "\u001b[32m[1029 16:41:09 @saver.py:79]\u001b[0m Model saved to ../output/Chicago/NOLINKS/model\\model-31499.\n",
      "\u001b[32m[1029 16:41:09 @monitor.py:467]\u001b[0m GAN_loss/d_loss: -0.11517\n",
      "\u001b[32m[1029 16:41:09 @monitor.py:467]\u001b[0m GAN_loss/g_loss: -0.090721\n",
      "\u001b[32m[1029 16:41:09 @monitor.py:467]\u001b[0m GAN_loss/kl_div: 0.095912\n",
      "\u001b[32m[1029 16:41:09 @monitor.py:467]\u001b[0m QueueInput/queue_size: 50\n",
      "\u001b[32m[1029 16:41:09 @base.py:275]\u001b[0m Start Epoch 121 ...\n"
     ]
    },
    {
     "name": "stderr",
     "output_type": "stream",
     "text": [
      "\n",
      "100%|###################################################################################|175/175[00:04<00:00,41.94it/s]"
     ]
    },
    {
     "name": "stdout",
     "output_type": "stream",
     "text": [
      "\u001b[32m[1029 16:41:13 @base.py:285]\u001b[0m Epoch 121 (global_step 31762) finished, time:4.17 seconds.\n",
      "\u001b[32m[1029 16:41:13 @saver.py:79]\u001b[0m Model saved to ../output/Chicago/NOLINKS/model\\model-31762.\n",
      "\u001b[32m[1029 16:41:13 @monitor.py:467]\u001b[0m GAN_loss/d_loss: -0.11415\n",
      "\u001b[32m[1029 16:41:13 @monitor.py:467]\u001b[0m GAN_loss/g_loss: -0.091265\n",
      "\u001b[32m[1029 16:41:13 @monitor.py:467]\u001b[0m GAN_loss/kl_div: 0.095317\n",
      "\u001b[32m[1029 16:41:13 @monitor.py:467]\u001b[0m QueueInput/queue_size: 50\n",
      "\u001b[32m[1029 16:41:13 @base.py:275]\u001b[0m Start Epoch 122 ...\n"
     ]
    },
    {
     "name": "stderr",
     "output_type": "stream",
     "text": [
      "\n",
      "100%|###################################################################################|175/175[00:04<00:00,43.04it/s]"
     ]
    },
    {
     "name": "stdout",
     "output_type": "stream",
     "text": [
      "\u001b[32m[1029 16:41:17 @base.py:285]\u001b[0m Epoch 122 (global_step 32024) finished, time:4.07 seconds.\n",
      "\u001b[32m[1029 16:41:17 @saver.py:79]\u001b[0m Model saved to ../output/Chicago/NOLINKS/model\\model-32024.\n",
      "\u001b[32m[1029 16:41:17 @monitor.py:467]\u001b[0m GAN_loss/d_loss: -0.1138\n",
      "\u001b[32m[1029 16:41:17 @monitor.py:467]\u001b[0m GAN_loss/g_loss: -0.091845\n",
      "\u001b[32m[1029 16:41:17 @monitor.py:467]\u001b[0m GAN_loss/kl_div: 0.095221\n",
      "\u001b[32m[1029 16:41:17 @monitor.py:467]\u001b[0m QueueInput/queue_size: 50\n",
      "\u001b[32m[1029 16:41:17 @base.py:275]\u001b[0m Start Epoch 123 ...\n"
     ]
    },
    {
     "name": "stderr",
     "output_type": "stream",
     "text": [
      "\n",
      "100%|###################################################################################|175/175[00:04<00:00,40.89it/s]"
     ]
    },
    {
     "name": "stdout",
     "output_type": "stream",
     "text": [
      "\u001b[32m[1029 16:41:21 @base.py:285]\u001b[0m Epoch 123 (global_step 32287) finished, time:4.28 seconds.\n",
      "\u001b[32m[1029 16:41:22 @saver.py:79]\u001b[0m Model saved to ../output/Chicago/NOLINKS/model\\model-32287.\n",
      "\u001b[32m[1029 16:41:22 @monitor.py:467]\u001b[0m GAN_loss/d_loss: -0.11443\n",
      "\u001b[32m[1029 16:41:22 @monitor.py:467]\u001b[0m GAN_loss/g_loss: -0.092298\n",
      "\u001b[32m[1029 16:41:22 @monitor.py:467]\u001b[0m GAN_loss/kl_div: 0.092986\n",
      "\u001b[32m[1029 16:41:22 @monitor.py:467]\u001b[0m QueueInput/queue_size: 50\n",
      "\u001b[32m[1029 16:41:22 @base.py:275]\u001b[0m Start Epoch 124 ...\n"
     ]
    },
    {
     "name": "stderr",
     "output_type": "stream",
     "text": [
      "\n",
      "100%|###################################################################################|175/175[00:04<00:00,42.37it/s]"
     ]
    },
    {
     "name": "stdout",
     "output_type": "stream",
     "text": [
      "\u001b[32m[1029 16:41:26 @base.py:285]\u001b[0m Epoch 124 (global_step 32549) finished, time:4.13 seconds.\n",
      "\u001b[32m[1029 16:41:26 @saver.py:79]\u001b[0m Model saved to ../output/Chicago/NOLINKS/model\\model-32549.\n",
      "\u001b[32m[1029 16:41:26 @monitor.py:467]\u001b[0m GAN_loss/d_loss: -0.11335\n",
      "\u001b[32m[1029 16:41:26 @monitor.py:467]\u001b[0m GAN_loss/g_loss: -0.091507\n",
      "\u001b[32m[1029 16:41:26 @monitor.py:467]\u001b[0m GAN_loss/kl_div: 0.10048\n",
      "\u001b[32m[1029 16:41:26 @monitor.py:467]\u001b[0m QueueInput/queue_size: 50\n",
      "\u001b[32m[1029 16:41:26 @base.py:275]\u001b[0m Start Epoch 125 ...\n"
     ]
    },
    {
     "name": "stderr",
     "output_type": "stream",
     "text": [
      "\n",
      "100%|###################################################################################|175/175[00:04<00:00,41.21it/s]"
     ]
    },
    {
     "name": "stdout",
     "output_type": "stream",
     "text": [
      "\u001b[32m[1029 16:41:30 @base.py:285]\u001b[0m Epoch 125 (global_step 32812) finished, time:4.25 seconds.\n"
     ]
    },
    {
     "name": "stderr",
     "output_type": "stream",
     "text": [
      "\n"
     ]
    },
    {
     "name": "stdout",
     "output_type": "stream",
     "text": [
      "\u001b[32m[1029 16:41:30 @saver.py:79]\u001b[0m Model saved to ../output/Chicago/NOLINKS/model\\model-32812.\n",
      "\u001b[32m[1029 16:41:30 @monitor.py:467]\u001b[0m GAN_loss/d_loss: -0.11326\n",
      "\u001b[32m[1029 16:41:30 @monitor.py:467]\u001b[0m GAN_loss/g_loss: -0.092178\n",
      "\u001b[32m[1029 16:41:30 @monitor.py:467]\u001b[0m GAN_loss/kl_div: 0.093118\n",
      "\u001b[32m[1029 16:41:30 @monitor.py:467]\u001b[0m QueueInput/queue_size: 50\n",
      "\u001b[32m[1029 16:41:30 @base.py:275]\u001b[0m Start Epoch 126 ...\n"
     ]
    },
    {
     "name": "stderr",
     "output_type": "stream",
     "text": [
      "100%|###################################################################################|175/175[00:04<00:00,42.45it/s]"
     ]
    },
    {
     "name": "stdout",
     "output_type": "stream",
     "text": [
      "\u001b[32m[1029 16:41:34 @base.py:285]\u001b[0m Epoch 126 (global_step 33074) finished, time:4.12 seconds.\n",
      "\u001b[32m[1029 16:41:34 @saver.py:79]\u001b[0m Model saved to ../output/Chicago/NOLINKS/model\\model-33074.\n",
      "\u001b[32m[1029 16:41:34 @monitor.py:467]\u001b[0m GAN_loss/d_loss: -0.11185\n",
      "\u001b[32m[1029 16:41:34 @monitor.py:467]\u001b[0m GAN_loss/g_loss: -0.091999\n",
      "\u001b[32m[1029 16:41:34 @monitor.py:467]\u001b[0m GAN_loss/kl_div: 0.096357\n",
      "\u001b[32m[1029 16:41:34 @monitor.py:467]\u001b[0m QueueInput/queue_size: 50\n",
      "\u001b[32m[1029 16:41:34 @base.py:275]\u001b[0m Start Epoch 127 ...\n"
     ]
    },
    {
     "name": "stderr",
     "output_type": "stream",
     "text": [
      "\n",
      "100%|###################################################################################|175/175[00:04<00:00,42.60it/s]"
     ]
    },
    {
     "name": "stdout",
     "output_type": "stream",
     "text": [
      "\u001b[32m[1029 16:41:38 @base.py:285]\u001b[0m Epoch 127 (global_step 33337) finished, time:4.11 seconds.\n",
      "\u001b[32m[1029 16:41:38 @saver.py:79]\u001b[0m Model saved to ../output/Chicago/NOLINKS/model\\model-33337.\n",
      "\u001b[32m[1029 16:41:38 @monitor.py:467]\u001b[0m GAN_loss/d_loss: -0.11183\n",
      "\u001b[32m[1029 16:41:38 @monitor.py:467]\u001b[0m GAN_loss/g_loss: -0.092446\n",
      "\u001b[32m[1029 16:41:38 @monitor.py:467]\u001b[0m GAN_loss/kl_div: 0.094521\n",
      "\u001b[32m[1029 16:41:38 @monitor.py:467]\u001b[0m QueueInput/queue_size: 50\n",
      "\u001b[32m[1029 16:41:38 @base.py:275]\u001b[0m Start Epoch 128 ...\n"
     ]
    },
    {
     "name": "stderr",
     "output_type": "stream",
     "text": [
      "\n",
      "100%|###################################################################################|175/175[00:04<00:00,42.22it/s]"
     ]
    },
    {
     "name": "stdout",
     "output_type": "stream",
     "text": [
      "\u001b[32m[1029 16:41:43 @base.py:285]\u001b[0m Epoch 128 (global_step 33599) finished, time:4.15 seconds.\n",
      "\u001b[32m[1029 16:41:43 @saver.py:79]\u001b[0m Model saved to ../output/Chicago/NOLINKS/model\\model-33599.\n",
      "\u001b[32m[1029 16:41:43 @monitor.py:467]\u001b[0m GAN_loss/d_loss: -0.11018\n",
      "\u001b[32m[1029 16:41:43 @monitor.py:467]\u001b[0m GAN_loss/g_loss: -0.093159\n",
      "\u001b[32m[1029 16:41:43 @monitor.py:467]\u001b[0m GAN_loss/kl_div: 0.096856\n",
      "\u001b[32m[1029 16:41:43 @monitor.py:467]\u001b[0m QueueInput/queue_size: 50\n",
      "\u001b[32m[1029 16:41:43 @base.py:275]\u001b[0m Start Epoch 129 ...\n"
     ]
    },
    {
     "name": "stderr",
     "output_type": "stream",
     "text": [
      "\n",
      "100%|###################################################################################|175/175[00:04<00:00,43.03it/s]"
     ]
    },
    {
     "name": "stdout",
     "output_type": "stream",
     "text": [
      "\u001b[32m[1029 16:41:47 @base.py:285]\u001b[0m Epoch 129 (global_step 33862) finished, time:4.07 seconds.\n",
      "\u001b[32m[1029 16:41:47 @saver.py:79]\u001b[0m Model saved to ../output/Chicago/NOLINKS/model\\model-33862.\n",
      "\u001b[32m[1029 16:41:47 @monitor.py:467]\u001b[0m GAN_loss/d_loss: -0.11097\n",
      "\u001b[32m[1029 16:41:47 @monitor.py:467]\u001b[0m GAN_loss/g_loss: -0.093272\n",
      "\u001b[32m[1029 16:41:47 @monitor.py:467]\u001b[0m GAN_loss/kl_div: 0.095497\n",
      "\u001b[32m[1029 16:41:47 @monitor.py:467]\u001b[0m QueueInput/queue_size: 50\n",
      "\u001b[32m[1029 16:41:47 @base.py:275]\u001b[0m Start Epoch 130 ...\n"
     ]
    },
    {
     "name": "stderr",
     "output_type": "stream",
     "text": [
      "\n",
      "100%|###################################################################################|175/175[00:04<00:00,42.82it/s]"
     ]
    },
    {
     "name": "stdout",
     "output_type": "stream",
     "text": [
      "\u001b[32m[1029 16:41:51 @base.py:285]\u001b[0m Epoch 130 (global_step 34124) finished, time:4.09 seconds.\n",
      "\u001b[32m[1029 16:41:51 @saver.py:79]\u001b[0m Model saved to ../output/Chicago/NOLINKS/model\\model-34124.\n",
      "\u001b[32m[1029 16:41:51 @monitor.py:467]\u001b[0m GAN_loss/d_loss: -0.10992\n",
      "\u001b[32m[1029 16:41:51 @monitor.py:467]\u001b[0m GAN_loss/g_loss: -0.094455\n",
      "\u001b[32m[1029 16:41:51 @monitor.py:467]\u001b[0m GAN_loss/kl_div: 0.099224\n",
      "\u001b[32m[1029 16:41:51 @monitor.py:467]\u001b[0m QueueInput/queue_size: 50\n",
      "\u001b[32m[1029 16:41:51 @base.py:275]\u001b[0m Start Epoch 131 ...\n"
     ]
    },
    {
     "name": "stderr",
     "output_type": "stream",
     "text": [
      "\n",
      "100%|###################################################################################|175/175[00:04<00:00,41.85it/s]"
     ]
    },
    {
     "name": "stdout",
     "output_type": "stream",
     "text": [
      "\u001b[32m[1029 16:41:55 @base.py:285]\u001b[0m Epoch 131 (global_step 34387) finished, time:4.18 seconds.\n",
      "\u001b[32m[1029 16:41:55 @saver.py:79]\u001b[0m Model saved to ../output/Chicago/NOLINKS/model\\model-34387.\n",
      "\u001b[32m[1029 16:41:55 @monitor.py:467]\u001b[0m GAN_loss/d_loss: -0.1113\n",
      "\u001b[32m[1029 16:41:55 @monitor.py:467]\u001b[0m GAN_loss/g_loss: -0.093695\n",
      "\u001b[32m[1029 16:41:55 @monitor.py:467]\u001b[0m GAN_loss/kl_div: 0.10066\n",
      "\u001b[32m[1029 16:41:55 @monitor.py:467]\u001b[0m QueueInput/queue_size: 50\n",
      "\u001b[32m[1029 16:41:55 @base.py:275]\u001b[0m Start Epoch 132 ...\n"
     ]
    },
    {
     "name": "stderr",
     "output_type": "stream",
     "text": [
      "\n",
      "100%|###################################################################################|175/175[00:04<00:00,41.84it/s]"
     ]
    },
    {
     "name": "stdout",
     "output_type": "stream",
     "text": [
      "\u001b[32m[1029 16:41:59 @base.py:285]\u001b[0m Epoch 132 (global_step 34649) finished, time:4.18 seconds.\n",
      "\u001b[32m[1029 16:41:59 @saver.py:79]\u001b[0m Model saved to ../output/Chicago/NOLINKS/model\\model-34649.\n",
      "\u001b[32m[1029 16:41:59 @monitor.py:467]\u001b[0m GAN_loss/d_loss: -0.10921\n",
      "\u001b[32m[1029 16:41:59 @monitor.py:467]\u001b[0m GAN_loss/g_loss: -0.093211\n",
      "\u001b[32m[1029 16:41:59 @monitor.py:467]\u001b[0m GAN_loss/kl_div: 0.098569\n",
      "\u001b[32m[1029 16:41:59 @monitor.py:467]\u001b[0m QueueInput/queue_size: 50\n",
      "\u001b[32m[1029 16:41:59 @base.py:275]\u001b[0m Start Epoch 133 ...\n"
     ]
    },
    {
     "name": "stderr",
     "output_type": "stream",
     "text": [
      "\n",
      "100%|###################################################################################|175/175[00:04<00:00,42.75it/s]"
     ]
    },
    {
     "name": "stdout",
     "output_type": "stream",
     "text": [
      "\u001b[32m[1029 16:42:04 @base.py:285]\u001b[0m Epoch 133 (global_step 34912) finished, time:4.09 seconds.\n",
      "\u001b[32m[1029 16:42:04 @saver.py:79]\u001b[0m Model saved to ../output/Chicago/NOLINKS/model\\model-34912.\n",
      "\u001b[32m[1029 16:42:04 @monitor.py:467]\u001b[0m GAN_loss/d_loss: -0.10976\n",
      "\u001b[32m[1029 16:42:04 @monitor.py:467]\u001b[0m GAN_loss/g_loss: -0.093385\n",
      "\u001b[32m[1029 16:42:04 @monitor.py:467]\u001b[0m GAN_loss/kl_div: 0.090666\n",
      "\u001b[32m[1029 16:42:04 @monitor.py:467]\u001b[0m QueueInput/queue_size: 50\n",
      "\u001b[32m[1029 16:42:04 @base.py:275]\u001b[0m Start Epoch 134 ...\n"
     ]
    },
    {
     "name": "stderr",
     "output_type": "stream",
     "text": [
      "\n",
      "100%|###################################################################################|175/175[00:04<00:00,42.43it/s]"
     ]
    },
    {
     "name": "stdout",
     "output_type": "stream",
     "text": [
      "\u001b[32m[1029 16:42:08 @base.py:285]\u001b[0m Epoch 134 (global_step 35174) finished, time:4.12 seconds.\n",
      "\u001b[32m[1029 16:42:08 @saver.py:79]\u001b[0m Model saved to ../output/Chicago/NOLINKS/model\\model-35174.\n",
      "\u001b[32m[1029 16:42:08 @monitor.py:467]\u001b[0m GAN_loss/d_loss: -0.10857\n",
      "\u001b[32m[1029 16:42:08 @monitor.py:467]\u001b[0m GAN_loss/g_loss: -0.094242\n",
      "\u001b[32m[1029 16:42:08 @monitor.py:467]\u001b[0m GAN_loss/kl_div: 0.098307\n",
      "\u001b[32m[1029 16:42:08 @monitor.py:467]\u001b[0m QueueInput/queue_size: 50\n",
      "\u001b[32m[1029 16:42:08 @base.py:275]\u001b[0m Start Epoch 135 ...\n"
     ]
    },
    {
     "name": "stderr",
     "output_type": "stream",
     "text": [
      "\n",
      "100%|###################################################################################|175/175[00:04<00:00,42.35it/s]"
     ]
    },
    {
     "name": "stdout",
     "output_type": "stream",
     "text": [
      "\u001b[32m[1029 16:42:12 @base.py:285]\u001b[0m Epoch 135 (global_step 35437) finished, time:4.13 seconds.\n",
      "\u001b[32m[1029 16:42:12 @saver.py:79]\u001b[0m Model saved to ../output/Chicago/NOLINKS/model\\model-35437.\n",
      "\u001b[32m[1029 16:42:12 @monitor.py:467]\u001b[0m GAN_loss/d_loss: -0.1091\n",
      "\u001b[32m[1029 16:42:12 @monitor.py:467]\u001b[0m GAN_loss/g_loss: -0.093305\n",
      "\u001b[32m[1029 16:42:12 @monitor.py:467]\u001b[0m GAN_loss/kl_div: 0.09512\n",
      "\u001b[32m[1029 16:42:12 @monitor.py:467]\u001b[0m QueueInput/queue_size: 50\n",
      "\u001b[32m[1029 16:42:12 @base.py:275]\u001b[0m Start Epoch 136 ...\n"
     ]
    },
    {
     "name": "stderr",
     "output_type": "stream",
     "text": [
      "\n",
      "100%|###################################################################################|175/175[00:04<00:00,41.15it/s]"
     ]
    },
    {
     "name": "stdout",
     "output_type": "stream",
     "text": [
      "\u001b[32m[1029 16:42:16 @base.py:285]\u001b[0m Epoch 136 (global_step 35699) finished, time:4.25 seconds.\n",
      "\u001b[32m[1029 16:42:16 @saver.py:79]\u001b[0m Model saved to ../output/Chicago/NOLINKS/model\\model-35699.\n",
      "\u001b[32m[1029 16:42:16 @monitor.py:467]\u001b[0m GAN_loss/d_loss: -0.10923\n",
      "\u001b[32m[1029 16:42:16 @monitor.py:467]\u001b[0m GAN_loss/g_loss: -0.094437\n",
      "\u001b[32m[1029 16:42:16 @monitor.py:467]\u001b[0m GAN_loss/kl_div: 0.093442\n",
      "\u001b[32m[1029 16:42:16 @monitor.py:467]\u001b[0m QueueInput/queue_size: 50\n",
      "\u001b[32m[1029 16:42:16 @base.py:275]\u001b[0m Start Epoch 137 ...\n"
     ]
    },
    {
     "name": "stderr",
     "output_type": "stream",
     "text": [
      "\n",
      "100%|###################################################################################|175/175[00:04<00:00,42.71it/s]"
     ]
    },
    {
     "name": "stdout",
     "output_type": "stream",
     "text": [
      "\u001b[32m[1029 16:42:20 @base.py:285]\u001b[0m Epoch 137 (global_step 35962) finished, time:4.1 seconds.\n",
      "\u001b[32m[1029 16:42:20 @saver.py:79]\u001b[0m Model saved to ../output/Chicago/NOLINKS/model\\model-35962.\n",
      "\u001b[32m[1029 16:42:21 @monitor.py:467]\u001b[0m GAN_loss/d_loss: -0.10776\n",
      "\u001b[32m[1029 16:42:21 @monitor.py:467]\u001b[0m GAN_loss/g_loss: -0.094043\n",
      "\u001b[32m[1029 16:42:21 @monitor.py:467]\u001b[0m GAN_loss/kl_div: 0.09545\n",
      "\u001b[32m[1029 16:42:21 @monitor.py:467]\u001b[0m QueueInput/queue_size: 50\n",
      "\u001b[32m[1029 16:42:21 @base.py:275]\u001b[0m Start Epoch 138 ...\n"
     ]
    },
    {
     "name": "stderr",
     "output_type": "stream",
     "text": [
      "\n",
      "100%|###################################################################################|175/175[00:04<00:00,42.71it/s]"
     ]
    },
    {
     "name": "stdout",
     "output_type": "stream",
     "text": [
      "\u001b[32m[1029 16:42:25 @base.py:285]\u001b[0m Epoch 138 (global_step 36224) finished, time:4.1 seconds.\n",
      "\u001b[32m[1029 16:42:25 @saver.py:79]\u001b[0m Model saved to ../output/Chicago/NOLINKS/model\\model-36224.\n",
      "\u001b[32m[1029 16:42:25 @monitor.py:467]\u001b[0m GAN_loss/d_loss: -0.10699\n",
      "\u001b[32m[1029 16:42:25 @monitor.py:467]\u001b[0m GAN_loss/g_loss: -0.094768\n",
      "\u001b[32m[1029 16:42:25 @monitor.py:467]\u001b[0m GAN_loss/kl_div: 0.093527\n",
      "\u001b[32m[1029 16:42:25 @monitor.py:467]\u001b[0m QueueInput/queue_size: 50\n",
      "\u001b[32m[1029 16:42:25 @base.py:275]\u001b[0m Start Epoch 139 ...\n"
     ]
    },
    {
     "name": "stderr",
     "output_type": "stream",
     "text": [
      "\n",
      "100%|###################################################################################|175/175[00:04<00:00,42.54it/s]"
     ]
    },
    {
     "name": "stdout",
     "output_type": "stream",
     "text": [
      "\u001b[32m[1029 16:42:29 @base.py:285]\u001b[0m Epoch 139 (global_step 36487) finished, time:4.11 seconds.\n",
      "\u001b[32m[1029 16:42:29 @saver.py:79]\u001b[0m Model saved to ../output/Chicago/NOLINKS/model\\model-36487.\n",
      "\u001b[32m[1029 16:42:29 @monitor.py:467]\u001b[0m GAN_loss/d_loss: -0.1064\n",
      "\u001b[32m[1029 16:42:29 @monitor.py:467]\u001b[0m GAN_loss/g_loss: -0.095051\n",
      "\u001b[32m[1029 16:42:29 @monitor.py:467]\u001b[0m GAN_loss/kl_div: 0.096182\n",
      "\u001b[32m[1029 16:42:29 @monitor.py:467]\u001b[0m QueueInput/queue_size: 50\n",
      "\u001b[32m[1029 16:42:29 @base.py:275]\u001b[0m Start Epoch 140 ...\n"
     ]
    },
    {
     "name": "stderr",
     "output_type": "stream",
     "text": [
      "\n",
      "100%|###################################################################################|175/175[00:04<00:00,42.86it/s]"
     ]
    },
    {
     "name": "stdout",
     "output_type": "stream",
     "text": [
      "\u001b[32m[1029 16:42:33 @base.py:285]\u001b[0m Epoch 140 (global_step 36749) finished, time:4.08 seconds.\n",
      "\u001b[32m[1029 16:42:33 @saver.py:79]\u001b[0m Model saved to ../output/Chicago/NOLINKS/model\\model-36749.\n",
      "\u001b[32m[1029 16:42:33 @monitor.py:467]\u001b[0m GAN_loss/d_loss: -0.10717\n",
      "\u001b[32m[1029 16:42:33 @monitor.py:467]\u001b[0m GAN_loss/g_loss: -0.095514\n",
      "\u001b[32m[1029 16:42:33 @monitor.py:467]\u001b[0m GAN_loss/kl_div: 0.093417\n",
      "\u001b[32m[1029 16:42:33 @monitor.py:467]\u001b[0m QueueInput/queue_size: 50\n",
      "\u001b[32m[1029 16:42:33 @base.py:275]\u001b[0m Start Epoch 141 ...\n"
     ]
    },
    {
     "name": "stderr",
     "output_type": "stream",
     "text": [
      "\n",
      "100%|###################################################################################|175/175[00:04<00:00,42.86it/s]"
     ]
    },
    {
     "name": "stdout",
     "output_type": "stream",
     "text": [
      "\u001b[32m[1029 16:42:37 @base.py:285]\u001b[0m Epoch 141 (global_step 37012) finished, time:4.08 seconds.\n",
      "\u001b[32m[1029 16:42:37 @saver.py:79]\u001b[0m Model saved to ../output/Chicago/NOLINKS/model\\model-37012.\n",
      "\u001b[32m[1029 16:42:37 @monitor.py:467]\u001b[0m GAN_loss/d_loss: -0.10631\n",
      "\u001b[32m[1029 16:42:37 @monitor.py:467]\u001b[0m GAN_loss/g_loss: -0.09551\n",
      "\u001b[32m[1029 16:42:37 @monitor.py:467]\u001b[0m GAN_loss/kl_div: 0.091773\n",
      "\u001b[32m[1029 16:42:37 @monitor.py:467]\u001b[0m QueueInput/queue_size: 50\n",
      "\u001b[32m[1029 16:42:37 @base.py:275]\u001b[0m Start Epoch 142 ...\n"
     ]
    },
    {
     "name": "stderr",
     "output_type": "stream",
     "text": [
      "\n",
      "100%|###################################################################################|175/175[00:04<00:00,42.82it/s]"
     ]
    },
    {
     "name": "stdout",
     "output_type": "stream",
     "text": [
      "\u001b[32m[1029 16:42:41 @base.py:285]\u001b[0m Epoch 142 (global_step 37274) finished, time:4.09 seconds.\n",
      "\u001b[32m[1029 16:42:41 @saver.py:79]\u001b[0m Model saved to ../output/Chicago/NOLINKS/model\\model-37274.\n",
      "\u001b[32m[1029 16:42:41 @monitor.py:467]\u001b[0m GAN_loss/d_loss: -0.10691\n",
      "\u001b[32m[1029 16:42:41 @monitor.py:467]\u001b[0m GAN_loss/g_loss: -0.096682\n",
      "\u001b[32m[1029 16:42:41 @monitor.py:467]\u001b[0m GAN_loss/kl_div: 0.096127\n",
      "\u001b[32m[1029 16:42:41 @monitor.py:467]\u001b[0m QueueInput/queue_size: 50\n",
      "\u001b[32m[1029 16:42:41 @base.py:275]\u001b[0m Start Epoch 143 ...\n"
     ]
    },
    {
     "name": "stderr",
     "output_type": "stream",
     "text": [
      "\n",
      "100%|###################################################################################|175/175[00:04<00:00,42.83it/s]"
     ]
    },
    {
     "name": "stdout",
     "output_type": "stream",
     "text": [
      "\u001b[32m[1029 16:42:45 @base.py:285]\u001b[0m Epoch 143 (global_step 37537) finished, time:4.09 seconds.\n",
      "\u001b[32m[1029 16:42:45 @saver.py:79]\u001b[0m Model saved to ../output/Chicago/NOLINKS/model\\model-37537.\n",
      "\u001b[32m[1029 16:42:45 @monitor.py:467]\u001b[0m GAN_loss/d_loss: -0.10643\n",
      "\u001b[32m[1029 16:42:45 @monitor.py:467]\u001b[0m GAN_loss/g_loss: -0.09586\n",
      "\u001b[32m[1029 16:42:45 @monitor.py:467]\u001b[0m GAN_loss/kl_div: 0.10058\n",
      "\u001b[32m[1029 16:42:45 @monitor.py:467]\u001b[0m QueueInput/queue_size: 50\n",
      "\u001b[32m[1029 16:42:45 @base.py:275]\u001b[0m Start Epoch 144 ...\n"
     ]
    },
    {
     "name": "stderr",
     "output_type": "stream",
     "text": [
      "\n",
      "100%|###################################################################################|175/175[00:04<00:00,42.82it/s]"
     ]
    },
    {
     "name": "stdout",
     "output_type": "stream",
     "text": [
      "\u001b[32m[1029 16:42:50 @base.py:285]\u001b[0m Epoch 144 (global_step 37799) finished, time:4.09 seconds.\n",
      "\u001b[32m[1029 16:42:50 @saver.py:79]\u001b[0m Model saved to ../output/Chicago/NOLINKS/model\\model-37799.\n",
      "\u001b[32m[1029 16:42:50 @monitor.py:467]\u001b[0m GAN_loss/d_loss: -0.10548\n",
      "\u001b[32m[1029 16:42:50 @monitor.py:467]\u001b[0m GAN_loss/g_loss: -0.096381\n",
      "\u001b[32m[1029 16:42:50 @monitor.py:467]\u001b[0m GAN_loss/kl_div: 0.095752\n",
      "\u001b[32m[1029 16:42:50 @monitor.py:467]\u001b[0m QueueInput/queue_size: 50\n",
      "\u001b[32m[1029 16:42:50 @base.py:275]\u001b[0m Start Epoch 145 ...\n"
     ]
    },
    {
     "name": "stderr",
     "output_type": "stream",
     "text": [
      "\n",
      "100%|###################################################################################|175/175[00:04<00:00,41.84it/s]"
     ]
    },
    {
     "name": "stdout",
     "output_type": "stream",
     "text": [
      "\u001b[32m[1029 16:42:54 @base.py:285]\u001b[0m Epoch 145 (global_step 38062) finished, time:4.18 seconds.\n",
      "\u001b[32m[1029 16:42:54 @saver.py:79]\u001b[0m Model saved to ../output/Chicago/NOLINKS/model\\model-38062.\n",
      "\u001b[32m[1029 16:42:54 @monitor.py:467]\u001b[0m GAN_loss/d_loss: -0.1057\n",
      "\u001b[32m[1029 16:42:54 @monitor.py:467]\u001b[0m GAN_loss/g_loss: -0.097247\n",
      "\u001b[32m[1029 16:42:54 @monitor.py:467]\u001b[0m GAN_loss/kl_div: 0.099661\n",
      "\u001b[32m[1029 16:42:54 @monitor.py:467]\u001b[0m QueueInput/queue_size: 50\n",
      "\u001b[32m[1029 16:42:54 @base.py:275]\u001b[0m Start Epoch 146 ...\n"
     ]
    },
    {
     "name": "stderr",
     "output_type": "stream",
     "text": [
      "\n",
      "100%|###################################################################################|175/175[00:04<00:00,42.24it/s]"
     ]
    },
    {
     "name": "stdout",
     "output_type": "stream",
     "text": [
      "\u001b[32m[1029 16:42:58 @base.py:285]\u001b[0m Epoch 146 (global_step 38324) finished, time:4.14 seconds.\n",
      "\u001b[32m[1029 16:42:58 @saver.py:79]\u001b[0m Model saved to ../output/Chicago/NOLINKS/model\\model-38324.\n",
      "\u001b[32m[1029 16:42:58 @monitor.py:467]\u001b[0m GAN_loss/d_loss: -0.10528\n",
      "\u001b[32m[1029 16:42:58 @monitor.py:467]\u001b[0m GAN_loss/g_loss: -0.096872\n",
      "\u001b[32m[1029 16:42:58 @monitor.py:467]\u001b[0m GAN_loss/kl_div: 0.099019\n",
      "\u001b[32m[1029 16:42:58 @monitor.py:467]\u001b[0m QueueInput/queue_size: 50\n",
      "\u001b[32m[1029 16:42:58 @base.py:275]\u001b[0m Start Epoch 147 ...\n"
     ]
    },
    {
     "name": "stderr",
     "output_type": "stream",
     "text": [
      "\n",
      "100%|###################################################################################|175/175[00:04<00:00,42.65it/s]"
     ]
    },
    {
     "name": "stdout",
     "output_type": "stream",
     "text": [
      "\u001b[32m[1029 16:43:02 @base.py:285]\u001b[0m Epoch 147 (global_step 38587) finished, time:4.1 seconds.\n",
      "\u001b[32m[1029 16:43:02 @saver.py:79]\u001b[0m Model saved to ../output/Chicago/NOLINKS/model\\model-38587.\n",
      "\u001b[32m[1029 16:43:02 @monitor.py:467]\u001b[0m GAN_loss/d_loss: -0.10461\n",
      "\u001b[32m[1029 16:43:02 @monitor.py:467]\u001b[0m GAN_loss/g_loss: -0.097752\n",
      "\u001b[32m[1029 16:43:02 @monitor.py:467]\u001b[0m GAN_loss/kl_div: 0.092768\n",
      "\u001b[32m[1029 16:43:02 @monitor.py:467]\u001b[0m QueueInput/queue_size: 50\n",
      "\u001b[32m[1029 16:43:02 @base.py:275]\u001b[0m Start Epoch 148 ...\n"
     ]
    },
    {
     "name": "stderr",
     "output_type": "stream",
     "text": [
      "\n",
      "100%|###################################################################################|175/175[00:04<00:00,42.59it/s]"
     ]
    },
    {
     "name": "stdout",
     "output_type": "stream",
     "text": [
      "\u001b[32m[1029 16:43:06 @base.py:285]\u001b[0m Epoch 148 (global_step 38849) finished, time:4.11 seconds.\n",
      "\u001b[32m[1029 16:43:06 @saver.py:79]\u001b[0m Model saved to ../output/Chicago/NOLINKS/model\\model-38849.\n",
      "\u001b[32m[1029 16:43:06 @monitor.py:467]\u001b[0m GAN_loss/d_loss: -0.10438\n",
      "\u001b[32m[1029 16:43:06 @monitor.py:467]\u001b[0m GAN_loss/g_loss: -0.097848\n",
      "\u001b[32m[1029 16:43:06 @monitor.py:467]\u001b[0m GAN_loss/kl_div: 0.1001\n",
      "\u001b[32m[1029 16:43:06 @monitor.py:467]\u001b[0m QueueInput/queue_size: 50\n",
      "\u001b[32m[1029 16:43:06 @base.py:275]\u001b[0m Start Epoch 149 ...\n"
     ]
    },
    {
     "name": "stderr",
     "output_type": "stream",
     "text": [
      "\n",
      "100%|###################################################################################|175/175[00:04<00:00,42.51it/s]"
     ]
    },
    {
     "name": "stdout",
     "output_type": "stream",
     "text": [
      "\u001b[32m[1029 16:43:11 @base.py:285]\u001b[0m Epoch 149 (global_step 39112) finished, time:4.12 seconds.\n",
      "\u001b[32m[1029 16:43:11 @saver.py:79]\u001b[0m Model saved to ../output/Chicago/NOLINKS/model\\model-39112.\n",
      "\u001b[32m[1029 16:43:11 @monitor.py:467]\u001b[0m GAN_loss/d_loss: -0.10562\n",
      "\u001b[32m[1029 16:43:11 @monitor.py:467]\u001b[0m GAN_loss/g_loss: -0.096777\n",
      "\u001b[32m[1029 16:43:11 @monitor.py:467]\u001b[0m GAN_loss/kl_div: 0.10097\n",
      "\u001b[32m[1029 16:43:11 @monitor.py:467]\u001b[0m QueueInput/queue_size: 50\n",
      "\u001b[32m[1029 16:43:11 @base.py:275]\u001b[0m Start Epoch 150 ...\n"
     ]
    },
    {
     "name": "stderr",
     "output_type": "stream",
     "text": [
      "\n",
      "100%|###################################################################################|175/175[00:04<00:00,40.34it/s]"
     ]
    },
    {
     "name": "stdout",
     "output_type": "stream",
     "text": [
      "\u001b[32m[1029 16:43:15 @base.py:285]\u001b[0m Epoch 150 (global_step 39374) finished, time:4.34 seconds.\n"
     ]
    },
    {
     "name": "stderr",
     "output_type": "stream",
     "text": [
      "\n"
     ]
    },
    {
     "name": "stdout",
     "output_type": "stream",
     "text": [
      "\u001b[32m[1029 16:43:15 @saver.py:79]\u001b[0m Model saved to ../output/Chicago/NOLINKS/model\\model-39374.\n",
      "\u001b[32m[1029 16:43:15 @monitor.py:467]\u001b[0m GAN_loss/d_loss: -0.10275\n",
      "\u001b[32m[1029 16:43:15 @monitor.py:467]\u001b[0m GAN_loss/g_loss: -0.097963\n",
      "\u001b[32m[1029 16:43:15 @monitor.py:467]\u001b[0m GAN_loss/kl_div: 0.10142\n",
      "\u001b[32m[1029 16:43:15 @monitor.py:467]\u001b[0m QueueInput/queue_size: 50\n",
      "\u001b[32m[1029 16:43:15 @base.py:275]\u001b[0m Start Epoch 151 ...\n"
     ]
    },
    {
     "name": "stderr",
     "output_type": "stream",
     "text": [
      "100%|###################################################################################|175/175[00:04<00:00,39.93it/s]"
     ]
    },
    {
     "name": "stdout",
     "output_type": "stream",
     "text": [
      "\u001b[32m[1029 16:43:19 @base.py:285]\u001b[0m Epoch 151 (global_step 39637) finished, time:4.38 seconds.\n",
      "\u001b[32m[1029 16:43:19 @saver.py:79]\u001b[0m Model saved to ../output/Chicago/NOLINKS/model\\model-39637.\n",
      "\u001b[32m[1029 16:43:20 @monitor.py:467]\u001b[0m GAN_loss/d_loss: -0.10398\n",
      "\u001b[32m[1029 16:43:20 @monitor.py:467]\u001b[0m GAN_loss/g_loss: -0.097872\n",
      "\u001b[32m[1029 16:43:20 @monitor.py:467]\u001b[0m GAN_loss/kl_div: 0.099441\n",
      "\u001b[32m[1029 16:43:20 @monitor.py:467]\u001b[0m QueueInput/queue_size: 50\n",
      "\u001b[32m[1029 16:43:20 @base.py:275]\u001b[0m Start Epoch 152 ...\n"
     ]
    },
    {
     "name": "stderr",
     "output_type": "stream",
     "text": [
      "\n",
      "100%|###################################################################################|175/175[00:04<00:00,40.30it/s]"
     ]
    },
    {
     "name": "stdout",
     "output_type": "stream",
     "text": [
      "\u001b[32m[1029 16:43:24 @base.py:285]\u001b[0m Epoch 152 (global_step 39899) finished, time:4.34 seconds.\n",
      "\u001b[32m[1029 16:43:24 @saver.py:79]\u001b[0m Model saved to ../output/Chicago/NOLINKS/model\\model-39899.\n",
      "\u001b[32m[1029 16:43:24 @monitor.py:467]\u001b[0m GAN_loss/d_loss: -0.10433\n",
      "\u001b[32m[1029 16:43:24 @monitor.py:467]\u001b[0m GAN_loss/g_loss: -0.097561\n",
      "\u001b[32m[1029 16:43:24 @monitor.py:467]\u001b[0m GAN_loss/kl_div: 0.095529\n",
      "\u001b[32m[1029 16:43:24 @monitor.py:467]\u001b[0m QueueInput/queue_size: 50\n",
      "\u001b[32m[1029 16:43:24 @base.py:275]\u001b[0m Start Epoch 153 ...\n"
     ]
    },
    {
     "name": "stderr",
     "output_type": "stream",
     "text": [
      "\n",
      "100%|###################################################################################|175/175[00:04<00:00,42.26it/s]"
     ]
    },
    {
     "name": "stdout",
     "output_type": "stream",
     "text": [
      "\u001b[32m[1029 16:43:28 @base.py:285]\u001b[0m Epoch 153 (global_step 40162) finished, time:4.14 seconds.\n",
      "\u001b[32m[1029 16:43:28 @saver.py:79]\u001b[0m Model saved to ../output/Chicago/NOLINKS/model\\model-40162.\n",
      "\u001b[32m[1029 16:43:28 @monitor.py:467]\u001b[0m GAN_loss/d_loss: -0.10385\n",
      "\u001b[32m[1029 16:43:28 @monitor.py:467]\u001b[0m GAN_loss/g_loss: -0.098127\n",
      "\u001b[32m[1029 16:43:28 @monitor.py:467]\u001b[0m GAN_loss/kl_div: 0.099225\n",
      "\u001b[32m[1029 16:43:28 @monitor.py:467]\u001b[0m QueueInput/queue_size: 50\n",
      "\u001b[32m[1029 16:43:28 @base.py:275]\u001b[0m Start Epoch 154 ...\n"
     ]
    },
    {
     "name": "stderr",
     "output_type": "stream",
     "text": [
      "\n",
      "100%|###################################################################################|175/175[00:04<00:00,39.75it/s]"
     ]
    },
    {
     "name": "stdout",
     "output_type": "stream",
     "text": [
      "\u001b[32m[1029 16:43:33 @base.py:285]\u001b[0m Epoch 154 (global_step 40424) finished, time:4.4 seconds.\n",
      "\u001b[32m[1029 16:43:33 @saver.py:79]\u001b[0m Model saved to ../output/Chicago/NOLINKS/model\\model-40424.\n",
      "\u001b[32m[1029 16:43:33 @monitor.py:467]\u001b[0m GAN_loss/d_loss: -0.1033\n",
      "\u001b[32m[1029 16:43:33 @monitor.py:467]\u001b[0m GAN_loss/g_loss: -0.097253\n",
      "\u001b[32m[1029 16:43:33 @monitor.py:467]\u001b[0m GAN_loss/kl_div: 0.090814\n",
      "\u001b[32m[1029 16:43:33 @monitor.py:467]\u001b[0m QueueInput/queue_size: 50\n",
      "\u001b[32m[1029 16:43:33 @base.py:275]\u001b[0m Start Epoch 155 ...\n"
     ]
    },
    {
     "name": "stderr",
     "output_type": "stream",
     "text": [
      "\n",
      "100%|###################################################################################|175/175[00:04<00:00,41.48it/s]"
     ]
    },
    {
     "name": "stdout",
     "output_type": "stream",
     "text": [
      "\u001b[32m[1029 16:43:37 @base.py:285]\u001b[0m Epoch 155 (global_step 40687) finished, time:4.22 seconds.\n",
      "\u001b[32m[1029 16:43:37 @saver.py:79]\u001b[0m Model saved to ../output/Chicago/NOLINKS/model\\model-40687.\n",
      "\u001b[32m[1029 16:43:37 @monitor.py:467]\u001b[0m GAN_loss/d_loss: -0.10232\n",
      "\u001b[32m[1029 16:43:37 @monitor.py:467]\u001b[0m GAN_loss/g_loss: -0.098771\n",
      "\u001b[32m[1029 16:43:37 @monitor.py:467]\u001b[0m GAN_loss/kl_div: 0.099002\n",
      "\u001b[32m[1029 16:43:37 @monitor.py:467]\u001b[0m QueueInput/queue_size: 50\n"
     ]
    },
    {
     "name": "stderr",
     "output_type": "stream",
     "text": [
      "\n"
     ]
    },
    {
     "name": "stdout",
     "output_type": "stream",
     "text": [
      "\u001b[32m[1029 16:43:37 @base.py:275]\u001b[0m Start Epoch 156 ...\n"
     ]
    },
    {
     "name": "stderr",
     "output_type": "stream",
     "text": [
      "100%|###################################################################################|175/175[00:04<00:00,42.86it/s]"
     ]
    },
    {
     "name": "stdout",
     "output_type": "stream",
     "text": [
      "\u001b[32m[1029 16:43:41 @base.py:285]\u001b[0m Epoch 156 (global_step 40949) finished, time:4.08 seconds.\n",
      "\u001b[32m[1029 16:43:41 @saver.py:79]\u001b[0m Model saved to ../output/Chicago/NOLINKS/model\\model-40949.\n",
      "\u001b[32m[1029 16:43:41 @monitor.py:467]\u001b[0m GAN_loss/d_loss: -0.10157\n",
      "\u001b[32m[1029 16:43:41 @monitor.py:467]\u001b[0m GAN_loss/g_loss: -0.099778\n",
      "\u001b[32m[1029 16:43:41 @monitor.py:467]\u001b[0m GAN_loss/kl_div: 0.093742\n",
      "\u001b[32m[1029 16:43:41 @monitor.py:467]\u001b[0m QueueInput/queue_size: 50\n",
      "\u001b[32m[1029 16:43:41 @base.py:275]\u001b[0m Start Epoch 157 ...\n"
     ]
    },
    {
     "name": "stderr",
     "output_type": "stream",
     "text": [
      "\n",
      "100%|###################################################################################|175/175[00:04<00:00,42.84it/s]"
     ]
    },
    {
     "name": "stdout",
     "output_type": "stream",
     "text": [
      "\u001b[32m[1029 16:43:45 @base.py:285]\u001b[0m Epoch 157 (global_step 41212) finished, time:4.09 seconds.\n",
      "\u001b[32m[1029 16:43:45 @saver.py:79]\u001b[0m Model saved to ../output/Chicago/NOLINKS/model\\model-41212.\n",
      "\u001b[32m[1029 16:43:45 @monitor.py:467]\u001b[0m GAN_loss/d_loss: -0.10138\n",
      "\u001b[32m[1029 16:43:45 @monitor.py:467]\u001b[0m GAN_loss/g_loss: -0.099969\n",
      "\u001b[32m[1029 16:43:45 @monitor.py:467]\u001b[0m GAN_loss/kl_div: 0.094011\n",
      "\u001b[32m[1029 16:43:45 @monitor.py:467]\u001b[0m QueueInput/queue_size: 50\n",
      "\u001b[32m[1029 16:43:45 @base.py:275]\u001b[0m Start Epoch 158 ...\n"
     ]
    },
    {
     "name": "stderr",
     "output_type": "stream",
     "text": [
      "\n",
      "100%|###################################################################################|175/175[00:04<00:00,42.15it/s]"
     ]
    },
    {
     "name": "stdout",
     "output_type": "stream",
     "text": [
      "\u001b[32m[1029 16:43:49 @base.py:285]\u001b[0m Epoch 158 (global_step 41474) finished, time:4.15 seconds.\n",
      "\u001b[32m[1029 16:43:49 @saver.py:79]\u001b[0m Model saved to ../output/Chicago/NOLINKS/model\\model-41474.\n",
      "\u001b[32m[1029 16:43:49 @monitor.py:467]\u001b[0m GAN_loss/d_loss: -0.1016\n",
      "\u001b[32m[1029 16:43:49 @monitor.py:467]\u001b[0m GAN_loss/g_loss: -0.099153\n",
      "\u001b[32m[1029 16:43:49 @monitor.py:467]\u001b[0m GAN_loss/kl_div: 0.095661\n",
      "\u001b[32m[1029 16:43:49 @monitor.py:467]\u001b[0m QueueInput/queue_size: 50\n",
      "\u001b[32m[1029 16:43:49 @base.py:275]\u001b[0m Start Epoch 159 ...\n"
     ]
    },
    {
     "name": "stderr",
     "output_type": "stream",
     "text": [
      "\n",
      "100%|###################################################################################|175/175[00:04<00:00,41.86it/s]"
     ]
    },
    {
     "name": "stdout",
     "output_type": "stream",
     "text": [
      "\u001b[32m[1029 16:43:54 @base.py:285]\u001b[0m Epoch 159 (global_step 41737) finished, time:4.18 seconds.\n",
      "\u001b[32m[1029 16:43:54 @saver.py:79]\u001b[0m Model saved to ../output/Chicago/NOLINKS/model\\model-41737.\n",
      "\u001b[32m[1029 16:43:54 @monitor.py:467]\u001b[0m GAN_loss/d_loss: -0.10106\n",
      "\u001b[32m[1029 16:43:54 @monitor.py:467]\u001b[0m GAN_loss/g_loss: -0.098229\n",
      "\u001b[32m[1029 16:43:54 @monitor.py:467]\u001b[0m GAN_loss/kl_div: 0.10203\n",
      "\u001b[32m[1029 16:43:54 @monitor.py:467]\u001b[0m QueueInput/queue_size: 50\n",
      "\u001b[32m[1029 16:43:54 @base.py:275]\u001b[0m Start Epoch 160 ...\n"
     ]
    },
    {
     "name": "stderr",
     "output_type": "stream",
     "text": [
      "\n",
      "100%|###################################################################################|175/175[00:04<00:00,41.94it/s]"
     ]
    },
    {
     "name": "stdout",
     "output_type": "stream",
     "text": [
      "\u001b[32m[1029 16:43:58 @base.py:285]\u001b[0m Epoch 160 (global_step 41999) finished, time:4.17 seconds.\n",
      "\u001b[32m[1029 16:43:58 @saver.py:79]\u001b[0m Model saved to ../output/Chicago/NOLINKS/model\\model-41999.\n",
      "\u001b[32m[1029 16:43:58 @monitor.py:467]\u001b[0m GAN_loss/d_loss: -0.10062\n",
      "\u001b[32m[1029 16:43:58 @monitor.py:467]\u001b[0m GAN_loss/g_loss: -0.099692\n",
      "\u001b[32m[1029 16:43:58 @monitor.py:467]\u001b[0m GAN_loss/kl_div: 0.10068\n",
      "\u001b[32m[1029 16:43:58 @monitor.py:467]\u001b[0m QueueInput/queue_size: 50\n",
      "\u001b[32m[1029 16:43:58 @base.py:275]\u001b[0m Start Epoch 161 ...\n"
     ]
    },
    {
     "name": "stderr",
     "output_type": "stream",
     "text": [
      "\n",
      "100%|###################################################################################|175/175[00:04<00:00,41.39it/s]"
     ]
    },
    {
     "name": "stdout",
     "output_type": "stream",
     "text": [
      "\u001b[32m[1029 16:44:02 @base.py:285]\u001b[0m Epoch 161 (global_step 42262) finished, time:4.23 seconds.\n",
      "\u001b[32m[1029 16:44:02 @saver.py:79]\u001b[0m Model saved to ../output/Chicago/NOLINKS/model\\model-42262.\n",
      "\u001b[32m[1029 16:44:02 @monitor.py:467]\u001b[0m GAN_loss/d_loss: -0.099992\n",
      "\u001b[32m[1029 16:44:02 @monitor.py:467]\u001b[0m GAN_loss/g_loss: -0.10148\n",
      "\u001b[32m[1029 16:44:02 @monitor.py:467]\u001b[0m GAN_loss/kl_div: 0.10098\n",
      "\u001b[32m[1029 16:44:02 @monitor.py:467]\u001b[0m QueueInput/queue_size: 50\n",
      "\u001b[32m[1029 16:44:02 @base.py:275]\u001b[0m Start Epoch 162 ...\n"
     ]
    },
    {
     "name": "stderr",
     "output_type": "stream",
     "text": [
      "\n",
      "100%|###################################################################################|175/175[00:04<00:00,42.98it/s]"
     ]
    },
    {
     "name": "stdout",
     "output_type": "stream",
     "text": [
      "\u001b[32m[1029 16:44:06 @base.py:285]\u001b[0m Epoch 162 (global_step 42524) finished, time:4.07 seconds.\n",
      "\u001b[32m[1029 16:44:06 @saver.py:79]\u001b[0m Model saved to ../output/Chicago/NOLINKS/model\\model-42524.\n",
      "\u001b[32m[1029 16:44:06 @monitor.py:467]\u001b[0m GAN_loss/d_loss: -0.10071\n",
      "\u001b[32m[1029 16:44:06 @monitor.py:467]\u001b[0m GAN_loss/g_loss: -0.10034\n",
      "\u001b[32m[1029 16:44:06 @monitor.py:467]\u001b[0m GAN_loss/kl_div: 0.098852\n",
      "\u001b[32m[1029 16:44:06 @monitor.py:467]\u001b[0m QueueInput/queue_size: 50\n",
      "\u001b[32m[1029 16:44:06 @base.py:275]\u001b[0m Start Epoch 163 ...\n"
     ]
    },
    {
     "name": "stderr",
     "output_type": "stream",
     "text": [
      "\n",
      "100%|###################################################################################|175/175[00:04<00:00,42.54it/s]"
     ]
    },
    {
     "name": "stdout",
     "output_type": "stream",
     "text": [
      "\u001b[32m[1029 16:44:11 @base.py:285]\u001b[0m Epoch 163 (global_step 42787) finished, time:4.11 seconds.\n",
      "\u001b[32m[1029 16:44:11 @saver.py:79]\u001b[0m Model saved to ../output/Chicago/NOLINKS/model\\model-42787.\n",
      "\u001b[32m[1029 16:44:11 @monitor.py:467]\u001b[0m GAN_loss/d_loss: -0.10032\n",
      "\u001b[32m[1029 16:44:11 @monitor.py:467]\u001b[0m GAN_loss/g_loss: -0.10007\n",
      "\u001b[32m[1029 16:44:11 @monitor.py:467]\u001b[0m GAN_loss/kl_div: 0.099301\n",
      "\u001b[32m[1029 16:44:11 @monitor.py:467]\u001b[0m QueueInput/queue_size: 50\n",
      "\u001b[32m[1029 16:44:11 @base.py:275]\u001b[0m Start Epoch 164 ...\n"
     ]
    },
    {
     "name": "stderr",
     "output_type": "stream",
     "text": [
      "\n",
      "100%|###################################################################################|175/175[00:04<00:00,43.12it/s]"
     ]
    },
    {
     "name": "stdout",
     "output_type": "stream",
     "text": [
      "\u001b[32m[1029 16:44:15 @base.py:285]\u001b[0m Epoch 164 (global_step 43049) finished, time:4.06 seconds.\n",
      "\u001b[32m[1029 16:44:15 @saver.py:79]\u001b[0m Model saved to ../output/Chicago/NOLINKS/model\\model-43049.\n",
      "\u001b[32m[1029 16:44:15 @monitor.py:467]\u001b[0m GAN_loss/d_loss: -0.10025\n",
      "\u001b[32m[1029 16:44:15 @monitor.py:467]\u001b[0m GAN_loss/g_loss: -0.10049\n",
      "\u001b[32m[1029 16:44:15 @monitor.py:467]\u001b[0m GAN_loss/kl_div: 0.096993\n",
      "\u001b[32m[1029 16:44:15 @monitor.py:467]\u001b[0m QueueInput/queue_size: 50\n",
      "\u001b[32m[1029 16:44:15 @base.py:275]\u001b[0m Start Epoch 165 ...\n"
     ]
    },
    {
     "name": "stderr",
     "output_type": "stream",
     "text": [
      "\n",
      "100%|###################################################################################|175/175[00:04<00:00,42.83it/s]"
     ]
    },
    {
     "name": "stdout",
     "output_type": "stream",
     "text": [
      "\u001b[32m[1029 16:44:19 @base.py:285]\u001b[0m Epoch 165 (global_step 43312) finished, time:4.09 seconds.\n",
      "\u001b[32m[1029 16:44:19 @saver.py:79]\u001b[0m Model saved to ../output/Chicago/NOLINKS/model\\model-43312.\n",
      "\u001b[32m[1029 16:44:19 @monitor.py:467]\u001b[0m GAN_loss/d_loss: -0.10107\n",
      "\u001b[32m[1029 16:44:19 @monitor.py:467]\u001b[0m GAN_loss/g_loss: -0.10031\n",
      "\u001b[32m[1029 16:44:19 @monitor.py:467]\u001b[0m GAN_loss/kl_div: 0.098423\n",
      "\u001b[32m[1029 16:44:19 @monitor.py:467]\u001b[0m QueueInput/queue_size: 50\n",
      "\u001b[32m[1029 16:44:19 @base.py:275]\u001b[0m Start Epoch 166 ...\n"
     ]
    },
    {
     "name": "stderr",
     "output_type": "stream",
     "text": [
      "\n",
      "100%|###################################################################################|175/175[00:04<00:00,42.93it/s]"
     ]
    },
    {
     "name": "stdout",
     "output_type": "stream",
     "text": [
      "\u001b[32m[1029 16:44:23 @base.py:285]\u001b[0m Epoch 166 (global_step 43574) finished, time:4.08 seconds.\n",
      "\u001b[32m[1029 16:44:23 @saver.py:79]\u001b[0m Model saved to ../output/Chicago/NOLINKS/model\\model-43574.\n",
      "\u001b[32m[1029 16:44:23 @monitor.py:467]\u001b[0m GAN_loss/d_loss: -0.099879\n",
      "\u001b[32m[1029 16:44:23 @monitor.py:467]\u001b[0m GAN_loss/g_loss: -0.1016\n",
      "\u001b[32m[1029 16:44:23 @monitor.py:467]\u001b[0m GAN_loss/kl_div: 0.10334\n",
      "\u001b[32m[1029 16:44:23 @monitor.py:467]\u001b[0m QueueInput/queue_size: 50\n",
      "\u001b[32m[1029 16:44:23 @base.py:275]\u001b[0m Start Epoch 167 ...\n"
     ]
    },
    {
     "name": "stderr",
     "output_type": "stream",
     "text": [
      "\n",
      "100%|###################################################################################|175/175[00:04<00:00,42.76it/s]"
     ]
    },
    {
     "name": "stdout",
     "output_type": "stream",
     "text": [
      "\u001b[32m[1029 16:44:27 @base.py:285]\u001b[0m Epoch 167 (global_step 43837) finished, time:4.09 seconds.\n",
      "\u001b[32m[1029 16:44:27 @saver.py:79]\u001b[0m Model saved to ../output/Chicago/NOLINKS/model\\model-43837.\n",
      "\u001b[32m[1029 16:44:27 @monitor.py:467]\u001b[0m GAN_loss/d_loss: -0.1004\n",
      "\u001b[32m[1029 16:44:27 @monitor.py:467]\u001b[0m GAN_loss/g_loss: -0.10158\n",
      "\u001b[32m[1029 16:44:27 @monitor.py:467]\u001b[0m GAN_loss/kl_div: 0.094298\n",
      "\u001b[32m[1029 16:44:27 @monitor.py:467]\u001b[0m QueueInput/queue_size: 50\n",
      "\u001b[32m[1029 16:44:27 @base.py:275]\u001b[0m Start Epoch 168 ...\n"
     ]
    },
    {
     "name": "stderr",
     "output_type": "stream",
     "text": [
      "\n",
      "100%|###################################################################################|175/175[00:04<00:00,42.90it/s]"
     ]
    },
    {
     "name": "stdout",
     "output_type": "stream",
     "text": [
      "\u001b[32m[1029 16:44:31 @base.py:285]\u001b[0m Epoch 168 (global_step 44099) finished, time:4.08 seconds.\n",
      "\u001b[32m[1029 16:44:31 @saver.py:79]\u001b[0m Model saved to ../output/Chicago/NOLINKS/model\\model-44099.\n",
      "\u001b[32m[1029 16:44:31 @monitor.py:467]\u001b[0m GAN_loss/d_loss: -0.099672\n",
      "\u001b[32m[1029 16:44:31 @monitor.py:467]\u001b[0m GAN_loss/g_loss: -0.10067\n",
      "\u001b[32m[1029 16:44:31 @monitor.py:467]\u001b[0m GAN_loss/kl_div: 0.10333\n",
      "\u001b[32m[1029 16:44:31 @monitor.py:467]\u001b[0m QueueInput/queue_size: 50\n",
      "\u001b[32m[1029 16:44:31 @base.py:275]\u001b[0m Start Epoch 169 ...\n"
     ]
    },
    {
     "name": "stderr",
     "output_type": "stream",
     "text": [
      "\n",
      "100%|###################################################################################|175/175[00:04<00:00,42.55it/s]"
     ]
    },
    {
     "name": "stdout",
     "output_type": "stream",
     "text": [
      "\u001b[32m[1029 16:44:36 @base.py:285]\u001b[0m Epoch 169 (global_step 44362) finished, time:4.11 seconds.\n",
      "\u001b[32m[1029 16:44:36 @saver.py:79]\u001b[0m Model saved to ../output/Chicago/NOLINKS/model\\model-44362.\n",
      "\u001b[32m[1029 16:44:36 @monitor.py:467]\u001b[0m GAN_loss/d_loss: -0.098079\n",
      "\u001b[32m[1029 16:44:36 @monitor.py:467]\u001b[0m GAN_loss/g_loss: -0.10263\n",
      "\u001b[32m[1029 16:44:36 @monitor.py:467]\u001b[0m GAN_loss/kl_div: 0.099391\n",
      "\u001b[32m[1029 16:44:36 @monitor.py:467]\u001b[0m QueueInput/queue_size: 50\n",
      "\u001b[32m[1029 16:44:36 @base.py:275]\u001b[0m Start Epoch 170 ...\n"
     ]
    },
    {
     "name": "stderr",
     "output_type": "stream",
     "text": [
      "\n",
      "100%|###################################################################################|175/175[00:04<00:00,43.01it/s]"
     ]
    },
    {
     "name": "stdout",
     "output_type": "stream",
     "text": [
      "\u001b[32m[1029 16:44:40 @base.py:285]\u001b[0m Epoch 170 (global_step 44624) finished, time:4.07 seconds.\n",
      "\u001b[32m[1029 16:44:40 @saver.py:79]\u001b[0m Model saved to ../output/Chicago/NOLINKS/model\\model-44624.\n",
      "\u001b[32m[1029 16:44:40 @monitor.py:467]\u001b[0m GAN_loss/d_loss: -0.09861\n",
      "\u001b[32m[1029 16:44:40 @monitor.py:467]\u001b[0m GAN_loss/g_loss: -0.10298\n",
      "\u001b[32m[1029 16:44:40 @monitor.py:467]\u001b[0m GAN_loss/kl_div: 0.10326\n",
      "\u001b[32m[1029 16:44:40 @monitor.py:467]\u001b[0m QueueInput/queue_size: 50\n",
      "\u001b[32m[1029 16:44:40 @base.py:275]\u001b[0m Start Epoch 171 ...\n"
     ]
    },
    {
     "name": "stderr",
     "output_type": "stream",
     "text": [
      "\n",
      "100%|###################################################################################|175/175[00:04<00:00,42.59it/s]"
     ]
    },
    {
     "name": "stdout",
     "output_type": "stream",
     "text": [
      "\u001b[32m[1029 16:44:44 @base.py:285]\u001b[0m Epoch 171 (global_step 44887) finished, time:4.11 seconds.\n",
      "\u001b[32m[1029 16:44:44 @saver.py:79]\u001b[0m Model saved to ../output/Chicago/NOLINKS/model\\model-44887.\n",
      "\u001b[32m[1029 16:44:44 @monitor.py:467]\u001b[0m GAN_loss/d_loss: -0.099843\n",
      "\u001b[32m[1029 16:44:44 @monitor.py:467]\u001b[0m GAN_loss/g_loss: -0.10147\n",
      "\u001b[32m[1029 16:44:44 @monitor.py:467]\u001b[0m GAN_loss/kl_div: 0.10459\n",
      "\u001b[32m[1029 16:44:44 @monitor.py:467]\u001b[0m QueueInput/queue_size: 50\n",
      "\u001b[32m[1029 16:44:44 @base.py:275]\u001b[0m Start Epoch 172 ...\n"
     ]
    },
    {
     "name": "stderr",
     "output_type": "stream",
     "text": [
      "\n",
      "100%|###################################################################################|175/175[00:04<00:00,42.96it/s]"
     ]
    },
    {
     "name": "stdout",
     "output_type": "stream",
     "text": [
      "\u001b[32m[1029 16:44:48 @base.py:285]\u001b[0m Epoch 172 (global_step 45149) finished, time:4.07 seconds.\n",
      "\u001b[32m[1029 16:44:48 @saver.py:79]\u001b[0m Model saved to ../output/Chicago/NOLINKS/model\\model-45149.\n",
      "\u001b[32m[1029 16:44:48 @monitor.py:467]\u001b[0m GAN_loss/d_loss: -0.099027\n",
      "\u001b[32m[1029 16:44:48 @monitor.py:467]\u001b[0m GAN_loss/g_loss: -0.10183\n",
      "\u001b[32m[1029 16:44:48 @monitor.py:467]\u001b[0m GAN_loss/kl_div: 0.10087\n",
      "\u001b[32m[1029 16:44:48 @monitor.py:467]\u001b[0m QueueInput/queue_size: 50\n",
      "\u001b[32m[1029 16:44:48 @base.py:275]\u001b[0m Start Epoch 173 ...\n"
     ]
    },
    {
     "name": "stderr",
     "output_type": "stream",
     "text": [
      "\n",
      "100%|###################################################################################|175/175[00:04<00:00,43.00it/s]"
     ]
    },
    {
     "name": "stdout",
     "output_type": "stream",
     "text": [
      "\u001b[32m[1029 16:44:52 @base.py:285]\u001b[0m Epoch 173 (global_step 45412) finished, time:4.07 seconds.\n",
      "\u001b[32m[1029 16:44:52 @saver.py:79]\u001b[0m Model saved to ../output/Chicago/NOLINKS/model\\model-45412.\n",
      "\u001b[32m[1029 16:44:52 @monitor.py:467]\u001b[0m GAN_loss/d_loss: -0.098822\n",
      "\u001b[32m[1029 16:44:52 @monitor.py:467]\u001b[0m GAN_loss/g_loss: -0.1027\n",
      "\u001b[32m[1029 16:44:52 @monitor.py:467]\u001b[0m GAN_loss/kl_div: 0.097046\n",
      "\u001b[32m[1029 16:44:52 @monitor.py:467]\u001b[0m QueueInput/queue_size: 50\n",
      "\u001b[32m[1029 16:44:52 @base.py:275]\u001b[0m Start Epoch 174 ...\n"
     ]
    },
    {
     "name": "stderr",
     "output_type": "stream",
     "text": [
      "\n",
      "100%|###################################################################################|175/175[00:04<00:00,43.12it/s]"
     ]
    },
    {
     "name": "stdout",
     "output_type": "stream",
     "text": [
      "\u001b[32m[1029 16:44:56 @base.py:285]\u001b[0m Epoch 174 (global_step 45674) finished, time:4.06 seconds.\n",
      "\u001b[32m[1029 16:44:56 @saver.py:79]\u001b[0m Model saved to ../output/Chicago/NOLINKS/model\\model-45674.\n",
      "\u001b[32m[1029 16:44:56 @monitor.py:467]\u001b[0m GAN_loss/d_loss: -0.098058\n",
      "\u001b[32m[1029 16:44:56 @monitor.py:467]\u001b[0m GAN_loss/g_loss: -0.10384\n",
      "\u001b[32m[1029 16:44:56 @monitor.py:467]\u001b[0m GAN_loss/kl_div: 0.10789\n",
      "\u001b[32m[1029 16:44:56 @monitor.py:467]\u001b[0m QueueInput/queue_size: 50\n",
      "\u001b[32m[1029 16:44:56 @base.py:275]\u001b[0m Start Epoch 175 ...\n"
     ]
    },
    {
     "name": "stderr",
     "output_type": "stream",
     "text": [
      "\n",
      "100%|###################################################################################|175/175[00:04<00:00,42.38it/s]"
     ]
    },
    {
     "name": "stdout",
     "output_type": "stream",
     "text": [
      "\u001b[32m[1029 16:45:00 @base.py:285]\u001b[0m Epoch 175 (global_step 45937) finished, time:4.13 seconds.\n",
      "\u001b[32m[1029 16:45:01 @saver.py:79]\u001b[0m Model saved to ../output/Chicago/NOLINKS/model\\model-45937.\n",
      "\u001b[32m[1029 16:45:01 @monitor.py:467]\u001b[0m GAN_loss/d_loss: -0.098226\n",
      "\u001b[32m[1029 16:45:01 @monitor.py:467]\u001b[0m GAN_loss/g_loss: -0.10338\n",
      "\u001b[32m[1029 16:45:01 @monitor.py:467]\u001b[0m GAN_loss/kl_div: 0.10316\n",
      "\u001b[32m[1029 16:45:01 @monitor.py:467]\u001b[0m QueueInput/queue_size: 50\n",
      "\u001b[32m[1029 16:45:01 @base.py:275]\u001b[0m Start Epoch 176 ...\n"
     ]
    },
    {
     "name": "stderr",
     "output_type": "stream",
     "text": [
      "\n",
      "100%|###################################################################################|175/175[00:04<00:00,42.85it/s]"
     ]
    },
    {
     "name": "stdout",
     "output_type": "stream",
     "text": [
      "\u001b[32m[1029 16:45:05 @base.py:285]\u001b[0m Epoch 176 (global_step 46199) finished, time:4.08 seconds.\n",
      "\u001b[32m[1029 16:45:05 @saver.py:79]\u001b[0m Model saved to ../output/Chicago/NOLINKS/model\\model-46199.\n",
      "\u001b[32m[1029 16:45:05 @monitor.py:467]\u001b[0m GAN_loss/d_loss: -0.098132\n",
      "\u001b[32m[1029 16:45:05 @monitor.py:467]\u001b[0m GAN_loss/g_loss: -0.10422\n",
      "\u001b[32m[1029 16:45:05 @monitor.py:467]\u001b[0m GAN_loss/kl_div: 0.10027\n",
      "\u001b[32m[1029 16:45:05 @monitor.py:467]\u001b[0m QueueInput/queue_size: 50\n",
      "\u001b[32m[1029 16:45:05 @base.py:275]\u001b[0m Start Epoch 177 ...\n"
     ]
    },
    {
     "name": "stderr",
     "output_type": "stream",
     "text": [
      "\n",
      "100%|###################################################################################|175/175[00:04<00:00,42.54it/s]"
     ]
    },
    {
     "name": "stdout",
     "output_type": "stream",
     "text": [
      "\u001b[32m[1029 16:45:09 @base.py:285]\u001b[0m Epoch 177 (global_step 46462) finished, time:4.11 seconds.\n",
      "\u001b[32m[1029 16:45:09 @saver.py:79]\u001b[0m Model saved to ../output/Chicago/NOLINKS/model\\model-46462.\n",
      "\u001b[32m[1029 16:45:09 @monitor.py:467]\u001b[0m GAN_loss/d_loss: -0.097367\n",
      "\u001b[32m[1029 16:45:09 @monitor.py:467]\u001b[0m GAN_loss/g_loss: -0.1039\n",
      "\u001b[32m[1029 16:45:09 @monitor.py:467]\u001b[0m GAN_loss/kl_div: 0.10152\n",
      "\u001b[32m[1029 16:45:09 @monitor.py:467]\u001b[0m QueueInput/queue_size: 50\n",
      "\u001b[32m[1029 16:45:09 @base.py:275]\u001b[0m Start Epoch 178 ...\n"
     ]
    },
    {
     "name": "stderr",
     "output_type": "stream",
     "text": [
      "\n",
      "100%|###################################################################################|175/175[00:04<00:00,42.89it/s]"
     ]
    },
    {
     "name": "stdout",
     "output_type": "stream",
     "text": [
      "\u001b[32m[1029 16:45:13 @base.py:285]\u001b[0m Epoch 178 (global_step 46724) finished, time:4.08 seconds.\n",
      "\u001b[32m[1029 16:45:13 @saver.py:79]\u001b[0m Model saved to ../output/Chicago/NOLINKS/model\\model-46724.\n",
      "\u001b[32m[1029 16:45:13 @monitor.py:467]\u001b[0m GAN_loss/d_loss: -0.09692\n",
      "\u001b[32m[1029 16:45:13 @monitor.py:467]\u001b[0m GAN_loss/g_loss: -0.10423\n",
      "\u001b[32m[1029 16:45:13 @monitor.py:467]\u001b[0m GAN_loss/kl_div: 0.0973\n",
      "\u001b[32m[1029 16:45:13 @monitor.py:467]\u001b[0m QueueInput/queue_size: 50\n",
      "\u001b[32m[1029 16:45:13 @base.py:275]\u001b[0m Start Epoch 179 ...\n"
     ]
    },
    {
     "name": "stderr",
     "output_type": "stream",
     "text": [
      "\n",
      "100%|###################################################################################|175/175[00:04<00:00,42.74it/s]"
     ]
    },
    {
     "name": "stdout",
     "output_type": "stream",
     "text": [
      "\u001b[32m[1029 16:45:17 @base.py:285]\u001b[0m Epoch 179 (global_step 46987) finished, time:4.09 seconds.\n",
      "\u001b[32m[1029 16:45:17 @saver.py:79]\u001b[0m Model saved to ../output/Chicago/NOLINKS/model\\model-46987.\n",
      "\u001b[32m[1029 16:45:17 @monitor.py:467]\u001b[0m GAN_loss/d_loss: -0.096947\n",
      "\u001b[32m[1029 16:45:17 @monitor.py:467]\u001b[0m GAN_loss/g_loss: -0.10425\n",
      "\u001b[32m[1029 16:45:17 @monitor.py:467]\u001b[0m GAN_loss/kl_div: 0.097825\n",
      "\u001b[32m[1029 16:45:17 @monitor.py:467]\u001b[0m QueueInput/queue_size: 50\n",
      "\u001b[32m[1029 16:45:17 @base.py:275]\u001b[0m Start Epoch 180 ...\n"
     ]
    },
    {
     "name": "stderr",
     "output_type": "stream",
     "text": [
      "\n",
      "100%|###################################################################################|175/175[00:04<00:00,43.12it/s]"
     ]
    },
    {
     "name": "stdout",
     "output_type": "stream",
     "text": [
      "\u001b[32m[1029 16:45:21 @base.py:285]\u001b[0m Epoch 180 (global_step 47249) finished, time:4.06 seconds.\n",
      "\u001b[32m[1029 16:45:21 @saver.py:79]\u001b[0m Model saved to ../output/Chicago/NOLINKS/model\\model-47249.\n",
      "\u001b[32m[1029 16:45:21 @monitor.py:467]\u001b[0m GAN_loss/d_loss: -0.096669\n",
      "\u001b[32m[1029 16:45:21 @monitor.py:467]\u001b[0m GAN_loss/g_loss: -0.10387\n",
      "\u001b[32m[1029 16:45:21 @monitor.py:467]\u001b[0m GAN_loss/kl_div: 0.099144\n",
      "\u001b[32m[1029 16:45:21 @monitor.py:467]\u001b[0m QueueInput/queue_size: 50\n",
      "\u001b[32m[1029 16:45:21 @base.py:275]\u001b[0m Start Epoch 181 ...\n"
     ]
    },
    {
     "name": "stderr",
     "output_type": "stream",
     "text": [
      "\n",
      "100%|###################################################################################|175/175[00:04<00:00,42.69it/s]"
     ]
    },
    {
     "name": "stdout",
     "output_type": "stream",
     "text": [
      "\u001b[32m[1029 16:45:25 @base.py:285]\u001b[0m Epoch 181 (global_step 47512) finished, time:4.1 seconds.\n",
      "\u001b[32m[1029 16:45:26 @saver.py:79]\u001b[0m Model saved to ../output/Chicago/NOLINKS/model\\model-47512.\n",
      "\u001b[32m[1029 16:45:26 @monitor.py:467]\u001b[0m GAN_loss/d_loss: -0.095275\n",
      "\u001b[32m[1029 16:45:26 @monitor.py:467]\u001b[0m GAN_loss/g_loss: -0.10556\n",
      "\u001b[32m[1029 16:45:26 @monitor.py:467]\u001b[0m GAN_loss/kl_div: 0.10283\n",
      "\u001b[32m[1029 16:45:26 @monitor.py:467]\u001b[0m QueueInput/queue_size: 50\n",
      "\u001b[32m[1029 16:45:26 @base.py:275]\u001b[0m Start Epoch 182 ...\n"
     ]
    },
    {
     "name": "stderr",
     "output_type": "stream",
     "text": [
      "\n",
      "100%|###################################################################################|175/175[00:04<00:00,42.87it/s]"
     ]
    },
    {
     "name": "stdout",
     "output_type": "stream",
     "text": [
      "\u001b[32m[1029 16:45:30 @base.py:285]\u001b[0m Epoch 182 (global_step 47774) finished, time:4.08 seconds.\n",
      "\u001b[32m[1029 16:45:30 @saver.py:79]\u001b[0m Model saved to ../output/Chicago/NOLINKS/model\\model-47774.\n",
      "\u001b[32m[1029 16:45:30 @monitor.py:467]\u001b[0m GAN_loss/d_loss: -0.095361\n",
      "\u001b[32m[1029 16:45:30 @monitor.py:467]\u001b[0m GAN_loss/g_loss: -0.10538\n",
      "\u001b[32m[1029 16:45:30 @monitor.py:467]\u001b[0m GAN_loss/kl_div: 0.10909\n",
      "\u001b[32m[1029 16:45:30 @monitor.py:467]\u001b[0m QueueInput/queue_size: 50\n",
      "\u001b[32m[1029 16:45:30 @base.py:275]\u001b[0m Start Epoch 183 ...\n"
     ]
    },
    {
     "name": "stderr",
     "output_type": "stream",
     "text": [
      "\n",
      "100%|###################################################################################|175/175[00:04<00:00,42.79it/s]"
     ]
    },
    {
     "name": "stdout",
     "output_type": "stream",
     "text": [
      "\u001b[32m[1029 16:45:34 @base.py:285]\u001b[0m Epoch 183 (global_step 48037) finished, time:4.09 seconds.\n",
      "\u001b[32m[1029 16:45:34 @saver.py:79]\u001b[0m Model saved to ../output/Chicago/NOLINKS/model\\model-48037.\n",
      "\u001b[32m[1029 16:45:34 @monitor.py:467]\u001b[0m GAN_loss/d_loss: -0.095237\n",
      "\u001b[32m[1029 16:45:34 @monitor.py:467]\u001b[0m GAN_loss/g_loss: -0.10528\n",
      "\u001b[32m[1029 16:45:34 @monitor.py:467]\u001b[0m GAN_loss/kl_div: 0.096716\n",
      "\u001b[32m[1029 16:45:34 @monitor.py:467]\u001b[0m QueueInput/queue_size: 50\n",
      "\u001b[32m[1029 16:45:34 @base.py:275]\u001b[0m Start Epoch 184 ...\n"
     ]
    },
    {
     "name": "stderr",
     "output_type": "stream",
     "text": [
      "\n",
      "100%|###################################################################################|175/175[00:04<00:00,42.74it/s]"
     ]
    },
    {
     "name": "stdout",
     "output_type": "stream",
     "text": [
      "\u001b[32m[1029 16:45:38 @base.py:285]\u001b[0m Epoch 184 (global_step 48299) finished, time:4.09 seconds.\n",
      "\u001b[32m[1029 16:45:38 @saver.py:79]\u001b[0m Model saved to ../output/Chicago/NOLINKS/model\\model-48299.\n",
      "\u001b[32m[1029 16:45:38 @monitor.py:467]\u001b[0m GAN_loss/d_loss: -0.095065\n",
      "\u001b[32m[1029 16:45:38 @monitor.py:467]\u001b[0m GAN_loss/g_loss: -0.10457\n",
      "\u001b[32m[1029 16:45:38 @monitor.py:467]\u001b[0m GAN_loss/kl_div: 0.10692\n",
      "\u001b[32m[1029 16:45:38 @monitor.py:467]\u001b[0m QueueInput/queue_size: 50\n",
      "\u001b[32m[1029 16:45:38 @base.py:275]\u001b[0m Start Epoch 185 ...\n"
     ]
    },
    {
     "name": "stderr",
     "output_type": "stream",
     "text": [
      "\n",
      "100%|###################################################################################|175/175[00:04<00:00,42.38it/s]"
     ]
    },
    {
     "name": "stdout",
     "output_type": "stream",
     "text": [
      "\u001b[32m[1029 16:45:42 @base.py:285]\u001b[0m Epoch 185 (global_step 48562) finished, time:4.13 seconds.\n",
      "\u001b[32m[1029 16:45:42 @saver.py:79]\u001b[0m Model saved to ../output/Chicago/NOLINKS/model\\model-48562.\n",
      "\u001b[32m[1029 16:45:42 @monitor.py:467]\u001b[0m GAN_loss/d_loss: -0.09635\n",
      "\u001b[32m[1029 16:45:42 @monitor.py:467]\u001b[0m GAN_loss/g_loss: -0.10447\n",
      "\u001b[32m[1029 16:45:42 @monitor.py:467]\u001b[0m GAN_loss/kl_div: 0.099772\n",
      "\u001b[32m[1029 16:45:42 @monitor.py:467]\u001b[0m QueueInput/queue_size: 50\n",
      "\u001b[32m[1029 16:45:42 @base.py:275]\u001b[0m Start Epoch 186 ...\n"
     ]
    },
    {
     "name": "stderr",
     "output_type": "stream",
     "text": [
      "\n",
      "100%|###################################################################################|175/175[00:04<00:00,42.86it/s]"
     ]
    },
    {
     "name": "stdout",
     "output_type": "stream",
     "text": [
      "\u001b[32m[1029 16:45:46 @base.py:285]\u001b[0m Epoch 186 (global_step 48824) finished, time:4.08 seconds.\n",
      "\u001b[32m[1029 16:45:46 @saver.py:79]\u001b[0m Model saved to ../output/Chicago/NOLINKS/model\\model-48824.\n",
      "\u001b[32m[1029 16:45:46 @monitor.py:467]\u001b[0m GAN_loss/d_loss: -0.095877\n",
      "\u001b[32m[1029 16:45:46 @monitor.py:467]\u001b[0m GAN_loss/g_loss: -0.10483\n",
      "\u001b[32m[1029 16:45:46 @monitor.py:467]\u001b[0m GAN_loss/kl_div: 0.10917\n",
      "\u001b[32m[1029 16:45:46 @monitor.py:467]\u001b[0m QueueInput/queue_size: 50\n",
      "\u001b[32m[1029 16:45:46 @base.py:275]\u001b[0m Start Epoch 187 ...\n"
     ]
    },
    {
     "name": "stderr",
     "output_type": "stream",
     "text": [
      "\n",
      "100%|###################################################################################|175/175[00:04<00:00,42.89it/s]"
     ]
    },
    {
     "name": "stdout",
     "output_type": "stream",
     "text": [
      "\u001b[32m[1029 16:45:50 @base.py:285]\u001b[0m Epoch 187 (global_step 49087) finished, time:4.08 seconds.\n",
      "\u001b[32m[1029 16:45:51 @saver.py:79]\u001b[0m Model saved to ../output/Chicago/NOLINKS/model\\model-49087.\n",
      "\u001b[32m[1029 16:45:51 @monitor.py:467]\u001b[0m GAN_loss/d_loss: -0.094146\n",
      "\u001b[32m[1029 16:45:51 @monitor.py:467]\u001b[0m GAN_loss/g_loss: -0.10601\n",
      "\u001b[32m[1029 16:45:51 @monitor.py:467]\u001b[0m GAN_loss/kl_div: 0.10705\n",
      "\u001b[32m[1029 16:45:51 @monitor.py:467]\u001b[0m QueueInput/queue_size: 50\n",
      "\u001b[32m[1029 16:45:51 @base.py:275]\u001b[0m Start Epoch 188 ...\n"
     ]
    },
    {
     "name": "stderr",
     "output_type": "stream",
     "text": [
      "\n",
      "100%|###################################################################################|175/175[00:04<00:00,42.00it/s]"
     ]
    },
    {
     "name": "stdout",
     "output_type": "stream",
     "text": [
      "\u001b[32m[1029 16:45:55 @base.py:285]\u001b[0m Epoch 188 (global_step 49349) finished, time:4.17 seconds.\n",
      "\u001b[32m[1029 16:45:55 @saver.py:79]\u001b[0m Model saved to ../output/Chicago/NOLINKS/model\\model-49349.\n",
      "\u001b[32m[1029 16:45:55 @monitor.py:467]\u001b[0m GAN_loss/d_loss: -0.095163\n",
      "\u001b[32m[1029 16:45:55 @monitor.py:467]\u001b[0m GAN_loss/g_loss: -0.10542\n",
      "\u001b[32m[1029 16:45:55 @monitor.py:467]\u001b[0m GAN_loss/kl_div: 0.10023\n",
      "\u001b[32m[1029 16:45:55 @monitor.py:467]\u001b[0m QueueInput/queue_size: 50\n",
      "\u001b[32m[1029 16:45:55 @base.py:275]\u001b[0m Start Epoch 189 ...\n"
     ]
    },
    {
     "name": "stderr",
     "output_type": "stream",
     "text": [
      "\n",
      "100%|###################################################################################|175/175[00:04<00:00,42.44it/s]"
     ]
    },
    {
     "name": "stdout",
     "output_type": "stream",
     "text": [
      "\u001b[32m[1029 16:45:59 @base.py:285]\u001b[0m Epoch 189 (global_step 49612) finished, time:4.12 seconds.\n",
      "\u001b[32m[1029 16:45:59 @saver.py:79]\u001b[0m Model saved to ../output/Chicago/NOLINKS/model\\model-49612.\n",
      "\u001b[32m[1029 16:45:59 @monitor.py:467]\u001b[0m GAN_loss/d_loss: -0.094759\n",
      "\u001b[32m[1029 16:45:59 @monitor.py:467]\u001b[0m GAN_loss/g_loss: -0.10577\n",
      "\u001b[32m[1029 16:45:59 @monitor.py:467]\u001b[0m GAN_loss/kl_div: 0.10312\n",
      "\u001b[32m[1029 16:45:59 @monitor.py:467]\u001b[0m QueueInput/queue_size: 50\n",
      "\u001b[32m[1029 16:45:59 @base.py:275]\u001b[0m Start Epoch 190 ...\n"
     ]
    },
    {
     "name": "stderr",
     "output_type": "stream",
     "text": [
      "\n",
      "100%|###################################################################################|175/175[00:04<00:00,42.79it/s]"
     ]
    },
    {
     "name": "stdout",
     "output_type": "stream",
     "text": [
      "\u001b[32m[1029 16:46:03 @base.py:285]\u001b[0m Epoch 190 (global_step 49874) finished, time:4.09 seconds.\n",
      "\u001b[32m[1029 16:46:03 @saver.py:79]\u001b[0m Model saved to ../output/Chicago/NOLINKS/model\\model-49874.\n",
      "\u001b[32m[1029 16:46:03 @monitor.py:467]\u001b[0m GAN_loss/d_loss: -0.094317\n",
      "\u001b[32m[1029 16:46:03 @monitor.py:467]\u001b[0m GAN_loss/g_loss: -0.10562\n",
      "\u001b[32m[1029 16:46:03 @monitor.py:467]\u001b[0m GAN_loss/kl_div: 0.10623\n",
      "\u001b[32m[1029 16:46:03 @monitor.py:467]\u001b[0m QueueInput/queue_size: 50\n",
      "\u001b[32m[1029 16:46:03 @base.py:275]\u001b[0m Start Epoch 191 ...\n"
     ]
    },
    {
     "name": "stderr",
     "output_type": "stream",
     "text": [
      "\n",
      "100%|###################################################################################|175/175[00:04<00:00,42.77it/s]"
     ]
    },
    {
     "name": "stdout",
     "output_type": "stream",
     "text": [
      "\u001b[32m[1029 16:46:07 @base.py:285]\u001b[0m Epoch 191 (global_step 50137) finished, time:4.09 seconds.\n",
      "\u001b[32m[1029 16:46:07 @saver.py:79]\u001b[0m Model saved to ../output/Chicago/NOLINKS/model\\model-50137.\n",
      "\u001b[32m[1029 16:46:07 @monitor.py:467]\u001b[0m GAN_loss/d_loss: -0.09409\n",
      "\u001b[32m[1029 16:46:07 @monitor.py:467]\u001b[0m GAN_loss/g_loss: -0.10575\n",
      "\u001b[32m[1029 16:46:07 @monitor.py:467]\u001b[0m GAN_loss/kl_div: 0.097079\n",
      "\u001b[32m[1029 16:46:07 @monitor.py:467]\u001b[0m QueueInput/queue_size: 50\n",
      "\u001b[32m[1029 16:46:07 @base.py:275]\u001b[0m Start Epoch 192 ...\n"
     ]
    },
    {
     "name": "stderr",
     "output_type": "stream",
     "text": [
      "\n",
      "100%|###################################################################################|175/175[00:04<00:00,42.99it/s]"
     ]
    },
    {
     "name": "stdout",
     "output_type": "stream",
     "text": [
      "\u001b[32m[1029 16:46:11 @base.py:285]\u001b[0m Epoch 192 (global_step 50399) finished, time:4.07 seconds.\n",
      "\u001b[32m[1029 16:46:12 @saver.py:79]\u001b[0m Model saved to ../output/Chicago/NOLINKS/model\\model-50399.\n",
      "\u001b[32m[1029 16:46:12 @monitor.py:467]\u001b[0m GAN_loss/d_loss: -0.093894\n",
      "\u001b[32m[1029 16:46:12 @monitor.py:467]\u001b[0m GAN_loss/g_loss: -0.10654\n",
      "\u001b[32m[1029 16:46:12 @monitor.py:467]\u001b[0m GAN_loss/kl_div: 0.099597\n",
      "\u001b[32m[1029 16:46:12 @monitor.py:467]\u001b[0m QueueInput/queue_size: 50\n",
      "\u001b[32m[1029 16:46:12 @base.py:275]\u001b[0m Start Epoch 193 ...\n"
     ]
    },
    {
     "name": "stderr",
     "output_type": "stream",
     "text": [
      "\n",
      "100%|###################################################################################|175/175[00:04<00:00,42.51it/s]"
     ]
    },
    {
     "name": "stdout",
     "output_type": "stream",
     "text": [
      "\u001b[32m[1029 16:46:16 @base.py:285]\u001b[0m Epoch 193 (global_step 50662) finished, time:4.12 seconds.\n",
      "\u001b[32m[1029 16:46:16 @saver.py:79]\u001b[0m Model saved to ../output/Chicago/NOLINKS/model\\model-50662.\n",
      "\u001b[32m[1029 16:46:16 @monitor.py:467]\u001b[0m GAN_loss/d_loss: -0.094376\n",
      "\u001b[32m[1029 16:46:16 @monitor.py:467]\u001b[0m GAN_loss/g_loss: -0.10634\n",
      "\u001b[32m[1029 16:46:16 @monitor.py:467]\u001b[0m GAN_loss/kl_div: 0.10295\n",
      "\u001b[32m[1029 16:46:16 @monitor.py:467]\u001b[0m QueueInput/queue_size: 50\n",
      "\u001b[32m[1029 16:46:16 @base.py:275]\u001b[0m Start Epoch 194 ...\n"
     ]
    },
    {
     "name": "stderr",
     "output_type": "stream",
     "text": [
      "\n",
      "100%|###################################################################################|175/175[00:04<00:00,41.42it/s]"
     ]
    },
    {
     "name": "stdout",
     "output_type": "stream",
     "text": [
      "\u001b[32m[1029 16:46:20 @base.py:285]\u001b[0m Epoch 194 (global_step 50924) finished, time:4.23 seconds.\n",
      "\u001b[32m[1029 16:46:20 @saver.py:79]\u001b[0m Model saved to ../output/Chicago/NOLINKS/model\\model-50924.\n",
      "\u001b[32m[1029 16:46:20 @monitor.py:467]\u001b[0m GAN_loss/d_loss: -0.093367\n",
      "\u001b[32m[1029 16:46:20 @monitor.py:467]\u001b[0m GAN_loss/g_loss: -0.10744\n",
      "\u001b[32m[1029 16:46:20 @monitor.py:467]\u001b[0m GAN_loss/kl_div: 0.10124\n",
      "\u001b[32m[1029 16:46:20 @monitor.py:467]\u001b[0m QueueInput/queue_size: 50\n",
      "\u001b[32m[1029 16:46:20 @base.py:275]\u001b[0m Start Epoch 195 ...\n"
     ]
    },
    {
     "name": "stderr",
     "output_type": "stream",
     "text": [
      "\n",
      "100%|###################################################################################|175/175[00:04<00:00,42.06it/s]"
     ]
    },
    {
     "name": "stdout",
     "output_type": "stream",
     "text": [
      "\u001b[32m[1029 16:46:24 @base.py:285]\u001b[0m Epoch 195 (global_step 51187) finished, time:4.16 seconds.\n",
      "\u001b[32m[1029 16:46:24 @saver.py:79]\u001b[0m Model saved to ../output/Chicago/NOLINKS/model\\model-51187.\n",
      "\u001b[32m[1029 16:46:24 @monitor.py:467]\u001b[0m GAN_loss/d_loss: -0.093752\n",
      "\u001b[32m[1029 16:46:24 @monitor.py:467]\u001b[0m GAN_loss/g_loss: -0.10765\n",
      "\u001b[32m[1029 16:46:24 @monitor.py:467]\u001b[0m GAN_loss/kl_div: 0.10245\n",
      "\u001b[32m[1029 16:46:24 @monitor.py:467]\u001b[0m QueueInput/queue_size: 50\n",
      "\u001b[32m[1029 16:46:24 @base.py:275]\u001b[0m Start Epoch 196 ...\n"
     ]
    },
    {
     "name": "stderr",
     "output_type": "stream",
     "text": [
      "\n",
      "100%|###################################################################################|175/175[00:04<00:00,42.15it/s]"
     ]
    },
    {
     "name": "stdout",
     "output_type": "stream",
     "text": [
      "\u001b[32m[1029 16:46:28 @base.py:285]\u001b[0m Epoch 196 (global_step 51449) finished, time:4.15 seconds.\n",
      "\u001b[32m[1029 16:46:28 @saver.py:79]\u001b[0m Model saved to ../output/Chicago/NOLINKS/model\\model-51449.\n",
      "\u001b[32m[1029 16:46:29 @monitor.py:467]\u001b[0m GAN_loss/d_loss: -0.09285\n",
      "\u001b[32m[1029 16:46:29 @monitor.py:467]\u001b[0m GAN_loss/g_loss: -0.10795\n",
      "\u001b[32m[1029 16:46:29 @monitor.py:467]\u001b[0m GAN_loss/kl_div: 0.10621\n",
      "\u001b[32m[1029 16:46:29 @monitor.py:467]\u001b[0m QueueInput/queue_size: 50\n",
      "\u001b[32m[1029 16:46:29 @base.py:275]\u001b[0m Start Epoch 197 ...\n"
     ]
    },
    {
     "name": "stderr",
     "output_type": "stream",
     "text": [
      "\n",
      "100%|###################################################################################|175/175[00:04<00:00,41.70it/s]"
     ]
    },
    {
     "name": "stdout",
     "output_type": "stream",
     "text": [
      "\u001b[32m[1029 16:46:33 @base.py:285]\u001b[0m Epoch 197 (global_step 51712) finished, time:4.2 seconds.\n",
      "\u001b[32m[1029 16:46:33 @saver.py:79]\u001b[0m Model saved to ../output/Chicago/NOLINKS/model\\model-51712.\n",
      "\u001b[32m[1029 16:46:33 @monitor.py:467]\u001b[0m GAN_loss/d_loss: -0.09306\n",
      "\u001b[32m[1029 16:46:33 @monitor.py:467]\u001b[0m GAN_loss/g_loss: -0.10845\n",
      "\u001b[32m[1029 16:46:33 @monitor.py:467]\u001b[0m GAN_loss/kl_div: 0.092236\n",
      "\u001b[32m[1029 16:46:33 @monitor.py:467]\u001b[0m QueueInput/queue_size: 50\n",
      "\u001b[32m[1029 16:46:33 @base.py:275]\u001b[0m Start Epoch 198 ...\n"
     ]
    },
    {
     "name": "stderr",
     "output_type": "stream",
     "text": [
      "\n",
      "100%|###################################################################################|175/175[00:04<00:00,42.06it/s]"
     ]
    },
    {
     "name": "stdout",
     "output_type": "stream",
     "text": [
      "\u001b[32m[1029 16:46:37 @base.py:285]\u001b[0m Epoch 198 (global_step 51974) finished, time:4.16 seconds.\n",
      "\u001b[32m[1029 16:46:37 @saver.py:79]\u001b[0m Model saved to ../output/Chicago/NOLINKS/model\\model-51974.\n",
      "\u001b[32m[1029 16:46:37 @monitor.py:467]\u001b[0m GAN_loss/d_loss: -0.09218\n",
      "\u001b[32m[1029 16:46:37 @monitor.py:467]\u001b[0m GAN_loss/g_loss: -0.10832\n",
      "\u001b[32m[1029 16:46:37 @monitor.py:467]\u001b[0m GAN_loss/kl_div: 0.095046\n",
      "\u001b[32m[1029 16:46:37 @monitor.py:467]\u001b[0m QueueInput/queue_size: 50\n",
      "\u001b[32m[1029 16:46:37 @base.py:275]\u001b[0m Start Epoch 199 ...\n"
     ]
    },
    {
     "name": "stderr",
     "output_type": "stream",
     "text": [
      "\n",
      "100%|###################################################################################|175/175[00:04<00:00,42.32it/s]"
     ]
    },
    {
     "name": "stdout",
     "output_type": "stream",
     "text": [
      "\u001b[32m[1029 16:46:41 @base.py:285]\u001b[0m Epoch 199 (global_step 52237) finished, time:4.14 seconds.\n",
      "\u001b[32m[1029 16:46:41 @saver.py:79]\u001b[0m Model saved to ../output/Chicago/NOLINKS/model\\model-52237.\n",
      "\u001b[32m[1029 16:46:41 @monitor.py:467]\u001b[0m GAN_loss/d_loss: -0.092367\n",
      "\u001b[32m[1029 16:46:41 @monitor.py:467]\u001b[0m GAN_loss/g_loss: -0.10905\n",
      "\u001b[32m[1029 16:46:41 @monitor.py:467]\u001b[0m GAN_loss/kl_div: 0.095624\n",
      "\u001b[32m[1029 16:46:41 @monitor.py:467]\u001b[0m QueueInput/queue_size: 50\n",
      "\u001b[32m[1029 16:46:41 @base.py:275]\u001b[0m Start Epoch 200 ...\n"
     ]
    },
    {
     "name": "stderr",
     "output_type": "stream",
     "text": [
      "\n",
      "100%|###################################################################################|175/175[00:04<00:00,41.49it/s]"
     ]
    },
    {
     "name": "stdout",
     "output_type": "stream",
     "text": [
      "\u001b[32m[1029 16:46:45 @base.py:285]\u001b[0m Epoch 200 (global_step 52499) finished, time:4.22 seconds.\n"
     ]
    },
    {
     "name": "stderr",
     "output_type": "stream",
     "text": [
      "\n"
     ]
    },
    {
     "name": "stdout",
     "output_type": "stream",
     "text": [
      "\u001b[32m[1029 16:46:46 @saver.py:79]\u001b[0m Model saved to ../output/Chicago/NOLINKS/model\\model-52499.\n",
      "\u001b[32m[1029 16:46:46 @monitor.py:467]\u001b[0m GAN_loss/d_loss: -0.092638\n",
      "\u001b[32m[1029 16:46:46 @monitor.py:467]\u001b[0m GAN_loss/g_loss: -0.10864\n",
      "\u001b[32m[1029 16:46:46 @monitor.py:467]\u001b[0m GAN_loss/kl_div: 0.10438\n",
      "\u001b[32m[1029 16:46:46 @monitor.py:467]\u001b[0m QueueInput/queue_size: 50\n",
      "\u001b[32m[1029 16:46:46 @base.py:275]\u001b[0m Start Epoch 201 ...\n"
     ]
    },
    {
     "name": "stderr",
     "output_type": "stream",
     "text": [
      "100%|###################################################################################|175/175[00:04<00:00,42.69it/s]"
     ]
    },
    {
     "name": "stdout",
     "output_type": "stream",
     "text": [
      "\u001b[32m[1029 16:46:50 @base.py:285]\u001b[0m Epoch 201 (global_step 52762) finished, time:4.1 seconds.\n",
      "\u001b[32m[1029 16:46:50 @saver.py:79]\u001b[0m Model saved to ../output/Chicago/NOLINKS/model\\model-52762.\n",
      "\u001b[32m[1029 16:46:50 @monitor.py:467]\u001b[0m GAN_loss/d_loss: -0.093074\n",
      "\u001b[32m[1029 16:46:50 @monitor.py:467]\u001b[0m GAN_loss/g_loss: -0.10953\n",
      "\u001b[32m[1029 16:46:50 @monitor.py:467]\u001b[0m GAN_loss/kl_div: 0.095922\n",
      "\u001b[32m[1029 16:46:50 @monitor.py:467]\u001b[0m QueueInput/queue_size: 50\n",
      "\u001b[32m[1029 16:46:50 @base.py:275]\u001b[0m Start Epoch 202 ...\n"
     ]
    },
    {
     "name": "stderr",
     "output_type": "stream",
     "text": [
      "\n",
      "100%|###################################################################################|175/175[00:04<00:00,43.03it/s]"
     ]
    },
    {
     "name": "stdout",
     "output_type": "stream",
     "text": [
      "\u001b[32m[1029 16:46:54 @base.py:285]\u001b[0m Epoch 202 (global_step 53024) finished, time:4.07 seconds.\n",
      "\u001b[32m[1029 16:46:54 @saver.py:79]\u001b[0m Model saved to ../output/Chicago/NOLINKS/model\\model-53024.\n",
      "\u001b[32m[1029 16:46:54 @monitor.py:467]\u001b[0m GAN_loss/d_loss: -0.0905\n",
      "\u001b[32m[1029 16:46:54 @monitor.py:467]\u001b[0m GAN_loss/g_loss: -0.11029\n",
      "\u001b[32m[1029 16:46:54 @monitor.py:467]\u001b[0m GAN_loss/kl_div: 0.094922\n",
      "\u001b[32m[1029 16:46:54 @monitor.py:467]\u001b[0m QueueInput/queue_size: 50\n",
      "\u001b[32m[1029 16:46:54 @base.py:275]\u001b[0m Start Epoch 203 ...\n"
     ]
    },
    {
     "name": "stderr",
     "output_type": "stream",
     "text": [
      "\n",
      "100%|###################################################################################|175/175[00:04<00:00,43.00it/s]"
     ]
    },
    {
     "name": "stdout",
     "output_type": "stream",
     "text": [
      "\u001b[32m[1029 16:46:58 @base.py:285]\u001b[0m Epoch 203 (global_step 53287) finished, time:4.07 seconds.\n",
      "\u001b[32m[1029 16:46:58 @saver.py:79]\u001b[0m Model saved to ../output/Chicago/NOLINKS/model\\model-53287.\n",
      "\u001b[32m[1029 16:46:58 @monitor.py:467]\u001b[0m GAN_loss/d_loss: -0.091379\n",
      "\u001b[32m[1029 16:46:58 @monitor.py:467]\u001b[0m GAN_loss/g_loss: -0.10976\n",
      "\u001b[32m[1029 16:46:58 @monitor.py:467]\u001b[0m GAN_loss/kl_div: 0.10773\n",
      "\u001b[32m[1029 16:46:58 @monitor.py:467]\u001b[0m QueueInput/queue_size: 50\n",
      "\u001b[32m[1029 16:46:58 @base.py:275]\u001b[0m Start Epoch 204 ...\n"
     ]
    },
    {
     "name": "stderr",
     "output_type": "stream",
     "text": [
      "\n",
      "100%|###################################################################################|175/175[00:04<00:00,43.10it/s]"
     ]
    },
    {
     "name": "stdout",
     "output_type": "stream",
     "text": [
      "\u001b[32m[1029 16:47:02 @base.py:285]\u001b[0m Epoch 204 (global_step 53549) finished, time:4.06 seconds.\n",
      "\u001b[32m[1029 16:47:02 @saver.py:79]\u001b[0m Model saved to ../output/Chicago/NOLINKS/model\\model-53549.\n",
      "\u001b[32m[1029 16:47:02 @monitor.py:467]\u001b[0m GAN_loss/d_loss: -0.091745\n",
      "\u001b[32m[1029 16:47:02 @monitor.py:467]\u001b[0m GAN_loss/g_loss: -0.11034\n",
      "\u001b[32m[1029 16:47:02 @monitor.py:467]\u001b[0m GAN_loss/kl_div: 0.099864\n",
      "\u001b[32m[1029 16:47:02 @monitor.py:467]\u001b[0m QueueInput/queue_size: 50\n",
      "\u001b[32m[1029 16:47:02 @base.py:275]\u001b[0m Start Epoch 205 ...\n"
     ]
    },
    {
     "name": "stderr",
     "output_type": "stream",
     "text": [
      "\n",
      "100%|###################################################################################|175/175[00:04<00:00,42.29it/s]"
     ]
    },
    {
     "name": "stdout",
     "output_type": "stream",
     "text": [
      "\u001b[32m[1029 16:47:06 @base.py:285]\u001b[0m Epoch 205 (global_step 53812) finished, time:4.14 seconds.\n",
      "\u001b[32m[1029 16:47:06 @saver.py:79]\u001b[0m Model saved to ../output/Chicago/NOLINKS/model\\model-53812.\n",
      "\u001b[32m[1029 16:47:06 @monitor.py:467]\u001b[0m GAN_loss/d_loss: -0.092034\n",
      "\u001b[32m[1029 16:47:06 @monitor.py:467]\u001b[0m GAN_loss/g_loss: -0.1097\n",
      "\u001b[32m[1029 16:47:06 @monitor.py:467]\u001b[0m GAN_loss/kl_div: 0.1019\n",
      "\u001b[32m[1029 16:47:06 @monitor.py:467]\u001b[0m QueueInput/queue_size: 50\n",
      "\u001b[32m[1029 16:47:06 @base.py:275]\u001b[0m Start Epoch 206 ...\n"
     ]
    },
    {
     "name": "stderr",
     "output_type": "stream",
     "text": [
      "\n",
      "100%|###################################################################################|175/175[00:04<00:00,43.10it/s]"
     ]
    },
    {
     "name": "stdout",
     "output_type": "stream",
     "text": [
      "\u001b[32m[1029 16:47:10 @base.py:285]\u001b[0m Epoch 206 (global_step 54074) finished, time:4.06 seconds.\n",
      "\u001b[32m[1029 16:47:10 @saver.py:79]\u001b[0m Model saved to ../output/Chicago/NOLINKS/model\\model-54074.\n",
      "\u001b[32m[1029 16:47:11 @monitor.py:467]\u001b[0m GAN_loss/d_loss: -0.090224\n",
      "\u001b[32m[1029 16:47:11 @monitor.py:467]\u001b[0m GAN_loss/g_loss: -0.1105\n",
      "\u001b[32m[1029 16:47:11 @monitor.py:467]\u001b[0m GAN_loss/kl_div: 0.1007\n",
      "\u001b[32m[1029 16:47:11 @monitor.py:467]\u001b[0m QueueInput/queue_size: 50\n",
      "\u001b[32m[1029 16:47:11 @base.py:275]\u001b[0m Start Epoch 207 ...\n"
     ]
    },
    {
     "name": "stderr",
     "output_type": "stream",
     "text": [
      "\n",
      "100%|###################################################################################|175/175[00:04<00:00,42.89it/s]"
     ]
    },
    {
     "name": "stdout",
     "output_type": "stream",
     "text": [
      "\u001b[32m[1029 16:47:15 @base.py:285]\u001b[0m Epoch 207 (global_step 54337) finished, time:4.08 seconds.\n",
      "\u001b[32m[1029 16:47:15 @saver.py:79]\u001b[0m Model saved to ../output/Chicago/NOLINKS/model\\model-54337.\n",
      "\u001b[32m[1029 16:47:15 @monitor.py:467]\u001b[0m GAN_loss/d_loss: -0.091239\n",
      "\u001b[32m[1029 16:47:15 @monitor.py:467]\u001b[0m GAN_loss/g_loss: -0.11045\n",
      "\u001b[32m[1029 16:47:15 @monitor.py:467]\u001b[0m GAN_loss/kl_div: 0.099451\n",
      "\u001b[32m[1029 16:47:15 @monitor.py:467]\u001b[0m QueueInput/queue_size: 50\n",
      "\u001b[32m[1029 16:47:15 @base.py:275]\u001b[0m Start Epoch 208 ...\n"
     ]
    },
    {
     "name": "stderr",
     "output_type": "stream",
     "text": [
      "\n",
      "100%|###################################################################################|175/175[00:04<00:00,43.14it/s]"
     ]
    },
    {
     "name": "stdout",
     "output_type": "stream",
     "text": [
      "\u001b[32m[1029 16:47:19 @base.py:285]\u001b[0m Epoch 208 (global_step 54599) finished, time:4.06 seconds.\n",
      "\u001b[32m[1029 16:47:19 @saver.py:79]\u001b[0m Model saved to ../output/Chicago/NOLINKS/model\\model-54599.\n",
      "\u001b[32m[1029 16:47:19 @monitor.py:467]\u001b[0m GAN_loss/d_loss: -0.091738\n",
      "\u001b[32m[1029 16:47:19 @monitor.py:467]\u001b[0m GAN_loss/g_loss: -0.11079\n",
      "\u001b[32m[1029 16:47:19 @monitor.py:467]\u001b[0m GAN_loss/kl_div: 0.10298\n",
      "\u001b[32m[1029 16:47:19 @monitor.py:467]\u001b[0m QueueInput/queue_size: 50\n",
      "\u001b[32m[1029 16:47:19 @base.py:275]\u001b[0m Start Epoch 209 ...\n"
     ]
    },
    {
     "name": "stderr",
     "output_type": "stream",
     "text": [
      "\n",
      "100%|###################################################################################|175/175[00:04<00:00,42.23it/s]"
     ]
    },
    {
     "name": "stdout",
     "output_type": "stream",
     "text": [
      "\u001b[32m[1029 16:47:23 @base.py:285]\u001b[0m Epoch 209 (global_step 54862) finished, time:4.14 seconds.\n",
      "\u001b[32m[1029 16:47:23 @saver.py:79]\u001b[0m Model saved to ../output/Chicago/NOLINKS/model\\model-54862.\n",
      "\u001b[32m[1029 16:47:23 @monitor.py:467]\u001b[0m GAN_loss/d_loss: -0.091255\n",
      "\u001b[32m[1029 16:47:23 @monitor.py:467]\u001b[0m GAN_loss/g_loss: -0.11096\n",
      "\u001b[32m[1029 16:47:23 @monitor.py:467]\u001b[0m GAN_loss/kl_div: 0.10214\n",
      "\u001b[32m[1029 16:47:23 @monitor.py:467]\u001b[0m QueueInput/queue_size: 50\n",
      "\u001b[32m[1029 16:47:23 @base.py:275]\u001b[0m Start Epoch 210 ...\n"
     ]
    },
    {
     "name": "stderr",
     "output_type": "stream",
     "text": [
      "\n",
      "100%|###################################################################################|175/175[00:04<00:00,42.62it/s]"
     ]
    },
    {
     "name": "stdout",
     "output_type": "stream",
     "text": [
      "\u001b[32m[1029 16:47:27 @base.py:285]\u001b[0m Epoch 210 (global_step 55124) finished, time:4.11 seconds.\n",
      "\u001b[32m[1029 16:47:27 @saver.py:79]\u001b[0m Model saved to ../output/Chicago/NOLINKS/model\\model-55124.\n",
      "\u001b[32m[1029 16:47:27 @monitor.py:467]\u001b[0m GAN_loss/d_loss: -0.09017\n",
      "\u001b[32m[1029 16:47:27 @monitor.py:467]\u001b[0m GAN_loss/g_loss: -0.11116\n",
      "\u001b[32m[1029 16:47:27 @monitor.py:467]\u001b[0m GAN_loss/kl_div: 0.10554\n",
      "\u001b[32m[1029 16:47:27 @monitor.py:467]\u001b[0m QueueInput/queue_size: 50\n",
      "\u001b[32m[1029 16:47:27 @base.py:275]\u001b[0m Start Epoch 211 ...\n"
     ]
    },
    {
     "name": "stderr",
     "output_type": "stream",
     "text": [
      "\n",
      "100%|###################################################################################|175/175[00:04<00:00,41.88it/s]"
     ]
    },
    {
     "name": "stdout",
     "output_type": "stream",
     "text": [
      "\u001b[32m[1029 16:47:31 @base.py:285]\u001b[0m Epoch 211 (global_step 55387) finished, time:4.18 seconds.\n",
      "\u001b[32m[1029 16:47:31 @saver.py:79]\u001b[0m Model saved to ../output/Chicago/NOLINKS/model\\model-55387.\n",
      "\u001b[32m[1029 16:47:32 @monitor.py:467]\u001b[0m GAN_loss/d_loss: -0.090567\n",
      "\u001b[32m[1029 16:47:32 @monitor.py:467]\u001b[0m GAN_loss/g_loss: -0.11001\n",
      "\u001b[32m[1029 16:47:32 @monitor.py:467]\u001b[0m GAN_loss/kl_div: 0.10081\n",
      "\u001b[32m[1029 16:47:32 @monitor.py:467]\u001b[0m QueueInput/queue_size: 50\n",
      "\u001b[32m[1029 16:47:32 @base.py:275]\u001b[0m Start Epoch 212 ...\n"
     ]
    },
    {
     "name": "stderr",
     "output_type": "stream",
     "text": [
      "\n",
      "100%|###################################################################################|175/175[00:04<00:00,42.57it/s]"
     ]
    },
    {
     "name": "stdout",
     "output_type": "stream",
     "text": [
      "\u001b[32m[1029 16:47:36 @base.py:285]\u001b[0m Epoch 212 (global_step 55649) finished, time:4.11 seconds.\n",
      "\u001b[32m[1029 16:47:36 @saver.py:79]\u001b[0m Model saved to ../output/Chicago/NOLINKS/model\\model-55649.\n",
      "\u001b[32m[1029 16:47:36 @monitor.py:467]\u001b[0m GAN_loss/d_loss: -0.089669\n",
      "\u001b[32m[1029 16:47:36 @monitor.py:467]\u001b[0m GAN_loss/g_loss: -0.11159\n",
      "\u001b[32m[1029 16:47:36 @monitor.py:467]\u001b[0m GAN_loss/kl_div: 0.10287\n",
      "\u001b[32m[1029 16:47:36 @monitor.py:467]\u001b[0m QueueInput/queue_size: 50\n",
      "\u001b[32m[1029 16:47:36 @base.py:275]\u001b[0m Start Epoch 213 ...\n"
     ]
    },
    {
     "name": "stderr",
     "output_type": "stream",
     "text": [
      "\n",
      "100%|###################################################################################|175/175[00:04<00:00,42.97it/s]"
     ]
    },
    {
     "name": "stdout",
     "output_type": "stream",
     "text": [
      "\u001b[32m[1029 16:47:40 @base.py:285]\u001b[0m Epoch 213 (global_step 55912) finished, time:4.07 seconds.\n",
      "\u001b[32m[1029 16:47:40 @saver.py:79]\u001b[0m Model saved to ../output/Chicago/NOLINKS/model\\model-55912.\n",
      "\u001b[32m[1029 16:47:40 @monitor.py:467]\u001b[0m GAN_loss/d_loss: -0.088912\n",
      "\u001b[32m[1029 16:47:40 @monitor.py:467]\u001b[0m GAN_loss/g_loss: -0.11229\n",
      "\u001b[32m[1029 16:47:40 @monitor.py:467]\u001b[0m GAN_loss/kl_div: 0.10124\n",
      "\u001b[32m[1029 16:47:40 @monitor.py:467]\u001b[0m QueueInput/queue_size: 50\n",
      "\u001b[32m[1029 16:47:40 @base.py:275]\u001b[0m Start Epoch 214 ...\n"
     ]
    },
    {
     "name": "stderr",
     "output_type": "stream",
     "text": [
      "\n",
      "100%|###################################################################################|175/175[00:04<00:00,42.79it/s]"
     ]
    },
    {
     "name": "stdout",
     "output_type": "stream",
     "text": [
      "\u001b[32m[1029 16:47:44 @base.py:285]\u001b[0m Epoch 214 (global_step 56174) finished, time:4.09 seconds.\n",
      "\u001b[32m[1029 16:47:44 @saver.py:79]\u001b[0m Model saved to ../output/Chicago/NOLINKS/model\\model-56174.\n",
      "\u001b[32m[1029 16:47:44 @monitor.py:467]\u001b[0m GAN_loss/d_loss: -0.089122\n",
      "\u001b[32m[1029 16:47:44 @monitor.py:467]\u001b[0m GAN_loss/g_loss: -0.11155\n",
      "\u001b[32m[1029 16:47:44 @monitor.py:467]\u001b[0m GAN_loss/kl_div: 0.10236\n",
      "\u001b[32m[1029 16:47:44 @monitor.py:467]\u001b[0m QueueInput/queue_size: 50\n",
      "\u001b[32m[1029 16:47:44 @base.py:275]\u001b[0m Start Epoch 215 ...\n"
     ]
    },
    {
     "name": "stderr",
     "output_type": "stream",
     "text": [
      "\n",
      "100%|###################################################################################|175/175[00:04<00:00,42.99it/s]"
     ]
    },
    {
     "name": "stdout",
     "output_type": "stream",
     "text": [
      "\u001b[32m[1029 16:47:48 @base.py:285]\u001b[0m Epoch 215 (global_step 56437) finished, time:4.07 seconds.\n",
      "\u001b[32m[1029 16:47:48 @saver.py:79]\u001b[0m Model saved to ../output/Chicago/NOLINKS/model\\model-56437.\n",
      "\u001b[32m[1029 16:47:48 @monitor.py:467]\u001b[0m GAN_loss/d_loss: -0.089092\n",
      "\u001b[32m[1029 16:47:48 @monitor.py:467]\u001b[0m GAN_loss/g_loss: -0.11138\n",
      "\u001b[32m[1029 16:47:48 @monitor.py:467]\u001b[0m GAN_loss/kl_div: 0.10294\n",
      "\u001b[32m[1029 16:47:48 @monitor.py:467]\u001b[0m QueueInput/queue_size: 50\n",
      "\u001b[32m[1029 16:47:48 @base.py:275]\u001b[0m Start Epoch 216 ...\n"
     ]
    },
    {
     "name": "stderr",
     "output_type": "stream",
     "text": [
      "\n",
      "100%|###################################################################################|175/175[00:04<00:00,42.94it/s]"
     ]
    },
    {
     "name": "stdout",
     "output_type": "stream",
     "text": [
      "\u001b[32m[1029 16:47:52 @base.py:285]\u001b[0m Epoch 216 (global_step 56699) finished, time:4.08 seconds.\n",
      "\u001b[32m[1029 16:47:52 @saver.py:79]\u001b[0m Model saved to ../output/Chicago/NOLINKS/model\\model-56699.\n",
      "\u001b[32m[1029 16:47:52 @monitor.py:467]\u001b[0m GAN_loss/d_loss: -0.089751\n",
      "\u001b[32m[1029 16:47:52 @monitor.py:467]\u001b[0m GAN_loss/g_loss: -0.11221\n",
      "\u001b[32m[1029 16:47:52 @monitor.py:467]\u001b[0m GAN_loss/kl_div: 0.10067\n",
      "\u001b[32m[1029 16:47:52 @monitor.py:467]\u001b[0m QueueInput/queue_size: 50\n",
      "\u001b[32m[1029 16:47:52 @base.py:275]\u001b[0m Start Epoch 217 ...\n"
     ]
    },
    {
     "name": "stderr",
     "output_type": "stream",
     "text": [
      "\n",
      "100%|###################################################################################|175/175[00:04<00:00,43.08it/s]"
     ]
    },
    {
     "name": "stdout",
     "output_type": "stream",
     "text": [
      "\u001b[32m[1029 16:47:56 @base.py:285]\u001b[0m Epoch 217 (global_step 56962) finished, time:4.06 seconds.\n",
      "\u001b[32m[1029 16:47:56 @saver.py:79]\u001b[0m Model saved to ../output/Chicago/NOLINKS/model\\model-56962.\n",
      "\u001b[32m[1029 16:47:56 @monitor.py:467]\u001b[0m GAN_loss/d_loss: -0.089472\n",
      "\u001b[32m[1029 16:47:56 @monitor.py:467]\u001b[0m GAN_loss/g_loss: -0.11144\n",
      "\u001b[32m[1029 16:47:56 @monitor.py:467]\u001b[0m GAN_loss/kl_div: 0.098931\n",
      "\u001b[32m[1029 16:47:56 @monitor.py:467]\u001b[0m QueueInput/queue_size: 50\n",
      "\u001b[32m[1029 16:47:56 @base.py:275]\u001b[0m Start Epoch 218 ...\n"
     ]
    },
    {
     "name": "stderr",
     "output_type": "stream",
     "text": [
      "\n",
      "100%|###################################################################################|175/175[00:04<00:00,43.00it/s]"
     ]
    },
    {
     "name": "stdout",
     "output_type": "stream",
     "text": [
      "\u001b[32m[1029 16:48:01 @base.py:285]\u001b[0m Epoch 218 (global_step 57224) finished, time:4.07 seconds.\n",
      "\u001b[32m[1029 16:48:01 @saver.py:79]\u001b[0m Model saved to ../output/Chicago/NOLINKS/model\\model-57224.\n",
      "\u001b[32m[1029 16:48:01 @monitor.py:467]\u001b[0m GAN_loss/d_loss: -0.089589\n",
      "\u001b[32m[1029 16:48:01 @monitor.py:467]\u001b[0m GAN_loss/g_loss: -0.11178\n",
      "\u001b[32m[1029 16:48:01 @monitor.py:467]\u001b[0m GAN_loss/kl_div: 0.10457\n",
      "\u001b[32m[1029 16:48:01 @monitor.py:467]\u001b[0m QueueInput/queue_size: 50\n",
      "\u001b[32m[1029 16:48:01 @base.py:275]\u001b[0m Start Epoch 219 ...\n"
     ]
    },
    {
     "name": "stderr",
     "output_type": "stream",
     "text": [
      "\n",
      "100%|###################################################################################|175/175[00:04<00:00,42.69it/s]"
     ]
    },
    {
     "name": "stdout",
     "output_type": "stream",
     "text": [
      "\u001b[32m[1029 16:48:05 @base.py:285]\u001b[0m Epoch 219 (global_step 57487) finished, time:4.1 seconds.\n",
      "\u001b[32m[1029 16:48:05 @saver.py:79]\u001b[0m Model saved to ../output/Chicago/NOLINKS/model\\model-57487.\n",
      "\u001b[32m[1029 16:48:05 @monitor.py:467]\u001b[0m GAN_loss/d_loss: -0.088496\n",
      "\u001b[32m[1029 16:48:05 @monitor.py:467]\u001b[0m GAN_loss/g_loss: -0.11143\n",
      "\u001b[32m[1029 16:48:05 @monitor.py:467]\u001b[0m GAN_loss/kl_div: 0.1061\n",
      "\u001b[32m[1029 16:48:05 @monitor.py:467]\u001b[0m QueueInput/queue_size: 50\n",
      "\u001b[32m[1029 16:48:05 @base.py:275]\u001b[0m Start Epoch 220 ...\n"
     ]
    },
    {
     "name": "stderr",
     "output_type": "stream",
     "text": [
      "\n",
      "100%|###################################################################################|175/175[00:04<00:00,43.04it/s]"
     ]
    },
    {
     "name": "stdout",
     "output_type": "stream",
     "text": [
      "\u001b[32m[1029 16:48:09 @base.py:285]\u001b[0m Epoch 220 (global_step 57749) finished, time:4.07 seconds.\n",
      "\u001b[32m[1029 16:48:09 @saver.py:79]\u001b[0m Model saved to ../output/Chicago/NOLINKS/model\\model-57749.\n",
      "\u001b[32m[1029 16:48:09 @monitor.py:467]\u001b[0m GAN_loss/d_loss: -0.087733\n",
      "\u001b[32m[1029 16:48:09 @monitor.py:467]\u001b[0m GAN_loss/g_loss: -0.1122\n",
      "\u001b[32m[1029 16:48:09 @monitor.py:467]\u001b[0m GAN_loss/kl_div: 0.1079\n",
      "\u001b[32m[1029 16:48:09 @monitor.py:467]\u001b[0m QueueInput/queue_size: 50\n",
      "\u001b[32m[1029 16:48:09 @base.py:275]\u001b[0m Start Epoch 221 ...\n"
     ]
    },
    {
     "name": "stderr",
     "output_type": "stream",
     "text": [
      "\n",
      "100%|###################################################################################|175/175[00:04<00:00,42.85it/s]"
     ]
    },
    {
     "name": "stdout",
     "output_type": "stream",
     "text": [
      "\u001b[32m[1029 16:48:13 @base.py:285]\u001b[0m Epoch 221 (global_step 58012) finished, time:4.08 seconds.\n",
      "\u001b[32m[1029 16:48:13 @saver.py:79]\u001b[0m Model saved to ../output/Chicago/NOLINKS/model\\model-58012.\n",
      "\u001b[32m[1029 16:48:13 @monitor.py:467]\u001b[0m GAN_loss/d_loss: -0.087774\n",
      "\u001b[32m[1029 16:48:13 @monitor.py:467]\u001b[0m GAN_loss/g_loss: -0.11254\n",
      "\u001b[32m[1029 16:48:13 @monitor.py:467]\u001b[0m GAN_loss/kl_div: 0.098081\n",
      "\u001b[32m[1029 16:48:13 @monitor.py:467]\u001b[0m QueueInput/queue_size: 50\n",
      "\u001b[32m[1029 16:48:13 @base.py:275]\u001b[0m Start Epoch 222 ...\n"
     ]
    },
    {
     "name": "stderr",
     "output_type": "stream",
     "text": [
      "\n",
      "100%|###################################################################################|175/175[00:04<00:00,43.18it/s]"
     ]
    },
    {
     "name": "stdout",
     "output_type": "stream",
     "text": [
      "\u001b[32m[1029 16:48:17 @base.py:285]\u001b[0m Epoch 222 (global_step 58274) finished, time:4.05 seconds.\n",
      "\u001b[32m[1029 16:48:17 @saver.py:79]\u001b[0m Model saved to ../output/Chicago/NOLINKS/model\\model-58274.\n",
      "\u001b[32m[1029 16:48:17 @monitor.py:467]\u001b[0m GAN_loss/d_loss: -0.08732\n",
      "\u001b[32m[1029 16:48:17 @monitor.py:467]\u001b[0m GAN_loss/g_loss: -0.11196\n",
      "\u001b[32m[1029 16:48:17 @monitor.py:467]\u001b[0m GAN_loss/kl_div: 0.11298\n",
      "\u001b[32m[1029 16:48:17 @monitor.py:467]\u001b[0m QueueInput/queue_size: 50\n",
      "\u001b[32m[1029 16:48:17 @base.py:275]\u001b[0m Start Epoch 223 ...\n"
     ]
    },
    {
     "name": "stderr",
     "output_type": "stream",
     "text": [
      "\n",
      "100%|###################################################################################|175/175[00:04<00:00,42.57it/s]"
     ]
    },
    {
     "name": "stdout",
     "output_type": "stream",
     "text": [
      "\u001b[32m[1029 16:48:21 @base.py:285]\u001b[0m Epoch 223 (global_step 58537) finished, time:4.11 seconds.\n",
      "\u001b[32m[1029 16:48:21 @saver.py:79]\u001b[0m Model saved to ../output/Chicago/NOLINKS/model\\model-58537.\n",
      "\u001b[32m[1029 16:48:21 @monitor.py:467]\u001b[0m GAN_loss/d_loss: -0.088529\n",
      "\u001b[32m[1029 16:48:21 @monitor.py:467]\u001b[0m GAN_loss/g_loss: -0.11189\n",
      "\u001b[32m[1029 16:48:21 @monitor.py:467]\u001b[0m GAN_loss/kl_div: 0.09862\n",
      "\u001b[32m[1029 16:48:21 @monitor.py:467]\u001b[0m QueueInput/queue_size: 50\n",
      "\u001b[32m[1029 16:48:21 @base.py:275]\u001b[0m Start Epoch 224 ...\n"
     ]
    },
    {
     "name": "stderr",
     "output_type": "stream",
     "text": [
      "\n",
      "100%|###################################################################################|175/175[00:04<00:00,42.81it/s]"
     ]
    },
    {
     "name": "stdout",
     "output_type": "stream",
     "text": [
      "\u001b[32m[1029 16:48:26 @base.py:285]\u001b[0m Epoch 224 (global_step 58799) finished, time:4.09 seconds.\n",
      "\u001b[32m[1029 16:48:26 @saver.py:79]\u001b[0m Model saved to ../output/Chicago/NOLINKS/model\\model-58799.\n",
      "\u001b[32m[1029 16:48:26 @monitor.py:467]\u001b[0m GAN_loss/d_loss: -0.086082\n",
      "\u001b[32m[1029 16:48:26 @monitor.py:467]\u001b[0m GAN_loss/g_loss: -0.11216\n",
      "\u001b[32m[1029 16:48:26 @monitor.py:467]\u001b[0m GAN_loss/kl_div: 0.099289\n",
      "\u001b[32m[1029 16:48:26 @monitor.py:467]\u001b[0m QueueInput/queue_size: 50\n",
      "\u001b[32m[1029 16:48:26 @base.py:275]\u001b[0m Start Epoch 225 ...\n"
     ]
    },
    {
     "name": "stderr",
     "output_type": "stream",
     "text": [
      "\n",
      "100%|###################################################################################|175/175[00:04<00:00,42.83it/s]"
     ]
    },
    {
     "name": "stdout",
     "output_type": "stream",
     "text": [
      "\u001b[32m[1029 16:48:30 @base.py:285]\u001b[0m Epoch 225 (global_step 59062) finished, time:4.09 seconds.\n",
      "\u001b[32m[1029 16:48:30 @saver.py:79]\u001b[0m Model saved to ../output/Chicago/NOLINKS/model\\model-59062.\n",
      "\u001b[32m[1029 16:48:30 @monitor.py:467]\u001b[0m GAN_loss/d_loss: -0.08727\n",
      "\u001b[32m[1029 16:48:30 @monitor.py:467]\u001b[0m GAN_loss/g_loss: -0.11304\n",
      "\u001b[32m[1029 16:48:30 @monitor.py:467]\u001b[0m GAN_loss/kl_div: 0.11149\n",
      "\u001b[32m[1029 16:48:30 @monitor.py:467]\u001b[0m QueueInput/queue_size: 50\n",
      "\u001b[32m[1029 16:48:30 @base.py:275]\u001b[0m Start Epoch 226 ...\n"
     ]
    },
    {
     "name": "stderr",
     "output_type": "stream",
     "text": [
      "\n",
      "100%|###################################################################################|175/175[00:04<00:00,42.75it/s]"
     ]
    },
    {
     "name": "stdout",
     "output_type": "stream",
     "text": [
      "\u001b[32m[1029 16:48:34 @base.py:285]\u001b[0m Epoch 226 (global_step 59324) finished, time:4.09 seconds.\n",
      "\u001b[32m[1029 16:48:34 @saver.py:79]\u001b[0m Model saved to ../output/Chicago/NOLINKS/model\\model-59324.\n",
      "\u001b[32m[1029 16:48:34 @monitor.py:467]\u001b[0m GAN_loss/d_loss: -0.086563\n",
      "\u001b[32m[1029 16:48:34 @monitor.py:467]\u001b[0m GAN_loss/g_loss: -0.11268\n",
      "\u001b[32m[1029 16:48:34 @monitor.py:467]\u001b[0m GAN_loss/kl_div: 0.10286\n",
      "\u001b[32m[1029 16:48:34 @monitor.py:467]\u001b[0m QueueInput/queue_size: 50\n",
      "\u001b[32m[1029 16:48:34 @base.py:275]\u001b[0m Start Epoch 227 ...\n"
     ]
    },
    {
     "name": "stderr",
     "output_type": "stream",
     "text": [
      "\n",
      "100%|###################################################################################|175/175[00:04<00:00,42.70it/s]"
     ]
    },
    {
     "name": "stdout",
     "output_type": "stream",
     "text": [
      "\u001b[32m[1029 16:48:38 @base.py:285]\u001b[0m Epoch 227 (global_step 59587) finished, time:4.1 seconds.\n",
      "\u001b[32m[1029 16:48:38 @saver.py:79]\u001b[0m Model saved to ../output/Chicago/NOLINKS/model\\model-59587.\n",
      "\u001b[32m[1029 16:48:38 @monitor.py:467]\u001b[0m GAN_loss/d_loss: -0.087237\n",
      "\u001b[32m[1029 16:48:38 @monitor.py:467]\u001b[0m GAN_loss/g_loss: -0.11267\n",
      "\u001b[32m[1029 16:48:38 @monitor.py:467]\u001b[0m GAN_loss/kl_div: 0.10743\n",
      "\u001b[32m[1029 16:48:38 @monitor.py:467]\u001b[0m QueueInput/queue_size: 50\n",
      "\u001b[32m[1029 16:48:38 @base.py:275]\u001b[0m Start Epoch 228 ...\n"
     ]
    },
    {
     "name": "stderr",
     "output_type": "stream",
     "text": [
      "\n",
      "100%|###################################################################################|175/175[00:04<00:00,42.87it/s]"
     ]
    },
    {
     "name": "stdout",
     "output_type": "stream",
     "text": [
      "\u001b[32m[1029 16:48:42 @base.py:285]\u001b[0m Epoch 228 (global_step 59849) finished, time:4.08 seconds.\n",
      "\u001b[32m[1029 16:48:42 @saver.py:79]\u001b[0m Model saved to ../output/Chicago/NOLINKS/model\\model-59849.\n",
      "\u001b[32m[1029 16:48:42 @monitor.py:467]\u001b[0m GAN_loss/d_loss: -0.086116\n",
      "\u001b[32m[1029 16:48:42 @monitor.py:467]\u001b[0m GAN_loss/g_loss: -0.11201\n",
      "\u001b[32m[1029 16:48:42 @monitor.py:467]\u001b[0m GAN_loss/kl_div: 0.10457\n",
      "\u001b[32m[1029 16:48:42 @monitor.py:467]\u001b[0m QueueInput/queue_size: 50\n",
      "\u001b[32m[1029 16:48:42 @base.py:275]\u001b[0m Start Epoch 229 ...\n"
     ]
    },
    {
     "name": "stderr",
     "output_type": "stream",
     "text": [
      "\n",
      "100%|###################################################################################|175/175[00:04<00:00,42.78it/s]"
     ]
    },
    {
     "name": "stdout",
     "output_type": "stream",
     "text": [
      "\u001b[32m[1029 16:48:46 @base.py:285]\u001b[0m Epoch 229 (global_step 60112) finished, time:4.09 seconds.\n",
      "\u001b[32m[1029 16:48:46 @saver.py:79]\u001b[0m Model saved to ../output/Chicago/NOLINKS/model\\model-60112.\n",
      "\u001b[32m[1029 16:48:46 @monitor.py:467]\u001b[0m GAN_loss/d_loss: -0.086338\n",
      "\u001b[32m[1029 16:48:46 @monitor.py:467]\u001b[0m GAN_loss/g_loss: -0.11321\n",
      "\u001b[32m[1029 16:48:46 @monitor.py:467]\u001b[0m GAN_loss/kl_div: 0.1017\n",
      "\u001b[32m[1029 16:48:46 @monitor.py:467]\u001b[0m QueueInput/queue_size: 50\n",
      "\u001b[32m[1029 16:48:46 @base.py:275]\u001b[0m Start Epoch 230 ...\n"
     ]
    },
    {
     "name": "stderr",
     "output_type": "stream",
     "text": [
      "\n",
      "100%|###################################################################################|175/175[00:04<00:00,42.97it/s]"
     ]
    },
    {
     "name": "stdout",
     "output_type": "stream",
     "text": [
      "\u001b[32m[1029 16:48:51 @base.py:285]\u001b[0m Epoch 230 (global_step 60374) finished, time:4.07 seconds.\n",
      "\u001b[32m[1029 16:48:51 @saver.py:79]\u001b[0m Model saved to ../output/Chicago/NOLINKS/model\\model-60374.\n",
      "\u001b[32m[1029 16:48:51 @monitor.py:467]\u001b[0m GAN_loss/d_loss: -0.08796\n",
      "\u001b[32m[1029 16:48:51 @monitor.py:467]\u001b[0m GAN_loss/g_loss: -0.11248\n",
      "\u001b[32m[1029 16:48:51 @monitor.py:467]\u001b[0m GAN_loss/kl_div: 0.10035\n",
      "\u001b[32m[1029 16:48:51 @monitor.py:467]\u001b[0m QueueInput/queue_size: 50\n",
      "\u001b[32m[1029 16:48:51 @base.py:275]\u001b[0m Start Epoch 231 ...\n"
     ]
    },
    {
     "name": "stderr",
     "output_type": "stream",
     "text": [
      "\n",
      "100%|###################################################################################|175/175[00:04<00:00,42.74it/s]"
     ]
    },
    {
     "name": "stdout",
     "output_type": "stream",
     "text": [
      "\u001b[32m[1029 16:48:55 @base.py:285]\u001b[0m Epoch 231 (global_step 60637) finished, time:4.09 seconds.\n",
      "\u001b[32m[1029 16:48:55 @saver.py:79]\u001b[0m Model saved to ../output/Chicago/NOLINKS/model\\model-60637.\n",
      "\u001b[32m[1029 16:48:55 @monitor.py:467]\u001b[0m GAN_loss/d_loss: -0.08656\n",
      "\u001b[32m[1029 16:48:55 @monitor.py:467]\u001b[0m GAN_loss/g_loss: -0.11241\n",
      "\u001b[32m[1029 16:48:55 @monitor.py:467]\u001b[0m GAN_loss/kl_div: 0.10254\n",
      "\u001b[32m[1029 16:48:55 @monitor.py:467]\u001b[0m QueueInput/queue_size: 50\n",
      "\u001b[32m[1029 16:48:55 @base.py:275]\u001b[0m Start Epoch 232 ...\n"
     ]
    },
    {
     "name": "stderr",
     "output_type": "stream",
     "text": [
      "\n",
      "100%|###################################################################################|175/175[00:04<00:00,42.92it/s]"
     ]
    },
    {
     "name": "stdout",
     "output_type": "stream",
     "text": [
      "\u001b[32m[1029 16:48:59 @base.py:285]\u001b[0m Epoch 232 (global_step 60899) finished, time:4.08 seconds.\n",
      "\u001b[32m[1029 16:48:59 @saver.py:79]\u001b[0m Model saved to ../output/Chicago/NOLINKS/model\\model-60899.\n",
      "\u001b[32m[1029 16:48:59 @monitor.py:467]\u001b[0m GAN_loss/d_loss: -0.088052\n",
      "\u001b[32m[1029 16:48:59 @monitor.py:467]\u001b[0m GAN_loss/g_loss: -0.11381\n",
      "\u001b[32m[1029 16:48:59 @monitor.py:467]\u001b[0m GAN_loss/kl_div: 0.10617\n",
      "\u001b[32m[1029 16:48:59 @monitor.py:467]\u001b[0m QueueInput/queue_size: 50\n",
      "\u001b[32m[1029 16:48:59 @base.py:275]\u001b[0m Start Epoch 233 ...\n"
     ]
    },
    {
     "name": "stderr",
     "output_type": "stream",
     "text": [
      "\n",
      "100%|###################################################################################|175/175[00:04<00:00,42.44it/s]"
     ]
    },
    {
     "name": "stdout",
     "output_type": "stream",
     "text": [
      "\u001b[32m[1029 16:49:03 @base.py:285]\u001b[0m Epoch 233 (global_step 61162) finished, time:4.12 seconds.\n",
      "\u001b[32m[1029 16:49:03 @saver.py:79]\u001b[0m Model saved to ../output/Chicago/NOLINKS/model\\model-61162.\n",
      "\u001b[32m[1029 16:49:03 @monitor.py:467]\u001b[0m GAN_loss/d_loss: -0.085909\n",
      "\u001b[32m[1029 16:49:03 @monitor.py:467]\u001b[0m GAN_loss/g_loss: -0.11484\n",
      "\u001b[32m[1029 16:49:03 @monitor.py:467]\u001b[0m GAN_loss/kl_div: 0.10928\n",
      "\u001b[32m[1029 16:49:03 @monitor.py:467]\u001b[0m QueueInput/queue_size: 50\n",
      "\u001b[32m[1029 16:49:03 @base.py:275]\u001b[0m Start Epoch 234 ...\n"
     ]
    },
    {
     "name": "stderr",
     "output_type": "stream",
     "text": [
      "\n",
      "100%|###################################################################################|175/175[00:04<00:00,42.93it/s]"
     ]
    },
    {
     "name": "stdout",
     "output_type": "stream",
     "text": [
      "\u001b[32m[1029 16:49:07 @base.py:285]\u001b[0m Epoch 234 (global_step 61424) finished, time:4.08 seconds.\n",
      "\u001b[32m[1029 16:49:07 @saver.py:79]\u001b[0m Model saved to ../output/Chicago/NOLINKS/model\\model-61424.\n",
      "\u001b[32m[1029 16:49:07 @monitor.py:467]\u001b[0m GAN_loss/d_loss: -0.086783\n",
      "\u001b[32m[1029 16:49:07 @monitor.py:467]\u001b[0m GAN_loss/g_loss: -0.11393\n",
      "\u001b[32m[1029 16:49:07 @monitor.py:467]\u001b[0m GAN_loss/kl_div: 0.10318\n",
      "\u001b[32m[1029 16:49:07 @monitor.py:467]\u001b[0m QueueInput/queue_size: 50\n",
      "\u001b[32m[1029 16:49:07 @base.py:275]\u001b[0m Start Epoch 235 ...\n"
     ]
    },
    {
     "name": "stderr",
     "output_type": "stream",
     "text": [
      "\n",
      "100%|###################################################################################|175/175[00:04<00:00,43.05it/s]"
     ]
    },
    {
     "name": "stdout",
     "output_type": "stream",
     "text": [
      "\u001b[32m[1029 16:49:11 @base.py:285]\u001b[0m Epoch 235 (global_step 61687) finished, time:4.07 seconds.\n",
      "\u001b[32m[1029 16:49:11 @saver.py:79]\u001b[0m Model saved to ../output/Chicago/NOLINKS/model\\model-61687.\n",
      "\u001b[32m[1029 16:49:11 @monitor.py:467]\u001b[0m GAN_loss/d_loss: -0.086521\n",
      "\u001b[32m[1029 16:49:11 @monitor.py:467]\u001b[0m GAN_loss/g_loss: -0.114\n",
      "\u001b[32m[1029 16:49:11 @monitor.py:467]\u001b[0m GAN_loss/kl_div: 0.11062\n",
      "\u001b[32m[1029 16:49:11 @monitor.py:467]\u001b[0m QueueInput/queue_size: 50\n",
      "\u001b[32m[1029 16:49:11 @base.py:275]\u001b[0m Start Epoch 236 ...\n"
     ]
    },
    {
     "name": "stderr",
     "output_type": "stream",
     "text": [
      "\n",
      "100%|###################################################################################|175/175[00:04<00:00,43.10it/s]"
     ]
    },
    {
     "name": "stdout",
     "output_type": "stream",
     "text": [
      "\u001b[32m[1029 16:49:16 @base.py:285]\u001b[0m Epoch 236 (global_step 61949) finished, time:4.06 seconds.\n",
      "\u001b[32m[1029 16:49:16 @saver.py:79]\u001b[0m Model saved to ../output/Chicago/NOLINKS/model\\model-61949.\n",
      "\u001b[32m[1029 16:49:16 @monitor.py:467]\u001b[0m GAN_loss/d_loss: -0.085367\n",
      "\u001b[32m[1029 16:49:16 @monitor.py:467]\u001b[0m GAN_loss/g_loss: -0.1152\n",
      "\u001b[32m[1029 16:49:16 @monitor.py:467]\u001b[0m GAN_loss/kl_div: 0.10859\n",
      "\u001b[32m[1029 16:49:16 @monitor.py:467]\u001b[0m QueueInput/queue_size: 50\n",
      "\u001b[32m[1029 16:49:16 @base.py:275]\u001b[0m Start Epoch 237 ...\n"
     ]
    },
    {
     "name": "stderr",
     "output_type": "stream",
     "text": [
      "\n",
      "100%|###################################################################################|175/175[00:04<00:00,43.08it/s]"
     ]
    },
    {
     "name": "stdout",
     "output_type": "stream",
     "text": [
      "\u001b[32m[1029 16:49:20 @base.py:285]\u001b[0m Epoch 237 (global_step 62212) finished, time:4.06 seconds.\n",
      "\u001b[32m[1029 16:49:20 @saver.py:79]\u001b[0m Model saved to ../output/Chicago/NOLINKS/model\\model-62212.\n",
      "\u001b[32m[1029 16:49:20 @monitor.py:467]\u001b[0m GAN_loss/d_loss: -0.086815\n",
      "\u001b[32m[1029 16:49:20 @monitor.py:467]\u001b[0m GAN_loss/g_loss: -0.1138\n",
      "\u001b[32m[1029 16:49:20 @monitor.py:467]\u001b[0m GAN_loss/kl_div: 0.10074\n",
      "\u001b[32m[1029 16:49:20 @monitor.py:467]\u001b[0m QueueInput/queue_size: 50\n",
      "\u001b[32m[1029 16:49:20 @base.py:275]\u001b[0m Start Epoch 238 ...\n"
     ]
    },
    {
     "name": "stderr",
     "output_type": "stream",
     "text": [
      "\n",
      "100%|###################################################################################|175/175[00:04<00:00,43.13it/s]"
     ]
    },
    {
     "name": "stdout",
     "output_type": "stream",
     "text": [
      "\u001b[32m[1029 16:49:24 @base.py:285]\u001b[0m Epoch 238 (global_step 62474) finished, time:4.06 seconds.\n",
      "\u001b[32m[1029 16:49:24 @saver.py:79]\u001b[0m Model saved to ../output/Chicago/NOLINKS/model\\model-62474.\n",
      "\u001b[32m[1029 16:49:24 @monitor.py:467]\u001b[0m GAN_loss/d_loss: -0.086065\n",
      "\u001b[32m[1029 16:49:24 @monitor.py:467]\u001b[0m GAN_loss/g_loss: -0.11566\n",
      "\u001b[32m[1029 16:49:24 @monitor.py:467]\u001b[0m GAN_loss/kl_div: 0.10352\n",
      "\u001b[32m[1029 16:49:24 @monitor.py:467]\u001b[0m QueueInput/queue_size: 50\n",
      "\u001b[32m[1029 16:49:24 @base.py:275]\u001b[0m Start Epoch 239 ...\n"
     ]
    },
    {
     "name": "stderr",
     "output_type": "stream",
     "text": [
      "\n",
      "100%|###################################################################################|175/175[00:04<00:00,43.06it/s]"
     ]
    },
    {
     "name": "stdout",
     "output_type": "stream",
     "text": [
      "\u001b[32m[1029 16:49:28 @base.py:285]\u001b[0m Epoch 239 (global_step 62737) finished, time:4.06 seconds.\n",
      "\u001b[32m[1029 16:49:28 @saver.py:79]\u001b[0m Model saved to ../output/Chicago/NOLINKS/model\\model-62737.\n",
      "\u001b[32m[1029 16:49:28 @monitor.py:467]\u001b[0m GAN_loss/d_loss: -0.085346\n",
      "\u001b[32m[1029 16:49:28 @monitor.py:467]\u001b[0m GAN_loss/g_loss: -0.11496\n",
      "\u001b[32m[1029 16:49:28 @monitor.py:467]\u001b[0m GAN_loss/kl_div: 0.10786\n",
      "\u001b[32m[1029 16:49:28 @monitor.py:467]\u001b[0m QueueInput/queue_size: 50\n",
      "\u001b[32m[1029 16:49:28 @base.py:275]\u001b[0m Start Epoch 240 ...\n"
     ]
    },
    {
     "name": "stderr",
     "output_type": "stream",
     "text": [
      "\n",
      "100%|###################################################################################|175/175[00:04<00:00,43.10it/s]"
     ]
    },
    {
     "name": "stdout",
     "output_type": "stream",
     "text": [
      "\u001b[32m[1029 16:49:32 @base.py:285]\u001b[0m Epoch 240 (global_step 62999) finished, time:4.06 seconds.\n",
      "\u001b[32m[1029 16:49:32 @saver.py:79]\u001b[0m Model saved to ../output/Chicago/NOLINKS/model\\model-62999.\n",
      "\u001b[32m[1029 16:49:32 @monitor.py:467]\u001b[0m GAN_loss/d_loss: -0.085875\n",
      "\u001b[32m[1029 16:49:32 @monitor.py:467]\u001b[0m GAN_loss/g_loss: -0.11448\n",
      "\u001b[32m[1029 16:49:32 @monitor.py:467]\u001b[0m GAN_loss/kl_div: 0.10391\n",
      "\u001b[32m[1029 16:49:32 @monitor.py:467]\u001b[0m QueueInput/queue_size: 50\n",
      "\u001b[32m[1029 16:49:32 @base.py:275]\u001b[0m Start Epoch 241 ...\n"
     ]
    },
    {
     "name": "stderr",
     "output_type": "stream",
     "text": [
      "\n",
      "100%|###################################################################################|175/175[00:04<00:00,42.84it/s]"
     ]
    },
    {
     "name": "stdout",
     "output_type": "stream",
     "text": [
      "\u001b[32m[1029 16:49:36 @base.py:285]\u001b[0m Epoch 241 (global_step 63262) finished, time:4.08 seconds.\n",
      "\u001b[32m[1029 16:49:36 @saver.py:79]\u001b[0m Model saved to ../output/Chicago/NOLINKS/model\\model-63262.\n",
      "\u001b[32m[1029 16:49:36 @monitor.py:467]\u001b[0m GAN_loss/d_loss: -0.085483\n",
      "\u001b[32m[1029 16:49:36 @monitor.py:467]\u001b[0m GAN_loss/g_loss: -0.11443\n",
      "\u001b[32m[1029 16:49:36 @monitor.py:467]\u001b[0m GAN_loss/kl_div: 0.10323\n",
      "\u001b[32m[1029 16:49:36 @monitor.py:467]\u001b[0m QueueInput/queue_size: 50\n",
      "\u001b[32m[1029 16:49:36 @base.py:275]\u001b[0m Start Epoch 242 ...\n"
     ]
    },
    {
     "name": "stderr",
     "output_type": "stream",
     "text": [
      "\n",
      "100%|###################################################################################|175/175[00:04<00:00,42.74it/s]"
     ]
    },
    {
     "name": "stdout",
     "output_type": "stream",
     "text": [
      "\u001b[32m[1029 16:49:40 @base.py:285]\u001b[0m Epoch 242 (global_step 63524) finished, time:4.09 seconds.\n",
      "\u001b[32m[1029 16:49:40 @saver.py:79]\u001b[0m Model saved to ../output/Chicago/NOLINKS/model\\model-63524.\n",
      "\u001b[32m[1029 16:49:40 @monitor.py:467]\u001b[0m GAN_loss/d_loss: -0.084775\n",
      "\u001b[32m[1029 16:49:40 @monitor.py:467]\u001b[0m GAN_loss/g_loss: -0.1161\n",
      "\u001b[32m[1029 16:49:40 @monitor.py:467]\u001b[0m GAN_loss/kl_div: 0.10362\n",
      "\u001b[32m[1029 16:49:40 @monitor.py:467]\u001b[0m QueueInput/queue_size: 50\n",
      "\u001b[32m[1029 16:49:40 @base.py:275]\u001b[0m Start Epoch 243 ...\n"
     ]
    },
    {
     "name": "stderr",
     "output_type": "stream",
     "text": [
      "\n",
      "100%|###################################################################################|175/175[00:04<00:00,41.41it/s]"
     ]
    },
    {
     "name": "stdout",
     "output_type": "stream",
     "text": [
      "\u001b[32m[1029 16:49:45 @base.py:285]\u001b[0m Epoch 243 (global_step 63787) finished, time:4.23 seconds.\n",
      "\u001b[32m[1029 16:49:45 @saver.py:79]\u001b[0m Model saved to ../output/Chicago/NOLINKS/model\\model-63787.\n",
      "\u001b[32m[1029 16:49:45 @monitor.py:467]\u001b[0m GAN_loss/d_loss: -0.084894\n",
      "\u001b[32m[1029 16:49:45 @monitor.py:467]\u001b[0m GAN_loss/g_loss: -0.11655\n",
      "\u001b[32m[1029 16:49:45 @monitor.py:467]\u001b[0m GAN_loss/kl_div: 0.10328\n",
      "\u001b[32m[1029 16:49:45 @monitor.py:467]\u001b[0m QueueInput/queue_size: 50\n",
      "\u001b[32m[1029 16:49:45 @base.py:275]\u001b[0m Start Epoch 244 ...\n"
     ]
    },
    {
     "name": "stderr",
     "output_type": "stream",
     "text": [
      "\n",
      "100%|###################################################################################|175/175[00:04<00:00,42.44it/s]"
     ]
    },
    {
     "name": "stdout",
     "output_type": "stream",
     "text": [
      "\u001b[32m[1029 16:49:49 @base.py:285]\u001b[0m Epoch 244 (global_step 64049) finished, time:4.12 seconds.\n",
      "\u001b[32m[1029 16:49:49 @saver.py:79]\u001b[0m Model saved to ../output/Chicago/NOLINKS/model\\model-64049.\n",
      "\u001b[32m[1029 16:49:49 @monitor.py:467]\u001b[0m GAN_loss/d_loss: -0.083841\n",
      "\u001b[32m[1029 16:49:49 @monitor.py:467]\u001b[0m GAN_loss/g_loss: -0.11518\n",
      "\u001b[32m[1029 16:49:49 @monitor.py:467]\u001b[0m GAN_loss/kl_div: 0.10942\n",
      "\u001b[32m[1029 16:49:49 @monitor.py:467]\u001b[0m QueueInput/queue_size: 50\n",
      "\u001b[32m[1029 16:49:49 @base.py:275]\u001b[0m Start Epoch 245 ...\n"
     ]
    },
    {
     "name": "stderr",
     "output_type": "stream",
     "text": [
      "\n",
      "100%|###################################################################################|175/175[00:04<00:00,40.19it/s]"
     ]
    },
    {
     "name": "stdout",
     "output_type": "stream",
     "text": [
      "\u001b[32m[1029 16:49:53 @base.py:285]\u001b[0m Epoch 245 (global_step 64312) finished, time:4.35 seconds.\n",
      "\u001b[32m[1029 16:49:53 @saver.py:79]\u001b[0m Model saved to ../output/Chicago/NOLINKS/model\\model-64312.\n",
      "\u001b[32m[1029 16:49:53 @monitor.py:467]\u001b[0m GAN_loss/d_loss: -0.084423\n",
      "\u001b[32m[1029 16:49:53 @monitor.py:467]\u001b[0m GAN_loss/g_loss: -0.11574\n",
      "\u001b[32m[1029 16:49:53 @monitor.py:467]\u001b[0m GAN_loss/kl_div: 0.10641\n",
      "\u001b[32m[1029 16:49:53 @monitor.py:467]\u001b[0m QueueInput/queue_size: 50\n",
      "\u001b[32m[1029 16:49:53 @base.py:275]\u001b[0m Start Epoch 246 ...\n"
     ]
    },
    {
     "name": "stderr",
     "output_type": "stream",
     "text": [
      "\n",
      "100%|###################################################################################|175/175[00:04<00:00,40.00it/s]"
     ]
    },
    {
     "name": "stdout",
     "output_type": "stream",
     "text": [
      "\u001b[32m[1029 16:49:58 @base.py:285]\u001b[0m Epoch 246 (global_step 64574) finished, time:4.38 seconds.\n",
      "\u001b[32m[1029 16:49:58 @saver.py:79]\u001b[0m Model saved to ../output/Chicago/NOLINKS/model\\model-64574.\n",
      "\u001b[32m[1029 16:49:58 @monitor.py:467]\u001b[0m GAN_loss/d_loss: -0.084384\n",
      "\u001b[32m[1029 16:49:58 @monitor.py:467]\u001b[0m GAN_loss/g_loss: -0.11597\n",
      "\u001b[32m[1029 16:49:58 @monitor.py:467]\u001b[0m GAN_loss/kl_div: 0.109\n",
      "\u001b[32m[1029 16:49:58 @monitor.py:467]\u001b[0m QueueInput/queue_size: 50\n",
      "\u001b[32m[1029 16:49:58 @base.py:275]\u001b[0m Start Epoch 247 ...\n"
     ]
    },
    {
     "name": "stderr",
     "output_type": "stream",
     "text": [
      "\n",
      "100%|###################################################################################|175/175[00:04<00:00,39.76it/s]"
     ]
    },
    {
     "name": "stdout",
     "output_type": "stream",
     "text": [
      "\u001b[32m[1029 16:50:02 @base.py:285]\u001b[0m Epoch 247 (global_step 64837) finished, time:4.4 seconds.\n",
      "\u001b[32m[1029 16:50:02 @saver.py:79]\u001b[0m Model saved to ../output/Chicago/NOLINKS/model\\model-64837.\n",
      "\u001b[32m[1029 16:50:02 @monitor.py:467]\u001b[0m GAN_loss/d_loss: -0.083808\n",
      "\u001b[32m[1029 16:50:02 @monitor.py:467]\u001b[0m GAN_loss/g_loss: -0.11544\n",
      "\u001b[32m[1029 16:50:02 @monitor.py:467]\u001b[0m GAN_loss/kl_div: 0.10625\n",
      "\u001b[32m[1029 16:50:02 @monitor.py:467]\u001b[0m QueueInput/queue_size: 50\n",
      "\u001b[32m[1029 16:50:02 @base.py:275]\u001b[0m Start Epoch 248 ...\n"
     ]
    },
    {
     "name": "stderr",
     "output_type": "stream",
     "text": [
      "\n",
      "100%|###################################################################################|175/175[00:04<00:00,38.97it/s]"
     ]
    },
    {
     "name": "stdout",
     "output_type": "stream",
     "text": [
      "\u001b[32m[1029 16:50:07 @base.py:285]\u001b[0m Epoch 248 (global_step 65099) finished, time:4.49 seconds.\n",
      "\u001b[32m[1029 16:50:07 @saver.py:79]\u001b[0m Model saved to ../output/Chicago/NOLINKS/model\\model-65099.\n",
      "\u001b[32m[1029 16:50:07 @monitor.py:467]\u001b[0m GAN_loss/d_loss: -0.082869\n",
      "\u001b[32m[1029 16:50:07 @monitor.py:467]\u001b[0m GAN_loss/g_loss: -0.11689\n",
      "\u001b[32m[1029 16:50:07 @monitor.py:467]\u001b[0m GAN_loss/kl_div: 0.11422\n",
      "\u001b[32m[1029 16:50:07 @monitor.py:467]\u001b[0m QueueInput/queue_size: 50\n",
      "\u001b[32m[1029 16:50:07 @base.py:275]\u001b[0m Start Epoch 249 ...\n"
     ]
    },
    {
     "name": "stderr",
     "output_type": "stream",
     "text": [
      "\n",
      "100%|###################################################################################|175/175[00:04<00:00,39.31it/s]"
     ]
    },
    {
     "name": "stdout",
     "output_type": "stream",
     "text": [
      "\u001b[32m[1029 16:50:11 @base.py:285]\u001b[0m Epoch 249 (global_step 65362) finished, time:4.45 seconds.\n",
      "\u001b[32m[1029 16:50:11 @saver.py:79]\u001b[0m Model saved to ../output/Chicago/NOLINKS/model\\model-65362.\n",
      "\u001b[32m[1029 16:50:11 @monitor.py:467]\u001b[0m GAN_loss/d_loss: -0.083772\n",
      "\u001b[32m[1029 16:50:12 @monitor.py:467]\u001b[0m GAN_loss/g_loss: -0.11765\n",
      "\u001b[32m[1029 16:50:12 @monitor.py:467]\u001b[0m GAN_loss/kl_div: 0.10917\n",
      "\u001b[32m[1029 16:50:12 @monitor.py:467]\u001b[0m QueueInput/queue_size: 50\n",
      "\u001b[32m[1029 16:50:12 @base.py:275]\u001b[0m Start Epoch 250 ...\n"
     ]
    },
    {
     "name": "stderr",
     "output_type": "stream",
     "text": [
      "\n",
      "100%|###################################################################################|175/175[00:04<00:00,41.13it/s]"
     ]
    },
    {
     "name": "stdout",
     "output_type": "stream",
     "text": [
      "\u001b[32m[1029 16:50:16 @base.py:285]\u001b[0m Epoch 250 (global_step 65624) finished, time:4.26 seconds.\n",
      "\u001b[32m[1029 16:50:16 @saver.py:79]\u001b[0m Model saved to ../output/Chicago/NOLINKS/model\\model-65624.\n",
      "\u001b[32m[1029 16:50:16 @monitor.py:467]\u001b[0m GAN_loss/d_loss: -0.083038\n"
     ]
    },
    {
     "name": "stderr",
     "output_type": "stream",
     "text": [
      "\n"
     ]
    },
    {
     "name": "stdout",
     "output_type": "stream",
     "text": [
      "\u001b[32m[1029 16:50:16 @monitor.py:467]\u001b[0m GAN_loss/g_loss: -0.11802\n",
      "\u001b[32m[1029 16:50:16 @monitor.py:467]\u001b[0m GAN_loss/kl_div: 0.11053\n",
      "\u001b[32m[1029 16:50:16 @monitor.py:467]\u001b[0m QueueInput/queue_size: 50\n",
      "\u001b[32m[1029 16:50:16 @base.py:275]\u001b[0m Start Epoch 251 ...\n"
     ]
    },
    {
     "name": "stderr",
     "output_type": "stream",
     "text": [
      "100%|###################################################################################|175/175[00:04<00:00,41.40it/s]"
     ]
    },
    {
     "name": "stdout",
     "output_type": "stream",
     "text": [
      "\u001b[32m[1029 16:50:20 @base.py:285]\u001b[0m Epoch 251 (global_step 65887) finished, time:4.23 seconds.\n",
      "\u001b[32m[1029 16:50:20 @saver.py:79]\u001b[0m Model saved to ../output/Chicago/NOLINKS/model\\model-65887.\n",
      "\u001b[32m[1029 16:50:20 @monitor.py:467]\u001b[0m GAN_loss/d_loss: -0.08318\n",
      "\u001b[32m[1029 16:50:20 @monitor.py:467]\u001b[0m GAN_loss/g_loss: -0.11759\n",
      "\u001b[32m[1029 16:50:20 @monitor.py:467]\u001b[0m GAN_loss/kl_div: 0.10528\n",
      "\u001b[32m[1029 16:50:20 @monitor.py:467]\u001b[0m QueueInput/queue_size: 50\n",
      "\u001b[32m[1029 16:50:20 @base.py:275]\u001b[0m Start Epoch 252 ...\n"
     ]
    },
    {
     "name": "stderr",
     "output_type": "stream",
     "text": [
      "\n",
      "100%|###################################################################################|175/175[00:04<00:00,42.54it/s]"
     ]
    },
    {
     "name": "stdout",
     "output_type": "stream",
     "text": [
      "\u001b[32m[1029 16:50:24 @base.py:285]\u001b[0m Epoch 252 (global_step 66149) finished, time:4.11 seconds.\n",
      "\u001b[32m[1029 16:50:24 @saver.py:79]\u001b[0m Model saved to ../output/Chicago/NOLINKS/model\\model-66149.\n",
      "\u001b[32m[1029 16:50:24 @monitor.py:467]\u001b[0m GAN_loss/d_loss: -0.08179\n",
      "\u001b[32m[1029 16:50:24 @monitor.py:467]\u001b[0m GAN_loss/g_loss: -0.11903\n",
      "\u001b[32m[1029 16:50:24 @monitor.py:467]\u001b[0m GAN_loss/kl_div: 0.11115\n",
      "\u001b[32m[1029 16:50:24 @monitor.py:467]\u001b[0m QueueInput/queue_size: 50\n",
      "\u001b[32m[1029 16:50:24 @base.py:275]\u001b[0m Start Epoch 253 ...\n"
     ]
    },
    {
     "name": "stderr",
     "output_type": "stream",
     "text": [
      "\n",
      "100%|###################################################################################|175/175[00:04<00:00,42.42it/s]"
     ]
    },
    {
     "name": "stdout",
     "output_type": "stream",
     "text": [
      "\u001b[32m[1029 16:50:28 @base.py:285]\u001b[0m Epoch 253 (global_step 66412) finished, time:4.13 seconds.\n",
      "\u001b[32m[1029 16:50:29 @saver.py:79]\u001b[0m Model saved to ../output/Chicago/NOLINKS/model\\model-66412.\n",
      "\u001b[32m[1029 16:50:29 @monitor.py:467]\u001b[0m GAN_loss/d_loss: -0.083412\n",
      "\u001b[32m[1029 16:50:29 @monitor.py:467]\u001b[0m GAN_loss/g_loss: -0.11757\n",
      "\u001b[32m[1029 16:50:29 @monitor.py:467]\u001b[0m GAN_loss/kl_div: 0.10507\n",
      "\u001b[32m[1029 16:50:29 @monitor.py:467]\u001b[0m QueueInput/queue_size: 50\n",
      "\u001b[32m[1029 16:50:29 @base.py:275]\u001b[0m Start Epoch 254 ...\n"
     ]
    },
    {
     "name": "stderr",
     "output_type": "stream",
     "text": [
      "\n",
      "100%|###################################################################################|175/175[00:04<00:00,42.92it/s]"
     ]
    },
    {
     "name": "stdout",
     "output_type": "stream",
     "text": [
      "\u001b[32m[1029 16:50:33 @base.py:285]\u001b[0m Epoch 254 (global_step 66674) finished, time:4.08 seconds.\n",
      "\u001b[32m[1029 16:50:33 @saver.py:79]\u001b[0m Model saved to ../output/Chicago/NOLINKS/model\\model-66674.\n",
      "\u001b[32m[1029 16:50:33 @monitor.py:467]\u001b[0m GAN_loss/d_loss: -0.082452\n",
      "\u001b[32m[1029 16:50:33 @monitor.py:467]\u001b[0m GAN_loss/g_loss: -0.11793\n",
      "\u001b[32m[1029 16:50:33 @monitor.py:467]\u001b[0m GAN_loss/kl_div: 0.10462\n",
      "\u001b[32m[1029 16:50:33 @monitor.py:467]\u001b[0m QueueInput/queue_size: 50\n",
      "\u001b[32m[1029 16:50:33 @base.py:275]\u001b[0m Start Epoch 255 ...\n"
     ]
    },
    {
     "name": "stderr",
     "output_type": "stream",
     "text": [
      "\n",
      "100%|###################################################################################|175/175[00:04<00:00,42.63it/s]"
     ]
    },
    {
     "name": "stdout",
     "output_type": "stream",
     "text": [
      "\u001b[32m[1029 16:50:37 @base.py:285]\u001b[0m Epoch 255 (global_step 66937) finished, time:4.11 seconds.\n",
      "\u001b[32m[1029 16:50:37 @saver.py:79]\u001b[0m Model saved to ../output/Chicago/NOLINKS/model\\model-66937.\n",
      "\u001b[32m[1029 16:50:37 @monitor.py:467]\u001b[0m GAN_loss/d_loss: -0.08313\n",
      "\u001b[32m[1029 16:50:37 @monitor.py:467]\u001b[0m GAN_loss/g_loss: -0.12017\n",
      "\u001b[32m[1029 16:50:37 @monitor.py:467]\u001b[0m GAN_loss/kl_div: 0.10716\n",
      "\u001b[32m[1029 16:50:37 @monitor.py:467]\u001b[0m QueueInput/queue_size: 50\n",
      "\u001b[32m[1029 16:50:37 @base.py:275]\u001b[0m Start Epoch 256 ...\n"
     ]
    },
    {
     "name": "stderr",
     "output_type": "stream",
     "text": [
      "\n",
      "100%|###################################################################################|175/175[00:04<00:00,42.30it/s]"
     ]
    },
    {
     "name": "stdout",
     "output_type": "stream",
     "text": [
      "\u001b[32m[1029 16:50:41 @base.py:285]\u001b[0m Epoch 256 (global_step 67199) finished, time:4.14 seconds.\n",
      "\u001b[32m[1029 16:50:41 @saver.py:79]\u001b[0m Model saved to ../output/Chicago/NOLINKS/model\\model-67199.\n",
      "\u001b[32m[1029 16:50:41 @monitor.py:467]\u001b[0m GAN_loss/d_loss: -0.082119\n",
      "\u001b[32m[1029 16:50:41 @monitor.py:467]\u001b[0m GAN_loss/g_loss: -0.11983\n",
      "\u001b[32m[1029 16:50:41 @monitor.py:467]\u001b[0m GAN_loss/kl_div: 0.10645\n",
      "\u001b[32m[1029 16:50:41 @monitor.py:467]\u001b[0m QueueInput/queue_size: 50\n",
      "\u001b[32m[1029 16:50:41 @base.py:275]\u001b[0m Start Epoch 257 ...\n"
     ]
    },
    {
     "name": "stderr",
     "output_type": "stream",
     "text": [
      "\n",
      "100%|###################################################################################|175/175[00:04<00:00,42.32it/s]"
     ]
    },
    {
     "name": "stdout",
     "output_type": "stream",
     "text": [
      "\u001b[32m[1029 16:50:45 @base.py:285]\u001b[0m Epoch 257 (global_step 67462) finished, time:4.14 seconds.\n",
      "\u001b[32m[1029 16:50:45 @saver.py:79]\u001b[0m Model saved to ../output/Chicago/NOLINKS/model\\model-67462.\n",
      "\u001b[32m[1029 16:50:45 @monitor.py:467]\u001b[0m GAN_loss/d_loss: -0.081493\n",
      "\u001b[32m[1029 16:50:45 @monitor.py:467]\u001b[0m GAN_loss/g_loss: -0.11983\n",
      "\u001b[32m[1029 16:50:45 @monitor.py:467]\u001b[0m GAN_loss/kl_div: 0.10629\n",
      "\u001b[32m[1029 16:50:45 @monitor.py:467]\u001b[0m QueueInput/queue_size: 50\n",
      "\u001b[32m[1029 16:50:45 @base.py:275]\u001b[0m Start Epoch 258 ...\n"
     ]
    },
    {
     "name": "stderr",
     "output_type": "stream",
     "text": [
      "\n",
      "100%|###################################################################################|175/175[00:04<00:00,42.29it/s]"
     ]
    },
    {
     "name": "stdout",
     "output_type": "stream",
     "text": [
      "\u001b[32m[1029 16:50:49 @base.py:285]\u001b[0m Epoch 258 (global_step 67724) finished, time:4.14 seconds.\n",
      "\u001b[32m[1029 16:50:50 @saver.py:79]\u001b[0m Model saved to ../output/Chicago/NOLINKS/model\\model-67724.\n",
      "\u001b[32m[1029 16:50:50 @monitor.py:467]\u001b[0m GAN_loss/d_loss: -0.081541\n",
      "\u001b[32m[1029 16:50:50 @monitor.py:467]\u001b[0m GAN_loss/g_loss: -0.12179\n",
      "\u001b[32m[1029 16:50:50 @monitor.py:467]\u001b[0m GAN_loss/kl_div: 0.10787\n",
      "\u001b[32m[1029 16:50:50 @monitor.py:467]\u001b[0m QueueInput/queue_size: 50\n",
      "\u001b[32m[1029 16:50:50 @base.py:275]\u001b[0m Start Epoch 259 ...\n"
     ]
    },
    {
     "name": "stderr",
     "output_type": "stream",
     "text": [
      "\n",
      "100%|###################################################################################|175/175[00:04<00:00,41.09it/s]"
     ]
    },
    {
     "name": "stdout",
     "output_type": "stream",
     "text": [
      "\u001b[32m[1029 16:50:54 @base.py:285]\u001b[0m Epoch 259 (global_step 67987) finished, time:4.26 seconds.\n"
     ]
    },
    {
     "name": "stderr",
     "output_type": "stream",
     "text": [
      "\n"
     ]
    },
    {
     "name": "stdout",
     "output_type": "stream",
     "text": [
      "\u001b[32m[1029 16:50:54 @saver.py:79]\u001b[0m Model saved to ../output/Chicago/NOLINKS/model\\model-67987.\n",
      "\u001b[32m[1029 16:50:54 @monitor.py:467]\u001b[0m GAN_loss/d_loss: -0.081891\n",
      "\u001b[32m[1029 16:50:54 @monitor.py:467]\u001b[0m GAN_loss/g_loss: -0.12158\n",
      "\u001b[32m[1029 16:50:54 @monitor.py:467]\u001b[0m GAN_loss/kl_div: 0.11028\n",
      "\u001b[32m[1029 16:50:54 @monitor.py:467]\u001b[0m QueueInput/queue_size: 50\n",
      "\u001b[32m[1029 16:50:54 @base.py:275]\u001b[0m Start Epoch 260 ...\n"
     ]
    },
    {
     "name": "stderr",
     "output_type": "stream",
     "text": [
      "100%|###################################################################################|175/175[00:04<00:00,40.41it/s]"
     ]
    },
    {
     "name": "stdout",
     "output_type": "stream",
     "text": [
      "\u001b[32m[1029 16:50:58 @base.py:285]\u001b[0m Epoch 260 (global_step 68249) finished, time:4.33 seconds.\n",
      "\u001b[32m[1029 16:50:58 @saver.py:79]\u001b[0m Model saved to ../output/Chicago/NOLINKS/model\\model-68249.\n",
      "\u001b[32m[1029 16:50:58 @monitor.py:467]\u001b[0m GAN_loss/d_loss: -0.080942\n",
      "\u001b[32m[1029 16:50:58 @monitor.py:467]\u001b[0m GAN_loss/g_loss: -0.12164\n",
      "\u001b[32m[1029 16:50:58 @monitor.py:467]\u001b[0m GAN_loss/kl_div: 0.10705\n",
      "\u001b[32m[1029 16:50:58 @monitor.py:467]\u001b[0m QueueInput/queue_size: 50\n",
      "\u001b[32m[1029 16:50:58 @base.py:275]\u001b[0m Start Epoch 261 ...\n"
     ]
    },
    {
     "name": "stderr",
     "output_type": "stream",
     "text": [
      "\n",
      "100%|###################################################################################|175/175[00:04<00:00,42.17it/s]"
     ]
    },
    {
     "name": "stdout",
     "output_type": "stream",
     "text": [
      "\u001b[32m[1029 16:51:02 @base.py:285]\u001b[0m Epoch 261 (global_step 68512) finished, time:4.15 seconds.\n",
      "\u001b[32m[1029 16:51:03 @saver.py:79]\u001b[0m Model saved to ../output/Chicago/NOLINKS/model\\model-68512.\n",
      "\u001b[32m[1029 16:51:03 @monitor.py:467]\u001b[0m GAN_loss/d_loss: -0.079629\n",
      "\u001b[32m[1029 16:51:03 @monitor.py:467]\u001b[0m GAN_loss/g_loss: -0.12263\n",
      "\u001b[32m[1029 16:51:03 @monitor.py:467]\u001b[0m GAN_loss/kl_div: 0.10387\n",
      "\u001b[32m[1029 16:51:03 @monitor.py:467]\u001b[0m QueueInput/queue_size: 50\n",
      "\u001b[32m[1029 16:51:03 @base.py:275]\u001b[0m Start Epoch 262 ...\n"
     ]
    },
    {
     "name": "stderr",
     "output_type": "stream",
     "text": [
      "\n",
      "100%|###################################################################################|175/175[00:04<00:00,42.79it/s]"
     ]
    },
    {
     "name": "stdout",
     "output_type": "stream",
     "text": [
      "\u001b[32m[1029 16:51:07 @base.py:285]\u001b[0m Epoch 262 (global_step 68774) finished, time:4.09 seconds.\n",
      "\u001b[32m[1029 16:51:07 @saver.py:79]\u001b[0m Model saved to ../output/Chicago/NOLINKS/model\\model-68774.\n",
      "\u001b[32m[1029 16:51:07 @monitor.py:467]\u001b[0m GAN_loss/d_loss: -0.080296\n",
      "\u001b[32m[1029 16:51:07 @monitor.py:467]\u001b[0m GAN_loss/g_loss: -0.1218\n",
      "\u001b[32m[1029 16:51:07 @monitor.py:467]\u001b[0m GAN_loss/kl_div: 0.1084\n",
      "\u001b[32m[1029 16:51:07 @monitor.py:467]\u001b[0m QueueInput/queue_size: 50\n",
      "\u001b[32m[1029 16:51:07 @base.py:275]\u001b[0m Start Epoch 263 ...\n"
     ]
    },
    {
     "name": "stderr",
     "output_type": "stream",
     "text": [
      "\n",
      "100%|###################################################################################|175/175[00:04<00:00,40.78it/s]"
     ]
    },
    {
     "name": "stdout",
     "output_type": "stream",
     "text": [
      "\u001b[32m[1029 16:51:11 @base.py:285]\u001b[0m Epoch 263 (global_step 69037) finished, time:4.29 seconds.\n"
     ]
    },
    {
     "name": "stderr",
     "output_type": "stream",
     "text": [
      "\n"
     ]
    },
    {
     "name": "stdout",
     "output_type": "stream",
     "text": [
      "\u001b[32m[1029 16:51:11 @saver.py:79]\u001b[0m Model saved to ../output/Chicago/NOLINKS/model\\model-69037.\n",
      "\u001b[32m[1029 16:51:11 @monitor.py:467]\u001b[0m GAN_loss/d_loss: -0.079578\n",
      "\u001b[32m[1029 16:51:11 @monitor.py:467]\u001b[0m GAN_loss/g_loss: -0.12332\n",
      "\u001b[32m[1029 16:51:11 @monitor.py:467]\u001b[0m GAN_loss/kl_div: 0.10741\n",
      "\u001b[32m[1029 16:51:11 @monitor.py:467]\u001b[0m QueueInput/queue_size: 50\n",
      "\u001b[32m[1029 16:51:11 @base.py:275]\u001b[0m Start Epoch 264 ...\n"
     ]
    },
    {
     "name": "stderr",
     "output_type": "stream",
     "text": [
      "100%|###################################################################################|175/175[00:04<00:00,40.16it/s]"
     ]
    },
    {
     "name": "stdout",
     "output_type": "stream",
     "text": [
      "\u001b[32m[1029 16:51:15 @base.py:285]\u001b[0m Epoch 264 (global_step 69299) finished, time:4.36 seconds.\n",
      "\u001b[32m[1029 16:51:16 @saver.py:79]\u001b[0m Model saved to ../output/Chicago/NOLINKS/model\\model-69299.\n",
      "\u001b[32m[1029 16:51:16 @monitor.py:467]\u001b[0m GAN_loss/d_loss: -0.080586\n",
      "\u001b[32m[1029 16:51:16 @monitor.py:467]\u001b[0m GAN_loss/g_loss: -0.12239\n",
      "\u001b[32m[1029 16:51:16 @monitor.py:467]\u001b[0m GAN_loss/kl_div: 0.10376\n",
      "\u001b[32m[1029 16:51:16 @monitor.py:467]\u001b[0m QueueInput/queue_size: 50\n",
      "\u001b[32m[1029 16:51:16 @base.py:275]\u001b[0m Start Epoch 265 ...\n"
     ]
    },
    {
     "name": "stderr",
     "output_type": "stream",
     "text": [
      "\n",
      "100%|###################################################################################|175/175[00:04<00:00,39.47it/s]"
     ]
    },
    {
     "name": "stdout",
     "output_type": "stream",
     "text": [
      "\u001b[32m[1029 16:51:20 @base.py:285]\u001b[0m Epoch 265 (global_step 69562) finished, time:4.43 seconds.\n",
      "\u001b[32m[1029 16:51:20 @saver.py:79]\u001b[0m Model saved to ../output/Chicago/NOLINKS/model\\model-69562.\n",
      "\u001b[32m[1029 16:51:20 @monitor.py:467]\u001b[0m GAN_loss/d_loss: -0.080608\n",
      "\u001b[32m[1029 16:51:20 @monitor.py:467]\u001b[0m GAN_loss/g_loss: -0.12223\n",
      "\u001b[32m[1029 16:51:20 @monitor.py:467]\u001b[0m GAN_loss/kl_div: 0.10783\n",
      "\u001b[32m[1029 16:51:20 @monitor.py:467]\u001b[0m QueueInput/queue_size: 50\n",
      "\u001b[32m[1029 16:51:20 @base.py:275]\u001b[0m Start Epoch 266 ...\n"
     ]
    },
    {
     "name": "stderr",
     "output_type": "stream",
     "text": [
      "\n",
      "100%|###################################################################################|175/175[00:04<00:00,42.38it/s]"
     ]
    },
    {
     "name": "stdout",
     "output_type": "stream",
     "text": [
      "\u001b[32m[1029 16:51:24 @base.py:285]\u001b[0m Epoch 266 (global_step 69824) finished, time:4.13 seconds.\n",
      "\u001b[32m[1029 16:51:24 @saver.py:79]\u001b[0m Model saved to ../output/Chicago/NOLINKS/model\\model-69824.\n",
      "\u001b[32m[1029 16:51:24 @monitor.py:467]\u001b[0m GAN_loss/d_loss: -0.080268\n",
      "\u001b[32m[1029 16:51:24 @monitor.py:467]\u001b[0m GAN_loss/g_loss: -0.12262\n",
      "\u001b[32m[1029 16:51:24 @monitor.py:467]\u001b[0m GAN_loss/kl_div: 0.10607\n",
      "\u001b[32m[1029 16:51:24 @monitor.py:467]\u001b[0m QueueInput/queue_size: 50\n",
      "\u001b[32m[1029 16:51:24 @base.py:275]\u001b[0m Start Epoch 267 ...\n"
     ]
    },
    {
     "name": "stderr",
     "output_type": "stream",
     "text": [
      "\n",
      "100%|###################################################################################|175/175[00:04<00:00,41.89it/s]"
     ]
    },
    {
     "name": "stdout",
     "output_type": "stream",
     "text": [
      "\u001b[32m[1029 16:51:28 @base.py:285]\u001b[0m Epoch 267 (global_step 70087) finished, time:4.18 seconds.\n",
      "\u001b[32m[1029 16:51:29 @saver.py:79]\u001b[0m Model saved to ../output/Chicago/NOLINKS/model\\model-70087.\n",
      "\u001b[32m[1029 16:51:29 @monitor.py:467]\u001b[0m GAN_loss/d_loss: -0.079493\n",
      "\u001b[32m[1029 16:51:29 @monitor.py:467]\u001b[0m GAN_loss/g_loss: -0.12294\n",
      "\u001b[32m[1029 16:51:29 @monitor.py:467]\u001b[0m GAN_loss/kl_div: 0.11184\n",
      "\u001b[32m[1029 16:51:29 @monitor.py:467]\u001b[0m QueueInput/queue_size: 50\n",
      "\u001b[32m[1029 16:51:29 @base.py:275]\u001b[0m Start Epoch 268 ...\n"
     ]
    },
    {
     "name": "stderr",
     "output_type": "stream",
     "text": [
      "\n",
      "100%|###################################################################################|175/175[00:04<00:00,42.67it/s]"
     ]
    },
    {
     "name": "stdout",
     "output_type": "stream",
     "text": [
      "\u001b[32m[1029 16:51:33 @base.py:285]\u001b[0m Epoch 268 (global_step 70349) finished, time:4.1 seconds.\n",
      "\u001b[32m[1029 16:51:33 @saver.py:79]\u001b[0m Model saved to ../output/Chicago/NOLINKS/model\\model-70349.\n",
      "\u001b[32m[1029 16:51:33 @monitor.py:467]\u001b[0m GAN_loss/d_loss: -0.078926\n",
      "\u001b[32m[1029 16:51:33 @monitor.py:467]\u001b[0m GAN_loss/g_loss: -0.12342\n",
      "\u001b[32m[1029 16:51:33 @monitor.py:467]\u001b[0m GAN_loss/kl_div: 0.10941\n",
      "\u001b[32m[1029 16:51:33 @monitor.py:467]\u001b[0m QueueInput/queue_size: 50\n",
      "\u001b[32m[1029 16:51:33 @base.py:275]\u001b[0m Start Epoch 269 ...\n"
     ]
    },
    {
     "name": "stderr",
     "output_type": "stream",
     "text": [
      "\n",
      "100%|###################################################################################|175/175[00:04<00:00,41.46it/s]"
     ]
    },
    {
     "name": "stdout",
     "output_type": "stream",
     "text": [
      "\u001b[32m[1029 16:51:37 @base.py:285]\u001b[0m Epoch 269 (global_step 70612) finished, time:4.22 seconds.\n"
     ]
    },
    {
     "name": "stderr",
     "output_type": "stream",
     "text": [
      "\n"
     ]
    },
    {
     "name": "stdout",
     "output_type": "stream",
     "text": [
      "\u001b[32m[1029 16:51:37 @saver.py:79]\u001b[0m Model saved to ../output/Chicago/NOLINKS/model\\model-70612.\n",
      "\u001b[32m[1029 16:51:37 @monitor.py:467]\u001b[0m GAN_loss/d_loss: -0.078172\n",
      "\u001b[32m[1029 16:51:37 @monitor.py:467]\u001b[0m GAN_loss/g_loss: -0.12488\n",
      "\u001b[32m[1029 16:51:37 @monitor.py:467]\u001b[0m GAN_loss/kl_div: 0.10421\n",
      "\u001b[32m[1029 16:51:37 @monitor.py:467]\u001b[0m QueueInput/queue_size: 50\n",
      "\u001b[32m[1029 16:51:37 @base.py:275]\u001b[0m Start Epoch 270 ...\n"
     ]
    },
    {
     "name": "stderr",
     "output_type": "stream",
     "text": [
      "100%|###################################################################################|175/175[00:04<00:00,42.72it/s]"
     ]
    },
    {
     "name": "stdout",
     "output_type": "stream",
     "text": [
      "\u001b[32m[1029 16:51:41 @base.py:285]\u001b[0m Epoch 270 (global_step 70874) finished, time:4.1 seconds.\n",
      "\u001b[32m[1029 16:51:41 @saver.py:79]\u001b[0m Model saved to ../output/Chicago/NOLINKS/model\\model-70874.\n",
      "\u001b[32m[1029 16:51:41 @monitor.py:467]\u001b[0m GAN_loss/d_loss: -0.079374\n",
      "\u001b[32m[1029 16:51:41 @monitor.py:467]\u001b[0m GAN_loss/g_loss: -0.12406\n",
      "\u001b[32m[1029 16:51:41 @monitor.py:467]\u001b[0m GAN_loss/kl_div: 0.10777\n",
      "\u001b[32m[1029 16:51:41 @monitor.py:467]\u001b[0m QueueInput/queue_size: 50\n",
      "\u001b[32m[1029 16:51:41 @base.py:275]\u001b[0m Start Epoch 271 ...\n"
     ]
    },
    {
     "name": "stderr",
     "output_type": "stream",
     "text": [
      "\n",
      "100%|###################################################################################|175/175[00:04<00:00,41.07it/s]"
     ]
    },
    {
     "name": "stdout",
     "output_type": "stream",
     "text": [
      "\u001b[32m[1029 16:51:45 @base.py:285]\u001b[0m Epoch 271 (global_step 71137) finished, time:4.26 seconds.\n",
      "\u001b[32m[1029 16:51:46 @saver.py:79]\u001b[0m Model saved to ../output/Chicago/NOLINKS/model\\model-71137.\n"
     ]
    },
    {
     "name": "stderr",
     "output_type": "stream",
     "text": [
      "\n"
     ]
    },
    {
     "name": "stdout",
     "output_type": "stream",
     "text": [
      "\u001b[32m[1029 16:51:46 @monitor.py:467]\u001b[0m GAN_loss/d_loss: -0.078376\n",
      "\u001b[32m[1029 16:51:46 @monitor.py:467]\u001b[0m GAN_loss/g_loss: -0.12396\n",
      "\u001b[32m[1029 16:51:46 @monitor.py:467]\u001b[0m GAN_loss/kl_div: 0.10527\n",
      "\u001b[32m[1029 16:51:46 @monitor.py:467]\u001b[0m QueueInput/queue_size: 50\n",
      "\u001b[32m[1029 16:51:46 @base.py:275]\u001b[0m Start Epoch 272 ...\n"
     ]
    },
    {
     "name": "stderr",
     "output_type": "stream",
     "text": [
      "100%|###################################################################################|175/175[00:04<00:00,41.69it/s]"
     ]
    },
    {
     "name": "stdout",
     "output_type": "stream",
     "text": [
      "\u001b[32m[1029 16:51:50 @base.py:285]\u001b[0m Epoch 272 (global_step 71399) finished, time:4.2 seconds.\n",
      "\u001b[32m[1029 16:51:50 @saver.py:79]\u001b[0m Model saved to ../output/Chicago/NOLINKS/model\\model-71399.\n",
      "\u001b[32m[1029 16:51:50 @monitor.py:467]\u001b[0m GAN_loss/d_loss: -0.077186\n",
      "\u001b[32m[1029 16:51:50 @monitor.py:467]\u001b[0m GAN_loss/g_loss: -0.12367\n",
      "\u001b[32m[1029 16:51:50 @monitor.py:467]\u001b[0m GAN_loss/kl_div: 0.11139\n",
      "\u001b[32m[1029 16:51:50 @monitor.py:467]\u001b[0m QueueInput/queue_size: 50\n",
      "\u001b[32m[1029 16:51:50 @base.py:275]\u001b[0m Start Epoch 273 ...\n"
     ]
    },
    {
     "name": "stderr",
     "output_type": "stream",
     "text": [
      "\n",
      "100%|###################################################################################|175/175[00:04<00:00,42.49it/s]"
     ]
    },
    {
     "name": "stdout",
     "output_type": "stream",
     "text": [
      "\u001b[32m[1029 16:51:54 @base.py:285]\u001b[0m Epoch 273 (global_step 71662) finished, time:4.12 seconds.\n",
      "\u001b[32m[1029 16:51:54 @saver.py:79]\u001b[0m Model saved to ../output/Chicago/NOLINKS/model\\model-71662.\n",
      "\u001b[32m[1029 16:51:54 @monitor.py:467]\u001b[0m GAN_loss/d_loss: -0.078067\n",
      "\u001b[32m[1029 16:51:54 @monitor.py:467]\u001b[0m GAN_loss/g_loss: -0.12478\n",
      "\u001b[32m[1029 16:51:54 @monitor.py:467]\u001b[0m GAN_loss/kl_div: 0.10353\n",
      "\u001b[32m[1029 16:51:54 @monitor.py:467]\u001b[0m QueueInput/queue_size: 50\n",
      "\u001b[32m[1029 16:51:54 @base.py:275]\u001b[0m Start Epoch 274 ...\n"
     ]
    },
    {
     "name": "stderr",
     "output_type": "stream",
     "text": [
      "\n",
      "100%|###################################################################################|175/175[00:04<00:00,42.28it/s]"
     ]
    },
    {
     "name": "stdout",
     "output_type": "stream",
     "text": [
      "\u001b[32m[1029 16:51:58 @base.py:285]\u001b[0m Epoch 274 (global_step 71924) finished, time:4.14 seconds.\n",
      "\u001b[32m[1029 16:51:58 @saver.py:79]\u001b[0m Model saved to ../output/Chicago/NOLINKS/model\\model-71924.\n",
      "\u001b[32m[1029 16:51:58 @monitor.py:467]\u001b[0m GAN_loss/d_loss: -0.077832\n",
      "\u001b[32m[1029 16:51:58 @monitor.py:467]\u001b[0m GAN_loss/g_loss: -0.12352\n",
      "\u001b[32m[1029 16:51:58 @monitor.py:467]\u001b[0m GAN_loss/kl_div: 0.10931\n",
      "\u001b[32m[1029 16:51:58 @monitor.py:467]\u001b[0m QueueInput/queue_size: 50\n",
      "\u001b[32m[1029 16:51:58 @base.py:275]\u001b[0m Start Epoch 275 ...\n"
     ]
    },
    {
     "name": "stderr",
     "output_type": "stream",
     "text": [
      "\n",
      "100%|###################################################################################|175/175[00:04<00:00,41.61it/s]"
     ]
    },
    {
     "name": "stdout",
     "output_type": "stream",
     "text": [
      "\u001b[32m[1029 16:52:02 @base.py:285]\u001b[0m Epoch 275 (global_step 72187) finished, time:4.21 seconds.\n"
     ]
    },
    {
     "name": "stderr",
     "output_type": "stream",
     "text": [
      "\n"
     ]
    },
    {
     "name": "stdout",
     "output_type": "stream",
     "text": [
      "\u001b[32m[1029 16:52:03 @saver.py:79]\u001b[0m Model saved to ../output/Chicago/NOLINKS/model\\model-72187.\n",
      "\u001b[32m[1029 16:52:03 @monitor.py:467]\u001b[0m GAN_loss/d_loss: -0.078048\n",
      "\u001b[32m[1029 16:52:03 @monitor.py:467]\u001b[0m GAN_loss/g_loss: -0.12465\n",
      "\u001b[32m[1029 16:52:03 @monitor.py:467]\u001b[0m GAN_loss/kl_div: 0.10205\n",
      "\u001b[32m[1029 16:52:03 @monitor.py:467]\u001b[0m QueueInput/queue_size: 50\n",
      "\u001b[32m[1029 16:52:03 @base.py:275]\u001b[0m Start Epoch 276 ...\n"
     ]
    },
    {
     "name": "stderr",
     "output_type": "stream",
     "text": [
      "100%|###################################################################################|175/175[00:04<00:00,42.62it/s]"
     ]
    },
    {
     "name": "stdout",
     "output_type": "stream",
     "text": [
      "\u001b[32m[1029 16:52:07 @base.py:285]\u001b[0m Epoch 276 (global_step 72449) finished, time:4.11 seconds.\n",
      "\u001b[32m[1029 16:52:07 @saver.py:79]\u001b[0m Model saved to ../output/Chicago/NOLINKS/model\\model-72449.\n",
      "\u001b[32m[1029 16:52:07 @monitor.py:467]\u001b[0m GAN_loss/d_loss: -0.077954\n",
      "\u001b[32m[1029 16:52:07 @monitor.py:467]\u001b[0m GAN_loss/g_loss: -0.12643\n",
      "\u001b[32m[1029 16:52:07 @monitor.py:467]\u001b[0m GAN_loss/kl_div: 0.10485\n",
      "\u001b[32m[1029 16:52:07 @monitor.py:467]\u001b[0m QueueInput/queue_size: 50\n",
      "\u001b[32m[1029 16:52:07 @base.py:275]\u001b[0m Start Epoch 277 ...\n"
     ]
    },
    {
     "name": "stderr",
     "output_type": "stream",
     "text": [
      "\n",
      "100%|###################################################################################|175/175[00:04<00:00,41.36it/s]"
     ]
    },
    {
     "name": "stdout",
     "output_type": "stream",
     "text": [
      "\u001b[32m[1029 16:52:11 @base.py:285]\u001b[0m Epoch 277 (global_step 72712) finished, time:4.23 seconds.\n",
      "\u001b[32m[1029 16:52:11 @saver.py:79]\u001b[0m Model saved to ../output/Chicago/NOLINKS/model\\model-72712.\n",
      "\u001b[32m[1029 16:52:11 @monitor.py:467]\u001b[0m GAN_loss/d_loss: -0.077968\n"
     ]
    },
    {
     "name": "stderr",
     "output_type": "stream",
     "text": [
      "\n"
     ]
    },
    {
     "name": "stdout",
     "output_type": "stream",
     "text": [
      "\u001b[32m[1029 16:52:11 @monitor.py:467]\u001b[0m GAN_loss/g_loss: -0.12496\n",
      "\u001b[32m[1029 16:52:11 @monitor.py:467]\u001b[0m GAN_loss/kl_div: 0.1136\n",
      "\u001b[32m[1029 16:52:11 @monitor.py:467]\u001b[0m QueueInput/queue_size: 50\n",
      "\u001b[32m[1029 16:52:11 @base.py:275]\u001b[0m Start Epoch 278 ...\n"
     ]
    },
    {
     "name": "stderr",
     "output_type": "stream",
     "text": [
      "100%|###################################################################################|175/175[00:04<00:00,41.85it/s]"
     ]
    },
    {
     "name": "stdout",
     "output_type": "stream",
     "text": [
      "\u001b[32m[1029 16:52:15 @base.py:285]\u001b[0m Epoch 278 (global_step 72974) finished, time:4.18 seconds.\n",
      "\u001b[32m[1029 16:52:15 @saver.py:79]\u001b[0m Model saved to ../output/Chicago/NOLINKS/model\\model-72974.\n",
      "\u001b[32m[1029 16:52:15 @monitor.py:467]\u001b[0m GAN_loss/d_loss: -0.077007\n",
      "\u001b[32m[1029 16:52:15 @monitor.py:467]\u001b[0m GAN_loss/g_loss: -0.12496\n",
      "\u001b[32m[1029 16:52:15 @monitor.py:467]\u001b[0m GAN_loss/kl_div: 0.11266\n",
      "\u001b[32m[1029 16:52:15 @monitor.py:467]\u001b[0m QueueInput/queue_size: 50\n",
      "\u001b[32m[1029 16:52:15 @base.py:275]\u001b[0m Start Epoch 279 ...\n"
     ]
    },
    {
     "name": "stderr",
     "output_type": "stream",
     "text": [
      "\n",
      "100%|###################################################################################|175/175[00:04<00:00,42.49it/s]"
     ]
    },
    {
     "name": "stdout",
     "output_type": "stream",
     "text": [
      "\u001b[32m[1029 16:52:20 @base.py:285]\u001b[0m Epoch 279 (global_step 73237) finished, time:4.12 seconds.\n",
      "\u001b[32m[1029 16:52:20 @saver.py:79]\u001b[0m Model saved to ../output/Chicago/NOLINKS/model\\model-73237.\n",
      "\u001b[32m[1029 16:52:20 @monitor.py:467]\u001b[0m GAN_loss/d_loss: -0.077618\n",
      "\u001b[32m[1029 16:52:20 @monitor.py:467]\u001b[0m GAN_loss/g_loss: -0.12401\n",
      "\u001b[32m[1029 16:52:20 @monitor.py:467]\u001b[0m GAN_loss/kl_div: 0.11298\n",
      "\u001b[32m[1029 16:52:20 @monitor.py:467]\u001b[0m QueueInput/queue_size: 50\n",
      "\u001b[32m[1029 16:52:20 @base.py:275]\u001b[0m Start Epoch 280 ...\n"
     ]
    },
    {
     "name": "stderr",
     "output_type": "stream",
     "text": [
      "\n",
      "100%|###################################################################################|175/175[00:04<00:00,42.35it/s]"
     ]
    },
    {
     "name": "stdout",
     "output_type": "stream",
     "text": [
      "\u001b[32m[1029 16:52:24 @base.py:285]\u001b[0m Epoch 280 (global_step 73499) finished, time:4.13 seconds.\n",
      "\u001b[32m[1029 16:52:24 @saver.py:79]\u001b[0m Model saved to ../output/Chicago/NOLINKS/model\\model-73499.\n",
      "\u001b[32m[1029 16:52:24 @monitor.py:467]\u001b[0m GAN_loss/d_loss: -0.077299\n",
      "\u001b[32m[1029 16:52:24 @monitor.py:467]\u001b[0m GAN_loss/g_loss: -0.12561\n",
      "\u001b[32m[1029 16:52:24 @monitor.py:467]\u001b[0m GAN_loss/kl_div: 0.1078\n",
      "\u001b[32m[1029 16:52:24 @monitor.py:467]\u001b[0m QueueInput/queue_size: 50\n",
      "\u001b[32m[1029 16:52:24 @base.py:275]\u001b[0m Start Epoch 281 ...\n"
     ]
    },
    {
     "name": "stderr",
     "output_type": "stream",
     "text": [
      "\n",
      "100%|###################################################################################|175/175[00:04<00:00,42.63it/s]"
     ]
    },
    {
     "name": "stdout",
     "output_type": "stream",
     "text": [
      "\u001b[32m[1029 16:52:28 @base.py:285]\u001b[0m Epoch 281 (global_step 73762) finished, time:4.11 seconds.\n",
      "\u001b[32m[1029 16:52:28 @saver.py:79]\u001b[0m Model saved to ../output/Chicago/NOLINKS/model\\model-73762.\n",
      "\u001b[32m[1029 16:52:28 @monitor.py:467]\u001b[0m GAN_loss/d_loss: -0.0773\n",
      "\u001b[32m[1029 16:52:28 @monitor.py:467]\u001b[0m GAN_loss/g_loss: -0.12495\n",
      "\u001b[32m[1029 16:52:28 @monitor.py:467]\u001b[0m GAN_loss/kl_div: 0.10236\n",
      "\u001b[32m[1029 16:52:28 @monitor.py:467]\u001b[0m QueueInput/queue_size: 50\n",
      "\u001b[32m[1029 16:52:28 @base.py:275]\u001b[0m Start Epoch 282 ...\n"
     ]
    },
    {
     "name": "stderr",
     "output_type": "stream",
     "text": [
      "\n",
      "100%|###################################################################################|175/175[00:04<00:00,43.04it/s]"
     ]
    },
    {
     "name": "stdout",
     "output_type": "stream",
     "text": [
      "\u001b[32m[1029 16:52:32 @base.py:285]\u001b[0m Epoch 282 (global_step 74024) finished, time:4.07 seconds.\n",
      "\u001b[32m[1029 16:52:32 @saver.py:79]\u001b[0m Model saved to ../output/Chicago/NOLINKS/model\\model-74024.\n",
      "\u001b[32m[1029 16:52:32 @monitor.py:467]\u001b[0m GAN_loss/d_loss: -0.075751\n",
      "\u001b[32m[1029 16:52:32 @monitor.py:467]\u001b[0m GAN_loss/g_loss: -0.12667\n",
      "\u001b[32m[1029 16:52:32 @monitor.py:467]\u001b[0m GAN_loss/kl_div: 0.11658\n",
      "\u001b[32m[1029 16:52:32 @monitor.py:467]\u001b[0m QueueInput/queue_size: 50\n",
      "\u001b[32m[1029 16:52:32 @base.py:275]\u001b[0m Start Epoch 283 ...\n"
     ]
    },
    {
     "name": "stderr",
     "output_type": "stream",
     "text": [
      "\n",
      "100%|###################################################################################|175/175[00:04<00:00,43.06it/s]"
     ]
    },
    {
     "name": "stdout",
     "output_type": "stream",
     "text": [
      "\u001b[32m[1029 16:52:36 @base.py:285]\u001b[0m Epoch 283 (global_step 74287) finished, time:4.06 seconds.\n",
      "\u001b[32m[1029 16:52:36 @saver.py:79]\u001b[0m Model saved to ../output/Chicago/NOLINKS/model\\model-74287.\n",
      "\u001b[32m[1029 16:52:36 @monitor.py:467]\u001b[0m GAN_loss/d_loss: -0.075561\n",
      "\u001b[32m[1029 16:52:36 @monitor.py:467]\u001b[0m GAN_loss/g_loss: -0.12678\n",
      "\u001b[32m[1029 16:52:36 @monitor.py:467]\u001b[0m GAN_loss/kl_div: 0.10261\n",
      "\u001b[32m[1029 16:52:36 @monitor.py:467]\u001b[0m QueueInput/queue_size: 50\n",
      "\u001b[32m[1029 16:52:36 @base.py:275]\u001b[0m Start Epoch 284 ...\n"
     ]
    },
    {
     "name": "stderr",
     "output_type": "stream",
     "text": [
      "\n",
      "100%|###################################################################################|175/175[00:04<00:00,42.88it/s]"
     ]
    },
    {
     "name": "stdout",
     "output_type": "stream",
     "text": [
      "\u001b[32m[1029 16:52:41 @base.py:285]\u001b[0m Epoch 284 (global_step 74549) finished, time:4.08 seconds.\n",
      "\u001b[32m[1029 16:52:41 @saver.py:79]\u001b[0m Model saved to ../output/Chicago/NOLINKS/model\\model-74549.\n",
      "\u001b[32m[1029 16:52:41 @monitor.py:467]\u001b[0m GAN_loss/d_loss: -0.076547\n",
      "\u001b[32m[1029 16:52:41 @monitor.py:467]\u001b[0m GAN_loss/g_loss: -0.12579\n",
      "\u001b[32m[1029 16:52:41 @monitor.py:467]\u001b[0m GAN_loss/kl_div: 0.10562\n",
      "\u001b[32m[1029 16:52:41 @monitor.py:467]\u001b[0m QueueInput/queue_size: 50\n",
      "\u001b[32m[1029 16:52:41 @base.py:275]\u001b[0m Start Epoch 285 ...\n"
     ]
    },
    {
     "name": "stderr",
     "output_type": "stream",
     "text": [
      "\n",
      "100%|###################################################################################|175/175[00:04<00:00,42.37it/s]"
     ]
    },
    {
     "name": "stdout",
     "output_type": "stream",
     "text": [
      "\u001b[32m[1029 16:52:45 @base.py:285]\u001b[0m Epoch 285 (global_step 74812) finished, time:4.13 seconds.\n",
      "\u001b[32m[1029 16:52:45 @saver.py:79]\u001b[0m Model saved to ../output/Chicago/NOLINKS/model\\model-74812.\n",
      "\u001b[32m[1029 16:52:45 @monitor.py:467]\u001b[0m GAN_loss/d_loss: -0.074808\n",
      "\u001b[32m[1029 16:52:45 @monitor.py:467]\u001b[0m GAN_loss/g_loss: -0.1267\n",
      "\u001b[32m[1029 16:52:45 @monitor.py:467]\u001b[0m GAN_loss/kl_div: 0.10383\n",
      "\u001b[32m[1029 16:52:45 @monitor.py:467]\u001b[0m QueueInput/queue_size: 50\n",
      "\u001b[32m[1029 16:52:45 @base.py:275]\u001b[0m Start Epoch 286 ...\n"
     ]
    },
    {
     "name": "stderr",
     "output_type": "stream",
     "text": [
      "\n",
      "100%|###################################################################################|175/175[00:04<00:00,42.59it/s]"
     ]
    },
    {
     "name": "stdout",
     "output_type": "stream",
     "text": [
      "\u001b[32m[1029 16:52:49 @base.py:285]\u001b[0m Epoch 286 (global_step 75074) finished, time:4.11 seconds.\n",
      "\u001b[32m[1029 16:52:49 @saver.py:79]\u001b[0m Model saved to ../output/Chicago/NOLINKS/model\\model-75074.\n",
      "\u001b[32m[1029 16:52:49 @monitor.py:467]\u001b[0m GAN_loss/d_loss: -0.075543\n",
      "\u001b[32m[1029 16:52:49 @monitor.py:467]\u001b[0m GAN_loss/g_loss: -0.12612\n",
      "\u001b[32m[1029 16:52:49 @monitor.py:467]\u001b[0m GAN_loss/kl_div: 0.10579\n",
      "\u001b[32m[1029 16:52:49 @monitor.py:467]\u001b[0m QueueInput/queue_size: 50\n",
      "\u001b[32m[1029 16:52:49 @base.py:275]\u001b[0m Start Epoch 287 ...\n"
     ]
    },
    {
     "name": "stderr",
     "output_type": "stream",
     "text": [
      "\n",
      "100%|###################################################################################|175/175[00:04<00:00,43.01it/s]"
     ]
    },
    {
     "name": "stdout",
     "output_type": "stream",
     "text": [
      "\u001b[32m[1029 16:52:53 @base.py:285]\u001b[0m Epoch 287 (global_step 75337) finished, time:4.07 seconds.\n",
      "\u001b[32m[1029 16:52:53 @saver.py:79]\u001b[0m Model saved to ../output/Chicago/NOLINKS/model\\model-75337.\n",
      "\u001b[32m[1029 16:52:53 @monitor.py:467]\u001b[0m GAN_loss/d_loss: -0.075237\n",
      "\u001b[32m[1029 16:52:53 @monitor.py:467]\u001b[0m GAN_loss/g_loss: -0.12557\n",
      "\u001b[32m[1029 16:52:53 @monitor.py:467]\u001b[0m GAN_loss/kl_div: 0.10861\n",
      "\u001b[32m[1029 16:52:53 @monitor.py:467]\u001b[0m QueueInput/queue_size: 50\n",
      "\u001b[32m[1029 16:52:53 @base.py:275]\u001b[0m Start Epoch 288 ...\n"
     ]
    },
    {
     "name": "stderr",
     "output_type": "stream",
     "text": [
      "\n",
      "100%|###################################################################################|175/175[00:04<00:00,42.27it/s]"
     ]
    },
    {
     "name": "stdout",
     "output_type": "stream",
     "text": [
      "\u001b[32m[1029 16:52:57 @base.py:285]\u001b[0m Epoch 288 (global_step 75599) finished, time:4.14 seconds.\n",
      "\u001b[32m[1029 16:52:57 @saver.py:79]\u001b[0m Model saved to ../output/Chicago/NOLINKS/model\\model-75599.\n",
      "\u001b[32m[1029 16:52:57 @monitor.py:467]\u001b[0m GAN_loss/d_loss: -0.074415\n",
      "\u001b[32m[1029 16:52:57 @monitor.py:467]\u001b[0m GAN_loss/g_loss: -0.12619\n",
      "\u001b[32m[1029 16:52:57 @monitor.py:467]\u001b[0m GAN_loss/kl_div: 0.10922\n",
      "\u001b[32m[1029 16:52:57 @monitor.py:467]\u001b[0m QueueInput/queue_size: 50\n",
      "\u001b[32m[1029 16:52:57 @base.py:275]\u001b[0m Start Epoch 289 ...\n"
     ]
    },
    {
     "name": "stderr",
     "output_type": "stream",
     "text": [
      "\n",
      "100%|###################################################################################|175/175[00:04<00:00,42.67it/s]"
     ]
    },
    {
     "name": "stdout",
     "output_type": "stream",
     "text": [
      "\u001b[32m[1029 16:53:02 @base.py:285]\u001b[0m Epoch 289 (global_step 75862) finished, time:4.1 seconds.\n",
      "\u001b[32m[1029 16:53:02 @saver.py:79]\u001b[0m Model saved to ../output/Chicago/NOLINKS/model\\model-75862.\n",
      "\u001b[32m[1029 16:53:02 @monitor.py:467]\u001b[0m GAN_loss/d_loss: -0.074472\n",
      "\u001b[32m[1029 16:53:02 @monitor.py:467]\u001b[0m GAN_loss/g_loss: -0.12691\n",
      "\u001b[32m[1029 16:53:02 @monitor.py:467]\u001b[0m GAN_loss/kl_div: 0.10512\n",
      "\u001b[32m[1029 16:53:02 @monitor.py:467]\u001b[0m QueueInput/queue_size: 50\n",
      "\u001b[32m[1029 16:53:02 @base.py:275]\u001b[0m Start Epoch 290 ...\n"
     ]
    },
    {
     "name": "stderr",
     "output_type": "stream",
     "text": [
      "\n",
      "100%|###################################################################################|175/175[00:04<00:00,42.70it/s]"
     ]
    },
    {
     "name": "stdout",
     "output_type": "stream",
     "text": [
      "\u001b[32m[1029 16:53:06 @base.py:285]\u001b[0m Epoch 290 (global_step 76124) finished, time:4.1 seconds.\n",
      "\u001b[32m[1029 16:53:06 @saver.py:79]\u001b[0m Model saved to ../output/Chicago/NOLINKS/model\\model-76124.\n",
      "\u001b[32m[1029 16:53:06 @monitor.py:467]\u001b[0m GAN_loss/d_loss: -0.074655\n",
      "\u001b[32m[1029 16:53:06 @monitor.py:467]\u001b[0m GAN_loss/g_loss: -0.12673\n",
      "\u001b[32m[1029 16:53:06 @monitor.py:467]\u001b[0m GAN_loss/kl_div: 0.10597\n",
      "\u001b[32m[1029 16:53:06 @monitor.py:467]\u001b[0m QueueInput/queue_size: 50\n",
      "\u001b[32m[1029 16:53:06 @base.py:275]\u001b[0m Start Epoch 291 ...\n"
     ]
    },
    {
     "name": "stderr",
     "output_type": "stream",
     "text": [
      "\n",
      "100%|###################################################################################|175/175[00:04<00:00,42.63it/s]"
     ]
    },
    {
     "name": "stdout",
     "output_type": "stream",
     "text": [
      "\u001b[32m[1029 16:53:10 @base.py:285]\u001b[0m Epoch 291 (global_step 76387) finished, time:4.11 seconds.\n",
      "\u001b[32m[1029 16:53:10 @saver.py:79]\u001b[0m Model saved to ../output/Chicago/NOLINKS/model\\model-76387.\n",
      "\u001b[32m[1029 16:53:10 @monitor.py:467]\u001b[0m GAN_loss/d_loss: -0.075606\n",
      "\u001b[32m[1029 16:53:10 @monitor.py:467]\u001b[0m GAN_loss/g_loss: -0.1264\n",
      "\u001b[32m[1029 16:53:10 @monitor.py:467]\u001b[0m GAN_loss/kl_div: 0.10702\n",
      "\u001b[32m[1029 16:53:10 @monitor.py:467]\u001b[0m QueueInput/queue_size: 50\n",
      "\u001b[32m[1029 16:53:10 @base.py:275]\u001b[0m Start Epoch 292 ...\n"
     ]
    },
    {
     "name": "stderr",
     "output_type": "stream",
     "text": [
      "\n",
      "100%|###################################################################################|175/175[00:04<00:00,42.82it/s]"
     ]
    },
    {
     "name": "stdout",
     "output_type": "stream",
     "text": [
      "\u001b[32m[1029 16:53:14 @base.py:285]\u001b[0m Epoch 292 (global_step 76649) finished, time:4.09 seconds.\n",
      "\u001b[32m[1029 16:53:14 @saver.py:79]\u001b[0m Model saved to ../output/Chicago/NOLINKS/model\\model-76649.\n",
      "\u001b[32m[1029 16:53:14 @monitor.py:467]\u001b[0m GAN_loss/d_loss: -0.075011\n",
      "\u001b[32m[1029 16:53:14 @monitor.py:467]\u001b[0m GAN_loss/g_loss: -0.12641\n",
      "\u001b[32m[1029 16:53:14 @monitor.py:467]\u001b[0m GAN_loss/kl_div: 0.10229\n",
      "\u001b[32m[1029 16:53:14 @monitor.py:467]\u001b[0m QueueInput/queue_size: 50\n",
      "\u001b[32m[1029 16:53:14 @base.py:275]\u001b[0m Start Epoch 293 ...\n"
     ]
    },
    {
     "name": "stderr",
     "output_type": "stream",
     "text": [
      "\n",
      "100%|###################################################################################|175/175[00:04<00:00,42.77it/s]"
     ]
    },
    {
     "name": "stdout",
     "output_type": "stream",
     "text": [
      "\u001b[32m[1029 16:53:18 @base.py:285]\u001b[0m Epoch 293 (global_step 76912) finished, time:4.09 seconds.\n",
      "\u001b[32m[1029 16:53:18 @saver.py:79]\u001b[0m Model saved to ../output/Chicago/NOLINKS/model\\model-76912.\n",
      "\u001b[32m[1029 16:53:18 @monitor.py:467]\u001b[0m GAN_loss/d_loss: -0.07477\n",
      "\u001b[32m[1029 16:53:18 @monitor.py:467]\u001b[0m GAN_loss/g_loss: -0.12636\n",
      "\u001b[32m[1029 16:53:18 @monitor.py:467]\u001b[0m GAN_loss/kl_div: 0.11612\n",
      "\u001b[32m[1029 16:53:18 @monitor.py:467]\u001b[0m QueueInput/queue_size: 50\n",
      "\u001b[32m[1029 16:53:18 @base.py:275]\u001b[0m Start Epoch 294 ...\n"
     ]
    },
    {
     "name": "stderr",
     "output_type": "stream",
     "text": [
      "\n",
      "100%|###################################################################################|175/175[00:04<00:00,43.11it/s]"
     ]
    },
    {
     "name": "stdout",
     "output_type": "stream",
     "text": [
      "\u001b[32m[1029 16:53:22 @base.py:285]\u001b[0m Epoch 294 (global_step 77174) finished, time:4.06 seconds.\n",
      "\u001b[32m[1029 16:53:22 @saver.py:79]\u001b[0m Model saved to ../output/Chicago/NOLINKS/model\\model-77174.\n",
      "\u001b[32m[1029 16:53:22 @monitor.py:467]\u001b[0m GAN_loss/d_loss: -0.074703\n",
      "\u001b[32m[1029 16:53:22 @monitor.py:467]\u001b[0m GAN_loss/g_loss: -0.12674\n",
      "\u001b[32m[1029 16:53:22 @monitor.py:467]\u001b[0m GAN_loss/kl_div: 0.10831\n",
      "\u001b[32m[1029 16:53:22 @monitor.py:467]\u001b[0m QueueInput/queue_size: 50\n",
      "\u001b[32m[1029 16:53:22 @base.py:275]\u001b[0m Start Epoch 295 ...\n"
     ]
    },
    {
     "name": "stderr",
     "output_type": "stream",
     "text": [
      "\n",
      "100%|###################################################################################|175/175[00:04<00:00,42.10it/s]"
     ]
    },
    {
     "name": "stdout",
     "output_type": "stream",
     "text": [
      "\u001b[32m[1029 16:53:27 @base.py:285]\u001b[0m Epoch 295 (global_step 77437) finished, time:4.16 seconds.\n",
      "\u001b[32m[1029 16:53:27 @saver.py:79]\u001b[0m Model saved to ../output/Chicago/NOLINKS/model\\model-77437.\n",
      "\u001b[32m[1029 16:53:27 @monitor.py:467]\u001b[0m GAN_loss/d_loss: -0.074318\n",
      "\u001b[32m[1029 16:53:27 @monitor.py:467]\u001b[0m GAN_loss/g_loss: -0.12728\n",
      "\u001b[32m[1029 16:53:27 @monitor.py:467]\u001b[0m GAN_loss/kl_div: 0.10883\n",
      "\u001b[32m[1029 16:53:27 @monitor.py:467]\u001b[0m QueueInput/queue_size: 50\n",
      "\u001b[32m[1029 16:53:27 @base.py:275]\u001b[0m Start Epoch 296 ...\n"
     ]
    },
    {
     "name": "stderr",
     "output_type": "stream",
     "text": [
      "\n",
      "100%|###################################################################################|175/175[00:04<00:00,42.68it/s]"
     ]
    },
    {
     "name": "stdout",
     "output_type": "stream",
     "text": [
      "\u001b[32m[1029 16:53:31 @base.py:285]\u001b[0m Epoch 296 (global_step 77699) finished, time:4.1 seconds.\n",
      "\u001b[32m[1029 16:53:31 @saver.py:79]\u001b[0m Model saved to ../output/Chicago/NOLINKS/model\\model-77699.\n",
      "\u001b[32m[1029 16:53:31 @monitor.py:467]\u001b[0m GAN_loss/d_loss: -0.073315\n",
      "\u001b[32m[1029 16:53:31 @monitor.py:467]\u001b[0m GAN_loss/g_loss: -0.12704\n",
      "\u001b[32m[1029 16:53:31 @monitor.py:467]\u001b[0m GAN_loss/kl_div: 0.10501\n",
      "\u001b[32m[1029 16:53:31 @monitor.py:467]\u001b[0m QueueInput/queue_size: 50\n",
      "\u001b[32m[1029 16:53:31 @base.py:275]\u001b[0m Start Epoch 297 ...\n"
     ]
    },
    {
     "name": "stderr",
     "output_type": "stream",
     "text": [
      "\n",
      "100%|###################################################################################|175/175[00:04<00:00,42.26it/s]"
     ]
    },
    {
     "name": "stdout",
     "output_type": "stream",
     "text": [
      "\u001b[32m[1029 16:53:35 @base.py:285]\u001b[0m Epoch 297 (global_step 77962) finished, time:4.14 seconds.\n",
      "\u001b[32m[1029 16:53:35 @saver.py:79]\u001b[0m Model saved to ../output/Chicago/NOLINKS/model\\model-77962.\n",
      "\u001b[32m[1029 16:53:35 @monitor.py:467]\u001b[0m GAN_loss/d_loss: -0.074549\n",
      "\u001b[32m[1029 16:53:35 @monitor.py:467]\u001b[0m GAN_loss/g_loss: -0.12679\n",
      "\u001b[32m[1029 16:53:35 @monitor.py:467]\u001b[0m GAN_loss/kl_div: 0.10865\n",
      "\u001b[32m[1029 16:53:35 @monitor.py:467]\u001b[0m QueueInput/queue_size: 50\n",
      "\u001b[32m[1029 16:53:35 @base.py:275]\u001b[0m Start Epoch 298 ...\n"
     ]
    },
    {
     "name": "stderr",
     "output_type": "stream",
     "text": [
      "\n",
      "100%|###################################################################################|175/175[00:04<00:00,42.60it/s]"
     ]
    },
    {
     "name": "stdout",
     "output_type": "stream",
     "text": [
      "\u001b[32m[1029 16:53:39 @base.py:285]\u001b[0m Epoch 298 (global_step 78224) finished, time:4.11 seconds.\n",
      "\u001b[32m[1029 16:53:39 @saver.py:79]\u001b[0m Model saved to ../output/Chicago/NOLINKS/model\\model-78224.\n",
      "\u001b[32m[1029 16:53:39 @monitor.py:467]\u001b[0m GAN_loss/d_loss: -0.07293\n",
      "\u001b[32m[1029 16:53:39 @monitor.py:467]\u001b[0m GAN_loss/g_loss: -0.12699\n",
      "\u001b[32m[1029 16:53:39 @monitor.py:467]\u001b[0m GAN_loss/kl_div: 0.10636\n",
      "\u001b[32m[1029 16:53:39 @monitor.py:467]\u001b[0m QueueInput/queue_size: 50\n",
      "\u001b[32m[1029 16:53:39 @base.py:275]\u001b[0m Start Epoch 299 ...\n"
     ]
    },
    {
     "name": "stderr",
     "output_type": "stream",
     "text": [
      "\n",
      "100%|###################################################################################|175/175[00:04<00:00,42.55it/s]"
     ]
    },
    {
     "name": "stdout",
     "output_type": "stream",
     "text": [
      "\u001b[32m[1029 16:53:43 @base.py:285]\u001b[0m Epoch 299 (global_step 78487) finished, time:4.11 seconds.\n",
      "\u001b[32m[1029 16:53:44 @saver.py:79]\u001b[0m Model saved to ../output/Chicago/NOLINKS/model\\model-78487.\n",
      "\u001b[32m[1029 16:53:44 @monitor.py:467]\u001b[0m GAN_loss/d_loss: -0.075522\n",
      "\u001b[32m[1029 16:53:44 @monitor.py:467]\u001b[0m GAN_loss/g_loss: -0.12539\n",
      "\u001b[32m[1029 16:53:44 @monitor.py:467]\u001b[0m GAN_loss/kl_div: 0.11116\n",
      "\u001b[32m[1029 16:53:44 @monitor.py:467]\u001b[0m QueueInput/queue_size: 50\n",
      "\u001b[32m[1029 16:53:44 @base.py:275]\u001b[0m Start Epoch 300 ...\n"
     ]
    },
    {
     "name": "stderr",
     "output_type": "stream",
     "text": [
      "\n",
      "100%|###################################################################################|175/175[00:04<00:00,41.43it/s]"
     ]
    },
    {
     "name": "stdout",
     "output_type": "stream",
     "text": [
      "\u001b[32m[1029 16:53:48 @base.py:285]\u001b[0m Epoch 300 (global_step 78749) finished, time:4.22 seconds.\n",
      "\u001b[32m[1029 16:53:48 @saver.py:79]\u001b[0m Model saved to ../output/Chicago/NOLINKS/model\\model-78749.\n"
     ]
    },
    {
     "name": "stderr",
     "output_type": "stream",
     "text": [
      "\n"
     ]
    },
    {
     "name": "stdout",
     "output_type": "stream",
     "text": [
      "\u001b[32m[1029 16:53:48 @monitor.py:467]\u001b[0m GAN_loss/d_loss: -0.073397\n",
      "\u001b[32m[1029 16:53:48 @monitor.py:467]\u001b[0m GAN_loss/g_loss: -0.12725\n",
      "\u001b[32m[1029 16:53:48 @monitor.py:467]\u001b[0m GAN_loss/kl_div: 0.10784\n",
      "\u001b[32m[1029 16:53:48 @monitor.py:467]\u001b[0m QueueInput/queue_size: 50\n",
      "\u001b[32m[1029 16:53:48 @base.py:289]\u001b[0m Training has finished!\n",
      "WARNING:tensorflow:From D:\\Users\\glede\\anaconda3\\envs\\py37\\lib\\site-packages\\tensorpack\\predict\\config.py:101: The name tf.train.ChiefSessionCreator is deprecated. Please use tf.compat.v1.train.ChiefSessionCreator instead.\n",
      "\n",
      "\u001b[32m[1029 16:53:48 @DATSGANModel.py:209]\u001b[0m \u001b[91mCreating cell for choice (in-edges: 0)\n",
      "\u001b[32m[1029 16:53:48 @DATSGANModel.py:209]\u001b[0m \u001b[91mCreating cell for travel_dow (in-edges: 0)\n",
      "\u001b[32m[1029 16:53:48 @DATSGANModel.py:209]\u001b[0m \u001b[91mCreating cell for trip_purpose (in-edges: 0)\n",
      "\u001b[32m[1029 16:53:48 @DATSGANModel.py:209]\u001b[0m \u001b[91mCreating cell for distance (in-edges: 0)\n",
      "\u001b[32m[1029 16:53:48 @DATSGANModel.py:209]\u001b[0m \u001b[91mCreating cell for hh_vehicles (in-edges: 0)\n",
      "\u001b[32m[1029 16:53:48 @DATSGANModel.py:209]\u001b[0m \u001b[91mCreating cell for hh_size (in-edges: 0)\n",
      "\u001b[32m[1029 16:53:48 @DATSGANModel.py:209]\u001b[0m \u001b[91mCreating cell for hh_bikes (in-edges: 0)\n",
      "\u001b[32m[1029 16:53:48 @DATSGANModel.py:209]\u001b[0m \u001b[91mCreating cell for hh_descr (in-edges: 0)\n",
      "\u001b[32m[1029 16:53:48 @DATSGANModel.py:209]\u001b[0m \u001b[91mCreating cell for hh_income (in-edges: 0)\n",
      "\u001b[32m[1029 16:53:48 @DATSGANModel.py:209]\u001b[0m \u001b[91mCreating cell for gender (in-edges: 0)\n",
      "\u001b[32m[1029 16:53:49 @DATSGANModel.py:209]\u001b[0m \u001b[91mCreating cell for age (in-edges: 0)\n",
      "\u001b[32m[1029 16:53:49 @input_source.py:178]\u001b[0m EnqueueThread QueueInput/input_queue Exited.\n",
      "\u001b[32m[1029 16:53:49 @DATSGANModel.py:209]\u001b[0m \u001b[91mCreating cell for license (in-edges: 0)\n",
      "\u001b[32m[1029 16:53:49 @DATSGANModel.py:209]\u001b[0m \u001b[91mCreating cell for education_level (in-edges: 0)\n",
      "\u001b[32m[1029 16:53:49 @DATSGANModel.py:209]\u001b[0m \u001b[91mCreating cell for work_status (in-edges: 0)\n",
      "\u001b[32m[1029 16:53:49 @DATSGANModel.py:209]\u001b[0m \u001b[91mCreating cell for departure_time (in-edges: 0)\n",
      "WARNING:tensorflow:From D:\\Users\\glede\\anaconda3\\envs\\py37\\lib\\site-packages\\tensorpack\\tfutils\\collection.py:45: The name tf.get_collection_ref is deprecated. Please use tf.compat.v1.get_collection_ref instead.\n",
      "\n",
      "WARNING:tensorflow:From D:\\Users\\glede\\anaconda3\\envs\\py37\\lib\\site-packages\\tensorpack\\tfutils\\sessinit.py:120: The name tf.train.NewCheckpointReader is deprecated. Please use tf.compat.v1.train.NewCheckpointReader instead.\n",
      "\n",
      "WARNING:tensorflow:From D:\\Users\\glede\\anaconda3\\envs\\py37\\lib\\site-packages\\tensorpack\\tfutils\\sessinit.py:127: The name tf.global_variables is deprecated. Please use tf.compat.v1.global_variables instead.\n",
      "\n",
      "\u001b[32m[1029 16:53:49 @sessinit.py:87]\u001b[0m \u001b[5m\u001b[31mWRN\u001b[0m The following variables are in the checkpoint, but not found in the graph: global_step\n",
      "WARNING:tensorflow:From D:\\Users\\glede\\anaconda3\\envs\\py37\\lib\\site-packages\\tensorflow_core\\python\\ops\\array_ops.py:1475: where (from tensorflow.python.ops.array_ops) is deprecated and will be removed in a future version.\n",
      "Instructions for updating:\n",
      "Use tf.where in 2.0, which has the same broadcast rule as np.where\n",
      "INFO:tensorflow:Graph was finalized.\n",
      "INFO:tensorflow:Running local_init_op.\n",
      "INFO:tensorflow:Done running local_init_op.\n",
      "\u001b[32m[1029 16:53:50 @sessinit.py:114]\u001b[0m Restoring checkpoint from ../output/Chicago/NOLINKS/model\\model-78749 ...\n",
      "INFO:tensorflow:Restoring parameters from ../output/Chicago/NOLINKS/model\\model-78749\n"
     ]
    }
   ],
   "source": [
    "test = datgan.fit(df, graph)"
   ]
  },
  {
   "cell_type": "code",
   "execution_count": 12,
   "metadata": {},
   "outputs": [
    {
     "name": "stdout",
     "output_type": "stream",
     "text": [
      "\u001b[32m[1029 16:53:54 @DATSGAN.py:347]\u001b[0m Model saved successfully.\n"
     ]
    }
   ],
   "source": [
    "datgan.save('trained', force=True)"
   ]
  },
  {
   "cell_type": "code",
   "execution_count": 13,
   "metadata": {},
   "outputs": [],
   "source": [
    "beepy.beep(6)"
   ]
  }
 ],
 "metadata": {
  "kernelspec": {
   "display_name": "Python 3",
   "language": "python",
   "name": "python3"
  },
  "language_info": {
   "codemirror_mode": {
    "name": "ipython",
    "version": 3
   },
   "file_extension": ".py",
   "mimetype": "text/x-python",
   "name": "python",
   "nbconvert_exporter": "python",
   "pygments_lexer": "ipython3",
   "version": "3.7.9"
  }
 },
 "nbformat": 4,
 "nbformat_minor": 2
}
