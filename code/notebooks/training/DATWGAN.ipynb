{
 "cells": [
  {
   "cell_type": "code",
   "execution_count": 1,
   "metadata": {},
   "outputs": [],
   "source": [
    "import os\n",
    "os.chdir('../..')"
   ]
  },
  {
   "cell_type": "code",
   "execution_count": 2,
   "metadata": {},
   "outputs": [
    {
     "name": "stdout",
     "output_type": "stream",
     "text": [
      "3.7.9\n"
     ]
    }
   ],
   "source": [
    "from platform import python_version\n",
    "print(python_version())"
   ]
  },
  {
   "cell_type": "code",
   "execution_count": 3,
   "metadata": {},
   "outputs": [
    {
     "name": "stdout",
     "output_type": "stream",
     "text": [
      "WARNING:tensorflow:From D:\\Users\\glede\\anaconda3\\envs\\py37\\lib\\site-packages\\tensorpack\\callbacks\\hooks.py:17: The name tf.train.SessionRunHook is deprecated. Please use tf.estimator.SessionRunHook instead.\n",
      "\n",
      "WARNING:tensorflow:From D:\\Users\\glede\\anaconda3\\envs\\py37\\lib\\site-packages\\tensorpack\\tfutils\\optimizer.py:18: The name tf.train.Optimizer is deprecated. Please use tf.compat.v1.train.Optimizer instead.\n",
      "\n",
      "WARNING:tensorflow:From D:\\Users\\glede\\anaconda3\\envs\\py37\\lib\\site-packages\\tensorpack\\tfutils\\sesscreate.py:20: The name tf.train.SessionCreator is deprecated. Please use tf.compat.v1.train.SessionCreator instead.\n",
      "\n"
     ]
    }
   ],
   "source": [
    "import numpy as np\n",
    "import pandas as pd\n",
    "\n",
    "import tensorflow as tf\n",
    "\n",
    "import matplotlib.pyplot as plt\n",
    "\n",
    "from modules.datgan import DATWGAN\n",
    "\n",
    "import networkx as nx\n",
    "import json\n",
    "import beepy\n",
    "\n",
    "# For the Python notebook\n",
    "%matplotlib inline\n",
    "%reload_ext autoreload\n",
    "%autoreload 2"
   ]
  },
  {
   "cell_type": "code",
   "execution_count": 4,
   "metadata": {},
   "outputs": [],
   "source": [
    "dataset = 'Chicago'"
   ]
  },
  {
   "cell_type": "code",
   "execution_count": 5,
   "metadata": {},
   "outputs": [],
   "source": [
    "df = pd.read_csv('../data/{}/data.csv'.format(dataset), index_col=False)"
   ]
  },
  {
   "cell_type": "code",
   "execution_count": 6,
   "metadata": {},
   "outputs": [
    {
     "data": {
      "text/html": [
       "<div>\n",
       "<style scoped>\n",
       "    .dataframe tbody tr th:only-of-type {\n",
       "        vertical-align: middle;\n",
       "    }\n",
       "\n",
       "    .dataframe tbody tr th {\n",
       "        vertical-align: top;\n",
       "    }\n",
       "\n",
       "    .dataframe thead th {\n",
       "        text-align: right;\n",
       "    }\n",
       "</style>\n",
       "<table border=\"1\" class=\"dataframe\">\n",
       "  <thead>\n",
       "    <tr style=\"text-align: right;\">\n",
       "      <th></th>\n",
       "      <th>choice</th>\n",
       "      <th>travel_dow</th>\n",
       "      <th>trip_purpose</th>\n",
       "      <th>distance</th>\n",
       "      <th>hh_vehicles</th>\n",
       "      <th>hh_size</th>\n",
       "      <th>hh_bikes</th>\n",
       "      <th>hh_descr</th>\n",
       "      <th>hh_income</th>\n",
       "      <th>gender</th>\n",
       "      <th>age</th>\n",
       "      <th>license</th>\n",
       "      <th>education_level</th>\n",
       "      <th>work_status</th>\n",
       "      <th>departure_time</th>\n",
       "    </tr>\n",
       "  </thead>\n",
       "  <tbody>\n",
       "    <tr>\n",
       "      <th>0</th>\n",
       "      <td>drive</td>\n",
       "      <td>7</td>\n",
       "      <td>HOME_OTHER</td>\n",
       "      <td>3.93477</td>\n",
       "      <td>2</td>\n",
       "      <td>3</td>\n",
       "      <td>3</td>\n",
       "      <td>detached</td>\n",
       "      <td>6</td>\n",
       "      <td>0</td>\n",
       "      <td>30</td>\n",
       "      <td>1</td>\n",
       "      <td>4</td>\n",
       "      <td>PTE</td>\n",
       "      <td>20.166667</td>\n",
       "    </tr>\n",
       "    <tr>\n",
       "      <th>1</th>\n",
       "      <td>drive</td>\n",
       "      <td>2</td>\n",
       "      <td>SHOPPING</td>\n",
       "      <td>0.31557</td>\n",
       "      <td>3</td>\n",
       "      <td>3</td>\n",
       "      <td>3</td>\n",
       "      <td>detached</td>\n",
       "      <td>7</td>\n",
       "      <td>0</td>\n",
       "      <td>54</td>\n",
       "      <td>1</td>\n",
       "      <td>5</td>\n",
       "      <td>FTE</td>\n",
       "      <td>17.500000</td>\n",
       "    </tr>\n",
       "    <tr>\n",
       "      <th>2</th>\n",
       "      <td>drive</td>\n",
       "      <td>2</td>\n",
       "      <td>SHOPPING</td>\n",
       "      <td>0.28349</td>\n",
       "      <td>1</td>\n",
       "      <td>1</td>\n",
       "      <td>0</td>\n",
       "      <td>detached</td>\n",
       "      <td>3</td>\n",
       "      <td>0</td>\n",
       "      <td>80</td>\n",
       "      <td>1</td>\n",
       "      <td>3</td>\n",
       "      <td>PTE</td>\n",
       "      <td>9.333333</td>\n",
       "    </tr>\n",
       "    <tr>\n",
       "      <th>3</th>\n",
       "      <td>drive</td>\n",
       "      <td>2</td>\n",
       "      <td>OTHER</td>\n",
       "      <td>0.69417</td>\n",
       "      <td>2</td>\n",
       "      <td>2</td>\n",
       "      <td>0</td>\n",
       "      <td>detached</td>\n",
       "      <td>5</td>\n",
       "      <td>1</td>\n",
       "      <td>42</td>\n",
       "      <td>1</td>\n",
       "      <td>5</td>\n",
       "      <td>FTE</td>\n",
       "      <td>13.783333</td>\n",
       "    </tr>\n",
       "    <tr>\n",
       "      <th>4</th>\n",
       "      <td>passenger</td>\n",
       "      <td>1</td>\n",
       "      <td>SHOPPING</td>\n",
       "      <td>4.30666</td>\n",
       "      <td>2</td>\n",
       "      <td>2</td>\n",
       "      <td>1</td>\n",
       "      <td>detached</td>\n",
       "      <td>4</td>\n",
       "      <td>0</td>\n",
       "      <td>32</td>\n",
       "      <td>0</td>\n",
       "      <td>3</td>\n",
       "      <td>Unemployed</td>\n",
       "      <td>11.566667</td>\n",
       "    </tr>\n",
       "  </tbody>\n",
       "</table>\n",
       "</div>"
      ],
      "text/plain": [
       "      choice  travel_dow trip_purpose  distance  hh_vehicles  hh_size  \\\n",
       "0      drive           7   HOME_OTHER   3.93477            2        3   \n",
       "1      drive           2     SHOPPING   0.31557            3        3   \n",
       "2      drive           2     SHOPPING   0.28349            1        1   \n",
       "3      drive           2        OTHER   0.69417            2        2   \n",
       "4  passenger           1     SHOPPING   4.30666            2        2   \n",
       "\n",
       "   hh_bikes  hh_descr  hh_income  gender  age  license  education_level  \\\n",
       "0         3  detached          6       0   30        1                4   \n",
       "1         3  detached          7       0   54        1                5   \n",
       "2         0  detached          3       0   80        1                3   \n",
       "3         0  detached          5       1   42        1                5   \n",
       "4         1  detached          4       0   32        0                3   \n",
       "\n",
       "  work_status  departure_time  \n",
       "0         PTE       20.166667  \n",
       "1         FTE       17.500000  \n",
       "2         PTE        9.333333  \n",
       "3         FTE       13.783333  \n",
       "4  Unemployed       11.566667  "
      ]
     },
     "execution_count": 6,
     "metadata": {},
     "output_type": "execute_result"
    }
   ],
   "source": [
    "df.head()"
   ]
  },
  {
   "cell_type": "code",
   "execution_count": 7,
   "metadata": {},
   "outputs": [],
   "source": [
    "if dataset is 'Chicago':\n",
    "    continuous_columns = [\"distance\", \"age\", \"departure_time\"]\n",
    "elif dataset is 'LPMC':\n",
    "    continuous_columns = ['start_time_linear', 'age', 'distance', 'dur_walking', 'dur_cycling', 'dur_pt_access', 'dur_pt_rail', 'dur_pt_bus', 'dur_pt_int', 'dur_driving', 'cost_transit', 'cost_driving_fuel', 'driving_traffic_percent']"
   ]
  },
  {
   "cell_type": "code",
   "execution_count": 8,
   "metadata": {},
   "outputs": [],
   "source": [
    "# personalised graph\n",
    "graph = nx.DiGraph()\n",
    "\n",
    "if dataset is 'Chicago':\n",
    "    graph.add_edges_from([\n",
    "        (\"age\", \"license\"),\n",
    "        (\"age\", \"education_level\"),\n",
    "        (\"gender\", \"work_status\"),\n",
    "        (\"education_level\", \"work_status\"),\n",
    "        (\"education_level\", \"hh_income\"),\n",
    "        (\"work_status\", \"hh_income\"),\n",
    "        (\"hh_income\", \"hh_descr\"),\n",
    "        (\"hh_income\", \"hh_size\"),\n",
    "        (\"hh_size\", \"hh_vehicles\"),\n",
    "        (\"hh_size\", \"hh_bikes\"),\n",
    "        (\"work_status\", \"trip_purpose\"),\n",
    "        (\"trip_purpose\", \"departure_time\"),\n",
    "        (\"trip_purpose\", \"distance\"),\n",
    "        (\"travel_dow\", \"choice\"),\n",
    "        (\"distance\", \"choice\"),\n",
    "        (\"departure_time\", \"choice\"),\n",
    "        (\"hh_vehicles\", \"choice\"),\n",
    "        (\"hh_bikes\", \"choice\"),\n",
    "        (\"license\", \"choice\"),\n",
    "        # Non necessary links\n",
    "        (\"education_level\", \"hh_size\"),\n",
    "        (\"work_status\", \"hh_descr\"),\n",
    "        (\"work_status\", \"hh_size\"),\n",
    "        (\"hh_income\", \"hh_bikes\"),\n",
    "        (\"hh_income\", \"hh_vehicles\"),\n",
    "        (\"trip_purpose\", \"choice\")\n",
    "    ])\n",
    "elif dataset is 'LPMC':\n",
    "    graph.add_edges_from([\n",
    "        (\"travel_year\", \"survey_year\"),\n",
    "        (\"travel_date\", \"day_of_week\"),\n",
    "        (\"day_of_week\", \"purpose\"),\n",
    "        (\"purpose\", \"start_time_linear\"),\n",
    "        (\"purpose\", \"cost_driving_con_charge\"),\n",
    "        (\"purpose\", \"distance\"),\n",
    "        (\"day_of_week\", \"driving_traffic_percent\"),\n",
    "        (\"day_of_week\", \"cost_driving_con_charge\"),\n",
    "        (\"start_time_linear\", \"driving_traffic_percent\"),\n",
    "        (\"start_time_linear\", \"cost_driving_con_charge\"),\n",
    "        (\"driving_traffic_percent\", \"cost_driving_con_charge\"),\n",
    "        (\"female\", \"driving_license\"),\n",
    "        (\"age\", \"bus_scale\"),\n",
    "        (\"age\", \"car_ownership\"),\n",
    "        (\"age\", \"driving_license\"),\n",
    "        (\"age\", \"faretype\"),\n",
    "        (\"driving_license\", \"car_ownership\"),\n",
    "        (\"car_ownership\", \"fueltype\"),\n",
    "        (\"fueltype\", \"cost_driving_con_charge\"),\n",
    "        (\"fueltype\", \"cost_driving_fuel\"),\n",
    "        (\"distance\", \"cost_driving_fuel\"),\n",
    "        (\"distance\", \"dur_driving\"),\n",
    "        (\"distance\", \"dur_walking\"),\n",
    "        (\"distance\", \"dur_cycling\"),\n",
    "        (\"distance\", \"dur_pt_access\"),\n",
    "        (\"distance\", \"dur_pt_rail\"),\n",
    "        (\"distance\", \"dur_pt_bus\"),\n",
    "        (\"distance\", \"dur_pt_int\"),\n",
    "        (\"dur_pt_bus\", \"cost_transit\"),\n",
    "        (\"dur_pt_rail\", \"cost_transit\"),\n",
    "        (\"pt_n_interchanges\", \"dur_pt_int\"),\n",
    "        (\"pt_n_interchanges\", \"cost_transit\"),\n",
    "        (\"faretype\", \"cost_transit\"),\n",
    "        (\"bus_scale\", \"cost_transit\"),\n",
    "        (\"car_ownership\", \"travel_mode\"),\n",
    "        (\"age\", \"travel_mode\"),\n",
    "        (\"cost_driving_con_charge\", \"travel_mode\"),\n",
    "        (\"driving_traffic_percent\", \"travel_mode\"),\n",
    "        (\"female\", \"travel_mode\"),\n",
    "        (\"purpose\", \"travel_mode\"),\n",
    "        (\"cost_transit\", \"travel_mode\"),\n",
    "        (\"cost_driving_fuel\", \"travel_mode\"),\n",
    "        (\"dur_driving\", \"travel_mode\"),\n",
    "        (\"dur_walking\", \"travel_mode\"),\n",
    "        (\"dur_cycling\", \"travel_mode\"),\n",
    "        (\"dur_pt_access\", \"travel_mode\"),\n",
    "        (\"dur_pt_rail\", \"travel_mode\"),\n",
    "        (\"dur_pt_bus\", \"travel_mode\"),\n",
    "        (\"dur_pt_int\", \"travel_mode\")\n",
    "    ])\n",
    "    graph.add_node(\"travel_month\")"
   ]
  },
  {
   "cell_type": "code",
   "execution_count": 9,
   "metadata": {},
   "outputs": [],
   "source": [
    "output_folder = '../output/' + dataset + '/TEST/'"
   ]
  },
  {
   "cell_type": "code",
   "execution_count": 10,
   "metadata": {},
   "outputs": [],
   "source": [
    "datgan = DATWGAN(continuous_columns, max_epoch=1000, batch_size=500, output=output_folder, gpu=0, learning_rate=2e-4, noisy_training='OR')"
   ]
  },
  {
   "cell_type": "code",
   "execution_count": 11,
   "metadata": {
    "scrolled": true
   },
   "outputs": [
    {
     "name": "stdout",
     "output_type": "stream",
     "text": [
      "\u001b[32m[1118 15:52:11 @DATSGAN.py:158]\u001b[0m Found preprocessed data\n",
      "\u001b[32m[1118 15:52:11 @DATSGAN.py:166]\u001b[0m Preprocessed data have been loaded!\n",
      "WARNING:tensorflow:From D:\\Users\\glede\\anaconda3\\envs\\py37\\lib\\site-packages\\tensorpack\\graph_builder\\model_desc.py:29: The name tf.get_default_graph is deprecated. Please use tf.compat.v1.get_default_graph instead.\n",
      "\n",
      "WARNING:tensorflow:From D:\\Users\\glede\\anaconda3\\envs\\py37\\lib\\site-packages\\tensorpack\\graph_builder\\model_desc.py:39: The name tf.placeholder is deprecated. Please use tf.compat.v1.placeholder instead.\n",
      "\n",
      "WARNING:tensorflow:From D:\\Users\\glede\\anaconda3\\envs\\py37\\lib\\site-packages\\tensorpack\\input_source\\input_source.py:219: The name tf.FIFOQueue is deprecated. Please use tf.queue.FIFOQueue instead.\n",
      "\n",
      "\u001b[32m[1118 15:52:11 @input_source.py:222]\u001b[0m Setting up the queue 'QueueInput/input_queue' for CPU prefetching ...\n",
      "WARNING:tensorflow:From D:\\Users\\glede\\anaconda3\\envs\\py37\\lib\\site-packages\\tensorpack\\tfutils\\summary.py:237: The name tf.get_variable_scope is deprecated. Please use tf.compat.v1.get_variable_scope instead.\n",
      "\n",
      "WARNING:tensorflow:From D:\\Users\\glede\\anaconda3\\envs\\py37\\lib\\site-packages\\tensorpack\\tfutils\\summary.py:27: The name tf.variable_scope is deprecated. Please use tf.compat.v1.variable_scope instead.\n",
      "\n",
      "WARNING:tensorflow:From D:\\Users\\glede\\anaconda3\\envs\\py37\\lib\\site-packages\\tensorpack\\tfutils\\summary.py:254: The name tf.get_variable is deprecated. Please use tf.compat.v1.get_variable instead.\n",
      "\n",
      "WARNING:tensorflow:From D:\\Users\\glede\\anaconda3\\envs\\py37\\lib\\site-packages\\tensorpack\\tfutils\\summary.py:264: The name tf.summary.scalar is deprecated. Please use tf.compat.v1.summary.scalar instead.\n",
      "\n",
      "WARNING:tensorflow:From D:\\Users\\glede\\anaconda3\\envs\\py37\\lib\\site-packages\\tensorpack\\tfutils\\collection.py:105: The name tf.GraphKeys is deprecated. Please use tf.compat.v1.GraphKeys instead.\n",
      "\n",
      "WARNING:tensorflow:From D:\\Users\\glede\\anaconda3\\envs\\py37\\lib\\site-packages\\tensorpack\\tfutils\\collection.py:33: The name tf.get_collection is deprecated. Please use tf.compat.v1.get_collection instead.\n",
      "\n",
      "WARNING:tensorflow:From C:\\Users\\glede\\Documents\\EPFL\\PhD\\SynthPop\\code\\modules\\datgan\\models\\DATSGANModel.py:482: The name tf.random_normal is deprecated. Please use tf.random.normal instead.\n",
      "\n",
      "WARNING:tensorflow:From C:\\Users\\glede\\Documents\\EPFL\\PhD\\SynthPop\\code\\modules\\datgan\\models\\DATSGANModel.py:483: The name tf.placeholder_with_default is deprecated. Please use tf.compat.v1.placeholder_with_default instead.\n",
      "\n",
      "WARNING:tensorflow:From C:\\Users\\glede\\Documents\\EPFL\\PhD\\SynthPop\\code\\modules\\datgan\\models\\DATSGANModel.py:199: LSTMCell.__init__ (from tensorflow.python.ops.rnn_cell_impl) is deprecated and will be removed in a future version.\n",
      "Instructions for updating:\n",
      "This class is equivalent as tf.keras.layers.LSTMCell, and will be replaced by that in Tensorflow 2.0.\n",
      "\u001b[32m[1118 15:52:11 @DATSGANModel.py:205]\u001b[0m \u001b[91mCreating cell for age (in-edges: 0; ancestors: 0)\n",
      "WARNING:tensorflow:From D:\\Users\\glede\\anaconda3\\envs\\py37\\lib\\site-packages\\tensorflow_core\\python\\ops\\rnn_cell_impl.py:958: Layer.add_variable (from tensorflow.python.keras.engine.base_layer) is deprecated and will be removed in a future version.\n",
      "Instructions for updating:\n",
      "Please use `layer.add_weight` method instead.\n",
      "WARNING:tensorflow:From D:\\Users\\glede\\anaconda3\\envs\\py37\\lib\\site-packages\\tensorflow_core\\python\\ops\\rnn_cell_impl.py:962: calling Zeros.__init__ (from tensorflow.python.ops.init_ops) with dtype is deprecated and will be removed in a future version.\n",
      "Instructions for updating:\n",
      "Call initializer instance with the dtype argument instead of passing it to the constructor\n",
      "\u001b[32m[1118 15:52:11 @registry.py:126]\u001b[0m gen/LSTM/age/FC input: [500, 100]\n",
      "WARNING:tensorflow:From D:\\Users\\glede\\anaconda3\\envs\\py37\\lib\\site-packages\\tensorpack\\models\\fc.py:57: The name tf.layers.Dense is deprecated. Please use tf.compat.v1.layers.Dense instead.\n",
      "\n",
      "WARNING:tensorflow:From D:\\Users\\glede\\anaconda3\\envs\\py37\\lib\\site-packages\\tensorpack\\models\\fc.py:67: Layer.apply (from tensorflow.python.keras.engine.base_layer) is deprecated and will be removed in a future version.\n",
      "Instructions for updating:\n",
      "Please use `layer.__call__` method instead.\n",
      "\u001b[32m[1118 15:52:11 @registry.py:134]\u001b[0m gen/LSTM/age/FC output: [500, 50]\n",
      "\u001b[32m[1118 15:52:11 @registry.py:126]\u001b[0m gen/LSTM/age/FC_val input: [500, 50]\n",
      "\u001b[32m[1118 15:52:11 @registry.py:134]\u001b[0m gen/LSTM/age/FC_val output: [500, 5]\n",
      "\u001b[32m[1118 15:52:11 @registry.py:126]\u001b[0m gen/LSTM/age/FC_prob input: [500, 50]\n",
      "\u001b[32m[1118 15:52:11 @registry.py:134]\u001b[0m gen/LSTM/age/FC_prob output: [500, 5]\n",
      "\u001b[32m[1118 15:52:11 @registry.py:126]\u001b[0m gen/LSTM/age/FC_input input: [500, 10]\n",
      "\u001b[32m[1118 15:52:11 @registry.py:134]\u001b[0m gen/LSTM/age/FC_input output: [500, 100]\n",
      "\u001b[32m[1118 15:52:11 @DATSGANModel.py:205]\u001b[0m \u001b[91mCreating cell for gender (in-edges: 0; ancestors: 0)\n",
      "\u001b[32m[1118 15:52:11 @registry.py:126]\u001b[0m gen/LSTM/gender/FC input: [500, 100]\n",
      "\u001b[32m[1118 15:52:11 @registry.py:134]\u001b[0m gen/LSTM/gender/FC output: [500, 50]\n",
      "\u001b[32m[1118 15:52:11 @registry.py:126]\u001b[0m gen/LSTM/gender/FC_prob input: [500, 50]\n",
      "\u001b[32m[1118 15:52:11 @registry.py:134]\u001b[0m gen/LSTM/gender/FC_prob output: [500, 2]\n",
      "\u001b[32m[1118 15:52:11 @registry.py:126]\u001b[0m gen/LSTM/gender/FC_input input: [500, 2]\n",
      "\u001b[32m[1118 15:52:11 @registry.py:134]\u001b[0m gen/LSTM/gender/FC_input output: [500, 100]\n",
      "\u001b[32m[1118 15:52:11 @DATSGANModel.py:205]\u001b[0m \u001b[91mCreating cell for travel_dow (in-edges: 0; ancestors: 0)\n",
      "\u001b[32m[1118 15:52:11 @registry.py:126]\u001b[0m gen/LSTM/travel_dow/FC input: [500, 100]\n",
      "\u001b[32m[1118 15:52:11 @registry.py:134]\u001b[0m gen/LSTM/travel_dow/FC output: [500, 50]\n",
      "\u001b[32m[1118 15:52:11 @registry.py:126]\u001b[0m gen/LSTM/travel_dow/FC_prob input: [500, 50]\n",
      "\u001b[32m[1118 15:52:11 @registry.py:134]\u001b[0m gen/LSTM/travel_dow/FC_prob output: [500, 7]\n",
      "\u001b[32m[1118 15:52:11 @registry.py:126]\u001b[0m gen/LSTM/travel_dow/FC_input input: [500, 7]\n",
      "\u001b[32m[1118 15:52:11 @registry.py:134]\u001b[0m gen/LSTM/travel_dow/FC_input output: [500, 100]\n",
      "\u001b[32m[1118 15:52:11 @DATSGANModel.py:205]\u001b[0m \u001b[91mCreating cell for license (in-edges: 1; ancestors: 1)\n",
      "WARNING:tensorflow:From C:\\Users\\glede\\Documents\\EPFL\\PhD\\SynthPop\\code\\modules\\datgan\\models\\DATSGANModel.py:223: The name tf.nn.rnn_cell.LSTMStateTuple is deprecated. Please use tf.compat.v1.nn.rnn_cell.LSTMStateTuple instead.\n",
      "\n",
      "\u001b[32m[1118 15:52:11 @registry.py:126]\u001b[0m gen/LSTM/license/FC input: [500, 100]\n",
      "\u001b[32m[1118 15:52:11 @registry.py:134]\u001b[0m gen/LSTM/license/FC output: [500, 50]\n",
      "\u001b[32m[1118 15:52:11 @registry.py:126]\u001b[0m gen/LSTM/license/FC_prob input: [500, 50]\n",
      "\u001b[32m[1118 15:52:11 @registry.py:134]\u001b[0m gen/LSTM/license/FC_prob output: [500, 2]\n",
      "\u001b[32m[1118 15:52:11 @registry.py:126]\u001b[0m gen/LSTM/license/FC_input input: [500, 2]\n",
      "\u001b[32m[1118 15:52:11 @registry.py:134]\u001b[0m gen/LSTM/license/FC_input output: [500, 100]\n",
      "\u001b[32m[1118 15:52:11 @DATSGANModel.py:205]\u001b[0m \u001b[91mCreating cell for education_level (in-edges: 1; ancestors: 1)\n",
      "\u001b[32m[1118 15:52:11 @registry.py:126]\u001b[0m gen/LSTM/education_level/FC input: [500, 100]\n",
      "\u001b[32m[1118 15:52:11 @registry.py:134]\u001b[0m gen/LSTM/education_level/FC output: [500, 50]\n",
      "\u001b[32m[1118 15:52:11 @registry.py:126]\u001b[0m gen/LSTM/education_level/FC_prob input: [500, 50]\n",
      "\u001b[32m[1118 15:52:11 @registry.py:134]\u001b[0m gen/LSTM/education_level/FC_prob output: [500, 6]\n",
      "\u001b[32m[1118 15:52:11 @registry.py:126]\u001b[0m gen/LSTM/education_level/FC_input input: [500, 6]\n",
      "\u001b[32m[1118 15:52:11 @registry.py:134]\u001b[0m gen/LSTM/education_level/FC_input output: [500, 100]\n",
      "\u001b[32m[1118 15:52:11 @DATSGANModel.py:205]\u001b[0m \u001b[91mCreating cell for work_status (in-edges: 2; ancestors: 3)\n",
      "\u001b[32m[1118 15:52:11 @registry.py:126]\u001b[0m gen/LSTM/concat-work_status/FC_inputs input: [500, 200]\n",
      "\u001b[32m[1118 15:52:11 @registry.py:134]\u001b[0m gen/LSTM/concat-work_status/FC_inputs output: [500, 100]\n",
      "\u001b[32m[1118 15:52:11 @registry.py:126]\u001b[0m gen/LSTM/concat-work_status/FC_states input: [500, 200]\n",
      "\u001b[32m[1118 15:52:11 @registry.py:134]\u001b[0m gen/LSTM/concat-work_status/FC_states output: [500, 100]\n",
      "\u001b[32m[1118 15:52:11 @registry.py:126]\u001b[0m gen/LSTM/concat-work_status/FC_h_outputs input: [500, 200]\n",
      "\u001b[32m[1118 15:52:11 @registry.py:134]\u001b[0m gen/LSTM/concat-work_status/FC_h_outputs output: [500, 100]\n"
     ]
    },
    {
     "name": "stdout",
     "output_type": "stream",
     "text": [
      "\u001b[32m[1118 15:52:11 @registry.py:126]\u001b[0m gen/LSTM/work_status/FC input: [500, 100]\n",
      "\u001b[32m[1118 15:52:11 @registry.py:134]\u001b[0m gen/LSTM/work_status/FC output: [500, 50]\n",
      "\u001b[32m[1118 15:52:11 @registry.py:126]\u001b[0m gen/LSTM/work_status/FC_prob input: [500, 50]\n",
      "\u001b[32m[1118 15:52:11 @registry.py:134]\u001b[0m gen/LSTM/work_status/FC_prob output: [500, 8]\n",
      "\u001b[32m[1118 15:52:11 @registry.py:126]\u001b[0m gen/LSTM/work_status/FC_input input: [500, 8]\n",
      "\u001b[32m[1118 15:52:11 @registry.py:134]\u001b[0m gen/LSTM/work_status/FC_input output: [500, 100]\n",
      "\u001b[32m[1118 15:52:11 @DATSGANModel.py:205]\u001b[0m \u001b[91mCreating cell for hh_income (in-edges: 2; ancestors: 4)\n",
      "\u001b[32m[1118 15:52:11 @registry.py:126]\u001b[0m gen/LSTM/concat-hh_income/FC_inputs input: [500, 200]\n",
      "\u001b[32m[1118 15:52:11 @registry.py:134]\u001b[0m gen/LSTM/concat-hh_income/FC_inputs output: [500, 100]\n",
      "\u001b[32m[1118 15:52:11 @registry.py:126]\u001b[0m gen/LSTM/concat-hh_income/FC_states input: [500, 200]\n",
      "\u001b[32m[1118 15:52:11 @registry.py:134]\u001b[0m gen/LSTM/concat-hh_income/FC_states output: [500, 100]\n",
      "\u001b[32m[1118 15:52:11 @registry.py:126]\u001b[0m gen/LSTM/concat-hh_income/FC_h_outputs input: [500, 200]\n",
      "\u001b[32m[1118 15:52:11 @registry.py:134]\u001b[0m gen/LSTM/concat-hh_income/FC_h_outputs output: [500, 100]\n",
      "\u001b[32m[1118 15:52:11 @registry.py:126]\u001b[0m gen/LSTM/hh_income/FC input: [500, 100]\n",
      "\u001b[32m[1118 15:52:11 @registry.py:134]\u001b[0m gen/LSTM/hh_income/FC output: [500, 50]\n",
      "\u001b[32m[1118 15:52:11 @registry.py:126]\u001b[0m gen/LSTM/hh_income/FC_prob input: [500, 50]\n",
      "\u001b[32m[1118 15:52:11 @registry.py:134]\u001b[0m gen/LSTM/hh_income/FC_prob output: [500, 7]\n",
      "\u001b[32m[1118 15:52:11 @registry.py:126]\u001b[0m gen/LSTM/hh_income/FC_input input: [500, 7]\n",
      "\u001b[32m[1118 15:52:11 @registry.py:134]\u001b[0m gen/LSTM/hh_income/FC_input output: [500, 100]\n",
      "\u001b[32m[1118 15:52:11 @DATSGANModel.py:205]\u001b[0m \u001b[91mCreating cell for trip_purpose (in-edges: 1; ancestors: 4)\n",
      "\u001b[32m[1118 15:52:11 @registry.py:126]\u001b[0m gen/LSTM/trip_purpose/FC input: [500, 100]\n",
      "\u001b[32m[1118 15:52:11 @registry.py:134]\u001b[0m gen/LSTM/trip_purpose/FC output: [500, 50]\n",
      "\u001b[32m[1118 15:52:11 @registry.py:126]\u001b[0m gen/LSTM/trip_purpose/FC_prob input: [500, 50]\n",
      "\u001b[32m[1118 15:52:11 @registry.py:134]\u001b[0m gen/LSTM/trip_purpose/FC_prob output: [500, 7]\n",
      "\u001b[32m[1118 15:52:11 @registry.py:126]\u001b[0m gen/LSTM/trip_purpose/FC_input input: [500, 7]\n",
      "\u001b[32m[1118 15:52:11 @registry.py:134]\u001b[0m gen/LSTM/trip_purpose/FC_input output: [500, 100]\n",
      "\u001b[32m[1118 15:52:11 @DATSGANModel.py:205]\u001b[0m \u001b[91mCreating cell for hh_descr (in-edges: 2; ancestors: 5)\n",
      "\u001b[32m[1118 15:52:11 @registry.py:126]\u001b[0m gen/LSTM/concat-hh_descr/FC_inputs input: [500, 200]\n",
      "\u001b[32m[1118 15:52:11 @registry.py:134]\u001b[0m gen/LSTM/concat-hh_descr/FC_inputs output: [500, 100]\n",
      "\u001b[32m[1118 15:52:11 @registry.py:126]\u001b[0m gen/LSTM/concat-hh_descr/FC_states input: [500, 200]\n",
      "\u001b[32m[1118 15:52:11 @registry.py:134]\u001b[0m gen/LSTM/concat-hh_descr/FC_states output: [500, 100]\n",
      "\u001b[32m[1118 15:52:11 @registry.py:126]\u001b[0m gen/LSTM/concat-hh_descr/FC_h_outputs input: [500, 200]\n",
      "\u001b[32m[1118 15:52:11 @registry.py:134]\u001b[0m gen/LSTM/concat-hh_descr/FC_h_outputs output: [500, 100]\n",
      "\u001b[32m[1118 15:52:11 @registry.py:126]\u001b[0m gen/LSTM/hh_descr/FC input: [500, 100]\n",
      "\u001b[32m[1118 15:52:11 @registry.py:134]\u001b[0m gen/LSTM/hh_descr/FC output: [500, 50]\n",
      "\u001b[32m[1118 15:52:11 @registry.py:126]\u001b[0m gen/LSTM/hh_descr/FC_prob input: [500, 50]\n",
      "\u001b[32m[1118 15:52:11 @registry.py:134]\u001b[0m gen/LSTM/hh_descr/FC_prob output: [500, 3]\n",
      "\u001b[32m[1118 15:52:11 @registry.py:126]\u001b[0m gen/LSTM/hh_descr/FC_input input: [500, 3]\n",
      "\u001b[32m[1118 15:52:11 @registry.py:134]\u001b[0m gen/LSTM/hh_descr/FC_input output: [500, 100]\n",
      "\u001b[32m[1118 15:52:11 @DATSGANModel.py:205]\u001b[0m \u001b[91mCreating cell for hh_size (in-edges: 3; ancestors: 5)\n",
      "\u001b[32m[1118 15:52:11 @registry.py:126]\u001b[0m gen/LSTM/concat-hh_size/FC_inputs input: [500, 300]\n",
      "\u001b[32m[1118 15:52:11 @registry.py:134]\u001b[0m gen/LSTM/concat-hh_size/FC_inputs output: [500, 100]\n",
      "\u001b[32m[1118 15:52:11 @registry.py:126]\u001b[0m gen/LSTM/concat-hh_size/FC_states input: [500, 300]\n",
      "\u001b[32m[1118 15:52:11 @registry.py:134]\u001b[0m gen/LSTM/concat-hh_size/FC_states output: [500, 100]\n",
      "\u001b[32m[1118 15:52:11 @registry.py:126]\u001b[0m gen/LSTM/concat-hh_size/FC_h_outputs input: [500, 300]\n",
      "\u001b[32m[1118 15:52:11 @registry.py:134]\u001b[0m gen/LSTM/concat-hh_size/FC_h_outputs output: [500, 100]\n",
      "\u001b[32m[1118 15:52:12 @registry.py:126]\u001b[0m gen/LSTM/hh_size/FC input: [500, 100]\n",
      "\u001b[32m[1118 15:52:12 @registry.py:134]\u001b[0m gen/LSTM/hh_size/FC output: [500, 50]\n",
      "\u001b[32m[1118 15:52:12 @registry.py:126]\u001b[0m gen/LSTM/hh_size/FC_prob input: [500, 50]\n",
      "\u001b[32m[1118 15:52:12 @registry.py:134]\u001b[0m gen/LSTM/hh_size/FC_prob output: [500, 8]\n",
      "\u001b[32m[1118 15:52:12 @registry.py:126]\u001b[0m gen/LSTM/hh_size/FC_input input: [500, 8]\n",
      "\u001b[32m[1118 15:52:12 @registry.py:134]\u001b[0m gen/LSTM/hh_size/FC_input output: [500, 100]\n",
      "\u001b[32m[1118 15:52:12 @DATSGANModel.py:205]\u001b[0m \u001b[91mCreating cell for departure_time (in-edges: 1; ancestors: 5)\n",
      "\u001b[32m[1118 15:52:12 @registry.py:126]\u001b[0m gen/LSTM/departure_time/FC input: [500, 100]\n",
      "\u001b[32m[1118 15:52:12 @registry.py:134]\u001b[0m gen/LSTM/departure_time/FC output: [500, 50]\n",
      "\u001b[32m[1118 15:52:12 @registry.py:126]\u001b[0m gen/LSTM/departure_time/FC_val input: [500, 50]\n",
      "\u001b[32m[1118 15:52:12 @registry.py:134]\u001b[0m gen/LSTM/departure_time/FC_val output: [500, 6]\n",
      "\u001b[32m[1118 15:52:12 @registry.py:126]\u001b[0m gen/LSTM/departure_time/FC_prob input: [500, 50]\n",
      "\u001b[32m[1118 15:52:12 @registry.py:134]\u001b[0m gen/LSTM/departure_time/FC_prob output: [500, 6]\n",
      "\u001b[32m[1118 15:52:12 @registry.py:126]\u001b[0m gen/LSTM/departure_time/FC_input input: [500, 12]\n",
      "\u001b[32m[1118 15:52:12 @registry.py:134]\u001b[0m gen/LSTM/departure_time/FC_input output: [500, 100]\n",
      "\u001b[32m[1118 15:52:12 @DATSGANModel.py:205]\u001b[0m \u001b[91mCreating cell for distance (in-edges: 1; ancestors: 5)\n",
      "\u001b[32m[1118 15:52:12 @registry.py:126]\u001b[0m gen/LSTM/distance/FC input: [500, 100]\n",
      "\u001b[32m[1118 15:52:12 @registry.py:134]\u001b[0m gen/LSTM/distance/FC output: [500, 50]\n",
      "\u001b[32m[1118 15:52:12 @registry.py:126]\u001b[0m gen/LSTM/distance/FC_val input: [500, 50]\n",
      "\u001b[32m[1118 15:52:12 @registry.py:134]\u001b[0m gen/LSTM/distance/FC_val output: [500, 6]\n",
      "\u001b[32m[1118 15:52:12 @registry.py:126]\u001b[0m gen/LSTM/distance/FC_prob input: [500, 50]\n",
      "\u001b[32m[1118 15:52:12 @registry.py:134]\u001b[0m gen/LSTM/distance/FC_prob output: [500, 6]\n",
      "\u001b[32m[1118 15:52:12 @registry.py:126]\u001b[0m gen/LSTM/distance/FC_input input: [500, 12]\n",
      "\u001b[32m[1118 15:52:12 @registry.py:134]\u001b[0m gen/LSTM/distance/FC_input output: [500, 100]\n",
      "\u001b[32m[1118 15:52:12 @DATSGANModel.py:205]\u001b[0m \u001b[91mCreating cell for hh_vehicles (in-edges: 2; ancestors: 6)\n",
      "\u001b[32m[1118 15:52:12 @registry.py:126]\u001b[0m gen/LSTM/concat-hh_vehicles/FC_inputs input: [500, 200]\n",
      "\u001b[32m[1118 15:52:12 @registry.py:134]\u001b[0m gen/LSTM/concat-hh_vehicles/FC_inputs output: [500, 100]\n",
      "\u001b[32m[1118 15:52:12 @registry.py:126]\u001b[0m gen/LSTM/concat-hh_vehicles/FC_states input: [500, 200]\n",
      "\u001b[32m[1118 15:52:12 @registry.py:134]\u001b[0m gen/LSTM/concat-hh_vehicles/FC_states output: [500, 100]\n",
      "\u001b[32m[1118 15:52:12 @registry.py:126]\u001b[0m gen/LSTM/concat-hh_vehicles/FC_h_outputs input: [500, 200]\n",
      "\u001b[32m[1118 15:52:12 @registry.py:134]\u001b[0m gen/LSTM/concat-hh_vehicles/FC_h_outputs output: [500, 100]\n",
      "\u001b[32m[1118 15:52:12 @registry.py:126]\u001b[0m gen/LSTM/hh_vehicles/FC input: [500, 100]\n",
      "\u001b[32m[1118 15:52:12 @registry.py:134]\u001b[0m gen/LSTM/hh_vehicles/FC output: [500, 50]\n",
      "\u001b[32m[1118 15:52:12 @registry.py:126]\u001b[0m gen/LSTM/hh_vehicles/FC_prob input: [500, 50]\n",
      "\u001b[32m[1118 15:52:12 @registry.py:134]\u001b[0m gen/LSTM/hh_vehicles/FC_prob output: [500, 9]\n",
      "\u001b[32m[1118 15:52:12 @registry.py:126]\u001b[0m gen/LSTM/hh_vehicles/FC_input input: [500, 9]\n",
      "\u001b[32m[1118 15:52:12 @registry.py:134]\u001b[0m gen/LSTM/hh_vehicles/FC_input output: [500, 100]\n",
      "\u001b[32m[1118 15:52:12 @DATSGANModel.py:205]\u001b[0m \u001b[91mCreating cell for hh_bikes (in-edges: 2; ancestors: 6)\n",
      "\u001b[32m[1118 15:52:12 @registry.py:126]\u001b[0m gen/LSTM/concat-hh_bikes/FC_inputs input: [500, 200]\n",
      "\u001b[32m[1118 15:52:12 @registry.py:134]\u001b[0m gen/LSTM/concat-hh_bikes/FC_inputs output: [500, 100]\n",
      "\u001b[32m[1118 15:52:12 @registry.py:126]\u001b[0m gen/LSTM/concat-hh_bikes/FC_states input: [500, 200]\n",
      "\u001b[32m[1118 15:52:12 @registry.py:134]\u001b[0m gen/LSTM/concat-hh_bikes/FC_states output: [500, 100]\n",
      "\u001b[32m[1118 15:52:12 @registry.py:126]\u001b[0m gen/LSTM/concat-hh_bikes/FC_h_outputs input: [500, 200]\n",
      "\u001b[32m[1118 15:52:12 @registry.py:134]\u001b[0m gen/LSTM/concat-hh_bikes/FC_h_outputs output: [500, 100]\n"
     ]
    },
    {
     "name": "stdout",
     "output_type": "stream",
     "text": [
      "\u001b[32m[1118 15:52:12 @registry.py:126]\u001b[0m gen/LSTM/hh_bikes/FC input: [500, 100]\n",
      "\u001b[32m[1118 15:52:12 @registry.py:134]\u001b[0m gen/LSTM/hh_bikes/FC output: [500, 50]\n",
      "\u001b[32m[1118 15:52:12 @registry.py:126]\u001b[0m gen/LSTM/hh_bikes/FC_prob input: [500, 50]\n",
      "\u001b[32m[1118 15:52:12 @registry.py:134]\u001b[0m gen/LSTM/hh_bikes/FC_prob output: [500, 8]\n",
      "\u001b[32m[1118 15:52:12 @registry.py:126]\u001b[0m gen/LSTM/hh_bikes/FC_input input: [500, 8]\n",
      "\u001b[32m[1118 15:52:12 @registry.py:134]\u001b[0m gen/LSTM/hh_bikes/FC_input output: [500, 100]\n",
      "\u001b[32m[1118 15:52:12 @DATSGANModel.py:205]\u001b[0m \u001b[91mCreating cell for choice (in-edges: 7; ancestors: 13)\n",
      "\u001b[32m[1118 15:52:12 @registry.py:126]\u001b[0m gen/LSTM/concat-choice/FC_inputs input: [500, 700]\n",
      "\u001b[32m[1118 15:52:12 @registry.py:134]\u001b[0m gen/LSTM/concat-choice/FC_inputs output: [500, 100]\n",
      "\u001b[32m[1118 15:52:12 @registry.py:126]\u001b[0m gen/LSTM/concat-choice/FC_states input: [500, 700]\n",
      "\u001b[32m[1118 15:52:12 @registry.py:134]\u001b[0m gen/LSTM/concat-choice/FC_states output: [500, 100]\n",
      "\u001b[32m[1118 15:52:12 @registry.py:126]\u001b[0m gen/LSTM/concat-choice/FC_h_outputs input: [500, 700]\n",
      "\u001b[32m[1118 15:52:12 @registry.py:134]\u001b[0m gen/LSTM/concat-choice/FC_h_outputs output: [500, 100]\n",
      "\u001b[32m[1118 15:52:12 @registry.py:126]\u001b[0m gen/LSTM/choice/FC input: [500, 100]\n",
      "\u001b[32m[1118 15:52:12 @registry.py:134]\u001b[0m gen/LSTM/choice/FC output: [500, 50]\n",
      "\u001b[32m[1118 15:52:12 @registry.py:126]\u001b[0m gen/LSTM/choice/FC_prob input: [500, 50]\n",
      "\u001b[32m[1118 15:52:12 @registry.py:134]\u001b[0m gen/LSTM/choice/FC_prob output: [500, 5]\n",
      "\u001b[32m[1118 15:52:12 @registry.py:126]\u001b[0m gen/LSTM/choice/FC_input input: [500, 5]\n",
      "\u001b[32m[1118 15:52:12 @registry.py:134]\u001b[0m gen/LSTM/choice/FC_input output: [500, 100]\n",
      "WARNING:tensorflow:From C:\\Users\\glede\\Documents\\EPFL\\PhD\\SynthPop\\code\\modules\\datgan\\models\\DATSGANModel.py:516: The name tf.random_uniform is deprecated. Please use tf.random.uniform instead.\n",
      "\n",
      "WARNING:tensorflow:From C:\\Users\\glede\\Documents\\EPFL\\PhD\\SynthPop\\code\\modules\\datgan\\models\\DATSGANModel.py:443: The name tf.log is deprecated. Please use tf.math.log instead.\n",
      "\n",
      "\u001b[32m[1118 15:52:12 @registry.py:126]\u001b[0m discrim/DISCR_FC_0/FC input: [500, 106]\n",
      "\u001b[32m[1118 15:52:12 @registry.py:134]\u001b[0m discrim/DISCR_FC_0/FC output: [500, 100]\n",
      "\u001b[32m[1118 15:52:12 @registry.py:126]\u001b[0m discrim/DISCR_FC_0/FC_DIVERSITY input: [500, 100]\n",
      "\u001b[32m[1118 15:52:12 @registry.py:134]\u001b[0m discrim/DISCR_FC_0/FC_DIVERSITY output: [500, 100]\n",
      "WARNING:tensorflow:From D:\\Users\\glede\\anaconda3\\envs\\py37\\lib\\site-packages\\tensorpack\\models\\batch_norm.py:204: The name tf.layers.BatchNormalization is deprecated. Please use tf.compat.v1.layers.BatchNormalization instead.\n",
      "\n",
      "WARNING:tensorflow:From D:\\Users\\glede\\anaconda3\\envs\\py37\\lib\\site-packages\\tensorpack\\models\\batch_norm.py:212: The name tf.add_to_collection is deprecated. Please use tf.compat.v1.add_to_collection instead.\n",
      "\n",
      "\u001b[32m[1118 15:52:12 @registry.py:126]\u001b[0m discrim/DISCR_FC_TOP input: [500, 110]\n",
      "\u001b[32m[1118 15:52:12 @registry.py:134]\u001b[0m discrim/DISCR_FC_TOP output: [500, 1]\n",
      "WARNING:tensorflow:From C:\\Users\\glede\\Documents\\EPFL\\PhD\\SynthPop\\code\\modules\\datgan\\models\\DATWGANModel.py:71: The name tf.train.RMSPropOptimizer is deprecated. Please use tf.compat.v1.train.RMSPropOptimizer instead.\n",
      "\n",
      "WARNING:tensorflow:From D:\\Users\\glede\\anaconda3\\envs\\py37\\lib\\site-packages\\tensorflow_core\\python\\training\\rmsprop.py:119: calling Ones.__init__ (from tensorflow.python.ops.init_ops) with dtype is deprecated and will be removed in a future version.\n",
      "Instructions for updating:\n",
      "Call initializer instance with the dtype argument instead of passing it to the constructor\n",
      "\u001b[32m[1118 15:52:15 @DATSGAN.py:203]\u001b[0m Found an already existing model. Loading it!\n",
      "WARNING:tensorflow:From D:\\Users\\glede\\anaconda3\\envs\\py37\\lib\\site-packages\\tensorpack\\tfutils\\varmanip.py:178: The name tf.gfile.Exists is deprecated. Please use tf.io.gfile.exists instead.\n",
      "\n",
      "\u001b[32m[1118 15:52:15 @logger.py:83]\u001b[0m Existing log file '../output/Chicago/TEST/logs\\log.log' backuped to '../output/Chicago/TEST/logs\\log.log.1118-155215'\n",
      "\u001b[32m[1118 15:52:15 @logger.py:90]\u001b[0m Argv: D:\\Users\\glede\\anaconda3\\envs\\py37\\lib\\site-packages\\ipykernel_launcher.py -f C:\\Users\\glede\\AppData\\Roaming\\jupyter\\runtime\\kernel-009df2cc-4865-44b5-a6e8-019b4325f1ca.json\n",
      "WARNING:tensorflow:From D:\\Users\\glede\\anaconda3\\envs\\py37\\lib\\site-packages\\tensorpack\\callbacks\\saver.py:43: The name tf.gfile.IsDirectory is deprecated. Please use tf.io.gfile.isdir instead.\n",
      "\n",
      "WARNING:tensorflow:From D:\\Users\\glede\\anaconda3\\envs\\py37\\lib\\site-packages\\tensorpack\\tfutils\\common.py:41: The name tf.ConfigProto is deprecated. Please use tf.compat.v1.ConfigProto instead.\n",
      "\n",
      "\u001b[32m[1118 15:52:15 @model_utils.py:67]\u001b[0m \u001b[36mList of Trainable Variables: \n",
      "\u001b[0mname                                          shape         #elements\n",
      "--------------------------------------------  ----------  -----------\n",
      "gen/LSTM/f0-age:0                             [1, 100]            100\n",
      "gen/LSTM/age/LSTM_cell/kernel:0               [500, 400]       200000\n",
      "gen/LSTM/age/LSTM_cell/bias:0                 [400]               400\n",
      "gen/LSTM/age/FC/W:0                           [100, 50]          5000\n",
      "gen/LSTM/age/FC/b:0                           [50]                 50\n",
      "gen/LSTM/age/FC_val/W:0                       [50, 5]             250\n",
      "gen/LSTM/age/FC_val/b:0                       [5]                   5\n",
      "gen/LSTM/age/FC_prob/W:0                      [50, 5]             250\n",
      "gen/LSTM/age/FC_prob/b:0                      [5]                   5\n",
      "gen/LSTM/age/FC_input/W:0                     [10, 100]          1000\n",
      "gen/LSTM/age/FC_input/b:0                     [100]               100\n",
      "gen/LSTM/f0-gender:0                          [1, 100]            100\n",
      "gen/LSTM/gender/LSTM_cell/kernel:0            [500, 400]       200000\n",
      "gen/LSTM/gender/LSTM_cell/bias:0              [400]               400\n",
      "gen/LSTM/gender/FC/W:0                        [100, 50]          5000\n",
      "gen/LSTM/gender/FC/b:0                        [50]                 50\n",
      "gen/LSTM/gender/FC_prob/W:0                   [50, 2]             100\n",
      "gen/LSTM/gender/FC_prob/b:0                   [2]                   2\n",
      "gen/LSTM/gender/FC_input/W:0                  [2, 100]            200\n",
      "gen/LSTM/gender/FC_input/b:0                  [100]               100\n",
      "gen/LSTM/f0-travel_dow:0                      [1, 100]            100\n",
      "gen/LSTM/travel_dow/LSTM_cell/kernel:0        [500, 400]       200000\n",
      "gen/LSTM/travel_dow/LSTM_cell/bias:0          [400]               400\n",
      "gen/LSTM/travel_dow/FC/W:0                    [100, 50]          5000\n",
      "gen/LSTM/travel_dow/FC/b:0                    [50]                 50\n",
      "gen/LSTM/travel_dow/FC_prob/W:0               [50, 7]             350\n",
      "gen/LSTM/travel_dow/FC_prob/b:0               [7]                   7\n",
      "gen/LSTM/travel_dow/FC_input/W:0              [7, 100]            700\n",
      "gen/LSTM/travel_dow/FC_input/b:0              [100]               100\n",
      "gen/LSTM/license/alpha:0                      [1, 1, 1]             1\n",
      "gen/LSTM/license/LSTM_cell/kernel:0           [500, 400]       200000\n",
      "gen/LSTM/license/LSTM_cell/bias:0             [400]               400\n",
      "gen/LSTM/license/FC/W:0                       [100, 50]          5000\n",
      "gen/LSTM/license/FC/b:0                       [50]                 50\n",
      "gen/LSTM/license/FC_prob/W:0                  [50, 2]             100\n",
      "gen/LSTM/license/FC_prob/b:0                  [2]                   2\n",
      "gen/LSTM/license/FC_input/W:0                 [2, 100]            200\n",
      "gen/LSTM/license/FC_input/b:0                 [100]               100\n",
      "gen/LSTM/education_level/alpha:0              [1, 1, 1]             1\n",
      "gen/LSTM/education_level/LSTM_cell/kernel:0   [500, 400]       200000\n",
      "gen/LSTM/education_level/LSTM_cell/bias:0     [400]               400\n",
      "gen/LSTM/education_level/FC/W:0               [100, 50]          5000\n",
      "gen/LSTM/education_level/FC/b:0               [50]                 50\n",
      "gen/LSTM/education_level/FC_prob/W:0          [50, 6]             300\n",
      "gen/LSTM/education_level/FC_prob/b:0          [6]                   6\n",
      "gen/LSTM/education_level/FC_input/W:0         [6, 100]            600\n",
      "gen/LSTM/education_level/FC_input/b:0         [100]               100\n",
      "gen/LSTM/concat-work_status/FC_inputs/W:0     [200, 100]        20000\n",
      "gen/LSTM/concat-work_status/FC_inputs/b:0     [100]               100\n",
      "gen/LSTM/concat-work_status/FC_states/W:0     [200, 100]        20000\n",
      "gen/LSTM/concat-work_status/FC_states/b:0     [100]               100\n",
      "gen/LSTM/concat-work_status/FC_h_outputs/W:0  [200, 100]        20000\n",
      "gen/LSTM/concat-work_status/FC_h_outputs/b:0  [100]               100\n",
      "gen/LSTM/work_status/alpha:0                  [3, 1, 1]             3\n",
      "gen/LSTM/work_status/LSTM_cell/kernel:0       [500, 400]       200000\n",
      "gen/LSTM/work_status/LSTM_cell/bias:0         [400]               400\n",
      "gen/LSTM/work_status/FC/W:0                   [100, 50]          5000\n",
      "gen/LSTM/work_status/FC/b:0                   [50]                 50\n",
      "gen/LSTM/work_status/FC_prob/W:0              [50, 8]             400\n",
      "gen/LSTM/work_status/FC_prob/b:0              [8]                   8\n",
      "gen/LSTM/work_status/FC_input/W:0             [8, 100]            800\n",
      "gen/LSTM/work_status/FC_input/b:0             [100]               100\n",
      "gen/LSTM/concat-hh_income/FC_inputs/W:0       [200, 100]        20000\n",
      "gen/LSTM/concat-hh_income/FC_inputs/b:0       [100]               100\n",
      "gen/LSTM/concat-hh_income/FC_states/W:0       [200, 100]        20000\n",
      "gen/LSTM/concat-hh_income/FC_states/b:0       [100]               100\n",
      "gen/LSTM/concat-hh_income/FC_h_outputs/W:0    [200, 100]        20000\n",
      "gen/LSTM/concat-hh_income/FC_h_outputs/b:0    [100]               100\n",
      "gen/LSTM/hh_income/alpha:0                    [4, 1, 1]             4\n",
      "gen/LSTM/hh_income/LSTM_cell/kernel:0         [500, 400]       200000\n",
      "gen/LSTM/hh_income/LSTM_cell/bias:0           [400]               400\n",
      "gen/LSTM/hh_income/FC/W:0                     [100, 50]          5000\n",
      "gen/LSTM/hh_income/FC/b:0                     [50]                 50\n",
      "gen/LSTM/hh_income/FC_prob/W:0                [50, 7]             350\n",
      "gen/LSTM/hh_income/FC_prob/b:0                [7]                   7\n",
      "gen/LSTM/hh_income/FC_input/W:0               [7, 100]            700\n",
      "gen/LSTM/hh_income/FC_input/b:0               [100]               100\n",
      "gen/LSTM/trip_purpose/alpha:0                 [4, 1, 1]             4\n",
      "gen/LSTM/trip_purpose/LSTM_cell/kernel:0      [500, 400]       200000\n",
      "gen/LSTM/trip_purpose/LSTM_cell/bias:0        [400]               400\n",
      "gen/LSTM/trip_purpose/FC/W:0                  [100, 50]          5000\n",
      "gen/LSTM/trip_purpose/FC/b:0                  [50]                 50\n",
      "gen/LSTM/trip_purpose/FC_prob/W:0             [50, 7]             350\n",
      "gen/LSTM/trip_purpose/FC_prob/b:0             [7]                   7\n",
      "gen/LSTM/trip_purpose/FC_input/W:0            [7, 100]            700\n",
      "gen/LSTM/trip_purpose/FC_input/b:0            [100]               100\n",
      "gen/LSTM/concat-hh_descr/FC_inputs/W:0        [200, 100]        20000\n",
      "gen/LSTM/concat-hh_descr/FC_inputs/b:0        [100]               100\n",
      "gen/LSTM/concat-hh_descr/FC_states/W:0        [200, 100]        20000\n",
      "gen/LSTM/concat-hh_descr/FC_states/b:0        [100]               100\n",
      "gen/LSTM/concat-hh_descr/FC_h_outputs/W:0     [200, 100]        20000\n",
      "gen/LSTM/concat-hh_descr/FC_h_outputs/b:0     [100]               100\n",
      "gen/LSTM/hh_descr/alpha:0                     [5, 1, 1]             5\n",
      "gen/LSTM/hh_descr/LSTM_cell/kernel:0          [500, 400]       200000\n",
      "gen/LSTM/hh_descr/LSTM_cell/bias:0            [400]               400\n",
      "gen/LSTM/hh_descr/FC/W:0                      [100, 50]          5000\n",
      "gen/LSTM/hh_descr/FC/b:0                      [50]                 50\n",
      "gen/LSTM/hh_descr/FC_prob/W:0                 [50, 3]             150\n",
      "gen/LSTM/hh_descr/FC_prob/b:0                 [3]                   3\n",
      "gen/LSTM/hh_descr/FC_input/W:0                [3, 100]            300\n",
      "gen/LSTM/hh_descr/FC_input/b:0                [100]               100\n",
      "gen/LSTM/concat-hh_size/FC_inputs/W:0         [300, 100]        30000\n",
      "gen/LSTM/concat-hh_size/FC_inputs/b:0         [100]               100\n",
      "gen/LSTM/concat-hh_size/FC_states/W:0         [300, 100]        30000\n",
      "gen/LSTM/concat-hh_size/FC_states/b:0         [100]               100\n",
      "gen/LSTM/concat-hh_size/FC_h_outputs/W:0      [300, 100]        30000\n",
      "gen/LSTM/concat-hh_size/FC_h_outputs/b:0      [100]               100\n",
      "gen/LSTM/hh_size/alpha:0                      [5, 1, 1]             5\n",
      "gen/LSTM/hh_size/LSTM_cell/kernel:0           [500, 400]       200000\n",
      "gen/LSTM/hh_size/LSTM_cell/bias:0             [400]               400\n",
      "gen/LSTM/hh_size/FC/W:0                       [100, 50]          5000\n",
      "gen/LSTM/hh_size/FC/b:0                       [50]                 50\n",
      "gen/LSTM/hh_size/FC_prob/W:0                  [50, 8]             400\n",
      "gen/LSTM/hh_size/FC_prob/b:0                  [8]                   8\n",
      "gen/LSTM/hh_size/FC_input/W:0                 [8, 100]            800\n",
      "gen/LSTM/hh_size/FC_input/b:0                 [100]               100\n",
      "gen/LSTM/departure_time/alpha:0               [5, 1, 1]             5\n",
      "gen/LSTM/departure_time/LSTM_cell/kernel:0    [500, 400]       200000\n",
      "gen/LSTM/departure_time/LSTM_cell/bias:0      [400]               400\n",
      "gen/LSTM/departure_time/FC/W:0                [100, 50]          5000\n",
      "gen/LSTM/departure_time/FC/b:0                [50]                 50\n",
      "gen/LSTM/departure_time/FC_val/W:0            [50, 6]             300\n",
      "gen/LSTM/departure_time/FC_val/b:0            [6]                   6\n",
      "gen/LSTM/departure_time/FC_prob/W:0           [50, 6]             300\n",
      "gen/LSTM/departure_time/FC_prob/b:0           [6]                   6\n",
      "gen/LSTM/departure_time/FC_input/W:0          [12, 100]          1200\n",
      "gen/LSTM/departure_time/FC_input/b:0          [100]               100\n",
      "gen/LSTM/distance/alpha:0                     [5, 1, 1]             5\n",
      "gen/LSTM/distance/LSTM_cell/kernel:0          [500, 400]       200000\n",
      "gen/LSTM/distance/LSTM_cell/bias:0            [400]               400\n",
      "gen/LSTM/distance/FC/W:0                      [100, 50]          5000\n",
      "gen/LSTM/distance/FC/b:0                      [50]                 50\n",
      "gen/LSTM/distance/FC_val/W:0                  [50, 6]             300\n",
      "gen/LSTM/distance/FC_val/b:0                  [6]                   6\n",
      "gen/LSTM/distance/FC_prob/W:0                 [50, 6]             300\n",
      "gen/LSTM/distance/FC_prob/b:0                 [6]                   6\n",
      "gen/LSTM/distance/FC_input/W:0                [12, 100]          1200\n",
      "gen/LSTM/distance/FC_input/b:0                [100]               100\n",
      "gen/LSTM/concat-hh_vehicles/FC_inputs/W:0     [200, 100]        20000\n",
      "gen/LSTM/concat-hh_vehicles/FC_inputs/b:0     [100]               100\n",
      "gen/LSTM/concat-hh_vehicles/FC_states/W:0     [200, 100]        20000\n",
      "gen/LSTM/concat-hh_vehicles/FC_states/b:0     [100]               100\n",
      "gen/LSTM/concat-hh_vehicles/FC_h_outputs/W:0  [200, 100]        20000\n",
      "gen/LSTM/concat-hh_vehicles/FC_h_outputs/b:0  [100]               100\n",
      "gen/LSTM/hh_vehicles/alpha:0                  [6, 1, 1]             6\n",
      "gen/LSTM/hh_vehicles/LSTM_cell/kernel:0       [500, 400]       200000\n",
      "gen/LSTM/hh_vehicles/LSTM_cell/bias:0         [400]               400\n",
      "gen/LSTM/hh_vehicles/FC/W:0                   [100, 50]          5000\n",
      "gen/LSTM/hh_vehicles/FC/b:0                   [50]                 50\n",
      "gen/LSTM/hh_vehicles/FC_prob/W:0              [50, 9]             450\n",
      "gen/LSTM/hh_vehicles/FC_prob/b:0              [9]                   9\n",
      "gen/LSTM/hh_vehicles/FC_input/W:0             [9, 100]            900\n",
      "gen/LSTM/hh_vehicles/FC_input/b:0             [100]               100\n",
      "gen/LSTM/concat-hh_bikes/FC_inputs/W:0        [200, 100]        20000\n",
      "gen/LSTM/concat-hh_bikes/FC_inputs/b:0        [100]               100\n",
      "gen/LSTM/concat-hh_bikes/FC_states/W:0        [200, 100]        20000\n",
      "gen/LSTM/concat-hh_bikes/FC_states/b:0        [100]               100\n",
      "gen/LSTM/concat-hh_bikes/FC_h_outputs/W:0     [200, 100]        20000\n",
      "gen/LSTM/concat-hh_bikes/FC_h_outputs/b:0     [100]               100\n",
      "gen/LSTM/hh_bikes/alpha:0                     [6, 1, 1]             6\n",
      "gen/LSTM/hh_bikes/LSTM_cell/kernel:0          [500, 400]       200000\n",
      "gen/LSTM/hh_bikes/LSTM_cell/bias:0            [400]               400\n",
      "gen/LSTM/hh_bikes/FC/W:0                      [100, 50]          5000\n",
      "gen/LSTM/hh_bikes/FC/b:0                      [50]                 50\n",
      "gen/LSTM/hh_bikes/FC_prob/W:0                 [50, 8]             400\n",
      "gen/LSTM/hh_bikes/FC_prob/b:0                 [8]                   8\n",
      "gen/LSTM/hh_bikes/FC_input/W:0                [8, 100]            800\n",
      "gen/LSTM/hh_bikes/FC_input/b:0                [100]               100\n",
      "gen/LSTM/concat-choice/FC_inputs/W:0          [700, 100]        70000\n",
      "gen/LSTM/concat-choice/FC_inputs/b:0          [100]               100\n",
      "gen/LSTM/concat-choice/FC_states/W:0          [700, 100]        70000\n",
      "gen/LSTM/concat-choice/FC_states/b:0          [100]               100\n",
      "gen/LSTM/concat-choice/FC_h_outputs/W:0       [700, 100]        70000\n",
      "gen/LSTM/concat-choice/FC_h_outputs/b:0       [100]               100\n",
      "gen/LSTM/choice/alpha:0                       [13, 1, 1]           13\n",
      "gen/LSTM/choice/LSTM_cell/kernel:0            [500, 400]       200000\n",
      "gen/LSTM/choice/LSTM_cell/bias:0              [400]               400\n",
      "gen/LSTM/choice/FC/W:0                        [100, 50]          5000\n",
      "gen/LSTM/choice/FC/b:0                        [50]                 50\n",
      "gen/LSTM/choice/FC_prob/W:0                   [50, 5]             250\n",
      "gen/LSTM/choice/FC_prob/b:0                   [5]                   5\n",
      "gen/LSTM/choice/FC_input/W:0                  [5, 100]            500\n",
      "gen/LSTM/choice/FC_input/b:0                  [100]               100\n",
      "discrim/DISCR_FC_0/FC/W:0                     [106, 100]        10600\n",
      "discrim/DISCR_FC_0/FC/b:0                     [100]               100\n",
      "discrim/DISCR_FC_0/FC_DIVERSITY/W:0           [100, 100]        10000\n",
      "discrim/DISCR_FC_0/FC_DIVERSITY/b:0           [100]               100\n",
      "discrim/DISCR_FC_0/BN/beta:0                  [110]               110\n",
      "discrim/DISCR_FC_TOP/W:0                      [110, 1]            110\n",
      "discrim/DISCR_FC_TOP/b:0                      [1]                   1\u001b[36m\n",
      "Number of trainable variables: 190\n",
      "Number of parameters (elements): 3722735\n",
      "Storage space needed for all trainable variables: 14.20MB\u001b[0m\n"
     ]
    },
    {
     "name": "stdout",
     "output_type": "stream",
     "text": [
      "\u001b[32m[1118 15:52:15 @base.py:209]\u001b[0m Setup callbacks graph ...\n",
      "WARNING:tensorflow:From D:\\Users\\glede\\anaconda3\\envs\\py37\\lib\\site-packages\\tensorpack\\callbacks\\graph.py:54: The name tf.train.SessionRunArgs is deprecated. Please use tf.estimator.SessionRunArgs instead.\n",
      "\n",
      "WARNING:tensorflow:From D:\\Users\\glede\\anaconda3\\envs\\py37\\lib\\site-packages\\tensorpack\\tfutils\\common.py:75: The name tf.VariableScope is deprecated. Please use tf.compat.v1.VariableScope instead.\n",
      "\n",
      "WARNING:tensorflow:From D:\\Users\\glede\\anaconda3\\envs\\py37\\lib\\site-packages\\tensorpack\\tfutils\\common.py:77: The name tf.train.get_or_create_global_step is deprecated. Please use tf.compat.v1.train.get_or_create_global_step instead.\n",
      "\n",
      "WARNING:tensorflow:From D:\\Users\\glede\\anaconda3\\envs\\py37\\lib\\site-packages\\tensorpack\\callbacks\\steps.py:117: The name tf.assign_add is deprecated. Please use tf.compat.v1.assign_add instead.\n",
      "\n",
      "WARNING:tensorflow:From D:\\Users\\glede\\anaconda3\\envs\\py37\\lib\\site-packages\\tensorpack\\callbacks\\saver.py:55: The name tf.train.Saver is deprecated. Please use tf.compat.v1.train.Saver instead.\n",
      "\n",
      "WARNING:tensorflow:From D:\\Users\\glede\\anaconda3\\envs\\py37\\lib\\site-packages\\tensorpack\\callbacks\\saver.py:59: The name tf.train.SaverDef is deprecated. Please use tf.compat.v1.train.SaverDef instead.\n",
      "\n",
      "WARNING:tensorflow:From C:\\Users\\glede\\Documents\\EPFL\\PhD\\SynthPop\\code\\modules\\datgan\\utils.py:9: The name tf.trainable_variables is deprecated. Please use tf.compat.v1.trainable_variables instead.\n",
      "\n",
      "\u001b[32m[1118 15:52:15 @utils.py:15]\u001b[0m Clip discrim/DISCR_FC_0/FC/W\n",
      "WARNING:tensorflow:From C:\\Users\\glede\\Documents\\EPFL\\PhD\\SynthPop\\code\\modules\\datgan\\utils.py:16: The name tf.assign is deprecated. Please use tf.compat.v1.assign instead.\n",
      "\n",
      "\u001b[32m[1118 15:52:15 @utils.py:15]\u001b[0m Clip discrim/DISCR_FC_0/FC/b\n",
      "\u001b[32m[1118 15:52:15 @utils.py:15]\u001b[0m Clip discrim/DISCR_FC_0/FC_DIVERSITY/W\n",
      "\u001b[32m[1118 15:52:15 @utils.py:15]\u001b[0m Clip discrim/DISCR_FC_0/FC_DIVERSITY/b\n",
      "\u001b[32m[1118 15:52:15 @utils.py:15]\u001b[0m Clip discrim/DISCR_FC_0/BN/beta\n",
      "\u001b[32m[1118 15:52:15 @utils.py:15]\u001b[0m Clip discrim/DISCR_FC_TOP/W\n",
      "\u001b[32m[1118 15:52:15 @utils.py:15]\u001b[0m Clip discrim/DISCR_FC_TOP/b\n",
      "\u001b[32m[1118 15:52:15 @summary.py:46]\u001b[0m [MovingAverageSummary] 3 operations in collection 'MOVING_SUMMARY_OPS' will be run with session hooks.\n",
      "\u001b[32m[1118 15:52:15 @summary.py:93]\u001b[0m Summarizing collection 'summaries' of size 4.\n",
      "WARNING:tensorflow:From D:\\Users\\glede\\anaconda3\\envs\\py37\\lib\\site-packages\\tensorpack\\callbacks\\summary.py:94: The name tf.summary.merge_all is deprecated. Please use tf.compat.v1.summary.merge_all instead.\n",
      "\n",
      "\u001b[32m[1118 15:52:15 @graph.py:98]\u001b[0m Applying collection UPDATE_OPS of 4 ops.\n",
      "WARNING:tensorflow:From D:\\Users\\glede\\anaconda3\\envs\\py37\\lib\\site-packages\\tensorpack\\callbacks\\monitor.py:261: The name tf.summary.FileWriter is deprecated. Please use tf.compat.v1.summary.FileWriter instead.\n",
      "\n",
      "WARNING:tensorflow:From D:\\Users\\glede\\anaconda3\\envs\\py37\\lib\\site-packages\\tensorpack\\tfutils\\sessinit.py:120: The name tf.train.NewCheckpointReader is deprecated. Please use tf.compat.v1.train.NewCheckpointReader instead.\n",
      "\n",
      "WARNING:tensorflow:From D:\\Users\\glede\\anaconda3\\envs\\py37\\lib\\site-packages\\tensorpack\\tfutils\\sessinit.py:127: The name tf.global_variables is deprecated. Please use tf.compat.v1.global_variables instead.\n",
      "\n",
      "\u001b[32m[1118 15:52:16 @base.py:230]\u001b[0m Creating the session ...\n",
      "WARNING:tensorflow:From D:\\Users\\glede\\anaconda3\\envs\\py37\\lib\\site-packages\\tensorpack\\tfutils\\sesscreate.py:42: The name tf.Session is deprecated. Please use tf.compat.v1.Session instead.\n",
      "\n",
      "WARNING:tensorflow:From D:\\Users\\glede\\anaconda3\\envs\\py37\\lib\\site-packages\\tensorpack\\tfutils\\sesscreate.py:71: The name tf.global_variables_initializer is deprecated. Please use tf.compat.v1.global_variables_initializer instead.\n",
      "\n",
      "WARNING:tensorflow:From D:\\Users\\glede\\anaconda3\\envs\\py37\\lib\\site-packages\\tensorpack\\tfutils\\sesscreate.py:62: get_backward_walk_ops (from tensorflow.contrib.graph_editor.select) is deprecated and will be removed after 2019-06-06.\n",
      "Instructions for updating:\n",
      "Please use tensorflow.python.ops.op_selector.get_backward_walk_ops.\n",
      "WARNING:tensorflow:From D:\\Users\\glede\\anaconda3\\envs\\py37\\lib\\site-packages\\tensorpack\\tfutils\\sesscreate.py:72: The name tf.local_variables_initializer is deprecated. Please use tf.compat.v1.local_variables_initializer instead.\n",
      "\n",
      "WARNING:tensorflow:From D:\\Users\\glede\\anaconda3\\envs\\py37\\lib\\site-packages\\tensorpack\\tfutils\\sesscreate.py:73: The name tf.tables_initializer is deprecated. Please use tf.compat.v1.tables_initializer instead.\n",
      "\n",
      "WARNING:tensorflow:From D:\\Users\\glede\\anaconda3\\envs\\py37\\lib\\site-packages\\tensorpack\\train\\base.py:254: The name tf.train.MonitoredSession is deprecated. Please use tf.compat.v1.train.MonitoredSession instead.\n",
      "\n",
      "\u001b[32m[1118 15:52:18 @base.py:236]\u001b[0m Initializing the session ...\n",
      "\u001b[32m[1118 15:52:18 @sessinit.py:114]\u001b[0m Restoring checkpoint from ../output/Chicago/TEST/model\\model-2549 ...\n",
      "INFO:tensorflow:Restoring parameters from ../output/Chicago/TEST/model\\model-2549\n",
      "\u001b[32m[1118 15:52:18 @base.py:243]\u001b[0m Graph Finalized.\n",
      "WARNING:tensorflow:From D:\\Users\\glede\\anaconda3\\envs\\py37\\lib\\site-packages\\tensorpack\\tfutils\\common.py:89: The name tf.train.global_step is deprecated. Please use tf.compat.v1.train.global_step instead.\n",
      "\n",
      "WARNING:tensorflow:From D:\\Users\\glede\\anaconda3\\envs\\py37\\lib\\site-packages\\tensorpack\\tfutils\\common.py:90: The name tf.get_default_session is deprecated. Please use tf.compat.v1.get_default_session instead.\n",
      "\n",
      "\u001b[32m[1118 15:52:18 @concurrency.py:38]\u001b[0m Starting EnqueueThread QueueInput/input_queue ...\n",
      "\u001b[32m[1118 15:52:18 @steps.py:124]\u001b[0m Start training with global_step=2549\n",
      "\u001b[32m[1118 15:52:19 @monitor.py:347]\u001b[0m Found existing JSON inside ../output/Chicago/TEST/logs, will append to it.\n",
      "\u001b[32m[1118 15:52:19 @base.py:275]\u001b[0m Start Epoch 101 ...\n"
     ]
    },
    {
     "name": "stderr",
     "output_type": "stream",
     "text": [
      "  6%|#####                                                                                 |1/17[00:02<00:34, 0.47it/s]"
     ]
    },
    {
     "name": "stdout",
     "output_type": "stream",
     "text": [
      "WARNING:tensorflow:From D:\\Users\\glede\\anaconda3\\envs\\py37\\lib\\site-packages\\tensorpack\\callbacks\\monitor.py:148: The name tf.Summary is deprecated. Please use tf.compat.v1.Summary instead.\n",
      "\n"
     ]
    },
    {
     "name": "stderr",
     "output_type": "stream",
     "text": [
      "100%|#####################################################################################|17/17[00:04<00:00, 3.86it/s]"
     ]
    },
    {
     "name": "stdout",
     "output_type": "stream",
     "text": [
      "\u001b[32m[1118 15:52:23 @base.py:285]\u001b[0m Epoch 101 (global_step 2575) finished, time:4.4 seconds.\n",
      "WARNING:tensorflow:From D:\\Users\\glede\\anaconda3\\envs\\py37\\lib\\site-packages\\tensorpack\\callbacks\\saver.py:77: The name tf.train.get_global_step is deprecated. Please use tf.compat.v1.train.get_global_step instead.\n",
      "\n"
     ]
    },
    {
     "name": "stderr",
     "output_type": "stream",
     "text": [
      "\n"
     ]
    },
    {
     "name": "stdout",
     "output_type": "stream",
     "text": [
      "\u001b[32m[1118 15:52:24 @saver.py:79]\u001b[0m Model saved to ../output/Chicago/TEST/model\\model-2575.\n",
      "\u001b[32m[1118 15:52:24 @monitor.py:467]\u001b[0m GAN_loss/d_loss: -0.10753\n",
      "\u001b[32m[1118 15:52:24 @monitor.py:467]\u001b[0m GAN_loss/g_loss: -0.044876\n",
      "\u001b[32m[1118 15:52:24 @monitor.py:467]\u001b[0m GAN_loss/kl_div: 0.04073\n",
      "\u001b[32m[1118 15:52:24 @monitor.py:467]\u001b[0m QueueInput/queue_size: 50\n",
      "\u001b[32m[1118 15:52:24 @base.py:275]\u001b[0m Start Epoch 102 ...\n"
     ]
    },
    {
     "name": "stderr",
     "output_type": "stream",
     "text": [
      "100%|#####################################################################################|17/17[00:00<00:00,36.93it/s]"
     ]
    },
    {
     "name": "stdout",
     "output_type": "stream",
     "text": [
      "\u001b[32m[1118 15:52:24 @base.py:285]\u001b[0m Epoch 102 (global_step 2600) finished, time:0.461 second.\n",
      "\u001b[32m[1118 15:52:24 @saver.py:79]\u001b[0m Model saved to ../output/Chicago/TEST/model\\model-2600.\n",
      "\u001b[32m[1118 15:52:24 @monitor.py:467]\u001b[0m GAN_loss/d_loss: -0.10782\n",
      "\u001b[32m[1118 15:52:24 @monitor.py:467]\u001b[0m GAN_loss/g_loss: -0.045049\n",
      "\u001b[32m[1118 15:52:24 @monitor.py:467]\u001b[0m GAN_loss/kl_div: 0.040169\n",
      "\u001b[32m[1118 15:52:24 @monitor.py:467]\u001b[0m QueueInput/queue_size: 50\n",
      "\u001b[32m[1118 15:52:24 @base.py:275]\u001b[0m Start Epoch 103 ...\n"
     ]
    },
    {
     "name": "stderr",
     "output_type": "stream",
     "text": [
      "\n",
      "100%|#####################################################################################|17/17[00:00<00:00,37.21it/s]"
     ]
    },
    {
     "name": "stdout",
     "output_type": "stream",
     "text": [
      "\u001b[32m[1118 15:52:25 @base.py:285]\u001b[0m Epoch 103 (global_step 2626) finished, time:0.457 second.\n",
      "\u001b[32m[1118 15:52:25 @saver.py:79]\u001b[0m Model saved to ../output/Chicago/TEST/model\\model-2626.\n",
      "\u001b[32m[1118 15:52:25 @monitor.py:467]\u001b[0m GAN_loss/d_loss: -0.10642\n",
      "\u001b[32m[1118 15:52:25 @monitor.py:467]\u001b[0m GAN_loss/g_loss: -0.045309\n",
      "\u001b[32m[1118 15:52:25 @monitor.py:467]\u001b[0m GAN_loss/kl_div: 0.040318\n",
      "\u001b[32m[1118 15:52:25 @monitor.py:467]\u001b[0m QueueInput/queue_size: 50\n",
      "\u001b[32m[1118 15:52:25 @base.py:275]\u001b[0m Start Epoch 104 ...\n"
     ]
    },
    {
     "name": "stderr",
     "output_type": "stream",
     "text": [
      "\n",
      "100%|#####################################################################################|17/17[00:00<00:00,38.55it/s]"
     ]
    },
    {
     "name": "stdout",
     "output_type": "stream",
     "text": [
      "\u001b[32m[1118 15:52:25 @base.py:285]\u001b[0m Epoch 104 (global_step 2651) finished, time:0.441 second.\n",
      "\u001b[32m[1118 15:52:25 @saver.py:79]\u001b[0m Model saved to ../output/Chicago/TEST/model\\model-2651.\n",
      "\u001b[32m[1118 15:52:25 @monitor.py:467]\u001b[0m GAN_loss/d_loss: -0.10557\n",
      "\u001b[32m[1118 15:52:25 @monitor.py:467]\u001b[0m GAN_loss/g_loss: -0.046034\n",
      "\u001b[32m[1118 15:52:25 @monitor.py:467]\u001b[0m GAN_loss/kl_div: 0.039435\n",
      "\u001b[32m[1118 15:52:25 @monitor.py:467]\u001b[0m QueueInput/queue_size: 50\n",
      "\u001b[32m[1118 15:52:25 @base.py:275]\u001b[0m Start Epoch 105 ...\n"
     ]
    },
    {
     "name": "stderr",
     "output_type": "stream",
     "text": [
      "\n",
      "100%|#####################################################################################|17/17[00:00<00:00,36.70it/s]"
     ]
    },
    {
     "name": "stdout",
     "output_type": "stream",
     "text": [
      "\u001b[32m[1118 15:52:26 @base.py:285]\u001b[0m Epoch 105 (global_step 2677) finished, time:0.464 second.\n",
      "\u001b[32m[1118 15:52:26 @saver.py:79]\u001b[0m Model saved to ../output/Chicago/TEST/model\\model-2677.\n",
      "\u001b[32m[1118 15:52:26 @monitor.py:467]\u001b[0m GAN_loss/d_loss: -0.10368\n",
      "\u001b[32m[1118 15:52:26 @monitor.py:467]\u001b[0m GAN_loss/g_loss: -0.047404\n",
      "\u001b[32m[1118 15:52:26 @monitor.py:467]\u001b[0m GAN_loss/kl_div: 0.039306\n",
      "\u001b[32m[1118 15:52:26 @monitor.py:467]\u001b[0m QueueInput/queue_size: 50\n",
      "\u001b[32m[1118 15:52:26 @base.py:275]\u001b[0m Start Epoch 106 ...\n"
     ]
    },
    {
     "name": "stderr",
     "output_type": "stream",
     "text": [
      "\n",
      "100%|#####################################################################################|17/17[00:00<00:00,36.15it/s]"
     ]
    },
    {
     "name": "stdout",
     "output_type": "stream",
     "text": [
      "\u001b[32m[1118 15:52:26 @base.py:285]\u001b[0m Epoch 106 (global_step 2702) finished, time:0.471 second.\n",
      "\u001b[32m[1118 15:52:27 @saver.py:79]\u001b[0m Model saved to ../output/Chicago/TEST/model\\model-2702.\n",
      "\u001b[32m[1118 15:52:27 @monitor.py:467]\u001b[0m GAN_loss/d_loss: -0.10356\n",
      "\u001b[32m[1118 15:52:27 @monitor.py:467]\u001b[0m GAN_loss/g_loss: -0.047103\n",
      "\u001b[32m[1118 15:52:27 @monitor.py:467]\u001b[0m GAN_loss/kl_div: 0.041798\n",
      "\u001b[32m[1118 15:52:27 @monitor.py:467]\u001b[0m QueueInput/queue_size: 50\n",
      "\u001b[32m[1118 15:52:27 @base.py:275]\u001b[0m Start Epoch 107 ...\n"
     ]
    },
    {
     "name": "stderr",
     "output_type": "stream",
     "text": [
      "\n",
      "100%|#####################################################################################|17/17[00:00<00:00,36.70it/s]"
     ]
    },
    {
     "name": "stdout",
     "output_type": "stream",
     "text": [
      "\u001b[32m[1118 15:52:27 @base.py:285]\u001b[0m Epoch 107 (global_step 2728) finished, time:0.464 second.\n",
      "\u001b[32m[1118 15:52:27 @saver.py:79]\u001b[0m Model saved to ../output/Chicago/TEST/model\\model-2728.\n",
      "\u001b[32m[1118 15:52:27 @monitor.py:467]\u001b[0m GAN_loss/d_loss: -0.10379\n",
      "\u001b[32m[1118 15:52:27 @monitor.py:467]\u001b[0m GAN_loss/g_loss: -0.047604\n",
      "\u001b[32m[1118 15:52:27 @monitor.py:467]\u001b[0m GAN_loss/kl_div: 0.040043\n",
      "\u001b[32m[1118 15:52:27 @monitor.py:467]\u001b[0m QueueInput/queue_size: 50\n",
      "\u001b[32m[1118 15:52:27 @base.py:275]\u001b[0m Start Epoch 108 ...\n"
     ]
    },
    {
     "name": "stderr",
     "output_type": "stream",
     "text": [
      "\n",
      "100%|#####################################################################################|17/17[00:00<00:00,36.81it/s]"
     ]
    },
    {
     "name": "stdout",
     "output_type": "stream",
     "text": [
      "\u001b[32m[1118 15:52:28 @base.py:285]\u001b[0m Epoch 108 (global_step 2753) finished, time:0.463 second.\n",
      "\u001b[32m[1118 15:52:28 @saver.py:79]\u001b[0m Model saved to ../output/Chicago/TEST/model\\model-2753.\n",
      "\u001b[32m[1118 15:52:28 @monitor.py:467]\u001b[0m GAN_loss/d_loss: -0.10215\n",
      "\u001b[32m[1118 15:52:28 @monitor.py:467]\u001b[0m GAN_loss/g_loss: -0.049088\n",
      "\u001b[32m[1118 15:52:28 @monitor.py:467]\u001b[0m GAN_loss/kl_div: 0.042851\n",
      "\u001b[32m[1118 15:52:28 @monitor.py:467]\u001b[0m QueueInput/queue_size: 50\n",
      "\u001b[32m[1118 15:52:28 @base.py:275]\u001b[0m Start Epoch 109 ...\n"
     ]
    },
    {
     "name": "stderr",
     "output_type": "stream",
     "text": [
      "\n",
      "100%|#####################################################################################|17/17[00:00<00:00,35.74it/s]"
     ]
    },
    {
     "name": "stdout",
     "output_type": "stream",
     "text": [
      "\u001b[32m[1118 15:52:28 @base.py:285]\u001b[0m Epoch 109 (global_step 2779) finished, time:0.477 second.\n",
      "\u001b[32m[1118 15:52:28 @saver.py:79]\u001b[0m Model saved to ../output/Chicago/TEST/model\\model-2779.\n",
      "\u001b[32m[1118 15:52:28 @monitor.py:467]\u001b[0m GAN_loss/d_loss: -0.10127\n",
      "\u001b[32m[1118 15:52:28 @monitor.py:467]\u001b[0m GAN_loss/g_loss: -0.048898\n",
      "\u001b[32m[1118 15:52:28 @monitor.py:467]\u001b[0m GAN_loss/kl_div: 0.042179\n",
      "\u001b[32m[1118 15:52:28 @monitor.py:467]\u001b[0m QueueInput/queue_size: 50\n",
      "\u001b[32m[1118 15:52:28 @base.py:275]\u001b[0m Start Epoch 110 ...\n"
     ]
    },
    {
     "name": "stderr",
     "output_type": "stream",
     "text": [
      "\n",
      "100%|#####################################################################################|17/17[00:00<00:00,35.19it/s]"
     ]
    },
    {
     "name": "stdout",
     "output_type": "stream",
     "text": [
      "\u001b[32m[1118 15:52:29 @base.py:285]\u001b[0m Epoch 110 (global_step 2804) finished, time:0.484 second.\n",
      "\u001b[32m[1118 15:52:29 @saver.py:79]\u001b[0m Model saved to ../output/Chicago/TEST/model\\model-2804.\n",
      "\u001b[32m[1118 15:52:29 @monitor.py:467]\u001b[0m GAN_loss/d_loss: -0.10128\n",
      "\u001b[32m[1118 15:52:29 @monitor.py:467]\u001b[0m GAN_loss/g_loss: -0.049506\n",
      "\u001b[32m[1118 15:52:29 @monitor.py:467]\u001b[0m GAN_loss/kl_div: 0.042472\n",
      "\u001b[32m[1118 15:52:29 @monitor.py:467]\u001b[0m QueueInput/queue_size: 50\n",
      "\u001b[32m[1118 15:52:29 @base.py:275]\u001b[0m Start Epoch 111 ...\n"
     ]
    },
    {
     "name": "stderr",
     "output_type": "stream",
     "text": [
      "\n",
      "100%|#####################################################################################|17/17[00:00<00:00,36.89it/s]"
     ]
    },
    {
     "name": "stdout",
     "output_type": "stream",
     "text": [
      "\u001b[32m[1118 15:52:29 @base.py:285]\u001b[0m Epoch 111 (global_step 2830) finished, time:0.462 second.\n",
      "WARNING:tensorflow:From D:\\Users\\glede\\anaconda3\\envs\\py37\\lib\\site-packages\\tensorflow_core\\python\\training\\saver.py:963: remove_checkpoint (from tensorflow.python.training.checkpoint_management) is deprecated and will be removed in a future version.\n",
      "Instructions for updating:\n",
      "Use standard file APIs to delete files with this prefix.\n",
      "\u001b[32m[1118 15:52:30 @saver.py:79]\u001b[0m Model saved to ../output/Chicago/TEST/model\\model-2830.\n",
      "\u001b[32m[1118 15:52:30 @monitor.py:467]\u001b[0m GAN_loss/d_loss: -0.099767\n",
      "\u001b[32m[1118 15:52:30 @monitor.py:467]\u001b[0m GAN_loss/g_loss: -0.050189\n",
      "\u001b[32m[1118 15:52:30 @monitor.py:467]\u001b[0m GAN_loss/kl_div: 0.041617\n",
      "\u001b[32m[1118 15:52:30 @monitor.py:467]\u001b[0m QueueInput/queue_size: 50\n",
      "\u001b[32m[1118 15:52:30 @base.py:275]\u001b[0m Start Epoch 112 ...\n"
     ]
    },
    {
     "name": "stderr",
     "output_type": "stream",
     "text": [
      "\n",
      "100%|#####################################################################################|17/17[00:00<00:00,38.05it/s]"
     ]
    },
    {
     "name": "stdout",
     "output_type": "stream",
     "text": [
      "\u001b[32m[1118 15:52:30 @base.py:285]\u001b[0m Epoch 112 (global_step 2855) finished, time:0.447 second.\n",
      "\u001b[32m[1118 15:52:30 @saver.py:79]\u001b[0m Model saved to ../output/Chicago/TEST/model\\model-2855.\n",
      "\u001b[32m[1118 15:52:30 @monitor.py:467]\u001b[0m GAN_loss/d_loss: -0.099747\n",
      "\u001b[32m[1118 15:52:30 @monitor.py:467]\u001b[0m GAN_loss/g_loss: -0.050975\n",
      "\u001b[32m[1118 15:52:30 @monitor.py:467]\u001b[0m GAN_loss/kl_div: 0.043277\n",
      "\u001b[32m[1118 15:52:30 @monitor.py:467]\u001b[0m QueueInput/queue_size: 50\n",
      "\u001b[32m[1118 15:52:30 @base.py:275]\u001b[0m Start Epoch 113 ...\n"
     ]
    },
    {
     "name": "stderr",
     "output_type": "stream",
     "text": [
      "\n",
      "100%|#####################################################################################|17/17[00:00<00:00,36.62it/s]"
     ]
    },
    {
     "name": "stdout",
     "output_type": "stream",
     "text": [
      "\u001b[32m[1118 15:52:31 @base.py:285]\u001b[0m Epoch 113 (global_step 2881) finished, time:0.465 second.\n",
      "\u001b[32m[1118 15:52:31 @saver.py:79]\u001b[0m Model saved to ../output/Chicago/TEST/model\\model-2881.\n",
      "\u001b[32m[1118 15:52:31 @monitor.py:467]\u001b[0m GAN_loss/d_loss: -0.099378\n",
      "\u001b[32m[1118 15:52:31 @monitor.py:467]\u001b[0m GAN_loss/g_loss: -0.050713\n",
      "\u001b[32m[1118 15:52:31 @monitor.py:467]\u001b[0m GAN_loss/kl_div: 0.043346\n",
      "\u001b[32m[1118 15:52:31 @monitor.py:467]\u001b[0m QueueInput/queue_size: 50\n",
      "\u001b[32m[1118 15:52:31 @base.py:275]\u001b[0m Start Epoch 114 ...\n"
     ]
    },
    {
     "name": "stderr",
     "output_type": "stream",
     "text": [
      "\n",
      "100%|#####################################################################################|17/17[00:00<00:00,38.47it/s]"
     ]
    },
    {
     "name": "stdout",
     "output_type": "stream",
     "text": [
      "\u001b[32m[1118 15:52:31 @base.py:285]\u001b[0m Epoch 114 (global_step 2906) finished, time:0.442 second.\n",
      "\u001b[32m[1118 15:52:31 @saver.py:79]\u001b[0m Model saved to ../output/Chicago/TEST/model\\model-2906.\n",
      "\u001b[32m[1118 15:52:31 @monitor.py:467]\u001b[0m GAN_loss/d_loss: -0.099212\n",
      "\u001b[32m[1118 15:52:31 @monitor.py:467]\u001b[0m GAN_loss/g_loss: -0.051755\n",
      "\u001b[32m[1118 15:52:31 @monitor.py:467]\u001b[0m GAN_loss/kl_div: 0.04154\n",
      "\u001b[32m[1118 15:52:31 @monitor.py:467]\u001b[0m QueueInput/queue_size: 50\n",
      "\u001b[32m[1118 15:52:31 @base.py:275]\u001b[0m Start Epoch 115 ...\n"
     ]
    },
    {
     "name": "stderr",
     "output_type": "stream",
     "text": [
      "\n",
      "100%|#####################################################################################|17/17[00:00<00:00,37.01it/s]"
     ]
    },
    {
     "name": "stdout",
     "output_type": "stream",
     "text": [
      "\u001b[32m[1118 15:52:32 @base.py:285]\u001b[0m Epoch 115 (global_step 2932) finished, time:0.46 second.\n",
      "\u001b[32m[1118 15:52:32 @saver.py:79]\u001b[0m Model saved to ../output/Chicago/TEST/model\\model-2932.\n",
      "\u001b[32m[1118 15:52:32 @monitor.py:467]\u001b[0m GAN_loss/d_loss: -0.098721\n",
      "\u001b[32m[1118 15:52:32 @monitor.py:467]\u001b[0m GAN_loss/g_loss: -0.052247\n",
      "\u001b[32m[1118 15:52:32 @monitor.py:467]\u001b[0m GAN_loss/kl_div: 0.038757\n",
      "\u001b[32m[1118 15:52:32 @monitor.py:467]\u001b[0m QueueInput/queue_size: 50\n",
      "\u001b[32m[1118 15:52:32 @base.py:275]\u001b[0m Start Epoch 116 ...\n"
     ]
    },
    {
     "name": "stderr",
     "output_type": "stream",
     "text": [
      "\n",
      "100%|#####################################################################################|17/17[00:00<00:00,38.34it/s]"
     ]
    },
    {
     "name": "stdout",
     "output_type": "stream",
     "text": [
      "\u001b[32m[1118 15:52:32 @base.py:285]\u001b[0m Epoch 116 (global_step 2957) finished, time:0.444 second.\n",
      "\u001b[32m[1118 15:52:32 @saver.py:79]\u001b[0m Model saved to ../output/Chicago/TEST/model\\model-2957.\n",
      "\u001b[32m[1118 15:52:32 @monitor.py:467]\u001b[0m GAN_loss/d_loss: -0.098375\n",
      "\u001b[32m[1118 15:52:32 @monitor.py:467]\u001b[0m GAN_loss/g_loss: -0.052847\n",
      "\u001b[32m[1118 15:52:32 @monitor.py:467]\u001b[0m GAN_loss/kl_div: 0.037901\n",
      "\u001b[32m[1118 15:52:32 @monitor.py:467]\u001b[0m QueueInput/queue_size: 50\n",
      "\u001b[32m[1118 15:52:32 @base.py:275]\u001b[0m Start Epoch 117 ...\n"
     ]
    },
    {
     "name": "stderr",
     "output_type": "stream",
     "text": [
      "\n",
      "100%|#####################################################################################|17/17[00:00<00:00,37.05it/s]"
     ]
    },
    {
     "name": "stdout",
     "output_type": "stream",
     "text": [
      "\u001b[32m[1118 15:52:33 @base.py:285]\u001b[0m Epoch 117 (global_step 2983) finished, time:0.459 second.\n",
      "\u001b[32m[1118 15:52:33 @saver.py:79]\u001b[0m Model saved to ../output/Chicago/TEST/model\\model-2983.\n",
      "\u001b[32m[1118 15:52:33 @monitor.py:467]\u001b[0m GAN_loss/d_loss: -0.097047\n",
      "\u001b[32m[1118 15:52:33 @monitor.py:467]\u001b[0m GAN_loss/g_loss: -0.053483\n",
      "\u001b[32m[1118 15:52:33 @monitor.py:467]\u001b[0m GAN_loss/kl_div: 0.039494\n",
      "\u001b[32m[1118 15:52:33 @monitor.py:467]\u001b[0m QueueInput/queue_size: 50\n",
      "\u001b[32m[1118 15:52:33 @base.py:275]\u001b[0m Start Epoch 118 ...\n"
     ]
    },
    {
     "name": "stderr",
     "output_type": "stream",
     "text": [
      "\n",
      "100%|#####################################################################################|17/17[00:00<00:00,38.38it/s]"
     ]
    },
    {
     "name": "stdout",
     "output_type": "stream",
     "text": [
      "\u001b[32m[1118 15:52:34 @base.py:285]\u001b[0m Epoch 118 (global_step 3008) finished, time:0.443 second.\n",
      "\u001b[32m[1118 15:52:34 @saver.py:79]\u001b[0m Model saved to ../output/Chicago/TEST/model\\model-3008.\n",
      "\u001b[32m[1118 15:52:34 @monitor.py:467]\u001b[0m GAN_loss/d_loss: -0.096684\n",
      "\u001b[32m[1118 15:52:34 @monitor.py:467]\u001b[0m GAN_loss/g_loss: -0.054295\n",
      "\u001b[32m[1118 15:52:34 @monitor.py:467]\u001b[0m GAN_loss/kl_div: 0.037055\n",
      "\u001b[32m[1118 15:52:34 @monitor.py:467]\u001b[0m QueueInput/queue_size: 50\n",
      "\u001b[32m[1118 15:52:34 @base.py:275]\u001b[0m Start Epoch 119 ...\n"
     ]
    },
    {
     "name": "stderr",
     "output_type": "stream",
     "text": [
      "\n",
      "100%|#####################################################################################|17/17[00:00<00:00,36.81it/s]"
     ]
    },
    {
     "name": "stdout",
     "output_type": "stream",
     "text": [
      "\u001b[32m[1118 15:52:34 @base.py:285]\u001b[0m Epoch 119 (global_step 3034) finished, time:0.462 second.\n",
      "\u001b[32m[1118 15:52:34 @saver.py:79]\u001b[0m Model saved to ../output/Chicago/TEST/model\\model-3034.\n",
      "\u001b[32m[1118 15:52:34 @monitor.py:467]\u001b[0m GAN_loss/d_loss: -0.09642\n",
      "\u001b[32m[1118 15:52:34 @monitor.py:467]\u001b[0m GAN_loss/g_loss: -0.054195\n",
      "\u001b[32m[1118 15:52:34 @monitor.py:467]\u001b[0m GAN_loss/kl_div: 0.038793\n",
      "\u001b[32m[1118 15:52:34 @monitor.py:467]\u001b[0m QueueInput/queue_size: 50\n",
      "\u001b[32m[1118 15:52:34 @base.py:275]\u001b[0m Start Epoch 120 ...\n"
     ]
    },
    {
     "name": "stderr",
     "output_type": "stream",
     "text": [
      "\n",
      "100%|#####################################################################################|17/17[00:00<00:00,38.42it/s]"
     ]
    },
    {
     "name": "stdout",
     "output_type": "stream",
     "text": [
      "\u001b[32m[1118 15:52:35 @base.py:285]\u001b[0m Epoch 120 (global_step 3059) finished, time:0.443 second.\n",
      "\u001b[32m[1118 15:52:35 @saver.py:79]\u001b[0m Model saved to ../output/Chicago/TEST/model\\model-3059.\n",
      "\u001b[32m[1118 15:52:35 @monitor.py:467]\u001b[0m GAN_loss/d_loss: -0.096418\n",
      "\u001b[32m[1118 15:52:35 @monitor.py:467]\u001b[0m GAN_loss/g_loss: -0.054513\n",
      "\u001b[32m[1118 15:52:35 @monitor.py:467]\u001b[0m GAN_loss/kl_div: 0.041764\n",
      "\u001b[32m[1118 15:52:35 @monitor.py:467]\u001b[0m QueueInput/queue_size: 50\n",
      "\u001b[32m[1118 15:52:35 @base.py:275]\u001b[0m Start Epoch 121 ...\n"
     ]
    },
    {
     "name": "stderr",
     "output_type": "stream",
     "text": [
      "\n",
      "100%|#####################################################################################|17/17[00:00<00:00,36.97it/s]"
     ]
    },
    {
     "name": "stdout",
     "output_type": "stream",
     "text": [
      "\u001b[32m[1118 15:52:35 @base.py:285]\u001b[0m Epoch 121 (global_step 3085) finished, time:0.46 second.\n",
      "\u001b[32m[1118 15:52:35 @saver.py:79]\u001b[0m Model saved to ../output/Chicago/TEST/model\\model-3085.\n",
      "\u001b[32m[1118 15:52:35 @monitor.py:467]\u001b[0m GAN_loss/d_loss: -0.09574\n",
      "\u001b[32m[1118 15:52:35 @monitor.py:467]\u001b[0m GAN_loss/g_loss: -0.05537\n",
      "\u001b[32m[1118 15:52:35 @monitor.py:467]\u001b[0m GAN_loss/kl_div: 0.039857\n",
      "\u001b[32m[1118 15:52:35 @monitor.py:467]\u001b[0m QueueInput/queue_size: 50\n",
      "\u001b[32m[1118 15:52:35 @base.py:275]\u001b[0m Start Epoch 122 ...\n"
     ]
    },
    {
     "name": "stderr",
     "output_type": "stream",
     "text": [
      "\n",
      "100%|#####################################################################################|17/17[00:00<00:00,38.47it/s]"
     ]
    },
    {
     "name": "stdout",
     "output_type": "stream",
     "text": [
      "\u001b[32m[1118 15:52:36 @base.py:285]\u001b[0m Epoch 122 (global_step 3110) finished, time:0.442 second.\n",
      "\u001b[32m[1118 15:52:36 @saver.py:79]\u001b[0m Model saved to ../output/Chicago/TEST/model\\model-3110.\n",
      "\u001b[32m[1118 15:52:36 @monitor.py:467]\u001b[0m GAN_loss/d_loss: -0.095871\n",
      "\u001b[32m[1118 15:52:36 @monitor.py:467]\u001b[0m GAN_loss/g_loss: -0.055201\n",
      "\u001b[32m[1118 15:52:36 @monitor.py:467]\u001b[0m GAN_loss/kl_div: 0.042366\n",
      "\u001b[32m[1118 15:52:36 @monitor.py:467]\u001b[0m QueueInput/queue_size: 50\n",
      "\u001b[32m[1118 15:52:36 @base.py:275]\u001b[0m Start Epoch 123 ...\n"
     ]
    },
    {
     "name": "stderr",
     "output_type": "stream",
     "text": [
      "\n",
      "100%|#####################################################################################|17/17[00:00<00:00,36.93it/s]"
     ]
    },
    {
     "name": "stdout",
     "output_type": "stream",
     "text": [
      "\u001b[32m[1118 15:52:36 @base.py:285]\u001b[0m Epoch 123 (global_step 3136) finished, time:0.461 second.\n",
      "\u001b[32m[1118 15:52:37 @saver.py:79]\u001b[0m Model saved to ../output/Chicago/TEST/model\\model-3136.\n",
      "\u001b[32m[1118 15:52:37 @monitor.py:467]\u001b[0m GAN_loss/d_loss: -0.094857\n",
      "\u001b[32m[1118 15:52:37 @monitor.py:467]\u001b[0m GAN_loss/g_loss: -0.055501\n",
      "\u001b[32m[1118 15:52:37 @monitor.py:467]\u001b[0m GAN_loss/kl_div: 0.042328\n",
      "\u001b[32m[1118 15:52:37 @monitor.py:467]\u001b[0m QueueInput/queue_size: 50\n",
      "\u001b[32m[1118 15:52:37 @base.py:275]\u001b[0m Start Epoch 124 ...\n"
     ]
    },
    {
     "name": "stderr",
     "output_type": "stream",
     "text": [
      "\n",
      "100%|#####################################################################################|17/17[00:00<00:00,38.30it/s]"
     ]
    },
    {
     "name": "stdout",
     "output_type": "stream",
     "text": [
      "\u001b[32m[1118 15:52:37 @base.py:285]\u001b[0m Epoch 124 (global_step 3161) finished, time:0.444 second.\n",
      "\u001b[32m[1118 15:52:37 @saver.py:79]\u001b[0m Model saved to ../output/Chicago/TEST/model\\model-3161.\n",
      "\u001b[32m[1118 15:52:37 @monitor.py:467]\u001b[0m GAN_loss/d_loss: -0.094282\n",
      "\u001b[32m[1118 15:52:37 @monitor.py:467]\u001b[0m GAN_loss/g_loss: -0.055736\n",
      "\u001b[32m[1118 15:52:37 @monitor.py:467]\u001b[0m GAN_loss/kl_div: 0.04074\n",
      "\u001b[32m[1118 15:52:37 @monitor.py:467]\u001b[0m QueueInput/queue_size: 50\n",
      "\u001b[32m[1118 15:52:37 @base.py:275]\u001b[0m Start Epoch 125 ...\n"
     ]
    },
    {
     "name": "stderr",
     "output_type": "stream",
     "text": [
      "\n",
      "100%|#####################################################################################|17/17[00:00<00:00,37.05it/s]"
     ]
    },
    {
     "name": "stdout",
     "output_type": "stream",
     "text": [
      "\u001b[32m[1118 15:52:38 @base.py:285]\u001b[0m Epoch 125 (global_step 3187) finished, time:0.459 second.\n",
      "\u001b[32m[1118 15:52:38 @saver.py:79]\u001b[0m Model saved to ../output/Chicago/TEST/model\\model-3187.\n",
      "\u001b[32m[1118 15:52:38 @monitor.py:467]\u001b[0m GAN_loss/d_loss: -0.093857\n",
      "\u001b[32m[1118 15:52:38 @monitor.py:467]\u001b[0m GAN_loss/g_loss: -0.055757\n",
      "\u001b[32m[1118 15:52:38 @monitor.py:467]\u001b[0m GAN_loss/kl_div: 0.041618\n",
      "\u001b[32m[1118 15:52:38 @monitor.py:467]\u001b[0m QueueInput/queue_size: 50\n",
      "\u001b[32m[1118 15:52:38 @base.py:275]\u001b[0m Start Epoch 126 ...\n"
     ]
    },
    {
     "name": "stderr",
     "output_type": "stream",
     "text": [
      "\n",
      "100%|#####################################################################################|17/17[00:00<00:00,38.25it/s]"
     ]
    },
    {
     "name": "stdout",
     "output_type": "stream",
     "text": [
      "\u001b[32m[1118 15:52:38 @base.py:285]\u001b[0m Epoch 126 (global_step 3212) finished, time:0.445 second.\n",
      "\u001b[32m[1118 15:52:38 @saver.py:79]\u001b[0m Model saved to ../output/Chicago/TEST/model\\model-3212.\n",
      "\u001b[32m[1118 15:52:38 @monitor.py:467]\u001b[0m GAN_loss/d_loss: -0.093159\n",
      "\u001b[32m[1118 15:52:38 @monitor.py:467]\u001b[0m GAN_loss/g_loss: -0.056452\n",
      "\u001b[32m[1118 15:52:38 @monitor.py:467]\u001b[0m GAN_loss/kl_div: 0.041554\n",
      "\u001b[32m[1118 15:52:38 @monitor.py:467]\u001b[0m QueueInput/queue_size: 50\n",
      "\u001b[32m[1118 15:52:38 @base.py:275]\u001b[0m Start Epoch 127 ...\n"
     ]
    },
    {
     "name": "stderr",
     "output_type": "stream",
     "text": [
      "\n",
      "100%|#####################################################################################|17/17[00:00<00:00,37.21it/s]"
     ]
    },
    {
     "name": "stdout",
     "output_type": "stream",
     "text": [
      "\u001b[32m[1118 15:52:39 @base.py:285]\u001b[0m Epoch 127 (global_step 3238) finished, time:0.458 second.\n",
      "\u001b[32m[1118 15:52:39 @saver.py:79]\u001b[0m Model saved to ../output/Chicago/TEST/model\\model-3238.\n",
      "\u001b[32m[1118 15:52:39 @monitor.py:467]\u001b[0m GAN_loss/d_loss: -0.092686\n",
      "\u001b[32m[1118 15:52:39 @monitor.py:467]\u001b[0m GAN_loss/g_loss: -0.05708\n",
      "\u001b[32m[1118 15:52:39 @monitor.py:467]\u001b[0m GAN_loss/kl_div: 0.042012\n",
      "\u001b[32m[1118 15:52:39 @monitor.py:467]\u001b[0m QueueInput/queue_size: 50\n",
      "\u001b[32m[1118 15:52:39 @base.py:275]\u001b[0m Start Epoch 128 ...\n"
     ]
    },
    {
     "name": "stderr",
     "output_type": "stream",
     "text": [
      "\n",
      "100%|#####################################################################################|17/17[00:00<00:00,38.34it/s]"
     ]
    },
    {
     "name": "stdout",
     "output_type": "stream",
     "text": [
      "\u001b[32m[1118 15:52:39 @base.py:285]\u001b[0m Epoch 128 (global_step 3263) finished, time:0.444 second.\n",
      "\u001b[32m[1118 15:52:40 @saver.py:79]\u001b[0m Model saved to ../output/Chicago/TEST/model\\model-3263.\n",
      "\u001b[32m[1118 15:52:40 @monitor.py:467]\u001b[0m GAN_loss/d_loss: -0.091144\n",
      "\u001b[32m[1118 15:52:40 @monitor.py:467]\u001b[0m GAN_loss/g_loss: -0.058651\n",
      "\u001b[32m[1118 15:52:40 @monitor.py:467]\u001b[0m GAN_loss/kl_div: 0.042114\n",
      "\u001b[32m[1118 15:52:40 @monitor.py:467]\u001b[0m QueueInput/queue_size: 50\n",
      "\u001b[32m[1118 15:52:40 @base.py:275]\u001b[0m Start Epoch 129 ...\n"
     ]
    },
    {
     "name": "stderr",
     "output_type": "stream",
     "text": [
      "\n",
      "100%|#####################################################################################|17/17[00:00<00:00,37.01it/s]"
     ]
    },
    {
     "name": "stdout",
     "output_type": "stream",
     "text": [
      "\u001b[32m[1118 15:52:40 @base.py:285]\u001b[0m Epoch 129 (global_step 3289) finished, time:0.46 second.\n",
      "\u001b[32m[1118 15:52:40 @saver.py:79]\u001b[0m Model saved to ../output/Chicago/TEST/model\\model-3289.\n",
      "\u001b[32m[1118 15:52:40 @monitor.py:467]\u001b[0m GAN_loss/d_loss: -0.091143\n",
      "\u001b[32m[1118 15:52:40 @monitor.py:467]\u001b[0m GAN_loss/g_loss: -0.057976\n",
      "\u001b[32m[1118 15:52:40 @monitor.py:467]\u001b[0m GAN_loss/kl_div: 0.043102\n",
      "\u001b[32m[1118 15:52:40 @monitor.py:467]\u001b[0m QueueInput/queue_size: 50\n",
      "\u001b[32m[1118 15:52:40 @base.py:275]\u001b[0m Start Epoch 130 ...\n"
     ]
    },
    {
     "name": "stderr",
     "output_type": "stream",
     "text": [
      "\n",
      "100%|#####################################################################################|17/17[00:00<00:00,38.30it/s]"
     ]
    },
    {
     "name": "stdout",
     "output_type": "stream",
     "text": [
      "\u001b[32m[1118 15:52:41 @base.py:285]\u001b[0m Epoch 130 (global_step 3314) finished, time:0.444 second.\n",
      "\u001b[32m[1118 15:52:41 @saver.py:79]\u001b[0m Model saved to ../output/Chicago/TEST/model\\model-3314.\n",
      "\u001b[32m[1118 15:52:41 @monitor.py:467]\u001b[0m GAN_loss/d_loss: -0.090872\n",
      "\u001b[32m[1118 15:52:41 @monitor.py:467]\u001b[0m GAN_loss/g_loss: -0.058593\n",
      "\u001b[32m[1118 15:52:41 @monitor.py:467]\u001b[0m GAN_loss/kl_div: 0.042427\n",
      "\u001b[32m[1118 15:52:41 @monitor.py:467]\u001b[0m QueueInput/queue_size: 50\n",
      "\u001b[32m[1118 15:52:41 @base.py:275]\u001b[0m Start Epoch 131 ...\n"
     ]
    },
    {
     "name": "stderr",
     "output_type": "stream",
     "text": [
      "\n",
      "100%|#####################################################################################|17/17[00:00<00:00,37.13it/s]"
     ]
    },
    {
     "name": "stdout",
     "output_type": "stream",
     "text": [
      "\u001b[32m[1118 15:52:41 @base.py:285]\u001b[0m Epoch 131 (global_step 3340) finished, time:0.459 second.\n",
      "\u001b[32m[1118 15:52:41 @saver.py:79]\u001b[0m Model saved to ../output/Chicago/TEST/model\\model-3340.\n",
      "\u001b[32m[1118 15:52:41 @monitor.py:467]\u001b[0m GAN_loss/d_loss: -0.090928\n",
      "\u001b[32m[1118 15:52:41 @monitor.py:467]\u001b[0m GAN_loss/g_loss: -0.05954\n",
      "\u001b[32m[1118 15:52:41 @monitor.py:467]\u001b[0m GAN_loss/kl_div: 0.042438\n",
      "\u001b[32m[1118 15:52:41 @monitor.py:467]\u001b[0m QueueInput/queue_size: 50\n",
      "\u001b[32m[1118 15:52:41 @base.py:275]\u001b[0m Start Epoch 132 ...\n"
     ]
    },
    {
     "name": "stderr",
     "output_type": "stream",
     "text": [
      "\n",
      "100%|#####################################################################################|17/17[00:00<00:00,38.38it/s]"
     ]
    },
    {
     "name": "stdout",
     "output_type": "stream",
     "text": [
      "\u001b[32m[1118 15:52:42 @base.py:285]\u001b[0m Epoch 132 (global_step 3365) finished, time:0.444 second.\n",
      "\u001b[32m[1118 15:52:42 @saver.py:79]\u001b[0m Model saved to ../output/Chicago/TEST/model\\model-3365.\n",
      "\u001b[32m[1118 15:52:42 @monitor.py:467]\u001b[0m GAN_loss/d_loss: -0.090049\n",
      "\u001b[32m[1118 15:52:42 @monitor.py:467]\u001b[0m GAN_loss/g_loss: -0.060055\n",
      "\u001b[32m[1118 15:52:42 @monitor.py:467]\u001b[0m GAN_loss/kl_div: 0.043029\n",
      "\u001b[32m[1118 15:52:42 @monitor.py:467]\u001b[0m QueueInput/queue_size: 50\n",
      "\u001b[32m[1118 15:52:42 @base.py:275]\u001b[0m Start Epoch 133 ...\n"
     ]
    },
    {
     "name": "stderr",
     "output_type": "stream",
     "text": [
      "\n",
      "100%|#####################################################################################|17/17[00:00<00:00,37.17it/s]"
     ]
    },
    {
     "name": "stdout",
     "output_type": "stream",
     "text": [
      "\u001b[32m[1118 15:52:42 @base.py:285]\u001b[0m Epoch 133 (global_step 3391) finished, time:0.458 second.\n",
      "\u001b[32m[1118 15:52:42 @saver.py:79]\u001b[0m Model saved to ../output/Chicago/TEST/model\\model-3391.\n",
      "\u001b[32m[1118 15:52:42 @monitor.py:467]\u001b[0m GAN_loss/d_loss: -0.089803\n",
      "\u001b[32m[1118 15:52:42 @monitor.py:467]\u001b[0m GAN_loss/g_loss: -0.059453\n",
      "\u001b[32m[1118 15:52:42 @monitor.py:467]\u001b[0m GAN_loss/kl_div: 0.044891\n",
      "\u001b[32m[1118 15:52:42 @monitor.py:467]\u001b[0m QueueInput/queue_size: 50\n",
      "\u001b[32m[1118 15:52:42 @base.py:275]\u001b[0m Start Epoch 134 ...\n"
     ]
    },
    {
     "name": "stderr",
     "output_type": "stream",
     "text": [
      "\n",
      "100%|#####################################################################################|17/17[00:00<00:00,38.30it/s]"
     ]
    },
    {
     "name": "stdout",
     "output_type": "stream",
     "text": [
      "\u001b[32m[1118 15:52:43 @base.py:285]\u001b[0m Epoch 134 (global_step 3416) finished, time:0.444 second.\n",
      "\u001b[32m[1118 15:52:43 @saver.py:79]\u001b[0m Model saved to ../output/Chicago/TEST/model\\model-3416.\n",
      "\u001b[32m[1118 15:52:43 @monitor.py:467]\u001b[0m GAN_loss/d_loss: -0.090318\n",
      "\u001b[32m[1118 15:52:43 @monitor.py:467]\u001b[0m GAN_loss/g_loss: -0.060331\n",
      "\u001b[32m[1118 15:52:43 @monitor.py:467]\u001b[0m GAN_loss/kl_div: 0.044768\n",
      "\u001b[32m[1118 15:52:43 @monitor.py:467]\u001b[0m QueueInput/queue_size: 50\n",
      "\u001b[32m[1118 15:52:43 @base.py:275]\u001b[0m Start Epoch 135 ...\n"
     ]
    },
    {
     "name": "stderr",
     "output_type": "stream",
     "text": [
      "\n",
      "100%|#####################################################################################|17/17[00:00<00:00,37.13it/s]"
     ]
    },
    {
     "name": "stdout",
     "output_type": "stream",
     "text": [
      "\u001b[32m[1118 15:52:43 @base.py:285]\u001b[0m Epoch 135 (global_step 3442) finished, time:0.458 second.\n",
      "\u001b[32m[1118 15:52:44 @saver.py:79]\u001b[0m Model saved to ../output/Chicago/TEST/model\\model-3442.\n",
      "\u001b[32m[1118 15:52:44 @monitor.py:467]\u001b[0m GAN_loss/d_loss: -0.090541\n",
      "\u001b[32m[1118 15:52:44 @monitor.py:467]\u001b[0m GAN_loss/g_loss: -0.060014\n",
      "\u001b[32m[1118 15:52:44 @monitor.py:467]\u001b[0m GAN_loss/kl_div: 0.042369\n",
      "\u001b[32m[1118 15:52:44 @monitor.py:467]\u001b[0m QueueInput/queue_size: 50\n",
      "\u001b[32m[1118 15:52:44 @base.py:275]\u001b[0m Start Epoch 136 ...\n"
     ]
    },
    {
     "name": "stderr",
     "output_type": "stream",
     "text": [
      "\n",
      "100%|#####################################################################################|17/17[00:00<00:00,38.20it/s]"
     ]
    },
    {
     "name": "stdout",
     "output_type": "stream",
     "text": [
      "\u001b[32m[1118 15:52:44 @base.py:285]\u001b[0m Epoch 136 (global_step 3467) finished, time:0.445 second.\n",
      "\u001b[32m[1118 15:52:44 @saver.py:79]\u001b[0m Model saved to ../output/Chicago/TEST/model\\model-3467.\n",
      "\u001b[32m[1118 15:52:44 @monitor.py:467]\u001b[0m GAN_loss/d_loss: -0.088947\n",
      "\u001b[32m[1118 15:52:44 @monitor.py:467]\u001b[0m GAN_loss/g_loss: -0.060196\n",
      "\u001b[32m[1118 15:52:44 @monitor.py:467]\u001b[0m GAN_loss/kl_div: 0.043152\n",
      "\u001b[32m[1118 15:52:44 @monitor.py:467]\u001b[0m QueueInput/queue_size: 50\n",
      "\u001b[32m[1118 15:52:44 @base.py:275]\u001b[0m Start Epoch 137 ...\n"
     ]
    },
    {
     "name": "stderr",
     "output_type": "stream",
     "text": [
      "\n",
      "100%|#####################################################################################|17/17[00:00<00:00,37.13it/s]"
     ]
    },
    {
     "name": "stdout",
     "output_type": "stream",
     "text": [
      "\u001b[32m[1118 15:52:45 @base.py:285]\u001b[0m Epoch 137 (global_step 3493) finished, time:0.459 second.\n",
      "\u001b[32m[1118 15:52:45 @saver.py:79]\u001b[0m Model saved to ../output/Chicago/TEST/model\\model-3493.\n",
      "\u001b[32m[1118 15:52:45 @monitor.py:467]\u001b[0m GAN_loss/d_loss: -0.088675\n",
      "\u001b[32m[1118 15:52:45 @monitor.py:467]\u001b[0m GAN_loss/g_loss: -0.060081\n",
      "\u001b[32m[1118 15:52:45 @monitor.py:467]\u001b[0m GAN_loss/kl_div: 0.041501\n",
      "\u001b[32m[1118 15:52:45 @monitor.py:467]\u001b[0m QueueInput/queue_size: 50\n",
      "\u001b[32m[1118 15:52:45 @base.py:275]\u001b[0m Start Epoch 138 ...\n"
     ]
    },
    {
     "name": "stderr",
     "output_type": "stream",
     "text": [
      "\n",
      "100%|#####################################################################################|17/17[00:00<00:00,37.83it/s]"
     ]
    },
    {
     "name": "stdout",
     "output_type": "stream",
     "text": [
      "\u001b[32m[1118 15:52:45 @base.py:285]\u001b[0m Epoch 138 (global_step 3518) finished, time:0.45 second.\n",
      "\u001b[32m[1118 15:52:45 @saver.py:79]\u001b[0m Model saved to ../output/Chicago/TEST/model\\model-3518.\n",
      "\u001b[32m[1118 15:52:45 @monitor.py:467]\u001b[0m GAN_loss/d_loss: -0.088472\n",
      "\u001b[32m[1118 15:52:45 @monitor.py:467]\u001b[0m GAN_loss/g_loss: -0.061338\n",
      "\u001b[32m[1118 15:52:45 @monitor.py:467]\u001b[0m GAN_loss/kl_div: 0.043395\n",
      "\u001b[32m[1118 15:52:45 @monitor.py:467]\u001b[0m QueueInput/queue_size: 50\n",
      "\u001b[32m[1118 15:52:45 @base.py:275]\u001b[0m Start Epoch 139 ...\n"
     ]
    },
    {
     "name": "stderr",
     "output_type": "stream",
     "text": [
      "\n",
      "100%|#####################################################################################|17/17[00:00<00:00,37.09it/s]"
     ]
    },
    {
     "name": "stdout",
     "output_type": "stream",
     "text": [
      "\u001b[32m[1118 15:52:46 @base.py:285]\u001b[0m Epoch 139 (global_step 3544) finished, time:0.459 second.\n",
      "\u001b[32m[1118 15:52:46 @saver.py:79]\u001b[0m Model saved to ../output/Chicago/TEST/model\\model-3544.\n",
      "\u001b[32m[1118 15:52:46 @monitor.py:467]\u001b[0m GAN_loss/d_loss: -0.086936\n",
      "\u001b[32m[1118 15:52:46 @monitor.py:467]\u001b[0m GAN_loss/g_loss: -0.062019\n",
      "\u001b[32m[1118 15:52:46 @monitor.py:467]\u001b[0m GAN_loss/kl_div: 0.041409\n",
      "\u001b[32m[1118 15:52:46 @monitor.py:467]\u001b[0m QueueInput/queue_size: 50\n",
      "\u001b[32m[1118 15:52:46 @base.py:275]\u001b[0m Start Epoch 140 ...\n"
     ]
    },
    {
     "name": "stderr",
     "output_type": "stream",
     "text": [
      "\n",
      "100%|#####################################################################################|17/17[00:00<00:00,38.42it/s]"
     ]
    },
    {
     "name": "stdout",
     "output_type": "stream",
     "text": [
      "\u001b[32m[1118 15:52:46 @base.py:285]\u001b[0m Epoch 140 (global_step 3569) finished, time:0.443 second.\n",
      "\u001b[32m[1118 15:52:47 @saver.py:79]\u001b[0m Model saved to ../output/Chicago/TEST/model\\model-3569.\n",
      "\u001b[32m[1118 15:52:47 @monitor.py:467]\u001b[0m GAN_loss/d_loss: -0.087746\n",
      "\u001b[32m[1118 15:52:47 @monitor.py:467]\u001b[0m GAN_loss/g_loss: -0.061874\n",
      "\u001b[32m[1118 15:52:47 @monitor.py:467]\u001b[0m GAN_loss/kl_div: 0.041401\n",
      "\u001b[32m[1118 15:52:47 @monitor.py:467]\u001b[0m QueueInput/queue_size: 50\n",
      "\u001b[32m[1118 15:52:47 @base.py:275]\u001b[0m Start Epoch 141 ...\n"
     ]
    },
    {
     "name": "stderr",
     "output_type": "stream",
     "text": [
      "\n",
      "100%|#####################################################################################|17/17[00:00<00:00,36.97it/s]"
     ]
    },
    {
     "name": "stdout",
     "output_type": "stream",
     "text": [
      "\u001b[32m[1118 15:52:47 @base.py:285]\u001b[0m Epoch 141 (global_step 3595) finished, time:0.46 second.\n",
      "\u001b[32m[1118 15:52:47 @saver.py:79]\u001b[0m Model saved to ../output/Chicago/TEST/model\\model-3595.\n",
      "\u001b[32m[1118 15:52:47 @monitor.py:467]\u001b[0m GAN_loss/d_loss: -0.086956\n",
      "\u001b[32m[1118 15:52:47 @monitor.py:467]\u001b[0m GAN_loss/g_loss: -0.061925\n",
      "\u001b[32m[1118 15:52:47 @monitor.py:467]\u001b[0m GAN_loss/kl_div: 0.040668\n",
      "\u001b[32m[1118 15:52:47 @monitor.py:467]\u001b[0m QueueInput/queue_size: 50\n",
      "\u001b[32m[1118 15:52:47 @base.py:275]\u001b[0m Start Epoch 142 ...\n"
     ]
    },
    {
     "name": "stderr",
     "output_type": "stream",
     "text": [
      "\n",
      "100%|#####################################################################################|17/17[00:00<00:00,37.30it/s]"
     ]
    },
    {
     "name": "stdout",
     "output_type": "stream",
     "text": [
      "\u001b[32m[1118 15:52:48 @base.py:285]\u001b[0m Epoch 142 (global_step 3620) finished, time:0.456 second.\n",
      "\u001b[32m[1118 15:52:48 @saver.py:79]\u001b[0m Model saved to ../output/Chicago/TEST/model\\model-3620.\n",
      "\u001b[32m[1118 15:52:48 @monitor.py:467]\u001b[0m GAN_loss/d_loss: -0.086476\n",
      "\u001b[32m[1118 15:52:48 @monitor.py:467]\u001b[0m GAN_loss/g_loss: -0.061712\n",
      "\u001b[32m[1118 15:52:48 @monitor.py:467]\u001b[0m GAN_loss/kl_div: 0.040195\n",
      "\u001b[32m[1118 15:52:48 @monitor.py:467]\u001b[0m QueueInput/queue_size: 50\n",
      "\u001b[32m[1118 15:52:48 @base.py:275]\u001b[0m Start Epoch 143 ...\n"
     ]
    },
    {
     "name": "stderr",
     "output_type": "stream",
     "text": [
      "\n",
      "100%|#####################################################################################|17/17[00:00<00:00,37.09it/s]"
     ]
    },
    {
     "name": "stdout",
     "output_type": "stream",
     "text": [
      "\u001b[32m[1118 15:52:48 @base.py:285]\u001b[0m Epoch 143 (global_step 3646) finished, time:0.458 second.\n",
      "\u001b[32m[1118 15:52:48 @saver.py:79]\u001b[0m Model saved to ../output/Chicago/TEST/model\\model-3646.\n",
      "\u001b[32m[1118 15:52:48 @monitor.py:467]\u001b[0m GAN_loss/d_loss: -0.08645\n",
      "\u001b[32m[1118 15:52:48 @monitor.py:467]\u001b[0m GAN_loss/g_loss: -0.063077\n",
      "\u001b[32m[1118 15:52:48 @monitor.py:467]\u001b[0m GAN_loss/kl_div: 0.041377\n",
      "\u001b[32m[1118 15:52:48 @monitor.py:467]\u001b[0m QueueInput/queue_size: 50\n",
      "\u001b[32m[1118 15:52:48 @base.py:275]\u001b[0m Start Epoch 144 ...\n"
     ]
    },
    {
     "name": "stderr",
     "output_type": "stream",
     "text": [
      "\n",
      "100%|#####################################################################################|17/17[00:00<00:00,38.34it/s]"
     ]
    },
    {
     "name": "stdout",
     "output_type": "stream",
     "text": [
      "\u001b[32m[1118 15:52:49 @base.py:285]\u001b[0m Epoch 144 (global_step 3671) finished, time:0.444 second.\n",
      "\u001b[32m[1118 15:52:49 @saver.py:79]\u001b[0m Model saved to ../output/Chicago/TEST/model\\model-3671.\n",
      "\u001b[32m[1118 15:52:49 @monitor.py:467]\u001b[0m GAN_loss/d_loss: -0.086576\n",
      "\u001b[32m[1118 15:52:49 @monitor.py:467]\u001b[0m GAN_loss/g_loss: -0.063128\n",
      "\u001b[32m[1118 15:52:49 @monitor.py:467]\u001b[0m GAN_loss/kl_div: 0.042884\n",
      "\u001b[32m[1118 15:52:49 @monitor.py:467]\u001b[0m QueueInput/queue_size: 50\n",
      "\u001b[32m[1118 15:52:49 @base.py:275]\u001b[0m Start Epoch 145 ...\n"
     ]
    },
    {
     "name": "stderr",
     "output_type": "stream",
     "text": [
      "\n",
      "100%|#####################################################################################|17/17[00:00<00:00,35.93it/s]"
     ]
    },
    {
     "name": "stdout",
     "output_type": "stream",
     "text": [
      "\u001b[32m[1118 15:52:49 @base.py:285]\u001b[0m Epoch 145 (global_step 3697) finished, time:0.474 second.\n",
      "\u001b[32m[1118 15:52:49 @saver.py:79]\u001b[0m Model saved to ../output/Chicago/TEST/model\\model-3697.\n",
      "\u001b[32m[1118 15:52:49 @monitor.py:467]\u001b[0m GAN_loss/d_loss: -0.086818\n",
      "\u001b[32m[1118 15:52:49 @monitor.py:467]\u001b[0m GAN_loss/g_loss: -0.063777\n",
      "\u001b[32m[1118 15:52:49 @monitor.py:467]\u001b[0m GAN_loss/kl_div: 0.041174\n",
      "\u001b[32m[1118 15:52:49 @monitor.py:467]\u001b[0m QueueInput/queue_size: 50\n",
      "\u001b[32m[1118 15:52:49 @base.py:275]\u001b[0m Start Epoch 146 ...\n"
     ]
    },
    {
     "name": "stderr",
     "output_type": "stream",
     "text": [
      "\n",
      "100%|#####################################################################################|17/17[00:00<00:00,38.34it/s]"
     ]
    },
    {
     "name": "stdout",
     "output_type": "stream",
     "text": [
      "\u001b[32m[1118 15:52:50 @base.py:285]\u001b[0m Epoch 146 (global_step 3722) finished, time:0.444 second.\n",
      "\u001b[32m[1118 15:52:50 @saver.py:79]\u001b[0m Model saved to ../output/Chicago/TEST/model\\model-3722.\n",
      "\u001b[32m[1118 15:52:50 @monitor.py:467]\u001b[0m GAN_loss/d_loss: -0.08528\n",
      "\u001b[32m[1118 15:52:50 @monitor.py:467]\u001b[0m GAN_loss/g_loss: -0.063781\n",
      "\u001b[32m[1118 15:52:50 @monitor.py:467]\u001b[0m GAN_loss/kl_div: 0.040317\n",
      "\u001b[32m[1118 15:52:50 @monitor.py:467]\u001b[0m QueueInput/queue_size: 50\n",
      "\u001b[32m[1118 15:52:50 @base.py:275]\u001b[0m Start Epoch 147 ...\n"
     ]
    },
    {
     "name": "stderr",
     "output_type": "stream",
     "text": [
      "\n",
      "100%|#####################################################################################|17/17[00:00<00:00,37.17it/s]"
     ]
    },
    {
     "name": "stdout",
     "output_type": "stream",
     "text": [
      "\u001b[32m[1118 15:52:51 @base.py:285]\u001b[0m Epoch 147 (global_step 3748) finished, time:0.458 second.\n",
      "\u001b[32m[1118 15:52:51 @saver.py:79]\u001b[0m Model saved to ../output/Chicago/TEST/model\\model-3748.\n",
      "\u001b[32m[1118 15:52:51 @monitor.py:467]\u001b[0m GAN_loss/d_loss: -0.085922\n",
      "\u001b[32m[1118 15:52:51 @monitor.py:467]\u001b[0m GAN_loss/g_loss: -0.06341\n",
      "\u001b[32m[1118 15:52:51 @monitor.py:467]\u001b[0m GAN_loss/kl_div: 0.043664\n",
      "\u001b[32m[1118 15:52:51 @monitor.py:467]\u001b[0m QueueInput/queue_size: 50\n",
      "\u001b[32m[1118 15:52:51 @base.py:275]\u001b[0m Start Epoch 148 ...\n"
     ]
    },
    {
     "name": "stderr",
     "output_type": "stream",
     "text": [
      "\n",
      "100%|#####################################################################################|17/17[00:00<00:00,38.32it/s]"
     ]
    },
    {
     "name": "stdout",
     "output_type": "stream",
     "text": [
      "\u001b[32m[1118 15:52:51 @base.py:285]\u001b[0m Epoch 148 (global_step 3773) finished, time:0.444 second.\n",
      "\u001b[32m[1118 15:52:51 @saver.py:79]\u001b[0m Model saved to ../output/Chicago/TEST/model\\model-3773.\n",
      "\u001b[32m[1118 15:52:51 @monitor.py:467]\u001b[0m GAN_loss/d_loss: -0.084618\n",
      "\u001b[32m[1118 15:52:51 @monitor.py:467]\u001b[0m GAN_loss/g_loss: -0.06402\n",
      "\u001b[32m[1118 15:52:51 @monitor.py:467]\u001b[0m GAN_loss/kl_div: 0.042224\n",
      "\u001b[32m[1118 15:52:51 @monitor.py:467]\u001b[0m QueueInput/queue_size: 50\n",
      "\u001b[32m[1118 15:52:51 @base.py:275]\u001b[0m Start Epoch 149 ...\n"
     ]
    },
    {
     "name": "stderr",
     "output_type": "stream",
     "text": [
      "\n",
      "100%|#####################################################################################|17/17[00:00<00:00,36.89it/s]"
     ]
    },
    {
     "name": "stdout",
     "output_type": "stream",
     "text": [
      "\u001b[32m[1118 15:52:52 @base.py:285]\u001b[0m Epoch 149 (global_step 3799) finished, time:0.462 second.\n",
      "\u001b[32m[1118 15:52:52 @saver.py:79]\u001b[0m Model saved to ../output/Chicago/TEST/model\\model-3799.\n",
      "\u001b[32m[1118 15:52:52 @monitor.py:467]\u001b[0m GAN_loss/d_loss: -0.083707\n",
      "\u001b[32m[1118 15:52:52 @monitor.py:467]\u001b[0m GAN_loss/g_loss: -0.064688\n",
      "\u001b[32m[1118 15:52:52 @monitor.py:467]\u001b[0m GAN_loss/kl_div: 0.045746\n",
      "\u001b[32m[1118 15:52:52 @monitor.py:467]\u001b[0m QueueInput/queue_size: 50\n",
      "\u001b[32m[1118 15:52:52 @base.py:275]\u001b[0m Start Epoch 150 ...\n"
     ]
    },
    {
     "name": "stderr",
     "output_type": "stream",
     "text": [
      "\n",
      "100%|#####################################################################################|17/17[00:00<00:00,38.38it/s]"
     ]
    },
    {
     "name": "stdout",
     "output_type": "stream",
     "text": [
      "\u001b[32m[1118 15:52:52 @base.py:285]\u001b[0m Epoch 150 (global_step 3824) finished, time:0.444 second.\n",
      "\u001b[32m[1118 15:52:52 @saver.py:79]\u001b[0m Model saved to ../output/Chicago/TEST/model\\model-3824.\n",
      "\u001b[32m[1118 15:52:52 @monitor.py:467]\u001b[0m GAN_loss/d_loss: -0.082827\n",
      "\u001b[32m[1118 15:52:52 @monitor.py:467]\u001b[0m GAN_loss/g_loss: -0.064154\n",
      "\u001b[32m[1118 15:52:52 @monitor.py:467]\u001b[0m GAN_loss/kl_div: 0.043525\n",
      "\u001b[32m[1118 15:52:52 @monitor.py:467]\u001b[0m QueueInput/queue_size: 50\n",
      "\u001b[32m[1118 15:52:52 @base.py:275]\u001b[0m Start Epoch 151 ...\n"
     ]
    },
    {
     "name": "stderr",
     "output_type": "stream",
     "text": [
      "\n",
      "100%|#####################################################################################|17/17[00:00<00:00,37.25it/s]"
     ]
    },
    {
     "name": "stdout",
     "output_type": "stream",
     "text": [
      "\u001b[32m[1118 15:52:53 @base.py:285]\u001b[0m Epoch 151 (global_step 3850) finished, time:0.457 second.\n",
      "\u001b[32m[1118 15:52:53 @saver.py:79]\u001b[0m Model saved to ../output/Chicago/TEST/model\\model-3850.\n",
      "\u001b[32m[1118 15:52:53 @monitor.py:467]\u001b[0m GAN_loss/d_loss: -0.083889\n",
      "\u001b[32m[1118 15:52:53 @monitor.py:467]\u001b[0m GAN_loss/g_loss: -0.064828\n",
      "\u001b[32m[1118 15:52:53 @monitor.py:467]\u001b[0m GAN_loss/kl_div: 0.039417\n",
      "\u001b[32m[1118 15:52:53 @monitor.py:467]\u001b[0m QueueInput/queue_size: 50\n",
      "\u001b[32m[1118 15:52:53 @base.py:275]\u001b[0m Start Epoch 152 ...\n"
     ]
    },
    {
     "name": "stderr",
     "output_type": "stream",
     "text": [
      "\n",
      "100%|#####################################################################################|17/17[00:00<00:00,38.34it/s]"
     ]
    },
    {
     "name": "stdout",
     "output_type": "stream",
     "text": [
      "\u001b[32m[1118 15:52:53 @base.py:285]\u001b[0m Epoch 152 (global_step 3875) finished, time:0.444 second.\n",
      "\u001b[32m[1118 15:52:54 @saver.py:79]\u001b[0m Model saved to ../output/Chicago/TEST/model\\model-3875.\n",
      "\u001b[32m[1118 15:52:54 @monitor.py:467]\u001b[0m GAN_loss/d_loss: -0.084291\n",
      "\u001b[32m[1118 15:52:54 @monitor.py:467]\u001b[0m GAN_loss/g_loss: -0.065378\n",
      "\u001b[32m[1118 15:52:54 @monitor.py:467]\u001b[0m GAN_loss/kl_div: 0.042039\n",
      "\u001b[32m[1118 15:52:54 @monitor.py:467]\u001b[0m QueueInput/queue_size: 50\n",
      "\u001b[32m[1118 15:52:54 @base.py:275]\u001b[0m Start Epoch 153 ...\n"
     ]
    },
    {
     "name": "stderr",
     "output_type": "stream",
     "text": [
      "\n",
      "100%|#####################################################################################|17/17[00:00<00:00,37.05it/s]"
     ]
    },
    {
     "name": "stdout",
     "output_type": "stream",
     "text": [
      "\u001b[32m[1118 15:52:54 @base.py:285]\u001b[0m Epoch 153 (global_step 3901) finished, time:0.459 second.\n",
      "\u001b[32m[1118 15:52:54 @saver.py:79]\u001b[0m Model saved to ../output/Chicago/TEST/model\\model-3901.\n",
      "\u001b[32m[1118 15:52:54 @monitor.py:467]\u001b[0m GAN_loss/d_loss: -0.084584\n",
      "\u001b[32m[1118 15:52:54 @monitor.py:467]\u001b[0m GAN_loss/g_loss: -0.065933\n",
      "\u001b[32m[1118 15:52:54 @monitor.py:467]\u001b[0m GAN_loss/kl_div: 0.042855\n",
      "\u001b[32m[1118 15:52:54 @monitor.py:467]\u001b[0m QueueInput/queue_size: 50\n",
      "\u001b[32m[1118 15:52:54 @base.py:275]\u001b[0m Start Epoch 154 ...\n"
     ]
    },
    {
     "name": "stderr",
     "output_type": "stream",
     "text": [
      "\n",
      "100%|#####################################################################################|17/17[00:00<00:00,38.38it/s]"
     ]
    },
    {
     "name": "stdout",
     "output_type": "stream",
     "text": [
      "\u001b[32m[1118 15:52:55 @base.py:285]\u001b[0m Epoch 154 (global_step 3926) finished, time:0.443 second.\n",
      "\u001b[32m[1118 15:52:55 @saver.py:79]\u001b[0m Model saved to ../output/Chicago/TEST/model\\model-3926.\n",
      "\u001b[32m[1118 15:52:55 @monitor.py:467]\u001b[0m GAN_loss/d_loss: -0.08339\n",
      "\u001b[32m[1118 15:52:55 @monitor.py:467]\u001b[0m GAN_loss/g_loss: -0.066364\n",
      "\u001b[32m[1118 15:52:55 @monitor.py:467]\u001b[0m GAN_loss/kl_div: 0.043572\n",
      "\u001b[32m[1118 15:52:55 @monitor.py:467]\u001b[0m QueueInput/queue_size: 50\n",
      "\u001b[32m[1118 15:52:55 @base.py:275]\u001b[0m Start Epoch 155 ...\n"
     ]
    },
    {
     "name": "stderr",
     "output_type": "stream",
     "text": [
      "\n",
      "100%|#####################################################################################|17/17[00:00<00:00,37.21it/s]"
     ]
    },
    {
     "name": "stdout",
     "output_type": "stream",
     "text": [
      "\u001b[32m[1118 15:52:55 @base.py:285]\u001b[0m Epoch 155 (global_step 3952) finished, time:0.457 second.\n",
      "\u001b[32m[1118 15:52:55 @saver.py:79]\u001b[0m Model saved to ../output/Chicago/TEST/model\\model-3952.\n",
      "\u001b[32m[1118 15:52:55 @monitor.py:467]\u001b[0m GAN_loss/d_loss: -0.082964\n",
      "\u001b[32m[1118 15:52:55 @monitor.py:467]\u001b[0m GAN_loss/g_loss: -0.065558\n",
      "\u001b[32m[1118 15:52:55 @monitor.py:467]\u001b[0m GAN_loss/kl_div: 0.043152\n",
      "\u001b[32m[1118 15:52:55 @monitor.py:467]\u001b[0m QueueInput/queue_size: 50\n",
      "\u001b[32m[1118 15:52:55 @base.py:275]\u001b[0m Start Epoch 156 ...\n"
     ]
    },
    {
     "name": "stderr",
     "output_type": "stream",
     "text": [
      "\n",
      "100%|#####################################################################################|17/17[00:00<00:00,38.34it/s]"
     ]
    },
    {
     "name": "stdout",
     "output_type": "stream",
     "text": [
      "\u001b[32m[1118 15:52:56 @base.py:285]\u001b[0m Epoch 156 (global_step 3977) finished, time:0.444 second.\n",
      "\u001b[32m[1118 15:52:56 @saver.py:79]\u001b[0m Model saved to ../output/Chicago/TEST/model\\model-3977.\n",
      "\u001b[32m[1118 15:52:56 @monitor.py:467]\u001b[0m GAN_loss/d_loss: -0.083253\n",
      "\u001b[32m[1118 15:52:56 @monitor.py:467]\u001b[0m GAN_loss/g_loss: -0.066032\n",
      "\u001b[32m[1118 15:52:56 @monitor.py:467]\u001b[0m GAN_loss/kl_div: 0.044445\n",
      "\u001b[32m[1118 15:52:56 @monitor.py:467]\u001b[0m QueueInput/queue_size: 50\n",
      "\u001b[32m[1118 15:52:56 @base.py:275]\u001b[0m Start Epoch 157 ...\n"
     ]
    },
    {
     "name": "stderr",
     "output_type": "stream",
     "text": [
      "\n",
      "100%|#####################################################################################|17/17[00:00<00:00,36.58it/s]"
     ]
    },
    {
     "name": "stdout",
     "output_type": "stream",
     "text": [
      "\u001b[32m[1118 15:52:56 @base.py:285]\u001b[0m Epoch 157 (global_step 4003) finished, time:0.465 second.\n",
      "\u001b[32m[1118 15:52:56 @saver.py:79]\u001b[0m Model saved to ../output/Chicago/TEST/model\\model-4003.\n",
      "\u001b[32m[1118 15:52:57 @monitor.py:467]\u001b[0m GAN_loss/d_loss: -0.081467\n",
      "\u001b[32m[1118 15:52:57 @monitor.py:467]\u001b[0m GAN_loss/g_loss: -0.065969\n",
      "\u001b[32m[1118 15:52:57 @monitor.py:467]\u001b[0m GAN_loss/kl_div: 0.043413\n",
      "\u001b[32m[1118 15:52:57 @monitor.py:467]\u001b[0m QueueInput/queue_size: 50\n",
      "\u001b[32m[1118 15:52:57 @base.py:275]\u001b[0m Start Epoch 158 ...\n"
     ]
    },
    {
     "name": "stderr",
     "output_type": "stream",
     "text": [
      "\n",
      "100%|#####################################################################################|17/17[00:00<00:00,38.38it/s]"
     ]
    },
    {
     "name": "stdout",
     "output_type": "stream",
     "text": [
      "\u001b[32m[1118 15:52:57 @base.py:285]\u001b[0m Epoch 158 (global_step 4028) finished, time:0.443 second.\n",
      "\u001b[32m[1118 15:52:57 @saver.py:79]\u001b[0m Model saved to ../output/Chicago/TEST/model\\model-4028.\n",
      "\u001b[32m[1118 15:52:57 @monitor.py:467]\u001b[0m GAN_loss/d_loss: -0.082625\n",
      "\u001b[32m[1118 15:52:57 @monitor.py:467]\u001b[0m GAN_loss/g_loss: -0.065222\n",
      "\u001b[32m[1118 15:52:57 @monitor.py:467]\u001b[0m GAN_loss/kl_div: 0.041403\n",
      "\u001b[32m[1118 15:52:57 @monitor.py:467]\u001b[0m QueueInput/queue_size: 50\n",
      "\u001b[32m[1118 15:52:57 @base.py:275]\u001b[0m Start Epoch 159 ...\n"
     ]
    },
    {
     "name": "stderr",
     "output_type": "stream",
     "text": [
      "\n",
      "100%|#####################################################################################|17/17[00:00<00:00,36.97it/s]"
     ]
    },
    {
     "name": "stdout",
     "output_type": "stream",
     "text": [
      "\u001b[32m[1118 15:52:58 @base.py:285]\u001b[0m Epoch 159 (global_step 4054) finished, time:0.461 second.\n",
      "\u001b[32m[1118 15:52:58 @saver.py:79]\u001b[0m Model saved to ../output/Chicago/TEST/model\\model-4054.\n",
      "\u001b[32m[1118 15:52:58 @monitor.py:467]\u001b[0m GAN_loss/d_loss: -0.083478\n",
      "\u001b[32m[1118 15:52:58 @monitor.py:467]\u001b[0m GAN_loss/g_loss: -0.066125\n",
      "\u001b[32m[1118 15:52:58 @monitor.py:467]\u001b[0m GAN_loss/kl_div: 0.043952\n",
      "\u001b[32m[1118 15:52:58 @monitor.py:467]\u001b[0m QueueInput/queue_size: 50\n",
      "\u001b[32m[1118 15:52:58 @base.py:275]\u001b[0m Start Epoch 160 ...\n"
     ]
    },
    {
     "name": "stderr",
     "output_type": "stream",
     "text": [
      "\n",
      "100%|#####################################################################################|17/17[00:00<00:00,38.25it/s]"
     ]
    },
    {
     "name": "stdout",
     "output_type": "stream",
     "text": [
      "\u001b[32m[1118 15:52:58 @base.py:285]\u001b[0m Epoch 160 (global_step 4079) finished, time:0.445 second.\n",
      "\u001b[32m[1118 15:52:58 @saver.py:79]\u001b[0m Model saved to ../output/Chicago/TEST/model\\model-4079.\n",
      "\u001b[32m[1118 15:52:58 @monitor.py:467]\u001b[0m GAN_loss/d_loss: -0.082667\n",
      "\u001b[32m[1118 15:52:58 @monitor.py:467]\u001b[0m GAN_loss/g_loss: -0.067235\n",
      "\u001b[32m[1118 15:52:58 @monitor.py:467]\u001b[0m GAN_loss/kl_div: 0.044389\n",
      "\u001b[32m[1118 15:52:58 @monitor.py:467]\u001b[0m QueueInput/queue_size: 50\n",
      "\u001b[32m[1118 15:52:58 @base.py:275]\u001b[0m Start Epoch 161 ...\n"
     ]
    },
    {
     "name": "stderr",
     "output_type": "stream",
     "text": [
      "\n",
      "100%|#####################################################################################|17/17[00:00<00:00,37.09it/s]"
     ]
    },
    {
     "name": "stdout",
     "output_type": "stream",
     "text": [
      "\u001b[32m[1118 15:52:59 @base.py:285]\u001b[0m Epoch 161 (global_step 4105) finished, time:0.459 second.\n",
      "\u001b[32m[1118 15:52:59 @saver.py:79]\u001b[0m Model saved to ../output/Chicago/TEST/model\\model-4105.\n",
      "\u001b[32m[1118 15:52:59 @monitor.py:467]\u001b[0m GAN_loss/d_loss: -0.082149\n",
      "\u001b[32m[1118 15:52:59 @monitor.py:467]\u001b[0m GAN_loss/g_loss: -0.067268\n",
      "\u001b[32m[1118 15:52:59 @monitor.py:467]\u001b[0m GAN_loss/kl_div: 0.043064\n",
      "\u001b[32m[1118 15:52:59 @monitor.py:467]\u001b[0m QueueInput/queue_size: 50\n",
      "\u001b[32m[1118 15:52:59 @base.py:275]\u001b[0m Start Epoch 162 ...\n"
     ]
    },
    {
     "name": "stderr",
     "output_type": "stream",
     "text": [
      "\n",
      "100%|#####################################################################################|17/17[00:00<00:00,38.34it/s]"
     ]
    },
    {
     "name": "stdout",
     "output_type": "stream",
     "text": [
      "\u001b[32m[1118 15:52:59 @base.py:285]\u001b[0m Epoch 162 (global_step 4130) finished, time:0.444 second.\n",
      "\u001b[32m[1118 15:52:59 @saver.py:79]\u001b[0m Model saved to ../output/Chicago/TEST/model\\model-4130.\n",
      "\u001b[32m[1118 15:52:59 @monitor.py:467]\u001b[0m GAN_loss/d_loss: -0.082473\n",
      "\u001b[32m[1118 15:52:59 @monitor.py:467]\u001b[0m GAN_loss/g_loss: -0.067074\n",
      "\u001b[32m[1118 15:52:59 @monitor.py:467]\u001b[0m GAN_loss/kl_div: 0.043853\n",
      "\u001b[32m[1118 15:52:59 @monitor.py:467]\u001b[0m QueueInput/queue_size: 50\n",
      "\u001b[32m[1118 15:52:59 @base.py:275]\u001b[0m Start Epoch 163 ...\n"
     ]
    },
    {
     "name": "stderr",
     "output_type": "stream",
     "text": [
      "\n",
      "100%|#####################################################################################|17/17[00:00<00:00,37.17it/s]"
     ]
    },
    {
     "name": "stdout",
     "output_type": "stream",
     "text": [
      "\u001b[32m[1118 15:53:00 @base.py:285]\u001b[0m Epoch 163 (global_step 4156) finished, time:0.458 second.\n",
      "\u001b[32m[1118 15:53:00 @saver.py:79]\u001b[0m Model saved to ../output/Chicago/TEST/model\\model-4156.\n",
      "\u001b[32m[1118 15:53:00 @monitor.py:467]\u001b[0m GAN_loss/d_loss: -0.082305\n",
      "\u001b[32m[1118 15:53:00 @monitor.py:467]\u001b[0m GAN_loss/g_loss: -0.067256\n",
      "\u001b[32m[1118 15:53:00 @monitor.py:467]\u001b[0m GAN_loss/kl_div: 0.045744\n",
      "\u001b[32m[1118 15:53:00 @monitor.py:467]\u001b[0m QueueInput/queue_size: 50\n",
      "\u001b[32m[1118 15:53:00 @base.py:275]\u001b[0m Start Epoch 164 ...\n"
     ]
    },
    {
     "name": "stderr",
     "output_type": "stream",
     "text": [
      "\n",
      "100%|#####################################################################################|17/17[00:00<00:00,38.31it/s]"
     ]
    },
    {
     "name": "stdout",
     "output_type": "stream",
     "text": [
      "\u001b[32m[1118 15:53:00 @base.py:285]\u001b[0m Epoch 164 (global_step 4181) finished, time:0.445 second.\n",
      "\u001b[32m[1118 15:53:01 @saver.py:79]\u001b[0m Model saved to ../output/Chicago/TEST/model\\model-4181.\n",
      "\u001b[32m[1118 15:53:01 @monitor.py:467]\u001b[0m GAN_loss/d_loss: -0.080665\n",
      "\u001b[32m[1118 15:53:01 @monitor.py:467]\u001b[0m GAN_loss/g_loss: -0.068295\n",
      "\u001b[32m[1118 15:53:01 @monitor.py:467]\u001b[0m GAN_loss/kl_div: 0.045366\n",
      "\u001b[32m[1118 15:53:01 @monitor.py:467]\u001b[0m QueueInput/queue_size: 50\n",
      "\u001b[32m[1118 15:53:01 @base.py:275]\u001b[0m Start Epoch 165 ...\n"
     ]
    },
    {
     "name": "stderr",
     "output_type": "stream",
     "text": [
      "\n",
      "100%|#####################################################################################|17/17[00:00<00:00,37.01it/s]"
     ]
    },
    {
     "name": "stdout",
     "output_type": "stream",
     "text": [
      "\u001b[32m[1118 15:53:01 @base.py:285]\u001b[0m Epoch 165 (global_step 4207) finished, time:0.46 second.\n",
      "\u001b[32m[1118 15:53:01 @saver.py:79]\u001b[0m Model saved to ../output/Chicago/TEST/model\\model-4207.\n",
      "\u001b[32m[1118 15:53:01 @monitor.py:467]\u001b[0m GAN_loss/d_loss: -0.081276\n",
      "\u001b[32m[1118 15:53:01 @monitor.py:467]\u001b[0m GAN_loss/g_loss: -0.067115\n",
      "\u001b[32m[1118 15:53:01 @monitor.py:467]\u001b[0m GAN_loss/kl_div: 0.044727\n",
      "\u001b[32m[1118 15:53:01 @monitor.py:467]\u001b[0m QueueInput/queue_size: 50\n",
      "\u001b[32m[1118 15:53:01 @base.py:275]\u001b[0m Start Epoch 166 ...\n"
     ]
    },
    {
     "name": "stderr",
     "output_type": "stream",
     "text": [
      "\n",
      "100%|#####################################################################################|17/17[00:00<00:00,38.30it/s]"
     ]
    },
    {
     "name": "stdout",
     "output_type": "stream",
     "text": [
      "\u001b[32m[1118 15:53:02 @base.py:285]\u001b[0m Epoch 166 (global_step 4232) finished, time:0.444 second.\n",
      "\u001b[32m[1118 15:53:02 @saver.py:79]\u001b[0m Model saved to ../output/Chicago/TEST/model\\model-4232.\n",
      "\u001b[32m[1118 15:53:02 @monitor.py:467]\u001b[0m GAN_loss/d_loss: -0.080737\n",
      "\u001b[32m[1118 15:53:02 @monitor.py:467]\u001b[0m GAN_loss/g_loss: -0.067964\n",
      "\u001b[32m[1118 15:53:02 @monitor.py:467]\u001b[0m GAN_loss/kl_div: 0.045185\n",
      "\u001b[32m[1118 15:53:02 @monitor.py:467]\u001b[0m QueueInput/queue_size: 50\n",
      "\u001b[32m[1118 15:53:02 @base.py:275]\u001b[0m Start Epoch 167 ...\n"
     ]
    },
    {
     "name": "stderr",
     "output_type": "stream",
     "text": [
      "\n",
      "100%|#####################################################################################|17/17[00:00<00:00,37.05it/s]"
     ]
    },
    {
     "name": "stdout",
     "output_type": "stream",
     "text": [
      "\u001b[32m[1118 15:53:02 @base.py:285]\u001b[0m Epoch 167 (global_step 4258) finished, time:0.459 second.\n",
      "\u001b[32m[1118 15:53:02 @saver.py:79]\u001b[0m Model saved to ../output/Chicago/TEST/model\\model-4258.\n",
      "\u001b[32m[1118 15:53:02 @monitor.py:467]\u001b[0m GAN_loss/d_loss: -0.080744\n",
      "\u001b[32m[1118 15:53:02 @monitor.py:467]\u001b[0m GAN_loss/g_loss: -0.068614\n",
      "\u001b[32m[1118 15:53:02 @monitor.py:467]\u001b[0m GAN_loss/kl_div: 0.043704\n",
      "\u001b[32m[1118 15:53:02 @monitor.py:467]\u001b[0m QueueInput/queue_size: 50\n",
      "\u001b[32m[1118 15:53:02 @base.py:275]\u001b[0m Start Epoch 168 ...\n"
     ]
    },
    {
     "name": "stderr",
     "output_type": "stream",
     "text": [
      "\n",
      "100%|#####################################################################################|17/17[00:00<00:00,38.30it/s]"
     ]
    },
    {
     "name": "stdout",
     "output_type": "stream",
     "text": [
      "\u001b[32m[1118 15:53:03 @base.py:285]\u001b[0m Epoch 168 (global_step 4283) finished, time:0.444 second.\n",
      "\u001b[32m[1118 15:53:03 @saver.py:79]\u001b[0m Model saved to ../output/Chicago/TEST/model\\model-4283.\n",
      "\u001b[32m[1118 15:53:03 @monitor.py:467]\u001b[0m GAN_loss/d_loss: -0.08123\n",
      "\u001b[32m[1118 15:53:03 @monitor.py:467]\u001b[0m GAN_loss/g_loss: -0.068406\n",
      "\u001b[32m[1118 15:53:03 @monitor.py:467]\u001b[0m GAN_loss/kl_div: 0.044878\n",
      "\u001b[32m[1118 15:53:03 @monitor.py:467]\u001b[0m QueueInput/queue_size: 50\n",
      "\u001b[32m[1118 15:53:03 @base.py:275]\u001b[0m Start Epoch 169 ...\n"
     ]
    },
    {
     "name": "stderr",
     "output_type": "stream",
     "text": [
      "\n",
      "100%|#####################################################################################|17/17[00:00<00:00,37.05it/s]"
     ]
    },
    {
     "name": "stdout",
     "output_type": "stream",
     "text": [
      "\u001b[32m[1118 15:53:03 @base.py:285]\u001b[0m Epoch 169 (global_step 4309) finished, time:0.459 second.\n",
      "\u001b[32m[1118 15:53:04 @saver.py:79]\u001b[0m Model saved to ../output/Chicago/TEST/model\\model-4309.\n",
      "\u001b[32m[1118 15:53:04 @monitor.py:467]\u001b[0m GAN_loss/d_loss: -0.080505\n",
      "\u001b[32m[1118 15:53:04 @monitor.py:467]\u001b[0m GAN_loss/g_loss: -0.068506\n",
      "\u001b[32m[1118 15:53:04 @monitor.py:467]\u001b[0m GAN_loss/kl_div: 0.043802\n",
      "\u001b[32m[1118 15:53:04 @monitor.py:467]\u001b[0m QueueInput/queue_size: 50\n",
      "\u001b[32m[1118 15:53:04 @base.py:275]\u001b[0m Start Epoch 170 ...\n"
     ]
    },
    {
     "name": "stderr",
     "output_type": "stream",
     "text": [
      "\n",
      "100%|#####################################################################################|17/17[00:00<00:00,38.34it/s]"
     ]
    },
    {
     "name": "stdout",
     "output_type": "stream",
     "text": [
      "\u001b[32m[1118 15:53:04 @base.py:285]\u001b[0m Epoch 170 (global_step 4334) finished, time:0.444 second.\n",
      "\u001b[32m[1118 15:53:04 @saver.py:79]\u001b[0m Model saved to ../output/Chicago/TEST/model\\model-4334.\n",
      "\u001b[32m[1118 15:53:04 @monitor.py:467]\u001b[0m GAN_loss/d_loss: -0.080057\n",
      "\u001b[32m[1118 15:53:04 @monitor.py:467]\u001b[0m GAN_loss/g_loss: -0.068638\n",
      "\u001b[32m[1118 15:53:04 @monitor.py:467]\u001b[0m GAN_loss/kl_div: 0.043842\n",
      "\u001b[32m[1118 15:53:04 @monitor.py:467]\u001b[0m QueueInput/queue_size: 50\n",
      "\u001b[32m[1118 15:53:04 @base.py:275]\u001b[0m Start Epoch 171 ...\n"
     ]
    },
    {
     "name": "stderr",
     "output_type": "stream",
     "text": [
      "\n",
      "100%|#####################################################################################|17/17[00:00<00:00,37.09it/s]"
     ]
    },
    {
     "name": "stdout",
     "output_type": "stream",
     "text": [
      "\u001b[32m[1118 15:53:05 @base.py:285]\u001b[0m Epoch 171 (global_step 4360) finished, time:0.459 second.\n",
      "\u001b[32m[1118 15:53:05 @saver.py:79]\u001b[0m Model saved to ../output/Chicago/TEST/model\\model-4360.\n",
      "\u001b[32m[1118 15:53:05 @monitor.py:467]\u001b[0m GAN_loss/d_loss: -0.079246\n",
      "\u001b[32m[1118 15:53:05 @monitor.py:467]\u001b[0m GAN_loss/g_loss: -0.069421\n",
      "\u001b[32m[1118 15:53:05 @monitor.py:467]\u001b[0m GAN_loss/kl_div: 0.045104\n",
      "\u001b[32m[1118 15:53:05 @monitor.py:467]\u001b[0m QueueInput/queue_size: 50\n",
      "\u001b[32m[1118 15:53:05 @base.py:275]\u001b[0m Start Epoch 172 ...\n"
     ]
    },
    {
     "name": "stderr",
     "output_type": "stream",
     "text": [
      "\n",
      "100%|#####################################################################################|17/17[00:00<00:00,38.25it/s]"
     ]
    },
    {
     "name": "stdout",
     "output_type": "stream",
     "text": [
      "\u001b[32m[1118 15:53:05 @base.py:285]\u001b[0m Epoch 172 (global_step 4385) finished, time:0.445 second.\n",
      "\u001b[32m[1118 15:53:05 @saver.py:79]\u001b[0m Model saved to ../output/Chicago/TEST/model\\model-4385.\n",
      "\u001b[32m[1118 15:53:05 @monitor.py:467]\u001b[0m GAN_loss/d_loss: -0.07923\n",
      "\u001b[32m[1118 15:53:05 @monitor.py:467]\u001b[0m GAN_loss/g_loss: -0.070111\n",
      "\u001b[32m[1118 15:53:05 @monitor.py:467]\u001b[0m GAN_loss/kl_div: 0.044251\n",
      "\u001b[32m[1118 15:53:05 @monitor.py:467]\u001b[0m QueueInput/queue_size: 50\n",
      "\u001b[32m[1118 15:53:05 @base.py:275]\u001b[0m Start Epoch 173 ...\n"
     ]
    },
    {
     "name": "stderr",
     "output_type": "stream",
     "text": [
      "\n",
      "100%|#####################################################################################|17/17[00:00<00:00,37.25it/s]"
     ]
    },
    {
     "name": "stdout",
     "output_type": "stream",
     "text": [
      "\u001b[32m[1118 15:53:06 @base.py:285]\u001b[0m Epoch 173 (global_step 4411) finished, time:0.457 second.\n",
      "\u001b[32m[1118 15:53:06 @saver.py:79]\u001b[0m Model saved to ../output/Chicago/TEST/model\\model-4411.\n",
      "\u001b[32m[1118 15:53:06 @monitor.py:467]\u001b[0m GAN_loss/d_loss: -0.079012\n",
      "\u001b[32m[1118 15:53:06 @monitor.py:467]\u001b[0m GAN_loss/g_loss: -0.070445\n",
      "\u001b[32m[1118 15:53:06 @monitor.py:467]\u001b[0m GAN_loss/kl_div: 0.045089\n",
      "\u001b[32m[1118 15:53:06 @monitor.py:467]\u001b[0m QueueInput/queue_size: 50\n",
      "\u001b[32m[1118 15:53:06 @base.py:275]\u001b[0m Start Epoch 174 ...\n"
     ]
    },
    {
     "name": "stderr",
     "output_type": "stream",
     "text": [
      "\n",
      "100%|#####################################################################################|17/17[00:00<00:00,38.42it/s]"
     ]
    },
    {
     "name": "stdout",
     "output_type": "stream",
     "text": [
      "\u001b[32m[1118 15:53:06 @base.py:285]\u001b[0m Epoch 174 (global_step 4436) finished, time:0.443 second.\n",
      "\u001b[32m[1118 15:53:06 @saver.py:79]\u001b[0m Model saved to ../output/Chicago/TEST/model\\model-4436.\n",
      "\u001b[32m[1118 15:53:06 @monitor.py:467]\u001b[0m GAN_loss/d_loss: -0.078418\n",
      "\u001b[32m[1118 15:53:06 @monitor.py:467]\u001b[0m GAN_loss/g_loss: -0.070589\n",
      "\u001b[32m[1118 15:53:06 @monitor.py:467]\u001b[0m GAN_loss/kl_div: 0.043187\n",
      "\u001b[32m[1118 15:53:06 @monitor.py:467]\u001b[0m QueueInput/queue_size: 50\n",
      "\u001b[32m[1118 15:53:06 @base.py:275]\u001b[0m Start Epoch 175 ...\n"
     ]
    },
    {
     "name": "stderr",
     "output_type": "stream",
     "text": [
      "\n",
      "100%|#####################################################################################|17/17[00:00<00:00,37.21it/s]"
     ]
    },
    {
     "name": "stdout",
     "output_type": "stream",
     "text": [
      "\u001b[32m[1118 15:53:07 @base.py:285]\u001b[0m Epoch 175 (global_step 4462) finished, time:0.457 second.\n",
      "\u001b[32m[1118 15:53:07 @saver.py:79]\u001b[0m Model saved to ../output/Chicago/TEST/model\\model-4462.\n",
      "\u001b[32m[1118 15:53:07 @monitor.py:467]\u001b[0m GAN_loss/d_loss: -0.079267\n",
      "\u001b[32m[1118 15:53:07 @monitor.py:467]\u001b[0m GAN_loss/g_loss: -0.069499\n",
      "\u001b[32m[1118 15:53:07 @monitor.py:467]\u001b[0m GAN_loss/kl_div: 0.046234\n",
      "\u001b[32m[1118 15:53:07 @monitor.py:467]\u001b[0m QueueInput/queue_size: 50\n",
      "\u001b[32m[1118 15:53:07 @base.py:275]\u001b[0m Start Epoch 176 ...\n"
     ]
    },
    {
     "name": "stderr",
     "output_type": "stream",
     "text": [
      "\n",
      "100%|#####################################################################################|17/17[00:00<00:00,38.00it/s]"
     ]
    },
    {
     "name": "stdout",
     "output_type": "stream",
     "text": [
      "\u001b[32m[1118 15:53:08 @base.py:285]\u001b[0m Epoch 176 (global_step 4487) finished, time:0.448 second.\n",
      "\u001b[32m[1118 15:53:08 @saver.py:79]\u001b[0m Model saved to ../output/Chicago/TEST/model\\model-4487.\n",
      "\u001b[32m[1118 15:53:08 @monitor.py:467]\u001b[0m GAN_loss/d_loss: -0.077585\n",
      "\u001b[32m[1118 15:53:08 @monitor.py:467]\u001b[0m GAN_loss/g_loss: -0.070163\n",
      "\u001b[32m[1118 15:53:08 @monitor.py:467]\u001b[0m GAN_loss/kl_div: 0.041398\n",
      "\u001b[32m[1118 15:53:08 @monitor.py:467]\u001b[0m QueueInput/queue_size: 50\n",
      "\u001b[32m[1118 15:53:08 @base.py:275]\u001b[0m Start Epoch 177 ...\n"
     ]
    },
    {
     "name": "stderr",
     "output_type": "stream",
     "text": [
      "\n",
      "100%|#####################################################################################|17/17[00:00<00:00,36.89it/s]"
     ]
    },
    {
     "name": "stdout",
     "output_type": "stream",
     "text": [
      "\u001b[32m[1118 15:53:08 @base.py:285]\u001b[0m Epoch 177 (global_step 4513) finished, time:0.461 second.\n",
      "\u001b[32m[1118 15:53:08 @saver.py:79]\u001b[0m Model saved to ../output/Chicago/TEST/model\\model-4513.\n",
      "\u001b[32m[1118 15:53:08 @monitor.py:467]\u001b[0m GAN_loss/d_loss: -0.078088\n",
      "\u001b[32m[1118 15:53:08 @monitor.py:467]\u001b[0m GAN_loss/g_loss: -0.071189\n",
      "\u001b[32m[1118 15:53:08 @monitor.py:467]\u001b[0m GAN_loss/kl_div: 0.044495\n",
      "\u001b[32m[1118 15:53:08 @monitor.py:467]\u001b[0m QueueInput/queue_size: 50\n",
      "\u001b[32m[1118 15:53:08 @base.py:275]\u001b[0m Start Epoch 178 ...\n"
     ]
    },
    {
     "name": "stderr",
     "output_type": "stream",
     "text": [
      "\n",
      "100%|#####################################################################################|17/17[00:00<00:00,38.34it/s]"
     ]
    },
    {
     "name": "stdout",
     "output_type": "stream",
     "text": [
      "\u001b[32m[1118 15:53:09 @base.py:285]\u001b[0m Epoch 178 (global_step 4538) finished, time:0.444 second.\n",
      "\u001b[32m[1118 15:53:09 @saver.py:79]\u001b[0m Model saved to ../output/Chicago/TEST/model\\model-4538.\n",
      "\u001b[32m[1118 15:53:09 @monitor.py:467]\u001b[0m GAN_loss/d_loss: -0.078146\n",
      "\u001b[32m[1118 15:53:09 @monitor.py:467]\u001b[0m GAN_loss/g_loss: -0.07048\n",
      "\u001b[32m[1118 15:53:09 @monitor.py:467]\u001b[0m GAN_loss/kl_div: 0.041039\n",
      "\u001b[32m[1118 15:53:09 @monitor.py:467]\u001b[0m QueueInput/queue_size: 50\n",
      "\u001b[32m[1118 15:53:09 @base.py:275]\u001b[0m Start Epoch 179 ...\n"
     ]
    },
    {
     "name": "stderr",
     "output_type": "stream",
     "text": [
      "\n",
      "100%|#####################################################################################|17/17[00:00<00:00,37.09it/s]"
     ]
    },
    {
     "name": "stdout",
     "output_type": "stream",
     "text": [
      "\u001b[32m[1118 15:53:09 @base.py:285]\u001b[0m Epoch 179 (global_step 4564) finished, time:0.459 second.\n",
      "\u001b[32m[1118 15:53:09 @saver.py:79]\u001b[0m Model saved to ../output/Chicago/TEST/model\\model-4564.\n",
      "\u001b[32m[1118 15:53:09 @monitor.py:467]\u001b[0m GAN_loss/d_loss: -0.077809\n",
      "\u001b[32m[1118 15:53:09 @monitor.py:467]\u001b[0m GAN_loss/g_loss: -0.07104\n",
      "\u001b[32m[1118 15:53:09 @monitor.py:467]\u001b[0m GAN_loss/kl_div: 0.041276\n",
      "\u001b[32m[1118 15:53:09 @monitor.py:467]\u001b[0m QueueInput/queue_size: 50\n",
      "\u001b[32m[1118 15:53:09 @base.py:275]\u001b[0m Start Epoch 180 ...\n"
     ]
    },
    {
     "name": "stderr",
     "output_type": "stream",
     "text": [
      "\n",
      "100%|#####################################################################################|17/17[00:00<00:00,38.34it/s]"
     ]
    },
    {
     "name": "stdout",
     "output_type": "stream",
     "text": [
      "\u001b[32m[1118 15:53:10 @base.py:285]\u001b[0m Epoch 180 (global_step 4589) finished, time:0.443 second.\n",
      "\u001b[32m[1118 15:53:10 @saver.py:79]\u001b[0m Model saved to ../output/Chicago/TEST/model\\model-4589.\n",
      "\u001b[32m[1118 15:53:10 @monitor.py:467]\u001b[0m GAN_loss/d_loss: -0.077192\n",
      "\u001b[32m[1118 15:53:10 @monitor.py:467]\u001b[0m GAN_loss/g_loss: -0.071364\n",
      "\u001b[32m[1118 15:53:10 @monitor.py:467]\u001b[0m GAN_loss/kl_div: 0.046712\n",
      "\u001b[32m[1118 15:53:10 @monitor.py:467]\u001b[0m QueueInput/queue_size: 50\n",
      "\u001b[32m[1118 15:53:10 @base.py:275]\u001b[0m Start Epoch 181 ...\n"
     ]
    },
    {
     "name": "stderr",
     "output_type": "stream",
     "text": [
      "\n",
      "100%|#####################################################################################|17/17[00:00<00:00,37.13it/s]"
     ]
    },
    {
     "name": "stdout",
     "output_type": "stream",
     "text": [
      "\u001b[32m[1118 15:53:10 @base.py:285]\u001b[0m Epoch 181 (global_step 4615) finished, time:0.458 second.\n",
      "\u001b[32m[1118 15:53:11 @saver.py:79]\u001b[0m Model saved to ../output/Chicago/TEST/model\\model-4615.\n",
      "\u001b[32m[1118 15:53:11 @monitor.py:467]\u001b[0m GAN_loss/d_loss: -0.076766\n",
      "\u001b[32m[1118 15:53:11 @monitor.py:467]\u001b[0m GAN_loss/g_loss: -0.072184\n",
      "\u001b[32m[1118 15:53:11 @monitor.py:467]\u001b[0m GAN_loss/kl_div: 0.046089\n",
      "\u001b[32m[1118 15:53:11 @monitor.py:467]\u001b[0m QueueInput/queue_size: 50\n",
      "\u001b[32m[1118 15:53:11 @base.py:275]\u001b[0m Start Epoch 182 ...\n"
     ]
    },
    {
     "name": "stderr",
     "output_type": "stream",
     "text": [
      "\n",
      "100%|#####################################################################################|17/17[00:00<00:00,38.34it/s]"
     ]
    },
    {
     "name": "stdout",
     "output_type": "stream",
     "text": [
      "\u001b[32m[1118 15:53:11 @base.py:285]\u001b[0m Epoch 182 (global_step 4640) finished, time:0.444 second.\n",
      "\u001b[32m[1118 15:53:11 @saver.py:79]\u001b[0m Model saved to ../output/Chicago/TEST/model\\model-4640.\n",
      "\u001b[32m[1118 15:53:11 @monitor.py:467]\u001b[0m GAN_loss/d_loss: -0.077674\n",
      "\u001b[32m[1118 15:53:11 @monitor.py:467]\u001b[0m GAN_loss/g_loss: -0.072262\n",
      "\u001b[32m[1118 15:53:11 @monitor.py:467]\u001b[0m GAN_loss/kl_div: 0.044986\n",
      "\u001b[32m[1118 15:53:11 @monitor.py:467]\u001b[0m QueueInput/queue_size: 50\n",
      "\u001b[32m[1118 15:53:11 @base.py:275]\u001b[0m Start Epoch 183 ...\n"
     ]
    },
    {
     "name": "stderr",
     "output_type": "stream",
     "text": [
      "\n",
      "100%|#####################################################################################|17/17[00:00<00:00,36.89it/s]"
     ]
    },
    {
     "name": "stdout",
     "output_type": "stream",
     "text": [
      "\u001b[32m[1118 15:53:12 @base.py:285]\u001b[0m Epoch 183 (global_step 4666) finished, time:0.461 second.\n",
      "\u001b[32m[1118 15:53:12 @saver.py:79]\u001b[0m Model saved to ../output/Chicago/TEST/model\\model-4666.\n",
      "\u001b[32m[1118 15:53:12 @monitor.py:467]\u001b[0m GAN_loss/d_loss: -0.077896\n",
      "\u001b[32m[1118 15:53:12 @monitor.py:467]\u001b[0m GAN_loss/g_loss: -0.072286\n",
      "\u001b[32m[1118 15:53:12 @monitor.py:467]\u001b[0m GAN_loss/kl_div: 0.045709\n",
      "\u001b[32m[1118 15:53:12 @monitor.py:467]\u001b[0m QueueInput/queue_size: 50\n",
      "\u001b[32m[1118 15:53:12 @base.py:275]\u001b[0m Start Epoch 184 ...\n"
     ]
    },
    {
     "name": "stderr",
     "output_type": "stream",
     "text": [
      "\n",
      "100%|#####################################################################################|17/17[00:00<00:00,38.51it/s]"
     ]
    },
    {
     "name": "stdout",
     "output_type": "stream",
     "text": [
      "\u001b[32m[1118 15:53:12 @base.py:285]\u001b[0m Epoch 184 (global_step 4691) finished, time:0.442 second.\n",
      "\u001b[32m[1118 15:53:12 @saver.py:79]\u001b[0m Model saved to ../output/Chicago/TEST/model\\model-4691.\n",
      "\u001b[32m[1118 15:53:12 @monitor.py:467]\u001b[0m GAN_loss/d_loss: -0.075013\n",
      "\u001b[32m[1118 15:53:12 @monitor.py:467]\u001b[0m GAN_loss/g_loss: -0.073224\n",
      "\u001b[32m[1118 15:53:12 @monitor.py:467]\u001b[0m GAN_loss/kl_div: 0.045934\n",
      "\u001b[32m[1118 15:53:12 @monitor.py:467]\u001b[0m QueueInput/queue_size: 50\n",
      "\u001b[32m[1118 15:53:12 @base.py:275]\u001b[0m Start Epoch 185 ...\n"
     ]
    },
    {
     "name": "stderr",
     "output_type": "stream",
     "text": [
      "\n",
      "100%|#####################################################################################|17/17[00:00<00:00,37.05it/s]"
     ]
    },
    {
     "name": "stdout",
     "output_type": "stream",
     "text": [
      "\u001b[32m[1118 15:53:13 @base.py:285]\u001b[0m Epoch 185 (global_step 4717) finished, time:0.459 second.\n",
      "\u001b[32m[1118 15:53:13 @saver.py:79]\u001b[0m Model saved to ../output/Chicago/TEST/model\\model-4717.\n",
      "\u001b[32m[1118 15:53:13 @monitor.py:467]\u001b[0m GAN_loss/d_loss: -0.076019\n",
      "\u001b[32m[1118 15:53:13 @monitor.py:467]\u001b[0m GAN_loss/g_loss: -0.073039\n",
      "\u001b[32m[1118 15:53:13 @monitor.py:467]\u001b[0m GAN_loss/kl_div: 0.045897\n",
      "\u001b[32m[1118 15:53:13 @monitor.py:467]\u001b[0m QueueInput/queue_size: 50\n",
      "\u001b[32m[1118 15:53:13 @base.py:275]\u001b[0m Start Epoch 186 ...\n"
     ]
    },
    {
     "name": "stderr",
     "output_type": "stream",
     "text": [
      "\n",
      "100%|#####################################################################################|17/17[00:00<00:00,38.34it/s]"
     ]
    },
    {
     "name": "stdout",
     "output_type": "stream",
     "text": [
      "\u001b[32m[1118 15:53:13 @base.py:285]\u001b[0m Epoch 186 (global_step 4742) finished, time:0.444 second.\n",
      "\u001b[32m[1118 15:53:13 @saver.py:79]\u001b[0m Model saved to ../output/Chicago/TEST/model\\model-4742.\n",
      "\u001b[32m[1118 15:53:13 @monitor.py:467]\u001b[0m GAN_loss/d_loss: -0.075294\n",
      "\u001b[32m[1118 15:53:13 @monitor.py:467]\u001b[0m GAN_loss/g_loss: -0.073195\n",
      "\u001b[32m[1118 15:53:13 @monitor.py:467]\u001b[0m GAN_loss/kl_div: 0.043895\n",
      "\u001b[32m[1118 15:53:13 @monitor.py:467]\u001b[0m QueueInput/queue_size: 50\n",
      "\u001b[32m[1118 15:53:13 @base.py:275]\u001b[0m Start Epoch 187 ...\n"
     ]
    },
    {
     "name": "stderr",
     "output_type": "stream",
     "text": [
      "\n",
      "100%|#####################################################################################|17/17[00:00<00:00,37.21it/s]"
     ]
    },
    {
     "name": "stdout",
     "output_type": "stream",
     "text": [
      "\u001b[32m[1118 15:53:14 @base.py:285]\u001b[0m Epoch 187 (global_step 4768) finished, time:0.458 second.\n",
      "\u001b[32m[1118 15:53:14 @saver.py:79]\u001b[0m Model saved to ../output/Chicago/TEST/model\\model-4768.\n",
      "\u001b[32m[1118 15:53:14 @monitor.py:467]\u001b[0m GAN_loss/d_loss: -0.076313\n",
      "\u001b[32m[1118 15:53:14 @monitor.py:467]\u001b[0m GAN_loss/g_loss: -0.072867\n",
      "\u001b[32m[1118 15:53:14 @monitor.py:467]\u001b[0m GAN_loss/kl_div: 0.04375\n",
      "\u001b[32m[1118 15:53:14 @monitor.py:467]\u001b[0m QueueInput/queue_size: 50\n",
      "\u001b[32m[1118 15:53:14 @base.py:275]\u001b[0m Start Epoch 188 ...\n"
     ]
    },
    {
     "name": "stderr",
     "output_type": "stream",
     "text": [
      "\n",
      "100%|#####################################################################################|17/17[00:00<00:00,38.25it/s]"
     ]
    },
    {
     "name": "stdout",
     "output_type": "stream",
     "text": [
      "\u001b[32m[1118 15:53:15 @base.py:285]\u001b[0m Epoch 188 (global_step 4793) finished, time:0.445 second.\n",
      "\u001b[32m[1118 15:53:15 @saver.py:79]\u001b[0m Model saved to ../output/Chicago/TEST/model\\model-4793.\n",
      "\u001b[32m[1118 15:53:15 @monitor.py:467]\u001b[0m GAN_loss/d_loss: -0.076357\n",
      "\u001b[32m[1118 15:53:15 @monitor.py:467]\u001b[0m GAN_loss/g_loss: -0.07281\n",
      "\u001b[32m[1118 15:53:15 @monitor.py:467]\u001b[0m GAN_loss/kl_div: 0.043692\n",
      "\u001b[32m[1118 15:53:15 @monitor.py:467]\u001b[0m QueueInput/queue_size: 50\n",
      "\u001b[32m[1118 15:53:15 @base.py:275]\u001b[0m Start Epoch 189 ...\n"
     ]
    },
    {
     "name": "stderr",
     "output_type": "stream",
     "text": [
      "\n",
      "100%|#####################################################################################|17/17[00:00<00:00,37.05it/s]"
     ]
    },
    {
     "name": "stdout",
     "output_type": "stream",
     "text": [
      "\u001b[32m[1118 15:53:15 @base.py:285]\u001b[0m Epoch 189 (global_step 4819) finished, time:0.459 second.\n",
      "\u001b[32m[1118 15:53:15 @saver.py:79]\u001b[0m Model saved to ../output/Chicago/TEST/model\\model-4819.\n",
      "\u001b[32m[1118 15:53:15 @monitor.py:467]\u001b[0m GAN_loss/d_loss: -0.075817\n",
      "\u001b[32m[1118 15:53:15 @monitor.py:467]\u001b[0m GAN_loss/g_loss: -0.073753\n",
      "\u001b[32m[1118 15:53:15 @monitor.py:467]\u001b[0m GAN_loss/kl_div: 0.045044\n",
      "\u001b[32m[1118 15:53:15 @monitor.py:467]\u001b[0m QueueInput/queue_size: 50\n",
      "\u001b[32m[1118 15:53:15 @base.py:275]\u001b[0m Start Epoch 190 ...\n"
     ]
    },
    {
     "name": "stderr",
     "output_type": "stream",
     "text": [
      "\n",
      "100%|#####################################################################################|17/17[00:00<00:00,38.38it/s]"
     ]
    },
    {
     "name": "stdout",
     "output_type": "stream",
     "text": [
      "\u001b[32m[1118 15:53:16 @base.py:285]\u001b[0m Epoch 190 (global_step 4844) finished, time:0.443 second.\n",
      "\u001b[32m[1118 15:53:16 @saver.py:79]\u001b[0m Model saved to ../output/Chicago/TEST/model\\model-4844.\n",
      "\u001b[32m[1118 15:53:16 @monitor.py:467]\u001b[0m GAN_loss/d_loss: -0.074169\n",
      "\u001b[32m[1118 15:53:16 @monitor.py:467]\u001b[0m GAN_loss/g_loss: -0.074359\n",
      "\u001b[32m[1118 15:53:16 @monitor.py:467]\u001b[0m GAN_loss/kl_div: 0.042375\n",
      "\u001b[32m[1118 15:53:16 @monitor.py:467]\u001b[0m QueueInput/queue_size: 50\n",
      "\u001b[32m[1118 15:53:16 @base.py:275]\u001b[0m Start Epoch 191 ...\n"
     ]
    },
    {
     "name": "stderr",
     "output_type": "stream",
     "text": [
      "\n",
      "100%|#####################################################################################|17/17[00:00<00:00,36.85it/s]"
     ]
    },
    {
     "name": "stdout",
     "output_type": "stream",
     "text": [
      "\u001b[32m[1118 15:53:16 @base.py:285]\u001b[0m Epoch 191 (global_step 4870) finished, time:0.462 second.\n",
      "\u001b[32m[1118 15:53:16 @saver.py:79]\u001b[0m Model saved to ../output/Chicago/TEST/model\\model-4870.\n",
      "\u001b[32m[1118 15:53:16 @monitor.py:467]\u001b[0m GAN_loss/d_loss: -0.075277\n",
      "\u001b[32m[1118 15:53:16 @monitor.py:467]\u001b[0m GAN_loss/g_loss: -0.073468\n",
      "\u001b[32m[1118 15:53:16 @monitor.py:467]\u001b[0m GAN_loss/kl_div: 0.044504\n",
      "\u001b[32m[1118 15:53:16 @monitor.py:467]\u001b[0m QueueInput/queue_size: 50\n",
      "\u001b[32m[1118 15:53:16 @base.py:275]\u001b[0m Start Epoch 192 ...\n"
     ]
    },
    {
     "name": "stderr",
     "output_type": "stream",
     "text": [
      "\n",
      "100%|#####################################################################################|17/17[00:00<00:00,38.30it/s]"
     ]
    },
    {
     "name": "stdout",
     "output_type": "stream",
     "text": [
      "\u001b[32m[1118 15:53:17 @base.py:285]\u001b[0m Epoch 192 (global_step 4895) finished, time:0.444 second.\n",
      "\u001b[32m[1118 15:53:17 @saver.py:79]\u001b[0m Model saved to ../output/Chicago/TEST/model\\model-4895.\n",
      "\u001b[32m[1118 15:53:17 @monitor.py:467]\u001b[0m GAN_loss/d_loss: -0.074415\n",
      "\u001b[32m[1118 15:53:17 @monitor.py:467]\u001b[0m GAN_loss/g_loss: -0.074928\n",
      "\u001b[32m[1118 15:53:17 @monitor.py:467]\u001b[0m GAN_loss/kl_div: 0.045569\n",
      "\u001b[32m[1118 15:53:17 @monitor.py:467]\u001b[0m QueueInput/queue_size: 50\n",
      "\u001b[32m[1118 15:53:17 @base.py:275]\u001b[0m Start Epoch 193 ...\n"
     ]
    },
    {
     "name": "stderr",
     "output_type": "stream",
     "text": [
      "\n",
      "100%|#####################################################################################|17/17[00:00<00:00,37.13it/s]"
     ]
    },
    {
     "name": "stdout",
     "output_type": "stream",
     "text": [
      "\u001b[32m[1118 15:53:17 @base.py:285]\u001b[0m Epoch 193 (global_step 4921) finished, time:0.458 second.\n",
      "\u001b[32m[1118 15:53:18 @saver.py:79]\u001b[0m Model saved to ../output/Chicago/TEST/model\\model-4921.\n",
      "\u001b[32m[1118 15:53:18 @monitor.py:467]\u001b[0m GAN_loss/d_loss: -0.074066\n",
      "\u001b[32m[1118 15:53:18 @monitor.py:467]\u001b[0m GAN_loss/g_loss: -0.075989\n",
      "\u001b[32m[1118 15:53:18 @monitor.py:467]\u001b[0m GAN_loss/kl_div: 0.048104\n",
      "\u001b[32m[1118 15:53:18 @monitor.py:467]\u001b[0m QueueInput/queue_size: 50\n",
      "\u001b[32m[1118 15:53:18 @base.py:275]\u001b[0m Start Epoch 194 ...\n"
     ]
    },
    {
     "name": "stderr",
     "output_type": "stream",
     "text": [
      "\n",
      "100%|#####################################################################################|17/17[00:00<00:00,38.25it/s]"
     ]
    },
    {
     "name": "stdout",
     "output_type": "stream",
     "text": [
      "\u001b[32m[1118 15:53:18 @base.py:285]\u001b[0m Epoch 194 (global_step 4946) finished, time:0.445 second.\n",
      "\u001b[32m[1118 15:53:18 @saver.py:79]\u001b[0m Model saved to ../output/Chicago/TEST/model\\model-4946.\n",
      "\u001b[32m[1118 15:53:18 @monitor.py:467]\u001b[0m GAN_loss/d_loss: -0.074904\n",
      "\u001b[32m[1118 15:53:18 @monitor.py:467]\u001b[0m GAN_loss/g_loss: -0.075676\n",
      "\u001b[32m[1118 15:53:18 @monitor.py:467]\u001b[0m GAN_loss/kl_div: 0.044965\n",
      "\u001b[32m[1118 15:53:18 @monitor.py:467]\u001b[0m QueueInput/queue_size: 50\n",
      "\u001b[32m[1118 15:53:18 @base.py:275]\u001b[0m Start Epoch 195 ...\n"
     ]
    },
    {
     "name": "stderr",
     "output_type": "stream",
     "text": [
      "\n",
      "100%|#####################################################################################|17/17[00:00<00:00,37.09it/s]"
     ]
    },
    {
     "name": "stdout",
     "output_type": "stream",
     "text": [
      "\u001b[32m[1118 15:53:19 @base.py:285]\u001b[0m Epoch 195 (global_step 4972) finished, time:0.459 second.\n",
      "\u001b[32m[1118 15:53:19 @saver.py:79]\u001b[0m Model saved to ../output/Chicago/TEST/model\\model-4972.\n",
      "\u001b[32m[1118 15:53:19 @monitor.py:467]\u001b[0m GAN_loss/d_loss: -0.075606\n",
      "\u001b[32m[1118 15:53:19 @monitor.py:467]\u001b[0m GAN_loss/g_loss: -0.075713\n",
      "\u001b[32m[1118 15:53:19 @monitor.py:467]\u001b[0m GAN_loss/kl_div: 0.045304\n",
      "\u001b[32m[1118 15:53:19 @monitor.py:467]\u001b[0m QueueInput/queue_size: 50\n",
      "\u001b[32m[1118 15:53:19 @base.py:275]\u001b[0m Start Epoch 196 ...\n"
     ]
    },
    {
     "name": "stderr",
     "output_type": "stream",
     "text": [
      "\n",
      "100%|#####################################################################################|17/17[00:00<00:00,38.34it/s]"
     ]
    },
    {
     "name": "stdout",
     "output_type": "stream",
     "text": [
      "\u001b[32m[1118 15:53:19 @base.py:285]\u001b[0m Epoch 196 (global_step 4997) finished, time:0.444 second.\n",
      "\u001b[32m[1118 15:53:19 @saver.py:79]\u001b[0m Model saved to ../output/Chicago/TEST/model\\model-4997.\n",
      "\u001b[32m[1118 15:53:19 @monitor.py:467]\u001b[0m GAN_loss/d_loss: -0.07401\n",
      "\u001b[32m[1118 15:53:19 @monitor.py:467]\u001b[0m GAN_loss/g_loss: -0.076511\n",
      "\u001b[32m[1118 15:53:19 @monitor.py:467]\u001b[0m GAN_loss/kl_div: 0.044811\n",
      "\u001b[32m[1118 15:53:19 @monitor.py:467]\u001b[0m QueueInput/queue_size: 50\n",
      "\u001b[32m[1118 15:53:19 @base.py:275]\u001b[0m Start Epoch 197 ...\n"
     ]
    },
    {
     "name": "stderr",
     "output_type": "stream",
     "text": [
      "\n",
      "100%|#####################################################################################|17/17[00:00<00:00,36.97it/s]"
     ]
    },
    {
     "name": "stdout",
     "output_type": "stream",
     "text": [
      "\u001b[32m[1118 15:53:20 @base.py:285]\u001b[0m Epoch 197 (global_step 5023) finished, time:0.46 second.\n",
      "\u001b[32m[1118 15:53:20 @saver.py:79]\u001b[0m Model saved to ../output/Chicago/TEST/model\\model-5023.\n",
      "\u001b[32m[1118 15:53:20 @monitor.py:467]\u001b[0m GAN_loss/d_loss: -0.0745\n",
      "\u001b[32m[1118 15:53:20 @monitor.py:467]\u001b[0m GAN_loss/g_loss: -0.076042\n",
      "\u001b[32m[1118 15:53:20 @monitor.py:467]\u001b[0m GAN_loss/kl_div: 0.04372\n",
      "\u001b[32m[1118 15:53:20 @monitor.py:467]\u001b[0m QueueInput/queue_size: 50\n",
      "\u001b[32m[1118 15:53:20 @base.py:275]\u001b[0m Start Epoch 198 ...\n"
     ]
    },
    {
     "name": "stderr",
     "output_type": "stream",
     "text": [
      "\n",
      "100%|#####################################################################################|17/17[00:00<00:00,38.25it/s]"
     ]
    },
    {
     "name": "stdout",
     "output_type": "stream",
     "text": [
      "\u001b[32m[1118 15:53:20 @base.py:285]\u001b[0m Epoch 198 (global_step 5048) finished, time:0.445 second.\n",
      "\u001b[32m[1118 15:53:21 @saver.py:79]\u001b[0m Model saved to ../output/Chicago/TEST/model\\model-5048.\n",
      "\u001b[32m[1118 15:53:21 @monitor.py:467]\u001b[0m GAN_loss/d_loss: -0.074314\n",
      "\u001b[32m[1118 15:53:21 @monitor.py:467]\u001b[0m GAN_loss/g_loss: -0.076438\n",
      "\u001b[32m[1118 15:53:21 @monitor.py:467]\u001b[0m GAN_loss/kl_div: 0.044678\n",
      "\u001b[32m[1118 15:53:21 @monitor.py:467]\u001b[0m QueueInput/queue_size: 50\n",
      "\u001b[32m[1118 15:53:21 @base.py:275]\u001b[0m Start Epoch 199 ...\n"
     ]
    },
    {
     "name": "stderr",
     "output_type": "stream",
     "text": [
      "\n",
      "100%|#####################################################################################|17/17[00:00<00:00,36.62it/s]"
     ]
    },
    {
     "name": "stdout",
     "output_type": "stream",
     "text": [
      "\u001b[32m[1118 15:53:21 @base.py:285]\u001b[0m Epoch 199 (global_step 5074) finished, time:0.465 second.\n",
      "\u001b[32m[1118 15:53:21 @saver.py:79]\u001b[0m Model saved to ../output/Chicago/TEST/model\\model-5074.\n",
      "\u001b[32m[1118 15:53:21 @monitor.py:467]\u001b[0m GAN_loss/d_loss: -0.07321\n",
      "\u001b[32m[1118 15:53:21 @monitor.py:467]\u001b[0m GAN_loss/g_loss: -0.076908\n",
      "\u001b[32m[1118 15:53:21 @monitor.py:467]\u001b[0m GAN_loss/kl_div: 0.043846\n",
      "\u001b[32m[1118 15:53:21 @monitor.py:467]\u001b[0m QueueInput/queue_size: 50\n",
      "\u001b[32m[1118 15:53:21 @base.py:275]\u001b[0m Start Epoch 200 ...\n"
     ]
    },
    {
     "name": "stderr",
     "output_type": "stream",
     "text": [
      "\n",
      "100%|#####################################################################################|17/17[00:00<00:00,38.30it/s]"
     ]
    },
    {
     "name": "stdout",
     "output_type": "stream",
     "text": [
      "\u001b[32m[1118 15:53:22 @base.py:285]\u001b[0m Epoch 200 (global_step 5099) finished, time:0.444 second.\n",
      "\u001b[32m[1118 15:53:22 @saver.py:79]\u001b[0m Model saved to ../output/Chicago/TEST/model\\model-5099.\n",
      "\u001b[32m[1118 15:53:22 @monitor.py:467]\u001b[0m GAN_loss/d_loss: -0.071833\n",
      "\u001b[32m[1118 15:53:22 @monitor.py:467]\u001b[0m GAN_loss/g_loss: -0.077237\n",
      "\u001b[32m[1118 15:53:22 @monitor.py:467]\u001b[0m GAN_loss/kl_div: 0.043038\n",
      "\u001b[32m[1118 15:53:22 @monitor.py:467]\u001b[0m QueueInput/queue_size: 50\n",
      "\u001b[32m[1118 15:53:22 @base.py:275]\u001b[0m Start Epoch 201 ...\n"
     ]
    },
    {
     "name": "stderr",
     "output_type": "stream",
     "text": [
      "\n",
      "100%|#####################################################################################|17/17[00:00<00:00,37.21it/s]"
     ]
    },
    {
     "name": "stdout",
     "output_type": "stream",
     "text": [
      "\u001b[32m[1118 15:53:22 @base.py:285]\u001b[0m Epoch 201 (global_step 5125) finished, time:0.457 second.\n",
      "\u001b[32m[1118 15:53:22 @saver.py:79]\u001b[0m Model saved to ../output/Chicago/TEST/model\\model-5125.\n",
      "\u001b[32m[1118 15:53:22 @monitor.py:467]\u001b[0m GAN_loss/d_loss: -0.072503\n",
      "\u001b[32m[1118 15:53:22 @monitor.py:467]\u001b[0m GAN_loss/g_loss: -0.076811\n",
      "\u001b[32m[1118 15:53:22 @monitor.py:467]\u001b[0m GAN_loss/kl_div: 0.048019\n",
      "\u001b[32m[1118 15:53:22 @monitor.py:467]\u001b[0m QueueInput/queue_size: 50\n",
      "\u001b[32m[1118 15:53:22 @base.py:275]\u001b[0m Start Epoch 202 ...\n"
     ]
    },
    {
     "name": "stderr",
     "output_type": "stream",
     "text": [
      "\n",
      "100%|#####################################################################################|17/17[00:00<00:00,38.21it/s]"
     ]
    },
    {
     "name": "stdout",
     "output_type": "stream",
     "text": [
      "\u001b[32m[1118 15:53:23 @base.py:285]\u001b[0m Epoch 202 (global_step 5150) finished, time:0.445 second.\n",
      "\u001b[32m[1118 15:53:23 @saver.py:79]\u001b[0m Model saved to ../output/Chicago/TEST/model\\model-5150.\n",
      "\u001b[32m[1118 15:53:23 @monitor.py:467]\u001b[0m GAN_loss/d_loss: -0.072421\n",
      "\u001b[32m[1118 15:53:23 @monitor.py:467]\u001b[0m GAN_loss/g_loss: -0.076977\n",
      "\u001b[32m[1118 15:53:23 @monitor.py:467]\u001b[0m GAN_loss/kl_div: 0.046476\n",
      "\u001b[32m[1118 15:53:23 @monitor.py:467]\u001b[0m QueueInput/queue_size: 50\n",
      "\u001b[32m[1118 15:53:23 @base.py:275]\u001b[0m Start Epoch 203 ...\n"
     ]
    },
    {
     "name": "stderr",
     "output_type": "stream",
     "text": [
      "\n",
      "100%|#####################################################################################|17/17[00:00<00:00,37.05it/s]"
     ]
    },
    {
     "name": "stdout",
     "output_type": "stream",
     "text": [
      "\u001b[32m[1118 15:53:23 @base.py:285]\u001b[0m Epoch 203 (global_step 5176) finished, time:0.459 second.\n",
      "\u001b[32m[1118 15:53:24 @saver.py:79]\u001b[0m Model saved to ../output/Chicago/TEST/model\\model-5176.\n",
      "\u001b[32m[1118 15:53:24 @monitor.py:467]\u001b[0m GAN_loss/d_loss: -0.071579\n",
      "\u001b[32m[1118 15:53:24 @monitor.py:467]\u001b[0m GAN_loss/g_loss: -0.078491\n",
      "\u001b[32m[1118 15:53:24 @monitor.py:467]\u001b[0m GAN_loss/kl_div: 0.043419\n",
      "\u001b[32m[1118 15:53:24 @monitor.py:467]\u001b[0m QueueInput/queue_size: 50\n",
      "\u001b[32m[1118 15:53:24 @base.py:275]\u001b[0m Start Epoch 204 ...\n"
     ]
    },
    {
     "name": "stderr",
     "output_type": "stream",
     "text": [
      "\n",
      "100%|#####################################################################################|17/17[00:00<00:00,38.25it/s]"
     ]
    },
    {
     "name": "stdout",
     "output_type": "stream",
     "text": [
      "\u001b[32m[1118 15:53:24 @base.py:285]\u001b[0m Epoch 204 (global_step 5201) finished, time:0.445 second.\n",
      "\u001b[32m[1118 15:53:24 @saver.py:79]\u001b[0m Model saved to ../output/Chicago/TEST/model\\model-5201.\n",
      "\u001b[32m[1118 15:53:24 @monitor.py:467]\u001b[0m GAN_loss/d_loss: -0.072696\n",
      "\u001b[32m[1118 15:53:24 @monitor.py:467]\u001b[0m GAN_loss/g_loss: -0.077664\n",
      "\u001b[32m[1118 15:53:24 @monitor.py:467]\u001b[0m GAN_loss/kl_div: 0.04686\n",
      "\u001b[32m[1118 15:53:24 @monitor.py:467]\u001b[0m QueueInput/queue_size: 50\n",
      "\u001b[32m[1118 15:53:24 @base.py:275]\u001b[0m Start Epoch 205 ...\n"
     ]
    },
    {
     "name": "stderr",
     "output_type": "stream",
     "text": [
      "\n",
      "100%|#####################################################################################|17/17[00:00<00:00,36.93it/s]"
     ]
    },
    {
     "name": "stdout",
     "output_type": "stream",
     "text": [
      "\u001b[32m[1118 15:53:25 @base.py:285]\u001b[0m Epoch 205 (global_step 5227) finished, time:0.461 second.\n",
      "\u001b[32m[1118 15:53:25 @saver.py:79]\u001b[0m Model saved to ../output/Chicago/TEST/model\\model-5227.\n",
      "\u001b[32m[1118 15:53:25 @monitor.py:467]\u001b[0m GAN_loss/d_loss: -0.072524\n",
      "\u001b[32m[1118 15:53:25 @monitor.py:467]\u001b[0m GAN_loss/g_loss: -0.077493\n",
      "\u001b[32m[1118 15:53:25 @monitor.py:467]\u001b[0m GAN_loss/kl_div: 0.047091\n",
      "\u001b[32m[1118 15:53:25 @monitor.py:467]\u001b[0m QueueInput/queue_size: 50\n",
      "\u001b[32m[1118 15:53:25 @base.py:275]\u001b[0m Start Epoch 206 ...\n"
     ]
    },
    {
     "name": "stderr",
     "output_type": "stream",
     "text": [
      "\n",
      "100%|#####################################################################################|17/17[00:00<00:00,38.39it/s]"
     ]
    },
    {
     "name": "stdout",
     "output_type": "stream",
     "text": [
      "\u001b[32m[1118 15:53:25 @base.py:285]\u001b[0m Epoch 206 (global_step 5252) finished, time:0.443 second.\n",
      "\u001b[32m[1118 15:53:25 @saver.py:79]\u001b[0m Model saved to ../output/Chicago/TEST/model\\model-5252.\n",
      "\u001b[32m[1118 15:53:25 @monitor.py:467]\u001b[0m GAN_loss/d_loss: -0.072315\n",
      "\u001b[32m[1118 15:53:25 @monitor.py:467]\u001b[0m GAN_loss/g_loss: -0.07809\n",
      "\u001b[32m[1118 15:53:25 @monitor.py:467]\u001b[0m GAN_loss/kl_div: 0.046625\n",
      "\u001b[32m[1118 15:53:25 @monitor.py:467]\u001b[0m QueueInput/queue_size: 50\n",
      "\u001b[32m[1118 15:53:25 @base.py:275]\u001b[0m Start Epoch 207 ...\n"
     ]
    },
    {
     "name": "stderr",
     "output_type": "stream",
     "text": [
      "\n",
      "100%|#####################################################################################|17/17[00:00<00:00,37.09it/s]"
     ]
    },
    {
     "name": "stdout",
     "output_type": "stream",
     "text": [
      "\u001b[32m[1118 15:53:26 @base.py:285]\u001b[0m Epoch 207 (global_step 5278) finished, time:0.459 second.\n",
      "\u001b[32m[1118 15:53:26 @saver.py:79]\u001b[0m Model saved to ../output/Chicago/TEST/model\\model-5278.\n",
      "\u001b[32m[1118 15:53:26 @monitor.py:467]\u001b[0m GAN_loss/d_loss: -0.07234\n",
      "\u001b[32m[1118 15:53:26 @monitor.py:467]\u001b[0m GAN_loss/g_loss: -0.077961\n",
      "\u001b[32m[1118 15:53:26 @monitor.py:467]\u001b[0m GAN_loss/kl_div: 0.044744\n",
      "\u001b[32m[1118 15:53:26 @monitor.py:467]\u001b[0m QueueInput/queue_size: 50\n",
      "\u001b[32m[1118 15:53:26 @base.py:275]\u001b[0m Start Epoch 208 ...\n"
     ]
    },
    {
     "name": "stderr",
     "output_type": "stream",
     "text": [
      "\n",
      "100%|#####################################################################################|17/17[00:00<00:00,38.25it/s]"
     ]
    },
    {
     "name": "stdout",
     "output_type": "stream",
     "text": [
      "\u001b[32m[1118 15:53:26 @base.py:285]\u001b[0m Epoch 208 (global_step 5303) finished, time:0.445 second.\n",
      "\u001b[32m[1118 15:53:27 @saver.py:79]\u001b[0m Model saved to ../output/Chicago/TEST/model\\model-5303.\n",
      "\u001b[32m[1118 15:53:27 @monitor.py:467]\u001b[0m GAN_loss/d_loss: -0.070925\n",
      "\u001b[32m[1118 15:53:27 @monitor.py:467]\u001b[0m GAN_loss/g_loss: -0.07879\n",
      "\u001b[32m[1118 15:53:27 @monitor.py:467]\u001b[0m GAN_loss/kl_div: 0.044325\n",
      "\u001b[32m[1118 15:53:27 @monitor.py:467]\u001b[0m QueueInput/queue_size: 50\n",
      "\u001b[32m[1118 15:53:27 @base.py:275]\u001b[0m Start Epoch 209 ...\n"
     ]
    },
    {
     "name": "stderr",
     "output_type": "stream",
     "text": [
      "\n",
      "100%|#####################################################################################|17/17[00:00<00:00,37.01it/s]"
     ]
    },
    {
     "name": "stdout",
     "output_type": "stream",
     "text": [
      "\u001b[32m[1118 15:53:27 @base.py:285]\u001b[0m Epoch 209 (global_step 5329) finished, time:0.46 second.\n",
      "\u001b[32m[1118 15:53:27 @saver.py:79]\u001b[0m Model saved to ../output/Chicago/TEST/model\\model-5329.\n",
      "\u001b[32m[1118 15:53:27 @monitor.py:467]\u001b[0m GAN_loss/d_loss: -0.070935\n",
      "\u001b[32m[1118 15:53:27 @monitor.py:467]\u001b[0m GAN_loss/g_loss: -0.079069\n",
      "\u001b[32m[1118 15:53:27 @monitor.py:467]\u001b[0m GAN_loss/kl_div: 0.045892\n",
      "\u001b[32m[1118 15:53:27 @monitor.py:467]\u001b[0m QueueInput/queue_size: 50\n",
      "\u001b[32m[1118 15:53:27 @base.py:275]\u001b[0m Start Epoch 210 ...\n"
     ]
    },
    {
     "name": "stderr",
     "output_type": "stream",
     "text": [
      "\n",
      "100%|#####################################################################################|17/17[00:00<00:00,38.34it/s]"
     ]
    },
    {
     "name": "stdout",
     "output_type": "stream",
     "text": [
      "\u001b[32m[1118 15:53:28 @base.py:285]\u001b[0m Epoch 210 (global_step 5354) finished, time:0.444 second.\n",
      "\u001b[32m[1118 15:53:28 @saver.py:79]\u001b[0m Model saved to ../output/Chicago/TEST/model\\model-5354.\n",
      "\u001b[32m[1118 15:53:28 @monitor.py:467]\u001b[0m GAN_loss/d_loss: -0.071141\n",
      "\u001b[32m[1118 15:53:28 @monitor.py:467]\u001b[0m GAN_loss/g_loss: -0.078091\n",
      "\u001b[32m[1118 15:53:28 @monitor.py:467]\u001b[0m GAN_loss/kl_div: 0.047237\n",
      "\u001b[32m[1118 15:53:28 @monitor.py:467]\u001b[0m QueueInput/queue_size: 50\n",
      "\u001b[32m[1118 15:53:28 @base.py:275]\u001b[0m Start Epoch 211 ...\n"
     ]
    },
    {
     "name": "stderr",
     "output_type": "stream",
     "text": [
      "\n",
      "100%|#####################################################################################|17/17[00:00<00:00,36.89it/s]"
     ]
    },
    {
     "name": "stdout",
     "output_type": "stream",
     "text": [
      "\u001b[32m[1118 15:53:28 @base.py:285]\u001b[0m Epoch 211 (global_step 5380) finished, time:0.461 second.\n",
      "\u001b[32m[1118 15:53:28 @saver.py:79]\u001b[0m Model saved to ../output/Chicago/TEST/model\\model-5380.\n",
      "\u001b[32m[1118 15:53:28 @monitor.py:467]\u001b[0m GAN_loss/d_loss: -0.070657\n",
      "\u001b[32m[1118 15:53:28 @monitor.py:467]\u001b[0m GAN_loss/g_loss: -0.078618\n",
      "\u001b[32m[1118 15:53:28 @monitor.py:467]\u001b[0m GAN_loss/kl_div: 0.045487\n",
      "\u001b[32m[1118 15:53:28 @monitor.py:467]\u001b[0m QueueInput/queue_size: 50\n",
      "\u001b[32m[1118 15:53:28 @base.py:275]\u001b[0m Start Epoch 212 ...\n"
     ]
    },
    {
     "name": "stderr",
     "output_type": "stream",
     "text": [
      "\n",
      "100%|#####################################################################################|17/17[00:00<00:00,38.38it/s]"
     ]
    },
    {
     "name": "stdout",
     "output_type": "stream",
     "text": [
      "\u001b[32m[1118 15:53:29 @base.py:285]\u001b[0m Epoch 212 (global_step 5405) finished, time:0.443 second.\n",
      "\u001b[32m[1118 15:53:29 @saver.py:79]\u001b[0m Model saved to ../output/Chicago/TEST/model\\model-5405.\n",
      "\u001b[32m[1118 15:53:29 @monitor.py:467]\u001b[0m GAN_loss/d_loss: -0.070749\n",
      "\u001b[32m[1118 15:53:29 @monitor.py:467]\u001b[0m GAN_loss/g_loss: -0.0793\n",
      "\u001b[32m[1118 15:53:29 @monitor.py:467]\u001b[0m GAN_loss/kl_div: 0.04674\n",
      "\u001b[32m[1118 15:53:29 @monitor.py:467]\u001b[0m QueueInput/queue_size: 50\n",
      "\u001b[32m[1118 15:53:29 @base.py:275]\u001b[0m Start Epoch 213 ...\n"
     ]
    },
    {
     "name": "stderr",
     "output_type": "stream",
     "text": [
      "\n",
      "100%|#####################################################################################|17/17[00:00<00:00,36.58it/s]"
     ]
    },
    {
     "name": "stdout",
     "output_type": "stream",
     "text": [
      "\u001b[32m[1118 15:53:29 @base.py:285]\u001b[0m Epoch 213 (global_step 5431) finished, time:0.466 second.\n",
      "\u001b[32m[1118 15:53:29 @saver.py:79]\u001b[0m Model saved to ../output/Chicago/TEST/model\\model-5431.\n",
      "\u001b[32m[1118 15:53:29 @monitor.py:467]\u001b[0m GAN_loss/d_loss: -0.070323\n",
      "\u001b[32m[1118 15:53:29 @monitor.py:467]\u001b[0m GAN_loss/g_loss: -0.079728\n",
      "\u001b[32m[1118 15:53:29 @monitor.py:467]\u001b[0m GAN_loss/kl_div: 0.046237\n",
      "\u001b[32m[1118 15:53:29 @monitor.py:467]\u001b[0m QueueInput/queue_size: 50\n",
      "\u001b[32m[1118 15:53:29 @base.py:275]\u001b[0m Start Epoch 214 ...\n"
     ]
    },
    {
     "name": "stderr",
     "output_type": "stream",
     "text": [
      "\n",
      "100%|#####################################################################################|17/17[00:00<00:00,38.30it/s]"
     ]
    },
    {
     "name": "stdout",
     "output_type": "stream",
     "text": [
      "\u001b[32m[1118 15:53:30 @base.py:285]\u001b[0m Epoch 214 (global_step 5456) finished, time:0.444 second.\n",
      "\u001b[32m[1118 15:53:30 @saver.py:79]\u001b[0m Model saved to ../output/Chicago/TEST/model\\model-5456.\n",
      "\u001b[32m[1118 15:53:30 @monitor.py:467]\u001b[0m GAN_loss/d_loss: -0.070771\n",
      "\u001b[32m[1118 15:53:30 @monitor.py:467]\u001b[0m GAN_loss/g_loss: -0.080068\n",
      "\u001b[32m[1118 15:53:30 @monitor.py:467]\u001b[0m GAN_loss/kl_div: 0.043501\n",
      "\u001b[32m[1118 15:53:30 @monitor.py:467]\u001b[0m QueueInput/queue_size: 50\n",
      "\u001b[32m[1118 15:53:30 @base.py:275]\u001b[0m Start Epoch 215 ...\n"
     ]
    },
    {
     "name": "stderr",
     "output_type": "stream",
     "text": [
      "\n",
      "100%|#####################################################################################|17/17[00:00<00:00,36.77it/s]"
     ]
    },
    {
     "name": "stdout",
     "output_type": "stream",
     "text": [
      "\u001b[32m[1118 15:53:31 @base.py:285]\u001b[0m Epoch 215 (global_step 5482) finished, time:0.463 second.\n",
      "\u001b[32m[1118 15:53:31 @saver.py:79]\u001b[0m Model saved to ../output/Chicago/TEST/model\\model-5482.\n",
      "\u001b[32m[1118 15:53:31 @monitor.py:467]\u001b[0m GAN_loss/d_loss: -0.071558\n",
      "\u001b[32m[1118 15:53:31 @monitor.py:467]\u001b[0m GAN_loss/g_loss: -0.080608\n",
      "\u001b[32m[1118 15:53:31 @monitor.py:467]\u001b[0m GAN_loss/kl_div: 0.04324\n",
      "\u001b[32m[1118 15:53:31 @monitor.py:467]\u001b[0m QueueInput/queue_size: 50\n",
      "\u001b[32m[1118 15:53:31 @base.py:275]\u001b[0m Start Epoch 216 ...\n"
     ]
    },
    {
     "name": "stderr",
     "output_type": "stream",
     "text": [
      "\n",
      "100%|#####################################################################################|17/17[00:00<00:00,38.25it/s]"
     ]
    },
    {
     "name": "stdout",
     "output_type": "stream",
     "text": [
      "\u001b[32m[1118 15:53:31 @base.py:285]\u001b[0m Epoch 216 (global_step 5507) finished, time:0.445 second.\n",
      "\u001b[32m[1118 15:53:31 @saver.py:79]\u001b[0m Model saved to ../output/Chicago/TEST/model\\model-5507.\n",
      "\u001b[32m[1118 15:53:31 @monitor.py:467]\u001b[0m GAN_loss/d_loss: -0.0707\n",
      "\u001b[32m[1118 15:53:31 @monitor.py:467]\u001b[0m GAN_loss/g_loss: -0.080682\n",
      "\u001b[32m[1118 15:53:31 @monitor.py:467]\u001b[0m GAN_loss/kl_div: 0.044598\n",
      "\u001b[32m[1118 15:53:31 @monitor.py:467]\u001b[0m QueueInput/queue_size: 50\n",
      "\u001b[32m[1118 15:53:31 @base.py:275]\u001b[0m Start Epoch 217 ...\n"
     ]
    },
    {
     "name": "stderr",
     "output_type": "stream",
     "text": [
      "\n",
      "100%|#####################################################################################|17/17[00:00<00:00,36.85it/s]"
     ]
    },
    {
     "name": "stdout",
     "output_type": "stream",
     "text": [
      "\u001b[32m[1118 15:53:32 @base.py:285]\u001b[0m Epoch 217 (global_step 5533) finished, time:0.462 second.\n",
      "\u001b[32m[1118 15:53:32 @saver.py:79]\u001b[0m Model saved to ../output/Chicago/TEST/model\\model-5533.\n",
      "\u001b[32m[1118 15:53:32 @monitor.py:467]\u001b[0m GAN_loss/d_loss: -0.069467\n",
      "\u001b[32m[1118 15:53:32 @monitor.py:467]\u001b[0m GAN_loss/g_loss: -0.081459\n",
      "\u001b[32m[1118 15:53:32 @monitor.py:467]\u001b[0m GAN_loss/kl_div: 0.045693\n",
      "\u001b[32m[1118 15:53:32 @monitor.py:467]\u001b[0m QueueInput/queue_size: 50\n",
      "\u001b[32m[1118 15:53:32 @base.py:275]\u001b[0m Start Epoch 218 ...\n"
     ]
    },
    {
     "name": "stderr",
     "output_type": "stream",
     "text": [
      "\n",
      "100%|#####################################################################################|17/17[00:00<00:00,38.34it/s]"
     ]
    },
    {
     "name": "stdout",
     "output_type": "stream",
     "text": [
      "\u001b[32m[1118 15:53:32 @base.py:285]\u001b[0m Epoch 218 (global_step 5558) finished, time:0.444 second.\n",
      "\u001b[32m[1118 15:53:32 @saver.py:79]\u001b[0m Model saved to ../output/Chicago/TEST/model\\model-5558.\n",
      "\u001b[32m[1118 15:53:32 @monitor.py:467]\u001b[0m GAN_loss/d_loss: -0.068967\n",
      "\u001b[32m[1118 15:53:32 @monitor.py:467]\u001b[0m GAN_loss/g_loss: -0.081118\n",
      "\u001b[32m[1118 15:53:32 @monitor.py:467]\u001b[0m GAN_loss/kl_div: 0.044805\n",
      "\u001b[32m[1118 15:53:32 @monitor.py:467]\u001b[0m QueueInput/queue_size: 50\n",
      "\u001b[32m[1118 15:53:32 @base.py:275]\u001b[0m Start Epoch 219 ...\n"
     ]
    },
    {
     "name": "stderr",
     "output_type": "stream",
     "text": [
      "\n",
      "100%|#####################################################################################|17/17[00:00<00:00,37.05it/s]"
     ]
    },
    {
     "name": "stdout",
     "output_type": "stream",
     "text": [
      "\u001b[32m[1118 15:53:33 @base.py:285]\u001b[0m Epoch 219 (global_step 5584) finished, time:0.46 second.\n",
      "\u001b[32m[1118 15:53:33 @saver.py:79]\u001b[0m Model saved to ../output/Chicago/TEST/model\\model-5584.\n",
      "\u001b[32m[1118 15:53:33 @monitor.py:467]\u001b[0m GAN_loss/d_loss: -0.069175\n",
      "\u001b[32m[1118 15:53:33 @monitor.py:467]\u001b[0m GAN_loss/g_loss: -0.081465\n",
      "\u001b[32m[1118 15:53:33 @monitor.py:467]\u001b[0m GAN_loss/kl_div: 0.043281\n",
      "\u001b[32m[1118 15:53:33 @monitor.py:467]\u001b[0m QueueInput/queue_size: 50\n",
      "\u001b[32m[1118 15:53:33 @base.py:275]\u001b[0m Start Epoch 220 ...\n"
     ]
    },
    {
     "name": "stderr",
     "output_type": "stream",
     "text": [
      "\n",
      "100%|#####################################################################################|17/17[00:00<00:00,38.25it/s]"
     ]
    },
    {
     "name": "stdout",
     "output_type": "stream",
     "text": [
      "\u001b[32m[1118 15:53:34 @base.py:285]\u001b[0m Epoch 220 (global_step 5609) finished, time:0.445 second.\n",
      "\u001b[32m[1118 15:53:34 @saver.py:79]\u001b[0m Model saved to ../output/Chicago/TEST/model\\model-5609.\n",
      "\u001b[32m[1118 15:53:34 @monitor.py:467]\u001b[0m GAN_loss/d_loss: -0.069215\n",
      "\u001b[32m[1118 15:53:34 @monitor.py:467]\u001b[0m GAN_loss/g_loss: -0.08186\n",
      "\u001b[32m[1118 15:53:34 @monitor.py:467]\u001b[0m GAN_loss/kl_div: 0.049169\n",
      "\u001b[32m[1118 15:53:34 @monitor.py:467]\u001b[0m QueueInput/queue_size: 50\n",
      "\u001b[32m[1118 15:53:34 @base.py:275]\u001b[0m Start Epoch 221 ...\n"
     ]
    },
    {
     "name": "stderr",
     "output_type": "stream",
     "text": [
      "\n",
      "100%|#####################################################################################|17/17[00:00<00:00,36.93it/s]"
     ]
    },
    {
     "name": "stdout",
     "output_type": "stream",
     "text": [
      "\u001b[32m[1118 15:53:34 @base.py:285]\u001b[0m Epoch 221 (global_step 5635) finished, time:0.461 second.\n",
      "\u001b[32m[1118 15:53:34 @saver.py:79]\u001b[0m Model saved to ../output/Chicago/TEST/model\\model-5635.\n",
      "\u001b[32m[1118 15:53:34 @monitor.py:467]\u001b[0m GAN_loss/d_loss: -0.069145\n",
      "\u001b[32m[1118 15:53:34 @monitor.py:467]\u001b[0m GAN_loss/g_loss: -0.082212\n",
      "\u001b[32m[1118 15:53:34 @monitor.py:467]\u001b[0m GAN_loss/kl_div: 0.049235\n",
      "\u001b[32m[1118 15:53:34 @monitor.py:467]\u001b[0m QueueInput/queue_size: 50\n",
      "\u001b[32m[1118 15:53:34 @base.py:275]\u001b[0m Start Epoch 222 ...\n"
     ]
    },
    {
     "name": "stderr",
     "output_type": "stream",
     "text": [
      "\n",
      "100%|#####################################################################################|17/17[00:00<00:00,38.47it/s]"
     ]
    },
    {
     "name": "stdout",
     "output_type": "stream",
     "text": [
      "\u001b[32m[1118 15:53:35 @base.py:285]\u001b[0m Epoch 222 (global_step 5660) finished, time:0.442 second.\n",
      "\u001b[32m[1118 15:53:35 @saver.py:79]\u001b[0m Model saved to ../output/Chicago/TEST/model\\model-5660.\n",
      "\u001b[32m[1118 15:53:35 @monitor.py:467]\u001b[0m GAN_loss/d_loss: -0.068693\n",
      "\u001b[32m[1118 15:53:35 @monitor.py:467]\u001b[0m GAN_loss/g_loss: -0.083093\n",
      "\u001b[32m[1118 15:53:35 @monitor.py:467]\u001b[0m GAN_loss/kl_div: 0.045266\n",
      "\u001b[32m[1118 15:53:35 @monitor.py:467]\u001b[0m QueueInput/queue_size: 50\n",
      "\u001b[32m[1118 15:53:35 @base.py:275]\u001b[0m Start Epoch 223 ...\n"
     ]
    },
    {
     "name": "stderr",
     "output_type": "stream",
     "text": [
      "\n",
      "100%|#####################################################################################|17/17[00:00<00:00,37.09it/s]"
     ]
    },
    {
     "name": "stdout",
     "output_type": "stream",
     "text": [
      "\u001b[32m[1118 15:53:35 @base.py:285]\u001b[0m Epoch 223 (global_step 5686) finished, time:0.459 second.\n",
      "\u001b[32m[1118 15:53:35 @saver.py:79]\u001b[0m Model saved to ../output/Chicago/TEST/model\\model-5686.\n",
      "\u001b[32m[1118 15:53:35 @monitor.py:467]\u001b[0m GAN_loss/d_loss: -0.069452\n",
      "\u001b[32m[1118 15:53:35 @monitor.py:467]\u001b[0m GAN_loss/g_loss: -0.082336\n",
      "\u001b[32m[1118 15:53:35 @monitor.py:467]\u001b[0m GAN_loss/kl_div: 0.042454\n",
      "\u001b[32m[1118 15:53:35 @monitor.py:467]\u001b[0m QueueInput/queue_size: 50\n",
      "\u001b[32m[1118 15:53:35 @base.py:275]\u001b[0m Start Epoch 224 ...\n"
     ]
    },
    {
     "name": "stderr",
     "output_type": "stream",
     "text": [
      "\n",
      "100%|#####################################################################################|17/17[00:00<00:00,38.38it/s]"
     ]
    },
    {
     "name": "stdout",
     "output_type": "stream",
     "text": [
      "\u001b[32m[1118 15:53:36 @base.py:285]\u001b[0m Epoch 224 (global_step 5711) finished, time:0.443 second.\n",
      "\u001b[32m[1118 15:53:36 @saver.py:79]\u001b[0m Model saved to ../output/Chicago/TEST/model\\model-5711.\n",
      "\u001b[32m[1118 15:53:36 @monitor.py:467]\u001b[0m GAN_loss/d_loss: -0.068575\n",
      "\u001b[32m[1118 15:53:36 @monitor.py:467]\u001b[0m GAN_loss/g_loss: -0.083124\n",
      "\u001b[32m[1118 15:53:36 @monitor.py:467]\u001b[0m GAN_loss/kl_div: 0.048509\n",
      "\u001b[32m[1118 15:53:36 @monitor.py:467]\u001b[0m QueueInput/queue_size: 50\n",
      "\u001b[32m[1118 15:53:36 @base.py:275]\u001b[0m Start Epoch 225 ...\n"
     ]
    },
    {
     "name": "stderr",
     "output_type": "stream",
     "text": [
      "\n",
      "100%|#####################################################################################|17/17[00:00<00:00,37.01it/s]"
     ]
    },
    {
     "name": "stdout",
     "output_type": "stream",
     "text": [
      "\u001b[32m[1118 15:53:36 @base.py:285]\u001b[0m Epoch 225 (global_step 5737) finished, time:0.46 second.\n",
      "\u001b[32m[1118 15:53:37 @saver.py:79]\u001b[0m Model saved to ../output/Chicago/TEST/model\\model-5737.\n",
      "\u001b[32m[1118 15:53:37 @monitor.py:467]\u001b[0m GAN_loss/d_loss: -0.068609\n",
      "\u001b[32m[1118 15:53:37 @monitor.py:467]\u001b[0m GAN_loss/g_loss: -0.083688\n",
      "\u001b[32m[1118 15:53:37 @monitor.py:467]\u001b[0m GAN_loss/kl_div: 0.045385\n",
      "\u001b[32m[1118 15:53:37 @monitor.py:467]\u001b[0m QueueInput/queue_size: 50\n",
      "\u001b[32m[1118 15:53:37 @base.py:275]\u001b[0m Start Epoch 226 ...\n"
     ]
    },
    {
     "name": "stderr",
     "output_type": "stream",
     "text": [
      "\n",
      "100%|#####################################################################################|17/17[00:00<00:00,38.17it/s]"
     ]
    },
    {
     "name": "stdout",
     "output_type": "stream",
     "text": [
      "\u001b[32m[1118 15:53:37 @base.py:285]\u001b[0m Epoch 226 (global_step 5762) finished, time:0.446 second.\n",
      "\u001b[32m[1118 15:53:37 @saver.py:79]\u001b[0m Model saved to ../output/Chicago/TEST/model\\model-5762.\n",
      "\u001b[32m[1118 15:53:37 @monitor.py:467]\u001b[0m GAN_loss/d_loss: -0.069113\n",
      "\u001b[32m[1118 15:53:37 @monitor.py:467]\u001b[0m GAN_loss/g_loss: -0.083074\n",
      "\u001b[32m[1118 15:53:37 @monitor.py:467]\u001b[0m GAN_loss/kl_div: 0.046329\n",
      "\u001b[32m[1118 15:53:37 @monitor.py:467]\u001b[0m QueueInput/queue_size: 50\n",
      "\u001b[32m[1118 15:53:37 @base.py:275]\u001b[0m Start Epoch 227 ...\n"
     ]
    },
    {
     "name": "stderr",
     "output_type": "stream",
     "text": [
      "\n",
      "100%|#####################################################################################|17/17[00:00<00:00,36.85it/s]"
     ]
    },
    {
     "name": "stdout",
     "output_type": "stream",
     "text": [
      "\u001b[32m[1118 15:53:38 @base.py:285]\u001b[0m Epoch 227 (global_step 5788) finished, time:0.462 second.\n",
      "\u001b[32m[1118 15:53:38 @saver.py:79]\u001b[0m Model saved to ../output/Chicago/TEST/model\\model-5788.\n",
      "\u001b[32m[1118 15:53:38 @monitor.py:467]\u001b[0m GAN_loss/d_loss: -0.068297\n",
      "\u001b[32m[1118 15:53:38 @monitor.py:467]\u001b[0m GAN_loss/g_loss: -0.082144\n",
      "\u001b[32m[1118 15:53:38 @monitor.py:467]\u001b[0m GAN_loss/kl_div: 0.047236\n",
      "\u001b[32m[1118 15:53:38 @monitor.py:467]\u001b[0m QueueInput/queue_size: 50\n",
      "\u001b[32m[1118 15:53:38 @base.py:275]\u001b[0m Start Epoch 228 ...\n"
     ]
    },
    {
     "name": "stderr",
     "output_type": "stream",
     "text": [
      "\n",
      "100%|#####################################################################################|17/17[00:00<00:00,38.21it/s]"
     ]
    },
    {
     "name": "stdout",
     "output_type": "stream",
     "text": [
      "\u001b[32m[1118 15:53:38 @base.py:285]\u001b[0m Epoch 228 (global_step 5813) finished, time:0.445 second.\n",
      "\u001b[32m[1118 15:53:38 @saver.py:79]\u001b[0m Model saved to ../output/Chicago/TEST/model\\model-5813.\n",
      "\u001b[32m[1118 15:53:38 @monitor.py:467]\u001b[0m GAN_loss/d_loss: -0.067735\n",
      "\u001b[32m[1118 15:53:38 @monitor.py:467]\u001b[0m GAN_loss/g_loss: -0.082558\n",
      "\u001b[32m[1118 15:53:38 @monitor.py:467]\u001b[0m GAN_loss/kl_div: 0.044361\n",
      "\u001b[32m[1118 15:53:38 @monitor.py:467]\u001b[0m QueueInput/queue_size: 50\n",
      "\u001b[32m[1118 15:53:38 @base.py:275]\u001b[0m Start Epoch 229 ...\n"
     ]
    },
    {
     "name": "stderr",
     "output_type": "stream",
     "text": [
      "\n",
      "100%|#####################################################################################|17/17[00:00<00:00,36.97it/s]"
     ]
    },
    {
     "name": "stdout",
     "output_type": "stream",
     "text": [
      "\u001b[32m[1118 15:53:39 @base.py:285]\u001b[0m Epoch 229 (global_step 5839) finished, time:0.46 second.\n",
      "\u001b[32m[1118 15:53:39 @saver.py:79]\u001b[0m Model saved to ../output/Chicago/TEST/model\\model-5839.\n",
      "\u001b[32m[1118 15:53:39 @monitor.py:467]\u001b[0m GAN_loss/d_loss: -0.067967\n",
      "\u001b[32m[1118 15:53:39 @monitor.py:467]\u001b[0m GAN_loss/g_loss: -0.083446\n",
      "\u001b[32m[1118 15:53:39 @monitor.py:467]\u001b[0m GAN_loss/kl_div: 0.045318\n",
      "\u001b[32m[1118 15:53:39 @monitor.py:467]\u001b[0m QueueInput/queue_size: 50\n",
      "\u001b[32m[1118 15:53:39 @base.py:275]\u001b[0m Start Epoch 230 ...\n"
     ]
    },
    {
     "name": "stderr",
     "output_type": "stream",
     "text": [
      "\n",
      "100%|#####################################################################################|17/17[00:00<00:00,38.30it/s]"
     ]
    },
    {
     "name": "stdout",
     "output_type": "stream",
     "text": [
      "\u001b[32m[1118 15:53:39 @base.py:285]\u001b[0m Epoch 230 (global_step 5864) finished, time:0.445 second.\n",
      "\u001b[32m[1118 15:53:40 @saver.py:79]\u001b[0m Model saved to ../output/Chicago/TEST/model\\model-5864.\n",
      "\u001b[32m[1118 15:53:40 @monitor.py:467]\u001b[0m GAN_loss/d_loss: -0.067707\n",
      "\u001b[32m[1118 15:53:40 @monitor.py:467]\u001b[0m GAN_loss/g_loss: -0.084276\n",
      "\u001b[32m[1118 15:53:40 @monitor.py:467]\u001b[0m GAN_loss/kl_div: 0.045258\n",
      "\u001b[32m[1118 15:53:40 @monitor.py:467]\u001b[0m QueueInput/queue_size: 50\n",
      "\u001b[32m[1118 15:53:40 @base.py:275]\u001b[0m Start Epoch 231 ...\n"
     ]
    },
    {
     "name": "stderr",
     "output_type": "stream",
     "text": [
      "\n",
      "100%|#####################################################################################|17/17[00:00<00:00,36.85it/s]"
     ]
    },
    {
     "name": "stdout",
     "output_type": "stream",
     "text": [
      "\u001b[32m[1118 15:53:40 @base.py:285]\u001b[0m Epoch 231 (global_step 5890) finished, time:0.462 second.\n",
      "\u001b[32m[1118 15:53:40 @saver.py:79]\u001b[0m Model saved to ../output/Chicago/TEST/model\\model-5890.\n",
      "\u001b[32m[1118 15:53:40 @monitor.py:467]\u001b[0m GAN_loss/d_loss: -0.068433\n",
      "\u001b[32m[1118 15:53:40 @monitor.py:467]\u001b[0m GAN_loss/g_loss: -0.084412\n",
      "\u001b[32m[1118 15:53:40 @monitor.py:467]\u001b[0m GAN_loss/kl_div: 0.045845\n",
      "\u001b[32m[1118 15:53:40 @monitor.py:467]\u001b[0m QueueInput/queue_size: 50\n",
      "\u001b[32m[1118 15:53:40 @base.py:275]\u001b[0m Start Epoch 232 ...\n"
     ]
    },
    {
     "name": "stderr",
     "output_type": "stream",
     "text": [
      "\n",
      "100%|#####################################################################################|17/17[00:00<00:00,38.12it/s]"
     ]
    },
    {
     "name": "stdout",
     "output_type": "stream",
     "text": [
      "\u001b[32m[1118 15:53:41 @base.py:285]\u001b[0m Epoch 232 (global_step 5915) finished, time:0.446 second.\n",
      "\u001b[32m[1118 15:53:41 @saver.py:79]\u001b[0m Model saved to ../output/Chicago/TEST/model\\model-5915.\n",
      "\u001b[32m[1118 15:53:41 @monitor.py:467]\u001b[0m GAN_loss/d_loss: -0.066506\n",
      "\u001b[32m[1118 15:53:41 @monitor.py:467]\u001b[0m GAN_loss/g_loss: -0.084585\n",
      "\u001b[32m[1118 15:53:41 @monitor.py:467]\u001b[0m GAN_loss/kl_div: 0.045302\n",
      "\u001b[32m[1118 15:53:41 @monitor.py:467]\u001b[0m QueueInput/queue_size: 50\n",
      "\u001b[32m[1118 15:53:41 @base.py:275]\u001b[0m Start Epoch 233 ...\n"
     ]
    },
    {
     "name": "stderr",
     "output_type": "stream",
     "text": [
      "\n",
      "100%|#####################################################################################|17/17[00:00<00:00,36.85it/s]"
     ]
    },
    {
     "name": "stdout",
     "output_type": "stream",
     "text": [
      "\u001b[32m[1118 15:53:41 @base.py:285]\u001b[0m Epoch 233 (global_step 5941) finished, time:0.462 second.\n",
      "\u001b[32m[1118 15:53:41 @saver.py:79]\u001b[0m Model saved to ../output/Chicago/TEST/model\\model-5941.\n",
      "\u001b[32m[1118 15:53:41 @monitor.py:467]\u001b[0m GAN_loss/d_loss: -0.066924\n",
      "\u001b[32m[1118 15:53:41 @monitor.py:467]\u001b[0m GAN_loss/g_loss: -0.08419\n",
      "\u001b[32m[1118 15:53:41 @monitor.py:467]\u001b[0m GAN_loss/kl_div: 0.0492\n",
      "\u001b[32m[1118 15:53:41 @monitor.py:467]\u001b[0m QueueInput/queue_size: 50\n",
      "\u001b[32m[1118 15:53:41 @base.py:275]\u001b[0m Start Epoch 234 ...\n"
     ]
    },
    {
     "name": "stderr",
     "output_type": "stream",
     "text": [
      "\n",
      "100%|#####################################################################################|17/17[00:00<00:00,38.21it/s]"
     ]
    },
    {
     "name": "stdout",
     "output_type": "stream",
     "text": [
      "\u001b[32m[1118 15:53:42 @base.py:285]\u001b[0m Epoch 234 (global_step 5966) finished, time:0.445 second.\n",
      "\u001b[32m[1118 15:53:42 @saver.py:79]\u001b[0m Model saved to ../output/Chicago/TEST/model\\model-5966.\n",
      "\u001b[32m[1118 15:53:42 @monitor.py:467]\u001b[0m GAN_loss/d_loss: -0.066983\n",
      "\u001b[32m[1118 15:53:42 @monitor.py:467]\u001b[0m GAN_loss/g_loss: -0.084771\n",
      "\u001b[32m[1118 15:53:42 @monitor.py:467]\u001b[0m GAN_loss/kl_div: 0.049042\n",
      "\u001b[32m[1118 15:53:42 @monitor.py:467]\u001b[0m QueueInput/queue_size: 50\n",
      "\u001b[32m[1118 15:53:42 @base.py:275]\u001b[0m Start Epoch 235 ...\n"
     ]
    },
    {
     "name": "stderr",
     "output_type": "stream",
     "text": [
      "\n",
      "100%|#####################################################################################|17/17[00:00<00:00,36.89it/s]"
     ]
    },
    {
     "name": "stdout",
     "output_type": "stream",
     "text": [
      "\u001b[32m[1118 15:53:42 @base.py:285]\u001b[0m Epoch 235 (global_step 5992) finished, time:0.462 second.\n",
      "\u001b[32m[1118 15:53:43 @saver.py:79]\u001b[0m Model saved to ../output/Chicago/TEST/model\\model-5992.\n",
      "\u001b[32m[1118 15:53:43 @monitor.py:467]\u001b[0m GAN_loss/d_loss: -0.066149\n",
      "\u001b[32m[1118 15:53:43 @monitor.py:467]\u001b[0m GAN_loss/g_loss: -0.085291\n",
      "\u001b[32m[1118 15:53:43 @monitor.py:467]\u001b[0m GAN_loss/kl_div: 0.046177\n",
      "\u001b[32m[1118 15:53:43 @monitor.py:467]\u001b[0m QueueInput/queue_size: 50\n",
      "\u001b[32m[1118 15:53:43 @base.py:275]\u001b[0m Start Epoch 236 ...\n"
     ]
    },
    {
     "name": "stderr",
     "output_type": "stream",
     "text": [
      "\n",
      "100%|#####################################################################################|17/17[00:00<00:00,38.42it/s]"
     ]
    },
    {
     "name": "stdout",
     "output_type": "stream",
     "text": [
      "\u001b[32m[1118 15:53:43 @base.py:285]\u001b[0m Epoch 236 (global_step 6017) finished, time:0.443 second.\n",
      "\u001b[32m[1118 15:53:43 @saver.py:79]\u001b[0m Model saved to ../output/Chicago/TEST/model\\model-6017.\n",
      "\u001b[32m[1118 15:53:43 @monitor.py:467]\u001b[0m GAN_loss/d_loss: -0.065457\n",
      "\u001b[32m[1118 15:53:43 @monitor.py:467]\u001b[0m GAN_loss/g_loss: -0.086479\n",
      "\u001b[32m[1118 15:53:43 @monitor.py:467]\u001b[0m GAN_loss/kl_div: 0.046978\n",
      "\u001b[32m[1118 15:53:43 @monitor.py:467]\u001b[0m QueueInput/queue_size: 50\n",
      "\u001b[32m[1118 15:53:43 @base.py:275]\u001b[0m Start Epoch 237 ...\n"
     ]
    },
    {
     "name": "stderr",
     "output_type": "stream",
     "text": [
      "\n",
      "100%|#####################################################################################|17/17[00:00<00:00,36.81it/s]"
     ]
    },
    {
     "name": "stdout",
     "output_type": "stream",
     "text": [
      "\u001b[32m[1118 15:53:44 @base.py:285]\u001b[0m Epoch 237 (global_step 6043) finished, time:0.462 second.\n",
      "\u001b[32m[1118 15:53:44 @saver.py:79]\u001b[0m Model saved to ../output/Chicago/TEST/model\\model-6043.\n",
      "\u001b[32m[1118 15:53:44 @monitor.py:467]\u001b[0m GAN_loss/d_loss: -0.065545\n",
      "\u001b[32m[1118 15:53:44 @monitor.py:467]\u001b[0m GAN_loss/g_loss: -0.086691\n",
      "\u001b[32m[1118 15:53:44 @monitor.py:467]\u001b[0m GAN_loss/kl_div: 0.043919\n",
      "\u001b[32m[1118 15:53:44 @monitor.py:467]\u001b[0m QueueInput/queue_size: 50\n",
      "\u001b[32m[1118 15:53:44 @base.py:275]\u001b[0m Start Epoch 238 ...\n"
     ]
    },
    {
     "name": "stderr",
     "output_type": "stream",
     "text": [
      "\n",
      "100%|#####################################################################################|17/17[00:00<00:00,38.04it/s]"
     ]
    },
    {
     "name": "stdout",
     "output_type": "stream",
     "text": [
      "\u001b[32m[1118 15:53:44 @base.py:285]\u001b[0m Epoch 238 (global_step 6068) finished, time:0.448 second.\n",
      "\u001b[32m[1118 15:53:44 @saver.py:79]\u001b[0m Model saved to ../output/Chicago/TEST/model\\model-6068.\n",
      "\u001b[32m[1118 15:53:44 @monitor.py:467]\u001b[0m GAN_loss/d_loss: -0.065523\n",
      "\u001b[32m[1118 15:53:44 @monitor.py:467]\u001b[0m GAN_loss/g_loss: -0.086565\n",
      "\u001b[32m[1118 15:53:44 @monitor.py:467]\u001b[0m GAN_loss/kl_div: 0.043533\n",
      "\u001b[32m[1118 15:53:44 @monitor.py:467]\u001b[0m QueueInput/queue_size: 50\n",
      "\u001b[32m[1118 15:53:44 @base.py:275]\u001b[0m Start Epoch 239 ...\n"
     ]
    },
    {
     "name": "stderr",
     "output_type": "stream",
     "text": [
      "\n",
      "100%|#####################################################################################|17/17[00:00<00:00,37.01it/s]"
     ]
    },
    {
     "name": "stdout",
     "output_type": "stream",
     "text": [
      "\u001b[32m[1118 15:53:45 @base.py:285]\u001b[0m Epoch 239 (global_step 6094) finished, time:0.46 second.\n",
      "\u001b[32m[1118 15:53:45 @saver.py:79]\u001b[0m Model saved to ../output/Chicago/TEST/model\\model-6094.\n",
      "\u001b[32m[1118 15:53:45 @monitor.py:467]\u001b[0m GAN_loss/d_loss: -0.066798\n",
      "\u001b[32m[1118 15:53:45 @monitor.py:467]\u001b[0m GAN_loss/g_loss: -0.085754\n",
      "\u001b[32m[1118 15:53:45 @monitor.py:467]\u001b[0m GAN_loss/kl_div: 0.047325\n",
      "\u001b[32m[1118 15:53:45 @monitor.py:467]\u001b[0m QueueInput/queue_size: 50\n",
      "\u001b[32m[1118 15:53:45 @base.py:275]\u001b[0m Start Epoch 240 ...\n"
     ]
    },
    {
     "name": "stderr",
     "output_type": "stream",
     "text": [
      "\n",
      "100%|#####################################################################################|17/17[00:00<00:00,38.12it/s]"
     ]
    },
    {
     "name": "stdout",
     "output_type": "stream",
     "text": [
      "\u001b[32m[1118 15:53:45 @base.py:285]\u001b[0m Epoch 240 (global_step 6119) finished, time:0.446 second.\n",
      "\u001b[32m[1118 15:53:45 @saver.py:79]\u001b[0m Model saved to ../output/Chicago/TEST/model\\model-6119.\n",
      "\u001b[32m[1118 15:53:45 @monitor.py:467]\u001b[0m GAN_loss/d_loss: -0.065604\n",
      "\u001b[32m[1118 15:53:45 @monitor.py:467]\u001b[0m GAN_loss/g_loss: -0.087583\n",
      "\u001b[32m[1118 15:53:45 @monitor.py:467]\u001b[0m GAN_loss/kl_div: 0.048556\n",
      "\u001b[32m[1118 15:53:45 @monitor.py:467]\u001b[0m QueueInput/queue_size: 50\n",
      "\u001b[32m[1118 15:53:45 @base.py:275]\u001b[0m Start Epoch 241 ...\n"
     ]
    },
    {
     "name": "stderr",
     "output_type": "stream",
     "text": [
      "\n",
      "100%|#####################################################################################|17/17[00:00<00:00,37.09it/s]"
     ]
    },
    {
     "name": "stdout",
     "output_type": "stream",
     "text": [
      "\u001b[32m[1118 15:53:46 @base.py:285]\u001b[0m Epoch 241 (global_step 6145) finished, time:0.459 second.\n",
      "\u001b[32m[1118 15:53:46 @saver.py:79]\u001b[0m Model saved to ../output/Chicago/TEST/model\\model-6145.\n",
      "\u001b[32m[1118 15:53:46 @monitor.py:467]\u001b[0m GAN_loss/d_loss: -0.065568\n",
      "\u001b[32m[1118 15:53:46 @monitor.py:467]\u001b[0m GAN_loss/g_loss: -0.087342\n",
      "\u001b[32m[1118 15:53:46 @monitor.py:467]\u001b[0m GAN_loss/kl_div: 0.045641\n",
      "\u001b[32m[1118 15:53:46 @monitor.py:467]\u001b[0m QueueInput/queue_size: 50\n",
      "\u001b[32m[1118 15:53:46 @base.py:275]\u001b[0m Start Epoch 242 ...\n"
     ]
    },
    {
     "name": "stderr",
     "output_type": "stream",
     "text": [
      "\n",
      "100%|#####################################################################################|17/17[00:00<00:00,38.34it/s]"
     ]
    },
    {
     "name": "stdout",
     "output_type": "stream",
     "text": [
      "\u001b[32m[1118 15:53:47 @base.py:285]\u001b[0m Epoch 242 (global_step 6170) finished, time:0.444 second.\n",
      "\u001b[32m[1118 15:53:47 @saver.py:79]\u001b[0m Model saved to ../output/Chicago/TEST/model\\model-6170.\n",
      "\u001b[32m[1118 15:53:47 @monitor.py:467]\u001b[0m GAN_loss/d_loss: -0.064412\n",
      "\u001b[32m[1118 15:53:47 @monitor.py:467]\u001b[0m GAN_loss/g_loss: -0.087884\n",
      "\u001b[32m[1118 15:53:47 @monitor.py:467]\u001b[0m GAN_loss/kl_div: 0.047177\n",
      "\u001b[32m[1118 15:53:47 @monitor.py:467]\u001b[0m QueueInput/queue_size: 50\n",
      "\u001b[32m[1118 15:53:47 @base.py:275]\u001b[0m Start Epoch 243 ...\n"
     ]
    },
    {
     "name": "stderr",
     "output_type": "stream",
     "text": [
      "\n",
      "100%|#####################################################################################|17/17[00:00<00:00,36.81it/s]"
     ]
    },
    {
     "name": "stdout",
     "output_type": "stream",
     "text": [
      "\u001b[32m[1118 15:53:47 @base.py:285]\u001b[0m Epoch 243 (global_step 6196) finished, time:0.462 second.\n",
      "\u001b[32m[1118 15:53:47 @saver.py:79]\u001b[0m Model saved to ../output/Chicago/TEST/model\\model-6196.\n",
      "\u001b[32m[1118 15:53:47 @monitor.py:467]\u001b[0m GAN_loss/d_loss: -0.063708\n",
      "\u001b[32m[1118 15:53:47 @monitor.py:467]\u001b[0m GAN_loss/g_loss: -0.089254\n",
      "\u001b[32m[1118 15:53:47 @monitor.py:467]\u001b[0m GAN_loss/kl_div: 0.045699\n",
      "\u001b[32m[1118 15:53:47 @monitor.py:467]\u001b[0m QueueInput/queue_size: 50\n",
      "\u001b[32m[1118 15:53:47 @base.py:275]\u001b[0m Start Epoch 244 ...\n"
     ]
    },
    {
     "name": "stderr",
     "output_type": "stream",
     "text": [
      "\n",
      "100%|#####################################################################################|17/17[00:00<00:00,38.42it/s]"
     ]
    },
    {
     "name": "stdout",
     "output_type": "stream",
     "text": [
      "\u001b[32m[1118 15:53:48 @base.py:285]\u001b[0m Epoch 244 (global_step 6221) finished, time:0.443 second.\n",
      "\u001b[32m[1118 15:53:48 @saver.py:79]\u001b[0m Model saved to ../output/Chicago/TEST/model\\model-6221.\n",
      "\u001b[32m[1118 15:53:48 @monitor.py:467]\u001b[0m GAN_loss/d_loss: -0.064669\n",
      "\u001b[32m[1118 15:53:48 @monitor.py:467]\u001b[0m GAN_loss/g_loss: -0.087899\n",
      "\u001b[32m[1118 15:53:48 @monitor.py:467]\u001b[0m GAN_loss/kl_div: 0.046345\n",
      "\u001b[32m[1118 15:53:48 @monitor.py:467]\u001b[0m QueueInput/queue_size: 50\n",
      "\u001b[32m[1118 15:53:48 @base.py:275]\u001b[0m Start Epoch 245 ...\n"
     ]
    },
    {
     "name": "stderr",
     "output_type": "stream",
     "text": [
      "\n",
      "100%|#####################################################################################|17/17[00:00<00:00,37.01it/s]"
     ]
    },
    {
     "name": "stdout",
     "output_type": "stream",
     "text": [
      "\u001b[32m[1118 15:53:48 @base.py:285]\u001b[0m Epoch 245 (global_step 6247) finished, time:0.46 second.\n",
      "\u001b[32m[1118 15:53:48 @saver.py:79]\u001b[0m Model saved to ../output/Chicago/TEST/model\\model-6247.\n",
      "\u001b[32m[1118 15:53:48 @monitor.py:467]\u001b[0m GAN_loss/d_loss: -0.06406\n",
      "\u001b[32m[1118 15:53:48 @monitor.py:467]\u001b[0m GAN_loss/g_loss: -0.087654\n",
      "\u001b[32m[1118 15:53:48 @monitor.py:467]\u001b[0m GAN_loss/kl_div: 0.043794\n",
      "\u001b[32m[1118 15:53:48 @monitor.py:467]\u001b[0m QueueInput/queue_size: 50\n",
      "\u001b[32m[1118 15:53:48 @base.py:275]\u001b[0m Start Epoch 246 ...\n"
     ]
    },
    {
     "name": "stderr",
     "output_type": "stream",
     "text": [
      "\n",
      "100%|#####################################################################################|17/17[00:00<00:00,38.25it/s]"
     ]
    },
    {
     "name": "stdout",
     "output_type": "stream",
     "text": [
      "\u001b[32m[1118 15:53:49 @base.py:285]\u001b[0m Epoch 246 (global_step 6272) finished, time:0.445 second.\n",
      "\u001b[32m[1118 15:53:49 @saver.py:79]\u001b[0m Model saved to ../output/Chicago/TEST/model\\model-6272.\n",
      "\u001b[32m[1118 15:53:49 @monitor.py:467]\u001b[0m GAN_loss/d_loss: -0.063833\n",
      "\u001b[32m[1118 15:53:49 @monitor.py:467]\u001b[0m GAN_loss/g_loss: -0.088437\n",
      "\u001b[32m[1118 15:53:49 @monitor.py:467]\u001b[0m GAN_loss/kl_div: 0.044255\n",
      "\u001b[32m[1118 15:53:49 @monitor.py:467]\u001b[0m QueueInput/queue_size: 50\n",
      "\u001b[32m[1118 15:53:49 @base.py:275]\u001b[0m Start Epoch 247 ...\n"
     ]
    },
    {
     "name": "stderr",
     "output_type": "stream",
     "text": [
      "\n",
      "100%|#####################################################################################|17/17[00:00<00:00,36.86it/s]"
     ]
    },
    {
     "name": "stdout",
     "output_type": "stream",
     "text": [
      "\u001b[32m[1118 15:53:49 @base.py:285]\u001b[0m Epoch 247 (global_step 6298) finished, time:0.462 second.\n",
      "\u001b[32m[1118 15:53:50 @saver.py:79]\u001b[0m Model saved to ../output/Chicago/TEST/model\\model-6298.\n",
      "\u001b[32m[1118 15:53:50 @monitor.py:467]\u001b[0m GAN_loss/d_loss: -0.064519\n",
      "\u001b[32m[1118 15:53:50 @monitor.py:467]\u001b[0m GAN_loss/g_loss: -0.089272\n",
      "\u001b[32m[1118 15:53:50 @monitor.py:467]\u001b[0m GAN_loss/kl_div: 0.046071\n",
      "\u001b[32m[1118 15:53:50 @monitor.py:467]\u001b[0m QueueInput/queue_size: 50\n",
      "\u001b[32m[1118 15:53:50 @base.py:275]\u001b[0m Start Epoch 248 ...\n"
     ]
    },
    {
     "name": "stderr",
     "output_type": "stream",
     "text": [
      "\n",
      "100%|#####################################################################################|17/17[00:00<00:00,38.00it/s]"
     ]
    },
    {
     "name": "stdout",
     "output_type": "stream",
     "text": [
      "\u001b[32m[1118 15:53:50 @base.py:285]\u001b[0m Epoch 248 (global_step 6323) finished, time:0.448 second.\n",
      "\u001b[32m[1118 15:53:50 @saver.py:79]\u001b[0m Model saved to ../output/Chicago/TEST/model\\model-6323.\n",
      "\u001b[32m[1118 15:53:50 @monitor.py:467]\u001b[0m GAN_loss/d_loss: -0.063737\n",
      "\u001b[32m[1118 15:53:50 @monitor.py:467]\u001b[0m GAN_loss/g_loss: -0.088715\n",
      "\u001b[32m[1118 15:53:50 @monitor.py:467]\u001b[0m GAN_loss/kl_div: 0.04481\n",
      "\u001b[32m[1118 15:53:50 @monitor.py:467]\u001b[0m QueueInput/queue_size: 50\n",
      "\u001b[32m[1118 15:53:50 @base.py:275]\u001b[0m Start Epoch 249 ...\n"
     ]
    },
    {
     "name": "stderr",
     "output_type": "stream",
     "text": [
      "\n",
      "100%|#####################################################################################|17/17[00:00<00:00,37.05it/s]"
     ]
    },
    {
     "name": "stdout",
     "output_type": "stream",
     "text": [
      "\u001b[32m[1118 15:53:51 @base.py:285]\u001b[0m Epoch 249 (global_step 6349) finished, time:0.459 second.\n",
      "\u001b[32m[1118 15:53:51 @saver.py:79]\u001b[0m Model saved to ../output/Chicago/TEST/model\\model-6349.\n",
      "\u001b[32m[1118 15:53:51 @monitor.py:467]\u001b[0m GAN_loss/d_loss: -0.063722\n",
      "\u001b[32m[1118 15:53:51 @monitor.py:467]\u001b[0m GAN_loss/g_loss: -0.088888\n",
      "\u001b[32m[1118 15:53:51 @monitor.py:467]\u001b[0m GAN_loss/kl_div: 0.044724\n",
      "\u001b[32m[1118 15:53:51 @monitor.py:467]\u001b[0m QueueInput/queue_size: 50\n",
      "\u001b[32m[1118 15:53:51 @base.py:275]\u001b[0m Start Epoch 250 ...\n"
     ]
    },
    {
     "name": "stderr",
     "output_type": "stream",
     "text": [
      "\n",
      "100%|#####################################################################################|17/17[00:00<00:00,37.62it/s]"
     ]
    },
    {
     "name": "stdout",
     "output_type": "stream",
     "text": [
      "\u001b[32m[1118 15:53:51 @base.py:285]\u001b[0m Epoch 250 (global_step 6374) finished, time:0.452 second.\n",
      "\u001b[32m[1118 15:53:51 @saver.py:79]\u001b[0m Model saved to ../output/Chicago/TEST/model\\model-6374.\n",
      "\u001b[32m[1118 15:53:51 @monitor.py:467]\u001b[0m GAN_loss/d_loss: -0.063546\n",
      "\u001b[32m[1118 15:53:51 @monitor.py:467]\u001b[0m GAN_loss/g_loss: -0.088768\n",
      "\u001b[32m[1118 15:53:51 @monitor.py:467]\u001b[0m GAN_loss/kl_div: 0.04887\n",
      "\u001b[32m[1118 15:53:51 @monitor.py:467]\u001b[0m QueueInput/queue_size: 50\n",
      "\u001b[32m[1118 15:53:51 @base.py:275]\u001b[0m Start Epoch 251 ...\n"
     ]
    },
    {
     "name": "stderr",
     "output_type": "stream",
     "text": [
      "\n",
      "100%|#####################################################################################|17/17[00:00<00:00,37.01it/s]"
     ]
    },
    {
     "name": "stdout",
     "output_type": "stream",
     "text": [
      "\u001b[32m[1118 15:53:52 @base.py:285]\u001b[0m Epoch 251 (global_step 6400) finished, time:0.46 second.\n",
      "\u001b[32m[1118 15:53:52 @saver.py:79]\u001b[0m Model saved to ../output/Chicago/TEST/model\\model-6400.\n",
      "\u001b[32m[1118 15:53:52 @monitor.py:467]\u001b[0m GAN_loss/d_loss: -0.062916\n",
      "\u001b[32m[1118 15:53:52 @monitor.py:467]\u001b[0m GAN_loss/g_loss: -0.089845\n",
      "\u001b[32m[1118 15:53:52 @monitor.py:467]\u001b[0m GAN_loss/kl_div: 0.04912\n",
      "\u001b[32m[1118 15:53:52 @monitor.py:467]\u001b[0m QueueInput/queue_size: 50\n",
      "\u001b[32m[1118 15:53:52 @base.py:275]\u001b[0m Start Epoch 252 ...\n"
     ]
    },
    {
     "name": "stderr",
     "output_type": "stream",
     "text": [
      "\n",
      "100%|#####################################################################################|17/17[00:00<00:00,38.17it/s]"
     ]
    },
    {
     "name": "stdout",
     "output_type": "stream",
     "text": [
      "\u001b[32m[1118 15:53:52 @base.py:285]\u001b[0m Epoch 252 (global_step 6425) finished, time:0.446 second.\n",
      "\u001b[32m[1118 15:53:53 @saver.py:79]\u001b[0m Model saved to ../output/Chicago/TEST/model\\model-6425.\n",
      "\u001b[32m[1118 15:53:53 @monitor.py:467]\u001b[0m GAN_loss/d_loss: -0.063679\n",
      "\u001b[32m[1118 15:53:53 @monitor.py:467]\u001b[0m GAN_loss/g_loss: -0.089202\n",
      "\u001b[32m[1118 15:53:53 @monitor.py:467]\u001b[0m GAN_loss/kl_div: 0.047323\n",
      "\u001b[32m[1118 15:53:53 @monitor.py:467]\u001b[0m QueueInput/queue_size: 50\n",
      "\u001b[32m[1118 15:53:53 @base.py:275]\u001b[0m Start Epoch 253 ...\n"
     ]
    },
    {
     "name": "stderr",
     "output_type": "stream",
     "text": [
      "\n",
      "100%|#####################################################################################|17/17[00:00<00:00,36.89it/s]"
     ]
    },
    {
     "name": "stdout",
     "output_type": "stream",
     "text": [
      "\u001b[32m[1118 15:53:53 @base.py:285]\u001b[0m Epoch 253 (global_step 6451) finished, time:0.461 second.\n",
      "\u001b[32m[1118 15:53:53 @saver.py:79]\u001b[0m Model saved to ../output/Chicago/TEST/model\\model-6451.\n",
      "\u001b[32m[1118 15:53:53 @monitor.py:467]\u001b[0m GAN_loss/d_loss: -0.063014\n",
      "\u001b[32m[1118 15:53:53 @monitor.py:467]\u001b[0m GAN_loss/g_loss: -0.089519\n",
      "\u001b[32m[1118 15:53:53 @monitor.py:467]\u001b[0m GAN_loss/kl_div: 0.044359\n",
      "\u001b[32m[1118 15:53:53 @monitor.py:467]\u001b[0m QueueInput/queue_size: 50\n",
      "\u001b[32m[1118 15:53:53 @base.py:275]\u001b[0m Start Epoch 254 ...\n"
     ]
    },
    {
     "name": "stderr",
     "output_type": "stream",
     "text": [
      "\n",
      "100%|#####################################################################################|17/17[00:00<00:00,38.21it/s]"
     ]
    },
    {
     "name": "stdout",
     "output_type": "stream",
     "text": [
      "\u001b[32m[1118 15:53:54 @base.py:285]\u001b[0m Epoch 254 (global_step 6476) finished, time:0.445 second.\n",
      "\u001b[32m[1118 15:53:54 @saver.py:79]\u001b[0m Model saved to ../output/Chicago/TEST/model\\model-6476.\n",
      "\u001b[32m[1118 15:53:54 @monitor.py:467]\u001b[0m GAN_loss/d_loss: -0.063244\n",
      "\u001b[32m[1118 15:53:54 @monitor.py:467]\u001b[0m GAN_loss/g_loss: -0.088632\n",
      "\u001b[32m[1118 15:53:54 @monitor.py:467]\u001b[0m GAN_loss/kl_div: 0.04495\n",
      "\u001b[32m[1118 15:53:54 @monitor.py:467]\u001b[0m QueueInput/queue_size: 50\n",
      "\u001b[32m[1118 15:53:54 @base.py:275]\u001b[0m Start Epoch 255 ...\n"
     ]
    },
    {
     "name": "stderr",
     "output_type": "stream",
     "text": [
      "\n",
      "100%|#####################################################################################|17/17[00:00<00:00,36.97it/s]"
     ]
    },
    {
     "name": "stdout",
     "output_type": "stream",
     "text": [
      "\u001b[32m[1118 15:53:54 @base.py:285]\u001b[0m Epoch 255 (global_step 6502) finished, time:0.46 second.\n",
      "\u001b[32m[1118 15:53:54 @saver.py:79]\u001b[0m Model saved to ../output/Chicago/TEST/model\\model-6502.\n",
      "\u001b[32m[1118 15:53:54 @monitor.py:467]\u001b[0m GAN_loss/d_loss: -0.062909\n",
      "\u001b[32m[1118 15:53:54 @monitor.py:467]\u001b[0m GAN_loss/g_loss: -0.089222\n",
      "\u001b[32m[1118 15:53:54 @monitor.py:467]\u001b[0m GAN_loss/kl_div: 0.044666\n",
      "\u001b[32m[1118 15:53:54 @monitor.py:467]\u001b[0m QueueInput/queue_size: 50\n",
      "\u001b[32m[1118 15:53:54 @base.py:275]\u001b[0m Start Epoch 256 ...\n"
     ]
    },
    {
     "name": "stderr",
     "output_type": "stream",
     "text": [
      "\n",
      "100%|#####################################################################################|17/17[00:00<00:00,38.21it/s]"
     ]
    },
    {
     "name": "stdout",
     "output_type": "stream",
     "text": [
      "\u001b[32m[1118 15:53:55 @base.py:285]\u001b[0m Epoch 256 (global_step 6527) finished, time:0.445 second.\n",
      "\u001b[32m[1118 15:53:55 @saver.py:79]\u001b[0m Model saved to ../output/Chicago/TEST/model\\model-6527.\n",
      "\u001b[32m[1118 15:53:55 @monitor.py:467]\u001b[0m GAN_loss/d_loss: -0.062207\n",
      "\u001b[32m[1118 15:53:55 @monitor.py:467]\u001b[0m GAN_loss/g_loss: -0.089877\n",
      "\u001b[32m[1118 15:53:55 @monitor.py:467]\u001b[0m GAN_loss/kl_div: 0.049863\n",
      "\u001b[32m[1118 15:53:55 @monitor.py:467]\u001b[0m QueueInput/queue_size: 50\n",
      "\u001b[32m[1118 15:53:55 @base.py:275]\u001b[0m Start Epoch 257 ...\n"
     ]
    },
    {
     "name": "stderr",
     "output_type": "stream",
     "text": [
      "\n",
      "100%|#####################################################################################|17/17[00:00<00:00,37.09it/s]"
     ]
    },
    {
     "name": "stdout",
     "output_type": "stream",
     "text": [
      "\u001b[32m[1118 15:53:55 @base.py:285]\u001b[0m Epoch 257 (global_step 6553) finished, time:0.459 second.\n",
      "\u001b[32m[1118 15:53:55 @saver.py:79]\u001b[0m Model saved to ../output/Chicago/TEST/model\\model-6553.\n",
      "\u001b[32m[1118 15:53:56 @monitor.py:467]\u001b[0m GAN_loss/d_loss: -0.062674\n",
      "\u001b[32m[1118 15:53:56 @monitor.py:467]\u001b[0m GAN_loss/g_loss: -0.089817\n",
      "\u001b[32m[1118 15:53:56 @monitor.py:467]\u001b[0m GAN_loss/kl_div: 0.045536\n",
      "\u001b[32m[1118 15:53:56 @monitor.py:467]\u001b[0m QueueInput/queue_size: 50\n",
      "\u001b[32m[1118 15:53:56 @base.py:275]\u001b[0m Start Epoch 258 ...\n"
     ]
    },
    {
     "name": "stderr",
     "output_type": "stream",
     "text": [
      "\n",
      "100%|#####################################################################################|17/17[00:00<00:00,38.38it/s]"
     ]
    },
    {
     "name": "stdout",
     "output_type": "stream",
     "text": [
      "\u001b[32m[1118 15:53:56 @base.py:285]\u001b[0m Epoch 258 (global_step 6578) finished, time:0.443 second.\n",
      "\u001b[32m[1118 15:53:56 @saver.py:79]\u001b[0m Model saved to ../output/Chicago/TEST/model\\model-6578.\n",
      "\u001b[32m[1118 15:53:56 @monitor.py:467]\u001b[0m GAN_loss/d_loss: -0.062308\n",
      "\u001b[32m[1118 15:53:56 @monitor.py:467]\u001b[0m GAN_loss/g_loss: -0.090744\n",
      "\u001b[32m[1118 15:53:56 @monitor.py:467]\u001b[0m GAN_loss/kl_div: 0.049898\n",
      "\u001b[32m[1118 15:53:56 @monitor.py:467]\u001b[0m QueueInput/queue_size: 50\n",
      "\u001b[32m[1118 15:53:56 @base.py:275]\u001b[0m Start Epoch 259 ...\n"
     ]
    },
    {
     "name": "stderr",
     "output_type": "stream",
     "text": [
      "\n",
      "100%|#####################################################################################|17/17[00:00<00:00,37.01it/s]"
     ]
    },
    {
     "name": "stdout",
     "output_type": "stream",
     "text": [
      "\u001b[32m[1118 15:53:57 @base.py:285]\u001b[0m Epoch 259 (global_step 6604) finished, time:0.46 second.\n",
      "\u001b[32m[1118 15:53:57 @saver.py:79]\u001b[0m Model saved to ../output/Chicago/TEST/model\\model-6604.\n",
      "\u001b[32m[1118 15:53:57 @monitor.py:467]\u001b[0m GAN_loss/d_loss: -0.060805\n",
      "\u001b[32m[1118 15:53:57 @monitor.py:467]\u001b[0m GAN_loss/g_loss: -0.091663\n",
      "\u001b[32m[1118 15:53:57 @monitor.py:467]\u001b[0m GAN_loss/kl_div: 0.048363\n",
      "\u001b[32m[1118 15:53:57 @monitor.py:467]\u001b[0m QueueInput/queue_size: 50\n",
      "\u001b[32m[1118 15:53:57 @base.py:275]\u001b[0m Start Epoch 260 ...\n"
     ]
    },
    {
     "name": "stderr",
     "output_type": "stream",
     "text": [
      "\n",
      "100%|#####################################################################################|17/17[00:00<00:00,38.25it/s]"
     ]
    },
    {
     "name": "stdout",
     "output_type": "stream",
     "text": [
      "\u001b[32m[1118 15:53:57 @base.py:285]\u001b[0m Epoch 260 (global_step 6629) finished, time:0.445 second.\n",
      "\u001b[32m[1118 15:53:57 @saver.py:79]\u001b[0m Model saved to ../output/Chicago/TEST/model\\model-6629.\n",
      "\u001b[32m[1118 15:53:57 @monitor.py:467]\u001b[0m GAN_loss/d_loss: -0.060872\n",
      "\u001b[32m[1118 15:53:57 @monitor.py:467]\u001b[0m GAN_loss/g_loss: -0.091743\n",
      "\u001b[32m[1118 15:53:57 @monitor.py:467]\u001b[0m GAN_loss/kl_div: 0.049685\n",
      "\u001b[32m[1118 15:53:57 @monitor.py:467]\u001b[0m QueueInput/queue_size: 50\n",
      "\u001b[32m[1118 15:53:57 @base.py:275]\u001b[0m Start Epoch 261 ...\n"
     ]
    },
    {
     "name": "stderr",
     "output_type": "stream",
     "text": [
      "\n",
      "100%|#####################################################################################|17/17[00:00<00:00,36.74it/s]"
     ]
    },
    {
     "name": "stdout",
     "output_type": "stream",
     "text": [
      "\u001b[32m[1118 15:53:58 @base.py:285]\u001b[0m Epoch 261 (global_step 6655) finished, time:0.463 second.\n",
      "\u001b[32m[1118 15:53:58 @saver.py:79]\u001b[0m Model saved to ../output/Chicago/TEST/model\\model-6655.\n",
      "\u001b[32m[1118 15:53:58 @monitor.py:467]\u001b[0m GAN_loss/d_loss: -0.061894\n",
      "\u001b[32m[1118 15:53:58 @monitor.py:467]\u001b[0m GAN_loss/g_loss: -0.092163\n",
      "\u001b[32m[1118 15:53:58 @monitor.py:467]\u001b[0m GAN_loss/kl_div: 0.044073\n",
      "\u001b[32m[1118 15:53:58 @monitor.py:467]\u001b[0m QueueInput/queue_size: 50\n",
      "\u001b[32m[1118 15:53:58 @base.py:275]\u001b[0m Start Epoch 262 ...\n"
     ]
    },
    {
     "name": "stderr",
     "output_type": "stream",
     "text": [
      "\n",
      "100%|#####################################################################################|17/17[00:00<00:00,38.25it/s]"
     ]
    },
    {
     "name": "stdout",
     "output_type": "stream",
     "text": [
      "\u001b[32m[1118 15:53:58 @base.py:285]\u001b[0m Epoch 262 (global_step 6680) finished, time:0.445 second.\n",
      "\u001b[32m[1118 15:53:58 @saver.py:79]\u001b[0m Model saved to ../output/Chicago/TEST/model\\model-6680.\n",
      "\u001b[32m[1118 15:53:58 @monitor.py:467]\u001b[0m GAN_loss/d_loss: -0.062203\n",
      "\u001b[32m[1118 15:53:58 @monitor.py:467]\u001b[0m GAN_loss/g_loss: -0.091517\n",
      "\u001b[32m[1118 15:53:58 @monitor.py:467]\u001b[0m GAN_loss/kl_div: 0.048676\n",
      "\u001b[32m[1118 15:53:58 @monitor.py:467]\u001b[0m QueueInput/queue_size: 50\n",
      "\u001b[32m[1118 15:53:58 @base.py:275]\u001b[0m Start Epoch 263 ...\n"
     ]
    },
    {
     "name": "stderr",
     "output_type": "stream",
     "text": [
      "\n",
      "100%|#####################################################################################|17/17[00:00<00:00,37.05it/s]"
     ]
    },
    {
     "name": "stdout",
     "output_type": "stream",
     "text": [
      "\u001b[32m[1118 15:53:59 @base.py:285]\u001b[0m Epoch 263 (global_step 6706) finished, time:0.459 second.\n",
      "\u001b[32m[1118 15:53:59 @saver.py:79]\u001b[0m Model saved to ../output/Chicago/TEST/model\\model-6706.\n",
      "\u001b[32m[1118 15:53:59 @monitor.py:467]\u001b[0m GAN_loss/d_loss: -0.06174\n",
      "\u001b[32m[1118 15:53:59 @monitor.py:467]\u001b[0m GAN_loss/g_loss: -0.091802\n",
      "\u001b[32m[1118 15:53:59 @monitor.py:467]\u001b[0m GAN_loss/kl_div: 0.048427\n",
      "\u001b[32m[1118 15:53:59 @monitor.py:467]\u001b[0m QueueInput/queue_size: 50\n",
      "\u001b[32m[1118 15:53:59 @base.py:275]\u001b[0m Start Epoch 264 ...\n"
     ]
    },
    {
     "name": "stderr",
     "output_type": "stream",
     "text": [
      "\n",
      "100%|#####################################################################################|17/17[00:00<00:00,38.17it/s]"
     ]
    },
    {
     "name": "stdout",
     "output_type": "stream",
     "text": [
      "\u001b[32m[1118 15:54:00 @base.py:285]\u001b[0m Epoch 264 (global_step 6731) finished, time:0.446 second.\n",
      "\u001b[32m[1118 15:54:00 @saver.py:79]\u001b[0m Model saved to ../output/Chicago/TEST/model\\model-6731.\n",
      "\u001b[32m[1118 15:54:00 @monitor.py:467]\u001b[0m GAN_loss/d_loss: -0.060413\n",
      "\u001b[32m[1118 15:54:00 @monitor.py:467]\u001b[0m GAN_loss/g_loss: -0.093391\n",
      "\u001b[32m[1118 15:54:00 @monitor.py:467]\u001b[0m GAN_loss/kl_div: 0.046732\n",
      "\u001b[32m[1118 15:54:00 @monitor.py:467]\u001b[0m QueueInput/queue_size: 50\n",
      "\u001b[32m[1118 15:54:00 @base.py:275]\u001b[0m Start Epoch 265 ...\n"
     ]
    },
    {
     "name": "stderr",
     "output_type": "stream",
     "text": [
      "\n",
      "100%|#####################################################################################|17/17[00:00<00:00,36.85it/s]"
     ]
    },
    {
     "name": "stdout",
     "output_type": "stream",
     "text": [
      "\u001b[32m[1118 15:54:00 @base.py:285]\u001b[0m Epoch 265 (global_step 6757) finished, time:0.462 second.\n",
      "\u001b[32m[1118 15:54:00 @saver.py:79]\u001b[0m Model saved to ../output/Chicago/TEST/model\\model-6757.\n",
      "\u001b[32m[1118 15:54:00 @monitor.py:467]\u001b[0m GAN_loss/d_loss: -0.06144\n",
      "\u001b[32m[1118 15:54:00 @monitor.py:467]\u001b[0m GAN_loss/g_loss: -0.092857\n",
      "\u001b[32m[1118 15:54:00 @monitor.py:467]\u001b[0m GAN_loss/kl_div: 0.046882\n",
      "\u001b[32m[1118 15:54:00 @monitor.py:467]\u001b[0m QueueInput/queue_size: 50\n",
      "\u001b[32m[1118 15:54:00 @base.py:275]\u001b[0m Start Epoch 266 ...\n"
     ]
    },
    {
     "name": "stderr",
     "output_type": "stream",
     "text": [
      "\n",
      "100%|#####################################################################################|17/17[00:00<00:00,38.21it/s]"
     ]
    },
    {
     "name": "stdout",
     "output_type": "stream",
     "text": [
      "\u001b[32m[1118 15:54:01 @base.py:285]\u001b[0m Epoch 266 (global_step 6782) finished, time:0.445 second.\n",
      "\u001b[32m[1118 15:54:01 @saver.py:79]\u001b[0m Model saved to ../output/Chicago/TEST/model\\model-6782.\n",
      "\u001b[32m[1118 15:54:01 @monitor.py:467]\u001b[0m GAN_loss/d_loss: -0.061487\n",
      "\u001b[32m[1118 15:54:01 @monitor.py:467]\u001b[0m GAN_loss/g_loss: -0.092659\n",
      "\u001b[32m[1118 15:54:01 @monitor.py:467]\u001b[0m GAN_loss/kl_div: 0.047427\n",
      "\u001b[32m[1118 15:54:01 @monitor.py:467]\u001b[0m QueueInput/queue_size: 50\n",
      "\u001b[32m[1118 15:54:01 @base.py:275]\u001b[0m Start Epoch 267 ...\n"
     ]
    },
    {
     "name": "stderr",
     "output_type": "stream",
     "text": [
      "\n",
      "100%|#####################################################################################|17/17[00:00<00:00,36.93it/s]"
     ]
    },
    {
     "name": "stdout",
     "output_type": "stream",
     "text": [
      "\u001b[32m[1118 15:54:01 @base.py:285]\u001b[0m Epoch 267 (global_step 6808) finished, time:0.461 second.\n",
      "\u001b[32m[1118 15:54:01 @saver.py:79]\u001b[0m Model saved to ../output/Chicago/TEST/model\\model-6808.\n",
      "\u001b[32m[1118 15:54:01 @monitor.py:467]\u001b[0m GAN_loss/d_loss: -0.059947\n",
      "\u001b[32m[1118 15:54:01 @monitor.py:467]\u001b[0m GAN_loss/g_loss: -0.092899\n",
      "\u001b[32m[1118 15:54:01 @monitor.py:467]\u001b[0m GAN_loss/kl_div: 0.048355\n",
      "\u001b[32m[1118 15:54:01 @monitor.py:467]\u001b[0m QueueInput/queue_size: 50\n",
      "\u001b[32m[1118 15:54:01 @base.py:275]\u001b[0m Start Epoch 268 ...\n"
     ]
    },
    {
     "name": "stderr",
     "output_type": "stream",
     "text": [
      "\n",
      "100%|#####################################################################################|17/17[00:00<00:00,38.21it/s]"
     ]
    },
    {
     "name": "stdout",
     "output_type": "stream",
     "text": [
      "\u001b[32m[1118 15:54:02 @base.py:285]\u001b[0m Epoch 268 (global_step 6833) finished, time:0.445 second.\n",
      "\u001b[32m[1118 15:54:02 @saver.py:79]\u001b[0m Model saved to ../output/Chicago/TEST/model\\model-6833.\n",
      "\u001b[32m[1118 15:54:02 @monitor.py:467]\u001b[0m GAN_loss/d_loss: -0.059265\n",
      "\u001b[32m[1118 15:54:02 @monitor.py:467]\u001b[0m GAN_loss/g_loss: -0.092898\n",
      "\u001b[32m[1118 15:54:02 @monitor.py:467]\u001b[0m GAN_loss/kl_div: 0.046078\n",
      "\u001b[32m[1118 15:54:02 @monitor.py:467]\u001b[0m QueueInput/queue_size: 50\n",
      "\u001b[32m[1118 15:54:02 @base.py:275]\u001b[0m Start Epoch 269 ...\n"
     ]
    },
    {
     "name": "stderr",
     "output_type": "stream",
     "text": [
      "\n",
      "100%|#####################################################################################|17/17[00:00<00:00,36.81it/s]"
     ]
    },
    {
     "name": "stdout",
     "output_type": "stream",
     "text": [
      "\u001b[32m[1118 15:54:03 @base.py:285]\u001b[0m Epoch 269 (global_step 6859) finished, time:0.462 second.\n",
      "\u001b[32m[1118 15:54:03 @saver.py:79]\u001b[0m Model saved to ../output/Chicago/TEST/model\\model-6859.\n",
      "\u001b[32m[1118 15:54:03 @monitor.py:467]\u001b[0m GAN_loss/d_loss: -0.060176\n",
      "\u001b[32m[1118 15:54:03 @monitor.py:467]\u001b[0m GAN_loss/g_loss: -0.093118\n",
      "\u001b[32m[1118 15:54:03 @monitor.py:467]\u001b[0m GAN_loss/kl_div: 0.044407\n",
      "\u001b[32m[1118 15:54:03 @monitor.py:467]\u001b[0m QueueInput/queue_size: 50\n",
      "\u001b[32m[1118 15:54:03 @base.py:275]\u001b[0m Start Epoch 270 ...\n"
     ]
    },
    {
     "name": "stderr",
     "output_type": "stream",
     "text": [
      "\n",
      "100%|#####################################################################################|17/17[00:00<00:00,38.17it/s]"
     ]
    },
    {
     "name": "stdout",
     "output_type": "stream",
     "text": [
      "\u001b[32m[1118 15:54:03 @base.py:285]\u001b[0m Epoch 270 (global_step 6884) finished, time:0.446 second.\n",
      "\u001b[32m[1118 15:54:03 @saver.py:79]\u001b[0m Model saved to ../output/Chicago/TEST/model\\model-6884.\n",
      "\u001b[32m[1118 15:54:03 @monitor.py:467]\u001b[0m GAN_loss/d_loss: -0.061182\n",
      "\u001b[32m[1118 15:54:03 @monitor.py:467]\u001b[0m GAN_loss/g_loss: -0.092783\n",
      "\u001b[32m[1118 15:54:03 @monitor.py:467]\u001b[0m GAN_loss/kl_div: 0.045668\n",
      "\u001b[32m[1118 15:54:03 @monitor.py:467]\u001b[0m QueueInput/queue_size: 50\n",
      "\u001b[32m[1118 15:54:03 @base.py:275]\u001b[0m Start Epoch 271 ...\n"
     ]
    },
    {
     "name": "stderr",
     "output_type": "stream",
     "text": [
      "\n",
      "100%|#####################################################################################|17/17[00:00<00:00,36.77it/s]"
     ]
    },
    {
     "name": "stdout",
     "output_type": "stream",
     "text": [
      "\u001b[32m[1118 15:54:04 @base.py:285]\u001b[0m Epoch 271 (global_step 6910) finished, time:0.463 second.\n",
      "\u001b[32m[1118 15:54:04 @saver.py:79]\u001b[0m Model saved to ../output/Chicago/TEST/model\\model-6910.\n",
      "\u001b[32m[1118 15:54:04 @monitor.py:467]\u001b[0m GAN_loss/d_loss: -0.060327\n",
      "\u001b[32m[1118 15:54:04 @monitor.py:467]\u001b[0m GAN_loss/g_loss: -0.093087\n",
      "\u001b[32m[1118 15:54:04 @monitor.py:467]\u001b[0m GAN_loss/kl_div: 0.046822\n",
      "\u001b[32m[1118 15:54:04 @monitor.py:467]\u001b[0m QueueInput/queue_size: 50\n",
      "\u001b[32m[1118 15:54:04 @base.py:275]\u001b[0m Start Epoch 272 ...\n"
     ]
    },
    {
     "name": "stderr",
     "output_type": "stream",
     "text": [
      "\n",
      "100%|#####################################################################################|17/17[00:00<00:00,38.38it/s]"
     ]
    },
    {
     "name": "stdout",
     "output_type": "stream",
     "text": [
      "\u001b[32m[1118 15:54:04 @base.py:285]\u001b[0m Epoch 272 (global_step 6935) finished, time:0.443 second.\n",
      "\u001b[32m[1118 15:54:04 @saver.py:79]\u001b[0m Model saved to ../output/Chicago/TEST/model\\model-6935.\n",
      "\u001b[32m[1118 15:54:04 @monitor.py:467]\u001b[0m GAN_loss/d_loss: -0.059219\n",
      "\u001b[32m[1118 15:54:04 @monitor.py:467]\u001b[0m GAN_loss/g_loss: -0.093822\n",
      "\u001b[32m[1118 15:54:04 @monitor.py:467]\u001b[0m GAN_loss/kl_div: 0.047015\n",
      "\u001b[32m[1118 15:54:04 @monitor.py:467]\u001b[0m QueueInput/queue_size: 50\n",
      "\u001b[32m[1118 15:54:04 @base.py:275]\u001b[0m Start Epoch 273 ...\n"
     ]
    },
    {
     "name": "stderr",
     "output_type": "stream",
     "text": [
      "\n",
      "100%|#####################################################################################|17/17[00:00<00:00,36.89it/s]"
     ]
    },
    {
     "name": "stdout",
     "output_type": "stream",
     "text": [
      "\u001b[32m[1118 15:54:05 @base.py:285]\u001b[0m Epoch 273 (global_step 6961) finished, time:0.462 second.\n",
      "\u001b[32m[1118 15:54:05 @saver.py:79]\u001b[0m Model saved to ../output/Chicago/TEST/model\\model-6961.\n",
      "\u001b[32m[1118 15:54:05 @monitor.py:467]\u001b[0m GAN_loss/d_loss: -0.059999\n",
      "\u001b[32m[1118 15:54:05 @monitor.py:467]\u001b[0m GAN_loss/g_loss: -0.092965\n",
      "\u001b[32m[1118 15:54:05 @monitor.py:467]\u001b[0m GAN_loss/kl_div: 0.048916\n",
      "\u001b[32m[1118 15:54:05 @monitor.py:467]\u001b[0m QueueInput/queue_size: 50\n",
      "\u001b[32m[1118 15:54:05 @base.py:275]\u001b[0m Start Epoch 274 ...\n"
     ]
    },
    {
     "name": "stderr",
     "output_type": "stream",
     "text": [
      "\n",
      "100%|#####################################################################################|17/17[00:00<00:00,38.21it/s]"
     ]
    },
    {
     "name": "stdout",
     "output_type": "stream",
     "text": [
      "\u001b[32m[1118 15:54:05 @base.py:285]\u001b[0m Epoch 274 (global_step 6986) finished, time:0.445 second.\n",
      "\u001b[32m[1118 15:54:06 @saver.py:79]\u001b[0m Model saved to ../output/Chicago/TEST/model\\model-6986.\n",
      "\u001b[32m[1118 15:54:06 @monitor.py:467]\u001b[0m GAN_loss/d_loss: -0.059935\n",
      "\u001b[32m[1118 15:54:06 @monitor.py:467]\u001b[0m GAN_loss/g_loss: -0.093804\n",
      "\u001b[32m[1118 15:54:06 @monitor.py:467]\u001b[0m GAN_loss/kl_div: 0.048866\n",
      "\u001b[32m[1118 15:54:06 @monitor.py:467]\u001b[0m QueueInput/queue_size: 50\n",
      "\u001b[32m[1118 15:54:06 @base.py:275]\u001b[0m Start Epoch 275 ...\n"
     ]
    },
    {
     "name": "stderr",
     "output_type": "stream",
     "text": [
      "\n",
      "100%|#####################################################################################|17/17[00:00<00:00,37.01it/s]"
     ]
    },
    {
     "name": "stdout",
     "output_type": "stream",
     "text": [
      "\u001b[32m[1118 15:54:06 @base.py:285]\u001b[0m Epoch 275 (global_step 7012) finished, time:0.46 second.\n",
      "\u001b[32m[1118 15:54:06 @saver.py:79]\u001b[0m Model saved to ../output/Chicago/TEST/model\\model-7012.\n",
      "\u001b[32m[1118 15:54:06 @monitor.py:467]\u001b[0m GAN_loss/d_loss: -0.059738\n",
      "\u001b[32m[1118 15:54:06 @monitor.py:467]\u001b[0m GAN_loss/g_loss: -0.093112\n",
      "\u001b[32m[1118 15:54:06 @monitor.py:467]\u001b[0m GAN_loss/kl_div: 0.045407\n",
      "\u001b[32m[1118 15:54:06 @monitor.py:467]\u001b[0m QueueInput/queue_size: 50\n",
      "\u001b[32m[1118 15:54:06 @base.py:275]\u001b[0m Start Epoch 276 ...\n"
     ]
    },
    {
     "name": "stderr",
     "output_type": "stream",
     "text": [
      "\n",
      "100%|#####################################################################################|17/17[00:00<00:00,38.17it/s]"
     ]
    },
    {
     "name": "stdout",
     "output_type": "stream",
     "text": [
      "\u001b[32m[1118 15:54:07 @base.py:285]\u001b[0m Epoch 276 (global_step 7037) finished, time:0.446 second.\n",
      "\u001b[32m[1118 15:54:07 @saver.py:79]\u001b[0m Model saved to ../output/Chicago/TEST/model\\model-7037.\n",
      "\u001b[32m[1118 15:54:07 @monitor.py:467]\u001b[0m GAN_loss/d_loss: -0.059267\n",
      "\u001b[32m[1118 15:54:07 @monitor.py:467]\u001b[0m GAN_loss/g_loss: -0.094277\n",
      "\u001b[32m[1118 15:54:07 @monitor.py:467]\u001b[0m GAN_loss/kl_div: 0.043726\n",
      "\u001b[32m[1118 15:54:07 @monitor.py:467]\u001b[0m QueueInput/queue_size: 50\n",
      "\u001b[32m[1118 15:54:07 @base.py:275]\u001b[0m Start Epoch 277 ...\n"
     ]
    },
    {
     "name": "stderr",
     "output_type": "stream",
     "text": [
      "\n",
      "100%|#####################################################################################|17/17[00:00<00:00,37.13it/s]"
     ]
    },
    {
     "name": "stdout",
     "output_type": "stream",
     "text": [
      "\u001b[32m[1118 15:54:07 @base.py:285]\u001b[0m Epoch 277 (global_step 7063) finished, time:0.458 second.\n",
      "\u001b[32m[1118 15:54:07 @saver.py:79]\u001b[0m Model saved to ../output/Chicago/TEST/model\\model-7063.\n",
      "\u001b[32m[1118 15:54:07 @monitor.py:467]\u001b[0m GAN_loss/d_loss: -0.058601\n",
      "\u001b[32m[1118 15:54:07 @monitor.py:467]\u001b[0m GAN_loss/g_loss: -0.094565\n",
      "\u001b[32m[1118 15:54:07 @monitor.py:467]\u001b[0m GAN_loss/kl_div: 0.044986\n",
      "\u001b[32m[1118 15:54:07 @monitor.py:467]\u001b[0m QueueInput/queue_size: 50\n",
      "\u001b[32m[1118 15:54:07 @base.py:275]\u001b[0m Start Epoch 278 ...\n"
     ]
    },
    {
     "name": "stderr",
     "output_type": "stream",
     "text": [
      "\n",
      "100%|#####################################################################################|17/17[00:00<00:00,38.38it/s]"
     ]
    },
    {
     "name": "stdout",
     "output_type": "stream",
     "text": [
      "\u001b[32m[1118 15:54:08 @base.py:285]\u001b[0m Epoch 278 (global_step 7088) finished, time:0.443 second.\n",
      "\u001b[32m[1118 15:54:08 @saver.py:79]\u001b[0m Model saved to ../output/Chicago/TEST/model\\model-7088.\n",
      "\u001b[32m[1118 15:54:08 @monitor.py:467]\u001b[0m GAN_loss/d_loss: -0.058713\n",
      "\u001b[32m[1118 15:54:08 @monitor.py:467]\u001b[0m GAN_loss/g_loss: -0.094452\n",
      "\u001b[32m[1118 15:54:08 @monitor.py:467]\u001b[0m GAN_loss/kl_div: 0.044325\n",
      "\u001b[32m[1118 15:54:08 @monitor.py:467]\u001b[0m QueueInput/queue_size: 50\n",
      "\u001b[32m[1118 15:54:08 @base.py:275]\u001b[0m Start Epoch 279 ...\n"
     ]
    },
    {
     "name": "stderr",
     "output_type": "stream",
     "text": [
      "\n",
      "100%|#####################################################################################|17/17[00:00<00:00,37.05it/s]"
     ]
    },
    {
     "name": "stdout",
     "output_type": "stream",
     "text": [
      "\u001b[32m[1118 15:54:08 @base.py:285]\u001b[0m Epoch 279 (global_step 7114) finished, time:0.459 second.\n",
      "\u001b[32m[1118 15:54:09 @saver.py:79]\u001b[0m Model saved to ../output/Chicago/TEST/model\\model-7114.\n",
      "\u001b[32m[1118 15:54:09 @monitor.py:467]\u001b[0m GAN_loss/d_loss: -0.059494\n",
      "\u001b[32m[1118 15:54:09 @monitor.py:467]\u001b[0m GAN_loss/g_loss: -0.094751\n",
      "\u001b[32m[1118 15:54:09 @monitor.py:467]\u001b[0m GAN_loss/kl_div: 0.047008\n",
      "\u001b[32m[1118 15:54:09 @monitor.py:467]\u001b[0m QueueInput/queue_size: 50\n",
      "\u001b[32m[1118 15:54:09 @base.py:275]\u001b[0m Start Epoch 280 ...\n"
     ]
    },
    {
     "name": "stderr",
     "output_type": "stream",
     "text": [
      "\n",
      "100%|#####################################################################################|17/17[00:00<00:00,38.21it/s]"
     ]
    },
    {
     "name": "stdout",
     "output_type": "stream",
     "text": [
      "\u001b[32m[1118 15:54:09 @base.py:285]\u001b[0m Epoch 280 (global_step 7139) finished, time:0.445 second.\n",
      "\u001b[32m[1118 15:54:09 @saver.py:79]\u001b[0m Model saved to ../output/Chicago/TEST/model\\model-7139.\n",
      "\u001b[32m[1118 15:54:09 @monitor.py:467]\u001b[0m GAN_loss/d_loss: -0.05906\n",
      "\u001b[32m[1118 15:54:09 @monitor.py:467]\u001b[0m GAN_loss/g_loss: -0.094254\n",
      "\u001b[32m[1118 15:54:09 @monitor.py:467]\u001b[0m GAN_loss/kl_div: 0.045298\n",
      "\u001b[32m[1118 15:54:09 @monitor.py:467]\u001b[0m QueueInput/queue_size: 50\n",
      "\u001b[32m[1118 15:54:09 @base.py:275]\u001b[0m Start Epoch 281 ...\n"
     ]
    },
    {
     "name": "stderr",
     "output_type": "stream",
     "text": [
      "\n",
      "100%|#####################################################################################|17/17[00:00<00:00,37.01it/s]"
     ]
    },
    {
     "name": "stdout",
     "output_type": "stream",
     "text": [
      "\u001b[32m[1118 15:54:10 @base.py:285]\u001b[0m Epoch 281 (global_step 7165) finished, time:0.46 second.\n",
      "\u001b[32m[1118 15:54:10 @saver.py:79]\u001b[0m Model saved to ../output/Chicago/TEST/model\\model-7165.\n",
      "\u001b[32m[1118 15:54:10 @monitor.py:467]\u001b[0m GAN_loss/d_loss: -0.059066\n",
      "\u001b[32m[1118 15:54:10 @monitor.py:467]\u001b[0m GAN_loss/g_loss: -0.094694\n",
      "\u001b[32m[1118 15:54:10 @monitor.py:467]\u001b[0m GAN_loss/kl_div: 0.045915\n",
      "\u001b[32m[1118 15:54:10 @monitor.py:467]\u001b[0m QueueInput/queue_size: 50\n",
      "\u001b[32m[1118 15:54:10 @base.py:275]\u001b[0m Start Epoch 282 ...\n"
     ]
    },
    {
     "name": "stderr",
     "output_type": "stream",
     "text": [
      "\n",
      "100%|#####################################################################################|17/17[00:00<00:00,38.30it/s]"
     ]
    },
    {
     "name": "stdout",
     "output_type": "stream",
     "text": [
      "\u001b[32m[1118 15:54:10 @base.py:285]\u001b[0m Epoch 282 (global_step 7190) finished, time:0.444 second.\n",
      "\u001b[32m[1118 15:54:10 @saver.py:79]\u001b[0m Model saved to ../output/Chicago/TEST/model\\model-7190.\n",
      "\u001b[32m[1118 15:54:10 @monitor.py:467]\u001b[0m GAN_loss/d_loss: -0.059253\n",
      "\u001b[32m[1118 15:54:10 @monitor.py:467]\u001b[0m GAN_loss/g_loss: -0.094202\n",
      "\u001b[32m[1118 15:54:10 @monitor.py:467]\u001b[0m GAN_loss/kl_div: 0.043172\n",
      "\u001b[32m[1118 15:54:10 @monitor.py:467]\u001b[0m QueueInput/queue_size: 50\n",
      "\u001b[32m[1118 15:54:10 @base.py:275]\u001b[0m Start Epoch 283 ...\n"
     ]
    },
    {
     "name": "stderr",
     "output_type": "stream",
     "text": [
      "\n",
      "100%|#####################################################################################|17/17[00:00<00:00,37.21it/s]"
     ]
    },
    {
     "name": "stdout",
     "output_type": "stream",
     "text": [
      "\u001b[32m[1118 15:54:11 @base.py:285]\u001b[0m Epoch 283 (global_step 7216) finished, time:0.458 second.\n",
      "\u001b[32m[1118 15:54:11 @saver.py:79]\u001b[0m Model saved to ../output/Chicago/TEST/model\\model-7216.\n",
      "\u001b[32m[1118 15:54:11 @monitor.py:467]\u001b[0m GAN_loss/d_loss: -0.059277\n",
      "\u001b[32m[1118 15:54:11 @monitor.py:467]\u001b[0m GAN_loss/g_loss: -0.094526\n",
      "\u001b[32m[1118 15:54:11 @monitor.py:467]\u001b[0m GAN_loss/kl_div: 0.04347\n",
      "\u001b[32m[1118 15:54:11 @monitor.py:467]\u001b[0m QueueInput/queue_size: 50\n",
      "\u001b[32m[1118 15:54:11 @base.py:275]\u001b[0m Start Epoch 284 ...\n"
     ]
    },
    {
     "name": "stderr",
     "output_type": "stream",
     "text": [
      "\n",
      "100%|#####################################################################################|17/17[00:00<00:00,38.12it/s]"
     ]
    },
    {
     "name": "stdout",
     "output_type": "stream",
     "text": [
      "\u001b[32m[1118 15:54:11 @base.py:285]\u001b[0m Epoch 284 (global_step 7241) finished, time:0.446 second.\n",
      "\u001b[32m[1118 15:54:12 @saver.py:79]\u001b[0m Model saved to ../output/Chicago/TEST/model\\model-7241.\n",
      "\u001b[32m[1118 15:54:12 @monitor.py:467]\u001b[0m GAN_loss/d_loss: -0.058353\n",
      "\u001b[32m[1118 15:54:12 @monitor.py:467]\u001b[0m GAN_loss/g_loss: -0.095488\n",
      "\u001b[32m[1118 15:54:12 @monitor.py:467]\u001b[0m GAN_loss/kl_div: 0.042961\n",
      "\u001b[32m[1118 15:54:12 @monitor.py:467]\u001b[0m QueueInput/queue_size: 50\n",
      "\u001b[32m[1118 15:54:12 @base.py:275]\u001b[0m Start Epoch 285 ...\n"
     ]
    },
    {
     "name": "stderr",
     "output_type": "stream",
     "text": [
      "\n",
      "100%|#####################################################################################|17/17[00:00<00:00,37.01it/s]"
     ]
    },
    {
     "name": "stdout",
     "output_type": "stream",
     "text": [
      "\u001b[32m[1118 15:54:12 @base.py:285]\u001b[0m Epoch 285 (global_step 7267) finished, time:0.46 second.\n",
      "\u001b[32m[1118 15:54:12 @saver.py:79]\u001b[0m Model saved to ../output/Chicago/TEST/model\\model-7267.\n",
      "\u001b[32m[1118 15:54:12 @monitor.py:467]\u001b[0m GAN_loss/d_loss: -0.057904\n",
      "\u001b[32m[1118 15:54:12 @monitor.py:467]\u001b[0m GAN_loss/g_loss: -0.09581\n",
      "\u001b[32m[1118 15:54:12 @monitor.py:467]\u001b[0m GAN_loss/kl_div: 0.042653\n",
      "\u001b[32m[1118 15:54:12 @monitor.py:467]\u001b[0m QueueInput/queue_size: 50\n",
      "\u001b[32m[1118 15:54:12 @base.py:275]\u001b[0m Start Epoch 286 ...\n"
     ]
    },
    {
     "name": "stderr",
     "output_type": "stream",
     "text": [
      "\n",
      "100%|#####################################################################################|17/17[00:00<00:00,38.38it/s]"
     ]
    },
    {
     "name": "stdout",
     "output_type": "stream",
     "text": [
      "\u001b[32m[1118 15:54:13 @base.py:285]\u001b[0m Epoch 286 (global_step 7292) finished, time:0.443 second.\n",
      "\u001b[32m[1118 15:54:13 @saver.py:79]\u001b[0m Model saved to ../output/Chicago/TEST/model\\model-7292.\n",
      "\u001b[32m[1118 15:54:13 @monitor.py:467]\u001b[0m GAN_loss/d_loss: -0.057143\n",
      "\u001b[32m[1118 15:54:13 @monitor.py:467]\u001b[0m GAN_loss/g_loss: -0.096355\n",
      "\u001b[32m[1118 15:54:13 @monitor.py:467]\u001b[0m GAN_loss/kl_div: 0.04363\n",
      "\u001b[32m[1118 15:54:13 @monitor.py:467]\u001b[0m QueueInput/queue_size: 50\n",
      "\u001b[32m[1118 15:54:13 @base.py:275]\u001b[0m Start Epoch 287 ...\n"
     ]
    },
    {
     "name": "stderr",
     "output_type": "stream",
     "text": [
      "\n",
      "100%|#####################################################################################|17/17[00:00<00:00,36.58it/s]"
     ]
    },
    {
     "name": "stdout",
     "output_type": "stream",
     "text": [
      "\u001b[32m[1118 15:54:13 @base.py:285]\u001b[0m Epoch 287 (global_step 7318) finished, time:0.465 second.\n",
      "\u001b[32m[1118 15:54:13 @saver.py:79]\u001b[0m Model saved to ../output/Chicago/TEST/model\\model-7318.\n",
      "\u001b[32m[1118 15:54:13 @monitor.py:467]\u001b[0m GAN_loss/d_loss: -0.058352\n",
      "\u001b[32m[1118 15:54:13 @monitor.py:467]\u001b[0m GAN_loss/g_loss: -0.094927\n",
      "\u001b[32m[1118 15:54:13 @monitor.py:467]\u001b[0m GAN_loss/kl_div: 0.04835\n",
      "\u001b[32m[1118 15:54:13 @monitor.py:467]\u001b[0m QueueInput/queue_size: 50\n",
      "\u001b[32m[1118 15:54:13 @base.py:275]\u001b[0m Start Epoch 288 ...\n"
     ]
    },
    {
     "name": "stderr",
     "output_type": "stream",
     "text": [
      "\n",
      "100%|#####################################################################################|17/17[00:00<00:00,38.42it/s]"
     ]
    },
    {
     "name": "stdout",
     "output_type": "stream",
     "text": [
      "\u001b[32m[1118 15:54:14 @base.py:285]\u001b[0m Epoch 288 (global_step 7343) finished, time:0.443 second.\n",
      "\u001b[32m[1118 15:54:14 @saver.py:79]\u001b[0m Model saved to ../output/Chicago/TEST/model\\model-7343.\n",
      "\u001b[32m[1118 15:54:14 @monitor.py:467]\u001b[0m GAN_loss/d_loss: -0.055956\n",
      "\u001b[32m[1118 15:54:14 @monitor.py:467]\u001b[0m GAN_loss/g_loss: -0.097305\n",
      "\u001b[32m[1118 15:54:14 @monitor.py:467]\u001b[0m GAN_loss/kl_div: 0.04701\n",
      "\u001b[32m[1118 15:54:14 @monitor.py:467]\u001b[0m QueueInput/queue_size: 50\n",
      "\u001b[32m[1118 15:54:14 @base.py:275]\u001b[0m Start Epoch 289 ...\n"
     ]
    },
    {
     "name": "stderr",
     "output_type": "stream",
     "text": [
      "\n",
      "100%|#####################################################################################|17/17[00:00<00:00,36.89it/s]"
     ]
    },
    {
     "name": "stdout",
     "output_type": "stream",
     "text": [
      "\u001b[32m[1118 15:54:14 @base.py:285]\u001b[0m Epoch 289 (global_step 7369) finished, time:0.461 second.\n",
      "\u001b[32m[1118 15:54:15 @saver.py:79]\u001b[0m Model saved to ../output/Chicago/TEST/model\\model-7369.\n",
      "\u001b[32m[1118 15:54:15 @monitor.py:467]\u001b[0m GAN_loss/d_loss: -0.057379\n",
      "\u001b[32m[1118 15:54:15 @monitor.py:467]\u001b[0m GAN_loss/g_loss: -0.096244\n",
      "\u001b[32m[1118 15:54:15 @monitor.py:467]\u001b[0m GAN_loss/kl_div: 0.046736\n",
      "\u001b[32m[1118 15:54:15 @monitor.py:467]\u001b[0m QueueInput/queue_size: 50\n",
      "\u001b[32m[1118 15:54:15 @base.py:275]\u001b[0m Start Epoch 290 ...\n"
     ]
    },
    {
     "name": "stderr",
     "output_type": "stream",
     "text": [
      "\n",
      "100%|#####################################################################################|17/17[00:00<00:00,38.48it/s]"
     ]
    },
    {
     "name": "stdout",
     "output_type": "stream",
     "text": [
      "\u001b[32m[1118 15:54:15 @base.py:285]\u001b[0m Epoch 290 (global_step 7394) finished, time:0.443 second.\n",
      "\u001b[32m[1118 15:54:15 @saver.py:79]\u001b[0m Model saved to ../output/Chicago/TEST/model\\model-7394.\n",
      "\u001b[32m[1118 15:54:15 @monitor.py:467]\u001b[0m GAN_loss/d_loss: -0.05707\n",
      "\u001b[32m[1118 15:54:15 @monitor.py:467]\u001b[0m GAN_loss/g_loss: -0.096345\n",
      "\u001b[32m[1118 15:54:15 @monitor.py:467]\u001b[0m GAN_loss/kl_div: 0.047786\n",
      "\u001b[32m[1118 15:54:15 @monitor.py:467]\u001b[0m QueueInput/queue_size: 50\n",
      "\u001b[32m[1118 15:54:15 @base.py:275]\u001b[0m Start Epoch 291 ...\n"
     ]
    },
    {
     "name": "stderr",
     "output_type": "stream",
     "text": [
      "\n",
      "100%|#####################################################################################|17/17[00:00<00:00,36.85it/s]"
     ]
    },
    {
     "name": "stdout",
     "output_type": "stream",
     "text": [
      "\u001b[32m[1118 15:54:16 @base.py:285]\u001b[0m Epoch 291 (global_step 7420) finished, time:0.462 second.\n",
      "\u001b[32m[1118 15:54:16 @saver.py:79]\u001b[0m Model saved to ../output/Chicago/TEST/model\\model-7420.\n",
      "\u001b[32m[1118 15:54:16 @monitor.py:467]\u001b[0m GAN_loss/d_loss: -0.057609\n",
      "\u001b[32m[1118 15:54:16 @monitor.py:467]\u001b[0m GAN_loss/g_loss: -0.094974\n",
      "\u001b[32m[1118 15:54:16 @monitor.py:467]\u001b[0m GAN_loss/kl_div: 0.045069\n",
      "\u001b[32m[1118 15:54:16 @monitor.py:467]\u001b[0m QueueInput/queue_size: 50\n",
      "\u001b[32m[1118 15:54:16 @base.py:275]\u001b[0m Start Epoch 292 ...\n"
     ]
    },
    {
     "name": "stderr",
     "output_type": "stream",
     "text": [
      "\n",
      "100%|#####################################################################################|17/17[00:00<00:00,38.21it/s]"
     ]
    },
    {
     "name": "stdout",
     "output_type": "stream",
     "text": [
      "\u001b[32m[1118 15:54:16 @base.py:285]\u001b[0m Epoch 292 (global_step 7445) finished, time:0.445 second.\n",
      "\u001b[32m[1118 15:54:16 @saver.py:79]\u001b[0m Model saved to ../output/Chicago/TEST/model\\model-7445.\n",
      "\u001b[32m[1118 15:54:16 @monitor.py:467]\u001b[0m GAN_loss/d_loss: -0.056929\n",
      "\u001b[32m[1118 15:54:16 @monitor.py:467]\u001b[0m GAN_loss/g_loss: -0.096274\n",
      "\u001b[32m[1118 15:54:16 @monitor.py:467]\u001b[0m GAN_loss/kl_div: 0.045632\n",
      "\u001b[32m[1118 15:54:16 @monitor.py:467]\u001b[0m QueueInput/queue_size: 50\n",
      "\u001b[32m[1118 15:54:16 @base.py:275]\u001b[0m Start Epoch 293 ...\n"
     ]
    },
    {
     "name": "stderr",
     "output_type": "stream",
     "text": [
      "\n",
      "100%|#####################################################################################|17/17[00:00<00:00,37.13it/s]"
     ]
    },
    {
     "name": "stdout",
     "output_type": "stream",
     "text": [
      "\u001b[32m[1118 15:54:17 @base.py:285]\u001b[0m Epoch 293 (global_step 7471) finished, time:0.458 second.\n",
      "\u001b[32m[1118 15:54:17 @saver.py:79]\u001b[0m Model saved to ../output/Chicago/TEST/model\\model-7471.\n",
      "\u001b[32m[1118 15:54:17 @monitor.py:467]\u001b[0m GAN_loss/d_loss: -0.057582\n",
      "\u001b[32m[1118 15:54:17 @monitor.py:467]\u001b[0m GAN_loss/g_loss: -0.095509\n",
      "\u001b[32m[1118 15:54:17 @monitor.py:467]\u001b[0m GAN_loss/kl_div: 0.045139\n",
      "\u001b[32m[1118 15:54:17 @monitor.py:467]\u001b[0m QueueInput/queue_size: 50\n",
      "\u001b[32m[1118 15:54:17 @base.py:275]\u001b[0m Start Epoch 294 ...\n"
     ]
    },
    {
     "name": "stderr",
     "output_type": "stream",
     "text": [
      "\n",
      "100%|#####################################################################################|17/17[00:00<00:00,38.12it/s]"
     ]
    },
    {
     "name": "stdout",
     "output_type": "stream",
     "text": [
      "\u001b[32m[1118 15:54:17 @base.py:285]\u001b[0m Epoch 294 (global_step 7496) finished, time:0.446 second.\n",
      "\u001b[32m[1118 15:54:17 @saver.py:79]\u001b[0m Model saved to ../output/Chicago/TEST/model\\model-7496.\n",
      "\u001b[32m[1118 15:54:17 @monitor.py:467]\u001b[0m GAN_loss/d_loss: -0.056369\n",
      "\u001b[32m[1118 15:54:17 @monitor.py:467]\u001b[0m GAN_loss/g_loss: -0.096812\n",
      "\u001b[32m[1118 15:54:17 @monitor.py:467]\u001b[0m GAN_loss/kl_div: 0.048568\n",
      "\u001b[32m[1118 15:54:17 @monitor.py:467]\u001b[0m QueueInput/queue_size: 50\n",
      "\u001b[32m[1118 15:54:17 @base.py:275]\u001b[0m Start Epoch 295 ...\n"
     ]
    },
    {
     "name": "stderr",
     "output_type": "stream",
     "text": [
      "\n",
      "100%|#####################################################################################|17/17[00:00<00:00,37.05it/s]"
     ]
    },
    {
     "name": "stdout",
     "output_type": "stream",
     "text": [
      "\u001b[32m[1118 15:54:18 @base.py:285]\u001b[0m Epoch 295 (global_step 7522) finished, time:0.459 second.\n",
      "\u001b[32m[1118 15:54:18 @saver.py:79]\u001b[0m Model saved to ../output/Chicago/TEST/model\\model-7522.\n",
      "\u001b[32m[1118 15:54:18 @monitor.py:467]\u001b[0m GAN_loss/d_loss: -0.05613\n",
      "\u001b[32m[1118 15:54:18 @monitor.py:467]\u001b[0m GAN_loss/g_loss: -0.096633\n",
      "\u001b[32m[1118 15:54:18 @monitor.py:467]\u001b[0m GAN_loss/kl_div: 0.045329\n",
      "\u001b[32m[1118 15:54:18 @monitor.py:467]\u001b[0m QueueInput/queue_size: 50\n",
      "\u001b[32m[1118 15:54:18 @base.py:275]\u001b[0m Start Epoch 296 ...\n"
     ]
    },
    {
     "name": "stderr",
     "output_type": "stream",
     "text": [
      "\n",
      "100%|#####################################################################################|17/17[00:00<00:00,38.34it/s]"
     ]
    },
    {
     "name": "stdout",
     "output_type": "stream",
     "text": [
      "\u001b[32m[1118 15:54:19 @base.py:285]\u001b[0m Epoch 296 (global_step 7547) finished, time:0.444 second.\n",
      "\u001b[32m[1118 15:54:19 @saver.py:79]\u001b[0m Model saved to ../output/Chicago/TEST/model\\model-7547.\n",
      "\u001b[32m[1118 15:54:19 @monitor.py:467]\u001b[0m GAN_loss/d_loss: -0.056387\n",
      "\u001b[32m[1118 15:54:19 @monitor.py:467]\u001b[0m GAN_loss/g_loss: -0.096523\n",
      "\u001b[32m[1118 15:54:19 @monitor.py:467]\u001b[0m GAN_loss/kl_div: 0.04684\n",
      "\u001b[32m[1118 15:54:19 @monitor.py:467]\u001b[0m QueueInput/queue_size: 50\n",
      "\u001b[32m[1118 15:54:19 @base.py:275]\u001b[0m Start Epoch 297 ...\n"
     ]
    },
    {
     "name": "stderr",
     "output_type": "stream",
     "text": [
      "\n",
      "100%|#####################################################################################|17/17[00:00<00:00,36.81it/s]"
     ]
    },
    {
     "name": "stdout",
     "output_type": "stream",
     "text": [
      "\u001b[32m[1118 15:54:19 @base.py:285]\u001b[0m Epoch 297 (global_step 7573) finished, time:0.462 second.\n",
      "\u001b[32m[1118 15:54:19 @saver.py:79]\u001b[0m Model saved to ../output/Chicago/TEST/model\\model-7573.\n",
      "\u001b[32m[1118 15:54:19 @monitor.py:467]\u001b[0m GAN_loss/d_loss: -0.055749\n",
      "\u001b[32m[1118 15:54:19 @monitor.py:467]\u001b[0m GAN_loss/g_loss: -0.097349\n",
      "\u001b[32m[1118 15:54:19 @monitor.py:467]\u001b[0m GAN_loss/kl_div: 0.046328\n",
      "\u001b[32m[1118 15:54:19 @monitor.py:467]\u001b[0m QueueInput/queue_size: 50\n",
      "\u001b[32m[1118 15:54:19 @base.py:275]\u001b[0m Start Epoch 298 ...\n"
     ]
    },
    {
     "name": "stderr",
     "output_type": "stream",
     "text": [
      "\n",
      "100%|#####################################################################################|17/17[00:00<00:00,38.25it/s]"
     ]
    },
    {
     "name": "stdout",
     "output_type": "stream",
     "text": [
      "\u001b[32m[1118 15:54:20 @base.py:285]\u001b[0m Epoch 298 (global_step 7598) finished, time:0.445 second.\n",
      "\u001b[32m[1118 15:54:20 @saver.py:79]\u001b[0m Model saved to ../output/Chicago/TEST/model\\model-7598.\n",
      "\u001b[32m[1118 15:54:20 @monitor.py:467]\u001b[0m GAN_loss/d_loss: -0.05675\n",
      "\u001b[32m[1118 15:54:20 @monitor.py:467]\u001b[0m GAN_loss/g_loss: -0.097695\n",
      "\u001b[32m[1118 15:54:20 @monitor.py:467]\u001b[0m GAN_loss/kl_div: 0.046427\n",
      "\u001b[32m[1118 15:54:20 @monitor.py:467]\u001b[0m QueueInput/queue_size: 50\n",
      "\u001b[32m[1118 15:54:20 @base.py:275]\u001b[0m Start Epoch 299 ...\n"
     ]
    },
    {
     "name": "stderr",
     "output_type": "stream",
     "text": [
      "\n",
      "100%|#####################################################################################|17/17[00:00<00:00,37.09it/s]"
     ]
    },
    {
     "name": "stdout",
     "output_type": "stream",
     "text": [
      "\u001b[32m[1118 15:54:20 @base.py:285]\u001b[0m Epoch 299 (global_step 7624) finished, time:0.459 second.\n",
      "\u001b[32m[1118 15:54:20 @saver.py:79]\u001b[0m Model saved to ../output/Chicago/TEST/model\\model-7624.\n",
      "\u001b[32m[1118 15:54:20 @monitor.py:467]\u001b[0m GAN_loss/d_loss: -0.055822\n",
      "\u001b[32m[1118 15:54:20 @monitor.py:467]\u001b[0m GAN_loss/g_loss: -0.097981\n",
      "\u001b[32m[1118 15:54:20 @monitor.py:467]\u001b[0m GAN_loss/kl_div: 0.045946\n",
      "\u001b[32m[1118 15:54:20 @monitor.py:467]\u001b[0m QueueInput/queue_size: 50\n",
      "\u001b[32m[1118 15:54:20 @base.py:275]\u001b[0m Start Epoch 300 ...\n"
     ]
    },
    {
     "name": "stderr",
     "output_type": "stream",
     "text": [
      "\n",
      "100%|#####################################################################################|17/17[00:00<00:00,38.25it/s]"
     ]
    },
    {
     "name": "stdout",
     "output_type": "stream",
     "text": [
      "\u001b[32m[1118 15:54:21 @base.py:285]\u001b[0m Epoch 300 (global_step 7649) finished, time:0.445 second.\n",
      "\u001b[32m[1118 15:54:21 @saver.py:79]\u001b[0m Model saved to ../output/Chicago/TEST/model\\model-7649.\n",
      "\u001b[32m[1118 15:54:21 @monitor.py:467]\u001b[0m GAN_loss/d_loss: -0.055558\n",
      "\u001b[32m[1118 15:54:21 @monitor.py:467]\u001b[0m GAN_loss/g_loss: -0.09845\n",
      "\u001b[32m[1118 15:54:21 @monitor.py:467]\u001b[0m GAN_loss/kl_div: 0.043831\n",
      "\u001b[32m[1118 15:54:21 @monitor.py:467]\u001b[0m QueueInput/queue_size: 50\n",
      "\u001b[32m[1118 15:54:21 @base.py:275]\u001b[0m Start Epoch 301 ...\n"
     ]
    },
    {
     "name": "stderr",
     "output_type": "stream",
     "text": [
      "\n",
      "100%|#####################################################################################|17/17[00:00<00:00,37.01it/s]"
     ]
    },
    {
     "name": "stdout",
     "output_type": "stream",
     "text": [
      "\u001b[32m[1118 15:54:22 @base.py:285]\u001b[0m Epoch 301 (global_step 7675) finished, time:0.46 second.\n",
      "\u001b[32m[1118 15:54:22 @saver.py:79]\u001b[0m Model saved to ../output/Chicago/TEST/model\\model-7675.\n",
      "\u001b[32m[1118 15:54:22 @monitor.py:467]\u001b[0m GAN_loss/d_loss: -0.0563\n",
      "\u001b[32m[1118 15:54:22 @monitor.py:467]\u001b[0m GAN_loss/g_loss: -0.098776\n",
      "\u001b[32m[1118 15:54:22 @monitor.py:467]\u001b[0m GAN_loss/kl_div: 0.046537\n",
      "\u001b[32m[1118 15:54:22 @monitor.py:467]\u001b[0m QueueInput/queue_size: 50\n",
      "\u001b[32m[1118 15:54:22 @base.py:275]\u001b[0m Start Epoch 302 ...\n"
     ]
    },
    {
     "name": "stderr",
     "output_type": "stream",
     "text": [
      "\n",
      "100%|#####################################################################################|17/17[00:00<00:00,38.17it/s]"
     ]
    },
    {
     "name": "stdout",
     "output_type": "stream",
     "text": [
      "\u001b[32m[1118 15:54:22 @base.py:285]\u001b[0m Epoch 302 (global_step 7700) finished, time:0.446 second.\n",
      "\u001b[32m[1118 15:54:22 @saver.py:79]\u001b[0m Model saved to ../output/Chicago/TEST/model\\model-7700.\n",
      "\u001b[32m[1118 15:54:22 @monitor.py:467]\u001b[0m GAN_loss/d_loss: -0.055685\n",
      "\u001b[32m[1118 15:54:22 @monitor.py:467]\u001b[0m GAN_loss/g_loss: -0.098724\n",
      "\u001b[32m[1118 15:54:22 @monitor.py:467]\u001b[0m GAN_loss/kl_div: 0.048724\n",
      "\u001b[32m[1118 15:54:22 @monitor.py:467]\u001b[0m QueueInput/queue_size: 50\n",
      "\u001b[32m[1118 15:54:22 @base.py:275]\u001b[0m Start Epoch 303 ...\n"
     ]
    },
    {
     "name": "stderr",
     "output_type": "stream",
     "text": [
      "\n",
      "100%|#####################################################################################|17/17[00:00<00:00,37.01it/s]"
     ]
    },
    {
     "name": "stdout",
     "output_type": "stream",
     "text": [
      "\u001b[32m[1118 15:54:23 @base.py:285]\u001b[0m Epoch 303 (global_step 7726) finished, time:0.46 second.\n",
      "\u001b[32m[1118 15:54:23 @saver.py:79]\u001b[0m Model saved to ../output/Chicago/TEST/model\\model-7726.\n",
      "\u001b[32m[1118 15:54:23 @monitor.py:467]\u001b[0m GAN_loss/d_loss: -0.055213\n",
      "\u001b[32m[1118 15:54:23 @monitor.py:467]\u001b[0m GAN_loss/g_loss: -0.098539\n",
      "\u001b[32m[1118 15:54:23 @monitor.py:467]\u001b[0m GAN_loss/kl_div: 0.045352\n",
      "\u001b[32m[1118 15:54:23 @monitor.py:467]\u001b[0m QueueInput/queue_size: 50\n",
      "\u001b[32m[1118 15:54:23 @base.py:275]\u001b[0m Start Epoch 304 ...\n"
     ]
    },
    {
     "name": "stderr",
     "output_type": "stream",
     "text": [
      "\n",
      "100%|#####################################################################################|17/17[00:00<00:00,38.21it/s]"
     ]
    },
    {
     "name": "stdout",
     "output_type": "stream",
     "text": [
      "\u001b[32m[1118 15:54:23 @base.py:285]\u001b[0m Epoch 304 (global_step 7751) finished, time:0.445 second.\n",
      "\u001b[32m[1118 15:54:23 @saver.py:79]\u001b[0m Model saved to ../output/Chicago/TEST/model\\model-7751.\n",
      "\u001b[32m[1118 15:54:23 @monitor.py:467]\u001b[0m GAN_loss/d_loss: -0.055468\n",
      "\u001b[32m[1118 15:54:23 @monitor.py:467]\u001b[0m GAN_loss/g_loss: -0.099289\n",
      "\u001b[32m[1118 15:54:23 @monitor.py:467]\u001b[0m GAN_loss/kl_div: 0.044557\n",
      "\u001b[32m[1118 15:54:23 @monitor.py:467]\u001b[0m QueueInput/queue_size: 50\n",
      "\u001b[32m[1118 15:54:23 @base.py:275]\u001b[0m Start Epoch 305 ...\n"
     ]
    },
    {
     "name": "stderr",
     "output_type": "stream",
     "text": [
      "\n",
      "100%|#####################################################################################|17/17[00:00<00:00,37.01it/s]"
     ]
    },
    {
     "name": "stdout",
     "output_type": "stream",
     "text": [
      "\u001b[32m[1118 15:54:24 @base.py:285]\u001b[0m Epoch 305 (global_step 7777) finished, time:0.46 second.\n",
      "\u001b[32m[1118 15:54:24 @saver.py:79]\u001b[0m Model saved to ../output/Chicago/TEST/model\\model-7777.\n",
      "\u001b[32m[1118 15:54:24 @monitor.py:467]\u001b[0m GAN_loss/d_loss: -0.054716\n",
      "\u001b[32m[1118 15:54:24 @monitor.py:467]\u001b[0m GAN_loss/g_loss: -0.099324\n",
      "\u001b[32m[1118 15:54:24 @monitor.py:467]\u001b[0m GAN_loss/kl_div: 0.046582\n",
      "\u001b[32m[1118 15:54:24 @monitor.py:467]\u001b[0m QueueInput/queue_size: 50\n",
      "\u001b[32m[1118 15:54:24 @base.py:275]\u001b[0m Start Epoch 306 ...\n"
     ]
    },
    {
     "name": "stderr",
     "output_type": "stream",
     "text": [
      "\n",
      "100%|#####################################################################################|17/17[00:00<00:00,37.66it/s]"
     ]
    },
    {
     "name": "stdout",
     "output_type": "stream",
     "text": [
      "\u001b[32m[1118 15:54:24 @base.py:285]\u001b[0m Epoch 306 (global_step 7802) finished, time:0.452 second.\n",
      "\u001b[32m[1118 15:54:25 @saver.py:79]\u001b[0m Model saved to ../output/Chicago/TEST/model\\model-7802.\n",
      "\u001b[32m[1118 15:54:25 @monitor.py:467]\u001b[0m GAN_loss/d_loss: -0.054932\n",
      "\u001b[32m[1118 15:54:25 @monitor.py:467]\u001b[0m GAN_loss/g_loss: -0.099069\n",
      "\u001b[32m[1118 15:54:25 @monitor.py:467]\u001b[0m GAN_loss/kl_div: 0.047171\n",
      "\u001b[32m[1118 15:54:25 @monitor.py:467]\u001b[0m QueueInput/queue_size: 50\n",
      "\u001b[32m[1118 15:54:25 @base.py:275]\u001b[0m Start Epoch 307 ...\n"
     ]
    },
    {
     "name": "stderr",
     "output_type": "stream",
     "text": [
      "\n",
      "100%|#####################################################################################|17/17[00:00<00:00,36.85it/s]"
     ]
    },
    {
     "name": "stdout",
     "output_type": "stream",
     "text": [
      "\u001b[32m[1118 15:54:25 @base.py:285]\u001b[0m Epoch 307 (global_step 7828) finished, time:0.462 second.\n",
      "\u001b[32m[1118 15:54:25 @saver.py:79]\u001b[0m Model saved to ../output/Chicago/TEST/model\\model-7828.\n",
      "\u001b[32m[1118 15:54:25 @monitor.py:467]\u001b[0m GAN_loss/d_loss: -0.05473\n",
      "\u001b[32m[1118 15:54:25 @monitor.py:467]\u001b[0m GAN_loss/g_loss: -0.09909\n",
      "\u001b[32m[1118 15:54:25 @monitor.py:467]\u001b[0m GAN_loss/kl_div: 0.047743\n",
      "\u001b[32m[1118 15:54:25 @monitor.py:467]\u001b[0m QueueInput/queue_size: 50\n",
      "\u001b[32m[1118 15:54:25 @base.py:275]\u001b[0m Start Epoch 308 ...\n"
     ]
    },
    {
     "name": "stderr",
     "output_type": "stream",
     "text": [
      "\n",
      "100%|#####################################################################################|17/17[00:00<00:00,38.00it/s]"
     ]
    },
    {
     "name": "stdout",
     "output_type": "stream",
     "text": [
      "\u001b[32m[1118 15:54:26 @base.py:285]\u001b[0m Epoch 308 (global_step 7853) finished, time:0.448 second.\n",
      "\u001b[32m[1118 15:54:26 @saver.py:79]\u001b[0m Model saved to ../output/Chicago/TEST/model\\model-7853.\n",
      "\u001b[32m[1118 15:54:26 @monitor.py:467]\u001b[0m GAN_loss/d_loss: -0.053869\n",
      "\u001b[32m[1118 15:54:26 @monitor.py:467]\u001b[0m GAN_loss/g_loss: -0.098968\n",
      "\u001b[32m[1118 15:54:26 @monitor.py:467]\u001b[0m GAN_loss/kl_div: 0.047995\n",
      "\u001b[32m[1118 15:54:26 @monitor.py:467]\u001b[0m QueueInput/queue_size: 50\n",
      "\u001b[32m[1118 15:54:26 @base.py:275]\u001b[0m Start Epoch 309 ...\n"
     ]
    },
    {
     "name": "stderr",
     "output_type": "stream",
     "text": [
      "\n",
      "100%|#####################################################################################|17/17[00:00<00:00,37.13it/s]"
     ]
    },
    {
     "name": "stdout",
     "output_type": "stream",
     "text": [
      "\u001b[32m[1118 15:54:26 @base.py:285]\u001b[0m Epoch 309 (global_step 7879) finished, time:0.458 second.\n",
      "\u001b[32m[1118 15:54:26 @saver.py:79]\u001b[0m Model saved to ../output/Chicago/TEST/model\\model-7879.\n",
      "\u001b[32m[1118 15:54:26 @monitor.py:467]\u001b[0m GAN_loss/d_loss: -0.054465\n",
      "\u001b[32m[1118 15:54:26 @monitor.py:467]\u001b[0m GAN_loss/g_loss: -0.099354\n",
      "\u001b[32m[1118 15:54:26 @monitor.py:467]\u001b[0m GAN_loss/kl_div: 0.046349\n",
      "\u001b[32m[1118 15:54:26 @monitor.py:467]\u001b[0m QueueInput/queue_size: 50\n",
      "\u001b[32m[1118 15:54:26 @base.py:275]\u001b[0m Start Epoch 310 ...\n"
     ]
    },
    {
     "name": "stderr",
     "output_type": "stream",
     "text": [
      "\n",
      "100%|#####################################################################################|17/17[00:00<00:00,38.17it/s]"
     ]
    },
    {
     "name": "stdout",
     "output_type": "stream",
     "text": [
      "\u001b[32m[1118 15:54:27 @base.py:285]\u001b[0m Epoch 310 (global_step 7904) finished, time:0.446 second.\n",
      "\u001b[32m[1118 15:54:27 @saver.py:79]\u001b[0m Model saved to ../output/Chicago/TEST/model\\model-7904.\n",
      "\u001b[32m[1118 15:54:27 @monitor.py:467]\u001b[0m GAN_loss/d_loss: -0.053258\n",
      "\u001b[32m[1118 15:54:27 @monitor.py:467]\u001b[0m GAN_loss/g_loss: -0.098818\n",
      "\u001b[32m[1118 15:54:27 @monitor.py:467]\u001b[0m GAN_loss/kl_div: 0.046658\n",
      "\u001b[32m[1118 15:54:27 @monitor.py:467]\u001b[0m QueueInput/queue_size: 50\n",
      "\u001b[32m[1118 15:54:27 @base.py:275]\u001b[0m Start Epoch 311 ...\n"
     ]
    },
    {
     "name": "stderr",
     "output_type": "stream",
     "text": [
      "\n",
      "100%|#####################################################################################|17/17[00:00<00:00,37.09it/s]"
     ]
    },
    {
     "name": "stdout",
     "output_type": "stream",
     "text": [
      "\u001b[32m[1118 15:54:27 @base.py:285]\u001b[0m Epoch 311 (global_step 7930) finished, time:0.459 second.\n",
      "\u001b[32m[1118 15:54:28 @saver.py:79]\u001b[0m Model saved to ../output/Chicago/TEST/model\\model-7930.\n",
      "\u001b[32m[1118 15:54:28 @monitor.py:467]\u001b[0m GAN_loss/d_loss: -0.054235\n",
      "\u001b[32m[1118 15:54:28 @monitor.py:467]\u001b[0m GAN_loss/g_loss: -0.098827\n",
      "\u001b[32m[1118 15:54:28 @monitor.py:467]\u001b[0m GAN_loss/kl_div: 0.045736\n",
      "\u001b[32m[1118 15:54:28 @monitor.py:467]\u001b[0m QueueInput/queue_size: 50\n",
      "\u001b[32m[1118 15:54:28 @base.py:275]\u001b[0m Start Epoch 312 ...\n"
     ]
    },
    {
     "name": "stderr",
     "output_type": "stream",
     "text": [
      "\n",
      "100%|#####################################################################################|17/17[00:00<00:00,38.21it/s]"
     ]
    },
    {
     "name": "stdout",
     "output_type": "stream",
     "text": [
      "\u001b[32m[1118 15:54:28 @base.py:285]\u001b[0m Epoch 312 (global_step 7955) finished, time:0.445 second.\n",
      "\u001b[32m[1118 15:54:28 @saver.py:79]\u001b[0m Model saved to ../output/Chicago/TEST/model\\model-7955.\n",
      "\u001b[32m[1118 15:54:28 @monitor.py:467]\u001b[0m GAN_loss/d_loss: -0.053449\n",
      "\u001b[32m[1118 15:54:28 @monitor.py:467]\u001b[0m GAN_loss/g_loss: -0.098746\n",
      "\u001b[32m[1118 15:54:28 @monitor.py:467]\u001b[0m GAN_loss/kl_div: 0.049102\n",
      "\u001b[32m[1118 15:54:28 @monitor.py:467]\u001b[0m QueueInput/queue_size: 50\n",
      "\u001b[32m[1118 15:54:28 @base.py:275]\u001b[0m Start Epoch 313 ...\n"
     ]
    },
    {
     "name": "stderr",
     "output_type": "stream",
     "text": [
      "\n",
      "100%|#####################################################################################|17/17[00:00<00:00,36.97it/s]"
     ]
    },
    {
     "name": "stdout",
     "output_type": "stream",
     "text": [
      "\u001b[32m[1118 15:54:29 @base.py:285]\u001b[0m Epoch 313 (global_step 7981) finished, time:0.46 second.\n",
      "\u001b[32m[1118 15:54:29 @saver.py:79]\u001b[0m Model saved to ../output/Chicago/TEST/model\\model-7981.\n",
      "\u001b[32m[1118 15:54:29 @monitor.py:467]\u001b[0m GAN_loss/d_loss: -0.054922\n",
      "\u001b[32m[1118 15:54:29 @monitor.py:467]\u001b[0m GAN_loss/g_loss: -0.097932\n",
      "\u001b[32m[1118 15:54:29 @monitor.py:467]\u001b[0m GAN_loss/kl_div: 0.046491\n",
      "\u001b[32m[1118 15:54:29 @monitor.py:467]\u001b[0m QueueInput/queue_size: 50\n",
      "\u001b[32m[1118 15:54:29 @base.py:275]\u001b[0m Start Epoch 314 ...\n"
     ]
    },
    {
     "name": "stderr",
     "output_type": "stream",
     "text": [
      "\n",
      "100%|#####################################################################################|17/17[00:00<00:00,38.21it/s]"
     ]
    },
    {
     "name": "stdout",
     "output_type": "stream",
     "text": [
      "\u001b[32m[1118 15:54:29 @base.py:285]\u001b[0m Epoch 314 (global_step 8006) finished, time:0.445 second.\n",
      "\u001b[32m[1118 15:54:29 @saver.py:79]\u001b[0m Model saved to ../output/Chicago/TEST/model\\model-8006.\n",
      "\u001b[32m[1118 15:54:29 @monitor.py:467]\u001b[0m GAN_loss/d_loss: -0.053816\n",
      "\u001b[32m[1118 15:54:29 @monitor.py:467]\u001b[0m GAN_loss/g_loss: -0.099452\n",
      "\u001b[32m[1118 15:54:29 @monitor.py:467]\u001b[0m GAN_loss/kl_div: 0.050437\n",
      "\u001b[32m[1118 15:54:29 @monitor.py:467]\u001b[0m QueueInput/queue_size: 50\n",
      "\u001b[32m[1118 15:54:29 @base.py:275]\u001b[0m Start Epoch 315 ...\n"
     ]
    },
    {
     "name": "stderr",
     "output_type": "stream",
     "text": [
      "\n",
      "100%|#####################################################################################|17/17[00:00<00:00,37.05it/s]"
     ]
    },
    {
     "name": "stdout",
     "output_type": "stream",
     "text": [
      "\u001b[32m[1118 15:54:30 @base.py:285]\u001b[0m Epoch 315 (global_step 8032) finished, time:0.459 second.\n",
      "\u001b[32m[1118 15:54:30 @saver.py:79]\u001b[0m Model saved to ../output/Chicago/TEST/model\\model-8032.\n",
      "\u001b[32m[1118 15:54:30 @monitor.py:467]\u001b[0m GAN_loss/d_loss: -0.053533\n",
      "\u001b[32m[1118 15:54:30 @monitor.py:467]\u001b[0m GAN_loss/g_loss: -0.099923\n",
      "\u001b[32m[1118 15:54:30 @monitor.py:467]\u001b[0m GAN_loss/kl_div: 0.044037\n",
      "\u001b[32m[1118 15:54:30 @monitor.py:467]\u001b[0m QueueInput/queue_size: 50\n",
      "\u001b[32m[1118 15:54:30 @base.py:275]\u001b[0m Start Epoch 316 ...\n"
     ]
    },
    {
     "name": "stderr",
     "output_type": "stream",
     "text": [
      "\n",
      "100%|#####################################################################################|17/17[00:00<00:00,38.30it/s]"
     ]
    },
    {
     "name": "stdout",
     "output_type": "stream",
     "text": [
      "\u001b[32m[1118 15:54:30 @base.py:285]\u001b[0m Epoch 316 (global_step 8057) finished, time:0.444 second.\n",
      "\u001b[32m[1118 15:54:31 @saver.py:79]\u001b[0m Model saved to ../output/Chicago/TEST/model\\model-8057.\n",
      "\u001b[32m[1118 15:54:31 @monitor.py:467]\u001b[0m GAN_loss/d_loss: -0.052527\n",
      "\u001b[32m[1118 15:54:31 @monitor.py:467]\u001b[0m GAN_loss/g_loss: -0.099754\n",
      "\u001b[32m[1118 15:54:31 @monitor.py:467]\u001b[0m GAN_loss/kl_div: 0.045194\n",
      "\u001b[32m[1118 15:54:31 @monitor.py:467]\u001b[0m QueueInput/queue_size: 50\n",
      "\u001b[32m[1118 15:54:31 @base.py:275]\u001b[0m Start Epoch 317 ...\n"
     ]
    },
    {
     "name": "stderr",
     "output_type": "stream",
     "text": [
      "\n",
      "100%|#####################################################################################|17/17[00:00<00:00,36.97it/s]"
     ]
    },
    {
     "name": "stdout",
     "output_type": "stream",
     "text": [
      "\u001b[32m[1118 15:54:31 @base.py:285]\u001b[0m Epoch 317 (global_step 8083) finished, time:0.46 second.\n",
      "\u001b[32m[1118 15:54:31 @saver.py:79]\u001b[0m Model saved to ../output/Chicago/TEST/model\\model-8083.\n",
      "\u001b[32m[1118 15:54:31 @monitor.py:467]\u001b[0m GAN_loss/d_loss: -0.05271\n",
      "\u001b[32m[1118 15:54:31 @monitor.py:467]\u001b[0m GAN_loss/g_loss: -0.099501\n",
      "\u001b[32m[1118 15:54:31 @monitor.py:467]\u001b[0m GAN_loss/kl_div: 0.047448\n",
      "\u001b[32m[1118 15:54:31 @monitor.py:467]\u001b[0m QueueInput/queue_size: 50\n",
      "\u001b[32m[1118 15:54:31 @base.py:275]\u001b[0m Start Epoch 318 ...\n"
     ]
    },
    {
     "name": "stderr",
     "output_type": "stream",
     "text": [
      "\n",
      "100%|#####################################################################################|17/17[00:00<00:00,38.17it/s]"
     ]
    },
    {
     "name": "stdout",
     "output_type": "stream",
     "text": [
      "\u001b[32m[1118 15:54:32 @base.py:285]\u001b[0m Epoch 318 (global_step 8108) finished, time:0.446 second.\n",
      "\u001b[32m[1118 15:54:32 @saver.py:79]\u001b[0m Model saved to ../output/Chicago/TEST/model\\model-8108.\n",
      "\u001b[32m[1118 15:54:32 @monitor.py:467]\u001b[0m GAN_loss/d_loss: -0.053266\n",
      "\u001b[32m[1118 15:54:32 @monitor.py:467]\u001b[0m GAN_loss/g_loss: -0.09968\n",
      "\u001b[32m[1118 15:54:32 @monitor.py:467]\u001b[0m GAN_loss/kl_div: 0.047986\n",
      "\u001b[32m[1118 15:54:32 @monitor.py:467]\u001b[0m QueueInput/queue_size: 50\n",
      "\u001b[32m[1118 15:54:32 @base.py:275]\u001b[0m Start Epoch 319 ...\n"
     ]
    },
    {
     "name": "stderr",
     "output_type": "stream",
     "text": [
      "\n",
      "100%|#####################################################################################|17/17[00:00<00:00,36.81it/s]"
     ]
    },
    {
     "name": "stdout",
     "output_type": "stream",
     "text": [
      "\u001b[32m[1118 15:54:32 @base.py:285]\u001b[0m Epoch 319 (global_step 8134) finished, time:0.462 second.\n",
      "\u001b[32m[1118 15:54:32 @saver.py:79]\u001b[0m Model saved to ../output/Chicago/TEST/model\\model-8134.\n",
      "\u001b[32m[1118 15:54:32 @monitor.py:467]\u001b[0m GAN_loss/d_loss: -0.052448\n",
      "\u001b[32m[1118 15:54:32 @monitor.py:467]\u001b[0m GAN_loss/g_loss: -0.1005\n",
      "\u001b[32m[1118 15:54:32 @monitor.py:467]\u001b[0m GAN_loss/kl_div: 0.043907\n",
      "\u001b[32m[1118 15:54:32 @monitor.py:467]\u001b[0m QueueInput/queue_size: 50\n",
      "\u001b[32m[1118 15:54:32 @base.py:275]\u001b[0m Start Epoch 320 ...\n"
     ]
    },
    {
     "name": "stderr",
     "output_type": "stream",
     "text": [
      "\n",
      "100%|#####################################################################################|17/17[00:00<00:00,38.34it/s]"
     ]
    },
    {
     "name": "stdout",
     "output_type": "stream",
     "text": [
      "\u001b[32m[1118 15:54:33 @base.py:285]\u001b[0m Epoch 320 (global_step 8159) finished, time:0.444 second.\n",
      "\u001b[32m[1118 15:54:33 @saver.py:79]\u001b[0m Model saved to ../output/Chicago/TEST/model\\model-8159.\n",
      "\u001b[32m[1118 15:54:33 @monitor.py:467]\u001b[0m GAN_loss/d_loss: -0.052574\n",
      "\u001b[32m[1118 15:54:33 @monitor.py:467]\u001b[0m GAN_loss/g_loss: -0.099548\n",
      "\u001b[32m[1118 15:54:33 @monitor.py:467]\u001b[0m GAN_loss/kl_div: 0.04798\n",
      "\u001b[32m[1118 15:54:33 @monitor.py:467]\u001b[0m QueueInput/queue_size: 50\n",
      "\u001b[32m[1118 15:54:33 @base.py:275]\u001b[0m Start Epoch 321 ...\n"
     ]
    },
    {
     "name": "stderr",
     "output_type": "stream",
     "text": [
      "\n",
      "100%|#####################################################################################|17/17[00:00<00:00,37.09it/s]"
     ]
    },
    {
     "name": "stdout",
     "output_type": "stream",
     "text": [
      "\u001b[32m[1118 15:54:33 @base.py:285]\u001b[0m Epoch 321 (global_step 8185) finished, time:0.459 second.\n",
      "\u001b[32m[1118 15:54:34 @saver.py:79]\u001b[0m Model saved to ../output/Chicago/TEST/model\\model-8185.\n",
      "\u001b[32m[1118 15:54:34 @monitor.py:467]\u001b[0m GAN_loss/d_loss: -0.052337\n",
      "\u001b[32m[1118 15:54:34 @monitor.py:467]\u001b[0m GAN_loss/g_loss: -0.099114\n",
      "\u001b[32m[1118 15:54:34 @monitor.py:467]\u001b[0m GAN_loss/kl_div: 0.044406\n",
      "\u001b[32m[1118 15:54:34 @monitor.py:467]\u001b[0m QueueInput/queue_size: 50\n",
      "\u001b[32m[1118 15:54:34 @base.py:275]\u001b[0m Start Epoch 322 ...\n"
     ]
    },
    {
     "name": "stderr",
     "output_type": "stream",
     "text": [
      "\n",
      "100%|#####################################################################################|17/17[00:00<00:00,38.34it/s]"
     ]
    },
    {
     "name": "stdout",
     "output_type": "stream",
     "text": [
      "\u001b[32m[1118 15:54:34 @base.py:285]\u001b[0m Epoch 322 (global_step 8210) finished, time:0.444 second.\n",
      "\u001b[32m[1118 15:54:34 @saver.py:79]\u001b[0m Model saved to ../output/Chicago/TEST/model\\model-8210.\n",
      "\u001b[32m[1118 15:54:34 @monitor.py:467]\u001b[0m GAN_loss/d_loss: -0.052147\n",
      "\u001b[32m[1118 15:54:34 @monitor.py:467]\u001b[0m GAN_loss/g_loss: -0.10017\n",
      "\u001b[32m[1118 15:54:34 @monitor.py:467]\u001b[0m GAN_loss/kl_div: 0.043987\n",
      "\u001b[32m[1118 15:54:34 @monitor.py:467]\u001b[0m QueueInput/queue_size: 50\n",
      "\u001b[32m[1118 15:54:34 @base.py:275]\u001b[0m Start Epoch 323 ...\n"
     ]
    },
    {
     "name": "stderr",
     "output_type": "stream",
     "text": [
      "\n",
      "100%|#####################################################################################|17/17[00:00<00:00,36.97it/s]"
     ]
    },
    {
     "name": "stdout",
     "output_type": "stream",
     "text": [
      "\u001b[32m[1118 15:54:35 @base.py:285]\u001b[0m Epoch 323 (global_step 8236) finished, time:0.46 second.\n",
      "\u001b[32m[1118 15:54:35 @saver.py:79]\u001b[0m Model saved to ../output/Chicago/TEST/model\\model-8236.\n",
      "\u001b[32m[1118 15:54:35 @monitor.py:467]\u001b[0m GAN_loss/d_loss: -0.051577\n",
      "\u001b[32m[1118 15:54:35 @monitor.py:467]\u001b[0m GAN_loss/g_loss: -0.10052\n",
      "\u001b[32m[1118 15:54:35 @monitor.py:467]\u001b[0m GAN_loss/kl_div: 0.047913\n",
      "\u001b[32m[1118 15:54:35 @monitor.py:467]\u001b[0m QueueInput/queue_size: 50\n",
      "\u001b[32m[1118 15:54:35 @base.py:275]\u001b[0m Start Epoch 324 ...\n"
     ]
    },
    {
     "name": "stderr",
     "output_type": "stream",
     "text": [
      "\n",
      "100%|#####################################################################################|17/17[00:00<00:00,37.75it/s]"
     ]
    },
    {
     "name": "stdout",
     "output_type": "stream",
     "text": [
      "\u001b[32m[1118 15:54:35 @base.py:285]\u001b[0m Epoch 324 (global_step 8261) finished, time:0.451 second.\n",
      "\u001b[32m[1118 15:54:35 @saver.py:79]\u001b[0m Model saved to ../output/Chicago/TEST/model\\model-8261.\n",
      "\u001b[32m[1118 15:54:35 @monitor.py:467]\u001b[0m GAN_loss/d_loss: -0.052349\n",
      "\u001b[32m[1118 15:54:35 @monitor.py:467]\u001b[0m GAN_loss/g_loss: -0.09977\n",
      "\u001b[32m[1118 15:54:35 @monitor.py:467]\u001b[0m GAN_loss/kl_div: 0.050621\n",
      "\u001b[32m[1118 15:54:35 @monitor.py:467]\u001b[0m QueueInput/queue_size: 50\n",
      "\u001b[32m[1118 15:54:35 @base.py:275]\u001b[0m Start Epoch 325 ...\n"
     ]
    },
    {
     "name": "stderr",
     "output_type": "stream",
     "text": [
      "\n",
      "100%|#####################################################################################|17/17[00:00<00:00,37.17it/s]"
     ]
    },
    {
     "name": "stdout",
     "output_type": "stream",
     "text": [
      "\u001b[32m[1118 15:54:36 @base.py:285]\u001b[0m Epoch 325 (global_step 8287) finished, time:0.458 second.\n",
      "\u001b[32m[1118 15:54:36 @saver.py:79]\u001b[0m Model saved to ../output/Chicago/TEST/model\\model-8287.\n",
      "\u001b[32m[1118 15:54:36 @monitor.py:467]\u001b[0m GAN_loss/d_loss: -0.052212\n",
      "\u001b[32m[1118 15:54:36 @monitor.py:467]\u001b[0m GAN_loss/g_loss: -0.10053\n",
      "\u001b[32m[1118 15:54:36 @monitor.py:467]\u001b[0m GAN_loss/kl_div: 0.049029\n",
      "\u001b[32m[1118 15:54:36 @monitor.py:467]\u001b[0m QueueInput/queue_size: 50\n",
      "\u001b[32m[1118 15:54:36 @base.py:275]\u001b[0m Start Epoch 326 ...\n"
     ]
    },
    {
     "name": "stderr",
     "output_type": "stream",
     "text": [
      "\n",
      "100%|#####################################################################################|17/17[00:00<00:00,38.30it/s]"
     ]
    },
    {
     "name": "stdout",
     "output_type": "stream",
     "text": [
      "\u001b[32m[1118 15:54:36 @base.py:285]\u001b[0m Epoch 326 (global_step 8312) finished, time:0.444 second.\n",
      "\u001b[32m[1118 15:54:37 @saver.py:79]\u001b[0m Model saved to ../output/Chicago/TEST/model\\model-8312.\n",
      "\u001b[32m[1118 15:54:37 @monitor.py:467]\u001b[0m GAN_loss/d_loss: -0.05257\n",
      "\u001b[32m[1118 15:54:37 @monitor.py:467]\u001b[0m GAN_loss/g_loss: -0.10025\n",
      "\u001b[32m[1118 15:54:37 @monitor.py:467]\u001b[0m GAN_loss/kl_div: 0.046303\n",
      "\u001b[32m[1118 15:54:37 @monitor.py:467]\u001b[0m QueueInput/queue_size: 50\n",
      "\u001b[32m[1118 15:54:37 @base.py:275]\u001b[0m Start Epoch 327 ...\n"
     ]
    },
    {
     "name": "stderr",
     "output_type": "stream",
     "text": [
      "\n",
      "100%|#####################################################################################|17/17[00:00<00:00,36.97it/s]"
     ]
    },
    {
     "name": "stdout",
     "output_type": "stream",
     "text": [
      "\u001b[32m[1118 15:54:37 @base.py:285]\u001b[0m Epoch 327 (global_step 8338) finished, time:0.46 second.\n",
      "\u001b[32m[1118 15:54:37 @saver.py:79]\u001b[0m Model saved to ../output/Chicago/TEST/model\\model-8338.\n",
      "\u001b[32m[1118 15:54:37 @monitor.py:467]\u001b[0m GAN_loss/d_loss: -0.051689\n",
      "\u001b[32m[1118 15:54:37 @monitor.py:467]\u001b[0m GAN_loss/g_loss: -0.1004\n",
      "\u001b[32m[1118 15:54:37 @monitor.py:467]\u001b[0m GAN_loss/kl_div: 0.046398\n",
      "\u001b[32m[1118 15:54:37 @monitor.py:467]\u001b[0m QueueInput/queue_size: 50\n",
      "\u001b[32m[1118 15:54:37 @base.py:275]\u001b[0m Start Epoch 328 ...\n"
     ]
    },
    {
     "name": "stderr",
     "output_type": "stream",
     "text": [
      "\n",
      "100%|#####################################################################################|17/17[00:00<00:00,38.12it/s]"
     ]
    },
    {
     "name": "stdout",
     "output_type": "stream",
     "text": [
      "\u001b[32m[1118 15:54:38 @base.py:285]\u001b[0m Epoch 328 (global_step 8363) finished, time:0.446 second.\n",
      "\u001b[32m[1118 15:54:38 @saver.py:79]\u001b[0m Model saved to ../output/Chicago/TEST/model\\model-8363.\n",
      "\u001b[32m[1118 15:54:38 @monitor.py:467]\u001b[0m GAN_loss/d_loss: -0.051868\n",
      "\u001b[32m[1118 15:54:38 @monitor.py:467]\u001b[0m GAN_loss/g_loss: -0.10104\n",
      "\u001b[32m[1118 15:54:38 @monitor.py:467]\u001b[0m GAN_loss/kl_div: 0.04701\n",
      "\u001b[32m[1118 15:54:38 @monitor.py:467]\u001b[0m QueueInput/queue_size: 50\n",
      "\u001b[32m[1118 15:54:38 @base.py:275]\u001b[0m Start Epoch 329 ...\n"
     ]
    },
    {
     "name": "stderr",
     "output_type": "stream",
     "text": [
      "\n",
      "100%|#####################################################################################|17/17[00:00<00:00,37.01it/s]"
     ]
    },
    {
     "name": "stdout",
     "output_type": "stream",
     "text": [
      "\u001b[32m[1118 15:54:38 @base.py:285]\u001b[0m Epoch 329 (global_step 8389) finished, time:0.46 second.\n",
      "\u001b[32m[1118 15:54:38 @saver.py:79]\u001b[0m Model saved to ../output/Chicago/TEST/model\\model-8389.\n",
      "\u001b[32m[1118 15:54:38 @monitor.py:467]\u001b[0m GAN_loss/d_loss: -0.050651\n",
      "\u001b[32m[1118 15:54:38 @monitor.py:467]\u001b[0m GAN_loss/g_loss: -0.10093\n",
      "\u001b[32m[1118 15:54:38 @monitor.py:467]\u001b[0m GAN_loss/kl_div: 0.046825\n",
      "\u001b[32m[1118 15:54:38 @monitor.py:467]\u001b[0m QueueInput/queue_size: 50\n",
      "\u001b[32m[1118 15:54:38 @base.py:275]\u001b[0m Start Epoch 330 ...\n"
     ]
    },
    {
     "name": "stderr",
     "output_type": "stream",
     "text": [
      "\n",
      "100%|#####################################################################################|17/17[00:00<00:00,38.42it/s]"
     ]
    },
    {
     "name": "stdout",
     "output_type": "stream",
     "text": [
      "\u001b[32m[1118 15:54:39 @base.py:285]\u001b[0m Epoch 330 (global_step 8414) finished, time:0.443 second.\n",
      "\u001b[32m[1118 15:54:39 @saver.py:79]\u001b[0m Model saved to ../output/Chicago/TEST/model\\model-8414.\n",
      "\u001b[32m[1118 15:54:39 @monitor.py:467]\u001b[0m GAN_loss/d_loss: -0.051975\n",
      "\u001b[32m[1118 15:54:39 @monitor.py:467]\u001b[0m GAN_loss/g_loss: -0.10006\n",
      "\u001b[32m[1118 15:54:39 @monitor.py:467]\u001b[0m GAN_loss/kl_div: 0.048197\n",
      "\u001b[32m[1118 15:54:39 @monitor.py:467]\u001b[0m QueueInput/queue_size: 50\n",
      "\u001b[32m[1118 15:54:39 @base.py:275]\u001b[0m Start Epoch 331 ...\n"
     ]
    },
    {
     "name": "stderr",
     "output_type": "stream",
     "text": [
      "\n",
      "100%|#####################################################################################|17/17[00:00<00:00,37.05it/s]"
     ]
    },
    {
     "name": "stdout",
     "output_type": "stream",
     "text": [
      "\u001b[32m[1118 15:54:39 @base.py:285]\u001b[0m Epoch 331 (global_step 8440) finished, time:0.459 second.\n",
      "\u001b[32m[1118 15:54:39 @saver.py:79]\u001b[0m Model saved to ../output/Chicago/TEST/model\\model-8440.\n",
      "\u001b[32m[1118 15:54:39 @monitor.py:467]\u001b[0m GAN_loss/d_loss: -0.05174\n",
      "\u001b[32m[1118 15:54:39 @monitor.py:467]\u001b[0m GAN_loss/g_loss: -0.10086\n",
      "\u001b[32m[1118 15:54:39 @monitor.py:467]\u001b[0m GAN_loss/kl_div: 0.045395\n",
      "\u001b[32m[1118 15:54:39 @monitor.py:467]\u001b[0m QueueInput/queue_size: 50\n",
      "\u001b[32m[1118 15:54:39 @base.py:275]\u001b[0m Start Epoch 332 ...\n"
     ]
    },
    {
     "name": "stderr",
     "output_type": "stream",
     "text": [
      "\n",
      "100%|#####################################################################################|17/17[00:00<00:00,38.34it/s]"
     ]
    },
    {
     "name": "stdout",
     "output_type": "stream",
     "text": [
      "\u001b[32m[1118 15:54:40 @base.py:285]\u001b[0m Epoch 332 (global_step 8465) finished, time:0.444 second.\n",
      "\u001b[32m[1118 15:54:40 @saver.py:79]\u001b[0m Model saved to ../output/Chicago/TEST/model\\model-8465.\n",
      "\u001b[32m[1118 15:54:40 @monitor.py:467]\u001b[0m GAN_loss/d_loss: -0.051512\n",
      "\u001b[32m[1118 15:54:40 @monitor.py:467]\u001b[0m GAN_loss/g_loss: -0.10148\n",
      "\u001b[32m[1118 15:54:40 @monitor.py:467]\u001b[0m GAN_loss/kl_div: 0.04632\n",
      "\u001b[32m[1118 15:54:40 @monitor.py:467]\u001b[0m QueueInput/queue_size: 50\n",
      "\u001b[32m[1118 15:54:40 @base.py:275]\u001b[0m Start Epoch 333 ...\n"
     ]
    },
    {
     "name": "stderr",
     "output_type": "stream",
     "text": [
      "\n",
      "100%|#####################################################################################|17/17[00:00<00:00,37.05it/s]"
     ]
    },
    {
     "name": "stdout",
     "output_type": "stream",
     "text": [
      "\u001b[32m[1118 15:54:41 @base.py:285]\u001b[0m Epoch 333 (global_step 8491) finished, time:0.459 second.\n",
      "\u001b[32m[1118 15:54:41 @saver.py:79]\u001b[0m Model saved to ../output/Chicago/TEST/model\\model-8491.\n",
      "\u001b[32m[1118 15:54:41 @monitor.py:467]\u001b[0m GAN_loss/d_loss: -0.050904\n",
      "\u001b[32m[1118 15:54:41 @monitor.py:467]\u001b[0m GAN_loss/g_loss: -0.10124\n",
      "\u001b[32m[1118 15:54:41 @monitor.py:467]\u001b[0m GAN_loss/kl_div: 0.046939\n",
      "\u001b[32m[1118 15:54:41 @monitor.py:467]\u001b[0m QueueInput/queue_size: 50\n",
      "\u001b[32m[1118 15:54:41 @base.py:275]\u001b[0m Start Epoch 334 ...\n"
     ]
    },
    {
     "name": "stderr",
     "output_type": "stream",
     "text": [
      "\n",
      "100%|#####################################################################################|17/17[00:00<00:00,37.83it/s]"
     ]
    },
    {
     "name": "stdout",
     "output_type": "stream",
     "text": [
      "\u001b[32m[1118 15:54:41 @base.py:285]\u001b[0m Epoch 334 (global_step 8516) finished, time:0.45 second.\n",
      "\u001b[32m[1118 15:54:41 @saver.py:79]\u001b[0m Model saved to ../output/Chicago/TEST/model\\model-8516.\n",
      "\u001b[32m[1118 15:54:41 @monitor.py:467]\u001b[0m GAN_loss/d_loss: -0.051139\n",
      "\u001b[32m[1118 15:54:41 @monitor.py:467]\u001b[0m GAN_loss/g_loss: -0.10121\n",
      "\u001b[32m[1118 15:54:41 @monitor.py:467]\u001b[0m GAN_loss/kl_div: 0.046481\n",
      "\u001b[32m[1118 15:54:41 @monitor.py:467]\u001b[0m QueueInput/queue_size: 50\n",
      "\u001b[32m[1118 15:54:41 @base.py:275]\u001b[0m Start Epoch 335 ...\n"
     ]
    },
    {
     "name": "stderr",
     "output_type": "stream",
     "text": [
      "\n",
      "100%|#####################################################################################|17/17[00:00<00:00,36.74it/s]"
     ]
    },
    {
     "name": "stdout",
     "output_type": "stream",
     "text": [
      "\u001b[32m[1118 15:54:42 @base.py:285]\u001b[0m Epoch 335 (global_step 8542) finished, time:0.463 second.\n",
      "\u001b[32m[1118 15:54:42 @saver.py:79]\u001b[0m Model saved to ../output/Chicago/TEST/model\\model-8542.\n",
      "\u001b[32m[1118 15:54:42 @monitor.py:467]\u001b[0m GAN_loss/d_loss: -0.052044\n",
      "\u001b[32m[1118 15:54:42 @monitor.py:467]\u001b[0m GAN_loss/g_loss: -0.1002\n",
      "\u001b[32m[1118 15:54:42 @monitor.py:467]\u001b[0m GAN_loss/kl_div: 0.043201\n",
      "\u001b[32m[1118 15:54:42 @monitor.py:467]\u001b[0m QueueInput/queue_size: 50\n",
      "\u001b[32m[1118 15:54:42 @base.py:275]\u001b[0m Start Epoch 336 ...\n"
     ]
    },
    {
     "name": "stderr",
     "output_type": "stream",
     "text": [
      "\n",
      "100%|#####################################################################################|17/17[00:00<00:00,38.42it/s]"
     ]
    },
    {
     "name": "stdout",
     "output_type": "stream",
     "text": [
      "\u001b[32m[1118 15:54:42 @base.py:285]\u001b[0m Epoch 336 (global_step 8567) finished, time:0.443 second.\n",
      "\u001b[32m[1118 15:54:42 @saver.py:79]\u001b[0m Model saved to ../output/Chicago/TEST/model\\model-8567.\n",
      "\u001b[32m[1118 15:54:42 @monitor.py:467]\u001b[0m GAN_loss/d_loss: -0.05106\n",
      "\u001b[32m[1118 15:54:42 @monitor.py:467]\u001b[0m GAN_loss/g_loss: -0.10086\n",
      "\u001b[32m[1118 15:54:42 @monitor.py:467]\u001b[0m GAN_loss/kl_div: 0.049687\n",
      "\u001b[32m[1118 15:54:42 @monitor.py:467]\u001b[0m QueueInput/queue_size: 50\n",
      "\u001b[32m[1118 15:54:42 @base.py:275]\u001b[0m Start Epoch 337 ...\n"
     ]
    },
    {
     "name": "stderr",
     "output_type": "stream",
     "text": [
      "\n",
      "100%|#####################################################################################|17/17[00:00<00:00,37.01it/s]"
     ]
    },
    {
     "name": "stdout",
     "output_type": "stream",
     "text": [
      "\u001b[32m[1118 15:54:43 @base.py:285]\u001b[0m Epoch 337 (global_step 8593) finished, time:0.46 second.\n",
      "\u001b[32m[1118 15:54:43 @saver.py:79]\u001b[0m Model saved to ../output/Chicago/TEST/model\\model-8593.\n",
      "\u001b[32m[1118 15:54:43 @monitor.py:467]\u001b[0m GAN_loss/d_loss: -0.051069\n"
     ]
    },
    {
     "name": "stderr",
     "output_type": "stream",
     "text": [
      "\n"
     ]
    },
    {
     "name": "stdout",
     "output_type": "stream",
     "text": [
      "\u001b[32m[1118 15:54:43 @monitor.py:467]\u001b[0m GAN_loss/g_loss: -0.10083\n",
      "\u001b[32m[1118 15:54:43 @monitor.py:467]\u001b[0m GAN_loss/kl_div: 0.047081\n",
      "\u001b[32m[1118 15:54:43 @monitor.py:467]\u001b[0m QueueInput/queue_size: 50\n",
      "\u001b[32m[1118 15:54:43 @base.py:275]\u001b[0m Start Epoch 338 ...\n"
     ]
    },
    {
     "name": "stderr",
     "output_type": "stream",
     "text": [
      "100%|#####################################################################################|17/17[00:00<00:00,38.38it/s]"
     ]
    },
    {
     "name": "stdout",
     "output_type": "stream",
     "text": [
      "\u001b[32m[1118 15:54:44 @base.py:285]\u001b[0m Epoch 338 (global_step 8618) finished, time:0.443 second.\n",
      "\u001b[32m[1118 15:54:44 @saver.py:79]\u001b[0m Model saved to ../output/Chicago/TEST/model\\model-8618.\n",
      "\u001b[32m[1118 15:54:44 @monitor.py:467]\u001b[0m GAN_loss/d_loss: -0.050617\n",
      "\u001b[32m[1118 15:54:44 @monitor.py:467]\u001b[0m GAN_loss/g_loss: -0.10146\n",
      "\u001b[32m[1118 15:54:44 @monitor.py:467]\u001b[0m GAN_loss/kl_div: 0.045466\n",
      "\u001b[32m[1118 15:54:44 @monitor.py:467]\u001b[0m QueueInput/queue_size: 50\n",
      "\u001b[32m[1118 15:54:44 @base.py:275]\u001b[0m Start Epoch 339 ...\n"
     ]
    },
    {
     "name": "stderr",
     "output_type": "stream",
     "text": [
      "\n",
      "100%|#####################################################################################|17/17[00:00<00:00,36.93it/s]"
     ]
    },
    {
     "name": "stdout",
     "output_type": "stream",
     "text": [
      "\u001b[32m[1118 15:54:44 @base.py:285]\u001b[0m Epoch 339 (global_step 8644) finished, time:0.461 second.\n",
      "\u001b[32m[1118 15:54:44 @saver.py:79]\u001b[0m Model saved to ../output/Chicago/TEST/model\\model-8644.\n",
      "\u001b[32m[1118 15:54:44 @monitor.py:467]\u001b[0m GAN_loss/d_loss: -0.050458\n",
      "\u001b[32m[1118 15:54:44 @monitor.py:467]\u001b[0m GAN_loss/g_loss: -0.10196\n",
      "\u001b[32m[1118 15:54:44 @monitor.py:467]\u001b[0m GAN_loss/kl_div: 0.047807\n",
      "\u001b[32m[1118 15:54:44 @monitor.py:467]\u001b[0m QueueInput/queue_size: 50\n",
      "\u001b[32m[1118 15:54:44 @base.py:275]\u001b[0m Start Epoch 340 ...\n"
     ]
    },
    {
     "name": "stderr",
     "output_type": "stream",
     "text": [
      "\n",
      "100%|#####################################################################################|17/17[00:00<00:00,38.21it/s]"
     ]
    },
    {
     "name": "stdout",
     "output_type": "stream",
     "text": [
      "\u001b[32m[1118 15:54:45 @base.py:285]\u001b[0m Epoch 340 (global_step 8669) finished, time:0.446 second.\n",
      "\u001b[32m[1118 15:54:45 @saver.py:79]\u001b[0m Model saved to ../output/Chicago/TEST/model\\model-8669.\n",
      "\u001b[32m[1118 15:54:45 @monitor.py:467]\u001b[0m GAN_loss/d_loss: -0.051583\n",
      "\u001b[32m[1118 15:54:45 @monitor.py:467]\u001b[0m GAN_loss/g_loss: -0.10106\n",
      "\u001b[32m[1118 15:54:45 @monitor.py:467]\u001b[0m GAN_loss/kl_div: 0.046771\n",
      "\u001b[32m[1118 15:54:45 @monitor.py:467]\u001b[0m QueueInput/queue_size: 50\n",
      "\u001b[32m[1118 15:54:45 @base.py:275]\u001b[0m Start Epoch 341 ...\n"
     ]
    },
    {
     "name": "stderr",
     "output_type": "stream",
     "text": [
      "\n",
      "100%|#####################################################################################|17/17[00:00<00:00,37.01it/s]"
     ]
    },
    {
     "name": "stdout",
     "output_type": "stream",
     "text": [
      "\u001b[32m[1118 15:54:45 @base.py:285]\u001b[0m Epoch 341 (global_step 8695) finished, time:0.46 second.\n",
      "\u001b[32m[1118 15:54:45 @saver.py:79]\u001b[0m Model saved to ../output/Chicago/TEST/model\\model-8695.\n",
      "\u001b[32m[1118 15:54:46 @monitor.py:467]\u001b[0m GAN_loss/d_loss: -0.051026\n",
      "\u001b[32m[1118 15:54:46 @monitor.py:467]\u001b[0m GAN_loss/g_loss: -0.10136\n",
      "\u001b[32m[1118 15:54:46 @monitor.py:467]\u001b[0m GAN_loss/kl_div: 0.043642\n",
      "\u001b[32m[1118 15:54:46 @monitor.py:467]\u001b[0m QueueInput/queue_size: 50\n",
      "\u001b[32m[1118 15:54:46 @base.py:275]\u001b[0m Start Epoch 342 ...\n"
     ]
    },
    {
     "name": "stderr",
     "output_type": "stream",
     "text": [
      "\n",
      "100%|#####################################################################################|17/17[00:00<00:00,38.47it/s]"
     ]
    },
    {
     "name": "stdout",
     "output_type": "stream",
     "text": [
      "\u001b[32m[1118 15:54:46 @base.py:285]\u001b[0m Epoch 342 (global_step 8720) finished, time:0.442 second.\n",
      "\u001b[32m[1118 15:54:46 @saver.py:79]\u001b[0m Model saved to ../output/Chicago/TEST/model\\model-8720.\n",
      "\u001b[32m[1118 15:54:46 @monitor.py:467]\u001b[0m GAN_loss/d_loss: -0.050618\n",
      "\u001b[32m[1118 15:54:46 @monitor.py:467]\u001b[0m GAN_loss/g_loss: -0.10077\n",
      "\u001b[32m[1118 15:54:46 @monitor.py:467]\u001b[0m GAN_loss/kl_div: 0.04648\n",
      "\u001b[32m[1118 15:54:46 @monitor.py:467]\u001b[0m QueueInput/queue_size: 50\n",
      "\u001b[32m[1118 15:54:46 @base.py:275]\u001b[0m Start Epoch 343 ...\n"
     ]
    },
    {
     "name": "stderr",
     "output_type": "stream",
     "text": [
      "\n",
      "100%|#####################################################################################|17/17[00:00<00:00,37.01it/s]"
     ]
    },
    {
     "name": "stdout",
     "output_type": "stream",
     "text": [
      "\u001b[32m[1118 15:54:47 @base.py:285]\u001b[0m Epoch 343 (global_step 8746) finished, time:0.46 second.\n",
      "\u001b[32m[1118 15:54:47 @saver.py:79]\u001b[0m Model saved to ../output/Chicago/TEST/model\\model-8746.\n",
      "\u001b[32m[1118 15:54:47 @monitor.py:467]\u001b[0m GAN_loss/d_loss: -0.051537\n",
      "\u001b[32m[1118 15:54:47 @monitor.py:467]\u001b[0m GAN_loss/g_loss: -0.1014\n",
      "\u001b[32m[1118 15:54:47 @monitor.py:467]\u001b[0m GAN_loss/kl_div: 0.045497\n",
      "\u001b[32m[1118 15:54:47 @monitor.py:467]\u001b[0m QueueInput/queue_size: 50\n",
      "\u001b[32m[1118 15:54:47 @base.py:275]\u001b[0m Start Epoch 344 ...\n"
     ]
    },
    {
     "name": "stderr",
     "output_type": "stream",
     "text": [
      "\n",
      "100%|#####################################################################################|17/17[00:00<00:00,38.00it/s]"
     ]
    },
    {
     "name": "stdout",
     "output_type": "stream",
     "text": [
      "\u001b[32m[1118 15:54:47 @base.py:285]\u001b[0m Epoch 344 (global_step 8771) finished, time:0.448 second.\n",
      "\u001b[32m[1118 15:54:47 @saver.py:79]\u001b[0m Model saved to ../output/Chicago/TEST/model\\model-8771.\n",
      "\u001b[32m[1118 15:54:47 @monitor.py:467]\u001b[0m GAN_loss/d_loss: -0.050333\n",
      "\u001b[32m[1118 15:54:47 @monitor.py:467]\u001b[0m GAN_loss/g_loss: -0.1013\n",
      "\u001b[32m[1118 15:54:47 @monitor.py:467]\u001b[0m GAN_loss/kl_div: 0.048628\n",
      "\u001b[32m[1118 15:54:47 @monitor.py:467]\u001b[0m QueueInput/queue_size: 50\n",
      "\u001b[32m[1118 15:54:47 @base.py:275]\u001b[0m Start Epoch 345 ...\n"
     ]
    },
    {
     "name": "stderr",
     "output_type": "stream",
     "text": [
      "\n",
      "100%|#####################################################################################|17/17[00:00<00:00,36.38it/s]"
     ]
    },
    {
     "name": "stdout",
     "output_type": "stream",
     "text": [
      "\u001b[32m[1118 15:54:48 @base.py:285]\u001b[0m Epoch 345 (global_step 8797) finished, time:0.468 second.\n",
      "\u001b[32m[1118 15:54:48 @saver.py:79]\u001b[0m Model saved to ../output/Chicago/TEST/model\\model-8797.\n",
      "\u001b[32m[1118 15:54:48 @monitor.py:467]\u001b[0m GAN_loss/d_loss: -0.05012\n",
      "\u001b[32m[1118 15:54:48 @monitor.py:467]\u001b[0m GAN_loss/g_loss: -0.10237\n",
      "\u001b[32m[1118 15:54:48 @monitor.py:467]\u001b[0m GAN_loss/kl_div: 0.044802\n",
      "\u001b[32m[1118 15:54:48 @monitor.py:467]\u001b[0m QueueInput/queue_size: 50\n",
      "\u001b[32m[1118 15:54:48 @base.py:275]\u001b[0m Start Epoch 346 ...\n"
     ]
    },
    {
     "name": "stderr",
     "output_type": "stream",
     "text": [
      "\n",
      "100%|#####################################################################################|17/17[00:00<00:00,38.21it/s]"
     ]
    },
    {
     "name": "stdout",
     "output_type": "stream",
     "text": [
      "\u001b[32m[1118 15:54:48 @base.py:285]\u001b[0m Epoch 346 (global_step 8822) finished, time:0.445 second.\n",
      "\u001b[32m[1118 15:54:48 @saver.py:79]\u001b[0m Model saved to ../output/Chicago/TEST/model\\model-8822.\n",
      "\u001b[32m[1118 15:54:49 @monitor.py:467]\u001b[0m GAN_loss/d_loss: -0.050582\n",
      "\u001b[32m[1118 15:54:49 @monitor.py:467]\u001b[0m GAN_loss/g_loss: -0.10231\n",
      "\u001b[32m[1118 15:54:49 @monitor.py:467]\u001b[0m GAN_loss/kl_div: 0.044403\n",
      "\u001b[32m[1118 15:54:49 @monitor.py:467]\u001b[0m QueueInput/queue_size: 50\n",
      "\u001b[32m[1118 15:54:49 @base.py:275]\u001b[0m Start Epoch 347 ...\n"
     ]
    },
    {
     "name": "stderr",
     "output_type": "stream",
     "text": [
      "\n",
      "100%|#####################################################################################|17/17[00:00<00:00,37.05it/s]"
     ]
    },
    {
     "name": "stdout",
     "output_type": "stream",
     "text": [
      "\u001b[32m[1118 15:54:49 @base.py:285]\u001b[0m Epoch 347 (global_step 8848) finished, time:0.459 second.\n",
      "\u001b[32m[1118 15:54:49 @saver.py:79]\u001b[0m Model saved to ../output/Chicago/TEST/model\\model-8848.\n",
      "\u001b[32m[1118 15:54:49 @monitor.py:467]\u001b[0m GAN_loss/d_loss: -0.051317\n",
      "\u001b[32m[1118 15:54:49 @monitor.py:467]\u001b[0m GAN_loss/g_loss: -0.10223\n",
      "\u001b[32m[1118 15:54:49 @monitor.py:467]\u001b[0m GAN_loss/kl_div: 0.045017\n",
      "\u001b[32m[1118 15:54:49 @monitor.py:467]\u001b[0m QueueInput/queue_size: 50\n",
      "\u001b[32m[1118 15:54:49 @base.py:275]\u001b[0m Start Epoch 348 ...\n"
     ]
    },
    {
     "name": "stderr",
     "output_type": "stream",
     "text": [
      "\n",
      "100%|#####################################################################################|17/17[00:00<00:00,37.34it/s]"
     ]
    },
    {
     "name": "stdout",
     "output_type": "stream",
     "text": [
      "\u001b[32m[1118 15:54:50 @base.py:285]\u001b[0m Epoch 348 (global_step 8873) finished, time:0.456 second.\n",
      "\u001b[32m[1118 15:54:50 @saver.py:79]\u001b[0m Model saved to ../output/Chicago/TEST/model\\model-8873.\n",
      "\u001b[32m[1118 15:54:50 @monitor.py:467]\u001b[0m GAN_loss/d_loss: -0.050633\n",
      "\u001b[32m[1118 15:54:50 @monitor.py:467]\u001b[0m GAN_loss/g_loss: -0.10211\n",
      "\u001b[32m[1118 15:54:50 @monitor.py:467]\u001b[0m GAN_loss/kl_div: 0.043975\n",
      "\u001b[32m[1118 15:54:50 @monitor.py:467]\u001b[0m QueueInput/queue_size: 50\n",
      "\u001b[32m[1118 15:54:50 @base.py:275]\u001b[0m Start Epoch 349 ...\n"
     ]
    },
    {
     "name": "stderr",
     "output_type": "stream",
     "text": [
      "\n",
      "100%|#####################################################################################|17/17[00:00<00:00,36.97it/s]"
     ]
    },
    {
     "name": "stdout",
     "output_type": "stream",
     "text": [
      "\u001b[32m[1118 15:54:50 @base.py:285]\u001b[0m Epoch 349 (global_step 8899) finished, time:0.46 second.\n",
      "\u001b[32m[1118 15:54:50 @saver.py:79]\u001b[0m Model saved to ../output/Chicago/TEST/model\\model-8899.\n",
      "\u001b[32m[1118 15:54:50 @monitor.py:467]\u001b[0m GAN_loss/d_loss: -0.049245\n",
      "\u001b[32m[1118 15:54:50 @monitor.py:467]\u001b[0m GAN_loss/g_loss: -0.10262\n",
      "\u001b[32m[1118 15:54:50 @monitor.py:467]\u001b[0m GAN_loss/kl_div: 0.045482\n",
      "\u001b[32m[1118 15:54:50 @monitor.py:467]\u001b[0m QueueInput/queue_size: 50\n",
      "\u001b[32m[1118 15:54:50 @base.py:275]\u001b[0m Start Epoch 350 ...\n"
     ]
    },
    {
     "name": "stderr",
     "output_type": "stream",
     "text": [
      "\n",
      "100%|#####################################################################################|17/17[00:00<00:00,38.47it/s]"
     ]
    },
    {
     "name": "stdout",
     "output_type": "stream",
     "text": [
      "\u001b[32m[1118 15:54:51 @base.py:285]\u001b[0m Epoch 350 (global_step 8924) finished, time:0.443 second.\n",
      "\u001b[32m[1118 15:54:51 @saver.py:79]\u001b[0m Model saved to ../output/Chicago/TEST/model\\model-8924.\n",
      "\u001b[32m[1118 15:54:51 @monitor.py:467]\u001b[0m GAN_loss/d_loss: -0.049726\n",
      "\u001b[32m[1118 15:54:51 @monitor.py:467]\u001b[0m GAN_loss/g_loss: -0.10156\n",
      "\u001b[32m[1118 15:54:51 @monitor.py:467]\u001b[0m GAN_loss/kl_div: 0.046849\n",
      "\u001b[32m[1118 15:54:51 @monitor.py:467]\u001b[0m QueueInput/queue_size: 50\n",
      "\u001b[32m[1118 15:54:51 @base.py:275]\u001b[0m Start Epoch 351 ...\n"
     ]
    },
    {
     "name": "stderr",
     "output_type": "stream",
     "text": [
      "\n",
      "100%|#####################################################################################|17/17[00:00<00:00,37.13it/s]"
     ]
    },
    {
     "name": "stdout",
     "output_type": "stream",
     "text": [
      "\u001b[32m[1118 15:54:51 @base.py:285]\u001b[0m Epoch 351 (global_step 8950) finished, time:0.458 second.\n",
      "\u001b[32m[1118 15:54:51 @saver.py:79]\u001b[0m Model saved to ../output/Chicago/TEST/model\\model-8950.\n",
      "\u001b[32m[1118 15:54:52 @monitor.py:467]\u001b[0m GAN_loss/d_loss: -0.050814\n",
      "\u001b[32m[1118 15:54:52 @monitor.py:467]\u001b[0m GAN_loss/g_loss: -0.101\n",
      "\u001b[32m[1118 15:54:52 @monitor.py:467]\u001b[0m GAN_loss/kl_div: 0.048958\n",
      "\u001b[32m[1118 15:54:52 @monitor.py:467]\u001b[0m QueueInput/queue_size: 50\n",
      "\u001b[32m[1118 15:54:52 @base.py:275]\u001b[0m Start Epoch 352 ...\n"
     ]
    },
    {
     "name": "stderr",
     "output_type": "stream",
     "text": [
      "\n",
      "100%|#####################################################################################|17/17[00:00<00:00,38.17it/s]"
     ]
    },
    {
     "name": "stdout",
     "output_type": "stream",
     "text": [
      "\u001b[32m[1118 15:54:52 @base.py:285]\u001b[0m Epoch 352 (global_step 8975) finished, time:0.446 second.\n",
      "\u001b[32m[1118 15:54:52 @saver.py:79]\u001b[0m Model saved to ../output/Chicago/TEST/model\\model-8975.\n",
      "\u001b[32m[1118 15:54:52 @monitor.py:467]\u001b[0m GAN_loss/d_loss: -0.050655\n",
      "\u001b[32m[1118 15:54:52 @monitor.py:467]\u001b[0m GAN_loss/g_loss: -0.10201\n",
      "\u001b[32m[1118 15:54:52 @monitor.py:467]\u001b[0m GAN_loss/kl_div: 0.047287\n",
      "\u001b[32m[1118 15:54:52 @monitor.py:467]\u001b[0m QueueInput/queue_size: 50\n",
      "\u001b[32m[1118 15:54:52 @base.py:275]\u001b[0m Start Epoch 353 ...\n"
     ]
    },
    {
     "name": "stderr",
     "output_type": "stream",
     "text": [
      "\n",
      "100%|#####################################################################################|17/17[00:00<00:00,36.78it/s]"
     ]
    },
    {
     "name": "stdout",
     "output_type": "stream",
     "text": [
      "\u001b[32m[1118 15:54:53 @base.py:285]\u001b[0m Epoch 353 (global_step 9001) finished, time:0.463 second.\n",
      "\u001b[32m[1118 15:54:53 @saver.py:79]\u001b[0m Model saved to ../output/Chicago/TEST/model\\model-9001.\n",
      "\u001b[32m[1118 15:54:53 @monitor.py:467]\u001b[0m GAN_loss/d_loss: -0.049506\n",
      "\u001b[32m[1118 15:54:53 @monitor.py:467]\u001b[0m GAN_loss/g_loss: -0.10264\n",
      "\u001b[32m[1118 15:54:53 @monitor.py:467]\u001b[0m GAN_loss/kl_div: 0.046157\n",
      "\u001b[32m[1118 15:54:53 @monitor.py:467]\u001b[0m QueueInput/queue_size: 50\n",
      "\u001b[32m[1118 15:54:53 @base.py:275]\u001b[0m Start Epoch 354 ...\n"
     ]
    },
    {
     "name": "stderr",
     "output_type": "stream",
     "text": [
      "\n",
      "100%|#####################################################################################|17/17[00:00<00:00,38.21it/s]"
     ]
    },
    {
     "name": "stdout",
     "output_type": "stream",
     "text": [
      "\u001b[32m[1118 15:54:53 @base.py:285]\u001b[0m Epoch 354 (global_step 9026) finished, time:0.445 second.\n",
      "\u001b[32m[1118 15:54:53 @saver.py:79]\u001b[0m Model saved to ../output/Chicago/TEST/model\\model-9026.\n",
      "\u001b[32m[1118 15:54:53 @monitor.py:467]\u001b[0m GAN_loss/d_loss: -0.048877\n",
      "\u001b[32m[1118 15:54:53 @monitor.py:467]\u001b[0m GAN_loss/g_loss: -0.10294\n",
      "\u001b[32m[1118 15:54:53 @monitor.py:467]\u001b[0m GAN_loss/kl_div: 0.048902\n",
      "\u001b[32m[1118 15:54:53 @monitor.py:467]\u001b[0m QueueInput/queue_size: 50\n",
      "\u001b[32m[1118 15:54:53 @base.py:275]\u001b[0m Start Epoch 355 ...\n"
     ]
    },
    {
     "name": "stderr",
     "output_type": "stream",
     "text": [
      "\n",
      "100%|#####################################################################################|17/17[00:00<00:00,37.21it/s]"
     ]
    },
    {
     "name": "stdout",
     "output_type": "stream",
     "text": [
      "\u001b[32m[1118 15:54:54 @base.py:285]\u001b[0m Epoch 355 (global_step 9052) finished, time:0.458 second.\n",
      "\u001b[32m[1118 15:54:54 @saver.py:79]\u001b[0m Model saved to ../output/Chicago/TEST/model\\model-9052.\n",
      "\u001b[32m[1118 15:54:54 @monitor.py:467]\u001b[0m GAN_loss/d_loss: -0.049266\n",
      "\u001b[32m[1118 15:54:54 @monitor.py:467]\u001b[0m GAN_loss/g_loss: -0.10307\n",
      "\u001b[32m[1118 15:54:54 @monitor.py:467]\u001b[0m GAN_loss/kl_div: 0.049226\n",
      "\u001b[32m[1118 15:54:54 @monitor.py:467]\u001b[0m QueueInput/queue_size: 50\n",
      "\u001b[32m[1118 15:54:54 @base.py:275]\u001b[0m Start Epoch 356 ...\n"
     ]
    },
    {
     "name": "stderr",
     "output_type": "stream",
     "text": [
      "\n",
      "100%|#####################################################################################|17/17[00:00<00:00,38.25it/s]"
     ]
    },
    {
     "name": "stdout",
     "output_type": "stream",
     "text": [
      "\u001b[32m[1118 15:54:54 @base.py:285]\u001b[0m Epoch 356 (global_step 9077) finished, time:0.445 second.\n",
      "\u001b[32m[1118 15:54:54 @saver.py:79]\u001b[0m Model saved to ../output/Chicago/TEST/model\\model-9077.\n",
      "\u001b[32m[1118 15:54:55 @monitor.py:467]\u001b[0m GAN_loss/d_loss: -0.049391\n",
      "\u001b[32m[1118 15:54:55 @monitor.py:467]\u001b[0m GAN_loss/g_loss: -0.10219\n",
      "\u001b[32m[1118 15:54:55 @monitor.py:467]\u001b[0m GAN_loss/kl_div: 0.048682\n",
      "\u001b[32m[1118 15:54:55 @monitor.py:467]\u001b[0m QueueInput/queue_size: 50\n",
      "\u001b[32m[1118 15:54:55 @base.py:275]\u001b[0m Start Epoch 357 ...\n"
     ]
    },
    {
     "name": "stderr",
     "output_type": "stream",
     "text": [
      "\n",
      "100%|#####################################################################################|17/17[00:00<00:00,37.17it/s]"
     ]
    },
    {
     "name": "stdout",
     "output_type": "stream",
     "text": [
      "\u001b[32m[1118 15:54:55 @base.py:285]\u001b[0m Epoch 357 (global_step 9103) finished, time:0.458 second.\n",
      "\u001b[32m[1118 15:54:55 @saver.py:79]\u001b[0m Model saved to ../output/Chicago/TEST/model\\model-9103.\n",
      "\u001b[32m[1118 15:54:55 @monitor.py:467]\u001b[0m GAN_loss/d_loss: -0.049493\n",
      "\u001b[32m[1118 15:54:55 @monitor.py:467]\u001b[0m GAN_loss/g_loss: -0.10249\n",
      "\u001b[32m[1118 15:54:55 @monitor.py:467]\u001b[0m GAN_loss/kl_div: 0.046888\n",
      "\u001b[32m[1118 15:54:55 @monitor.py:467]\u001b[0m QueueInput/queue_size: 50\n",
      "\u001b[32m[1118 15:54:55 @base.py:275]\u001b[0m Start Epoch 358 ...\n"
     ]
    },
    {
     "name": "stderr",
     "output_type": "stream",
     "text": [
      "\n",
      "100%|#####################################################################################|17/17[00:00<00:00,38.42it/s]"
     ]
    },
    {
     "name": "stdout",
     "output_type": "stream",
     "text": [
      "\u001b[32m[1118 15:54:56 @base.py:285]\u001b[0m Epoch 358 (global_step 9128) finished, time:0.443 second.\n",
      "\u001b[32m[1118 15:54:56 @saver.py:79]\u001b[0m Model saved to ../output/Chicago/TEST/model\\model-9128.\n",
      "\u001b[32m[1118 15:54:56 @monitor.py:467]\u001b[0m GAN_loss/d_loss: -0.049222\n",
      "\u001b[32m[1118 15:54:56 @monitor.py:467]\u001b[0m GAN_loss/g_loss: -0.10236\n",
      "\u001b[32m[1118 15:54:56 @monitor.py:467]\u001b[0m GAN_loss/kl_div: 0.044763\n",
      "\u001b[32m[1118 15:54:56 @monitor.py:467]\u001b[0m QueueInput/queue_size: 50\n",
      "\u001b[32m[1118 15:54:56 @base.py:275]\u001b[0m Start Epoch 359 ...\n"
     ]
    },
    {
     "name": "stderr",
     "output_type": "stream",
     "text": [
      "\n",
      "100%|#####################################################################################|17/17[00:00<00:00,37.01it/s]"
     ]
    },
    {
     "name": "stdout",
     "output_type": "stream",
     "text": [
      "\u001b[32m[1118 15:54:56 @base.py:285]\u001b[0m Epoch 359 (global_step 9154) finished, time:0.46 second.\n",
      "\u001b[32m[1118 15:54:56 @saver.py:79]\u001b[0m Model saved to ../output/Chicago/TEST/model\\model-9154.\n",
      "\u001b[32m[1118 15:54:56 @monitor.py:467]\u001b[0m GAN_loss/d_loss: -0.049164\n",
      "\u001b[32m[1118 15:54:56 @monitor.py:467]\u001b[0m GAN_loss/g_loss: -0.10336\n",
      "\u001b[32m[1118 15:54:56 @monitor.py:467]\u001b[0m GAN_loss/kl_div: 0.049384\n",
      "\u001b[32m[1118 15:54:56 @monitor.py:467]\u001b[0m QueueInput/queue_size: 50\n",
      "\u001b[32m[1118 15:54:56 @base.py:275]\u001b[0m Start Epoch 360 ...\n"
     ]
    },
    {
     "name": "stderr",
     "output_type": "stream",
     "text": [
      "\n",
      "100%|#####################################################################################|17/17[00:00<00:00,38.47it/s]"
     ]
    },
    {
     "name": "stdout",
     "output_type": "stream",
     "text": [
      "\u001b[32m[1118 15:54:57 @base.py:285]\u001b[0m Epoch 360 (global_step 9179) finished, time:0.443 second.\n",
      "\u001b[32m[1118 15:54:57 @saver.py:79]\u001b[0m Model saved to ../output/Chicago/TEST/model\\model-9179.\n",
      "\u001b[32m[1118 15:54:57 @monitor.py:467]\u001b[0m GAN_loss/d_loss: -0.048279\n",
      "\u001b[32m[1118 15:54:57 @monitor.py:467]\u001b[0m GAN_loss/g_loss: -0.10335\n",
      "\u001b[32m[1118 15:54:57 @monitor.py:467]\u001b[0m GAN_loss/kl_div: 0.046501\n",
      "\u001b[32m[1118 15:54:57 @monitor.py:467]\u001b[0m QueueInput/queue_size: 50\n",
      "\u001b[32m[1118 15:54:57 @base.py:275]\u001b[0m Start Epoch 361 ...\n"
     ]
    },
    {
     "name": "stderr",
     "output_type": "stream",
     "text": [
      "\n",
      "100%|#####################################################################################|17/17[00:00<00:00,36.77it/s]"
     ]
    },
    {
     "name": "stdout",
     "output_type": "stream",
     "text": [
      "\u001b[32m[1118 15:54:57 @base.py:285]\u001b[0m Epoch 361 (global_step 9205) finished, time:0.463 second.\n",
      "\u001b[32m[1118 15:54:57 @saver.py:79]\u001b[0m Model saved to ../output/Chicago/TEST/model\\model-9205.\n",
      "\u001b[32m[1118 15:54:57 @monitor.py:467]\u001b[0m GAN_loss/d_loss: -0.047839\n",
      "\u001b[32m[1118 15:54:57 @monitor.py:467]\u001b[0m GAN_loss/g_loss: -0.10363\n",
      "\u001b[32m[1118 15:54:57 @monitor.py:467]\u001b[0m GAN_loss/kl_div: 0.047147\n",
      "\u001b[32m[1118 15:54:57 @monitor.py:467]\u001b[0m QueueInput/queue_size: 50\n",
      "\u001b[32m[1118 15:54:57 @base.py:275]\u001b[0m Start Epoch 362 ...\n"
     ]
    },
    {
     "name": "stderr",
     "output_type": "stream",
     "text": [
      "\n",
      "100%|#####################################################################################|17/17[00:00<00:00,38.08it/s]"
     ]
    },
    {
     "name": "stdout",
     "output_type": "stream",
     "text": [
      "\u001b[32m[1118 15:54:58 @base.py:285]\u001b[0m Epoch 362 (global_step 9230) finished, time:0.447 second.\n",
      "\u001b[32m[1118 15:54:58 @saver.py:79]\u001b[0m Model saved to ../output/Chicago/TEST/model\\model-9230.\n",
      "\u001b[32m[1118 15:54:58 @monitor.py:467]\u001b[0m GAN_loss/d_loss: -0.047457\n",
      "\u001b[32m[1118 15:54:58 @monitor.py:467]\u001b[0m GAN_loss/g_loss: -0.10393\n",
      "\u001b[32m[1118 15:54:58 @monitor.py:467]\u001b[0m GAN_loss/kl_div: 0.047526\n",
      "\u001b[32m[1118 15:54:58 @monitor.py:467]\u001b[0m QueueInput/queue_size: 50\n",
      "\u001b[32m[1118 15:54:58 @base.py:275]\u001b[0m Start Epoch 363 ...\n"
     ]
    },
    {
     "name": "stderr",
     "output_type": "stream",
     "text": [
      "\n",
      "100%|#####################################################################################|17/17[00:00<00:00,37.01it/s]"
     ]
    },
    {
     "name": "stdout",
     "output_type": "stream",
     "text": [
      "\u001b[32m[1118 15:54:59 @base.py:285]\u001b[0m Epoch 363 (global_step 9256) finished, time:0.46 second.\n",
      "\u001b[32m[1118 15:54:59 @saver.py:79]\u001b[0m Model saved to ../output/Chicago/TEST/model\\model-9256.\n",
      "\u001b[32m[1118 15:54:59 @monitor.py:467]\u001b[0m GAN_loss/d_loss: -0.048616\n",
      "\u001b[32m[1118 15:54:59 @monitor.py:467]\u001b[0m GAN_loss/g_loss: -0.10399\n",
      "\u001b[32m[1118 15:54:59 @monitor.py:467]\u001b[0m GAN_loss/kl_div: 0.049067\n",
      "\u001b[32m[1118 15:54:59 @monitor.py:467]\u001b[0m QueueInput/queue_size: 50\n",
      "\u001b[32m[1118 15:54:59 @base.py:275]\u001b[0m Start Epoch 364 ...\n"
     ]
    },
    {
     "name": "stderr",
     "output_type": "stream",
     "text": [
      "\n",
      "100%|#####################################################################################|17/17[00:00<00:00,38.38it/s]"
     ]
    },
    {
     "name": "stdout",
     "output_type": "stream",
     "text": [
      "\u001b[32m[1118 15:54:59 @base.py:285]\u001b[0m Epoch 364 (global_step 9281) finished, time:0.444 second.\n",
      "\u001b[32m[1118 15:54:59 @saver.py:79]\u001b[0m Model saved to ../output/Chicago/TEST/model\\model-9281.\n",
      "\u001b[32m[1118 15:54:59 @monitor.py:467]\u001b[0m GAN_loss/d_loss: -0.047968\n",
      "\u001b[32m[1118 15:54:59 @monitor.py:467]\u001b[0m GAN_loss/g_loss: -0.10396\n",
      "\u001b[32m[1118 15:54:59 @monitor.py:467]\u001b[0m GAN_loss/kl_div: 0.045633\n",
      "\u001b[32m[1118 15:54:59 @monitor.py:467]\u001b[0m QueueInput/queue_size: 50\n",
      "\u001b[32m[1118 15:54:59 @base.py:275]\u001b[0m Start Epoch 365 ...\n"
     ]
    },
    {
     "name": "stderr",
     "output_type": "stream",
     "text": [
      "\n",
      "100%|#####################################################################################|17/17[00:00<00:00,36.89it/s]"
     ]
    },
    {
     "name": "stdout",
     "output_type": "stream",
     "text": [
      "\u001b[32m[1118 15:55:00 @base.py:285]\u001b[0m Epoch 365 (global_step 9307) finished, time:0.461 second.\n",
      "\u001b[32m[1118 15:55:00 @saver.py:79]\u001b[0m Model saved to ../output/Chicago/TEST/model\\model-9307.\n",
      "\u001b[32m[1118 15:55:00 @monitor.py:467]\u001b[0m GAN_loss/d_loss: -0.047975\n",
      "\u001b[32m[1118 15:55:00 @monitor.py:467]\u001b[0m GAN_loss/g_loss: -0.10325\n",
      "\u001b[32m[1118 15:55:00 @monitor.py:467]\u001b[0m GAN_loss/kl_div: 0.043699\n",
      "\u001b[32m[1118 15:55:00 @monitor.py:467]\u001b[0m QueueInput/queue_size: 50\n",
      "\u001b[32m[1118 15:55:00 @base.py:275]\u001b[0m Start Epoch 366 ...\n"
     ]
    },
    {
     "name": "stderr",
     "output_type": "stream",
     "text": [
      "\n",
      "100%|#####################################################################################|17/17[00:00<00:00,38.17it/s]"
     ]
    },
    {
     "name": "stdout",
     "output_type": "stream",
     "text": [
      "\u001b[32m[1118 15:55:00 @base.py:285]\u001b[0m Epoch 366 (global_step 9332) finished, time:0.446 second.\n",
      "\u001b[32m[1118 15:55:00 @saver.py:79]\u001b[0m Model saved to ../output/Chicago/TEST/model\\model-9332.\n",
      "\u001b[32m[1118 15:55:00 @monitor.py:467]\u001b[0m GAN_loss/d_loss: -0.047695\n",
      "\u001b[32m[1118 15:55:00 @monitor.py:467]\u001b[0m GAN_loss/g_loss: -0.10422\n",
      "\u001b[32m[1118 15:55:00 @monitor.py:467]\u001b[0m GAN_loss/kl_div: 0.045315\n",
      "\u001b[32m[1118 15:55:00 @monitor.py:467]\u001b[0m QueueInput/queue_size: 50\n",
      "\u001b[32m[1118 15:55:00 @base.py:275]\u001b[0m Start Epoch 367 ...\n"
     ]
    },
    {
     "name": "stderr",
     "output_type": "stream",
     "text": [
      "\n",
      "100%|#####################################################################################|17/17[00:00<00:00,37.05it/s]"
     ]
    },
    {
     "name": "stdout",
     "output_type": "stream",
     "text": [
      "\u001b[32m[1118 15:55:01 @base.py:285]\u001b[0m Epoch 367 (global_step 9358) finished, time:0.459 second.\n",
      "\u001b[32m[1118 15:55:01 @saver.py:79]\u001b[0m Model saved to ../output/Chicago/TEST/model\\model-9358.\n",
      "\u001b[32m[1118 15:55:01 @monitor.py:467]\u001b[0m GAN_loss/d_loss: -0.049085\n",
      "\u001b[32m[1118 15:55:01 @monitor.py:467]\u001b[0m GAN_loss/g_loss: -0.10378\n",
      "\u001b[32m[1118 15:55:01 @monitor.py:467]\u001b[0m GAN_loss/kl_div: 0.048627\n",
      "\u001b[32m[1118 15:55:01 @monitor.py:467]\u001b[0m QueueInput/queue_size: 50\n",
      "\u001b[32m[1118 15:55:01 @base.py:275]\u001b[0m Start Epoch 368 ...\n"
     ]
    },
    {
     "name": "stderr",
     "output_type": "stream",
     "text": [
      "\n",
      "100%|#####################################################################################|17/17[00:00<00:00,38.08it/s]"
     ]
    },
    {
     "name": "stdout",
     "output_type": "stream",
     "text": [
      "\u001b[32m[1118 15:55:02 @base.py:285]\u001b[0m Epoch 368 (global_step 9383) finished, time:0.447 second.\n",
      "\u001b[32m[1118 15:55:02 @saver.py:79]\u001b[0m Model saved to ../output/Chicago/TEST/model\\model-9383.\n",
      "\u001b[32m[1118 15:55:02 @monitor.py:467]\u001b[0m GAN_loss/d_loss: -0.049379\n",
      "\u001b[32m[1118 15:55:02 @monitor.py:467]\u001b[0m GAN_loss/g_loss: -0.10419\n",
      "\u001b[32m[1118 15:55:02 @monitor.py:467]\u001b[0m GAN_loss/kl_div: 0.043879\n",
      "\u001b[32m[1118 15:55:02 @monitor.py:467]\u001b[0m QueueInput/queue_size: 50\n",
      "\u001b[32m[1118 15:55:02 @base.py:275]\u001b[0m Start Epoch 369 ...\n"
     ]
    },
    {
     "name": "stderr",
     "output_type": "stream",
     "text": [
      "\n",
      "100%|#####################################################################################|17/17[00:00<00:00,36.93it/s]"
     ]
    },
    {
     "name": "stdout",
     "output_type": "stream",
     "text": [
      "\u001b[32m[1118 15:55:02 @base.py:285]\u001b[0m Epoch 369 (global_step 9409) finished, time:0.461 second.\n",
      "\u001b[32m[1118 15:55:02 @saver.py:79]\u001b[0m Model saved to ../output/Chicago/TEST/model\\model-9409.\n",
      "\u001b[32m[1118 15:55:02 @monitor.py:467]\u001b[0m GAN_loss/d_loss: -0.0467\n",
      "\u001b[32m[1118 15:55:02 @monitor.py:467]\u001b[0m GAN_loss/g_loss: -0.10517\n",
      "\u001b[32m[1118 15:55:02 @monitor.py:467]\u001b[0m GAN_loss/kl_div: 0.048501\n",
      "\u001b[32m[1118 15:55:02 @monitor.py:467]\u001b[0m QueueInput/queue_size: 50\n",
      "\u001b[32m[1118 15:55:02 @base.py:275]\u001b[0m Start Epoch 370 ...\n"
     ]
    },
    {
     "name": "stderr",
     "output_type": "stream",
     "text": [
      "\n",
      "100%|#####################################################################################|17/17[00:00<00:00,38.30it/s]"
     ]
    },
    {
     "name": "stdout",
     "output_type": "stream",
     "text": [
      "\u001b[32m[1118 15:55:03 @base.py:285]\u001b[0m Epoch 370 (global_step 9434) finished, time:0.444 second.\n",
      "\u001b[32m[1118 15:55:03 @saver.py:79]\u001b[0m Model saved to ../output/Chicago/TEST/model\\model-9434.\n",
      "\u001b[32m[1118 15:55:03 @monitor.py:467]\u001b[0m GAN_loss/d_loss: -0.047189\n",
      "\u001b[32m[1118 15:55:03 @monitor.py:467]\u001b[0m GAN_loss/g_loss: -0.1042\n",
      "\u001b[32m[1118 15:55:03 @monitor.py:467]\u001b[0m GAN_loss/kl_div: 0.045758\n",
      "\u001b[32m[1118 15:55:03 @monitor.py:467]\u001b[0m QueueInput/queue_size: 50\n",
      "\u001b[32m[1118 15:55:03 @base.py:275]\u001b[0m Start Epoch 371 ...\n"
     ]
    },
    {
     "name": "stderr",
     "output_type": "stream",
     "text": [
      "\n",
      "100%|#####################################################################################|17/17[00:00<00:00,37.01it/s]"
     ]
    },
    {
     "name": "stdout",
     "output_type": "stream",
     "text": [
      "\u001b[32m[1118 15:55:03 @base.py:285]\u001b[0m Epoch 371 (global_step 9460) finished, time:0.46 second.\n",
      "\u001b[32m[1118 15:55:03 @saver.py:79]\u001b[0m Model saved to ../output/Chicago/TEST/model\\model-9460.\n",
      "\u001b[32m[1118 15:55:03 @monitor.py:467]\u001b[0m GAN_loss/d_loss: -0.046864\n",
      "\u001b[32m[1118 15:55:03 @monitor.py:467]\u001b[0m GAN_loss/g_loss: -0.10459\n",
      "\u001b[32m[1118 15:55:03 @monitor.py:467]\u001b[0m GAN_loss/kl_div: 0.046728\n",
      "\u001b[32m[1118 15:55:03 @monitor.py:467]\u001b[0m QueueInput/queue_size: 50\n",
      "\u001b[32m[1118 15:55:03 @base.py:275]\u001b[0m Start Epoch 372 ...\n"
     ]
    },
    {
     "name": "stderr",
     "output_type": "stream",
     "text": [
      "\n",
      "100%|#####################################################################################|17/17[00:00<00:00,38.42it/s]"
     ]
    },
    {
     "name": "stdout",
     "output_type": "stream",
     "text": [
      "\u001b[32m[1118 15:55:04 @base.py:285]\u001b[0m Epoch 372 (global_step 9485) finished, time:0.443 second.\n",
      "\u001b[32m[1118 15:55:04 @saver.py:79]\u001b[0m Model saved to ../output/Chicago/TEST/model\\model-9485.\n",
      "\u001b[32m[1118 15:55:04 @monitor.py:467]\u001b[0m GAN_loss/d_loss: -0.047845\n",
      "\u001b[32m[1118 15:55:04 @monitor.py:467]\u001b[0m GAN_loss/g_loss: -0.10355\n",
      "\u001b[32m[1118 15:55:04 @monitor.py:467]\u001b[0m GAN_loss/kl_div: 0.048877\n",
      "\u001b[32m[1118 15:55:04 @monitor.py:467]\u001b[0m QueueInput/queue_size: 50\n",
      "\u001b[32m[1118 15:55:04 @base.py:275]\u001b[0m Start Epoch 373 ...\n"
     ]
    },
    {
     "name": "stderr",
     "output_type": "stream",
     "text": [
      "\n",
      "100%|#####################################################################################|17/17[00:00<00:00,37.01it/s]"
     ]
    },
    {
     "name": "stdout",
     "output_type": "stream",
     "text": [
      "\u001b[32m[1118 15:55:05 @base.py:285]\u001b[0m Epoch 373 (global_step 9511) finished, time:0.46 second.\n",
      "\u001b[32m[1118 15:55:05 @saver.py:79]\u001b[0m Model saved to ../output/Chicago/TEST/model\\model-9511.\n",
      "\u001b[32m[1118 15:55:05 @monitor.py:467]\u001b[0m GAN_loss/d_loss: -0.048741\n",
      "\u001b[32m[1118 15:55:05 @monitor.py:467]\u001b[0m GAN_loss/g_loss: -0.10324\n",
      "\u001b[32m[1118 15:55:05 @monitor.py:467]\u001b[0m GAN_loss/kl_div: 0.048876\n",
      "\u001b[32m[1118 15:55:05 @monitor.py:467]\u001b[0m QueueInput/queue_size: 50\n",
      "\u001b[32m[1118 15:55:05 @base.py:275]\u001b[0m Start Epoch 374 ...\n"
     ]
    },
    {
     "name": "stderr",
     "output_type": "stream",
     "text": [
      "\n",
      "100%|#####################################################################################|17/17[00:00<00:00,38.38it/s]"
     ]
    },
    {
     "name": "stdout",
     "output_type": "stream",
     "text": [
      "\u001b[32m[1118 15:55:05 @base.py:285]\u001b[0m Epoch 374 (global_step 9536) finished, time:0.443 second.\n",
      "\u001b[32m[1118 15:55:05 @saver.py:79]\u001b[0m Model saved to ../output/Chicago/TEST/model\\model-9536.\n",
      "\u001b[32m[1118 15:55:05 @monitor.py:467]\u001b[0m GAN_loss/d_loss: -0.048431\n",
      "\u001b[32m[1118 15:55:05 @monitor.py:467]\u001b[0m GAN_loss/g_loss: -0.10351\n",
      "\u001b[32m[1118 15:55:05 @monitor.py:467]\u001b[0m GAN_loss/kl_div: 0.04779\n",
      "\u001b[32m[1118 15:55:05 @monitor.py:467]\u001b[0m QueueInput/queue_size: 50\n",
      "\u001b[32m[1118 15:55:05 @base.py:275]\u001b[0m Start Epoch 375 ...\n"
     ]
    },
    {
     "name": "stderr",
     "output_type": "stream",
     "text": [
      "\n",
      "100%|#####################################################################################|17/17[00:00<00:00,37.21it/s]"
     ]
    },
    {
     "name": "stdout",
     "output_type": "stream",
     "text": [
      "\u001b[32m[1118 15:55:06 @base.py:285]\u001b[0m Epoch 375 (global_step 9562) finished, time:0.458 second.\n",
      "\u001b[32m[1118 15:55:06 @saver.py:79]\u001b[0m Model saved to ../output/Chicago/TEST/model\\model-9562.\n",
      "\u001b[32m[1118 15:55:06 @monitor.py:467]\u001b[0m GAN_loss/d_loss: -0.04731\n",
      "\u001b[32m[1118 15:55:06 @monitor.py:467]\u001b[0m GAN_loss/g_loss: -0.10437\n",
      "\u001b[32m[1118 15:55:06 @monitor.py:467]\u001b[0m GAN_loss/kl_div: 0.049473\n",
      "\u001b[32m[1118 15:55:06 @monitor.py:467]\u001b[0m QueueInput/queue_size: 50\n",
      "\u001b[32m[1118 15:55:06 @base.py:275]\u001b[0m Start Epoch 376 ...\n"
     ]
    },
    {
     "name": "stderr",
     "output_type": "stream",
     "text": [
      "\n",
      "100%|#####################################################################################|17/17[00:00<00:00,38.28it/s]"
     ]
    },
    {
     "name": "stdout",
     "output_type": "stream",
     "text": [
      "\u001b[32m[1118 15:55:06 @base.py:285]\u001b[0m Epoch 376 (global_step 9587) finished, time:0.445 second.\n",
      "\u001b[32m[1118 15:55:06 @saver.py:79]\u001b[0m Model saved to ../output/Chicago/TEST/model\\model-9587.\n",
      "\u001b[32m[1118 15:55:06 @monitor.py:467]\u001b[0m GAN_loss/d_loss: -0.046454\n",
      "\u001b[32m[1118 15:55:06 @monitor.py:467]\u001b[0m GAN_loss/g_loss: -0.10522\n",
      "\u001b[32m[1118 15:55:06 @monitor.py:467]\u001b[0m GAN_loss/kl_div: 0.047146\n",
      "\u001b[32m[1118 15:55:06 @monitor.py:467]\u001b[0m QueueInput/queue_size: 50\n",
      "\u001b[32m[1118 15:55:06 @base.py:275]\u001b[0m Start Epoch 377 ...\n"
     ]
    },
    {
     "name": "stderr",
     "output_type": "stream",
     "text": [
      "\n",
      "100%|#####################################################################################|17/17[00:00<00:00,37.05it/s]"
     ]
    },
    {
     "name": "stdout",
     "output_type": "stream",
     "text": [
      "\u001b[32m[1118 15:55:07 @base.py:285]\u001b[0m Epoch 377 (global_step 9613) finished, time:0.459 second.\n",
      "\u001b[32m[1118 15:55:07 @saver.py:79]\u001b[0m Model saved to ../output/Chicago/TEST/model\\model-9613.\n",
      "\u001b[32m[1118 15:55:07 @monitor.py:467]\u001b[0m GAN_loss/d_loss: -0.045546\n",
      "\u001b[32m[1118 15:55:07 @monitor.py:467]\u001b[0m GAN_loss/g_loss: -0.106\n",
      "\u001b[32m[1118 15:55:07 @monitor.py:467]\u001b[0m GAN_loss/kl_div: 0.046667\n",
      "\u001b[32m[1118 15:55:07 @monitor.py:467]\u001b[0m QueueInput/queue_size: 50\n",
      "\u001b[32m[1118 15:55:07 @base.py:275]\u001b[0m Start Epoch 378 ...\n"
     ]
    },
    {
     "name": "stderr",
     "output_type": "stream",
     "text": [
      "\n",
      "100%|#####################################################################################|17/17[00:00<00:00,38.38it/s]"
     ]
    },
    {
     "name": "stdout",
     "output_type": "stream",
     "text": [
      "\u001b[32m[1118 15:55:08 @base.py:285]\u001b[0m Epoch 378 (global_step 9638) finished, time:0.444 second.\n",
      "\u001b[32m[1118 15:55:08 @saver.py:79]\u001b[0m Model saved to ../output/Chicago/TEST/model\\model-9638.\n",
      "\u001b[32m[1118 15:55:08 @monitor.py:467]\u001b[0m GAN_loss/d_loss: -0.046538\n",
      "\u001b[32m[1118 15:55:08 @monitor.py:467]\u001b[0m GAN_loss/g_loss: -0.10549\n",
      "\u001b[32m[1118 15:55:08 @monitor.py:467]\u001b[0m GAN_loss/kl_div: 0.045139\n",
      "\u001b[32m[1118 15:55:08 @monitor.py:467]\u001b[0m QueueInput/queue_size: 50\n",
      "\u001b[32m[1118 15:55:08 @base.py:275]\u001b[0m Start Epoch 379 ...\n"
     ]
    },
    {
     "name": "stderr",
     "output_type": "stream",
     "text": [
      "\n",
      "100%|#####################################################################################|17/17[00:00<00:00,36.70it/s]"
     ]
    },
    {
     "name": "stdout",
     "output_type": "stream",
     "text": [
      "\u001b[32m[1118 15:55:08 @base.py:285]\u001b[0m Epoch 379 (global_step 9664) finished, time:0.464 second.\n",
      "\u001b[32m[1118 15:55:08 @saver.py:79]\u001b[0m Model saved to ../output/Chicago/TEST/model\\model-9664.\n",
      "\u001b[32m[1118 15:55:08 @monitor.py:467]\u001b[0m GAN_loss/d_loss: -0.045984\n",
      "\u001b[32m[1118 15:55:08 @monitor.py:467]\u001b[0m GAN_loss/g_loss: -0.10538\n",
      "\u001b[32m[1118 15:55:08 @monitor.py:467]\u001b[0m GAN_loss/kl_div: 0.045464\n",
      "\u001b[32m[1118 15:55:08 @monitor.py:467]\u001b[0m QueueInput/queue_size: 50\n",
      "\u001b[32m[1118 15:55:08 @base.py:275]\u001b[0m Start Epoch 380 ...\n"
     ]
    },
    {
     "name": "stderr",
     "output_type": "stream",
     "text": [
      "\n",
      "100%|#####################################################################################|17/17[00:00<00:00,38.34it/s]"
     ]
    },
    {
     "name": "stdout",
     "output_type": "stream",
     "text": [
      "\u001b[32m[1118 15:55:09 @base.py:285]\u001b[0m Epoch 380 (global_step 9689) finished, time:0.444 second.\n",
      "\u001b[32m[1118 15:55:09 @saver.py:79]\u001b[0m Model saved to ../output/Chicago/TEST/model\\model-9689.\n",
      "\u001b[32m[1118 15:55:09 @monitor.py:467]\u001b[0m GAN_loss/d_loss: -0.046855\n",
      "\u001b[32m[1118 15:55:09 @monitor.py:467]\u001b[0m GAN_loss/g_loss: -0.10501\n",
      "\u001b[32m[1118 15:55:09 @monitor.py:467]\u001b[0m GAN_loss/kl_div: 0.046208\n",
      "\u001b[32m[1118 15:55:09 @monitor.py:467]\u001b[0m QueueInput/queue_size: 50\n",
      "\u001b[32m[1118 15:55:09 @base.py:275]\u001b[0m Start Epoch 381 ...\n"
     ]
    },
    {
     "name": "stderr",
     "output_type": "stream",
     "text": [
      "\n",
      "100%|#####################################################################################|17/17[00:00<00:00,36.70it/s]"
     ]
    },
    {
     "name": "stdout",
     "output_type": "stream",
     "text": [
      "\u001b[32m[1118 15:55:09 @base.py:285]\u001b[0m Epoch 381 (global_step 9715) finished, time:0.464 second.\n",
      "\u001b[32m[1118 15:55:09 @saver.py:79]\u001b[0m Model saved to ../output/Chicago/TEST/model\\model-9715.\n",
      "\u001b[32m[1118 15:55:09 @monitor.py:467]\u001b[0m GAN_loss/d_loss: -0.046599\n",
      "\u001b[32m[1118 15:55:09 @monitor.py:467]\u001b[0m GAN_loss/g_loss: -0.1052\n",
      "\u001b[32m[1118 15:55:09 @monitor.py:467]\u001b[0m GAN_loss/kl_div: 0.047894\n",
      "\u001b[32m[1118 15:55:09 @monitor.py:467]\u001b[0m QueueInput/queue_size: 50\n",
      "\u001b[32m[1118 15:55:09 @base.py:275]\u001b[0m Start Epoch 382 ...\n"
     ]
    },
    {
     "name": "stderr",
     "output_type": "stream",
     "text": [
      "\n",
      "100%|#####################################################################################|17/17[00:00<00:00,38.25it/s]"
     ]
    },
    {
     "name": "stdout",
     "output_type": "stream",
     "text": [
      "\u001b[32m[1118 15:55:10 @base.py:285]\u001b[0m Epoch 382 (global_step 9740) finished, time:0.445 second.\n",
      "\u001b[32m[1118 15:55:10 @saver.py:79]\u001b[0m Model saved to ../output/Chicago/TEST/model\\model-9740.\n",
      "\u001b[32m[1118 15:55:10 @monitor.py:467]\u001b[0m GAN_loss/d_loss: -0.046808\n",
      "\u001b[32m[1118 15:55:10 @monitor.py:467]\u001b[0m GAN_loss/g_loss: -0.1052\n",
      "\u001b[32m[1118 15:55:10 @monitor.py:467]\u001b[0m GAN_loss/kl_div: 0.047378\n",
      "\u001b[32m[1118 15:55:10 @monitor.py:467]\u001b[0m QueueInput/queue_size: 50\n",
      "\u001b[32m[1118 15:55:10 @base.py:275]\u001b[0m Start Epoch 383 ...\n"
     ]
    },
    {
     "name": "stderr",
     "output_type": "stream",
     "text": [
      "\n",
      "100%|#####################################################################################|17/17[00:00<00:00,36.97it/s]"
     ]
    },
    {
     "name": "stdout",
     "output_type": "stream",
     "text": [
      "\u001b[32m[1118 15:55:11 @base.py:285]\u001b[0m Epoch 383 (global_step 9766) finished, time:0.46 second.\n",
      "\u001b[32m[1118 15:55:11 @saver.py:79]\u001b[0m Model saved to ../output/Chicago/TEST/model\\model-9766.\n",
      "\u001b[32m[1118 15:55:11 @monitor.py:467]\u001b[0m GAN_loss/d_loss: -0.046169\n",
      "\u001b[32m[1118 15:55:11 @monitor.py:467]\u001b[0m GAN_loss/g_loss: -0.10499\n",
      "\u001b[32m[1118 15:55:11 @monitor.py:467]\u001b[0m GAN_loss/kl_div: 0.050503\n",
      "\u001b[32m[1118 15:55:11 @monitor.py:467]\u001b[0m QueueInput/queue_size: 50\n",
      "\u001b[32m[1118 15:55:11 @base.py:275]\u001b[0m Start Epoch 384 ...\n"
     ]
    },
    {
     "name": "stderr",
     "output_type": "stream",
     "text": [
      "\n",
      "100%|#####################################################################################|17/17[00:00<00:00,38.30it/s]"
     ]
    },
    {
     "name": "stdout",
     "output_type": "stream",
     "text": [
      "\u001b[32m[1118 15:55:11 @base.py:285]\u001b[0m Epoch 384 (global_step 9791) finished, time:0.444 second.\n",
      "\u001b[32m[1118 15:55:11 @saver.py:79]\u001b[0m Model saved to ../output/Chicago/TEST/model\\model-9791.\n",
      "\u001b[32m[1118 15:55:11 @monitor.py:467]\u001b[0m GAN_loss/d_loss: -0.045841\n",
      "\u001b[32m[1118 15:55:11 @monitor.py:467]\u001b[0m GAN_loss/g_loss: -0.10537\n",
      "\u001b[32m[1118 15:55:11 @monitor.py:467]\u001b[0m GAN_loss/kl_div: 0.050139\n",
      "\u001b[32m[1118 15:55:11 @monitor.py:467]\u001b[0m QueueInput/queue_size: 50\n",
      "\u001b[32m[1118 15:55:11 @base.py:275]\u001b[0m Start Epoch 385 ...\n"
     ]
    },
    {
     "name": "stderr",
     "output_type": "stream",
     "text": [
      "\n",
      "100%|#####################################################################################|17/17[00:00<00:00,36.85it/s]"
     ]
    },
    {
     "name": "stdout",
     "output_type": "stream",
     "text": [
      "\u001b[32m[1118 15:55:12 @base.py:285]\u001b[0m Epoch 385 (global_step 9817) finished, time:0.461 second.\n",
      "\u001b[32m[1118 15:55:12 @saver.py:79]\u001b[0m Model saved to ../output/Chicago/TEST/model\\model-9817.\n",
      "\u001b[32m[1118 15:55:12 @monitor.py:467]\u001b[0m GAN_loss/d_loss: -0.047241\n",
      "\u001b[32m[1118 15:55:12 @monitor.py:467]\u001b[0m GAN_loss/g_loss: -0.10554\n",
      "\u001b[32m[1118 15:55:12 @monitor.py:467]\u001b[0m GAN_loss/kl_div: 0.045643\n",
      "\u001b[32m[1118 15:55:12 @monitor.py:467]\u001b[0m QueueInput/queue_size: 50\n",
      "\u001b[32m[1118 15:55:12 @base.py:275]\u001b[0m Start Epoch 386 ...\n"
     ]
    },
    {
     "name": "stderr",
     "output_type": "stream",
     "text": [
      "\n",
      "100%|#####################################################################################|17/17[00:00<00:00,38.30it/s]"
     ]
    },
    {
     "name": "stdout",
     "output_type": "stream",
     "text": [
      "\u001b[32m[1118 15:55:12 @base.py:285]\u001b[0m Epoch 386 (global_step 9842) finished, time:0.445 second.\n",
      "\u001b[32m[1118 15:55:12 @saver.py:79]\u001b[0m Model saved to ../output/Chicago/TEST/model\\model-9842.\n",
      "\u001b[32m[1118 15:55:12 @monitor.py:467]\u001b[0m GAN_loss/d_loss: -0.046054\n",
      "\u001b[32m[1118 15:55:12 @monitor.py:467]\u001b[0m GAN_loss/g_loss: -0.10572\n",
      "\u001b[32m[1118 15:55:12 @monitor.py:467]\u001b[0m GAN_loss/kl_div: 0.04911\n",
      "\u001b[32m[1118 15:55:12 @monitor.py:467]\u001b[0m QueueInput/queue_size: 50\n",
      "\u001b[32m[1118 15:55:12 @base.py:275]\u001b[0m Start Epoch 387 ...\n"
     ]
    },
    {
     "name": "stderr",
     "output_type": "stream",
     "text": [
      "\n",
      "100%|#####################################################################################|17/17[00:00<00:00,37.09it/s]"
     ]
    },
    {
     "name": "stdout",
     "output_type": "stream",
     "text": [
      "\u001b[32m[1118 15:55:13 @base.py:285]\u001b[0m Epoch 387 (global_step 9868) finished, time:0.459 second.\n",
      "\u001b[32m[1118 15:55:13 @saver.py:79]\u001b[0m Model saved to ../output/Chicago/TEST/model\\model-9868.\n",
      "\u001b[32m[1118 15:55:13 @monitor.py:467]\u001b[0m GAN_loss/d_loss: -0.045915\n",
      "\u001b[32m[1118 15:55:13 @monitor.py:467]\u001b[0m GAN_loss/g_loss: -0.10594\n",
      "\u001b[32m[1118 15:55:13 @monitor.py:467]\u001b[0m GAN_loss/kl_div: 0.048993\n",
      "\u001b[32m[1118 15:55:13 @monitor.py:467]\u001b[0m QueueInput/queue_size: 50\n",
      "\u001b[32m[1118 15:55:13 @base.py:275]\u001b[0m Start Epoch 388 ...\n"
     ]
    },
    {
     "name": "stderr",
     "output_type": "stream",
     "text": [
      "\n",
      "100%|#####################################################################################|17/17[00:00<00:00,38.38it/s]"
     ]
    },
    {
     "name": "stdout",
     "output_type": "stream",
     "text": [
      "\u001b[32m[1118 15:55:14 @base.py:285]\u001b[0m Epoch 388 (global_step 9893) finished, time:0.443 second.\n",
      "\u001b[32m[1118 15:55:14 @saver.py:79]\u001b[0m Model saved to ../output/Chicago/TEST/model\\model-9893.\n",
      "\u001b[32m[1118 15:55:14 @monitor.py:467]\u001b[0m GAN_loss/d_loss: -0.046027\n",
      "\u001b[32m[1118 15:55:14 @monitor.py:467]\u001b[0m GAN_loss/g_loss: -0.10542\n",
      "\u001b[32m[1118 15:55:14 @monitor.py:467]\u001b[0m GAN_loss/kl_div: 0.047593\n",
      "\u001b[32m[1118 15:55:14 @monitor.py:467]\u001b[0m QueueInput/queue_size: 50\n",
      "\u001b[32m[1118 15:55:14 @base.py:275]\u001b[0m Start Epoch 389 ...\n"
     ]
    },
    {
     "name": "stderr",
     "output_type": "stream",
     "text": [
      "\n",
      "100%|#####################################################################################|17/17[00:00<00:00,36.89it/s]"
     ]
    },
    {
     "name": "stdout",
     "output_type": "stream",
     "text": [
      "\u001b[32m[1118 15:55:14 @base.py:285]\u001b[0m Epoch 389 (global_step 9919) finished, time:0.462 second.\n",
      "\u001b[32m[1118 15:55:14 @saver.py:79]\u001b[0m Model saved to ../output/Chicago/TEST/model\\model-9919.\n",
      "\u001b[32m[1118 15:55:14 @monitor.py:467]\u001b[0m GAN_loss/d_loss: -0.045513\n",
      "\u001b[32m[1118 15:55:14 @monitor.py:467]\u001b[0m GAN_loss/g_loss: -0.10578\n",
      "\u001b[32m[1118 15:55:14 @monitor.py:467]\u001b[0m GAN_loss/kl_div: 0.049321\n",
      "\u001b[32m[1118 15:55:14 @monitor.py:467]\u001b[0m QueueInput/queue_size: 50\n",
      "\u001b[32m[1118 15:55:14 @base.py:275]\u001b[0m Start Epoch 390 ...\n"
     ]
    },
    {
     "name": "stderr",
     "output_type": "stream",
     "text": [
      "\n",
      "100%|#####################################################################################|17/17[00:00<00:00,38.42it/s]"
     ]
    },
    {
     "name": "stdout",
     "output_type": "stream",
     "text": [
      "\u001b[32m[1118 15:55:15 @base.py:285]\u001b[0m Epoch 390 (global_step 9944) finished, time:0.443 second.\n",
      "\u001b[32m[1118 15:55:15 @saver.py:79]\u001b[0m Model saved to ../output/Chicago/TEST/model\\model-9944.\n",
      "\u001b[32m[1118 15:55:15 @monitor.py:467]\u001b[0m GAN_loss/d_loss: -0.046172\n",
      "\u001b[32m[1118 15:55:15 @monitor.py:467]\u001b[0m GAN_loss/g_loss: -0.10607\n",
      "\u001b[32m[1118 15:55:15 @monitor.py:467]\u001b[0m GAN_loss/kl_div: 0.046731\n",
      "\u001b[32m[1118 15:55:15 @monitor.py:467]\u001b[0m QueueInput/queue_size: 50\n",
      "\u001b[32m[1118 15:55:15 @base.py:275]\u001b[0m Start Epoch 391 ...\n"
     ]
    },
    {
     "name": "stderr",
     "output_type": "stream",
     "text": [
      "\n",
      "100%|#####################################################################################|17/17[00:00<00:00,37.21it/s]"
     ]
    },
    {
     "name": "stdout",
     "output_type": "stream",
     "text": [
      "\u001b[32m[1118 15:55:15 @base.py:285]\u001b[0m Epoch 391 (global_step 9970) finished, time:0.457 second.\n",
      "\u001b[32m[1118 15:55:15 @saver.py:79]\u001b[0m Model saved to ../output/Chicago/TEST/model\\model-9970.\n",
      "\u001b[32m[1118 15:55:15 @monitor.py:467]\u001b[0m GAN_loss/d_loss: -0.045709\n",
      "\u001b[32m[1118 15:55:15 @monitor.py:467]\u001b[0m GAN_loss/g_loss: -0.10722\n",
      "\u001b[32m[1118 15:55:15 @monitor.py:467]\u001b[0m GAN_loss/kl_div: 0.050133\n",
      "\u001b[32m[1118 15:55:15 @monitor.py:467]\u001b[0m QueueInput/queue_size: 50\n",
      "\u001b[32m[1118 15:55:15 @base.py:275]\u001b[0m Start Epoch 392 ...\n"
     ]
    },
    {
     "name": "stderr",
     "output_type": "stream",
     "text": [
      "\n",
      "100%|#####################################################################################|17/17[00:00<00:00,38.25it/s]"
     ]
    },
    {
     "name": "stdout",
     "output_type": "stream",
     "text": [
      "\u001b[32m[1118 15:55:16 @base.py:285]\u001b[0m Epoch 392 (global_step 9995) finished, time:0.445 second.\n",
      "\u001b[32m[1118 15:55:16 @saver.py:79]\u001b[0m Model saved to ../output/Chicago/TEST/model\\model-9995.\n",
      "\u001b[32m[1118 15:55:16 @monitor.py:467]\u001b[0m GAN_loss/d_loss: -0.04552\n",
      "\u001b[32m[1118 15:55:16 @monitor.py:467]\u001b[0m GAN_loss/g_loss: -0.10723\n",
      "\u001b[32m[1118 15:55:16 @monitor.py:467]\u001b[0m GAN_loss/kl_div: 0.048788\n",
      "\u001b[32m[1118 15:55:16 @monitor.py:467]\u001b[0m QueueInput/queue_size: 50\n",
      "\u001b[32m[1118 15:55:16 @base.py:275]\u001b[0m Start Epoch 393 ...\n"
     ]
    },
    {
     "name": "stderr",
     "output_type": "stream",
     "text": [
      "\n",
      "100%|#####################################################################################|17/17[00:00<00:00,36.97it/s]"
     ]
    },
    {
     "name": "stdout",
     "output_type": "stream",
     "text": [
      "\u001b[32m[1118 15:55:17 @base.py:285]\u001b[0m Epoch 393 (global_step 10021) finished, time:0.46 second.\n",
      "\u001b[32m[1118 15:55:17 @saver.py:79]\u001b[0m Model saved to ../output/Chicago/TEST/model\\model-10021.\n",
      "\u001b[32m[1118 15:55:17 @monitor.py:467]\u001b[0m GAN_loss/d_loss: -0.045306\n",
      "\u001b[32m[1118 15:55:17 @monitor.py:467]\u001b[0m GAN_loss/g_loss: -0.10734\n",
      "\u001b[32m[1118 15:55:17 @monitor.py:467]\u001b[0m GAN_loss/kl_div: 0.046098\n",
      "\u001b[32m[1118 15:55:17 @monitor.py:467]\u001b[0m QueueInput/queue_size: 50\n",
      "\u001b[32m[1118 15:55:17 @base.py:275]\u001b[0m Start Epoch 394 ...\n"
     ]
    },
    {
     "name": "stderr",
     "output_type": "stream",
     "text": [
      "\n",
      "100%|#####################################################################################|17/17[00:00<00:00,38.21it/s]"
     ]
    },
    {
     "name": "stdout",
     "output_type": "stream",
     "text": [
      "\u001b[32m[1118 15:55:17 @base.py:285]\u001b[0m Epoch 394 (global_step 10046) finished, time:0.445 second.\n",
      "\u001b[32m[1118 15:55:17 @saver.py:79]\u001b[0m Model saved to ../output/Chicago/TEST/model\\model-10046.\n",
      "\u001b[32m[1118 15:55:17 @monitor.py:467]\u001b[0m GAN_loss/d_loss: -0.04495\n",
      "\u001b[32m[1118 15:55:17 @monitor.py:467]\u001b[0m GAN_loss/g_loss: -0.10758\n",
      "\u001b[32m[1118 15:55:17 @monitor.py:467]\u001b[0m GAN_loss/kl_div: 0.045865\n",
      "\u001b[32m[1118 15:55:17 @monitor.py:467]\u001b[0m QueueInput/queue_size: 50\n",
      "\u001b[32m[1118 15:55:17 @base.py:275]\u001b[0m Start Epoch 395 ...\n"
     ]
    },
    {
     "name": "stderr",
     "output_type": "stream",
     "text": [
      "\n",
      "100%|#####################################################################################|17/17[00:00<00:00,36.85it/s]"
     ]
    },
    {
     "name": "stdout",
     "output_type": "stream",
     "text": [
      "\u001b[32m[1118 15:55:18 @base.py:285]\u001b[0m Epoch 395 (global_step 10072) finished, time:0.462 second.\n",
      "\u001b[32m[1118 15:55:18 @saver.py:79]\u001b[0m Model saved to ../output/Chicago/TEST/model\\model-10072.\n",
      "\u001b[32m[1118 15:55:18 @monitor.py:467]\u001b[0m GAN_loss/d_loss: -0.045382\n",
      "\u001b[32m[1118 15:55:18 @monitor.py:467]\u001b[0m GAN_loss/g_loss: -0.10796\n",
      "\u001b[32m[1118 15:55:18 @monitor.py:467]\u001b[0m GAN_loss/kl_div: 0.046039\n",
      "\u001b[32m[1118 15:55:18 @monitor.py:467]\u001b[0m QueueInput/queue_size: 50\n",
      "\u001b[32m[1118 15:55:18 @base.py:275]\u001b[0m Start Epoch 396 ...\n"
     ]
    },
    {
     "name": "stderr",
     "output_type": "stream",
     "text": [
      "\n",
      "100%|#####################################################################################|17/17[00:00<00:00,38.38it/s]"
     ]
    },
    {
     "name": "stdout",
     "output_type": "stream",
     "text": [
      "\u001b[32m[1118 15:55:18 @base.py:285]\u001b[0m Epoch 396 (global_step 10097) finished, time:0.443 second.\n",
      "\u001b[32m[1118 15:55:18 @saver.py:79]\u001b[0m Model saved to ../output/Chicago/TEST/model\\model-10097.\n",
      "\u001b[32m[1118 15:55:18 @monitor.py:467]\u001b[0m GAN_loss/d_loss: -0.045903\n",
      "\u001b[32m[1118 15:55:18 @monitor.py:467]\u001b[0m GAN_loss/g_loss: -0.10651\n",
      "\u001b[32m[1118 15:55:18 @monitor.py:467]\u001b[0m GAN_loss/kl_div: 0.047407\n",
      "\u001b[32m[1118 15:55:18 @monitor.py:467]\u001b[0m QueueInput/queue_size: 50\n",
      "\u001b[32m[1118 15:55:18 @base.py:275]\u001b[0m Start Epoch 397 ...\n"
     ]
    },
    {
     "name": "stderr",
     "output_type": "stream",
     "text": [
      "\n",
      "100%|#####################################################################################|17/17[00:00<00:00,36.85it/s]"
     ]
    },
    {
     "name": "stdout",
     "output_type": "stream",
     "text": [
      "\u001b[32m[1118 15:55:19 @base.py:285]\u001b[0m Epoch 397 (global_step 10123) finished, time:0.461 second.\n",
      "\u001b[32m[1118 15:55:19 @saver.py:79]\u001b[0m Model saved to ../output/Chicago/TEST/model\\model-10123.\n",
      "\u001b[32m[1118 15:55:19 @monitor.py:467]\u001b[0m GAN_loss/d_loss: -0.045853\n",
      "\u001b[32m[1118 15:55:19 @monitor.py:467]\u001b[0m GAN_loss/g_loss: -0.10692\n",
      "\u001b[32m[1118 15:55:19 @monitor.py:467]\u001b[0m GAN_loss/kl_div: 0.042817\n",
      "\u001b[32m[1118 15:55:19 @monitor.py:467]\u001b[0m QueueInput/queue_size: 50\n",
      "\u001b[32m[1118 15:55:19 @base.py:275]\u001b[0m Start Epoch 398 ...\n"
     ]
    },
    {
     "name": "stderr",
     "output_type": "stream",
     "text": [
      "\n",
      "100%|#####################################################################################|17/17[00:00<00:00,37.79it/s]"
     ]
    },
    {
     "name": "stdout",
     "output_type": "stream",
     "text": [
      "\u001b[32m[1118 15:55:19 @base.py:285]\u001b[0m Epoch 398 (global_step 10148) finished, time:0.45 second.\n",
      "\u001b[32m[1118 15:55:20 @saver.py:79]\u001b[0m Model saved to ../output/Chicago/TEST/model\\model-10148.\n",
      "\u001b[32m[1118 15:55:20 @monitor.py:467]\u001b[0m GAN_loss/d_loss: -0.046204\n",
      "\u001b[32m[1118 15:55:20 @monitor.py:467]\u001b[0m GAN_loss/g_loss: -0.10701\n",
      "\u001b[32m[1118 15:55:20 @monitor.py:467]\u001b[0m GAN_loss/kl_div: 0.045463\n",
      "\u001b[32m[1118 15:55:20 @monitor.py:467]\u001b[0m QueueInput/queue_size: 50\n",
      "\u001b[32m[1118 15:55:20 @base.py:275]\u001b[0m Start Epoch 399 ...\n"
     ]
    },
    {
     "name": "stderr",
     "output_type": "stream",
     "text": [
      "\n",
      "100%|#####################################################################################|17/17[00:00<00:00,36.89it/s]"
     ]
    },
    {
     "name": "stdout",
     "output_type": "stream",
     "text": [
      "\u001b[32m[1118 15:55:20 @base.py:285]\u001b[0m Epoch 399 (global_step 10174) finished, time:0.461 second.\n",
      "\u001b[32m[1118 15:55:20 @saver.py:79]\u001b[0m Model saved to ../output/Chicago/TEST/model\\model-10174.\n",
      "\u001b[32m[1118 15:55:20 @monitor.py:467]\u001b[0m GAN_loss/d_loss: -0.04592\n",
      "\u001b[32m[1118 15:55:20 @monitor.py:467]\u001b[0m GAN_loss/g_loss: -0.10681\n",
      "\u001b[32m[1118 15:55:20 @monitor.py:467]\u001b[0m GAN_loss/kl_div: 0.045267\n",
      "\u001b[32m[1118 15:55:20 @monitor.py:467]\u001b[0m QueueInput/queue_size: 50\n",
      "\u001b[32m[1118 15:55:20 @base.py:275]\u001b[0m Start Epoch 400 ...\n"
     ]
    },
    {
     "name": "stderr",
     "output_type": "stream",
     "text": [
      "\n",
      "100%|#####################################################################################|17/17[00:00<00:00,38.38it/s]"
     ]
    },
    {
     "name": "stdout",
     "output_type": "stream",
     "text": [
      "\u001b[32m[1118 15:55:21 @base.py:285]\u001b[0m Epoch 400 (global_step 10199) finished, time:0.444 second.\n",
      "\u001b[32m[1118 15:55:21 @saver.py:79]\u001b[0m Model saved to ../output/Chicago/TEST/model\\model-10199.\n",
      "\u001b[32m[1118 15:55:21 @monitor.py:467]\u001b[0m GAN_loss/d_loss: -0.04464\n",
      "\u001b[32m[1118 15:55:21 @monitor.py:467]\u001b[0m GAN_loss/g_loss: -0.10793\n",
      "\u001b[32m[1118 15:55:21 @monitor.py:467]\u001b[0m GAN_loss/kl_div: 0.044528\n",
      "\u001b[32m[1118 15:55:21 @monitor.py:467]\u001b[0m QueueInput/queue_size: 50\n",
      "\u001b[32m[1118 15:55:21 @base.py:275]\u001b[0m Start Epoch 401 ...\n"
     ]
    },
    {
     "name": "stderr",
     "output_type": "stream",
     "text": [
      "\n",
      "100%|#####################################################################################|17/17[00:00<00:00,37.01it/s]"
     ]
    },
    {
     "name": "stdout",
     "output_type": "stream",
     "text": [
      "\u001b[32m[1118 15:55:21 @base.py:285]\u001b[0m Epoch 401 (global_step 10225) finished, time:0.46 second.\n",
      "\u001b[32m[1118 15:55:21 @saver.py:79]\u001b[0m Model saved to ../output/Chicago/TEST/model\\model-10225.\n",
      "\u001b[32m[1118 15:55:21 @monitor.py:467]\u001b[0m GAN_loss/d_loss: -0.044069\n",
      "\u001b[32m[1118 15:55:21 @monitor.py:467]\u001b[0m GAN_loss/g_loss: -0.10788\n",
      "\u001b[32m[1118 15:55:21 @monitor.py:467]\u001b[0m GAN_loss/kl_div: 0.044445\n",
      "\u001b[32m[1118 15:55:21 @monitor.py:467]\u001b[0m QueueInput/queue_size: 50\n",
      "\u001b[32m[1118 15:55:21 @base.py:275]\u001b[0m Start Epoch 402 ...\n"
     ]
    },
    {
     "name": "stderr",
     "output_type": "stream",
     "text": [
      "\n",
      "100%|#####################################################################################|17/17[00:00<00:00,38.42it/s]"
     ]
    },
    {
     "name": "stdout",
     "output_type": "stream",
     "text": [
      "\u001b[32m[1118 15:55:22 @base.py:285]\u001b[0m Epoch 402 (global_step 10250) finished, time:0.443 second.\n",
      "\u001b[32m[1118 15:55:22 @saver.py:79]\u001b[0m Model saved to ../output/Chicago/TEST/model\\model-10250.\n",
      "\u001b[32m[1118 15:55:22 @monitor.py:467]\u001b[0m GAN_loss/d_loss: -0.043298\n",
      "\u001b[32m[1118 15:55:22 @monitor.py:467]\u001b[0m GAN_loss/g_loss: -0.10703\n",
      "\u001b[32m[1118 15:55:22 @monitor.py:467]\u001b[0m GAN_loss/kl_div: 0.048169\n",
      "\u001b[32m[1118 15:55:22 @monitor.py:467]\u001b[0m QueueInput/queue_size: 50\n",
      "\u001b[32m[1118 15:55:22 @base.py:275]\u001b[0m Start Epoch 403 ...\n"
     ]
    },
    {
     "name": "stderr",
     "output_type": "stream",
     "text": [
      "\n",
      "100%|#####################################################################################|17/17[00:00<00:00,36.93it/s]"
     ]
    },
    {
     "name": "stdout",
     "output_type": "stream",
     "text": [
      "\u001b[32m[1118 15:55:22 @base.py:285]\u001b[0m Epoch 403 (global_step 10276) finished, time:0.461 second.\n",
      "\u001b[32m[1118 15:55:23 @saver.py:79]\u001b[0m Model saved to ../output/Chicago/TEST/model\\model-10276.\n",
      "\u001b[32m[1118 15:55:23 @monitor.py:467]\u001b[0m GAN_loss/d_loss: -0.044225\n",
      "\u001b[32m[1118 15:55:23 @monitor.py:467]\u001b[0m GAN_loss/g_loss: -0.10654\n",
      "\u001b[32m[1118 15:55:23 @monitor.py:467]\u001b[0m GAN_loss/kl_div: 0.049313\n",
      "\u001b[32m[1118 15:55:23 @monitor.py:467]\u001b[0m QueueInput/queue_size: 50\n",
      "\u001b[32m[1118 15:55:23 @base.py:275]\u001b[0m Start Epoch 404 ...\n"
     ]
    },
    {
     "name": "stderr",
     "output_type": "stream",
     "text": [
      "\n",
      "100%|#####################################################################################|17/17[00:00<00:00,38.25it/s]"
     ]
    },
    {
     "name": "stdout",
     "output_type": "stream",
     "text": [
      "\u001b[32m[1118 15:55:23 @base.py:285]\u001b[0m Epoch 404 (global_step 10301) finished, time:0.445 second.\n",
      "\u001b[32m[1118 15:55:23 @saver.py:79]\u001b[0m Model saved to ../output/Chicago/TEST/model\\model-10301.\n",
      "\u001b[32m[1118 15:55:23 @monitor.py:467]\u001b[0m GAN_loss/d_loss: -0.04484\n",
      "\u001b[32m[1118 15:55:23 @monitor.py:467]\u001b[0m GAN_loss/g_loss: -0.10663\n",
      "\u001b[32m[1118 15:55:23 @monitor.py:467]\u001b[0m GAN_loss/kl_div: 0.050108\n",
      "\u001b[32m[1118 15:55:23 @monitor.py:467]\u001b[0m QueueInput/queue_size: 50\n",
      "\u001b[32m[1118 15:55:23 @base.py:275]\u001b[0m Start Epoch 405 ...\n"
     ]
    },
    {
     "name": "stderr",
     "output_type": "stream",
     "text": [
      "\n",
      "100%|#####################################################################################|17/17[00:00<00:00,37.09it/s]"
     ]
    },
    {
     "name": "stdout",
     "output_type": "stream",
     "text": [
      "\u001b[32m[1118 15:55:24 @base.py:285]\u001b[0m Epoch 405 (global_step 10327) finished, time:0.459 second.\n",
      "\u001b[32m[1118 15:55:24 @saver.py:79]\u001b[0m Model saved to ../output/Chicago/TEST/model\\model-10327.\n",
      "\u001b[32m[1118 15:55:24 @monitor.py:467]\u001b[0m GAN_loss/d_loss: -0.04429\n",
      "\u001b[32m[1118 15:55:24 @monitor.py:467]\u001b[0m GAN_loss/g_loss: -0.10669\n",
      "\u001b[32m[1118 15:55:24 @monitor.py:467]\u001b[0m GAN_loss/kl_div: 0.047507\n",
      "\u001b[32m[1118 15:55:24 @monitor.py:467]\u001b[0m QueueInput/queue_size: 50\n",
      "\u001b[32m[1118 15:55:24 @base.py:275]\u001b[0m Start Epoch 406 ...\n"
     ]
    },
    {
     "name": "stderr",
     "output_type": "stream",
     "text": [
      "\n",
      "100%|#####################################################################################|17/17[00:00<00:00,38.12it/s]"
     ]
    },
    {
     "name": "stdout",
     "output_type": "stream",
     "text": [
      "\u001b[32m[1118 15:55:24 @base.py:285]\u001b[0m Epoch 406 (global_step 10352) finished, time:0.446 second.\n",
      "\u001b[32m[1118 15:55:24 @saver.py:79]\u001b[0m Model saved to ../output/Chicago/TEST/model\\model-10352.\n",
      "\u001b[32m[1118 15:55:24 @monitor.py:467]\u001b[0m GAN_loss/d_loss: -0.044067\n",
      "\u001b[32m[1118 15:55:24 @monitor.py:467]\u001b[0m GAN_loss/g_loss: -0.10709\n",
      "\u001b[32m[1118 15:55:24 @monitor.py:467]\u001b[0m GAN_loss/kl_div: 0.045673\n",
      "\u001b[32m[1118 15:55:24 @monitor.py:467]\u001b[0m QueueInput/queue_size: 50\n",
      "\u001b[32m[1118 15:55:24 @base.py:275]\u001b[0m Start Epoch 407 ...\n"
     ]
    },
    {
     "name": "stderr",
     "output_type": "stream",
     "text": [
      "\n",
      "100%|#####################################################################################|17/17[00:00<00:00,36.97it/s]"
     ]
    },
    {
     "name": "stdout",
     "output_type": "stream",
     "text": [
      "\u001b[32m[1118 15:55:25 @base.py:285]\u001b[0m Epoch 407 (global_step 10378) finished, time:0.46 second.\n",
      "\u001b[32m[1118 15:55:25 @saver.py:79]\u001b[0m Model saved to ../output/Chicago/TEST/model\\model-10378.\n",
      "\u001b[32m[1118 15:55:25 @monitor.py:467]\u001b[0m GAN_loss/d_loss: -0.043936\n"
     ]
    },
    {
     "name": "stderr",
     "output_type": "stream",
     "text": [
      "\n"
     ]
    },
    {
     "name": "stdout",
     "output_type": "stream",
     "text": [
      "\u001b[32m[1118 15:55:25 @monitor.py:467]\u001b[0m GAN_loss/g_loss: -0.10765\n",
      "\u001b[32m[1118 15:55:25 @monitor.py:467]\u001b[0m GAN_loss/kl_div: 0.045637\n",
      "\u001b[32m[1118 15:55:25 @monitor.py:467]\u001b[0m QueueInput/queue_size: 50\n",
      "\u001b[32m[1118 15:55:25 @base.py:275]\u001b[0m Start Epoch 408 ...\n"
     ]
    },
    {
     "name": "stderr",
     "output_type": "stream",
     "text": [
      "100%|#####################################################################################|17/17[00:00<00:00,38.38it/s]"
     ]
    },
    {
     "name": "stdout",
     "output_type": "stream",
     "text": [
      "\u001b[32m[1118 15:55:26 @base.py:285]\u001b[0m Epoch 408 (global_step 10403) finished, time:0.443 second.\n",
      "\u001b[32m[1118 15:55:26 @saver.py:79]\u001b[0m Model saved to ../output/Chicago/TEST/model\\model-10403.\n",
      "\u001b[32m[1118 15:55:26 @monitor.py:467]\u001b[0m GAN_loss/d_loss: -0.04388\n",
      "\u001b[32m[1118 15:55:26 @monitor.py:467]\u001b[0m GAN_loss/g_loss: -0.10792\n",
      "\u001b[32m[1118 15:55:26 @monitor.py:467]\u001b[0m GAN_loss/kl_div: 0.045872\n",
      "\u001b[32m[1118 15:55:26 @monitor.py:467]\u001b[0m QueueInput/queue_size: 50\n",
      "\u001b[32m[1118 15:55:26 @base.py:275]\u001b[0m Start Epoch 409 ...\n"
     ]
    },
    {
     "name": "stderr",
     "output_type": "stream",
     "text": [
      "\n",
      "100%|#####################################################################################|17/17[00:00<00:00,37.05it/s]"
     ]
    },
    {
     "name": "stdout",
     "output_type": "stream",
     "text": [
      "\u001b[32m[1118 15:55:26 @base.py:285]\u001b[0m Epoch 409 (global_step 10429) finished, time:0.459 second.\n",
      "\u001b[32m[1118 15:55:26 @saver.py:79]\u001b[0m Model saved to ../output/Chicago/TEST/model\\model-10429.\n",
      "\u001b[32m[1118 15:55:26 @monitor.py:467]\u001b[0m GAN_loss/d_loss: -0.044436\n",
      "\u001b[32m[1118 15:55:26 @monitor.py:467]\u001b[0m GAN_loss/g_loss: -0.10785\n",
      "\u001b[32m[1118 15:55:26 @monitor.py:467]\u001b[0m GAN_loss/kl_div: 0.047624\n",
      "\u001b[32m[1118 15:55:26 @monitor.py:467]\u001b[0m QueueInput/queue_size: 50\n",
      "\u001b[32m[1118 15:55:26 @base.py:275]\u001b[0m Start Epoch 410 ...\n"
     ]
    },
    {
     "name": "stderr",
     "output_type": "stream",
     "text": [
      "\n",
      "100%|#####################################################################################|17/17[00:00<00:00,38.21it/s]"
     ]
    },
    {
     "name": "stdout",
     "output_type": "stream",
     "text": [
      "\u001b[32m[1118 15:55:27 @base.py:285]\u001b[0m Epoch 410 (global_step 10454) finished, time:0.446 second.\n",
      "\u001b[32m[1118 15:55:27 @saver.py:79]\u001b[0m Model saved to ../output/Chicago/TEST/model\\model-10454.\n",
      "\u001b[32m[1118 15:55:27 @monitor.py:467]\u001b[0m GAN_loss/d_loss: -0.043652\n",
      "\u001b[32m[1118 15:55:27 @monitor.py:467]\u001b[0m GAN_loss/g_loss: -0.10741\n",
      "\u001b[32m[1118 15:55:27 @monitor.py:467]\u001b[0m GAN_loss/kl_div: 0.047988\n",
      "\u001b[32m[1118 15:55:27 @monitor.py:467]\u001b[0m QueueInput/queue_size: 50\n",
      "\u001b[32m[1118 15:55:27 @base.py:275]\u001b[0m Start Epoch 411 ...\n"
     ]
    },
    {
     "name": "stderr",
     "output_type": "stream",
     "text": [
      "\n",
      "100%|#####################################################################################|17/17[00:00<00:00,37.05it/s]"
     ]
    },
    {
     "name": "stdout",
     "output_type": "stream",
     "text": [
      "\u001b[32m[1118 15:55:27 @base.py:285]\u001b[0m Epoch 411 (global_step 10480) finished, time:0.459 second.\n",
      "\u001b[32m[1118 15:55:27 @saver.py:79]\u001b[0m Model saved to ../output/Chicago/TEST/model\\model-10480.\n",
      "\u001b[32m[1118 15:55:28 @monitor.py:467]\u001b[0m GAN_loss/d_loss: -0.043889\n",
      "\u001b[32m[1118 15:55:28 @monitor.py:467]\u001b[0m GAN_loss/g_loss: -0.10754\n",
      "\u001b[32m[1118 15:55:28 @monitor.py:467]\u001b[0m GAN_loss/kl_div: 0.046932\n",
      "\u001b[32m[1118 15:55:28 @monitor.py:467]\u001b[0m QueueInput/queue_size: 50\n",
      "\u001b[32m[1118 15:55:28 @base.py:275]\u001b[0m Start Epoch 412 ...\n"
     ]
    },
    {
     "name": "stderr",
     "output_type": "stream",
     "text": [
      "\n",
      "100%|#####################################################################################|17/17[00:00<00:00,38.21it/s]"
     ]
    },
    {
     "name": "stdout",
     "output_type": "stream",
     "text": [
      "\u001b[32m[1118 15:55:28 @base.py:285]\u001b[0m Epoch 412 (global_step 10505) finished, time:0.445 second.\n",
      "\u001b[32m[1118 15:55:28 @saver.py:79]\u001b[0m Model saved to ../output/Chicago/TEST/model\\model-10505.\n",
      "\u001b[32m[1118 15:55:28 @monitor.py:467]\u001b[0m GAN_loss/d_loss: -0.044746\n",
      "\u001b[32m[1118 15:55:28 @monitor.py:467]\u001b[0m GAN_loss/g_loss: -0.10778\n",
      "\u001b[32m[1118 15:55:28 @monitor.py:467]\u001b[0m GAN_loss/kl_div: 0.044539\n",
      "\u001b[32m[1118 15:55:28 @monitor.py:467]\u001b[0m QueueInput/queue_size: 50\n",
      "\u001b[32m[1118 15:55:28 @base.py:275]\u001b[0m Start Epoch 413 ...\n"
     ]
    },
    {
     "name": "stderr",
     "output_type": "stream",
     "text": [
      "\n",
      "100%|#####################################################################################|17/17[00:00<00:00,37.01it/s]"
     ]
    },
    {
     "name": "stdout",
     "output_type": "stream",
     "text": [
      "\u001b[32m[1118 15:55:29 @base.py:285]\u001b[0m Epoch 413 (global_step 10531) finished, time:0.46 second.\n",
      "\u001b[32m[1118 15:55:29 @saver.py:79]\u001b[0m Model saved to ../output/Chicago/TEST/model\\model-10531.\n",
      "\u001b[32m[1118 15:55:29 @monitor.py:467]\u001b[0m GAN_loss/d_loss: -0.044041\n",
      "\u001b[32m[1118 15:55:29 @monitor.py:467]\u001b[0m GAN_loss/g_loss: -0.10845\n",
      "\u001b[32m[1118 15:55:29 @monitor.py:467]\u001b[0m GAN_loss/kl_div: 0.04728\n",
      "\u001b[32m[1118 15:55:29 @monitor.py:467]\u001b[0m QueueInput/queue_size: 50\n",
      "\u001b[32m[1118 15:55:29 @base.py:275]\u001b[0m Start Epoch 414 ...\n"
     ]
    },
    {
     "name": "stderr",
     "output_type": "stream",
     "text": [
      "\n",
      "100%|#####################################################################################|17/17[00:00<00:00,38.21it/s]"
     ]
    },
    {
     "name": "stdout",
     "output_type": "stream",
     "text": [
      "\u001b[32m[1118 15:55:29 @base.py:285]\u001b[0m Epoch 414 (global_step 10556) finished, time:0.446 second.\n",
      "\u001b[32m[1118 15:55:29 @saver.py:79]\u001b[0m Model saved to ../output/Chicago/TEST/model\\model-10556.\n",
      "\u001b[32m[1118 15:55:29 @monitor.py:467]\u001b[0m GAN_loss/d_loss: -0.042313\n",
      "\u001b[32m[1118 15:55:29 @monitor.py:467]\u001b[0m GAN_loss/g_loss: -0.10891\n",
      "\u001b[32m[1118 15:55:29 @monitor.py:467]\u001b[0m GAN_loss/kl_div: 0.046072\n",
      "\u001b[32m[1118 15:55:29 @monitor.py:467]\u001b[0m QueueInput/queue_size: 50\n",
      "\u001b[32m[1118 15:55:29 @base.py:275]\u001b[0m Start Epoch 415 ...\n"
     ]
    },
    {
     "name": "stderr",
     "output_type": "stream",
     "text": [
      "\n",
      "100%|#####################################################################################|17/17[00:00<00:00,37.25it/s]"
     ]
    },
    {
     "name": "stdout",
     "output_type": "stream",
     "text": [
      "\u001b[32m[1118 15:55:30 @base.py:285]\u001b[0m Epoch 415 (global_step 10582) finished, time:0.457 second.\n",
      "\u001b[32m[1118 15:55:30 @saver.py:79]\u001b[0m Model saved to ../output/Chicago/TEST/model\\model-10582.\n",
      "\u001b[32m[1118 15:55:30 @monitor.py:467]\u001b[0m GAN_loss/d_loss: -0.044189\n",
      "\u001b[32m[1118 15:55:30 @monitor.py:467]\u001b[0m GAN_loss/g_loss: -0.10797\n",
      "\u001b[32m[1118 15:55:30 @monitor.py:467]\u001b[0m GAN_loss/kl_div: 0.047599\n",
      "\u001b[32m[1118 15:55:30 @monitor.py:467]\u001b[0m QueueInput/queue_size: 50\n",
      "\u001b[32m[1118 15:55:30 @base.py:275]\u001b[0m Start Epoch 416 ...\n"
     ]
    },
    {
     "name": "stderr",
     "output_type": "stream",
     "text": [
      "\n",
      "100%|#####################################################################################|17/17[00:00<00:00,37.83it/s]"
     ]
    },
    {
     "name": "stdout",
     "output_type": "stream",
     "text": [
      "\u001b[32m[1118 15:55:30 @base.py:285]\u001b[0m Epoch 416 (global_step 10607) finished, time:0.45 second.\n",
      "\u001b[32m[1118 15:55:30 @saver.py:79]\u001b[0m Model saved to ../output/Chicago/TEST/model\\model-10607.\n",
      "\u001b[32m[1118 15:55:30 @monitor.py:467]\u001b[0m GAN_loss/d_loss: -0.043566\n",
      "\u001b[32m[1118 15:55:30 @monitor.py:467]\u001b[0m GAN_loss/g_loss: -0.10874\n",
      "\u001b[32m[1118 15:55:30 @monitor.py:467]\u001b[0m GAN_loss/kl_div: 0.04644\n",
      "\u001b[32m[1118 15:55:30 @monitor.py:467]\u001b[0m QueueInput/queue_size: 50\n",
      "\u001b[32m[1118 15:55:30 @base.py:275]\u001b[0m Start Epoch 417 ...\n"
     ]
    },
    {
     "name": "stderr",
     "output_type": "stream",
     "text": [
      "\n",
      "100%|#####################################################################################|17/17[00:00<00:00,37.09it/s]"
     ]
    },
    {
     "name": "stdout",
     "output_type": "stream",
     "text": [
      "\u001b[32m[1118 15:55:31 @base.py:285]\u001b[0m Epoch 417 (global_step 10633) finished, time:0.459 second.\n",
      "\u001b[32m[1118 15:55:31 @saver.py:79]\u001b[0m Model saved to ../output/Chicago/TEST/model\\model-10633.\n",
      "\u001b[32m[1118 15:55:31 @monitor.py:467]\u001b[0m GAN_loss/d_loss: -0.043398\n",
      "\u001b[32m[1118 15:55:31 @monitor.py:467]\u001b[0m GAN_loss/g_loss: -0.10953\n",
      "\u001b[32m[1118 15:55:31 @monitor.py:467]\u001b[0m GAN_loss/kl_div: 0.044369\n",
      "\u001b[32m[1118 15:55:31 @monitor.py:467]\u001b[0m QueueInput/queue_size: 50\n",
      "\u001b[32m[1118 15:55:31 @base.py:275]\u001b[0m Start Epoch 418 ...\n"
     ]
    },
    {
     "name": "stderr",
     "output_type": "stream",
     "text": [
      "\n",
      "100%|#####################################################################################|17/17[00:00<00:00,38.12it/s]"
     ]
    },
    {
     "name": "stdout",
     "output_type": "stream",
     "text": [
      "\u001b[32m[1118 15:55:32 @base.py:285]\u001b[0m Epoch 418 (global_step 10658) finished, time:0.446 second.\n",
      "\u001b[32m[1118 15:55:32 @saver.py:79]\u001b[0m Model saved to ../output/Chicago/TEST/model\\model-10658.\n",
      "\u001b[32m[1118 15:55:32 @monitor.py:467]\u001b[0m GAN_loss/d_loss: -0.043367\n",
      "\u001b[32m[1118 15:55:32 @monitor.py:467]\u001b[0m GAN_loss/g_loss: -0.10921\n",
      "\u001b[32m[1118 15:55:32 @monitor.py:467]\u001b[0m GAN_loss/kl_div: 0.047275\n",
      "\u001b[32m[1118 15:55:32 @monitor.py:467]\u001b[0m QueueInput/queue_size: 50\n",
      "\u001b[32m[1118 15:55:32 @base.py:275]\u001b[0m Start Epoch 419 ...\n"
     ]
    },
    {
     "name": "stderr",
     "output_type": "stream",
     "text": [
      "\n",
      "100%|#####################################################################################|17/17[00:00<00:00,37.09it/s]"
     ]
    },
    {
     "name": "stdout",
     "output_type": "stream",
     "text": [
      "\u001b[32m[1118 15:55:32 @base.py:285]\u001b[0m Epoch 419 (global_step 10684) finished, time:0.459 second.\n",
      "\u001b[32m[1118 15:55:32 @saver.py:79]\u001b[0m Model saved to ../output/Chicago/TEST/model\\model-10684.\n",
      "\u001b[32m[1118 15:55:32 @monitor.py:467]\u001b[0m GAN_loss/d_loss: -0.042743\n",
      "\u001b[32m[1118 15:55:32 @monitor.py:467]\u001b[0m GAN_loss/g_loss: -0.10939\n",
      "\u001b[32m[1118 15:55:32 @monitor.py:467]\u001b[0m GAN_loss/kl_div: 0.048361\n",
      "\u001b[32m[1118 15:55:32 @monitor.py:467]\u001b[0m QueueInput/queue_size: 50\n",
      "\u001b[32m[1118 15:55:32 @base.py:275]\u001b[0m Start Epoch 420 ...\n"
     ]
    },
    {
     "name": "stderr",
     "output_type": "stream",
     "text": [
      "\n",
      "100%|#####################################################################################|17/17[00:00<00:00,38.38it/s]"
     ]
    },
    {
     "name": "stdout",
     "output_type": "stream",
     "text": [
      "\u001b[32m[1118 15:55:33 @base.py:285]\u001b[0m Epoch 420 (global_step 10709) finished, time:0.443 second.\n",
      "\u001b[32m[1118 15:55:33 @saver.py:79]\u001b[0m Model saved to ../output/Chicago/TEST/model\\model-10709.\n",
      "\u001b[32m[1118 15:55:33 @monitor.py:467]\u001b[0m GAN_loss/d_loss: -0.042648\n",
      "\u001b[32m[1118 15:55:33 @monitor.py:467]\u001b[0m GAN_loss/g_loss: -0.10868\n",
      "\u001b[32m[1118 15:55:33 @monitor.py:467]\u001b[0m GAN_loss/kl_div: 0.047728\n",
      "\u001b[32m[1118 15:55:33 @monitor.py:467]\u001b[0m QueueInput/queue_size: 50\n",
      "\u001b[32m[1118 15:55:33 @base.py:275]\u001b[0m Start Epoch 421 ...\n"
     ]
    },
    {
     "name": "stderr",
     "output_type": "stream",
     "text": [
      "\n",
      "100%|#####################################################################################|17/17[00:00<00:00,36.97it/s]"
     ]
    },
    {
     "name": "stdout",
     "output_type": "stream",
     "text": [
      "\u001b[32m[1118 15:55:33 @base.py:285]\u001b[0m Epoch 421 (global_step 10735) finished, time:0.46 second.\n",
      "\u001b[32m[1118 15:55:33 @saver.py:79]\u001b[0m Model saved to ../output/Chicago/TEST/model\\model-10735.\n",
      "\u001b[32m[1118 15:55:34 @monitor.py:467]\u001b[0m GAN_loss/d_loss: -0.042474\n",
      "\u001b[32m[1118 15:55:34 @monitor.py:467]\u001b[0m GAN_loss/g_loss: -0.10828\n",
      "\u001b[32m[1118 15:55:34 @monitor.py:467]\u001b[0m GAN_loss/kl_div: 0.047723\n",
      "\u001b[32m[1118 15:55:34 @monitor.py:467]\u001b[0m QueueInput/queue_size: 50\n",
      "\u001b[32m[1118 15:55:34 @base.py:275]\u001b[0m Start Epoch 422 ...\n"
     ]
    },
    {
     "name": "stderr",
     "output_type": "stream",
     "text": [
      "\n",
      "100%|#####################################################################################|17/17[00:00<00:00,38.34it/s]"
     ]
    },
    {
     "name": "stdout",
     "output_type": "stream",
     "text": [
      "\u001b[32m[1118 15:55:34 @base.py:285]\u001b[0m Epoch 422 (global_step 10760) finished, time:0.443 second.\n",
      "\u001b[32m[1118 15:55:34 @saver.py:79]\u001b[0m Model saved to ../output/Chicago/TEST/model\\model-10760.\n",
      "\u001b[32m[1118 15:55:34 @monitor.py:467]\u001b[0m GAN_loss/d_loss: -0.042164\n",
      "\u001b[32m[1118 15:55:34 @monitor.py:467]\u001b[0m GAN_loss/g_loss: -0.10854\n",
      "\u001b[32m[1118 15:55:34 @monitor.py:467]\u001b[0m GAN_loss/kl_div: 0.046099\n",
      "\u001b[32m[1118 15:55:34 @monitor.py:467]\u001b[0m QueueInput/queue_size: 50\n",
      "\u001b[32m[1118 15:55:34 @base.py:275]\u001b[0m Start Epoch 423 ...\n"
     ]
    },
    {
     "name": "stderr",
     "output_type": "stream",
     "text": [
      "\n",
      "100%|#####################################################################################|17/17[00:00<00:00,37.17it/s]"
     ]
    },
    {
     "name": "stdout",
     "output_type": "stream",
     "text": [
      "\u001b[32m[1118 15:55:35 @base.py:285]\u001b[0m Epoch 423 (global_step 10786) finished, time:0.458 second.\n",
      "\u001b[32m[1118 15:55:35 @saver.py:79]\u001b[0m Model saved to ../output/Chicago/TEST/model\\model-10786.\n",
      "\u001b[32m[1118 15:55:35 @monitor.py:467]\u001b[0m GAN_loss/d_loss: -0.042325\n",
      "\u001b[32m[1118 15:55:35 @monitor.py:467]\u001b[0m GAN_loss/g_loss: -0.10854\n",
      "\u001b[32m[1118 15:55:35 @monitor.py:467]\u001b[0m GAN_loss/kl_div: 0.04641\n",
      "\u001b[32m[1118 15:55:35 @monitor.py:467]\u001b[0m QueueInput/queue_size: 50\n",
      "\u001b[32m[1118 15:55:35 @base.py:275]\u001b[0m Start Epoch 424 ...\n"
     ]
    },
    {
     "name": "stderr",
     "output_type": "stream",
     "text": [
      "\n",
      "100%|#####################################################################################|17/17[00:00<00:00,38.42it/s]"
     ]
    },
    {
     "name": "stdout",
     "output_type": "stream",
     "text": [
      "\u001b[32m[1118 15:55:35 @base.py:285]\u001b[0m Epoch 424 (global_step 10811) finished, time:0.443 second.\n",
      "\u001b[32m[1118 15:55:35 @saver.py:79]\u001b[0m Model saved to ../output/Chicago/TEST/model\\model-10811.\n",
      "\u001b[32m[1118 15:55:35 @monitor.py:467]\u001b[0m GAN_loss/d_loss: -0.042514\n",
      "\u001b[32m[1118 15:55:35 @monitor.py:467]\u001b[0m GAN_loss/g_loss: -0.10816\n",
      "\u001b[32m[1118 15:55:35 @monitor.py:467]\u001b[0m GAN_loss/kl_div: 0.046959\n",
      "\u001b[32m[1118 15:55:35 @monitor.py:467]\u001b[0m QueueInput/queue_size: 50\n",
      "\u001b[32m[1118 15:55:35 @base.py:275]\u001b[0m Start Epoch 425 ...\n"
     ]
    },
    {
     "name": "stderr",
     "output_type": "stream",
     "text": [
      "\n",
      "100%|#####################################################################################|17/17[00:00<00:00,37.01it/s]"
     ]
    },
    {
     "name": "stdout",
     "output_type": "stream",
     "text": [
      "\u001b[32m[1118 15:55:36 @base.py:285]\u001b[0m Epoch 425 (global_step 10837) finished, time:0.46 second.\n",
      "\u001b[32m[1118 15:55:36 @saver.py:79]\u001b[0m Model saved to ../output/Chicago/TEST/model\\model-10837.\n",
      "\u001b[32m[1118 15:55:36 @monitor.py:467]\u001b[0m GAN_loss/d_loss: -0.042423\n",
      "\u001b[32m[1118 15:55:36 @monitor.py:467]\u001b[0m GAN_loss/g_loss: -0.10836\n",
      "\u001b[32m[1118 15:55:36 @monitor.py:467]\u001b[0m GAN_loss/kl_div: 0.048002\n",
      "\u001b[32m[1118 15:55:36 @monitor.py:467]\u001b[0m QueueInput/queue_size: 50\n",
      "\u001b[32m[1118 15:55:36 @base.py:275]\u001b[0m Start Epoch 426 ...\n"
     ]
    },
    {
     "name": "stderr",
     "output_type": "stream",
     "text": [
      "\n",
      "100%|#####################################################################################|17/17[00:00<00:00,38.21it/s]"
     ]
    },
    {
     "name": "stdout",
     "output_type": "stream",
     "text": [
      "\u001b[32m[1118 15:55:36 @base.py:285]\u001b[0m Epoch 426 (global_step 10862) finished, time:0.446 second.\n",
      "\u001b[32m[1118 15:55:36 @saver.py:79]\u001b[0m Model saved to ../output/Chicago/TEST/model\\model-10862.\n",
      "\u001b[32m[1118 15:55:36 @monitor.py:467]\u001b[0m GAN_loss/d_loss: -0.042634\n",
      "\u001b[32m[1118 15:55:36 @monitor.py:467]\u001b[0m GAN_loss/g_loss: -0.1073\n",
      "\u001b[32m[1118 15:55:36 @monitor.py:467]\u001b[0m GAN_loss/kl_div: 0.048308\n",
      "\u001b[32m[1118 15:55:36 @monitor.py:467]\u001b[0m QueueInput/queue_size: 50\n",
      "\u001b[32m[1118 15:55:36 @base.py:275]\u001b[0m Start Epoch 427 ...\n"
     ]
    },
    {
     "name": "stderr",
     "output_type": "stream",
     "text": [
      "\n",
      "100%|#####################################################################################|17/17[00:00<00:00,37.13it/s]"
     ]
    },
    {
     "name": "stdout",
     "output_type": "stream",
     "text": [
      "\u001b[32m[1118 15:55:37 @base.py:285]\u001b[0m Epoch 427 (global_step 10888) finished, time:0.458 second.\n",
      "\u001b[32m[1118 15:55:37 @saver.py:79]\u001b[0m Model saved to ../output/Chicago/TEST/model\\model-10888.\n",
      "\u001b[32m[1118 15:55:37 @monitor.py:467]\u001b[0m GAN_loss/d_loss: -0.043026\n",
      "\u001b[32m[1118 15:55:37 @monitor.py:467]\u001b[0m GAN_loss/g_loss: -0.10767\n",
      "\u001b[32m[1118 15:55:37 @monitor.py:467]\u001b[0m GAN_loss/kl_div: 0.0464\n",
      "\u001b[32m[1118 15:55:37 @monitor.py:467]\u001b[0m QueueInput/queue_size: 50\n",
      "\u001b[32m[1118 15:55:37 @base.py:275]\u001b[0m Start Epoch 428 ...\n"
     ]
    },
    {
     "name": "stderr",
     "output_type": "stream",
     "text": [
      "\n",
      "100%|#####################################################################################|17/17[00:00<00:00,38.42it/s]"
     ]
    },
    {
     "name": "stdout",
     "output_type": "stream",
     "text": [
      "\u001b[32m[1118 15:55:38 @base.py:285]\u001b[0m Epoch 428 (global_step 10913) finished, time:0.443 second.\n",
      "\u001b[32m[1118 15:55:38 @saver.py:79]\u001b[0m Model saved to ../output/Chicago/TEST/model\\model-10913.\n",
      "\u001b[32m[1118 15:55:38 @monitor.py:467]\u001b[0m GAN_loss/d_loss: -0.043417\n",
      "\u001b[32m[1118 15:55:38 @monitor.py:467]\u001b[0m GAN_loss/g_loss: -0.10923\n",
      "\u001b[32m[1118 15:55:38 @monitor.py:467]\u001b[0m GAN_loss/kl_div: 0.047428\n",
      "\u001b[32m[1118 15:55:38 @monitor.py:467]\u001b[0m QueueInput/queue_size: 50\n",
      "\u001b[32m[1118 15:55:38 @base.py:275]\u001b[0m Start Epoch 429 ...\n"
     ]
    },
    {
     "name": "stderr",
     "output_type": "stream",
     "text": [
      "\n",
      "100%|#####################################################################################|17/17[00:00<00:00,36.97it/s]"
     ]
    },
    {
     "name": "stdout",
     "output_type": "stream",
     "text": [
      "\u001b[32m[1118 15:55:38 @base.py:285]\u001b[0m Epoch 429 (global_step 10939) finished, time:0.46 second.\n",
      "\u001b[32m[1118 15:55:38 @saver.py:79]\u001b[0m Model saved to ../output/Chicago/TEST/model\\model-10939.\n",
      "\u001b[32m[1118 15:55:38 @monitor.py:467]\u001b[0m GAN_loss/d_loss: -0.041918\n",
      "\u001b[32m[1118 15:55:38 @monitor.py:467]\u001b[0m GAN_loss/g_loss: -0.10896\n",
      "\u001b[32m[1118 15:55:38 @monitor.py:467]\u001b[0m GAN_loss/kl_div: 0.045507\n",
      "\u001b[32m[1118 15:55:38 @monitor.py:467]\u001b[0m QueueInput/queue_size: 50\n",
      "\u001b[32m[1118 15:55:38 @base.py:275]\u001b[0m Start Epoch 430 ...\n"
     ]
    },
    {
     "name": "stderr",
     "output_type": "stream",
     "text": [
      "\n",
      "100%|#####################################################################################|17/17[00:00<00:00,38.12it/s]"
     ]
    },
    {
     "name": "stdout",
     "output_type": "stream",
     "text": [
      "\u001b[32m[1118 15:55:39 @base.py:285]\u001b[0m Epoch 430 (global_step 10964) finished, time:0.446 second.\n",
      "\u001b[32m[1118 15:55:39 @saver.py:79]\u001b[0m Model saved to ../output/Chicago/TEST/model\\model-10964.\n",
      "\u001b[32m[1118 15:55:39 @monitor.py:467]\u001b[0m GAN_loss/d_loss: -0.041732\n",
      "\u001b[32m[1118 15:55:39 @monitor.py:467]\u001b[0m GAN_loss/g_loss: -0.10865\n",
      "\u001b[32m[1118 15:55:39 @monitor.py:467]\u001b[0m GAN_loss/kl_div: 0.045254\n",
      "\u001b[32m[1118 15:55:39 @monitor.py:467]\u001b[0m QueueInput/queue_size: 50\n",
      "\u001b[32m[1118 15:55:39 @base.py:275]\u001b[0m Start Epoch 431 ...\n"
     ]
    },
    {
     "name": "stderr",
     "output_type": "stream",
     "text": [
      "\n",
      "100%|#####################################################################################|17/17[00:00<00:00,37.05it/s]"
     ]
    },
    {
     "name": "stdout",
     "output_type": "stream",
     "text": [
      "\u001b[32m[1118 15:55:39 @base.py:285]\u001b[0m Epoch 431 (global_step 10990) finished, time:0.459 second.\n",
      "\u001b[32m[1118 15:55:39 @saver.py:79]\u001b[0m Model saved to ../output/Chicago/TEST/model\\model-10990.\n",
      "\u001b[32m[1118 15:55:39 @monitor.py:467]\u001b[0m GAN_loss/d_loss: -0.041864\n",
      "\u001b[32m[1118 15:55:39 @monitor.py:467]\u001b[0m GAN_loss/g_loss: -0.10955\n",
      "\u001b[32m[1118 15:55:39 @monitor.py:467]\u001b[0m GAN_loss/kl_div: 0.045916\n",
      "\u001b[32m[1118 15:55:39 @monitor.py:467]\u001b[0m QueueInput/queue_size: 50\n",
      "\u001b[32m[1118 15:55:39 @base.py:275]\u001b[0m Start Epoch 432 ...\n"
     ]
    },
    {
     "name": "stderr",
     "output_type": "stream",
     "text": [
      "\n",
      "100%|#####################################################################################|17/17[00:00<00:00,38.25it/s]"
     ]
    },
    {
     "name": "stdout",
     "output_type": "stream",
     "text": [
      "\u001b[32m[1118 15:55:40 @base.py:285]\u001b[0m Epoch 432 (global_step 11015) finished, time:0.445 second.\n",
      "\u001b[32m[1118 15:55:40 @saver.py:79]\u001b[0m Model saved to ../output/Chicago/TEST/model\\model-11015.\n",
      "\u001b[32m[1118 15:55:40 @monitor.py:467]\u001b[0m GAN_loss/d_loss: -0.042788\n",
      "\u001b[32m[1118 15:55:40 @monitor.py:467]\u001b[0m GAN_loss/g_loss: -0.10905\n",
      "\u001b[32m[1118 15:55:40 @monitor.py:467]\u001b[0m GAN_loss/kl_div: 0.047943\n",
      "\u001b[32m[1118 15:55:40 @monitor.py:467]\u001b[0m QueueInput/queue_size: 50\n",
      "\u001b[32m[1118 15:55:40 @base.py:275]\u001b[0m Start Epoch 433 ...\n"
     ]
    },
    {
     "name": "stderr",
     "output_type": "stream",
     "text": [
      "\n",
      "100%|#####################################################################################|17/17[00:00<00:00,37.13it/s]"
     ]
    },
    {
     "name": "stdout",
     "output_type": "stream",
     "text": [
      "\u001b[32m[1118 15:55:41 @base.py:285]\u001b[0m Epoch 433 (global_step 11041) finished, time:0.458 second.\n",
      "\u001b[32m[1118 15:55:41 @saver.py:79]\u001b[0m Model saved to ../output/Chicago/TEST/model\\model-11041.\n",
      "\u001b[32m[1118 15:55:41 @monitor.py:467]\u001b[0m GAN_loss/d_loss: -0.042029\n",
      "\u001b[32m[1118 15:55:41 @monitor.py:467]\u001b[0m GAN_loss/g_loss: -0.10932\n",
      "\u001b[32m[1118 15:55:41 @monitor.py:467]\u001b[0m GAN_loss/kl_div: 0.049341\n",
      "\u001b[32m[1118 15:55:41 @monitor.py:467]\u001b[0m QueueInput/queue_size: 50\n",
      "\u001b[32m[1118 15:55:41 @base.py:275]\u001b[0m Start Epoch 434 ...\n"
     ]
    },
    {
     "name": "stderr",
     "output_type": "stream",
     "text": [
      "\n",
      "100%|#####################################################################################|17/17[00:00<00:00,37.83it/s]"
     ]
    },
    {
     "name": "stdout",
     "output_type": "stream",
     "text": [
      "\u001b[32m[1118 15:55:41 @base.py:285]\u001b[0m Epoch 434 (global_step 11066) finished, time:0.45 second.\n",
      "\u001b[32m[1118 15:55:41 @saver.py:79]\u001b[0m Model saved to ../output/Chicago/TEST/model\\model-11066.\n",
      "\u001b[32m[1118 15:55:41 @monitor.py:467]\u001b[0m GAN_loss/d_loss: -0.041469\n",
      "\u001b[32m[1118 15:55:41 @monitor.py:467]\u001b[0m GAN_loss/g_loss: -0.10996\n",
      "\u001b[32m[1118 15:55:41 @monitor.py:467]\u001b[0m GAN_loss/kl_div: 0.04989\n",
      "\u001b[32m[1118 15:55:41 @monitor.py:467]\u001b[0m QueueInput/queue_size: 50\n",
      "\u001b[32m[1118 15:55:41 @base.py:275]\u001b[0m Start Epoch 435 ...\n"
     ]
    },
    {
     "name": "stderr",
     "output_type": "stream",
     "text": [
      "\n",
      "100%|#####################################################################################|17/17[00:00<00:00,37.21it/s]"
     ]
    },
    {
     "name": "stdout",
     "output_type": "stream",
     "text": [
      "\u001b[32m[1118 15:55:42 @base.py:285]\u001b[0m Epoch 435 (global_step 11092) finished, time:0.457 second.\n",
      "\u001b[32m[1118 15:55:42 @saver.py:79]\u001b[0m Model saved to ../output/Chicago/TEST/model\\model-11092.\n",
      "\u001b[32m[1118 15:55:42 @monitor.py:467]\u001b[0m GAN_loss/d_loss: -0.042855\n",
      "\u001b[32m[1118 15:55:42 @monitor.py:467]\u001b[0m GAN_loss/g_loss: -0.10916\n",
      "\u001b[32m[1118 15:55:42 @monitor.py:467]\u001b[0m GAN_loss/kl_div: 0.047671\n",
      "\u001b[32m[1118 15:55:42 @monitor.py:467]\u001b[0m QueueInput/queue_size: 50\n",
      "\u001b[32m[1118 15:55:42 @base.py:275]\u001b[0m Start Epoch 436 ...\n"
     ]
    },
    {
     "name": "stderr",
     "output_type": "stream",
     "text": [
      "\n",
      "100%|#####################################################################################|17/17[00:00<00:00,38.34it/s]"
     ]
    },
    {
     "name": "stdout",
     "output_type": "stream",
     "text": [
      "\u001b[32m[1118 15:55:42 @base.py:285]\u001b[0m Epoch 436 (global_step 11117) finished, time:0.444 second.\n",
      "\u001b[32m[1118 15:55:42 @saver.py:79]\u001b[0m Model saved to ../output/Chicago/TEST/model\\model-11117.\n",
      "\u001b[32m[1118 15:55:43 @monitor.py:467]\u001b[0m GAN_loss/d_loss: -0.041091\n",
      "\u001b[32m[1118 15:55:43 @monitor.py:467]\u001b[0m GAN_loss/g_loss: -0.10925\n",
      "\u001b[32m[1118 15:55:43 @monitor.py:467]\u001b[0m GAN_loss/kl_div: 0.048731\n",
      "\u001b[32m[1118 15:55:43 @monitor.py:467]\u001b[0m QueueInput/queue_size: 50\n",
      "\u001b[32m[1118 15:55:43 @base.py:275]\u001b[0m Start Epoch 437 ...\n"
     ]
    },
    {
     "name": "stderr",
     "output_type": "stream",
     "text": [
      "\n",
      "100%|#####################################################################################|17/17[00:00<00:00,37.09it/s]"
     ]
    },
    {
     "name": "stdout",
     "output_type": "stream",
     "text": [
      "\u001b[32m[1118 15:55:43 @base.py:285]\u001b[0m Epoch 437 (global_step 11143) finished, time:0.459 second.\n",
      "\u001b[32m[1118 15:55:43 @saver.py:79]\u001b[0m Model saved to ../output/Chicago/TEST/model\\model-11143.\n",
      "\u001b[32m[1118 15:55:43 @monitor.py:467]\u001b[0m GAN_loss/d_loss: -0.041632\n",
      "\u001b[32m[1118 15:55:43 @monitor.py:467]\u001b[0m GAN_loss/g_loss: -0.10951\n",
      "\u001b[32m[1118 15:55:43 @monitor.py:467]\u001b[0m GAN_loss/kl_div: 0.046273\n",
      "\u001b[32m[1118 15:55:43 @monitor.py:467]\u001b[0m QueueInput/queue_size: 50\n",
      "\u001b[32m[1118 15:55:43 @base.py:275]\u001b[0m Start Epoch 438 ...\n"
     ]
    },
    {
     "name": "stderr",
     "output_type": "stream",
     "text": [
      "\n",
      "100%|#####################################################################################|17/17[00:00<00:00,38.42it/s]"
     ]
    },
    {
     "name": "stdout",
     "output_type": "stream",
     "text": [
      "\u001b[32m[1118 15:55:44 @base.py:285]\u001b[0m Epoch 438 (global_step 11168) finished, time:0.443 second.\n",
      "\u001b[32m[1118 15:55:44 @saver.py:79]\u001b[0m Model saved to ../output/Chicago/TEST/model\\model-11168.\n",
      "\u001b[32m[1118 15:55:44 @monitor.py:467]\u001b[0m GAN_loss/d_loss: -0.042394\n",
      "\u001b[32m[1118 15:55:44 @monitor.py:467]\u001b[0m GAN_loss/g_loss: -0.11004\n",
      "\u001b[32m[1118 15:55:44 @monitor.py:467]\u001b[0m GAN_loss/kl_div: 0.046295\n",
      "\u001b[32m[1118 15:55:44 @monitor.py:467]\u001b[0m QueueInput/queue_size: 50\n",
      "\u001b[32m[1118 15:55:44 @base.py:275]\u001b[0m Start Epoch 439 ...\n"
     ]
    },
    {
     "name": "stderr",
     "output_type": "stream",
     "text": [
      "\n",
      "100%|#####################################################################################|17/17[00:00<00:00,37.17it/s]"
     ]
    },
    {
     "name": "stdout",
     "output_type": "stream",
     "text": [
      "\u001b[32m[1118 15:55:44 @base.py:285]\u001b[0m Epoch 439 (global_step 11194) finished, time:0.458 second.\n",
      "\u001b[32m[1118 15:55:44 @saver.py:79]\u001b[0m Model saved to ../output/Chicago/TEST/model\\model-11194.\n",
      "\u001b[32m[1118 15:55:44 @monitor.py:467]\u001b[0m GAN_loss/d_loss: -0.040986\n",
      "\u001b[32m[1118 15:55:44 @monitor.py:467]\u001b[0m GAN_loss/g_loss: -0.10982\n",
      "\u001b[32m[1118 15:55:44 @monitor.py:467]\u001b[0m GAN_loss/kl_div: 0.044563\n",
      "\u001b[32m[1118 15:55:44 @monitor.py:467]\u001b[0m QueueInput/queue_size: 50\n",
      "\u001b[32m[1118 15:55:44 @base.py:275]\u001b[0m Start Epoch 440 ...\n"
     ]
    },
    {
     "name": "stderr",
     "output_type": "stream",
     "text": [
      "\n",
      "100%|#####################################################################################|17/17[00:00<00:00,38.42it/s]"
     ]
    },
    {
     "name": "stdout",
     "output_type": "stream",
     "text": [
      "\u001b[32m[1118 15:55:45 @base.py:285]\u001b[0m Epoch 440 (global_step 11219) finished, time:0.443 second.\n",
      "\u001b[32m[1118 15:55:45 @saver.py:79]\u001b[0m Model saved to ../output/Chicago/TEST/model\\model-11219.\n",
      "\u001b[32m[1118 15:55:45 @monitor.py:467]\u001b[0m GAN_loss/d_loss: -0.040154\n",
      "\u001b[32m[1118 15:55:45 @monitor.py:467]\u001b[0m GAN_loss/g_loss: -0.10981\n",
      "\u001b[32m[1118 15:55:45 @monitor.py:467]\u001b[0m GAN_loss/kl_div: 0.045937\n",
      "\u001b[32m[1118 15:55:45 @monitor.py:467]\u001b[0m QueueInput/queue_size: 50\n",
      "\u001b[32m[1118 15:55:45 @base.py:275]\u001b[0m Start Epoch 441 ...\n"
     ]
    },
    {
     "name": "stderr",
     "output_type": "stream",
     "text": [
      "\n",
      "100%|#####################################################################################|17/17[00:00<00:00,36.89it/s]"
     ]
    },
    {
     "name": "stdout",
     "output_type": "stream",
     "text": [
      "\u001b[32m[1118 15:55:45 @base.py:285]\u001b[0m Epoch 441 (global_step 11245) finished, time:0.461 second.\n",
      "\u001b[32m[1118 15:55:45 @saver.py:79]\u001b[0m Model saved to ../output/Chicago/TEST/model\\model-11245.\n",
      "\u001b[32m[1118 15:55:46 @monitor.py:467]\u001b[0m GAN_loss/d_loss: -0.039791\n",
      "\u001b[32m[1118 15:55:46 @monitor.py:467]\u001b[0m GAN_loss/g_loss: -0.10961\n",
      "\u001b[32m[1118 15:55:46 @monitor.py:467]\u001b[0m GAN_loss/kl_div: 0.048398\n",
      "\u001b[32m[1118 15:55:46 @monitor.py:467]\u001b[0m QueueInput/queue_size: 50\n",
      "\u001b[32m[1118 15:55:46 @base.py:275]\u001b[0m Start Epoch 442 ...\n"
     ]
    },
    {
     "name": "stderr",
     "output_type": "stream",
     "text": [
      "\n",
      "100%|#####################################################################################|17/17[00:00<00:00,38.38it/s]"
     ]
    },
    {
     "name": "stdout",
     "output_type": "stream",
     "text": [
      "\u001b[32m[1118 15:55:46 @base.py:285]\u001b[0m Epoch 442 (global_step 11270) finished, time:0.443 second.\n",
      "\u001b[32m[1118 15:55:46 @saver.py:79]\u001b[0m Model saved to ../output/Chicago/TEST/model\\model-11270.\n",
      "\u001b[32m[1118 15:55:46 @monitor.py:467]\u001b[0m GAN_loss/d_loss: -0.040189\n",
      "\u001b[32m[1118 15:55:46 @monitor.py:467]\u001b[0m GAN_loss/g_loss: -0.10962\n",
      "\u001b[32m[1118 15:55:46 @monitor.py:467]\u001b[0m GAN_loss/kl_div: 0.046588\n",
      "\u001b[32m[1118 15:55:46 @monitor.py:467]\u001b[0m QueueInput/queue_size: 50\n",
      "\u001b[32m[1118 15:55:46 @base.py:275]\u001b[0m Start Epoch 443 ...\n"
     ]
    },
    {
     "name": "stderr",
     "output_type": "stream",
     "text": [
      "\n",
      "100%|#####################################################################################|17/17[00:00<00:00,36.77it/s]"
     ]
    },
    {
     "name": "stdout",
     "output_type": "stream",
     "text": [
      "\u001b[32m[1118 15:55:47 @base.py:285]\u001b[0m Epoch 443 (global_step 11296) finished, time:0.463 second.\n",
      "\u001b[32m[1118 15:55:47 @saver.py:79]\u001b[0m Model saved to ../output/Chicago/TEST/model\\model-11296.\n",
      "\u001b[32m[1118 15:55:47 @monitor.py:467]\u001b[0m GAN_loss/d_loss: -0.040257\n",
      "\u001b[32m[1118 15:55:47 @monitor.py:467]\u001b[0m GAN_loss/g_loss: -0.11012\n",
      "\u001b[32m[1118 15:55:47 @monitor.py:467]\u001b[0m GAN_loss/kl_div: 0.047529\n",
      "\u001b[32m[1118 15:55:47 @monitor.py:467]\u001b[0m QueueInput/queue_size: 50\n",
      "\u001b[32m[1118 15:55:47 @base.py:275]\u001b[0m Start Epoch 444 ...\n"
     ]
    },
    {
     "name": "stderr",
     "output_type": "stream",
     "text": [
      "\n",
      "100%|#####################################################################################|17/17[00:00<00:00,38.34it/s]"
     ]
    },
    {
     "name": "stdout",
     "output_type": "stream",
     "text": [
      "\u001b[32m[1118 15:55:47 @base.py:285]\u001b[0m Epoch 444 (global_step 11321) finished, time:0.444 second.\n",
      "\u001b[32m[1118 15:55:47 @saver.py:79]\u001b[0m Model saved to ../output/Chicago/TEST/model\\model-11321.\n",
      "\u001b[32m[1118 15:55:47 @monitor.py:467]\u001b[0m GAN_loss/d_loss: -0.038491\n",
      "\u001b[32m[1118 15:55:47 @monitor.py:467]\u001b[0m GAN_loss/g_loss: -0.11153\n",
      "\u001b[32m[1118 15:55:47 @monitor.py:467]\u001b[0m GAN_loss/kl_div: 0.050767\n",
      "\u001b[32m[1118 15:55:47 @monitor.py:467]\u001b[0m QueueInput/queue_size: 50\n",
      "\u001b[32m[1118 15:55:47 @base.py:275]\u001b[0m Start Epoch 445 ...\n"
     ]
    },
    {
     "name": "stderr",
     "output_type": "stream",
     "text": [
      "\n",
      "100%|#####################################################################################|17/17[00:00<00:00,37.09it/s]"
     ]
    },
    {
     "name": "stdout",
     "output_type": "stream",
     "text": [
      "\u001b[32m[1118 15:55:48 @base.py:285]\u001b[0m Epoch 445 (global_step 11347) finished, time:0.459 second.\n",
      "\u001b[32m[1118 15:55:48 @saver.py:79]\u001b[0m Model saved to ../output/Chicago/TEST/model\\model-11347.\n",
      "\u001b[32m[1118 15:55:48 @monitor.py:467]\u001b[0m GAN_loss/d_loss: -0.040656\n",
      "\u001b[32m[1118 15:55:48 @monitor.py:467]\u001b[0m GAN_loss/g_loss: -0.1105\n",
      "\u001b[32m[1118 15:55:48 @monitor.py:467]\u001b[0m GAN_loss/kl_div: 0.047831\n",
      "\u001b[32m[1118 15:55:48 @monitor.py:467]\u001b[0m QueueInput/queue_size: 50\n",
      "\u001b[32m[1118 15:55:48 @base.py:275]\u001b[0m Start Epoch 446 ...\n"
     ]
    },
    {
     "name": "stderr",
     "output_type": "stream",
     "text": [
      "\n",
      "100%|#####################################################################################|17/17[00:00<00:00,38.47it/s]"
     ]
    },
    {
     "name": "stdout",
     "output_type": "stream",
     "text": [
      "\u001b[32m[1118 15:55:48 @base.py:285]\u001b[0m Epoch 446 (global_step 11372) finished, time:0.442 second.\n",
      "\u001b[32m[1118 15:55:48 @saver.py:79]\u001b[0m Model saved to ../output/Chicago/TEST/model\\model-11372.\n",
      "\u001b[32m[1118 15:55:49 @monitor.py:467]\u001b[0m GAN_loss/d_loss: -0.041394\n",
      "\u001b[32m[1118 15:55:49 @monitor.py:467]\u001b[0m GAN_loss/g_loss: -0.10971\n",
      "\u001b[32m[1118 15:55:49 @monitor.py:467]\u001b[0m GAN_loss/kl_div: 0.0474\n",
      "\u001b[32m[1118 15:55:49 @monitor.py:467]\u001b[0m QueueInput/queue_size: 50\n",
      "\u001b[32m[1118 15:55:49 @base.py:275]\u001b[0m Start Epoch 447 ...\n"
     ]
    },
    {
     "name": "stderr",
     "output_type": "stream",
     "text": [
      "\n",
      "100%|#####################################################################################|17/17[00:00<00:00,37.25it/s]"
     ]
    },
    {
     "name": "stdout",
     "output_type": "stream",
     "text": [
      "\u001b[32m[1118 15:55:49 @base.py:285]\u001b[0m Epoch 447 (global_step 11398) finished, time:0.457 second.\n",
      "\u001b[32m[1118 15:55:49 @saver.py:79]\u001b[0m Model saved to ../output/Chicago/TEST/model\\model-11398.\n",
      "\u001b[32m[1118 15:55:49 @monitor.py:467]\u001b[0m GAN_loss/d_loss: -0.040558\n",
      "\u001b[32m[1118 15:55:49 @monitor.py:467]\u001b[0m GAN_loss/g_loss: -0.11123\n",
      "\u001b[32m[1118 15:55:49 @monitor.py:467]\u001b[0m GAN_loss/kl_div: 0.047157\n",
      "\u001b[32m[1118 15:55:49 @monitor.py:467]\u001b[0m QueueInput/queue_size: 50\n",
      "\u001b[32m[1118 15:55:49 @base.py:275]\u001b[0m Start Epoch 448 ...\n"
     ]
    },
    {
     "name": "stderr",
     "output_type": "stream",
     "text": [
      "\n",
      "100%|#####################################################################################|17/17[00:00<00:00,38.04it/s]"
     ]
    },
    {
     "name": "stdout",
     "output_type": "stream",
     "text": [
      "\u001b[32m[1118 15:55:50 @base.py:285]\u001b[0m Epoch 448 (global_step 11423) finished, time:0.447 second.\n",
      "\u001b[32m[1118 15:55:50 @saver.py:79]\u001b[0m Model saved to ../output/Chicago/TEST/model\\model-11423.\n",
      "\u001b[32m[1118 15:55:50 @monitor.py:467]\u001b[0m GAN_loss/d_loss: -0.041755\n",
      "\u001b[32m[1118 15:55:50 @monitor.py:467]\u001b[0m GAN_loss/g_loss: -0.1116\n",
      "\u001b[32m[1118 15:55:50 @monitor.py:467]\u001b[0m GAN_loss/kl_div: 0.048888\n",
      "\u001b[32m[1118 15:55:50 @monitor.py:467]\u001b[0m QueueInput/queue_size: 50\n",
      "\u001b[32m[1118 15:55:50 @base.py:275]\u001b[0m Start Epoch 449 ...\n"
     ]
    },
    {
     "name": "stderr",
     "output_type": "stream",
     "text": [
      "\n",
      "100%|#####################################################################################|17/17[00:00<00:00,37.05it/s]"
     ]
    },
    {
     "name": "stdout",
     "output_type": "stream",
     "text": [
      "\u001b[32m[1118 15:55:50 @base.py:285]\u001b[0m Epoch 449 (global_step 11449) finished, time:0.459 second.\n",
      "\u001b[32m[1118 15:55:50 @saver.py:79]\u001b[0m Model saved to ../output/Chicago/TEST/model\\model-11449.\n",
      "\u001b[32m[1118 15:55:50 @monitor.py:467]\u001b[0m GAN_loss/d_loss: -0.039947\n",
      "\u001b[32m[1118 15:55:50 @monitor.py:467]\u001b[0m GAN_loss/g_loss: -0.11166\n",
      "\u001b[32m[1118 15:55:50 @monitor.py:467]\u001b[0m GAN_loss/kl_div: 0.049838\n",
      "\u001b[32m[1118 15:55:50 @monitor.py:467]\u001b[0m QueueInput/queue_size: 50\n",
      "\u001b[32m[1118 15:55:50 @base.py:275]\u001b[0m Start Epoch 450 ...\n"
     ]
    },
    {
     "name": "stderr",
     "output_type": "stream",
     "text": [
      "\n",
      "100%|#####################################################################################|17/17[00:00<00:00,38.30it/s]"
     ]
    },
    {
     "name": "stdout",
     "output_type": "stream",
     "text": [
      "\u001b[32m[1118 15:55:51 @base.py:285]\u001b[0m Epoch 450 (global_step 11474) finished, time:0.444 second.\n",
      "\u001b[32m[1118 15:55:51 @saver.py:79]\u001b[0m Model saved to ../output/Chicago/TEST/model\\model-11474.\n",
      "\u001b[32m[1118 15:55:51 @monitor.py:467]\u001b[0m GAN_loss/d_loss: -0.040544\n",
      "\u001b[32m[1118 15:55:51 @monitor.py:467]\u001b[0m GAN_loss/g_loss: -0.111\n",
      "\u001b[32m[1118 15:55:51 @monitor.py:467]\u001b[0m GAN_loss/kl_div: 0.050138\n",
      "\u001b[32m[1118 15:55:51 @monitor.py:467]\u001b[0m QueueInput/queue_size: 50\n",
      "\u001b[32m[1118 15:55:51 @base.py:275]\u001b[0m Start Epoch 451 ...\n"
     ]
    },
    {
     "name": "stderr",
     "output_type": "stream",
     "text": [
      "\n",
      "100%|#####################################################################################|17/17[00:00<00:00,37.05it/s]"
     ]
    },
    {
     "name": "stdout",
     "output_type": "stream",
     "text": [
      "\u001b[32m[1118 15:55:51 @base.py:285]\u001b[0m Epoch 451 (global_step 11500) finished, time:0.459 second.\n",
      "\u001b[32m[1118 15:55:52 @saver.py:79]\u001b[0m Model saved to ../output/Chicago/TEST/model\\model-11500.\n",
      "\u001b[32m[1118 15:55:52 @monitor.py:467]\u001b[0m GAN_loss/d_loss: -0.039226\n",
      "\u001b[32m[1118 15:55:52 @monitor.py:467]\u001b[0m GAN_loss/g_loss: -0.11136\n",
      "\u001b[32m[1118 15:55:52 @monitor.py:467]\u001b[0m GAN_loss/kl_div: 0.046568\n",
      "\u001b[32m[1118 15:55:52 @monitor.py:467]\u001b[0m QueueInput/queue_size: 50\n",
      "\u001b[32m[1118 15:55:52 @base.py:275]\u001b[0m Start Epoch 452 ...\n"
     ]
    },
    {
     "name": "stderr",
     "output_type": "stream",
     "text": [
      "\n",
      "100%|#####################################################################################|17/17[00:00<00:00,38.17it/s]"
     ]
    },
    {
     "name": "stdout",
     "output_type": "stream",
     "text": [
      "\u001b[32m[1118 15:55:52 @base.py:285]\u001b[0m Epoch 452 (global_step 11525) finished, time:0.446 second.\n",
      "\u001b[32m[1118 15:55:52 @saver.py:79]\u001b[0m Model saved to ../output/Chicago/TEST/model\\model-11525.\n",
      "\u001b[32m[1118 15:55:52 @monitor.py:467]\u001b[0m GAN_loss/d_loss: -0.039658\n",
      "\u001b[32m[1118 15:55:52 @monitor.py:467]\u001b[0m GAN_loss/g_loss: -0.1105\n",
      "\u001b[32m[1118 15:55:52 @monitor.py:467]\u001b[0m GAN_loss/kl_div: 0.04791\n",
      "\u001b[32m[1118 15:55:52 @monitor.py:467]\u001b[0m QueueInput/queue_size: 50\n",
      "\u001b[32m[1118 15:55:52 @base.py:275]\u001b[0m Start Epoch 453 ...\n"
     ]
    },
    {
     "name": "stderr",
     "output_type": "stream",
     "text": [
      "\n",
      "100%|#####################################################################################|17/17[00:00<00:00,37.25it/s]"
     ]
    },
    {
     "name": "stdout",
     "output_type": "stream",
     "text": [
      "\u001b[32m[1118 15:55:53 @base.py:285]\u001b[0m Epoch 453 (global_step 11551) finished, time:0.457 second.\n",
      "\u001b[32m[1118 15:55:53 @saver.py:79]\u001b[0m Model saved to ../output/Chicago/TEST/model\\model-11551.\n",
      "\u001b[32m[1118 15:55:53 @monitor.py:467]\u001b[0m GAN_loss/d_loss: -0.039608\n",
      "\u001b[32m[1118 15:55:53 @monitor.py:467]\u001b[0m GAN_loss/g_loss: -0.111\n",
      "\u001b[32m[1118 15:55:53 @monitor.py:467]\u001b[0m GAN_loss/kl_div: 0.048106\n",
      "\u001b[32m[1118 15:55:53 @monitor.py:467]\u001b[0m QueueInput/queue_size: 50\n",
      "\u001b[32m[1118 15:55:53 @base.py:275]\u001b[0m Start Epoch 454 ...\n"
     ]
    },
    {
     "name": "stderr",
     "output_type": "stream",
     "text": [
      "\n",
      "100%|#####################################################################################|17/17[00:00<00:00,38.34it/s]"
     ]
    },
    {
     "name": "stdout",
     "output_type": "stream",
     "text": [
      "\u001b[32m[1118 15:55:53 @base.py:285]\u001b[0m Epoch 454 (global_step 11576) finished, time:0.444 second.\n",
      "\u001b[32m[1118 15:55:53 @saver.py:79]\u001b[0m Model saved to ../output/Chicago/TEST/model\\model-11576.\n",
      "\u001b[32m[1118 15:55:53 @monitor.py:467]\u001b[0m GAN_loss/d_loss: -0.040581\n",
      "\u001b[32m[1118 15:55:53 @monitor.py:467]\u001b[0m GAN_loss/g_loss: -0.11147\n",
      "\u001b[32m[1118 15:55:53 @monitor.py:467]\u001b[0m GAN_loss/kl_div: 0.0485\n",
      "\u001b[32m[1118 15:55:53 @monitor.py:467]\u001b[0m QueueInput/queue_size: 50\n",
      "\u001b[32m[1118 15:55:53 @base.py:275]\u001b[0m Start Epoch 455 ...\n"
     ]
    },
    {
     "name": "stderr",
     "output_type": "stream",
     "text": [
      "\n",
      "100%|#####################################################################################|17/17[00:00<00:00,37.13it/s]"
     ]
    },
    {
     "name": "stdout",
     "output_type": "stream",
     "text": [
      "\u001b[32m[1118 15:55:54 @base.py:285]\u001b[0m Epoch 455 (global_step 11602) finished, time:0.458 second.\n",
      "\u001b[32m[1118 15:55:54 @saver.py:79]\u001b[0m Model saved to ../output/Chicago/TEST/model\\model-11602.\n",
      "\u001b[32m[1118 15:55:54 @monitor.py:467]\u001b[0m GAN_loss/d_loss: -0.040425\n",
      "\u001b[32m[1118 15:55:54 @monitor.py:467]\u001b[0m GAN_loss/g_loss: -0.11081\n",
      "\u001b[32m[1118 15:55:54 @monitor.py:467]\u001b[0m GAN_loss/kl_div: 0.049994\n",
      "\u001b[32m[1118 15:55:54 @monitor.py:467]\u001b[0m QueueInput/queue_size: 50\n",
      "\u001b[32m[1118 15:55:54 @base.py:275]\u001b[0m Start Epoch 456 ...\n"
     ]
    },
    {
     "name": "stderr",
     "output_type": "stream",
     "text": [
      "\n",
      "100%|#####################################################################################|17/17[00:00<00:00,38.42it/s]"
     ]
    },
    {
     "name": "stdout",
     "output_type": "stream",
     "text": [
      "\u001b[32m[1118 15:55:54 @base.py:285]\u001b[0m Epoch 456 (global_step 11627) finished, time:0.443 second.\n",
      "\u001b[32m[1118 15:55:54 @saver.py:79]\u001b[0m Model saved to ../output/Chicago/TEST/model\\model-11627.\n",
      "\u001b[32m[1118 15:55:55 @monitor.py:467]\u001b[0m GAN_loss/d_loss: -0.040308\n",
      "\u001b[32m[1118 15:55:55 @monitor.py:467]\u001b[0m GAN_loss/g_loss: -0.1107\n",
      "\u001b[32m[1118 15:55:55 @monitor.py:467]\u001b[0m GAN_loss/kl_div: 0.049356\n",
      "\u001b[32m[1118 15:55:55 @monitor.py:467]\u001b[0m QueueInput/queue_size: 50\n",
      "\u001b[32m[1118 15:55:55 @base.py:275]\u001b[0m Start Epoch 457 ...\n"
     ]
    },
    {
     "name": "stderr",
     "output_type": "stream",
     "text": [
      "\n",
      "100%|#####################################################################################|17/17[00:00<00:00,37.13it/s]"
     ]
    },
    {
     "name": "stdout",
     "output_type": "stream",
     "text": [
      "\u001b[32m[1118 15:55:55 @base.py:285]\u001b[0m Epoch 457 (global_step 11653) finished, time:0.458 second.\n",
      "\u001b[32m[1118 15:55:55 @saver.py:79]\u001b[0m Model saved to ../output/Chicago/TEST/model\\model-11653.\n",
      "\u001b[32m[1118 15:55:55 @monitor.py:467]\u001b[0m GAN_loss/d_loss: -0.040371\n",
      "\u001b[32m[1118 15:55:55 @monitor.py:467]\u001b[0m GAN_loss/g_loss: -0.10999\n",
      "\u001b[32m[1118 15:55:55 @monitor.py:467]\u001b[0m GAN_loss/kl_div: 0.047018\n",
      "\u001b[32m[1118 15:55:55 @monitor.py:467]\u001b[0m QueueInput/queue_size: 50\n",
      "\u001b[32m[1118 15:55:55 @base.py:275]\u001b[0m Start Epoch 458 ...\n"
     ]
    },
    {
     "name": "stderr",
     "output_type": "stream",
     "text": [
      "\n",
      "100%|#####################################################################################|17/17[00:00<00:00,38.38it/s]"
     ]
    },
    {
     "name": "stdout",
     "output_type": "stream",
     "text": [
      "\u001b[32m[1118 15:55:56 @base.py:285]\u001b[0m Epoch 458 (global_step 11678) finished, time:0.443 second.\n",
      "\u001b[32m[1118 15:55:56 @saver.py:79]\u001b[0m Model saved to ../output/Chicago/TEST/model\\model-11678.\n",
      "\u001b[32m[1118 15:55:56 @monitor.py:467]\u001b[0m GAN_loss/d_loss: -0.04022\n",
      "\u001b[32m[1118 15:55:56 @monitor.py:467]\u001b[0m GAN_loss/g_loss: -0.11039\n",
      "\u001b[32m[1118 15:55:56 @monitor.py:467]\u001b[0m GAN_loss/kl_div: 0.048588\n",
      "\u001b[32m[1118 15:55:56 @monitor.py:467]\u001b[0m QueueInput/queue_size: 50\n",
      "\u001b[32m[1118 15:55:56 @base.py:275]\u001b[0m Start Epoch 459 ...\n"
     ]
    },
    {
     "name": "stderr",
     "output_type": "stream",
     "text": [
      "\n",
      "100%|#####################################################################################|17/17[00:00<00:00,37.01it/s]"
     ]
    },
    {
     "name": "stdout",
     "output_type": "stream",
     "text": [
      "\u001b[32m[1118 15:55:56 @base.py:285]\u001b[0m Epoch 459 (global_step 11704) finished, time:0.46 second.\n",
      "\u001b[32m[1118 15:55:56 @saver.py:79]\u001b[0m Model saved to ../output/Chicago/TEST/model\\model-11704.\n",
      "\u001b[32m[1118 15:55:56 @monitor.py:467]\u001b[0m GAN_loss/d_loss: -0.04029\n",
      "\u001b[32m[1118 15:55:56 @monitor.py:467]\u001b[0m GAN_loss/g_loss: -0.11046\n",
      "\u001b[32m[1118 15:55:56 @monitor.py:467]\u001b[0m GAN_loss/kl_div: 0.046067\n",
      "\u001b[32m[1118 15:55:56 @monitor.py:467]\u001b[0m QueueInput/queue_size: 50\n",
      "\u001b[32m[1118 15:55:56 @base.py:275]\u001b[0m Start Epoch 460 ...\n"
     ]
    },
    {
     "name": "stderr",
     "output_type": "stream",
     "text": [
      "\n",
      "100%|#####################################################################################|17/17[00:00<00:00,38.21it/s]"
     ]
    },
    {
     "name": "stdout",
     "output_type": "stream",
     "text": [
      "\u001b[32m[1118 15:55:57 @base.py:285]\u001b[0m Epoch 460 (global_step 11729) finished, time:0.445 second.\n",
      "\u001b[32m[1118 15:55:57 @saver.py:79]\u001b[0m Model saved to ../output/Chicago/TEST/model\\model-11729.\n",
      "\u001b[32m[1118 15:55:57 @monitor.py:467]\u001b[0m GAN_loss/d_loss: -0.039888\n",
      "\u001b[32m[1118 15:55:57 @monitor.py:467]\u001b[0m GAN_loss/g_loss: -0.11017\n",
      "\u001b[32m[1118 15:55:57 @monitor.py:467]\u001b[0m GAN_loss/kl_div: 0.045827\n",
      "\u001b[32m[1118 15:55:57 @monitor.py:467]\u001b[0m QueueInput/queue_size: 50\n",
      "\u001b[32m[1118 15:55:57 @base.py:275]\u001b[0m Start Epoch 461 ...\n"
     ]
    },
    {
     "name": "stderr",
     "output_type": "stream",
     "text": [
      "\n",
      "100%|#####################################################################################|17/17[00:00<00:00,37.13it/s]"
     ]
    },
    {
     "name": "stdout",
     "output_type": "stream",
     "text": [
      "\u001b[32m[1118 15:55:57 @base.py:285]\u001b[0m Epoch 461 (global_step 11755) finished, time:0.459 second.\n",
      "\u001b[32m[1118 15:55:58 @saver.py:79]\u001b[0m Model saved to ../output/Chicago/TEST/model\\model-11755.\n",
      "\u001b[32m[1118 15:55:58 @monitor.py:467]\u001b[0m GAN_loss/d_loss: -0.040323\n",
      "\u001b[32m[1118 15:55:58 @monitor.py:467]\u001b[0m GAN_loss/g_loss: -0.11067\n",
      "\u001b[32m[1118 15:55:58 @monitor.py:467]\u001b[0m GAN_loss/kl_div: 0.046771\n",
      "\u001b[32m[1118 15:55:58 @monitor.py:467]\u001b[0m QueueInput/queue_size: 50\n",
      "\u001b[32m[1118 15:55:58 @base.py:275]\u001b[0m Start Epoch 462 ...\n"
     ]
    },
    {
     "name": "stderr",
     "output_type": "stream",
     "text": [
      "\n",
      "100%|#####################################################################################|17/17[00:00<00:00,38.17it/s]"
     ]
    },
    {
     "name": "stdout",
     "output_type": "stream",
     "text": [
      "\u001b[32m[1118 15:55:58 @base.py:285]\u001b[0m Epoch 462 (global_step 11780) finished, time:0.446 second.\n",
      "\u001b[32m[1118 15:55:58 @saver.py:79]\u001b[0m Model saved to ../output/Chicago/TEST/model\\model-11780.\n",
      "\u001b[32m[1118 15:55:58 @monitor.py:467]\u001b[0m GAN_loss/d_loss: -0.039427\n",
      "\u001b[32m[1118 15:55:58 @monitor.py:467]\u001b[0m GAN_loss/g_loss: -0.11034\n",
      "\u001b[32m[1118 15:55:58 @monitor.py:467]\u001b[0m GAN_loss/kl_div: 0.050559\n",
      "\u001b[32m[1118 15:55:58 @monitor.py:467]\u001b[0m QueueInput/queue_size: 50\n",
      "\u001b[32m[1118 15:55:58 @base.py:275]\u001b[0m Start Epoch 463 ...\n"
     ]
    },
    {
     "name": "stderr",
     "output_type": "stream",
     "text": [
      "\n",
      "100%|#####################################################################################|17/17[00:00<00:00,37.25it/s]"
     ]
    },
    {
     "name": "stdout",
     "output_type": "stream",
     "text": [
      "\u001b[32m[1118 15:55:59 @base.py:285]\u001b[0m Epoch 463 (global_step 11806) finished, time:0.457 second.\n",
      "\u001b[32m[1118 15:55:59 @saver.py:79]\u001b[0m Model saved to ../output/Chicago/TEST/model\\model-11806.\n",
      "\u001b[32m[1118 15:55:59 @monitor.py:467]\u001b[0m GAN_loss/d_loss: -0.038536\n",
      "\u001b[32m[1118 15:55:59 @monitor.py:467]\u001b[0m GAN_loss/g_loss: -0.11135\n",
      "\u001b[32m[1118 15:55:59 @monitor.py:467]\u001b[0m GAN_loss/kl_div: 0.047559\n",
      "\u001b[32m[1118 15:55:59 @monitor.py:467]\u001b[0m QueueInput/queue_size: 50\n",
      "\u001b[32m[1118 15:55:59 @base.py:275]\u001b[0m Start Epoch 464 ...\n"
     ]
    },
    {
     "name": "stderr",
     "output_type": "stream",
     "text": [
      "\n",
      "100%|#####################################################################################|17/17[00:00<00:00,38.38it/s]"
     ]
    },
    {
     "name": "stdout",
     "output_type": "stream",
     "text": [
      "\u001b[32m[1118 15:55:59 @base.py:285]\u001b[0m Epoch 464 (global_step 11831) finished, time:0.443 second.\n",
      "\u001b[32m[1118 15:55:59 @saver.py:79]\u001b[0m Model saved to ../output/Chicago/TEST/model\\model-11831.\n",
      "\u001b[32m[1118 15:55:59 @monitor.py:467]\u001b[0m GAN_loss/d_loss: -0.039446\n",
      "\u001b[32m[1118 15:55:59 @monitor.py:467]\u001b[0m GAN_loss/g_loss: -0.11114\n",
      "\u001b[32m[1118 15:55:59 @monitor.py:467]\u001b[0m GAN_loss/kl_div: 0.047226\n",
      "\u001b[32m[1118 15:55:59 @monitor.py:467]\u001b[0m QueueInput/queue_size: 50\n",
      "\u001b[32m[1118 15:55:59 @base.py:275]\u001b[0m Start Epoch 465 ...\n"
     ]
    },
    {
     "name": "stderr",
     "output_type": "stream",
     "text": [
      "\n",
      "100%|#####################################################################################|17/17[00:00<00:00,37.05it/s]"
     ]
    },
    {
     "name": "stdout",
     "output_type": "stream",
     "text": [
      "\u001b[32m[1118 15:56:00 @base.py:285]\u001b[0m Epoch 465 (global_step 11857) finished, time:0.459 second.\n",
      "\u001b[32m[1118 15:56:00 @saver.py:79]\u001b[0m Model saved to ../output/Chicago/TEST/model\\model-11857.\n",
      "\u001b[32m[1118 15:56:00 @monitor.py:467]\u001b[0m GAN_loss/d_loss: -0.039\n",
      "\u001b[32m[1118 15:56:00 @monitor.py:467]\u001b[0m GAN_loss/g_loss: -0.11213\n",
      "\u001b[32m[1118 15:56:00 @monitor.py:467]\u001b[0m GAN_loss/kl_div: 0.042264\n",
      "\u001b[32m[1118 15:56:00 @monitor.py:467]\u001b[0m QueueInput/queue_size: 50\n",
      "\u001b[32m[1118 15:56:00 @base.py:275]\u001b[0m Start Epoch 466 ...\n"
     ]
    },
    {
     "name": "stderr",
     "output_type": "stream",
     "text": [
      "\n",
      "100%|#####################################################################################|17/17[00:00<00:00,38.30it/s]"
     ]
    },
    {
     "name": "stdout",
     "output_type": "stream",
     "text": [
      "\u001b[32m[1118 15:56:00 @base.py:285]\u001b[0m Epoch 466 (global_step 11882) finished, time:0.444 second.\n",
      "\u001b[32m[1118 15:56:00 @saver.py:79]\u001b[0m Model saved to ../output/Chicago/TEST/model\\model-11882.\n",
      "\u001b[32m[1118 15:56:01 @monitor.py:467]\u001b[0m GAN_loss/d_loss: -0.03932\n",
      "\u001b[32m[1118 15:56:01 @monitor.py:467]\u001b[0m GAN_loss/g_loss: -0.11127\n",
      "\u001b[32m[1118 15:56:01 @monitor.py:467]\u001b[0m GAN_loss/kl_div: 0.04961\n",
      "\u001b[32m[1118 15:56:01 @monitor.py:467]\u001b[0m QueueInput/queue_size: 50\n",
      "\u001b[32m[1118 15:56:01 @base.py:275]\u001b[0m Start Epoch 467 ...\n"
     ]
    },
    {
     "name": "stderr",
     "output_type": "stream",
     "text": [
      "\n",
      "100%|#####################################################################################|17/17[00:00<00:00,37.25it/s]"
     ]
    },
    {
     "name": "stdout",
     "output_type": "stream",
     "text": [
      "\u001b[32m[1118 15:56:01 @base.py:285]\u001b[0m Epoch 467 (global_step 11908) finished, time:0.457 second.\n",
      "\u001b[32m[1118 15:56:01 @saver.py:79]\u001b[0m Model saved to ../output/Chicago/TEST/model\\model-11908.\n",
      "\u001b[32m[1118 15:56:01 @monitor.py:467]\u001b[0m GAN_loss/d_loss: -0.038393\n",
      "\u001b[32m[1118 15:56:01 @monitor.py:467]\u001b[0m GAN_loss/g_loss: -0.11226\n",
      "\u001b[32m[1118 15:56:01 @monitor.py:467]\u001b[0m GAN_loss/kl_div: 0.049619\n",
      "\u001b[32m[1118 15:56:01 @monitor.py:467]\u001b[0m QueueInput/queue_size: 50\n",
      "\u001b[32m[1118 15:56:01 @base.py:275]\u001b[0m Start Epoch 468 ...\n"
     ]
    },
    {
     "name": "stderr",
     "output_type": "stream",
     "text": [
      "\n",
      "100%|#####################################################################################|17/17[00:00<00:00,38.47it/s]"
     ]
    },
    {
     "name": "stdout",
     "output_type": "stream",
     "text": [
      "\u001b[32m[1118 15:56:02 @base.py:285]\u001b[0m Epoch 468 (global_step 11933) finished, time:0.442 second.\n",
      "\u001b[32m[1118 15:56:02 @saver.py:79]\u001b[0m Model saved to ../output/Chicago/TEST/model\\model-11933.\n",
      "\u001b[32m[1118 15:56:02 @monitor.py:467]\u001b[0m GAN_loss/d_loss: -0.039275\n",
      "\u001b[32m[1118 15:56:02 @monitor.py:467]\u001b[0m GAN_loss/g_loss: -0.11117\n",
      "\u001b[32m[1118 15:56:02 @monitor.py:467]\u001b[0m GAN_loss/kl_div: 0.047552\n",
      "\u001b[32m[1118 15:56:02 @monitor.py:467]\u001b[0m QueueInput/queue_size: 50\n",
      "\u001b[32m[1118 15:56:02 @base.py:275]\u001b[0m Start Epoch 469 ...\n"
     ]
    },
    {
     "name": "stderr",
     "output_type": "stream",
     "text": [
      "\n",
      "100%|#####################################################################################|17/17[00:00<00:00,36.97it/s]"
     ]
    },
    {
     "name": "stdout",
     "output_type": "stream",
     "text": [
      "\u001b[32m[1118 15:56:02 @base.py:285]\u001b[0m Epoch 469 (global_step 11959) finished, time:0.46 second.\n",
      "\u001b[32m[1118 15:56:02 @saver.py:79]\u001b[0m Model saved to ../output/Chicago/TEST/model\\model-11959.\n",
      "\u001b[32m[1118 15:56:02 @monitor.py:467]\u001b[0m GAN_loss/d_loss: -0.040475\n",
      "\u001b[32m[1118 15:56:02 @monitor.py:467]\u001b[0m GAN_loss/g_loss: -0.11075\n",
      "\u001b[32m[1118 15:56:02 @monitor.py:467]\u001b[0m GAN_loss/kl_div: 0.043875\n",
      "\u001b[32m[1118 15:56:02 @monitor.py:467]\u001b[0m QueueInput/queue_size: 50\n",
      "\u001b[32m[1118 15:56:02 @base.py:275]\u001b[0m Start Epoch 470 ...\n"
     ]
    },
    {
     "name": "stderr",
     "output_type": "stream",
     "text": [
      "\n",
      "100%|#####################################################################################|17/17[00:00<00:00,38.42it/s]"
     ]
    },
    {
     "name": "stdout",
     "output_type": "stream",
     "text": [
      "\u001b[32m[1118 15:56:03 @base.py:285]\u001b[0m Epoch 470 (global_step 11984) finished, time:0.443 second.\n",
      "\u001b[32m[1118 15:56:03 @saver.py:79]\u001b[0m Model saved to ../output/Chicago/TEST/model\\model-11984.\n",
      "\u001b[32m[1118 15:56:03 @monitor.py:467]\u001b[0m GAN_loss/d_loss: -0.039517\n",
      "\u001b[32m[1118 15:56:03 @monitor.py:467]\u001b[0m GAN_loss/g_loss: -0.11108\n",
      "\u001b[32m[1118 15:56:03 @monitor.py:467]\u001b[0m GAN_loss/kl_div: 0.047446\n",
      "\u001b[32m[1118 15:56:03 @monitor.py:467]\u001b[0m QueueInput/queue_size: 50\n",
      "\u001b[32m[1118 15:56:03 @base.py:275]\u001b[0m Start Epoch 471 ...\n"
     ]
    },
    {
     "name": "stderr",
     "output_type": "stream",
     "text": [
      "\n",
      "100%|#####################################################################################|17/17[00:00<00:00,36.35it/s]"
     ]
    },
    {
     "name": "stdout",
     "output_type": "stream",
     "text": [
      "\u001b[32m[1118 15:56:03 @base.py:285]\u001b[0m Epoch 471 (global_step 12010) finished, time:0.468 second.\n",
      "\u001b[32m[1118 15:56:04 @saver.py:79]\u001b[0m Model saved to ../output/Chicago/TEST/model\\model-12010.\n",
      "\u001b[32m[1118 15:56:04 @monitor.py:467]\u001b[0m GAN_loss/d_loss: -0.039811\n",
      "\u001b[32m[1118 15:56:04 @monitor.py:467]\u001b[0m GAN_loss/g_loss: -0.11104\n",
      "\u001b[32m[1118 15:56:04 @monitor.py:467]\u001b[0m GAN_loss/kl_div: 0.046142\n",
      "\u001b[32m[1118 15:56:04 @monitor.py:467]\u001b[0m QueueInput/queue_size: 50\n",
      "\u001b[32m[1118 15:56:04 @base.py:275]\u001b[0m Start Epoch 472 ...\n"
     ]
    },
    {
     "name": "stderr",
     "output_type": "stream",
     "text": [
      "\n",
      "100%|#####################################################################################|17/17[00:00<00:00,38.47it/s]"
     ]
    },
    {
     "name": "stdout",
     "output_type": "stream",
     "text": [
      "\u001b[32m[1118 15:56:04 @base.py:285]\u001b[0m Epoch 472 (global_step 12035) finished, time:0.442 second.\n",
      "\u001b[32m[1118 15:56:04 @saver.py:79]\u001b[0m Model saved to ../output/Chicago/TEST/model\\model-12035.\n",
      "\u001b[32m[1118 15:56:04 @monitor.py:467]\u001b[0m GAN_loss/d_loss: -0.038286\n",
      "\u001b[32m[1118 15:56:04 @monitor.py:467]\u001b[0m GAN_loss/g_loss: -0.1117\n",
      "\u001b[32m[1118 15:56:04 @monitor.py:467]\u001b[0m GAN_loss/kl_div: 0.050094\n",
      "\u001b[32m[1118 15:56:04 @monitor.py:467]\u001b[0m QueueInput/queue_size: 50\n",
      "\u001b[32m[1118 15:56:04 @base.py:275]\u001b[0m Start Epoch 473 ...\n"
     ]
    },
    {
     "name": "stderr",
     "output_type": "stream",
     "text": [
      "\n",
      "100%|#####################################################################################|17/17[00:00<00:00,37.17it/s]"
     ]
    },
    {
     "name": "stdout",
     "output_type": "stream",
     "text": [
      "\u001b[32m[1118 15:56:05 @base.py:285]\u001b[0m Epoch 473 (global_step 12061) finished, time:0.458 second.\n",
      "\u001b[32m[1118 15:56:05 @saver.py:79]\u001b[0m Model saved to ../output/Chicago/TEST/model\\model-12061.\n",
      "\u001b[32m[1118 15:56:05 @monitor.py:467]\u001b[0m GAN_loss/d_loss: -0.038708\n",
      "\u001b[32m[1118 15:56:05 @monitor.py:467]\u001b[0m GAN_loss/g_loss: -0.11187\n",
      "\u001b[32m[1118 15:56:05 @monitor.py:467]\u001b[0m GAN_loss/kl_div: 0.053181\n",
      "\u001b[32m[1118 15:56:05 @monitor.py:467]\u001b[0m QueueInput/queue_size: 50\n",
      "\u001b[32m[1118 15:56:05 @base.py:275]\u001b[0m Start Epoch 474 ...\n"
     ]
    },
    {
     "name": "stderr",
     "output_type": "stream",
     "text": [
      "\n",
      "100%|#####################################################################################|17/17[00:00<00:00,38.30it/s]"
     ]
    },
    {
     "name": "stdout",
     "output_type": "stream",
     "text": [
      "\u001b[32m[1118 15:56:05 @base.py:285]\u001b[0m Epoch 474 (global_step 12086) finished, time:0.444 second.\n",
      "\u001b[32m[1118 15:56:05 @saver.py:79]\u001b[0m Model saved to ../output/Chicago/TEST/model\\model-12086.\n",
      "\u001b[32m[1118 15:56:05 @monitor.py:467]\u001b[0m GAN_loss/d_loss: -0.038785\n",
      "\u001b[32m[1118 15:56:05 @monitor.py:467]\u001b[0m GAN_loss/g_loss: -0.11267\n",
      "\u001b[32m[1118 15:56:05 @monitor.py:467]\u001b[0m GAN_loss/kl_div: 0.05242\n",
      "\u001b[32m[1118 15:56:05 @monitor.py:467]\u001b[0m QueueInput/queue_size: 50\n",
      "\u001b[32m[1118 15:56:05 @base.py:275]\u001b[0m Start Epoch 475 ...\n"
     ]
    },
    {
     "name": "stderr",
     "output_type": "stream",
     "text": [
      "\n",
      "100%|#####################################################################################|17/17[00:00<00:00,37.01it/s]"
     ]
    },
    {
     "name": "stdout",
     "output_type": "stream",
     "text": [
      "\u001b[32m[1118 15:56:06 @base.py:285]\u001b[0m Epoch 475 (global_step 12112) finished, time:0.46 second.\n",
      "\u001b[32m[1118 15:56:06 @saver.py:79]\u001b[0m Model saved to ../output/Chicago/TEST/model\\model-12112.\n",
      "\u001b[32m[1118 15:56:06 @monitor.py:467]\u001b[0m GAN_loss/d_loss: -0.0383\n",
      "\u001b[32m[1118 15:56:06 @monitor.py:467]\u001b[0m GAN_loss/g_loss: -0.11306\n",
      "\u001b[32m[1118 15:56:06 @monitor.py:467]\u001b[0m GAN_loss/kl_div: 0.046941\n",
      "\u001b[32m[1118 15:56:06 @monitor.py:467]\u001b[0m QueueInput/queue_size: 50\n",
      "\u001b[32m[1118 15:56:06 @base.py:275]\u001b[0m Start Epoch 476 ...\n"
     ]
    },
    {
     "name": "stderr",
     "output_type": "stream",
     "text": [
      "\n",
      "100%|#####################################################################################|17/17[00:00<00:00,38.42it/s]"
     ]
    },
    {
     "name": "stdout",
     "output_type": "stream",
     "text": [
      "\u001b[32m[1118 15:56:06 @base.py:285]\u001b[0m Epoch 476 (global_step 12137) finished, time:0.443 second.\n",
      "\u001b[32m[1118 15:56:07 @saver.py:79]\u001b[0m Model saved to ../output/Chicago/TEST/model\\model-12137.\n",
      "\u001b[32m[1118 15:56:07 @monitor.py:467]\u001b[0m GAN_loss/d_loss: -0.037752\n",
      "\u001b[32m[1118 15:56:07 @monitor.py:467]\u001b[0m GAN_loss/g_loss: -0.11197\n",
      "\u001b[32m[1118 15:56:07 @monitor.py:467]\u001b[0m GAN_loss/kl_div: 0.04633\n",
      "\u001b[32m[1118 15:56:07 @monitor.py:467]\u001b[0m QueueInput/queue_size: 50\n",
      "\u001b[32m[1118 15:56:07 @base.py:275]\u001b[0m Start Epoch 477 ...\n"
     ]
    },
    {
     "name": "stderr",
     "output_type": "stream",
     "text": [
      "\n",
      "100%|#####################################################################################|17/17[00:00<00:00,37.17it/s]"
     ]
    },
    {
     "name": "stdout",
     "output_type": "stream",
     "text": [
      "\u001b[32m[1118 15:56:07 @base.py:285]\u001b[0m Epoch 477 (global_step 12163) finished, time:0.458 second.\n",
      "\u001b[32m[1118 15:56:07 @saver.py:79]\u001b[0m Model saved to ../output/Chicago/TEST/model\\model-12163.\n",
      "\u001b[32m[1118 15:56:07 @monitor.py:467]\u001b[0m GAN_loss/d_loss: -0.039293\n",
      "\u001b[32m[1118 15:56:07 @monitor.py:467]\u001b[0m GAN_loss/g_loss: -0.11059\n",
      "\u001b[32m[1118 15:56:07 @monitor.py:467]\u001b[0m GAN_loss/kl_div: 0.047593\n",
      "\u001b[32m[1118 15:56:07 @monitor.py:467]\u001b[0m QueueInput/queue_size: 50\n",
      "\u001b[32m[1118 15:56:07 @base.py:275]\u001b[0m Start Epoch 478 ...\n"
     ]
    },
    {
     "name": "stderr",
     "output_type": "stream",
     "text": [
      "\n",
      "100%|#####################################################################################|17/17[00:00<00:00,38.45it/s]"
     ]
    },
    {
     "name": "stdout",
     "output_type": "stream",
     "text": [
      "\u001b[32m[1118 15:56:08 @base.py:285]\u001b[0m Epoch 478 (global_step 12188) finished, time:0.443 second.\n",
      "\u001b[32m[1118 15:56:08 @saver.py:79]\u001b[0m Model saved to ../output/Chicago/TEST/model\\model-12188.\n",
      "\u001b[32m[1118 15:56:08 @monitor.py:467]\u001b[0m GAN_loss/d_loss: -0.039395\n"
     ]
    },
    {
     "name": "stderr",
     "output_type": "stream",
     "text": [
      "\n"
     ]
    },
    {
     "name": "stdout",
     "output_type": "stream",
     "text": [
      "\u001b[32m[1118 15:56:08 @monitor.py:467]\u001b[0m GAN_loss/g_loss: -0.11134\n",
      "\u001b[32m[1118 15:56:08 @monitor.py:467]\u001b[0m GAN_loss/kl_div: 0.051872\n",
      "\u001b[32m[1118 15:56:08 @monitor.py:467]\u001b[0m QueueInput/queue_size: 50\n",
      "\u001b[32m[1118 15:56:08 @base.py:275]\u001b[0m Start Epoch 479 ...\n"
     ]
    },
    {
     "name": "stderr",
     "output_type": "stream",
     "text": [
      "100%|#####################################################################################|17/17[00:00<00:00,37.09it/s]"
     ]
    },
    {
     "name": "stdout",
     "output_type": "stream",
     "text": [
      "\u001b[32m[1118 15:56:08 @base.py:285]\u001b[0m Epoch 479 (global_step 12214) finished, time:0.459 second.\n",
      "\u001b[32m[1118 15:56:08 @saver.py:79]\u001b[0m Model saved to ../output/Chicago/TEST/model\\model-12214.\n"
     ]
    },
    {
     "name": "stderr",
     "output_type": "stream",
     "text": [
      "\n"
     ]
    },
    {
     "name": "stdout",
     "output_type": "stream",
     "text": [
      "\u001b[32m[1118 15:56:08 @monitor.py:467]\u001b[0m GAN_loss/d_loss: -0.039132\n",
      "\u001b[32m[1118 15:56:08 @monitor.py:467]\u001b[0m GAN_loss/g_loss: -0.111\n",
      "\u001b[32m[1118 15:56:08 @monitor.py:467]\u001b[0m GAN_loss/kl_div: 0.050341\n",
      "\u001b[32m[1118 15:56:08 @monitor.py:467]\u001b[0m QueueInput/queue_size: 50\n",
      "\u001b[32m[1118 15:56:08 @base.py:275]\u001b[0m Start Epoch 480 ...\n"
     ]
    },
    {
     "name": "stderr",
     "output_type": "stream",
     "text": [
      "100%|#####################################################################################|17/17[00:00<00:00,38.34it/s]"
     ]
    },
    {
     "name": "stdout",
     "output_type": "stream",
     "text": [
      "\u001b[32m[1118 15:56:09 @base.py:285]\u001b[0m Epoch 480 (global_step 12239) finished, time:0.444 second.\n",
      "\u001b[32m[1118 15:56:09 @saver.py:79]\u001b[0m Model saved to ../output/Chicago/TEST/model\\model-12239.\n",
      "\u001b[32m[1118 15:56:09 @monitor.py:467]\u001b[0m GAN_loss/d_loss: -0.038278\n",
      "\u001b[32m[1118 15:56:09 @monitor.py:467]\u001b[0m GAN_loss/g_loss: -0.11126\n",
      "\u001b[32m[1118 15:56:09 @monitor.py:467]\u001b[0m GAN_loss/kl_div: 0.048992\n",
      "\u001b[32m[1118 15:56:09 @monitor.py:467]\u001b[0m QueueInput/queue_size: 50\n",
      "\u001b[32m[1118 15:56:09 @base.py:275]\u001b[0m Start Epoch 481 ...\n"
     ]
    },
    {
     "name": "stderr",
     "output_type": "stream",
     "text": [
      "\n",
      "100%|#####################################################################################|17/17[00:00<00:00,36.89it/s]"
     ]
    },
    {
     "name": "stdout",
     "output_type": "stream",
     "text": [
      "\u001b[32m[1118 15:56:10 @base.py:285]\u001b[0m Epoch 481 (global_step 12265) finished, time:0.461 second.\n",
      "\u001b[32m[1118 15:56:10 @saver.py:79]\u001b[0m Model saved to ../output/Chicago/TEST/model\\model-12265.\n",
      "\u001b[32m[1118 15:56:10 @monitor.py:467]\u001b[0m GAN_loss/d_loss: -0.03863\n",
      "\u001b[32m[1118 15:56:10 @monitor.py:467]\u001b[0m GAN_loss/g_loss: -0.1115\n",
      "\u001b[32m[1118 15:56:10 @monitor.py:467]\u001b[0m GAN_loss/kl_div: 0.047894\n",
      "\u001b[32m[1118 15:56:10 @monitor.py:467]\u001b[0m QueueInput/queue_size: 50\n",
      "\u001b[32m[1118 15:56:10 @base.py:275]\u001b[0m Start Epoch 482 ...\n"
     ]
    },
    {
     "name": "stderr",
     "output_type": "stream",
     "text": [
      "\n",
      "100%|#####################################################################################|17/17[00:00<00:00,38.30it/s]"
     ]
    },
    {
     "name": "stdout",
     "output_type": "stream",
     "text": [
      "\u001b[32m[1118 15:56:10 @base.py:285]\u001b[0m Epoch 482 (global_step 12290) finished, time:0.444 second.\n",
      "\u001b[32m[1118 15:56:10 @saver.py:79]\u001b[0m Model saved to ../output/Chicago/TEST/model\\model-12290.\n",
      "\u001b[32m[1118 15:56:10 @monitor.py:467]\u001b[0m GAN_loss/d_loss: -0.037856\n",
      "\u001b[32m[1118 15:56:10 @monitor.py:467]\u001b[0m GAN_loss/g_loss: -0.11216\n",
      "\u001b[32m[1118 15:56:10 @monitor.py:467]\u001b[0m GAN_loss/kl_div: 0.046122\n",
      "\u001b[32m[1118 15:56:10 @monitor.py:467]\u001b[0m QueueInput/queue_size: 50\n",
      "\u001b[32m[1118 15:56:10 @base.py:275]\u001b[0m Start Epoch 483 ...\n"
     ]
    },
    {
     "name": "stderr",
     "output_type": "stream",
     "text": [
      "\n",
      "100%|#####################################################################################|17/17[00:00<00:00,36.93it/s]"
     ]
    },
    {
     "name": "stdout",
     "output_type": "stream",
     "text": [
      "\u001b[32m[1118 15:56:11 @base.py:285]\u001b[0m Epoch 483 (global_step 12316) finished, time:0.461 second.\n",
      "\u001b[32m[1118 15:56:11 @saver.py:79]\u001b[0m Model saved to ../output/Chicago/TEST/model\\model-12316.\n",
      "\u001b[32m[1118 15:56:11 @monitor.py:467]\u001b[0m GAN_loss/d_loss: -0.038247\n",
      "\u001b[32m[1118 15:56:11 @monitor.py:467]\u001b[0m GAN_loss/g_loss: -0.11102\n",
      "\u001b[32m[1118 15:56:11 @monitor.py:467]\u001b[0m GAN_loss/kl_div: 0.048005\n",
      "\u001b[32m[1118 15:56:11 @monitor.py:467]\u001b[0m QueueInput/queue_size: 50\n",
      "\u001b[32m[1118 15:56:11 @base.py:275]\u001b[0m Start Epoch 484 ...\n"
     ]
    },
    {
     "name": "stderr",
     "output_type": "stream",
     "text": [
      "\n",
      "100%|#####################################################################################|17/17[00:00<00:00,38.38it/s]"
     ]
    },
    {
     "name": "stdout",
     "output_type": "stream",
     "text": [
      "\u001b[32m[1118 15:56:11 @base.py:285]\u001b[0m Epoch 484 (global_step 12341) finished, time:0.443 second.\n",
      "\u001b[32m[1118 15:56:11 @saver.py:79]\u001b[0m Model saved to ../output/Chicago/TEST/model\\model-12341.\n",
      "\u001b[32m[1118 15:56:11 @monitor.py:467]\u001b[0m GAN_loss/d_loss: -0.037188\n",
      "\u001b[32m[1118 15:56:11 @monitor.py:467]\u001b[0m GAN_loss/g_loss: -0.11089\n",
      "\u001b[32m[1118 15:56:11 @monitor.py:467]\u001b[0m GAN_loss/kl_div: 0.044876\n",
      "\u001b[32m[1118 15:56:11 @monitor.py:467]\u001b[0m QueueInput/queue_size: 50\n",
      "\u001b[32m[1118 15:56:11 @base.py:275]\u001b[0m Start Epoch 485 ...\n"
     ]
    },
    {
     "name": "stderr",
     "output_type": "stream",
     "text": [
      "\n",
      "100%|#####################################################################################|17/17[00:00<00:00,37.21it/s]"
     ]
    },
    {
     "name": "stdout",
     "output_type": "stream",
     "text": [
      "\u001b[32m[1118 15:56:12 @base.py:285]\u001b[0m Epoch 485 (global_step 12367) finished, time:0.458 second.\n",
      "\u001b[32m[1118 15:56:12 @saver.py:79]\u001b[0m Model saved to ../output/Chicago/TEST/model\\model-12367.\n",
      "\u001b[32m[1118 15:56:12 @monitor.py:467]\u001b[0m GAN_loss/d_loss: -0.037323\n",
      "\u001b[32m[1118 15:56:12 @monitor.py:467]\u001b[0m GAN_loss/g_loss: -0.11137\n",
      "\u001b[32m[1118 15:56:12 @monitor.py:467]\u001b[0m GAN_loss/kl_div: 0.045462\n",
      "\u001b[32m[1118 15:56:12 @monitor.py:467]\u001b[0m QueueInput/queue_size: 50\n",
      "\u001b[32m[1118 15:56:12 @base.py:275]\u001b[0m Start Epoch 486 ...\n"
     ]
    },
    {
     "name": "stderr",
     "output_type": "stream",
     "text": [
      "\n",
      "100%|#####################################################################################|17/17[00:00<00:00,38.17it/s]"
     ]
    },
    {
     "name": "stdout",
     "output_type": "stream",
     "text": [
      "\u001b[32m[1118 15:56:13 @base.py:285]\u001b[0m Epoch 486 (global_step 12392) finished, time:0.445 second.\n",
      "\u001b[32m[1118 15:56:13 @saver.py:79]\u001b[0m Model saved to ../output/Chicago/TEST/model\\model-12392.\n",
      "\u001b[32m[1118 15:56:13 @monitor.py:467]\u001b[0m GAN_loss/d_loss: -0.038113\n",
      "\u001b[32m[1118 15:56:13 @monitor.py:467]\u001b[0m GAN_loss/g_loss: -0.11012\n",
      "\u001b[32m[1118 15:56:13 @monitor.py:467]\u001b[0m GAN_loss/kl_div: 0.048511\n",
      "\u001b[32m[1118 15:56:13 @monitor.py:467]\u001b[0m QueueInput/queue_size: 50\n",
      "\u001b[32m[1118 15:56:13 @base.py:275]\u001b[0m Start Epoch 487 ...\n"
     ]
    },
    {
     "name": "stderr",
     "output_type": "stream",
     "text": [
      "\n",
      "100%|#####################################################################################|17/17[00:00<00:00,37.13it/s]"
     ]
    },
    {
     "name": "stdout",
     "output_type": "stream",
     "text": [
      "\u001b[32m[1118 15:56:13 @base.py:285]\u001b[0m Epoch 487 (global_step 12418) finished, time:0.459 second.\n",
      "\u001b[32m[1118 15:56:13 @saver.py:79]\u001b[0m Model saved to ../output/Chicago/TEST/model\\model-12418.\n",
      "\u001b[32m[1118 15:56:13 @monitor.py:467]\u001b[0m GAN_loss/d_loss: -0.038535\n",
      "\u001b[32m[1118 15:56:13 @monitor.py:467]\u001b[0m GAN_loss/g_loss: -0.11032\n",
      "\u001b[32m[1118 15:56:13 @monitor.py:467]\u001b[0m GAN_loss/kl_div: 0.044484\n",
      "\u001b[32m[1118 15:56:13 @monitor.py:467]\u001b[0m QueueInput/queue_size: 50\n",
      "\u001b[32m[1118 15:56:13 @base.py:275]\u001b[0m Start Epoch 488 ...\n"
     ]
    },
    {
     "name": "stderr",
     "output_type": "stream",
     "text": [
      "\n",
      "100%|#####################################################################################|17/17[00:00<00:00,38.25it/s]"
     ]
    },
    {
     "name": "stdout",
     "output_type": "stream",
     "text": [
      "\u001b[32m[1118 15:56:14 @base.py:285]\u001b[0m Epoch 488 (global_step 12443) finished, time:0.445 second.\n",
      "\u001b[32m[1118 15:56:14 @saver.py:79]\u001b[0m Model saved to ../output/Chicago/TEST/model\\model-12443.\n",
      "\u001b[32m[1118 15:56:14 @monitor.py:467]\u001b[0m GAN_loss/d_loss: -0.037759\n",
      "\u001b[32m[1118 15:56:14 @monitor.py:467]\u001b[0m GAN_loss/g_loss: -0.11061\n",
      "\u001b[32m[1118 15:56:14 @monitor.py:467]\u001b[0m GAN_loss/kl_div: 0.047166\n",
      "\u001b[32m[1118 15:56:14 @monitor.py:467]\u001b[0m QueueInput/queue_size: 50\n",
      "\u001b[32m[1118 15:56:14 @base.py:275]\u001b[0m Start Epoch 489 ...\n"
     ]
    },
    {
     "name": "stderr",
     "output_type": "stream",
     "text": [
      "\n",
      "100%|#####################################################################################|17/17[00:00<00:00,36.50it/s]"
     ]
    },
    {
     "name": "stdout",
     "output_type": "stream",
     "text": [
      "\u001b[32m[1118 15:56:14 @base.py:285]\u001b[0m Epoch 489 (global_step 12469) finished, time:0.466 second.\n",
      "\u001b[32m[1118 15:56:14 @saver.py:79]\u001b[0m Model saved to ../output/Chicago/TEST/model\\model-12469.\n",
      "\u001b[32m[1118 15:56:14 @monitor.py:467]\u001b[0m GAN_loss/d_loss: -0.036945\n",
      "\u001b[32m[1118 15:56:14 @monitor.py:467]\u001b[0m GAN_loss/g_loss: -0.11137\n",
      "\u001b[32m[1118 15:56:14 @monitor.py:467]\u001b[0m GAN_loss/kl_div: 0.048068\n",
      "\u001b[32m[1118 15:56:14 @monitor.py:467]\u001b[0m QueueInput/queue_size: 50\n",
      "\u001b[32m[1118 15:56:14 @base.py:275]\u001b[0m Start Epoch 490 ...\n"
     ]
    },
    {
     "name": "stderr",
     "output_type": "stream",
     "text": [
      "\n",
      "100%|#####################################################################################|17/17[00:00<00:00,38.38it/s]"
     ]
    },
    {
     "name": "stdout",
     "output_type": "stream",
     "text": [
      "\u001b[32m[1118 15:56:15 @base.py:285]\u001b[0m Epoch 490 (global_step 12494) finished, time:0.443 second.\n",
      "\u001b[32m[1118 15:56:15 @saver.py:79]\u001b[0m Model saved to ../output/Chicago/TEST/model\\model-12494.\n",
      "\u001b[32m[1118 15:56:15 @monitor.py:467]\u001b[0m GAN_loss/d_loss: -0.037821\n",
      "\u001b[32m[1118 15:56:15 @monitor.py:467]\u001b[0m GAN_loss/g_loss: -0.11164\n",
      "\u001b[32m[1118 15:56:15 @monitor.py:467]\u001b[0m GAN_loss/kl_div: 0.049134\n",
      "\u001b[32m[1118 15:56:15 @monitor.py:467]\u001b[0m QueueInput/queue_size: 50\n",
      "\u001b[32m[1118 15:56:15 @base.py:275]\u001b[0m Start Epoch 491 ...\n"
     ]
    },
    {
     "name": "stderr",
     "output_type": "stream",
     "text": [
      "\n",
      "100%|#####################################################################################|17/17[00:00<00:00,37.13it/s]"
     ]
    },
    {
     "name": "stdout",
     "output_type": "stream",
     "text": [
      "\u001b[32m[1118 15:56:16 @base.py:285]\u001b[0m Epoch 491 (global_step 12520) finished, time:0.458 second.\n",
      "\u001b[32m[1118 15:56:16 @saver.py:79]\u001b[0m Model saved to ../output/Chicago/TEST/model\\model-12520.\n",
      "\u001b[32m[1118 15:56:16 @monitor.py:467]\u001b[0m GAN_loss/d_loss: -0.037014\n",
      "\u001b[32m[1118 15:56:16 @monitor.py:467]\u001b[0m GAN_loss/g_loss: -0.1121\n",
      "\u001b[32m[1118 15:56:16 @monitor.py:467]\u001b[0m GAN_loss/kl_div: 0.04839\n",
      "\u001b[32m[1118 15:56:16 @monitor.py:467]\u001b[0m QueueInput/queue_size: 50\n",
      "\u001b[32m[1118 15:56:16 @base.py:275]\u001b[0m Start Epoch 492 ...\n"
     ]
    },
    {
     "name": "stderr",
     "output_type": "stream",
     "text": [
      "\n",
      "100%|#####################################################################################|17/17[00:00<00:00,38.04it/s]"
     ]
    },
    {
     "name": "stdout",
     "output_type": "stream",
     "text": [
      "\u001b[32m[1118 15:56:16 @base.py:285]\u001b[0m Epoch 492 (global_step 12545) finished, time:0.447 second.\n",
      "\u001b[32m[1118 15:56:16 @saver.py:79]\u001b[0m Model saved to ../output/Chicago/TEST/model\\model-12545.\n",
      "\u001b[32m[1118 15:56:16 @monitor.py:467]\u001b[0m GAN_loss/d_loss: -0.036772\n",
      "\u001b[32m[1118 15:56:16 @monitor.py:467]\u001b[0m GAN_loss/g_loss: -0.1118\n",
      "\u001b[32m[1118 15:56:16 @monitor.py:467]\u001b[0m GAN_loss/kl_div: 0.047239\n",
      "\u001b[32m[1118 15:56:16 @monitor.py:467]\u001b[0m QueueInput/queue_size: 50\n",
      "\u001b[32m[1118 15:56:16 @base.py:275]\u001b[0m Start Epoch 493 ...\n"
     ]
    },
    {
     "name": "stderr",
     "output_type": "stream",
     "text": [
      "\n",
      "100%|#####################################################################################|17/17[00:00<00:00,37.09it/s]"
     ]
    },
    {
     "name": "stdout",
     "output_type": "stream",
     "text": [
      "\u001b[32m[1118 15:56:17 @base.py:285]\u001b[0m Epoch 493 (global_step 12571) finished, time:0.459 second.\n",
      "\u001b[32m[1118 15:56:17 @saver.py:79]\u001b[0m Model saved to ../output/Chicago/TEST/model\\model-12571.\n",
      "\u001b[32m[1118 15:56:17 @monitor.py:467]\u001b[0m GAN_loss/d_loss: -0.036692\n",
      "\u001b[32m[1118 15:56:17 @monitor.py:467]\u001b[0m GAN_loss/g_loss: -0.11177\n",
      "\u001b[32m[1118 15:56:17 @monitor.py:467]\u001b[0m GAN_loss/kl_div: 0.047913\n",
      "\u001b[32m[1118 15:56:17 @monitor.py:467]\u001b[0m QueueInput/queue_size: 50\n",
      "\u001b[32m[1118 15:56:17 @base.py:275]\u001b[0m Start Epoch 494 ...\n"
     ]
    },
    {
     "name": "stderr",
     "output_type": "stream",
     "text": [
      "\n",
      "100%|#####################################################################################|17/17[00:00<00:00,38.42it/s]"
     ]
    },
    {
     "name": "stdout",
     "output_type": "stream",
     "text": [
      "\u001b[32m[1118 15:56:17 @base.py:285]\u001b[0m Epoch 494 (global_step 12596) finished, time:0.443 second.\n",
      "\u001b[32m[1118 15:56:17 @saver.py:79]\u001b[0m Model saved to ../output/Chicago/TEST/model\\model-12596.\n",
      "\u001b[32m[1118 15:56:18 @monitor.py:467]\u001b[0m GAN_loss/d_loss: -0.036977\n",
      "\u001b[32m[1118 15:56:18 @monitor.py:467]\u001b[0m GAN_loss/g_loss: -0.11187\n",
      "\u001b[32m[1118 15:56:18 @monitor.py:467]\u001b[0m GAN_loss/kl_div: 0.046999\n",
      "\u001b[32m[1118 15:56:18 @monitor.py:467]\u001b[0m QueueInput/queue_size: 50\n",
      "\u001b[32m[1118 15:56:18 @base.py:275]\u001b[0m Start Epoch 495 ...\n"
     ]
    },
    {
     "name": "stderr",
     "output_type": "stream",
     "text": [
      "\n",
      "100%|#####################################################################################|17/17[00:00<00:00,36.97it/s]"
     ]
    },
    {
     "name": "stdout",
     "output_type": "stream",
     "text": [
      "\u001b[32m[1118 15:56:18 @base.py:285]\u001b[0m Epoch 495 (global_step 12622) finished, time:0.46 second.\n",
      "\u001b[32m[1118 15:56:18 @saver.py:79]\u001b[0m Model saved to ../output/Chicago/TEST/model\\model-12622.\n",
      "\u001b[32m[1118 15:56:18 @monitor.py:467]\u001b[0m GAN_loss/d_loss: -0.037166\n",
      "\u001b[32m[1118 15:56:18 @monitor.py:467]\u001b[0m GAN_loss/g_loss: -0.11265\n",
      "\u001b[32m[1118 15:56:18 @monitor.py:467]\u001b[0m GAN_loss/kl_div: 0.047187\n",
      "\u001b[32m[1118 15:56:18 @monitor.py:467]\u001b[0m QueueInput/queue_size: 50\n",
      "\u001b[32m[1118 15:56:18 @base.py:275]\u001b[0m Start Epoch 496 ...\n"
     ]
    },
    {
     "name": "stderr",
     "output_type": "stream",
     "text": [
      "\n",
      "100%|#####################################################################################|17/17[00:00<00:00,38.17it/s]"
     ]
    },
    {
     "name": "stdout",
     "output_type": "stream",
     "text": [
      "\u001b[32m[1118 15:56:19 @base.py:285]\u001b[0m Epoch 496 (global_step 12647) finished, time:0.446 second.\n",
      "\u001b[32m[1118 15:56:19 @saver.py:79]\u001b[0m Model saved to ../output/Chicago/TEST/model\\model-12647.\n",
      "\u001b[32m[1118 15:56:19 @monitor.py:467]\u001b[0m GAN_loss/d_loss: -0.037654\n",
      "\u001b[32m[1118 15:56:19 @monitor.py:467]\u001b[0m GAN_loss/g_loss: -0.11231\n",
      "\u001b[32m[1118 15:56:19 @monitor.py:467]\u001b[0m GAN_loss/kl_div: 0.047163\n",
      "\u001b[32m[1118 15:56:19 @monitor.py:467]\u001b[0m QueueInput/queue_size: 50\n",
      "\u001b[32m[1118 15:56:19 @base.py:275]\u001b[0m Start Epoch 497 ...\n"
     ]
    },
    {
     "name": "stderr",
     "output_type": "stream",
     "text": [
      "\n",
      "100%|#####################################################################################|17/17[00:00<00:00,37.21it/s]"
     ]
    },
    {
     "name": "stdout",
     "output_type": "stream",
     "text": [
      "\u001b[32m[1118 15:56:19 @base.py:285]\u001b[0m Epoch 497 (global_step 12673) finished, time:0.458 second.\n",
      "\u001b[32m[1118 15:56:19 @saver.py:79]\u001b[0m Model saved to ../output/Chicago/TEST/model\\model-12673.\n",
      "\u001b[32m[1118 15:56:19 @monitor.py:467]\u001b[0m GAN_loss/d_loss: -0.037449\n",
      "\u001b[32m[1118 15:56:19 @monitor.py:467]\u001b[0m GAN_loss/g_loss: -0.11168\n",
      "\u001b[32m[1118 15:56:19 @monitor.py:467]\u001b[0m GAN_loss/kl_div: 0.048404\n",
      "\u001b[32m[1118 15:56:19 @monitor.py:467]\u001b[0m QueueInput/queue_size: 50\n",
      "\u001b[32m[1118 15:56:19 @base.py:275]\u001b[0m Start Epoch 498 ...\n"
     ]
    },
    {
     "name": "stderr",
     "output_type": "stream",
     "text": [
      "\n",
      "100%|#####################################################################################|17/17[00:00<00:00,38.34it/s]"
     ]
    },
    {
     "name": "stdout",
     "output_type": "stream",
     "text": [
      "\u001b[32m[1118 15:56:20 @base.py:285]\u001b[0m Epoch 498 (global_step 12698) finished, time:0.444 second.\n",
      "\u001b[32m[1118 15:56:20 @saver.py:79]\u001b[0m Model saved to ../output/Chicago/TEST/model\\model-12698.\n",
      "\u001b[32m[1118 15:56:20 @monitor.py:467]\u001b[0m GAN_loss/d_loss: -0.037203\n",
      "\u001b[32m[1118 15:56:20 @monitor.py:467]\u001b[0m GAN_loss/g_loss: -0.11144\n",
      "\u001b[32m[1118 15:56:20 @monitor.py:467]\u001b[0m GAN_loss/kl_div: 0.046196\n",
      "\u001b[32m[1118 15:56:20 @monitor.py:467]\u001b[0m QueueInput/queue_size: 50\n",
      "\u001b[32m[1118 15:56:20 @base.py:275]\u001b[0m Start Epoch 499 ...\n"
     ]
    },
    {
     "name": "stderr",
     "output_type": "stream",
     "text": [
      "\n",
      "100%|#####################################################################################|17/17[00:00<00:00,37.09it/s]"
     ]
    },
    {
     "name": "stdout",
     "output_type": "stream",
     "text": [
      "\u001b[32m[1118 15:56:20 @base.py:285]\u001b[0m Epoch 499 (global_step 12724) finished, time:0.459 second.\n",
      "\u001b[32m[1118 15:56:20 @saver.py:79]\u001b[0m Model saved to ../output/Chicago/TEST/model\\model-12724.\n",
      "\u001b[32m[1118 15:56:21 @monitor.py:467]\u001b[0m GAN_loss/d_loss: -0.037216\n",
      "\u001b[32m[1118 15:56:21 @monitor.py:467]\u001b[0m GAN_loss/g_loss: -0.11218\n",
      "\u001b[32m[1118 15:56:21 @monitor.py:467]\u001b[0m GAN_loss/kl_div: 0.045707\n",
      "\u001b[32m[1118 15:56:21 @monitor.py:467]\u001b[0m QueueInput/queue_size: 50\n",
      "\u001b[32m[1118 15:56:21 @base.py:275]\u001b[0m Start Epoch 500 ...\n"
     ]
    },
    {
     "name": "stderr",
     "output_type": "stream",
     "text": [
      "\n",
      "100%|#####################################################################################|17/17[00:00<00:00,38.38it/s]"
     ]
    },
    {
     "name": "stdout",
     "output_type": "stream",
     "text": [
      "\u001b[32m[1118 15:56:21 @base.py:285]\u001b[0m Epoch 500 (global_step 12749) finished, time:0.443 second.\n",
      "\u001b[32m[1118 15:56:21 @saver.py:79]\u001b[0m Model saved to ../output/Chicago/TEST/model\\model-12749.\n",
      "\u001b[32m[1118 15:56:21 @monitor.py:467]\u001b[0m GAN_loss/d_loss: -0.037475\n",
      "\u001b[32m[1118 15:56:21 @monitor.py:467]\u001b[0m GAN_loss/g_loss: -0.11149\n",
      "\u001b[32m[1118 15:56:21 @monitor.py:467]\u001b[0m GAN_loss/kl_div: 0.050233\n",
      "\u001b[32m[1118 15:56:21 @monitor.py:467]\u001b[0m QueueInput/queue_size: 50\n",
      "\u001b[32m[1118 15:56:21 @base.py:275]\u001b[0m Start Epoch 501 ...\n"
     ]
    },
    {
     "name": "stderr",
     "output_type": "stream",
     "text": [
      "\n",
      "100%|#####################################################################################|17/17[00:00<00:00,37.21it/s]"
     ]
    },
    {
     "name": "stdout",
     "output_type": "stream",
     "text": [
      "\u001b[32m[1118 15:56:22 @base.py:285]\u001b[0m Epoch 501 (global_step 12775) finished, time:0.457 second.\n",
      "\u001b[32m[1118 15:56:22 @saver.py:79]\u001b[0m Model saved to ../output/Chicago/TEST/model\\model-12775.\n",
      "\u001b[32m[1118 15:56:22 @monitor.py:467]\u001b[0m GAN_loss/d_loss: -0.037674\n",
      "\u001b[32m[1118 15:56:22 @monitor.py:467]\u001b[0m GAN_loss/g_loss: -0.11196\n",
      "\u001b[32m[1118 15:56:22 @monitor.py:467]\u001b[0m GAN_loss/kl_div: 0.049586\n",
      "\u001b[32m[1118 15:56:22 @monitor.py:467]\u001b[0m QueueInput/queue_size: 50\n",
      "\u001b[32m[1118 15:56:22 @base.py:275]\u001b[0m Start Epoch 502 ...\n"
     ]
    },
    {
     "name": "stderr",
     "output_type": "stream",
     "text": [
      "\n",
      "100%|#####################################################################################|17/17[00:00<00:00,38.25it/s]"
     ]
    },
    {
     "name": "stdout",
     "output_type": "stream",
     "text": [
      "\u001b[32m[1118 15:56:22 @base.py:285]\u001b[0m Epoch 502 (global_step 12800) finished, time:0.445 second.\n",
      "\u001b[32m[1118 15:56:22 @saver.py:79]\u001b[0m Model saved to ../output/Chicago/TEST/model\\model-12800.\n",
      "\u001b[32m[1118 15:56:22 @monitor.py:467]\u001b[0m GAN_loss/d_loss: -0.036409\n",
      "\u001b[32m[1118 15:56:22 @monitor.py:467]\u001b[0m GAN_loss/g_loss: -0.11204\n",
      "\u001b[32m[1118 15:56:22 @monitor.py:467]\u001b[0m GAN_loss/kl_div: 0.051625\n",
      "\u001b[32m[1118 15:56:22 @monitor.py:467]\u001b[0m QueueInput/queue_size: 50\n",
      "\u001b[32m[1118 15:56:22 @base.py:275]\u001b[0m Start Epoch 503 ...\n"
     ]
    },
    {
     "name": "stderr",
     "output_type": "stream",
     "text": [
      "\n",
      "100%|#####################################################################################|17/17[00:00<00:00,37.09it/s]"
     ]
    },
    {
     "name": "stdout",
     "output_type": "stream",
     "text": [
      "\u001b[32m[1118 15:56:23 @base.py:285]\u001b[0m Epoch 503 (global_step 12826) finished, time:0.459 second.\n",
      "\u001b[32m[1118 15:56:23 @saver.py:79]\u001b[0m Model saved to ../output/Chicago/TEST/model\\model-12826.\n",
      "\u001b[32m[1118 15:56:23 @monitor.py:467]\u001b[0m GAN_loss/d_loss: -0.036345\n",
      "\u001b[32m[1118 15:56:23 @monitor.py:467]\u001b[0m GAN_loss/g_loss: -0.1126\n",
      "\u001b[32m[1118 15:56:23 @monitor.py:467]\u001b[0m GAN_loss/kl_div: 0.047867\n",
      "\u001b[32m[1118 15:56:23 @monitor.py:467]\u001b[0m QueueInput/queue_size: 50\n",
      "\u001b[32m[1118 15:56:23 @base.py:275]\u001b[0m Start Epoch 504 ...\n"
     ]
    },
    {
     "name": "stderr",
     "output_type": "stream",
     "text": [
      "\n",
      "100%|#####################################################################################|17/17[00:00<00:00,38.42it/s]"
     ]
    },
    {
     "name": "stdout",
     "output_type": "stream",
     "text": [
      "\u001b[32m[1118 15:56:23 @base.py:285]\u001b[0m Epoch 504 (global_step 12851) finished, time:0.443 second.\n",
      "\u001b[32m[1118 15:56:23 @saver.py:79]\u001b[0m Model saved to ../output/Chicago/TEST/model\\model-12851.\n",
      "\u001b[32m[1118 15:56:24 @monitor.py:467]\u001b[0m GAN_loss/d_loss: -0.035835\n",
      "\u001b[32m[1118 15:56:24 @monitor.py:467]\u001b[0m GAN_loss/g_loss: -0.11353\n",
      "\u001b[32m[1118 15:56:24 @monitor.py:467]\u001b[0m GAN_loss/kl_div: 0.048483\n",
      "\u001b[32m[1118 15:56:24 @monitor.py:467]\u001b[0m QueueInput/queue_size: 50\n",
      "\u001b[32m[1118 15:56:24 @base.py:275]\u001b[0m Start Epoch 505 ...\n"
     ]
    },
    {
     "name": "stderr",
     "output_type": "stream",
     "text": [
      "\n",
      "100%|#####################################################################################|17/17[00:00<00:00,37.01it/s]"
     ]
    },
    {
     "name": "stdout",
     "output_type": "stream",
     "text": [
      "\u001b[32m[1118 15:56:24 @base.py:285]\u001b[0m Epoch 505 (global_step 12877) finished, time:0.459 second.\n",
      "\u001b[32m[1118 15:56:24 @saver.py:79]\u001b[0m Model saved to ../output/Chicago/TEST/model\\model-12877.\n",
      "\u001b[32m[1118 15:56:24 @monitor.py:467]\u001b[0m GAN_loss/d_loss: -0.036181\n",
      "\u001b[32m[1118 15:56:24 @monitor.py:467]\u001b[0m GAN_loss/g_loss: -0.11345\n",
      "\u001b[32m[1118 15:56:24 @monitor.py:467]\u001b[0m GAN_loss/kl_div: 0.047249\n",
      "\u001b[32m[1118 15:56:24 @monitor.py:467]\u001b[0m QueueInput/queue_size: 50\n",
      "\u001b[32m[1118 15:56:24 @base.py:275]\u001b[0m Start Epoch 506 ...\n"
     ]
    },
    {
     "name": "stderr",
     "output_type": "stream",
     "text": [
      "\n",
      "100%|#####################################################################################|17/17[00:00<00:00,38.22it/s]"
     ]
    },
    {
     "name": "stdout",
     "output_type": "stream",
     "text": [
      "\u001b[32m[1118 15:56:25 @base.py:285]\u001b[0m Epoch 506 (global_step 12902) finished, time:0.445 second.\n",
      "\u001b[32m[1118 15:56:25 @saver.py:79]\u001b[0m Model saved to ../output/Chicago/TEST/model\\model-12902.\n",
      "\u001b[32m[1118 15:56:25 @monitor.py:467]\u001b[0m GAN_loss/d_loss: -0.036306\n",
      "\u001b[32m[1118 15:56:25 @monitor.py:467]\u001b[0m GAN_loss/g_loss: -0.11306\n",
      "\u001b[32m[1118 15:56:25 @monitor.py:467]\u001b[0m GAN_loss/kl_div: 0.04685\n",
      "\u001b[32m[1118 15:56:25 @monitor.py:467]\u001b[0m QueueInput/queue_size: 50\n",
      "\u001b[32m[1118 15:56:25 @base.py:275]\u001b[0m Start Epoch 507 ...\n"
     ]
    },
    {
     "name": "stderr",
     "output_type": "stream",
     "text": [
      "\n",
      "100%|#####################################################################################|17/17[00:00<00:00,36.52it/s]"
     ]
    },
    {
     "name": "stdout",
     "output_type": "stream",
     "text": [
      "\u001b[32m[1118 15:56:25 @base.py:285]\u001b[0m Epoch 507 (global_step 12928) finished, time:0.466 second.\n",
      "\u001b[32m[1118 15:56:25 @saver.py:79]\u001b[0m Model saved to ../output/Chicago/TEST/model\\model-12928.\n",
      "\u001b[32m[1118 15:56:25 @monitor.py:467]\u001b[0m GAN_loss/d_loss: -0.037329\n",
      "\u001b[32m[1118 15:56:25 @monitor.py:467]\u001b[0m GAN_loss/g_loss: -0.11349\n",
      "\u001b[32m[1118 15:56:25 @monitor.py:467]\u001b[0m GAN_loss/kl_div: 0.048338\n",
      "\u001b[32m[1118 15:56:25 @monitor.py:467]\u001b[0m QueueInput/queue_size: 50\n",
      "\u001b[32m[1118 15:56:25 @base.py:275]\u001b[0m Start Epoch 508 ...\n"
     ]
    },
    {
     "name": "stderr",
     "output_type": "stream",
     "text": [
      "\n",
      "100%|#####################################################################################|17/17[00:00<00:00,38.28it/s]"
     ]
    },
    {
     "name": "stdout",
     "output_type": "stream",
     "text": [
      "\u001b[32m[1118 15:56:26 @base.py:285]\u001b[0m Epoch 508 (global_step 12953) finished, time:0.445 second.\n",
      "\u001b[32m[1118 15:56:26 @saver.py:79]\u001b[0m Model saved to ../output/Chicago/TEST/model\\model-12953.\n",
      "\u001b[32m[1118 15:56:26 @monitor.py:467]\u001b[0m GAN_loss/d_loss: -0.035721\n",
      "\u001b[32m[1118 15:56:26 @monitor.py:467]\u001b[0m GAN_loss/g_loss: -0.11384\n",
      "\u001b[32m[1118 15:56:26 @monitor.py:467]\u001b[0m GAN_loss/kl_div: 0.046576\n",
      "\u001b[32m[1118 15:56:26 @monitor.py:467]\u001b[0m QueueInput/queue_size: 50\n",
      "\u001b[32m[1118 15:56:26 @base.py:275]\u001b[0m Start Epoch 509 ...\n"
     ]
    },
    {
     "name": "stderr",
     "output_type": "stream",
     "text": [
      "\n",
      "100%|#####################################################################################|17/17[00:00<00:00,37.09it/s]"
     ]
    },
    {
     "name": "stdout",
     "output_type": "stream",
     "text": [
      "\u001b[32m[1118 15:56:26 @base.py:285]\u001b[0m Epoch 509 (global_step 12979) finished, time:0.459 second.\n",
      "\u001b[32m[1118 15:56:27 @saver.py:79]\u001b[0m Model saved to ../output/Chicago/TEST/model\\model-12979.\n",
      "\u001b[32m[1118 15:56:27 @monitor.py:467]\u001b[0m GAN_loss/d_loss: -0.036331\n",
      "\u001b[32m[1118 15:56:27 @monitor.py:467]\u001b[0m GAN_loss/g_loss: -0.11338\n",
      "\u001b[32m[1118 15:56:27 @monitor.py:467]\u001b[0m GAN_loss/kl_div: 0.049967\n",
      "\u001b[32m[1118 15:56:27 @monitor.py:467]\u001b[0m QueueInput/queue_size: 50\n",
      "\u001b[32m[1118 15:56:27 @base.py:275]\u001b[0m Start Epoch 510 ...\n"
     ]
    },
    {
     "name": "stderr",
     "output_type": "stream",
     "text": [
      "\n",
      "100%|#####################################################################################|17/17[00:00<00:00,38.34it/s]"
     ]
    },
    {
     "name": "stdout",
     "output_type": "stream",
     "text": [
      "\u001b[32m[1118 15:56:27 @base.py:285]\u001b[0m Epoch 510 (global_step 13004) finished, time:0.444 second.\n",
      "\u001b[32m[1118 15:56:27 @saver.py:79]\u001b[0m Model saved to ../output/Chicago/TEST/model\\model-13004.\n",
      "\u001b[32m[1118 15:56:27 @monitor.py:467]\u001b[0m GAN_loss/d_loss: -0.035966\n",
      "\u001b[32m[1118 15:56:27 @monitor.py:467]\u001b[0m GAN_loss/g_loss: -0.11141\n",
      "\u001b[32m[1118 15:56:27 @monitor.py:467]\u001b[0m GAN_loss/kl_div: 0.047917\n",
      "\u001b[32m[1118 15:56:27 @monitor.py:467]\u001b[0m QueueInput/queue_size: 50\n",
      "\u001b[32m[1118 15:56:27 @base.py:275]\u001b[0m Start Epoch 511 ...\n"
     ]
    },
    {
     "name": "stderr",
     "output_type": "stream",
     "text": [
      "\n",
      "100%|#####################################################################################|17/17[00:00<00:00,37.01it/s]"
     ]
    },
    {
     "name": "stdout",
     "output_type": "stream",
     "text": [
      "\u001b[32m[1118 15:56:28 @base.py:285]\u001b[0m Epoch 511 (global_step 13030) finished, time:0.46 second.\n",
      "\u001b[32m[1118 15:56:28 @saver.py:79]\u001b[0m Model saved to ../output/Chicago/TEST/model\\model-13030.\n",
      "\u001b[32m[1118 15:56:28 @monitor.py:467]\u001b[0m GAN_loss/d_loss: -0.03539\n",
      "\u001b[32m[1118 15:56:28 @monitor.py:467]\u001b[0m GAN_loss/g_loss: -0.11273\n",
      "\u001b[32m[1118 15:56:28 @monitor.py:467]\u001b[0m GAN_loss/kl_div: 0.048831\n",
      "\u001b[32m[1118 15:56:28 @monitor.py:467]\u001b[0m QueueInput/queue_size: 50\n",
      "\u001b[32m[1118 15:56:28 @base.py:275]\u001b[0m Start Epoch 512 ...\n"
     ]
    },
    {
     "name": "stderr",
     "output_type": "stream",
     "text": [
      "\n",
      "100%|#####################################################################################|17/17[00:00<00:00,38.38it/s]"
     ]
    },
    {
     "name": "stdout",
     "output_type": "stream",
     "text": [
      "\u001b[32m[1118 15:56:28 @base.py:285]\u001b[0m Epoch 512 (global_step 13055) finished, time:0.444 second.\n",
      "\u001b[32m[1118 15:56:28 @saver.py:79]\u001b[0m Model saved to ../output/Chicago/TEST/model\\model-13055.\n",
      "\u001b[32m[1118 15:56:28 @monitor.py:467]\u001b[0m GAN_loss/d_loss: -0.035273\n",
      "\u001b[32m[1118 15:56:28 @monitor.py:467]\u001b[0m GAN_loss/g_loss: -0.11184\n",
      "\u001b[32m[1118 15:56:28 @monitor.py:467]\u001b[0m GAN_loss/kl_div: 0.046517\n",
      "\u001b[32m[1118 15:56:28 @monitor.py:467]\u001b[0m QueueInput/queue_size: 50\n",
      "\u001b[32m[1118 15:56:28 @base.py:275]\u001b[0m Start Epoch 513 ...\n"
     ]
    },
    {
     "name": "stderr",
     "output_type": "stream",
     "text": [
      "\n",
      "100%|#####################################################################################|17/17[00:00<00:00,37.17it/s]"
     ]
    },
    {
     "name": "stdout",
     "output_type": "stream",
     "text": [
      "\u001b[32m[1118 15:56:29 @base.py:285]\u001b[0m Epoch 513 (global_step 13081) finished, time:0.458 second.\n",
      "\u001b[32m[1118 15:56:29 @saver.py:79]\u001b[0m Model saved to ../output/Chicago/TEST/model\\model-13081.\n",
      "\u001b[32m[1118 15:56:29 @monitor.py:467]\u001b[0m GAN_loss/d_loss: -0.03582\n",
      "\u001b[32m[1118 15:56:29 @monitor.py:467]\u001b[0m GAN_loss/g_loss: -0.11186\n",
      "\u001b[32m[1118 15:56:29 @monitor.py:467]\u001b[0m GAN_loss/kl_div: 0.04658\n",
      "\u001b[32m[1118 15:56:29 @monitor.py:467]\u001b[0m QueueInput/queue_size: 50\n",
      "\u001b[32m[1118 15:56:29 @base.py:275]\u001b[0m Start Epoch 514 ...\n"
     ]
    },
    {
     "name": "stderr",
     "output_type": "stream",
     "text": [
      "\n",
      "100%|#####################################################################################|17/17[00:00<00:00,38.34it/s]"
     ]
    },
    {
     "name": "stdout",
     "output_type": "stream",
     "text": [
      "\u001b[32m[1118 15:56:29 @base.py:285]\u001b[0m Epoch 514 (global_step 13106) finished, time:0.444 second.\n",
      "\u001b[32m[1118 15:56:30 @saver.py:79]\u001b[0m Model saved to ../output/Chicago/TEST/model\\model-13106.\n",
      "\u001b[32m[1118 15:56:30 @monitor.py:467]\u001b[0m GAN_loss/d_loss: -0.03627\n",
      "\u001b[32m[1118 15:56:30 @monitor.py:467]\u001b[0m GAN_loss/g_loss: -0.11143\n",
      "\u001b[32m[1118 15:56:30 @monitor.py:467]\u001b[0m GAN_loss/kl_div: 0.0489\n",
      "\u001b[32m[1118 15:56:30 @monitor.py:467]\u001b[0m QueueInput/queue_size: 50\n",
      "\u001b[32m[1118 15:56:30 @base.py:275]\u001b[0m Start Epoch 515 ...\n"
     ]
    },
    {
     "name": "stderr",
     "output_type": "stream",
     "text": [
      "\n",
      "100%|#####################################################################################|17/17[00:00<00:00,36.85it/s]"
     ]
    },
    {
     "name": "stdout",
     "output_type": "stream",
     "text": [
      "\u001b[32m[1118 15:56:30 @base.py:285]\u001b[0m Epoch 515 (global_step 13132) finished, time:0.461 second.\n",
      "\u001b[32m[1118 15:56:30 @saver.py:79]\u001b[0m Model saved to ../output/Chicago/TEST/model\\model-13132.\n",
      "\u001b[32m[1118 15:56:30 @monitor.py:467]\u001b[0m GAN_loss/d_loss: -0.036426\n"
     ]
    },
    {
     "name": "stderr",
     "output_type": "stream",
     "text": [
      "\n"
     ]
    },
    {
     "name": "stdout",
     "output_type": "stream",
     "text": [
      "\u001b[32m[1118 15:56:30 @monitor.py:467]\u001b[0m GAN_loss/g_loss: -0.11119\n",
      "\u001b[32m[1118 15:56:30 @monitor.py:467]\u001b[0m GAN_loss/kl_div: 0.046245\n",
      "\u001b[32m[1118 15:56:30 @monitor.py:467]\u001b[0m QueueInput/queue_size: 50\n",
      "\u001b[32m[1118 15:56:30 @base.py:275]\u001b[0m Start Epoch 516 ...\n"
     ]
    },
    {
     "name": "stderr",
     "output_type": "stream",
     "text": [
      "100%|#####################################################################################|17/17[00:00<00:00,38.38it/s]"
     ]
    },
    {
     "name": "stdout",
     "output_type": "stream",
     "text": [
      "\u001b[32m[1118 15:56:31 @base.py:285]\u001b[0m Epoch 516 (global_step 13157) finished, time:0.443 second.\n",
      "\u001b[32m[1118 15:56:31 @saver.py:79]\u001b[0m Model saved to ../output/Chicago/TEST/model\\model-13157.\n",
      "\u001b[32m[1118 15:56:31 @monitor.py:467]\u001b[0m GAN_loss/d_loss: -0.036505\n",
      "\u001b[32m[1118 15:56:31 @monitor.py:467]\u001b[0m GAN_loss/g_loss: -0.11203\n",
      "\u001b[32m[1118 15:56:31 @monitor.py:467]\u001b[0m GAN_loss/kl_div: 0.049085\n",
      "\u001b[32m[1118 15:56:31 @monitor.py:467]\u001b[0m QueueInput/queue_size: 50\n",
      "\u001b[32m[1118 15:56:31 @base.py:275]\u001b[0m Start Epoch 517 ...\n"
     ]
    },
    {
     "name": "stderr",
     "output_type": "stream",
     "text": [
      "\n",
      "100%|#####################################################################################|17/17[00:00<00:00,37.05it/s]"
     ]
    },
    {
     "name": "stdout",
     "output_type": "stream",
     "text": [
      "\u001b[32m[1118 15:56:31 @base.py:285]\u001b[0m Epoch 517 (global_step 13183) finished, time:0.459 second.\n",
      "\u001b[32m[1118 15:56:31 @saver.py:79]\u001b[0m Model saved to ../output/Chicago/TEST/model\\model-13183.\n",
      "\u001b[32m[1118 15:56:31 @monitor.py:467]\u001b[0m GAN_loss/d_loss: -0.03735\n",
      "\u001b[32m[1118 15:56:31 @monitor.py:467]\u001b[0m GAN_loss/g_loss: -0.11233\n",
      "\u001b[32m[1118 15:56:31 @monitor.py:467]\u001b[0m GAN_loss/kl_div: 0.046862\n",
      "\u001b[32m[1118 15:56:31 @monitor.py:467]\u001b[0m QueueInput/queue_size: 50\n",
      "\u001b[32m[1118 15:56:31 @base.py:275]\u001b[0m Start Epoch 518 ...\n"
     ]
    },
    {
     "name": "stderr",
     "output_type": "stream",
     "text": [
      "\n",
      "100%|#####################################################################################|17/17[00:00<00:00,38.25it/s]"
     ]
    },
    {
     "name": "stdout",
     "output_type": "stream",
     "text": [
      "\u001b[32m[1118 15:56:32 @base.py:285]\u001b[0m Epoch 518 (global_step 13208) finished, time:0.445 second.\n",
      "\u001b[32m[1118 15:56:32 @saver.py:79]\u001b[0m Model saved to ../output/Chicago/TEST/model\\model-13208.\n",
      "\u001b[32m[1118 15:56:32 @monitor.py:467]\u001b[0m GAN_loss/d_loss: -0.036013\n",
      "\u001b[32m[1118 15:56:32 @monitor.py:467]\u001b[0m GAN_loss/g_loss: -0.11361\n",
      "\u001b[32m[1118 15:56:32 @monitor.py:467]\u001b[0m GAN_loss/kl_div: 0.048762\n",
      "\u001b[32m[1118 15:56:32 @monitor.py:467]\u001b[0m QueueInput/queue_size: 50\n",
      "\u001b[32m[1118 15:56:32 @base.py:275]\u001b[0m Start Epoch 519 ...\n"
     ]
    },
    {
     "name": "stderr",
     "output_type": "stream",
     "text": [
      "\n",
      "100%|#####################################################################################|17/17[00:00<00:00,37.09it/s]"
     ]
    },
    {
     "name": "stdout",
     "output_type": "stream",
     "text": [
      "\u001b[32m[1118 15:56:33 @base.py:285]\u001b[0m Epoch 519 (global_step 13234) finished, time:0.459 second.\n",
      "\u001b[32m[1118 15:56:33 @saver.py:79]\u001b[0m Model saved to ../output/Chicago/TEST/model\\model-13234.\n",
      "\u001b[32m[1118 15:56:33 @monitor.py:467]\u001b[0m GAN_loss/d_loss: -0.036028\n",
      "\u001b[32m[1118 15:56:33 @monitor.py:467]\u001b[0m GAN_loss/g_loss: -0.11434\n",
      "\u001b[32m[1118 15:56:33 @monitor.py:467]\u001b[0m GAN_loss/kl_div: 0.049843\n",
      "\u001b[32m[1118 15:56:33 @monitor.py:467]\u001b[0m QueueInput/queue_size: 50\n",
      "\u001b[32m[1118 15:56:33 @base.py:275]\u001b[0m Start Epoch 520 ...\n"
     ]
    },
    {
     "name": "stderr",
     "output_type": "stream",
     "text": [
      "\n",
      "100%|#####################################################################################|17/17[00:00<00:00,38.42it/s]"
     ]
    },
    {
     "name": "stdout",
     "output_type": "stream",
     "text": [
      "\u001b[32m[1118 15:56:33 @base.py:285]\u001b[0m Epoch 520 (global_step 13259) finished, time:0.443 second.\n",
      "\u001b[32m[1118 15:56:33 @saver.py:79]\u001b[0m Model saved to ../output/Chicago/TEST/model\\model-13259.\n",
      "\u001b[32m[1118 15:56:33 @monitor.py:467]\u001b[0m GAN_loss/d_loss: -0.036409\n",
      "\u001b[32m[1118 15:56:33 @monitor.py:467]\u001b[0m GAN_loss/g_loss: -0.11369\n",
      "\u001b[32m[1118 15:56:33 @monitor.py:467]\u001b[0m GAN_loss/kl_div: 0.045181\n",
      "\u001b[32m[1118 15:56:33 @monitor.py:467]\u001b[0m QueueInput/queue_size: 50\n",
      "\u001b[32m[1118 15:56:33 @base.py:275]\u001b[0m Start Epoch 521 ...\n"
     ]
    },
    {
     "name": "stderr",
     "output_type": "stream",
     "text": [
      "\n",
      "100%|#####################################################################################|17/17[00:00<00:00,37.09it/s]"
     ]
    },
    {
     "name": "stdout",
     "output_type": "stream",
     "text": [
      "\u001b[32m[1118 15:56:34 @base.py:285]\u001b[0m Epoch 521 (global_step 13285) finished, time:0.459 second.\n",
      "\u001b[32m[1118 15:56:34 @saver.py:79]\u001b[0m Model saved to ../output/Chicago/TEST/model\\model-13285.\n",
      "\u001b[32m[1118 15:56:34 @monitor.py:467]\u001b[0m GAN_loss/d_loss: -0.036966\n",
      "\u001b[32m[1118 15:56:34 @monitor.py:467]\u001b[0m GAN_loss/g_loss: -0.11325\n",
      "\u001b[32m[1118 15:56:34 @monitor.py:467]\u001b[0m GAN_loss/kl_div: 0.048529\n",
      "\u001b[32m[1118 15:56:34 @monitor.py:467]\u001b[0m QueueInput/queue_size: 50\n",
      "\u001b[32m[1118 15:56:34 @base.py:275]\u001b[0m Start Epoch 522 ...\n"
     ]
    },
    {
     "name": "stderr",
     "output_type": "stream",
     "text": [
      "\n",
      "100%|#####################################################################################|17/17[00:00<00:00,38.34it/s]"
     ]
    },
    {
     "name": "stdout",
     "output_type": "stream",
     "text": [
      "\u001b[32m[1118 15:56:34 @base.py:285]\u001b[0m Epoch 522 (global_step 13310) finished, time:0.443 second.\n",
      "\u001b[32m[1118 15:56:34 @saver.py:79]\u001b[0m Model saved to ../output/Chicago/TEST/model\\model-13310.\n",
      "\u001b[32m[1118 15:56:34 @monitor.py:467]\u001b[0m GAN_loss/d_loss: -0.035765\n",
      "\u001b[32m[1118 15:56:34 @monitor.py:467]\u001b[0m GAN_loss/g_loss: -0.11416\n",
      "\u001b[32m[1118 15:56:34 @monitor.py:467]\u001b[0m GAN_loss/kl_div: 0.052901\n",
      "\u001b[32m[1118 15:56:34 @monitor.py:467]\u001b[0m QueueInput/queue_size: 50\n",
      "\u001b[32m[1118 15:56:34 @base.py:275]\u001b[0m Start Epoch 523 ...\n"
     ]
    },
    {
     "name": "stderr",
     "output_type": "stream",
     "text": [
      "\n",
      "100%|#####################################################################################|17/17[00:00<00:00,37.13it/s]"
     ]
    },
    {
     "name": "stdout",
     "output_type": "stream",
     "text": [
      "\u001b[32m[1118 15:56:35 @base.py:285]\u001b[0m Epoch 523 (global_step 13336) finished, time:0.458 second.\n",
      "\u001b[32m[1118 15:56:35 @saver.py:79]\u001b[0m Model saved to ../output/Chicago/TEST/model\\model-13336.\n",
      "\u001b[32m[1118 15:56:35 @monitor.py:467]\u001b[0m GAN_loss/d_loss: -0.035729\n",
      "\u001b[32m[1118 15:56:35 @monitor.py:467]\u001b[0m GAN_loss/g_loss: -0.11404\n",
      "\u001b[32m[1118 15:56:35 @monitor.py:467]\u001b[0m GAN_loss/kl_div: 0.049087\n",
      "\u001b[32m[1118 15:56:35 @monitor.py:467]\u001b[0m QueueInput/queue_size: 50\n",
      "\u001b[32m[1118 15:56:35 @base.py:275]\u001b[0m Start Epoch 524 ...\n"
     ]
    },
    {
     "name": "stderr",
     "output_type": "stream",
     "text": [
      "\n",
      "100%|#####################################################################################|17/17[00:00<00:00,38.42it/s]"
     ]
    },
    {
     "name": "stdout",
     "output_type": "stream",
     "text": [
      "\u001b[32m[1118 15:56:36 @base.py:285]\u001b[0m Epoch 524 (global_step 13361) finished, time:0.443 second.\n",
      "\u001b[32m[1118 15:56:36 @saver.py:79]\u001b[0m Model saved to ../output/Chicago/TEST/model\\model-13361.\n",
      "\u001b[32m[1118 15:56:36 @monitor.py:467]\u001b[0m GAN_loss/d_loss: -0.03578\n",
      "\u001b[32m[1118 15:56:36 @monitor.py:467]\u001b[0m GAN_loss/g_loss: -0.1144\n",
      "\u001b[32m[1118 15:56:36 @monitor.py:467]\u001b[0m GAN_loss/kl_div: 0.047828\n",
      "\u001b[32m[1118 15:56:36 @monitor.py:467]\u001b[0m QueueInput/queue_size: 50\n",
      "\u001b[32m[1118 15:56:36 @base.py:275]\u001b[0m Start Epoch 525 ...\n"
     ]
    },
    {
     "name": "stderr",
     "output_type": "stream",
     "text": [
      "\n",
      "100%|#####################################################################################|17/17[00:00<00:00,36.74it/s]"
     ]
    },
    {
     "name": "stdout",
     "output_type": "stream",
     "text": [
      "\u001b[32m[1118 15:56:36 @base.py:285]\u001b[0m Epoch 525 (global_step 13387) finished, time:0.463 second.\n",
      "\u001b[32m[1118 15:56:36 @saver.py:79]\u001b[0m Model saved to ../output/Chicago/TEST/model\\model-13387.\n",
      "\u001b[32m[1118 15:56:36 @monitor.py:467]\u001b[0m GAN_loss/d_loss: -0.034095\n",
      "\u001b[32m[1118 15:56:36 @monitor.py:467]\u001b[0m GAN_loss/g_loss: -0.11455\n",
      "\u001b[32m[1118 15:56:36 @monitor.py:467]\u001b[0m GAN_loss/kl_div: 0.049262\n",
      "\u001b[32m[1118 15:56:36 @monitor.py:467]\u001b[0m QueueInput/queue_size: 50\n",
      "\u001b[32m[1118 15:56:36 @base.py:275]\u001b[0m Start Epoch 526 ...\n"
     ]
    },
    {
     "name": "stderr",
     "output_type": "stream",
     "text": [
      "\n",
      "100%|#####################################################################################|17/17[00:00<00:00,38.51it/s]"
     ]
    },
    {
     "name": "stdout",
     "output_type": "stream",
     "text": [
      "\u001b[32m[1118 15:56:37 @base.py:285]\u001b[0m Epoch 526 (global_step 13412) finished, time:0.442 second.\n",
      "\u001b[32m[1118 15:56:37 @saver.py:79]\u001b[0m Model saved to ../output/Chicago/TEST/model\\model-13412.\n",
      "\u001b[32m[1118 15:56:37 @monitor.py:467]\u001b[0m GAN_loss/d_loss: -0.035084\n",
      "\u001b[32m[1118 15:56:37 @monitor.py:467]\u001b[0m GAN_loss/g_loss: -0.11379\n",
      "\u001b[32m[1118 15:56:37 @monitor.py:467]\u001b[0m GAN_loss/kl_div: 0.046786\n",
      "\u001b[32m[1118 15:56:37 @monitor.py:467]\u001b[0m QueueInput/queue_size: 50\n",
      "\u001b[32m[1118 15:56:37 @base.py:275]\u001b[0m Start Epoch 527 ...\n"
     ]
    },
    {
     "name": "stderr",
     "output_type": "stream",
     "text": [
      "\n",
      "100%|#####################################################################################|17/17[00:00<00:00,37.17it/s]"
     ]
    },
    {
     "name": "stdout",
     "output_type": "stream",
     "text": [
      "\u001b[32m[1118 15:56:37 @base.py:285]\u001b[0m Epoch 527 (global_step 13438) finished, time:0.458 second.\n",
      "\u001b[32m[1118 15:56:37 @saver.py:79]\u001b[0m Model saved to ../output/Chicago/TEST/model\\model-13438.\n",
      "\u001b[32m[1118 15:56:37 @monitor.py:467]\u001b[0m GAN_loss/d_loss: -0.034262\n",
      "\u001b[32m[1118 15:56:37 @monitor.py:467]\u001b[0m GAN_loss/g_loss: -0.11415\n",
      "\u001b[32m[1118 15:56:37 @monitor.py:467]\u001b[0m GAN_loss/kl_div: 0.049073\n",
      "\u001b[32m[1118 15:56:37 @monitor.py:467]\u001b[0m QueueInput/queue_size: 50\n",
      "\u001b[32m[1118 15:56:37 @base.py:275]\u001b[0m Start Epoch 528 ...\n"
     ]
    },
    {
     "name": "stderr",
     "output_type": "stream",
     "text": [
      "\n",
      "100%|#####################################################################################|17/17[00:00<00:00,38.30it/s]"
     ]
    },
    {
     "name": "stdout",
     "output_type": "stream",
     "text": [
      "\u001b[32m[1118 15:56:38 @base.py:285]\u001b[0m Epoch 528 (global_step 13463) finished, time:0.444 second.\n",
      "\u001b[32m[1118 15:56:38 @saver.py:79]\u001b[0m Model saved to ../output/Chicago/TEST/model\\model-13463.\n",
      "\u001b[32m[1118 15:56:38 @monitor.py:467]\u001b[0m GAN_loss/d_loss: -0.034906\n",
      "\u001b[32m[1118 15:56:38 @monitor.py:467]\u001b[0m GAN_loss/g_loss: -0.11372\n",
      "\u001b[32m[1118 15:56:38 @monitor.py:467]\u001b[0m GAN_loss/kl_div: 0.04926\n",
      "\u001b[32m[1118 15:56:38 @monitor.py:467]\u001b[0m QueueInput/queue_size: 50\n",
      "\u001b[32m[1118 15:56:38 @base.py:275]\u001b[0m Start Epoch 529 ...\n"
     ]
    },
    {
     "name": "stderr",
     "output_type": "stream",
     "text": [
      "\n",
      "100%|#####################################################################################|17/17[00:00<00:00,36.97it/s]"
     ]
    },
    {
     "name": "stdout",
     "output_type": "stream",
     "text": [
      "\u001b[32m[1118 15:56:39 @base.py:285]\u001b[0m Epoch 529 (global_step 13489) finished, time:0.46 second.\n",
      "\u001b[32m[1118 15:56:39 @saver.py:79]\u001b[0m Model saved to ../output/Chicago/TEST/model\\model-13489.\n",
      "\u001b[32m[1118 15:56:39 @monitor.py:467]\u001b[0m GAN_loss/d_loss: -0.034527\n",
      "\u001b[32m[1118 15:56:39 @monitor.py:467]\u001b[0m GAN_loss/g_loss: -0.11343\n",
      "\u001b[32m[1118 15:56:39 @monitor.py:467]\u001b[0m GAN_loss/kl_div: 0.051299\n",
      "\u001b[32m[1118 15:56:39 @monitor.py:467]\u001b[0m QueueInput/queue_size: 50\n",
      "\u001b[32m[1118 15:56:39 @base.py:275]\u001b[0m Start Epoch 530 ...\n"
     ]
    },
    {
     "name": "stderr",
     "output_type": "stream",
     "text": [
      "\n",
      "100%|#####################################################################################|17/17[00:00<00:00,38.34it/s]"
     ]
    },
    {
     "name": "stdout",
     "output_type": "stream",
     "text": [
      "\u001b[32m[1118 15:56:39 @base.py:285]\u001b[0m Epoch 530 (global_step 13514) finished, time:0.444 second.\n",
      "\u001b[32m[1118 15:56:39 @saver.py:79]\u001b[0m Model saved to ../output/Chicago/TEST/model\\model-13514.\n",
      "\u001b[32m[1118 15:56:39 @monitor.py:467]\u001b[0m GAN_loss/d_loss: -0.035352\n",
      "\u001b[32m[1118 15:56:39 @monitor.py:467]\u001b[0m GAN_loss/g_loss: -0.11157\n",
      "\u001b[32m[1118 15:56:39 @monitor.py:467]\u001b[0m GAN_loss/kl_div: 0.04804\n",
      "\u001b[32m[1118 15:56:39 @monitor.py:467]\u001b[0m QueueInput/queue_size: 50\n",
      "\u001b[32m[1118 15:56:39 @base.py:275]\u001b[0m Start Epoch 531 ...\n"
     ]
    },
    {
     "name": "stderr",
     "output_type": "stream",
     "text": [
      "\n",
      "100%|#####################################################################################|17/17[00:00<00:00,37.01it/s]"
     ]
    },
    {
     "name": "stdout",
     "output_type": "stream",
     "text": [
      "\u001b[32m[1118 15:56:40 @base.py:285]\u001b[0m Epoch 531 (global_step 13540) finished, time:0.46 second.\n",
      "\u001b[32m[1118 15:56:40 @saver.py:79]\u001b[0m Model saved to ../output/Chicago/TEST/model\\model-13540.\n",
      "\u001b[32m[1118 15:56:40 @monitor.py:467]\u001b[0m GAN_loss/d_loss: -0.033893\n",
      "\u001b[32m[1118 15:56:40 @monitor.py:467]\u001b[0m GAN_loss/g_loss: -0.11397\n",
      "\u001b[32m[1118 15:56:40 @monitor.py:467]\u001b[0m GAN_loss/kl_div: 0.048002\n",
      "\u001b[32m[1118 15:56:40 @monitor.py:467]\u001b[0m QueueInput/queue_size: 50\n",
      "\u001b[32m[1118 15:56:40 @base.py:275]\u001b[0m Start Epoch 532 ...\n"
     ]
    },
    {
     "name": "stderr",
     "output_type": "stream",
     "text": [
      "\n",
      "100%|#####################################################################################|17/17[00:00<00:00,38.35it/s]"
     ]
    },
    {
     "name": "stdout",
     "output_type": "stream",
     "text": [
      "\u001b[32m[1118 15:56:40 @base.py:285]\u001b[0m Epoch 532 (global_step 13565) finished, time:0.444 second.\n",
      "\u001b[32m[1118 15:56:40 @saver.py:79]\u001b[0m Model saved to ../output/Chicago/TEST/model\\model-13565.\n",
      "\u001b[32m[1118 15:56:41 @monitor.py:467]\u001b[0m GAN_loss/d_loss: -0.033264\n",
      "\u001b[32m[1118 15:56:41 @monitor.py:467]\u001b[0m GAN_loss/g_loss: -0.11514\n",
      "\u001b[32m[1118 15:56:41 @monitor.py:467]\u001b[0m GAN_loss/kl_div: 0.047285\n",
      "\u001b[32m[1118 15:56:41 @monitor.py:467]\u001b[0m QueueInput/queue_size: 50\n",
      "\u001b[32m[1118 15:56:41 @base.py:275]\u001b[0m Start Epoch 533 ...\n"
     ]
    },
    {
     "name": "stderr",
     "output_type": "stream",
     "text": [
      "\n",
      "100%|#####################################################################################|17/17[00:00<00:00,36.93it/s]"
     ]
    },
    {
     "name": "stdout",
     "output_type": "stream",
     "text": [
      "\u001b[32m[1118 15:56:41 @base.py:285]\u001b[0m Epoch 533 (global_step 13591) finished, time:0.461 second.\n",
      "\u001b[32m[1118 15:56:41 @saver.py:79]\u001b[0m Model saved to ../output/Chicago/TEST/model\\model-13591.\n",
      "\u001b[32m[1118 15:56:41 @monitor.py:467]\u001b[0m GAN_loss/d_loss: -0.034386\n",
      "\u001b[32m[1118 15:56:41 @monitor.py:467]\u001b[0m GAN_loss/g_loss: -0.11453\n",
      "\u001b[32m[1118 15:56:41 @monitor.py:467]\u001b[0m GAN_loss/kl_div: 0.049604\n",
      "\u001b[32m[1118 15:56:41 @monitor.py:467]\u001b[0m QueueInput/queue_size: 50\n",
      "\u001b[32m[1118 15:56:41 @base.py:275]\u001b[0m Start Epoch 534 ...\n"
     ]
    },
    {
     "name": "stderr",
     "output_type": "stream",
     "text": [
      "\n",
      "100%|#####################################################################################|17/17[00:00<00:00,38.30it/s]"
     ]
    },
    {
     "name": "stdout",
     "output_type": "stream",
     "text": [
      "\u001b[32m[1118 15:56:42 @base.py:285]\u001b[0m Epoch 534 (global_step 13616) finished, time:0.445 second.\n",
      "\u001b[32m[1118 15:56:42 @saver.py:79]\u001b[0m Model saved to ../output/Chicago/TEST/model\\model-13616.\n",
      "\u001b[32m[1118 15:56:42 @monitor.py:467]\u001b[0m GAN_loss/d_loss: -0.035125\n",
      "\u001b[32m[1118 15:56:42 @monitor.py:467]\u001b[0m GAN_loss/g_loss: -0.11353\n",
      "\u001b[32m[1118 15:56:42 @monitor.py:467]\u001b[0m GAN_loss/kl_div: 0.04801\n",
      "\u001b[32m[1118 15:56:42 @monitor.py:467]\u001b[0m QueueInput/queue_size: 50\n",
      "\u001b[32m[1118 15:56:42 @base.py:275]\u001b[0m Start Epoch 535 ...\n"
     ]
    },
    {
     "name": "stderr",
     "output_type": "stream",
     "text": [
      "\n",
      "100%|#####################################################################################|17/17[00:00<00:00,36.97it/s]"
     ]
    },
    {
     "name": "stdout",
     "output_type": "stream",
     "text": [
      "\u001b[32m[1118 15:56:42 @base.py:285]\u001b[0m Epoch 535 (global_step 13642) finished, time:0.46 second.\n",
      "\u001b[32m[1118 15:56:42 @saver.py:79]\u001b[0m Model saved to ../output/Chicago/TEST/model\\model-13642.\n",
      "\u001b[32m[1118 15:56:42 @monitor.py:467]\u001b[0m GAN_loss/d_loss: -0.033777\n",
      "\u001b[32m[1118 15:56:42 @monitor.py:467]\u001b[0m GAN_loss/g_loss: -0.11414\n",
      "\u001b[32m[1118 15:56:42 @monitor.py:467]\u001b[0m GAN_loss/kl_div: 0.048771\n",
      "\u001b[32m[1118 15:56:42 @monitor.py:467]\u001b[0m QueueInput/queue_size: 50\n",
      "\u001b[32m[1118 15:56:42 @base.py:275]\u001b[0m Start Epoch 536 ...\n"
     ]
    },
    {
     "name": "stderr",
     "output_type": "stream",
     "text": [
      "\n",
      "100%|#####################################################################################|17/17[00:00<00:00,38.25it/s]"
     ]
    },
    {
     "name": "stdout",
     "output_type": "stream",
     "text": [
      "\u001b[32m[1118 15:56:43 @base.py:285]\u001b[0m Epoch 536 (global_step 13667) finished, time:0.445 second.\n",
      "\u001b[32m[1118 15:56:43 @saver.py:79]\u001b[0m Model saved to ../output/Chicago/TEST/model\\model-13667.\n",
      "\u001b[32m[1118 15:56:43 @monitor.py:467]\u001b[0m GAN_loss/d_loss: -0.03457\n",
      "\u001b[32m[1118 15:56:43 @monitor.py:467]\u001b[0m GAN_loss/g_loss: -0.11546\n",
      "\u001b[32m[1118 15:56:43 @monitor.py:467]\u001b[0m GAN_loss/kl_div: 0.049215\n",
      "\u001b[32m[1118 15:56:43 @monitor.py:467]\u001b[0m QueueInput/queue_size: 50\n",
      "\u001b[32m[1118 15:56:43 @base.py:275]\u001b[0m Start Epoch 537 ...\n"
     ]
    },
    {
     "name": "stderr",
     "output_type": "stream",
     "text": [
      "\n",
      "100%|#####################################################################################|17/17[00:00<00:00,37.09it/s]"
     ]
    },
    {
     "name": "stdout",
     "output_type": "stream",
     "text": [
      "\u001b[32m[1118 15:56:43 @base.py:285]\u001b[0m Epoch 537 (global_step 13693) finished, time:0.459 second.\n",
      "\u001b[32m[1118 15:56:44 @saver.py:79]\u001b[0m Model saved to ../output/Chicago/TEST/model\\model-13693.\n",
      "\u001b[32m[1118 15:56:44 @monitor.py:467]\u001b[0m GAN_loss/d_loss: -0.034747\n",
      "\u001b[32m[1118 15:56:44 @monitor.py:467]\u001b[0m GAN_loss/g_loss: -0.11522\n",
      "\u001b[32m[1118 15:56:44 @monitor.py:467]\u001b[0m GAN_loss/kl_div: 0.049333\n",
      "\u001b[32m[1118 15:56:44 @monitor.py:467]\u001b[0m QueueInput/queue_size: 50\n",
      "\u001b[32m[1118 15:56:44 @base.py:275]\u001b[0m Start Epoch 538 ...\n"
     ]
    },
    {
     "name": "stderr",
     "output_type": "stream",
     "text": [
      "\n",
      "100%|#####################################################################################|17/17[00:00<00:00,38.42it/s]"
     ]
    },
    {
     "name": "stdout",
     "output_type": "stream",
     "text": [
      "\u001b[32m[1118 15:56:44 @base.py:285]\u001b[0m Epoch 538 (global_step 13718) finished, time:0.443 second.\n",
      "\u001b[32m[1118 15:56:44 @saver.py:79]\u001b[0m Model saved to ../output/Chicago/TEST/model\\model-13718.\n",
      "\u001b[32m[1118 15:56:44 @monitor.py:467]\u001b[0m GAN_loss/d_loss: -0.034094\n",
      "\u001b[32m[1118 15:56:44 @monitor.py:467]\u001b[0m GAN_loss/g_loss: -0.11507\n",
      "\u001b[32m[1118 15:56:44 @monitor.py:467]\u001b[0m GAN_loss/kl_div: 0.048177\n",
      "\u001b[32m[1118 15:56:44 @monitor.py:467]\u001b[0m QueueInput/queue_size: 50\n",
      "\u001b[32m[1118 15:56:44 @base.py:275]\u001b[0m Start Epoch 539 ...\n"
     ]
    },
    {
     "name": "stderr",
     "output_type": "stream",
     "text": [
      "\n",
      "100%|#####################################################################################|17/17[00:00<00:00,36.81it/s]"
     ]
    },
    {
     "name": "stdout",
     "output_type": "stream",
     "text": [
      "\u001b[32m[1118 15:56:45 @base.py:285]\u001b[0m Epoch 539 (global_step 13744) finished, time:0.462 second.\n",
      "\u001b[32m[1118 15:56:45 @saver.py:79]\u001b[0m Model saved to ../output/Chicago/TEST/model\\model-13744.\n",
      "\u001b[32m[1118 15:56:45 @monitor.py:467]\u001b[0m GAN_loss/d_loss: -0.035408\n",
      "\u001b[32m[1118 15:56:45 @monitor.py:467]\u001b[0m GAN_loss/g_loss: -0.11472\n",
      "\u001b[32m[1118 15:56:45 @monitor.py:467]\u001b[0m GAN_loss/kl_div: 0.049026\n",
      "\u001b[32m[1118 15:56:45 @monitor.py:467]\u001b[0m QueueInput/queue_size: 50\n",
      "\u001b[32m[1118 15:56:45 @base.py:275]\u001b[0m Start Epoch 540 ...\n"
     ]
    },
    {
     "name": "stderr",
     "output_type": "stream",
     "text": [
      "\n",
      "100%|#####################################################################################|17/17[00:00<00:00,38.17it/s]"
     ]
    },
    {
     "name": "stdout",
     "output_type": "stream",
     "text": [
      "\u001b[32m[1118 15:56:45 @base.py:285]\u001b[0m Epoch 540 (global_step 13769) finished, time:0.446 second.\n",
      "\u001b[32m[1118 15:56:45 @saver.py:79]\u001b[0m Model saved to ../output/Chicago/TEST/model\\model-13769.\n",
      "\u001b[32m[1118 15:56:45 @monitor.py:467]\u001b[0m GAN_loss/d_loss: -0.033849\n",
      "\u001b[32m[1118 15:56:45 @monitor.py:467]\u001b[0m GAN_loss/g_loss: -0.11478\n",
      "\u001b[32m[1118 15:56:45 @monitor.py:467]\u001b[0m GAN_loss/kl_div: 0.046837\n",
      "\u001b[32m[1118 15:56:45 @monitor.py:467]\u001b[0m QueueInput/queue_size: 50\n",
      "\u001b[32m[1118 15:56:45 @base.py:275]\u001b[0m Start Epoch 541 ...\n"
     ]
    },
    {
     "name": "stderr",
     "output_type": "stream",
     "text": [
      "\n",
      "100%|#####################################################################################|17/17[00:00<00:00,37.13it/s]"
     ]
    },
    {
     "name": "stdout",
     "output_type": "stream",
     "text": [
      "\u001b[32m[1118 15:56:46 @base.py:285]\u001b[0m Epoch 541 (global_step 13795) finished, time:0.458 second.\n",
      "\u001b[32m[1118 15:56:46 @saver.py:79]\u001b[0m Model saved to ../output/Chicago/TEST/model\\model-13795.\n",
      "\u001b[32m[1118 15:56:46 @monitor.py:467]\u001b[0m GAN_loss/d_loss: -0.03356\n",
      "\u001b[32m[1118 15:56:46 @monitor.py:467]\u001b[0m GAN_loss/g_loss: -0.11509\n",
      "\u001b[32m[1118 15:56:46 @monitor.py:467]\u001b[0m GAN_loss/kl_div: 0.048416\n",
      "\u001b[32m[1118 15:56:46 @monitor.py:467]\u001b[0m QueueInput/queue_size: 50\n",
      "\u001b[32m[1118 15:56:46 @base.py:275]\u001b[0m Start Epoch 542 ...\n"
     ]
    },
    {
     "name": "stderr",
     "output_type": "stream",
     "text": [
      "\n",
      "100%|#####################################################################################|17/17[00:00<00:00,38.42it/s]"
     ]
    },
    {
     "name": "stdout",
     "output_type": "stream",
     "text": [
      "\u001b[32m[1118 15:56:46 @base.py:285]\u001b[0m Epoch 542 (global_step 13820) finished, time:0.443 second.\n",
      "\u001b[32m[1118 15:56:47 @saver.py:79]\u001b[0m Model saved to ../output/Chicago/TEST/model\\model-13820.\n",
      "\u001b[32m[1118 15:56:47 @monitor.py:467]\u001b[0m GAN_loss/d_loss: -0.033068\n",
      "\u001b[32m[1118 15:56:47 @monitor.py:467]\u001b[0m GAN_loss/g_loss: -0.11606\n",
      "\u001b[32m[1118 15:56:47 @monitor.py:467]\u001b[0m GAN_loss/kl_div: 0.0491\n",
      "\u001b[32m[1118 15:56:47 @monitor.py:467]\u001b[0m QueueInput/queue_size: 50\n",
      "\u001b[32m[1118 15:56:47 @base.py:275]\u001b[0m Start Epoch 543 ...\n"
     ]
    },
    {
     "name": "stderr",
     "output_type": "stream",
     "text": [
      "\n",
      "100%|#####################################################################################|17/17[00:00<00:00,37.01it/s]"
     ]
    },
    {
     "name": "stdout",
     "output_type": "stream",
     "text": [
      "\u001b[32m[1118 15:56:47 @base.py:285]\u001b[0m Epoch 543 (global_step 13846) finished, time:0.46 second.\n",
      "\u001b[32m[1118 15:56:47 @saver.py:79]\u001b[0m Model saved to ../output/Chicago/TEST/model\\model-13846.\n",
      "\u001b[32m[1118 15:56:47 @monitor.py:467]\u001b[0m GAN_loss/d_loss: -0.033508\n",
      "\u001b[32m[1118 15:56:47 @monitor.py:467]\u001b[0m GAN_loss/g_loss: -0.11615\n",
      "\u001b[32m[1118 15:56:47 @monitor.py:467]\u001b[0m GAN_loss/kl_div: 0.048553\n",
      "\u001b[32m[1118 15:56:47 @monitor.py:467]\u001b[0m QueueInput/queue_size: 50\n",
      "\u001b[32m[1118 15:56:47 @base.py:275]\u001b[0m Start Epoch 544 ...\n"
     ]
    },
    {
     "name": "stderr",
     "output_type": "stream",
     "text": [
      "\n",
      "100%|#####################################################################################|17/17[00:00<00:00,37.17it/s]"
     ]
    },
    {
     "name": "stdout",
     "output_type": "stream",
     "text": [
      "\u001b[32m[1118 15:56:48 @base.py:285]\u001b[0m Epoch 544 (global_step 13871) finished, time:0.458 second.\n",
      "\u001b[32m[1118 15:56:48 @saver.py:79]\u001b[0m Model saved to ../output/Chicago/TEST/model\\model-13871.\n",
      "\u001b[32m[1118 15:56:48 @monitor.py:467]\u001b[0m GAN_loss/d_loss: -0.032495\n",
      "\u001b[32m[1118 15:56:48 @monitor.py:467]\u001b[0m GAN_loss/g_loss: -0.11651\n",
      "\u001b[32m[1118 15:56:48 @monitor.py:467]\u001b[0m GAN_loss/kl_div: 0.048006\n",
      "\u001b[32m[1118 15:56:48 @monitor.py:467]\u001b[0m QueueInput/queue_size: 50\n",
      "\u001b[32m[1118 15:56:48 @base.py:275]\u001b[0m Start Epoch 545 ...\n"
     ]
    },
    {
     "name": "stderr",
     "output_type": "stream",
     "text": [
      "\n",
      "100%|#####################################################################################|17/17[00:00<00:00,36.80it/s]"
     ]
    },
    {
     "name": "stdout",
     "output_type": "stream",
     "text": [
      "\u001b[32m[1118 15:56:48 @base.py:285]\u001b[0m Epoch 545 (global_step 13897) finished, time:0.462 second.\n",
      "\u001b[32m[1118 15:56:48 @saver.py:79]\u001b[0m Model saved to ../output/Chicago/TEST/model\\model-13897.\n",
      "\u001b[32m[1118 15:56:48 @monitor.py:467]\u001b[0m GAN_loss/d_loss: -0.033577\n",
      "\u001b[32m[1118 15:56:48 @monitor.py:467]\u001b[0m GAN_loss/g_loss: -0.1169\n",
      "\u001b[32m[1118 15:56:48 @monitor.py:467]\u001b[0m GAN_loss/kl_div: 0.049455\n",
      "\u001b[32m[1118 15:56:48 @monitor.py:467]\u001b[0m QueueInput/queue_size: 50\n",
      "\u001b[32m[1118 15:56:48 @base.py:275]\u001b[0m Start Epoch 546 ...\n"
     ]
    },
    {
     "name": "stderr",
     "output_type": "stream",
     "text": [
      "\n",
      "100%|#####################################################################################|17/17[00:00<00:00,38.38it/s]"
     ]
    },
    {
     "name": "stdout",
     "output_type": "stream",
     "text": [
      "\u001b[32m[1118 15:56:49 @base.py:285]\u001b[0m Epoch 546 (global_step 13922) finished, time:0.443 second.\n",
      "\u001b[32m[1118 15:56:49 @saver.py:79]\u001b[0m Model saved to ../output/Chicago/TEST/model\\model-13922.\n",
      "\u001b[32m[1118 15:56:49 @monitor.py:467]\u001b[0m GAN_loss/d_loss: -0.032278\n",
      "\u001b[32m[1118 15:56:49 @monitor.py:467]\u001b[0m GAN_loss/g_loss: -0.11781\n",
      "\u001b[32m[1118 15:56:49 @monitor.py:467]\u001b[0m GAN_loss/kl_div: 0.047721\n",
      "\u001b[32m[1118 15:56:49 @monitor.py:467]\u001b[0m QueueInput/queue_size: 50\n",
      "\u001b[32m[1118 15:56:49 @base.py:275]\u001b[0m Start Epoch 547 ...\n"
     ]
    },
    {
     "name": "stderr",
     "output_type": "stream",
     "text": [
      "\n",
      "100%|#####################################################################################|17/17[00:00<00:00,37.05it/s]"
     ]
    },
    {
     "name": "stdout",
     "output_type": "stream",
     "text": [
      "\u001b[32m[1118 15:56:49 @base.py:285]\u001b[0m Epoch 547 (global_step 13948) finished, time:0.459 second.\n",
      "\u001b[32m[1118 15:56:50 @saver.py:79]\u001b[0m Model saved to ../output/Chicago/TEST/model\\model-13948.\n",
      "\u001b[32m[1118 15:56:50 @monitor.py:467]\u001b[0m GAN_loss/d_loss: -0.033311\n",
      "\u001b[32m[1118 15:56:50 @monitor.py:467]\u001b[0m GAN_loss/g_loss: -0.11726\n",
      "\u001b[32m[1118 15:56:50 @monitor.py:467]\u001b[0m GAN_loss/kl_div: 0.047671\n",
      "\u001b[32m[1118 15:56:50 @monitor.py:467]\u001b[0m QueueInput/queue_size: 50\n",
      "\u001b[32m[1118 15:56:50 @base.py:275]\u001b[0m Start Epoch 548 ...\n"
     ]
    },
    {
     "name": "stderr",
     "output_type": "stream",
     "text": [
      "\n",
      "100%|#####################################################################################|17/17[00:00<00:00,38.35it/s]"
     ]
    },
    {
     "name": "stdout",
     "output_type": "stream",
     "text": [
      "\u001b[32m[1118 15:56:50 @base.py:285]\u001b[0m Epoch 548 (global_step 13973) finished, time:0.444 second.\n",
      "\u001b[32m[1118 15:56:50 @saver.py:79]\u001b[0m Model saved to ../output/Chicago/TEST/model\\model-13973.\n",
      "\u001b[32m[1118 15:56:50 @monitor.py:467]\u001b[0m GAN_loss/d_loss: -0.032041\n",
      "\u001b[32m[1118 15:56:50 @monitor.py:467]\u001b[0m GAN_loss/g_loss: -0.11737\n",
      "\u001b[32m[1118 15:56:50 @monitor.py:467]\u001b[0m GAN_loss/kl_div: 0.045923\n",
      "\u001b[32m[1118 15:56:50 @monitor.py:467]\u001b[0m QueueInput/queue_size: 50\n",
      "\u001b[32m[1118 15:56:50 @base.py:275]\u001b[0m Start Epoch 549 ...\n"
     ]
    },
    {
     "name": "stderr",
     "output_type": "stream",
     "text": [
      "\n",
      "100%|#####################################################################################|17/17[00:00<00:00,36.93it/s]"
     ]
    },
    {
     "name": "stdout",
     "output_type": "stream",
     "text": [
      "\u001b[32m[1118 15:56:51 @base.py:285]\u001b[0m Epoch 549 (global_step 13999) finished, time:0.461 second.\n",
      "\u001b[32m[1118 15:56:51 @saver.py:79]\u001b[0m Model saved to ../output/Chicago/TEST/model\\model-13999.\n",
      "\u001b[32m[1118 15:56:51 @monitor.py:467]\u001b[0m GAN_loss/d_loss: -0.032274\n",
      "\u001b[32m[1118 15:56:51 @monitor.py:467]\u001b[0m GAN_loss/g_loss: -0.117\n",
      "\u001b[32m[1118 15:56:51 @monitor.py:467]\u001b[0m GAN_loss/kl_div: 0.043516\n",
      "\u001b[32m[1118 15:56:51 @monitor.py:467]\u001b[0m QueueInput/queue_size: 50\n",
      "\u001b[32m[1118 15:56:51 @base.py:275]\u001b[0m Start Epoch 550 ...\n"
     ]
    },
    {
     "name": "stderr",
     "output_type": "stream",
     "text": [
      "\n",
      "100%|#####################################################################################|17/17[00:00<00:00,38.17it/s]"
     ]
    },
    {
     "name": "stdout",
     "output_type": "stream",
     "text": [
      "\u001b[32m[1118 15:56:51 @base.py:285]\u001b[0m Epoch 550 (global_step 14024) finished, time:0.445 second.\n",
      "\u001b[32m[1118 15:56:51 @saver.py:79]\u001b[0m Model saved to ../output/Chicago/TEST/model\\model-14024.\n",
      "\u001b[32m[1118 15:56:51 @monitor.py:467]\u001b[0m GAN_loss/d_loss: -0.031949\n",
      "\u001b[32m[1118 15:56:51 @monitor.py:467]\u001b[0m GAN_loss/g_loss: -0.11712\n",
      "\u001b[32m[1118 15:56:51 @monitor.py:467]\u001b[0m GAN_loss/kl_div: 0.047755\n",
      "\u001b[32m[1118 15:56:51 @monitor.py:467]\u001b[0m QueueInput/queue_size: 50\n",
      "\u001b[32m[1118 15:56:51 @base.py:275]\u001b[0m Start Epoch 551 ...\n"
     ]
    },
    {
     "name": "stderr",
     "output_type": "stream",
     "text": [
      "\n",
      "100%|#####################################################################################|17/17[00:00<00:00,36.97it/s]"
     ]
    },
    {
     "name": "stdout",
     "output_type": "stream",
     "text": [
      "\u001b[32m[1118 15:56:52 @base.py:285]\u001b[0m Epoch 551 (global_step 14050) finished, time:0.46 second.\n",
      "\u001b[32m[1118 15:56:52 @saver.py:79]\u001b[0m Model saved to ../output/Chicago/TEST/model\\model-14050.\n",
      "\u001b[32m[1118 15:56:52 @monitor.py:467]\u001b[0m GAN_loss/d_loss: -0.032776\n",
      "\u001b[32m[1118 15:56:52 @monitor.py:467]\u001b[0m GAN_loss/g_loss: -0.11606\n",
      "\u001b[32m[1118 15:56:52 @monitor.py:467]\u001b[0m GAN_loss/kl_div: 0.050869\n",
      "\u001b[32m[1118 15:56:52 @monitor.py:467]\u001b[0m QueueInput/queue_size: 50\n",
      "\u001b[32m[1118 15:56:52 @base.py:275]\u001b[0m Start Epoch 552 ...\n"
     ]
    },
    {
     "name": "stderr",
     "output_type": "stream",
     "text": [
      "\n",
      "100%|#####################################################################################|17/17[00:00<00:00,38.42it/s]"
     ]
    },
    {
     "name": "stdout",
     "output_type": "stream",
     "text": [
      "\u001b[32m[1118 15:56:53 @base.py:285]\u001b[0m Epoch 552 (global_step 14075) finished, time:0.443 second.\n",
      "\u001b[32m[1118 15:56:53 @saver.py:79]\u001b[0m Model saved to ../output/Chicago/TEST/model\\model-14075.\n",
      "\u001b[32m[1118 15:56:53 @monitor.py:467]\u001b[0m GAN_loss/d_loss: -0.031692\n",
      "\u001b[32m[1118 15:56:53 @monitor.py:467]\u001b[0m GAN_loss/g_loss: -0.11715\n",
      "\u001b[32m[1118 15:56:53 @monitor.py:467]\u001b[0m GAN_loss/kl_div: 0.050737\n",
      "\u001b[32m[1118 15:56:53 @monitor.py:467]\u001b[0m QueueInput/queue_size: 50\n",
      "\u001b[32m[1118 15:56:53 @base.py:275]\u001b[0m Start Epoch 553 ...\n"
     ]
    },
    {
     "name": "stderr",
     "output_type": "stream",
     "text": [
      "\n",
      "100%|#####################################################################################|17/17[00:00<00:00,37.17it/s]"
     ]
    },
    {
     "name": "stdout",
     "output_type": "stream",
     "text": [
      "\u001b[32m[1118 15:56:53 @base.py:285]\u001b[0m Epoch 553 (global_step 14101) finished, time:0.458 second.\n",
      "\u001b[32m[1118 15:56:53 @saver.py:79]\u001b[0m Model saved to ../output/Chicago/TEST/model\\model-14101.\n",
      "\u001b[32m[1118 15:56:53 @monitor.py:467]\u001b[0m GAN_loss/d_loss: -0.031663\n",
      "\u001b[32m[1118 15:56:53 @monitor.py:467]\u001b[0m GAN_loss/g_loss: -0.11734\n",
      "\u001b[32m[1118 15:56:53 @monitor.py:467]\u001b[0m GAN_loss/kl_div: 0.046864\n",
      "\u001b[32m[1118 15:56:53 @monitor.py:467]\u001b[0m QueueInput/queue_size: 50\n",
      "\u001b[32m[1118 15:56:53 @base.py:275]\u001b[0m Start Epoch 554 ...\n"
     ]
    },
    {
     "name": "stderr",
     "output_type": "stream",
     "text": [
      "\n",
      "100%|#####################################################################################|17/17[00:00<00:00,38.30it/s]"
     ]
    },
    {
     "name": "stdout",
     "output_type": "stream",
     "text": [
      "\u001b[32m[1118 15:56:54 @base.py:285]\u001b[0m Epoch 554 (global_step 14126) finished, time:0.444 second.\n",
      "\u001b[32m[1118 15:56:54 @saver.py:79]\u001b[0m Model saved to ../output/Chicago/TEST/model\\model-14126.\n",
      "\u001b[32m[1118 15:56:54 @monitor.py:467]\u001b[0m GAN_loss/d_loss: -0.032775\n",
      "\u001b[32m[1118 15:56:54 @monitor.py:467]\u001b[0m GAN_loss/g_loss: -0.11648\n",
      "\u001b[32m[1118 15:56:54 @monitor.py:467]\u001b[0m GAN_loss/kl_div: 0.050564\n",
      "\u001b[32m[1118 15:56:54 @monitor.py:467]\u001b[0m QueueInput/queue_size: 50\n",
      "\u001b[32m[1118 15:56:54 @base.py:275]\u001b[0m Start Epoch 555 ...\n"
     ]
    },
    {
     "name": "stderr",
     "output_type": "stream",
     "text": [
      "\n",
      "100%|#####################################################################################|17/17[00:00<00:00,37.05it/s]"
     ]
    },
    {
     "name": "stdout",
     "output_type": "stream",
     "text": [
      "\u001b[32m[1118 15:56:54 @base.py:285]\u001b[0m Epoch 555 (global_step 14152) finished, time:0.459 second.\n",
      "\u001b[32m[1118 15:56:54 @saver.py:79]\u001b[0m Model saved to ../output/Chicago/TEST/model\\model-14152.\n",
      "\u001b[32m[1118 15:56:55 @monitor.py:467]\u001b[0m GAN_loss/d_loss: -0.033076\n",
      "\u001b[32m[1118 15:56:55 @monitor.py:467]\u001b[0m GAN_loss/g_loss: -0.11655\n",
      "\u001b[32m[1118 15:56:55 @monitor.py:467]\u001b[0m GAN_loss/kl_div: 0.04995\n",
      "\u001b[32m[1118 15:56:55 @monitor.py:467]\u001b[0m QueueInput/queue_size: 50\n",
      "\u001b[32m[1118 15:56:55 @base.py:275]\u001b[0m Start Epoch 556 ...\n"
     ]
    },
    {
     "name": "stderr",
     "output_type": "stream",
     "text": [
      "\n",
      "100%|#####################################################################################|17/17[00:00<00:00,38.38it/s]"
     ]
    },
    {
     "name": "stdout",
     "output_type": "stream",
     "text": [
      "\u001b[32m[1118 15:56:55 @base.py:285]\u001b[0m Epoch 556 (global_step 14177) finished, time:0.443 second.\n",
      "\u001b[32m[1118 15:56:55 @saver.py:79]\u001b[0m Model saved to ../output/Chicago/TEST/model\\model-14177.\n",
      "\u001b[32m[1118 15:56:55 @monitor.py:467]\u001b[0m GAN_loss/d_loss: -0.032532\n",
      "\u001b[32m[1118 15:56:55 @monitor.py:467]\u001b[0m GAN_loss/g_loss: -0.11559\n",
      "\u001b[32m[1118 15:56:55 @monitor.py:467]\u001b[0m GAN_loss/kl_div: 0.051934\n",
      "\u001b[32m[1118 15:56:55 @monitor.py:467]\u001b[0m QueueInput/queue_size: 50\n",
      "\u001b[32m[1118 15:56:55 @base.py:275]\u001b[0m Start Epoch 557 ...\n"
     ]
    },
    {
     "name": "stderr",
     "output_type": "stream",
     "text": [
      "\n",
      "100%|#####################################################################################|17/17[00:00<00:00,37.25it/s]"
     ]
    },
    {
     "name": "stdout",
     "output_type": "stream",
     "text": [
      "\u001b[32m[1118 15:56:56 @base.py:285]\u001b[0m Epoch 557 (global_step 14203) finished, time:0.457 second.\n",
      "\u001b[32m[1118 15:56:56 @saver.py:79]\u001b[0m Model saved to ../output/Chicago/TEST/model\\model-14203.\n",
      "\u001b[32m[1118 15:56:56 @monitor.py:467]\u001b[0m GAN_loss/d_loss: -0.031454\n",
      "\u001b[32m[1118 15:56:56 @monitor.py:467]\u001b[0m GAN_loss/g_loss: -0.11799\n",
      "\u001b[32m[1118 15:56:56 @monitor.py:467]\u001b[0m GAN_loss/kl_div: 0.050512\n",
      "\u001b[32m[1118 15:56:56 @monitor.py:467]\u001b[0m QueueInput/queue_size: 50\n",
      "\u001b[32m[1118 15:56:56 @base.py:275]\u001b[0m Start Epoch 558 ...\n"
     ]
    },
    {
     "name": "stderr",
     "output_type": "stream",
     "text": [
      "\n",
      "100%|#####################################################################################|17/17[00:00<00:00,38.42it/s]"
     ]
    },
    {
     "name": "stdout",
     "output_type": "stream",
     "text": [
      "\u001b[32m[1118 15:56:56 @base.py:285]\u001b[0m Epoch 558 (global_step 14228) finished, time:0.443 second.\n",
      "\u001b[32m[1118 15:56:56 @saver.py:79]\u001b[0m Model saved to ../output/Chicago/TEST/model\\model-14228.\n",
      "\u001b[32m[1118 15:56:56 @monitor.py:467]\u001b[0m GAN_loss/d_loss: -0.032213\n",
      "\u001b[32m[1118 15:56:56 @monitor.py:467]\u001b[0m GAN_loss/g_loss: -0.11791\n",
      "\u001b[32m[1118 15:56:56 @monitor.py:467]\u001b[0m GAN_loss/kl_div: 0.048963\n",
      "\u001b[32m[1118 15:56:56 @monitor.py:467]\u001b[0m QueueInput/queue_size: 50\n",
      "\u001b[32m[1118 15:56:56 @base.py:275]\u001b[0m Start Epoch 559 ...\n"
     ]
    },
    {
     "name": "stderr",
     "output_type": "stream",
     "text": [
      "\n",
      "100%|#####################################################################################|17/17[00:00<00:00,37.13it/s]"
     ]
    },
    {
     "name": "stdout",
     "output_type": "stream",
     "text": [
      "\u001b[32m[1118 15:56:57 @base.py:285]\u001b[0m Epoch 559 (global_step 14254) finished, time:0.459 second.\n",
      "\u001b[32m[1118 15:56:57 @saver.py:79]\u001b[0m Model saved to ../output/Chicago/TEST/model\\model-14254.\n",
      "\u001b[32m[1118 15:56:57 @monitor.py:467]\u001b[0m GAN_loss/d_loss: -0.03215\n",
      "\u001b[32m[1118 15:56:57 @monitor.py:467]\u001b[0m GAN_loss/g_loss: -0.11686\n",
      "\u001b[32m[1118 15:56:57 @monitor.py:467]\u001b[0m GAN_loss/kl_div: 0.048166\n",
      "\u001b[32m[1118 15:56:57 @monitor.py:467]\u001b[0m QueueInput/queue_size: 50\n",
      "\u001b[32m[1118 15:56:57 @base.py:275]\u001b[0m Start Epoch 560 ...\n"
     ]
    },
    {
     "name": "stderr",
     "output_type": "stream",
     "text": [
      "\n",
      "100%|#####################################################################################|17/17[00:00<00:00,38.28it/s]"
     ]
    },
    {
     "name": "stdout",
     "output_type": "stream",
     "text": [
      "\u001b[32m[1118 15:56:57 @base.py:285]\u001b[0m Epoch 560 (global_step 14279) finished, time:0.445 second.\n",
      "\u001b[32m[1118 15:56:57 @saver.py:79]\u001b[0m Model saved to ../output/Chicago/TEST/model\\model-14279.\n",
      "\u001b[32m[1118 15:56:58 @monitor.py:467]\u001b[0m GAN_loss/d_loss: -0.032445\n",
      "\u001b[32m[1118 15:56:58 @monitor.py:467]\u001b[0m GAN_loss/g_loss: -0.11677\n",
      "\u001b[32m[1118 15:56:58 @monitor.py:467]\u001b[0m GAN_loss/kl_div: 0.048147\n",
      "\u001b[32m[1118 15:56:58 @monitor.py:467]\u001b[0m QueueInput/queue_size: 50\n",
      "\u001b[32m[1118 15:56:58 @base.py:275]\u001b[0m Start Epoch 561 ...\n"
     ]
    },
    {
     "name": "stderr",
     "output_type": "stream",
     "text": [
      "\n",
      "100%|#####################################################################################|17/17[00:00<00:00,37.17it/s]"
     ]
    },
    {
     "name": "stdout",
     "output_type": "stream",
     "text": [
      "\u001b[32m[1118 15:56:58 @base.py:285]\u001b[0m Epoch 561 (global_step 14305) finished, time:0.458 second.\n",
      "\u001b[32m[1118 15:56:58 @saver.py:79]\u001b[0m Model saved to ../output/Chicago/TEST/model\\model-14305.\n",
      "\u001b[32m[1118 15:56:58 @monitor.py:467]\u001b[0m GAN_loss/d_loss: -0.032701\n",
      "\u001b[32m[1118 15:56:58 @monitor.py:467]\u001b[0m GAN_loss/g_loss: -0.11604\n",
      "\u001b[32m[1118 15:56:58 @monitor.py:467]\u001b[0m GAN_loss/kl_div: 0.047009\n",
      "\u001b[32m[1118 15:56:58 @monitor.py:467]\u001b[0m QueueInput/queue_size: 50\n",
      "\u001b[32m[1118 15:56:58 @base.py:275]\u001b[0m Start Epoch 562 ...\n"
     ]
    },
    {
     "name": "stderr",
     "output_type": "stream",
     "text": [
      "\n",
      "100%|#####################################################################################|17/17[00:00<00:00,38.42it/s]"
     ]
    },
    {
     "name": "stdout",
     "output_type": "stream",
     "text": [
      "\u001b[32m[1118 15:56:59 @base.py:285]\u001b[0m Epoch 562 (global_step 14330) finished, time:0.443 second.\n",
      "\u001b[32m[1118 15:56:59 @saver.py:79]\u001b[0m Model saved to ../output/Chicago/TEST/model\\model-14330.\n",
      "\u001b[32m[1118 15:56:59 @monitor.py:467]\u001b[0m GAN_loss/d_loss: -0.032925\n",
      "\u001b[32m[1118 15:56:59 @monitor.py:467]\u001b[0m GAN_loss/g_loss: -0.11462\n",
      "\u001b[32m[1118 15:56:59 @monitor.py:467]\u001b[0m GAN_loss/kl_div: 0.049111\n",
      "\u001b[32m[1118 15:56:59 @monitor.py:467]\u001b[0m QueueInput/queue_size: 50\n",
      "\u001b[32m[1118 15:56:59 @base.py:275]\u001b[0m Start Epoch 563 ...\n"
     ]
    },
    {
     "name": "stderr",
     "output_type": "stream",
     "text": [
      "\n",
      "100%|#####################################################################################|17/17[00:00<00:00,37.09it/s]"
     ]
    },
    {
     "name": "stdout",
     "output_type": "stream",
     "text": [
      "\u001b[32m[1118 15:56:59 @base.py:285]\u001b[0m Epoch 563 (global_step 14356) finished, time:0.459 second.\n",
      "\u001b[32m[1118 15:56:59 @saver.py:79]\u001b[0m Model saved to ../output/Chicago/TEST/model\\model-14356.\n",
      "\u001b[32m[1118 15:56:59 @monitor.py:467]\u001b[0m GAN_loss/d_loss: -0.033297\n",
      "\u001b[32m[1118 15:56:59 @monitor.py:467]\u001b[0m GAN_loss/g_loss: -0.11467\n",
      "\u001b[32m[1118 15:56:59 @monitor.py:467]\u001b[0m GAN_loss/kl_div: 0.046148\n",
      "\u001b[32m[1118 15:56:59 @monitor.py:467]\u001b[0m QueueInput/queue_size: 50\n",
      "\u001b[32m[1118 15:56:59 @base.py:275]\u001b[0m Start Epoch 564 ...\n"
     ]
    },
    {
     "name": "stderr",
     "output_type": "stream",
     "text": [
      "\n",
      "100%|#####################################################################################|17/17[00:00<00:00,38.34it/s]"
     ]
    },
    {
     "name": "stdout",
     "output_type": "stream",
     "text": [
      "\u001b[32m[1118 15:57:00 @base.py:285]\u001b[0m Epoch 564 (global_step 14381) finished, time:0.444 second.\n",
      "\u001b[32m[1118 15:57:00 @saver.py:79]\u001b[0m Model saved to ../output/Chicago/TEST/model\\model-14381.\n",
      "\u001b[32m[1118 15:57:00 @monitor.py:467]\u001b[0m GAN_loss/d_loss: -0.032682\n",
      "\u001b[32m[1118 15:57:00 @monitor.py:467]\u001b[0m GAN_loss/g_loss: -0.11577\n",
      "\u001b[32m[1118 15:57:00 @monitor.py:467]\u001b[0m GAN_loss/kl_div: 0.047452\n",
      "\u001b[32m[1118 15:57:00 @monitor.py:467]\u001b[0m QueueInput/queue_size: 50\n",
      "\u001b[32m[1118 15:57:00 @base.py:275]\u001b[0m Start Epoch 565 ...\n"
     ]
    },
    {
     "name": "stderr",
     "output_type": "stream",
     "text": [
      "\n",
      "100%|#####################################################################################|17/17[00:00<00:00,37.17it/s]"
     ]
    },
    {
     "name": "stdout",
     "output_type": "stream",
     "text": [
      "\u001b[32m[1118 15:57:00 @base.py:285]\u001b[0m Epoch 565 (global_step 14407) finished, time:0.458 second.\n",
      "\u001b[32m[1118 15:57:01 @saver.py:79]\u001b[0m Model saved to ../output/Chicago/TEST/model\\model-14407.\n",
      "\u001b[32m[1118 15:57:01 @monitor.py:467]\u001b[0m GAN_loss/d_loss: -0.032511\n",
      "\u001b[32m[1118 15:57:01 @monitor.py:467]\u001b[0m GAN_loss/g_loss: -0.11572\n",
      "\u001b[32m[1118 15:57:01 @monitor.py:467]\u001b[0m GAN_loss/kl_div: 0.047867\n",
      "\u001b[32m[1118 15:57:01 @monitor.py:467]\u001b[0m QueueInput/queue_size: 50\n",
      "\u001b[32m[1118 15:57:01 @base.py:275]\u001b[0m Start Epoch 566 ...\n"
     ]
    },
    {
     "name": "stderr",
     "output_type": "stream",
     "text": [
      "\n",
      "100%|#####################################################################################|17/17[00:00<00:00,38.47it/s]"
     ]
    },
    {
     "name": "stdout",
     "output_type": "stream",
     "text": [
      "\u001b[32m[1118 15:57:01 @base.py:285]\u001b[0m Epoch 566 (global_step 14432) finished, time:0.442 second.\n",
      "\u001b[32m[1118 15:57:01 @saver.py:79]\u001b[0m Model saved to ../output/Chicago/TEST/model\\model-14432.\n",
      "\u001b[32m[1118 15:57:01 @monitor.py:467]\u001b[0m GAN_loss/d_loss: -0.032399\n",
      "\u001b[32m[1118 15:57:01 @monitor.py:467]\u001b[0m GAN_loss/g_loss: -0.11531\n",
      "\u001b[32m[1118 15:57:01 @monitor.py:467]\u001b[0m GAN_loss/kl_div: 0.045975\n",
      "\u001b[32m[1118 15:57:01 @monitor.py:467]\u001b[0m QueueInput/queue_size: 50\n",
      "\u001b[32m[1118 15:57:01 @base.py:275]\u001b[0m Start Epoch 567 ...\n"
     ]
    },
    {
     "name": "stderr",
     "output_type": "stream",
     "text": [
      "\n",
      "100%|#####################################################################################|17/17[00:00<00:00,36.93it/s]"
     ]
    },
    {
     "name": "stdout",
     "output_type": "stream",
     "text": [
      "\u001b[32m[1118 15:57:02 @base.py:285]\u001b[0m Epoch 567 (global_step 14458) finished, time:0.461 second.\n",
      "\u001b[32m[1118 15:57:02 @saver.py:79]\u001b[0m Model saved to ../output/Chicago/TEST/model\\model-14458.\n",
      "\u001b[32m[1118 15:57:02 @monitor.py:467]\u001b[0m GAN_loss/d_loss: -0.032086\n",
      "\u001b[32m[1118 15:57:02 @monitor.py:467]\u001b[0m GAN_loss/g_loss: -0.11478\n",
      "\u001b[32m[1118 15:57:02 @monitor.py:467]\u001b[0m GAN_loss/kl_div: 0.049989\n",
      "\u001b[32m[1118 15:57:02 @monitor.py:467]\u001b[0m QueueInput/queue_size: 50\n",
      "\u001b[32m[1118 15:57:02 @base.py:275]\u001b[0m Start Epoch 568 ...\n"
     ]
    },
    {
     "name": "stderr",
     "output_type": "stream",
     "text": [
      "\n",
      "100%|#####################################################################################|17/17[00:00<00:00,38.21it/s]"
     ]
    },
    {
     "name": "stdout",
     "output_type": "stream",
     "text": [
      "\u001b[32m[1118 15:57:02 @base.py:285]\u001b[0m Epoch 568 (global_step 14483) finished, time:0.445 second.\n",
      "\u001b[32m[1118 15:57:02 @saver.py:79]\u001b[0m Model saved to ../output/Chicago/TEST/model\\model-14483.\n",
      "\u001b[32m[1118 15:57:02 @monitor.py:467]\u001b[0m GAN_loss/d_loss: -0.032183\n",
      "\u001b[32m[1118 15:57:02 @monitor.py:467]\u001b[0m GAN_loss/g_loss: -0.1151\n",
      "\u001b[32m[1118 15:57:02 @monitor.py:467]\u001b[0m GAN_loss/kl_div: 0.048212\n",
      "\u001b[32m[1118 15:57:02 @monitor.py:467]\u001b[0m QueueInput/queue_size: 50\n",
      "\u001b[32m[1118 15:57:02 @base.py:275]\u001b[0m Start Epoch 569 ...\n"
     ]
    },
    {
     "name": "stderr",
     "output_type": "stream",
     "text": [
      "\n",
      "100%|#####################################################################################|17/17[00:00<00:00,37.30it/s]"
     ]
    },
    {
     "name": "stdout",
     "output_type": "stream",
     "text": [
      "\u001b[32m[1118 15:57:03 @base.py:285]\u001b[0m Epoch 569 (global_step 14509) finished, time:0.456 second.\n",
      "\u001b[32m[1118 15:57:03 @saver.py:79]\u001b[0m Model saved to ../output/Chicago/TEST/model\\model-14509.\n",
      "\u001b[32m[1118 15:57:03 @monitor.py:467]\u001b[0m GAN_loss/d_loss: -0.033259\n",
      "\u001b[32m[1118 15:57:03 @monitor.py:467]\u001b[0m GAN_loss/g_loss: -0.11414\n",
      "\u001b[32m[1118 15:57:03 @monitor.py:467]\u001b[0m GAN_loss/kl_div: 0.045734\n",
      "\u001b[32m[1118 15:57:03 @monitor.py:467]\u001b[0m QueueInput/queue_size: 50\n",
      "\u001b[32m[1118 15:57:03 @base.py:275]\u001b[0m Start Epoch 570 ...\n"
     ]
    },
    {
     "name": "stderr",
     "output_type": "stream",
     "text": [
      "\n",
      "100%|#####################################################################################|17/17[00:00<00:00,38.34it/s]"
     ]
    },
    {
     "name": "stdout",
     "output_type": "stream",
     "text": [
      "\u001b[32m[1118 15:57:03 @base.py:285]\u001b[0m Epoch 570 (global_step 14534) finished, time:0.444 second.\n",
      "\u001b[32m[1118 15:57:04 @saver.py:79]\u001b[0m Model saved to ../output/Chicago/TEST/model\\model-14534.\n",
      "\u001b[32m[1118 15:57:04 @monitor.py:467]\u001b[0m GAN_loss/d_loss: -0.032301\n",
      "\u001b[32m[1118 15:57:04 @monitor.py:467]\u001b[0m GAN_loss/g_loss: -0.11427\n",
      "\u001b[32m[1118 15:57:04 @monitor.py:467]\u001b[0m GAN_loss/kl_div: 0.046306\n",
      "\u001b[32m[1118 15:57:04 @monitor.py:467]\u001b[0m QueueInput/queue_size: 50\n",
      "\u001b[32m[1118 15:57:04 @base.py:275]\u001b[0m Start Epoch 571 ...\n"
     ]
    },
    {
     "name": "stderr",
     "output_type": "stream",
     "text": [
      "\n",
      "100%|#####################################################################################|17/17[00:00<00:00,36.97it/s]"
     ]
    },
    {
     "name": "stdout",
     "output_type": "stream",
     "text": [
      "\u001b[32m[1118 15:57:04 @base.py:285]\u001b[0m Epoch 571 (global_step 14560) finished, time:0.46 second.\n",
      "\u001b[32m[1118 15:57:04 @saver.py:79]\u001b[0m Model saved to ../output/Chicago/TEST/model\\model-14560.\n",
      "\u001b[32m[1118 15:57:04 @monitor.py:467]\u001b[0m GAN_loss/d_loss: -0.031741\n",
      "\u001b[32m[1118 15:57:04 @monitor.py:467]\u001b[0m GAN_loss/g_loss: -0.1148\n",
      "\u001b[32m[1118 15:57:04 @monitor.py:467]\u001b[0m GAN_loss/kl_div: 0.044325\n",
      "\u001b[32m[1118 15:57:04 @monitor.py:467]\u001b[0m QueueInput/queue_size: 50\n",
      "\u001b[32m[1118 15:57:04 @base.py:275]\u001b[0m Start Epoch 572 ...\n"
     ]
    },
    {
     "name": "stderr",
     "output_type": "stream",
     "text": [
      "\n",
      "100%|#####################################################################################|17/17[00:00<00:00,38.34it/s]"
     ]
    },
    {
     "name": "stdout",
     "output_type": "stream",
     "text": [
      "\u001b[32m[1118 15:57:05 @base.py:285]\u001b[0m Epoch 572 (global_step 14585) finished, time:0.444 second.\n",
      "\u001b[32m[1118 15:57:05 @saver.py:79]\u001b[0m Model saved to ../output/Chicago/TEST/model\\model-14585.\n",
      "\u001b[32m[1118 15:57:05 @monitor.py:467]\u001b[0m GAN_loss/d_loss: -0.032527\n",
      "\u001b[32m[1118 15:57:05 @monitor.py:467]\u001b[0m GAN_loss/g_loss: -0.11449\n",
      "\u001b[32m[1118 15:57:05 @monitor.py:467]\u001b[0m GAN_loss/kl_div: 0.048695\n",
      "\u001b[32m[1118 15:57:05 @monitor.py:467]\u001b[0m QueueInput/queue_size: 50\n",
      "\u001b[32m[1118 15:57:05 @base.py:275]\u001b[0m Start Epoch 573 ...\n"
     ]
    },
    {
     "name": "stderr",
     "output_type": "stream",
     "text": [
      "\n",
      "100%|#####################################################################################|17/17[00:00<00:00,37.13it/s]"
     ]
    },
    {
     "name": "stdout",
     "output_type": "stream",
     "text": [
      "\u001b[32m[1118 15:57:05 @base.py:285]\u001b[0m Epoch 573 (global_step 14611) finished, time:0.459 second.\n",
      "\u001b[32m[1118 15:57:05 @saver.py:79]\u001b[0m Model saved to ../output/Chicago/TEST/model\\model-14611.\n",
      "\u001b[32m[1118 15:57:05 @monitor.py:467]\u001b[0m GAN_loss/d_loss: -0.031765\n",
      "\u001b[32m[1118 15:57:05 @monitor.py:467]\u001b[0m GAN_loss/g_loss: -0.11538\n",
      "\u001b[32m[1118 15:57:05 @monitor.py:467]\u001b[0m GAN_loss/kl_div: 0.048219\n",
      "\u001b[32m[1118 15:57:05 @monitor.py:467]\u001b[0m QueueInput/queue_size: 50\n",
      "\u001b[32m[1118 15:57:05 @base.py:275]\u001b[0m Start Epoch 574 ...\n"
     ]
    },
    {
     "name": "stderr",
     "output_type": "stream",
     "text": [
      "\n",
      "100%|#####################################################################################|17/17[00:00<00:00,38.38it/s]"
     ]
    },
    {
     "name": "stdout",
     "output_type": "stream",
     "text": [
      "\u001b[32m[1118 15:57:06 @base.py:285]\u001b[0m Epoch 574 (global_step 14636) finished, time:0.443 second.\n",
      "\u001b[32m[1118 15:57:06 @saver.py:79]\u001b[0m Model saved to ../output/Chicago/TEST/model\\model-14636.\n",
      "\u001b[32m[1118 15:57:06 @monitor.py:467]\u001b[0m GAN_loss/d_loss: -0.032134\n",
      "\u001b[32m[1118 15:57:06 @monitor.py:467]\u001b[0m GAN_loss/g_loss: -0.11532\n",
      "\u001b[32m[1118 15:57:06 @monitor.py:467]\u001b[0m GAN_loss/kl_div: 0.045276\n",
      "\u001b[32m[1118 15:57:06 @monitor.py:467]\u001b[0m QueueInput/queue_size: 50\n",
      "\u001b[32m[1118 15:57:06 @base.py:275]\u001b[0m Start Epoch 575 ...\n"
     ]
    },
    {
     "name": "stderr",
     "output_type": "stream",
     "text": [
      "\n",
      "100%|#####################################################################################|17/17[00:00<00:00,36.93it/s]"
     ]
    },
    {
     "name": "stdout",
     "output_type": "stream",
     "text": [
      "\u001b[32m[1118 15:57:07 @base.py:285]\u001b[0m Epoch 575 (global_step 14662) finished, time:0.461 second.\n",
      "\u001b[32m[1118 15:57:07 @saver.py:79]\u001b[0m Model saved to ../output/Chicago/TEST/model\\model-14662.\n",
      "\u001b[32m[1118 15:57:07 @monitor.py:467]\u001b[0m GAN_loss/d_loss: -0.031239\n",
      "\u001b[32m[1118 15:57:07 @monitor.py:467]\u001b[0m GAN_loss/g_loss: -0.11483\n",
      "\u001b[32m[1118 15:57:07 @monitor.py:467]\u001b[0m GAN_loss/kl_div: 0.047509\n",
      "\u001b[32m[1118 15:57:07 @monitor.py:467]\u001b[0m QueueInput/queue_size: 50\n",
      "\u001b[32m[1118 15:57:07 @base.py:275]\u001b[0m Start Epoch 576 ...\n"
     ]
    },
    {
     "name": "stderr",
     "output_type": "stream",
     "text": [
      "\n",
      "100%|#####################################################################################|17/17[00:00<00:00,38.38it/s]"
     ]
    },
    {
     "name": "stdout",
     "output_type": "stream",
     "text": [
      "\u001b[32m[1118 15:57:07 @base.py:285]\u001b[0m Epoch 576 (global_step 14687) finished, time:0.443 second.\n",
      "\u001b[32m[1118 15:57:07 @saver.py:79]\u001b[0m Model saved to ../output/Chicago/TEST/model\\model-14687.\n",
      "\u001b[32m[1118 15:57:07 @monitor.py:467]\u001b[0m GAN_loss/d_loss: -0.031434\n",
      "\u001b[32m[1118 15:57:07 @monitor.py:467]\u001b[0m GAN_loss/g_loss: -0.11573\n",
      "\u001b[32m[1118 15:57:07 @monitor.py:467]\u001b[0m GAN_loss/kl_div: 0.051863\n",
      "\u001b[32m[1118 15:57:07 @monitor.py:467]\u001b[0m QueueInput/queue_size: 50\n",
      "\u001b[32m[1118 15:57:07 @base.py:275]\u001b[0m Start Epoch 577 ...\n"
     ]
    },
    {
     "name": "stderr",
     "output_type": "stream",
     "text": [
      "\n",
      "100%|#####################################################################################|17/17[00:00<00:00,37.01it/s]"
     ]
    },
    {
     "name": "stdout",
     "output_type": "stream",
     "text": [
      "\u001b[32m[1118 15:57:08 @base.py:285]\u001b[0m Epoch 577 (global_step 14713) finished, time:0.46 second.\n",
      "\u001b[32m[1118 15:57:08 @saver.py:79]\u001b[0m Model saved to ../output/Chicago/TEST/model\\model-14713.\n",
      "\u001b[32m[1118 15:57:08 @monitor.py:467]\u001b[0m GAN_loss/d_loss: -0.033138\n",
      "\u001b[32m[1118 15:57:08 @monitor.py:467]\u001b[0m GAN_loss/g_loss: -0.11582\n",
      "\u001b[32m[1118 15:57:08 @monitor.py:467]\u001b[0m GAN_loss/kl_div: 0.048621\n",
      "\u001b[32m[1118 15:57:08 @monitor.py:467]\u001b[0m QueueInput/queue_size: 50\n",
      "\u001b[32m[1118 15:57:08 @base.py:275]\u001b[0m Start Epoch 578 ...\n"
     ]
    },
    {
     "name": "stderr",
     "output_type": "stream",
     "text": [
      "\n",
      "100%|#####################################################################################|17/17[00:00<00:00,38.34it/s]"
     ]
    },
    {
     "name": "stdout",
     "output_type": "stream",
     "text": [
      "\u001b[32m[1118 15:57:08 @base.py:285]\u001b[0m Epoch 578 (global_step 14738) finished, time:0.444 second.\n",
      "\u001b[32m[1118 15:57:08 @saver.py:79]\u001b[0m Model saved to ../output/Chicago/TEST/model\\model-14738.\n",
      "\u001b[32m[1118 15:57:08 @monitor.py:467]\u001b[0m GAN_loss/d_loss: -0.032136\n",
      "\u001b[32m[1118 15:57:08 @monitor.py:467]\u001b[0m GAN_loss/g_loss: -0.11701\n",
      "\u001b[32m[1118 15:57:08 @monitor.py:467]\u001b[0m GAN_loss/kl_div: 0.047983\n",
      "\u001b[32m[1118 15:57:08 @monitor.py:467]\u001b[0m QueueInput/queue_size: 50\n",
      "\u001b[32m[1118 15:57:08 @base.py:275]\u001b[0m Start Epoch 579 ...\n"
     ]
    },
    {
     "name": "stderr",
     "output_type": "stream",
     "text": [
      "\n",
      "100%|#####################################################################################|17/17[00:00<00:00,37.13it/s]"
     ]
    },
    {
     "name": "stdout",
     "output_type": "stream",
     "text": [
      "\u001b[32m[1118 15:57:09 @base.py:285]\u001b[0m Epoch 579 (global_step 14764) finished, time:0.458 second.\n",
      "\u001b[32m[1118 15:57:09 @saver.py:79]\u001b[0m Model saved to ../output/Chicago/TEST/model\\model-14764.\n",
      "\u001b[32m[1118 15:57:09 @monitor.py:467]\u001b[0m GAN_loss/d_loss: -0.033374\n",
      "\u001b[32m[1118 15:57:09 @monitor.py:467]\u001b[0m GAN_loss/g_loss: -0.11465\n",
      "\u001b[32m[1118 15:57:09 @monitor.py:467]\u001b[0m GAN_loss/kl_div: 0.049298\n",
      "\u001b[32m[1118 15:57:09 @monitor.py:467]\u001b[0m QueueInput/queue_size: 50\n",
      "\u001b[32m[1118 15:57:09 @base.py:275]\u001b[0m Start Epoch 580 ...\n"
     ]
    },
    {
     "name": "stderr",
     "output_type": "stream",
     "text": [
      "\n",
      "100%|#####################################################################################|17/17[00:00<00:00,38.17it/s]"
     ]
    },
    {
     "name": "stdout",
     "output_type": "stream",
     "text": [
      "\u001b[32m[1118 15:57:10 @base.py:285]\u001b[0m Epoch 580 (global_step 14789) finished, time:0.446 second.\n",
      "\u001b[32m[1118 15:57:10 @saver.py:79]\u001b[0m Model saved to ../output/Chicago/TEST/model\\model-14789.\n",
      "\u001b[32m[1118 15:57:10 @monitor.py:467]\u001b[0m GAN_loss/d_loss: -0.032972\n",
      "\u001b[32m[1118 15:57:10 @monitor.py:467]\u001b[0m GAN_loss/g_loss: -0.11481\n",
      "\u001b[32m[1118 15:57:10 @monitor.py:467]\u001b[0m GAN_loss/kl_div: 0.045377\n",
      "\u001b[32m[1118 15:57:10 @monitor.py:467]\u001b[0m QueueInput/queue_size: 50\n",
      "\u001b[32m[1118 15:57:10 @base.py:275]\u001b[0m Start Epoch 581 ...\n"
     ]
    },
    {
     "name": "stderr",
     "output_type": "stream",
     "text": [
      "\n",
      "100%|#####################################################################################|17/17[00:00<00:00,37.17it/s]"
     ]
    },
    {
     "name": "stdout",
     "output_type": "stream",
     "text": [
      "\u001b[32m[1118 15:57:10 @base.py:285]\u001b[0m Epoch 581 (global_step 14815) finished, time:0.458 second.\n",
      "\u001b[32m[1118 15:57:10 @saver.py:79]\u001b[0m Model saved to ../output/Chicago/TEST/model\\model-14815.\n",
      "\u001b[32m[1118 15:57:10 @monitor.py:467]\u001b[0m GAN_loss/d_loss: -0.03079\n",
      "\u001b[32m[1118 15:57:10 @monitor.py:467]\u001b[0m GAN_loss/g_loss: -0.11627\n",
      "\u001b[32m[1118 15:57:10 @monitor.py:467]\u001b[0m GAN_loss/kl_div: 0.04933\n",
      "\u001b[32m[1118 15:57:10 @monitor.py:467]\u001b[0m QueueInput/queue_size: 50\n",
      "\u001b[32m[1118 15:57:10 @base.py:275]\u001b[0m Start Epoch 582 ...\n"
     ]
    },
    {
     "name": "stderr",
     "output_type": "stream",
     "text": [
      "\n",
      "100%|#####################################################################################|17/17[00:00<00:00,38.30it/s]"
     ]
    },
    {
     "name": "stdout",
     "output_type": "stream",
     "text": [
      "\u001b[32m[1118 15:57:11 @base.py:285]\u001b[0m Epoch 582 (global_step 14840) finished, time:0.444 second.\n",
      "\u001b[32m[1118 15:57:11 @saver.py:79]\u001b[0m Model saved to ../output/Chicago/TEST/model\\model-14840.\n",
      "\u001b[32m[1118 15:57:11 @monitor.py:467]\u001b[0m GAN_loss/d_loss: -0.031502\n",
      "\u001b[32m[1118 15:57:11 @monitor.py:467]\u001b[0m GAN_loss/g_loss: -0.11624\n",
      "\u001b[32m[1118 15:57:11 @monitor.py:467]\u001b[0m GAN_loss/kl_div: 0.048139\n",
      "\u001b[32m[1118 15:57:11 @monitor.py:467]\u001b[0m QueueInput/queue_size: 50\n",
      "\u001b[32m[1118 15:57:11 @base.py:275]\u001b[0m Start Epoch 583 ...\n"
     ]
    },
    {
     "name": "stderr",
     "output_type": "stream",
     "text": [
      "\n",
      "100%|#####################################################################################|17/17[00:00<00:00,36.97it/s]"
     ]
    },
    {
     "name": "stdout",
     "output_type": "stream",
     "text": [
      "\u001b[32m[1118 15:57:11 @base.py:285]\u001b[0m Epoch 583 (global_step 14866) finished, time:0.46 second.\n",
      "\u001b[32m[1118 15:57:11 @saver.py:79]\u001b[0m Model saved to ../output/Chicago/TEST/model\\model-14866.\n",
      "\u001b[32m[1118 15:57:12 @monitor.py:467]\u001b[0m GAN_loss/d_loss: -0.031638\n",
      "\u001b[32m[1118 15:57:12 @monitor.py:467]\u001b[0m GAN_loss/g_loss: -0.1161\n",
      "\u001b[32m[1118 15:57:12 @monitor.py:467]\u001b[0m GAN_loss/kl_div: 0.047639\n",
      "\u001b[32m[1118 15:57:12 @monitor.py:467]\u001b[0m QueueInput/queue_size: 50\n",
      "\u001b[32m[1118 15:57:12 @base.py:275]\u001b[0m Start Epoch 584 ...\n"
     ]
    },
    {
     "name": "stderr",
     "output_type": "stream",
     "text": [
      "\n",
      "100%|#####################################################################################|17/17[00:00<00:00,38.38it/s]"
     ]
    },
    {
     "name": "stdout",
     "output_type": "stream",
     "text": [
      "\u001b[32m[1118 15:57:12 @base.py:285]\u001b[0m Epoch 584 (global_step 14891) finished, time:0.443 second.\n",
      "\u001b[32m[1118 15:57:12 @saver.py:79]\u001b[0m Model saved to ../output/Chicago/TEST/model\\model-14891.\n",
      "\u001b[32m[1118 15:57:12 @monitor.py:467]\u001b[0m GAN_loss/d_loss: -0.03221\n",
      "\u001b[32m[1118 15:57:12 @monitor.py:467]\u001b[0m GAN_loss/g_loss: -0.11499\n",
      "\u001b[32m[1118 15:57:12 @monitor.py:467]\u001b[0m GAN_loss/kl_div: 0.047309\n",
      "\u001b[32m[1118 15:57:12 @monitor.py:467]\u001b[0m QueueInput/queue_size: 50\n",
      "\u001b[32m[1118 15:57:12 @base.py:275]\u001b[0m Start Epoch 585 ...\n"
     ]
    },
    {
     "name": "stderr",
     "output_type": "stream",
     "text": [
      "\n",
      "100%|#####################################################################################|17/17[00:00<00:00,36.97it/s]"
     ]
    },
    {
     "name": "stdout",
     "output_type": "stream",
     "text": [
      "\u001b[32m[1118 15:57:13 @base.py:285]\u001b[0m Epoch 585 (global_step 14917) finished, time:0.461 second.\n",
      "\u001b[32m[1118 15:57:13 @saver.py:79]\u001b[0m Model saved to ../output/Chicago/TEST/model\\model-14917.\n",
      "\u001b[32m[1118 15:57:13 @monitor.py:467]\u001b[0m GAN_loss/d_loss: -0.033764\n",
      "\u001b[32m[1118 15:57:13 @monitor.py:467]\u001b[0m GAN_loss/g_loss: -0.11404\n",
      "\u001b[32m[1118 15:57:13 @monitor.py:467]\u001b[0m GAN_loss/kl_div: 0.048735\n",
      "\u001b[32m[1118 15:57:13 @monitor.py:467]\u001b[0m QueueInput/queue_size: 50\n",
      "\u001b[32m[1118 15:57:13 @base.py:275]\u001b[0m Start Epoch 586 ...\n"
     ]
    },
    {
     "name": "stderr",
     "output_type": "stream",
     "text": [
      "\n",
      "100%|#####################################################################################|17/17[00:00<00:00,38.30it/s]"
     ]
    },
    {
     "name": "stdout",
     "output_type": "stream",
     "text": [
      "\u001b[32m[1118 15:57:13 @base.py:285]\u001b[0m Epoch 586 (global_step 14942) finished, time:0.444 second.\n",
      "\u001b[32m[1118 15:57:13 @saver.py:79]\u001b[0m Model saved to ../output/Chicago/TEST/model\\model-14942.\n",
      "\u001b[32m[1118 15:57:13 @monitor.py:467]\u001b[0m GAN_loss/d_loss: -0.0329\n",
      "\u001b[32m[1118 15:57:13 @monitor.py:467]\u001b[0m GAN_loss/g_loss: -0.11539\n",
      "\u001b[32m[1118 15:57:13 @monitor.py:467]\u001b[0m GAN_loss/kl_div: 0.04853\n",
      "\u001b[32m[1118 15:57:13 @monitor.py:467]\u001b[0m QueueInput/queue_size: 50\n",
      "\u001b[32m[1118 15:57:13 @base.py:275]\u001b[0m Start Epoch 587 ...\n"
     ]
    },
    {
     "name": "stderr",
     "output_type": "stream",
     "text": [
      "\n",
      "100%|#####################################################################################|17/17[00:00<00:00,37.21it/s]"
     ]
    },
    {
     "name": "stdout",
     "output_type": "stream",
     "text": [
      "\u001b[32m[1118 15:57:14 @base.py:285]\u001b[0m Epoch 587 (global_step 14968) finished, time:0.457 second.\n",
      "\u001b[32m[1118 15:57:14 @saver.py:79]\u001b[0m Model saved to ../output/Chicago/TEST/model\\model-14968.\n",
      "\u001b[32m[1118 15:57:14 @monitor.py:467]\u001b[0m GAN_loss/d_loss: -0.032463\n",
      "\u001b[32m[1118 15:57:14 @monitor.py:467]\u001b[0m GAN_loss/g_loss: -0.11432\n",
      "\u001b[32m[1118 15:57:14 @monitor.py:467]\u001b[0m GAN_loss/kl_div: 0.052063\n",
      "\u001b[32m[1118 15:57:14 @monitor.py:467]\u001b[0m QueueInput/queue_size: 50\n",
      "\u001b[32m[1118 15:57:14 @base.py:275]\u001b[0m Start Epoch 588 ...\n"
     ]
    },
    {
     "name": "stderr",
     "output_type": "stream",
     "text": [
      "\n",
      "100%|#####################################################################################|17/17[00:00<00:00,38.34it/s]"
     ]
    },
    {
     "name": "stdout",
     "output_type": "stream",
     "text": [
      "\u001b[32m[1118 15:57:14 @base.py:285]\u001b[0m Epoch 588 (global_step 14993) finished, time:0.444 second.\n",
      "\u001b[32m[1118 15:57:15 @saver.py:79]\u001b[0m Model saved to ../output/Chicago/TEST/model\\model-14993.\n",
      "\u001b[32m[1118 15:57:15 @monitor.py:467]\u001b[0m GAN_loss/d_loss: -0.032377\n",
      "\u001b[32m[1118 15:57:15 @monitor.py:467]\u001b[0m GAN_loss/g_loss: -0.11426\n",
      "\u001b[32m[1118 15:57:15 @monitor.py:467]\u001b[0m GAN_loss/kl_div: 0.048523\n",
      "\u001b[32m[1118 15:57:15 @monitor.py:467]\u001b[0m QueueInput/queue_size: 50\n",
      "\u001b[32m[1118 15:57:15 @base.py:275]\u001b[0m Start Epoch 589 ...\n"
     ]
    },
    {
     "name": "stderr",
     "output_type": "stream",
     "text": [
      "\n",
      "100%|#####################################################################################|17/17[00:00<00:00,37.17it/s]"
     ]
    },
    {
     "name": "stdout",
     "output_type": "stream",
     "text": [
      "\u001b[32m[1118 15:57:15 @base.py:285]\u001b[0m Epoch 589 (global_step 15019) finished, time:0.458 second.\n",
      "\u001b[32m[1118 15:57:15 @saver.py:79]\u001b[0m Model saved to ../output/Chicago/TEST/model\\model-15019.\n",
      "\u001b[32m[1118 15:57:15 @monitor.py:467]\u001b[0m GAN_loss/d_loss: -0.031472\n",
      "\u001b[32m[1118 15:57:15 @monitor.py:467]\u001b[0m GAN_loss/g_loss: -0.11483\n",
      "\u001b[32m[1118 15:57:15 @monitor.py:467]\u001b[0m GAN_loss/kl_div: 0.047421\n",
      "\u001b[32m[1118 15:57:15 @monitor.py:467]\u001b[0m QueueInput/queue_size: 50\n",
      "\u001b[32m[1118 15:57:15 @base.py:275]\u001b[0m Start Epoch 590 ...\n"
     ]
    },
    {
     "name": "stderr",
     "output_type": "stream",
     "text": [
      "\n",
      "100%|#####################################################################################|17/17[00:00<00:00,38.17it/s]"
     ]
    },
    {
     "name": "stdout",
     "output_type": "stream",
     "text": [
      "\u001b[32m[1118 15:57:16 @base.py:285]\u001b[0m Epoch 590 (global_step 15044) finished, time:0.446 second.\n",
      "\u001b[32m[1118 15:57:16 @saver.py:79]\u001b[0m Model saved to ../output/Chicago/TEST/model\\model-15044.\n",
      "\u001b[32m[1118 15:57:16 @monitor.py:467]\u001b[0m GAN_loss/d_loss: -0.031623\n",
      "\u001b[32m[1118 15:57:16 @monitor.py:467]\u001b[0m GAN_loss/g_loss: -0.11546\n",
      "\u001b[32m[1118 15:57:16 @monitor.py:467]\u001b[0m GAN_loss/kl_div: 0.04797\n",
      "\u001b[32m[1118 15:57:16 @monitor.py:467]\u001b[0m QueueInput/queue_size: 50\n",
      "\u001b[32m[1118 15:57:16 @base.py:275]\u001b[0m Start Epoch 591 ...\n"
     ]
    },
    {
     "name": "stderr",
     "output_type": "stream",
     "text": [
      "\n",
      "100%|#####################################################################################|17/17[00:00<00:00,36.89it/s]"
     ]
    },
    {
     "name": "stdout",
     "output_type": "stream",
     "text": [
      "\u001b[32m[1118 15:57:16 @base.py:285]\u001b[0m Epoch 591 (global_step 15070) finished, time:0.461 second.\n",
      "\u001b[32m[1118 15:57:16 @saver.py:79]\u001b[0m Model saved to ../output/Chicago/TEST/model\\model-15070.\n",
      "\u001b[32m[1118 15:57:16 @monitor.py:467]\u001b[0m GAN_loss/d_loss: -0.032617\n",
      "\u001b[32m[1118 15:57:16 @monitor.py:467]\u001b[0m GAN_loss/g_loss: -0.11541\n",
      "\u001b[32m[1118 15:57:16 @monitor.py:467]\u001b[0m GAN_loss/kl_div: 0.047275\n",
      "\u001b[32m[1118 15:57:16 @monitor.py:467]\u001b[0m QueueInput/queue_size: 50\n",
      "\u001b[32m[1118 15:57:16 @base.py:275]\u001b[0m Start Epoch 592 ...\n"
     ]
    },
    {
     "name": "stderr",
     "output_type": "stream",
     "text": [
      "\n",
      "100%|#####################################################################################|17/17[00:00<00:00,38.42it/s]"
     ]
    },
    {
     "name": "stdout",
     "output_type": "stream",
     "text": [
      "\u001b[32m[1118 15:57:17 @base.py:285]\u001b[0m Epoch 592 (global_step 15095) finished, time:0.443 second.\n",
      "\u001b[32m[1118 15:57:17 @saver.py:79]\u001b[0m Model saved to ../output/Chicago/TEST/model\\model-15095.\n",
      "\u001b[32m[1118 15:57:17 @monitor.py:467]\u001b[0m GAN_loss/d_loss: -0.031075\n",
      "\u001b[32m[1118 15:57:17 @monitor.py:467]\u001b[0m GAN_loss/g_loss: -0.11547\n",
      "\u001b[32m[1118 15:57:17 @monitor.py:467]\u001b[0m GAN_loss/kl_div: 0.047098\n",
      "\u001b[32m[1118 15:57:17 @monitor.py:467]\u001b[0m QueueInput/queue_size: 50\n",
      "\u001b[32m[1118 15:57:17 @base.py:275]\u001b[0m Start Epoch 593 ...\n"
     ]
    },
    {
     "name": "stderr",
     "output_type": "stream",
     "text": [
      "\n",
      "100%|#####################################################################################|17/17[00:00<00:00,36.97it/s]"
     ]
    },
    {
     "name": "stdout",
     "output_type": "stream",
     "text": [
      "\u001b[32m[1118 15:57:17 @base.py:285]\u001b[0m Epoch 593 (global_step 15121) finished, time:0.46 second.\n",
      "\u001b[32m[1118 15:57:18 @saver.py:79]\u001b[0m Model saved to ../output/Chicago/TEST/model\\model-15121.\n",
      "\u001b[32m[1118 15:57:18 @monitor.py:467]\u001b[0m GAN_loss/d_loss: -0.031568\n",
      "\u001b[32m[1118 15:57:18 @monitor.py:467]\u001b[0m GAN_loss/g_loss: -0.11591\n",
      "\u001b[32m[1118 15:57:18 @monitor.py:467]\u001b[0m GAN_loss/kl_div: 0.045664\n",
      "\u001b[32m[1118 15:57:18 @monitor.py:467]\u001b[0m QueueInput/queue_size: 50\n",
      "\u001b[32m[1118 15:57:18 @base.py:275]\u001b[0m Start Epoch 594 ...\n"
     ]
    },
    {
     "name": "stderr",
     "output_type": "stream",
     "text": [
      "\n",
      "100%|#####################################################################################|17/17[00:00<00:00,38.21it/s]"
     ]
    },
    {
     "name": "stdout",
     "output_type": "stream",
     "text": [
      "\u001b[32m[1118 15:57:18 @base.py:285]\u001b[0m Epoch 594 (global_step 15146) finished, time:0.445 second.\n",
      "\u001b[32m[1118 15:57:18 @saver.py:79]\u001b[0m Model saved to ../output/Chicago/TEST/model\\model-15146.\n",
      "\u001b[32m[1118 15:57:18 @monitor.py:467]\u001b[0m GAN_loss/d_loss: -0.031995\n",
      "\u001b[32m[1118 15:57:18 @monitor.py:467]\u001b[0m GAN_loss/g_loss: -0.11575\n",
      "\u001b[32m[1118 15:57:18 @monitor.py:467]\u001b[0m GAN_loss/kl_div: 0.051982\n",
      "\u001b[32m[1118 15:57:18 @monitor.py:467]\u001b[0m QueueInput/queue_size: 50\n",
      "\u001b[32m[1118 15:57:18 @base.py:275]\u001b[0m Start Epoch 595 ...\n"
     ]
    },
    {
     "name": "stderr",
     "output_type": "stream",
     "text": [
      "\n",
      "100%|#####################################################################################|17/17[00:00<00:00,36.93it/s]"
     ]
    },
    {
     "name": "stdout",
     "output_type": "stream",
     "text": [
      "\u001b[32m[1118 15:57:19 @base.py:285]\u001b[0m Epoch 595 (global_step 15172) finished, time:0.461 second.\n",
      "\u001b[32m[1118 15:57:19 @saver.py:79]\u001b[0m Model saved to ../output/Chicago/TEST/model\\model-15172.\n",
      "\u001b[32m[1118 15:57:19 @monitor.py:467]\u001b[0m GAN_loss/d_loss: -0.030979\n",
      "\u001b[32m[1118 15:57:19 @monitor.py:467]\u001b[0m GAN_loss/g_loss: -0.11543\n",
      "\u001b[32m[1118 15:57:19 @monitor.py:467]\u001b[0m GAN_loss/kl_div: 0.048655\n",
      "\u001b[32m[1118 15:57:19 @monitor.py:467]\u001b[0m QueueInput/queue_size: 50\n",
      "\u001b[32m[1118 15:57:19 @base.py:275]\u001b[0m Start Epoch 596 ...\n"
     ]
    },
    {
     "name": "stderr",
     "output_type": "stream",
     "text": [
      "\n",
      "100%|#####################################################################################|17/17[00:00<00:00,38.42it/s]"
     ]
    },
    {
     "name": "stdout",
     "output_type": "stream",
     "text": [
      "\u001b[32m[1118 15:57:19 @base.py:285]\u001b[0m Epoch 596 (global_step 15197) finished, time:0.443 second.\n",
      "\u001b[32m[1118 15:57:19 @saver.py:79]\u001b[0m Model saved to ../output/Chicago/TEST/model\\model-15197.\n",
      "\u001b[32m[1118 15:57:19 @monitor.py:467]\u001b[0m GAN_loss/d_loss: -0.031883\n",
      "\u001b[32m[1118 15:57:19 @monitor.py:467]\u001b[0m GAN_loss/g_loss: -0.11513\n",
      "\u001b[32m[1118 15:57:19 @monitor.py:467]\u001b[0m GAN_loss/kl_div: 0.047377\n",
      "\u001b[32m[1118 15:57:19 @monitor.py:467]\u001b[0m QueueInput/queue_size: 50\n",
      "\u001b[32m[1118 15:57:19 @base.py:275]\u001b[0m Start Epoch 597 ...\n"
     ]
    },
    {
     "name": "stderr",
     "output_type": "stream",
     "text": [
      "\n",
      "100%|#####################################################################################|17/17[00:00<00:00,37.21it/s]"
     ]
    },
    {
     "name": "stdout",
     "output_type": "stream",
     "text": [
      "\u001b[32m[1118 15:57:20 @base.py:285]\u001b[0m Epoch 597 (global_step 15223) finished, time:0.457 second.\n",
      "\u001b[32m[1118 15:57:20 @saver.py:79]\u001b[0m Model saved to ../output/Chicago/TEST/model\\model-15223.\n",
      "\u001b[32m[1118 15:57:20 @monitor.py:467]\u001b[0m GAN_loss/d_loss: -0.031385\n",
      "\u001b[32m[1118 15:57:20 @monitor.py:467]\u001b[0m GAN_loss/g_loss: -0.11412\n",
      "\u001b[32m[1118 15:57:20 @monitor.py:467]\u001b[0m GAN_loss/kl_div: 0.051321\n",
      "\u001b[32m[1118 15:57:20 @monitor.py:467]\u001b[0m QueueInput/queue_size: 50\n",
      "\u001b[32m[1118 15:57:20 @base.py:275]\u001b[0m Start Epoch 598 ...\n"
     ]
    },
    {
     "name": "stderr",
     "output_type": "stream",
     "text": [
      "\n",
      "100%|#####################################################################################|17/17[00:00<00:00,37.91it/s]"
     ]
    },
    {
     "name": "stdout",
     "output_type": "stream",
     "text": [
      "\u001b[32m[1118 15:57:20 @base.py:285]\u001b[0m Epoch 598 (global_step 15248) finished, time:0.449 second.\n",
      "\u001b[32m[1118 15:57:21 @saver.py:79]\u001b[0m Model saved to ../output/Chicago/TEST/model\\model-15248.\n",
      "\u001b[32m[1118 15:57:21 @monitor.py:467]\u001b[0m GAN_loss/d_loss: -0.031861\n",
      "\u001b[32m[1118 15:57:21 @monitor.py:467]\u001b[0m GAN_loss/g_loss: -0.11435\n",
      "\u001b[32m[1118 15:57:21 @monitor.py:467]\u001b[0m GAN_loss/kl_div: 0.049464\n",
      "\u001b[32m[1118 15:57:21 @monitor.py:467]\u001b[0m QueueInput/queue_size: 50\n",
      "\u001b[32m[1118 15:57:21 @base.py:275]\u001b[0m Start Epoch 599 ...\n"
     ]
    },
    {
     "name": "stderr",
     "output_type": "stream",
     "text": [
      "\n",
      "100%|#####################################################################################|17/17[00:00<00:00,37.13it/s]"
     ]
    },
    {
     "name": "stdout",
     "output_type": "stream",
     "text": [
      "\u001b[32m[1118 15:57:21 @base.py:285]\u001b[0m Epoch 599 (global_step 15274) finished, time:0.459 second.\n",
      "\u001b[32m[1118 15:57:21 @saver.py:79]\u001b[0m Model saved to ../output/Chicago/TEST/model\\model-15274.\n",
      "\u001b[32m[1118 15:57:21 @monitor.py:467]\u001b[0m GAN_loss/d_loss: -0.031327\n",
      "\u001b[32m[1118 15:57:21 @monitor.py:467]\u001b[0m GAN_loss/g_loss: -0.11528\n",
      "\u001b[32m[1118 15:57:21 @monitor.py:467]\u001b[0m GAN_loss/kl_div: 0.049549\n",
      "\u001b[32m[1118 15:57:21 @monitor.py:467]\u001b[0m QueueInput/queue_size: 50\n",
      "\u001b[32m[1118 15:57:21 @base.py:275]\u001b[0m Start Epoch 600 ...\n"
     ]
    },
    {
     "name": "stderr",
     "output_type": "stream",
     "text": [
      "\n",
      "100%|#####################################################################################|17/17[00:00<00:00,38.12it/s]"
     ]
    },
    {
     "name": "stdout",
     "output_type": "stream",
     "text": [
      "\u001b[32m[1118 15:57:22 @base.py:285]\u001b[0m Epoch 600 (global_step 15299) finished, time:0.446 second.\n",
      "\u001b[32m[1118 15:57:22 @saver.py:79]\u001b[0m Model saved to ../output/Chicago/TEST/model\\model-15299.\n",
      "\u001b[32m[1118 15:57:22 @monitor.py:467]\u001b[0m GAN_loss/d_loss: -0.030326\n",
      "\u001b[32m[1118 15:57:22 @monitor.py:467]\u001b[0m GAN_loss/g_loss: -0.11577\n",
      "\u001b[32m[1118 15:57:22 @monitor.py:467]\u001b[0m GAN_loss/kl_div: 0.048739\n",
      "\u001b[32m[1118 15:57:22 @monitor.py:467]\u001b[0m QueueInput/queue_size: 50\n",
      "\u001b[32m[1118 15:57:22 @base.py:275]\u001b[0m Start Epoch 601 ...\n"
     ]
    },
    {
     "name": "stderr",
     "output_type": "stream",
     "text": [
      "\n",
      "100%|#####################################################################################|17/17[00:00<00:00,36.85it/s]"
     ]
    },
    {
     "name": "stdout",
     "output_type": "stream",
     "text": [
      "\u001b[32m[1118 15:57:22 @base.py:285]\u001b[0m Epoch 601 (global_step 15325) finished, time:0.462 second.\n",
      "\u001b[32m[1118 15:57:22 @saver.py:79]\u001b[0m Model saved to ../output/Chicago/TEST/model\\model-15325.\n",
      "\u001b[32m[1118 15:57:22 @monitor.py:467]\u001b[0m GAN_loss/d_loss: -0.030296\n",
      "\u001b[32m[1118 15:57:22 @monitor.py:467]\u001b[0m GAN_loss/g_loss: -0.11626\n",
      "\u001b[32m[1118 15:57:22 @monitor.py:467]\u001b[0m GAN_loss/kl_div: 0.049839\n",
      "\u001b[32m[1118 15:57:22 @monitor.py:467]\u001b[0m QueueInput/queue_size: 50\n",
      "\u001b[32m[1118 15:57:22 @base.py:275]\u001b[0m Start Epoch 602 ...\n"
     ]
    },
    {
     "name": "stderr",
     "output_type": "stream",
     "text": [
      "\n",
      "100%|#####################################################################################|17/17[00:00<00:00,38.17it/s]"
     ]
    },
    {
     "name": "stdout",
     "output_type": "stream",
     "text": [
      "\u001b[32m[1118 15:57:23 @base.py:285]\u001b[0m Epoch 602 (global_step 15350) finished, time:0.446 second.\n",
      "\u001b[32m[1118 15:57:23 @saver.py:79]\u001b[0m Model saved to ../output/Chicago/TEST/model\\model-15350.\n",
      "\u001b[32m[1118 15:57:23 @monitor.py:467]\u001b[0m GAN_loss/d_loss: -0.030421\n",
      "\u001b[32m[1118 15:57:23 @monitor.py:467]\u001b[0m GAN_loss/g_loss: -0.11716\n",
      "\u001b[32m[1118 15:57:23 @monitor.py:467]\u001b[0m GAN_loss/kl_div: 0.049465\n",
      "\u001b[32m[1118 15:57:23 @monitor.py:467]\u001b[0m QueueInput/queue_size: 50\n",
      "\u001b[32m[1118 15:57:23 @base.py:275]\u001b[0m Start Epoch 603 ...\n"
     ]
    },
    {
     "name": "stderr",
     "output_type": "stream",
     "text": [
      "\n",
      "100%|#####################################################################################|17/17[00:00<00:00,37.09it/s]"
     ]
    },
    {
     "name": "stdout",
     "output_type": "stream",
     "text": [
      "\u001b[32m[1118 15:57:24 @base.py:285]\u001b[0m Epoch 603 (global_step 15376) finished, time:0.459 second.\n",
      "\u001b[32m[1118 15:57:24 @saver.py:79]\u001b[0m Model saved to ../output/Chicago/TEST/model\\model-15376.\n",
      "\u001b[32m[1118 15:57:24 @monitor.py:467]\u001b[0m GAN_loss/d_loss: -0.030125\n",
      "\u001b[32m[1118 15:57:24 @monitor.py:467]\u001b[0m GAN_loss/g_loss: -0.11729\n",
      "\u001b[32m[1118 15:57:24 @monitor.py:467]\u001b[0m GAN_loss/kl_div: 0.048405\n",
      "\u001b[32m[1118 15:57:24 @monitor.py:467]\u001b[0m QueueInput/queue_size: 50\n",
      "\u001b[32m[1118 15:57:24 @base.py:275]\u001b[0m Start Epoch 604 ...\n"
     ]
    },
    {
     "name": "stderr",
     "output_type": "stream",
     "text": [
      "\n",
      "100%|#####################################################################################|17/17[00:00<00:00,38.25it/s]"
     ]
    },
    {
     "name": "stdout",
     "output_type": "stream",
     "text": [
      "\u001b[32m[1118 15:57:24 @base.py:285]\u001b[0m Epoch 604 (global_step 15401) finished, time:0.444 second.\n",
      "\u001b[32m[1118 15:57:24 @saver.py:79]\u001b[0m Model saved to ../output/Chicago/TEST/model\\model-15401.\n",
      "\u001b[32m[1118 15:57:24 @monitor.py:467]\u001b[0m GAN_loss/d_loss: -0.031548\n",
      "\u001b[32m[1118 15:57:24 @monitor.py:467]\u001b[0m GAN_loss/g_loss: -0.11643\n",
      "\u001b[32m[1118 15:57:24 @monitor.py:467]\u001b[0m GAN_loss/kl_div: 0.049276\n",
      "\u001b[32m[1118 15:57:24 @monitor.py:467]\u001b[0m QueueInput/queue_size: 50\n",
      "\u001b[32m[1118 15:57:24 @base.py:275]\u001b[0m Start Epoch 605 ...\n"
     ]
    },
    {
     "name": "stderr",
     "output_type": "stream",
     "text": [
      "\n",
      "100%|#####################################################################################|17/17[00:00<00:00,37.17it/s]"
     ]
    },
    {
     "name": "stdout",
     "output_type": "stream",
     "text": [
      "\u001b[32m[1118 15:57:25 @base.py:285]\u001b[0m Epoch 605 (global_step 15427) finished, time:0.458 second.\n",
      "\u001b[32m[1118 15:57:25 @saver.py:79]\u001b[0m Model saved to ../output/Chicago/TEST/model\\model-15427.\n",
      "\u001b[32m[1118 15:57:25 @monitor.py:467]\u001b[0m GAN_loss/d_loss: -0.032519\n",
      "\u001b[32m[1118 15:57:25 @monitor.py:467]\u001b[0m GAN_loss/g_loss: -0.11629\n",
      "\u001b[32m[1118 15:57:25 @monitor.py:467]\u001b[0m GAN_loss/kl_div: 0.048131\n",
      "\u001b[32m[1118 15:57:25 @monitor.py:467]\u001b[0m QueueInput/queue_size: 50\n",
      "\u001b[32m[1118 15:57:25 @base.py:275]\u001b[0m Start Epoch 606 ...\n"
     ]
    },
    {
     "name": "stderr",
     "output_type": "stream",
     "text": [
      "\n",
      "100%|#####################################################################################|17/17[00:00<00:00,38.34it/s]"
     ]
    },
    {
     "name": "stdout",
     "output_type": "stream",
     "text": [
      "\u001b[32m[1118 15:57:25 @base.py:285]\u001b[0m Epoch 606 (global_step 15452) finished, time:0.444 second.\n",
      "\u001b[32m[1118 15:57:25 @saver.py:79]\u001b[0m Model saved to ../output/Chicago/TEST/model\\model-15452.\n",
      "\u001b[32m[1118 15:57:25 @monitor.py:467]\u001b[0m GAN_loss/d_loss: -0.032029\n",
      "\u001b[32m[1118 15:57:25 @monitor.py:467]\u001b[0m GAN_loss/g_loss: -0.11655\n",
      "\u001b[32m[1118 15:57:25 @monitor.py:467]\u001b[0m GAN_loss/kl_div: 0.047783\n",
      "\u001b[32m[1118 15:57:25 @monitor.py:467]\u001b[0m QueueInput/queue_size: 50\n",
      "\u001b[32m[1118 15:57:25 @base.py:275]\u001b[0m Start Epoch 607 ...\n"
     ]
    },
    {
     "name": "stderr",
     "output_type": "stream",
     "text": [
      "\n",
      "100%|#####################################################################################|17/17[00:00<00:00,37.01it/s]"
     ]
    },
    {
     "name": "stdout",
     "output_type": "stream",
     "text": [
      "\u001b[32m[1118 15:57:26 @base.py:285]\u001b[0m Epoch 607 (global_step 15478) finished, time:0.46 second.\n",
      "\u001b[32m[1118 15:57:26 @saver.py:79]\u001b[0m Model saved to ../output/Chicago/TEST/model\\model-15478.\n",
      "\u001b[32m[1118 15:57:26 @monitor.py:467]\u001b[0m GAN_loss/d_loss: -0.03147\n",
      "\u001b[32m[1118 15:57:26 @monitor.py:467]\u001b[0m GAN_loss/g_loss: -0.11723\n",
      "\u001b[32m[1118 15:57:26 @monitor.py:467]\u001b[0m GAN_loss/kl_div: 0.045477\n",
      "\u001b[32m[1118 15:57:26 @monitor.py:467]\u001b[0m QueueInput/queue_size: 50\n",
      "\u001b[32m[1118 15:57:26 @base.py:275]\u001b[0m Start Epoch 608 ...\n"
     ]
    },
    {
     "name": "stderr",
     "output_type": "stream",
     "text": [
      "\n",
      "100%|#####################################################################################|17/17[00:00<00:00,38.42it/s]"
     ]
    },
    {
     "name": "stdout",
     "output_type": "stream",
     "text": [
      "\u001b[32m[1118 15:57:27 @base.py:285]\u001b[0m Epoch 608 (global_step 15503) finished, time:0.443 second.\n",
      "\u001b[32m[1118 15:57:27 @saver.py:79]\u001b[0m Model saved to ../output/Chicago/TEST/model\\model-15503.\n",
      "\u001b[32m[1118 15:57:27 @monitor.py:467]\u001b[0m GAN_loss/d_loss: -0.031411\n",
      "\u001b[32m[1118 15:57:27 @monitor.py:467]\u001b[0m GAN_loss/g_loss: -0.11707\n",
      "\u001b[32m[1118 15:57:27 @monitor.py:467]\u001b[0m GAN_loss/kl_div: 0.047434\n",
      "\u001b[32m[1118 15:57:27 @monitor.py:467]\u001b[0m QueueInput/queue_size: 50\n",
      "\u001b[32m[1118 15:57:27 @base.py:275]\u001b[0m Start Epoch 609 ...\n"
     ]
    },
    {
     "name": "stderr",
     "output_type": "stream",
     "text": [
      "\n",
      "100%|#####################################################################################|17/17[00:00<00:00,36.97it/s]"
     ]
    },
    {
     "name": "stdout",
     "output_type": "stream",
     "text": [
      "\u001b[32m[1118 15:57:27 @base.py:285]\u001b[0m Epoch 609 (global_step 15529) finished, time:0.46 second.\n",
      "\u001b[32m[1118 15:57:27 @saver.py:79]\u001b[0m Model saved to ../output/Chicago/TEST/model\\model-15529.\n",
      "\u001b[32m[1118 15:57:27 @monitor.py:467]\u001b[0m GAN_loss/d_loss: -0.031576\n",
      "\u001b[32m[1118 15:57:27 @monitor.py:467]\u001b[0m GAN_loss/g_loss: -0.11772\n",
      "\u001b[32m[1118 15:57:27 @monitor.py:467]\u001b[0m GAN_loss/kl_div: 0.046958\n",
      "\u001b[32m[1118 15:57:27 @monitor.py:467]\u001b[0m QueueInput/queue_size: 50\n",
      "\u001b[32m[1118 15:57:27 @base.py:275]\u001b[0m Start Epoch 610 ...\n"
     ]
    },
    {
     "name": "stderr",
     "output_type": "stream",
     "text": [
      "\n",
      "100%|#####################################################################################|17/17[00:00<00:00,38.42it/s]"
     ]
    },
    {
     "name": "stdout",
     "output_type": "stream",
     "text": [
      "\u001b[32m[1118 15:57:28 @base.py:285]\u001b[0m Epoch 610 (global_step 15554) finished, time:0.443 second.\n",
      "\u001b[32m[1118 15:57:28 @saver.py:79]\u001b[0m Model saved to ../output/Chicago/TEST/model\\model-15554.\n",
      "\u001b[32m[1118 15:57:28 @monitor.py:467]\u001b[0m GAN_loss/d_loss: -0.031044\n",
      "\u001b[32m[1118 15:57:28 @monitor.py:467]\u001b[0m GAN_loss/g_loss: -0.11706\n",
      "\u001b[32m[1118 15:57:28 @monitor.py:467]\u001b[0m GAN_loss/kl_div: 0.047764\n",
      "\u001b[32m[1118 15:57:28 @monitor.py:467]\u001b[0m QueueInput/queue_size: 50\n",
      "\u001b[32m[1118 15:57:28 @base.py:275]\u001b[0m Start Epoch 611 ...\n"
     ]
    },
    {
     "name": "stderr",
     "output_type": "stream",
     "text": [
      "\n",
      "100%|#####################################################################################|17/17[00:00<00:00,37.01it/s]"
     ]
    },
    {
     "name": "stdout",
     "output_type": "stream",
     "text": [
      "\u001b[32m[1118 15:57:28 @base.py:285]\u001b[0m Epoch 611 (global_step 15580) finished, time:0.46 second.\n",
      "\u001b[32m[1118 15:57:29 @saver.py:79]\u001b[0m Model saved to ../output/Chicago/TEST/model\\model-15580.\n",
      "\u001b[32m[1118 15:57:29 @monitor.py:467]\u001b[0m GAN_loss/d_loss: -0.030818\n",
      "\u001b[32m[1118 15:57:29 @monitor.py:467]\u001b[0m GAN_loss/g_loss: -0.11655\n",
      "\u001b[32m[1118 15:57:29 @monitor.py:467]\u001b[0m GAN_loss/kl_div: 0.045318\n",
      "\u001b[32m[1118 15:57:29 @monitor.py:467]\u001b[0m QueueInput/queue_size: 50\n",
      "\u001b[32m[1118 15:57:29 @base.py:275]\u001b[0m Start Epoch 612 ...\n"
     ]
    },
    {
     "name": "stderr",
     "output_type": "stream",
     "text": [
      "\n",
      "100%|#####################################################################################|17/17[00:00<00:00,38.42it/s]"
     ]
    },
    {
     "name": "stdout",
     "output_type": "stream",
     "text": [
      "\u001b[32m[1118 15:57:29 @base.py:285]\u001b[0m Epoch 612 (global_step 15605) finished, time:0.443 second.\n",
      "\u001b[32m[1118 15:57:29 @saver.py:79]\u001b[0m Model saved to ../output/Chicago/TEST/model\\model-15605.\n",
      "\u001b[32m[1118 15:57:29 @monitor.py:467]\u001b[0m GAN_loss/d_loss: -0.030727\n",
      "\u001b[32m[1118 15:57:29 @monitor.py:467]\u001b[0m GAN_loss/g_loss: -0.1163\n",
      "\u001b[32m[1118 15:57:29 @monitor.py:467]\u001b[0m GAN_loss/kl_div: 0.046902\n",
      "\u001b[32m[1118 15:57:29 @monitor.py:467]\u001b[0m QueueInput/queue_size: 50\n",
      "\u001b[32m[1118 15:57:29 @base.py:275]\u001b[0m Start Epoch 613 ...\n"
     ]
    },
    {
     "name": "stderr",
     "output_type": "stream",
     "text": [
      "\n",
      "100%|#####################################################################################|17/17[00:00<00:00,37.17it/s]"
     ]
    },
    {
     "name": "stdout",
     "output_type": "stream",
     "text": [
      "\u001b[32m[1118 15:57:30 @base.py:285]\u001b[0m Epoch 613 (global_step 15631) finished, time:0.458 second.\n",
      "\u001b[32m[1118 15:57:30 @saver.py:79]\u001b[0m Model saved to ../output/Chicago/TEST/model\\model-15631.\n",
      "\u001b[32m[1118 15:57:30 @monitor.py:467]\u001b[0m GAN_loss/d_loss: -0.031544\n",
      "\u001b[32m[1118 15:57:30 @monitor.py:467]\u001b[0m GAN_loss/g_loss: -0.11588\n",
      "\u001b[32m[1118 15:57:30 @monitor.py:467]\u001b[0m GAN_loss/kl_div: 0.048008\n",
      "\u001b[32m[1118 15:57:30 @monitor.py:467]\u001b[0m QueueInput/queue_size: 50\n",
      "\u001b[32m[1118 15:57:30 @base.py:275]\u001b[0m Start Epoch 614 ...\n"
     ]
    },
    {
     "name": "stderr",
     "output_type": "stream",
     "text": [
      "\n",
      "100%|#####################################################################################|17/17[00:00<00:00,38.42it/s]"
     ]
    },
    {
     "name": "stdout",
     "output_type": "stream",
     "text": [
      "\u001b[32m[1118 15:57:30 @base.py:285]\u001b[0m Epoch 614 (global_step 15656) finished, time:0.443 second.\n",
      "\u001b[32m[1118 15:57:30 @saver.py:79]\u001b[0m Model saved to ../output/Chicago/TEST/model\\model-15656.\n",
      "\u001b[32m[1118 15:57:30 @monitor.py:467]\u001b[0m GAN_loss/d_loss: -0.031171\n",
      "\u001b[32m[1118 15:57:30 @monitor.py:467]\u001b[0m GAN_loss/g_loss: -0.11561\n",
      "\u001b[32m[1118 15:57:30 @monitor.py:467]\u001b[0m GAN_loss/kl_div: 0.047297\n",
      "\u001b[32m[1118 15:57:30 @monitor.py:467]\u001b[0m QueueInput/queue_size: 50\n",
      "\u001b[32m[1118 15:57:30 @base.py:275]\u001b[0m Start Epoch 615 ...\n"
     ]
    },
    {
     "name": "stderr",
     "output_type": "stream",
     "text": [
      "\n",
      "100%|#####################################################################################|17/17[00:00<00:00,37.05it/s]"
     ]
    },
    {
     "name": "stdout",
     "output_type": "stream",
     "text": [
      "\u001b[32m[1118 15:57:31 @base.py:285]\u001b[0m Epoch 615 (global_step 15682) finished, time:0.46 second.\n",
      "\u001b[32m[1118 15:57:31 @saver.py:79]\u001b[0m Model saved to ../output/Chicago/TEST/model\\model-15682.\n"
     ]
    },
    {
     "name": "stderr",
     "output_type": "stream",
     "text": [
      "\n"
     ]
    },
    {
     "name": "stdout",
     "output_type": "stream",
     "text": [
      "\u001b[32m[1118 15:57:31 @monitor.py:467]\u001b[0m GAN_loss/d_loss: -0.030854\n",
      "\u001b[32m[1118 15:57:31 @monitor.py:467]\u001b[0m GAN_loss/g_loss: -0.11519\n",
      "\u001b[32m[1118 15:57:31 @monitor.py:467]\u001b[0m GAN_loss/kl_div: 0.052004\n",
      "\u001b[32m[1118 15:57:31 @monitor.py:467]\u001b[0m QueueInput/queue_size: 50\n",
      "\u001b[32m[1118 15:57:31 @base.py:275]\u001b[0m Start Epoch 616 ...\n"
     ]
    },
    {
     "name": "stderr",
     "output_type": "stream",
     "text": [
      "100%|#####################################################################################|17/17[00:00<00:00,37.71it/s]"
     ]
    },
    {
     "name": "stdout",
     "output_type": "stream",
     "text": [
      "\u001b[32m[1118 15:57:31 @base.py:285]\u001b[0m Epoch 616 (global_step 15707) finished, time:0.452 second.\n",
      "\u001b[32m[1118 15:57:32 @saver.py:79]\u001b[0m Model saved to ../output/Chicago/TEST/model\\model-15707.\n",
      "\u001b[32m[1118 15:57:32 @monitor.py:467]\u001b[0m GAN_loss/d_loss: -0.031341\n",
      "\u001b[32m[1118 15:57:32 @monitor.py:467]\u001b[0m GAN_loss/g_loss: -0.11582\n",
      "\u001b[32m[1118 15:57:32 @monitor.py:467]\u001b[0m GAN_loss/kl_div: 0.048312\n",
      "\u001b[32m[1118 15:57:32 @monitor.py:467]\u001b[0m QueueInput/queue_size: 50\n",
      "\u001b[32m[1118 15:57:32 @base.py:275]\u001b[0m Start Epoch 617 ...\n"
     ]
    },
    {
     "name": "stderr",
     "output_type": "stream",
     "text": [
      "\n",
      "100%|#####################################################################################|17/17[00:00<00:00,37.09it/s]"
     ]
    },
    {
     "name": "stdout",
     "output_type": "stream",
     "text": [
      "\u001b[32m[1118 15:57:32 @base.py:285]\u001b[0m Epoch 617 (global_step 15733) finished, time:0.459 second.\n",
      "\u001b[32m[1118 15:57:32 @saver.py:79]\u001b[0m Model saved to ../output/Chicago/TEST/model\\model-15733.\n",
      "\u001b[32m[1118 15:57:32 @monitor.py:467]\u001b[0m GAN_loss/d_loss: -0.030946\n",
      "\u001b[32m[1118 15:57:32 @monitor.py:467]\u001b[0m GAN_loss/g_loss: -0.11562\n",
      "\u001b[32m[1118 15:57:32 @monitor.py:467]\u001b[0m GAN_loss/kl_div: 0.048366\n",
      "\u001b[32m[1118 15:57:32 @monitor.py:467]\u001b[0m QueueInput/queue_size: 50\n",
      "\u001b[32m[1118 15:57:32 @base.py:275]\u001b[0m Start Epoch 618 ...\n"
     ]
    },
    {
     "name": "stderr",
     "output_type": "stream",
     "text": [
      "\n",
      "100%|#####################################################################################|17/17[00:00<00:00,38.17it/s]"
     ]
    },
    {
     "name": "stdout",
     "output_type": "stream",
     "text": [
      "\u001b[32m[1118 15:57:33 @base.py:285]\u001b[0m Epoch 618 (global_step 15758) finished, time:0.446 second.\n",
      "\u001b[32m[1118 15:57:33 @saver.py:79]\u001b[0m Model saved to ../output/Chicago/TEST/model\\model-15758.\n",
      "\u001b[32m[1118 15:57:33 @monitor.py:467]\u001b[0m GAN_loss/d_loss: -0.031635\n",
      "\u001b[32m[1118 15:57:33 @monitor.py:467]\u001b[0m GAN_loss/g_loss: -0.11502\n",
      "\u001b[32m[1118 15:57:33 @monitor.py:467]\u001b[0m GAN_loss/kl_div: 0.047205\n",
      "\u001b[32m[1118 15:57:33 @monitor.py:467]\u001b[0m QueueInput/queue_size: 50\n",
      "\u001b[32m[1118 15:57:33 @base.py:275]\u001b[0m Start Epoch 619 ...\n"
     ]
    },
    {
     "name": "stderr",
     "output_type": "stream",
     "text": [
      "\n",
      "100%|#####################################################################################|17/17[00:00<00:00,36.85it/s]"
     ]
    },
    {
     "name": "stdout",
     "output_type": "stream",
     "text": [
      "\u001b[32m[1118 15:57:33 @base.py:285]\u001b[0m Epoch 619 (global_step 15784) finished, time:0.462 second.\n",
      "\u001b[32m[1118 15:57:33 @saver.py:79]\u001b[0m Model saved to ../output/Chicago/TEST/model\\model-15784.\n"
     ]
    },
    {
     "name": "stderr",
     "output_type": "stream",
     "text": [
      "\n"
     ]
    },
    {
     "name": "stdout",
     "output_type": "stream",
     "text": [
      "\u001b[32m[1118 15:57:33 @monitor.py:467]\u001b[0m GAN_loss/d_loss: -0.031961\n",
      "\u001b[32m[1118 15:57:33 @monitor.py:467]\u001b[0m GAN_loss/g_loss: -0.11546\n",
      "\u001b[32m[1118 15:57:33 @monitor.py:467]\u001b[0m GAN_loss/kl_div: 0.047529\n",
      "\u001b[32m[1118 15:57:33 @monitor.py:467]\u001b[0m QueueInput/queue_size: 50\n",
      "\u001b[32m[1118 15:57:33 @base.py:275]\u001b[0m Start Epoch 620 ...\n"
     ]
    },
    {
     "name": "stderr",
     "output_type": "stream",
     "text": [
      "100%|#####################################################################################|17/17[00:00<00:00,38.12it/s]"
     ]
    },
    {
     "name": "stdout",
     "output_type": "stream",
     "text": [
      "\u001b[32m[1118 15:57:34 @base.py:285]\u001b[0m Epoch 620 (global_step 15809) finished, time:0.446 second.\n",
      "\u001b[32m[1118 15:57:34 @saver.py:79]\u001b[0m Model saved to ../output/Chicago/TEST/model\\model-15809.\n",
      "\u001b[32m[1118 15:57:34 @monitor.py:467]\u001b[0m GAN_loss/d_loss: -0.029889\n",
      "\u001b[32m[1118 15:57:34 @monitor.py:467]\u001b[0m GAN_loss/g_loss: -0.11706\n",
      "\u001b[32m[1118 15:57:34 @monitor.py:467]\u001b[0m GAN_loss/kl_div: 0.045425\n",
      "\u001b[32m[1118 15:57:34 @monitor.py:467]\u001b[0m QueueInput/queue_size: 50\n",
      "\u001b[32m[1118 15:57:34 @base.py:275]\u001b[0m Start Epoch 621 ...\n"
     ]
    },
    {
     "name": "stderr",
     "output_type": "stream",
     "text": [
      "\n",
      "100%|#####################################################################################|17/17[00:00<00:00,36.58it/s]"
     ]
    },
    {
     "name": "stdout",
     "output_type": "stream",
     "text": [
      "\u001b[32m[1118 15:57:35 @base.py:285]\u001b[0m Epoch 621 (global_step 15835) finished, time:0.465 second.\n",
      "\u001b[32m[1118 15:57:35 @saver.py:79]\u001b[0m Model saved to ../output/Chicago/TEST/model\\model-15835.\n",
      "\u001b[32m[1118 15:57:35 @monitor.py:467]\u001b[0m GAN_loss/d_loss: -0.030991\n",
      "\u001b[32m[1118 15:57:35 @monitor.py:467]\u001b[0m GAN_loss/g_loss: -0.11635\n",
      "\u001b[32m[1118 15:57:35 @monitor.py:467]\u001b[0m GAN_loss/kl_div: 0.046649\n",
      "\u001b[32m[1118 15:57:35 @monitor.py:467]\u001b[0m QueueInput/queue_size: 50\n",
      "\u001b[32m[1118 15:57:35 @base.py:275]\u001b[0m Start Epoch 622 ...\n"
     ]
    },
    {
     "name": "stderr",
     "output_type": "stream",
     "text": [
      "\n",
      "100%|#####################################################################################|17/17[00:00<00:00,38.25it/s]"
     ]
    },
    {
     "name": "stdout",
     "output_type": "stream",
     "text": [
      "\u001b[32m[1118 15:57:35 @base.py:285]\u001b[0m Epoch 622 (global_step 15860) finished, time:0.445 second.\n",
      "\u001b[32m[1118 15:57:35 @saver.py:79]\u001b[0m Model saved to ../output/Chicago/TEST/model\\model-15860.\n",
      "\u001b[32m[1118 15:57:35 @monitor.py:467]\u001b[0m GAN_loss/d_loss: -0.031256\n",
      "\u001b[32m[1118 15:57:35 @monitor.py:467]\u001b[0m GAN_loss/g_loss: -0.11621\n",
      "\u001b[32m[1118 15:57:35 @monitor.py:467]\u001b[0m GAN_loss/kl_div: 0.050018\n",
      "\u001b[32m[1118 15:57:35 @monitor.py:467]\u001b[0m QueueInput/queue_size: 50\n",
      "\u001b[32m[1118 15:57:35 @base.py:275]\u001b[0m Start Epoch 623 ...\n"
     ]
    },
    {
     "name": "stderr",
     "output_type": "stream",
     "text": [
      "\n",
      "100%|#####################################################################################|17/17[00:00<00:00,37.13it/s]"
     ]
    },
    {
     "name": "stdout",
     "output_type": "stream",
     "text": [
      "\u001b[32m[1118 15:57:36 @base.py:285]\u001b[0m Epoch 623 (global_step 15886) finished, time:0.458 second.\n",
      "\u001b[32m[1118 15:57:36 @saver.py:79]\u001b[0m Model saved to ../output/Chicago/TEST/model\\model-15886.\n",
      "\u001b[32m[1118 15:57:36 @monitor.py:467]\u001b[0m GAN_loss/d_loss: -0.031105\n",
      "\u001b[32m[1118 15:57:36 @monitor.py:467]\u001b[0m GAN_loss/g_loss: -0.11729\n",
      "\u001b[32m[1118 15:57:36 @monitor.py:467]\u001b[0m GAN_loss/kl_div: 0.04918\n",
      "\u001b[32m[1118 15:57:36 @monitor.py:467]\u001b[0m QueueInput/queue_size: 50\n",
      "\u001b[32m[1118 15:57:36 @base.py:275]\u001b[0m Start Epoch 624 ...\n"
     ]
    },
    {
     "name": "stderr",
     "output_type": "stream",
     "text": [
      "\n",
      "100%|#####################################################################################|17/17[00:00<00:00,38.42it/s]"
     ]
    },
    {
     "name": "stdout",
     "output_type": "stream",
     "text": [
      "\u001b[32m[1118 15:57:36 @base.py:285]\u001b[0m Epoch 624 (global_step 15911) finished, time:0.443 second.\n",
      "\u001b[32m[1118 15:57:37 @saver.py:79]\u001b[0m Model saved to ../output/Chicago/TEST/model\\model-15911.\n",
      "\u001b[32m[1118 15:57:37 @monitor.py:467]\u001b[0m GAN_loss/d_loss: -0.029997\n",
      "\u001b[32m[1118 15:57:37 @monitor.py:467]\u001b[0m GAN_loss/g_loss: -0.11724\n",
      "\u001b[32m[1118 15:57:37 @monitor.py:467]\u001b[0m GAN_loss/kl_div: 0.049192\n",
      "\u001b[32m[1118 15:57:37 @monitor.py:467]\u001b[0m QueueInput/queue_size: 50\n",
      "\u001b[32m[1118 15:57:37 @base.py:275]\u001b[0m Start Epoch 625 ...\n"
     ]
    },
    {
     "name": "stderr",
     "output_type": "stream",
     "text": [
      "\n",
      "100%|#####################################################################################|17/17[00:00<00:00,37.01it/s]"
     ]
    },
    {
     "name": "stdout",
     "output_type": "stream",
     "text": [
      "\u001b[32m[1118 15:57:37 @base.py:285]\u001b[0m Epoch 625 (global_step 15937) finished, time:0.46 second.\n",
      "\u001b[32m[1118 15:57:37 @saver.py:79]\u001b[0m Model saved to ../output/Chicago/TEST/model\\model-15937.\n",
      "\u001b[32m[1118 15:57:37 @monitor.py:467]\u001b[0m GAN_loss/d_loss: -0.030682\n",
      "\u001b[32m[1118 15:57:37 @monitor.py:467]\u001b[0m GAN_loss/g_loss: -0.11752\n",
      "\u001b[32m[1118 15:57:37 @monitor.py:467]\u001b[0m GAN_loss/kl_div: 0.046512\n",
      "\u001b[32m[1118 15:57:37 @monitor.py:467]\u001b[0m QueueInput/queue_size: 50\n",
      "\u001b[32m[1118 15:57:37 @base.py:275]\u001b[0m Start Epoch 626 ...\n"
     ]
    },
    {
     "name": "stderr",
     "output_type": "stream",
     "text": [
      "\n",
      "100%|#####################################################################################|17/17[00:00<00:00,38.12it/s]"
     ]
    },
    {
     "name": "stdout",
     "output_type": "stream",
     "text": [
      "\u001b[32m[1118 15:57:38 @base.py:285]\u001b[0m Epoch 626 (global_step 15962) finished, time:0.446 second.\n",
      "\u001b[32m[1118 15:57:38 @saver.py:79]\u001b[0m Model saved to ../output/Chicago/TEST/model\\model-15962.\n",
      "\u001b[32m[1118 15:57:38 @monitor.py:467]\u001b[0m GAN_loss/d_loss: -0.028863\n",
      "\u001b[32m[1118 15:57:38 @monitor.py:467]\u001b[0m GAN_loss/g_loss: -0.11817\n",
      "\u001b[32m[1118 15:57:38 @monitor.py:467]\u001b[0m GAN_loss/kl_div: 0.049108\n",
      "\u001b[32m[1118 15:57:38 @monitor.py:467]\u001b[0m QueueInput/queue_size: 50\n",
      "\u001b[32m[1118 15:57:38 @base.py:275]\u001b[0m Start Epoch 627 ...\n"
     ]
    },
    {
     "name": "stderr",
     "output_type": "stream",
     "text": [
      "\n",
      "100%|#####################################################################################|17/17[00:00<00:00,37.13it/s]"
     ]
    },
    {
     "name": "stdout",
     "output_type": "stream",
     "text": [
      "\u001b[32m[1118 15:57:38 @base.py:285]\u001b[0m Epoch 627 (global_step 15988) finished, time:0.458 second.\n",
      "\u001b[32m[1118 15:57:38 @saver.py:79]\u001b[0m Model saved to ../output/Chicago/TEST/model\\model-15988.\n",
      "\u001b[32m[1118 15:57:38 @monitor.py:467]\u001b[0m GAN_loss/d_loss: -0.02999\n",
      "\u001b[32m[1118 15:57:38 @monitor.py:467]\u001b[0m GAN_loss/g_loss: -0.11682\n",
      "\u001b[32m[1118 15:57:38 @monitor.py:467]\u001b[0m GAN_loss/kl_div: 0.04905\n",
      "\u001b[32m[1118 15:57:38 @monitor.py:467]\u001b[0m QueueInput/queue_size: 50\n",
      "\u001b[32m[1118 15:57:38 @base.py:275]\u001b[0m Start Epoch 628 ...\n"
     ]
    },
    {
     "name": "stderr",
     "output_type": "stream",
     "text": [
      "\n",
      "100%|#####################################################################################|17/17[00:00<00:00,38.38it/s]"
     ]
    },
    {
     "name": "stdout",
     "output_type": "stream",
     "text": [
      "\u001b[32m[1118 15:57:39 @base.py:285]\u001b[0m Epoch 628 (global_step 16013) finished, time:0.443 second.\n",
      "\u001b[32m[1118 15:57:39 @saver.py:79]\u001b[0m Model saved to ../output/Chicago/TEST/model\\model-16013.\n",
      "\u001b[32m[1118 15:57:39 @monitor.py:467]\u001b[0m GAN_loss/d_loss: -0.029952\n",
      "\u001b[32m[1118 15:57:39 @monitor.py:467]\u001b[0m GAN_loss/g_loss: -0.11627\n",
      "\u001b[32m[1118 15:57:39 @monitor.py:467]\u001b[0m GAN_loss/kl_div: 0.047565\n",
      "\u001b[32m[1118 15:57:39 @monitor.py:467]\u001b[0m QueueInput/queue_size: 50\n",
      "\u001b[32m[1118 15:57:39 @base.py:275]\u001b[0m Start Epoch 629 ...\n"
     ]
    },
    {
     "name": "stderr",
     "output_type": "stream",
     "text": [
      "\n",
      "100%|#####################################################################################|17/17[00:00<00:00,37.05it/s]"
     ]
    },
    {
     "name": "stdout",
     "output_type": "stream",
     "text": [
      "\u001b[32m[1118 15:57:39 @base.py:285]\u001b[0m Epoch 629 (global_step 16039) finished, time:0.459 second.\n",
      "\u001b[32m[1118 15:57:40 @saver.py:79]\u001b[0m Model saved to ../output/Chicago/TEST/model\\model-16039.\n",
      "\u001b[32m[1118 15:57:40 @monitor.py:467]\u001b[0m GAN_loss/d_loss: -0.031186\n",
      "\u001b[32m[1118 15:57:40 @monitor.py:467]\u001b[0m GAN_loss/g_loss: -0.11674\n",
      "\u001b[32m[1118 15:57:40 @monitor.py:467]\u001b[0m GAN_loss/kl_div: 0.047002\n",
      "\u001b[32m[1118 15:57:40 @monitor.py:467]\u001b[0m QueueInput/queue_size: 50\n",
      "\u001b[32m[1118 15:57:40 @base.py:275]\u001b[0m Start Epoch 630 ...\n"
     ]
    },
    {
     "name": "stderr",
     "output_type": "stream",
     "text": [
      "\n",
      "100%|#####################################################################################|17/17[00:00<00:00,38.21it/s]"
     ]
    },
    {
     "name": "stdout",
     "output_type": "stream",
     "text": [
      "\u001b[32m[1118 15:57:40 @base.py:285]\u001b[0m Epoch 630 (global_step 16064) finished, time:0.446 second.\n",
      "\u001b[32m[1118 15:57:40 @saver.py:79]\u001b[0m Model saved to ../output/Chicago/TEST/model\\model-16064.\n",
      "\u001b[32m[1118 15:57:40 @monitor.py:467]\u001b[0m GAN_loss/d_loss: -0.030269\n",
      "\u001b[32m[1118 15:57:40 @monitor.py:467]\u001b[0m GAN_loss/g_loss: -0.11758\n",
      "\u001b[32m[1118 15:57:40 @monitor.py:467]\u001b[0m GAN_loss/kl_div: 0.049733\n",
      "\u001b[32m[1118 15:57:40 @monitor.py:467]\u001b[0m QueueInput/queue_size: 50\n",
      "\u001b[32m[1118 15:57:40 @base.py:275]\u001b[0m Start Epoch 631 ...\n"
     ]
    },
    {
     "name": "stderr",
     "output_type": "stream",
     "text": [
      "\n",
      "100%|#####################################################################################|17/17[00:00<00:00,36.81it/s]"
     ]
    },
    {
     "name": "stdout",
     "output_type": "stream",
     "text": [
      "\u001b[32m[1118 15:57:41 @base.py:285]\u001b[0m Epoch 631 (global_step 16090) finished, time:0.462 second.\n",
      "\u001b[32m[1118 15:57:41 @saver.py:79]\u001b[0m Model saved to ../output/Chicago/TEST/model\\model-16090.\n",
      "\u001b[32m[1118 15:57:41 @monitor.py:467]\u001b[0m GAN_loss/d_loss: -0.029688\n",
      "\u001b[32m[1118 15:57:41 @monitor.py:467]\u001b[0m GAN_loss/g_loss: -0.11714\n",
      "\u001b[32m[1118 15:57:41 @monitor.py:467]\u001b[0m GAN_loss/kl_div: 0.048848\n",
      "\u001b[32m[1118 15:57:41 @monitor.py:467]\u001b[0m QueueInput/queue_size: 50\n",
      "\u001b[32m[1118 15:57:41 @base.py:275]\u001b[0m Start Epoch 632 ...\n"
     ]
    },
    {
     "name": "stderr",
     "output_type": "stream",
     "text": [
      "\n",
      "100%|#####################################################################################|17/17[00:00<00:00,38.17it/s]"
     ]
    },
    {
     "name": "stdout",
     "output_type": "stream",
     "text": [
      "\u001b[32m[1118 15:57:41 @base.py:285]\u001b[0m Epoch 632 (global_step 16115) finished, time:0.446 second.\n",
      "\u001b[32m[1118 15:57:41 @saver.py:79]\u001b[0m Model saved to ../output/Chicago/TEST/model\\model-16115.\n",
      "\u001b[32m[1118 15:57:41 @monitor.py:467]\u001b[0m GAN_loss/d_loss: -0.030294\n",
      "\u001b[32m[1118 15:57:41 @monitor.py:467]\u001b[0m GAN_loss/g_loss: -0.11614\n",
      "\u001b[32m[1118 15:57:41 @monitor.py:467]\u001b[0m GAN_loss/kl_div: 0.04938\n",
      "\u001b[32m[1118 15:57:41 @monitor.py:467]\u001b[0m QueueInput/queue_size: 50\n",
      "\u001b[32m[1118 15:57:41 @base.py:275]\u001b[0m Start Epoch 633 ...\n"
     ]
    },
    {
     "name": "stderr",
     "output_type": "stream",
     "text": [
      "\n",
      "100%|#####################################################################################|17/17[00:00<00:00,37.13it/s]"
     ]
    },
    {
     "name": "stdout",
     "output_type": "stream",
     "text": [
      "\u001b[32m[1118 15:57:42 @base.py:285]\u001b[0m Epoch 633 (global_step 16141) finished, time:0.458 second.\n",
      "\u001b[32m[1118 15:57:42 @saver.py:79]\u001b[0m Model saved to ../output/Chicago/TEST/model\\model-16141.\n",
      "\u001b[32m[1118 15:57:42 @monitor.py:467]\u001b[0m GAN_loss/d_loss: -0.031054\n",
      "\u001b[32m[1118 15:57:42 @monitor.py:467]\u001b[0m GAN_loss/g_loss: -0.11599\n",
      "\u001b[32m[1118 15:57:42 @monitor.py:467]\u001b[0m GAN_loss/kl_div: 0.047774\n",
      "\u001b[32m[1118 15:57:42 @monitor.py:467]\u001b[0m QueueInput/queue_size: 50\n",
      "\u001b[32m[1118 15:57:42 @base.py:275]\u001b[0m Start Epoch 634 ...\n"
     ]
    },
    {
     "name": "stderr",
     "output_type": "stream",
     "text": [
      "\n",
      "100%|#####################################################################################|17/17[00:00<00:00,38.30it/s]"
     ]
    },
    {
     "name": "stdout",
     "output_type": "stream",
     "text": [
      "\u001b[32m[1118 15:57:43 @base.py:285]\u001b[0m Epoch 634 (global_step 16166) finished, time:0.444 second.\n",
      "\u001b[32m[1118 15:57:43 @saver.py:79]\u001b[0m Model saved to ../output/Chicago/TEST/model\\model-16166.\n",
      "\u001b[32m[1118 15:57:43 @monitor.py:467]\u001b[0m GAN_loss/d_loss: -0.029834\n",
      "\u001b[32m[1118 15:57:43 @monitor.py:467]\u001b[0m GAN_loss/g_loss: -0.11724\n",
      "\u001b[32m[1118 15:57:43 @monitor.py:467]\u001b[0m GAN_loss/kl_div: 0.048974\n",
      "\u001b[32m[1118 15:57:43 @monitor.py:467]\u001b[0m QueueInput/queue_size: 50\n",
      "\u001b[32m[1118 15:57:43 @base.py:275]\u001b[0m Start Epoch 635 ...\n"
     ]
    },
    {
     "name": "stderr",
     "output_type": "stream",
     "text": [
      "\n",
      "100%|#####################################################################################|17/17[00:00<00:00,37.09it/s]"
     ]
    },
    {
     "name": "stdout",
     "output_type": "stream",
     "text": [
      "\u001b[32m[1118 15:57:43 @base.py:285]\u001b[0m Epoch 635 (global_step 16192) finished, time:0.459 second.\n",
      "\u001b[32m[1118 15:57:43 @saver.py:79]\u001b[0m Model saved to ../output/Chicago/TEST/model\\model-16192.\n",
      "\u001b[32m[1118 15:57:43 @monitor.py:467]\u001b[0m GAN_loss/d_loss: -0.030668\n",
      "\u001b[32m[1118 15:57:43 @monitor.py:467]\u001b[0m GAN_loss/g_loss: -0.1176\n",
      "\u001b[32m[1118 15:57:43 @monitor.py:467]\u001b[0m GAN_loss/kl_div: 0.047475\n",
      "\u001b[32m[1118 15:57:43 @monitor.py:467]\u001b[0m QueueInput/queue_size: 50\n",
      "\u001b[32m[1118 15:57:43 @base.py:275]\u001b[0m Start Epoch 636 ...\n"
     ]
    },
    {
     "name": "stderr",
     "output_type": "stream",
     "text": [
      "\n",
      "100%|#####################################################################################|17/17[00:00<00:00,38.34it/s]"
     ]
    },
    {
     "name": "stdout",
     "output_type": "stream",
     "text": [
      "\u001b[32m[1118 15:57:44 @base.py:285]\u001b[0m Epoch 636 (global_step 16217) finished, time:0.444 second.\n",
      "\u001b[32m[1118 15:57:44 @saver.py:79]\u001b[0m Model saved to ../output/Chicago/TEST/model\\model-16217.\n",
      "\u001b[32m[1118 15:57:44 @monitor.py:467]\u001b[0m GAN_loss/d_loss: -0.030136\n",
      "\u001b[32m[1118 15:57:44 @monitor.py:467]\u001b[0m GAN_loss/g_loss: -0.11682\n",
      "\u001b[32m[1118 15:57:44 @monitor.py:467]\u001b[0m GAN_loss/kl_div: 0.048483\n",
      "\u001b[32m[1118 15:57:44 @monitor.py:467]\u001b[0m QueueInput/queue_size: 50\n",
      "\u001b[32m[1118 15:57:44 @base.py:275]\u001b[0m Start Epoch 637 ...\n"
     ]
    },
    {
     "name": "stderr",
     "output_type": "stream",
     "text": [
      "\n",
      "100%|#####################################################################################|17/17[00:00<00:00,36.97it/s]"
     ]
    },
    {
     "name": "stdout",
     "output_type": "stream",
     "text": [
      "\u001b[32m[1118 15:57:44 @base.py:285]\u001b[0m Epoch 637 (global_step 16243) finished, time:0.46 second.\n",
      "\u001b[32m[1118 15:57:44 @saver.py:79]\u001b[0m Model saved to ../output/Chicago/TEST/model\\model-16243.\n",
      "\u001b[32m[1118 15:57:45 @monitor.py:467]\u001b[0m GAN_loss/d_loss: -0.029732\n",
      "\u001b[32m[1118 15:57:45 @monitor.py:467]\u001b[0m GAN_loss/g_loss: -0.11778\n",
      "\u001b[32m[1118 15:57:45 @monitor.py:467]\u001b[0m GAN_loss/kl_div: 0.049532\n",
      "\u001b[32m[1118 15:57:45 @monitor.py:467]\u001b[0m QueueInput/queue_size: 50\n",
      "\u001b[32m[1118 15:57:45 @base.py:275]\u001b[0m Start Epoch 638 ...\n"
     ]
    },
    {
     "name": "stderr",
     "output_type": "stream",
     "text": [
      "\n",
      "100%|#####################################################################################|17/17[00:00<00:00,38.38it/s]"
     ]
    },
    {
     "name": "stdout",
     "output_type": "stream",
     "text": [
      "\u001b[32m[1118 15:57:45 @base.py:285]\u001b[0m Epoch 638 (global_step 16268) finished, time:0.444 second.\n",
      "\u001b[32m[1118 15:57:45 @saver.py:79]\u001b[0m Model saved to ../output/Chicago/TEST/model\\model-16268.\n",
      "\u001b[32m[1118 15:57:45 @monitor.py:467]\u001b[0m GAN_loss/d_loss: -0.030321\n",
      "\u001b[32m[1118 15:57:45 @monitor.py:467]\u001b[0m GAN_loss/g_loss: -0.11818\n",
      "\u001b[32m[1118 15:57:45 @monitor.py:467]\u001b[0m GAN_loss/kl_div: 0.046447\n",
      "\u001b[32m[1118 15:57:45 @monitor.py:467]\u001b[0m QueueInput/queue_size: 50\n",
      "\u001b[32m[1118 15:57:45 @base.py:275]\u001b[0m Start Epoch 639 ...\n"
     ]
    },
    {
     "name": "stderr",
     "output_type": "stream",
     "text": [
      "\n",
      "100%|#####################################################################################|17/17[00:00<00:00,37.05it/s]"
     ]
    },
    {
     "name": "stdout",
     "output_type": "stream",
     "text": [
      "\u001b[32m[1118 15:57:46 @base.py:285]\u001b[0m Epoch 639 (global_step 16294) finished, time:0.459 second.\n",
      "\u001b[32m[1118 15:57:46 @saver.py:79]\u001b[0m Model saved to ../output/Chicago/TEST/model\\model-16294.\n",
      "\u001b[32m[1118 15:57:46 @monitor.py:467]\u001b[0m GAN_loss/d_loss: -0.030042\n",
      "\u001b[32m[1118 15:57:46 @monitor.py:467]\u001b[0m GAN_loss/g_loss: -0.11839\n",
      "\u001b[32m[1118 15:57:46 @monitor.py:467]\u001b[0m GAN_loss/kl_div: 0.047286\n",
      "\u001b[32m[1118 15:57:46 @monitor.py:467]\u001b[0m QueueInput/queue_size: 50\n",
      "\u001b[32m[1118 15:57:46 @base.py:275]\u001b[0m Start Epoch 640 ...\n"
     ]
    },
    {
     "name": "stderr",
     "output_type": "stream",
     "text": [
      "\n",
      "100%|#####################################################################################|17/17[00:00<00:00,38.30it/s]"
     ]
    },
    {
     "name": "stdout",
     "output_type": "stream",
     "text": [
      "\u001b[32m[1118 15:57:46 @base.py:285]\u001b[0m Epoch 640 (global_step 16319) finished, time:0.444 second.\n",
      "\u001b[32m[1118 15:57:46 @saver.py:79]\u001b[0m Model saved to ../output/Chicago/TEST/model\\model-16319.\n",
      "\u001b[32m[1118 15:57:46 @monitor.py:467]\u001b[0m GAN_loss/d_loss: -0.030401\n",
      "\u001b[32m[1118 15:57:46 @monitor.py:467]\u001b[0m GAN_loss/g_loss: -0.11851\n",
      "\u001b[32m[1118 15:57:46 @monitor.py:467]\u001b[0m GAN_loss/kl_div: 0.049693\n",
      "\u001b[32m[1118 15:57:46 @monitor.py:467]\u001b[0m QueueInput/queue_size: 50\n",
      "\u001b[32m[1118 15:57:46 @base.py:275]\u001b[0m Start Epoch 641 ...\n"
     ]
    },
    {
     "name": "stderr",
     "output_type": "stream",
     "text": [
      "\n",
      "100%|#####################################################################################|17/17[00:00<00:00,37.13it/s]"
     ]
    },
    {
     "name": "stdout",
     "output_type": "stream",
     "text": [
      "\u001b[32m[1118 15:57:47 @base.py:285]\u001b[0m Epoch 641 (global_step 16345) finished, time:0.458 second.\n",
      "\u001b[32m[1118 15:57:47 @saver.py:79]\u001b[0m Model saved to ../output/Chicago/TEST/model\\model-16345.\n",
      "\u001b[32m[1118 15:57:47 @monitor.py:467]\u001b[0m GAN_loss/d_loss: -0.029558\n",
      "\u001b[32m[1118 15:57:47 @monitor.py:467]\u001b[0m GAN_loss/g_loss: -0.11916\n",
      "\u001b[32m[1118 15:57:47 @monitor.py:467]\u001b[0m GAN_loss/kl_div: 0.048957\n",
      "\u001b[32m[1118 15:57:47 @monitor.py:467]\u001b[0m QueueInput/queue_size: 50\n",
      "\u001b[32m[1118 15:57:47 @base.py:275]\u001b[0m Start Epoch 642 ...\n"
     ]
    },
    {
     "name": "stderr",
     "output_type": "stream",
     "text": [
      "\n",
      "100%|#####################################################################################|17/17[00:00<00:00,38.17it/s]"
     ]
    },
    {
     "name": "stdout",
     "output_type": "stream",
     "text": [
      "\u001b[32m[1118 15:57:47 @base.py:285]\u001b[0m Epoch 642 (global_step 16370) finished, time:0.446 second.\n",
      "\u001b[32m[1118 15:57:48 @saver.py:79]\u001b[0m Model saved to ../output/Chicago/TEST/model\\model-16370.\n",
      "\u001b[32m[1118 15:57:48 @monitor.py:467]\u001b[0m GAN_loss/d_loss: -0.028903\n",
      "\u001b[32m[1118 15:57:48 @monitor.py:467]\u001b[0m GAN_loss/g_loss: -0.11882\n",
      "\u001b[32m[1118 15:57:48 @monitor.py:467]\u001b[0m GAN_loss/kl_div: 0.048852\n",
      "\u001b[32m[1118 15:57:48 @monitor.py:467]\u001b[0m QueueInput/queue_size: 50\n",
      "\u001b[32m[1118 15:57:48 @base.py:275]\u001b[0m Start Epoch 643 ...\n"
     ]
    },
    {
     "name": "stderr",
     "output_type": "stream",
     "text": [
      "\n",
      "100%|#####################################################################################|17/17[00:00<00:00,37.13it/s]"
     ]
    },
    {
     "name": "stdout",
     "output_type": "stream",
     "text": [
      "\u001b[32m[1118 15:57:48 @base.py:285]\u001b[0m Epoch 643 (global_step 16396) finished, time:0.458 second.\n",
      "\u001b[32m[1118 15:57:48 @saver.py:79]\u001b[0m Model saved to ../output/Chicago/TEST/model\\model-16396.\n",
      "\u001b[32m[1118 15:57:48 @monitor.py:467]\u001b[0m GAN_loss/d_loss: -0.029333\n",
      "\u001b[32m[1118 15:57:48 @monitor.py:467]\u001b[0m GAN_loss/g_loss: -0.11813\n",
      "\u001b[32m[1118 15:57:48 @monitor.py:467]\u001b[0m GAN_loss/kl_div: 0.04852\n",
      "\u001b[32m[1118 15:57:48 @monitor.py:467]\u001b[0m QueueInput/queue_size: 50\n",
      "\u001b[32m[1118 15:57:48 @base.py:275]\u001b[0m Start Epoch 644 ...\n"
     ]
    },
    {
     "name": "stderr",
     "output_type": "stream",
     "text": [
      "\n",
      "100%|#####################################################################################|17/17[00:00<00:00,38.25it/s]"
     ]
    },
    {
     "name": "stdout",
     "output_type": "stream",
     "text": [
      "\u001b[32m[1118 15:57:49 @base.py:285]\u001b[0m Epoch 644 (global_step 16421) finished, time:0.445 second.\n",
      "\u001b[32m[1118 15:57:49 @saver.py:79]\u001b[0m Model saved to ../output/Chicago/TEST/model\\model-16421.\n",
      "\u001b[32m[1118 15:57:49 @monitor.py:467]\u001b[0m GAN_loss/d_loss: -0.029108\n",
      "\u001b[32m[1118 15:57:49 @monitor.py:467]\u001b[0m GAN_loss/g_loss: -0.11795\n",
      "\u001b[32m[1118 15:57:49 @monitor.py:467]\u001b[0m GAN_loss/kl_div: 0.05082\n",
      "\u001b[32m[1118 15:57:49 @monitor.py:467]\u001b[0m QueueInput/queue_size: 50\n",
      "\u001b[32m[1118 15:57:49 @base.py:275]\u001b[0m Start Epoch 645 ...\n"
     ]
    },
    {
     "name": "stderr",
     "output_type": "stream",
     "text": [
      "\n",
      "100%|#####################################################################################|17/17[00:00<00:00,37.05it/s]"
     ]
    },
    {
     "name": "stdout",
     "output_type": "stream",
     "text": [
      "\u001b[32m[1118 15:57:49 @base.py:285]\u001b[0m Epoch 645 (global_step 16447) finished, time:0.459 second.\n",
      "\u001b[32m[1118 15:57:49 @saver.py:79]\u001b[0m Model saved to ../output/Chicago/TEST/model\\model-16447.\n",
      "\u001b[32m[1118 15:57:49 @monitor.py:467]\u001b[0m GAN_loss/d_loss: -0.028641\n",
      "\u001b[32m[1118 15:57:49 @monitor.py:467]\u001b[0m GAN_loss/g_loss: -0.11905\n",
      "\u001b[32m[1118 15:57:49 @monitor.py:467]\u001b[0m GAN_loss/kl_div: 0.049429\n",
      "\u001b[32m[1118 15:57:49 @monitor.py:467]\u001b[0m QueueInput/queue_size: 50\n",
      "\u001b[32m[1118 15:57:49 @base.py:275]\u001b[0m Start Epoch 646 ...\n"
     ]
    },
    {
     "name": "stderr",
     "output_type": "stream",
     "text": [
      "\n",
      "100%|#####################################################################################|17/17[00:00<00:00,38.17it/s]"
     ]
    },
    {
     "name": "stdout",
     "output_type": "stream",
     "text": [
      "\u001b[32m[1118 15:57:50 @base.py:285]\u001b[0m Epoch 646 (global_step 16472) finished, time:0.446 second.\n",
      "\u001b[32m[1118 15:57:50 @saver.py:79]\u001b[0m Model saved to ../output/Chicago/TEST/model\\model-16472.\n",
      "\u001b[32m[1118 15:57:50 @monitor.py:467]\u001b[0m GAN_loss/d_loss: -0.030347\n",
      "\u001b[32m[1118 15:57:50 @monitor.py:467]\u001b[0m GAN_loss/g_loss: -0.11839\n",
      "\u001b[32m[1118 15:57:50 @monitor.py:467]\u001b[0m GAN_loss/kl_div: 0.045189\n",
      "\u001b[32m[1118 15:57:50 @monitor.py:467]\u001b[0m QueueInput/queue_size: 50\n",
      "\u001b[32m[1118 15:57:50 @base.py:275]\u001b[0m Start Epoch 647 ...\n"
     ]
    },
    {
     "name": "stderr",
     "output_type": "stream",
     "text": [
      "\n",
      "100%|#####################################################################################|17/17[00:00<00:00,36.89it/s]"
     ]
    },
    {
     "name": "stdout",
     "output_type": "stream",
     "text": [
      "\u001b[32m[1118 15:57:50 @base.py:285]\u001b[0m Epoch 647 (global_step 16498) finished, time:0.461 second.\n",
      "\u001b[32m[1118 15:57:51 @saver.py:79]\u001b[0m Model saved to ../output/Chicago/TEST/model\\model-16498.\n",
      "\u001b[32m[1118 15:57:51 @monitor.py:467]\u001b[0m GAN_loss/d_loss: -0.029547\n",
      "\u001b[32m[1118 15:57:51 @monitor.py:467]\u001b[0m GAN_loss/g_loss: -0.11805\n",
      "\u001b[32m[1118 15:57:51 @monitor.py:467]\u001b[0m GAN_loss/kl_div: 0.050687\n",
      "\u001b[32m[1118 15:57:51 @monitor.py:467]\u001b[0m QueueInput/queue_size: 50\n",
      "\u001b[32m[1118 15:57:51 @base.py:275]\u001b[0m Start Epoch 648 ...\n"
     ]
    },
    {
     "name": "stderr",
     "output_type": "stream",
     "text": [
      "\n",
      "100%|#####################################################################################|17/17[00:00<00:00,38.30it/s]"
     ]
    },
    {
     "name": "stdout",
     "output_type": "stream",
     "text": [
      "\u001b[32m[1118 15:57:51 @base.py:285]\u001b[0m Epoch 648 (global_step 16523) finished, time:0.445 second.\n",
      "\u001b[32m[1118 15:57:51 @saver.py:79]\u001b[0m Model saved to ../output/Chicago/TEST/model\\model-16523.\n",
      "\u001b[32m[1118 15:57:51 @monitor.py:467]\u001b[0m GAN_loss/d_loss: -0.028276\n",
      "\u001b[32m[1118 15:57:51 @monitor.py:467]\u001b[0m GAN_loss/g_loss: -0.11889\n",
      "\u001b[32m[1118 15:57:51 @monitor.py:467]\u001b[0m GAN_loss/kl_div: 0.047673\n",
      "\u001b[32m[1118 15:57:51 @monitor.py:467]\u001b[0m QueueInput/queue_size: 50\n",
      "\u001b[32m[1118 15:57:51 @base.py:275]\u001b[0m Start Epoch 649 ...\n"
     ]
    },
    {
     "name": "stderr",
     "output_type": "stream",
     "text": [
      "\n",
      "100%|#####################################################################################|17/17[00:00<00:00,36.97it/s]"
     ]
    },
    {
     "name": "stdout",
     "output_type": "stream",
     "text": [
      "\u001b[32m[1118 15:57:52 @base.py:285]\u001b[0m Epoch 649 (global_step 16549) finished, time:0.46 second.\n",
      "\u001b[32m[1118 15:57:52 @saver.py:79]\u001b[0m Model saved to ../output/Chicago/TEST/model\\model-16549.\n",
      "\u001b[32m[1118 15:57:52 @monitor.py:467]\u001b[0m GAN_loss/d_loss: -0.029113\n",
      "\u001b[32m[1118 15:57:52 @monitor.py:467]\u001b[0m GAN_loss/g_loss: -0.11774\n",
      "\u001b[32m[1118 15:57:52 @monitor.py:467]\u001b[0m GAN_loss/kl_div: 0.049788\n",
      "\u001b[32m[1118 15:57:52 @monitor.py:467]\u001b[0m QueueInput/queue_size: 50\n",
      "\u001b[32m[1118 15:57:52 @base.py:275]\u001b[0m Start Epoch 650 ...\n"
     ]
    },
    {
     "name": "stderr",
     "output_type": "stream",
     "text": [
      "\n",
      "100%|#####################################################################################|17/17[00:00<00:00,38.38it/s]"
     ]
    },
    {
     "name": "stdout",
     "output_type": "stream",
     "text": [
      "\u001b[32m[1118 15:57:52 @base.py:285]\u001b[0m Epoch 650 (global_step 16574) finished, time:0.444 second.\n",
      "\u001b[32m[1118 15:57:52 @saver.py:79]\u001b[0m Model saved to ../output/Chicago/TEST/model\\model-16574.\n",
      "\u001b[32m[1118 15:57:52 @monitor.py:467]\u001b[0m GAN_loss/d_loss: -0.028707\n",
      "\u001b[32m[1118 15:57:52 @monitor.py:467]\u001b[0m GAN_loss/g_loss: -0.1181\n",
      "\u001b[32m[1118 15:57:52 @monitor.py:467]\u001b[0m GAN_loss/kl_div: 0.048212\n",
      "\u001b[32m[1118 15:57:52 @monitor.py:467]\u001b[0m QueueInput/queue_size: 50\n",
      "\u001b[32m[1118 15:57:52 @base.py:275]\u001b[0m Start Epoch 651 ...\n"
     ]
    },
    {
     "name": "stderr",
     "output_type": "stream",
     "text": [
      "\n",
      "100%|#####################################################################################|17/17[00:00<00:00,37.21it/s]"
     ]
    },
    {
     "name": "stdout",
     "output_type": "stream",
     "text": [
      "\u001b[32m[1118 15:57:53 @base.py:285]\u001b[0m Epoch 651 (global_step 16600) finished, time:0.457 second.\n",
      "\u001b[32m[1118 15:57:53 @saver.py:79]\u001b[0m Model saved to ../output/Chicago/TEST/model\\model-16600.\n",
      "\u001b[32m[1118 15:57:53 @monitor.py:467]\u001b[0m GAN_loss/d_loss: -0.029203\n",
      "\u001b[32m[1118 15:57:53 @monitor.py:467]\u001b[0m GAN_loss/g_loss: -0.11681\n",
      "\u001b[32m[1118 15:57:53 @monitor.py:467]\u001b[0m GAN_loss/kl_div: 0.049196\n",
      "\u001b[32m[1118 15:57:53 @monitor.py:467]\u001b[0m QueueInput/queue_size: 50\n",
      "\u001b[32m[1118 15:57:53 @base.py:275]\u001b[0m Start Epoch 652 ...\n"
     ]
    },
    {
     "name": "stderr",
     "output_type": "stream",
     "text": [
      "\n",
      "100%|#####################################################################################|17/17[00:00<00:00,38.21it/s]"
     ]
    },
    {
     "name": "stdout",
     "output_type": "stream",
     "text": [
      "\u001b[32m[1118 15:57:54 @base.py:285]\u001b[0m Epoch 652 (global_step 16625) finished, time:0.446 second.\n",
      "\u001b[32m[1118 15:57:54 @saver.py:79]\u001b[0m Model saved to ../output/Chicago/TEST/model\\model-16625.\n",
      "\u001b[32m[1118 15:57:54 @monitor.py:467]\u001b[0m GAN_loss/d_loss: -0.029305\n",
      "\u001b[32m[1118 15:57:54 @monitor.py:467]\u001b[0m GAN_loss/g_loss: -0.11804\n",
      "\u001b[32m[1118 15:57:54 @monitor.py:467]\u001b[0m GAN_loss/kl_div: 0.050475\n",
      "\u001b[32m[1118 15:57:54 @monitor.py:467]\u001b[0m QueueInput/queue_size: 50\n",
      "\u001b[32m[1118 15:57:54 @base.py:275]\u001b[0m Start Epoch 653 ...\n"
     ]
    },
    {
     "name": "stderr",
     "output_type": "stream",
     "text": [
      "\n",
      "100%|#####################################################################################|17/17[00:00<00:00,37.13it/s]"
     ]
    },
    {
     "name": "stdout",
     "output_type": "stream",
     "text": [
      "\u001b[32m[1118 15:57:54 @base.py:285]\u001b[0m Epoch 653 (global_step 16651) finished, time:0.459 second.\n",
      "\u001b[32m[1118 15:57:54 @saver.py:79]\u001b[0m Model saved to ../output/Chicago/TEST/model\\model-16651.\n",
      "\u001b[32m[1118 15:57:54 @monitor.py:467]\u001b[0m GAN_loss/d_loss: -0.030575\n",
      "\u001b[32m[1118 15:57:54 @monitor.py:467]\u001b[0m GAN_loss/g_loss: -0.11843\n",
      "\u001b[32m[1118 15:57:54 @monitor.py:467]\u001b[0m GAN_loss/kl_div: 0.047363\n",
      "\u001b[32m[1118 15:57:54 @monitor.py:467]\u001b[0m QueueInput/queue_size: 50\n",
      "\u001b[32m[1118 15:57:54 @base.py:275]\u001b[0m Start Epoch 654 ...\n"
     ]
    },
    {
     "name": "stderr",
     "output_type": "stream",
     "text": [
      "\n",
      "100%|#####################################################################################|17/17[00:00<00:00,38.12it/s]"
     ]
    },
    {
     "name": "stdout",
     "output_type": "stream",
     "text": [
      "\u001b[32m[1118 15:57:55 @base.py:285]\u001b[0m Epoch 654 (global_step 16676) finished, time:0.446 second.\n",
      "\u001b[32m[1118 15:57:55 @saver.py:79]\u001b[0m Model saved to ../output/Chicago/TEST/model\\model-16676.\n",
      "\u001b[32m[1118 15:57:55 @monitor.py:467]\u001b[0m GAN_loss/d_loss: -0.029319\n",
      "\u001b[32m[1118 15:57:55 @monitor.py:467]\u001b[0m GAN_loss/g_loss: -0.11948\n",
      "\u001b[32m[1118 15:57:55 @monitor.py:467]\u001b[0m GAN_loss/kl_div: 0.047712\n",
      "\u001b[32m[1118 15:57:55 @monitor.py:467]\u001b[0m QueueInput/queue_size: 50\n",
      "\u001b[32m[1118 15:57:55 @base.py:275]\u001b[0m Start Epoch 655 ...\n"
     ]
    },
    {
     "name": "stderr",
     "output_type": "stream",
     "text": [
      "\n",
      "100%|#####################################################################################|17/17[00:00<00:00,36.93it/s]"
     ]
    },
    {
     "name": "stdout",
     "output_type": "stream",
     "text": [
      "\u001b[32m[1118 15:57:55 @base.py:285]\u001b[0m Epoch 655 (global_step 16702) finished, time:0.461 second.\n",
      "\u001b[32m[1118 15:57:56 @saver.py:79]\u001b[0m Model saved to ../output/Chicago/TEST/model\\model-16702.\n",
      "\u001b[32m[1118 15:57:56 @monitor.py:467]\u001b[0m GAN_loss/d_loss: -0.028541\n",
      "\u001b[32m[1118 15:57:56 @monitor.py:467]\u001b[0m GAN_loss/g_loss: -0.1186\n",
      "\u001b[32m[1118 15:57:56 @monitor.py:467]\u001b[0m GAN_loss/kl_div: 0.046623\n",
      "\u001b[32m[1118 15:57:56 @monitor.py:467]\u001b[0m QueueInput/queue_size: 50\n",
      "\u001b[32m[1118 15:57:56 @base.py:275]\u001b[0m Start Epoch 656 ...\n"
     ]
    },
    {
     "name": "stderr",
     "output_type": "stream",
     "text": [
      "\n",
      "100%|#####################################################################################|17/17[00:00<00:00,38.30it/s]"
     ]
    },
    {
     "name": "stdout",
     "output_type": "stream",
     "text": [
      "\u001b[32m[1118 15:57:56 @base.py:285]\u001b[0m Epoch 656 (global_step 16727) finished, time:0.444 second.\n",
      "\u001b[32m[1118 15:57:56 @saver.py:79]\u001b[0m Model saved to ../output/Chicago/TEST/model\\model-16727.\n",
      "\u001b[32m[1118 15:57:56 @monitor.py:467]\u001b[0m GAN_loss/d_loss: -0.029533\n",
      "\u001b[32m[1118 15:57:56 @monitor.py:467]\u001b[0m GAN_loss/g_loss: -0.1175\n",
      "\u001b[32m[1118 15:57:56 @monitor.py:467]\u001b[0m GAN_loss/kl_div: 0.047918\n",
      "\u001b[32m[1118 15:57:56 @monitor.py:467]\u001b[0m QueueInput/queue_size: 50\n",
      "\u001b[32m[1118 15:57:56 @base.py:275]\u001b[0m Start Epoch 657 ...\n"
     ]
    },
    {
     "name": "stderr",
     "output_type": "stream",
     "text": [
      "\n",
      "100%|#####################################################################################|17/17[00:00<00:00,36.96it/s]"
     ]
    },
    {
     "name": "stdout",
     "output_type": "stream",
     "text": [
      "\u001b[32m[1118 15:57:57 @base.py:285]\u001b[0m Epoch 657 (global_step 16753) finished, time:0.461 second.\n",
      "\u001b[32m[1118 15:57:57 @saver.py:79]\u001b[0m Model saved to ../output/Chicago/TEST/model\\model-16753.\n",
      "\u001b[32m[1118 15:57:57 @monitor.py:467]\u001b[0m GAN_loss/d_loss: -0.029609\n",
      "\u001b[32m[1118 15:57:57 @monitor.py:467]\u001b[0m GAN_loss/g_loss: -0.11829\n",
      "\u001b[32m[1118 15:57:57 @monitor.py:467]\u001b[0m GAN_loss/kl_div: 0.047026\n",
      "\u001b[32m[1118 15:57:57 @monitor.py:467]\u001b[0m QueueInput/queue_size: 50\n",
      "\u001b[32m[1118 15:57:57 @base.py:275]\u001b[0m Start Epoch 658 ...\n"
     ]
    },
    {
     "name": "stderr",
     "output_type": "stream",
     "text": [
      "\n",
      "100%|#####################################################################################|17/17[00:00<00:00,38.25it/s]"
     ]
    },
    {
     "name": "stdout",
     "output_type": "stream",
     "text": [
      "\u001b[32m[1118 15:57:57 @base.py:285]\u001b[0m Epoch 658 (global_step 16778) finished, time:0.445 second.\n",
      "\u001b[32m[1118 15:57:57 @saver.py:79]\u001b[0m Model saved to ../output/Chicago/TEST/model\\model-16778.\n",
      "\u001b[32m[1118 15:57:57 @monitor.py:467]\u001b[0m GAN_loss/d_loss: -0.029033\n",
      "\u001b[32m[1118 15:57:57 @monitor.py:467]\u001b[0m GAN_loss/g_loss: -0.1186\n",
      "\u001b[32m[1118 15:57:57 @monitor.py:467]\u001b[0m GAN_loss/kl_div: 0.049387\n",
      "\u001b[32m[1118 15:57:57 @monitor.py:467]\u001b[0m QueueInput/queue_size: 50\n",
      "\u001b[32m[1118 15:57:57 @base.py:275]\u001b[0m Start Epoch 659 ...\n"
     ]
    },
    {
     "name": "stderr",
     "output_type": "stream",
     "text": [
      "\n",
      "100%|#####################################################################################|17/17[00:00<00:00,36.89it/s]"
     ]
    },
    {
     "name": "stdout",
     "output_type": "stream",
     "text": [
      "\u001b[32m[1118 15:57:58 @base.py:285]\u001b[0m Epoch 659 (global_step 16804) finished, time:0.461 second.\n",
      "\u001b[32m[1118 15:57:58 @saver.py:79]\u001b[0m Model saved to ../output/Chicago/TEST/model\\model-16804.\n",
      "\u001b[32m[1118 15:57:58 @monitor.py:467]\u001b[0m GAN_loss/d_loss: -0.027527\n",
      "\u001b[32m[1118 15:57:58 @monitor.py:467]\u001b[0m GAN_loss/g_loss: -0.11917\n",
      "\u001b[32m[1118 15:57:58 @monitor.py:467]\u001b[0m GAN_loss/kl_div: 0.047661\n",
      "\u001b[32m[1118 15:57:58 @monitor.py:467]\u001b[0m QueueInput/queue_size: 50\n",
      "\u001b[32m[1118 15:57:58 @base.py:275]\u001b[0m Start Epoch 660 ...\n"
     ]
    },
    {
     "name": "stderr",
     "output_type": "stream",
     "text": [
      "\n",
      "100%|#####################################################################################|17/17[00:00<00:00,38.38it/s]"
     ]
    },
    {
     "name": "stdout",
     "output_type": "stream",
     "text": [
      "\u001b[32m[1118 15:57:58 @base.py:285]\u001b[0m Epoch 660 (global_step 16829) finished, time:0.443 second.\n",
      "\u001b[32m[1118 15:57:59 @saver.py:79]\u001b[0m Model saved to ../output/Chicago/TEST/model\\model-16829.\n",
      "\u001b[32m[1118 15:57:59 @monitor.py:467]\u001b[0m GAN_loss/d_loss: -0.028855\n",
      "\u001b[32m[1118 15:57:59 @monitor.py:467]\u001b[0m GAN_loss/g_loss: -0.11885\n",
      "\u001b[32m[1118 15:57:59 @monitor.py:467]\u001b[0m GAN_loss/kl_div: 0.047904\n",
      "\u001b[32m[1118 15:57:59 @monitor.py:467]\u001b[0m QueueInput/queue_size: 50\n",
      "\u001b[32m[1118 15:57:59 @base.py:275]\u001b[0m Start Epoch 661 ...\n"
     ]
    },
    {
     "name": "stderr",
     "output_type": "stream",
     "text": [
      "\n",
      "100%|#####################################################################################|17/17[00:00<00:00,37.17it/s]"
     ]
    },
    {
     "name": "stdout",
     "output_type": "stream",
     "text": [
      "\u001b[32m[1118 15:57:59 @base.py:285]\u001b[0m Epoch 661 (global_step 16855) finished, time:0.458 second.\n",
      "\u001b[32m[1118 15:57:59 @saver.py:79]\u001b[0m Model saved to ../output/Chicago/TEST/model\\model-16855.\n",
      "\u001b[32m[1118 15:57:59 @monitor.py:467]\u001b[0m GAN_loss/d_loss: -0.029816\n",
      "\u001b[32m[1118 15:57:59 @monitor.py:467]\u001b[0m GAN_loss/g_loss: -0.11859\n",
      "\u001b[32m[1118 15:57:59 @monitor.py:467]\u001b[0m GAN_loss/kl_div: 0.049099\n",
      "\u001b[32m[1118 15:57:59 @monitor.py:467]\u001b[0m QueueInput/queue_size: 50\n",
      "\u001b[32m[1118 15:57:59 @base.py:275]\u001b[0m Start Epoch 662 ...\n"
     ]
    },
    {
     "name": "stderr",
     "output_type": "stream",
     "text": [
      "\n",
      "100%|#####################################################################################|17/17[00:00<00:00,38.08it/s]"
     ]
    },
    {
     "name": "stdout",
     "output_type": "stream",
     "text": [
      "\u001b[32m[1118 15:58:00 @base.py:285]\u001b[0m Epoch 662 (global_step 16880) finished, time:0.447 second.\n",
      "\u001b[32m[1118 15:58:00 @saver.py:79]\u001b[0m Model saved to ../output/Chicago/TEST/model\\model-16880.\n",
      "\u001b[32m[1118 15:58:00 @monitor.py:467]\u001b[0m GAN_loss/d_loss: -0.027823\n",
      "\u001b[32m[1118 15:58:00 @monitor.py:467]\u001b[0m GAN_loss/g_loss: -0.11852\n",
      "\u001b[32m[1118 15:58:00 @monitor.py:467]\u001b[0m GAN_loss/kl_div: 0.046401\n",
      "\u001b[32m[1118 15:58:00 @monitor.py:467]\u001b[0m QueueInput/queue_size: 50\n",
      "\u001b[32m[1118 15:58:00 @base.py:275]\u001b[0m Start Epoch 663 ...\n"
     ]
    },
    {
     "name": "stderr",
     "output_type": "stream",
     "text": [
      "\n",
      "100%|#####################################################################################|17/17[00:00<00:00,36.97it/s]"
     ]
    },
    {
     "name": "stdout",
     "output_type": "stream",
     "text": [
      "\u001b[32m[1118 15:58:00 @base.py:285]\u001b[0m Epoch 663 (global_step 16906) finished, time:0.46 second.\n",
      "\u001b[32m[1118 15:58:00 @saver.py:79]\u001b[0m Model saved to ../output/Chicago/TEST/model\\model-16906.\n",
      "\u001b[32m[1118 15:58:00 @monitor.py:467]\u001b[0m GAN_loss/d_loss: -0.028192\n",
      "\u001b[32m[1118 15:58:00 @monitor.py:467]\u001b[0m GAN_loss/g_loss: -0.12005\n",
      "\u001b[32m[1118 15:58:00 @monitor.py:467]\u001b[0m GAN_loss/kl_div: 0.046138\n",
      "\u001b[32m[1118 15:58:00 @monitor.py:467]\u001b[0m QueueInput/queue_size: 50\n",
      "\u001b[32m[1118 15:58:00 @base.py:275]\u001b[0m Start Epoch 664 ...\n"
     ]
    },
    {
     "name": "stderr",
     "output_type": "stream",
     "text": [
      "\n",
      "100%|#####################################################################################|17/17[00:00<00:00,38.47it/s]"
     ]
    },
    {
     "name": "stdout",
     "output_type": "stream",
     "text": [
      "\u001b[32m[1118 15:58:01 @base.py:285]\u001b[0m Epoch 664 (global_step 16931) finished, time:0.442 second.\n",
      "\u001b[32m[1118 15:58:01 @saver.py:79]\u001b[0m Model saved to ../output/Chicago/TEST/model\\model-16931.\n"
     ]
    },
    {
     "name": "stderr",
     "output_type": "stream",
     "text": [
      "\n"
     ]
    },
    {
     "name": "stdout",
     "output_type": "stream",
     "text": [
      "\u001b[32m[1118 15:58:01 @monitor.py:467]\u001b[0m GAN_loss/d_loss: -0.029428\n",
      "\u001b[32m[1118 15:58:01 @monitor.py:467]\u001b[0m GAN_loss/g_loss: -0.11913\n",
      "\u001b[32m[1118 15:58:01 @monitor.py:467]\u001b[0m GAN_loss/kl_div: 0.047307\n",
      "\u001b[32m[1118 15:58:01 @monitor.py:467]\u001b[0m QueueInput/queue_size: 50\n",
      "\u001b[32m[1118 15:58:01 @base.py:275]\u001b[0m Start Epoch 665 ...\n"
     ]
    },
    {
     "name": "stderr",
     "output_type": "stream",
     "text": [
      "100%|#####################################################################################|17/17[00:00<00:00,37.01it/s]"
     ]
    },
    {
     "name": "stdout",
     "output_type": "stream",
     "text": [
      "\u001b[32m[1118 15:58:02 @base.py:285]\u001b[0m Epoch 665 (global_step 16957) finished, time:0.46 second.\n",
      "\u001b[32m[1118 15:58:02 @saver.py:79]\u001b[0m Model saved to ../output/Chicago/TEST/model\\model-16957.\n",
      "\u001b[32m[1118 15:58:02 @monitor.py:467]\u001b[0m GAN_loss/d_loss: -0.028114\n",
      "\u001b[32m[1118 15:58:02 @monitor.py:467]\u001b[0m GAN_loss/g_loss: -0.12004\n",
      "\u001b[32m[1118 15:58:02 @monitor.py:467]\u001b[0m GAN_loss/kl_div: 0.045217\n",
      "\u001b[32m[1118 15:58:02 @monitor.py:467]\u001b[0m QueueInput/queue_size: 50\n",
      "\u001b[32m[1118 15:58:02 @base.py:275]\u001b[0m Start Epoch 666 ...\n"
     ]
    },
    {
     "name": "stderr",
     "output_type": "stream",
     "text": [
      "\n",
      "100%|#####################################################################################|17/17[00:00<00:00,38.17it/s]"
     ]
    },
    {
     "name": "stdout",
     "output_type": "stream",
     "text": [
      "\u001b[32m[1118 15:58:02 @base.py:285]\u001b[0m Epoch 666 (global_step 16982) finished, time:0.446 second.\n",
      "\u001b[32m[1118 15:58:02 @saver.py:79]\u001b[0m Model saved to ../output/Chicago/TEST/model\\model-16982.\n",
      "\u001b[32m[1118 15:58:02 @monitor.py:467]\u001b[0m GAN_loss/d_loss: -0.028556\n",
      "\u001b[32m[1118 15:58:02 @monitor.py:467]\u001b[0m GAN_loss/g_loss: -0.11978\n",
      "\u001b[32m[1118 15:58:02 @monitor.py:467]\u001b[0m GAN_loss/kl_div: 0.048403\n",
      "\u001b[32m[1118 15:58:02 @monitor.py:467]\u001b[0m QueueInput/queue_size: 50\n",
      "\u001b[32m[1118 15:58:02 @base.py:275]\u001b[0m Start Epoch 667 ...\n"
     ]
    },
    {
     "name": "stderr",
     "output_type": "stream",
     "text": [
      "\n",
      "100%|#####################################################################################|17/17[00:00<00:00,37.05it/s]"
     ]
    },
    {
     "name": "stdout",
     "output_type": "stream",
     "text": [
      "\u001b[32m[1118 15:58:03 @base.py:285]\u001b[0m Epoch 667 (global_step 17008) finished, time:0.459 second.\n",
      "\u001b[32m[1118 15:58:03 @saver.py:79]\u001b[0m Model saved to ../output/Chicago/TEST/model\\model-17008.\n",
      "\u001b[32m[1118 15:58:03 @monitor.py:467]\u001b[0m GAN_loss/d_loss: -0.028449\n",
      "\u001b[32m[1118 15:58:03 @monitor.py:467]\u001b[0m GAN_loss/g_loss: -0.12027\n",
      "\u001b[32m[1118 15:58:03 @monitor.py:467]\u001b[0m GAN_loss/kl_div: 0.047839\n",
      "\u001b[32m[1118 15:58:03 @monitor.py:467]\u001b[0m QueueInput/queue_size: 50\n",
      "\u001b[32m[1118 15:58:03 @base.py:275]\u001b[0m Start Epoch 668 ...\n"
     ]
    },
    {
     "name": "stderr",
     "output_type": "stream",
     "text": [
      "\n",
      "100%|#####################################################################################|17/17[00:00<00:00,38.42it/s]"
     ]
    },
    {
     "name": "stdout",
     "output_type": "stream",
     "text": [
      "\u001b[32m[1118 15:58:03 @base.py:285]\u001b[0m Epoch 668 (global_step 17033) finished, time:0.443 second.\n",
      "\u001b[32m[1118 15:58:03 @saver.py:79]\u001b[0m Model saved to ../output/Chicago/TEST/model\\model-17033.\n",
      "\u001b[32m[1118 15:58:04 @monitor.py:467]\u001b[0m GAN_loss/d_loss: -0.029308\n",
      "\u001b[32m[1118 15:58:04 @monitor.py:467]\u001b[0m GAN_loss/g_loss: -0.12028\n",
      "\u001b[32m[1118 15:58:04 @monitor.py:467]\u001b[0m GAN_loss/kl_div: 0.050694\n",
      "\u001b[32m[1118 15:58:04 @monitor.py:467]\u001b[0m QueueInput/queue_size: 50\n",
      "\u001b[32m[1118 15:58:04 @base.py:275]\u001b[0m Start Epoch 669 ...\n"
     ]
    },
    {
     "name": "stderr",
     "output_type": "stream",
     "text": [
      "\n",
      "100%|#####################################################################################|17/17[00:00<00:00,37.25it/s]"
     ]
    },
    {
     "name": "stdout",
     "output_type": "stream",
     "text": [
      "\u001b[32m[1118 15:58:04 @base.py:285]\u001b[0m Epoch 669 (global_step 17059) finished, time:0.457 second.\n",
      "\u001b[32m[1118 15:58:04 @saver.py:79]\u001b[0m Model saved to ../output/Chicago/TEST/model\\model-17059.\n",
      "\u001b[32m[1118 15:58:04 @monitor.py:467]\u001b[0m GAN_loss/d_loss: -0.028686\n",
      "\u001b[32m[1118 15:58:04 @monitor.py:467]\u001b[0m GAN_loss/g_loss: -0.12053\n",
      "\u001b[32m[1118 15:58:04 @monitor.py:467]\u001b[0m GAN_loss/kl_div: 0.049741\n",
      "\u001b[32m[1118 15:58:04 @monitor.py:467]\u001b[0m QueueInput/queue_size: 50\n",
      "\u001b[32m[1118 15:58:04 @base.py:275]\u001b[0m Start Epoch 670 ...\n"
     ]
    },
    {
     "name": "stderr",
     "output_type": "stream",
     "text": [
      "\n",
      "100%|#####################################################################################|17/17[00:00<00:00,38.38it/s]"
     ]
    },
    {
     "name": "stdout",
     "output_type": "stream",
     "text": [
      "\u001b[32m[1118 15:58:05 @base.py:285]\u001b[0m Epoch 670 (global_step 17084) finished, time:0.443 second.\n",
      "\u001b[32m[1118 15:58:05 @saver.py:79]\u001b[0m Model saved to ../output/Chicago/TEST/model\\model-17084.\n",
      "\u001b[32m[1118 15:58:05 @monitor.py:467]\u001b[0m GAN_loss/d_loss: -0.028035\n",
      "\u001b[32m[1118 15:58:05 @monitor.py:467]\u001b[0m GAN_loss/g_loss: -0.12083\n",
      "\u001b[32m[1118 15:58:05 @monitor.py:467]\u001b[0m GAN_loss/kl_div: 0.049126\n",
      "\u001b[32m[1118 15:58:05 @monitor.py:467]\u001b[0m QueueInput/queue_size: 50\n",
      "\u001b[32m[1118 15:58:05 @base.py:275]\u001b[0m Start Epoch 671 ...\n"
     ]
    },
    {
     "name": "stderr",
     "output_type": "stream",
     "text": [
      "\n",
      "100%|#####################################################################################|17/17[00:00<00:00,37.05it/s]"
     ]
    },
    {
     "name": "stdout",
     "output_type": "stream",
     "text": [
      "\u001b[32m[1118 15:58:05 @base.py:285]\u001b[0m Epoch 671 (global_step 17110) finished, time:0.459 second.\n",
      "\u001b[32m[1118 15:58:05 @saver.py:79]\u001b[0m Model saved to ../output/Chicago/TEST/model\\model-17110.\n",
      "\u001b[32m[1118 15:58:05 @monitor.py:467]\u001b[0m GAN_loss/d_loss: -0.029392\n",
      "\u001b[32m[1118 15:58:05 @monitor.py:467]\u001b[0m GAN_loss/g_loss: -0.11973\n",
      "\u001b[32m[1118 15:58:05 @monitor.py:467]\u001b[0m GAN_loss/kl_div: 0.050128\n",
      "\u001b[32m[1118 15:58:05 @monitor.py:467]\u001b[0m QueueInput/queue_size: 50\n",
      "\u001b[32m[1118 15:58:05 @base.py:275]\u001b[0m Start Epoch 672 ...\n"
     ]
    },
    {
     "name": "stderr",
     "output_type": "stream",
     "text": [
      "\n",
      "100%|#####################################################################################|17/17[00:00<00:00,38.30it/s]"
     ]
    },
    {
     "name": "stdout",
     "output_type": "stream",
     "text": [
      "\u001b[32m[1118 15:58:06 @base.py:285]\u001b[0m Epoch 672 (global_step 17135) finished, time:0.445 second.\n",
      "\u001b[32m[1118 15:58:06 @saver.py:79]\u001b[0m Model saved to ../output/Chicago/TEST/model\\model-17135.\n",
      "\u001b[32m[1118 15:58:06 @monitor.py:467]\u001b[0m GAN_loss/d_loss: -0.029504\n",
      "\u001b[32m[1118 15:58:06 @monitor.py:467]\u001b[0m GAN_loss/g_loss: -0.12019\n",
      "\u001b[32m[1118 15:58:06 @monitor.py:467]\u001b[0m GAN_loss/kl_div: 0.050198\n",
      "\u001b[32m[1118 15:58:06 @monitor.py:467]\u001b[0m QueueInput/queue_size: 50\n",
      "\u001b[32m[1118 15:58:06 @base.py:275]\u001b[0m Start Epoch 673 ...\n"
     ]
    },
    {
     "name": "stderr",
     "output_type": "stream",
     "text": [
      "\n",
      "100%|#####################################################################################|17/17[00:00<00:00,37.21it/s]"
     ]
    },
    {
     "name": "stdout",
     "output_type": "stream",
     "text": [
      "\u001b[32m[1118 15:58:06 @base.py:285]\u001b[0m Epoch 673 (global_step 17161) finished, time:0.457 second.\n",
      "\u001b[32m[1118 15:58:07 @saver.py:79]\u001b[0m Model saved to ../output/Chicago/TEST/model\\model-17161.\n",
      "\u001b[32m[1118 15:58:07 @monitor.py:467]\u001b[0m GAN_loss/d_loss: -0.02776\n",
      "\u001b[32m[1118 15:58:07 @monitor.py:467]\u001b[0m GAN_loss/g_loss: -0.12204\n",
      "\u001b[32m[1118 15:58:07 @monitor.py:467]\u001b[0m GAN_loss/kl_div: 0.049769\n",
      "\u001b[32m[1118 15:58:07 @monitor.py:467]\u001b[0m QueueInput/queue_size: 50\n",
      "\u001b[32m[1118 15:58:07 @base.py:275]\u001b[0m Start Epoch 674 ...\n"
     ]
    },
    {
     "name": "stderr",
     "output_type": "stream",
     "text": [
      "\n",
      "100%|#####################################################################################|17/17[00:00<00:00,38.12it/s]"
     ]
    },
    {
     "name": "stdout",
     "output_type": "stream",
     "text": [
      "\u001b[32m[1118 15:58:07 @base.py:285]\u001b[0m Epoch 674 (global_step 17186) finished, time:0.446 second.\n",
      "\u001b[32m[1118 15:58:07 @saver.py:79]\u001b[0m Model saved to ../output/Chicago/TEST/model\\model-17186.\n",
      "\u001b[32m[1118 15:58:07 @monitor.py:467]\u001b[0m GAN_loss/d_loss: -0.028656\n",
      "\u001b[32m[1118 15:58:07 @monitor.py:467]\u001b[0m GAN_loss/g_loss: -0.12213\n",
      "\u001b[32m[1118 15:58:07 @monitor.py:467]\u001b[0m GAN_loss/kl_div: 0.048807\n",
      "\u001b[32m[1118 15:58:07 @monitor.py:467]\u001b[0m QueueInput/queue_size: 50\n",
      "\u001b[32m[1118 15:58:07 @base.py:275]\u001b[0m Start Epoch 675 ...\n"
     ]
    },
    {
     "name": "stderr",
     "output_type": "stream",
     "text": [
      "\n",
      "100%|#####################################################################################|17/17[00:00<00:00,37.05it/s]"
     ]
    },
    {
     "name": "stdout",
     "output_type": "stream",
     "text": [
      "\u001b[32m[1118 15:58:08 @base.py:285]\u001b[0m Epoch 675 (global_step 17212) finished, time:0.459 second.\n",
      "\u001b[32m[1118 15:58:08 @saver.py:79]\u001b[0m Model saved to ../output/Chicago/TEST/model\\model-17212.\n",
      "\u001b[32m[1118 15:58:08 @monitor.py:467]\u001b[0m GAN_loss/d_loss: -0.027461\n",
      "\u001b[32m[1118 15:58:08 @monitor.py:467]\u001b[0m GAN_loss/g_loss: -0.12179\n",
      "\u001b[32m[1118 15:58:08 @monitor.py:467]\u001b[0m GAN_loss/kl_div: 0.050203\n",
      "\u001b[32m[1118 15:58:08 @monitor.py:467]\u001b[0m QueueInput/queue_size: 50\n",
      "\u001b[32m[1118 15:58:08 @base.py:275]\u001b[0m Start Epoch 676 ...\n"
     ]
    },
    {
     "name": "stderr",
     "output_type": "stream",
     "text": [
      "\n",
      "100%|#####################################################################################|17/17[00:00<00:00,38.30it/s]"
     ]
    },
    {
     "name": "stdout",
     "output_type": "stream",
     "text": [
      "\u001b[32m[1118 15:58:08 @base.py:285]\u001b[0m Epoch 676 (global_step 17237) finished, time:0.445 second.\n",
      "\u001b[32m[1118 15:58:08 @saver.py:79]\u001b[0m Model saved to ../output/Chicago/TEST/model\\model-17237.\n",
      "\u001b[32m[1118 15:58:08 @monitor.py:467]\u001b[0m GAN_loss/d_loss: -0.027828\n",
      "\u001b[32m[1118 15:58:08 @monitor.py:467]\u001b[0m GAN_loss/g_loss: -0.1215\n",
      "\u001b[32m[1118 15:58:08 @monitor.py:467]\u001b[0m GAN_loss/kl_div: 0.050224\n",
      "\u001b[32m[1118 15:58:08 @monitor.py:467]\u001b[0m QueueInput/queue_size: 50\n",
      "\u001b[32m[1118 15:58:08 @base.py:275]\u001b[0m Start Epoch 677 ...\n"
     ]
    },
    {
     "name": "stderr",
     "output_type": "stream",
     "text": [
      "\n",
      "100%|#####################################################################################|17/17[00:00<00:00,37.01it/s]"
     ]
    },
    {
     "name": "stdout",
     "output_type": "stream",
     "text": [
      "\u001b[32m[1118 15:58:09 @base.py:285]\u001b[0m Epoch 677 (global_step 17263) finished, time:0.46 second.\n",
      "\u001b[32m[1118 15:58:09 @saver.py:79]\u001b[0m Model saved to ../output/Chicago/TEST/model\\model-17263.\n",
      "\u001b[32m[1118 15:58:09 @monitor.py:467]\u001b[0m GAN_loss/d_loss: -0.028279\n",
      "\u001b[32m[1118 15:58:09 @monitor.py:467]\u001b[0m GAN_loss/g_loss: -0.12063\n",
      "\u001b[32m[1118 15:58:09 @monitor.py:467]\u001b[0m GAN_loss/kl_div: 0.050557\n",
      "\u001b[32m[1118 15:58:09 @monitor.py:467]\u001b[0m QueueInput/queue_size: 50\n",
      "\u001b[32m[1118 15:58:09 @base.py:275]\u001b[0m Start Epoch 678 ...\n"
     ]
    },
    {
     "name": "stderr",
     "output_type": "stream",
     "text": [
      "\n",
      "100%|#####################################################################################|17/17[00:00<00:00,38.30it/s]"
     ]
    },
    {
     "name": "stdout",
     "output_type": "stream",
     "text": [
      "\u001b[32m[1118 15:58:10 @base.py:285]\u001b[0m Epoch 678 (global_step 17288) finished, time:0.444 second.\n",
      "\u001b[32m[1118 15:58:10 @saver.py:79]\u001b[0m Model saved to ../output/Chicago/TEST/model\\model-17288.\n",
      "\u001b[32m[1118 15:58:10 @monitor.py:467]\u001b[0m GAN_loss/d_loss: -0.029086\n",
      "\u001b[32m[1118 15:58:10 @monitor.py:467]\u001b[0m GAN_loss/g_loss: -0.12016\n",
      "\u001b[32m[1118 15:58:10 @monitor.py:467]\u001b[0m GAN_loss/kl_div: 0.050581\n",
      "\u001b[32m[1118 15:58:10 @monitor.py:467]\u001b[0m QueueInput/queue_size: 50\n",
      "\u001b[32m[1118 15:58:10 @base.py:275]\u001b[0m Start Epoch 679 ...\n"
     ]
    },
    {
     "name": "stderr",
     "output_type": "stream",
     "text": [
      "\n",
      "100%|#####################################################################################|17/17[00:00<00:00,37.05it/s]"
     ]
    },
    {
     "name": "stdout",
     "output_type": "stream",
     "text": [
      "\u001b[32m[1118 15:58:10 @base.py:285]\u001b[0m Epoch 679 (global_step 17314) finished, time:0.459 second.\n",
      "\u001b[32m[1118 15:58:10 @saver.py:79]\u001b[0m Model saved to ../output/Chicago/TEST/model\\model-17314.\n",
      "\u001b[32m[1118 15:58:10 @monitor.py:467]\u001b[0m GAN_loss/d_loss: -0.027552\n",
      "\u001b[32m[1118 15:58:10 @monitor.py:467]\u001b[0m GAN_loss/g_loss: -0.12126\n",
      "\u001b[32m[1118 15:58:10 @monitor.py:467]\u001b[0m GAN_loss/kl_div: 0.047354\n",
      "\u001b[32m[1118 15:58:10 @monitor.py:467]\u001b[0m QueueInput/queue_size: 50\n",
      "\u001b[32m[1118 15:58:10 @base.py:275]\u001b[0m Start Epoch 680 ...\n"
     ]
    },
    {
     "name": "stderr",
     "output_type": "stream",
     "text": [
      "\n",
      "100%|#####################################################################################|17/17[00:00<00:00,38.38it/s]"
     ]
    },
    {
     "name": "stdout",
     "output_type": "stream",
     "text": [
      "\u001b[32m[1118 15:58:11 @base.py:285]\u001b[0m Epoch 680 (global_step 17339) finished, time:0.443 second.\n",
      "\u001b[32m[1118 15:58:11 @saver.py:79]\u001b[0m Model saved to ../output/Chicago/TEST/model\\model-17339.\n",
      "\u001b[32m[1118 15:58:11 @monitor.py:467]\u001b[0m GAN_loss/d_loss: -0.027773\n",
      "\u001b[32m[1118 15:58:11 @monitor.py:467]\u001b[0m GAN_loss/g_loss: -0.12145\n",
      "\u001b[32m[1118 15:58:11 @monitor.py:467]\u001b[0m GAN_loss/kl_div: 0.047405\n",
      "\u001b[32m[1118 15:58:11 @monitor.py:467]\u001b[0m QueueInput/queue_size: 50\n",
      "\u001b[32m[1118 15:58:11 @base.py:275]\u001b[0m Start Epoch 681 ...\n"
     ]
    },
    {
     "name": "stderr",
     "output_type": "stream",
     "text": [
      "\n",
      "100%|#####################################################################################|17/17[00:00<00:00,36.81it/s]"
     ]
    },
    {
     "name": "stdout",
     "output_type": "stream",
     "text": [
      "\u001b[32m[1118 15:58:11 @base.py:285]\u001b[0m Epoch 681 (global_step 17365) finished, time:0.462 second.\n",
      "\u001b[32m[1118 15:58:11 @saver.py:79]\u001b[0m Model saved to ../output/Chicago/TEST/model\\model-17365.\n",
      "\u001b[32m[1118 15:58:12 @monitor.py:467]\u001b[0m GAN_loss/d_loss: -0.02792\n",
      "\u001b[32m[1118 15:58:12 @monitor.py:467]\u001b[0m GAN_loss/g_loss: -0.12089\n",
      "\u001b[32m[1118 15:58:12 @monitor.py:467]\u001b[0m GAN_loss/kl_div: 0.047789\n",
      "\u001b[32m[1118 15:58:12 @monitor.py:467]\u001b[0m QueueInput/queue_size: 50\n",
      "\u001b[32m[1118 15:58:12 @base.py:275]\u001b[0m Start Epoch 682 ...\n"
     ]
    },
    {
     "name": "stderr",
     "output_type": "stream",
     "text": [
      "\n",
      "100%|#####################################################################################|17/17[00:00<00:00,38.25it/s]"
     ]
    },
    {
     "name": "stdout",
     "output_type": "stream",
     "text": [
      "\u001b[32m[1118 15:58:12 @base.py:285]\u001b[0m Epoch 682 (global_step 17390) finished, time:0.445 second.\n",
      "\u001b[32m[1118 15:58:12 @saver.py:79]\u001b[0m Model saved to ../output/Chicago/TEST/model\\model-17390.\n",
      "\u001b[32m[1118 15:58:12 @monitor.py:467]\u001b[0m GAN_loss/d_loss: -0.027529\n",
      "\u001b[32m[1118 15:58:12 @monitor.py:467]\u001b[0m GAN_loss/g_loss: -0.12228\n",
      "\u001b[32m[1118 15:58:12 @monitor.py:467]\u001b[0m GAN_loss/kl_div: 0.045707\n",
      "\u001b[32m[1118 15:58:12 @monitor.py:467]\u001b[0m QueueInput/queue_size: 50\n",
      "\u001b[32m[1118 15:58:12 @base.py:275]\u001b[0m Start Epoch 683 ...\n"
     ]
    },
    {
     "name": "stderr",
     "output_type": "stream",
     "text": [
      "\n",
      "100%|#####################################################################################|17/17[00:00<00:00,37.05it/s]"
     ]
    },
    {
     "name": "stdout",
     "output_type": "stream",
     "text": [
      "\u001b[32m[1118 15:58:13 @base.py:285]\u001b[0m Epoch 683 (global_step 17416) finished, time:0.459 second.\n",
      "\u001b[32m[1118 15:58:13 @saver.py:79]\u001b[0m Model saved to ../output/Chicago/TEST/model\\model-17416.\n",
      "\u001b[32m[1118 15:58:13 @monitor.py:467]\u001b[0m GAN_loss/d_loss: -0.027547\n",
      "\u001b[32m[1118 15:58:13 @monitor.py:467]\u001b[0m GAN_loss/g_loss: -0.12198\n",
      "\u001b[32m[1118 15:58:13 @monitor.py:467]\u001b[0m GAN_loss/kl_div: 0.046091\n",
      "\u001b[32m[1118 15:58:13 @monitor.py:467]\u001b[0m QueueInput/queue_size: 50\n",
      "\u001b[32m[1118 15:58:13 @base.py:275]\u001b[0m Start Epoch 684 ...\n"
     ]
    },
    {
     "name": "stderr",
     "output_type": "stream",
     "text": [
      "\n",
      "100%|#####################################################################################|17/17[00:00<00:00,38.25it/s]"
     ]
    },
    {
     "name": "stdout",
     "output_type": "stream",
     "text": [
      "\u001b[32m[1118 15:58:13 @base.py:285]\u001b[0m Epoch 684 (global_step 17441) finished, time:0.444 second.\n",
      "\u001b[32m[1118 15:58:13 @saver.py:79]\u001b[0m Model saved to ../output/Chicago/TEST/model\\model-17441.\n",
      "\u001b[32m[1118 15:58:13 @monitor.py:467]\u001b[0m GAN_loss/d_loss: -0.028445\n",
      "\u001b[32m[1118 15:58:13 @monitor.py:467]\u001b[0m GAN_loss/g_loss: -0.1203\n",
      "\u001b[32m[1118 15:58:13 @monitor.py:467]\u001b[0m GAN_loss/kl_div: 0.048359\n",
      "\u001b[32m[1118 15:58:13 @monitor.py:467]\u001b[0m QueueInput/queue_size: 50\n",
      "\u001b[32m[1118 15:58:13 @base.py:275]\u001b[0m Start Epoch 685 ...\n"
     ]
    },
    {
     "name": "stderr",
     "output_type": "stream",
     "text": [
      "\n",
      "100%|#####################################################################################|17/17[00:00<00:00,37.17it/s]"
     ]
    },
    {
     "name": "stdout",
     "output_type": "stream",
     "text": [
      "\u001b[32m[1118 15:58:14 @base.py:285]\u001b[0m Epoch 685 (global_step 17467) finished, time:0.458 second.\n",
      "\u001b[32m[1118 15:58:14 @saver.py:79]\u001b[0m Model saved to ../output/Chicago/TEST/model\\model-17467.\n",
      "\u001b[32m[1118 15:58:14 @monitor.py:467]\u001b[0m GAN_loss/d_loss: -0.027747\n",
      "\u001b[32m[1118 15:58:14 @monitor.py:467]\u001b[0m GAN_loss/g_loss: -0.12254\n",
      "\u001b[32m[1118 15:58:14 @monitor.py:467]\u001b[0m GAN_loss/kl_div: 0.045785\n",
      "\u001b[32m[1118 15:58:14 @monitor.py:467]\u001b[0m QueueInput/queue_size: 50\n",
      "\u001b[32m[1118 15:58:14 @base.py:275]\u001b[0m Start Epoch 686 ...\n"
     ]
    },
    {
     "name": "stderr",
     "output_type": "stream",
     "text": [
      "\n",
      "100%|#####################################################################################|17/17[00:00<00:00,38.08it/s]"
     ]
    },
    {
     "name": "stdout",
     "output_type": "stream",
     "text": [
      "\u001b[32m[1118 15:58:14 @base.py:285]\u001b[0m Epoch 686 (global_step 17492) finished, time:0.447 second.\n",
      "\u001b[32m[1118 15:58:15 @saver.py:79]\u001b[0m Model saved to ../output/Chicago/TEST/model\\model-17492.\n",
      "\u001b[32m[1118 15:58:15 @monitor.py:467]\u001b[0m GAN_loss/d_loss: -0.028294\n",
      "\u001b[32m[1118 15:58:15 @monitor.py:467]\u001b[0m GAN_loss/g_loss: -0.12007\n",
      "\u001b[32m[1118 15:58:15 @monitor.py:467]\u001b[0m GAN_loss/kl_div: 0.046787\n",
      "\u001b[32m[1118 15:58:15 @monitor.py:467]\u001b[0m QueueInput/queue_size: 50\n",
      "\u001b[32m[1118 15:58:15 @base.py:275]\u001b[0m Start Epoch 687 ...\n"
     ]
    },
    {
     "name": "stderr",
     "output_type": "stream",
     "text": [
      "\n",
      "100%|#####################################################################################|17/17[00:00<00:00,36.86it/s]"
     ]
    },
    {
     "name": "stdout",
     "output_type": "stream",
     "text": [
      "\u001b[32m[1118 15:58:15 @base.py:285]\u001b[0m Epoch 687 (global_step 17518) finished, time:0.462 second.\n",
      "\u001b[32m[1118 15:58:15 @saver.py:79]\u001b[0m Model saved to ../output/Chicago/TEST/model\\model-17518.\n",
      "\u001b[32m[1118 15:58:15 @monitor.py:467]\u001b[0m GAN_loss/d_loss: -0.028281\n",
      "\u001b[32m[1118 15:58:15 @monitor.py:467]\u001b[0m GAN_loss/g_loss: -0.12112\n"
     ]
    },
    {
     "name": "stderr",
     "output_type": "stream",
     "text": [
      "\n"
     ]
    },
    {
     "name": "stdout",
     "output_type": "stream",
     "text": [
      "\u001b[32m[1118 15:58:15 @monitor.py:467]\u001b[0m GAN_loss/kl_div: 0.046991\n",
      "\u001b[32m[1118 15:58:15 @monitor.py:467]\u001b[0m QueueInput/queue_size: 50\n",
      "\u001b[32m[1118 15:58:15 @base.py:275]\u001b[0m Start Epoch 688 ...\n"
     ]
    },
    {
     "name": "stderr",
     "output_type": "stream",
     "text": [
      "100%|#####################################################################################|17/17[00:00<00:00,38.47it/s]"
     ]
    },
    {
     "name": "stdout",
     "output_type": "stream",
     "text": [
      "\u001b[32m[1118 15:58:16 @base.py:285]\u001b[0m Epoch 688 (global_step 17543) finished, time:0.442 second.\n",
      "\u001b[32m[1118 15:58:16 @saver.py:79]\u001b[0m Model saved to ../output/Chicago/TEST/model\\model-17543.\n",
      "\u001b[32m[1118 15:58:16 @monitor.py:467]\u001b[0m GAN_loss/d_loss: -0.027988\n",
      "\u001b[32m[1118 15:58:16 @monitor.py:467]\u001b[0m GAN_loss/g_loss: -0.12155\n",
      "\u001b[32m[1118 15:58:16 @monitor.py:467]\u001b[0m GAN_loss/kl_div: 0.050579\n",
      "\u001b[32m[1118 15:58:16 @monitor.py:467]\u001b[0m QueueInput/queue_size: 50\n",
      "\u001b[32m[1118 15:58:16 @base.py:275]\u001b[0m Start Epoch 689 ...\n"
     ]
    },
    {
     "name": "stderr",
     "output_type": "stream",
     "text": [
      "\n",
      "100%|#####################################################################################|17/17[00:00<00:00,36.95it/s]"
     ]
    },
    {
     "name": "stdout",
     "output_type": "stream",
     "text": [
      "\u001b[32m[1118 15:58:16 @base.py:285]\u001b[0m Epoch 689 (global_step 17569) finished, time:0.461 second.\n",
      "\u001b[32m[1118 15:58:16 @saver.py:79]\u001b[0m Model saved to ../output/Chicago/TEST/model\\model-17569.\n",
      "\u001b[32m[1118 15:58:16 @monitor.py:467]\u001b[0m GAN_loss/d_loss: -0.027839\n",
      "\u001b[32m[1118 15:58:16 @monitor.py:467]\u001b[0m GAN_loss/g_loss: -0.12195\n",
      "\u001b[32m[1118 15:58:16 @monitor.py:467]\u001b[0m GAN_loss/kl_div: 0.047273\n",
      "\u001b[32m[1118 15:58:16 @monitor.py:467]\u001b[0m QueueInput/queue_size: 50\n",
      "\u001b[32m[1118 15:58:16 @base.py:275]\u001b[0m Start Epoch 690 ...\n"
     ]
    },
    {
     "name": "stderr",
     "output_type": "stream",
     "text": [
      "\n",
      "100%|#####################################################################################|17/17[00:00<00:00,38.30it/s]"
     ]
    },
    {
     "name": "stdout",
     "output_type": "stream",
     "text": [
      "\u001b[32m[1118 15:58:17 @base.py:285]\u001b[0m Epoch 690 (global_step 17594) finished, time:0.445 second.\n",
      "\u001b[32m[1118 15:58:17 @saver.py:79]\u001b[0m Model saved to ../output/Chicago/TEST/model\\model-17594.\n",
      "\u001b[32m[1118 15:58:17 @monitor.py:467]\u001b[0m GAN_loss/d_loss: -0.026496\n"
     ]
    },
    {
     "name": "stderr",
     "output_type": "stream",
     "text": [
      "\n"
     ]
    },
    {
     "name": "stdout",
     "output_type": "stream",
     "text": [
      "\u001b[32m[1118 15:58:17 @monitor.py:467]\u001b[0m GAN_loss/g_loss: -0.12288\n",
      "\u001b[32m[1118 15:58:17 @monitor.py:467]\u001b[0m GAN_loss/kl_div: 0.04538\n",
      "\u001b[32m[1118 15:58:17 @monitor.py:467]\u001b[0m QueueInput/queue_size: 50\n",
      "\u001b[32m[1118 15:58:17 @base.py:275]\u001b[0m Start Epoch 691 ...\n"
     ]
    },
    {
     "name": "stderr",
     "output_type": "stream",
     "text": [
      "100%|#####################################################################################|17/17[00:00<00:00,37.09it/s]"
     ]
    },
    {
     "name": "stdout",
     "output_type": "stream",
     "text": [
      "\u001b[32m[1118 15:58:18 @base.py:285]\u001b[0m Epoch 691 (global_step 17620) finished, time:0.459 second.\n",
      "\u001b[32m[1118 15:58:18 @saver.py:79]\u001b[0m Model saved to ../output/Chicago/TEST/model\\model-17620.\n",
      "\u001b[32m[1118 15:58:18 @monitor.py:467]\u001b[0m GAN_loss/d_loss: -0.027644\n",
      "\u001b[32m[1118 15:58:18 @monitor.py:467]\u001b[0m GAN_loss/g_loss: -0.12249\n",
      "\u001b[32m[1118 15:58:18 @monitor.py:467]\u001b[0m GAN_loss/kl_div: 0.051962\n",
      "\u001b[32m[1118 15:58:18 @monitor.py:467]\u001b[0m QueueInput/queue_size: 50\n",
      "\u001b[32m[1118 15:58:18 @base.py:275]\u001b[0m Start Epoch 692 ...\n"
     ]
    },
    {
     "name": "stderr",
     "output_type": "stream",
     "text": [
      "\n",
      "100%|#####################################################################################|17/17[00:00<00:00,38.21it/s]"
     ]
    },
    {
     "name": "stdout",
     "output_type": "stream",
     "text": [
      "\u001b[32m[1118 15:58:18 @base.py:285]\u001b[0m Epoch 692 (global_step 17645) finished, time:0.445 second.\n",
      "\u001b[32m[1118 15:58:18 @saver.py:79]\u001b[0m Model saved to ../output/Chicago/TEST/model\\model-17645.\n",
      "\u001b[32m[1118 15:58:18 @monitor.py:467]\u001b[0m GAN_loss/d_loss: -0.028713\n",
      "\u001b[32m[1118 15:58:18 @monitor.py:467]\u001b[0m GAN_loss/g_loss: -0.12274\n",
      "\u001b[32m[1118 15:58:18 @monitor.py:467]\u001b[0m GAN_loss/kl_div: 0.051966\n",
      "\u001b[32m[1118 15:58:18 @monitor.py:467]\u001b[0m QueueInput/queue_size: 50\n",
      "\u001b[32m[1118 15:58:18 @base.py:275]\u001b[0m Start Epoch 693 ...\n"
     ]
    },
    {
     "name": "stderr",
     "output_type": "stream",
     "text": [
      "\n",
      "100%|#####################################################################################|17/17[00:00<00:00,37.09it/s]"
     ]
    },
    {
     "name": "stdout",
     "output_type": "stream",
     "text": [
      "\u001b[32m[1118 15:58:19 @base.py:285]\u001b[0m Epoch 693 (global_step 17671) finished, time:0.459 second.\n",
      "\u001b[32m[1118 15:58:19 @saver.py:79]\u001b[0m Model saved to ../output/Chicago/TEST/model\\model-17671.\n",
      "\u001b[32m[1118 15:58:19 @monitor.py:467]\u001b[0m GAN_loss/d_loss: -0.028541\n",
      "\u001b[32m[1118 15:58:19 @monitor.py:467]\u001b[0m GAN_loss/g_loss: -0.12273\n",
      "\u001b[32m[1118 15:58:19 @monitor.py:467]\u001b[0m GAN_loss/kl_div: 0.04734\n",
      "\u001b[32m[1118 15:58:19 @monitor.py:467]\u001b[0m QueueInput/queue_size: 50\n",
      "\u001b[32m[1118 15:58:19 @base.py:275]\u001b[0m Start Epoch 694 ...\n"
     ]
    },
    {
     "name": "stderr",
     "output_type": "stream",
     "text": [
      "\n",
      "100%|#####################################################################################|17/17[00:00<00:00,38.17it/s]"
     ]
    },
    {
     "name": "stdout",
     "output_type": "stream",
     "text": [
      "\u001b[32m[1118 15:58:19 @base.py:285]\u001b[0m Epoch 694 (global_step 17696) finished, time:0.446 second.\n",
      "\u001b[32m[1118 15:58:20 @saver.py:79]\u001b[0m Model saved to ../output/Chicago/TEST/model\\model-17696.\n",
      "\u001b[32m[1118 15:58:20 @monitor.py:467]\u001b[0m GAN_loss/d_loss: -0.027575\n",
      "\u001b[32m[1118 15:58:20 @monitor.py:467]\u001b[0m GAN_loss/g_loss: -0.12252\n",
      "\u001b[32m[1118 15:58:20 @monitor.py:467]\u001b[0m GAN_loss/kl_div: 0.04866\n",
      "\u001b[32m[1118 15:58:20 @monitor.py:467]\u001b[0m QueueInput/queue_size: 50\n",
      "\u001b[32m[1118 15:58:20 @base.py:275]\u001b[0m Start Epoch 695 ...\n"
     ]
    },
    {
     "name": "stderr",
     "output_type": "stream",
     "text": [
      "\n",
      "100%|#####################################################################################|17/17[00:00<00:00,37.21it/s]"
     ]
    },
    {
     "name": "stdout",
     "output_type": "stream",
     "text": [
      "\u001b[32m[1118 15:58:20 @base.py:285]\u001b[0m Epoch 695 (global_step 17722) finished, time:0.457 second.\n",
      "\u001b[32m[1118 15:58:20 @saver.py:79]\u001b[0m Model saved to ../output/Chicago/TEST/model\\model-17722.\n",
      "\u001b[32m[1118 15:58:20 @monitor.py:467]\u001b[0m GAN_loss/d_loss: -0.026619\n",
      "\u001b[32m[1118 15:58:20 @monitor.py:467]\u001b[0m GAN_loss/g_loss: -0.12244\n",
      "\u001b[32m[1118 15:58:20 @monitor.py:467]\u001b[0m GAN_loss/kl_div: 0.050244\n",
      "\u001b[32m[1118 15:58:20 @monitor.py:467]\u001b[0m QueueInput/queue_size: 50\n",
      "\u001b[32m[1118 15:58:20 @base.py:275]\u001b[0m Start Epoch 696 ...\n"
     ]
    },
    {
     "name": "stderr",
     "output_type": "stream",
     "text": [
      "\n",
      "100%|#####################################################################################|17/17[00:00<00:00,38.25it/s]"
     ]
    },
    {
     "name": "stdout",
     "output_type": "stream",
     "text": [
      "\u001b[32m[1118 15:58:21 @base.py:285]\u001b[0m Epoch 696 (global_step 17747) finished, time:0.445 second.\n",
      "\u001b[32m[1118 15:58:21 @saver.py:79]\u001b[0m Model saved to ../output/Chicago/TEST/model\\model-17747.\n",
      "\u001b[32m[1118 15:58:21 @monitor.py:467]\u001b[0m GAN_loss/d_loss: -0.027387\n",
      "\u001b[32m[1118 15:58:21 @monitor.py:467]\u001b[0m GAN_loss/g_loss: -0.12159\n",
      "\u001b[32m[1118 15:58:21 @monitor.py:467]\u001b[0m GAN_loss/kl_div: 0.047954\n",
      "\u001b[32m[1118 15:58:21 @monitor.py:467]\u001b[0m QueueInput/queue_size: 50\n",
      "\u001b[32m[1118 15:58:21 @base.py:275]\u001b[0m Start Epoch 697 ...\n"
     ]
    },
    {
     "name": "stderr",
     "output_type": "stream",
     "text": [
      "\n",
      "100%|#####################################################################################|17/17[00:00<00:00,37.30it/s]"
     ]
    },
    {
     "name": "stdout",
     "output_type": "stream",
     "text": [
      "\u001b[32m[1118 15:58:21 @base.py:285]\u001b[0m Epoch 697 (global_step 17773) finished, time:0.457 second.\n",
      "\u001b[32m[1118 15:58:21 @saver.py:79]\u001b[0m Model saved to ../output/Chicago/TEST/model\\model-17773.\n",
      "\u001b[32m[1118 15:58:21 @monitor.py:467]\u001b[0m GAN_loss/d_loss: -0.027662\n",
      "\u001b[32m[1118 15:58:21 @monitor.py:467]\u001b[0m GAN_loss/g_loss: -0.12107\n",
      "\u001b[32m[1118 15:58:21 @monitor.py:467]\u001b[0m GAN_loss/kl_div: 0.048867\n",
      "\u001b[32m[1118 15:58:21 @monitor.py:467]\u001b[0m QueueInput/queue_size: 50\n",
      "\u001b[32m[1118 15:58:21 @base.py:275]\u001b[0m Start Epoch 698 ...\n"
     ]
    },
    {
     "name": "stderr",
     "output_type": "stream",
     "text": [
      "\n",
      "100%|#####################################################################################|17/17[00:00<00:00,38.21it/s]"
     ]
    },
    {
     "name": "stdout",
     "output_type": "stream",
     "text": [
      "\u001b[32m[1118 15:58:22 @base.py:285]\u001b[0m Epoch 698 (global_step 17798) finished, time:0.445 second.\n",
      "\u001b[32m[1118 15:58:22 @saver.py:79]\u001b[0m Model saved to ../output/Chicago/TEST/model\\model-17798.\n",
      "\u001b[32m[1118 15:58:22 @monitor.py:467]\u001b[0m GAN_loss/d_loss: -0.028949\n",
      "\u001b[32m[1118 15:58:22 @monitor.py:467]\u001b[0m GAN_loss/g_loss: -0.12053\n",
      "\u001b[32m[1118 15:58:22 @monitor.py:467]\u001b[0m GAN_loss/kl_div: 0.050221\n",
      "\u001b[32m[1118 15:58:22 @monitor.py:467]\u001b[0m QueueInput/queue_size: 50\n",
      "\u001b[32m[1118 15:58:22 @base.py:275]\u001b[0m Start Epoch 699 ...\n"
     ]
    },
    {
     "name": "stderr",
     "output_type": "stream",
     "text": [
      "\n",
      "100%|#####################################################################################|17/17[00:00<00:00,37.01it/s]"
     ]
    },
    {
     "name": "stdout",
     "output_type": "stream",
     "text": [
      "\u001b[32m[1118 15:58:23 @base.py:285]\u001b[0m Epoch 699 (global_step 17824) finished, time:0.46 second.\n",
      "\u001b[32m[1118 15:58:23 @saver.py:79]\u001b[0m Model saved to ../output/Chicago/TEST/model\\model-17824.\n",
      "\u001b[32m[1118 15:58:23 @monitor.py:467]\u001b[0m GAN_loss/d_loss: -0.028989\n",
      "\u001b[32m[1118 15:58:23 @monitor.py:467]\u001b[0m GAN_loss/g_loss: -0.12028\n",
      "\u001b[32m[1118 15:58:23 @monitor.py:467]\u001b[0m GAN_loss/kl_div: 0.048023\n",
      "\u001b[32m[1118 15:58:23 @monitor.py:467]\u001b[0m QueueInput/queue_size: 50\n",
      "\u001b[32m[1118 15:58:23 @base.py:275]\u001b[0m Start Epoch 700 ...\n"
     ]
    },
    {
     "name": "stderr",
     "output_type": "stream",
     "text": [
      "\n",
      "100%|#####################################################################################|17/17[00:00<00:00,38.12it/s]"
     ]
    },
    {
     "name": "stdout",
     "output_type": "stream",
     "text": [
      "\u001b[32m[1118 15:58:23 @base.py:285]\u001b[0m Epoch 700 (global_step 17849) finished, time:0.446 second.\n",
      "\u001b[32m[1118 15:58:23 @saver.py:79]\u001b[0m Model saved to ../output/Chicago/TEST/model\\model-17849.\n",
      "\u001b[32m[1118 15:58:23 @monitor.py:467]\u001b[0m GAN_loss/d_loss: -0.028513\n",
      "\u001b[32m[1118 15:58:23 @monitor.py:467]\u001b[0m GAN_loss/g_loss: -0.1204\n",
      "\u001b[32m[1118 15:58:23 @monitor.py:467]\u001b[0m GAN_loss/kl_div: 0.049258\n",
      "\u001b[32m[1118 15:58:23 @monitor.py:467]\u001b[0m QueueInput/queue_size: 50\n",
      "\u001b[32m[1118 15:58:23 @base.py:275]\u001b[0m Start Epoch 701 ...\n"
     ]
    },
    {
     "name": "stderr",
     "output_type": "stream",
     "text": [
      "\n",
      "100%|#####################################################################################|17/17[00:00<00:00,37.09it/s]"
     ]
    },
    {
     "name": "stdout",
     "output_type": "stream",
     "text": [
      "\u001b[32m[1118 15:58:24 @base.py:285]\u001b[0m Epoch 701 (global_step 17875) finished, time:0.459 second.\n",
      "\u001b[32m[1118 15:58:24 @saver.py:79]\u001b[0m Model saved to ../output/Chicago/TEST/model\\model-17875.\n",
      "\u001b[32m[1118 15:58:24 @monitor.py:467]\u001b[0m GAN_loss/d_loss: -0.028299\n",
      "\u001b[32m[1118 15:58:24 @monitor.py:467]\u001b[0m GAN_loss/g_loss: -0.12037\n",
      "\u001b[32m[1118 15:58:24 @monitor.py:467]\u001b[0m GAN_loss/kl_div: 0.047083\n",
      "\u001b[32m[1118 15:58:24 @monitor.py:467]\u001b[0m QueueInput/queue_size: 50\n",
      "\u001b[32m[1118 15:58:24 @base.py:275]\u001b[0m Start Epoch 702 ...\n"
     ]
    },
    {
     "name": "stderr",
     "output_type": "stream",
     "text": [
      "\n",
      "100%|#####################################################################################|17/17[00:00<00:00,38.21it/s]"
     ]
    },
    {
     "name": "stdout",
     "output_type": "stream",
     "text": [
      "\u001b[32m[1118 15:58:24 @base.py:285]\u001b[0m Epoch 702 (global_step 17900) finished, time:0.445 second.\n",
      "\u001b[32m[1118 15:58:24 @saver.py:79]\u001b[0m Model saved to ../output/Chicago/TEST/model\\model-17900.\n",
      "\u001b[32m[1118 15:58:25 @monitor.py:467]\u001b[0m GAN_loss/d_loss: -0.028202\n",
      "\u001b[32m[1118 15:58:25 @monitor.py:467]\u001b[0m GAN_loss/g_loss: -0.1205\n",
      "\u001b[32m[1118 15:58:25 @monitor.py:467]\u001b[0m GAN_loss/kl_div: 0.047959\n",
      "\u001b[32m[1118 15:58:25 @monitor.py:467]\u001b[0m QueueInput/queue_size: 50\n",
      "\u001b[32m[1118 15:58:25 @base.py:275]\u001b[0m Start Epoch 703 ...\n"
     ]
    },
    {
     "name": "stderr",
     "output_type": "stream",
     "text": [
      "\n",
      "100%|#####################################################################################|17/17[00:00<00:00,37.01it/s]"
     ]
    },
    {
     "name": "stdout",
     "output_type": "stream",
     "text": [
      "\u001b[32m[1118 15:58:25 @base.py:285]\u001b[0m Epoch 703 (global_step 17926) finished, time:0.46 second.\n",
      "\u001b[32m[1118 15:58:25 @saver.py:79]\u001b[0m Model saved to ../output/Chicago/TEST/model\\model-17926.\n",
      "\u001b[32m[1118 15:58:25 @monitor.py:467]\u001b[0m GAN_loss/d_loss: -0.027878\n",
      "\u001b[32m[1118 15:58:25 @monitor.py:467]\u001b[0m GAN_loss/g_loss: -0.12151\n",
      "\u001b[32m[1118 15:58:25 @monitor.py:467]\u001b[0m GAN_loss/kl_div: 0.049081\n",
      "\u001b[32m[1118 15:58:25 @monitor.py:467]\u001b[0m QueueInput/queue_size: 50\n",
      "\u001b[32m[1118 15:58:25 @base.py:275]\u001b[0m Start Epoch 704 ...\n"
     ]
    },
    {
     "name": "stderr",
     "output_type": "stream",
     "text": [
      "\n",
      "100%|#####################################################################################|17/17[00:00<00:00,38.34it/s]"
     ]
    },
    {
     "name": "stdout",
     "output_type": "stream",
     "text": [
      "\u001b[32m[1118 15:58:26 @base.py:285]\u001b[0m Epoch 704 (global_step 17951) finished, time:0.444 second.\n",
      "\u001b[32m[1118 15:58:26 @saver.py:79]\u001b[0m Model saved to ../output/Chicago/TEST/model\\model-17951.\n",
      "\u001b[32m[1118 15:58:26 @monitor.py:467]\u001b[0m GAN_loss/d_loss: -0.027171\n",
      "\u001b[32m[1118 15:58:26 @monitor.py:467]\u001b[0m GAN_loss/g_loss: -0.12105\n",
      "\u001b[32m[1118 15:58:26 @monitor.py:467]\u001b[0m GAN_loss/kl_div: 0.048505\n",
      "\u001b[32m[1118 15:58:26 @monitor.py:467]\u001b[0m QueueInput/queue_size: 50\n",
      "\u001b[32m[1118 15:58:26 @base.py:275]\u001b[0m Start Epoch 705 ...\n"
     ]
    },
    {
     "name": "stderr",
     "output_type": "stream",
     "text": [
      "\n",
      "100%|#####################################################################################|17/17[00:00<00:00,36.50it/s]"
     ]
    },
    {
     "name": "stdout",
     "output_type": "stream",
     "text": [
      "\u001b[32m[1118 15:58:26 @base.py:285]\u001b[0m Epoch 705 (global_step 17977) finished, time:0.466 second.\n",
      "\u001b[32m[1118 15:58:26 @saver.py:79]\u001b[0m Model saved to ../output/Chicago/TEST/model\\model-17977.\n",
      "\u001b[32m[1118 15:58:26 @monitor.py:467]\u001b[0m GAN_loss/d_loss: -0.02791\n",
      "\u001b[32m[1118 15:58:26 @monitor.py:467]\u001b[0m GAN_loss/g_loss: -0.1212\n",
      "\u001b[32m[1118 15:58:26 @monitor.py:467]\u001b[0m GAN_loss/kl_div: 0.04562\n",
      "\u001b[32m[1118 15:58:26 @monitor.py:467]\u001b[0m QueueInput/queue_size: 50\n",
      "\u001b[32m[1118 15:58:26 @base.py:275]\u001b[0m Start Epoch 706 ...\n"
     ]
    },
    {
     "name": "stderr",
     "output_type": "stream",
     "text": [
      "\n",
      "100%|#####################################################################################|17/17[00:00<00:00,38.25it/s]"
     ]
    },
    {
     "name": "stdout",
     "output_type": "stream",
     "text": [
      "\u001b[32m[1118 15:58:27 @base.py:285]\u001b[0m Epoch 706 (global_step 18002) finished, time:0.445 second.\n",
      "\u001b[32m[1118 15:58:27 @saver.py:79]\u001b[0m Model saved to ../output/Chicago/TEST/model\\model-18002.\n",
      "\u001b[32m[1118 15:58:27 @monitor.py:467]\u001b[0m GAN_loss/d_loss: -0.027892\n",
      "\u001b[32m[1118 15:58:27 @monitor.py:467]\u001b[0m GAN_loss/g_loss: -0.12139\n",
      "\u001b[32m[1118 15:58:27 @monitor.py:467]\u001b[0m GAN_loss/kl_div: 0.04623\n",
      "\u001b[32m[1118 15:58:27 @monitor.py:467]\u001b[0m QueueInput/queue_size: 50\n",
      "\u001b[32m[1118 15:58:27 @base.py:275]\u001b[0m Start Epoch 707 ...\n"
     ]
    },
    {
     "name": "stderr",
     "output_type": "stream",
     "text": [
      "\n",
      "100%|#####################################################################################|17/17[00:00<00:00,36.97it/s]"
     ]
    },
    {
     "name": "stdout",
     "output_type": "stream",
     "text": [
      "\u001b[32m[1118 15:58:27 @base.py:285]\u001b[0m Epoch 707 (global_step 18028) finished, time:0.46 second.\n",
      "\u001b[32m[1118 15:58:28 @saver.py:79]\u001b[0m Model saved to ../output/Chicago/TEST/model\\model-18028.\n",
      "\u001b[32m[1118 15:58:28 @monitor.py:467]\u001b[0m GAN_loss/d_loss: -0.027678\n",
      "\u001b[32m[1118 15:58:28 @monitor.py:467]\u001b[0m GAN_loss/g_loss: -0.12189\n",
      "\u001b[32m[1118 15:58:28 @monitor.py:467]\u001b[0m GAN_loss/kl_div: 0.048878\n",
      "\u001b[32m[1118 15:58:28 @monitor.py:467]\u001b[0m QueueInput/queue_size: 50\n",
      "\u001b[32m[1118 15:58:28 @base.py:275]\u001b[0m Start Epoch 708 ...\n"
     ]
    },
    {
     "name": "stderr",
     "output_type": "stream",
     "text": [
      "\n",
      "100%|#####################################################################################|17/17[00:00<00:00,38.42it/s]"
     ]
    },
    {
     "name": "stdout",
     "output_type": "stream",
     "text": [
      "\u001b[32m[1118 15:58:28 @base.py:285]\u001b[0m Epoch 708 (global_step 18053) finished, time:0.443 second.\n",
      "\u001b[32m[1118 15:58:28 @saver.py:79]\u001b[0m Model saved to ../output/Chicago/TEST/model\\model-18053.\n",
      "\u001b[32m[1118 15:58:28 @monitor.py:467]\u001b[0m GAN_loss/d_loss: -0.029469\n",
      "\u001b[32m[1118 15:58:28 @monitor.py:467]\u001b[0m GAN_loss/g_loss: -0.12033\n",
      "\u001b[32m[1118 15:58:28 @monitor.py:467]\u001b[0m GAN_loss/kl_div: 0.049718\n",
      "\u001b[32m[1118 15:58:28 @monitor.py:467]\u001b[0m QueueInput/queue_size: 50\n",
      "\u001b[32m[1118 15:58:28 @base.py:275]\u001b[0m Start Epoch 709 ...\n"
     ]
    },
    {
     "name": "stderr",
     "output_type": "stream",
     "text": [
      "\n",
      "100%|#####################################################################################|17/17[00:00<00:00,36.93it/s]"
     ]
    },
    {
     "name": "stdout",
     "output_type": "stream",
     "text": [
      "\u001b[32m[1118 15:58:29 @base.py:285]\u001b[0m Epoch 709 (global_step 18079) finished, time:0.461 second.\n",
      "\u001b[32m[1118 15:58:29 @saver.py:79]\u001b[0m Model saved to ../output/Chicago/TEST/model\\model-18079.\n"
     ]
    },
    {
     "name": "stderr",
     "output_type": "stream",
     "text": [
      "\n"
     ]
    },
    {
     "name": "stdout",
     "output_type": "stream",
     "text": [
      "\u001b[32m[1118 15:58:29 @monitor.py:467]\u001b[0m GAN_loss/d_loss: -0.027987\n",
      "\u001b[32m[1118 15:58:29 @monitor.py:467]\u001b[0m GAN_loss/g_loss: -0.12077\n",
      "\u001b[32m[1118 15:58:29 @monitor.py:467]\u001b[0m GAN_loss/kl_div: 0.043887\n",
      "\u001b[32m[1118 15:58:29 @monitor.py:467]\u001b[0m QueueInput/queue_size: 50\n",
      "\u001b[32m[1118 15:58:29 @base.py:275]\u001b[0m Start Epoch 710 ...\n"
     ]
    },
    {
     "name": "stderr",
     "output_type": "stream",
     "text": [
      "100%|#####################################################################################|17/17[00:00<00:00,38.21it/s]"
     ]
    },
    {
     "name": "stdout",
     "output_type": "stream",
     "text": [
      "\u001b[32m[1118 15:58:29 @base.py:285]\u001b[0m Epoch 710 (global_step 18104) finished, time:0.445 second.\n",
      "\u001b[32m[1118 15:58:29 @saver.py:79]\u001b[0m Model saved to ../output/Chicago/TEST/model\\model-18104.\n",
      "\u001b[32m[1118 15:58:29 @monitor.py:467]\u001b[0m GAN_loss/d_loss: -0.027281\n",
      "\u001b[32m[1118 15:58:29 @monitor.py:467]\u001b[0m GAN_loss/g_loss: -0.12048\n",
      "\u001b[32m[1118 15:58:29 @monitor.py:467]\u001b[0m GAN_loss/kl_div: 0.051868\n",
      "\u001b[32m[1118 15:58:29 @monitor.py:467]\u001b[0m QueueInput/queue_size: 50\n",
      "\u001b[32m[1118 15:58:29 @base.py:275]\u001b[0m Start Epoch 711 ...\n"
     ]
    },
    {
     "name": "stderr",
     "output_type": "stream",
     "text": [
      "\n",
      "100%|#####################################################################################|17/17[00:00<00:00,37.08it/s]"
     ]
    },
    {
     "name": "stdout",
     "output_type": "stream",
     "text": [
      "\u001b[32m[1118 15:58:30 @base.py:285]\u001b[0m Epoch 711 (global_step 18130) finished, time:0.459 second.\n",
      "\u001b[32m[1118 15:58:30 @saver.py:79]\u001b[0m Model saved to ../output/Chicago/TEST/model\\model-18130.\n",
      "\u001b[32m[1118 15:58:30 @monitor.py:467]\u001b[0m GAN_loss/d_loss: -0.02699\n",
      "\u001b[32m[1118 15:58:30 @monitor.py:467]\u001b[0m GAN_loss/g_loss: -0.12195\n",
      "\u001b[32m[1118 15:58:30 @monitor.py:467]\u001b[0m GAN_loss/kl_div: 0.051336\n",
      "\u001b[32m[1118 15:58:30 @monitor.py:467]\u001b[0m QueueInput/queue_size: 50\n",
      "\u001b[32m[1118 15:58:30 @base.py:275]\u001b[0m Start Epoch 712 ...\n"
     ]
    },
    {
     "name": "stderr",
     "output_type": "stream",
     "text": [
      "\n",
      "100%|#####################################################################################|17/17[00:00<00:00,38.04it/s]"
     ]
    },
    {
     "name": "stdout",
     "output_type": "stream",
     "text": [
      "\u001b[32m[1118 15:58:31 @base.py:285]\u001b[0m Epoch 712 (global_step 18155) finished, time:0.447 second.\n",
      "\u001b[32m[1118 15:58:31 @saver.py:79]\u001b[0m Model saved to ../output/Chicago/TEST/model\\model-18155.\n",
      "\u001b[32m[1118 15:58:31 @monitor.py:467]\u001b[0m GAN_loss/d_loss: -0.026844\n",
      "\u001b[32m[1118 15:58:31 @monitor.py:467]\u001b[0m GAN_loss/g_loss: -0.12159\n",
      "\u001b[32m[1118 15:58:31 @monitor.py:467]\u001b[0m GAN_loss/kl_div: 0.048083\n",
      "\u001b[32m[1118 15:58:31 @monitor.py:467]\u001b[0m QueueInput/queue_size: 50\n",
      "\u001b[32m[1118 15:58:31 @base.py:275]\u001b[0m Start Epoch 713 ...\n"
     ]
    },
    {
     "name": "stderr",
     "output_type": "stream",
     "text": [
      "\n",
      "100%|#####################################################################################|17/17[00:00<00:00,37.09it/s]"
     ]
    },
    {
     "name": "stdout",
     "output_type": "stream",
     "text": [
      "\u001b[32m[1118 15:58:31 @base.py:285]\u001b[0m Epoch 713 (global_step 18181) finished, time:0.459 second.\n",
      "\u001b[32m[1118 15:58:31 @saver.py:79]\u001b[0m Model saved to ../output/Chicago/TEST/model\\model-18181.\n",
      "\u001b[32m[1118 15:58:31 @monitor.py:467]\u001b[0m GAN_loss/d_loss: -0.028193\n",
      "\u001b[32m[1118 15:58:31 @monitor.py:467]\u001b[0m GAN_loss/g_loss: -0.1218\n",
      "\u001b[32m[1118 15:58:31 @monitor.py:467]\u001b[0m GAN_loss/kl_div: 0.046606\n",
      "\u001b[32m[1118 15:58:31 @monitor.py:467]\u001b[0m QueueInput/queue_size: 50\n",
      "\u001b[32m[1118 15:58:31 @base.py:275]\u001b[0m Start Epoch 714 ...\n"
     ]
    },
    {
     "name": "stderr",
     "output_type": "stream",
     "text": [
      "\n",
      "100%|#####################################################################################|17/17[00:00<00:00,38.30it/s]"
     ]
    },
    {
     "name": "stdout",
     "output_type": "stream",
     "text": [
      "\u001b[32m[1118 15:58:32 @base.py:285]\u001b[0m Epoch 714 (global_step 18206) finished, time:0.444 second.\n",
      "\u001b[32m[1118 15:58:32 @saver.py:79]\u001b[0m Model saved to ../output/Chicago/TEST/model\\model-18206.\n",
      "\u001b[32m[1118 15:58:32 @monitor.py:467]\u001b[0m GAN_loss/d_loss: -0.028325\n",
      "\u001b[32m[1118 15:58:32 @monitor.py:467]\u001b[0m GAN_loss/g_loss: -0.12112\n",
      "\u001b[32m[1118 15:58:32 @monitor.py:467]\u001b[0m GAN_loss/kl_div: 0.044936\n",
      "\u001b[32m[1118 15:58:32 @monitor.py:467]\u001b[0m QueueInput/queue_size: 50\n",
      "\u001b[32m[1118 15:58:32 @base.py:275]\u001b[0m Start Epoch 715 ...\n"
     ]
    },
    {
     "name": "stderr",
     "output_type": "stream",
     "text": [
      "\n",
      "100%|#####################################################################################|17/17[00:00<00:00,37.01it/s]"
     ]
    },
    {
     "name": "stdout",
     "output_type": "stream",
     "text": [
      "\u001b[32m[1118 15:58:32 @base.py:285]\u001b[0m Epoch 715 (global_step 18232) finished, time:0.46 second.\n",
      "\u001b[32m[1118 15:58:33 @saver.py:79]\u001b[0m Model saved to ../output/Chicago/TEST/model\\model-18232.\n",
      "\u001b[32m[1118 15:58:33 @monitor.py:467]\u001b[0m GAN_loss/d_loss: -0.028835\n",
      "\u001b[32m[1118 15:58:33 @monitor.py:467]\u001b[0m GAN_loss/g_loss: -0.12206\n",
      "\u001b[32m[1118 15:58:33 @monitor.py:467]\u001b[0m GAN_loss/kl_div: 0.048305\n",
      "\u001b[32m[1118 15:58:33 @monitor.py:467]\u001b[0m QueueInput/queue_size: 50\n",
      "\u001b[32m[1118 15:58:33 @base.py:275]\u001b[0m Start Epoch 716 ...\n"
     ]
    },
    {
     "name": "stderr",
     "output_type": "stream",
     "text": [
      "\n",
      "100%|#####################################################################################|17/17[00:00<00:00,38.34it/s]"
     ]
    },
    {
     "name": "stdout",
     "output_type": "stream",
     "text": [
      "\u001b[32m[1118 15:58:33 @base.py:285]\u001b[0m Epoch 716 (global_step 18257) finished, time:0.444 second.\n",
      "\u001b[32m[1118 15:58:33 @saver.py:79]\u001b[0m Model saved to ../output/Chicago/TEST/model\\model-18257.\n",
      "\u001b[32m[1118 15:58:33 @monitor.py:467]\u001b[0m GAN_loss/d_loss: -0.028561\n",
      "\u001b[32m[1118 15:58:33 @monitor.py:467]\u001b[0m GAN_loss/g_loss: -0.12248\n",
      "\u001b[32m[1118 15:58:33 @monitor.py:467]\u001b[0m GAN_loss/kl_div: 0.046181\n",
      "\u001b[32m[1118 15:58:33 @monitor.py:467]\u001b[0m QueueInput/queue_size: 50\n",
      "\u001b[32m[1118 15:58:33 @base.py:275]\u001b[0m Start Epoch 717 ...\n"
     ]
    },
    {
     "name": "stderr",
     "output_type": "stream",
     "text": [
      "\n",
      "100%|#####################################################################################|17/17[00:00<00:00,36.89it/s]"
     ]
    },
    {
     "name": "stdout",
     "output_type": "stream",
     "text": [
      "\u001b[32m[1118 15:58:34 @base.py:285]\u001b[0m Epoch 717 (global_step 18283) finished, time:0.461 second.\n",
      "\u001b[32m[1118 15:58:34 @saver.py:79]\u001b[0m Model saved to ../output/Chicago/TEST/model\\model-18283.\n",
      "\u001b[32m[1118 15:58:34 @monitor.py:467]\u001b[0m GAN_loss/d_loss: -0.028391\n",
      "\u001b[32m[1118 15:58:34 @monitor.py:467]\u001b[0m GAN_loss/g_loss: -0.1231\n",
      "\u001b[32m[1118 15:58:34 @monitor.py:467]\u001b[0m GAN_loss/kl_div: 0.046278\n",
      "\u001b[32m[1118 15:58:34 @monitor.py:467]\u001b[0m QueueInput/queue_size: 50\n",
      "\u001b[32m[1118 15:58:34 @base.py:275]\u001b[0m Start Epoch 718 ...\n"
     ]
    },
    {
     "name": "stderr",
     "output_type": "stream",
     "text": [
      "\n",
      "100%|#####################################################################################|17/17[00:00<00:00,38.30it/s]"
     ]
    },
    {
     "name": "stdout",
     "output_type": "stream",
     "text": [
      "\u001b[32m[1118 15:58:34 @base.py:285]\u001b[0m Epoch 718 (global_step 18308) finished, time:0.444 second.\n",
      "\u001b[32m[1118 15:58:34 @saver.py:79]\u001b[0m Model saved to ../output/Chicago/TEST/model\\model-18308.\n",
      "\u001b[32m[1118 15:58:34 @monitor.py:467]\u001b[0m GAN_loss/d_loss: -0.02841\n",
      "\u001b[32m[1118 15:58:34 @monitor.py:467]\u001b[0m GAN_loss/g_loss: -0.12295\n",
      "\u001b[32m[1118 15:58:34 @monitor.py:467]\u001b[0m GAN_loss/kl_div: 0.045834\n",
      "\u001b[32m[1118 15:58:34 @monitor.py:467]\u001b[0m QueueInput/queue_size: 50\n",
      "\u001b[32m[1118 15:58:34 @base.py:275]\u001b[0m Start Epoch 719 ...\n"
     ]
    },
    {
     "name": "stderr",
     "output_type": "stream",
     "text": [
      "\n",
      "100%|#####################################################################################|17/17[00:00<00:00,37.05it/s]"
     ]
    },
    {
     "name": "stdout",
     "output_type": "stream",
     "text": [
      "\u001b[32m[1118 15:58:35 @base.py:285]\u001b[0m Epoch 719 (global_step 18334) finished, time:0.459 second.\n",
      "\u001b[32m[1118 15:58:35 @saver.py:79]\u001b[0m Model saved to ../output/Chicago/TEST/model\\model-18334.\n",
      "\u001b[32m[1118 15:58:35 @monitor.py:467]\u001b[0m GAN_loss/d_loss: -0.028089\n",
      "\u001b[32m[1118 15:58:35 @monitor.py:467]\u001b[0m GAN_loss/g_loss: -0.12335\n",
      "\u001b[32m[1118 15:58:35 @monitor.py:467]\u001b[0m GAN_loss/kl_div: 0.049325\n",
      "\u001b[32m[1118 15:58:35 @monitor.py:467]\u001b[0m QueueInput/queue_size: 50\n",
      "\u001b[32m[1118 15:58:35 @base.py:275]\u001b[0m Start Epoch 720 ...\n"
     ]
    },
    {
     "name": "stderr",
     "output_type": "stream",
     "text": [
      "\n",
      "100%|#####################################################################################|17/17[00:00<00:00,37.21it/s]"
     ]
    },
    {
     "name": "stdout",
     "output_type": "stream",
     "text": [
      "\u001b[32m[1118 15:58:35 @base.py:285]\u001b[0m Epoch 720 (global_step 18359) finished, time:0.457 second.\n",
      "\u001b[32m[1118 15:58:36 @saver.py:79]\u001b[0m Model saved to ../output/Chicago/TEST/model\\model-18359.\n",
      "\u001b[32m[1118 15:58:36 @monitor.py:467]\u001b[0m GAN_loss/d_loss: -0.02831\n",
      "\u001b[32m[1118 15:58:36 @monitor.py:467]\u001b[0m GAN_loss/g_loss: -0.12382\n",
      "\u001b[32m[1118 15:58:36 @monitor.py:467]\u001b[0m GAN_loss/kl_div: 0.052818\n",
      "\u001b[32m[1118 15:58:36 @monitor.py:467]\u001b[0m QueueInput/queue_size: 50\n",
      "\u001b[32m[1118 15:58:36 @base.py:275]\u001b[0m Start Epoch 721 ...\n"
     ]
    },
    {
     "name": "stderr",
     "output_type": "stream",
     "text": [
      "\n",
      "100%|#####################################################################################|17/17[00:00<00:00,37.13it/s]"
     ]
    },
    {
     "name": "stdout",
     "output_type": "stream",
     "text": [
      "\u001b[32m[1118 15:58:36 @base.py:285]\u001b[0m Epoch 721 (global_step 18385) finished, time:0.458 second.\n",
      "\u001b[32m[1118 15:58:36 @saver.py:79]\u001b[0m Model saved to ../output/Chicago/TEST/model\\model-18385.\n",
      "\u001b[32m[1118 15:58:36 @monitor.py:467]\u001b[0m GAN_loss/d_loss: -0.028862\n",
      "\u001b[32m[1118 15:58:36 @monitor.py:467]\u001b[0m GAN_loss/g_loss: -0.12396\n",
      "\u001b[32m[1118 15:58:36 @monitor.py:467]\u001b[0m GAN_loss/kl_div: 0.046813\n",
      "\u001b[32m[1118 15:58:36 @monitor.py:467]\u001b[0m QueueInput/queue_size: 50\n",
      "\u001b[32m[1118 15:58:36 @base.py:275]\u001b[0m Start Epoch 722 ...\n"
     ]
    },
    {
     "name": "stderr",
     "output_type": "stream",
     "text": [
      "\n",
      "100%|#####################################################################################|17/17[00:00<00:00,38.34it/s]"
     ]
    },
    {
     "name": "stdout",
     "output_type": "stream",
     "text": [
      "\u001b[32m[1118 15:58:37 @base.py:285]\u001b[0m Epoch 722 (global_step 18410) finished, time:0.444 second.\n",
      "\u001b[32m[1118 15:58:37 @saver.py:79]\u001b[0m Model saved to ../output/Chicago/TEST/model\\model-18410.\n",
      "\u001b[32m[1118 15:58:37 @monitor.py:467]\u001b[0m GAN_loss/d_loss: -0.029019\n",
      "\u001b[32m[1118 15:58:37 @monitor.py:467]\u001b[0m GAN_loss/g_loss: -0.12422\n",
      "\u001b[32m[1118 15:58:37 @monitor.py:467]\u001b[0m GAN_loss/kl_div: 0.050759\n",
      "\u001b[32m[1118 15:58:37 @monitor.py:467]\u001b[0m QueueInput/queue_size: 50\n",
      "\u001b[32m[1118 15:58:37 @base.py:275]\u001b[0m Start Epoch 723 ...\n"
     ]
    },
    {
     "name": "stderr",
     "output_type": "stream",
     "text": [
      "\n",
      "100%|#####################################################################################|17/17[00:00<00:00,36.42it/s]"
     ]
    },
    {
     "name": "stdout",
     "output_type": "stream",
     "text": [
      "\u001b[32m[1118 15:58:37 @base.py:285]\u001b[0m Epoch 723 (global_step 18436) finished, time:0.467 second.\n",
      "\u001b[32m[1118 15:58:37 @saver.py:79]\u001b[0m Model saved to ../output/Chicago/TEST/model\\model-18436.\n",
      "\u001b[32m[1118 15:58:38 @monitor.py:467]\u001b[0m GAN_loss/d_loss: -0.02841\n",
      "\u001b[32m[1118 15:58:38 @monitor.py:467]\u001b[0m GAN_loss/g_loss: -0.1246\n",
      "\u001b[32m[1118 15:58:38 @monitor.py:467]\u001b[0m GAN_loss/kl_div: 0.046781\n",
      "\u001b[32m[1118 15:58:38 @monitor.py:467]\u001b[0m QueueInput/queue_size: 50\n",
      "\u001b[32m[1118 15:58:38 @base.py:275]\u001b[0m Start Epoch 724 ...\n"
     ]
    },
    {
     "name": "stderr",
     "output_type": "stream",
     "text": [
      "\n",
      "100%|#####################################################################################|17/17[00:00<00:00,38.17it/s]"
     ]
    },
    {
     "name": "stdout",
     "output_type": "stream",
     "text": [
      "\u001b[32m[1118 15:58:38 @base.py:285]\u001b[0m Epoch 724 (global_step 18461) finished, time:0.446 second.\n",
      "\u001b[32m[1118 15:58:38 @saver.py:79]\u001b[0m Model saved to ../output/Chicago/TEST/model\\model-18461.\n",
      "\u001b[32m[1118 15:58:38 @monitor.py:467]\u001b[0m GAN_loss/d_loss: -0.028243\n",
      "\u001b[32m[1118 15:58:38 @monitor.py:467]\u001b[0m GAN_loss/g_loss: -0.12402\n",
      "\u001b[32m[1118 15:58:38 @monitor.py:467]\u001b[0m GAN_loss/kl_div: 0.050637\n",
      "\u001b[32m[1118 15:58:38 @monitor.py:467]\u001b[0m QueueInput/queue_size: 50\n",
      "\u001b[32m[1118 15:58:38 @base.py:275]\u001b[0m Start Epoch 725 ...\n"
     ]
    },
    {
     "name": "stderr",
     "output_type": "stream",
     "text": [
      "\n",
      "100%|#####################################################################################|17/17[00:00<00:00,37.05it/s]"
     ]
    },
    {
     "name": "stdout",
     "output_type": "stream",
     "text": [
      "\u001b[32m[1118 15:58:39 @base.py:285]\u001b[0m Epoch 725 (global_step 18487) finished, time:0.46 second.\n",
      "\u001b[32m[1118 15:58:39 @saver.py:79]\u001b[0m Model saved to ../output/Chicago/TEST/model\\model-18487.\n",
      "\u001b[32m[1118 15:58:39 @monitor.py:467]\u001b[0m GAN_loss/d_loss: -0.02766\n",
      "\u001b[32m[1118 15:58:39 @monitor.py:467]\u001b[0m GAN_loss/g_loss: -0.12347\n",
      "\u001b[32m[1118 15:58:39 @monitor.py:467]\u001b[0m GAN_loss/kl_div: 0.050501\n",
      "\u001b[32m[1118 15:58:39 @monitor.py:467]\u001b[0m QueueInput/queue_size: 50\n",
      "\u001b[32m[1118 15:58:39 @base.py:275]\u001b[0m Start Epoch 726 ...\n"
     ]
    },
    {
     "name": "stderr",
     "output_type": "stream",
     "text": [
      "\n",
      "100%|#####################################################################################|17/17[00:00<00:00,38.08it/s]"
     ]
    },
    {
     "name": "stdout",
     "output_type": "stream",
     "text": [
      "\u001b[32m[1118 15:58:39 @base.py:285]\u001b[0m Epoch 726 (global_step 18512) finished, time:0.447 second.\n",
      "\u001b[32m[1118 15:58:39 @saver.py:79]\u001b[0m Model saved to ../output/Chicago/TEST/model\\model-18512.\n",
      "\u001b[32m[1118 15:58:39 @monitor.py:467]\u001b[0m GAN_loss/d_loss: -0.027259\n",
      "\u001b[32m[1118 15:58:39 @monitor.py:467]\u001b[0m GAN_loss/g_loss: -0.12421\n",
      "\u001b[32m[1118 15:58:39 @monitor.py:467]\u001b[0m GAN_loss/kl_div: 0.051545\n",
      "\u001b[32m[1118 15:58:39 @monitor.py:467]\u001b[0m QueueInput/queue_size: 50\n",
      "\u001b[32m[1118 15:58:39 @base.py:275]\u001b[0m Start Epoch 727 ...\n"
     ]
    },
    {
     "name": "stderr",
     "output_type": "stream",
     "text": [
      "\n",
      "100%|#####################################################################################|17/17[00:00<00:00,36.81it/s]"
     ]
    },
    {
     "name": "stdout",
     "output_type": "stream",
     "text": [
      "\u001b[32m[1118 15:58:40 @base.py:285]\u001b[0m Epoch 727 (global_step 18538) finished, time:0.462 second.\n",
      "\u001b[32m[1118 15:58:40 @saver.py:79]\u001b[0m Model saved to ../output/Chicago/TEST/model\\model-18538.\n",
      "\u001b[32m[1118 15:58:40 @monitor.py:467]\u001b[0m GAN_loss/d_loss: -0.02735\n",
      "\u001b[32m[1118 15:58:40 @monitor.py:467]\u001b[0m GAN_loss/g_loss: -0.12459\n",
      "\u001b[32m[1118 15:58:40 @monitor.py:467]\u001b[0m GAN_loss/kl_div: 0.047731\n",
      "\u001b[32m[1118 15:58:40 @monitor.py:467]\u001b[0m QueueInput/queue_size: 50\n",
      "\u001b[32m[1118 15:58:40 @base.py:275]\u001b[0m Start Epoch 728 ...\n"
     ]
    },
    {
     "name": "stderr",
     "output_type": "stream",
     "text": [
      "\n",
      "100%|#####################################################################################|17/17[00:00<00:00,38.00it/s]"
     ]
    },
    {
     "name": "stdout",
     "output_type": "stream",
     "text": [
      "\u001b[32m[1118 15:58:40 @base.py:285]\u001b[0m Epoch 728 (global_step 18563) finished, time:0.448 second.\n",
      "\u001b[32m[1118 15:58:41 @saver.py:79]\u001b[0m Model saved to ../output/Chicago/TEST/model\\model-18563.\n",
      "\u001b[32m[1118 15:58:41 @monitor.py:467]\u001b[0m GAN_loss/d_loss: -0.028051\n",
      "\u001b[32m[1118 15:58:41 @monitor.py:467]\u001b[0m GAN_loss/g_loss: -0.12271\n",
      "\u001b[32m[1118 15:58:41 @monitor.py:467]\u001b[0m GAN_loss/kl_div: 0.046903\n",
      "\u001b[32m[1118 15:58:41 @monitor.py:467]\u001b[0m QueueInput/queue_size: 50\n",
      "\u001b[32m[1118 15:58:41 @base.py:275]\u001b[0m Start Epoch 729 ...\n"
     ]
    },
    {
     "name": "stderr",
     "output_type": "stream",
     "text": [
      "\n",
      "100%|#####################################################################################|17/17[00:00<00:00,36.70it/s]"
     ]
    },
    {
     "name": "stdout",
     "output_type": "stream",
     "text": [
      "\u001b[32m[1118 15:58:41 @base.py:285]\u001b[0m Epoch 729 (global_step 18589) finished, time:0.464 second.\n",
      "\u001b[32m[1118 15:58:41 @saver.py:79]\u001b[0m Model saved to ../output/Chicago/TEST/model\\model-18589.\n",
      "\u001b[32m[1118 15:58:41 @monitor.py:467]\u001b[0m GAN_loss/d_loss: -0.028872\n",
      "\u001b[32m[1118 15:58:41 @monitor.py:467]\u001b[0m GAN_loss/g_loss: -0.12359\n",
      "\u001b[32m[1118 15:58:41 @monitor.py:467]\u001b[0m GAN_loss/kl_div: 0.04515\n",
      "\u001b[32m[1118 15:58:41 @monitor.py:467]\u001b[0m QueueInput/queue_size: 50\n",
      "\u001b[32m[1118 15:58:41 @base.py:275]\u001b[0m Start Epoch 730 ...\n"
     ]
    },
    {
     "name": "stderr",
     "output_type": "stream",
     "text": [
      "\n",
      "100%|#####################################################################################|17/17[00:00<00:00,38.12it/s]"
     ]
    },
    {
     "name": "stdout",
     "output_type": "stream",
     "text": [
      "\u001b[32m[1118 15:58:42 @base.py:285]\u001b[0m Epoch 730 (global_step 18614) finished, time:0.446 second.\n",
      "\u001b[32m[1118 15:58:42 @saver.py:79]\u001b[0m Model saved to ../output/Chicago/TEST/model\\model-18614.\n",
      "\u001b[32m[1118 15:58:42 @monitor.py:467]\u001b[0m GAN_loss/d_loss: -0.028273\n",
      "\u001b[32m[1118 15:58:42 @monitor.py:467]\u001b[0m GAN_loss/g_loss: -0.12416\n",
      "\u001b[32m[1118 15:58:42 @monitor.py:467]\u001b[0m GAN_loss/kl_div: 0.052062\n",
      "\u001b[32m[1118 15:58:42 @monitor.py:467]\u001b[0m QueueInput/queue_size: 50\n",
      "\u001b[32m[1118 15:58:42 @base.py:275]\u001b[0m Start Epoch 731 ...\n"
     ]
    },
    {
     "name": "stderr",
     "output_type": "stream",
     "text": [
      "\n",
      "100%|#####################################################################################|17/17[00:00<00:00,36.85it/s]"
     ]
    },
    {
     "name": "stdout",
     "output_type": "stream",
     "text": [
      "\u001b[32m[1118 15:58:42 @base.py:285]\u001b[0m Epoch 731 (global_step 18640) finished, time:0.462 second.\n",
      "\u001b[32m[1118 15:58:42 @saver.py:79]\u001b[0m Model saved to ../output/Chicago/TEST/model\\model-18640.\n",
      "\u001b[32m[1118 15:58:42 @monitor.py:467]\u001b[0m GAN_loss/d_loss: -0.028562\n",
      "\u001b[32m[1118 15:58:42 @monitor.py:467]\u001b[0m GAN_loss/g_loss: -0.123\n",
      "\u001b[32m[1118 15:58:42 @monitor.py:467]\u001b[0m GAN_loss/kl_div: 0.049088\n",
      "\u001b[32m[1118 15:58:42 @monitor.py:467]\u001b[0m QueueInput/queue_size: 50\n",
      "\u001b[32m[1118 15:58:42 @base.py:275]\u001b[0m Start Epoch 732 ...\n"
     ]
    },
    {
     "name": "stderr",
     "output_type": "stream",
     "text": [
      "\n",
      "100%|#####################################################################################|17/17[00:00<00:00,38.04it/s]"
     ]
    },
    {
     "name": "stdout",
     "output_type": "stream",
     "text": [
      "\u001b[32m[1118 15:58:43 @base.py:285]\u001b[0m Epoch 732 (global_step 18665) finished, time:0.448 second.\n",
      "\u001b[32m[1118 15:58:43 @saver.py:79]\u001b[0m Model saved to ../output/Chicago/TEST/model\\model-18665.\n",
      "\u001b[32m[1118 15:58:43 @monitor.py:467]\u001b[0m GAN_loss/d_loss: -0.02879\n",
      "\u001b[32m[1118 15:58:43 @monitor.py:467]\u001b[0m GAN_loss/g_loss: -0.12386\n",
      "\u001b[32m[1118 15:58:43 @monitor.py:467]\u001b[0m GAN_loss/kl_div: 0.050094\n",
      "\u001b[32m[1118 15:58:43 @monitor.py:467]\u001b[0m QueueInput/queue_size: 50\n",
      "\u001b[32m[1118 15:58:43 @base.py:275]\u001b[0m Start Epoch 733 ...\n"
     ]
    },
    {
     "name": "stderr",
     "output_type": "stream",
     "text": [
      "\n",
      "100%|#####################################################################################|17/17[00:00<00:00,37.21it/s]"
     ]
    },
    {
     "name": "stdout",
     "output_type": "stream",
     "text": [
      "\u001b[32m[1118 15:58:44 @base.py:285]\u001b[0m Epoch 733 (global_step 18691) finished, time:0.457 second.\n",
      "\u001b[32m[1118 15:58:44 @saver.py:79]\u001b[0m Model saved to ../output/Chicago/TEST/model\\model-18691.\n",
      "\u001b[32m[1118 15:58:44 @monitor.py:467]\u001b[0m GAN_loss/d_loss: -0.029532\n",
      "\u001b[32m[1118 15:58:44 @monitor.py:467]\u001b[0m GAN_loss/g_loss: -0.12453\n",
      "\u001b[32m[1118 15:58:44 @monitor.py:467]\u001b[0m GAN_loss/kl_div: 0.049156\n",
      "\u001b[32m[1118 15:58:44 @monitor.py:467]\u001b[0m QueueInput/queue_size: 50\n",
      "\u001b[32m[1118 15:58:44 @base.py:275]\u001b[0m Start Epoch 734 ...\n"
     ]
    },
    {
     "name": "stderr",
     "output_type": "stream",
     "text": [
      "\n",
      "100%|#####################################################################################|17/17[00:00<00:00,38.17it/s]"
     ]
    },
    {
     "name": "stdout",
     "output_type": "stream",
     "text": [
      "\u001b[32m[1118 15:58:44 @base.py:285]\u001b[0m Epoch 734 (global_step 18716) finished, time:0.446 second.\n",
      "\u001b[32m[1118 15:58:44 @saver.py:79]\u001b[0m Model saved to ../output/Chicago/TEST/model\\model-18716.\n",
      "\u001b[32m[1118 15:58:44 @monitor.py:467]\u001b[0m GAN_loss/d_loss: -0.029884\n",
      "\u001b[32m[1118 15:58:44 @monitor.py:467]\u001b[0m GAN_loss/g_loss: -0.12438\n",
      "\u001b[32m[1118 15:58:44 @monitor.py:467]\u001b[0m GAN_loss/kl_div: 0.047205\n",
      "\u001b[32m[1118 15:58:44 @monitor.py:467]\u001b[0m QueueInput/queue_size: 50\n",
      "\u001b[32m[1118 15:58:44 @base.py:275]\u001b[0m Start Epoch 735 ...\n"
     ]
    },
    {
     "name": "stderr",
     "output_type": "stream",
     "text": [
      "\n",
      "100%|#####################################################################################|17/17[00:00<00:00,36.85it/s]"
     ]
    },
    {
     "name": "stdout",
     "output_type": "stream",
     "text": [
      "\u001b[32m[1118 15:58:45 @base.py:285]\u001b[0m Epoch 735 (global_step 18742) finished, time:0.462 second.\n",
      "\u001b[32m[1118 15:58:45 @saver.py:79]\u001b[0m Model saved to ../output/Chicago/TEST/model\\model-18742.\n",
      "\u001b[32m[1118 15:58:45 @monitor.py:467]\u001b[0m GAN_loss/d_loss: -0.029201\n",
      "\u001b[32m[1118 15:58:45 @monitor.py:467]\u001b[0m GAN_loss/g_loss: -0.12468\n",
      "\u001b[32m[1118 15:58:45 @monitor.py:467]\u001b[0m GAN_loss/kl_div: 0.047089\n",
      "\u001b[32m[1118 15:58:45 @monitor.py:467]\u001b[0m QueueInput/queue_size: 50\n",
      "\u001b[32m[1118 15:58:45 @base.py:275]\u001b[0m Start Epoch 736 ...\n"
     ]
    },
    {
     "name": "stderr",
     "output_type": "stream",
     "text": [
      "\n",
      "100%|#####################################################################################|17/17[00:00<00:00,38.25it/s]"
     ]
    },
    {
     "name": "stdout",
     "output_type": "stream",
     "text": [
      "\u001b[32m[1118 15:58:45 @base.py:285]\u001b[0m Epoch 736 (global_step 18767) finished, time:0.445 second.\n",
      "\u001b[32m[1118 15:58:45 @saver.py:79]\u001b[0m Model saved to ../output/Chicago/TEST/model\\model-18767.\n",
      "\u001b[32m[1118 15:58:46 @monitor.py:467]\u001b[0m GAN_loss/d_loss: -0.02759\n",
      "\u001b[32m[1118 15:58:46 @monitor.py:467]\u001b[0m GAN_loss/g_loss: -0.12561\n",
      "\u001b[32m[1118 15:58:46 @monitor.py:467]\u001b[0m GAN_loss/kl_div: 0.046909\n",
      "\u001b[32m[1118 15:58:46 @monitor.py:467]\u001b[0m QueueInput/queue_size: 50\n",
      "\u001b[32m[1118 15:58:46 @base.py:275]\u001b[0m Start Epoch 737 ...\n"
     ]
    },
    {
     "name": "stderr",
     "output_type": "stream",
     "text": [
      "\n",
      "100%|#####################################################################################|17/17[00:00<00:00,36.85it/s]"
     ]
    },
    {
     "name": "stdout",
     "output_type": "stream",
     "text": [
      "\u001b[32m[1118 15:58:46 @base.py:285]\u001b[0m Epoch 737 (global_step 18793) finished, time:0.461 second.\n",
      "\u001b[32m[1118 15:58:46 @saver.py:79]\u001b[0m Model saved to ../output/Chicago/TEST/model\\model-18793.\n",
      "\u001b[32m[1118 15:58:46 @monitor.py:467]\u001b[0m GAN_loss/d_loss: -0.028915\n",
      "\u001b[32m[1118 15:58:46 @monitor.py:467]\u001b[0m GAN_loss/g_loss: -0.12434\n",
      "\u001b[32m[1118 15:58:46 @monitor.py:467]\u001b[0m GAN_loss/kl_div: 0.046219\n",
      "\u001b[32m[1118 15:58:46 @monitor.py:467]\u001b[0m QueueInput/queue_size: 50\n",
      "\u001b[32m[1118 15:58:46 @base.py:275]\u001b[0m Start Epoch 738 ...\n"
     ]
    },
    {
     "name": "stderr",
     "output_type": "stream",
     "text": [
      "\n",
      "100%|#####################################################################################|17/17[00:00<00:00,38.17it/s]"
     ]
    },
    {
     "name": "stdout",
     "output_type": "stream",
     "text": [
      "\u001b[32m[1118 15:58:47 @base.py:285]\u001b[0m Epoch 738 (global_step 18818) finished, time:0.446 second.\n",
      "\u001b[32m[1118 15:58:47 @saver.py:79]\u001b[0m Model saved to ../output/Chicago/TEST/model\\model-18818.\n",
      "\u001b[32m[1118 15:58:47 @monitor.py:467]\u001b[0m GAN_loss/d_loss: -0.028432\n",
      "\u001b[32m[1118 15:58:47 @monitor.py:467]\u001b[0m GAN_loss/g_loss: -0.12513\n",
      "\u001b[32m[1118 15:58:47 @monitor.py:467]\u001b[0m GAN_loss/kl_div: 0.048598\n",
      "\u001b[32m[1118 15:58:47 @monitor.py:467]\u001b[0m QueueInput/queue_size: 50\n",
      "\u001b[32m[1118 15:58:47 @base.py:275]\u001b[0m Start Epoch 739 ...\n"
     ]
    },
    {
     "name": "stderr",
     "output_type": "stream",
     "text": [
      "\n",
      "100%|#####################################################################################|17/17[00:00<00:00,36.89it/s]"
     ]
    },
    {
     "name": "stdout",
     "output_type": "stream",
     "text": [
      "\u001b[32m[1118 15:58:47 @base.py:285]\u001b[0m Epoch 739 (global_step 18844) finished, time:0.461 second.\n",
      "\u001b[32m[1118 15:58:47 @saver.py:79]\u001b[0m Model saved to ../output/Chicago/TEST/model\\model-18844.\n",
      "\u001b[32m[1118 15:58:47 @monitor.py:467]\u001b[0m GAN_loss/d_loss: -0.027953\n",
      "\u001b[32m[1118 15:58:47 @monitor.py:467]\u001b[0m GAN_loss/g_loss: -0.12494\n",
      "\u001b[32m[1118 15:58:47 @monitor.py:467]\u001b[0m GAN_loss/kl_div: 0.04817\n",
      "\u001b[32m[1118 15:58:47 @monitor.py:467]\u001b[0m QueueInput/queue_size: 50\n",
      "\u001b[32m[1118 15:58:47 @base.py:275]\u001b[0m Start Epoch 740 ...\n"
     ]
    },
    {
     "name": "stderr",
     "output_type": "stream",
     "text": [
      "\n",
      "100%|#####################################################################################|17/17[00:00<00:00,37.09it/s]"
     ]
    },
    {
     "name": "stdout",
     "output_type": "stream",
     "text": [
      "\u001b[32m[1118 15:58:48 @base.py:285]\u001b[0m Epoch 740 (global_step 18869) finished, time:0.459 second.\n",
      "\u001b[32m[1118 15:58:48 @saver.py:79]\u001b[0m Model saved to ../output/Chicago/TEST/model\\model-18869.\n",
      "\u001b[32m[1118 15:58:48 @monitor.py:467]\u001b[0m GAN_loss/d_loss: -0.027584\n",
      "\u001b[32m[1118 15:58:48 @monitor.py:467]\u001b[0m GAN_loss/g_loss: -0.12618\n",
      "\u001b[32m[1118 15:58:48 @monitor.py:467]\u001b[0m GAN_loss/kl_div: 0.048733\n",
      "\u001b[32m[1118 15:58:48 @monitor.py:467]\u001b[0m QueueInput/queue_size: 50\n",
      "\u001b[32m[1118 15:58:48 @base.py:275]\u001b[0m Start Epoch 741 ...\n"
     ]
    },
    {
     "name": "stderr",
     "output_type": "stream",
     "text": [
      "\n",
      "100%|#####################################################################################|17/17[00:00<00:00,36.35it/s]"
     ]
    },
    {
     "name": "stdout",
     "output_type": "stream",
     "text": [
      "\u001b[32m[1118 15:58:48 @base.py:285]\u001b[0m Epoch 741 (global_step 18895) finished, time:0.468 second.\n",
      "\u001b[32m[1118 15:58:49 @saver.py:79]\u001b[0m Model saved to ../output/Chicago/TEST/model\\model-18895.\n",
      "\u001b[32m[1118 15:58:49 @monitor.py:467]\u001b[0m GAN_loss/d_loss: -0.027251\n",
      "\u001b[32m[1118 15:58:49 @monitor.py:467]\u001b[0m GAN_loss/g_loss: -0.12627\n",
      "\u001b[32m[1118 15:58:49 @monitor.py:467]\u001b[0m GAN_loss/kl_div: 0.049368\n",
      "\u001b[32m[1118 15:58:49 @monitor.py:467]\u001b[0m QueueInput/queue_size: 50\n",
      "\u001b[32m[1118 15:58:49 @base.py:275]\u001b[0m Start Epoch 742 ...\n"
     ]
    },
    {
     "name": "stderr",
     "output_type": "stream",
     "text": [
      "\n",
      "100%|#####################################################################################|17/17[00:00<00:00,38.30it/s]"
     ]
    },
    {
     "name": "stdout",
     "output_type": "stream",
     "text": [
      "\u001b[32m[1118 15:58:49 @base.py:285]\u001b[0m Epoch 742 (global_step 18920) finished, time:0.444 second.\n",
      "\u001b[32m[1118 15:58:49 @saver.py:79]\u001b[0m Model saved to ../output/Chicago/TEST/model\\model-18920.\n",
      "\u001b[32m[1118 15:58:49 @monitor.py:467]\u001b[0m GAN_loss/d_loss: -0.028285\n",
      "\u001b[32m[1118 15:58:49 @monitor.py:467]\u001b[0m GAN_loss/g_loss: -0.12528\n",
      "\u001b[32m[1118 15:58:49 @monitor.py:467]\u001b[0m GAN_loss/kl_div: 0.047838\n",
      "\u001b[32m[1118 15:58:49 @monitor.py:467]\u001b[0m QueueInput/queue_size: 50\n",
      "\u001b[32m[1118 15:58:49 @base.py:275]\u001b[0m Start Epoch 743 ...\n"
     ]
    },
    {
     "name": "stderr",
     "output_type": "stream",
     "text": [
      "\n",
      "100%|#####################################################################################|17/17[00:00<00:00,35.85it/s]"
     ]
    },
    {
     "name": "stdout",
     "output_type": "stream",
     "text": [
      "\u001b[32m[1118 15:58:50 @base.py:285]\u001b[0m Epoch 743 (global_step 18946) finished, time:0.475 second.\n",
      "\u001b[32m[1118 15:58:50 @saver.py:79]\u001b[0m Model saved to ../output/Chicago/TEST/model\\model-18946.\n",
      "\u001b[32m[1118 15:58:50 @monitor.py:467]\u001b[0m GAN_loss/d_loss: -0.029001\n",
      "\u001b[32m[1118 15:58:50 @monitor.py:467]\u001b[0m GAN_loss/g_loss: -0.12565\n",
      "\u001b[32m[1118 15:58:50 @monitor.py:467]\u001b[0m GAN_loss/kl_div: 0.046705\n",
      "\u001b[32m[1118 15:58:50 @monitor.py:467]\u001b[0m QueueInput/queue_size: 50\n",
      "\u001b[32m[1118 15:58:50 @base.py:275]\u001b[0m Start Epoch 744 ...\n"
     ]
    },
    {
     "name": "stderr",
     "output_type": "stream",
     "text": [
      "\n",
      "100%|#####################################################################################|17/17[00:00<00:00,38.17it/s]"
     ]
    },
    {
     "name": "stdout",
     "output_type": "stream",
     "text": [
      "\u001b[32m[1118 15:58:50 @base.py:285]\u001b[0m Epoch 744 (global_step 18971) finished, time:0.446 second.\n",
      "\u001b[32m[1118 15:58:50 @saver.py:79]\u001b[0m Model saved to ../output/Chicago/TEST/model\\model-18971.\n",
      "\u001b[32m[1118 15:58:50 @monitor.py:467]\u001b[0m GAN_loss/d_loss: -0.028776\n",
      "\u001b[32m[1118 15:58:51 @monitor.py:467]\u001b[0m GAN_loss/g_loss: -0.12478\n",
      "\u001b[32m[1118 15:58:51 @monitor.py:467]\u001b[0m GAN_loss/kl_div: 0.047658\n",
      "\u001b[32m[1118 15:58:51 @monitor.py:467]\u001b[0m QueueInput/queue_size: 50\n",
      "\u001b[32m[1118 15:58:51 @base.py:275]\u001b[0m Start Epoch 745 ...\n"
     ]
    },
    {
     "name": "stderr",
     "output_type": "stream",
     "text": [
      "\n",
      "100%|#####################################################################################|17/17[00:00<00:00,37.17it/s]"
     ]
    },
    {
     "name": "stdout",
     "output_type": "stream",
     "text": [
      "\u001b[32m[1118 15:58:51 @base.py:285]\u001b[0m Epoch 745 (global_step 18997) finished, time:0.458 second.\n",
      "\u001b[32m[1118 15:58:51 @saver.py:79]\u001b[0m Model saved to ../output/Chicago/TEST/model\\model-18997.\n",
      "\u001b[32m[1118 15:58:51 @monitor.py:467]\u001b[0m GAN_loss/d_loss: -0.028685\n",
      "\u001b[32m[1118 15:58:51 @monitor.py:467]\u001b[0m GAN_loss/g_loss: -0.12569\n",
      "\u001b[32m[1118 15:58:51 @monitor.py:467]\u001b[0m GAN_loss/kl_div: 0.048532\n",
      "\u001b[32m[1118 15:58:51 @monitor.py:467]\u001b[0m QueueInput/queue_size: 50\n",
      "\u001b[32m[1118 15:58:51 @base.py:275]\u001b[0m Start Epoch 746 ...\n"
     ]
    },
    {
     "name": "stderr",
     "output_type": "stream",
     "text": [
      "\n",
      "100%|#####################################################################################|17/17[00:00<00:00,38.25it/s]"
     ]
    },
    {
     "name": "stdout",
     "output_type": "stream",
     "text": [
      "\u001b[32m[1118 15:58:52 @base.py:285]\u001b[0m Epoch 746 (global_step 19022) finished, time:0.445 second.\n",
      "\u001b[32m[1118 15:58:52 @saver.py:79]\u001b[0m Model saved to ../output/Chicago/TEST/model\\model-19022.\n",
      "\u001b[32m[1118 15:58:52 @monitor.py:467]\u001b[0m GAN_loss/d_loss: -0.027981\n",
      "\u001b[32m[1118 15:58:52 @monitor.py:467]\u001b[0m GAN_loss/g_loss: -0.12676\n",
      "\u001b[32m[1118 15:58:52 @monitor.py:467]\u001b[0m GAN_loss/kl_div: 0.049553\n",
      "\u001b[32m[1118 15:58:52 @monitor.py:467]\u001b[0m QueueInput/queue_size: 50\n",
      "\u001b[32m[1118 15:58:52 @base.py:275]\u001b[0m Start Epoch 747 ...\n"
     ]
    },
    {
     "name": "stderr",
     "output_type": "stream",
     "text": [
      "\n",
      "100%|#####################################################################################|17/17[00:00<00:00,36.76it/s]"
     ]
    },
    {
     "name": "stdout",
     "output_type": "stream",
     "text": [
      "\u001b[32m[1118 15:58:52 @base.py:285]\u001b[0m Epoch 747 (global_step 19048) finished, time:0.463 second.\n",
      "\u001b[32m[1118 15:58:52 @saver.py:79]\u001b[0m Model saved to ../output/Chicago/TEST/model\\model-19048.\n",
      "\u001b[32m[1118 15:58:52 @monitor.py:467]\u001b[0m GAN_loss/d_loss: -0.027098\n",
      "\u001b[32m[1118 15:58:52 @monitor.py:467]\u001b[0m GAN_loss/g_loss: -0.12604\n",
      "\u001b[32m[1118 15:58:52 @monitor.py:467]\u001b[0m GAN_loss/kl_div: 0.046749\n",
      "\u001b[32m[1118 15:58:52 @monitor.py:467]\u001b[0m QueueInput/queue_size: 50\n",
      "\u001b[32m[1118 15:58:52 @base.py:275]\u001b[0m Start Epoch 748 ...\n"
     ]
    },
    {
     "name": "stderr",
     "output_type": "stream",
     "text": [
      "\n",
      "100%|#####################################################################################|17/17[00:00<00:00,38.34it/s]"
     ]
    },
    {
     "name": "stdout",
     "output_type": "stream",
     "text": [
      "\u001b[32m[1118 15:58:53 @base.py:285]\u001b[0m Epoch 748 (global_step 19073) finished, time:0.444 second.\n",
      "\u001b[32m[1118 15:58:53 @saver.py:79]\u001b[0m Model saved to ../output/Chicago/TEST/model\\model-19073.\n",
      "\u001b[32m[1118 15:58:53 @monitor.py:467]\u001b[0m GAN_loss/d_loss: -0.027882\n",
      "\u001b[32m[1118 15:58:53 @monitor.py:467]\u001b[0m GAN_loss/g_loss: -0.12632\n",
      "\u001b[32m[1118 15:58:53 @monitor.py:467]\u001b[0m GAN_loss/kl_div: 0.046853\n",
      "\u001b[32m[1118 15:58:53 @monitor.py:467]\u001b[0m QueueInput/queue_size: 50\n",
      "\u001b[32m[1118 15:58:53 @base.py:275]\u001b[0m Start Epoch 749 ...\n"
     ]
    },
    {
     "name": "stderr",
     "output_type": "stream",
     "text": [
      "\n",
      "100%|#####################################################################################|17/17[00:00<00:00,36.86it/s]"
     ]
    },
    {
     "name": "stdout",
     "output_type": "stream",
     "text": [
      "\u001b[32m[1118 15:58:53 @base.py:285]\u001b[0m Epoch 749 (global_step 19099) finished, time:0.462 second.\n",
      "\u001b[32m[1118 15:58:54 @saver.py:79]\u001b[0m Model saved to ../output/Chicago/TEST/model\\model-19099.\n",
      "\u001b[32m[1118 15:58:54 @monitor.py:467]\u001b[0m GAN_loss/d_loss: -0.028732\n",
      "\u001b[32m[1118 15:58:54 @monitor.py:467]\u001b[0m GAN_loss/g_loss: -0.12614\n",
      "\u001b[32m[1118 15:58:54 @monitor.py:467]\u001b[0m GAN_loss/kl_div: 0.046609\n",
      "\u001b[32m[1118 15:58:54 @monitor.py:467]\u001b[0m QueueInput/queue_size: 50\n",
      "\u001b[32m[1118 15:58:54 @base.py:275]\u001b[0m Start Epoch 750 ...\n"
     ]
    },
    {
     "name": "stderr",
     "output_type": "stream",
     "text": [
      "\n",
      "100%|#####################################################################################|17/17[00:00<00:00,38.38it/s]"
     ]
    },
    {
     "name": "stdout",
     "output_type": "stream",
     "text": [
      "\u001b[32m[1118 15:58:54 @base.py:285]\u001b[0m Epoch 750 (global_step 19124) finished, time:0.443 second.\n",
      "\u001b[32m[1118 15:58:54 @saver.py:79]\u001b[0m Model saved to ../output/Chicago/TEST/model\\model-19124.\n",
      "\u001b[32m[1118 15:58:54 @monitor.py:467]\u001b[0m GAN_loss/d_loss: -0.028879\n",
      "\u001b[32m[1118 15:58:54 @monitor.py:467]\u001b[0m GAN_loss/g_loss: -0.12633\n",
      "\u001b[32m[1118 15:58:54 @monitor.py:467]\u001b[0m GAN_loss/kl_div: 0.049806\n",
      "\u001b[32m[1118 15:58:54 @monitor.py:467]\u001b[0m QueueInput/queue_size: 50\n",
      "\u001b[32m[1118 15:58:54 @base.py:275]\u001b[0m Start Epoch 751 ...\n"
     ]
    },
    {
     "name": "stderr",
     "output_type": "stream",
     "text": [
      "\n",
      "100%|#####################################################################################|17/17[00:00<00:00,36.70it/s]"
     ]
    },
    {
     "name": "stdout",
     "output_type": "stream",
     "text": [
      "\u001b[32m[1118 15:58:55 @base.py:285]\u001b[0m Epoch 751 (global_step 19150) finished, time:0.464 second.\n",
      "\u001b[32m[1118 15:58:55 @saver.py:79]\u001b[0m Model saved to ../output/Chicago/TEST/model\\model-19150.\n",
      "\u001b[32m[1118 15:58:55 @monitor.py:467]\u001b[0m GAN_loss/d_loss: -0.027711\n",
      "\u001b[32m[1118 15:58:55 @monitor.py:467]\u001b[0m GAN_loss/g_loss: -0.12696\n",
      "\u001b[32m[1118 15:58:55 @monitor.py:467]\u001b[0m GAN_loss/kl_div: 0.050659\n",
      "\u001b[32m[1118 15:58:55 @monitor.py:467]\u001b[0m QueueInput/queue_size: 50\n",
      "\u001b[32m[1118 15:58:55 @base.py:275]\u001b[0m Start Epoch 752 ...\n"
     ]
    },
    {
     "name": "stderr",
     "output_type": "stream",
     "text": [
      "\n",
      "100%|#####################################################################################|17/17[00:00<00:00,38.17it/s]"
     ]
    },
    {
     "name": "stdout",
     "output_type": "stream",
     "text": [
      "\u001b[32m[1118 15:58:55 @base.py:285]\u001b[0m Epoch 752 (global_step 19175) finished, time:0.446 second.\n",
      "\u001b[32m[1118 15:58:55 @saver.py:79]\u001b[0m Model saved to ../output/Chicago/TEST/model\\model-19175.\n",
      "\u001b[32m[1118 15:58:55 @monitor.py:467]\u001b[0m GAN_loss/d_loss: -0.02815\n",
      "\u001b[32m[1118 15:58:55 @monitor.py:467]\u001b[0m GAN_loss/g_loss: -0.12729\n",
      "\u001b[32m[1118 15:58:55 @monitor.py:467]\u001b[0m GAN_loss/kl_div: 0.04918\n",
      "\u001b[32m[1118 15:58:55 @monitor.py:467]\u001b[0m QueueInput/queue_size: 50\n",
      "\u001b[32m[1118 15:58:55 @base.py:275]\u001b[0m Start Epoch 753 ...\n"
     ]
    },
    {
     "name": "stderr",
     "output_type": "stream",
     "text": [
      "\n",
      "100%|#####################################################################################|17/17[00:00<00:00,36.81it/s]"
     ]
    },
    {
     "name": "stdout",
     "output_type": "stream",
     "text": [
      "\u001b[32m[1118 15:58:56 @base.py:285]\u001b[0m Epoch 753 (global_step 19201) finished, time:0.462 second.\n",
      "\u001b[32m[1118 15:58:56 @saver.py:79]\u001b[0m Model saved to ../output/Chicago/TEST/model\\model-19201.\n",
      "\u001b[32m[1118 15:58:56 @monitor.py:467]\u001b[0m GAN_loss/d_loss: -0.026322\n",
      "\u001b[32m[1118 15:58:56 @monitor.py:467]\u001b[0m GAN_loss/g_loss: -0.12736\n",
      "\u001b[32m[1118 15:58:56 @monitor.py:467]\u001b[0m GAN_loss/kl_div: 0.05003\n",
      "\u001b[32m[1118 15:58:56 @monitor.py:467]\u001b[0m QueueInput/queue_size: 50\n",
      "\u001b[32m[1118 15:58:56 @base.py:275]\u001b[0m Start Epoch 754 ...\n"
     ]
    },
    {
     "name": "stderr",
     "output_type": "stream",
     "text": [
      "\n",
      "100%|#####################################################################################|17/17[00:00<00:00,38.12it/s]"
     ]
    },
    {
     "name": "stdout",
     "output_type": "stream",
     "text": [
      "\u001b[32m[1118 15:58:57 @base.py:285]\u001b[0m Epoch 754 (global_step 19226) finished, time:0.446 second.\n",
      "\u001b[32m[1118 15:58:57 @saver.py:79]\u001b[0m Model saved to ../output/Chicago/TEST/model\\model-19226.\n",
      "\u001b[32m[1118 15:58:57 @monitor.py:467]\u001b[0m GAN_loss/d_loss: -0.026921\n",
      "\u001b[32m[1118 15:58:57 @monitor.py:467]\u001b[0m GAN_loss/g_loss: -0.12715\n",
      "\u001b[32m[1118 15:58:57 @monitor.py:467]\u001b[0m GAN_loss/kl_div: 0.046824\n",
      "\u001b[32m[1118 15:58:57 @monitor.py:467]\u001b[0m QueueInput/queue_size: 50\n",
      "\u001b[32m[1118 15:58:57 @base.py:275]\u001b[0m Start Epoch 755 ...\n"
     ]
    },
    {
     "name": "stderr",
     "output_type": "stream",
     "text": [
      "\n",
      "100%|#####################################################################################|17/17[00:00<00:00,37.05it/s]"
     ]
    },
    {
     "name": "stdout",
     "output_type": "stream",
     "text": [
      "\u001b[32m[1118 15:58:57 @base.py:285]\u001b[0m Epoch 755 (global_step 19252) finished, time:0.46 second.\n",
      "\u001b[32m[1118 15:58:57 @saver.py:79]\u001b[0m Model saved to ../output/Chicago/TEST/model\\model-19252.\n",
      "\u001b[32m[1118 15:58:57 @monitor.py:467]\u001b[0m GAN_loss/d_loss: -0.027431\n",
      "\u001b[32m[1118 15:58:57 @monitor.py:467]\u001b[0m GAN_loss/g_loss: -0.12651\n",
      "\u001b[32m[1118 15:58:57 @monitor.py:467]\u001b[0m GAN_loss/kl_div: 0.049498\n",
      "\u001b[32m[1118 15:58:57 @monitor.py:467]\u001b[0m QueueInput/queue_size: 50\n",
      "\u001b[32m[1118 15:58:57 @base.py:275]\u001b[0m Start Epoch 756 ...\n"
     ]
    },
    {
     "name": "stderr",
     "output_type": "stream",
     "text": [
      "\n",
      "100%|#####################################################################################|17/17[00:00<00:00,38.21it/s]"
     ]
    },
    {
     "name": "stdout",
     "output_type": "stream",
     "text": [
      "\u001b[32m[1118 15:58:58 @base.py:285]\u001b[0m Epoch 756 (global_step 19277) finished, time:0.445 second.\n",
      "\u001b[32m[1118 15:58:58 @saver.py:79]\u001b[0m Model saved to ../output/Chicago/TEST/model\\model-19277.\n",
      "\u001b[32m[1118 15:58:58 @monitor.py:467]\u001b[0m GAN_loss/d_loss: -0.027526\n",
      "\u001b[32m[1118 15:58:58 @monitor.py:467]\u001b[0m GAN_loss/g_loss: -0.12648\n",
      "\u001b[32m[1118 15:58:58 @monitor.py:467]\u001b[0m GAN_loss/kl_div: 0.050512\n",
      "\u001b[32m[1118 15:58:58 @monitor.py:467]\u001b[0m QueueInput/queue_size: 50\n",
      "\u001b[32m[1118 15:58:58 @base.py:275]\u001b[0m Start Epoch 757 ...\n"
     ]
    },
    {
     "name": "stderr",
     "output_type": "stream",
     "text": [
      "\n",
      "100%|#####################################################################################|17/17[00:00<00:00,36.97it/s]"
     ]
    },
    {
     "name": "stdout",
     "output_type": "stream",
     "text": [
      "\u001b[32m[1118 15:58:58 @base.py:285]\u001b[0m Epoch 757 (global_step 19303) finished, time:0.46 second.\n",
      "\u001b[32m[1118 15:58:58 @saver.py:79]\u001b[0m Model saved to ../output/Chicago/TEST/model\\model-19303.\n",
      "\u001b[32m[1118 15:58:59 @monitor.py:467]\u001b[0m GAN_loss/d_loss: -0.026784\n",
      "\u001b[32m[1118 15:58:59 @monitor.py:467]\u001b[0m GAN_loss/g_loss: -0.12822\n",
      "\u001b[32m[1118 15:58:59 @monitor.py:467]\u001b[0m GAN_loss/kl_div: 0.050496\n",
      "\u001b[32m[1118 15:58:59 @monitor.py:467]\u001b[0m QueueInput/queue_size: 50\n",
      "\u001b[32m[1118 15:58:59 @base.py:275]\u001b[0m Start Epoch 758 ...\n"
     ]
    },
    {
     "name": "stderr",
     "output_type": "stream",
     "text": [
      "\n",
      "100%|#####################################################################################|17/17[00:00<00:00,38.25it/s]"
     ]
    },
    {
     "name": "stdout",
     "output_type": "stream",
     "text": [
      "\u001b[32m[1118 15:58:59 @base.py:285]\u001b[0m Epoch 758 (global_step 19328) finished, time:0.445 second.\n",
      "\u001b[32m[1118 15:58:59 @saver.py:79]\u001b[0m Model saved to ../output/Chicago/TEST/model\\model-19328.\n",
      "\u001b[32m[1118 15:58:59 @monitor.py:467]\u001b[0m GAN_loss/d_loss: -0.029325\n",
      "\u001b[32m[1118 15:58:59 @monitor.py:467]\u001b[0m GAN_loss/g_loss: -0.12698\n",
      "\u001b[32m[1118 15:58:59 @monitor.py:467]\u001b[0m GAN_loss/kl_div: 0.051634\n",
      "\u001b[32m[1118 15:58:59 @monitor.py:467]\u001b[0m QueueInput/queue_size: 50\n",
      "\u001b[32m[1118 15:58:59 @base.py:275]\u001b[0m Start Epoch 759 ...\n"
     ]
    },
    {
     "name": "stderr",
     "output_type": "stream",
     "text": [
      "\n",
      "100%|#####################################################################################|17/17[00:00<00:00,36.89it/s]"
     ]
    },
    {
     "name": "stdout",
     "output_type": "stream",
     "text": [
      "\u001b[32m[1118 15:59:00 @base.py:285]\u001b[0m Epoch 759 (global_step 19354) finished, time:0.461 second.\n",
      "\u001b[32m[1118 15:59:00 @saver.py:79]\u001b[0m Model saved to ../output/Chicago/TEST/model\\model-19354.\n",
      "\u001b[32m[1118 15:59:00 @monitor.py:467]\u001b[0m GAN_loss/d_loss: -0.027428\n",
      "\u001b[32m[1118 15:59:00 @monitor.py:467]\u001b[0m GAN_loss/g_loss: -0.12849\n",
      "\u001b[32m[1118 15:59:00 @monitor.py:467]\u001b[0m GAN_loss/kl_div: 0.047287\n",
      "\u001b[32m[1118 15:59:00 @monitor.py:467]\u001b[0m QueueInput/queue_size: 50\n",
      "\u001b[32m[1118 15:59:00 @base.py:275]\u001b[0m Start Epoch 760 ...\n"
     ]
    },
    {
     "name": "stderr",
     "output_type": "stream",
     "text": [
      "\n",
      "100%|#####################################################################################|17/17[00:00<00:00,38.17it/s]"
     ]
    },
    {
     "name": "stdout",
     "output_type": "stream",
     "text": [
      "\u001b[32m[1118 15:59:00 @base.py:285]\u001b[0m Epoch 760 (global_step 19379) finished, time:0.446 second.\n",
      "\u001b[32m[1118 15:59:00 @saver.py:79]\u001b[0m Model saved to ../output/Chicago/TEST/model\\model-19379.\n"
     ]
    },
    {
     "name": "stderr",
     "output_type": "stream",
     "text": [
      "\n"
     ]
    },
    {
     "name": "stdout",
     "output_type": "stream",
     "text": [
      "\u001b[32m[1118 15:59:00 @monitor.py:467]\u001b[0m GAN_loss/d_loss: -0.028211\n",
      "\u001b[32m[1118 15:59:00 @monitor.py:467]\u001b[0m GAN_loss/g_loss: -0.12916\n",
      "\u001b[32m[1118 15:59:00 @monitor.py:467]\u001b[0m GAN_loss/kl_div: 0.050044\n",
      "\u001b[32m[1118 15:59:00 @monitor.py:467]\u001b[0m QueueInput/queue_size: 50\n",
      "\u001b[32m[1118 15:59:00 @base.py:275]\u001b[0m Start Epoch 761 ...\n"
     ]
    },
    {
     "name": "stderr",
     "output_type": "stream",
     "text": [
      "100%|#####################################################################################|17/17[00:00<00:00,36.97it/s]"
     ]
    },
    {
     "name": "stdout",
     "output_type": "stream",
     "text": [
      "\u001b[32m[1118 15:59:01 @base.py:285]\u001b[0m Epoch 761 (global_step 19405) finished, time:0.46 second.\n",
      "\u001b[32m[1118 15:59:01 @saver.py:79]\u001b[0m Model saved to ../output/Chicago/TEST/model\\model-19405.\n",
      "\u001b[32m[1118 15:59:01 @monitor.py:467]\u001b[0m GAN_loss/d_loss: -0.028119\n"
     ]
    },
    {
     "name": "stderr",
     "output_type": "stream",
     "text": [
      "\n"
     ]
    },
    {
     "name": "stdout",
     "output_type": "stream",
     "text": [
      "\u001b[32m[1118 15:59:01 @monitor.py:467]\u001b[0m GAN_loss/g_loss: -0.12885\n",
      "\u001b[32m[1118 15:59:01 @monitor.py:467]\u001b[0m GAN_loss/kl_div: 0.054365\n",
      "\u001b[32m[1118 15:59:01 @monitor.py:467]\u001b[0m QueueInput/queue_size: 50\n",
      "\u001b[32m[1118 15:59:01 @base.py:275]\u001b[0m Start Epoch 762 ...\n"
     ]
    },
    {
     "name": "stderr",
     "output_type": "stream",
     "text": [
      "100%|#####################################################################################|17/17[00:00<00:00,38.21it/s]"
     ]
    },
    {
     "name": "stdout",
     "output_type": "stream",
     "text": [
      "\u001b[32m[1118 15:59:02 @base.py:285]\u001b[0m Epoch 762 (global_step 19430) finished, time:0.445 second.\n",
      "\u001b[32m[1118 15:59:02 @saver.py:79]\u001b[0m Model saved to ../output/Chicago/TEST/model\\model-19430.\n",
      "\u001b[32m[1118 15:59:02 @monitor.py:467]\u001b[0m GAN_loss/d_loss: -0.028369\n",
      "\u001b[32m[1118 15:59:02 @monitor.py:467]\u001b[0m GAN_loss/g_loss: -0.12888\n",
      "\u001b[32m[1118 15:59:02 @monitor.py:467]\u001b[0m GAN_loss/kl_div: 0.049272\n",
      "\u001b[32m[1118 15:59:02 @monitor.py:467]\u001b[0m QueueInput/queue_size: 50\n",
      "\u001b[32m[1118 15:59:02 @base.py:275]\u001b[0m Start Epoch 763 ...\n"
     ]
    },
    {
     "name": "stderr",
     "output_type": "stream",
     "text": [
      "\n",
      "100%|#####################################################################################|17/17[00:00<00:00,36.97it/s]"
     ]
    },
    {
     "name": "stdout",
     "output_type": "stream",
     "text": [
      "\u001b[32m[1118 15:59:02 @base.py:285]\u001b[0m Epoch 763 (global_step 19456) finished, time:0.461 second.\n",
      "\u001b[32m[1118 15:59:02 @saver.py:79]\u001b[0m Model saved to ../output/Chicago/TEST/model\\model-19456.\n",
      "\u001b[32m[1118 15:59:02 @monitor.py:467]\u001b[0m GAN_loss/d_loss: -0.028275\n"
     ]
    },
    {
     "name": "stderr",
     "output_type": "stream",
     "text": [
      "\n"
     ]
    },
    {
     "name": "stdout",
     "output_type": "stream",
     "text": [
      "\u001b[32m[1118 15:59:02 @monitor.py:467]\u001b[0m GAN_loss/g_loss: -0.12956\n",
      "\u001b[32m[1118 15:59:02 @monitor.py:467]\u001b[0m GAN_loss/kl_div: 0.049816\n",
      "\u001b[32m[1118 15:59:02 @monitor.py:467]\u001b[0m QueueInput/queue_size: 50\n",
      "\u001b[32m[1118 15:59:02 @base.py:275]\u001b[0m Start Epoch 764 ...\n"
     ]
    },
    {
     "name": "stderr",
     "output_type": "stream",
     "text": [
      "100%|#####################################################################################|17/17[00:00<00:00,38.21it/s]"
     ]
    },
    {
     "name": "stdout",
     "output_type": "stream",
     "text": [
      "\u001b[32m[1118 15:59:03 @base.py:285]\u001b[0m Epoch 764 (global_step 19481) finished, time:0.445 second.\n",
      "\u001b[32m[1118 15:59:03 @saver.py:79]\u001b[0m Model saved to ../output/Chicago/TEST/model\\model-19481.\n",
      "\u001b[32m[1118 15:59:03 @monitor.py:467]\u001b[0m GAN_loss/d_loss: -0.027353\n",
      "\u001b[32m[1118 15:59:03 @monitor.py:467]\u001b[0m GAN_loss/g_loss: -0.12939\n",
      "\u001b[32m[1118 15:59:03 @monitor.py:467]\u001b[0m GAN_loss/kl_div: 0.049392\n",
      "\u001b[32m[1118 15:59:03 @monitor.py:467]\u001b[0m QueueInput/queue_size: 50\n",
      "\u001b[32m[1118 15:59:03 @base.py:275]\u001b[0m Start Epoch 765 ...\n"
     ]
    },
    {
     "name": "stderr",
     "output_type": "stream",
     "text": [
      "\n",
      "100%|#####################################################################################|17/17[00:00<00:00,36.97it/s]"
     ]
    },
    {
     "name": "stdout",
     "output_type": "stream",
     "text": [
      "\u001b[32m[1118 15:59:03 @base.py:285]\u001b[0m Epoch 765 (global_step 19507) finished, time:0.461 second.\n",
      "\u001b[32m[1118 15:59:04 @saver.py:79]\u001b[0m Model saved to ../output/Chicago/TEST/model\\model-19507.\n",
      "\u001b[32m[1118 15:59:04 @monitor.py:467]\u001b[0m GAN_loss/d_loss: -0.027759\n",
      "\u001b[32m[1118 15:59:04 @monitor.py:467]\u001b[0m GAN_loss/g_loss: -0.1291\n",
      "\u001b[32m[1118 15:59:04 @monitor.py:467]\u001b[0m GAN_loss/kl_div: 0.048169\n",
      "\u001b[32m[1118 15:59:04 @monitor.py:467]\u001b[0m QueueInput/queue_size: 50\n",
      "\u001b[32m[1118 15:59:04 @base.py:275]\u001b[0m Start Epoch 766 ...\n"
     ]
    },
    {
     "name": "stderr",
     "output_type": "stream",
     "text": [
      "\n",
      "100%|#####################################################################################|17/17[00:00<00:00,38.42it/s]"
     ]
    },
    {
     "name": "stdout",
     "output_type": "stream",
     "text": [
      "\u001b[32m[1118 15:59:04 @base.py:285]\u001b[0m Epoch 766 (global_step 19532) finished, time:0.443 second.\n",
      "\u001b[32m[1118 15:59:04 @saver.py:79]\u001b[0m Model saved to ../output/Chicago/TEST/model\\model-19532.\n",
      "\u001b[32m[1118 15:59:04 @monitor.py:467]\u001b[0m GAN_loss/d_loss: -0.028339\n",
      "\u001b[32m[1118 15:59:04 @monitor.py:467]\u001b[0m GAN_loss/g_loss: -0.12906\n",
      "\u001b[32m[1118 15:59:04 @monitor.py:467]\u001b[0m GAN_loss/kl_div: 0.049538\n",
      "\u001b[32m[1118 15:59:04 @monitor.py:467]\u001b[0m QueueInput/queue_size: 50\n",
      "\u001b[32m[1118 15:59:04 @base.py:275]\u001b[0m Start Epoch 767 ...\n"
     ]
    },
    {
     "name": "stderr",
     "output_type": "stream",
     "text": [
      "\n",
      "100%|#####################################################################################|17/17[00:00<00:00,37.17it/s]"
     ]
    },
    {
     "name": "stdout",
     "output_type": "stream",
     "text": [
      "\u001b[32m[1118 15:59:05 @base.py:285]\u001b[0m Epoch 767 (global_step 19558) finished, time:0.458 second.\n",
      "\u001b[32m[1118 15:59:05 @saver.py:79]\u001b[0m Model saved to ../output/Chicago/TEST/model\\model-19558.\n",
      "\u001b[32m[1118 15:59:05 @monitor.py:467]\u001b[0m GAN_loss/d_loss: -0.027826\n",
      "\u001b[32m[1118 15:59:05 @monitor.py:467]\u001b[0m GAN_loss/g_loss: -0.1293\n",
      "\u001b[32m[1118 15:59:05 @monitor.py:467]\u001b[0m GAN_loss/kl_div: 0.049871\n",
      "\u001b[32m[1118 15:59:05 @monitor.py:467]\u001b[0m QueueInput/queue_size: 50\n",
      "\u001b[32m[1118 15:59:05 @base.py:275]\u001b[0m Start Epoch 768 ...\n"
     ]
    },
    {
     "name": "stderr",
     "output_type": "stream",
     "text": [
      "\n",
      "100%|#####################################################################################|17/17[00:00<00:00,38.14it/s]"
     ]
    },
    {
     "name": "stdout",
     "output_type": "stream",
     "text": [
      "\u001b[32m[1118 15:59:05 @base.py:285]\u001b[0m Epoch 768 (global_step 19583) finished, time:0.446 second.\n",
      "\u001b[32m[1118 15:59:05 @saver.py:79]\u001b[0m Model saved to ../output/Chicago/TEST/model\\model-19583.\n",
      "\u001b[32m[1118 15:59:05 @monitor.py:467]\u001b[0m GAN_loss/d_loss: -0.02782\n",
      "\u001b[32m[1118 15:59:05 @monitor.py:467]\u001b[0m GAN_loss/g_loss: -0.12957\n",
      "\u001b[32m[1118 15:59:05 @monitor.py:467]\u001b[0m GAN_loss/kl_div: 0.047647\n",
      "\u001b[32m[1118 15:59:05 @monitor.py:467]\u001b[0m QueueInput/queue_size: 50\n",
      "\u001b[32m[1118 15:59:05 @base.py:275]\u001b[0m Start Epoch 769 ...\n"
     ]
    },
    {
     "name": "stderr",
     "output_type": "stream",
     "text": [
      "\n",
      "100%|#####################################################################################|17/17[00:00<00:00,37.01it/s]"
     ]
    },
    {
     "name": "stdout",
     "output_type": "stream",
     "text": [
      "\u001b[32m[1118 15:59:06 @base.py:285]\u001b[0m Epoch 769 (global_step 19609) finished, time:0.46 second.\n",
      "\u001b[32m[1118 15:59:06 @saver.py:79]\u001b[0m Model saved to ../output/Chicago/TEST/model\\model-19609.\n",
      "\u001b[32m[1118 15:59:06 @monitor.py:467]\u001b[0m GAN_loss/d_loss: -0.027389\n",
      "\u001b[32m[1118 15:59:06 @monitor.py:467]\u001b[0m GAN_loss/g_loss: -0.12969\n",
      "\u001b[32m[1118 15:59:06 @monitor.py:467]\u001b[0m GAN_loss/kl_div: 0.050315\n",
      "\u001b[32m[1118 15:59:06 @monitor.py:467]\u001b[0m QueueInput/queue_size: 50\n",
      "\u001b[32m[1118 15:59:06 @base.py:275]\u001b[0m Start Epoch 770 ...\n"
     ]
    },
    {
     "name": "stderr",
     "output_type": "stream",
     "text": [
      "\n",
      "100%|#####################################################################################|17/17[00:00<00:00,38.34it/s]"
     ]
    },
    {
     "name": "stdout",
     "output_type": "stream",
     "text": [
      "\u001b[32m[1118 15:59:07 @base.py:285]\u001b[0m Epoch 770 (global_step 19634) finished, time:0.444 second.\n",
      "\u001b[32m[1118 15:59:07 @saver.py:79]\u001b[0m Model saved to ../output/Chicago/TEST/model\\model-19634.\n",
      "\u001b[32m[1118 15:59:07 @monitor.py:467]\u001b[0m GAN_loss/d_loss: -0.027978\n",
      "\u001b[32m[1118 15:59:07 @monitor.py:467]\u001b[0m GAN_loss/g_loss: -0.12902\n",
      "\u001b[32m[1118 15:59:07 @monitor.py:467]\u001b[0m GAN_loss/kl_div: 0.052268\n",
      "\u001b[32m[1118 15:59:07 @monitor.py:467]\u001b[0m QueueInput/queue_size: 50\n",
      "\u001b[32m[1118 15:59:07 @base.py:275]\u001b[0m Start Epoch 771 ...\n"
     ]
    },
    {
     "name": "stderr",
     "output_type": "stream",
     "text": [
      "\n",
      "100%|#####################################################################################|17/17[00:00<00:00,37.05it/s]"
     ]
    },
    {
     "name": "stdout",
     "output_type": "stream",
     "text": [
      "\u001b[32m[1118 15:59:07 @base.py:285]\u001b[0m Epoch 771 (global_step 19660) finished, time:0.46 second.\n",
      "\u001b[32m[1118 15:59:07 @saver.py:79]\u001b[0m Model saved to ../output/Chicago/TEST/model\\model-19660.\n",
      "\u001b[32m[1118 15:59:07 @monitor.py:467]\u001b[0m GAN_loss/d_loss: -0.028137\n",
      "\u001b[32m[1118 15:59:07 @monitor.py:467]\u001b[0m GAN_loss/g_loss: -0.1298\n",
      "\u001b[32m[1118 15:59:07 @monitor.py:467]\u001b[0m GAN_loss/kl_div: 0.052959\n",
      "\u001b[32m[1118 15:59:07 @monitor.py:467]\u001b[0m QueueInput/queue_size: 50\n",
      "\u001b[32m[1118 15:59:07 @base.py:275]\u001b[0m Start Epoch 772 ...\n"
     ]
    },
    {
     "name": "stderr",
     "output_type": "stream",
     "text": [
      "\n",
      "100%|#####################################################################################|17/17[00:00<00:00,38.25it/s]"
     ]
    },
    {
     "name": "stdout",
     "output_type": "stream",
     "text": [
      "\u001b[32m[1118 15:59:08 @base.py:285]\u001b[0m Epoch 772 (global_step 19685) finished, time:0.445 second.\n",
      "\u001b[32m[1118 15:59:08 @saver.py:79]\u001b[0m Model saved to ../output/Chicago/TEST/model\\model-19685.\n",
      "\u001b[32m[1118 15:59:08 @monitor.py:467]\u001b[0m GAN_loss/d_loss: -0.02762\n",
      "\u001b[32m[1118 15:59:08 @monitor.py:467]\u001b[0m GAN_loss/g_loss: -0.12997\n",
      "\u001b[32m[1118 15:59:08 @monitor.py:467]\u001b[0m GAN_loss/kl_div: 0.048763\n",
      "\u001b[32m[1118 15:59:08 @monitor.py:467]\u001b[0m QueueInput/queue_size: 50\n",
      "\u001b[32m[1118 15:59:08 @base.py:275]\u001b[0m Start Epoch 773 ...\n"
     ]
    },
    {
     "name": "stderr",
     "output_type": "stream",
     "text": [
      "\n",
      "100%|#####################################################################################|17/17[00:00<00:00,37.13it/s]"
     ]
    },
    {
     "name": "stdout",
     "output_type": "stream",
     "text": [
      "\u001b[32m[1118 15:59:08 @base.py:285]\u001b[0m Epoch 773 (global_step 19711) finished, time:0.459 second.\n",
      "\u001b[32m[1118 15:59:09 @saver.py:79]\u001b[0m Model saved to ../output/Chicago/TEST/model\\model-19711.\n",
      "\u001b[32m[1118 15:59:09 @monitor.py:467]\u001b[0m GAN_loss/d_loss: -0.026967\n",
      "\u001b[32m[1118 15:59:09 @monitor.py:467]\u001b[0m GAN_loss/g_loss: -0.12941\n",
      "\u001b[32m[1118 15:59:09 @monitor.py:467]\u001b[0m GAN_loss/kl_div: 0.047584\n",
      "\u001b[32m[1118 15:59:09 @monitor.py:467]\u001b[0m QueueInput/queue_size: 50\n",
      "\u001b[32m[1118 15:59:09 @base.py:275]\u001b[0m Start Epoch 774 ...\n"
     ]
    },
    {
     "name": "stderr",
     "output_type": "stream",
     "text": [
      "\n",
      "100%|#####################################################################################|17/17[00:00<00:00,38.08it/s]"
     ]
    },
    {
     "name": "stdout",
     "output_type": "stream",
     "text": [
      "\u001b[32m[1118 15:59:09 @base.py:285]\u001b[0m Epoch 774 (global_step 19736) finished, time:0.447 second.\n",
      "\u001b[32m[1118 15:59:09 @saver.py:79]\u001b[0m Model saved to ../output/Chicago/TEST/model\\model-19736.\n",
      "\u001b[32m[1118 15:59:09 @monitor.py:467]\u001b[0m GAN_loss/d_loss: -0.026747\n",
      "\u001b[32m[1118 15:59:09 @monitor.py:467]\u001b[0m GAN_loss/g_loss: -0.12992\n",
      "\u001b[32m[1118 15:59:09 @monitor.py:467]\u001b[0m GAN_loss/kl_div: 0.049213\n",
      "\u001b[32m[1118 15:59:09 @monitor.py:467]\u001b[0m QueueInput/queue_size: 50\n",
      "\u001b[32m[1118 15:59:09 @base.py:275]\u001b[0m Start Epoch 775 ...\n"
     ]
    },
    {
     "name": "stderr",
     "output_type": "stream",
     "text": [
      "\n",
      "100%|#####################################################################################|17/17[00:00<00:00,36.78it/s]"
     ]
    },
    {
     "name": "stdout",
     "output_type": "stream",
     "text": [
      "\u001b[32m[1118 15:59:10 @base.py:285]\u001b[0m Epoch 775 (global_step 19762) finished, time:0.463 second.\n",
      "\u001b[32m[1118 15:59:10 @saver.py:79]\u001b[0m Model saved to ../output/Chicago/TEST/model\\model-19762.\n",
      "\u001b[32m[1118 15:59:10 @monitor.py:467]\u001b[0m GAN_loss/d_loss: -0.026929\n",
      "\u001b[32m[1118 15:59:10 @monitor.py:467]\u001b[0m GAN_loss/g_loss: -0.12981\n",
      "\u001b[32m[1118 15:59:10 @monitor.py:467]\u001b[0m GAN_loss/kl_div: 0.049556\n",
      "\u001b[32m[1118 15:59:10 @monitor.py:467]\u001b[0m QueueInput/queue_size: 50\n",
      "\u001b[32m[1118 15:59:10 @base.py:275]\u001b[0m Start Epoch 776 ...\n"
     ]
    },
    {
     "name": "stderr",
     "output_type": "stream",
     "text": [
      "\n",
      "100%|#####################################################################################|17/17[00:00<00:00,37.87it/s]"
     ]
    },
    {
     "name": "stdout",
     "output_type": "stream",
     "text": [
      "\u001b[32m[1118 15:59:10 @base.py:285]\u001b[0m Epoch 776 (global_step 19787) finished, time:0.449 second.\n",
      "\u001b[32m[1118 15:59:10 @saver.py:79]\u001b[0m Model saved to ../output/Chicago/TEST/model\\model-19787.\n",
      "\u001b[32m[1118 15:59:10 @monitor.py:467]\u001b[0m GAN_loss/d_loss: -0.027806\n",
      "\u001b[32m[1118 15:59:10 @monitor.py:467]\u001b[0m GAN_loss/g_loss: -0.12951\n",
      "\u001b[32m[1118 15:59:10 @monitor.py:467]\u001b[0m GAN_loss/kl_div: 0.052861\n",
      "\u001b[32m[1118 15:59:10 @monitor.py:467]\u001b[0m QueueInput/queue_size: 50\n",
      "\u001b[32m[1118 15:59:10 @base.py:275]\u001b[0m Start Epoch 777 ...\n"
     ]
    },
    {
     "name": "stderr",
     "output_type": "stream",
     "text": [
      "\n",
      "100%|#####################################################################################|17/17[00:00<00:00,36.93it/s]"
     ]
    },
    {
     "name": "stdout",
     "output_type": "stream",
     "text": [
      "\u001b[32m[1118 15:59:11 @base.py:285]\u001b[0m Epoch 777 (global_step 19813) finished, time:0.461 second.\n",
      "\u001b[32m[1118 15:59:11 @saver.py:79]\u001b[0m Model saved to ../output/Chicago/TEST/model\\model-19813.\n",
      "\u001b[32m[1118 15:59:11 @monitor.py:467]\u001b[0m GAN_loss/d_loss: -0.02813\n",
      "\u001b[32m[1118 15:59:11 @monitor.py:467]\u001b[0m GAN_loss/g_loss: -0.12832\n",
      "\u001b[32m[1118 15:59:11 @monitor.py:467]\u001b[0m GAN_loss/kl_div: 0.047222\n",
      "\u001b[32m[1118 15:59:11 @monitor.py:467]\u001b[0m QueueInput/queue_size: 50\n",
      "\u001b[32m[1118 15:59:11 @base.py:275]\u001b[0m Start Epoch 778 ...\n"
     ]
    },
    {
     "name": "stderr",
     "output_type": "stream",
     "text": [
      "\n",
      "100%|#####################################################################################|17/17[00:00<00:00,38.25it/s]"
     ]
    },
    {
     "name": "stdout",
     "output_type": "stream",
     "text": [
      "\u001b[32m[1118 15:59:12 @base.py:285]\u001b[0m Epoch 778 (global_step 19838) finished, time:0.445 second.\n",
      "\u001b[32m[1118 15:59:12 @saver.py:79]\u001b[0m Model saved to ../output/Chicago/TEST/model\\model-19838.\n",
      "\u001b[32m[1118 15:59:12 @monitor.py:467]\u001b[0m GAN_loss/d_loss: -0.027387\n",
      "\u001b[32m[1118 15:59:12 @monitor.py:467]\u001b[0m GAN_loss/g_loss: -0.1287\n",
      "\u001b[32m[1118 15:59:12 @monitor.py:467]\u001b[0m GAN_loss/kl_div: 0.048052\n",
      "\u001b[32m[1118 15:59:12 @monitor.py:467]\u001b[0m QueueInput/queue_size: 50\n",
      "\u001b[32m[1118 15:59:12 @base.py:275]\u001b[0m Start Epoch 779 ...\n"
     ]
    },
    {
     "name": "stderr",
     "output_type": "stream",
     "text": [
      "\n",
      "100%|#####################################################################################|17/17[00:00<00:00,36.93it/s]"
     ]
    },
    {
     "name": "stdout",
     "output_type": "stream",
     "text": [
      "\u001b[32m[1118 15:59:12 @base.py:285]\u001b[0m Epoch 779 (global_step 19864) finished, time:0.461 second.\n",
      "\u001b[32m[1118 15:59:12 @saver.py:79]\u001b[0m Model saved to ../output/Chicago/TEST/model\\model-19864.\n",
      "\u001b[32m[1118 15:59:12 @monitor.py:467]\u001b[0m GAN_loss/d_loss: -0.028536\n",
      "\u001b[32m[1118 15:59:12 @monitor.py:467]\u001b[0m GAN_loss/g_loss: -0.12966\n",
      "\u001b[32m[1118 15:59:12 @monitor.py:467]\u001b[0m GAN_loss/kl_div: 0.051187\n",
      "\u001b[32m[1118 15:59:12 @monitor.py:467]\u001b[0m QueueInput/queue_size: 50\n",
      "\u001b[32m[1118 15:59:12 @base.py:275]\u001b[0m Start Epoch 780 ...\n"
     ]
    },
    {
     "name": "stderr",
     "output_type": "stream",
     "text": [
      "\n",
      "100%|#####################################################################################|17/17[00:00<00:00,38.34it/s]"
     ]
    },
    {
     "name": "stdout",
     "output_type": "stream",
     "text": [
      "\u001b[32m[1118 15:59:13 @base.py:285]\u001b[0m Epoch 780 (global_step 19889) finished, time:0.444 second.\n",
      "\u001b[32m[1118 15:59:13 @saver.py:79]\u001b[0m Model saved to ../output/Chicago/TEST/model\\model-19889.\n",
      "\u001b[32m[1118 15:59:13 @monitor.py:467]\u001b[0m GAN_loss/d_loss: -0.028457\n",
      "\u001b[32m[1118 15:59:13 @monitor.py:467]\u001b[0m GAN_loss/g_loss: -0.12991\n",
      "\u001b[32m[1118 15:59:13 @monitor.py:467]\u001b[0m GAN_loss/kl_div: 0.050405\n",
      "\u001b[32m[1118 15:59:13 @monitor.py:467]\u001b[0m QueueInput/queue_size: 50\n",
      "\u001b[32m[1118 15:59:13 @base.py:275]\u001b[0m Start Epoch 781 ...\n"
     ]
    },
    {
     "name": "stderr",
     "output_type": "stream",
     "text": [
      "\n",
      "100%|#####################################################################################|17/17[00:00<00:00,36.81it/s]"
     ]
    },
    {
     "name": "stdout",
     "output_type": "stream",
     "text": [
      "\u001b[32m[1118 15:59:13 @base.py:285]\u001b[0m Epoch 781 (global_step 19915) finished, time:0.463 second.\n",
      "\u001b[32m[1118 15:59:13 @saver.py:79]\u001b[0m Model saved to ../output/Chicago/TEST/model\\model-19915.\n",
      "\u001b[32m[1118 15:59:14 @monitor.py:467]\u001b[0m GAN_loss/d_loss: -0.027913\n",
      "\u001b[32m[1118 15:59:14 @monitor.py:467]\u001b[0m GAN_loss/g_loss: -0.13054\n",
      "\u001b[32m[1118 15:59:14 @monitor.py:467]\u001b[0m GAN_loss/kl_div: 0.04988\n",
      "\u001b[32m[1118 15:59:14 @monitor.py:467]\u001b[0m QueueInput/queue_size: 50\n",
      "\u001b[32m[1118 15:59:14 @base.py:275]\u001b[0m Start Epoch 782 ...\n"
     ]
    },
    {
     "name": "stderr",
     "output_type": "stream",
     "text": [
      "\n",
      "100%|#####################################################################################|17/17[00:00<00:00,38.30it/s]"
     ]
    },
    {
     "name": "stdout",
     "output_type": "stream",
     "text": [
      "\u001b[32m[1118 15:59:14 @base.py:285]\u001b[0m Epoch 782 (global_step 19940) finished, time:0.444 second.\n",
      "\u001b[32m[1118 15:59:14 @saver.py:79]\u001b[0m Model saved to ../output/Chicago/TEST/model\\model-19940.\n",
      "\u001b[32m[1118 15:59:14 @monitor.py:467]\u001b[0m GAN_loss/d_loss: -0.026939\n",
      "\u001b[32m[1118 15:59:14 @monitor.py:467]\u001b[0m GAN_loss/g_loss: -0.13144\n",
      "\u001b[32m[1118 15:59:14 @monitor.py:467]\u001b[0m GAN_loss/kl_div: 0.045453\n",
      "\u001b[32m[1118 15:59:14 @monitor.py:467]\u001b[0m QueueInput/queue_size: 50\n",
      "\u001b[32m[1118 15:59:14 @base.py:275]\u001b[0m Start Epoch 783 ...\n"
     ]
    },
    {
     "name": "stderr",
     "output_type": "stream",
     "text": [
      "\n",
      "100%|#####################################################################################|17/17[00:00<00:00,37.01it/s]"
     ]
    },
    {
     "name": "stdout",
     "output_type": "stream",
     "text": [
      "\u001b[32m[1118 15:59:15 @base.py:285]\u001b[0m Epoch 783 (global_step 19966) finished, time:0.46 second.\n",
      "\u001b[32m[1118 15:59:15 @saver.py:79]\u001b[0m Model saved to ../output/Chicago/TEST/model\\model-19966.\n",
      "\u001b[32m[1118 15:59:15 @monitor.py:467]\u001b[0m GAN_loss/d_loss: -0.026239\n",
      "\u001b[32m[1118 15:59:15 @monitor.py:467]\u001b[0m GAN_loss/g_loss: -0.13178\n",
      "\u001b[32m[1118 15:59:15 @monitor.py:467]\u001b[0m GAN_loss/kl_div: 0.047783\n",
      "\u001b[32m[1118 15:59:15 @monitor.py:467]\u001b[0m QueueInput/queue_size: 50\n",
      "\u001b[32m[1118 15:59:15 @base.py:275]\u001b[0m Start Epoch 784 ...\n"
     ]
    },
    {
     "name": "stderr",
     "output_type": "stream",
     "text": [
      "\n",
      "100%|#####################################################################################|17/17[00:00<00:00,38.48it/s]"
     ]
    },
    {
     "name": "stdout",
     "output_type": "stream",
     "text": [
      "\u001b[32m[1118 15:59:15 @base.py:285]\u001b[0m Epoch 784 (global_step 19991) finished, time:0.442 second.\n",
      "\u001b[32m[1118 15:59:15 @saver.py:79]\u001b[0m Model saved to ../output/Chicago/TEST/model\\model-19991.\n",
      "\u001b[32m[1118 15:59:15 @monitor.py:467]\u001b[0m GAN_loss/d_loss: -0.027042\n",
      "\u001b[32m[1118 15:59:15 @monitor.py:467]\u001b[0m GAN_loss/g_loss: -0.13039\n",
      "\u001b[32m[1118 15:59:15 @monitor.py:467]\u001b[0m GAN_loss/kl_div: 0.046794\n",
      "\u001b[32m[1118 15:59:15 @monitor.py:467]\u001b[0m QueueInput/queue_size: 50\n",
      "\u001b[32m[1118 15:59:15 @base.py:275]\u001b[0m Start Epoch 785 ...\n"
     ]
    },
    {
     "name": "stderr",
     "output_type": "stream",
     "text": [
      "\n",
      "100%|#####################################################################################|17/17[00:00<00:00,37.05it/s]"
     ]
    },
    {
     "name": "stdout",
     "output_type": "stream",
     "text": [
      "\u001b[32m[1118 15:59:16 @base.py:285]\u001b[0m Epoch 785 (global_step 20017) finished, time:0.459 second.\n",
      "\u001b[32m[1118 15:59:16 @saver.py:79]\u001b[0m Model saved to ../output/Chicago/TEST/model\\model-20017.\n",
      "\u001b[32m[1118 15:59:16 @monitor.py:467]\u001b[0m GAN_loss/d_loss: -0.027773\n",
      "\u001b[32m[1118 15:59:16 @monitor.py:467]\u001b[0m GAN_loss/g_loss: -0.12986\n",
      "\u001b[32m[1118 15:59:16 @monitor.py:467]\u001b[0m GAN_loss/kl_div: 0.047632\n",
      "\u001b[32m[1118 15:59:16 @monitor.py:467]\u001b[0m QueueInput/queue_size: 50\n",
      "\u001b[32m[1118 15:59:16 @base.py:275]\u001b[0m Start Epoch 786 ...\n"
     ]
    },
    {
     "name": "stderr",
     "output_type": "stream",
     "text": [
      "\n",
      "100%|#####################################################################################|17/17[00:00<00:00,38.04it/s]"
     ]
    },
    {
     "name": "stdout",
     "output_type": "stream",
     "text": [
      "\u001b[32m[1118 15:59:16 @base.py:285]\u001b[0m Epoch 786 (global_step 20042) finished, time:0.448 second.\n",
      "\u001b[32m[1118 15:59:17 @saver.py:79]\u001b[0m Model saved to ../output/Chicago/TEST/model\\model-20042.\n"
     ]
    },
    {
     "name": "stderr",
     "output_type": "stream",
     "text": [
      "\n"
     ]
    },
    {
     "name": "stdout",
     "output_type": "stream",
     "text": [
      "\u001b[32m[1118 15:59:17 @monitor.py:467]\u001b[0m GAN_loss/d_loss: -0.027395\n",
      "\u001b[32m[1118 15:59:17 @monitor.py:467]\u001b[0m GAN_loss/g_loss: -0.12998\n",
      "\u001b[32m[1118 15:59:17 @monitor.py:467]\u001b[0m GAN_loss/kl_div: 0.047365\n",
      "\u001b[32m[1118 15:59:17 @monitor.py:467]\u001b[0m QueueInput/queue_size: 50\n",
      "\u001b[32m[1118 15:59:17 @base.py:275]\u001b[0m Start Epoch 787 ...\n"
     ]
    },
    {
     "name": "stderr",
     "output_type": "stream",
     "text": [
      "100%|#####################################################################################|17/17[00:00<00:00,36.89it/s]"
     ]
    },
    {
     "name": "stdout",
     "output_type": "stream",
     "text": [
      "\u001b[32m[1118 15:59:17 @base.py:285]\u001b[0m Epoch 787 (global_step 20068) finished, time:0.462 second.\n",
      "\u001b[32m[1118 15:59:17 @saver.py:79]\u001b[0m Model saved to ../output/Chicago/TEST/model\\model-20068.\n",
      "\u001b[32m[1118 15:59:17 @monitor.py:467]\u001b[0m GAN_loss/d_loss: -0.027152\n",
      "\u001b[32m[1118 15:59:17 @monitor.py:467]\u001b[0m GAN_loss/g_loss: -0.12977\n",
      "\u001b[32m[1118 15:59:17 @monitor.py:467]\u001b[0m GAN_loss/kl_div: 0.047476\n",
      "\u001b[32m[1118 15:59:17 @monitor.py:467]\u001b[0m QueueInput/queue_size: 50\n",
      "\u001b[32m[1118 15:59:17 @base.py:275]\u001b[0m Start Epoch 788 ...\n"
     ]
    },
    {
     "name": "stderr",
     "output_type": "stream",
     "text": [
      "\n",
      "100%|#####################################################################################|17/17[00:00<00:00,38.21it/s]"
     ]
    },
    {
     "name": "stdout",
     "output_type": "stream",
     "text": [
      "\u001b[32m[1118 15:59:18 @base.py:285]\u001b[0m Epoch 788 (global_step 20093) finished, time:0.445 second.\n",
      "\u001b[32m[1118 15:59:18 @saver.py:79]\u001b[0m Model saved to ../output/Chicago/TEST/model\\model-20093.\n",
      "\u001b[32m[1118 15:59:18 @monitor.py:467]\u001b[0m GAN_loss/d_loss: -0.028176\n",
      "\u001b[32m[1118 15:59:18 @monitor.py:467]\u001b[0m GAN_loss/g_loss: -0.12958\n",
      "\u001b[32m[1118 15:59:18 @monitor.py:467]\u001b[0m GAN_loss/kl_div: 0.047628\n",
      "\u001b[32m[1118 15:59:18 @monitor.py:467]\u001b[0m QueueInput/queue_size: 50\n",
      "\u001b[32m[1118 15:59:18 @base.py:275]\u001b[0m Start Epoch 789 ...\n"
     ]
    },
    {
     "name": "stderr",
     "output_type": "stream",
     "text": [
      "\n",
      "100%|#####################################################################################|17/17[00:00<00:00,36.93it/s]"
     ]
    },
    {
     "name": "stdout",
     "output_type": "stream",
     "text": [
      "\u001b[32m[1118 15:59:18 @base.py:285]\u001b[0m Epoch 789 (global_step 20119) finished, time:0.461 second.\n",
      "\u001b[32m[1118 15:59:18 @saver.py:79]\u001b[0m Model saved to ../output/Chicago/TEST/model\\model-20119.\n",
      "\u001b[32m[1118 15:59:19 @monitor.py:467]\u001b[0m GAN_loss/d_loss: -0.029081\n",
      "\u001b[32m[1118 15:59:19 @monitor.py:467]\u001b[0m GAN_loss/g_loss: -0.1301\n",
      "\u001b[32m[1118 15:59:19 @monitor.py:467]\u001b[0m GAN_loss/kl_div: 0.049477\n",
      "\u001b[32m[1118 15:59:19 @monitor.py:467]\u001b[0m QueueInput/queue_size: 50\n",
      "\u001b[32m[1118 15:59:19 @base.py:275]\u001b[0m Start Epoch 790 ...\n"
     ]
    },
    {
     "name": "stderr",
     "output_type": "stream",
     "text": [
      "\n",
      "100%|#####################################################################################|17/17[00:00<00:00,38.21it/s]"
     ]
    },
    {
     "name": "stdout",
     "output_type": "stream",
     "text": [
      "\u001b[32m[1118 15:59:19 @base.py:285]\u001b[0m Epoch 790 (global_step 20144) finished, time:0.445 second.\n",
      "\u001b[32m[1118 15:59:19 @saver.py:79]\u001b[0m Model saved to ../output/Chicago/TEST/model\\model-20144.\n",
      "\u001b[32m[1118 15:59:19 @monitor.py:467]\u001b[0m GAN_loss/d_loss: -0.02875\n",
      "\u001b[32m[1118 15:59:19 @monitor.py:467]\u001b[0m GAN_loss/g_loss: -0.13135\n",
      "\u001b[32m[1118 15:59:19 @monitor.py:467]\u001b[0m GAN_loss/kl_div: 0.04789\n",
      "\u001b[32m[1118 15:59:19 @monitor.py:467]\u001b[0m QueueInput/queue_size: 50\n",
      "\u001b[32m[1118 15:59:19 @base.py:275]\u001b[0m Start Epoch 791 ...\n"
     ]
    },
    {
     "name": "stderr",
     "output_type": "stream",
     "text": [
      "\n",
      "100%|#####################################################################################|17/17[00:00<00:00,37.05it/s]"
     ]
    },
    {
     "name": "stdout",
     "output_type": "stream",
     "text": [
      "\u001b[32m[1118 15:59:20 @base.py:285]\u001b[0m Epoch 791 (global_step 20170) finished, time:0.459 second.\n",
      "\u001b[32m[1118 15:59:20 @saver.py:79]\u001b[0m Model saved to ../output/Chicago/TEST/model\\model-20170.\n",
      "\u001b[32m[1118 15:59:20 @monitor.py:467]\u001b[0m GAN_loss/d_loss: -0.026782\n",
      "\u001b[32m[1118 15:59:20 @monitor.py:467]\u001b[0m GAN_loss/g_loss: -0.13269\n",
      "\u001b[32m[1118 15:59:20 @monitor.py:467]\u001b[0m GAN_loss/kl_div: 0.049379\n",
      "\u001b[32m[1118 15:59:20 @monitor.py:467]\u001b[0m QueueInput/queue_size: 50\n",
      "\u001b[32m[1118 15:59:20 @base.py:275]\u001b[0m Start Epoch 792 ...\n"
     ]
    },
    {
     "name": "stderr",
     "output_type": "stream",
     "text": [
      "\n",
      "100%|#####################################################################################|17/17[00:00<00:00,38.17it/s]"
     ]
    },
    {
     "name": "stdout",
     "output_type": "stream",
     "text": [
      "\u001b[32m[1118 15:59:20 @base.py:285]\u001b[0m Epoch 792 (global_step 20195) finished, time:0.446 second.\n",
      "\u001b[32m[1118 15:59:20 @saver.py:79]\u001b[0m Model saved to ../output/Chicago/TEST/model\\model-20195.\n",
      "\u001b[32m[1118 15:59:20 @monitor.py:467]\u001b[0m GAN_loss/d_loss: -0.027734\n",
      "\u001b[32m[1118 15:59:20 @monitor.py:467]\u001b[0m GAN_loss/g_loss: -0.13282\n",
      "\u001b[32m[1118 15:59:20 @monitor.py:467]\u001b[0m GAN_loss/kl_div: 0.048896\n",
      "\u001b[32m[1118 15:59:20 @monitor.py:467]\u001b[0m QueueInput/queue_size: 50\n",
      "\u001b[32m[1118 15:59:20 @base.py:275]\u001b[0m Start Epoch 793 ...\n"
     ]
    },
    {
     "name": "stderr",
     "output_type": "stream",
     "text": [
      "\n",
      "100%|#####################################################################################|17/17[00:00<00:00,37.13it/s]"
     ]
    },
    {
     "name": "stdout",
     "output_type": "stream",
     "text": [
      "\u001b[32m[1118 15:59:21 @base.py:285]\u001b[0m Epoch 793 (global_step 20221) finished, time:0.459 second.\n",
      "\u001b[32m[1118 15:59:21 @saver.py:79]\u001b[0m Model saved to ../output/Chicago/TEST/model\\model-20221.\n",
      "\u001b[32m[1118 15:59:21 @monitor.py:467]\u001b[0m GAN_loss/d_loss: -0.027721\n",
      "\u001b[32m[1118 15:59:21 @monitor.py:467]\u001b[0m GAN_loss/g_loss: -0.13293\n",
      "\u001b[32m[1118 15:59:21 @monitor.py:467]\u001b[0m GAN_loss/kl_div: 0.052779\n",
      "\u001b[32m[1118 15:59:21 @monitor.py:467]\u001b[0m QueueInput/queue_size: 50\n",
      "\u001b[32m[1118 15:59:21 @base.py:275]\u001b[0m Start Epoch 794 ...\n"
     ]
    },
    {
     "name": "stderr",
     "output_type": "stream",
     "text": [
      "\n",
      "100%|#####################################################################################|17/17[00:00<00:00,37.58it/s]"
     ]
    },
    {
     "name": "stdout",
     "output_type": "stream",
     "text": [
      "\u001b[32m[1118 15:59:21 @base.py:285]\u001b[0m Epoch 794 (global_step 20246) finished, time:0.453 second.\n",
      "\u001b[32m[1118 15:59:22 @saver.py:79]\u001b[0m Model saved to ../output/Chicago/TEST/model\\model-20246.\n",
      "\u001b[32m[1118 15:59:22 @monitor.py:467]\u001b[0m GAN_loss/d_loss: -0.028802\n",
      "\u001b[32m[1118 15:59:22 @monitor.py:467]\u001b[0m GAN_loss/g_loss: -0.13133\n",
      "\u001b[32m[1118 15:59:22 @monitor.py:467]\u001b[0m GAN_loss/kl_div: 0.050555\n",
      "\u001b[32m[1118 15:59:22 @monitor.py:467]\u001b[0m QueueInput/queue_size: 50\n",
      "\u001b[32m[1118 15:59:22 @base.py:275]\u001b[0m Start Epoch 795 ...\n"
     ]
    },
    {
     "name": "stderr",
     "output_type": "stream",
     "text": [
      "\n",
      "100%|#####################################################################################|17/17[00:00<00:00,36.50it/s]"
     ]
    },
    {
     "name": "stdout",
     "output_type": "stream",
     "text": [
      "\u001b[32m[1118 15:59:22 @base.py:285]\u001b[0m Epoch 795 (global_step 20272) finished, time:0.466 second.\n",
      "\u001b[32m[1118 15:59:22 @saver.py:79]\u001b[0m Model saved to ../output/Chicago/TEST/model\\model-20272.\n",
      "\u001b[32m[1118 15:59:22 @monitor.py:467]\u001b[0m GAN_loss/d_loss: -0.028926\n",
      "\u001b[32m[1118 15:59:22 @monitor.py:467]\u001b[0m GAN_loss/g_loss: -0.13082\n",
      "\u001b[32m[1118 15:59:22 @monitor.py:467]\u001b[0m GAN_loss/kl_div: 0.052695\n",
      "\u001b[32m[1118 15:59:22 @monitor.py:467]\u001b[0m QueueInput/queue_size: 50\n",
      "\u001b[32m[1118 15:59:22 @base.py:275]\u001b[0m Start Epoch 796 ...\n"
     ]
    },
    {
     "name": "stderr",
     "output_type": "stream",
     "text": [
      "\n",
      "100%|#####################################################################################|17/17[00:00<00:00,38.17it/s]"
     ]
    },
    {
     "name": "stdout",
     "output_type": "stream",
     "text": [
      "\u001b[32m[1118 15:59:23 @base.py:285]\u001b[0m Epoch 796 (global_step 20297) finished, time:0.446 second.\n",
      "\u001b[32m[1118 15:59:23 @saver.py:79]\u001b[0m Model saved to ../output/Chicago/TEST/model\\model-20297.\n",
      "\u001b[32m[1118 15:59:23 @monitor.py:467]\u001b[0m GAN_loss/d_loss: -0.027099\n",
      "\u001b[32m[1118 15:59:23 @monitor.py:467]\u001b[0m GAN_loss/g_loss: -0.13166\n",
      "\u001b[32m[1118 15:59:23 @monitor.py:467]\u001b[0m GAN_loss/kl_div: 0.051381\n",
      "\u001b[32m[1118 15:59:23 @monitor.py:467]\u001b[0m QueueInput/queue_size: 50\n",
      "\u001b[32m[1118 15:59:23 @base.py:275]\u001b[0m Start Epoch 797 ...\n"
     ]
    },
    {
     "name": "stderr",
     "output_type": "stream",
     "text": [
      "\n",
      "100%|#####################################################################################|17/17[00:00<00:00,36.93it/s]"
     ]
    },
    {
     "name": "stdout",
     "output_type": "stream",
     "text": [
      "\u001b[32m[1118 15:59:23 @base.py:285]\u001b[0m Epoch 797 (global_step 20323) finished, time:0.461 second.\n",
      "\u001b[32m[1118 15:59:23 @saver.py:79]\u001b[0m Model saved to ../output/Chicago/TEST/model\\model-20323.\n",
      "\u001b[32m[1118 15:59:23 @monitor.py:467]\u001b[0m GAN_loss/d_loss: -0.027991\n",
      "\u001b[32m[1118 15:59:23 @monitor.py:467]\u001b[0m GAN_loss/g_loss: -0.13086\n",
      "\u001b[32m[1118 15:59:23 @monitor.py:467]\u001b[0m GAN_loss/kl_div: 0.050985\n",
      "\u001b[32m[1118 15:59:24 @monitor.py:467]\u001b[0m QueueInput/queue_size: 50\n",
      "\u001b[32m[1118 15:59:24 @base.py:275]\u001b[0m Start Epoch 798 ...\n"
     ]
    },
    {
     "name": "stderr",
     "output_type": "stream",
     "text": [
      "\n",
      "100%|#####################################################################################|17/17[00:00<00:00,38.17it/s]"
     ]
    },
    {
     "name": "stdout",
     "output_type": "stream",
     "text": [
      "\u001b[32m[1118 15:59:24 @base.py:285]\u001b[0m Epoch 798 (global_step 20348) finished, time:0.446 second.\n",
      "\u001b[32m[1118 15:59:24 @saver.py:79]\u001b[0m Model saved to ../output/Chicago/TEST/model\\model-20348.\n",
      "\u001b[32m[1118 15:59:24 @monitor.py:467]\u001b[0m GAN_loss/d_loss: -0.027979\n",
      "\u001b[32m[1118 15:59:24 @monitor.py:467]\u001b[0m GAN_loss/g_loss: -0.13174\n",
      "\u001b[32m[1118 15:59:24 @monitor.py:467]\u001b[0m GAN_loss/kl_div: 0.052661\n",
      "\u001b[32m[1118 15:59:24 @monitor.py:467]\u001b[0m QueueInput/queue_size: 50\n",
      "\u001b[32m[1118 15:59:24 @base.py:275]\u001b[0m Start Epoch 799 ...\n"
     ]
    },
    {
     "name": "stderr",
     "output_type": "stream",
     "text": [
      "\n",
      "100%|#####################################################################################|17/17[00:00<00:00,36.38it/s]"
     ]
    },
    {
     "name": "stdout",
     "output_type": "stream",
     "text": [
      "\u001b[32m[1118 15:59:25 @base.py:285]\u001b[0m Epoch 799 (global_step 20374) finished, time:0.468 second.\n",
      "\u001b[32m[1118 15:59:25 @saver.py:79]\u001b[0m Model saved to ../output/Chicago/TEST/model\\model-20374.\n",
      "\u001b[32m[1118 15:59:25 @monitor.py:467]\u001b[0m GAN_loss/d_loss: -0.029725\n",
      "\u001b[32m[1118 15:59:25 @monitor.py:467]\u001b[0m GAN_loss/g_loss: -0.13084\n",
      "\u001b[32m[1118 15:59:25 @monitor.py:467]\u001b[0m GAN_loss/kl_div: 0.049039\n",
      "\u001b[32m[1118 15:59:25 @monitor.py:467]\u001b[0m QueueInput/queue_size: 50\n",
      "\u001b[32m[1118 15:59:25 @base.py:275]\u001b[0m Start Epoch 800 ...\n"
     ]
    },
    {
     "name": "stderr",
     "output_type": "stream",
     "text": [
      "\n",
      "100%|#####################################################################################|17/17[00:00<00:00,38.25it/s]"
     ]
    },
    {
     "name": "stdout",
     "output_type": "stream",
     "text": [
      "\u001b[32m[1118 15:59:25 @base.py:285]\u001b[0m Epoch 800 (global_step 20399) finished, time:0.445 second.\n",
      "\u001b[32m[1118 15:59:25 @saver.py:79]\u001b[0m Model saved to ../output/Chicago/TEST/model\\model-20399.\n",
      "\u001b[32m[1118 15:59:25 @monitor.py:467]\u001b[0m GAN_loss/d_loss: -0.029862\n",
      "\u001b[32m[1118 15:59:25 @monitor.py:467]\u001b[0m GAN_loss/g_loss: -0.13123\n",
      "\u001b[32m[1118 15:59:25 @monitor.py:467]\u001b[0m GAN_loss/kl_div: 0.047007\n",
      "\u001b[32m[1118 15:59:25 @monitor.py:467]\u001b[0m QueueInput/queue_size: 50\n",
      "\u001b[32m[1118 15:59:25 @base.py:275]\u001b[0m Start Epoch 801 ...\n"
     ]
    },
    {
     "name": "stderr",
     "output_type": "stream",
     "text": [
      "\n",
      "100%|#####################################################################################|17/17[00:00<00:00,37.05it/s]"
     ]
    },
    {
     "name": "stdout",
     "output_type": "stream",
     "text": [
      "\u001b[32m[1118 15:59:26 @base.py:285]\u001b[0m Epoch 801 (global_step 20425) finished, time:0.459 second.\n",
      "\u001b[32m[1118 15:59:26 @saver.py:79]\u001b[0m Model saved to ../output/Chicago/TEST/model\\model-20425.\n",
      "\u001b[32m[1118 15:59:26 @monitor.py:467]\u001b[0m GAN_loss/d_loss: -0.029258\n",
      "\u001b[32m[1118 15:59:26 @monitor.py:467]\u001b[0m GAN_loss/g_loss: -0.13277\n",
      "\u001b[32m[1118 15:59:26 @monitor.py:467]\u001b[0m GAN_loss/kl_div: 0.051721\n",
      "\u001b[32m[1118 15:59:26 @monitor.py:467]\u001b[0m QueueInput/queue_size: 50\n",
      "\u001b[32m[1118 15:59:26 @base.py:275]\u001b[0m Start Epoch 802 ...\n"
     ]
    },
    {
     "name": "stderr",
     "output_type": "stream",
     "text": [
      "\n",
      "100%|#####################################################################################|17/17[00:00<00:00,38.12it/s]"
     ]
    },
    {
     "name": "stdout",
     "output_type": "stream",
     "text": [
      "\u001b[32m[1118 15:59:26 @base.py:285]\u001b[0m Epoch 802 (global_step 20450) finished, time:0.446 second.\n",
      "\u001b[32m[1118 15:59:27 @saver.py:79]\u001b[0m Model saved to ../output/Chicago/TEST/model\\model-20450.\n",
      "\u001b[32m[1118 15:59:27 @monitor.py:467]\u001b[0m GAN_loss/d_loss: -0.028515\n",
      "\u001b[32m[1118 15:59:27 @monitor.py:467]\u001b[0m GAN_loss/g_loss: -0.13292\n",
      "\u001b[32m[1118 15:59:27 @monitor.py:467]\u001b[0m GAN_loss/kl_div: 0.051225\n",
      "\u001b[32m[1118 15:59:27 @monitor.py:467]\u001b[0m QueueInput/queue_size: 50\n",
      "\u001b[32m[1118 15:59:27 @base.py:275]\u001b[0m Start Epoch 803 ...\n"
     ]
    },
    {
     "name": "stderr",
     "output_type": "stream",
     "text": [
      "\n",
      "100%|#####################################################################################|17/17[00:00<00:00,36.97it/s]"
     ]
    },
    {
     "name": "stdout",
     "output_type": "stream",
     "text": [
      "\u001b[32m[1118 15:59:27 @base.py:285]\u001b[0m Epoch 803 (global_step 20476) finished, time:0.46 second.\n",
      "\u001b[32m[1118 15:59:27 @saver.py:79]\u001b[0m Model saved to ../output/Chicago/TEST/model\\model-20476.\n"
     ]
    },
    {
     "name": "stderr",
     "output_type": "stream",
     "text": [
      "\n"
     ]
    },
    {
     "name": "stdout",
     "output_type": "stream",
     "text": [
      "\u001b[32m[1118 15:59:27 @monitor.py:467]\u001b[0m GAN_loss/d_loss: -0.029439\n",
      "\u001b[32m[1118 15:59:27 @monitor.py:467]\u001b[0m GAN_loss/g_loss: -0.13193\n",
      "\u001b[32m[1118 15:59:27 @monitor.py:467]\u001b[0m GAN_loss/kl_div: 0.047958\n",
      "\u001b[32m[1118 15:59:27 @monitor.py:467]\u001b[0m QueueInput/queue_size: 50\n",
      "\u001b[32m[1118 15:59:27 @base.py:275]\u001b[0m Start Epoch 804 ...\n"
     ]
    },
    {
     "name": "stderr",
     "output_type": "stream",
     "text": [
      "100%|#####################################################################################|17/17[00:00<00:00,38.17it/s]"
     ]
    },
    {
     "name": "stdout",
     "output_type": "stream",
     "text": [
      "\u001b[32m[1118 15:59:28 @base.py:285]\u001b[0m Epoch 804 (global_step 20501) finished, time:0.446 second.\n",
      "\u001b[32m[1118 15:59:28 @saver.py:79]\u001b[0m Model saved to ../output/Chicago/TEST/model\\model-20501.\n",
      "\u001b[32m[1118 15:59:28 @monitor.py:467]\u001b[0m GAN_loss/d_loss: -0.029152\n",
      "\u001b[32m[1118 15:59:28 @monitor.py:467]\u001b[0m GAN_loss/g_loss: -0.13112\n",
      "\u001b[32m[1118 15:59:28 @monitor.py:467]\u001b[0m GAN_loss/kl_div: 0.050388\n",
      "\u001b[32m[1118 15:59:28 @monitor.py:467]\u001b[0m QueueInput/queue_size: 50\n",
      "\u001b[32m[1118 15:59:28 @base.py:275]\u001b[0m Start Epoch 805 ...\n"
     ]
    },
    {
     "name": "stderr",
     "output_type": "stream",
     "text": [
      "\n",
      "100%|#####################################################################################|17/17[00:00<00:00,37.05it/s]"
     ]
    },
    {
     "name": "stdout",
     "output_type": "stream",
     "text": [
      "\u001b[32m[1118 15:59:28 @base.py:285]\u001b[0m Epoch 805 (global_step 20527) finished, time:0.459 second.\n",
      "\u001b[32m[1118 15:59:28 @saver.py:79]\u001b[0m Model saved to ../output/Chicago/TEST/model\\model-20527.\n",
      "\u001b[32m[1118 15:59:28 @monitor.py:467]\u001b[0m GAN_loss/d_loss: -0.028237\n",
      "\u001b[32m[1118 15:59:28 @monitor.py:467]\u001b[0m GAN_loss/g_loss: -0.13175\n",
      "\u001b[32m[1118 15:59:28 @monitor.py:467]\u001b[0m GAN_loss/kl_div: 0.050477\n",
      "\u001b[32m[1118 15:59:28 @monitor.py:467]\u001b[0m QueueInput/queue_size: 50\n",
      "\u001b[32m[1118 15:59:28 @base.py:275]\u001b[0m Start Epoch 806 ...\n"
     ]
    },
    {
     "name": "stderr",
     "output_type": "stream",
     "text": [
      "\n",
      "100%|#####################################################################################|17/17[00:00<00:00,38.38it/s]"
     ]
    },
    {
     "name": "stdout",
     "output_type": "stream",
     "text": [
      "\u001b[32m[1118 15:59:29 @base.py:285]\u001b[0m Epoch 806 (global_step 20552) finished, time:0.444 second.\n",
      "\u001b[32m[1118 15:59:29 @saver.py:79]\u001b[0m Model saved to ../output/Chicago/TEST/model\\model-20552.\n",
      "\u001b[32m[1118 15:59:29 @monitor.py:467]\u001b[0m GAN_loss/d_loss: -0.029222\n",
      "\u001b[32m[1118 15:59:29 @monitor.py:467]\u001b[0m GAN_loss/g_loss: -0.13188\n",
      "\u001b[32m[1118 15:59:29 @monitor.py:467]\u001b[0m GAN_loss/kl_div: 0.050002\n",
      "\u001b[32m[1118 15:59:29 @monitor.py:467]\u001b[0m QueueInput/queue_size: 50\n",
      "\u001b[32m[1118 15:59:29 @base.py:275]\u001b[0m Start Epoch 807 ...\n"
     ]
    },
    {
     "name": "stderr",
     "output_type": "stream",
     "text": [
      "\n",
      "100%|#####################################################################################|17/17[00:00<00:00,36.81it/s]"
     ]
    },
    {
     "name": "stdout",
     "output_type": "stream",
     "text": [
      "\u001b[32m[1118 15:59:30 @base.py:285]\u001b[0m Epoch 807 (global_step 20578) finished, time:0.462 second.\n",
      "\u001b[32m[1118 15:59:30 @saver.py:79]\u001b[0m Model saved to ../output/Chicago/TEST/model\\model-20578.\n",
      "\u001b[32m[1118 15:59:30 @monitor.py:467]\u001b[0m GAN_loss/d_loss: -0.028566\n"
     ]
    },
    {
     "name": "stderr",
     "output_type": "stream",
     "text": [
      "\n"
     ]
    },
    {
     "name": "stdout",
     "output_type": "stream",
     "text": [
      "\u001b[32m[1118 15:59:30 @monitor.py:467]\u001b[0m GAN_loss/g_loss: -0.13112\n",
      "\u001b[32m[1118 15:59:30 @monitor.py:467]\u001b[0m GAN_loss/kl_div: 0.052545\n",
      "\u001b[32m[1118 15:59:30 @monitor.py:467]\u001b[0m QueueInput/queue_size: 50\n",
      "\u001b[32m[1118 15:59:30 @base.py:275]\u001b[0m Start Epoch 808 ...\n"
     ]
    },
    {
     "name": "stderr",
     "output_type": "stream",
     "text": [
      "100%|#####################################################################################|17/17[00:00<00:00,38.21it/s]"
     ]
    },
    {
     "name": "stdout",
     "output_type": "stream",
     "text": [
      "\u001b[32m[1118 15:59:30 @base.py:285]\u001b[0m Epoch 808 (global_step 20603) finished, time:0.445 second.\n",
      "\u001b[32m[1118 15:59:30 @saver.py:79]\u001b[0m Model saved to ../output/Chicago/TEST/model\\model-20603.\n",
      "\u001b[32m[1118 15:59:30 @monitor.py:467]\u001b[0m GAN_loss/d_loss: -0.028963\n",
      "\u001b[32m[1118 15:59:30 @monitor.py:467]\u001b[0m GAN_loss/g_loss: -0.13126\n",
      "\u001b[32m[1118 15:59:30 @monitor.py:467]\u001b[0m GAN_loss/kl_div: 0.055325\n",
      "\u001b[32m[1118 15:59:30 @monitor.py:467]\u001b[0m QueueInput/queue_size: 50\n",
      "\u001b[32m[1118 15:59:30 @base.py:275]\u001b[0m Start Epoch 809 ...\n"
     ]
    },
    {
     "name": "stderr",
     "output_type": "stream",
     "text": [
      "\n",
      "100%|#####################################################################################|17/17[00:00<00:00,36.85it/s]"
     ]
    },
    {
     "name": "stdout",
     "output_type": "stream",
     "text": [
      "\u001b[32m[1118 15:59:31 @base.py:285]\u001b[0m Epoch 809 (global_step 20629) finished, time:0.462 second.\n",
      "\u001b[32m[1118 15:59:31 @saver.py:79]\u001b[0m Model saved to ../output/Chicago/TEST/model\\model-20629.\n",
      "\u001b[32m[1118 15:59:31 @monitor.py:467]\u001b[0m GAN_loss/d_loss: -0.028127\n",
      "\u001b[32m[1118 15:59:31 @monitor.py:467]\u001b[0m GAN_loss/g_loss: -0.13129\n",
      "\u001b[32m[1118 15:59:31 @monitor.py:467]\u001b[0m GAN_loss/kl_div: 0.050928\n",
      "\u001b[32m[1118 15:59:31 @monitor.py:467]\u001b[0m QueueInput/queue_size: 50\n",
      "\u001b[32m[1118 15:59:31 @base.py:275]\u001b[0m Start Epoch 810 ...\n"
     ]
    },
    {
     "name": "stderr",
     "output_type": "stream",
     "text": [
      "\n",
      "100%|#####################################################################################|17/17[00:00<00:00,38.17it/s]"
     ]
    },
    {
     "name": "stdout",
     "output_type": "stream",
     "text": [
      "\u001b[32m[1118 15:59:31 @base.py:285]\u001b[0m Epoch 810 (global_step 20654) finished, time:0.446 second.\n",
      "\u001b[32m[1118 15:59:32 @saver.py:79]\u001b[0m Model saved to ../output/Chicago/TEST/model\\model-20654.\n",
      "\u001b[32m[1118 15:59:32 @monitor.py:467]\u001b[0m GAN_loss/d_loss: -0.028483\n",
      "\u001b[32m[1118 15:59:32 @monitor.py:467]\u001b[0m GAN_loss/g_loss: -0.13234\n",
      "\u001b[32m[1118 15:59:32 @monitor.py:467]\u001b[0m GAN_loss/kl_div: 0.049516\n",
      "\u001b[32m[1118 15:59:32 @monitor.py:467]\u001b[0m QueueInput/queue_size: 50\n",
      "\u001b[32m[1118 15:59:32 @base.py:275]\u001b[0m Start Epoch 811 ...\n"
     ]
    },
    {
     "name": "stderr",
     "output_type": "stream",
     "text": [
      "\n",
      "100%|#####################################################################################|17/17[00:00<00:00,36.85it/s]"
     ]
    },
    {
     "name": "stdout",
     "output_type": "stream",
     "text": [
      "\u001b[32m[1118 15:59:32 @base.py:285]\u001b[0m Epoch 811 (global_step 20680) finished, time:0.462 second.\n",
      "\u001b[32m[1118 15:59:32 @saver.py:79]\u001b[0m Model saved to ../output/Chicago/TEST/model\\model-20680.\n",
      "\u001b[32m[1118 15:59:32 @monitor.py:467]\u001b[0m GAN_loss/d_loss: -0.028729\n",
      "\u001b[32m[1118 15:59:32 @monitor.py:467]\u001b[0m GAN_loss/g_loss: -0.13227\n",
      "\u001b[32m[1118 15:59:32 @monitor.py:467]\u001b[0m GAN_loss/kl_div: 0.052241\n",
      "\u001b[32m[1118 15:59:32 @monitor.py:467]\u001b[0m QueueInput/queue_size: 50\n",
      "\u001b[32m[1118 15:59:32 @base.py:275]\u001b[0m Start Epoch 812 ...\n"
     ]
    },
    {
     "name": "stderr",
     "output_type": "stream",
     "text": [
      "\n",
      "100%|#####################################################################################|17/17[00:00<00:00,37.46it/s]"
     ]
    },
    {
     "name": "stdout",
     "output_type": "stream",
     "text": [
      "\u001b[32m[1118 15:59:33 @base.py:285]\u001b[0m Epoch 812 (global_step 20705) finished, time:0.454 second.\n",
      "\u001b[32m[1118 15:59:33 @saver.py:79]\u001b[0m Model saved to ../output/Chicago/TEST/model\\model-20705.\n",
      "\u001b[32m[1118 15:59:33 @monitor.py:467]\u001b[0m GAN_loss/d_loss: -0.02803\n",
      "\u001b[32m[1118 15:59:33 @monitor.py:467]\u001b[0m GAN_loss/g_loss: -0.13203\n",
      "\u001b[32m[1118 15:59:33 @monitor.py:467]\u001b[0m GAN_loss/kl_div: 0.050545\n",
      "\u001b[32m[1118 15:59:33 @monitor.py:467]\u001b[0m QueueInput/queue_size: 50\n",
      "\u001b[32m[1118 15:59:33 @base.py:275]\u001b[0m Start Epoch 813 ...\n"
     ]
    },
    {
     "name": "stderr",
     "output_type": "stream",
     "text": [
      "\n",
      "100%|#####################################################################################|17/17[00:00<00:00,36.89it/s]"
     ]
    },
    {
     "name": "stdout",
     "output_type": "stream",
     "text": [
      "\u001b[32m[1118 15:59:33 @base.py:285]\u001b[0m Epoch 813 (global_step 20731) finished, time:0.461 second.\n",
      "\u001b[32m[1118 15:59:33 @saver.py:79]\u001b[0m Model saved to ../output/Chicago/TEST/model\\model-20731.\n",
      "\u001b[32m[1118 15:59:34 @monitor.py:467]\u001b[0m GAN_loss/d_loss: -0.028811\n",
      "\u001b[32m[1118 15:59:34 @monitor.py:467]\u001b[0m GAN_loss/g_loss: -0.13198\n",
      "\u001b[32m[1118 15:59:34 @monitor.py:467]\u001b[0m GAN_loss/kl_div: 0.048633\n",
      "\u001b[32m[1118 15:59:34 @monitor.py:467]\u001b[0m QueueInput/queue_size: 50\n",
      "\u001b[32m[1118 15:59:34 @base.py:275]\u001b[0m Start Epoch 814 ...\n"
     ]
    },
    {
     "name": "stderr",
     "output_type": "stream",
     "text": [
      "\n",
      "100%|#####################################################################################|17/17[00:00<00:00,38.30it/s]"
     ]
    },
    {
     "name": "stdout",
     "output_type": "stream",
     "text": [
      "\u001b[32m[1118 15:59:34 @base.py:285]\u001b[0m Epoch 814 (global_step 20756) finished, time:0.444 second.\n",
      "\u001b[32m[1118 15:59:34 @saver.py:79]\u001b[0m Model saved to ../output/Chicago/TEST/model\\model-20756.\n",
      "\u001b[32m[1118 15:59:34 @monitor.py:467]\u001b[0m GAN_loss/d_loss: -0.029938\n",
      "\u001b[32m[1118 15:59:34 @monitor.py:467]\u001b[0m GAN_loss/g_loss: -0.13163\n",
      "\u001b[32m[1118 15:59:34 @monitor.py:467]\u001b[0m GAN_loss/kl_div: 0.048267\n",
      "\u001b[32m[1118 15:59:34 @monitor.py:467]\u001b[0m QueueInput/queue_size: 50\n",
      "\u001b[32m[1118 15:59:34 @base.py:275]\u001b[0m Start Epoch 815 ...\n"
     ]
    },
    {
     "name": "stderr",
     "output_type": "stream",
     "text": [
      "\n",
      "100%|#####################################################################################|17/17[00:00<00:00,36.97it/s]"
     ]
    },
    {
     "name": "stdout",
     "output_type": "stream",
     "text": [
      "\u001b[32m[1118 15:59:35 @base.py:285]\u001b[0m Epoch 815 (global_step 20782) finished, time:0.46 second.\n",
      "\u001b[32m[1118 15:59:35 @saver.py:79]\u001b[0m Model saved to ../output/Chicago/TEST/model\\model-20782.\n",
      "\u001b[32m[1118 15:59:35 @monitor.py:467]\u001b[0m GAN_loss/d_loss: -0.029904\n",
      "\u001b[32m[1118 15:59:35 @monitor.py:467]\u001b[0m GAN_loss/g_loss: -0.13242\n",
      "\u001b[32m[1118 15:59:35 @monitor.py:467]\u001b[0m GAN_loss/kl_div: 0.05004\n",
      "\u001b[32m[1118 15:59:35 @monitor.py:467]\u001b[0m QueueInput/queue_size: 50\n",
      "\u001b[32m[1118 15:59:35 @base.py:275]\u001b[0m Start Epoch 816 ...\n"
     ]
    },
    {
     "name": "stderr",
     "output_type": "stream",
     "text": [
      "\n",
      "100%|#####################################################################################|17/17[00:00<00:00,38.00it/s]"
     ]
    },
    {
     "name": "stdout",
     "output_type": "stream",
     "text": [
      "\u001b[32m[1118 15:59:35 @base.py:285]\u001b[0m Epoch 816 (global_step 20807) finished, time:0.448 second.\n",
      "\u001b[32m[1118 15:59:35 @saver.py:79]\u001b[0m Model saved to ../output/Chicago/TEST/model\\model-20807.\n",
      "\u001b[32m[1118 15:59:35 @monitor.py:467]\u001b[0m GAN_loss/d_loss: -0.027857\n",
      "\u001b[32m[1118 15:59:35 @monitor.py:467]\u001b[0m GAN_loss/g_loss: -0.13337\n",
      "\u001b[32m[1118 15:59:35 @monitor.py:467]\u001b[0m GAN_loss/kl_div: 0.050071\n",
      "\u001b[32m[1118 15:59:35 @monitor.py:467]\u001b[0m QueueInput/queue_size: 50\n",
      "\u001b[32m[1118 15:59:35 @base.py:275]\u001b[0m Start Epoch 817 ...\n"
     ]
    },
    {
     "name": "stderr",
     "output_type": "stream",
     "text": [
      "\n",
      "100%|#####################################################################################|17/17[00:00<00:00,37.01it/s]"
     ]
    },
    {
     "name": "stdout",
     "output_type": "stream",
     "text": [
      "\u001b[32m[1118 15:59:36 @base.py:285]\u001b[0m Epoch 817 (global_step 20833) finished, time:0.46 second.\n",
      "\u001b[32m[1118 15:59:36 @saver.py:79]\u001b[0m Model saved to ../output/Chicago/TEST/model\\model-20833.\n",
      "\u001b[32m[1118 15:59:36 @monitor.py:467]\u001b[0m GAN_loss/d_loss: -0.027941\n",
      "\u001b[32m[1118 15:59:36 @monitor.py:467]\u001b[0m GAN_loss/g_loss: -0.13314\n",
      "\u001b[32m[1118 15:59:36 @monitor.py:467]\u001b[0m GAN_loss/kl_div: 0.050285\n",
      "\u001b[32m[1118 15:59:36 @monitor.py:467]\u001b[0m QueueInput/queue_size: 50\n"
     ]
    },
    {
     "name": "stderr",
     "output_type": "stream",
     "text": [
      "\n"
     ]
    },
    {
     "name": "stdout",
     "output_type": "stream",
     "text": [
      "\u001b[32m[1118 15:59:36 @base.py:275]\u001b[0m Start Epoch 818 ...\n"
     ]
    },
    {
     "name": "stderr",
     "output_type": "stream",
     "text": [
      "100%|#####################################################################################|17/17[00:00<00:00,38.17it/s]"
     ]
    },
    {
     "name": "stdout",
     "output_type": "stream",
     "text": [
      "\u001b[32m[1118 15:59:36 @base.py:285]\u001b[0m Epoch 818 (global_step 20858) finished, time:0.446 second.\n",
      "\u001b[32m[1118 15:59:37 @saver.py:79]\u001b[0m Model saved to ../output/Chicago/TEST/model\\model-20858.\n",
      "\u001b[32m[1118 15:59:37 @monitor.py:467]\u001b[0m GAN_loss/d_loss: -0.028914\n",
      "\u001b[32m[1118 15:59:37 @monitor.py:467]\u001b[0m GAN_loss/g_loss: -0.13305\n",
      "\u001b[32m[1118 15:59:37 @monitor.py:467]\u001b[0m GAN_loss/kl_div: 0.050044\n",
      "\u001b[32m[1118 15:59:37 @monitor.py:467]\u001b[0m QueueInput/queue_size: 50\n",
      "\u001b[32m[1118 15:59:37 @base.py:275]\u001b[0m Start Epoch 819 ...\n"
     ]
    },
    {
     "name": "stderr",
     "output_type": "stream",
     "text": [
      "\n",
      "100%|#####################################################################################|17/17[00:00<00:00,36.85it/s]"
     ]
    },
    {
     "name": "stdout",
     "output_type": "stream",
     "text": [
      "\u001b[32m[1118 15:59:37 @base.py:285]\u001b[0m Epoch 819 (global_step 20884) finished, time:0.462 second.\n",
      "\u001b[32m[1118 15:59:37 @saver.py:79]\u001b[0m Model saved to ../output/Chicago/TEST/model\\model-20884.\n",
      "\u001b[32m[1118 15:59:37 @monitor.py:467]\u001b[0m GAN_loss/d_loss: -0.028211\n"
     ]
    },
    {
     "name": "stderr",
     "output_type": "stream",
     "text": [
      "\n"
     ]
    },
    {
     "name": "stdout",
     "output_type": "stream",
     "text": [
      "\u001b[32m[1118 15:59:37 @monitor.py:467]\u001b[0m GAN_loss/g_loss: -0.13394\n",
      "\u001b[32m[1118 15:59:37 @monitor.py:467]\u001b[0m GAN_loss/kl_div: 0.047964\n",
      "\u001b[32m[1118 15:59:37 @monitor.py:467]\u001b[0m QueueInput/queue_size: 50\n",
      "\u001b[32m[1118 15:59:37 @base.py:275]\u001b[0m Start Epoch 820 ...\n"
     ]
    },
    {
     "name": "stderr",
     "output_type": "stream",
     "text": [
      "100%|#####################################################################################|17/17[00:00<00:00,38.21it/s]"
     ]
    },
    {
     "name": "stdout",
     "output_type": "stream",
     "text": [
      "\u001b[32m[1118 15:59:38 @base.py:285]\u001b[0m Epoch 820 (global_step 20909) finished, time:0.445 second.\n",
      "\u001b[32m[1118 15:59:38 @saver.py:79]\u001b[0m Model saved to ../output/Chicago/TEST/model\\model-20909.\n",
      "\u001b[32m[1118 15:59:38 @monitor.py:467]\u001b[0m GAN_loss/d_loss: -0.027986\n",
      "\u001b[32m[1118 15:59:38 @monitor.py:467]\u001b[0m GAN_loss/g_loss: -0.1336\n",
      "\u001b[32m[1118 15:59:38 @monitor.py:467]\u001b[0m GAN_loss/kl_div: 0.047261\n",
      "\u001b[32m[1118 15:59:38 @monitor.py:467]\u001b[0m QueueInput/queue_size: 50\n",
      "\u001b[32m[1118 15:59:38 @base.py:275]\u001b[0m Start Epoch 821 ...\n"
     ]
    },
    {
     "name": "stderr",
     "output_type": "stream",
     "text": [
      "\n",
      "100%|#####################################################################################|17/17[00:00<00:00,36.93it/s]"
     ]
    },
    {
     "name": "stdout",
     "output_type": "stream",
     "text": [
      "\u001b[32m[1118 15:59:38 @base.py:285]\u001b[0m Epoch 821 (global_step 20935) finished, time:0.461 second.\n",
      "\u001b[32m[1118 15:59:38 @saver.py:79]\u001b[0m Model saved to ../output/Chicago/TEST/model\\model-20935.\n",
      "\u001b[32m[1118 15:59:38 @monitor.py:467]\u001b[0m GAN_loss/d_loss: -0.02824\n",
      "\u001b[32m[1118 15:59:38 @monitor.py:467]\u001b[0m GAN_loss/g_loss: -0.13315\n",
      "\u001b[32m[1118 15:59:38 @monitor.py:467]\u001b[0m GAN_loss/kl_div: 0.048694\n",
      "\u001b[32m[1118 15:59:38 @monitor.py:467]\u001b[0m QueueInput/queue_size: 50\n",
      "\u001b[32m[1118 15:59:38 @base.py:275]\u001b[0m Start Epoch 822 ...\n"
     ]
    },
    {
     "name": "stderr",
     "output_type": "stream",
     "text": [
      "\n",
      "100%|#####################################################################################|17/17[00:00<00:00,38.08it/s]"
     ]
    },
    {
     "name": "stdout",
     "output_type": "stream",
     "text": [
      "\u001b[32m[1118 15:59:39 @base.py:285]\u001b[0m Epoch 822 (global_step 20960) finished, time:0.447 second.\n",
      "\u001b[32m[1118 15:59:39 @saver.py:79]\u001b[0m Model saved to ../output/Chicago/TEST/model\\model-20960.\n",
      "\u001b[32m[1118 15:59:39 @monitor.py:467]\u001b[0m GAN_loss/d_loss: -0.0292\n",
      "\u001b[32m[1118 15:59:39 @monitor.py:467]\u001b[0m GAN_loss/g_loss: -0.13116\n",
      "\u001b[32m[1118 15:59:39 @monitor.py:467]\u001b[0m GAN_loss/kl_div: 0.048981\n",
      "\u001b[32m[1118 15:59:39 @monitor.py:467]\u001b[0m QueueInput/queue_size: 50\n",
      "\u001b[32m[1118 15:59:39 @base.py:275]\u001b[0m Start Epoch 823 ...\n"
     ]
    },
    {
     "name": "stderr",
     "output_type": "stream",
     "text": [
      "\n",
      "100%|#####################################################################################|17/17[00:00<00:00,36.62it/s]"
     ]
    },
    {
     "name": "stdout",
     "output_type": "stream",
     "text": [
      "\u001b[32m[1118 15:59:40 @base.py:285]\u001b[0m Epoch 823 (global_step 20986) finished, time:0.465 second.\n",
      "\u001b[32m[1118 15:59:40 @saver.py:79]\u001b[0m Model saved to ../output/Chicago/TEST/model\\model-20986.\n",
      "\u001b[32m[1118 15:59:40 @monitor.py:467]\u001b[0m GAN_loss/d_loss: -0.029837\n",
      "\u001b[32m[1118 15:59:40 @monitor.py:467]\u001b[0m GAN_loss/g_loss: -0.13152\n",
      "\u001b[32m[1118 15:59:40 @monitor.py:467]\u001b[0m GAN_loss/kl_div: 0.051682\n",
      "\u001b[32m[1118 15:59:40 @monitor.py:467]\u001b[0m QueueInput/queue_size: 50\n",
      "\u001b[32m[1118 15:59:40 @base.py:275]\u001b[0m Start Epoch 824 ...\n"
     ]
    },
    {
     "name": "stderr",
     "output_type": "stream",
     "text": [
      "\n",
      "100%|#####################################################################################|17/17[00:00<00:00,37.42it/s]"
     ]
    },
    {
     "name": "stdout",
     "output_type": "stream",
     "text": [
      "\u001b[32m[1118 15:59:40 @base.py:285]\u001b[0m Epoch 824 (global_step 21011) finished, time:0.455 second.\n",
      "\u001b[32m[1118 15:59:40 @saver.py:79]\u001b[0m Model saved to ../output/Chicago/TEST/model\\model-21011.\n",
      "\u001b[32m[1118 15:59:40 @monitor.py:467]\u001b[0m GAN_loss/d_loss: -0.029457\n",
      "\u001b[32m[1118 15:59:40 @monitor.py:467]\u001b[0m GAN_loss/g_loss: -0.13174\n",
      "\u001b[32m[1118 15:59:40 @monitor.py:467]\u001b[0m GAN_loss/kl_div: 0.049125\n",
      "\u001b[32m[1118 15:59:40 @monitor.py:467]\u001b[0m QueueInput/queue_size: 50\n",
      "\u001b[32m[1118 15:59:40 @base.py:275]\u001b[0m Start Epoch 825 ...\n"
     ]
    },
    {
     "name": "stderr",
     "output_type": "stream",
     "text": [
      "\n",
      "100%|#####################################################################################|17/17[00:00<00:00,36.85it/s]"
     ]
    },
    {
     "name": "stdout",
     "output_type": "stream",
     "text": [
      "\u001b[32m[1118 15:59:41 @base.py:285]\u001b[0m Epoch 825 (global_step 21037) finished, time:0.462 second.\n",
      "\u001b[32m[1118 15:59:41 @saver.py:79]\u001b[0m Model saved to ../output/Chicago/TEST/model\\model-21037.\n",
      "\u001b[32m[1118 15:59:41 @monitor.py:467]\u001b[0m GAN_loss/d_loss: -0.028152\n",
      "\u001b[32m[1118 15:59:41 @monitor.py:467]\u001b[0m GAN_loss/g_loss: -0.13142\n",
      "\u001b[32m[1118 15:59:41 @monitor.py:467]\u001b[0m GAN_loss/kl_div: 0.044926\n",
      "\u001b[32m[1118 15:59:41 @monitor.py:467]\u001b[0m QueueInput/queue_size: 50\n",
      "\u001b[32m[1118 15:59:41 @base.py:275]\u001b[0m Start Epoch 826 ...\n"
     ]
    },
    {
     "name": "stderr",
     "output_type": "stream",
     "text": [
      "\n",
      "100%|#####################################################################################|17/17[00:00<00:00,37.87it/s]"
     ]
    },
    {
     "name": "stdout",
     "output_type": "stream",
     "text": [
      "\u001b[32m[1118 15:59:41 @base.py:285]\u001b[0m Epoch 826 (global_step 21062) finished, time:0.449 second.\n",
      "\u001b[32m[1118 15:59:42 @saver.py:79]\u001b[0m Model saved to ../output/Chicago/TEST/model\\model-21062.\n",
      "\u001b[32m[1118 15:59:42 @monitor.py:467]\u001b[0m GAN_loss/d_loss: -0.030274\n",
      "\u001b[32m[1118 15:59:42 @monitor.py:467]\u001b[0m GAN_loss/g_loss: -0.13205\n",
      "\u001b[32m[1118 15:59:42 @monitor.py:467]\u001b[0m GAN_loss/kl_div: 0.046613\n",
      "\u001b[32m[1118 15:59:42 @monitor.py:467]\u001b[0m QueueInput/queue_size: 50\n",
      "\u001b[32m[1118 15:59:42 @base.py:275]\u001b[0m Start Epoch 827 ...\n"
     ]
    },
    {
     "name": "stderr",
     "output_type": "stream",
     "text": [
      "\n",
      "100%|#####################################################################################|17/17[00:00<00:00,36.97it/s]"
     ]
    },
    {
     "name": "stdout",
     "output_type": "stream",
     "text": [
      "\u001b[32m[1118 15:59:42 @base.py:285]\u001b[0m Epoch 827 (global_step 21088) finished, time:0.461 second.\n",
      "\u001b[32m[1118 15:59:42 @saver.py:79]\u001b[0m Model saved to ../output/Chicago/TEST/model\\model-21088.\n",
      "\u001b[32m[1118 15:59:42 @monitor.py:467]\u001b[0m GAN_loss/d_loss: -0.030262\n"
     ]
    },
    {
     "name": "stderr",
     "output_type": "stream",
     "text": [
      "\n"
     ]
    },
    {
     "name": "stdout",
     "output_type": "stream",
     "text": [
      "\u001b[32m[1118 15:59:42 @monitor.py:467]\u001b[0m GAN_loss/g_loss: -0.13313\n",
      "\u001b[32m[1118 15:59:42 @monitor.py:467]\u001b[0m GAN_loss/kl_div: 0.047646\n",
      "\u001b[32m[1118 15:59:42 @monitor.py:467]\u001b[0m QueueInput/queue_size: 50\n",
      "\u001b[32m[1118 15:59:42 @base.py:275]\u001b[0m Start Epoch 828 ...\n"
     ]
    },
    {
     "name": "stderr",
     "output_type": "stream",
     "text": [
      "100%|#####################################################################################|17/17[00:00<00:00,38.21it/s]"
     ]
    },
    {
     "name": "stdout",
     "output_type": "stream",
     "text": [
      "\u001b[32m[1118 15:59:43 @base.py:285]\u001b[0m Epoch 828 (global_step 21113) finished, time:0.446 second.\n",
      "\u001b[32m[1118 15:59:43 @saver.py:79]\u001b[0m Model saved to ../output/Chicago/TEST/model\\model-21113.\n",
      "\u001b[32m[1118 15:59:43 @monitor.py:467]\u001b[0m GAN_loss/d_loss: -0.02983\n",
      "\u001b[32m[1118 15:59:43 @monitor.py:467]\u001b[0m GAN_loss/g_loss: -0.13309\n",
      "\u001b[32m[1118 15:59:43 @monitor.py:467]\u001b[0m GAN_loss/kl_div: 0.046219\n",
      "\u001b[32m[1118 15:59:43 @monitor.py:467]\u001b[0m QueueInput/queue_size: 50\n",
      "\u001b[32m[1118 15:59:43 @base.py:275]\u001b[0m Start Epoch 829 ...\n"
     ]
    },
    {
     "name": "stderr",
     "output_type": "stream",
     "text": [
      "\n",
      "100%|#####################################################################################|17/17[00:00<00:00,36.31it/s]"
     ]
    },
    {
     "name": "stdout",
     "output_type": "stream",
     "text": [
      "\u001b[32m[1118 15:59:43 @base.py:285]\u001b[0m Epoch 829 (global_step 21139) finished, time:0.469 second.\n",
      "\u001b[32m[1118 15:59:43 @saver.py:79]\u001b[0m Model saved to ../output/Chicago/TEST/model\\model-21139.\n",
      "\u001b[32m[1118 15:59:44 @monitor.py:467]\u001b[0m GAN_loss/d_loss: -0.028851\n",
      "\u001b[32m[1118 15:59:44 @monitor.py:467]\u001b[0m GAN_loss/g_loss: -0.13244\n",
      "\u001b[32m[1118 15:59:44 @monitor.py:467]\u001b[0m GAN_loss/kl_div: 0.049306\n",
      "\u001b[32m[1118 15:59:44 @monitor.py:467]\u001b[0m QueueInput/queue_size: 50\n",
      "\u001b[32m[1118 15:59:44 @base.py:275]\u001b[0m Start Epoch 830 ...\n"
     ]
    },
    {
     "name": "stderr",
     "output_type": "stream",
     "text": [
      "\n",
      "100%|#####################################################################################|17/17[00:00<00:00,37.42it/s]"
     ]
    },
    {
     "name": "stdout",
     "output_type": "stream",
     "text": [
      "\u001b[32m[1118 15:59:44 @base.py:285]\u001b[0m Epoch 830 (global_step 21164) finished, time:0.455 second.\n",
      "\u001b[32m[1118 15:59:44 @saver.py:79]\u001b[0m Model saved to ../output/Chicago/TEST/model\\model-21164.\n",
      "\u001b[32m[1118 15:59:44 @monitor.py:467]\u001b[0m GAN_loss/d_loss: -0.029635\n",
      "\u001b[32m[1118 15:59:44 @monitor.py:467]\u001b[0m GAN_loss/g_loss: -0.13245\n",
      "\u001b[32m[1118 15:59:44 @monitor.py:467]\u001b[0m GAN_loss/kl_div: 0.047633\n",
      "\u001b[32m[1118 15:59:44 @monitor.py:467]\u001b[0m QueueInput/queue_size: 50\n",
      "\u001b[32m[1118 15:59:44 @base.py:275]\u001b[0m Start Epoch 831 ...\n"
     ]
    },
    {
     "name": "stderr",
     "output_type": "stream",
     "text": [
      "\n",
      "100%|#####################################################################################|17/17[00:00<00:00,35.85it/s]"
     ]
    },
    {
     "name": "stdout",
     "output_type": "stream",
     "text": [
      "\u001b[32m[1118 15:59:45 @base.py:285]\u001b[0m Epoch 831 (global_step 21190) finished, time:0.474 second.\n",
      "\u001b[32m[1118 15:59:45 @saver.py:79]\u001b[0m Model saved to ../output/Chicago/TEST/model\\model-21190.\n"
     ]
    },
    {
     "name": "stderr",
     "output_type": "stream",
     "text": [
      "\n"
     ]
    },
    {
     "name": "stdout",
     "output_type": "stream",
     "text": [
      "\u001b[32m[1118 15:59:45 @monitor.py:467]\u001b[0m GAN_loss/d_loss: -0.029164\n",
      "\u001b[32m[1118 15:59:45 @monitor.py:467]\u001b[0m GAN_loss/g_loss: -0.13236\n",
      "\u001b[32m[1118 15:59:45 @monitor.py:467]\u001b[0m GAN_loss/kl_div: 0.050464\n",
      "\u001b[32m[1118 15:59:45 @monitor.py:467]\u001b[0m QueueInput/queue_size: 50\n",
      "\u001b[32m[1118 15:59:45 @base.py:275]\u001b[0m Start Epoch 832 ...\n"
     ]
    },
    {
     "name": "stderr",
     "output_type": "stream",
     "text": [
      "100%|#####################################################################################|17/17[00:00<00:00,38.17it/s]"
     ]
    },
    {
     "name": "stdout",
     "output_type": "stream",
     "text": [
      "\u001b[32m[1118 15:59:45 @base.py:285]\u001b[0m Epoch 832 (global_step 21215) finished, time:0.446 second.\n",
      "\u001b[32m[1118 15:59:45 @saver.py:79]\u001b[0m Model saved to ../output/Chicago/TEST/model\\model-21215.\n",
      "\u001b[32m[1118 15:59:45 @monitor.py:467]\u001b[0m GAN_loss/d_loss: -0.028368\n",
      "\u001b[32m[1118 15:59:45 @monitor.py:467]\u001b[0m GAN_loss/g_loss: -0.13226\n",
      "\u001b[32m[1118 15:59:45 @monitor.py:467]\u001b[0m GAN_loss/kl_div: 0.050561\n",
      "\u001b[32m[1118 15:59:45 @monitor.py:467]\u001b[0m QueueInput/queue_size: 50\n",
      "\u001b[32m[1118 15:59:45 @base.py:275]\u001b[0m Start Epoch 833 ...\n"
     ]
    },
    {
     "name": "stderr",
     "output_type": "stream",
     "text": [
      "\n",
      "100%|#####################################################################################|17/17[00:00<00:00,37.01it/s]"
     ]
    },
    {
     "name": "stdout",
     "output_type": "stream",
     "text": [
      "\u001b[32m[1118 15:59:46 @base.py:285]\u001b[0m Epoch 833 (global_step 21241) finished, time:0.459 second.\n",
      "\u001b[32m[1118 15:59:46 @saver.py:79]\u001b[0m Model saved to ../output/Chicago/TEST/model\\model-21241.\n",
      "\u001b[32m[1118 15:59:46 @monitor.py:467]\u001b[0m GAN_loss/d_loss: -0.02806\n",
      "\u001b[32m[1118 15:59:46 @monitor.py:467]\u001b[0m GAN_loss/g_loss: -0.13217\n",
      "\u001b[32m[1118 15:59:46 @monitor.py:467]\u001b[0m GAN_loss/kl_div: 0.050086\n",
      "\u001b[32m[1118 15:59:46 @monitor.py:467]\u001b[0m QueueInput/queue_size: 50\n"
     ]
    },
    {
     "name": "stderr",
     "output_type": "stream",
     "text": [
      "\n"
     ]
    },
    {
     "name": "stdout",
     "output_type": "stream",
     "text": [
      "\u001b[32m[1118 15:59:46 @base.py:275]\u001b[0m Start Epoch 834 ...\n"
     ]
    },
    {
     "name": "stderr",
     "output_type": "stream",
     "text": [
      "100%|#####################################################################################|17/17[00:00<00:00,38.21it/s]"
     ]
    },
    {
     "name": "stdout",
     "output_type": "stream",
     "text": [
      "\u001b[32m[1118 15:59:47 @base.py:285]\u001b[0m Epoch 834 (global_step 21266) finished, time:0.445 second.\n",
      "\u001b[32m[1118 15:59:47 @saver.py:79]\u001b[0m Model saved to ../output/Chicago/TEST/model\\model-21266.\n",
      "\u001b[32m[1118 15:59:47 @monitor.py:467]\u001b[0m GAN_loss/d_loss: -0.029231\n",
      "\u001b[32m[1118 15:59:47 @monitor.py:467]\u001b[0m GAN_loss/g_loss: -0.13055\n",
      "\u001b[32m[1118 15:59:47 @monitor.py:467]\u001b[0m GAN_loss/kl_div: 0.046867\n",
      "\u001b[32m[1118 15:59:47 @monitor.py:467]\u001b[0m QueueInput/queue_size: 50\n",
      "\u001b[32m[1118 15:59:47 @base.py:275]\u001b[0m Start Epoch 835 ...\n"
     ]
    },
    {
     "name": "stderr",
     "output_type": "stream",
     "text": [
      "\n",
      "100%|#####################################################################################|17/17[00:00<00:00,36.85it/s]"
     ]
    },
    {
     "name": "stdout",
     "output_type": "stream",
     "text": [
      "\u001b[32m[1118 15:59:47 @base.py:285]\u001b[0m Epoch 835 (global_step 21292) finished, time:0.462 second.\n",
      "\u001b[32m[1118 15:59:47 @saver.py:79]\u001b[0m Model saved to ../output/Chicago/TEST/model\\model-21292.\n",
      "\u001b[32m[1118 15:59:47 @monitor.py:467]\u001b[0m GAN_loss/d_loss: -0.028539\n",
      "\u001b[32m[1118 15:59:47 @monitor.py:467]\u001b[0m GAN_loss/g_loss: -0.1315\n",
      "\u001b[32m[1118 15:59:47 @monitor.py:467]\u001b[0m GAN_loss/kl_div: 0.047553\n",
      "\u001b[32m[1118 15:59:47 @monitor.py:467]\u001b[0m QueueInput/queue_size: 50\n",
      "\u001b[32m[1118 15:59:47 @base.py:275]\u001b[0m Start Epoch 836 ...\n"
     ]
    },
    {
     "name": "stderr",
     "output_type": "stream",
     "text": [
      "\n",
      "100%|#####################################################################################|17/17[00:00<00:00,38.42it/s]"
     ]
    },
    {
     "name": "stdout",
     "output_type": "stream",
     "text": [
      "\u001b[32m[1118 15:59:48 @base.py:285]\u001b[0m Epoch 836 (global_step 21317) finished, time:0.443 second.\n",
      "\u001b[32m[1118 15:59:48 @saver.py:79]\u001b[0m Model saved to ../output/Chicago/TEST/model\\model-21317.\n",
      "\u001b[32m[1118 15:59:48 @monitor.py:467]\u001b[0m GAN_loss/d_loss: -0.028544\n",
      "\u001b[32m[1118 15:59:48 @monitor.py:467]\u001b[0m GAN_loss/g_loss: -0.13132\n",
      "\u001b[32m[1118 15:59:48 @monitor.py:467]\u001b[0m GAN_loss/kl_div: 0.049967\n",
      "\u001b[32m[1118 15:59:48 @monitor.py:467]\u001b[0m QueueInput/queue_size: 50\n",
      "\u001b[32m[1118 15:59:48 @base.py:275]\u001b[0m Start Epoch 837 ...\n"
     ]
    },
    {
     "name": "stderr",
     "output_type": "stream",
     "text": [
      "\n",
      "100%|#####################################################################################|17/17[00:00<00:00,36.78it/s]"
     ]
    },
    {
     "name": "stdout",
     "output_type": "stream",
     "text": [
      "\u001b[32m[1118 15:59:48 @base.py:285]\u001b[0m Epoch 837 (global_step 21343) finished, time:0.463 second.\n",
      "\u001b[32m[1118 15:59:49 @saver.py:79]\u001b[0m Model saved to ../output/Chicago/TEST/model\\model-21343.\n",
      "\u001b[32m[1118 15:59:49 @monitor.py:467]\u001b[0m GAN_loss/d_loss: -0.029637\n",
      "\u001b[32m[1118 15:59:49 @monitor.py:467]\u001b[0m GAN_loss/g_loss: -0.13152\n",
      "\u001b[32m[1118 15:59:49 @monitor.py:467]\u001b[0m GAN_loss/kl_div: 0.048556\n",
      "\u001b[32m[1118 15:59:49 @monitor.py:467]\u001b[0m QueueInput/queue_size: 50\n",
      "\u001b[32m[1118 15:59:49 @base.py:275]\u001b[0m Start Epoch 838 ...\n"
     ]
    },
    {
     "name": "stderr",
     "output_type": "stream",
     "text": [
      "\n",
      "100%|#####################################################################################|17/17[00:00<00:00,38.21it/s]"
     ]
    },
    {
     "name": "stdout",
     "output_type": "stream",
     "text": [
      "\u001b[32m[1118 15:59:49 @base.py:285]\u001b[0m Epoch 838 (global_step 21368) finished, time:0.445 second.\n",
      "\u001b[32m[1118 15:59:49 @saver.py:79]\u001b[0m Model saved to ../output/Chicago/TEST/model\\model-21368.\n",
      "\u001b[32m[1118 15:59:49 @monitor.py:467]\u001b[0m GAN_loss/d_loss: -0.029831\n",
      "\u001b[32m[1118 15:59:49 @monitor.py:467]\u001b[0m GAN_loss/g_loss: -0.13066\n",
      "\u001b[32m[1118 15:59:49 @monitor.py:467]\u001b[0m GAN_loss/kl_div: 0.047306\n",
      "\u001b[32m[1118 15:59:49 @monitor.py:467]\u001b[0m QueueInput/queue_size: 50\n",
      "\u001b[32m[1118 15:59:49 @base.py:275]\u001b[0m Start Epoch 839 ...\n"
     ]
    },
    {
     "name": "stderr",
     "output_type": "stream",
     "text": [
      "\n",
      "100%|#####################################################################################|17/17[00:00<00:00,37.05it/s]"
     ]
    },
    {
     "name": "stdout",
     "output_type": "stream",
     "text": [
      "\u001b[32m[1118 15:59:50 @base.py:285]\u001b[0m Epoch 839 (global_step 21394) finished, time:0.459 second.\n",
      "\u001b[32m[1118 15:59:50 @saver.py:79]\u001b[0m Model saved to ../output/Chicago/TEST/model\\model-21394.\n",
      "\u001b[32m[1118 15:59:50 @monitor.py:467]\u001b[0m GAN_loss/d_loss: -0.029407\n",
      "\u001b[32m[1118 15:59:50 @monitor.py:467]\u001b[0m GAN_loss/g_loss: -0.13248\n",
      "\u001b[32m[1118 15:59:50 @monitor.py:467]\u001b[0m GAN_loss/kl_div: 0.051096\n",
      "\u001b[32m[1118 15:59:50 @monitor.py:467]\u001b[0m QueueInput/queue_size: 50\n",
      "\u001b[32m[1118 15:59:50 @base.py:275]\u001b[0m Start Epoch 840 ...\n"
     ]
    },
    {
     "name": "stderr",
     "output_type": "stream",
     "text": [
      "\n",
      "100%|#####################################################################################|17/17[00:00<00:00,38.21it/s]"
     ]
    },
    {
     "name": "stdout",
     "output_type": "stream",
     "text": [
      "\u001b[32m[1118 15:59:50 @base.py:285]\u001b[0m Epoch 840 (global_step 21419) finished, time:0.445 second.\n",
      "\u001b[32m[1118 15:59:50 @saver.py:79]\u001b[0m Model saved to ../output/Chicago/TEST/model\\model-21419.\n",
      "\u001b[32m[1118 15:59:50 @monitor.py:467]\u001b[0m GAN_loss/d_loss: -0.028813\n",
      "\u001b[32m[1118 15:59:50 @monitor.py:467]\u001b[0m GAN_loss/g_loss: -0.13257\n",
      "\u001b[32m[1118 15:59:50 @monitor.py:467]\u001b[0m GAN_loss/kl_div: 0.048108\n",
      "\u001b[32m[1118 15:59:50 @monitor.py:467]\u001b[0m QueueInput/queue_size: 50\n",
      "\u001b[32m[1118 15:59:50 @base.py:275]\u001b[0m Start Epoch 841 ...\n"
     ]
    },
    {
     "name": "stderr",
     "output_type": "stream",
     "text": [
      "\n",
      "100%|#####################################################################################|17/17[00:00<00:00,36.93it/s]"
     ]
    },
    {
     "name": "stdout",
     "output_type": "stream",
     "text": [
      "\u001b[32m[1118 15:59:51 @base.py:285]\u001b[0m Epoch 841 (global_step 21445) finished, time:0.461 second.\n",
      "\u001b[32m[1118 15:59:51 @saver.py:79]\u001b[0m Model saved to ../output/Chicago/TEST/model\\model-21445.\n",
      "\u001b[32m[1118 15:59:51 @monitor.py:467]\u001b[0m GAN_loss/d_loss: -0.028136\n",
      "\u001b[32m[1118 15:59:51 @monitor.py:467]\u001b[0m GAN_loss/g_loss: -0.13299\n",
      "\u001b[32m[1118 15:59:51 @monitor.py:467]\u001b[0m GAN_loss/kl_div: 0.047245\n",
      "\u001b[32m[1118 15:59:51 @monitor.py:467]\u001b[0m QueueInput/queue_size: 50\n",
      "\u001b[32m[1118 15:59:51 @base.py:275]\u001b[0m Start Epoch 842 ...\n"
     ]
    },
    {
     "name": "stderr",
     "output_type": "stream",
     "text": [
      "\n",
      "100%|#####################################################################################|17/17[00:00<00:00,38.21it/s]"
     ]
    },
    {
     "name": "stdout",
     "output_type": "stream",
     "text": [
      "\u001b[32m[1118 15:59:52 @base.py:285]\u001b[0m Epoch 842 (global_step 21470) finished, time:0.445 second.\n",
      "\u001b[32m[1118 15:59:52 @saver.py:79]\u001b[0m Model saved to ../output/Chicago/TEST/model\\model-21470.\n",
      "\u001b[32m[1118 15:59:52 @monitor.py:467]\u001b[0m GAN_loss/d_loss: -0.0291\n",
      "\u001b[32m[1118 15:59:52 @monitor.py:467]\u001b[0m GAN_loss/g_loss: -0.13404\n",
      "\u001b[32m[1118 15:59:52 @monitor.py:467]\u001b[0m GAN_loss/kl_div: 0.046135\n",
      "\u001b[32m[1118 15:59:52 @monitor.py:467]\u001b[0m QueueInput/queue_size: 50\n",
      "\u001b[32m[1118 15:59:52 @base.py:275]\u001b[0m Start Epoch 843 ...\n"
     ]
    },
    {
     "name": "stderr",
     "output_type": "stream",
     "text": [
      "\n",
      "100%|#####################################################################################|17/17[00:00<00:00,36.74it/s]"
     ]
    },
    {
     "name": "stdout",
     "output_type": "stream",
     "text": [
      "\u001b[32m[1118 15:59:52 @base.py:285]\u001b[0m Epoch 843 (global_step 21496) finished, time:0.463 second.\n",
      "\u001b[32m[1118 15:59:52 @saver.py:79]\u001b[0m Model saved to ../output/Chicago/TEST/model\\model-21496.\n",
      "\u001b[32m[1118 15:59:52 @monitor.py:467]\u001b[0m GAN_loss/d_loss: -0.028645\n",
      "\u001b[32m[1118 15:59:52 @monitor.py:467]\u001b[0m GAN_loss/g_loss: -0.13454\n",
      "\u001b[32m[1118 15:59:52 @monitor.py:467]\u001b[0m GAN_loss/kl_div: 0.046308\n",
      "\u001b[32m[1118 15:59:52 @monitor.py:467]\u001b[0m QueueInput/queue_size: 50\n",
      "\u001b[32m[1118 15:59:52 @base.py:275]\u001b[0m Start Epoch 844 ...\n"
     ]
    },
    {
     "name": "stderr",
     "output_type": "stream",
     "text": [
      "\n",
      "100%|#####################################################################################|17/17[00:00<00:00,38.17it/s]"
     ]
    },
    {
     "name": "stdout",
     "output_type": "stream",
     "text": [
      "\u001b[32m[1118 15:59:53 @base.py:285]\u001b[0m Epoch 844 (global_step 21521) finished, time:0.446 second.\n",
      "\u001b[32m[1118 15:59:53 @saver.py:79]\u001b[0m Model saved to ../output/Chicago/TEST/model\\model-21521.\n",
      "\u001b[32m[1118 15:59:53 @monitor.py:467]\u001b[0m GAN_loss/d_loss: -0.027868\n",
      "\u001b[32m[1118 15:59:53 @monitor.py:467]\u001b[0m GAN_loss/g_loss: -0.13426\n",
      "\u001b[32m[1118 15:59:53 @monitor.py:467]\u001b[0m GAN_loss/kl_div: 0.050106\n",
      "\u001b[32m[1118 15:59:53 @monitor.py:467]\u001b[0m QueueInput/queue_size: 50\n",
      "\u001b[32m[1118 15:59:53 @base.py:275]\u001b[0m Start Epoch 845 ...\n"
     ]
    },
    {
     "name": "stderr",
     "output_type": "stream",
     "text": [
      "\n",
      "100%|#####################################################################################|17/17[00:00<00:00,37.01it/s]"
     ]
    },
    {
     "name": "stdout",
     "output_type": "stream",
     "text": [
      "\u001b[32m[1118 15:59:53 @base.py:285]\u001b[0m Epoch 845 (global_step 21547) finished, time:0.46 second.\n",
      "\u001b[32m[1118 15:59:54 @saver.py:79]\u001b[0m Model saved to ../output/Chicago/TEST/model\\model-21547.\n",
      "\u001b[32m[1118 15:59:54 @monitor.py:467]\u001b[0m GAN_loss/d_loss: -0.026784\n",
      "\u001b[32m[1118 15:59:54 @monitor.py:467]\u001b[0m GAN_loss/g_loss: -0.13361\n",
      "\u001b[32m[1118 15:59:54 @monitor.py:467]\u001b[0m GAN_loss/kl_div: 0.047201\n",
      "\u001b[32m[1118 15:59:54 @monitor.py:467]\u001b[0m QueueInput/queue_size: 50\n",
      "\u001b[32m[1118 15:59:54 @base.py:275]\u001b[0m Start Epoch 846 ...\n"
     ]
    },
    {
     "name": "stderr",
     "output_type": "stream",
     "text": [
      "\n",
      "100%|#####################################################################################|17/17[00:00<00:00,38.12it/s]"
     ]
    },
    {
     "name": "stdout",
     "output_type": "stream",
     "text": [
      "\u001b[32m[1118 15:59:54 @base.py:285]\u001b[0m Epoch 846 (global_step 21572) finished, time:0.446 second.\n",
      "\u001b[32m[1118 15:59:54 @saver.py:79]\u001b[0m Model saved to ../output/Chicago/TEST/model\\model-21572.\n"
     ]
    },
    {
     "name": "stderr",
     "output_type": "stream",
     "text": [
      "\n"
     ]
    },
    {
     "name": "stdout",
     "output_type": "stream",
     "text": [
      "\u001b[32m[1118 15:59:54 @monitor.py:467]\u001b[0m GAN_loss/d_loss: -0.02817\n",
      "\u001b[32m[1118 15:59:54 @monitor.py:467]\u001b[0m GAN_loss/g_loss: -0.13342\n",
      "\u001b[32m[1118 15:59:54 @monitor.py:467]\u001b[0m GAN_loss/kl_div: 0.0466\n",
      "\u001b[32m[1118 15:59:54 @monitor.py:467]\u001b[0m QueueInput/queue_size: 50\n",
      "\u001b[32m[1118 15:59:54 @base.py:275]\u001b[0m Start Epoch 847 ...\n"
     ]
    },
    {
     "name": "stderr",
     "output_type": "stream",
     "text": [
      "100%|#####################################################################################|17/17[00:00<00:00,37.21it/s]"
     ]
    },
    {
     "name": "stdout",
     "output_type": "stream",
     "text": [
      "\u001b[32m[1118 15:59:55 @base.py:285]\u001b[0m Epoch 847 (global_step 21598) finished, time:0.457 second.\n",
      "\u001b[32m[1118 15:59:55 @saver.py:79]\u001b[0m Model saved to ../output/Chicago/TEST/model\\model-21598.\n",
      "\u001b[32m[1118 15:59:55 @monitor.py:467]\u001b[0m GAN_loss/d_loss: -0.028735\n",
      "\u001b[32m[1118 15:59:55 @monitor.py:467]\u001b[0m GAN_loss/g_loss: -0.13325\n",
      "\u001b[32m[1118 15:59:55 @monitor.py:467]\u001b[0m GAN_loss/kl_div: 0.048514\n",
      "\u001b[32m[1118 15:59:55 @monitor.py:467]\u001b[0m QueueInput/queue_size: 50\n",
      "\u001b[32m[1118 15:59:55 @base.py:275]\u001b[0m Start Epoch 848 ...\n"
     ]
    },
    {
     "name": "stderr",
     "output_type": "stream",
     "text": [
      "\n",
      "100%|#####################################################################################|17/17[00:00<00:00,38.00it/s]"
     ]
    },
    {
     "name": "stdout",
     "output_type": "stream",
     "text": [
      "\u001b[32m[1118 15:59:55 @base.py:285]\u001b[0m Epoch 848 (global_step 21623) finished, time:0.448 second.\n",
      "\u001b[32m[1118 15:59:55 @saver.py:79]\u001b[0m Model saved to ../output/Chicago/TEST/model\\model-21623.\n",
      "\u001b[32m[1118 15:59:55 @monitor.py:467]\u001b[0m GAN_loss/d_loss: -0.028732\n",
      "\u001b[32m[1118 15:59:55 @monitor.py:467]\u001b[0m GAN_loss/g_loss: -0.13391\n",
      "\u001b[32m[1118 15:59:55 @monitor.py:467]\u001b[0m GAN_loss/kl_div: 0.049658\n",
      "\u001b[32m[1118 15:59:55 @monitor.py:467]\u001b[0m QueueInput/queue_size: 50\n",
      "\u001b[32m[1118 15:59:55 @base.py:275]\u001b[0m Start Epoch 849 ...\n"
     ]
    },
    {
     "name": "stderr",
     "output_type": "stream",
     "text": [
      "\n",
      "100%|#####################################################################################|17/17[00:00<00:00,36.93it/s]"
     ]
    },
    {
     "name": "stdout",
     "output_type": "stream",
     "text": [
      "\u001b[32m[1118 15:59:56 @base.py:285]\u001b[0m Epoch 849 (global_step 21649) finished, time:0.461 second.\n",
      "\u001b[32m[1118 15:59:56 @saver.py:79]\u001b[0m Model saved to ../output/Chicago/TEST/model\\model-21649.\n",
      "\u001b[32m[1118 15:59:56 @monitor.py:467]\u001b[0m GAN_loss/d_loss: -0.028619\n",
      "\u001b[32m[1118 15:59:56 @monitor.py:467]\u001b[0m GAN_loss/g_loss: -0.13292\n",
      "\u001b[32m[1118 15:59:56 @monitor.py:467]\u001b[0m GAN_loss/kl_div: 0.048625\n",
      "\u001b[32m[1118 15:59:56 @monitor.py:467]\u001b[0m QueueInput/queue_size: 50\n",
      "\u001b[32m[1118 15:59:56 @base.py:275]\u001b[0m Start Epoch 850 ...\n"
     ]
    },
    {
     "name": "stderr",
     "output_type": "stream",
     "text": [
      "\n",
      "100%|#####################################################################################|17/17[00:00<00:00,38.12it/s]"
     ]
    },
    {
     "name": "stdout",
     "output_type": "stream",
     "text": [
      "\u001b[32m[1118 15:59:57 @base.py:285]\u001b[0m Epoch 850 (global_step 21674) finished, time:0.446 second.\n",
      "\u001b[32m[1118 15:59:57 @saver.py:79]\u001b[0m Model saved to ../output/Chicago/TEST/model\\model-21674.\n",
      "\u001b[32m[1118 15:59:57 @monitor.py:467]\u001b[0m GAN_loss/d_loss: -0.028241\n",
      "\u001b[32m[1118 15:59:57 @monitor.py:467]\u001b[0m GAN_loss/g_loss: -0.13371\n",
      "\u001b[32m[1118 15:59:57 @monitor.py:467]\u001b[0m GAN_loss/kl_div: 0.051879\n",
      "\u001b[32m[1118 15:59:57 @monitor.py:467]\u001b[0m QueueInput/queue_size: 50\n",
      "\u001b[32m[1118 15:59:57 @base.py:275]\u001b[0m Start Epoch 851 ...\n"
     ]
    },
    {
     "name": "stderr",
     "output_type": "stream",
     "text": [
      "\n",
      "100%|#####################################################################################|17/17[00:00<00:00,36.93it/s]"
     ]
    },
    {
     "name": "stdout",
     "output_type": "stream",
     "text": [
      "\u001b[32m[1118 15:59:57 @base.py:285]\u001b[0m Epoch 851 (global_step 21700) finished, time:0.461 second.\n",
      "\u001b[32m[1118 15:59:57 @saver.py:79]\u001b[0m Model saved to ../output/Chicago/TEST/model\\model-21700.\n",
      "\u001b[32m[1118 15:59:57 @monitor.py:467]\u001b[0m GAN_loss/d_loss: -0.028641\n",
      "\u001b[32m[1118 15:59:57 @monitor.py:467]\u001b[0m GAN_loss/g_loss: -0.1332\n",
      "\u001b[32m[1118 15:59:57 @monitor.py:467]\u001b[0m GAN_loss/kl_div: 0.048475\n",
      "\u001b[32m[1118 15:59:57 @monitor.py:467]\u001b[0m QueueInput/queue_size: 50\n",
      "\u001b[32m[1118 15:59:57 @base.py:275]\u001b[0m Start Epoch 852 ...\n"
     ]
    },
    {
     "name": "stderr",
     "output_type": "stream",
     "text": [
      "\n",
      "100%|#####################################################################################|17/17[00:00<00:00,38.17it/s]"
     ]
    },
    {
     "name": "stdout",
     "output_type": "stream",
     "text": [
      "\u001b[32m[1118 15:59:58 @base.py:285]\u001b[0m Epoch 852 (global_step 21725) finished, time:0.446 second.\n",
      "\u001b[32m[1118 15:59:58 @saver.py:79]\u001b[0m Model saved to ../output/Chicago/TEST/model\\model-21725.\n",
      "\u001b[32m[1118 15:59:58 @monitor.py:467]\u001b[0m GAN_loss/d_loss: -0.028078\n",
      "\u001b[32m[1118 15:59:58 @monitor.py:467]\u001b[0m GAN_loss/g_loss: -0.13272\n",
      "\u001b[32m[1118 15:59:58 @monitor.py:467]\u001b[0m GAN_loss/kl_div: 0.049775\n",
      "\u001b[32m[1118 15:59:58 @monitor.py:467]\u001b[0m QueueInput/queue_size: 50\n",
      "\u001b[32m[1118 15:59:58 @base.py:275]\u001b[0m Start Epoch 853 ...\n"
     ]
    },
    {
     "name": "stderr",
     "output_type": "stream",
     "text": [
      "\n",
      "100%|#####################################################################################|17/17[00:00<00:00,36.97it/s]"
     ]
    },
    {
     "name": "stdout",
     "output_type": "stream",
     "text": [
      "\u001b[32m[1118 15:59:58 @base.py:285]\u001b[0m Epoch 853 (global_step 21751) finished, time:0.46 second.\n",
      "\u001b[32m[1118 15:59:59 @saver.py:79]\u001b[0m Model saved to ../output/Chicago/TEST/model\\model-21751.\n",
      "\u001b[32m[1118 15:59:59 @monitor.py:467]\u001b[0m GAN_loss/d_loss: -0.029432\n",
      "\u001b[32m[1118 15:59:59 @monitor.py:467]\u001b[0m GAN_loss/g_loss: -0.13236\n",
      "\u001b[32m[1118 15:59:59 @monitor.py:467]\u001b[0m GAN_loss/kl_div: 0.051319\n",
      "\u001b[32m[1118 15:59:59 @monitor.py:467]\u001b[0m QueueInput/queue_size: 50\n",
      "\u001b[32m[1118 15:59:59 @base.py:275]\u001b[0m Start Epoch 854 ...\n"
     ]
    },
    {
     "name": "stderr",
     "output_type": "stream",
     "text": [
      "\n",
      "100%|#####################################################################################|17/17[00:00<00:00,38.34it/s]"
     ]
    },
    {
     "name": "stdout",
     "output_type": "stream",
     "text": [
      "\u001b[32m[1118 15:59:59 @base.py:285]\u001b[0m Epoch 854 (global_step 21776) finished, time:0.443 second.\n",
      "\u001b[32m[1118 15:59:59 @saver.py:79]\u001b[0m Model saved to ../output/Chicago/TEST/model\\model-21776.\n",
      "\u001b[32m[1118 15:59:59 @monitor.py:467]\u001b[0m GAN_loss/d_loss: -0.029065\n",
      "\u001b[32m[1118 15:59:59 @monitor.py:467]\u001b[0m GAN_loss/g_loss: -0.13275\n",
      "\u001b[32m[1118 15:59:59 @monitor.py:467]\u001b[0m GAN_loss/kl_div: 0.048546\n",
      "\u001b[32m[1118 15:59:59 @monitor.py:467]\u001b[0m QueueInput/queue_size: 50\n",
      "\u001b[32m[1118 15:59:59 @base.py:275]\u001b[0m Start Epoch 855 ...\n"
     ]
    },
    {
     "name": "stderr",
     "output_type": "stream",
     "text": [
      "\n",
      "100%|#####################################################################################|17/17[00:00<00:00,36.81it/s]"
     ]
    },
    {
     "name": "stdout",
     "output_type": "stream",
     "text": [
      "\u001b[32m[1118 16:00:00 @base.py:285]\u001b[0m Epoch 855 (global_step 21802) finished, time:0.463 second.\n",
      "\u001b[32m[1118 16:00:00 @saver.py:79]\u001b[0m Model saved to ../output/Chicago/TEST/model\\model-21802.\n",
      "\u001b[32m[1118 16:00:00 @monitor.py:467]\u001b[0m GAN_loss/d_loss: -0.028539\n",
      "\u001b[32m[1118 16:00:00 @monitor.py:467]\u001b[0m GAN_loss/g_loss: -0.13258\n",
      "\u001b[32m[1118 16:00:00 @monitor.py:467]\u001b[0m GAN_loss/kl_div: 0.048105\n",
      "\u001b[32m[1118 16:00:00 @monitor.py:467]\u001b[0m QueueInput/queue_size: 50\n",
      "\u001b[32m[1118 16:00:00 @base.py:275]\u001b[0m Start Epoch 856 ...\n"
     ]
    },
    {
     "name": "stderr",
     "output_type": "stream",
     "text": [
      "\n",
      "100%|#####################################################################################|17/17[00:00<00:00,38.34it/s]"
     ]
    },
    {
     "name": "stdout",
     "output_type": "stream",
     "text": [
      "\u001b[32m[1118 16:00:00 @base.py:285]\u001b[0m Epoch 856 (global_step 21827) finished, time:0.444 second.\n",
      "\u001b[32m[1118 16:00:00 @saver.py:79]\u001b[0m Model saved to ../output/Chicago/TEST/model\\model-21827.\n",
      "\u001b[32m[1118 16:00:00 @monitor.py:467]\u001b[0m GAN_loss/d_loss: -0.029058\n",
      "\u001b[32m[1118 16:00:00 @monitor.py:467]\u001b[0m GAN_loss/g_loss: -0.13304\n",
      "\u001b[32m[1118 16:00:00 @monitor.py:467]\u001b[0m GAN_loss/kl_div: 0.051008\n",
      "\u001b[32m[1118 16:00:00 @monitor.py:467]\u001b[0m QueueInput/queue_size: 50\n",
      "\u001b[32m[1118 16:00:00 @base.py:275]\u001b[0m Start Epoch 857 ...\n"
     ]
    },
    {
     "name": "stderr",
     "output_type": "stream",
     "text": [
      "\n",
      "100%|#####################################################################################|17/17[00:00<00:00,37.01it/s]"
     ]
    },
    {
     "name": "stdout",
     "output_type": "stream",
     "text": [
      "\u001b[32m[1118 16:00:01 @base.py:285]\u001b[0m Epoch 857 (global_step 21853) finished, time:0.46 second.\n",
      "\u001b[32m[1118 16:00:01 @saver.py:79]\u001b[0m Model saved to ../output/Chicago/TEST/model\\model-21853.\n",
      "\u001b[32m[1118 16:00:01 @monitor.py:467]\u001b[0m GAN_loss/d_loss: -0.029574\n",
      "\u001b[32m[1118 16:00:01 @monitor.py:467]\u001b[0m GAN_loss/g_loss: -0.13305\n",
      "\u001b[32m[1118 16:00:01 @monitor.py:467]\u001b[0m GAN_loss/kl_div: 0.053787\n",
      "\u001b[32m[1118 16:00:01 @monitor.py:467]\u001b[0m QueueInput/queue_size: 50\n",
      "\u001b[32m[1118 16:00:01 @base.py:275]\u001b[0m Start Epoch 858 ...\n"
     ]
    },
    {
     "name": "stderr",
     "output_type": "stream",
     "text": [
      "\n",
      "100%|#####################################################################################|17/17[00:00<00:00,38.17it/s]"
     ]
    },
    {
     "name": "stdout",
     "output_type": "stream",
     "text": [
      "\u001b[32m[1118 16:00:02 @base.py:285]\u001b[0m Epoch 858 (global_step 21878) finished, time:0.446 second.\n",
      "\u001b[32m[1118 16:00:02 @saver.py:79]\u001b[0m Model saved to ../output/Chicago/TEST/model\\model-21878.\n",
      "\u001b[32m[1118 16:00:02 @monitor.py:467]\u001b[0m GAN_loss/d_loss: -0.029624\n",
      "\u001b[32m[1118 16:00:02 @monitor.py:467]\u001b[0m GAN_loss/g_loss: -0.13316\n",
      "\u001b[32m[1118 16:00:02 @monitor.py:467]\u001b[0m GAN_loss/kl_div: 0.049921\n",
      "\u001b[32m[1118 16:00:02 @monitor.py:467]\u001b[0m QueueInput/queue_size: 50\n",
      "\u001b[32m[1118 16:00:02 @base.py:275]\u001b[0m Start Epoch 859 ...\n"
     ]
    },
    {
     "name": "stderr",
     "output_type": "stream",
     "text": [
      "\n",
      "100%|#####################################################################################|17/17[00:00<00:00,36.93it/s]"
     ]
    },
    {
     "name": "stdout",
     "output_type": "stream",
     "text": [
      "\u001b[32m[1118 16:00:02 @base.py:285]\u001b[0m Epoch 859 (global_step 21904) finished, time:0.461 second.\n",
      "\u001b[32m[1118 16:00:02 @saver.py:79]\u001b[0m Model saved to ../output/Chicago/TEST/model\\model-21904.\n",
      "\u001b[32m[1118 16:00:02 @monitor.py:467]\u001b[0m GAN_loss/d_loss: -0.030161\n",
      "\u001b[32m[1118 16:00:02 @monitor.py:467]\u001b[0m GAN_loss/g_loss: -0.13368\n",
      "\u001b[32m[1118 16:00:02 @monitor.py:467]\u001b[0m GAN_loss/kl_div: 0.050245\n",
      "\u001b[32m[1118 16:00:02 @monitor.py:467]\u001b[0m QueueInput/queue_size: 50\n",
      "\u001b[32m[1118 16:00:02 @base.py:275]\u001b[0m Start Epoch 860 ...\n"
     ]
    },
    {
     "name": "stderr",
     "output_type": "stream",
     "text": [
      "\n",
      "100%|#####################################################################################|17/17[00:00<00:00,38.04it/s]"
     ]
    },
    {
     "name": "stdout",
     "output_type": "stream",
     "text": [
      "\u001b[32m[1118 16:00:03 @base.py:285]\u001b[0m Epoch 860 (global_step 21929) finished, time:0.447 second.\n",
      "\u001b[32m[1118 16:00:03 @saver.py:79]\u001b[0m Model saved to ../output/Chicago/TEST/model\\model-21929.\n",
      "\u001b[32m[1118 16:00:03 @monitor.py:467]\u001b[0m GAN_loss/d_loss: -0.029856\n",
      "\u001b[32m[1118 16:00:03 @monitor.py:467]\u001b[0m GAN_loss/g_loss: -0.13255\n",
      "\u001b[32m[1118 16:00:03 @monitor.py:467]\u001b[0m GAN_loss/kl_div: 0.049433\n",
      "\u001b[32m[1118 16:00:03 @monitor.py:467]\u001b[0m QueueInput/queue_size: 50\n",
      "\u001b[32m[1118 16:00:03 @base.py:275]\u001b[0m Start Epoch 861 ...\n"
     ]
    },
    {
     "name": "stderr",
     "output_type": "stream",
     "text": [
      "\n",
      "100%|#####################################################################################|17/17[00:00<00:00,36.93it/s]"
     ]
    },
    {
     "name": "stdout",
     "output_type": "stream",
     "text": [
      "\u001b[32m[1118 16:00:03 @base.py:285]\u001b[0m Epoch 861 (global_step 21955) finished, time:0.461 second.\n",
      "\u001b[32m[1118 16:00:04 @saver.py:79]\u001b[0m Model saved to ../output/Chicago/TEST/model\\model-21955.\n",
      "\u001b[32m[1118 16:00:04 @monitor.py:467]\u001b[0m GAN_loss/d_loss: -0.027771\n",
      "\u001b[32m[1118 16:00:04 @monitor.py:467]\u001b[0m GAN_loss/g_loss: -0.13382\n",
      "\u001b[32m[1118 16:00:04 @monitor.py:467]\u001b[0m GAN_loss/kl_div: 0.04737\n",
      "\u001b[32m[1118 16:00:04 @monitor.py:467]\u001b[0m QueueInput/queue_size: 50\n",
      "\u001b[32m[1118 16:00:04 @base.py:275]\u001b[0m Start Epoch 862 ...\n"
     ]
    },
    {
     "name": "stderr",
     "output_type": "stream",
     "text": [
      "\n",
      "100%|#####################################################################################|17/17[00:00<00:00,38.21it/s]"
     ]
    },
    {
     "name": "stdout",
     "output_type": "stream",
     "text": [
      "\u001b[32m[1118 16:00:04 @base.py:285]\u001b[0m Epoch 862 (global_step 21980) finished, time:0.446 second.\n",
      "\u001b[32m[1118 16:00:04 @saver.py:79]\u001b[0m Model saved to ../output/Chicago/TEST/model\\model-21980.\n",
      "\u001b[32m[1118 16:00:04 @monitor.py:467]\u001b[0m GAN_loss/d_loss: -0.028233\n",
      "\u001b[32m[1118 16:00:04 @monitor.py:467]\u001b[0m GAN_loss/g_loss: -0.13411\n",
      "\u001b[32m[1118 16:00:04 @monitor.py:467]\u001b[0m GAN_loss/kl_div: 0.049008\n",
      "\u001b[32m[1118 16:00:04 @monitor.py:467]\u001b[0m QueueInput/queue_size: 50\n",
      "\u001b[32m[1118 16:00:04 @base.py:275]\u001b[0m Start Epoch 863 ...\n"
     ]
    },
    {
     "name": "stderr",
     "output_type": "stream",
     "text": [
      "\n",
      "100%|#####################################################################################|17/17[00:00<00:00,36.89it/s]"
     ]
    },
    {
     "name": "stdout",
     "output_type": "stream",
     "text": [
      "\u001b[32m[1118 16:00:05 @base.py:285]\u001b[0m Epoch 863 (global_step 22006) finished, time:0.461 second.\n",
      "\u001b[32m[1118 16:00:05 @saver.py:79]\u001b[0m Model saved to ../output/Chicago/TEST/model\\model-22006.\n",
      "\u001b[32m[1118 16:00:05 @monitor.py:467]\u001b[0m GAN_loss/d_loss: -0.028362\n",
      "\u001b[32m[1118 16:00:05 @monitor.py:467]\u001b[0m GAN_loss/g_loss: -0.13454\n",
      "\u001b[32m[1118 16:00:05 @monitor.py:467]\u001b[0m GAN_loss/kl_div: 0.050135\n",
      "\u001b[32m[1118 16:00:05 @monitor.py:467]\u001b[0m QueueInput/queue_size: 50\n",
      "\u001b[32m[1118 16:00:05 @base.py:275]\u001b[0m Start Epoch 864 ...\n"
     ]
    },
    {
     "name": "stderr",
     "output_type": "stream",
     "text": [
      "\n",
      "100%|#####################################################################################|17/17[00:00<00:00,37.71it/s]"
     ]
    },
    {
     "name": "stdout",
     "output_type": "stream",
     "text": [
      "\u001b[32m[1118 16:00:05 @base.py:285]\u001b[0m Epoch 864 (global_step 22031) finished, time:0.451 second.\n",
      "\u001b[32m[1118 16:00:05 @saver.py:79]\u001b[0m Model saved to ../output/Chicago/TEST/model\\model-22031.\n",
      "\u001b[32m[1118 16:00:05 @monitor.py:467]\u001b[0m GAN_loss/d_loss: -0.029197\n",
      "\u001b[32m[1118 16:00:05 @monitor.py:467]\u001b[0m GAN_loss/g_loss: -0.13415\n",
      "\u001b[32m[1118 16:00:05 @monitor.py:467]\u001b[0m GAN_loss/kl_div: 0.048069\n",
      "\u001b[32m[1118 16:00:05 @monitor.py:467]\u001b[0m QueueInput/queue_size: 50\n",
      "\u001b[32m[1118 16:00:05 @base.py:275]\u001b[0m Start Epoch 865 ...\n"
     ]
    },
    {
     "name": "stderr",
     "output_type": "stream",
     "text": [
      "\n",
      "100%|#####################################################################################|17/17[00:00<00:00,37.05it/s]"
     ]
    },
    {
     "name": "stdout",
     "output_type": "stream",
     "text": [
      "\u001b[32m[1118 16:00:06 @base.py:285]\u001b[0m Epoch 865 (global_step 22057) finished, time:0.459 second.\n",
      "\u001b[32m[1118 16:00:06 @saver.py:79]\u001b[0m Model saved to ../output/Chicago/TEST/model\\model-22057.\n",
      "\u001b[32m[1118 16:00:06 @monitor.py:467]\u001b[0m GAN_loss/d_loss: -0.029191\n",
      "\u001b[32m[1118 16:00:06 @monitor.py:467]\u001b[0m GAN_loss/g_loss: -0.1337\n",
      "\u001b[32m[1118 16:00:06 @monitor.py:467]\u001b[0m GAN_loss/kl_div: 0.048998\n",
      "\u001b[32m[1118 16:00:06 @monitor.py:467]\u001b[0m QueueInput/queue_size: 50\n",
      "\u001b[32m[1118 16:00:06 @base.py:275]\u001b[0m Start Epoch 866 ...\n"
     ]
    },
    {
     "name": "stderr",
     "output_type": "stream",
     "text": [
      "\n",
      "100%|#####################################################################################|17/17[00:00<00:00,38.21it/s]"
     ]
    },
    {
     "name": "stdout",
     "output_type": "stream",
     "text": [
      "\u001b[32m[1118 16:00:07 @base.py:285]\u001b[0m Epoch 866 (global_step 22082) finished, time:0.445 second.\n",
      "\u001b[32m[1118 16:00:07 @saver.py:79]\u001b[0m Model saved to ../output/Chicago/TEST/model\\model-22082.\n",
      "\u001b[32m[1118 16:00:07 @monitor.py:467]\u001b[0m GAN_loss/d_loss: -0.028228\n",
      "\u001b[32m[1118 16:00:07 @monitor.py:467]\u001b[0m GAN_loss/g_loss: -0.13425\n",
      "\u001b[32m[1118 16:00:07 @monitor.py:467]\u001b[0m GAN_loss/kl_div: 0.050093\n",
      "\u001b[32m[1118 16:00:07 @monitor.py:467]\u001b[0m QueueInput/queue_size: 50\n",
      "\u001b[32m[1118 16:00:07 @base.py:275]\u001b[0m Start Epoch 867 ...\n"
     ]
    },
    {
     "name": "stderr",
     "output_type": "stream",
     "text": [
      "\n",
      "100%|#####################################################################################|17/17[00:00<00:00,37.01it/s]"
     ]
    },
    {
     "name": "stdout",
     "output_type": "stream",
     "text": [
      "\u001b[32m[1118 16:00:07 @base.py:285]\u001b[0m Epoch 867 (global_step 22108) finished, time:0.46 second.\n",
      "\u001b[32m[1118 16:00:07 @saver.py:79]\u001b[0m Model saved to ../output/Chicago/TEST/model\\model-22108.\n",
      "\u001b[32m[1118 16:00:07 @monitor.py:467]\u001b[0m GAN_loss/d_loss: -0.028894\n",
      "\u001b[32m[1118 16:00:07 @monitor.py:467]\u001b[0m GAN_loss/g_loss: -0.13378\n",
      "\u001b[32m[1118 16:00:07 @monitor.py:467]\u001b[0m GAN_loss/kl_div: 0.050136\n",
      "\u001b[32m[1118 16:00:07 @monitor.py:467]\u001b[0m QueueInput/queue_size: 50\n",
      "\u001b[32m[1118 16:00:07 @base.py:275]\u001b[0m Start Epoch 868 ...\n"
     ]
    },
    {
     "name": "stderr",
     "output_type": "stream",
     "text": [
      "\n",
      "100%|#####################################################################################|17/17[00:00<00:00,38.30it/s]"
     ]
    },
    {
     "name": "stdout",
     "output_type": "stream",
     "text": [
      "\u001b[32m[1118 16:00:08 @base.py:285]\u001b[0m Epoch 868 (global_step 22133) finished, time:0.445 second.\n",
      "\u001b[32m[1118 16:00:08 @saver.py:79]\u001b[0m Model saved to ../output/Chicago/TEST/model\\model-22133.\n",
      "\u001b[32m[1118 16:00:08 @monitor.py:467]\u001b[0m GAN_loss/d_loss: -0.028311\n",
      "\u001b[32m[1118 16:00:08 @monitor.py:467]\u001b[0m GAN_loss/g_loss: -0.13343\n",
      "\u001b[32m[1118 16:00:08 @monitor.py:467]\u001b[0m GAN_loss/kl_div: 0.052396\n",
      "\u001b[32m[1118 16:00:08 @monitor.py:467]\u001b[0m QueueInput/queue_size: 50\n",
      "\u001b[32m[1118 16:00:08 @base.py:275]\u001b[0m Start Epoch 869 ...\n"
     ]
    },
    {
     "name": "stderr",
     "output_type": "stream",
     "text": [
      "\n",
      "100%|#####################################################################################|17/17[00:00<00:00,36.77it/s]"
     ]
    },
    {
     "name": "stdout",
     "output_type": "stream",
     "text": [
      "\u001b[32m[1118 16:00:08 @base.py:285]\u001b[0m Epoch 869 (global_step 22159) finished, time:0.463 second.\n",
      "\u001b[32m[1118 16:00:09 @saver.py:79]\u001b[0m Model saved to ../output/Chicago/TEST/model\\model-22159.\n",
      "\u001b[32m[1118 16:00:09 @monitor.py:467]\u001b[0m GAN_loss/d_loss: -0.028803\n",
      "\u001b[32m[1118 16:00:09 @monitor.py:467]\u001b[0m GAN_loss/g_loss: -0.13314\n",
      "\u001b[32m[1118 16:00:09 @monitor.py:467]\u001b[0m GAN_loss/kl_div: 0.051534\n",
      "\u001b[32m[1118 16:00:09 @monitor.py:467]\u001b[0m QueueInput/queue_size: 50\n",
      "\u001b[32m[1118 16:00:09 @base.py:275]\u001b[0m Start Epoch 870 ...\n"
     ]
    },
    {
     "name": "stderr",
     "output_type": "stream",
     "text": [
      "\n",
      "100%|#####################################################################################|17/17[00:00<00:00,38.21it/s]"
     ]
    },
    {
     "name": "stdout",
     "output_type": "stream",
     "text": [
      "\u001b[32m[1118 16:00:09 @base.py:285]\u001b[0m Epoch 870 (global_step 22184) finished, time:0.445 second.\n",
      "\u001b[32m[1118 16:00:09 @saver.py:79]\u001b[0m Model saved to ../output/Chicago/TEST/model\\model-22184.\n",
      "\u001b[32m[1118 16:00:09 @monitor.py:467]\u001b[0m GAN_loss/d_loss: -0.027749\n",
      "\u001b[32m[1118 16:00:09 @monitor.py:467]\u001b[0m GAN_loss/g_loss: -0.13431\n",
      "\u001b[32m[1118 16:00:09 @monitor.py:467]\u001b[0m GAN_loss/kl_div: 0.048597\n",
      "\u001b[32m[1118 16:00:09 @monitor.py:467]\u001b[0m QueueInput/queue_size: 50\n",
      "\u001b[32m[1118 16:00:09 @base.py:275]\u001b[0m Start Epoch 871 ...\n"
     ]
    },
    {
     "name": "stderr",
     "output_type": "stream",
     "text": [
      "\n",
      "100%|#####################################################################################|17/17[00:00<00:00,37.01it/s]"
     ]
    },
    {
     "name": "stdout",
     "output_type": "stream",
     "text": [
      "\u001b[32m[1118 16:00:10 @base.py:285]\u001b[0m Epoch 871 (global_step 22210) finished, time:0.46 second.\n",
      "\u001b[32m[1118 16:00:10 @saver.py:79]\u001b[0m Model saved to ../output/Chicago/TEST/model\\model-22210.\n",
      "\u001b[32m[1118 16:00:10 @monitor.py:467]\u001b[0m GAN_loss/d_loss: -0.029156\n",
      "\u001b[32m[1118 16:00:10 @monitor.py:467]\u001b[0m GAN_loss/g_loss: -0.1339\n",
      "\u001b[32m[1118 16:00:10 @monitor.py:467]\u001b[0m GAN_loss/kl_div: 0.049827\n"
     ]
    },
    {
     "name": "stderr",
     "output_type": "stream",
     "text": [
      "\n"
     ]
    },
    {
     "name": "stdout",
     "output_type": "stream",
     "text": [
      "\u001b[32m[1118 16:00:10 @monitor.py:467]\u001b[0m QueueInput/queue_size: 50\n",
      "\u001b[32m[1118 16:00:10 @base.py:275]\u001b[0m Start Epoch 872 ...\n"
     ]
    },
    {
     "name": "stderr",
     "output_type": "stream",
     "text": [
      "100%|#####################################################################################|17/17[00:00<00:00,38.21it/s]"
     ]
    },
    {
     "name": "stdout",
     "output_type": "stream",
     "text": [
      "\u001b[32m[1118 16:00:10 @base.py:285]\u001b[0m Epoch 872 (global_step 22235) finished, time:0.446 second.\n",
      "\u001b[32m[1118 16:00:10 @saver.py:79]\u001b[0m Model saved to ../output/Chicago/TEST/model\\model-22235.\n",
      "\u001b[32m[1118 16:00:10 @monitor.py:467]\u001b[0m GAN_loss/d_loss: -0.02879\n",
      "\u001b[32m[1118 16:00:10 @monitor.py:467]\u001b[0m GAN_loss/g_loss: -0.13441\n",
      "\u001b[32m[1118 16:00:10 @monitor.py:467]\u001b[0m GAN_loss/kl_div: 0.049872\n",
      "\u001b[32m[1118 16:00:10 @monitor.py:467]\u001b[0m QueueInput/queue_size: 50\n",
      "\u001b[32m[1118 16:00:10 @base.py:275]\u001b[0m Start Epoch 873 ...\n"
     ]
    },
    {
     "name": "stderr",
     "output_type": "stream",
     "text": [
      "\n",
      "100%|#####################################################################################|17/17[00:00<00:00,36.85it/s]"
     ]
    },
    {
     "name": "stdout",
     "output_type": "stream",
     "text": [
      "\u001b[32m[1118 16:00:11 @base.py:285]\u001b[0m Epoch 873 (global_step 22261) finished, time:0.462 second.\n",
      "\u001b[32m[1118 16:00:11 @saver.py:79]\u001b[0m Model saved to ../output/Chicago/TEST/model\\model-22261.\n",
      "\u001b[32m[1118 16:00:11 @monitor.py:467]\u001b[0m GAN_loss/d_loss: -0.029558\n",
      "\u001b[32m[1118 16:00:11 @monitor.py:467]\u001b[0m GAN_loss/g_loss: -0.133\n",
      "\u001b[32m[1118 16:00:11 @monitor.py:467]\u001b[0m GAN_loss/kl_div: 0.049833\n",
      "\u001b[32m[1118 16:00:11 @monitor.py:467]\u001b[0m QueueInput/queue_size: 50\n",
      "\u001b[32m[1118 16:00:11 @base.py:275]\u001b[0m Start Epoch 874 ...\n"
     ]
    },
    {
     "name": "stderr",
     "output_type": "stream",
     "text": [
      "\n",
      "100%|#####################################################################################|17/17[00:00<00:00,38.00it/s]"
     ]
    },
    {
     "name": "stdout",
     "output_type": "stream",
     "text": [
      "\u001b[32m[1118 16:00:12 @base.py:285]\u001b[0m Epoch 874 (global_step 22286) finished, time:0.448 second.\n",
      "\u001b[32m[1118 16:00:12 @saver.py:79]\u001b[0m Model saved to ../output/Chicago/TEST/model\\model-22286.\n",
      "\u001b[32m[1118 16:00:12 @monitor.py:467]\u001b[0m GAN_loss/d_loss: -0.028561\n",
      "\u001b[32m[1118 16:00:12 @monitor.py:467]\u001b[0m GAN_loss/g_loss: -0.13373\n",
      "\u001b[32m[1118 16:00:12 @monitor.py:467]\u001b[0m GAN_loss/kl_div: 0.049724\n",
      "\u001b[32m[1118 16:00:12 @monitor.py:467]\u001b[0m QueueInput/queue_size: 50\n",
      "\u001b[32m[1118 16:00:12 @base.py:275]\u001b[0m Start Epoch 875 ...\n"
     ]
    },
    {
     "name": "stderr",
     "output_type": "stream",
     "text": [
      "\n",
      "100%|#####################################################################################|17/17[00:00<00:00,36.97it/s]"
     ]
    },
    {
     "name": "stdout",
     "output_type": "stream",
     "text": [
      "\u001b[32m[1118 16:00:12 @base.py:285]\u001b[0m Epoch 875 (global_step 22312) finished, time:0.46 second.\n",
      "\u001b[32m[1118 16:00:12 @saver.py:79]\u001b[0m Model saved to ../output/Chicago/TEST/model\\model-22312.\n",
      "\u001b[32m[1118 16:00:12 @monitor.py:467]\u001b[0m GAN_loss/d_loss: -0.029241\n"
     ]
    },
    {
     "name": "stderr",
     "output_type": "stream",
     "text": [
      "\n"
     ]
    },
    {
     "name": "stdout",
     "output_type": "stream",
     "text": [
      "\u001b[32m[1118 16:00:12 @monitor.py:467]\u001b[0m GAN_loss/g_loss: -0.13301\n",
      "\u001b[32m[1118 16:00:12 @monitor.py:467]\u001b[0m GAN_loss/kl_div: 0.048051\n",
      "\u001b[32m[1118 16:00:12 @monitor.py:467]\u001b[0m QueueInput/queue_size: 50\n",
      "\u001b[32m[1118 16:00:12 @base.py:275]\u001b[0m Start Epoch 876 ...\n"
     ]
    },
    {
     "name": "stderr",
     "output_type": "stream",
     "text": [
      "100%|#####################################################################################|17/17[00:00<00:00,38.30it/s]"
     ]
    },
    {
     "name": "stdout",
     "output_type": "stream",
     "text": [
      "\u001b[32m[1118 16:00:13 @base.py:285]\u001b[0m Epoch 876 (global_step 22337) finished, time:0.444 second.\n",
      "\u001b[32m[1118 16:00:13 @saver.py:79]\u001b[0m Model saved to ../output/Chicago/TEST/model\\model-22337.\n",
      "\u001b[32m[1118 16:00:13 @monitor.py:467]\u001b[0m GAN_loss/d_loss: -0.029792\n",
      "\u001b[32m[1118 16:00:13 @monitor.py:467]\u001b[0m GAN_loss/g_loss: -0.133\n",
      "\u001b[32m[1118 16:00:13 @monitor.py:467]\u001b[0m GAN_loss/kl_div: 0.045528\n",
      "\u001b[32m[1118 16:00:13 @monitor.py:467]\u001b[0m QueueInput/queue_size: 50\n",
      "\u001b[32m[1118 16:00:13 @base.py:275]\u001b[0m Start Epoch 877 ...\n"
     ]
    },
    {
     "name": "stderr",
     "output_type": "stream",
     "text": [
      "\n",
      "100%|#####################################################################################|17/17[00:00<00:00,37.01it/s]"
     ]
    },
    {
     "name": "stdout",
     "output_type": "stream",
     "text": [
      "\u001b[32m[1118 16:00:13 @base.py:285]\u001b[0m Epoch 877 (global_step 22363) finished, time:0.46 second.\n",
      "\u001b[32m[1118 16:00:14 @saver.py:79]\u001b[0m Model saved to ../output/Chicago/TEST/model\\model-22363.\n",
      "\u001b[32m[1118 16:00:14 @monitor.py:467]\u001b[0m GAN_loss/d_loss: -0.028813\n",
      "\u001b[32m[1118 16:00:14 @monitor.py:467]\u001b[0m GAN_loss/g_loss: -0.13371\n",
      "\u001b[32m[1118 16:00:14 @monitor.py:467]\u001b[0m GAN_loss/kl_div: 0.047924\n",
      "\u001b[32m[1118 16:00:14 @monitor.py:467]\u001b[0m QueueInput/queue_size: 50\n",
      "\u001b[32m[1118 16:00:14 @base.py:275]\u001b[0m Start Epoch 878 ...\n"
     ]
    },
    {
     "name": "stderr",
     "output_type": "stream",
     "text": [
      "\n",
      "100%|#####################################################################################|17/17[00:00<00:00,38.34it/s]"
     ]
    },
    {
     "name": "stdout",
     "output_type": "stream",
     "text": [
      "\u001b[32m[1118 16:00:14 @base.py:285]\u001b[0m Epoch 878 (global_step 22388) finished, time:0.444 second.\n",
      "\u001b[32m[1118 16:00:14 @saver.py:79]\u001b[0m Model saved to ../output/Chicago/TEST/model\\model-22388.\n",
      "\u001b[32m[1118 16:00:14 @monitor.py:467]\u001b[0m GAN_loss/d_loss: -0.028887\n",
      "\u001b[32m[1118 16:00:14 @monitor.py:467]\u001b[0m GAN_loss/g_loss: -0.13421\n",
      "\u001b[32m[1118 16:00:14 @monitor.py:467]\u001b[0m GAN_loss/kl_div: 0.047752\n",
      "\u001b[32m[1118 16:00:14 @monitor.py:467]\u001b[0m QueueInput/queue_size: 50\n",
      "\u001b[32m[1118 16:00:14 @base.py:275]\u001b[0m Start Epoch 879 ...\n"
     ]
    },
    {
     "name": "stderr",
     "output_type": "stream",
     "text": [
      "\n",
      "100%|#####################################################################################|17/17[00:00<00:00,36.93it/s]"
     ]
    },
    {
     "name": "stdout",
     "output_type": "stream",
     "text": [
      "\u001b[32m[1118 16:00:15 @base.py:285]\u001b[0m Epoch 879 (global_step 22414) finished, time:0.461 second.\n",
      "\u001b[32m[1118 16:00:15 @saver.py:79]\u001b[0m Model saved to ../output/Chicago/TEST/model\\model-22414.\n",
      "\u001b[32m[1118 16:00:15 @monitor.py:467]\u001b[0m GAN_loss/d_loss: -0.028025\n",
      "\u001b[32m[1118 16:00:15 @monitor.py:467]\u001b[0m GAN_loss/g_loss: -0.13489\n",
      "\u001b[32m[1118 16:00:15 @monitor.py:467]\u001b[0m GAN_loss/kl_div: 0.051377\n",
      "\u001b[32m[1118 16:00:15 @monitor.py:467]\u001b[0m QueueInput/queue_size: 50\n",
      "\u001b[32m[1118 16:00:15 @base.py:275]\u001b[0m Start Epoch 880 ...\n"
     ]
    },
    {
     "name": "stderr",
     "output_type": "stream",
     "text": [
      "\n",
      "100%|#####################################################################################|17/17[00:00<00:00,38.00it/s]"
     ]
    },
    {
     "name": "stdout",
     "output_type": "stream",
     "text": [
      "\u001b[32m[1118 16:00:15 @base.py:285]\u001b[0m Epoch 880 (global_step 22439) finished, time:0.448 second.\n",
      "\u001b[32m[1118 16:00:15 @saver.py:79]\u001b[0m Model saved to ../output/Chicago/TEST/model\\model-22439.\n",
      "\u001b[32m[1118 16:00:15 @monitor.py:467]\u001b[0m GAN_loss/d_loss: -0.02781\n",
      "\u001b[32m[1118 16:00:15 @monitor.py:467]\u001b[0m GAN_loss/g_loss: -0.13484\n",
      "\u001b[32m[1118 16:00:15 @monitor.py:467]\u001b[0m GAN_loss/kl_div: 0.051513\n",
      "\u001b[32m[1118 16:00:15 @monitor.py:467]\u001b[0m QueueInput/queue_size: 50\n",
      "\u001b[32m[1118 16:00:15 @base.py:275]\u001b[0m Start Epoch 881 ...\n"
     ]
    },
    {
     "name": "stderr",
     "output_type": "stream",
     "text": [
      "\n",
      "100%|#####################################################################################|17/17[00:00<00:00,36.85it/s]"
     ]
    },
    {
     "name": "stdout",
     "output_type": "stream",
     "text": [
      "\u001b[32m[1118 16:00:16 @base.py:285]\u001b[0m Epoch 881 (global_step 22465) finished, time:0.462 second.\n",
      "\u001b[32m[1118 16:00:16 @saver.py:79]\u001b[0m Model saved to ../output/Chicago/TEST/model\\model-22465.\n",
      "\u001b[32m[1118 16:00:16 @monitor.py:467]\u001b[0m GAN_loss/d_loss: -0.028655\n",
      "\u001b[32m[1118 16:00:16 @monitor.py:467]\u001b[0m GAN_loss/g_loss: -0.13428\n",
      "\u001b[32m[1118 16:00:16 @monitor.py:467]\u001b[0m GAN_loss/kl_div: 0.049448\n",
      "\u001b[32m[1118 16:00:16 @monitor.py:467]\u001b[0m QueueInput/queue_size: 50\n",
      "\u001b[32m[1118 16:00:16 @base.py:275]\u001b[0m Start Epoch 882 ...\n"
     ]
    },
    {
     "name": "stderr",
     "output_type": "stream",
     "text": [
      "\n",
      "100%|#####################################################################################|17/17[00:00<00:00,37.62it/s]"
     ]
    },
    {
     "name": "stdout",
     "output_type": "stream",
     "text": [
      "\u001b[32m[1118 16:00:17 @base.py:285]\u001b[0m Epoch 882 (global_step 22490) finished, time:0.452 second.\n",
      "\u001b[32m[1118 16:00:17 @saver.py:79]\u001b[0m Model saved to ../output/Chicago/TEST/model\\model-22490.\n",
      "\u001b[32m[1118 16:00:17 @monitor.py:467]\u001b[0m GAN_loss/d_loss: -0.028653\n",
      "\u001b[32m[1118 16:00:17 @monitor.py:467]\u001b[0m GAN_loss/g_loss: -0.1334\n",
      "\u001b[32m[1118 16:00:17 @monitor.py:467]\u001b[0m GAN_loss/kl_div: 0.050211\n",
      "\u001b[32m[1118 16:00:17 @monitor.py:467]\u001b[0m QueueInput/queue_size: 50\n",
      "\u001b[32m[1118 16:00:17 @base.py:275]\u001b[0m Start Epoch 883 ...\n"
     ]
    },
    {
     "name": "stderr",
     "output_type": "stream",
     "text": [
      "\n",
      "100%|#####################################################################################|17/17[00:00<00:00,36.77it/s]"
     ]
    },
    {
     "name": "stdout",
     "output_type": "stream",
     "text": [
      "\u001b[32m[1118 16:00:17 @base.py:285]\u001b[0m Epoch 883 (global_step 22516) finished, time:0.463 second.\n",
      "\u001b[32m[1118 16:00:17 @saver.py:79]\u001b[0m Model saved to ../output/Chicago/TEST/model\\model-22516.\n",
      "\u001b[32m[1118 16:00:17 @monitor.py:467]\u001b[0m GAN_loss/d_loss: -0.028174\n"
     ]
    },
    {
     "name": "stderr",
     "output_type": "stream",
     "text": [
      "\n"
     ]
    },
    {
     "name": "stdout",
     "output_type": "stream",
     "text": [
      "\u001b[32m[1118 16:00:17 @monitor.py:467]\u001b[0m GAN_loss/g_loss: -0.13353\n",
      "\u001b[32m[1118 16:00:17 @monitor.py:467]\u001b[0m GAN_loss/kl_div: 0.046267\n",
      "\u001b[32m[1118 16:00:17 @monitor.py:467]\u001b[0m QueueInput/queue_size: 50\n",
      "\u001b[32m[1118 16:00:17 @base.py:275]\u001b[0m Start Epoch 884 ...\n"
     ]
    },
    {
     "name": "stderr",
     "output_type": "stream",
     "text": [
      "100%|#####################################################################################|17/17[00:00<00:00,38.38it/s]"
     ]
    },
    {
     "name": "stdout",
     "output_type": "stream",
     "text": [
      "\u001b[32m[1118 16:00:18 @base.py:285]\u001b[0m Epoch 884 (global_step 22541) finished, time:0.443 second.\n",
      "\u001b[32m[1118 16:00:18 @saver.py:79]\u001b[0m Model saved to ../output/Chicago/TEST/model\\model-22541.\n",
      "\u001b[32m[1118 16:00:18 @monitor.py:467]\u001b[0m GAN_loss/d_loss: -0.028307\n",
      "\u001b[32m[1118 16:00:18 @monitor.py:467]\u001b[0m GAN_loss/g_loss: -0.13425\n",
      "\u001b[32m[1118 16:00:18 @monitor.py:467]\u001b[0m GAN_loss/kl_div: 0.049361\n",
      "\u001b[32m[1118 16:00:18 @monitor.py:467]\u001b[0m QueueInput/queue_size: 50\n",
      "\u001b[32m[1118 16:00:18 @base.py:275]\u001b[0m Start Epoch 885 ...\n"
     ]
    },
    {
     "name": "stderr",
     "output_type": "stream",
     "text": [
      "\n",
      "100%|#####################################################################################|17/17[00:00<00:00,37.09it/s]"
     ]
    },
    {
     "name": "stdout",
     "output_type": "stream",
     "text": [
      "\u001b[32m[1118 16:00:18 @base.py:285]\u001b[0m Epoch 885 (global_step 22567) finished, time:0.459 second.\n",
      "\u001b[32m[1118 16:00:19 @saver.py:79]\u001b[0m Model saved to ../output/Chicago/TEST/model\\model-22567.\n",
      "\u001b[32m[1118 16:00:19 @monitor.py:467]\u001b[0m GAN_loss/d_loss: -0.027543\n",
      "\u001b[32m[1118 16:00:19 @monitor.py:467]\u001b[0m GAN_loss/g_loss: -0.1342\n",
      "\u001b[32m[1118 16:00:19 @monitor.py:467]\u001b[0m GAN_loss/kl_div: 0.049858\n",
      "\u001b[32m[1118 16:00:19 @monitor.py:467]\u001b[0m QueueInput/queue_size: 50\n",
      "\u001b[32m[1118 16:00:19 @base.py:275]\u001b[0m Start Epoch 886 ...\n"
     ]
    },
    {
     "name": "stderr",
     "output_type": "stream",
     "text": [
      "\n",
      "100%|#####################################################################################|17/17[00:00<00:00,38.17it/s]"
     ]
    },
    {
     "name": "stdout",
     "output_type": "stream",
     "text": [
      "\u001b[32m[1118 16:00:19 @base.py:285]\u001b[0m Epoch 886 (global_step 22592) finished, time:0.446 second.\n",
      "\u001b[32m[1118 16:00:19 @saver.py:79]\u001b[0m Model saved to ../output/Chicago/TEST/model\\model-22592.\n",
      "\u001b[32m[1118 16:00:19 @monitor.py:467]\u001b[0m GAN_loss/d_loss: -0.028085\n",
      "\u001b[32m[1118 16:00:19 @monitor.py:467]\u001b[0m GAN_loss/g_loss: -0.13419\n",
      "\u001b[32m[1118 16:00:19 @monitor.py:467]\u001b[0m GAN_loss/kl_div: 0.054617\n",
      "\u001b[32m[1118 16:00:19 @monitor.py:467]\u001b[0m QueueInput/queue_size: 50\n",
      "\u001b[32m[1118 16:00:19 @base.py:275]\u001b[0m Start Epoch 887 ...\n"
     ]
    },
    {
     "name": "stderr",
     "output_type": "stream",
     "text": [
      "\n",
      "100%|#####################################################################################|17/17[00:00<00:00,37.09it/s]"
     ]
    },
    {
     "name": "stdout",
     "output_type": "stream",
     "text": [
      "\u001b[32m[1118 16:00:20 @base.py:285]\u001b[0m Epoch 887 (global_step 22618) finished, time:0.459 second.\n",
      "\u001b[32m[1118 16:00:20 @saver.py:79]\u001b[0m Model saved to ../output/Chicago/TEST/model\\model-22618.\n",
      "\u001b[32m[1118 16:00:20 @monitor.py:467]\u001b[0m GAN_loss/d_loss: -0.028184\n",
      "\u001b[32m[1118 16:00:20 @monitor.py:467]\u001b[0m GAN_loss/g_loss: -0.13502\n",
      "\u001b[32m[1118 16:00:20 @monitor.py:467]\u001b[0m GAN_loss/kl_div: 0.054637\n",
      "\u001b[32m[1118 16:00:20 @monitor.py:467]\u001b[0m QueueInput/queue_size: 50\n",
      "\u001b[32m[1118 16:00:20 @base.py:275]\u001b[0m Start Epoch 888 ...\n"
     ]
    },
    {
     "name": "stderr",
     "output_type": "stream",
     "text": [
      "\n",
      "100%|#####################################################################################|17/17[00:00<00:00,38.25it/s]"
     ]
    },
    {
     "name": "stdout",
     "output_type": "stream",
     "text": [
      "\u001b[32m[1118 16:00:20 @base.py:285]\u001b[0m Epoch 888 (global_step 22643) finished, time:0.445 second.\n",
      "\u001b[32m[1118 16:00:20 @saver.py:79]\u001b[0m Model saved to ../output/Chicago/TEST/model\\model-22643.\n",
      "\u001b[32m[1118 16:00:20 @monitor.py:467]\u001b[0m GAN_loss/d_loss: -0.028781\n",
      "\u001b[32m[1118 16:00:20 @monitor.py:467]\u001b[0m GAN_loss/g_loss: -0.13525\n",
      "\u001b[32m[1118 16:00:20 @monitor.py:467]\u001b[0m GAN_loss/kl_div: 0.05258\n",
      "\u001b[32m[1118 16:00:20 @monitor.py:467]\u001b[0m QueueInput/queue_size: 50\n",
      "\u001b[32m[1118 16:00:20 @base.py:275]\u001b[0m Start Epoch 889 ...\n"
     ]
    },
    {
     "name": "stderr",
     "output_type": "stream",
     "text": [
      "\n",
      "100%|#####################################################################################|17/17[00:00<00:00,37.01it/s]"
     ]
    },
    {
     "name": "stdout",
     "output_type": "stream",
     "text": [
      "\u001b[32m[1118 16:00:21 @base.py:285]\u001b[0m Epoch 889 (global_step 22669) finished, time:0.46 second.\n",
      "\u001b[32m[1118 16:00:21 @saver.py:79]\u001b[0m Model saved to ../output/Chicago/TEST/model\\model-22669.\n"
     ]
    },
    {
     "name": "stderr",
     "output_type": "stream",
     "text": [
      "\n"
     ]
    },
    {
     "name": "stdout",
     "output_type": "stream",
     "text": [
      "\u001b[32m[1118 16:00:21 @monitor.py:467]\u001b[0m GAN_loss/d_loss: -0.028709\n",
      "\u001b[32m[1118 16:00:21 @monitor.py:467]\u001b[0m GAN_loss/g_loss: -0.13478\n",
      "\u001b[32m[1118 16:00:21 @monitor.py:467]\u001b[0m GAN_loss/kl_div: 0.051074\n",
      "\u001b[32m[1118 16:00:21 @monitor.py:467]\u001b[0m QueueInput/queue_size: 50\n",
      "\u001b[32m[1118 16:00:21 @base.py:275]\u001b[0m Start Epoch 890 ...\n"
     ]
    },
    {
     "name": "stderr",
     "output_type": "stream",
     "text": [
      "100%|#####################################################################################|17/17[00:00<00:00,38.17it/s]"
     ]
    },
    {
     "name": "stdout",
     "output_type": "stream",
     "text": [
      "\u001b[32m[1118 16:00:22 @base.py:285]\u001b[0m Epoch 890 (global_step 22694) finished, time:0.446 second.\n",
      "\u001b[32m[1118 16:00:22 @saver.py:79]\u001b[0m Model saved to ../output/Chicago/TEST/model\\model-22694.\n",
      "\u001b[32m[1118 16:00:22 @monitor.py:467]\u001b[0m GAN_loss/d_loss: -0.028625\n",
      "\u001b[32m[1118 16:00:22 @monitor.py:467]\u001b[0m GAN_loss/g_loss: -0.13516\n",
      "\u001b[32m[1118 16:00:22 @monitor.py:467]\u001b[0m GAN_loss/kl_div: 0.048709\n",
      "\u001b[32m[1118 16:00:22 @monitor.py:467]\u001b[0m QueueInput/queue_size: 50\n",
      "\u001b[32m[1118 16:00:22 @base.py:275]\u001b[0m Start Epoch 891 ...\n"
     ]
    },
    {
     "name": "stderr",
     "output_type": "stream",
     "text": [
      "\n",
      "100%|#####################################################################################|17/17[00:00<00:00,36.97it/s]"
     ]
    },
    {
     "name": "stdout",
     "output_type": "stream",
     "text": [
      "\u001b[32m[1118 16:00:22 @base.py:285]\u001b[0m Epoch 891 (global_step 22720) finished, time:0.46 second.\n",
      "\u001b[32m[1118 16:00:22 @saver.py:79]\u001b[0m Model saved to ../output/Chicago/TEST/model\\model-22720.\n",
      "\u001b[32m[1118 16:00:22 @monitor.py:467]\u001b[0m GAN_loss/d_loss: -0.0278\n",
      "\u001b[32m[1118 16:00:22 @monitor.py:467]\u001b[0m GAN_loss/g_loss: -0.1366\n",
      "\u001b[32m[1118 16:00:22 @monitor.py:467]\u001b[0m GAN_loss/kl_div: 0.046763\n",
      "\u001b[32m[1118 16:00:22 @monitor.py:467]\u001b[0m QueueInput/queue_size: 50\n",
      "\u001b[32m[1118 16:00:22 @base.py:275]\u001b[0m Start Epoch 892 ...\n"
     ]
    },
    {
     "name": "stderr",
     "output_type": "stream",
     "text": [
      "\n",
      "100%|#####################################################################################|17/17[00:00<00:00,38.42it/s]"
     ]
    },
    {
     "name": "stdout",
     "output_type": "stream",
     "text": [
      "\u001b[32m[1118 16:00:23 @base.py:285]\u001b[0m Epoch 892 (global_step 22745) finished, time:0.443 second.\n",
      "\u001b[32m[1118 16:00:23 @saver.py:79]\u001b[0m Model saved to ../output/Chicago/TEST/model\\model-22745.\n",
      "\u001b[32m[1118 16:00:23 @monitor.py:467]\u001b[0m GAN_loss/d_loss: -0.027361\n",
      "\u001b[32m[1118 16:00:23 @monitor.py:467]\u001b[0m GAN_loss/g_loss: -0.13552\n",
      "\u001b[32m[1118 16:00:23 @monitor.py:467]\u001b[0m GAN_loss/kl_div: 0.046023\n",
      "\u001b[32m[1118 16:00:23 @monitor.py:467]\u001b[0m QueueInput/queue_size: 50\n",
      "\u001b[32m[1118 16:00:23 @base.py:275]\u001b[0m Start Epoch 893 ...\n"
     ]
    },
    {
     "name": "stderr",
     "output_type": "stream",
     "text": [
      "\n",
      "100%|#####################################################################################|17/17[00:00<00:00,36.89it/s]"
     ]
    },
    {
     "name": "stdout",
     "output_type": "stream",
     "text": [
      "\u001b[32m[1118 16:00:23 @base.py:285]\u001b[0m Epoch 893 (global_step 22771) finished, time:0.461 second.\n",
      "\u001b[32m[1118 16:00:24 @saver.py:79]\u001b[0m Model saved to ../output/Chicago/TEST/model\\model-22771.\n",
      "\u001b[32m[1118 16:00:24 @monitor.py:467]\u001b[0m GAN_loss/d_loss: -0.02678\n",
      "\u001b[32m[1118 16:00:24 @monitor.py:467]\u001b[0m GAN_loss/g_loss: -0.13665\n",
      "\u001b[32m[1118 16:00:24 @monitor.py:467]\u001b[0m GAN_loss/kl_div: 0.051306\n",
      "\u001b[32m[1118 16:00:24 @monitor.py:467]\u001b[0m QueueInput/queue_size: 50\n",
      "\u001b[32m[1118 16:00:24 @base.py:275]\u001b[0m Start Epoch 894 ...\n"
     ]
    },
    {
     "name": "stderr",
     "output_type": "stream",
     "text": [
      "\n",
      "100%|#####################################################################################|17/17[00:00<00:00,38.17it/s]"
     ]
    },
    {
     "name": "stdout",
     "output_type": "stream",
     "text": [
      "\u001b[32m[1118 16:00:24 @base.py:285]\u001b[0m Epoch 894 (global_step 22796) finished, time:0.446 second.\n",
      "\u001b[32m[1118 16:00:24 @saver.py:79]\u001b[0m Model saved to ../output/Chicago/TEST/model\\model-22796.\n",
      "\u001b[32m[1118 16:00:24 @monitor.py:467]\u001b[0m GAN_loss/d_loss: -0.028372\n"
     ]
    },
    {
     "name": "stderr",
     "output_type": "stream",
     "text": [
      "\n"
     ]
    },
    {
     "name": "stdout",
     "output_type": "stream",
     "text": [
      "\u001b[32m[1118 16:00:24 @monitor.py:467]\u001b[0m GAN_loss/g_loss: -0.13617\n",
      "\u001b[32m[1118 16:00:24 @monitor.py:467]\u001b[0m GAN_loss/kl_div: 0.051686\n",
      "\u001b[32m[1118 16:00:24 @monitor.py:467]\u001b[0m QueueInput/queue_size: 50\n",
      "\u001b[32m[1118 16:00:24 @base.py:275]\u001b[0m Start Epoch 895 ...\n"
     ]
    },
    {
     "name": "stderr",
     "output_type": "stream",
     "text": [
      "100%|#####################################################################################|17/17[00:00<00:00,37.13it/s]"
     ]
    },
    {
     "name": "stdout",
     "output_type": "stream",
     "text": [
      "\u001b[32m[1118 16:00:25 @base.py:285]\u001b[0m Epoch 895 (global_step 22822) finished, time:0.458 second.\n",
      "\u001b[32m[1118 16:00:25 @saver.py:79]\u001b[0m Model saved to ../output/Chicago/TEST/model\\model-22822.\n",
      "\u001b[32m[1118 16:00:25 @monitor.py:467]\u001b[0m GAN_loss/d_loss: -0.0278\n",
      "\u001b[32m[1118 16:00:25 @monitor.py:467]\u001b[0m GAN_loss/g_loss: -0.13581\n",
      "\u001b[32m[1118 16:00:25 @monitor.py:467]\u001b[0m GAN_loss/kl_div: 0.048536\n",
      "\u001b[32m[1118 16:00:25 @monitor.py:467]\u001b[0m QueueInput/queue_size: 50\n",
      "\u001b[32m[1118 16:00:25 @base.py:275]\u001b[0m Start Epoch 896 ...\n"
     ]
    },
    {
     "name": "stderr",
     "output_type": "stream",
     "text": [
      "\n",
      "100%|#####################################################################################|17/17[00:00<00:00,38.21it/s]"
     ]
    },
    {
     "name": "stdout",
     "output_type": "stream",
     "text": [
      "\u001b[32m[1118 16:00:25 @base.py:285]\u001b[0m Epoch 896 (global_step 22847) finished, time:0.445 second.\n",
      "\u001b[32m[1118 16:00:25 @saver.py:79]\u001b[0m Model saved to ../output/Chicago/TEST/model\\model-22847.\n",
      "\u001b[32m[1118 16:00:26 @monitor.py:467]\u001b[0m GAN_loss/d_loss: -0.028112\n",
      "\u001b[32m[1118 16:00:26 @monitor.py:467]\u001b[0m GAN_loss/g_loss: -0.13627\n",
      "\u001b[32m[1118 16:00:26 @monitor.py:467]\u001b[0m GAN_loss/kl_div: 0.049565\n",
      "\u001b[32m[1118 16:00:26 @monitor.py:467]\u001b[0m QueueInput/queue_size: 50\n",
      "\u001b[32m[1118 16:00:26 @base.py:275]\u001b[0m Start Epoch 897 ...\n"
     ]
    },
    {
     "name": "stderr",
     "output_type": "stream",
     "text": [
      "\n",
      "100%|#####################################################################################|17/17[00:00<00:00,36.89it/s]"
     ]
    },
    {
     "name": "stdout",
     "output_type": "stream",
     "text": [
      "\u001b[32m[1118 16:00:26 @base.py:285]\u001b[0m Epoch 897 (global_step 22873) finished, time:0.461 second.\n",
      "\u001b[32m[1118 16:00:26 @saver.py:79]\u001b[0m Model saved to ../output/Chicago/TEST/model\\model-22873.\n",
      "\u001b[32m[1118 16:00:26 @monitor.py:467]\u001b[0m GAN_loss/d_loss: -0.027761\n",
      "\u001b[32m[1118 16:00:26 @monitor.py:467]\u001b[0m GAN_loss/g_loss: -0.13678\n",
      "\u001b[32m[1118 16:00:26 @monitor.py:467]\u001b[0m GAN_loss/kl_div: 0.050579\n",
      "\u001b[32m[1118 16:00:26 @monitor.py:467]\u001b[0m QueueInput/queue_size: 50\n",
      "\u001b[32m[1118 16:00:26 @base.py:275]\u001b[0m Start Epoch 898 ...\n"
     ]
    },
    {
     "name": "stderr",
     "output_type": "stream",
     "text": [
      "\n",
      "100%|#####################################################################################|17/17[00:00<00:00,38.17it/s]"
     ]
    },
    {
     "name": "stdout",
     "output_type": "stream",
     "text": [
      "\u001b[32m[1118 16:00:27 @base.py:285]\u001b[0m Epoch 898 (global_step 22898) finished, time:0.446 second.\n",
      "\u001b[32m[1118 16:00:27 @saver.py:79]\u001b[0m Model saved to ../output/Chicago/TEST/model\\model-22898.\n",
      "\u001b[32m[1118 16:00:27 @monitor.py:467]\u001b[0m GAN_loss/d_loss: -0.028482\n"
     ]
    },
    {
     "name": "stderr",
     "output_type": "stream",
     "text": [
      "\n"
     ]
    },
    {
     "name": "stdout",
     "output_type": "stream",
     "text": [
      "\u001b[32m[1118 16:00:27 @monitor.py:467]\u001b[0m GAN_loss/g_loss: -0.13574\n",
      "\u001b[32m[1118 16:00:27 @monitor.py:467]\u001b[0m GAN_loss/kl_div: 0.051204\n",
      "\u001b[32m[1118 16:00:27 @monitor.py:467]\u001b[0m QueueInput/queue_size: 50\n",
      "\u001b[32m[1118 16:00:27 @base.py:275]\u001b[0m Start Epoch 899 ...\n"
     ]
    },
    {
     "name": "stderr",
     "output_type": "stream",
     "text": [
      "100%|#####################################################################################|17/17[00:00<00:00,36.66it/s]"
     ]
    },
    {
     "name": "stdout",
     "output_type": "stream",
     "text": [
      "\u001b[32m[1118 16:00:27 @base.py:285]\u001b[0m Epoch 899 (global_step 22924) finished, time:0.464 second.\n",
      "\u001b[32m[1118 16:00:27 @saver.py:79]\u001b[0m Model saved to ../output/Chicago/TEST/model\\model-22924.\n",
      "\u001b[32m[1118 16:00:27 @monitor.py:467]\u001b[0m GAN_loss/d_loss: -0.029151\n"
     ]
    },
    {
     "name": "stderr",
     "output_type": "stream",
     "text": [
      "\n"
     ]
    },
    {
     "name": "stdout",
     "output_type": "stream",
     "text": [
      "\u001b[32m[1118 16:00:27 @monitor.py:467]\u001b[0m GAN_loss/g_loss: -0.13637\n",
      "\u001b[32m[1118 16:00:27 @monitor.py:467]\u001b[0m GAN_loss/kl_div: 0.049674\n",
      "\u001b[32m[1118 16:00:27 @monitor.py:467]\u001b[0m QueueInput/queue_size: 50\n",
      "\u001b[32m[1118 16:00:27 @base.py:275]\u001b[0m Start Epoch 900 ...\n"
     ]
    },
    {
     "name": "stderr",
     "output_type": "stream",
     "text": [
      "100%|#####################################################################################|17/17[00:00<00:00,38.25it/s]"
     ]
    },
    {
     "name": "stdout",
     "output_type": "stream",
     "text": [
      "\u001b[32m[1118 16:00:28 @base.py:285]\u001b[0m Epoch 900 (global_step 22949) finished, time:0.445 second.\n",
      "\u001b[32m[1118 16:00:28 @saver.py:79]\u001b[0m Model saved to ../output/Chicago/TEST/model\\model-22949.\n",
      "\u001b[32m[1118 16:00:28 @monitor.py:467]\u001b[0m GAN_loss/d_loss: -0.0283\n",
      "\u001b[32m[1118 16:00:28 @monitor.py:467]\u001b[0m GAN_loss/g_loss: -0.13659\n",
      "\u001b[32m[1118 16:00:28 @monitor.py:467]\u001b[0m GAN_loss/kl_div: 0.048924\n",
      "\u001b[32m[1118 16:00:28 @monitor.py:467]\u001b[0m QueueInput/queue_size: 50\n",
      "\u001b[32m[1118 16:00:28 @base.py:275]\u001b[0m Start Epoch 901 ...\n"
     ]
    },
    {
     "name": "stderr",
     "output_type": "stream",
     "text": [
      "\n",
      "100%|#####################################################################################|17/17[00:00<00:00,36.97it/s]"
     ]
    },
    {
     "name": "stdout",
     "output_type": "stream",
     "text": [
      "\u001b[32m[1118 16:00:28 @base.py:285]\u001b[0m Epoch 901 (global_step 22975) finished, time:0.46 second.\n",
      "\u001b[32m[1118 16:00:29 @saver.py:79]\u001b[0m Model saved to ../output/Chicago/TEST/model\\model-22975.\n"
     ]
    },
    {
     "name": "stderr",
     "output_type": "stream",
     "text": [
      "\n"
     ]
    },
    {
     "name": "stdout",
     "output_type": "stream",
     "text": [
      "\u001b[32m[1118 16:00:29 @monitor.py:467]\u001b[0m GAN_loss/d_loss: -0.028657\n",
      "\u001b[32m[1118 16:00:29 @monitor.py:467]\u001b[0m GAN_loss/g_loss: -0.13699\n",
      "\u001b[32m[1118 16:00:29 @monitor.py:467]\u001b[0m GAN_loss/kl_div: 0.049022\n",
      "\u001b[32m[1118 16:00:29 @monitor.py:467]\u001b[0m QueueInput/queue_size: 50\n",
      "\u001b[32m[1118 16:00:29 @base.py:275]\u001b[0m Start Epoch 902 ...\n"
     ]
    },
    {
     "name": "stderr",
     "output_type": "stream",
     "text": [
      "100%|#####################################################################################|17/17[00:00<00:00,38.21it/s]"
     ]
    },
    {
     "name": "stdout",
     "output_type": "stream",
     "text": [
      "\u001b[32m[1118 16:00:29 @base.py:285]\u001b[0m Epoch 902 (global_step 23000) finished, time:0.445 second.\n",
      "\u001b[32m[1118 16:00:29 @saver.py:79]\u001b[0m Model saved to ../output/Chicago/TEST/model\\model-23000.\n"
     ]
    },
    {
     "name": "stderr",
     "output_type": "stream",
     "text": [
      "\n"
     ]
    },
    {
     "name": "stdout",
     "output_type": "stream",
     "text": [
      "\u001b[32m[1118 16:00:29 @monitor.py:467]\u001b[0m GAN_loss/d_loss: -0.028058\n",
      "\u001b[32m[1118 16:00:29 @monitor.py:467]\u001b[0m GAN_loss/g_loss: -0.13753\n",
      "\u001b[32m[1118 16:00:29 @monitor.py:467]\u001b[0m GAN_loss/kl_div: 0.050611\n",
      "\u001b[32m[1118 16:00:29 @monitor.py:467]\u001b[0m QueueInput/queue_size: 50\n",
      "\u001b[32m[1118 16:00:29 @base.py:275]\u001b[0m Start Epoch 903 ...\n"
     ]
    },
    {
     "name": "stderr",
     "output_type": "stream",
     "text": [
      "100%|#####################################################################################|17/17[00:00<00:00,36.77it/s]"
     ]
    },
    {
     "name": "stdout",
     "output_type": "stream",
     "text": [
      "\u001b[32m[1118 16:00:30 @base.py:285]\u001b[0m Epoch 903 (global_step 23026) finished, time:0.463 second.\n",
      "\u001b[32m[1118 16:00:30 @saver.py:79]\u001b[0m Model saved to ../output/Chicago/TEST/model\\model-23026.\n"
     ]
    },
    {
     "name": "stderr",
     "output_type": "stream",
     "text": [
      "\n"
     ]
    },
    {
     "name": "stdout",
     "output_type": "stream",
     "text": [
      "\u001b[32m[1118 16:00:30 @monitor.py:467]\u001b[0m GAN_loss/d_loss: -0.027699\n",
      "\u001b[32m[1118 16:00:30 @monitor.py:467]\u001b[0m GAN_loss/g_loss: -0.13641\n",
      "\u001b[32m[1118 16:00:30 @monitor.py:467]\u001b[0m GAN_loss/kl_div: 0.051091\n",
      "\u001b[32m[1118 16:00:30 @monitor.py:467]\u001b[0m QueueInput/queue_size: 50\n",
      "\u001b[32m[1118 16:00:30 @base.py:275]\u001b[0m Start Epoch 904 ...\n"
     ]
    },
    {
     "name": "stderr",
     "output_type": "stream",
     "text": [
      "100%|#####################################################################################|17/17[00:00<00:00,38.25it/s]"
     ]
    },
    {
     "name": "stdout",
     "output_type": "stream",
     "text": [
      "\u001b[32m[1118 16:00:30 @base.py:285]\u001b[0m Epoch 904 (global_step 23051) finished, time:0.444 second.\n",
      "\u001b[32m[1118 16:00:31 @saver.py:79]\u001b[0m Model saved to ../output/Chicago/TEST/model\\model-23051.\n"
     ]
    },
    {
     "name": "stderr",
     "output_type": "stream",
     "text": [
      "\n"
     ]
    },
    {
     "name": "stdout",
     "output_type": "stream",
     "text": [
      "\u001b[32m[1118 16:00:31 @monitor.py:467]\u001b[0m GAN_loss/d_loss: -0.0279\n",
      "\u001b[32m[1118 16:00:31 @monitor.py:467]\u001b[0m GAN_loss/g_loss: -0.13609\n",
      "\u001b[32m[1118 16:00:31 @monitor.py:467]\u001b[0m GAN_loss/kl_div: 0.052776\n",
      "\u001b[32m[1118 16:00:31 @monitor.py:467]\u001b[0m QueueInput/queue_size: 50\n",
      "\u001b[32m[1118 16:00:31 @base.py:275]\u001b[0m Start Epoch 905 ...\n"
     ]
    },
    {
     "name": "stderr",
     "output_type": "stream",
     "text": [
      "100%|#####################################################################################|17/17[00:00<00:00,37.01it/s]"
     ]
    },
    {
     "name": "stdout",
     "output_type": "stream",
     "text": [
      "\u001b[32m[1118 16:00:31 @base.py:285]\u001b[0m Epoch 905 (global_step 23077) finished, time:0.46 second.\n",
      "\u001b[32m[1118 16:00:31 @saver.py:79]\u001b[0m Model saved to ../output/Chicago/TEST/model\\model-23077.\n"
     ]
    },
    {
     "name": "stderr",
     "output_type": "stream",
     "text": [
      "\n"
     ]
    },
    {
     "name": "stdout",
     "output_type": "stream",
     "text": [
      "\u001b[32m[1118 16:00:31 @monitor.py:467]\u001b[0m GAN_loss/d_loss: -0.027397\n",
      "\u001b[32m[1118 16:00:31 @monitor.py:467]\u001b[0m GAN_loss/g_loss: -0.13595\n",
      "\u001b[32m[1118 16:00:31 @monitor.py:467]\u001b[0m GAN_loss/kl_div: 0.051718\n",
      "\u001b[32m[1118 16:00:31 @monitor.py:467]\u001b[0m QueueInput/queue_size: 50\n",
      "\u001b[32m[1118 16:00:31 @base.py:275]\u001b[0m Start Epoch 906 ...\n"
     ]
    },
    {
     "name": "stderr",
     "output_type": "stream",
     "text": [
      "100%|#####################################################################################|17/17[00:00<00:00,38.47it/s]"
     ]
    },
    {
     "name": "stdout",
     "output_type": "stream",
     "text": [
      "\u001b[32m[1118 16:00:32 @base.py:285]\u001b[0m Epoch 906 (global_step 23102) finished, time:0.442 second.\n",
      "\u001b[32m[1118 16:00:32 @saver.py:79]\u001b[0m Model saved to ../output/Chicago/TEST/model\\model-23102.\n",
      "\u001b[32m[1118 16:00:32 @monitor.py:467]\u001b[0m GAN_loss/d_loss: -0.027825\n",
      "\u001b[32m[1118 16:00:32 @monitor.py:467]\u001b[0m GAN_loss/g_loss: -0.13582\n",
      "\u001b[32m[1118 16:00:32 @monitor.py:467]\u001b[0m GAN_loss/kl_div: 0.049174\n",
      "\u001b[32m[1118 16:00:32 @monitor.py:467]\u001b[0m QueueInput/queue_size: 50\n",
      "\u001b[32m[1118 16:00:32 @base.py:275]\u001b[0m Start Epoch 907 ...\n"
     ]
    },
    {
     "name": "stderr",
     "output_type": "stream",
     "text": [
      "\n",
      "100%|#####################################################################################|17/17[00:00<00:00,36.81it/s]"
     ]
    },
    {
     "name": "stdout",
     "output_type": "stream",
     "text": [
      "\u001b[32m[1118 16:00:32 @base.py:285]\u001b[0m Epoch 907 (global_step 23128) finished, time:0.462 second.\n",
      "\u001b[32m[1118 16:00:32 @saver.py:79]\u001b[0m Model saved to ../output/Chicago/TEST/model\\model-23128.\n",
      "\u001b[32m[1118 16:00:33 @monitor.py:467]\u001b[0m GAN_loss/d_loss: -0.028188\n"
     ]
    },
    {
     "name": "stderr",
     "output_type": "stream",
     "text": [
      "\n"
     ]
    },
    {
     "name": "stdout",
     "output_type": "stream",
     "text": [
      "\u001b[32m[1118 16:00:33 @monitor.py:467]\u001b[0m GAN_loss/g_loss: -0.13545\n",
      "\u001b[32m[1118 16:00:33 @monitor.py:467]\u001b[0m GAN_loss/kl_div: 0.05167\n",
      "\u001b[32m[1118 16:00:33 @monitor.py:467]\u001b[0m QueueInput/queue_size: 50\n",
      "\u001b[32m[1118 16:00:33 @base.py:275]\u001b[0m Start Epoch 908 ...\n"
     ]
    },
    {
     "name": "stderr",
     "output_type": "stream",
     "text": [
      "100%|#####################################################################################|17/17[00:00<00:00,37.96it/s]"
     ]
    },
    {
     "name": "stdout",
     "output_type": "stream",
     "text": [
      "\u001b[32m[1118 16:00:33 @base.py:285]\u001b[0m Epoch 908 (global_step 23153) finished, time:0.448 second.\n",
      "\u001b[32m[1118 16:00:33 @saver.py:79]\u001b[0m Model saved to ../output/Chicago/TEST/model\\model-23153.\n",
      "\u001b[32m[1118 16:00:33 @monitor.py:467]\u001b[0m GAN_loss/d_loss: -0.027341\n",
      "\u001b[32m[1118 16:00:33 @monitor.py:467]\u001b[0m GAN_loss/g_loss: -0.13564\n",
      "\u001b[32m[1118 16:00:33 @monitor.py:467]\u001b[0m GAN_loss/kl_div: 0.049138\n",
      "\u001b[32m[1118 16:00:33 @monitor.py:467]\u001b[0m QueueInput/queue_size: 50\n",
      "\u001b[32m[1118 16:00:33 @base.py:275]\u001b[0m Start Epoch 909 ...\n"
     ]
    },
    {
     "name": "stderr",
     "output_type": "stream",
     "text": [
      "\n",
      "100%|#####################################################################################|17/17[00:00<00:00,36.97it/s]"
     ]
    },
    {
     "name": "stdout",
     "output_type": "stream",
     "text": [
      "\u001b[32m[1118 16:00:34 @base.py:285]\u001b[0m Epoch 909 (global_step 23179) finished, time:0.46 second.\n",
      "\u001b[32m[1118 16:00:34 @saver.py:79]\u001b[0m Model saved to ../output/Chicago/TEST/model\\model-23179.\n",
      "\u001b[32m[1118 16:00:34 @monitor.py:467]\u001b[0m GAN_loss/d_loss: -0.026752\n",
      "\u001b[32m[1118 16:00:34 @monitor.py:467]\u001b[0m GAN_loss/g_loss: -0.13608\n",
      "\u001b[32m[1118 16:00:34 @monitor.py:467]\u001b[0m GAN_loss/kl_div: 0.050064\n",
      "\u001b[32m[1118 16:00:34 @monitor.py:467]\u001b[0m QueueInput/queue_size: 50\n",
      "\u001b[32m[1118 16:00:34 @base.py:275]\u001b[0m Start Epoch 910 ...\n"
     ]
    },
    {
     "name": "stderr",
     "output_type": "stream",
     "text": [
      "\n",
      "100%|#####################################################################################|17/17[00:00<00:00,38.21it/s]"
     ]
    },
    {
     "name": "stdout",
     "output_type": "stream",
     "text": [
      "\u001b[32m[1118 16:00:34 @base.py:285]\u001b[0m Epoch 910 (global_step 23204) finished, time:0.445 second.\n",
      "\u001b[32m[1118 16:00:34 @saver.py:79]\u001b[0m Model saved to ../output/Chicago/TEST/model\\model-23204.\n",
      "\u001b[32m[1118 16:00:34 @monitor.py:467]\u001b[0m GAN_loss/d_loss: -0.026611\n",
      "\u001b[32m[1118 16:00:34 @monitor.py:467]\u001b[0m GAN_loss/g_loss: -0.13577\n",
      "\u001b[32m[1118 16:00:34 @monitor.py:467]\u001b[0m GAN_loss/kl_div: 0.049456\n",
      "\u001b[32m[1118 16:00:34 @monitor.py:467]\u001b[0m QueueInput/queue_size: 50\n",
      "\u001b[32m[1118 16:00:34 @base.py:275]\u001b[0m Start Epoch 911 ...\n"
     ]
    },
    {
     "name": "stderr",
     "output_type": "stream",
     "text": [
      "\n",
      "100%|#####################################################################################|17/17[00:00<00:00,37.01it/s]"
     ]
    },
    {
     "name": "stdout",
     "output_type": "stream",
     "text": [
      "\u001b[32m[1118 16:00:35 @base.py:285]\u001b[0m Epoch 911 (global_step 23230) finished, time:0.46 second.\n",
      "\u001b[32m[1118 16:00:35 @saver.py:79]\u001b[0m Model saved to ../output/Chicago/TEST/model\\model-23230.\n",
      "\u001b[32m[1118 16:00:35 @monitor.py:467]\u001b[0m GAN_loss/d_loss: -0.028361\n",
      "\u001b[32m[1118 16:00:35 @monitor.py:467]\u001b[0m GAN_loss/g_loss: -0.13486\n"
     ]
    },
    {
     "name": "stderr",
     "output_type": "stream",
     "text": [
      "\n"
     ]
    },
    {
     "name": "stdout",
     "output_type": "stream",
     "text": [
      "\u001b[32m[1118 16:00:35 @monitor.py:467]\u001b[0m GAN_loss/kl_div: 0.050623\n",
      "\u001b[32m[1118 16:00:35 @monitor.py:467]\u001b[0m QueueInput/queue_size: 50\n",
      "\u001b[32m[1118 16:00:35 @base.py:275]\u001b[0m Start Epoch 912 ...\n"
     ]
    },
    {
     "name": "stderr",
     "output_type": "stream",
     "text": [
      "100%|#####################################################################################|17/17[00:00<00:00,38.30it/s]"
     ]
    },
    {
     "name": "stdout",
     "output_type": "stream",
     "text": [
      "\u001b[32m[1118 16:00:36 @base.py:285]\u001b[0m Epoch 912 (global_step 23255) finished, time:0.445 second.\n",
      "\u001b[32m[1118 16:00:36 @saver.py:79]\u001b[0m Model saved to ../output/Chicago/TEST/model\\model-23255.\n",
      "\u001b[32m[1118 16:00:36 @monitor.py:467]\u001b[0m GAN_loss/d_loss: -0.027749\n",
      "\u001b[32m[1118 16:00:36 @monitor.py:467]\u001b[0m GAN_loss/g_loss: -0.13488\n",
      "\u001b[32m[1118 16:00:36 @monitor.py:467]\u001b[0m GAN_loss/kl_div: 0.047906\n",
      "\u001b[32m[1118 16:00:36 @monitor.py:467]\u001b[0m QueueInput/queue_size: 50\n",
      "\u001b[32m[1118 16:00:36 @base.py:275]\u001b[0m Start Epoch 913 ...\n"
     ]
    },
    {
     "name": "stderr",
     "output_type": "stream",
     "text": [
      "\n",
      "100%|#####################################################################################|17/17[00:00<00:00,36.93it/s]"
     ]
    },
    {
     "name": "stdout",
     "output_type": "stream",
     "text": [
      "\u001b[32m[1118 16:00:36 @base.py:285]\u001b[0m Epoch 913 (global_step 23281) finished, time:0.461 second.\n",
      "\u001b[32m[1118 16:00:36 @saver.py:79]\u001b[0m Model saved to ../output/Chicago/TEST/model\\model-23281.\n",
      "\u001b[32m[1118 16:00:36 @monitor.py:467]\u001b[0m GAN_loss/d_loss: -0.027373\n",
      "\u001b[32m[1118 16:00:36 @monitor.py:467]\u001b[0m GAN_loss/g_loss: -0.13411\n",
      "\u001b[32m[1118 16:00:36 @monitor.py:467]\u001b[0m GAN_loss/kl_div: 0.048753\n",
      "\u001b[32m[1118 16:00:36 @monitor.py:467]\u001b[0m QueueInput/queue_size: 50\n",
      "\u001b[32m[1118 16:00:36 @base.py:275]\u001b[0m Start Epoch 914 ...\n"
     ]
    },
    {
     "name": "stderr",
     "output_type": "stream",
     "text": [
      "\n",
      "100%|#####################################################################################|17/17[00:00<00:00,38.17it/s]"
     ]
    },
    {
     "name": "stdout",
     "output_type": "stream",
     "text": [
      "\u001b[32m[1118 16:00:37 @base.py:285]\u001b[0m Epoch 914 (global_step 23306) finished, time:0.446 second.\n",
      "\u001b[32m[1118 16:00:37 @saver.py:79]\u001b[0m Model saved to ../output/Chicago/TEST/model\\model-23306.\n",
      "\u001b[32m[1118 16:00:37 @monitor.py:467]\u001b[0m GAN_loss/d_loss: -0.027831\n",
      "\u001b[32m[1118 16:00:37 @monitor.py:467]\u001b[0m GAN_loss/g_loss: -0.13455\n",
      "\u001b[32m[1118 16:00:37 @monitor.py:467]\u001b[0m GAN_loss/kl_div: 0.050734\n",
      "\u001b[32m[1118 16:00:37 @monitor.py:467]\u001b[0m QueueInput/queue_size: 50\n",
      "\u001b[32m[1118 16:00:37 @base.py:275]\u001b[0m Start Epoch 915 ...\n"
     ]
    },
    {
     "name": "stderr",
     "output_type": "stream",
     "text": [
      "\n",
      "100%|#####################################################################################|17/17[00:00<00:00,36.89it/s]"
     ]
    },
    {
     "name": "stdout",
     "output_type": "stream",
     "text": [
      "\u001b[32m[1118 16:00:37 @base.py:285]\u001b[0m Epoch 915 (global_step 23332) finished, time:0.461 second.\n",
      "\u001b[32m[1118 16:00:38 @saver.py:79]\u001b[0m Model saved to ../output/Chicago/TEST/model\\model-23332.\n",
      "\u001b[32m[1118 16:00:38 @monitor.py:467]\u001b[0m GAN_loss/d_loss: -0.027996\n",
      "\u001b[32m[1118 16:00:38 @monitor.py:467]\u001b[0m GAN_loss/g_loss: -0.1355\n",
      "\u001b[32m[1118 16:00:38 @monitor.py:467]\u001b[0m GAN_loss/kl_div: 0.047502\n",
      "\u001b[32m[1118 16:00:38 @monitor.py:467]\u001b[0m QueueInput/queue_size: 50\n",
      "\u001b[32m[1118 16:00:38 @base.py:275]\u001b[0m Start Epoch 916 ...\n"
     ]
    },
    {
     "name": "stderr",
     "output_type": "stream",
     "text": [
      "\n",
      "100%|#####################################################################################|17/17[00:00<00:00,38.21it/s]"
     ]
    },
    {
     "name": "stdout",
     "output_type": "stream",
     "text": [
      "\u001b[32m[1118 16:00:38 @base.py:285]\u001b[0m Epoch 916 (global_step 23357) finished, time:0.445 second.\n",
      "\u001b[32m[1118 16:00:38 @saver.py:79]\u001b[0m Model saved to ../output/Chicago/TEST/model\\model-23357.\n",
      "\u001b[32m[1118 16:00:38 @monitor.py:467]\u001b[0m GAN_loss/d_loss: -0.026549\n",
      "\u001b[32m[1118 16:00:38 @monitor.py:467]\u001b[0m GAN_loss/g_loss: -0.13731\n",
      "\u001b[32m[1118 16:00:38 @monitor.py:467]\u001b[0m GAN_loss/kl_div: 0.046942\n",
      "\u001b[32m[1118 16:00:38 @monitor.py:467]\u001b[0m QueueInput/queue_size: 50\n",
      "\u001b[32m[1118 16:00:38 @base.py:275]\u001b[0m Start Epoch 917 ...\n"
     ]
    },
    {
     "name": "stderr",
     "output_type": "stream",
     "text": [
      "\n",
      "100%|#####################################################################################|17/17[00:00<00:00,36.72it/s]"
     ]
    },
    {
     "name": "stdout",
     "output_type": "stream",
     "text": [
      "\u001b[32m[1118 16:00:39 @base.py:285]\u001b[0m Epoch 917 (global_step 23383) finished, time:0.463 second.\n",
      "\u001b[32m[1118 16:00:39 @saver.py:79]\u001b[0m Model saved to ../output/Chicago/TEST/model\\model-23383.\n",
      "\u001b[32m[1118 16:00:39 @monitor.py:467]\u001b[0m GAN_loss/d_loss: -0.027669\n"
     ]
    },
    {
     "name": "stderr",
     "output_type": "stream",
     "text": [
      "\n"
     ]
    },
    {
     "name": "stdout",
     "output_type": "stream",
     "text": [
      "\u001b[32m[1118 16:00:39 @monitor.py:467]\u001b[0m GAN_loss/g_loss: -0.13649\n",
      "\u001b[32m[1118 16:00:39 @monitor.py:467]\u001b[0m GAN_loss/kl_div: 0.046828\n",
      "\u001b[32m[1118 16:00:39 @monitor.py:467]\u001b[0m QueueInput/queue_size: 50\n",
      "\u001b[32m[1118 16:00:39 @base.py:275]\u001b[0m Start Epoch 918 ...\n"
     ]
    },
    {
     "name": "stderr",
     "output_type": "stream",
     "text": [
      "100%|#####################################################################################|17/17[00:00<00:00,38.34it/s]"
     ]
    },
    {
     "name": "stdout",
     "output_type": "stream",
     "text": [
      "\u001b[32m[1118 16:00:39 @base.py:285]\u001b[0m Epoch 918 (global_step 23408) finished, time:0.444 second.\n",
      "\u001b[32m[1118 16:00:39 @saver.py:79]\u001b[0m Model saved to ../output/Chicago/TEST/model\\model-23408.\n",
      "\u001b[32m[1118 16:00:39 @monitor.py:467]\u001b[0m GAN_loss/d_loss: -0.027964\n",
      "\u001b[32m[1118 16:00:39 @monitor.py:467]\u001b[0m GAN_loss/g_loss: -0.136\n",
      "\u001b[32m[1118 16:00:39 @monitor.py:467]\u001b[0m GAN_loss/kl_div: 0.049276\n",
      "\u001b[32m[1118 16:00:39 @monitor.py:467]\u001b[0m QueueInput/queue_size: 50\n",
      "\u001b[32m[1118 16:00:39 @base.py:275]\u001b[0m Start Epoch 919 ...\n"
     ]
    },
    {
     "name": "stderr",
     "output_type": "stream",
     "text": [
      "\n",
      "100%|#####################################################################################|17/17[00:00<00:00,36.89it/s]"
     ]
    },
    {
     "name": "stdout",
     "output_type": "stream",
     "text": [
      "\u001b[32m[1118 16:00:40 @base.py:285]\u001b[0m Epoch 919 (global_step 23434) finished, time:0.462 second.\n",
      "\u001b[32m[1118 16:00:40 @saver.py:79]\u001b[0m Model saved to ../output/Chicago/TEST/model\\model-23434.\n",
      "\u001b[32m[1118 16:00:40 @monitor.py:467]\u001b[0m GAN_loss/d_loss: -0.028113\n",
      "\u001b[32m[1118 16:00:40 @monitor.py:467]\u001b[0m GAN_loss/g_loss: -0.13541\n",
      "\u001b[32m[1118 16:00:40 @monitor.py:467]\u001b[0m GAN_loss/kl_div: 0.049827\n",
      "\u001b[32m[1118 16:00:40 @monitor.py:467]\u001b[0m QueueInput/queue_size: 50\n",
      "\u001b[32m[1118 16:00:40 @base.py:275]\u001b[0m Start Epoch 920 ...\n"
     ]
    },
    {
     "name": "stderr",
     "output_type": "stream",
     "text": [
      "\n",
      "100%|#####################################################################################|17/17[00:00<00:00,38.21it/s]"
     ]
    },
    {
     "name": "stdout",
     "output_type": "stream",
     "text": [
      "\u001b[32m[1118 16:00:41 @base.py:285]\u001b[0m Epoch 920 (global_step 23459) finished, time:0.445 second.\n",
      "\u001b[32m[1118 16:00:41 @saver.py:79]\u001b[0m Model saved to ../output/Chicago/TEST/model\\model-23459.\n",
      "\u001b[32m[1118 16:00:41 @monitor.py:467]\u001b[0m GAN_loss/d_loss: -0.027569\n",
      "\u001b[32m[1118 16:00:41 @monitor.py:467]\u001b[0m GAN_loss/g_loss: -0.13516\n",
      "\u001b[32m[1118 16:00:41 @monitor.py:467]\u001b[0m GAN_loss/kl_div: 0.049615\n",
      "\u001b[32m[1118 16:00:41 @monitor.py:467]\u001b[0m QueueInput/queue_size: 50\n",
      "\u001b[32m[1118 16:00:41 @base.py:275]\u001b[0m Start Epoch 921 ...\n"
     ]
    },
    {
     "name": "stderr",
     "output_type": "stream",
     "text": [
      "\n",
      "100%|#####################################################################################|17/17[00:00<00:00,37.09it/s]"
     ]
    },
    {
     "name": "stdout",
     "output_type": "stream",
     "text": [
      "\u001b[32m[1118 16:00:41 @base.py:285]\u001b[0m Epoch 921 (global_step 23485) finished, time:0.459 second.\n",
      "\u001b[32m[1118 16:00:41 @saver.py:79]\u001b[0m Model saved to ../output/Chicago/TEST/model\\model-23485.\n",
      "\u001b[32m[1118 16:00:41 @monitor.py:467]\u001b[0m GAN_loss/d_loss: -0.027779\n",
      "\u001b[32m[1118 16:00:41 @monitor.py:467]\u001b[0m GAN_loss/g_loss: -0.13525\n",
      "\u001b[32m[1118 16:00:41 @monitor.py:467]\u001b[0m GAN_loss/kl_div: 0.049732\n",
      "\u001b[32m[1118 16:00:41 @monitor.py:467]\u001b[0m QueueInput/queue_size: 50\n",
      "\u001b[32m[1118 16:00:41 @base.py:275]\u001b[0m Start Epoch 922 ...\n"
     ]
    },
    {
     "name": "stderr",
     "output_type": "stream",
     "text": [
      "\n",
      "100%|#####################################################################################|17/17[00:00<00:00,38.12it/s]"
     ]
    },
    {
     "name": "stdout",
     "output_type": "stream",
     "text": [
      "\u001b[32m[1118 16:00:42 @base.py:285]\u001b[0m Epoch 922 (global_step 23510) finished, time:0.446 second.\n",
      "\u001b[32m[1118 16:00:42 @saver.py:79]\u001b[0m Model saved to ../output/Chicago/TEST/model\\model-23510.\n",
      "\u001b[32m[1118 16:00:42 @monitor.py:467]\u001b[0m GAN_loss/d_loss: -0.028485\n",
      "\u001b[32m[1118 16:00:42 @monitor.py:467]\u001b[0m GAN_loss/g_loss: -0.13393\n",
      "\u001b[32m[1118 16:00:42 @monitor.py:467]\u001b[0m GAN_loss/kl_div: 0.05105\n",
      "\u001b[32m[1118 16:00:42 @monitor.py:467]\u001b[0m QueueInput/queue_size: 50\n",
      "\u001b[32m[1118 16:00:42 @base.py:275]\u001b[0m Start Epoch 923 ...\n"
     ]
    },
    {
     "name": "stderr",
     "output_type": "stream",
     "text": [
      "\n",
      "100%|#####################################################################################|17/17[00:00<00:00,36.81it/s]"
     ]
    },
    {
     "name": "stdout",
     "output_type": "stream",
     "text": [
      "\u001b[32m[1118 16:00:42 @base.py:285]\u001b[0m Epoch 923 (global_step 23536) finished, time:0.462 second.\n",
      "\u001b[32m[1118 16:00:43 @saver.py:79]\u001b[0m Model saved to ../output/Chicago/TEST/model\\model-23536.\n",
      "\u001b[32m[1118 16:00:43 @monitor.py:467]\u001b[0m GAN_loss/d_loss: -0.029189\n",
      "\u001b[32m[1118 16:00:43 @monitor.py:467]\u001b[0m GAN_loss/g_loss: -0.13422\n",
      "\u001b[32m[1118 16:00:43 @monitor.py:467]\u001b[0m GAN_loss/kl_div: 0.048749\n",
      "\u001b[32m[1118 16:00:43 @monitor.py:467]\u001b[0m QueueInput/queue_size: 50\n",
      "\u001b[32m[1118 16:00:43 @base.py:275]\u001b[0m Start Epoch 924 ...\n"
     ]
    },
    {
     "name": "stderr",
     "output_type": "stream",
     "text": [
      "\n",
      "100%|#####################################################################################|17/17[00:00<00:00,38.30it/s]"
     ]
    },
    {
     "name": "stdout",
     "output_type": "stream",
     "text": [
      "\u001b[32m[1118 16:00:43 @base.py:285]\u001b[0m Epoch 924 (global_step 23561) finished, time:0.444 second.\n",
      "\u001b[32m[1118 16:00:43 @saver.py:79]\u001b[0m Model saved to ../output/Chicago/TEST/model\\model-23561.\n",
      "\u001b[32m[1118 16:00:43 @monitor.py:467]\u001b[0m GAN_loss/d_loss: -0.027936\n",
      "\u001b[32m[1118 16:00:43 @monitor.py:467]\u001b[0m GAN_loss/g_loss: -0.13599\n",
      "\u001b[32m[1118 16:00:43 @monitor.py:467]\u001b[0m GAN_loss/kl_div: 0.049008\n",
      "\u001b[32m[1118 16:00:43 @monitor.py:467]\u001b[0m QueueInput/queue_size: 50\n",
      "\u001b[32m[1118 16:00:43 @base.py:275]\u001b[0m Start Epoch 925 ...\n"
     ]
    },
    {
     "name": "stderr",
     "output_type": "stream",
     "text": [
      "\n",
      "100%|#####################################################################################|17/17[00:00<00:00,36.85it/s]"
     ]
    },
    {
     "name": "stdout",
     "output_type": "stream",
     "text": [
      "\u001b[32m[1118 16:00:44 @base.py:285]\u001b[0m Epoch 925 (global_step 23587) finished, time:0.462 second.\n",
      "\u001b[32m[1118 16:00:44 @saver.py:79]\u001b[0m Model saved to ../output/Chicago/TEST/model\\model-23587.\n"
     ]
    },
    {
     "name": "stderr",
     "output_type": "stream",
     "text": [
      "\n"
     ]
    },
    {
     "name": "stdout",
     "output_type": "stream",
     "text": [
      "\u001b[32m[1118 16:00:44 @monitor.py:467]\u001b[0m GAN_loss/d_loss: -0.02746\n",
      "\u001b[32m[1118 16:00:44 @monitor.py:467]\u001b[0m GAN_loss/g_loss: -0.13575\n",
      "\u001b[32m[1118 16:00:44 @monitor.py:467]\u001b[0m GAN_loss/kl_div: 0.049683\n",
      "\u001b[32m[1118 16:00:44 @monitor.py:467]\u001b[0m QueueInput/queue_size: 50\n",
      "\u001b[32m[1118 16:00:44 @base.py:275]\u001b[0m Start Epoch 926 ...\n"
     ]
    },
    {
     "name": "stderr",
     "output_type": "stream",
     "text": [
      "100%|#####################################################################################|17/17[00:00<00:00,38.21it/s]"
     ]
    },
    {
     "name": "stdout",
     "output_type": "stream",
     "text": [
      "\u001b[32m[1118 16:00:44 @base.py:285]\u001b[0m Epoch 926 (global_step 23612) finished, time:0.445 second.\n",
      "\u001b[32m[1118 16:00:44 @saver.py:79]\u001b[0m Model saved to ../output/Chicago/TEST/model\\model-23612.\n",
      "\u001b[32m[1118 16:00:44 @monitor.py:467]\u001b[0m GAN_loss/d_loss: -0.028009\n",
      "\u001b[32m[1118 16:00:44 @monitor.py:467]\u001b[0m GAN_loss/g_loss: -0.13466\n",
      "\u001b[32m[1118 16:00:44 @monitor.py:467]\u001b[0m GAN_loss/kl_div: 0.053509\n",
      "\u001b[32m[1118 16:00:44 @monitor.py:467]\u001b[0m QueueInput/queue_size: 50\n",
      "\u001b[32m[1118 16:00:44 @base.py:275]\u001b[0m Start Epoch 927 ...\n"
     ]
    },
    {
     "name": "stderr",
     "output_type": "stream",
     "text": [
      "\n",
      "100%|#####################################################################################|17/17[00:00<00:00,36.93it/s]"
     ]
    },
    {
     "name": "stdout",
     "output_type": "stream",
     "text": [
      "\u001b[32m[1118 16:00:45 @base.py:285]\u001b[0m Epoch 927 (global_step 23638) finished, time:0.461 second.\n",
      "\u001b[32m[1118 16:00:45 @saver.py:79]\u001b[0m Model saved to ../output/Chicago/TEST/model\\model-23638.\n",
      "\u001b[32m[1118 16:00:45 @monitor.py:467]\u001b[0m GAN_loss/d_loss: -0.026288\n",
      "\u001b[32m[1118 16:00:45 @monitor.py:467]\u001b[0m GAN_loss/g_loss: -0.13665\n",
      "\u001b[32m[1118 16:00:45 @monitor.py:467]\u001b[0m GAN_loss/kl_div: 0.049815\n",
      "\u001b[32m[1118 16:00:45 @monitor.py:467]\u001b[0m QueueInput/queue_size: 50\n",
      "\u001b[32m[1118 16:00:45 @base.py:275]\u001b[0m Start Epoch 928 ...\n"
     ]
    },
    {
     "name": "stderr",
     "output_type": "stream",
     "text": [
      "\n",
      "100%|#####################################################################################|17/17[00:00<00:00,38.21it/s]"
     ]
    },
    {
     "name": "stdout",
     "output_type": "stream",
     "text": [
      "\u001b[32m[1118 16:00:46 @base.py:285]\u001b[0m Epoch 928 (global_step 23663) finished, time:0.445 second.\n",
      "\u001b[32m[1118 16:00:46 @saver.py:79]\u001b[0m Model saved to ../output/Chicago/TEST/model\\model-23663.\n",
      "\u001b[32m[1118 16:00:46 @monitor.py:467]\u001b[0m GAN_loss/d_loss: -0.027234\n",
      "\u001b[32m[1118 16:00:46 @monitor.py:467]\u001b[0m GAN_loss/g_loss: -0.13605\n",
      "\u001b[32m[1118 16:00:46 @monitor.py:467]\u001b[0m GAN_loss/kl_div: 0.048468\n",
      "\u001b[32m[1118 16:00:46 @monitor.py:467]\u001b[0m QueueInput/queue_size: 50\n",
      "\u001b[32m[1118 16:00:46 @base.py:275]\u001b[0m Start Epoch 929 ...\n"
     ]
    },
    {
     "name": "stderr",
     "output_type": "stream",
     "text": [
      "\n",
      "100%|#####################################################################################|17/17[00:00<00:00,36.97it/s]"
     ]
    },
    {
     "name": "stdout",
     "output_type": "stream",
     "text": [
      "\u001b[32m[1118 16:00:46 @base.py:285]\u001b[0m Epoch 929 (global_step 23689) finished, time:0.46 second.\n",
      "\u001b[32m[1118 16:00:46 @saver.py:79]\u001b[0m Model saved to ../output/Chicago/TEST/model\\model-23689.\n",
      "\u001b[32m[1118 16:00:46 @monitor.py:467]\u001b[0m GAN_loss/d_loss: -0.02656\n"
     ]
    },
    {
     "name": "stderr",
     "output_type": "stream",
     "text": [
      "\n"
     ]
    },
    {
     "name": "stdout",
     "output_type": "stream",
     "text": [
      "\u001b[32m[1118 16:00:46 @monitor.py:467]\u001b[0m GAN_loss/g_loss: -0.13581\n",
      "\u001b[32m[1118 16:00:46 @monitor.py:467]\u001b[0m GAN_loss/kl_div: 0.048817\n",
      "\u001b[32m[1118 16:00:46 @monitor.py:467]\u001b[0m QueueInput/queue_size: 50\n",
      "\u001b[32m[1118 16:00:46 @base.py:275]\u001b[0m Start Epoch 930 ...\n"
     ]
    },
    {
     "name": "stderr",
     "output_type": "stream",
     "text": [
      "100%|#####################################################################################|17/17[00:00<00:00,38.47it/s]"
     ]
    },
    {
     "name": "stdout",
     "output_type": "stream",
     "text": [
      "\u001b[32m[1118 16:00:47 @base.py:285]\u001b[0m Epoch 930 (global_step 23714) finished, time:0.443 second.\n",
      "\u001b[32m[1118 16:00:47 @saver.py:79]\u001b[0m Model saved to ../output/Chicago/TEST/model\\model-23714.\n",
      "\u001b[32m[1118 16:00:47 @monitor.py:467]\u001b[0m GAN_loss/d_loss: -0.026124\n",
      "\u001b[32m[1118 16:00:47 @monitor.py:467]\u001b[0m GAN_loss/g_loss: -0.13561\n",
      "\u001b[32m[1118 16:00:47 @monitor.py:467]\u001b[0m GAN_loss/kl_div: 0.049683\n",
      "\u001b[32m[1118 16:00:47 @monitor.py:467]\u001b[0m QueueInput/queue_size: 50\n",
      "\u001b[32m[1118 16:00:47 @base.py:275]\u001b[0m Start Epoch 931 ...\n"
     ]
    },
    {
     "name": "stderr",
     "output_type": "stream",
     "text": [
      "\n",
      "100%|#####################################################################################|17/17[00:00<00:00,36.93it/s]"
     ]
    },
    {
     "name": "stdout",
     "output_type": "stream",
     "text": [
      "\u001b[32m[1118 16:00:47 @base.py:285]\u001b[0m Epoch 931 (global_step 23740) finished, time:0.461 second.\n",
      "\u001b[32m[1118 16:00:48 @saver.py:79]\u001b[0m Model saved to ../output/Chicago/TEST/model\\model-23740.\n",
      "\u001b[32m[1118 16:00:48 @monitor.py:467]\u001b[0m GAN_loss/d_loss: -0.027434\n",
      "\u001b[32m[1118 16:00:48 @monitor.py:467]\u001b[0m GAN_loss/g_loss: -0.13533\n",
      "\u001b[32m[1118 16:00:48 @monitor.py:467]\u001b[0m GAN_loss/kl_div: 0.048914\n",
      "\u001b[32m[1118 16:00:48 @monitor.py:467]\u001b[0m QueueInput/queue_size: 50\n",
      "\u001b[32m[1118 16:00:48 @base.py:275]\u001b[0m Start Epoch 932 ...\n"
     ]
    },
    {
     "name": "stderr",
     "output_type": "stream",
     "text": [
      "\n",
      "100%|#####################################################################################|17/17[00:00<00:00,36.97it/s]"
     ]
    },
    {
     "name": "stdout",
     "output_type": "stream",
     "text": [
      "\u001b[32m[1118 16:00:48 @base.py:285]\u001b[0m Epoch 932 (global_step 23765) finished, time:0.46 second.\n",
      "\u001b[32m[1118 16:00:48 @saver.py:79]\u001b[0m Model saved to ../output/Chicago/TEST/model\\model-23765.\n",
      "\u001b[32m[1118 16:00:48 @monitor.py:467]\u001b[0m GAN_loss/d_loss: -0.026574\n",
      "\u001b[32m[1118 16:00:48 @monitor.py:467]\u001b[0m GAN_loss/g_loss: -0.13485\n",
      "\u001b[32m[1118 16:00:48 @monitor.py:467]\u001b[0m GAN_loss/kl_div: 0.05087\n",
      "\u001b[32m[1118 16:00:48 @monitor.py:467]\u001b[0m QueueInput/queue_size: 50\n",
      "\u001b[32m[1118 16:00:48 @base.py:275]\u001b[0m Start Epoch 933 ...\n"
     ]
    },
    {
     "name": "stderr",
     "output_type": "stream",
     "text": [
      "\n",
      "100%|#####################################################################################|17/17[00:00<00:00,37.09it/s]"
     ]
    },
    {
     "name": "stdout",
     "output_type": "stream",
     "text": [
      "\u001b[32m[1118 16:00:49 @base.py:285]\u001b[0m Epoch 933 (global_step 23791) finished, time:0.459 second.\n",
      "\u001b[32m[1118 16:00:49 @saver.py:79]\u001b[0m Model saved to ../output/Chicago/TEST/model\\model-23791.\n"
     ]
    },
    {
     "name": "stderr",
     "output_type": "stream",
     "text": [
      "\n"
     ]
    },
    {
     "name": "stdout",
     "output_type": "stream",
     "text": [
      "\u001b[32m[1118 16:00:49 @monitor.py:467]\u001b[0m GAN_loss/d_loss: -0.026113\n",
      "\u001b[32m[1118 16:00:49 @monitor.py:467]\u001b[0m GAN_loss/g_loss: -0.13581\n",
      "\u001b[32m[1118 16:00:49 @monitor.py:467]\u001b[0m GAN_loss/kl_div: 0.050147\n",
      "\u001b[32m[1118 16:00:49 @monitor.py:467]\u001b[0m QueueInput/queue_size: 50\n",
      "\u001b[32m[1118 16:00:49 @base.py:275]\u001b[0m Start Epoch 934 ...\n"
     ]
    },
    {
     "name": "stderr",
     "output_type": "stream",
     "text": [
      "100%|#####################################################################################|17/17[00:00<00:00,37.62it/s]"
     ]
    },
    {
     "name": "stdout",
     "output_type": "stream",
     "text": [
      "\u001b[32m[1118 16:00:49 @base.py:285]\u001b[0m Epoch 934 (global_step 23816) finished, time:0.452 second.\n",
      "\u001b[32m[1118 16:00:49 @saver.py:79]\u001b[0m Model saved to ../output/Chicago/TEST/model\\model-23816.\n",
      "\u001b[32m[1118 16:00:50 @monitor.py:467]\u001b[0m GAN_loss/d_loss: -0.027566\n",
      "\u001b[32m[1118 16:00:50 @monitor.py:467]\u001b[0m GAN_loss/g_loss: -0.13481\n",
      "\u001b[32m[1118 16:00:50 @monitor.py:467]\u001b[0m GAN_loss/kl_div: 0.050108\n",
      "\u001b[32m[1118 16:00:50 @monitor.py:467]\u001b[0m QueueInput/queue_size: 50\n",
      "\u001b[32m[1118 16:00:50 @base.py:275]\u001b[0m Start Epoch 935 ...\n"
     ]
    },
    {
     "name": "stderr",
     "output_type": "stream",
     "text": [
      "\n",
      "100%|#####################################################################################|17/17[00:00<00:00,35.74it/s]"
     ]
    },
    {
     "name": "stdout",
     "output_type": "stream",
     "text": [
      "\u001b[32m[1118 16:00:50 @base.py:285]\u001b[0m Epoch 935 (global_step 23842) finished, time:0.476 second.\n",
      "\u001b[32m[1118 16:00:50 @saver.py:79]\u001b[0m Model saved to ../output/Chicago/TEST/model\\model-23842.\n",
      "\u001b[32m[1118 16:00:50 @monitor.py:467]\u001b[0m GAN_loss/d_loss: -0.028631\n",
      "\u001b[32m[1118 16:00:50 @monitor.py:467]\u001b[0m GAN_loss/g_loss: -0.13421\n",
      "\u001b[32m[1118 16:00:50 @monitor.py:467]\u001b[0m GAN_loss/kl_div: 0.049264\n",
      "\u001b[32m[1118 16:00:50 @monitor.py:467]\u001b[0m QueueInput/queue_size: 50\n",
      "\u001b[32m[1118 16:00:50 @base.py:275]\u001b[0m Start Epoch 936 ...\n"
     ]
    },
    {
     "name": "stderr",
     "output_type": "stream",
     "text": [
      "\n",
      "100%|#####################################################################################|17/17[00:00<00:00,38.17it/s]"
     ]
    },
    {
     "name": "stdout",
     "output_type": "stream",
     "text": [
      "\u001b[32m[1118 16:00:51 @base.py:285]\u001b[0m Epoch 936 (global_step 23867) finished, time:0.446 second.\n",
      "\u001b[32m[1118 16:00:51 @saver.py:79]\u001b[0m Model saved to ../output/Chicago/TEST/model\\model-23867.\n",
      "\u001b[32m[1118 16:00:51 @monitor.py:467]\u001b[0m GAN_loss/d_loss: -0.026936\n",
      "\u001b[32m[1118 16:00:51 @monitor.py:467]\u001b[0m GAN_loss/g_loss: -0.13559\n",
      "\u001b[32m[1118 16:00:51 @monitor.py:467]\u001b[0m GAN_loss/kl_div: 0.051311\n",
      "\u001b[32m[1118 16:00:51 @monitor.py:467]\u001b[0m QueueInput/queue_size: 50\n",
      "\u001b[32m[1118 16:00:51 @base.py:275]\u001b[0m Start Epoch 937 ...\n"
     ]
    },
    {
     "name": "stderr",
     "output_type": "stream",
     "text": [
      "\n",
      "100%|#####################################################################################|17/17[00:00<00:00,36.93it/s]"
     ]
    },
    {
     "name": "stdout",
     "output_type": "stream",
     "text": [
      "\u001b[32m[1118 16:00:51 @base.py:285]\u001b[0m Epoch 937 (global_step 23893) finished, time:0.461 second.\n",
      "\u001b[32m[1118 16:00:51 @saver.py:79]\u001b[0m Model saved to ../output/Chicago/TEST/model\\model-23893.\n",
      "\u001b[32m[1118 16:00:51 @monitor.py:467]\u001b[0m GAN_loss/d_loss: -0.027099\n",
      "\u001b[32m[1118 16:00:51 @monitor.py:467]\u001b[0m GAN_loss/g_loss: -0.13563\n",
      "\u001b[32m[1118 16:00:51 @monitor.py:467]\u001b[0m GAN_loss/kl_div: 0.05118\n",
      "\u001b[32m[1118 16:00:51 @monitor.py:467]\u001b[0m QueueInput/queue_size: 50\n",
      "\u001b[32m[1118 16:00:51 @base.py:275]\u001b[0m Start Epoch 938 ...\n"
     ]
    },
    {
     "name": "stderr",
     "output_type": "stream",
     "text": [
      "\n",
      "100%|#####################################################################################|17/17[00:00<00:00,38.21it/s]"
     ]
    },
    {
     "name": "stdout",
     "output_type": "stream",
     "text": [
      "\u001b[32m[1118 16:00:52 @base.py:285]\u001b[0m Epoch 938 (global_step 23918) finished, time:0.445 second.\n",
      "\u001b[32m[1118 16:00:52 @saver.py:79]\u001b[0m Model saved to ../output/Chicago/TEST/model\\model-23918.\n",
      "\u001b[32m[1118 16:00:52 @monitor.py:467]\u001b[0m GAN_loss/d_loss: -0.027903\n",
      "\u001b[32m[1118 16:00:52 @monitor.py:467]\u001b[0m GAN_loss/g_loss: -0.13501\n",
      "\u001b[32m[1118 16:00:52 @monitor.py:467]\u001b[0m GAN_loss/kl_div: 0.050334\n",
      "\u001b[32m[1118 16:00:52 @monitor.py:467]\u001b[0m QueueInput/queue_size: 50\n",
      "\u001b[32m[1118 16:00:52 @base.py:275]\u001b[0m Start Epoch 939 ...\n"
     ]
    },
    {
     "name": "stderr",
     "output_type": "stream",
     "text": [
      "\n",
      "100%|#####################################################################################|17/17[00:00<00:00,36.97it/s]"
     ]
    },
    {
     "name": "stdout",
     "output_type": "stream",
     "text": [
      "\u001b[32m[1118 16:00:53 @base.py:285]\u001b[0m Epoch 939 (global_step 23944) finished, time:0.46 second.\n",
      "\u001b[32m[1118 16:00:53 @saver.py:79]\u001b[0m Model saved to ../output/Chicago/TEST/model\\model-23944.\n"
     ]
    },
    {
     "name": "stderr",
     "output_type": "stream",
     "text": [
      "\n"
     ]
    },
    {
     "name": "stdout",
     "output_type": "stream",
     "text": [
      "\u001b[32m[1118 16:00:53 @monitor.py:467]\u001b[0m GAN_loss/d_loss: -0.029008\n",
      "\u001b[32m[1118 16:00:53 @monitor.py:467]\u001b[0m GAN_loss/g_loss: -0.13425\n",
      "\u001b[32m[1118 16:00:53 @monitor.py:467]\u001b[0m GAN_loss/kl_div: 0.050656\n",
      "\u001b[32m[1118 16:00:53 @monitor.py:467]\u001b[0m QueueInput/queue_size: 50\n",
      "\u001b[32m[1118 16:00:53 @base.py:275]\u001b[0m Start Epoch 940 ...\n"
     ]
    },
    {
     "name": "stderr",
     "output_type": "stream",
     "text": [
      "100%|#####################################################################################|17/17[00:00<00:00,38.25it/s]"
     ]
    },
    {
     "name": "stdout",
     "output_type": "stream",
     "text": [
      "\u001b[32m[1118 16:00:53 @base.py:285]\u001b[0m Epoch 940 (global_step 23969) finished, time:0.445 second.\n",
      "\u001b[32m[1118 16:00:53 @saver.py:79]\u001b[0m Model saved to ../output/Chicago/TEST/model\\model-23969.\n",
      "\u001b[32m[1118 16:00:53 @monitor.py:467]\u001b[0m GAN_loss/d_loss: -0.027619\n",
      "\u001b[32m[1118 16:00:53 @monitor.py:467]\u001b[0m GAN_loss/g_loss: -0.13401\n",
      "\u001b[32m[1118 16:00:53 @monitor.py:467]\u001b[0m GAN_loss/kl_div: 0.049362\n",
      "\u001b[32m[1118 16:00:53 @monitor.py:467]\u001b[0m QueueInput/queue_size: 50\n",
      "\u001b[32m[1118 16:00:53 @base.py:275]\u001b[0m Start Epoch 941 ...\n"
     ]
    },
    {
     "name": "stderr",
     "output_type": "stream",
     "text": [
      "\n",
      "100%|#####################################################################################|17/17[00:00<00:00,36.93it/s]"
     ]
    },
    {
     "name": "stdout",
     "output_type": "stream",
     "text": [
      "\u001b[32m[1118 16:00:54 @base.py:285]\u001b[0m Epoch 941 (global_step 23995) finished, time:0.461 second.\n",
      "\u001b[32m[1118 16:00:54 @saver.py:79]\u001b[0m Model saved to ../output/Chicago/TEST/model\\model-23995.\n",
      "\u001b[32m[1118 16:00:54 @monitor.py:467]\u001b[0m GAN_loss/d_loss: -0.026803\n",
      "\u001b[32m[1118 16:00:54 @monitor.py:467]\u001b[0m GAN_loss/g_loss: -0.135\n",
      "\u001b[32m[1118 16:00:54 @monitor.py:467]\u001b[0m GAN_loss/kl_div: 0.050515\n",
      "\u001b[32m[1118 16:00:54 @monitor.py:467]\u001b[0m QueueInput/queue_size: 50\n",
      "\u001b[32m[1118 16:00:54 @base.py:275]\u001b[0m Start Epoch 942 ...\n"
     ]
    },
    {
     "name": "stderr",
     "output_type": "stream",
     "text": [
      "\n",
      "100%|#####################################################################################|17/17[00:00<00:00,38.25it/s]"
     ]
    },
    {
     "name": "stdout",
     "output_type": "stream",
     "text": [
      "\u001b[32m[1118 16:00:54 @base.py:285]\u001b[0m Epoch 942 (global_step 24020) finished, time:0.445 second.\n",
      "\u001b[32m[1118 16:00:55 @saver.py:79]\u001b[0m Model saved to ../output/Chicago/TEST/model\\model-24020.\n",
      "\u001b[32m[1118 16:00:55 @monitor.py:467]\u001b[0m GAN_loss/d_loss: -0.026245\n",
      "\u001b[32m[1118 16:00:55 @monitor.py:467]\u001b[0m GAN_loss/g_loss: -0.13465\n",
      "\u001b[32m[1118 16:00:55 @monitor.py:467]\u001b[0m GAN_loss/kl_div: 0.049759\n",
      "\u001b[32m[1118 16:00:55 @monitor.py:467]\u001b[0m QueueInput/queue_size: 50\n",
      "\u001b[32m[1118 16:00:55 @base.py:275]\u001b[0m Start Epoch 943 ...\n"
     ]
    },
    {
     "name": "stderr",
     "output_type": "stream",
     "text": [
      "\n",
      "100%|#####################################################################################|17/17[00:00<00:00,37.05it/s]"
     ]
    },
    {
     "name": "stdout",
     "output_type": "stream",
     "text": [
      "\u001b[32m[1118 16:00:55 @base.py:285]\u001b[0m Epoch 943 (global_step 24046) finished, time:0.46 second.\n",
      "\u001b[32m[1118 16:00:55 @saver.py:79]\u001b[0m Model saved to ../output/Chicago/TEST/model\\model-24046.\n",
      "\u001b[32m[1118 16:00:55 @monitor.py:467]\u001b[0m GAN_loss/d_loss: -0.026641\n",
      "\u001b[32m[1118 16:00:55 @monitor.py:467]\u001b[0m GAN_loss/g_loss: -0.13486\n",
      "\u001b[32m[1118 16:00:55 @monitor.py:467]\u001b[0m GAN_loss/kl_div: 0.052963\n",
      "\u001b[32m[1118 16:00:55 @monitor.py:467]\u001b[0m QueueInput/queue_size: 50\n",
      "\u001b[32m[1118 16:00:55 @base.py:275]\u001b[0m Start Epoch 944 ...\n"
     ]
    },
    {
     "name": "stderr",
     "output_type": "stream",
     "text": [
      "\n",
      "100%|#####################################################################################|17/17[00:00<00:00,38.30it/s]"
     ]
    },
    {
     "name": "stdout",
     "output_type": "stream",
     "text": [
      "\u001b[32m[1118 16:00:56 @base.py:285]\u001b[0m Epoch 944 (global_step 24071) finished, time:0.445 second.\n",
      "\u001b[32m[1118 16:00:56 @saver.py:79]\u001b[0m Model saved to ../output/Chicago/TEST/model\\model-24071.\n",
      "\u001b[32m[1118 16:00:56 @monitor.py:467]\u001b[0m GAN_loss/d_loss: -0.028451\n",
      "\u001b[32m[1118 16:00:56 @monitor.py:467]\u001b[0m GAN_loss/g_loss: -0.13519\n",
      "\u001b[32m[1118 16:00:56 @monitor.py:467]\u001b[0m GAN_loss/kl_div: 0.051556\n",
      "\u001b[32m[1118 16:00:56 @monitor.py:467]\u001b[0m QueueInput/queue_size: 50\n",
      "\u001b[32m[1118 16:00:56 @base.py:275]\u001b[0m Start Epoch 945 ...\n"
     ]
    },
    {
     "name": "stderr",
     "output_type": "stream",
     "text": [
      "\n",
      "100%|#####################################################################################|17/17[00:00<00:00,36.89it/s]"
     ]
    },
    {
     "name": "stdout",
     "output_type": "stream",
     "text": [
      "\u001b[32m[1118 16:00:56 @base.py:285]\u001b[0m Epoch 945 (global_step 24097) finished, time:0.461 second.\n",
      "\u001b[32m[1118 16:00:56 @saver.py:79]\u001b[0m Model saved to ../output/Chicago/TEST/model\\model-24097.\n",
      "\u001b[32m[1118 16:00:56 @monitor.py:467]\u001b[0m GAN_loss/d_loss: -0.027929\n"
     ]
    },
    {
     "name": "stderr",
     "output_type": "stream",
     "text": [
      "\n"
     ]
    },
    {
     "name": "stdout",
     "output_type": "stream",
     "text": [
      "\u001b[32m[1118 16:00:56 @monitor.py:467]\u001b[0m GAN_loss/g_loss: -0.13529\n",
      "\u001b[32m[1118 16:00:56 @monitor.py:467]\u001b[0m GAN_loss/kl_div: 0.052225\n",
      "\u001b[32m[1118 16:00:56 @monitor.py:467]\u001b[0m QueueInput/queue_size: 50\n",
      "\u001b[32m[1118 16:00:56 @base.py:275]\u001b[0m Start Epoch 946 ...\n"
     ]
    },
    {
     "name": "stderr",
     "output_type": "stream",
     "text": [
      "100%|#####################################################################################|17/17[00:00<00:00,38.12it/s]"
     ]
    },
    {
     "name": "stdout",
     "output_type": "stream",
     "text": [
      "\u001b[32m[1118 16:00:57 @base.py:285]\u001b[0m Epoch 946 (global_step 24122) finished, time:0.446 second.\n",
      "\u001b[32m[1118 16:00:57 @saver.py:79]\u001b[0m Model saved to ../output/Chicago/TEST/model\\model-24122.\n",
      "\u001b[32m[1118 16:00:57 @monitor.py:467]\u001b[0m GAN_loss/d_loss: -0.028301\n",
      "\u001b[32m[1118 16:00:57 @monitor.py:467]\u001b[0m GAN_loss/g_loss: -0.13459\n",
      "\u001b[32m[1118 16:00:57 @monitor.py:467]\u001b[0m GAN_loss/kl_div: 0.048298\n",
      "\u001b[32m[1118 16:00:57 @monitor.py:467]\u001b[0m QueueInput/queue_size: 50\n",
      "\u001b[32m[1118 16:00:57 @base.py:275]\u001b[0m Start Epoch 947 ...\n"
     ]
    },
    {
     "name": "stderr",
     "output_type": "stream",
     "text": [
      "\n",
      "100%|#####################################################################################|17/17[00:00<00:00,37.01it/s]"
     ]
    },
    {
     "name": "stdout",
     "output_type": "stream",
     "text": [
      "\u001b[32m[1118 16:00:58 @base.py:285]\u001b[0m Epoch 947 (global_step 24148) finished, time:0.46 second.\n",
      "\u001b[32m[1118 16:00:58 @saver.py:79]\u001b[0m Model saved to ../output/Chicago/TEST/model\\model-24148.\n",
      "\u001b[32m[1118 16:00:58 @monitor.py:467]\u001b[0m GAN_loss/d_loss: -0.027945\n",
      "\u001b[32m[1118 16:00:58 @monitor.py:467]\u001b[0m GAN_loss/g_loss: -0.1354\n",
      "\u001b[32m[1118 16:00:58 @monitor.py:467]\u001b[0m GAN_loss/kl_div: 0.048594\n",
      "\u001b[32m[1118 16:00:58 @monitor.py:467]\u001b[0m QueueInput/queue_size: 50\n",
      "\u001b[32m[1118 16:00:58 @base.py:275]\u001b[0m Start Epoch 948 ...\n"
     ]
    },
    {
     "name": "stderr",
     "output_type": "stream",
     "text": [
      "\n",
      "100%|#####################################################################################|17/17[00:00<00:00,38.21it/s]"
     ]
    },
    {
     "name": "stdout",
     "output_type": "stream",
     "text": [
      "\u001b[32m[1118 16:00:58 @base.py:285]\u001b[0m Epoch 948 (global_step 24173) finished, time:0.445 second.\n",
      "\u001b[32m[1118 16:00:58 @saver.py:79]\u001b[0m Model saved to ../output/Chicago/TEST/model\\model-24173.\n",
      "\u001b[32m[1118 16:00:58 @monitor.py:467]\u001b[0m GAN_loss/d_loss: -0.028653\n",
      "\u001b[32m[1118 16:00:58 @monitor.py:467]\u001b[0m GAN_loss/g_loss: -0.13525\n",
      "\u001b[32m[1118 16:00:58 @monitor.py:467]\u001b[0m GAN_loss/kl_div: 0.050018\n",
      "\u001b[32m[1118 16:00:58 @monitor.py:467]\u001b[0m QueueInput/queue_size: 50\n",
      "\u001b[32m[1118 16:00:58 @base.py:275]\u001b[0m Start Epoch 949 ...\n"
     ]
    },
    {
     "name": "stderr",
     "output_type": "stream",
     "text": [
      "\n",
      "100%|#####################################################################################|17/17[00:00<00:00,36.85it/s]"
     ]
    },
    {
     "name": "stdout",
     "output_type": "stream",
     "text": [
      "\u001b[32m[1118 16:00:59 @base.py:285]\u001b[0m Epoch 949 (global_step 24199) finished, time:0.462 second.\n",
      "\u001b[32m[1118 16:00:59 @saver.py:79]\u001b[0m Model saved to ../output/Chicago/TEST/model\\model-24199.\n",
      "\u001b[32m[1118 16:00:59 @monitor.py:467]\u001b[0m GAN_loss/d_loss: -0.027677\n",
      "\u001b[32m[1118 16:00:59 @monitor.py:467]\u001b[0m GAN_loss/g_loss: -0.13511\n",
      "\u001b[32m[1118 16:00:59 @monitor.py:467]\u001b[0m GAN_loss/kl_div: 0.047925\n",
      "\u001b[32m[1118 16:00:59 @monitor.py:467]\u001b[0m QueueInput/queue_size: 50\n",
      "\u001b[32m[1118 16:00:59 @base.py:275]\u001b[0m Start Epoch 950 ...\n"
     ]
    },
    {
     "name": "stderr",
     "output_type": "stream",
     "text": [
      "\n",
      "100%|#####################################################################################|17/17[00:00<00:00,38.12it/s]"
     ]
    },
    {
     "name": "stdout",
     "output_type": "stream",
     "text": [
      "\u001b[32m[1118 16:00:59 @base.py:285]\u001b[0m Epoch 950 (global_step 24224) finished, time:0.446 second.\n",
      "\u001b[32m[1118 16:01:00 @saver.py:79]\u001b[0m Model saved to ../output/Chicago/TEST/model\\model-24224.\n",
      "\u001b[32m[1118 16:01:00 @monitor.py:467]\u001b[0m GAN_loss/d_loss: -0.028351\n",
      "\u001b[32m[1118 16:01:00 @monitor.py:467]\u001b[0m GAN_loss/g_loss: -0.13506\n",
      "\u001b[32m[1118 16:01:00 @monitor.py:467]\u001b[0m GAN_loss/kl_div: 0.047562\n",
      "\u001b[32m[1118 16:01:00 @monitor.py:467]\u001b[0m QueueInput/queue_size: 50\n",
      "\u001b[32m[1118 16:01:00 @base.py:275]\u001b[0m Start Epoch 951 ...\n"
     ]
    },
    {
     "name": "stderr",
     "output_type": "stream",
     "text": [
      "\n",
      "100%|#####################################################################################|17/17[00:00<00:00,36.89it/s]"
     ]
    },
    {
     "name": "stdout",
     "output_type": "stream",
     "text": [
      "\u001b[32m[1118 16:01:00 @base.py:285]\u001b[0m Epoch 951 (global_step 24250) finished, time:0.462 second.\n",
      "\u001b[32m[1118 16:01:00 @saver.py:79]\u001b[0m Model saved to ../output/Chicago/TEST/model\\model-24250.\n",
      "\u001b[32m[1118 16:01:00 @monitor.py:467]\u001b[0m GAN_loss/d_loss: -0.027826\n"
     ]
    },
    {
     "name": "stderr",
     "output_type": "stream",
     "text": [
      "\n"
     ]
    },
    {
     "name": "stdout",
     "output_type": "stream",
     "text": [
      "\u001b[32m[1118 16:01:00 @monitor.py:467]\u001b[0m GAN_loss/g_loss: -0.13439\n",
      "\u001b[32m[1118 16:01:00 @monitor.py:467]\u001b[0m GAN_loss/kl_div: 0.047427\n",
      "\u001b[32m[1118 16:01:00 @monitor.py:467]\u001b[0m QueueInput/queue_size: 50\n",
      "\u001b[32m[1118 16:01:00 @base.py:275]\u001b[0m Start Epoch 952 ...\n"
     ]
    },
    {
     "name": "stderr",
     "output_type": "stream",
     "text": [
      "100%|#####################################################################################|17/17[00:00<00:00,38.12it/s]"
     ]
    },
    {
     "name": "stdout",
     "output_type": "stream",
     "text": [
      "\u001b[32m[1118 16:01:01 @base.py:285]\u001b[0m Epoch 952 (global_step 24275) finished, time:0.446 second.\n",
      "\u001b[32m[1118 16:01:01 @saver.py:79]\u001b[0m Model saved to ../output/Chicago/TEST/model\\model-24275.\n",
      "\u001b[32m[1118 16:01:01 @monitor.py:467]\u001b[0m GAN_loss/d_loss: -0.026603\n",
      "\u001b[32m[1118 16:01:01 @monitor.py:467]\u001b[0m GAN_loss/g_loss: -0.13568\n",
      "\u001b[32m[1118 16:01:01 @monitor.py:467]\u001b[0m GAN_loss/kl_div: 0.048809\n",
      "\u001b[32m[1118 16:01:01 @monitor.py:467]\u001b[0m QueueInput/queue_size: 50\n",
      "\u001b[32m[1118 16:01:01 @base.py:275]\u001b[0m Start Epoch 953 ...\n"
     ]
    },
    {
     "name": "stderr",
     "output_type": "stream",
     "text": [
      "\n",
      "100%|#####################################################################################|17/17[00:00<00:00,37.05it/s]"
     ]
    },
    {
     "name": "stdout",
     "output_type": "stream",
     "text": [
      "\u001b[32m[1118 16:01:01 @base.py:285]\u001b[0m Epoch 953 (global_step 24301) finished, time:0.459 second.\n",
      "\u001b[32m[1118 16:01:01 @saver.py:79]\u001b[0m Model saved to ../output/Chicago/TEST/model\\model-24301.\n",
      "\u001b[32m[1118 16:01:02 @monitor.py:467]\u001b[0m GAN_loss/d_loss: -0.027331\n"
     ]
    },
    {
     "name": "stderr",
     "output_type": "stream",
     "text": [
      "\n"
     ]
    },
    {
     "name": "stdout",
     "output_type": "stream",
     "text": [
      "\u001b[32m[1118 16:01:02 @monitor.py:467]\u001b[0m GAN_loss/g_loss: -0.13666\n",
      "\u001b[32m[1118 16:01:02 @monitor.py:467]\u001b[0m GAN_loss/kl_div: 0.050345\n",
      "\u001b[32m[1118 16:01:02 @monitor.py:467]\u001b[0m QueueInput/queue_size: 50\n",
      "\u001b[32m[1118 16:01:02 @base.py:275]\u001b[0m Start Epoch 954 ...\n"
     ]
    },
    {
     "name": "stderr",
     "output_type": "stream",
     "text": [
      "100%|#####################################################################################|17/17[00:00<00:00,38.21it/s]"
     ]
    },
    {
     "name": "stdout",
     "output_type": "stream",
     "text": [
      "\u001b[32m[1118 16:01:02 @base.py:285]\u001b[0m Epoch 954 (global_step 24326) finished, time:0.445 second.\n",
      "\u001b[32m[1118 16:01:02 @saver.py:79]\u001b[0m Model saved to ../output/Chicago/TEST/model\\model-24326.\n",
      "\u001b[32m[1118 16:01:02 @monitor.py:467]\u001b[0m GAN_loss/d_loss: -0.027143\n",
      "\u001b[32m[1118 16:01:02 @monitor.py:467]\u001b[0m GAN_loss/g_loss: -0.13566\n",
      "\u001b[32m[1118 16:01:02 @monitor.py:467]\u001b[0m GAN_loss/kl_div: 0.048523\n",
      "\u001b[32m[1118 16:01:02 @monitor.py:467]\u001b[0m QueueInput/queue_size: 50\n",
      "\u001b[32m[1118 16:01:02 @base.py:275]\u001b[0m Start Epoch 955 ...\n"
     ]
    },
    {
     "name": "stderr",
     "output_type": "stream",
     "text": [
      "\n",
      "100%|#####################################################################################|17/17[00:00<00:00,36.85it/s]"
     ]
    },
    {
     "name": "stdout",
     "output_type": "stream",
     "text": [
      "\u001b[32m[1118 16:01:03 @base.py:285]\u001b[0m Epoch 955 (global_step 24352) finished, time:0.462 second.\n",
      "\u001b[32m[1118 16:01:03 @saver.py:79]\u001b[0m Model saved to ../output/Chicago/TEST/model\\model-24352.\n",
      "\u001b[32m[1118 16:01:03 @monitor.py:467]\u001b[0m GAN_loss/d_loss: -0.027921\n",
      "\u001b[32m[1118 16:01:03 @monitor.py:467]\u001b[0m GAN_loss/g_loss: -0.13455\n",
      "\u001b[32m[1118 16:01:03 @monitor.py:467]\u001b[0m GAN_loss/kl_div: 0.049404\n",
      "\u001b[32m[1118 16:01:03 @monitor.py:467]\u001b[0m QueueInput/queue_size: 50\n",
      "\u001b[32m[1118 16:01:03 @base.py:275]\u001b[0m Start Epoch 956 ...\n"
     ]
    },
    {
     "name": "stderr",
     "output_type": "stream",
     "text": [
      "\n",
      "100%|#####################################################################################|17/17[00:00<00:00,38.21it/s]"
     ]
    },
    {
     "name": "stdout",
     "output_type": "stream",
     "text": [
      "\u001b[32m[1118 16:01:03 @base.py:285]\u001b[0m Epoch 956 (global_step 24377) finished, time:0.445 second.\n",
      "\u001b[32m[1118 16:01:03 @saver.py:79]\u001b[0m Model saved to ../output/Chicago/TEST/model\\model-24377.\n",
      "\u001b[32m[1118 16:01:03 @monitor.py:467]\u001b[0m GAN_loss/d_loss: -0.028112\n",
      "\u001b[32m[1118 16:01:03 @monitor.py:467]\u001b[0m GAN_loss/g_loss: -0.13388\n",
      "\u001b[32m[1118 16:01:03 @monitor.py:467]\u001b[0m GAN_loss/kl_div: 0.051081\n",
      "\u001b[32m[1118 16:01:03 @monitor.py:467]\u001b[0m QueueInput/queue_size: 50\n",
      "\u001b[32m[1118 16:01:03 @base.py:275]\u001b[0m Start Epoch 957 ...\n"
     ]
    },
    {
     "name": "stderr",
     "output_type": "stream",
     "text": [
      "\n",
      "100%|#####################################################################################|17/17[00:00<00:00,36.85it/s]"
     ]
    },
    {
     "name": "stdout",
     "output_type": "stream",
     "text": [
      "\u001b[32m[1118 16:01:04 @base.py:285]\u001b[0m Epoch 957 (global_step 24403) finished, time:0.462 second.\n",
      "\u001b[32m[1118 16:01:04 @saver.py:79]\u001b[0m Model saved to ../output/Chicago/TEST/model\\model-24403.\n",
      "\u001b[32m[1118 16:01:04 @monitor.py:467]\u001b[0m GAN_loss/d_loss: -0.028316\n",
      "\u001b[32m[1118 16:01:04 @monitor.py:467]\u001b[0m GAN_loss/g_loss: -0.1341\n",
      "\u001b[32m[1118 16:01:04 @monitor.py:467]\u001b[0m GAN_loss/kl_div: 0.050855\n"
     ]
    },
    {
     "name": "stderr",
     "output_type": "stream",
     "text": [
      "\n"
     ]
    },
    {
     "name": "stdout",
     "output_type": "stream",
     "text": [
      "\u001b[32m[1118 16:01:04 @monitor.py:467]\u001b[0m QueueInput/queue_size: 50\n",
      "\u001b[32m[1118 16:01:04 @base.py:275]\u001b[0m Start Epoch 958 ...\n"
     ]
    },
    {
     "name": "stderr",
     "output_type": "stream",
     "text": [
      "100%|#####################################################################################|17/17[00:00<00:00,38.25it/s]"
     ]
    },
    {
     "name": "stdout",
     "output_type": "stream",
     "text": [
      "\u001b[32m[1118 16:01:04 @base.py:285]\u001b[0m Epoch 958 (global_step 24428) finished, time:0.445 second.\n",
      "\u001b[32m[1118 16:01:05 @saver.py:79]\u001b[0m Model saved to ../output/Chicago/TEST/model\\model-24428.\n",
      "\u001b[32m[1118 16:01:05 @monitor.py:467]\u001b[0m GAN_loss/d_loss: -0.028068\n",
      "\u001b[32m[1118 16:01:05 @monitor.py:467]\u001b[0m GAN_loss/g_loss: -0.13504\n",
      "\u001b[32m[1118 16:01:05 @monitor.py:467]\u001b[0m GAN_loss/kl_div: 0.048282\n",
      "\u001b[32m[1118 16:01:05 @monitor.py:467]\u001b[0m QueueInput/queue_size: 50\n",
      "\u001b[32m[1118 16:01:05 @base.py:275]\u001b[0m Start Epoch 959 ...\n"
     ]
    },
    {
     "name": "stderr",
     "output_type": "stream",
     "text": [
      "\n",
      "100%|#####################################################################################|17/17[00:00<00:00,36.89it/s]"
     ]
    },
    {
     "name": "stdout",
     "output_type": "stream",
     "text": [
      "\u001b[32m[1118 16:01:05 @base.py:285]\u001b[0m Epoch 959 (global_step 24454) finished, time:0.461 second.\n",
      "\u001b[32m[1118 16:01:05 @saver.py:79]\u001b[0m Model saved to ../output/Chicago/TEST/model\\model-24454.\n",
      "\u001b[32m[1118 16:01:05 @monitor.py:467]\u001b[0m GAN_loss/d_loss: -0.027895\n"
     ]
    },
    {
     "name": "stderr",
     "output_type": "stream",
     "text": [
      "\n"
     ]
    },
    {
     "name": "stdout",
     "output_type": "stream",
     "text": [
      "\u001b[32m[1118 16:01:05 @monitor.py:467]\u001b[0m GAN_loss/g_loss: -0.13511\n",
      "\u001b[32m[1118 16:01:05 @monitor.py:467]\u001b[0m GAN_loss/kl_div: 0.047004\n",
      "\u001b[32m[1118 16:01:05 @monitor.py:467]\u001b[0m QueueInput/queue_size: 50\n",
      "\u001b[32m[1118 16:01:05 @base.py:275]\u001b[0m Start Epoch 960 ...\n"
     ]
    },
    {
     "name": "stderr",
     "output_type": "stream",
     "text": [
      "100%|#####################################################################################|17/17[00:00<00:00,38.27it/s]"
     ]
    },
    {
     "name": "stdout",
     "output_type": "stream",
     "text": [
      "\u001b[32m[1118 16:01:06 @base.py:285]\u001b[0m Epoch 960 (global_step 24479) finished, time:0.445 second.\n",
      "\u001b[32m[1118 16:01:06 @saver.py:79]\u001b[0m Model saved to ../output/Chicago/TEST/model\\model-24479.\n",
      "\u001b[32m[1118 16:01:06 @monitor.py:467]\u001b[0m GAN_loss/d_loss: -0.029414\n",
      "\u001b[32m[1118 16:01:06 @monitor.py:467]\u001b[0m GAN_loss/g_loss: -0.13327\n",
      "\u001b[32m[1118 16:01:06 @monitor.py:467]\u001b[0m GAN_loss/kl_div: 0.056127\n",
      "\u001b[32m[1118 16:01:06 @monitor.py:467]\u001b[0m QueueInput/queue_size: 50\n",
      "\u001b[32m[1118 16:01:06 @base.py:275]\u001b[0m Start Epoch 961 ...\n"
     ]
    },
    {
     "name": "stderr",
     "output_type": "stream",
     "text": [
      "\n",
      "100%|#####################################################################################|17/17[00:00<00:00,36.89it/s]"
     ]
    },
    {
     "name": "stdout",
     "output_type": "stream",
     "text": [
      "\u001b[32m[1118 16:01:06 @base.py:285]\u001b[0m Epoch 961 (global_step 24505) finished, time:0.462 second.\n",
      "\u001b[32m[1118 16:01:06 @saver.py:79]\u001b[0m Model saved to ../output/Chicago/TEST/model\\model-24505.\n",
      "\u001b[32m[1118 16:01:07 @monitor.py:467]\u001b[0m GAN_loss/d_loss: -0.028018\n",
      "\u001b[32m[1118 16:01:07 @monitor.py:467]\u001b[0m GAN_loss/g_loss: -0.13432\n",
      "\u001b[32m[1118 16:01:07 @monitor.py:467]\u001b[0m GAN_loss/kl_div: 0.049436\n",
      "\u001b[32m[1118 16:01:07 @monitor.py:467]\u001b[0m QueueInput/queue_size: 50\n",
      "\u001b[32m[1118 16:01:07 @base.py:275]\u001b[0m Start Epoch 962 ...\n"
     ]
    },
    {
     "name": "stderr",
     "output_type": "stream",
     "text": [
      "\n",
      "100%|#####################################################################################|17/17[00:00<00:00,38.25it/s]"
     ]
    },
    {
     "name": "stdout",
     "output_type": "stream",
     "text": [
      "\u001b[32m[1118 16:01:07 @base.py:285]\u001b[0m Epoch 962 (global_step 24530) finished, time:0.445 second.\n",
      "\u001b[32m[1118 16:01:07 @saver.py:79]\u001b[0m Model saved to ../output/Chicago/TEST/model\\model-24530.\n",
      "\u001b[32m[1118 16:01:07 @monitor.py:467]\u001b[0m GAN_loss/d_loss: -0.027753\n",
      "\u001b[32m[1118 16:01:07 @monitor.py:467]\u001b[0m GAN_loss/g_loss: -0.13367\n",
      "\u001b[32m[1118 16:01:07 @monitor.py:467]\u001b[0m GAN_loss/kl_div: 0.04972\n",
      "\u001b[32m[1118 16:01:07 @monitor.py:467]\u001b[0m QueueInput/queue_size: 50\n",
      "\u001b[32m[1118 16:01:07 @base.py:275]\u001b[0m Start Epoch 963 ...\n"
     ]
    },
    {
     "name": "stderr",
     "output_type": "stream",
     "text": [
      "\n",
      "100%|#####################################################################################|17/17[00:00<00:00,36.85it/s]"
     ]
    },
    {
     "name": "stdout",
     "output_type": "stream",
     "text": [
      "\u001b[32m[1118 16:01:08 @base.py:285]\u001b[0m Epoch 963 (global_step 24556) finished, time:0.462 second.\n",
      "\u001b[32m[1118 16:01:08 @saver.py:79]\u001b[0m Model saved to ../output/Chicago/TEST/model\\model-24556.\n",
      "\u001b[32m[1118 16:01:08 @monitor.py:467]\u001b[0m GAN_loss/d_loss: -0.026305\n",
      "\u001b[32m[1118 16:01:08 @monitor.py:467]\u001b[0m GAN_loss/g_loss: -0.13421\n",
      "\u001b[32m[1118 16:01:08 @monitor.py:467]\u001b[0m GAN_loss/kl_div: 0.047828\n",
      "\u001b[32m[1118 16:01:08 @monitor.py:467]\u001b[0m QueueInput/queue_size: 50\n",
      "\u001b[32m[1118 16:01:08 @base.py:275]\u001b[0m Start Epoch 964 ...\n"
     ]
    },
    {
     "name": "stderr",
     "output_type": "stream",
     "text": [
      "\n",
      "100%|#####################################################################################|17/17[00:00<00:00,38.25it/s]"
     ]
    },
    {
     "name": "stdout",
     "output_type": "stream",
     "text": [
      "\u001b[32m[1118 16:01:08 @base.py:285]\u001b[0m Epoch 964 (global_step 24581) finished, time:0.445 second.\n",
      "\u001b[32m[1118 16:01:08 @saver.py:79]\u001b[0m Model saved to ../output/Chicago/TEST/model\\model-24581.\n",
      "\u001b[32m[1118 16:01:08 @monitor.py:467]\u001b[0m GAN_loss/d_loss: -0.027219\n",
      "\u001b[32m[1118 16:01:08 @monitor.py:467]\u001b[0m GAN_loss/g_loss: -0.13369\n",
      "\u001b[32m[1118 16:01:08 @monitor.py:467]\u001b[0m GAN_loss/kl_div: 0.048542\n",
      "\u001b[32m[1118 16:01:08 @monitor.py:467]\u001b[0m QueueInput/queue_size: 50\n",
      "\u001b[32m[1118 16:01:08 @base.py:275]\u001b[0m Start Epoch 965 ...\n"
     ]
    },
    {
     "name": "stderr",
     "output_type": "stream",
     "text": [
      "\n",
      "100%|#####################################################################################|17/17[00:00<00:00,36.85it/s]"
     ]
    },
    {
     "name": "stdout",
     "output_type": "stream",
     "text": [
      "\u001b[32m[1118 16:01:09 @base.py:285]\u001b[0m Epoch 965 (global_step 24607) finished, time:0.462 second.\n",
      "\u001b[32m[1118 16:01:09 @saver.py:79]\u001b[0m Model saved to ../output/Chicago/TEST/model\\model-24607.\n",
      "\u001b[32m[1118 16:01:09 @monitor.py:467]\u001b[0m GAN_loss/d_loss: -0.026285\n",
      "\u001b[32m[1118 16:01:09 @monitor.py:467]\u001b[0m GAN_loss/g_loss: -0.13499\n",
      "\u001b[32m[1118 16:01:09 @monitor.py:467]\u001b[0m GAN_loss/kl_div: 0.04775\n",
      "\u001b[32m[1118 16:01:09 @monitor.py:467]\u001b[0m QueueInput/queue_size: 50\n",
      "\u001b[32m[1118 16:01:09 @base.py:275]\u001b[0m Start Epoch 966 ...\n"
     ]
    },
    {
     "name": "stderr",
     "output_type": "stream",
     "text": [
      "\n",
      "100%|#####################################################################################|17/17[00:00<00:00,38.12it/s]"
     ]
    },
    {
     "name": "stdout",
     "output_type": "stream",
     "text": [
      "\u001b[32m[1118 16:01:09 @base.py:285]\u001b[0m Epoch 966 (global_step 24632) finished, time:0.446 second.\n",
      "\u001b[32m[1118 16:01:10 @saver.py:79]\u001b[0m Model saved to ../output/Chicago/TEST/model\\model-24632.\n"
     ]
    },
    {
     "name": "stderr",
     "output_type": "stream",
     "text": [
      "\n"
     ]
    },
    {
     "name": "stdout",
     "output_type": "stream",
     "text": [
      "\u001b[32m[1118 16:01:10 @monitor.py:467]\u001b[0m GAN_loss/d_loss: -0.027105\n",
      "\u001b[32m[1118 16:01:10 @monitor.py:467]\u001b[0m GAN_loss/g_loss: -0.13531\n",
      "\u001b[32m[1118 16:01:10 @monitor.py:467]\u001b[0m GAN_loss/kl_div: 0.046983\n",
      "\u001b[32m[1118 16:01:10 @monitor.py:467]\u001b[0m QueueInput/queue_size: 50\n",
      "\u001b[32m[1118 16:01:10 @base.py:275]\u001b[0m Start Epoch 967 ...\n"
     ]
    },
    {
     "name": "stderr",
     "output_type": "stream",
     "text": [
      "100%|#####################################################################################|17/17[00:00<00:00,36.89it/s]"
     ]
    },
    {
     "name": "stdout",
     "output_type": "stream",
     "text": [
      "\u001b[32m[1118 16:01:10 @base.py:285]\u001b[0m Epoch 967 (global_step 24658) finished, time:0.462 second.\n",
      "\u001b[32m[1118 16:01:10 @saver.py:79]\u001b[0m Model saved to ../output/Chicago/TEST/model\\model-24658.\n",
      "\u001b[32m[1118 16:01:10 @monitor.py:467]\u001b[0m GAN_loss/d_loss: -0.026357\n",
      "\u001b[32m[1118 16:01:10 @monitor.py:467]\u001b[0m GAN_loss/g_loss: -0.13527\n",
      "\u001b[32m[1118 16:01:10 @monitor.py:467]\u001b[0m GAN_loss/kl_div: 0.05139\n",
      "\u001b[32m[1118 16:01:10 @monitor.py:467]\u001b[0m QueueInput/queue_size: 50\n",
      "\u001b[32m[1118 16:01:10 @base.py:275]\u001b[0m Start Epoch 968 ...\n"
     ]
    },
    {
     "name": "stderr",
     "output_type": "stream",
     "text": [
      "\n",
      "100%|#####################################################################################|17/17[00:00<00:00,38.25it/s]"
     ]
    },
    {
     "name": "stdout",
     "output_type": "stream",
     "text": [
      "\u001b[32m[1118 16:01:11 @base.py:285]\u001b[0m Epoch 968 (global_step 24683) finished, time:0.445 second.\n",
      "\u001b[32m[1118 16:01:11 @saver.py:79]\u001b[0m Model saved to ../output/Chicago/TEST/model\\model-24683.\n",
      "\u001b[32m[1118 16:01:11 @monitor.py:467]\u001b[0m GAN_loss/d_loss: -0.025909\n",
      "\u001b[32m[1118 16:01:11 @monitor.py:467]\u001b[0m GAN_loss/g_loss: -0.1351\n",
      "\u001b[32m[1118 16:01:11 @monitor.py:467]\u001b[0m GAN_loss/kl_div: 0.047986\n",
      "\u001b[32m[1118 16:01:11 @monitor.py:467]\u001b[0m QueueInput/queue_size: 50\n"
     ]
    },
    {
     "name": "stderr",
     "output_type": "stream",
     "text": [
      "\n"
     ]
    },
    {
     "name": "stdout",
     "output_type": "stream",
     "text": [
      "\u001b[32m[1118 16:01:11 @base.py:275]\u001b[0m Start Epoch 969 ...\n"
     ]
    },
    {
     "name": "stderr",
     "output_type": "stream",
     "text": [
      "100%|#####################################################################################|17/17[00:00<00:00,36.58it/s]"
     ]
    },
    {
     "name": "stdout",
     "output_type": "stream",
     "text": [
      "\u001b[32m[1118 16:01:11 @base.py:285]\u001b[0m Epoch 969 (global_step 24709) finished, time:0.465 second.\n",
      "\u001b[32m[1118 16:01:12 @saver.py:79]\u001b[0m Model saved to ../output/Chicago/TEST/model\\model-24709.\n",
      "\u001b[32m[1118 16:01:12 @monitor.py:467]\u001b[0m GAN_loss/d_loss: -0.027364\n"
     ]
    },
    {
     "name": "stderr",
     "output_type": "stream",
     "text": [
      "\n"
     ]
    },
    {
     "name": "stdout",
     "output_type": "stream",
     "text": [
      "\u001b[32m[1118 16:01:12 @monitor.py:467]\u001b[0m GAN_loss/g_loss: -0.1344\n",
      "\u001b[32m[1118 16:01:12 @monitor.py:467]\u001b[0m GAN_loss/kl_div: 0.050485\n",
      "\u001b[32m[1118 16:01:12 @monitor.py:467]\u001b[0m QueueInput/queue_size: 50\n",
      "\u001b[32m[1118 16:01:12 @base.py:275]\u001b[0m Start Epoch 970 ...\n"
     ]
    },
    {
     "name": "stderr",
     "output_type": "stream",
     "text": [
      "100%|#####################################################################################|17/17[00:00<00:00,38.21it/s]"
     ]
    },
    {
     "name": "stdout",
     "output_type": "stream",
     "text": [
      "\u001b[32m[1118 16:01:12 @base.py:285]\u001b[0m Epoch 970 (global_step 24734) finished, time:0.446 second.\n",
      "\u001b[32m[1118 16:01:12 @saver.py:79]\u001b[0m Model saved to ../output/Chicago/TEST/model\\model-24734.\n",
      "\u001b[32m[1118 16:01:12 @monitor.py:467]\u001b[0m GAN_loss/d_loss: -0.026835\n",
      "\u001b[32m[1118 16:01:12 @monitor.py:467]\u001b[0m GAN_loss/g_loss: -0.13571\n",
      "\u001b[32m[1118 16:01:12 @monitor.py:467]\u001b[0m GAN_loss/kl_div: 0.047382\n",
      "\u001b[32m[1118 16:01:12 @monitor.py:467]\u001b[0m QueueInput/queue_size: 50\n",
      "\u001b[32m[1118 16:01:12 @base.py:275]\u001b[0m Start Epoch 971 ...\n"
     ]
    },
    {
     "name": "stderr",
     "output_type": "stream",
     "text": [
      "\n",
      "100%|#####################################################################################|17/17[00:00<00:00,37.09it/s]"
     ]
    },
    {
     "name": "stdout",
     "output_type": "stream",
     "text": [
      "\u001b[32m[1118 16:01:13 @base.py:285]\u001b[0m Epoch 971 (global_step 24760) finished, time:0.459 second.\n",
      "\u001b[32m[1118 16:01:13 @saver.py:79]\u001b[0m Model saved to ../output/Chicago/TEST/model\\model-24760.\n",
      "\u001b[32m[1118 16:01:13 @monitor.py:467]\u001b[0m GAN_loss/d_loss: -0.027732\n"
     ]
    },
    {
     "name": "stderr",
     "output_type": "stream",
     "text": [
      "\n"
     ]
    },
    {
     "name": "stdout",
     "output_type": "stream",
     "text": [
      "\u001b[32m[1118 16:01:13 @monitor.py:467]\u001b[0m GAN_loss/g_loss: -0.13526\n",
      "\u001b[32m[1118 16:01:13 @monitor.py:467]\u001b[0m GAN_loss/kl_div: 0.050659\n",
      "\u001b[32m[1118 16:01:13 @monitor.py:467]\u001b[0m QueueInput/queue_size: 50\n",
      "\u001b[32m[1118 16:01:13 @base.py:275]\u001b[0m Start Epoch 972 ...\n"
     ]
    },
    {
     "name": "stderr",
     "output_type": "stream",
     "text": [
      "100%|#####################################################################################|17/17[00:00<00:00,38.04it/s]"
     ]
    },
    {
     "name": "stdout",
     "output_type": "stream",
     "text": [
      "\u001b[32m[1118 16:01:13 @base.py:285]\u001b[0m Epoch 972 (global_step 24785) finished, time:0.447 second.\n",
      "\u001b[32m[1118 16:01:13 @saver.py:79]\u001b[0m Model saved to ../output/Chicago/TEST/model\\model-24785.\n",
      "\u001b[32m[1118 16:01:13 @monitor.py:467]\u001b[0m GAN_loss/d_loss: -0.02648\n"
     ]
    },
    {
     "name": "stderr",
     "output_type": "stream",
     "text": [
      "\n"
     ]
    },
    {
     "name": "stdout",
     "output_type": "stream",
     "text": [
      "\u001b[32m[1118 16:01:13 @monitor.py:467]\u001b[0m GAN_loss/g_loss: -0.13538\n",
      "\u001b[32m[1118 16:01:13 @monitor.py:467]\u001b[0m GAN_loss/kl_div: 0.052418\n",
      "\u001b[32m[1118 16:01:13 @monitor.py:467]\u001b[0m QueueInput/queue_size: 50\n",
      "\u001b[32m[1118 16:01:14 @base.py:275]\u001b[0m Start Epoch 973 ...\n"
     ]
    },
    {
     "name": "stderr",
     "output_type": "stream",
     "text": [
      "100%|#####################################################################################|17/17[00:00<00:00,36.74it/s]"
     ]
    },
    {
     "name": "stdout",
     "output_type": "stream",
     "text": [
      "\u001b[32m[1118 16:01:14 @base.py:285]\u001b[0m Epoch 973 (global_step 24811) finished, time:0.463 second.\n",
      "\u001b[32m[1118 16:01:14 @saver.py:79]\u001b[0m Model saved to ../output/Chicago/TEST/model\\model-24811.\n",
      "\u001b[32m[1118 16:01:14 @monitor.py:467]\u001b[0m GAN_loss/d_loss: -0.027532\n",
      "\u001b[32m[1118 16:01:14 @monitor.py:467]\u001b[0m GAN_loss/g_loss: -0.13568\n",
      "\u001b[32m[1118 16:01:14 @monitor.py:467]\u001b[0m GAN_loss/kl_div: 0.049203\n",
      "\u001b[32m[1118 16:01:14 @monitor.py:467]\u001b[0m QueueInput/queue_size: 50\n",
      "\u001b[32m[1118 16:01:14 @base.py:275]\u001b[0m Start Epoch 974 ...\n"
     ]
    },
    {
     "name": "stderr",
     "output_type": "stream",
     "text": [
      "\n",
      "100%|#####################################################################################|17/17[00:00<00:00,38.21it/s]"
     ]
    },
    {
     "name": "stdout",
     "output_type": "stream",
     "text": [
      "\u001b[32m[1118 16:01:15 @base.py:285]\u001b[0m Epoch 974 (global_step 24836) finished, time:0.445 second.\n",
      "\u001b[32m[1118 16:01:15 @saver.py:79]\u001b[0m Model saved to ../output/Chicago/TEST/model\\model-24836.\n",
      "\u001b[32m[1118 16:01:15 @monitor.py:467]\u001b[0m GAN_loss/d_loss: -0.026999\n"
     ]
    },
    {
     "name": "stderr",
     "output_type": "stream",
     "text": [
      "\n"
     ]
    },
    {
     "name": "stdout",
     "output_type": "stream",
     "text": [
      "\u001b[32m[1118 16:01:15 @monitor.py:467]\u001b[0m GAN_loss/g_loss: -0.13573\n",
      "\u001b[32m[1118 16:01:15 @monitor.py:467]\u001b[0m GAN_loss/kl_div: 0.046394\n",
      "\u001b[32m[1118 16:01:15 @monitor.py:467]\u001b[0m QueueInput/queue_size: 50\n",
      "\u001b[32m[1118 16:01:15 @base.py:275]\u001b[0m Start Epoch 975 ...\n"
     ]
    },
    {
     "name": "stderr",
     "output_type": "stream",
     "text": [
      "100%|#####################################################################################|17/17[00:00<00:00,37.01it/s]"
     ]
    },
    {
     "name": "stdout",
     "output_type": "stream",
     "text": [
      "\u001b[32m[1118 16:01:15 @base.py:285]\u001b[0m Epoch 975 (global_step 24862) finished, time:0.46 second.\n",
      "\u001b[32m[1118 16:01:15 @saver.py:79]\u001b[0m Model saved to ../output/Chicago/TEST/model\\model-24862.\n",
      "\u001b[32m[1118 16:01:15 @monitor.py:467]\u001b[0m GAN_loss/d_loss: -0.028265\n"
     ]
    },
    {
     "name": "stderr",
     "output_type": "stream",
     "text": [
      "\n"
     ]
    },
    {
     "name": "stdout",
     "output_type": "stream",
     "text": [
      "\u001b[32m[1118 16:01:15 @monitor.py:467]\u001b[0m GAN_loss/g_loss: -0.13496\n",
      "\u001b[32m[1118 16:01:15 @monitor.py:467]\u001b[0m GAN_loss/kl_div: 0.048012\n",
      "\u001b[32m[1118 16:01:15 @monitor.py:467]\u001b[0m QueueInput/queue_size: 50\n",
      "\u001b[32m[1118 16:01:15 @base.py:275]\u001b[0m Start Epoch 976 ...\n"
     ]
    },
    {
     "name": "stderr",
     "output_type": "stream",
     "text": [
      "100%|#####################################################################################|17/17[00:00<00:00,38.21it/s]"
     ]
    },
    {
     "name": "stdout",
     "output_type": "stream",
     "text": [
      "\u001b[32m[1118 16:01:16 @base.py:285]\u001b[0m Epoch 976 (global_step 24887) finished, time:0.445 second.\n",
      "\u001b[32m[1118 16:01:16 @saver.py:79]\u001b[0m Model saved to ../output/Chicago/TEST/model\\model-24887.\n",
      "\u001b[32m[1118 16:01:16 @monitor.py:467]\u001b[0m GAN_loss/d_loss: -0.026911\n",
      "\u001b[32m[1118 16:01:16 @monitor.py:467]\u001b[0m GAN_loss/g_loss: -0.13523\n",
      "\u001b[32m[1118 16:01:16 @monitor.py:467]\u001b[0m GAN_loss/kl_div: 0.04789\n",
      "\u001b[32m[1118 16:01:16 @monitor.py:467]\u001b[0m QueueInput/queue_size: 50\n",
      "\u001b[32m[1118 16:01:16 @base.py:275]\u001b[0m Start Epoch 977 ...\n"
     ]
    },
    {
     "name": "stderr",
     "output_type": "stream",
     "text": [
      "\n",
      "100%|#####################################################################################|17/17[00:00<00:00,37.01it/s]"
     ]
    },
    {
     "name": "stdout",
     "output_type": "stream",
     "text": [
      "\u001b[32m[1118 16:01:16 @base.py:285]\u001b[0m Epoch 977 (global_step 24913) finished, time:0.46 second.\n",
      "\u001b[32m[1118 16:01:17 @saver.py:79]\u001b[0m Model saved to ../output/Chicago/TEST/model\\model-24913.\n",
      "\u001b[32m[1118 16:01:17 @monitor.py:467]\u001b[0m GAN_loss/d_loss: -0.026884\n"
     ]
    },
    {
     "name": "stderr",
     "output_type": "stream",
     "text": [
      "\n"
     ]
    },
    {
     "name": "stdout",
     "output_type": "stream",
     "text": [
      "\u001b[32m[1118 16:01:17 @monitor.py:467]\u001b[0m GAN_loss/g_loss: -0.13534\n",
      "\u001b[32m[1118 16:01:17 @monitor.py:467]\u001b[0m GAN_loss/kl_div: 0.04689\n",
      "\u001b[32m[1118 16:01:17 @monitor.py:467]\u001b[0m QueueInput/queue_size: 50\n",
      "\u001b[32m[1118 16:01:17 @base.py:275]\u001b[0m Start Epoch 978 ...\n"
     ]
    },
    {
     "name": "stderr",
     "output_type": "stream",
     "text": [
      "100%|#####################################################################################|17/17[00:00<00:00,38.17it/s]"
     ]
    },
    {
     "name": "stdout",
     "output_type": "stream",
     "text": [
      "\u001b[32m[1118 16:01:17 @base.py:285]\u001b[0m Epoch 978 (global_step 24938) finished, time:0.446 second.\n",
      "\u001b[32m[1118 16:01:17 @saver.py:79]\u001b[0m Model saved to ../output/Chicago/TEST/model\\model-24938.\n",
      "\u001b[32m[1118 16:01:17 @monitor.py:467]\u001b[0m GAN_loss/d_loss: -0.026157\n"
     ]
    },
    {
     "name": "stderr",
     "output_type": "stream",
     "text": [
      "\n"
     ]
    },
    {
     "name": "stdout",
     "output_type": "stream",
     "text": [
      "\u001b[32m[1118 16:01:17 @monitor.py:467]\u001b[0m GAN_loss/g_loss: -0.13491\n",
      "\u001b[32m[1118 16:01:17 @monitor.py:467]\u001b[0m GAN_loss/kl_div: 0.050075\n",
      "\u001b[32m[1118 16:01:17 @monitor.py:467]\u001b[0m QueueInput/queue_size: 50\n",
      "\u001b[32m[1118 16:01:17 @base.py:275]\u001b[0m Start Epoch 979 ...\n"
     ]
    },
    {
     "name": "stderr",
     "output_type": "stream",
     "text": [
      "100%|#####################################################################################|17/17[00:00<00:00,37.25it/s]"
     ]
    },
    {
     "name": "stdout",
     "output_type": "stream",
     "text": [
      "\u001b[32m[1118 16:01:18 @base.py:285]\u001b[0m Epoch 979 (global_step 24964) finished, time:0.457 second.\n",
      "\u001b[32m[1118 16:01:18 @saver.py:79]\u001b[0m Model saved to ../output/Chicago/TEST/model\\model-24964.\n",
      "\u001b[32m[1118 16:01:18 @monitor.py:467]\u001b[0m GAN_loss/d_loss: -0.026693\n",
      "\u001b[32m[1118 16:01:18 @monitor.py:467]\u001b[0m GAN_loss/g_loss: -0.13454\n"
     ]
    },
    {
     "name": "stderr",
     "output_type": "stream",
     "text": [
      "\n"
     ]
    },
    {
     "name": "stdout",
     "output_type": "stream",
     "text": [
      "\u001b[32m[1118 16:01:18 @monitor.py:467]\u001b[0m GAN_loss/kl_div: 0.045122\n",
      "\u001b[32m[1118 16:01:18 @monitor.py:467]\u001b[0m QueueInput/queue_size: 50\n",
      "\u001b[32m[1118 16:01:18 @base.py:275]\u001b[0m Start Epoch 980 ...\n"
     ]
    },
    {
     "name": "stderr",
     "output_type": "stream",
     "text": [
      "100%|#####################################################################################|17/17[00:00<00:00,38.17it/s]"
     ]
    },
    {
     "name": "stdout",
     "output_type": "stream",
     "text": [
      "\u001b[32m[1118 16:01:18 @base.py:285]\u001b[0m Epoch 980 (global_step 24989) finished, time:0.446 second.\n",
      "\u001b[32m[1118 16:01:18 @saver.py:79]\u001b[0m Model saved to ../output/Chicago/TEST/model\\model-24989.\n",
      "\u001b[32m[1118 16:01:19 @monitor.py:467]\u001b[0m GAN_loss/d_loss: -0.027089\n",
      "\u001b[32m[1118 16:01:19 @monitor.py:467]\u001b[0m GAN_loss/g_loss: -0.13538\n",
      "\u001b[32m[1118 16:01:19 @monitor.py:467]\u001b[0m GAN_loss/kl_div: 0.048654\n",
      "\u001b[32m[1118 16:01:19 @monitor.py:467]\u001b[0m QueueInput/queue_size: 50\n",
      "\u001b[32m[1118 16:01:19 @base.py:275]\u001b[0m Start Epoch 981 ...\n"
     ]
    },
    {
     "name": "stderr",
     "output_type": "stream",
     "text": [
      "\n",
      "100%|#####################################################################################|17/17[00:00<00:00,37.09it/s]"
     ]
    },
    {
     "name": "stdout",
     "output_type": "stream",
     "text": [
      "\u001b[32m[1118 16:01:19 @base.py:285]\u001b[0m Epoch 981 (global_step 25015) finished, time:0.459 second.\n",
      "\u001b[32m[1118 16:01:19 @saver.py:79]\u001b[0m Model saved to ../output/Chicago/TEST/model\\model-25015.\n",
      "\u001b[32m[1118 16:01:19 @monitor.py:467]\u001b[0m GAN_loss/d_loss: -0.026693\n",
      "\u001b[32m[1118 16:01:19 @monitor.py:467]\u001b[0m GAN_loss/g_loss: -0.1349\n",
      "\u001b[32m[1118 16:01:19 @monitor.py:467]\u001b[0m GAN_loss/kl_div: 0.047674\n",
      "\u001b[32m[1118 16:01:19 @monitor.py:467]\u001b[0m QueueInput/queue_size: 50\n",
      "\u001b[32m[1118 16:01:19 @base.py:275]\u001b[0m Start Epoch 982 ...\n"
     ]
    },
    {
     "name": "stderr",
     "output_type": "stream",
     "text": [
      "\n",
      "100%|#####################################################################################|17/17[00:00<00:00,38.00it/s]"
     ]
    },
    {
     "name": "stdout",
     "output_type": "stream",
     "text": [
      "\u001b[32m[1118 16:01:20 @base.py:285]\u001b[0m Epoch 982 (global_step 25040) finished, time:0.448 second.\n",
      "\u001b[32m[1118 16:01:20 @saver.py:79]\u001b[0m Model saved to ../output/Chicago/TEST/model\\model-25040.\n",
      "\u001b[32m[1118 16:01:20 @monitor.py:467]\u001b[0m GAN_loss/d_loss: -0.027672\n",
      "\u001b[32m[1118 16:01:20 @monitor.py:467]\u001b[0m GAN_loss/g_loss: -0.13461\n",
      "\u001b[32m[1118 16:01:20 @monitor.py:467]\u001b[0m GAN_loss/kl_div: 0.048389\n",
      "\u001b[32m[1118 16:01:20 @monitor.py:467]\u001b[0m QueueInput/queue_size: 50\n",
      "\u001b[32m[1118 16:01:20 @base.py:275]\u001b[0m Start Epoch 983 ...\n"
     ]
    },
    {
     "name": "stderr",
     "output_type": "stream",
     "text": [
      "\n",
      "100%|#####################################################################################|17/17[00:00<00:00,37.17it/s]"
     ]
    },
    {
     "name": "stdout",
     "output_type": "stream",
     "text": [
      "\u001b[32m[1118 16:01:20 @base.py:285]\u001b[0m Epoch 983 (global_step 25066) finished, time:0.458 second.\n",
      "\u001b[32m[1118 16:01:20 @saver.py:79]\u001b[0m Model saved to ../output/Chicago/TEST/model\\model-25066.\n",
      "\u001b[32m[1118 16:01:20 @monitor.py:467]\u001b[0m GAN_loss/d_loss: -0.027842\n"
     ]
    },
    {
     "name": "stderr",
     "output_type": "stream",
     "text": [
      "\n"
     ]
    },
    {
     "name": "stdout",
     "output_type": "stream",
     "text": [
      "\u001b[32m[1118 16:01:20 @monitor.py:467]\u001b[0m GAN_loss/g_loss: -0.1351\n",
      "\u001b[32m[1118 16:01:20 @monitor.py:467]\u001b[0m GAN_loss/kl_div: 0.047946\n",
      "\u001b[32m[1118 16:01:20 @monitor.py:467]\u001b[0m QueueInput/queue_size: 50\n",
      "\u001b[32m[1118 16:01:20 @base.py:275]\u001b[0m Start Epoch 984 ...\n"
     ]
    },
    {
     "name": "stderr",
     "output_type": "stream",
     "text": [
      "100%|#####################################################################################|17/17[00:00<00:00,38.25it/s]"
     ]
    },
    {
     "name": "stdout",
     "output_type": "stream",
     "text": [
      "\u001b[32m[1118 16:01:21 @base.py:285]\u001b[0m Epoch 984 (global_step 25091) finished, time:0.445 second.\n",
      "\u001b[32m[1118 16:01:21 @saver.py:79]\u001b[0m Model saved to ../output/Chicago/TEST/model\\model-25091.\n",
      "\u001b[32m[1118 16:01:21 @monitor.py:467]\u001b[0m GAN_loss/d_loss: -0.026699\n",
      "\u001b[32m[1118 16:01:21 @monitor.py:467]\u001b[0m GAN_loss/g_loss: -0.13465\n",
      "\u001b[32m[1118 16:01:21 @monitor.py:467]\u001b[0m GAN_loss/kl_div: 0.052756\n",
      "\u001b[32m[1118 16:01:21 @monitor.py:467]\u001b[0m QueueInput/queue_size: 50\n",
      "\u001b[32m[1118 16:01:21 @base.py:275]\u001b[0m Start Epoch 985 ...\n"
     ]
    },
    {
     "name": "stderr",
     "output_type": "stream",
     "text": [
      "\n",
      "100%|#####################################################################################|17/17[00:00<00:00,37.01it/s]"
     ]
    },
    {
     "name": "stdout",
     "output_type": "stream",
     "text": [
      "\u001b[32m[1118 16:01:22 @base.py:285]\u001b[0m Epoch 985 (global_step 25117) finished, time:0.46 second.\n",
      "\u001b[32m[1118 16:01:22 @saver.py:79]\u001b[0m Model saved to ../output/Chicago/TEST/model\\model-25117.\n",
      "\u001b[32m[1118 16:01:22 @monitor.py:467]\u001b[0m GAN_loss/d_loss: -0.02726\n"
     ]
    },
    {
     "name": "stderr",
     "output_type": "stream",
     "text": [
      "\n"
     ]
    },
    {
     "name": "stdout",
     "output_type": "stream",
     "text": [
      "\u001b[32m[1118 16:01:22 @monitor.py:467]\u001b[0m GAN_loss/g_loss: -0.13451\n",
      "\u001b[32m[1118 16:01:22 @monitor.py:467]\u001b[0m GAN_loss/kl_div: 0.052183\n",
      "\u001b[32m[1118 16:01:22 @monitor.py:467]\u001b[0m QueueInput/queue_size: 50\n",
      "\u001b[32m[1118 16:01:22 @base.py:275]\u001b[0m Start Epoch 986 ...\n"
     ]
    },
    {
     "name": "stderr",
     "output_type": "stream",
     "text": [
      "100%|#####################################################################################|17/17[00:00<00:00,37.66it/s]"
     ]
    },
    {
     "name": "stdout",
     "output_type": "stream",
     "text": [
      "\u001b[32m[1118 16:01:22 @base.py:285]\u001b[0m Epoch 986 (global_step 25142) finished, time:0.452 second.\n",
      "\u001b[32m[1118 16:01:22 @saver.py:79]\u001b[0m Model saved to ../output/Chicago/TEST/model\\model-25142.\n",
      "\u001b[32m[1118 16:01:22 @monitor.py:467]\u001b[0m GAN_loss/d_loss: -0.027956\n",
      "\u001b[32m[1118 16:01:22 @monitor.py:467]\u001b[0m GAN_loss/g_loss: -0.13443\n",
      "\u001b[32m[1118 16:01:22 @monitor.py:467]\u001b[0m GAN_loss/kl_div: 0.049748\n",
      "\u001b[32m[1118 16:01:22 @monitor.py:467]\u001b[0m QueueInput/queue_size: 50\n",
      "\u001b[32m[1118 16:01:22 @base.py:275]\u001b[0m Start Epoch 987 ...\n"
     ]
    },
    {
     "name": "stderr",
     "output_type": "stream",
     "text": [
      "\n",
      "100%|#####################################################################################|17/17[00:00<00:00,36.93it/s]"
     ]
    },
    {
     "name": "stdout",
     "output_type": "stream",
     "text": [
      "\u001b[32m[1118 16:01:23 @base.py:285]\u001b[0m Epoch 987 (global_step 25168) finished, time:0.461 second.\n",
      "\u001b[32m[1118 16:01:23 @saver.py:79]\u001b[0m Model saved to ../output/Chicago/TEST/model\\model-25168.\n",
      "\u001b[32m[1118 16:01:23 @monitor.py:467]\u001b[0m GAN_loss/d_loss: -0.026644\n"
     ]
    },
    {
     "name": "stderr",
     "output_type": "stream",
     "text": [
      "\n"
     ]
    },
    {
     "name": "stdout",
     "output_type": "stream",
     "text": [
      "\u001b[32m[1118 16:01:23 @monitor.py:467]\u001b[0m GAN_loss/g_loss: -0.13479\n",
      "\u001b[32m[1118 16:01:23 @monitor.py:467]\u001b[0m GAN_loss/kl_div: 0.049039\n",
      "\u001b[32m[1118 16:01:23 @monitor.py:467]\u001b[0m QueueInput/queue_size: 50\n",
      "\u001b[32m[1118 16:01:23 @base.py:275]\u001b[0m Start Epoch 988 ...\n"
     ]
    },
    {
     "name": "stderr",
     "output_type": "stream",
     "text": [
      "100%|#####################################################################################|17/17[00:00<00:00,38.12it/s]"
     ]
    },
    {
     "name": "stdout",
     "output_type": "stream",
     "text": [
      "\u001b[32m[1118 16:01:23 @base.py:285]\u001b[0m Epoch 988 (global_step 25193) finished, time:0.446 second.\n",
      "\u001b[32m[1118 16:01:24 @saver.py:79]\u001b[0m Model saved to ../output/Chicago/TEST/model\\model-25193.\n",
      "\u001b[32m[1118 16:01:24 @monitor.py:467]\u001b[0m GAN_loss/d_loss: -0.026039\n",
      "\u001b[32m[1118 16:01:24 @monitor.py:467]\u001b[0m GAN_loss/g_loss: -0.13619\n",
      "\u001b[32m[1118 16:01:24 @monitor.py:467]\u001b[0m GAN_loss/kl_div: 0.048382\n",
      "\u001b[32m[1118 16:01:24 @monitor.py:467]\u001b[0m QueueInput/queue_size: 50\n",
      "\u001b[32m[1118 16:01:24 @base.py:275]\u001b[0m Start Epoch 989 ...\n"
     ]
    },
    {
     "name": "stderr",
     "output_type": "stream",
     "text": [
      "\n",
      "100%|#####################################################################################|17/17[00:00<00:00,37.01it/s]"
     ]
    },
    {
     "name": "stdout",
     "output_type": "stream",
     "text": [
      "\u001b[32m[1118 16:01:24 @base.py:285]\u001b[0m Epoch 989 (global_step 25219) finished, time:0.46 second.\n",
      "\u001b[32m[1118 16:01:24 @saver.py:79]\u001b[0m Model saved to ../output/Chicago/TEST/model\\model-25219.\n",
      "\u001b[32m[1118 16:01:24 @monitor.py:467]\u001b[0m GAN_loss/d_loss: -0.027296\n"
     ]
    },
    {
     "name": "stderr",
     "output_type": "stream",
     "text": [
      "\n"
     ]
    },
    {
     "name": "stdout",
     "output_type": "stream",
     "text": [
      "\u001b[32m[1118 16:01:24 @monitor.py:467]\u001b[0m GAN_loss/g_loss: -0.13569\n",
      "\u001b[32m[1118 16:01:24 @monitor.py:467]\u001b[0m GAN_loss/kl_div: 0.049654\n",
      "\u001b[32m[1118 16:01:24 @monitor.py:467]\u001b[0m QueueInput/queue_size: 50\n",
      "\u001b[32m[1118 16:01:24 @base.py:275]\u001b[0m Start Epoch 990 ...\n"
     ]
    },
    {
     "name": "stderr",
     "output_type": "stream",
     "text": [
      "100%|#####################################################################################|17/17[00:00<00:00,38.17it/s]"
     ]
    },
    {
     "name": "stdout",
     "output_type": "stream",
     "text": [
      "\u001b[32m[1118 16:01:25 @base.py:285]\u001b[0m Epoch 990 (global_step 25244) finished, time:0.446 second.\n",
      "\u001b[32m[1118 16:01:25 @saver.py:79]\u001b[0m Model saved to ../output/Chicago/TEST/model\\model-25244.\n",
      "\u001b[32m[1118 16:01:25 @monitor.py:467]\u001b[0m GAN_loss/d_loss: -0.027087\n",
      "\u001b[32m[1118 16:01:25 @monitor.py:467]\u001b[0m GAN_loss/g_loss: -0.13526\n",
      "\u001b[32m[1118 16:01:25 @monitor.py:467]\u001b[0m GAN_loss/kl_div: 0.051772\n",
      "\u001b[32m[1118 16:01:25 @monitor.py:467]\u001b[0m QueueInput/queue_size: 50\n",
      "\u001b[32m[1118 16:01:25 @base.py:275]\u001b[0m Start Epoch 991 ...\n"
     ]
    },
    {
     "name": "stderr",
     "output_type": "stream",
     "text": [
      "\n",
      "100%|#####################################################################################|17/17[00:00<00:00,37.25it/s]"
     ]
    },
    {
     "name": "stdout",
     "output_type": "stream",
     "text": [
      "\u001b[32m[1118 16:01:25 @base.py:285]\u001b[0m Epoch 991 (global_step 25270) finished, time:0.457 second.\n",
      "\u001b[32m[1118 16:01:25 @saver.py:79]\u001b[0m Model saved to ../output/Chicago/TEST/model\\model-25270.\n",
      "\u001b[32m[1118 16:01:26 @monitor.py:467]\u001b[0m GAN_loss/d_loss: -0.02723\n",
      "\u001b[32m[1118 16:01:26 @monitor.py:467]\u001b[0m GAN_loss/g_loss: -0.13495\n",
      "\u001b[32m[1118 16:01:26 @monitor.py:467]\u001b[0m GAN_loss/kl_div: 0.049507\n",
      "\u001b[32m[1118 16:01:26 @monitor.py:467]\u001b[0m QueueInput/queue_size: 50\n",
      "\u001b[32m[1118 16:01:26 @base.py:275]\u001b[0m Start Epoch 992 ...\n"
     ]
    },
    {
     "name": "stderr",
     "output_type": "stream",
     "text": [
      "\n",
      "100%|#####################################################################################|17/17[00:00<00:00,38.17it/s]"
     ]
    },
    {
     "name": "stdout",
     "output_type": "stream",
     "text": [
      "\u001b[32m[1118 16:01:26 @base.py:285]\u001b[0m Epoch 992 (global_step 25295) finished, time:0.446 second.\n",
      "\u001b[32m[1118 16:01:26 @saver.py:79]\u001b[0m Model saved to ../output/Chicago/TEST/model\\model-25295.\n",
      "\u001b[32m[1118 16:01:26 @monitor.py:467]\u001b[0m GAN_loss/d_loss: -0.027243\n",
      "\u001b[32m[1118 16:01:26 @monitor.py:467]\u001b[0m GAN_loss/g_loss: -0.13508\n",
      "\u001b[32m[1118 16:01:26 @monitor.py:467]\u001b[0m GAN_loss/kl_div: 0.048208\n",
      "\u001b[32m[1118 16:01:26 @monitor.py:467]\u001b[0m QueueInput/queue_size: 50\n",
      "\u001b[32m[1118 16:01:26 @base.py:275]\u001b[0m Start Epoch 993 ...\n"
     ]
    },
    {
     "name": "stderr",
     "output_type": "stream",
     "text": [
      "\n",
      "100%|#####################################################################################|17/17[00:00<00:00,37.05it/s]"
     ]
    },
    {
     "name": "stdout",
     "output_type": "stream",
     "text": [
      "\u001b[32m[1118 16:01:27 @base.py:285]\u001b[0m Epoch 993 (global_step 25321) finished, time:0.459 second.\n",
      "\u001b[32m[1118 16:01:27 @saver.py:79]\u001b[0m Model saved to ../output/Chicago/TEST/model\\model-25321.\n",
      "\u001b[32m[1118 16:01:27 @monitor.py:467]\u001b[0m GAN_loss/d_loss: -0.026706\n",
      "\u001b[32m[1118 16:01:27 @monitor.py:467]\u001b[0m GAN_loss/g_loss: -0.13518\n",
      "\u001b[32m[1118 16:01:27 @monitor.py:467]\u001b[0m GAN_loss/kl_div: 0.048376\n",
      "\u001b[32m[1118 16:01:27 @monitor.py:467]\u001b[0m QueueInput/queue_size: 50\n",
      "\u001b[32m[1118 16:01:27 @base.py:275]\u001b[0m Start Epoch 994 ...\n"
     ]
    },
    {
     "name": "stderr",
     "output_type": "stream",
     "text": [
      "\n",
      "100%|#####################################################################################|17/17[00:00<00:00,38.25it/s]"
     ]
    },
    {
     "name": "stdout",
     "output_type": "stream",
     "text": [
      "\u001b[32m[1118 16:01:27 @base.py:285]\u001b[0m Epoch 994 (global_step 25346) finished, time:0.445 second.\n",
      "\u001b[32m[1118 16:01:27 @saver.py:79]\u001b[0m Model saved to ../output/Chicago/TEST/model\\model-25346.\n",
      "\u001b[32m[1118 16:01:27 @monitor.py:467]\u001b[0m GAN_loss/d_loss: -0.026019\n",
      "\u001b[32m[1118 16:01:27 @monitor.py:467]\u001b[0m GAN_loss/g_loss: -0.13482\n",
      "\u001b[32m[1118 16:01:27 @monitor.py:467]\u001b[0m GAN_loss/kl_div: 0.051234\n",
      "\u001b[32m[1118 16:01:27 @monitor.py:467]\u001b[0m QueueInput/queue_size: 50\n",
      "\u001b[32m[1118 16:01:27 @base.py:275]\u001b[0m Start Epoch 995 ...\n"
     ]
    },
    {
     "name": "stderr",
     "output_type": "stream",
     "text": [
      "\n",
      "100%|#####################################################################################|17/17[00:00<00:00,37.05it/s]"
     ]
    },
    {
     "name": "stdout",
     "output_type": "stream",
     "text": [
      "\u001b[32m[1118 16:01:28 @base.py:285]\u001b[0m Epoch 995 (global_step 25372) finished, time:0.459 second.\n",
      "\u001b[32m[1118 16:01:28 @saver.py:79]\u001b[0m Model saved to ../output/Chicago/TEST/model\\model-25372.\n",
      "\u001b[32m[1118 16:01:28 @monitor.py:467]\u001b[0m GAN_loss/d_loss: -0.026411\n",
      "\u001b[32m[1118 16:01:28 @monitor.py:467]\u001b[0m GAN_loss/g_loss: -0.13529\n",
      "\u001b[32m[1118 16:01:28 @monitor.py:467]\u001b[0m GAN_loss/kl_div: 0.050576\n",
      "\u001b[32m[1118 16:01:28 @monitor.py:467]\u001b[0m QueueInput/queue_size: 50\n",
      "\u001b[32m[1118 16:01:28 @base.py:275]\u001b[0m Start Epoch 996 ...\n"
     ]
    },
    {
     "name": "stderr",
     "output_type": "stream",
     "text": [
      "\n",
      "100%|#####################################################################################|17/17[00:00<00:00,38.21it/s]"
     ]
    },
    {
     "name": "stdout",
     "output_type": "stream",
     "text": [
      "\u001b[32m[1118 16:01:28 @base.py:285]\u001b[0m Epoch 996 (global_step 25397) finished, time:0.445 second.\n",
      "\u001b[32m[1118 16:01:29 @saver.py:79]\u001b[0m Model saved to ../output/Chicago/TEST/model\\model-25397.\n",
      "\u001b[32m[1118 16:01:29 @monitor.py:467]\u001b[0m GAN_loss/d_loss: -0.026599\n",
      "\u001b[32m[1118 16:01:29 @monitor.py:467]\u001b[0m GAN_loss/g_loss: -0.13607\n",
      "\u001b[32m[1118 16:01:29 @monitor.py:467]\u001b[0m GAN_loss/kl_div: 0.051633\n",
      "\u001b[32m[1118 16:01:29 @monitor.py:467]\u001b[0m QueueInput/queue_size: 50\n",
      "\u001b[32m[1118 16:01:29 @base.py:275]\u001b[0m Start Epoch 997 ...\n"
     ]
    },
    {
     "name": "stderr",
     "output_type": "stream",
     "text": [
      "\n",
      "100%|#####################################################################################|17/17[00:00<00:00,36.93it/s]"
     ]
    },
    {
     "name": "stdout",
     "output_type": "stream",
     "text": [
      "\u001b[32m[1118 16:01:29 @base.py:285]\u001b[0m Epoch 997 (global_step 25423) finished, time:0.461 second.\n",
      "\u001b[32m[1118 16:01:29 @saver.py:79]\u001b[0m Model saved to ../output/Chicago/TEST/model\\model-25423.\n",
      "\u001b[32m[1118 16:01:29 @monitor.py:467]\u001b[0m GAN_loss/d_loss: -0.02728\n"
     ]
    },
    {
     "name": "stderr",
     "output_type": "stream",
     "text": [
      "\n"
     ]
    },
    {
     "name": "stdout",
     "output_type": "stream",
     "text": [
      "\u001b[32m[1118 16:01:29 @monitor.py:467]\u001b[0m GAN_loss/g_loss: -0.13521\n",
      "\u001b[32m[1118 16:01:29 @monitor.py:467]\u001b[0m GAN_loss/kl_div: 0.052142\n",
      "\u001b[32m[1118 16:01:29 @monitor.py:467]\u001b[0m QueueInput/queue_size: 50\n",
      "\u001b[32m[1118 16:01:29 @base.py:275]\u001b[0m Start Epoch 998 ...\n"
     ]
    },
    {
     "name": "stderr",
     "output_type": "stream",
     "text": [
      "100%|#####################################################################################|17/17[00:00<00:00,38.21it/s]"
     ]
    },
    {
     "name": "stdout",
     "output_type": "stream",
     "text": [
      "\u001b[32m[1118 16:01:30 @base.py:285]\u001b[0m Epoch 998 (global_step 25448) finished, time:0.445 second.\n",
      "\u001b[32m[1118 16:01:30 @saver.py:79]\u001b[0m Model saved to ../output/Chicago/TEST/model\\model-25448.\n",
      "\u001b[32m[1118 16:01:30 @monitor.py:467]\u001b[0m GAN_loss/d_loss: -0.027507\n",
      "\u001b[32m[1118 16:01:30 @monitor.py:467]\u001b[0m GAN_loss/g_loss: -0.13507\n",
      "\u001b[32m[1118 16:01:30 @monitor.py:467]\u001b[0m GAN_loss/kl_div: 0.047116\n",
      "\u001b[32m[1118 16:01:30 @monitor.py:467]\u001b[0m QueueInput/queue_size: 50\n",
      "\u001b[32m[1118 16:01:30 @base.py:275]\u001b[0m Start Epoch 999 ...\n"
     ]
    },
    {
     "name": "stderr",
     "output_type": "stream",
     "text": [
      "\n",
      "100%|#####################################################################################|17/17[00:00<00:00,36.54it/s]"
     ]
    },
    {
     "name": "stdout",
     "output_type": "stream",
     "text": [
      "\u001b[32m[1118 16:01:30 @base.py:285]\u001b[0m Epoch 999 (global_step 25474) finished, time:0.466 second.\n",
      "\u001b[32m[1118 16:01:31 @saver.py:79]\u001b[0m Model saved to ../output/Chicago/TEST/model\\model-25474.\n",
      "\u001b[32m[1118 16:01:31 @monitor.py:467]\u001b[0m GAN_loss/d_loss: -0.025983\n"
     ]
    },
    {
     "name": "stderr",
     "output_type": "stream",
     "text": [
      "\n"
     ]
    },
    {
     "name": "stdout",
     "output_type": "stream",
     "text": [
      "\u001b[32m[1118 16:01:31 @monitor.py:467]\u001b[0m GAN_loss/g_loss: -0.13492\n",
      "\u001b[32m[1118 16:01:31 @monitor.py:467]\u001b[0m GAN_loss/kl_div: 0.050269\n",
      "\u001b[32m[1118 16:01:31 @monitor.py:467]\u001b[0m QueueInput/queue_size: 50\n",
      "\u001b[32m[1118 16:01:31 @base.py:275]\u001b[0m Start Epoch 1000 ...\n"
     ]
    },
    {
     "name": "stderr",
     "output_type": "stream",
     "text": [
      "100%|#####################################################################################|17/17[00:00<00:00,38.21it/s]"
     ]
    },
    {
     "name": "stdout",
     "output_type": "stream",
     "text": [
      "\u001b[32m[1118 16:01:31 @base.py:285]\u001b[0m Epoch 1000 (global_step 25499) finished, time:0.446 second.\n",
      "\u001b[32m[1118 16:01:31 @saver.py:79]\u001b[0m Model saved to ../output/Chicago/TEST/model\\model-25499.\n"
     ]
    },
    {
     "name": "stderr",
     "output_type": "stream",
     "text": [
      "\n"
     ]
    },
    {
     "name": "stdout",
     "output_type": "stream",
     "text": [
      "\u001b[32m[1118 16:01:31 @monitor.py:467]\u001b[0m GAN_loss/d_loss: -0.026213\n",
      "\u001b[32m[1118 16:01:31 @monitor.py:467]\u001b[0m GAN_loss/g_loss: -0.13392\n",
      "\u001b[32m[1118 16:01:31 @monitor.py:467]\u001b[0m GAN_loss/kl_div: 0.051709\n",
      "\u001b[32m[1118 16:01:31 @monitor.py:467]\u001b[0m QueueInput/queue_size: 50\n",
      "\u001b[32m[1118 16:01:31 @base.py:289]\u001b[0m Training has finished!\n",
      "WARNING:tensorflow:From D:\\Users\\glede\\anaconda3\\envs\\py37\\lib\\site-packages\\tensorpack\\predict\\config.py:101: The name tf.train.ChiefSessionCreator is deprecated. Please use tf.compat.v1.train.ChiefSessionCreator instead.\n",
      "\n",
      "\u001b[32m[1118 16:01:31 @DATSGANModel.py:205]\u001b[0m \u001b[91mCreating cell for age (in-edges: 0; ancestors: 0)\n",
      "\u001b[32m[1118 16:01:31 @DATSGANModel.py:205]\u001b[0m \u001b[91mCreating cell for gender (in-edges: 0; ancestors: 0)\n",
      "\u001b[32m[1118 16:01:31 @DATSGANModel.py:205]\u001b[0m \u001b[91mCreating cell for travel_dow (in-edges: 0; ancestors: 0)\n",
      "\u001b[32m[1118 16:01:31 @DATSGANModel.py:205]\u001b[0m \u001b[91mCreating cell for license (in-edges: 1; ancestors: 1)\n",
      "\u001b[32m[1118 16:01:32 @DATSGANModel.py:205]\u001b[0m \u001b[91mCreating cell for education_level (in-edges: 1; ancestors: 1)\n",
      "\u001b[32m[1118 16:01:32 @DATSGANModel.py:205]\u001b[0m \u001b[91mCreating cell for work_status (in-edges: 2; ancestors: 3)\n",
      "\u001b[32m[1118 16:01:32 @DATSGANModel.py:205]\u001b[0m \u001b[91mCreating cell for hh_income (in-edges: 2; ancestors: 4)\n",
      "\u001b[32m[1118 16:01:32 @DATSGANModel.py:205]\u001b[0m \u001b[91mCreating cell for trip_purpose (in-edges: 1; ancestors: 4)\n",
      "\u001b[32m[1118 16:01:32 @DATSGANModel.py:205]\u001b[0m \u001b[91mCreating cell for hh_descr (in-edges: 2; ancestors: 5)\n",
      "\u001b[32m[1118 16:01:32 @DATSGANModel.py:205]\u001b[0m \u001b[91mCreating cell for hh_size (in-edges: 3; ancestors: 5)\n",
      "\u001b[32m[1118 16:01:32 @DATSGANModel.py:205]\u001b[0m \u001b[91mCreating cell for departure_time (in-edges: 1; ancestors: 5)\n",
      "\u001b[32m[1118 16:01:32 @input_source.py:178]\u001b[0m EnqueueThread QueueInput/input_queue Exited.\n",
      "\u001b[32m[1118 16:01:32 @DATSGANModel.py:205]\u001b[0m \u001b[91mCreating cell for distance (in-edges: 1; ancestors: 5)\n",
      "\u001b[32m[1118 16:01:32 @DATSGANModel.py:205]\u001b[0m \u001b[91mCreating cell for hh_vehicles (in-edges: 2; ancestors: 6)\n",
      "\u001b[32m[1118 16:01:32 @DATSGANModel.py:205]\u001b[0m \u001b[91mCreating cell for hh_bikes (in-edges: 2; ancestors: 6)\n",
      "\u001b[32m[1118 16:01:32 @DATSGANModel.py:205]\u001b[0m \u001b[91mCreating cell for choice (in-edges: 7; ancestors: 13)\n",
      "WARNING:tensorflow:From D:\\Users\\glede\\anaconda3\\envs\\py37\\lib\\site-packages\\tensorpack\\tfutils\\collection.py:45: The name tf.get_collection_ref is deprecated. Please use tf.compat.v1.get_collection_ref instead.\n",
      "\n",
      "\u001b[32m[1118 16:01:33 @sessinit.py:87]\u001b[0m \u001b[5m\u001b[31mWRN\u001b[0m The following variables are in the checkpoint, but not found in the graph: global_step\n",
      "WARNING:tensorflow:From D:\\Users\\glede\\anaconda3\\envs\\py37\\lib\\site-packages\\tensorflow_core\\python\\ops\\array_ops.py:1475: where (from tensorflow.python.ops.array_ops) is deprecated and will be removed in a future version.\n",
      "Instructions for updating:\n",
      "Use tf.where in 2.0, which has the same broadcast rule as np.where\n",
      "INFO:tensorflow:Graph was finalized.\n",
      "INFO:tensorflow:Running local_init_op.\n",
      "INFO:tensorflow:Done running local_init_op.\n",
      "\u001b[32m[1118 16:01:34 @sessinit.py:114]\u001b[0m Restoring checkpoint from ../output/Chicago/TEST/model\\model-25499 ...\n",
      "INFO:tensorflow:Restoring parameters from ../output/Chicago/TEST/model\\model-25499\n"
     ]
    }
   ],
   "source": [
    "test = datgan.fit(df, graph)"
   ]
  },
  {
   "cell_type": "code",
   "execution_count": 12,
   "metadata": {},
   "outputs": [
    {
     "name": "stdout",
     "output_type": "stream",
     "text": [
      "\u001b[32m[1118 16:02:03 @DATSGAN.py:361]\u001b[0m Model saved successfully.\n"
     ]
    }
   ],
   "source": [
    "datgan.save('trained', force=True)"
   ]
  },
  {
   "cell_type": "code",
   "execution_count": 13,
   "metadata": {},
   "outputs": [],
   "source": [
    "beepy.beep(6)"
   ]
  }
 ],
 "metadata": {
  "kernelspec": {
   "display_name": "Python 3",
   "language": "python",
   "name": "python3"
  },
  "language_info": {
   "codemirror_mode": {
    "name": "ipython",
    "version": 3
   },
   "file_extension": ".py",
   "mimetype": "text/x-python",
   "name": "python",
   "nbconvert_exporter": "python",
   "pygments_lexer": "ipython3",
   "version": "3.7.9"
  }
 },
 "nbformat": 4,
 "nbformat_minor": 2
}
