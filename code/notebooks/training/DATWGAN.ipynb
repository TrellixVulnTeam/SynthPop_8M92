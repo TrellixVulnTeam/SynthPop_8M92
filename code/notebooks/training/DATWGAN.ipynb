{
 "cells": [
  {
   "cell_type": "code",
   "execution_count": 1,
   "metadata": {},
   "outputs": [],
   "source": [
    "import os\n",
    "os.chdir('../..')"
   ]
  },
  {
   "cell_type": "code",
   "execution_count": 2,
   "metadata": {},
   "outputs": [
    {
     "name": "stdout",
     "output_type": "stream",
     "text": [
      "3.7.9\n"
     ]
    }
   ],
   "source": [
    "from platform import python_version\n",
    "print(python_version())"
   ]
  },
  {
   "cell_type": "code",
   "execution_count": 3,
   "metadata": {},
   "outputs": [
    {
     "name": "stdout",
     "output_type": "stream",
     "text": [
      "WARNING:tensorflow:From D:\\Users\\glede\\anaconda3\\envs\\py37\\lib\\site-packages\\tensorpack\\callbacks\\hooks.py:17: The name tf.train.SessionRunHook is deprecated. Please use tf.estimator.SessionRunHook instead.\n",
      "\n",
      "WARNING:tensorflow:From D:\\Users\\glede\\anaconda3\\envs\\py37\\lib\\site-packages\\tensorpack\\tfutils\\optimizer.py:18: The name tf.train.Optimizer is deprecated. Please use tf.compat.v1.train.Optimizer instead.\n",
      "\n",
      "WARNING:tensorflow:From D:\\Users\\glede\\anaconda3\\envs\\py37\\lib\\site-packages\\tensorpack\\tfutils\\sesscreate.py:20: The name tf.train.SessionCreator is deprecated. Please use tf.compat.v1.train.SessionCreator instead.\n",
      "\n"
     ]
    }
   ],
   "source": [
    "import numpy as np\n",
    "import pandas as pd\n",
    "\n",
    "import tensorflow as tf\n",
    "\n",
    "import matplotlib.pyplot as plt\n",
    "\n",
    "from modules.datgan import DATWGAN\n",
    "\n",
    "import networkx as nx\n",
    "import json\n",
    "import beepy\n",
    "\n",
    "# For the Python notebook\n",
    "%matplotlib inline\n",
    "%reload_ext autoreload\n",
    "%autoreload 2"
   ]
  },
  {
   "cell_type": "code",
   "execution_count": 4,
   "metadata": {},
   "outputs": [],
   "source": [
    "dataset = 'Chicago'"
   ]
  },
  {
   "cell_type": "code",
   "execution_count": 5,
   "metadata": {},
   "outputs": [],
   "source": [
    "df = pd.read_csv('../data/{}/data.csv'.format(dataset), index_col=False)"
   ]
  },
  {
   "cell_type": "code",
   "execution_count": 6,
   "metadata": {},
   "outputs": [
    {
     "data": {
      "text/html": [
       "<div>\n",
       "<style scoped>\n",
       "    .dataframe tbody tr th:only-of-type {\n",
       "        vertical-align: middle;\n",
       "    }\n",
       "\n",
       "    .dataframe tbody tr th {\n",
       "        vertical-align: top;\n",
       "    }\n",
       "\n",
       "    .dataframe thead th {\n",
       "        text-align: right;\n",
       "    }\n",
       "</style>\n",
       "<table border=\"1\" class=\"dataframe\">\n",
       "  <thead>\n",
       "    <tr style=\"text-align: right;\">\n",
       "      <th></th>\n",
       "      <th>choice</th>\n",
       "      <th>travel_dow</th>\n",
       "      <th>trip_purpose</th>\n",
       "      <th>distance</th>\n",
       "      <th>hh_vehicles</th>\n",
       "      <th>hh_size</th>\n",
       "      <th>hh_bikes</th>\n",
       "      <th>hh_descr</th>\n",
       "      <th>hh_income</th>\n",
       "      <th>gender</th>\n",
       "      <th>age</th>\n",
       "      <th>license</th>\n",
       "      <th>education_level</th>\n",
       "      <th>work_status</th>\n",
       "      <th>departure_time</th>\n",
       "    </tr>\n",
       "  </thead>\n",
       "  <tbody>\n",
       "    <tr>\n",
       "      <th>0</th>\n",
       "      <td>drive</td>\n",
       "      <td>7</td>\n",
       "      <td>HOME_OTHER</td>\n",
       "      <td>23.42579</td>\n",
       "      <td>2</td>\n",
       "      <td>2</td>\n",
       "      <td>0</td>\n",
       "      <td>2</td>\n",
       "      <td>6</td>\n",
       "      <td>1</td>\n",
       "      <td>66</td>\n",
       "      <td>1.0</td>\n",
       "      <td>6</td>\n",
       "      <td>FTE</td>\n",
       "      <td>9.333333</td>\n",
       "    </tr>\n",
       "    <tr>\n",
       "      <th>1</th>\n",
       "      <td>drive</td>\n",
       "      <td>7</td>\n",
       "      <td>OTHER</td>\n",
       "      <td>1.71259</td>\n",
       "      <td>2</td>\n",
       "      <td>2</td>\n",
       "      <td>0</td>\n",
       "      <td>2</td>\n",
       "      <td>6</td>\n",
       "      <td>1</td>\n",
       "      <td>66</td>\n",
       "      <td>1.0</td>\n",
       "      <td>6</td>\n",
       "      <td>FTE</td>\n",
       "      <td>12.083333</td>\n",
       "    </tr>\n",
       "    <tr>\n",
       "      <th>2</th>\n",
       "      <td>drive</td>\n",
       "      <td>7</td>\n",
       "      <td>HOME_OTHER</td>\n",
       "      <td>21.77887</td>\n",
       "      <td>2</td>\n",
       "      <td>2</td>\n",
       "      <td>0</td>\n",
       "      <td>2</td>\n",
       "      <td>6</td>\n",
       "      <td>1</td>\n",
       "      <td>66</td>\n",
       "      <td>1.0</td>\n",
       "      <td>6</td>\n",
       "      <td>FTE</td>\n",
       "      <td>15.500000</td>\n",
       "    </tr>\n",
       "    <tr>\n",
       "      <th>3</th>\n",
       "      <td>drive</td>\n",
       "      <td>7</td>\n",
       "      <td>SHOPPING</td>\n",
       "      <td>2.02603</td>\n",
       "      <td>2</td>\n",
       "      <td>2</td>\n",
       "      <td>0</td>\n",
       "      <td>2</td>\n",
       "      <td>6</td>\n",
       "      <td>1</td>\n",
       "      <td>66</td>\n",
       "      <td>1.0</td>\n",
       "      <td>6</td>\n",
       "      <td>FTE</td>\n",
       "      <td>17.500000</td>\n",
       "    </tr>\n",
       "    <tr>\n",
       "      <th>4</th>\n",
       "      <td>drive</td>\n",
       "      <td>7</td>\n",
       "      <td>SHOPPING</td>\n",
       "      <td>0.87691</td>\n",
       "      <td>2</td>\n",
       "      <td>2</td>\n",
       "      <td>0</td>\n",
       "      <td>2</td>\n",
       "      <td>6</td>\n",
       "      <td>1</td>\n",
       "      <td>66</td>\n",
       "      <td>1.0</td>\n",
       "      <td>6</td>\n",
       "      <td>FTE</td>\n",
       "      <td>18.250000</td>\n",
       "    </tr>\n",
       "  </tbody>\n",
       "</table>\n",
       "</div>"
      ],
      "text/plain": [
       "  choice  travel_dow trip_purpose  distance  hh_vehicles  hh_size  hh_bikes  \\\n",
       "0  drive           7   HOME_OTHER  23.42579            2        2         0   \n",
       "1  drive           7        OTHER   1.71259            2        2         0   \n",
       "2  drive           7   HOME_OTHER  21.77887            2        2         0   \n",
       "3  drive           7     SHOPPING   2.02603            2        2         0   \n",
       "4  drive           7     SHOPPING   0.87691            2        2         0   \n",
       "\n",
       "   hh_descr  hh_income  gender  age  license  education_level work_status  \\\n",
       "0         2          6       1   66      1.0                6         FTE   \n",
       "1         2          6       1   66      1.0                6         FTE   \n",
       "2         2          6       1   66      1.0                6         FTE   \n",
       "3         2          6       1   66      1.0                6         FTE   \n",
       "4         2          6       1   66      1.0                6         FTE   \n",
       "\n",
       "   departure_time  \n",
       "0        9.333333  \n",
       "1       12.083333  \n",
       "2       15.500000  \n",
       "3       17.500000  \n",
       "4       18.250000  "
      ]
     },
     "execution_count": 6,
     "metadata": {},
     "output_type": "execute_result"
    }
   ],
   "source": [
    "df.head()"
   ]
  },
  {
   "cell_type": "code",
   "execution_count": 7,
   "metadata": {},
   "outputs": [],
   "source": [
    "if dataset is 'Chicago':\n",
    "    continuous_columns = [\"distance\", \"age\", \"departure_time\"]\n",
    "elif dataset is 'LPMC':\n",
    "    continuous_columns = ['start_time_linear', 'age', 'distance', 'dur_walking', 'dur_cycling', 'dur_pt_access', 'dur_pt_rail', 'dur_pt_bus', 'dur_pt_int', 'dur_driving', 'cost_transit', 'cost_driving_fuel', 'driving_traffic_percent']"
   ]
  },
  {
   "cell_type": "code",
   "execution_count": 8,
   "metadata": {},
   "outputs": [],
   "source": [
    "# personalised graph\n",
    "graph = nx.DiGraph()\n",
    "\n",
    "if dataset is 'Chicago':\n",
    "    graph.add_edges_from([\n",
    "        (\"age\", \"license\"),\n",
    "        (\"age\", \"education_level\"),\n",
    "        (\"gender\", \"work_status\"),\n",
    "        (\"education_level\", \"work_status\"),\n",
    "        (\"education_level\", \"hh_income\"),\n",
    "        (\"work_status\", \"hh_income\"),\n",
    "        (\"hh_income\", \"hh_descr\"),\n",
    "        (\"hh_income\", \"hh_size\"),\n",
    "        (\"hh_size\", \"hh_vehicles\"),\n",
    "        (\"hh_size\", \"hh_bikes\"),\n",
    "        (\"work_status\", \"trip_purpose\"),\n",
    "        (\"trip_purpose\", \"departure_time\"),\n",
    "        (\"trip_purpose\", \"distance\"),\n",
    "        (\"travel_dow\", \"choice\"),\n",
    "        (\"distance\", \"choice\"),\n",
    "        (\"departure_time\", \"choice\"),\n",
    "        (\"hh_vehicles\", \"choice\"),\n",
    "        (\"hh_bikes\", \"choice\"),\n",
    "        (\"license\", \"choice\"),\n",
    "        # Non necessary links\n",
    "        (\"education_level\", \"hh_size\"),\n",
    "        (\"work_status\", \"hh_descr\"),\n",
    "        (\"work_status\", \"hh_size\"),\n",
    "        (\"hh_income\", \"hh_bikes\"),\n",
    "        (\"hh_income\", \"hh_vehicles\"),\n",
    "        (\"trip_purpose\", \"choice\")\n",
    "    ])\n",
    "elif dataset is 'LPMC':\n",
    "    graph.add_edges_from([\n",
    "        (\"travel_year\", \"survey_year\"),\n",
    "        (\"travel_date\", \"day_of_week\"),\n",
    "        (\"day_of_week\", \"purpose\"),\n",
    "        (\"purpose\", \"start_time_linear\"),\n",
    "        (\"purpose\", \"cost_driving_con_charge\"),\n",
    "        (\"purpose\", \"distance\"),\n",
    "        (\"day_of_week\", \"driving_traffic_percent\"),\n",
    "        (\"day_of_week\", \"cost_driving_con_charge\"),\n",
    "        (\"start_time_linear\", \"driving_traffic_percent\"),\n",
    "        (\"start_time_linear\", \"cost_driving_con_charge\"),\n",
    "        (\"driving_traffic_percent\", \"cost_driving_con_charge\"),\n",
    "        (\"female\", \"driving_license\"),\n",
    "        (\"age\", \"bus_scale\"),\n",
    "        (\"age\", \"car_ownership\"),\n",
    "        (\"age\", \"driving_license\"),\n",
    "        (\"age\", \"faretype\"),\n",
    "        (\"driving_license\", \"car_ownership\"),\n",
    "        (\"car_ownership\", \"fueltype\"),\n",
    "        (\"fueltype\", \"cost_driving_con_charge\"),\n",
    "        (\"fueltype\", \"cost_driving_fuel\"),\n",
    "        (\"distance\", \"cost_driving_fuel\"),\n",
    "        (\"distance\", \"dur_driving\"),\n",
    "        (\"distance\", \"dur_walking\"),\n",
    "        (\"distance\", \"dur_cycling\"),\n",
    "        (\"distance\", \"dur_pt_access\"),\n",
    "        (\"distance\", \"dur_pt_rail\"),\n",
    "        (\"distance\", \"dur_pt_bus\"),\n",
    "        (\"distance\", \"dur_pt_int\"),\n",
    "        (\"dur_pt_bus\", \"cost_transit\"),\n",
    "        (\"dur_pt_rail\", \"cost_transit\"),\n",
    "        (\"pt_n_interchanges\", \"dur_pt_int\"),\n",
    "        (\"pt_n_interchanges\", \"cost_transit\"),\n",
    "        (\"faretype\", \"cost_transit\"),\n",
    "        (\"bus_scale\", \"cost_transit\"),\n",
    "        (\"car_ownership\", \"travel_mode\"),\n",
    "        (\"age\", \"travel_mode\"),\n",
    "        (\"cost_driving_con_charge\", \"travel_mode\"),\n",
    "        (\"driving_traffic_percent\", \"travel_mode\"),\n",
    "        (\"female\", \"travel_mode\"),\n",
    "        (\"purpose\", \"travel_mode\"),\n",
    "        (\"cost_transit\", \"travel_mode\"),\n",
    "        (\"cost_driving_fuel\", \"travel_mode\"),\n",
    "        (\"dur_driving\", \"travel_mode\"),\n",
    "        (\"dur_walking\", \"travel_mode\"),\n",
    "        (\"dur_cycling\", \"travel_mode\"),\n",
    "        (\"dur_pt_access\", \"travel_mode\"),\n",
    "        (\"dur_pt_rail\", \"travel_mode\"),\n",
    "        (\"dur_pt_bus\", \"travel_mode\"),\n",
    "        (\"dur_pt_int\", \"travel_mode\")\n",
    "    ])\n",
    "    graph.add_node(\"travel_month\")"
   ]
  },
  {
   "cell_type": "code",
   "execution_count": 9,
   "metadata": {},
   "outputs": [],
   "source": [
    "output_folder = '../output/' + dataset + '/DATWGAN_99/'"
   ]
  },
  {
   "cell_type": "code",
   "execution_count": 10,
   "metadata": {},
   "outputs": [],
   "source": [
    "datgan = DATWGAN(continuous_columns, max_epoch=100, batch_size=500, output=output_folder, gpu=0)"
   ]
  },
  {
   "cell_type": "code",
   "execution_count": null,
   "metadata": {},
   "outputs": [
    {
     "name": "stdout",
     "output_type": "stream",
     "text": [
      "\u001b[32m[1021 14:06:51 @DATGAN.py:155]\u001b[0m Found preprocessed data\n",
      "\u001b[32m[1021 14:06:51 @DATGAN.py:163]\u001b[0m Preprocessed data have been loaded!\n",
      "WARNING:tensorflow:From D:\\Users\\glede\\anaconda3\\envs\\py37\\lib\\site-packages\\tensorpack\\graph_builder\\model_desc.py:29: The name tf.get_default_graph is deprecated. Please use tf.compat.v1.get_default_graph instead.\n",
      "\n",
      "WARNING:tensorflow:From D:\\Users\\glede\\anaconda3\\envs\\py37\\lib\\site-packages\\tensorpack\\graph_builder\\model_desc.py:39: The name tf.placeholder is deprecated. Please use tf.compat.v1.placeholder instead.\n",
      "\n",
      "WARNING:tensorflow:From D:\\Users\\glede\\anaconda3\\envs\\py37\\lib\\site-packages\\tensorpack\\input_source\\input_source.py:219: The name tf.FIFOQueue is deprecated. Please use tf.queue.FIFOQueue instead.\n",
      "\n",
      "\u001b[32m[1021 14:06:51 @input_source.py:222]\u001b[0m Setting up the queue 'QueueInput/input_queue' for CPU prefetching ...\n",
      "WARNING:tensorflow:From D:\\Users\\glede\\anaconda3\\envs\\py37\\lib\\site-packages\\tensorpack\\tfutils\\summary.py:237: The name tf.get_variable_scope is deprecated. Please use tf.compat.v1.get_variable_scope instead.\n",
      "\n",
      "WARNING:tensorflow:From D:\\Users\\glede\\anaconda3\\envs\\py37\\lib\\site-packages\\tensorpack\\tfutils\\summary.py:27: The name tf.variable_scope is deprecated. Please use tf.compat.v1.variable_scope instead.\n",
      "\n",
      "WARNING:tensorflow:From D:\\Users\\glede\\anaconda3\\envs\\py37\\lib\\site-packages\\tensorpack\\tfutils\\summary.py:254: The name tf.get_variable is deprecated. Please use tf.compat.v1.get_variable instead.\n",
      "\n",
      "WARNING:tensorflow:From D:\\Users\\glede\\anaconda3\\envs\\py37\\lib\\site-packages\\tensorpack\\tfutils\\summary.py:264: The name tf.summary.scalar is deprecated. Please use tf.compat.v1.summary.scalar instead.\n",
      "\n",
      "WARNING:tensorflow:From D:\\Users\\glede\\anaconda3\\envs\\py37\\lib\\site-packages\\tensorpack\\tfutils\\collection.py:105: The name tf.GraphKeys is deprecated. Please use tf.compat.v1.GraphKeys instead.\n",
      "\n",
      "WARNING:tensorflow:From D:\\Users\\glede\\anaconda3\\envs\\py37\\lib\\site-packages\\tensorpack\\tfutils\\collection.py:33: The name tf.get_collection is deprecated. Please use tf.compat.v1.get_collection instead.\n",
      "\n",
      "WARNING:tensorflow:From C:\\Users\\glede\\Documents\\EPFL\\PhD\\SynthPop\\code\\modules\\datgan\\DATGANModel.py:563: The name tf.random_normal is deprecated. Please use tf.random.normal instead.\n",
      "\n",
      "WARNING:tensorflow:From C:\\Users\\glede\\Documents\\EPFL\\PhD\\SynthPop\\code\\modules\\datgan\\DATGANModel.py:566: The name tf.placeholder_with_default is deprecated. Please use tf.compat.v1.placeholder_with_default instead.\n",
      "\n",
      "WARNING:tensorflow:From C:\\Users\\glede\\Documents\\EPFL\\PhD\\SynthPop\\code\\modules\\datgan\\DATGANModel.py:192: LSTMCell.__init__ (from tensorflow.python.ops.rnn_cell_impl) is deprecated and will be removed in a future version.\n",
      "Instructions for updating:\n",
      "This class is equivalent as tf.keras.layers.LSTMCell, and will be replaced by that in Tensorflow 2.0.\n",
      "\u001b[32m[1021 14:06:51 @DATGANModel.py:209]\u001b[0m \u001b[91mCreating cell for age (in-edges: 0)\n",
      "WARNING:tensorflow:From D:\\Users\\glede\\anaconda3\\envs\\py37\\lib\\site-packages\\tensorflow_core\\python\\ops\\rnn_cell_impl.py:958: Layer.add_variable (from tensorflow.python.keras.engine.base_layer) is deprecated and will be removed in a future version.\n",
      "Instructions for updating:\n",
      "Please use `layer.add_weight` method instead.\n",
      "WARNING:tensorflow:From D:\\Users\\glede\\anaconda3\\envs\\py37\\lib\\site-packages\\tensorflow_core\\python\\ops\\rnn_cell_impl.py:962: calling Zeros.__init__ (from tensorflow.python.ops.init_ops) with dtype is deprecated and will be removed in a future version.\n",
      "Instructions for updating:\n",
      "Call initializer instance with the dtype argument instead of passing it to the constructor\n",
      "\u001b[32m[1021 14:06:51 @registry.py:126]\u001b[0m gen/LSTM/00/FC input: [500, 100]\n",
      "WARNING:tensorflow:From D:\\Users\\glede\\anaconda3\\envs\\py37\\lib\\site-packages\\tensorpack\\models\\fc.py:57: The name tf.layers.Dense is deprecated. Please use tf.compat.v1.layers.Dense instead.\n",
      "\n",
      "WARNING:tensorflow:From D:\\Users\\glede\\anaconda3\\envs\\py37\\lib\\site-packages\\tensorpack\\models\\fc.py:67: Layer.apply (from tensorflow.python.keras.engine.base_layer) is deprecated and will be removed in a future version.\n",
      "Instructions for updating:\n",
      "Please use `layer.__call__` method instead.\n",
      "\u001b[32m[1021 14:06:51 @registry.py:134]\u001b[0m gen/LSTM/00/FC output: [500, 100]\n",
      "\u001b[32m[1021 14:06:51 @registry.py:126]\u001b[0m gen/LSTM/00/FC2_val input: [500, 100]\n",
      "\u001b[32m[1021 14:06:51 @registry.py:134]\u001b[0m gen/LSTM/00/FC2_val output: [500, 6]\n",
      "\u001b[32m[1021 14:06:51 @registry.py:126]\u001b[0m gen/LSTM/00/FC2_prob input: [500, 100]\n",
      "\u001b[32m[1021 14:06:51 @registry.py:134]\u001b[0m gen/LSTM/00/FC2_prob output: [500, 6]\n",
      "\u001b[32m[1021 14:06:51 @registry.py:126]\u001b[0m gen/LSTM/00/FC3 input: [500, 12]\n",
      "\u001b[32m[1021 14:06:51 @registry.py:134]\u001b[0m gen/LSTM/00/FC3 output: [500, 100]\n",
      "\u001b[32m[1021 14:06:51 @DATGANModel.py:209]\u001b[0m \u001b[91mCreating cell for gender (in-edges: 0)\n",
      "\u001b[32m[1021 14:06:51 @registry.py:126]\u001b[0m gen/LSTM/01/FC input: [500, 100]\n",
      "\u001b[32m[1021 14:06:51 @registry.py:134]\u001b[0m gen/LSTM/01/FC output: [500, 100]\n",
      "\u001b[32m[1021 14:06:51 @registry.py:126]\u001b[0m gen/LSTM/01/FC2 input: [500, 100]\n",
      "\u001b[32m[1021 14:06:51 @registry.py:134]\u001b[0m gen/LSTM/01/FC2 output: [500, 2]\n",
      "\u001b[32m[1021 14:06:51 @registry.py:126]\u001b[0m gen/LSTM/01/FC3 input: [500, 2]\n",
      "\u001b[32m[1021 14:06:51 @registry.py:134]\u001b[0m gen/LSTM/01/FC3 output: [500, 100]\n",
      "\u001b[32m[1021 14:06:51 @DATGANModel.py:209]\u001b[0m \u001b[91mCreating cell for travel_dow (in-edges: 0)\n",
      "\u001b[32m[1021 14:06:51 @registry.py:126]\u001b[0m gen/LSTM/02/FC input: [500, 100]\n",
      "\u001b[32m[1021 14:06:51 @registry.py:134]\u001b[0m gen/LSTM/02/FC output: [500, 100]\n",
      "\u001b[32m[1021 14:06:51 @registry.py:126]\u001b[0m gen/LSTM/02/FC2 input: [500, 100]\n",
      "\u001b[32m[1021 14:06:51 @registry.py:134]\u001b[0m gen/LSTM/02/FC2 output: [500, 7]\n",
      "\u001b[32m[1021 14:06:51 @registry.py:126]\u001b[0m gen/LSTM/02/FC3 input: [500, 7]\n",
      "\u001b[32m[1021 14:06:51 @registry.py:134]\u001b[0m gen/LSTM/02/FC3 output: [500, 100]\n",
      "\u001b[32m[1021 14:06:51 @DATGANModel.py:209]\u001b[0m \u001b[91mCreating cell for license (in-edges: 1)\n",
      "\u001b[32m[1021 14:06:51 @registry.py:126]\u001b[0m gen/LSTM/03/FC input: [500, 100]\n",
      "\u001b[32m[1021 14:06:51 @registry.py:134]\u001b[0m gen/LSTM/03/FC output: [500, 100]\n",
      "\u001b[32m[1021 14:06:51 @registry.py:126]\u001b[0m gen/LSTM/03/FC2 input: [500, 100]\n",
      "\u001b[32m[1021 14:06:51 @registry.py:134]\u001b[0m gen/LSTM/03/FC2 output: [500, 2]\n",
      "\u001b[32m[1021 14:06:51 @registry.py:126]\u001b[0m gen/LSTM/03/FC3 input: [500, 2]\n",
      "\u001b[32m[1021 14:06:51 @registry.py:134]\u001b[0m gen/LSTM/03/FC3 output: [500, 100]\n",
      "\u001b[32m[1021 14:06:51 @DATGANModel.py:209]\u001b[0m \u001b[91mCreating cell for education_level (in-edges: 1)\n",
      "\u001b[32m[1021 14:06:51 @registry.py:126]\u001b[0m gen/LSTM/04/FC input: [500, 100]\n",
      "\u001b[32m[1021 14:06:51 @registry.py:134]\u001b[0m gen/LSTM/04/FC output: [500, 100]\n",
      "\u001b[32m[1021 14:06:51 @registry.py:126]\u001b[0m gen/LSTM/04/FC2 input: [500, 100]\n",
      "\u001b[32m[1021 14:06:51 @registry.py:134]\u001b[0m gen/LSTM/04/FC2 output: [500, 6]\n",
      "\u001b[32m[1021 14:06:51 @registry.py:126]\u001b[0m gen/LSTM/04/FC3 input: [500, 6]\n",
      "\u001b[32m[1021 14:06:51 @registry.py:134]\u001b[0m gen/LSTM/04/FC3 output: [500, 100]\n",
      "\u001b[32m[1021 14:06:51 @DATGANModel.py:209]\u001b[0m \u001b[91mCreating cell for work_status (in-edges: 2)\n",
      "\u001b[32m[1021 14:06:51 @registry.py:126]\u001b[0m gen/LSTM/05/FC_inputs input: [500, 200]\n",
      "\u001b[32m[1021 14:06:51 @registry.py:134]\u001b[0m gen/LSTM/05/FC_inputs output: [500, 100]\n",
      "\u001b[32m[1021 14:06:51 @registry.py:126]\u001b[0m gen/LSTM/05/FC_attentions input: [500, 200]\n",
      "\u001b[32m[1021 14:06:51 @registry.py:134]\u001b[0m gen/LSTM/05/FC_attentions output: [500, 100]\n",
      "\u001b[32m[1021 14:06:51 @registry.py:126]\u001b[0m gen/LSTM/05/FC_lstm_state_0 input: [500, 200]\n",
      "\u001b[32m[1021 14:06:51 @registry.py:134]\u001b[0m gen/LSTM/05/FC_lstm_state_0 output: [500, 100]\n",
      "\u001b[32m[1021 14:06:51 @registry.py:126]\u001b[0m gen/LSTM/05/FC_lstm_state_1 input: [500, 200]\n",
      "\u001b[32m[1021 14:06:51 @registry.py:134]\u001b[0m gen/LSTM/05/FC_lstm_state_1 output: [500, 100]\n",
      "WARNING:tensorflow:From C:\\Users\\glede\\Documents\\EPFL\\PhD\\SynthPop\\code\\modules\\datgan\\DATGANModel.py:305: The name tf.nn.rnn_cell.LSTMStateTuple is deprecated. Please use tf.compat.v1.nn.rnn_cell.LSTMStateTuple instead.\n",
      "\n",
      "\u001b[32m[1021 14:06:51 @registry.py:126]\u001b[0m gen/LSTM/06/FC input: [500, 100]\n",
      "\u001b[32m[1021 14:06:51 @registry.py:134]\u001b[0m gen/LSTM/06/FC output: [500, 100]\n",
      "\u001b[32m[1021 14:06:51 @registry.py:126]\u001b[0m gen/LSTM/06/FC2 input: [500, 100]\n",
      "\u001b[32m[1021 14:06:51 @registry.py:134]\u001b[0m gen/LSTM/06/FC2 output: [500, 8]\n"
     ]
    },
    {
     "name": "stdout",
     "output_type": "stream",
     "text": [
      "\u001b[32m[1021 14:06:51 @registry.py:126]\u001b[0m gen/LSTM/06/FC3 input: [500, 8]\n",
      "\u001b[32m[1021 14:06:51 @registry.py:134]\u001b[0m gen/LSTM/06/FC3 output: [500, 100]\n",
      "\u001b[32m[1021 14:06:51 @DATGANModel.py:209]\u001b[0m \u001b[91mCreating cell for hh_income (in-edges: 2)\n",
      "\u001b[32m[1021 14:06:51 @registry.py:126]\u001b[0m gen/LSTM/07/FC_inputs input: [500, 200]\n",
      "\u001b[32m[1021 14:06:51 @registry.py:134]\u001b[0m gen/LSTM/07/FC_inputs output: [500, 100]\n",
      "\u001b[32m[1021 14:06:51 @registry.py:126]\u001b[0m gen/LSTM/07/FC_attentions input: [500, 200]\n",
      "\u001b[32m[1021 14:06:51 @registry.py:134]\u001b[0m gen/LSTM/07/FC_attentions output: [500, 100]\n",
      "\u001b[32m[1021 14:06:51 @registry.py:126]\u001b[0m gen/LSTM/07/FC_lstm_state_0 input: [500, 200]\n",
      "\u001b[32m[1021 14:06:51 @registry.py:134]\u001b[0m gen/LSTM/07/FC_lstm_state_0 output: [500, 100]\n",
      "\u001b[32m[1021 14:06:51 @registry.py:126]\u001b[0m gen/LSTM/07/FC_lstm_state_1 input: [500, 200]\n",
      "\u001b[32m[1021 14:06:51 @registry.py:134]\u001b[0m gen/LSTM/07/FC_lstm_state_1 output: [500, 100]\n",
      "\u001b[32m[1021 14:06:51 @registry.py:126]\u001b[0m gen/LSTM/08/FC input: [500, 100]\n",
      "\u001b[32m[1021 14:06:51 @registry.py:134]\u001b[0m gen/LSTM/08/FC output: [500, 100]\n",
      "\u001b[32m[1021 14:06:51 @registry.py:126]\u001b[0m gen/LSTM/08/FC2 input: [500, 100]\n",
      "\u001b[32m[1021 14:06:51 @registry.py:134]\u001b[0m gen/LSTM/08/FC2 output: [500, 7]\n",
      "\u001b[32m[1021 14:06:51 @registry.py:126]\u001b[0m gen/LSTM/08/FC3 input: [500, 7]\n",
      "\u001b[32m[1021 14:06:51 @registry.py:134]\u001b[0m gen/LSTM/08/FC3 output: [500, 100]\n",
      "\u001b[32m[1021 14:06:51 @DATGANModel.py:209]\u001b[0m \u001b[91mCreating cell for trip_purpose (in-edges: 1)\n",
      "\u001b[32m[1021 14:06:51 @registry.py:126]\u001b[0m gen/LSTM/09/FC input: [500, 100]\n",
      "\u001b[32m[1021 14:06:51 @registry.py:134]\u001b[0m gen/LSTM/09/FC output: [500, 100]\n",
      "\u001b[32m[1021 14:06:51 @registry.py:126]\u001b[0m gen/LSTM/09/FC2 input: [500, 100]\n",
      "\u001b[32m[1021 14:06:51 @registry.py:134]\u001b[0m gen/LSTM/09/FC2 output: [500, 7]\n",
      "\u001b[32m[1021 14:06:51 @registry.py:126]\u001b[0m gen/LSTM/09/FC3 input: [500, 7]\n",
      "\u001b[32m[1021 14:06:51 @registry.py:134]\u001b[0m gen/LSTM/09/FC3 output: [500, 100]\n",
      "\u001b[32m[1021 14:06:51 @DATGANModel.py:209]\u001b[0m \u001b[91mCreating cell for hh_descr (in-edges: 2)\n",
      "\u001b[32m[1021 14:06:51 @registry.py:126]\u001b[0m gen/LSTM/10/FC_inputs input: [500, 200]\n",
      "\u001b[32m[1021 14:06:51 @registry.py:134]\u001b[0m gen/LSTM/10/FC_inputs output: [500, 100]\n",
      "\u001b[32m[1021 14:06:51 @registry.py:126]\u001b[0m gen/LSTM/10/FC_attentions input: [500, 200]\n",
      "\u001b[32m[1021 14:06:51 @registry.py:134]\u001b[0m gen/LSTM/10/FC_attentions output: [500, 100]\n",
      "\u001b[32m[1021 14:06:51 @registry.py:126]\u001b[0m gen/LSTM/10/FC_lstm_state_0 input: [500, 200]\n",
      "\u001b[32m[1021 14:06:51 @registry.py:134]\u001b[0m gen/LSTM/10/FC_lstm_state_0 output: [500, 100]\n",
      "\u001b[32m[1021 14:06:51 @registry.py:126]\u001b[0m gen/LSTM/10/FC_lstm_state_1 input: [500, 200]\n",
      "\u001b[32m[1021 14:06:51 @registry.py:134]\u001b[0m gen/LSTM/10/FC_lstm_state_1 output: [500, 100]\n",
      "\u001b[32m[1021 14:06:51 @registry.py:126]\u001b[0m gen/LSTM/11/FC input: [500, 100]\n",
      "\u001b[32m[1021 14:06:51 @registry.py:134]\u001b[0m gen/LSTM/11/FC output: [500, 100]\n",
      "\u001b[32m[1021 14:06:51 @registry.py:126]\u001b[0m gen/LSTM/11/FC2 input: [500, 100]\n",
      "\u001b[32m[1021 14:06:51 @registry.py:134]\u001b[0m gen/LSTM/11/FC2 output: [500, 3]\n",
      "\u001b[32m[1021 14:06:51 @registry.py:126]\u001b[0m gen/LSTM/11/FC3 input: [500, 3]\n",
      "\u001b[32m[1021 14:06:51 @registry.py:134]\u001b[0m gen/LSTM/11/FC3 output: [500, 100]\n",
      "\u001b[32m[1021 14:06:51 @DATGANModel.py:209]\u001b[0m \u001b[91mCreating cell for hh_size (in-edges: 3)\n",
      "\u001b[32m[1021 14:06:51 @registry.py:126]\u001b[0m gen/LSTM/12/FC_inputs input: [500, 300]\n",
      "\u001b[32m[1021 14:06:52 @registry.py:134]\u001b[0m gen/LSTM/12/FC_inputs output: [500, 100]\n",
      "\u001b[32m[1021 14:06:52 @registry.py:126]\u001b[0m gen/LSTM/12/FC_attentions input: [500, 300]\n",
      "\u001b[32m[1021 14:06:52 @registry.py:134]\u001b[0m gen/LSTM/12/FC_attentions output: [500, 100]\n",
      "\u001b[32m[1021 14:06:52 @registry.py:126]\u001b[0m gen/LSTM/12/FC_lstm_state_0 input: [500, 300]\n",
      "\u001b[32m[1021 14:06:52 @registry.py:134]\u001b[0m gen/LSTM/12/FC_lstm_state_0 output: [500, 100]\n",
      "\u001b[32m[1021 14:06:52 @registry.py:126]\u001b[0m gen/LSTM/12/FC_lstm_state_1 input: [500, 300]\n",
      "\u001b[32m[1021 14:06:52 @registry.py:134]\u001b[0m gen/LSTM/12/FC_lstm_state_1 output: [500, 100]\n",
      "\u001b[32m[1021 14:06:52 @registry.py:126]\u001b[0m gen/LSTM/13/FC input: [500, 100]\n",
      "\u001b[32m[1021 14:06:52 @registry.py:134]\u001b[0m gen/LSTM/13/FC output: [500, 100]\n",
      "\u001b[32m[1021 14:06:52 @registry.py:126]\u001b[0m gen/LSTM/13/FC2 input: [500, 100]\n",
      "\u001b[32m[1021 14:06:52 @registry.py:134]\u001b[0m gen/LSTM/13/FC2 output: [500, 8]\n",
      "\u001b[32m[1021 14:06:52 @registry.py:126]\u001b[0m gen/LSTM/13/FC3 input: [500, 8]\n",
      "\u001b[32m[1021 14:06:52 @registry.py:134]\u001b[0m gen/LSTM/13/FC3 output: [500, 100]\n",
      "\u001b[32m[1021 14:06:52 @DATGANModel.py:209]\u001b[0m \u001b[91mCreating cell for departure_time (in-edges: 1)\n",
      "\u001b[32m[1021 14:06:52 @registry.py:126]\u001b[0m gen/LSTM/14/FC input: [500, 100]\n",
      "\u001b[32m[1021 14:06:52 @registry.py:134]\u001b[0m gen/LSTM/14/FC output: [500, 100]\n",
      "\u001b[32m[1021 14:06:52 @registry.py:126]\u001b[0m gen/LSTM/14/FC2_val input: [500, 100]\n",
      "\u001b[32m[1021 14:06:52 @registry.py:134]\u001b[0m gen/LSTM/14/FC2_val output: [500, 8]\n",
      "\u001b[32m[1021 14:06:52 @registry.py:126]\u001b[0m gen/LSTM/14/FC2_prob input: [500, 100]\n",
      "\u001b[32m[1021 14:06:52 @registry.py:134]\u001b[0m gen/LSTM/14/FC2_prob output: [500, 8]\n",
      "\u001b[32m[1021 14:06:52 @registry.py:126]\u001b[0m gen/LSTM/14/FC3 input: [500, 16]\n",
      "\u001b[32m[1021 14:06:52 @registry.py:134]\u001b[0m gen/LSTM/14/FC3 output: [500, 100]\n",
      "\u001b[32m[1021 14:06:52 @DATGANModel.py:209]\u001b[0m \u001b[91mCreating cell for distance (in-edges: 1)\n",
      "\u001b[32m[1021 14:06:52 @registry.py:126]\u001b[0m gen/LSTM/15/FC input: [500, 100]\n",
      "\u001b[32m[1021 14:06:52 @registry.py:134]\u001b[0m gen/LSTM/15/FC output: [500, 100]\n",
      "\u001b[32m[1021 14:06:52 @registry.py:126]\u001b[0m gen/LSTM/15/FC2_val input: [500, 100]\n",
      "\u001b[32m[1021 14:06:52 @registry.py:134]\u001b[0m gen/LSTM/15/FC2_val output: [500, 10]\n",
      "\u001b[32m[1021 14:06:52 @registry.py:126]\u001b[0m gen/LSTM/15/FC2_prob input: [500, 100]\n",
      "\u001b[32m[1021 14:06:52 @registry.py:134]\u001b[0m gen/LSTM/15/FC2_prob output: [500, 10]\n",
      "\u001b[32m[1021 14:06:52 @registry.py:126]\u001b[0m gen/LSTM/15/FC3 input: [500, 20]\n",
      "\u001b[32m[1021 14:06:52 @registry.py:134]\u001b[0m gen/LSTM/15/FC3 output: [500, 100]\n",
      "\u001b[32m[1021 14:06:52 @DATGANModel.py:209]\u001b[0m \u001b[91mCreating cell for hh_vehicles (in-edges: 2)\n",
      "\u001b[32m[1021 14:06:52 @registry.py:126]\u001b[0m gen/LSTM/16/FC_inputs input: [500, 200]\n",
      "\u001b[32m[1021 14:06:52 @registry.py:134]\u001b[0m gen/LSTM/16/FC_inputs output: [500, 100]\n",
      "\u001b[32m[1021 14:06:52 @registry.py:126]\u001b[0m gen/LSTM/16/FC_attentions input: [500, 200]\n",
      "\u001b[32m[1021 14:06:52 @registry.py:134]\u001b[0m gen/LSTM/16/FC_attentions output: [500, 100]\n",
      "\u001b[32m[1021 14:06:52 @registry.py:126]\u001b[0m gen/LSTM/16/FC_lstm_state_0 input: [500, 200]\n",
      "\u001b[32m[1021 14:06:52 @registry.py:134]\u001b[0m gen/LSTM/16/FC_lstm_state_0 output: [500, 100]\n",
      "\u001b[32m[1021 14:06:52 @registry.py:126]\u001b[0m gen/LSTM/16/FC_lstm_state_1 input: [500, 200]\n",
      "\u001b[32m[1021 14:06:52 @registry.py:134]\u001b[0m gen/LSTM/16/FC_lstm_state_1 output: [500, 100]\n",
      "\u001b[32m[1021 14:06:52 @registry.py:126]\u001b[0m gen/LSTM/17/FC input: [500, 100]\n",
      "\u001b[32m[1021 14:06:52 @registry.py:134]\u001b[0m gen/LSTM/17/FC output: [500, 100]\n",
      "\u001b[32m[1021 14:06:52 @registry.py:126]\u001b[0m gen/LSTM/17/FC2 input: [500, 100]\n",
      "\u001b[32m[1021 14:06:52 @registry.py:134]\u001b[0m gen/LSTM/17/FC2 output: [500, 9]\n",
      "\u001b[32m[1021 14:06:52 @registry.py:126]\u001b[0m gen/LSTM/17/FC3 input: [500, 9]\n",
      "\u001b[32m[1021 14:06:52 @registry.py:134]\u001b[0m gen/LSTM/17/FC3 output: [500, 100]\n",
      "\u001b[32m[1021 14:06:52 @DATGANModel.py:209]\u001b[0m \u001b[91mCreating cell for hh_bikes (in-edges: 2)\n",
      "\u001b[32m[1021 14:06:52 @registry.py:126]\u001b[0m gen/LSTM/18/FC_inputs input: [500, 200]\n",
      "\u001b[32m[1021 14:06:52 @registry.py:134]\u001b[0m gen/LSTM/18/FC_inputs output: [500, 100]\n",
      "\u001b[32m[1021 14:06:52 @registry.py:126]\u001b[0m gen/LSTM/18/FC_attentions input: [500, 200]\n",
      "\u001b[32m[1021 14:06:52 @registry.py:134]\u001b[0m gen/LSTM/18/FC_attentions output: [500, 100]\n",
      "\u001b[32m[1021 14:06:52 @registry.py:126]\u001b[0m gen/LSTM/18/FC_lstm_state_0 input: [500, 200]\n",
      "\u001b[32m[1021 14:06:52 @registry.py:134]\u001b[0m gen/LSTM/18/FC_lstm_state_0 output: [500, 100]\n",
      "\u001b[32m[1021 14:06:52 @registry.py:126]\u001b[0m gen/LSTM/18/FC_lstm_state_1 input: [500, 200]\n",
      "\u001b[32m[1021 14:06:52 @registry.py:134]\u001b[0m gen/LSTM/18/FC_lstm_state_1 output: [500, 100]\n",
      "\u001b[32m[1021 14:06:52 @registry.py:126]\u001b[0m gen/LSTM/19/FC input: [500, 100]\n",
      "\u001b[32m[1021 14:06:52 @registry.py:134]\u001b[0m gen/LSTM/19/FC output: [500, 100]\n",
      "\u001b[32m[1021 14:06:52 @registry.py:126]\u001b[0m gen/LSTM/19/FC2 input: [500, 100]\n",
      "\u001b[32m[1021 14:06:52 @registry.py:134]\u001b[0m gen/LSTM/19/FC2 output: [500, 8]\n",
      "\u001b[32m[1021 14:06:52 @registry.py:126]\u001b[0m gen/LSTM/19/FC3 input: [500, 8]\n"
     ]
    },
    {
     "name": "stdout",
     "output_type": "stream",
     "text": [
      "\u001b[32m[1021 14:06:52 @registry.py:134]\u001b[0m gen/LSTM/19/FC3 output: [500, 100]\n",
      "\u001b[32m[1021 14:06:52 @DATGANModel.py:209]\u001b[0m \u001b[91mCreating cell for choice (in-edges: 7)\n",
      "\u001b[32m[1021 14:06:52 @registry.py:126]\u001b[0m gen/LSTM/20/FC_inputs input: [500, 700]\n",
      "\u001b[32m[1021 14:06:52 @registry.py:134]\u001b[0m gen/LSTM/20/FC_inputs output: [500, 100]\n",
      "\u001b[32m[1021 14:06:52 @registry.py:126]\u001b[0m gen/LSTM/20/FC_attentions input: [500, 700]\n",
      "\u001b[32m[1021 14:06:52 @registry.py:134]\u001b[0m gen/LSTM/20/FC_attentions output: [500, 100]\n",
      "\u001b[32m[1021 14:06:52 @registry.py:126]\u001b[0m gen/LSTM/20/FC_lstm_state_0 input: [500, 700]\n",
      "\u001b[32m[1021 14:06:52 @registry.py:134]\u001b[0m gen/LSTM/20/FC_lstm_state_0 output: [500, 100]\n",
      "\u001b[32m[1021 14:06:52 @registry.py:126]\u001b[0m gen/LSTM/20/FC_lstm_state_1 input: [500, 700]\n",
      "\u001b[32m[1021 14:06:52 @registry.py:134]\u001b[0m gen/LSTM/20/FC_lstm_state_1 output: [500, 100]\n",
      "\u001b[32m[1021 14:06:52 @registry.py:126]\u001b[0m gen/LSTM/21/FC input: [500, 100]\n",
      "\u001b[32m[1021 14:06:52 @registry.py:134]\u001b[0m gen/LSTM/21/FC output: [500, 100]\n",
      "\u001b[32m[1021 14:06:52 @registry.py:126]\u001b[0m gen/LSTM/21/FC2 input: [500, 100]\n",
      "\u001b[32m[1021 14:06:52 @registry.py:134]\u001b[0m gen/LSTM/21/FC2 output: [500, 5]\n",
      "\u001b[32m[1021 14:06:52 @registry.py:126]\u001b[0m gen/LSTM/21/FC3 input: [500, 5]\n",
      "\u001b[32m[1021 14:06:52 @registry.py:134]\u001b[0m gen/LSTM/21/FC3 output: [500, 100]\n",
      "WARNING:tensorflow:From C:\\Users\\glede\\Documents\\EPFL\\PhD\\SynthPop\\code\\modules\\datgan\\DATGANModel.py:603: The name tf.random_uniform is deprecated. Please use tf.random.uniform instead.\n",
      "\n",
      "\u001b[32m[1021 14:06:52 @registry.py:126]\u001b[0m discrim/dis_fc0/fc input: [500, 120]\n",
      "\u001b[32m[1021 14:06:52 @registry.py:134]\u001b[0m discrim/dis_fc0/fc output: [500, 100]\n",
      "\u001b[32m[1021 14:06:52 @registry.py:126]\u001b[0m discrim/dis_fc0/fc_diversity input: [500, 100]\n",
      "\u001b[32m[1021 14:06:52 @registry.py:134]\u001b[0m discrim/dis_fc0/fc_diversity output: [500, 100]\n",
      "\u001b[32m[1021 14:06:52 @registry.py:126]\u001b[0m discrim/dis_fc_top input: [500, 110]\n",
      "\u001b[32m[1021 14:06:52 @registry.py:134]\u001b[0m discrim/dis_fc_top output: [500, 1]\n",
      "WARNING:tensorflow:From D:\\Users\\glede\\anaconda3\\envs\\py37\\lib\\site-packages\\tensorpack\\tfutils\\summary.py:269: The name tf.add_to_collection is deprecated. Please use tf.compat.v1.add_to_collection instead.\n",
      "\n",
      "WARNING:tensorflow:From C:\\Users\\glede\\Documents\\EPFL\\PhD\\SynthPop\\code\\modules\\datgan\\DATGANModel.py:704: The name tf.train.AdamOptimizer is deprecated. Please use tf.compat.v1.train.AdamOptimizer instead.\n",
      "\n",
      "\u001b[32m[1021 14:06:55 @DATGAN.py:200]\u001b[0m Found an already existing model. Loading it!\n",
      "WARNING:tensorflow:From D:\\Users\\glede\\anaconda3\\envs\\py37\\lib\\site-packages\\tensorpack\\tfutils\\varmanip.py:178: The name tf.gfile.Exists is deprecated. Please use tf.io.gfile.exists instead.\n",
      "\n",
      "\u001b[32m[1021 14:06:55 @logger.py:83]\u001b[0m Existing log file '../output/Chicago/DATWGAN_99/logs\\log.log' backuped to '../output/Chicago/DATWGAN_99/logs\\log.log.1021-140655'\n",
      "\u001b[32m[1021 14:06:55 @logger.py:90]\u001b[0m Argv: D:\\Users\\glede\\anaconda3\\envs\\py37\\lib\\site-packages\\ipykernel_launcher.py -f C:\\Users\\glede\\AppData\\Roaming\\jupyter\\runtime\\kernel-88a43e1a-6673-4cdd-93c4-5ec84841fa9d.json\n",
      "WARNING:tensorflow:From D:\\Users\\glede\\anaconda3\\envs\\py37\\lib\\site-packages\\tensorpack\\callbacks\\saver.py:43: The name tf.gfile.IsDirectory is deprecated. Please use tf.io.gfile.isdir instead.\n",
      "\n",
      "WARNING:tensorflow:From D:\\Users\\glede\\anaconda3\\envs\\py37\\lib\\site-packages\\tensorpack\\tfutils\\common.py:41: The name tf.ConfigProto is deprecated. Please use tf.compat.v1.ConfigProto instead.\n",
      "\n",
      "\u001b[32m[1021 14:06:55 @model_utils.py:67]\u001b[0m \u001b[36mList of Trainable Variables: \n",
      "\u001b[0mname                              shape         #elements\n",
      "--------------------------------  ----------  -----------\n",
      "gen/LSTM/go_age:0                 [1, 100]            100\n",
      "gen/LSTM/lstm_cell/kernel:0       [500, 400]       200000\n",
      "gen/LSTM/lstm_cell/bias:0         [400]               400\n",
      "gen/LSTM/00/FC/W:0                [100, 100]        10000\n",
      "gen/LSTM/00/FC/b:0                [100]               100\n",
      "gen/LSTM/00/FC2_val/W:0           [100, 6]            600\n",
      "gen/LSTM/00/FC2_val/b:0           [6]                   6\n",
      "gen/LSTM/00/FC2_prob/W:0          [100, 6]            600\n",
      "gen/LSTM/00/FC2_prob/b:0          [6]                   6\n",
      "gen/LSTM/00/FC3/W:0               [12, 100]          1200\n",
      "gen/LSTM/00/FC3/b:0               [100]               100\n",
      "gen/LSTM/00/attw:0                [1, 1, 1]             1\n",
      "gen/LSTM/go_gender:0              [1, 100]            100\n",
      "gen/LSTM/01/FC/W:0                [100, 100]        10000\n",
      "gen/LSTM/01/FC/b:0                [100]               100\n",
      "gen/LSTM/01/FC2/W:0               [100, 2]            200\n",
      "gen/LSTM/01/FC2/b:0               [2]                   2\n",
      "gen/LSTM/01/FC3/W:0               [2, 100]            200\n",
      "gen/LSTM/01/FC3/b:0               [100]               100\n",
      "gen/LSTM/01/attw:0                [1, 1, 1]             1\n",
      "gen/LSTM/go_travel_dow:0          [1, 100]            100\n",
      "gen/LSTM/02/FC/W:0                [100, 100]        10000\n",
      "gen/LSTM/02/FC/b:0                [100]               100\n",
      "gen/LSTM/02/FC2/W:0               [100, 7]            700\n",
      "gen/LSTM/02/FC2/b:0               [7]                   7\n",
      "gen/LSTM/02/FC3/W:0               [7, 100]            700\n",
      "gen/LSTM/02/FC3/b:0               [100]               100\n",
      "gen/LSTM/02/attw:0                [1, 1, 1]             1\n",
      "gen/LSTM/03/FC/W:0                [100, 100]        10000\n",
      "gen/LSTM/03/FC/b:0                [100]               100\n",
      "gen/LSTM/03/FC2/W:0               [100, 2]            200\n",
      "gen/LSTM/03/FC2/b:0               [2]                   2\n",
      "gen/LSTM/03/FC3/W:0               [2, 100]            200\n",
      "gen/LSTM/03/FC3/b:0               [100]               100\n",
      "gen/LSTM/03/attw:0                [2, 1, 1]             2\n",
      "gen/LSTM/04/FC/W:0                [100, 100]        10000\n",
      "gen/LSTM/04/FC/b:0                [100]               100\n",
      "gen/LSTM/04/FC2/W:0               [100, 6]            600\n",
      "gen/LSTM/04/FC2/b:0               [6]                   6\n",
      "gen/LSTM/04/FC3/W:0               [6, 100]            600\n",
      "gen/LSTM/04/FC3/b:0               [100]               100\n",
      "gen/LSTM/04/attw:0                [2, 1, 1]             2\n",
      "gen/LSTM/05/FC_inputs/W:0         [200, 100]        20000\n",
      "gen/LSTM/05/FC_inputs/b:0         [100]               100\n",
      "gen/LSTM/05/FC_attentions/W:0     [200, 100]        20000\n",
      "gen/LSTM/05/FC_attentions/b:0     [100]               100\n",
      "gen/LSTM/05/FC_lstm_state_0/W:0   [200, 100]        20000\n",
      "gen/LSTM/05/FC_lstm_state_0/b:0   [100]               100\n",
      "gen/LSTM/05/FC_lstm_state_1/W:0   [200, 100]        20000\n",
      "gen/LSTM/05/FC_lstm_state_1/b:0   [100]               100\n",
      "gen/LSTM/06/FC/W:0                [100, 100]        10000\n",
      "gen/LSTM/06/FC/b:0                [100]               100\n",
      "gen/LSTM/06/FC2/W:0               [100, 8]            800\n",
      "gen/LSTM/06/FC2/b:0               [8]                   8\n",
      "gen/LSTM/06/FC3/W:0               [8, 100]            800\n",
      "gen/LSTM/06/FC3/b:0               [100]               100\n",
      "gen/LSTM/06/attw:0                [4, 1, 1]             4\n",
      "gen/LSTM/07/FC_inputs/W:0         [200, 100]        20000\n",
      "gen/LSTM/07/FC_inputs/b:0         [100]               100\n",
      "gen/LSTM/07/FC_attentions/W:0     [200, 100]        20000\n",
      "gen/LSTM/07/FC_attentions/b:0     [100]               100\n",
      "gen/LSTM/07/FC_lstm_state_0/W:0   [200, 100]        20000\n",
      "gen/LSTM/07/FC_lstm_state_0/b:0   [100]               100\n",
      "gen/LSTM/07/FC_lstm_state_1/W:0   [200, 100]        20000\n",
      "gen/LSTM/07/FC_lstm_state_1/b:0   [100]               100\n",
      "gen/LSTM/08/FC/W:0                [100, 100]        10000\n",
      "gen/LSTM/08/FC/b:0                [100]               100\n",
      "gen/LSTM/08/FC2/W:0               [100, 7]            700\n",
      "gen/LSTM/08/FC2/b:0               [7]                   7\n",
      "gen/LSTM/08/FC3/W:0               [7, 100]            700\n",
      "gen/LSTM/08/FC3/b:0               [100]               100\n",
      "gen/LSTM/08/attw:0                [5, 1, 1]             5\n",
      "gen/LSTM/09/FC/W:0                [100, 100]        10000\n",
      "gen/LSTM/09/FC/b:0                [100]               100\n",
      "gen/LSTM/09/FC2/W:0               [100, 7]            700\n",
      "gen/LSTM/09/FC2/b:0               [7]                   7\n",
      "gen/LSTM/09/FC3/W:0               [7, 100]            700\n",
      "gen/LSTM/09/FC3/b:0               [100]               100\n",
      "gen/LSTM/09/attw:0                [5, 1, 1]             5\n",
      "gen/LSTM/10/FC_inputs/W:0         [200, 100]        20000\n",
      "gen/LSTM/10/FC_inputs/b:0         [100]               100\n",
      "gen/LSTM/10/FC_attentions/W:0     [200, 100]        20000\n",
      "gen/LSTM/10/FC_attentions/b:0     [100]               100\n",
      "gen/LSTM/10/FC_lstm_state_0/W:0   [200, 100]        20000\n",
      "gen/LSTM/10/FC_lstm_state_0/b:0   [100]               100\n",
      "gen/LSTM/10/FC_lstm_state_1/W:0   [200, 100]        20000\n",
      "gen/LSTM/10/FC_lstm_state_1/b:0   [100]               100\n",
      "gen/LSTM/11/FC/W:0                [100, 100]        10000\n",
      "gen/LSTM/11/FC/b:0                [100]               100\n",
      "gen/LSTM/11/FC2/W:0               [100, 3]            300\n",
      "gen/LSTM/11/FC2/b:0               [3]                   3\n",
      "gen/LSTM/11/FC3/W:0               [3, 100]            300\n",
      "gen/LSTM/11/FC3/b:0               [100]               100\n",
      "gen/LSTM/11/attw:0                [6, 1, 1]             6\n",
      "gen/LSTM/12/FC_inputs/W:0         [300, 100]        30000\n",
      "gen/LSTM/12/FC_inputs/b:0         [100]               100\n",
      "gen/LSTM/12/FC_attentions/W:0     [300, 100]        30000\n",
      "gen/LSTM/12/FC_attentions/b:0     [100]               100\n",
      "gen/LSTM/12/FC_lstm_state_0/W:0   [300, 100]        30000\n",
      "gen/LSTM/12/FC_lstm_state_0/b:0   [100]               100\n",
      "gen/LSTM/12/FC_lstm_state_1/W:0   [300, 100]        30000\n",
      "gen/LSTM/12/FC_lstm_state_1/b:0   [100]               100\n",
      "gen/LSTM/13/FC/W:0                [100, 100]        10000\n",
      "gen/LSTM/13/FC/b:0                [100]               100\n",
      "gen/LSTM/13/FC2/W:0               [100, 8]            800\n",
      "gen/LSTM/13/FC2/b:0               [8]                   8\n",
      "gen/LSTM/13/FC3/W:0               [8, 100]            800\n",
      "gen/LSTM/13/FC3/b:0               [100]               100\n",
      "gen/LSTM/13/attw:0                [6, 1, 1]             6\n",
      "gen/LSTM/14/FC/W:0                [100, 100]        10000\n",
      "gen/LSTM/14/FC/b:0                [100]               100\n",
      "gen/LSTM/14/FC2_val/W:0           [100, 8]            800\n",
      "gen/LSTM/14/FC2_val/b:0           [8]                   8\n",
      "gen/LSTM/14/FC2_prob/W:0          [100, 8]            800\n",
      "gen/LSTM/14/FC2_prob/b:0          [8]                   8\n",
      "gen/LSTM/14/FC3/W:0               [16, 100]          1600\n",
      "gen/LSTM/14/FC3/b:0               [100]               100\n",
      "gen/LSTM/14/attw:0                [6, 1, 1]             6\n",
      "gen/LSTM/15/FC/W:0                [100, 100]        10000\n",
      "gen/LSTM/15/FC/b:0                [100]               100\n",
      "gen/LSTM/15/FC2_val/W:0           [100, 10]          1000\n",
      "gen/LSTM/15/FC2_val/b:0           [10]                 10\n",
      "gen/LSTM/15/FC2_prob/W:0          [100, 10]          1000\n",
      "gen/LSTM/15/FC2_prob/b:0          [10]                 10\n",
      "gen/LSTM/15/FC3/W:0               [20, 100]          2000\n",
      "gen/LSTM/15/FC3/b:0               [100]               100\n",
      "gen/LSTM/15/attw:0                [6, 1, 1]             6\n",
      "gen/LSTM/16/FC_inputs/W:0         [200, 100]        20000\n",
      "gen/LSTM/16/FC_inputs/b:0         [100]               100\n",
      "gen/LSTM/16/FC_attentions/W:0     [200, 100]        20000\n",
      "gen/LSTM/16/FC_attentions/b:0     [100]               100\n",
      "gen/LSTM/16/FC_lstm_state_0/W:0   [200, 100]        20000\n",
      "gen/LSTM/16/FC_lstm_state_0/b:0   [100]               100\n",
      "gen/LSTM/16/FC_lstm_state_1/W:0   [200, 100]        20000\n",
      "gen/LSTM/16/FC_lstm_state_1/b:0   [100]               100\n",
      "gen/LSTM/17/FC/W:0                [100, 100]        10000\n",
      "gen/LSTM/17/FC/b:0                [100]               100\n",
      "gen/LSTM/17/FC2/W:0               [100, 9]            900\n",
      "gen/LSTM/17/FC2/b:0               [9]                   9\n",
      "gen/LSTM/17/FC3/W:0               [9, 100]            900\n",
      "gen/LSTM/17/FC3/b:0               [100]               100\n",
      "gen/LSTM/17/attw:0                [7, 1, 1]             7\n",
      "gen/LSTM/18/FC_inputs/W:0         [200, 100]        20000\n",
      "gen/LSTM/18/FC_inputs/b:0         [100]               100\n",
      "gen/LSTM/18/FC_attentions/W:0     [200, 100]        20000\n",
      "gen/LSTM/18/FC_attentions/b:0     [100]               100\n",
      "gen/LSTM/18/FC_lstm_state_0/W:0   [200, 100]        20000\n",
      "gen/LSTM/18/FC_lstm_state_0/b:0   [100]               100\n",
      "gen/LSTM/18/FC_lstm_state_1/W:0   [200, 100]        20000\n",
      "gen/LSTM/18/FC_lstm_state_1/b:0   [100]               100\n",
      "gen/LSTM/19/FC/W:0                [100, 100]        10000\n",
      "gen/LSTM/19/FC/b:0                [100]               100\n",
      "gen/LSTM/19/FC2/W:0               [100, 8]            800\n",
      "gen/LSTM/19/FC2/b:0               [8]                   8\n",
      "gen/LSTM/19/FC3/W:0               [8, 100]            800\n",
      "gen/LSTM/19/FC3/b:0               [100]               100\n",
      "gen/LSTM/19/attw:0                [7, 1, 1]             7\n",
      "gen/LSTM/20/FC_inputs/W:0         [700, 100]        70000\n",
      "gen/LSTM/20/FC_inputs/b:0         [100]               100\n",
      "gen/LSTM/20/FC_attentions/W:0     [700, 100]        70000\n",
      "gen/LSTM/20/FC_attentions/b:0     [100]               100\n",
      "gen/LSTM/20/FC_lstm_state_0/W:0   [700, 100]        70000\n",
      "gen/LSTM/20/FC_lstm_state_0/b:0   [100]               100\n",
      "gen/LSTM/20/FC_lstm_state_1/W:0   [700, 100]        70000\n",
      "gen/LSTM/20/FC_lstm_state_1/b:0   [100]               100\n",
      "gen/LSTM/21/FC/W:0                [100, 100]        10000\n",
      "gen/LSTM/21/FC/b:0                [100]               100\n",
      "gen/LSTM/21/FC2/W:0               [100, 5]            500\n",
      "gen/LSTM/21/FC2/b:0               [5]                   5\n",
      "gen/LSTM/21/FC3/W:0               [5, 100]            500\n",
      "gen/LSTM/21/FC3/b:0               [100]               100\n",
      "gen/LSTM/21/attw:0                [14, 1, 1]           14\n",
      "discrim/dis_fc0/fc/W:0            [120, 100]        12000\n",
      "discrim/dis_fc0/fc/b:0            [100]               100\n",
      "discrim/dis_fc0/fc_diversity/W:0  [100, 100]        10000\n",
      "discrim/dis_fc0/fc_diversity/b:0  [100]               100\n",
      "discrim/dis_fc0/ln/beta:0         [110]               110\n",
      "discrim/dis_fc0/ln/gamma:0        [110]               110\n",
      "discrim/dis_fc_top/W:0            [110, 1]            110\n",
      "discrim/dis_fc_top/b:0            [1]                   1\u001b[36m\n",
      "Number of trainable variables: 180\n",
      "Number of parameters (elements): 1203224\n",
      "Storage space needed for all trainable variables: 4.59MB\u001b[0m\n"
     ]
    },
    {
     "name": "stdout",
     "output_type": "stream",
     "text": [
      "\u001b[32m[1021 14:06:55 @base.py:209]\u001b[0m Setup callbacks graph ...\n",
      "WARNING:tensorflow:From D:\\Users\\glede\\anaconda3\\envs\\py37\\lib\\site-packages\\tensorpack\\callbacks\\graph.py:54: The name tf.train.SessionRunArgs is deprecated. Please use tf.estimator.SessionRunArgs instead.\n",
      "\n",
      "WARNING:tensorflow:From D:\\Users\\glede\\anaconda3\\envs\\py37\\lib\\site-packages\\tensorpack\\tfutils\\common.py:75: The name tf.VariableScope is deprecated. Please use tf.compat.v1.VariableScope instead.\n",
      "\n",
      "WARNING:tensorflow:From D:\\Users\\glede\\anaconda3\\envs\\py37\\lib\\site-packages\\tensorpack\\tfutils\\common.py:77: The name tf.train.get_or_create_global_step is deprecated. Please use tf.compat.v1.train.get_or_create_global_step instead.\n",
      "\n",
      "WARNING:tensorflow:From D:\\Users\\glede\\anaconda3\\envs\\py37\\lib\\site-packages\\tensorpack\\callbacks\\steps.py:117: The name tf.assign_add is deprecated. Please use tf.compat.v1.assign_add instead.\n",
      "\n",
      "WARNING:tensorflow:From D:\\Users\\glede\\anaconda3\\envs\\py37\\lib\\site-packages\\tensorpack\\callbacks\\saver.py:55: The name tf.train.Saver is deprecated. Please use tf.compat.v1.train.Saver instead.\n",
      "\n",
      "WARNING:tensorflow:From D:\\Users\\glede\\anaconda3\\envs\\py37\\lib\\site-packages\\tensorpack\\callbacks\\saver.py:59: The name tf.train.SaverDef is deprecated. Please use tf.compat.v1.train.SaverDef instead.\n",
      "\n",
      "\u001b[32m[1021 14:06:55 @summary.py:46]\u001b[0m [MovingAverageSummary] 4 operations in collection 'MOVING_SUMMARY_OPS' will be run with session hooks.\n",
      "\u001b[32m[1021 14:06:55 @summary.py:93]\u001b[0m Summarizing collection 'summaries' of size 5.\n",
      "WARNING:tensorflow:From D:\\Users\\glede\\anaconda3\\envs\\py37\\lib\\site-packages\\tensorpack\\callbacks\\summary.py:94: The name tf.summary.merge_all is deprecated. Please use tf.compat.v1.summary.merge_all instead.\n",
      "\n",
      "WARNING:tensorflow:From D:\\Users\\glede\\anaconda3\\envs\\py37\\lib\\site-packages\\tensorpack\\callbacks\\monitor.py:261: The name tf.summary.FileWriter is deprecated. Please use tf.compat.v1.summary.FileWriter instead.\n",
      "\n",
      "WARNING:tensorflow:From D:\\Users\\glede\\anaconda3\\envs\\py37\\lib\\site-packages\\tensorpack\\tfutils\\sessinit.py:120: The name tf.train.NewCheckpointReader is deprecated. Please use tf.compat.v1.train.NewCheckpointReader instead.\n",
      "\n",
      "WARNING:tensorflow:From D:\\Users\\glede\\anaconda3\\envs\\py37\\lib\\site-packages\\tensorpack\\tfutils\\sessinit.py:127: The name tf.global_variables is deprecated. Please use tf.compat.v1.global_variables instead.\n",
      "\n",
      "\u001b[32m[1021 14:06:56 @base.py:230]\u001b[0m Creating the session ...\n",
      "WARNING:tensorflow:From D:\\Users\\glede\\anaconda3\\envs\\py37\\lib\\site-packages\\tensorpack\\tfutils\\sesscreate.py:42: The name tf.Session is deprecated. Please use tf.compat.v1.Session instead.\n",
      "\n",
      "WARNING:tensorflow:From D:\\Users\\glede\\anaconda3\\envs\\py37\\lib\\site-packages\\tensorpack\\tfutils\\sesscreate.py:71: The name tf.global_variables_initializer is deprecated. Please use tf.compat.v1.global_variables_initializer instead.\n",
      "\n",
      "WARNING:tensorflow:From D:\\Users\\glede\\anaconda3\\envs\\py37\\lib\\site-packages\\tensorpack\\tfutils\\sesscreate.py:62: get_backward_walk_ops (from tensorflow.contrib.graph_editor.select) is deprecated and will be removed after 2019-06-06.\n",
      "Instructions for updating:\n",
      "Please use tensorflow.python.ops.op_selector.get_backward_walk_ops.\n",
      "WARNING:tensorflow:From D:\\Users\\glede\\anaconda3\\envs\\py37\\lib\\site-packages\\tensorpack\\tfutils\\sesscreate.py:72: The name tf.local_variables_initializer is deprecated. Please use tf.compat.v1.local_variables_initializer instead.\n",
      "\n",
      "WARNING:tensorflow:From D:\\Users\\glede\\anaconda3\\envs\\py37\\lib\\site-packages\\tensorpack\\tfutils\\sesscreate.py:73: The name tf.tables_initializer is deprecated. Please use tf.compat.v1.tables_initializer instead.\n",
      "\n",
      "WARNING:tensorflow:From D:\\Users\\glede\\anaconda3\\envs\\py37\\lib\\site-packages\\tensorpack\\train\\base.py:254: The name tf.train.MonitoredSession is deprecated. Please use tf.compat.v1.train.MonitoredSession instead.\n",
      "\n",
      "\u001b[32m[1021 14:06:58 @base.py:236]\u001b[0m Initializing the session ...\n",
      "\u001b[32m[1021 14:06:58 @sessinit.py:114]\u001b[0m Restoring checkpoint from ../output/Chicago/DATWGAN_99/model\\model-3500 ...\n",
      "INFO:tensorflow:Restoring parameters from ../output/Chicago/DATWGAN_99/model\\model-3500\n",
      "\u001b[32m[1021 14:06:58 @base.py:243]\u001b[0m Graph Finalized.\n",
      "WARNING:tensorflow:From D:\\Users\\glede\\anaconda3\\envs\\py37\\lib\\site-packages\\tensorpack\\tfutils\\common.py:89: The name tf.train.global_step is deprecated. Please use tf.compat.v1.train.global_step instead.\n",
      "\n",
      "WARNING:tensorflow:From D:\\Users\\glede\\anaconda3\\envs\\py37\\lib\\site-packages\\tensorpack\\tfutils\\common.py:90: The name tf.get_default_session is deprecated. Please use tf.compat.v1.get_default_session instead.\n",
      "\n",
      "\u001b[32m[1021 14:06:58 @concurrency.py:38]\u001b[0m Starting EnqueueThread QueueInput/input_queue ...\n",
      "\u001b[32m[1021 14:06:58 @steps.py:124]\u001b[0m Start training with global_step=3500\n",
      "\u001b[32m[1021 14:06:59 @monitor.py:347]\u001b[0m Found existing JSON inside ../output/Chicago/DATWGAN_99/logs, will append to it.\n",
      "\u001b[32m[1021 14:06:59 @base.py:275]\u001b[0m Start Epoch 11 ...\n"
     ]
    },
    {
     "name": "stderr",
     "output_type": "stream",
     "text": [
      " 98%|#################################################################################1 |171/175[00:11<00:00,18.31it/s]"
     ]
    },
    {
     "name": "stdout",
     "output_type": "stream",
     "text": [
      "WARNING:tensorflow:From D:\\Users\\glede\\anaconda3\\envs\\py37\\lib\\site-packages\\tensorpack\\callbacks\\monitor.py:148: The name tf.Summary is deprecated. Please use tf.compat.v1.Summary instead.\n",
      "\n"
     ]
    },
    {
     "name": "stderr",
     "output_type": "stream",
     "text": [
      "\r",
      "100%|###################################################################################|175/175[00:13<00:00,12.62it/s]"
     ]
    },
    {
     "name": "stdout",
     "output_type": "stream",
     "text": [
      "\u001b[32m[1021 14:07:12 @base.py:285]\u001b[0m Epoch 11 (global_step 3850) finished, time:13.9 seconds.\n",
      "WARNING:tensorflow:From D:\\Users\\glede\\anaconda3\\envs\\py37\\lib\\site-packages\\tensorpack\\callbacks\\saver.py:77: The name tf.train.get_global_step is deprecated. Please use tf.compat.v1.train.get_global_step instead.\n",
      "\n"
     ]
    },
    {
     "name": "stderr",
     "output_type": "stream",
     "text": [
      "\n"
     ]
    },
    {
     "name": "stdout",
     "output_type": "stream",
     "text": [
      "\u001b[32m[1021 14:07:13 @saver.py:79]\u001b[0m Model saved to ../output/Chicago/DATWGAN_99/model\\model-3850.\n",
      "\u001b[32m[1021 14:07:13 @monitor.py:467]\u001b[0m GAN_loss/d_loss: 0.065118\n",
      "\u001b[32m[1021 14:07:13 @monitor.py:467]\u001b[0m GAN_loss/g_loss: -6.2189\n",
      "\u001b[32m[1021 14:07:13 @monitor.py:467]\u001b[0m GAN_loss/gradient_penalty: 0.0064043\n",
      "\u001b[32m[1021 14:07:13 @monitor.py:467]\u001b[0m GAN_loss/gradient_rms: 0.99386\n",
      "\u001b[32m[1021 14:07:13 @monitor.py:467]\u001b[0m QueueInput/queue_size: 50\n",
      "\u001b[32m[1021 14:07:13 @base.py:275]\u001b[0m Start Epoch 12 ...\n"
     ]
    },
    {
     "name": "stderr",
     "output_type": "stream",
     "text": [
      "100%|###################################################################################|175/175[00:09<00:00,18.40it/s]"
     ]
    },
    {
     "name": "stdout",
     "output_type": "stream",
     "text": [
      "\u001b[32m[1021 14:07:22 @base.py:285]\u001b[0m Epoch 12 (global_step 4200) finished, time:9.51 seconds.\n",
      "\u001b[32m[1021 14:07:22 @saver.py:79]\u001b[0m Model saved to ../output/Chicago/DATWGAN_99/model\\model-4200.\n",
      "\u001b[32m[1021 14:07:22 @monitor.py:467]\u001b[0m GAN_loss/d_loss: 0.06029\n",
      "\u001b[32m[1021 14:07:22 @monitor.py:467]\u001b[0m GAN_loss/g_loss: -6.3543\n",
      "\u001b[32m[1021 14:07:22 @monitor.py:467]\u001b[0m GAN_loss/gradient_penalty: 0.0061877\n",
      "\u001b[32m[1021 14:07:22 @monitor.py:467]\u001b[0m GAN_loss/gradient_rms: 0.99325\n",
      "\u001b[32m[1021 14:07:22 @monitor.py:467]\u001b[0m QueueInput/queue_size: 50\n",
      "\u001b[32m[1021 14:07:22 @base.py:275]\u001b[0m Start Epoch 13 ...\n"
     ]
    },
    {
     "name": "stderr",
     "output_type": "stream",
     "text": [
      "\n",
      "100%|###################################################################################|175/175[00:09<00:00,18.46it/s]"
     ]
    },
    {
     "name": "stdout",
     "output_type": "stream",
     "text": [
      "\u001b[32m[1021 14:07:32 @base.py:285]\u001b[0m Epoch 13 (global_step 4550) finished, time:9.48 seconds.\n",
      "\u001b[32m[1021 14:07:32 @saver.py:79]\u001b[0m Model saved to ../output/Chicago/DATWGAN_99/model\\model-4550.\n",
      "\u001b[32m[1021 14:07:32 @monitor.py:467]\u001b[0m GAN_loss/d_loss: 0.061265\n",
      "\u001b[32m[1021 14:07:32 @monitor.py:467]\u001b[0m GAN_loss/g_loss: -6.3087\n",
      "\u001b[32m[1021 14:07:32 @monitor.py:467]\u001b[0m GAN_loss/gradient_penalty: 0.0064161\n",
      "\u001b[32m[1021 14:07:32 @monitor.py:467]\u001b[0m GAN_loss/gradient_rms: 0.99366\n",
      "\u001b[32m[1021 14:07:32 @monitor.py:467]\u001b[0m QueueInput/queue_size: 50\n",
      "\u001b[32m[1021 14:07:32 @base.py:275]\u001b[0m Start Epoch 14 ...\n"
     ]
    },
    {
     "name": "stderr",
     "output_type": "stream",
     "text": [
      "\n",
      "100%|###################################################################################|175/175[00:09<00:00,18.48it/s]"
     ]
    },
    {
     "name": "stdout",
     "output_type": "stream",
     "text": [
      "\u001b[32m[1021 14:07:41 @base.py:285]\u001b[0m Epoch 14 (global_step 4900) finished, time:9.47 seconds.\n",
      "\u001b[32m[1021 14:07:41 @saver.py:79]\u001b[0m Model saved to ../output/Chicago/DATWGAN_99/model\\model-4900.\n",
      "\u001b[32m[1021 14:07:41 @monitor.py:467]\u001b[0m GAN_loss/d_loss: 0.052772\n",
      "\u001b[32m[1021 14:07:41 @monitor.py:467]\u001b[0m GAN_loss/g_loss: -6.4561\n",
      "\u001b[32m[1021 14:07:41 @monitor.py:467]\u001b[0m GAN_loss/gradient_penalty: 0.0064841\n",
      "\u001b[32m[1021 14:07:41 @monitor.py:467]\u001b[0m GAN_loss/gradient_rms: 0.99397\n",
      "\u001b[32m[1021 14:07:41 @monitor.py:467]\u001b[0m QueueInput/queue_size: 50\n",
      "\u001b[32m[1021 14:07:41 @base.py:275]\u001b[0m Start Epoch 15 ...\n"
     ]
    },
    {
     "name": "stderr",
     "output_type": "stream",
     "text": [
      "\n",
      "100%|###################################################################################|175/175[00:09<00:00,18.49it/s]"
     ]
    },
    {
     "name": "stdout",
     "output_type": "stream",
     "text": [
      "\u001b[32m[1021 14:07:51 @base.py:285]\u001b[0m Epoch 15 (global_step 5250) finished, time:9.47 seconds.\n",
      "\u001b[32m[1021 14:07:51 @saver.py:79]\u001b[0m Model saved to ../output/Chicago/DATWGAN_99/model\\model-5250.\n",
      "\u001b[32m[1021 14:07:51 @monitor.py:467]\u001b[0m GAN_loss/d_loss: 0.058966\n",
      "\u001b[32m[1021 14:07:51 @monitor.py:467]\u001b[0m GAN_loss/g_loss: -6.5461\n",
      "\u001b[32m[1021 14:07:51 @monitor.py:467]\u001b[0m GAN_loss/gradient_penalty: 0.0062641\n",
      "\u001b[32m[1021 14:07:51 @monitor.py:467]\u001b[0m GAN_loss/gradient_rms: 0.99235\n",
      "\u001b[32m[1021 14:07:51 @monitor.py:467]\u001b[0m QueueInput/queue_size: 50\n",
      "\u001b[32m[1021 14:07:51 @base.py:275]\u001b[0m Start Epoch 16 ...\n"
     ]
    },
    {
     "name": "stderr",
     "output_type": "stream",
     "text": [
      "\n",
      "100%|###################################################################################|175/175[00:09<00:00,18.48it/s]"
     ]
    },
    {
     "name": "stdout",
     "output_type": "stream",
     "text": [
      "\u001b[32m[1021 14:08:00 @base.py:285]\u001b[0m Epoch 16 (global_step 5600) finished, time:9.47 seconds.\n",
      "\u001b[32m[1021 14:08:01 @saver.py:79]\u001b[0m Model saved to ../output/Chicago/DATWGAN_99/model\\model-5600.\n",
      "\u001b[32m[1021 14:08:01 @monitor.py:467]\u001b[0m GAN_loss/d_loss: 0.047734\n",
      "\u001b[32m[1021 14:08:01 @monitor.py:467]\u001b[0m GAN_loss/g_loss: -6.7875\n",
      "\u001b[32m[1021 14:08:01 @monitor.py:467]\u001b[0m GAN_loss/gradient_penalty: 0.0062682\n",
      "\u001b[32m[1021 14:08:01 @monitor.py:467]\u001b[0m GAN_loss/gradient_rms: 0.99479\n",
      "\u001b[32m[1021 14:08:01 @monitor.py:467]\u001b[0m QueueInput/queue_size: 50\n",
      "\u001b[32m[1021 14:08:01 @base.py:275]\u001b[0m Start Epoch 17 ...\n"
     ]
    },
    {
     "name": "stderr",
     "output_type": "stream",
     "text": [
      "\n",
      "100%|###################################################################################|175/175[00:09<00:00,18.47it/s]"
     ]
    },
    {
     "name": "stdout",
     "output_type": "stream",
     "text": [
      "\u001b[32m[1021 14:08:10 @base.py:285]\u001b[0m Epoch 17 (global_step 5950) finished, time:9.47 seconds.\n",
      "\u001b[32m[1021 14:08:10 @saver.py:79]\u001b[0m Model saved to ../output/Chicago/DATWGAN_99/model\\model-5950.\n",
      "\u001b[32m[1021 14:08:10 @monitor.py:467]\u001b[0m GAN_loss/d_loss: 0.06291\n",
      "\u001b[32m[1021 14:08:10 @monitor.py:467]\u001b[0m GAN_loss/g_loss: -6.8757\n",
      "\u001b[32m[1021 14:08:10 @monitor.py:467]\u001b[0m GAN_loss/gradient_penalty: 0.0063139\n",
      "\u001b[32m[1021 14:08:10 @monitor.py:467]\u001b[0m GAN_loss/gradient_rms: 0.99145\n",
      "\u001b[32m[1021 14:08:10 @monitor.py:467]\u001b[0m QueueInput/queue_size: 50\n",
      "\u001b[32m[1021 14:08:10 @base.py:275]\u001b[0m Start Epoch 18 ...\n"
     ]
    },
    {
     "name": "stderr",
     "output_type": "stream",
     "text": [
      "\n",
      "100%|###################################################################################|175/175[00:09<00:00,18.49it/s]"
     ]
    },
    {
     "name": "stdout",
     "output_type": "stream",
     "text": [
      "\u001b[32m[1021 14:08:20 @base.py:285]\u001b[0m Epoch 18 (global_step 6300) finished, time:9.47 seconds.\n",
      "\u001b[32m[1021 14:08:20 @saver.py:79]\u001b[0m Model saved to ../output/Chicago/DATWGAN_99/model\\model-6300.\n",
      "\u001b[32m[1021 14:08:20 @monitor.py:467]\u001b[0m GAN_loss/d_loss: 0.043263\n",
      "\u001b[32m[1021 14:08:20 @monitor.py:467]\u001b[0m GAN_loss/g_loss: -6.9467\n",
      "\u001b[32m[1021 14:08:20 @monitor.py:467]\u001b[0m GAN_loss/gradient_penalty: 0.0063101\n",
      "\u001b[32m[1021 14:08:20 @monitor.py:467]\u001b[0m GAN_loss/gradient_rms: 0.99358\n",
      "\u001b[32m[1021 14:08:20 @monitor.py:467]\u001b[0m QueueInput/queue_size: 50\n",
      "\u001b[32m[1021 14:08:20 @base.py:275]\u001b[0m Start Epoch 19 ...\n"
     ]
    },
    {
     "name": "stderr",
     "output_type": "stream",
     "text": [
      "\n",
      "100%|###################################################################################|175/175[00:09<00:00,18.44it/s]"
     ]
    },
    {
     "name": "stdout",
     "output_type": "stream",
     "text": [
      "\u001b[32m[1021 14:08:29 @base.py:285]\u001b[0m Epoch 19 (global_step 6650) finished, time:9.49 seconds.\n",
      "\u001b[32m[1021 14:08:29 @saver.py:79]\u001b[0m Model saved to ../output/Chicago/DATWGAN_99/model\\model-6650.\n",
      "\u001b[32m[1021 14:08:29 @monitor.py:467]\u001b[0m GAN_loss/d_loss: 0.048574\n",
      "\u001b[32m[1021 14:08:29 @monitor.py:467]\u001b[0m GAN_loss/g_loss: -7.0878\n",
      "\u001b[32m[1021 14:08:29 @monitor.py:467]\u001b[0m GAN_loss/gradient_penalty: 0.0062754\n",
      "\u001b[32m[1021 14:08:29 @monitor.py:467]\u001b[0m GAN_loss/gradient_rms: 0.99441\n",
      "\u001b[32m[1021 14:08:29 @monitor.py:467]\u001b[0m QueueInput/queue_size: 50\n",
      "\u001b[32m[1021 14:08:29 @base.py:275]\u001b[0m Start Epoch 20 ...\n"
     ]
    },
    {
     "name": "stderr",
     "output_type": "stream",
     "text": [
      "\n",
      "100%|###################################################################################|175/175[00:09<00:00,18.45it/s]"
     ]
    },
    {
     "name": "stdout",
     "output_type": "stream",
     "text": [
      "\u001b[32m[1021 14:08:39 @base.py:285]\u001b[0m Epoch 20 (global_step 7000) finished, time:9.49 seconds.\n",
      "\u001b[32m[1021 14:08:39 @saver.py:79]\u001b[0m Model saved to ../output/Chicago/DATWGAN_99/model\\model-7000.\n",
      "\u001b[32m[1021 14:08:39 @monitor.py:467]\u001b[0m GAN_loss/d_loss: 0.017653\n",
      "\u001b[32m[1021 14:08:39 @monitor.py:467]\u001b[0m GAN_loss/g_loss: -7.2767\n",
      "\u001b[32m[1021 14:08:39 @monitor.py:467]\u001b[0m GAN_loss/gradient_penalty: 0.006775\n",
      "\u001b[32m[1021 14:08:39 @monitor.py:467]\u001b[0m GAN_loss/gradient_rms: 0.99524\n",
      "\u001b[32m[1021 14:08:39 @monitor.py:467]\u001b[0m QueueInput/queue_size: 50\n",
      "\u001b[32m[1021 14:08:39 @base.py:275]\u001b[0m Start Epoch 21 ...\n"
     ]
    },
    {
     "name": "stderr",
     "output_type": "stream",
     "text": [
      "\n",
      "100%|###################################################################################|175/175[00:09<00:00,18.48it/s]"
     ]
    },
    {
     "name": "stdout",
     "output_type": "stream",
     "text": [
      "\u001b[32m[1021 14:08:48 @base.py:285]\u001b[0m Epoch 21 (global_step 7350) finished, time:9.47 seconds.\n",
      "WARNING:tensorflow:From D:\\Users\\glede\\anaconda3\\envs\\py37\\lib\\site-packages\\tensorflow_core\\python\\training\\saver.py:963: remove_checkpoint (from tensorflow.python.training.checkpoint_management) is deprecated and will be removed in a future version.\n",
      "Instructions for updating:\n",
      "Use standard file APIs to delete files with this prefix.\n",
      "\u001b[32m[1021 14:08:48 @saver.py:79]\u001b[0m Model saved to ../output/Chicago/DATWGAN_99/model\\model-7350.\n",
      "\u001b[32m[1021 14:08:48 @monitor.py:467]\u001b[0m GAN_loss/d_loss: -0.028148\n",
      "\u001b[32m[1021 14:08:48 @monitor.py:467]\u001b[0m GAN_loss/g_loss: -7.547\n",
      "\u001b[32m[1021 14:08:48 @monitor.py:467]\u001b[0m GAN_loss/gradient_penalty: 0.0074553\n",
      "\u001b[32m[1021 14:08:48 @monitor.py:467]\u001b[0m GAN_loss/gradient_rms: 0.99742\n",
      "\u001b[32m[1021 14:08:48 @monitor.py:467]\u001b[0m QueueInput/queue_size: 50\n",
      "\u001b[32m[1021 14:08:48 @base.py:275]\u001b[0m Start Epoch 22 ...\n"
     ]
    },
    {
     "name": "stderr",
     "output_type": "stream",
     "text": [
      "\n",
      "100%|###################################################################################|175/175[00:09<00:00,18.48it/s]"
     ]
    },
    {
     "name": "stdout",
     "output_type": "stream",
     "text": [
      "\u001b[32m[1021 14:08:58 @base.py:285]\u001b[0m Epoch 22 (global_step 7700) finished, time:9.47 seconds.\n",
      "\u001b[32m[1021 14:08:58 @saver.py:79]\u001b[0m Model saved to ../output/Chicago/DATWGAN_99/model\\model-7700.\n",
      "\u001b[32m[1021 14:08:58 @monitor.py:467]\u001b[0m GAN_loss/d_loss: 0.0056787\n",
      "\u001b[32m[1021 14:08:58 @monitor.py:467]\u001b[0m GAN_loss/g_loss: -8.1457\n",
      "\u001b[32m[1021 14:08:58 @monitor.py:467]\u001b[0m GAN_loss/gradient_penalty: 0.0084543\n",
      "\u001b[32m[1021 14:08:58 @monitor.py:467]\u001b[0m GAN_loss/gradient_rms: 0.99271\n",
      "\u001b[32m[1021 14:08:58 @monitor.py:467]\u001b[0m QueueInput/queue_size: 50\n",
      "\u001b[32m[1021 14:08:58 @base.py:275]\u001b[0m Start Epoch 23 ...\n"
     ]
    },
    {
     "name": "stderr",
     "output_type": "stream",
     "text": [
      "\n",
      "100%|###################################################################################|175/175[00:09<00:00,18.47it/s]"
     ]
    },
    {
     "name": "stdout",
     "output_type": "stream",
     "text": [
      "\u001b[32m[1021 14:09:07 @base.py:285]\u001b[0m Epoch 23 (global_step 8050) finished, time:9.48 seconds.\n",
      "\u001b[32m[1021 14:09:07 @saver.py:79]\u001b[0m Model saved to ../output/Chicago/DATWGAN_99/model\\model-8050.\n",
      "\u001b[32m[1021 14:09:07 @monitor.py:467]\u001b[0m GAN_loss/d_loss: -0.30469\n",
      "\u001b[32m[1021 14:09:07 @monitor.py:467]\u001b[0m GAN_loss/g_loss: -8.0863\n",
      "\u001b[32m[1021 14:09:07 @monitor.py:467]\u001b[0m GAN_loss/gradient_penalty: 0.01138\n",
      "\u001b[32m[1021 14:09:07 @monitor.py:467]\u001b[0m GAN_loss/gradient_rms: 0.99613\n",
      "\u001b[32m[1021 14:09:07 @monitor.py:467]\u001b[0m QueueInput/queue_size: 50\n",
      "\u001b[32m[1021 14:09:07 @base.py:275]\u001b[0m Start Epoch 24 ...\n"
     ]
    },
    {
     "name": "stderr",
     "output_type": "stream",
     "text": [
      "\n",
      "100%|###################################################################################|175/175[00:09<00:00,18.48it/s]"
     ]
    },
    {
     "name": "stdout",
     "output_type": "stream",
     "text": [
      "\u001b[32m[1021 14:09:17 @base.py:285]\u001b[0m Epoch 24 (global_step 8400) finished, time:9.47 seconds.\n",
      "\u001b[32m[1021 14:09:17 @saver.py:79]\u001b[0m Model saved to ../output/Chicago/DATWGAN_99/model\\model-8400.\n",
      "\u001b[32m[1021 14:09:17 @monitor.py:467]\u001b[0m GAN_loss/d_loss: -0.4413\n",
      "\u001b[32m[1021 14:09:17 @monitor.py:467]\u001b[0m GAN_loss/g_loss: -7.9685\n",
      "\u001b[32m[1021 14:09:17 @monitor.py:467]\u001b[0m GAN_loss/gradient_penalty: 0.017346\n",
      "\u001b[32m[1021 14:09:17 @monitor.py:467]\u001b[0m GAN_loss/gradient_rms: 1.0016\n",
      "\u001b[32m[1021 14:09:17 @monitor.py:467]\u001b[0m QueueInput/queue_size: 50\n",
      "\u001b[32m[1021 14:09:17 @base.py:275]\u001b[0m Start Epoch 25 ...\n"
     ]
    },
    {
     "name": "stderr",
     "output_type": "stream",
     "text": [
      "\n",
      "100%|###################################################################################|175/175[00:09<00:00,18.48it/s]"
     ]
    },
    {
     "name": "stdout",
     "output_type": "stream",
     "text": [
      "\u001b[32m[1021 14:09:26 @base.py:285]\u001b[0m Epoch 25 (global_step 8750) finished, time:9.47 seconds.\n",
      "\u001b[32m[1021 14:09:27 @saver.py:79]\u001b[0m Model saved to ../output/Chicago/DATWGAN_99/model\\model-8750.\n",
      "\u001b[32m[1021 14:09:27 @monitor.py:467]\u001b[0m GAN_loss/d_loss: -0.48795\n",
      "\u001b[32m[1021 14:09:27 @monitor.py:467]\u001b[0m GAN_loss/g_loss: -8.4399\n",
      "\u001b[32m[1021 14:09:27 @monitor.py:467]\u001b[0m GAN_loss/gradient_penalty: 0.013997\n",
      "\u001b[32m[1021 14:09:27 @monitor.py:467]\u001b[0m GAN_loss/gradient_rms: 0.99641\n",
      "\u001b[32m[1021 14:09:27 @monitor.py:467]\u001b[0m QueueInput/queue_size: 50\n",
      "\u001b[32m[1021 14:09:27 @base.py:275]\u001b[0m Start Epoch 26 ...\n"
     ]
    },
    {
     "name": "stderr",
     "output_type": "stream",
     "text": [
      "\n",
      "100%|###################################################################################|175/175[00:09<00:00,18.48it/s]"
     ]
    },
    {
     "name": "stdout",
     "output_type": "stream",
     "text": [
      "\u001b[32m[1021 14:09:36 @base.py:285]\u001b[0m Epoch 26 (global_step 9100) finished, time:9.47 seconds.\n",
      "\u001b[32m[1021 14:09:36 @saver.py:79]\u001b[0m Model saved to ../output/Chicago/DATWGAN_99/model\\model-9100.\n",
      "\u001b[32m[1021 14:09:36 @monitor.py:467]\u001b[0m GAN_loss/d_loss: -0.14852\n",
      "\u001b[32m[1021 14:09:36 @monitor.py:467]\u001b[0m GAN_loss/g_loss: -9.2583\n",
      "\u001b[32m[1021 14:09:36 @monitor.py:467]\u001b[0m GAN_loss/gradient_penalty: 0.014206\n",
      "\u001b[32m[1021 14:09:36 @monitor.py:467]\u001b[0m GAN_loss/gradient_rms: 0.99567\n",
      "\u001b[32m[1021 14:09:36 @monitor.py:467]\u001b[0m QueueInput/queue_size: 50\n",
      "\u001b[32m[1021 14:09:36 @base.py:275]\u001b[0m Start Epoch 27 ...\n"
     ]
    },
    {
     "name": "stderr",
     "output_type": "stream",
     "text": [
      "\n",
      "100%|###################################################################################|175/175[00:09<00:00,18.48it/s]"
     ]
    },
    {
     "name": "stdout",
     "output_type": "stream",
     "text": [
      "\u001b[32m[1021 14:09:46 @base.py:285]\u001b[0m Epoch 27 (global_step 9450) finished, time:9.47 seconds.\n",
      "\u001b[32m[1021 14:09:46 @saver.py:79]\u001b[0m Model saved to ../output/Chicago/DATWGAN_99/model\\model-9450.\n",
      "\u001b[32m[1021 14:09:46 @monitor.py:467]\u001b[0m GAN_loss/d_loss: 0.02583\n",
      "\u001b[32m[1021 14:09:46 @monitor.py:467]\u001b[0m GAN_loss/g_loss: -9.1787\n",
      "\u001b[32m[1021 14:09:46 @monitor.py:467]\u001b[0m GAN_loss/gradient_penalty: 0.0085349\n",
      "\u001b[32m[1021 14:09:46 @monitor.py:467]\u001b[0m GAN_loss/gradient_rms: 0.9943\n",
      "\u001b[32m[1021 14:09:46 @monitor.py:467]\u001b[0m QueueInput/queue_size: 50\n",
      "\u001b[32m[1021 14:09:46 @base.py:275]\u001b[0m Start Epoch 28 ...\n"
     ]
    },
    {
     "name": "stderr",
     "output_type": "stream",
     "text": [
      "\n",
      "100%|###################################################################################|175/175[00:09<00:00,18.47it/s]"
     ]
    },
    {
     "name": "stdout",
     "output_type": "stream",
     "text": [
      "\u001b[32m[1021 14:09:55 @base.py:285]\u001b[0m Epoch 28 (global_step 9800) finished, time:9.48 seconds.\n",
      "\u001b[32m[1021 14:09:55 @saver.py:79]\u001b[0m Model saved to ../output/Chicago/DATWGAN_99/model\\model-9800.\n",
      "\u001b[32m[1021 14:09:55 @monitor.py:467]\u001b[0m GAN_loss/d_loss: 0.054795\n",
      "\u001b[32m[1021 14:09:55 @monitor.py:467]\u001b[0m GAN_loss/g_loss: -9.7079\n",
      "\u001b[32m[1021 14:09:55 @monitor.py:467]\u001b[0m GAN_loss/gradient_penalty: 0.0079872\n",
      "\u001b[32m[1021 14:09:55 @monitor.py:467]\u001b[0m GAN_loss/gradient_rms: 0.99189\n",
      "\u001b[32m[1021 14:09:55 @monitor.py:467]\u001b[0m QueueInput/queue_size: 50\n",
      "\u001b[32m[1021 14:09:55 @base.py:275]\u001b[0m Start Epoch 29 ...\n"
     ]
    },
    {
     "name": "stderr",
     "output_type": "stream",
     "text": [
      "\n",
      "100%|###################################################################################|175/175[00:09<00:00,18.47it/s]"
     ]
    },
    {
     "name": "stdout",
     "output_type": "stream",
     "text": [
      "\u001b[32m[1021 14:10:05 @base.py:285]\u001b[0m Epoch 29 (global_step 10150) finished, time:9.47 seconds.\n",
      "\u001b[32m[1021 14:10:05 @saver.py:79]\u001b[0m Model saved to ../output/Chicago/DATWGAN_99/model\\model-10150.\n",
      "\u001b[32m[1021 14:10:05 @monitor.py:467]\u001b[0m GAN_loss/d_loss: 0.0036571\n",
      "\u001b[32m[1021 14:10:05 @monitor.py:467]\u001b[0m GAN_loss/g_loss: -9.9224\n",
      "\u001b[32m[1021 14:10:05 @monitor.py:467]\u001b[0m GAN_loss/gradient_penalty: 0.0077651\n",
      "\u001b[32m[1021 14:10:05 @monitor.py:467]\u001b[0m GAN_loss/gradient_rms: 0.99435\n",
      "\u001b[32m[1021 14:10:05 @monitor.py:467]\u001b[0m QueueInput/queue_size: 50\n",
      "\u001b[32m[1021 14:10:05 @base.py:275]\u001b[0m Start Epoch 30 ...\n"
     ]
    },
    {
     "name": "stderr",
     "output_type": "stream",
     "text": [
      "\n",
      "100%|###################################################################################|175/175[00:09<00:00,18.48it/s]"
     ]
    },
    {
     "name": "stdout",
     "output_type": "stream",
     "text": [
      "\u001b[32m[1021 14:10:14 @base.py:285]\u001b[0m Epoch 30 (global_step 10500) finished, time:9.47 seconds.\n",
      "\u001b[32m[1021 14:10:14 @saver.py:79]\u001b[0m Model saved to ../output/Chicago/DATWGAN_99/model\\model-10500.\n",
      "\u001b[32m[1021 14:10:14 @monitor.py:467]\u001b[0m GAN_loss/d_loss: -0.10245\n",
      "\u001b[32m[1021 14:10:14 @monitor.py:467]\u001b[0m GAN_loss/g_loss: -10.117\n",
      "\u001b[32m[1021 14:10:14 @monitor.py:467]\u001b[0m GAN_loss/gradient_penalty: 0.0088893\n",
      "\u001b[32m[1021 14:10:14 @monitor.py:467]\u001b[0m GAN_loss/gradient_rms: 0.99455\n",
      "\u001b[32m[1021 14:10:14 @monitor.py:467]\u001b[0m QueueInput/queue_size: 50\n",
      "\u001b[32m[1021 14:10:14 @base.py:275]\u001b[0m Start Epoch 31 ...\n"
     ]
    },
    {
     "name": "stderr",
     "output_type": "stream",
     "text": [
      "\n",
      "100%|###################################################################################|175/175[00:09<00:00,18.47it/s]"
     ]
    },
    {
     "name": "stdout",
     "output_type": "stream",
     "text": [
      "\u001b[32m[1021 14:10:24 @base.py:285]\u001b[0m Epoch 31 (global_step 10850) finished, time:9.47 seconds.\n",
      "\u001b[32m[1021 14:10:24 @saver.py:79]\u001b[0m Model saved to ../output/Chicago/DATWGAN_99/model\\model-10850.\n",
      "\u001b[32m[1021 14:10:24 @monitor.py:467]\u001b[0m GAN_loss/d_loss: -0.38332\n",
      "\u001b[32m[1021 14:10:24 @monitor.py:467]\u001b[0m GAN_loss/g_loss: -10.648\n",
      "\u001b[32m[1021 14:10:24 @monitor.py:467]\u001b[0m GAN_loss/gradient_penalty: 0.012669\n",
      "\u001b[32m[1021 14:10:24 @monitor.py:467]\u001b[0m GAN_loss/gradient_rms: 0.99982\n",
      "\u001b[32m[1021 14:10:24 @monitor.py:467]\u001b[0m QueueInput/queue_size: 50\n",
      "\u001b[32m[1021 14:10:24 @base.py:275]\u001b[0m Start Epoch 32 ...\n"
     ]
    },
    {
     "name": "stderr",
     "output_type": "stream",
     "text": [
      "\n",
      "100%|###################################################################################|175/175[00:09<00:00,18.42it/s]"
     ]
    },
    {
     "name": "stdout",
     "output_type": "stream",
     "text": [
      "\u001b[32m[1021 14:10:33 @base.py:285]\u001b[0m Epoch 32 (global_step 11200) finished, time:9.5 seconds.\n",
      "\u001b[32m[1021 14:10:33 @saver.py:79]\u001b[0m Model saved to ../output/Chicago/DATWGAN_99/model\\model-11200.\n",
      "\u001b[32m[1021 14:10:34 @monitor.py:467]\u001b[0m GAN_loss/d_loss: -0.66488\n",
      "\u001b[32m[1021 14:10:34 @monitor.py:467]\u001b[0m GAN_loss/g_loss: -11.364\n",
      "\u001b[32m[1021 14:10:34 @monitor.py:467]\u001b[0m GAN_loss/gradient_penalty: 0.016906\n",
      "\u001b[32m[1021 14:10:34 @monitor.py:467]\u001b[0m GAN_loss/gradient_rms: 0.99774\n",
      "\u001b[32m[1021 14:10:34 @monitor.py:467]\u001b[0m QueueInput/queue_size: 50\n",
      "\u001b[32m[1021 14:10:34 @base.py:275]\u001b[0m Start Epoch 33 ...\n"
     ]
    },
    {
     "name": "stderr",
     "output_type": "stream",
     "text": [
      "\n",
      "100%|###################################################################################|175/175[00:09<00:00,18.46it/s]"
     ]
    },
    {
     "name": "stdout",
     "output_type": "stream",
     "text": [
      "\u001b[32m[1021 14:10:43 @base.py:285]\u001b[0m Epoch 33 (global_step 11550) finished, time:9.48 seconds.\n",
      "\u001b[32m[1021 14:10:43 @saver.py:79]\u001b[0m Model saved to ../output/Chicago/DATWGAN_99/model\\model-11550.\n",
      "\u001b[32m[1021 14:10:43 @monitor.py:467]\u001b[0m GAN_loss/d_loss: -0.82533\n",
      "\u001b[32m[1021 14:10:43 @monitor.py:467]\u001b[0m GAN_loss/g_loss: -11.122\n",
      "\u001b[32m[1021 14:10:43 @monitor.py:467]\u001b[0m GAN_loss/gradient_penalty: 0.020736\n",
      "\u001b[32m[1021 14:10:43 @monitor.py:467]\u001b[0m GAN_loss/gradient_rms: 1.0046\n",
      "\u001b[32m[1021 14:10:43 @monitor.py:467]\u001b[0m QueueInput/queue_size: 50\n",
      "\u001b[32m[1021 14:10:43 @base.py:275]\u001b[0m Start Epoch 34 ...\n"
     ]
    },
    {
     "name": "stderr",
     "output_type": "stream",
     "text": [
      "\n",
      "100%|###################################################################################|175/175[00:09<00:00,18.42it/s]"
     ]
    },
    {
     "name": "stdout",
     "output_type": "stream",
     "text": [
      "\u001b[32m[1021 14:10:53 @base.py:285]\u001b[0m Epoch 34 (global_step 11900) finished, time:9.5 seconds.\n",
      "\u001b[32m[1021 14:10:53 @saver.py:79]\u001b[0m Model saved to ../output/Chicago/DATWGAN_99/model\\model-11900.\n",
      "\u001b[32m[1021 14:10:53 @monitor.py:467]\u001b[0m GAN_loss/d_loss: -0.62948\n",
      "\u001b[32m[1021 14:10:53 @monitor.py:467]\u001b[0m GAN_loss/g_loss: -10.979\n",
      "\u001b[32m[1021 14:10:53 @monitor.py:467]\u001b[0m GAN_loss/gradient_penalty: 0.020521\n",
      "\u001b[32m[1021 14:10:53 @monitor.py:467]\u001b[0m GAN_loss/gradient_rms: 1.0004\n",
      "\u001b[32m[1021 14:10:53 @monitor.py:467]\u001b[0m QueueInput/queue_size: 50\n",
      "\u001b[32m[1021 14:10:53 @base.py:275]\u001b[0m Start Epoch 35 ...\n"
     ]
    },
    {
     "name": "stderr",
     "output_type": "stream",
     "text": [
      "\n",
      "100%|###################################################################################|175/175[00:09<00:00,18.43it/s]"
     ]
    },
    {
     "name": "stdout",
     "output_type": "stream",
     "text": [
      "\u001b[32m[1021 14:11:02 @base.py:285]\u001b[0m Epoch 35 (global_step 12250) finished, time:9.5 seconds.\n",
      "\u001b[32m[1021 14:11:02 @saver.py:79]\u001b[0m Model saved to ../output/Chicago/DATWGAN_99/model\\model-12250.\n",
      "\u001b[32m[1021 14:11:02 @monitor.py:467]\u001b[0m GAN_loss/d_loss: -1.0036\n",
      "\u001b[32m[1021 14:11:02 @monitor.py:467]\u001b[0m GAN_loss/g_loss: -9.2467\n",
      "\u001b[32m[1021 14:11:02 @monitor.py:467]\u001b[0m GAN_loss/gradient_penalty: 0.028325\n",
      "\u001b[32m[1021 14:11:02 @monitor.py:467]\u001b[0m GAN_loss/gradient_rms: 1.0005\n",
      "\u001b[32m[1021 14:11:02 @monitor.py:467]\u001b[0m QueueInput/queue_size: 50\n",
      "\u001b[32m[1021 14:11:02 @base.py:275]\u001b[0m Start Epoch 36 ...\n"
     ]
    },
    {
     "name": "stderr",
     "output_type": "stream",
     "text": [
      "\n",
      "100%|###################################################################################|175/175[00:09<00:00,18.43it/s]"
     ]
    },
    {
     "name": "stdout",
     "output_type": "stream",
     "text": [
      "\u001b[32m[1021 14:11:12 @base.py:285]\u001b[0m Epoch 36 (global_step 12600) finished, time:9.5 seconds.\n",
      "\u001b[32m[1021 14:11:12 @saver.py:79]\u001b[0m Model saved to ../output/Chicago/DATWGAN_99/model\\model-12600.\n",
      "\u001b[32m[1021 14:11:12 @monitor.py:467]\u001b[0m GAN_loss/d_loss: -2.5972\n",
      "\u001b[32m[1021 14:11:12 @monitor.py:467]\u001b[0m GAN_loss/g_loss: -8.9492\n",
      "\u001b[32m[1021 14:11:12 @monitor.py:467]\u001b[0m GAN_loss/gradient_penalty: 0.04528\n",
      "\u001b[32m[1021 14:11:12 @monitor.py:467]\u001b[0m GAN_loss/gradient_rms: 1.0079\n",
      "\u001b[32m[1021 14:11:12 @monitor.py:467]\u001b[0m QueueInput/queue_size: 50\n",
      "\u001b[32m[1021 14:11:12 @base.py:275]\u001b[0m Start Epoch 37 ...\n"
     ]
    },
    {
     "name": "stderr",
     "output_type": "stream",
     "text": [
      "\n",
      "100%|###################################################################################|175/175[00:09<00:00,18.43it/s]"
     ]
    },
    {
     "name": "stdout",
     "output_type": "stream",
     "text": [
      "\u001b[32m[1021 14:11:21 @base.py:285]\u001b[0m Epoch 37 (global_step 12950) finished, time:9.5 seconds.\n",
      "\u001b[32m[1021 14:11:21 @saver.py:79]\u001b[0m Model saved to ../output/Chicago/DATWGAN_99/model\\model-12950.\n",
      "\u001b[32m[1021 14:11:21 @monitor.py:467]\u001b[0m GAN_loss/d_loss: -4.6673\n",
      "\u001b[32m[1021 14:11:21 @monitor.py:467]\u001b[0m GAN_loss/g_loss: -9.6294\n",
      "\u001b[32m[1021 14:11:21 @monitor.py:467]\u001b[0m GAN_loss/gradient_penalty: 0.048322\n",
      "\u001b[32m[1021 14:11:21 @monitor.py:467]\u001b[0m GAN_loss/gradient_rms: 1.0149\n",
      "\u001b[32m[1021 14:11:21 @monitor.py:467]\u001b[0m QueueInput/queue_size: 50\n",
      "\u001b[32m[1021 14:11:21 @base.py:275]\u001b[0m Start Epoch 38 ...\n"
     ]
    },
    {
     "name": "stderr",
     "output_type": "stream",
     "text": [
      "\n",
      "100%|###################################################################################|175/175[00:09<00:00,18.43it/s]"
     ]
    },
    {
     "name": "stdout",
     "output_type": "stream",
     "text": [
      "\u001b[32m[1021 14:11:31 @base.py:285]\u001b[0m Epoch 38 (global_step 13300) finished, time:9.49 seconds.\n",
      "\u001b[32m[1021 14:11:31 @saver.py:79]\u001b[0m Model saved to ../output/Chicago/DATWGAN_99/model\\model-13300.\n",
      "\u001b[32m[1021 14:11:31 @monitor.py:467]\u001b[0m GAN_loss/d_loss: -2.9381\n",
      "\u001b[32m[1021 14:11:31 @monitor.py:467]\u001b[0m GAN_loss/g_loss: -9.5803\n",
      "\u001b[32m[1021 14:11:31 @monitor.py:467]\u001b[0m GAN_loss/gradient_penalty: 0.044004\n",
      "\u001b[32m[1021 14:11:31 @monitor.py:467]\u001b[0m GAN_loss/gradient_rms: 1.0042\n",
      "\u001b[32m[1021 14:11:31 @monitor.py:467]\u001b[0m QueueInput/queue_size: 50\n",
      "\u001b[32m[1021 14:11:31 @base.py:275]\u001b[0m Start Epoch 39 ...\n"
     ]
    },
    {
     "name": "stderr",
     "output_type": "stream",
     "text": [
      "\n",
      "100%|###################################################################################|175/175[00:09<00:00,18.43it/s]"
     ]
    },
    {
     "name": "stdout",
     "output_type": "stream",
     "text": [
      "\u001b[32m[1021 14:11:40 @base.py:285]\u001b[0m Epoch 39 (global_step 13650) finished, time:9.5 seconds.\n",
      "\u001b[32m[1021 14:11:41 @saver.py:79]\u001b[0m Model saved to ../output/Chicago/DATWGAN_99/model\\model-13650.\n",
      "\u001b[32m[1021 14:11:41 @monitor.py:467]\u001b[0m GAN_loss/d_loss: -6.0831\n",
      "\u001b[32m[1021 14:11:41 @monitor.py:467]\u001b[0m GAN_loss/g_loss: -14.264\n",
      "\u001b[32m[1021 14:11:41 @monitor.py:467]\u001b[0m GAN_loss/gradient_penalty: 0.054017\n",
      "\u001b[32m[1021 14:11:41 @monitor.py:467]\u001b[0m GAN_loss/gradient_rms: 1.0117\n",
      "\u001b[32m[1021 14:11:41 @monitor.py:467]\u001b[0m QueueInput/queue_size: 50\n",
      "\u001b[32m[1021 14:11:41 @base.py:275]\u001b[0m Start Epoch 40 ...\n"
     ]
    },
    {
     "name": "stderr",
     "output_type": "stream",
     "text": [
      "\n",
      "100%|###################################################################################|175/175[00:09<00:00,18.43it/s]"
     ]
    },
    {
     "name": "stdout",
     "output_type": "stream",
     "text": [
      "\u001b[32m[1021 14:11:50 @base.py:285]\u001b[0m Epoch 40 (global_step 14000) finished, time:9.5 seconds.\n",
      "\u001b[32m[1021 14:11:50 @saver.py:79]\u001b[0m Model saved to ../output/Chicago/DATWGAN_99/model\\model-14000.\n",
      "\u001b[32m[1021 14:11:50 @monitor.py:467]\u001b[0m GAN_loss/d_loss: -11.773\n",
      "\u001b[32m[1021 14:11:50 @monitor.py:467]\u001b[0m GAN_loss/g_loss: -8.7177\n",
      "\u001b[32m[1021 14:11:50 @monitor.py:467]\u001b[0m GAN_loss/gradient_penalty: 0.065463\n",
      "\u001b[32m[1021 14:11:50 @monitor.py:467]\u001b[0m GAN_loss/gradient_rms: 1.0181\n",
      "\u001b[32m[1021 14:11:50 @monitor.py:467]\u001b[0m QueueInput/queue_size: 50\n",
      "\u001b[32m[1021 14:11:50 @base.py:275]\u001b[0m Start Epoch 41 ...\n"
     ]
    },
    {
     "name": "stderr",
     "output_type": "stream",
     "text": [
      "\n",
      "100%|###################################################################################|175/175[00:09<00:00,18.43it/s]"
     ]
    },
    {
     "name": "stdout",
     "output_type": "stream",
     "text": [
      "\u001b[32m[1021 14:12:00 @base.py:285]\u001b[0m Epoch 41 (global_step 14350) finished, time:9.5 seconds.\n",
      "\u001b[32m[1021 14:12:00 @saver.py:79]\u001b[0m Model saved to ../output/Chicago/DATWGAN_99/model\\model-14350.\n",
      "\u001b[32m[1021 14:12:00 @monitor.py:467]\u001b[0m GAN_loss/d_loss: -4.8264\n",
      "\u001b[32m[1021 14:12:00 @monitor.py:467]\u001b[0m GAN_loss/g_loss: -17.806\n",
      "\u001b[32m[1021 14:12:00 @monitor.py:467]\u001b[0m GAN_loss/gradient_penalty: 0.039498\n",
      "\u001b[32m[1021 14:12:00 @monitor.py:467]\u001b[0m GAN_loss/gradient_rms: 1.0052\n",
      "\u001b[32m[1021 14:12:00 @monitor.py:467]\u001b[0m QueueInput/queue_size: 50\n",
      "\u001b[32m[1021 14:12:00 @base.py:275]\u001b[0m Start Epoch 42 ...\n"
     ]
    },
    {
     "name": "stderr",
     "output_type": "stream",
     "text": [
      "\n",
      "100%|###################################################################################|175/175[00:09<00:00,18.43it/s]"
     ]
    },
    {
     "name": "stdout",
     "output_type": "stream",
     "text": [
      "\u001b[32m[1021 14:12:09 @base.py:285]\u001b[0m Epoch 42 (global_step 14700) finished, time:9.5 seconds.\n",
      "\u001b[32m[1021 14:12:09 @saver.py:79]\u001b[0m Model saved to ../output/Chicago/DATWGAN_99/model\\model-14700.\n",
      "\u001b[32m[1021 14:12:09 @monitor.py:467]\u001b[0m GAN_loss/d_loss: -10.42\n",
      "\u001b[32m[1021 14:12:09 @monitor.py:467]\u001b[0m GAN_loss/g_loss: -17.687\n",
      "\u001b[32m[1021 14:12:09 @monitor.py:467]\u001b[0m GAN_loss/gradient_penalty: 0.065886\n",
      "\u001b[32m[1021 14:12:09 @monitor.py:467]\u001b[0m GAN_loss/gradient_rms: 1.0205\n",
      "\u001b[32m[1021 14:12:09 @monitor.py:467]\u001b[0m QueueInput/queue_size: 50\n",
      "\u001b[32m[1021 14:12:09 @base.py:275]\u001b[0m Start Epoch 43 ...\n"
     ]
    },
    {
     "name": "stderr",
     "output_type": "stream",
     "text": [
      "\n",
      "100%|###################################################################################|175/175[00:09<00:00,18.43it/s]"
     ]
    },
    {
     "name": "stdout",
     "output_type": "stream",
     "text": [
      "\u001b[32m[1021 14:12:19 @base.py:285]\u001b[0m Epoch 43 (global_step 15050) finished, time:9.5 seconds.\n",
      "\u001b[32m[1021 14:12:19 @saver.py:79]\u001b[0m Model saved to ../output/Chicago/DATWGAN_99/model\\model-15050.\n",
      "\u001b[32m[1021 14:12:19 @monitor.py:467]\u001b[0m GAN_loss/d_loss: -14.266\n",
      "\u001b[32m[1021 14:12:19 @monitor.py:467]\u001b[0m GAN_loss/g_loss: -15.473\n",
      "\u001b[32m[1021 14:12:19 @monitor.py:467]\u001b[0m GAN_loss/gradient_penalty: 0.069359\n",
      "\u001b[32m[1021 14:12:19 @monitor.py:467]\u001b[0m GAN_loss/gradient_rms: 1.0123\n",
      "\u001b[32m[1021 14:12:19 @monitor.py:467]\u001b[0m QueueInput/queue_size: 50\n",
      "\u001b[32m[1021 14:12:19 @base.py:275]\u001b[0m Start Epoch 44 ...\n"
     ]
    },
    {
     "name": "stderr",
     "output_type": "stream",
     "text": [
      "\n",
      "100%|###################################################################################|175/175[00:09<00:00,18.39it/s]"
     ]
    },
    {
     "name": "stdout",
     "output_type": "stream",
     "text": [
      "\u001b[32m[1021 14:12:28 @base.py:285]\u001b[0m Epoch 44 (global_step 15400) finished, time:9.52 seconds.\n",
      "\u001b[32m[1021 14:12:29 @saver.py:79]\u001b[0m Model saved to ../output/Chicago/DATWGAN_99/model\\model-15400.\n",
      "\u001b[32m[1021 14:12:29 @monitor.py:467]\u001b[0m GAN_loss/d_loss: -15.001\n",
      "\u001b[32m[1021 14:12:29 @monitor.py:467]\u001b[0m GAN_loss/g_loss: -14.215\n",
      "\u001b[32m[1021 14:12:29 @monitor.py:467]\u001b[0m GAN_loss/gradient_penalty: 0.074653\n",
      "\u001b[32m[1021 14:12:29 @monitor.py:467]\u001b[0m GAN_loss/gradient_rms: 1.0139\n",
      "\u001b[32m[1021 14:12:29 @monitor.py:467]\u001b[0m QueueInput/queue_size: 50\n",
      "\u001b[32m[1021 14:12:29 @base.py:275]\u001b[0m Start Epoch 45 ...\n"
     ]
    },
    {
     "name": "stderr",
     "output_type": "stream",
     "text": [
      "\n",
      "100%|###################################################################################|175/175[00:09<00:00,18.13it/s]"
     ]
    },
    {
     "name": "stdout",
     "output_type": "stream",
     "text": [
      "\u001b[32m[1021 14:12:38 @base.py:285]\u001b[0m Epoch 45 (global_step 15750) finished, time:9.65 seconds.\n",
      "\u001b[32m[1021 14:12:38 @saver.py:79]\u001b[0m Model saved to ../output/Chicago/DATWGAN_99/model\\model-15750.\n",
      "\u001b[32m[1021 14:12:38 @monitor.py:467]\u001b[0m GAN_loss/d_loss: -4.6496\n",
      "\u001b[32m[1021 14:12:38 @monitor.py:467]\u001b[0m GAN_loss/g_loss: -17.239\n",
      "\u001b[32m[1021 14:12:38 @monitor.py:467]\u001b[0m GAN_loss/gradient_penalty: 0.058582\n",
      "\u001b[32m[1021 14:12:38 @monitor.py:467]\u001b[0m GAN_loss/gradient_rms: 1.0288\n",
      "\u001b[32m[1021 14:12:38 @monitor.py:467]\u001b[0m QueueInput/queue_size: 50\n",
      "\u001b[32m[1021 14:12:38 @base.py:275]\u001b[0m Start Epoch 46 ...\n"
     ]
    },
    {
     "name": "stderr",
     "output_type": "stream",
     "text": [
      "\n",
      "100%|###################################################################################|175/175[00:09<00:00,17.90it/s]"
     ]
    },
    {
     "name": "stdout",
     "output_type": "stream",
     "text": [
      "\u001b[32m[1021 14:12:48 @base.py:285]\u001b[0m Epoch 46 (global_step 16100) finished, time:9.78 seconds.\n"
     ]
    },
    {
     "name": "stderr",
     "output_type": "stream",
     "text": [
      "\n"
     ]
    },
    {
     "name": "stdout",
     "output_type": "stream",
     "text": [
      "\u001b[32m[1021 14:12:48 @saver.py:79]\u001b[0m Model saved to ../output/Chicago/DATWGAN_99/model\\model-16100.\n",
      "\u001b[32m[1021 14:12:48 @monitor.py:467]\u001b[0m GAN_loss/d_loss: -6.4177\n",
      "\u001b[32m[1021 14:12:48 @monitor.py:467]\u001b[0m GAN_loss/g_loss: -14.315\n",
      "\u001b[32m[1021 14:12:48 @monitor.py:467]\u001b[0m GAN_loss/gradient_penalty: 0.050042\n",
      "\u001b[32m[1021 14:12:48 @monitor.py:467]\u001b[0m GAN_loss/gradient_rms: 1.0144\n",
      "\u001b[32m[1021 14:12:48 @monitor.py:467]\u001b[0m QueueInput/queue_size: 50\n",
      "\u001b[32m[1021 14:12:48 @base.py:275]\u001b[0m Start Epoch 47 ...\n"
     ]
    },
    {
     "name": "stderr",
     "output_type": "stream",
     "text": [
      "100%|###################################################################################|175/175[00:09<00:00,18.31it/s]"
     ]
    },
    {
     "name": "stdout",
     "output_type": "stream",
     "text": [
      "\u001b[32m[1021 14:12:58 @base.py:285]\u001b[0m Epoch 47 (global_step 16450) finished, time:9.56 seconds.\n",
      "\u001b[32m[1021 14:12:58 @saver.py:79]\u001b[0m Model saved to ../output/Chicago/DATWGAN_99/model\\model-16450.\n",
      "\u001b[32m[1021 14:12:58 @monitor.py:467]\u001b[0m GAN_loss/d_loss: -15.737\n",
      "\u001b[32m[1021 14:12:58 @monitor.py:467]\u001b[0m GAN_loss/g_loss: -16.958\n",
      "\u001b[32m[1021 14:12:58 @monitor.py:467]\u001b[0m GAN_loss/gradient_penalty: 0.066353\n",
      "\u001b[32m[1021 14:12:58 @monitor.py:467]\u001b[0m GAN_loss/gradient_rms: 1.0271\n",
      "\u001b[32m[1021 14:12:58 @monitor.py:467]\u001b[0m QueueInput/queue_size: 50\n",
      "\u001b[32m[1021 14:12:58 @base.py:275]\u001b[0m Start Epoch 48 ...\n"
     ]
    },
    {
     "name": "stderr",
     "output_type": "stream",
     "text": [
      "\n",
      "100%|###################################################################################|175/175[00:09<00:00,18.21it/s]"
     ]
    },
    {
     "name": "stdout",
     "output_type": "stream",
     "text": [
      "\u001b[32m[1021 14:13:07 @base.py:285]\u001b[0m Epoch 48 (global_step 16800) finished, time:9.61 seconds.\n",
      "\u001b[32m[1021 14:13:07 @saver.py:79]\u001b[0m Model saved to ../output/Chicago/DATWGAN_99/model\\model-16800.\n",
      "\u001b[32m[1021 14:13:07 @monitor.py:467]\u001b[0m GAN_loss/d_loss: -18.581\n",
      "\u001b[32m[1021 14:13:07 @monitor.py:467]\u001b[0m GAN_loss/g_loss: -13.085\n",
      "\u001b[32m[1021 14:13:07 @monitor.py:467]\u001b[0m GAN_loss/gradient_penalty: 0.0668\n",
      "\u001b[32m[1021 14:13:07 @monitor.py:467]\u001b[0m GAN_loss/gradient_rms: 1.0388\n",
      "\u001b[32m[1021 14:13:07 @monitor.py:467]\u001b[0m QueueInput/queue_size: 50\n",
      "\u001b[32m[1021 14:13:07 @base.py:275]\u001b[0m Start Epoch 49 ...\n"
     ]
    },
    {
     "name": "stderr",
     "output_type": "stream",
     "text": [
      "\n",
      "100%|###################################################################################|175/175[00:09<00:00,18.42it/s]"
     ]
    },
    {
     "name": "stdout",
     "output_type": "stream",
     "text": [
      "\u001b[32m[1021 14:13:17 @base.py:285]\u001b[0m Epoch 49 (global_step 17150) finished, time:9.5 seconds.\n",
      "\u001b[32m[1021 14:13:17 @saver.py:79]\u001b[0m Model saved to ../output/Chicago/DATWGAN_99/model\\model-17150.\n",
      "\u001b[32m[1021 14:13:17 @monitor.py:467]\u001b[0m GAN_loss/d_loss: -19.177\n",
      "\u001b[32m[1021 14:13:17 @monitor.py:467]\u001b[0m GAN_loss/g_loss: -14.7\n",
      "\u001b[32m[1021 14:13:17 @monitor.py:467]\u001b[0m GAN_loss/gradient_penalty: 0.062673\n",
      "\u001b[32m[1021 14:13:17 @monitor.py:467]\u001b[0m GAN_loss/gradient_rms: 1.0281\n",
      "\u001b[32m[1021 14:13:17 @monitor.py:467]\u001b[0m QueueInput/queue_size: 50\n",
      "\u001b[32m[1021 14:13:17 @base.py:275]\u001b[0m Start Epoch 50 ...\n"
     ]
    },
    {
     "name": "stderr",
     "output_type": "stream",
     "text": [
      "\n",
      "100%|###################################################################################|175/175[00:09<00:00,18.36it/s]"
     ]
    },
    {
     "name": "stdout",
     "output_type": "stream",
     "text": [
      "\u001b[32m[1021 14:13:27 @base.py:285]\u001b[0m Epoch 50 (global_step 17500) finished, time:9.53 seconds.\n",
      "\u001b[32m[1021 14:13:27 @saver.py:79]\u001b[0m Model saved to ../output/Chicago/DATWGAN_99/model\\model-17500.\n",
      "\u001b[32m[1021 14:13:27 @monitor.py:467]\u001b[0m GAN_loss/d_loss: -18.44\n",
      "\u001b[32m[1021 14:13:27 @monitor.py:467]\u001b[0m GAN_loss/g_loss: -16.062\n",
      "\u001b[32m[1021 14:13:27 @monitor.py:467]\u001b[0m GAN_loss/gradient_penalty: 0.064387\n",
      "\u001b[32m[1021 14:13:27 @monitor.py:467]\u001b[0m GAN_loss/gradient_rms: 1.0262\n",
      "\u001b[32m[1021 14:13:27 @monitor.py:467]\u001b[0m QueueInput/queue_size: 50\n",
      "\u001b[32m[1021 14:13:27 @base.py:275]\u001b[0m Start Epoch 51 ...\n"
     ]
    },
    {
     "name": "stderr",
     "output_type": "stream",
     "text": [
      "\n",
      "100%|###################################################################################|175/175[00:09<00:00,18.49it/s]"
     ]
    },
    {
     "name": "stdout",
     "output_type": "stream",
     "text": [
      "\u001b[32m[1021 14:13:36 @base.py:285]\u001b[0m Epoch 51 (global_step 17850) finished, time:9.46 seconds.\n",
      "\u001b[32m[1021 14:13:36 @saver.py:79]\u001b[0m Model saved to ../output/Chicago/DATWGAN_99/model\\model-17850.\n",
      "\u001b[32m[1021 14:13:36 @monitor.py:467]\u001b[0m GAN_loss/d_loss: -23.275\n",
      "\u001b[32m[1021 14:13:36 @monitor.py:467]\u001b[0m GAN_loss/g_loss: -8.8293\n",
      "\u001b[32m[1021 14:13:36 @monitor.py:467]\u001b[0m GAN_loss/gradient_penalty: 0.064313\n",
      "\u001b[32m[1021 14:13:36 @monitor.py:467]\u001b[0m GAN_loss/gradient_rms: 1.0164\n",
      "\u001b[32m[1021 14:13:36 @monitor.py:467]\u001b[0m QueueInput/queue_size: 50\n",
      "\u001b[32m[1021 14:13:36 @base.py:275]\u001b[0m Start Epoch 52 ...\n"
     ]
    },
    {
     "name": "stderr",
     "output_type": "stream",
     "text": [
      "\n",
      "100%|###################################################################################|175/175[00:09<00:00,18.49it/s]"
     ]
    },
    {
     "name": "stdout",
     "output_type": "stream",
     "text": [
      "\u001b[32m[1021 14:13:46 @base.py:285]\u001b[0m Epoch 52 (global_step 18200) finished, time:9.46 seconds.\n",
      "\u001b[32m[1021 14:13:46 @saver.py:79]\u001b[0m Model saved to ../output/Chicago/DATWGAN_99/model\\model-18200.\n",
      "\u001b[32m[1021 14:13:46 @monitor.py:467]\u001b[0m GAN_loss/d_loss: -19.579\n",
      "\u001b[32m[1021 14:13:46 @monitor.py:467]\u001b[0m GAN_loss/g_loss: -7.9334\n",
      "\u001b[32m[1021 14:13:46 @monitor.py:467]\u001b[0m GAN_loss/gradient_penalty: 0.078073\n",
      "\u001b[32m[1021 14:13:46 @monitor.py:467]\u001b[0m GAN_loss/gradient_rms: 1.0239\n",
      "\u001b[32m[1021 14:13:46 @monitor.py:467]\u001b[0m QueueInput/queue_size: 50\n",
      "\u001b[32m[1021 14:13:46 @base.py:275]\u001b[0m Start Epoch 53 ...\n"
     ]
    },
    {
     "name": "stderr",
     "output_type": "stream",
     "text": [
      "\n",
      "100%|###################################################################################|175/175[00:09<00:00,18.49it/s]"
     ]
    },
    {
     "name": "stdout",
     "output_type": "stream",
     "text": [
      "\u001b[32m[1021 14:13:55 @base.py:285]\u001b[0m Epoch 53 (global_step 18550) finished, time:9.46 seconds.\n",
      "\u001b[32m[1021 14:13:55 @saver.py:79]\u001b[0m Model saved to ../output/Chicago/DATWGAN_99/model\\model-18550.\n",
      "\u001b[32m[1021 14:13:55 @monitor.py:467]\u001b[0m GAN_loss/d_loss: -36.52\n",
      "\u001b[32m[1021 14:13:55 @monitor.py:467]\u001b[0m GAN_loss/g_loss: 13.953\n",
      "\u001b[32m[1021 14:13:55 @monitor.py:467]\u001b[0m GAN_loss/gradient_penalty: 0.069456\n",
      "\u001b[32m[1021 14:13:55 @monitor.py:467]\u001b[0m GAN_loss/gradient_rms: 1.0013\n",
      "\u001b[32m[1021 14:13:55 @monitor.py:467]\u001b[0m QueueInput/queue_size: 50\n",
      "\u001b[32m[1021 14:13:55 @base.py:275]\u001b[0m Start Epoch 54 ...\n"
     ]
    },
    {
     "name": "stderr",
     "output_type": "stream",
     "text": [
      "\n",
      "100%|###################################################################################|175/175[00:09<00:00,18.49it/s]"
     ]
    },
    {
     "name": "stdout",
     "output_type": "stream",
     "text": [
      "\u001b[32m[1021 14:14:05 @base.py:285]\u001b[0m Epoch 54 (global_step 18900) finished, time:9.47 seconds.\n",
      "\u001b[32m[1021 14:14:05 @saver.py:79]\u001b[0m Model saved to ../output/Chicago/DATWGAN_99/model\\model-18900.\n",
      "\u001b[32m[1021 14:14:05 @monitor.py:467]\u001b[0m GAN_loss/d_loss: -16.747\n",
      "\u001b[32m[1021 14:14:05 @monitor.py:467]\u001b[0m GAN_loss/g_loss: -16.716\n",
      "\u001b[32m[1021 14:14:05 @monitor.py:467]\u001b[0m GAN_loss/gradient_penalty: 0.067435\n",
      "\u001b[32m[1021 14:14:05 @monitor.py:467]\u001b[0m GAN_loss/gradient_rms: 1.0283\n",
      "\u001b[32m[1021 14:14:05 @monitor.py:467]\u001b[0m QueueInput/queue_size: 50\n",
      "\u001b[32m[1021 14:14:05 @base.py:275]\u001b[0m Start Epoch 55 ...\n"
     ]
    },
    {
     "name": "stderr",
     "output_type": "stream",
     "text": [
      "\n",
      "100%|###################################################################################|175/175[00:09<00:00,18.50it/s]"
     ]
    },
    {
     "name": "stdout",
     "output_type": "stream",
     "text": [
      "\u001b[32m[1021 14:14:14 @base.py:285]\u001b[0m Epoch 55 (global_step 19250) finished, time:9.46 seconds.\n",
      "\u001b[32m[1021 14:14:14 @saver.py:79]\u001b[0m Model saved to ../output/Chicago/DATWGAN_99/model\\model-19250.\n",
      "\u001b[32m[1021 14:14:14 @monitor.py:467]\u001b[0m GAN_loss/d_loss: -21.309\n",
      "\u001b[32m[1021 14:14:14 @monitor.py:467]\u001b[0m GAN_loss/g_loss: -0.10951\n",
      "\u001b[32m[1021 14:14:14 @monitor.py:467]\u001b[0m GAN_loss/gradient_penalty: 0.067833\n",
      "\u001b[32m[1021 14:14:14 @monitor.py:467]\u001b[0m GAN_loss/gradient_rms: 1.0228\n",
      "\u001b[32m[1021 14:14:14 @monitor.py:467]\u001b[0m QueueInput/queue_size: 50\n",
      "\u001b[32m[1021 14:14:14 @base.py:275]\u001b[0m Start Epoch 56 ...\n"
     ]
    },
    {
     "name": "stderr",
     "output_type": "stream",
     "text": [
      "\n",
      "100%|###################################################################################|175/175[00:09<00:00,18.49it/s]"
     ]
    },
    {
     "name": "stdout",
     "output_type": "stream",
     "text": [
      "\u001b[32m[1021 14:14:24 @base.py:285]\u001b[0m Epoch 56 (global_step 19600) finished, time:9.46 seconds.\n",
      "\u001b[32m[1021 14:14:24 @saver.py:79]\u001b[0m Model saved to ../output/Chicago/DATWGAN_99/model\\model-19600.\n",
      "\u001b[32m[1021 14:14:24 @monitor.py:467]\u001b[0m GAN_loss/d_loss: -25.046\n",
      "\u001b[32m[1021 14:14:24 @monitor.py:467]\u001b[0m GAN_loss/g_loss: 12.118\n",
      "\u001b[32m[1021 14:14:24 @monitor.py:467]\u001b[0m GAN_loss/gradient_penalty: 0.082743\n",
      "\u001b[32m[1021 14:14:24 @monitor.py:467]\u001b[0m GAN_loss/gradient_rms: 1.0384\n",
      "\u001b[32m[1021 14:14:24 @monitor.py:467]\u001b[0m QueueInput/queue_size: 50\n",
      "\u001b[32m[1021 14:14:24 @base.py:275]\u001b[0m Start Epoch 57 ...\n"
     ]
    },
    {
     "name": "stderr",
     "output_type": "stream",
     "text": [
      "\n",
      "100%|###################################################################################|175/175[00:09<00:00,18.49it/s]"
     ]
    },
    {
     "name": "stdout",
     "output_type": "stream",
     "text": [
      "\u001b[32m[1021 14:14:33 @base.py:285]\u001b[0m Epoch 57 (global_step 19950) finished, time:9.47 seconds.\n",
      "\u001b[32m[1021 14:14:34 @saver.py:79]\u001b[0m Model saved to ../output/Chicago/DATWGAN_99/model\\model-19950.\n",
      "\u001b[32m[1021 14:14:34 @monitor.py:467]\u001b[0m GAN_loss/d_loss: -18.578\n",
      "\u001b[32m[1021 14:14:34 @monitor.py:467]\u001b[0m GAN_loss/g_loss: -35.993\n",
      "\u001b[32m[1021 14:14:34 @monitor.py:467]\u001b[0m GAN_loss/gradient_penalty: 0.053403\n",
      "\u001b[32m[1021 14:14:34 @monitor.py:467]\u001b[0m GAN_loss/gradient_rms: 1.0303\n",
      "\u001b[32m[1021 14:14:34 @monitor.py:467]\u001b[0m QueueInput/queue_size: 50\n",
      "\u001b[32m[1021 14:14:34 @base.py:275]\u001b[0m Start Epoch 58 ...\n"
     ]
    },
    {
     "name": "stderr",
     "output_type": "stream",
     "text": [
      "\n",
      "100%|###################################################################################|175/175[00:09<00:00,18.50it/s]"
     ]
    },
    {
     "name": "stdout",
     "output_type": "stream",
     "text": [
      "\u001b[32m[1021 14:14:43 @base.py:285]\u001b[0m Epoch 58 (global_step 20300) finished, time:9.46 seconds.\n",
      "\u001b[32m[1021 14:14:43 @saver.py:79]\u001b[0m Model saved to ../output/Chicago/DATWGAN_99/model\\model-20300.\n",
      "\u001b[32m[1021 14:14:43 @monitor.py:467]\u001b[0m GAN_loss/d_loss: -18.794\n",
      "\u001b[32m[1021 14:14:43 @monitor.py:467]\u001b[0m GAN_loss/g_loss: -25.631\n",
      "\u001b[32m[1021 14:14:43 @monitor.py:467]\u001b[0m GAN_loss/gradient_penalty: 0.0548\n",
      "\u001b[32m[1021 14:14:43 @monitor.py:467]\u001b[0m GAN_loss/gradient_rms: 1.0183\n",
      "\u001b[32m[1021 14:14:43 @monitor.py:467]\u001b[0m QueueInput/queue_size: 50\n",
      "\u001b[32m[1021 14:14:43 @base.py:275]\u001b[0m Start Epoch 59 ...\n"
     ]
    },
    {
     "name": "stderr",
     "output_type": "stream",
     "text": [
      "\n",
      "100%|###################################################################################|175/175[00:09<00:00,18.42it/s]"
     ]
    },
    {
     "name": "stdout",
     "output_type": "stream",
     "text": [
      "\u001b[32m[1021 14:14:53 @base.py:285]\u001b[0m Epoch 59 (global_step 20650) finished, time:9.5 seconds.\n",
      "\u001b[32m[1021 14:14:53 @saver.py:79]\u001b[0m Model saved to ../output/Chicago/DATWGAN_99/model\\model-20650.\n",
      "\u001b[32m[1021 14:14:53 @monitor.py:467]\u001b[0m GAN_loss/d_loss: -28.595\n",
      "\u001b[32m[1021 14:14:53 @monitor.py:467]\u001b[0m GAN_loss/g_loss: -14.468\n",
      "\u001b[32m[1021 14:14:53 @monitor.py:467]\u001b[0m GAN_loss/gradient_penalty: 0.06179\n",
      "\u001b[32m[1021 14:14:53 @monitor.py:467]\u001b[0m GAN_loss/gradient_rms: 1.0198\n",
      "\u001b[32m[1021 14:14:53 @monitor.py:467]\u001b[0m QueueInput/queue_size: 50\n",
      "\u001b[32m[1021 14:14:53 @base.py:275]\u001b[0m Start Epoch 60 ...\n"
     ]
    },
    {
     "name": "stderr",
     "output_type": "stream",
     "text": [
      "\n",
      "100%|###################################################################################|175/175[00:09<00:00,18.50it/s]"
     ]
    },
    {
     "name": "stdout",
     "output_type": "stream",
     "text": [
      "\u001b[32m[1021 14:15:02 @base.py:285]\u001b[0m Epoch 60 (global_step 21000) finished, time:9.46 seconds.\n",
      "\u001b[32m[1021 14:15:02 @saver.py:79]\u001b[0m Model saved to ../output/Chicago/DATWGAN_99/model\\model-21000.\n",
      "\u001b[32m[1021 14:15:02 @monitor.py:467]\u001b[0m GAN_loss/d_loss: -32.329\n",
      "\u001b[32m[1021 14:15:02 @monitor.py:467]\u001b[0m GAN_loss/g_loss: -9.865\n",
      "\u001b[32m[1021 14:15:02 @monitor.py:467]\u001b[0m GAN_loss/gradient_penalty: 0.067751\n",
      "\u001b[32m[1021 14:15:02 @monitor.py:467]\u001b[0m GAN_loss/gradient_rms: 1.0233\n",
      "\u001b[32m[1021 14:15:02 @monitor.py:467]\u001b[0m QueueInput/queue_size: 50\n",
      "\u001b[32m[1021 14:15:02 @base.py:275]\u001b[0m Start Epoch 61 ...\n"
     ]
    },
    {
     "name": "stderr",
     "output_type": "stream",
     "text": [
      "\n",
      "100%|###################################################################################|175/175[00:09<00:00,18.49it/s]"
     ]
    },
    {
     "name": "stdout",
     "output_type": "stream",
     "text": [
      "\u001b[32m[1021 14:15:12 @base.py:285]\u001b[0m Epoch 61 (global_step 21350) finished, time:9.46 seconds.\n",
      "\u001b[32m[1021 14:15:12 @saver.py:79]\u001b[0m Model saved to ../output/Chicago/DATWGAN_99/model\\model-21350.\n",
      "\u001b[32m[1021 14:15:12 @monitor.py:467]\u001b[0m GAN_loss/d_loss: -4.0696\n",
      "\u001b[32m[1021 14:15:12 @monitor.py:467]\u001b[0m GAN_loss/g_loss: 13.025\n",
      "\u001b[32m[1021 14:15:12 @monitor.py:467]\u001b[0m GAN_loss/gradient_penalty: 1.1089\n",
      "\u001b[32m[1021 14:15:12 @monitor.py:467]\u001b[0m GAN_loss/gradient_rms: 1.291\n",
      "\u001b[32m[1021 14:15:12 @monitor.py:467]\u001b[0m QueueInput/queue_size: 50\n",
      "\u001b[32m[1021 14:15:12 @base.py:275]\u001b[0m Start Epoch 62 ...\n"
     ]
    },
    {
     "name": "stderr",
     "output_type": "stream",
     "text": [
      "\n",
      "100%|###################################################################################|175/175[00:09<00:00,18.50it/s]"
     ]
    },
    {
     "name": "stdout",
     "output_type": "stream",
     "text": [
      "\u001b[32m[1021 14:15:21 @base.py:285]\u001b[0m Epoch 62 (global_step 21700) finished, time:9.46 seconds.\n",
      "\u001b[32m[1021 14:15:21 @saver.py:79]\u001b[0m Model saved to ../output/Chicago/DATWGAN_99/model\\model-21700.\n",
      "\u001b[32m[1021 14:15:21 @monitor.py:467]\u001b[0m GAN_loss/d_loss: -39.574\n",
      "\u001b[32m[1021 14:15:21 @monitor.py:467]\u001b[0m GAN_loss/g_loss: 4.1197\n",
      "\u001b[32m[1021 14:15:21 @monitor.py:467]\u001b[0m GAN_loss/gradient_penalty: 0.059313\n",
      "\u001b[32m[1021 14:15:21 @monitor.py:467]\u001b[0m GAN_loss/gradient_rms: 1.0128\n",
      "\u001b[32m[1021 14:15:21 @monitor.py:467]\u001b[0m QueueInput/queue_size: 50\n",
      "\u001b[32m[1021 14:15:21 @base.py:275]\u001b[0m Start Epoch 63 ...\n"
     ]
    },
    {
     "name": "stderr",
     "output_type": "stream",
     "text": [
      "\n",
      "100%|###################################################################################|175/175[00:09<00:00,18.50it/s]"
     ]
    },
    {
     "name": "stdout",
     "output_type": "stream",
     "text": [
      "\u001b[32m[1021 14:15:31 @base.py:285]\u001b[0m Epoch 63 (global_step 22050) finished, time:9.46 seconds.\n",
      "\u001b[32m[1021 14:15:31 @saver.py:79]\u001b[0m Model saved to ../output/Chicago/DATWGAN_99/model\\model-22050.\n",
      "\u001b[32m[1021 14:15:31 @monitor.py:467]\u001b[0m GAN_loss/d_loss: -24.09\n",
      "\u001b[32m[1021 14:15:31 @monitor.py:467]\u001b[0m GAN_loss/g_loss: -23.621\n",
      "\u001b[32m[1021 14:15:31 @monitor.py:467]\u001b[0m GAN_loss/gradient_penalty: 0.060794\n",
      "\u001b[32m[1021 14:15:31 @monitor.py:467]\u001b[0m GAN_loss/gradient_rms: 1.0304\n",
      "\u001b[32m[1021 14:15:31 @monitor.py:467]\u001b[0m QueueInput/queue_size: 50\n",
      "\u001b[32m[1021 14:15:31 @base.py:275]\u001b[0m Start Epoch 64 ...\n"
     ]
    },
    {
     "name": "stderr",
     "output_type": "stream",
     "text": [
      "\n",
      "100%|###################################################################################|175/175[00:09<00:00,18.50it/s]"
     ]
    },
    {
     "name": "stdout",
     "output_type": "stream",
     "text": [
      "\u001b[32m[1021 14:15:40 @base.py:285]\u001b[0m Epoch 64 (global_step 22400) finished, time:9.46 seconds.\n",
      "\u001b[32m[1021 14:15:40 @saver.py:79]\u001b[0m Model saved to ../output/Chicago/DATWGAN_99/model\\model-22400.\n",
      "\u001b[32m[1021 14:15:40 @monitor.py:467]\u001b[0m GAN_loss/d_loss: -29.67\n",
      "\u001b[32m[1021 14:15:40 @monitor.py:467]\u001b[0m GAN_loss/g_loss: 4.3328\n",
      "\u001b[32m[1021 14:15:40 @monitor.py:467]\u001b[0m GAN_loss/gradient_penalty: 0.070071\n",
      "\u001b[32m[1021 14:15:40 @monitor.py:467]\u001b[0m GAN_loss/gradient_rms: 1.0362\n",
      "\u001b[32m[1021 14:15:40 @monitor.py:467]\u001b[0m QueueInput/queue_size: 50\n",
      "\u001b[32m[1021 14:15:40 @base.py:275]\u001b[0m Start Epoch 65 ...\n"
     ]
    },
    {
     "name": "stderr",
     "output_type": "stream",
     "text": [
      "\n",
      "100%|###################################################################################|175/175[00:09<00:00,18.50it/s]"
     ]
    },
    {
     "name": "stdout",
     "output_type": "stream",
     "text": [
      "\u001b[32m[1021 14:15:50 @base.py:285]\u001b[0m Epoch 65 (global_step 22750) finished, time:9.46 seconds.\n",
      "\u001b[32m[1021 14:15:50 @saver.py:79]\u001b[0m Model saved to ../output/Chicago/DATWGAN_99/model\\model-22750.\n",
      "\u001b[32m[1021 14:15:50 @monitor.py:467]\u001b[0m GAN_loss/d_loss: -20.897\n",
      "\u001b[32m[1021 14:15:50 @monitor.py:467]\u001b[0m GAN_loss/g_loss: -0.54156\n",
      "\u001b[32m[1021 14:15:50 @monitor.py:467]\u001b[0m GAN_loss/gradient_penalty: 0.12318\n",
      "\u001b[32m[1021 14:15:50 @monitor.py:467]\u001b[0m GAN_loss/gradient_rms: 1.0868\n",
      "\u001b[32m[1021 14:15:50 @monitor.py:467]\u001b[0m QueueInput/queue_size: 50\n",
      "\u001b[32m[1021 14:15:50 @base.py:275]\u001b[0m Start Epoch 66 ...\n"
     ]
    },
    {
     "name": "stderr",
     "output_type": "stream",
     "text": [
      "\n",
      "100%|###################################################################################|175/175[00:09<00:00,18.49it/s]"
     ]
    },
    {
     "name": "stdout",
     "output_type": "stream",
     "text": [
      "\u001b[32m[1021 14:15:59 @base.py:285]\u001b[0m Epoch 66 (global_step 23100) finished, time:9.46 seconds.\n",
      "\u001b[32m[1021 14:16:00 @saver.py:79]\u001b[0m Model saved to ../output/Chicago/DATWGAN_99/model\\model-23100.\n",
      "\u001b[32m[1021 14:16:00 @monitor.py:467]\u001b[0m GAN_loss/d_loss: -27.5\n",
      "\u001b[32m[1021 14:16:00 @monitor.py:467]\u001b[0m GAN_loss/g_loss: 16.598\n",
      "\u001b[32m[1021 14:16:00 @monitor.py:467]\u001b[0m GAN_loss/gradient_penalty: 0.067576\n",
      "\u001b[32m[1021 14:16:00 @monitor.py:467]\u001b[0m GAN_loss/gradient_rms: 1.0195\n",
      "\u001b[32m[1021 14:16:00 @monitor.py:467]\u001b[0m QueueInput/queue_size: 50\n",
      "\u001b[32m[1021 14:16:00 @base.py:275]\u001b[0m Start Epoch 67 ...\n"
     ]
    },
    {
     "name": "stderr",
     "output_type": "stream",
     "text": [
      "\n",
      "100%|###################################################################################|175/175[00:09<00:00,18.50it/s]"
     ]
    },
    {
     "name": "stdout",
     "output_type": "stream",
     "text": [
      "\u001b[32m[1021 14:16:09 @base.py:285]\u001b[0m Epoch 67 (global_step 23450) finished, time:9.46 seconds.\n",
      "\u001b[32m[1021 14:16:09 @saver.py:79]\u001b[0m Model saved to ../output/Chicago/DATWGAN_99/model\\model-23450.\n",
      "\u001b[32m[1021 14:16:09 @monitor.py:467]\u001b[0m GAN_loss/d_loss: -25.378\n",
      "\u001b[32m[1021 14:16:09 @monitor.py:467]\u001b[0m GAN_loss/g_loss: 3.7062\n",
      "\u001b[32m[1021 14:16:09 @monitor.py:467]\u001b[0m GAN_loss/gradient_penalty: 0.082699\n",
      "\u001b[32m[1021 14:16:09 @monitor.py:467]\u001b[0m GAN_loss/gradient_rms: 1.0141\n",
      "\u001b[32m[1021 14:16:09 @monitor.py:467]\u001b[0m QueueInput/queue_size: 50\n",
      "\u001b[32m[1021 14:16:09 @base.py:275]\u001b[0m Start Epoch 68 ...\n"
     ]
    },
    {
     "name": "stderr",
     "output_type": "stream",
     "text": [
      "\n",
      "100%|###################################################################################|175/175[00:09<00:00,18.49it/s]"
     ]
    },
    {
     "name": "stdout",
     "output_type": "stream",
     "text": [
      "\u001b[32m[1021 14:16:19 @base.py:285]\u001b[0m Epoch 68 (global_step 23800) finished, time:9.46 seconds.\n",
      "\u001b[32m[1021 14:16:19 @saver.py:79]\u001b[0m Model saved to ../output/Chicago/DATWGAN_99/model\\model-23800.\n",
      "\u001b[32m[1021 14:16:19 @monitor.py:467]\u001b[0m GAN_loss/d_loss: -30.619\n",
      "\u001b[32m[1021 14:16:19 @monitor.py:467]\u001b[0m GAN_loss/g_loss: -12.42\n",
      "\u001b[32m[1021 14:16:19 @monitor.py:467]\u001b[0m GAN_loss/gradient_penalty: 0.059797\n",
      "\u001b[32m[1021 14:16:19 @monitor.py:467]\u001b[0m GAN_loss/gradient_rms: 1.0226\n",
      "\u001b[32m[1021 14:16:19 @monitor.py:467]\u001b[0m QueueInput/queue_size: 50\n",
      "\u001b[32m[1021 14:16:19 @base.py:275]\u001b[0m Start Epoch 69 ...\n"
     ]
    },
    {
     "name": "stderr",
     "output_type": "stream",
     "text": [
      "\n",
      "100%|###################################################################################|175/175[00:09<00:00,18.50it/s]"
     ]
    },
    {
     "name": "stdout",
     "output_type": "stream",
     "text": [
      "\u001b[32m[1021 14:16:28 @base.py:285]\u001b[0m Epoch 69 (global_step 24150) finished, time:9.46 seconds.\n",
      "\u001b[32m[1021 14:16:28 @saver.py:79]\u001b[0m Model saved to ../output/Chicago/DATWGAN_99/model\\model-24150.\n",
      "\u001b[32m[1021 14:16:28 @monitor.py:467]\u001b[0m GAN_loss/d_loss: -44.046\n",
      "\u001b[32m[1021 14:16:28 @monitor.py:467]\u001b[0m GAN_loss/g_loss: -1.109\n",
      "\u001b[32m[1021 14:16:28 @monitor.py:467]\u001b[0m GAN_loss/gradient_penalty: 0.076755\n",
      "\u001b[32m[1021 14:16:28 @monitor.py:467]\u001b[0m GAN_loss/gradient_rms: 1.034\n",
      "\u001b[32m[1021 14:16:28 @monitor.py:467]\u001b[0m QueueInput/queue_size: 50\n",
      "\u001b[32m[1021 14:16:28 @base.py:275]\u001b[0m Start Epoch 70 ...\n"
     ]
    },
    {
     "name": "stderr",
     "output_type": "stream",
     "text": [
      "\n",
      "100%|###################################################################################|175/175[00:09<00:00,18.49it/s]"
     ]
    },
    {
     "name": "stdout",
     "output_type": "stream",
     "text": [
      "\u001b[32m[1021 14:16:38 @base.py:285]\u001b[0m Epoch 70 (global_step 24500) finished, time:9.47 seconds.\n",
      "\u001b[32m[1021 14:16:38 @saver.py:79]\u001b[0m Model saved to ../output/Chicago/DATWGAN_99/model\\model-24500.\n",
      "\u001b[32m[1021 14:16:38 @monitor.py:467]\u001b[0m GAN_loss/d_loss: -52.094\n",
      "\u001b[32m[1021 14:16:38 @monitor.py:467]\u001b[0m GAN_loss/g_loss: 22.74\n",
      "\u001b[32m[1021 14:16:38 @monitor.py:467]\u001b[0m GAN_loss/gradient_penalty: 0.084128\n",
      "\u001b[32m[1021 14:16:38 @monitor.py:467]\u001b[0m GAN_loss/gradient_rms: 1.0379\n",
      "\u001b[32m[1021 14:16:38 @monitor.py:467]\u001b[0m QueueInput/queue_size: 50\n",
      "\u001b[32m[1021 14:16:38 @base.py:275]\u001b[0m Start Epoch 71 ...\n"
     ]
    },
    {
     "name": "stderr",
     "output_type": "stream",
     "text": [
      "\n",
      "100%|###################################################################################|175/175[00:09<00:00,18.50it/s]"
     ]
    },
    {
     "name": "stdout",
     "output_type": "stream",
     "text": [
      "\u001b[32m[1021 14:16:47 @base.py:285]\u001b[0m Epoch 71 (global_step 24850) finished, time:9.46 seconds.\n",
      "\u001b[32m[1021 14:16:47 @saver.py:79]\u001b[0m Model saved to ../output/Chicago/DATWGAN_99/model\\model-24850.\n",
      "\u001b[32m[1021 14:16:47 @monitor.py:467]\u001b[0m GAN_loss/d_loss: -53.907\n",
      "\u001b[32m[1021 14:16:47 @monitor.py:467]\u001b[0m GAN_loss/g_loss: 28.22\n",
      "\u001b[32m[1021 14:16:47 @monitor.py:467]\u001b[0m GAN_loss/gradient_penalty: 0.086397\n",
      "\u001b[32m[1021 14:16:47 @monitor.py:467]\u001b[0m GAN_loss/gradient_rms: 1.0372\n",
      "\u001b[32m[1021 14:16:47 @monitor.py:467]\u001b[0m QueueInput/queue_size: 50\n",
      "\u001b[32m[1021 14:16:47 @base.py:275]\u001b[0m Start Epoch 72 ...\n"
     ]
    },
    {
     "name": "stderr",
     "output_type": "stream",
     "text": [
      "\n",
      "100%|###################################################################################|175/175[00:09<00:00,18.50it/s]"
     ]
    },
    {
     "name": "stdout",
     "output_type": "stream",
     "text": [
      "\u001b[32m[1021 14:16:57 @base.py:285]\u001b[0m Epoch 72 (global_step 25200) finished, time:9.46 seconds.\n",
      "\u001b[32m[1021 14:16:57 @saver.py:79]\u001b[0m Model saved to ../output/Chicago/DATWGAN_99/model\\model-25200.\n",
      "\u001b[32m[1021 14:16:57 @monitor.py:467]\u001b[0m GAN_loss/d_loss: 6.8944\n",
      "\u001b[32m[1021 14:16:57 @monitor.py:467]\u001b[0m GAN_loss/g_loss: 39.336\n",
      "\u001b[32m[1021 14:16:57 @monitor.py:467]\u001b[0m GAN_loss/gradient_penalty: 5.02\n",
      "\u001b[32m[1021 14:16:57 @monitor.py:467]\u001b[0m GAN_loss/gradient_rms: 1.8469\n",
      "\u001b[32m[1021 14:16:57 @monitor.py:467]\u001b[0m QueueInput/queue_size: 50\n",
      "\u001b[32m[1021 14:16:57 @base.py:275]\u001b[0m Start Epoch 73 ...\n"
     ]
    },
    {
     "name": "stderr",
     "output_type": "stream",
     "text": [
      "\n",
      "100%|###################################################################################|175/175[00:09<00:00,18.50it/s]"
     ]
    },
    {
     "name": "stdout",
     "output_type": "stream",
     "text": [
      "\u001b[32m[1021 14:17:06 @base.py:285]\u001b[0m Epoch 73 (global_step 25550) finished, time:9.46 seconds.\n",
      "\u001b[32m[1021 14:17:06 @saver.py:79]\u001b[0m Model saved to ../output/Chicago/DATWGAN_99/model\\model-25550.\n",
      "\u001b[32m[1021 14:17:06 @monitor.py:467]\u001b[0m GAN_loss/d_loss: -11.86\n",
      "\u001b[32m[1021 14:17:06 @monitor.py:467]\u001b[0m GAN_loss/g_loss: 18.839\n",
      "\u001b[32m[1021 14:17:06 @monitor.py:467]\u001b[0m GAN_loss/gradient_penalty: 0.054179\n",
      "\u001b[32m[1021 14:17:06 @monitor.py:467]\u001b[0m GAN_loss/gradient_rms: 1.0257\n",
      "\u001b[32m[1021 14:17:06 @monitor.py:467]\u001b[0m QueueInput/queue_size: 50\n",
      "\u001b[32m[1021 14:17:06 @base.py:275]\u001b[0m Start Epoch 74 ...\n"
     ]
    },
    {
     "name": "stderr",
     "output_type": "stream",
     "text": [
      "\n",
      "100%|###################################################################################|175/175[00:09<00:00,18.49it/s]"
     ]
    },
    {
     "name": "stdout",
     "output_type": "stream",
     "text": [
      "\u001b[32m[1021 14:17:16 @base.py:285]\u001b[0m Epoch 74 (global_step 25900) finished, time:9.46 seconds.\n",
      "\u001b[32m[1021 14:17:16 @saver.py:79]\u001b[0m Model saved to ../output/Chicago/DATWGAN_99/model\\model-25900.\n",
      "\u001b[32m[1021 14:17:16 @monitor.py:467]\u001b[0m GAN_loss/d_loss: -19.534\n",
      "\u001b[32m[1021 14:17:16 @monitor.py:467]\u001b[0m GAN_loss/g_loss: 1.3911\n",
      "\u001b[32m[1021 14:17:16 @monitor.py:467]\u001b[0m GAN_loss/gradient_penalty: 0.055663\n",
      "\u001b[32m[1021 14:17:16 @monitor.py:467]\u001b[0m GAN_loss/gradient_rms: 1.0288\n",
      "\u001b[32m[1021 14:17:16 @monitor.py:467]\u001b[0m QueueInput/queue_size: 50\n",
      "\u001b[32m[1021 14:17:16 @base.py:275]\u001b[0m Start Epoch 75 ...\n"
     ]
    },
    {
     "name": "stderr",
     "output_type": "stream",
     "text": [
      "\n",
      "100%|###################################################################################|175/175[00:09<00:00,18.49it/s]"
     ]
    },
    {
     "name": "stdout",
     "output_type": "stream",
     "text": [
      "\u001b[32m[1021 14:17:25 @base.py:285]\u001b[0m Epoch 75 (global_step 26250) finished, time:9.46 seconds.\n",
      "\u001b[32m[1021 14:17:26 @saver.py:79]\u001b[0m Model saved to ../output/Chicago/DATWGAN_99/model\\model-26250.\n",
      "\u001b[32m[1021 14:17:26 @monitor.py:467]\u001b[0m GAN_loss/d_loss: -20.863\n",
      "\u001b[32m[1021 14:17:26 @monitor.py:467]\u001b[0m GAN_loss/g_loss: 23.461\n",
      "\u001b[32m[1021 14:17:26 @monitor.py:467]\u001b[0m GAN_loss/gradient_penalty: 0.064662\n",
      "\u001b[32m[1021 14:17:26 @monitor.py:467]\u001b[0m GAN_loss/gradient_rms: 1.0225\n",
      "\u001b[32m[1021 14:17:26 @monitor.py:467]\u001b[0m QueueInput/queue_size: 50\n",
      "\u001b[32m[1021 14:17:26 @base.py:275]\u001b[0m Start Epoch 76 ...\n"
     ]
    },
    {
     "name": "stderr",
     "output_type": "stream",
     "text": [
      "\n",
      "100%|###################################################################################|175/175[00:09<00:00,18.49it/s]"
     ]
    },
    {
     "name": "stdout",
     "output_type": "stream",
     "text": [
      "\u001b[32m[1021 14:17:35 @base.py:285]\u001b[0m Epoch 76 (global_step 26600) finished, time:9.46 seconds.\n",
      "\u001b[32m[1021 14:17:35 @saver.py:79]\u001b[0m Model saved to ../output/Chicago/DATWGAN_99/model\\model-26600.\n",
      "\u001b[32m[1021 14:17:35 @monitor.py:467]\u001b[0m GAN_loss/d_loss: -31.35\n",
      "\u001b[32m[1021 14:17:35 @monitor.py:467]\u001b[0m GAN_loss/g_loss: -3.1002\n",
      "\u001b[32m[1021 14:17:35 @monitor.py:467]\u001b[0m GAN_loss/gradient_penalty: 0.073391\n",
      "\u001b[32m[1021 14:17:35 @monitor.py:467]\u001b[0m GAN_loss/gradient_rms: 1.0262\n",
      "\u001b[32m[1021 14:17:35 @monitor.py:467]\u001b[0m QueueInput/queue_size: 50\n",
      "\u001b[32m[1021 14:17:35 @base.py:275]\u001b[0m Start Epoch 77 ...\n"
     ]
    },
    {
     "name": "stderr",
     "output_type": "stream",
     "text": [
      "\n",
      "100%|###################################################################################|175/175[00:09<00:00,18.44it/s]"
     ]
    },
    {
     "name": "stdout",
     "output_type": "stream",
     "text": [
      "\u001b[32m[1021 14:17:45 @base.py:285]\u001b[0m Epoch 77 (global_step 26950) finished, time:9.49 seconds.\n",
      "\u001b[32m[1021 14:17:45 @saver.py:79]\u001b[0m Model saved to ../output/Chicago/DATWGAN_99/model\\model-26950.\n",
      "\u001b[32m[1021 14:17:45 @monitor.py:467]\u001b[0m GAN_loss/d_loss: -37.302\n",
      "\u001b[32m[1021 14:17:45 @monitor.py:467]\u001b[0m GAN_loss/g_loss: 6.7808\n",
      "\u001b[32m[1021 14:17:45 @monitor.py:467]\u001b[0m GAN_loss/gradient_penalty: 0.067596\n",
      "\u001b[32m[1021 14:17:45 @monitor.py:467]\u001b[0m GAN_loss/gradient_rms: 1.0355\n",
      "\u001b[32m[1021 14:17:45 @monitor.py:467]\u001b[0m QueueInput/queue_size: 50\n",
      "\u001b[32m[1021 14:17:45 @base.py:275]\u001b[0m Start Epoch 78 ...\n"
     ]
    },
    {
     "name": "stderr",
     "output_type": "stream",
     "text": [
      "\n",
      "100%|###################################################################################|175/175[00:09<00:00,18.49it/s]"
     ]
    },
    {
     "name": "stdout",
     "output_type": "stream",
     "text": [
      "\u001b[32m[1021 14:17:54 @base.py:285]\u001b[0m Epoch 78 (global_step 27300) finished, time:9.46 seconds.\n",
      "\u001b[32m[1021 14:17:54 @saver.py:79]\u001b[0m Model saved to ../output/Chicago/DATWGAN_99/model\\model-27300.\n",
      "\u001b[32m[1021 14:17:54 @monitor.py:467]\u001b[0m GAN_loss/d_loss: -44.832\n",
      "\u001b[32m[1021 14:17:54 @monitor.py:467]\u001b[0m GAN_loss/g_loss: 26.702\n",
      "\u001b[32m[1021 14:17:54 @monitor.py:467]\u001b[0m GAN_loss/gradient_penalty: 0.074569\n",
      "\u001b[32m[1021 14:17:54 @monitor.py:467]\u001b[0m GAN_loss/gradient_rms: 1.0206\n",
      "\u001b[32m[1021 14:17:54 @monitor.py:467]\u001b[0m QueueInput/queue_size: 50\n",
      "\u001b[32m[1021 14:17:54 @base.py:275]\u001b[0m Start Epoch 79 ...\n"
     ]
    },
    {
     "name": "stderr",
     "output_type": "stream",
     "text": [
      "\n",
      "100%|###################################################################################|175/175[00:09<00:00,18.50it/s]"
     ]
    },
    {
     "name": "stdout",
     "output_type": "stream",
     "text": [
      "\u001b[32m[1021 14:18:04 @base.py:285]\u001b[0m Epoch 79 (global_step 27650) finished, time:9.46 seconds.\n",
      "\u001b[32m[1021 14:18:04 @saver.py:79]\u001b[0m Model saved to ../output/Chicago/DATWGAN_99/model\\model-27650.\n",
      "\u001b[32m[1021 14:18:04 @monitor.py:467]\u001b[0m GAN_loss/d_loss: -50.451\n",
      "\u001b[32m[1021 14:18:04 @monitor.py:467]\u001b[0m GAN_loss/g_loss: 29.819\n",
      "\u001b[32m[1021 14:18:04 @monitor.py:467]\u001b[0m GAN_loss/gradient_penalty: 0.078336\n",
      "\u001b[32m[1021 14:18:04 @monitor.py:467]\u001b[0m GAN_loss/gradient_rms: 1.0312\n",
      "\u001b[32m[1021 14:18:04 @monitor.py:467]\u001b[0m QueueInput/queue_size: 50\n",
      "\u001b[32m[1021 14:18:04 @base.py:275]\u001b[0m Start Epoch 80 ...\n"
     ]
    },
    {
     "name": "stderr",
     "output_type": "stream",
     "text": [
      "\n",
      "100%|###################################################################################|175/175[00:09<00:00,18.50it/s]"
     ]
    },
    {
     "name": "stdout",
     "output_type": "stream",
     "text": [
      "\u001b[32m[1021 14:18:13 @base.py:285]\u001b[0m Epoch 80 (global_step 28000) finished, time:9.46 seconds.\n",
      "\u001b[32m[1021 14:18:13 @saver.py:79]\u001b[0m Model saved to ../output/Chicago/DATWGAN_99/model\\model-28000.\n",
      "\u001b[32m[1021 14:18:13 @monitor.py:467]\u001b[0m GAN_loss/d_loss: -16.977\n",
      "\u001b[32m[1021 14:18:13 @monitor.py:467]\u001b[0m GAN_loss/g_loss: 87.441\n",
      "\u001b[32m[1021 14:18:13 @monitor.py:467]\u001b[0m GAN_loss/gradient_penalty: 0.4745\n",
      "\u001b[32m[1021 14:18:13 @monitor.py:467]\u001b[0m GAN_loss/gradient_rms: 1.0893\n",
      "\u001b[32m[1021 14:18:13 @monitor.py:467]\u001b[0m QueueInput/queue_size: 50\n",
      "\u001b[32m[1021 14:18:13 @base.py:275]\u001b[0m Start Epoch 81 ...\n"
     ]
    },
    {
     "name": "stderr",
     "output_type": "stream",
     "text": [
      "\n",
      "100%|###################################################################################|175/175[00:09<00:00,18.49it/s]"
     ]
    },
    {
     "name": "stdout",
     "output_type": "stream",
     "text": [
      "\u001b[32m[1021 14:18:23 @base.py:285]\u001b[0m Epoch 81 (global_step 28350) finished, time:9.46 seconds.\n",
      "\u001b[32m[1021 14:18:23 @saver.py:79]\u001b[0m Model saved to ../output/Chicago/DATWGAN_99/model\\model-28350.\n",
      "\u001b[32m[1021 14:18:23 @monitor.py:467]\u001b[0m GAN_loss/d_loss: -52.593\n",
      "\u001b[32m[1021 14:18:23 @monitor.py:467]\u001b[0m GAN_loss/g_loss: 47.007\n",
      "\u001b[32m[1021 14:18:23 @monitor.py:467]\u001b[0m GAN_loss/gradient_penalty: 0.071188\n",
      "\u001b[32m[1021 14:18:23 @monitor.py:467]\u001b[0m GAN_loss/gradient_rms: 1.0285\n",
      "\u001b[32m[1021 14:18:23 @monitor.py:467]\u001b[0m QueueInput/queue_size: 50\n",
      "\u001b[32m[1021 14:18:23 @base.py:275]\u001b[0m Start Epoch 82 ...\n"
     ]
    },
    {
     "name": "stderr",
     "output_type": "stream",
     "text": [
      "\n",
      "100%|###################################################################################|175/175[00:09<00:00,18.50it/s]"
     ]
    },
    {
     "name": "stdout",
     "output_type": "stream",
     "text": [
      "\u001b[32m[1021 14:18:32 @base.py:285]\u001b[0m Epoch 82 (global_step 28700) finished, time:9.46 seconds.\n",
      "\u001b[32m[1021 14:18:32 @saver.py:79]\u001b[0m Model saved to ../output/Chicago/DATWGAN_99/model\\model-28700.\n",
      "\u001b[32m[1021 14:18:32 @monitor.py:467]\u001b[0m GAN_loss/d_loss: -49.239\n",
      "\u001b[32m[1021 14:18:32 @monitor.py:467]\u001b[0m GAN_loss/g_loss: 44.486\n",
      "\u001b[32m[1021 14:18:32 @monitor.py:467]\u001b[0m GAN_loss/gradient_penalty: 0.095294\n",
      "\u001b[32m[1021 14:18:32 @monitor.py:467]\u001b[0m GAN_loss/gradient_rms: 1.0405\n",
      "\u001b[32m[1021 14:18:32 @monitor.py:467]\u001b[0m QueueInput/queue_size: 50\n",
      "\u001b[32m[1021 14:18:32 @base.py:275]\u001b[0m Start Epoch 83 ...\n"
     ]
    },
    {
     "name": "stderr",
     "output_type": "stream",
     "text": [
      "\n",
      "100%|###################################################################################|175/175[00:09<00:00,18.49it/s]"
     ]
    },
    {
     "name": "stdout",
     "output_type": "stream",
     "text": [
      "\u001b[32m[1021 14:18:42 @base.py:285]\u001b[0m Epoch 83 (global_step 29050) finished, time:9.46 seconds.\n",
      "\u001b[32m[1021 14:18:42 @saver.py:79]\u001b[0m Model saved to ../output/Chicago/DATWGAN_99/model\\model-29050.\n",
      "\u001b[32m[1021 14:18:42 @monitor.py:467]\u001b[0m GAN_loss/d_loss: -6.7263\n",
      "\u001b[32m[1021 14:18:42 @monitor.py:467]\u001b[0m GAN_loss/g_loss: -29.866\n",
      "\u001b[32m[1021 14:18:42 @monitor.py:467]\u001b[0m GAN_loss/gradient_penalty: 0.065192\n",
      "\u001b[32m[1021 14:18:42 @monitor.py:467]\u001b[0m GAN_loss/gradient_rms: 1.0322\n",
      "\u001b[32m[1021 14:18:42 @monitor.py:467]\u001b[0m QueueInput/queue_size: 50\n",
      "\u001b[32m[1021 14:18:42 @base.py:275]\u001b[0m Start Epoch 84 ...\n"
     ]
    },
    {
     "name": "stderr",
     "output_type": "stream",
     "text": [
      "\n",
      "100%|###################################################################################|175/175[00:09<00:00,18.43it/s]"
     ]
    },
    {
     "name": "stdout",
     "output_type": "stream",
     "text": [
      "\u001b[32m[1021 14:18:52 @base.py:285]\u001b[0m Epoch 84 (global_step 29400) finished, time:9.49 seconds.\n",
      "\u001b[32m[1021 14:18:52 @saver.py:79]\u001b[0m Model saved to ../output/Chicago/DATWGAN_99/model\\model-29400.\n",
      "\u001b[32m[1021 14:18:52 @monitor.py:467]\u001b[0m GAN_loss/d_loss: -23.162\n",
      "\u001b[32m[1021 14:18:52 @monitor.py:467]\u001b[0m GAN_loss/g_loss: 24.496\n",
      "\u001b[32m[1021 14:18:52 @monitor.py:467]\u001b[0m GAN_loss/gradient_penalty: 0.057826\n",
      "\u001b[32m[1021 14:18:52 @monitor.py:467]\u001b[0m GAN_loss/gradient_rms: 1.0262\n",
      "\u001b[32m[1021 14:18:52 @monitor.py:467]\u001b[0m QueueInput/queue_size: 50\n",
      "\u001b[32m[1021 14:18:52 @base.py:275]\u001b[0m Start Epoch 85 ...\n"
     ]
    },
    {
     "name": "stderr",
     "output_type": "stream",
     "text": [
      "\n",
      "100%|###################################################################################|175/175[00:09<00:00,18.49it/s]"
     ]
    },
    {
     "name": "stdout",
     "output_type": "stream",
     "text": [
      "\u001b[32m[1021 14:19:01 @base.py:285]\u001b[0m Epoch 85 (global_step 29750) finished, time:9.46 seconds.\n",
      "\u001b[32m[1021 14:19:01 @saver.py:79]\u001b[0m Model saved to ../output/Chicago/DATWGAN_99/model\\model-29750.\n",
      "\u001b[32m[1021 14:19:01 @monitor.py:467]\u001b[0m GAN_loss/d_loss: -37.693\n",
      "\u001b[32m[1021 14:19:01 @monitor.py:467]\u001b[0m GAN_loss/g_loss: 50.35\n",
      "\u001b[32m[1021 14:19:01 @monitor.py:467]\u001b[0m GAN_loss/gradient_penalty: 0.067761\n",
      "\u001b[32m[1021 14:19:01 @monitor.py:467]\u001b[0m GAN_loss/gradient_rms: 1.0221\n",
      "\u001b[32m[1021 14:19:01 @monitor.py:467]\u001b[0m QueueInput/queue_size: 50\n",
      "\u001b[32m[1021 14:19:01 @base.py:275]\u001b[0m Start Epoch 86 ...\n"
     ]
    },
    {
     "name": "stderr",
     "output_type": "stream",
     "text": [
      "\n",
      "100%|###################################################################################|175/175[00:09<00:00,18.49it/s]"
     ]
    },
    {
     "name": "stdout",
     "output_type": "stream",
     "text": [
      "\u001b[32m[1021 14:19:11 @base.py:285]\u001b[0m Epoch 86 (global_step 30100) finished, time:9.47 seconds.\n",
      "\u001b[32m[1021 14:19:11 @saver.py:79]\u001b[0m Model saved to ../output/Chicago/DATWGAN_99/model\\model-30100.\n",
      "\u001b[32m[1021 14:19:11 @monitor.py:467]\u001b[0m GAN_loss/d_loss: -37.528\n",
      "\u001b[32m[1021 14:19:11 @monitor.py:467]\u001b[0m GAN_loss/g_loss: 51.281\n",
      "\u001b[32m[1021 14:19:11 @monitor.py:467]\u001b[0m GAN_loss/gradient_penalty: 0.074063\n",
      "\u001b[32m[1021 14:19:11 @monitor.py:467]\u001b[0m GAN_loss/gradient_rms: 1.0302\n",
      "\u001b[32m[1021 14:19:11 @monitor.py:467]\u001b[0m QueueInput/queue_size: 50\n",
      "\u001b[32m[1021 14:19:11 @base.py:275]\u001b[0m Start Epoch 87 ...\n"
     ]
    },
    {
     "name": "stderr",
     "output_type": "stream",
     "text": [
      "\n",
      "100%|###################################################################################|175/175[00:09<00:00,18.49it/s]"
     ]
    },
    {
     "name": "stdout",
     "output_type": "stream",
     "text": [
      "\u001b[32m[1021 14:19:20 @base.py:285]\u001b[0m Epoch 87 (global_step 30450) finished, time:9.46 seconds.\n",
      "\u001b[32m[1021 14:19:20 @saver.py:79]\u001b[0m Model saved to ../output/Chicago/DATWGAN_99/model\\model-30450.\n",
      "\u001b[32m[1021 14:19:20 @monitor.py:467]\u001b[0m GAN_loss/d_loss: -47.51\n",
      "\u001b[32m[1021 14:19:20 @monitor.py:467]\u001b[0m GAN_loss/g_loss: 65.721\n",
      "\u001b[32m[1021 14:19:20 @monitor.py:467]\u001b[0m GAN_loss/gradient_penalty: 0.073871\n",
      "\u001b[32m[1021 14:19:20 @monitor.py:467]\u001b[0m GAN_loss/gradient_rms: 1.0415\n",
      "\u001b[32m[1021 14:19:20 @monitor.py:467]\u001b[0m QueueInput/queue_size: 50\n",
      "\u001b[32m[1021 14:19:20 @base.py:275]\u001b[0m Start Epoch 88 ...\n"
     ]
    },
    {
     "name": "stderr",
     "output_type": "stream",
     "text": [
      "\n",
      "100%|###################################################################################|175/175[00:09<00:00,18.49it/s]"
     ]
    },
    {
     "name": "stdout",
     "output_type": "stream",
     "text": [
      "\u001b[32m[1021 14:19:30 @base.py:285]\u001b[0m Epoch 88 (global_step 30800) finished, time:9.46 seconds.\n",
      "\u001b[32m[1021 14:19:30 @saver.py:79]\u001b[0m Model saved to ../output/Chicago/DATWGAN_99/model\\model-30800.\n",
      "\u001b[32m[1021 14:19:30 @monitor.py:467]\u001b[0m GAN_loss/d_loss: -49.253\n",
      "\u001b[32m[1021 14:19:30 @monitor.py:467]\u001b[0m GAN_loss/g_loss: 17.219\n",
      "\u001b[32m[1021 14:19:30 @monitor.py:467]\u001b[0m GAN_loss/gradient_penalty: 0.073343\n",
      "\u001b[32m[1021 14:19:30 @monitor.py:467]\u001b[0m GAN_loss/gradient_rms: 1.0334\n",
      "\u001b[32m[1021 14:19:30 @monitor.py:467]\u001b[0m QueueInput/queue_size: 50\n",
      "\u001b[32m[1021 14:19:30 @base.py:275]\u001b[0m Start Epoch 89 ...\n"
     ]
    },
    {
     "name": "stderr",
     "output_type": "stream",
     "text": [
      "\n",
      "100%|###################################################################################|175/175[00:09<00:00,18.49it/s]"
     ]
    },
    {
     "name": "stdout",
     "output_type": "stream",
     "text": [
      "\u001b[32m[1021 14:19:39 @base.py:285]\u001b[0m Epoch 89 (global_step 31150) finished, time:9.46 seconds.\n",
      "\u001b[32m[1021 14:19:39 @saver.py:79]\u001b[0m Model saved to ../output/Chicago/DATWGAN_99/model\\model-31150.\n",
      "\u001b[32m[1021 14:19:39 @monitor.py:467]\u001b[0m GAN_loss/d_loss: 7.9272\n",
      "\u001b[32m[1021 14:19:39 @monitor.py:467]\u001b[0m GAN_loss/g_loss: 103.79\n",
      "\u001b[32m[1021 14:19:39 @monitor.py:467]\u001b[0m GAN_loss/gradient_penalty: 2.8641\n",
      "\u001b[32m[1021 14:19:39 @monitor.py:467]\u001b[0m GAN_loss/gradient_rms: 1.5705\n",
      "\u001b[32m[1021 14:19:39 @monitor.py:467]\u001b[0m QueueInput/queue_size: 50\n",
      "\u001b[32m[1021 14:19:39 @base.py:275]\u001b[0m Start Epoch 90 ...\n"
     ]
    },
    {
     "name": "stderr",
     "output_type": "stream",
     "text": [
      "\n",
      "100%|###################################################################################|175/175[00:09<00:00,18.50it/s]"
     ]
    },
    {
     "name": "stdout",
     "output_type": "stream",
     "text": [
      "\u001b[32m[1021 14:19:49 @base.py:285]\u001b[0m Epoch 90 (global_step 31500) finished, time:9.46 seconds.\n",
      "\u001b[32m[1021 14:19:49 @saver.py:79]\u001b[0m Model saved to ../output/Chicago/DATWGAN_99/model\\model-31500.\n",
      "\u001b[32m[1021 14:19:49 @monitor.py:467]\u001b[0m GAN_loss/d_loss: -20.87\n",
      "\u001b[32m[1021 14:19:49 @monitor.py:467]\u001b[0m GAN_loss/g_loss: -25.252\n",
      "\u001b[32m[1021 14:19:49 @monitor.py:467]\u001b[0m GAN_loss/gradient_penalty: 0.056831\n",
      "\u001b[32m[1021 14:19:49 @monitor.py:467]\u001b[0m GAN_loss/gradient_rms: 1.0201\n",
      "\u001b[32m[1021 14:19:49 @monitor.py:467]\u001b[0m QueueInput/queue_size: 50\n",
      "\u001b[32m[1021 14:19:49 @base.py:275]\u001b[0m Start Epoch 91 ...\n"
     ]
    },
    {
     "name": "stderr",
     "output_type": "stream",
     "text": [
      "\n",
      "100%|###################################################################################|175/175[00:09<00:00,18.48it/s]"
     ]
    },
    {
     "name": "stdout",
     "output_type": "stream",
     "text": [
      "\u001b[32m[1021 14:19:58 @base.py:285]\u001b[0m Epoch 91 (global_step 31850) finished, time:9.47 seconds.\n",
      "\u001b[32m[1021 14:19:58 @saver.py:79]\u001b[0m Model saved to ../output/Chicago/DATWGAN_99/model\\model-31850.\n",
      "\u001b[32m[1021 14:19:58 @monitor.py:467]\u001b[0m GAN_loss/d_loss: -23.685\n",
      "\u001b[32m[1021 14:19:58 @monitor.py:467]\u001b[0m GAN_loss/g_loss: -6.414\n",
      "\u001b[32m[1021 14:19:58 @monitor.py:467]\u001b[0m GAN_loss/gradient_penalty: 0.059147\n",
      "\u001b[32m[1021 14:19:58 @monitor.py:467]\u001b[0m GAN_loss/gradient_rms: 1.0257\n",
      "\u001b[32m[1021 14:19:58 @monitor.py:467]\u001b[0m QueueInput/queue_size: 50\n",
      "\u001b[32m[1021 14:19:58 @base.py:275]\u001b[0m Start Epoch 92 ...\n"
     ]
    },
    {
     "name": "stderr",
     "output_type": "stream",
     "text": [
      "\n",
      "100%|###################################################################################|175/175[00:09<00:00,18.50it/s]"
     ]
    },
    {
     "name": "stdout",
     "output_type": "stream",
     "text": [
      "\u001b[32m[1021 14:20:08 @base.py:285]\u001b[0m Epoch 92 (global_step 32200) finished, time:9.46 seconds.\n",
      "\u001b[32m[1021 14:20:08 @saver.py:79]\u001b[0m Model saved to ../output/Chicago/DATWGAN_99/model\\model-32200.\n",
      "\u001b[32m[1021 14:20:08 @monitor.py:467]\u001b[0m GAN_loss/d_loss: -30.079\n",
      "\u001b[32m[1021 14:20:08 @monitor.py:467]\u001b[0m GAN_loss/g_loss: -17.036\n",
      "\u001b[32m[1021 14:20:08 @monitor.py:467]\u001b[0m GAN_loss/gradient_penalty: 0.061059\n",
      "\u001b[32m[1021 14:20:08 @monitor.py:467]\u001b[0m GAN_loss/gradient_rms: 1.0307\n",
      "\u001b[32m[1021 14:20:08 @monitor.py:467]\u001b[0m QueueInput/queue_size: 50\n",
      "\u001b[32m[1021 14:20:08 @base.py:275]\u001b[0m Start Epoch 93 ...\n"
     ]
    },
    {
     "name": "stderr",
     "output_type": "stream",
     "text": [
      "\n",
      "100%|###################################################################################|175/175[00:09<00:00,18.43it/s]"
     ]
    },
    {
     "name": "stdout",
     "output_type": "stream",
     "text": [
      "\u001b[32m[1021 14:20:18 @base.py:285]\u001b[0m Epoch 93 (global_step 32550) finished, time:9.5 seconds.\n",
      "\u001b[32m[1021 14:20:18 @saver.py:79]\u001b[0m Model saved to ../output/Chicago/DATWGAN_99/model\\model-32550.\n",
      "\u001b[32m[1021 14:20:18 @monitor.py:467]\u001b[0m GAN_loss/d_loss: -45.97\n",
      "\u001b[32m[1021 14:20:18 @monitor.py:467]\u001b[0m GAN_loss/g_loss: 25.922\n",
      "\u001b[32m[1021 14:20:18 @monitor.py:467]\u001b[0m GAN_loss/gradient_penalty: 0.096246\n",
      "\u001b[32m[1021 14:20:18 @monitor.py:467]\u001b[0m GAN_loss/gradient_rms: 1.0591\n",
      "\u001b[32m[1021 14:20:18 @monitor.py:467]\u001b[0m QueueInput/queue_size: 50\n",
      "\u001b[32m[1021 14:20:18 @base.py:275]\u001b[0m Start Epoch 94 ...\n"
     ]
    },
    {
     "name": "stderr",
     "output_type": "stream",
     "text": [
      "\n",
      "100%|###################################################################################|175/175[00:09<00:00,18.42it/s]"
     ]
    },
    {
     "name": "stdout",
     "output_type": "stream",
     "text": [
      "\u001b[32m[1021 14:20:27 @base.py:285]\u001b[0m Epoch 94 (global_step 32900) finished, time:9.5 seconds.\n",
      "\u001b[32m[1021 14:20:27 @saver.py:79]\u001b[0m Model saved to ../output/Chicago/DATWGAN_99/model\\model-32900.\n",
      "\u001b[32m[1021 14:20:27 @monitor.py:467]\u001b[0m GAN_loss/d_loss: -23.139\n",
      "\u001b[32m[1021 14:20:27 @monitor.py:467]\u001b[0m GAN_loss/g_loss: -80.023\n",
      "\u001b[32m[1021 14:20:27 @monitor.py:467]\u001b[0m GAN_loss/gradient_penalty: 0.12097\n",
      "\u001b[32m[1021 14:20:27 @monitor.py:467]\u001b[0m GAN_loss/gradient_rms: 1.0685\n",
      "\u001b[32m[1021 14:20:27 @monitor.py:467]\u001b[0m QueueInput/queue_size: 50\n",
      "\u001b[32m[1021 14:20:27 @base.py:275]\u001b[0m Start Epoch 95 ...\n"
     ]
    },
    {
     "name": "stderr",
     "output_type": "stream",
     "text": [
      "\n",
      "100%|###################################################################################|175/175[00:09<00:00,18.33it/s]"
     ]
    },
    {
     "name": "stdout",
     "output_type": "stream",
     "text": [
      "\u001b[32m[1021 14:20:37 @base.py:285]\u001b[0m Epoch 95 (global_step 33250) finished, time:9.55 seconds.\n",
      "\u001b[32m[1021 14:20:37 @saver.py:79]\u001b[0m Model saved to ../output/Chicago/DATWGAN_99/model\\model-33250.\n",
      "\u001b[32m[1021 14:20:37 @monitor.py:467]\u001b[0m GAN_loss/d_loss: -25.737\n",
      "\u001b[32m[1021 14:20:37 @monitor.py:467]\u001b[0m GAN_loss/g_loss: -46.858\n",
      "\u001b[32m[1021 14:20:37 @monitor.py:467]\u001b[0m GAN_loss/gradient_penalty: 0.078465\n",
      "\u001b[32m[1021 14:20:37 @monitor.py:467]\u001b[0m GAN_loss/gradient_rms: 1.0408\n",
      "\u001b[32m[1021 14:20:37 @monitor.py:467]\u001b[0m QueueInput/queue_size: 50\n",
      "\u001b[32m[1021 14:20:37 @base.py:275]\u001b[0m Start Epoch 96 ...\n"
     ]
    },
    {
     "name": "stderr",
     "output_type": "stream",
     "text": [
      "\n",
      "100%|###################################################################################|175/175[00:09<00:00,17.81it/s]"
     ]
    },
    {
     "name": "stdout",
     "output_type": "stream",
     "text": [
      "\u001b[32m[1021 14:20:47 @base.py:285]\u001b[0m Epoch 96 (global_step 33600) finished, time:9.83 seconds.\n",
      "\u001b[32m[1021 14:20:47 @saver.py:79]\u001b[0m Model saved to ../output/Chicago/DATWGAN_99/model\\model-33600.\n",
      "\u001b[32m[1021 14:20:47 @monitor.py:467]\u001b[0m GAN_loss/d_loss: -67.646\n",
      "\u001b[32m[1021 14:20:47 @monitor.py:467]\u001b[0m GAN_loss/g_loss: -30.668\n",
      "\u001b[32m[1021 14:20:47 @monitor.py:467]\u001b[0m GAN_loss/gradient_penalty: 0.07168\n",
      "\u001b[32m[1021 14:20:47 @monitor.py:467]\u001b[0m GAN_loss/gradient_rms: 1.0353\n",
      "\u001b[32m[1021 14:20:47 @monitor.py:467]\u001b[0m QueueInput/queue_size: 50\n",
      "\u001b[32m[1021 14:20:47 @base.py:275]\u001b[0m Start Epoch 97 ...\n"
     ]
    },
    {
     "name": "stderr",
     "output_type": "stream",
     "text": [
      "\n",
      "100%|###################################################################################|175/175[00:09<00:00,18.23it/s]"
     ]
    },
    {
     "name": "stdout",
     "output_type": "stream",
     "text": [
      "\u001b[32m[1021 14:20:56 @base.py:285]\u001b[0m Epoch 97 (global_step 33950) finished, time:9.6 seconds.\n",
      "\u001b[32m[1021 14:20:57 @saver.py:79]\u001b[0m Model saved to ../output/Chicago/DATWGAN_99/model\\model-33950.\n",
      "\u001b[32m[1021 14:20:57 @monitor.py:467]\u001b[0m GAN_loss/d_loss: -42.395\n",
      "\u001b[32m[1021 14:20:57 @monitor.py:467]\u001b[0m GAN_loss/g_loss: -21.662\n",
      "\u001b[32m[1021 14:20:57 @monitor.py:467]\u001b[0m GAN_loss/gradient_penalty: 0.066416\n",
      "\u001b[32m[1021 14:20:57 @monitor.py:467]\u001b[0m GAN_loss/gradient_rms: 1.0335\n",
      "\u001b[32m[1021 14:20:57 @monitor.py:467]\u001b[0m QueueInput/queue_size: 50\n",
      "\u001b[32m[1021 14:20:57 @base.py:275]\u001b[0m Start Epoch 98 ...\n"
     ]
    },
    {
     "name": "stderr",
     "output_type": "stream",
     "text": [
      "\n",
      "100%|###################################################################################|175/175[00:09<00:00,18.40it/s]"
     ]
    },
    {
     "name": "stdout",
     "output_type": "stream",
     "text": [
      "\u001b[32m[1021 14:21:06 @base.py:285]\u001b[0m Epoch 98 (global_step 34300) finished, time:9.51 seconds.\n",
      "\u001b[32m[1021 14:21:06 @saver.py:79]\u001b[0m Model saved to ../output/Chicago/DATWGAN_99/model\\model-34300.\n",
      "\u001b[32m[1021 14:21:06 @monitor.py:467]\u001b[0m GAN_loss/d_loss: -49.619\n",
      "\u001b[32m[1021 14:21:06 @monitor.py:467]\u001b[0m GAN_loss/g_loss: -10.591\n",
      "\u001b[32m[1021 14:21:06 @monitor.py:467]\u001b[0m GAN_loss/gradient_penalty: 0.063013\n",
      "\u001b[32m[1021 14:21:06 @monitor.py:467]\u001b[0m GAN_loss/gradient_rms: 1.026\n",
      "\u001b[32m[1021 14:21:06 @monitor.py:467]\u001b[0m QueueInput/queue_size: 50\n",
      "\u001b[32m[1021 14:21:06 @base.py:275]\u001b[0m Start Epoch 99 ...\n"
     ]
    },
    {
     "name": "stderr",
     "output_type": "stream",
     "text": [
      "\n",
      "\r",
      "  0%|                                                                                             |0/175[00:00<?,?it/s]"
     ]
    }
   ],
   "source": [
    "test = datgan.fit(df, graph)"
   ]
  },
  {
   "cell_type": "code",
   "execution_count": null,
   "metadata": {},
   "outputs": [],
   "source": [
    "datgan.save('trained', force=True)"
   ]
  },
  {
   "cell_type": "code",
   "execution_count": null,
   "metadata": {},
   "outputs": [],
   "source": [
    "beepy.beep(6)"
   ]
  }
 ],
 "metadata": {
  "kernelspec": {
   "display_name": "Python 3",
   "language": "python",
   "name": "python3"
  },
  "language_info": {
   "codemirror_mode": {
    "name": "ipython",
    "version": 3
   },
   "file_extension": ".py",
   "mimetype": "text/x-python",
   "name": "python",
   "nbconvert_exporter": "python",
   "pygments_lexer": "ipython3",
   "version": "3.7.9"
  }
 },
 "nbformat": 4,
 "nbformat_minor": 2
}
