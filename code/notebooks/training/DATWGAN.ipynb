{
 "cells": [
  {
   "cell_type": "code",
   "execution_count": 1,
   "metadata": {},
   "outputs": [],
   "source": [
    "import os\n",
    "os.chdir('../..')"
   ]
  },
  {
   "cell_type": "code",
   "execution_count": 2,
   "metadata": {},
   "outputs": [],
   "source": [
    "from platform import python_version\n",
    "print(python_version())"
   ]
  },
  {
   "cell_type": "code",
   "execution_count": 3,
   "metadata": {},
   "outputs": [
    {
     "name": "stdout",
     "output_type": "stream",
     "text": [
      "WARNING:tensorflow:From D:\\Users\\glede\\anaconda3\\envs\\py37\\lib\\site-packages\\tensorpack\\callbacks\\hooks.py:17: The name tf.train.SessionRunHook is deprecated. Please use tf.estimator.SessionRunHook instead.\n",
      "\n",
      "WARNING:tensorflow:From D:\\Users\\glede\\anaconda3\\envs\\py37\\lib\\site-packages\\tensorpack\\tfutils\\optimizer.py:18: The name tf.train.Optimizer is deprecated. Please use tf.compat.v1.train.Optimizer instead.\n",
      "\n",
      "WARNING:tensorflow:From D:\\Users\\glede\\anaconda3\\envs\\py37\\lib\\site-packages\\tensorpack\\tfutils\\sesscreate.py:20: The name tf.train.SessionCreator is deprecated. Please use tf.compat.v1.train.SessionCreator instead.\n",
      "\n"
     ]
    }
   ],
   "source": [
    "import numpy as np\n",
    "import pandas as pd\n",
    "\n",
    "import tensorflow as tf\n",
    "\n",
    "import matplotlib.pyplot as plt\n",
    "\n",
    "from modules.datgan import DATWGAN\n",
    "\n",
    "import networkx as nx\n",
    "import json\n",
    "import beepy\n",
    "\n",
    "# For the Python notebook\n",
    "%matplotlib inline\n",
    "%reload_ext autoreload\n",
    "%autoreload 2"
   ]
  },
  {
   "cell_type": "code",
   "execution_count": 4,
   "metadata": {},
   "outputs": [],
   "source": [
    "dataset = 'Chicago'"
   ]
  },
  {
   "cell_type": "code",
   "execution_count": 5,
   "metadata": {},
   "outputs": [],
   "source": [
    "df = pd.read_csv('../data/{}/data.csv'.format(dataset), index_col=False)"
   ]
  },
  {
   "cell_type": "code",
   "execution_count": 6,
   "metadata": {},
   "outputs": [
    {
     "data": {
      "text/html": [
       "<div>\n",
       "<style scoped>\n",
       "    .dataframe tbody tr th:only-of-type {\n",
       "        vertical-align: middle;\n",
       "    }\n",
       "\n",
       "    .dataframe tbody tr th {\n",
       "        vertical-align: top;\n",
       "    }\n",
       "\n",
       "    .dataframe thead th {\n",
       "        text-align: right;\n",
       "    }\n",
       "</style>\n",
       "<table border=\"1\" class=\"dataframe\">\n",
       "  <thead>\n",
       "    <tr style=\"text-align: right;\">\n",
       "      <th></th>\n",
       "      <th>choice</th>\n",
       "      <th>travel_dow</th>\n",
       "      <th>trip_purpose</th>\n",
       "      <th>distance</th>\n",
       "      <th>hh_vehicles</th>\n",
       "      <th>hh_size</th>\n",
       "      <th>hh_bikes</th>\n",
       "      <th>hh_descr</th>\n",
       "      <th>hh_income</th>\n",
       "      <th>gender</th>\n",
       "      <th>age</th>\n",
       "      <th>license</th>\n",
       "      <th>education_level</th>\n",
       "      <th>work_status</th>\n",
       "      <th>departure_time</th>\n",
       "    </tr>\n",
       "  </thead>\n",
       "  <tbody>\n",
       "    <tr>\n",
       "      <th>0</th>\n",
       "      <td>drive</td>\n",
       "      <td>7</td>\n",
       "      <td>HOME_OTHER</td>\n",
       "      <td>23.42579</td>\n",
       "      <td>2</td>\n",
       "      <td>2</td>\n",
       "      <td>0</td>\n",
       "      <td>2</td>\n",
       "      <td>6</td>\n",
       "      <td>1</td>\n",
       "      <td>66</td>\n",
       "      <td>1.0</td>\n",
       "      <td>6</td>\n",
       "      <td>FTE</td>\n",
       "      <td>9.333333</td>\n",
       "    </tr>\n",
       "    <tr>\n",
       "      <th>1</th>\n",
       "      <td>drive</td>\n",
       "      <td>7</td>\n",
       "      <td>OTHER</td>\n",
       "      <td>1.71259</td>\n",
       "      <td>2</td>\n",
       "      <td>2</td>\n",
       "      <td>0</td>\n",
       "      <td>2</td>\n",
       "      <td>6</td>\n",
       "      <td>1</td>\n",
       "      <td>66</td>\n",
       "      <td>1.0</td>\n",
       "      <td>6</td>\n",
       "      <td>FTE</td>\n",
       "      <td>12.083333</td>\n",
       "    </tr>\n",
       "    <tr>\n",
       "      <th>2</th>\n",
       "      <td>drive</td>\n",
       "      <td>7</td>\n",
       "      <td>HOME_OTHER</td>\n",
       "      <td>21.77887</td>\n",
       "      <td>2</td>\n",
       "      <td>2</td>\n",
       "      <td>0</td>\n",
       "      <td>2</td>\n",
       "      <td>6</td>\n",
       "      <td>1</td>\n",
       "      <td>66</td>\n",
       "      <td>1.0</td>\n",
       "      <td>6</td>\n",
       "      <td>FTE</td>\n",
       "      <td>15.500000</td>\n",
       "    </tr>\n",
       "    <tr>\n",
       "      <th>3</th>\n",
       "      <td>drive</td>\n",
       "      <td>7</td>\n",
       "      <td>SHOPPING</td>\n",
       "      <td>2.02603</td>\n",
       "      <td>2</td>\n",
       "      <td>2</td>\n",
       "      <td>0</td>\n",
       "      <td>2</td>\n",
       "      <td>6</td>\n",
       "      <td>1</td>\n",
       "      <td>66</td>\n",
       "      <td>1.0</td>\n",
       "      <td>6</td>\n",
       "      <td>FTE</td>\n",
       "      <td>17.500000</td>\n",
       "    </tr>\n",
       "    <tr>\n",
       "      <th>4</th>\n",
       "      <td>drive</td>\n",
       "      <td>7</td>\n",
       "      <td>SHOPPING</td>\n",
       "      <td>0.87691</td>\n",
       "      <td>2</td>\n",
       "      <td>2</td>\n",
       "      <td>0</td>\n",
       "      <td>2</td>\n",
       "      <td>6</td>\n",
       "      <td>1</td>\n",
       "      <td>66</td>\n",
       "      <td>1.0</td>\n",
       "      <td>6</td>\n",
       "      <td>FTE</td>\n",
       "      <td>18.250000</td>\n",
       "    </tr>\n",
       "  </tbody>\n",
       "</table>\n",
       "</div>"
      ],
      "text/plain": [
       "  choice  travel_dow trip_purpose  distance  hh_vehicles  hh_size  hh_bikes  \\\n",
       "0  drive           7   HOME_OTHER  23.42579            2        2         0   \n",
       "1  drive           7        OTHER   1.71259            2        2         0   \n",
       "2  drive           7   HOME_OTHER  21.77887            2        2         0   \n",
       "3  drive           7     SHOPPING   2.02603            2        2         0   \n",
       "4  drive           7     SHOPPING   0.87691            2        2         0   \n",
       "\n",
       "   hh_descr  hh_income  gender  age  license  education_level work_status  \\\n",
       "0         2          6       1   66      1.0                6         FTE   \n",
       "1         2          6       1   66      1.0                6         FTE   \n",
       "2         2          6       1   66      1.0                6         FTE   \n",
       "3         2          6       1   66      1.0                6         FTE   \n",
       "4         2          6       1   66      1.0                6         FTE   \n",
       "\n",
       "   departure_time  \n",
       "0        9.333333  \n",
       "1       12.083333  \n",
       "2       15.500000  \n",
       "3       17.500000  \n",
       "4       18.250000  "
      ]
     },
     "execution_count": 6,
     "metadata": {},
     "output_type": "execute_result"
    }
   ],
   "source": [
    "df.head()"
   ]
  },
  {
   "cell_type": "code",
   "execution_count": 7,
   "metadata": {},
   "outputs": [],
   "source": [
    "if dataset is 'Chicago':\n",
    "    continuous_columns = [\"distance\", \"age\", \"departure_time\"]\n",
    "elif dataset is 'LPMC':\n",
    "    continuous_columns = ['start_time_linear', 'age', 'distance', 'dur_walking', 'dur_cycling', 'dur_pt_access', 'dur_pt_rail', 'dur_pt_bus', 'dur_pt_int', 'dur_driving', 'cost_transit', 'cost_driving_fuel', 'driving_traffic_percent']"
   ]
  },
  {
   "cell_type": "code",
   "execution_count": 8,
   "metadata": {},
   "outputs": [],
   "source": [
    "# personalised graph\n",
    "graph = nx.DiGraph()\n",
    "\n",
    "if dataset is 'Chicago':\n",
    "    graph.add_edges_from([\n",
    "        (\"age\", \"license\"),\n",
    "        (\"age\", \"education_level\"),\n",
    "        (\"gender\", \"work_status\"),\n",
    "        (\"education_level\", \"work_status\"),\n",
    "        (\"education_level\", \"hh_income\"),\n",
    "        (\"work_status\", \"hh_income\"),\n",
    "        (\"hh_income\", \"hh_descr\"),\n",
    "        (\"hh_income\", \"hh_size\"),\n",
    "        (\"hh_size\", \"hh_vehicles\"),\n",
    "        (\"hh_size\", \"hh_bikes\"),\n",
    "        (\"work_status\", \"trip_purpose\"),\n",
    "        (\"trip_purpose\", \"departure_time\"),\n",
    "        (\"trip_purpose\", \"distance\"),\n",
    "        (\"travel_dow\", \"choice\"),\n",
    "        (\"distance\", \"choice\"),\n",
    "        (\"departure_time\", \"choice\"),\n",
    "        (\"hh_vehicles\", \"choice\"),\n",
    "        (\"hh_bikes\", \"choice\"),\n",
    "        (\"license\", \"choice\"),\n",
    "        # Non necessary links\n",
    "        (\"education_level\", \"hh_size\"),\n",
    "        (\"work_status\", \"hh_descr\"),\n",
    "        (\"work_status\", \"hh_size\"),\n",
    "        (\"hh_income\", \"hh_bikes\"),\n",
    "        (\"hh_income\", \"hh_vehicles\"),\n",
    "        (\"trip_purpose\", \"choice\")\n",
    "    ])\n",
    "elif dataset is 'LPMC':\n",
    "    graph.add_edges_from([\n",
    "        (\"travel_year\", \"survey_year\"),\n",
    "        (\"travel_date\", \"day_of_week\"),\n",
    "        (\"day_of_week\", \"purpose\"),\n",
    "        (\"purpose\", \"start_time_linear\"),\n",
    "        (\"purpose\", \"cost_driving_con_charge\"),\n",
    "        (\"purpose\", \"distance\"),\n",
    "        (\"day_of_week\", \"driving_traffic_percent\"),\n",
    "        (\"day_of_week\", \"cost_driving_con_charge\"),\n",
    "        (\"start_time_linear\", \"driving_traffic_percent\"),\n",
    "        (\"start_time_linear\", \"cost_driving_con_charge\"),\n",
    "        (\"driving_traffic_percent\", \"cost_driving_con_charge\"),\n",
    "        (\"female\", \"driving_license\"),\n",
    "        (\"age\", \"bus_scale\"),\n",
    "        (\"age\", \"car_ownership\"),\n",
    "        (\"age\", \"driving_license\"),\n",
    "        (\"age\", \"faretype\"),\n",
    "        (\"driving_license\", \"car_ownership\"),\n",
    "        (\"car_ownership\", \"fueltype\"),\n",
    "        (\"fueltype\", \"cost_driving_con_charge\"),\n",
    "        (\"fueltype\", \"cost_driving_fuel\"),\n",
    "        (\"distance\", \"cost_driving_fuel\"),\n",
    "        (\"distance\", \"dur_driving\"),\n",
    "        (\"distance\", \"dur_walking\"),\n",
    "        (\"distance\", \"dur_cycling\"),\n",
    "        (\"distance\", \"dur_pt_access\"),\n",
    "        (\"distance\", \"dur_pt_rail\"),\n",
    "        (\"distance\", \"dur_pt_bus\"),\n",
    "        (\"distance\", \"dur_pt_int\"),\n",
    "        (\"dur_pt_bus\", \"cost_transit\"),\n",
    "        (\"dur_pt_rail\", \"cost_transit\"),\n",
    "        (\"pt_n_interchanges\", \"dur_pt_int\"),\n",
    "        (\"pt_n_interchanges\", \"cost_transit\"),\n",
    "        (\"faretype\", \"cost_transit\"),\n",
    "        (\"bus_scale\", \"cost_transit\"),\n",
    "        (\"car_ownership\", \"travel_mode\"),\n",
    "        (\"age\", \"travel_mode\"),\n",
    "        (\"cost_driving_con_charge\", \"travel_mode\"),\n",
    "        (\"driving_traffic_percent\", \"travel_mode\"),\n",
    "        (\"female\", \"travel_mode\"),\n",
    "        (\"purpose\", \"travel_mode\"),\n",
    "        (\"cost_transit\", \"travel_mode\"),\n",
    "        (\"cost_driving_fuel\", \"travel_mode\"),\n",
    "        (\"dur_driving\", \"travel_mode\"),\n",
    "        (\"dur_walking\", \"travel_mode\"),\n",
    "        (\"dur_cycling\", \"travel_mode\"),\n",
    "        (\"dur_pt_access\", \"travel_mode\"),\n",
    "        (\"dur_pt_rail\", \"travel_mode\"),\n",
    "        (\"dur_pt_bus\", \"travel_mode\"),\n",
    "        (\"dur_pt_int\", \"travel_mode\")\n",
    "    ])\n",
    "    graph.add_node(\"travel_month\")"
   ]
  },
  {
   "cell_type": "code",
   "execution_count": 9,
   "metadata": {},
   "outputs": [],
   "source": [
    "output_folder = '../output/' + dataset + '/DATWGAN_300/'"
   ]
  },
  {
   "cell_type": "code",
   "execution_count": 10,
   "metadata": {},
   "outputs": [],
   "source": [
    "datgan = DATWGAN(continuous_columns, max_epoch=300, batch_size=500, output=output_folder, gpu=0)"
   ]
  },
  {
   "cell_type": "code",
   "execution_count": 11,
   "metadata": {},
   "outputs": [
    {
     "name": "stdout",
     "output_type": "stream",
     "text": [
      "\u001b[32m[1027 16:02:49 @DATWGAN.py:117]\u001b[0m Found preprocessed data\n",
      "\u001b[32m[1027 16:02:49 @DATWGAN.py:125]\u001b[0m Preprocessed data have been loaded!\n",
      "WARNING:tensorflow:From D:\\Users\\glede\\anaconda3\\envs\\py37\\lib\\site-packages\\tensorpack\\graph_builder\\model_desc.py:29: The name tf.get_default_graph is deprecated. Please use tf.compat.v1.get_default_graph instead.\n",
      "\n",
      "WARNING:tensorflow:From D:\\Users\\glede\\anaconda3\\envs\\py37\\lib\\site-packages\\tensorpack\\graph_builder\\model_desc.py:39: The name tf.placeholder is deprecated. Please use tf.compat.v1.placeholder instead.\n",
      "\n",
      "WARNING:tensorflow:From D:\\Users\\glede\\anaconda3\\envs\\py37\\lib\\site-packages\\tensorpack\\input_source\\input_source.py:219: The name tf.FIFOQueue is deprecated. Please use tf.queue.FIFOQueue instead.\n",
      "\n",
      "\u001b[32m[1027 16:02:49 @input_source.py:222]\u001b[0m Setting up the queue 'QueueInput/input_queue' for CPU prefetching ...\n",
      "WARNING:tensorflow:From D:\\Users\\glede\\anaconda3\\envs\\py37\\lib\\site-packages\\tensorpack\\tfutils\\summary.py:237: The name tf.get_variable_scope is deprecated. Please use tf.compat.v1.get_variable_scope instead.\n",
      "\n",
      "WARNING:tensorflow:From D:\\Users\\glede\\anaconda3\\envs\\py37\\lib\\site-packages\\tensorpack\\tfutils\\summary.py:27: The name tf.variable_scope is deprecated. Please use tf.compat.v1.variable_scope instead.\n",
      "\n",
      "WARNING:tensorflow:From D:\\Users\\glede\\anaconda3\\envs\\py37\\lib\\site-packages\\tensorpack\\tfutils\\summary.py:254: The name tf.get_variable is deprecated. Please use tf.compat.v1.get_variable instead.\n",
      "\n",
      "WARNING:tensorflow:From D:\\Users\\glede\\anaconda3\\envs\\py37\\lib\\site-packages\\tensorpack\\tfutils\\summary.py:264: The name tf.summary.scalar is deprecated. Please use tf.compat.v1.summary.scalar instead.\n",
      "\n",
      "WARNING:tensorflow:From D:\\Users\\glede\\anaconda3\\envs\\py37\\lib\\site-packages\\tensorpack\\tfutils\\collection.py:105: The name tf.GraphKeys is deprecated. Please use tf.compat.v1.GraphKeys instead.\n",
      "\n",
      "WARNING:tensorflow:From D:\\Users\\glede\\anaconda3\\envs\\py37\\lib\\site-packages\\tensorpack\\tfutils\\collection.py:33: The name tf.get_collection is deprecated. Please use tf.compat.v1.get_collection instead.\n",
      "\n",
      "WARNING:tensorflow:From C:\\Users\\glede\\Documents\\EPFL\\PhD\\SynthPop\\code\\modules\\datgan\\models\\DATSGANModel.py:532: The name tf.random_normal is deprecated. Please use tf.random.normal instead.\n",
      "\n",
      "WARNING:tensorflow:From C:\\Users\\glede\\Documents\\EPFL\\PhD\\SynthPop\\code\\modules\\datgan\\models\\DATSGANModel.py:535: The name tf.placeholder_with_default is deprecated. Please use tf.compat.v1.placeholder_with_default instead.\n",
      "\n",
      "WARNING:tensorflow:From C:\\Users\\glede\\Documents\\EPFL\\PhD\\SynthPop\\code\\modules\\datgan\\models\\DATSGANModel.py:192: LSTMCell.__init__ (from tensorflow.python.ops.rnn_cell_impl) is deprecated and will be removed in a future version.\n",
      "Instructions for updating:\n",
      "This class is equivalent as tf.keras.layers.LSTMCell, and will be replaced by that in Tensorflow 2.0.\n",
      "\u001b[32m[1027 16:02:49 @DATSGANModel.py:209]\u001b[0m \u001b[91mCreating cell for age (in-edges: 0)\n",
      "WARNING:tensorflow:From D:\\Users\\glede\\anaconda3\\envs\\py37\\lib\\site-packages\\tensorflow_core\\python\\ops\\rnn_cell_impl.py:958: Layer.add_variable (from tensorflow.python.keras.engine.base_layer) is deprecated and will be removed in a future version.\n",
      "Instructions for updating:\n",
      "Please use `layer.add_weight` method instead.\n",
      "WARNING:tensorflow:From D:\\Users\\glede\\anaconda3\\envs\\py37\\lib\\site-packages\\tensorflow_core\\python\\ops\\rnn_cell_impl.py:962: calling Zeros.__init__ (from tensorflow.python.ops.init_ops) with dtype is deprecated and will be removed in a future version.\n",
      "Instructions for updating:\n",
      "Call initializer instance with the dtype argument instead of passing it to the constructor\n",
      "\u001b[32m[1027 16:02:49 @registry.py:126]\u001b[0m gen/LSTM/00/FC input: [500, 100]\n",
      "WARNING:tensorflow:From D:\\Users\\glede\\anaconda3\\envs\\py37\\lib\\site-packages\\tensorpack\\models\\fc.py:57: The name tf.layers.Dense is deprecated. Please use tf.compat.v1.layers.Dense instead.\n",
      "\n",
      "WARNING:tensorflow:From D:\\Users\\glede\\anaconda3\\envs\\py37\\lib\\site-packages\\tensorpack\\models\\fc.py:67: Layer.apply (from tensorflow.python.keras.engine.base_layer) is deprecated and will be removed in a future version.\n",
      "Instructions for updating:\n",
      "Please use `layer.__call__` method instead.\n",
      "\u001b[32m[1027 16:02:49 @registry.py:134]\u001b[0m gen/LSTM/00/FC output: [500, 100]\n",
      "\u001b[32m[1027 16:02:49 @registry.py:126]\u001b[0m gen/LSTM/00/FC2_val input: [500, 100]\n",
      "\u001b[32m[1027 16:02:49 @registry.py:134]\u001b[0m gen/LSTM/00/FC2_val output: [500, 6]\n",
      "\u001b[32m[1027 16:02:49 @registry.py:126]\u001b[0m gen/LSTM/00/FC2_prob input: [500, 100]\n",
      "\u001b[32m[1027 16:02:49 @registry.py:134]\u001b[0m gen/LSTM/00/FC2_prob output: [500, 6]\n",
      "\u001b[32m[1027 16:02:49 @registry.py:126]\u001b[0m gen/LSTM/00/FC3 input: [500, 12]\n",
      "\u001b[32m[1027 16:02:49 @registry.py:134]\u001b[0m gen/LSTM/00/FC3 output: [500, 100]\n",
      "\u001b[32m[1027 16:02:49 @DATSGANModel.py:209]\u001b[0m \u001b[91mCreating cell for gender (in-edges: 0)\n",
      "\u001b[32m[1027 16:02:49 @registry.py:126]\u001b[0m gen/LSTM/01/FC input: [500, 100]\n",
      "\u001b[32m[1027 16:02:49 @registry.py:134]\u001b[0m gen/LSTM/01/FC output: [500, 100]\n",
      "\u001b[32m[1027 16:02:49 @registry.py:126]\u001b[0m gen/LSTM/01/FC2 input: [500, 100]\n",
      "\u001b[32m[1027 16:02:49 @registry.py:134]\u001b[0m gen/LSTM/01/FC2 output: [500, 2]\n",
      "\u001b[32m[1027 16:02:49 @registry.py:126]\u001b[0m gen/LSTM/01/FC3 input: [500, 2]\n",
      "\u001b[32m[1027 16:02:49 @registry.py:134]\u001b[0m gen/LSTM/01/FC3 output: [500, 100]\n",
      "\u001b[32m[1027 16:02:49 @DATSGANModel.py:209]\u001b[0m \u001b[91mCreating cell for travel_dow (in-edges: 0)\n",
      "\u001b[32m[1027 16:02:49 @registry.py:126]\u001b[0m gen/LSTM/02/FC input: [500, 100]\n",
      "\u001b[32m[1027 16:02:49 @registry.py:134]\u001b[0m gen/LSTM/02/FC output: [500, 100]\n",
      "\u001b[32m[1027 16:02:49 @registry.py:126]\u001b[0m gen/LSTM/02/FC2 input: [500, 100]\n",
      "\u001b[32m[1027 16:02:49 @registry.py:134]\u001b[0m gen/LSTM/02/FC2 output: [500, 7]\n",
      "\u001b[32m[1027 16:02:49 @registry.py:126]\u001b[0m gen/LSTM/02/FC3 input: [500, 7]\n",
      "\u001b[32m[1027 16:02:49 @registry.py:134]\u001b[0m gen/LSTM/02/FC3 output: [500, 100]\n",
      "\u001b[32m[1027 16:02:49 @DATSGANModel.py:209]\u001b[0m \u001b[91mCreating cell for license (in-edges: 1)\n",
      "\u001b[32m[1027 16:02:49 @registry.py:126]\u001b[0m gen/LSTM/03/FC input: [500, 100]\n",
      "\u001b[32m[1027 16:02:49 @registry.py:134]\u001b[0m gen/LSTM/03/FC output: [500, 100]\n",
      "\u001b[32m[1027 16:02:49 @registry.py:126]\u001b[0m gen/LSTM/03/FC2 input: [500, 100]\n",
      "\u001b[32m[1027 16:02:49 @registry.py:134]\u001b[0m gen/LSTM/03/FC2 output: [500, 2]\n",
      "\u001b[32m[1027 16:02:49 @registry.py:126]\u001b[0m gen/LSTM/03/FC3 input: [500, 2]\n",
      "\u001b[32m[1027 16:02:49 @registry.py:134]\u001b[0m gen/LSTM/03/FC3 output: [500, 100]\n",
      "\u001b[32m[1027 16:02:49 @DATSGANModel.py:209]\u001b[0m \u001b[91mCreating cell for education_level (in-edges: 1)\n",
      "\u001b[32m[1027 16:02:49 @registry.py:126]\u001b[0m gen/LSTM/04/FC input: [500, 100]\n",
      "\u001b[32m[1027 16:02:49 @registry.py:134]\u001b[0m gen/LSTM/04/FC output: [500, 100]\n",
      "\u001b[32m[1027 16:02:49 @registry.py:126]\u001b[0m gen/LSTM/04/FC2 input: [500, 100]\n",
      "\u001b[32m[1027 16:02:49 @registry.py:134]\u001b[0m gen/LSTM/04/FC2 output: [500, 6]\n",
      "\u001b[32m[1027 16:02:49 @registry.py:126]\u001b[0m gen/LSTM/04/FC3 input: [500, 6]\n",
      "\u001b[32m[1027 16:02:49 @registry.py:134]\u001b[0m gen/LSTM/04/FC3 output: [500, 100]\n",
      "\u001b[32m[1027 16:02:49 @DATSGANModel.py:209]\u001b[0m \u001b[91mCreating cell for work_status (in-edges: 2)\n",
      "\u001b[32m[1027 16:02:49 @registry.py:126]\u001b[0m gen/LSTM/05/FC_inputs input: [500, 200]\n",
      "\u001b[32m[1027 16:02:49 @registry.py:134]\u001b[0m gen/LSTM/05/FC_inputs output: [500, 100]\n",
      "\u001b[32m[1027 16:02:49 @registry.py:126]\u001b[0m gen/LSTM/05/FC_attentions input: [500, 200]\n",
      "\u001b[32m[1027 16:02:50 @registry.py:134]\u001b[0m gen/LSTM/05/FC_attentions output: [500, 100]\n",
      "\u001b[32m[1027 16:02:50 @registry.py:126]\u001b[0m gen/LSTM/05/FC_lstm_state_0 input: [500, 200]\n",
      "\u001b[32m[1027 16:02:50 @registry.py:134]\u001b[0m gen/LSTM/05/FC_lstm_state_0 output: [500, 100]\n",
      "\u001b[32m[1027 16:02:50 @registry.py:126]\u001b[0m gen/LSTM/05/FC_lstm_state_1 input: [500, 200]\n",
      "\u001b[32m[1027 16:02:50 @registry.py:134]\u001b[0m gen/LSTM/05/FC_lstm_state_1 output: [500, 100]\n",
      "WARNING:tensorflow:From C:\\Users\\glede\\Documents\\EPFL\\PhD\\SynthPop\\code\\modules\\datgan\\models\\DATSGANModel.py:305: The name tf.nn.rnn_cell.LSTMStateTuple is deprecated. Please use tf.compat.v1.nn.rnn_cell.LSTMStateTuple instead.\n",
      "\n",
      "\u001b[32m[1027 16:02:50 @registry.py:126]\u001b[0m gen/LSTM/06/FC input: [500, 100]\n",
      "\u001b[32m[1027 16:02:50 @registry.py:134]\u001b[0m gen/LSTM/06/FC output: [500, 100]\n",
      "\u001b[32m[1027 16:02:50 @registry.py:126]\u001b[0m gen/LSTM/06/FC2 input: [500, 100]\n",
      "\u001b[32m[1027 16:02:50 @registry.py:134]\u001b[0m gen/LSTM/06/FC2 output: [500, 8]\n"
     ]
    },
    {
     "name": "stdout",
     "output_type": "stream",
     "text": [
      "\u001b[32m[1027 16:02:50 @registry.py:126]\u001b[0m gen/LSTM/06/FC3 input: [500, 8]\n",
      "\u001b[32m[1027 16:02:50 @registry.py:134]\u001b[0m gen/LSTM/06/FC3 output: [500, 100]\n",
      "\u001b[32m[1027 16:02:50 @DATSGANModel.py:209]\u001b[0m \u001b[91mCreating cell for hh_income (in-edges: 2)\n",
      "\u001b[32m[1027 16:02:50 @registry.py:126]\u001b[0m gen/LSTM/07/FC_inputs input: [500, 200]\n",
      "\u001b[32m[1027 16:02:50 @registry.py:134]\u001b[0m gen/LSTM/07/FC_inputs output: [500, 100]\n",
      "\u001b[32m[1027 16:02:50 @registry.py:126]\u001b[0m gen/LSTM/07/FC_attentions input: [500, 200]\n",
      "\u001b[32m[1027 16:02:50 @registry.py:134]\u001b[0m gen/LSTM/07/FC_attentions output: [500, 100]\n",
      "\u001b[32m[1027 16:02:50 @registry.py:126]\u001b[0m gen/LSTM/07/FC_lstm_state_0 input: [500, 200]\n",
      "\u001b[32m[1027 16:02:50 @registry.py:134]\u001b[0m gen/LSTM/07/FC_lstm_state_0 output: [500, 100]\n",
      "\u001b[32m[1027 16:02:50 @registry.py:126]\u001b[0m gen/LSTM/07/FC_lstm_state_1 input: [500, 200]\n",
      "\u001b[32m[1027 16:02:50 @registry.py:134]\u001b[0m gen/LSTM/07/FC_lstm_state_1 output: [500, 100]\n",
      "\u001b[32m[1027 16:02:50 @registry.py:126]\u001b[0m gen/LSTM/08/FC input: [500, 100]\n",
      "\u001b[32m[1027 16:02:50 @registry.py:134]\u001b[0m gen/LSTM/08/FC output: [500, 100]\n",
      "\u001b[32m[1027 16:02:50 @registry.py:126]\u001b[0m gen/LSTM/08/FC2 input: [500, 100]\n",
      "\u001b[32m[1027 16:02:50 @registry.py:134]\u001b[0m gen/LSTM/08/FC2 output: [500, 7]\n",
      "\u001b[32m[1027 16:02:50 @registry.py:126]\u001b[0m gen/LSTM/08/FC3 input: [500, 7]\n",
      "\u001b[32m[1027 16:02:50 @registry.py:134]\u001b[0m gen/LSTM/08/FC3 output: [500, 100]\n",
      "\u001b[32m[1027 16:02:50 @DATSGANModel.py:209]\u001b[0m \u001b[91mCreating cell for trip_purpose (in-edges: 1)\n",
      "\u001b[32m[1027 16:02:50 @registry.py:126]\u001b[0m gen/LSTM/09/FC input: [500, 100]\n",
      "\u001b[32m[1027 16:02:50 @registry.py:134]\u001b[0m gen/LSTM/09/FC output: [500, 100]\n",
      "\u001b[32m[1027 16:02:50 @registry.py:126]\u001b[0m gen/LSTM/09/FC2 input: [500, 100]\n",
      "\u001b[32m[1027 16:02:50 @registry.py:134]\u001b[0m gen/LSTM/09/FC2 output: [500, 7]\n",
      "\u001b[32m[1027 16:02:50 @registry.py:126]\u001b[0m gen/LSTM/09/FC3 input: [500, 7]\n",
      "\u001b[32m[1027 16:02:50 @registry.py:134]\u001b[0m gen/LSTM/09/FC3 output: [500, 100]\n",
      "\u001b[32m[1027 16:02:50 @DATSGANModel.py:209]\u001b[0m \u001b[91mCreating cell for hh_descr (in-edges: 2)\n",
      "\u001b[32m[1027 16:02:50 @registry.py:126]\u001b[0m gen/LSTM/10/FC_inputs input: [500, 200]\n",
      "\u001b[32m[1027 16:02:50 @registry.py:134]\u001b[0m gen/LSTM/10/FC_inputs output: [500, 100]\n",
      "\u001b[32m[1027 16:02:50 @registry.py:126]\u001b[0m gen/LSTM/10/FC_attentions input: [500, 200]\n",
      "\u001b[32m[1027 16:02:50 @registry.py:134]\u001b[0m gen/LSTM/10/FC_attentions output: [500, 100]\n",
      "\u001b[32m[1027 16:02:50 @registry.py:126]\u001b[0m gen/LSTM/10/FC_lstm_state_0 input: [500, 200]\n",
      "\u001b[32m[1027 16:02:50 @registry.py:134]\u001b[0m gen/LSTM/10/FC_lstm_state_0 output: [500, 100]\n",
      "\u001b[32m[1027 16:02:50 @registry.py:126]\u001b[0m gen/LSTM/10/FC_lstm_state_1 input: [500, 200]\n",
      "\u001b[32m[1027 16:02:50 @registry.py:134]\u001b[0m gen/LSTM/10/FC_lstm_state_1 output: [500, 100]\n",
      "\u001b[32m[1027 16:02:50 @registry.py:126]\u001b[0m gen/LSTM/11/FC input: [500, 100]\n",
      "\u001b[32m[1027 16:02:50 @registry.py:134]\u001b[0m gen/LSTM/11/FC output: [500, 100]\n",
      "\u001b[32m[1027 16:02:50 @registry.py:126]\u001b[0m gen/LSTM/11/FC2 input: [500, 100]\n",
      "\u001b[32m[1027 16:02:50 @registry.py:134]\u001b[0m gen/LSTM/11/FC2 output: [500, 3]\n",
      "\u001b[32m[1027 16:02:50 @registry.py:126]\u001b[0m gen/LSTM/11/FC3 input: [500, 3]\n",
      "\u001b[32m[1027 16:02:50 @registry.py:134]\u001b[0m gen/LSTM/11/FC3 output: [500, 100]\n",
      "\u001b[32m[1027 16:02:50 @DATSGANModel.py:209]\u001b[0m \u001b[91mCreating cell for hh_size (in-edges: 3)\n",
      "\u001b[32m[1027 16:02:50 @registry.py:126]\u001b[0m gen/LSTM/12/FC_inputs input: [500, 300]\n",
      "\u001b[32m[1027 16:02:50 @registry.py:134]\u001b[0m gen/LSTM/12/FC_inputs output: [500, 100]\n",
      "\u001b[32m[1027 16:02:50 @registry.py:126]\u001b[0m gen/LSTM/12/FC_attentions input: [500, 300]\n",
      "\u001b[32m[1027 16:02:50 @registry.py:134]\u001b[0m gen/LSTM/12/FC_attentions output: [500, 100]\n",
      "\u001b[32m[1027 16:02:50 @registry.py:126]\u001b[0m gen/LSTM/12/FC_lstm_state_0 input: [500, 300]\n",
      "\u001b[32m[1027 16:02:50 @registry.py:134]\u001b[0m gen/LSTM/12/FC_lstm_state_0 output: [500, 100]\n",
      "\u001b[32m[1027 16:02:50 @registry.py:126]\u001b[0m gen/LSTM/12/FC_lstm_state_1 input: [500, 300]\n",
      "\u001b[32m[1027 16:02:50 @registry.py:134]\u001b[0m gen/LSTM/12/FC_lstm_state_1 output: [500, 100]\n",
      "\u001b[32m[1027 16:02:50 @registry.py:126]\u001b[0m gen/LSTM/13/FC input: [500, 100]\n",
      "\u001b[32m[1027 16:02:50 @registry.py:134]\u001b[0m gen/LSTM/13/FC output: [500, 100]\n",
      "\u001b[32m[1027 16:02:50 @registry.py:126]\u001b[0m gen/LSTM/13/FC2 input: [500, 100]\n",
      "\u001b[32m[1027 16:02:50 @registry.py:134]\u001b[0m gen/LSTM/13/FC2 output: [500, 8]\n",
      "\u001b[32m[1027 16:02:50 @registry.py:126]\u001b[0m gen/LSTM/13/FC3 input: [500, 8]\n",
      "\u001b[32m[1027 16:02:50 @registry.py:134]\u001b[0m gen/LSTM/13/FC3 output: [500, 100]\n",
      "\u001b[32m[1027 16:02:50 @DATSGANModel.py:209]\u001b[0m \u001b[91mCreating cell for departure_time (in-edges: 1)\n",
      "\u001b[32m[1027 16:02:50 @registry.py:126]\u001b[0m gen/LSTM/14/FC input: [500, 100]\n",
      "\u001b[32m[1027 16:02:50 @registry.py:134]\u001b[0m gen/LSTM/14/FC output: [500, 100]\n",
      "\u001b[32m[1027 16:02:50 @registry.py:126]\u001b[0m gen/LSTM/14/FC2_val input: [500, 100]\n",
      "\u001b[32m[1027 16:02:50 @registry.py:134]\u001b[0m gen/LSTM/14/FC2_val output: [500, 8]\n",
      "\u001b[32m[1027 16:02:50 @registry.py:126]\u001b[0m gen/LSTM/14/FC2_prob input: [500, 100]\n",
      "\u001b[32m[1027 16:02:50 @registry.py:134]\u001b[0m gen/LSTM/14/FC2_prob output: [500, 8]\n",
      "\u001b[32m[1027 16:02:50 @registry.py:126]\u001b[0m gen/LSTM/14/FC3 input: [500, 16]\n",
      "\u001b[32m[1027 16:02:50 @registry.py:134]\u001b[0m gen/LSTM/14/FC3 output: [500, 100]\n",
      "\u001b[32m[1027 16:02:50 @DATSGANModel.py:209]\u001b[0m \u001b[91mCreating cell for distance (in-edges: 1)\n",
      "\u001b[32m[1027 16:02:50 @registry.py:126]\u001b[0m gen/LSTM/15/FC input: [500, 100]\n",
      "\u001b[32m[1027 16:02:50 @registry.py:134]\u001b[0m gen/LSTM/15/FC output: [500, 100]\n",
      "\u001b[32m[1027 16:02:50 @registry.py:126]\u001b[0m gen/LSTM/15/FC2_val input: [500, 100]\n",
      "\u001b[32m[1027 16:02:50 @registry.py:134]\u001b[0m gen/LSTM/15/FC2_val output: [500, 10]\n",
      "\u001b[32m[1027 16:02:50 @registry.py:126]\u001b[0m gen/LSTM/15/FC2_prob input: [500, 100]\n",
      "\u001b[32m[1027 16:02:50 @registry.py:134]\u001b[0m gen/LSTM/15/FC2_prob output: [500, 10]\n",
      "\u001b[32m[1027 16:02:50 @registry.py:126]\u001b[0m gen/LSTM/15/FC3 input: [500, 20]\n",
      "\u001b[32m[1027 16:02:50 @registry.py:134]\u001b[0m gen/LSTM/15/FC3 output: [500, 100]\n",
      "\u001b[32m[1027 16:02:50 @DATSGANModel.py:209]\u001b[0m \u001b[91mCreating cell for hh_vehicles (in-edges: 2)\n",
      "\u001b[32m[1027 16:02:50 @registry.py:126]\u001b[0m gen/LSTM/16/FC_inputs input: [500, 200]\n",
      "\u001b[32m[1027 16:02:50 @registry.py:134]\u001b[0m gen/LSTM/16/FC_inputs output: [500, 100]\n",
      "\u001b[32m[1027 16:02:50 @registry.py:126]\u001b[0m gen/LSTM/16/FC_attentions input: [500, 200]\n",
      "\u001b[32m[1027 16:02:50 @registry.py:134]\u001b[0m gen/LSTM/16/FC_attentions output: [500, 100]\n",
      "\u001b[32m[1027 16:02:50 @registry.py:126]\u001b[0m gen/LSTM/16/FC_lstm_state_0 input: [500, 200]\n",
      "\u001b[32m[1027 16:02:50 @registry.py:134]\u001b[0m gen/LSTM/16/FC_lstm_state_0 output: [500, 100]\n",
      "\u001b[32m[1027 16:02:50 @registry.py:126]\u001b[0m gen/LSTM/16/FC_lstm_state_1 input: [500, 200]\n",
      "\u001b[32m[1027 16:02:50 @registry.py:134]\u001b[0m gen/LSTM/16/FC_lstm_state_1 output: [500, 100]\n",
      "\u001b[32m[1027 16:02:50 @registry.py:126]\u001b[0m gen/LSTM/17/FC input: [500, 100]\n",
      "\u001b[32m[1027 16:02:50 @registry.py:134]\u001b[0m gen/LSTM/17/FC output: [500, 100]\n",
      "\u001b[32m[1027 16:02:50 @registry.py:126]\u001b[0m gen/LSTM/17/FC2 input: [500, 100]\n",
      "\u001b[32m[1027 16:02:50 @registry.py:134]\u001b[0m gen/LSTM/17/FC2 output: [500, 9]\n",
      "\u001b[32m[1027 16:02:50 @registry.py:126]\u001b[0m gen/LSTM/17/FC3 input: [500, 9]\n",
      "\u001b[32m[1027 16:02:50 @registry.py:134]\u001b[0m gen/LSTM/17/FC3 output: [500, 100]\n",
      "\u001b[32m[1027 16:02:50 @DATSGANModel.py:209]\u001b[0m \u001b[91mCreating cell for hh_bikes (in-edges: 2)\n",
      "\u001b[32m[1027 16:02:50 @registry.py:126]\u001b[0m gen/LSTM/18/FC_inputs input: [500, 200]\n",
      "\u001b[32m[1027 16:02:50 @registry.py:134]\u001b[0m gen/LSTM/18/FC_inputs output: [500, 100]\n",
      "\u001b[32m[1027 16:02:50 @registry.py:126]\u001b[0m gen/LSTM/18/FC_attentions input: [500, 200]\n",
      "\u001b[32m[1027 16:02:50 @registry.py:134]\u001b[0m gen/LSTM/18/FC_attentions output: [500, 100]\n",
      "\u001b[32m[1027 16:02:50 @registry.py:126]\u001b[0m gen/LSTM/18/FC_lstm_state_0 input: [500, 200]\n",
      "\u001b[32m[1027 16:02:50 @registry.py:134]\u001b[0m gen/LSTM/18/FC_lstm_state_0 output: [500, 100]\n",
      "\u001b[32m[1027 16:02:50 @registry.py:126]\u001b[0m gen/LSTM/18/FC_lstm_state_1 input: [500, 200]\n",
      "\u001b[32m[1027 16:02:50 @registry.py:134]\u001b[0m gen/LSTM/18/FC_lstm_state_1 output: [500, 100]\n",
      "\u001b[32m[1027 16:02:50 @registry.py:126]\u001b[0m gen/LSTM/19/FC input: [500, 100]\n",
      "\u001b[32m[1027 16:02:50 @registry.py:134]\u001b[0m gen/LSTM/19/FC output: [500, 100]\n",
      "\u001b[32m[1027 16:02:50 @registry.py:126]\u001b[0m gen/LSTM/19/FC2 input: [500, 100]\n",
      "\u001b[32m[1027 16:02:50 @registry.py:134]\u001b[0m gen/LSTM/19/FC2 output: [500, 8]\n",
      "\u001b[32m[1027 16:02:50 @registry.py:126]\u001b[0m gen/LSTM/19/FC3 input: [500, 8]\n"
     ]
    },
    {
     "name": "stdout",
     "output_type": "stream",
     "text": [
      "\u001b[32m[1027 16:02:50 @registry.py:134]\u001b[0m gen/LSTM/19/FC3 output: [500, 100]\n",
      "\u001b[32m[1027 16:02:50 @DATSGANModel.py:209]\u001b[0m \u001b[91mCreating cell for choice (in-edges: 7)\n",
      "\u001b[32m[1027 16:02:50 @registry.py:126]\u001b[0m gen/LSTM/20/FC_inputs input: [500, 700]\n",
      "\u001b[32m[1027 16:02:50 @registry.py:134]\u001b[0m gen/LSTM/20/FC_inputs output: [500, 100]\n",
      "\u001b[32m[1027 16:02:50 @registry.py:126]\u001b[0m gen/LSTM/20/FC_attentions input: [500, 700]\n",
      "\u001b[32m[1027 16:02:50 @registry.py:134]\u001b[0m gen/LSTM/20/FC_attentions output: [500, 100]\n",
      "\u001b[32m[1027 16:02:50 @registry.py:126]\u001b[0m gen/LSTM/20/FC_lstm_state_0 input: [500, 700]\n",
      "\u001b[32m[1027 16:02:50 @registry.py:134]\u001b[0m gen/LSTM/20/FC_lstm_state_0 output: [500, 100]\n",
      "\u001b[32m[1027 16:02:50 @registry.py:126]\u001b[0m gen/LSTM/20/FC_lstm_state_1 input: [500, 700]\n",
      "\u001b[32m[1027 16:02:50 @registry.py:134]\u001b[0m gen/LSTM/20/FC_lstm_state_1 output: [500, 100]\n",
      "\u001b[32m[1027 16:02:50 @registry.py:126]\u001b[0m gen/LSTM/21/FC input: [500, 100]\n",
      "\u001b[32m[1027 16:02:50 @registry.py:134]\u001b[0m gen/LSTM/21/FC output: [500, 100]\n",
      "\u001b[32m[1027 16:02:50 @registry.py:126]\u001b[0m gen/LSTM/21/FC2 input: [500, 100]\n",
      "\u001b[32m[1027 16:02:50 @registry.py:134]\u001b[0m gen/LSTM/21/FC2 output: [500, 5]\n",
      "\u001b[32m[1027 16:02:50 @registry.py:126]\u001b[0m gen/LSTM/21/FC3 input: [500, 5]\n",
      "\u001b[32m[1027 16:02:50 @registry.py:134]\u001b[0m gen/LSTM/21/FC3 output: [500, 100]\n",
      "WARNING:tensorflow:From C:\\Users\\glede\\Documents\\EPFL\\PhD\\SynthPop\\code\\modules\\datgan\\models\\DATSGANModel.py:572: The name tf.random_uniform is deprecated. Please use tf.random.uniform instead.\n",
      "\n",
      "WARNING:tensorflow:From C:\\Users\\glede\\Documents\\EPFL\\PhD\\SynthPop\\code\\modules\\datgan\\models\\DATSGANModel.py:496: The name tf.log is deprecated. Please use tf.math.log instead.\n",
      "\n",
      "\u001b[32m[1027 16:02:51 @registry.py:126]\u001b[0m discrim/dis_fc0/fc input: [500, 120]\n",
      "\u001b[32m[1027 16:02:51 @registry.py:134]\u001b[0m discrim/dis_fc0/fc output: [500, 100]\n",
      "\u001b[32m[1027 16:02:51 @registry.py:126]\u001b[0m discrim/dis_fc0/fc_diversity input: [500, 100]\n",
      "\u001b[32m[1027 16:02:51 @registry.py:134]\u001b[0m discrim/dis_fc0/fc_diversity output: [500, 100]\n",
      "WARNING:tensorflow:From D:\\Users\\glede\\anaconda3\\envs\\py37\\lib\\site-packages\\tensorpack\\models\\batch_norm.py:204: The name tf.layers.BatchNormalization is deprecated. Please use tf.compat.v1.layers.BatchNormalization instead.\n",
      "\n",
      "WARNING:tensorflow:From D:\\Users\\glede\\anaconda3\\envs\\py37\\lib\\site-packages\\tensorpack\\models\\batch_norm.py:212: The name tf.add_to_collection is deprecated. Please use tf.compat.v1.add_to_collection instead.\n",
      "\n",
      "\u001b[32m[1027 16:02:51 @registry.py:126]\u001b[0m discrim/dis_fc_top input: [500, 110]\n",
      "\u001b[32m[1027 16:02:51 @registry.py:134]\u001b[0m discrim/dis_fc_top output: [500, 1]\n",
      "WARNING:tensorflow:From C:\\Users\\glede\\Documents\\EPFL\\PhD\\SynthPop\\code\\modules\\datgan\\models\\DATWGANModel.py:98: The name tf.train.RMSPropOptimizer is deprecated. Please use tf.compat.v1.train.RMSPropOptimizer instead.\n",
      "\n",
      "WARNING:tensorflow:From D:\\Users\\glede\\anaconda3\\envs\\py37\\lib\\site-packages\\tensorflow_core\\python\\training\\rmsprop.py:119: calling Ones.__init__ (from tensorflow.python.ops.init_ops) with dtype is deprecated and will be removed in a future version.\n",
      "Instructions for updating:\n",
      "Call initializer instance with the dtype argument instead of passing it to the constructor\n",
      "\u001b[32m[1027 16:02:53 @logger.py:90]\u001b[0m Argv: D:\\Users\\glede\\anaconda3\\envs\\py37\\lib\\site-packages\\ipykernel_launcher.py -f C:\\Users\\glede\\AppData\\Roaming\\jupyter\\runtime\\kernel-936638f0-d0c0-451f-9f32-cdfee62e171c.json\n",
      "WARNING:tensorflow:From D:\\Users\\glede\\anaconda3\\envs\\py37\\lib\\site-packages\\tensorpack\\callbacks\\saver.py:43: The name tf.gfile.IsDirectory is deprecated. Please use tf.io.gfile.isdir instead.\n",
      "\n",
      "WARNING:tensorflow:From D:\\Users\\glede\\anaconda3\\envs\\py37\\lib\\site-packages\\tensorpack\\callbacks\\saver.py:44: The name tf.gfile.MakeDirs is deprecated. Please use tf.io.gfile.makedirs instead.\n",
      "\n",
      "WARNING:tensorflow:From D:\\Users\\glede\\anaconda3\\envs\\py37\\lib\\site-packages\\tensorpack\\tfutils\\common.py:41: The name tf.ConfigProto is deprecated. Please use tf.compat.v1.ConfigProto instead.\n",
      "\n",
      "\u001b[32m[1027 16:02:53 @model_utils.py:67]\u001b[0m \u001b[36mList of Trainable Variables: \n",
      "\u001b[0mname                              shape         #elements\n",
      "--------------------------------  ----------  -----------\n",
      "gen/LSTM/go_age:0                 [1, 100]            100\n",
      "gen/LSTM/lstm_cell/kernel:0       [500, 400]       200000\n",
      "gen/LSTM/lstm_cell/bias:0         [400]               400\n",
      "gen/LSTM/00/FC/W:0                [100, 100]        10000\n",
      "gen/LSTM/00/FC/b:0                [100]               100\n",
      "gen/LSTM/00/FC2_val/W:0           [100, 6]            600\n",
      "gen/LSTM/00/FC2_val/b:0           [6]                   6\n",
      "gen/LSTM/00/FC2_prob/W:0          [100, 6]            600\n",
      "gen/LSTM/00/FC2_prob/b:0          [6]                   6\n",
      "gen/LSTM/00/FC3/W:0               [12, 100]          1200\n",
      "gen/LSTM/00/FC3/b:0               [100]               100\n",
      "gen/LSTM/00/attw:0                [1, 1, 1]             1\n",
      "gen/LSTM/go_gender:0              [1, 100]            100\n",
      "gen/LSTM/01/FC/W:0                [100, 100]        10000\n",
      "gen/LSTM/01/FC/b:0                [100]               100\n",
      "gen/LSTM/01/FC2/W:0               [100, 2]            200\n",
      "gen/LSTM/01/FC2/b:0               [2]                   2\n",
      "gen/LSTM/01/FC3/W:0               [2, 100]            200\n",
      "gen/LSTM/01/FC3/b:0               [100]               100\n",
      "gen/LSTM/01/attw:0                [1, 1, 1]             1\n",
      "gen/LSTM/go_travel_dow:0          [1, 100]            100\n",
      "gen/LSTM/02/FC/W:0                [100, 100]        10000\n",
      "gen/LSTM/02/FC/b:0                [100]               100\n",
      "gen/LSTM/02/FC2/W:0               [100, 7]            700\n",
      "gen/LSTM/02/FC2/b:0               [7]                   7\n",
      "gen/LSTM/02/FC3/W:0               [7, 100]            700\n",
      "gen/LSTM/02/FC3/b:0               [100]               100\n",
      "gen/LSTM/02/attw:0                [1, 1, 1]             1\n",
      "gen/LSTM/03/FC/W:0                [100, 100]        10000\n",
      "gen/LSTM/03/FC/b:0                [100]               100\n",
      "gen/LSTM/03/FC2/W:0               [100, 2]            200\n",
      "gen/LSTM/03/FC2/b:0               [2]                   2\n",
      "gen/LSTM/03/FC3/W:0               [2, 100]            200\n",
      "gen/LSTM/03/FC3/b:0               [100]               100\n",
      "gen/LSTM/03/attw:0                [2, 1, 1]             2\n",
      "gen/LSTM/04/FC/W:0                [100, 100]        10000\n",
      "gen/LSTM/04/FC/b:0                [100]               100\n",
      "gen/LSTM/04/FC2/W:0               [100, 6]            600\n",
      "gen/LSTM/04/FC2/b:0               [6]                   6\n",
      "gen/LSTM/04/FC3/W:0               [6, 100]            600\n",
      "gen/LSTM/04/FC3/b:0               [100]               100\n",
      "gen/LSTM/04/attw:0                [2, 1, 1]             2\n",
      "gen/LSTM/05/FC_inputs/W:0         [200, 100]        20000\n",
      "gen/LSTM/05/FC_inputs/b:0         [100]               100\n",
      "gen/LSTM/05/FC_attentions/W:0     [200, 100]        20000\n",
      "gen/LSTM/05/FC_attentions/b:0     [100]               100\n",
      "gen/LSTM/05/FC_lstm_state_0/W:0   [200, 100]        20000\n",
      "gen/LSTM/05/FC_lstm_state_0/b:0   [100]               100\n",
      "gen/LSTM/05/FC_lstm_state_1/W:0   [200, 100]        20000\n",
      "gen/LSTM/05/FC_lstm_state_1/b:0   [100]               100\n",
      "gen/LSTM/06/FC/W:0                [100, 100]        10000\n",
      "gen/LSTM/06/FC/b:0                [100]               100\n",
      "gen/LSTM/06/FC2/W:0               [100, 8]            800\n",
      "gen/LSTM/06/FC2/b:0               [8]                   8\n",
      "gen/LSTM/06/FC3/W:0               [8, 100]            800\n",
      "gen/LSTM/06/FC3/b:0               [100]               100\n",
      "gen/LSTM/06/attw:0                [4, 1, 1]             4\n",
      "gen/LSTM/07/FC_inputs/W:0         [200, 100]        20000\n",
      "gen/LSTM/07/FC_inputs/b:0         [100]               100\n",
      "gen/LSTM/07/FC_attentions/W:0     [200, 100]        20000\n",
      "gen/LSTM/07/FC_attentions/b:0     [100]               100\n",
      "gen/LSTM/07/FC_lstm_state_0/W:0   [200, 100]        20000\n",
      "gen/LSTM/07/FC_lstm_state_0/b:0   [100]               100\n",
      "gen/LSTM/07/FC_lstm_state_1/W:0   [200, 100]        20000\n",
      "gen/LSTM/07/FC_lstm_state_1/b:0   [100]               100\n",
      "gen/LSTM/08/FC/W:0                [100, 100]        10000\n",
      "gen/LSTM/08/FC/b:0                [100]               100\n",
      "gen/LSTM/08/FC2/W:0               [100, 7]            700\n",
      "gen/LSTM/08/FC2/b:0               [7]                   7\n",
      "gen/LSTM/08/FC3/W:0               [7, 100]            700\n",
      "gen/LSTM/08/FC3/b:0               [100]               100\n",
      "gen/LSTM/08/attw:0                [5, 1, 1]             5\n",
      "gen/LSTM/09/FC/W:0                [100, 100]        10000\n",
      "gen/LSTM/09/FC/b:0                [100]               100\n",
      "gen/LSTM/09/FC2/W:0               [100, 7]            700\n",
      "gen/LSTM/09/FC2/b:0               [7]                   7\n",
      "gen/LSTM/09/FC3/W:0               [7, 100]            700\n",
      "gen/LSTM/09/FC3/b:0               [100]               100\n",
      "gen/LSTM/09/attw:0                [5, 1, 1]             5\n",
      "gen/LSTM/10/FC_inputs/W:0         [200, 100]        20000\n",
      "gen/LSTM/10/FC_inputs/b:0         [100]               100\n",
      "gen/LSTM/10/FC_attentions/W:0     [200, 100]        20000\n",
      "gen/LSTM/10/FC_attentions/b:0     [100]               100\n",
      "gen/LSTM/10/FC_lstm_state_0/W:0   [200, 100]        20000\n",
      "gen/LSTM/10/FC_lstm_state_0/b:0   [100]               100\n",
      "gen/LSTM/10/FC_lstm_state_1/W:0   [200, 100]        20000\n",
      "gen/LSTM/10/FC_lstm_state_1/b:0   [100]               100\n",
      "gen/LSTM/11/FC/W:0                [100, 100]        10000\n",
      "gen/LSTM/11/FC/b:0                [100]               100\n",
      "gen/LSTM/11/FC2/W:0               [100, 3]            300\n",
      "gen/LSTM/11/FC2/b:0               [3]                   3\n",
      "gen/LSTM/11/FC3/W:0               [3, 100]            300\n",
      "gen/LSTM/11/FC3/b:0               [100]               100\n",
      "gen/LSTM/11/attw:0                [6, 1, 1]             6\n",
      "gen/LSTM/12/FC_inputs/W:0         [300, 100]        30000\n",
      "gen/LSTM/12/FC_inputs/b:0         [100]               100\n",
      "gen/LSTM/12/FC_attentions/W:0     [300, 100]        30000\n",
      "gen/LSTM/12/FC_attentions/b:0     [100]               100\n",
      "gen/LSTM/12/FC_lstm_state_0/W:0   [300, 100]        30000\n",
      "gen/LSTM/12/FC_lstm_state_0/b:0   [100]               100\n",
      "gen/LSTM/12/FC_lstm_state_1/W:0   [300, 100]        30000\n",
      "gen/LSTM/12/FC_lstm_state_1/b:0   [100]               100\n",
      "gen/LSTM/13/FC/W:0                [100, 100]        10000\n",
      "gen/LSTM/13/FC/b:0                [100]               100\n",
      "gen/LSTM/13/FC2/W:0               [100, 8]            800\n",
      "gen/LSTM/13/FC2/b:0               [8]                   8\n",
      "gen/LSTM/13/FC3/W:0               [8, 100]            800\n",
      "gen/LSTM/13/FC3/b:0               [100]               100\n",
      "gen/LSTM/13/attw:0                [6, 1, 1]             6\n",
      "gen/LSTM/14/FC/W:0                [100, 100]        10000\n",
      "gen/LSTM/14/FC/b:0                [100]               100\n",
      "gen/LSTM/14/FC2_val/W:0           [100, 8]            800\n",
      "gen/LSTM/14/FC2_val/b:0           [8]                   8\n",
      "gen/LSTM/14/FC2_prob/W:0          [100, 8]            800\n",
      "gen/LSTM/14/FC2_prob/b:0          [8]                   8\n",
      "gen/LSTM/14/FC3/W:0               [16, 100]          1600\n",
      "gen/LSTM/14/FC3/b:0               [100]               100\n",
      "gen/LSTM/14/attw:0                [6, 1, 1]             6\n",
      "gen/LSTM/15/FC/W:0                [100, 100]        10000\n",
      "gen/LSTM/15/FC/b:0                [100]               100\n",
      "gen/LSTM/15/FC2_val/W:0           [100, 10]          1000\n",
      "gen/LSTM/15/FC2_val/b:0           [10]                 10\n",
      "gen/LSTM/15/FC2_prob/W:0          [100, 10]          1000\n",
      "gen/LSTM/15/FC2_prob/b:0          [10]                 10\n",
      "gen/LSTM/15/FC3/W:0               [20, 100]          2000\n",
      "gen/LSTM/15/FC3/b:0               [100]               100\n",
      "gen/LSTM/15/attw:0                [6, 1, 1]             6\n",
      "gen/LSTM/16/FC_inputs/W:0         [200, 100]        20000\n",
      "gen/LSTM/16/FC_inputs/b:0         [100]               100\n",
      "gen/LSTM/16/FC_attentions/W:0     [200, 100]        20000\n",
      "gen/LSTM/16/FC_attentions/b:0     [100]               100\n",
      "gen/LSTM/16/FC_lstm_state_0/W:0   [200, 100]        20000\n",
      "gen/LSTM/16/FC_lstm_state_0/b:0   [100]               100\n",
      "gen/LSTM/16/FC_lstm_state_1/W:0   [200, 100]        20000\n",
      "gen/LSTM/16/FC_lstm_state_1/b:0   [100]               100\n",
      "gen/LSTM/17/FC/W:0                [100, 100]        10000\n",
      "gen/LSTM/17/FC/b:0                [100]               100\n",
      "gen/LSTM/17/FC2/W:0               [100, 9]            900\n",
      "gen/LSTM/17/FC2/b:0               [9]                   9\n",
      "gen/LSTM/17/FC3/W:0               [9, 100]            900\n",
      "gen/LSTM/17/FC3/b:0               [100]               100\n",
      "gen/LSTM/17/attw:0                [7, 1, 1]             7\n",
      "gen/LSTM/18/FC_inputs/W:0         [200, 100]        20000\n",
      "gen/LSTM/18/FC_inputs/b:0         [100]               100\n",
      "gen/LSTM/18/FC_attentions/W:0     [200, 100]        20000\n",
      "gen/LSTM/18/FC_attentions/b:0     [100]               100\n",
      "gen/LSTM/18/FC_lstm_state_0/W:0   [200, 100]        20000\n",
      "gen/LSTM/18/FC_lstm_state_0/b:0   [100]               100\n",
      "gen/LSTM/18/FC_lstm_state_1/W:0   [200, 100]        20000\n",
      "gen/LSTM/18/FC_lstm_state_1/b:0   [100]               100\n",
      "gen/LSTM/19/FC/W:0                [100, 100]        10000\n",
      "gen/LSTM/19/FC/b:0                [100]               100\n",
      "gen/LSTM/19/FC2/W:0               [100, 8]            800\n",
      "gen/LSTM/19/FC2/b:0               [8]                   8\n",
      "gen/LSTM/19/FC3/W:0               [8, 100]            800\n",
      "gen/LSTM/19/FC3/b:0               [100]               100\n",
      "gen/LSTM/19/attw:0                [7, 1, 1]             7\n",
      "gen/LSTM/20/FC_inputs/W:0         [700, 100]        70000\n",
      "gen/LSTM/20/FC_inputs/b:0         [100]               100\n",
      "gen/LSTM/20/FC_attentions/W:0     [700, 100]        70000\n",
      "gen/LSTM/20/FC_attentions/b:0     [100]               100\n",
      "gen/LSTM/20/FC_lstm_state_0/W:0   [700, 100]        70000\n",
      "gen/LSTM/20/FC_lstm_state_0/b:0   [100]               100\n",
      "gen/LSTM/20/FC_lstm_state_1/W:0   [700, 100]        70000\n",
      "gen/LSTM/20/FC_lstm_state_1/b:0   [100]               100\n",
      "gen/LSTM/21/FC/W:0                [100, 100]        10000\n",
      "gen/LSTM/21/FC/b:0                [100]               100\n",
      "gen/LSTM/21/FC2/W:0               [100, 5]            500\n",
      "gen/LSTM/21/FC2/b:0               [5]                   5\n",
      "gen/LSTM/21/FC3/W:0               [5, 100]            500\n",
      "gen/LSTM/21/FC3/b:0               [100]               100\n",
      "gen/LSTM/21/attw:0                [14, 1, 1]           14\n",
      "discrim/dis_fc0/fc/W:0            [120, 100]        12000\n",
      "discrim/dis_fc0/fc/b:0            [100]               100\n",
      "discrim/dis_fc0/fc_diversity/W:0  [100, 100]        10000\n",
      "discrim/dis_fc0/fc_diversity/b:0  [100]               100\n",
      "discrim/dis_fc0/bn/beta:0         [110]               110\n",
      "discrim/dis_fc_top/W:0            [110, 1]            110\n",
      "discrim/dis_fc_top/b:0            [1]                   1\u001b[36m\n",
      "Number of trainable variables: 179\n",
      "Number of parameters (elements): 1203114\n",
      "Storage space needed for all trainable variables: 4.59MB\u001b[0m\n"
     ]
    },
    {
     "name": "stdout",
     "output_type": "stream",
     "text": [
      "\u001b[32m[1027 16:02:53 @base.py:209]\u001b[0m Setup callbacks graph ...\n",
      "WARNING:tensorflow:From D:\\Users\\glede\\anaconda3\\envs\\py37\\lib\\site-packages\\tensorpack\\callbacks\\graph.py:54: The name tf.train.SessionRunArgs is deprecated. Please use tf.estimator.SessionRunArgs instead.\n",
      "\n",
      "WARNING:tensorflow:From D:\\Users\\glede\\anaconda3\\envs\\py37\\lib\\site-packages\\tensorpack\\tfutils\\common.py:75: The name tf.VariableScope is deprecated. Please use tf.compat.v1.VariableScope instead.\n",
      "\n",
      "WARNING:tensorflow:From D:\\Users\\glede\\anaconda3\\envs\\py37\\lib\\site-packages\\tensorpack\\tfutils\\common.py:77: The name tf.train.get_or_create_global_step is deprecated. Please use tf.compat.v1.train.get_or_create_global_step instead.\n",
      "\n",
      "WARNING:tensorflow:From D:\\Users\\glede\\anaconda3\\envs\\py37\\lib\\site-packages\\tensorpack\\callbacks\\steps.py:117: The name tf.assign_add is deprecated. Please use tf.compat.v1.assign_add instead.\n",
      "\n",
      "WARNING:tensorflow:From D:\\Users\\glede\\anaconda3\\envs\\py37\\lib\\site-packages\\tensorpack\\callbacks\\saver.py:55: The name tf.train.Saver is deprecated. Please use tf.compat.v1.train.Saver instead.\n",
      "\n",
      "WARNING:tensorflow:From D:\\Users\\glede\\anaconda3\\envs\\py37\\lib\\site-packages\\tensorpack\\callbacks\\saver.py:59: The name tf.train.SaverDef is deprecated. Please use tf.compat.v1.train.SaverDef instead.\n",
      "\n",
      "WARNING:tensorflow:From C:\\Users\\glede\\Documents\\EPFL\\PhD\\SynthPop\\code\\modules\\datgan\\utils.py:70: The name tf.trainable_variables is deprecated. Please use tf.compat.v1.trainable_variables instead.\n",
      "\n",
      "\u001b[32m[1027 16:02:54 @utils.py:76]\u001b[0m Clip discrim/dis_fc0/fc/W\n",
      "WARNING:tensorflow:From C:\\Users\\glede\\Documents\\EPFL\\PhD\\SynthPop\\code\\modules\\datgan\\utils.py:77: The name tf.assign is deprecated. Please use tf.compat.v1.assign instead.\n",
      "\n",
      "\u001b[32m[1027 16:02:54 @utils.py:76]\u001b[0m Clip discrim/dis_fc0/fc/b\n",
      "\u001b[32m[1027 16:02:54 @utils.py:76]\u001b[0m Clip discrim/dis_fc0/fc_diversity/W\n",
      "\u001b[32m[1027 16:02:54 @utils.py:76]\u001b[0m Clip discrim/dis_fc0/fc_diversity/b\n",
      "\u001b[32m[1027 16:02:54 @utils.py:76]\u001b[0m Clip discrim/dis_fc0/bn/beta\n",
      "\u001b[32m[1027 16:02:54 @utils.py:76]\u001b[0m Clip discrim/dis_fc_top/W\n",
      "\u001b[32m[1027 16:02:54 @utils.py:76]\u001b[0m Clip discrim/dis_fc_top/b\n",
      "\u001b[32m[1027 16:02:54 @summary.py:46]\u001b[0m [MovingAverageSummary] 3 operations in collection 'MOVING_SUMMARY_OPS' will be run with session hooks.\n",
      "\u001b[32m[1027 16:02:54 @summary.py:93]\u001b[0m Summarizing collection 'summaries' of size 4.\n",
      "WARNING:tensorflow:From D:\\Users\\glede\\anaconda3\\envs\\py37\\lib\\site-packages\\tensorpack\\callbacks\\summary.py:94: The name tf.summary.merge_all is deprecated. Please use tf.compat.v1.summary.merge_all instead.\n",
      "\n",
      "\u001b[32m[1027 16:02:54 @graph.py:98]\u001b[0m Applying collection UPDATE_OPS of 4 ops.\n",
      "WARNING:tensorflow:From D:\\Users\\glede\\anaconda3\\envs\\py37\\lib\\site-packages\\tensorpack\\callbacks\\monitor.py:261: The name tf.summary.FileWriter is deprecated. Please use tf.compat.v1.summary.FileWriter instead.\n",
      "\n",
      "\u001b[32m[1027 16:02:54 @base.py:230]\u001b[0m Creating the session ...\n",
      "WARNING:tensorflow:From D:\\Users\\glede\\anaconda3\\envs\\py37\\lib\\site-packages\\tensorpack\\tfutils\\sesscreate.py:42: The name tf.Session is deprecated. Please use tf.compat.v1.Session instead.\n",
      "\n",
      "WARNING:tensorflow:From D:\\Users\\glede\\anaconda3\\envs\\py37\\lib\\site-packages\\tensorpack\\tfutils\\sesscreate.py:71: The name tf.global_variables_initializer is deprecated. Please use tf.compat.v1.global_variables_initializer instead.\n",
      "\n",
      "WARNING:tensorflow:From D:\\Users\\glede\\anaconda3\\envs\\py37\\lib\\site-packages\\tensorpack\\tfutils\\sesscreate.py:62: get_backward_walk_ops (from tensorflow.contrib.graph_editor.select) is deprecated and will be removed after 2019-06-06.\n",
      "Instructions for updating:\n",
      "Please use tensorflow.python.ops.op_selector.get_backward_walk_ops.\n",
      "WARNING:tensorflow:From D:\\Users\\glede\\anaconda3\\envs\\py37\\lib\\site-packages\\tensorpack\\tfutils\\sesscreate.py:72: The name tf.local_variables_initializer is deprecated. Please use tf.compat.v1.local_variables_initializer instead.\n",
      "\n",
      "WARNING:tensorflow:From D:\\Users\\glede\\anaconda3\\envs\\py37\\lib\\site-packages\\tensorpack\\tfutils\\sesscreate.py:73: The name tf.tables_initializer is deprecated. Please use tf.compat.v1.tables_initializer instead.\n",
      "\n",
      "WARNING:tensorflow:From D:\\Users\\glede\\anaconda3\\envs\\py37\\lib\\site-packages\\tensorpack\\train\\base.py:254: The name tf.train.MonitoredSession is deprecated. Please use tf.compat.v1.train.MonitoredSession instead.\n",
      "\n",
      "\u001b[32m[1027 16:02:56 @base.py:236]\u001b[0m Initializing the session ...\n",
      "\u001b[32m[1027 16:02:56 @base.py:243]\u001b[0m Graph Finalized.\n",
      "WARNING:tensorflow:From D:\\Users\\glede\\anaconda3\\envs\\py37\\lib\\site-packages\\tensorpack\\tfutils\\common.py:89: The name tf.train.global_step is deprecated. Please use tf.compat.v1.train.global_step instead.\n",
      "\n",
      "WARNING:tensorflow:From D:\\Users\\glede\\anaconda3\\envs\\py37\\lib\\site-packages\\tensorpack\\tfutils\\common.py:90: The name tf.get_default_session is deprecated. Please use tf.compat.v1.get_default_session instead.\n",
      "\n",
      "\u001b[32m[1027 16:02:56 @concurrency.py:38]\u001b[0m Starting EnqueueThread QueueInput/input_queue ...\n",
      "WARNING:tensorflow:From D:\\Users\\glede\\anaconda3\\envs\\py37\\lib\\site-packages\\tensorpack\\callbacks\\monitor.py:309: The name tf.gfile.Exists is deprecated. Please use tf.io.gfile.exists instead.\n",
      "\n",
      "\u001b[32m[1027 16:02:56 @base.py:275]\u001b[0m Start Epoch 1 ...\n"
     ]
    },
    {
     "name": "stderr",
     "output_type": "stream",
     "text": [
      " 91%|###########################################################################4       |159/175[00:06<00:00,34.11it/s]"
     ]
    },
    {
     "name": "stdout",
     "output_type": "stream",
     "text": [
      "WARNING:tensorflow:From D:\\Users\\glede\\anaconda3\\envs\\py37\\lib\\site-packages\\tensorpack\\callbacks\\monitor.py:148: The name tf.Summary is deprecated. Please use tf.compat.v1.Summary instead.\n",
      "\n"
     ]
    },
    {
     "name": "stderr",
     "output_type": "stream",
     "text": [
      "\r",
      "100%|###################################################################################|175/175[00:08<00:00,20.64it/s]"
     ]
    },
    {
     "name": "stdout",
     "output_type": "stream",
     "text": [
      "\u001b[32m[1027 16:03:05 @base.py:285]\u001b[0m Epoch 1 (global_step 262) finished, time:8.48 seconds.\n",
      "WARNING:tensorflow:From D:\\Users\\glede\\anaconda3\\envs\\py37\\lib\\site-packages\\tensorpack\\callbacks\\saver.py:77: The name tf.train.get_global_step is deprecated. Please use tf.compat.v1.train.get_global_step instead.\n",
      "\n"
     ]
    },
    {
     "name": "stderr",
     "output_type": "stream",
     "text": [
      "\n"
     ]
    },
    {
     "name": "stdout",
     "output_type": "stream",
     "text": [
      "\u001b[32m[1027 16:03:05 @saver.py:79]\u001b[0m Model saved to ../output/Chicago/DATWGAN_300/model\\model-262.\n",
      "\u001b[32m[1027 16:03:05 @monitor.py:467]\u001b[0m GAN_loss/d_loss: -0.0068579\n",
      "\u001b[32m[1027 16:03:05 @monitor.py:467]\u001b[0m GAN_loss/g_loss: -0.010734\n",
      "\u001b[32m[1027 16:03:05 @monitor.py:467]\u001b[0m GAN_loss/kl_div: 5.7881\n",
      "\u001b[32m[1027 16:03:05 @monitor.py:467]\u001b[0m QueueInput/queue_size: 50\n",
      "\u001b[32m[1027 16:03:05 @base.py:275]\u001b[0m Start Epoch 2 ...\n"
     ]
    },
    {
     "name": "stderr",
     "output_type": "stream",
     "text": [
      "100%|###################################################################################|175/175[00:04<00:00,37.52it/s]"
     ]
    },
    {
     "name": "stdout",
     "output_type": "stream",
     "text": [
      "\u001b[32m[1027 16:03:10 @base.py:285]\u001b[0m Epoch 2 (global_step 524) finished, time:4.66 seconds.\n",
      "\u001b[32m[1027 16:03:10 @saver.py:79]\u001b[0m Model saved to ../output/Chicago/DATWGAN_300/model\\model-524.\n",
      "\u001b[32m[1027 16:03:10 @monitor.py:467]\u001b[0m GAN_loss/d_loss: -0.025262\n",
      "\u001b[32m[1027 16:03:10 @monitor.py:467]\u001b[0m GAN_loss/g_loss: -0.024422\n",
      "\u001b[32m[1027 16:03:10 @monitor.py:467]\u001b[0m GAN_loss/kl_div: 0.54663\n",
      "\u001b[32m[1027 16:03:10 @monitor.py:467]\u001b[0m QueueInput/queue_size: 50\n",
      "\u001b[32m[1027 16:03:10 @base.py:275]\u001b[0m Start Epoch 3 ...\n"
     ]
    },
    {
     "name": "stderr",
     "output_type": "stream",
     "text": [
      "\n",
      "100%|###################################################################################|175/175[00:04<00:00,37.70it/s]"
     ]
    },
    {
     "name": "stdout",
     "output_type": "stream",
     "text": [
      "\u001b[32m[1027 16:03:14 @base.py:285]\u001b[0m Epoch 3 (global_step 787) finished, time:4.64 seconds.\n",
      "\u001b[32m[1027 16:03:15 @saver.py:79]\u001b[0m Model saved to ../output/Chicago/DATWGAN_300/model\\model-787.\n",
      "\u001b[32m[1027 16:03:15 @monitor.py:467]\u001b[0m GAN_loss/d_loss: -0.059896\n",
      "\u001b[32m[1027 16:03:15 @monitor.py:467]\u001b[0m GAN_loss/g_loss: -0.015555\n",
      "\u001b[32m[1027 16:03:15 @monitor.py:467]\u001b[0m GAN_loss/kl_div: 0.11847\n",
      "\u001b[32m[1027 16:03:15 @monitor.py:467]\u001b[0m QueueInput/queue_size: 50\n",
      "\u001b[32m[1027 16:03:15 @base.py:275]\u001b[0m Start Epoch 4 ...\n"
     ]
    },
    {
     "name": "stderr",
     "output_type": "stream",
     "text": [
      "\n",
      "100%|###################################################################################|175/175[00:04<00:00,37.99it/s]"
     ]
    },
    {
     "name": "stdout",
     "output_type": "stream",
     "text": [
      "\u001b[32m[1027 16:03:19 @base.py:285]\u001b[0m Epoch 4 (global_step 1049) finished, time:4.61 seconds.\n",
      "\u001b[32m[1027 16:03:19 @saver.py:79]\u001b[0m Model saved to ../output/Chicago/DATWGAN_300/model\\model-1049.\n",
      "\u001b[32m[1027 16:03:19 @monitor.py:467]\u001b[0m GAN_loss/d_loss: -0.14337\n",
      "\u001b[32m[1027 16:03:19 @monitor.py:467]\u001b[0m GAN_loss/g_loss: 0.059243\n",
      "\u001b[32m[1027 16:03:19 @monitor.py:467]\u001b[0m GAN_loss/kl_div: 0.093634\n",
      "\u001b[32m[1027 16:03:19 @monitor.py:467]\u001b[0m QueueInput/queue_size: 50\n",
      "\u001b[32m[1027 16:03:19 @base.py:275]\u001b[0m Start Epoch 5 ...\n"
     ]
    },
    {
     "name": "stderr",
     "output_type": "stream",
     "text": [
      "\n",
      "100%|###################################################################################|175/175[00:04<00:00,37.91it/s]"
     ]
    },
    {
     "name": "stdout",
     "output_type": "stream",
     "text": [
      "\u001b[32m[1027 16:03:24 @base.py:285]\u001b[0m Epoch 5 (global_step 1312) finished, time:4.62 seconds.\n",
      "\u001b[32m[1027 16:03:24 @saver.py:79]\u001b[0m Model saved to ../output/Chicago/DATWGAN_300/model\\model-1312.\n",
      "\u001b[32m[1027 16:03:24 @monitor.py:467]\u001b[0m GAN_loss/d_loss: -0.19783\n",
      "\u001b[32m[1027 16:03:24 @monitor.py:467]\u001b[0m GAN_loss/g_loss: 0.10912\n",
      "\u001b[32m[1027 16:03:24 @monitor.py:467]\u001b[0m GAN_loss/kl_div: 0.085477\n",
      "\u001b[32m[1027 16:03:24 @monitor.py:467]\u001b[0m QueueInput/queue_size: 50\n",
      "\u001b[32m[1027 16:03:24 @base.py:275]\u001b[0m Start Epoch 6 ...\n"
     ]
    },
    {
     "name": "stderr",
     "output_type": "stream",
     "text": [
      "\n",
      "100%|###################################################################################|175/175[00:04<00:00,38.00it/s]"
     ]
    },
    {
     "name": "stdout",
     "output_type": "stream",
     "text": [
      "\u001b[32m[1027 16:03:28 @base.py:285]\u001b[0m Epoch 6 (global_step 1574) finished, time:4.61 seconds.\n",
      "\u001b[32m[1027 16:03:29 @saver.py:79]\u001b[0m Model saved to ../output/Chicago/DATWGAN_300/model\\model-1574.\n",
      "\u001b[32m[1027 16:03:29 @monitor.py:467]\u001b[0m GAN_loss/d_loss: -0.20936\n",
      "\u001b[32m[1027 16:03:29 @monitor.py:467]\u001b[0m GAN_loss/g_loss: 0.1089\n",
      "\u001b[32m[1027 16:03:29 @monitor.py:467]\u001b[0m GAN_loss/kl_div: 0.084227\n",
      "\u001b[32m[1027 16:03:29 @monitor.py:467]\u001b[0m QueueInput/queue_size: 50\n",
      "\u001b[32m[1027 16:03:29 @base.py:275]\u001b[0m Start Epoch 7 ...\n"
     ]
    },
    {
     "name": "stderr",
     "output_type": "stream",
     "text": [
      "\n",
      "100%|###################################################################################|175/175[00:04<00:00,37.88it/s]"
     ]
    },
    {
     "name": "stdout",
     "output_type": "stream",
     "text": [
      "\u001b[32m[1027 16:03:33 @base.py:285]\u001b[0m Epoch 7 (global_step 1837) finished, time:4.62 seconds.\n",
      "\u001b[32m[1027 16:03:33 @saver.py:79]\u001b[0m Model saved to ../output/Chicago/DATWGAN_300/model\\model-1837.\n",
      "\u001b[32m[1027 16:03:33 @monitor.py:467]\u001b[0m GAN_loss/d_loss: -0.20999\n",
      "\u001b[32m[1027 16:03:33 @monitor.py:467]\u001b[0m GAN_loss/g_loss: 0.10538\n",
      "\u001b[32m[1027 16:03:33 @monitor.py:467]\u001b[0m GAN_loss/kl_div: 0.088538\n",
      "\u001b[32m[1027 16:03:33 @monitor.py:467]\u001b[0m QueueInput/queue_size: 50\n",
      "\u001b[32m[1027 16:03:33 @base.py:275]\u001b[0m Start Epoch 8 ...\n"
     ]
    },
    {
     "name": "stderr",
     "output_type": "stream",
     "text": [
      "\n",
      "100%|###################################################################################|175/175[00:04<00:00,37.46it/s]"
     ]
    },
    {
     "name": "stdout",
     "output_type": "stream",
     "text": [
      "\u001b[32m[1027 16:03:38 @base.py:285]\u001b[0m Epoch 8 (global_step 2099) finished, time:4.67 seconds.\n",
      "\u001b[32m[1027 16:03:38 @saver.py:79]\u001b[0m Model saved to ../output/Chicago/DATWGAN_300/model\\model-2099.\n",
      "\u001b[32m[1027 16:03:38 @monitor.py:467]\u001b[0m GAN_loss/d_loss: -0.208\n",
      "\u001b[32m[1027 16:03:38 @monitor.py:467]\u001b[0m GAN_loss/g_loss: 0.10417\n",
      "\u001b[32m[1027 16:03:38 @monitor.py:467]\u001b[0m GAN_loss/kl_div: 0.082855\n",
      "\u001b[32m[1027 16:03:38 @monitor.py:467]\u001b[0m QueueInput/queue_size: 50\n",
      "\u001b[32m[1027 16:03:38 @base.py:275]\u001b[0m Start Epoch 9 ...\n"
     ]
    },
    {
     "name": "stderr",
     "output_type": "stream",
     "text": [
      "\n",
      "100%|###################################################################################|175/175[00:04<00:00,37.33it/s]"
     ]
    },
    {
     "name": "stdout",
     "output_type": "stream",
     "text": [
      "\u001b[32m[1027 16:03:43 @base.py:285]\u001b[0m Epoch 9 (global_step 2362) finished, time:4.69 seconds.\n",
      "\u001b[32m[1027 16:03:43 @saver.py:79]\u001b[0m Model saved to ../output/Chicago/DATWGAN_300/model\\model-2362.\n",
      "\u001b[32m[1027 16:03:43 @monitor.py:467]\u001b[0m GAN_loss/d_loss: -0.20725\n",
      "\u001b[32m[1027 16:03:43 @monitor.py:467]\u001b[0m GAN_loss/g_loss: 0.099747\n",
      "\u001b[32m[1027 16:03:43 @monitor.py:467]\u001b[0m GAN_loss/kl_div: 0.092115\n",
      "\u001b[32m[1027 16:03:43 @monitor.py:467]\u001b[0m QueueInput/queue_size: 50\n",
      "\u001b[32m[1027 16:03:43 @base.py:275]\u001b[0m Start Epoch 10 ...\n"
     ]
    },
    {
     "name": "stderr",
     "output_type": "stream",
     "text": [
      "\n",
      "100%|###################################################################################|175/175[00:04<00:00,37.98it/s]"
     ]
    },
    {
     "name": "stdout",
     "output_type": "stream",
     "text": [
      "\u001b[32m[1027 16:03:47 @base.py:285]\u001b[0m Epoch 10 (global_step 2624) finished, time:4.61 seconds.\n",
      "\u001b[32m[1027 16:03:47 @saver.py:79]\u001b[0m Model saved to ../output/Chicago/DATWGAN_300/model\\model-2624.\n",
      "\u001b[32m[1027 16:03:47 @monitor.py:467]\u001b[0m GAN_loss/d_loss: -0.20097\n",
      "\u001b[32m[1027 16:03:47 @monitor.py:467]\u001b[0m GAN_loss/g_loss: 0.087432\n",
      "\u001b[32m[1027 16:03:47 @monitor.py:467]\u001b[0m GAN_loss/kl_div: 0.085826\n",
      "\u001b[32m[1027 16:03:47 @monitor.py:467]\u001b[0m QueueInput/queue_size: 50\n",
      "\u001b[32m[1027 16:03:47 @base.py:275]\u001b[0m Start Epoch 11 ...\n"
     ]
    },
    {
     "name": "stderr",
     "output_type": "stream",
     "text": [
      "\n",
      "100%|###################################################################################|175/175[00:04<00:00,37.91it/s]"
     ]
    },
    {
     "name": "stdout",
     "output_type": "stream",
     "text": [
      "\u001b[32m[1027 16:03:52 @base.py:285]\u001b[0m Epoch 11 (global_step 2887) finished, time:4.62 seconds.\n",
      "WARNING:tensorflow:From D:\\Users\\glede\\anaconda3\\envs\\py37\\lib\\site-packages\\tensorflow_core\\python\\training\\saver.py:963: remove_checkpoint (from tensorflow.python.training.checkpoint_management) is deprecated and will be removed in a future version.\n",
      "Instructions for updating:\n",
      "Use standard file APIs to delete files with this prefix.\n",
      "\u001b[32m[1027 16:03:52 @saver.py:79]\u001b[0m Model saved to ../output/Chicago/DATWGAN_300/model\\model-2887.\n",
      "\u001b[32m[1027 16:03:52 @monitor.py:467]\u001b[0m GAN_loss/d_loss: -0.19222\n",
      "\u001b[32m[1027 16:03:52 @monitor.py:467]\u001b[0m GAN_loss/g_loss: 0.073723\n",
      "\u001b[32m[1027 16:03:52 @monitor.py:467]\u001b[0m GAN_loss/kl_div: 0.082691\n",
      "\u001b[32m[1027 16:03:52 @monitor.py:467]\u001b[0m QueueInput/queue_size: 50\n",
      "\u001b[32m[1027 16:03:52 @base.py:275]\u001b[0m Start Epoch 12 ...\n"
     ]
    },
    {
     "name": "stderr",
     "output_type": "stream",
     "text": [
      "\n",
      "100%|###################################################################################|175/175[00:04<00:00,37.59it/s]"
     ]
    },
    {
     "name": "stdout",
     "output_type": "stream",
     "text": [
      "\u001b[32m[1027 16:03:57 @base.py:285]\u001b[0m Epoch 12 (global_step 3149) finished, time:4.66 seconds.\n",
      "\u001b[32m[1027 16:03:57 @saver.py:79]\u001b[0m Model saved to ../output/Chicago/DATWGAN_300/model\\model-3149.\n",
      "\u001b[32m[1027 16:03:57 @monitor.py:467]\u001b[0m GAN_loss/d_loss: -0.18102\n",
      "\u001b[32m[1027 16:03:57 @monitor.py:467]\u001b[0m GAN_loss/g_loss: 0.06149\n",
      "\u001b[32m[1027 16:03:57 @monitor.py:467]\u001b[0m GAN_loss/kl_div: 0.082023\n",
      "\u001b[32m[1027 16:03:57 @monitor.py:467]\u001b[0m QueueInput/queue_size: 50\n",
      "\u001b[32m[1027 16:03:57 @base.py:275]\u001b[0m Start Epoch 13 ...\n"
     ]
    },
    {
     "name": "stderr",
     "output_type": "stream",
     "text": [
      "\n",
      "100%|###################################################################################|175/175[00:04<00:00,37.74it/s]"
     ]
    },
    {
     "name": "stdout",
     "output_type": "stream",
     "text": [
      "\u001b[32m[1027 16:04:02 @base.py:285]\u001b[0m Epoch 13 (global_step 3412) finished, time:4.64 seconds.\n",
      "\u001b[32m[1027 16:04:02 @saver.py:79]\u001b[0m Model saved to ../output/Chicago/DATWGAN_300/model\\model-3412.\n",
      "\u001b[32m[1027 16:04:02 @monitor.py:467]\u001b[0m GAN_loss/d_loss: -0.17157\n",
      "\u001b[32m[1027 16:04:02 @monitor.py:467]\u001b[0m GAN_loss/g_loss: 0.050817\n",
      "\u001b[32m[1027 16:04:02 @monitor.py:467]\u001b[0m GAN_loss/kl_div: 0.083528\n",
      "\u001b[32m[1027 16:04:02 @monitor.py:467]\u001b[0m QueueInput/queue_size: 50\n",
      "\u001b[32m[1027 16:04:02 @base.py:275]\u001b[0m Start Epoch 14 ...\n"
     ]
    },
    {
     "name": "stderr",
     "output_type": "stream",
     "text": [
      "\n",
      "100%|###################################################################################|175/175[00:04<00:00,37.82it/s]"
     ]
    },
    {
     "name": "stdout",
     "output_type": "stream",
     "text": [
      "\u001b[32m[1027 16:04:06 @base.py:285]\u001b[0m Epoch 14 (global_step 3674) finished, time:4.63 seconds.\n",
      "\u001b[32m[1027 16:04:06 @saver.py:79]\u001b[0m Model saved to ../output/Chicago/DATWGAN_300/model\\model-3674.\n",
      "\u001b[32m[1027 16:04:06 @monitor.py:467]\u001b[0m GAN_loss/d_loss: -0.16213\n",
      "\u001b[32m[1027 16:04:06 @monitor.py:467]\u001b[0m GAN_loss/g_loss: 0.041314\n",
      "\u001b[32m[1027 16:04:06 @monitor.py:467]\u001b[0m GAN_loss/kl_div: 0.082807\n",
      "\u001b[32m[1027 16:04:06 @monitor.py:467]\u001b[0m QueueInput/queue_size: 50\n",
      "\u001b[32m[1027 16:04:06 @base.py:275]\u001b[0m Start Epoch 15 ...\n"
     ]
    },
    {
     "name": "stderr",
     "output_type": "stream",
     "text": [
      "\n",
      "100%|###################################################################################|175/175[00:04<00:00,37.86it/s]"
     ]
    },
    {
     "name": "stdout",
     "output_type": "stream",
     "text": [
      "\u001b[32m[1027 16:04:11 @base.py:285]\u001b[0m Epoch 15 (global_step 3937) finished, time:4.62 seconds.\n",
      "\u001b[32m[1027 16:04:11 @saver.py:79]\u001b[0m Model saved to ../output/Chicago/DATWGAN_300/model\\model-3937.\n",
      "\u001b[32m[1027 16:04:11 @monitor.py:467]\u001b[0m GAN_loss/d_loss: -0.1549\n",
      "\u001b[32m[1027 16:04:11 @monitor.py:467]\u001b[0m GAN_loss/g_loss: 0.030451\n",
      "\u001b[32m[1027 16:04:11 @monitor.py:467]\u001b[0m GAN_loss/kl_div: 0.080781\n",
      "\u001b[32m[1027 16:04:11 @monitor.py:467]\u001b[0m QueueInput/queue_size: 50\n",
      "\u001b[32m[1027 16:04:11 @base.py:275]\u001b[0m Start Epoch 16 ...\n"
     ]
    },
    {
     "name": "stderr",
     "output_type": "stream",
     "text": [
      "\n",
      "100%|###################################################################################|175/175[00:04<00:00,38.03it/s]"
     ]
    },
    {
     "name": "stdout",
     "output_type": "stream",
     "text": [
      "\u001b[32m[1027 16:04:16 @base.py:285]\u001b[0m Epoch 16 (global_step 4199) finished, time:4.6 seconds.\n",
      "\u001b[32m[1027 16:04:16 @saver.py:79]\u001b[0m Model saved to ../output/Chicago/DATWGAN_300/model\\model-4199.\n",
      "\u001b[32m[1027 16:04:16 @monitor.py:467]\u001b[0m GAN_loss/d_loss: -0.15245\n",
      "\u001b[32m[1027 16:04:16 @monitor.py:467]\u001b[0m GAN_loss/g_loss: 0.018\n",
      "\u001b[32m[1027 16:04:16 @monitor.py:467]\u001b[0m GAN_loss/kl_div: 0.088693\n",
      "\u001b[32m[1027 16:04:16 @monitor.py:467]\u001b[0m QueueInput/queue_size: 50\n",
      "\u001b[32m[1027 16:04:16 @base.py:275]\u001b[0m Start Epoch 17 ...\n"
     ]
    },
    {
     "name": "stderr",
     "output_type": "stream",
     "text": [
      "\n",
      "100%|###################################################################################|175/175[00:04<00:00,37.95it/s]"
     ]
    },
    {
     "name": "stdout",
     "output_type": "stream",
     "text": [
      "\u001b[32m[1027 16:04:20 @base.py:285]\u001b[0m Epoch 17 (global_step 4462) finished, time:4.61 seconds.\n",
      "\u001b[32m[1027 16:04:20 @saver.py:79]\u001b[0m Model saved to ../output/Chicago/DATWGAN_300/model\\model-4462.\n",
      "\u001b[32m[1027 16:04:20 @monitor.py:467]\u001b[0m GAN_loss/d_loss: -0.16118\n",
      "\u001b[32m[1027 16:04:20 @monitor.py:467]\u001b[0m GAN_loss/g_loss: 0.0025661\n",
      "\u001b[32m[1027 16:04:20 @monitor.py:467]\u001b[0m GAN_loss/kl_div: 0.085004\n",
      "\u001b[32m[1027 16:04:20 @monitor.py:467]\u001b[0m QueueInput/queue_size: 50\n",
      "\u001b[32m[1027 16:04:20 @base.py:275]\u001b[0m Start Epoch 18 ...\n"
     ]
    },
    {
     "name": "stderr",
     "output_type": "stream",
     "text": [
      "\n",
      "100%|###################################################################################|175/175[00:04<00:00,36.55it/s]"
     ]
    },
    {
     "name": "stdout",
     "output_type": "stream",
     "text": [
      "\u001b[32m[1027 16:04:25 @base.py:285]\u001b[0m Epoch 18 (global_step 4724) finished, time:4.79 seconds.\n",
      "\u001b[32m[1027 16:04:25 @saver.py:79]\u001b[0m Model saved to ../output/Chicago/DATWGAN_300/model\\model-4724.\n",
      "\u001b[32m[1027 16:04:25 @monitor.py:467]\u001b[0m GAN_loss/d_loss: -0.16698\n",
      "\u001b[32m[1027 16:04:25 @monitor.py:467]\u001b[0m GAN_loss/g_loss: -0.0016409\n",
      "\u001b[32m[1027 16:04:25 @monitor.py:467]\u001b[0m GAN_loss/kl_div: 0.08294\n",
      "\u001b[32m[1027 16:04:25 @monitor.py:467]\u001b[0m QueueInput/queue_size: 50\n",
      "\u001b[32m[1027 16:04:25 @base.py:275]\u001b[0m Start Epoch 19 ...\n"
     ]
    },
    {
     "name": "stderr",
     "output_type": "stream",
     "text": [
      "\n",
      "100%|###################################################################################|175/175[00:04<00:00,37.09it/s]"
     ]
    },
    {
     "name": "stdout",
     "output_type": "stream",
     "text": [
      "\u001b[32m[1027 16:04:30 @base.py:285]\u001b[0m Epoch 19 (global_step 4987) finished, time:4.72 seconds.\n",
      "\u001b[32m[1027 16:04:30 @saver.py:79]\u001b[0m Model saved to ../output/Chicago/DATWGAN_300/model\\model-4987.\n"
     ]
    },
    {
     "name": "stderr",
     "output_type": "stream",
     "text": [
      "\n"
     ]
    },
    {
     "name": "stdout",
     "output_type": "stream",
     "text": [
      "\u001b[32m[1027 16:04:30 @monitor.py:467]\u001b[0m GAN_loss/d_loss: -0.17038\n",
      "\u001b[32m[1027 16:04:30 @monitor.py:467]\u001b[0m GAN_loss/g_loss: -0.0028269\n",
      "\u001b[32m[1027 16:04:30 @monitor.py:467]\u001b[0m GAN_loss/kl_div: 0.083237\n",
      "\u001b[32m[1027 16:04:30 @monitor.py:467]\u001b[0m QueueInput/queue_size: 50\n",
      "\u001b[32m[1027 16:04:30 @base.py:275]\u001b[0m Start Epoch 20 ...\n"
     ]
    },
    {
     "name": "stderr",
     "output_type": "stream",
     "text": [
      "100%|###################################################################################|175/175[00:04<00:00,37.82it/s]"
     ]
    },
    {
     "name": "stdout",
     "output_type": "stream",
     "text": [
      "\u001b[32m[1027 16:04:35 @base.py:285]\u001b[0m Epoch 20 (global_step 5249) finished, time:4.63 seconds.\n",
      "\u001b[32m[1027 16:04:35 @saver.py:79]\u001b[0m Model saved to ../output/Chicago/DATWGAN_300/model\\model-5249.\n",
      "\u001b[32m[1027 16:04:35 @monitor.py:467]\u001b[0m GAN_loss/d_loss: -0.17143\n",
      "\u001b[32m[1027 16:04:35 @monitor.py:467]\u001b[0m GAN_loss/g_loss: -0.0059366\n",
      "\u001b[32m[1027 16:04:35 @monitor.py:467]\u001b[0m GAN_loss/kl_div: 0.079678\n",
      "\u001b[32m[1027 16:04:35 @monitor.py:467]\u001b[0m QueueInput/queue_size: 50\n",
      "\u001b[32m[1027 16:04:35 @base.py:275]\u001b[0m Start Epoch 21 ...\n"
     ]
    },
    {
     "name": "stderr",
     "output_type": "stream",
     "text": [
      "\n",
      "100%|###################################################################################|175/175[00:04<00:00,37.27it/s]"
     ]
    },
    {
     "name": "stdout",
     "output_type": "stream",
     "text": [
      "\u001b[32m[1027 16:04:39 @base.py:285]\u001b[0m Epoch 21 (global_step 5512) finished, time:4.7 seconds.\n",
      "\u001b[32m[1027 16:04:40 @saver.py:79]\u001b[0m Model saved to ../output/Chicago/DATWGAN_300/model\\model-5512.\n",
      "\u001b[32m[1027 16:04:40 @monitor.py:467]\u001b[0m GAN_loss/d_loss: -0.17046\n",
      "\u001b[32m[1027 16:04:40 @monitor.py:467]\u001b[0m GAN_loss/g_loss: -0.0048463\n",
      "\u001b[32m[1027 16:04:40 @monitor.py:467]\u001b[0m GAN_loss/kl_div: 0.08126\n",
      "\u001b[32m[1027 16:04:40 @monitor.py:467]\u001b[0m QueueInput/queue_size: 50\n",
      "\u001b[32m[1027 16:04:40 @base.py:275]\u001b[0m Start Epoch 22 ...\n"
     ]
    },
    {
     "name": "stderr",
     "output_type": "stream",
     "text": [
      "\n",
      "100%|###################################################################################|175/175[00:04<00:00,37.30it/s]"
     ]
    },
    {
     "name": "stdout",
     "output_type": "stream",
     "text": [
      "\u001b[32m[1027 16:04:44 @base.py:285]\u001b[0m Epoch 22 (global_step 5774) finished, time:4.69 seconds.\n",
      "\u001b[32m[1027 16:04:44 @saver.py:79]\u001b[0m Model saved to ../output/Chicago/DATWGAN_300/model\\model-5774.\n",
      "\u001b[32m[1027 16:04:44 @monitor.py:467]\u001b[0m GAN_loss/d_loss: -0.17205\n",
      "\u001b[32m[1027 16:04:44 @monitor.py:467]\u001b[0m GAN_loss/g_loss: -0.0047668\n",
      "\u001b[32m[1027 16:04:44 @monitor.py:467]\u001b[0m GAN_loss/kl_div: 0.083532\n",
      "\u001b[32m[1027 16:04:44 @monitor.py:467]\u001b[0m QueueInput/queue_size: 50\n",
      "\u001b[32m[1027 16:04:44 @base.py:275]\u001b[0m Start Epoch 23 ...\n"
     ]
    },
    {
     "name": "stderr",
     "output_type": "stream",
     "text": [
      "\n",
      "100%|###################################################################################|175/175[00:04<00:00,37.45it/s]"
     ]
    },
    {
     "name": "stdout",
     "output_type": "stream",
     "text": [
      "\u001b[32m[1027 16:04:49 @base.py:285]\u001b[0m Epoch 23 (global_step 6037) finished, time:4.67 seconds.\n",
      "\u001b[32m[1027 16:04:49 @saver.py:79]\u001b[0m Model saved to ../output/Chicago/DATWGAN_300/model\\model-6037.\n",
      "\u001b[32m[1027 16:04:49 @monitor.py:467]\u001b[0m GAN_loss/d_loss: -0.17306\n",
      "\u001b[32m[1027 16:04:49 @monitor.py:467]\u001b[0m GAN_loss/g_loss: -0.0049187\n",
      "\u001b[32m[1027 16:04:49 @monitor.py:467]\u001b[0m GAN_loss/kl_div: 0.081222\n",
      "\u001b[32m[1027 16:04:49 @monitor.py:467]\u001b[0m QueueInput/queue_size: 50\n",
      "\u001b[32m[1027 16:04:49 @base.py:275]\u001b[0m Start Epoch 24 ...\n"
     ]
    },
    {
     "name": "stderr",
     "output_type": "stream",
     "text": [
      "\n",
      "100%|###################################################################################|175/175[00:04<00:00,37.93it/s]"
     ]
    },
    {
     "name": "stdout",
     "output_type": "stream",
     "text": [
      "\u001b[32m[1027 16:04:54 @base.py:285]\u001b[0m Epoch 24 (global_step 6299) finished, time:4.61 seconds.\n",
      "\u001b[32m[1027 16:04:54 @saver.py:79]\u001b[0m Model saved to ../output/Chicago/DATWGAN_300/model\\model-6299.\n",
      "\u001b[32m[1027 16:04:54 @monitor.py:467]\u001b[0m GAN_loss/d_loss: -0.17257\n",
      "\u001b[32m[1027 16:04:54 @monitor.py:467]\u001b[0m GAN_loss/g_loss: -0.0084474\n",
      "\u001b[32m[1027 16:04:54 @monitor.py:467]\u001b[0m GAN_loss/kl_div: 0.082603\n",
      "\u001b[32m[1027 16:04:54 @monitor.py:467]\u001b[0m QueueInput/queue_size: 50\n",
      "\u001b[32m[1027 16:04:54 @base.py:275]\u001b[0m Start Epoch 25 ...\n"
     ]
    },
    {
     "name": "stderr",
     "output_type": "stream",
     "text": [
      "\n",
      "100%|###################################################################################|175/175[00:04<00:00,37.77it/s]"
     ]
    },
    {
     "name": "stdout",
     "output_type": "stream",
     "text": [
      "\u001b[32m[1027 16:04:58 @base.py:285]\u001b[0m Epoch 25 (global_step 6562) finished, time:4.63 seconds.\n",
      "\u001b[32m[1027 16:04:58 @saver.py:79]\u001b[0m Model saved to ../output/Chicago/DATWGAN_300/model\\model-6562.\n",
      "\u001b[32m[1027 16:04:58 @monitor.py:467]\u001b[0m GAN_loss/d_loss: -0.17152\n",
      "\u001b[32m[1027 16:04:58 @monitor.py:467]\u001b[0m GAN_loss/g_loss: -0.01384\n",
      "\u001b[32m[1027 16:04:58 @monitor.py:467]\u001b[0m GAN_loss/kl_div: 0.084454\n",
      "\u001b[32m[1027 16:04:58 @monitor.py:467]\u001b[0m QueueInput/queue_size: 50\n",
      "\u001b[32m[1027 16:04:58 @base.py:275]\u001b[0m Start Epoch 26 ...\n"
     ]
    },
    {
     "name": "stderr",
     "output_type": "stream",
     "text": [
      "\n",
      "100%|###################################################################################|175/175[00:04<00:00,37.94it/s]"
     ]
    },
    {
     "name": "stdout",
     "output_type": "stream",
     "text": [
      "\u001b[32m[1027 16:05:03 @base.py:285]\u001b[0m Epoch 26 (global_step 6824) finished, time:4.61 seconds.\n",
      "\u001b[32m[1027 16:05:03 @saver.py:79]\u001b[0m Model saved to ../output/Chicago/DATWGAN_300/model\\model-6824.\n",
      "\u001b[32m[1027 16:05:03 @monitor.py:467]\u001b[0m GAN_loss/d_loss: -0.17387\n",
      "\u001b[32m[1027 16:05:03 @monitor.py:467]\u001b[0m GAN_loss/g_loss: -0.017455\n",
      "\u001b[32m[1027 16:05:03 @monitor.py:467]\u001b[0m GAN_loss/kl_div: 0.083247\n",
      "\u001b[32m[1027 16:05:03 @monitor.py:467]\u001b[0m QueueInput/queue_size: 50\n",
      "\u001b[32m[1027 16:05:03 @base.py:275]\u001b[0m Start Epoch 27 ...\n"
     ]
    },
    {
     "name": "stderr",
     "output_type": "stream",
     "text": [
      "\n",
      "100%|###################################################################################|175/175[00:04<00:00,37.14it/s]"
     ]
    },
    {
     "name": "stdout",
     "output_type": "stream",
     "text": [
      "\u001b[32m[1027 16:05:08 @base.py:285]\u001b[0m Epoch 27 (global_step 7087) finished, time:4.71 seconds.\n",
      "\u001b[32m[1027 16:05:08 @saver.py:79]\u001b[0m Model saved to ../output/Chicago/DATWGAN_300/model\\model-7087.\n",
      "\u001b[32m[1027 16:05:08 @monitor.py:467]\u001b[0m GAN_loss/d_loss: -0.1748\n",
      "\u001b[32m[1027 16:05:08 @monitor.py:467]\u001b[0m GAN_loss/g_loss: -0.01693\n",
      "\u001b[32m[1027 16:05:08 @monitor.py:467]\u001b[0m GAN_loss/kl_div: 0.086103\n",
      "\u001b[32m[1027 16:05:08 @monitor.py:467]\u001b[0m QueueInput/queue_size: 50\n",
      "\u001b[32m[1027 16:05:08 @base.py:275]\u001b[0m Start Epoch 28 ...\n"
     ]
    },
    {
     "name": "stderr",
     "output_type": "stream",
     "text": [
      "\n",
      "100%|###################################################################################|175/175[00:04<00:00,37.42it/s]"
     ]
    },
    {
     "name": "stdout",
     "output_type": "stream",
     "text": [
      "\u001b[32m[1027 16:05:13 @base.py:285]\u001b[0m Epoch 28 (global_step 7349) finished, time:4.68 seconds.\n",
      "\u001b[32m[1027 16:05:13 @saver.py:79]\u001b[0m Model saved to ../output/Chicago/DATWGAN_300/model\\model-7349.\n",
      "\u001b[32m[1027 16:05:13 @monitor.py:467]\u001b[0m GAN_loss/d_loss: -0.17507\n",
      "\u001b[32m[1027 16:05:13 @monitor.py:467]\u001b[0m GAN_loss/g_loss: -0.013738\n",
      "\u001b[32m[1027 16:05:13 @monitor.py:467]\u001b[0m GAN_loss/kl_div: 0.085335\n",
      "\u001b[32m[1027 16:05:13 @monitor.py:467]\u001b[0m QueueInput/queue_size: 50\n",
      "\u001b[32m[1027 16:05:13 @base.py:275]\u001b[0m Start Epoch 29 ...\n"
     ]
    },
    {
     "name": "stderr",
     "output_type": "stream",
     "text": [
      "\n",
      "100%|###################################################################################|175/175[00:04<00:00,37.36it/s]"
     ]
    },
    {
     "name": "stdout",
     "output_type": "stream",
     "text": [
      "\u001b[32m[1027 16:05:17 @base.py:285]\u001b[0m Epoch 29 (global_step 7612) finished, time:4.69 seconds.\n",
      "\u001b[32m[1027 16:05:17 @saver.py:79]\u001b[0m Model saved to ../output/Chicago/DATWGAN_300/model\\model-7612.\n",
      "\u001b[32m[1027 16:05:17 @monitor.py:467]\u001b[0m GAN_loss/d_loss: -0.17947\n",
      "\u001b[32m[1027 16:05:17 @monitor.py:467]\u001b[0m GAN_loss/g_loss: -0.01578\n",
      "\u001b[32m[1027 16:05:17 @monitor.py:467]\u001b[0m GAN_loss/kl_div: 0.087752\n",
      "\u001b[32m[1027 16:05:17 @monitor.py:467]\u001b[0m QueueInput/queue_size: 50\n",
      "\u001b[32m[1027 16:05:17 @base.py:275]\u001b[0m Start Epoch 30 ...\n"
     ]
    },
    {
     "name": "stderr",
     "output_type": "stream",
     "text": [
      "\n",
      "100%|###################################################################################|175/175[00:04<00:00,37.84it/s]"
     ]
    },
    {
     "name": "stdout",
     "output_type": "stream",
     "text": [
      "\u001b[32m[1027 16:05:22 @base.py:285]\u001b[0m Epoch 30 (global_step 7874) finished, time:4.63 seconds.\n",
      "\u001b[32m[1027 16:05:22 @saver.py:79]\u001b[0m Model saved to ../output/Chicago/DATWGAN_300/model\\model-7874.\n",
      "\u001b[32m[1027 16:05:22 @monitor.py:467]\u001b[0m GAN_loss/d_loss: -0.17781\n",
      "\u001b[32m[1027 16:05:22 @monitor.py:467]\u001b[0m GAN_loss/g_loss: -0.016052\n",
      "\u001b[32m[1027 16:05:22 @monitor.py:467]\u001b[0m GAN_loss/kl_div: 0.085265\n",
      "\u001b[32m[1027 16:05:22 @monitor.py:467]\u001b[0m QueueInput/queue_size: 50\n",
      "\u001b[32m[1027 16:05:22 @base.py:275]\u001b[0m Start Epoch 31 ...\n"
     ]
    },
    {
     "name": "stderr",
     "output_type": "stream",
     "text": [
      "\n",
      "100%|###################################################################################|175/175[00:04<00:00,37.60it/s]"
     ]
    },
    {
     "name": "stdout",
     "output_type": "stream",
     "text": [
      "\u001b[32m[1027 16:05:27 @base.py:285]\u001b[0m Epoch 31 (global_step 8137) finished, time:4.65 seconds.\n",
      "\u001b[32m[1027 16:05:27 @saver.py:79]\u001b[0m Model saved to ../output/Chicago/DATWGAN_300/model\\model-8137.\n",
      "\u001b[32m[1027 16:05:27 @monitor.py:467]\u001b[0m GAN_loss/d_loss: -0.17621\n",
      "\u001b[32m[1027 16:05:27 @monitor.py:467]\u001b[0m GAN_loss/g_loss: -0.017697\n",
      "\u001b[32m[1027 16:05:27 @monitor.py:467]\u001b[0m GAN_loss/kl_div: 0.087322\n",
      "\u001b[32m[1027 16:05:27 @monitor.py:467]\u001b[0m QueueInput/queue_size: 50\n",
      "\u001b[32m[1027 16:05:27 @base.py:275]\u001b[0m Start Epoch 32 ...\n"
     ]
    },
    {
     "name": "stderr",
     "output_type": "stream",
     "text": [
      "\n",
      "100%|###################################################################################|175/175[00:04<00:00,38.12it/s]"
     ]
    },
    {
     "name": "stdout",
     "output_type": "stream",
     "text": [
      "\u001b[32m[1027 16:05:32 @base.py:285]\u001b[0m Epoch 32 (global_step 8399) finished, time:4.59 seconds.\n",
      "\u001b[32m[1027 16:05:32 @saver.py:79]\u001b[0m Model saved to ../output/Chicago/DATWGAN_300/model\\model-8399.\n",
      "\u001b[32m[1027 16:05:32 @monitor.py:467]\u001b[0m GAN_loss/d_loss: -0.17402\n",
      "\u001b[32m[1027 16:05:32 @monitor.py:467]\u001b[0m GAN_loss/g_loss: -0.02024\n",
      "\u001b[32m[1027 16:05:32 @monitor.py:467]\u001b[0m GAN_loss/kl_div: 0.08504\n",
      "\u001b[32m[1027 16:05:32 @monitor.py:467]\u001b[0m QueueInput/queue_size: 50\n",
      "\u001b[32m[1027 16:05:32 @base.py:275]\u001b[0m Start Epoch 33 ...\n"
     ]
    },
    {
     "name": "stderr",
     "output_type": "stream",
     "text": [
      "\n",
      "100%|###################################################################################|175/175[00:04<00:00,37.41it/s]"
     ]
    },
    {
     "name": "stdout",
     "output_type": "stream",
     "text": [
      "\u001b[32m[1027 16:05:36 @base.py:285]\u001b[0m Epoch 33 (global_step 8662) finished, time:4.68 seconds.\n",
      "\u001b[32m[1027 16:05:36 @saver.py:79]\u001b[0m Model saved to ../output/Chicago/DATWGAN_300/model\\model-8662.\n",
      "\u001b[32m[1027 16:05:36 @monitor.py:467]\u001b[0m GAN_loss/d_loss: -0.1732\n",
      "\u001b[32m[1027 16:05:36 @monitor.py:467]\u001b[0m GAN_loss/g_loss: -0.02417\n",
      "\u001b[32m[1027 16:05:36 @monitor.py:467]\u001b[0m GAN_loss/kl_div: 0.08255\n",
      "\u001b[32m[1027 16:05:36 @monitor.py:467]\u001b[0m QueueInput/queue_size: 50\n",
      "\u001b[32m[1027 16:05:36 @base.py:275]\u001b[0m Start Epoch 34 ...\n"
     ]
    },
    {
     "name": "stderr",
     "output_type": "stream",
     "text": [
      "\n",
      "100%|###################################################################################|175/175[00:04<00:00,37.36it/s]"
     ]
    },
    {
     "name": "stdout",
     "output_type": "stream",
     "text": [
      "\u001b[32m[1027 16:05:41 @base.py:285]\u001b[0m Epoch 34 (global_step 8924) finished, time:4.68 seconds.\n",
      "\u001b[32m[1027 16:05:41 @saver.py:79]\u001b[0m Model saved to ../output/Chicago/DATWGAN_300/model\\model-8924.\n",
      "\u001b[32m[1027 16:05:41 @monitor.py:467]\u001b[0m GAN_loss/d_loss: -0.17202\n",
      "\u001b[32m[1027 16:05:41 @monitor.py:467]\u001b[0m GAN_loss/g_loss: -0.024143\n",
      "\u001b[32m[1027 16:05:41 @monitor.py:467]\u001b[0m GAN_loss/kl_div: 0.086661\n",
      "\u001b[32m[1027 16:05:41 @monitor.py:467]\u001b[0m QueueInput/queue_size: 50\n",
      "\u001b[32m[1027 16:05:41 @base.py:275]\u001b[0m Start Epoch 35 ...\n"
     ]
    },
    {
     "name": "stderr",
     "output_type": "stream",
     "text": [
      "\n",
      "100%|###################################################################################|175/175[00:04<00:00,37.80it/s]"
     ]
    },
    {
     "name": "stdout",
     "output_type": "stream",
     "text": [
      "\u001b[32m[1027 16:05:46 @base.py:285]\u001b[0m Epoch 35 (global_step 9187) finished, time:4.63 seconds.\n",
      "\u001b[32m[1027 16:05:46 @saver.py:79]\u001b[0m Model saved to ../output/Chicago/DATWGAN_300/model\\model-9187.\n",
      "\u001b[32m[1027 16:05:46 @monitor.py:467]\u001b[0m GAN_loss/d_loss: -0.17224\n",
      "\u001b[32m[1027 16:05:46 @monitor.py:467]\u001b[0m GAN_loss/g_loss: -0.023634\n",
      "\u001b[32m[1027 16:05:46 @monitor.py:467]\u001b[0m GAN_loss/kl_div: 0.088918\n",
      "\u001b[32m[1027 16:05:46 @monitor.py:467]\u001b[0m QueueInput/queue_size: 50\n",
      "\u001b[32m[1027 16:05:46 @base.py:275]\u001b[0m Start Epoch 36 ...\n"
     ]
    },
    {
     "name": "stderr",
     "output_type": "stream",
     "text": [
      "\n",
      "100%|###################################################################################|175/175[00:04<00:00,38.04it/s]"
     ]
    },
    {
     "name": "stdout",
     "output_type": "stream",
     "text": [
      "\u001b[32m[1027 16:05:50 @base.py:285]\u001b[0m Epoch 36 (global_step 9449) finished, time:4.6 seconds.\n",
      "\u001b[32m[1027 16:05:50 @saver.py:79]\u001b[0m Model saved to ../output/Chicago/DATWGAN_300/model\\model-9449.\n",
      "\u001b[32m[1027 16:05:50 @monitor.py:467]\u001b[0m GAN_loss/d_loss: -0.16901\n",
      "\u001b[32m[1027 16:05:50 @monitor.py:467]\u001b[0m GAN_loss/g_loss: -0.024556\n",
      "\u001b[32m[1027 16:05:50 @monitor.py:467]\u001b[0m GAN_loss/kl_div: 0.08481\n",
      "\u001b[32m[1027 16:05:50 @monitor.py:467]\u001b[0m QueueInput/queue_size: 50\n",
      "\u001b[32m[1027 16:05:50 @base.py:275]\u001b[0m Start Epoch 37 ...\n"
     ]
    },
    {
     "name": "stderr",
     "output_type": "stream",
     "text": [
      "\n",
      "100%|###################################################################################|175/175[00:04<00:00,37.98it/s]"
     ]
    },
    {
     "name": "stdout",
     "output_type": "stream",
     "text": [
      "\u001b[32m[1027 16:05:55 @base.py:285]\u001b[0m Epoch 37 (global_step 9712) finished, time:4.61 seconds.\n",
      "\u001b[32m[1027 16:05:55 @saver.py:79]\u001b[0m Model saved to ../output/Chicago/DATWGAN_300/model\\model-9712.\n",
      "\u001b[32m[1027 16:05:55 @monitor.py:467]\u001b[0m GAN_loss/d_loss: -0.16752\n",
      "\u001b[32m[1027 16:05:55 @monitor.py:467]\u001b[0m GAN_loss/g_loss: -0.025297\n",
      "\u001b[32m[1027 16:05:55 @monitor.py:467]\u001b[0m GAN_loss/kl_div: 0.08488\n",
      "\u001b[32m[1027 16:05:55 @monitor.py:467]\u001b[0m QueueInput/queue_size: 50\n",
      "\u001b[32m[1027 16:05:55 @base.py:275]\u001b[0m Start Epoch 38 ...\n"
     ]
    },
    {
     "name": "stderr",
     "output_type": "stream",
     "text": [
      "\n",
      "100%|###################################################################################|175/175[00:04<00:00,38.06it/s]"
     ]
    },
    {
     "name": "stdout",
     "output_type": "stream",
     "text": [
      "\u001b[32m[1027 16:06:00 @base.py:285]\u001b[0m Epoch 38 (global_step 9974) finished, time:4.6 seconds.\n",
      "\u001b[32m[1027 16:06:00 @saver.py:79]\u001b[0m Model saved to ../output/Chicago/DATWGAN_300/model\\model-9974.\n",
      "\u001b[32m[1027 16:06:00 @monitor.py:467]\u001b[0m GAN_loss/d_loss: -0.16489\n",
      "\u001b[32m[1027 16:06:00 @monitor.py:467]\u001b[0m GAN_loss/g_loss: -0.025818\n",
      "\u001b[32m[1027 16:06:00 @monitor.py:467]\u001b[0m GAN_loss/kl_div: 0.087629\n",
      "\u001b[32m[1027 16:06:00 @monitor.py:467]\u001b[0m QueueInput/queue_size: 50\n",
      "\u001b[32m[1027 16:06:00 @base.py:275]\u001b[0m Start Epoch 39 ...\n"
     ]
    },
    {
     "name": "stderr",
     "output_type": "stream",
     "text": [
      "\n",
      "100%|###################################################################################|175/175[00:04<00:00,37.97it/s]"
     ]
    },
    {
     "name": "stdout",
     "output_type": "stream",
     "text": [
      "\u001b[32m[1027 16:06:04 @base.py:285]\u001b[0m Epoch 39 (global_step 10237) finished, time:4.61 seconds.\n",
      "\u001b[32m[1027 16:06:05 @saver.py:79]\u001b[0m Model saved to ../output/Chicago/DATWGAN_300/model\\model-10237.\n",
      "\u001b[32m[1027 16:06:05 @monitor.py:467]\u001b[0m GAN_loss/d_loss: -0.16526\n",
      "\u001b[32m[1027 16:06:05 @monitor.py:467]\u001b[0m GAN_loss/g_loss: -0.026498\n",
      "\u001b[32m[1027 16:06:05 @monitor.py:467]\u001b[0m GAN_loss/kl_div: 0.087959\n",
      "\u001b[32m[1027 16:06:05 @monitor.py:467]\u001b[0m QueueInput/queue_size: 50\n",
      "\u001b[32m[1027 16:06:05 @base.py:275]\u001b[0m Start Epoch 40 ...\n"
     ]
    },
    {
     "name": "stderr",
     "output_type": "stream",
     "text": [
      "\n",
      "100%|###################################################################################|175/175[00:04<00:00,38.09it/s]"
     ]
    },
    {
     "name": "stdout",
     "output_type": "stream",
     "text": [
      "\u001b[32m[1027 16:06:09 @base.py:285]\u001b[0m Epoch 40 (global_step 10499) finished, time:4.59 seconds.\n",
      "\u001b[32m[1027 16:06:09 @saver.py:79]\u001b[0m Model saved to ../output/Chicago/DATWGAN_300/model\\model-10499.\n",
      "\u001b[32m[1027 16:06:09 @monitor.py:467]\u001b[0m GAN_loss/d_loss: -0.16362\n",
      "\u001b[32m[1027 16:06:09 @monitor.py:467]\u001b[0m GAN_loss/g_loss: -0.02774\n",
      "\u001b[32m[1027 16:06:09 @monitor.py:467]\u001b[0m GAN_loss/kl_div: 0.090641\n",
      "\u001b[32m[1027 16:06:09 @monitor.py:467]\u001b[0m QueueInput/queue_size: 50\n",
      "\u001b[32m[1027 16:06:09 @base.py:275]\u001b[0m Start Epoch 41 ...\n"
     ]
    },
    {
     "name": "stderr",
     "output_type": "stream",
     "text": [
      "\n",
      "100%|###################################################################################|175/175[00:04<00:00,37.75it/s]"
     ]
    },
    {
     "name": "stdout",
     "output_type": "stream",
     "text": [
      "\u001b[32m[1027 16:06:14 @base.py:285]\u001b[0m Epoch 41 (global_step 10762) finished, time:4.64 seconds.\n",
      "\u001b[32m[1027 16:06:14 @saver.py:79]\u001b[0m Model saved to ../output/Chicago/DATWGAN_300/model\\model-10762.\n",
      "\u001b[32m[1027 16:06:14 @monitor.py:467]\u001b[0m GAN_loss/d_loss: -0.1621\n",
      "\u001b[32m[1027 16:06:14 @monitor.py:467]\u001b[0m GAN_loss/g_loss: -0.029072\n",
      "\u001b[32m[1027 16:06:14 @monitor.py:467]\u001b[0m GAN_loss/kl_div: 0.088273\n",
      "\u001b[32m[1027 16:06:14 @monitor.py:467]\u001b[0m QueueInput/queue_size: 50\n",
      "\u001b[32m[1027 16:06:14 @base.py:275]\u001b[0m Start Epoch 42 ...\n"
     ]
    },
    {
     "name": "stderr",
     "output_type": "stream",
     "text": [
      "\n",
      "100%|###################################################################################|175/175[00:04<00:00,37.66it/s]"
     ]
    },
    {
     "name": "stdout",
     "output_type": "stream",
     "text": [
      "\u001b[32m[1027 16:06:19 @base.py:285]\u001b[0m Epoch 42 (global_step 11024) finished, time:4.65 seconds.\n",
      "\u001b[32m[1027 16:06:19 @saver.py:79]\u001b[0m Model saved to ../output/Chicago/DATWGAN_300/model\\model-11024.\n",
      "\u001b[32m[1027 16:06:19 @monitor.py:467]\u001b[0m GAN_loss/d_loss: -0.16035\n",
      "\u001b[32m[1027 16:06:19 @monitor.py:467]\u001b[0m GAN_loss/g_loss: -0.030352\n",
      "\u001b[32m[1027 16:06:19 @monitor.py:467]\u001b[0m GAN_loss/kl_div: 0.084916\n",
      "\u001b[32m[1027 16:06:19 @monitor.py:467]\u001b[0m QueueInput/queue_size: 50\n",
      "\u001b[32m[1027 16:06:19 @base.py:275]\u001b[0m Start Epoch 43 ...\n"
     ]
    },
    {
     "name": "stderr",
     "output_type": "stream",
     "text": [
      "\n",
      "100%|###################################################################################|175/175[00:04<00:00,37.38it/s]"
     ]
    },
    {
     "name": "stdout",
     "output_type": "stream",
     "text": [
      "\u001b[32m[1027 16:06:23 @base.py:285]\u001b[0m Epoch 43 (global_step 11287) finished, time:4.68 seconds.\n",
      "\u001b[32m[1027 16:06:23 @saver.py:79]\u001b[0m Model saved to ../output/Chicago/DATWGAN_300/model\\model-11287.\n",
      "\u001b[32m[1027 16:06:23 @monitor.py:467]\u001b[0m GAN_loss/d_loss: -0.15876\n",
      "\u001b[32m[1027 16:06:23 @monitor.py:467]\u001b[0m GAN_loss/g_loss: -0.031004\n",
      "\u001b[32m[1027 16:06:23 @monitor.py:467]\u001b[0m GAN_loss/kl_div: 0.089002\n",
      "\u001b[32m[1027 16:06:23 @monitor.py:467]\u001b[0m QueueInput/queue_size: 50\n",
      "\u001b[32m[1027 16:06:23 @base.py:275]\u001b[0m Start Epoch 44 ...\n"
     ]
    },
    {
     "name": "stderr",
     "output_type": "stream",
     "text": [
      "\n",
      "100%|###################################################################################|175/175[00:04<00:00,37.45it/s]"
     ]
    },
    {
     "name": "stdout",
     "output_type": "stream",
     "text": [
      "\u001b[32m[1027 16:06:28 @base.py:285]\u001b[0m Epoch 44 (global_step 11549) finished, time:4.67 seconds.\n",
      "\u001b[32m[1027 16:06:28 @saver.py:79]\u001b[0m Model saved to ../output/Chicago/DATWGAN_300/model\\model-11549.\n",
      "\u001b[32m[1027 16:06:28 @monitor.py:467]\u001b[0m GAN_loss/d_loss: -0.15694\n",
      "\u001b[32m[1027 16:06:28 @monitor.py:467]\u001b[0m GAN_loss/g_loss: -0.032148\n",
      "\u001b[32m[1027 16:06:28 @monitor.py:467]\u001b[0m GAN_loss/kl_div: 0.089923\n",
      "\u001b[32m[1027 16:06:28 @monitor.py:467]\u001b[0m QueueInput/queue_size: 50\n",
      "\u001b[32m[1027 16:06:28 @base.py:275]\u001b[0m Start Epoch 45 ...\n"
     ]
    },
    {
     "name": "stderr",
     "output_type": "stream",
     "text": [
      "\n",
      "100%|###################################################################################|175/175[00:04<00:00,37.30it/s]"
     ]
    },
    {
     "name": "stdout",
     "output_type": "stream",
     "text": [
      "\u001b[32m[1027 16:06:33 @base.py:285]\u001b[0m Epoch 45 (global_step 11812) finished, time:4.69 seconds.\n",
      "\u001b[32m[1027 16:06:33 @saver.py:79]\u001b[0m Model saved to ../output/Chicago/DATWGAN_300/model\\model-11812.\n",
      "\u001b[32m[1027 16:06:33 @monitor.py:467]\u001b[0m GAN_loss/d_loss: -0.15705\n",
      "\u001b[32m[1027 16:06:33 @monitor.py:467]\u001b[0m GAN_loss/g_loss: -0.031866\n",
      "\u001b[32m[1027 16:06:33 @monitor.py:467]\u001b[0m GAN_loss/kl_div: 0.086657\n",
      "\u001b[32m[1027 16:06:33 @monitor.py:467]\u001b[0m QueueInput/queue_size: 50\n",
      "\u001b[32m[1027 16:06:33 @base.py:275]\u001b[0m Start Epoch 46 ...\n"
     ]
    },
    {
     "name": "stderr",
     "output_type": "stream",
     "text": [
      "\n",
      "100%|###################################################################################|175/175[00:04<00:00,38.09it/s]"
     ]
    },
    {
     "name": "stdout",
     "output_type": "stream",
     "text": [
      "\u001b[32m[1027 16:06:38 @base.py:285]\u001b[0m Epoch 46 (global_step 12074) finished, time:4.6 seconds.\n",
      "\u001b[32m[1027 16:06:38 @saver.py:79]\u001b[0m Model saved to ../output/Chicago/DATWGAN_300/model\\model-12074.\n",
      "\u001b[32m[1027 16:06:38 @monitor.py:467]\u001b[0m GAN_loss/d_loss: -0.15379\n",
      "\u001b[32m[1027 16:06:38 @monitor.py:467]\u001b[0m GAN_loss/g_loss: -0.032584\n",
      "\u001b[32m[1027 16:06:38 @monitor.py:467]\u001b[0m GAN_loss/kl_div: 0.090737\n",
      "\u001b[32m[1027 16:06:38 @monitor.py:467]\u001b[0m QueueInput/queue_size: 50\n",
      "\u001b[32m[1027 16:06:38 @base.py:275]\u001b[0m Start Epoch 47 ...\n"
     ]
    },
    {
     "name": "stderr",
     "output_type": "stream",
     "text": [
      "\n",
      "100%|###################################################################################|175/175[00:04<00:00,37.96it/s]"
     ]
    },
    {
     "name": "stdout",
     "output_type": "stream",
     "text": [
      "\u001b[32m[1027 16:06:42 @base.py:285]\u001b[0m Epoch 47 (global_step 12337) finished, time:4.61 seconds.\n",
      "\u001b[32m[1027 16:06:42 @saver.py:79]\u001b[0m Model saved to ../output/Chicago/DATWGAN_300/model\\model-12337.\n",
      "\u001b[32m[1027 16:06:42 @monitor.py:467]\u001b[0m GAN_loss/d_loss: -0.15276\n",
      "\u001b[32m[1027 16:06:42 @monitor.py:467]\u001b[0m GAN_loss/g_loss: -0.033604\n",
      "\u001b[32m[1027 16:06:42 @monitor.py:467]\u001b[0m GAN_loss/kl_div: 0.092901\n",
      "\u001b[32m[1027 16:06:42 @monitor.py:467]\u001b[0m QueueInput/queue_size: 50\n",
      "\u001b[32m[1027 16:06:42 @base.py:275]\u001b[0m Start Epoch 48 ...\n"
     ]
    },
    {
     "name": "stderr",
     "output_type": "stream",
     "text": [
      "\n",
      "100%|###################################################################################|175/175[00:04<00:00,38.09it/s]"
     ]
    },
    {
     "name": "stdout",
     "output_type": "stream",
     "text": [
      "\u001b[32m[1027 16:06:47 @base.py:285]\u001b[0m Epoch 48 (global_step 12599) finished, time:4.6 seconds.\n",
      "\u001b[32m[1027 16:06:47 @saver.py:79]\u001b[0m Model saved to ../output/Chicago/DATWGAN_300/model\\model-12599.\n",
      "\u001b[32m[1027 16:06:47 @monitor.py:467]\u001b[0m GAN_loss/d_loss: -0.15243\n",
      "\u001b[32m[1027 16:06:47 @monitor.py:467]\u001b[0m GAN_loss/g_loss: -0.034841\n",
      "\u001b[32m[1027 16:06:47 @monitor.py:467]\u001b[0m GAN_loss/kl_div: 0.088176\n",
      "\u001b[32m[1027 16:06:47 @monitor.py:467]\u001b[0m QueueInput/queue_size: 50\n",
      "\u001b[32m[1027 16:06:47 @base.py:275]\u001b[0m Start Epoch 49 ...\n"
     ]
    },
    {
     "name": "stderr",
     "output_type": "stream",
     "text": [
      "\n",
      "100%|###################################################################################|175/175[00:04<00:00,37.95it/s]"
     ]
    },
    {
     "name": "stdout",
     "output_type": "stream",
     "text": [
      "\u001b[32m[1027 16:06:52 @base.py:285]\u001b[0m Epoch 49 (global_step 12862) finished, time:4.61 seconds.\n",
      "\u001b[32m[1027 16:06:52 @saver.py:79]\u001b[0m Model saved to ../output/Chicago/DATWGAN_300/model\\model-12862.\n",
      "\u001b[32m[1027 16:06:52 @monitor.py:467]\u001b[0m GAN_loss/d_loss: -0.15004\n",
      "\u001b[32m[1027 16:06:52 @monitor.py:467]\u001b[0m GAN_loss/g_loss: -0.035436\n",
      "\u001b[32m[1027 16:06:52 @monitor.py:467]\u001b[0m GAN_loss/kl_div: 0.092117\n",
      "\u001b[32m[1027 16:06:52 @monitor.py:467]\u001b[0m QueueInput/queue_size: 50\n",
      "\u001b[32m[1027 16:06:52 @base.py:275]\u001b[0m Start Epoch 50 ...\n"
     ]
    },
    {
     "name": "stderr",
     "output_type": "stream",
     "text": [
      "\n",
      "100%|###################################################################################|175/175[00:04<00:00,38.07it/s]"
     ]
    },
    {
     "name": "stdout",
     "output_type": "stream",
     "text": [
      "\u001b[32m[1027 16:06:56 @base.py:285]\u001b[0m Epoch 50 (global_step 13124) finished, time:4.6 seconds.\n",
      "\u001b[32m[1027 16:06:56 @saver.py:79]\u001b[0m Model saved to ../output/Chicago/DATWGAN_300/model\\model-13124.\n",
      "\u001b[32m[1027 16:06:56 @monitor.py:467]\u001b[0m GAN_loss/d_loss: -0.15\n",
      "\u001b[32m[1027 16:06:56 @monitor.py:467]\u001b[0m GAN_loss/g_loss: -0.035787\n",
      "\u001b[32m[1027 16:06:56 @monitor.py:467]\u001b[0m GAN_loss/kl_div: 0.084605\n",
      "\u001b[32m[1027 16:06:56 @monitor.py:467]\u001b[0m QueueInput/queue_size: 50\n",
      "\u001b[32m[1027 16:06:56 @base.py:275]\u001b[0m Start Epoch 51 ...\n"
     ]
    },
    {
     "name": "stderr",
     "output_type": "stream",
     "text": [
      "\n",
      "100%|###################################################################################|175/175[00:04<00:00,37.95it/s]"
     ]
    },
    {
     "name": "stdout",
     "output_type": "stream",
     "text": [
      "\u001b[32m[1027 16:07:01 @base.py:285]\u001b[0m Epoch 51 (global_step 13387) finished, time:4.61 seconds.\n",
      "\u001b[32m[1027 16:07:01 @saver.py:79]\u001b[0m Model saved to ../output/Chicago/DATWGAN_300/model\\model-13387.\n",
      "\u001b[32m[1027 16:07:01 @monitor.py:467]\u001b[0m GAN_loss/d_loss: -0.15053\n",
      "\u001b[32m[1027 16:07:01 @monitor.py:467]\u001b[0m GAN_loss/g_loss: -0.036116\n",
      "\u001b[32m[1027 16:07:01 @monitor.py:467]\u001b[0m GAN_loss/kl_div: 0.082547\n",
      "\u001b[32m[1027 16:07:01 @monitor.py:467]\u001b[0m QueueInput/queue_size: 50\n",
      "\u001b[32m[1027 16:07:01 @base.py:275]\u001b[0m Start Epoch 52 ...\n"
     ]
    },
    {
     "name": "stderr",
     "output_type": "stream",
     "text": [
      "\n",
      "100%|###################################################################################|175/175[00:04<00:00,38.08it/s]"
     ]
    },
    {
     "name": "stdout",
     "output_type": "stream",
     "text": [
      "\u001b[32m[1027 16:07:06 @base.py:285]\u001b[0m Epoch 52 (global_step 13649) finished, time:4.6 seconds.\n",
      "\u001b[32m[1027 16:07:06 @saver.py:79]\u001b[0m Model saved to ../output/Chicago/DATWGAN_300/model\\model-13649.\n",
      "\u001b[32m[1027 16:07:06 @monitor.py:467]\u001b[0m GAN_loss/d_loss: -0.15086\n",
      "\u001b[32m[1027 16:07:06 @monitor.py:467]\u001b[0m GAN_loss/g_loss: -0.037928\n",
      "\u001b[32m[1027 16:07:06 @monitor.py:467]\u001b[0m GAN_loss/kl_div: 0.086196\n",
      "\u001b[32m[1027 16:07:06 @monitor.py:467]\u001b[0m QueueInput/queue_size: 50\n",
      "\u001b[32m[1027 16:07:06 @base.py:275]\u001b[0m Start Epoch 53 ...\n"
     ]
    },
    {
     "name": "stderr",
     "output_type": "stream",
     "text": [
      "\n",
      "100%|###################################################################################|175/175[00:04<00:00,37.97it/s]"
     ]
    },
    {
     "name": "stdout",
     "output_type": "stream",
     "text": [
      "\u001b[32m[1027 16:07:10 @base.py:285]\u001b[0m Epoch 53 (global_step 13912) finished, time:4.61 seconds.\n",
      "\u001b[32m[1027 16:07:10 @saver.py:79]\u001b[0m Model saved to ../output/Chicago/DATWGAN_300/model\\model-13912.\n",
      "\u001b[32m[1027 16:07:10 @monitor.py:467]\u001b[0m GAN_loss/d_loss: -0.14997\n",
      "\u001b[32m[1027 16:07:10 @monitor.py:467]\u001b[0m GAN_loss/g_loss: -0.038694\n",
      "\u001b[32m[1027 16:07:10 @monitor.py:467]\u001b[0m GAN_loss/kl_div: 0.086525\n",
      "\u001b[32m[1027 16:07:10 @monitor.py:467]\u001b[0m QueueInput/queue_size: 50\n",
      "\u001b[32m[1027 16:07:10 @base.py:275]\u001b[0m Start Epoch 54 ...\n"
     ]
    },
    {
     "name": "stderr",
     "output_type": "stream",
     "text": [
      "\n",
      "100%|###################################################################################|175/175[00:04<00:00,37.88it/s]"
     ]
    },
    {
     "name": "stdout",
     "output_type": "stream",
     "text": [
      "\u001b[32m[1027 16:07:15 @base.py:285]\u001b[0m Epoch 54 (global_step 14174) finished, time:4.62 seconds.\n",
      "\u001b[32m[1027 16:07:15 @saver.py:79]\u001b[0m Model saved to ../output/Chicago/DATWGAN_300/model\\model-14174.\n",
      "\u001b[32m[1027 16:07:15 @monitor.py:467]\u001b[0m GAN_loss/d_loss: -0.14955\n",
      "\u001b[32m[1027 16:07:15 @monitor.py:467]\u001b[0m GAN_loss/g_loss: -0.039034\n",
      "\u001b[32m[1027 16:07:15 @monitor.py:467]\u001b[0m GAN_loss/kl_div: 0.088997\n",
      "\u001b[32m[1027 16:07:15 @monitor.py:467]\u001b[0m QueueInput/queue_size: 50\n",
      "\u001b[32m[1027 16:07:15 @base.py:275]\u001b[0m Start Epoch 55 ...\n"
     ]
    },
    {
     "name": "stderr",
     "output_type": "stream",
     "text": [
      "\n",
      "100%|###################################################################################|175/175[00:04<00:00,37.90it/s]"
     ]
    },
    {
     "name": "stdout",
     "output_type": "stream",
     "text": [
      "\u001b[32m[1027 16:07:20 @base.py:285]\u001b[0m Epoch 55 (global_step 14437) finished, time:4.62 seconds.\n",
      "\u001b[32m[1027 16:07:20 @saver.py:79]\u001b[0m Model saved to ../output/Chicago/DATWGAN_300/model\\model-14437.\n",
      "\u001b[32m[1027 16:07:20 @monitor.py:467]\u001b[0m GAN_loss/d_loss: -0.14637\n",
      "\u001b[32m[1027 16:07:20 @monitor.py:467]\u001b[0m GAN_loss/g_loss: -0.040005\n",
      "\u001b[32m[1027 16:07:20 @monitor.py:467]\u001b[0m GAN_loss/kl_div: 0.094504\n",
      "\u001b[32m[1027 16:07:20 @monitor.py:467]\u001b[0m QueueInput/queue_size: 50\n",
      "\u001b[32m[1027 16:07:20 @base.py:275]\u001b[0m Start Epoch 56 ...\n"
     ]
    },
    {
     "name": "stderr",
     "output_type": "stream",
     "text": [
      "\n",
      "100%|###################################################################################|175/175[00:04<00:00,38.09it/s]"
     ]
    },
    {
     "name": "stdout",
     "output_type": "stream",
     "text": [
      "\u001b[32m[1027 16:07:24 @base.py:285]\u001b[0m Epoch 56 (global_step 14699) finished, time:4.59 seconds.\n",
      "\u001b[32m[1027 16:07:25 @saver.py:79]\u001b[0m Model saved to ../output/Chicago/DATWGAN_300/model\\model-14699.\n",
      "\u001b[32m[1027 16:07:25 @monitor.py:467]\u001b[0m GAN_loss/d_loss: -0.14628\n",
      "\u001b[32m[1027 16:07:25 @monitor.py:467]\u001b[0m GAN_loss/g_loss: -0.04078\n",
      "\u001b[32m[1027 16:07:25 @monitor.py:467]\u001b[0m GAN_loss/kl_div: 0.086281\n",
      "\u001b[32m[1027 16:07:25 @monitor.py:467]\u001b[0m QueueInput/queue_size: 50\n",
      "\u001b[32m[1027 16:07:25 @base.py:275]\u001b[0m Start Epoch 57 ...\n"
     ]
    },
    {
     "name": "stderr",
     "output_type": "stream",
     "text": [
      "\n",
      "100%|###################################################################################|175/175[00:04<00:00,37.92it/s]"
     ]
    },
    {
     "name": "stdout",
     "output_type": "stream",
     "text": [
      "\u001b[32m[1027 16:07:29 @base.py:285]\u001b[0m Epoch 57 (global_step 14962) finished, time:4.62 seconds.\n",
      "\u001b[32m[1027 16:07:29 @saver.py:79]\u001b[0m Model saved to ../output/Chicago/DATWGAN_300/model\\model-14962.\n",
      "\u001b[32m[1027 16:07:29 @monitor.py:467]\u001b[0m GAN_loss/d_loss: -0.14628\n",
      "\u001b[32m[1027 16:07:29 @monitor.py:467]\u001b[0m GAN_loss/g_loss: -0.041023\n",
      "\u001b[32m[1027 16:07:29 @monitor.py:467]\u001b[0m GAN_loss/kl_div: 0.089614\n",
      "\u001b[32m[1027 16:07:29 @monitor.py:467]\u001b[0m QueueInput/queue_size: 50\n",
      "\u001b[32m[1027 16:07:29 @base.py:275]\u001b[0m Start Epoch 58 ...\n"
     ]
    },
    {
     "name": "stderr",
     "output_type": "stream",
     "text": [
      "\n",
      "100%|###################################################################################|175/175[00:04<00:00,38.10it/s]"
     ]
    },
    {
     "name": "stdout",
     "output_type": "stream",
     "text": [
      "\u001b[32m[1027 16:07:34 @base.py:285]\u001b[0m Epoch 58 (global_step 15224) finished, time:4.59 seconds.\n",
      "\u001b[32m[1027 16:07:34 @saver.py:79]\u001b[0m Model saved to ../output/Chicago/DATWGAN_300/model\\model-15224.\n",
      "\u001b[32m[1027 16:07:34 @monitor.py:467]\u001b[0m GAN_loss/d_loss: -0.14521\n",
      "\u001b[32m[1027 16:07:34 @monitor.py:467]\u001b[0m GAN_loss/g_loss: -0.04191\n",
      "\u001b[32m[1027 16:07:34 @monitor.py:467]\u001b[0m GAN_loss/kl_div: 0.08608\n",
      "\u001b[32m[1027 16:07:34 @monitor.py:467]\u001b[0m QueueInput/queue_size: 50\n",
      "\u001b[32m[1027 16:07:34 @base.py:275]\u001b[0m Start Epoch 59 ...\n"
     ]
    },
    {
     "name": "stderr",
     "output_type": "stream",
     "text": [
      "\n",
      "100%|###################################################################################|175/175[00:04<00:00,37.95it/s]"
     ]
    },
    {
     "name": "stdout",
     "output_type": "stream",
     "text": [
      "\u001b[32m[1027 16:07:39 @base.py:285]\u001b[0m Epoch 59 (global_step 15487) finished, time:4.61 seconds.\n",
      "\u001b[32m[1027 16:07:39 @saver.py:79]\u001b[0m Model saved to ../output/Chicago/DATWGAN_300/model\\model-15487.\n",
      "\u001b[32m[1027 16:07:39 @monitor.py:467]\u001b[0m GAN_loss/d_loss: -0.14473\n",
      "\u001b[32m[1027 16:07:39 @monitor.py:467]\u001b[0m GAN_loss/g_loss: -0.042219\n",
      "\u001b[32m[1027 16:07:39 @monitor.py:467]\u001b[0m GAN_loss/kl_div: 0.094222\n",
      "\u001b[32m[1027 16:07:39 @monitor.py:467]\u001b[0m QueueInput/queue_size: 50\n",
      "\u001b[32m[1027 16:07:39 @base.py:275]\u001b[0m Start Epoch 60 ...\n"
     ]
    },
    {
     "name": "stderr",
     "output_type": "stream",
     "text": [
      "\n",
      "100%|###################################################################################|175/175[00:04<00:00,38.06it/s]"
     ]
    },
    {
     "name": "stdout",
     "output_type": "stream",
     "text": [
      "\u001b[32m[1027 16:07:43 @base.py:285]\u001b[0m Epoch 60 (global_step 15749) finished, time:4.6 seconds.\n",
      "\u001b[32m[1027 16:07:43 @saver.py:79]\u001b[0m Model saved to ../output/Chicago/DATWGAN_300/model\\model-15749.\n",
      "\u001b[32m[1027 16:07:43 @monitor.py:467]\u001b[0m GAN_loss/d_loss: -0.14352\n",
      "\u001b[32m[1027 16:07:43 @monitor.py:467]\u001b[0m GAN_loss/g_loss: -0.043172\n",
      "\u001b[32m[1027 16:07:43 @monitor.py:467]\u001b[0m GAN_loss/kl_div: 0.091649\n",
      "\u001b[32m[1027 16:07:43 @monitor.py:467]\u001b[0m QueueInput/queue_size: 50\n",
      "\u001b[32m[1027 16:07:43 @base.py:275]\u001b[0m Start Epoch 61 ...\n"
     ]
    },
    {
     "name": "stderr",
     "output_type": "stream",
     "text": [
      "\n",
      "100%|###################################################################################|175/175[00:04<00:00,37.95it/s]"
     ]
    },
    {
     "name": "stdout",
     "output_type": "stream",
     "text": [
      "\u001b[32m[1027 16:07:48 @base.py:285]\u001b[0m Epoch 61 (global_step 16012) finished, time:4.61 seconds.\n",
      "\u001b[32m[1027 16:07:48 @saver.py:79]\u001b[0m Model saved to ../output/Chicago/DATWGAN_300/model\\model-16012.\n",
      "\u001b[32m[1027 16:07:48 @monitor.py:467]\u001b[0m GAN_loss/d_loss: -0.14305\n",
      "\u001b[32m[1027 16:07:48 @monitor.py:467]\u001b[0m GAN_loss/g_loss: -0.043021\n",
      "\u001b[32m[1027 16:07:48 @monitor.py:467]\u001b[0m GAN_loss/kl_div: 0.09385\n",
      "\u001b[32m[1027 16:07:48 @monitor.py:467]\u001b[0m QueueInput/queue_size: 50\n",
      "\u001b[32m[1027 16:07:48 @base.py:275]\u001b[0m Start Epoch 62 ...\n"
     ]
    },
    {
     "name": "stderr",
     "output_type": "stream",
     "text": [
      "\n",
      "100%|###################################################################################|175/175[00:04<00:00,38.05it/s]"
     ]
    },
    {
     "name": "stdout",
     "output_type": "stream",
     "text": [
      "\u001b[32m[1027 16:07:53 @base.py:285]\u001b[0m Epoch 62 (global_step 16274) finished, time:4.6 seconds.\n",
      "\u001b[32m[1027 16:07:53 @saver.py:79]\u001b[0m Model saved to ../output/Chicago/DATWGAN_300/model\\model-16274.\n",
      "\u001b[32m[1027 16:07:53 @monitor.py:467]\u001b[0m GAN_loss/d_loss: -0.14078\n",
      "\u001b[32m[1027 16:07:53 @monitor.py:467]\u001b[0m GAN_loss/g_loss: -0.042655\n",
      "\u001b[32m[1027 16:07:53 @monitor.py:467]\u001b[0m GAN_loss/kl_div: 0.092726\n",
      "\u001b[32m[1027 16:07:53 @monitor.py:467]\u001b[0m QueueInput/queue_size: 50\n",
      "\u001b[32m[1027 16:07:53 @base.py:275]\u001b[0m Start Epoch 63 ...\n"
     ]
    },
    {
     "name": "stderr",
     "output_type": "stream",
     "text": [
      "\n",
      "100%|###################################################################################|175/175[00:04<00:00,37.81it/s]"
     ]
    },
    {
     "name": "stdout",
     "output_type": "stream",
     "text": [
      "\u001b[32m[1027 16:07:57 @base.py:285]\u001b[0m Epoch 63 (global_step 16537) finished, time:4.63 seconds.\n",
      "\u001b[32m[1027 16:07:57 @saver.py:79]\u001b[0m Model saved to ../output/Chicago/DATWGAN_300/model\\model-16537.\n",
      "\u001b[32m[1027 16:07:57 @monitor.py:467]\u001b[0m GAN_loss/d_loss: -0.14173\n",
      "\u001b[32m[1027 16:07:57 @monitor.py:467]\u001b[0m GAN_loss/g_loss: -0.044778\n",
      "\u001b[32m[1027 16:07:57 @monitor.py:467]\u001b[0m GAN_loss/kl_div: 0.084673\n",
      "\u001b[32m[1027 16:07:57 @monitor.py:467]\u001b[0m QueueInput/queue_size: 50\n",
      "\u001b[32m[1027 16:07:57 @base.py:275]\u001b[0m Start Epoch 64 ...\n"
     ]
    },
    {
     "name": "stderr",
     "output_type": "stream",
     "text": [
      "\n",
      "100%|###################################################################################|175/175[00:04<00:00,37.67it/s]"
     ]
    },
    {
     "name": "stdout",
     "output_type": "stream",
     "text": [
      "\u001b[32m[1027 16:08:02 @base.py:285]\u001b[0m Epoch 64 (global_step 16799) finished, time:4.65 seconds.\n",
      "\u001b[32m[1027 16:08:02 @saver.py:79]\u001b[0m Model saved to ../output/Chicago/DATWGAN_300/model\\model-16799.\n",
      "\u001b[32m[1027 16:08:02 @monitor.py:467]\u001b[0m GAN_loss/d_loss: -0.14072\n",
      "\u001b[32m[1027 16:08:02 @monitor.py:467]\u001b[0m GAN_loss/g_loss: -0.044691\n",
      "\u001b[32m[1027 16:08:02 @monitor.py:467]\u001b[0m GAN_loss/kl_div: 0.093438\n",
      "\u001b[32m[1027 16:08:02 @monitor.py:467]\u001b[0m QueueInput/queue_size: 50\n",
      "\u001b[32m[1027 16:08:02 @base.py:275]\u001b[0m Start Epoch 65 ...\n"
     ]
    },
    {
     "name": "stderr",
     "output_type": "stream",
     "text": [
      "\n",
      "100%|###################################################################################|175/175[00:04<00:00,37.79it/s]"
     ]
    },
    {
     "name": "stdout",
     "output_type": "stream",
     "text": [
      "\u001b[32m[1027 16:08:07 @base.py:285]\u001b[0m Epoch 65 (global_step 17062) finished, time:4.63 seconds.\n",
      "\u001b[32m[1027 16:08:07 @saver.py:79]\u001b[0m Model saved to ../output/Chicago/DATWGAN_300/model\\model-17062.\n",
      "\u001b[32m[1027 16:08:07 @monitor.py:467]\u001b[0m GAN_loss/d_loss: -0.13997\n",
      "\u001b[32m[1027 16:08:07 @monitor.py:467]\u001b[0m GAN_loss/g_loss: -0.045621\n",
      "\u001b[32m[1027 16:08:07 @monitor.py:467]\u001b[0m GAN_loss/kl_div: 0.091087\n",
      "\u001b[32m[1027 16:08:07 @monitor.py:467]\u001b[0m QueueInput/queue_size: 50\n",
      "\u001b[32m[1027 16:08:07 @base.py:275]\u001b[0m Start Epoch 66 ...\n"
     ]
    },
    {
     "name": "stderr",
     "output_type": "stream",
     "text": [
      "\n",
      "100%|###################################################################################|175/175[00:04<00:00,37.80it/s]"
     ]
    },
    {
     "name": "stdout",
     "output_type": "stream",
     "text": [
      "\u001b[32m[1027 16:08:11 @base.py:285]\u001b[0m Epoch 66 (global_step 17324) finished, time:4.63 seconds.\n",
      "\u001b[32m[1027 16:08:12 @saver.py:79]\u001b[0m Model saved to ../output/Chicago/DATWGAN_300/model\\model-17324.\n",
      "\u001b[32m[1027 16:08:12 @monitor.py:467]\u001b[0m GAN_loss/d_loss: -0.13841\n",
      "\u001b[32m[1027 16:08:12 @monitor.py:467]\u001b[0m GAN_loss/g_loss: -0.045143\n",
      "\u001b[32m[1027 16:08:12 @monitor.py:467]\u001b[0m GAN_loss/kl_div: 0.092041\n",
      "\u001b[32m[1027 16:08:12 @monitor.py:467]\u001b[0m QueueInput/queue_size: 50\n",
      "\u001b[32m[1027 16:08:12 @base.py:275]\u001b[0m Start Epoch 67 ...\n"
     ]
    },
    {
     "name": "stderr",
     "output_type": "stream",
     "text": [
      "\n",
      "100%|###################################################################################|175/175[00:04<00:00,37.96it/s]"
     ]
    },
    {
     "name": "stdout",
     "output_type": "stream",
     "text": [
      "\u001b[32m[1027 16:08:16 @base.py:285]\u001b[0m Epoch 67 (global_step 17587) finished, time:4.61 seconds.\n",
      "\u001b[32m[1027 16:08:16 @saver.py:79]\u001b[0m Model saved to ../output/Chicago/DATWGAN_300/model\\model-17587.\n",
      "\u001b[32m[1027 16:08:16 @monitor.py:467]\u001b[0m GAN_loss/d_loss: -0.13879\n",
      "\u001b[32m[1027 16:08:16 @monitor.py:467]\u001b[0m GAN_loss/g_loss: -0.045162\n",
      "\u001b[32m[1027 16:08:16 @monitor.py:467]\u001b[0m GAN_loss/kl_div: 0.097077\n",
      "\u001b[32m[1027 16:08:16 @monitor.py:467]\u001b[0m QueueInput/queue_size: 50\n",
      "\u001b[32m[1027 16:08:16 @base.py:275]\u001b[0m Start Epoch 68 ...\n"
     ]
    },
    {
     "name": "stderr",
     "output_type": "stream",
     "text": [
      "\n",
      "100%|###################################################################################|175/175[00:04<00:00,38.08it/s]"
     ]
    },
    {
     "name": "stdout",
     "output_type": "stream",
     "text": [
      "\u001b[32m[1027 16:08:21 @base.py:285]\u001b[0m Epoch 68 (global_step 17849) finished, time:4.6 seconds.\n",
      "\u001b[32m[1027 16:08:21 @saver.py:79]\u001b[0m Model saved to ../output/Chicago/DATWGAN_300/model\\model-17849.\n",
      "\u001b[32m[1027 16:08:21 @monitor.py:467]\u001b[0m GAN_loss/d_loss: -0.13854\n",
      "\u001b[32m[1027 16:08:21 @monitor.py:467]\u001b[0m GAN_loss/g_loss: -0.044577\n",
      "\u001b[32m[1027 16:08:21 @monitor.py:467]\u001b[0m GAN_loss/kl_div: 0.091155\n",
      "\u001b[32m[1027 16:08:21 @monitor.py:467]\u001b[0m QueueInput/queue_size: 50\n",
      "\u001b[32m[1027 16:08:21 @base.py:275]\u001b[0m Start Epoch 69 ...\n"
     ]
    },
    {
     "name": "stderr",
     "output_type": "stream",
     "text": [
      "\n",
      "100%|###################################################################################|175/175[00:04<00:00,37.95it/s]"
     ]
    },
    {
     "name": "stdout",
     "output_type": "stream",
     "text": [
      "\u001b[32m[1027 16:08:26 @base.py:285]\u001b[0m Epoch 69 (global_step 18112) finished, time:4.61 seconds.\n",
      "\u001b[32m[1027 16:08:26 @saver.py:79]\u001b[0m Model saved to ../output/Chicago/DATWGAN_300/model\\model-18112.\n",
      "\u001b[32m[1027 16:08:26 @monitor.py:467]\u001b[0m GAN_loss/d_loss: -0.13716\n",
      "\u001b[32m[1027 16:08:26 @monitor.py:467]\u001b[0m GAN_loss/g_loss: -0.046108\n",
      "\u001b[32m[1027 16:08:26 @monitor.py:467]\u001b[0m GAN_loss/kl_div: 0.091607\n",
      "\u001b[32m[1027 16:08:26 @monitor.py:467]\u001b[0m QueueInput/queue_size: 50\n",
      "\u001b[32m[1027 16:08:26 @base.py:275]\u001b[0m Start Epoch 70 ...\n"
     ]
    },
    {
     "name": "stderr",
     "output_type": "stream",
     "text": [
      "\n",
      "100%|###################################################################################|175/175[00:04<00:00,37.94it/s]"
     ]
    },
    {
     "name": "stdout",
     "output_type": "stream",
     "text": [
      "\u001b[32m[1027 16:08:30 @base.py:285]\u001b[0m Epoch 70 (global_step 18374) finished, time:4.61 seconds.\n",
      "\u001b[32m[1027 16:08:30 @saver.py:79]\u001b[0m Model saved to ../output/Chicago/DATWGAN_300/model\\model-18374.\n",
      "\u001b[32m[1027 16:08:30 @monitor.py:467]\u001b[0m GAN_loss/d_loss: -0.13726\n",
      "\u001b[32m[1027 16:08:30 @monitor.py:467]\u001b[0m GAN_loss/g_loss: -0.045594\n",
      "\u001b[32m[1027 16:08:30 @monitor.py:467]\u001b[0m GAN_loss/kl_div: 0.090384\n",
      "\u001b[32m[1027 16:08:30 @monitor.py:467]\u001b[0m QueueInput/queue_size: 50\n",
      "\u001b[32m[1027 16:08:30 @base.py:275]\u001b[0m Start Epoch 71 ...\n"
     ]
    },
    {
     "name": "stderr",
     "output_type": "stream",
     "text": [
      "\n",
      "100%|###################################################################################|175/175[00:04<00:00,37.79it/s]"
     ]
    },
    {
     "name": "stdout",
     "output_type": "stream",
     "text": [
      "\u001b[32m[1027 16:08:35 @base.py:285]\u001b[0m Epoch 71 (global_step 18637) finished, time:4.63 seconds.\n",
      "\u001b[32m[1027 16:08:35 @saver.py:79]\u001b[0m Model saved to ../output/Chicago/DATWGAN_300/model\\model-18637.\n",
      "\u001b[32m[1027 16:08:35 @monitor.py:467]\u001b[0m GAN_loss/d_loss: -0.13691\n",
      "\u001b[32m[1027 16:08:35 @monitor.py:467]\u001b[0m GAN_loss/g_loss: -0.046903\n",
      "\u001b[32m[1027 16:08:35 @monitor.py:467]\u001b[0m GAN_loss/kl_div: 0.095706\n",
      "\u001b[32m[1027 16:08:35 @monitor.py:467]\u001b[0m QueueInput/queue_size: 50\n",
      "\u001b[32m[1027 16:08:35 @base.py:275]\u001b[0m Start Epoch 72 ...\n"
     ]
    },
    {
     "name": "stderr",
     "output_type": "stream",
     "text": [
      "\n",
      "100%|###################################################################################|175/175[00:04<00:00,38.07it/s]"
     ]
    },
    {
     "name": "stdout",
     "output_type": "stream",
     "text": [
      "\u001b[32m[1027 16:08:40 @base.py:285]\u001b[0m Epoch 72 (global_step 18899) finished, time:4.6 seconds.\n",
      "\u001b[32m[1027 16:08:40 @saver.py:79]\u001b[0m Model saved to ../output/Chicago/DATWGAN_300/model\\model-18899.\n",
      "\u001b[32m[1027 16:08:40 @monitor.py:467]\u001b[0m GAN_loss/d_loss: -0.1359\n",
      "\u001b[32m[1027 16:08:40 @monitor.py:467]\u001b[0m GAN_loss/g_loss: -0.04778\n",
      "\u001b[32m[1027 16:08:40 @monitor.py:467]\u001b[0m GAN_loss/kl_div: 0.091494\n",
      "\u001b[32m[1027 16:08:40 @monitor.py:467]\u001b[0m QueueInput/queue_size: 50\n",
      "\u001b[32m[1027 16:08:40 @base.py:275]\u001b[0m Start Epoch 73 ...\n"
     ]
    },
    {
     "name": "stderr",
     "output_type": "stream",
     "text": [
      "\n",
      "100%|###################################################################################|175/175[00:04<00:00,37.88it/s]"
     ]
    },
    {
     "name": "stdout",
     "output_type": "stream",
     "text": [
      "\u001b[32m[1027 16:08:44 @base.py:285]\u001b[0m Epoch 73 (global_step 19162) finished, time:4.62 seconds.\n",
      "\u001b[32m[1027 16:08:44 @saver.py:79]\u001b[0m Model saved to ../output/Chicago/DATWGAN_300/model\\model-19162.\n",
      "\u001b[32m[1027 16:08:44 @monitor.py:467]\u001b[0m GAN_loss/d_loss: -0.13394\n",
      "\u001b[32m[1027 16:08:44 @monitor.py:467]\u001b[0m GAN_loss/g_loss: -0.048252\n",
      "\u001b[32m[1027 16:08:44 @monitor.py:467]\u001b[0m GAN_loss/kl_div: 0.097286\n",
      "\u001b[32m[1027 16:08:44 @monitor.py:467]\u001b[0m QueueInput/queue_size: 50\n",
      "\u001b[32m[1027 16:08:44 @base.py:275]\u001b[0m Start Epoch 74 ...\n"
     ]
    },
    {
     "name": "stderr",
     "output_type": "stream",
     "text": [
      "\n",
      "100%|###################################################################################|175/175[00:04<00:00,38.06it/s]"
     ]
    },
    {
     "name": "stdout",
     "output_type": "stream",
     "text": [
      "\u001b[32m[1027 16:08:49 @base.py:285]\u001b[0m Epoch 74 (global_step 19424) finished, time:4.6 seconds.\n",
      "\u001b[32m[1027 16:08:49 @saver.py:79]\u001b[0m Model saved to ../output/Chicago/DATWGAN_300/model\\model-19424.\n",
      "\u001b[32m[1027 16:08:49 @monitor.py:467]\u001b[0m GAN_loss/d_loss: -0.13389\n",
      "\u001b[32m[1027 16:08:49 @monitor.py:467]\u001b[0m GAN_loss/g_loss: -0.048704\n",
      "\u001b[32m[1027 16:08:49 @monitor.py:467]\u001b[0m GAN_loss/kl_div: 0.093266\n",
      "\u001b[32m[1027 16:08:49 @monitor.py:467]\u001b[0m QueueInput/queue_size: 50\n",
      "\u001b[32m[1027 16:08:49 @base.py:275]\u001b[0m Start Epoch 75 ...\n"
     ]
    },
    {
     "name": "stderr",
     "output_type": "stream",
     "text": [
      "\n",
      "100%|###################################################################################|175/175[00:04<00:00,37.97it/s]"
     ]
    },
    {
     "name": "stdout",
     "output_type": "stream",
     "text": [
      "\u001b[32m[1027 16:08:54 @base.py:285]\u001b[0m Epoch 75 (global_step 19687) finished, time:4.61 seconds.\n",
      "\u001b[32m[1027 16:08:54 @saver.py:79]\u001b[0m Model saved to ../output/Chicago/DATWGAN_300/model\\model-19687.\n",
      "\u001b[32m[1027 16:08:54 @monitor.py:467]\u001b[0m GAN_loss/d_loss: -0.13377\n",
      "\u001b[32m[1027 16:08:54 @monitor.py:467]\u001b[0m GAN_loss/g_loss: -0.049569\n",
      "\u001b[32m[1027 16:08:54 @monitor.py:467]\u001b[0m GAN_loss/kl_div: 0.10001\n",
      "\u001b[32m[1027 16:08:54 @monitor.py:467]\u001b[0m QueueInput/queue_size: 50\n",
      "\u001b[32m[1027 16:08:54 @base.py:275]\u001b[0m Start Epoch 76 ...\n"
     ]
    },
    {
     "name": "stderr",
     "output_type": "stream",
     "text": [
      "\n",
      "100%|###################################################################################|175/175[00:04<00:00,38.02it/s]"
     ]
    },
    {
     "name": "stdout",
     "output_type": "stream",
     "text": [
      "\u001b[32m[1027 16:08:58 @base.py:285]\u001b[0m Epoch 76 (global_step 19949) finished, time:4.6 seconds.\n",
      "\u001b[32m[1027 16:08:58 @saver.py:79]\u001b[0m Model saved to ../output/Chicago/DATWGAN_300/model\\model-19949.\n",
      "\u001b[32m[1027 16:08:58 @monitor.py:467]\u001b[0m GAN_loss/d_loss: -0.13379\n",
      "\u001b[32m[1027 16:08:58 @monitor.py:467]\u001b[0m GAN_loss/g_loss: -0.04992\n",
      "\u001b[32m[1027 16:08:58 @monitor.py:467]\u001b[0m GAN_loss/kl_div: 0.094764\n",
      "\u001b[32m[1027 16:08:58 @monitor.py:467]\u001b[0m QueueInput/queue_size: 50\n",
      "\u001b[32m[1027 16:08:58 @base.py:275]\u001b[0m Start Epoch 77 ...\n"
     ]
    },
    {
     "name": "stderr",
     "output_type": "stream",
     "text": [
      "\n",
      "100%|###################################################################################|175/175[00:04<00:00,37.95it/s]"
     ]
    },
    {
     "name": "stdout",
     "output_type": "stream",
     "text": [
      "\u001b[32m[1027 16:09:03 @base.py:285]\u001b[0m Epoch 77 (global_step 20212) finished, time:4.61 seconds.\n",
      "\u001b[32m[1027 16:09:03 @saver.py:79]\u001b[0m Model saved to ../output/Chicago/DATWGAN_300/model\\model-20212.\n",
      "\u001b[32m[1027 16:09:03 @monitor.py:467]\u001b[0m GAN_loss/d_loss: -0.13163\n",
      "\u001b[32m[1027 16:09:03 @monitor.py:467]\u001b[0m GAN_loss/g_loss: -0.050362\n",
      "\u001b[32m[1027 16:09:03 @monitor.py:467]\u001b[0m GAN_loss/kl_div: 0.096893\n",
      "\u001b[32m[1027 16:09:03 @monitor.py:467]\u001b[0m QueueInput/queue_size: 50\n",
      "\u001b[32m[1027 16:09:03 @base.py:275]\u001b[0m Start Epoch 78 ...\n"
     ]
    },
    {
     "name": "stderr",
     "output_type": "stream",
     "text": [
      "\n",
      "100%|###################################################################################|175/175[00:04<00:00,38.06it/s]"
     ]
    },
    {
     "name": "stdout",
     "output_type": "stream",
     "text": [
      "\u001b[32m[1027 16:09:08 @base.py:285]\u001b[0m Epoch 78 (global_step 20474) finished, time:4.6 seconds.\n",
      "\u001b[32m[1027 16:09:08 @saver.py:79]\u001b[0m Model saved to ../output/Chicago/DATWGAN_300/model\\model-20474.\n",
      "\u001b[32m[1027 16:09:08 @monitor.py:467]\u001b[0m GAN_loss/d_loss: -0.13218\n",
      "\u001b[32m[1027 16:09:08 @monitor.py:467]\u001b[0m GAN_loss/g_loss: -0.050711\n",
      "\u001b[32m[1027 16:09:08 @monitor.py:467]\u001b[0m GAN_loss/kl_div: 0.095402\n",
      "\u001b[32m[1027 16:09:08 @monitor.py:467]\u001b[0m QueueInput/queue_size: 50\n",
      "\u001b[32m[1027 16:09:08 @base.py:275]\u001b[0m Start Epoch 79 ...\n"
     ]
    },
    {
     "name": "stderr",
     "output_type": "stream",
     "text": [
      "\n",
      "100%|###################################################################################|175/175[00:04<00:00,37.98it/s]"
     ]
    },
    {
     "name": "stdout",
     "output_type": "stream",
     "text": [
      "\u001b[32m[1027 16:09:12 @base.py:285]\u001b[0m Epoch 79 (global_step 20737) finished, time:4.61 seconds.\n",
      "\u001b[32m[1027 16:09:12 @saver.py:79]\u001b[0m Model saved to ../output/Chicago/DATWGAN_300/model\\model-20737.\n",
      "\u001b[32m[1027 16:09:13 @monitor.py:467]\u001b[0m GAN_loss/d_loss: -0.13017\n",
      "\u001b[32m[1027 16:09:13 @monitor.py:467]\u001b[0m GAN_loss/g_loss: -0.050925\n",
      "\u001b[32m[1027 16:09:13 @monitor.py:467]\u001b[0m GAN_loss/kl_div: 0.095962\n",
      "\u001b[32m[1027 16:09:13 @monitor.py:467]\u001b[0m QueueInput/queue_size: 50\n",
      "\u001b[32m[1027 16:09:13 @base.py:275]\u001b[0m Start Epoch 80 ...\n"
     ]
    },
    {
     "name": "stderr",
     "output_type": "stream",
     "text": [
      "\n",
      "100%|###################################################################################|175/175[00:04<00:00,38.07it/s]"
     ]
    },
    {
     "name": "stdout",
     "output_type": "stream",
     "text": [
      "\u001b[32m[1027 16:09:17 @base.py:285]\u001b[0m Epoch 80 (global_step 20999) finished, time:4.6 seconds.\n",
      "\u001b[32m[1027 16:09:17 @saver.py:79]\u001b[0m Model saved to ../output/Chicago/DATWGAN_300/model\\model-20999.\n",
      "\u001b[32m[1027 16:09:17 @monitor.py:467]\u001b[0m GAN_loss/d_loss: -0.12959\n",
      "\u001b[32m[1027 16:09:17 @monitor.py:467]\u001b[0m GAN_loss/g_loss: -0.051593\n",
      "\u001b[32m[1027 16:09:17 @monitor.py:467]\u001b[0m GAN_loss/kl_div: 0.09694\n",
      "\u001b[32m[1027 16:09:17 @monitor.py:467]\u001b[0m QueueInput/queue_size: 50\n",
      "\u001b[32m[1027 16:09:17 @base.py:275]\u001b[0m Start Epoch 81 ...\n"
     ]
    },
    {
     "name": "stderr",
     "output_type": "stream",
     "text": [
      "\n",
      "100%|###################################################################################|175/175[00:04<00:00,37.94it/s]"
     ]
    },
    {
     "name": "stdout",
     "output_type": "stream",
     "text": [
      "\u001b[32m[1027 16:09:22 @base.py:285]\u001b[0m Epoch 81 (global_step 21262) finished, time:4.61 seconds.\n",
      "\u001b[32m[1027 16:09:22 @saver.py:79]\u001b[0m Model saved to ../output/Chicago/DATWGAN_300/model\\model-21262.\n",
      "\u001b[32m[1027 16:09:22 @monitor.py:467]\u001b[0m GAN_loss/d_loss: -0.12985\n",
      "\u001b[32m[1027 16:09:22 @monitor.py:467]\u001b[0m GAN_loss/g_loss: -0.051026\n",
      "\u001b[32m[1027 16:09:22 @monitor.py:467]\u001b[0m GAN_loss/kl_div: 0.10149\n",
      "\u001b[32m[1027 16:09:22 @monitor.py:467]\u001b[0m QueueInput/queue_size: 50\n",
      "\u001b[32m[1027 16:09:22 @base.py:275]\u001b[0m Start Epoch 82 ...\n"
     ]
    },
    {
     "name": "stderr",
     "output_type": "stream",
     "text": [
      "\n",
      "100%|###################################################################################|175/175[00:04<00:00,38.09it/s]"
     ]
    },
    {
     "name": "stdout",
     "output_type": "stream",
     "text": [
      "\u001b[32m[1027 16:09:26 @base.py:285]\u001b[0m Epoch 82 (global_step 21524) finished, time:4.59 seconds.\n",
      "\u001b[32m[1027 16:09:27 @saver.py:79]\u001b[0m Model saved to ../output/Chicago/DATWGAN_300/model\\model-21524.\n",
      "\u001b[32m[1027 16:09:27 @monitor.py:467]\u001b[0m GAN_loss/d_loss: -0.1291\n",
      "\u001b[32m[1027 16:09:27 @monitor.py:467]\u001b[0m GAN_loss/g_loss: -0.052694\n",
      "\u001b[32m[1027 16:09:27 @monitor.py:467]\u001b[0m GAN_loss/kl_div: 0.094569\n",
      "\u001b[32m[1027 16:09:27 @monitor.py:467]\u001b[0m QueueInput/queue_size: 50\n",
      "\u001b[32m[1027 16:09:27 @base.py:275]\u001b[0m Start Epoch 83 ...\n"
     ]
    },
    {
     "name": "stderr",
     "output_type": "stream",
     "text": [
      "\n",
      "100%|###################################################################################|175/175[00:04<00:00,37.94it/s]"
     ]
    },
    {
     "name": "stdout",
     "output_type": "stream",
     "text": [
      "\u001b[32m[1027 16:09:31 @base.py:285]\u001b[0m Epoch 83 (global_step 21787) finished, time:4.61 seconds.\n",
      "\u001b[32m[1027 16:09:31 @saver.py:79]\u001b[0m Model saved to ../output/Chicago/DATWGAN_300/model\\model-21787.\n",
      "\u001b[32m[1027 16:09:31 @monitor.py:467]\u001b[0m GAN_loss/d_loss: -0.12863\n",
      "\u001b[32m[1027 16:09:31 @monitor.py:467]\u001b[0m GAN_loss/g_loss: -0.052186\n",
      "\u001b[32m[1027 16:09:31 @monitor.py:467]\u001b[0m GAN_loss/kl_div: 0.097038\n",
      "\u001b[32m[1027 16:09:31 @monitor.py:467]\u001b[0m QueueInput/queue_size: 50\n",
      "\u001b[32m[1027 16:09:31 @base.py:275]\u001b[0m Start Epoch 84 ...\n"
     ]
    },
    {
     "name": "stderr",
     "output_type": "stream",
     "text": [
      "\n",
      "100%|###################################################################################|175/175[00:04<00:00,38.07it/s]"
     ]
    },
    {
     "name": "stdout",
     "output_type": "stream",
     "text": [
      "\u001b[32m[1027 16:09:36 @base.py:285]\u001b[0m Epoch 84 (global_step 22049) finished, time:4.6 seconds.\n",
      "\u001b[32m[1027 16:09:36 @saver.py:79]\u001b[0m Model saved to ../output/Chicago/DATWGAN_300/model\\model-22049.\n",
      "\u001b[32m[1027 16:09:36 @monitor.py:467]\u001b[0m GAN_loss/d_loss: -0.12663\n",
      "\u001b[32m[1027 16:09:36 @monitor.py:467]\u001b[0m GAN_loss/g_loss: -0.054923\n",
      "\u001b[32m[1027 16:09:36 @monitor.py:467]\u001b[0m GAN_loss/kl_div: 0.10082\n",
      "\u001b[32m[1027 16:09:36 @monitor.py:467]\u001b[0m QueueInput/queue_size: 50\n",
      "\u001b[32m[1027 16:09:36 @base.py:275]\u001b[0m Start Epoch 85 ...\n"
     ]
    },
    {
     "name": "stderr",
     "output_type": "stream",
     "text": [
      "\n",
      "100%|###################################################################################|175/175[00:04<00:00,37.97it/s]"
     ]
    },
    {
     "name": "stdout",
     "output_type": "stream",
     "text": [
      "\u001b[32m[1027 16:09:41 @base.py:285]\u001b[0m Epoch 85 (global_step 22312) finished, time:4.61 seconds.\n",
      "\u001b[32m[1027 16:09:41 @saver.py:79]\u001b[0m Model saved to ../output/Chicago/DATWGAN_300/model\\model-22312.\n",
      "\u001b[32m[1027 16:09:41 @monitor.py:467]\u001b[0m GAN_loss/d_loss: -0.12768\n",
      "\u001b[32m[1027 16:09:41 @monitor.py:467]\u001b[0m GAN_loss/g_loss: -0.052367\n",
      "\u001b[32m[1027 16:09:41 @monitor.py:467]\u001b[0m GAN_loss/kl_div: 0.090177\n",
      "\u001b[32m[1027 16:09:41 @monitor.py:467]\u001b[0m QueueInput/queue_size: 50\n",
      "\u001b[32m[1027 16:09:41 @base.py:275]\u001b[0m Start Epoch 86 ...\n"
     ]
    },
    {
     "name": "stderr",
     "output_type": "stream",
     "text": [
      "\n",
      "100%|###################################################################################|175/175[00:04<00:00,38.08it/s]"
     ]
    },
    {
     "name": "stdout",
     "output_type": "stream",
     "text": [
      "\u001b[32m[1027 16:09:45 @base.py:285]\u001b[0m Epoch 86 (global_step 22574) finished, time:4.6 seconds.\n",
      "\u001b[32m[1027 16:09:45 @saver.py:79]\u001b[0m Model saved to ../output/Chicago/DATWGAN_300/model\\model-22574.\n",
      "\u001b[32m[1027 16:09:45 @monitor.py:467]\u001b[0m GAN_loss/d_loss: -0.12609\n",
      "\u001b[32m[1027 16:09:45 @monitor.py:467]\u001b[0m GAN_loss/g_loss: -0.054229\n",
      "\u001b[32m[1027 16:09:45 @monitor.py:467]\u001b[0m GAN_loss/kl_div: 0.092508\n",
      "\u001b[32m[1027 16:09:45 @monitor.py:467]\u001b[0m QueueInput/queue_size: 50\n",
      "\u001b[32m[1027 16:09:45 @base.py:275]\u001b[0m Start Epoch 87 ...\n"
     ]
    },
    {
     "name": "stderr",
     "output_type": "stream",
     "text": [
      "\n",
      "100%|###################################################################################|175/175[00:04<00:00,37.95it/s]"
     ]
    },
    {
     "name": "stdout",
     "output_type": "stream",
     "text": [
      "\u001b[32m[1027 16:09:50 @base.py:285]\u001b[0m Epoch 87 (global_step 22837) finished, time:4.61 seconds.\n",
      "\u001b[32m[1027 16:09:50 @saver.py:79]\u001b[0m Model saved to ../output/Chicago/DATWGAN_300/model\\model-22837.\n",
      "\u001b[32m[1027 16:09:50 @monitor.py:467]\u001b[0m GAN_loss/d_loss: -0.127\n",
      "\u001b[32m[1027 16:09:50 @monitor.py:467]\u001b[0m GAN_loss/g_loss: -0.054799\n",
      "\u001b[32m[1027 16:09:50 @monitor.py:467]\u001b[0m GAN_loss/kl_div: 0.094484\n",
      "\u001b[32m[1027 16:09:50 @monitor.py:467]\u001b[0m QueueInput/queue_size: 50\n",
      "\u001b[32m[1027 16:09:50 @base.py:275]\u001b[0m Start Epoch 88 ...\n"
     ]
    },
    {
     "name": "stderr",
     "output_type": "stream",
     "text": [
      "\n",
      "100%|###################################################################################|175/175[00:04<00:00,38.06it/s]"
     ]
    },
    {
     "name": "stdout",
     "output_type": "stream",
     "text": [
      "\u001b[32m[1027 16:09:55 @base.py:285]\u001b[0m Epoch 88 (global_step 23099) finished, time:4.6 seconds.\n",
      "\u001b[32m[1027 16:09:55 @saver.py:79]\u001b[0m Model saved to ../output/Chicago/DATWGAN_300/model\\model-23099.\n",
      "\u001b[32m[1027 16:09:55 @monitor.py:467]\u001b[0m GAN_loss/d_loss: -0.12684\n",
      "\u001b[32m[1027 16:09:55 @monitor.py:467]\u001b[0m GAN_loss/g_loss: -0.053996\n",
      "\u001b[32m[1027 16:09:55 @monitor.py:467]\u001b[0m GAN_loss/kl_div: 0.097615\n",
      "\u001b[32m[1027 16:09:55 @monitor.py:467]\u001b[0m QueueInput/queue_size: 50\n",
      "\u001b[32m[1027 16:09:55 @base.py:275]\u001b[0m Start Epoch 89 ...\n"
     ]
    },
    {
     "name": "stderr",
     "output_type": "stream",
     "text": [
      "\n",
      "100%|###################################################################################|175/175[00:04<00:00,37.97it/s]"
     ]
    },
    {
     "name": "stdout",
     "output_type": "stream",
     "text": [
      "\u001b[32m[1027 16:09:59 @base.py:285]\u001b[0m Epoch 89 (global_step 23362) finished, time:4.61 seconds.\n",
      "\u001b[32m[1027 16:09:59 @saver.py:79]\u001b[0m Model saved to ../output/Chicago/DATWGAN_300/model\\model-23362.\n",
      "\u001b[32m[1027 16:09:59 @monitor.py:467]\u001b[0m GAN_loss/d_loss: -0.12622\n",
      "\u001b[32m[1027 16:09:59 @monitor.py:467]\u001b[0m GAN_loss/g_loss: -0.054506\n",
      "\u001b[32m[1027 16:09:59 @monitor.py:467]\u001b[0m GAN_loss/kl_div: 0.091356\n",
      "\u001b[32m[1027 16:09:59 @monitor.py:467]\u001b[0m QueueInput/queue_size: 50\n",
      "\u001b[32m[1027 16:09:59 @base.py:275]\u001b[0m Start Epoch 90 ...\n"
     ]
    },
    {
     "name": "stderr",
     "output_type": "stream",
     "text": [
      "\n",
      "100%|###################################################################################|175/175[00:04<00:00,38.08it/s]"
     ]
    },
    {
     "name": "stdout",
     "output_type": "stream",
     "text": [
      "\u001b[32m[1027 16:10:04 @base.py:285]\u001b[0m Epoch 90 (global_step 23624) finished, time:4.6 seconds.\n",
      "\u001b[32m[1027 16:10:04 @saver.py:79]\u001b[0m Model saved to ../output/Chicago/DATWGAN_300/model\\model-23624.\n",
      "\u001b[32m[1027 16:10:04 @monitor.py:467]\u001b[0m GAN_loss/d_loss: -0.12523\n",
      "\u001b[32m[1027 16:10:04 @monitor.py:467]\u001b[0m GAN_loss/g_loss: -0.054897\n",
      "\u001b[32m[1027 16:10:04 @monitor.py:467]\u001b[0m GAN_loss/kl_div: 0.10374\n",
      "\u001b[32m[1027 16:10:04 @monitor.py:467]\u001b[0m QueueInput/queue_size: 50\n",
      "\u001b[32m[1027 16:10:04 @base.py:275]\u001b[0m Start Epoch 91 ...\n"
     ]
    },
    {
     "name": "stderr",
     "output_type": "stream",
     "text": [
      "\n",
      "100%|###################################################################################|175/175[00:04<00:00,37.96it/s]"
     ]
    },
    {
     "name": "stdout",
     "output_type": "stream",
     "text": [
      "\u001b[32m[1027 16:10:09 @base.py:285]\u001b[0m Epoch 91 (global_step 23887) finished, time:4.61 seconds.\n",
      "\u001b[32m[1027 16:10:09 @saver.py:79]\u001b[0m Model saved to ../output/Chicago/DATWGAN_300/model\\model-23887.\n",
      "\u001b[32m[1027 16:10:09 @monitor.py:467]\u001b[0m GAN_loss/d_loss: -0.12568\n",
      "\u001b[32m[1027 16:10:09 @monitor.py:467]\u001b[0m GAN_loss/g_loss: -0.055346\n",
      "\u001b[32m[1027 16:10:09 @monitor.py:467]\u001b[0m GAN_loss/kl_div: 0.091929\n",
      "\u001b[32m[1027 16:10:09 @monitor.py:467]\u001b[0m QueueInput/queue_size: 50\n",
      "\u001b[32m[1027 16:10:09 @base.py:275]\u001b[0m Start Epoch 92 ...\n"
     ]
    },
    {
     "name": "stderr",
     "output_type": "stream",
     "text": [
      "\n",
      "100%|###################################################################################|175/175[00:04<00:00,38.07it/s]"
     ]
    },
    {
     "name": "stdout",
     "output_type": "stream",
     "text": [
      "\u001b[32m[1027 16:10:13 @base.py:285]\u001b[0m Epoch 92 (global_step 24149) finished, time:4.6 seconds.\n",
      "\u001b[32m[1027 16:10:14 @saver.py:79]\u001b[0m Model saved to ../output/Chicago/DATWGAN_300/model\\model-24149.\n",
      "\u001b[32m[1027 16:10:14 @monitor.py:467]\u001b[0m GAN_loss/d_loss: -0.12337\n",
      "\u001b[32m[1027 16:10:14 @monitor.py:467]\u001b[0m GAN_loss/g_loss: -0.056059\n",
      "\u001b[32m[1027 16:10:14 @monitor.py:467]\u001b[0m GAN_loss/kl_div: 0.098607\n",
      "\u001b[32m[1027 16:10:14 @monitor.py:467]\u001b[0m QueueInput/queue_size: 50\n",
      "\u001b[32m[1027 16:10:14 @base.py:275]\u001b[0m Start Epoch 93 ...\n"
     ]
    },
    {
     "name": "stderr",
     "output_type": "stream",
     "text": [
      "\n",
      "100%|###################################################################################|175/175[00:04<00:00,37.37it/s]"
     ]
    },
    {
     "name": "stdout",
     "output_type": "stream",
     "text": [
      "\u001b[32m[1027 16:10:18 @base.py:285]\u001b[0m Epoch 93 (global_step 24412) finished, time:4.68 seconds.\n",
      "\u001b[32m[1027 16:10:18 @saver.py:79]\u001b[0m Model saved to ../output/Chicago/DATWGAN_300/model\\model-24412.\n",
      "\u001b[32m[1027 16:10:18 @monitor.py:467]\u001b[0m GAN_loss/d_loss: -0.12261\n",
      "\u001b[32m[1027 16:10:18 @monitor.py:467]\u001b[0m GAN_loss/g_loss: -0.056365\n",
      "\u001b[32m[1027 16:10:18 @monitor.py:467]\u001b[0m GAN_loss/kl_div: 0.093967\n",
      "\u001b[32m[1027 16:10:18 @monitor.py:467]\u001b[0m QueueInput/queue_size: 50\n",
      "\u001b[32m[1027 16:10:18 @base.py:275]\u001b[0m Start Epoch 94 ...\n"
     ]
    },
    {
     "name": "stderr",
     "output_type": "stream",
     "text": [
      "\n",
      "100%|###################################################################################|175/175[00:04<00:00,37.63it/s]"
     ]
    },
    {
     "name": "stdout",
     "output_type": "stream",
     "text": [
      "\u001b[32m[1027 16:10:23 @base.py:285]\u001b[0m Epoch 94 (global_step 24674) finished, time:4.65 seconds.\n",
      "\u001b[32m[1027 16:10:23 @saver.py:79]\u001b[0m Model saved to ../output/Chicago/DATWGAN_300/model\\model-24674.\n",
      "\u001b[32m[1027 16:10:23 @monitor.py:467]\u001b[0m GAN_loss/d_loss: -0.12226\n",
      "\u001b[32m[1027 16:10:23 @monitor.py:467]\u001b[0m GAN_loss/g_loss: -0.05764\n",
      "\u001b[32m[1027 16:10:23 @monitor.py:467]\u001b[0m GAN_loss/kl_div: 0.098849\n",
      "\u001b[32m[1027 16:10:23 @monitor.py:467]\u001b[0m QueueInput/queue_size: 50\n",
      "\u001b[32m[1027 16:10:23 @base.py:275]\u001b[0m Start Epoch 95 ...\n"
     ]
    },
    {
     "name": "stderr",
     "output_type": "stream",
     "text": [
      "\n",
      "100%|###################################################################################|175/175[00:04<00:00,37.61it/s]"
     ]
    },
    {
     "name": "stdout",
     "output_type": "stream",
     "text": [
      "\u001b[32m[1027 16:10:28 @base.py:285]\u001b[0m Epoch 95 (global_step 24937) finished, time:4.65 seconds.\n",
      "\u001b[32m[1027 16:10:28 @saver.py:79]\u001b[0m Model saved to ../output/Chicago/DATWGAN_300/model\\model-24937.\n",
      "\u001b[32m[1027 16:10:28 @monitor.py:467]\u001b[0m GAN_loss/d_loss: -0.12418\n",
      "\u001b[32m[1027 16:10:28 @monitor.py:467]\u001b[0m GAN_loss/g_loss: -0.057857\n",
      "\u001b[32m[1027 16:10:28 @monitor.py:467]\u001b[0m GAN_loss/kl_div: 0.094583\n",
      "\u001b[32m[1027 16:10:28 @monitor.py:467]\u001b[0m QueueInput/queue_size: 50\n",
      "\u001b[32m[1027 16:10:28 @base.py:275]\u001b[0m Start Epoch 96 ...\n"
     ]
    },
    {
     "name": "stderr",
     "output_type": "stream",
     "text": [
      "\n",
      "100%|###################################################################################|175/175[00:04<00:00,37.82it/s]"
     ]
    },
    {
     "name": "stdout",
     "output_type": "stream",
     "text": [
      "\u001b[32m[1027 16:10:32 @base.py:285]\u001b[0m Epoch 96 (global_step 25199) finished, time:4.63 seconds.\n",
      "\u001b[32m[1027 16:10:32 @saver.py:79]\u001b[0m Model saved to ../output/Chicago/DATWGAN_300/model\\model-25199.\n",
      "\u001b[32m[1027 16:10:32 @monitor.py:467]\u001b[0m GAN_loss/d_loss: -0.12226\n",
      "\u001b[32m[1027 16:10:32 @monitor.py:467]\u001b[0m GAN_loss/g_loss: -0.058121\n",
      "\u001b[32m[1027 16:10:32 @monitor.py:467]\u001b[0m GAN_loss/kl_div: 0.10049\n",
      "\u001b[32m[1027 16:10:32 @monitor.py:467]\u001b[0m QueueInput/queue_size: 50\n",
      "\u001b[32m[1027 16:10:32 @base.py:275]\u001b[0m Start Epoch 97 ...\n"
     ]
    },
    {
     "name": "stderr",
     "output_type": "stream",
     "text": [
      "\n",
      "100%|###################################################################################|175/175[00:04<00:00,37.94it/s]"
     ]
    },
    {
     "name": "stdout",
     "output_type": "stream",
     "text": [
      "\u001b[32m[1027 16:10:37 @base.py:285]\u001b[0m Epoch 97 (global_step 25462) finished, time:4.61 seconds.\n",
      "\u001b[32m[1027 16:10:37 @saver.py:79]\u001b[0m Model saved to ../output/Chicago/DATWGAN_300/model\\model-25462.\n",
      "\u001b[32m[1027 16:10:37 @monitor.py:467]\u001b[0m GAN_loss/d_loss: -0.12174\n",
      "\u001b[32m[1027 16:10:37 @monitor.py:467]\u001b[0m GAN_loss/g_loss: -0.057778\n",
      "\u001b[32m[1027 16:10:37 @monitor.py:467]\u001b[0m GAN_loss/kl_div: 0.10225\n",
      "\u001b[32m[1027 16:10:37 @monitor.py:467]\u001b[0m QueueInput/queue_size: 50\n",
      "\u001b[32m[1027 16:10:37 @base.py:275]\u001b[0m Start Epoch 98 ...\n"
     ]
    },
    {
     "name": "stderr",
     "output_type": "stream",
     "text": [
      "\n",
      "100%|###################################################################################|175/175[00:04<00:00,38.06it/s]"
     ]
    },
    {
     "name": "stdout",
     "output_type": "stream",
     "text": [
      "\u001b[32m[1027 16:10:42 @base.py:285]\u001b[0m Epoch 98 (global_step 25724) finished, time:4.6 seconds.\n",
      "\u001b[32m[1027 16:10:42 @saver.py:79]\u001b[0m Model saved to ../output/Chicago/DATWGAN_300/model\\model-25724.\n",
      "\u001b[32m[1027 16:10:42 @monitor.py:467]\u001b[0m GAN_loss/d_loss: -0.11995\n",
      "\u001b[32m[1027 16:10:42 @monitor.py:467]\u001b[0m GAN_loss/g_loss: -0.059482\n",
      "\u001b[32m[1027 16:10:42 @monitor.py:467]\u001b[0m GAN_loss/kl_div: 0.096028\n",
      "\u001b[32m[1027 16:10:42 @monitor.py:467]\u001b[0m QueueInput/queue_size: 50\n",
      "\u001b[32m[1027 16:10:42 @base.py:275]\u001b[0m Start Epoch 99 ...\n"
     ]
    },
    {
     "name": "stderr",
     "output_type": "stream",
     "text": [
      "\n",
      "100%|###################################################################################|175/175[00:04<00:00,37.95it/s]"
     ]
    },
    {
     "name": "stdout",
     "output_type": "stream",
     "text": [
      "\u001b[32m[1027 16:10:46 @base.py:285]\u001b[0m Epoch 99 (global_step 25987) finished, time:4.61 seconds.\n",
      "\u001b[32m[1027 16:10:47 @saver.py:79]\u001b[0m Model saved to ../output/Chicago/DATWGAN_300/model\\model-25987.\n",
      "\u001b[32m[1027 16:10:47 @monitor.py:467]\u001b[0m GAN_loss/d_loss: -0.12008\n",
      "\u001b[32m[1027 16:10:47 @monitor.py:467]\u001b[0m GAN_loss/g_loss: -0.059373\n",
      "\u001b[32m[1027 16:10:47 @monitor.py:467]\u001b[0m GAN_loss/kl_div: 0.095013\n",
      "\u001b[32m[1027 16:10:47 @monitor.py:467]\u001b[0m QueueInput/queue_size: 50\n",
      "\u001b[32m[1027 16:10:47 @base.py:275]\u001b[0m Start Epoch 100 ...\n"
     ]
    },
    {
     "name": "stderr",
     "output_type": "stream",
     "text": [
      "\n",
      "100%|###################################################################################|175/175[00:04<00:00,38.09it/s]"
     ]
    },
    {
     "name": "stdout",
     "output_type": "stream",
     "text": [
      "\u001b[32m[1027 16:10:51 @base.py:285]\u001b[0m Epoch 100 (global_step 26249) finished, time:4.6 seconds.\n",
      "\u001b[32m[1027 16:10:51 @saver.py:79]\u001b[0m Model saved to ../output/Chicago/DATWGAN_300/model\\model-26249.\n",
      "\u001b[32m[1027 16:10:51 @monitor.py:467]\u001b[0m GAN_loss/d_loss: -0.12055\n",
      "\u001b[32m[1027 16:10:51 @monitor.py:467]\u001b[0m GAN_loss/g_loss: -0.059318\n",
      "\u001b[32m[1027 16:10:51 @monitor.py:467]\u001b[0m GAN_loss/kl_div: 0.097118\n",
      "\u001b[32m[1027 16:10:51 @monitor.py:467]\u001b[0m QueueInput/queue_size: 50\n",
      "\u001b[32m[1027 16:10:51 @base.py:275]\u001b[0m Start Epoch 101 ...\n"
     ]
    },
    {
     "name": "stderr",
     "output_type": "stream",
     "text": [
      "\n",
      "100%|###################################################################################|175/175[00:04<00:00,37.96it/s]"
     ]
    },
    {
     "name": "stdout",
     "output_type": "stream",
     "text": [
      "\u001b[32m[1027 16:10:56 @base.py:285]\u001b[0m Epoch 101 (global_step 26512) finished, time:4.61 seconds.\n",
      "\u001b[32m[1027 16:10:56 @saver.py:79]\u001b[0m Model saved to ../output/Chicago/DATWGAN_300/model\\model-26512.\n",
      "\u001b[32m[1027 16:10:56 @monitor.py:467]\u001b[0m GAN_loss/d_loss: -0.12081\n",
      "\u001b[32m[1027 16:10:56 @monitor.py:467]\u001b[0m GAN_loss/g_loss: -0.058786\n",
      "\u001b[32m[1027 16:10:56 @monitor.py:467]\u001b[0m GAN_loss/kl_div: 0.096785\n",
      "\u001b[32m[1027 16:10:56 @monitor.py:467]\u001b[0m QueueInput/queue_size: 50\n",
      "\u001b[32m[1027 16:10:56 @base.py:275]\u001b[0m Start Epoch 102 ...\n"
     ]
    },
    {
     "name": "stderr",
     "output_type": "stream",
     "text": [
      "\n",
      "100%|###################################################################################|175/175[00:04<00:00,38.05it/s]"
     ]
    },
    {
     "name": "stdout",
     "output_type": "stream",
     "text": [
      "\u001b[32m[1027 16:11:01 @base.py:285]\u001b[0m Epoch 102 (global_step 26774) finished, time:4.6 seconds.\n",
      "\u001b[32m[1027 16:11:01 @saver.py:79]\u001b[0m Model saved to ../output/Chicago/DATWGAN_300/model\\model-26774.\n",
      "\u001b[32m[1027 16:11:01 @monitor.py:467]\u001b[0m GAN_loss/d_loss: -0.12071\n",
      "\u001b[32m[1027 16:11:01 @monitor.py:467]\u001b[0m GAN_loss/g_loss: -0.05997\n",
      "\u001b[32m[1027 16:11:01 @monitor.py:467]\u001b[0m GAN_loss/kl_div: 0.10377\n",
      "\u001b[32m[1027 16:11:01 @monitor.py:467]\u001b[0m QueueInput/queue_size: 50\n",
      "\u001b[32m[1027 16:11:01 @base.py:275]\u001b[0m Start Epoch 103 ...\n"
     ]
    },
    {
     "name": "stderr",
     "output_type": "stream",
     "text": [
      "\n",
      "100%|###################################################################################|175/175[00:04<00:00,37.96it/s]"
     ]
    },
    {
     "name": "stdout",
     "output_type": "stream",
     "text": [
      "\u001b[32m[1027 16:11:05 @base.py:285]\u001b[0m Epoch 103 (global_step 27037) finished, time:4.61 seconds.\n",
      "\u001b[32m[1027 16:11:05 @saver.py:79]\u001b[0m Model saved to ../output/Chicago/DATWGAN_300/model\\model-27037.\n",
      "\u001b[32m[1027 16:11:05 @monitor.py:467]\u001b[0m GAN_loss/d_loss: -0.11877\n",
      "\u001b[32m[1027 16:11:05 @monitor.py:467]\u001b[0m GAN_loss/g_loss: -0.061081\n",
      "\u001b[32m[1027 16:11:05 @monitor.py:467]\u001b[0m GAN_loss/kl_div: 0.098515\n",
      "\u001b[32m[1027 16:11:05 @monitor.py:467]\u001b[0m QueueInput/queue_size: 50\n",
      "\u001b[32m[1027 16:11:05 @base.py:275]\u001b[0m Start Epoch 104 ...\n"
     ]
    },
    {
     "name": "stderr",
     "output_type": "stream",
     "text": [
      "\n",
      "100%|###################################################################################|175/175[00:04<00:00,38.07it/s]"
     ]
    },
    {
     "name": "stdout",
     "output_type": "stream",
     "text": [
      "\u001b[32m[1027 16:11:10 @base.py:285]\u001b[0m Epoch 104 (global_step 27299) finished, time:4.6 seconds.\n",
      "\u001b[32m[1027 16:11:10 @saver.py:79]\u001b[0m Model saved to ../output/Chicago/DATWGAN_300/model\\model-27299.\n",
      "\u001b[32m[1027 16:11:10 @monitor.py:467]\u001b[0m GAN_loss/d_loss: -0.12077\n",
      "\u001b[32m[1027 16:11:10 @monitor.py:467]\u001b[0m GAN_loss/g_loss: -0.060509\n",
      "\u001b[32m[1027 16:11:10 @monitor.py:467]\u001b[0m GAN_loss/kl_div: 0.091517\n",
      "\u001b[32m[1027 16:11:10 @monitor.py:467]\u001b[0m QueueInput/queue_size: 50\n",
      "\u001b[32m[1027 16:11:10 @base.py:275]\u001b[0m Start Epoch 105 ...\n"
     ]
    },
    {
     "name": "stderr",
     "output_type": "stream",
     "text": [
      "\n",
      "100%|###################################################################################|175/175[00:04<00:00,37.96it/s]"
     ]
    },
    {
     "name": "stdout",
     "output_type": "stream",
     "text": [
      "\u001b[32m[1027 16:11:15 @base.py:285]\u001b[0m Epoch 105 (global_step 27562) finished, time:4.61 seconds.\n",
      "\u001b[32m[1027 16:11:15 @saver.py:79]\u001b[0m Model saved to ../output/Chicago/DATWGAN_300/model\\model-27562.\n",
      "\u001b[32m[1027 16:11:15 @monitor.py:467]\u001b[0m GAN_loss/d_loss: -0.1184\n",
      "\u001b[32m[1027 16:11:15 @monitor.py:467]\u001b[0m GAN_loss/g_loss: -0.062066\n",
      "\u001b[32m[1027 16:11:15 @monitor.py:467]\u001b[0m GAN_loss/kl_div: 0.1011\n",
      "\u001b[32m[1027 16:11:15 @monitor.py:467]\u001b[0m QueueInput/queue_size: 50\n",
      "\u001b[32m[1027 16:11:15 @base.py:275]\u001b[0m Start Epoch 106 ...\n"
     ]
    },
    {
     "name": "stderr",
     "output_type": "stream",
     "text": [
      "\n",
      "100%|###################################################################################|175/175[00:04<00:00,38.09it/s]"
     ]
    },
    {
     "name": "stdout",
     "output_type": "stream",
     "text": [
      "\u001b[32m[1027 16:11:19 @base.py:285]\u001b[0m Epoch 106 (global_step 27824) finished, time:4.6 seconds.\n",
      "\u001b[32m[1027 16:11:19 @saver.py:79]\u001b[0m Model saved to ../output/Chicago/DATWGAN_300/model\\model-27824.\n",
      "\u001b[32m[1027 16:11:19 @monitor.py:467]\u001b[0m GAN_loss/d_loss: -0.11714\n",
      "\u001b[32m[1027 16:11:19 @monitor.py:467]\u001b[0m GAN_loss/g_loss: -0.062328\n",
      "\u001b[32m[1027 16:11:19 @monitor.py:467]\u001b[0m GAN_loss/kl_div: 0.096917\n",
      "\u001b[32m[1027 16:11:19 @monitor.py:467]\u001b[0m QueueInput/queue_size: 50\n",
      "\u001b[32m[1027 16:11:19 @base.py:275]\u001b[0m Start Epoch 107 ...\n"
     ]
    },
    {
     "name": "stderr",
     "output_type": "stream",
     "text": [
      "\n",
      "100%|###################################################################################|175/175[00:04<00:00,37.97it/s]"
     ]
    },
    {
     "name": "stdout",
     "output_type": "stream",
     "text": [
      "\u001b[32m[1027 16:11:24 @base.py:285]\u001b[0m Epoch 107 (global_step 28087) finished, time:4.61 seconds.\n",
      "\u001b[32m[1027 16:11:24 @saver.py:79]\u001b[0m Model saved to ../output/Chicago/DATWGAN_300/model\\model-28087.\n",
      "\u001b[32m[1027 16:11:24 @monitor.py:467]\u001b[0m GAN_loss/d_loss: -0.11851\n",
      "\u001b[32m[1027 16:11:24 @monitor.py:467]\u001b[0m GAN_loss/g_loss: -0.061758\n",
      "\u001b[32m[1027 16:11:24 @monitor.py:467]\u001b[0m GAN_loss/kl_div: 0.097533\n",
      "\u001b[32m[1027 16:11:24 @monitor.py:467]\u001b[0m QueueInput/queue_size: 50\n",
      "\u001b[32m[1027 16:11:24 @base.py:275]\u001b[0m Start Epoch 108 ...\n"
     ]
    },
    {
     "name": "stderr",
     "output_type": "stream",
     "text": [
      "\n",
      "100%|###################################################################################|175/175[00:04<00:00,38.08it/s]"
     ]
    },
    {
     "name": "stdout",
     "output_type": "stream",
     "text": [
      "\u001b[32m[1027 16:11:29 @base.py:285]\u001b[0m Epoch 108 (global_step 28349) finished, time:4.6 seconds.\n",
      "\u001b[32m[1027 16:11:29 @saver.py:79]\u001b[0m Model saved to ../output/Chicago/DATWGAN_300/model\\model-28349.\n",
      "\u001b[32m[1027 16:11:29 @monitor.py:467]\u001b[0m GAN_loss/d_loss: -0.11726\n",
      "\u001b[32m[1027 16:11:29 @monitor.py:467]\u001b[0m GAN_loss/g_loss: -0.061599\n",
      "\u001b[32m[1027 16:11:29 @monitor.py:467]\u001b[0m GAN_loss/kl_div: 0.095889\n",
      "\u001b[32m[1027 16:11:29 @monitor.py:467]\u001b[0m QueueInput/queue_size: 50\n",
      "\u001b[32m[1027 16:11:29 @base.py:275]\u001b[0m Start Epoch 109 ...\n"
     ]
    },
    {
     "name": "stderr",
     "output_type": "stream",
     "text": [
      "\n",
      "100%|###################################################################################|175/175[00:04<00:00,37.89it/s]"
     ]
    },
    {
     "name": "stdout",
     "output_type": "stream",
     "text": [
      "\u001b[32m[1027 16:11:33 @base.py:285]\u001b[0m Epoch 109 (global_step 28612) finished, time:4.62 seconds.\n",
      "\u001b[32m[1027 16:11:33 @saver.py:79]\u001b[0m Model saved to ../output/Chicago/DATWGAN_300/model\\model-28612.\n",
      "\u001b[32m[1027 16:11:33 @monitor.py:467]\u001b[0m GAN_loss/d_loss: -0.11798\n",
      "\u001b[32m[1027 16:11:33 @monitor.py:467]\u001b[0m GAN_loss/g_loss: -0.063005\n",
      "\u001b[32m[1027 16:11:33 @monitor.py:467]\u001b[0m GAN_loss/kl_div: 0.098719\n",
      "\u001b[32m[1027 16:11:33 @monitor.py:467]\u001b[0m QueueInput/queue_size: 50\n",
      "\u001b[32m[1027 16:11:33 @base.py:275]\u001b[0m Start Epoch 110 ...\n"
     ]
    },
    {
     "name": "stderr",
     "output_type": "stream",
     "text": [
      "\n",
      "100%|###################################################################################|175/175[00:04<00:00,38.09it/s]"
     ]
    },
    {
     "name": "stdout",
     "output_type": "stream",
     "text": [
      "\u001b[32m[1027 16:11:38 @base.py:285]\u001b[0m Epoch 110 (global_step 28874) finished, time:4.59 seconds.\n",
      "\u001b[32m[1027 16:11:38 @saver.py:79]\u001b[0m Model saved to ../output/Chicago/DATWGAN_300/model\\model-28874.\n",
      "\u001b[32m[1027 16:11:38 @monitor.py:467]\u001b[0m GAN_loss/d_loss: -0.11758\n",
      "\u001b[32m[1027 16:11:38 @monitor.py:467]\u001b[0m GAN_loss/g_loss: -0.06295\n",
      "\u001b[32m[1027 16:11:38 @monitor.py:467]\u001b[0m GAN_loss/kl_div: 0.093401\n",
      "\u001b[32m[1027 16:11:38 @monitor.py:467]\u001b[0m QueueInput/queue_size: 50\n",
      "\u001b[32m[1027 16:11:38 @base.py:275]\u001b[0m Start Epoch 111 ...\n"
     ]
    },
    {
     "name": "stderr",
     "output_type": "stream",
     "text": [
      "\n",
      "100%|###################################################################################|175/175[00:04<00:00,37.93it/s]"
     ]
    },
    {
     "name": "stdout",
     "output_type": "stream",
     "text": [
      "\u001b[32m[1027 16:11:43 @base.py:285]\u001b[0m Epoch 111 (global_step 29137) finished, time:4.61 seconds.\n",
      "\u001b[32m[1027 16:11:43 @saver.py:79]\u001b[0m Model saved to ../output/Chicago/DATWGAN_300/model\\model-29137.\n",
      "\u001b[32m[1027 16:11:43 @monitor.py:467]\u001b[0m GAN_loss/d_loss: -0.11553\n",
      "\u001b[32m[1027 16:11:43 @monitor.py:467]\u001b[0m GAN_loss/g_loss: -0.063341\n",
      "\u001b[32m[1027 16:11:43 @monitor.py:467]\u001b[0m GAN_loss/kl_div: 0.094432\n",
      "\u001b[32m[1027 16:11:43 @monitor.py:467]\u001b[0m QueueInput/queue_size: 50\n",
      "\u001b[32m[1027 16:11:43 @base.py:275]\u001b[0m Start Epoch 112 ...\n"
     ]
    },
    {
     "name": "stderr",
     "output_type": "stream",
     "text": [
      "\n",
      "100%|###################################################################################|175/175[00:04<00:00,38.08it/s]"
     ]
    },
    {
     "name": "stdout",
     "output_type": "stream",
     "text": [
      "\u001b[32m[1027 16:11:47 @base.py:285]\u001b[0m Epoch 112 (global_step 29399) finished, time:4.6 seconds.\n",
      "\u001b[32m[1027 16:11:48 @saver.py:79]\u001b[0m Model saved to ../output/Chicago/DATWGAN_300/model\\model-29399.\n",
      "\u001b[32m[1027 16:11:48 @monitor.py:467]\u001b[0m GAN_loss/d_loss: -0.11532\n",
      "\u001b[32m[1027 16:11:48 @monitor.py:467]\u001b[0m GAN_loss/g_loss: -0.062997\n",
      "\u001b[32m[1027 16:11:48 @monitor.py:467]\u001b[0m GAN_loss/kl_div: 0.098571\n",
      "\u001b[32m[1027 16:11:48 @monitor.py:467]\u001b[0m QueueInput/queue_size: 50\n",
      "\u001b[32m[1027 16:11:48 @base.py:275]\u001b[0m Start Epoch 113 ...\n"
     ]
    },
    {
     "name": "stderr",
     "output_type": "stream",
     "text": [
      "\n",
      "100%|###################################################################################|175/175[00:04<00:00,37.94it/s]"
     ]
    },
    {
     "name": "stdout",
     "output_type": "stream",
     "text": [
      "\u001b[32m[1027 16:11:52 @base.py:285]\u001b[0m Epoch 113 (global_step 29662) finished, time:4.61 seconds.\n",
      "\u001b[32m[1027 16:11:52 @saver.py:79]\u001b[0m Model saved to ../output/Chicago/DATWGAN_300/model\\model-29662.\n",
      "\u001b[32m[1027 16:11:52 @monitor.py:467]\u001b[0m GAN_loss/d_loss: -0.11635\n",
      "\u001b[32m[1027 16:11:52 @monitor.py:467]\u001b[0m GAN_loss/g_loss: -0.063987\n",
      "\u001b[32m[1027 16:11:52 @monitor.py:467]\u001b[0m GAN_loss/kl_div: 0.097506\n",
      "\u001b[32m[1027 16:11:52 @monitor.py:467]\u001b[0m QueueInput/queue_size: 50\n",
      "\u001b[32m[1027 16:11:52 @base.py:275]\u001b[0m Start Epoch 114 ...\n"
     ]
    },
    {
     "name": "stderr",
     "output_type": "stream",
     "text": [
      "\n",
      "100%|###################################################################################|175/175[00:04<00:00,37.84it/s]"
     ]
    },
    {
     "name": "stdout",
     "output_type": "stream",
     "text": [
      "\u001b[32m[1027 16:11:57 @base.py:285]\u001b[0m Epoch 114 (global_step 29924) finished, time:4.63 seconds.\n",
      "\u001b[32m[1027 16:11:57 @saver.py:79]\u001b[0m Model saved to ../output/Chicago/DATWGAN_300/model\\model-29924.\n",
      "\u001b[32m[1027 16:11:57 @monitor.py:467]\u001b[0m GAN_loss/d_loss: -0.11528\n",
      "\u001b[32m[1027 16:11:57 @monitor.py:467]\u001b[0m GAN_loss/g_loss: -0.064624\n",
      "\u001b[32m[1027 16:11:57 @monitor.py:467]\u001b[0m GAN_loss/kl_div: 0.096871\n",
      "\u001b[32m[1027 16:11:57 @monitor.py:467]\u001b[0m QueueInput/queue_size: 50\n",
      "\u001b[32m[1027 16:11:57 @base.py:275]\u001b[0m Start Epoch 115 ...\n"
     ]
    },
    {
     "name": "stderr",
     "output_type": "stream",
     "text": [
      "\n",
      "100%|###################################################################################|175/175[00:04<00:00,37.89it/s]"
     ]
    },
    {
     "name": "stdout",
     "output_type": "stream",
     "text": [
      "\u001b[32m[1027 16:12:02 @base.py:285]\u001b[0m Epoch 115 (global_step 30187) finished, time:4.62 seconds.\n",
      "\u001b[32m[1027 16:12:02 @saver.py:79]\u001b[0m Model saved to ../output/Chicago/DATWGAN_300/model\\model-30187.\n",
      "\u001b[32m[1027 16:12:02 @monitor.py:467]\u001b[0m GAN_loss/d_loss: -0.11598\n",
      "\u001b[32m[1027 16:12:02 @monitor.py:467]\u001b[0m GAN_loss/g_loss: -0.063963\n",
      "\u001b[32m[1027 16:12:02 @monitor.py:467]\u001b[0m GAN_loss/kl_div: 0.10102\n",
      "\u001b[32m[1027 16:12:02 @monitor.py:467]\u001b[0m QueueInput/queue_size: 50\n",
      "\u001b[32m[1027 16:12:02 @base.py:275]\u001b[0m Start Epoch 116 ...\n"
     ]
    },
    {
     "name": "stderr",
     "output_type": "stream",
     "text": [
      "\n",
      "100%|###################################################################################|175/175[00:04<00:00,37.69it/s]"
     ]
    },
    {
     "name": "stdout",
     "output_type": "stream",
     "text": [
      "\u001b[32m[1027 16:12:06 @base.py:285]\u001b[0m Epoch 116 (global_step 30449) finished, time:4.64 seconds.\n",
      "\u001b[32m[1027 16:12:06 @saver.py:79]\u001b[0m Model saved to ../output/Chicago/DATWGAN_300/model\\model-30449.\n",
      "\u001b[32m[1027 16:12:06 @monitor.py:467]\u001b[0m GAN_loss/d_loss: -0.11437\n",
      "\u001b[32m[1027 16:12:06 @monitor.py:467]\u001b[0m GAN_loss/g_loss: -0.065491\n",
      "\u001b[32m[1027 16:12:06 @monitor.py:467]\u001b[0m GAN_loss/kl_div: 0.090456\n",
      "\u001b[32m[1027 16:12:06 @monitor.py:467]\u001b[0m QueueInput/queue_size: 50\n",
      "\u001b[32m[1027 16:12:06 @base.py:275]\u001b[0m Start Epoch 117 ...\n"
     ]
    },
    {
     "name": "stderr",
     "output_type": "stream",
     "text": [
      "\n",
      "100%|###################################################################################|175/175[00:04<00:00,37.97it/s]"
     ]
    },
    {
     "name": "stdout",
     "output_type": "stream",
     "text": [
      "\u001b[32m[1027 16:12:11 @base.py:285]\u001b[0m Epoch 117 (global_step 30712) finished, time:4.61 seconds.\n",
      "\u001b[32m[1027 16:12:11 @saver.py:79]\u001b[0m Model saved to ../output/Chicago/DATWGAN_300/model\\model-30712.\n",
      "\u001b[32m[1027 16:12:11 @monitor.py:467]\u001b[0m GAN_loss/d_loss: -0.11407\n",
      "\u001b[32m[1027 16:12:11 @monitor.py:467]\u001b[0m GAN_loss/g_loss: -0.064056\n",
      "\u001b[32m[1027 16:12:11 @monitor.py:467]\u001b[0m GAN_loss/kl_div: 0.10519\n",
      "\u001b[32m[1027 16:12:11 @monitor.py:467]\u001b[0m QueueInput/queue_size: 50\n",
      "\u001b[32m[1027 16:12:11 @base.py:275]\u001b[0m Start Epoch 118 ...\n"
     ]
    },
    {
     "name": "stderr",
     "output_type": "stream",
     "text": [
      "\n",
      "100%|###################################################################################|175/175[00:04<00:00,37.87it/s]"
     ]
    },
    {
     "name": "stdout",
     "output_type": "stream",
     "text": [
      "\u001b[32m[1027 16:12:16 @base.py:285]\u001b[0m Epoch 118 (global_step 30974) finished, time:4.62 seconds.\n",
      "\u001b[32m[1027 16:12:16 @saver.py:79]\u001b[0m Model saved to ../output/Chicago/DATWGAN_300/model\\model-30974.\n",
      "\u001b[32m[1027 16:12:16 @monitor.py:467]\u001b[0m GAN_loss/d_loss: -0.11444\n",
      "\u001b[32m[1027 16:12:16 @monitor.py:467]\u001b[0m GAN_loss/g_loss: -0.065797\n",
      "\u001b[32m[1027 16:12:16 @monitor.py:467]\u001b[0m GAN_loss/kl_div: 0.10029\n",
      "\u001b[32m[1027 16:12:16 @monitor.py:467]\u001b[0m QueueInput/queue_size: 50\n",
      "\u001b[32m[1027 16:12:16 @base.py:275]\u001b[0m Start Epoch 119 ...\n"
     ]
    },
    {
     "name": "stderr",
     "output_type": "stream",
     "text": [
      "\n",
      "100%|###################################################################################|175/175[00:04<00:00,37.95it/s]"
     ]
    },
    {
     "name": "stdout",
     "output_type": "stream",
     "text": [
      "\u001b[32m[1027 16:12:20 @base.py:285]\u001b[0m Epoch 119 (global_step 31237) finished, time:4.61 seconds.\n",
      "\u001b[32m[1027 16:12:20 @saver.py:79]\u001b[0m Model saved to ../output/Chicago/DATWGAN_300/model\\model-31237.\n",
      "\u001b[32m[1027 16:12:21 @monitor.py:467]\u001b[0m GAN_loss/d_loss: -0.11268\n",
      "\u001b[32m[1027 16:12:21 @monitor.py:467]\u001b[0m GAN_loss/g_loss: -0.06703\n",
      "\u001b[32m[1027 16:12:21 @monitor.py:467]\u001b[0m GAN_loss/kl_div: 0.10187\n",
      "\u001b[32m[1027 16:12:21 @monitor.py:467]\u001b[0m QueueInput/queue_size: 50\n",
      "\u001b[32m[1027 16:12:21 @base.py:275]\u001b[0m Start Epoch 120 ...\n"
     ]
    },
    {
     "name": "stderr",
     "output_type": "stream",
     "text": [
      "\n",
      "100%|###################################################################################|175/175[00:04<00:00,38.07it/s]"
     ]
    },
    {
     "name": "stdout",
     "output_type": "stream",
     "text": [
      "\u001b[32m[1027 16:12:25 @base.py:285]\u001b[0m Epoch 120 (global_step 31499) finished, time:4.6 seconds.\n",
      "\u001b[32m[1027 16:12:25 @saver.py:79]\u001b[0m Model saved to ../output/Chicago/DATWGAN_300/model\\model-31499.\n",
      "\u001b[32m[1027 16:12:25 @monitor.py:467]\u001b[0m GAN_loss/d_loss: -0.11318\n",
      "\u001b[32m[1027 16:12:25 @monitor.py:467]\u001b[0m GAN_loss/g_loss: -0.067573\n",
      "\u001b[32m[1027 16:12:25 @monitor.py:467]\u001b[0m GAN_loss/kl_div: 0.098546\n",
      "\u001b[32m[1027 16:12:25 @monitor.py:467]\u001b[0m QueueInput/queue_size: 50\n",
      "\u001b[32m[1027 16:12:25 @base.py:275]\u001b[0m Start Epoch 121 ...\n"
     ]
    },
    {
     "name": "stderr",
     "output_type": "stream",
     "text": [
      "\n",
      "100%|###################################################################################|175/175[00:04<00:00,37.96it/s]"
     ]
    },
    {
     "name": "stdout",
     "output_type": "stream",
     "text": [
      "\u001b[32m[1027 16:12:30 @base.py:285]\u001b[0m Epoch 121 (global_step 31762) finished, time:4.61 seconds.\n",
      "\u001b[32m[1027 16:12:30 @saver.py:79]\u001b[0m Model saved to ../output/Chicago/DATWGAN_300/model\\model-31762.\n",
      "\u001b[32m[1027 16:12:30 @monitor.py:467]\u001b[0m GAN_loss/d_loss: -0.11352\n",
      "\u001b[32m[1027 16:12:30 @monitor.py:467]\u001b[0m GAN_loss/g_loss: -0.066132\n",
      "\u001b[32m[1027 16:12:30 @monitor.py:467]\u001b[0m GAN_loss/kl_div: 0.10215\n",
      "\u001b[32m[1027 16:12:30 @monitor.py:467]\u001b[0m QueueInput/queue_size: 50\n",
      "\u001b[32m[1027 16:12:30 @base.py:275]\u001b[0m Start Epoch 122 ...\n"
     ]
    },
    {
     "name": "stderr",
     "output_type": "stream",
     "text": [
      "\n",
      "100%|###################################################################################|175/175[00:04<00:00,38.09it/s]"
     ]
    },
    {
     "name": "stdout",
     "output_type": "stream",
     "text": [
      "\u001b[32m[1027 16:12:34 @base.py:285]\u001b[0m Epoch 122 (global_step 32024) finished, time:4.6 seconds.\n",
      "\u001b[32m[1027 16:12:35 @saver.py:79]\u001b[0m Model saved to ../output/Chicago/DATWGAN_300/model\\model-32024.\n",
      "\u001b[32m[1027 16:12:35 @monitor.py:467]\u001b[0m GAN_loss/d_loss: -0.11146\n",
      "\u001b[32m[1027 16:12:35 @monitor.py:467]\u001b[0m GAN_loss/g_loss: -0.067345\n",
      "\u001b[32m[1027 16:12:35 @monitor.py:467]\u001b[0m GAN_loss/kl_div: 0.099376\n",
      "\u001b[32m[1027 16:12:35 @monitor.py:467]\u001b[0m QueueInput/queue_size: 50\n",
      "\u001b[32m[1027 16:12:35 @base.py:275]\u001b[0m Start Epoch 123 ...\n"
     ]
    },
    {
     "name": "stderr",
     "output_type": "stream",
     "text": [
      "\n",
      "100%|###################################################################################|175/175[00:04<00:00,37.95it/s]"
     ]
    },
    {
     "name": "stdout",
     "output_type": "stream",
     "text": [
      "\u001b[32m[1027 16:12:39 @base.py:285]\u001b[0m Epoch 123 (global_step 32287) finished, time:4.61 seconds.\n",
      "\u001b[32m[1027 16:12:39 @saver.py:79]\u001b[0m Model saved to ../output/Chicago/DATWGAN_300/model\\model-32287.\n",
      "\u001b[32m[1027 16:12:39 @monitor.py:467]\u001b[0m GAN_loss/d_loss: -0.1117\n",
      "\u001b[32m[1027 16:12:39 @monitor.py:467]\u001b[0m GAN_loss/g_loss: -0.067571\n",
      "\u001b[32m[1027 16:12:39 @monitor.py:467]\u001b[0m GAN_loss/kl_div: 0.1017\n",
      "\u001b[32m[1027 16:12:39 @monitor.py:467]\u001b[0m QueueInput/queue_size: 50\n",
      "\u001b[32m[1027 16:12:39 @base.py:275]\u001b[0m Start Epoch 124 ...\n"
     ]
    },
    {
     "name": "stderr",
     "output_type": "stream",
     "text": [
      "\n",
      "100%|###################################################################################|175/175[00:04<00:00,38.06it/s]"
     ]
    },
    {
     "name": "stdout",
     "output_type": "stream",
     "text": [
      "\u001b[32m[1027 16:12:44 @base.py:285]\u001b[0m Epoch 124 (global_step 32549) finished, time:4.6 seconds.\n",
      "\u001b[32m[1027 16:12:44 @saver.py:79]\u001b[0m Model saved to ../output/Chicago/DATWGAN_300/model\\model-32549.\n",
      "\u001b[32m[1027 16:12:44 @monitor.py:467]\u001b[0m GAN_loss/d_loss: -0.11178\n",
      "\u001b[32m[1027 16:12:44 @monitor.py:467]\u001b[0m GAN_loss/g_loss: -0.067187\n",
      "\u001b[32m[1027 16:12:44 @monitor.py:467]\u001b[0m GAN_loss/kl_div: 0.10803\n",
      "\u001b[32m[1027 16:12:44 @monitor.py:467]\u001b[0m QueueInput/queue_size: 50\n",
      "\u001b[32m[1027 16:12:44 @base.py:275]\u001b[0m Start Epoch 125 ...\n"
     ]
    },
    {
     "name": "stderr",
     "output_type": "stream",
     "text": [
      "\n",
      "100%|###################################################################################|175/175[00:04<00:00,37.94it/s]"
     ]
    },
    {
     "name": "stdout",
     "output_type": "stream",
     "text": [
      "\u001b[32m[1027 16:12:49 @base.py:285]\u001b[0m Epoch 125 (global_step 32812) finished, time:4.61 seconds.\n",
      "\u001b[32m[1027 16:12:49 @saver.py:79]\u001b[0m Model saved to ../output/Chicago/DATWGAN_300/model\\model-32812.\n",
      "\u001b[32m[1027 16:12:49 @monitor.py:467]\u001b[0m GAN_loss/d_loss: -0.1115\n",
      "\u001b[32m[1027 16:12:49 @monitor.py:467]\u001b[0m GAN_loss/g_loss: -0.068046\n",
      "\u001b[32m[1027 16:12:49 @monitor.py:467]\u001b[0m GAN_loss/kl_div: 0.098023\n",
      "\u001b[32m[1027 16:12:49 @monitor.py:467]\u001b[0m QueueInput/queue_size: 50\n",
      "\u001b[32m[1027 16:12:49 @base.py:275]\u001b[0m Start Epoch 126 ...\n"
     ]
    },
    {
     "name": "stderr",
     "output_type": "stream",
     "text": [
      "\n",
      "100%|###################################################################################|175/175[00:04<00:00,38.09it/s]"
     ]
    },
    {
     "name": "stdout",
     "output_type": "stream",
     "text": [
      "\u001b[32m[1027 16:12:53 @base.py:285]\u001b[0m Epoch 126 (global_step 33074) finished, time:4.6 seconds.\n",
      "\u001b[32m[1027 16:12:53 @saver.py:79]\u001b[0m Model saved to ../output/Chicago/DATWGAN_300/model\\model-33074.\n",
      "\u001b[32m[1027 16:12:53 @monitor.py:467]\u001b[0m GAN_loss/d_loss: -0.10988\n",
      "\u001b[32m[1027 16:12:53 @monitor.py:467]\u001b[0m GAN_loss/g_loss: -0.068616\n",
      "\u001b[32m[1027 16:12:53 @monitor.py:467]\u001b[0m GAN_loss/kl_div: 0.10281\n",
      "\u001b[32m[1027 16:12:53 @monitor.py:467]\u001b[0m QueueInput/queue_size: 50\n",
      "\u001b[32m[1027 16:12:53 @base.py:275]\u001b[0m Start Epoch 127 ...\n"
     ]
    },
    {
     "name": "stderr",
     "output_type": "stream",
     "text": [
      "\n",
      "100%|###################################################################################|175/175[00:04<00:00,37.93it/s]"
     ]
    },
    {
     "name": "stdout",
     "output_type": "stream",
     "text": [
      "\u001b[32m[1027 16:12:58 @base.py:285]\u001b[0m Epoch 127 (global_step 33337) finished, time:4.61 seconds.\n",
      "\u001b[32m[1027 16:12:58 @saver.py:79]\u001b[0m Model saved to ../output/Chicago/DATWGAN_300/model\\model-33337.\n",
      "\u001b[32m[1027 16:12:58 @monitor.py:467]\u001b[0m GAN_loss/d_loss: -0.11121\n",
      "\u001b[32m[1027 16:12:58 @monitor.py:467]\u001b[0m GAN_loss/g_loss: -0.068448\n",
      "\u001b[32m[1027 16:12:58 @monitor.py:467]\u001b[0m GAN_loss/kl_div: 0.098171\n",
      "\u001b[32m[1027 16:12:58 @monitor.py:467]\u001b[0m QueueInput/queue_size: 50\n",
      "\u001b[32m[1027 16:12:58 @base.py:275]\u001b[0m Start Epoch 128 ...\n"
     ]
    },
    {
     "name": "stderr",
     "output_type": "stream",
     "text": [
      "\n",
      "100%|###################################################################################|175/175[00:04<00:00,38.08it/s]"
     ]
    },
    {
     "name": "stdout",
     "output_type": "stream",
     "text": [
      "\u001b[32m[1027 16:13:03 @base.py:285]\u001b[0m Epoch 128 (global_step 33599) finished, time:4.6 seconds.\n",
      "\u001b[32m[1027 16:13:03 @saver.py:79]\u001b[0m Model saved to ../output/Chicago/DATWGAN_300/model\\model-33599.\n",
      "\u001b[32m[1027 16:13:03 @monitor.py:467]\u001b[0m GAN_loss/d_loss: -0.111\n",
      "\u001b[32m[1027 16:13:03 @monitor.py:467]\u001b[0m GAN_loss/g_loss: -0.069011\n",
      "\u001b[32m[1027 16:13:03 @monitor.py:467]\u001b[0m GAN_loss/kl_div: 0.10523\n",
      "\u001b[32m[1027 16:13:03 @monitor.py:467]\u001b[0m QueueInput/queue_size: 50\n",
      "\u001b[32m[1027 16:13:03 @base.py:275]\u001b[0m Start Epoch 129 ...\n"
     ]
    },
    {
     "name": "stderr",
     "output_type": "stream",
     "text": [
      "\n",
      "100%|###################################################################################|175/175[00:04<00:00,37.94it/s]"
     ]
    },
    {
     "name": "stdout",
     "output_type": "stream",
     "text": [
      "\u001b[32m[1027 16:13:07 @base.py:285]\u001b[0m Epoch 129 (global_step 33862) finished, time:4.61 seconds.\n",
      "\u001b[32m[1027 16:13:07 @saver.py:79]\u001b[0m Model saved to ../output/Chicago/DATWGAN_300/model\\model-33862.\n",
      "\u001b[32m[1027 16:13:07 @monitor.py:467]\u001b[0m GAN_loss/d_loss: -0.10913\n",
      "\u001b[32m[1027 16:13:07 @monitor.py:467]\u001b[0m GAN_loss/g_loss: -0.068884\n",
      "\u001b[32m[1027 16:13:07 @monitor.py:467]\u001b[0m GAN_loss/kl_div: 0.1013\n",
      "\u001b[32m[1027 16:13:07 @monitor.py:467]\u001b[0m QueueInput/queue_size: 50\n",
      "\u001b[32m[1027 16:13:07 @base.py:275]\u001b[0m Start Epoch 130 ...\n"
     ]
    },
    {
     "name": "stderr",
     "output_type": "stream",
     "text": [
      "\n",
      "100%|###################################################################################|175/175[00:04<00:00,38.06it/s]"
     ]
    },
    {
     "name": "stdout",
     "output_type": "stream",
     "text": [
      "\u001b[32m[1027 16:13:12 @base.py:285]\u001b[0m Epoch 130 (global_step 34124) finished, time:4.6 seconds.\n",
      "\u001b[32m[1027 16:13:12 @saver.py:79]\u001b[0m Model saved to ../output/Chicago/DATWGAN_300/model\\model-34124.\n",
      "\u001b[32m[1027 16:13:12 @monitor.py:467]\u001b[0m GAN_loss/d_loss: -0.10952\n",
      "\u001b[32m[1027 16:13:12 @monitor.py:467]\u001b[0m GAN_loss/g_loss: -0.069529\n",
      "\u001b[32m[1027 16:13:12 @monitor.py:467]\u001b[0m GAN_loss/kl_div: 0.09591\n",
      "\u001b[32m[1027 16:13:12 @monitor.py:467]\u001b[0m QueueInput/queue_size: 50\n",
      "\u001b[32m[1027 16:13:12 @base.py:275]\u001b[0m Start Epoch 131 ...\n"
     ]
    },
    {
     "name": "stderr",
     "output_type": "stream",
     "text": [
      "\n",
      "100%|###################################################################################|175/175[00:04<00:00,37.94it/s]"
     ]
    },
    {
     "name": "stdout",
     "output_type": "stream",
     "text": [
      "\u001b[32m[1027 16:13:17 @base.py:285]\u001b[0m Epoch 131 (global_step 34387) finished, time:4.61 seconds.\n",
      "\u001b[32m[1027 16:13:17 @saver.py:79]\u001b[0m Model saved to ../output/Chicago/DATWGAN_300/model\\model-34387.\n",
      "\u001b[32m[1027 16:13:17 @monitor.py:467]\u001b[0m GAN_loss/d_loss: -0.10849\n",
      "\u001b[32m[1027 16:13:17 @monitor.py:467]\u001b[0m GAN_loss/g_loss: -0.069973\n",
      "\u001b[32m[1027 16:13:17 @monitor.py:467]\u001b[0m GAN_loss/kl_div: 0.099442\n",
      "\u001b[32m[1027 16:13:17 @monitor.py:467]\u001b[0m QueueInput/queue_size: 50\n",
      "\u001b[32m[1027 16:13:17 @base.py:275]\u001b[0m Start Epoch 132 ...\n"
     ]
    },
    {
     "name": "stderr",
     "output_type": "stream",
     "text": [
      "\n",
      "100%|###################################################################################|175/175[00:04<00:00,38.06it/s]"
     ]
    },
    {
     "name": "stdout",
     "output_type": "stream",
     "text": [
      "\u001b[32m[1027 16:13:21 @base.py:285]\u001b[0m Epoch 132 (global_step 34649) finished, time:4.6 seconds.\n",
      "\u001b[32m[1027 16:13:21 @saver.py:79]\u001b[0m Model saved to ../output/Chicago/DATWGAN_300/model\\model-34649.\n",
      "\u001b[32m[1027 16:13:22 @monitor.py:467]\u001b[0m GAN_loss/d_loss: -0.10953\n",
      "\u001b[32m[1027 16:13:22 @monitor.py:467]\u001b[0m GAN_loss/g_loss: -0.068875\n",
      "\u001b[32m[1027 16:13:22 @monitor.py:467]\u001b[0m GAN_loss/kl_div: 0.099703\n",
      "\u001b[32m[1027 16:13:22 @monitor.py:467]\u001b[0m QueueInput/queue_size: 50\n",
      "\u001b[32m[1027 16:13:22 @base.py:275]\u001b[0m Start Epoch 133 ...\n"
     ]
    },
    {
     "name": "stderr",
     "output_type": "stream",
     "text": [
      "\n",
      "100%|###################################################################################|175/175[00:04<00:00,37.94it/s]"
     ]
    },
    {
     "name": "stdout",
     "output_type": "stream",
     "text": [
      "\u001b[32m[1027 16:13:26 @base.py:285]\u001b[0m Epoch 133 (global_step 34912) finished, time:4.61 seconds.\n",
      "\u001b[32m[1027 16:13:26 @saver.py:79]\u001b[0m Model saved to ../output/Chicago/DATWGAN_300/model\\model-34912.\n",
      "\u001b[32m[1027 16:13:26 @monitor.py:467]\u001b[0m GAN_loss/d_loss: -0.10879\n",
      "\u001b[32m[1027 16:13:26 @monitor.py:467]\u001b[0m GAN_loss/g_loss: -0.069789\n",
      "\u001b[32m[1027 16:13:26 @monitor.py:467]\u001b[0m GAN_loss/kl_div: 0.10543\n",
      "\u001b[32m[1027 16:13:26 @monitor.py:467]\u001b[0m QueueInput/queue_size: 50\n",
      "\u001b[32m[1027 16:13:26 @base.py:275]\u001b[0m Start Epoch 134 ...\n"
     ]
    },
    {
     "name": "stderr",
     "output_type": "stream",
     "text": [
      "\n",
      "100%|###################################################################################|175/175[00:04<00:00,38.07it/s]"
     ]
    },
    {
     "name": "stdout",
     "output_type": "stream",
     "text": [
      "\u001b[32m[1027 16:13:31 @base.py:285]\u001b[0m Epoch 134 (global_step 35174) finished, time:4.6 seconds.\n",
      "\u001b[32m[1027 16:13:31 @saver.py:79]\u001b[0m Model saved to ../output/Chicago/DATWGAN_300/model\\model-35174.\n",
      "\u001b[32m[1027 16:13:31 @monitor.py:467]\u001b[0m GAN_loss/d_loss: -0.10862\n",
      "\u001b[32m[1027 16:13:31 @monitor.py:467]\u001b[0m GAN_loss/g_loss: -0.069969\n",
      "\u001b[32m[1027 16:13:31 @monitor.py:467]\u001b[0m GAN_loss/kl_div: 0.10281\n",
      "\u001b[32m[1027 16:13:31 @monitor.py:467]\u001b[0m QueueInput/queue_size: 50\n",
      "\u001b[32m[1027 16:13:31 @base.py:275]\u001b[0m Start Epoch 135 ...\n"
     ]
    },
    {
     "name": "stderr",
     "output_type": "stream",
     "text": [
      "\n",
      "100%|###################################################################################|175/175[00:04<00:00,37.95it/s]"
     ]
    },
    {
     "name": "stdout",
     "output_type": "stream",
     "text": [
      "\u001b[32m[1027 16:13:36 @base.py:285]\u001b[0m Epoch 135 (global_step 35437) finished, time:4.61 seconds.\n",
      "\u001b[32m[1027 16:13:36 @saver.py:79]\u001b[0m Model saved to ../output/Chicago/DATWGAN_300/model\\model-35437.\n",
      "\u001b[32m[1027 16:13:36 @monitor.py:467]\u001b[0m GAN_loss/d_loss: -0.10853\n",
      "\u001b[32m[1027 16:13:36 @monitor.py:467]\u001b[0m GAN_loss/g_loss: -0.070208\n",
      "\u001b[32m[1027 16:13:36 @monitor.py:467]\u001b[0m GAN_loss/kl_div: 0.10506\n",
      "\u001b[32m[1027 16:13:36 @monitor.py:467]\u001b[0m QueueInput/queue_size: 50\n",
      "\u001b[32m[1027 16:13:36 @base.py:275]\u001b[0m Start Epoch 136 ...\n"
     ]
    },
    {
     "name": "stderr",
     "output_type": "stream",
     "text": [
      "\n",
      "100%|###################################################################################|175/175[00:04<00:00,38.07it/s]"
     ]
    },
    {
     "name": "stdout",
     "output_type": "stream",
     "text": [
      "\u001b[32m[1027 16:13:40 @base.py:285]\u001b[0m Epoch 136 (global_step 35699) finished, time:4.6 seconds.\n",
      "\u001b[32m[1027 16:13:40 @saver.py:79]\u001b[0m Model saved to ../output/Chicago/DATWGAN_300/model\\model-35699.\n",
      "\u001b[32m[1027 16:13:40 @monitor.py:467]\u001b[0m GAN_loss/d_loss: -0.10922\n",
      "\u001b[32m[1027 16:13:40 @monitor.py:467]\u001b[0m GAN_loss/g_loss: -0.070597\n",
      "\u001b[32m[1027 16:13:40 @monitor.py:467]\u001b[0m GAN_loss/kl_div: 0.098134\n",
      "\u001b[32m[1027 16:13:40 @monitor.py:467]\u001b[0m QueueInput/queue_size: 50\n",
      "\u001b[32m[1027 16:13:40 @base.py:275]\u001b[0m Start Epoch 137 ...\n"
     ]
    },
    {
     "name": "stderr",
     "output_type": "stream",
     "text": [
      "\n",
      "100%|###################################################################################|175/175[00:04<00:00,37.95it/s]"
     ]
    },
    {
     "name": "stdout",
     "output_type": "stream",
     "text": [
      "\u001b[32m[1027 16:13:45 @base.py:285]\u001b[0m Epoch 137 (global_step 35962) finished, time:4.61 seconds.\n",
      "\u001b[32m[1027 16:13:45 @saver.py:79]\u001b[0m Model saved to ../output/Chicago/DATWGAN_300/model\\model-35962.\n",
      "\u001b[32m[1027 16:13:45 @monitor.py:467]\u001b[0m GAN_loss/d_loss: -0.10732\n",
      "\u001b[32m[1027 16:13:45 @monitor.py:467]\u001b[0m GAN_loss/g_loss: -0.070419\n",
      "\u001b[32m[1027 16:13:45 @monitor.py:467]\u001b[0m GAN_loss/kl_div: 0.10142\n",
      "\u001b[32m[1027 16:13:45 @monitor.py:467]\u001b[0m QueueInput/queue_size: 50\n",
      "\u001b[32m[1027 16:13:45 @base.py:275]\u001b[0m Start Epoch 138 ...\n"
     ]
    },
    {
     "name": "stderr",
     "output_type": "stream",
     "text": [
      "\n",
      "100%|###################################################################################|175/175[00:04<00:00,38.08it/s]"
     ]
    },
    {
     "name": "stdout",
     "output_type": "stream",
     "text": [
      "\u001b[32m[1027 16:13:50 @base.py:285]\u001b[0m Epoch 138 (global_step 36224) finished, time:4.6 seconds.\n",
      "\u001b[32m[1027 16:13:50 @saver.py:79]\u001b[0m Model saved to ../output/Chicago/DATWGAN_300/model\\model-36224.\n",
      "\u001b[32m[1027 16:13:50 @monitor.py:467]\u001b[0m GAN_loss/d_loss: -0.10795\n",
      "\u001b[32m[1027 16:13:50 @monitor.py:467]\u001b[0m GAN_loss/g_loss: -0.070088\n",
      "\u001b[32m[1027 16:13:50 @monitor.py:467]\u001b[0m GAN_loss/kl_div: 0.10425\n",
      "\u001b[32m[1027 16:13:50 @monitor.py:467]\u001b[0m QueueInput/queue_size: 50\n",
      "\u001b[32m[1027 16:13:50 @base.py:275]\u001b[0m Start Epoch 139 ...\n"
     ]
    },
    {
     "name": "stderr",
     "output_type": "stream",
     "text": [
      "\n",
      "100%|###################################################################################|175/175[00:04<00:00,37.96it/s]"
     ]
    },
    {
     "name": "stdout",
     "output_type": "stream",
     "text": [
      "\u001b[32m[1027 16:13:54 @base.py:285]\u001b[0m Epoch 139 (global_step 36487) finished, time:4.61 seconds.\n",
      "\u001b[32m[1027 16:13:54 @saver.py:79]\u001b[0m Model saved to ../output/Chicago/DATWGAN_300/model\\model-36487.\n",
      "\u001b[32m[1027 16:13:54 @monitor.py:467]\u001b[0m GAN_loss/d_loss: -0.10703\n",
      "\u001b[32m[1027 16:13:54 @monitor.py:467]\u001b[0m GAN_loss/g_loss: -0.070794\n",
      "\u001b[32m[1027 16:13:54 @monitor.py:467]\u001b[0m GAN_loss/kl_div: 0.10438\n",
      "\u001b[32m[1027 16:13:54 @monitor.py:467]\u001b[0m QueueInput/queue_size: 50\n",
      "\u001b[32m[1027 16:13:54 @base.py:275]\u001b[0m Start Epoch 140 ...\n"
     ]
    },
    {
     "name": "stderr",
     "output_type": "stream",
     "text": [
      "\n",
      "100%|###################################################################################|175/175[00:04<00:00,38.09it/s]"
     ]
    },
    {
     "name": "stdout",
     "output_type": "stream",
     "text": [
      "\u001b[32m[1027 16:13:59 @base.py:285]\u001b[0m Epoch 140 (global_step 36749) finished, time:4.59 seconds.\n",
      "\u001b[32m[1027 16:13:59 @saver.py:79]\u001b[0m Model saved to ../output/Chicago/DATWGAN_300/model\\model-36749.\n",
      "\u001b[32m[1027 16:13:59 @monitor.py:467]\u001b[0m GAN_loss/d_loss: -0.10641\n",
      "\u001b[32m[1027 16:13:59 @monitor.py:467]\u001b[0m GAN_loss/g_loss: -0.072604\n",
      "\u001b[32m[1027 16:13:59 @monitor.py:467]\u001b[0m GAN_loss/kl_div: 0.10646\n",
      "\u001b[32m[1027 16:13:59 @monitor.py:467]\u001b[0m QueueInput/queue_size: 50\n",
      "\u001b[32m[1027 16:13:59 @base.py:275]\u001b[0m Start Epoch 141 ...\n"
     ]
    },
    {
     "name": "stderr",
     "output_type": "stream",
     "text": [
      "\n",
      "100%|###################################################################################|175/175[00:04<00:00,37.94it/s]"
     ]
    },
    {
     "name": "stdout",
     "output_type": "stream",
     "text": [
      "\u001b[32m[1027 16:14:04 @base.py:285]\u001b[0m Epoch 141 (global_step 37012) finished, time:4.61 seconds.\n",
      "\u001b[32m[1027 16:14:04 @saver.py:79]\u001b[0m Model saved to ../output/Chicago/DATWGAN_300/model\\model-37012.\n",
      "\u001b[32m[1027 16:14:04 @monitor.py:467]\u001b[0m GAN_loss/d_loss: -0.10695\n",
      "\u001b[32m[1027 16:14:04 @monitor.py:467]\u001b[0m GAN_loss/g_loss: -0.072078\n",
      "\u001b[32m[1027 16:14:04 @monitor.py:467]\u001b[0m GAN_loss/kl_div: 0.098315\n",
      "\u001b[32m[1027 16:14:04 @monitor.py:467]\u001b[0m QueueInput/queue_size: 50\n",
      "\u001b[32m[1027 16:14:04 @base.py:275]\u001b[0m Start Epoch 142 ...\n"
     ]
    },
    {
     "name": "stderr",
     "output_type": "stream",
     "text": [
      "\n",
      "100%|###################################################################################|175/175[00:04<00:00,38.08it/s]"
     ]
    },
    {
     "name": "stdout",
     "output_type": "stream",
     "text": [
      "\u001b[32m[1027 16:14:08 @base.py:285]\u001b[0m Epoch 142 (global_step 37274) finished, time:4.6 seconds.\n",
      "\u001b[32m[1027 16:14:08 @saver.py:79]\u001b[0m Model saved to ../output/Chicago/DATWGAN_300/model\\model-37274.\n",
      "\u001b[32m[1027 16:14:08 @monitor.py:467]\u001b[0m GAN_loss/d_loss: -0.10566\n",
      "\u001b[32m[1027 16:14:08 @monitor.py:467]\u001b[0m GAN_loss/g_loss: -0.072593\n",
      "\u001b[32m[1027 16:14:08 @monitor.py:467]\u001b[0m GAN_loss/kl_div: 0.10397\n",
      "\u001b[32m[1027 16:14:08 @monitor.py:467]\u001b[0m QueueInput/queue_size: 50\n",
      "\u001b[32m[1027 16:14:08 @base.py:275]\u001b[0m Start Epoch 143 ...\n"
     ]
    },
    {
     "name": "stderr",
     "output_type": "stream",
     "text": [
      "\n",
      "100%|###################################################################################|175/175[00:04<00:00,37.95it/s]"
     ]
    },
    {
     "name": "stdout",
     "output_type": "stream",
     "text": [
      "\u001b[32m[1027 16:14:13 @base.py:285]\u001b[0m Epoch 143 (global_step 37537) finished, time:4.61 seconds.\n",
      "\u001b[32m[1027 16:14:13 @saver.py:79]\u001b[0m Model saved to ../output/Chicago/DATWGAN_300/model\\model-37537.\n",
      "\u001b[32m[1027 16:14:13 @monitor.py:467]\u001b[0m GAN_loss/d_loss: -0.10482\n",
      "\u001b[32m[1027 16:14:13 @monitor.py:467]\u001b[0m GAN_loss/g_loss: -0.072925\n",
      "\u001b[32m[1027 16:14:13 @monitor.py:467]\u001b[0m GAN_loss/kl_div: 0.10718\n",
      "\u001b[32m[1027 16:14:13 @monitor.py:467]\u001b[0m QueueInput/queue_size: 50\n",
      "\u001b[32m[1027 16:14:13 @base.py:275]\u001b[0m Start Epoch 144 ...\n"
     ]
    },
    {
     "name": "stderr",
     "output_type": "stream",
     "text": [
      "\n",
      "100%|###################################################################################|175/175[00:04<00:00,38.06it/s]"
     ]
    },
    {
     "name": "stdout",
     "output_type": "stream",
     "text": [
      "\u001b[32m[1027 16:14:18 @base.py:285]\u001b[0m Epoch 144 (global_step 37799) finished, time:4.6 seconds.\n",
      "\u001b[32m[1027 16:14:18 @saver.py:79]\u001b[0m Model saved to ../output/Chicago/DATWGAN_300/model\\model-37799.\n",
      "\u001b[32m[1027 16:14:18 @monitor.py:467]\u001b[0m GAN_loss/d_loss: -0.10363\n",
      "\u001b[32m[1027 16:14:18 @monitor.py:467]\u001b[0m GAN_loss/g_loss: -0.074025\n",
      "\u001b[32m[1027 16:14:18 @monitor.py:467]\u001b[0m GAN_loss/kl_div: 0.10665\n",
      "\u001b[32m[1027 16:14:18 @monitor.py:467]\u001b[0m QueueInput/queue_size: 50\n",
      "\u001b[32m[1027 16:14:18 @base.py:275]\u001b[0m Start Epoch 145 ...\n"
     ]
    },
    {
     "name": "stderr",
     "output_type": "stream",
     "text": [
      "\n",
      "100%|###################################################################################|175/175[00:04<00:00,37.97it/s]"
     ]
    },
    {
     "name": "stdout",
     "output_type": "stream",
     "text": [
      "\u001b[32m[1027 16:14:22 @base.py:285]\u001b[0m Epoch 145 (global_step 38062) finished, time:4.61 seconds.\n",
      "\u001b[32m[1027 16:14:23 @saver.py:79]\u001b[0m Model saved to ../output/Chicago/DATWGAN_300/model\\model-38062.\n",
      "\u001b[32m[1027 16:14:23 @monitor.py:467]\u001b[0m GAN_loss/d_loss: -0.10342\n",
      "\u001b[32m[1027 16:14:23 @monitor.py:467]\u001b[0m GAN_loss/g_loss: -0.073244\n",
      "\u001b[32m[1027 16:14:23 @monitor.py:467]\u001b[0m GAN_loss/kl_div: 0.10297\n",
      "\u001b[32m[1027 16:14:23 @monitor.py:467]\u001b[0m QueueInput/queue_size: 50\n",
      "\u001b[32m[1027 16:14:23 @base.py:275]\u001b[0m Start Epoch 146 ...\n"
     ]
    },
    {
     "name": "stderr",
     "output_type": "stream",
     "text": [
      "\n",
      "100%|###################################################################################|175/175[00:04<00:00,38.06it/s]"
     ]
    },
    {
     "name": "stdout",
     "output_type": "stream",
     "text": [
      "\u001b[32m[1027 16:14:27 @base.py:285]\u001b[0m Epoch 146 (global_step 38324) finished, time:4.6 seconds.\n",
      "\u001b[32m[1027 16:14:27 @saver.py:79]\u001b[0m Model saved to ../output/Chicago/DATWGAN_300/model\\model-38324.\n",
      "\u001b[32m[1027 16:14:27 @monitor.py:467]\u001b[0m GAN_loss/d_loss: -0.10552\n",
      "\u001b[32m[1027 16:14:27 @monitor.py:467]\u001b[0m GAN_loss/g_loss: -0.073465\n",
      "\u001b[32m[1027 16:14:27 @monitor.py:467]\u001b[0m GAN_loss/kl_div: 0.10065\n",
      "\u001b[32m[1027 16:14:27 @monitor.py:467]\u001b[0m QueueInput/queue_size: 50\n",
      "\u001b[32m[1027 16:14:27 @base.py:275]\u001b[0m Start Epoch 147 ...\n"
     ]
    },
    {
     "name": "stderr",
     "output_type": "stream",
     "text": [
      "\n",
      "100%|###################################################################################|175/175[00:04<00:00,37.97it/s]"
     ]
    },
    {
     "name": "stdout",
     "output_type": "stream",
     "text": [
      "\u001b[32m[1027 16:14:32 @base.py:285]\u001b[0m Epoch 147 (global_step 38587) finished, time:4.61 seconds.\n",
      "\u001b[32m[1027 16:14:32 @saver.py:79]\u001b[0m Model saved to ../output/Chicago/DATWGAN_300/model\\model-38587.\n",
      "\u001b[32m[1027 16:14:32 @monitor.py:467]\u001b[0m GAN_loss/d_loss: -0.10434\n",
      "\u001b[32m[1027 16:14:32 @monitor.py:467]\u001b[0m GAN_loss/g_loss: -0.074613\n",
      "\u001b[32m[1027 16:14:32 @monitor.py:467]\u001b[0m GAN_loss/kl_div: 0.10283\n",
      "\u001b[32m[1027 16:14:32 @monitor.py:467]\u001b[0m QueueInput/queue_size: 50\n",
      "\u001b[32m[1027 16:14:32 @base.py:275]\u001b[0m Start Epoch 148 ...\n"
     ]
    },
    {
     "name": "stderr",
     "output_type": "stream",
     "text": [
      "\n",
      "100%|###################################################################################|175/175[00:04<00:00,38.07it/s]"
     ]
    },
    {
     "name": "stdout",
     "output_type": "stream",
     "text": [
      "\u001b[32m[1027 16:14:37 @base.py:285]\u001b[0m Epoch 148 (global_step 38849) finished, time:4.6 seconds.\n",
      "\u001b[32m[1027 16:14:37 @saver.py:79]\u001b[0m Model saved to ../output/Chicago/DATWGAN_300/model\\model-38849.\n",
      "\u001b[32m[1027 16:14:37 @monitor.py:467]\u001b[0m GAN_loss/d_loss: -0.10514\n",
      "\u001b[32m[1027 16:14:37 @monitor.py:467]\u001b[0m GAN_loss/g_loss: -0.073806\n",
      "\u001b[32m[1027 16:14:37 @monitor.py:467]\u001b[0m GAN_loss/kl_div: 0.099641\n",
      "\u001b[32m[1027 16:14:37 @monitor.py:467]\u001b[0m QueueInput/queue_size: 50\n",
      "\u001b[32m[1027 16:14:37 @base.py:275]\u001b[0m Start Epoch 149 ...\n"
     ]
    },
    {
     "name": "stderr",
     "output_type": "stream",
     "text": [
      "\n",
      "100%|###################################################################################|175/175[00:04<00:00,37.94it/s]"
     ]
    },
    {
     "name": "stdout",
     "output_type": "stream",
     "text": [
      "\u001b[32m[1027 16:14:41 @base.py:285]\u001b[0m Epoch 149 (global_step 39112) finished, time:4.61 seconds.\n",
      "\u001b[32m[1027 16:14:41 @saver.py:79]\u001b[0m Model saved to ../output/Chicago/DATWGAN_300/model\\model-39112.\n",
      "\u001b[32m[1027 16:14:41 @monitor.py:467]\u001b[0m GAN_loss/d_loss: -0.10472\n",
      "\u001b[32m[1027 16:14:41 @monitor.py:467]\u001b[0m GAN_loss/g_loss: -0.075446\n",
      "\u001b[32m[1027 16:14:41 @monitor.py:467]\u001b[0m GAN_loss/kl_div: 0.098981\n",
      "\u001b[32m[1027 16:14:41 @monitor.py:467]\u001b[0m QueueInput/queue_size: 50\n",
      "\u001b[32m[1027 16:14:41 @base.py:275]\u001b[0m Start Epoch 150 ...\n"
     ]
    },
    {
     "name": "stderr",
     "output_type": "stream",
     "text": [
      "\n",
      "100%|###################################################################################|175/175[00:04<00:00,38.07it/s]"
     ]
    },
    {
     "name": "stdout",
     "output_type": "stream",
     "text": [
      "\u001b[32m[1027 16:14:46 @base.py:285]\u001b[0m Epoch 150 (global_step 39374) finished, time:4.6 seconds.\n",
      "\u001b[32m[1027 16:14:46 @saver.py:79]\u001b[0m Model saved to ../output/Chicago/DATWGAN_300/model\\model-39374.\n",
      "\u001b[32m[1027 16:14:46 @monitor.py:467]\u001b[0m GAN_loss/d_loss: -0.10398\n",
      "\u001b[32m[1027 16:14:46 @monitor.py:467]\u001b[0m GAN_loss/g_loss: -0.074827\n",
      "\u001b[32m[1027 16:14:46 @monitor.py:467]\u001b[0m GAN_loss/kl_div: 0.10017\n",
      "\u001b[32m[1027 16:14:46 @monitor.py:467]\u001b[0m QueueInput/queue_size: 50\n",
      "\u001b[32m[1027 16:14:46 @base.py:275]\u001b[0m Start Epoch 151 ...\n"
     ]
    },
    {
     "name": "stderr",
     "output_type": "stream",
     "text": [
      "\n",
      "100%|###################################################################################|175/175[00:04<00:00,37.94it/s]"
     ]
    },
    {
     "name": "stdout",
     "output_type": "stream",
     "text": [
      "\u001b[32m[1027 16:14:51 @base.py:285]\u001b[0m Epoch 151 (global_step 39637) finished, time:4.61 seconds.\n",
      "\u001b[32m[1027 16:14:51 @saver.py:79]\u001b[0m Model saved to ../output/Chicago/DATWGAN_300/model\\model-39637.\n",
      "\u001b[32m[1027 16:14:51 @monitor.py:467]\u001b[0m GAN_loss/d_loss: -0.1038\n",
      "\u001b[32m[1027 16:14:51 @monitor.py:467]\u001b[0m GAN_loss/g_loss: -0.075604\n",
      "\u001b[32m[1027 16:14:51 @monitor.py:467]\u001b[0m GAN_loss/kl_div: 0.0977\n",
      "\u001b[32m[1027 16:14:51 @monitor.py:467]\u001b[0m QueueInput/queue_size: 50\n",
      "\u001b[32m[1027 16:14:51 @base.py:275]\u001b[0m Start Epoch 152 ...\n"
     ]
    },
    {
     "name": "stderr",
     "output_type": "stream",
     "text": [
      "\n",
      "100%|###################################################################################|175/175[00:04<00:00,38.07it/s]"
     ]
    },
    {
     "name": "stdout",
     "output_type": "stream",
     "text": [
      "\u001b[32m[1027 16:14:55 @base.py:285]\u001b[0m Epoch 152 (global_step 39899) finished, time:4.6 seconds.\n",
      "\u001b[32m[1027 16:14:55 @saver.py:79]\u001b[0m Model saved to ../output/Chicago/DATWGAN_300/model\\model-39899.\n",
      "\u001b[32m[1027 16:14:55 @monitor.py:467]\u001b[0m GAN_loss/d_loss: -0.10306\n",
      "\u001b[32m[1027 16:14:55 @monitor.py:467]\u001b[0m GAN_loss/g_loss: -0.075551\n",
      "\u001b[32m[1027 16:14:55 @monitor.py:467]\u001b[0m GAN_loss/kl_div: 0.1057\n",
      "\u001b[32m[1027 16:14:55 @monitor.py:467]\u001b[0m QueueInput/queue_size: 50\n",
      "\u001b[32m[1027 16:14:55 @base.py:275]\u001b[0m Start Epoch 153 ...\n"
     ]
    },
    {
     "name": "stderr",
     "output_type": "stream",
     "text": [
      "\n",
      "100%|###################################################################################|175/175[00:04<00:00,37.92it/s]"
     ]
    },
    {
     "name": "stdout",
     "output_type": "stream",
     "text": [
      "\u001b[32m[1027 16:15:00 @base.py:285]\u001b[0m Epoch 153 (global_step 40162) finished, time:4.62 seconds.\n",
      "\u001b[32m[1027 16:15:00 @saver.py:79]\u001b[0m Model saved to ../output/Chicago/DATWGAN_300/model\\model-40162.\n",
      "\u001b[32m[1027 16:15:00 @monitor.py:467]\u001b[0m GAN_loss/d_loss: -0.10288\n",
      "\u001b[32m[1027 16:15:00 @monitor.py:467]\u001b[0m GAN_loss/g_loss: -0.075955\n",
      "\u001b[32m[1027 16:15:00 @monitor.py:467]\u001b[0m GAN_loss/kl_div: 0.098244\n",
      "\u001b[32m[1027 16:15:00 @monitor.py:467]\u001b[0m QueueInput/queue_size: 50\n",
      "\u001b[32m[1027 16:15:00 @base.py:275]\u001b[0m Start Epoch 154 ...\n"
     ]
    },
    {
     "name": "stderr",
     "output_type": "stream",
     "text": [
      "\n",
      "100%|###################################################################################|175/175[00:04<00:00,38.07it/s]"
     ]
    },
    {
     "name": "stdout",
     "output_type": "stream",
     "text": [
      "\u001b[32m[1027 16:15:05 @base.py:285]\u001b[0m Epoch 154 (global_step 40424) finished, time:4.6 seconds.\n",
      "\u001b[32m[1027 16:15:05 @saver.py:79]\u001b[0m Model saved to ../output/Chicago/DATWGAN_300/model\\model-40424.\n",
      "\u001b[32m[1027 16:15:05 @monitor.py:467]\u001b[0m GAN_loss/d_loss: -0.10211\n",
      "\u001b[32m[1027 16:15:05 @monitor.py:467]\u001b[0m GAN_loss/g_loss: -0.076731\n",
      "\u001b[32m[1027 16:15:05 @monitor.py:467]\u001b[0m GAN_loss/kl_div: 0.097005\n",
      "\u001b[32m[1027 16:15:05 @monitor.py:467]\u001b[0m QueueInput/queue_size: 50\n",
      "\u001b[32m[1027 16:15:05 @base.py:275]\u001b[0m Start Epoch 155 ...\n"
     ]
    },
    {
     "name": "stderr",
     "output_type": "stream",
     "text": [
      "\n",
      "100%|###################################################################################|175/175[00:04<00:00,37.93it/s]"
     ]
    },
    {
     "name": "stdout",
     "output_type": "stream",
     "text": [
      "\u001b[32m[1027 16:15:09 @base.py:285]\u001b[0m Epoch 155 (global_step 40687) finished, time:4.61 seconds.\n",
      "\u001b[32m[1027 16:15:10 @saver.py:79]\u001b[0m Model saved to ../output/Chicago/DATWGAN_300/model\\model-40687.\n",
      "\u001b[32m[1027 16:15:10 @monitor.py:467]\u001b[0m GAN_loss/d_loss: -0.10301\n",
      "\u001b[32m[1027 16:15:10 @monitor.py:467]\u001b[0m GAN_loss/g_loss: -0.076065\n",
      "\u001b[32m[1027 16:15:10 @monitor.py:467]\u001b[0m GAN_loss/kl_div: 0.095632\n",
      "\u001b[32m[1027 16:15:10 @monitor.py:467]\u001b[0m QueueInput/queue_size: 50\n",
      "\u001b[32m[1027 16:15:10 @base.py:275]\u001b[0m Start Epoch 156 ...\n"
     ]
    },
    {
     "name": "stderr",
     "output_type": "stream",
     "text": [
      "\n",
      "100%|###################################################################################|175/175[00:04<00:00,38.05it/s]"
     ]
    },
    {
     "name": "stdout",
     "output_type": "stream",
     "text": [
      "\u001b[32m[1027 16:15:14 @base.py:285]\u001b[0m Epoch 156 (global_step 40949) finished, time:4.6 seconds.\n",
      "\u001b[32m[1027 16:15:14 @saver.py:79]\u001b[0m Model saved to ../output/Chicago/DATWGAN_300/model\\model-40949.\n",
      "\u001b[32m[1027 16:15:14 @monitor.py:467]\u001b[0m GAN_loss/d_loss: -0.10214\n",
      "\u001b[32m[1027 16:15:14 @monitor.py:467]\u001b[0m GAN_loss/g_loss: -0.077253\n",
      "\u001b[32m[1027 16:15:14 @monitor.py:467]\u001b[0m GAN_loss/kl_div: 0.1055\n",
      "\u001b[32m[1027 16:15:14 @monitor.py:467]\u001b[0m QueueInput/queue_size: 50\n",
      "\u001b[32m[1027 16:15:14 @base.py:275]\u001b[0m Start Epoch 157 ...\n"
     ]
    },
    {
     "name": "stderr",
     "output_type": "stream",
     "text": [
      "\n",
      "100%|###################################################################################|175/175[00:04<00:00,37.39it/s]"
     ]
    },
    {
     "name": "stdout",
     "output_type": "stream",
     "text": [
      "\u001b[32m[1027 16:15:19 @base.py:285]\u001b[0m Epoch 157 (global_step 41212) finished, time:4.68 seconds.\n",
      "\u001b[32m[1027 16:15:19 @saver.py:79]\u001b[0m Model saved to ../output/Chicago/DATWGAN_300/model\\model-41212.\n",
      "\u001b[32m[1027 16:15:19 @monitor.py:467]\u001b[0m GAN_loss/d_loss: -0.10128\n",
      "\u001b[32m[1027 16:15:19 @monitor.py:467]\u001b[0m GAN_loss/g_loss: -0.077332\n",
      "\u001b[32m[1027 16:15:19 @monitor.py:467]\u001b[0m GAN_loss/kl_div: 0.10658\n",
      "\u001b[32m[1027 16:15:19 @monitor.py:467]\u001b[0m QueueInput/queue_size: 50\n",
      "\u001b[32m[1027 16:15:19 @base.py:275]\u001b[0m Start Epoch 158 ...\n"
     ]
    },
    {
     "name": "stderr",
     "output_type": "stream",
     "text": [
      "\n",
      "100%|###################################################################################|175/175[00:04<00:00,37.81it/s]"
     ]
    },
    {
     "name": "stdout",
     "output_type": "stream",
     "text": [
      "\u001b[32m[1027 16:15:24 @base.py:285]\u001b[0m Epoch 158 (global_step 41474) finished, time:4.63 seconds.\n",
      "\u001b[32m[1027 16:15:24 @saver.py:79]\u001b[0m Model saved to ../output/Chicago/DATWGAN_300/model\\model-41474.\n",
      "\u001b[32m[1027 16:15:24 @monitor.py:467]\u001b[0m GAN_loss/d_loss: -0.10205\n",
      "\u001b[32m[1027 16:15:24 @monitor.py:467]\u001b[0m GAN_loss/g_loss: -0.077024\n",
      "\u001b[32m[1027 16:15:24 @monitor.py:467]\u001b[0m GAN_loss/kl_div: 0.10414\n",
      "\u001b[32m[1027 16:15:24 @monitor.py:467]\u001b[0m QueueInput/queue_size: 50\n",
      "\u001b[32m[1027 16:15:24 @base.py:275]\u001b[0m Start Epoch 159 ...\n"
     ]
    },
    {
     "name": "stderr",
     "output_type": "stream",
     "text": [
      "\n",
      "100%|###################################################################################|175/175[00:04<00:00,37.66it/s]"
     ]
    },
    {
     "name": "stdout",
     "output_type": "stream",
     "text": [
      "\u001b[32m[1027 16:15:28 @base.py:285]\u001b[0m Epoch 159 (global_step 41737) finished, time:4.65 seconds.\n",
      "\u001b[32m[1027 16:15:28 @saver.py:79]\u001b[0m Model saved to ../output/Chicago/DATWGAN_300/model\\model-41737.\n",
      "\u001b[32m[1027 16:15:28 @monitor.py:467]\u001b[0m GAN_loss/d_loss: -0.10186\n",
      "\u001b[32m[1027 16:15:28 @monitor.py:467]\u001b[0m GAN_loss/g_loss: -0.07699\n",
      "\u001b[32m[1027 16:15:28 @monitor.py:467]\u001b[0m GAN_loss/kl_div: 0.10413\n",
      "\u001b[32m[1027 16:15:28 @monitor.py:467]\u001b[0m QueueInput/queue_size: 50\n",
      "\u001b[32m[1027 16:15:28 @base.py:275]\u001b[0m Start Epoch 160 ...\n"
     ]
    },
    {
     "name": "stderr",
     "output_type": "stream",
     "text": [
      "\n",
      "100%|###################################################################################|175/175[00:04<00:00,38.04it/s]"
     ]
    },
    {
     "name": "stdout",
     "output_type": "stream",
     "text": [
      "\u001b[32m[1027 16:15:33 @base.py:285]\u001b[0m Epoch 160 (global_step 41999) finished, time:4.6 seconds.\n",
      "\u001b[32m[1027 16:15:33 @saver.py:79]\u001b[0m Model saved to ../output/Chicago/DATWGAN_300/model\\model-41999.\n",
      "\u001b[32m[1027 16:15:33 @monitor.py:467]\u001b[0m GAN_loss/d_loss: -0.10223\n",
      "\u001b[32m[1027 16:15:33 @monitor.py:467]\u001b[0m GAN_loss/g_loss: -0.077762\n",
      "\u001b[32m[1027 16:15:33 @monitor.py:467]\u001b[0m GAN_loss/kl_div: 0.10742\n",
      "\u001b[32m[1027 16:15:33 @monitor.py:467]\u001b[0m QueueInput/queue_size: 50\n",
      "\u001b[32m[1027 16:15:33 @base.py:275]\u001b[0m Start Epoch 161 ...\n"
     ]
    },
    {
     "name": "stderr",
     "output_type": "stream",
     "text": [
      "\n",
      "100%|###################################################################################|175/175[00:04<00:00,37.95it/s]"
     ]
    },
    {
     "name": "stdout",
     "output_type": "stream",
     "text": [
      "\u001b[32m[1027 16:15:38 @base.py:285]\u001b[0m Epoch 161 (global_step 42262) finished, time:4.61 seconds.\n",
      "\u001b[32m[1027 16:15:38 @saver.py:79]\u001b[0m Model saved to ../output/Chicago/DATWGAN_300/model\\model-42262.\n",
      "\u001b[32m[1027 16:15:38 @monitor.py:467]\u001b[0m GAN_loss/d_loss: -0.10196\n",
      "\u001b[32m[1027 16:15:38 @monitor.py:467]\u001b[0m GAN_loss/g_loss: -0.078097\n",
      "\u001b[32m[1027 16:15:38 @monitor.py:467]\u001b[0m GAN_loss/kl_div: 0.10211\n",
      "\u001b[32m[1027 16:15:38 @monitor.py:467]\u001b[0m QueueInput/queue_size: 50\n",
      "\u001b[32m[1027 16:15:38 @base.py:275]\u001b[0m Start Epoch 162 ...\n"
     ]
    },
    {
     "name": "stderr",
     "output_type": "stream",
     "text": [
      "\n",
      "100%|###################################################################################|175/175[00:04<00:00,38.06it/s]"
     ]
    },
    {
     "name": "stdout",
     "output_type": "stream",
     "text": [
      "\u001b[32m[1027 16:15:42 @base.py:285]\u001b[0m Epoch 162 (global_step 42524) finished, time:4.6 seconds.\n",
      "\u001b[32m[1027 16:15:43 @saver.py:79]\u001b[0m Model saved to ../output/Chicago/DATWGAN_300/model\\model-42524.\n",
      "\u001b[32m[1027 16:15:43 @monitor.py:467]\u001b[0m GAN_loss/d_loss: -0.10222\n",
      "\u001b[32m[1027 16:15:43 @monitor.py:467]\u001b[0m GAN_loss/g_loss: -0.078856\n",
      "\u001b[32m[1027 16:15:43 @monitor.py:467]\u001b[0m GAN_loss/kl_div: 0.10459\n",
      "\u001b[32m[1027 16:15:43 @monitor.py:467]\u001b[0m QueueInput/queue_size: 50\n",
      "\u001b[32m[1027 16:15:43 @base.py:275]\u001b[0m Start Epoch 163 ...\n"
     ]
    },
    {
     "name": "stderr",
     "output_type": "stream",
     "text": [
      "\n",
      "100%|###################################################################################|175/175[00:04<00:00,37.95it/s]"
     ]
    },
    {
     "name": "stdout",
     "output_type": "stream",
     "text": [
      "\u001b[32m[1027 16:15:47 @base.py:285]\u001b[0m Epoch 163 (global_step 42787) finished, time:4.61 seconds.\n",
      "\u001b[32m[1027 16:15:47 @saver.py:79]\u001b[0m Model saved to ../output/Chicago/DATWGAN_300/model\\model-42787.\n",
      "\u001b[32m[1027 16:15:47 @monitor.py:467]\u001b[0m GAN_loss/d_loss: -0.10104\n",
      "\u001b[32m[1027 16:15:47 @monitor.py:467]\u001b[0m GAN_loss/g_loss: -0.078506\n",
      "\u001b[32m[1027 16:15:47 @monitor.py:467]\u001b[0m GAN_loss/kl_div: 0.1056\n",
      "\u001b[32m[1027 16:15:47 @monitor.py:467]\u001b[0m QueueInput/queue_size: 50\n",
      "\u001b[32m[1027 16:15:47 @base.py:275]\u001b[0m Start Epoch 164 ...\n"
     ]
    },
    {
     "name": "stderr",
     "output_type": "stream",
     "text": [
      "\n",
      "100%|###################################################################################|175/175[00:04<00:00,38.08it/s]"
     ]
    },
    {
     "name": "stdout",
     "output_type": "stream",
     "text": [
      "\u001b[32m[1027 16:15:52 @base.py:285]\u001b[0m Epoch 164 (global_step 43049) finished, time:4.6 seconds.\n",
      "\u001b[32m[1027 16:15:52 @saver.py:79]\u001b[0m Model saved to ../output/Chicago/DATWGAN_300/model\\model-43049.\n",
      "\u001b[32m[1027 16:15:52 @monitor.py:467]\u001b[0m GAN_loss/d_loss: -0.10067\n",
      "\u001b[32m[1027 16:15:52 @monitor.py:467]\u001b[0m GAN_loss/g_loss: -0.079418\n",
      "\u001b[32m[1027 16:15:52 @monitor.py:467]\u001b[0m GAN_loss/kl_div: 0.10872\n",
      "\u001b[32m[1027 16:15:52 @monitor.py:467]\u001b[0m QueueInput/queue_size: 50\n",
      "\u001b[32m[1027 16:15:52 @base.py:275]\u001b[0m Start Epoch 165 ...\n"
     ]
    },
    {
     "name": "stderr",
     "output_type": "stream",
     "text": [
      "\n",
      "100%|###################################################################################|175/175[00:04<00:00,37.95it/s]"
     ]
    },
    {
     "name": "stdout",
     "output_type": "stream",
     "text": [
      "\u001b[32m[1027 16:15:57 @base.py:285]\u001b[0m Epoch 165 (global_step 43312) finished, time:4.61 seconds.\n",
      "\u001b[32m[1027 16:15:57 @saver.py:79]\u001b[0m Model saved to ../output/Chicago/DATWGAN_300/model\\model-43312.\n",
      "\u001b[32m[1027 16:15:57 @monitor.py:467]\u001b[0m GAN_loss/d_loss: -0.099573\n",
      "\u001b[32m[1027 16:15:57 @monitor.py:467]\u001b[0m GAN_loss/g_loss: -0.079824\n",
      "\u001b[32m[1027 16:15:57 @monitor.py:467]\u001b[0m GAN_loss/kl_div: 0.10648\n",
      "\u001b[32m[1027 16:15:57 @monitor.py:467]\u001b[0m QueueInput/queue_size: 50\n",
      "\u001b[32m[1027 16:15:57 @base.py:275]\u001b[0m Start Epoch 166 ...\n"
     ]
    },
    {
     "name": "stderr",
     "output_type": "stream",
     "text": [
      "\n",
      "100%|###################################################################################|175/175[00:04<00:00,38.10it/s]"
     ]
    },
    {
     "name": "stdout",
     "output_type": "stream",
     "text": [
      "\u001b[32m[1027 16:16:01 @base.py:285]\u001b[0m Epoch 166 (global_step 43574) finished, time:4.59 seconds.\n",
      "\u001b[32m[1027 16:16:01 @saver.py:79]\u001b[0m Model saved to ../output/Chicago/DATWGAN_300/model\\model-43574.\n",
      "\u001b[32m[1027 16:16:01 @monitor.py:467]\u001b[0m GAN_loss/d_loss: -0.10049\n",
      "\u001b[32m[1027 16:16:01 @monitor.py:467]\u001b[0m GAN_loss/g_loss: -0.079538\n",
      "\u001b[32m[1027 16:16:01 @monitor.py:467]\u001b[0m GAN_loss/kl_div: 0.105\n",
      "\u001b[32m[1027 16:16:01 @monitor.py:467]\u001b[0m QueueInput/queue_size: 50\n",
      "\u001b[32m[1027 16:16:01 @base.py:275]\u001b[0m Start Epoch 167 ...\n"
     ]
    },
    {
     "name": "stderr",
     "output_type": "stream",
     "text": [
      "\n",
      "100%|###################################################################################|175/175[00:04<00:00,37.92it/s]"
     ]
    },
    {
     "name": "stdout",
     "output_type": "stream",
     "text": [
      "\u001b[32m[1027 16:16:06 @base.py:285]\u001b[0m Epoch 167 (global_step 43837) finished, time:4.62 seconds.\n",
      "\u001b[32m[1027 16:16:06 @saver.py:79]\u001b[0m Model saved to ../output/Chicago/DATWGAN_300/model\\model-43837.\n",
      "\u001b[32m[1027 16:16:06 @monitor.py:467]\u001b[0m GAN_loss/d_loss: -0.10049\n",
      "\u001b[32m[1027 16:16:06 @monitor.py:467]\u001b[0m GAN_loss/g_loss: -0.079488\n",
      "\u001b[32m[1027 16:16:06 @monitor.py:467]\u001b[0m GAN_loss/kl_div: 0.10668\n",
      "\u001b[32m[1027 16:16:06 @monitor.py:467]\u001b[0m QueueInput/queue_size: 50\n",
      "\u001b[32m[1027 16:16:06 @base.py:275]\u001b[0m Start Epoch 168 ...\n"
     ]
    },
    {
     "name": "stderr",
     "output_type": "stream",
     "text": [
      "\n",
      "100%|###################################################################################|175/175[00:04<00:00,38.09it/s]"
     ]
    },
    {
     "name": "stdout",
     "output_type": "stream",
     "text": [
      "\u001b[32m[1027 16:16:11 @base.py:285]\u001b[0m Epoch 168 (global_step 44099) finished, time:4.59 seconds.\n",
      "\u001b[32m[1027 16:16:11 @saver.py:79]\u001b[0m Model saved to ../output/Chicago/DATWGAN_300/model\\model-44099.\n",
      "\u001b[32m[1027 16:16:11 @monitor.py:467]\u001b[0m GAN_loss/d_loss: -0.10093\n",
      "\u001b[32m[1027 16:16:11 @monitor.py:467]\u001b[0m GAN_loss/g_loss: -0.078623\n",
      "\u001b[32m[1027 16:16:11 @monitor.py:467]\u001b[0m GAN_loss/kl_div: 0.10034\n",
      "\u001b[32m[1027 16:16:11 @monitor.py:467]\u001b[0m QueueInput/queue_size: 50\n",
      "\u001b[32m[1027 16:16:11 @base.py:275]\u001b[0m Start Epoch 169 ...\n"
     ]
    },
    {
     "name": "stderr",
     "output_type": "stream",
     "text": [
      "\n",
      "100%|###################################################################################|175/175[00:04<00:00,37.94it/s]"
     ]
    },
    {
     "name": "stdout",
     "output_type": "stream",
     "text": [
      "\u001b[32m[1027 16:16:15 @base.py:285]\u001b[0m Epoch 169 (global_step 44362) finished, time:4.61 seconds.\n",
      "\u001b[32m[1027 16:16:15 @saver.py:79]\u001b[0m Model saved to ../output/Chicago/DATWGAN_300/model\\model-44362.\n",
      "\u001b[32m[1027 16:16:15 @monitor.py:467]\u001b[0m GAN_loss/d_loss: -0.099458\n",
      "\u001b[32m[1027 16:16:15 @monitor.py:467]\u001b[0m GAN_loss/g_loss: -0.07984\n",
      "\u001b[32m[1027 16:16:15 @monitor.py:467]\u001b[0m GAN_loss/kl_div: 0.10528\n",
      "\u001b[32m[1027 16:16:15 @monitor.py:467]\u001b[0m QueueInput/queue_size: 50\n",
      "\u001b[32m[1027 16:16:15 @base.py:275]\u001b[0m Start Epoch 170 ...\n"
     ]
    },
    {
     "name": "stderr",
     "output_type": "stream",
     "text": [
      "\n",
      "100%|###################################################################################|175/175[00:04<00:00,38.05it/s]"
     ]
    },
    {
     "name": "stdout",
     "output_type": "stream",
     "text": [
      "\u001b[32m[1027 16:16:20 @base.py:285]\u001b[0m Epoch 170 (global_step 44624) finished, time:4.6 seconds.\n",
      "\u001b[32m[1027 16:16:20 @saver.py:79]\u001b[0m Model saved to ../output/Chicago/DATWGAN_300/model\\model-44624.\n",
      "\u001b[32m[1027 16:16:20 @monitor.py:467]\u001b[0m GAN_loss/d_loss: -0.097539\n",
      "\u001b[32m[1027 16:16:20 @monitor.py:467]\u001b[0m GAN_loss/g_loss: -0.079657\n",
      "\u001b[32m[1027 16:16:20 @monitor.py:467]\u001b[0m GAN_loss/kl_div: 0.10778\n",
      "\u001b[32m[1027 16:16:20 @monitor.py:467]\u001b[0m QueueInput/queue_size: 50\n",
      "\u001b[32m[1027 16:16:20 @base.py:275]\u001b[0m Start Epoch 171 ...\n"
     ]
    },
    {
     "name": "stderr",
     "output_type": "stream",
     "text": [
      "\n",
      "100%|###################################################################################|175/175[00:04<00:00,37.93it/s]"
     ]
    },
    {
     "name": "stdout",
     "output_type": "stream",
     "text": [
      "\u001b[32m[1027 16:16:25 @base.py:285]\u001b[0m Epoch 171 (global_step 44887) finished, time:4.61 seconds.\n",
      "\u001b[32m[1027 16:16:25 @saver.py:79]\u001b[0m Model saved to ../output/Chicago/DATWGAN_300/model\\model-44887.\n",
      "\u001b[32m[1027 16:16:25 @monitor.py:467]\u001b[0m GAN_loss/d_loss: -0.098871\n",
      "\u001b[32m[1027 16:16:25 @monitor.py:467]\u001b[0m GAN_loss/g_loss: -0.079495\n",
      "\u001b[32m[1027 16:16:25 @monitor.py:467]\u001b[0m GAN_loss/kl_div: 0.10282\n",
      "\u001b[32m[1027 16:16:25 @monitor.py:467]\u001b[0m QueueInput/queue_size: 50\n",
      "\u001b[32m[1027 16:16:25 @base.py:275]\u001b[0m Start Epoch 172 ...\n"
     ]
    },
    {
     "name": "stderr",
     "output_type": "stream",
     "text": [
      "\n",
      "100%|###################################################################################|175/175[00:04<00:00,38.07it/s]"
     ]
    },
    {
     "name": "stdout",
     "output_type": "stream",
     "text": [
      "\u001b[32m[1027 16:16:29 @base.py:285]\u001b[0m Epoch 172 (global_step 45149) finished, time:4.6 seconds.\n",
      "\u001b[32m[1027 16:16:29 @saver.py:79]\u001b[0m Model saved to ../output/Chicago/DATWGAN_300/model\\model-45149.\n",
      "\u001b[32m[1027 16:16:29 @monitor.py:467]\u001b[0m GAN_loss/d_loss: -0.098379\n",
      "\u001b[32m[1027 16:16:29 @monitor.py:467]\u001b[0m GAN_loss/g_loss: -0.078543\n",
      "\u001b[32m[1027 16:16:29 @monitor.py:467]\u001b[0m GAN_loss/kl_div: 0.09859\n",
      "\u001b[32m[1027 16:16:29 @monitor.py:467]\u001b[0m QueueInput/queue_size: 50\n",
      "\u001b[32m[1027 16:16:29 @base.py:275]\u001b[0m Start Epoch 173 ...\n"
     ]
    },
    {
     "name": "stderr",
     "output_type": "stream",
     "text": [
      "\n",
      "100%|###################################################################################|175/175[00:04<00:00,37.87it/s]"
     ]
    },
    {
     "name": "stdout",
     "output_type": "stream",
     "text": [
      "\u001b[32m[1027 16:16:34 @base.py:285]\u001b[0m Epoch 173 (global_step 45412) finished, time:4.62 seconds.\n",
      "\u001b[32m[1027 16:16:34 @saver.py:79]\u001b[0m Model saved to ../output/Chicago/DATWGAN_300/model\\model-45412.\n",
      "\u001b[32m[1027 16:16:34 @monitor.py:467]\u001b[0m GAN_loss/d_loss: -0.098182\n",
      "\u001b[32m[1027 16:16:34 @monitor.py:467]\u001b[0m GAN_loss/g_loss: -0.079037\n",
      "\u001b[32m[1027 16:16:34 @monitor.py:467]\u001b[0m GAN_loss/kl_div: 0.10879\n",
      "\u001b[32m[1027 16:16:34 @monitor.py:467]\u001b[0m QueueInput/queue_size: 50\n",
      "\u001b[32m[1027 16:16:34 @base.py:275]\u001b[0m Start Epoch 174 ...\n"
     ]
    },
    {
     "name": "stderr",
     "output_type": "stream",
     "text": [
      "\n",
      "100%|###################################################################################|175/175[00:04<00:00,38.07it/s]"
     ]
    },
    {
     "name": "stdout",
     "output_type": "stream",
     "text": [
      "\u001b[32m[1027 16:16:39 @base.py:285]\u001b[0m Epoch 174 (global_step 45674) finished, time:4.6 seconds.\n",
      "\u001b[32m[1027 16:16:39 @saver.py:79]\u001b[0m Model saved to ../output/Chicago/DATWGAN_300/model\\model-45674.\n",
      "\u001b[32m[1027 16:16:39 @monitor.py:467]\u001b[0m GAN_loss/d_loss: -0.0986\n",
      "\u001b[32m[1027 16:16:39 @monitor.py:467]\u001b[0m GAN_loss/g_loss: -0.081065\n",
      "\u001b[32m[1027 16:16:39 @monitor.py:467]\u001b[0m GAN_loss/kl_div: 0.11284\n",
      "\u001b[32m[1027 16:16:39 @monitor.py:467]\u001b[0m QueueInput/queue_size: 50\n",
      "\u001b[32m[1027 16:16:39 @base.py:275]\u001b[0m Start Epoch 175 ...\n"
     ]
    },
    {
     "name": "stderr",
     "output_type": "stream",
     "text": [
      "\n",
      "100%|###################################################################################|175/175[00:04<00:00,37.96it/s]"
     ]
    },
    {
     "name": "stdout",
     "output_type": "stream",
     "text": [
      "\u001b[32m[1027 16:16:44 @base.py:285]\u001b[0m Epoch 175 (global_step 45937) finished, time:4.61 seconds.\n",
      "\u001b[32m[1027 16:16:44 @saver.py:79]\u001b[0m Model saved to ../output/Chicago/DATWGAN_300/model\\model-45937.\n",
      "\u001b[32m[1027 16:16:44 @monitor.py:467]\u001b[0m GAN_loss/d_loss: -0.097532\n",
      "\u001b[32m[1027 16:16:44 @monitor.py:467]\u001b[0m GAN_loss/g_loss: -0.080284\n",
      "\u001b[32m[1027 16:16:44 @monitor.py:467]\u001b[0m GAN_loss/kl_div: 0.10684\n",
      "\u001b[32m[1027 16:16:44 @monitor.py:467]\u001b[0m QueueInput/queue_size: 50\n",
      "\u001b[32m[1027 16:16:44 @base.py:275]\u001b[0m Start Epoch 176 ...\n"
     ]
    },
    {
     "name": "stderr",
     "output_type": "stream",
     "text": [
      "\n",
      "100%|###################################################################################|175/175[00:04<00:00,38.09it/s]"
     ]
    },
    {
     "name": "stdout",
     "output_type": "stream",
     "text": [
      "\u001b[32m[1027 16:16:48 @base.py:285]\u001b[0m Epoch 176 (global_step 46199) finished, time:4.6 seconds.\n",
      "\u001b[32m[1027 16:16:48 @saver.py:79]\u001b[0m Model saved to ../output/Chicago/DATWGAN_300/model\\model-46199.\n",
      "\u001b[32m[1027 16:16:48 @monitor.py:467]\u001b[0m GAN_loss/d_loss: -0.098334\n",
      "\u001b[32m[1027 16:16:48 @monitor.py:467]\u001b[0m GAN_loss/g_loss: -0.0808\n",
      "\u001b[32m[1027 16:16:48 @monitor.py:467]\u001b[0m GAN_loss/kl_div: 0.10672\n",
      "\u001b[32m[1027 16:16:48 @monitor.py:467]\u001b[0m QueueInput/queue_size: 50\n",
      "\u001b[32m[1027 16:16:48 @base.py:275]\u001b[0m Start Epoch 177 ...\n"
     ]
    },
    {
     "name": "stderr",
     "output_type": "stream",
     "text": [
      "\n",
      "100%|###################################################################################|175/175[00:04<00:00,37.95it/s]"
     ]
    },
    {
     "name": "stdout",
     "output_type": "stream",
     "text": [
      "\u001b[32m[1027 16:16:53 @base.py:285]\u001b[0m Epoch 177 (global_step 46462) finished, time:4.61 seconds.\n",
      "\u001b[32m[1027 16:16:53 @saver.py:79]\u001b[0m Model saved to ../output/Chicago/DATWGAN_300/model\\model-46462.\n",
      "\u001b[32m[1027 16:16:53 @monitor.py:467]\u001b[0m GAN_loss/d_loss: -0.098162\n",
      "\u001b[32m[1027 16:16:53 @monitor.py:467]\u001b[0m GAN_loss/g_loss: -0.0804\n",
      "\u001b[32m[1027 16:16:53 @monitor.py:467]\u001b[0m GAN_loss/kl_div: 0.099527\n",
      "\u001b[32m[1027 16:16:53 @monitor.py:467]\u001b[0m QueueInput/queue_size: 50\n",
      "\u001b[32m[1027 16:16:53 @base.py:275]\u001b[0m Start Epoch 178 ...\n"
     ]
    },
    {
     "name": "stderr",
     "output_type": "stream",
     "text": [
      "\n",
      "100%|###################################################################################|175/175[00:04<00:00,38.08it/s]"
     ]
    },
    {
     "name": "stdout",
     "output_type": "stream",
     "text": [
      "\u001b[32m[1027 16:16:58 @base.py:285]\u001b[0m Epoch 178 (global_step 46724) finished, time:4.6 seconds.\n",
      "\u001b[32m[1027 16:16:58 @saver.py:79]\u001b[0m Model saved to ../output/Chicago/DATWGAN_300/model\\model-46724.\n",
      "\u001b[32m[1027 16:16:58 @monitor.py:467]\u001b[0m GAN_loss/d_loss: -0.097147\n",
      "\u001b[32m[1027 16:16:58 @monitor.py:467]\u001b[0m GAN_loss/g_loss: -0.080933\n",
      "\u001b[32m[1027 16:16:58 @monitor.py:467]\u001b[0m GAN_loss/kl_div: 0.10443\n",
      "\u001b[32m[1027 16:16:58 @monitor.py:467]\u001b[0m QueueInput/queue_size: 50\n",
      "\u001b[32m[1027 16:16:58 @base.py:275]\u001b[0m Start Epoch 179 ...\n"
     ]
    },
    {
     "name": "stderr",
     "output_type": "stream",
     "text": [
      "\n",
      "100%|###################################################################################|175/175[00:04<00:00,37.96it/s]"
     ]
    },
    {
     "name": "stdout",
     "output_type": "stream",
     "text": [
      "\u001b[32m[1027 16:17:02 @base.py:285]\u001b[0m Epoch 179 (global_step 46987) finished, time:4.61 seconds.\n",
      "\u001b[32m[1027 16:17:02 @saver.py:79]\u001b[0m Model saved to ../output/Chicago/DATWGAN_300/model\\model-46987.\n",
      "\u001b[32m[1027 16:17:02 @monitor.py:467]\u001b[0m GAN_loss/d_loss: -0.097787\n",
      "\u001b[32m[1027 16:17:02 @monitor.py:467]\u001b[0m GAN_loss/g_loss: -0.081385\n",
      "\u001b[32m[1027 16:17:02 @monitor.py:467]\u001b[0m GAN_loss/kl_div: 0.10075\n",
      "\u001b[32m[1027 16:17:02 @monitor.py:467]\u001b[0m QueueInput/queue_size: 50\n",
      "\u001b[32m[1027 16:17:02 @base.py:275]\u001b[0m Start Epoch 180 ...\n"
     ]
    },
    {
     "name": "stderr",
     "output_type": "stream",
     "text": [
      "\n",
      "100%|###################################################################################|175/175[00:04<00:00,38.08it/s]"
     ]
    },
    {
     "name": "stdout",
     "output_type": "stream",
     "text": [
      "\u001b[32m[1027 16:17:07 @base.py:285]\u001b[0m Epoch 180 (global_step 47249) finished, time:4.6 seconds.\n",
      "\u001b[32m[1027 16:17:07 @saver.py:79]\u001b[0m Model saved to ../output/Chicago/DATWGAN_300/model\\model-47249.\n",
      "\u001b[32m[1027 16:17:07 @monitor.py:467]\u001b[0m GAN_loss/d_loss: -0.096312\n",
      "\u001b[32m[1027 16:17:07 @monitor.py:467]\u001b[0m GAN_loss/g_loss: -0.081799\n",
      "\u001b[32m[1027 16:17:07 @monitor.py:467]\u001b[0m GAN_loss/kl_div: 0.10189\n",
      "\u001b[32m[1027 16:17:07 @monitor.py:467]\u001b[0m QueueInput/queue_size: 50\n",
      "\u001b[32m[1027 16:17:07 @base.py:275]\u001b[0m Start Epoch 181 ...\n"
     ]
    },
    {
     "name": "stderr",
     "output_type": "stream",
     "text": [
      "\n",
      "100%|###################################################################################|175/175[00:04<00:00,37.86it/s]"
     ]
    },
    {
     "name": "stdout",
     "output_type": "stream",
     "text": [
      "\u001b[32m[1027 16:17:12 @base.py:285]\u001b[0m Epoch 181 (global_step 47512) finished, time:4.62 seconds.\n",
      "\u001b[32m[1027 16:17:12 @saver.py:79]\u001b[0m Model saved to ../output/Chicago/DATWGAN_300/model\\model-47512.\n",
      "\u001b[32m[1027 16:17:12 @monitor.py:467]\u001b[0m GAN_loss/d_loss: -0.095811\n",
      "\u001b[32m[1027 16:17:12 @monitor.py:467]\u001b[0m GAN_loss/g_loss: -0.081695\n",
      "\u001b[32m[1027 16:17:12 @monitor.py:467]\u001b[0m GAN_loss/kl_div: 0.1047\n",
      "\u001b[32m[1027 16:17:12 @monitor.py:467]\u001b[0m QueueInput/queue_size: 50\n",
      "\u001b[32m[1027 16:17:12 @base.py:275]\u001b[0m Start Epoch 182 ...\n"
     ]
    },
    {
     "name": "stderr",
     "output_type": "stream",
     "text": [
      "\n",
      "100%|###################################################################################|175/175[00:04<00:00,36.18it/s]"
     ]
    },
    {
     "name": "stdout",
     "output_type": "stream",
     "text": [
      "\u001b[32m[1027 16:17:17 @base.py:285]\u001b[0m Epoch 182 (global_step 47774) finished, time:4.84 seconds.\n"
     ]
    },
    {
     "name": "stderr",
     "output_type": "stream",
     "text": [
      "\n"
     ]
    },
    {
     "name": "stdout",
     "output_type": "stream",
     "text": [
      "\u001b[32m[1027 16:17:17 @saver.py:79]\u001b[0m Model saved to ../output/Chicago/DATWGAN_300/model\\model-47774.\n",
      "\u001b[32m[1027 16:17:17 @monitor.py:467]\u001b[0m GAN_loss/d_loss: -0.096948\n",
      "\u001b[32m[1027 16:17:17 @monitor.py:467]\u001b[0m GAN_loss/g_loss: -0.081417\n",
      "\u001b[32m[1027 16:17:17 @monitor.py:467]\u001b[0m GAN_loss/kl_div: 0.10479\n",
      "\u001b[32m[1027 16:17:17 @monitor.py:467]\u001b[0m QueueInput/queue_size: 50\n",
      "\u001b[32m[1027 16:17:17 @base.py:275]\u001b[0m Start Epoch 183 ...\n"
     ]
    },
    {
     "name": "stderr",
     "output_type": "stream",
     "text": [
      "100%|###################################################################################|175/175[00:04<00:00,37.25it/s]"
     ]
    },
    {
     "name": "stdout",
     "output_type": "stream",
     "text": [
      "\u001b[32m[1027 16:17:21 @base.py:285]\u001b[0m Epoch 183 (global_step 48037) finished, time:4.7 seconds.\n",
      "\u001b[32m[1027 16:17:21 @saver.py:79]\u001b[0m Model saved to ../output/Chicago/DATWGAN_300/model\\model-48037.\n",
      "\u001b[32m[1027 16:17:22 @monitor.py:467]\u001b[0m GAN_loss/d_loss: -0.095861\n",
      "\u001b[32m[1027 16:17:22 @monitor.py:467]\u001b[0m GAN_loss/g_loss: -0.081156\n",
      "\u001b[32m[1027 16:17:22 @monitor.py:467]\u001b[0m GAN_loss/kl_div: 0.09826\n",
      "\u001b[32m[1027 16:17:22 @monitor.py:467]\u001b[0m QueueInput/queue_size: 50\n",
      "\u001b[32m[1027 16:17:22 @base.py:275]\u001b[0m Start Epoch 184 ...\n"
     ]
    },
    {
     "name": "stderr",
     "output_type": "stream",
     "text": [
      "\n",
      "100%|###################################################################################|175/175[00:04<00:00,37.61it/s]"
     ]
    },
    {
     "name": "stdout",
     "output_type": "stream",
     "text": [
      "\u001b[32m[1027 16:17:26 @base.py:285]\u001b[0m Epoch 184 (global_step 48299) finished, time:4.65 seconds.\n",
      "\u001b[32m[1027 16:17:26 @saver.py:79]\u001b[0m Model saved to ../output/Chicago/DATWGAN_300/model\\model-48299.\n",
      "\u001b[32m[1027 16:17:26 @monitor.py:467]\u001b[0m GAN_loss/d_loss: -0.095179\n",
      "\u001b[32m[1027 16:17:26 @monitor.py:467]\u001b[0m GAN_loss/g_loss: -0.081717\n",
      "\u001b[32m[1027 16:17:26 @monitor.py:467]\u001b[0m GAN_loss/kl_div: 0.10264\n",
      "\u001b[32m[1027 16:17:26 @monitor.py:467]\u001b[0m QueueInput/queue_size: 50\n",
      "\u001b[32m[1027 16:17:26 @base.py:275]\u001b[0m Start Epoch 185 ...\n"
     ]
    },
    {
     "name": "stderr",
     "output_type": "stream",
     "text": [
      "\n",
      "100%|###################################################################################|175/175[00:04<00:00,37.91it/s]"
     ]
    },
    {
     "name": "stdout",
     "output_type": "stream",
     "text": [
      "\u001b[32m[1027 16:17:31 @base.py:285]\u001b[0m Epoch 185 (global_step 48562) finished, time:4.62 seconds.\n",
      "\u001b[32m[1027 16:17:31 @saver.py:79]\u001b[0m Model saved to ../output/Chicago/DATWGAN_300/model\\model-48562.\n",
      "\u001b[32m[1027 16:17:31 @monitor.py:467]\u001b[0m GAN_loss/d_loss: -0.094712\n",
      "\u001b[32m[1027 16:17:31 @monitor.py:467]\u001b[0m GAN_loss/g_loss: -0.081797\n",
      "\u001b[32m[1027 16:17:31 @monitor.py:467]\u001b[0m GAN_loss/kl_div: 0.10025\n",
      "\u001b[32m[1027 16:17:31 @monitor.py:467]\u001b[0m QueueInput/queue_size: 50\n",
      "\u001b[32m[1027 16:17:31 @base.py:275]\u001b[0m Start Epoch 186 ...\n"
     ]
    },
    {
     "name": "stderr",
     "output_type": "stream",
     "text": [
      "\n",
      "100%|###################################################################################|175/175[00:04<00:00,38.07it/s]"
     ]
    },
    {
     "name": "stdout",
     "output_type": "stream",
     "text": [
      "\u001b[32m[1027 16:17:36 @base.py:285]\u001b[0m Epoch 186 (global_step 48824) finished, time:4.6 seconds.\n",
      "\u001b[32m[1027 16:17:36 @saver.py:79]\u001b[0m Model saved to ../output/Chicago/DATWGAN_300/model\\model-48824.\n",
      "\u001b[32m[1027 16:17:36 @monitor.py:467]\u001b[0m GAN_loss/d_loss: -0.095001\n",
      "\u001b[32m[1027 16:17:36 @monitor.py:467]\u001b[0m GAN_loss/g_loss: -0.082149\n",
      "\u001b[32m[1027 16:17:36 @monitor.py:467]\u001b[0m GAN_loss/kl_div: 0.10833\n",
      "\u001b[32m[1027 16:17:36 @monitor.py:467]\u001b[0m QueueInput/queue_size: 50\n",
      "\u001b[32m[1027 16:17:36 @base.py:275]\u001b[0m Start Epoch 187 ...\n"
     ]
    },
    {
     "name": "stderr",
     "output_type": "stream",
     "text": [
      "\n",
      "100%|###################################################################################|175/175[00:04<00:00,37.98it/s]"
     ]
    },
    {
     "name": "stdout",
     "output_type": "stream",
     "text": [
      "\u001b[32m[1027 16:17:40 @base.py:285]\u001b[0m Epoch 187 (global_step 49087) finished, time:4.61 seconds.\n",
      "\u001b[32m[1027 16:17:40 @saver.py:79]\u001b[0m Model saved to ../output/Chicago/DATWGAN_300/model\\model-49087.\n",
      "\u001b[32m[1027 16:17:40 @monitor.py:467]\u001b[0m GAN_loss/d_loss: -0.093584\n",
      "\u001b[32m[1027 16:17:40 @monitor.py:467]\u001b[0m GAN_loss/g_loss: -0.082317\n",
      "\u001b[32m[1027 16:17:40 @monitor.py:467]\u001b[0m GAN_loss/kl_div: 0.10451\n",
      "\u001b[32m[1027 16:17:40 @monitor.py:467]\u001b[0m QueueInput/queue_size: 50\n",
      "\u001b[32m[1027 16:17:40 @base.py:275]\u001b[0m Start Epoch 188 ...\n"
     ]
    },
    {
     "name": "stderr",
     "output_type": "stream",
     "text": [
      "\n",
      "100%|###################################################################################|175/175[00:04<00:00,38.05it/s]"
     ]
    },
    {
     "name": "stdout",
     "output_type": "stream",
     "text": [
      "\u001b[32m[1027 16:17:45 @base.py:285]\u001b[0m Epoch 188 (global_step 49349) finished, time:4.6 seconds.\n",
      "\u001b[32m[1027 16:17:45 @saver.py:79]\u001b[0m Model saved to ../output/Chicago/DATWGAN_300/model\\model-49349.\n",
      "\u001b[32m[1027 16:17:45 @monitor.py:467]\u001b[0m GAN_loss/d_loss: -0.09496\n",
      "\u001b[32m[1027 16:17:45 @monitor.py:467]\u001b[0m GAN_loss/g_loss: -0.081139\n",
      "\u001b[32m[1027 16:17:45 @monitor.py:467]\u001b[0m GAN_loss/kl_div: 0.10721\n",
      "\u001b[32m[1027 16:17:45 @monitor.py:467]\u001b[0m QueueInput/queue_size: 50\n",
      "\u001b[32m[1027 16:17:45 @base.py:275]\u001b[0m Start Epoch 189 ...\n"
     ]
    },
    {
     "name": "stderr",
     "output_type": "stream",
     "text": [
      "\n",
      "100%|###################################################################################|175/175[00:04<00:00,37.95it/s]"
     ]
    },
    {
     "name": "stdout",
     "output_type": "stream",
     "text": [
      "\u001b[32m[1027 16:17:50 @base.py:285]\u001b[0m Epoch 189 (global_step 49612) finished, time:4.61 seconds.\n",
      "\u001b[32m[1027 16:17:50 @saver.py:79]\u001b[0m Model saved to ../output/Chicago/DATWGAN_300/model\\model-49612.\n",
      "\u001b[32m[1027 16:17:50 @monitor.py:467]\u001b[0m GAN_loss/d_loss: -0.093874\n",
      "\u001b[32m[1027 16:17:50 @monitor.py:467]\u001b[0m GAN_loss/g_loss: -0.082141\n",
      "\u001b[32m[1027 16:17:50 @monitor.py:467]\u001b[0m GAN_loss/kl_div: 0.10298\n",
      "\u001b[32m[1027 16:17:50 @monitor.py:467]\u001b[0m QueueInput/queue_size: 50\n",
      "\u001b[32m[1027 16:17:50 @base.py:275]\u001b[0m Start Epoch 190 ...\n"
     ]
    },
    {
     "name": "stderr",
     "output_type": "stream",
     "text": [
      "\n",
      "100%|###################################################################################|175/175[00:04<00:00,38.08it/s]"
     ]
    },
    {
     "name": "stdout",
     "output_type": "stream",
     "text": [
      "\u001b[32m[1027 16:17:54 @base.py:285]\u001b[0m Epoch 190 (global_step 49874) finished, time:4.6 seconds.\n",
      "\u001b[32m[1027 16:17:54 @saver.py:79]\u001b[0m Model saved to ../output/Chicago/DATWGAN_300/model\\model-49874.\n",
      "\u001b[32m[1027 16:17:54 @monitor.py:467]\u001b[0m GAN_loss/d_loss: -0.094344\n",
      "\u001b[32m[1027 16:17:54 @monitor.py:467]\u001b[0m GAN_loss/g_loss: -0.081989\n",
      "\u001b[32m[1027 16:17:54 @monitor.py:467]\u001b[0m GAN_loss/kl_div: 0.10822\n",
      "\u001b[32m[1027 16:17:54 @monitor.py:467]\u001b[0m QueueInput/queue_size: 50\n",
      "\u001b[32m[1027 16:17:54 @base.py:275]\u001b[0m Start Epoch 191 ...\n"
     ]
    },
    {
     "name": "stderr",
     "output_type": "stream",
     "text": [
      "\n",
      "100%|###################################################################################|175/175[00:04<00:00,37.96it/s]"
     ]
    },
    {
     "name": "stdout",
     "output_type": "stream",
     "text": [
      "\u001b[32m[1027 16:17:59 @base.py:285]\u001b[0m Epoch 191 (global_step 50137) finished, time:4.61 seconds.\n",
      "\u001b[32m[1027 16:17:59 @saver.py:79]\u001b[0m Model saved to ../output/Chicago/DATWGAN_300/model\\model-50137.\n",
      "\u001b[32m[1027 16:17:59 @monitor.py:467]\u001b[0m GAN_loss/d_loss: -0.093568\n",
      "\u001b[32m[1027 16:17:59 @monitor.py:467]\u001b[0m GAN_loss/g_loss: -0.081621\n",
      "\u001b[32m[1027 16:17:59 @monitor.py:467]\u001b[0m GAN_loss/kl_div: 0.10605\n",
      "\u001b[32m[1027 16:17:59 @monitor.py:467]\u001b[0m QueueInput/queue_size: 50\n",
      "\u001b[32m[1027 16:17:59 @base.py:275]\u001b[0m Start Epoch 192 ...\n"
     ]
    },
    {
     "name": "stderr",
     "output_type": "stream",
     "text": [
      "\n",
      "100%|###################################################################################|175/175[00:04<00:00,38.07it/s]"
     ]
    },
    {
     "name": "stdout",
     "output_type": "stream",
     "text": [
      "\u001b[32m[1027 16:18:04 @base.py:285]\u001b[0m Epoch 192 (global_step 50399) finished, time:4.6 seconds.\n",
      "\u001b[32m[1027 16:18:04 @saver.py:79]\u001b[0m Model saved to ../output/Chicago/DATWGAN_300/model\\model-50399.\n",
      "\u001b[32m[1027 16:18:04 @monitor.py:467]\u001b[0m GAN_loss/d_loss: -0.094773\n",
      "\u001b[32m[1027 16:18:04 @monitor.py:467]\u001b[0m GAN_loss/g_loss: -0.081302\n",
      "\u001b[32m[1027 16:18:04 @monitor.py:467]\u001b[0m GAN_loss/kl_div: 0.10706\n",
      "\u001b[32m[1027 16:18:04 @monitor.py:467]\u001b[0m QueueInput/queue_size: 50\n",
      "\u001b[32m[1027 16:18:04 @base.py:275]\u001b[0m Start Epoch 193 ...\n"
     ]
    },
    {
     "name": "stderr",
     "output_type": "stream",
     "text": [
      "\n",
      "100%|###################################################################################|175/175[00:04<00:00,37.93it/s]"
     ]
    },
    {
     "name": "stdout",
     "output_type": "stream",
     "text": [
      "\u001b[32m[1027 16:18:08 @base.py:285]\u001b[0m Epoch 193 (global_step 50662) finished, time:4.61 seconds.\n",
      "\u001b[32m[1027 16:18:09 @saver.py:79]\u001b[0m Model saved to ../output/Chicago/DATWGAN_300/model\\model-50662.\n",
      "\u001b[32m[1027 16:18:09 @monitor.py:467]\u001b[0m GAN_loss/d_loss: -0.09344\n",
      "\u001b[32m[1027 16:18:09 @monitor.py:467]\u001b[0m GAN_loss/g_loss: -0.081428\n",
      "\u001b[32m[1027 16:18:09 @monitor.py:467]\u001b[0m GAN_loss/kl_div: 0.10908\n",
      "\u001b[32m[1027 16:18:09 @monitor.py:467]\u001b[0m QueueInput/queue_size: 50\n",
      "\u001b[32m[1027 16:18:09 @base.py:275]\u001b[0m Start Epoch 194 ...\n"
     ]
    },
    {
     "name": "stderr",
     "output_type": "stream",
     "text": [
      "\n",
      "100%|###################################################################################|175/175[00:04<00:00,38.06it/s]"
     ]
    },
    {
     "name": "stdout",
     "output_type": "stream",
     "text": [
      "\u001b[32m[1027 16:18:13 @base.py:285]\u001b[0m Epoch 194 (global_step 50924) finished, time:4.6 seconds.\n",
      "\u001b[32m[1027 16:18:13 @saver.py:79]\u001b[0m Model saved to ../output/Chicago/DATWGAN_300/model\\model-50924.\n",
      "\u001b[32m[1027 16:18:13 @monitor.py:467]\u001b[0m GAN_loss/d_loss: -0.092922\n",
      "\u001b[32m[1027 16:18:13 @monitor.py:467]\u001b[0m GAN_loss/g_loss: -0.082052\n",
      "\u001b[32m[1027 16:18:13 @monitor.py:467]\u001b[0m GAN_loss/kl_div: 0.10103\n",
      "\u001b[32m[1027 16:18:13 @monitor.py:467]\u001b[0m QueueInput/queue_size: 50\n",
      "\u001b[32m[1027 16:18:13 @base.py:275]\u001b[0m Start Epoch 195 ...\n"
     ]
    },
    {
     "name": "stderr",
     "output_type": "stream",
     "text": [
      "\n",
      "100%|###################################################################################|175/175[00:04<00:00,37.95it/s]"
     ]
    },
    {
     "name": "stdout",
     "output_type": "stream",
     "text": [
      "\u001b[32m[1027 16:18:18 @base.py:285]\u001b[0m Epoch 195 (global_step 51187) finished, time:4.61 seconds.\n",
      "\u001b[32m[1027 16:18:18 @saver.py:79]\u001b[0m Model saved to ../output/Chicago/DATWGAN_300/model\\model-51187.\n",
      "\u001b[32m[1027 16:18:18 @monitor.py:467]\u001b[0m GAN_loss/d_loss: -0.092826\n",
      "\u001b[32m[1027 16:18:18 @monitor.py:467]\u001b[0m GAN_loss/g_loss: -0.081067\n",
      "\u001b[32m[1027 16:18:18 @monitor.py:467]\u001b[0m GAN_loss/kl_div: 0.10393\n",
      "\u001b[32m[1027 16:18:18 @monitor.py:467]\u001b[0m QueueInput/queue_size: 50\n",
      "\u001b[32m[1027 16:18:18 @base.py:275]\u001b[0m Start Epoch 196 ...\n"
     ]
    },
    {
     "name": "stderr",
     "output_type": "stream",
     "text": [
      "\n",
      "100%|###################################################################################|175/175[00:04<00:00,38.08it/s]"
     ]
    },
    {
     "name": "stdout",
     "output_type": "stream",
     "text": [
      "\u001b[32m[1027 16:18:23 @base.py:285]\u001b[0m Epoch 196 (global_step 51449) finished, time:4.6 seconds.\n",
      "\u001b[32m[1027 16:18:23 @saver.py:79]\u001b[0m Model saved to ../output/Chicago/DATWGAN_300/model\\model-51449.\n",
      "\u001b[32m[1027 16:18:23 @monitor.py:467]\u001b[0m GAN_loss/d_loss: -0.092936\n",
      "\u001b[32m[1027 16:18:23 @monitor.py:467]\u001b[0m GAN_loss/g_loss: -0.081964\n",
      "\u001b[32m[1027 16:18:23 @monitor.py:467]\u001b[0m GAN_loss/kl_div: 0.10258\n",
      "\u001b[32m[1027 16:18:23 @monitor.py:467]\u001b[0m QueueInput/queue_size: 50\n",
      "\u001b[32m[1027 16:18:23 @base.py:275]\u001b[0m Start Epoch 197 ...\n"
     ]
    },
    {
     "name": "stderr",
     "output_type": "stream",
     "text": [
      "\n",
      "100%|###################################################################################|175/175[00:04<00:00,37.95it/s]"
     ]
    },
    {
     "name": "stdout",
     "output_type": "stream",
     "text": [
      "\u001b[32m[1027 16:18:27 @base.py:285]\u001b[0m Epoch 197 (global_step 51712) finished, time:4.61 seconds.\n",
      "\u001b[32m[1027 16:18:27 @saver.py:79]\u001b[0m Model saved to ../output/Chicago/DATWGAN_300/model\\model-51712.\n",
      "\u001b[32m[1027 16:18:27 @monitor.py:467]\u001b[0m GAN_loss/d_loss: -0.092625\n",
      "\u001b[32m[1027 16:18:27 @monitor.py:467]\u001b[0m GAN_loss/g_loss: -0.082066\n",
      "\u001b[32m[1027 16:18:27 @monitor.py:467]\u001b[0m GAN_loss/kl_div: 0.11004\n",
      "\u001b[32m[1027 16:18:27 @monitor.py:467]\u001b[0m QueueInput/queue_size: 50\n",
      "\u001b[32m[1027 16:18:27 @base.py:275]\u001b[0m Start Epoch 198 ...\n"
     ]
    },
    {
     "name": "stderr",
     "output_type": "stream",
     "text": [
      "\n",
      "100%|###################################################################################|175/175[00:04<00:00,37.77it/s]"
     ]
    },
    {
     "name": "stdout",
     "output_type": "stream",
     "text": [
      "\u001b[32m[1027 16:18:32 @base.py:285]\u001b[0m Epoch 198 (global_step 51974) finished, time:4.63 seconds.\n",
      "\u001b[32m[1027 16:18:32 @saver.py:79]\u001b[0m Model saved to ../output/Chicago/DATWGAN_300/model\\model-51974.\n",
      "\u001b[32m[1027 16:18:32 @monitor.py:467]\u001b[0m GAN_loss/d_loss: -0.091202\n",
      "\u001b[32m[1027 16:18:32 @monitor.py:467]\u001b[0m GAN_loss/g_loss: -0.082627\n",
      "\u001b[32m[1027 16:18:32 @monitor.py:467]\u001b[0m GAN_loss/kl_div: 0.10857\n",
      "\u001b[32m[1027 16:18:32 @monitor.py:467]\u001b[0m QueueInput/queue_size: 50\n",
      "\u001b[32m[1027 16:18:32 @base.py:275]\u001b[0m Start Epoch 199 ...\n"
     ]
    },
    {
     "name": "stderr",
     "output_type": "stream",
     "text": [
      "\n",
      "100%|###################################################################################|175/175[00:04<00:00,37.93it/s]"
     ]
    },
    {
     "name": "stdout",
     "output_type": "stream",
     "text": [
      "\u001b[32m[1027 16:18:37 @base.py:285]\u001b[0m Epoch 199 (global_step 52237) finished, time:4.61 seconds.\n",
      "\u001b[32m[1027 16:18:37 @saver.py:79]\u001b[0m Model saved to ../output/Chicago/DATWGAN_300/model\\model-52237.\n",
      "\u001b[32m[1027 16:18:37 @monitor.py:467]\u001b[0m GAN_loss/d_loss: -0.092284\n",
      "\u001b[32m[1027 16:18:37 @monitor.py:467]\u001b[0m GAN_loss/g_loss: -0.082467\n",
      "\u001b[32m[1027 16:18:37 @monitor.py:467]\u001b[0m GAN_loss/kl_div: 0.10198\n",
      "\u001b[32m[1027 16:18:37 @monitor.py:467]\u001b[0m QueueInput/queue_size: 50\n",
      "\u001b[32m[1027 16:18:37 @base.py:275]\u001b[0m Start Epoch 200 ...\n"
     ]
    },
    {
     "name": "stderr",
     "output_type": "stream",
     "text": [
      "\n",
      "100%|###################################################################################|175/175[00:04<00:00,38.05it/s]"
     ]
    },
    {
     "name": "stdout",
     "output_type": "stream",
     "text": [
      "\u001b[32m[1027 16:18:41 @base.py:285]\u001b[0m Epoch 200 (global_step 52499) finished, time:4.6 seconds.\n",
      "\u001b[32m[1027 16:18:41 @saver.py:79]\u001b[0m Model saved to ../output/Chicago/DATWGAN_300/model\\model-52499.\n",
      "\u001b[32m[1027 16:18:41 @monitor.py:467]\u001b[0m GAN_loss/d_loss: -0.091127\n",
      "\u001b[32m[1027 16:18:41 @monitor.py:467]\u001b[0m GAN_loss/g_loss: -0.083706\n",
      "\u001b[32m[1027 16:18:41 @monitor.py:467]\u001b[0m GAN_loss/kl_div: 0.1014\n",
      "\u001b[32m[1027 16:18:41 @monitor.py:467]\u001b[0m QueueInput/queue_size: 50\n",
      "\u001b[32m[1027 16:18:41 @base.py:275]\u001b[0m Start Epoch 201 ...\n"
     ]
    },
    {
     "name": "stderr",
     "output_type": "stream",
     "text": [
      "\n",
      "100%|###################################################################################|175/175[00:04<00:00,37.96it/s]"
     ]
    },
    {
     "name": "stdout",
     "output_type": "stream",
     "text": [
      "\u001b[32m[1027 16:18:46 @base.py:285]\u001b[0m Epoch 201 (global_step 52762) finished, time:4.61 seconds.\n",
      "\u001b[32m[1027 16:18:46 @saver.py:79]\u001b[0m Model saved to ../output/Chicago/DATWGAN_300/model\\model-52762.\n",
      "\u001b[32m[1027 16:18:46 @monitor.py:467]\u001b[0m GAN_loss/d_loss: -0.091981\n",
      "\u001b[32m[1027 16:18:46 @monitor.py:467]\u001b[0m GAN_loss/g_loss: -0.083249\n",
      "\u001b[32m[1027 16:18:46 @monitor.py:467]\u001b[0m GAN_loss/kl_div: 0.10102\n",
      "\u001b[32m[1027 16:18:46 @monitor.py:467]\u001b[0m QueueInput/queue_size: 50\n",
      "\u001b[32m[1027 16:18:46 @base.py:275]\u001b[0m Start Epoch 202 ...\n"
     ]
    },
    {
     "name": "stderr",
     "output_type": "stream",
     "text": [
      "\n",
      "100%|###################################################################################|175/175[00:04<00:00,38.06it/s]"
     ]
    },
    {
     "name": "stdout",
     "output_type": "stream",
     "text": [
      "\u001b[32m[1027 16:18:51 @base.py:285]\u001b[0m Epoch 202 (global_step 53024) finished, time:4.6 seconds.\n",
      "\u001b[32m[1027 16:18:51 @saver.py:79]\u001b[0m Model saved to ../output/Chicago/DATWGAN_300/model\\model-53024.\n",
      "\u001b[32m[1027 16:18:51 @monitor.py:467]\u001b[0m GAN_loss/d_loss: -0.091251\n",
      "\u001b[32m[1027 16:18:51 @monitor.py:467]\u001b[0m GAN_loss/g_loss: -0.085059\n",
      "\u001b[32m[1027 16:18:51 @monitor.py:467]\u001b[0m GAN_loss/kl_div: 0.10256\n",
      "\u001b[32m[1027 16:18:51 @monitor.py:467]\u001b[0m QueueInput/queue_size: 50\n",
      "\u001b[32m[1027 16:18:51 @base.py:275]\u001b[0m Start Epoch 203 ...\n"
     ]
    },
    {
     "name": "stderr",
     "output_type": "stream",
     "text": [
      "\n",
      "100%|###################################################################################|175/175[00:04<00:00,37.96it/s]"
     ]
    },
    {
     "name": "stdout",
     "output_type": "stream",
     "text": [
      "\u001b[32m[1027 16:18:55 @base.py:285]\u001b[0m Epoch 203 (global_step 53287) finished, time:4.61 seconds.\n",
      "\u001b[32m[1027 16:18:56 @saver.py:79]\u001b[0m Model saved to ../output/Chicago/DATWGAN_300/model\\model-53287.\n",
      "\u001b[32m[1027 16:18:56 @monitor.py:467]\u001b[0m GAN_loss/d_loss: -0.09151\n",
      "\u001b[32m[1027 16:18:56 @monitor.py:467]\u001b[0m GAN_loss/g_loss: -0.083478\n",
      "\u001b[32m[1027 16:18:56 @monitor.py:467]\u001b[0m GAN_loss/kl_div: 0.1062\n",
      "\u001b[32m[1027 16:18:56 @monitor.py:467]\u001b[0m QueueInput/queue_size: 50\n",
      "\u001b[32m[1027 16:18:56 @base.py:275]\u001b[0m Start Epoch 204 ...\n"
     ]
    },
    {
     "name": "stderr",
     "output_type": "stream",
     "text": [
      "\n",
      "100%|###################################################################################|175/175[00:04<00:00,38.08it/s]"
     ]
    },
    {
     "name": "stdout",
     "output_type": "stream",
     "text": [
      "\u001b[32m[1027 16:19:00 @base.py:285]\u001b[0m Epoch 204 (global_step 53549) finished, time:4.6 seconds.\n",
      "\u001b[32m[1027 16:19:00 @saver.py:79]\u001b[0m Model saved to ../output/Chicago/DATWGAN_300/model\\model-53549.\n",
      "\u001b[32m[1027 16:19:00 @monitor.py:467]\u001b[0m GAN_loss/d_loss: -0.09092\n",
      "\u001b[32m[1027 16:19:00 @monitor.py:467]\u001b[0m GAN_loss/g_loss: -0.085193\n",
      "\u001b[32m[1027 16:19:00 @monitor.py:467]\u001b[0m GAN_loss/kl_div: 0.10106\n",
      "\u001b[32m[1027 16:19:00 @monitor.py:467]\u001b[0m QueueInput/queue_size: 50\n",
      "\u001b[32m[1027 16:19:00 @base.py:275]\u001b[0m Start Epoch 205 ...\n"
     ]
    },
    {
     "name": "stderr",
     "output_type": "stream",
     "text": [
      "\n",
      "100%|###################################################################################|175/175[00:04<00:00,37.95it/s]"
     ]
    },
    {
     "name": "stdout",
     "output_type": "stream",
     "text": [
      "\u001b[32m[1027 16:19:05 @base.py:285]\u001b[0m Epoch 205 (global_step 53812) finished, time:4.61 seconds.\n",
      "\u001b[32m[1027 16:19:05 @saver.py:79]\u001b[0m Model saved to ../output/Chicago/DATWGAN_300/model\\model-53812.\n",
      "\u001b[32m[1027 16:19:05 @monitor.py:467]\u001b[0m GAN_loss/d_loss: -0.090886\n",
      "\u001b[32m[1027 16:19:05 @monitor.py:467]\u001b[0m GAN_loss/g_loss: -0.084347\n",
      "\u001b[32m[1027 16:19:05 @monitor.py:467]\u001b[0m GAN_loss/kl_div: 0.10644\n",
      "\u001b[32m[1027 16:19:05 @monitor.py:467]\u001b[0m QueueInput/queue_size: 50\n",
      "\u001b[32m[1027 16:19:05 @base.py:275]\u001b[0m Start Epoch 206 ...\n"
     ]
    },
    {
     "name": "stderr",
     "output_type": "stream",
     "text": [
      "\n",
      "100%|###################################################################################|175/175[00:04<00:00,38.05it/s]"
     ]
    },
    {
     "name": "stdout",
     "output_type": "stream",
     "text": [
      "\u001b[32m[1027 16:19:10 @base.py:285]\u001b[0m Epoch 206 (global_step 54074) finished, time:4.6 seconds.\n",
      "\u001b[32m[1027 16:19:10 @saver.py:79]\u001b[0m Model saved to ../output/Chicago/DATWGAN_300/model\\model-54074.\n",
      "\u001b[32m[1027 16:19:10 @monitor.py:467]\u001b[0m GAN_loss/d_loss: -0.090174\n",
      "\u001b[32m[1027 16:19:10 @monitor.py:467]\u001b[0m GAN_loss/g_loss: -0.084398\n",
      "\u001b[32m[1027 16:19:10 @monitor.py:467]\u001b[0m GAN_loss/kl_div: 0.1042\n",
      "\u001b[32m[1027 16:19:10 @monitor.py:467]\u001b[0m QueueInput/queue_size: 50\n",
      "\u001b[32m[1027 16:19:10 @base.py:275]\u001b[0m Start Epoch 207 ...\n"
     ]
    },
    {
     "name": "stderr",
     "output_type": "stream",
     "text": [
      "\n",
      "100%|###################################################################################|175/175[00:04<00:00,37.93it/s]"
     ]
    },
    {
     "name": "stdout",
     "output_type": "stream",
     "text": [
      "\u001b[32m[1027 16:19:14 @base.py:285]\u001b[0m Epoch 207 (global_step 54337) finished, time:4.61 seconds.\n",
      "\u001b[32m[1027 16:19:14 @saver.py:79]\u001b[0m Model saved to ../output/Chicago/DATWGAN_300/model\\model-54337.\n",
      "\u001b[32m[1027 16:19:14 @monitor.py:467]\u001b[0m GAN_loss/d_loss: -0.089452\n",
      "\u001b[32m[1027 16:19:14 @monitor.py:467]\u001b[0m GAN_loss/g_loss: -0.084813\n",
      "\u001b[32m[1027 16:19:14 @monitor.py:467]\u001b[0m GAN_loss/kl_div: 0.10945\n",
      "\u001b[32m[1027 16:19:14 @monitor.py:467]\u001b[0m QueueInput/queue_size: 50\n",
      "\u001b[32m[1027 16:19:14 @base.py:275]\u001b[0m Start Epoch 208 ...\n"
     ]
    },
    {
     "name": "stderr",
     "output_type": "stream",
     "text": [
      "\n",
      "100%|###################################################################################|175/175[00:04<00:00,38.05it/s]"
     ]
    },
    {
     "name": "stdout",
     "output_type": "stream",
     "text": [
      "\u001b[32m[1027 16:19:19 @base.py:285]\u001b[0m Epoch 208 (global_step 54599) finished, time:4.6 seconds.\n",
      "\u001b[32m[1027 16:19:19 @saver.py:79]\u001b[0m Model saved to ../output/Chicago/DATWGAN_300/model\\model-54599.\n",
      "\u001b[32m[1027 16:19:19 @monitor.py:467]\u001b[0m GAN_loss/d_loss: -0.089546\n",
      "\u001b[32m[1027 16:19:19 @monitor.py:467]\u001b[0m GAN_loss/g_loss: -0.084797\n",
      "\u001b[32m[1027 16:19:19 @monitor.py:467]\u001b[0m GAN_loss/kl_div: 0.10731\n",
      "\u001b[32m[1027 16:19:19 @monitor.py:467]\u001b[0m QueueInput/queue_size: 50\n",
      "\u001b[32m[1027 16:19:19 @base.py:275]\u001b[0m Start Epoch 209 ...\n"
     ]
    },
    {
     "name": "stderr",
     "output_type": "stream",
     "text": [
      "\n",
      "100%|###################################################################################|175/175[00:04<00:00,37.95it/s]"
     ]
    },
    {
     "name": "stdout",
     "output_type": "stream",
     "text": [
      "\u001b[32m[1027 16:19:24 @base.py:285]\u001b[0m Epoch 209 (global_step 54862) finished, time:4.61 seconds.\n",
      "\u001b[32m[1027 16:19:24 @saver.py:79]\u001b[0m Model saved to ../output/Chicago/DATWGAN_300/model\\model-54862.\n",
      "\u001b[32m[1027 16:19:24 @monitor.py:467]\u001b[0m GAN_loss/d_loss: -0.089205\n",
      "\u001b[32m[1027 16:19:24 @monitor.py:467]\u001b[0m GAN_loss/g_loss: -0.085408\n",
      "\u001b[32m[1027 16:19:24 @monitor.py:467]\u001b[0m GAN_loss/kl_div: 0.10484\n",
      "\u001b[32m[1027 16:19:24 @monitor.py:467]\u001b[0m QueueInput/queue_size: 50\n",
      "\u001b[32m[1027 16:19:24 @base.py:275]\u001b[0m Start Epoch 210 ...\n"
     ]
    },
    {
     "name": "stderr",
     "output_type": "stream",
     "text": [
      "\n",
      "100%|###################################################################################|175/175[00:04<00:00,38.08it/s]"
     ]
    },
    {
     "name": "stdout",
     "output_type": "stream",
     "text": [
      "\u001b[32m[1027 16:19:28 @base.py:285]\u001b[0m Epoch 210 (global_step 55124) finished, time:4.6 seconds.\n",
      "\u001b[32m[1027 16:19:28 @saver.py:79]\u001b[0m Model saved to ../output/Chicago/DATWGAN_300/model\\model-55124.\n",
      "\u001b[32m[1027 16:19:28 @monitor.py:467]\u001b[0m GAN_loss/d_loss: -0.088711\n",
      "\u001b[32m[1027 16:19:28 @monitor.py:467]\u001b[0m GAN_loss/g_loss: -0.083577\n",
      "\u001b[32m[1027 16:19:28 @monitor.py:467]\u001b[0m GAN_loss/kl_div: 0.10977\n",
      "\u001b[32m[1027 16:19:28 @monitor.py:467]\u001b[0m QueueInput/queue_size: 50\n",
      "\u001b[32m[1027 16:19:28 @base.py:275]\u001b[0m Start Epoch 211 ...\n"
     ]
    },
    {
     "name": "stderr",
     "output_type": "stream",
     "text": [
      "\n",
      "100%|###################################################################################|175/175[00:04<00:00,37.96it/s]"
     ]
    },
    {
     "name": "stdout",
     "output_type": "stream",
     "text": [
      "\u001b[32m[1027 16:19:33 @base.py:285]\u001b[0m Epoch 211 (global_step 55387) finished, time:4.61 seconds.\n",
      "\u001b[32m[1027 16:19:33 @saver.py:79]\u001b[0m Model saved to ../output/Chicago/DATWGAN_300/model\\model-55387.\n",
      "\u001b[32m[1027 16:19:33 @monitor.py:467]\u001b[0m GAN_loss/d_loss: -0.088913\n",
      "\u001b[32m[1027 16:19:33 @monitor.py:467]\u001b[0m GAN_loss/g_loss: -0.086269\n",
      "\u001b[32m[1027 16:19:33 @monitor.py:467]\u001b[0m GAN_loss/kl_div: 0.107\n",
      "\u001b[32m[1027 16:19:33 @monitor.py:467]\u001b[0m QueueInput/queue_size: 50\n",
      "\u001b[32m[1027 16:19:33 @base.py:275]\u001b[0m Start Epoch 212 ...\n"
     ]
    },
    {
     "name": "stderr",
     "output_type": "stream",
     "text": [
      "\n",
      "100%|###################################################################################|175/175[00:04<00:00,38.07it/s]"
     ]
    },
    {
     "name": "stdout",
     "output_type": "stream",
     "text": [
      "\u001b[32m[1027 16:19:38 @base.py:285]\u001b[0m Epoch 212 (global_step 55649) finished, time:4.6 seconds.\n",
      "\u001b[32m[1027 16:19:38 @saver.py:79]\u001b[0m Model saved to ../output/Chicago/DATWGAN_300/model\\model-55649.\n",
      "\u001b[32m[1027 16:19:38 @monitor.py:467]\u001b[0m GAN_loss/d_loss: -0.088732\n",
      "\u001b[32m[1027 16:19:38 @monitor.py:467]\u001b[0m GAN_loss/g_loss: -0.084598\n",
      "\u001b[32m[1027 16:19:38 @monitor.py:467]\u001b[0m GAN_loss/kl_div: 0.10601\n",
      "\u001b[32m[1027 16:19:38 @monitor.py:467]\u001b[0m QueueInput/queue_size: 50\n",
      "\u001b[32m[1027 16:19:38 @base.py:275]\u001b[0m Start Epoch 213 ...\n"
     ]
    },
    {
     "name": "stderr",
     "output_type": "stream",
     "text": [
      "\n",
      "100%|###################################################################################|175/175[00:04<00:00,37.95it/s]"
     ]
    },
    {
     "name": "stdout",
     "output_type": "stream",
     "text": [
      "\u001b[32m[1027 16:19:42 @base.py:285]\u001b[0m Epoch 213 (global_step 55912) finished, time:4.61 seconds.\n",
      "\u001b[32m[1027 16:19:43 @saver.py:79]\u001b[0m Model saved to ../output/Chicago/DATWGAN_300/model\\model-55912.\n",
      "\u001b[32m[1027 16:19:43 @monitor.py:467]\u001b[0m GAN_loss/d_loss: -0.088938\n",
      "\u001b[32m[1027 16:19:43 @monitor.py:467]\u001b[0m GAN_loss/g_loss: -0.084703\n",
      "\u001b[32m[1027 16:19:43 @monitor.py:467]\u001b[0m GAN_loss/kl_div: 0.1076\n",
      "\u001b[32m[1027 16:19:43 @monitor.py:467]\u001b[0m QueueInput/queue_size: 50\n",
      "\u001b[32m[1027 16:19:43 @base.py:275]\u001b[0m Start Epoch 214 ...\n"
     ]
    },
    {
     "name": "stderr",
     "output_type": "stream",
     "text": [
      "\n",
      "100%|###################################################################################|175/175[00:04<00:00,38.05it/s]"
     ]
    },
    {
     "name": "stdout",
     "output_type": "stream",
     "text": [
      "\u001b[32m[1027 16:19:47 @base.py:285]\u001b[0m Epoch 214 (global_step 56174) finished, time:4.6 seconds.\n",
      "\u001b[32m[1027 16:19:47 @saver.py:79]\u001b[0m Model saved to ../output/Chicago/DATWGAN_300/model\\model-56174.\n",
      "\u001b[32m[1027 16:19:47 @monitor.py:467]\u001b[0m GAN_loss/d_loss: -0.089857\n",
      "\u001b[32m[1027 16:19:47 @monitor.py:467]\u001b[0m GAN_loss/g_loss: -0.084522\n",
      "\u001b[32m[1027 16:19:47 @monitor.py:467]\u001b[0m GAN_loss/kl_div: 0.10201\n",
      "\u001b[32m[1027 16:19:47 @monitor.py:467]\u001b[0m QueueInput/queue_size: 50\n",
      "\u001b[32m[1027 16:19:47 @base.py:275]\u001b[0m Start Epoch 215 ...\n"
     ]
    },
    {
     "name": "stderr",
     "output_type": "stream",
     "text": [
      "\n",
      "100%|###################################################################################|175/175[00:04<00:00,37.95it/s]"
     ]
    },
    {
     "name": "stdout",
     "output_type": "stream",
     "text": [
      "\u001b[32m[1027 16:19:52 @base.py:285]\u001b[0m Epoch 215 (global_step 56437) finished, time:4.61 seconds.\n",
      "\u001b[32m[1027 16:19:52 @saver.py:79]\u001b[0m Model saved to ../output/Chicago/DATWGAN_300/model\\model-56437.\n",
      "\u001b[32m[1027 16:19:52 @monitor.py:467]\u001b[0m GAN_loss/d_loss: -0.087444\n",
      "\u001b[32m[1027 16:19:52 @monitor.py:467]\u001b[0m GAN_loss/g_loss: -0.085417\n",
      "\u001b[32m[1027 16:19:52 @monitor.py:467]\u001b[0m GAN_loss/kl_div: 0.10254\n",
      "\u001b[32m[1027 16:19:52 @monitor.py:467]\u001b[0m QueueInput/queue_size: 50\n",
      "\u001b[32m[1027 16:19:52 @base.py:275]\u001b[0m Start Epoch 216 ...\n"
     ]
    },
    {
     "name": "stderr",
     "output_type": "stream",
     "text": [
      "\n",
      "100%|###################################################################################|175/175[00:04<00:00,38.07it/s]"
     ]
    },
    {
     "name": "stdout",
     "output_type": "stream",
     "text": [
      "\u001b[32m[1027 16:19:57 @base.py:285]\u001b[0m Epoch 216 (global_step 56699) finished, time:4.6 seconds.\n",
      "\u001b[32m[1027 16:19:57 @saver.py:79]\u001b[0m Model saved to ../output/Chicago/DATWGAN_300/model\\model-56699.\n",
      "\u001b[32m[1027 16:19:57 @monitor.py:467]\u001b[0m GAN_loss/d_loss: -0.087745\n",
      "\u001b[32m[1027 16:19:57 @monitor.py:467]\u001b[0m GAN_loss/g_loss: -0.085327\n",
      "\u001b[32m[1027 16:19:57 @monitor.py:467]\u001b[0m GAN_loss/kl_div: 0.10424\n",
      "\u001b[32m[1027 16:19:57 @monitor.py:467]\u001b[0m QueueInput/queue_size: 50\n",
      "\u001b[32m[1027 16:19:57 @base.py:275]\u001b[0m Start Epoch 217 ...\n"
     ]
    },
    {
     "name": "stderr",
     "output_type": "stream",
     "text": [
      "\n",
      "100%|###################################################################################|175/175[00:04<00:00,37.94it/s]"
     ]
    },
    {
     "name": "stdout",
     "output_type": "stream",
     "text": [
      "\u001b[32m[1027 16:20:01 @base.py:285]\u001b[0m Epoch 217 (global_step 56962) finished, time:4.61 seconds.\n",
      "\u001b[32m[1027 16:20:01 @saver.py:79]\u001b[0m Model saved to ../output/Chicago/DATWGAN_300/model\\model-56962.\n",
      "\u001b[32m[1027 16:20:01 @monitor.py:467]\u001b[0m GAN_loss/d_loss: -0.08876\n",
      "\u001b[32m[1027 16:20:01 @monitor.py:467]\u001b[0m GAN_loss/g_loss: -0.086126\n",
      "\u001b[32m[1027 16:20:01 @monitor.py:467]\u001b[0m GAN_loss/kl_div: 0.099147\n",
      "\u001b[32m[1027 16:20:01 @monitor.py:467]\u001b[0m QueueInput/queue_size: 50\n",
      "\u001b[32m[1027 16:20:01 @base.py:275]\u001b[0m Start Epoch 218 ...\n"
     ]
    },
    {
     "name": "stderr",
     "output_type": "stream",
     "text": [
      "\n",
      "100%|###################################################################################|175/175[00:04<00:00,38.08it/s]"
     ]
    },
    {
     "name": "stdout",
     "output_type": "stream",
     "text": [
      "\u001b[32m[1027 16:20:06 @base.py:285]\u001b[0m Epoch 218 (global_step 57224) finished, time:4.6 seconds.\n",
      "\u001b[32m[1027 16:20:06 @saver.py:79]\u001b[0m Model saved to ../output/Chicago/DATWGAN_300/model\\model-57224.\n",
      "\u001b[32m[1027 16:20:06 @monitor.py:467]\u001b[0m GAN_loss/d_loss: -0.087625\n",
      "\u001b[32m[1027 16:20:06 @monitor.py:467]\u001b[0m GAN_loss/g_loss: -0.086825\n",
      "\u001b[32m[1027 16:20:06 @monitor.py:467]\u001b[0m GAN_loss/kl_div: 0.10176\n",
      "\u001b[32m[1027 16:20:06 @monitor.py:467]\u001b[0m QueueInput/queue_size: 50\n",
      "\u001b[32m[1027 16:20:06 @base.py:275]\u001b[0m Start Epoch 219 ...\n"
     ]
    },
    {
     "name": "stderr",
     "output_type": "stream",
     "text": [
      "\n",
      "100%|###################################################################################|175/175[00:04<00:00,37.60it/s]"
     ]
    },
    {
     "name": "stdout",
     "output_type": "stream",
     "text": [
      "\u001b[32m[1027 16:20:11 @base.py:285]\u001b[0m Epoch 219 (global_step 57487) finished, time:4.65 seconds.\n",
      "\u001b[32m[1027 16:20:11 @saver.py:79]\u001b[0m Model saved to ../output/Chicago/DATWGAN_300/model\\model-57487.\n",
      "\u001b[32m[1027 16:20:11 @monitor.py:467]\u001b[0m GAN_loss/d_loss: -0.087587\n",
      "\u001b[32m[1027 16:20:11 @monitor.py:467]\u001b[0m GAN_loss/g_loss: -0.08561\n",
      "\u001b[32m[1027 16:20:11 @monitor.py:467]\u001b[0m GAN_loss/kl_div: 0.11234\n",
      "\u001b[32m[1027 16:20:11 @monitor.py:467]\u001b[0m QueueInput/queue_size: 50\n",
      "\u001b[32m[1027 16:20:11 @base.py:275]\u001b[0m Start Epoch 220 ...\n"
     ]
    },
    {
     "name": "stderr",
     "output_type": "stream",
     "text": [
      "\n",
      "100%|###################################################################################|175/175[00:04<00:00,37.69it/s]"
     ]
    },
    {
     "name": "stdout",
     "output_type": "stream",
     "text": [
      "\u001b[32m[1027 16:20:15 @base.py:285]\u001b[0m Epoch 220 (global_step 57749) finished, time:4.64 seconds.\n",
      "\u001b[32m[1027 16:20:16 @saver.py:79]\u001b[0m Model saved to ../output/Chicago/DATWGAN_300/model\\model-57749.\n",
      "\u001b[32m[1027 16:20:16 @monitor.py:467]\u001b[0m GAN_loss/d_loss: -0.087867\n",
      "\u001b[32m[1027 16:20:16 @monitor.py:467]\u001b[0m GAN_loss/g_loss: -0.085425\n",
      "\u001b[32m[1027 16:20:16 @monitor.py:467]\u001b[0m GAN_loss/kl_div: 0.10646\n",
      "\u001b[32m[1027 16:20:16 @monitor.py:467]\u001b[0m QueueInput/queue_size: 50\n",
      "\u001b[32m[1027 16:20:16 @base.py:275]\u001b[0m Start Epoch 221 ...\n"
     ]
    },
    {
     "name": "stderr",
     "output_type": "stream",
     "text": [
      "\n",
      "100%|###################################################################################|175/175[00:04<00:00,37.87it/s]"
     ]
    },
    {
     "name": "stdout",
     "output_type": "stream",
     "text": [
      "\u001b[32m[1027 16:20:20 @base.py:285]\u001b[0m Epoch 221 (global_step 58012) finished, time:4.62 seconds.\n",
      "\u001b[32m[1027 16:20:20 @saver.py:79]\u001b[0m Model saved to ../output/Chicago/DATWGAN_300/model\\model-58012.\n",
      "\u001b[32m[1027 16:20:20 @monitor.py:467]\u001b[0m GAN_loss/d_loss: -0.088746\n",
      "\u001b[32m[1027 16:20:20 @monitor.py:467]\u001b[0m GAN_loss/g_loss: -0.08536\n",
      "\u001b[32m[1027 16:20:20 @monitor.py:467]\u001b[0m GAN_loss/kl_div: 0.10966\n",
      "\u001b[32m[1027 16:20:20 @monitor.py:467]\u001b[0m QueueInput/queue_size: 50\n",
      "\u001b[32m[1027 16:20:20 @base.py:275]\u001b[0m Start Epoch 222 ...\n"
     ]
    },
    {
     "name": "stderr",
     "output_type": "stream",
     "text": [
      "\n",
      "100%|###################################################################################|175/175[00:04<00:00,37.96it/s]"
     ]
    },
    {
     "name": "stdout",
     "output_type": "stream",
     "text": [
      "\u001b[32m[1027 16:20:25 @base.py:285]\u001b[0m Epoch 222 (global_step 58274) finished, time:4.61 seconds.\n",
      "\u001b[32m[1027 16:20:25 @saver.py:79]\u001b[0m Model saved to ../output/Chicago/DATWGAN_300/model\\model-58274.\n",
      "\u001b[32m[1027 16:20:25 @monitor.py:467]\u001b[0m GAN_loss/d_loss: -0.08755\n",
      "\u001b[32m[1027 16:20:25 @monitor.py:467]\u001b[0m GAN_loss/g_loss: -0.086524\n",
      "\u001b[32m[1027 16:20:25 @monitor.py:467]\u001b[0m GAN_loss/kl_div: 0.10778\n",
      "\u001b[32m[1027 16:20:25 @monitor.py:467]\u001b[0m QueueInput/queue_size: 50\n",
      "\u001b[32m[1027 16:20:25 @base.py:275]\u001b[0m Start Epoch 223 ...\n"
     ]
    },
    {
     "name": "stderr",
     "output_type": "stream",
     "text": [
      "\n",
      "100%|###################################################################################|175/175[00:04<00:00,37.74it/s]"
     ]
    },
    {
     "name": "stdout",
     "output_type": "stream",
     "text": [
      "\u001b[32m[1027 16:20:30 @base.py:285]\u001b[0m Epoch 223 (global_step 58537) finished, time:4.64 seconds.\n",
      "\u001b[32m[1027 16:20:30 @saver.py:79]\u001b[0m Model saved to ../output/Chicago/DATWGAN_300/model\\model-58537.\n",
      "\u001b[32m[1027 16:20:30 @monitor.py:467]\u001b[0m GAN_loss/d_loss: -0.088086\n",
      "\u001b[32m[1027 16:20:30 @monitor.py:467]\u001b[0m GAN_loss/g_loss: -0.08579\n",
      "\u001b[32m[1027 16:20:30 @monitor.py:467]\u001b[0m GAN_loss/kl_div: 0.10499\n",
      "\u001b[32m[1027 16:20:30 @monitor.py:467]\u001b[0m QueueInput/queue_size: 50\n",
      "\u001b[32m[1027 16:20:30 @base.py:275]\u001b[0m Start Epoch 224 ...\n"
     ]
    },
    {
     "name": "stderr",
     "output_type": "stream",
     "text": [
      "\n",
      "100%|###################################################################################|175/175[00:04<00:00,37.99it/s]"
     ]
    },
    {
     "name": "stdout",
     "output_type": "stream",
     "text": [
      "\u001b[32m[1027 16:20:34 @base.py:285]\u001b[0m Epoch 224 (global_step 58799) finished, time:4.61 seconds.\n",
      "\u001b[32m[1027 16:20:34 @saver.py:79]\u001b[0m Model saved to ../output/Chicago/DATWGAN_300/model\\model-58799.\n",
      "\u001b[32m[1027 16:20:34 @monitor.py:467]\u001b[0m GAN_loss/d_loss: -0.087057\n",
      "\u001b[32m[1027 16:20:34 @monitor.py:467]\u001b[0m GAN_loss/g_loss: -0.086868\n",
      "\u001b[32m[1027 16:20:34 @monitor.py:467]\u001b[0m GAN_loss/kl_div: 0.10199\n",
      "\u001b[32m[1027 16:20:34 @monitor.py:467]\u001b[0m QueueInput/queue_size: 50\n",
      "\u001b[32m[1027 16:20:34 @base.py:275]\u001b[0m Start Epoch 225 ...\n"
     ]
    },
    {
     "name": "stderr",
     "output_type": "stream",
     "text": [
      "\n",
      "100%|###################################################################################|175/175[00:04<00:00,37.97it/s]"
     ]
    },
    {
     "name": "stdout",
     "output_type": "stream",
     "text": [
      "\u001b[32m[1027 16:20:39 @base.py:285]\u001b[0m Epoch 225 (global_step 59062) finished, time:4.61 seconds.\n",
      "\u001b[32m[1027 16:20:39 @saver.py:79]\u001b[0m Model saved to ../output/Chicago/DATWGAN_300/model\\model-59062.\n",
      "\u001b[32m[1027 16:20:39 @monitor.py:467]\u001b[0m GAN_loss/d_loss: -0.087343\n",
      "\u001b[32m[1027 16:20:39 @monitor.py:467]\u001b[0m GAN_loss/g_loss: -0.08742\n",
      "\u001b[32m[1027 16:20:39 @monitor.py:467]\u001b[0m GAN_loss/kl_div: 0.10445\n",
      "\u001b[32m[1027 16:20:39 @monitor.py:467]\u001b[0m QueueInput/queue_size: 50\n",
      "\u001b[32m[1027 16:20:39 @base.py:275]\u001b[0m Start Epoch 226 ...\n"
     ]
    },
    {
     "name": "stderr",
     "output_type": "stream",
     "text": [
      "\n",
      "100%|###################################################################################|175/175[00:04<00:00,38.02it/s]"
     ]
    },
    {
     "name": "stdout",
     "output_type": "stream",
     "text": [
      "\u001b[32m[1027 16:20:44 @base.py:285]\u001b[0m Epoch 226 (global_step 59324) finished, time:4.6 seconds.\n",
      "\u001b[32m[1027 16:20:44 @saver.py:79]\u001b[0m Model saved to ../output/Chicago/DATWGAN_300/model\\model-59324.\n",
      "\u001b[32m[1027 16:20:44 @monitor.py:467]\u001b[0m GAN_loss/d_loss: -0.087336\n",
      "\u001b[32m[1027 16:20:44 @monitor.py:467]\u001b[0m GAN_loss/g_loss: -0.087433\n",
      "\u001b[32m[1027 16:20:44 @monitor.py:467]\u001b[0m GAN_loss/kl_div: 0.10556\n",
      "\u001b[32m[1027 16:20:44 @monitor.py:467]\u001b[0m QueueInput/queue_size: 50\n",
      "\u001b[32m[1027 16:20:44 @base.py:275]\u001b[0m Start Epoch 227 ...\n"
     ]
    },
    {
     "name": "stderr",
     "output_type": "stream",
     "text": [
      "\n",
      "100%|###################################################################################|175/175[00:04<00:00,37.95it/s]"
     ]
    },
    {
     "name": "stdout",
     "output_type": "stream",
     "text": [
      "\u001b[32m[1027 16:20:48 @base.py:285]\u001b[0m Epoch 227 (global_step 59587) finished, time:4.61 seconds.\n",
      "\u001b[32m[1027 16:20:48 @saver.py:79]\u001b[0m Model saved to ../output/Chicago/DATWGAN_300/model\\model-59587.\n",
      "\u001b[32m[1027 16:20:49 @monitor.py:467]\u001b[0m GAN_loss/d_loss: -0.087688\n",
      "\u001b[32m[1027 16:20:49 @monitor.py:467]\u001b[0m GAN_loss/g_loss: -0.085989\n",
      "\u001b[32m[1027 16:20:49 @monitor.py:467]\u001b[0m GAN_loss/kl_div: 0.10753\n",
      "\u001b[32m[1027 16:20:49 @monitor.py:467]\u001b[0m QueueInput/queue_size: 50\n",
      "\u001b[32m[1027 16:20:49 @base.py:275]\u001b[0m Start Epoch 228 ...\n"
     ]
    },
    {
     "name": "stderr",
     "output_type": "stream",
     "text": [
      "\n",
      "100%|###################################################################################|175/175[00:05<00:00,34.68it/s]"
     ]
    },
    {
     "name": "stdout",
     "output_type": "stream",
     "text": [
      "\u001b[32m[1027 16:20:54 @base.py:285]\u001b[0m Epoch 228 (global_step 59849) finished, time:5.05 seconds.\n",
      "\u001b[32m[1027 16:20:54 @saver.py:79]\u001b[0m Model saved to ../output/Chicago/DATWGAN_300/model\\model-59849.\n",
      "\u001b[32m[1027 16:20:54 @monitor.py:467]\u001b[0m GAN_loss/d_loss: -0.085878\n",
      "\u001b[32m[1027 16:20:54 @monitor.py:467]\u001b[0m GAN_loss/g_loss: -0.086595\n",
      "\u001b[32m[1027 16:20:54 @monitor.py:467]\u001b[0m GAN_loss/kl_div: 0.10873\n",
      "\u001b[32m[1027 16:20:54 @monitor.py:467]\u001b[0m QueueInput/queue_size: 50\n",
      "\u001b[32m[1027 16:20:54 @base.py:275]\u001b[0m Start Epoch 229 ...\n"
     ]
    },
    {
     "name": "stderr",
     "output_type": "stream",
     "text": [
      "\n",
      "100%|###################################################################################|175/175[00:04<00:00,37.91it/s]"
     ]
    },
    {
     "name": "stdout",
     "output_type": "stream",
     "text": [
      "\u001b[32m[1027 16:20:58 @base.py:285]\u001b[0m Epoch 229 (global_step 60112) finished, time:4.62 seconds.\n",
      "\u001b[32m[1027 16:20:58 @saver.py:79]\u001b[0m Model saved to ../output/Chicago/DATWGAN_300/model\\model-60112.\n",
      "\u001b[32m[1027 16:20:58 @monitor.py:467]\u001b[0m GAN_loss/d_loss: -0.085866\n",
      "\u001b[32m[1027 16:20:58 @monitor.py:467]\u001b[0m GAN_loss/g_loss: -0.086686\n",
      "\u001b[32m[1027 16:20:58 @monitor.py:467]\u001b[0m GAN_loss/kl_div: 0.1042\n",
      "\u001b[32m[1027 16:20:58 @monitor.py:467]\u001b[0m QueueInput/queue_size: 50\n",
      "\u001b[32m[1027 16:20:58 @base.py:275]\u001b[0m Start Epoch 230 ...\n"
     ]
    },
    {
     "name": "stderr",
     "output_type": "stream",
     "text": [
      "\n",
      "100%|###################################################################################|175/175[00:04<00:00,37.78it/s]"
     ]
    },
    {
     "name": "stdout",
     "output_type": "stream",
     "text": [
      "\u001b[32m[1027 16:21:03 @base.py:285]\u001b[0m Epoch 230 (global_step 60374) finished, time:4.63 seconds.\n",
      "\u001b[32m[1027 16:21:03 @saver.py:79]\u001b[0m Model saved to ../output/Chicago/DATWGAN_300/model\\model-60374.\n",
      "\u001b[32m[1027 16:21:03 @monitor.py:467]\u001b[0m GAN_loss/d_loss: -0.08658\n",
      "\u001b[32m[1027 16:21:03 @monitor.py:467]\u001b[0m GAN_loss/g_loss: -0.086646\n",
      "\u001b[32m[1027 16:21:03 @monitor.py:467]\u001b[0m GAN_loss/kl_div: 0.11017\n",
      "\u001b[32m[1027 16:21:03 @monitor.py:467]\u001b[0m QueueInput/queue_size: 50\n",
      "\u001b[32m[1027 16:21:03 @base.py:275]\u001b[0m Start Epoch 231 ...\n"
     ]
    },
    {
     "name": "stderr",
     "output_type": "stream",
     "text": [
      "\n",
      "100%|###################################################################################|175/175[00:04<00:00,37.54it/s]"
     ]
    },
    {
     "name": "stdout",
     "output_type": "stream",
     "text": [
      "\u001b[32m[1027 16:21:08 @base.py:285]\u001b[0m Epoch 231 (global_step 60637) finished, time:4.66 seconds.\n",
      "\u001b[32m[1027 16:21:08 @saver.py:79]\u001b[0m Model saved to ../output/Chicago/DATWGAN_300/model\\model-60637.\n",
      "\u001b[32m[1027 16:21:08 @monitor.py:467]\u001b[0m GAN_loss/d_loss: -0.086988\n",
      "\u001b[32m[1027 16:21:08 @monitor.py:467]\u001b[0m GAN_loss/g_loss: -0.086451\n",
      "\u001b[32m[1027 16:21:08 @monitor.py:467]\u001b[0m GAN_loss/kl_div: 0.11382\n",
      "\u001b[32m[1027 16:21:08 @monitor.py:467]\u001b[0m QueueInput/queue_size: 50\n",
      "\u001b[32m[1027 16:21:08 @base.py:275]\u001b[0m Start Epoch 232 ...\n"
     ]
    },
    {
     "name": "stderr",
     "output_type": "stream",
     "text": [
      "\n",
      "100%|###################################################################################|175/175[00:05<00:00,34.78it/s]"
     ]
    },
    {
     "name": "stdout",
     "output_type": "stream",
     "text": [
      "\u001b[32m[1027 16:21:13 @base.py:285]\u001b[0m Epoch 232 (global_step 60899) finished, time:5.03 seconds.\n",
      "\u001b[32m[1027 16:21:13 @saver.py:79]\u001b[0m Model saved to ../output/Chicago/DATWGAN_300/model\\model-60899.\n",
      "\u001b[32m[1027 16:21:13 @monitor.py:467]\u001b[0m GAN_loss/d_loss: -0.086629\n",
      "\u001b[32m[1027 16:21:13 @monitor.py:467]\u001b[0m GAN_loss/g_loss: -0.087804\n",
      "\u001b[32m[1027 16:21:13 @monitor.py:467]\u001b[0m GAN_loss/kl_div: 0.10832\n",
      "\u001b[32m[1027 16:21:13 @monitor.py:467]\u001b[0m QueueInput/queue_size: 50\n",
      "\u001b[32m[1027 16:21:13 @base.py:275]\u001b[0m Start Epoch 233 ...\n"
     ]
    },
    {
     "name": "stderr",
     "output_type": "stream",
     "text": [
      "\n",
      "100%|###################################################################################|175/175[00:04<00:00,37.94it/s]"
     ]
    },
    {
     "name": "stdout",
     "output_type": "stream",
     "text": [
      "\u001b[32m[1027 16:21:18 @base.py:285]\u001b[0m Epoch 233 (global_step 61162) finished, time:4.61 seconds.\n",
      "\u001b[32m[1027 16:21:18 @saver.py:79]\u001b[0m Model saved to ../output/Chicago/DATWGAN_300/model\\model-61162.\n",
      "\u001b[32m[1027 16:21:18 @monitor.py:467]\u001b[0m GAN_loss/d_loss: -0.08568\n",
      "\u001b[32m[1027 16:21:18 @monitor.py:467]\u001b[0m GAN_loss/g_loss: -0.087767\n",
      "\u001b[32m[1027 16:21:18 @monitor.py:467]\u001b[0m GAN_loss/kl_div: 0.10905\n",
      "\u001b[32m[1027 16:21:18 @monitor.py:467]\u001b[0m QueueInput/queue_size: 50\n",
      "\u001b[32m[1027 16:21:18 @base.py:275]\u001b[0m Start Epoch 234 ...\n"
     ]
    },
    {
     "name": "stderr",
     "output_type": "stream",
     "text": [
      "\n",
      "100%|###################################################################################|175/175[00:04<00:00,38.07it/s]"
     ]
    },
    {
     "name": "stdout",
     "output_type": "stream",
     "text": [
      "\u001b[32m[1027 16:21:22 @base.py:285]\u001b[0m Epoch 234 (global_step 61424) finished, time:4.6 seconds.\n",
      "\u001b[32m[1027 16:21:22 @saver.py:79]\u001b[0m Model saved to ../output/Chicago/DATWGAN_300/model\\model-61424.\n",
      "\u001b[32m[1027 16:21:22 @monitor.py:467]\u001b[0m GAN_loss/d_loss: -0.085998\n",
      "\u001b[32m[1027 16:21:22 @monitor.py:467]\u001b[0m GAN_loss/g_loss: -0.088238\n",
      "\u001b[32m[1027 16:21:22 @monitor.py:467]\u001b[0m GAN_loss/kl_div: 0.1068\n",
      "\u001b[32m[1027 16:21:22 @monitor.py:467]\u001b[0m QueueInput/queue_size: 50\n",
      "\u001b[32m[1027 16:21:22 @base.py:275]\u001b[0m Start Epoch 235 ...\n"
     ]
    },
    {
     "name": "stderr",
     "output_type": "stream",
     "text": [
      "\n",
      "100%|###################################################################################|175/175[00:04<00:00,37.93it/s]"
     ]
    },
    {
     "name": "stdout",
     "output_type": "stream",
     "text": [
      "\u001b[32m[1027 16:21:27 @base.py:285]\u001b[0m Epoch 235 (global_step 61687) finished, time:4.61 seconds.\n",
      "\u001b[32m[1027 16:21:27 @saver.py:79]\u001b[0m Model saved to ../output/Chicago/DATWGAN_300/model\\model-61687.\n",
      "\u001b[32m[1027 16:21:27 @monitor.py:467]\u001b[0m GAN_loss/d_loss: -0.08665\n",
      "\u001b[32m[1027 16:21:27 @monitor.py:467]\u001b[0m GAN_loss/g_loss: -0.087477\n",
      "\u001b[32m[1027 16:21:27 @monitor.py:467]\u001b[0m GAN_loss/kl_div: 0.1099\n",
      "\u001b[32m[1027 16:21:27 @monitor.py:467]\u001b[0m QueueInput/queue_size: 50\n",
      "\u001b[32m[1027 16:21:27 @base.py:275]\u001b[0m Start Epoch 236 ...\n"
     ]
    },
    {
     "name": "stderr",
     "output_type": "stream",
     "text": [
      "\n",
      "100%|###################################################################################|175/175[00:04<00:00,38.04it/s]"
     ]
    },
    {
     "name": "stdout",
     "output_type": "stream",
     "text": [
      "\u001b[32m[1027 16:21:32 @base.py:285]\u001b[0m Epoch 236 (global_step 61949) finished, time:4.6 seconds.\n",
      "\u001b[32m[1027 16:21:32 @saver.py:79]\u001b[0m Model saved to ../output/Chicago/DATWGAN_300/model\\model-61949.\n",
      "\u001b[32m[1027 16:21:32 @monitor.py:467]\u001b[0m GAN_loss/d_loss: -0.085568\n",
      "\u001b[32m[1027 16:21:32 @monitor.py:467]\u001b[0m GAN_loss/g_loss: -0.087859\n",
      "\u001b[32m[1027 16:21:32 @monitor.py:467]\u001b[0m GAN_loss/kl_div: 0.11041\n",
      "\u001b[32m[1027 16:21:32 @monitor.py:467]\u001b[0m QueueInput/queue_size: 50\n",
      "\u001b[32m[1027 16:21:32 @base.py:275]\u001b[0m Start Epoch 237 ...\n"
     ]
    },
    {
     "name": "stderr",
     "output_type": "stream",
     "text": [
      "\n",
      "100%|###################################################################################|175/175[00:04<00:00,37.95it/s]"
     ]
    },
    {
     "name": "stdout",
     "output_type": "stream",
     "text": [
      "\u001b[32m[1027 16:21:36 @base.py:285]\u001b[0m Epoch 237 (global_step 62212) finished, time:4.61 seconds.\n",
      "\u001b[32m[1027 16:21:36 @saver.py:79]\u001b[0m Model saved to ../output/Chicago/DATWGAN_300/model\\model-62212.\n",
      "\u001b[32m[1027 16:21:37 @monitor.py:467]\u001b[0m GAN_loss/d_loss: -0.086419\n",
      "\u001b[32m[1027 16:21:37 @monitor.py:467]\u001b[0m GAN_loss/g_loss: -0.088309\n",
      "\u001b[32m[1027 16:21:37 @monitor.py:467]\u001b[0m GAN_loss/kl_div: 0.11\n",
      "\u001b[32m[1027 16:21:37 @monitor.py:467]\u001b[0m QueueInput/queue_size: 50\n",
      "\u001b[32m[1027 16:21:37 @base.py:275]\u001b[0m Start Epoch 238 ...\n"
     ]
    },
    {
     "name": "stderr",
     "output_type": "stream",
     "text": [
      "\n",
      "100%|###################################################################################|175/175[00:04<00:00,38.06it/s]"
     ]
    },
    {
     "name": "stdout",
     "output_type": "stream",
     "text": [
      "\u001b[32m[1027 16:21:41 @base.py:285]\u001b[0m Epoch 238 (global_step 62474) finished, time:4.6 seconds.\n",
      "\u001b[32m[1027 16:21:41 @saver.py:79]\u001b[0m Model saved to ../output/Chicago/DATWGAN_300/model\\model-62474.\n",
      "\u001b[32m[1027 16:21:41 @monitor.py:467]\u001b[0m GAN_loss/d_loss: -0.084703\n",
      "\u001b[32m[1027 16:21:41 @monitor.py:467]\u001b[0m GAN_loss/g_loss: -0.089116\n",
      "\u001b[32m[1027 16:21:41 @monitor.py:467]\u001b[0m GAN_loss/kl_div: 0.10858\n",
      "\u001b[32m[1027 16:21:41 @monitor.py:467]\u001b[0m QueueInput/queue_size: 50\n",
      "\u001b[32m[1027 16:21:41 @base.py:275]\u001b[0m Start Epoch 239 ...\n"
     ]
    },
    {
     "name": "stderr",
     "output_type": "stream",
     "text": [
      "\n",
      "100%|###################################################################################|175/175[00:04<00:00,37.94it/s]"
     ]
    },
    {
     "name": "stdout",
     "output_type": "stream",
     "text": [
      "\u001b[32m[1027 16:21:46 @base.py:285]\u001b[0m Epoch 239 (global_step 62737) finished, time:4.61 seconds.\n",
      "\u001b[32m[1027 16:21:46 @saver.py:79]\u001b[0m Model saved to ../output/Chicago/DATWGAN_300/model\\model-62737.\n",
      "\u001b[32m[1027 16:21:46 @monitor.py:467]\u001b[0m GAN_loss/d_loss: -0.083507\n",
      "\u001b[32m[1027 16:21:46 @monitor.py:467]\u001b[0m GAN_loss/g_loss: -0.089456\n",
      "\u001b[32m[1027 16:21:46 @monitor.py:467]\u001b[0m GAN_loss/kl_div: 0.11417\n",
      "\u001b[32m[1027 16:21:46 @monitor.py:467]\u001b[0m QueueInput/queue_size: 50\n",
      "\u001b[32m[1027 16:21:46 @base.py:275]\u001b[0m Start Epoch 240 ...\n"
     ]
    },
    {
     "name": "stderr",
     "output_type": "stream",
     "text": [
      "\n",
      "100%|###################################################################################|175/175[00:04<00:00,38.09it/s]"
     ]
    },
    {
     "name": "stdout",
     "output_type": "stream",
     "text": [
      "\u001b[32m[1027 16:21:51 @base.py:285]\u001b[0m Epoch 240 (global_step 62999) finished, time:4.6 seconds.\n",
      "\u001b[32m[1027 16:21:51 @saver.py:79]\u001b[0m Model saved to ../output/Chicago/DATWGAN_300/model\\model-62999.\n",
      "\u001b[32m[1027 16:21:51 @monitor.py:467]\u001b[0m GAN_loss/d_loss: -0.085472\n",
      "\u001b[32m[1027 16:21:51 @monitor.py:467]\u001b[0m GAN_loss/g_loss: -0.088625\n",
      "\u001b[32m[1027 16:21:51 @monitor.py:467]\u001b[0m GAN_loss/kl_div: 0.10979\n",
      "\u001b[32m[1027 16:21:51 @monitor.py:467]\u001b[0m QueueInput/queue_size: 50\n",
      "\u001b[32m[1027 16:21:51 @base.py:275]\u001b[0m Start Epoch 241 ...\n"
     ]
    },
    {
     "name": "stderr",
     "output_type": "stream",
     "text": [
      "\n",
      "100%|###################################################################################|175/175[00:04<00:00,37.96it/s]"
     ]
    },
    {
     "name": "stdout",
     "output_type": "stream",
     "text": [
      "\u001b[32m[1027 16:21:55 @base.py:285]\u001b[0m Epoch 241 (global_step 63262) finished, time:4.61 seconds.\n",
      "\u001b[32m[1027 16:21:55 @saver.py:79]\u001b[0m Model saved to ../output/Chicago/DATWGAN_300/model\\model-63262.\n",
      "\u001b[32m[1027 16:21:55 @monitor.py:467]\u001b[0m GAN_loss/d_loss: -0.084632\n",
      "\u001b[32m[1027 16:21:55 @monitor.py:467]\u001b[0m GAN_loss/g_loss: -0.088618\n",
      "\u001b[32m[1027 16:21:55 @monitor.py:467]\u001b[0m GAN_loss/kl_div: 0.10959\n",
      "\u001b[32m[1027 16:21:55 @monitor.py:467]\u001b[0m QueueInput/queue_size: 50\n",
      "\u001b[32m[1027 16:21:55 @base.py:275]\u001b[0m Start Epoch 242 ...\n"
     ]
    },
    {
     "name": "stderr",
     "output_type": "stream",
     "text": [
      "\n",
      "100%|###################################################################################|175/175[00:04<00:00,38.06it/s]"
     ]
    },
    {
     "name": "stdout",
     "output_type": "stream",
     "text": [
      "\u001b[32m[1027 16:22:00 @base.py:285]\u001b[0m Epoch 242 (global_step 63524) finished, time:4.6 seconds.\n",
      "\u001b[32m[1027 16:22:00 @saver.py:79]\u001b[0m Model saved to ../output/Chicago/DATWGAN_300/model\\model-63524.\n",
      "\u001b[32m[1027 16:22:00 @monitor.py:467]\u001b[0m GAN_loss/d_loss: -0.084063\n",
      "\u001b[32m[1027 16:22:00 @monitor.py:467]\u001b[0m GAN_loss/g_loss: -0.089501\n",
      "\u001b[32m[1027 16:22:00 @monitor.py:467]\u001b[0m GAN_loss/kl_div: 0.10804\n",
      "\u001b[32m[1027 16:22:00 @monitor.py:467]\u001b[0m QueueInput/queue_size: 50\n",
      "\u001b[32m[1027 16:22:00 @base.py:275]\u001b[0m Start Epoch 243 ...\n"
     ]
    },
    {
     "name": "stderr",
     "output_type": "stream",
     "text": [
      "\n",
      "100%|###################################################################################|175/175[00:04<00:00,37.94it/s]"
     ]
    },
    {
     "name": "stdout",
     "output_type": "stream",
     "text": [
      "\u001b[32m[1027 16:22:05 @base.py:285]\u001b[0m Epoch 243 (global_step 63787) finished, time:4.61 seconds.\n",
      "\u001b[32m[1027 16:22:05 @saver.py:79]\u001b[0m Model saved to ../output/Chicago/DATWGAN_300/model\\model-63787.\n",
      "\u001b[32m[1027 16:22:05 @monitor.py:467]\u001b[0m GAN_loss/d_loss: -0.085398\n",
      "\u001b[32m[1027 16:22:05 @monitor.py:467]\u001b[0m GAN_loss/g_loss: -0.088581\n",
      "\u001b[32m[1027 16:22:05 @monitor.py:467]\u001b[0m GAN_loss/kl_div: 0.10147\n",
      "\u001b[32m[1027 16:22:05 @monitor.py:467]\u001b[0m QueueInput/queue_size: 50\n",
      "\u001b[32m[1027 16:22:05 @base.py:275]\u001b[0m Start Epoch 244 ...\n"
     ]
    },
    {
     "name": "stderr",
     "output_type": "stream",
     "text": [
      "\n",
      "100%|###################################################################################|175/175[00:04<00:00,38.06it/s]"
     ]
    },
    {
     "name": "stdout",
     "output_type": "stream",
     "text": [
      "\u001b[32m[1027 16:22:09 @base.py:285]\u001b[0m Epoch 244 (global_step 64049) finished, time:4.6 seconds.\n",
      "\u001b[32m[1027 16:22:09 @saver.py:79]\u001b[0m Model saved to ../output/Chicago/DATWGAN_300/model\\model-64049.\n",
      "\u001b[32m[1027 16:22:09 @monitor.py:467]\u001b[0m GAN_loss/d_loss: -0.084266\n",
      "\u001b[32m[1027 16:22:09 @monitor.py:467]\u001b[0m GAN_loss/g_loss: -0.088388\n",
      "\u001b[32m[1027 16:22:09 @monitor.py:467]\u001b[0m GAN_loss/kl_div: 0.10538\n",
      "\u001b[32m[1027 16:22:09 @monitor.py:467]\u001b[0m QueueInput/queue_size: 50\n",
      "\u001b[32m[1027 16:22:09 @base.py:275]\u001b[0m Start Epoch 245 ...\n"
     ]
    },
    {
     "name": "stderr",
     "output_type": "stream",
     "text": [
      "\n",
      "100%|###################################################################################|175/175[00:04<00:00,37.96it/s]"
     ]
    },
    {
     "name": "stdout",
     "output_type": "stream",
     "text": [
      "\u001b[32m[1027 16:22:14 @base.py:285]\u001b[0m Epoch 245 (global_step 64312) finished, time:4.61 seconds.\n",
      "\u001b[32m[1027 16:22:14 @saver.py:79]\u001b[0m Model saved to ../output/Chicago/DATWGAN_300/model\\model-64312.\n",
      "\u001b[32m[1027 16:22:14 @monitor.py:467]\u001b[0m GAN_loss/d_loss: -0.084771\n",
      "\u001b[32m[1027 16:22:14 @monitor.py:467]\u001b[0m GAN_loss/g_loss: -0.089038\n",
      "\u001b[32m[1027 16:22:14 @monitor.py:467]\u001b[0m GAN_loss/kl_div: 0.11039\n",
      "\u001b[32m[1027 16:22:14 @monitor.py:467]\u001b[0m QueueInput/queue_size: 50\n",
      "\u001b[32m[1027 16:22:14 @base.py:275]\u001b[0m Start Epoch 246 ...\n"
     ]
    },
    {
     "name": "stderr",
     "output_type": "stream",
     "text": [
      "\n",
      "100%|###################################################################################|175/175[00:04<00:00,38.06it/s]"
     ]
    },
    {
     "name": "stdout",
     "output_type": "stream",
     "text": [
      "\u001b[32m[1027 16:22:19 @base.py:285]\u001b[0m Epoch 246 (global_step 64574) finished, time:4.6 seconds.\n",
      "\u001b[32m[1027 16:22:19 @saver.py:79]\u001b[0m Model saved to ../output/Chicago/DATWGAN_300/model\\model-64574.\n",
      "\u001b[32m[1027 16:22:19 @monitor.py:467]\u001b[0m GAN_loss/d_loss: -0.083904\n",
      "\u001b[32m[1027 16:22:19 @monitor.py:467]\u001b[0m GAN_loss/g_loss: -0.089312\n",
      "\u001b[32m[1027 16:22:19 @monitor.py:467]\u001b[0m GAN_loss/kl_div: 0.1033\n",
      "\u001b[32m[1027 16:22:19 @monitor.py:467]\u001b[0m QueueInput/queue_size: 50\n",
      "\u001b[32m[1027 16:22:19 @base.py:275]\u001b[0m Start Epoch 247 ...\n"
     ]
    },
    {
     "name": "stderr",
     "output_type": "stream",
     "text": [
      "\n",
      "100%|###################################################################################|175/175[00:04<00:00,37.94it/s]"
     ]
    },
    {
     "name": "stdout",
     "output_type": "stream",
     "text": [
      "\u001b[32m[1027 16:22:23 @base.py:285]\u001b[0m Epoch 247 (global_step 64837) finished, time:4.61 seconds.\n",
      "\u001b[32m[1027 16:22:24 @saver.py:79]\u001b[0m Model saved to ../output/Chicago/DATWGAN_300/model\\model-64837.\n",
      "\u001b[32m[1027 16:22:24 @monitor.py:467]\u001b[0m GAN_loss/d_loss: -0.084667\n",
      "\u001b[32m[1027 16:22:24 @monitor.py:467]\u001b[0m GAN_loss/g_loss: -0.08919\n",
      "\u001b[32m[1027 16:22:24 @monitor.py:467]\u001b[0m GAN_loss/kl_div: 0.10621\n",
      "\u001b[32m[1027 16:22:24 @monitor.py:467]\u001b[0m QueueInput/queue_size: 50\n",
      "\u001b[32m[1027 16:22:24 @base.py:275]\u001b[0m Start Epoch 248 ...\n"
     ]
    },
    {
     "name": "stderr",
     "output_type": "stream",
     "text": [
      "\n",
      "100%|###################################################################################|175/175[00:04<00:00,37.70it/s]"
     ]
    },
    {
     "name": "stdout",
     "output_type": "stream",
     "text": [
      "\u001b[32m[1027 16:22:28 @base.py:285]\u001b[0m Epoch 248 (global_step 65099) finished, time:4.64 seconds.\n",
      "\u001b[32m[1027 16:22:28 @saver.py:79]\u001b[0m Model saved to ../output/Chicago/DATWGAN_300/model\\model-65099.\n",
      "\u001b[32m[1027 16:22:28 @monitor.py:467]\u001b[0m GAN_loss/d_loss: -0.084853\n",
      "\u001b[32m[1027 16:22:28 @monitor.py:467]\u001b[0m GAN_loss/g_loss: -0.088296\n",
      "\u001b[32m[1027 16:22:28 @monitor.py:467]\u001b[0m GAN_loss/kl_div: 0.10533\n",
      "\u001b[32m[1027 16:22:28 @monitor.py:467]\u001b[0m QueueInput/queue_size: 50\n",
      "\u001b[32m[1027 16:22:28 @base.py:275]\u001b[0m Start Epoch 249 ...\n"
     ]
    },
    {
     "name": "stderr",
     "output_type": "stream",
     "text": [
      "\n",
      "100%|###################################################################################|175/175[00:04<00:00,37.94it/s]"
     ]
    },
    {
     "name": "stdout",
     "output_type": "stream",
     "text": [
      "\u001b[32m[1027 16:22:33 @base.py:285]\u001b[0m Epoch 249 (global_step 65362) finished, time:4.61 seconds.\n",
      "\u001b[32m[1027 16:22:33 @saver.py:79]\u001b[0m Model saved to ../output/Chicago/DATWGAN_300/model\\model-65362.\n",
      "\u001b[32m[1027 16:22:33 @monitor.py:467]\u001b[0m GAN_loss/d_loss: -0.084356\n",
      "\u001b[32m[1027 16:22:33 @monitor.py:467]\u001b[0m GAN_loss/g_loss: -0.088539\n",
      "\u001b[32m[1027 16:22:33 @monitor.py:467]\u001b[0m GAN_loss/kl_div: 0.10922\n",
      "\u001b[32m[1027 16:22:33 @monitor.py:467]\u001b[0m QueueInput/queue_size: 50\n",
      "\u001b[32m[1027 16:22:33 @base.py:275]\u001b[0m Start Epoch 250 ...\n"
     ]
    },
    {
     "name": "stderr",
     "output_type": "stream",
     "text": [
      "\n",
      "100%|###################################################################################|175/175[00:04<00:00,38.07it/s]"
     ]
    },
    {
     "name": "stdout",
     "output_type": "stream",
     "text": [
      "\u001b[32m[1027 16:22:38 @base.py:285]\u001b[0m Epoch 250 (global_step 65624) finished, time:4.6 seconds.\n",
      "\u001b[32m[1027 16:22:38 @saver.py:79]\u001b[0m Model saved to ../output/Chicago/DATWGAN_300/model\\model-65624.\n",
      "\u001b[32m[1027 16:22:38 @monitor.py:467]\u001b[0m GAN_loss/d_loss: -0.084366\n",
      "\u001b[32m[1027 16:22:38 @monitor.py:467]\u001b[0m GAN_loss/g_loss: -0.088312\n",
      "\u001b[32m[1027 16:22:38 @monitor.py:467]\u001b[0m GAN_loss/kl_div: 0.10679\n",
      "\u001b[32m[1027 16:22:38 @monitor.py:467]\u001b[0m QueueInput/queue_size: 50\n",
      "\u001b[32m[1027 16:22:38 @base.py:275]\u001b[0m Start Epoch 251 ...\n"
     ]
    },
    {
     "name": "stderr",
     "output_type": "stream",
     "text": [
      "\n",
      "100%|###################################################################################|175/175[00:04<00:00,37.94it/s]"
     ]
    },
    {
     "name": "stdout",
     "output_type": "stream",
     "text": [
      "\u001b[32m[1027 16:22:42 @base.py:285]\u001b[0m Epoch 251 (global_step 65887) finished, time:4.61 seconds.\n",
      "\u001b[32m[1027 16:22:42 @saver.py:79]\u001b[0m Model saved to ../output/Chicago/DATWGAN_300/model\\model-65887.\n",
      "\u001b[32m[1027 16:22:42 @monitor.py:467]\u001b[0m GAN_loss/d_loss: -0.083031\n",
      "\u001b[32m[1027 16:22:42 @monitor.py:467]\u001b[0m GAN_loss/g_loss: -0.089057\n",
      "\u001b[32m[1027 16:22:42 @monitor.py:467]\u001b[0m GAN_loss/kl_div: 0.11338\n",
      "\u001b[32m[1027 16:22:42 @monitor.py:467]\u001b[0m QueueInput/queue_size: 50\n",
      "\u001b[32m[1027 16:22:42 @base.py:275]\u001b[0m Start Epoch 252 ...\n"
     ]
    },
    {
     "name": "stderr",
     "output_type": "stream",
     "text": [
      "\n",
      "100%|###################################################################################|175/175[00:04<00:00,37.98it/s]"
     ]
    },
    {
     "name": "stdout",
     "output_type": "stream",
     "text": [
      "\u001b[32m[1027 16:22:47 @base.py:285]\u001b[0m Epoch 252 (global_step 66149) finished, time:4.61 seconds.\n",
      "\u001b[32m[1027 16:22:47 @saver.py:79]\u001b[0m Model saved to ../output/Chicago/DATWGAN_300/model\\model-66149.\n",
      "\u001b[32m[1027 16:22:47 @monitor.py:467]\u001b[0m GAN_loss/d_loss: -0.083819\n",
      "\u001b[32m[1027 16:22:47 @monitor.py:467]\u001b[0m GAN_loss/g_loss: -0.088294\n",
      "\u001b[32m[1027 16:22:47 @monitor.py:467]\u001b[0m GAN_loss/kl_div: 0.11285\n",
      "\u001b[32m[1027 16:22:47 @monitor.py:467]\u001b[0m QueueInput/queue_size: 50\n",
      "\u001b[32m[1027 16:22:47 @base.py:275]\u001b[0m Start Epoch 253 ...\n"
     ]
    },
    {
     "name": "stderr",
     "output_type": "stream",
     "text": [
      "\n",
      "100%|###################################################################################|175/175[00:04<00:00,37.57it/s]"
     ]
    },
    {
     "name": "stdout",
     "output_type": "stream",
     "text": [
      "\u001b[32m[1027 16:22:52 @base.py:285]\u001b[0m Epoch 253 (global_step 66412) finished, time:4.66 seconds.\n",
      "\u001b[32m[1027 16:22:52 @saver.py:79]\u001b[0m Model saved to ../output/Chicago/DATWGAN_300/model\\model-66412.\n",
      "\u001b[32m[1027 16:22:52 @monitor.py:467]\u001b[0m GAN_loss/d_loss: -0.083086\n",
      "\u001b[32m[1027 16:22:52 @monitor.py:467]\u001b[0m GAN_loss/g_loss: -0.089582\n",
      "\u001b[32m[1027 16:22:52 @monitor.py:467]\u001b[0m GAN_loss/kl_div: 0.10978\n",
      "\u001b[32m[1027 16:22:52 @monitor.py:467]\u001b[0m QueueInput/queue_size: 50\n",
      "\u001b[32m[1027 16:22:52 @base.py:275]\u001b[0m Start Epoch 254 ...\n"
     ]
    },
    {
     "name": "stderr",
     "output_type": "stream",
     "text": [
      "\n",
      "100%|###################################################################################|175/175[00:04<00:00,37.81it/s]"
     ]
    },
    {
     "name": "stdout",
     "output_type": "stream",
     "text": [
      "\u001b[32m[1027 16:22:56 @base.py:285]\u001b[0m Epoch 254 (global_step 66674) finished, time:4.63 seconds.\n",
      "\u001b[32m[1027 16:22:57 @saver.py:79]\u001b[0m Model saved to ../output/Chicago/DATWGAN_300/model\\model-66674.\n",
      "\u001b[32m[1027 16:22:57 @monitor.py:467]\u001b[0m GAN_loss/d_loss: -0.084082\n",
      "\u001b[32m[1027 16:22:57 @monitor.py:467]\u001b[0m GAN_loss/g_loss: -0.088648\n",
      "\u001b[32m[1027 16:22:57 @monitor.py:467]\u001b[0m GAN_loss/kl_div: 0.10973\n",
      "\u001b[32m[1027 16:22:57 @monitor.py:467]\u001b[0m QueueInput/queue_size: 50\n",
      "\u001b[32m[1027 16:22:57 @base.py:275]\u001b[0m Start Epoch 255 ...\n"
     ]
    },
    {
     "name": "stderr",
     "output_type": "stream",
     "text": [
      "\n",
      "100%|###################################################################################|175/175[00:04<00:00,36.34it/s]"
     ]
    },
    {
     "name": "stdout",
     "output_type": "stream",
     "text": [
      "\u001b[32m[1027 16:23:01 @base.py:285]\u001b[0m Epoch 255 (global_step 66937) finished, time:4.82 seconds.\n"
     ]
    },
    {
     "name": "stderr",
     "output_type": "stream",
     "text": [
      "\n"
     ]
    },
    {
     "name": "stdout",
     "output_type": "stream",
     "text": [
      "\u001b[32m[1027 16:23:01 @saver.py:79]\u001b[0m Model saved to ../output/Chicago/DATWGAN_300/model\\model-66937.\n",
      "\u001b[32m[1027 16:23:02 @monitor.py:467]\u001b[0m GAN_loss/d_loss: -0.083812\n",
      "\u001b[32m[1027 16:23:02 @monitor.py:467]\u001b[0m GAN_loss/g_loss: -0.089458\n",
      "\u001b[32m[1027 16:23:02 @monitor.py:467]\u001b[0m GAN_loss/kl_div: 0.11184\n",
      "\u001b[32m[1027 16:23:02 @monitor.py:467]\u001b[0m QueueInput/queue_size: 50\n",
      "\u001b[32m[1027 16:23:02 @base.py:275]\u001b[0m Start Epoch 256 ...\n"
     ]
    },
    {
     "name": "stderr",
     "output_type": "stream",
     "text": [
      "100%|###################################################################################|175/175[00:04<00:00,37.49it/s]"
     ]
    },
    {
     "name": "stdout",
     "output_type": "stream",
     "text": [
      "\u001b[32m[1027 16:23:06 @base.py:285]\u001b[0m Epoch 256 (global_step 67199) finished, time:4.67 seconds.\n",
      "\u001b[32m[1027 16:23:06 @saver.py:79]\u001b[0m Model saved to ../output/Chicago/DATWGAN_300/model\\model-67199.\n",
      "\u001b[32m[1027 16:23:06 @monitor.py:467]\u001b[0m GAN_loss/d_loss: -0.083796\n",
      "\u001b[32m[1027 16:23:06 @monitor.py:467]\u001b[0m GAN_loss/g_loss: -0.090562\n",
      "\u001b[32m[1027 16:23:06 @monitor.py:467]\u001b[0m GAN_loss/kl_div: 0.11654\n",
      "\u001b[32m[1027 16:23:06 @monitor.py:467]\u001b[0m QueueInput/queue_size: 50\n",
      "\u001b[32m[1027 16:23:06 @base.py:275]\u001b[0m Start Epoch 257 ...\n"
     ]
    },
    {
     "name": "stderr",
     "output_type": "stream",
     "text": [
      "\n",
      "100%|###################################################################################|175/175[00:04<00:00,37.68it/s]"
     ]
    },
    {
     "name": "stdout",
     "output_type": "stream",
     "text": [
      "\u001b[32m[1027 16:23:11 @base.py:285]\u001b[0m Epoch 257 (global_step 67462) finished, time:4.65 seconds.\n",
      "\u001b[32m[1027 16:23:11 @saver.py:79]\u001b[0m Model saved to ../output/Chicago/DATWGAN_300/model\\model-67462.\n",
      "\u001b[32m[1027 16:23:11 @monitor.py:467]\u001b[0m GAN_loss/d_loss: -0.082945\n",
      "\u001b[32m[1027 16:23:11 @monitor.py:467]\u001b[0m GAN_loss/g_loss: -0.089526\n",
      "\u001b[32m[1027 16:23:11 @monitor.py:467]\u001b[0m GAN_loss/kl_div: 0.10733\n",
      "\u001b[32m[1027 16:23:11 @monitor.py:467]\u001b[0m QueueInput/queue_size: 50\n",
      "\u001b[32m[1027 16:23:11 @base.py:275]\u001b[0m Start Epoch 258 ...\n"
     ]
    },
    {
     "name": "stderr",
     "output_type": "stream",
     "text": [
      "\n",
      "100%|###################################################################################|175/175[00:04<00:00,37.59it/s]"
     ]
    },
    {
     "name": "stdout",
     "output_type": "stream",
     "text": [
      "\u001b[32m[1027 16:23:16 @base.py:285]\u001b[0m Epoch 258 (global_step 67724) finished, time:4.66 seconds.\n",
      "\u001b[32m[1027 16:23:16 @saver.py:79]\u001b[0m Model saved to ../output/Chicago/DATWGAN_300/model\\model-67724.\n",
      "\u001b[32m[1027 16:23:16 @monitor.py:467]\u001b[0m GAN_loss/d_loss: -0.08249\n",
      "\u001b[32m[1027 16:23:16 @monitor.py:467]\u001b[0m GAN_loss/g_loss: -0.090475\n",
      "\u001b[32m[1027 16:23:16 @monitor.py:467]\u001b[0m GAN_loss/kl_div: 0.11005\n",
      "\u001b[32m[1027 16:23:16 @monitor.py:467]\u001b[0m QueueInput/queue_size: 50\n",
      "\u001b[32m[1027 16:23:16 @base.py:275]\u001b[0m Start Epoch 259 ...\n"
     ]
    },
    {
     "name": "stderr",
     "output_type": "stream",
     "text": [
      "\n",
      "100%|###################################################################################|175/175[00:04<00:00,37.41it/s]"
     ]
    },
    {
     "name": "stdout",
     "output_type": "stream",
     "text": [
      "\u001b[32m[1027 16:23:20 @base.py:285]\u001b[0m Epoch 259 (global_step 67987) finished, time:4.68 seconds.\n",
      "\u001b[32m[1027 16:23:21 @saver.py:79]\u001b[0m Model saved to ../output/Chicago/DATWGAN_300/model\\model-67987.\n",
      "\u001b[32m[1027 16:23:21 @monitor.py:467]\u001b[0m GAN_loss/d_loss: -0.083764\n",
      "\u001b[32m[1027 16:23:21 @monitor.py:467]\u001b[0m GAN_loss/g_loss: -0.088662\n",
      "\u001b[32m[1027 16:23:21 @monitor.py:467]\u001b[0m GAN_loss/kl_div: 0.11408\n",
      "\u001b[32m[1027 16:23:21 @monitor.py:467]\u001b[0m QueueInput/queue_size: 50\n",
      "\u001b[32m[1027 16:23:21 @base.py:275]\u001b[0m Start Epoch 260 ...\n"
     ]
    },
    {
     "name": "stderr",
     "output_type": "stream",
     "text": [
      "\n",
      "100%|###################################################################################|175/175[00:04<00:00,37.28it/s]"
     ]
    },
    {
     "name": "stdout",
     "output_type": "stream",
     "text": [
      "\u001b[32m[1027 16:23:25 @base.py:285]\u001b[0m Epoch 260 (global_step 68249) finished, time:4.69 seconds.\n",
      "\u001b[32m[1027 16:23:25 @saver.py:79]\u001b[0m Model saved to ../output/Chicago/DATWGAN_300/model\\model-68249.\n",
      "\u001b[32m[1027 16:23:25 @monitor.py:467]\u001b[0m GAN_loss/d_loss: -0.083034\n",
      "\u001b[32m[1027 16:23:25 @monitor.py:467]\u001b[0m GAN_loss/g_loss: -0.089398\n",
      "\u001b[32m[1027 16:23:25 @monitor.py:467]\u001b[0m GAN_loss/kl_div: 0.11288\n",
      "\u001b[32m[1027 16:23:25 @monitor.py:467]\u001b[0m QueueInput/queue_size: 50\n",
      "\u001b[32m[1027 16:23:25 @base.py:275]\u001b[0m Start Epoch 261 ...\n"
     ]
    },
    {
     "name": "stderr",
     "output_type": "stream",
     "text": [
      "\n",
      "100%|###################################################################################|175/175[00:04<00:00,37.60it/s]"
     ]
    },
    {
     "name": "stdout",
     "output_type": "stream",
     "text": [
      "\u001b[32m[1027 16:23:30 @base.py:285]\u001b[0m Epoch 261 (global_step 68512) finished, time:4.65 seconds.\n",
      "\u001b[32m[1027 16:23:30 @saver.py:79]\u001b[0m Model saved to ../output/Chicago/DATWGAN_300/model\\model-68512.\n",
      "\u001b[32m[1027 16:23:30 @monitor.py:467]\u001b[0m GAN_loss/d_loss: -0.083082\n",
      "\u001b[32m[1027 16:23:30 @monitor.py:467]\u001b[0m GAN_loss/g_loss: -0.090132\n",
      "\u001b[32m[1027 16:23:30 @monitor.py:467]\u001b[0m GAN_loss/kl_div: 0.10256\n",
      "\u001b[32m[1027 16:23:30 @monitor.py:467]\u001b[0m QueueInput/queue_size: 50\n",
      "\u001b[32m[1027 16:23:30 @base.py:275]\u001b[0m Start Epoch 262 ...\n"
     ]
    },
    {
     "name": "stderr",
     "output_type": "stream",
     "text": [
      "\n",
      "100%|###################################################################################|175/175[00:04<00:00,37.67it/s]"
     ]
    },
    {
     "name": "stdout",
     "output_type": "stream",
     "text": [
      "\u001b[32m[1027 16:23:35 @base.py:285]\u001b[0m Epoch 262 (global_step 68774) finished, time:4.65 seconds.\n",
      "\u001b[32m[1027 16:23:35 @saver.py:79]\u001b[0m Model saved to ../output/Chicago/DATWGAN_300/model\\model-68774.\n",
      "\u001b[32m[1027 16:23:35 @monitor.py:467]\u001b[0m GAN_loss/d_loss: -0.082481\n",
      "\u001b[32m[1027 16:23:35 @monitor.py:467]\u001b[0m GAN_loss/g_loss: -0.088357\n",
      "\u001b[32m[1027 16:23:35 @monitor.py:467]\u001b[0m GAN_loss/kl_div: 0.11877\n",
      "\u001b[32m[1027 16:23:35 @monitor.py:467]\u001b[0m QueueInput/queue_size: 50\n",
      "\u001b[32m[1027 16:23:35 @base.py:275]\u001b[0m Start Epoch 263 ...\n"
     ]
    },
    {
     "name": "stderr",
     "output_type": "stream",
     "text": [
      "\n",
      "100%|###################################################################################|175/175[00:04<00:00,37.76it/s]"
     ]
    },
    {
     "name": "stdout",
     "output_type": "stream",
     "text": [
      "\u001b[32m[1027 16:23:39 @base.py:285]\u001b[0m Epoch 263 (global_step 69037) finished, time:4.64 seconds.\n",
      "\u001b[32m[1027 16:23:40 @saver.py:79]\u001b[0m Model saved to ../output/Chicago/DATWGAN_300/model\\model-69037.\n",
      "\u001b[32m[1027 16:23:40 @monitor.py:467]\u001b[0m GAN_loss/d_loss: -0.08315\n",
      "\u001b[32m[1027 16:23:40 @monitor.py:467]\u001b[0m GAN_loss/g_loss: -0.088886\n",
      "\u001b[32m[1027 16:23:40 @monitor.py:467]\u001b[0m GAN_loss/kl_div: 0.10672\n",
      "\u001b[32m[1027 16:23:40 @monitor.py:467]\u001b[0m QueueInput/queue_size: 50\n",
      "\u001b[32m[1027 16:23:40 @base.py:275]\u001b[0m Start Epoch 264 ...\n"
     ]
    },
    {
     "name": "stderr",
     "output_type": "stream",
     "text": [
      "\n",
      "100%|###################################################################################|175/175[00:04<00:00,38.05it/s]"
     ]
    },
    {
     "name": "stdout",
     "output_type": "stream",
     "text": [
      "\u001b[32m[1027 16:23:44 @base.py:285]\u001b[0m Epoch 264 (global_step 69299) finished, time:4.6 seconds.\n",
      "\u001b[32m[1027 16:23:44 @saver.py:79]\u001b[0m Model saved to ../output/Chicago/DATWGAN_300/model\\model-69299.\n",
      "\u001b[32m[1027 16:23:44 @monitor.py:467]\u001b[0m GAN_loss/d_loss: -0.082102\n",
      "\u001b[32m[1027 16:23:44 @monitor.py:467]\u001b[0m GAN_loss/g_loss: -0.090213\n",
      "\u001b[32m[1027 16:23:44 @monitor.py:467]\u001b[0m GAN_loss/kl_div: 0.10869\n",
      "\u001b[32m[1027 16:23:44 @monitor.py:467]\u001b[0m QueueInput/queue_size: 50\n",
      "\u001b[32m[1027 16:23:44 @base.py:275]\u001b[0m Start Epoch 265 ...\n"
     ]
    },
    {
     "name": "stderr",
     "output_type": "stream",
     "text": [
      "\n",
      "100%|###################################################################################|175/175[00:04<00:00,37.29it/s]"
     ]
    },
    {
     "name": "stdout",
     "output_type": "stream",
     "text": [
      "\u001b[32m[1027 16:23:49 @base.py:285]\u001b[0m Epoch 265 (global_step 69562) finished, time:4.69 seconds.\n",
      "\u001b[32m[1027 16:23:49 @saver.py:79]\u001b[0m Model saved to ../output/Chicago/DATWGAN_300/model\\model-69562.\n",
      "\u001b[32m[1027 16:23:49 @monitor.py:467]\u001b[0m GAN_loss/d_loss: -0.081792\n",
      "\u001b[32m[1027 16:23:49 @monitor.py:467]\u001b[0m GAN_loss/g_loss: -0.090931\n",
      "\u001b[32m[1027 16:23:49 @monitor.py:467]\u001b[0m GAN_loss/kl_div: 0.11069\n",
      "\u001b[32m[1027 16:23:49 @monitor.py:467]\u001b[0m QueueInput/queue_size: 50\n",
      "\u001b[32m[1027 16:23:49 @base.py:275]\u001b[0m Start Epoch 266 ...\n"
     ]
    },
    {
     "name": "stderr",
     "output_type": "stream",
     "text": [
      "\n",
      "100%|###################################################################################|175/175[00:04<00:00,37.20it/s]"
     ]
    },
    {
     "name": "stdout",
     "output_type": "stream",
     "text": [
      "\u001b[32m[1027 16:23:54 @base.py:285]\u001b[0m Epoch 266 (global_step 69824) finished, time:4.7 seconds.\n",
      "\u001b[32m[1027 16:23:54 @saver.py:79]\u001b[0m Model saved to ../output/Chicago/DATWGAN_300/model\\model-69824.\n",
      "\u001b[32m[1027 16:23:54 @monitor.py:467]\u001b[0m GAN_loss/d_loss: -0.081933\n",
      "\u001b[32m[1027 16:23:54 @monitor.py:467]\u001b[0m GAN_loss/g_loss: -0.08995\n",
      "\u001b[32m[1027 16:23:54 @monitor.py:467]\u001b[0m GAN_loss/kl_div: 0.11321\n",
      "\u001b[32m[1027 16:23:54 @monitor.py:467]\u001b[0m QueueInput/queue_size: 50\n",
      "\u001b[32m[1027 16:23:54 @base.py:275]\u001b[0m Start Epoch 267 ...\n"
     ]
    },
    {
     "name": "stderr",
     "output_type": "stream",
     "text": [
      "\n",
      "100%|###################################################################################|175/175[00:04<00:00,37.63it/s]"
     ]
    },
    {
     "name": "stdout",
     "output_type": "stream",
     "text": [
      "\u001b[32m[1027 16:23:59 @base.py:285]\u001b[0m Epoch 267 (global_step 70087) finished, time:4.65 seconds.\n",
      "\u001b[32m[1027 16:23:59 @saver.py:79]\u001b[0m Model saved to ../output/Chicago/DATWGAN_300/model\\model-70087.\n",
      "\u001b[32m[1027 16:23:59 @monitor.py:467]\u001b[0m GAN_loss/d_loss: -0.081714\n",
      "\u001b[32m[1027 16:23:59 @monitor.py:467]\u001b[0m GAN_loss/g_loss: -0.089896\n",
      "\u001b[32m[1027 16:23:59 @monitor.py:467]\u001b[0m GAN_loss/kl_div: 0.10622\n",
      "\u001b[32m[1027 16:23:59 @monitor.py:467]\u001b[0m QueueInput/queue_size: 50\n",
      "\u001b[32m[1027 16:23:59 @base.py:275]\u001b[0m Start Epoch 268 ...\n"
     ]
    },
    {
     "name": "stderr",
     "output_type": "stream",
     "text": [
      "\n",
      "100%|###################################################################################|175/175[00:04<00:00,37.45it/s]"
     ]
    },
    {
     "name": "stdout",
     "output_type": "stream",
     "text": [
      "\u001b[32m[1027 16:24:03 @base.py:285]\u001b[0m Epoch 268 (global_step 70349) finished, time:4.67 seconds.\n",
      "\u001b[32m[1027 16:24:03 @saver.py:79]\u001b[0m Model saved to ../output/Chicago/DATWGAN_300/model\\model-70349.\n",
      "\u001b[32m[1027 16:24:03 @monitor.py:467]\u001b[0m GAN_loss/d_loss: -0.08154\n",
      "\u001b[32m[1027 16:24:03 @monitor.py:467]\u001b[0m GAN_loss/g_loss: -0.090806\n",
      "\u001b[32m[1027 16:24:03 @monitor.py:467]\u001b[0m GAN_loss/kl_div: 0.11128\n",
      "\u001b[32m[1027 16:24:03 @monitor.py:467]\u001b[0m QueueInput/queue_size: 50\n",
      "\u001b[32m[1027 16:24:03 @base.py:275]\u001b[0m Start Epoch 269 ...\n"
     ]
    },
    {
     "name": "stderr",
     "output_type": "stream",
     "text": [
      "\n",
      "100%|###################################################################################|175/175[00:04<00:00,37.44it/s]"
     ]
    },
    {
     "name": "stdout",
     "output_type": "stream",
     "text": [
      "\u001b[32m[1027 16:24:08 @base.py:285]\u001b[0m Epoch 269 (global_step 70612) finished, time:4.67 seconds.\n",
      "\u001b[32m[1027 16:24:08 @saver.py:79]\u001b[0m Model saved to ../output/Chicago/DATWGAN_300/model\\model-70612.\n",
      "\u001b[32m[1027 16:24:08 @monitor.py:467]\u001b[0m GAN_loss/d_loss: -0.08129\n",
      "\u001b[32m[1027 16:24:08 @monitor.py:467]\u001b[0m GAN_loss/g_loss: -0.090016\n",
      "\u001b[32m[1027 16:24:08 @monitor.py:467]\u001b[0m GAN_loss/kl_div: 0.1068\n",
      "\u001b[32m[1027 16:24:08 @monitor.py:467]\u001b[0m QueueInput/queue_size: 50\n",
      "\u001b[32m[1027 16:24:08 @base.py:275]\u001b[0m Start Epoch 270 ...\n"
     ]
    },
    {
     "name": "stderr",
     "output_type": "stream",
     "text": [
      "\n",
      "100%|###################################################################################|175/175[00:04<00:00,37.89it/s]"
     ]
    },
    {
     "name": "stdout",
     "output_type": "stream",
     "text": [
      "\u001b[32m[1027 16:24:13 @base.py:285]\u001b[0m Epoch 270 (global_step 70874) finished, time:4.62 seconds.\n",
      "\u001b[32m[1027 16:24:13 @saver.py:79]\u001b[0m Model saved to ../output/Chicago/DATWGAN_300/model\\model-70874.\n",
      "\u001b[32m[1027 16:24:13 @monitor.py:467]\u001b[0m GAN_loss/d_loss: -0.081025\n",
      "\u001b[32m[1027 16:24:13 @monitor.py:467]\u001b[0m GAN_loss/g_loss: -0.090841\n",
      "\u001b[32m[1027 16:24:13 @monitor.py:467]\u001b[0m GAN_loss/kl_div: 0.11393\n",
      "\u001b[32m[1027 16:24:13 @monitor.py:467]\u001b[0m QueueInput/queue_size: 50\n",
      "\u001b[32m[1027 16:24:13 @base.py:275]\u001b[0m Start Epoch 271 ...\n"
     ]
    },
    {
     "name": "stderr",
     "output_type": "stream",
     "text": [
      "\n",
      "100%|###################################################################################|175/175[00:04<00:00,37.71it/s]"
     ]
    },
    {
     "name": "stdout",
     "output_type": "stream",
     "text": [
      "\u001b[32m[1027 16:24:18 @base.py:285]\u001b[0m Epoch 271 (global_step 71137) finished, time:4.64 seconds.\n",
      "\u001b[32m[1027 16:24:18 @saver.py:79]\u001b[0m Model saved to ../output/Chicago/DATWGAN_300/model\\model-71137.\n",
      "\u001b[32m[1027 16:24:18 @monitor.py:467]\u001b[0m GAN_loss/d_loss: -0.081724\n",
      "\u001b[32m[1027 16:24:18 @monitor.py:467]\u001b[0m GAN_loss/g_loss: -0.091117\n",
      "\u001b[32m[1027 16:24:18 @monitor.py:467]\u001b[0m GAN_loss/kl_div: 0.10985\n",
      "\u001b[32m[1027 16:24:18 @monitor.py:467]\u001b[0m QueueInput/queue_size: 50\n",
      "\u001b[32m[1027 16:24:18 @base.py:275]\u001b[0m Start Epoch 272 ...\n"
     ]
    },
    {
     "name": "stderr",
     "output_type": "stream",
     "text": [
      "\n",
      "100%|###################################################################################|175/175[00:04<00:00,37.97it/s]"
     ]
    },
    {
     "name": "stdout",
     "output_type": "stream",
     "text": [
      "\u001b[32m[1027 16:24:22 @base.py:285]\u001b[0m Epoch 272 (global_step 71399) finished, time:4.61 seconds.\n",
      "\u001b[32m[1027 16:24:22 @saver.py:79]\u001b[0m Model saved to ../output/Chicago/DATWGAN_300/model\\model-71399.\n",
      "\u001b[32m[1027 16:24:22 @monitor.py:467]\u001b[0m GAN_loss/d_loss: -0.08063\n",
      "\u001b[32m[1027 16:24:22 @monitor.py:467]\u001b[0m GAN_loss/g_loss: -0.091639\n",
      "\u001b[32m[1027 16:24:22 @monitor.py:467]\u001b[0m GAN_loss/kl_div: 0.11252\n",
      "\u001b[32m[1027 16:24:22 @monitor.py:467]\u001b[0m QueueInput/queue_size: 50\n",
      "\u001b[32m[1027 16:24:22 @base.py:275]\u001b[0m Start Epoch 273 ...\n"
     ]
    },
    {
     "name": "stderr",
     "output_type": "stream",
     "text": [
      "\n",
      "100%|###################################################################################|175/175[00:04<00:00,37.60it/s]"
     ]
    },
    {
     "name": "stdout",
     "output_type": "stream",
     "text": [
      "\u001b[32m[1027 16:24:27 @base.py:285]\u001b[0m Epoch 273 (global_step 71662) finished, time:4.66 seconds.\n",
      "\u001b[32m[1027 16:24:27 @saver.py:79]\u001b[0m Model saved to ../output/Chicago/DATWGAN_300/model\\model-71662.\n",
      "\u001b[32m[1027 16:24:27 @monitor.py:467]\u001b[0m GAN_loss/d_loss: -0.080203\n",
      "\u001b[32m[1027 16:24:27 @monitor.py:467]\u001b[0m GAN_loss/g_loss: -0.092348\n",
      "\u001b[32m[1027 16:24:27 @monitor.py:467]\u001b[0m GAN_loss/kl_div: 0.11559\n",
      "\u001b[32m[1027 16:24:27 @monitor.py:467]\u001b[0m QueueInput/queue_size: 50\n",
      "\u001b[32m[1027 16:24:27 @base.py:275]\u001b[0m Start Epoch 274 ...\n"
     ]
    },
    {
     "name": "stderr",
     "output_type": "stream",
     "text": [
      "\n",
      "100%|###################################################################################|175/175[00:04<00:00,37.58it/s]"
     ]
    },
    {
     "name": "stdout",
     "output_type": "stream",
     "text": [
      "\u001b[32m[1027 16:24:32 @base.py:285]\u001b[0m Epoch 274 (global_step 71924) finished, time:4.66 seconds.\n",
      "\u001b[32m[1027 16:24:32 @saver.py:79]\u001b[0m Model saved to ../output/Chicago/DATWGAN_300/model\\model-71924.\n",
      "\u001b[32m[1027 16:24:32 @monitor.py:467]\u001b[0m GAN_loss/d_loss: -0.081001\n",
      "\u001b[32m[1027 16:24:32 @monitor.py:467]\u001b[0m GAN_loss/g_loss: -0.092736\n",
      "\u001b[32m[1027 16:24:32 @monitor.py:467]\u001b[0m GAN_loss/kl_div: 0.11557\n",
      "\u001b[32m[1027 16:24:32 @monitor.py:467]\u001b[0m QueueInput/queue_size: 50\n",
      "\u001b[32m[1027 16:24:32 @base.py:275]\u001b[0m Start Epoch 275 ...\n"
     ]
    },
    {
     "name": "stderr",
     "output_type": "stream",
     "text": [
      "\n",
      "100%|###################################################################################|175/175[00:04<00:00,37.85it/s]"
     ]
    },
    {
     "name": "stdout",
     "output_type": "stream",
     "text": [
      "\u001b[32m[1027 16:24:37 @base.py:285]\u001b[0m Epoch 275 (global_step 72187) finished, time:4.62 seconds.\n",
      "\u001b[32m[1027 16:24:37 @saver.py:79]\u001b[0m Model saved to ../output/Chicago/DATWGAN_300/model\\model-72187.\n",
      "\u001b[32m[1027 16:24:37 @monitor.py:467]\u001b[0m GAN_loss/d_loss: -0.080253\n",
      "\u001b[32m[1027 16:24:37 @monitor.py:467]\u001b[0m GAN_loss/g_loss: -0.092361\n",
      "\u001b[32m[1027 16:24:37 @monitor.py:467]\u001b[0m GAN_loss/kl_div: 0.11082\n",
      "\u001b[32m[1027 16:24:37 @monitor.py:467]\u001b[0m QueueInput/queue_size: 50\n",
      "\u001b[32m[1027 16:24:37 @base.py:275]\u001b[0m Start Epoch 276 ...\n"
     ]
    },
    {
     "name": "stderr",
     "output_type": "stream",
     "text": [
      "\n",
      "100%|###################################################################################|175/175[00:04<00:00,38.01it/s]"
     ]
    },
    {
     "name": "stdout",
     "output_type": "stream",
     "text": [
      "\u001b[32m[1027 16:24:41 @base.py:285]\u001b[0m Epoch 276 (global_step 72449) finished, time:4.6 seconds.\n",
      "\u001b[32m[1027 16:24:41 @saver.py:79]\u001b[0m Model saved to ../output/Chicago/DATWGAN_300/model\\model-72449.\n",
      "\u001b[32m[1027 16:24:41 @monitor.py:467]\u001b[0m GAN_loss/d_loss: -0.079541\n",
      "\u001b[32m[1027 16:24:41 @monitor.py:467]\u001b[0m GAN_loss/g_loss: -0.090921\n",
      "\u001b[32m[1027 16:24:41 @monitor.py:467]\u001b[0m GAN_loss/kl_div: 0.11289\n",
      "\u001b[32m[1027 16:24:41 @monitor.py:467]\u001b[0m QueueInput/queue_size: 50\n",
      "\u001b[32m[1027 16:24:41 @base.py:275]\u001b[0m Start Epoch 277 ...\n"
     ]
    },
    {
     "name": "stderr",
     "output_type": "stream",
     "text": [
      "\n",
      "100%|###################################################################################|175/175[00:04<00:00,37.05it/s]"
     ]
    },
    {
     "name": "stdout",
     "output_type": "stream",
     "text": [
      "\u001b[32m[1027 16:24:46 @base.py:285]\u001b[0m Epoch 277 (global_step 72712) finished, time:4.72 seconds.\n",
      "\u001b[32m[1027 16:24:46 @saver.py:79]\u001b[0m Model saved to ../output/Chicago/DATWGAN_300/model\\model-72712.\n",
      "\u001b[32m[1027 16:24:46 @monitor.py:467]\u001b[0m GAN_loss/d_loss: -0.080319\n",
      "\u001b[32m[1027 16:24:46 @monitor.py:467]\u001b[0m GAN_loss/g_loss: -0.091492\n",
      "\u001b[32m[1027 16:24:46 @monitor.py:467]\u001b[0m GAN_loss/kl_div: 0.11415\n",
      "\u001b[32m[1027 16:24:46 @monitor.py:467]\u001b[0m QueueInput/queue_size: 50\n",
      "\u001b[32m[1027 16:24:46 @base.py:275]\u001b[0m Start Epoch 278 ...\n"
     ]
    },
    {
     "name": "stderr",
     "output_type": "stream",
     "text": [
      "\n",
      "100%|###################################################################################|175/175[00:04<00:00,37.88it/s]"
     ]
    },
    {
     "name": "stdout",
     "output_type": "stream",
     "text": [
      "\u001b[32m[1027 16:24:51 @base.py:285]\u001b[0m Epoch 278 (global_step 72974) finished, time:4.62 seconds.\n",
      "\u001b[32m[1027 16:24:51 @saver.py:79]\u001b[0m Model saved to ../output/Chicago/DATWGAN_300/model\\model-72974.\n",
      "\u001b[32m[1027 16:24:51 @monitor.py:467]\u001b[0m GAN_loss/d_loss: -0.079552\n",
      "\u001b[32m[1027 16:24:51 @monitor.py:467]\u001b[0m GAN_loss/g_loss: -0.093507\n",
      "\u001b[32m[1027 16:24:51 @monitor.py:467]\u001b[0m GAN_loss/kl_div: 0.10596\n",
      "\u001b[32m[1027 16:24:51 @monitor.py:467]\u001b[0m QueueInput/queue_size: 50\n",
      "\u001b[32m[1027 16:24:51 @base.py:275]\u001b[0m Start Epoch 279 ...\n"
     ]
    },
    {
     "name": "stderr",
     "output_type": "stream",
     "text": [
      "\n",
      "100%|###################################################################################|175/175[00:04<00:00,37.70it/s]"
     ]
    },
    {
     "name": "stdout",
     "output_type": "stream",
     "text": [
      "\u001b[32m[1027 16:24:56 @base.py:285]\u001b[0m Epoch 279 (global_step 73237) finished, time:4.64 seconds.\n",
      "\u001b[32m[1027 16:24:56 @saver.py:79]\u001b[0m Model saved to ../output/Chicago/DATWGAN_300/model\\model-73237.\n",
      "\u001b[32m[1027 16:24:56 @monitor.py:467]\u001b[0m GAN_loss/d_loss: -0.080201\n",
      "\u001b[32m[1027 16:24:56 @monitor.py:467]\u001b[0m GAN_loss/g_loss: -0.092757\n",
      "\u001b[32m[1027 16:24:56 @monitor.py:467]\u001b[0m GAN_loss/kl_div: 0.10486\n",
      "\u001b[32m[1027 16:24:56 @monitor.py:467]\u001b[0m QueueInput/queue_size: 50\n",
      "\u001b[32m[1027 16:24:56 @base.py:275]\u001b[0m Start Epoch 280 ...\n"
     ]
    },
    {
     "name": "stderr",
     "output_type": "stream",
     "text": [
      "\n",
      "100%|###################################################################################|175/175[00:04<00:00,37.70it/s]"
     ]
    },
    {
     "name": "stdout",
     "output_type": "stream",
     "text": [
      "\u001b[32m[1027 16:25:00 @base.py:285]\u001b[0m Epoch 280 (global_step 73499) finished, time:4.64 seconds.\n",
      "\u001b[32m[1027 16:25:00 @saver.py:79]\u001b[0m Model saved to ../output/Chicago/DATWGAN_300/model\\model-73499.\n",
      "\u001b[32m[1027 16:25:00 @monitor.py:467]\u001b[0m GAN_loss/d_loss: -0.079674\n",
      "\u001b[32m[1027 16:25:00 @monitor.py:467]\u001b[0m GAN_loss/g_loss: -0.094092\n",
      "\u001b[32m[1027 16:25:00 @monitor.py:467]\u001b[0m GAN_loss/kl_div: 0.10828\n",
      "\u001b[32m[1027 16:25:00 @monitor.py:467]\u001b[0m QueueInput/queue_size: 50\n",
      "\u001b[32m[1027 16:25:00 @base.py:275]\u001b[0m Start Epoch 281 ...\n"
     ]
    },
    {
     "name": "stderr",
     "output_type": "stream",
     "text": [
      "\n",
      "100%|###################################################################################|175/175[00:04<00:00,37.58it/s]"
     ]
    },
    {
     "name": "stdout",
     "output_type": "stream",
     "text": [
      "\u001b[32m[1027 16:25:05 @base.py:285]\u001b[0m Epoch 281 (global_step 73762) finished, time:4.66 seconds.\n",
      "\u001b[32m[1027 16:25:05 @saver.py:79]\u001b[0m Model saved to ../output/Chicago/DATWGAN_300/model\\model-73762.\n",
      "\u001b[32m[1027 16:25:05 @monitor.py:467]\u001b[0m GAN_loss/d_loss: -0.080298\n",
      "\u001b[32m[1027 16:25:05 @monitor.py:467]\u001b[0m GAN_loss/g_loss: -0.093388\n",
      "\u001b[32m[1027 16:25:05 @monitor.py:467]\u001b[0m GAN_loss/kl_div: 0.11006\n",
      "\u001b[32m[1027 16:25:05 @monitor.py:467]\u001b[0m QueueInput/queue_size: 50\n",
      "\u001b[32m[1027 16:25:05 @base.py:275]\u001b[0m Start Epoch 282 ...\n"
     ]
    },
    {
     "name": "stderr",
     "output_type": "stream",
     "text": [
      "\n",
      "100%|###################################################################################|175/175[00:04<00:00,37.41it/s]"
     ]
    },
    {
     "name": "stdout",
     "output_type": "stream",
     "text": [
      "\u001b[32m[1027 16:25:10 @base.py:285]\u001b[0m Epoch 282 (global_step 74024) finished, time:4.68 seconds.\n",
      "\u001b[32m[1027 16:25:10 @saver.py:79]\u001b[0m Model saved to ../output/Chicago/DATWGAN_300/model\\model-74024.\n",
      "\u001b[32m[1027 16:25:10 @monitor.py:467]\u001b[0m GAN_loss/d_loss: -0.078986\n",
      "\u001b[32m[1027 16:25:10 @monitor.py:467]\u001b[0m GAN_loss/g_loss: -0.093998\n",
      "\u001b[32m[1027 16:25:10 @monitor.py:467]\u001b[0m GAN_loss/kl_div: 0.11356\n",
      "\u001b[32m[1027 16:25:10 @monitor.py:467]\u001b[0m QueueInput/queue_size: 50\n",
      "\u001b[32m[1027 16:25:10 @base.py:275]\u001b[0m Start Epoch 283 ...\n"
     ]
    },
    {
     "name": "stderr",
     "output_type": "stream",
     "text": [
      "\n",
      "100%|###################################################################################|175/175[00:04<00:00,37.36it/s]"
     ]
    },
    {
     "name": "stdout",
     "output_type": "stream",
     "text": [
      "\u001b[32m[1027 16:25:15 @base.py:285]\u001b[0m Epoch 283 (global_step 74287) finished, time:4.68 seconds.\n",
      "\u001b[32m[1027 16:25:15 @saver.py:79]\u001b[0m Model saved to ../output/Chicago/DATWGAN_300/model\\model-74287.\n",
      "\u001b[32m[1027 16:25:15 @monitor.py:467]\u001b[0m GAN_loss/d_loss: -0.079553\n",
      "\u001b[32m[1027 16:25:15 @monitor.py:467]\u001b[0m GAN_loss/g_loss: -0.093862\n",
      "\u001b[32m[1027 16:25:15 @monitor.py:467]\u001b[0m GAN_loss/kl_div: 0.11983\n",
      "\u001b[32m[1027 16:25:15 @monitor.py:467]\u001b[0m QueueInput/queue_size: 50\n",
      "\u001b[32m[1027 16:25:15 @base.py:275]\u001b[0m Start Epoch 284 ...\n"
     ]
    },
    {
     "name": "stderr",
     "output_type": "stream",
     "text": [
      "\n",
      "100%|###################################################################################|175/175[00:04<00:00,37.76it/s]"
     ]
    },
    {
     "name": "stdout",
     "output_type": "stream",
     "text": [
      "\u001b[32m[1027 16:25:19 @base.py:285]\u001b[0m Epoch 284 (global_step 74549) finished, time:4.63 seconds.\n",
      "\u001b[32m[1027 16:25:19 @saver.py:79]\u001b[0m Model saved to ../output/Chicago/DATWGAN_300/model\\model-74549.\n",
      "\u001b[32m[1027 16:25:19 @monitor.py:467]\u001b[0m GAN_loss/d_loss: -0.07913\n",
      "\u001b[32m[1027 16:25:19 @monitor.py:467]\u001b[0m GAN_loss/g_loss: -0.093337\n",
      "\u001b[32m[1027 16:25:19 @monitor.py:467]\u001b[0m GAN_loss/kl_div: 0.11139\n",
      "\u001b[32m[1027 16:25:19 @monitor.py:467]\u001b[0m QueueInput/queue_size: 50\n",
      "\u001b[32m[1027 16:25:19 @base.py:275]\u001b[0m Start Epoch 285 ...\n"
     ]
    },
    {
     "name": "stderr",
     "output_type": "stream",
     "text": [
      "\n",
      "100%|###################################################################################|175/175[00:04<00:00,37.56it/s]"
     ]
    },
    {
     "name": "stdout",
     "output_type": "stream",
     "text": [
      "\u001b[32m[1027 16:25:24 @base.py:285]\u001b[0m Epoch 285 (global_step 74812) finished, time:4.66 seconds.\n"
     ]
    },
    {
     "name": "stderr",
     "output_type": "stream",
     "text": [
      "\n"
     ]
    },
    {
     "name": "stdout",
     "output_type": "stream",
     "text": [
      "\u001b[32m[1027 16:25:24 @saver.py:79]\u001b[0m Model saved to ../output/Chicago/DATWGAN_300/model\\model-74812.\n",
      "\u001b[32m[1027 16:25:24 @monitor.py:467]\u001b[0m GAN_loss/d_loss: -0.079008\n",
      "\u001b[32m[1027 16:25:24 @monitor.py:467]\u001b[0m GAN_loss/g_loss: -0.095216\n",
      "\u001b[32m[1027 16:25:24 @monitor.py:467]\u001b[0m GAN_loss/kl_div: 0.11098\n",
      "\u001b[32m[1027 16:25:24 @monitor.py:467]\u001b[0m QueueInput/queue_size: 50\n",
      "\u001b[32m[1027 16:25:24 @base.py:275]\u001b[0m Start Epoch 286 ...\n"
     ]
    },
    {
     "name": "stderr",
     "output_type": "stream",
     "text": [
      "100%|###################################################################################|175/175[00:04<00:00,37.43it/s]"
     ]
    },
    {
     "name": "stdout",
     "output_type": "stream",
     "text": [
      "\u001b[32m[1027 16:25:29 @base.py:285]\u001b[0m Epoch 286 (global_step 75074) finished, time:4.68 seconds.\n",
      "\u001b[32m[1027 16:25:29 @saver.py:79]\u001b[0m Model saved to ../output/Chicago/DATWGAN_300/model\\model-75074.\n",
      "\u001b[32m[1027 16:25:29 @monitor.py:467]\u001b[0m GAN_loss/d_loss: -0.078148\n",
      "\u001b[32m[1027 16:25:29 @monitor.py:467]\u001b[0m GAN_loss/g_loss: -0.095767\n",
      "\u001b[32m[1027 16:25:29 @monitor.py:467]\u001b[0m GAN_loss/kl_div: 0.10903\n",
      "\u001b[32m[1027 16:25:29 @monitor.py:467]\u001b[0m QueueInput/queue_size: 50\n",
      "\u001b[32m[1027 16:25:29 @base.py:275]\u001b[0m Start Epoch 287 ...\n"
     ]
    },
    {
     "name": "stderr",
     "output_type": "stream",
     "text": [
      "\n",
      "100%|###################################################################################|175/175[00:04<00:00,37.24it/s]"
     ]
    },
    {
     "name": "stdout",
     "output_type": "stream",
     "text": [
      "\u001b[32m[1027 16:25:34 @base.py:285]\u001b[0m Epoch 287 (global_step 75337) finished, time:4.7 seconds.\n",
      "\u001b[32m[1027 16:25:34 @saver.py:79]\u001b[0m Model saved to ../output/Chicago/DATWGAN_300/model\\model-75337.\n",
      "\u001b[32m[1027 16:25:34 @monitor.py:467]\u001b[0m GAN_loss/d_loss: -0.077179\n",
      "\u001b[32m[1027 16:25:34 @monitor.py:467]\u001b[0m GAN_loss/g_loss: -0.095781\n",
      "\u001b[32m[1027 16:25:34 @monitor.py:467]\u001b[0m GAN_loss/kl_div: 0.11467\n",
      "\u001b[32m[1027 16:25:34 @monitor.py:467]\u001b[0m QueueInput/queue_size: 50\n",
      "\u001b[32m[1027 16:25:34 @base.py:275]\u001b[0m Start Epoch 288 ...\n"
     ]
    },
    {
     "name": "stderr",
     "output_type": "stream",
     "text": [
      "\n",
      "100%|###################################################################################|175/175[00:04<00:00,37.86it/s]"
     ]
    },
    {
     "name": "stdout",
     "output_type": "stream",
     "text": [
      "\u001b[32m[1027 16:25:38 @base.py:285]\u001b[0m Epoch 288 (global_step 75599) finished, time:4.62 seconds.\n",
      "\u001b[32m[1027 16:25:38 @saver.py:79]\u001b[0m Model saved to ../output/Chicago/DATWGAN_300/model\\model-75599.\n",
      "\u001b[32m[1027 16:25:39 @monitor.py:467]\u001b[0m GAN_loss/d_loss: -0.078969\n",
      "\u001b[32m[1027 16:25:39 @monitor.py:467]\u001b[0m GAN_loss/g_loss: -0.094879\n",
      "\u001b[32m[1027 16:25:39 @monitor.py:467]\u001b[0m GAN_loss/kl_div: 0.10963\n",
      "\u001b[32m[1027 16:25:39 @monitor.py:467]\u001b[0m QueueInput/queue_size: 50\n",
      "\u001b[32m[1027 16:25:39 @base.py:275]\u001b[0m Start Epoch 289 ...\n"
     ]
    },
    {
     "name": "stderr",
     "output_type": "stream",
     "text": [
      "\n",
      "100%|###################################################################################|175/175[00:04<00:00,37.38it/s]"
     ]
    },
    {
     "name": "stdout",
     "output_type": "stream",
     "text": [
      "\u001b[32m[1027 16:25:43 @base.py:285]\u001b[0m Epoch 289 (global_step 75862) finished, time:4.68 seconds.\n",
      "\u001b[32m[1027 16:25:43 @saver.py:79]\u001b[0m Model saved to ../output/Chicago/DATWGAN_300/model\\model-75862.\n",
      "\u001b[32m[1027 16:25:43 @monitor.py:467]\u001b[0m GAN_loss/d_loss: -0.078316\n",
      "\u001b[32m[1027 16:25:43 @monitor.py:467]\u001b[0m GAN_loss/g_loss: -0.095146\n",
      "\u001b[32m[1027 16:25:43 @monitor.py:467]\u001b[0m GAN_loss/kl_div: 0.11027\n",
      "\u001b[32m[1027 16:25:43 @monitor.py:467]\u001b[0m QueueInput/queue_size: 50\n",
      "\u001b[32m[1027 16:25:43 @base.py:275]\u001b[0m Start Epoch 290 ...\n"
     ]
    },
    {
     "name": "stderr",
     "output_type": "stream",
     "text": [
      "\n",
      "100%|###################################################################################|175/175[00:04<00:00,37.79it/s]"
     ]
    },
    {
     "name": "stdout",
     "output_type": "stream",
     "text": [
      "\u001b[32m[1027 16:25:48 @base.py:285]\u001b[0m Epoch 290 (global_step 76124) finished, time:4.63 seconds.\n",
      "\u001b[32m[1027 16:25:48 @saver.py:79]\u001b[0m Model saved to ../output/Chicago/DATWGAN_300/model\\model-76124.\n",
      "\u001b[32m[1027 16:25:48 @monitor.py:467]\u001b[0m GAN_loss/d_loss: -0.076771\n",
      "\u001b[32m[1027 16:25:48 @monitor.py:467]\u001b[0m GAN_loss/g_loss: -0.096049\n",
      "\u001b[32m[1027 16:25:48 @monitor.py:467]\u001b[0m GAN_loss/kl_div: 0.11569\n",
      "\u001b[32m[1027 16:25:48 @monitor.py:467]\u001b[0m QueueInput/queue_size: 50\n",
      "\u001b[32m[1027 16:25:48 @base.py:275]\u001b[0m Start Epoch 291 ...\n"
     ]
    },
    {
     "name": "stderr",
     "output_type": "stream",
     "text": [
      "\n",
      "100%|###################################################################################|175/175[00:04<00:00,37.57it/s]"
     ]
    },
    {
     "name": "stdout",
     "output_type": "stream",
     "text": [
      "\u001b[32m[1027 16:25:53 @base.py:285]\u001b[0m Epoch 291 (global_step 76387) finished, time:4.66 seconds.\n",
      "\u001b[32m[1027 16:25:53 @saver.py:79]\u001b[0m Model saved to ../output/Chicago/DATWGAN_300/model\\model-76387.\n",
      "\u001b[32m[1027 16:25:53 @monitor.py:467]\u001b[0m GAN_loss/d_loss: -0.078465\n",
      "\u001b[32m[1027 16:25:53 @monitor.py:467]\u001b[0m GAN_loss/g_loss: -0.094437\n",
      "\u001b[32m[1027 16:25:53 @monitor.py:467]\u001b[0m GAN_loss/kl_div: 0.11082\n",
      "\u001b[32m[1027 16:25:53 @monitor.py:467]\u001b[0m QueueInput/queue_size: 50\n",
      "\u001b[32m[1027 16:25:53 @base.py:275]\u001b[0m Start Epoch 292 ...\n"
     ]
    },
    {
     "name": "stderr",
     "output_type": "stream",
     "text": [
      "\n",
      "100%|###################################################################################|175/175[00:04<00:00,37.76it/s]"
     ]
    },
    {
     "name": "stdout",
     "output_type": "stream",
     "text": [
      "\u001b[32m[1027 16:25:57 @base.py:285]\u001b[0m Epoch 292 (global_step 76649) finished, time:4.64 seconds.\n",
      "\u001b[32m[1027 16:25:58 @saver.py:79]\u001b[0m Model saved to ../output/Chicago/DATWGAN_300/model\\model-76649.\n",
      "\u001b[32m[1027 16:25:58 @monitor.py:467]\u001b[0m GAN_loss/d_loss: -0.077361\n",
      "\u001b[32m[1027 16:25:58 @monitor.py:467]\u001b[0m GAN_loss/g_loss: -0.094226\n",
      "\u001b[32m[1027 16:25:58 @monitor.py:467]\u001b[0m GAN_loss/kl_div: 0.11351\n",
      "\u001b[32m[1027 16:25:58 @monitor.py:467]\u001b[0m QueueInput/queue_size: 50\n",
      "\u001b[32m[1027 16:25:58 @base.py:275]\u001b[0m Start Epoch 293 ...\n"
     ]
    },
    {
     "name": "stderr",
     "output_type": "stream",
     "text": [
      "\n",
      "100%|###################################################################################|175/175[00:04<00:00,37.61it/s]"
     ]
    },
    {
     "name": "stdout",
     "output_type": "stream",
     "text": [
      "\u001b[32m[1027 16:26:02 @base.py:285]\u001b[0m Epoch 293 (global_step 76912) finished, time:4.65 seconds.\n",
      "\u001b[32m[1027 16:26:02 @saver.py:79]\u001b[0m Model saved to ../output/Chicago/DATWGAN_300/model\\model-76912.\n",
      "\u001b[32m[1027 16:26:02 @monitor.py:467]\u001b[0m GAN_loss/d_loss: -0.077809\n",
      "\u001b[32m[1027 16:26:02 @monitor.py:467]\u001b[0m GAN_loss/g_loss: -0.094176\n",
      "\u001b[32m[1027 16:26:02 @monitor.py:467]\u001b[0m GAN_loss/kl_div: 0.11351\n",
      "\u001b[32m[1027 16:26:02 @monitor.py:467]\u001b[0m QueueInput/queue_size: 50\n",
      "\u001b[32m[1027 16:26:02 @base.py:275]\u001b[0m Start Epoch 294 ...\n"
     ]
    },
    {
     "name": "stderr",
     "output_type": "stream",
     "text": [
      "\n",
      "100%|###################################################################################|175/175[00:04<00:00,37.62it/s]"
     ]
    },
    {
     "name": "stdout",
     "output_type": "stream",
     "text": [
      "\u001b[32m[1027 16:26:07 @base.py:285]\u001b[0m Epoch 294 (global_step 77174) finished, time:4.65 seconds.\n",
      "\u001b[32m[1027 16:26:07 @saver.py:79]\u001b[0m Model saved to ../output/Chicago/DATWGAN_300/model\\model-77174.\n",
      "\u001b[32m[1027 16:26:07 @monitor.py:467]\u001b[0m GAN_loss/d_loss: -0.077262\n",
      "\u001b[32m[1027 16:26:07 @monitor.py:467]\u001b[0m GAN_loss/g_loss: -0.09513\n",
      "\u001b[32m[1027 16:26:07 @monitor.py:467]\u001b[0m GAN_loss/kl_div: 0.10962\n",
      "\u001b[32m[1027 16:26:07 @monitor.py:467]\u001b[0m QueueInput/queue_size: 50\n",
      "\u001b[32m[1027 16:26:07 @base.py:275]\u001b[0m Start Epoch 295 ...\n"
     ]
    },
    {
     "name": "stderr",
     "output_type": "stream",
     "text": [
      "\n",
      "100%|###################################################################################|175/175[00:04<00:00,37.70it/s]"
     ]
    },
    {
     "name": "stdout",
     "output_type": "stream",
     "text": [
      "\u001b[32m[1027 16:26:12 @base.py:285]\u001b[0m Epoch 295 (global_step 77437) finished, time:4.64 seconds.\n",
      "\u001b[32m[1027 16:26:12 @saver.py:79]\u001b[0m Model saved to ../output/Chicago/DATWGAN_300/model\\model-77437.\n",
      "\u001b[32m[1027 16:26:12 @monitor.py:467]\u001b[0m GAN_loss/d_loss: -0.077546\n",
      "\u001b[32m[1027 16:26:12 @monitor.py:467]\u001b[0m GAN_loss/g_loss: -0.094968\n",
      "\u001b[32m[1027 16:26:12 @monitor.py:467]\u001b[0m GAN_loss/kl_div: 0.10948\n",
      "\u001b[32m[1027 16:26:12 @monitor.py:467]\u001b[0m QueueInput/queue_size: 50\n",
      "\u001b[32m[1027 16:26:12 @base.py:275]\u001b[0m Start Epoch 296 ...\n"
     ]
    },
    {
     "name": "stderr",
     "output_type": "stream",
     "text": [
      "\n",
      "100%|###################################################################################|175/175[00:04<00:00,37.55it/s]"
     ]
    },
    {
     "name": "stdout",
     "output_type": "stream",
     "text": [
      "\u001b[32m[1027 16:26:16 @base.py:285]\u001b[0m Epoch 296 (global_step 77699) finished, time:4.66 seconds.\n",
      "\u001b[32m[1027 16:26:17 @saver.py:79]\u001b[0m Model saved to ../output/Chicago/DATWGAN_300/model\\model-77699.\n",
      "\u001b[32m[1027 16:26:17 @monitor.py:467]\u001b[0m GAN_loss/d_loss: -0.076794\n",
      "\u001b[32m[1027 16:26:17 @monitor.py:467]\u001b[0m GAN_loss/g_loss: -0.094952\n",
      "\u001b[32m[1027 16:26:17 @monitor.py:467]\u001b[0m GAN_loss/kl_div: 0.11472\n",
      "\u001b[32m[1027 16:26:17 @monitor.py:467]\u001b[0m QueueInput/queue_size: 50\n",
      "\u001b[32m[1027 16:26:17 @base.py:275]\u001b[0m Start Epoch 297 ...\n"
     ]
    },
    {
     "name": "stderr",
     "output_type": "stream",
     "text": [
      "\n",
      "100%|###################################################################################|175/175[00:04<00:00,37.48it/s]"
     ]
    },
    {
     "name": "stdout",
     "output_type": "stream",
     "text": [
      "\u001b[32m[1027 16:26:21 @base.py:285]\u001b[0m Epoch 297 (global_step 77962) finished, time:4.67 seconds.\n",
      "\u001b[32m[1027 16:26:21 @saver.py:79]\u001b[0m Model saved to ../output/Chicago/DATWGAN_300/model\\model-77962.\n",
      "\u001b[32m[1027 16:26:21 @monitor.py:467]\u001b[0m GAN_loss/d_loss: -0.076956\n",
      "\u001b[32m[1027 16:26:21 @monitor.py:467]\u001b[0m GAN_loss/g_loss: -0.094908\n",
      "\u001b[32m[1027 16:26:21 @monitor.py:467]\u001b[0m GAN_loss/kl_div: 0.11496\n",
      "\u001b[32m[1027 16:26:21 @monitor.py:467]\u001b[0m QueueInput/queue_size: 50\n",
      "\u001b[32m[1027 16:26:21 @base.py:275]\u001b[0m Start Epoch 298 ...\n"
     ]
    },
    {
     "name": "stderr",
     "output_type": "stream",
     "text": [
      "\n",
      "100%|###################################################################################|175/175[00:04<00:00,37.42it/s]"
     ]
    },
    {
     "name": "stdout",
     "output_type": "stream",
     "text": [
      "\u001b[32m[1027 16:26:26 @base.py:285]\u001b[0m Epoch 298 (global_step 78224) finished, time:4.68 seconds.\n",
      "\u001b[32m[1027 16:26:26 @saver.py:79]\u001b[0m Model saved to ../output/Chicago/DATWGAN_300/model\\model-78224.\n",
      "\u001b[32m[1027 16:26:26 @monitor.py:467]\u001b[0m GAN_loss/d_loss: -0.077212\n",
      "\u001b[32m[1027 16:26:26 @monitor.py:467]\u001b[0m GAN_loss/g_loss: -0.094295\n",
      "\u001b[32m[1027 16:26:26 @monitor.py:467]\u001b[0m GAN_loss/kl_div: 0.11255\n",
      "\u001b[32m[1027 16:26:26 @monitor.py:467]\u001b[0m QueueInput/queue_size: 50\n",
      "\u001b[32m[1027 16:26:26 @base.py:275]\u001b[0m Start Epoch 299 ...\n"
     ]
    },
    {
     "name": "stderr",
     "output_type": "stream",
     "text": [
      "\n",
      "100%|###################################################################################|175/175[00:04<00:00,37.84it/s]"
     ]
    },
    {
     "name": "stdout",
     "output_type": "stream",
     "text": [
      "\u001b[32m[1027 16:26:31 @base.py:285]\u001b[0m Epoch 299 (global_step 78487) finished, time:4.63 seconds.\n",
      "\u001b[32m[1027 16:26:31 @saver.py:79]\u001b[0m Model saved to ../output/Chicago/DATWGAN_300/model\\model-78487.\n",
      "\u001b[32m[1027 16:26:31 @monitor.py:467]\u001b[0m GAN_loss/d_loss: -0.07777\n",
      "\u001b[32m[1027 16:26:31 @monitor.py:467]\u001b[0m GAN_loss/g_loss: -0.094421\n",
      "\u001b[32m[1027 16:26:31 @monitor.py:467]\u001b[0m GAN_loss/kl_div: 0.11018\n",
      "\u001b[32m[1027 16:26:31 @monitor.py:467]\u001b[0m QueueInput/queue_size: 50\n",
      "\u001b[32m[1027 16:26:31 @base.py:275]\u001b[0m Start Epoch 300 ...\n"
     ]
    },
    {
     "name": "stderr",
     "output_type": "stream",
     "text": [
      "\n",
      "100%|###################################################################################|175/175[00:04<00:00,36.69it/s]"
     ]
    },
    {
     "name": "stdout",
     "output_type": "stream",
     "text": [
      "\u001b[32m[1027 16:26:36 @base.py:285]\u001b[0m Epoch 300 (global_step 78749) finished, time:4.77 seconds.\n",
      "\u001b[32m[1027 16:26:36 @saver.py:79]\u001b[0m Model saved to ../output/Chicago/DATWGAN_300/model\\model-78749.\n",
      "\u001b[32m[1027 16:26:36 @monitor.py:467]\u001b[0m GAN_loss/d_loss: -0.076234\n",
      "\u001b[32m[1027 16:26:36 @monitor.py:467]\u001b[0m GAN_loss/g_loss: -0.095278\n",
      "\u001b[32m[1027 16:26:36 @monitor.py:467]\u001b[0m GAN_loss/kl_div: 0.11114\n",
      "\u001b[32m[1027 16:26:36 @monitor.py:467]\u001b[0m QueueInput/queue_size: 50\n",
      "\u001b[32m[1027 16:26:36 @base.py:289]\u001b[0m Training has finished!\n"
     ]
    },
    {
     "name": "stderr",
     "output_type": "stream",
     "text": [
      "\n"
     ]
    },
    {
     "name": "stdout",
     "output_type": "stream",
     "text": [
      "WARNING:tensorflow:From D:\\Users\\glede\\anaconda3\\envs\\py37\\lib\\site-packages\\tensorpack\\predict\\config.py:101: The name tf.train.ChiefSessionCreator is deprecated. Please use tf.compat.v1.train.ChiefSessionCreator instead.\n",
      "\n",
      "\u001b[32m[1027 16:26:36 @DATSGANModel.py:209]\u001b[0m \u001b[91mCreating cell for age (in-edges: 0)\n",
      "\u001b[32m[1027 16:26:36 @DATSGANModel.py:209]\u001b[0m \u001b[91mCreating cell for gender (in-edges: 0)\n",
      "\u001b[32m[1027 16:26:36 @DATSGANModel.py:209]\u001b[0m \u001b[91mCreating cell for travel_dow (in-edges: 0)\n",
      "\u001b[32m[1027 16:26:36 @DATSGANModel.py:209]\u001b[0m \u001b[91mCreating cell for license (in-edges: 1)\n",
      "\u001b[32m[1027 16:26:36 @DATSGANModel.py:209]\u001b[0m \u001b[91mCreating cell for education_level (in-edges: 1)\n",
      "\u001b[32m[1027 16:26:36 @DATSGANModel.py:209]\u001b[0m \u001b[91mCreating cell for work_status (in-edges: 2)\n",
      "\u001b[32m[1027 16:26:36 @DATSGANModel.py:209]\u001b[0m \u001b[91mCreating cell for hh_income (in-edges: 2)\n",
      "\u001b[32m[1027 16:26:36 @DATSGANModel.py:209]\u001b[0m \u001b[91mCreating cell for trip_purpose (in-edges: 1)\n",
      "\u001b[32m[1027 16:26:36 @DATSGANModel.py:209]\u001b[0m \u001b[91mCreating cell for hh_descr (in-edges: 2)\n",
      "\u001b[32m[1027 16:26:36 @DATSGANModel.py:209]\u001b[0m \u001b[91mCreating cell for hh_size (in-edges: 3)\n",
      "\u001b[32m[1027 16:26:36 @DATSGANModel.py:209]\u001b[0m \u001b[91mCreating cell for departure_time (in-edges: 1)\n",
      "\u001b[32m[1027 16:26:37 @input_source.py:178]\u001b[0m EnqueueThread QueueInput/input_queue Exited.\n",
      "\u001b[32m[1027 16:26:37 @DATSGANModel.py:209]\u001b[0m \u001b[91mCreating cell for distance (in-edges: 1)\n",
      "\u001b[32m[1027 16:26:37 @DATSGANModel.py:209]\u001b[0m \u001b[91mCreating cell for hh_vehicles (in-edges: 2)\n",
      "\u001b[32m[1027 16:26:37 @DATSGANModel.py:209]\u001b[0m \u001b[91mCreating cell for hh_bikes (in-edges: 2)\n",
      "\u001b[32m[1027 16:26:37 @DATSGANModel.py:209]\u001b[0m \u001b[91mCreating cell for choice (in-edges: 7)\n",
      "WARNING:tensorflow:From D:\\Users\\glede\\anaconda3\\envs\\py37\\lib\\site-packages\\tensorpack\\tfutils\\collection.py:45: The name tf.get_collection_ref is deprecated. Please use tf.compat.v1.get_collection_ref instead.\n",
      "\n",
      "WARNING:tensorflow:From D:\\Users\\glede\\anaconda3\\envs\\py37\\lib\\site-packages\\tensorpack\\tfutils\\sessinit.py:120: The name tf.train.NewCheckpointReader is deprecated. Please use tf.compat.v1.train.NewCheckpointReader instead.\n",
      "\n",
      "WARNING:tensorflow:From D:\\Users\\glede\\anaconda3\\envs\\py37\\lib\\site-packages\\tensorpack\\tfutils\\sessinit.py:127: The name tf.global_variables is deprecated. Please use tf.compat.v1.global_variables instead.\n",
      "\n",
      "\u001b[32m[1027 16:26:37 @sessinit.py:87]\u001b[0m \u001b[5m\u001b[31mWRN\u001b[0m The following variables are in the checkpoint, but not found in the graph: global_step\n",
      "WARNING:tensorflow:From D:\\Users\\glede\\anaconda3\\envs\\py37\\lib\\site-packages\\tensorflow_core\\python\\ops\\array_ops.py:1475: where (from tensorflow.python.ops.array_ops) is deprecated and will be removed in a future version.\n",
      "Instructions for updating:\n",
      "Use tf.where in 2.0, which has the same broadcast rule as np.where\n",
      "INFO:tensorflow:Graph was finalized.\n",
      "INFO:tensorflow:Running local_init_op.\n",
      "INFO:tensorflow:Done running local_init_op.\n",
      "\u001b[32m[1027 16:26:38 @sessinit.py:114]\u001b[0m Restoring checkpoint from ../output/Chicago/DATWGAN_300/model\\model-78749 ...\n",
      "INFO:tensorflow:Restoring parameters from ../output/Chicago/DATWGAN_300/model\\model-78749\n"
     ]
    }
   ],
   "source": [
    "test = datgan.fit(df, graph)"
   ]
  },
  {
   "cell_type": "code",
   "execution_count": 12,
   "metadata": {},
   "outputs": [
    {
     "name": "stdout",
     "output_type": "stream",
     "text": [
      "\u001b[32m[1027 16:26:45 @DATSGAN.py:347]\u001b[0m Model saved successfully.\n"
     ]
    }
   ],
   "source": [
    "datgan.save('trained', force=True)"
   ]
  },
  {
   "cell_type": "code",
   "execution_count": 13,
   "metadata": {},
   "outputs": [],
   "source": [
    "beepy.beep(6)"
   ]
  }
 ],
 "metadata": {
  "kernelspec": {
   "display_name": "Python 3",
   "language": "python",
   "name": "python3"
  },
  "language_info": {
   "codemirror_mode": {
    "name": "ipython",
    "version": 3
   },
   "file_extension": ".py",
   "mimetype": "text/x-python",
   "name": "python",
   "nbconvert_exporter": "python",
   "pygments_lexer": "ipython3",
   "version": "3.7.9"
  }
 },
 "nbformat": 4,
 "nbformat_minor": 2
}
