{
 "cells": [
  {
   "cell_type": "code",
   "execution_count": 1,
   "metadata": {},
   "outputs": [],
   "source": [
    "import os\n",
    "os.chdir('../..')"
   ]
  },
  {
   "cell_type": "code",
   "execution_count": 2,
   "metadata": {},
   "outputs": [
    {
     "name": "stdout",
     "output_type": "stream",
     "text": [
      "3.7.9\n"
     ]
    }
   ],
   "source": [
    "from platform import python_version\n",
    "print(python_version())"
   ]
  },
  {
   "cell_type": "code",
   "execution_count": 3,
   "metadata": {},
   "outputs": [
    {
     "name": "stdout",
     "output_type": "stream",
     "text": [
      "WARNING:tensorflow:From D:\\Users\\glede\\anaconda3\\envs\\py37\\lib\\site-packages\\tensorpack\\callbacks\\hooks.py:17: The name tf.train.SessionRunHook is deprecated. Please use tf.estimator.SessionRunHook instead.\n",
      "\n",
      "WARNING:tensorflow:From D:\\Users\\glede\\anaconda3\\envs\\py37\\lib\\site-packages\\tensorpack\\tfutils\\optimizer.py:18: The name tf.train.Optimizer is deprecated. Please use tf.compat.v1.train.Optimizer instead.\n",
      "\n",
      "WARNING:tensorflow:From D:\\Users\\glede\\anaconda3\\envs\\py37\\lib\\site-packages\\tensorpack\\tfutils\\sesscreate.py:20: The name tf.train.SessionCreator is deprecated. Please use tf.compat.v1.train.SessionCreator instead.\n",
      "\n"
     ]
    }
   ],
   "source": [
    "import numpy as np\n",
    "import pandas as pd\n",
    "\n",
    "import tensorflow as tf\n",
    "\n",
    "import matplotlib.pyplot as plt\n",
    "\n",
    "from modules.datgan import DATWGAN\n",
    "\n",
    "import networkx as nx\n",
    "import json\n",
    "import beepy\n",
    "\n",
    "# For the Python notebook\n",
    "%matplotlib inline\n",
    "%reload_ext autoreload\n",
    "%autoreload 2"
   ]
  },
  {
   "cell_type": "code",
   "execution_count": 4,
   "metadata": {},
   "outputs": [],
   "source": [
    "dataset = 'Chicago'"
   ]
  },
  {
   "cell_type": "code",
   "execution_count": 5,
   "metadata": {},
   "outputs": [],
   "source": [
    "df = pd.read_csv('../data/{}/data.csv'.format(dataset), index_col=False)"
   ]
  },
  {
   "cell_type": "code",
   "execution_count": 6,
   "metadata": {},
   "outputs": [
    {
     "data": {
      "text/html": [
       "<div>\n",
       "<style scoped>\n",
       "    .dataframe tbody tr th:only-of-type {\n",
       "        vertical-align: middle;\n",
       "    }\n",
       "\n",
       "    .dataframe tbody tr th {\n",
       "        vertical-align: top;\n",
       "    }\n",
       "\n",
       "    .dataframe thead th {\n",
       "        text-align: right;\n",
       "    }\n",
       "</style>\n",
       "<table border=\"1\" class=\"dataframe\">\n",
       "  <thead>\n",
       "    <tr style=\"text-align: right;\">\n",
       "      <th></th>\n",
       "      <th>choice</th>\n",
       "      <th>travel_dow</th>\n",
       "      <th>trip_purpose</th>\n",
       "      <th>distance</th>\n",
       "      <th>hh_vehicles</th>\n",
       "      <th>hh_size</th>\n",
       "      <th>hh_bikes</th>\n",
       "      <th>hh_descr</th>\n",
       "      <th>hh_income</th>\n",
       "      <th>gender</th>\n",
       "      <th>age</th>\n",
       "      <th>license</th>\n",
       "      <th>education_level</th>\n",
       "      <th>work_status</th>\n",
       "      <th>departure_time</th>\n",
       "    </tr>\n",
       "  </thead>\n",
       "  <tbody>\n",
       "    <tr>\n",
       "      <th>0</th>\n",
       "      <td>drive</td>\n",
       "      <td>7</td>\n",
       "      <td>HOME_OTHER</td>\n",
       "      <td>23.42579</td>\n",
       "      <td>2</td>\n",
       "      <td>2</td>\n",
       "      <td>0</td>\n",
       "      <td>2</td>\n",
       "      <td>6</td>\n",
       "      <td>1</td>\n",
       "      <td>66</td>\n",
       "      <td>1.0</td>\n",
       "      <td>6</td>\n",
       "      <td>FTE</td>\n",
       "      <td>9.333333</td>\n",
       "    </tr>\n",
       "    <tr>\n",
       "      <th>1</th>\n",
       "      <td>drive</td>\n",
       "      <td>7</td>\n",
       "      <td>OTHER</td>\n",
       "      <td>1.71259</td>\n",
       "      <td>2</td>\n",
       "      <td>2</td>\n",
       "      <td>0</td>\n",
       "      <td>2</td>\n",
       "      <td>6</td>\n",
       "      <td>1</td>\n",
       "      <td>66</td>\n",
       "      <td>1.0</td>\n",
       "      <td>6</td>\n",
       "      <td>FTE</td>\n",
       "      <td>12.083333</td>\n",
       "    </tr>\n",
       "    <tr>\n",
       "      <th>2</th>\n",
       "      <td>drive</td>\n",
       "      <td>7</td>\n",
       "      <td>HOME_OTHER</td>\n",
       "      <td>21.77887</td>\n",
       "      <td>2</td>\n",
       "      <td>2</td>\n",
       "      <td>0</td>\n",
       "      <td>2</td>\n",
       "      <td>6</td>\n",
       "      <td>1</td>\n",
       "      <td>66</td>\n",
       "      <td>1.0</td>\n",
       "      <td>6</td>\n",
       "      <td>FTE</td>\n",
       "      <td>15.500000</td>\n",
       "    </tr>\n",
       "    <tr>\n",
       "      <th>3</th>\n",
       "      <td>drive</td>\n",
       "      <td>7</td>\n",
       "      <td>SHOPPING</td>\n",
       "      <td>2.02603</td>\n",
       "      <td>2</td>\n",
       "      <td>2</td>\n",
       "      <td>0</td>\n",
       "      <td>2</td>\n",
       "      <td>6</td>\n",
       "      <td>1</td>\n",
       "      <td>66</td>\n",
       "      <td>1.0</td>\n",
       "      <td>6</td>\n",
       "      <td>FTE</td>\n",
       "      <td>17.500000</td>\n",
       "    </tr>\n",
       "    <tr>\n",
       "      <th>4</th>\n",
       "      <td>drive</td>\n",
       "      <td>7</td>\n",
       "      <td>SHOPPING</td>\n",
       "      <td>0.87691</td>\n",
       "      <td>2</td>\n",
       "      <td>2</td>\n",
       "      <td>0</td>\n",
       "      <td>2</td>\n",
       "      <td>6</td>\n",
       "      <td>1</td>\n",
       "      <td>66</td>\n",
       "      <td>1.0</td>\n",
       "      <td>6</td>\n",
       "      <td>FTE</td>\n",
       "      <td>18.250000</td>\n",
       "    </tr>\n",
       "  </tbody>\n",
       "</table>\n",
       "</div>"
      ],
      "text/plain": [
       "  choice  travel_dow trip_purpose  distance  hh_vehicles  hh_size  hh_bikes  \\\n",
       "0  drive           7   HOME_OTHER  23.42579            2        2         0   \n",
       "1  drive           7        OTHER   1.71259            2        2         0   \n",
       "2  drive           7   HOME_OTHER  21.77887            2        2         0   \n",
       "3  drive           7     SHOPPING   2.02603            2        2         0   \n",
       "4  drive           7     SHOPPING   0.87691            2        2         0   \n",
       "\n",
       "   hh_descr  hh_income  gender  age  license  education_level work_status  \\\n",
       "0         2          6       1   66      1.0                6         FTE   \n",
       "1         2          6       1   66      1.0                6         FTE   \n",
       "2         2          6       1   66      1.0                6         FTE   \n",
       "3         2          6       1   66      1.0                6         FTE   \n",
       "4         2          6       1   66      1.0                6         FTE   \n",
       "\n",
       "   departure_time  \n",
       "0        9.333333  \n",
       "1       12.083333  \n",
       "2       15.500000  \n",
       "3       17.500000  \n",
       "4       18.250000  "
      ]
     },
     "execution_count": 6,
     "metadata": {},
     "output_type": "execute_result"
    }
   ],
   "source": [
    "df.head()"
   ]
  },
  {
   "cell_type": "code",
   "execution_count": 7,
   "metadata": {},
   "outputs": [],
   "source": [
    "if dataset is 'Chicago':\n",
    "    continuous_columns = [\"distance\", \"age\", \"departure_time\"]\n",
    "elif dataset is 'LPMC':\n",
    "    continuous_columns = ['start_time_linear', 'age', 'distance', 'dur_walking', 'dur_cycling', 'dur_pt_access', 'dur_pt_rail', 'dur_pt_bus', 'dur_pt_int', 'dur_driving', 'cost_transit', 'cost_driving_fuel', 'driving_traffic_percent']"
   ]
  },
  {
   "cell_type": "code",
   "execution_count": 8,
   "metadata": {},
   "outputs": [],
   "source": [
    "# personalised graph\n",
    "graph = nx.DiGraph()\n",
    "\n",
    "if dataset is 'Chicago':\n",
    "    graph.add_edges_from([\n",
    "        (\"age\", \"license\"),\n",
    "        (\"age\", \"education_level\"),\n",
    "        (\"gender\", \"work_status\"),\n",
    "        (\"education_level\", \"work_status\"),\n",
    "        (\"education_level\", \"hh_income\"),\n",
    "        (\"work_status\", \"hh_income\"),\n",
    "        (\"hh_income\", \"hh_descr\"),\n",
    "        (\"hh_income\", \"hh_size\"),\n",
    "        (\"hh_size\", \"hh_vehicles\"),\n",
    "        (\"hh_size\", \"hh_bikes\"),\n",
    "        (\"work_status\", \"trip_purpose\"),\n",
    "        (\"trip_purpose\", \"departure_time\"),\n",
    "        (\"trip_purpose\", \"distance\"),\n",
    "        (\"travel_dow\", \"choice\"),\n",
    "        (\"distance\", \"choice\"),\n",
    "        (\"departure_time\", \"choice\"),\n",
    "        (\"hh_vehicles\", \"choice\"),\n",
    "        (\"hh_bikes\", \"choice\"),\n",
    "        (\"license\", \"choice\"),\n",
    "        # Non necessary links\n",
    "        (\"education_level\", \"hh_size\"),\n",
    "        (\"work_status\", \"hh_descr\"),\n",
    "        (\"work_status\", \"hh_size\"),\n",
    "        (\"hh_income\", \"hh_bikes\"),\n",
    "        (\"hh_income\", \"hh_vehicles\"),\n",
    "        (\"trip_purpose\", \"choice\")\n",
    "    ])\n",
    "elif dataset is 'LPMC':\n",
    "    graph.add_edges_from([\n",
    "        (\"travel_year\", \"survey_year\"),\n",
    "        (\"travel_date\", \"day_of_week\"),\n",
    "        (\"day_of_week\", \"purpose\"),\n",
    "        (\"purpose\", \"start_time_linear\"),\n",
    "        (\"purpose\", \"cost_driving_con_charge\"),\n",
    "        (\"purpose\", \"distance\"),\n",
    "        (\"day_of_week\", \"driving_traffic_percent\"),\n",
    "        (\"day_of_week\", \"cost_driving_con_charge\"),\n",
    "        (\"start_time_linear\", \"driving_traffic_percent\"),\n",
    "        (\"start_time_linear\", \"cost_driving_con_charge\"),\n",
    "        (\"driving_traffic_percent\", \"cost_driving_con_charge\"),\n",
    "        (\"female\", \"driving_license\"),\n",
    "        (\"age\", \"bus_scale\"),\n",
    "        (\"age\", \"car_ownership\"),\n",
    "        (\"age\", \"driving_license\"),\n",
    "        (\"age\", \"faretype\"),\n",
    "        (\"driving_license\", \"car_ownership\"),\n",
    "        (\"car_ownership\", \"fueltype\"),\n",
    "        (\"fueltype\", \"cost_driving_con_charge\"),\n",
    "        (\"fueltype\", \"cost_driving_fuel\"),\n",
    "        (\"distance\", \"cost_driving_fuel\"),\n",
    "        (\"distance\", \"dur_driving\"),\n",
    "        (\"distance\", \"dur_walking\"),\n",
    "        (\"distance\", \"dur_cycling\"),\n",
    "        (\"distance\", \"dur_pt_access\"),\n",
    "        (\"distance\", \"dur_pt_rail\"),\n",
    "        (\"distance\", \"dur_pt_bus\"),\n",
    "        (\"distance\", \"dur_pt_int\"),\n",
    "        (\"dur_pt_bus\", \"cost_transit\"),\n",
    "        (\"dur_pt_rail\", \"cost_transit\"),\n",
    "        (\"pt_n_interchanges\", \"dur_pt_int\"),\n",
    "        (\"pt_n_interchanges\", \"cost_transit\"),\n",
    "        (\"faretype\", \"cost_transit\"),\n",
    "        (\"bus_scale\", \"cost_transit\"),\n",
    "        (\"car_ownership\", \"travel_mode\"),\n",
    "        (\"age\", \"travel_mode\"),\n",
    "        (\"cost_driving_con_charge\", \"travel_mode\"),\n",
    "        (\"driving_traffic_percent\", \"travel_mode\"),\n",
    "        (\"female\", \"travel_mode\"),\n",
    "        (\"purpose\", \"travel_mode\"),\n",
    "        (\"cost_transit\", \"travel_mode\"),\n",
    "        (\"cost_driving_fuel\", \"travel_mode\"),\n",
    "        (\"dur_driving\", \"travel_mode\"),\n",
    "        (\"dur_walking\", \"travel_mode\"),\n",
    "        (\"dur_cycling\", \"travel_mode\"),\n",
    "        (\"dur_pt_access\", \"travel_mode\"),\n",
    "        (\"dur_pt_rail\", \"travel_mode\"),\n",
    "        (\"dur_pt_bus\", \"travel_mode\"),\n",
    "        (\"dur_pt_int\", \"travel_mode\")\n",
    "    ])\n",
    "    graph.add_node(\"travel_month\")"
   ]
  },
  {
   "cell_type": "code",
   "execution_count": 9,
   "metadata": {},
   "outputs": [],
   "source": [
    "output_folder = '../output/' + dataset + '/DATWGAN_30/'"
   ]
  },
  {
   "cell_type": "code",
   "execution_count": 10,
   "metadata": {},
   "outputs": [],
   "source": [
    "datgan = DATWGAN(continuous_columns, max_epoch=1000, batch_size=500, output=output_folder, gpu=0)"
   ]
  },
  {
   "cell_type": "code",
   "execution_count": 11,
   "metadata": {},
   "outputs": [
    {
     "name": "stdout",
     "output_type": "stream",
     "text": [
      "\u001b[32m[1022 14:17:23 @DATGAN.py:155]\u001b[0m Found preprocessed data\n",
      "\u001b[32m[1022 14:17:23 @DATGAN.py:163]\u001b[0m Preprocessed data have been loaded!\n",
      "WARNING:tensorflow:From D:\\Users\\glede\\anaconda3\\envs\\py37\\lib\\site-packages\\tensorpack\\graph_builder\\model_desc.py:29: The name tf.get_default_graph is deprecated. Please use tf.compat.v1.get_default_graph instead.\n",
      "\n",
      "WARNING:tensorflow:From D:\\Users\\glede\\anaconda3\\envs\\py37\\lib\\site-packages\\tensorpack\\graph_builder\\model_desc.py:39: The name tf.placeholder is deprecated. Please use tf.compat.v1.placeholder instead.\n",
      "\n",
      "WARNING:tensorflow:From D:\\Users\\glede\\anaconda3\\envs\\py37\\lib\\site-packages\\tensorpack\\input_source\\input_source.py:219: The name tf.FIFOQueue is deprecated. Please use tf.queue.FIFOQueue instead.\n",
      "\n",
      "\u001b[32m[1022 14:17:23 @input_source.py:222]\u001b[0m Setting up the queue 'QueueInput/input_queue' for CPU prefetching ...\n",
      "WARNING:tensorflow:From D:\\Users\\glede\\anaconda3\\envs\\py37\\lib\\site-packages\\tensorpack\\tfutils\\summary.py:237: The name tf.get_variable_scope is deprecated. Please use tf.compat.v1.get_variable_scope instead.\n",
      "\n",
      "WARNING:tensorflow:From D:\\Users\\glede\\anaconda3\\envs\\py37\\lib\\site-packages\\tensorpack\\tfutils\\summary.py:27: The name tf.variable_scope is deprecated. Please use tf.compat.v1.variable_scope instead.\n",
      "\n",
      "WARNING:tensorflow:From D:\\Users\\glede\\anaconda3\\envs\\py37\\lib\\site-packages\\tensorpack\\tfutils\\summary.py:254: The name tf.get_variable is deprecated. Please use tf.compat.v1.get_variable instead.\n",
      "\n",
      "WARNING:tensorflow:From D:\\Users\\glede\\anaconda3\\envs\\py37\\lib\\site-packages\\tensorpack\\tfutils\\summary.py:264: The name tf.summary.scalar is deprecated. Please use tf.compat.v1.summary.scalar instead.\n",
      "\n",
      "WARNING:tensorflow:From D:\\Users\\glede\\anaconda3\\envs\\py37\\lib\\site-packages\\tensorpack\\tfutils\\collection.py:105: The name tf.GraphKeys is deprecated. Please use tf.compat.v1.GraphKeys instead.\n",
      "\n",
      "WARNING:tensorflow:From D:\\Users\\glede\\anaconda3\\envs\\py37\\lib\\site-packages\\tensorpack\\tfutils\\collection.py:33: The name tf.get_collection is deprecated. Please use tf.compat.v1.get_collection instead.\n",
      "\n",
      "WARNING:tensorflow:From C:\\Users\\glede\\Documents\\EPFL\\PhD\\SynthPop\\code\\modules\\datgan\\DATGANModel.py:532: The name tf.random_normal is deprecated. Please use tf.random.normal instead.\n",
      "\n",
      "WARNING:tensorflow:From C:\\Users\\glede\\Documents\\EPFL\\PhD\\SynthPop\\code\\modules\\datgan\\DATGANModel.py:535: The name tf.placeholder_with_default is deprecated. Please use tf.compat.v1.placeholder_with_default instead.\n",
      "\n",
      "WARNING:tensorflow:From C:\\Users\\glede\\Documents\\EPFL\\PhD\\SynthPop\\code\\modules\\datgan\\DATGANModel.py:192: LSTMCell.__init__ (from tensorflow.python.ops.rnn_cell_impl) is deprecated and will be removed in a future version.\n",
      "Instructions for updating:\n",
      "This class is equivalent as tf.keras.layers.LSTMCell, and will be replaced by that in Tensorflow 2.0.\n",
      "\u001b[32m[1022 14:17:23 @DATGANModel.py:209]\u001b[0m \u001b[91mCreating cell for age (in-edges: 0)\n",
      "WARNING:tensorflow:From D:\\Users\\glede\\anaconda3\\envs\\py37\\lib\\site-packages\\tensorflow_core\\python\\ops\\rnn_cell_impl.py:958: Layer.add_variable (from tensorflow.python.keras.engine.base_layer) is deprecated and will be removed in a future version.\n",
      "Instructions for updating:\n",
      "Please use `layer.add_weight` method instead.\n",
      "WARNING:tensorflow:From D:\\Users\\glede\\anaconda3\\envs\\py37\\lib\\site-packages\\tensorflow_core\\python\\ops\\rnn_cell_impl.py:962: calling Zeros.__init__ (from tensorflow.python.ops.init_ops) with dtype is deprecated and will be removed in a future version.\n",
      "Instructions for updating:\n",
      "Call initializer instance with the dtype argument instead of passing it to the constructor\n",
      "\u001b[32m[1022 14:17:23 @registry.py:126]\u001b[0m gen/LSTM/00/FC input: [500, 100]\n",
      "WARNING:tensorflow:From D:\\Users\\glede\\anaconda3\\envs\\py37\\lib\\site-packages\\tensorpack\\models\\fc.py:57: The name tf.layers.Dense is deprecated. Please use tf.compat.v1.layers.Dense instead.\n",
      "\n",
      "WARNING:tensorflow:From D:\\Users\\glede\\anaconda3\\envs\\py37\\lib\\site-packages\\tensorpack\\models\\fc.py:67: Layer.apply (from tensorflow.python.keras.engine.base_layer) is deprecated and will be removed in a future version.\n",
      "Instructions for updating:\n",
      "Please use `layer.__call__` method instead.\n",
      "\u001b[32m[1022 14:17:23 @registry.py:134]\u001b[0m gen/LSTM/00/FC output: [500, 100]\n",
      "\u001b[32m[1022 14:17:23 @registry.py:126]\u001b[0m gen/LSTM/00/FC2_val input: [500, 100]\n",
      "\u001b[32m[1022 14:17:23 @registry.py:134]\u001b[0m gen/LSTM/00/FC2_val output: [500, 6]\n",
      "\u001b[32m[1022 14:17:23 @registry.py:126]\u001b[0m gen/LSTM/00/FC2_prob input: [500, 100]\n",
      "\u001b[32m[1022 14:17:23 @registry.py:134]\u001b[0m gen/LSTM/00/FC2_prob output: [500, 6]\n",
      "\u001b[32m[1022 14:17:23 @registry.py:126]\u001b[0m gen/LSTM/00/FC3 input: [500, 12]\n",
      "\u001b[32m[1022 14:17:23 @registry.py:134]\u001b[0m gen/LSTM/00/FC3 output: [500, 100]\n",
      "\u001b[32m[1022 14:17:23 @DATGANModel.py:209]\u001b[0m \u001b[91mCreating cell for gender (in-edges: 0)\n",
      "\u001b[32m[1022 14:17:23 @registry.py:126]\u001b[0m gen/LSTM/01/FC input: [500, 100]\n",
      "\u001b[32m[1022 14:17:23 @registry.py:134]\u001b[0m gen/LSTM/01/FC output: [500, 100]\n",
      "\u001b[32m[1022 14:17:23 @registry.py:126]\u001b[0m gen/LSTM/01/FC2 input: [500, 100]\n",
      "\u001b[32m[1022 14:17:23 @registry.py:134]\u001b[0m gen/LSTM/01/FC2 output: [500, 2]\n",
      "\u001b[32m[1022 14:17:23 @registry.py:126]\u001b[0m gen/LSTM/01/FC3 input: [500, 2]\n",
      "\u001b[32m[1022 14:17:23 @registry.py:134]\u001b[0m gen/LSTM/01/FC3 output: [500, 100]\n",
      "\u001b[32m[1022 14:17:23 @DATGANModel.py:209]\u001b[0m \u001b[91mCreating cell for travel_dow (in-edges: 0)\n",
      "\u001b[32m[1022 14:17:23 @registry.py:126]\u001b[0m gen/LSTM/02/FC input: [500, 100]\n",
      "\u001b[32m[1022 14:17:23 @registry.py:134]\u001b[0m gen/LSTM/02/FC output: [500, 100]\n",
      "\u001b[32m[1022 14:17:23 @registry.py:126]\u001b[0m gen/LSTM/02/FC2 input: [500, 100]\n",
      "\u001b[32m[1022 14:17:23 @registry.py:134]\u001b[0m gen/LSTM/02/FC2 output: [500, 7]\n",
      "\u001b[32m[1022 14:17:23 @registry.py:126]\u001b[0m gen/LSTM/02/FC3 input: [500, 7]\n",
      "\u001b[32m[1022 14:17:23 @registry.py:134]\u001b[0m gen/LSTM/02/FC3 output: [500, 100]\n",
      "\u001b[32m[1022 14:17:23 @DATGANModel.py:209]\u001b[0m \u001b[91mCreating cell for license (in-edges: 1)\n",
      "\u001b[32m[1022 14:17:23 @registry.py:126]\u001b[0m gen/LSTM/03/FC input: [500, 100]\n",
      "\u001b[32m[1022 14:17:23 @registry.py:134]\u001b[0m gen/LSTM/03/FC output: [500, 100]\n",
      "\u001b[32m[1022 14:17:23 @registry.py:126]\u001b[0m gen/LSTM/03/FC2 input: [500, 100]\n",
      "\u001b[32m[1022 14:17:23 @registry.py:134]\u001b[0m gen/LSTM/03/FC2 output: [500, 2]\n",
      "\u001b[32m[1022 14:17:23 @registry.py:126]\u001b[0m gen/LSTM/03/FC3 input: [500, 2]\n",
      "\u001b[32m[1022 14:17:23 @registry.py:134]\u001b[0m gen/LSTM/03/FC3 output: [500, 100]\n",
      "\u001b[32m[1022 14:17:23 @DATGANModel.py:209]\u001b[0m \u001b[91mCreating cell for education_level (in-edges: 1)\n",
      "\u001b[32m[1022 14:17:24 @registry.py:126]\u001b[0m gen/LSTM/04/FC input: [500, 100]\n",
      "\u001b[32m[1022 14:17:24 @registry.py:134]\u001b[0m gen/LSTM/04/FC output: [500, 100]\n",
      "\u001b[32m[1022 14:17:24 @registry.py:126]\u001b[0m gen/LSTM/04/FC2 input: [500, 100]\n",
      "\u001b[32m[1022 14:17:24 @registry.py:134]\u001b[0m gen/LSTM/04/FC2 output: [500, 6]\n",
      "\u001b[32m[1022 14:17:24 @registry.py:126]\u001b[0m gen/LSTM/04/FC3 input: [500, 6]\n",
      "\u001b[32m[1022 14:17:24 @registry.py:134]\u001b[0m gen/LSTM/04/FC3 output: [500, 100]\n",
      "\u001b[32m[1022 14:17:24 @DATGANModel.py:209]\u001b[0m \u001b[91mCreating cell for work_status (in-edges: 2)\n",
      "\u001b[32m[1022 14:17:24 @registry.py:126]\u001b[0m gen/LSTM/05/FC_inputs input: [500, 200]\n",
      "\u001b[32m[1022 14:17:24 @registry.py:134]\u001b[0m gen/LSTM/05/FC_inputs output: [500, 100]\n",
      "\u001b[32m[1022 14:17:24 @registry.py:126]\u001b[0m gen/LSTM/05/FC_attentions input: [500, 200]\n",
      "\u001b[32m[1022 14:17:24 @registry.py:134]\u001b[0m gen/LSTM/05/FC_attentions output: [500, 100]\n",
      "\u001b[32m[1022 14:17:24 @registry.py:126]\u001b[0m gen/LSTM/05/FC_lstm_state_0 input: [500, 200]\n",
      "\u001b[32m[1022 14:17:24 @registry.py:134]\u001b[0m gen/LSTM/05/FC_lstm_state_0 output: [500, 100]\n",
      "\u001b[32m[1022 14:17:24 @registry.py:126]\u001b[0m gen/LSTM/05/FC_lstm_state_1 input: [500, 200]\n",
      "\u001b[32m[1022 14:17:24 @registry.py:134]\u001b[0m gen/LSTM/05/FC_lstm_state_1 output: [500, 100]\n",
      "WARNING:tensorflow:From C:\\Users\\glede\\Documents\\EPFL\\PhD\\SynthPop\\code\\modules\\datgan\\DATGANModel.py:305: The name tf.nn.rnn_cell.LSTMStateTuple is deprecated. Please use tf.compat.v1.nn.rnn_cell.LSTMStateTuple instead.\n",
      "\n",
      "\u001b[32m[1022 14:17:24 @registry.py:126]\u001b[0m gen/LSTM/06/FC input: [500, 100]\n",
      "\u001b[32m[1022 14:17:24 @registry.py:134]\u001b[0m gen/LSTM/06/FC output: [500, 100]\n",
      "\u001b[32m[1022 14:17:24 @registry.py:126]\u001b[0m gen/LSTM/06/FC2 input: [500, 100]\n",
      "\u001b[32m[1022 14:17:24 @registry.py:134]\u001b[0m gen/LSTM/06/FC2 output: [500, 8]\n"
     ]
    },
    {
     "name": "stdout",
     "output_type": "stream",
     "text": [
      "\u001b[32m[1022 14:17:24 @registry.py:126]\u001b[0m gen/LSTM/06/FC3 input: [500, 8]\n",
      "\u001b[32m[1022 14:17:24 @registry.py:134]\u001b[0m gen/LSTM/06/FC3 output: [500, 100]\n",
      "\u001b[32m[1022 14:17:24 @DATGANModel.py:209]\u001b[0m \u001b[91mCreating cell for hh_income (in-edges: 2)\n",
      "\u001b[32m[1022 14:17:24 @registry.py:126]\u001b[0m gen/LSTM/07/FC_inputs input: [500, 200]\n",
      "\u001b[32m[1022 14:17:24 @registry.py:134]\u001b[0m gen/LSTM/07/FC_inputs output: [500, 100]\n",
      "\u001b[32m[1022 14:17:24 @registry.py:126]\u001b[0m gen/LSTM/07/FC_attentions input: [500, 200]\n",
      "\u001b[32m[1022 14:17:24 @registry.py:134]\u001b[0m gen/LSTM/07/FC_attentions output: [500, 100]\n",
      "\u001b[32m[1022 14:17:24 @registry.py:126]\u001b[0m gen/LSTM/07/FC_lstm_state_0 input: [500, 200]\n",
      "\u001b[32m[1022 14:17:24 @registry.py:134]\u001b[0m gen/LSTM/07/FC_lstm_state_0 output: [500, 100]\n",
      "\u001b[32m[1022 14:17:24 @registry.py:126]\u001b[0m gen/LSTM/07/FC_lstm_state_1 input: [500, 200]\n",
      "\u001b[32m[1022 14:17:24 @registry.py:134]\u001b[0m gen/LSTM/07/FC_lstm_state_1 output: [500, 100]\n",
      "\u001b[32m[1022 14:17:24 @registry.py:126]\u001b[0m gen/LSTM/08/FC input: [500, 100]\n",
      "\u001b[32m[1022 14:17:24 @registry.py:134]\u001b[0m gen/LSTM/08/FC output: [500, 100]\n",
      "\u001b[32m[1022 14:17:24 @registry.py:126]\u001b[0m gen/LSTM/08/FC2 input: [500, 100]\n",
      "\u001b[32m[1022 14:17:24 @registry.py:134]\u001b[0m gen/LSTM/08/FC2 output: [500, 7]\n",
      "\u001b[32m[1022 14:17:24 @registry.py:126]\u001b[0m gen/LSTM/08/FC3 input: [500, 7]\n",
      "\u001b[32m[1022 14:17:24 @registry.py:134]\u001b[0m gen/LSTM/08/FC3 output: [500, 100]\n",
      "\u001b[32m[1022 14:17:24 @DATGANModel.py:209]\u001b[0m \u001b[91mCreating cell for trip_purpose (in-edges: 1)\n",
      "\u001b[32m[1022 14:17:24 @registry.py:126]\u001b[0m gen/LSTM/09/FC input: [500, 100]\n",
      "\u001b[32m[1022 14:17:24 @registry.py:134]\u001b[0m gen/LSTM/09/FC output: [500, 100]\n",
      "\u001b[32m[1022 14:17:24 @registry.py:126]\u001b[0m gen/LSTM/09/FC2 input: [500, 100]\n",
      "\u001b[32m[1022 14:17:24 @registry.py:134]\u001b[0m gen/LSTM/09/FC2 output: [500, 7]\n",
      "\u001b[32m[1022 14:17:24 @registry.py:126]\u001b[0m gen/LSTM/09/FC3 input: [500, 7]\n",
      "\u001b[32m[1022 14:17:24 @registry.py:134]\u001b[0m gen/LSTM/09/FC3 output: [500, 100]\n",
      "\u001b[32m[1022 14:17:24 @DATGANModel.py:209]\u001b[0m \u001b[91mCreating cell for hh_descr (in-edges: 2)\n",
      "\u001b[32m[1022 14:17:24 @registry.py:126]\u001b[0m gen/LSTM/10/FC_inputs input: [500, 200]\n",
      "\u001b[32m[1022 14:17:24 @registry.py:134]\u001b[0m gen/LSTM/10/FC_inputs output: [500, 100]\n",
      "\u001b[32m[1022 14:17:24 @registry.py:126]\u001b[0m gen/LSTM/10/FC_attentions input: [500, 200]\n",
      "\u001b[32m[1022 14:17:24 @registry.py:134]\u001b[0m gen/LSTM/10/FC_attentions output: [500, 100]\n",
      "\u001b[32m[1022 14:17:24 @registry.py:126]\u001b[0m gen/LSTM/10/FC_lstm_state_0 input: [500, 200]\n",
      "\u001b[32m[1022 14:17:24 @registry.py:134]\u001b[0m gen/LSTM/10/FC_lstm_state_0 output: [500, 100]\n",
      "\u001b[32m[1022 14:17:24 @registry.py:126]\u001b[0m gen/LSTM/10/FC_lstm_state_1 input: [500, 200]\n",
      "\u001b[32m[1022 14:17:24 @registry.py:134]\u001b[0m gen/LSTM/10/FC_lstm_state_1 output: [500, 100]\n",
      "\u001b[32m[1022 14:17:24 @registry.py:126]\u001b[0m gen/LSTM/11/FC input: [500, 100]\n",
      "\u001b[32m[1022 14:17:24 @registry.py:134]\u001b[0m gen/LSTM/11/FC output: [500, 100]\n",
      "\u001b[32m[1022 14:17:24 @registry.py:126]\u001b[0m gen/LSTM/11/FC2 input: [500, 100]\n",
      "\u001b[32m[1022 14:17:24 @registry.py:134]\u001b[0m gen/LSTM/11/FC2 output: [500, 3]\n",
      "\u001b[32m[1022 14:17:24 @registry.py:126]\u001b[0m gen/LSTM/11/FC3 input: [500, 3]\n",
      "\u001b[32m[1022 14:17:24 @registry.py:134]\u001b[0m gen/LSTM/11/FC3 output: [500, 100]\n",
      "\u001b[32m[1022 14:17:24 @DATGANModel.py:209]\u001b[0m \u001b[91mCreating cell for hh_size (in-edges: 3)\n",
      "\u001b[32m[1022 14:17:24 @registry.py:126]\u001b[0m gen/LSTM/12/FC_inputs input: [500, 300]\n",
      "\u001b[32m[1022 14:17:24 @registry.py:134]\u001b[0m gen/LSTM/12/FC_inputs output: [500, 100]\n",
      "\u001b[32m[1022 14:17:24 @registry.py:126]\u001b[0m gen/LSTM/12/FC_attentions input: [500, 300]\n",
      "\u001b[32m[1022 14:17:24 @registry.py:134]\u001b[0m gen/LSTM/12/FC_attentions output: [500, 100]\n",
      "\u001b[32m[1022 14:17:24 @registry.py:126]\u001b[0m gen/LSTM/12/FC_lstm_state_0 input: [500, 300]\n",
      "\u001b[32m[1022 14:17:24 @registry.py:134]\u001b[0m gen/LSTM/12/FC_lstm_state_0 output: [500, 100]\n",
      "\u001b[32m[1022 14:17:24 @registry.py:126]\u001b[0m gen/LSTM/12/FC_lstm_state_1 input: [500, 300]\n",
      "\u001b[32m[1022 14:17:24 @registry.py:134]\u001b[0m gen/LSTM/12/FC_lstm_state_1 output: [500, 100]\n",
      "\u001b[32m[1022 14:17:24 @registry.py:126]\u001b[0m gen/LSTM/13/FC input: [500, 100]\n",
      "\u001b[32m[1022 14:17:24 @registry.py:134]\u001b[0m gen/LSTM/13/FC output: [500, 100]\n",
      "\u001b[32m[1022 14:17:24 @registry.py:126]\u001b[0m gen/LSTM/13/FC2 input: [500, 100]\n",
      "\u001b[32m[1022 14:17:24 @registry.py:134]\u001b[0m gen/LSTM/13/FC2 output: [500, 8]\n",
      "\u001b[32m[1022 14:17:24 @registry.py:126]\u001b[0m gen/LSTM/13/FC3 input: [500, 8]\n",
      "\u001b[32m[1022 14:17:24 @registry.py:134]\u001b[0m gen/LSTM/13/FC3 output: [500, 100]\n",
      "\u001b[32m[1022 14:17:24 @DATGANModel.py:209]\u001b[0m \u001b[91mCreating cell for departure_time (in-edges: 1)\n",
      "\u001b[32m[1022 14:17:24 @registry.py:126]\u001b[0m gen/LSTM/14/FC input: [500, 100]\n",
      "\u001b[32m[1022 14:17:24 @registry.py:134]\u001b[0m gen/LSTM/14/FC output: [500, 100]\n",
      "\u001b[32m[1022 14:17:24 @registry.py:126]\u001b[0m gen/LSTM/14/FC2_val input: [500, 100]\n",
      "\u001b[32m[1022 14:17:24 @registry.py:134]\u001b[0m gen/LSTM/14/FC2_val output: [500, 8]\n",
      "\u001b[32m[1022 14:17:24 @registry.py:126]\u001b[0m gen/LSTM/14/FC2_prob input: [500, 100]\n",
      "\u001b[32m[1022 14:17:24 @registry.py:134]\u001b[0m gen/LSTM/14/FC2_prob output: [500, 8]\n",
      "\u001b[32m[1022 14:17:24 @registry.py:126]\u001b[0m gen/LSTM/14/FC3 input: [500, 16]\n",
      "\u001b[32m[1022 14:17:24 @registry.py:134]\u001b[0m gen/LSTM/14/FC3 output: [500, 100]\n",
      "\u001b[32m[1022 14:17:24 @DATGANModel.py:209]\u001b[0m \u001b[91mCreating cell for distance (in-edges: 1)\n",
      "\u001b[32m[1022 14:17:24 @registry.py:126]\u001b[0m gen/LSTM/15/FC input: [500, 100]\n",
      "\u001b[32m[1022 14:17:24 @registry.py:134]\u001b[0m gen/LSTM/15/FC output: [500, 100]\n",
      "\u001b[32m[1022 14:17:24 @registry.py:126]\u001b[0m gen/LSTM/15/FC2_val input: [500, 100]\n",
      "\u001b[32m[1022 14:17:24 @registry.py:134]\u001b[0m gen/LSTM/15/FC2_val output: [500, 10]\n",
      "\u001b[32m[1022 14:17:24 @registry.py:126]\u001b[0m gen/LSTM/15/FC2_prob input: [500, 100]\n",
      "\u001b[32m[1022 14:17:24 @registry.py:134]\u001b[0m gen/LSTM/15/FC2_prob output: [500, 10]\n",
      "\u001b[32m[1022 14:17:24 @registry.py:126]\u001b[0m gen/LSTM/15/FC3 input: [500, 20]\n",
      "\u001b[32m[1022 14:17:24 @registry.py:134]\u001b[0m gen/LSTM/15/FC3 output: [500, 100]\n",
      "\u001b[32m[1022 14:17:24 @DATGANModel.py:209]\u001b[0m \u001b[91mCreating cell for hh_vehicles (in-edges: 2)\n",
      "\u001b[32m[1022 14:17:24 @registry.py:126]\u001b[0m gen/LSTM/16/FC_inputs input: [500, 200]\n",
      "\u001b[32m[1022 14:17:24 @registry.py:134]\u001b[0m gen/LSTM/16/FC_inputs output: [500, 100]\n",
      "\u001b[32m[1022 14:17:24 @registry.py:126]\u001b[0m gen/LSTM/16/FC_attentions input: [500, 200]\n",
      "\u001b[32m[1022 14:17:24 @registry.py:134]\u001b[0m gen/LSTM/16/FC_attentions output: [500, 100]\n",
      "\u001b[32m[1022 14:17:24 @registry.py:126]\u001b[0m gen/LSTM/16/FC_lstm_state_0 input: [500, 200]\n",
      "\u001b[32m[1022 14:17:24 @registry.py:134]\u001b[0m gen/LSTM/16/FC_lstm_state_0 output: [500, 100]\n",
      "\u001b[32m[1022 14:17:24 @registry.py:126]\u001b[0m gen/LSTM/16/FC_lstm_state_1 input: [500, 200]\n",
      "\u001b[32m[1022 14:17:24 @registry.py:134]\u001b[0m gen/LSTM/16/FC_lstm_state_1 output: [500, 100]\n",
      "\u001b[32m[1022 14:17:24 @registry.py:126]\u001b[0m gen/LSTM/17/FC input: [500, 100]\n",
      "\u001b[32m[1022 14:17:24 @registry.py:134]\u001b[0m gen/LSTM/17/FC output: [500, 100]\n",
      "\u001b[32m[1022 14:17:24 @registry.py:126]\u001b[0m gen/LSTM/17/FC2 input: [500, 100]\n",
      "\u001b[32m[1022 14:17:24 @registry.py:134]\u001b[0m gen/LSTM/17/FC2 output: [500, 9]\n",
      "\u001b[32m[1022 14:17:24 @registry.py:126]\u001b[0m gen/LSTM/17/FC3 input: [500, 9]\n",
      "\u001b[32m[1022 14:17:24 @registry.py:134]\u001b[0m gen/LSTM/17/FC3 output: [500, 100]\n",
      "\u001b[32m[1022 14:17:24 @DATGANModel.py:209]\u001b[0m \u001b[91mCreating cell for hh_bikes (in-edges: 2)\n",
      "\u001b[32m[1022 14:17:24 @registry.py:126]\u001b[0m gen/LSTM/18/FC_inputs input: [500, 200]\n",
      "\u001b[32m[1022 14:17:24 @registry.py:134]\u001b[0m gen/LSTM/18/FC_inputs output: [500, 100]\n",
      "\u001b[32m[1022 14:17:24 @registry.py:126]\u001b[0m gen/LSTM/18/FC_attentions input: [500, 200]\n",
      "\u001b[32m[1022 14:17:24 @registry.py:134]\u001b[0m gen/LSTM/18/FC_attentions output: [500, 100]\n",
      "\u001b[32m[1022 14:17:24 @registry.py:126]\u001b[0m gen/LSTM/18/FC_lstm_state_0 input: [500, 200]\n",
      "\u001b[32m[1022 14:17:24 @registry.py:134]\u001b[0m gen/LSTM/18/FC_lstm_state_0 output: [500, 100]\n",
      "\u001b[32m[1022 14:17:24 @registry.py:126]\u001b[0m gen/LSTM/18/FC_lstm_state_1 input: [500, 200]\n",
      "\u001b[32m[1022 14:17:24 @registry.py:134]\u001b[0m gen/LSTM/18/FC_lstm_state_1 output: [500, 100]\n",
      "\u001b[32m[1022 14:17:24 @registry.py:126]\u001b[0m gen/LSTM/19/FC input: [500, 100]\n",
      "\u001b[32m[1022 14:17:24 @registry.py:134]\u001b[0m gen/LSTM/19/FC output: [500, 100]\n",
      "\u001b[32m[1022 14:17:24 @registry.py:126]\u001b[0m gen/LSTM/19/FC2 input: [500, 100]\n",
      "\u001b[32m[1022 14:17:24 @registry.py:134]\u001b[0m gen/LSTM/19/FC2 output: [500, 8]\n",
      "\u001b[32m[1022 14:17:24 @registry.py:126]\u001b[0m gen/LSTM/19/FC3 input: [500, 8]\n"
     ]
    },
    {
     "name": "stdout",
     "output_type": "stream",
     "text": [
      "\u001b[32m[1022 14:17:24 @registry.py:134]\u001b[0m gen/LSTM/19/FC3 output: [500, 100]\n",
      "\u001b[32m[1022 14:17:24 @DATGANModel.py:209]\u001b[0m \u001b[91mCreating cell for choice (in-edges: 7)\n",
      "\u001b[32m[1022 14:17:24 @registry.py:126]\u001b[0m gen/LSTM/20/FC_inputs input: [500, 700]\n",
      "\u001b[32m[1022 14:17:24 @registry.py:134]\u001b[0m gen/LSTM/20/FC_inputs output: [500, 100]\n",
      "\u001b[32m[1022 14:17:24 @registry.py:126]\u001b[0m gen/LSTM/20/FC_attentions input: [500, 700]\n",
      "\u001b[32m[1022 14:17:24 @registry.py:134]\u001b[0m gen/LSTM/20/FC_attentions output: [500, 100]\n",
      "\u001b[32m[1022 14:17:24 @registry.py:126]\u001b[0m gen/LSTM/20/FC_lstm_state_0 input: [500, 700]\n",
      "\u001b[32m[1022 14:17:24 @registry.py:134]\u001b[0m gen/LSTM/20/FC_lstm_state_0 output: [500, 100]\n",
      "\u001b[32m[1022 14:17:24 @registry.py:126]\u001b[0m gen/LSTM/20/FC_lstm_state_1 input: [500, 700]\n",
      "\u001b[32m[1022 14:17:24 @registry.py:134]\u001b[0m gen/LSTM/20/FC_lstm_state_1 output: [500, 100]\n",
      "\u001b[32m[1022 14:17:24 @registry.py:126]\u001b[0m gen/LSTM/21/FC input: [500, 100]\n",
      "\u001b[32m[1022 14:17:24 @registry.py:134]\u001b[0m gen/LSTM/21/FC output: [500, 100]\n",
      "\u001b[32m[1022 14:17:24 @registry.py:126]\u001b[0m gen/LSTM/21/FC2 input: [500, 100]\n",
      "\u001b[32m[1022 14:17:24 @registry.py:134]\u001b[0m gen/LSTM/21/FC2 output: [500, 5]\n",
      "\u001b[32m[1022 14:17:24 @registry.py:126]\u001b[0m gen/LSTM/21/FC3 input: [500, 5]\n",
      "\u001b[32m[1022 14:17:24 @registry.py:134]\u001b[0m gen/LSTM/21/FC3 output: [500, 100]\n",
      "WARNING:tensorflow:From C:\\Users\\glede\\Documents\\EPFL\\PhD\\SynthPop\\code\\modules\\datgan\\DATGANModel.py:572: The name tf.random_uniform is deprecated. Please use tf.random.uniform instead.\n",
      "\n",
      "WARNING:tensorflow:From C:\\Users\\glede\\Documents\\EPFL\\PhD\\SynthPop\\code\\modules\\datgan\\DATGANModel.py:496: The name tf.log is deprecated. Please use tf.math.log instead.\n",
      "\n",
      "\u001b[32m[1022 14:17:25 @registry.py:126]\u001b[0m discrim/discrim/dis_fc0/fc input: [500, 120]\n",
      "\u001b[32m[1022 14:17:25 @registry.py:134]\u001b[0m discrim/discrim/dis_fc0/fc output: [500, 100]\n",
      "\u001b[32m[1022 14:17:25 @registry.py:126]\u001b[0m discrim/discrim/dis_fc0/fc_diversity input: [500, 100]\n",
      "\u001b[32m[1022 14:17:25 @registry.py:134]\u001b[0m discrim/discrim/dis_fc0/fc_diversity output: [500, 100]\n",
      "\u001b[32m[1022 14:17:25 @registry.py:126]\u001b[0m discrim/discrim/dis_fc_top input: [500, 110]\n",
      "\u001b[32m[1022 14:17:25 @registry.py:134]\u001b[0m discrim/discrim/dis_fc_top output: [500, 1]\n",
      "WARNING:tensorflow:From D:\\Users\\glede\\anaconda3\\envs\\py37\\lib\\site-packages\\tensorpack\\tfutils\\summary.py:269: The name tf.add_to_collection is deprecated. Please use tf.compat.v1.add_to_collection instead.\n",
      "\n",
      "WARNING:tensorflow:From C:\\Users\\glede\\Documents\\EPFL\\PhD\\SynthPop\\code\\modules\\datgan\\DATWGANModel.py:159: The name tf.train.AdamOptimizer is deprecated. Please use tf.compat.v1.train.AdamOptimizer instead.\n",
      "\n",
      "\u001b[32m[1022 14:17:28 @DATGAN.py:200]\u001b[0m Found an already existing model. Loading it!\n",
      "WARNING:tensorflow:From D:\\Users\\glede\\anaconda3\\envs\\py37\\lib\\site-packages\\tensorpack\\tfutils\\varmanip.py:178: The name tf.gfile.Exists is deprecated. Please use tf.io.gfile.exists instead.\n",
      "\n",
      "\u001b[32m[1022 14:17:28 @logger.py:83]\u001b[0m Existing log file '../output/Chicago/DATWGAN_30/logs\\log.log' backuped to '../output/Chicago/DATWGAN_30/logs\\log.log.1022-141728'\n",
      "\u001b[32m[1022 14:17:28 @logger.py:90]\u001b[0m Argv: D:\\Users\\glede\\anaconda3\\envs\\py37\\lib\\site-packages\\ipykernel_launcher.py -f C:\\Users\\glede\\AppData\\Roaming\\jupyter\\runtime\\kernel-7b3e24c4-8190-49eb-b793-c8766da81338.json\n",
      "WARNING:tensorflow:From D:\\Users\\glede\\anaconda3\\envs\\py37\\lib\\site-packages\\tensorpack\\callbacks\\saver.py:43: The name tf.gfile.IsDirectory is deprecated. Please use tf.io.gfile.isdir instead.\n",
      "\n",
      "WARNING:tensorflow:From D:\\Users\\glede\\anaconda3\\envs\\py37\\lib\\site-packages\\tensorpack\\tfutils\\common.py:41: The name tf.ConfigProto is deprecated. Please use tf.compat.v1.ConfigProto instead.\n",
      "\n",
      "\u001b[32m[1022 14:17:28 @model_utils.py:67]\u001b[0m \u001b[36mList of Trainable Variables: \n",
      "\u001b[0mname                                      shape         #elements\n",
      "----------------------------------------  ----------  -----------\n",
      "gen/LSTM/go_age:0                         [1, 100]            100\n",
      "gen/LSTM/lstm_cell/kernel:0               [500, 400]       200000\n",
      "gen/LSTM/lstm_cell/bias:0                 [400]               400\n",
      "gen/LSTM/00/FC/W:0                        [100, 100]        10000\n",
      "gen/LSTM/00/FC/b:0                        [100]               100\n",
      "gen/LSTM/00/FC2_val/W:0                   [100, 6]            600\n",
      "gen/LSTM/00/FC2_val/b:0                   [6]                   6\n",
      "gen/LSTM/00/FC2_prob/W:0                  [100, 6]            600\n",
      "gen/LSTM/00/FC2_prob/b:0                  [6]                   6\n",
      "gen/LSTM/00/FC3/W:0                       [12, 100]          1200\n",
      "gen/LSTM/00/FC3/b:0                       [100]               100\n",
      "gen/LSTM/00/attw:0                        [1, 1, 1]             1\n",
      "gen/LSTM/go_gender:0                      [1, 100]            100\n",
      "gen/LSTM/01/FC/W:0                        [100, 100]        10000\n",
      "gen/LSTM/01/FC/b:0                        [100]               100\n",
      "gen/LSTM/01/FC2/W:0                       [100, 2]            200\n",
      "gen/LSTM/01/FC2/b:0                       [2]                   2\n",
      "gen/LSTM/01/FC3/W:0                       [2, 100]            200\n",
      "gen/LSTM/01/FC3/b:0                       [100]               100\n",
      "gen/LSTM/01/attw:0                        [1, 1, 1]             1\n",
      "gen/LSTM/go_travel_dow:0                  [1, 100]            100\n",
      "gen/LSTM/02/FC/W:0                        [100, 100]        10000\n",
      "gen/LSTM/02/FC/b:0                        [100]               100\n",
      "gen/LSTM/02/FC2/W:0                       [100, 7]            700\n",
      "gen/LSTM/02/FC2/b:0                       [7]                   7\n",
      "gen/LSTM/02/FC3/W:0                       [7, 100]            700\n",
      "gen/LSTM/02/FC3/b:0                       [100]               100\n",
      "gen/LSTM/02/attw:0                        [1, 1, 1]             1\n",
      "gen/LSTM/03/FC/W:0                        [100, 100]        10000\n",
      "gen/LSTM/03/FC/b:0                        [100]               100\n",
      "gen/LSTM/03/FC2/W:0                       [100, 2]            200\n",
      "gen/LSTM/03/FC2/b:0                       [2]                   2\n",
      "gen/LSTM/03/FC3/W:0                       [2, 100]            200\n",
      "gen/LSTM/03/FC3/b:0                       [100]               100\n",
      "gen/LSTM/03/attw:0                        [2, 1, 1]             2\n",
      "gen/LSTM/04/FC/W:0                        [100, 100]        10000\n",
      "gen/LSTM/04/FC/b:0                        [100]               100\n",
      "gen/LSTM/04/FC2/W:0                       [100, 6]            600\n",
      "gen/LSTM/04/FC2/b:0                       [6]                   6\n",
      "gen/LSTM/04/FC3/W:0                       [6, 100]            600\n",
      "gen/LSTM/04/FC3/b:0                       [100]               100\n",
      "gen/LSTM/04/attw:0                        [2, 1, 1]             2\n",
      "gen/LSTM/05/FC_inputs/W:0                 [200, 100]        20000\n",
      "gen/LSTM/05/FC_inputs/b:0                 [100]               100\n",
      "gen/LSTM/05/FC_attentions/W:0             [200, 100]        20000\n",
      "gen/LSTM/05/FC_attentions/b:0             [100]               100\n",
      "gen/LSTM/05/FC_lstm_state_0/W:0           [200, 100]        20000\n",
      "gen/LSTM/05/FC_lstm_state_0/b:0           [100]               100\n",
      "gen/LSTM/05/FC_lstm_state_1/W:0           [200, 100]        20000\n",
      "gen/LSTM/05/FC_lstm_state_1/b:0           [100]               100\n",
      "gen/LSTM/06/FC/W:0                        [100, 100]        10000\n",
      "gen/LSTM/06/FC/b:0                        [100]               100\n",
      "gen/LSTM/06/FC2/W:0                       [100, 8]            800\n",
      "gen/LSTM/06/FC2/b:0                       [8]                   8\n",
      "gen/LSTM/06/FC3/W:0                       [8, 100]            800\n",
      "gen/LSTM/06/FC3/b:0                       [100]               100\n",
      "gen/LSTM/06/attw:0                        [4, 1, 1]             4\n",
      "gen/LSTM/07/FC_inputs/W:0                 [200, 100]        20000\n",
      "gen/LSTM/07/FC_inputs/b:0                 [100]               100\n",
      "gen/LSTM/07/FC_attentions/W:0             [200, 100]        20000\n",
      "gen/LSTM/07/FC_attentions/b:0             [100]               100\n",
      "gen/LSTM/07/FC_lstm_state_0/W:0           [200, 100]        20000\n",
      "gen/LSTM/07/FC_lstm_state_0/b:0           [100]               100\n",
      "gen/LSTM/07/FC_lstm_state_1/W:0           [200, 100]        20000\n",
      "gen/LSTM/07/FC_lstm_state_1/b:0           [100]               100\n",
      "gen/LSTM/08/FC/W:0                        [100, 100]        10000\n",
      "gen/LSTM/08/FC/b:0                        [100]               100\n",
      "gen/LSTM/08/FC2/W:0                       [100, 7]            700\n",
      "gen/LSTM/08/FC2/b:0                       [7]                   7\n",
      "gen/LSTM/08/FC3/W:0                       [7, 100]            700\n",
      "gen/LSTM/08/FC3/b:0                       [100]               100\n",
      "gen/LSTM/08/attw:0                        [5, 1, 1]             5\n",
      "gen/LSTM/09/FC/W:0                        [100, 100]        10000\n",
      "gen/LSTM/09/FC/b:0                        [100]               100\n",
      "gen/LSTM/09/FC2/W:0                       [100, 7]            700\n",
      "gen/LSTM/09/FC2/b:0                       [7]                   7\n",
      "gen/LSTM/09/FC3/W:0                       [7, 100]            700\n",
      "gen/LSTM/09/FC3/b:0                       [100]               100\n",
      "gen/LSTM/09/attw:0                        [5, 1, 1]             5\n",
      "gen/LSTM/10/FC_inputs/W:0                 [200, 100]        20000\n",
      "gen/LSTM/10/FC_inputs/b:0                 [100]               100\n",
      "gen/LSTM/10/FC_attentions/W:0             [200, 100]        20000\n",
      "gen/LSTM/10/FC_attentions/b:0             [100]               100\n",
      "gen/LSTM/10/FC_lstm_state_0/W:0           [200, 100]        20000\n",
      "gen/LSTM/10/FC_lstm_state_0/b:0           [100]               100\n",
      "gen/LSTM/10/FC_lstm_state_1/W:0           [200, 100]        20000\n",
      "gen/LSTM/10/FC_lstm_state_1/b:0           [100]               100\n",
      "gen/LSTM/11/FC/W:0                        [100, 100]        10000\n",
      "gen/LSTM/11/FC/b:0                        [100]               100\n",
      "gen/LSTM/11/FC2/W:0                       [100, 3]            300\n",
      "gen/LSTM/11/FC2/b:0                       [3]                   3\n",
      "gen/LSTM/11/FC3/W:0                       [3, 100]            300\n",
      "gen/LSTM/11/FC3/b:0                       [100]               100\n",
      "gen/LSTM/11/attw:0                        [6, 1, 1]             6\n",
      "gen/LSTM/12/FC_inputs/W:0                 [300, 100]        30000\n",
      "gen/LSTM/12/FC_inputs/b:0                 [100]               100\n",
      "gen/LSTM/12/FC_attentions/W:0             [300, 100]        30000\n",
      "gen/LSTM/12/FC_attentions/b:0             [100]               100\n",
      "gen/LSTM/12/FC_lstm_state_0/W:0           [300, 100]        30000\n",
      "gen/LSTM/12/FC_lstm_state_0/b:0           [100]               100\n",
      "gen/LSTM/12/FC_lstm_state_1/W:0           [300, 100]        30000\n",
      "gen/LSTM/12/FC_lstm_state_1/b:0           [100]               100\n",
      "gen/LSTM/13/FC/W:0                        [100, 100]        10000\n",
      "gen/LSTM/13/FC/b:0                        [100]               100\n",
      "gen/LSTM/13/FC2/W:0                       [100, 8]            800\n",
      "gen/LSTM/13/FC2/b:0                       [8]                   8\n",
      "gen/LSTM/13/FC3/W:0                       [8, 100]            800\n",
      "gen/LSTM/13/FC3/b:0                       [100]               100\n",
      "gen/LSTM/13/attw:0                        [6, 1, 1]             6\n",
      "gen/LSTM/14/FC/W:0                        [100, 100]        10000\n",
      "gen/LSTM/14/FC/b:0                        [100]               100\n",
      "gen/LSTM/14/FC2_val/W:0                   [100, 8]            800\n",
      "gen/LSTM/14/FC2_val/b:0                   [8]                   8\n",
      "gen/LSTM/14/FC2_prob/W:0                  [100, 8]            800\n",
      "gen/LSTM/14/FC2_prob/b:0                  [8]                   8\n",
      "gen/LSTM/14/FC3/W:0                       [16, 100]          1600\n",
      "gen/LSTM/14/FC3/b:0                       [100]               100\n",
      "gen/LSTM/14/attw:0                        [6, 1, 1]             6\n",
      "gen/LSTM/15/FC/W:0                        [100, 100]        10000\n",
      "gen/LSTM/15/FC/b:0                        [100]               100\n",
      "gen/LSTM/15/FC2_val/W:0                   [100, 10]          1000\n",
      "gen/LSTM/15/FC2_val/b:0                   [10]                 10\n",
      "gen/LSTM/15/FC2_prob/W:0                  [100, 10]          1000\n",
      "gen/LSTM/15/FC2_prob/b:0                  [10]                 10\n",
      "gen/LSTM/15/FC3/W:0                       [20, 100]          2000\n",
      "gen/LSTM/15/FC3/b:0                       [100]               100\n",
      "gen/LSTM/15/attw:0                        [6, 1, 1]             6\n",
      "gen/LSTM/16/FC_inputs/W:0                 [200, 100]        20000\n",
      "gen/LSTM/16/FC_inputs/b:0                 [100]               100\n",
      "gen/LSTM/16/FC_attentions/W:0             [200, 100]        20000\n",
      "gen/LSTM/16/FC_attentions/b:0             [100]               100\n",
      "gen/LSTM/16/FC_lstm_state_0/W:0           [200, 100]        20000\n",
      "gen/LSTM/16/FC_lstm_state_0/b:0           [100]               100\n",
      "gen/LSTM/16/FC_lstm_state_1/W:0           [200, 100]        20000\n",
      "gen/LSTM/16/FC_lstm_state_1/b:0           [100]               100\n",
      "gen/LSTM/17/FC/W:0                        [100, 100]        10000\n",
      "gen/LSTM/17/FC/b:0                        [100]               100\n",
      "gen/LSTM/17/FC2/W:0                       [100, 9]            900\n",
      "gen/LSTM/17/FC2/b:0                       [9]                   9\n",
      "gen/LSTM/17/FC3/W:0                       [9, 100]            900\n",
      "gen/LSTM/17/FC3/b:0                       [100]               100\n",
      "gen/LSTM/17/attw:0                        [7, 1, 1]             7\n",
      "gen/LSTM/18/FC_inputs/W:0                 [200, 100]        20000\n",
      "gen/LSTM/18/FC_inputs/b:0                 [100]               100\n",
      "gen/LSTM/18/FC_attentions/W:0             [200, 100]        20000\n",
      "gen/LSTM/18/FC_attentions/b:0             [100]               100\n",
      "gen/LSTM/18/FC_lstm_state_0/W:0           [200, 100]        20000\n",
      "gen/LSTM/18/FC_lstm_state_0/b:0           [100]               100\n",
      "gen/LSTM/18/FC_lstm_state_1/W:0           [200, 100]        20000\n",
      "gen/LSTM/18/FC_lstm_state_1/b:0           [100]               100\n",
      "gen/LSTM/19/FC/W:0                        [100, 100]        10000\n",
      "gen/LSTM/19/FC/b:0                        [100]               100\n",
      "gen/LSTM/19/FC2/W:0                       [100, 8]            800\n",
      "gen/LSTM/19/FC2/b:0                       [8]                   8\n",
      "gen/LSTM/19/FC3/W:0                       [8, 100]            800\n",
      "gen/LSTM/19/FC3/b:0                       [100]               100\n",
      "gen/LSTM/19/attw:0                        [7, 1, 1]             7\n",
      "gen/LSTM/20/FC_inputs/W:0                 [700, 100]        70000\n",
      "gen/LSTM/20/FC_inputs/b:0                 [100]               100\n",
      "gen/LSTM/20/FC_attentions/W:0             [700, 100]        70000\n",
      "gen/LSTM/20/FC_attentions/b:0             [100]               100\n",
      "gen/LSTM/20/FC_lstm_state_0/W:0           [700, 100]        70000\n",
      "gen/LSTM/20/FC_lstm_state_0/b:0           [100]               100\n",
      "gen/LSTM/20/FC_lstm_state_1/W:0           [700, 100]        70000\n",
      "gen/LSTM/20/FC_lstm_state_1/b:0           [100]               100\n",
      "gen/LSTM/21/FC/W:0                        [100, 100]        10000\n",
      "gen/LSTM/21/FC/b:0                        [100]               100\n",
      "gen/LSTM/21/FC2/W:0                       [100, 5]            500\n",
      "gen/LSTM/21/FC2/b:0                       [5]                   5\n",
      "gen/LSTM/21/FC3/W:0                       [5, 100]            500\n",
      "gen/LSTM/21/FC3/b:0                       [100]               100\n",
      "gen/LSTM/21/attw:0                        [14, 1, 1]           14\n",
      "discrim/discrim/dis_fc0/fc/W:0            [120, 100]        12000\n",
      "discrim/discrim/dis_fc0/fc/b:0            [100]               100\n",
      "discrim/discrim/dis_fc0/fc_diversity/W:0  [100, 100]        10000\n",
      "discrim/discrim/dis_fc0/fc_diversity/b:0  [100]               100\n",
      "discrim/discrim/dis_fc0/ln/beta:0         [110]               110\n",
      "discrim/discrim/dis_fc0/ln/gamma:0        [110]               110\n",
      "discrim/discrim/dis_fc_top/W:0            [110, 1]            110\n",
      "discrim/discrim/dis_fc_top/b:0            [1]                   1\u001b[36m\n",
      "Number of trainable variables: 180\n",
      "Number of parameters (elements): 1203224\n",
      "Storage space needed for all trainable variables: 4.59MB\u001b[0m\n"
     ]
    },
    {
     "name": "stdout",
     "output_type": "stream",
     "text": [
      "\u001b[32m[1022 14:17:28 @base.py:209]\u001b[0m Setup callbacks graph ...\n",
      "WARNING:tensorflow:From D:\\Users\\glede\\anaconda3\\envs\\py37\\lib\\site-packages\\tensorpack\\callbacks\\graph.py:54: The name tf.train.SessionRunArgs is deprecated. Please use tf.estimator.SessionRunArgs instead.\n",
      "\n",
      "WARNING:tensorflow:From D:\\Users\\glede\\anaconda3\\envs\\py37\\lib\\site-packages\\tensorpack\\tfutils\\common.py:75: The name tf.VariableScope is deprecated. Please use tf.compat.v1.VariableScope instead.\n",
      "\n",
      "WARNING:tensorflow:From D:\\Users\\glede\\anaconda3\\envs\\py37\\lib\\site-packages\\tensorpack\\tfutils\\common.py:77: The name tf.train.get_or_create_global_step is deprecated. Please use tf.compat.v1.train.get_or_create_global_step instead.\n",
      "\n",
      "WARNING:tensorflow:From D:\\Users\\glede\\anaconda3\\envs\\py37\\lib\\site-packages\\tensorpack\\callbacks\\steps.py:117: The name tf.assign_add is deprecated. Please use tf.compat.v1.assign_add instead.\n",
      "\n",
      "WARNING:tensorflow:From D:\\Users\\glede\\anaconda3\\envs\\py37\\lib\\site-packages\\tensorpack\\callbacks\\saver.py:55: The name tf.train.Saver is deprecated. Please use tf.compat.v1.train.Saver instead.\n",
      "\n",
      "WARNING:tensorflow:From D:\\Users\\glede\\anaconda3\\envs\\py37\\lib\\site-packages\\tensorpack\\callbacks\\saver.py:59: The name tf.train.SaverDef is deprecated. Please use tf.compat.v1.train.SaverDef instead.\n",
      "\n",
      "\u001b[32m[1022 14:17:28 @summary.py:46]\u001b[0m [MovingAverageSummary] 5 operations in collection 'MOVING_SUMMARY_OPS' will be run with session hooks.\n",
      "\u001b[32m[1022 14:17:28 @summary.py:93]\u001b[0m Summarizing collection 'summaries' of size 6.\n",
      "WARNING:tensorflow:From D:\\Users\\glede\\anaconda3\\envs\\py37\\lib\\site-packages\\tensorpack\\callbacks\\summary.py:94: The name tf.summary.merge_all is deprecated. Please use tf.compat.v1.summary.merge_all instead.\n",
      "\n",
      "WARNING:tensorflow:From D:\\Users\\glede\\anaconda3\\envs\\py37\\lib\\site-packages\\tensorpack\\callbacks\\monitor.py:261: The name tf.summary.FileWriter is deprecated. Please use tf.compat.v1.summary.FileWriter instead.\n",
      "\n",
      "WARNING:tensorflow:From D:\\Users\\glede\\anaconda3\\envs\\py37\\lib\\site-packages\\tensorpack\\tfutils\\sessinit.py:120: The name tf.train.NewCheckpointReader is deprecated. Please use tf.compat.v1.train.NewCheckpointReader instead.\n",
      "\n",
      "WARNING:tensorflow:From D:\\Users\\glede\\anaconda3\\envs\\py37\\lib\\site-packages\\tensorpack\\tfutils\\sessinit.py:127: The name tf.global_variables is deprecated. Please use tf.compat.v1.global_variables instead.\n",
      "\n",
      "\u001b[32m[1022 14:17:29 @base.py:230]\u001b[0m Creating the session ...\n",
      "WARNING:tensorflow:From D:\\Users\\glede\\anaconda3\\envs\\py37\\lib\\site-packages\\tensorpack\\tfutils\\sesscreate.py:42: The name tf.Session is deprecated. Please use tf.compat.v1.Session instead.\n",
      "\n",
      "WARNING:tensorflow:From D:\\Users\\glede\\anaconda3\\envs\\py37\\lib\\site-packages\\tensorpack\\tfutils\\sesscreate.py:71: The name tf.global_variables_initializer is deprecated. Please use tf.compat.v1.global_variables_initializer instead.\n",
      "\n",
      "WARNING:tensorflow:From D:\\Users\\glede\\anaconda3\\envs\\py37\\lib\\site-packages\\tensorpack\\tfutils\\sesscreate.py:62: get_backward_walk_ops (from tensorflow.contrib.graph_editor.select) is deprecated and will be removed after 2019-06-06.\n",
      "Instructions for updating:\n",
      "Please use tensorflow.python.ops.op_selector.get_backward_walk_ops.\n",
      "WARNING:tensorflow:From D:\\Users\\glede\\anaconda3\\envs\\py37\\lib\\site-packages\\tensorpack\\tfutils\\sesscreate.py:72: The name tf.local_variables_initializer is deprecated. Please use tf.compat.v1.local_variables_initializer instead.\n",
      "\n",
      "WARNING:tensorflow:From D:\\Users\\glede\\anaconda3\\envs\\py37\\lib\\site-packages\\tensorpack\\tfutils\\sesscreate.py:73: The name tf.tables_initializer is deprecated. Please use tf.compat.v1.tables_initializer instead.\n",
      "\n",
      "WARNING:tensorflow:From D:\\Users\\glede\\anaconda3\\envs\\py37\\lib\\site-packages\\tensorpack\\train\\base.py:254: The name tf.train.MonitoredSession is deprecated. Please use tf.compat.v1.train.MonitoredSession instead.\n",
      "\n",
      "\u001b[32m[1022 14:17:31 @base.py:236]\u001b[0m Initializing the session ...\n",
      "\u001b[32m[1022 14:17:31 @sessinit.py:114]\u001b[0m Restoring checkpoint from ../output/Chicago/DATWGAN_30/model\\model-104999 ...\n",
      "INFO:tensorflow:Restoring parameters from ../output/Chicago/DATWGAN_30/model\\model-104999\n",
      "\u001b[32m[1022 14:17:31 @base.py:243]\u001b[0m Graph Finalized.\n",
      "WARNING:tensorflow:From D:\\Users\\glede\\anaconda3\\envs\\py37\\lib\\site-packages\\tensorpack\\tfutils\\common.py:89: The name tf.train.global_step is deprecated. Please use tf.compat.v1.train.global_step instead.\n",
      "\n",
      "WARNING:tensorflow:From D:\\Users\\glede\\anaconda3\\envs\\py37\\lib\\site-packages\\tensorpack\\tfutils\\common.py:90: The name tf.get_default_session is deprecated. Please use tf.compat.v1.get_default_session instead.\n",
      "\n",
      "\u001b[32m[1022 14:17:31 @concurrency.py:38]\u001b[0m Starting EnqueueThread QueueInput/input_queue ...\n",
      "\u001b[32m[1022 14:17:31 @steps.py:124]\u001b[0m Start training with global_step=104999\n",
      "\u001b[32m[1022 14:17:32 @monitor.py:347]\u001b[0m Found existing JSON inside ../output/Chicago/DATWGAN_30/logs, will append to it.\n",
      "\u001b[32m[1022 14:17:32 @base.py:275]\u001b[0m Start Epoch 501 ...\n"
     ]
    },
    {
     "name": "stderr",
     "output_type": "stream",
     "text": [
      " 95%|##############################################################################7    |166/175[00:08<00:00,26.77it/s]"
     ]
    },
    {
     "name": "stdout",
     "output_type": "stream",
     "text": [
      "WARNING:tensorflow:From D:\\Users\\glede\\anaconda3\\envs\\py37\\lib\\site-packages\\tensorpack\\callbacks\\monitor.py:148: The name tf.Summary is deprecated. Please use tf.compat.v1.Summary instead.\n",
      "\n"
     ]
    },
    {
     "name": "stderr",
     "output_type": "stream",
     "text": [
      "\r",
      "100%|###################################################################################|175/175[00:10<00:00,17.40it/s]"
     ]
    },
    {
     "name": "stdout",
     "output_type": "stream",
     "text": [
      "\u001b[32m[1022 14:17:42 @base.py:285]\u001b[0m Epoch 501 (global_step 105209) finished, time:10.1 seconds.\n",
      "WARNING:tensorflow:From D:\\Users\\glede\\anaconda3\\envs\\py37\\lib\\site-packages\\tensorpack\\callbacks\\saver.py:77: The name tf.train.get_global_step is deprecated. Please use tf.compat.v1.train.get_global_step instead.\n",
      "\n"
     ]
    },
    {
     "name": "stderr",
     "output_type": "stream",
     "text": [
      "\n"
     ]
    },
    {
     "name": "stdout",
     "output_type": "stream",
     "text": [
      "\u001b[32m[1022 14:17:42 @saver.py:79]\u001b[0m Model saved to ../output/Chicago/DATWGAN_30/model\\model-105209.\n",
      "\u001b[32m[1022 14:17:42 @monitor.py:467]\u001b[0m GAN_loss/d_loss: -0.019927\n",
      "\u001b[32m[1022 14:17:42 @monitor.py:467]\u001b[0m GAN_loss/g_loss: 0.38032\n",
      "\u001b[32m[1022 14:17:42 @monitor.py:467]\u001b[0m GAN_loss/gradient_penalty: 0.0051733\n",
      "\u001b[32m[1022 14:17:42 @monitor.py:467]\u001b[0m GAN_loss/gradient_rms: 0.99892\n",
      "\u001b[32m[1022 14:17:42 @monitor.py:467]\u001b[0m GAN_loss/kl_div: 0.060073\n",
      "\u001b[32m[1022 14:17:42 @monitor.py:467]\u001b[0m QueueInput/queue_size: 50\n",
      "\u001b[32m[1022 14:17:42 @base.py:275]\u001b[0m Start Epoch 502 ...\n"
     ]
    },
    {
     "name": "stderr",
     "output_type": "stream",
     "text": [
      "100%|###################################################################################|175/175[00:06<00:00,27.78it/s]"
     ]
    },
    {
     "name": "stdout",
     "output_type": "stream",
     "text": [
      "\u001b[32m[1022 14:17:49 @base.py:285]\u001b[0m Epoch 502 (global_step 105419) finished, time:6.3 seconds.\n",
      "\u001b[32m[1022 14:17:49 @saver.py:79]\u001b[0m Model saved to ../output/Chicago/DATWGAN_30/model\\model-105419.\n",
      "\u001b[32m[1022 14:17:49 @monitor.py:467]\u001b[0m GAN_loss/d_loss: -0.031832\n",
      "\u001b[32m[1022 14:17:49 @monitor.py:467]\u001b[0m GAN_loss/g_loss: 0.37955\n",
      "\u001b[32m[1022 14:17:49 @monitor.py:467]\u001b[0m GAN_loss/gradient_penalty: 0.0053446\n",
      "\u001b[32m[1022 14:17:49 @monitor.py:467]\u001b[0m GAN_loss/gradient_rms: 0.99945\n",
      "\u001b[32m[1022 14:17:49 @monitor.py:467]\u001b[0m GAN_loss/kl_div: 0.056034\n",
      "\u001b[32m[1022 14:17:49 @monitor.py:467]\u001b[0m QueueInput/queue_size: 50\n",
      "\u001b[32m[1022 14:17:49 @base.py:275]\u001b[0m Start Epoch 503 ...\n"
     ]
    },
    {
     "name": "stderr",
     "output_type": "stream",
     "text": [
      "\n",
      "100%|###################################################################################|175/175[00:06<00:00,27.80it/s]"
     ]
    },
    {
     "name": "stdout",
     "output_type": "stream",
     "text": [
      "\u001b[32m[1022 14:17:55 @base.py:285]\u001b[0m Epoch 503 (global_step 105629) finished, time:6.3 seconds.\n",
      "\u001b[32m[1022 14:17:55 @saver.py:79]\u001b[0m Model saved to ../output/Chicago/DATWGAN_30/model\\model-105629.\n",
      "\u001b[32m[1022 14:17:55 @monitor.py:467]\u001b[0m GAN_loss/d_loss: -0.04512\n",
      "\u001b[32m[1022 14:17:55 @monitor.py:467]\u001b[0m GAN_loss/g_loss: 0.3818\n",
      "\u001b[32m[1022 14:17:55 @monitor.py:467]\u001b[0m GAN_loss/gradient_penalty: 0.0053063\n",
      "\u001b[32m[1022 14:17:55 @monitor.py:467]\u001b[0m GAN_loss/gradient_rms: 0.99888\n",
      "\u001b[32m[1022 14:17:55 @monitor.py:467]\u001b[0m GAN_loss/kl_div: 0.060038\n",
      "\u001b[32m[1022 14:17:55 @monitor.py:467]\u001b[0m QueueInput/queue_size: 50\n",
      "\u001b[32m[1022 14:17:55 @base.py:275]\u001b[0m Start Epoch 504 ...\n"
     ]
    },
    {
     "name": "stderr",
     "output_type": "stream",
     "text": [
      "\n",
      "100%|###################################################################################|175/175[00:06<00:00,27.82it/s]"
     ]
    },
    {
     "name": "stdout",
     "output_type": "stream",
     "text": [
      "\u001b[32m[1022 14:18:01 @base.py:285]\u001b[0m Epoch 504 (global_step 105839) finished, time:6.29 seconds.\n",
      "\u001b[32m[1022 14:18:02 @saver.py:79]\u001b[0m Model saved to ../output/Chicago/DATWGAN_30/model\\model-105839.\n",
      "\u001b[32m[1022 14:18:02 @monitor.py:467]\u001b[0m GAN_loss/d_loss: -0.034222\n",
      "\u001b[32m[1022 14:18:02 @monitor.py:467]\u001b[0m GAN_loss/g_loss: 0.37866\n",
      "\u001b[32m[1022 14:18:02 @monitor.py:467]\u001b[0m GAN_loss/gradient_penalty: 0.0051776\n",
      "\u001b[32m[1022 14:18:02 @monitor.py:467]\u001b[0m GAN_loss/gradient_rms: 0.99847\n",
      "\u001b[32m[1022 14:18:02 @monitor.py:467]\u001b[0m GAN_loss/kl_div: 0.057455\n",
      "\u001b[32m[1022 14:18:02 @monitor.py:467]\u001b[0m QueueInput/queue_size: 50\n",
      "\u001b[32m[1022 14:18:02 @base.py:275]\u001b[0m Start Epoch 505 ...\n"
     ]
    },
    {
     "name": "stderr",
     "output_type": "stream",
     "text": [
      "\n",
      "100%|###################################################################################|175/175[00:06<00:00,27.74it/s]"
     ]
    },
    {
     "name": "stdout",
     "output_type": "stream",
     "text": [
      "\u001b[32m[1022 14:18:08 @base.py:285]\u001b[0m Epoch 505 (global_step 106049) finished, time:6.31 seconds.\n",
      "\u001b[32m[1022 14:18:08 @saver.py:79]\u001b[0m Model saved to ../output/Chicago/DATWGAN_30/model\\model-106049.\n",
      "\u001b[32m[1022 14:18:08 @monitor.py:467]\u001b[0m GAN_loss/d_loss: -0.037717\n",
      "\u001b[32m[1022 14:18:08 @monitor.py:467]\u001b[0m GAN_loss/g_loss: 0.38769\n",
      "\u001b[32m[1022 14:18:08 @monitor.py:467]\u001b[0m GAN_loss/gradient_penalty: 0.0052847\n",
      "\u001b[32m[1022 14:18:08 @monitor.py:467]\u001b[0m GAN_loss/gradient_rms: 0.99972\n",
      "\u001b[32m[1022 14:18:08 @monitor.py:467]\u001b[0m GAN_loss/kl_div: 0.057826\n",
      "\u001b[32m[1022 14:18:08 @monitor.py:467]\u001b[0m QueueInput/queue_size: 50\n",
      "\u001b[32m[1022 14:18:08 @base.py:275]\u001b[0m Start Epoch 506 ...\n"
     ]
    },
    {
     "name": "stderr",
     "output_type": "stream",
     "text": [
      "\n",
      "100%|###################################################################################|175/175[00:06<00:00,27.79it/s]"
     ]
    },
    {
     "name": "stdout",
     "output_type": "stream",
     "text": [
      "\u001b[32m[1022 14:18:14 @base.py:285]\u001b[0m Epoch 506 (global_step 106259) finished, time:6.3 seconds.\n",
      "\u001b[32m[1022 14:18:14 @saver.py:79]\u001b[0m Model saved to ../output/Chicago/DATWGAN_30/model\\model-106259.\n",
      "\u001b[32m[1022 14:18:14 @monitor.py:467]\u001b[0m GAN_loss/d_loss: -0.046168\n",
      "\u001b[32m[1022 14:18:14 @monitor.py:467]\u001b[0m GAN_loss/g_loss: 0.39865\n",
      "\u001b[32m[1022 14:18:14 @monitor.py:467]\u001b[0m GAN_loss/gradient_penalty: 0.005215\n",
      "\u001b[32m[1022 14:18:14 @monitor.py:467]\u001b[0m GAN_loss/gradient_rms: 0.99984\n",
      "\u001b[32m[1022 14:18:14 @monitor.py:467]\u001b[0m GAN_loss/kl_div: 0.061562\n",
      "\u001b[32m[1022 14:18:14 @monitor.py:467]\u001b[0m QueueInput/queue_size: 50\n",
      "\u001b[32m[1022 14:18:14 @base.py:275]\u001b[0m Start Epoch 507 ...\n"
     ]
    },
    {
     "name": "stderr",
     "output_type": "stream",
     "text": [
      "\n",
      "100%|###################################################################################|175/175[00:06<00:00,27.70it/s]"
     ]
    },
    {
     "name": "stdout",
     "output_type": "stream",
     "text": [
      "\u001b[32m[1022 14:18:21 @base.py:285]\u001b[0m Epoch 507 (global_step 106469) finished, time:6.32 seconds.\n",
      "\u001b[32m[1022 14:18:21 @saver.py:79]\u001b[0m Model saved to ../output/Chicago/DATWGAN_30/model\\model-106469.\n",
      "\u001b[32m[1022 14:18:21 @monitor.py:467]\u001b[0m GAN_loss/d_loss: -0.03778\n",
      "\u001b[32m[1022 14:18:21 @monitor.py:467]\u001b[0m GAN_loss/g_loss: 0.39701\n",
      "\u001b[32m[1022 14:18:21 @monitor.py:467]\u001b[0m GAN_loss/gradient_penalty: 0.0051546\n",
      "\u001b[32m[1022 14:18:21 @monitor.py:467]\u001b[0m GAN_loss/gradient_rms: 0.99848\n",
      "\u001b[32m[1022 14:18:21 @monitor.py:467]\u001b[0m GAN_loss/kl_div: 0.058531\n",
      "\u001b[32m[1022 14:18:21 @monitor.py:467]\u001b[0m QueueInput/queue_size: 50\n",
      "\u001b[32m[1022 14:18:21 @base.py:275]\u001b[0m Start Epoch 508 ...\n"
     ]
    },
    {
     "name": "stderr",
     "output_type": "stream",
     "text": [
      "\n",
      "100%|###################################################################################|175/175[00:06<00:00,27.65it/s]"
     ]
    },
    {
     "name": "stdout",
     "output_type": "stream",
     "text": [
      "\u001b[32m[1022 14:18:27 @base.py:285]\u001b[0m Epoch 508 (global_step 106679) finished, time:6.33 seconds.\n",
      "\u001b[32m[1022 14:18:27 @saver.py:79]\u001b[0m Model saved to ../output/Chicago/DATWGAN_30/model\\model-106679.\n",
      "\u001b[32m[1022 14:18:27 @monitor.py:467]\u001b[0m GAN_loss/d_loss: -0.032893\n",
      "\u001b[32m[1022 14:18:27 @monitor.py:467]\u001b[0m GAN_loss/g_loss: 0.39375\n",
      "\u001b[32m[1022 14:18:27 @monitor.py:467]\u001b[0m GAN_loss/gradient_penalty: 0.0051606\n",
      "\u001b[32m[1022 14:18:27 @monitor.py:467]\u001b[0m GAN_loss/gradient_rms: 0.99849\n",
      "\u001b[32m[1022 14:18:27 @monitor.py:467]\u001b[0m GAN_loss/kl_div: 0.058483\n",
      "\u001b[32m[1022 14:18:27 @monitor.py:467]\u001b[0m QueueInput/queue_size: 50\n",
      "\u001b[32m[1022 14:18:27 @base.py:275]\u001b[0m Start Epoch 509 ...\n"
     ]
    },
    {
     "name": "stderr",
     "output_type": "stream",
     "text": [
      "\n",
      "100%|###################################################################################|175/175[00:06<00:00,27.71it/s]"
     ]
    },
    {
     "name": "stdout",
     "output_type": "stream",
     "text": [
      "\u001b[32m[1022 14:18:34 @base.py:285]\u001b[0m Epoch 509 (global_step 106889) finished, time:6.32 seconds.\n",
      "\u001b[32m[1022 14:18:34 @saver.py:79]\u001b[0m Model saved to ../output/Chicago/DATWGAN_30/model\\model-106889.\n",
      "\u001b[32m[1022 14:18:34 @monitor.py:467]\u001b[0m GAN_loss/d_loss: -0.04599\n",
      "\u001b[32m[1022 14:18:34 @monitor.py:467]\u001b[0m GAN_loss/g_loss: 0.39347\n",
      "\u001b[32m[1022 14:18:34 @monitor.py:467]\u001b[0m GAN_loss/gradient_penalty: 0.0052191\n",
      "\u001b[32m[1022 14:18:34 @monitor.py:467]\u001b[0m GAN_loss/gradient_rms: 0.99939\n",
      "\u001b[32m[1022 14:18:34 @monitor.py:467]\u001b[0m GAN_loss/kl_div: 0.059619\n",
      "\u001b[32m[1022 14:18:34 @monitor.py:467]\u001b[0m QueueInput/queue_size: 50\n",
      "\u001b[32m[1022 14:18:34 @base.py:275]\u001b[0m Start Epoch 510 ...\n"
     ]
    },
    {
     "name": "stderr",
     "output_type": "stream",
     "text": [
      "\n",
      "100%|###################################################################################|175/175[00:06<00:00,27.72it/s]"
     ]
    },
    {
     "name": "stdout",
     "output_type": "stream",
     "text": [
      "\u001b[32m[1022 14:18:40 @base.py:285]\u001b[0m Epoch 510 (global_step 107099) finished, time:6.31 seconds.\n",
      "\u001b[32m[1022 14:18:40 @saver.py:79]\u001b[0m Model saved to ../output/Chicago/DATWGAN_30/model\\model-107099.\n",
      "\u001b[32m[1022 14:18:40 @monitor.py:467]\u001b[0m GAN_loss/d_loss: -0.039651\n",
      "\u001b[32m[1022 14:18:40 @monitor.py:467]\u001b[0m GAN_loss/g_loss: 0.39445\n",
      "\u001b[32m[1022 14:18:40 @monitor.py:467]\u001b[0m GAN_loss/gradient_penalty: 0.0050931\n",
      "\u001b[32m[1022 14:18:40 @monitor.py:467]\u001b[0m GAN_loss/gradient_rms: 1.0001\n",
      "\u001b[32m[1022 14:18:40 @monitor.py:467]\u001b[0m GAN_loss/kl_div: 0.061312\n",
      "\u001b[32m[1022 14:18:40 @monitor.py:467]\u001b[0m QueueInput/queue_size: 50\n",
      "\u001b[32m[1022 14:18:40 @base.py:275]\u001b[0m Start Epoch 511 ...\n"
     ]
    },
    {
     "name": "stderr",
     "output_type": "stream",
     "text": [
      "\n",
      "100%|###################################################################################|175/175[00:06<00:00,27.73it/s]"
     ]
    },
    {
     "name": "stdout",
     "output_type": "stream",
     "text": [
      "\u001b[32m[1022 14:18:47 @base.py:285]\u001b[0m Epoch 511 (global_step 107309) finished, time:6.31 seconds.\n",
      "WARNING:tensorflow:From D:\\Users\\glede\\anaconda3\\envs\\py37\\lib\\site-packages\\tensorflow_core\\python\\training\\saver.py:963: remove_checkpoint (from tensorflow.python.training.checkpoint_management) is deprecated and will be removed in a future version.\n",
      "Instructions for updating:\n",
      "Use standard file APIs to delete files with this prefix.\n",
      "\u001b[32m[1022 14:18:47 @saver.py:79]\u001b[0m Model saved to ../output/Chicago/DATWGAN_30/model\\model-107309.\n",
      "\u001b[32m[1022 14:18:47 @monitor.py:467]\u001b[0m GAN_loss/d_loss: -0.031563\n",
      "\u001b[32m[1022 14:18:47 @monitor.py:467]\u001b[0m GAN_loss/g_loss: 0.39418\n",
      "\u001b[32m[1022 14:18:47 @monitor.py:467]\u001b[0m GAN_loss/gradient_penalty: 0.0050569\n",
      "\u001b[32m[1022 14:18:47 @monitor.py:467]\u001b[0m GAN_loss/gradient_rms: 0.99883\n",
      "\u001b[32m[1022 14:18:47 @monitor.py:467]\u001b[0m GAN_loss/kl_div: 0.055546\n",
      "\u001b[32m[1022 14:18:47 @monitor.py:467]\u001b[0m QueueInput/queue_size: 50\n",
      "\u001b[32m[1022 14:18:47 @base.py:275]\u001b[0m Start Epoch 512 ...\n"
     ]
    },
    {
     "name": "stderr",
     "output_type": "stream",
     "text": [
      "\n",
      "100%|###################################################################################|175/175[00:06<00:00,27.73it/s]"
     ]
    },
    {
     "name": "stdout",
     "output_type": "stream",
     "text": [
      "\u001b[32m[1022 14:18:53 @base.py:285]\u001b[0m Epoch 512 (global_step 107519) finished, time:6.31 seconds.\n",
      "\u001b[32m[1022 14:18:53 @saver.py:79]\u001b[0m Model saved to ../output/Chicago/DATWGAN_30/model\\model-107519.\n",
      "\u001b[32m[1022 14:18:53 @monitor.py:467]\u001b[0m GAN_loss/d_loss: -0.042499\n",
      "\u001b[32m[1022 14:18:53 @monitor.py:467]\u001b[0m GAN_loss/g_loss: 0.40167\n",
      "\u001b[32m[1022 14:18:53 @monitor.py:467]\u001b[0m GAN_loss/gradient_penalty: 0.0051486\n",
      "\u001b[32m[1022 14:18:53 @monitor.py:467]\u001b[0m GAN_loss/gradient_rms: 1.0004\n",
      "\u001b[32m[1022 14:18:53 @monitor.py:467]\u001b[0m GAN_loss/kl_div: 0.060222\n",
      "\u001b[32m[1022 14:18:53 @monitor.py:467]\u001b[0m QueueInput/queue_size: 50\n",
      "\u001b[32m[1022 14:18:53 @base.py:275]\u001b[0m Start Epoch 513 ...\n"
     ]
    },
    {
     "name": "stderr",
     "output_type": "stream",
     "text": [
      "\n",
      "100%|###################################################################################|175/175[00:06<00:00,27.74it/s]"
     ]
    },
    {
     "name": "stdout",
     "output_type": "stream",
     "text": [
      "\u001b[32m[1022 14:19:00 @base.py:285]\u001b[0m Epoch 513 (global_step 107729) finished, time:6.31 seconds.\n",
      "\u001b[32m[1022 14:19:00 @saver.py:79]\u001b[0m Model saved to ../output/Chicago/DATWGAN_30/model\\model-107729.\n",
      "\u001b[32m[1022 14:19:00 @monitor.py:467]\u001b[0m GAN_loss/d_loss: -0.02723\n",
      "\u001b[32m[1022 14:19:00 @monitor.py:467]\u001b[0m GAN_loss/g_loss: 0.39653\n",
      "\u001b[32m[1022 14:19:00 @monitor.py:467]\u001b[0m GAN_loss/gradient_penalty: 0.0052417\n",
      "\u001b[32m[1022 14:19:00 @monitor.py:467]\u001b[0m GAN_loss/gradient_rms: 0.99994\n",
      "\u001b[32m[1022 14:19:00 @monitor.py:467]\u001b[0m GAN_loss/kl_div: 0.057454\n",
      "\u001b[32m[1022 14:19:00 @monitor.py:467]\u001b[0m QueueInput/queue_size: 50\n",
      "\u001b[32m[1022 14:19:00 @base.py:275]\u001b[0m Start Epoch 514 ...\n"
     ]
    },
    {
     "name": "stderr",
     "output_type": "stream",
     "text": [
      "\n",
      "100%|###################################################################################|175/175[00:06<00:00,27.74it/s]"
     ]
    },
    {
     "name": "stdout",
     "output_type": "stream",
     "text": [
      "\u001b[32m[1022 14:19:06 @base.py:285]\u001b[0m Epoch 514 (global_step 107939) finished, time:6.31 seconds.\n",
      "\u001b[32m[1022 14:19:06 @saver.py:79]\u001b[0m Model saved to ../output/Chicago/DATWGAN_30/model\\model-107939.\n",
      "\u001b[32m[1022 14:19:06 @monitor.py:467]\u001b[0m GAN_loss/d_loss: -0.048466\n",
      "\u001b[32m[1022 14:19:06 @monitor.py:467]\u001b[0m GAN_loss/g_loss: 0.40899\n",
      "\u001b[32m[1022 14:19:06 @monitor.py:467]\u001b[0m GAN_loss/gradient_penalty: 0.0050993\n",
      "\u001b[32m[1022 14:19:06 @monitor.py:467]\u001b[0m GAN_loss/gradient_rms: 1.0003\n",
      "\u001b[32m[1022 14:19:06 @monitor.py:467]\u001b[0m GAN_loss/kl_div: 0.058256\n",
      "\u001b[32m[1022 14:19:06 @monitor.py:467]\u001b[0m QueueInput/queue_size: 50\n",
      "\u001b[32m[1022 14:19:06 @base.py:275]\u001b[0m Start Epoch 515 ...\n"
     ]
    },
    {
     "name": "stderr",
     "output_type": "stream",
     "text": [
      "\n",
      "100%|###################################################################################|175/175[00:06<00:00,27.71it/s]"
     ]
    },
    {
     "name": "stdout",
     "output_type": "stream",
     "text": [
      "\u001b[32m[1022 14:19:12 @base.py:285]\u001b[0m Epoch 515 (global_step 108149) finished, time:6.32 seconds.\n",
      "\u001b[32m[1022 14:19:13 @saver.py:79]\u001b[0m Model saved to ../output/Chicago/DATWGAN_30/model\\model-108149.\n",
      "\u001b[32m[1022 14:19:13 @monitor.py:467]\u001b[0m GAN_loss/d_loss: -0.039601\n",
      "\u001b[32m[1022 14:19:13 @monitor.py:467]\u001b[0m GAN_loss/g_loss: 0.40259\n",
      "\u001b[32m[1022 14:19:13 @monitor.py:467]\u001b[0m GAN_loss/gradient_penalty: 0.0052645\n",
      "\u001b[32m[1022 14:19:13 @monitor.py:467]\u001b[0m GAN_loss/gradient_rms: 0.9992\n",
      "\u001b[32m[1022 14:19:13 @monitor.py:467]\u001b[0m GAN_loss/kl_div: 0.057114\n",
      "\u001b[32m[1022 14:19:13 @monitor.py:467]\u001b[0m QueueInput/queue_size: 50\n",
      "\u001b[32m[1022 14:19:13 @base.py:275]\u001b[0m Start Epoch 516 ...\n"
     ]
    },
    {
     "name": "stderr",
     "output_type": "stream",
     "text": [
      "\n",
      "100%|###################################################################################|175/175[00:06<00:00,27.73it/s]"
     ]
    },
    {
     "name": "stdout",
     "output_type": "stream",
     "text": [
      "\u001b[32m[1022 14:19:19 @base.py:285]\u001b[0m Epoch 516 (global_step 108359) finished, time:6.31 seconds.\n",
      "\u001b[32m[1022 14:19:19 @saver.py:79]\u001b[0m Model saved to ../output/Chicago/DATWGAN_30/model\\model-108359.\n",
      "\u001b[32m[1022 14:19:19 @monitor.py:467]\u001b[0m GAN_loss/d_loss: -0.036915\n",
      "\u001b[32m[1022 14:19:19 @monitor.py:467]\u001b[0m GAN_loss/g_loss: 0.39525\n",
      "\u001b[32m[1022 14:19:19 @monitor.py:467]\u001b[0m GAN_loss/gradient_penalty: 0.0051109\n",
      "\u001b[32m[1022 14:19:19 @monitor.py:467]\u001b[0m GAN_loss/gradient_rms: 0.99829\n",
      "\u001b[32m[1022 14:19:19 @monitor.py:467]\u001b[0m GAN_loss/kl_div: 0.056323\n",
      "\u001b[32m[1022 14:19:19 @monitor.py:467]\u001b[0m QueueInput/queue_size: 50\n",
      "\u001b[32m[1022 14:19:19 @base.py:275]\u001b[0m Start Epoch 517 ...\n"
     ]
    },
    {
     "name": "stderr",
     "output_type": "stream",
     "text": [
      "\n",
      "100%|###################################################################################|175/175[00:06<00:00,27.76it/s]"
     ]
    },
    {
     "name": "stdout",
     "output_type": "stream",
     "text": [
      "\u001b[32m[1022 14:19:25 @base.py:285]\u001b[0m Epoch 517 (global_step 108569) finished, time:6.31 seconds.\n",
      "\u001b[32m[1022 14:19:25 @saver.py:79]\u001b[0m Model saved to ../output/Chicago/DATWGAN_30/model\\model-108569.\n",
      "\u001b[32m[1022 14:19:25 @monitor.py:467]\u001b[0m GAN_loss/d_loss: -0.036707\n",
      "\u001b[32m[1022 14:19:25 @monitor.py:467]\u001b[0m GAN_loss/g_loss: 0.4032\n",
      "\u001b[32m[1022 14:19:25 @monitor.py:467]\u001b[0m GAN_loss/gradient_penalty: 0.0050883\n",
      "\u001b[32m[1022 14:19:25 @monitor.py:467]\u001b[0m GAN_loss/gradient_rms: 0.99806\n",
      "\u001b[32m[1022 14:19:25 @monitor.py:467]\u001b[0m GAN_loss/kl_div: 0.060044\n",
      "\u001b[32m[1022 14:19:25 @monitor.py:467]\u001b[0m QueueInput/queue_size: 50\n",
      "\u001b[32m[1022 14:19:25 @base.py:275]\u001b[0m Start Epoch 518 ...\n"
     ]
    },
    {
     "name": "stderr",
     "output_type": "stream",
     "text": [
      "\n",
      "100%|###################################################################################|175/175[00:06<00:00,27.73it/s]"
     ]
    },
    {
     "name": "stdout",
     "output_type": "stream",
     "text": [
      "\u001b[32m[1022 14:19:32 @base.py:285]\u001b[0m Epoch 518 (global_step 108779) finished, time:6.31 seconds.\n",
      "\u001b[32m[1022 14:19:32 @saver.py:79]\u001b[0m Model saved to ../output/Chicago/DATWGAN_30/model\\model-108779.\n",
      "\u001b[32m[1022 14:19:32 @monitor.py:467]\u001b[0m GAN_loss/d_loss: -0.028273\n",
      "\u001b[32m[1022 14:19:32 @monitor.py:467]\u001b[0m GAN_loss/g_loss: 0.40219\n",
      "\u001b[32m[1022 14:19:32 @monitor.py:467]\u001b[0m GAN_loss/gradient_penalty: 0.0050485\n",
      "\u001b[32m[1022 14:19:32 @monitor.py:467]\u001b[0m GAN_loss/gradient_rms: 0.99858\n",
      "\u001b[32m[1022 14:19:32 @monitor.py:467]\u001b[0m GAN_loss/kl_div: 0.057807\n",
      "\u001b[32m[1022 14:19:32 @monitor.py:467]\u001b[0m QueueInput/queue_size: 50\n",
      "\u001b[32m[1022 14:19:32 @base.py:275]\u001b[0m Start Epoch 519 ...\n"
     ]
    },
    {
     "name": "stderr",
     "output_type": "stream",
     "text": [
      "\n",
      "100%|###################################################################################|175/175[00:06<00:00,27.73it/s]"
     ]
    },
    {
     "name": "stdout",
     "output_type": "stream",
     "text": [
      "\u001b[32m[1022 14:19:38 @base.py:285]\u001b[0m Epoch 519 (global_step 108989) finished, time:6.31 seconds.\n",
      "\u001b[32m[1022 14:19:38 @saver.py:79]\u001b[0m Model saved to ../output/Chicago/DATWGAN_30/model\\model-108989.\n",
      "\u001b[32m[1022 14:19:38 @monitor.py:467]\u001b[0m GAN_loss/d_loss: -0.048509\n",
      "\u001b[32m[1022 14:19:38 @monitor.py:467]\u001b[0m GAN_loss/g_loss: 0.40382\n",
      "\u001b[32m[1022 14:19:38 @monitor.py:467]\u001b[0m GAN_loss/gradient_penalty: 0.0051539\n",
      "\u001b[32m[1022 14:19:38 @monitor.py:467]\u001b[0m GAN_loss/gradient_rms: 0.99966\n"
     ]
    },
    {
     "name": "stderr",
     "output_type": "stream",
     "text": [
      "\n"
     ]
    },
    {
     "name": "stdout",
     "output_type": "stream",
     "text": [
      "\u001b[32m[1022 14:19:38 @monitor.py:467]\u001b[0m GAN_loss/kl_div: 0.057\n",
      "\u001b[32m[1022 14:19:38 @monitor.py:467]\u001b[0m QueueInput/queue_size: 50\n",
      "\u001b[32m[1022 14:19:38 @base.py:275]\u001b[0m Start Epoch 520 ...\n"
     ]
    },
    {
     "name": "stderr",
     "output_type": "stream",
     "text": [
      "100%|###################################################################################|175/175[00:06<00:00,27.74it/s]"
     ]
    },
    {
     "name": "stdout",
     "output_type": "stream",
     "text": [
      "\u001b[32m[1022 14:19:45 @base.py:285]\u001b[0m Epoch 520 (global_step 109199) finished, time:6.31 seconds.\n",
      "\u001b[32m[1022 14:19:45 @saver.py:79]\u001b[0m Model saved to ../output/Chicago/DATWGAN_30/model\\model-109199.\n",
      "\u001b[32m[1022 14:19:45 @monitor.py:467]\u001b[0m GAN_loss/d_loss: -0.041127\n",
      "\u001b[32m[1022 14:19:45 @monitor.py:467]\u001b[0m GAN_loss/g_loss: 0.39168\n",
      "\u001b[32m[1022 14:19:45 @monitor.py:467]\u001b[0m GAN_loss/gradient_penalty: 0.005146\n",
      "\u001b[32m[1022 14:19:45 @monitor.py:467]\u001b[0m GAN_loss/gradient_rms: 0.99997\n",
      "\u001b[32m[1022 14:19:45 @monitor.py:467]\u001b[0m GAN_loss/kl_div: 0.061297\n",
      "\u001b[32m[1022 14:19:45 @monitor.py:467]\u001b[0m QueueInput/queue_size: 50\n",
      "\u001b[32m[1022 14:19:45 @base.py:275]\u001b[0m Start Epoch 521 ...\n"
     ]
    },
    {
     "name": "stderr",
     "output_type": "stream",
     "text": [
      "\n",
      "100%|###################################################################################|175/175[00:06<00:00,27.71it/s]"
     ]
    },
    {
     "name": "stdout",
     "output_type": "stream",
     "text": [
      "\u001b[32m[1022 14:19:51 @base.py:285]\u001b[0m Epoch 521 (global_step 109409) finished, time:6.32 seconds.\n",
      "\u001b[32m[1022 14:19:51 @saver.py:79]\u001b[0m Model saved to ../output/Chicago/DATWGAN_30/model\\model-109409.\n",
      "\u001b[32m[1022 14:19:51 @monitor.py:467]\u001b[0m GAN_loss/d_loss: -0.037645\n",
      "\u001b[32m[1022 14:19:51 @monitor.py:467]\u001b[0m GAN_loss/g_loss: 0.38087\n",
      "\u001b[32m[1022 14:19:51 @monitor.py:467]\u001b[0m GAN_loss/gradient_penalty: 0.005111\n",
      "\u001b[32m[1022 14:19:51 @monitor.py:467]\u001b[0m GAN_loss/gradient_rms: 0.99928\n",
      "\u001b[32m[1022 14:19:51 @monitor.py:467]\u001b[0m GAN_loss/kl_div: 0.060287\n",
      "\u001b[32m[1022 14:19:51 @monitor.py:467]\u001b[0m QueueInput/queue_size: 50\n",
      "\u001b[32m[1022 14:19:51 @base.py:275]\u001b[0m Start Epoch 522 ...\n"
     ]
    },
    {
     "name": "stderr",
     "output_type": "stream",
     "text": [
      "\n",
      "100%|###################################################################################|175/175[00:06<00:00,27.72it/s]"
     ]
    },
    {
     "name": "stdout",
     "output_type": "stream",
     "text": [
      "\u001b[32m[1022 14:19:58 @base.py:285]\u001b[0m Epoch 522 (global_step 109619) finished, time:6.31 seconds.\n",
      "\u001b[32m[1022 14:19:58 @saver.py:79]\u001b[0m Model saved to ../output/Chicago/DATWGAN_30/model\\model-109619.\n",
      "\u001b[32m[1022 14:19:58 @monitor.py:467]\u001b[0m GAN_loss/d_loss: -0.033728\n",
      "\u001b[32m[1022 14:19:58 @monitor.py:467]\u001b[0m GAN_loss/g_loss: 0.3946\n",
      "\u001b[32m[1022 14:19:58 @monitor.py:467]\u001b[0m GAN_loss/gradient_penalty: 0.00516\n",
      "\u001b[32m[1022 14:19:58 @monitor.py:467]\u001b[0m GAN_loss/gradient_rms: 0.99999\n",
      "\u001b[32m[1022 14:19:58 @monitor.py:467]\u001b[0m GAN_loss/kl_div: 0.061304\n",
      "\u001b[32m[1022 14:19:58 @monitor.py:467]\u001b[0m QueueInput/queue_size: 50\n",
      "\u001b[32m[1022 14:19:58 @base.py:275]\u001b[0m Start Epoch 523 ...\n"
     ]
    },
    {
     "name": "stderr",
     "output_type": "stream",
     "text": [
      "\n",
      "100%|###################################################################################|175/175[00:06<00:00,27.75it/s]"
     ]
    },
    {
     "name": "stdout",
     "output_type": "stream",
     "text": [
      "\u001b[32m[1022 14:20:04 @base.py:285]\u001b[0m Epoch 523 (global_step 109829) finished, time:6.31 seconds.\n",
      "\u001b[32m[1022 14:20:04 @saver.py:79]\u001b[0m Model saved to ../output/Chicago/DATWGAN_30/model\\model-109829.\n",
      "\u001b[32m[1022 14:20:04 @monitor.py:467]\u001b[0m GAN_loss/d_loss: -0.031856\n",
      "\u001b[32m[1022 14:20:04 @monitor.py:467]\u001b[0m GAN_loss/g_loss: 0.39518\n",
      "\u001b[32m[1022 14:20:04 @monitor.py:467]\u001b[0m GAN_loss/gradient_penalty: 0.0052397\n",
      "\u001b[32m[1022 14:20:04 @monitor.py:467]\u001b[0m GAN_loss/gradient_rms: 0.9998\n",
      "\u001b[32m[1022 14:20:04 @monitor.py:467]\u001b[0m GAN_loss/kl_div: 0.060305\n",
      "\u001b[32m[1022 14:20:04 @monitor.py:467]\u001b[0m QueueInput/queue_size: 50\n",
      "\u001b[32m[1022 14:20:04 @base.py:275]\u001b[0m Start Epoch 524 ...\n"
     ]
    },
    {
     "name": "stderr",
     "output_type": "stream",
     "text": [
      "\n",
      "100%|###################################################################################|175/175[00:06<00:00,27.73it/s]"
     ]
    },
    {
     "name": "stdout",
     "output_type": "stream",
     "text": [
      "\u001b[32m[1022 14:20:11 @base.py:285]\u001b[0m Epoch 524 (global_step 110039) finished, time:6.31 seconds.\n",
      "\u001b[32m[1022 14:20:11 @saver.py:79]\u001b[0m Model saved to ../output/Chicago/DATWGAN_30/model\\model-110039.\n",
      "\u001b[32m[1022 14:20:11 @monitor.py:467]\u001b[0m GAN_loss/d_loss: -0.030226\n",
      "\u001b[32m[1022 14:20:11 @monitor.py:467]\u001b[0m GAN_loss/g_loss: 0.3885\n",
      "\u001b[32m[1022 14:20:11 @monitor.py:467]\u001b[0m GAN_loss/gradient_penalty: 0.0051825\n",
      "\u001b[32m[1022 14:20:11 @monitor.py:467]\u001b[0m GAN_loss/gradient_rms: 0.99869\n",
      "\u001b[32m[1022 14:20:11 @monitor.py:467]\u001b[0m GAN_loss/kl_div: 0.057211\n",
      "\u001b[32m[1022 14:20:11 @monitor.py:467]\u001b[0m QueueInput/queue_size: 50\n",
      "\u001b[32m[1022 14:20:11 @base.py:275]\u001b[0m Start Epoch 525 ...\n"
     ]
    },
    {
     "name": "stderr",
     "output_type": "stream",
     "text": [
      "\n",
      "100%|###################################################################################|175/175[00:06<00:00,27.75it/s]"
     ]
    },
    {
     "name": "stdout",
     "output_type": "stream",
     "text": [
      "\u001b[32m[1022 14:20:17 @base.py:285]\u001b[0m Epoch 525 (global_step 110249) finished, time:6.31 seconds.\n",
      "\u001b[32m[1022 14:20:17 @saver.py:79]\u001b[0m Model saved to ../output/Chicago/DATWGAN_30/model\\model-110249.\n",
      "\u001b[32m[1022 14:20:17 @monitor.py:467]\u001b[0m GAN_loss/d_loss: -0.032732\n",
      "\u001b[32m[1022 14:20:17 @monitor.py:467]\u001b[0m GAN_loss/g_loss: 0.38462\n",
      "\u001b[32m[1022 14:20:17 @monitor.py:467]\u001b[0m GAN_loss/gradient_penalty: 0.0050713\n",
      "\u001b[32m[1022 14:20:17 @monitor.py:467]\u001b[0m GAN_loss/gradient_rms: 0.99747\n",
      "\u001b[32m[1022 14:20:17 @monitor.py:467]\u001b[0m GAN_loss/kl_div: 0.06015\n",
      "\u001b[32m[1022 14:20:17 @monitor.py:467]\u001b[0m QueueInput/queue_size: 50\n",
      "\u001b[32m[1022 14:20:17 @base.py:275]\u001b[0m Start Epoch 526 ...\n"
     ]
    },
    {
     "name": "stderr",
     "output_type": "stream",
     "text": [
      "\n",
      "100%|###################################################################################|175/175[00:06<00:00,27.75it/s]"
     ]
    },
    {
     "name": "stdout",
     "output_type": "stream",
     "text": [
      "\u001b[32m[1022 14:20:23 @base.py:285]\u001b[0m Epoch 526 (global_step 110459) finished, time:6.31 seconds.\n",
      "\u001b[32m[1022 14:20:24 @saver.py:79]\u001b[0m Model saved to ../output/Chicago/DATWGAN_30/model\\model-110459.\n",
      "\u001b[32m[1022 14:20:24 @monitor.py:467]\u001b[0m GAN_loss/d_loss: -0.036111\n",
      "\u001b[32m[1022 14:20:24 @monitor.py:467]\u001b[0m GAN_loss/g_loss: 0.39131\n",
      "\u001b[32m[1022 14:20:24 @monitor.py:467]\u001b[0m GAN_loss/gradient_penalty: 0.005221\n",
      "\u001b[32m[1022 14:20:24 @monitor.py:467]\u001b[0m GAN_loss/gradient_rms: 0.99983\n",
      "\u001b[32m[1022 14:20:24 @monitor.py:467]\u001b[0m GAN_loss/kl_div: 0.059967\n",
      "\u001b[32m[1022 14:20:24 @monitor.py:467]\u001b[0m QueueInput/queue_size: 50\n",
      "\u001b[32m[1022 14:20:24 @base.py:275]\u001b[0m Start Epoch 527 ...\n"
     ]
    },
    {
     "name": "stderr",
     "output_type": "stream",
     "text": [
      "\n",
      "100%|###################################################################################|175/175[00:06<00:00,27.74it/s]"
     ]
    },
    {
     "name": "stdout",
     "output_type": "stream",
     "text": [
      "\u001b[32m[1022 14:20:30 @base.py:285]\u001b[0m Epoch 527 (global_step 110669) finished, time:6.31 seconds.\n",
      "\u001b[32m[1022 14:20:30 @saver.py:79]\u001b[0m Model saved to ../output/Chicago/DATWGAN_30/model\\model-110669.\n",
      "\u001b[32m[1022 14:20:30 @monitor.py:467]\u001b[0m GAN_loss/d_loss: -0.044083\n",
      "\u001b[32m[1022 14:20:30 @monitor.py:467]\u001b[0m GAN_loss/g_loss: 0.3958\n",
      "\u001b[32m[1022 14:20:30 @monitor.py:467]\u001b[0m GAN_loss/gradient_penalty: 0.0051646\n",
      "\u001b[32m[1022 14:20:30 @monitor.py:467]\u001b[0m GAN_loss/gradient_rms: 0.99871\n",
      "\u001b[32m[1022 14:20:30 @monitor.py:467]\u001b[0m GAN_loss/kl_div: 0.062779\n",
      "\u001b[32m[1022 14:20:30 @monitor.py:467]\u001b[0m QueueInput/queue_size: 50\n",
      "\u001b[32m[1022 14:20:30 @base.py:275]\u001b[0m Start Epoch 528 ...\n"
     ]
    },
    {
     "name": "stderr",
     "output_type": "stream",
     "text": [
      "\n",
      "100%|###################################################################################|175/175[00:06<00:00,27.77it/s]"
     ]
    },
    {
     "name": "stdout",
     "output_type": "stream",
     "text": [
      "\u001b[32m[1022 14:20:36 @base.py:285]\u001b[0m Epoch 528 (global_step 110879) finished, time:6.3 seconds.\n",
      "\u001b[32m[1022 14:20:36 @saver.py:79]\u001b[0m Model saved to ../output/Chicago/DATWGAN_30/model\\model-110879.\n",
      "\u001b[32m[1022 14:20:37 @monitor.py:467]\u001b[0m GAN_loss/d_loss: -0.041031\n",
      "\u001b[32m[1022 14:20:37 @monitor.py:467]\u001b[0m GAN_loss/g_loss: 0.38882\n",
      "\u001b[32m[1022 14:20:37 @monitor.py:467]\u001b[0m GAN_loss/gradient_penalty: 0.0051851\n",
      "\u001b[32m[1022 14:20:37 @monitor.py:467]\u001b[0m GAN_loss/gradient_rms: 0.99921\n",
      "\u001b[32m[1022 14:20:37 @monitor.py:467]\u001b[0m GAN_loss/kl_div: 0.059325\n",
      "\u001b[32m[1022 14:20:37 @monitor.py:467]\u001b[0m QueueInput/queue_size: 50\n",
      "\u001b[32m[1022 14:20:37 @base.py:275]\u001b[0m Start Epoch 529 ...\n"
     ]
    },
    {
     "name": "stderr",
     "output_type": "stream",
     "text": [
      "\n",
      "100%|###################################################################################|175/175[00:06<00:00,27.74it/s]"
     ]
    },
    {
     "name": "stdout",
     "output_type": "stream",
     "text": [
      "\u001b[32m[1022 14:20:43 @base.py:285]\u001b[0m Epoch 529 (global_step 111089) finished, time:6.31 seconds.\n",
      "\u001b[32m[1022 14:20:43 @saver.py:79]\u001b[0m Model saved to ../output/Chicago/DATWGAN_30/model\\model-111089.\n",
      "\u001b[32m[1022 14:20:43 @monitor.py:467]\u001b[0m GAN_loss/d_loss: -0.041456\n",
      "\u001b[32m[1022 14:20:43 @monitor.py:467]\u001b[0m GAN_loss/g_loss: 0.388\n",
      "\u001b[32m[1022 14:20:43 @monitor.py:467]\u001b[0m GAN_loss/gradient_penalty: 0.005122\n",
      "\u001b[32m[1022 14:20:43 @monitor.py:467]\u001b[0m GAN_loss/gradient_rms: 0.99813\n",
      "\u001b[32m[1022 14:20:43 @monitor.py:467]\u001b[0m GAN_loss/kl_div: 0.056312\n",
      "\u001b[32m[1022 14:20:43 @monitor.py:467]\u001b[0m QueueInput/queue_size: 50\n",
      "\u001b[32m[1022 14:20:43 @base.py:275]\u001b[0m Start Epoch 530 ...\n"
     ]
    },
    {
     "name": "stderr",
     "output_type": "stream",
     "text": [
      "\n",
      "100%|###################################################################################|175/175[00:06<00:00,27.75it/s]"
     ]
    },
    {
     "name": "stdout",
     "output_type": "stream",
     "text": [
      "\u001b[32m[1022 14:20:49 @base.py:285]\u001b[0m Epoch 530 (global_step 111299) finished, time:6.31 seconds.\n",
      "\u001b[32m[1022 14:20:49 @saver.py:79]\u001b[0m Model saved to ../output/Chicago/DATWGAN_30/model\\model-111299.\n",
      "\u001b[32m[1022 14:20:49 @monitor.py:467]\u001b[0m GAN_loss/d_loss: -0.034431\n",
      "\u001b[32m[1022 14:20:49 @monitor.py:467]\u001b[0m GAN_loss/g_loss: 0.38533\n",
      "\u001b[32m[1022 14:20:49 @monitor.py:467]\u001b[0m GAN_loss/gradient_penalty: 0.0051259\n",
      "\u001b[32m[1022 14:20:49 @monitor.py:467]\u001b[0m GAN_loss/gradient_rms: 1.0001\n",
      "\u001b[32m[1022 14:20:49 @monitor.py:467]\u001b[0m GAN_loss/kl_div: 0.056665\n",
      "\u001b[32m[1022 14:20:49 @monitor.py:467]\u001b[0m QueueInput/queue_size: 50\n",
      "\u001b[32m[1022 14:20:49 @base.py:275]\u001b[0m Start Epoch 531 ...\n"
     ]
    },
    {
     "name": "stderr",
     "output_type": "stream",
     "text": [
      "\n",
      "100%|###################################################################################|175/175[00:06<00:00,27.75it/s]"
     ]
    },
    {
     "name": "stdout",
     "output_type": "stream",
     "text": [
      "\u001b[32m[1022 14:20:56 @base.py:285]\u001b[0m Epoch 531 (global_step 111509) finished, time:6.31 seconds.\n",
      "\u001b[32m[1022 14:20:56 @saver.py:79]\u001b[0m Model saved to ../output/Chicago/DATWGAN_30/model\\model-111509.\n",
      "\u001b[32m[1022 14:20:56 @monitor.py:467]\u001b[0m GAN_loss/d_loss: -0.041345\n",
      "\u001b[32m[1022 14:20:56 @monitor.py:467]\u001b[0m GAN_loss/g_loss: 0.39471\n",
      "\u001b[32m[1022 14:20:56 @monitor.py:467]\u001b[0m GAN_loss/gradient_penalty: 0.005048\n",
      "\u001b[32m[1022 14:20:56 @monitor.py:467]\u001b[0m GAN_loss/gradient_rms: 0.99876\n",
      "\u001b[32m[1022 14:20:56 @monitor.py:467]\u001b[0m GAN_loss/kl_div: 0.059113\n",
      "\u001b[32m[1022 14:20:56 @monitor.py:467]\u001b[0m QueueInput/queue_size: 50\n",
      "\u001b[32m[1022 14:20:56 @base.py:275]\u001b[0m Start Epoch 532 ...\n"
     ]
    },
    {
     "name": "stderr",
     "output_type": "stream",
     "text": [
      "\n",
      "100%|###################################################################################|175/175[00:06<00:00,27.72it/s]"
     ]
    },
    {
     "name": "stdout",
     "output_type": "stream",
     "text": [
      "\u001b[32m[1022 14:21:02 @base.py:285]\u001b[0m Epoch 532 (global_step 111719) finished, time:6.31 seconds.\n",
      "\u001b[32m[1022 14:21:02 @saver.py:79]\u001b[0m Model saved to ../output/Chicago/DATWGAN_30/model\\model-111719.\n",
      "\u001b[32m[1022 14:21:02 @monitor.py:467]\u001b[0m GAN_loss/d_loss: -0.02383\n",
      "\u001b[32m[1022 14:21:02 @monitor.py:467]\u001b[0m GAN_loss/g_loss: 0.38771\n",
      "\u001b[32m[1022 14:21:02 @monitor.py:467]\u001b[0m GAN_loss/gradient_penalty: 0.0049862\n",
      "\u001b[32m[1022 14:21:02 @monitor.py:467]\u001b[0m GAN_loss/gradient_rms: 0.9994\n",
      "\u001b[32m[1022 14:21:02 @monitor.py:467]\u001b[0m GAN_loss/kl_div: 0.056914\n",
      "\u001b[32m[1022 14:21:02 @monitor.py:467]\u001b[0m QueueInput/queue_size: 50\n",
      "\u001b[32m[1022 14:21:02 @base.py:275]\u001b[0m Start Epoch 533 ...\n"
     ]
    },
    {
     "name": "stderr",
     "output_type": "stream",
     "text": [
      "\n",
      "100%|###################################################################################|175/175[00:06<00:00,27.75it/s]"
     ]
    },
    {
     "name": "stdout",
     "output_type": "stream",
     "text": [
      "\u001b[32m[1022 14:21:09 @base.py:285]\u001b[0m Epoch 533 (global_step 111929) finished, time:6.31 seconds.\n",
      "\u001b[32m[1022 14:21:09 @saver.py:79]\u001b[0m Model saved to ../output/Chicago/DATWGAN_30/model\\model-111929.\n",
      "\u001b[32m[1022 14:21:09 @monitor.py:467]\u001b[0m GAN_loss/d_loss: -0.046627\n",
      "\u001b[32m[1022 14:21:09 @monitor.py:467]\u001b[0m GAN_loss/g_loss: 0.40567\n",
      "\u001b[32m[1022 14:21:09 @monitor.py:467]\u001b[0m GAN_loss/gradient_penalty: 0.0050748\n",
      "\u001b[32m[1022 14:21:09 @monitor.py:467]\u001b[0m GAN_loss/gradient_rms: 0.9983\n",
      "\u001b[32m[1022 14:21:09 @monitor.py:467]\u001b[0m GAN_loss/kl_div: 0.056601\n",
      "\u001b[32m[1022 14:21:09 @monitor.py:467]\u001b[0m QueueInput/queue_size: 50\n",
      "\u001b[32m[1022 14:21:09 @base.py:275]\u001b[0m Start Epoch 534 ...\n"
     ]
    },
    {
     "name": "stderr",
     "output_type": "stream",
     "text": [
      "\n",
      "100%|###################################################################################|175/175[00:06<00:00,27.74it/s]"
     ]
    },
    {
     "name": "stdout",
     "output_type": "stream",
     "text": [
      "\u001b[32m[1022 14:21:15 @base.py:285]\u001b[0m Epoch 534 (global_step 112139) finished, time:6.31 seconds.\n",
      "\u001b[32m[1022 14:21:15 @saver.py:79]\u001b[0m Model saved to ../output/Chicago/DATWGAN_30/model\\model-112139.\n",
      "\u001b[32m[1022 14:21:15 @monitor.py:467]\u001b[0m GAN_loss/d_loss: -0.050742\n",
      "\u001b[32m[1022 14:21:15 @monitor.py:467]\u001b[0m GAN_loss/g_loss: 0.40457\n",
      "\u001b[32m[1022 14:21:15 @monitor.py:467]\u001b[0m GAN_loss/gradient_penalty: 0.0051943\n",
      "\u001b[32m[1022 14:21:15 @monitor.py:467]\u001b[0m GAN_loss/gradient_rms: 0.99864\n",
      "\u001b[32m[1022 14:21:15 @monitor.py:467]\u001b[0m GAN_loss/kl_div: 0.058803\n",
      "\u001b[32m[1022 14:21:15 @monitor.py:467]\u001b[0m QueueInput/queue_size: 50\n",
      "\u001b[32m[1022 14:21:15 @base.py:275]\u001b[0m Start Epoch 535 ...\n"
     ]
    },
    {
     "name": "stderr",
     "output_type": "stream",
     "text": [
      "\n",
      "100%|###################################################################################|175/175[00:06<00:00,27.77it/s]"
     ]
    },
    {
     "name": "stdout",
     "output_type": "stream",
     "text": [
      "\u001b[32m[1022 14:21:22 @base.py:285]\u001b[0m Epoch 535 (global_step 112349) finished, time:6.3 seconds.\n",
      "\u001b[32m[1022 14:21:22 @saver.py:79]\u001b[0m Model saved to ../output/Chicago/DATWGAN_30/model\\model-112349.\n",
      "\u001b[32m[1022 14:21:22 @monitor.py:467]\u001b[0m GAN_loss/d_loss: -0.034339\n",
      "\u001b[32m[1022 14:21:22 @monitor.py:467]\u001b[0m GAN_loss/g_loss: 0.39607\n",
      "\u001b[32m[1022 14:21:22 @monitor.py:467]\u001b[0m GAN_loss/gradient_penalty: 0.0052225\n",
      "\u001b[32m[1022 14:21:22 @monitor.py:467]\u001b[0m GAN_loss/gradient_rms: 0.99969\n",
      "\u001b[32m[1022 14:21:22 @monitor.py:467]\u001b[0m GAN_loss/kl_div: 0.058601\n",
      "\u001b[32m[1022 14:21:22 @monitor.py:467]\u001b[0m QueueInput/queue_size: 50\n",
      "\u001b[32m[1022 14:21:22 @base.py:275]\u001b[0m Start Epoch 536 ...\n"
     ]
    },
    {
     "name": "stderr",
     "output_type": "stream",
     "text": [
      "\n",
      "100%|###################################################################################|175/175[00:06<00:00,27.75it/s]"
     ]
    },
    {
     "name": "stdout",
     "output_type": "stream",
     "text": [
      "\u001b[32m[1022 14:21:28 @base.py:285]\u001b[0m Epoch 536 (global_step 112559) finished, time:6.31 seconds.\n",
      "\u001b[32m[1022 14:21:28 @saver.py:79]\u001b[0m Model saved to ../output/Chicago/DATWGAN_30/model\\model-112559.\n",
      "\u001b[32m[1022 14:21:28 @monitor.py:467]\u001b[0m GAN_loss/d_loss: -0.04094\n",
      "\u001b[32m[1022 14:21:28 @monitor.py:467]\u001b[0m GAN_loss/g_loss: 0.39949\n",
      "\u001b[32m[1022 14:21:28 @monitor.py:467]\u001b[0m GAN_loss/gradient_penalty: 0.0050956\n",
      "\u001b[32m[1022 14:21:28 @monitor.py:467]\u001b[0m GAN_loss/gradient_rms: 0.99929\n",
      "\u001b[32m[1022 14:21:28 @monitor.py:467]\u001b[0m GAN_loss/kl_div: 0.057974\n",
      "\u001b[32m[1022 14:21:28 @monitor.py:467]\u001b[0m QueueInput/queue_size: 50\n",
      "\u001b[32m[1022 14:21:28 @base.py:275]\u001b[0m Start Epoch 537 ...\n"
     ]
    },
    {
     "name": "stderr",
     "output_type": "stream",
     "text": [
      "\n",
      "100%|###################################################################################|175/175[00:06<00:00,27.72it/s]"
     ]
    },
    {
     "name": "stdout",
     "output_type": "stream",
     "text": [
      "\u001b[32m[1022 14:21:34 @base.py:285]\u001b[0m Epoch 537 (global_step 112769) finished, time:6.31 seconds.\n",
      "\u001b[32m[1022 14:21:35 @saver.py:79]\u001b[0m Model saved to ../output/Chicago/DATWGAN_30/model\\model-112769.\n",
      "\u001b[32m[1022 14:21:35 @monitor.py:467]\u001b[0m GAN_loss/d_loss: -0.037718\n",
      "\u001b[32m[1022 14:21:35 @monitor.py:467]\u001b[0m GAN_loss/g_loss: 0.40396\n",
      "\u001b[32m[1022 14:21:35 @monitor.py:467]\u001b[0m GAN_loss/gradient_penalty: 0.0053332\n",
      "\u001b[32m[1022 14:21:35 @monitor.py:467]\u001b[0m GAN_loss/gradient_rms: 1.0006\n",
      "\u001b[32m[1022 14:21:35 @monitor.py:467]\u001b[0m GAN_loss/kl_div: 0.060565\n",
      "\u001b[32m[1022 14:21:35 @monitor.py:467]\u001b[0m QueueInput/queue_size: 50\n",
      "\u001b[32m[1022 14:21:35 @base.py:275]\u001b[0m Start Epoch 538 ...\n"
     ]
    },
    {
     "name": "stderr",
     "output_type": "stream",
     "text": [
      "\n",
      "100%|###################################################################################|175/175[00:06<00:00,27.70it/s]"
     ]
    },
    {
     "name": "stdout",
     "output_type": "stream",
     "text": [
      "\u001b[32m[1022 14:21:41 @base.py:285]\u001b[0m Epoch 538 (global_step 112979) finished, time:6.32 seconds.\n",
      "\u001b[32m[1022 14:21:41 @saver.py:79]\u001b[0m Model saved to ../output/Chicago/DATWGAN_30/model\\model-112979.\n",
      "\u001b[32m[1022 14:21:41 @monitor.py:467]\u001b[0m GAN_loss/d_loss: -0.031323\n",
      "\u001b[32m[1022 14:21:41 @monitor.py:467]\u001b[0m GAN_loss/g_loss: 0.40407\n",
      "\u001b[32m[1022 14:21:41 @monitor.py:467]\u001b[0m GAN_loss/gradient_penalty: 0.0049714\n",
      "\u001b[32m[1022 14:21:41 @monitor.py:467]\u001b[0m GAN_loss/gradient_rms: 1.0002\n",
      "\u001b[32m[1022 14:21:41 @monitor.py:467]\u001b[0m GAN_loss/kl_div: 0.056915\n",
      "\u001b[32m[1022 14:21:41 @monitor.py:467]\u001b[0m QueueInput/queue_size: 50\n",
      "\u001b[32m[1022 14:21:41 @base.py:275]\u001b[0m Start Epoch 539 ...\n"
     ]
    },
    {
     "name": "stderr",
     "output_type": "stream",
     "text": [
      "\n",
      "100%|###################################################################################|175/175[00:06<00:00,27.63it/s]"
     ]
    },
    {
     "name": "stdout",
     "output_type": "stream",
     "text": [
      "\u001b[32m[1022 14:21:47 @base.py:285]\u001b[0m Epoch 539 (global_step 113189) finished, time:6.33 seconds.\n",
      "\u001b[32m[1022 14:21:47 @saver.py:79]\u001b[0m Model saved to ../output/Chicago/DATWGAN_30/model\\model-113189.\n",
      "\u001b[32m[1022 14:21:48 @monitor.py:467]\u001b[0m GAN_loss/d_loss: -0.041909\n",
      "\u001b[32m[1022 14:21:48 @monitor.py:467]\u001b[0m GAN_loss/g_loss: 0.40443\n",
      "\u001b[32m[1022 14:21:48 @monitor.py:467]\u001b[0m GAN_loss/gradient_penalty: 0.0051981\n",
      "\u001b[32m[1022 14:21:48 @monitor.py:467]\u001b[0m GAN_loss/gradient_rms: 0.99858\n",
      "\u001b[32m[1022 14:21:48 @monitor.py:467]\u001b[0m GAN_loss/kl_div: 0.059298\n",
      "\u001b[32m[1022 14:21:48 @monitor.py:467]\u001b[0m QueueInput/queue_size: 50\n",
      "\u001b[32m[1022 14:21:48 @base.py:275]\u001b[0m Start Epoch 540 ...\n"
     ]
    },
    {
     "name": "stderr",
     "output_type": "stream",
     "text": [
      "\n",
      "100%|###################################################################################|175/175[00:06<00:00,27.77it/s]"
     ]
    },
    {
     "name": "stdout",
     "output_type": "stream",
     "text": [
      "\u001b[32m[1022 14:21:54 @base.py:285]\u001b[0m Epoch 540 (global_step 113399) finished, time:6.3 seconds.\n",
      "\u001b[32m[1022 14:21:54 @saver.py:79]\u001b[0m Model saved to ../output/Chicago/DATWGAN_30/model\\model-113399.\n",
      "\u001b[32m[1022 14:21:54 @monitor.py:467]\u001b[0m GAN_loss/d_loss: -0.036255\n",
      "\u001b[32m[1022 14:21:54 @monitor.py:467]\u001b[0m GAN_loss/g_loss: 0.4033\n",
      "\u001b[32m[1022 14:21:54 @monitor.py:467]\u001b[0m GAN_loss/gradient_penalty: 0.0051038\n",
      "\u001b[32m[1022 14:21:54 @monitor.py:467]\u001b[0m GAN_loss/gradient_rms: 0.99823\n",
      "\u001b[32m[1022 14:21:54 @monitor.py:467]\u001b[0m GAN_loss/kl_div: 0.060198\n",
      "\u001b[32m[1022 14:21:54 @monitor.py:467]\u001b[0m QueueInput/queue_size: 50\n",
      "\u001b[32m[1022 14:21:54 @base.py:275]\u001b[0m Start Epoch 541 ...\n"
     ]
    },
    {
     "name": "stderr",
     "output_type": "stream",
     "text": [
      "\n",
      "100%|###################################################################################|175/175[00:06<00:00,27.75it/s]"
     ]
    },
    {
     "name": "stdout",
     "output_type": "stream",
     "text": [
      "\u001b[32m[1022 14:22:00 @base.py:285]\u001b[0m Epoch 541 (global_step 113609) finished, time:6.31 seconds.\n",
      "\u001b[32m[1022 14:22:00 @saver.py:79]\u001b[0m Model saved to ../output/Chicago/DATWGAN_30/model\\model-113609.\n",
      "\u001b[32m[1022 14:22:00 @monitor.py:467]\u001b[0m GAN_loss/d_loss: -0.032079\n",
      "\u001b[32m[1022 14:22:00 @monitor.py:467]\u001b[0m GAN_loss/g_loss: 0.40256\n",
      "\u001b[32m[1022 14:22:00 @monitor.py:467]\u001b[0m GAN_loss/gradient_penalty: 0.0051117\n",
      "\u001b[32m[1022 14:22:00 @monitor.py:467]\u001b[0m GAN_loss/gradient_rms: 0.9979\n",
      "\u001b[32m[1022 14:22:00 @monitor.py:467]\u001b[0m GAN_loss/kl_div: 0.059126\n",
      "\u001b[32m[1022 14:22:00 @monitor.py:467]\u001b[0m QueueInput/queue_size: 50\n",
      "\u001b[32m[1022 14:22:00 @base.py:275]\u001b[0m Start Epoch 542 ...\n"
     ]
    },
    {
     "name": "stderr",
     "output_type": "stream",
     "text": [
      "\n",
      "100%|###################################################################################|175/175[00:06<00:00,27.76it/s]"
     ]
    },
    {
     "name": "stdout",
     "output_type": "stream",
     "text": [
      "\u001b[32m[1022 14:22:07 @base.py:285]\u001b[0m Epoch 542 (global_step 113819) finished, time:6.31 seconds.\n",
      "\u001b[32m[1022 14:22:07 @saver.py:79]\u001b[0m Model saved to ../output/Chicago/DATWGAN_30/model\\model-113819.\n",
      "\u001b[32m[1022 14:22:07 @monitor.py:467]\u001b[0m GAN_loss/d_loss: -0.037916\n",
      "\u001b[32m[1022 14:22:07 @monitor.py:467]\u001b[0m GAN_loss/g_loss: 0.41227\n",
      "\u001b[32m[1022 14:22:07 @monitor.py:467]\u001b[0m GAN_loss/gradient_penalty: 0.0051362\n",
      "\u001b[32m[1022 14:22:07 @monitor.py:467]\u001b[0m GAN_loss/gradient_rms: 0.99861\n",
      "\u001b[32m[1022 14:22:07 @monitor.py:467]\u001b[0m GAN_loss/kl_div: 0.058832\n",
      "\u001b[32m[1022 14:22:07 @monitor.py:467]\u001b[0m QueueInput/queue_size: 50\n",
      "\u001b[32m[1022 14:22:07 @base.py:275]\u001b[0m Start Epoch 543 ...\n"
     ]
    },
    {
     "name": "stderr",
     "output_type": "stream",
     "text": [
      "\n",
      "100%|###################################################################################|175/175[00:06<00:00,27.76it/s]"
     ]
    },
    {
     "name": "stdout",
     "output_type": "stream",
     "text": [
      "\u001b[32m[1022 14:22:13 @base.py:285]\u001b[0m Epoch 543 (global_step 114029) finished, time:6.3 seconds.\n",
      "\u001b[32m[1022 14:22:13 @saver.py:79]\u001b[0m Model saved to ../output/Chicago/DATWGAN_30/model\\model-114029.\n",
      "\u001b[32m[1022 14:22:13 @monitor.py:467]\u001b[0m GAN_loss/d_loss: -0.039992\n",
      "\u001b[32m[1022 14:22:13 @monitor.py:467]\u001b[0m GAN_loss/g_loss: 0.41083\n",
      "\u001b[32m[1022 14:22:13 @monitor.py:467]\u001b[0m GAN_loss/gradient_penalty: 0.0051039\n",
      "\u001b[32m[1022 14:22:13 @monitor.py:467]\u001b[0m GAN_loss/gradient_rms: 0.99934\n",
      "\u001b[32m[1022 14:22:13 @monitor.py:467]\u001b[0m GAN_loss/kl_div: 0.05675\n",
      "\u001b[32m[1022 14:22:13 @monitor.py:467]\u001b[0m QueueInput/queue_size: 50\n",
      "\u001b[32m[1022 14:22:13 @base.py:275]\u001b[0m Start Epoch 544 ...\n"
     ]
    },
    {
     "name": "stderr",
     "output_type": "stream",
     "text": [
      "\n",
      "100%|###################################################################################|175/175[00:06<00:00,27.76it/s]"
     ]
    },
    {
     "name": "stdout",
     "output_type": "stream",
     "text": [
      "\u001b[32m[1022 14:22:20 @base.py:285]\u001b[0m Epoch 544 (global_step 114239) finished, time:6.31 seconds.\n",
      "\u001b[32m[1022 14:22:20 @saver.py:79]\u001b[0m Model saved to ../output/Chicago/DATWGAN_30/model\\model-114239.\n",
      "\u001b[32m[1022 14:22:20 @monitor.py:467]\u001b[0m GAN_loss/d_loss: -0.044857\n",
      "\u001b[32m[1022 14:22:20 @monitor.py:467]\u001b[0m GAN_loss/g_loss: 0.41503\n",
      "\u001b[32m[1022 14:22:20 @monitor.py:467]\u001b[0m GAN_loss/gradient_penalty: 0.005217\n",
      "\u001b[32m[1022 14:22:20 @monitor.py:467]\u001b[0m GAN_loss/gradient_rms: 0.99853\n",
      "\u001b[32m[1022 14:22:20 @monitor.py:467]\u001b[0m GAN_loss/kl_div: 0.057696\n",
      "\u001b[32m[1022 14:22:20 @monitor.py:467]\u001b[0m QueueInput/queue_size: 50\n",
      "\u001b[32m[1022 14:22:20 @base.py:275]\u001b[0m Start Epoch 545 ...\n"
     ]
    },
    {
     "name": "stderr",
     "output_type": "stream",
     "text": [
      "\n",
      "100%|###################################################################################|175/175[00:06<00:00,27.61it/s]"
     ]
    },
    {
     "name": "stdout",
     "output_type": "stream",
     "text": [
      "\u001b[32m[1022 14:22:26 @base.py:285]\u001b[0m Epoch 545 (global_step 114449) finished, time:6.34 seconds.\n",
      "\u001b[32m[1022 14:22:26 @saver.py:79]\u001b[0m Model saved to ../output/Chicago/DATWGAN_30/model\\model-114449.\n",
      "\u001b[32m[1022 14:22:26 @monitor.py:467]\u001b[0m GAN_loss/d_loss: -0.030423\n",
      "\u001b[32m[1022 14:22:26 @monitor.py:467]\u001b[0m GAN_loss/g_loss: 0.41797\n",
      "\u001b[32m[1022 14:22:26 @monitor.py:467]\u001b[0m GAN_loss/gradient_penalty: 0.0051501\n",
      "\u001b[32m[1022 14:22:26 @monitor.py:467]\u001b[0m GAN_loss/gradient_rms: 0.99977\n",
      "\u001b[32m[1022 14:22:26 @monitor.py:467]\u001b[0m GAN_loss/kl_div: 0.058488\n",
      "\u001b[32m[1022 14:22:26 @monitor.py:467]\u001b[0m QueueInput/queue_size: 50\n",
      "\u001b[32m[1022 14:22:26 @base.py:275]\u001b[0m Start Epoch 546 ...\n"
     ]
    },
    {
     "name": "stderr",
     "output_type": "stream",
     "text": [
      "\n",
      "100%|###################################################################################|175/175[00:06<00:00,27.74it/s]"
     ]
    },
    {
     "name": "stdout",
     "output_type": "stream",
     "text": [
      "\u001b[32m[1022 14:22:33 @base.py:285]\u001b[0m Epoch 546 (global_step 114659) finished, time:6.31 seconds.\n",
      "\u001b[32m[1022 14:22:33 @saver.py:79]\u001b[0m Model saved to ../output/Chicago/DATWGAN_30/model\\model-114659.\n",
      "\u001b[32m[1022 14:22:33 @monitor.py:467]\u001b[0m GAN_loss/d_loss: -0.046471\n",
      "\u001b[32m[1022 14:22:33 @monitor.py:467]\u001b[0m GAN_loss/g_loss: 0.42302\n",
      "\u001b[32m[1022 14:22:33 @monitor.py:467]\u001b[0m GAN_loss/gradient_penalty: 0.0051283\n",
      "\u001b[32m[1022 14:22:33 @monitor.py:467]\u001b[0m GAN_loss/gradient_rms: 0.9985\n",
      "\u001b[32m[1022 14:22:33 @monitor.py:467]\u001b[0m GAN_loss/kl_div: 0.056902\n",
      "\u001b[32m[1022 14:22:33 @monitor.py:467]\u001b[0m QueueInput/queue_size: 50\n",
      "\u001b[32m[1022 14:22:33 @base.py:275]\u001b[0m Start Epoch 547 ...\n"
     ]
    },
    {
     "name": "stderr",
     "output_type": "stream",
     "text": [
      "\n",
      "100%|###################################################################################|175/175[00:06<00:00,27.74it/s]"
     ]
    },
    {
     "name": "stdout",
     "output_type": "stream",
     "text": [
      "\u001b[32m[1022 14:22:39 @base.py:285]\u001b[0m Epoch 547 (global_step 114869) finished, time:6.31 seconds.\n",
      "\u001b[32m[1022 14:22:39 @saver.py:79]\u001b[0m Model saved to ../output/Chicago/DATWGAN_30/model\\model-114869.\n",
      "\u001b[32m[1022 14:22:39 @monitor.py:467]\u001b[0m GAN_loss/d_loss: -0.052282\n",
      "\u001b[32m[1022 14:22:39 @monitor.py:467]\u001b[0m GAN_loss/g_loss: 0.41924\n",
      "\u001b[32m[1022 14:22:39 @monitor.py:467]\u001b[0m GAN_loss/gradient_penalty: 0.0051158\n",
      "\u001b[32m[1022 14:22:39 @monitor.py:467]\u001b[0m GAN_loss/gradient_rms: 0.99802\n",
      "\u001b[32m[1022 14:22:39 @monitor.py:467]\u001b[0m GAN_loss/kl_div: 0.059285\n",
      "\u001b[32m[1022 14:22:39 @monitor.py:467]\u001b[0m QueueInput/queue_size: 50\n",
      "\u001b[32m[1022 14:22:39 @base.py:275]\u001b[0m Start Epoch 548 ...\n"
     ]
    },
    {
     "name": "stderr",
     "output_type": "stream",
     "text": [
      "\n",
      "100%|###################################################################################|175/175[00:06<00:00,27.74it/s]"
     ]
    },
    {
     "name": "stdout",
     "output_type": "stream",
     "text": [
      "\u001b[32m[1022 14:22:46 @base.py:285]\u001b[0m Epoch 548 (global_step 115079) finished, time:6.31 seconds.\n",
      "\u001b[32m[1022 14:22:46 @saver.py:79]\u001b[0m Model saved to ../output/Chicago/DATWGAN_30/model\\model-115079.\n",
      "\u001b[32m[1022 14:22:46 @monitor.py:467]\u001b[0m GAN_loss/d_loss: -0.0497\n",
      "\u001b[32m[1022 14:22:46 @monitor.py:467]\u001b[0m GAN_loss/g_loss: 0.41151\n",
      "\u001b[32m[1022 14:22:46 @monitor.py:467]\u001b[0m GAN_loss/gradient_penalty: 0.0050814\n",
      "\u001b[32m[1022 14:22:46 @monitor.py:467]\u001b[0m GAN_loss/gradient_rms: 0.99888\n",
      "\u001b[32m[1022 14:22:46 @monitor.py:467]\u001b[0m GAN_loss/kl_div: 0.055929\n",
      "\u001b[32m[1022 14:22:46 @monitor.py:467]\u001b[0m QueueInput/queue_size: 50\n",
      "\u001b[32m[1022 14:22:46 @base.py:275]\u001b[0m Start Epoch 549 ...\n"
     ]
    },
    {
     "name": "stderr",
     "output_type": "stream",
     "text": [
      "\n",
      "100%|###################################################################################|175/175[00:06<00:00,27.75it/s]"
     ]
    },
    {
     "name": "stdout",
     "output_type": "stream",
     "text": [
      "\u001b[32m[1022 14:22:52 @base.py:285]\u001b[0m Epoch 549 (global_step 115289) finished, time:6.31 seconds.\n",
      "\u001b[32m[1022 14:22:52 @saver.py:79]\u001b[0m Model saved to ../output/Chicago/DATWGAN_30/model\\model-115289.\n",
      "\u001b[32m[1022 14:22:52 @monitor.py:467]\u001b[0m GAN_loss/d_loss: -0.052696\n",
      "\u001b[32m[1022 14:22:52 @monitor.py:467]\u001b[0m GAN_loss/g_loss: 0.42276\n",
      "\u001b[32m[1022 14:22:52 @monitor.py:467]\u001b[0m GAN_loss/gradient_penalty: 0.0052365\n",
      "\u001b[32m[1022 14:22:52 @monitor.py:467]\u001b[0m GAN_loss/gradient_rms: 1.0004\n",
      "\u001b[32m[1022 14:22:52 @monitor.py:467]\u001b[0m GAN_loss/kl_div: 0.0572\n",
      "\u001b[32m[1022 14:22:52 @monitor.py:467]\u001b[0m QueueInput/queue_size: 50\n",
      "\u001b[32m[1022 14:22:52 @base.py:275]\u001b[0m Start Epoch 550 ...\n"
     ]
    },
    {
     "name": "stderr",
     "output_type": "stream",
     "text": [
      "\n",
      "100%|###################################################################################|175/175[00:06<00:00,27.73it/s]"
     ]
    },
    {
     "name": "stdout",
     "output_type": "stream",
     "text": [
      "\u001b[32m[1022 14:22:58 @base.py:285]\u001b[0m Epoch 550 (global_step 115499) finished, time:6.31 seconds.\n",
      "\u001b[32m[1022 14:22:59 @saver.py:79]\u001b[0m Model saved to ../output/Chicago/DATWGAN_30/model\\model-115499.\n",
      "\u001b[32m[1022 14:22:59 @monitor.py:467]\u001b[0m GAN_loss/d_loss: -0.035457\n",
      "\u001b[32m[1022 14:22:59 @monitor.py:467]\u001b[0m GAN_loss/g_loss: 0.41801\n",
      "\u001b[32m[1022 14:22:59 @monitor.py:467]\u001b[0m GAN_loss/gradient_penalty: 0.0052044\n",
      "\u001b[32m[1022 14:22:59 @monitor.py:467]\u001b[0m GAN_loss/gradient_rms: 0.99812\n",
      "\u001b[32m[1022 14:22:59 @monitor.py:467]\u001b[0m GAN_loss/kl_div: 0.056744\n",
      "\u001b[32m[1022 14:22:59 @monitor.py:467]\u001b[0m QueueInput/queue_size: 50\n",
      "\u001b[32m[1022 14:22:59 @base.py:275]\u001b[0m Start Epoch 551 ...\n"
     ]
    },
    {
     "name": "stderr",
     "output_type": "stream",
     "text": [
      "\n",
      "100%|###################################################################################|175/175[00:06<00:00,27.76it/s]"
     ]
    },
    {
     "name": "stdout",
     "output_type": "stream",
     "text": [
      "\u001b[32m[1022 14:23:05 @base.py:285]\u001b[0m Epoch 551 (global_step 115709) finished, time:6.3 seconds.\n",
      "\u001b[32m[1022 14:23:05 @saver.py:79]\u001b[0m Model saved to ../output/Chicago/DATWGAN_30/model\\model-115709.\n",
      "\u001b[32m[1022 14:23:05 @monitor.py:467]\u001b[0m GAN_loss/d_loss: -0.042605\n",
      "\u001b[32m[1022 14:23:05 @monitor.py:467]\u001b[0m GAN_loss/g_loss: 0.42635\n",
      "\u001b[32m[1022 14:23:05 @monitor.py:467]\u001b[0m GAN_loss/gradient_penalty: 0.0051453\n",
      "\u001b[32m[1022 14:23:05 @monitor.py:467]\u001b[0m GAN_loss/gradient_rms: 0.9996\n",
      "\u001b[32m[1022 14:23:05 @monitor.py:467]\u001b[0m GAN_loss/kl_div: 0.05783\n",
      "\u001b[32m[1022 14:23:05 @monitor.py:467]\u001b[0m QueueInput/queue_size: 50\n",
      "\u001b[32m[1022 14:23:05 @base.py:275]\u001b[0m Start Epoch 552 ...\n"
     ]
    },
    {
     "name": "stderr",
     "output_type": "stream",
     "text": [
      "\n",
      "100%|###################################################################################|175/175[00:06<00:00,27.67it/s]"
     ]
    },
    {
     "name": "stdout",
     "output_type": "stream",
     "text": [
      "\u001b[32m[1022 14:23:11 @base.py:285]\u001b[0m Epoch 552 (global_step 115919) finished, time:6.32 seconds.\n",
      "\u001b[32m[1022 14:23:11 @saver.py:79]\u001b[0m Model saved to ../output/Chicago/DATWGAN_30/model\\model-115919.\n",
      "\u001b[32m[1022 14:23:12 @monitor.py:467]\u001b[0m GAN_loss/d_loss: -0.05494\n",
      "\u001b[32m[1022 14:23:12 @monitor.py:467]\u001b[0m GAN_loss/g_loss: 0.41641\n",
      "\u001b[32m[1022 14:23:12 @monitor.py:467]\u001b[0m GAN_loss/gradient_penalty: 0.0052552\n",
      "\u001b[32m[1022 14:23:12 @monitor.py:467]\u001b[0m GAN_loss/gradient_rms: 0.99889\n",
      "\u001b[32m[1022 14:23:12 @monitor.py:467]\u001b[0m GAN_loss/kl_div: 0.058562\n",
      "\u001b[32m[1022 14:23:12 @monitor.py:467]\u001b[0m QueueInput/queue_size: 50\n",
      "\u001b[32m[1022 14:23:12 @base.py:275]\u001b[0m Start Epoch 553 ...\n"
     ]
    },
    {
     "name": "stderr",
     "output_type": "stream",
     "text": [
      "\n",
      "100%|###################################################################################|175/175[00:06<00:00,27.64it/s]"
     ]
    },
    {
     "name": "stdout",
     "output_type": "stream",
     "text": [
      "\u001b[32m[1022 14:23:18 @base.py:285]\u001b[0m Epoch 553 (global_step 116129) finished, time:6.33 seconds.\n",
      "\u001b[32m[1022 14:23:18 @saver.py:79]\u001b[0m Model saved to ../output/Chicago/DATWGAN_30/model\\model-116129.\n",
      "\u001b[32m[1022 14:23:18 @monitor.py:467]\u001b[0m GAN_loss/d_loss: -0.030146\n",
      "\u001b[32m[1022 14:23:18 @monitor.py:467]\u001b[0m GAN_loss/g_loss: 0.41713\n",
      "\u001b[32m[1022 14:23:18 @monitor.py:467]\u001b[0m GAN_loss/gradient_penalty: 0.0051235\n",
      "\u001b[32m[1022 14:23:18 @monitor.py:467]\u001b[0m GAN_loss/gradient_rms: 0.99951\n",
      "\u001b[32m[1022 14:23:18 @monitor.py:467]\u001b[0m GAN_loss/kl_div: 0.058017\n",
      "\u001b[32m[1022 14:23:18 @monitor.py:467]\u001b[0m QueueInput/queue_size: 50\n",
      "\u001b[32m[1022 14:23:18 @base.py:275]\u001b[0m Start Epoch 554 ...\n"
     ]
    },
    {
     "name": "stderr",
     "output_type": "stream",
     "text": [
      "\n",
      "100%|###################################################################################|175/175[00:06<00:00,27.75it/s]"
     ]
    },
    {
     "name": "stdout",
     "output_type": "stream",
     "text": [
      "\u001b[32m[1022 14:23:24 @base.py:285]\u001b[0m Epoch 554 (global_step 116339) finished, time:6.31 seconds.\n",
      "\u001b[32m[1022 14:23:24 @saver.py:79]\u001b[0m Model saved to ../output/Chicago/DATWGAN_30/model\\model-116339.\n",
      "\u001b[32m[1022 14:23:24 @monitor.py:467]\u001b[0m GAN_loss/d_loss: -0.044564\n",
      "\u001b[32m[1022 14:23:24 @monitor.py:467]\u001b[0m GAN_loss/g_loss: 0.41706\n",
      "\u001b[32m[1022 14:23:24 @monitor.py:467]\u001b[0m GAN_loss/gradient_penalty: 0.0051025\n",
      "\u001b[32m[1022 14:23:24 @monitor.py:467]\u001b[0m GAN_loss/gradient_rms: 1.0002\n",
      "\u001b[32m[1022 14:23:24 @monitor.py:467]\u001b[0m GAN_loss/kl_div: 0.065765\n",
      "\u001b[32m[1022 14:23:24 @monitor.py:467]\u001b[0m QueueInput/queue_size: 50\n",
      "\u001b[32m[1022 14:23:24 @base.py:275]\u001b[0m Start Epoch 555 ...\n"
     ]
    },
    {
     "name": "stderr",
     "output_type": "stream",
     "text": [
      "\n",
      "100%|###################################################################################|175/175[00:06<00:00,27.73it/s]"
     ]
    },
    {
     "name": "stdout",
     "output_type": "stream",
     "text": [
      "\u001b[32m[1022 14:23:31 @base.py:285]\u001b[0m Epoch 555 (global_step 116549) finished, time:6.31 seconds.\n",
      "\u001b[32m[1022 14:23:31 @saver.py:79]\u001b[0m Model saved to ../output/Chicago/DATWGAN_30/model\\model-116549.\n",
      "\u001b[32m[1022 14:23:31 @monitor.py:467]\u001b[0m GAN_loss/d_loss: -0.042774\n",
      "\u001b[32m[1022 14:23:31 @monitor.py:467]\u001b[0m GAN_loss/g_loss: 0.41163\n",
      "\u001b[32m[1022 14:23:31 @monitor.py:467]\u001b[0m GAN_loss/gradient_penalty: 0.0051415\n",
      "\u001b[32m[1022 14:23:31 @monitor.py:467]\u001b[0m GAN_loss/gradient_rms: 0.99999\n",
      "\u001b[32m[1022 14:23:31 @monitor.py:467]\u001b[0m GAN_loss/kl_div: 0.057334\n",
      "\u001b[32m[1022 14:23:31 @monitor.py:467]\u001b[0m QueueInput/queue_size: 50\n",
      "\u001b[32m[1022 14:23:31 @base.py:275]\u001b[0m Start Epoch 556 ...\n"
     ]
    },
    {
     "name": "stderr",
     "output_type": "stream",
     "text": [
      "\n",
      "100%|###################################################################################|175/175[00:06<00:00,27.73it/s]"
     ]
    },
    {
     "name": "stdout",
     "output_type": "stream",
     "text": [
      "\u001b[32m[1022 14:23:37 @base.py:285]\u001b[0m Epoch 556 (global_step 116759) finished, time:6.31 seconds.\n",
      "\u001b[32m[1022 14:23:37 @saver.py:79]\u001b[0m Model saved to ../output/Chicago/DATWGAN_30/model\\model-116759.\n"
     ]
    },
    {
     "name": "stderr",
     "output_type": "stream",
     "text": [
      "\n"
     ]
    },
    {
     "name": "stdout",
     "output_type": "stream",
     "text": [
      "\u001b[32m[1022 14:23:37 @monitor.py:467]\u001b[0m GAN_loss/d_loss: -0.037721\n",
      "\u001b[32m[1022 14:23:37 @monitor.py:467]\u001b[0m GAN_loss/g_loss: 0.43081\n",
      "\u001b[32m[1022 14:23:37 @monitor.py:467]\u001b[0m GAN_loss/gradient_penalty: 0.0050097\n",
      "\u001b[32m[1022 14:23:37 @monitor.py:467]\u001b[0m GAN_loss/gradient_rms: 0.99906\n",
      "\u001b[32m[1022 14:23:37 @monitor.py:467]\u001b[0m GAN_loss/kl_div: 0.056935\n",
      "\u001b[32m[1022 14:23:37 @monitor.py:467]\u001b[0m QueueInput/queue_size: 50\n",
      "\u001b[32m[1022 14:23:37 @base.py:275]\u001b[0m Start Epoch 557 ...\n"
     ]
    },
    {
     "name": "stderr",
     "output_type": "stream",
     "text": [
      "100%|###################################################################################|175/175[00:06<00:00,27.73it/s]"
     ]
    },
    {
     "name": "stdout",
     "output_type": "stream",
     "text": [
      "\u001b[32m[1022 14:23:44 @base.py:285]\u001b[0m Epoch 557 (global_step 116969) finished, time:6.31 seconds.\n",
      "\u001b[32m[1022 14:23:44 @saver.py:79]\u001b[0m Model saved to ../output/Chicago/DATWGAN_30/model\\model-116969.\n",
      "\u001b[32m[1022 14:23:44 @monitor.py:467]\u001b[0m GAN_loss/d_loss: -0.03966\n",
      "\u001b[32m[1022 14:23:44 @monitor.py:467]\u001b[0m GAN_loss/g_loss: 0.41136\n",
      "\u001b[32m[1022 14:23:44 @monitor.py:467]\u001b[0m GAN_loss/gradient_penalty: 0.0051764\n",
      "\u001b[32m[1022 14:23:44 @monitor.py:467]\u001b[0m GAN_loss/gradient_rms: 0.99933\n",
      "\u001b[32m[1022 14:23:44 @monitor.py:467]\u001b[0m GAN_loss/kl_div: 0.060922\n",
      "\u001b[32m[1022 14:23:44 @monitor.py:467]\u001b[0m QueueInput/queue_size: 50\n",
      "\u001b[32m[1022 14:23:44 @base.py:275]\u001b[0m Start Epoch 558 ...\n"
     ]
    },
    {
     "name": "stderr",
     "output_type": "stream",
     "text": [
      "\n",
      "100%|###################################################################################|175/175[00:06<00:00,27.74it/s]"
     ]
    },
    {
     "name": "stdout",
     "output_type": "stream",
     "text": [
      "\u001b[32m[1022 14:23:50 @base.py:285]\u001b[0m Epoch 558 (global_step 117179) finished, time:6.31 seconds.\n",
      "\u001b[32m[1022 14:23:50 @saver.py:79]\u001b[0m Model saved to ../output/Chicago/DATWGAN_30/model\\model-117179.\n",
      "\u001b[32m[1022 14:23:50 @monitor.py:467]\u001b[0m GAN_loss/d_loss: -0.048792\n",
      "\u001b[32m[1022 14:23:50 @monitor.py:467]\u001b[0m GAN_loss/g_loss: 0.41993\n",
      "\u001b[32m[1022 14:23:50 @monitor.py:467]\u001b[0m GAN_loss/gradient_penalty: 0.0053344\n",
      "\u001b[32m[1022 14:23:50 @monitor.py:467]\u001b[0m GAN_loss/gradient_rms: 0.99882\n",
      "\u001b[32m[1022 14:23:50 @monitor.py:467]\u001b[0m GAN_loss/kl_div: 0.060964\n",
      "\u001b[32m[1022 14:23:50 @monitor.py:467]\u001b[0m QueueInput/queue_size: 50\n",
      "\u001b[32m[1022 14:23:50 @base.py:275]\u001b[0m Start Epoch 559 ...\n"
     ]
    },
    {
     "name": "stderr",
     "output_type": "stream",
     "text": [
      "\n",
      "100%|###################################################################################|175/175[00:06<00:00,27.60it/s]"
     ]
    },
    {
     "name": "stdout",
     "output_type": "stream",
     "text": [
      "\u001b[32m[1022 14:23:57 @base.py:285]\u001b[0m Epoch 559 (global_step 117389) finished, time:6.34 seconds.\n",
      "\u001b[32m[1022 14:23:57 @saver.py:79]\u001b[0m Model saved to ../output/Chicago/DATWGAN_30/model\\model-117389.\n",
      "\u001b[32m[1022 14:23:57 @monitor.py:467]\u001b[0m GAN_loss/d_loss: -0.048783\n",
      "\u001b[32m[1022 14:23:57 @monitor.py:467]\u001b[0m GAN_loss/g_loss: 0.40714\n",
      "\u001b[32m[1022 14:23:57 @monitor.py:467]\u001b[0m GAN_loss/gradient_penalty: 0.0051876\n",
      "\u001b[32m[1022 14:23:57 @monitor.py:467]\u001b[0m GAN_loss/gradient_rms: 0.99889\n",
      "\u001b[32m[1022 14:23:57 @monitor.py:467]\u001b[0m GAN_loss/kl_div: 0.057329\n",
      "\u001b[32m[1022 14:23:57 @monitor.py:467]\u001b[0m QueueInput/queue_size: 50\n",
      "\u001b[32m[1022 14:23:57 @base.py:275]\u001b[0m Start Epoch 560 ...\n"
     ]
    },
    {
     "name": "stderr",
     "output_type": "stream",
     "text": [
      "\n",
      "100%|###################################################################################|175/175[00:06<00:00,27.48it/s]"
     ]
    },
    {
     "name": "stdout",
     "output_type": "stream",
     "text": [
      "\u001b[32m[1022 14:24:03 @base.py:285]\u001b[0m Epoch 560 (global_step 117599) finished, time:6.37 seconds.\n",
      "\u001b[32m[1022 14:24:03 @saver.py:79]\u001b[0m Model saved to ../output/Chicago/DATWGAN_30/model\\model-117599.\n",
      "\u001b[32m[1022 14:24:03 @monitor.py:467]\u001b[0m GAN_loss/d_loss: -0.03352\n",
      "\u001b[32m[1022 14:24:03 @monitor.py:467]\u001b[0m GAN_loss/g_loss: 0.40788\n",
      "\u001b[32m[1022 14:24:03 @monitor.py:467]\u001b[0m GAN_loss/gradient_penalty: 0.00517\n",
      "\u001b[32m[1022 14:24:03 @monitor.py:467]\u001b[0m GAN_loss/gradient_rms: 0.99947\n",
      "\u001b[32m[1022 14:24:03 @monitor.py:467]\u001b[0m GAN_loss/kl_div: 0.060666\n",
      "\u001b[32m[1022 14:24:03 @monitor.py:467]\u001b[0m QueueInput/queue_size: 50\n",
      "\u001b[32m[1022 14:24:03 @base.py:275]\u001b[0m Start Epoch 561 ...\n"
     ]
    },
    {
     "name": "stderr",
     "output_type": "stream",
     "text": [
      "\n",
      "100%|###################################################################################|175/175[00:06<00:00,27.76it/s]"
     ]
    },
    {
     "name": "stdout",
     "output_type": "stream",
     "text": [
      "\u001b[32m[1022 14:24:10 @base.py:285]\u001b[0m Epoch 561 (global_step 117809) finished, time:6.31 seconds.\n",
      "\u001b[32m[1022 14:24:10 @saver.py:79]\u001b[0m Model saved to ../output/Chicago/DATWGAN_30/model\\model-117809.\n",
      "\u001b[32m[1022 14:24:10 @monitor.py:467]\u001b[0m GAN_loss/d_loss: -0.047961\n",
      "\u001b[32m[1022 14:24:10 @monitor.py:467]\u001b[0m GAN_loss/g_loss: 0.41085\n",
      "\u001b[32m[1022 14:24:10 @monitor.py:467]\u001b[0m GAN_loss/gradient_penalty: 0.0051101\n",
      "\u001b[32m[1022 14:24:10 @monitor.py:467]\u001b[0m GAN_loss/gradient_rms: 1.0003\n",
      "\u001b[32m[1022 14:24:10 @monitor.py:467]\u001b[0m GAN_loss/kl_div: 0.059925\n",
      "\u001b[32m[1022 14:24:10 @monitor.py:467]\u001b[0m QueueInput/queue_size: 50\n",
      "\u001b[32m[1022 14:24:10 @base.py:275]\u001b[0m Start Epoch 562 ...\n"
     ]
    },
    {
     "name": "stderr",
     "output_type": "stream",
     "text": [
      "\n",
      "100%|###################################################################################|175/175[00:06<00:00,27.75it/s]"
     ]
    },
    {
     "name": "stdout",
     "output_type": "stream",
     "text": [
      "\u001b[32m[1022 14:24:16 @base.py:285]\u001b[0m Epoch 562 (global_step 118019) finished, time:6.31 seconds.\n",
      "\u001b[32m[1022 14:24:16 @saver.py:79]\u001b[0m Model saved to ../output/Chicago/DATWGAN_30/model\\model-118019.\n",
      "\u001b[32m[1022 14:24:16 @monitor.py:467]\u001b[0m GAN_loss/d_loss: -0.047419\n",
      "\u001b[32m[1022 14:24:16 @monitor.py:467]\u001b[0m GAN_loss/g_loss: 0.40825\n",
      "\u001b[32m[1022 14:24:16 @monitor.py:467]\u001b[0m GAN_loss/gradient_penalty: 0.0052893\n",
      "\u001b[32m[1022 14:24:16 @monitor.py:467]\u001b[0m GAN_loss/gradient_rms: 1.0002\n",
      "\u001b[32m[1022 14:24:16 @monitor.py:467]\u001b[0m GAN_loss/kl_div: 0.057662\n",
      "\u001b[32m[1022 14:24:16 @monitor.py:467]\u001b[0m QueueInput/queue_size: 50\n",
      "\u001b[32m[1022 14:24:16 @base.py:275]\u001b[0m Start Epoch 563 ...\n"
     ]
    },
    {
     "name": "stderr",
     "output_type": "stream",
     "text": [
      "\n",
      "100%|###################################################################################|175/175[00:06<00:00,27.65it/s]"
     ]
    },
    {
     "name": "stdout",
     "output_type": "stream",
     "text": [
      "\u001b[32m[1022 14:24:23 @base.py:285]\u001b[0m Epoch 563 (global_step 118229) finished, time:6.33 seconds.\n",
      "\u001b[32m[1022 14:24:23 @saver.py:79]\u001b[0m Model saved to ../output/Chicago/DATWGAN_30/model\\model-118229.\n"
     ]
    },
    {
     "name": "stderr",
     "output_type": "stream",
     "text": [
      "\n"
     ]
    },
    {
     "name": "stdout",
     "output_type": "stream",
     "text": [
      "\u001b[32m[1022 14:24:23 @monitor.py:467]\u001b[0m GAN_loss/d_loss: -0.040345\n",
      "\u001b[32m[1022 14:24:23 @monitor.py:467]\u001b[0m GAN_loss/g_loss: 0.41464\n",
      "\u001b[32m[1022 14:24:23 @monitor.py:467]\u001b[0m GAN_loss/gradient_penalty: 0.0051428\n",
      "\u001b[32m[1022 14:24:23 @monitor.py:467]\u001b[0m GAN_loss/gradient_rms: 1.0002\n",
      "\u001b[32m[1022 14:24:23 @monitor.py:467]\u001b[0m GAN_loss/kl_div: 0.058371\n",
      "\u001b[32m[1022 14:24:23 @monitor.py:467]\u001b[0m QueueInput/queue_size: 50\n",
      "\u001b[32m[1022 14:24:23 @base.py:275]\u001b[0m Start Epoch 564 ...\n"
     ]
    },
    {
     "name": "stderr",
     "output_type": "stream",
     "text": [
      "100%|###################################################################################|175/175[00:06<00:00,27.74it/s]"
     ]
    },
    {
     "name": "stdout",
     "output_type": "stream",
     "text": [
      "\u001b[32m[1022 14:24:29 @base.py:285]\u001b[0m Epoch 564 (global_step 118439) finished, time:6.31 seconds.\n",
      "\u001b[32m[1022 14:24:29 @saver.py:79]\u001b[0m Model saved to ../output/Chicago/DATWGAN_30/model\\model-118439.\n",
      "\u001b[32m[1022 14:24:29 @monitor.py:467]\u001b[0m GAN_loss/d_loss: -0.043845\n",
      "\u001b[32m[1022 14:24:29 @monitor.py:467]\u001b[0m GAN_loss/g_loss: 0.42629\n",
      "\u001b[32m[1022 14:24:29 @monitor.py:467]\u001b[0m GAN_loss/gradient_penalty: 0.0051681\n",
      "\u001b[32m[1022 14:24:29 @monitor.py:467]\u001b[0m GAN_loss/gradient_rms: 1.0004\n",
      "\u001b[32m[1022 14:24:29 @monitor.py:467]\u001b[0m GAN_loss/kl_div: 0.063022\n",
      "\u001b[32m[1022 14:24:29 @monitor.py:467]\u001b[0m QueueInput/queue_size: 50\n",
      "\u001b[32m[1022 14:24:29 @base.py:275]\u001b[0m Start Epoch 565 ...\n"
     ]
    },
    {
     "name": "stderr",
     "output_type": "stream",
     "text": [
      "\n",
      "100%|###################################################################################|175/175[00:06<00:00,27.74it/s]"
     ]
    },
    {
     "name": "stdout",
     "output_type": "stream",
     "text": [
      "\u001b[32m[1022 14:24:36 @base.py:285]\u001b[0m Epoch 565 (global_step 118649) finished, time:6.31 seconds.\n",
      "\u001b[32m[1022 14:24:36 @saver.py:79]\u001b[0m Model saved to ../output/Chicago/DATWGAN_30/model\\model-118649.\n",
      "\u001b[32m[1022 14:24:36 @monitor.py:467]\u001b[0m GAN_loss/d_loss: -0.046581\n",
      "\u001b[32m[1022 14:24:36 @monitor.py:467]\u001b[0m GAN_loss/g_loss: 0.42282\n",
      "\u001b[32m[1022 14:24:36 @monitor.py:467]\u001b[0m GAN_loss/gradient_penalty: 0.005203\n",
      "\u001b[32m[1022 14:24:36 @monitor.py:467]\u001b[0m GAN_loss/gradient_rms: 0.99916\n",
      "\u001b[32m[1022 14:24:36 @monitor.py:467]\u001b[0m GAN_loss/kl_div: 0.064208\n",
      "\u001b[32m[1022 14:24:36 @monitor.py:467]\u001b[0m QueueInput/queue_size: 50\n",
      "\u001b[32m[1022 14:24:36 @base.py:275]\u001b[0m Start Epoch 566 ...\n"
     ]
    },
    {
     "name": "stderr",
     "output_type": "stream",
     "text": [
      "\n",
      "100%|###################################################################################|175/175[00:06<00:00,27.74it/s]"
     ]
    },
    {
     "name": "stdout",
     "output_type": "stream",
     "text": [
      "\u001b[32m[1022 14:24:42 @base.py:285]\u001b[0m Epoch 566 (global_step 118859) finished, time:6.31 seconds.\n",
      "\u001b[32m[1022 14:24:42 @saver.py:79]\u001b[0m Model saved to ../output/Chicago/DATWGAN_30/model\\model-118859.\n",
      "\u001b[32m[1022 14:24:42 @monitor.py:467]\u001b[0m GAN_loss/d_loss: -0.038472\n",
      "\u001b[32m[1022 14:24:42 @monitor.py:467]\u001b[0m GAN_loss/g_loss: 0.40749\n",
      "\u001b[32m[1022 14:24:42 @monitor.py:467]\u001b[0m GAN_loss/gradient_penalty: 0.0051631\n",
      "\u001b[32m[1022 14:24:42 @monitor.py:467]\u001b[0m GAN_loss/gradient_rms: 0.99868\n",
      "\u001b[32m[1022 14:24:42 @monitor.py:467]\u001b[0m GAN_loss/kl_div: 0.059897\n",
      "\u001b[32m[1022 14:24:42 @monitor.py:467]\u001b[0m QueueInput/queue_size: 50\n",
      "\u001b[32m[1022 14:24:42 @base.py:275]\u001b[0m Start Epoch 567 ...\n"
     ]
    },
    {
     "name": "stderr",
     "output_type": "stream",
     "text": [
      "\n",
      "100%|###################################################################################|175/175[00:06<00:00,27.74it/s]"
     ]
    },
    {
     "name": "stdout",
     "output_type": "stream",
     "text": [
      "\u001b[32m[1022 14:24:48 @base.py:285]\u001b[0m Epoch 567 (global_step 119069) finished, time:6.31 seconds.\n",
      "\u001b[32m[1022 14:24:48 @saver.py:79]\u001b[0m Model saved to ../output/Chicago/DATWGAN_30/model\\model-119069.\n",
      "\u001b[32m[1022 14:24:49 @monitor.py:467]\u001b[0m GAN_loss/d_loss: -0.033517\n",
      "\u001b[32m[1022 14:24:49 @monitor.py:467]\u001b[0m GAN_loss/g_loss: 0.4114\n",
      "\u001b[32m[1022 14:24:49 @monitor.py:467]\u001b[0m GAN_loss/gradient_penalty: 0.0052271\n",
      "\u001b[32m[1022 14:24:49 @monitor.py:467]\u001b[0m GAN_loss/gradient_rms: 1.0001\n",
      "\u001b[32m[1022 14:24:49 @monitor.py:467]\u001b[0m GAN_loss/kl_div: 0.058456\n",
      "\u001b[32m[1022 14:24:49 @monitor.py:467]\u001b[0m QueueInput/queue_size: 50\n",
      "\u001b[32m[1022 14:24:49 @base.py:275]\u001b[0m Start Epoch 568 ...\n"
     ]
    },
    {
     "name": "stderr",
     "output_type": "stream",
     "text": [
      "\n",
      "100%|###################################################################################|175/175[00:06<00:00,27.70it/s]"
     ]
    },
    {
     "name": "stdout",
     "output_type": "stream",
     "text": [
      "\u001b[32m[1022 14:24:55 @base.py:285]\u001b[0m Epoch 568 (global_step 119279) finished, time:6.32 seconds.\n",
      "\u001b[32m[1022 14:24:55 @saver.py:79]\u001b[0m Model saved to ../output/Chicago/DATWGAN_30/model\\model-119279.\n",
      "\u001b[32m[1022 14:24:55 @monitor.py:467]\u001b[0m GAN_loss/d_loss: -0.036927\n",
      "\u001b[32m[1022 14:24:55 @monitor.py:467]\u001b[0m GAN_loss/g_loss: 0.41999\n",
      "\u001b[32m[1022 14:24:55 @monitor.py:467]\u001b[0m GAN_loss/gradient_penalty: 0.0052114\n",
      "\u001b[32m[1022 14:24:55 @monitor.py:467]\u001b[0m GAN_loss/gradient_rms: 0.99837\n",
      "\u001b[32m[1022 14:24:55 @monitor.py:467]\u001b[0m GAN_loss/kl_div: 0.059318\n",
      "\u001b[32m[1022 14:24:55 @monitor.py:467]\u001b[0m QueueInput/queue_size: 50\n",
      "\u001b[32m[1022 14:24:55 @base.py:275]\u001b[0m Start Epoch 569 ...\n"
     ]
    },
    {
     "name": "stderr",
     "output_type": "stream",
     "text": [
      "\n",
      "100%|###################################################################################|175/175[00:06<00:00,27.76it/s]"
     ]
    },
    {
     "name": "stdout",
     "output_type": "stream",
     "text": [
      "\u001b[32m[1022 14:25:01 @base.py:285]\u001b[0m Epoch 569 (global_step 119489) finished, time:6.3 seconds.\n",
      "\u001b[32m[1022 14:25:01 @saver.py:79]\u001b[0m Model saved to ../output/Chicago/DATWGAN_30/model\\model-119489.\n",
      "\u001b[32m[1022 14:25:01 @monitor.py:467]\u001b[0m GAN_loss/d_loss: -0.036196\n",
      "\u001b[32m[1022 14:25:01 @monitor.py:467]\u001b[0m GAN_loss/g_loss: 0.42134\n",
      "\u001b[32m[1022 14:25:01 @monitor.py:467]\u001b[0m GAN_loss/gradient_penalty: 0.0052947\n",
      "\u001b[32m[1022 14:25:01 @monitor.py:467]\u001b[0m GAN_loss/gradient_rms: 0.99896\n",
      "\u001b[32m[1022 14:25:01 @monitor.py:467]\u001b[0m GAN_loss/kl_div: 0.057266\n",
      "\u001b[32m[1022 14:25:01 @monitor.py:467]\u001b[0m QueueInput/queue_size: 50\n",
      "\u001b[32m[1022 14:25:01 @base.py:275]\u001b[0m Start Epoch 570 ...\n"
     ]
    },
    {
     "name": "stderr",
     "output_type": "stream",
     "text": [
      "\n",
      "100%|###################################################################################|175/175[00:06<00:00,27.71it/s]"
     ]
    },
    {
     "name": "stdout",
     "output_type": "stream",
     "text": [
      "\u001b[32m[1022 14:25:08 @base.py:285]\u001b[0m Epoch 570 (global_step 119699) finished, time:6.32 seconds.\n",
      "\u001b[32m[1022 14:25:08 @saver.py:79]\u001b[0m Model saved to ../output/Chicago/DATWGAN_30/model\\model-119699.\n",
      "\u001b[32m[1022 14:25:08 @monitor.py:467]\u001b[0m GAN_loss/d_loss: -0.037303\n",
      "\u001b[32m[1022 14:25:08 @monitor.py:467]\u001b[0m GAN_loss/g_loss: 0.42022\n",
      "\u001b[32m[1022 14:25:08 @monitor.py:467]\u001b[0m GAN_loss/gradient_penalty: 0.0052724\n",
      "\u001b[32m[1022 14:25:08 @monitor.py:467]\u001b[0m GAN_loss/gradient_rms: 0.99884\n",
      "\u001b[32m[1022 14:25:08 @monitor.py:467]\u001b[0m GAN_loss/kl_div: 0.061274\n",
      "\u001b[32m[1022 14:25:08 @monitor.py:467]\u001b[0m QueueInput/queue_size: 50\n",
      "\u001b[32m[1022 14:25:08 @base.py:275]\u001b[0m Start Epoch 571 ...\n"
     ]
    },
    {
     "name": "stderr",
     "output_type": "stream",
     "text": [
      "\n",
      "100%|###################################################################################|175/175[00:06<00:00,27.73it/s]"
     ]
    },
    {
     "name": "stdout",
     "output_type": "stream",
     "text": [
      "\u001b[32m[1022 14:25:14 @base.py:285]\u001b[0m Epoch 571 (global_step 119909) finished, time:6.31 seconds.\n",
      "\u001b[32m[1022 14:25:14 @saver.py:79]\u001b[0m Model saved to ../output/Chicago/DATWGAN_30/model\\model-119909.\n",
      "\u001b[32m[1022 14:25:14 @monitor.py:467]\u001b[0m GAN_loss/d_loss: -0.034694\n",
      "\u001b[32m[1022 14:25:14 @monitor.py:467]\u001b[0m GAN_loss/g_loss: 0.41601\n",
      "\u001b[32m[1022 14:25:14 @monitor.py:467]\u001b[0m GAN_loss/gradient_penalty: 0.0052547\n",
      "\u001b[32m[1022 14:25:14 @monitor.py:467]\u001b[0m GAN_loss/gradient_rms: 0.99975\n",
      "\u001b[32m[1022 14:25:14 @monitor.py:467]\u001b[0m GAN_loss/kl_div: 0.05986\n",
      "\u001b[32m[1022 14:25:14 @monitor.py:467]\u001b[0m QueueInput/queue_size: 50\n",
      "\u001b[32m[1022 14:25:14 @base.py:275]\u001b[0m Start Epoch 572 ...\n"
     ]
    },
    {
     "name": "stderr",
     "output_type": "stream",
     "text": [
      "\n",
      "100%|###################################################################################|175/175[00:06<00:00,27.75it/s]"
     ]
    },
    {
     "name": "stdout",
     "output_type": "stream",
     "text": [
      "\u001b[32m[1022 14:25:21 @base.py:285]\u001b[0m Epoch 572 (global_step 120119) finished, time:6.31 seconds.\n",
      "\u001b[32m[1022 14:25:21 @saver.py:79]\u001b[0m Model saved to ../output/Chicago/DATWGAN_30/model\\model-120119.\n",
      "\u001b[32m[1022 14:25:21 @monitor.py:467]\u001b[0m GAN_loss/d_loss: -0.050751\n",
      "\u001b[32m[1022 14:25:21 @monitor.py:467]\u001b[0m GAN_loss/g_loss: 0.42429\n",
      "\u001b[32m[1022 14:25:21 @monitor.py:467]\u001b[0m GAN_loss/gradient_penalty: 0.0051545\n",
      "\u001b[32m[1022 14:25:21 @monitor.py:467]\u001b[0m GAN_loss/gradient_rms: 1.0004\n",
      "\u001b[32m[1022 14:25:21 @monitor.py:467]\u001b[0m GAN_loss/kl_div: 0.055026\n",
      "\u001b[32m[1022 14:25:21 @monitor.py:467]\u001b[0m QueueInput/queue_size: 50\n",
      "\u001b[32m[1022 14:25:21 @base.py:275]\u001b[0m Start Epoch 573 ...\n"
     ]
    },
    {
     "name": "stderr",
     "output_type": "stream",
     "text": [
      "\n",
      "100%|###################################################################################|175/175[00:06<00:00,27.75it/s]"
     ]
    },
    {
     "name": "stdout",
     "output_type": "stream",
     "text": [
      "\u001b[32m[1022 14:25:27 @base.py:285]\u001b[0m Epoch 573 (global_step 120329) finished, time:6.31 seconds.\n",
      "\u001b[32m[1022 14:25:27 @saver.py:79]\u001b[0m Model saved to ../output/Chicago/DATWGAN_30/model\\model-120329.\n",
      "\u001b[32m[1022 14:25:27 @monitor.py:467]\u001b[0m GAN_loss/d_loss: -0.041206\n",
      "\u001b[32m[1022 14:25:27 @monitor.py:467]\u001b[0m GAN_loss/g_loss: 0.41894\n",
      "\u001b[32m[1022 14:25:27 @monitor.py:467]\u001b[0m GAN_loss/gradient_penalty: 0.0051606\n",
      "\u001b[32m[1022 14:25:27 @monitor.py:467]\u001b[0m GAN_loss/gradient_rms: 0.99918\n",
      "\u001b[32m[1022 14:25:27 @monitor.py:467]\u001b[0m GAN_loss/kl_div: 0.062505\n",
      "\u001b[32m[1022 14:25:27 @monitor.py:467]\u001b[0m QueueInput/queue_size: 50\n",
      "\u001b[32m[1022 14:25:27 @base.py:275]\u001b[0m Start Epoch 574 ...\n"
     ]
    },
    {
     "name": "stderr",
     "output_type": "stream",
     "text": [
      "\n",
      "100%|###################################################################################|175/175[00:06<00:00,27.73it/s]"
     ]
    },
    {
     "name": "stdout",
     "output_type": "stream",
     "text": [
      "\u001b[32m[1022 14:25:34 @base.py:285]\u001b[0m Epoch 574 (global_step 120539) finished, time:6.31 seconds.\n",
      "\u001b[32m[1022 14:25:34 @saver.py:79]\u001b[0m Model saved to ../output/Chicago/DATWGAN_30/model\\model-120539.\n",
      "\u001b[32m[1022 14:25:34 @monitor.py:467]\u001b[0m GAN_loss/d_loss: -0.039727\n",
      "\u001b[32m[1022 14:25:34 @monitor.py:467]\u001b[0m GAN_loss/g_loss: 0.41925\n",
      "\u001b[32m[1022 14:25:34 @monitor.py:467]\u001b[0m GAN_loss/gradient_penalty: 0.0052506\n",
      "\u001b[32m[1022 14:25:34 @monitor.py:467]\u001b[0m GAN_loss/gradient_rms: 0.99976\n",
      "\u001b[32m[1022 14:25:34 @monitor.py:467]\u001b[0m GAN_loss/kl_div: 0.060399\n",
      "\u001b[32m[1022 14:25:34 @monitor.py:467]\u001b[0m QueueInput/queue_size: 50\n",
      "\u001b[32m[1022 14:25:34 @base.py:275]\u001b[0m Start Epoch 575 ...\n"
     ]
    },
    {
     "name": "stderr",
     "output_type": "stream",
     "text": [
      "\n",
      "100%|###################################################################################|175/175[00:06<00:00,27.71it/s]"
     ]
    },
    {
     "name": "stdout",
     "output_type": "stream",
     "text": [
      "\u001b[32m[1022 14:25:40 @base.py:285]\u001b[0m Epoch 575 (global_step 120749) finished, time:6.32 seconds.\n",
      "\u001b[32m[1022 14:25:40 @saver.py:79]\u001b[0m Model saved to ../output/Chicago/DATWGAN_30/model\\model-120749.\n",
      "\u001b[32m[1022 14:25:40 @monitor.py:467]\u001b[0m GAN_loss/d_loss: -0.034531\n",
      "\u001b[32m[1022 14:25:40 @monitor.py:467]\u001b[0m GAN_loss/g_loss: 0.42443\n",
      "\u001b[32m[1022 14:25:40 @monitor.py:467]\u001b[0m GAN_loss/gradient_penalty: 0.0053427\n",
      "\u001b[32m[1022 14:25:40 @monitor.py:467]\u001b[0m GAN_loss/gradient_rms: 0.99998\n",
      "\u001b[32m[1022 14:25:40 @monitor.py:467]\u001b[0m GAN_loss/kl_div: 0.058498\n",
      "\u001b[32m[1022 14:25:40 @monitor.py:467]\u001b[0m QueueInput/queue_size: 50\n",
      "\u001b[32m[1022 14:25:40 @base.py:275]\u001b[0m Start Epoch 576 ...\n"
     ]
    },
    {
     "name": "stderr",
     "output_type": "stream",
     "text": [
      "\n",
      "100%|###################################################################################|175/175[00:06<00:00,27.74it/s]"
     ]
    },
    {
     "name": "stdout",
     "output_type": "stream",
     "text": [
      "\u001b[32m[1022 14:25:47 @base.py:285]\u001b[0m Epoch 576 (global_step 120959) finished, time:6.31 seconds.\n",
      "\u001b[32m[1022 14:25:47 @saver.py:79]\u001b[0m Model saved to ../output/Chicago/DATWGAN_30/model\\model-120959.\n"
     ]
    },
    {
     "name": "stderr",
     "output_type": "stream",
     "text": [
      "\n"
     ]
    },
    {
     "name": "stdout",
     "output_type": "stream",
     "text": [
      "\u001b[32m[1022 14:25:47 @monitor.py:467]\u001b[0m GAN_loss/d_loss: -0.044971\n",
      "\u001b[32m[1022 14:25:47 @monitor.py:467]\u001b[0m GAN_loss/g_loss: 0.43125\n",
      "\u001b[32m[1022 14:25:47 @monitor.py:467]\u001b[0m GAN_loss/gradient_penalty: 0.0053042\n",
      "\u001b[32m[1022 14:25:47 @monitor.py:467]\u001b[0m GAN_loss/gradient_rms: 0.99955\n",
      "\u001b[32m[1022 14:25:47 @monitor.py:467]\u001b[0m GAN_loss/kl_div: 0.061742\n",
      "\u001b[32m[1022 14:25:47 @monitor.py:467]\u001b[0m QueueInput/queue_size: 50\n",
      "\u001b[32m[1022 14:25:47 @base.py:275]\u001b[0m Start Epoch 577 ...\n"
     ]
    },
    {
     "name": "stderr",
     "output_type": "stream",
     "text": [
      "100%|###################################################################################|175/175[00:06<00:00,27.69it/s]"
     ]
    },
    {
     "name": "stdout",
     "output_type": "stream",
     "text": [
      "\u001b[32m[1022 14:25:53 @base.py:285]\u001b[0m Epoch 577 (global_step 121169) finished, time:6.32 seconds.\n",
      "\u001b[32m[1022 14:25:53 @saver.py:79]\u001b[0m Model saved to ../output/Chicago/DATWGAN_30/model\\model-121169.\n",
      "\u001b[32m[1022 14:25:53 @monitor.py:467]\u001b[0m GAN_loss/d_loss: -0.030587\n",
      "\u001b[32m[1022 14:25:53 @monitor.py:467]\u001b[0m GAN_loss/g_loss: 0.42071\n",
      "\u001b[32m[1022 14:25:53 @monitor.py:467]\u001b[0m GAN_loss/gradient_penalty: 0.0053592\n",
      "\u001b[32m[1022 14:25:53 @monitor.py:467]\u001b[0m GAN_loss/gradient_rms: 0.99982\n",
      "\u001b[32m[1022 14:25:53 @monitor.py:467]\u001b[0m GAN_loss/kl_div: 0.061871\n",
      "\u001b[32m[1022 14:25:53 @monitor.py:467]\u001b[0m QueueInput/queue_size: 50\n",
      "\u001b[32m[1022 14:25:53 @base.py:275]\u001b[0m Start Epoch 578 ...\n"
     ]
    },
    {
     "name": "stderr",
     "output_type": "stream",
     "text": [
      "\n",
      "100%|###################################################################################|175/175[00:06<00:00,27.66it/s]"
     ]
    },
    {
     "name": "stdout",
     "output_type": "stream",
     "text": [
      "\u001b[32m[1022 14:26:00 @base.py:285]\u001b[0m Epoch 578 (global_step 121379) finished, time:6.33 seconds.\n",
      "\u001b[32m[1022 14:26:00 @saver.py:79]\u001b[0m Model saved to ../output/Chicago/DATWGAN_30/model\\model-121379.\n",
      "\u001b[32m[1022 14:26:00 @monitor.py:467]\u001b[0m GAN_loss/d_loss: -0.047209\n",
      "\u001b[32m[1022 14:26:00 @monitor.py:467]\u001b[0m GAN_loss/g_loss: 0.43071\n",
      "\u001b[32m[1022 14:26:00 @monitor.py:467]\u001b[0m GAN_loss/gradient_penalty: 0.0051581\n",
      "\u001b[32m[1022 14:26:00 @monitor.py:467]\u001b[0m GAN_loss/gradient_rms: 0.99948\n",
      "\u001b[32m[1022 14:26:00 @monitor.py:467]\u001b[0m GAN_loss/kl_div: 0.059178\n",
      "\u001b[32m[1022 14:26:00 @monitor.py:467]\u001b[0m QueueInput/queue_size: 50\n",
      "\u001b[32m[1022 14:26:00 @base.py:275]\u001b[0m Start Epoch 579 ...\n"
     ]
    },
    {
     "name": "stderr",
     "output_type": "stream",
     "text": [
      "\n",
      "100%|###################################################################################|175/175[00:06<00:00,27.68it/s]"
     ]
    },
    {
     "name": "stdout",
     "output_type": "stream",
     "text": [
      "\u001b[32m[1022 14:26:06 @base.py:285]\u001b[0m Epoch 579 (global_step 121589) finished, time:6.32 seconds.\n",
      "\u001b[32m[1022 14:26:06 @saver.py:79]\u001b[0m Model saved to ../output/Chicago/DATWGAN_30/model\\model-121589.\n",
      "\u001b[32m[1022 14:26:06 @monitor.py:467]\u001b[0m GAN_loss/d_loss: -0.035154\n",
      "\u001b[32m[1022 14:26:06 @monitor.py:467]\u001b[0m GAN_loss/g_loss: 0.42825\n",
      "\u001b[32m[1022 14:26:06 @monitor.py:467]\u001b[0m GAN_loss/gradient_penalty: 0.005218\n",
      "\u001b[32m[1022 14:26:06 @monitor.py:467]\u001b[0m GAN_loss/gradient_rms: 1.0007\n",
      "\u001b[32m[1022 14:26:06 @monitor.py:467]\u001b[0m GAN_loss/kl_div: 0.060363\n",
      "\u001b[32m[1022 14:26:06 @monitor.py:467]\u001b[0m QueueInput/queue_size: 50\n",
      "\u001b[32m[1022 14:26:06 @base.py:275]\u001b[0m Start Epoch 580 ...\n"
     ]
    },
    {
     "name": "stderr",
     "output_type": "stream",
     "text": [
      "\n",
      "100%|###################################################################################|175/175[00:06<00:00,27.67it/s]"
     ]
    },
    {
     "name": "stdout",
     "output_type": "stream",
     "text": [
      "\u001b[32m[1022 14:26:13 @base.py:285]\u001b[0m Epoch 580 (global_step 121799) finished, time:6.33 seconds.\n",
      "\u001b[32m[1022 14:26:13 @saver.py:79]\u001b[0m Model saved to ../output/Chicago/DATWGAN_30/model\\model-121799.\n",
      "\u001b[32m[1022 14:26:13 @monitor.py:467]\u001b[0m GAN_loss/d_loss: -0.042165\n",
      "\u001b[32m[1022 14:26:13 @monitor.py:467]\u001b[0m GAN_loss/g_loss: 0.42051\n",
      "\u001b[32m[1022 14:26:13 @monitor.py:467]\u001b[0m GAN_loss/gradient_penalty: 0.0051589\n",
      "\u001b[32m[1022 14:26:13 @monitor.py:467]\u001b[0m GAN_loss/gradient_rms: 0.99933\n",
      "\u001b[32m[1022 14:26:13 @monitor.py:467]\u001b[0m GAN_loss/kl_div: 0.05598\n",
      "\u001b[32m[1022 14:26:13 @monitor.py:467]\u001b[0m QueueInput/queue_size: 50\n",
      "\u001b[32m[1022 14:26:13 @base.py:275]\u001b[0m Start Epoch 581 ...\n"
     ]
    },
    {
     "name": "stderr",
     "output_type": "stream",
     "text": [
      "\n",
      "100%|###################################################################################|175/175[00:06<00:00,27.67it/s]"
     ]
    },
    {
     "name": "stdout",
     "output_type": "stream",
     "text": [
      "\u001b[32m[1022 14:26:19 @base.py:285]\u001b[0m Epoch 581 (global_step 122009) finished, time:6.32 seconds.\n",
      "\u001b[32m[1022 14:26:19 @saver.py:79]\u001b[0m Model saved to ../output/Chicago/DATWGAN_30/model\\model-122009.\n"
     ]
    },
    {
     "name": "stderr",
     "output_type": "stream",
     "text": [
      "\n"
     ]
    },
    {
     "name": "stdout",
     "output_type": "stream",
     "text": [
      "\u001b[32m[1022 14:26:19 @monitor.py:467]\u001b[0m GAN_loss/d_loss: -0.049805\n",
      "\u001b[32m[1022 14:26:19 @monitor.py:467]\u001b[0m GAN_loss/g_loss: 0.42859\n",
      "\u001b[32m[1022 14:26:19 @monitor.py:467]\u001b[0m GAN_loss/gradient_penalty: 0.0052293\n",
      "\u001b[32m[1022 14:26:19 @monitor.py:467]\u001b[0m GAN_loss/gradient_rms: 0.99993\n",
      "\u001b[32m[1022 14:26:19 @monitor.py:467]\u001b[0m GAN_loss/kl_div: 0.057637\n",
      "\u001b[32m[1022 14:26:19 @monitor.py:467]\u001b[0m QueueInput/queue_size: 50\n",
      "\u001b[32m[1022 14:26:19 @base.py:275]\u001b[0m Start Epoch 582 ...\n"
     ]
    },
    {
     "name": "stderr",
     "output_type": "stream",
     "text": [
      "100%|###################################################################################|175/175[00:06<00:00,27.66it/s]"
     ]
    },
    {
     "name": "stdout",
     "output_type": "stream",
     "text": [
      "\u001b[32m[1022 14:26:26 @base.py:285]\u001b[0m Epoch 582 (global_step 122219) finished, time:6.33 seconds.\n",
      "\u001b[32m[1022 14:26:26 @saver.py:79]\u001b[0m Model saved to ../output/Chicago/DATWGAN_30/model\\model-122219.\n",
      "\u001b[32m[1022 14:26:26 @monitor.py:467]\u001b[0m GAN_loss/d_loss: -0.049964\n",
      "\u001b[32m[1022 14:26:26 @monitor.py:467]\u001b[0m GAN_loss/g_loss: 0.42577\n",
      "\u001b[32m[1022 14:26:26 @monitor.py:467]\u001b[0m GAN_loss/gradient_penalty: 0.0053099\n",
      "\u001b[32m[1022 14:26:26 @monitor.py:467]\u001b[0m GAN_loss/gradient_rms: 1.0002\n",
      "\u001b[32m[1022 14:26:26 @monitor.py:467]\u001b[0m GAN_loss/kl_div: 0.061467\n",
      "\u001b[32m[1022 14:26:26 @monitor.py:467]\u001b[0m QueueInput/queue_size: 50\n",
      "\u001b[32m[1022 14:26:26 @base.py:275]\u001b[0m Start Epoch 583 ...\n"
     ]
    },
    {
     "name": "stderr",
     "output_type": "stream",
     "text": [
      "\n",
      "100%|###################################################################################|175/175[00:06<00:00,27.69it/s]"
     ]
    },
    {
     "name": "stdout",
     "output_type": "stream",
     "text": [
      "\u001b[32m[1022 14:26:32 @base.py:285]\u001b[0m Epoch 583 (global_step 122429) finished, time:6.32 seconds.\n",
      "\u001b[32m[1022 14:26:32 @saver.py:79]\u001b[0m Model saved to ../output/Chicago/DATWGAN_30/model\\model-122429.\n",
      "\u001b[32m[1022 14:26:32 @monitor.py:467]\u001b[0m GAN_loss/d_loss: -0.045775\n",
      "\u001b[32m[1022 14:26:32 @monitor.py:467]\u001b[0m GAN_loss/g_loss: 0.42483\n",
      "\u001b[32m[1022 14:26:32 @monitor.py:467]\u001b[0m GAN_loss/gradient_penalty: 0.0052607\n",
      "\u001b[32m[1022 14:26:32 @monitor.py:467]\u001b[0m GAN_loss/gradient_rms: 0.99886\n",
      "\u001b[32m[1022 14:26:32 @monitor.py:467]\u001b[0m GAN_loss/kl_div: 0.058635\n",
      "\u001b[32m[1022 14:26:32 @monitor.py:467]\u001b[0m QueueInput/queue_size: 50\n",
      "\u001b[32m[1022 14:26:32 @base.py:275]\u001b[0m Start Epoch 584 ...\n"
     ]
    },
    {
     "name": "stderr",
     "output_type": "stream",
     "text": [
      "\n",
      "100%|###################################################################################|175/175[00:06<00:00,27.68it/s]"
     ]
    },
    {
     "name": "stdout",
     "output_type": "stream",
     "text": [
      "\u001b[32m[1022 14:26:38 @base.py:285]\u001b[0m Epoch 584 (global_step 122639) finished, time:6.32 seconds.\n",
      "\u001b[32m[1022 14:26:39 @saver.py:79]\u001b[0m Model saved to ../output/Chicago/DATWGAN_30/model\\model-122639.\n",
      "\u001b[32m[1022 14:26:39 @monitor.py:467]\u001b[0m GAN_loss/d_loss: -0.052164\n",
      "\u001b[32m[1022 14:26:39 @monitor.py:467]\u001b[0m GAN_loss/g_loss: 0.4223\n",
      "\u001b[32m[1022 14:26:39 @monitor.py:467]\u001b[0m GAN_loss/gradient_penalty: 0.0050372\n",
      "\u001b[32m[1022 14:26:39 @monitor.py:467]\u001b[0m GAN_loss/gradient_rms: 1.0004\n",
      "\u001b[32m[1022 14:26:39 @monitor.py:467]\u001b[0m GAN_loss/kl_div: 0.06075\n",
      "\u001b[32m[1022 14:26:39 @monitor.py:467]\u001b[0m QueueInput/queue_size: 50\n",
      "\u001b[32m[1022 14:26:39 @base.py:275]\u001b[0m Start Epoch 585 ...\n"
     ]
    },
    {
     "name": "stderr",
     "output_type": "stream",
     "text": [
      "\n",
      "100%|###################################################################################|175/175[00:06<00:00,27.69it/s]"
     ]
    },
    {
     "name": "stdout",
     "output_type": "stream",
     "text": [
      "\u001b[32m[1022 14:26:45 @base.py:285]\u001b[0m Epoch 585 (global_step 122849) finished, time:6.32 seconds.\n",
      "\u001b[32m[1022 14:26:45 @saver.py:79]\u001b[0m Model saved to ../output/Chicago/DATWGAN_30/model\\model-122849.\n",
      "\u001b[32m[1022 14:26:45 @monitor.py:467]\u001b[0m GAN_loss/d_loss: -0.047676\n",
      "\u001b[32m[1022 14:26:45 @monitor.py:467]\u001b[0m GAN_loss/g_loss: 0.41941\n",
      "\u001b[32m[1022 14:26:45 @monitor.py:467]\u001b[0m GAN_loss/gradient_penalty: 0.0052099\n",
      "\u001b[32m[1022 14:26:45 @monitor.py:467]\u001b[0m GAN_loss/gradient_rms: 0.99987\n",
      "\u001b[32m[1022 14:26:45 @monitor.py:467]\u001b[0m GAN_loss/kl_div: 0.058705\n",
      "\u001b[32m[1022 14:26:45 @monitor.py:467]\u001b[0m QueueInput/queue_size: 50\n",
      "\u001b[32m[1022 14:26:45 @base.py:275]\u001b[0m Start Epoch 586 ...\n"
     ]
    },
    {
     "name": "stderr",
     "output_type": "stream",
     "text": [
      "\n",
      "100%|###################################################################################|175/175[00:06<00:00,27.68it/s]"
     ]
    },
    {
     "name": "stdout",
     "output_type": "stream",
     "text": [
      "\u001b[32m[1022 14:26:51 @base.py:285]\u001b[0m Epoch 586 (global_step 123059) finished, time:6.32 seconds.\n",
      "\u001b[32m[1022 14:26:52 @saver.py:79]\u001b[0m Model saved to ../output/Chicago/DATWGAN_30/model\\model-123059.\n",
      "\u001b[32m[1022 14:26:52 @monitor.py:467]\u001b[0m GAN_loss/d_loss: -0.040826\n",
      "\u001b[32m[1022 14:26:52 @monitor.py:467]\u001b[0m GAN_loss/g_loss: 0.40721\n",
      "\u001b[32m[1022 14:26:52 @monitor.py:467]\u001b[0m GAN_loss/gradient_penalty: 0.0052656\n",
      "\u001b[32m[1022 14:26:52 @monitor.py:467]\u001b[0m GAN_loss/gradient_rms: 0.99874\n",
      "\u001b[32m[1022 14:26:52 @monitor.py:467]\u001b[0m GAN_loss/kl_div: 0.058984\n",
      "\u001b[32m[1022 14:26:52 @monitor.py:467]\u001b[0m QueueInput/queue_size: 50\n",
      "\u001b[32m[1022 14:26:52 @base.py:275]\u001b[0m Start Epoch 587 ...\n"
     ]
    },
    {
     "name": "stderr",
     "output_type": "stream",
     "text": [
      "\n",
      "100%|###################################################################################|175/175[00:06<00:00,27.67it/s]"
     ]
    },
    {
     "name": "stdout",
     "output_type": "stream",
     "text": [
      "\u001b[32m[1022 14:26:58 @base.py:285]\u001b[0m Epoch 587 (global_step 123269) finished, time:6.33 seconds.\n",
      "\u001b[32m[1022 14:26:58 @saver.py:79]\u001b[0m Model saved to ../output/Chicago/DATWGAN_30/model\\model-123269.\n",
      "\u001b[32m[1022 14:26:58 @monitor.py:467]\u001b[0m GAN_loss/d_loss: -0.039807\n",
      "\u001b[32m[1022 14:26:58 @monitor.py:467]\u001b[0m GAN_loss/g_loss: 0.41443\n",
      "\u001b[32m[1022 14:26:58 @monitor.py:467]\u001b[0m GAN_loss/gradient_penalty: 0.005222\n",
      "\u001b[32m[1022 14:26:58 @monitor.py:467]\u001b[0m GAN_loss/gradient_rms: 0.99899\n",
      "\u001b[32m[1022 14:26:58 @monitor.py:467]\u001b[0m GAN_loss/kl_div: 0.060933\n",
      "\u001b[32m[1022 14:26:58 @monitor.py:467]\u001b[0m QueueInput/queue_size: 50\n",
      "\u001b[32m[1022 14:26:58 @base.py:275]\u001b[0m Start Epoch 588 ...\n"
     ]
    },
    {
     "name": "stderr",
     "output_type": "stream",
     "text": [
      "\n",
      "100%|###################################################################################|175/175[00:06<00:00,27.55it/s]"
     ]
    },
    {
     "name": "stdout",
     "output_type": "stream",
     "text": [
      "\u001b[32m[1022 14:27:04 @base.py:285]\u001b[0m Epoch 588 (global_step 123479) finished, time:6.35 seconds.\n",
      "\u001b[32m[1022 14:27:04 @saver.py:79]\u001b[0m Model saved to ../output/Chicago/DATWGAN_30/model\\model-123479.\n",
      "\u001b[32m[1022 14:27:05 @monitor.py:467]\u001b[0m GAN_loss/d_loss: -0.042802\n",
      "\u001b[32m[1022 14:27:05 @monitor.py:467]\u001b[0m GAN_loss/g_loss: 0.41912\n",
      "\u001b[32m[1022 14:27:05 @monitor.py:467]\u001b[0m GAN_loss/gradient_penalty: 0.0051539\n",
      "\u001b[32m[1022 14:27:05 @monitor.py:467]\u001b[0m GAN_loss/gradient_rms: 0.9992\n",
      "\u001b[32m[1022 14:27:05 @monitor.py:467]\u001b[0m GAN_loss/kl_div: 0.058579\n",
      "\u001b[32m[1022 14:27:05 @monitor.py:467]\u001b[0m QueueInput/queue_size: 50\n",
      "\u001b[32m[1022 14:27:05 @base.py:275]\u001b[0m Start Epoch 589 ...\n"
     ]
    },
    {
     "name": "stderr",
     "output_type": "stream",
     "text": [
      "\n",
      "100%|###################################################################################|175/175[00:06<00:00,27.53it/s]"
     ]
    },
    {
     "name": "stdout",
     "output_type": "stream",
     "text": [
      "\u001b[32m[1022 14:27:11 @base.py:285]\u001b[0m Epoch 589 (global_step 123689) finished, time:6.36 seconds.\n",
      "\u001b[32m[1022 14:27:11 @saver.py:79]\u001b[0m Model saved to ../output/Chicago/DATWGAN_30/model\\model-123689.\n",
      "\u001b[32m[1022 14:27:11 @monitor.py:467]\u001b[0m GAN_loss/d_loss: -0.045406\n",
      "\u001b[32m[1022 14:27:11 @monitor.py:467]\u001b[0m GAN_loss/g_loss: 0.42344\n",
      "\u001b[32m[1022 14:27:11 @monitor.py:467]\u001b[0m GAN_loss/gradient_penalty: 0.0052438\n",
      "\u001b[32m[1022 14:27:11 @monitor.py:467]\u001b[0m GAN_loss/gradient_rms: 0.99957\n",
      "\u001b[32m[1022 14:27:11 @monitor.py:467]\u001b[0m GAN_loss/kl_div: 0.058742\n",
      "\u001b[32m[1022 14:27:11 @monitor.py:467]\u001b[0m QueueInput/queue_size: 50\n",
      "\u001b[32m[1022 14:27:11 @base.py:275]\u001b[0m Start Epoch 590 ...\n"
     ]
    },
    {
     "name": "stderr",
     "output_type": "stream",
     "text": [
      "\n",
      "100%|###################################################################################|175/175[00:06<00:00,27.66it/s]"
     ]
    },
    {
     "name": "stdout",
     "output_type": "stream",
     "text": [
      "\u001b[32m[1022 14:27:17 @base.py:285]\u001b[0m Epoch 590 (global_step 123899) finished, time:6.33 seconds.\n",
      "\u001b[32m[1022 14:27:17 @saver.py:79]\u001b[0m Model saved to ../output/Chicago/DATWGAN_30/model\\model-123899.\n",
      "\u001b[32m[1022 14:27:18 @monitor.py:467]\u001b[0m GAN_loss/d_loss: -0.052467\n",
      "\u001b[32m[1022 14:27:18 @monitor.py:467]\u001b[0m GAN_loss/g_loss: 0.43208\n",
      "\u001b[32m[1022 14:27:18 @monitor.py:467]\u001b[0m GAN_loss/gradient_penalty: 0.0052609\n",
      "\u001b[32m[1022 14:27:18 @monitor.py:467]\u001b[0m GAN_loss/gradient_rms: 0.99881\n",
      "\u001b[32m[1022 14:27:18 @monitor.py:467]\u001b[0m GAN_loss/kl_div: 0.060303\n",
      "\u001b[32m[1022 14:27:18 @monitor.py:467]\u001b[0m QueueInput/queue_size: 50\n",
      "\u001b[32m[1022 14:27:18 @base.py:275]\u001b[0m Start Epoch 591 ...\n"
     ]
    },
    {
     "name": "stderr",
     "output_type": "stream",
     "text": [
      "\n",
      "100%|###################################################################################|175/175[00:06<00:00,27.67it/s]"
     ]
    },
    {
     "name": "stdout",
     "output_type": "stream",
     "text": [
      "\u001b[32m[1022 14:27:24 @base.py:285]\u001b[0m Epoch 591 (global_step 124109) finished, time:6.33 seconds.\n",
      "\u001b[32m[1022 14:27:24 @saver.py:79]\u001b[0m Model saved to ../output/Chicago/DATWGAN_30/model\\model-124109.\n",
      "\u001b[32m[1022 14:27:24 @monitor.py:467]\u001b[0m GAN_loss/d_loss: -0.042216\n",
      "\u001b[32m[1022 14:27:24 @monitor.py:467]\u001b[0m GAN_loss/g_loss: 0.42912\n",
      "\u001b[32m[1022 14:27:24 @monitor.py:467]\u001b[0m GAN_loss/gradient_penalty: 0.0052526\n",
      "\u001b[32m[1022 14:27:24 @monitor.py:467]\u001b[0m GAN_loss/gradient_rms: 0.99964\n",
      "\u001b[32m[1022 14:27:24 @monitor.py:467]\u001b[0m GAN_loss/kl_div: 0.053509\n",
      "\u001b[32m[1022 14:27:24 @monitor.py:467]\u001b[0m QueueInput/queue_size: 50\n",
      "\u001b[32m[1022 14:27:24 @base.py:275]\u001b[0m Start Epoch 592 ...\n"
     ]
    },
    {
     "name": "stderr",
     "output_type": "stream",
     "text": [
      "\n",
      "100%|###################################################################################|175/175[00:06<00:00,27.66it/s]"
     ]
    },
    {
     "name": "stdout",
     "output_type": "stream",
     "text": [
      "\u001b[32m[1022 14:27:30 @base.py:285]\u001b[0m Epoch 592 (global_step 124319) finished, time:6.33 seconds.\n",
      "\u001b[32m[1022 14:27:30 @saver.py:79]\u001b[0m Model saved to ../output/Chicago/DATWGAN_30/model\\model-124319.\n",
      "\u001b[32m[1022 14:27:31 @monitor.py:467]\u001b[0m GAN_loss/d_loss: -0.047831\n",
      "\u001b[32m[1022 14:27:31 @monitor.py:467]\u001b[0m GAN_loss/g_loss: 0.42344\n",
      "\u001b[32m[1022 14:27:31 @monitor.py:467]\u001b[0m GAN_loss/gradient_penalty: 0.0051963\n",
      "\u001b[32m[1022 14:27:31 @monitor.py:467]\u001b[0m GAN_loss/gradient_rms: 0.99813\n",
      "\u001b[32m[1022 14:27:31 @monitor.py:467]\u001b[0m GAN_loss/kl_div: 0.061098\n",
      "\u001b[32m[1022 14:27:31 @monitor.py:467]\u001b[0m QueueInput/queue_size: 50\n",
      "\u001b[32m[1022 14:27:31 @base.py:275]\u001b[0m Start Epoch 593 ...\n"
     ]
    },
    {
     "name": "stderr",
     "output_type": "stream",
     "text": [
      "\n",
      "100%|###################################################################################|175/175[00:06<00:00,27.66it/s]"
     ]
    },
    {
     "name": "stdout",
     "output_type": "stream",
     "text": [
      "\u001b[32m[1022 14:27:37 @base.py:285]\u001b[0m Epoch 593 (global_step 124529) finished, time:6.33 seconds.\n",
      "\u001b[32m[1022 14:27:37 @saver.py:79]\u001b[0m Model saved to ../output/Chicago/DATWGAN_30/model\\model-124529.\n",
      "\u001b[32m[1022 14:27:37 @monitor.py:467]\u001b[0m GAN_loss/d_loss: -0.040559\n",
      "\u001b[32m[1022 14:27:37 @monitor.py:467]\u001b[0m GAN_loss/g_loss: 0.42664\n",
      "\u001b[32m[1022 14:27:37 @monitor.py:467]\u001b[0m GAN_loss/gradient_penalty: 0.0053166\n",
      "\u001b[32m[1022 14:27:37 @monitor.py:467]\u001b[0m GAN_loss/gradient_rms: 1.0008\n",
      "\u001b[32m[1022 14:27:37 @monitor.py:467]\u001b[0m GAN_loss/kl_div: 0.060711\n",
      "\u001b[32m[1022 14:27:37 @monitor.py:467]\u001b[0m QueueInput/queue_size: 50\n",
      "\u001b[32m[1022 14:27:37 @base.py:275]\u001b[0m Start Epoch 594 ...\n"
     ]
    },
    {
     "name": "stderr",
     "output_type": "stream",
     "text": [
      "\n",
      "100%|###################################################################################|175/175[00:06<00:00,27.63it/s]"
     ]
    },
    {
     "name": "stdout",
     "output_type": "stream",
     "text": [
      "\u001b[32m[1022 14:27:43 @base.py:285]\u001b[0m Epoch 594 (global_step 124739) finished, time:6.33 seconds.\n",
      "\u001b[32m[1022 14:27:43 @saver.py:79]\u001b[0m Model saved to ../output/Chicago/DATWGAN_30/model\\model-124739.\n",
      "\u001b[32m[1022 14:27:43 @monitor.py:467]\u001b[0m GAN_loss/d_loss: -0.041606\n",
      "\u001b[32m[1022 14:27:43 @monitor.py:467]\u001b[0m GAN_loss/g_loss: 0.42824\n",
      "\u001b[32m[1022 14:27:43 @monitor.py:467]\u001b[0m GAN_loss/gradient_penalty: 0.0052671\n",
      "\u001b[32m[1022 14:27:43 @monitor.py:467]\u001b[0m GAN_loss/gradient_rms: 0.99797\n",
      "\u001b[32m[1022 14:27:43 @monitor.py:467]\u001b[0m GAN_loss/kl_div: 0.058677\n",
      "\u001b[32m[1022 14:27:43 @monitor.py:467]\u001b[0m QueueInput/queue_size: 50\n",
      "\u001b[32m[1022 14:27:43 @base.py:275]\u001b[0m Start Epoch 595 ...\n"
     ]
    },
    {
     "name": "stderr",
     "output_type": "stream",
     "text": [
      "\n",
      "100%|###################################################################################|175/175[00:06<00:00,27.68it/s]"
     ]
    },
    {
     "name": "stdout",
     "output_type": "stream",
     "text": [
      "\u001b[32m[1022 14:27:50 @base.py:285]\u001b[0m Epoch 595 (global_step 124949) finished, time:6.32 seconds.\n",
      "\u001b[32m[1022 14:27:50 @saver.py:79]\u001b[0m Model saved to ../output/Chicago/DATWGAN_30/model\\model-124949.\n",
      "\u001b[32m[1022 14:27:50 @monitor.py:467]\u001b[0m GAN_loss/d_loss: -0.048544\n",
      "\u001b[32m[1022 14:27:50 @monitor.py:467]\u001b[0m GAN_loss/g_loss: 0.43845\n",
      "\u001b[32m[1022 14:27:50 @monitor.py:467]\u001b[0m GAN_loss/gradient_penalty: 0.0052993\n",
      "\u001b[32m[1022 14:27:50 @monitor.py:467]\u001b[0m GAN_loss/gradient_rms: 1.0001\n",
      "\u001b[32m[1022 14:27:50 @monitor.py:467]\u001b[0m GAN_loss/kl_div: 0.058517\n",
      "\u001b[32m[1022 14:27:50 @monitor.py:467]\u001b[0m QueueInput/queue_size: 50\n",
      "\u001b[32m[1022 14:27:50 @base.py:275]\u001b[0m Start Epoch 596 ...\n"
     ]
    },
    {
     "name": "stderr",
     "output_type": "stream",
     "text": [
      "\n",
      "100%|###################################################################################|175/175[00:06<00:00,27.68it/s]"
     ]
    },
    {
     "name": "stdout",
     "output_type": "stream",
     "text": [
      "\u001b[32m[1022 14:27:56 @base.py:285]\u001b[0m Epoch 596 (global_step 125159) finished, time:6.32 seconds.\n",
      "\u001b[32m[1022 14:27:56 @saver.py:79]\u001b[0m Model saved to ../output/Chicago/DATWGAN_30/model\\model-125159.\n",
      "\u001b[32m[1022 14:27:56 @monitor.py:467]\u001b[0m GAN_loss/d_loss: -0.054799\n",
      "\u001b[32m[1022 14:27:56 @monitor.py:467]\u001b[0m GAN_loss/g_loss: 0.43879\n",
      "\u001b[32m[1022 14:27:56 @monitor.py:467]\u001b[0m GAN_loss/gradient_penalty: 0.0052743\n",
      "\u001b[32m[1022 14:27:56 @monitor.py:467]\u001b[0m GAN_loss/gradient_rms: 0.99849\n",
      "\u001b[32m[1022 14:27:56 @monitor.py:467]\u001b[0m GAN_loss/kl_div: 0.057255\n",
      "\u001b[32m[1022 14:27:56 @monitor.py:467]\u001b[0m QueueInput/queue_size: 50\n",
      "\u001b[32m[1022 14:27:56 @base.py:275]\u001b[0m Start Epoch 597 ...\n"
     ]
    },
    {
     "name": "stderr",
     "output_type": "stream",
     "text": [
      "\n",
      "100%|###################################################################################|175/175[00:06<00:00,27.69it/s]"
     ]
    },
    {
     "name": "stdout",
     "output_type": "stream",
     "text": [
      "\u001b[32m[1022 14:28:03 @base.py:285]\u001b[0m Epoch 597 (global_step 125369) finished, time:6.32 seconds.\n",
      "\u001b[32m[1022 14:28:03 @saver.py:79]\u001b[0m Model saved to ../output/Chicago/DATWGAN_30/model\\model-125369.\n",
      "\u001b[32m[1022 14:28:03 @monitor.py:467]\u001b[0m GAN_loss/d_loss: -0.040994\n",
      "\u001b[32m[1022 14:28:03 @monitor.py:467]\u001b[0m GAN_loss/g_loss: 0.43087\n",
      "\u001b[32m[1022 14:28:03 @monitor.py:467]\u001b[0m GAN_loss/gradient_penalty: 0.0052486\n",
      "\u001b[32m[1022 14:28:03 @monitor.py:467]\u001b[0m GAN_loss/gradient_rms: 0.99915\n",
      "\u001b[32m[1022 14:28:03 @monitor.py:467]\u001b[0m GAN_loss/kl_div: 0.055798\n",
      "\u001b[32m[1022 14:28:03 @monitor.py:467]\u001b[0m QueueInput/queue_size: 50\n",
      "\u001b[32m[1022 14:28:03 @base.py:275]\u001b[0m Start Epoch 598 ...\n"
     ]
    },
    {
     "name": "stderr",
     "output_type": "stream",
     "text": [
      "\n",
      "100%|###################################################################################|175/175[00:06<00:00,27.70it/s]"
     ]
    },
    {
     "name": "stdout",
     "output_type": "stream",
     "text": [
      "\u001b[32m[1022 14:28:09 @base.py:285]\u001b[0m Epoch 598 (global_step 125579) finished, time:6.32 seconds.\n",
      "\u001b[32m[1022 14:28:09 @saver.py:79]\u001b[0m Model saved to ../output/Chicago/DATWGAN_30/model\\model-125579.\n",
      "\u001b[32m[1022 14:28:09 @monitor.py:467]\u001b[0m GAN_loss/d_loss: -0.047403\n",
      "\u001b[32m[1022 14:28:09 @monitor.py:467]\u001b[0m GAN_loss/g_loss: 0.43287\n",
      "\u001b[32m[1022 14:28:09 @monitor.py:467]\u001b[0m GAN_loss/gradient_penalty: 0.0051996\n",
      "\u001b[32m[1022 14:28:09 @monitor.py:467]\u001b[0m GAN_loss/gradient_rms: 0.99983\n",
      "\u001b[32m[1022 14:28:09 @monitor.py:467]\u001b[0m GAN_loss/kl_div: 0.056221\n",
      "\u001b[32m[1022 14:28:09 @monitor.py:467]\u001b[0m QueueInput/queue_size: 50\n",
      "\u001b[32m[1022 14:28:09 @base.py:275]\u001b[0m Start Epoch 599 ...\n"
     ]
    },
    {
     "name": "stderr",
     "output_type": "stream",
     "text": [
      "\n",
      "100%|###################################################################################|175/175[00:06<00:00,27.67it/s]"
     ]
    },
    {
     "name": "stdout",
     "output_type": "stream",
     "text": [
      "\u001b[32m[1022 14:28:16 @base.py:285]\u001b[0m Epoch 599 (global_step 125789) finished, time:6.32 seconds.\n",
      "\u001b[32m[1022 14:28:16 @saver.py:79]\u001b[0m Model saved to ../output/Chicago/DATWGAN_30/model\\model-125789.\n",
      "\u001b[32m[1022 14:28:16 @monitor.py:467]\u001b[0m GAN_loss/d_loss: -0.037771\n",
      "\u001b[32m[1022 14:28:16 @monitor.py:467]\u001b[0m GAN_loss/g_loss: 0.43543\n",
      "\u001b[32m[1022 14:28:16 @monitor.py:467]\u001b[0m GAN_loss/gradient_penalty: 0.005417\n",
      "\u001b[32m[1022 14:28:16 @monitor.py:467]\u001b[0m GAN_loss/gradient_rms: 1.0011\n",
      "\u001b[32m[1022 14:28:16 @monitor.py:467]\u001b[0m GAN_loss/kl_div: 0.058505\n",
      "\u001b[32m[1022 14:28:16 @monitor.py:467]\u001b[0m QueueInput/queue_size: 50\n",
      "\u001b[32m[1022 14:28:16 @base.py:275]\u001b[0m Start Epoch 600 ...\n"
     ]
    },
    {
     "name": "stderr",
     "output_type": "stream",
     "text": [
      "\n",
      "100%|###################################################################################|175/175[00:06<00:00,27.61it/s]"
     ]
    },
    {
     "name": "stdout",
     "output_type": "stream",
     "text": [
      "\u001b[32m[1022 14:28:22 @base.py:285]\u001b[0m Epoch 600 (global_step 125999) finished, time:6.34 seconds.\n",
      "\u001b[32m[1022 14:28:22 @saver.py:79]\u001b[0m Model saved to ../output/Chicago/DATWGAN_30/model\\model-125999.\n",
      "\u001b[32m[1022 14:28:22 @monitor.py:467]\u001b[0m GAN_loss/d_loss: -0.044104\n",
      "\u001b[32m[1022 14:28:22 @monitor.py:467]\u001b[0m GAN_loss/g_loss: 0.4372\n",
      "\u001b[32m[1022 14:28:22 @monitor.py:467]\u001b[0m GAN_loss/gradient_penalty: 0.0051473\n",
      "\u001b[32m[1022 14:28:22 @monitor.py:467]\u001b[0m GAN_loss/gradient_rms: 1\n",
      "\u001b[32m[1022 14:28:22 @monitor.py:467]\u001b[0m GAN_loss/kl_div: 0.059983\n",
      "\u001b[32m[1022 14:28:22 @monitor.py:467]\u001b[0m QueueInput/queue_size: 50\n",
      "\u001b[32m[1022 14:28:22 @base.py:275]\u001b[0m Start Epoch 601 ...\n"
     ]
    },
    {
     "name": "stderr",
     "output_type": "stream",
     "text": [
      "\n",
      "100%|###################################################################################|175/175[00:06<00:00,27.63it/s]"
     ]
    },
    {
     "name": "stdout",
     "output_type": "stream",
     "text": [
      "\u001b[32m[1022 14:28:29 @base.py:285]\u001b[0m Epoch 601 (global_step 126209) finished, time:6.33 seconds.\n",
      "\u001b[32m[1022 14:28:29 @saver.py:79]\u001b[0m Model saved to ../output/Chicago/DATWGAN_30/model\\model-126209.\n",
      "\u001b[32m[1022 14:28:29 @monitor.py:467]\u001b[0m GAN_loss/d_loss: -0.040216\n",
      "\u001b[32m[1022 14:28:29 @monitor.py:467]\u001b[0m GAN_loss/g_loss: 0.42941\n",
      "\u001b[32m[1022 14:28:29 @monitor.py:467]\u001b[0m GAN_loss/gradient_penalty: 0.0051714\n",
      "\u001b[32m[1022 14:28:29 @monitor.py:467]\u001b[0m GAN_loss/gradient_rms: 0.99926\n",
      "\u001b[32m[1022 14:28:29 @monitor.py:467]\u001b[0m GAN_loss/kl_div: 0.059027\n",
      "\u001b[32m[1022 14:28:29 @monitor.py:467]\u001b[0m QueueInput/queue_size: 50\n",
      "\u001b[32m[1022 14:28:29 @base.py:275]\u001b[0m Start Epoch 602 ...\n"
     ]
    },
    {
     "name": "stderr",
     "output_type": "stream",
     "text": [
      "\n",
      "100%|###################################################################################|175/175[00:06<00:00,27.66it/s]"
     ]
    },
    {
     "name": "stdout",
     "output_type": "stream",
     "text": [
      "\u001b[32m[1022 14:28:35 @base.py:285]\u001b[0m Epoch 602 (global_step 126419) finished, time:6.33 seconds.\n",
      "\u001b[32m[1022 14:28:35 @saver.py:79]\u001b[0m Model saved to ../output/Chicago/DATWGAN_30/model\\model-126419.\n",
      "\u001b[32m[1022 14:28:35 @monitor.py:467]\u001b[0m GAN_loss/d_loss: -0.053679\n",
      "\u001b[32m[1022 14:28:35 @monitor.py:467]\u001b[0m GAN_loss/g_loss: 0.42614\n",
      "\u001b[32m[1022 14:28:35 @monitor.py:467]\u001b[0m GAN_loss/gradient_penalty: 0.0053311\n",
      "\u001b[32m[1022 14:28:35 @monitor.py:467]\u001b[0m GAN_loss/gradient_rms: 1.0007\n",
      "\u001b[32m[1022 14:28:35 @monitor.py:467]\u001b[0m GAN_loss/kl_div: 0.057981\n",
      "\u001b[32m[1022 14:28:35 @monitor.py:467]\u001b[0m QueueInput/queue_size: 50\n",
      "\u001b[32m[1022 14:28:35 @base.py:275]\u001b[0m Start Epoch 603 ...\n"
     ]
    },
    {
     "name": "stderr",
     "output_type": "stream",
     "text": [
      "\n",
      "100%|###################################################################################|175/175[00:06<00:00,27.66it/s]"
     ]
    },
    {
     "name": "stdout",
     "output_type": "stream",
     "text": [
      "\u001b[32m[1022 14:28:42 @base.py:285]\u001b[0m Epoch 603 (global_step 126629) finished, time:6.33 seconds.\n",
      "\u001b[32m[1022 14:28:42 @saver.py:79]\u001b[0m Model saved to ../output/Chicago/DATWGAN_30/model\\model-126629.\n",
      "\u001b[32m[1022 14:28:42 @monitor.py:467]\u001b[0m GAN_loss/d_loss: -0.044326\n",
      "\u001b[32m[1022 14:28:42 @monitor.py:467]\u001b[0m GAN_loss/g_loss: 0.42459\n",
      "\u001b[32m[1022 14:28:42 @monitor.py:467]\u001b[0m GAN_loss/gradient_penalty: 0.0051878\n",
      "\u001b[32m[1022 14:28:42 @monitor.py:467]\u001b[0m GAN_loss/gradient_rms: 0.99983\n",
      "\u001b[32m[1022 14:28:42 @monitor.py:467]\u001b[0m GAN_loss/kl_div: 0.059319\n",
      "\u001b[32m[1022 14:28:42 @monitor.py:467]\u001b[0m QueueInput/queue_size: 50\n",
      "\u001b[32m[1022 14:28:42 @base.py:275]\u001b[0m Start Epoch 604 ...\n"
     ]
    },
    {
     "name": "stderr",
     "output_type": "stream",
     "text": [
      "\n",
      "100%|###################################################################################|175/175[00:06<00:00,27.67it/s]"
     ]
    },
    {
     "name": "stdout",
     "output_type": "stream",
     "text": [
      "\u001b[32m[1022 14:28:48 @base.py:285]\u001b[0m Epoch 604 (global_step 126839) finished, time:6.33 seconds.\n",
      "\u001b[32m[1022 14:28:48 @saver.py:79]\u001b[0m Model saved to ../output/Chicago/DATWGAN_30/model\\model-126839.\n",
      "\u001b[32m[1022 14:28:48 @monitor.py:467]\u001b[0m GAN_loss/d_loss: -0.037837\n",
      "\u001b[32m[1022 14:28:48 @monitor.py:467]\u001b[0m GAN_loss/g_loss: 0.42735\n",
      "\u001b[32m[1022 14:28:48 @monitor.py:467]\u001b[0m GAN_loss/gradient_penalty: 0.0053202\n",
      "\u001b[32m[1022 14:28:48 @monitor.py:467]\u001b[0m GAN_loss/gradient_rms: 0.99842\n",
      "\u001b[32m[1022 14:28:48 @monitor.py:467]\u001b[0m GAN_loss/kl_div: 0.056845\n",
      "\u001b[32m[1022 14:28:48 @monitor.py:467]\u001b[0m QueueInput/queue_size: 50\n",
      "\u001b[32m[1022 14:28:48 @base.py:275]\u001b[0m Start Epoch 605 ...\n"
     ]
    },
    {
     "name": "stderr",
     "output_type": "stream",
     "text": [
      "\n",
      "100%|###################################################################################|175/175[00:06<00:00,27.67it/s]"
     ]
    },
    {
     "name": "stdout",
     "output_type": "stream",
     "text": [
      "\u001b[32m[1022 14:28:55 @base.py:285]\u001b[0m Epoch 605 (global_step 127049) finished, time:6.33 seconds.\n",
      "\u001b[32m[1022 14:28:55 @saver.py:79]\u001b[0m Model saved to ../output/Chicago/DATWGAN_30/model\\model-127049.\n",
      "\u001b[32m[1022 14:28:55 @monitor.py:467]\u001b[0m GAN_loss/d_loss: -0.044336\n",
      "\u001b[32m[1022 14:28:55 @monitor.py:467]\u001b[0m GAN_loss/g_loss: 0.42548\n",
      "\u001b[32m[1022 14:28:55 @monitor.py:467]\u001b[0m GAN_loss/gradient_penalty: 0.0051623\n",
      "\u001b[32m[1022 14:28:55 @monitor.py:467]\u001b[0m GAN_loss/gradient_rms: 1.0011\n",
      "\u001b[32m[1022 14:28:55 @monitor.py:467]\u001b[0m GAN_loss/kl_div: 0.05914\n",
      "\u001b[32m[1022 14:28:55 @monitor.py:467]\u001b[0m QueueInput/queue_size: 50\n",
      "\u001b[32m[1022 14:28:55 @base.py:275]\u001b[0m Start Epoch 606 ...\n"
     ]
    },
    {
     "name": "stderr",
     "output_type": "stream",
     "text": [
      "\n",
      "100%|###################################################################################|175/175[00:06<00:00,27.69it/s]"
     ]
    },
    {
     "name": "stdout",
     "output_type": "stream",
     "text": [
      "\u001b[32m[1022 14:29:01 @base.py:285]\u001b[0m Epoch 606 (global_step 127259) finished, time:6.32 seconds.\n",
      "\u001b[32m[1022 14:29:01 @saver.py:79]\u001b[0m Model saved to ../output/Chicago/DATWGAN_30/model\\model-127259.\n",
      "\u001b[32m[1022 14:29:01 @monitor.py:467]\u001b[0m GAN_loss/d_loss: -0.045185\n",
      "\u001b[32m[1022 14:29:01 @monitor.py:467]\u001b[0m GAN_loss/g_loss: 0.42599\n",
      "\u001b[32m[1022 14:29:01 @monitor.py:467]\u001b[0m GAN_loss/gradient_penalty: 0.0052336\n",
      "\u001b[32m[1022 14:29:01 @monitor.py:467]\u001b[0m GAN_loss/gradient_rms: 0.99869\n",
      "\u001b[32m[1022 14:29:01 @monitor.py:467]\u001b[0m GAN_loss/kl_div: 0.061394\n",
      "\u001b[32m[1022 14:29:01 @monitor.py:467]\u001b[0m QueueInput/queue_size: 50\n",
      "\u001b[32m[1022 14:29:01 @base.py:275]\u001b[0m Start Epoch 607 ...\n"
     ]
    },
    {
     "name": "stderr",
     "output_type": "stream",
     "text": [
      "\n",
      "100%|###################################################################################|175/175[00:06<00:00,27.68it/s]"
     ]
    },
    {
     "name": "stdout",
     "output_type": "stream",
     "text": [
      "\u001b[32m[1022 14:29:08 @base.py:285]\u001b[0m Epoch 607 (global_step 127469) finished, time:6.32 seconds.\n",
      "\u001b[32m[1022 14:29:08 @saver.py:79]\u001b[0m Model saved to ../output/Chicago/DATWGAN_30/model\\model-127469.\n",
      "\u001b[32m[1022 14:29:08 @monitor.py:467]\u001b[0m GAN_loss/d_loss: -0.041728\n",
      "\u001b[32m[1022 14:29:08 @monitor.py:467]\u001b[0m GAN_loss/g_loss: 0.42523\n",
      "\u001b[32m[1022 14:29:08 @monitor.py:467]\u001b[0m GAN_loss/gradient_penalty: 0.0052631\n",
      "\u001b[32m[1022 14:29:08 @monitor.py:467]\u001b[0m GAN_loss/gradient_rms: 1.0012\n",
      "\u001b[32m[1022 14:29:08 @monitor.py:467]\u001b[0m GAN_loss/kl_div: 0.062519\n",
      "\u001b[32m[1022 14:29:08 @monitor.py:467]\u001b[0m QueueInput/queue_size: 50\n",
      "\u001b[32m[1022 14:29:08 @base.py:275]\u001b[0m Start Epoch 608 ...\n"
     ]
    },
    {
     "name": "stderr",
     "output_type": "stream",
     "text": [
      "\n",
      "100%|###################################################################################|175/175[00:06<00:00,27.67it/s]"
     ]
    },
    {
     "name": "stdout",
     "output_type": "stream",
     "text": [
      "\u001b[32m[1022 14:29:14 @base.py:285]\u001b[0m Epoch 608 (global_step 127679) finished, time:6.32 seconds.\n",
      "\u001b[32m[1022 14:29:14 @saver.py:79]\u001b[0m Model saved to ../output/Chicago/DATWGAN_30/model\\model-127679.\n",
      "\u001b[32m[1022 14:29:14 @monitor.py:467]\u001b[0m GAN_loss/d_loss: -0.042101\n",
      "\u001b[32m[1022 14:29:14 @monitor.py:467]\u001b[0m GAN_loss/g_loss: 0.42226\n",
      "\u001b[32m[1022 14:29:14 @monitor.py:467]\u001b[0m GAN_loss/gradient_penalty: 0.0051441\n",
      "\u001b[32m[1022 14:29:14 @monitor.py:467]\u001b[0m GAN_loss/gradient_rms: 0.99927\n",
      "\u001b[32m[1022 14:29:14 @monitor.py:467]\u001b[0m GAN_loss/kl_div: 0.061546\n",
      "\u001b[32m[1022 14:29:14 @monitor.py:467]\u001b[0m QueueInput/queue_size: 50\n",
      "\u001b[32m[1022 14:29:14 @base.py:275]\u001b[0m Start Epoch 609 ...\n"
     ]
    },
    {
     "name": "stderr",
     "output_type": "stream",
     "text": [
      "\n",
      "100%|###################################################################################|175/175[00:06<00:00,27.68it/s]"
     ]
    },
    {
     "name": "stdout",
     "output_type": "stream",
     "text": [
      "\u001b[32m[1022 14:29:21 @base.py:285]\u001b[0m Epoch 609 (global_step 127889) finished, time:6.32 seconds.\n",
      "\u001b[32m[1022 14:29:21 @saver.py:79]\u001b[0m Model saved to ../output/Chicago/DATWGAN_30/model\\model-127889.\n",
      "\u001b[32m[1022 14:29:21 @monitor.py:467]\u001b[0m GAN_loss/d_loss: -0.043585\n",
      "\u001b[32m[1022 14:29:21 @monitor.py:467]\u001b[0m GAN_loss/g_loss: 0.42431\n",
      "\u001b[32m[1022 14:29:21 @monitor.py:467]\u001b[0m GAN_loss/gradient_penalty: 0.0051236\n",
      "\u001b[32m[1022 14:29:21 @monitor.py:467]\u001b[0m GAN_loss/gradient_rms: 0.99911\n",
      "\u001b[32m[1022 14:29:21 @monitor.py:467]\u001b[0m GAN_loss/kl_div: 0.062149\n",
      "\u001b[32m[1022 14:29:21 @monitor.py:467]\u001b[0m QueueInput/queue_size: 50\n",
      "\u001b[32m[1022 14:29:21 @base.py:275]\u001b[0m Start Epoch 610 ...\n"
     ]
    },
    {
     "name": "stderr",
     "output_type": "stream",
     "text": [
      "\n",
      "100%|###################################################################################|175/175[00:06<00:00,27.67it/s]"
     ]
    },
    {
     "name": "stdout",
     "output_type": "stream",
     "text": [
      "\u001b[32m[1022 14:29:27 @base.py:285]\u001b[0m Epoch 610 (global_step 128099) finished, time:6.32 seconds.\n",
      "\u001b[32m[1022 14:29:27 @saver.py:79]\u001b[0m Model saved to ../output/Chicago/DATWGAN_30/model\\model-128099.\n",
      "\u001b[32m[1022 14:29:27 @monitor.py:467]\u001b[0m GAN_loss/d_loss: -0.032284\n",
      "\u001b[32m[1022 14:29:27 @monitor.py:467]\u001b[0m GAN_loss/g_loss: 0.42184\n",
      "\u001b[32m[1022 14:29:27 @monitor.py:467]\u001b[0m GAN_loss/gradient_penalty: 0.0052311\n",
      "\u001b[32m[1022 14:29:27 @monitor.py:467]\u001b[0m GAN_loss/gradient_rms: 0.99975\n",
      "\u001b[32m[1022 14:29:27 @monitor.py:467]\u001b[0m GAN_loss/kl_div: 0.063533\n",
      "\u001b[32m[1022 14:29:27 @monitor.py:467]\u001b[0m QueueInput/queue_size: 50\n",
      "\u001b[32m[1022 14:29:27 @base.py:275]\u001b[0m Start Epoch 611 ...\n"
     ]
    },
    {
     "name": "stderr",
     "output_type": "stream",
     "text": [
      "\n",
      "100%|###################################################################################|175/175[00:06<00:00,27.70it/s]"
     ]
    },
    {
     "name": "stdout",
     "output_type": "stream",
     "text": [
      "\u001b[32m[1022 14:29:34 @base.py:285]\u001b[0m Epoch 611 (global_step 128309) finished, time:6.32 seconds.\n",
      "\u001b[32m[1022 14:29:34 @saver.py:79]\u001b[0m Model saved to ../output/Chicago/DATWGAN_30/model\\model-128309.\n",
      "\u001b[32m[1022 14:29:34 @monitor.py:467]\u001b[0m GAN_loss/d_loss: -0.045542\n",
      "\u001b[32m[1022 14:29:34 @monitor.py:467]\u001b[0m GAN_loss/g_loss: 0.42538\n",
      "\u001b[32m[1022 14:29:34 @monitor.py:467]\u001b[0m GAN_loss/gradient_penalty: 0.0053377\n",
      "\u001b[32m[1022 14:29:34 @monitor.py:467]\u001b[0m GAN_loss/gradient_rms: 1.0003\n",
      "\u001b[32m[1022 14:29:34 @monitor.py:467]\u001b[0m GAN_loss/kl_div: 0.062105\n",
      "\u001b[32m[1022 14:29:34 @monitor.py:467]\u001b[0m QueueInput/queue_size: 50\n",
      "\u001b[32m[1022 14:29:34 @base.py:275]\u001b[0m Start Epoch 612 ...\n"
     ]
    },
    {
     "name": "stderr",
     "output_type": "stream",
     "text": [
      "\n",
      "100%|###################################################################################|175/175[00:06<00:00,27.68it/s]"
     ]
    },
    {
     "name": "stdout",
     "output_type": "stream",
     "text": [
      "\u001b[32m[1022 14:29:40 @base.py:285]\u001b[0m Epoch 612 (global_step 128519) finished, time:6.32 seconds.\n",
      "\u001b[32m[1022 14:29:40 @saver.py:79]\u001b[0m Model saved to ../output/Chicago/DATWGAN_30/model\\model-128519.\n",
      "\u001b[32m[1022 14:29:40 @monitor.py:467]\u001b[0m GAN_loss/d_loss: -0.044571\n",
      "\u001b[32m[1022 14:29:40 @monitor.py:467]\u001b[0m GAN_loss/g_loss: 0.42285\n",
      "\u001b[32m[1022 14:29:40 @monitor.py:467]\u001b[0m GAN_loss/gradient_penalty: 0.0053198\n",
      "\u001b[32m[1022 14:29:40 @monitor.py:467]\u001b[0m GAN_loss/gradient_rms: 0.99875\n",
      "\u001b[32m[1022 14:29:40 @monitor.py:467]\u001b[0m GAN_loss/kl_div: 0.062297\n",
      "\u001b[32m[1022 14:29:40 @monitor.py:467]\u001b[0m QueueInput/queue_size: 50\n",
      "\u001b[32m[1022 14:29:40 @base.py:275]\u001b[0m Start Epoch 613 ...\n"
     ]
    },
    {
     "name": "stderr",
     "output_type": "stream",
     "text": [
      "\n",
      "100%|###################################################################################|175/175[00:06<00:00,27.67it/s]"
     ]
    },
    {
     "name": "stdout",
     "output_type": "stream",
     "text": [
      "\u001b[32m[1022 14:29:46 @base.py:285]\u001b[0m Epoch 613 (global_step 128729) finished, time:6.32 seconds.\n",
      "\u001b[32m[1022 14:29:47 @saver.py:79]\u001b[0m Model saved to ../output/Chicago/DATWGAN_30/model\\model-128729.\n",
      "\u001b[32m[1022 14:29:47 @monitor.py:467]\u001b[0m GAN_loss/d_loss: -0.047374\n",
      "\u001b[32m[1022 14:29:47 @monitor.py:467]\u001b[0m GAN_loss/g_loss: 0.42768\n",
      "\u001b[32m[1022 14:29:47 @monitor.py:467]\u001b[0m GAN_loss/gradient_penalty: 0.0051897\n",
      "\u001b[32m[1022 14:29:47 @monitor.py:467]\u001b[0m GAN_loss/gradient_rms: 0.99936\n",
      "\u001b[32m[1022 14:29:47 @monitor.py:467]\u001b[0m GAN_loss/kl_div: 0.060199\n",
      "\u001b[32m[1022 14:29:47 @monitor.py:467]\u001b[0m QueueInput/queue_size: 50\n",
      "\u001b[32m[1022 14:29:47 @base.py:275]\u001b[0m Start Epoch 614 ...\n"
     ]
    },
    {
     "name": "stderr",
     "output_type": "stream",
     "text": [
      "\n",
      "100%|###################################################################################|175/175[00:06<00:00,27.64it/s]"
     ]
    },
    {
     "name": "stdout",
     "output_type": "stream",
     "text": [
      "\u001b[32m[1022 14:29:53 @base.py:285]\u001b[0m Epoch 614 (global_step 128939) finished, time:6.33 seconds.\n",
      "\u001b[32m[1022 14:29:53 @saver.py:79]\u001b[0m Model saved to ../output/Chicago/DATWGAN_30/model\\model-128939.\n",
      "\u001b[32m[1022 14:29:53 @monitor.py:467]\u001b[0m GAN_loss/d_loss: -0.044259\n",
      "\u001b[32m[1022 14:29:53 @monitor.py:467]\u001b[0m GAN_loss/g_loss: 0.42643\n",
      "\u001b[32m[1022 14:29:53 @monitor.py:467]\u001b[0m GAN_loss/gradient_penalty: 0.0051752\n",
      "\u001b[32m[1022 14:29:53 @monitor.py:467]\u001b[0m GAN_loss/gradient_rms: 0.99941\n",
      "\u001b[32m[1022 14:29:53 @monitor.py:467]\u001b[0m GAN_loss/kl_div: 0.059846\n",
      "\u001b[32m[1022 14:29:53 @monitor.py:467]\u001b[0m QueueInput/queue_size: 50\n",
      "\u001b[32m[1022 14:29:53 @base.py:275]\u001b[0m Start Epoch 615 ...\n"
     ]
    },
    {
     "name": "stderr",
     "output_type": "stream",
     "text": [
      "\n",
      "100%|###################################################################################|175/175[00:06<00:00,27.70it/s]"
     ]
    },
    {
     "name": "stdout",
     "output_type": "stream",
     "text": [
      "\u001b[32m[1022 14:29:59 @base.py:285]\u001b[0m Epoch 615 (global_step 129149) finished, time:6.32 seconds.\n",
      "\u001b[32m[1022 14:30:00 @saver.py:79]\u001b[0m Model saved to ../output/Chicago/DATWGAN_30/model\\model-129149.\n",
      "\u001b[32m[1022 14:30:00 @monitor.py:467]\u001b[0m GAN_loss/d_loss: -0.046392\n",
      "\u001b[32m[1022 14:30:00 @monitor.py:467]\u001b[0m GAN_loss/g_loss: 0.41466\n",
      "\u001b[32m[1022 14:30:00 @monitor.py:467]\u001b[0m GAN_loss/gradient_penalty: 0.0053373\n",
      "\u001b[32m[1022 14:30:00 @monitor.py:467]\u001b[0m GAN_loss/gradient_rms: 0.99908\n",
      "\u001b[32m[1022 14:30:00 @monitor.py:467]\u001b[0m GAN_loss/kl_div: 0.059195\n",
      "\u001b[32m[1022 14:30:00 @monitor.py:467]\u001b[0m QueueInput/queue_size: 50\n",
      "\u001b[32m[1022 14:30:00 @base.py:275]\u001b[0m Start Epoch 616 ...\n"
     ]
    },
    {
     "name": "stderr",
     "output_type": "stream",
     "text": [
      "\n",
      "100%|###################################################################################|175/175[00:06<00:00,27.67it/s]"
     ]
    },
    {
     "name": "stdout",
     "output_type": "stream",
     "text": [
      "\u001b[32m[1022 14:30:06 @base.py:285]\u001b[0m Epoch 616 (global_step 129359) finished, time:6.32 seconds.\n",
      "\u001b[32m[1022 14:30:06 @saver.py:79]\u001b[0m Model saved to ../output/Chicago/DATWGAN_30/model\\model-129359.\n",
      "\u001b[32m[1022 14:30:06 @monitor.py:467]\u001b[0m GAN_loss/d_loss: -0.025389\n",
      "\u001b[32m[1022 14:30:06 @monitor.py:467]\u001b[0m GAN_loss/g_loss: 0.41094\n",
      "\u001b[32m[1022 14:30:06 @monitor.py:467]\u001b[0m GAN_loss/gradient_penalty: 0.0053755\n",
      "\u001b[32m[1022 14:30:06 @monitor.py:467]\u001b[0m GAN_loss/gradient_rms: 0.99993\n",
      "\u001b[32m[1022 14:30:06 @monitor.py:467]\u001b[0m GAN_loss/kl_div: 0.056665\n",
      "\u001b[32m[1022 14:30:06 @monitor.py:467]\u001b[0m QueueInput/queue_size: 50\n",
      "\u001b[32m[1022 14:30:06 @base.py:275]\u001b[0m Start Epoch 617 ...\n"
     ]
    },
    {
     "name": "stderr",
     "output_type": "stream",
     "text": [
      "\n",
      "100%|###################################################################################|175/175[00:06<00:00,27.69it/s]"
     ]
    },
    {
     "name": "stdout",
     "output_type": "stream",
     "text": [
      "\u001b[32m[1022 14:30:12 @base.py:285]\u001b[0m Epoch 617 (global_step 129569) finished, time:6.32 seconds.\n",
      "\u001b[32m[1022 14:30:12 @saver.py:79]\u001b[0m Model saved to ../output/Chicago/DATWGAN_30/model\\model-129569.\n",
      "\u001b[32m[1022 14:30:13 @monitor.py:467]\u001b[0m GAN_loss/d_loss: -0.039411\n",
      "\u001b[32m[1022 14:30:13 @monitor.py:467]\u001b[0m GAN_loss/g_loss: 0.41974\n",
      "\u001b[32m[1022 14:30:13 @monitor.py:467]\u001b[0m GAN_loss/gradient_penalty: 0.0052514\n",
      "\u001b[32m[1022 14:30:13 @monitor.py:467]\u001b[0m GAN_loss/gradient_rms: 0.99979\n",
      "\u001b[32m[1022 14:30:13 @monitor.py:467]\u001b[0m GAN_loss/kl_div: 0.062459\n",
      "\u001b[32m[1022 14:30:13 @monitor.py:467]\u001b[0m QueueInput/queue_size: 50\n",
      "\u001b[32m[1022 14:30:13 @base.py:275]\u001b[0m Start Epoch 618 ...\n"
     ]
    },
    {
     "name": "stderr",
     "output_type": "stream",
     "text": [
      "\n",
      "100%|###################################################################################|175/175[00:06<00:00,27.68it/s]"
     ]
    },
    {
     "name": "stdout",
     "output_type": "stream",
     "text": [
      "\u001b[32m[1022 14:30:19 @base.py:285]\u001b[0m Epoch 618 (global_step 129779) finished, time:6.32 seconds.\n",
      "\u001b[32m[1022 14:30:19 @saver.py:79]\u001b[0m Model saved to ../output/Chicago/DATWGAN_30/model\\model-129779.\n",
      "\u001b[32m[1022 14:30:19 @monitor.py:467]\u001b[0m GAN_loss/d_loss: -0.032046\n",
      "\u001b[32m[1022 14:30:19 @monitor.py:467]\u001b[0m GAN_loss/g_loss: 0.40852\n",
      "\u001b[32m[1022 14:30:19 @monitor.py:467]\u001b[0m GAN_loss/gradient_penalty: 0.0053716\n",
      "\u001b[32m[1022 14:30:19 @monitor.py:467]\u001b[0m GAN_loss/gradient_rms: 0.99998\n",
      "\u001b[32m[1022 14:30:19 @monitor.py:467]\u001b[0m GAN_loss/kl_div: 0.05936\n",
      "\u001b[32m[1022 14:30:19 @monitor.py:467]\u001b[0m QueueInput/queue_size: 50\n",
      "\u001b[32m[1022 14:30:19 @base.py:275]\u001b[0m Start Epoch 619 ...\n"
     ]
    },
    {
     "name": "stderr",
     "output_type": "stream",
     "text": [
      "\n",
      "100%|###################################################################################|175/175[00:06<00:00,27.68it/s]"
     ]
    },
    {
     "name": "stdout",
     "output_type": "stream",
     "text": [
      "\u001b[32m[1022 14:30:25 @base.py:285]\u001b[0m Epoch 619 (global_step 129989) finished, time:6.32 seconds.\n",
      "\u001b[32m[1022 14:30:25 @saver.py:79]\u001b[0m Model saved to ../output/Chicago/DATWGAN_30/model\\model-129989.\n",
      "\u001b[32m[1022 14:30:26 @monitor.py:467]\u001b[0m GAN_loss/d_loss: -0.050474\n",
      "\u001b[32m[1022 14:30:26 @monitor.py:467]\u001b[0m GAN_loss/g_loss: 0.42979\n",
      "\u001b[32m[1022 14:30:26 @monitor.py:467]\u001b[0m GAN_loss/gradient_penalty: 0.0051943\n",
      "\u001b[32m[1022 14:30:26 @monitor.py:467]\u001b[0m GAN_loss/gradient_rms: 0.99991\n",
      "\u001b[32m[1022 14:30:26 @monitor.py:467]\u001b[0m GAN_loss/kl_div: 0.059684\n",
      "\u001b[32m[1022 14:30:26 @monitor.py:467]\u001b[0m QueueInput/queue_size: 50\n",
      "\u001b[32m[1022 14:30:26 @base.py:275]\u001b[0m Start Epoch 620 ...\n"
     ]
    },
    {
     "name": "stderr",
     "output_type": "stream",
     "text": [
      "\n",
      "100%|###################################################################################|175/175[00:06<00:00,27.68it/s]"
     ]
    },
    {
     "name": "stdout",
     "output_type": "stream",
     "text": [
      "\u001b[32m[1022 14:30:32 @base.py:285]\u001b[0m Epoch 620 (global_step 130199) finished, time:6.32 seconds.\n",
      "\u001b[32m[1022 14:30:32 @saver.py:79]\u001b[0m Model saved to ../output/Chicago/DATWGAN_30/model\\model-130199.\n",
      "\u001b[32m[1022 14:30:32 @monitor.py:467]\u001b[0m GAN_loss/d_loss: -0.048009\n",
      "\u001b[32m[1022 14:30:32 @monitor.py:467]\u001b[0m GAN_loss/g_loss: 0.42007\n",
      "\u001b[32m[1022 14:30:32 @monitor.py:467]\u001b[0m GAN_loss/gradient_penalty: 0.0052814\n",
      "\u001b[32m[1022 14:30:32 @monitor.py:467]\u001b[0m GAN_loss/gradient_rms: 0.99855\n",
      "\u001b[32m[1022 14:30:32 @monitor.py:467]\u001b[0m GAN_loss/kl_div: 0.060307\n",
      "\u001b[32m[1022 14:30:32 @monitor.py:467]\u001b[0m QueueInput/queue_size: 50\n",
      "\u001b[32m[1022 14:30:32 @base.py:275]\u001b[0m Start Epoch 621 ...\n"
     ]
    },
    {
     "name": "stderr",
     "output_type": "stream",
     "text": [
      "\n",
      "100%|###################################################################################|175/175[00:06<00:00,27.69it/s]"
     ]
    },
    {
     "name": "stdout",
     "output_type": "stream",
     "text": [
      "\u001b[32m[1022 14:30:38 @base.py:285]\u001b[0m Epoch 621 (global_step 130409) finished, time:6.32 seconds.\n",
      "\u001b[32m[1022 14:30:38 @saver.py:79]\u001b[0m Model saved to ../output/Chicago/DATWGAN_30/model\\model-130409.\n",
      "\u001b[32m[1022 14:30:38 @monitor.py:467]\u001b[0m GAN_loss/d_loss: -0.035618\n",
      "\u001b[32m[1022 14:30:38 @monitor.py:467]\u001b[0m GAN_loss/g_loss: 0.40914\n",
      "\u001b[32m[1022 14:30:38 @monitor.py:467]\u001b[0m GAN_loss/gradient_penalty: 0.0052006\n",
      "\u001b[32m[1022 14:30:38 @monitor.py:467]\u001b[0m GAN_loss/gradient_rms: 0.99981\n",
      "\u001b[32m[1022 14:30:38 @monitor.py:467]\u001b[0m GAN_loss/kl_div: 0.06417\n",
      "\u001b[32m[1022 14:30:38 @monitor.py:467]\u001b[0m QueueInput/queue_size: 50\n",
      "\u001b[32m[1022 14:30:38 @base.py:275]\u001b[0m Start Epoch 622 ...\n"
     ]
    },
    {
     "name": "stderr",
     "output_type": "stream",
     "text": [
      "\n",
      "100%|###################################################################################|175/175[00:06<00:00,27.69it/s]"
     ]
    },
    {
     "name": "stdout",
     "output_type": "stream",
     "text": [
      "\u001b[32m[1022 14:30:45 @base.py:285]\u001b[0m Epoch 622 (global_step 130619) finished, time:6.32 seconds.\n",
      "\u001b[32m[1022 14:30:45 @saver.py:79]\u001b[0m Model saved to ../output/Chicago/DATWGAN_30/model\\model-130619.\n",
      "\u001b[32m[1022 14:30:45 @monitor.py:467]\u001b[0m GAN_loss/d_loss: -0.041081\n",
      "\u001b[32m[1022 14:30:45 @monitor.py:467]\u001b[0m GAN_loss/g_loss: 0.40864\n",
      "\u001b[32m[1022 14:30:45 @monitor.py:467]\u001b[0m GAN_loss/gradient_penalty: 0.0052588\n",
      "\u001b[32m[1022 14:30:45 @monitor.py:467]\u001b[0m GAN_loss/gradient_rms: 0.99954\n",
      "\u001b[32m[1022 14:30:45 @monitor.py:467]\u001b[0m GAN_loss/kl_div: 0.062362\n",
      "\u001b[32m[1022 14:30:45 @monitor.py:467]\u001b[0m QueueInput/queue_size: 50\n",
      "\u001b[32m[1022 14:30:45 @base.py:275]\u001b[0m Start Epoch 623 ...\n"
     ]
    },
    {
     "name": "stderr",
     "output_type": "stream",
     "text": [
      "\n",
      "100%|###################################################################################|175/175[00:06<00:00,27.69it/s]"
     ]
    },
    {
     "name": "stdout",
     "output_type": "stream",
     "text": [
      "\u001b[32m[1022 14:30:51 @base.py:285]\u001b[0m Epoch 623 (global_step 130829) finished, time:6.32 seconds.\n",
      "\u001b[32m[1022 14:30:51 @saver.py:79]\u001b[0m Model saved to ../output/Chicago/DATWGAN_30/model\\model-130829.\n",
      "\u001b[32m[1022 14:30:51 @monitor.py:467]\u001b[0m GAN_loss/d_loss: -0.04974\n",
      "\u001b[32m[1022 14:30:51 @monitor.py:467]\u001b[0m GAN_loss/g_loss: 0.41316\n",
      "\u001b[32m[1022 14:30:51 @monitor.py:467]\u001b[0m GAN_loss/gradient_penalty: 0.0052435\n",
      "\u001b[32m[1022 14:30:51 @monitor.py:467]\u001b[0m GAN_loss/gradient_rms: 1.0008\n",
      "\u001b[32m[1022 14:30:51 @monitor.py:467]\u001b[0m GAN_loss/kl_div: 0.056725\n",
      "\u001b[32m[1022 14:30:51 @monitor.py:467]\u001b[0m QueueInput/queue_size: 50\n",
      "\u001b[32m[1022 14:30:51 @base.py:275]\u001b[0m Start Epoch 624 ...\n"
     ]
    },
    {
     "name": "stderr",
     "output_type": "stream",
     "text": [
      "\n",
      "100%|###################################################################################|175/175[00:06<00:00,27.67it/s]"
     ]
    },
    {
     "name": "stdout",
     "output_type": "stream",
     "text": [
      "\u001b[32m[1022 14:30:58 @base.py:285]\u001b[0m Epoch 624 (global_step 131039) finished, time:6.33 seconds.\n",
      "\u001b[32m[1022 14:30:58 @saver.py:79]\u001b[0m Model saved to ../output/Chicago/DATWGAN_30/model\\model-131039.\n",
      "\u001b[32m[1022 14:30:58 @monitor.py:467]\u001b[0m GAN_loss/d_loss: -0.045289\n",
      "\u001b[32m[1022 14:30:58 @monitor.py:467]\u001b[0m GAN_loss/g_loss: 0.40998\n",
      "\u001b[32m[1022 14:30:58 @monitor.py:467]\u001b[0m GAN_loss/gradient_penalty: 0.0051988\n",
      "\u001b[32m[1022 14:30:58 @monitor.py:467]\u001b[0m GAN_loss/gradient_rms: 0.99927\n",
      "\u001b[32m[1022 14:30:58 @monitor.py:467]\u001b[0m GAN_loss/kl_div: 0.057112\n",
      "\u001b[32m[1022 14:30:58 @monitor.py:467]\u001b[0m QueueInput/queue_size: 50\n",
      "\u001b[32m[1022 14:30:58 @base.py:275]\u001b[0m Start Epoch 625 ...\n"
     ]
    },
    {
     "name": "stderr",
     "output_type": "stream",
     "text": [
      "\n",
      "100%|###################################################################################|175/175[00:06<00:00,27.67it/s]"
     ]
    },
    {
     "name": "stdout",
     "output_type": "stream",
     "text": [
      "\u001b[32m[1022 14:31:04 @base.py:285]\u001b[0m Epoch 625 (global_step 131249) finished, time:6.32 seconds.\n",
      "\u001b[32m[1022 14:31:04 @saver.py:79]\u001b[0m Model saved to ../output/Chicago/DATWGAN_30/model\\model-131249.\n",
      "\u001b[32m[1022 14:31:04 @monitor.py:467]\u001b[0m GAN_loss/d_loss: -0.035101\n",
      "\u001b[32m[1022 14:31:04 @monitor.py:467]\u001b[0m GAN_loss/g_loss: 0.41075\n",
      "\u001b[32m[1022 14:31:04 @monitor.py:467]\u001b[0m GAN_loss/gradient_penalty: 0.0052939\n",
      "\u001b[32m[1022 14:31:04 @monitor.py:467]\u001b[0m GAN_loss/gradient_rms: 0.99892\n",
      "\u001b[32m[1022 14:31:04 @monitor.py:467]\u001b[0m GAN_loss/kl_div: 0.057429\n",
      "\u001b[32m[1022 14:31:04 @monitor.py:467]\u001b[0m QueueInput/queue_size: 50\n",
      "\u001b[32m[1022 14:31:04 @base.py:275]\u001b[0m Start Epoch 626 ...\n"
     ]
    },
    {
     "name": "stderr",
     "output_type": "stream",
     "text": [
      "\n",
      "100%|###################################################################################|175/175[00:06<00:00,27.65it/s]"
     ]
    },
    {
     "name": "stdout",
     "output_type": "stream",
     "text": [
      "\u001b[32m[1022 14:31:11 @base.py:285]\u001b[0m Epoch 626 (global_step 131459) finished, time:6.33 seconds.\n",
      "\u001b[32m[1022 14:31:11 @saver.py:79]\u001b[0m Model saved to ../output/Chicago/DATWGAN_30/model\\model-131459.\n",
      "\u001b[32m[1022 14:31:11 @monitor.py:467]\u001b[0m GAN_loss/d_loss: -0.036789\n",
      "\u001b[32m[1022 14:31:11 @monitor.py:467]\u001b[0m GAN_loss/g_loss: 0.41243\n",
      "\u001b[32m[1022 14:31:11 @monitor.py:467]\u001b[0m GAN_loss/gradient_penalty: 0.005276\n",
      "\u001b[32m[1022 14:31:11 @monitor.py:467]\u001b[0m GAN_loss/gradient_rms: 0.99979\n",
      "\u001b[32m[1022 14:31:11 @monitor.py:467]\u001b[0m GAN_loss/kl_div: 0.056715\n",
      "\u001b[32m[1022 14:31:11 @monitor.py:467]\u001b[0m QueueInput/queue_size: 50\n",
      "\u001b[32m[1022 14:31:11 @base.py:275]\u001b[0m Start Epoch 627 ...\n"
     ]
    },
    {
     "name": "stderr",
     "output_type": "stream",
     "text": [
      "\n",
      "100%|###################################################################################|175/175[00:06<00:00,27.68it/s]"
     ]
    },
    {
     "name": "stdout",
     "output_type": "stream",
     "text": [
      "\u001b[32m[1022 14:31:17 @base.py:285]\u001b[0m Epoch 627 (global_step 131669) finished, time:6.32 seconds.\n",
      "\u001b[32m[1022 14:31:17 @saver.py:79]\u001b[0m Model saved to ../output/Chicago/DATWGAN_30/model\\model-131669.\n",
      "\u001b[32m[1022 14:31:17 @monitor.py:467]\u001b[0m GAN_loss/d_loss: -0.054901\n",
      "\u001b[32m[1022 14:31:17 @monitor.py:467]\u001b[0m GAN_loss/g_loss: 0.4205\n",
      "\u001b[32m[1022 14:31:17 @monitor.py:467]\u001b[0m GAN_loss/gradient_penalty: 0.0052684\n",
      "\u001b[32m[1022 14:31:17 @monitor.py:467]\u001b[0m GAN_loss/gradient_rms: 1\n",
      "\u001b[32m[1022 14:31:17 @monitor.py:467]\u001b[0m GAN_loss/kl_div: 0.059369\n",
      "\u001b[32m[1022 14:31:17 @monitor.py:467]\u001b[0m QueueInput/queue_size: 50\n",
      "\u001b[32m[1022 14:31:17 @base.py:275]\u001b[0m Start Epoch 628 ...\n"
     ]
    },
    {
     "name": "stderr",
     "output_type": "stream",
     "text": [
      "\n",
      "100%|###################################################################################|175/175[00:06<00:00,27.69it/s]"
     ]
    },
    {
     "name": "stdout",
     "output_type": "stream",
     "text": [
      "\u001b[32m[1022 14:31:24 @base.py:285]\u001b[0m Epoch 628 (global_step 131879) finished, time:6.32 seconds.\n",
      "\u001b[32m[1022 14:31:24 @saver.py:79]\u001b[0m Model saved to ../output/Chicago/DATWGAN_30/model\\model-131879.\n",
      "\u001b[32m[1022 14:31:24 @monitor.py:467]\u001b[0m GAN_loss/d_loss: -0.057735\n",
      "\u001b[32m[1022 14:31:24 @monitor.py:467]\u001b[0m GAN_loss/g_loss: 0.43099\n",
      "\u001b[32m[1022 14:31:24 @monitor.py:467]\u001b[0m GAN_loss/gradient_penalty: 0.0053116\n",
      "\u001b[32m[1022 14:31:24 @monitor.py:467]\u001b[0m GAN_loss/gradient_rms: 0.9993\n",
      "\u001b[32m[1022 14:31:24 @monitor.py:467]\u001b[0m GAN_loss/kl_div: 0.060399\n",
      "\u001b[32m[1022 14:31:24 @monitor.py:467]\u001b[0m QueueInput/queue_size: 50\n",
      "\u001b[32m[1022 14:31:24 @base.py:275]\u001b[0m Start Epoch 629 ...\n"
     ]
    },
    {
     "name": "stderr",
     "output_type": "stream",
     "text": [
      "\n",
      "100%|###################################################################################|175/175[00:06<00:00,27.66it/s]"
     ]
    },
    {
     "name": "stdout",
     "output_type": "stream",
     "text": [
      "\u001b[32m[1022 14:31:30 @base.py:285]\u001b[0m Epoch 629 (global_step 132089) finished, time:6.33 seconds.\n",
      "\u001b[32m[1022 14:31:30 @saver.py:79]\u001b[0m Model saved to ../output/Chicago/DATWGAN_30/model\\model-132089.\n",
      "\u001b[32m[1022 14:31:30 @monitor.py:467]\u001b[0m GAN_loss/d_loss: -0.042809\n",
      "\u001b[32m[1022 14:31:30 @monitor.py:467]\u001b[0m GAN_loss/g_loss: 0.42236\n",
      "\u001b[32m[1022 14:31:30 @monitor.py:467]\u001b[0m GAN_loss/gradient_penalty: 0.0052995\n",
      "\u001b[32m[1022 14:31:30 @monitor.py:467]\u001b[0m GAN_loss/gradient_rms: 0.99725\n",
      "\u001b[32m[1022 14:31:30 @monitor.py:467]\u001b[0m GAN_loss/kl_div: 0.066622\n",
      "\u001b[32m[1022 14:31:30 @monitor.py:467]\u001b[0m QueueInput/queue_size: 50\n",
      "\u001b[32m[1022 14:31:30 @base.py:275]\u001b[0m Start Epoch 630 ...\n"
     ]
    },
    {
     "name": "stderr",
     "output_type": "stream",
     "text": [
      "\n",
      "100%|###################################################################################|175/175[00:06<00:00,27.68it/s]"
     ]
    },
    {
     "name": "stdout",
     "output_type": "stream",
     "text": [
      "\u001b[32m[1022 14:31:37 @base.py:285]\u001b[0m Epoch 630 (global_step 132299) finished, time:6.32 seconds.\n",
      "\u001b[32m[1022 14:31:37 @saver.py:79]\u001b[0m Model saved to ../output/Chicago/DATWGAN_30/model\\model-132299.\n",
      "\u001b[32m[1022 14:31:37 @monitor.py:467]\u001b[0m GAN_loss/d_loss: -0.031771\n",
      "\u001b[32m[1022 14:31:37 @monitor.py:467]\u001b[0m GAN_loss/g_loss: 0.41433\n",
      "\u001b[32m[1022 14:31:37 @monitor.py:467]\u001b[0m GAN_loss/gradient_penalty: 0.0052359\n",
      "\u001b[32m[1022 14:31:37 @monitor.py:467]\u001b[0m GAN_loss/gradient_rms: 1.0001\n",
      "\u001b[32m[1022 14:31:37 @monitor.py:467]\u001b[0m GAN_loss/kl_div: 0.057654\n",
      "\u001b[32m[1022 14:31:37 @monitor.py:467]\u001b[0m QueueInput/queue_size: 50\n",
      "\u001b[32m[1022 14:31:37 @base.py:275]\u001b[0m Start Epoch 631 ...\n"
     ]
    },
    {
     "name": "stderr",
     "output_type": "stream",
     "text": [
      "\n",
      "100%|###################################################################################|175/175[00:06<00:00,27.68it/s]"
     ]
    },
    {
     "name": "stdout",
     "output_type": "stream",
     "text": [
      "\u001b[32m[1022 14:31:43 @base.py:285]\u001b[0m Epoch 631 (global_step 132509) finished, time:6.32 seconds.\n",
      "\u001b[32m[1022 14:31:43 @saver.py:79]\u001b[0m Model saved to ../output/Chicago/DATWGAN_30/model\\model-132509.\n",
      "\u001b[32m[1022 14:31:43 @monitor.py:467]\u001b[0m GAN_loss/d_loss: -0.03631\n",
      "\u001b[32m[1022 14:31:43 @monitor.py:467]\u001b[0m GAN_loss/g_loss: 0.41145\n",
      "\u001b[32m[1022 14:31:43 @monitor.py:467]\u001b[0m GAN_loss/gradient_penalty: 0.0052957\n",
      "\u001b[32m[1022 14:31:43 @monitor.py:467]\u001b[0m GAN_loss/gradient_rms: 0.99921\n",
      "\u001b[32m[1022 14:31:43 @monitor.py:467]\u001b[0m GAN_loss/kl_div: 0.059184\n",
      "\u001b[32m[1022 14:31:43 @monitor.py:467]\u001b[0m QueueInput/queue_size: 50\n",
      "\u001b[32m[1022 14:31:43 @base.py:275]\u001b[0m Start Epoch 632 ...\n"
     ]
    },
    {
     "name": "stderr",
     "output_type": "stream",
     "text": [
      "\n",
      "100%|###################################################################################|175/175[00:06<00:00,27.67it/s]"
     ]
    },
    {
     "name": "stdout",
     "output_type": "stream",
     "text": [
      "\u001b[32m[1022 14:31:50 @base.py:285]\u001b[0m Epoch 632 (global_step 132719) finished, time:6.33 seconds.\n",
      "\u001b[32m[1022 14:31:50 @saver.py:79]\u001b[0m Model saved to ../output/Chicago/DATWGAN_30/model\\model-132719.\n",
      "\u001b[32m[1022 14:31:50 @monitor.py:467]\u001b[0m GAN_loss/d_loss: -0.035636\n",
      "\u001b[32m[1022 14:31:50 @monitor.py:467]\u001b[0m GAN_loss/g_loss: 0.41046\n",
      "\u001b[32m[1022 14:31:50 @monitor.py:467]\u001b[0m GAN_loss/gradient_penalty: 0.0053331\n",
      "\u001b[32m[1022 14:31:50 @monitor.py:467]\u001b[0m GAN_loss/gradient_rms: 1.0008\n",
      "\u001b[32m[1022 14:31:50 @monitor.py:467]\u001b[0m GAN_loss/kl_div: 0.062498\n",
      "\u001b[32m[1022 14:31:50 @monitor.py:467]\u001b[0m QueueInput/queue_size: 50\n",
      "\u001b[32m[1022 14:31:50 @base.py:275]\u001b[0m Start Epoch 633 ...\n"
     ]
    },
    {
     "name": "stderr",
     "output_type": "stream",
     "text": [
      "\n",
      "100%|###################################################################################|175/175[00:06<00:00,27.68it/s]"
     ]
    },
    {
     "name": "stdout",
     "output_type": "stream",
     "text": [
      "\u001b[32m[1022 14:31:56 @base.py:285]\u001b[0m Epoch 633 (global_step 132929) finished, time:6.32 seconds.\n",
      "\u001b[32m[1022 14:31:56 @saver.py:79]\u001b[0m Model saved to ../output/Chicago/DATWGAN_30/model\\model-132929.\n",
      "\u001b[32m[1022 14:31:56 @monitor.py:467]\u001b[0m GAN_loss/d_loss: -0.042685\n",
      "\u001b[32m[1022 14:31:56 @monitor.py:467]\u001b[0m GAN_loss/g_loss: 0.40463\n",
      "\u001b[32m[1022 14:31:56 @monitor.py:467]\u001b[0m GAN_loss/gradient_penalty: 0.0052028\n",
      "\u001b[32m[1022 14:31:56 @monitor.py:467]\u001b[0m GAN_loss/gradient_rms: 0.9991\n",
      "\u001b[32m[1022 14:31:56 @monitor.py:467]\u001b[0m GAN_loss/kl_div: 0.058829\n",
      "\u001b[32m[1022 14:31:56 @monitor.py:467]\u001b[0m QueueInput/queue_size: 50\n",
      "\u001b[32m[1022 14:31:56 @base.py:275]\u001b[0m Start Epoch 634 ...\n"
     ]
    },
    {
     "name": "stderr",
     "output_type": "stream",
     "text": [
      "\n",
      "100%|###################################################################################|175/175[00:06<00:00,27.67it/s]"
     ]
    },
    {
     "name": "stdout",
     "output_type": "stream",
     "text": [
      "\u001b[32m[1022 14:32:03 @base.py:285]\u001b[0m Epoch 634 (global_step 133139) finished, time:6.33 seconds.\n",
      "\u001b[32m[1022 14:32:03 @saver.py:79]\u001b[0m Model saved to ../output/Chicago/DATWGAN_30/model\\model-133139.\n",
      "\u001b[32m[1022 14:32:03 @monitor.py:467]\u001b[0m GAN_loss/d_loss: -0.037702\n",
      "\u001b[32m[1022 14:32:03 @monitor.py:467]\u001b[0m GAN_loss/g_loss: 0.39998\n",
      "\u001b[32m[1022 14:32:03 @monitor.py:467]\u001b[0m GAN_loss/gradient_penalty: 0.0052539\n",
      "\u001b[32m[1022 14:32:03 @monitor.py:467]\u001b[0m GAN_loss/gradient_rms: 1.0004\n",
      "\u001b[32m[1022 14:32:03 @monitor.py:467]\u001b[0m GAN_loss/kl_div: 0.059312\n",
      "\u001b[32m[1022 14:32:03 @monitor.py:467]\u001b[0m QueueInput/queue_size: 50\n",
      "\u001b[32m[1022 14:32:03 @base.py:275]\u001b[0m Start Epoch 635 ...\n"
     ]
    },
    {
     "name": "stderr",
     "output_type": "stream",
     "text": [
      "\n",
      "100%|###################################################################################|175/175[00:06<00:00,27.68it/s]"
     ]
    },
    {
     "name": "stdout",
     "output_type": "stream",
     "text": [
      "\u001b[32m[1022 14:32:09 @base.py:285]\u001b[0m Epoch 635 (global_step 133349) finished, time:6.32 seconds.\n",
      "\u001b[32m[1022 14:32:09 @saver.py:79]\u001b[0m Model saved to ../output/Chicago/DATWGAN_30/model\\model-133349.\n",
      "\u001b[32m[1022 14:32:09 @monitor.py:467]\u001b[0m GAN_loss/d_loss: -0.040539\n",
      "\u001b[32m[1022 14:32:09 @monitor.py:467]\u001b[0m GAN_loss/g_loss: 0.40032\n",
      "\u001b[32m[1022 14:32:09 @monitor.py:467]\u001b[0m GAN_loss/gradient_penalty: 0.0051469\n",
      "\u001b[32m[1022 14:32:09 @monitor.py:467]\u001b[0m GAN_loss/gradient_rms: 0.99917\n",
      "\u001b[32m[1022 14:32:09 @monitor.py:467]\u001b[0m GAN_loss/kl_div: 0.056401\n",
      "\u001b[32m[1022 14:32:09 @monitor.py:467]\u001b[0m QueueInput/queue_size: 50\n",
      "\u001b[32m[1022 14:32:09 @base.py:275]\u001b[0m Start Epoch 636 ...\n"
     ]
    },
    {
     "name": "stderr",
     "output_type": "stream",
     "text": [
      "\n",
      "100%|###################################################################################|175/175[00:06<00:00,27.69it/s]"
     ]
    },
    {
     "name": "stdout",
     "output_type": "stream",
     "text": [
      "\u001b[32m[1022 14:32:16 @base.py:285]\u001b[0m Epoch 636 (global_step 133559) finished, time:6.32 seconds.\n",
      "\u001b[32m[1022 14:32:16 @saver.py:79]\u001b[0m Model saved to ../output/Chicago/DATWGAN_30/model\\model-133559.\n",
      "\u001b[32m[1022 14:32:16 @monitor.py:467]\u001b[0m GAN_loss/d_loss: -0.040624\n",
      "\u001b[32m[1022 14:32:16 @monitor.py:467]\u001b[0m GAN_loss/g_loss: 0.38701\n",
      "\u001b[32m[1022 14:32:16 @monitor.py:467]\u001b[0m GAN_loss/gradient_penalty: 0.0051758\n",
      "\u001b[32m[1022 14:32:16 @monitor.py:467]\u001b[0m GAN_loss/gradient_rms: 0.99996\n",
      "\u001b[32m[1022 14:32:16 @monitor.py:467]\u001b[0m GAN_loss/kl_div: 0.058588\n",
      "\u001b[32m[1022 14:32:16 @monitor.py:467]\u001b[0m QueueInput/queue_size: 50\n",
      "\u001b[32m[1022 14:32:16 @base.py:275]\u001b[0m Start Epoch 637 ...\n"
     ]
    },
    {
     "name": "stderr",
     "output_type": "stream",
     "text": [
      "\n",
      "100%|###################################################################################|175/175[00:06<00:00,27.70it/s]"
     ]
    },
    {
     "name": "stdout",
     "output_type": "stream",
     "text": [
      "\u001b[32m[1022 14:32:22 @base.py:285]\u001b[0m Epoch 637 (global_step 133769) finished, time:6.32 seconds.\n",
      "\u001b[32m[1022 14:32:22 @saver.py:79]\u001b[0m Model saved to ../output/Chicago/DATWGAN_30/model\\model-133769.\n",
      "\u001b[32m[1022 14:32:22 @monitor.py:467]\u001b[0m GAN_loss/d_loss: -0.032678\n",
      "\u001b[32m[1022 14:32:22 @monitor.py:467]\u001b[0m GAN_loss/g_loss: 0.38163\n",
      "\u001b[32m[1022 14:32:22 @monitor.py:467]\u001b[0m GAN_loss/gradient_penalty: 0.005331\n",
      "\u001b[32m[1022 14:32:22 @monitor.py:467]\u001b[0m GAN_loss/gradient_rms: 1.0002\n",
      "\u001b[32m[1022 14:32:22 @monitor.py:467]\u001b[0m GAN_loss/kl_div: 0.057616\n",
      "\u001b[32m[1022 14:32:22 @monitor.py:467]\u001b[0m QueueInput/queue_size: 50\n",
      "\u001b[32m[1022 14:32:22 @base.py:275]\u001b[0m Start Epoch 638 ...\n"
     ]
    },
    {
     "name": "stderr",
     "output_type": "stream",
     "text": [
      "\n",
      "100%|###################################################################################|175/175[00:06<00:00,27.68it/s]"
     ]
    },
    {
     "name": "stdout",
     "output_type": "stream",
     "text": [
      "\u001b[32m[1022 14:32:29 @base.py:285]\u001b[0m Epoch 638 (global_step 133979) finished, time:6.32 seconds.\n",
      "\u001b[32m[1022 14:32:29 @saver.py:79]\u001b[0m Model saved to ../output/Chicago/DATWGAN_30/model\\model-133979.\n"
     ]
    },
    {
     "name": "stderr",
     "output_type": "stream",
     "text": [
      "\n"
     ]
    },
    {
     "name": "stdout",
     "output_type": "stream",
     "text": [
      "\u001b[32m[1022 14:32:29 @monitor.py:467]\u001b[0m GAN_loss/d_loss: -0.047428\n",
      "\u001b[32m[1022 14:32:29 @monitor.py:467]\u001b[0m GAN_loss/g_loss: 0.39413\n",
      "\u001b[32m[1022 14:32:29 @monitor.py:467]\u001b[0m GAN_loss/gradient_penalty: 0.0052685\n",
      "\u001b[32m[1022 14:32:29 @monitor.py:467]\u001b[0m GAN_loss/gradient_rms: 1.0001\n",
      "\u001b[32m[1022 14:32:29 @monitor.py:467]\u001b[0m GAN_loss/kl_div: 0.055483\n",
      "\u001b[32m[1022 14:32:29 @monitor.py:467]\u001b[0m QueueInput/queue_size: 50\n",
      "\u001b[32m[1022 14:32:29 @base.py:275]\u001b[0m Start Epoch 639 ...\n"
     ]
    },
    {
     "name": "stderr",
     "output_type": "stream",
     "text": [
      "100%|###################################################################################|175/175[00:06<00:00,27.68it/s]"
     ]
    },
    {
     "name": "stdout",
     "output_type": "stream",
     "text": [
      "\u001b[32m[1022 14:32:35 @base.py:285]\u001b[0m Epoch 639 (global_step 134189) finished, time:6.32 seconds.\n",
      "\u001b[32m[1022 14:32:35 @saver.py:79]\u001b[0m Model saved to ../output/Chicago/DATWGAN_30/model\\model-134189.\n",
      "\u001b[32m[1022 14:32:35 @monitor.py:467]\u001b[0m GAN_loss/d_loss: -0.030935\n",
      "\u001b[32m[1022 14:32:35 @monitor.py:467]\u001b[0m GAN_loss/g_loss: 0.38084\n",
      "\u001b[32m[1022 14:32:35 @monitor.py:467]\u001b[0m GAN_loss/gradient_penalty: 0.005349\n",
      "\u001b[32m[1022 14:32:35 @monitor.py:467]\u001b[0m GAN_loss/gradient_rms: 0.99934\n",
      "\u001b[32m[1022 14:32:35 @monitor.py:467]\u001b[0m GAN_loss/kl_div: 0.057663\n",
      "\u001b[32m[1022 14:32:35 @monitor.py:467]\u001b[0m QueueInput/queue_size: 50\n",
      "\u001b[32m[1022 14:32:35 @base.py:275]\u001b[0m Start Epoch 640 ...\n"
     ]
    },
    {
     "name": "stderr",
     "output_type": "stream",
     "text": [
      "\n",
      "100%|###################################################################################|175/175[00:06<00:00,27.67it/s]"
     ]
    },
    {
     "name": "stdout",
     "output_type": "stream",
     "text": [
      "\u001b[32m[1022 14:32:42 @base.py:285]\u001b[0m Epoch 640 (global_step 134399) finished, time:6.32 seconds.\n",
      "\u001b[32m[1022 14:32:42 @saver.py:79]\u001b[0m Model saved to ../output/Chicago/DATWGAN_30/model\\model-134399.\n",
      "\u001b[32m[1022 14:32:42 @monitor.py:467]\u001b[0m GAN_loss/d_loss: -0.038952\n"
     ]
    },
    {
     "name": "stderr",
     "output_type": "stream",
     "text": [
      "\n"
     ]
    },
    {
     "name": "stdout",
     "output_type": "stream",
     "text": [
      "\u001b[32m[1022 14:32:42 @monitor.py:467]\u001b[0m GAN_loss/g_loss: 0.37918\n",
      "\u001b[32m[1022 14:32:42 @monitor.py:467]\u001b[0m GAN_loss/gradient_penalty: 0.0053256\n",
      "\u001b[32m[1022 14:32:42 @monitor.py:467]\u001b[0m GAN_loss/gradient_rms: 1.0008\n",
      "\u001b[32m[1022 14:32:42 @monitor.py:467]\u001b[0m GAN_loss/kl_div: 0.060113\n",
      "\u001b[32m[1022 14:32:42 @monitor.py:467]\u001b[0m QueueInput/queue_size: 50\n",
      "\u001b[32m[1022 14:32:42 @base.py:275]\u001b[0m Start Epoch 641 ...\n"
     ]
    },
    {
     "name": "stderr",
     "output_type": "stream",
     "text": [
      "100%|###################################################################################|175/175[00:06<00:00,27.68it/s]"
     ]
    },
    {
     "name": "stdout",
     "output_type": "stream",
     "text": [
      "\u001b[32m[1022 14:32:48 @base.py:285]\u001b[0m Epoch 641 (global_step 134609) finished, time:6.32 seconds.\n",
      "\u001b[32m[1022 14:32:48 @saver.py:79]\u001b[0m Model saved to ../output/Chicago/DATWGAN_30/model\\model-134609.\n",
      "\u001b[32m[1022 14:32:48 @monitor.py:467]\u001b[0m GAN_loss/d_loss: -0.02699\n",
      "\u001b[32m[1022 14:32:48 @monitor.py:467]\u001b[0m GAN_loss/g_loss: 0.37043\n",
      "\u001b[32m[1022 14:32:48 @monitor.py:467]\u001b[0m GAN_loss/gradient_penalty: 0.0053598\n",
      "\u001b[32m[1022 14:32:48 @monitor.py:467]\u001b[0m GAN_loss/gradient_rms: 0.99901\n",
      "\u001b[32m[1022 14:32:48 @monitor.py:467]\u001b[0m GAN_loss/kl_div: 0.058967\n",
      "\u001b[32m[1022 14:32:48 @monitor.py:467]\u001b[0m QueueInput/queue_size: 50\n",
      "\u001b[32m[1022 14:32:48 @base.py:275]\u001b[0m Start Epoch 642 ...\n"
     ]
    },
    {
     "name": "stderr",
     "output_type": "stream",
     "text": [
      "\n",
      "100%|###################################################################################|175/175[00:06<00:00,27.67it/s]"
     ]
    },
    {
     "name": "stdout",
     "output_type": "stream",
     "text": [
      "\u001b[32m[1022 14:32:55 @base.py:285]\u001b[0m Epoch 642 (global_step 134819) finished, time:6.32 seconds.\n",
      "\u001b[32m[1022 14:32:55 @saver.py:79]\u001b[0m Model saved to ../output/Chicago/DATWGAN_30/model\\model-134819.\n",
      "\u001b[32m[1022 14:32:55 @monitor.py:467]\u001b[0m GAN_loss/d_loss: -0.042271\n",
      "\u001b[32m[1022 14:32:55 @monitor.py:467]\u001b[0m GAN_loss/g_loss: 0.38286\n",
      "\u001b[32m[1022 14:32:55 @monitor.py:467]\u001b[0m GAN_loss/gradient_penalty: 0.0051018\n",
      "\u001b[32m[1022 14:32:55 @monitor.py:467]\u001b[0m GAN_loss/gradient_rms: 0.99944\n",
      "\u001b[32m[1022 14:32:55 @monitor.py:467]\u001b[0m GAN_loss/kl_div: 0.060971\n",
      "\u001b[32m[1022 14:32:55 @monitor.py:467]\u001b[0m QueueInput/queue_size: 50\n",
      "\u001b[32m[1022 14:32:55 @base.py:275]\u001b[0m Start Epoch 643 ...\n"
     ]
    },
    {
     "name": "stderr",
     "output_type": "stream",
     "text": [
      "\n",
      "100%|###################################################################################|175/175[00:06<00:00,27.67it/s]"
     ]
    },
    {
     "name": "stdout",
     "output_type": "stream",
     "text": [
      "\u001b[32m[1022 14:33:01 @base.py:285]\u001b[0m Epoch 643 (global_step 135029) finished, time:6.32 seconds.\n",
      "\u001b[32m[1022 14:33:01 @saver.py:79]\u001b[0m Model saved to ../output/Chicago/DATWGAN_30/model\\model-135029.\n",
      "\u001b[32m[1022 14:33:01 @monitor.py:467]\u001b[0m GAN_loss/d_loss: -0.040652\n",
      "\u001b[32m[1022 14:33:01 @monitor.py:467]\u001b[0m GAN_loss/g_loss: 0.3879\n",
      "\u001b[32m[1022 14:33:01 @monitor.py:467]\u001b[0m GAN_loss/gradient_penalty: 0.0051547\n",
      "\u001b[32m[1022 14:33:01 @monitor.py:467]\u001b[0m GAN_loss/gradient_rms: 0.99985\n",
      "\u001b[32m[1022 14:33:01 @monitor.py:467]\u001b[0m GAN_loss/kl_div: 0.058038\n",
      "\u001b[32m[1022 14:33:01 @monitor.py:467]\u001b[0m QueueInput/queue_size: 50\n",
      "\u001b[32m[1022 14:33:01 @base.py:275]\u001b[0m Start Epoch 644 ...\n"
     ]
    },
    {
     "name": "stderr",
     "output_type": "stream",
     "text": [
      "\n",
      "100%|###################################################################################|175/175[00:06<00:00,27.67it/s]"
     ]
    },
    {
     "name": "stdout",
     "output_type": "stream",
     "text": [
      "\u001b[32m[1022 14:33:07 @base.py:285]\u001b[0m Epoch 644 (global_step 135239) finished, time:6.33 seconds.\n",
      "\u001b[32m[1022 14:33:08 @saver.py:79]\u001b[0m Model saved to ../output/Chicago/DATWGAN_30/model\\model-135239.\n",
      "\u001b[32m[1022 14:33:08 @monitor.py:467]\u001b[0m GAN_loss/d_loss: -0.029591\n",
      "\u001b[32m[1022 14:33:08 @monitor.py:467]\u001b[0m GAN_loss/g_loss: 0.38616\n",
      "\u001b[32m[1022 14:33:08 @monitor.py:467]\u001b[0m GAN_loss/gradient_penalty: 0.0052657\n",
      "\u001b[32m[1022 14:33:08 @monitor.py:467]\u001b[0m GAN_loss/gradient_rms: 1.0008\n",
      "\u001b[32m[1022 14:33:08 @monitor.py:467]\u001b[0m GAN_loss/kl_div: 0.06214\n",
      "\u001b[32m[1022 14:33:08 @monitor.py:467]\u001b[0m QueueInput/queue_size: 50\n",
      "\u001b[32m[1022 14:33:08 @base.py:275]\u001b[0m Start Epoch 645 ...\n"
     ]
    },
    {
     "name": "stderr",
     "output_type": "stream",
     "text": [
      "\n",
      "100%|###################################################################################|175/175[00:06<00:00,27.68it/s]"
     ]
    },
    {
     "name": "stdout",
     "output_type": "stream",
     "text": [
      "\u001b[32m[1022 14:33:14 @base.py:285]\u001b[0m Epoch 645 (global_step 135449) finished, time:6.32 seconds.\n",
      "\u001b[32m[1022 14:33:14 @saver.py:79]\u001b[0m Model saved to ../output/Chicago/DATWGAN_30/model\\model-135449.\n",
      "\u001b[32m[1022 14:33:14 @monitor.py:467]\u001b[0m GAN_loss/d_loss: -0.021825\n",
      "\u001b[32m[1022 14:33:14 @monitor.py:467]\u001b[0m GAN_loss/g_loss: 0.38029\n",
      "\u001b[32m[1022 14:33:14 @monitor.py:467]\u001b[0m GAN_loss/gradient_penalty: 0.0052952\n",
      "\u001b[32m[1022 14:33:14 @monitor.py:467]\u001b[0m GAN_loss/gradient_rms: 1\n",
      "\u001b[32m[1022 14:33:14 @monitor.py:467]\u001b[0m GAN_loss/kl_div: 0.053937\n",
      "\u001b[32m[1022 14:33:14 @monitor.py:467]\u001b[0m QueueInput/queue_size: 50\n",
      "\u001b[32m[1022 14:33:14 @base.py:275]\u001b[0m Start Epoch 646 ...\n"
     ]
    },
    {
     "name": "stderr",
     "output_type": "stream",
     "text": [
      "\n",
      "100%|###################################################################################|175/175[00:06<00:00,27.67it/s]"
     ]
    },
    {
     "name": "stdout",
     "output_type": "stream",
     "text": [
      "\u001b[32m[1022 14:33:20 @base.py:285]\u001b[0m Epoch 646 (global_step 135659) finished, time:6.33 seconds.\n",
      "\u001b[32m[1022 14:33:21 @saver.py:79]\u001b[0m Model saved to ../output/Chicago/DATWGAN_30/model\\model-135659.\n",
      "\u001b[32m[1022 14:33:21 @monitor.py:467]\u001b[0m GAN_loss/d_loss: -0.050607\n",
      "\u001b[32m[1022 14:33:21 @monitor.py:467]\u001b[0m GAN_loss/g_loss: 0.40212\n",
      "\u001b[32m[1022 14:33:21 @monitor.py:467]\u001b[0m GAN_loss/gradient_penalty: 0.0052708\n",
      "\u001b[32m[1022 14:33:21 @monitor.py:467]\u001b[0m GAN_loss/gradient_rms: 1\n",
      "\u001b[32m[1022 14:33:21 @monitor.py:467]\u001b[0m GAN_loss/kl_div: 0.054827\n",
      "\u001b[32m[1022 14:33:21 @monitor.py:467]\u001b[0m QueueInput/queue_size: 50\n",
      "\u001b[32m[1022 14:33:21 @base.py:275]\u001b[0m Start Epoch 647 ...\n"
     ]
    },
    {
     "name": "stderr",
     "output_type": "stream",
     "text": [
      "\n",
      "100%|###################################################################################|175/175[00:06<00:00,27.67it/s]"
     ]
    },
    {
     "name": "stdout",
     "output_type": "stream",
     "text": [
      "\u001b[32m[1022 14:33:27 @base.py:285]\u001b[0m Epoch 647 (global_step 135869) finished, time:6.32 seconds.\n",
      "\u001b[32m[1022 14:33:27 @saver.py:79]\u001b[0m Model saved to ../output/Chicago/DATWGAN_30/model\\model-135869.\n",
      "\u001b[32m[1022 14:33:27 @monitor.py:467]\u001b[0m GAN_loss/d_loss: -0.045473\n",
      "\u001b[32m[1022 14:33:27 @monitor.py:467]\u001b[0m GAN_loss/g_loss: 0.40044\n",
      "\u001b[32m[1022 14:33:27 @monitor.py:467]\u001b[0m GAN_loss/gradient_penalty: 0.0052759\n",
      "\u001b[32m[1022 14:33:27 @monitor.py:467]\u001b[0m GAN_loss/gradient_rms: 0.99854\n",
      "\u001b[32m[1022 14:33:27 @monitor.py:467]\u001b[0m GAN_loss/kl_div: 0.061825\n",
      "\u001b[32m[1022 14:33:27 @monitor.py:467]\u001b[0m QueueInput/queue_size: 50\n",
      "\u001b[32m[1022 14:33:27 @base.py:275]\u001b[0m Start Epoch 648 ...\n"
     ]
    },
    {
     "name": "stderr",
     "output_type": "stream",
     "text": [
      "\n",
      "100%|###################################################################################|175/175[00:06<00:00,27.66it/s]"
     ]
    },
    {
     "name": "stdout",
     "output_type": "stream",
     "text": [
      "\u001b[32m[1022 14:33:33 @base.py:285]\u001b[0m Epoch 648 (global_step 136079) finished, time:6.33 seconds.\n",
      "\u001b[32m[1022 14:33:34 @saver.py:79]\u001b[0m Model saved to ../output/Chicago/DATWGAN_30/model\\model-136079.\n",
      "\u001b[32m[1022 14:33:34 @monitor.py:467]\u001b[0m GAN_loss/d_loss: -0.04577\n",
      "\u001b[32m[1022 14:33:34 @monitor.py:467]\u001b[0m GAN_loss/g_loss: 0.40767\n",
      "\u001b[32m[1022 14:33:34 @monitor.py:467]\u001b[0m GAN_loss/gradient_penalty: 0.0052061\n",
      "\u001b[32m[1022 14:33:34 @monitor.py:467]\u001b[0m GAN_loss/gradient_rms: 0.99938\n",
      "\u001b[32m[1022 14:33:34 @monitor.py:467]\u001b[0m GAN_loss/kl_div: 0.057924\n",
      "\u001b[32m[1022 14:33:34 @monitor.py:467]\u001b[0m QueueInput/queue_size: 50\n",
      "\u001b[32m[1022 14:33:34 @base.py:275]\u001b[0m Start Epoch 649 ...\n"
     ]
    },
    {
     "name": "stderr",
     "output_type": "stream",
     "text": [
      "\n",
      "100%|###################################################################################|175/175[00:06<00:00,27.67it/s]"
     ]
    },
    {
     "name": "stdout",
     "output_type": "stream",
     "text": [
      "\u001b[32m[1022 14:33:40 @base.py:285]\u001b[0m Epoch 649 (global_step 136289) finished, time:6.32 seconds.\n",
      "\u001b[32m[1022 14:33:40 @saver.py:79]\u001b[0m Model saved to ../output/Chicago/DATWGAN_30/model\\model-136289.\n",
      "\u001b[32m[1022 14:33:40 @monitor.py:467]\u001b[0m GAN_loss/d_loss: -0.035734\n",
      "\u001b[32m[1022 14:33:40 @monitor.py:467]\u001b[0m GAN_loss/g_loss: 0.40091\n",
      "\u001b[32m[1022 14:33:40 @monitor.py:467]\u001b[0m GAN_loss/gradient_penalty: 0.0051801\n",
      "\u001b[32m[1022 14:33:40 @monitor.py:467]\u001b[0m GAN_loss/gradient_rms: 0.99919\n",
      "\u001b[32m[1022 14:33:40 @monitor.py:467]\u001b[0m GAN_loss/kl_div: 0.056391\n",
      "\u001b[32m[1022 14:33:40 @monitor.py:467]\u001b[0m QueueInput/queue_size: 50\n",
      "\u001b[32m[1022 14:33:40 @base.py:275]\u001b[0m Start Epoch 650 ...\n"
     ]
    },
    {
     "name": "stderr",
     "output_type": "stream",
     "text": [
      "\n",
      "100%|###################################################################################|175/175[00:06<00:00,27.67it/s]"
     ]
    },
    {
     "name": "stdout",
     "output_type": "stream",
     "text": [
      "\u001b[32m[1022 14:33:46 @base.py:285]\u001b[0m Epoch 650 (global_step 136499) finished, time:6.32 seconds.\n",
      "\u001b[32m[1022 14:33:46 @saver.py:79]\u001b[0m Model saved to ../output/Chicago/DATWGAN_30/model\\model-136499.\n",
      "\u001b[32m[1022 14:33:47 @monitor.py:467]\u001b[0m GAN_loss/d_loss: -0.044768\n",
      "\u001b[32m[1022 14:33:47 @monitor.py:467]\u001b[0m GAN_loss/g_loss: 0.41187\n",
      "\u001b[32m[1022 14:33:47 @monitor.py:467]\u001b[0m GAN_loss/gradient_penalty: 0.0053256\n",
      "\u001b[32m[1022 14:33:47 @monitor.py:467]\u001b[0m GAN_loss/gradient_rms: 0.99963\n",
      "\u001b[32m[1022 14:33:47 @monitor.py:467]\u001b[0m GAN_loss/kl_div: 0.061747\n",
      "\u001b[32m[1022 14:33:47 @monitor.py:467]\u001b[0m QueueInput/queue_size: 50\n",
      "\u001b[32m[1022 14:33:47 @base.py:275]\u001b[0m Start Epoch 651 ...\n"
     ]
    },
    {
     "name": "stderr",
     "output_type": "stream",
     "text": [
      "\n",
      "100%|###################################################################################|175/175[00:06<00:00,27.66it/s]"
     ]
    },
    {
     "name": "stdout",
     "output_type": "stream",
     "text": [
      "\u001b[32m[1022 14:33:53 @base.py:285]\u001b[0m Epoch 651 (global_step 136709) finished, time:6.33 seconds.\n",
      "\u001b[32m[1022 14:33:53 @saver.py:79]\u001b[0m Model saved to ../output/Chicago/DATWGAN_30/model\\model-136709.\n",
      "\u001b[32m[1022 14:33:53 @monitor.py:467]\u001b[0m GAN_loss/d_loss: -0.04265\n",
      "\u001b[32m[1022 14:33:53 @monitor.py:467]\u001b[0m GAN_loss/g_loss: 0.40305\n",
      "\u001b[32m[1022 14:33:53 @monitor.py:467]\u001b[0m GAN_loss/gradient_penalty: 0.005406\n",
      "\u001b[32m[1022 14:33:53 @monitor.py:467]\u001b[0m GAN_loss/gradient_rms: 1.0001\n",
      "\u001b[32m[1022 14:33:53 @monitor.py:467]\u001b[0m GAN_loss/kl_div: 0.056813\n",
      "\u001b[32m[1022 14:33:53 @monitor.py:467]\u001b[0m QueueInput/queue_size: 50\n",
      "\u001b[32m[1022 14:33:53 @base.py:275]\u001b[0m Start Epoch 652 ...\n"
     ]
    },
    {
     "name": "stderr",
     "output_type": "stream",
     "text": [
      "\n",
      "100%|###################################################################################|175/175[00:06<00:00,27.68it/s]"
     ]
    },
    {
     "name": "stdout",
     "output_type": "stream",
     "text": [
      "\u001b[32m[1022 14:33:59 @base.py:285]\u001b[0m Epoch 652 (global_step 136919) finished, time:6.32 seconds.\n",
      "\u001b[32m[1022 14:33:59 @saver.py:79]\u001b[0m Model saved to ../output/Chicago/DATWGAN_30/model\\model-136919.\n",
      "\u001b[32m[1022 14:34:00 @monitor.py:467]\u001b[0m GAN_loss/d_loss: -0.041238\n",
      "\u001b[32m[1022 14:34:00 @monitor.py:467]\u001b[0m GAN_loss/g_loss: 0.40043\n",
      "\u001b[32m[1022 14:34:00 @monitor.py:467]\u001b[0m GAN_loss/gradient_penalty: 0.0051886\n",
      "\u001b[32m[1022 14:34:00 @monitor.py:467]\u001b[0m GAN_loss/gradient_rms: 1.0007\n",
      "\u001b[32m[1022 14:34:00 @monitor.py:467]\u001b[0m GAN_loss/kl_div: 0.060385\n",
      "\u001b[32m[1022 14:34:00 @monitor.py:467]\u001b[0m QueueInput/queue_size: 50\n",
      "\u001b[32m[1022 14:34:00 @base.py:275]\u001b[0m Start Epoch 653 ...\n"
     ]
    },
    {
     "name": "stderr",
     "output_type": "stream",
     "text": [
      "\n",
      "100%|###################################################################################|175/175[00:06<00:00,27.66it/s]"
     ]
    },
    {
     "name": "stdout",
     "output_type": "stream",
     "text": [
      "\u001b[32m[1022 14:34:06 @base.py:285]\u001b[0m Epoch 653 (global_step 137129) finished, time:6.33 seconds.\n",
      "\u001b[32m[1022 14:34:06 @saver.py:79]\u001b[0m Model saved to ../output/Chicago/DATWGAN_30/model\\model-137129.\n",
      "\u001b[32m[1022 14:34:06 @monitor.py:467]\u001b[0m GAN_loss/d_loss: -0.052175\n",
      "\u001b[32m[1022 14:34:06 @monitor.py:467]\u001b[0m GAN_loss/g_loss: 0.39652\n",
      "\u001b[32m[1022 14:34:06 @monitor.py:467]\u001b[0m GAN_loss/gradient_penalty: 0.0053534\n",
      "\u001b[32m[1022 14:34:06 @monitor.py:467]\u001b[0m GAN_loss/gradient_rms: 0.99938\n",
      "\u001b[32m[1022 14:34:06 @monitor.py:467]\u001b[0m GAN_loss/kl_div: 0.060282\n",
      "\u001b[32m[1022 14:34:06 @monitor.py:467]\u001b[0m QueueInput/queue_size: 50\n",
      "\u001b[32m[1022 14:34:06 @base.py:275]\u001b[0m Start Epoch 654 ...\n"
     ]
    },
    {
     "name": "stderr",
     "output_type": "stream",
     "text": [
      "\n",
      "100%|###################################################################################|175/175[00:06<00:00,27.67it/s]"
     ]
    },
    {
     "name": "stdout",
     "output_type": "stream",
     "text": [
      "\u001b[32m[1022 14:34:12 @base.py:285]\u001b[0m Epoch 654 (global_step 137339) finished, time:6.33 seconds.\n",
      "\u001b[32m[1022 14:34:12 @saver.py:79]\u001b[0m Model saved to ../output/Chicago/DATWGAN_30/model\\model-137339.\n",
      "\u001b[32m[1022 14:34:13 @monitor.py:467]\u001b[0m GAN_loss/d_loss: -0.041454\n",
      "\u001b[32m[1022 14:34:13 @monitor.py:467]\u001b[0m GAN_loss/g_loss: 0.39615\n",
      "\u001b[32m[1022 14:34:13 @monitor.py:467]\u001b[0m GAN_loss/gradient_penalty: 0.0052891\n",
      "\u001b[32m[1022 14:34:13 @monitor.py:467]\u001b[0m GAN_loss/gradient_rms: 0.99907\n",
      "\u001b[32m[1022 14:34:13 @monitor.py:467]\u001b[0m GAN_loss/kl_div: 0.061309\n",
      "\u001b[32m[1022 14:34:13 @monitor.py:467]\u001b[0m QueueInput/queue_size: 50\n",
      "\u001b[32m[1022 14:34:13 @base.py:275]\u001b[0m Start Epoch 655 ...\n"
     ]
    },
    {
     "name": "stderr",
     "output_type": "stream",
     "text": [
      "\n",
      "100%|###################################################################################|175/175[00:06<00:00,27.66it/s]"
     ]
    },
    {
     "name": "stdout",
     "output_type": "stream",
     "text": [
      "\u001b[32m[1022 14:34:19 @base.py:285]\u001b[0m Epoch 655 (global_step 137549) finished, time:6.33 seconds.\n",
      "\u001b[32m[1022 14:34:19 @saver.py:79]\u001b[0m Model saved to ../output/Chicago/DATWGAN_30/model\\model-137549.\n",
      "\u001b[32m[1022 14:34:19 @monitor.py:467]\u001b[0m GAN_loss/d_loss: -0.044698\n",
      "\u001b[32m[1022 14:34:19 @monitor.py:467]\u001b[0m GAN_loss/g_loss: 0.39525\n",
      "\u001b[32m[1022 14:34:19 @monitor.py:467]\u001b[0m GAN_loss/gradient_penalty: 0.005331\n",
      "\u001b[32m[1022 14:34:19 @monitor.py:467]\u001b[0m GAN_loss/gradient_rms: 1.0005\n",
      "\u001b[32m[1022 14:34:19 @monitor.py:467]\u001b[0m GAN_loss/kl_div: 0.058462\n",
      "\u001b[32m[1022 14:34:19 @monitor.py:467]\u001b[0m QueueInput/queue_size: 50\n",
      "\u001b[32m[1022 14:34:19 @base.py:275]\u001b[0m Start Epoch 656 ...\n"
     ]
    },
    {
     "name": "stderr",
     "output_type": "stream",
     "text": [
      "\n",
      "100%|###################################################################################|175/175[00:06<00:00,27.67it/s]"
     ]
    },
    {
     "name": "stdout",
     "output_type": "stream",
     "text": [
      "\u001b[32m[1022 14:34:25 @base.py:285]\u001b[0m Epoch 656 (global_step 137759) finished, time:6.32 seconds.\n",
      "\u001b[32m[1022 14:34:25 @saver.py:79]\u001b[0m Model saved to ../output/Chicago/DATWGAN_30/model\\model-137759.\n",
      "\u001b[32m[1022 14:34:25 @monitor.py:467]\u001b[0m GAN_loss/d_loss: -0.053469\n",
      "\u001b[32m[1022 14:34:25 @monitor.py:467]\u001b[0m GAN_loss/g_loss: 0.39416\n",
      "\u001b[32m[1022 14:34:25 @monitor.py:467]\u001b[0m GAN_loss/gradient_penalty: 0.0051058\n",
      "\u001b[32m[1022 14:34:25 @monitor.py:467]\u001b[0m GAN_loss/gradient_rms: 0.99884\n",
      "\u001b[32m[1022 14:34:25 @monitor.py:467]\u001b[0m GAN_loss/kl_div: 0.0627\n",
      "\u001b[32m[1022 14:34:25 @monitor.py:467]\u001b[0m QueueInput/queue_size: 50\n",
      "\u001b[32m[1022 14:34:25 @base.py:275]\u001b[0m Start Epoch 657 ...\n"
     ]
    },
    {
     "name": "stderr",
     "output_type": "stream",
     "text": [
      "\n",
      "100%|###################################################################################|175/175[00:06<00:00,27.69it/s]"
     ]
    },
    {
     "name": "stdout",
     "output_type": "stream",
     "text": [
      "\u001b[32m[1022 14:34:32 @base.py:285]\u001b[0m Epoch 657 (global_step 137969) finished, time:6.32 seconds.\n",
      "\u001b[32m[1022 14:34:32 @saver.py:79]\u001b[0m Model saved to ../output/Chicago/DATWGAN_30/model\\model-137969.\n",
      "\u001b[32m[1022 14:34:32 @monitor.py:467]\u001b[0m GAN_loss/d_loss: -0.029376\n",
      "\u001b[32m[1022 14:34:32 @monitor.py:467]\u001b[0m GAN_loss/g_loss: 0.38395\n",
      "\u001b[32m[1022 14:34:32 @monitor.py:467]\u001b[0m GAN_loss/gradient_penalty: 0.0052694\n",
      "\u001b[32m[1022 14:34:32 @monitor.py:467]\u001b[0m GAN_loss/gradient_rms: 0.99916\n",
      "\u001b[32m[1022 14:34:32 @monitor.py:467]\u001b[0m GAN_loss/kl_div: 0.059678\n",
      "\u001b[32m[1022 14:34:32 @monitor.py:467]\u001b[0m QueueInput/queue_size: 50\n",
      "\u001b[32m[1022 14:34:32 @base.py:275]\u001b[0m Start Epoch 658 ...\n"
     ]
    },
    {
     "name": "stderr",
     "output_type": "stream",
     "text": [
      "\n",
      "100%|###################################################################################|175/175[00:06<00:00,27.67it/s]"
     ]
    },
    {
     "name": "stdout",
     "output_type": "stream",
     "text": [
      "\u001b[32m[1022 14:34:38 @base.py:285]\u001b[0m Epoch 658 (global_step 138179) finished, time:6.33 seconds.\n",
      "\u001b[32m[1022 14:34:38 @saver.py:79]\u001b[0m Model saved to ../output/Chicago/DATWGAN_30/model\\model-138179.\n",
      "\u001b[32m[1022 14:34:38 @monitor.py:467]\u001b[0m GAN_loss/d_loss: -0.050902\n",
      "\u001b[32m[1022 14:34:38 @monitor.py:467]\u001b[0m GAN_loss/g_loss: 0.39184\n",
      "\u001b[32m[1022 14:34:38 @monitor.py:467]\u001b[0m GAN_loss/gradient_penalty: 0.0052381\n",
      "\u001b[32m[1022 14:34:38 @monitor.py:467]\u001b[0m GAN_loss/gradient_rms: 0.99866\n",
      "\u001b[32m[1022 14:34:38 @monitor.py:467]\u001b[0m GAN_loss/kl_div: 0.062454\n",
      "\u001b[32m[1022 14:34:38 @monitor.py:467]\u001b[0m QueueInput/queue_size: 50\n",
      "\u001b[32m[1022 14:34:38 @base.py:275]\u001b[0m Start Epoch 659 ...\n"
     ]
    },
    {
     "name": "stderr",
     "output_type": "stream",
     "text": [
      "\n",
      "100%|###################################################################################|175/175[00:06<00:00,27.68it/s]"
     ]
    },
    {
     "name": "stdout",
     "output_type": "stream",
     "text": [
      "\u001b[32m[1022 14:34:45 @base.py:285]\u001b[0m Epoch 659 (global_step 138389) finished, time:6.32 seconds.\n",
      "\u001b[32m[1022 14:34:45 @saver.py:79]\u001b[0m Model saved to ../output/Chicago/DATWGAN_30/model\\model-138389.\n",
      "\u001b[32m[1022 14:34:45 @monitor.py:467]\u001b[0m GAN_loss/d_loss: -0.054109\n",
      "\u001b[32m[1022 14:34:45 @monitor.py:467]\u001b[0m GAN_loss/g_loss: 0.38804\n",
      "\u001b[32m[1022 14:34:45 @monitor.py:467]\u001b[0m GAN_loss/gradient_penalty: 0.0053289\n",
      "\u001b[32m[1022 14:34:45 @monitor.py:467]\u001b[0m GAN_loss/gradient_rms: 1.0005\n",
      "\u001b[32m[1022 14:34:45 @monitor.py:467]\u001b[0m GAN_loss/kl_div: 0.05684\n",
      "\u001b[32m[1022 14:34:45 @monitor.py:467]\u001b[0m QueueInput/queue_size: 50\n",
      "\u001b[32m[1022 14:34:45 @base.py:275]\u001b[0m Start Epoch 660 ...\n"
     ]
    },
    {
     "name": "stderr",
     "output_type": "stream",
     "text": [
      "\n",
      "100%|###################################################################################|175/175[00:06<00:00,27.64it/s]"
     ]
    },
    {
     "name": "stdout",
     "output_type": "stream",
     "text": [
      "\u001b[32m[1022 14:34:51 @base.py:285]\u001b[0m Epoch 660 (global_step 138599) finished, time:6.33 seconds.\n",
      "\u001b[32m[1022 14:34:51 @saver.py:79]\u001b[0m Model saved to ../output/Chicago/DATWGAN_30/model\\model-138599.\n",
      "\u001b[32m[1022 14:34:51 @monitor.py:467]\u001b[0m GAN_loss/d_loss: -0.048331\n",
      "\u001b[32m[1022 14:34:51 @monitor.py:467]\u001b[0m GAN_loss/g_loss: 0.37871\n",
      "\u001b[32m[1022 14:34:51 @monitor.py:467]\u001b[0m GAN_loss/gradient_penalty: 0.0052659\n",
      "\u001b[32m[1022 14:34:51 @monitor.py:467]\u001b[0m GAN_loss/gradient_rms: 1.0007\n",
      "\u001b[32m[1022 14:34:51 @monitor.py:467]\u001b[0m GAN_loss/kl_div: 0.060026\n",
      "\u001b[32m[1022 14:34:51 @monitor.py:467]\u001b[0m QueueInput/queue_size: 50\n",
      "\u001b[32m[1022 14:34:51 @base.py:275]\u001b[0m Start Epoch 661 ...\n"
     ]
    },
    {
     "name": "stderr",
     "output_type": "stream",
     "text": [
      "\n",
      "100%|###################################################################################|175/175[00:06<00:00,27.66it/s]"
     ]
    },
    {
     "name": "stdout",
     "output_type": "stream",
     "text": [
      "\u001b[32m[1022 14:34:58 @base.py:285]\u001b[0m Epoch 661 (global_step 138809) finished, time:6.33 seconds.\n",
      "\u001b[32m[1022 14:34:58 @saver.py:79]\u001b[0m Model saved to ../output/Chicago/DATWGAN_30/model\\model-138809.\n",
      "\u001b[32m[1022 14:34:58 @monitor.py:467]\u001b[0m GAN_loss/d_loss: -0.045297\n",
      "\u001b[32m[1022 14:34:58 @monitor.py:467]\u001b[0m GAN_loss/g_loss: 0.38712\n",
      "\u001b[32m[1022 14:34:58 @monitor.py:467]\u001b[0m GAN_loss/gradient_penalty: 0.0052203\n",
      "\u001b[32m[1022 14:34:58 @monitor.py:467]\u001b[0m GAN_loss/gradient_rms: 0.99933\n",
      "\u001b[32m[1022 14:34:58 @monitor.py:467]\u001b[0m GAN_loss/kl_div: 0.061355\n",
      "\u001b[32m[1022 14:34:58 @monitor.py:467]\u001b[0m QueueInput/queue_size: 50\n",
      "\u001b[32m[1022 14:34:58 @base.py:275]\u001b[0m Start Epoch 662 ...\n"
     ]
    },
    {
     "name": "stderr",
     "output_type": "stream",
     "text": [
      "\n",
      "100%|###################################################################################|175/175[00:06<00:00,27.68it/s]"
     ]
    },
    {
     "name": "stdout",
     "output_type": "stream",
     "text": [
      "\u001b[32m[1022 14:35:04 @base.py:285]\u001b[0m Epoch 662 (global_step 139019) finished, time:6.32 seconds.\n",
      "\u001b[32m[1022 14:35:04 @saver.py:79]\u001b[0m Model saved to ../output/Chicago/DATWGAN_30/model\\model-139019.\n",
      "\u001b[32m[1022 14:35:04 @monitor.py:467]\u001b[0m GAN_loss/d_loss: -0.039916\n",
      "\u001b[32m[1022 14:35:04 @monitor.py:467]\u001b[0m GAN_loss/g_loss: 0.37198\n",
      "\u001b[32m[1022 14:35:04 @monitor.py:467]\u001b[0m GAN_loss/gradient_penalty: 0.0051911\n",
      "\u001b[32m[1022 14:35:04 @monitor.py:467]\u001b[0m GAN_loss/gradient_rms: 1.0003\n",
      "\u001b[32m[1022 14:35:04 @monitor.py:467]\u001b[0m GAN_loss/kl_div: 0.057262\n",
      "\u001b[32m[1022 14:35:04 @monitor.py:467]\u001b[0m QueueInput/queue_size: 50\n",
      "\u001b[32m[1022 14:35:04 @base.py:275]\u001b[0m Start Epoch 663 ...\n"
     ]
    },
    {
     "name": "stderr",
     "output_type": "stream",
     "text": [
      "\n",
      "100%|###################################################################################|175/175[00:06<00:00,27.66it/s]"
     ]
    },
    {
     "name": "stdout",
     "output_type": "stream",
     "text": [
      "\u001b[32m[1022 14:35:11 @base.py:285]\u001b[0m Epoch 663 (global_step 139229) finished, time:6.33 seconds.\n",
      "\u001b[32m[1022 14:35:11 @saver.py:79]\u001b[0m Model saved to ../output/Chicago/DATWGAN_30/model\\model-139229.\n",
      "\u001b[32m[1022 14:35:11 @monitor.py:467]\u001b[0m GAN_loss/d_loss: -0.04144\n",
      "\u001b[32m[1022 14:35:11 @monitor.py:467]\u001b[0m GAN_loss/g_loss: 0.36957\n",
      "\u001b[32m[1022 14:35:11 @monitor.py:467]\u001b[0m GAN_loss/gradient_penalty: 0.0052704\n",
      "\u001b[32m[1022 14:35:11 @monitor.py:467]\u001b[0m GAN_loss/gradient_rms: 0.99841\n",
      "\u001b[32m[1022 14:35:11 @monitor.py:467]\u001b[0m GAN_loss/kl_div: 0.060469\n",
      "\u001b[32m[1022 14:35:11 @monitor.py:467]\u001b[0m QueueInput/queue_size: 50\n",
      "\u001b[32m[1022 14:35:11 @base.py:275]\u001b[0m Start Epoch 664 ...\n"
     ]
    },
    {
     "name": "stderr",
     "output_type": "stream",
     "text": [
      "\n",
      "100%|###################################################################################|175/175[00:06<00:00,27.69it/s]"
     ]
    },
    {
     "name": "stdout",
     "output_type": "stream",
     "text": [
      "\u001b[32m[1022 14:35:17 @base.py:285]\u001b[0m Epoch 664 (global_step 139439) finished, time:6.32 seconds.\n",
      "\u001b[32m[1022 14:35:17 @saver.py:79]\u001b[0m Model saved to ../output/Chicago/DATWGAN_30/model\\model-139439.\n",
      "\u001b[32m[1022 14:35:17 @monitor.py:467]\u001b[0m GAN_loss/d_loss: -0.036302\n",
      "\u001b[32m[1022 14:35:17 @monitor.py:467]\u001b[0m GAN_loss/g_loss: 0.36378\n",
      "\u001b[32m[1022 14:35:17 @monitor.py:467]\u001b[0m GAN_loss/gradient_penalty: 0.0052671\n",
      "\u001b[32m[1022 14:35:17 @monitor.py:467]\u001b[0m GAN_loss/gradient_rms: 0.99933\n",
      "\u001b[32m[1022 14:35:17 @monitor.py:467]\u001b[0m GAN_loss/kl_div: 0.056795\n",
      "\u001b[32m[1022 14:35:17 @monitor.py:467]\u001b[0m QueueInput/queue_size: 50\n",
      "\u001b[32m[1022 14:35:17 @base.py:275]\u001b[0m Start Epoch 665 ...\n"
     ]
    },
    {
     "name": "stderr",
     "output_type": "stream",
     "text": [
      "\n",
      "100%|###################################################################################|175/175[00:06<00:00,27.67it/s]"
     ]
    },
    {
     "name": "stdout",
     "output_type": "stream",
     "text": [
      "\u001b[32m[1022 14:35:24 @base.py:285]\u001b[0m Epoch 665 (global_step 139649) finished, time:6.33 seconds.\n",
      "\u001b[32m[1022 14:35:24 @saver.py:79]\u001b[0m Model saved to ../output/Chicago/DATWGAN_30/model\\model-139649.\n",
      "\u001b[32m[1022 14:35:24 @monitor.py:467]\u001b[0m GAN_loss/d_loss: -0.039901\n",
      "\u001b[32m[1022 14:35:24 @monitor.py:467]\u001b[0m GAN_loss/g_loss: 0.36425\n",
      "\u001b[32m[1022 14:35:24 @monitor.py:467]\u001b[0m GAN_loss/gradient_penalty: 0.0052924\n",
      "\u001b[32m[1022 14:35:24 @monitor.py:467]\u001b[0m GAN_loss/gradient_rms: 0.99972\n",
      "\u001b[32m[1022 14:35:24 @monitor.py:467]\u001b[0m GAN_loss/kl_div: 0.059382\n",
      "\u001b[32m[1022 14:35:24 @monitor.py:467]\u001b[0m QueueInput/queue_size: 50\n",
      "\u001b[32m[1022 14:35:24 @base.py:275]\u001b[0m Start Epoch 666 ...\n"
     ]
    },
    {
     "name": "stderr",
     "output_type": "stream",
     "text": [
      "\n",
      "100%|###################################################################################|175/175[00:06<00:00,27.67it/s]"
     ]
    },
    {
     "name": "stdout",
     "output_type": "stream",
     "text": [
      "\u001b[32m[1022 14:35:30 @base.py:285]\u001b[0m Epoch 666 (global_step 139859) finished, time:6.32 seconds.\n",
      "\u001b[32m[1022 14:35:30 @saver.py:79]\u001b[0m Model saved to ../output/Chicago/DATWGAN_30/model\\model-139859.\n",
      "\u001b[32m[1022 14:35:30 @monitor.py:467]\u001b[0m GAN_loss/d_loss: -0.055439\n",
      "\u001b[32m[1022 14:35:30 @monitor.py:467]\u001b[0m GAN_loss/g_loss: 0.36343\n",
      "\u001b[32m[1022 14:35:30 @monitor.py:467]\u001b[0m GAN_loss/gradient_penalty: 0.005254\n",
      "\u001b[32m[1022 14:35:30 @monitor.py:467]\u001b[0m GAN_loss/gradient_rms: 0.99979\n",
      "\u001b[32m[1022 14:35:30 @monitor.py:467]\u001b[0m GAN_loss/kl_div: 0.060579\n",
      "\u001b[32m[1022 14:35:30 @monitor.py:467]\u001b[0m QueueInput/queue_size: 50\n",
      "\u001b[32m[1022 14:35:30 @base.py:275]\u001b[0m Start Epoch 667 ...\n"
     ]
    },
    {
     "name": "stderr",
     "output_type": "stream",
     "text": [
      "\n",
      "100%|###################################################################################|175/175[00:06<00:00,27.67it/s]"
     ]
    },
    {
     "name": "stdout",
     "output_type": "stream",
     "text": [
      "\u001b[32m[1022 14:35:37 @base.py:285]\u001b[0m Epoch 667 (global_step 140069) finished, time:6.32 seconds.\n",
      "\u001b[32m[1022 14:35:37 @saver.py:79]\u001b[0m Model saved to ../output/Chicago/DATWGAN_30/model\\model-140069.\n",
      "\u001b[32m[1022 14:35:37 @monitor.py:467]\u001b[0m GAN_loss/d_loss: -0.047791\n",
      "\u001b[32m[1022 14:35:37 @monitor.py:467]\u001b[0m GAN_loss/g_loss: 0.3586\n",
      "\u001b[32m[1022 14:35:37 @monitor.py:467]\u001b[0m GAN_loss/gradient_penalty: 0.0051965\n",
      "\u001b[32m[1022 14:35:37 @monitor.py:467]\u001b[0m GAN_loss/gradient_rms: 1.0001\n",
      "\u001b[32m[1022 14:35:37 @monitor.py:467]\u001b[0m GAN_loss/kl_div: 0.062443\n",
      "\u001b[32m[1022 14:35:37 @monitor.py:467]\u001b[0m QueueInput/queue_size: 50\n",
      "\u001b[32m[1022 14:35:37 @base.py:275]\u001b[0m Start Epoch 668 ...\n"
     ]
    },
    {
     "name": "stderr",
     "output_type": "stream",
     "text": [
      "\n",
      "100%|###################################################################################|175/175[00:06<00:00,27.68it/s]"
     ]
    },
    {
     "name": "stdout",
     "output_type": "stream",
     "text": [
      "\u001b[32m[1022 14:35:43 @base.py:285]\u001b[0m Epoch 668 (global_step 140279) finished, time:6.32 seconds.\n",
      "\u001b[32m[1022 14:35:43 @saver.py:79]\u001b[0m Model saved to ../output/Chicago/DATWGAN_30/model\\model-140279.\n",
      "\u001b[32m[1022 14:35:43 @monitor.py:467]\u001b[0m GAN_loss/d_loss: -0.03081\n"
     ]
    },
    {
     "name": "stderr",
     "output_type": "stream",
     "text": [
      "\n"
     ]
    },
    {
     "name": "stdout",
     "output_type": "stream",
     "text": [
      "\u001b[32m[1022 14:35:43 @monitor.py:467]\u001b[0m GAN_loss/g_loss: 0.34799\n",
      "\u001b[32m[1022 14:35:43 @monitor.py:467]\u001b[0m GAN_loss/gradient_penalty: 0.005275\n",
      "\u001b[32m[1022 14:35:43 @monitor.py:467]\u001b[0m GAN_loss/gradient_rms: 0.99914\n",
      "\u001b[32m[1022 14:35:43 @monitor.py:467]\u001b[0m GAN_loss/kl_div: 0.058657\n",
      "\u001b[32m[1022 14:35:43 @monitor.py:467]\u001b[0m QueueInput/queue_size: 50\n",
      "\u001b[32m[1022 14:35:43 @base.py:275]\u001b[0m Start Epoch 669 ...\n"
     ]
    },
    {
     "name": "stderr",
     "output_type": "stream",
     "text": [
      "100%|###################################################################################|175/175[00:06<00:00,27.68it/s]"
     ]
    },
    {
     "name": "stdout",
     "output_type": "stream",
     "text": [
      "\u001b[32m[1022 14:35:50 @base.py:285]\u001b[0m Epoch 669 (global_step 140489) finished, time:6.32 seconds.\n",
      "\u001b[32m[1022 14:35:50 @saver.py:79]\u001b[0m Model saved to ../output/Chicago/DATWGAN_30/model\\model-140489.\n",
      "\u001b[32m[1022 14:35:50 @monitor.py:467]\u001b[0m GAN_loss/d_loss: -0.050966\n",
      "\u001b[32m[1022 14:35:50 @monitor.py:467]\u001b[0m GAN_loss/g_loss: 0.35436\n",
      "\u001b[32m[1022 14:35:50 @monitor.py:467]\u001b[0m GAN_loss/gradient_penalty: 0.0053317\n",
      "\u001b[32m[1022 14:35:50 @monitor.py:467]\u001b[0m GAN_loss/gradient_rms: 1.0001\n",
      "\u001b[32m[1022 14:35:50 @monitor.py:467]\u001b[0m GAN_loss/kl_div: 0.063386\n",
      "\u001b[32m[1022 14:35:50 @monitor.py:467]\u001b[0m QueueInput/queue_size: 50\n",
      "\u001b[32m[1022 14:35:50 @base.py:275]\u001b[0m Start Epoch 670 ...\n"
     ]
    },
    {
     "name": "stderr",
     "output_type": "stream",
     "text": [
      "\n",
      "100%|###################################################################################|175/175[00:06<00:00,27.47it/s]"
     ]
    },
    {
     "name": "stdout",
     "output_type": "stream",
     "text": [
      "\u001b[32m[1022 14:35:56 @base.py:285]\u001b[0m Epoch 670 (global_step 140699) finished, time:6.37 seconds.\n",
      "\u001b[32m[1022 14:35:56 @saver.py:79]\u001b[0m Model saved to ../output/Chicago/DATWGAN_30/model\\model-140699.\n",
      "\u001b[32m[1022 14:35:56 @monitor.py:467]\u001b[0m GAN_loss/d_loss: -0.044594\n",
      "\u001b[32m[1022 14:35:56 @monitor.py:467]\u001b[0m GAN_loss/g_loss: 0.34705\n",
      "\u001b[32m[1022 14:35:56 @monitor.py:467]\u001b[0m GAN_loss/gradient_penalty: 0.0053088\n",
      "\u001b[32m[1022 14:35:56 @monitor.py:467]\u001b[0m GAN_loss/gradient_rms: 0.99902\n",
      "\u001b[32m[1022 14:35:56 @monitor.py:467]\u001b[0m GAN_loss/kl_div: 0.061244\n",
      "\u001b[32m[1022 14:35:56 @monitor.py:467]\u001b[0m QueueInput/queue_size: 50\n",
      "\u001b[32m[1022 14:35:56 @base.py:275]\u001b[0m Start Epoch 671 ...\n"
     ]
    },
    {
     "name": "stderr",
     "output_type": "stream",
     "text": [
      "\n",
      "100%|###################################################################################|175/175[00:06<00:00,27.69it/s]"
     ]
    },
    {
     "name": "stdout",
     "output_type": "stream",
     "text": [
      "\u001b[32m[1022 14:36:03 @base.py:285]\u001b[0m Epoch 671 (global_step 140909) finished, time:6.32 seconds.\n",
      "\u001b[32m[1022 14:36:03 @saver.py:79]\u001b[0m Model saved to ../output/Chicago/DATWGAN_30/model\\model-140909.\n",
      "\u001b[32m[1022 14:36:03 @monitor.py:467]\u001b[0m GAN_loss/d_loss: -0.042257\n",
      "\u001b[32m[1022 14:36:03 @monitor.py:467]\u001b[0m GAN_loss/g_loss: 0.35185\n",
      "\u001b[32m[1022 14:36:03 @monitor.py:467]\u001b[0m GAN_loss/gradient_penalty: 0.005306\n",
      "\u001b[32m[1022 14:36:03 @monitor.py:467]\u001b[0m GAN_loss/gradient_rms: 0.99974\n",
      "\u001b[32m[1022 14:36:03 @monitor.py:467]\u001b[0m GAN_loss/kl_div: 0.057948\n",
      "\u001b[32m[1022 14:36:03 @monitor.py:467]\u001b[0m QueueInput/queue_size: 50\n",
      "\u001b[32m[1022 14:36:03 @base.py:275]\u001b[0m Start Epoch 672 ...\n"
     ]
    },
    {
     "name": "stderr",
     "output_type": "stream",
     "text": [
      "\n",
      "100%|###################################################################################|175/175[00:06<00:00,27.66it/s]"
     ]
    },
    {
     "name": "stdout",
     "output_type": "stream",
     "text": [
      "\u001b[32m[1022 14:36:09 @base.py:285]\u001b[0m Epoch 672 (global_step 141119) finished, time:6.33 seconds.\n",
      "\u001b[32m[1022 14:36:09 @saver.py:79]\u001b[0m Model saved to ../output/Chicago/DATWGAN_30/model\\model-141119.\n",
      "\u001b[32m[1022 14:36:09 @monitor.py:467]\u001b[0m GAN_loss/d_loss: -0.027723\n",
      "\u001b[32m[1022 14:36:09 @monitor.py:467]\u001b[0m GAN_loss/g_loss: 0.33967\n",
      "\u001b[32m[1022 14:36:09 @monitor.py:467]\u001b[0m GAN_loss/gradient_penalty: 0.0052706\n",
      "\u001b[32m[1022 14:36:09 @monitor.py:467]\u001b[0m GAN_loss/gradient_rms: 0.99828\n",
      "\u001b[32m[1022 14:36:09 @monitor.py:467]\u001b[0m GAN_loss/kl_div: 0.062088\n",
      "\u001b[32m[1022 14:36:09 @monitor.py:467]\u001b[0m QueueInput/queue_size: 50\n",
      "\u001b[32m[1022 14:36:09 @base.py:275]\u001b[0m Start Epoch 673 ...\n"
     ]
    },
    {
     "name": "stderr",
     "output_type": "stream",
     "text": [
      "\n",
      "100%|###################################################################################|175/175[00:06<00:00,27.66it/s]"
     ]
    },
    {
     "name": "stdout",
     "output_type": "stream",
     "text": [
      "\u001b[32m[1022 14:36:16 @base.py:285]\u001b[0m Epoch 673 (global_step 141329) finished, time:6.33 seconds.\n",
      "\u001b[32m[1022 14:36:16 @saver.py:79]\u001b[0m Model saved to ../output/Chicago/DATWGAN_30/model\\model-141329.\n",
      "\u001b[32m[1022 14:36:16 @monitor.py:467]\u001b[0m GAN_loss/d_loss: -0.043649\n",
      "\u001b[32m[1022 14:36:16 @monitor.py:467]\u001b[0m GAN_loss/g_loss: 0.3532\n",
      "\u001b[32m[1022 14:36:16 @monitor.py:467]\u001b[0m GAN_loss/gradient_penalty: 0.0053459\n",
      "\u001b[32m[1022 14:36:16 @monitor.py:467]\u001b[0m GAN_loss/gradient_rms: 0.99939\n",
      "\u001b[32m[1022 14:36:16 @monitor.py:467]\u001b[0m GAN_loss/kl_div: 0.060556\n",
      "\u001b[32m[1022 14:36:16 @monitor.py:467]\u001b[0m QueueInput/queue_size: 50\n",
      "\u001b[32m[1022 14:36:16 @base.py:275]\u001b[0m Start Epoch 674 ...\n"
     ]
    },
    {
     "name": "stderr",
     "output_type": "stream",
     "text": [
      "\n",
      "100%|###################################################################################|175/175[00:06<00:00,27.61it/s]"
     ]
    },
    {
     "name": "stdout",
     "output_type": "stream",
     "text": [
      "\u001b[32m[1022 14:36:22 @base.py:285]\u001b[0m Epoch 674 (global_step 141539) finished, time:6.34 seconds.\n",
      "\u001b[32m[1022 14:36:22 @saver.py:79]\u001b[0m Model saved to ../output/Chicago/DATWGAN_30/model\\model-141539.\n",
      "\u001b[32m[1022 14:36:22 @monitor.py:467]\u001b[0m GAN_loss/d_loss: -0.03923\n",
      "\u001b[32m[1022 14:36:22 @monitor.py:467]\u001b[0m GAN_loss/g_loss: 0.35861\n",
      "\u001b[32m[1022 14:36:22 @monitor.py:467]\u001b[0m GAN_loss/gradient_penalty: 0.0052724\n",
      "\u001b[32m[1022 14:36:22 @monitor.py:467]\u001b[0m GAN_loss/gradient_rms: 0.99894\n",
      "\u001b[32m[1022 14:36:22 @monitor.py:467]\u001b[0m GAN_loss/kl_div: 0.059279\n",
      "\u001b[32m[1022 14:36:22 @monitor.py:467]\u001b[0m QueueInput/queue_size: 50\n",
      "\u001b[32m[1022 14:36:22 @base.py:275]\u001b[0m Start Epoch 675 ...\n"
     ]
    },
    {
     "name": "stderr",
     "output_type": "stream",
     "text": [
      "\n",
      "100%|###################################################################################|175/175[00:06<00:00,27.61it/s]"
     ]
    },
    {
     "name": "stdout",
     "output_type": "stream",
     "text": [
      "\u001b[32m[1022 14:36:29 @base.py:285]\u001b[0m Epoch 675 (global_step 141749) finished, time:6.34 seconds.\n",
      "\u001b[32m[1022 14:36:29 @saver.py:79]\u001b[0m Model saved to ../output/Chicago/DATWGAN_30/model\\model-141749.\n",
      "\u001b[32m[1022 14:36:29 @monitor.py:467]\u001b[0m GAN_loss/d_loss: -0.030381\n",
      "\u001b[32m[1022 14:36:29 @monitor.py:467]\u001b[0m GAN_loss/g_loss: 0.34187\n",
      "\u001b[32m[1022 14:36:29 @monitor.py:467]\u001b[0m GAN_loss/gradient_penalty: 0.0052687\n",
      "\u001b[32m[1022 14:36:29 @monitor.py:467]\u001b[0m GAN_loss/gradient_rms: 0.99864\n",
      "\u001b[32m[1022 14:36:29 @monitor.py:467]\u001b[0m GAN_loss/kl_div: 0.058763\n",
      "\u001b[32m[1022 14:36:29 @monitor.py:467]\u001b[0m QueueInput/queue_size: 50\n",
      "\u001b[32m[1022 14:36:29 @base.py:275]\u001b[0m Start Epoch 676 ...\n"
     ]
    },
    {
     "name": "stderr",
     "output_type": "stream",
     "text": [
      "\n",
      "100%|###################################################################################|175/175[00:06<00:00,27.69it/s]"
     ]
    },
    {
     "name": "stdout",
     "output_type": "stream",
     "text": [
      "\u001b[32m[1022 14:36:35 @base.py:285]\u001b[0m Epoch 676 (global_step 141959) finished, time:6.32 seconds.\n",
      "\u001b[32m[1022 14:36:35 @saver.py:79]\u001b[0m Model saved to ../output/Chicago/DATWGAN_30/model\\model-141959.\n",
      "\u001b[32m[1022 14:36:35 @monitor.py:467]\u001b[0m GAN_loss/d_loss: -0.042538\n",
      "\u001b[32m[1022 14:36:35 @monitor.py:467]\u001b[0m GAN_loss/g_loss: 0.35052\n",
      "\u001b[32m[1022 14:36:35 @monitor.py:467]\u001b[0m GAN_loss/gradient_penalty: 0.0053491\n",
      "\u001b[32m[1022 14:36:35 @monitor.py:467]\u001b[0m GAN_loss/gradient_rms: 1.0005\n",
      "\u001b[32m[1022 14:36:35 @monitor.py:467]\u001b[0m GAN_loss/kl_div: 0.060433\n",
      "\u001b[32m[1022 14:36:35 @monitor.py:467]\u001b[0m QueueInput/queue_size: 50\n",
      "\u001b[32m[1022 14:36:35 @base.py:275]\u001b[0m Start Epoch 677 ...\n"
     ]
    },
    {
     "name": "stderr",
     "output_type": "stream",
     "text": [
      "\n",
      "100%|###################################################################################|175/175[00:06<00:00,27.67it/s]"
     ]
    },
    {
     "name": "stdout",
     "output_type": "stream",
     "text": [
      "\u001b[32m[1022 14:36:42 @base.py:285]\u001b[0m Epoch 677 (global_step 142169) finished, time:6.32 seconds.\n",
      "\u001b[32m[1022 14:36:42 @saver.py:79]\u001b[0m Model saved to ../output/Chicago/DATWGAN_30/model\\model-142169.\n",
      "\u001b[32m[1022 14:36:42 @monitor.py:467]\u001b[0m GAN_loss/d_loss: -0.036737\n",
      "\u001b[32m[1022 14:36:42 @monitor.py:467]\u001b[0m GAN_loss/g_loss: 0.3558\n",
      "\u001b[32m[1022 14:36:42 @monitor.py:467]\u001b[0m GAN_loss/gradient_penalty: 0.0054222\n",
      "\u001b[32m[1022 14:36:42 @monitor.py:467]\u001b[0m GAN_loss/gradient_rms: 0.99847\n",
      "\u001b[32m[1022 14:36:42 @monitor.py:467]\u001b[0m GAN_loss/kl_div: 0.05755\n",
      "\u001b[32m[1022 14:36:42 @monitor.py:467]\u001b[0m QueueInput/queue_size: 50\n",
      "\u001b[32m[1022 14:36:42 @base.py:275]\u001b[0m Start Epoch 678 ...\n"
     ]
    },
    {
     "name": "stderr",
     "output_type": "stream",
     "text": [
      "\n",
      "100%|###################################################################################|175/175[00:06<00:00,27.66it/s]"
     ]
    },
    {
     "name": "stdout",
     "output_type": "stream",
     "text": [
      "\u001b[32m[1022 14:36:48 @base.py:285]\u001b[0m Epoch 678 (global_step 142379) finished, time:6.33 seconds.\n",
      "\u001b[32m[1022 14:36:48 @saver.py:79]\u001b[0m Model saved to ../output/Chicago/DATWGAN_30/model\\model-142379.\n",
      "\u001b[32m[1022 14:36:48 @monitor.py:467]\u001b[0m GAN_loss/d_loss: -0.04104\n",
      "\u001b[32m[1022 14:36:48 @monitor.py:467]\u001b[0m GAN_loss/g_loss: 0.35454\n",
      "\u001b[32m[1022 14:36:48 @monitor.py:467]\u001b[0m GAN_loss/gradient_penalty: 0.0052194\n",
      "\u001b[32m[1022 14:36:48 @monitor.py:467]\u001b[0m GAN_loss/gradient_rms: 0.99905\n",
      "\u001b[32m[1022 14:36:48 @monitor.py:467]\u001b[0m GAN_loss/kl_div: 0.05867\n",
      "\u001b[32m[1022 14:36:48 @monitor.py:467]\u001b[0m QueueInput/queue_size: 50\n",
      "\u001b[32m[1022 14:36:48 @base.py:275]\u001b[0m Start Epoch 679 ...\n"
     ]
    },
    {
     "name": "stderr",
     "output_type": "stream",
     "text": [
      "\n",
      "100%|###################################################################################|175/175[00:06<00:00,27.69it/s]"
     ]
    },
    {
     "name": "stdout",
     "output_type": "stream",
     "text": [
      "\u001b[32m[1022 14:36:55 @base.py:285]\u001b[0m Epoch 679 (global_step 142589) finished, time:6.32 seconds.\n",
      "\u001b[32m[1022 14:36:55 @saver.py:79]\u001b[0m Model saved to ../output/Chicago/DATWGAN_30/model\\model-142589.\n",
      "\u001b[32m[1022 14:36:55 @monitor.py:467]\u001b[0m GAN_loss/d_loss: -0.052033\n",
      "\u001b[32m[1022 14:36:55 @monitor.py:467]\u001b[0m GAN_loss/g_loss: 0.36143\n",
      "\u001b[32m[1022 14:36:55 @monitor.py:467]\u001b[0m GAN_loss/gradient_penalty: 0.0053189\n",
      "\u001b[32m[1022 14:36:55 @monitor.py:467]\u001b[0m GAN_loss/gradient_rms: 0.99869\n",
      "\u001b[32m[1022 14:36:55 @monitor.py:467]\u001b[0m GAN_loss/kl_div: 0.058206\n",
      "\u001b[32m[1022 14:36:55 @monitor.py:467]\u001b[0m QueueInput/queue_size: 50\n",
      "\u001b[32m[1022 14:36:55 @base.py:275]\u001b[0m Start Epoch 680 ...\n"
     ]
    },
    {
     "name": "stderr",
     "output_type": "stream",
     "text": [
      "\n",
      "100%|###################################################################################|175/175[00:06<00:00,27.69it/s]"
     ]
    },
    {
     "name": "stdout",
     "output_type": "stream",
     "text": [
      "\u001b[32m[1022 14:37:01 @base.py:285]\u001b[0m Epoch 680 (global_step 142799) finished, time:6.32 seconds.\n",
      "\u001b[32m[1022 14:37:01 @saver.py:79]\u001b[0m Model saved to ../output/Chicago/DATWGAN_30/model\\model-142799.\n",
      "\u001b[32m[1022 14:37:01 @monitor.py:467]\u001b[0m GAN_loss/d_loss: -0.041871\n",
      "\u001b[32m[1022 14:37:01 @monitor.py:467]\u001b[0m GAN_loss/g_loss: 0.34131\n",
      "\u001b[32m[1022 14:37:01 @monitor.py:467]\u001b[0m GAN_loss/gradient_penalty: 0.0053161\n",
      "\u001b[32m[1022 14:37:01 @monitor.py:467]\u001b[0m GAN_loss/gradient_rms: 0.99921\n",
      "\u001b[32m[1022 14:37:01 @monitor.py:467]\u001b[0m GAN_loss/kl_div: 0.063292\n",
      "\u001b[32m[1022 14:37:01 @monitor.py:467]\u001b[0m QueueInput/queue_size: 50\n",
      "\u001b[32m[1022 14:37:01 @base.py:275]\u001b[0m Start Epoch 681 ...\n"
     ]
    },
    {
     "name": "stderr",
     "output_type": "stream",
     "text": [
      "\n",
      "100%|###################################################################################|175/175[00:06<00:00,27.67it/s]"
     ]
    },
    {
     "name": "stdout",
     "output_type": "stream",
     "text": [
      "\u001b[32m[1022 14:37:08 @base.py:285]\u001b[0m Epoch 681 (global_step 143009) finished, time:6.32 seconds.\n",
      "\u001b[32m[1022 14:37:08 @saver.py:79]\u001b[0m Model saved to ../output/Chicago/DATWGAN_30/model\\model-143009.\n",
      "\u001b[32m[1022 14:37:08 @monitor.py:467]\u001b[0m GAN_loss/d_loss: -0.029322\n",
      "\u001b[32m[1022 14:37:08 @monitor.py:467]\u001b[0m GAN_loss/g_loss: 0.35099\n",
      "\u001b[32m[1022 14:37:08 @monitor.py:467]\u001b[0m GAN_loss/gradient_penalty: 0.0053337\n",
      "\u001b[32m[1022 14:37:08 @monitor.py:467]\u001b[0m GAN_loss/gradient_rms: 0.99847\n",
      "\u001b[32m[1022 14:37:08 @monitor.py:467]\u001b[0m GAN_loss/kl_div: 0.057532\n",
      "\u001b[32m[1022 14:37:08 @monitor.py:467]\u001b[0m QueueInput/queue_size: 50\n",
      "\u001b[32m[1022 14:37:08 @base.py:275]\u001b[0m Start Epoch 682 ...\n"
     ]
    },
    {
     "name": "stderr",
     "output_type": "stream",
     "text": [
      "\n",
      "100%|###################################################################################|175/175[00:06<00:00,27.68it/s]"
     ]
    },
    {
     "name": "stdout",
     "output_type": "stream",
     "text": [
      "\u001b[32m[1022 14:37:14 @base.py:285]\u001b[0m Epoch 682 (global_step 143219) finished, time:6.32 seconds.\n",
      "\u001b[32m[1022 14:37:14 @saver.py:79]\u001b[0m Model saved to ../output/Chicago/DATWGAN_30/model\\model-143219.\n",
      "\u001b[32m[1022 14:37:14 @monitor.py:467]\u001b[0m GAN_loss/d_loss: -0.047927\n",
      "\u001b[32m[1022 14:37:14 @monitor.py:467]\u001b[0m GAN_loss/g_loss: 0.36172\n",
      "\u001b[32m[1022 14:37:14 @monitor.py:467]\u001b[0m GAN_loss/gradient_penalty: 0.0053036\n",
      "\u001b[32m[1022 14:37:14 @monitor.py:467]\u001b[0m GAN_loss/gradient_rms: 0.99991\n",
      "\u001b[32m[1022 14:37:14 @monitor.py:467]\u001b[0m GAN_loss/kl_div: 0.056895\n",
      "\u001b[32m[1022 14:37:14 @monitor.py:467]\u001b[0m QueueInput/queue_size: 50\n",
      "\u001b[32m[1022 14:37:14 @base.py:275]\u001b[0m Start Epoch 683 ...\n"
     ]
    },
    {
     "name": "stderr",
     "output_type": "stream",
     "text": [
      "\n",
      "100%|###################################################################################|175/175[00:06<00:00,27.67it/s]"
     ]
    },
    {
     "name": "stdout",
     "output_type": "stream",
     "text": [
      "\u001b[32m[1022 14:37:21 @base.py:285]\u001b[0m Epoch 683 (global_step 143429) finished, time:6.32 seconds.\n",
      "\u001b[32m[1022 14:37:21 @saver.py:79]\u001b[0m Model saved to ../output/Chicago/DATWGAN_30/model\\model-143429.\n",
      "\u001b[32m[1022 14:37:21 @monitor.py:467]\u001b[0m GAN_loss/d_loss: -0.045177\n",
      "\u001b[32m[1022 14:37:21 @monitor.py:467]\u001b[0m GAN_loss/g_loss: 0.36302\n",
      "\u001b[32m[1022 14:37:21 @monitor.py:467]\u001b[0m GAN_loss/gradient_penalty: 0.005281\n",
      "\u001b[32m[1022 14:37:21 @monitor.py:467]\u001b[0m GAN_loss/gradient_rms: 0.99918\n",
      "\u001b[32m[1022 14:37:21 @monitor.py:467]\u001b[0m GAN_loss/kl_div: 0.059216\n",
      "\u001b[32m[1022 14:37:21 @monitor.py:467]\u001b[0m QueueInput/queue_size: 50\n",
      "\u001b[32m[1022 14:37:21 @base.py:275]\u001b[0m Start Epoch 684 ...\n"
     ]
    },
    {
     "name": "stderr",
     "output_type": "stream",
     "text": [
      "\n",
      "100%|###################################################################################|175/175[00:06<00:00,27.68it/s]"
     ]
    },
    {
     "name": "stdout",
     "output_type": "stream",
     "text": [
      "\u001b[32m[1022 14:37:27 @base.py:285]\u001b[0m Epoch 684 (global_step 143639) finished, time:6.32 seconds.\n",
      "\u001b[32m[1022 14:37:27 @saver.py:79]\u001b[0m Model saved to ../output/Chicago/DATWGAN_30/model\\model-143639.\n",
      "\u001b[32m[1022 14:37:27 @monitor.py:467]\u001b[0m GAN_loss/d_loss: -0.028051\n",
      "\u001b[32m[1022 14:37:27 @monitor.py:467]\u001b[0m GAN_loss/g_loss: 0.34415\n",
      "\u001b[32m[1022 14:37:27 @monitor.py:467]\u001b[0m GAN_loss/gradient_penalty: 0.0052781\n",
      "\u001b[32m[1022 14:37:27 @monitor.py:467]\u001b[0m GAN_loss/gradient_rms: 0.99952\n",
      "\u001b[32m[1022 14:37:27 @monitor.py:467]\u001b[0m GAN_loss/kl_div: 0.058497\n",
      "\u001b[32m[1022 14:37:27 @monitor.py:467]\u001b[0m QueueInput/queue_size: 50\n",
      "\u001b[32m[1022 14:37:27 @base.py:275]\u001b[0m Start Epoch 685 ...\n"
     ]
    },
    {
     "name": "stderr",
     "output_type": "stream",
     "text": [
      "\n",
      "100%|###################################################################################|175/175[00:06<00:00,27.68it/s]"
     ]
    },
    {
     "name": "stdout",
     "output_type": "stream",
     "text": [
      "\u001b[32m[1022 14:37:34 @base.py:285]\u001b[0m Epoch 685 (global_step 143849) finished, time:6.32 seconds.\n",
      "\u001b[32m[1022 14:37:34 @saver.py:79]\u001b[0m Model saved to ../output/Chicago/DATWGAN_30/model\\model-143849.\n",
      "\u001b[32m[1022 14:37:34 @monitor.py:467]\u001b[0m GAN_loss/d_loss: -0.038377\n",
      "\u001b[32m[1022 14:37:34 @monitor.py:467]\u001b[0m GAN_loss/g_loss: 0.35348\n",
      "\u001b[32m[1022 14:37:34 @monitor.py:467]\u001b[0m GAN_loss/gradient_penalty: 0.0052824\n",
      "\u001b[32m[1022 14:37:34 @monitor.py:467]\u001b[0m GAN_loss/gradient_rms: 0.99838\n",
      "\u001b[32m[1022 14:37:34 @monitor.py:467]\u001b[0m GAN_loss/kl_div: 0.060242\n",
      "\u001b[32m[1022 14:37:34 @monitor.py:467]\u001b[0m QueueInput/queue_size: 50\n",
      "\u001b[32m[1022 14:37:34 @base.py:275]\u001b[0m Start Epoch 686 ...\n"
     ]
    },
    {
     "name": "stderr",
     "output_type": "stream",
     "text": [
      "\n",
      "100%|###################################################################################|175/175[00:06<00:00,27.69it/s]"
     ]
    },
    {
     "name": "stdout",
     "output_type": "stream",
     "text": [
      "\u001b[32m[1022 14:37:40 @base.py:285]\u001b[0m Epoch 686 (global_step 144059) finished, time:6.32 seconds.\n",
      "\u001b[32m[1022 14:37:40 @saver.py:79]\u001b[0m Model saved to ../output/Chicago/DATWGAN_30/model\\model-144059.\n",
      "\u001b[32m[1022 14:37:40 @monitor.py:467]\u001b[0m GAN_loss/d_loss: -0.046933\n",
      "\u001b[32m[1022 14:37:40 @monitor.py:467]\u001b[0m GAN_loss/g_loss: 0.34627\n",
      "\u001b[32m[1022 14:37:40 @monitor.py:467]\u001b[0m GAN_loss/gradient_penalty: 0.0053083\n",
      "\u001b[32m[1022 14:37:40 @monitor.py:467]\u001b[0m GAN_loss/gradient_rms: 0.99909\n",
      "\u001b[32m[1022 14:37:40 @monitor.py:467]\u001b[0m GAN_loss/kl_div: 0.057551\n",
      "\u001b[32m[1022 14:37:40 @monitor.py:467]\u001b[0m QueueInput/queue_size: 50\n",
      "\u001b[32m[1022 14:37:40 @base.py:275]\u001b[0m Start Epoch 687 ...\n"
     ]
    },
    {
     "name": "stderr",
     "output_type": "stream",
     "text": [
      "\n",
      "100%|###################################################################################|175/175[00:06<00:00,27.67it/s]"
     ]
    },
    {
     "name": "stdout",
     "output_type": "stream",
     "text": [
      "\u001b[32m[1022 14:37:47 @base.py:285]\u001b[0m Epoch 687 (global_step 144269) finished, time:6.32 seconds.\n",
      "\u001b[32m[1022 14:37:47 @saver.py:79]\u001b[0m Model saved to ../output/Chicago/DATWGAN_30/model\\model-144269.\n",
      "\u001b[32m[1022 14:37:47 @monitor.py:467]\u001b[0m GAN_loss/d_loss: -0.040321\n",
      "\u001b[32m[1022 14:37:47 @monitor.py:467]\u001b[0m GAN_loss/g_loss: 0.34325\n",
      "\u001b[32m[1022 14:37:47 @monitor.py:467]\u001b[0m GAN_loss/gradient_penalty: 0.0051602\n",
      "\u001b[32m[1022 14:37:47 @monitor.py:467]\u001b[0m GAN_loss/gradient_rms: 0.99838\n",
      "\u001b[32m[1022 14:37:47 @monitor.py:467]\u001b[0m GAN_loss/kl_div: 0.062119\n",
      "\u001b[32m[1022 14:37:47 @monitor.py:467]\u001b[0m QueueInput/queue_size: 50\n",
      "\u001b[32m[1022 14:37:47 @base.py:275]\u001b[0m Start Epoch 688 ...\n"
     ]
    },
    {
     "name": "stderr",
     "output_type": "stream",
     "text": [
      "\n",
      "100%|###################################################################################|175/175[00:06<00:00,27.68it/s]"
     ]
    },
    {
     "name": "stdout",
     "output_type": "stream",
     "text": [
      "\u001b[32m[1022 14:37:53 @base.py:285]\u001b[0m Epoch 688 (global_step 144479) finished, time:6.32 seconds.\n",
      "\u001b[32m[1022 14:37:53 @saver.py:79]\u001b[0m Model saved to ../output/Chicago/DATWGAN_30/model\\model-144479.\n",
      "\u001b[32m[1022 14:37:53 @monitor.py:467]\u001b[0m GAN_loss/d_loss: -0.038232\n",
      "\u001b[32m[1022 14:37:53 @monitor.py:467]\u001b[0m GAN_loss/g_loss: 0.33888\n",
      "\u001b[32m[1022 14:37:53 @monitor.py:467]\u001b[0m GAN_loss/gradient_penalty: 0.0053907\n",
      "\u001b[32m[1022 14:37:53 @monitor.py:467]\u001b[0m GAN_loss/gradient_rms: 1.0007\n",
      "\u001b[32m[1022 14:37:53 @monitor.py:467]\u001b[0m GAN_loss/kl_div: 0.063114\n",
      "\u001b[32m[1022 14:37:53 @monitor.py:467]\u001b[0m QueueInput/queue_size: 50\n",
      "\u001b[32m[1022 14:37:53 @base.py:275]\u001b[0m Start Epoch 689 ...\n"
     ]
    },
    {
     "name": "stderr",
     "output_type": "stream",
     "text": [
      "\n",
      "100%|###################################################################################|175/175[00:06<00:00,27.63it/s]"
     ]
    },
    {
     "name": "stdout",
     "output_type": "stream",
     "text": [
      "\u001b[32m[1022 14:38:00 @base.py:285]\u001b[0m Epoch 689 (global_step 144689) finished, time:6.33 seconds.\n",
      "\u001b[32m[1022 14:38:00 @saver.py:79]\u001b[0m Model saved to ../output/Chicago/DATWGAN_30/model\\model-144689.\n",
      "\u001b[32m[1022 14:38:00 @monitor.py:467]\u001b[0m GAN_loss/d_loss: -0.041406\n",
      "\u001b[32m[1022 14:38:00 @monitor.py:467]\u001b[0m GAN_loss/g_loss: 0.34201\n",
      "\u001b[32m[1022 14:38:00 @monitor.py:467]\u001b[0m GAN_loss/gradient_penalty: 0.0052256\n",
      "\u001b[32m[1022 14:38:00 @monitor.py:467]\u001b[0m GAN_loss/gradient_rms: 0.99897\n",
      "\u001b[32m[1022 14:38:00 @monitor.py:467]\u001b[0m GAN_loss/kl_div: 0.061303\n",
      "\u001b[32m[1022 14:38:00 @monitor.py:467]\u001b[0m QueueInput/queue_size: 50\n",
      "\u001b[32m[1022 14:38:00 @base.py:275]\u001b[0m Start Epoch 690 ...\n"
     ]
    },
    {
     "name": "stderr",
     "output_type": "stream",
     "text": [
      "\n",
      "100%|###################################################################################|175/175[00:06<00:00,27.65it/s]"
     ]
    },
    {
     "name": "stdout",
     "output_type": "stream",
     "text": [
      "\u001b[32m[1022 14:38:06 @base.py:285]\u001b[0m Epoch 690 (global_step 144899) finished, time:6.33 seconds.\n",
      "\u001b[32m[1022 14:38:06 @saver.py:79]\u001b[0m Model saved to ../output/Chicago/DATWGAN_30/model\\model-144899.\n",
      "\u001b[32m[1022 14:38:06 @monitor.py:467]\u001b[0m GAN_loss/d_loss: -0.039648\n",
      "\u001b[32m[1022 14:38:06 @monitor.py:467]\u001b[0m GAN_loss/g_loss: 0.33414\n",
      "\u001b[32m[1022 14:38:06 @monitor.py:467]\u001b[0m GAN_loss/gradient_penalty: 0.0053553\n",
      "\u001b[32m[1022 14:38:06 @monitor.py:467]\u001b[0m GAN_loss/gradient_rms: 1.0006\n",
      "\u001b[32m[1022 14:38:06 @monitor.py:467]\u001b[0m GAN_loss/kl_div: 0.061865\n",
      "\u001b[32m[1022 14:38:06 @monitor.py:467]\u001b[0m QueueInput/queue_size: 50\n",
      "\u001b[32m[1022 14:38:06 @base.py:275]\u001b[0m Start Epoch 691 ...\n"
     ]
    },
    {
     "name": "stderr",
     "output_type": "stream",
     "text": [
      "\n",
      "100%|###################################################################################|175/175[00:06<00:00,27.68it/s]"
     ]
    },
    {
     "name": "stdout",
     "output_type": "stream",
     "text": [
      "\u001b[32m[1022 14:38:12 @base.py:285]\u001b[0m Epoch 691 (global_step 145109) finished, time:6.32 seconds.\n",
      "\u001b[32m[1022 14:38:13 @saver.py:79]\u001b[0m Model saved to ../output/Chicago/DATWGAN_30/model\\model-145109.\n",
      "\u001b[32m[1022 14:38:13 @monitor.py:467]\u001b[0m GAN_loss/d_loss: -0.042778\n",
      "\u001b[32m[1022 14:38:13 @monitor.py:467]\u001b[0m GAN_loss/g_loss: 0.34898\n",
      "\u001b[32m[1022 14:38:13 @monitor.py:467]\u001b[0m GAN_loss/gradient_penalty: 0.0052153\n",
      "\u001b[32m[1022 14:38:13 @monitor.py:467]\u001b[0m GAN_loss/gradient_rms: 0.99863\n",
      "\u001b[32m[1022 14:38:13 @monitor.py:467]\u001b[0m GAN_loss/kl_div: 0.056487\n",
      "\u001b[32m[1022 14:38:13 @monitor.py:467]\u001b[0m QueueInput/queue_size: 50\n",
      "\u001b[32m[1022 14:38:13 @base.py:275]\u001b[0m Start Epoch 692 ...\n"
     ]
    },
    {
     "name": "stderr",
     "output_type": "stream",
     "text": [
      "\n",
      "100%|###################################################################################|175/175[00:06<00:00,27.62it/s]"
     ]
    },
    {
     "name": "stdout",
     "output_type": "stream",
     "text": [
      "\u001b[32m[1022 14:38:19 @base.py:285]\u001b[0m Epoch 692 (global_step 145319) finished, time:6.34 seconds.\n",
      "\u001b[32m[1022 14:38:19 @saver.py:79]\u001b[0m Model saved to ../output/Chicago/DATWGAN_30/model\\model-145319.\n",
      "\u001b[32m[1022 14:38:19 @monitor.py:467]\u001b[0m GAN_loss/d_loss: -0.041688\n",
      "\u001b[32m[1022 14:38:19 @monitor.py:467]\u001b[0m GAN_loss/g_loss: 0.34178\n",
      "\u001b[32m[1022 14:38:19 @monitor.py:467]\u001b[0m GAN_loss/gradient_penalty: 0.0054431\n",
      "\u001b[32m[1022 14:38:19 @monitor.py:467]\u001b[0m GAN_loss/gradient_rms: 0.99939\n",
      "\u001b[32m[1022 14:38:19 @monitor.py:467]\u001b[0m GAN_loss/kl_div: 0.057734\n",
      "\u001b[32m[1022 14:38:19 @monitor.py:467]\u001b[0m QueueInput/queue_size: 50\n",
      "\u001b[32m[1022 14:38:19 @base.py:275]\u001b[0m Start Epoch 693 ...\n"
     ]
    },
    {
     "name": "stderr",
     "output_type": "stream",
     "text": [
      "\n",
      "100%|###################################################################################|175/175[00:06<00:00,27.66it/s]"
     ]
    },
    {
     "name": "stdout",
     "output_type": "stream",
     "text": [
      "\u001b[32m[1022 14:38:25 @base.py:285]\u001b[0m Epoch 693 (global_step 145529) finished, time:6.33 seconds.\n",
      "\u001b[32m[1022 14:38:26 @saver.py:79]\u001b[0m Model saved to ../output/Chicago/DATWGAN_30/model\\model-145529.\n",
      "\u001b[32m[1022 14:38:26 @monitor.py:467]\u001b[0m GAN_loss/d_loss: -0.034654\n",
      "\u001b[32m[1022 14:38:26 @monitor.py:467]\u001b[0m GAN_loss/g_loss: 0.33616\n",
      "\u001b[32m[1022 14:38:26 @monitor.py:467]\u001b[0m GAN_loss/gradient_penalty: 0.0052398\n",
      "\u001b[32m[1022 14:38:26 @monitor.py:467]\u001b[0m GAN_loss/gradient_rms: 0.99856\n",
      "\u001b[32m[1022 14:38:26 @monitor.py:467]\u001b[0m GAN_loss/kl_div: 0.062901\n",
      "\u001b[32m[1022 14:38:26 @monitor.py:467]\u001b[0m QueueInput/queue_size: 50\n",
      "\u001b[32m[1022 14:38:26 @base.py:275]\u001b[0m Start Epoch 694 ...\n"
     ]
    },
    {
     "name": "stderr",
     "output_type": "stream",
     "text": [
      "\n",
      "100%|###################################################################################|175/175[00:06<00:00,27.67it/s]"
     ]
    },
    {
     "name": "stdout",
     "output_type": "stream",
     "text": [
      "\u001b[32m[1022 14:38:32 @base.py:285]\u001b[0m Epoch 694 (global_step 145739) finished, time:6.33 seconds.\n",
      "\u001b[32m[1022 14:38:32 @saver.py:79]\u001b[0m Model saved to ../output/Chicago/DATWGAN_30/model\\model-145739.\n",
      "\u001b[32m[1022 14:38:32 @monitor.py:467]\u001b[0m GAN_loss/d_loss: -0.043209\n",
      "\u001b[32m[1022 14:38:32 @monitor.py:467]\u001b[0m GAN_loss/g_loss: 0.33191\n",
      "\u001b[32m[1022 14:38:32 @monitor.py:467]\u001b[0m GAN_loss/gradient_penalty: 0.0051511\n",
      "\u001b[32m[1022 14:38:32 @monitor.py:467]\u001b[0m GAN_loss/gradient_rms: 1.0005\n",
      "\u001b[32m[1022 14:38:32 @monitor.py:467]\u001b[0m GAN_loss/kl_div: 0.059379\n",
      "\u001b[32m[1022 14:38:32 @monitor.py:467]\u001b[0m QueueInput/queue_size: 50\n",
      "\u001b[32m[1022 14:38:32 @base.py:275]\u001b[0m Start Epoch 695 ...\n"
     ]
    },
    {
     "name": "stderr",
     "output_type": "stream",
     "text": [
      "\n",
      "100%|###################################################################################|175/175[00:06<00:00,27.67it/s]"
     ]
    },
    {
     "name": "stdout",
     "output_type": "stream",
     "text": [
      "\u001b[32m[1022 14:38:38 @base.py:285]\u001b[0m Epoch 695 (global_step 145949) finished, time:6.32 seconds.\n",
      "\u001b[32m[1022 14:38:39 @saver.py:79]\u001b[0m Model saved to ../output/Chicago/DATWGAN_30/model\\model-145949.\n",
      "\u001b[32m[1022 14:38:39 @monitor.py:467]\u001b[0m GAN_loss/d_loss: -0.04111\n",
      "\u001b[32m[1022 14:38:39 @monitor.py:467]\u001b[0m GAN_loss/g_loss: 0.34199\n",
      "\u001b[32m[1022 14:38:39 @monitor.py:467]\u001b[0m GAN_loss/gradient_penalty: 0.0053065\n",
      "\u001b[32m[1022 14:38:39 @monitor.py:467]\u001b[0m GAN_loss/gradient_rms: 1\n",
      "\u001b[32m[1022 14:38:39 @monitor.py:467]\u001b[0m GAN_loss/kl_div: 0.060897\n",
      "\u001b[32m[1022 14:38:39 @monitor.py:467]\u001b[0m QueueInput/queue_size: 50\n",
      "\u001b[32m[1022 14:38:39 @base.py:275]\u001b[0m Start Epoch 696 ...\n"
     ]
    },
    {
     "name": "stderr",
     "output_type": "stream",
     "text": [
      "\n",
      "100%|###################################################################################|175/175[00:06<00:00,27.67it/s]"
     ]
    },
    {
     "name": "stdout",
     "output_type": "stream",
     "text": [
      "\u001b[32m[1022 14:38:45 @base.py:285]\u001b[0m Epoch 696 (global_step 146159) finished, time:6.32 seconds.\n",
      "\u001b[32m[1022 14:38:45 @saver.py:79]\u001b[0m Model saved to ../output/Chicago/DATWGAN_30/model\\model-146159.\n",
      "\u001b[32m[1022 14:38:45 @monitor.py:467]\u001b[0m GAN_loss/d_loss: -0.029939\n",
      "\u001b[32m[1022 14:38:45 @monitor.py:467]\u001b[0m GAN_loss/g_loss: 0.33659\n",
      "\u001b[32m[1022 14:38:45 @monitor.py:467]\u001b[0m GAN_loss/gradient_penalty: 0.0053443\n",
      "\u001b[32m[1022 14:38:45 @monitor.py:467]\u001b[0m GAN_loss/gradient_rms: 0.99886\n",
      "\u001b[32m[1022 14:38:45 @monitor.py:467]\u001b[0m GAN_loss/kl_div: 0.059028\n",
      "\u001b[32m[1022 14:38:45 @monitor.py:467]\u001b[0m QueueInput/queue_size: 50\n",
      "\u001b[32m[1022 14:38:45 @base.py:275]\u001b[0m Start Epoch 697 ...\n"
     ]
    },
    {
     "name": "stderr",
     "output_type": "stream",
     "text": [
      "\n",
      "100%|###################################################################################|175/175[00:06<00:00,27.69it/s]"
     ]
    },
    {
     "name": "stdout",
     "output_type": "stream",
     "text": [
      "\u001b[32m[1022 14:38:51 @base.py:285]\u001b[0m Epoch 697 (global_step 146369) finished, time:6.32 seconds.\n",
      "\u001b[32m[1022 14:38:52 @saver.py:79]\u001b[0m Model saved to ../output/Chicago/DATWGAN_30/model\\model-146369.\n",
      "\u001b[32m[1022 14:38:52 @monitor.py:467]\u001b[0m GAN_loss/d_loss: -0.030574\n",
      "\u001b[32m[1022 14:38:52 @monitor.py:467]\u001b[0m GAN_loss/g_loss: 0.34714\n",
      "\u001b[32m[1022 14:38:52 @monitor.py:467]\u001b[0m GAN_loss/gradient_penalty: 0.0051011\n",
      "\u001b[32m[1022 14:38:52 @monitor.py:467]\u001b[0m GAN_loss/gradient_rms: 0.99824\n",
      "\u001b[32m[1022 14:38:52 @monitor.py:467]\u001b[0m GAN_loss/kl_div: 0.059559\n",
      "\u001b[32m[1022 14:38:52 @monitor.py:467]\u001b[0m QueueInput/queue_size: 50\n",
      "\u001b[32m[1022 14:38:52 @base.py:275]\u001b[0m Start Epoch 698 ...\n"
     ]
    },
    {
     "name": "stderr",
     "output_type": "stream",
     "text": [
      "\n",
      "100%|###################################################################################|175/175[00:06<00:00,27.69it/s]"
     ]
    },
    {
     "name": "stdout",
     "output_type": "stream",
     "text": [
      "\u001b[32m[1022 14:38:58 @base.py:285]\u001b[0m Epoch 698 (global_step 146579) finished, time:6.32 seconds.\n",
      "\u001b[32m[1022 14:38:58 @saver.py:79]\u001b[0m Model saved to ../output/Chicago/DATWGAN_30/model\\model-146579.\n",
      "\u001b[32m[1022 14:38:58 @monitor.py:467]\u001b[0m GAN_loss/d_loss: -0.047965\n",
      "\u001b[32m[1022 14:38:58 @monitor.py:467]\u001b[0m GAN_loss/g_loss: 0.34462\n",
      "\u001b[32m[1022 14:38:58 @monitor.py:467]\u001b[0m GAN_loss/gradient_penalty: 0.0052316\n",
      "\u001b[32m[1022 14:38:58 @monitor.py:467]\u001b[0m GAN_loss/gradient_rms: 0.99922\n",
      "\u001b[32m[1022 14:38:58 @monitor.py:467]\u001b[0m GAN_loss/kl_div: 0.063558\n",
      "\u001b[32m[1022 14:38:58 @monitor.py:467]\u001b[0m QueueInput/queue_size: 50\n",
      "\u001b[32m[1022 14:38:58 @base.py:275]\u001b[0m Start Epoch 699 ...\n"
     ]
    },
    {
     "name": "stderr",
     "output_type": "stream",
     "text": [
      "\n",
      "100%|###################################################################################|175/175[00:06<00:00,27.67it/s]"
     ]
    },
    {
     "name": "stdout",
     "output_type": "stream",
     "text": [
      "\u001b[32m[1022 14:39:04 @base.py:285]\u001b[0m Epoch 699 (global_step 146789) finished, time:6.33 seconds.\n",
      "\u001b[32m[1022 14:39:04 @saver.py:79]\u001b[0m Model saved to ../output/Chicago/DATWGAN_30/model\\model-146789.\n",
      "\u001b[32m[1022 14:39:05 @monitor.py:467]\u001b[0m GAN_loss/d_loss: -0.028866\n",
      "\u001b[32m[1022 14:39:05 @monitor.py:467]\u001b[0m GAN_loss/g_loss: 0.33614\n",
      "\u001b[32m[1022 14:39:05 @monitor.py:467]\u001b[0m GAN_loss/gradient_penalty: 0.0052141\n",
      "\u001b[32m[1022 14:39:05 @monitor.py:467]\u001b[0m GAN_loss/gradient_rms: 0.9991\n",
      "\u001b[32m[1022 14:39:05 @monitor.py:467]\u001b[0m GAN_loss/kl_div: 0.062119\n",
      "\u001b[32m[1022 14:39:05 @monitor.py:467]\u001b[0m QueueInput/queue_size: 50\n",
      "\u001b[32m[1022 14:39:05 @base.py:275]\u001b[0m Start Epoch 700 ...\n"
     ]
    },
    {
     "name": "stderr",
     "output_type": "stream",
     "text": [
      "\n",
      "100%|###################################################################################|175/175[00:06<00:00,27.65it/s]"
     ]
    },
    {
     "name": "stdout",
     "output_type": "stream",
     "text": [
      "\u001b[32m[1022 14:39:11 @base.py:285]\u001b[0m Epoch 700 (global_step 146999) finished, time:6.33 seconds.\n",
      "\u001b[32m[1022 14:39:11 @saver.py:79]\u001b[0m Model saved to ../output/Chicago/DATWGAN_30/model\\model-146999.\n",
      "\u001b[32m[1022 14:39:11 @monitor.py:467]\u001b[0m GAN_loss/d_loss: -0.050752\n",
      "\u001b[32m[1022 14:39:11 @monitor.py:467]\u001b[0m GAN_loss/g_loss: 0.34873\n",
      "\u001b[32m[1022 14:39:11 @monitor.py:467]\u001b[0m GAN_loss/gradient_penalty: 0.005242\n",
      "\u001b[32m[1022 14:39:11 @monitor.py:467]\u001b[0m GAN_loss/gradient_rms: 0.99999\n",
      "\u001b[32m[1022 14:39:11 @monitor.py:467]\u001b[0m GAN_loss/kl_div: 0.06057\n",
      "\u001b[32m[1022 14:39:11 @monitor.py:467]\u001b[0m QueueInput/queue_size: 50\n",
      "\u001b[32m[1022 14:39:11 @base.py:275]\u001b[0m Start Epoch 701 ...\n"
     ]
    },
    {
     "name": "stderr",
     "output_type": "stream",
     "text": [
      "\n",
      "100%|###################################################################################|175/175[00:06<00:00,27.66it/s]"
     ]
    },
    {
     "name": "stdout",
     "output_type": "stream",
     "text": [
      "\u001b[32m[1022 14:39:17 @base.py:285]\u001b[0m Epoch 701 (global_step 147209) finished, time:6.33 seconds.\n",
      "\u001b[32m[1022 14:39:17 @saver.py:79]\u001b[0m Model saved to ../output/Chicago/DATWGAN_30/model\\model-147209.\n",
      "\u001b[32m[1022 14:39:18 @monitor.py:467]\u001b[0m GAN_loss/d_loss: -0.042929\n",
      "\u001b[32m[1022 14:39:18 @monitor.py:467]\u001b[0m GAN_loss/g_loss: 0.34288\n",
      "\u001b[32m[1022 14:39:18 @monitor.py:467]\u001b[0m GAN_loss/gradient_penalty: 0.0051839\n",
      "\u001b[32m[1022 14:39:18 @monitor.py:467]\u001b[0m GAN_loss/gradient_rms: 0.99905\n",
      "\u001b[32m[1022 14:39:18 @monitor.py:467]\u001b[0m GAN_loss/kl_div: 0.061859\n",
      "\u001b[32m[1022 14:39:18 @monitor.py:467]\u001b[0m QueueInput/queue_size: 50\n",
      "\u001b[32m[1022 14:39:18 @base.py:275]\u001b[0m Start Epoch 702 ...\n"
     ]
    },
    {
     "name": "stderr",
     "output_type": "stream",
     "text": [
      "\n",
      "100%|###################################################################################|175/175[00:06<00:00,27.68it/s]"
     ]
    },
    {
     "name": "stdout",
     "output_type": "stream",
     "text": [
      "\u001b[32m[1022 14:39:24 @base.py:285]\u001b[0m Epoch 702 (global_step 147419) finished, time:6.32 seconds.\n",
      "\u001b[32m[1022 14:39:24 @saver.py:79]\u001b[0m Model saved to ../output/Chicago/DATWGAN_30/model\\model-147419.\n",
      "\u001b[32m[1022 14:39:24 @monitor.py:467]\u001b[0m GAN_loss/d_loss: -0.048933\n",
      "\u001b[32m[1022 14:39:24 @monitor.py:467]\u001b[0m GAN_loss/g_loss: 0.3393\n",
      "\u001b[32m[1022 14:39:24 @monitor.py:467]\u001b[0m GAN_loss/gradient_penalty: 0.005166\n",
      "\u001b[32m[1022 14:39:24 @monitor.py:467]\u001b[0m GAN_loss/gradient_rms: 0.99971\n",
      "\u001b[32m[1022 14:39:24 @monitor.py:467]\u001b[0m GAN_loss/kl_div: 0.059109\n",
      "\u001b[32m[1022 14:39:24 @monitor.py:467]\u001b[0m QueueInput/queue_size: 50\n",
      "\u001b[32m[1022 14:39:24 @base.py:275]\u001b[0m Start Epoch 703 ...\n"
     ]
    },
    {
     "name": "stderr",
     "output_type": "stream",
     "text": [
      "\n",
      "100%|###################################################################################|175/175[00:06<00:00,27.67it/s]"
     ]
    },
    {
     "name": "stdout",
     "output_type": "stream",
     "text": [
      "\u001b[32m[1022 14:39:30 @base.py:285]\u001b[0m Epoch 703 (global_step 147629) finished, time:6.33 seconds.\n",
      "\u001b[32m[1022 14:39:30 @saver.py:79]\u001b[0m Model saved to ../output/Chicago/DATWGAN_30/model\\model-147629.\n",
      "\u001b[32m[1022 14:39:31 @monitor.py:467]\u001b[0m GAN_loss/d_loss: -0.036721\n",
      "\u001b[32m[1022 14:39:31 @monitor.py:467]\u001b[0m GAN_loss/g_loss: 0.32781\n",
      "\u001b[32m[1022 14:39:31 @monitor.py:467]\u001b[0m GAN_loss/gradient_penalty: 0.005289\n",
      "\u001b[32m[1022 14:39:31 @monitor.py:467]\u001b[0m GAN_loss/gradient_rms: 0.99806\n",
      "\u001b[32m[1022 14:39:31 @monitor.py:467]\u001b[0m GAN_loss/kl_div: 0.054169\n",
      "\u001b[32m[1022 14:39:31 @monitor.py:467]\u001b[0m QueueInput/queue_size: 50\n",
      "\u001b[32m[1022 14:39:31 @base.py:275]\u001b[0m Start Epoch 704 ...\n"
     ]
    },
    {
     "name": "stderr",
     "output_type": "stream",
     "text": [
      "\n",
      "100%|###################################################################################|175/175[00:06<00:00,27.67it/s]"
     ]
    },
    {
     "name": "stdout",
     "output_type": "stream",
     "text": [
      "\u001b[32m[1022 14:39:37 @base.py:285]\u001b[0m Epoch 704 (global_step 147839) finished, time:6.32 seconds.\n",
      "\u001b[32m[1022 14:39:37 @saver.py:79]\u001b[0m Model saved to ../output/Chicago/DATWGAN_30/model\\model-147839.\n",
      "\u001b[32m[1022 14:39:37 @monitor.py:467]\u001b[0m GAN_loss/d_loss: -0.027464\n",
      "\u001b[32m[1022 14:39:37 @monitor.py:467]\u001b[0m GAN_loss/g_loss: 0.3265\n",
      "\u001b[32m[1022 14:39:37 @monitor.py:467]\u001b[0m GAN_loss/gradient_penalty: 0.0052478\n",
      "\u001b[32m[1022 14:39:37 @monitor.py:467]\u001b[0m GAN_loss/gradient_rms: 1.0001\n",
      "\u001b[32m[1022 14:39:37 @monitor.py:467]\u001b[0m GAN_loss/kl_div: 0.06063\n",
      "\u001b[32m[1022 14:39:37 @monitor.py:467]\u001b[0m QueueInput/queue_size: 50\n",
      "\u001b[32m[1022 14:39:37 @base.py:275]\u001b[0m Start Epoch 705 ...\n"
     ]
    },
    {
     "name": "stderr",
     "output_type": "stream",
     "text": [
      "\n",
      "100%|###################################################################################|175/175[00:06<00:00,27.66it/s]"
     ]
    },
    {
     "name": "stdout",
     "output_type": "stream",
     "text": [
      "\u001b[32m[1022 14:39:43 @base.py:285]\u001b[0m Epoch 705 (global_step 148049) finished, time:6.33 seconds.\n",
      "\u001b[32m[1022 14:39:43 @saver.py:79]\u001b[0m Model saved to ../output/Chicago/DATWGAN_30/model\\model-148049.\n",
      "\u001b[32m[1022 14:39:44 @monitor.py:467]\u001b[0m GAN_loss/d_loss: -0.040619\n",
      "\u001b[32m[1022 14:39:44 @monitor.py:467]\u001b[0m GAN_loss/g_loss: 0.33016\n",
      "\u001b[32m[1022 14:39:44 @monitor.py:467]\u001b[0m GAN_loss/gradient_penalty: 0.0051851\n",
      "\u001b[32m[1022 14:39:44 @monitor.py:467]\u001b[0m GAN_loss/gradient_rms: 0.99752\n",
      "\u001b[32m[1022 14:39:44 @monitor.py:467]\u001b[0m GAN_loss/kl_div: 0.060974\n",
      "\u001b[32m[1022 14:39:44 @monitor.py:467]\u001b[0m QueueInput/queue_size: 50\n",
      "\u001b[32m[1022 14:39:44 @base.py:275]\u001b[0m Start Epoch 706 ...\n"
     ]
    },
    {
     "name": "stderr",
     "output_type": "stream",
     "text": [
      "\n",
      "100%|###################################################################################|175/175[00:06<00:00,27.63it/s]"
     ]
    },
    {
     "name": "stdout",
     "output_type": "stream",
     "text": [
      "\u001b[32m[1022 14:39:50 @base.py:285]\u001b[0m Epoch 706 (global_step 148259) finished, time:6.33 seconds.\n",
      "\u001b[32m[1022 14:39:50 @saver.py:79]\u001b[0m Model saved to ../output/Chicago/DATWGAN_30/model\\model-148259.\n",
      "\u001b[32m[1022 14:39:50 @monitor.py:467]\u001b[0m GAN_loss/d_loss: -0.035585\n",
      "\u001b[32m[1022 14:39:50 @monitor.py:467]\u001b[0m GAN_loss/g_loss: 0.32047\n",
      "\u001b[32m[1022 14:39:50 @monitor.py:467]\u001b[0m GAN_loss/gradient_penalty: 0.0052726\n",
      "\u001b[32m[1022 14:39:50 @monitor.py:467]\u001b[0m GAN_loss/gradient_rms: 0.99836\n",
      "\u001b[32m[1022 14:39:50 @monitor.py:467]\u001b[0m GAN_loss/kl_div: 0.056947\n",
      "\u001b[32m[1022 14:39:50 @monitor.py:467]\u001b[0m QueueInput/queue_size: 50\n",
      "\u001b[32m[1022 14:39:50 @base.py:275]\u001b[0m Start Epoch 707 ...\n"
     ]
    },
    {
     "name": "stderr",
     "output_type": "stream",
     "text": [
      "\n",
      "100%|###################################################################################|175/175[00:06<00:00,27.66it/s]"
     ]
    },
    {
     "name": "stdout",
     "output_type": "stream",
     "text": [
      "\u001b[32m[1022 14:39:56 @base.py:285]\u001b[0m Epoch 707 (global_step 148469) finished, time:6.33 seconds.\n",
      "\u001b[32m[1022 14:39:56 @saver.py:79]\u001b[0m Model saved to ../output/Chicago/DATWGAN_30/model\\model-148469.\n",
      "\u001b[32m[1022 14:39:57 @monitor.py:467]\u001b[0m GAN_loss/d_loss: -0.034113\n",
      "\u001b[32m[1022 14:39:57 @monitor.py:467]\u001b[0m GAN_loss/g_loss: 0.31356\n",
      "\u001b[32m[1022 14:39:57 @monitor.py:467]\u001b[0m GAN_loss/gradient_penalty: 0.0052423\n",
      "\u001b[32m[1022 14:39:57 @monitor.py:467]\u001b[0m GAN_loss/gradient_rms: 0.99931\n",
      "\u001b[32m[1022 14:39:57 @monitor.py:467]\u001b[0m GAN_loss/kl_div: 0.062121\n",
      "\u001b[32m[1022 14:39:57 @monitor.py:467]\u001b[0m QueueInput/queue_size: 50\n",
      "\u001b[32m[1022 14:39:57 @base.py:275]\u001b[0m Start Epoch 708 ...\n"
     ]
    },
    {
     "name": "stderr",
     "output_type": "stream",
     "text": [
      "\n",
      "100%|###################################################################################|175/175[00:06<00:00,27.65it/s]"
     ]
    },
    {
     "name": "stdout",
     "output_type": "stream",
     "text": [
      "\u001b[32m[1022 14:40:03 @base.py:285]\u001b[0m Epoch 708 (global_step 148679) finished, time:6.33 seconds.\n",
      "\u001b[32m[1022 14:40:03 @saver.py:79]\u001b[0m Model saved to ../output/Chicago/DATWGAN_30/model\\model-148679.\n",
      "\u001b[32m[1022 14:40:03 @monitor.py:467]\u001b[0m GAN_loss/d_loss: -0.02345\n",
      "\u001b[32m[1022 14:40:03 @monitor.py:467]\u001b[0m GAN_loss/g_loss: 0.30376\n",
      "\u001b[32m[1022 14:40:03 @monitor.py:467]\u001b[0m GAN_loss/gradient_penalty: 0.0053739\n",
      "\u001b[32m[1022 14:40:03 @monitor.py:467]\u001b[0m GAN_loss/gradient_rms: 0.99817\n",
      "\u001b[32m[1022 14:40:03 @monitor.py:467]\u001b[0m GAN_loss/kl_div: 0.061723\n",
      "\u001b[32m[1022 14:40:03 @monitor.py:467]\u001b[0m QueueInput/queue_size: 50\n",
      "\u001b[32m[1022 14:40:03 @base.py:275]\u001b[0m Start Epoch 709 ...\n"
     ]
    },
    {
     "name": "stderr",
     "output_type": "stream",
     "text": [
      "\n",
      "100%|###################################################################################|175/175[00:06<00:00,27.67it/s]"
     ]
    },
    {
     "name": "stdout",
     "output_type": "stream",
     "text": [
      "\u001b[32m[1022 14:40:09 @base.py:285]\u001b[0m Epoch 709 (global_step 148889) finished, time:6.33 seconds.\n",
      "\u001b[32m[1022 14:40:09 @saver.py:79]\u001b[0m Model saved to ../output/Chicago/DATWGAN_30/model\\model-148889.\n",
      "\u001b[32m[1022 14:40:10 @monitor.py:467]\u001b[0m GAN_loss/d_loss: -0.029313\n",
      "\u001b[32m[1022 14:40:10 @monitor.py:467]\u001b[0m GAN_loss/g_loss: 0.31828\n",
      "\u001b[32m[1022 14:40:10 @monitor.py:467]\u001b[0m GAN_loss/gradient_penalty: 0.0052724\n",
      "\u001b[32m[1022 14:40:10 @monitor.py:467]\u001b[0m GAN_loss/gradient_rms: 0.99836\n",
      "\u001b[32m[1022 14:40:10 @monitor.py:467]\u001b[0m GAN_loss/kl_div: 0.059158\n",
      "\u001b[32m[1022 14:40:10 @monitor.py:467]\u001b[0m QueueInput/queue_size: 50\n",
      "\u001b[32m[1022 14:40:10 @base.py:275]\u001b[0m Start Epoch 710 ...\n"
     ]
    },
    {
     "name": "stderr",
     "output_type": "stream",
     "text": [
      "\n",
      "100%|###################################################################################|175/175[00:06<00:00,27.66it/s]"
     ]
    },
    {
     "name": "stdout",
     "output_type": "stream",
     "text": [
      "\u001b[32m[1022 14:40:16 @base.py:285]\u001b[0m Epoch 710 (global_step 149099) finished, time:6.33 seconds.\n",
      "\u001b[32m[1022 14:40:16 @saver.py:79]\u001b[0m Model saved to ../output/Chicago/DATWGAN_30/model\\model-149099.\n",
      "\u001b[32m[1022 14:40:16 @monitor.py:467]\u001b[0m GAN_loss/d_loss: -0.038055\n",
      "\u001b[32m[1022 14:40:16 @monitor.py:467]\u001b[0m GAN_loss/g_loss: 0.32375\n",
      "\u001b[32m[1022 14:40:16 @monitor.py:467]\u001b[0m GAN_loss/gradient_penalty: 0.0051768\n",
      "\u001b[32m[1022 14:40:16 @monitor.py:467]\u001b[0m GAN_loss/gradient_rms: 0.99979\n",
      "\u001b[32m[1022 14:40:16 @monitor.py:467]\u001b[0m GAN_loss/kl_div: 0.061502\n",
      "\u001b[32m[1022 14:40:16 @monitor.py:467]\u001b[0m QueueInput/queue_size: 50\n",
      "\u001b[32m[1022 14:40:16 @base.py:275]\u001b[0m Start Epoch 711 ...\n"
     ]
    },
    {
     "name": "stderr",
     "output_type": "stream",
     "text": [
      "\n",
      "100%|###################################################################################|175/175[00:06<00:00,27.68it/s]"
     ]
    },
    {
     "name": "stdout",
     "output_type": "stream",
     "text": [
      "\u001b[32m[1022 14:40:22 @base.py:285]\u001b[0m Epoch 711 (global_step 149309) finished, time:6.32 seconds.\n",
      "\u001b[32m[1022 14:40:22 @saver.py:79]\u001b[0m Model saved to ../output/Chicago/DATWGAN_30/model\\model-149309.\n",
      "\u001b[32m[1022 14:40:23 @monitor.py:467]\u001b[0m GAN_loss/d_loss: -0.040556\n",
      "\u001b[32m[1022 14:40:23 @monitor.py:467]\u001b[0m GAN_loss/g_loss: 0.32224\n",
      "\u001b[32m[1022 14:40:23 @monitor.py:467]\u001b[0m GAN_loss/gradient_penalty: 0.0052751\n",
      "\u001b[32m[1022 14:40:23 @monitor.py:467]\u001b[0m GAN_loss/gradient_rms: 0.99906\n",
      "\u001b[32m[1022 14:40:23 @monitor.py:467]\u001b[0m GAN_loss/kl_div: 0.058837\n",
      "\u001b[32m[1022 14:40:23 @monitor.py:467]\u001b[0m QueueInput/queue_size: 50\n",
      "\u001b[32m[1022 14:40:23 @base.py:275]\u001b[0m Start Epoch 712 ...\n"
     ]
    },
    {
     "name": "stderr",
     "output_type": "stream",
     "text": [
      "\n",
      "100%|###################################################################################|175/175[00:06<00:00,27.65it/s]"
     ]
    },
    {
     "name": "stdout",
     "output_type": "stream",
     "text": [
      "\u001b[32m[1022 14:40:29 @base.py:285]\u001b[0m Epoch 712 (global_step 149519) finished, time:6.33 seconds.\n",
      "\u001b[32m[1022 14:40:29 @saver.py:79]\u001b[0m Model saved to ../output/Chicago/DATWGAN_30/model\\model-149519.\n",
      "\u001b[32m[1022 14:40:29 @monitor.py:467]\u001b[0m GAN_loss/d_loss: -0.035618\n",
      "\u001b[32m[1022 14:40:29 @monitor.py:467]\u001b[0m GAN_loss/g_loss: 0.31568\n",
      "\u001b[32m[1022 14:40:29 @monitor.py:467]\u001b[0m GAN_loss/gradient_penalty: 0.0052444\n",
      "\u001b[32m[1022 14:40:29 @monitor.py:467]\u001b[0m GAN_loss/gradient_rms: 0.99977\n",
      "\u001b[32m[1022 14:40:29 @monitor.py:467]\u001b[0m GAN_loss/kl_div: 0.060808\n",
      "\u001b[32m[1022 14:40:29 @monitor.py:467]\u001b[0m QueueInput/queue_size: 50\n",
      "\u001b[32m[1022 14:40:29 @base.py:275]\u001b[0m Start Epoch 713 ...\n"
     ]
    },
    {
     "name": "stderr",
     "output_type": "stream",
     "text": [
      "\n",
      "100%|###################################################################################|175/175[00:06<00:00,27.68it/s]"
     ]
    },
    {
     "name": "stdout",
     "output_type": "stream",
     "text": [
      "\u001b[32m[1022 14:40:35 @base.py:285]\u001b[0m Epoch 713 (global_step 149729) finished, time:6.32 seconds.\n",
      "\u001b[32m[1022 14:40:35 @saver.py:79]\u001b[0m Model saved to ../output/Chicago/DATWGAN_30/model\\model-149729.\n",
      "\u001b[32m[1022 14:40:36 @monitor.py:467]\u001b[0m GAN_loss/d_loss: -0.040321\n",
      "\u001b[32m[1022 14:40:36 @monitor.py:467]\u001b[0m GAN_loss/g_loss: 0.32318\n",
      "\u001b[32m[1022 14:40:36 @monitor.py:467]\u001b[0m GAN_loss/gradient_penalty: 0.0052694\n",
      "\u001b[32m[1022 14:40:36 @monitor.py:467]\u001b[0m GAN_loss/gradient_rms: 0.99898\n",
      "\u001b[32m[1022 14:40:36 @monitor.py:467]\u001b[0m GAN_loss/kl_div: 0.059505\n",
      "\u001b[32m[1022 14:40:36 @monitor.py:467]\u001b[0m QueueInput/queue_size: 50\n",
      "\u001b[32m[1022 14:40:36 @base.py:275]\u001b[0m Start Epoch 714 ...\n"
     ]
    },
    {
     "name": "stderr",
     "output_type": "stream",
     "text": [
      "\n",
      "100%|###################################################################################|175/175[00:06<00:00,27.68it/s]"
     ]
    },
    {
     "name": "stdout",
     "output_type": "stream",
     "text": [
      "\u001b[32m[1022 14:40:42 @base.py:285]\u001b[0m Epoch 714 (global_step 149939) finished, time:6.32 seconds.\n",
      "\u001b[32m[1022 14:40:42 @saver.py:79]\u001b[0m Model saved to ../output/Chicago/DATWGAN_30/model\\model-149939.\n",
      "\u001b[32m[1022 14:40:42 @monitor.py:467]\u001b[0m GAN_loss/d_loss: -0.046044\n",
      "\u001b[32m[1022 14:40:42 @monitor.py:467]\u001b[0m GAN_loss/g_loss: 0.32354\n",
      "\u001b[32m[1022 14:40:42 @monitor.py:467]\u001b[0m GAN_loss/gradient_penalty: 0.0053642\n",
      "\u001b[32m[1022 14:40:42 @monitor.py:467]\u001b[0m GAN_loss/gradient_rms: 0.99998\n",
      "\u001b[32m[1022 14:40:42 @monitor.py:467]\u001b[0m GAN_loss/kl_div: 0.056112\n",
      "\u001b[32m[1022 14:40:42 @monitor.py:467]\u001b[0m QueueInput/queue_size: 50\n",
      "\u001b[32m[1022 14:40:42 @base.py:275]\u001b[0m Start Epoch 715 ...\n"
     ]
    },
    {
     "name": "stderr",
     "output_type": "stream",
     "text": [
      "\n",
      "100%|###################################################################################|175/175[00:06<00:00,27.66it/s]"
     ]
    },
    {
     "name": "stdout",
     "output_type": "stream",
     "text": [
      "\u001b[32m[1022 14:40:48 @base.py:285]\u001b[0m Epoch 715 (global_step 150149) finished, time:6.33 seconds.\n",
      "\u001b[32m[1022 14:40:48 @saver.py:79]\u001b[0m Model saved to ../output/Chicago/DATWGAN_30/model\\model-150149.\n",
      "\u001b[32m[1022 14:40:49 @monitor.py:467]\u001b[0m GAN_loss/d_loss: -0.036673\n",
      "\u001b[32m[1022 14:40:49 @monitor.py:467]\u001b[0m GAN_loss/g_loss: 0.32182\n",
      "\u001b[32m[1022 14:40:49 @monitor.py:467]\u001b[0m GAN_loss/gradient_penalty: 0.0052337\n",
      "\u001b[32m[1022 14:40:49 @monitor.py:467]\u001b[0m GAN_loss/gradient_rms: 0.99924\n",
      "\u001b[32m[1022 14:40:49 @monitor.py:467]\u001b[0m GAN_loss/kl_div: 0.059203\n",
      "\u001b[32m[1022 14:40:49 @monitor.py:467]\u001b[0m QueueInput/queue_size: 50\n",
      "\u001b[32m[1022 14:40:49 @base.py:275]\u001b[0m Start Epoch 716 ...\n"
     ]
    },
    {
     "name": "stderr",
     "output_type": "stream",
     "text": [
      "\n",
      "100%|###################################################################################|175/175[00:06<00:00,27.65it/s]"
     ]
    },
    {
     "name": "stdout",
     "output_type": "stream",
     "text": [
      "\u001b[32m[1022 14:40:55 @base.py:285]\u001b[0m Epoch 716 (global_step 150359) finished, time:6.33 seconds.\n",
      "\u001b[32m[1022 14:40:55 @saver.py:79]\u001b[0m Model saved to ../output/Chicago/DATWGAN_30/model\\model-150359.\n",
      "\u001b[32m[1022 14:40:55 @monitor.py:467]\u001b[0m GAN_loss/d_loss: -0.046393\n",
      "\u001b[32m[1022 14:40:55 @monitor.py:467]\u001b[0m GAN_loss/g_loss: 0.32057\n",
      "\u001b[32m[1022 14:40:55 @monitor.py:467]\u001b[0m GAN_loss/gradient_penalty: 0.0052933\n",
      "\u001b[32m[1022 14:40:55 @monitor.py:467]\u001b[0m GAN_loss/gradient_rms: 0.99851\n",
      "\u001b[32m[1022 14:40:55 @monitor.py:467]\u001b[0m GAN_loss/kl_div: 0.057778\n",
      "\u001b[32m[1022 14:40:55 @monitor.py:467]\u001b[0m QueueInput/queue_size: 50\n",
      "\u001b[32m[1022 14:40:55 @base.py:275]\u001b[0m Start Epoch 717 ...\n"
     ]
    },
    {
     "name": "stderr",
     "output_type": "stream",
     "text": [
      "\n",
      "100%|###################################################################################|175/175[00:06<00:00,27.69it/s]"
     ]
    },
    {
     "name": "stdout",
     "output_type": "stream",
     "text": [
      "\u001b[32m[1022 14:41:01 @base.py:285]\u001b[0m Epoch 717 (global_step 150569) finished, time:6.32 seconds.\n",
      "\u001b[32m[1022 14:41:01 @saver.py:79]\u001b[0m Model saved to ../output/Chicago/DATWGAN_30/model\\model-150569.\n",
      "\u001b[32m[1022 14:41:01 @monitor.py:467]\u001b[0m GAN_loss/d_loss: -0.029727\n",
      "\u001b[32m[1022 14:41:01 @monitor.py:467]\u001b[0m GAN_loss/g_loss: 0.31282\n",
      "\u001b[32m[1022 14:41:01 @monitor.py:467]\u001b[0m GAN_loss/gradient_penalty: 0.0052118\n",
      "\u001b[32m[1022 14:41:01 @monitor.py:467]\u001b[0m GAN_loss/gradient_rms: 0.99855\n",
      "\u001b[32m[1022 14:41:01 @monitor.py:467]\u001b[0m GAN_loss/kl_div: 0.059955\n",
      "\u001b[32m[1022 14:41:01 @monitor.py:467]\u001b[0m QueueInput/queue_size: 50\n",
      "\u001b[32m[1022 14:41:01 @base.py:275]\u001b[0m Start Epoch 718 ...\n"
     ]
    },
    {
     "name": "stderr",
     "output_type": "stream",
     "text": [
      "\n",
      "100%|###################################################################################|175/175[00:06<00:00,27.55it/s]"
     ]
    },
    {
     "name": "stdout",
     "output_type": "stream",
     "text": [
      "\u001b[32m[1022 14:41:08 @base.py:285]\u001b[0m Epoch 718 (global_step 150779) finished, time:6.35 seconds.\n",
      "\u001b[32m[1022 14:41:08 @saver.py:79]\u001b[0m Model saved to ../output/Chicago/DATWGAN_30/model\\model-150779.\n"
     ]
    },
    {
     "name": "stderr",
     "output_type": "stream",
     "text": [
      "\n"
     ]
    },
    {
     "name": "stdout",
     "output_type": "stream",
     "text": [
      "\u001b[32m[1022 14:41:08 @monitor.py:467]\u001b[0m GAN_loss/d_loss: -0.036249\n",
      "\u001b[32m[1022 14:41:08 @monitor.py:467]\u001b[0m GAN_loss/g_loss: 0.32306\n",
      "\u001b[32m[1022 14:41:08 @monitor.py:467]\u001b[0m GAN_loss/gradient_penalty: 0.0052797\n",
      "\u001b[32m[1022 14:41:08 @monitor.py:467]\u001b[0m GAN_loss/gradient_rms: 0.99839\n",
      "\u001b[32m[1022 14:41:08 @monitor.py:467]\u001b[0m GAN_loss/kl_div: 0.059027\n",
      "\u001b[32m[1022 14:41:08 @monitor.py:467]\u001b[0m QueueInput/queue_size: 50\n",
      "\u001b[32m[1022 14:41:08 @base.py:275]\u001b[0m Start Epoch 719 ...\n"
     ]
    },
    {
     "name": "stderr",
     "output_type": "stream",
     "text": [
      "100%|###################################################################################|175/175[00:06<00:00,27.68it/s]"
     ]
    },
    {
     "name": "stdout",
     "output_type": "stream",
     "text": [
      "\u001b[32m[1022 14:41:14 @base.py:285]\u001b[0m Epoch 719 (global_step 150989) finished, time:6.32 seconds.\n",
      "\u001b[32m[1022 14:41:14 @saver.py:79]\u001b[0m Model saved to ../output/Chicago/DATWGAN_30/model\\model-150989.\n",
      "\u001b[32m[1022 14:41:15 @monitor.py:467]\u001b[0m GAN_loss/d_loss: -0.043725\n",
      "\u001b[32m[1022 14:41:15 @monitor.py:467]\u001b[0m GAN_loss/g_loss: 0.32979\n",
      "\u001b[32m[1022 14:41:15 @monitor.py:467]\u001b[0m GAN_loss/gradient_penalty: 0.0054066\n",
      "\u001b[32m[1022 14:41:15 @monitor.py:467]\u001b[0m GAN_loss/gradient_rms: 0.99897\n",
      "\u001b[32m[1022 14:41:15 @monitor.py:467]\u001b[0m GAN_loss/kl_div: 0.061819\n",
      "\u001b[32m[1022 14:41:15 @monitor.py:467]\u001b[0m QueueInput/queue_size: 50\n",
      "\u001b[32m[1022 14:41:15 @base.py:275]\u001b[0m Start Epoch 720 ...\n"
     ]
    },
    {
     "name": "stderr",
     "output_type": "stream",
     "text": [
      "\n",
      "100%|###################################################################################|175/175[00:06<00:00,27.67it/s]"
     ]
    },
    {
     "name": "stdout",
     "output_type": "stream",
     "text": [
      "\u001b[32m[1022 14:41:21 @base.py:285]\u001b[0m Epoch 720 (global_step 151199) finished, time:6.32 seconds.\n",
      "\u001b[32m[1022 14:41:21 @saver.py:79]\u001b[0m Model saved to ../output/Chicago/DATWGAN_30/model\\model-151199.\n",
      "\u001b[32m[1022 14:41:21 @monitor.py:467]\u001b[0m GAN_loss/d_loss: -0.045495\n",
      "\u001b[32m[1022 14:41:21 @monitor.py:467]\u001b[0m GAN_loss/g_loss: 0.32626\n",
      "\u001b[32m[1022 14:41:21 @monitor.py:467]\u001b[0m GAN_loss/gradient_penalty: 0.0053483\n",
      "\u001b[32m[1022 14:41:21 @monitor.py:467]\u001b[0m GAN_loss/gradient_rms: 0.99987\n",
      "\u001b[32m[1022 14:41:21 @monitor.py:467]\u001b[0m GAN_loss/kl_div: 0.057896\n",
      "\u001b[32m[1022 14:41:21 @monitor.py:467]\u001b[0m QueueInput/queue_size: 50\n",
      "\u001b[32m[1022 14:41:21 @base.py:275]\u001b[0m Start Epoch 721 ...\n"
     ]
    },
    {
     "name": "stderr",
     "output_type": "stream",
     "text": [
      "\n",
      "100%|###################################################################################|175/175[00:06<00:00,27.67it/s]"
     ]
    },
    {
     "name": "stdout",
     "output_type": "stream",
     "text": [
      "\u001b[32m[1022 14:41:27 @base.py:285]\u001b[0m Epoch 721 (global_step 151409) finished, time:6.33 seconds.\n",
      "\u001b[32m[1022 14:41:27 @saver.py:79]\u001b[0m Model saved to ../output/Chicago/DATWGAN_30/model\\model-151409.\n",
      "\u001b[32m[1022 14:41:28 @monitor.py:467]\u001b[0m GAN_loss/d_loss: -0.044496\n",
      "\u001b[32m[1022 14:41:28 @monitor.py:467]\u001b[0m GAN_loss/g_loss: 0.32156\n",
      "\u001b[32m[1022 14:41:28 @monitor.py:467]\u001b[0m GAN_loss/gradient_penalty: 0.0053076\n",
      "\u001b[32m[1022 14:41:28 @monitor.py:467]\u001b[0m GAN_loss/gradient_rms: 0.99862\n",
      "\u001b[32m[1022 14:41:28 @monitor.py:467]\u001b[0m GAN_loss/kl_div: 0.059282\n",
      "\u001b[32m[1022 14:41:28 @monitor.py:467]\u001b[0m QueueInput/queue_size: 50\n",
      "\u001b[32m[1022 14:41:28 @base.py:275]\u001b[0m Start Epoch 722 ...\n"
     ]
    },
    {
     "name": "stderr",
     "output_type": "stream",
     "text": [
      "\n",
      "100%|###################################################################################|175/175[00:06<00:00,27.54it/s]"
     ]
    },
    {
     "name": "stdout",
     "output_type": "stream",
     "text": [
      "\u001b[32m[1022 14:41:34 @base.py:285]\u001b[0m Epoch 722 (global_step 151619) finished, time:6.35 seconds.\n",
      "\u001b[32m[1022 14:41:34 @saver.py:79]\u001b[0m Model saved to ../output/Chicago/DATWGAN_30/model\\model-151619.\n",
      "\u001b[32m[1022 14:41:34 @monitor.py:467]\u001b[0m GAN_loss/d_loss: -0.047366\n",
      "\u001b[32m[1022 14:41:34 @monitor.py:467]\u001b[0m GAN_loss/g_loss: 0.32173\n",
      "\u001b[32m[1022 14:41:34 @monitor.py:467]\u001b[0m GAN_loss/gradient_penalty: 0.0053037\n",
      "\u001b[32m[1022 14:41:34 @monitor.py:467]\u001b[0m GAN_loss/gradient_rms: 0.99867\n",
      "\u001b[32m[1022 14:41:34 @monitor.py:467]\u001b[0m GAN_loss/kl_div: 0.05816\n",
      "\u001b[32m[1022 14:41:34 @monitor.py:467]\u001b[0m QueueInput/queue_size: 50\n",
      "\u001b[32m[1022 14:41:34 @base.py:275]\u001b[0m Start Epoch 723 ...\n"
     ]
    },
    {
     "name": "stderr",
     "output_type": "stream",
     "text": [
      "\n",
      "100%|###################################################################################|175/175[00:06<00:00,27.63it/s]"
     ]
    },
    {
     "name": "stdout",
     "output_type": "stream",
     "text": [
      "\u001b[32m[1022 14:41:40 @base.py:285]\u001b[0m Epoch 723 (global_step 151829) finished, time:6.33 seconds.\n",
      "\u001b[32m[1022 14:41:40 @saver.py:79]\u001b[0m Model saved to ../output/Chicago/DATWGAN_30/model\\model-151829.\n",
      "\u001b[32m[1022 14:41:41 @monitor.py:467]\u001b[0m GAN_loss/d_loss: -0.044818\n",
      "\u001b[32m[1022 14:41:41 @monitor.py:467]\u001b[0m GAN_loss/g_loss: 0.32101\n",
      "\u001b[32m[1022 14:41:41 @monitor.py:467]\u001b[0m GAN_loss/gradient_penalty: 0.0053159\n",
      "\u001b[32m[1022 14:41:41 @monitor.py:467]\u001b[0m GAN_loss/gradient_rms: 0.99972\n",
      "\u001b[32m[1022 14:41:41 @monitor.py:467]\u001b[0m GAN_loss/kl_div: 0.057647\n",
      "\u001b[32m[1022 14:41:41 @monitor.py:467]\u001b[0m QueueInput/queue_size: 50\n",
      "\u001b[32m[1022 14:41:41 @base.py:275]\u001b[0m Start Epoch 724 ...\n"
     ]
    },
    {
     "name": "stderr",
     "output_type": "stream",
     "text": [
      "\n",
      "100%|###################################################################################|175/175[00:06<00:00,27.69it/s]"
     ]
    },
    {
     "name": "stdout",
     "output_type": "stream",
     "text": [
      "\u001b[32m[1022 14:41:47 @base.py:285]\u001b[0m Epoch 724 (global_step 152039) finished, time:6.32 seconds.\n",
      "\u001b[32m[1022 14:41:47 @saver.py:79]\u001b[0m Model saved to ../output/Chicago/DATWGAN_30/model\\model-152039.\n",
      "\u001b[32m[1022 14:41:47 @monitor.py:467]\u001b[0m GAN_loss/d_loss: -0.022564\n",
      "\u001b[32m[1022 14:41:47 @monitor.py:467]\u001b[0m GAN_loss/g_loss: 0.29969\n",
      "\u001b[32m[1022 14:41:47 @monitor.py:467]\u001b[0m GAN_loss/gradient_penalty: 0.0054379\n",
      "\u001b[32m[1022 14:41:47 @monitor.py:467]\u001b[0m GAN_loss/gradient_rms: 0.9989\n",
      "\u001b[32m[1022 14:41:47 @monitor.py:467]\u001b[0m GAN_loss/kl_div: 0.060082\n"
     ]
    },
    {
     "name": "stderr",
     "output_type": "stream",
     "text": [
      "\n"
     ]
    },
    {
     "name": "stdout",
     "output_type": "stream",
     "text": [
      "\u001b[32m[1022 14:41:47 @monitor.py:467]\u001b[0m QueueInput/queue_size: 50\n",
      "\u001b[32m[1022 14:41:47 @base.py:275]\u001b[0m Start Epoch 725 ...\n"
     ]
    },
    {
     "name": "stderr",
     "output_type": "stream",
     "text": [
      "100%|###################################################################################|175/175[00:06<00:00,27.66it/s]"
     ]
    },
    {
     "name": "stdout",
     "output_type": "stream",
     "text": [
      "\u001b[32m[1022 14:41:53 @base.py:285]\u001b[0m Epoch 725 (global_step 152249) finished, time:6.33 seconds.\n",
      "\u001b[32m[1022 14:41:53 @saver.py:79]\u001b[0m Model saved to ../output/Chicago/DATWGAN_30/model\\model-152249.\n",
      "\u001b[32m[1022 14:41:54 @monitor.py:467]\u001b[0m GAN_loss/d_loss: -0.029367\n",
      "\u001b[32m[1022 14:41:54 @monitor.py:467]\u001b[0m GAN_loss/g_loss: 0.297\n",
      "\u001b[32m[1022 14:41:54 @monitor.py:467]\u001b[0m GAN_loss/gradient_penalty: 0.0053676\n"
     ]
    },
    {
     "name": "stderr",
     "output_type": "stream",
     "text": [
      "\n"
     ]
    },
    {
     "name": "stdout",
     "output_type": "stream",
     "text": [
      "\u001b[32m[1022 14:41:54 @monitor.py:467]\u001b[0m GAN_loss/gradient_rms: 0.99894\n",
      "\u001b[32m[1022 14:41:54 @monitor.py:467]\u001b[0m GAN_loss/kl_div: 0.060252\n",
      "\u001b[32m[1022 14:41:54 @monitor.py:467]\u001b[0m QueueInput/queue_size: 50\n",
      "\u001b[32m[1022 14:41:54 @base.py:275]\u001b[0m Start Epoch 726 ...\n"
     ]
    },
    {
     "name": "stderr",
     "output_type": "stream",
     "text": [
      "100%|###################################################################################|175/175[00:06<00:00,27.67it/s]"
     ]
    },
    {
     "name": "stdout",
     "output_type": "stream",
     "text": [
      "\u001b[32m[1022 14:42:00 @base.py:285]\u001b[0m Epoch 726 (global_step 152459) finished, time:6.32 seconds.\n",
      "\u001b[32m[1022 14:42:00 @saver.py:79]\u001b[0m Model saved to ../output/Chicago/DATWGAN_30/model\\model-152459.\n",
      "\u001b[32m[1022 14:42:00 @monitor.py:467]\u001b[0m GAN_loss/d_loss: -0.040629\n",
      "\u001b[32m[1022 14:42:00 @monitor.py:467]\u001b[0m GAN_loss/g_loss: 0.31247\n",
      "\u001b[32m[1022 14:42:00 @monitor.py:467]\u001b[0m GAN_loss/gradient_penalty: 0.0054106\n",
      "\u001b[32m[1022 14:42:00 @monitor.py:467]\u001b[0m GAN_loss/gradient_rms: 0.99905\n",
      "\u001b[32m[1022 14:42:00 @monitor.py:467]\u001b[0m GAN_loss/kl_div: 0.05566\n",
      "\u001b[32m[1022 14:42:00 @monitor.py:467]\u001b[0m QueueInput/queue_size: 50\n",
      "\u001b[32m[1022 14:42:00 @base.py:275]\u001b[0m Start Epoch 727 ...\n"
     ]
    },
    {
     "name": "stderr",
     "output_type": "stream",
     "text": [
      "\n",
      "100%|###################################################################################|175/175[00:06<00:00,27.64it/s]"
     ]
    },
    {
     "name": "stdout",
     "output_type": "stream",
     "text": [
      "\u001b[32m[1022 14:42:06 @base.py:285]\u001b[0m Epoch 727 (global_step 152669) finished, time:6.33 seconds.\n",
      "\u001b[32m[1022 14:42:06 @saver.py:79]\u001b[0m Model saved to ../output/Chicago/DATWGAN_30/model\\model-152669.\n",
      "\u001b[32m[1022 14:42:07 @monitor.py:467]\u001b[0m GAN_loss/d_loss: -0.047493\n",
      "\u001b[32m[1022 14:42:07 @monitor.py:467]\u001b[0m GAN_loss/g_loss: 0.31279\n",
      "\u001b[32m[1022 14:42:07 @monitor.py:467]\u001b[0m GAN_loss/gradient_penalty: 0.0054354\n",
      "\u001b[32m[1022 14:42:07 @monitor.py:467]\u001b[0m GAN_loss/gradient_rms: 0.99941\n",
      "\u001b[32m[1022 14:42:07 @monitor.py:467]\u001b[0m GAN_loss/kl_div: 0.064005\n",
      "\u001b[32m[1022 14:42:07 @monitor.py:467]\u001b[0m QueueInput/queue_size: 50\n",
      "\u001b[32m[1022 14:42:07 @base.py:275]\u001b[0m Start Epoch 728 ...\n"
     ]
    },
    {
     "name": "stderr",
     "output_type": "stream",
     "text": [
      "\n",
      "100%|###################################################################################|175/175[00:06<00:00,27.67it/s]"
     ]
    },
    {
     "name": "stdout",
     "output_type": "stream",
     "text": [
      "\u001b[32m[1022 14:42:13 @base.py:285]\u001b[0m Epoch 728 (global_step 152879) finished, time:6.33 seconds.\n",
      "\u001b[32m[1022 14:42:13 @saver.py:79]\u001b[0m Model saved to ../output/Chicago/DATWGAN_30/model\\model-152879.\n",
      "\u001b[32m[1022 14:42:13 @monitor.py:467]\u001b[0m GAN_loss/d_loss: -0.046445\n",
      "\u001b[32m[1022 14:42:13 @monitor.py:467]\u001b[0m GAN_loss/g_loss: 0.31517\n",
      "\u001b[32m[1022 14:42:13 @monitor.py:467]\u001b[0m GAN_loss/gradient_penalty: 0.0053753\n",
      "\u001b[32m[1022 14:42:13 @monitor.py:467]\u001b[0m GAN_loss/gradient_rms: 0.99979\n",
      "\u001b[32m[1022 14:42:13 @monitor.py:467]\u001b[0m GAN_loss/kl_div: 0.062192\n",
      "\u001b[32m[1022 14:42:13 @monitor.py:467]\u001b[0m QueueInput/queue_size: 50\n",
      "\u001b[32m[1022 14:42:13 @base.py:275]\u001b[0m Start Epoch 729 ...\n"
     ]
    },
    {
     "name": "stderr",
     "output_type": "stream",
     "text": [
      "\n",
      "100%|###################################################################################|175/175[00:06<00:00,27.68it/s]"
     ]
    },
    {
     "name": "stdout",
     "output_type": "stream",
     "text": [
      "\u001b[32m[1022 14:42:19 @base.py:285]\u001b[0m Epoch 729 (global_step 153089) finished, time:6.32 seconds.\n",
      "\u001b[32m[1022 14:42:19 @saver.py:79]\u001b[0m Model saved to ../output/Chicago/DATWGAN_30/model\\model-153089.\n",
      "\u001b[32m[1022 14:42:20 @monitor.py:467]\u001b[0m GAN_loss/d_loss: -0.027671\n",
      "\u001b[32m[1022 14:42:20 @monitor.py:467]\u001b[0m GAN_loss/g_loss: 0.29851\n",
      "\u001b[32m[1022 14:42:20 @monitor.py:467]\u001b[0m GAN_loss/gradient_penalty: 0.0052313\n",
      "\u001b[32m[1022 14:42:20 @monitor.py:467]\u001b[0m GAN_loss/gradient_rms: 0.99952\n",
      "\u001b[32m[1022 14:42:20 @monitor.py:467]\u001b[0m GAN_loss/kl_div: 0.063784\n",
      "\u001b[32m[1022 14:42:20 @monitor.py:467]\u001b[0m QueueInput/queue_size: 50\n",
      "\u001b[32m[1022 14:42:20 @base.py:275]\u001b[0m Start Epoch 730 ...\n"
     ]
    },
    {
     "name": "stderr",
     "output_type": "stream",
     "text": [
      "\n",
      "100%|###################################################################################|175/175[00:06<00:00,27.38it/s]"
     ]
    },
    {
     "name": "stdout",
     "output_type": "stream",
     "text": [
      "\u001b[32m[1022 14:42:26 @base.py:285]\u001b[0m Epoch 730 (global_step 153299) finished, time:6.39 seconds.\n",
      "\u001b[32m[1022 14:42:26 @saver.py:79]\u001b[0m Model saved to ../output/Chicago/DATWGAN_30/model\\model-153299.\n",
      "\u001b[32m[1022 14:42:26 @monitor.py:467]\u001b[0m GAN_loss/d_loss: -0.043974\n",
      "\u001b[32m[1022 14:42:26 @monitor.py:467]\u001b[0m GAN_loss/g_loss: 0.31601\n",
      "\u001b[32m[1022 14:42:26 @monitor.py:467]\u001b[0m GAN_loss/gradient_penalty: 0.0053839\n",
      "\u001b[32m[1022 14:42:26 @monitor.py:467]\u001b[0m GAN_loss/gradient_rms: 0.99853\n",
      "\u001b[32m[1022 14:42:26 @monitor.py:467]\u001b[0m GAN_loss/kl_div: 0.058874\n",
      "\u001b[32m[1022 14:42:26 @monitor.py:467]\u001b[0m QueueInput/queue_size: 50\n",
      "\u001b[32m[1022 14:42:26 @base.py:275]\u001b[0m Start Epoch 731 ...\n"
     ]
    },
    {
     "name": "stderr",
     "output_type": "stream",
     "text": [
      "\n",
      "100%|###################################################################################|175/175[00:06<00:00,26.65it/s]"
     ]
    },
    {
     "name": "stdout",
     "output_type": "stream",
     "text": [
      "\u001b[32m[1022 14:42:33 @base.py:285]\u001b[0m Epoch 731 (global_step 153509) finished, time:6.57 seconds.\n",
      "\u001b[32m[1022 14:42:33 @saver.py:79]\u001b[0m Model saved to ../output/Chicago/DATWGAN_30/model\\model-153509.\n",
      "\u001b[32m[1022 14:42:33 @monitor.py:467]\u001b[0m GAN_loss/d_loss: -0.040132\n",
      "\u001b[32m[1022 14:42:33 @monitor.py:467]\u001b[0m GAN_loss/g_loss: 0.31278\n",
      "\u001b[32m[1022 14:42:33 @monitor.py:467]\u001b[0m GAN_loss/gradient_penalty: 0.0053743\n",
      "\u001b[32m[1022 14:42:33 @monitor.py:467]\u001b[0m GAN_loss/gradient_rms: 0.9993\n",
      "\u001b[32m[1022 14:42:33 @monitor.py:467]\u001b[0m GAN_loss/kl_div: 0.059507\n",
      "\u001b[32m[1022 14:42:33 @monitor.py:467]\u001b[0m QueueInput/queue_size: 50\n",
      "\u001b[32m[1022 14:42:33 @base.py:275]\u001b[0m Start Epoch 732 ...\n"
     ]
    },
    {
     "name": "stderr",
     "output_type": "stream",
     "text": [
      "\n",
      "100%|###################################################################################|175/175[00:06<00:00,27.53it/s]"
     ]
    },
    {
     "name": "stdout",
     "output_type": "stream",
     "text": [
      "\u001b[32m[1022 14:42:39 @base.py:285]\u001b[0m Epoch 732 (global_step 153719) finished, time:6.36 seconds.\n",
      "\u001b[32m[1022 14:42:39 @saver.py:79]\u001b[0m Model saved to ../output/Chicago/DATWGAN_30/model\\model-153719.\n",
      "\u001b[32m[1022 14:42:39 @monitor.py:467]\u001b[0m GAN_loss/d_loss: -0.027546\n",
      "\u001b[32m[1022 14:42:39 @monitor.py:467]\u001b[0m GAN_loss/g_loss: 0.30172\n",
      "\u001b[32m[1022 14:42:39 @monitor.py:467]\u001b[0m GAN_loss/gradient_penalty: 0.0053841\n",
      "\u001b[32m[1022 14:42:39 @monitor.py:467]\u001b[0m GAN_loss/gradient_rms: 0.99899\n",
      "\u001b[32m[1022 14:42:39 @monitor.py:467]\u001b[0m GAN_loss/kl_div: 0.05702\n",
      "\u001b[32m[1022 14:42:39 @monitor.py:467]\u001b[0m QueueInput/queue_size: 50\n",
      "\u001b[32m[1022 14:42:39 @base.py:275]\u001b[0m Start Epoch 733 ...\n"
     ]
    },
    {
     "name": "stderr",
     "output_type": "stream",
     "text": [
      "\n",
      "100%|###################################################################################|175/175[00:06<00:00,27.56it/s]"
     ]
    },
    {
     "name": "stdout",
     "output_type": "stream",
     "text": [
      "\u001b[32m[1022 14:42:46 @base.py:285]\u001b[0m Epoch 733 (global_step 153929) finished, time:6.35 seconds.\n",
      "\u001b[32m[1022 14:42:46 @saver.py:79]\u001b[0m Model saved to ../output/Chicago/DATWGAN_30/model\\model-153929.\n",
      "\u001b[32m[1022 14:42:46 @monitor.py:467]\u001b[0m GAN_loss/d_loss: -0.051089\n"
     ]
    },
    {
     "name": "stderr",
     "output_type": "stream",
     "text": [
      "\n"
     ]
    },
    {
     "name": "stdout",
     "output_type": "stream",
     "text": [
      "\u001b[32m[1022 14:42:46 @monitor.py:467]\u001b[0m GAN_loss/g_loss: 0.29965\n",
      "\u001b[32m[1022 14:42:46 @monitor.py:467]\u001b[0m GAN_loss/gradient_penalty: 0.005197\n",
      "\u001b[32m[1022 14:42:46 @monitor.py:467]\u001b[0m GAN_loss/gradient_rms: 0.99929\n",
      "\u001b[32m[1022 14:42:46 @monitor.py:467]\u001b[0m GAN_loss/kl_div: 0.057464\n",
      "\u001b[32m[1022 14:42:46 @monitor.py:467]\u001b[0m QueueInput/queue_size: 50\n",
      "\u001b[32m[1022 14:42:46 @base.py:275]\u001b[0m Start Epoch 734 ...\n"
     ]
    },
    {
     "name": "stderr",
     "output_type": "stream",
     "text": [
      "100%|###################################################################################|175/175[00:06<00:00,27.64it/s]"
     ]
    },
    {
     "name": "stdout",
     "output_type": "stream",
     "text": [
      "\u001b[32m[1022 14:42:52 @base.py:285]\u001b[0m Epoch 734 (global_step 154139) finished, time:6.33 seconds.\n",
      "\u001b[32m[1022 14:42:52 @saver.py:79]\u001b[0m Model saved to ../output/Chicago/DATWGAN_30/model\\model-154139.\n",
      "\u001b[32m[1022 14:42:52 @monitor.py:467]\u001b[0m GAN_loss/d_loss: -0.024041\n",
      "\u001b[32m[1022 14:42:52 @monitor.py:467]\u001b[0m GAN_loss/g_loss: 0.2837\n",
      "\u001b[32m[1022 14:42:52 @monitor.py:467]\u001b[0m GAN_loss/gradient_penalty: 0.0053258\n",
      "\u001b[32m[1022 14:42:52 @monitor.py:467]\u001b[0m GAN_loss/gradient_rms: 0.99787\n",
      "\u001b[32m[1022 14:42:52 @monitor.py:467]\u001b[0m GAN_loss/kl_div: 0.064606\n",
      "\u001b[32m[1022 14:42:52 @monitor.py:467]\u001b[0m QueueInput/queue_size: 50\n",
      "\u001b[32m[1022 14:42:52 @base.py:275]\u001b[0m Start Epoch 735 ...\n"
     ]
    },
    {
     "name": "stderr",
     "output_type": "stream",
     "text": [
      "\n",
      "100%|###################################################################################|175/175[00:06<00:00,27.68it/s]"
     ]
    },
    {
     "name": "stdout",
     "output_type": "stream",
     "text": [
      "\u001b[32m[1022 14:42:59 @base.py:285]\u001b[0m Epoch 735 (global_step 154349) finished, time:6.32 seconds.\n",
      "\u001b[32m[1022 14:42:59 @saver.py:79]\u001b[0m Model saved to ../output/Chicago/DATWGAN_30/model\\model-154349.\n",
      "\u001b[32m[1022 14:42:59 @monitor.py:467]\u001b[0m GAN_loss/d_loss: -0.045456\n",
      "\u001b[32m[1022 14:42:59 @monitor.py:467]\u001b[0m GAN_loss/g_loss: 0.30449\n",
      "\u001b[32m[1022 14:42:59 @monitor.py:467]\u001b[0m GAN_loss/gradient_penalty: 0.0053813\n",
      "\u001b[32m[1022 14:42:59 @monitor.py:467]\u001b[0m GAN_loss/gradient_rms: 0.99964\n",
      "\u001b[32m[1022 14:42:59 @monitor.py:467]\u001b[0m GAN_loss/kl_div: 0.058512\n",
      "\u001b[32m[1022 14:42:59 @monitor.py:467]\u001b[0m QueueInput/queue_size: 50\n",
      "\u001b[32m[1022 14:42:59 @base.py:275]\u001b[0m Start Epoch 736 ...\n"
     ]
    },
    {
     "name": "stderr",
     "output_type": "stream",
     "text": [
      "\n",
      "100%|###################################################################################|175/175[00:06<00:00,27.68it/s]"
     ]
    },
    {
     "name": "stdout",
     "output_type": "stream",
     "text": [
      "\u001b[32m[1022 14:43:05 @base.py:285]\u001b[0m Epoch 736 (global_step 154559) finished, time:6.32 seconds.\n",
      "\u001b[32m[1022 14:43:05 @saver.py:79]\u001b[0m Model saved to ../output/Chicago/DATWGAN_30/model\\model-154559.\n",
      "\u001b[32m[1022 14:43:05 @monitor.py:467]\u001b[0m GAN_loss/d_loss: -0.042637\n",
      "\u001b[32m[1022 14:43:05 @monitor.py:467]\u001b[0m GAN_loss/g_loss: 0.29494\n",
      "\u001b[32m[1022 14:43:05 @monitor.py:467]\u001b[0m GAN_loss/gradient_penalty: 0.0053316\n",
      "\u001b[32m[1022 14:43:05 @monitor.py:467]\u001b[0m GAN_loss/gradient_rms: 0.99973\n",
      "\u001b[32m[1022 14:43:05 @monitor.py:467]\u001b[0m GAN_loss/kl_div: 0.056523\n",
      "\u001b[32m[1022 14:43:05 @monitor.py:467]\u001b[0m QueueInput/queue_size: 50\n",
      "\u001b[32m[1022 14:43:05 @base.py:275]\u001b[0m Start Epoch 737 ...\n"
     ]
    },
    {
     "name": "stderr",
     "output_type": "stream",
     "text": [
      "\n",
      "100%|###################################################################################|175/175[00:06<00:00,27.66it/s]"
     ]
    },
    {
     "name": "stdout",
     "output_type": "stream",
     "text": [
      "\u001b[32m[1022 14:43:12 @base.py:285]\u001b[0m Epoch 737 (global_step 154769) finished, time:6.33 seconds.\n",
      "\u001b[32m[1022 14:43:12 @saver.py:79]\u001b[0m Model saved to ../output/Chicago/DATWGAN_30/model\\model-154769.\n",
      "\u001b[32m[1022 14:43:12 @monitor.py:467]\u001b[0m GAN_loss/d_loss: -0.043388\n",
      "\u001b[32m[1022 14:43:12 @monitor.py:467]\u001b[0m GAN_loss/g_loss: 0.30253\n",
      "\u001b[32m[1022 14:43:12 @monitor.py:467]\u001b[0m GAN_loss/gradient_penalty: 0.0053401\n",
      "\u001b[32m[1022 14:43:12 @monitor.py:467]\u001b[0m GAN_loss/gradient_rms: 0.99948\n",
      "\u001b[32m[1022 14:43:12 @monitor.py:467]\u001b[0m GAN_loss/kl_div: 0.057435\n",
      "\u001b[32m[1022 14:43:12 @monitor.py:467]\u001b[0m QueueInput/queue_size: 50\n",
      "\u001b[32m[1022 14:43:12 @base.py:275]\u001b[0m Start Epoch 738 ...\n"
     ]
    },
    {
     "name": "stderr",
     "output_type": "stream",
     "text": [
      "\n",
      "100%|###################################################################################|175/175[00:06<00:00,27.69it/s]"
     ]
    },
    {
     "name": "stdout",
     "output_type": "stream",
     "text": [
      "\u001b[32m[1022 14:43:18 @base.py:285]\u001b[0m Epoch 738 (global_step 154979) finished, time:6.32 seconds.\n",
      "\u001b[32m[1022 14:43:18 @saver.py:79]\u001b[0m Model saved to ../output/Chicago/DATWGAN_30/model\\model-154979.\n",
      "\u001b[32m[1022 14:43:18 @monitor.py:467]\u001b[0m GAN_loss/d_loss: -0.029403\n",
      "\u001b[32m[1022 14:43:18 @monitor.py:467]\u001b[0m GAN_loss/g_loss: 0.29788\n",
      "\u001b[32m[1022 14:43:18 @monitor.py:467]\u001b[0m GAN_loss/gradient_penalty: 0.0054334\n",
      "\u001b[32m[1022 14:43:18 @monitor.py:467]\u001b[0m GAN_loss/gradient_rms: 1.0011\n",
      "\u001b[32m[1022 14:43:18 @monitor.py:467]\u001b[0m GAN_loss/kl_div: 0.057971\n",
      "\u001b[32m[1022 14:43:18 @monitor.py:467]\u001b[0m QueueInput/queue_size: 50\n",
      "\u001b[32m[1022 14:43:18 @base.py:275]\u001b[0m Start Epoch 739 ...\n"
     ]
    },
    {
     "name": "stderr",
     "output_type": "stream",
     "text": [
      "\n",
      "100%|###################################################################################|175/175[00:06<00:00,27.67it/s]"
     ]
    },
    {
     "name": "stdout",
     "output_type": "stream",
     "text": [
      "\u001b[32m[1022 14:43:25 @base.py:285]\u001b[0m Epoch 739 (global_step 155189) finished, time:6.32 seconds.\n",
      "\u001b[32m[1022 14:43:25 @saver.py:79]\u001b[0m Model saved to ../output/Chicago/DATWGAN_30/model\\model-155189.\n",
      "\u001b[32m[1022 14:43:25 @monitor.py:467]\u001b[0m GAN_loss/d_loss: -0.032833\n",
      "\u001b[32m[1022 14:43:25 @monitor.py:467]\u001b[0m GAN_loss/g_loss: 0.29727\n",
      "\u001b[32m[1022 14:43:25 @monitor.py:467]\u001b[0m GAN_loss/gradient_penalty: 0.0054037\n",
      "\u001b[32m[1022 14:43:25 @monitor.py:467]\u001b[0m GAN_loss/gradient_rms: 0.9973\n",
      "\u001b[32m[1022 14:43:25 @monitor.py:467]\u001b[0m GAN_loss/kl_div: 0.060909\n",
      "\u001b[32m[1022 14:43:25 @monitor.py:467]\u001b[0m QueueInput/queue_size: 50\n",
      "\u001b[32m[1022 14:43:25 @base.py:275]\u001b[0m Start Epoch 740 ...\n"
     ]
    },
    {
     "name": "stderr",
     "output_type": "stream",
     "text": [
      "\n",
      "100%|###################################################################################|175/175[00:06<00:00,27.66it/s]"
     ]
    },
    {
     "name": "stdout",
     "output_type": "stream",
     "text": [
      "\u001b[32m[1022 14:43:31 @base.py:285]\u001b[0m Epoch 740 (global_step 155399) finished, time:6.33 seconds.\n",
      "\u001b[32m[1022 14:43:31 @saver.py:79]\u001b[0m Model saved to ../output/Chicago/DATWGAN_30/model\\model-155399.\n",
      "\u001b[32m[1022 14:43:31 @monitor.py:467]\u001b[0m GAN_loss/d_loss: -0.045622\n",
      "\u001b[32m[1022 14:43:31 @monitor.py:467]\u001b[0m GAN_loss/g_loss: 0.30208\n",
      "\u001b[32m[1022 14:43:31 @monitor.py:467]\u001b[0m GAN_loss/gradient_penalty: 0.005366\n",
      "\u001b[32m[1022 14:43:31 @monitor.py:467]\u001b[0m GAN_loss/gradient_rms: 0.99915\n",
      "\u001b[32m[1022 14:43:31 @monitor.py:467]\u001b[0m GAN_loss/kl_div: 0.060191\n",
      "\u001b[32m[1022 14:43:31 @monitor.py:467]\u001b[0m QueueInput/queue_size: 50\n",
      "\u001b[32m[1022 14:43:31 @base.py:275]\u001b[0m Start Epoch 741 ...\n"
     ]
    },
    {
     "name": "stderr",
     "output_type": "stream",
     "text": [
      "\n",
      "100%|###################################################################################|175/175[00:06<00:00,27.67it/s]"
     ]
    },
    {
     "name": "stdout",
     "output_type": "stream",
     "text": [
      "\u001b[32m[1022 14:43:38 @base.py:285]\u001b[0m Epoch 741 (global_step 155609) finished, time:6.32 seconds.\n",
      "\u001b[32m[1022 14:43:38 @saver.py:79]\u001b[0m Model saved to ../output/Chicago/DATWGAN_30/model\\model-155609.\n",
      "\u001b[32m[1022 14:43:38 @monitor.py:467]\u001b[0m GAN_loss/d_loss: -0.040636\n",
      "\u001b[32m[1022 14:43:38 @monitor.py:467]\u001b[0m GAN_loss/g_loss: 0.29779\n",
      "\u001b[32m[1022 14:43:38 @monitor.py:467]\u001b[0m GAN_loss/gradient_penalty: 0.0053504\n",
      "\u001b[32m[1022 14:43:38 @monitor.py:467]\u001b[0m GAN_loss/gradient_rms: 0.99782\n",
      "\u001b[32m[1022 14:43:38 @monitor.py:467]\u001b[0m GAN_loss/kl_div: 0.064189\n"
     ]
    },
    {
     "name": "stderr",
     "output_type": "stream",
     "text": [
      "\n"
     ]
    },
    {
     "name": "stdout",
     "output_type": "stream",
     "text": [
      "\u001b[32m[1022 14:43:38 @monitor.py:467]\u001b[0m QueueInput/queue_size: 50\n",
      "\u001b[32m[1022 14:43:38 @base.py:275]\u001b[0m Start Epoch 742 ...\n"
     ]
    },
    {
     "name": "stderr",
     "output_type": "stream",
     "text": [
      "100%|###################################################################################|175/175[00:06<00:00,27.69it/s]"
     ]
    },
    {
     "name": "stdout",
     "output_type": "stream",
     "text": [
      "\u001b[32m[1022 14:43:44 @base.py:285]\u001b[0m Epoch 742 (global_step 155819) finished, time:6.32 seconds.\n",
      "\u001b[32m[1022 14:43:44 @saver.py:79]\u001b[0m Model saved to ../output/Chicago/DATWGAN_30/model\\model-155819.\n",
      "\u001b[32m[1022 14:43:44 @monitor.py:467]\u001b[0m GAN_loss/d_loss: -0.042974\n",
      "\u001b[32m[1022 14:43:44 @monitor.py:467]\u001b[0m GAN_loss/g_loss: 0.30639\n",
      "\u001b[32m[1022 14:43:44 @monitor.py:467]\u001b[0m GAN_loss/gradient_penalty: 0.0053158\n",
      "\u001b[32m[1022 14:43:44 @monitor.py:467]\u001b[0m GAN_loss/gradient_rms: 0.99888\n",
      "\u001b[32m[1022 14:43:44 @monitor.py:467]\u001b[0m GAN_loss/kl_div: 0.060578\n",
      "\u001b[32m[1022 14:43:44 @monitor.py:467]\u001b[0m QueueInput/queue_size: 50\n",
      "\u001b[32m[1022 14:43:44 @base.py:275]\u001b[0m Start Epoch 743 ...\n"
     ]
    },
    {
     "name": "stderr",
     "output_type": "stream",
     "text": [
      "\n",
      "100%|###################################################################################|175/175[00:06<00:00,27.68it/s]"
     ]
    },
    {
     "name": "stdout",
     "output_type": "stream",
     "text": [
      "\u001b[32m[1022 14:43:51 @base.py:285]\u001b[0m Epoch 743 (global_step 156029) finished, time:6.32 seconds.\n",
      "\u001b[32m[1022 14:43:51 @saver.py:79]\u001b[0m Model saved to ../output/Chicago/DATWGAN_30/model\\model-156029.\n",
      "\u001b[32m[1022 14:43:51 @monitor.py:467]\u001b[0m GAN_loss/d_loss: -0.032429\n",
      "\u001b[32m[1022 14:43:51 @monitor.py:467]\u001b[0m GAN_loss/g_loss: 0.29911\n",
      "\u001b[32m[1022 14:43:51 @monitor.py:467]\u001b[0m GAN_loss/gradient_penalty: 0.0053017\n",
      "\u001b[32m[1022 14:43:51 @monitor.py:467]\u001b[0m GAN_loss/gradient_rms: 0.99969\n",
      "\u001b[32m[1022 14:43:51 @monitor.py:467]\u001b[0m GAN_loss/kl_div: 0.060812\n",
      "\u001b[32m[1022 14:43:51 @monitor.py:467]\u001b[0m QueueInput/queue_size: 50\n",
      "\u001b[32m[1022 14:43:51 @base.py:275]\u001b[0m Start Epoch 744 ...\n"
     ]
    },
    {
     "name": "stderr",
     "output_type": "stream",
     "text": [
      "\n",
      "100%|###################################################################################|175/175[00:06<00:00,27.65it/s]"
     ]
    },
    {
     "name": "stdout",
     "output_type": "stream",
     "text": [
      "\u001b[32m[1022 14:43:57 @base.py:285]\u001b[0m Epoch 744 (global_step 156239) finished, time:6.33 seconds.\n",
      "\u001b[32m[1022 14:43:57 @saver.py:79]\u001b[0m Model saved to ../output/Chicago/DATWGAN_30/model\\model-156239.\n",
      "\u001b[32m[1022 14:43:57 @monitor.py:467]\u001b[0m GAN_loss/d_loss: -0.029818\n",
      "\u001b[32m[1022 14:43:57 @monitor.py:467]\u001b[0m GAN_loss/g_loss: 0.2953\n",
      "\u001b[32m[1022 14:43:57 @monitor.py:467]\u001b[0m GAN_loss/gradient_penalty: 0.0052092\n",
      "\u001b[32m[1022 14:43:57 @monitor.py:467]\u001b[0m GAN_loss/gradient_rms: 0.99918\n",
      "\u001b[32m[1022 14:43:57 @monitor.py:467]\u001b[0m GAN_loss/kl_div: 0.058805\n",
      "\u001b[32m[1022 14:43:57 @monitor.py:467]\u001b[0m QueueInput/queue_size: 50\n",
      "\u001b[32m[1022 14:43:57 @base.py:275]\u001b[0m Start Epoch 745 ...\n"
     ]
    },
    {
     "name": "stderr",
     "output_type": "stream",
     "text": [
      "\n",
      "100%|###################################################################################|175/175[00:06<00:00,27.66it/s]"
     ]
    },
    {
     "name": "stdout",
     "output_type": "stream",
     "text": [
      "\u001b[32m[1022 14:44:04 @base.py:285]\u001b[0m Epoch 745 (global_step 156449) finished, time:6.33 seconds.\n",
      "\u001b[32m[1022 14:44:04 @saver.py:79]\u001b[0m Model saved to ../output/Chicago/DATWGAN_30/model\\model-156449.\n",
      "\u001b[32m[1022 14:44:04 @monitor.py:467]\u001b[0m GAN_loss/d_loss: -0.031137\n",
      "\u001b[32m[1022 14:44:04 @monitor.py:467]\u001b[0m GAN_loss/g_loss: 0.2922\n",
      "\u001b[32m[1022 14:44:04 @monitor.py:467]\u001b[0m GAN_loss/gradient_penalty: 0.0054351\n",
      "\u001b[32m[1022 14:44:04 @monitor.py:467]\u001b[0m GAN_loss/gradient_rms: 0.99814\n",
      "\u001b[32m[1022 14:44:04 @monitor.py:467]\u001b[0m GAN_loss/kl_div: 0.057832\n",
      "\u001b[32m[1022 14:44:04 @monitor.py:467]\u001b[0m QueueInput/queue_size: 50\n",
      "\u001b[32m[1022 14:44:04 @base.py:275]\u001b[0m Start Epoch 746 ...\n"
     ]
    },
    {
     "name": "stderr",
     "output_type": "stream",
     "text": [
      "\n",
      "100%|###################################################################################|175/175[00:06<00:00,27.66it/s]"
     ]
    },
    {
     "name": "stdout",
     "output_type": "stream",
     "text": [
      "\u001b[32m[1022 14:44:10 @base.py:285]\u001b[0m Epoch 746 (global_step 156659) finished, time:6.33 seconds.\n",
      "\u001b[32m[1022 14:44:10 @saver.py:79]\u001b[0m Model saved to ../output/Chicago/DATWGAN_30/model\\model-156659.\n",
      "\u001b[32m[1022 14:44:10 @monitor.py:467]\u001b[0m GAN_loss/d_loss: -0.037455\n",
      "\u001b[32m[1022 14:44:10 @monitor.py:467]\u001b[0m GAN_loss/g_loss: 0.30579\n",
      "\u001b[32m[1022 14:44:10 @monitor.py:467]\u001b[0m GAN_loss/gradient_penalty: 0.005359\n",
      "\u001b[32m[1022 14:44:10 @monitor.py:467]\u001b[0m GAN_loss/gradient_rms: 0.9979\n",
      "\u001b[32m[1022 14:44:10 @monitor.py:467]\u001b[0m GAN_loss/kl_div: 0.060891\n",
      "\u001b[32m[1022 14:44:10 @monitor.py:467]\u001b[0m QueueInput/queue_size: 50\n",
      "\u001b[32m[1022 14:44:10 @base.py:275]\u001b[0m Start Epoch 747 ...\n"
     ]
    },
    {
     "name": "stderr",
     "output_type": "stream",
     "text": [
      "\n",
      "100%|###################################################################################|175/175[00:06<00:00,27.69it/s]"
     ]
    },
    {
     "name": "stdout",
     "output_type": "stream",
     "text": [
      "\u001b[32m[1022 14:44:17 @base.py:285]\u001b[0m Epoch 747 (global_step 156869) finished, time:6.32 seconds.\n",
      "\u001b[32m[1022 14:44:17 @saver.py:79]\u001b[0m Model saved to ../output/Chicago/DATWGAN_30/model\\model-156869.\n",
      "\u001b[32m[1022 14:44:17 @monitor.py:467]\u001b[0m GAN_loss/d_loss: -0.041093\n",
      "\u001b[32m[1022 14:44:17 @monitor.py:467]\u001b[0m GAN_loss/g_loss: 0.31226\n",
      "\u001b[32m[1022 14:44:17 @monitor.py:467]\u001b[0m GAN_loss/gradient_penalty: 0.0054617\n",
      "\u001b[32m[1022 14:44:17 @monitor.py:467]\u001b[0m GAN_loss/gradient_rms: 0.99963\n",
      "\u001b[32m[1022 14:44:17 @monitor.py:467]\u001b[0m GAN_loss/kl_div: 0.058142\n",
      "\u001b[32m[1022 14:44:17 @monitor.py:467]\u001b[0m QueueInput/queue_size: 50\n",
      "\u001b[32m[1022 14:44:17 @base.py:275]\u001b[0m Start Epoch 748 ...\n"
     ]
    },
    {
     "name": "stderr",
     "output_type": "stream",
     "text": [
      "\n",
      "100%|###################################################################################|175/175[00:06<00:00,27.49it/s]"
     ]
    },
    {
     "name": "stdout",
     "output_type": "stream",
     "text": [
      "\u001b[32m[1022 14:44:23 @base.py:285]\u001b[0m Epoch 748 (global_step 157079) finished, time:6.37 seconds.\n"
     ]
    },
    {
     "name": "stderr",
     "output_type": "stream",
     "text": [
      "\n"
     ]
    },
    {
     "name": "stdout",
     "output_type": "stream",
     "text": [
      "\u001b[32m[1022 14:44:23 @saver.py:79]\u001b[0m Model saved to ../output/Chicago/DATWGAN_30/model\\model-157079.\n",
      "\u001b[32m[1022 14:44:23 @monitor.py:467]\u001b[0m GAN_loss/d_loss: -0.049216\n",
      "\u001b[32m[1022 14:44:23 @monitor.py:467]\u001b[0m GAN_loss/g_loss: 0.31256\n",
      "\u001b[32m[1022 14:44:23 @monitor.py:467]\u001b[0m GAN_loss/gradient_penalty: 0.0053454\n",
      "\u001b[32m[1022 14:44:23 @monitor.py:467]\u001b[0m GAN_loss/gradient_rms: 0.99959\n",
      "\u001b[32m[1022 14:44:23 @monitor.py:467]\u001b[0m GAN_loss/kl_div: 0.055714\n",
      "\u001b[32m[1022 14:44:23 @monitor.py:467]\u001b[0m QueueInput/queue_size: 50\n",
      "\u001b[32m[1022 14:44:23 @base.py:275]\u001b[0m Start Epoch 749 ...\n"
     ]
    },
    {
     "name": "stderr",
     "output_type": "stream",
     "text": [
      "100%|###################################################################################|175/175[00:06<00:00,27.67it/s]"
     ]
    },
    {
     "name": "stdout",
     "output_type": "stream",
     "text": [
      "\u001b[32m[1022 14:44:30 @base.py:285]\u001b[0m Epoch 749 (global_step 157289) finished, time:6.33 seconds.\n",
      "\u001b[32m[1022 14:44:30 @saver.py:79]\u001b[0m Model saved to ../output/Chicago/DATWGAN_30/model\\model-157289.\n",
      "\u001b[32m[1022 14:44:30 @monitor.py:467]\u001b[0m GAN_loss/d_loss: -0.041351\n",
      "\u001b[32m[1022 14:44:30 @monitor.py:467]\u001b[0m GAN_loss/g_loss: 0.3109\n",
      "\u001b[32m[1022 14:44:30 @monitor.py:467]\u001b[0m GAN_loss/gradient_penalty: 0.0053323\n",
      "\u001b[32m[1022 14:44:30 @monitor.py:467]\u001b[0m GAN_loss/gradient_rms: 0.99877\n",
      "\u001b[32m[1022 14:44:30 @monitor.py:467]\u001b[0m GAN_loss/kl_div: 0.060432\n",
      "\u001b[32m[1022 14:44:30 @monitor.py:467]\u001b[0m QueueInput/queue_size: 50\n",
      "\u001b[32m[1022 14:44:30 @base.py:275]\u001b[0m Start Epoch 750 ...\n"
     ]
    },
    {
     "name": "stderr",
     "output_type": "stream",
     "text": [
      "\n",
      "100%|###################################################################################|175/175[00:06<00:00,27.68it/s]"
     ]
    },
    {
     "name": "stdout",
     "output_type": "stream",
     "text": [
      "\u001b[32m[1022 14:44:36 @base.py:285]\u001b[0m Epoch 750 (global_step 157499) finished, time:6.32 seconds.\n",
      "\u001b[32m[1022 14:44:36 @saver.py:79]\u001b[0m Model saved to ../output/Chicago/DATWGAN_30/model\\model-157499.\n",
      "\u001b[32m[1022 14:44:36 @monitor.py:467]\u001b[0m GAN_loss/d_loss: -0.038418\n",
      "\u001b[32m[1022 14:44:36 @monitor.py:467]\u001b[0m GAN_loss/g_loss: 0.30494\n",
      "\u001b[32m[1022 14:44:36 @monitor.py:467]\u001b[0m GAN_loss/gradient_penalty: 0.0053463\n",
      "\u001b[32m[1022 14:44:36 @monitor.py:467]\u001b[0m GAN_loss/gradient_rms: 0.99933\n",
      "\u001b[32m[1022 14:44:36 @monitor.py:467]\u001b[0m GAN_loss/kl_div: 0.057265\n",
      "\u001b[32m[1022 14:44:36 @monitor.py:467]\u001b[0m QueueInput/queue_size: 50\n",
      "\u001b[32m[1022 14:44:36 @base.py:275]\u001b[0m Start Epoch 751 ...\n"
     ]
    },
    {
     "name": "stderr",
     "output_type": "stream",
     "text": [
      "\n",
      "100%|###################################################################################|175/175[00:06<00:00,27.64it/s]"
     ]
    },
    {
     "name": "stdout",
     "output_type": "stream",
     "text": [
      "\u001b[32m[1022 14:44:43 @base.py:285]\u001b[0m Epoch 751 (global_step 157709) finished, time:6.33 seconds.\n",
      "\u001b[32m[1022 14:44:43 @saver.py:79]\u001b[0m Model saved to ../output/Chicago/DATWGAN_30/model\\model-157709.\n",
      "\u001b[32m[1022 14:44:43 @monitor.py:467]\u001b[0m GAN_loss/d_loss: -0.037341\n",
      "\u001b[32m[1022 14:44:43 @monitor.py:467]\u001b[0m GAN_loss/g_loss: 0.30354\n",
      "\u001b[32m[1022 14:44:43 @monitor.py:467]\u001b[0m GAN_loss/gradient_penalty: 0.005327\n",
      "\u001b[32m[1022 14:44:43 @monitor.py:467]\u001b[0m GAN_loss/gradient_rms: 0.99944\n",
      "\u001b[32m[1022 14:44:43 @monitor.py:467]\u001b[0m GAN_loss/kl_div: 0.05827\n",
      "\u001b[32m[1022 14:44:43 @monitor.py:467]\u001b[0m QueueInput/queue_size: 50\n",
      "\u001b[32m[1022 14:44:43 @base.py:275]\u001b[0m Start Epoch 752 ...\n"
     ]
    },
    {
     "name": "stderr",
     "output_type": "stream",
     "text": [
      "\n",
      "100%|###################################################################################|175/175[00:06<00:00,27.67it/s]"
     ]
    },
    {
     "name": "stdout",
     "output_type": "stream",
     "text": [
      "\u001b[32m[1022 14:44:49 @base.py:285]\u001b[0m Epoch 752 (global_step 157919) finished, time:6.33 seconds.\n",
      "\u001b[32m[1022 14:44:49 @saver.py:79]\u001b[0m Model saved to ../output/Chicago/DATWGAN_30/model\\model-157919.\n",
      "\u001b[32m[1022 14:44:49 @monitor.py:467]\u001b[0m GAN_loss/d_loss: -0.052362\n",
      "\u001b[32m[1022 14:44:49 @monitor.py:467]\u001b[0m GAN_loss/g_loss: 0.31282\n",
      "\u001b[32m[1022 14:44:49 @monitor.py:467]\u001b[0m GAN_loss/gradient_penalty: 0.0052412\n",
      "\u001b[32m[1022 14:44:49 @monitor.py:467]\u001b[0m GAN_loss/gradient_rms: 0.99863\n",
      "\u001b[32m[1022 14:44:49 @monitor.py:467]\u001b[0m GAN_loss/kl_div: 0.057292\n",
      "\u001b[32m[1022 14:44:49 @monitor.py:467]\u001b[0m QueueInput/queue_size: 50\n",
      "\u001b[32m[1022 14:44:49 @base.py:275]\u001b[0m Start Epoch 753 ...\n"
     ]
    },
    {
     "name": "stderr",
     "output_type": "stream",
     "text": [
      "\n",
      "100%|###################################################################################|175/175[00:06<00:00,27.66it/s]"
     ]
    },
    {
     "name": "stdout",
     "output_type": "stream",
     "text": [
      "\u001b[32m[1022 14:44:56 @base.py:285]\u001b[0m Epoch 753 (global_step 158129) finished, time:6.33 seconds.\n",
      "\u001b[32m[1022 14:44:56 @saver.py:79]\u001b[0m Model saved to ../output/Chicago/DATWGAN_30/model\\model-158129.\n",
      "\u001b[32m[1022 14:44:56 @monitor.py:467]\u001b[0m GAN_loss/d_loss: -0.028249\n",
      "\u001b[32m[1022 14:44:56 @monitor.py:467]\u001b[0m GAN_loss/g_loss: 0.29738\n",
      "\u001b[32m[1022 14:44:56 @monitor.py:467]\u001b[0m GAN_loss/gradient_penalty: 0.0052432\n",
      "\u001b[32m[1022 14:44:56 @monitor.py:467]\u001b[0m GAN_loss/gradient_rms: 0.9987\n",
      "\u001b[32m[1022 14:44:56 @monitor.py:467]\u001b[0m GAN_loss/kl_div: 0.05985\n",
      "\u001b[32m[1022 14:44:56 @monitor.py:467]\u001b[0m QueueInput/queue_size: 50\n",
      "\u001b[32m[1022 14:44:56 @base.py:275]\u001b[0m Start Epoch 754 ...\n"
     ]
    },
    {
     "name": "stderr",
     "output_type": "stream",
     "text": [
      "\n",
      "100%|###################################################################################|175/175[00:06<00:00,27.63it/s]"
     ]
    },
    {
     "name": "stdout",
     "output_type": "stream",
     "text": [
      "\u001b[32m[1022 14:45:02 @base.py:285]\u001b[0m Epoch 754 (global_step 158339) finished, time:6.33 seconds.\n",
      "\u001b[32m[1022 14:45:02 @saver.py:79]\u001b[0m Model saved to ../output/Chicago/DATWGAN_30/model\\model-158339.\n",
      "\u001b[32m[1022 14:45:02 @monitor.py:467]\u001b[0m GAN_loss/d_loss: -0.035097\n",
      "\u001b[32m[1022 14:45:02 @monitor.py:467]\u001b[0m GAN_loss/g_loss: 0.31215\n",
      "\u001b[32m[1022 14:45:02 @monitor.py:467]\u001b[0m GAN_loss/gradient_penalty: 0.0054751\n"
     ]
    },
    {
     "name": "stderr",
     "output_type": "stream",
     "text": [
      "\n"
     ]
    },
    {
     "name": "stdout",
     "output_type": "stream",
     "text": [
      "\u001b[32m[1022 14:45:02 @monitor.py:467]\u001b[0m GAN_loss/gradient_rms: 0.99935\n",
      "\u001b[32m[1022 14:45:02 @monitor.py:467]\u001b[0m GAN_loss/kl_div: 0.056847\n",
      "\u001b[32m[1022 14:45:02 @monitor.py:467]\u001b[0m QueueInput/queue_size: 50\n",
      "\u001b[32m[1022 14:45:02 @base.py:275]\u001b[0m Start Epoch 755 ...\n"
     ]
    },
    {
     "name": "stderr",
     "output_type": "stream",
     "text": [
      "100%|###################################################################################|175/175[00:06<00:00,27.70it/s]"
     ]
    },
    {
     "name": "stdout",
     "output_type": "stream",
     "text": [
      "\u001b[32m[1022 14:45:09 @base.py:285]\u001b[0m Epoch 755 (global_step 158549) finished, time:6.32 seconds.\n",
      "\u001b[32m[1022 14:45:09 @saver.py:79]\u001b[0m Model saved to ../output/Chicago/DATWGAN_30/model\\model-158549.\n",
      "\u001b[32m[1022 14:45:09 @monitor.py:467]\u001b[0m GAN_loss/d_loss: -0.035708\n",
      "\u001b[32m[1022 14:45:09 @monitor.py:467]\u001b[0m GAN_loss/g_loss: 0.30708\n",
      "\u001b[32m[1022 14:45:09 @monitor.py:467]\u001b[0m GAN_loss/gradient_penalty: 0.005332\n",
      "\u001b[32m[1022 14:45:09 @monitor.py:467]\u001b[0m GAN_loss/gradient_rms: 0.99873\n",
      "\u001b[32m[1022 14:45:09 @monitor.py:467]\u001b[0m GAN_loss/kl_div: 0.056351\n",
      "\u001b[32m[1022 14:45:09 @monitor.py:467]\u001b[0m QueueInput/queue_size: 50\n",
      "\u001b[32m[1022 14:45:09 @base.py:275]\u001b[0m Start Epoch 756 ...\n"
     ]
    },
    {
     "name": "stderr",
     "output_type": "stream",
     "text": [
      "\n",
      "100%|###################################################################################|175/175[00:06<00:00,27.66it/s]"
     ]
    },
    {
     "name": "stdout",
     "output_type": "stream",
     "text": [
      "\u001b[32m[1022 14:45:15 @base.py:285]\u001b[0m Epoch 756 (global_step 158759) finished, time:6.33 seconds.\n",
      "\u001b[32m[1022 14:45:15 @saver.py:79]\u001b[0m Model saved to ../output/Chicago/DATWGAN_30/model\\model-158759.\n",
      "\u001b[32m[1022 14:45:15 @monitor.py:467]\u001b[0m GAN_loss/d_loss: -0.035125\n",
      "\u001b[32m[1022 14:45:15 @monitor.py:467]\u001b[0m GAN_loss/g_loss: 0.29839\n",
      "\u001b[32m[1022 14:45:15 @monitor.py:467]\u001b[0m GAN_loss/gradient_penalty: 0.0052879\n",
      "\u001b[32m[1022 14:45:15 @monitor.py:467]\u001b[0m GAN_loss/gradient_rms: 0.99969\n",
      "\u001b[32m[1022 14:45:15 @monitor.py:467]\u001b[0m GAN_loss/kl_div: 0.058872\n",
      "\u001b[32m[1022 14:45:15 @monitor.py:467]\u001b[0m QueueInput/queue_size: 50\n",
      "\u001b[32m[1022 14:45:15 @base.py:275]\u001b[0m Start Epoch 757 ...\n"
     ]
    },
    {
     "name": "stderr",
     "output_type": "stream",
     "text": [
      "\n",
      "100%|###################################################################################|175/175[00:06<00:00,27.66it/s]"
     ]
    },
    {
     "name": "stdout",
     "output_type": "stream",
     "text": [
      "\u001b[32m[1022 14:45:22 @base.py:285]\u001b[0m Epoch 757 (global_step 158969) finished, time:6.33 seconds.\n",
      "\u001b[32m[1022 14:45:22 @saver.py:79]\u001b[0m Model saved to ../output/Chicago/DATWGAN_30/model\\model-158969.\n",
      "\u001b[32m[1022 14:45:22 @monitor.py:467]\u001b[0m GAN_loss/d_loss: -0.03993\n",
      "\u001b[32m[1022 14:45:22 @monitor.py:467]\u001b[0m GAN_loss/g_loss: 0.29571\n",
      "\u001b[32m[1022 14:45:22 @monitor.py:467]\u001b[0m GAN_loss/gradient_penalty: 0.005285\n",
      "\u001b[32m[1022 14:45:22 @monitor.py:467]\u001b[0m GAN_loss/gradient_rms: 0.99942\n",
      "\u001b[32m[1022 14:45:22 @monitor.py:467]\u001b[0m GAN_loss/kl_div: 0.058182\n",
      "\u001b[32m[1022 14:45:22 @monitor.py:467]\u001b[0m QueueInput/queue_size: 50\n",
      "\u001b[32m[1022 14:45:22 @base.py:275]\u001b[0m Start Epoch 758 ...\n"
     ]
    },
    {
     "name": "stderr",
     "output_type": "stream",
     "text": [
      "\n",
      "100%|###################################################################################|175/175[00:06<00:00,27.67it/s]"
     ]
    },
    {
     "name": "stdout",
     "output_type": "stream",
     "text": [
      "\u001b[32m[1022 14:45:28 @base.py:285]\u001b[0m Epoch 758 (global_step 159179) finished, time:6.32 seconds.\n",
      "\u001b[32m[1022 14:45:28 @saver.py:79]\u001b[0m Model saved to ../output/Chicago/DATWGAN_30/model\\model-159179.\n",
      "\u001b[32m[1022 14:45:28 @monitor.py:467]\u001b[0m GAN_loss/d_loss: -0.019042\n",
      "\u001b[32m[1022 14:45:28 @monitor.py:467]\u001b[0m GAN_loss/g_loss: 0.2974\n",
      "\u001b[32m[1022 14:45:28 @monitor.py:467]\u001b[0m GAN_loss/gradient_penalty: 0.00533\n",
      "\u001b[32m[1022 14:45:28 @monitor.py:467]\u001b[0m GAN_loss/gradient_rms: 0.99844\n",
      "\u001b[32m[1022 14:45:28 @monitor.py:467]\u001b[0m GAN_loss/kl_div: 0.057765\n",
      "\u001b[32m[1022 14:45:28 @monitor.py:467]\u001b[0m QueueInput/queue_size: 50\n",
      "\u001b[32m[1022 14:45:28 @base.py:275]\u001b[0m Start Epoch 759 ...\n"
     ]
    },
    {
     "name": "stderr",
     "output_type": "stream",
     "text": [
      "\n",
      "100%|###################################################################################|175/175[00:06<00:00,27.68it/s]"
     ]
    },
    {
     "name": "stdout",
     "output_type": "stream",
     "text": [
      "\u001b[32m[1022 14:45:35 @base.py:285]\u001b[0m Epoch 759 (global_step 159389) finished, time:6.32 seconds.\n",
      "\u001b[32m[1022 14:45:35 @saver.py:79]\u001b[0m Model saved to ../output/Chicago/DATWGAN_30/model\\model-159389.\n",
      "\u001b[32m[1022 14:45:35 @monitor.py:467]\u001b[0m GAN_loss/d_loss: -0.037607\n",
      "\u001b[32m[1022 14:45:35 @monitor.py:467]\u001b[0m GAN_loss/g_loss: 0.3084\n",
      "\u001b[32m[1022 14:45:35 @monitor.py:467]\u001b[0m GAN_loss/gradient_penalty: 0.0053776\n",
      "\u001b[32m[1022 14:45:35 @monitor.py:467]\u001b[0m GAN_loss/gradient_rms: 1.0004\n",
      "\u001b[32m[1022 14:45:35 @monitor.py:467]\u001b[0m GAN_loss/kl_div: 0.05863\n",
      "\u001b[32m[1022 14:45:35 @monitor.py:467]\u001b[0m QueueInput/queue_size: 50\n",
      "\u001b[32m[1022 14:45:35 @base.py:275]\u001b[0m Start Epoch 760 ...\n"
     ]
    },
    {
     "name": "stderr",
     "output_type": "stream",
     "text": [
      "\n",
      "100%|###################################################################################|175/175[00:06<00:00,27.68it/s]"
     ]
    },
    {
     "name": "stdout",
     "output_type": "stream",
     "text": [
      "\u001b[32m[1022 14:45:41 @base.py:285]\u001b[0m Epoch 760 (global_step 159599) finished, time:6.32 seconds.\n",
      "\u001b[32m[1022 14:45:41 @saver.py:79]\u001b[0m Model saved to ../output/Chicago/DATWGAN_30/model\\model-159599.\n",
      "\u001b[32m[1022 14:45:41 @monitor.py:467]\u001b[0m GAN_loss/d_loss: -0.025836\n",
      "\u001b[32m[1022 14:45:41 @monitor.py:467]\u001b[0m GAN_loss/g_loss: 0.311\n",
      "\u001b[32m[1022 14:45:41 @monitor.py:467]\u001b[0m GAN_loss/gradient_penalty: 0.0054857\n",
      "\u001b[32m[1022 14:45:41 @monitor.py:467]\u001b[0m GAN_loss/gradient_rms: 0.99914\n",
      "\u001b[32m[1022 14:45:41 @monitor.py:467]\u001b[0m GAN_loss/kl_div: 0.063401\n",
      "\u001b[32m[1022 14:45:41 @monitor.py:467]\u001b[0m QueueInput/queue_size: 50\n",
      "\u001b[32m[1022 14:45:41 @base.py:275]\u001b[0m Start Epoch 761 ...\n"
     ]
    },
    {
     "name": "stderr",
     "output_type": "stream",
     "text": [
      "\n",
      "100%|###################################################################################|175/175[00:06<00:00,27.58it/s]"
     ]
    },
    {
     "name": "stdout",
     "output_type": "stream",
     "text": [
      "\u001b[32m[1022 14:45:48 @base.py:285]\u001b[0m Epoch 761 (global_step 159809) finished, time:6.35 seconds.\n",
      "\u001b[32m[1022 14:45:48 @saver.py:79]\u001b[0m Model saved to ../output/Chicago/DATWGAN_30/model\\model-159809.\n",
      "\u001b[32m[1022 14:45:48 @monitor.py:467]\u001b[0m GAN_loss/d_loss: -0.026828\n",
      "\u001b[32m[1022 14:45:48 @monitor.py:467]\u001b[0m GAN_loss/g_loss: 0.3135\n",
      "\u001b[32m[1022 14:45:48 @monitor.py:467]\u001b[0m GAN_loss/gradient_penalty: 0.005269\n",
      "\u001b[32m[1022 14:45:48 @monitor.py:467]\u001b[0m GAN_loss/gradient_rms: 0.99884\n",
      "\u001b[32m[1022 14:45:48 @monitor.py:467]\u001b[0m GAN_loss/kl_div: 0.059344\n",
      "\u001b[32m[1022 14:45:48 @monitor.py:467]\u001b[0m QueueInput/queue_size: 50\n",
      "\u001b[32m[1022 14:45:48 @base.py:275]\u001b[0m Start Epoch 762 ...\n"
     ]
    },
    {
     "name": "stderr",
     "output_type": "stream",
     "text": [
      "\n",
      "100%|###################################################################################|175/175[00:06<00:00,27.65it/s]"
     ]
    },
    {
     "name": "stdout",
     "output_type": "stream",
     "text": [
      "\u001b[32m[1022 14:45:54 @base.py:285]\u001b[0m Epoch 762 (global_step 160019) finished, time:6.33 seconds.\n",
      "\u001b[32m[1022 14:45:54 @saver.py:79]\u001b[0m Model saved to ../output/Chicago/DATWGAN_30/model\\model-160019.\n",
      "\u001b[32m[1022 14:45:54 @monitor.py:467]\u001b[0m GAN_loss/d_loss: -0.030955\n",
      "\u001b[32m[1022 14:45:54 @monitor.py:467]\u001b[0m GAN_loss/g_loss: 0.30462\n",
      "\u001b[32m[1022 14:45:54 @monitor.py:467]\u001b[0m GAN_loss/gradient_penalty: 0.0051955\n"
     ]
    },
    {
     "name": "stderr",
     "output_type": "stream",
     "text": [
      "\n"
     ]
    },
    {
     "name": "stdout",
     "output_type": "stream",
     "text": [
      "\u001b[32m[1022 14:45:54 @monitor.py:467]\u001b[0m GAN_loss/gradient_rms: 0.99915\n",
      "\u001b[32m[1022 14:45:54 @monitor.py:467]\u001b[0m GAN_loss/kl_div: 0.054443\n",
      "\u001b[32m[1022 14:45:54 @monitor.py:467]\u001b[0m QueueInput/queue_size: 50\n",
      "\u001b[32m[1022 14:45:54 @base.py:275]\u001b[0m Start Epoch 763 ...\n"
     ]
    },
    {
     "name": "stderr",
     "output_type": "stream",
     "text": [
      "100%|###################################################################################|175/175[00:06<00:00,27.68it/s]"
     ]
    },
    {
     "name": "stdout",
     "output_type": "stream",
     "text": [
      "\u001b[32m[1022 14:46:01 @base.py:285]\u001b[0m Epoch 763 (global_step 160229) finished, time:6.32 seconds.\n",
      "\u001b[32m[1022 14:46:01 @saver.py:79]\u001b[0m Model saved to ../output/Chicago/DATWGAN_30/model\\model-160229.\n",
      "\u001b[32m[1022 14:46:01 @monitor.py:467]\u001b[0m GAN_loss/d_loss: -0.03995\n",
      "\u001b[32m[1022 14:46:01 @monitor.py:467]\u001b[0m GAN_loss/g_loss: 0.32494\n",
      "\u001b[32m[1022 14:46:01 @monitor.py:467]\u001b[0m GAN_loss/gradient_penalty: 0.0054881\n",
      "\u001b[32m[1022 14:46:01 @monitor.py:467]\u001b[0m GAN_loss/gradient_rms: 1.0009\n",
      "\u001b[32m[1022 14:46:01 @monitor.py:467]\u001b[0m GAN_loss/kl_div: 0.061095\n",
      "\u001b[32m[1022 14:46:01 @monitor.py:467]\u001b[0m QueueInput/queue_size: 50\n",
      "\u001b[32m[1022 14:46:01 @base.py:275]\u001b[0m Start Epoch 764 ...\n"
     ]
    },
    {
     "name": "stderr",
     "output_type": "stream",
     "text": [
      "\n",
      "100%|###################################################################################|175/175[00:06<00:00,27.66it/s]"
     ]
    },
    {
     "name": "stdout",
     "output_type": "stream",
     "text": [
      "\u001b[32m[1022 14:46:07 @base.py:285]\u001b[0m Epoch 764 (global_step 160439) finished, time:6.33 seconds.\n",
      "\u001b[32m[1022 14:46:07 @saver.py:79]\u001b[0m Model saved to ../output/Chicago/DATWGAN_30/model\\model-160439.\n",
      "\u001b[32m[1022 14:46:07 @monitor.py:467]\u001b[0m GAN_loss/d_loss: -0.04425\n",
      "\u001b[32m[1022 14:46:07 @monitor.py:467]\u001b[0m GAN_loss/g_loss: 0.31771\n",
      "\u001b[32m[1022 14:46:07 @monitor.py:467]\u001b[0m GAN_loss/gradient_penalty: 0.0053296\n",
      "\u001b[32m[1022 14:46:07 @monitor.py:467]\u001b[0m GAN_loss/gradient_rms: 1.0006\n",
      "\u001b[32m[1022 14:46:07 @monitor.py:467]\u001b[0m GAN_loss/kl_div: 0.058315\n",
      "\u001b[32m[1022 14:46:07 @monitor.py:467]\u001b[0m QueueInput/queue_size: 50\n",
      "\u001b[32m[1022 14:46:07 @base.py:275]\u001b[0m Start Epoch 765 ...\n"
     ]
    },
    {
     "name": "stderr",
     "output_type": "stream",
     "text": [
      "\n",
      "100%|###################################################################################|175/175[00:06<00:00,27.63it/s]"
     ]
    },
    {
     "name": "stdout",
     "output_type": "stream",
     "text": [
      "\u001b[32m[1022 14:46:14 @base.py:285]\u001b[0m Epoch 765 (global_step 160649) finished, time:6.33 seconds.\n",
      "\u001b[32m[1022 14:46:14 @saver.py:79]\u001b[0m Model saved to ../output/Chicago/DATWGAN_30/model\\model-160649.\n",
      "\u001b[32m[1022 14:46:14 @monitor.py:467]\u001b[0m GAN_loss/d_loss: -0.038894\n",
      "\u001b[32m[1022 14:46:14 @monitor.py:467]\u001b[0m GAN_loss/g_loss: 0.31473\n",
      "\u001b[32m[1022 14:46:14 @monitor.py:467]\u001b[0m GAN_loss/gradient_penalty: 0.0052359\n",
      "\u001b[32m[1022 14:46:14 @monitor.py:467]\u001b[0m GAN_loss/gradient_rms: 0.99857\n",
      "\u001b[32m[1022 14:46:14 @monitor.py:467]\u001b[0m GAN_loss/kl_div: 0.058441\n",
      "\u001b[32m[1022 14:46:14 @monitor.py:467]\u001b[0m QueueInput/queue_size: 50\n",
      "\u001b[32m[1022 14:46:14 @base.py:275]\u001b[0m Start Epoch 766 ...\n"
     ]
    },
    {
     "name": "stderr",
     "output_type": "stream",
     "text": [
      "\n",
      "100%|###################################################################################|175/175[00:06<00:00,27.64it/s]"
     ]
    },
    {
     "name": "stdout",
     "output_type": "stream",
     "text": [
      "\u001b[32m[1022 14:46:20 @base.py:285]\u001b[0m Epoch 766 (global_step 160859) finished, time:6.33 seconds.\n",
      "\u001b[32m[1022 14:46:20 @saver.py:79]\u001b[0m Model saved to ../output/Chicago/DATWGAN_30/model\\model-160859.\n",
      "\u001b[32m[1022 14:46:20 @monitor.py:467]\u001b[0m GAN_loss/d_loss: -0.030958\n",
      "\u001b[32m[1022 14:46:20 @monitor.py:467]\u001b[0m GAN_loss/g_loss: 0.31005\n",
      "\u001b[32m[1022 14:46:20 @monitor.py:467]\u001b[0m GAN_loss/gradient_penalty: 0.0052893\n",
      "\u001b[32m[1022 14:46:20 @monitor.py:467]\u001b[0m GAN_loss/gradient_rms: 0.99853\n",
      "\u001b[32m[1022 14:46:20 @monitor.py:467]\u001b[0m GAN_loss/kl_div: 0.056841\n",
      "\u001b[32m[1022 14:46:20 @monitor.py:467]\u001b[0m QueueInput/queue_size: 50\n",
      "\u001b[32m[1022 14:46:20 @base.py:275]\u001b[0m Start Epoch 767 ...\n"
     ]
    },
    {
     "name": "stderr",
     "output_type": "stream",
     "text": [
      "\n",
      "100%|###################################################################################|175/175[00:06<00:00,27.66it/s]"
     ]
    },
    {
     "name": "stdout",
     "output_type": "stream",
     "text": [
      "\u001b[32m[1022 14:46:27 @base.py:285]\u001b[0m Epoch 767 (global_step 161069) finished, time:6.33 seconds.\n",
      "\u001b[32m[1022 14:46:27 @saver.py:79]\u001b[0m Model saved to ../output/Chicago/DATWGAN_30/model\\model-161069.\n",
      "\u001b[32m[1022 14:46:27 @monitor.py:467]\u001b[0m GAN_loss/d_loss: -0.031388\n",
      "\u001b[32m[1022 14:46:27 @monitor.py:467]\u001b[0m GAN_loss/g_loss: 0.30745\n",
      "\u001b[32m[1022 14:46:27 @monitor.py:467]\u001b[0m GAN_loss/gradient_penalty: 0.005233\n"
     ]
    },
    {
     "name": "stderr",
     "output_type": "stream",
     "text": [
      "\n"
     ]
    },
    {
     "name": "stdout",
     "output_type": "stream",
     "text": [
      "\u001b[32m[1022 14:46:27 @monitor.py:467]\u001b[0m GAN_loss/gradient_rms: 0.99852\n",
      "\u001b[32m[1022 14:46:27 @monitor.py:467]\u001b[0m GAN_loss/kl_div: 0.063213\n",
      "\u001b[32m[1022 14:46:27 @monitor.py:467]\u001b[0m QueueInput/queue_size: 50\n",
      "\u001b[32m[1022 14:46:27 @base.py:275]\u001b[0m Start Epoch 768 ...\n"
     ]
    },
    {
     "name": "stderr",
     "output_type": "stream",
     "text": [
      "100%|###################################################################################|175/175[00:06<00:00,27.37it/s]"
     ]
    },
    {
     "name": "stdout",
     "output_type": "stream",
     "text": [
      "\u001b[32m[1022 14:46:33 @base.py:285]\u001b[0m Epoch 768 (global_step 161279) finished, time:6.39 seconds.\n",
      "\u001b[32m[1022 14:46:33 @saver.py:79]\u001b[0m Model saved to ../output/Chicago/DATWGAN_30/model\\model-161279.\n",
      "\u001b[32m[1022 14:46:34 @monitor.py:467]\u001b[0m GAN_loss/d_loss: -0.027399\n",
      "\u001b[32m[1022 14:46:34 @monitor.py:467]\u001b[0m GAN_loss/g_loss: 0.31116\n",
      "\u001b[32m[1022 14:46:34 @monitor.py:467]\u001b[0m GAN_loss/gradient_penalty: 0.00521\n",
      "\u001b[32m[1022 14:46:34 @monitor.py:467]\u001b[0m GAN_loss/gradient_rms: 0.99926\n",
      "\u001b[32m[1022 14:46:34 @monitor.py:467]\u001b[0m GAN_loss/kl_div: 0.05948\n",
      "\u001b[32m[1022 14:46:34 @monitor.py:467]\u001b[0m QueueInput/queue_size: 50\n",
      "\u001b[32m[1022 14:46:34 @base.py:275]\u001b[0m Start Epoch 769 ...\n"
     ]
    },
    {
     "name": "stderr",
     "output_type": "stream",
     "text": [
      "\n",
      "100%|###################################################################################|175/175[00:06<00:00,27.67it/s]"
     ]
    },
    {
     "name": "stdout",
     "output_type": "stream",
     "text": [
      "\u001b[32m[1022 14:46:40 @base.py:285]\u001b[0m Epoch 769 (global_step 161489) finished, time:6.33 seconds.\n",
      "\u001b[32m[1022 14:46:40 @saver.py:79]\u001b[0m Model saved to ../output/Chicago/DATWGAN_30/model\\model-161489.\n",
      "\u001b[32m[1022 14:46:40 @monitor.py:467]\u001b[0m GAN_loss/d_loss: -0.046425\n",
      "\u001b[32m[1022 14:46:40 @monitor.py:467]\u001b[0m GAN_loss/g_loss: 0.3144\n",
      "\u001b[32m[1022 14:46:40 @monitor.py:467]\u001b[0m GAN_loss/gradient_penalty: 0.005134\n",
      "\u001b[32m[1022 14:46:40 @monitor.py:467]\u001b[0m GAN_loss/gradient_rms: 0.99866\n",
      "\u001b[32m[1022 14:46:40 @monitor.py:467]\u001b[0m GAN_loss/kl_div: 0.060127\n",
      "\u001b[32m[1022 14:46:40 @monitor.py:467]\u001b[0m QueueInput/queue_size: 50\n",
      "\u001b[32m[1022 14:46:40 @base.py:275]\u001b[0m Start Epoch 770 ...\n"
     ]
    },
    {
     "name": "stderr",
     "output_type": "stream",
     "text": [
      "\n",
      "100%|###################################################################################|175/175[00:06<00:00,27.66it/s]"
     ]
    },
    {
     "name": "stdout",
     "output_type": "stream",
     "text": [
      "\u001b[32m[1022 14:46:46 @base.py:285]\u001b[0m Epoch 770 (global_step 161699) finished, time:6.33 seconds.\n",
      "\u001b[32m[1022 14:46:46 @saver.py:79]\u001b[0m Model saved to ../output/Chicago/DATWGAN_30/model\\model-161699.\n",
      "\u001b[32m[1022 14:46:47 @monitor.py:467]\u001b[0m GAN_loss/d_loss: -0.042185\n"
     ]
    },
    {
     "name": "stderr",
     "output_type": "stream",
     "text": [
      "\n"
     ]
    },
    {
     "name": "stdout",
     "output_type": "stream",
     "text": [
      "\u001b[32m[1022 14:46:47 @monitor.py:467]\u001b[0m GAN_loss/g_loss: 0.31714\n",
      "\u001b[32m[1022 14:46:47 @monitor.py:467]\u001b[0m GAN_loss/gradient_penalty: 0.0051639\n",
      "\u001b[32m[1022 14:46:47 @monitor.py:467]\u001b[0m GAN_loss/gradient_rms: 0.99926\n",
      "\u001b[32m[1022 14:46:47 @monitor.py:467]\u001b[0m GAN_loss/kl_div: 0.058442\n",
      "\u001b[32m[1022 14:46:47 @monitor.py:467]\u001b[0m QueueInput/queue_size: 50\n",
      "\u001b[32m[1022 14:46:47 @base.py:275]\u001b[0m Start Epoch 771 ...\n"
     ]
    },
    {
     "name": "stderr",
     "output_type": "stream",
     "text": [
      "100%|###################################################################################|175/175[00:06<00:00,27.67it/s]"
     ]
    },
    {
     "name": "stdout",
     "output_type": "stream",
     "text": [
      "\u001b[32m[1022 14:46:53 @base.py:285]\u001b[0m Epoch 771 (global_step 161909) finished, time:6.32 seconds.\n",
      "\u001b[32m[1022 14:46:53 @saver.py:79]\u001b[0m Model saved to ../output/Chicago/DATWGAN_30/model\\model-161909.\n"
     ]
    },
    {
     "name": "stderr",
     "output_type": "stream",
     "text": [
      "\n"
     ]
    },
    {
     "name": "stdout",
     "output_type": "stream",
     "text": [
      "\u001b[32m[1022 14:46:53 @monitor.py:467]\u001b[0m GAN_loss/d_loss: -0.028391\n",
      "\u001b[32m[1022 14:46:53 @monitor.py:467]\u001b[0m GAN_loss/g_loss: 0.29385\n",
      "\u001b[32m[1022 14:46:53 @monitor.py:467]\u001b[0m GAN_loss/gradient_penalty: 0.00519\n",
      "\u001b[32m[1022 14:46:53 @monitor.py:467]\u001b[0m GAN_loss/gradient_rms: 0.99825\n",
      "\u001b[32m[1022 14:46:53 @monitor.py:467]\u001b[0m GAN_loss/kl_div: 0.055713\n",
      "\u001b[32m[1022 14:46:53 @monitor.py:467]\u001b[0m QueueInput/queue_size: 50\n",
      "\u001b[32m[1022 14:46:53 @base.py:275]\u001b[0m Start Epoch 772 ...\n"
     ]
    },
    {
     "name": "stderr",
     "output_type": "stream",
     "text": [
      "100%|###################################################################################|175/175[00:06<00:00,27.66it/s]"
     ]
    },
    {
     "name": "stdout",
     "output_type": "stream",
     "text": [
      "\u001b[32m[1022 14:46:59 @base.py:285]\u001b[0m Epoch 772 (global_step 162119) finished, time:6.33 seconds.\n",
      "\u001b[32m[1022 14:46:59 @saver.py:79]\u001b[0m Model saved to ../output/Chicago/DATWGAN_30/model\\model-162119.\n",
      "\u001b[32m[1022 14:47:00 @monitor.py:467]\u001b[0m GAN_loss/d_loss: -0.037038\n"
     ]
    },
    {
     "name": "stderr",
     "output_type": "stream",
     "text": [
      "\n"
     ]
    },
    {
     "name": "stdout",
     "output_type": "stream",
     "text": [
      "\u001b[32m[1022 14:47:00 @monitor.py:467]\u001b[0m GAN_loss/g_loss: 0.31487\n",
      "\u001b[32m[1022 14:47:00 @monitor.py:467]\u001b[0m GAN_loss/gradient_penalty: 0.0053137\n",
      "\u001b[32m[1022 14:47:00 @monitor.py:467]\u001b[0m GAN_loss/gradient_rms: 0.99866\n",
      "\u001b[32m[1022 14:47:00 @monitor.py:467]\u001b[0m GAN_loss/kl_div: 0.063174\n",
      "\u001b[32m[1022 14:47:00 @monitor.py:467]\u001b[0m QueueInput/queue_size: 50\n",
      "\u001b[32m[1022 14:47:00 @base.py:275]\u001b[0m Start Epoch 773 ...\n"
     ]
    },
    {
     "name": "stderr",
     "output_type": "stream",
     "text": [
      "100%|###################################################################################|175/175[00:06<00:00,27.71it/s]"
     ]
    },
    {
     "name": "stdout",
     "output_type": "stream",
     "text": [
      "\u001b[32m[1022 14:47:06 @base.py:285]\u001b[0m Epoch 773 (global_step 162329) finished, time:6.32 seconds.\n",
      "\u001b[32m[1022 14:47:06 @saver.py:79]\u001b[0m Model saved to ../output/Chicago/DATWGAN_30/model\\model-162329.\n",
      "\u001b[32m[1022 14:47:06 @monitor.py:467]\u001b[0m GAN_loss/d_loss: -0.039027\n",
      "\u001b[32m[1022 14:47:06 @monitor.py:467]\u001b[0m GAN_loss/g_loss: 0.31905\n",
      "\u001b[32m[1022 14:47:06 @monitor.py:467]\u001b[0m GAN_loss/gradient_penalty: 0.0052716\n",
      "\u001b[32m[1022 14:47:06 @monitor.py:467]\u001b[0m GAN_loss/gradient_rms: 0.99834\n",
      "\u001b[32m[1022 14:47:06 @monitor.py:467]\u001b[0m GAN_loss/kl_div: 0.064434\n",
      "\u001b[32m[1022 14:47:06 @monitor.py:467]\u001b[0m QueueInput/queue_size: 50\n",
      "\u001b[32m[1022 14:47:06 @base.py:275]\u001b[0m Start Epoch 774 ...\n"
     ]
    },
    {
     "name": "stderr",
     "output_type": "stream",
     "text": [
      "\n",
      "100%|###################################################################################|175/175[00:06<00:00,27.73it/s]"
     ]
    },
    {
     "name": "stdout",
     "output_type": "stream",
     "text": [
      "\u001b[32m[1022 14:47:12 @base.py:285]\u001b[0m Epoch 774 (global_step 162539) finished, time:6.31 seconds.\n",
      "\u001b[32m[1022 14:47:12 @saver.py:79]\u001b[0m Model saved to ../output/Chicago/DATWGAN_30/model\\model-162539.\n",
      "\u001b[32m[1022 14:47:13 @monitor.py:467]\u001b[0m GAN_loss/d_loss: -0.03912\n",
      "\u001b[32m[1022 14:47:13 @monitor.py:467]\u001b[0m GAN_loss/g_loss: 0.31316\n",
      "\u001b[32m[1022 14:47:13 @monitor.py:467]\u001b[0m GAN_loss/gradient_penalty: 0.0051878\n",
      "\u001b[32m[1022 14:47:13 @monitor.py:467]\u001b[0m GAN_loss/gradient_rms: 0.99968\n",
      "\u001b[32m[1022 14:47:13 @monitor.py:467]\u001b[0m GAN_loss/kl_div: 0.06106\n",
      "\u001b[32m[1022 14:47:13 @monitor.py:467]\u001b[0m QueueInput/queue_size: 50\n",
      "\u001b[32m[1022 14:47:13 @base.py:275]\u001b[0m Start Epoch 775 ...\n"
     ]
    },
    {
     "name": "stderr",
     "output_type": "stream",
     "text": [
      "\n",
      "100%|###################################################################################|175/175[00:06<00:00,27.72it/s]"
     ]
    },
    {
     "name": "stdout",
     "output_type": "stream",
     "text": [
      "\u001b[32m[1022 14:47:19 @base.py:285]\u001b[0m Epoch 775 (global_step 162749) finished, time:6.31 seconds.\n",
      "\u001b[32m[1022 14:47:19 @saver.py:79]\u001b[0m Model saved to ../output/Chicago/DATWGAN_30/model\\model-162749.\n",
      "\u001b[32m[1022 14:47:19 @monitor.py:467]\u001b[0m GAN_loss/d_loss: -0.031219\n",
      "\u001b[32m[1022 14:47:19 @monitor.py:467]\u001b[0m GAN_loss/g_loss: 0.29811\n",
      "\u001b[32m[1022 14:47:19 @monitor.py:467]\u001b[0m GAN_loss/gradient_penalty: 0.0049755\n",
      "\u001b[32m[1022 14:47:19 @monitor.py:467]\u001b[0m GAN_loss/gradient_rms: 0.9986\n",
      "\u001b[32m[1022 14:47:19 @monitor.py:467]\u001b[0m GAN_loss/kl_div: 0.060172\n",
      "\u001b[32m[1022 14:47:19 @monitor.py:467]\u001b[0m QueueInput/queue_size: 50\n",
      "\u001b[32m[1022 14:47:19 @base.py:275]\u001b[0m Start Epoch 776 ...\n"
     ]
    },
    {
     "name": "stderr",
     "output_type": "stream",
     "text": [
      "\n",
      "100%|###################################################################################|175/175[00:06<00:00,27.73it/s]"
     ]
    },
    {
     "name": "stdout",
     "output_type": "stream",
     "text": [
      "\u001b[32m[1022 14:47:25 @base.py:285]\u001b[0m Epoch 776 (global_step 162959) finished, time:6.31 seconds.\n",
      "\u001b[32m[1022 14:47:25 @saver.py:79]\u001b[0m Model saved to ../output/Chicago/DATWGAN_30/model\\model-162959.\n"
     ]
    },
    {
     "name": "stderr",
     "output_type": "stream",
     "text": [
      "\n"
     ]
    },
    {
     "name": "stdout",
     "output_type": "stream",
     "text": [
      "\u001b[32m[1022 14:47:26 @monitor.py:467]\u001b[0m GAN_loss/d_loss: -0.033414\n",
      "\u001b[32m[1022 14:47:26 @monitor.py:467]\u001b[0m GAN_loss/g_loss: 0.30046\n",
      "\u001b[32m[1022 14:47:26 @monitor.py:467]\u001b[0m GAN_loss/gradient_penalty: 0.0052742\n",
      "\u001b[32m[1022 14:47:26 @monitor.py:467]\u001b[0m GAN_loss/gradient_rms: 0.99923\n",
      "\u001b[32m[1022 14:47:26 @monitor.py:467]\u001b[0m GAN_loss/kl_div: 0.060089\n",
      "\u001b[32m[1022 14:47:26 @monitor.py:467]\u001b[0m QueueInput/queue_size: 50\n",
      "\u001b[32m[1022 14:47:26 @base.py:275]\u001b[0m Start Epoch 777 ...\n"
     ]
    },
    {
     "name": "stderr",
     "output_type": "stream",
     "text": [
      "100%|###################################################################################|175/175[00:06<00:00,27.74it/s]"
     ]
    },
    {
     "name": "stdout",
     "output_type": "stream",
     "text": [
      "\u001b[32m[1022 14:47:32 @base.py:285]\u001b[0m Epoch 777 (global_step 163169) finished, time:6.31 seconds.\n",
      "\u001b[32m[1022 14:47:32 @saver.py:79]\u001b[0m Model saved to ../output/Chicago/DATWGAN_30/model\\model-163169.\n",
      "\u001b[32m[1022 14:47:32 @monitor.py:467]\u001b[0m GAN_loss/d_loss: -0.041992\n",
      "\u001b[32m[1022 14:47:32 @monitor.py:467]\u001b[0m GAN_loss/g_loss: 0.3061\n",
      "\u001b[32m[1022 14:47:32 @monitor.py:467]\u001b[0m GAN_loss/gradient_penalty: 0.0052796\n",
      "\u001b[32m[1022 14:47:32 @monitor.py:467]\u001b[0m GAN_loss/gradient_rms: 0.99905\n",
      "\u001b[32m[1022 14:47:32 @monitor.py:467]\u001b[0m GAN_loss/kl_div: 0.062317\n",
      "\u001b[32m[1022 14:47:32 @monitor.py:467]\u001b[0m QueueInput/queue_size: 50\n",
      "\u001b[32m[1022 14:47:32 @base.py:275]\u001b[0m Start Epoch 778 ...\n"
     ]
    },
    {
     "name": "stderr",
     "output_type": "stream",
     "text": [
      "\n",
      "100%|###################################################################################|175/175[00:06<00:00,27.73it/s]"
     ]
    },
    {
     "name": "stdout",
     "output_type": "stream",
     "text": [
      "\u001b[32m[1022 14:47:38 @base.py:285]\u001b[0m Epoch 778 (global_step 163379) finished, time:6.31 seconds.\n",
      "\u001b[32m[1022 14:47:38 @saver.py:79]\u001b[0m Model saved to ../output/Chicago/DATWGAN_30/model\\model-163379.\n",
      "\u001b[32m[1022 14:47:39 @monitor.py:467]\u001b[0m GAN_loss/d_loss: -0.034141\n",
      "\u001b[32m[1022 14:47:39 @monitor.py:467]\u001b[0m GAN_loss/g_loss: 0.30252\n",
      "\u001b[32m[1022 14:47:39 @monitor.py:467]\u001b[0m GAN_loss/gradient_penalty: 0.005386\n",
      "\u001b[32m[1022 14:47:39 @monitor.py:467]\u001b[0m GAN_loss/gradient_rms: 0.9985\n",
      "\u001b[32m[1022 14:47:39 @monitor.py:467]\u001b[0m GAN_loss/kl_div: 0.059667\n",
      "\u001b[32m[1022 14:47:39 @monitor.py:467]\u001b[0m QueueInput/queue_size: 50\n",
      "\u001b[32m[1022 14:47:39 @base.py:275]\u001b[0m Start Epoch 779 ...\n"
     ]
    },
    {
     "name": "stderr",
     "output_type": "stream",
     "text": [
      "\n",
      "100%|###################################################################################|175/175[00:06<00:00,27.74it/s]"
     ]
    },
    {
     "name": "stdout",
     "output_type": "stream",
     "text": [
      "\u001b[32m[1022 14:47:45 @base.py:285]\u001b[0m Epoch 779 (global_step 163589) finished, time:6.31 seconds.\n",
      "\u001b[32m[1022 14:47:45 @saver.py:79]\u001b[0m Model saved to ../output/Chicago/DATWGAN_30/model\\model-163589.\n",
      "\u001b[32m[1022 14:47:45 @monitor.py:467]\u001b[0m GAN_loss/d_loss: -0.031358\n",
      "\u001b[32m[1022 14:47:45 @monitor.py:467]\u001b[0m GAN_loss/g_loss: 0.30438\n",
      "\u001b[32m[1022 14:47:45 @monitor.py:467]\u001b[0m GAN_loss/gradient_penalty: 0.0051852\n",
      "\u001b[32m[1022 14:47:45 @monitor.py:467]\u001b[0m GAN_loss/gradient_rms: 0.99884\n",
      "\u001b[32m[1022 14:47:45 @monitor.py:467]\u001b[0m GAN_loss/kl_div: 0.056762\n",
      "\u001b[32m[1022 14:47:45 @monitor.py:467]\u001b[0m QueueInput/queue_size: 50\n",
      "\u001b[32m[1022 14:47:45 @base.py:275]\u001b[0m Start Epoch 780 ...\n"
     ]
    },
    {
     "name": "stderr",
     "output_type": "stream",
     "text": [
      "\n",
      "100%|###################################################################################|175/175[00:06<00:00,27.71it/s]"
     ]
    },
    {
     "name": "stdout",
     "output_type": "stream",
     "text": [
      "\u001b[32m[1022 14:47:51 @base.py:285]\u001b[0m Epoch 780 (global_step 163799) finished, time:6.32 seconds.\n",
      "\u001b[32m[1022 14:47:51 @saver.py:79]\u001b[0m Model saved to ../output/Chicago/DATWGAN_30/model\\model-163799.\n",
      "\u001b[32m[1022 14:47:51 @monitor.py:467]\u001b[0m GAN_loss/d_loss: -0.036888\n",
      "\u001b[32m[1022 14:47:51 @monitor.py:467]\u001b[0m GAN_loss/g_loss: 0.31303\n",
      "\u001b[32m[1022 14:47:51 @monitor.py:467]\u001b[0m GAN_loss/gradient_penalty: 0.0051824\n",
      "\u001b[32m[1022 14:47:51 @monitor.py:467]\u001b[0m GAN_loss/gradient_rms: 0.99989\n",
      "\u001b[32m[1022 14:47:51 @monitor.py:467]\u001b[0m GAN_loss/kl_div: 0.058948\n",
      "\u001b[32m[1022 14:47:51 @monitor.py:467]\u001b[0m QueueInput/queue_size: 50\n",
      "\u001b[32m[1022 14:47:51 @base.py:275]\u001b[0m Start Epoch 781 ...\n"
     ]
    },
    {
     "name": "stderr",
     "output_type": "stream",
     "text": [
      "\n",
      "100%|###################################################################################|175/175[00:06<00:00,27.53it/s]"
     ]
    },
    {
     "name": "stdout",
     "output_type": "stream",
     "text": [
      "\u001b[32m[1022 14:47:58 @base.py:285]\u001b[0m Epoch 781 (global_step 164009) finished, time:6.36 seconds.\n",
      "\u001b[32m[1022 14:47:58 @saver.py:79]\u001b[0m Model saved to ../output/Chicago/DATWGAN_30/model\\model-164009.\n",
      "\u001b[32m[1022 14:47:58 @monitor.py:467]\u001b[0m GAN_loss/d_loss: -0.039583\n",
      "\u001b[32m[1022 14:47:58 @monitor.py:467]\u001b[0m GAN_loss/g_loss: 0.30838\n",
      "\u001b[32m[1022 14:47:58 @monitor.py:467]\u001b[0m GAN_loss/gradient_penalty: 0.005201\n",
      "\u001b[32m[1022 14:47:58 @monitor.py:467]\u001b[0m GAN_loss/gradient_rms: 1.0003\n",
      "\u001b[32m[1022 14:47:58 @monitor.py:467]\u001b[0m GAN_loss/kl_div: 0.061448\n",
      "\u001b[32m[1022 14:47:58 @monitor.py:467]\u001b[0m QueueInput/queue_size: 50\n",
      "\u001b[32m[1022 14:47:58 @base.py:275]\u001b[0m Start Epoch 782 ...\n"
     ]
    },
    {
     "name": "stderr",
     "output_type": "stream",
     "text": [
      "\n",
      "100%|###################################################################################|175/175[00:06<00:00,27.58it/s]"
     ]
    },
    {
     "name": "stdout",
     "output_type": "stream",
     "text": [
      "\u001b[32m[1022 14:48:04 @base.py:285]\u001b[0m Epoch 782 (global_step 164219) finished, time:6.35 seconds.\n",
      "\u001b[32m[1022 14:48:04 @saver.py:79]\u001b[0m Model saved to ../output/Chicago/DATWGAN_30/model\\model-164219.\n",
      "\u001b[32m[1022 14:48:05 @monitor.py:467]\u001b[0m GAN_loss/d_loss: -0.031795\n",
      "\u001b[32m[1022 14:48:05 @monitor.py:467]\u001b[0m GAN_loss/g_loss: 0.30056\n",
      "\u001b[32m[1022 14:48:05 @monitor.py:467]\u001b[0m GAN_loss/gradient_penalty: 0.0050514\n",
      "\u001b[32m[1022 14:48:05 @monitor.py:467]\u001b[0m GAN_loss/gradient_rms: 0.99813\n",
      "\u001b[32m[1022 14:48:05 @monitor.py:467]\u001b[0m GAN_loss/kl_div: 0.0622\n",
      "\u001b[32m[1022 14:48:05 @monitor.py:467]\u001b[0m QueueInput/queue_size: 50\n"
     ]
    },
    {
     "name": "stderr",
     "output_type": "stream",
     "text": [
      "\n"
     ]
    },
    {
     "name": "stdout",
     "output_type": "stream",
     "text": [
      "\u001b[32m[1022 14:48:05 @base.py:275]\u001b[0m Start Epoch 783 ...\n"
     ]
    },
    {
     "name": "stderr",
     "output_type": "stream",
     "text": [
      "100%|###################################################################################|175/175[00:06<00:00,27.46it/s]"
     ]
    },
    {
     "name": "stdout",
     "output_type": "stream",
     "text": [
      "\u001b[32m[1022 14:48:11 @base.py:285]\u001b[0m Epoch 783 (global_step 164429) finished, time:6.37 seconds.\n"
     ]
    },
    {
     "name": "stderr",
     "output_type": "stream",
     "text": [
      "\n"
     ]
    },
    {
     "name": "stdout",
     "output_type": "stream",
     "text": [
      "\u001b[32m[1022 14:48:11 @saver.py:79]\u001b[0m Model saved to ../output/Chicago/DATWGAN_30/model\\model-164429.\n",
      "\u001b[32m[1022 14:48:11 @monitor.py:467]\u001b[0m GAN_loss/d_loss: -0.033681\n",
      "\u001b[32m[1022 14:48:11 @monitor.py:467]\u001b[0m GAN_loss/g_loss: 0.3036\n",
      "\u001b[32m[1022 14:48:11 @monitor.py:467]\u001b[0m GAN_loss/gradient_penalty: 0.0051482\n",
      "\u001b[32m[1022 14:48:11 @monitor.py:467]\u001b[0m GAN_loss/gradient_rms: 0.99855\n",
      "\u001b[32m[1022 14:48:11 @monitor.py:467]\u001b[0m GAN_loss/kl_div: 0.059165\n",
      "\u001b[32m[1022 14:48:11 @monitor.py:467]\u001b[0m QueueInput/queue_size: 50\n",
      "\u001b[32m[1022 14:48:11 @base.py:275]\u001b[0m Start Epoch 784 ...\n"
     ]
    },
    {
     "name": "stderr",
     "output_type": "stream",
     "text": [
      "100%|###################################################################################|175/175[00:06<00:00,27.48it/s]"
     ]
    },
    {
     "name": "stdout",
     "output_type": "stream",
     "text": [
      "\u001b[32m[1022 14:48:17 @base.py:285]\u001b[0m Epoch 784 (global_step 164639) finished, time:6.37 seconds.\n",
      "\u001b[32m[1022 14:48:18 @saver.py:79]\u001b[0m Model saved to ../output/Chicago/DATWGAN_30/model\\model-164639.\n",
      "\u001b[32m[1022 14:48:18 @monitor.py:467]\u001b[0m GAN_loss/d_loss: -0.023996\n",
      "\u001b[32m[1022 14:48:18 @monitor.py:467]\u001b[0m GAN_loss/g_loss: 0.2921\n"
     ]
    },
    {
     "name": "stderr",
     "output_type": "stream",
     "text": [
      "\n"
     ]
    },
    {
     "name": "stdout",
     "output_type": "stream",
     "text": [
      "\u001b[32m[1022 14:48:18 @monitor.py:467]\u001b[0m GAN_loss/gradient_penalty: 0.0051114\n",
      "\u001b[32m[1022 14:48:18 @monitor.py:467]\u001b[0m GAN_loss/gradient_rms: 0.99915\n",
      "\u001b[32m[1022 14:48:18 @monitor.py:467]\u001b[0m GAN_loss/kl_div: 0.058687\n",
      "\u001b[32m[1022 14:48:18 @monitor.py:467]\u001b[0m QueueInput/queue_size: 50\n",
      "\u001b[32m[1022 14:48:18 @base.py:275]\u001b[0m Start Epoch 785 ...\n"
     ]
    },
    {
     "name": "stderr",
     "output_type": "stream",
     "text": [
      "100%|###################################################################################|175/175[00:06<00:00,27.44it/s]"
     ]
    },
    {
     "name": "stdout",
     "output_type": "stream",
     "text": [
      "\u001b[32m[1022 14:48:24 @base.py:285]\u001b[0m Epoch 785 (global_step 164849) finished, time:6.38 seconds.\n"
     ]
    },
    {
     "name": "stderr",
     "output_type": "stream",
     "text": [
      "\n"
     ]
    },
    {
     "name": "stdout",
     "output_type": "stream",
     "text": [
      "\u001b[32m[1022 14:48:24 @saver.py:79]\u001b[0m Model saved to ../output/Chicago/DATWGAN_30/model\\model-164849.\n",
      "\u001b[32m[1022 14:48:24 @monitor.py:467]\u001b[0m GAN_loss/d_loss: -0.0225\n",
      "\u001b[32m[1022 14:48:24 @monitor.py:467]\u001b[0m GAN_loss/g_loss: 0.30105\n",
      "\u001b[32m[1022 14:48:24 @monitor.py:467]\u001b[0m GAN_loss/gradient_penalty: 0.0049683\n",
      "\u001b[32m[1022 14:48:24 @monitor.py:467]\u001b[0m GAN_loss/gradient_rms: 0.99922\n",
      "\u001b[32m[1022 14:48:24 @monitor.py:467]\u001b[0m GAN_loss/kl_div: 0.057403\n",
      "\u001b[32m[1022 14:48:24 @monitor.py:467]\u001b[0m QueueInput/queue_size: 50\n",
      "\u001b[32m[1022 14:48:24 @base.py:275]\u001b[0m Start Epoch 786 ...\n"
     ]
    },
    {
     "name": "stderr",
     "output_type": "stream",
     "text": [
      "100%|###################################################################################|175/175[00:06<00:00,27.57it/s]"
     ]
    },
    {
     "name": "stdout",
     "output_type": "stream",
     "text": [
      "\u001b[32m[1022 14:48:31 @base.py:285]\u001b[0m Epoch 786 (global_step 165059) finished, time:6.35 seconds.\n",
      "\u001b[32m[1022 14:48:31 @saver.py:79]\u001b[0m Model saved to ../output/Chicago/DATWGAN_30/model\\model-165059.\n",
      "\u001b[32m[1022 14:48:31 @monitor.py:467]\u001b[0m GAN_loss/d_loss: -0.039594\n",
      "\u001b[32m[1022 14:48:31 @monitor.py:467]\u001b[0m GAN_loss/g_loss: 0.30359\n",
      "\u001b[32m[1022 14:48:31 @monitor.py:467]\u001b[0m GAN_loss/gradient_penalty: 0.0052768\n",
      "\u001b[32m[1022 14:48:31 @monitor.py:467]\u001b[0m GAN_loss/gradient_rms: 0.99996\n",
      "\u001b[32m[1022 14:48:31 @monitor.py:467]\u001b[0m GAN_loss/kl_div: 0.055392\n",
      "\u001b[32m[1022 14:48:31 @monitor.py:467]\u001b[0m QueueInput/queue_size: 50\n",
      "\u001b[32m[1022 14:48:31 @base.py:275]\u001b[0m Start Epoch 787 ...\n"
     ]
    },
    {
     "name": "stderr",
     "output_type": "stream",
     "text": [
      "\n",
      "100%|###################################################################################|175/175[00:06<00:00,27.50it/s]"
     ]
    },
    {
     "name": "stdout",
     "output_type": "stream",
     "text": [
      "\u001b[32m[1022 14:48:37 @base.py:285]\u001b[0m Epoch 787 (global_step 165269) finished, time:6.37 seconds.\n",
      "\u001b[32m[1022 14:48:37 @saver.py:79]\u001b[0m Model saved to ../output/Chicago/DATWGAN_30/model\\model-165269.\n",
      "\u001b[32m[1022 14:48:37 @monitor.py:467]\u001b[0m GAN_loss/d_loss: -0.018619\n",
      "\u001b[32m[1022 14:48:37 @monitor.py:467]\u001b[0m GAN_loss/g_loss: 0.29261\n",
      "\u001b[32m[1022 14:48:37 @monitor.py:467]\u001b[0m GAN_loss/gradient_penalty: 0.0051818\n",
      "\u001b[32m[1022 14:48:37 @monitor.py:467]\u001b[0m GAN_loss/gradient_rms: 0.99995\n",
      "\u001b[32m[1022 14:48:37 @monitor.py:467]\u001b[0m GAN_loss/kl_div: 0.058085\n",
      "\u001b[32m[1022 14:48:37 @monitor.py:467]\u001b[0m QueueInput/queue_size: 50\n",
      "\u001b[32m[1022 14:48:37 @base.py:275]\u001b[0m Start Epoch 788 ...\n"
     ]
    },
    {
     "name": "stderr",
     "output_type": "stream",
     "text": [
      "\n",
      "100%|###################################################################################|175/175[00:06<00:00,27.37it/s]"
     ]
    },
    {
     "name": "stdout",
     "output_type": "stream",
     "text": [
      "\u001b[32m[1022 14:48:44 @base.py:285]\u001b[0m Epoch 788 (global_step 165479) finished, time:6.39 seconds.\n"
     ]
    },
    {
     "name": "stderr",
     "output_type": "stream",
     "text": [
      "\n"
     ]
    },
    {
     "name": "stdout",
     "output_type": "stream",
     "text": [
      "\u001b[32m[1022 14:48:44 @saver.py:79]\u001b[0m Model saved to ../output/Chicago/DATWGAN_30/model\\model-165479.\n",
      "\u001b[32m[1022 14:48:44 @monitor.py:467]\u001b[0m GAN_loss/d_loss: -0.040653\n",
      "\u001b[32m[1022 14:48:44 @monitor.py:467]\u001b[0m GAN_loss/g_loss: 0.29111\n",
      "\u001b[32m[1022 14:48:44 @monitor.py:467]\u001b[0m GAN_loss/gradient_penalty: 0.005051\n",
      "\u001b[32m[1022 14:48:44 @monitor.py:467]\u001b[0m GAN_loss/gradient_rms: 0.99895\n",
      "\u001b[32m[1022 14:48:44 @monitor.py:467]\u001b[0m GAN_loss/kl_div: 0.060106\n",
      "\u001b[32m[1022 14:48:44 @monitor.py:467]\u001b[0m QueueInput/queue_size: 50\n",
      "\u001b[32m[1022 14:48:44 @base.py:275]\u001b[0m Start Epoch 789 ...\n"
     ]
    },
    {
     "name": "stderr",
     "output_type": "stream",
     "text": [
      "100%|###################################################################################|175/175[00:06<00:00,27.42it/s]"
     ]
    },
    {
     "name": "stdout",
     "output_type": "stream",
     "text": [
      "\u001b[32m[1022 14:48:50 @base.py:285]\u001b[0m Epoch 789 (global_step 165689) finished, time:6.38 seconds.\n",
      "\u001b[32m[1022 14:48:50 @saver.py:79]\u001b[0m Model saved to ../output/Chicago/DATWGAN_30/model\\model-165689.\n"
     ]
    },
    {
     "name": "stderr",
     "output_type": "stream",
     "text": [
      "\n"
     ]
    },
    {
     "name": "stdout",
     "output_type": "stream",
     "text": [
      "\u001b[32m[1022 14:48:50 @monitor.py:467]\u001b[0m GAN_loss/d_loss: -0.031115\n",
      "\u001b[32m[1022 14:48:50 @monitor.py:467]\u001b[0m GAN_loss/g_loss: 0.29518\n",
      "\u001b[32m[1022 14:48:50 @monitor.py:467]\u001b[0m GAN_loss/gradient_penalty: 0.0051959\n",
      "\u001b[32m[1022 14:48:50 @monitor.py:467]\u001b[0m GAN_loss/gradient_rms: 0.99849\n",
      "\u001b[32m[1022 14:48:50 @monitor.py:467]\u001b[0m GAN_loss/kl_div: 0.058219\n",
      "\u001b[32m[1022 14:48:50 @monitor.py:467]\u001b[0m QueueInput/queue_size: 50\n",
      "\u001b[32m[1022 14:48:50 @base.py:275]\u001b[0m Start Epoch 790 ...\n"
     ]
    },
    {
     "name": "stderr",
     "output_type": "stream",
     "text": [
      "100%|###################################################################################|175/175[00:06<00:00,27.41it/s]"
     ]
    },
    {
     "name": "stdout",
     "output_type": "stream",
     "text": [
      "\u001b[32m[1022 14:48:57 @base.py:285]\u001b[0m Epoch 790 (global_step 165899) finished, time:6.38 seconds.\n",
      "\u001b[32m[1022 14:48:57 @saver.py:79]\u001b[0m Model saved to ../output/Chicago/DATWGAN_30/model\\model-165899.\n",
      "\u001b[32m[1022 14:48:57 @monitor.py:467]\u001b[0m GAN_loss/d_loss: -0.03399\n",
      "\u001b[32m[1022 14:48:57 @monitor.py:467]\u001b[0m GAN_loss/g_loss: 0.29998\n",
      "\u001b[32m[1022 14:48:57 @monitor.py:467]\u001b[0m GAN_loss/gradient_penalty: 0.0051489\n",
      "\u001b[32m[1022 14:48:57 @monitor.py:467]\u001b[0m GAN_loss/gradient_rms: 0.99931\n",
      "\u001b[32m[1022 14:48:57 @monitor.py:467]\u001b[0m GAN_loss/kl_div: 0.058999\n",
      "\u001b[32m[1022 14:48:57 @monitor.py:467]\u001b[0m QueueInput/queue_size: 50\n",
      "\u001b[32m[1022 14:48:57 @base.py:275]\u001b[0m Start Epoch 791 ...\n"
     ]
    },
    {
     "name": "stderr",
     "output_type": "stream",
     "text": [
      "\n",
      "100%|###################################################################################|175/175[00:06<00:00,27.45it/s]"
     ]
    },
    {
     "name": "stdout",
     "output_type": "stream",
     "text": [
      "\u001b[32m[1022 14:49:03 @base.py:285]\u001b[0m Epoch 791 (global_step 166109) finished, time:6.38 seconds.\n",
      "\u001b[32m[1022 14:49:03 @saver.py:79]\u001b[0m Model saved to ../output/Chicago/DATWGAN_30/model\\model-166109.\n",
      "\u001b[32m[1022 14:49:04 @monitor.py:467]\u001b[0m GAN_loss/d_loss: -0.028943\n"
     ]
    },
    {
     "name": "stderr",
     "output_type": "stream",
     "text": [
      "\n"
     ]
    },
    {
     "name": "stdout",
     "output_type": "stream",
     "text": [
      "\u001b[32m[1022 14:49:04 @monitor.py:467]\u001b[0m GAN_loss/g_loss: 0.28835\n",
      "\u001b[32m[1022 14:49:04 @monitor.py:467]\u001b[0m GAN_loss/gradient_penalty: 0.0053121\n",
      "\u001b[32m[1022 14:49:04 @monitor.py:467]\u001b[0m GAN_loss/gradient_rms: 0.99955\n",
      "\u001b[32m[1022 14:49:04 @monitor.py:467]\u001b[0m GAN_loss/kl_div: 0.063134\n",
      "\u001b[32m[1022 14:49:04 @monitor.py:467]\u001b[0m QueueInput/queue_size: 50\n",
      "\u001b[32m[1022 14:49:04 @base.py:275]\u001b[0m Start Epoch 792 ...\n"
     ]
    },
    {
     "name": "stderr",
     "output_type": "stream",
     "text": [
      "100%|###################################################################################|175/175[00:06<00:00,27.51it/s]"
     ]
    },
    {
     "name": "stdout",
     "output_type": "stream",
     "text": [
      "\u001b[32m[1022 14:49:10 @base.py:285]\u001b[0m Epoch 792 (global_step 166319) finished, time:6.36 seconds.\n",
      "\u001b[32m[1022 14:49:10 @saver.py:79]\u001b[0m Model saved to ../output/Chicago/DATWGAN_30/model\\model-166319.\n"
     ]
    },
    {
     "name": "stderr",
     "output_type": "stream",
     "text": [
      "\n"
     ]
    },
    {
     "name": "stdout",
     "output_type": "stream",
     "text": [
      "\u001b[32m[1022 14:49:10 @monitor.py:467]\u001b[0m GAN_loss/d_loss: -0.040423\n",
      "\u001b[32m[1022 14:49:10 @monitor.py:467]\u001b[0m GAN_loss/g_loss: 0.29536\n",
      "\u001b[32m[1022 14:49:10 @monitor.py:467]\u001b[0m GAN_loss/gradient_penalty: 0.0049752\n",
      "\u001b[32m[1022 14:49:10 @monitor.py:467]\u001b[0m GAN_loss/gradient_rms: 0.99908\n",
      "\u001b[32m[1022 14:49:10 @monitor.py:467]\u001b[0m GAN_loss/kl_div: 0.061297\n",
      "\u001b[32m[1022 14:49:10 @monitor.py:467]\u001b[0m QueueInput/queue_size: 50\n",
      "\u001b[32m[1022 14:49:10 @base.py:275]\u001b[0m Start Epoch 793 ...\n"
     ]
    },
    {
     "name": "stderr",
     "output_type": "stream",
     "text": [
      "100%|###################################################################################|175/175[00:06<00:00,27.47it/s]"
     ]
    },
    {
     "name": "stdout",
     "output_type": "stream",
     "text": [
      "\u001b[32m[1022 14:49:16 @base.py:285]\u001b[0m Epoch 793 (global_step 166529) finished, time:6.37 seconds.\n",
      "\u001b[32m[1022 14:49:17 @saver.py:79]\u001b[0m Model saved to ../output/Chicago/DATWGAN_30/model\\model-166529.\n",
      "\u001b[32m[1022 14:49:17 @monitor.py:467]\u001b[0m GAN_loss/d_loss: -0.048305\n",
      "\u001b[32m[1022 14:49:17 @monitor.py:467]\u001b[0m GAN_loss/g_loss: 0.29232\n",
      "\u001b[32m[1022 14:49:17 @monitor.py:467]\u001b[0m GAN_loss/gradient_penalty: 0.0050542\n",
      "\u001b[32m[1022 14:49:17 @monitor.py:467]\u001b[0m GAN_loss/gradient_rms: 0.99752\n",
      "\u001b[32m[1022 14:49:17 @monitor.py:467]\u001b[0m GAN_loss/kl_div: 0.058373\n",
      "\u001b[32m[1022 14:49:17 @monitor.py:467]\u001b[0m QueueInput/queue_size: 50\n",
      "\u001b[32m[1022 14:49:17 @base.py:275]\u001b[0m Start Epoch 794 ...\n"
     ]
    },
    {
     "name": "stderr",
     "output_type": "stream",
     "text": [
      "\n",
      "100%|###################################################################################|175/175[00:06<00:00,27.60it/s]"
     ]
    },
    {
     "name": "stdout",
     "output_type": "stream",
     "text": [
      "\u001b[32m[1022 14:49:23 @base.py:285]\u001b[0m Epoch 794 (global_step 166739) finished, time:6.34 seconds.\n",
      "\u001b[32m[1022 14:49:23 @saver.py:79]\u001b[0m Model saved to ../output/Chicago/DATWGAN_30/model\\model-166739.\n",
      "\u001b[32m[1022 14:49:23 @monitor.py:467]\u001b[0m GAN_loss/d_loss: -0.033835\n"
     ]
    },
    {
     "name": "stderr",
     "output_type": "stream",
     "text": [
      "\n"
     ]
    },
    {
     "name": "stdout",
     "output_type": "stream",
     "text": [
      "\u001b[32m[1022 14:49:23 @monitor.py:467]\u001b[0m GAN_loss/g_loss: 0.26977\n",
      "\u001b[32m[1022 14:49:23 @monitor.py:467]\u001b[0m GAN_loss/gradient_penalty: 0.0050542\n",
      "\u001b[32m[1022 14:49:23 @monitor.py:467]\u001b[0m GAN_loss/gradient_rms: 0.9985\n",
      "\u001b[32m[1022 14:49:23 @monitor.py:467]\u001b[0m GAN_loss/kl_div: 0.060402\n",
      "\u001b[32m[1022 14:49:23 @monitor.py:467]\u001b[0m QueueInput/queue_size: 50\n",
      "\u001b[32m[1022 14:49:23 @base.py:275]\u001b[0m Start Epoch 795 ...\n"
     ]
    },
    {
     "name": "stderr",
     "output_type": "stream",
     "text": [
      "100%|###################################################################################|175/175[00:06<00:00,27.57it/s]"
     ]
    },
    {
     "name": "stdout",
     "output_type": "stream",
     "text": [
      "\u001b[32m[1022 14:49:30 @base.py:285]\u001b[0m Epoch 795 (global_step 166949) finished, time:6.35 seconds.\n",
      "\u001b[32m[1022 14:49:30 @saver.py:79]\u001b[0m Model saved to ../output/Chicago/DATWGAN_30/model\\model-166949.\n"
     ]
    },
    {
     "name": "stderr",
     "output_type": "stream",
     "text": [
      "\n"
     ]
    },
    {
     "name": "stdout",
     "output_type": "stream",
     "text": [
      "\u001b[32m[1022 14:49:30 @monitor.py:467]\u001b[0m GAN_loss/d_loss: -0.027184\n",
      "\u001b[32m[1022 14:49:30 @monitor.py:467]\u001b[0m GAN_loss/g_loss: 0.27359\n",
      "\u001b[32m[1022 14:49:30 @monitor.py:467]\u001b[0m GAN_loss/gradient_penalty: 0.0051343\n",
      "\u001b[32m[1022 14:49:30 @monitor.py:467]\u001b[0m GAN_loss/gradient_rms: 0.99942\n",
      "\u001b[32m[1022 14:49:30 @monitor.py:467]\u001b[0m GAN_loss/kl_div: 0.058513\n",
      "\u001b[32m[1022 14:49:30 @monitor.py:467]\u001b[0m QueueInput/queue_size: 50\n",
      "\u001b[32m[1022 14:49:30 @base.py:275]\u001b[0m Start Epoch 796 ...\n"
     ]
    },
    {
     "name": "stderr",
     "output_type": "stream",
     "text": [
      "100%|###################################################################################|175/175[00:06<00:00,27.57it/s]"
     ]
    },
    {
     "name": "stdout",
     "output_type": "stream",
     "text": [
      "\u001b[32m[1022 14:49:36 @base.py:285]\u001b[0m Epoch 796 (global_step 167159) finished, time:6.35 seconds.\n",
      "\u001b[32m[1022 14:49:36 @saver.py:79]\u001b[0m Model saved to ../output/Chicago/DATWGAN_30/model\\model-167159.\n",
      "\u001b[32m[1022 14:49:36 @monitor.py:467]\u001b[0m GAN_loss/d_loss: -0.022717\n",
      "\u001b[32m[1022 14:49:36 @monitor.py:467]\u001b[0m GAN_loss/g_loss: 0.27191\n",
      "\u001b[32m[1022 14:49:36 @monitor.py:467]\u001b[0m GAN_loss/gradient_penalty: 0.0051182\n",
      "\u001b[32m[1022 14:49:36 @monitor.py:467]\u001b[0m GAN_loss/gradient_rms: 0.99891\n",
      "\u001b[32m[1022 14:49:36 @monitor.py:467]\u001b[0m GAN_loss/kl_div: 0.058915\n",
      "\u001b[32m[1022 14:49:36 @monitor.py:467]\u001b[0m QueueInput/queue_size: 50\n",
      "\u001b[32m[1022 14:49:36 @base.py:275]\u001b[0m Start Epoch 797 ...\n"
     ]
    },
    {
     "name": "stderr",
     "output_type": "stream",
     "text": [
      "\n",
      "100%|###################################################################################|175/175[00:06<00:00,27.49it/s]"
     ]
    },
    {
     "name": "stdout",
     "output_type": "stream",
     "text": [
      "\u001b[32m[1022 14:49:43 @base.py:285]\u001b[0m Epoch 797 (global_step 167369) finished, time:6.37 seconds.\n",
      "\u001b[32m[1022 14:49:43 @saver.py:79]\u001b[0m Model saved to ../output/Chicago/DATWGAN_30/model\\model-167369.\n",
      "\u001b[32m[1022 14:49:43 @monitor.py:467]\u001b[0m GAN_loss/d_loss: -0.039996\n",
      "\u001b[32m[1022 14:49:43 @monitor.py:467]\u001b[0m GAN_loss/g_loss: 0.28537\n",
      "\u001b[32m[1022 14:49:43 @monitor.py:467]\u001b[0m GAN_loss/gradient_penalty: 0.0051555\n",
      "\u001b[32m[1022 14:49:43 @monitor.py:467]\u001b[0m GAN_loss/gradient_rms: 0.99895\n",
      "\u001b[32m[1022 14:49:43 @monitor.py:467]\u001b[0m GAN_loss/kl_div: 0.059228\n",
      "\u001b[32m[1022 14:49:43 @monitor.py:467]\u001b[0m QueueInput/queue_size: 50\n",
      "\u001b[32m[1022 14:49:43 @base.py:275]\u001b[0m Start Epoch 798 ...\n"
     ]
    },
    {
     "name": "stderr",
     "output_type": "stream",
     "text": [
      "\n",
      "100%|###################################################################################|175/175[00:06<00:00,27.45it/s]"
     ]
    },
    {
     "name": "stdout",
     "output_type": "stream",
     "text": [
      "\u001b[32m[1022 14:49:49 @base.py:285]\u001b[0m Epoch 798 (global_step 167579) finished, time:6.37 seconds.\n",
      "\u001b[32m[1022 14:49:49 @saver.py:79]\u001b[0m Model saved to ../output/Chicago/DATWGAN_30/model\\model-167579.\n",
      "\u001b[32m[1022 14:49:49 @monitor.py:467]\u001b[0m GAN_loss/d_loss: -0.032545\n"
     ]
    },
    {
     "name": "stderr",
     "output_type": "stream",
     "text": [
      "\n"
     ]
    },
    {
     "name": "stdout",
     "output_type": "stream",
     "text": [
      "\u001b[32m[1022 14:49:49 @monitor.py:467]\u001b[0m GAN_loss/g_loss: 0.27631\n",
      "\u001b[32m[1022 14:49:49 @monitor.py:467]\u001b[0m GAN_loss/gradient_penalty: 0.0051513\n",
      "\u001b[32m[1022 14:49:49 @monitor.py:467]\u001b[0m GAN_loss/gradient_rms: 1.0001\n",
      "\u001b[32m[1022 14:49:49 @monitor.py:467]\u001b[0m GAN_loss/kl_div: 0.05907\n",
      "\u001b[32m[1022 14:49:49 @monitor.py:467]\u001b[0m QueueInput/queue_size: 50\n",
      "\u001b[32m[1022 14:49:49 @base.py:275]\u001b[0m Start Epoch 799 ...\n"
     ]
    },
    {
     "name": "stderr",
     "output_type": "stream",
     "text": [
      "100%|###################################################################################|175/175[00:06<00:00,27.67it/s]"
     ]
    },
    {
     "name": "stdout",
     "output_type": "stream",
     "text": [
      "\u001b[32m[1022 14:49:56 @base.py:285]\u001b[0m Epoch 799 (global_step 167789) finished, time:6.32 seconds.\n",
      "\u001b[32m[1022 14:49:56 @saver.py:79]\u001b[0m Model saved to ../output/Chicago/DATWGAN_30/model\\model-167789.\n",
      "\u001b[32m[1022 14:49:56 @monitor.py:467]\u001b[0m GAN_loss/d_loss: -0.032637\n",
      "\u001b[32m[1022 14:49:56 @monitor.py:467]\u001b[0m GAN_loss/g_loss: 0.28224\n"
     ]
    },
    {
     "name": "stderr",
     "output_type": "stream",
     "text": [
      "\n"
     ]
    },
    {
     "name": "stdout",
     "output_type": "stream",
     "text": [
      "\u001b[32m[1022 14:49:56 @monitor.py:467]\u001b[0m GAN_loss/gradient_penalty: 0.004987\n",
      "\u001b[32m[1022 14:49:56 @monitor.py:467]\u001b[0m GAN_loss/gradient_rms: 0.99821\n",
      "\u001b[32m[1022 14:49:56 @monitor.py:467]\u001b[0m GAN_loss/kl_div: 0.06243\n",
      "\u001b[32m[1022 14:49:56 @monitor.py:467]\u001b[0m QueueInput/queue_size: 50\n",
      "\u001b[32m[1022 14:49:56 @base.py:275]\u001b[0m Start Epoch 800 ...\n"
     ]
    },
    {
     "name": "stderr",
     "output_type": "stream",
     "text": [
      "100%|###################################################################################|175/175[00:06<00:00,26.82it/s]"
     ]
    },
    {
     "name": "stdout",
     "output_type": "stream",
     "text": [
      "\u001b[32m[1022 14:50:02 @base.py:285]\u001b[0m Epoch 800 (global_step 167999) finished, time:6.52 seconds.\n",
      "\u001b[32m[1022 14:50:02 @saver.py:79]\u001b[0m Model saved to ../output/Chicago/DATWGAN_30/model\\model-167999.\n"
     ]
    },
    {
     "name": "stderr",
     "output_type": "stream",
     "text": [
      "\n"
     ]
    },
    {
     "name": "stdout",
     "output_type": "stream",
     "text": [
      "\u001b[32m[1022 14:50:03 @monitor.py:467]\u001b[0m GAN_loss/d_loss: -0.018514\n",
      "\u001b[32m[1022 14:50:03 @monitor.py:467]\u001b[0m GAN_loss/g_loss: 0.26853\n",
      "\u001b[32m[1022 14:50:03 @monitor.py:467]\u001b[0m GAN_loss/gradient_penalty: 0.0051263\n",
      "\u001b[32m[1022 14:50:03 @monitor.py:467]\u001b[0m GAN_loss/gradient_rms: 0.99913\n",
      "\u001b[32m[1022 14:50:03 @monitor.py:467]\u001b[0m GAN_loss/kl_div: 0.057832\n",
      "\u001b[32m[1022 14:50:03 @monitor.py:467]\u001b[0m QueueInput/queue_size: 50\n",
      "\u001b[32m[1022 14:50:03 @base.py:275]\u001b[0m Start Epoch 801 ...\n"
     ]
    },
    {
     "name": "stderr",
     "output_type": "stream",
     "text": [
      "100%|###################################################################################|175/175[00:06<00:00,27.67it/s]"
     ]
    },
    {
     "name": "stdout",
     "output_type": "stream",
     "text": [
      "\u001b[32m[1022 14:50:09 @base.py:285]\u001b[0m Epoch 801 (global_step 168209) finished, time:6.33 seconds.\n",
      "\u001b[32m[1022 14:50:09 @saver.py:79]\u001b[0m Model saved to ../output/Chicago/DATWGAN_30/model\\model-168209.\n",
      "\u001b[32m[1022 14:50:09 @monitor.py:467]\u001b[0m GAN_loss/d_loss: -0.021729\n",
      "\u001b[32m[1022 14:50:09 @monitor.py:467]\u001b[0m GAN_loss/g_loss: 0.27883\n",
      "\u001b[32m[1022 14:50:09 @monitor.py:467]\u001b[0m GAN_loss/gradient_penalty: 0.0052529\n",
      "\u001b[32m[1022 14:50:09 @monitor.py:467]\u001b[0m GAN_loss/gradient_rms: 0.99948\n",
      "\u001b[32m[1022 14:50:09 @monitor.py:467]\u001b[0m GAN_loss/kl_div: 0.061331\n",
      "\u001b[32m[1022 14:50:09 @monitor.py:467]\u001b[0m QueueInput/queue_size: 50\n",
      "\u001b[32m[1022 14:50:09 @base.py:275]\u001b[0m Start Epoch 802 ...\n"
     ]
    },
    {
     "name": "stderr",
     "output_type": "stream",
     "text": [
      "\n",
      "100%|###################################################################################|175/175[00:06<00:00,27.72it/s]"
     ]
    },
    {
     "name": "stdout",
     "output_type": "stream",
     "text": [
      "\u001b[32m[1022 14:50:15 @base.py:285]\u001b[0m Epoch 802 (global_step 168419) finished, time:6.31 seconds.\n",
      "\u001b[32m[1022 14:50:15 @saver.py:79]\u001b[0m Model saved to ../output/Chicago/DATWGAN_30/model\\model-168419.\n",
      "\u001b[32m[1022 14:50:16 @monitor.py:467]\u001b[0m GAN_loss/d_loss: -0.029353\n",
      "\u001b[32m[1022 14:50:16 @monitor.py:467]\u001b[0m GAN_loss/g_loss: 0.27496\n"
     ]
    },
    {
     "name": "stderr",
     "output_type": "stream",
     "text": [
      "\n"
     ]
    },
    {
     "name": "stdout",
     "output_type": "stream",
     "text": [
      "\u001b[32m[1022 14:50:16 @monitor.py:467]\u001b[0m GAN_loss/gradient_penalty: 0.0050642\n",
      "\u001b[32m[1022 14:50:16 @monitor.py:467]\u001b[0m GAN_loss/gradient_rms: 0.99838\n",
      "\u001b[32m[1022 14:50:16 @monitor.py:467]\u001b[0m GAN_loss/kl_div: 0.061251\n",
      "\u001b[32m[1022 14:50:16 @monitor.py:467]\u001b[0m QueueInput/queue_size: 50\n",
      "\u001b[32m[1022 14:50:16 @base.py:275]\u001b[0m Start Epoch 803 ...\n"
     ]
    },
    {
     "name": "stderr",
     "output_type": "stream",
     "text": [
      "100%|###################################################################################|175/175[00:06<00:00,27.62it/s]"
     ]
    },
    {
     "name": "stdout",
     "output_type": "stream",
     "text": [
      "\u001b[32m[1022 14:50:22 @base.py:285]\u001b[0m Epoch 803 (global_step 168629) finished, time:6.34 seconds.\n",
      "\u001b[32m[1022 14:50:22 @saver.py:79]\u001b[0m Model saved to ../output/Chicago/DATWGAN_30/model\\model-168629.\n"
     ]
    },
    {
     "name": "stderr",
     "output_type": "stream",
     "text": [
      "\n"
     ]
    },
    {
     "name": "stdout",
     "output_type": "stream",
     "text": [
      "\u001b[32m[1022 14:50:22 @monitor.py:467]\u001b[0m GAN_loss/d_loss: -0.013903\n",
      "\u001b[32m[1022 14:50:22 @monitor.py:467]\u001b[0m GAN_loss/g_loss: 0.2454\n",
      "\u001b[32m[1022 14:50:22 @monitor.py:467]\u001b[0m GAN_loss/gradient_penalty: 0.0049973\n",
      "\u001b[32m[1022 14:50:22 @monitor.py:467]\u001b[0m GAN_loss/gradient_rms: 0.99918\n",
      "\u001b[32m[1022 14:50:22 @monitor.py:467]\u001b[0m GAN_loss/kl_div: 0.059963\n",
      "\u001b[32m[1022 14:50:22 @monitor.py:467]\u001b[0m QueueInput/queue_size: 50\n",
      "\u001b[32m[1022 14:50:22 @base.py:275]\u001b[0m Start Epoch 804 ...\n"
     ]
    },
    {
     "name": "stderr",
     "output_type": "stream",
     "text": [
      "100%|###################################################################################|175/175[00:06<00:00,27.70it/s]"
     ]
    },
    {
     "name": "stdout",
     "output_type": "stream",
     "text": [
      "\u001b[32m[1022 14:50:28 @base.py:285]\u001b[0m Epoch 804 (global_step 168839) finished, time:6.32 seconds.\n",
      "\u001b[32m[1022 14:50:28 @saver.py:79]\u001b[0m Model saved to ../output/Chicago/DATWGAN_30/model\\model-168839.\n",
      "\u001b[32m[1022 14:50:29 @monitor.py:467]\u001b[0m GAN_loss/d_loss: -0.035237\n"
     ]
    },
    {
     "name": "stderr",
     "output_type": "stream",
     "text": [
      "\n"
     ]
    },
    {
     "name": "stdout",
     "output_type": "stream",
     "text": [
      "\u001b[32m[1022 14:50:29 @monitor.py:467]\u001b[0m GAN_loss/g_loss: 0.26637\n",
      "\u001b[32m[1022 14:50:29 @monitor.py:467]\u001b[0m GAN_loss/gradient_penalty: 0.0050686\n",
      "\u001b[32m[1022 14:50:29 @monitor.py:467]\u001b[0m GAN_loss/gradient_rms: 0.99988\n",
      "\u001b[32m[1022 14:50:29 @monitor.py:467]\u001b[0m GAN_loss/kl_div: 0.062921\n",
      "\u001b[32m[1022 14:50:29 @monitor.py:467]\u001b[0m QueueInput/queue_size: 50\n",
      "\u001b[32m[1022 14:50:29 @base.py:275]\u001b[0m Start Epoch 805 ...\n"
     ]
    },
    {
     "name": "stderr",
     "output_type": "stream",
     "text": [
      "100%|###################################################################################|175/175[00:06<00:00,27.73it/s]"
     ]
    },
    {
     "name": "stdout",
     "output_type": "stream",
     "text": [
      "\u001b[32m[1022 14:50:35 @base.py:285]\u001b[0m Epoch 805 (global_step 169049) finished, time:6.31 seconds.\n",
      "\u001b[32m[1022 14:50:35 @saver.py:79]\u001b[0m Model saved to ../output/Chicago/DATWGAN_30/model\\model-169049.\n",
      "\u001b[32m[1022 14:50:35 @monitor.py:467]\u001b[0m GAN_loss/d_loss: -0.014834\n",
      "\u001b[32m[1022 14:50:35 @monitor.py:467]\u001b[0m GAN_loss/g_loss: 0.26478\n",
      "\u001b[32m[1022 14:50:35 @monitor.py:467]\u001b[0m GAN_loss/gradient_penalty: 0.0050919\n",
      "\u001b[32m[1022 14:50:35 @monitor.py:467]\u001b[0m GAN_loss/gradient_rms: 1.0003\n",
      "\u001b[32m[1022 14:50:35 @monitor.py:467]\u001b[0m GAN_loss/kl_div: 0.057866\n",
      "\u001b[32m[1022 14:50:35 @monitor.py:467]\u001b[0m QueueInput/queue_size: 50\n",
      "\u001b[32m[1022 14:50:35 @base.py:275]\u001b[0m Start Epoch 806 ...\n"
     ]
    },
    {
     "name": "stderr",
     "output_type": "stream",
     "text": [
      "\n",
      "100%|###################################################################################|175/175[00:06<00:00,27.76it/s]"
     ]
    },
    {
     "name": "stdout",
     "output_type": "stream",
     "text": [
      "\u001b[32m[1022 14:50:41 @base.py:285]\u001b[0m Epoch 806 (global_step 169259) finished, time:6.3 seconds.\n",
      "\u001b[32m[1022 14:50:41 @saver.py:79]\u001b[0m Model saved to ../output/Chicago/DATWGAN_30/model\\model-169259.\n",
      "\u001b[32m[1022 14:50:42 @monitor.py:467]\u001b[0m GAN_loss/d_loss: -0.029354\n",
      "\u001b[32m[1022 14:50:42 @monitor.py:467]\u001b[0m GAN_loss/g_loss: 0.27043\n",
      "\u001b[32m[1022 14:50:42 @monitor.py:467]\u001b[0m GAN_loss/gradient_penalty: 0.0051065\n",
      "\u001b[32m[1022 14:50:42 @monitor.py:467]\u001b[0m GAN_loss/gradient_rms: 0.99877\n",
      "\u001b[32m[1022 14:50:42 @monitor.py:467]\u001b[0m GAN_loss/kl_div: 0.056\n",
      "\u001b[32m[1022 14:50:42 @monitor.py:467]\u001b[0m QueueInput/queue_size: 50\n",
      "\u001b[32m[1022 14:50:42 @base.py:275]\u001b[0m Start Epoch 807 ...\n"
     ]
    },
    {
     "name": "stderr",
     "output_type": "stream",
     "text": [
      "\n",
      "100%|###################################################################################|175/175[00:06<00:00,27.74it/s]"
     ]
    },
    {
     "name": "stdout",
     "output_type": "stream",
     "text": [
      "\u001b[32m[1022 14:50:48 @base.py:285]\u001b[0m Epoch 807 (global_step 169469) finished, time:6.31 seconds.\n",
      "\u001b[32m[1022 14:50:48 @saver.py:79]\u001b[0m Model saved to ../output/Chicago/DATWGAN_30/model\\model-169469.\n",
      "\u001b[32m[1022 14:50:48 @monitor.py:467]\u001b[0m GAN_loss/d_loss: -0.031978\n"
     ]
    },
    {
     "name": "stderr",
     "output_type": "stream",
     "text": [
      "\n"
     ]
    },
    {
     "name": "stdout",
     "output_type": "stream",
     "text": [
      "\u001b[32m[1022 14:50:48 @monitor.py:467]\u001b[0m GAN_loss/g_loss: 0.263\n",
      "\u001b[32m[1022 14:50:48 @monitor.py:467]\u001b[0m GAN_loss/gradient_penalty: 0.0050173\n",
      "\u001b[32m[1022 14:50:48 @monitor.py:467]\u001b[0m GAN_loss/gradient_rms: 0.99842\n",
      "\u001b[32m[1022 14:50:48 @monitor.py:467]\u001b[0m GAN_loss/kl_div: 0.062492\n",
      "\u001b[32m[1022 14:50:48 @monitor.py:467]\u001b[0m QueueInput/queue_size: 50\n",
      "\u001b[32m[1022 14:50:48 @base.py:275]\u001b[0m Start Epoch 808 ...\n"
     ]
    },
    {
     "name": "stderr",
     "output_type": "stream",
     "text": [
      "100%|###################################################################################|175/175[00:06<00:00,27.74it/s]"
     ]
    },
    {
     "name": "stdout",
     "output_type": "stream",
     "text": [
      "\u001b[32m[1022 14:50:54 @base.py:285]\u001b[0m Epoch 808 (global_step 169679) finished, time:6.31 seconds.\n",
      "\u001b[32m[1022 14:50:54 @saver.py:79]\u001b[0m Model saved to ../output/Chicago/DATWGAN_30/model\\model-169679.\n",
      "\u001b[32m[1022 14:50:55 @monitor.py:467]\u001b[0m GAN_loss/d_loss: -0.02942\n",
      "\u001b[32m[1022 14:50:55 @monitor.py:467]\u001b[0m GAN_loss/g_loss: 0.2609\n",
      "\u001b[32m[1022 14:50:55 @monitor.py:467]\u001b[0m GAN_loss/gradient_penalty: 0.0049893\n",
      "\u001b[32m[1022 14:50:55 @monitor.py:467]\u001b[0m GAN_loss/gradient_rms: 0.99905\n",
      "\u001b[32m[1022 14:50:55 @monitor.py:467]\u001b[0m GAN_loss/kl_div: 0.057229\n",
      "\u001b[32m[1022 14:50:55 @monitor.py:467]\u001b[0m QueueInput/queue_size: 50\n",
      "\u001b[32m[1022 14:50:55 @base.py:275]\u001b[0m Start Epoch 809 ...\n"
     ]
    },
    {
     "name": "stderr",
     "output_type": "stream",
     "text": [
      "\n",
      "100%|###################################################################################|175/175[00:06<00:00,27.74it/s]"
     ]
    },
    {
     "name": "stdout",
     "output_type": "stream",
     "text": [
      "\u001b[32m[1022 14:51:01 @base.py:285]\u001b[0m Epoch 809 (global_step 169889) finished, time:6.31 seconds.\n",
      "\u001b[32m[1022 14:51:01 @saver.py:79]\u001b[0m Model saved to ../output/Chicago/DATWGAN_30/model\\model-169889.\n",
      "\u001b[32m[1022 14:51:01 @monitor.py:467]\u001b[0m GAN_loss/d_loss: -0.019643\n"
     ]
    },
    {
     "name": "stderr",
     "output_type": "stream",
     "text": [
      "\n"
     ]
    },
    {
     "name": "stdout",
     "output_type": "stream",
     "text": [
      "\u001b[32m[1022 14:51:01 @monitor.py:467]\u001b[0m GAN_loss/g_loss: 0.2522\n",
      "\u001b[32m[1022 14:51:01 @monitor.py:467]\u001b[0m GAN_loss/gradient_penalty: 0.0051479\n",
      "\u001b[32m[1022 14:51:01 @monitor.py:467]\u001b[0m GAN_loss/gradient_rms: 0.99781\n",
      "\u001b[32m[1022 14:51:01 @monitor.py:467]\u001b[0m GAN_loss/kl_div: 0.062439\n",
      "\u001b[32m[1022 14:51:01 @monitor.py:467]\u001b[0m QueueInput/queue_size: 50\n",
      "\u001b[32m[1022 14:51:01 @base.py:275]\u001b[0m Start Epoch 810 ...\n"
     ]
    },
    {
     "name": "stderr",
     "output_type": "stream",
     "text": [
      "100%|###################################################################################|175/175[00:06<00:00,27.73it/s]"
     ]
    },
    {
     "name": "stdout",
     "output_type": "stream",
     "text": [
      "\u001b[32m[1022 14:51:07 @base.py:285]\u001b[0m Epoch 810 (global_step 170099) finished, time:6.31 seconds.\n",
      "\u001b[32m[1022 14:51:07 @saver.py:79]\u001b[0m Model saved to ../output/Chicago/DATWGAN_30/model\\model-170099.\n",
      "\u001b[32m[1022 14:51:08 @monitor.py:467]\u001b[0m GAN_loss/d_loss: -0.020797\n",
      "\u001b[32m[1022 14:51:08 @monitor.py:467]\u001b[0m GAN_loss/g_loss: 0.26153\n",
      "\u001b[32m[1022 14:51:08 @monitor.py:467]\u001b[0m GAN_loss/gradient_penalty: 0.0050237\n",
      "\u001b[32m[1022 14:51:08 @monitor.py:467]\u001b[0m GAN_loss/gradient_rms: 0.99873\n",
      "\u001b[32m[1022 14:51:08 @monitor.py:467]\u001b[0m GAN_loss/kl_div: 0.060935\n",
      "\u001b[32m[1022 14:51:08 @monitor.py:467]\u001b[0m QueueInput/queue_size: 50\n",
      "\u001b[32m[1022 14:51:08 @base.py:275]\u001b[0m Start Epoch 811 ...\n"
     ]
    },
    {
     "name": "stderr",
     "output_type": "stream",
     "text": [
      "\n",
      "100%|###################################################################################|175/175[00:06<00:00,27.76it/s]"
     ]
    },
    {
     "name": "stdout",
     "output_type": "stream",
     "text": [
      "\u001b[32m[1022 14:51:14 @base.py:285]\u001b[0m Epoch 811 (global_step 170309) finished, time:6.31 seconds.\n",
      "\u001b[32m[1022 14:51:14 @saver.py:79]\u001b[0m Model saved to ../output/Chicago/DATWGAN_30/model\\model-170309.\n",
      "\u001b[32m[1022 14:51:14 @monitor.py:467]\u001b[0m GAN_loss/d_loss: -0.030101\n"
     ]
    },
    {
     "name": "stderr",
     "output_type": "stream",
     "text": [
      "\n"
     ]
    },
    {
     "name": "stdout",
     "output_type": "stream",
     "text": [
      "\u001b[32m[1022 14:51:14 @monitor.py:467]\u001b[0m GAN_loss/g_loss: 0.26702\n",
      "\u001b[32m[1022 14:51:14 @monitor.py:467]\u001b[0m GAN_loss/gradient_penalty: 0.0050506\n",
      "\u001b[32m[1022 14:51:14 @monitor.py:467]\u001b[0m GAN_loss/gradient_rms: 0.99822\n",
      "\u001b[32m[1022 14:51:14 @monitor.py:467]\u001b[0m GAN_loss/kl_div: 0.060868\n",
      "\u001b[32m[1022 14:51:14 @monitor.py:467]\u001b[0m QueueInput/queue_size: 50\n",
      "\u001b[32m[1022 14:51:14 @base.py:275]\u001b[0m Start Epoch 812 ...\n"
     ]
    },
    {
     "name": "stderr",
     "output_type": "stream",
     "text": [
      "100%|###################################################################################|175/175[00:06<00:00,27.72it/s]"
     ]
    },
    {
     "name": "stdout",
     "output_type": "stream",
     "text": [
      "\u001b[32m[1022 14:51:20 @base.py:285]\u001b[0m Epoch 812 (global_step 170519) finished, time:6.31 seconds.\n",
      "\u001b[32m[1022 14:51:20 @saver.py:79]\u001b[0m Model saved to ../output/Chicago/DATWGAN_30/model\\model-170519.\n",
      "\u001b[32m[1022 14:51:20 @monitor.py:467]\u001b[0m GAN_loss/d_loss: -0.030841\n",
      "\u001b[32m[1022 14:51:20 @monitor.py:467]\u001b[0m GAN_loss/g_loss: 0.25673\n",
      "\u001b[32m[1022 14:51:20 @monitor.py:467]\u001b[0m GAN_loss/gradient_penalty: 0.0050868\n",
      "\u001b[32m[1022 14:51:20 @monitor.py:467]\u001b[0m GAN_loss/gradient_rms: 0.99941\n",
      "\u001b[32m[1022 14:51:20 @monitor.py:467]\u001b[0m GAN_loss/kl_div: 0.06011\n",
      "\u001b[32m[1022 14:51:20 @monitor.py:467]\u001b[0m QueueInput/queue_size: 50\n",
      "\u001b[32m[1022 14:51:20 @base.py:275]\u001b[0m Start Epoch 813 ...\n"
     ]
    },
    {
     "name": "stderr",
     "output_type": "stream",
     "text": [
      "\n",
      "100%|###################################################################################|175/175[00:06<00:00,27.75it/s]"
     ]
    },
    {
     "name": "stdout",
     "output_type": "stream",
     "text": [
      "\u001b[32m[1022 14:51:27 @base.py:285]\u001b[0m Epoch 813 (global_step 170729) finished, time:6.31 seconds.\n",
      "\u001b[32m[1022 14:51:27 @saver.py:79]\u001b[0m Model saved to ../output/Chicago/DATWGAN_30/model\\model-170729.\n",
      "\u001b[32m[1022 14:51:27 @monitor.py:467]\u001b[0m GAN_loss/d_loss: -0.027789\n"
     ]
    },
    {
     "name": "stderr",
     "output_type": "stream",
     "text": [
      "\n"
     ]
    },
    {
     "name": "stdout",
     "output_type": "stream",
     "text": [
      "\u001b[32m[1022 14:51:27 @monitor.py:467]\u001b[0m GAN_loss/g_loss: 0.25031\n",
      "\u001b[32m[1022 14:51:27 @monitor.py:467]\u001b[0m GAN_loss/gradient_penalty: 0.0050266\n",
      "\u001b[32m[1022 14:51:27 @monitor.py:467]\u001b[0m GAN_loss/gradient_rms: 0.99974\n",
      "\u001b[32m[1022 14:51:27 @monitor.py:467]\u001b[0m GAN_loss/kl_div: 0.058317\n",
      "\u001b[32m[1022 14:51:27 @monitor.py:467]\u001b[0m QueueInput/queue_size: 50\n",
      "\u001b[32m[1022 14:51:27 @base.py:275]\u001b[0m Start Epoch 814 ...\n"
     ]
    },
    {
     "name": "stderr",
     "output_type": "stream",
     "text": [
      "100%|###################################################################################|175/175[00:06<00:00,27.75it/s]"
     ]
    },
    {
     "name": "stdout",
     "output_type": "stream",
     "text": [
      "\u001b[32m[1022 14:51:33 @base.py:285]\u001b[0m Epoch 814 (global_step 170939) finished, time:6.31 seconds.\n",
      "\u001b[32m[1022 14:51:33 @saver.py:79]\u001b[0m Model saved to ../output/Chicago/DATWGAN_30/model\\model-170939.\n",
      "\u001b[32m[1022 14:51:33 @monitor.py:467]\u001b[0m GAN_loss/d_loss: -0.026388\n",
      "\u001b[32m[1022 14:51:33 @monitor.py:467]\u001b[0m GAN_loss/g_loss: 0.23864\n",
      "\u001b[32m[1022 14:51:33 @monitor.py:467]\u001b[0m GAN_loss/gradient_penalty: 0.0050842\n",
      "\u001b[32m[1022 14:51:33 @monitor.py:467]\u001b[0m GAN_loss/gradient_rms: 0.99996\n",
      "\u001b[32m[1022 14:51:33 @monitor.py:467]\u001b[0m GAN_loss/kl_div: 0.057909\n",
      "\u001b[32m[1022 14:51:33 @monitor.py:467]\u001b[0m QueueInput/queue_size: 50\n",
      "\u001b[32m[1022 14:51:33 @base.py:275]\u001b[0m Start Epoch 815 ...\n"
     ]
    },
    {
     "name": "stderr",
     "output_type": "stream",
     "text": [
      "\n",
      "100%|###################################################################################|175/175[00:06<00:00,27.75it/s]"
     ]
    },
    {
     "name": "stdout",
     "output_type": "stream",
     "text": [
      "\u001b[32m[1022 14:51:40 @base.py:285]\u001b[0m Epoch 815 (global_step 171149) finished, time:6.31 seconds.\n",
      "\u001b[32m[1022 14:51:40 @saver.py:79]\u001b[0m Model saved to ../output/Chicago/DATWGAN_30/model\\model-171149.\n",
      "\u001b[32m[1022 14:51:40 @monitor.py:467]\u001b[0m GAN_loss/d_loss: -0.034301\n"
     ]
    },
    {
     "name": "stderr",
     "output_type": "stream",
     "text": [
      "\n"
     ]
    },
    {
     "name": "stdout",
     "output_type": "stream",
     "text": [
      "\u001b[32m[1022 14:51:40 @monitor.py:467]\u001b[0m GAN_loss/g_loss: 0.23465\n",
      "\u001b[32m[1022 14:51:40 @monitor.py:467]\u001b[0m GAN_loss/gradient_penalty: 0.0049948\n",
      "\u001b[32m[1022 14:51:40 @monitor.py:467]\u001b[0m GAN_loss/gradient_rms: 1.0001\n",
      "\u001b[32m[1022 14:51:40 @monitor.py:467]\u001b[0m GAN_loss/kl_div: 0.058045\n",
      "\u001b[32m[1022 14:51:40 @monitor.py:467]\u001b[0m QueueInput/queue_size: 50\n",
      "\u001b[32m[1022 14:51:40 @base.py:275]\u001b[0m Start Epoch 816 ...\n"
     ]
    },
    {
     "name": "stderr",
     "output_type": "stream",
     "text": [
      "100%|###################################################################################|175/175[00:06<00:00,27.73it/s]"
     ]
    },
    {
     "name": "stdout",
     "output_type": "stream",
     "text": [
      "\u001b[32m[1022 14:51:46 @base.py:285]\u001b[0m Epoch 816 (global_step 171359) finished, time:6.31 seconds.\n",
      "\u001b[32m[1022 14:51:46 @saver.py:79]\u001b[0m Model saved to ../output/Chicago/DATWGAN_30/model\\model-171359.\n",
      "\u001b[32m[1022 14:51:46 @monitor.py:467]\u001b[0m GAN_loss/d_loss: -0.023897\n",
      "\u001b[32m[1022 14:51:46 @monitor.py:467]\u001b[0m GAN_loss/g_loss: 0.23683\n",
      "\u001b[32m[1022 14:51:46 @monitor.py:467]\u001b[0m GAN_loss/gradient_penalty: 0.0050408\n",
      "\u001b[32m[1022 14:51:46 @monitor.py:467]\u001b[0m GAN_loss/gradient_rms: 0.99909\n",
      "\u001b[32m[1022 14:51:46 @monitor.py:467]\u001b[0m GAN_loss/kl_div: 0.054964\n",
      "\u001b[32m[1022 14:51:46 @monitor.py:467]\u001b[0m QueueInput/queue_size: 50\n",
      "\u001b[32m[1022 14:51:46 @base.py:275]\u001b[0m Start Epoch 817 ...\n"
     ]
    },
    {
     "name": "stderr",
     "output_type": "stream",
     "text": [
      "\n",
      "100%|###################################################################################|175/175[00:06<00:00,27.74it/s]"
     ]
    },
    {
     "name": "stdout",
     "output_type": "stream",
     "text": [
      "\u001b[32m[1022 14:51:53 @base.py:285]\u001b[0m Epoch 817 (global_step 171569) finished, time:6.31 seconds.\n",
      "\u001b[32m[1022 14:51:53 @saver.py:79]\u001b[0m Model saved to ../output/Chicago/DATWGAN_30/model\\model-171569.\n",
      "\u001b[32m[1022 14:51:53 @monitor.py:467]\u001b[0m GAN_loss/d_loss: -0.040386\n"
     ]
    },
    {
     "name": "stderr",
     "output_type": "stream",
     "text": [
      "\n"
     ]
    },
    {
     "name": "stdout",
     "output_type": "stream",
     "text": [
      "\u001b[32m[1022 14:51:53 @monitor.py:467]\u001b[0m GAN_loss/g_loss: 0.2556\n",
      "\u001b[32m[1022 14:51:53 @monitor.py:467]\u001b[0m GAN_loss/gradient_penalty: 0.0051236\n",
      "\u001b[32m[1022 14:51:53 @monitor.py:467]\u001b[0m GAN_loss/gradient_rms: 0.99916\n",
      "\u001b[32m[1022 14:51:53 @monitor.py:467]\u001b[0m GAN_loss/kl_div: 0.058809\n",
      "\u001b[32m[1022 14:51:53 @monitor.py:467]\u001b[0m QueueInput/queue_size: 50\n",
      "\u001b[32m[1022 14:51:53 @base.py:275]\u001b[0m Start Epoch 818 ...\n"
     ]
    },
    {
     "name": "stderr",
     "output_type": "stream",
     "text": [
      "100%|###################################################################################|175/175[00:06<00:00,27.74it/s]"
     ]
    },
    {
     "name": "stdout",
     "output_type": "stream",
     "text": [
      "\u001b[32m[1022 14:51:59 @base.py:285]\u001b[0m Epoch 818 (global_step 171779) finished, time:6.31 seconds.\n",
      "\u001b[32m[1022 14:51:59 @saver.py:79]\u001b[0m Model saved to ../output/Chicago/DATWGAN_30/model\\model-171779.\n",
      "\u001b[32m[1022 14:51:59 @monitor.py:467]\u001b[0m GAN_loss/d_loss: -0.017456\n"
     ]
    },
    {
     "name": "stderr",
     "output_type": "stream",
     "text": [
      "\n"
     ]
    },
    {
     "name": "stdout",
     "output_type": "stream",
     "text": [
      "\u001b[32m[1022 14:51:59 @monitor.py:467]\u001b[0m GAN_loss/g_loss: 0.24667\n",
      "\u001b[32m[1022 14:51:59 @monitor.py:467]\u001b[0m GAN_loss/gradient_penalty: 0.0051473\n",
      "\u001b[32m[1022 14:51:59 @monitor.py:467]\u001b[0m GAN_loss/gradient_rms: 0.999\n",
      "\u001b[32m[1022 14:51:59 @monitor.py:467]\u001b[0m GAN_loss/kl_div: 0.060059\n",
      "\u001b[32m[1022 14:51:59 @monitor.py:467]\u001b[0m QueueInput/queue_size: 50\n",
      "\u001b[32m[1022 14:51:59 @base.py:275]\u001b[0m Start Epoch 819 ...\n"
     ]
    },
    {
     "name": "stderr",
     "output_type": "stream",
     "text": [
      "100%|###################################################################################|175/175[00:06<00:00,27.73it/s]"
     ]
    },
    {
     "name": "stdout",
     "output_type": "stream",
     "text": [
      "\u001b[32m[1022 14:52:06 @base.py:285]\u001b[0m Epoch 819 (global_step 171989) finished, time:6.31 seconds.\n",
      "\u001b[32m[1022 14:52:06 @saver.py:79]\u001b[0m Model saved to ../output/Chicago/DATWGAN_30/model\\model-171989.\n",
      "\u001b[32m[1022 14:52:06 @monitor.py:467]\u001b[0m GAN_loss/d_loss: -0.035351\n"
     ]
    },
    {
     "name": "stderr",
     "output_type": "stream",
     "text": [
      "\n"
     ]
    },
    {
     "name": "stdout",
     "output_type": "stream",
     "text": [
      "\u001b[32m[1022 14:52:06 @monitor.py:467]\u001b[0m GAN_loss/g_loss: 0.2476\n",
      "\u001b[32m[1022 14:52:06 @monitor.py:467]\u001b[0m GAN_loss/gradient_penalty: 0.0051018\n",
      "\u001b[32m[1022 14:52:06 @monitor.py:467]\u001b[0m GAN_loss/gradient_rms: 0.99774\n",
      "\u001b[32m[1022 14:52:06 @monitor.py:467]\u001b[0m GAN_loss/kl_div: 0.058765\n",
      "\u001b[32m[1022 14:52:06 @monitor.py:467]\u001b[0m QueueInput/queue_size: 50\n",
      "\u001b[32m[1022 14:52:06 @base.py:275]\u001b[0m Start Epoch 820 ...\n"
     ]
    },
    {
     "name": "stderr",
     "output_type": "stream",
     "text": [
      "100%|###################################################################################|175/175[00:06<00:00,27.75it/s]"
     ]
    },
    {
     "name": "stdout",
     "output_type": "stream",
     "text": [
      "\u001b[32m[1022 14:52:12 @base.py:285]\u001b[0m Epoch 820 (global_step 172199) finished, time:6.31 seconds.\n",
      "\u001b[32m[1022 14:52:12 @saver.py:79]\u001b[0m Model saved to ../output/Chicago/DATWGAN_30/model\\model-172199.\n",
      "\u001b[32m[1022 14:52:12 @monitor.py:467]\u001b[0m GAN_loss/d_loss: -0.034122\n"
     ]
    },
    {
     "name": "stderr",
     "output_type": "stream",
     "text": [
      "\n"
     ]
    },
    {
     "name": "stdout",
     "output_type": "stream",
     "text": [
      "\u001b[32m[1022 14:52:12 @monitor.py:467]\u001b[0m GAN_loss/g_loss: 0.25499\n",
      "\u001b[32m[1022 14:52:12 @monitor.py:467]\u001b[0m GAN_loss/gradient_penalty: 0.005081\n",
      "\u001b[32m[1022 14:52:12 @monitor.py:467]\u001b[0m GAN_loss/gradient_rms: 0.99955\n",
      "\u001b[32m[1022 14:52:12 @monitor.py:467]\u001b[0m GAN_loss/kl_div: 0.061361\n",
      "\u001b[32m[1022 14:52:12 @monitor.py:467]\u001b[0m QueueInput/queue_size: 50\n",
      "\u001b[32m[1022 14:52:12 @base.py:275]\u001b[0m Start Epoch 821 ...\n"
     ]
    },
    {
     "name": "stderr",
     "output_type": "stream",
     "text": [
      "100%|###################################################################################|175/175[00:06<00:00,27.74it/s]"
     ]
    },
    {
     "name": "stdout",
     "output_type": "stream",
     "text": [
      "\u001b[32m[1022 14:52:19 @base.py:285]\u001b[0m Epoch 821 (global_step 172409) finished, time:6.31 seconds.\n",
      "\u001b[32m[1022 14:52:19 @saver.py:79]\u001b[0m Model saved to ../output/Chicago/DATWGAN_30/model\\model-172409.\n",
      "\u001b[32m[1022 14:52:19 @monitor.py:467]\u001b[0m GAN_loss/d_loss: -0.033364\n",
      "\u001b[32m[1022 14:52:19 @monitor.py:467]\u001b[0m GAN_loss/g_loss: 0.24782\n",
      "\u001b[32m[1022 14:52:19 @monitor.py:467]\u001b[0m GAN_loss/gradient_penalty: 0.00517\n",
      "\u001b[32m[1022 14:52:19 @monitor.py:467]\u001b[0m GAN_loss/gradient_rms: 0.99854\n",
      "\u001b[32m[1022 14:52:19 @monitor.py:467]\u001b[0m GAN_loss/kl_div: 0.058204\n",
      "\u001b[32m[1022 14:52:19 @monitor.py:467]\u001b[0m QueueInput/queue_size: 50\n",
      "\u001b[32m[1022 14:52:19 @base.py:275]\u001b[0m Start Epoch 822 ...\n"
     ]
    },
    {
     "name": "stderr",
     "output_type": "stream",
     "text": [
      "\n",
      "100%|###################################################################################|175/175[00:06<00:00,27.70it/s]"
     ]
    },
    {
     "name": "stdout",
     "output_type": "stream",
     "text": [
      "\u001b[32m[1022 14:52:25 @base.py:285]\u001b[0m Epoch 822 (global_step 172619) finished, time:6.32 seconds.\n",
      "\u001b[32m[1022 14:52:25 @saver.py:79]\u001b[0m Model saved to ../output/Chicago/DATWGAN_30/model\\model-172619.\n",
      "\u001b[32m[1022 14:52:25 @monitor.py:467]\u001b[0m GAN_loss/d_loss: -0.041593\n",
      "\u001b[32m[1022 14:52:25 @monitor.py:467]\u001b[0m GAN_loss/g_loss: 0.24262\n",
      "\u001b[32m[1022 14:52:25 @monitor.py:467]\u001b[0m GAN_loss/gradient_penalty: 0.0050881\n",
      "\u001b[32m[1022 14:52:25 @monitor.py:467]\u001b[0m GAN_loss/gradient_rms: 0.99966\n",
      "\u001b[32m[1022 14:52:25 @monitor.py:467]\u001b[0m GAN_loss/kl_div: 0.060532\n",
      "\u001b[32m[1022 14:52:25 @monitor.py:467]\u001b[0m QueueInput/queue_size: 50\n",
      "\u001b[32m[1022 14:52:25 @base.py:275]\u001b[0m Start Epoch 823 ...\n"
     ]
    },
    {
     "name": "stderr",
     "output_type": "stream",
     "text": [
      "\n",
      "100%|###################################################################################|175/175[00:06<00:00,27.76it/s]"
     ]
    },
    {
     "name": "stdout",
     "output_type": "stream",
     "text": [
      "\u001b[32m[1022 14:52:32 @base.py:285]\u001b[0m Epoch 823 (global_step 172829) finished, time:6.3 seconds.\n",
      "\u001b[32m[1022 14:52:32 @saver.py:79]\u001b[0m Model saved to ../output/Chicago/DATWGAN_30/model\\model-172829.\n",
      "\u001b[32m[1022 14:52:32 @monitor.py:467]\u001b[0m GAN_loss/d_loss: -0.030697\n"
     ]
    },
    {
     "name": "stderr",
     "output_type": "stream",
     "text": [
      "\n"
     ]
    },
    {
     "name": "stdout",
     "output_type": "stream",
     "text": [
      "\u001b[32m[1022 14:52:32 @monitor.py:467]\u001b[0m GAN_loss/g_loss: 0.23882\n",
      "\u001b[32m[1022 14:52:32 @monitor.py:467]\u001b[0m GAN_loss/gradient_penalty: 0.0051634\n",
      "\u001b[32m[1022 14:52:32 @monitor.py:467]\u001b[0m GAN_loss/gradient_rms: 0.99913\n",
      "\u001b[32m[1022 14:52:32 @monitor.py:467]\u001b[0m GAN_loss/kl_div: 0.059341\n",
      "\u001b[32m[1022 14:52:32 @monitor.py:467]\u001b[0m QueueInput/queue_size: 50\n",
      "\u001b[32m[1022 14:52:32 @base.py:275]\u001b[0m Start Epoch 824 ...\n"
     ]
    },
    {
     "name": "stderr",
     "output_type": "stream",
     "text": [
      "100%|###################################################################################|175/175[00:06<00:00,27.74it/s]"
     ]
    },
    {
     "name": "stdout",
     "output_type": "stream",
     "text": [
      "\u001b[32m[1022 14:52:38 @base.py:285]\u001b[0m Epoch 824 (global_step 173039) finished, time:6.31 seconds.\n",
      "\u001b[32m[1022 14:52:38 @saver.py:79]\u001b[0m Model saved to ../output/Chicago/DATWGAN_30/model\\model-173039.\n",
      "\u001b[32m[1022 14:52:38 @monitor.py:467]\u001b[0m GAN_loss/d_loss: -0.032254\n"
     ]
    },
    {
     "name": "stderr",
     "output_type": "stream",
     "text": [
      "\n"
     ]
    },
    {
     "name": "stdout",
     "output_type": "stream",
     "text": [
      "\u001b[32m[1022 14:52:38 @monitor.py:467]\u001b[0m GAN_loss/g_loss: 0.2497\n",
      "\u001b[32m[1022 14:52:38 @monitor.py:467]\u001b[0m GAN_loss/gradient_penalty: 0.0051644\n",
      "\u001b[32m[1022 14:52:38 @monitor.py:467]\u001b[0m GAN_loss/gradient_rms: 0.99819\n",
      "\u001b[32m[1022 14:52:38 @monitor.py:467]\u001b[0m GAN_loss/kl_div: 0.060171\n",
      "\u001b[32m[1022 14:52:38 @monitor.py:467]\u001b[0m QueueInput/queue_size: 50\n",
      "\u001b[32m[1022 14:52:38 @base.py:275]\u001b[0m Start Epoch 825 ...\n"
     ]
    },
    {
     "name": "stderr",
     "output_type": "stream",
     "text": [
      "100%|###################################################################################|175/175[00:06<00:00,27.76it/s]"
     ]
    },
    {
     "name": "stdout",
     "output_type": "stream",
     "text": [
      "\u001b[32m[1022 14:52:45 @base.py:285]\u001b[0m Epoch 825 (global_step 173249) finished, time:6.3 seconds.\n",
      "\u001b[32m[1022 14:52:45 @saver.py:79]\u001b[0m Model saved to ../output/Chicago/DATWGAN_30/model\\model-173249.\n",
      "\u001b[32m[1022 14:52:45 @monitor.py:467]\u001b[0m GAN_loss/d_loss: -0.027022\n",
      "\u001b[32m[1022 14:52:45 @monitor.py:467]\u001b[0m GAN_loss/g_loss: 0.24761\n",
      "\u001b[32m[1022 14:52:45 @monitor.py:467]\u001b[0m GAN_loss/gradient_penalty: 0.0051504\n",
      "\u001b[32m[1022 14:52:45 @monitor.py:467]\u001b[0m GAN_loss/gradient_rms: 0.99918\n",
      "\u001b[32m[1022 14:52:45 @monitor.py:467]\u001b[0m GAN_loss/kl_div: 0.055641\n",
      "\u001b[32m[1022 14:52:45 @monitor.py:467]\u001b[0m QueueInput/queue_size: 50\n",
      "\u001b[32m[1022 14:52:45 @base.py:275]\u001b[0m Start Epoch 826 ...\n"
     ]
    },
    {
     "name": "stderr",
     "output_type": "stream",
     "text": [
      "\n",
      "100%|###################################################################################|175/175[00:06<00:00,27.74it/s]"
     ]
    },
    {
     "name": "stdout",
     "output_type": "stream",
     "text": [
      "\u001b[32m[1022 14:52:51 @base.py:285]\u001b[0m Epoch 826 (global_step 173459) finished, time:6.31 seconds.\n",
      "\u001b[32m[1022 14:52:51 @saver.py:79]\u001b[0m Model saved to ../output/Chicago/DATWGAN_30/model\\model-173459.\n",
      "\u001b[32m[1022 14:52:51 @monitor.py:467]\u001b[0m GAN_loss/d_loss: -0.019278\n"
     ]
    },
    {
     "name": "stderr",
     "output_type": "stream",
     "text": [
      "\n"
     ]
    },
    {
     "name": "stdout",
     "output_type": "stream",
     "text": [
      "\u001b[32m[1022 14:52:51 @monitor.py:467]\u001b[0m GAN_loss/g_loss: 0.24849\n",
      "\u001b[32m[1022 14:52:51 @monitor.py:467]\u001b[0m GAN_loss/gradient_penalty: 0.0050679\n",
      "\u001b[32m[1022 14:52:51 @monitor.py:467]\u001b[0m GAN_loss/gradient_rms: 0.99895\n",
      "\u001b[32m[1022 14:52:51 @monitor.py:467]\u001b[0m GAN_loss/kl_div: 0.064043\n",
      "\u001b[32m[1022 14:52:51 @monitor.py:467]\u001b[0m QueueInput/queue_size: 50\n",
      "\u001b[32m[1022 14:52:51 @base.py:275]\u001b[0m Start Epoch 827 ...\n"
     ]
    },
    {
     "name": "stderr",
     "output_type": "stream",
     "text": [
      "100%|###################################################################################|175/175[00:06<00:00,27.73it/s]"
     ]
    },
    {
     "name": "stdout",
     "output_type": "stream",
     "text": [
      "\u001b[32m[1022 14:52:58 @base.py:285]\u001b[0m Epoch 827 (global_step 173669) finished, time:6.31 seconds.\n",
      "\u001b[32m[1022 14:52:58 @saver.py:79]\u001b[0m Model saved to ../output/Chicago/DATWGAN_30/model\\model-173669.\n",
      "\u001b[32m[1022 14:52:58 @monitor.py:467]\u001b[0m GAN_loss/d_loss: -0.028661\n",
      "\u001b[32m[1022 14:52:58 @monitor.py:467]\u001b[0m GAN_loss/g_loss: 0.25209\n",
      "\u001b[32m[1022 14:52:58 @monitor.py:467]\u001b[0m GAN_loss/gradient_penalty: 0.0051527\n",
      "\u001b[32m[1022 14:52:58 @monitor.py:467]\u001b[0m GAN_loss/gradient_rms: 0.99904\n",
      "\u001b[32m[1022 14:52:58 @monitor.py:467]\u001b[0m GAN_loss/kl_div: 0.056975\n",
      "\u001b[32m[1022 14:52:58 @monitor.py:467]\u001b[0m QueueInput/queue_size: 50\n",
      "\u001b[32m[1022 14:52:58 @base.py:275]\u001b[0m Start Epoch 828 ...\n"
     ]
    },
    {
     "name": "stderr",
     "output_type": "stream",
     "text": [
      "\n",
      "100%|###################################################################################|175/175[00:06<00:00,27.75it/s]"
     ]
    },
    {
     "name": "stdout",
     "output_type": "stream",
     "text": [
      "\u001b[32m[1022 14:53:04 @base.py:285]\u001b[0m Epoch 828 (global_step 173879) finished, time:6.31 seconds.\n",
      "\u001b[32m[1022 14:53:04 @saver.py:79]\u001b[0m Model saved to ../output/Chicago/DATWGAN_30/model\\model-173879.\n"
     ]
    },
    {
     "name": "stderr",
     "output_type": "stream",
     "text": [
      "\n"
     ]
    },
    {
     "name": "stdout",
     "output_type": "stream",
     "text": [
      "\u001b[32m[1022 14:53:04 @monitor.py:467]\u001b[0m GAN_loss/d_loss: -0.035958\n",
      "\u001b[32m[1022 14:53:04 @monitor.py:467]\u001b[0m GAN_loss/g_loss: 0.25469\n",
      "\u001b[32m[1022 14:53:04 @monitor.py:467]\u001b[0m GAN_loss/gradient_penalty: 0.0050066\n",
      "\u001b[32m[1022 14:53:04 @monitor.py:467]\u001b[0m GAN_loss/gradient_rms: 0.99776\n",
      "\u001b[32m[1022 14:53:04 @monitor.py:467]\u001b[0m GAN_loss/kl_div: 0.058237\n",
      "\u001b[32m[1022 14:53:04 @monitor.py:467]\u001b[0m QueueInput/queue_size: 50\n",
      "\u001b[32m[1022 14:53:04 @base.py:275]\u001b[0m Start Epoch 829 ...\n"
     ]
    },
    {
     "name": "stderr",
     "output_type": "stream",
     "text": [
      "100%|###################################################################################|175/175[00:06<00:00,27.71it/s]"
     ]
    },
    {
     "name": "stdout",
     "output_type": "stream",
     "text": [
      "\u001b[32m[1022 14:53:11 @base.py:285]\u001b[0m Epoch 829 (global_step 174089) finished, time:6.31 seconds.\n",
      "\u001b[32m[1022 14:53:11 @saver.py:79]\u001b[0m Model saved to ../output/Chicago/DATWGAN_30/model\\model-174089.\n",
      "\u001b[32m[1022 14:53:11 @monitor.py:467]\u001b[0m GAN_loss/d_loss: -0.038428\n"
     ]
    },
    {
     "name": "stderr",
     "output_type": "stream",
     "text": [
      "\n"
     ]
    },
    {
     "name": "stdout",
     "output_type": "stream",
     "text": [
      "\u001b[32m[1022 14:53:11 @monitor.py:467]\u001b[0m GAN_loss/g_loss: 0.26302\n",
      "\u001b[32m[1022 14:53:11 @monitor.py:467]\u001b[0m GAN_loss/gradient_penalty: 0.0051604\n",
      "\u001b[32m[1022 14:53:11 @monitor.py:467]\u001b[0m GAN_loss/gradient_rms: 0.99804\n",
      "\u001b[32m[1022 14:53:11 @monitor.py:467]\u001b[0m GAN_loss/kl_div: 0.062008\n",
      "\u001b[32m[1022 14:53:11 @monitor.py:467]\u001b[0m QueueInput/queue_size: 50\n",
      "\u001b[32m[1022 14:53:11 @base.py:275]\u001b[0m Start Epoch 830 ...\n"
     ]
    },
    {
     "name": "stderr",
     "output_type": "stream",
     "text": [
      "100%|###################################################################################|175/175[00:06<00:00,27.74it/s]"
     ]
    },
    {
     "name": "stdout",
     "output_type": "stream",
     "text": [
      "\u001b[32m[1022 14:53:17 @base.py:285]\u001b[0m Epoch 830 (global_step 174299) finished, time:6.31 seconds.\n",
      "\u001b[32m[1022 14:53:17 @saver.py:79]\u001b[0m Model saved to ../output/Chicago/DATWGAN_30/model\\model-174299.\n",
      "\u001b[32m[1022 14:53:17 @monitor.py:467]\u001b[0m GAN_loss/d_loss: -0.026439\n"
     ]
    },
    {
     "name": "stderr",
     "output_type": "stream",
     "text": [
      "\n"
     ]
    },
    {
     "name": "stdout",
     "output_type": "stream",
     "text": [
      "\u001b[32m[1022 14:53:17 @monitor.py:467]\u001b[0m GAN_loss/g_loss: 0.24837\n",
      "\u001b[32m[1022 14:53:17 @monitor.py:467]\u001b[0m GAN_loss/gradient_penalty: 0.0050879\n",
      "\u001b[32m[1022 14:53:17 @monitor.py:467]\u001b[0m GAN_loss/gradient_rms: 0.99832\n",
      "\u001b[32m[1022 14:53:17 @monitor.py:467]\u001b[0m GAN_loss/kl_div: 0.058652\n",
      "\u001b[32m[1022 14:53:17 @monitor.py:467]\u001b[0m QueueInput/queue_size: 50\n",
      "\u001b[32m[1022 14:53:17 @base.py:275]\u001b[0m Start Epoch 831 ...\n"
     ]
    },
    {
     "name": "stderr",
     "output_type": "stream",
     "text": [
      "100%|###################################################################################|175/175[00:06<00:00,27.74it/s]"
     ]
    },
    {
     "name": "stdout",
     "output_type": "stream",
     "text": [
      "\u001b[32m[1022 14:53:24 @base.py:285]\u001b[0m Epoch 831 (global_step 174509) finished, time:6.31 seconds.\n",
      "\u001b[32m[1022 14:53:24 @saver.py:79]\u001b[0m Model saved to ../output/Chicago/DATWGAN_30/model\\model-174509.\n",
      "\u001b[32m[1022 14:53:24 @monitor.py:467]\u001b[0m GAN_loss/d_loss: -0.026535\n"
     ]
    },
    {
     "name": "stderr",
     "output_type": "stream",
     "text": [
      "\n"
     ]
    },
    {
     "name": "stdout",
     "output_type": "stream",
     "text": [
      "\u001b[32m[1022 14:53:24 @monitor.py:467]\u001b[0m GAN_loss/g_loss: 0.24342\n",
      "\u001b[32m[1022 14:53:24 @monitor.py:467]\u001b[0m GAN_loss/gradient_penalty: 0.0052009\n",
      "\u001b[32m[1022 14:53:24 @monitor.py:467]\u001b[0m GAN_loss/gradient_rms: 0.99751\n",
      "\u001b[32m[1022 14:53:24 @monitor.py:467]\u001b[0m GAN_loss/kl_div: 0.0577\n",
      "\u001b[32m[1022 14:53:24 @monitor.py:467]\u001b[0m QueueInput/queue_size: 50\n",
      "\u001b[32m[1022 14:53:24 @base.py:275]\u001b[0m Start Epoch 832 ...\n"
     ]
    },
    {
     "name": "stderr",
     "output_type": "stream",
     "text": [
      "100%|###################################################################################|175/175[00:06<00:00,27.73it/s]"
     ]
    },
    {
     "name": "stdout",
     "output_type": "stream",
     "text": [
      "\u001b[32m[1022 14:53:30 @base.py:285]\u001b[0m Epoch 832 (global_step 174719) finished, time:6.31 seconds.\n",
      "\u001b[32m[1022 14:53:30 @saver.py:79]\u001b[0m Model saved to ../output/Chicago/DATWGAN_30/model\\model-174719.\n",
      "\u001b[32m[1022 14:53:30 @monitor.py:467]\u001b[0m GAN_loss/d_loss: -0.03038\n",
      "\u001b[32m[1022 14:53:30 @monitor.py:467]\u001b[0m GAN_loss/g_loss: 0.25307\n",
      "\u001b[32m[1022 14:53:30 @monitor.py:467]\u001b[0m GAN_loss/gradient_penalty: 0.0050448\n",
      "\u001b[32m[1022 14:53:30 @monitor.py:467]\u001b[0m GAN_loss/gradient_rms: 1.0001\n"
     ]
    },
    {
     "name": "stderr",
     "output_type": "stream",
     "text": [
      "\n"
     ]
    },
    {
     "name": "stdout",
     "output_type": "stream",
     "text": [
      "\u001b[32m[1022 14:53:30 @monitor.py:467]\u001b[0m GAN_loss/kl_div: 0.059258\n",
      "\u001b[32m[1022 14:53:30 @monitor.py:467]\u001b[0m QueueInput/queue_size: 50\n",
      "\u001b[32m[1022 14:53:30 @base.py:275]\u001b[0m Start Epoch 833 ...\n"
     ]
    },
    {
     "name": "stderr",
     "output_type": "stream",
     "text": [
      "100%|###################################################################################|175/175[00:06<00:00,27.74it/s]"
     ]
    },
    {
     "name": "stdout",
     "output_type": "stream",
     "text": [
      "\u001b[32m[1022 14:53:37 @base.py:285]\u001b[0m Epoch 833 (global_step 174929) finished, time:6.31 seconds.\n",
      "\u001b[32m[1022 14:53:37 @saver.py:79]\u001b[0m Model saved to ../output/Chicago/DATWGAN_30/model\\model-174929.\n",
      "\u001b[32m[1022 14:53:37 @monitor.py:467]\u001b[0m GAN_loss/d_loss: -0.038596\n"
     ]
    },
    {
     "name": "stderr",
     "output_type": "stream",
     "text": [
      "\n"
     ]
    },
    {
     "name": "stdout",
     "output_type": "stream",
     "text": [
      "\u001b[32m[1022 14:53:37 @monitor.py:467]\u001b[0m GAN_loss/g_loss: 0.24564\n",
      "\u001b[32m[1022 14:53:37 @monitor.py:467]\u001b[0m GAN_loss/gradient_penalty: 0.0051825\n",
      "\u001b[32m[1022 14:53:37 @monitor.py:467]\u001b[0m GAN_loss/gradient_rms: 0.99851\n",
      "\u001b[32m[1022 14:53:37 @monitor.py:467]\u001b[0m GAN_loss/kl_div: 0.060423\n",
      "\u001b[32m[1022 14:53:37 @monitor.py:467]\u001b[0m QueueInput/queue_size: 50\n",
      "\u001b[32m[1022 14:53:37 @base.py:275]\u001b[0m Start Epoch 834 ...\n"
     ]
    },
    {
     "name": "stderr",
     "output_type": "stream",
     "text": [
      "100%|###################################################################################|175/175[00:06<00:00,27.73it/s]"
     ]
    },
    {
     "name": "stdout",
     "output_type": "stream",
     "text": [
      "\u001b[32m[1022 14:53:43 @base.py:285]\u001b[0m Epoch 834 (global_step 175139) finished, time:6.31 seconds.\n",
      "\u001b[32m[1022 14:53:43 @saver.py:79]\u001b[0m Model saved to ../output/Chicago/DATWGAN_30/model\\model-175139.\n"
     ]
    },
    {
     "name": "stderr",
     "output_type": "stream",
     "text": [
      "\n"
     ]
    },
    {
     "name": "stdout",
     "output_type": "stream",
     "text": [
      "\u001b[32m[1022 14:53:43 @monitor.py:467]\u001b[0m GAN_loss/d_loss: -0.028154\n",
      "\u001b[32m[1022 14:53:43 @monitor.py:467]\u001b[0m GAN_loss/g_loss: 0.24276\n",
      "\u001b[32m[1022 14:53:43 @monitor.py:467]\u001b[0m GAN_loss/gradient_penalty: 0.00503\n",
      "\u001b[32m[1022 14:53:43 @monitor.py:467]\u001b[0m GAN_loss/gradient_rms: 0.99798\n",
      "\u001b[32m[1022 14:53:43 @monitor.py:467]\u001b[0m GAN_loss/kl_div: 0.062732\n",
      "\u001b[32m[1022 14:53:43 @monitor.py:467]\u001b[0m QueueInput/queue_size: 50\n",
      "\u001b[32m[1022 14:53:43 @base.py:275]\u001b[0m Start Epoch 835 ...\n"
     ]
    },
    {
     "name": "stderr",
     "output_type": "stream",
     "text": [
      "100%|###################################################################################|175/175[00:06<00:00,27.72it/s]"
     ]
    },
    {
     "name": "stdout",
     "output_type": "stream",
     "text": [
      "\u001b[32m[1022 14:53:50 @base.py:285]\u001b[0m Epoch 835 (global_step 175349) finished, time:6.31 seconds.\n",
      "\u001b[32m[1022 14:53:50 @saver.py:79]\u001b[0m Model saved to ../output/Chicago/DATWGAN_30/model\\model-175349.\n"
     ]
    },
    {
     "name": "stderr",
     "output_type": "stream",
     "text": [
      "\n"
     ]
    },
    {
     "name": "stdout",
     "output_type": "stream",
     "text": [
      "\u001b[32m[1022 14:53:50 @monitor.py:467]\u001b[0m GAN_loss/d_loss: -0.040631\n",
      "\u001b[32m[1022 14:53:50 @monitor.py:467]\u001b[0m GAN_loss/g_loss: 0.25729\n",
      "\u001b[32m[1022 14:53:50 @monitor.py:467]\u001b[0m GAN_loss/gradient_penalty: 0.0051058\n",
      "\u001b[32m[1022 14:53:50 @monitor.py:467]\u001b[0m GAN_loss/gradient_rms: 0.99914\n",
      "\u001b[32m[1022 14:53:50 @monitor.py:467]\u001b[0m GAN_loss/kl_div: 0.058253\n",
      "\u001b[32m[1022 14:53:50 @monitor.py:467]\u001b[0m QueueInput/queue_size: 50\n",
      "\u001b[32m[1022 14:53:50 @base.py:275]\u001b[0m Start Epoch 836 ...\n"
     ]
    },
    {
     "name": "stderr",
     "output_type": "stream",
     "text": [
      "100%|###################################################################################|175/175[00:06<00:00,27.74it/s]"
     ]
    },
    {
     "name": "stdout",
     "output_type": "stream",
     "text": [
      "\u001b[32m[1022 14:53:56 @base.py:285]\u001b[0m Epoch 836 (global_step 175559) finished, time:6.31 seconds.\n",
      "\u001b[32m[1022 14:53:56 @saver.py:79]\u001b[0m Model saved to ../output/Chicago/DATWGAN_30/model\\model-175559.\n",
      "\u001b[32m[1022 14:53:56 @monitor.py:467]\u001b[0m GAN_loss/d_loss: -0.023456\n"
     ]
    },
    {
     "name": "stderr",
     "output_type": "stream",
     "text": [
      "\n"
     ]
    },
    {
     "name": "stdout",
     "output_type": "stream",
     "text": [
      "\u001b[32m[1022 14:53:56 @monitor.py:467]\u001b[0m GAN_loss/g_loss: 0.23397\n",
      "\u001b[32m[1022 14:53:56 @monitor.py:467]\u001b[0m GAN_loss/gradient_penalty: 0.0051509\n",
      "\u001b[32m[1022 14:53:56 @monitor.py:467]\u001b[0m GAN_loss/gradient_rms: 0.99934\n",
      "\u001b[32m[1022 14:53:56 @monitor.py:467]\u001b[0m GAN_loss/kl_div: 0.058504\n",
      "\u001b[32m[1022 14:53:56 @monitor.py:467]\u001b[0m QueueInput/queue_size: 50\n",
      "\u001b[32m[1022 14:53:56 @base.py:275]\u001b[0m Start Epoch 837 ...\n"
     ]
    },
    {
     "name": "stderr",
     "output_type": "stream",
     "text": [
      "100%|###################################################################################|175/175[00:06<00:00,27.73it/s]"
     ]
    },
    {
     "name": "stdout",
     "output_type": "stream",
     "text": [
      "\u001b[32m[1022 14:54:03 @base.py:285]\u001b[0m Epoch 837 (global_step 175769) finished, time:6.31 seconds.\n",
      "\u001b[32m[1022 14:54:03 @saver.py:79]\u001b[0m Model saved to ../output/Chicago/DATWGAN_30/model\\model-175769.\n",
      "\u001b[32m[1022 14:54:03 @monitor.py:467]\u001b[0m GAN_loss/d_loss: -0.035476\n",
      "\u001b[32m[1022 14:54:03 @monitor.py:467]\u001b[0m GAN_loss/g_loss: 0.24087\n",
      "\u001b[32m[1022 14:54:03 @monitor.py:467]\u001b[0m GAN_loss/gradient_penalty: 0.0050593\n",
      "\u001b[32m[1022 14:54:03 @monitor.py:467]\u001b[0m GAN_loss/gradient_rms: 0.99833\n",
      "\u001b[32m[1022 14:54:03 @monitor.py:467]\u001b[0m GAN_loss/kl_div: 0.059492\n",
      "\u001b[32m[1022 14:54:03 @monitor.py:467]\u001b[0m QueueInput/queue_size: 50\n",
      "\u001b[32m[1022 14:54:03 @base.py:275]\u001b[0m Start Epoch 838 ...\n"
     ]
    },
    {
     "name": "stderr",
     "output_type": "stream",
     "text": [
      "\n",
      "100%|###################################################################################|175/175[00:06<00:00,27.73it/s]"
     ]
    },
    {
     "name": "stdout",
     "output_type": "stream",
     "text": [
      "\u001b[32m[1022 14:54:09 @base.py:285]\u001b[0m Epoch 838 (global_step 175979) finished, time:6.31 seconds.\n",
      "\u001b[32m[1022 14:54:09 @saver.py:79]\u001b[0m Model saved to ../output/Chicago/DATWGAN_30/model\\model-175979.\n"
     ]
    },
    {
     "name": "stderr",
     "output_type": "stream",
     "text": [
      "\n"
     ]
    },
    {
     "name": "stdout",
     "output_type": "stream",
     "text": [
      "\u001b[32m[1022 14:54:09 @monitor.py:467]\u001b[0m GAN_loss/d_loss: -0.030499\n",
      "\u001b[32m[1022 14:54:09 @monitor.py:467]\u001b[0m GAN_loss/g_loss: 0.23379\n",
      "\u001b[32m[1022 14:54:09 @monitor.py:467]\u001b[0m GAN_loss/gradient_penalty: 0.0051691\n",
      "\u001b[32m[1022 14:54:09 @monitor.py:467]\u001b[0m GAN_loss/gradient_rms: 0.99879\n",
      "\u001b[32m[1022 14:54:09 @monitor.py:467]\u001b[0m GAN_loss/kl_div: 0.06042\n",
      "\u001b[32m[1022 14:54:09 @monitor.py:467]\u001b[0m QueueInput/queue_size: 50\n",
      "\u001b[32m[1022 14:54:09 @base.py:275]\u001b[0m Start Epoch 839 ...\n"
     ]
    },
    {
     "name": "stderr",
     "output_type": "stream",
     "text": [
      "100%|###################################################################################|175/175[00:06<00:00,27.74it/s]"
     ]
    },
    {
     "name": "stdout",
     "output_type": "stream",
     "text": [
      "\u001b[32m[1022 14:54:16 @base.py:285]\u001b[0m Epoch 839 (global_step 176189) finished, time:6.31 seconds.\n",
      "\u001b[32m[1022 14:54:16 @saver.py:79]\u001b[0m Model saved to ../output/Chicago/DATWGAN_30/model\\model-176189.\n"
     ]
    },
    {
     "name": "stderr",
     "output_type": "stream",
     "text": [
      "\n"
     ]
    },
    {
     "name": "stdout",
     "output_type": "stream",
     "text": [
      "\u001b[32m[1022 14:54:16 @monitor.py:467]\u001b[0m GAN_loss/d_loss: -0.028159\n",
      "\u001b[32m[1022 14:54:16 @monitor.py:467]\u001b[0m GAN_loss/g_loss: 0.23029\n",
      "\u001b[32m[1022 14:54:16 @monitor.py:467]\u001b[0m GAN_loss/gradient_penalty: 0.0051863\n",
      "\u001b[32m[1022 14:54:16 @monitor.py:467]\u001b[0m GAN_loss/gradient_rms: 0.99829\n",
      "\u001b[32m[1022 14:54:16 @monitor.py:467]\u001b[0m GAN_loss/kl_div: 0.06189\n",
      "\u001b[32m[1022 14:54:16 @monitor.py:467]\u001b[0m QueueInput/queue_size: 50\n",
      "\u001b[32m[1022 14:54:16 @base.py:275]\u001b[0m Start Epoch 840 ...\n"
     ]
    },
    {
     "name": "stderr",
     "output_type": "stream",
     "text": [
      "100%|###################################################################################|175/175[00:06<00:00,27.72it/s]"
     ]
    },
    {
     "name": "stdout",
     "output_type": "stream",
     "text": [
      "\u001b[32m[1022 14:54:22 @base.py:285]\u001b[0m Epoch 840 (global_step 176399) finished, time:6.31 seconds.\n",
      "\u001b[32m[1022 14:54:22 @saver.py:79]\u001b[0m Model saved to ../output/Chicago/DATWGAN_30/model\\model-176399.\n",
      "\u001b[32m[1022 14:54:22 @monitor.py:467]\u001b[0m GAN_loss/d_loss: -0.021264\n"
     ]
    },
    {
     "name": "stderr",
     "output_type": "stream",
     "text": [
      "\n"
     ]
    },
    {
     "name": "stdout",
     "output_type": "stream",
     "text": [
      "\u001b[32m[1022 14:54:22 @monitor.py:467]\u001b[0m GAN_loss/g_loss: 0.22207\n",
      "\u001b[32m[1022 14:54:22 @monitor.py:467]\u001b[0m GAN_loss/gradient_penalty: 0.0050444\n",
      "\u001b[32m[1022 14:54:22 @monitor.py:467]\u001b[0m GAN_loss/gradient_rms: 0.9984\n",
      "\u001b[32m[1022 14:54:22 @monitor.py:467]\u001b[0m GAN_loss/kl_div: 0.05996\n",
      "\u001b[32m[1022 14:54:22 @monitor.py:467]\u001b[0m QueueInput/queue_size: 50\n",
      "\u001b[32m[1022 14:54:22 @base.py:275]\u001b[0m Start Epoch 841 ...\n"
     ]
    },
    {
     "name": "stderr",
     "output_type": "stream",
     "text": [
      "100%|###################################################################################|175/175[00:06<00:00,27.68it/s]"
     ]
    },
    {
     "name": "stdout",
     "output_type": "stream",
     "text": [
      "\u001b[32m[1022 14:54:29 @base.py:285]\u001b[0m Epoch 841 (global_step 176609) finished, time:6.32 seconds.\n",
      "\u001b[32m[1022 14:54:29 @saver.py:79]\u001b[0m Model saved to ../output/Chicago/DATWGAN_30/model\\model-176609.\n",
      "\u001b[32m[1022 14:54:29 @monitor.py:467]\u001b[0m GAN_loss/d_loss: -0.026069\n",
      "\u001b[32m[1022 14:54:29 @monitor.py:467]\u001b[0m GAN_loss/g_loss: 0.2326\n",
      "\u001b[32m[1022 14:54:29 @monitor.py:467]\u001b[0m GAN_loss/gradient_penalty: 0.0050866\n",
      "\u001b[32m[1022 14:54:29 @monitor.py:467]\u001b[0m GAN_loss/gradient_rms: 0.99797\n",
      "\u001b[32m[1022 14:54:29 @monitor.py:467]\u001b[0m GAN_loss/kl_div: 0.057625\n",
      "\u001b[32m[1022 14:54:29 @monitor.py:467]\u001b[0m QueueInput/queue_size: 50\n",
      "\u001b[32m[1022 14:54:29 @base.py:275]\u001b[0m Start Epoch 842 ...\n"
     ]
    },
    {
     "name": "stderr",
     "output_type": "stream",
     "text": [
      "\n",
      "100%|###################################################################################|175/175[00:06<00:00,27.73it/s]"
     ]
    },
    {
     "name": "stdout",
     "output_type": "stream",
     "text": [
      "\u001b[32m[1022 14:54:35 @base.py:285]\u001b[0m Epoch 842 (global_step 176819) finished, time:6.31 seconds.\n",
      "\u001b[32m[1022 14:54:35 @saver.py:79]\u001b[0m Model saved to ../output/Chicago/DATWGAN_30/model\\model-176819.\n",
      "\u001b[32m[1022 14:54:35 @monitor.py:467]\u001b[0m GAN_loss/d_loss: -0.02212\n"
     ]
    },
    {
     "name": "stderr",
     "output_type": "stream",
     "text": [
      "\n"
     ]
    },
    {
     "name": "stdout",
     "output_type": "stream",
     "text": [
      "\u001b[32m[1022 14:54:35 @monitor.py:467]\u001b[0m GAN_loss/g_loss: 0.23713\n",
      "\u001b[32m[1022 14:54:35 @monitor.py:467]\u001b[0m GAN_loss/gradient_penalty: 0.0052927\n",
      "\u001b[32m[1022 14:54:35 @monitor.py:467]\u001b[0m GAN_loss/gradient_rms: 0.99788\n",
      "\u001b[32m[1022 14:54:35 @monitor.py:467]\u001b[0m GAN_loss/kl_div: 0.058135\n",
      "\u001b[32m[1022 14:54:35 @monitor.py:467]\u001b[0m QueueInput/queue_size: 50\n",
      "\u001b[32m[1022 14:54:35 @base.py:275]\u001b[0m Start Epoch 843 ...\n"
     ]
    },
    {
     "name": "stderr",
     "output_type": "stream",
     "text": [
      "100%|###################################################################################|175/175[00:06<00:00,27.74it/s]"
     ]
    },
    {
     "name": "stdout",
     "output_type": "stream",
     "text": [
      "\u001b[32m[1022 14:54:42 @base.py:285]\u001b[0m Epoch 843 (global_step 177029) finished, time:6.31 seconds.\n",
      "\u001b[32m[1022 14:54:42 @saver.py:79]\u001b[0m Model saved to ../output/Chicago/DATWGAN_30/model\\model-177029.\n",
      "\u001b[32m[1022 14:54:42 @monitor.py:467]\u001b[0m GAN_loss/d_loss: -0.029417\n"
     ]
    },
    {
     "name": "stderr",
     "output_type": "stream",
     "text": [
      "\n"
     ]
    },
    {
     "name": "stdout",
     "output_type": "stream",
     "text": [
      "\u001b[32m[1022 14:54:42 @monitor.py:467]\u001b[0m GAN_loss/g_loss: 0.23742\n",
      "\u001b[32m[1022 14:54:42 @monitor.py:467]\u001b[0m GAN_loss/gradient_penalty: 0.0050832\n",
      "\u001b[32m[1022 14:54:42 @monitor.py:467]\u001b[0m GAN_loss/gradient_rms: 0.99799\n",
      "\u001b[32m[1022 14:54:42 @monitor.py:467]\u001b[0m GAN_loss/kl_div: 0.059581\n",
      "\u001b[32m[1022 14:54:42 @monitor.py:467]\u001b[0m QueueInput/queue_size: 50\n",
      "\u001b[32m[1022 14:54:42 @base.py:275]\u001b[0m Start Epoch 844 ...\n"
     ]
    },
    {
     "name": "stderr",
     "output_type": "stream",
     "text": [
      "100%|###################################################################################|175/175[00:06<00:00,27.74it/s]"
     ]
    },
    {
     "name": "stdout",
     "output_type": "stream",
     "text": [
      "\u001b[32m[1022 14:54:48 @base.py:285]\u001b[0m Epoch 844 (global_step 177239) finished, time:6.31 seconds.\n",
      "\u001b[32m[1022 14:54:48 @saver.py:79]\u001b[0m Model saved to ../output/Chicago/DATWGAN_30/model\\model-177239.\n",
      "\u001b[32m[1022 14:54:48 @monitor.py:467]\u001b[0m GAN_loss/d_loss: -0.033422\n",
      "\u001b[32m[1022 14:54:48 @monitor.py:467]\u001b[0m GAN_loss/g_loss: 0.24351\n",
      "\u001b[32m[1022 14:54:48 @monitor.py:467]\u001b[0m GAN_loss/gradient_penalty: 0.0051385\n",
      "\u001b[32m[1022 14:54:48 @monitor.py:467]\u001b[0m GAN_loss/gradient_rms: 0.99776\n",
      "\u001b[32m[1022 14:54:48 @monitor.py:467]\u001b[0m GAN_loss/kl_div: 0.059998\n",
      "\u001b[32m[1022 14:54:48 @monitor.py:467]\u001b[0m QueueInput/queue_size: 50\n",
      "\u001b[32m[1022 14:54:48 @base.py:275]\u001b[0m Start Epoch 845 ...\n"
     ]
    },
    {
     "name": "stderr",
     "output_type": "stream",
     "text": [
      "\n",
      "100%|###################################################################################|175/175[00:06<00:00,27.70it/s]"
     ]
    },
    {
     "name": "stdout",
     "output_type": "stream",
     "text": [
      "\u001b[32m[1022 14:54:55 @base.py:285]\u001b[0m Epoch 845 (global_step 177449) finished, time:6.32 seconds.\n",
      "\u001b[32m[1022 14:54:55 @saver.py:79]\u001b[0m Model saved to ../output/Chicago/DATWGAN_30/model\\model-177449.\n"
     ]
    },
    {
     "name": "stderr",
     "output_type": "stream",
     "text": [
      "\n"
     ]
    },
    {
     "name": "stdout",
     "output_type": "stream",
     "text": [
      "\u001b[32m[1022 14:54:55 @monitor.py:467]\u001b[0m GAN_loss/d_loss: -0.043513\n",
      "\u001b[32m[1022 14:54:55 @monitor.py:467]\u001b[0m GAN_loss/g_loss: 0.24585\n",
      "\u001b[32m[1022 14:54:55 @monitor.py:467]\u001b[0m GAN_loss/gradient_penalty: 0.0051019\n",
      "\u001b[32m[1022 14:54:55 @monitor.py:467]\u001b[0m GAN_loss/gradient_rms: 0.99888\n",
      "\u001b[32m[1022 14:54:55 @monitor.py:467]\u001b[0m GAN_loss/kl_div: 0.064292\n",
      "\u001b[32m[1022 14:54:55 @monitor.py:467]\u001b[0m QueueInput/queue_size: 50\n",
      "\u001b[32m[1022 14:54:55 @base.py:275]\u001b[0m Start Epoch 846 ...\n"
     ]
    },
    {
     "name": "stderr",
     "output_type": "stream",
     "text": [
      "100%|###################################################################################|175/175[00:06<00:00,27.75it/s]"
     ]
    },
    {
     "name": "stdout",
     "output_type": "stream",
     "text": [
      "\u001b[32m[1022 14:55:01 @base.py:285]\u001b[0m Epoch 846 (global_step 177659) finished, time:6.31 seconds.\n",
      "\u001b[32m[1022 14:55:01 @saver.py:79]\u001b[0m Model saved to ../output/Chicago/DATWGAN_30/model\\model-177659.\n"
     ]
    },
    {
     "name": "stderr",
     "output_type": "stream",
     "text": [
      "\n"
     ]
    },
    {
     "name": "stdout",
     "output_type": "stream",
     "text": [
      "\u001b[32m[1022 14:55:01 @monitor.py:467]\u001b[0m GAN_loss/d_loss: -0.040856\n",
      "\u001b[32m[1022 14:55:01 @monitor.py:467]\u001b[0m GAN_loss/g_loss: 0.24748\n",
      "\u001b[32m[1022 14:55:01 @monitor.py:467]\u001b[0m GAN_loss/gradient_penalty: 0.0052433\n",
      "\u001b[32m[1022 14:55:01 @monitor.py:467]\u001b[0m GAN_loss/gradient_rms: 0.99887\n",
      "\u001b[32m[1022 14:55:01 @monitor.py:467]\u001b[0m GAN_loss/kl_div: 0.065275\n",
      "\u001b[32m[1022 14:55:01 @monitor.py:467]\u001b[0m QueueInput/queue_size: 50\n",
      "\u001b[32m[1022 14:55:01 @base.py:275]\u001b[0m Start Epoch 847 ...\n"
     ]
    },
    {
     "name": "stderr",
     "output_type": "stream",
     "text": [
      "100%|###################################################################################|175/175[00:06<00:00,27.73it/s]"
     ]
    },
    {
     "name": "stdout",
     "output_type": "stream",
     "text": [
      "\u001b[32m[1022 14:55:08 @base.py:285]\u001b[0m Epoch 847 (global_step 177869) finished, time:6.31 seconds.\n",
      "\u001b[32m[1022 14:55:08 @saver.py:79]\u001b[0m Model saved to ../output/Chicago/DATWGAN_30/model\\model-177869.\n"
     ]
    },
    {
     "name": "stderr",
     "output_type": "stream",
     "text": [
      "\n"
     ]
    },
    {
     "name": "stdout",
     "output_type": "stream",
     "text": [
      "\u001b[32m[1022 14:55:08 @monitor.py:467]\u001b[0m GAN_loss/d_loss: -0.019899\n",
      "\u001b[32m[1022 14:55:08 @monitor.py:467]\u001b[0m GAN_loss/g_loss: 0.24009\n",
      "\u001b[32m[1022 14:55:08 @monitor.py:467]\u001b[0m GAN_loss/gradient_penalty: 0.0052559\n",
      "\u001b[32m[1022 14:55:08 @monitor.py:467]\u001b[0m GAN_loss/gradient_rms: 0.99881\n",
      "\u001b[32m[1022 14:55:08 @monitor.py:467]\u001b[0m GAN_loss/kl_div: 0.057227\n",
      "\u001b[32m[1022 14:55:08 @monitor.py:467]\u001b[0m QueueInput/queue_size: 50\n",
      "\u001b[32m[1022 14:55:08 @base.py:275]\u001b[0m Start Epoch 848 ...\n"
     ]
    },
    {
     "name": "stderr",
     "output_type": "stream",
     "text": [
      "100%|###################################################################################|175/175[00:06<00:00,27.74it/s]"
     ]
    },
    {
     "name": "stdout",
     "output_type": "stream",
     "text": [
      "\u001b[32m[1022 14:55:14 @base.py:285]\u001b[0m Epoch 848 (global_step 178079) finished, time:6.31 seconds.\n",
      "\u001b[32m[1022 14:55:14 @saver.py:79]\u001b[0m Model saved to ../output/Chicago/DATWGAN_30/model\\model-178079.\n"
     ]
    },
    {
     "name": "stderr",
     "output_type": "stream",
     "text": [
      "\n"
     ]
    },
    {
     "name": "stdout",
     "output_type": "stream",
     "text": [
      "\u001b[32m[1022 14:55:14 @monitor.py:467]\u001b[0m GAN_loss/d_loss: -0.029692\n",
      "\u001b[32m[1022 14:55:14 @monitor.py:467]\u001b[0m GAN_loss/g_loss: 0.24345\n",
      "\u001b[32m[1022 14:55:14 @monitor.py:467]\u001b[0m GAN_loss/gradient_penalty: 0.0051993\n",
      "\u001b[32m[1022 14:55:14 @monitor.py:467]\u001b[0m GAN_loss/gradient_rms: 0.99912\n",
      "\u001b[32m[1022 14:55:14 @monitor.py:467]\u001b[0m GAN_loss/kl_div: 0.056228\n",
      "\u001b[32m[1022 14:55:14 @monitor.py:467]\u001b[0m QueueInput/queue_size: 50\n",
      "\u001b[32m[1022 14:55:14 @base.py:275]\u001b[0m Start Epoch 849 ...\n"
     ]
    },
    {
     "name": "stderr",
     "output_type": "stream",
     "text": [
      "100%|###################################################################################|175/175[00:06<00:00,27.74it/s]"
     ]
    },
    {
     "name": "stdout",
     "output_type": "stream",
     "text": [
      "\u001b[32m[1022 14:55:21 @base.py:285]\u001b[0m Epoch 849 (global_step 178289) finished, time:6.31 seconds.\n",
      "\u001b[32m[1022 14:55:21 @saver.py:79]\u001b[0m Model saved to ../output/Chicago/DATWGAN_30/model\\model-178289.\n",
      "\u001b[32m[1022 14:55:21 @monitor.py:467]\u001b[0m GAN_loss/d_loss: -0.034319\n"
     ]
    },
    {
     "name": "stderr",
     "output_type": "stream",
     "text": [
      "\n"
     ]
    },
    {
     "name": "stdout",
     "output_type": "stream",
     "text": [
      "\u001b[32m[1022 14:55:21 @monitor.py:467]\u001b[0m GAN_loss/g_loss: 0.24395\n",
      "\u001b[32m[1022 14:55:21 @monitor.py:467]\u001b[0m GAN_loss/gradient_penalty: 0.005229\n",
      "\u001b[32m[1022 14:55:21 @monitor.py:467]\u001b[0m GAN_loss/gradient_rms: 0.99783\n",
      "\u001b[32m[1022 14:55:21 @monitor.py:467]\u001b[0m GAN_loss/kl_div: 0.057748\n",
      "\u001b[32m[1022 14:55:21 @monitor.py:467]\u001b[0m QueueInput/queue_size: 50\n",
      "\u001b[32m[1022 14:55:21 @base.py:275]\u001b[0m Start Epoch 850 ...\n"
     ]
    },
    {
     "name": "stderr",
     "output_type": "stream",
     "text": [
      "100%|###################################################################################|175/175[00:06<00:00,27.75it/s]"
     ]
    },
    {
     "name": "stdout",
     "output_type": "stream",
     "text": [
      "\u001b[32m[1022 14:55:27 @base.py:285]\u001b[0m Epoch 850 (global_step 178499) finished, time:6.31 seconds.\n",
      "\u001b[32m[1022 14:55:27 @saver.py:79]\u001b[0m Model saved to ../output/Chicago/DATWGAN_30/model\\model-178499.\n"
     ]
    },
    {
     "name": "stderr",
     "output_type": "stream",
     "text": [
      "\n"
     ]
    },
    {
     "name": "stdout",
     "output_type": "stream",
     "text": [
      "\u001b[32m[1022 14:55:27 @monitor.py:467]\u001b[0m GAN_loss/d_loss: -0.022204\n",
      "\u001b[32m[1022 14:55:27 @monitor.py:467]\u001b[0m GAN_loss/g_loss: 0.23652\n",
      "\u001b[32m[1022 14:55:27 @monitor.py:467]\u001b[0m GAN_loss/gradient_penalty: 0.0051703\n",
      "\u001b[32m[1022 14:55:27 @monitor.py:467]\u001b[0m GAN_loss/gradient_rms: 0.99947\n",
      "\u001b[32m[1022 14:55:27 @monitor.py:467]\u001b[0m GAN_loss/kl_div: 0.058784\n",
      "\u001b[32m[1022 14:55:27 @monitor.py:467]\u001b[0m QueueInput/queue_size: 50\n",
      "\u001b[32m[1022 14:55:27 @base.py:275]\u001b[0m Start Epoch 851 ...\n"
     ]
    },
    {
     "name": "stderr",
     "output_type": "stream",
     "text": [
      "100%|###################################################################################|175/175[00:06<00:00,27.75it/s]"
     ]
    },
    {
     "name": "stdout",
     "output_type": "stream",
     "text": [
      "\u001b[32m[1022 14:55:34 @base.py:285]\u001b[0m Epoch 851 (global_step 178709) finished, time:6.31 seconds.\n",
      "\u001b[32m[1022 14:55:34 @saver.py:79]\u001b[0m Model saved to ../output/Chicago/DATWGAN_30/model\\model-178709.\n",
      "\u001b[32m[1022 14:55:34 @monitor.py:467]\u001b[0m GAN_loss/d_loss: -0.027846\n"
     ]
    },
    {
     "name": "stderr",
     "output_type": "stream",
     "text": [
      "\n"
     ]
    },
    {
     "name": "stdout",
     "output_type": "stream",
     "text": [
      "\u001b[32m[1022 14:55:34 @monitor.py:467]\u001b[0m GAN_loss/g_loss: 0.23827\n",
      "\u001b[32m[1022 14:55:34 @monitor.py:467]\u001b[0m GAN_loss/gradient_penalty: 0.0052117\n",
      "\u001b[32m[1022 14:55:34 @monitor.py:467]\u001b[0m GAN_loss/gradient_rms: 0.99843\n",
      "\u001b[32m[1022 14:55:34 @monitor.py:467]\u001b[0m GAN_loss/kl_div: 0.058442\n",
      "\u001b[32m[1022 14:55:34 @monitor.py:467]\u001b[0m QueueInput/queue_size: 50\n",
      "\u001b[32m[1022 14:55:34 @base.py:275]\u001b[0m Start Epoch 852 ...\n"
     ]
    },
    {
     "name": "stderr",
     "output_type": "stream",
     "text": [
      "100%|###################################################################################|175/175[00:06<00:00,27.74it/s]"
     ]
    },
    {
     "name": "stdout",
     "output_type": "stream",
     "text": [
      "\u001b[32m[1022 14:55:40 @base.py:285]\u001b[0m Epoch 852 (global_step 178919) finished, time:6.31 seconds.\n",
      "\u001b[32m[1022 14:55:40 @saver.py:79]\u001b[0m Model saved to ../output/Chicago/DATWGAN_30/model\\model-178919.\n"
     ]
    },
    {
     "name": "stderr",
     "output_type": "stream",
     "text": [
      "\n"
     ]
    },
    {
     "name": "stdout",
     "output_type": "stream",
     "text": [
      "\u001b[32m[1022 14:55:40 @monitor.py:467]\u001b[0m GAN_loss/d_loss: -0.024293\n",
      "\u001b[32m[1022 14:55:40 @monitor.py:467]\u001b[0m GAN_loss/g_loss: 0.22959\n",
      "\u001b[32m[1022 14:55:40 @monitor.py:467]\u001b[0m GAN_loss/gradient_penalty: 0.0051592\n",
      "\u001b[32m[1022 14:55:40 @monitor.py:467]\u001b[0m GAN_loss/gradient_rms: 0.9988\n",
      "\u001b[32m[1022 14:55:40 @monitor.py:467]\u001b[0m GAN_loss/kl_div: 0.05577\n",
      "\u001b[32m[1022 14:55:40 @monitor.py:467]\u001b[0m QueueInput/queue_size: 50\n",
      "\u001b[32m[1022 14:55:40 @base.py:275]\u001b[0m Start Epoch 853 ...\n"
     ]
    },
    {
     "name": "stderr",
     "output_type": "stream",
     "text": [
      "100%|###################################################################################|175/175[00:06<00:00,27.73it/s]"
     ]
    },
    {
     "name": "stdout",
     "output_type": "stream",
     "text": [
      "\u001b[32m[1022 14:55:47 @base.py:285]\u001b[0m Epoch 853 (global_step 179129) finished, time:6.31 seconds.\n",
      "\u001b[32m[1022 14:55:47 @saver.py:79]\u001b[0m Model saved to ../output/Chicago/DATWGAN_30/model\\model-179129.\n",
      "\u001b[32m[1022 14:55:47 @monitor.py:467]\u001b[0m GAN_loss/d_loss: -0.025322\n"
     ]
    },
    {
     "name": "stderr",
     "output_type": "stream",
     "text": [
      "\n"
     ]
    },
    {
     "name": "stdout",
     "output_type": "stream",
     "text": [
      "\u001b[32m[1022 14:55:47 @monitor.py:467]\u001b[0m GAN_loss/g_loss: 0.2349\n",
      "\u001b[32m[1022 14:55:47 @monitor.py:467]\u001b[0m GAN_loss/gradient_penalty: 0.0051189\n",
      "\u001b[32m[1022 14:55:47 @monitor.py:467]\u001b[0m GAN_loss/gradient_rms: 0.99932\n",
      "\u001b[32m[1022 14:55:47 @monitor.py:467]\u001b[0m GAN_loss/kl_div: 0.056335\n",
      "\u001b[32m[1022 14:55:47 @monitor.py:467]\u001b[0m QueueInput/queue_size: 50\n",
      "\u001b[32m[1022 14:55:47 @base.py:275]\u001b[0m Start Epoch 854 ...\n"
     ]
    },
    {
     "name": "stderr",
     "output_type": "stream",
     "text": [
      "100%|###################################################################################|175/175[00:06<00:00,27.74it/s]"
     ]
    },
    {
     "name": "stdout",
     "output_type": "stream",
     "text": [
      "\u001b[32m[1022 14:55:53 @base.py:285]\u001b[0m Epoch 854 (global_step 179339) finished, time:6.31 seconds.\n",
      "\u001b[32m[1022 14:55:53 @saver.py:79]\u001b[0m Model saved to ../output/Chicago/DATWGAN_30/model\\model-179339.\n",
      "\u001b[32m[1022 14:55:53 @monitor.py:467]\u001b[0m GAN_loss/d_loss: -0.027887\n"
     ]
    },
    {
     "name": "stderr",
     "output_type": "stream",
     "text": [
      "\n"
     ]
    },
    {
     "name": "stdout",
     "output_type": "stream",
     "text": [
      "\u001b[32m[1022 14:55:53 @monitor.py:467]\u001b[0m GAN_loss/g_loss: 0.22199\n",
      "\u001b[32m[1022 14:55:53 @monitor.py:467]\u001b[0m GAN_loss/gradient_penalty: 0.0051381\n",
      "\u001b[32m[1022 14:55:53 @monitor.py:467]\u001b[0m GAN_loss/gradient_rms: 0.99868\n",
      "\u001b[32m[1022 14:55:53 @monitor.py:467]\u001b[0m GAN_loss/kl_div: 0.06045\n",
      "\u001b[32m[1022 14:55:53 @monitor.py:467]\u001b[0m QueueInput/queue_size: 50\n",
      "\u001b[32m[1022 14:55:53 @base.py:275]\u001b[0m Start Epoch 855 ...\n"
     ]
    },
    {
     "name": "stderr",
     "output_type": "stream",
     "text": [
      "100%|###################################################################################|175/175[00:06<00:00,27.76it/s]"
     ]
    },
    {
     "name": "stdout",
     "output_type": "stream",
     "text": [
      "\u001b[32m[1022 14:56:00 @base.py:285]\u001b[0m Epoch 855 (global_step 179549) finished, time:6.31 seconds.\n",
      "\u001b[32m[1022 14:56:00 @saver.py:79]\u001b[0m Model saved to ../output/Chicago/DATWGAN_30/model\\model-179549.\n"
     ]
    },
    {
     "name": "stderr",
     "output_type": "stream",
     "text": [
      "\n"
     ]
    },
    {
     "name": "stdout",
     "output_type": "stream",
     "text": [
      "\u001b[32m[1022 14:56:00 @monitor.py:467]\u001b[0m GAN_loss/d_loss: -0.027409\n",
      "\u001b[32m[1022 14:56:00 @monitor.py:467]\u001b[0m GAN_loss/g_loss: 0.23204\n",
      "\u001b[32m[1022 14:56:00 @monitor.py:467]\u001b[0m GAN_loss/gradient_penalty: 0.0051011\n",
      "\u001b[32m[1022 14:56:00 @monitor.py:467]\u001b[0m GAN_loss/gradient_rms: 0.99825\n",
      "\u001b[32m[1022 14:56:00 @monitor.py:467]\u001b[0m GAN_loss/kl_div: 0.059414\n",
      "\u001b[32m[1022 14:56:00 @monitor.py:467]\u001b[0m QueueInput/queue_size: 50\n",
      "\u001b[32m[1022 14:56:00 @base.py:275]\u001b[0m Start Epoch 856 ...\n"
     ]
    },
    {
     "name": "stderr",
     "output_type": "stream",
     "text": [
      "100%|###################################################################################|175/175[00:06<00:00,27.75it/s]"
     ]
    },
    {
     "name": "stdout",
     "output_type": "stream",
     "text": [
      "\u001b[32m[1022 14:56:06 @base.py:285]\u001b[0m Epoch 856 (global_step 179759) finished, time:6.31 seconds.\n",
      "\u001b[32m[1022 14:56:06 @saver.py:79]\u001b[0m Model saved to ../output/Chicago/DATWGAN_30/model\\model-179759.\n",
      "\u001b[32m[1022 14:56:06 @monitor.py:467]\u001b[0m GAN_loss/d_loss: -0.030711\n",
      "\u001b[32m[1022 14:56:06 @monitor.py:467]\u001b[0m GAN_loss/g_loss: 0.22955\n",
      "\u001b[32m[1022 14:56:06 @monitor.py:467]\u001b[0m GAN_loss/gradient_penalty: 0.0052232\n",
      "\u001b[32m[1022 14:56:06 @monitor.py:467]\u001b[0m GAN_loss/gradient_rms: 0.99984\n",
      "\u001b[32m[1022 14:56:06 @monitor.py:467]\u001b[0m GAN_loss/kl_div: 0.058712\n",
      "\u001b[32m[1022 14:56:06 @monitor.py:467]\u001b[0m QueueInput/queue_size: 50\n",
      "\u001b[32m[1022 14:56:06 @base.py:275]\u001b[0m Start Epoch 857 ...\n"
     ]
    },
    {
     "name": "stderr",
     "output_type": "stream",
     "text": [
      "\n",
      "100%|###################################################################################|175/175[00:06<00:00,27.74it/s]"
     ]
    },
    {
     "name": "stdout",
     "output_type": "stream",
     "text": [
      "\u001b[32m[1022 14:56:13 @base.py:285]\u001b[0m Epoch 857 (global_step 179969) finished, time:6.31 seconds.\n",
      "\u001b[32m[1022 14:56:13 @saver.py:79]\u001b[0m Model saved to ../output/Chicago/DATWGAN_30/model\\model-179969.\n",
      "\u001b[32m[1022 14:56:13 @monitor.py:467]\u001b[0m GAN_loss/d_loss: -0.039024\n"
     ]
    },
    {
     "name": "stderr",
     "output_type": "stream",
     "text": [
      "\n"
     ]
    },
    {
     "name": "stdout",
     "output_type": "stream",
     "text": [
      "\u001b[32m[1022 14:56:13 @monitor.py:467]\u001b[0m GAN_loss/g_loss: 0.24125\n",
      "\u001b[32m[1022 14:56:13 @monitor.py:467]\u001b[0m GAN_loss/gradient_penalty: 0.0051915\n",
      "\u001b[32m[1022 14:56:13 @monitor.py:467]\u001b[0m GAN_loss/gradient_rms: 0.9992\n",
      "\u001b[32m[1022 14:56:13 @monitor.py:467]\u001b[0m GAN_loss/kl_div: 0.058462\n",
      "\u001b[32m[1022 14:56:13 @monitor.py:467]\u001b[0m QueueInput/queue_size: 50\n",
      "\u001b[32m[1022 14:56:13 @base.py:275]\u001b[0m Start Epoch 858 ...\n"
     ]
    },
    {
     "name": "stderr",
     "output_type": "stream",
     "text": [
      "100%|###################################################################################|175/175[00:06<00:00,27.75it/s]"
     ]
    },
    {
     "name": "stdout",
     "output_type": "stream",
     "text": [
      "\u001b[32m[1022 14:56:19 @base.py:285]\u001b[0m Epoch 858 (global_step 180179) finished, time:6.31 seconds.\n",
      "\u001b[32m[1022 14:56:19 @saver.py:79]\u001b[0m Model saved to ../output/Chicago/DATWGAN_30/model\\model-180179.\n",
      "\u001b[32m[1022 14:56:19 @monitor.py:467]\u001b[0m GAN_loss/d_loss: -0.021881\n"
     ]
    },
    {
     "name": "stderr",
     "output_type": "stream",
     "text": [
      "\n"
     ]
    },
    {
     "name": "stdout",
     "output_type": "stream",
     "text": [
      "\u001b[32m[1022 14:56:19 @monitor.py:467]\u001b[0m GAN_loss/g_loss: 0.22548\n",
      "\u001b[32m[1022 14:56:19 @monitor.py:467]\u001b[0m GAN_loss/gradient_penalty: 0.0051374\n",
      "\u001b[32m[1022 14:56:19 @monitor.py:467]\u001b[0m GAN_loss/gradient_rms: 0.99985\n",
      "\u001b[32m[1022 14:56:19 @monitor.py:467]\u001b[0m GAN_loss/kl_div: 0.056181\n",
      "\u001b[32m[1022 14:56:19 @monitor.py:467]\u001b[0m QueueInput/queue_size: 50\n",
      "\u001b[32m[1022 14:56:19 @base.py:275]\u001b[0m Start Epoch 859 ...\n"
     ]
    },
    {
     "name": "stderr",
     "output_type": "stream",
     "text": [
      "100%|###################################################################################|175/175[00:06<00:00,27.73it/s]"
     ]
    },
    {
     "name": "stdout",
     "output_type": "stream",
     "text": [
      "\u001b[32m[1022 14:56:26 @base.py:285]\u001b[0m Epoch 859 (global_step 180389) finished, time:6.31 seconds.\n",
      "\u001b[32m[1022 14:56:26 @saver.py:79]\u001b[0m Model saved to ../output/Chicago/DATWGAN_30/model\\model-180389.\n"
     ]
    },
    {
     "name": "stderr",
     "output_type": "stream",
     "text": [
      "\n"
     ]
    },
    {
     "name": "stdout",
     "output_type": "stream",
     "text": [
      "\u001b[32m[1022 14:56:26 @monitor.py:467]\u001b[0m GAN_loss/d_loss: -0.015864\n",
      "\u001b[32m[1022 14:56:26 @monitor.py:467]\u001b[0m GAN_loss/g_loss: 0.223\n",
      "\u001b[32m[1022 14:56:26 @monitor.py:467]\u001b[0m GAN_loss/gradient_penalty: 0.0051315\n",
      "\u001b[32m[1022 14:56:26 @monitor.py:467]\u001b[0m GAN_loss/gradient_rms: 0.99789\n",
      "\u001b[32m[1022 14:56:26 @monitor.py:467]\u001b[0m GAN_loss/kl_div: 0.059992\n",
      "\u001b[32m[1022 14:56:26 @monitor.py:467]\u001b[0m QueueInput/queue_size: 50\n",
      "\u001b[32m[1022 14:56:26 @base.py:275]\u001b[0m Start Epoch 860 ...\n"
     ]
    },
    {
     "name": "stderr",
     "output_type": "stream",
     "text": [
      "100%|###################################################################################|175/175[00:06<00:00,27.73it/s]"
     ]
    },
    {
     "name": "stdout",
     "output_type": "stream",
     "text": [
      "\u001b[32m[1022 14:56:32 @base.py:285]\u001b[0m Epoch 860 (global_step 180599) finished, time:6.31 seconds.\n",
      "\u001b[32m[1022 14:56:32 @saver.py:79]\u001b[0m Model saved to ../output/Chicago/DATWGAN_30/model\\model-180599.\n",
      "\u001b[32m[1022 14:56:32 @monitor.py:467]\u001b[0m GAN_loss/d_loss: -0.022814\n",
      "\u001b[32m[1022 14:56:32 @monitor.py:467]\u001b[0m GAN_loss/g_loss: 0.22768\n"
     ]
    },
    {
     "name": "stderr",
     "output_type": "stream",
     "text": [
      "\n"
     ]
    },
    {
     "name": "stdout",
     "output_type": "stream",
     "text": [
      "\u001b[32m[1022 14:56:32 @monitor.py:467]\u001b[0m GAN_loss/gradient_penalty: 0.0049963\n",
      "\u001b[32m[1022 14:56:32 @monitor.py:467]\u001b[0m GAN_loss/gradient_rms: 0.9989\n",
      "\u001b[32m[1022 14:56:32 @monitor.py:467]\u001b[0m GAN_loss/kl_div: 0.059618\n",
      "\u001b[32m[1022 14:56:32 @monitor.py:467]\u001b[0m QueueInput/queue_size: 50\n",
      "\u001b[32m[1022 14:56:32 @base.py:275]\u001b[0m Start Epoch 861 ...\n"
     ]
    },
    {
     "name": "stderr",
     "output_type": "stream",
     "text": [
      "100%|###################################################################################|175/175[00:06<00:00,27.74it/s]"
     ]
    },
    {
     "name": "stdout",
     "output_type": "stream",
     "text": [
      "\u001b[32m[1022 14:56:39 @base.py:285]\u001b[0m Epoch 861 (global_step 180809) finished, time:6.31 seconds.\n",
      "\u001b[32m[1022 14:56:39 @saver.py:79]\u001b[0m Model saved to ../output/Chicago/DATWGAN_30/model\\model-180809.\n"
     ]
    },
    {
     "name": "stderr",
     "output_type": "stream",
     "text": [
      "\n"
     ]
    },
    {
     "name": "stdout",
     "output_type": "stream",
     "text": [
      "\u001b[32m[1022 14:56:39 @monitor.py:467]\u001b[0m GAN_loss/d_loss: -0.028801\n",
      "\u001b[32m[1022 14:56:39 @monitor.py:467]\u001b[0m GAN_loss/g_loss: 0.23287\n",
      "\u001b[32m[1022 14:56:39 @monitor.py:467]\u001b[0m GAN_loss/gradient_penalty: 0.005043\n",
      "\u001b[32m[1022 14:56:39 @monitor.py:467]\u001b[0m GAN_loss/gradient_rms: 0.99983\n",
      "\u001b[32m[1022 14:56:39 @monitor.py:467]\u001b[0m GAN_loss/kl_div: 0.059153\n",
      "\u001b[32m[1022 14:56:39 @monitor.py:467]\u001b[0m QueueInput/queue_size: 50\n",
      "\u001b[32m[1022 14:56:39 @base.py:275]\u001b[0m Start Epoch 862 ...\n"
     ]
    },
    {
     "name": "stderr",
     "output_type": "stream",
     "text": [
      "100%|###################################################################################|175/175[00:06<00:00,27.75it/s]"
     ]
    },
    {
     "name": "stdout",
     "output_type": "stream",
     "text": [
      "\u001b[32m[1022 14:56:45 @base.py:285]\u001b[0m Epoch 862 (global_step 181019) finished, time:6.31 seconds.\n",
      "\u001b[32m[1022 14:56:45 @saver.py:79]\u001b[0m Model saved to ../output/Chicago/DATWGAN_30/model\\model-181019.\n",
      "\u001b[32m[1022 14:56:45 @monitor.py:467]\u001b[0m GAN_loss/d_loss: -0.019202\n"
     ]
    },
    {
     "name": "stderr",
     "output_type": "stream",
     "text": [
      "\n"
     ]
    },
    {
     "name": "stdout",
     "output_type": "stream",
     "text": [
      "\u001b[32m[1022 14:56:45 @monitor.py:467]\u001b[0m GAN_loss/g_loss: 0.22953\n",
      "\u001b[32m[1022 14:56:45 @monitor.py:467]\u001b[0m GAN_loss/gradient_penalty: 0.0050909\n",
      "\u001b[32m[1022 14:56:45 @monitor.py:467]\u001b[0m GAN_loss/gradient_rms: 0.99775\n",
      "\u001b[32m[1022 14:56:45 @monitor.py:467]\u001b[0m GAN_loss/kl_div: 0.058155\n",
      "\u001b[32m[1022 14:56:45 @monitor.py:467]\u001b[0m QueueInput/queue_size: 50\n",
      "\u001b[32m[1022 14:56:45 @base.py:275]\u001b[0m Start Epoch 863 ...\n"
     ]
    },
    {
     "name": "stderr",
     "output_type": "stream",
     "text": [
      "100%|###################################################################################|175/175[00:06<00:00,27.75it/s]"
     ]
    },
    {
     "name": "stdout",
     "output_type": "stream",
     "text": [
      "\u001b[32m[1022 14:56:52 @base.py:285]\u001b[0m Epoch 863 (global_step 181229) finished, time:6.31 seconds.\n",
      "\u001b[32m[1022 14:56:52 @saver.py:79]\u001b[0m Model saved to ../output/Chicago/DATWGAN_30/model\\model-181229.\n"
     ]
    },
    {
     "name": "stderr",
     "output_type": "stream",
     "text": [
      "\n"
     ]
    },
    {
     "name": "stdout",
     "output_type": "stream",
     "text": [
      "\u001b[32m[1022 14:56:52 @monitor.py:467]\u001b[0m GAN_loss/d_loss: -0.025367\n",
      "\u001b[32m[1022 14:56:52 @monitor.py:467]\u001b[0m GAN_loss/g_loss: 0.24423\n",
      "\u001b[32m[1022 14:56:52 @monitor.py:467]\u001b[0m GAN_loss/gradient_penalty: 0.005078\n",
      "\u001b[32m[1022 14:56:52 @monitor.py:467]\u001b[0m GAN_loss/gradient_rms: 0.99878\n",
      "\u001b[32m[1022 14:56:52 @monitor.py:467]\u001b[0m GAN_loss/kl_div: 0.057398\n",
      "\u001b[32m[1022 14:56:52 @monitor.py:467]\u001b[0m QueueInput/queue_size: 50\n",
      "\u001b[32m[1022 14:56:52 @base.py:275]\u001b[0m Start Epoch 864 ...\n"
     ]
    },
    {
     "name": "stderr",
     "output_type": "stream",
     "text": [
      "100%|###################################################################################|175/175[00:06<00:00,27.73it/s]"
     ]
    },
    {
     "name": "stdout",
     "output_type": "stream",
     "text": [
      "\u001b[32m[1022 14:56:58 @base.py:285]\u001b[0m Epoch 864 (global_step 181439) finished, time:6.31 seconds.\n",
      "\u001b[32m[1022 14:56:58 @saver.py:79]\u001b[0m Model saved to ../output/Chicago/DATWGAN_30/model\\model-181439.\n"
     ]
    },
    {
     "name": "stderr",
     "output_type": "stream",
     "text": [
      "\n"
     ]
    },
    {
     "name": "stdout",
     "output_type": "stream",
     "text": [
      "\u001b[32m[1022 14:56:58 @monitor.py:467]\u001b[0m GAN_loss/d_loss: -0.032354\n",
      "\u001b[32m[1022 14:56:58 @monitor.py:467]\u001b[0m GAN_loss/g_loss: 0.24762\n",
      "\u001b[32m[1022 14:56:58 @monitor.py:467]\u001b[0m GAN_loss/gradient_penalty: 0.0051105\n",
      "\u001b[32m[1022 14:56:58 @monitor.py:467]\u001b[0m GAN_loss/gradient_rms: 0.99862\n",
      "\u001b[32m[1022 14:56:58 @monitor.py:467]\u001b[0m GAN_loss/kl_div: 0.062026\n",
      "\u001b[32m[1022 14:56:58 @monitor.py:467]\u001b[0m QueueInput/queue_size: 50\n",
      "\u001b[32m[1022 14:56:58 @base.py:275]\u001b[0m Start Epoch 865 ...\n"
     ]
    },
    {
     "name": "stderr",
     "output_type": "stream",
     "text": [
      "100%|###################################################################################|175/175[00:06<00:00,27.74it/s]"
     ]
    },
    {
     "name": "stdout",
     "output_type": "stream",
     "text": [
      "\u001b[32m[1022 14:57:05 @base.py:285]\u001b[0m Epoch 865 (global_step 181649) finished, time:6.31 seconds.\n",
      "\u001b[32m[1022 14:57:05 @saver.py:79]\u001b[0m Model saved to ../output/Chicago/DATWGAN_30/model\\model-181649.\n"
     ]
    },
    {
     "name": "stderr",
     "output_type": "stream",
     "text": [
      "\n"
     ]
    },
    {
     "name": "stdout",
     "output_type": "stream",
     "text": [
      "\u001b[32m[1022 14:57:05 @monitor.py:467]\u001b[0m GAN_loss/d_loss: -0.016423\n",
      "\u001b[32m[1022 14:57:05 @monitor.py:467]\u001b[0m GAN_loss/g_loss: 0.22915\n",
      "\u001b[32m[1022 14:57:05 @monitor.py:467]\u001b[0m GAN_loss/gradient_penalty: 0.0051172\n",
      "\u001b[32m[1022 14:57:05 @monitor.py:467]\u001b[0m GAN_loss/gradient_rms: 1.0004\n",
      "\u001b[32m[1022 14:57:05 @monitor.py:467]\u001b[0m GAN_loss/kl_div: 0.056237\n",
      "\u001b[32m[1022 14:57:05 @monitor.py:467]\u001b[0m QueueInput/queue_size: 50\n",
      "\u001b[32m[1022 14:57:05 @base.py:275]\u001b[0m Start Epoch 866 ...\n"
     ]
    },
    {
     "name": "stderr",
     "output_type": "stream",
     "text": [
      "100%|###################################################################################|175/175[00:06<00:00,27.70it/s]"
     ]
    },
    {
     "name": "stdout",
     "output_type": "stream",
     "text": [
      "\u001b[32m[1022 14:57:11 @base.py:285]\u001b[0m Epoch 866 (global_step 181859) finished, time:6.32 seconds.\n",
      "\u001b[32m[1022 14:57:11 @saver.py:79]\u001b[0m Model saved to ../output/Chicago/DATWGAN_30/model\\model-181859.\n",
      "\u001b[32m[1022 14:57:11 @monitor.py:467]\u001b[0m GAN_loss/d_loss: -0.029504\n"
     ]
    },
    {
     "name": "stderr",
     "output_type": "stream",
     "text": [
      "\n"
     ]
    },
    {
     "name": "stdout",
     "output_type": "stream",
     "text": [
      "\u001b[32m[1022 14:57:11 @monitor.py:467]\u001b[0m GAN_loss/g_loss: 0.24257\n",
      "\u001b[32m[1022 14:57:11 @monitor.py:467]\u001b[0m GAN_loss/gradient_penalty: 0.0050229\n",
      "\u001b[32m[1022 14:57:11 @monitor.py:467]\u001b[0m GAN_loss/gradient_rms: 0.99982\n",
      "\u001b[32m[1022 14:57:11 @monitor.py:467]\u001b[0m GAN_loss/kl_div: 0.061761\n",
      "\u001b[32m[1022 14:57:11 @monitor.py:467]\u001b[0m QueueInput/queue_size: 50\n",
      "\u001b[32m[1022 14:57:11 @base.py:275]\u001b[0m Start Epoch 867 ...\n"
     ]
    },
    {
     "name": "stderr",
     "output_type": "stream",
     "text": [
      "100%|###################################################################################|175/175[00:06<00:00,27.72it/s]"
     ]
    },
    {
     "name": "stdout",
     "output_type": "stream",
     "text": [
      "\u001b[32m[1022 14:57:18 @base.py:285]\u001b[0m Epoch 867 (global_step 182069) finished, time:6.31 seconds.\n",
      "\u001b[32m[1022 14:57:18 @saver.py:79]\u001b[0m Model saved to ../output/Chicago/DATWGAN_30/model\\model-182069.\n"
     ]
    },
    {
     "name": "stderr",
     "output_type": "stream",
     "text": [
      "\n"
     ]
    },
    {
     "name": "stdout",
     "output_type": "stream",
     "text": [
      "\u001b[32m[1022 14:57:18 @monitor.py:467]\u001b[0m GAN_loss/d_loss: -0.030855\n",
      "\u001b[32m[1022 14:57:18 @monitor.py:467]\u001b[0m GAN_loss/g_loss: 0.23662\n",
      "\u001b[32m[1022 14:57:18 @monitor.py:467]\u001b[0m GAN_loss/gradient_penalty: 0.0050717\n",
      "\u001b[32m[1022 14:57:18 @monitor.py:467]\u001b[0m GAN_loss/gradient_rms: 0.99905\n",
      "\u001b[32m[1022 14:57:18 @monitor.py:467]\u001b[0m GAN_loss/kl_div: 0.059701\n",
      "\u001b[32m[1022 14:57:18 @monitor.py:467]\u001b[0m QueueInput/queue_size: 50\n",
      "\u001b[32m[1022 14:57:18 @base.py:275]\u001b[0m Start Epoch 868 ...\n"
     ]
    },
    {
     "name": "stderr",
     "output_type": "stream",
     "text": [
      "100%|###################################################################################|175/175[00:06<00:00,27.73it/s]"
     ]
    },
    {
     "name": "stdout",
     "output_type": "stream",
     "text": [
      "\u001b[32m[1022 14:57:24 @base.py:285]\u001b[0m Epoch 868 (global_step 182279) finished, time:6.31 seconds.\n",
      "\u001b[32m[1022 14:57:24 @saver.py:79]\u001b[0m Model saved to ../output/Chicago/DATWGAN_30/model\\model-182279.\n",
      "\u001b[32m[1022 14:57:24 @monitor.py:467]\u001b[0m GAN_loss/d_loss: -0.024881\n",
      "\u001b[32m[1022 14:57:24 @monitor.py:467]\u001b[0m GAN_loss/g_loss: 0.23058\n",
      "\u001b[32m[1022 14:57:24 @monitor.py:467]\u001b[0m GAN_loss/gradient_penalty: 0.0050189\n",
      "\u001b[32m[1022 14:57:24 @monitor.py:467]\u001b[0m GAN_loss/gradient_rms: 0.99894\n",
      "\u001b[32m[1022 14:57:24 @monitor.py:467]\u001b[0m GAN_loss/kl_div: 0.058125\n"
     ]
    },
    {
     "name": "stderr",
     "output_type": "stream",
     "text": [
      "\n"
     ]
    },
    {
     "name": "stdout",
     "output_type": "stream",
     "text": [
      "\u001b[32m[1022 14:57:24 @monitor.py:467]\u001b[0m QueueInput/queue_size: 50\n",
      "\u001b[32m[1022 14:57:24 @base.py:275]\u001b[0m Start Epoch 869 ...\n"
     ]
    },
    {
     "name": "stderr",
     "output_type": "stream",
     "text": [
      "100%|###################################################################################|175/175[00:06<00:00,27.73it/s]"
     ]
    },
    {
     "name": "stdout",
     "output_type": "stream",
     "text": [
      "\u001b[32m[1022 14:57:31 @base.py:285]\u001b[0m Epoch 869 (global_step 182489) finished, time:6.31 seconds.\n",
      "\u001b[32m[1022 14:57:31 @saver.py:79]\u001b[0m Model saved to ../output/Chicago/DATWGAN_30/model\\model-182489.\n",
      "\u001b[32m[1022 14:57:31 @monitor.py:467]\u001b[0m GAN_loss/d_loss: -0.037352\n"
     ]
    },
    {
     "name": "stderr",
     "output_type": "stream",
     "text": [
      "\n"
     ]
    },
    {
     "name": "stdout",
     "output_type": "stream",
     "text": [
      "\u001b[32m[1022 14:57:31 @monitor.py:467]\u001b[0m GAN_loss/g_loss: 0.23996\n",
      "\u001b[32m[1022 14:57:31 @monitor.py:467]\u001b[0m GAN_loss/gradient_penalty: 0.0050387\n",
      "\u001b[32m[1022 14:57:31 @monitor.py:467]\u001b[0m GAN_loss/gradient_rms: 0.99787\n",
      "\u001b[32m[1022 14:57:31 @monitor.py:467]\u001b[0m GAN_loss/kl_div: 0.056188\n",
      "\u001b[32m[1022 14:57:31 @monitor.py:467]\u001b[0m QueueInput/queue_size: 50\n",
      "\u001b[32m[1022 14:57:31 @base.py:275]\u001b[0m Start Epoch 870 ...\n"
     ]
    },
    {
     "name": "stderr",
     "output_type": "stream",
     "text": [
      "100%|###################################################################################|175/175[00:06<00:00,27.73it/s]"
     ]
    },
    {
     "name": "stdout",
     "output_type": "stream",
     "text": [
      "\u001b[32m[1022 14:57:37 @base.py:285]\u001b[0m Epoch 870 (global_step 182699) finished, time:6.31 seconds.\n",
      "\u001b[32m[1022 14:57:37 @saver.py:79]\u001b[0m Model saved to ../output/Chicago/DATWGAN_30/model\\model-182699.\n",
      "\u001b[32m[1022 14:57:37 @monitor.py:467]\u001b[0m GAN_loss/d_loss: -0.023104\n",
      "\u001b[32m[1022 14:57:37 @monitor.py:467]\u001b[0m GAN_loss/g_loss: 0.2268\n"
     ]
    },
    {
     "name": "stderr",
     "output_type": "stream",
     "text": [
      "\n"
     ]
    },
    {
     "name": "stdout",
     "output_type": "stream",
     "text": [
      "\u001b[32m[1022 14:57:37 @monitor.py:467]\u001b[0m GAN_loss/gradient_penalty: 0.0050634\n",
      "\u001b[32m[1022 14:57:37 @monitor.py:467]\u001b[0m GAN_loss/gradient_rms: 0.99851\n",
      "\u001b[32m[1022 14:57:37 @monitor.py:467]\u001b[0m GAN_loss/kl_div: 0.059971\n",
      "\u001b[32m[1022 14:57:37 @monitor.py:467]\u001b[0m QueueInput/queue_size: 50\n",
      "\u001b[32m[1022 14:57:37 @base.py:275]\u001b[0m Start Epoch 871 ...\n"
     ]
    },
    {
     "name": "stderr",
     "output_type": "stream",
     "text": [
      "100%|###################################################################################|175/175[00:06<00:00,27.73it/s]"
     ]
    },
    {
     "name": "stdout",
     "output_type": "stream",
     "text": [
      "\u001b[32m[1022 14:57:44 @base.py:285]\u001b[0m Epoch 871 (global_step 182909) finished, time:6.31 seconds.\n",
      "\u001b[32m[1022 14:57:44 @saver.py:79]\u001b[0m Model saved to ../output/Chicago/DATWGAN_30/model\\model-182909.\n",
      "\u001b[32m[1022 14:57:44 @monitor.py:467]\u001b[0m GAN_loss/d_loss: -0.025085\n",
      "\u001b[32m[1022 14:57:44 @monitor.py:467]\u001b[0m GAN_loss/g_loss: 0.21511\n",
      "\u001b[32m[1022 14:57:44 @monitor.py:467]\u001b[0m GAN_loss/gradient_penalty: 0.0049732\n",
      "\u001b[32m[1022 14:57:44 @monitor.py:467]\u001b[0m GAN_loss/gradient_rms: 0.99825\n",
      "\u001b[32m[1022 14:57:44 @monitor.py:467]\u001b[0m GAN_loss/kl_div: 0.058112\n",
      "\u001b[32m[1022 14:57:44 @monitor.py:467]\u001b[0m QueueInput/queue_size: 50\n",
      "\u001b[32m[1022 14:57:44 @base.py:275]\u001b[0m Start Epoch 872 ...\n"
     ]
    },
    {
     "name": "stderr",
     "output_type": "stream",
     "text": [
      "\n",
      "100%|###################################################################################|175/175[00:06<00:00,27.74it/s]"
     ]
    },
    {
     "name": "stdout",
     "output_type": "stream",
     "text": [
      "\u001b[32m[1022 14:57:50 @base.py:285]\u001b[0m Epoch 872 (global_step 183119) finished, time:6.31 seconds.\n",
      "\u001b[32m[1022 14:57:50 @saver.py:79]\u001b[0m Model saved to ../output/Chicago/DATWGAN_30/model\\model-183119.\n",
      "\u001b[32m[1022 14:57:50 @monitor.py:467]\u001b[0m GAN_loss/d_loss: -0.027083\n"
     ]
    },
    {
     "name": "stderr",
     "output_type": "stream",
     "text": [
      "\n"
     ]
    },
    {
     "name": "stdout",
     "output_type": "stream",
     "text": [
      "\u001b[32m[1022 14:57:50 @monitor.py:467]\u001b[0m GAN_loss/g_loss: 0.22371\n",
      "\u001b[32m[1022 14:57:50 @monitor.py:467]\u001b[0m GAN_loss/gradient_penalty: 0.0050414\n",
      "\u001b[32m[1022 14:57:50 @monitor.py:467]\u001b[0m GAN_loss/gradient_rms: 0.99868\n",
      "\u001b[32m[1022 14:57:50 @monitor.py:467]\u001b[0m GAN_loss/kl_div: 0.059556\n",
      "\u001b[32m[1022 14:57:50 @monitor.py:467]\u001b[0m QueueInput/queue_size: 50\n",
      "\u001b[32m[1022 14:57:50 @base.py:275]\u001b[0m Start Epoch 873 ...\n"
     ]
    },
    {
     "name": "stderr",
     "output_type": "stream",
     "text": [
      "100%|###################################################################################|175/175[00:06<00:00,27.73it/s]"
     ]
    },
    {
     "name": "stdout",
     "output_type": "stream",
     "text": [
      "\u001b[32m[1022 14:57:57 @base.py:285]\u001b[0m Epoch 873 (global_step 183329) finished, time:6.31 seconds.\n",
      "\u001b[32m[1022 14:57:57 @saver.py:79]\u001b[0m Model saved to ../output/Chicago/DATWGAN_30/model\\model-183329.\n",
      "\u001b[32m[1022 14:57:57 @monitor.py:467]\u001b[0m GAN_loss/d_loss: -0.037091\n"
     ]
    },
    {
     "name": "stderr",
     "output_type": "stream",
     "text": [
      "\n"
     ]
    },
    {
     "name": "stdout",
     "output_type": "stream",
     "text": [
      "\u001b[32m[1022 14:57:57 @monitor.py:467]\u001b[0m GAN_loss/g_loss: 0.22533\n",
      "\u001b[32m[1022 14:57:57 @monitor.py:467]\u001b[0m GAN_loss/gradient_penalty: 0.0051172\n",
      "\u001b[32m[1022 14:57:57 @monitor.py:467]\u001b[0m GAN_loss/gradient_rms: 0.99927\n",
      "\u001b[32m[1022 14:57:57 @monitor.py:467]\u001b[0m GAN_loss/kl_div: 0.056885\n",
      "\u001b[32m[1022 14:57:57 @monitor.py:467]\u001b[0m QueueInput/queue_size: 50\n",
      "\u001b[32m[1022 14:57:57 @base.py:275]\u001b[0m Start Epoch 874 ...\n"
     ]
    },
    {
     "name": "stderr",
     "output_type": "stream",
     "text": [
      "100%|###################################################################################|175/175[00:06<00:00,27.73it/s]"
     ]
    },
    {
     "name": "stdout",
     "output_type": "stream",
     "text": [
      "\u001b[32m[1022 14:58:03 @base.py:285]\u001b[0m Epoch 874 (global_step 183539) finished, time:6.31 seconds.\n",
      "\u001b[32m[1022 14:58:03 @saver.py:79]\u001b[0m Model saved to ../output/Chicago/DATWGAN_30/model\\model-183539.\n",
      "\u001b[32m[1022 14:58:03 @monitor.py:467]\u001b[0m GAN_loss/d_loss: -0.025046\n",
      "\u001b[32m[1022 14:58:03 @monitor.py:467]\u001b[0m GAN_loss/g_loss: 0.21872\n",
      "\u001b[32m[1022 14:58:03 @monitor.py:467]\u001b[0m GAN_loss/gradient_penalty: 0.0049736\n"
     ]
    },
    {
     "name": "stderr",
     "output_type": "stream",
     "text": [
      "\n"
     ]
    },
    {
     "name": "stdout",
     "output_type": "stream",
     "text": [
      "\u001b[32m[1022 14:58:03 @monitor.py:467]\u001b[0m GAN_loss/gradient_rms: 0.99824\n",
      "\u001b[32m[1022 14:58:03 @monitor.py:467]\u001b[0m GAN_loss/kl_div: 0.065147\n",
      "\u001b[32m[1022 14:58:03 @monitor.py:467]\u001b[0m QueueInput/queue_size: 50\n",
      "\u001b[32m[1022 14:58:03 @base.py:275]\u001b[0m Start Epoch 875 ...\n"
     ]
    },
    {
     "name": "stderr",
     "output_type": "stream",
     "text": [
      "100%|###################################################################################|175/175[00:06<00:00,27.74it/s]"
     ]
    },
    {
     "name": "stdout",
     "output_type": "stream",
     "text": [
      "\u001b[32m[1022 14:58:10 @base.py:285]\u001b[0m Epoch 875 (global_step 183749) finished, time:6.31 seconds.\n",
      "\u001b[32m[1022 14:58:10 @saver.py:79]\u001b[0m Model saved to ../output/Chicago/DATWGAN_30/model\\model-183749.\n",
      "\u001b[32m[1022 14:58:10 @monitor.py:467]\u001b[0m GAN_loss/d_loss: -0.02538\n"
     ]
    },
    {
     "name": "stderr",
     "output_type": "stream",
     "text": [
      "\n"
     ]
    },
    {
     "name": "stdout",
     "output_type": "stream",
     "text": [
      "\u001b[32m[1022 14:58:10 @monitor.py:467]\u001b[0m GAN_loss/g_loss: 0.22365\n",
      "\u001b[32m[1022 14:58:10 @monitor.py:467]\u001b[0m GAN_loss/gradient_penalty: 0.0049875\n",
      "\u001b[32m[1022 14:58:10 @monitor.py:467]\u001b[0m GAN_loss/gradient_rms: 0.99865\n",
      "\u001b[32m[1022 14:58:10 @monitor.py:467]\u001b[0m GAN_loss/kl_div: 0.061148\n",
      "\u001b[32m[1022 14:58:10 @monitor.py:467]\u001b[0m QueueInput/queue_size: 50\n",
      "\u001b[32m[1022 14:58:10 @base.py:275]\u001b[0m Start Epoch 876 ...\n"
     ]
    },
    {
     "name": "stderr",
     "output_type": "stream",
     "text": [
      "100%|###################################################################################|175/175[00:06<00:00,27.74it/s]"
     ]
    },
    {
     "name": "stdout",
     "output_type": "stream",
     "text": [
      "\u001b[32m[1022 14:58:16 @base.py:285]\u001b[0m Epoch 876 (global_step 183959) finished, time:6.31 seconds.\n",
      "\u001b[32m[1022 14:58:16 @saver.py:79]\u001b[0m Model saved to ../output/Chicago/DATWGAN_30/model\\model-183959.\n"
     ]
    },
    {
     "name": "stderr",
     "output_type": "stream",
     "text": [
      "\n"
     ]
    },
    {
     "name": "stdout",
     "output_type": "stream",
     "text": [
      "\u001b[32m[1022 14:58:16 @monitor.py:467]\u001b[0m GAN_loss/d_loss: -0.037933\n",
      "\u001b[32m[1022 14:58:16 @monitor.py:467]\u001b[0m GAN_loss/g_loss: 0.22991\n",
      "\u001b[32m[1022 14:58:16 @monitor.py:467]\u001b[0m GAN_loss/gradient_penalty: 0.0050184\n",
      "\u001b[32m[1022 14:58:16 @monitor.py:467]\u001b[0m GAN_loss/gradient_rms: 0.99896\n",
      "\u001b[32m[1022 14:58:16 @monitor.py:467]\u001b[0m GAN_loss/kl_div: 0.062794\n",
      "\u001b[32m[1022 14:58:16 @monitor.py:467]\u001b[0m QueueInput/queue_size: 50\n",
      "\u001b[32m[1022 14:58:16 @base.py:275]\u001b[0m Start Epoch 877 ...\n"
     ]
    },
    {
     "name": "stderr",
     "output_type": "stream",
     "text": [
      "100%|###################################################################################|175/175[00:06<00:00,27.76it/s]"
     ]
    },
    {
     "name": "stdout",
     "output_type": "stream",
     "text": [
      "\u001b[32m[1022 14:58:23 @base.py:285]\u001b[0m Epoch 877 (global_step 184169) finished, time:6.3 seconds.\n",
      "\u001b[32m[1022 14:58:23 @saver.py:79]\u001b[0m Model saved to ../output/Chicago/DATWGAN_30/model\\model-184169.\n"
     ]
    },
    {
     "name": "stderr",
     "output_type": "stream",
     "text": [
      "\n"
     ]
    },
    {
     "name": "stdout",
     "output_type": "stream",
     "text": [
      "\u001b[32m[1022 14:58:23 @monitor.py:467]\u001b[0m GAN_loss/d_loss: -0.022092\n",
      "\u001b[32m[1022 14:58:23 @monitor.py:467]\u001b[0m GAN_loss/g_loss: 0.22469\n",
      "\u001b[32m[1022 14:58:23 @monitor.py:467]\u001b[0m GAN_loss/gradient_penalty: 0.0050539\n",
      "\u001b[32m[1022 14:58:23 @monitor.py:467]\u001b[0m GAN_loss/gradient_rms: 0.99724\n",
      "\u001b[32m[1022 14:58:23 @monitor.py:467]\u001b[0m GAN_loss/kl_div: 0.061174\n",
      "\u001b[32m[1022 14:58:23 @monitor.py:467]\u001b[0m QueueInput/queue_size: 50\n",
      "\u001b[32m[1022 14:58:23 @base.py:275]\u001b[0m Start Epoch 878 ...\n"
     ]
    },
    {
     "name": "stderr",
     "output_type": "stream",
     "text": [
      "100%|###################################################################################|175/175[00:06<00:00,27.74it/s]"
     ]
    },
    {
     "name": "stdout",
     "output_type": "stream",
     "text": [
      "\u001b[32m[1022 14:58:29 @base.py:285]\u001b[0m Epoch 878 (global_step 184379) finished, time:6.31 seconds.\n",
      "\u001b[32m[1022 14:58:29 @saver.py:79]\u001b[0m Model saved to ../output/Chicago/DATWGAN_30/model\\model-184379.\n"
     ]
    },
    {
     "name": "stderr",
     "output_type": "stream",
     "text": [
      "\n"
     ]
    },
    {
     "name": "stdout",
     "output_type": "stream",
     "text": [
      "\u001b[32m[1022 14:58:29 @monitor.py:467]\u001b[0m GAN_loss/d_loss: -0.022258\n",
      "\u001b[32m[1022 14:58:29 @monitor.py:467]\u001b[0m GAN_loss/g_loss: 0.23135\n",
      "\u001b[32m[1022 14:58:29 @monitor.py:467]\u001b[0m GAN_loss/gradient_penalty: 0.0050179\n",
      "\u001b[32m[1022 14:58:29 @monitor.py:467]\u001b[0m GAN_loss/gradient_rms: 0.99803\n",
      "\u001b[32m[1022 14:58:29 @monitor.py:467]\u001b[0m GAN_loss/kl_div: 0.060022\n",
      "\u001b[32m[1022 14:58:29 @monitor.py:467]\u001b[0m QueueInput/queue_size: 50\n",
      "\u001b[32m[1022 14:58:29 @base.py:275]\u001b[0m Start Epoch 879 ...\n"
     ]
    },
    {
     "name": "stderr",
     "output_type": "stream",
     "text": [
      "100%|###################################################################################|175/175[00:06<00:00,27.72it/s]"
     ]
    },
    {
     "name": "stdout",
     "output_type": "stream",
     "text": [
      "\u001b[32m[1022 14:58:36 @base.py:285]\u001b[0m Epoch 879 (global_step 184589) finished, time:6.31 seconds.\n",
      "\u001b[32m[1022 14:58:36 @saver.py:79]\u001b[0m Model saved to ../output/Chicago/DATWGAN_30/model\\model-184589.\n",
      "\u001b[32m[1022 14:58:36 @monitor.py:467]\u001b[0m GAN_loss/d_loss: -0.027589\n"
     ]
    },
    {
     "name": "stderr",
     "output_type": "stream",
     "text": [
      "\n"
     ]
    },
    {
     "name": "stdout",
     "output_type": "stream",
     "text": [
      "\u001b[32m[1022 14:58:36 @monitor.py:467]\u001b[0m GAN_loss/g_loss: 0.23456\n",
      "\u001b[32m[1022 14:58:36 @monitor.py:467]\u001b[0m GAN_loss/gradient_penalty: 0.0050499\n",
      "\u001b[32m[1022 14:58:36 @monitor.py:467]\u001b[0m GAN_loss/gradient_rms: 0.99872\n",
      "\u001b[32m[1022 14:58:36 @monitor.py:467]\u001b[0m GAN_loss/kl_div: 0.061055\n",
      "\u001b[32m[1022 14:58:36 @monitor.py:467]\u001b[0m QueueInput/queue_size: 50\n",
      "\u001b[32m[1022 14:58:36 @base.py:275]\u001b[0m Start Epoch 880 ...\n"
     ]
    },
    {
     "name": "stderr",
     "output_type": "stream",
     "text": [
      "100%|###################################################################################|175/175[00:06<00:00,27.75it/s]"
     ]
    },
    {
     "name": "stdout",
     "output_type": "stream",
     "text": [
      "\u001b[32m[1022 14:58:42 @base.py:285]\u001b[0m Epoch 880 (global_step 184799) finished, time:6.31 seconds.\n",
      "\u001b[32m[1022 14:58:42 @saver.py:79]\u001b[0m Model saved to ../output/Chicago/DATWGAN_30/model\\model-184799.\n",
      "\u001b[32m[1022 14:58:42 @monitor.py:467]\u001b[0m GAN_loss/d_loss: -0.033628\n"
     ]
    },
    {
     "name": "stderr",
     "output_type": "stream",
     "text": [
      "\n"
     ]
    },
    {
     "name": "stdout",
     "output_type": "stream",
     "text": [
      "\u001b[32m[1022 14:58:42 @monitor.py:467]\u001b[0m GAN_loss/g_loss: 0.23979\n",
      "\u001b[32m[1022 14:58:42 @monitor.py:467]\u001b[0m GAN_loss/gradient_penalty: 0.0049785\n",
      "\u001b[32m[1022 14:58:42 @monitor.py:467]\u001b[0m GAN_loss/gradient_rms: 0.99853\n",
      "\u001b[32m[1022 14:58:42 @monitor.py:467]\u001b[0m GAN_loss/kl_div: 0.058516\n",
      "\u001b[32m[1022 14:58:42 @monitor.py:467]\u001b[0m QueueInput/queue_size: 50\n",
      "\u001b[32m[1022 14:58:42 @base.py:275]\u001b[0m Start Epoch 881 ...\n"
     ]
    },
    {
     "name": "stderr",
     "output_type": "stream",
     "text": [
      "100%|###################################################################################|175/175[00:06<00:00,27.74it/s]"
     ]
    },
    {
     "name": "stdout",
     "output_type": "stream",
     "text": [
      "\u001b[32m[1022 14:58:49 @base.py:285]\u001b[0m Epoch 881 (global_step 185009) finished, time:6.31 seconds.\n",
      "\u001b[32m[1022 14:58:49 @saver.py:79]\u001b[0m Model saved to ../output/Chicago/DATWGAN_30/model\\model-185009.\n",
      "\u001b[32m[1022 14:58:49 @monitor.py:467]\u001b[0m GAN_loss/d_loss: -0.028735\n"
     ]
    },
    {
     "name": "stderr",
     "output_type": "stream",
     "text": [
      "\n"
     ]
    },
    {
     "name": "stdout",
     "output_type": "stream",
     "text": [
      "\u001b[32m[1022 14:58:49 @monitor.py:467]\u001b[0m GAN_loss/g_loss: 0.24592\n",
      "\u001b[32m[1022 14:58:49 @monitor.py:467]\u001b[0m GAN_loss/gradient_penalty: 0.0050986\n",
      "\u001b[32m[1022 14:58:49 @monitor.py:467]\u001b[0m GAN_loss/gradient_rms: 1.0014\n",
      "\u001b[32m[1022 14:58:49 @monitor.py:467]\u001b[0m GAN_loss/kl_div: 0.058963\n",
      "\u001b[32m[1022 14:58:49 @monitor.py:467]\u001b[0m QueueInput/queue_size: 50\n",
      "\u001b[32m[1022 14:58:49 @base.py:275]\u001b[0m Start Epoch 882 ...\n"
     ]
    },
    {
     "name": "stderr",
     "output_type": "stream",
     "text": [
      "100%|###################################################################################|175/175[00:06<00:00,27.74it/s]"
     ]
    },
    {
     "name": "stdout",
     "output_type": "stream",
     "text": [
      "\u001b[32m[1022 14:58:55 @base.py:285]\u001b[0m Epoch 882 (global_step 185219) finished, time:6.31 seconds.\n",
      "\u001b[32m[1022 14:58:55 @saver.py:79]\u001b[0m Model saved to ../output/Chicago/DATWGAN_30/model\\model-185219.\n"
     ]
    },
    {
     "name": "stderr",
     "output_type": "stream",
     "text": [
      "\n"
     ]
    },
    {
     "name": "stdout",
     "output_type": "stream",
     "text": [
      "\u001b[32m[1022 14:58:55 @monitor.py:467]\u001b[0m GAN_loss/d_loss: -0.015006\n",
      "\u001b[32m[1022 14:58:55 @monitor.py:467]\u001b[0m GAN_loss/g_loss: 0.2377\n",
      "\u001b[32m[1022 14:58:55 @monitor.py:467]\u001b[0m GAN_loss/gradient_penalty: 0.0048618\n",
      "\u001b[32m[1022 14:58:55 @monitor.py:467]\u001b[0m GAN_loss/gradient_rms: 0.99899\n",
      "\u001b[32m[1022 14:58:55 @monitor.py:467]\u001b[0m GAN_loss/kl_div: 0.05751\n",
      "\u001b[32m[1022 14:58:55 @monitor.py:467]\u001b[0m QueueInput/queue_size: 50\n",
      "\u001b[32m[1022 14:58:55 @base.py:275]\u001b[0m Start Epoch 883 ...\n"
     ]
    },
    {
     "name": "stderr",
     "output_type": "stream",
     "text": [
      "100%|###################################################################################|175/175[00:06<00:00,27.71it/s]"
     ]
    },
    {
     "name": "stdout",
     "output_type": "stream",
     "text": [
      "\u001b[32m[1022 14:59:02 @base.py:285]\u001b[0m Epoch 883 (global_step 185429) finished, time:6.32 seconds.\n",
      "\u001b[32m[1022 14:59:02 @saver.py:79]\u001b[0m Model saved to ../output/Chicago/DATWGAN_30/model\\model-185429.\n",
      "\u001b[32m[1022 14:59:02 @monitor.py:467]\u001b[0m GAN_loss/d_loss: -0.024527\n"
     ]
    },
    {
     "name": "stderr",
     "output_type": "stream",
     "text": [
      "\n"
     ]
    },
    {
     "name": "stdout",
     "output_type": "stream",
     "text": [
      "\u001b[32m[1022 14:59:02 @monitor.py:467]\u001b[0m GAN_loss/g_loss: 0.24138\n",
      "\u001b[32m[1022 14:59:02 @monitor.py:467]\u001b[0m GAN_loss/gradient_penalty: 0.0050345\n",
      "\u001b[32m[1022 14:59:02 @monitor.py:467]\u001b[0m GAN_loss/gradient_rms: 0.9993\n",
      "\u001b[32m[1022 14:59:02 @monitor.py:467]\u001b[0m GAN_loss/kl_div: 0.058971\n",
      "\u001b[32m[1022 14:59:02 @monitor.py:467]\u001b[0m QueueInput/queue_size: 50\n",
      "\u001b[32m[1022 14:59:02 @base.py:275]\u001b[0m Start Epoch 884 ...\n"
     ]
    },
    {
     "name": "stderr",
     "output_type": "stream",
     "text": [
      "100%|###################################################################################|175/175[00:06<00:00,27.71it/s]"
     ]
    },
    {
     "name": "stdout",
     "output_type": "stream",
     "text": [
      "\u001b[32m[1022 14:59:08 @base.py:285]\u001b[0m Epoch 884 (global_step 185639) finished, time:6.32 seconds.\n",
      "\u001b[32m[1022 14:59:08 @saver.py:79]\u001b[0m Model saved to ../output/Chicago/DATWGAN_30/model\\model-185639.\n",
      "\u001b[32m[1022 14:59:08 @monitor.py:467]\u001b[0m GAN_loss/d_loss: -0.030291\n",
      "\u001b[32m[1022 14:59:08 @monitor.py:467]\u001b[0m GAN_loss/g_loss: 0.26461\n",
      "\u001b[32m[1022 14:59:08 @monitor.py:467]\u001b[0m GAN_loss/gradient_penalty: 0.0051802\n",
      "\u001b[32m[1022 14:59:08 @monitor.py:467]\u001b[0m GAN_loss/gradient_rms: 1.0003\n",
      "\u001b[32m[1022 14:59:08 @monitor.py:467]\u001b[0m GAN_loss/kl_div: 0.059523\n",
      "\u001b[32m[1022 14:59:08 @monitor.py:467]\u001b[0m QueueInput/queue_size: 50\n",
      "\u001b[32m[1022 14:59:08 @base.py:275]\u001b[0m Start Epoch 885 ...\n"
     ]
    },
    {
     "name": "stderr",
     "output_type": "stream",
     "text": [
      "\n",
      "100%|###################################################################################|175/175[00:06<00:00,27.73it/s]"
     ]
    },
    {
     "name": "stdout",
     "output_type": "stream",
     "text": [
      "\u001b[32m[1022 14:59:15 @base.py:285]\u001b[0m Epoch 885 (global_step 185849) finished, time:6.31 seconds.\n",
      "\u001b[32m[1022 14:59:15 @saver.py:79]\u001b[0m Model saved to ../output/Chicago/DATWGAN_30/model\\model-185849.\n",
      "\u001b[32m[1022 14:59:15 @monitor.py:467]\u001b[0m GAN_loss/d_loss: -0.02654\n"
     ]
    },
    {
     "name": "stderr",
     "output_type": "stream",
     "text": [
      "\n"
     ]
    },
    {
     "name": "stdout",
     "output_type": "stream",
     "text": [
      "\u001b[32m[1022 14:59:15 @monitor.py:467]\u001b[0m GAN_loss/g_loss: 0.25623\n",
      "\u001b[32m[1022 14:59:15 @monitor.py:467]\u001b[0m GAN_loss/gradient_penalty: 0.0049922\n",
      "\u001b[32m[1022 14:59:15 @monitor.py:467]\u001b[0m GAN_loss/gradient_rms: 0.99906\n",
      "\u001b[32m[1022 14:59:15 @monitor.py:467]\u001b[0m GAN_loss/kl_div: 0.062666\n",
      "\u001b[32m[1022 14:59:15 @monitor.py:467]\u001b[0m QueueInput/queue_size: 50\n",
      "\u001b[32m[1022 14:59:15 @base.py:275]\u001b[0m Start Epoch 886 ...\n"
     ]
    },
    {
     "name": "stderr",
     "output_type": "stream",
     "text": [
      "100%|###################################################################################|175/175[00:06<00:00,27.74it/s]"
     ]
    },
    {
     "name": "stdout",
     "output_type": "stream",
     "text": [
      "\u001b[32m[1022 14:59:21 @base.py:285]\u001b[0m Epoch 886 (global_step 186059) finished, time:6.31 seconds.\n",
      "\u001b[32m[1022 14:59:21 @saver.py:79]\u001b[0m Model saved to ../output/Chicago/DATWGAN_30/model\\model-186059.\n",
      "\u001b[32m[1022 14:59:21 @monitor.py:467]\u001b[0m GAN_loss/d_loss: -0.033939\n"
     ]
    },
    {
     "name": "stderr",
     "output_type": "stream",
     "text": [
      "\n"
     ]
    },
    {
     "name": "stdout",
     "output_type": "stream",
     "text": [
      "\u001b[32m[1022 14:59:21 @monitor.py:467]\u001b[0m GAN_loss/g_loss: 0.25976\n",
      "\u001b[32m[1022 14:59:21 @monitor.py:467]\u001b[0m GAN_loss/gradient_penalty: 0.0050325\n",
      "\u001b[32m[1022 14:59:21 @monitor.py:467]\u001b[0m GAN_loss/gradient_rms: 0.99906\n",
      "\u001b[32m[1022 14:59:21 @monitor.py:467]\u001b[0m GAN_loss/kl_div: 0.05748\n",
      "\u001b[32m[1022 14:59:21 @monitor.py:467]\u001b[0m QueueInput/queue_size: 50\n",
      "\u001b[32m[1022 14:59:21 @base.py:275]\u001b[0m Start Epoch 887 ...\n"
     ]
    },
    {
     "name": "stderr",
     "output_type": "stream",
     "text": [
      "100%|###################################################################################|175/175[00:06<00:00,27.75it/s]"
     ]
    },
    {
     "name": "stdout",
     "output_type": "stream",
     "text": [
      "\u001b[32m[1022 14:59:28 @base.py:285]\u001b[0m Epoch 887 (global_step 186269) finished, time:6.31 seconds.\n",
      "\u001b[32m[1022 14:59:28 @saver.py:79]\u001b[0m Model saved to ../output/Chicago/DATWGAN_30/model\\model-186269.\n",
      "\u001b[32m[1022 14:59:28 @monitor.py:467]\u001b[0m GAN_loss/d_loss: -0.032824\n"
     ]
    },
    {
     "name": "stderr",
     "output_type": "stream",
     "text": [
      "\n"
     ]
    },
    {
     "name": "stdout",
     "output_type": "stream",
     "text": [
      "\u001b[32m[1022 14:59:28 @monitor.py:467]\u001b[0m GAN_loss/g_loss: 0.26476\n",
      "\u001b[32m[1022 14:59:28 @monitor.py:467]\u001b[0m GAN_loss/gradient_penalty: 0.0049677\n",
      "\u001b[32m[1022 14:59:28 @monitor.py:467]\u001b[0m GAN_loss/gradient_rms: 0.99844\n",
      "\u001b[32m[1022 14:59:28 @monitor.py:467]\u001b[0m GAN_loss/kl_div: 0.058549\n",
      "\u001b[32m[1022 14:59:28 @monitor.py:467]\u001b[0m QueueInput/queue_size: 50\n",
      "\u001b[32m[1022 14:59:28 @base.py:275]\u001b[0m Start Epoch 888 ...\n"
     ]
    },
    {
     "name": "stderr",
     "output_type": "stream",
     "text": [
      "100%|###################################################################################|175/175[00:06<00:00,27.75it/s]"
     ]
    },
    {
     "name": "stdout",
     "output_type": "stream",
     "text": [
      "\u001b[32m[1022 14:59:34 @base.py:285]\u001b[0m Epoch 888 (global_step 186479) finished, time:6.31 seconds.\n",
      "\u001b[32m[1022 14:59:34 @saver.py:79]\u001b[0m Model saved to ../output/Chicago/DATWGAN_30/model\\model-186479.\n",
      "\u001b[32m[1022 14:59:34 @monitor.py:467]\u001b[0m GAN_loss/d_loss: -0.038237\n"
     ]
    },
    {
     "name": "stderr",
     "output_type": "stream",
     "text": [
      "\n"
     ]
    },
    {
     "name": "stdout",
     "output_type": "stream",
     "text": [
      "\u001b[32m[1022 14:59:34 @monitor.py:467]\u001b[0m GAN_loss/g_loss: 0.25582\n",
      "\u001b[32m[1022 14:59:34 @monitor.py:467]\u001b[0m GAN_loss/gradient_penalty: 0.0052026\n",
      "\u001b[32m[1022 14:59:34 @monitor.py:467]\u001b[0m GAN_loss/gradient_rms: 1.0001\n",
      "\u001b[32m[1022 14:59:34 @monitor.py:467]\u001b[0m GAN_loss/kl_div: 0.063237\n",
      "\u001b[32m[1022 14:59:34 @monitor.py:467]\u001b[0m QueueInput/queue_size: 50\n",
      "\u001b[32m[1022 14:59:34 @base.py:275]\u001b[0m Start Epoch 889 ...\n"
     ]
    },
    {
     "name": "stderr",
     "output_type": "stream",
     "text": [
      "100%|###################################################################################|175/175[00:06<00:00,27.75it/s]"
     ]
    },
    {
     "name": "stdout",
     "output_type": "stream",
     "text": [
      "\u001b[32m[1022 14:59:41 @base.py:285]\u001b[0m Epoch 889 (global_step 186689) finished, time:6.31 seconds.\n",
      "\u001b[32m[1022 14:59:41 @saver.py:79]\u001b[0m Model saved to ../output/Chicago/DATWGAN_30/model\\model-186689.\n",
      "\u001b[32m[1022 14:59:41 @monitor.py:467]\u001b[0m GAN_loss/d_loss: -0.032665\n"
     ]
    },
    {
     "name": "stderr",
     "output_type": "stream",
     "text": [
      "\n"
     ]
    },
    {
     "name": "stdout",
     "output_type": "stream",
     "text": [
      "\u001b[32m[1022 14:59:41 @monitor.py:467]\u001b[0m GAN_loss/g_loss: 0.26636\n",
      "\u001b[32m[1022 14:59:41 @monitor.py:467]\u001b[0m GAN_loss/gradient_penalty: 0.0050404\n",
      "\u001b[32m[1022 14:59:41 @monitor.py:467]\u001b[0m GAN_loss/gradient_rms: 0.99911\n",
      "\u001b[32m[1022 14:59:41 @monitor.py:467]\u001b[0m GAN_loss/kl_div: 0.05722\n",
      "\u001b[32m[1022 14:59:41 @monitor.py:467]\u001b[0m QueueInput/queue_size: 50\n",
      "\u001b[32m[1022 14:59:41 @base.py:275]\u001b[0m Start Epoch 890 ...\n"
     ]
    },
    {
     "name": "stderr",
     "output_type": "stream",
     "text": [
      "100%|###################################################################################|175/175[00:06<00:00,27.72it/s]"
     ]
    },
    {
     "name": "stdout",
     "output_type": "stream",
     "text": [
      "\u001b[32m[1022 14:59:47 @base.py:285]\u001b[0m Epoch 890 (global_step 186899) finished, time:6.31 seconds.\n",
      "\u001b[32m[1022 14:59:47 @saver.py:79]\u001b[0m Model saved to ../output/Chicago/DATWGAN_30/model\\model-186899.\n",
      "\u001b[32m[1022 14:59:47 @monitor.py:467]\u001b[0m GAN_loss/d_loss: -0.027183\n"
     ]
    },
    {
     "name": "stderr",
     "output_type": "stream",
     "text": [
      "\n"
     ]
    },
    {
     "name": "stdout",
     "output_type": "stream",
     "text": [
      "\u001b[32m[1022 14:59:47 @monitor.py:467]\u001b[0m GAN_loss/g_loss: 0.24699\n",
      "\u001b[32m[1022 14:59:47 @monitor.py:467]\u001b[0m GAN_loss/gradient_penalty: 0.0050215\n",
      "\u001b[32m[1022 14:59:47 @monitor.py:467]\u001b[0m GAN_loss/gradient_rms: 0.99891\n",
      "\u001b[32m[1022 14:59:47 @monitor.py:467]\u001b[0m GAN_loss/kl_div: 0.060769\n",
      "\u001b[32m[1022 14:59:47 @monitor.py:467]\u001b[0m QueueInput/queue_size: 50\n",
      "\u001b[32m[1022 14:59:47 @base.py:275]\u001b[0m Start Epoch 891 ...\n"
     ]
    },
    {
     "name": "stderr",
     "output_type": "stream",
     "text": [
      "100%|###################################################################################|175/175[00:06<00:00,27.69it/s]"
     ]
    },
    {
     "name": "stdout",
     "output_type": "stream",
     "text": [
      "\u001b[32m[1022 14:59:54 @base.py:285]\u001b[0m Epoch 891 (global_step 187109) finished, time:6.32 seconds.\n",
      "\u001b[32m[1022 14:59:54 @saver.py:79]\u001b[0m Model saved to ../output/Chicago/DATWGAN_30/model\\model-187109.\n",
      "\u001b[32m[1022 14:59:54 @monitor.py:467]\u001b[0m GAN_loss/d_loss: -0.027902\n"
     ]
    },
    {
     "name": "stderr",
     "output_type": "stream",
     "text": [
      "\n"
     ]
    },
    {
     "name": "stdout",
     "output_type": "stream",
     "text": [
      "\u001b[32m[1022 14:59:54 @monitor.py:467]\u001b[0m GAN_loss/g_loss: 0.25287\n",
      "\u001b[32m[1022 14:59:54 @monitor.py:467]\u001b[0m GAN_loss/gradient_penalty: 0.0050056\n",
      "\u001b[32m[1022 14:59:54 @monitor.py:467]\u001b[0m GAN_loss/gradient_rms: 0.99965\n",
      "\u001b[32m[1022 14:59:54 @monitor.py:467]\u001b[0m GAN_loss/kl_div: 0.058539\n",
      "\u001b[32m[1022 14:59:54 @monitor.py:467]\u001b[0m QueueInput/queue_size: 50\n",
      "\u001b[32m[1022 14:59:54 @base.py:275]\u001b[0m Start Epoch 892 ...\n"
     ]
    },
    {
     "name": "stderr",
     "output_type": "stream",
     "text": [
      "100%|###################################################################################|175/175[00:06<00:00,27.75it/s]"
     ]
    },
    {
     "name": "stdout",
     "output_type": "stream",
     "text": [
      "\u001b[32m[1022 15:00:00 @base.py:285]\u001b[0m Epoch 892 (global_step 187319) finished, time:6.31 seconds.\n",
      "\u001b[32m[1022 15:00:00 @saver.py:79]\u001b[0m Model saved to ../output/Chicago/DATWGAN_30/model\\model-187319.\n",
      "\u001b[32m[1022 15:00:00 @monitor.py:467]\u001b[0m GAN_loss/d_loss: -0.036792\n"
     ]
    },
    {
     "name": "stderr",
     "output_type": "stream",
     "text": [
      "\n"
     ]
    },
    {
     "name": "stdout",
     "output_type": "stream",
     "text": [
      "\u001b[32m[1022 15:00:00 @monitor.py:467]\u001b[0m GAN_loss/g_loss: 0.25798\n",
      "\u001b[32m[1022 15:00:00 @monitor.py:467]\u001b[0m GAN_loss/gradient_penalty: 0.0049911\n",
      "\u001b[32m[1022 15:00:00 @monitor.py:467]\u001b[0m GAN_loss/gradient_rms: 0.99865\n",
      "\u001b[32m[1022 15:00:00 @monitor.py:467]\u001b[0m GAN_loss/kl_div: 0.057692\n",
      "\u001b[32m[1022 15:00:00 @monitor.py:467]\u001b[0m QueueInput/queue_size: 50\n",
      "\u001b[32m[1022 15:00:00 @base.py:275]\u001b[0m Start Epoch 893 ...\n"
     ]
    },
    {
     "name": "stderr",
     "output_type": "stream",
     "text": [
      "100%|###################################################################################|175/175[00:06<00:00,27.73it/s]"
     ]
    },
    {
     "name": "stdout",
     "output_type": "stream",
     "text": [
      "\u001b[32m[1022 15:00:07 @base.py:285]\u001b[0m Epoch 893 (global_step 187529) finished, time:6.31 seconds.\n",
      "\u001b[32m[1022 15:00:07 @saver.py:79]\u001b[0m Model saved to ../output/Chicago/DATWGAN_30/model\\model-187529.\n",
      "\u001b[32m[1022 15:00:07 @monitor.py:467]\u001b[0m GAN_loss/d_loss: -0.029537\n"
     ]
    },
    {
     "name": "stderr",
     "output_type": "stream",
     "text": [
      "\n"
     ]
    },
    {
     "name": "stdout",
     "output_type": "stream",
     "text": [
      "\u001b[32m[1022 15:00:07 @monitor.py:467]\u001b[0m GAN_loss/g_loss: 0.26159\n",
      "\u001b[32m[1022 15:00:07 @monitor.py:467]\u001b[0m GAN_loss/gradient_penalty: 0.0051481\n",
      "\u001b[32m[1022 15:00:07 @monitor.py:467]\u001b[0m GAN_loss/gradient_rms: 0.99904\n",
      "\u001b[32m[1022 15:00:07 @monitor.py:467]\u001b[0m GAN_loss/kl_div: 0.059007\n",
      "\u001b[32m[1022 15:00:07 @monitor.py:467]\u001b[0m QueueInput/queue_size: 50\n",
      "\u001b[32m[1022 15:00:07 @base.py:275]\u001b[0m Start Epoch 894 ...\n"
     ]
    },
    {
     "name": "stderr",
     "output_type": "stream",
     "text": [
      "100%|###################################################################################|175/175[00:06<00:00,27.75it/s]"
     ]
    },
    {
     "name": "stdout",
     "output_type": "stream",
     "text": [
      "\u001b[32m[1022 15:00:13 @base.py:285]\u001b[0m Epoch 894 (global_step 187739) finished, time:6.31 seconds.\n",
      "\u001b[32m[1022 15:00:13 @saver.py:79]\u001b[0m Model saved to ../output/Chicago/DATWGAN_30/model\\model-187739.\n"
     ]
    },
    {
     "name": "stderr",
     "output_type": "stream",
     "text": [
      "\n"
     ]
    },
    {
     "name": "stdout",
     "output_type": "stream",
     "text": [
      "\u001b[32m[1022 15:00:13 @monitor.py:467]\u001b[0m GAN_loss/d_loss: -0.029208\n",
      "\u001b[32m[1022 15:00:13 @monitor.py:467]\u001b[0m GAN_loss/g_loss: 0.25305\n",
      "\u001b[32m[1022 15:00:13 @monitor.py:467]\u001b[0m GAN_loss/gradient_penalty: 0.0051315\n",
      "\u001b[32m[1022 15:00:13 @monitor.py:467]\u001b[0m GAN_loss/gradient_rms: 0.99874\n",
      "\u001b[32m[1022 15:00:13 @monitor.py:467]\u001b[0m GAN_loss/kl_div: 0.055583\n",
      "\u001b[32m[1022 15:00:13 @monitor.py:467]\u001b[0m QueueInput/queue_size: 50\n",
      "\u001b[32m[1022 15:00:13 @base.py:275]\u001b[0m Start Epoch 895 ...\n"
     ]
    },
    {
     "name": "stderr",
     "output_type": "stream",
     "text": [
      "100%|###################################################################################|175/175[00:06<00:00,27.73it/s]"
     ]
    },
    {
     "name": "stdout",
     "output_type": "stream",
     "text": [
      "\u001b[32m[1022 15:00:20 @base.py:285]\u001b[0m Epoch 895 (global_step 187949) finished, time:6.31 seconds.\n",
      "\u001b[32m[1022 15:00:20 @saver.py:79]\u001b[0m Model saved to ../output/Chicago/DATWGAN_30/model\\model-187949.\n",
      "\u001b[32m[1022 15:00:20 @monitor.py:467]\u001b[0m GAN_loss/d_loss: -0.046958\n"
     ]
    },
    {
     "name": "stderr",
     "output_type": "stream",
     "text": [
      "\n"
     ]
    },
    {
     "name": "stdout",
     "output_type": "stream",
     "text": [
      "\u001b[32m[1022 15:00:20 @monitor.py:467]\u001b[0m GAN_loss/g_loss: 0.26805\n",
      "\u001b[32m[1022 15:00:20 @monitor.py:467]\u001b[0m GAN_loss/gradient_penalty: 0.0050585\n",
      "\u001b[32m[1022 15:00:20 @monitor.py:467]\u001b[0m GAN_loss/gradient_rms: 0.99857\n",
      "\u001b[32m[1022 15:00:20 @monitor.py:467]\u001b[0m GAN_loss/kl_div: 0.060099\n",
      "\u001b[32m[1022 15:00:20 @monitor.py:467]\u001b[0m QueueInput/queue_size: 50\n",
      "\u001b[32m[1022 15:00:20 @base.py:275]\u001b[0m Start Epoch 896 ...\n"
     ]
    },
    {
     "name": "stderr",
     "output_type": "stream",
     "text": [
      "100%|###################################################################################|175/175[00:06<00:00,27.73it/s]"
     ]
    },
    {
     "name": "stdout",
     "output_type": "stream",
     "text": [
      "\u001b[32m[1022 15:00:26 @base.py:285]\u001b[0m Epoch 896 (global_step 188159) finished, time:6.31 seconds.\n",
      "\u001b[32m[1022 15:00:26 @saver.py:79]\u001b[0m Model saved to ../output/Chicago/DATWGAN_30/model\\model-188159.\n",
      "\u001b[32m[1022 15:00:26 @monitor.py:467]\u001b[0m GAN_loss/d_loss: -0.025325\n"
     ]
    },
    {
     "name": "stderr",
     "output_type": "stream",
     "text": [
      "\n"
     ]
    },
    {
     "name": "stdout",
     "output_type": "stream",
     "text": [
      "\u001b[32m[1022 15:00:26 @monitor.py:467]\u001b[0m GAN_loss/g_loss: 0.25026\n",
      "\u001b[32m[1022 15:00:26 @monitor.py:467]\u001b[0m GAN_loss/gradient_penalty: 0.0051615\n",
      "\u001b[32m[1022 15:00:26 @monitor.py:467]\u001b[0m GAN_loss/gradient_rms: 0.99977\n",
      "\u001b[32m[1022 15:00:26 @monitor.py:467]\u001b[0m GAN_loss/kl_div: 0.063398\n",
      "\u001b[32m[1022 15:00:26 @monitor.py:467]\u001b[0m QueueInput/queue_size: 50\n",
      "\u001b[32m[1022 15:00:26 @base.py:275]\u001b[0m Start Epoch 897 ...\n"
     ]
    },
    {
     "name": "stderr",
     "output_type": "stream",
     "text": [
      "100%|###################################################################################|175/175[00:06<00:00,27.74it/s]"
     ]
    },
    {
     "name": "stdout",
     "output_type": "stream",
     "text": [
      "\u001b[32m[1022 15:00:33 @base.py:285]\u001b[0m Epoch 897 (global_step 188369) finished, time:6.31 seconds.\n",
      "\u001b[32m[1022 15:00:33 @saver.py:79]\u001b[0m Model saved to ../output/Chicago/DATWGAN_30/model\\model-188369.\n",
      "\u001b[32m[1022 15:00:33 @monitor.py:467]\u001b[0m GAN_loss/d_loss: -0.037969\n"
     ]
    },
    {
     "name": "stderr",
     "output_type": "stream",
     "text": [
      "\n"
     ]
    },
    {
     "name": "stdout",
     "output_type": "stream",
     "text": [
      "\u001b[32m[1022 15:00:33 @monitor.py:467]\u001b[0m GAN_loss/g_loss: 0.26318\n",
      "\u001b[32m[1022 15:00:33 @monitor.py:467]\u001b[0m GAN_loss/gradient_penalty: 0.0051\n",
      "\u001b[32m[1022 15:00:33 @monitor.py:467]\u001b[0m GAN_loss/gradient_rms: 0.99883\n",
      "\u001b[32m[1022 15:00:33 @monitor.py:467]\u001b[0m GAN_loss/kl_div: 0.059558\n",
      "\u001b[32m[1022 15:00:33 @monitor.py:467]\u001b[0m QueueInput/queue_size: 50\n",
      "\u001b[32m[1022 15:00:33 @base.py:275]\u001b[0m Start Epoch 898 ...\n"
     ]
    },
    {
     "name": "stderr",
     "output_type": "stream",
     "text": [
      "100%|###################################################################################|175/175[00:06<00:00,27.72it/s]"
     ]
    },
    {
     "name": "stdout",
     "output_type": "stream",
     "text": [
      "\u001b[32m[1022 15:00:39 @base.py:285]\u001b[0m Epoch 898 (global_step 188579) finished, time:6.31 seconds.\n",
      "\u001b[32m[1022 15:00:39 @saver.py:79]\u001b[0m Model saved to ../output/Chicago/DATWGAN_30/model\\model-188579.\n",
      "\u001b[32m[1022 15:00:39 @monitor.py:467]\u001b[0m GAN_loss/d_loss: -0.020222\n"
     ]
    },
    {
     "name": "stderr",
     "output_type": "stream",
     "text": [
      "\n"
     ]
    },
    {
     "name": "stdout",
     "output_type": "stream",
     "text": [
      "\u001b[32m[1022 15:00:39 @monitor.py:467]\u001b[0m GAN_loss/g_loss: 0.26426\n",
      "\u001b[32m[1022 15:00:39 @monitor.py:467]\u001b[0m GAN_loss/gradient_penalty: 0.0051166\n",
      "\u001b[32m[1022 15:00:39 @monitor.py:467]\u001b[0m GAN_loss/gradient_rms: 0.99987\n",
      "\u001b[32m[1022 15:00:39 @monitor.py:467]\u001b[0m GAN_loss/kl_div: 0.057905\n",
      "\u001b[32m[1022 15:00:39 @monitor.py:467]\u001b[0m QueueInput/queue_size: 50\n",
      "\u001b[32m[1022 15:00:39 @base.py:275]\u001b[0m Start Epoch 899 ...\n"
     ]
    },
    {
     "name": "stderr",
     "output_type": "stream",
     "text": [
      "100%|###################################################################################|175/175[00:06<00:00,27.76it/s]"
     ]
    },
    {
     "name": "stdout",
     "output_type": "stream",
     "text": [
      "\u001b[32m[1022 15:00:46 @base.py:285]\u001b[0m Epoch 899 (global_step 188789) finished, time:6.3 seconds.\n",
      "\u001b[32m[1022 15:00:46 @saver.py:79]\u001b[0m Model saved to ../output/Chicago/DATWGAN_30/model\\model-188789.\n",
      "\u001b[32m[1022 15:00:46 @monitor.py:467]\u001b[0m GAN_loss/d_loss: -0.032457\n"
     ]
    },
    {
     "name": "stderr",
     "output_type": "stream",
     "text": [
      "\n"
     ]
    },
    {
     "name": "stdout",
     "output_type": "stream",
     "text": [
      "\u001b[32m[1022 15:00:46 @monitor.py:467]\u001b[0m GAN_loss/g_loss: 0.26699\n",
      "\u001b[32m[1022 15:00:46 @monitor.py:467]\u001b[0m GAN_loss/gradient_penalty: 0.005011\n",
      "\u001b[32m[1022 15:00:46 @monitor.py:467]\u001b[0m GAN_loss/gradient_rms: 0.99954\n",
      "\u001b[32m[1022 15:00:46 @monitor.py:467]\u001b[0m GAN_loss/kl_div: 0.056438\n",
      "\u001b[32m[1022 15:00:46 @monitor.py:467]\u001b[0m QueueInput/queue_size: 50\n",
      "\u001b[32m[1022 15:00:46 @base.py:275]\u001b[0m Start Epoch 900 ...\n"
     ]
    },
    {
     "name": "stderr",
     "output_type": "stream",
     "text": [
      "100%|###################################################################################|175/175[00:06<00:00,27.73it/s]"
     ]
    },
    {
     "name": "stdout",
     "output_type": "stream",
     "text": [
      "\u001b[32m[1022 15:00:52 @base.py:285]\u001b[0m Epoch 900 (global_step 188999) finished, time:6.31 seconds.\n",
      "\u001b[32m[1022 15:00:52 @saver.py:79]\u001b[0m Model saved to ../output/Chicago/DATWGAN_30/model\\model-188999.\n"
     ]
    },
    {
     "name": "stderr",
     "output_type": "stream",
     "text": [
      "\n"
     ]
    },
    {
     "name": "stdout",
     "output_type": "stream",
     "text": [
      "\u001b[32m[1022 15:00:52 @monitor.py:467]\u001b[0m GAN_loss/d_loss: -0.034079\n",
      "\u001b[32m[1022 15:00:52 @monitor.py:467]\u001b[0m GAN_loss/g_loss: 0.26029\n",
      "\u001b[32m[1022 15:00:52 @monitor.py:467]\u001b[0m GAN_loss/gradient_penalty: 0.0050578\n",
      "\u001b[32m[1022 15:00:52 @monitor.py:467]\u001b[0m GAN_loss/gradient_rms: 0.99947\n",
      "\u001b[32m[1022 15:00:52 @monitor.py:467]\u001b[0m GAN_loss/kl_div: 0.057496\n",
      "\u001b[32m[1022 15:00:52 @monitor.py:467]\u001b[0m QueueInput/queue_size: 50\n",
      "\u001b[32m[1022 15:00:52 @base.py:275]\u001b[0m Start Epoch 901 ...\n"
     ]
    },
    {
     "name": "stderr",
     "output_type": "stream",
     "text": [
      "100%|###################################################################################|175/175[00:06<00:00,27.73it/s]"
     ]
    },
    {
     "name": "stdout",
     "output_type": "stream",
     "text": [
      "\u001b[32m[1022 15:00:59 @base.py:285]\u001b[0m Epoch 901 (global_step 189209) finished, time:6.31 seconds.\n",
      "\u001b[32m[1022 15:00:59 @saver.py:79]\u001b[0m Model saved to ../output/Chicago/DATWGAN_30/model\\model-189209.\n",
      "\u001b[32m[1022 15:00:59 @monitor.py:467]\u001b[0m GAN_loss/d_loss: -0.031431\n"
     ]
    },
    {
     "name": "stderr",
     "output_type": "stream",
     "text": [
      "\n"
     ]
    },
    {
     "name": "stdout",
     "output_type": "stream",
     "text": [
      "\u001b[32m[1022 15:00:59 @monitor.py:467]\u001b[0m GAN_loss/g_loss: 0.26721\n",
      "\u001b[32m[1022 15:00:59 @monitor.py:467]\u001b[0m GAN_loss/gradient_penalty: 0.0050237\n",
      "\u001b[32m[1022 15:00:59 @monitor.py:467]\u001b[0m GAN_loss/gradient_rms: 0.99841\n",
      "\u001b[32m[1022 15:00:59 @monitor.py:467]\u001b[0m GAN_loss/kl_div: 0.055495\n",
      "\u001b[32m[1022 15:00:59 @monitor.py:467]\u001b[0m QueueInput/queue_size: 50\n",
      "\u001b[32m[1022 15:00:59 @base.py:275]\u001b[0m Start Epoch 902 ...\n"
     ]
    },
    {
     "name": "stderr",
     "output_type": "stream",
     "text": [
      "100%|###################################################################################|175/175[00:06<00:00,27.74it/s]"
     ]
    },
    {
     "name": "stdout",
     "output_type": "stream",
     "text": [
      "\u001b[32m[1022 15:01:05 @base.py:285]\u001b[0m Epoch 902 (global_step 189419) finished, time:6.31 seconds.\n",
      "\u001b[32m[1022 15:01:05 @saver.py:79]\u001b[0m Model saved to ../output/Chicago/DATWGAN_30/model\\model-189419.\n"
     ]
    },
    {
     "name": "stderr",
     "output_type": "stream",
     "text": [
      "\n"
     ]
    },
    {
     "name": "stdout",
     "output_type": "stream",
     "text": [
      "\u001b[32m[1022 15:01:05 @monitor.py:467]\u001b[0m GAN_loss/d_loss: -0.044214\n",
      "\u001b[32m[1022 15:01:05 @monitor.py:467]\u001b[0m GAN_loss/g_loss: 0.27494\n",
      "\u001b[32m[1022 15:01:05 @monitor.py:467]\u001b[0m GAN_loss/gradient_penalty: 0.0050858\n",
      "\u001b[32m[1022 15:01:05 @monitor.py:467]\u001b[0m GAN_loss/gradient_rms: 0.99845\n",
      "\u001b[32m[1022 15:01:05 @monitor.py:467]\u001b[0m GAN_loss/kl_div: 0.059022\n",
      "\u001b[32m[1022 15:01:05 @monitor.py:467]\u001b[0m QueueInput/queue_size: 50\n",
      "\u001b[32m[1022 15:01:05 @base.py:275]\u001b[0m Start Epoch 903 ...\n"
     ]
    },
    {
     "name": "stderr",
     "output_type": "stream",
     "text": [
      "100%|###################################################################################|175/175[00:06<00:00,27.73it/s]"
     ]
    },
    {
     "name": "stdout",
     "output_type": "stream",
     "text": [
      "\u001b[32m[1022 15:01:12 @base.py:285]\u001b[0m Epoch 903 (global_step 189629) finished, time:6.31 seconds.\n",
      "\u001b[32m[1022 15:01:12 @saver.py:79]\u001b[0m Model saved to ../output/Chicago/DATWGAN_30/model\\model-189629.\n",
      "\u001b[32m[1022 15:01:12 @monitor.py:467]\u001b[0m GAN_loss/d_loss: -0.020744\n"
     ]
    },
    {
     "name": "stderr",
     "output_type": "stream",
     "text": [
      "\n"
     ]
    },
    {
     "name": "stdout",
     "output_type": "stream",
     "text": [
      "\u001b[32m[1022 15:01:12 @monitor.py:467]\u001b[0m GAN_loss/g_loss: 0.26627\n",
      "\u001b[32m[1022 15:01:12 @monitor.py:467]\u001b[0m GAN_loss/gradient_penalty: 0.0051607\n",
      "\u001b[32m[1022 15:01:12 @monitor.py:467]\u001b[0m GAN_loss/gradient_rms: 0.99843\n",
      "\u001b[32m[1022 15:01:12 @monitor.py:467]\u001b[0m GAN_loss/kl_div: 0.056654\n",
      "\u001b[32m[1022 15:01:12 @monitor.py:467]\u001b[0m QueueInput/queue_size: 50\n",
      "\u001b[32m[1022 15:01:12 @base.py:275]\u001b[0m Start Epoch 904 ...\n"
     ]
    },
    {
     "name": "stderr",
     "output_type": "stream",
     "text": [
      "100%|###################################################################################|175/175[00:06<00:00,27.76it/s]"
     ]
    },
    {
     "name": "stdout",
     "output_type": "stream",
     "text": [
      "\u001b[32m[1022 15:01:18 @base.py:285]\u001b[0m Epoch 904 (global_step 189839) finished, time:6.3 seconds.\n",
      "\u001b[32m[1022 15:01:18 @saver.py:79]\u001b[0m Model saved to ../output/Chicago/DATWGAN_30/model\\model-189839.\n"
     ]
    },
    {
     "name": "stderr",
     "output_type": "stream",
     "text": [
      "\n"
     ]
    },
    {
     "name": "stdout",
     "output_type": "stream",
     "text": [
      "\u001b[32m[1022 15:01:18 @monitor.py:467]\u001b[0m GAN_loss/d_loss: -0.025959\n",
      "\u001b[32m[1022 15:01:18 @monitor.py:467]\u001b[0m GAN_loss/g_loss: 0.27852\n",
      "\u001b[32m[1022 15:01:18 @monitor.py:467]\u001b[0m GAN_loss/gradient_penalty: 0.0051393\n",
      "\u001b[32m[1022 15:01:18 @monitor.py:467]\u001b[0m GAN_loss/gradient_rms: 0.99996\n",
      "\u001b[32m[1022 15:01:18 @monitor.py:467]\u001b[0m GAN_loss/kl_div: 0.062035\n",
      "\u001b[32m[1022 15:01:18 @monitor.py:467]\u001b[0m QueueInput/queue_size: 50\n",
      "\u001b[32m[1022 15:01:18 @base.py:275]\u001b[0m Start Epoch 905 ...\n"
     ]
    },
    {
     "name": "stderr",
     "output_type": "stream",
     "text": [
      "100%|###################################################################################|175/175[00:06<00:00,27.75it/s]"
     ]
    },
    {
     "name": "stdout",
     "output_type": "stream",
     "text": [
      "\u001b[32m[1022 15:01:25 @base.py:285]\u001b[0m Epoch 905 (global_step 190049) finished, time:6.31 seconds.\n",
      "\u001b[32m[1022 15:01:25 @saver.py:79]\u001b[0m Model saved to ../output/Chicago/DATWGAN_30/model\\model-190049.\n",
      "\u001b[32m[1022 15:01:25 @monitor.py:467]\u001b[0m GAN_loss/d_loss: -0.026487\n"
     ]
    },
    {
     "name": "stderr",
     "output_type": "stream",
     "text": [
      "\n"
     ]
    },
    {
     "name": "stdout",
     "output_type": "stream",
     "text": [
      "\u001b[32m[1022 15:01:25 @monitor.py:467]\u001b[0m GAN_loss/g_loss: 0.2785\n",
      "\u001b[32m[1022 15:01:25 @monitor.py:467]\u001b[0m GAN_loss/gradient_penalty: 0.005003\n",
      "\u001b[32m[1022 15:01:25 @monitor.py:467]\u001b[0m GAN_loss/gradient_rms: 0.99847\n",
      "\u001b[32m[1022 15:01:25 @monitor.py:467]\u001b[0m GAN_loss/kl_div: 0.058407\n",
      "\u001b[32m[1022 15:01:25 @monitor.py:467]\u001b[0m QueueInput/queue_size: 50\n",
      "\u001b[32m[1022 15:01:25 @base.py:275]\u001b[0m Start Epoch 906 ...\n"
     ]
    },
    {
     "name": "stderr",
     "output_type": "stream",
     "text": [
      "100%|###################################################################################|175/175[00:06<00:00,27.75it/s]"
     ]
    },
    {
     "name": "stdout",
     "output_type": "stream",
     "text": [
      "\u001b[32m[1022 15:01:31 @base.py:285]\u001b[0m Epoch 906 (global_step 190259) finished, time:6.31 seconds.\n",
      "\u001b[32m[1022 15:01:31 @saver.py:79]\u001b[0m Model saved to ../output/Chicago/DATWGAN_30/model\\model-190259.\n"
     ]
    },
    {
     "name": "stderr",
     "output_type": "stream",
     "text": [
      "\n"
     ]
    },
    {
     "name": "stdout",
     "output_type": "stream",
     "text": [
      "\u001b[32m[1022 15:01:31 @monitor.py:467]\u001b[0m GAN_loss/d_loss: -0.01965\n",
      "\u001b[32m[1022 15:01:31 @monitor.py:467]\u001b[0m GAN_loss/g_loss: 0.2722\n",
      "\u001b[32m[1022 15:01:31 @monitor.py:467]\u001b[0m GAN_loss/gradient_penalty: 0.0050744\n",
      "\u001b[32m[1022 15:01:31 @monitor.py:467]\u001b[0m GAN_loss/gradient_rms: 0.99873\n",
      "\u001b[32m[1022 15:01:31 @monitor.py:467]\u001b[0m GAN_loss/kl_div: 0.058407\n",
      "\u001b[32m[1022 15:01:31 @monitor.py:467]\u001b[0m QueueInput/queue_size: 50\n",
      "\u001b[32m[1022 15:01:31 @base.py:275]\u001b[0m Start Epoch 907 ...\n"
     ]
    },
    {
     "name": "stderr",
     "output_type": "stream",
     "text": [
      "100%|###################################################################################|175/175[00:06<00:00,27.74it/s]"
     ]
    },
    {
     "name": "stdout",
     "output_type": "stream",
     "text": [
      "\u001b[32m[1022 15:01:38 @base.py:285]\u001b[0m Epoch 907 (global_step 190469) finished, time:6.31 seconds.\n",
      "\u001b[32m[1022 15:01:38 @saver.py:79]\u001b[0m Model saved to ../output/Chicago/DATWGAN_30/model\\model-190469.\n"
     ]
    },
    {
     "name": "stderr",
     "output_type": "stream",
     "text": [
      "\n"
     ]
    },
    {
     "name": "stdout",
     "output_type": "stream",
     "text": [
      "\u001b[32m[1022 15:01:38 @monitor.py:467]\u001b[0m GAN_loss/d_loss: -0.01953\n",
      "\u001b[32m[1022 15:01:38 @monitor.py:467]\u001b[0m GAN_loss/g_loss: 0.2819\n",
      "\u001b[32m[1022 15:01:38 @monitor.py:467]\u001b[0m GAN_loss/gradient_penalty: 0.0051451\n",
      "\u001b[32m[1022 15:01:38 @monitor.py:467]\u001b[0m GAN_loss/gradient_rms: 0.99959\n",
      "\u001b[32m[1022 15:01:38 @monitor.py:467]\u001b[0m GAN_loss/kl_div: 0.061115\n",
      "\u001b[32m[1022 15:01:38 @monitor.py:467]\u001b[0m QueueInput/queue_size: 50\n",
      "\u001b[32m[1022 15:01:38 @base.py:275]\u001b[0m Start Epoch 908 ...\n"
     ]
    },
    {
     "name": "stderr",
     "output_type": "stream",
     "text": [
      "100%|###################################################################################|175/175[00:06<00:00,27.73it/s]"
     ]
    },
    {
     "name": "stdout",
     "output_type": "stream",
     "text": [
      "\u001b[32m[1022 15:01:44 @base.py:285]\u001b[0m Epoch 908 (global_step 190679) finished, time:6.31 seconds.\n",
      "\u001b[32m[1022 15:01:44 @saver.py:79]\u001b[0m Model saved to ../output/Chicago/DATWGAN_30/model\\model-190679.\n",
      "\u001b[32m[1022 15:01:44 @monitor.py:467]\u001b[0m GAN_loss/d_loss: -0.034026\n"
     ]
    },
    {
     "name": "stderr",
     "output_type": "stream",
     "text": [
      "\n"
     ]
    },
    {
     "name": "stdout",
     "output_type": "stream",
     "text": [
      "\u001b[32m[1022 15:01:44 @monitor.py:467]\u001b[0m GAN_loss/g_loss: 0.28198\n",
      "\u001b[32m[1022 15:01:44 @monitor.py:467]\u001b[0m GAN_loss/gradient_penalty: 0.0049663\n",
      "\u001b[32m[1022 15:01:44 @monitor.py:467]\u001b[0m GAN_loss/gradient_rms: 0.99886\n",
      "\u001b[32m[1022 15:01:44 @monitor.py:467]\u001b[0m GAN_loss/kl_div: 0.062336\n",
      "\u001b[32m[1022 15:01:44 @monitor.py:467]\u001b[0m QueueInput/queue_size: 50\n",
      "\u001b[32m[1022 15:01:44 @base.py:275]\u001b[0m Start Epoch 909 ...\n"
     ]
    },
    {
     "name": "stderr",
     "output_type": "stream",
     "text": [
      "100%|###################################################################################|175/175[00:06<00:00,27.74it/s]"
     ]
    },
    {
     "name": "stdout",
     "output_type": "stream",
     "text": [
      "\u001b[32m[1022 15:01:51 @base.py:285]\u001b[0m Epoch 909 (global_step 190889) finished, time:6.31 seconds.\n",
      "\u001b[32m[1022 15:01:51 @saver.py:79]\u001b[0m Model saved to ../output/Chicago/DATWGAN_30/model\\model-190889.\n"
     ]
    },
    {
     "name": "stderr",
     "output_type": "stream",
     "text": [
      "\n"
     ]
    },
    {
     "name": "stdout",
     "output_type": "stream",
     "text": [
      "\u001b[32m[1022 15:01:51 @monitor.py:467]\u001b[0m GAN_loss/d_loss: -0.03278\n",
      "\u001b[32m[1022 15:01:51 @monitor.py:467]\u001b[0m GAN_loss/g_loss: 0.27319\n",
      "\u001b[32m[1022 15:01:51 @monitor.py:467]\u001b[0m GAN_loss/gradient_penalty: 0.0050422\n",
      "\u001b[32m[1022 15:01:51 @monitor.py:467]\u001b[0m GAN_loss/gradient_rms: 0.99869\n",
      "\u001b[32m[1022 15:01:51 @monitor.py:467]\u001b[0m GAN_loss/kl_div: 0.058995\n",
      "\u001b[32m[1022 15:01:51 @monitor.py:467]\u001b[0m QueueInput/queue_size: 50\n",
      "\u001b[32m[1022 15:01:51 @base.py:275]\u001b[0m Start Epoch 910 ...\n"
     ]
    },
    {
     "name": "stderr",
     "output_type": "stream",
     "text": [
      "100%|###################################################################################|175/175[00:06<00:00,27.73it/s]"
     ]
    },
    {
     "name": "stdout",
     "output_type": "stream",
     "text": [
      "\u001b[32m[1022 15:01:57 @base.py:285]\u001b[0m Epoch 910 (global_step 191099) finished, time:6.31 seconds.\n",
      "\u001b[32m[1022 15:01:57 @saver.py:79]\u001b[0m Model saved to ../output/Chicago/DATWGAN_30/model\\model-191099.\n",
      "\u001b[32m[1022 15:01:58 @monitor.py:467]\u001b[0m GAN_loss/d_loss: -0.024985\n"
     ]
    },
    {
     "name": "stderr",
     "output_type": "stream",
     "text": [
      "\n"
     ]
    },
    {
     "name": "stdout",
     "output_type": "stream",
     "text": [
      "\u001b[32m[1022 15:01:58 @monitor.py:467]\u001b[0m GAN_loss/g_loss: 0.27288\n",
      "\u001b[32m[1022 15:01:58 @monitor.py:467]\u001b[0m GAN_loss/gradient_penalty: 0.0050721\n",
      "\u001b[32m[1022 15:01:58 @monitor.py:467]\u001b[0m GAN_loss/gradient_rms: 0.99963\n",
      "\u001b[32m[1022 15:01:58 @monitor.py:467]\u001b[0m GAN_loss/kl_div: 0.055849\n",
      "\u001b[32m[1022 15:01:58 @monitor.py:467]\u001b[0m QueueInput/queue_size: 50\n",
      "\u001b[32m[1022 15:01:58 @base.py:275]\u001b[0m Start Epoch 911 ...\n"
     ]
    },
    {
     "name": "stderr",
     "output_type": "stream",
     "text": [
      "100%|###################################################################################|175/175[00:06<00:00,27.75it/s]"
     ]
    },
    {
     "name": "stdout",
     "output_type": "stream",
     "text": [
      "\u001b[32m[1022 15:02:04 @base.py:285]\u001b[0m Epoch 911 (global_step 191309) finished, time:6.31 seconds.\n",
      "\u001b[32m[1022 15:02:04 @saver.py:79]\u001b[0m Model saved to ../output/Chicago/DATWGAN_30/model\\model-191309.\n"
     ]
    },
    {
     "name": "stderr",
     "output_type": "stream",
     "text": [
      "\n"
     ]
    },
    {
     "name": "stdout",
     "output_type": "stream",
     "text": [
      "\u001b[32m[1022 15:02:04 @monitor.py:467]\u001b[0m GAN_loss/d_loss: -0.01808\n",
      "\u001b[32m[1022 15:02:04 @monitor.py:467]\u001b[0m GAN_loss/g_loss: 0.27889\n",
      "\u001b[32m[1022 15:02:04 @monitor.py:467]\u001b[0m GAN_loss/gradient_penalty: 0.0050659\n",
      "\u001b[32m[1022 15:02:04 @monitor.py:467]\u001b[0m GAN_loss/gradient_rms: 0.99887\n",
      "\u001b[32m[1022 15:02:04 @monitor.py:467]\u001b[0m GAN_loss/kl_div: 0.05842\n",
      "\u001b[32m[1022 15:02:04 @monitor.py:467]\u001b[0m QueueInput/queue_size: 50\n",
      "\u001b[32m[1022 15:02:04 @base.py:275]\u001b[0m Start Epoch 912 ...\n"
     ]
    },
    {
     "name": "stderr",
     "output_type": "stream",
     "text": [
      "100%|###################################################################################|175/175[00:06<00:00,27.74it/s]"
     ]
    },
    {
     "name": "stdout",
     "output_type": "stream",
     "text": [
      "\u001b[32m[1022 15:02:10 @base.py:285]\u001b[0m Epoch 912 (global_step 191519) finished, time:6.31 seconds.\n",
      "\u001b[32m[1022 15:02:10 @saver.py:79]\u001b[0m Model saved to ../output/Chicago/DATWGAN_30/model\\model-191519.\n",
      "\u001b[32m[1022 15:02:11 @monitor.py:467]\u001b[0m GAN_loss/d_loss: -0.030187\n"
     ]
    },
    {
     "name": "stderr",
     "output_type": "stream",
     "text": [
      "\n"
     ]
    },
    {
     "name": "stdout",
     "output_type": "stream",
     "text": [
      "\u001b[32m[1022 15:02:11 @monitor.py:467]\u001b[0m GAN_loss/g_loss: 0.29183\n",
      "\u001b[32m[1022 15:02:11 @monitor.py:467]\u001b[0m GAN_loss/gradient_penalty: 0.0049797\n",
      "\u001b[32m[1022 15:02:11 @monitor.py:467]\u001b[0m GAN_loss/gradient_rms: 0.99911\n",
      "\u001b[32m[1022 15:02:11 @monitor.py:467]\u001b[0m GAN_loss/kl_div: 0.059897\n",
      "\u001b[32m[1022 15:02:11 @monitor.py:467]\u001b[0m QueueInput/queue_size: 50\n",
      "\u001b[32m[1022 15:02:11 @base.py:275]\u001b[0m Start Epoch 913 ...\n"
     ]
    },
    {
     "name": "stderr",
     "output_type": "stream",
     "text": [
      "100%|###################################################################################|175/175[00:06<00:00,27.73it/s]"
     ]
    },
    {
     "name": "stdout",
     "output_type": "stream",
     "text": [
      "\u001b[32m[1022 15:02:17 @base.py:285]\u001b[0m Epoch 913 (global_step 191729) finished, time:6.31 seconds.\n",
      "\u001b[32m[1022 15:02:17 @saver.py:79]\u001b[0m Model saved to ../output/Chicago/DATWGAN_30/model\\model-191729.\n",
      "\u001b[32m[1022 15:02:17 @monitor.py:467]\u001b[0m GAN_loss/d_loss: -0.045004\n"
     ]
    },
    {
     "name": "stderr",
     "output_type": "stream",
     "text": [
      "\n"
     ]
    },
    {
     "name": "stdout",
     "output_type": "stream",
     "text": [
      "\u001b[32m[1022 15:02:17 @monitor.py:467]\u001b[0m GAN_loss/g_loss: 0.29492\n",
      "\u001b[32m[1022 15:02:17 @monitor.py:467]\u001b[0m GAN_loss/gradient_penalty: 0.0050161\n",
      "\u001b[32m[1022 15:02:17 @monitor.py:467]\u001b[0m GAN_loss/gradient_rms: 1\n",
      "\u001b[32m[1022 15:02:17 @monitor.py:467]\u001b[0m GAN_loss/kl_div: 0.0621\n",
      "\u001b[32m[1022 15:02:17 @monitor.py:467]\u001b[0m QueueInput/queue_size: 50\n",
      "\u001b[32m[1022 15:02:17 @base.py:275]\u001b[0m Start Epoch 914 ...\n"
     ]
    },
    {
     "name": "stderr",
     "output_type": "stream",
     "text": [
      "100%|###################################################################################|175/175[00:06<00:00,27.72it/s]"
     ]
    },
    {
     "name": "stdout",
     "output_type": "stream",
     "text": [
      "\u001b[32m[1022 15:02:23 @base.py:285]\u001b[0m Epoch 914 (global_step 191939) finished, time:6.31 seconds.\n",
      "\u001b[32m[1022 15:02:23 @saver.py:79]\u001b[0m Model saved to ../output/Chicago/DATWGAN_30/model\\model-191939.\n"
     ]
    },
    {
     "name": "stderr",
     "output_type": "stream",
     "text": [
      "\n"
     ]
    },
    {
     "name": "stdout",
     "output_type": "stream",
     "text": [
      "\u001b[32m[1022 15:02:24 @monitor.py:467]\u001b[0m GAN_loss/d_loss: -0.02619\n",
      "\u001b[32m[1022 15:02:24 @monitor.py:467]\u001b[0m GAN_loss/g_loss: 0.27443\n",
      "\u001b[32m[1022 15:02:24 @monitor.py:467]\u001b[0m GAN_loss/gradient_penalty: 0.0049808\n",
      "\u001b[32m[1022 15:02:24 @monitor.py:467]\u001b[0m GAN_loss/gradient_rms: 0.99888\n",
      "\u001b[32m[1022 15:02:24 @monitor.py:467]\u001b[0m GAN_loss/kl_div: 0.060436\n",
      "\u001b[32m[1022 15:02:24 @monitor.py:467]\u001b[0m QueueInput/queue_size: 50\n",
      "\u001b[32m[1022 15:02:24 @base.py:275]\u001b[0m Start Epoch 915 ...\n"
     ]
    },
    {
     "name": "stderr",
     "output_type": "stream",
     "text": [
      "100%|###################################################################################|175/175[00:06<00:00,27.72it/s]"
     ]
    },
    {
     "name": "stdout",
     "output_type": "stream",
     "text": [
      "\u001b[32m[1022 15:02:30 @base.py:285]\u001b[0m Epoch 915 (global_step 192149) finished, time:6.31 seconds.\n",
      "\u001b[32m[1022 15:02:30 @saver.py:79]\u001b[0m Model saved to ../output/Chicago/DATWGAN_30/model\\model-192149.\n",
      "\u001b[32m[1022 15:02:30 @monitor.py:467]\u001b[0m GAN_loss/d_loss: -0.013105\n"
     ]
    },
    {
     "name": "stderr",
     "output_type": "stream",
     "text": [
      "\n"
     ]
    },
    {
     "name": "stdout",
     "output_type": "stream",
     "text": [
      "\u001b[32m[1022 15:02:30 @monitor.py:467]\u001b[0m GAN_loss/g_loss: 0.27195\n",
      "\u001b[32m[1022 15:02:30 @monitor.py:467]\u001b[0m GAN_loss/gradient_penalty: 0.0049974\n",
      "\u001b[32m[1022 15:02:30 @monitor.py:467]\u001b[0m GAN_loss/gradient_rms: 0.99793\n",
      "\u001b[32m[1022 15:02:30 @monitor.py:467]\u001b[0m GAN_loss/kl_div: 0.063047\n",
      "\u001b[32m[1022 15:02:30 @monitor.py:467]\u001b[0m QueueInput/queue_size: 50\n",
      "\u001b[32m[1022 15:02:30 @base.py:275]\u001b[0m Start Epoch 916 ...\n"
     ]
    },
    {
     "name": "stderr",
     "output_type": "stream",
     "text": [
      "100%|###################################################################################|175/175[00:06<00:00,27.73it/s]"
     ]
    },
    {
     "name": "stdout",
     "output_type": "stream",
     "text": [
      "\u001b[32m[1022 15:02:36 @base.py:285]\u001b[0m Epoch 916 (global_step 192359) finished, time:6.31 seconds.\n",
      "\u001b[32m[1022 15:02:36 @saver.py:79]\u001b[0m Model saved to ../output/Chicago/DATWGAN_30/model\\model-192359.\n"
     ]
    },
    {
     "name": "stderr",
     "output_type": "stream",
     "text": [
      "\n"
     ]
    },
    {
     "name": "stdout",
     "output_type": "stream",
     "text": [
      "\u001b[32m[1022 15:02:37 @monitor.py:467]\u001b[0m GAN_loss/d_loss: -0.026475\n",
      "\u001b[32m[1022 15:02:37 @monitor.py:467]\u001b[0m GAN_loss/g_loss: 0.28479\n",
      "\u001b[32m[1022 15:02:37 @monitor.py:467]\u001b[0m GAN_loss/gradient_penalty: 0.0050514\n",
      "\u001b[32m[1022 15:02:37 @monitor.py:467]\u001b[0m GAN_loss/gradient_rms: 0.99912\n",
      "\u001b[32m[1022 15:02:37 @monitor.py:467]\u001b[0m GAN_loss/kl_div: 0.06135\n",
      "\u001b[32m[1022 15:02:37 @monitor.py:467]\u001b[0m QueueInput/queue_size: 50\n",
      "\u001b[32m[1022 15:02:37 @base.py:275]\u001b[0m Start Epoch 917 ...\n"
     ]
    },
    {
     "name": "stderr",
     "output_type": "stream",
     "text": [
      "100%|###################################################################################|175/175[00:06<00:00,27.70it/s]"
     ]
    },
    {
     "name": "stdout",
     "output_type": "stream",
     "text": [
      "\u001b[32m[1022 15:02:43 @base.py:285]\u001b[0m Epoch 917 (global_step 192569) finished, time:6.32 seconds.\n",
      "\u001b[32m[1022 15:02:43 @saver.py:79]\u001b[0m Model saved to ../output/Chicago/DATWGAN_30/model\\model-192569.\n",
      "\u001b[32m[1022 15:02:43 @monitor.py:467]\u001b[0m GAN_loss/d_loss: -0.0166\n"
     ]
    },
    {
     "name": "stderr",
     "output_type": "stream",
     "text": [
      "\n"
     ]
    },
    {
     "name": "stdout",
     "output_type": "stream",
     "text": [
      "\u001b[32m[1022 15:02:43 @monitor.py:467]\u001b[0m GAN_loss/g_loss: 0.28408\n",
      "\u001b[32m[1022 15:02:43 @monitor.py:467]\u001b[0m GAN_loss/gradient_penalty: 0.0050471\n",
      "\u001b[32m[1022 15:02:43 @monitor.py:467]\u001b[0m GAN_loss/gradient_rms: 0.99807\n",
      "\u001b[32m[1022 15:02:43 @monitor.py:467]\u001b[0m GAN_loss/kl_div: 0.062513\n",
      "\u001b[32m[1022 15:02:43 @monitor.py:467]\u001b[0m QueueInput/queue_size: 50\n",
      "\u001b[32m[1022 15:02:43 @base.py:275]\u001b[0m Start Epoch 918 ...\n"
     ]
    },
    {
     "name": "stderr",
     "output_type": "stream",
     "text": [
      "100%|###################################################################################|175/175[00:06<00:00,27.73it/s]"
     ]
    },
    {
     "name": "stdout",
     "output_type": "stream",
     "text": [
      "\u001b[32m[1022 15:02:49 @base.py:285]\u001b[0m Epoch 918 (global_step 192779) finished, time:6.31 seconds.\n",
      "\u001b[32m[1022 15:02:49 @saver.py:79]\u001b[0m Model saved to ../output/Chicago/DATWGAN_30/model\\model-192779.\n",
      "\u001b[32m[1022 15:02:50 @monitor.py:467]\u001b[0m GAN_loss/d_loss: -0.015806\n"
     ]
    },
    {
     "name": "stderr",
     "output_type": "stream",
     "text": [
      "\n"
     ]
    },
    {
     "name": "stdout",
     "output_type": "stream",
     "text": [
      "\u001b[32m[1022 15:02:50 @monitor.py:467]\u001b[0m GAN_loss/g_loss: 0.27088\n",
      "\u001b[32m[1022 15:02:50 @monitor.py:467]\u001b[0m GAN_loss/gradient_penalty: 0.0051304\n",
      "\u001b[32m[1022 15:02:50 @monitor.py:467]\u001b[0m GAN_loss/gradient_rms: 0.99808\n",
      "\u001b[32m[1022 15:02:50 @monitor.py:467]\u001b[0m GAN_loss/kl_div: 0.060703\n",
      "\u001b[32m[1022 15:02:50 @monitor.py:467]\u001b[0m QueueInput/queue_size: 50\n",
      "\u001b[32m[1022 15:02:50 @base.py:275]\u001b[0m Start Epoch 919 ...\n"
     ]
    },
    {
     "name": "stderr",
     "output_type": "stream",
     "text": [
      "100%|###################################################################################|175/175[00:06<00:00,27.72it/s]"
     ]
    },
    {
     "name": "stdout",
     "output_type": "stream",
     "text": [
      "\u001b[32m[1022 15:02:56 @base.py:285]\u001b[0m Epoch 919 (global_step 192989) finished, time:6.31 seconds.\n",
      "\u001b[32m[1022 15:02:56 @saver.py:79]\u001b[0m Model saved to ../output/Chicago/DATWGAN_30/model\\model-192989.\n",
      "\u001b[32m[1022 15:02:56 @monitor.py:467]\u001b[0m GAN_loss/d_loss: -0.029291\n"
     ]
    },
    {
     "name": "stderr",
     "output_type": "stream",
     "text": [
      "\n"
     ]
    },
    {
     "name": "stdout",
     "output_type": "stream",
     "text": [
      "\u001b[32m[1022 15:02:56 @monitor.py:467]\u001b[0m GAN_loss/g_loss: 0.28073\n",
      "\u001b[32m[1022 15:02:56 @monitor.py:467]\u001b[0m GAN_loss/gradient_penalty: 0.0049816\n",
      "\u001b[32m[1022 15:02:56 @monitor.py:467]\u001b[0m GAN_loss/gradient_rms: 0.99935\n",
      "\u001b[32m[1022 15:02:56 @monitor.py:467]\u001b[0m GAN_loss/kl_div: 0.055894\n",
      "\u001b[32m[1022 15:02:56 @monitor.py:467]\u001b[0m QueueInput/queue_size: 50\n",
      "\u001b[32m[1022 15:02:56 @base.py:275]\u001b[0m Start Epoch 920 ...\n"
     ]
    },
    {
     "name": "stderr",
     "output_type": "stream",
     "text": [
      "100%|###################################################################################|175/175[00:06<00:00,27.73it/s]"
     ]
    },
    {
     "name": "stdout",
     "output_type": "stream",
     "text": [
      "\u001b[32m[1022 15:03:02 @base.py:285]\u001b[0m Epoch 920 (global_step 193199) finished, time:6.31 seconds.\n",
      "\u001b[32m[1022 15:03:02 @saver.py:79]\u001b[0m Model saved to ../output/Chicago/DATWGAN_30/model\\model-193199.\n",
      "\u001b[32m[1022 15:03:03 @monitor.py:467]\u001b[0m GAN_loss/d_loss: -0.027757\n"
     ]
    },
    {
     "name": "stderr",
     "output_type": "stream",
     "text": [
      "\n"
     ]
    },
    {
     "name": "stdout",
     "output_type": "stream",
     "text": [
      "\u001b[32m[1022 15:03:03 @monitor.py:467]\u001b[0m GAN_loss/g_loss: 0.26853\n",
      "\u001b[32m[1022 15:03:03 @monitor.py:467]\u001b[0m GAN_loss/gradient_penalty: 0.0049968\n",
      "\u001b[32m[1022 15:03:03 @monitor.py:467]\u001b[0m GAN_loss/gradient_rms: 0.9991\n",
      "\u001b[32m[1022 15:03:03 @monitor.py:467]\u001b[0m GAN_loss/kl_div: 0.057931\n",
      "\u001b[32m[1022 15:03:03 @monitor.py:467]\u001b[0m QueueInput/queue_size: 50\n",
      "\u001b[32m[1022 15:03:03 @base.py:275]\u001b[0m Start Epoch 921 ...\n"
     ]
    },
    {
     "name": "stderr",
     "output_type": "stream",
     "text": [
      "100%|###################################################################################|175/175[00:06<00:00,27.74it/s]"
     ]
    },
    {
     "name": "stdout",
     "output_type": "stream",
     "text": [
      "\u001b[32m[1022 15:03:09 @base.py:285]\u001b[0m Epoch 921 (global_step 193409) finished, time:6.31 seconds.\n",
      "\u001b[32m[1022 15:03:09 @saver.py:79]\u001b[0m Model saved to ../output/Chicago/DATWGAN_30/model\\model-193409.\n"
     ]
    },
    {
     "name": "stderr",
     "output_type": "stream",
     "text": [
      "\n"
     ]
    },
    {
     "name": "stdout",
     "output_type": "stream",
     "text": [
      "\u001b[32m[1022 15:03:09 @monitor.py:467]\u001b[0m GAN_loss/d_loss: -0.032335\n",
      "\u001b[32m[1022 15:03:09 @monitor.py:467]\u001b[0m GAN_loss/g_loss: 0.25644\n",
      "\u001b[32m[1022 15:03:09 @monitor.py:467]\u001b[0m GAN_loss/gradient_penalty: 0.0050376\n",
      "\u001b[32m[1022 15:03:09 @monitor.py:467]\u001b[0m GAN_loss/gradient_rms: 1.0001\n",
      "\u001b[32m[1022 15:03:09 @monitor.py:467]\u001b[0m GAN_loss/kl_div: 0.057411\n",
      "\u001b[32m[1022 15:03:09 @monitor.py:467]\u001b[0m QueueInput/queue_size: 50\n",
      "\u001b[32m[1022 15:03:09 @base.py:275]\u001b[0m Start Epoch 922 ...\n"
     ]
    },
    {
     "name": "stderr",
     "output_type": "stream",
     "text": [
      "100%|###################################################################################|175/175[00:06<00:00,27.73it/s]"
     ]
    },
    {
     "name": "stdout",
     "output_type": "stream",
     "text": [
      "\u001b[32m[1022 15:03:15 @base.py:285]\u001b[0m Epoch 922 (global_step 193619) finished, time:6.31 seconds.\n",
      "\u001b[32m[1022 15:03:15 @saver.py:79]\u001b[0m Model saved to ../output/Chicago/DATWGAN_30/model\\model-193619.\n",
      "\u001b[32m[1022 15:03:16 @monitor.py:467]\u001b[0m GAN_loss/d_loss: -0.030918\n"
     ]
    },
    {
     "name": "stderr",
     "output_type": "stream",
     "text": [
      "\n"
     ]
    },
    {
     "name": "stdout",
     "output_type": "stream",
     "text": [
      "\u001b[32m[1022 15:03:16 @monitor.py:467]\u001b[0m GAN_loss/g_loss: 0.27315\n",
      "\u001b[32m[1022 15:03:16 @monitor.py:467]\u001b[0m GAN_loss/gradient_penalty: 0.0049748\n",
      "\u001b[32m[1022 15:03:16 @monitor.py:467]\u001b[0m GAN_loss/gradient_rms: 0.999\n",
      "\u001b[32m[1022 15:03:16 @monitor.py:467]\u001b[0m GAN_loss/kl_div: 0.056967\n",
      "\u001b[32m[1022 15:03:16 @monitor.py:467]\u001b[0m QueueInput/queue_size: 50\n",
      "\u001b[32m[1022 15:03:16 @base.py:275]\u001b[0m Start Epoch 923 ...\n"
     ]
    },
    {
     "name": "stderr",
     "output_type": "stream",
     "text": [
      "100%|###################################################################################|175/175[00:06<00:00,27.73it/s]"
     ]
    },
    {
     "name": "stdout",
     "output_type": "stream",
     "text": [
      "\u001b[32m[1022 15:03:22 @base.py:285]\u001b[0m Epoch 923 (global_step 193829) finished, time:6.31 seconds.\n",
      "\u001b[32m[1022 15:03:22 @saver.py:79]\u001b[0m Model saved to ../output/Chicago/DATWGAN_30/model\\model-193829.\n",
      "\u001b[32m[1022 15:03:22 @monitor.py:467]\u001b[0m GAN_loss/d_loss: -0.020968\n"
     ]
    },
    {
     "name": "stderr",
     "output_type": "stream",
     "text": [
      "\n"
     ]
    },
    {
     "name": "stdout",
     "output_type": "stream",
     "text": [
      "\u001b[32m[1022 15:03:22 @monitor.py:467]\u001b[0m GAN_loss/g_loss: 0.26742\n",
      "\u001b[32m[1022 15:03:22 @monitor.py:467]\u001b[0m GAN_loss/gradient_penalty: 0.00503\n",
      "\u001b[32m[1022 15:03:22 @monitor.py:467]\u001b[0m GAN_loss/gradient_rms: 0.99874\n",
      "\u001b[32m[1022 15:03:22 @monitor.py:467]\u001b[0m GAN_loss/kl_div: 0.059869\n",
      "\u001b[32m[1022 15:03:22 @monitor.py:467]\u001b[0m QueueInput/queue_size: 50\n",
      "\u001b[32m[1022 15:03:22 @base.py:275]\u001b[0m Start Epoch 924 ...\n"
     ]
    },
    {
     "name": "stderr",
     "output_type": "stream",
     "text": [
      "100%|###################################################################################|175/175[00:06<00:00,27.73it/s]"
     ]
    },
    {
     "name": "stdout",
     "output_type": "stream",
     "text": [
      "\u001b[32m[1022 15:03:28 @base.py:285]\u001b[0m Epoch 924 (global_step 194039) finished, time:6.31 seconds.\n",
      "\u001b[32m[1022 15:03:28 @saver.py:79]\u001b[0m Model saved to ../output/Chicago/DATWGAN_30/model\\model-194039.\n"
     ]
    },
    {
     "name": "stderr",
     "output_type": "stream",
     "text": [
      "\n"
     ]
    },
    {
     "name": "stdout",
     "output_type": "stream",
     "text": [
      "\u001b[32m[1022 15:03:29 @monitor.py:467]\u001b[0m GAN_loss/d_loss: -0.028966\n",
      "\u001b[32m[1022 15:03:29 @monitor.py:467]\u001b[0m GAN_loss/g_loss: 0.27865\n",
      "\u001b[32m[1022 15:03:29 @monitor.py:467]\u001b[0m GAN_loss/gradient_penalty: 0.004892\n",
      "\u001b[32m[1022 15:03:29 @monitor.py:467]\u001b[0m GAN_loss/gradient_rms: 0.99941\n",
      "\u001b[32m[1022 15:03:29 @monitor.py:467]\u001b[0m GAN_loss/kl_div: 0.060587\n",
      "\u001b[32m[1022 15:03:29 @monitor.py:467]\u001b[0m QueueInput/queue_size: 50\n",
      "\u001b[32m[1022 15:03:29 @base.py:275]\u001b[0m Start Epoch 925 ...\n"
     ]
    },
    {
     "name": "stderr",
     "output_type": "stream",
     "text": [
      "100%|###################################################################################|175/175[00:06<00:00,27.74it/s]"
     ]
    },
    {
     "name": "stdout",
     "output_type": "stream",
     "text": [
      "\u001b[32m[1022 15:03:35 @base.py:285]\u001b[0m Epoch 925 (global_step 194249) finished, time:6.31 seconds.\n",
      "\u001b[32m[1022 15:03:35 @saver.py:79]\u001b[0m Model saved to ../output/Chicago/DATWGAN_30/model\\model-194249.\n"
     ]
    },
    {
     "name": "stderr",
     "output_type": "stream",
     "text": [
      "\n"
     ]
    },
    {
     "name": "stdout",
     "output_type": "stream",
     "text": [
      "\u001b[32m[1022 15:03:35 @monitor.py:467]\u001b[0m GAN_loss/d_loss: -0.030117\n",
      "\u001b[32m[1022 15:03:35 @monitor.py:467]\u001b[0m GAN_loss/g_loss: 0.27643\n",
      "\u001b[32m[1022 15:03:35 @monitor.py:467]\u001b[0m GAN_loss/gradient_penalty: 0.0052048\n",
      "\u001b[32m[1022 15:03:35 @monitor.py:467]\u001b[0m GAN_loss/gradient_rms: 0.99924\n",
      "\u001b[32m[1022 15:03:35 @monitor.py:467]\u001b[0m GAN_loss/kl_div: 0.055222\n",
      "\u001b[32m[1022 15:03:35 @monitor.py:467]\u001b[0m QueueInput/queue_size: 50\n",
      "\u001b[32m[1022 15:03:35 @base.py:275]\u001b[0m Start Epoch 926 ...\n"
     ]
    },
    {
     "name": "stderr",
     "output_type": "stream",
     "text": [
      "100%|###################################################################################|175/175[00:06<00:00,27.75it/s]"
     ]
    },
    {
     "name": "stdout",
     "output_type": "stream",
     "text": [
      "\u001b[32m[1022 15:03:41 @base.py:285]\u001b[0m Epoch 926 (global_step 194459) finished, time:6.31 seconds.\n",
      "\u001b[32m[1022 15:03:41 @saver.py:79]\u001b[0m Model saved to ../output/Chicago/DATWGAN_30/model\\model-194459.\n"
     ]
    },
    {
     "name": "stderr",
     "output_type": "stream",
     "text": [
      "\n"
     ]
    },
    {
     "name": "stdout",
     "output_type": "stream",
     "text": [
      "\u001b[32m[1022 15:03:42 @monitor.py:467]\u001b[0m GAN_loss/d_loss: -0.026658\n",
      "\u001b[32m[1022 15:03:42 @monitor.py:467]\u001b[0m GAN_loss/g_loss: 0.27606\n",
      "\u001b[32m[1022 15:03:42 @monitor.py:467]\u001b[0m GAN_loss/gradient_penalty: 0.0049378\n",
      "\u001b[32m[1022 15:03:42 @monitor.py:467]\u001b[0m GAN_loss/gradient_rms: 0.99933\n",
      "\u001b[32m[1022 15:03:42 @monitor.py:467]\u001b[0m GAN_loss/kl_div: 0.057995\n",
      "\u001b[32m[1022 15:03:42 @monitor.py:467]\u001b[0m QueueInput/queue_size: 50\n",
      "\u001b[32m[1022 15:03:42 @base.py:275]\u001b[0m Start Epoch 927 ...\n"
     ]
    },
    {
     "name": "stderr",
     "output_type": "stream",
     "text": [
      "100%|###################################################################################|175/175[00:06<00:00,27.73it/s]"
     ]
    },
    {
     "name": "stdout",
     "output_type": "stream",
     "text": [
      "\u001b[32m[1022 15:03:48 @base.py:285]\u001b[0m Epoch 927 (global_step 194669) finished, time:6.31 seconds.\n",
      "\u001b[32m[1022 15:03:48 @saver.py:79]\u001b[0m Model saved to ../output/Chicago/DATWGAN_30/model\\model-194669.\n",
      "\u001b[32m[1022 15:03:48 @monitor.py:467]\u001b[0m GAN_loss/d_loss: -0.026551\n"
     ]
    },
    {
     "name": "stderr",
     "output_type": "stream",
     "text": [
      "\n"
     ]
    },
    {
     "name": "stdout",
     "output_type": "stream",
     "text": [
      "\u001b[32m[1022 15:03:48 @monitor.py:467]\u001b[0m GAN_loss/g_loss: 0.27829\n",
      "\u001b[32m[1022 15:03:48 @monitor.py:467]\u001b[0m GAN_loss/gradient_penalty: 0.0049938\n",
      "\u001b[32m[1022 15:03:48 @monitor.py:467]\u001b[0m GAN_loss/gradient_rms: 0.99768\n",
      "\u001b[32m[1022 15:03:48 @monitor.py:467]\u001b[0m GAN_loss/kl_div: 0.061002\n",
      "\u001b[32m[1022 15:03:48 @monitor.py:467]\u001b[0m QueueInput/queue_size: 50\n",
      "\u001b[32m[1022 15:03:48 @base.py:275]\u001b[0m Start Epoch 928 ...\n"
     ]
    },
    {
     "name": "stderr",
     "output_type": "stream",
     "text": [
      "100%|###################################################################################|175/175[00:06<00:00,27.74it/s]"
     ]
    },
    {
     "name": "stdout",
     "output_type": "stream",
     "text": [
      "\u001b[32m[1022 15:03:54 @base.py:285]\u001b[0m Epoch 928 (global_step 194879) finished, time:6.31 seconds.\n",
      "\u001b[32m[1022 15:03:54 @saver.py:79]\u001b[0m Model saved to ../output/Chicago/DATWGAN_30/model\\model-194879.\n",
      "\u001b[32m[1022 15:03:55 @monitor.py:467]\u001b[0m GAN_loss/d_loss: -0.026216\n"
     ]
    },
    {
     "name": "stderr",
     "output_type": "stream",
     "text": [
      "\n"
     ]
    },
    {
     "name": "stdout",
     "output_type": "stream",
     "text": [
      "\u001b[32m[1022 15:03:55 @monitor.py:467]\u001b[0m GAN_loss/g_loss: 0.28322\n",
      "\u001b[32m[1022 15:03:55 @monitor.py:467]\u001b[0m GAN_loss/gradient_penalty: 0.0050491\n",
      "\u001b[32m[1022 15:03:55 @monitor.py:467]\u001b[0m GAN_loss/gradient_rms: 0.99668\n",
      "\u001b[32m[1022 15:03:55 @monitor.py:467]\u001b[0m GAN_loss/kl_div: 0.064257\n",
      "\u001b[32m[1022 15:03:55 @monitor.py:467]\u001b[0m QueueInput/queue_size: 50\n",
      "\u001b[32m[1022 15:03:55 @base.py:275]\u001b[0m Start Epoch 929 ...\n"
     ]
    },
    {
     "name": "stderr",
     "output_type": "stream",
     "text": [
      "100%|###################################################################################|175/175[00:06<00:00,27.72it/s]"
     ]
    },
    {
     "name": "stdout",
     "output_type": "stream",
     "text": [
      "\u001b[32m[1022 15:04:01 @base.py:285]\u001b[0m Epoch 929 (global_step 195089) finished, time:6.31 seconds.\n",
      "\u001b[32m[1022 15:04:01 @saver.py:79]\u001b[0m Model saved to ../output/Chicago/DATWGAN_30/model\\model-195089.\n"
     ]
    },
    {
     "name": "stderr",
     "output_type": "stream",
     "text": [
      "\n"
     ]
    },
    {
     "name": "stdout",
     "output_type": "stream",
     "text": [
      "\u001b[32m[1022 15:04:01 @monitor.py:467]\u001b[0m GAN_loss/d_loss: -0.028371\n",
      "\u001b[32m[1022 15:04:01 @monitor.py:467]\u001b[0m GAN_loss/g_loss: 0.2782\n",
      "\u001b[32m[1022 15:04:01 @monitor.py:467]\u001b[0m GAN_loss/gradient_penalty: 0.0049781\n",
      "\u001b[32m[1022 15:04:01 @monitor.py:467]\u001b[0m GAN_loss/gradient_rms: 0.99881\n",
      "\u001b[32m[1022 15:04:01 @monitor.py:467]\u001b[0m GAN_loss/kl_div: 0.059649\n",
      "\u001b[32m[1022 15:04:01 @monitor.py:467]\u001b[0m QueueInput/queue_size: 50\n",
      "\u001b[32m[1022 15:04:01 @base.py:275]\u001b[0m Start Epoch 930 ...\n"
     ]
    },
    {
     "name": "stderr",
     "output_type": "stream",
     "text": [
      "100%|###################################################################################|175/175[00:06<00:00,27.73it/s]"
     ]
    },
    {
     "name": "stdout",
     "output_type": "stream",
     "text": [
      "\u001b[32m[1022 15:04:07 @base.py:285]\u001b[0m Epoch 930 (global_step 195299) finished, time:6.31 seconds.\n",
      "\u001b[32m[1022 15:04:08 @saver.py:79]\u001b[0m Model saved to ../output/Chicago/DATWGAN_30/model\\model-195299.\n",
      "\u001b[32m[1022 15:04:08 @monitor.py:467]\u001b[0m GAN_loss/d_loss: -0.011049\n"
     ]
    },
    {
     "name": "stderr",
     "output_type": "stream",
     "text": [
      "\n"
     ]
    },
    {
     "name": "stdout",
     "output_type": "stream",
     "text": [
      "\u001b[32m[1022 15:04:08 @monitor.py:467]\u001b[0m GAN_loss/g_loss: 0.27311\n",
      "\u001b[32m[1022 15:04:08 @monitor.py:467]\u001b[0m GAN_loss/gradient_penalty: 0.0048296\n",
      "\u001b[32m[1022 15:04:08 @monitor.py:467]\u001b[0m GAN_loss/gradient_rms: 0.99776\n",
      "\u001b[32m[1022 15:04:08 @monitor.py:467]\u001b[0m GAN_loss/kl_div: 0.060128\n",
      "\u001b[32m[1022 15:04:08 @monitor.py:467]\u001b[0m QueueInput/queue_size: 50\n",
      "\u001b[32m[1022 15:04:08 @base.py:275]\u001b[0m Start Epoch 931 ...\n"
     ]
    },
    {
     "name": "stderr",
     "output_type": "stream",
     "text": [
      "100%|###################################################################################|175/175[00:06<00:00,27.74it/s]"
     ]
    },
    {
     "name": "stdout",
     "output_type": "stream",
     "text": [
      "\u001b[32m[1022 15:04:14 @base.py:285]\u001b[0m Epoch 931 (global_step 195509) finished, time:6.31 seconds.\n",
      "\u001b[32m[1022 15:04:14 @saver.py:79]\u001b[0m Model saved to ../output/Chicago/DATWGAN_30/model\\model-195509.\n",
      "\u001b[32m[1022 15:04:14 @monitor.py:467]\u001b[0m GAN_loss/d_loss: -0.01606\n"
     ]
    },
    {
     "name": "stderr",
     "output_type": "stream",
     "text": [
      "\n"
     ]
    },
    {
     "name": "stdout",
     "output_type": "stream",
     "text": [
      "\u001b[32m[1022 15:04:14 @monitor.py:467]\u001b[0m GAN_loss/g_loss: 0.2873\n",
      "\u001b[32m[1022 15:04:14 @monitor.py:467]\u001b[0m GAN_loss/gradient_penalty: 0.0051569\n",
      "\u001b[32m[1022 15:04:14 @monitor.py:467]\u001b[0m GAN_loss/gradient_rms: 0.99952\n",
      "\u001b[32m[1022 15:04:14 @monitor.py:467]\u001b[0m GAN_loss/kl_div: 0.059129\n",
      "\u001b[32m[1022 15:04:14 @monitor.py:467]\u001b[0m QueueInput/queue_size: 50\n",
      "\u001b[32m[1022 15:04:14 @base.py:275]\u001b[0m Start Epoch 932 ...\n"
     ]
    },
    {
     "name": "stderr",
     "output_type": "stream",
     "text": [
      "100%|###################################################################################|175/175[00:06<00:00,27.73it/s]"
     ]
    },
    {
     "name": "stdout",
     "output_type": "stream",
     "text": [
      "\u001b[32m[1022 15:04:20 @base.py:285]\u001b[0m Epoch 932 (global_step 195719) finished, time:6.31 seconds.\n",
      "\u001b[32m[1022 15:04:21 @saver.py:79]\u001b[0m Model saved to ../output/Chicago/DATWGAN_30/model\\model-195719.\n",
      "\u001b[32m[1022 15:04:21 @monitor.py:467]\u001b[0m GAN_loss/d_loss: -0.037316\n"
     ]
    },
    {
     "name": "stderr",
     "output_type": "stream",
     "text": [
      "\n"
     ]
    },
    {
     "name": "stdout",
     "output_type": "stream",
     "text": [
      "\u001b[32m[1022 15:04:21 @monitor.py:467]\u001b[0m GAN_loss/g_loss: 0.29155\n",
      "\u001b[32m[1022 15:04:21 @monitor.py:467]\u001b[0m GAN_loss/gradient_penalty: 0.0048794\n",
      "\u001b[32m[1022 15:04:21 @monitor.py:467]\u001b[0m GAN_loss/gradient_rms: 0.99797\n",
      "\u001b[32m[1022 15:04:21 @monitor.py:467]\u001b[0m GAN_loss/kl_div: 0.057502\n",
      "\u001b[32m[1022 15:04:21 @monitor.py:467]\u001b[0m QueueInput/queue_size: 50\n",
      "\u001b[32m[1022 15:04:21 @base.py:275]\u001b[0m Start Epoch 933 ...\n"
     ]
    },
    {
     "name": "stderr",
     "output_type": "stream",
     "text": [
      "100%|###################################################################################|175/175[00:06<00:00,27.73it/s]"
     ]
    },
    {
     "name": "stdout",
     "output_type": "stream",
     "text": [
      "\u001b[32m[1022 15:04:27 @base.py:285]\u001b[0m Epoch 933 (global_step 195929) finished, time:6.31 seconds.\n",
      "\u001b[32m[1022 15:04:27 @saver.py:79]\u001b[0m Model saved to ../output/Chicago/DATWGAN_30/model\\model-195929.\n"
     ]
    },
    {
     "name": "stderr",
     "output_type": "stream",
     "text": [
      "\n"
     ]
    },
    {
     "name": "stdout",
     "output_type": "stream",
     "text": [
      "\u001b[32m[1022 15:04:27 @monitor.py:467]\u001b[0m GAN_loss/d_loss: -0.026186\n",
      "\u001b[32m[1022 15:04:27 @monitor.py:467]\u001b[0m GAN_loss/g_loss: 0.28662\n",
      "\u001b[32m[1022 15:04:27 @monitor.py:467]\u001b[0m GAN_loss/gradient_penalty: 0.0050799\n",
      "\u001b[32m[1022 15:04:27 @monitor.py:467]\u001b[0m GAN_loss/gradient_rms: 0.99794\n",
      "\u001b[32m[1022 15:04:27 @monitor.py:467]\u001b[0m GAN_loss/kl_div: 0.063719\n",
      "\u001b[32m[1022 15:04:27 @monitor.py:467]\u001b[0m QueueInput/queue_size: 50\n",
      "\u001b[32m[1022 15:04:27 @base.py:275]\u001b[0m Start Epoch 934 ...\n"
     ]
    },
    {
     "name": "stderr",
     "output_type": "stream",
     "text": [
      "100%|###################################################################################|175/175[00:06<00:00,27.74it/s]"
     ]
    },
    {
     "name": "stdout",
     "output_type": "stream",
     "text": [
      "\u001b[32m[1022 15:04:33 @base.py:285]\u001b[0m Epoch 934 (global_step 196139) finished, time:6.31 seconds.\n",
      "\u001b[32m[1022 15:04:34 @saver.py:79]\u001b[0m Model saved to ../output/Chicago/DATWGAN_30/model\\model-196139.\n",
      "\u001b[32m[1022 15:04:34 @monitor.py:467]\u001b[0m GAN_loss/d_loss: -0.018531\n"
     ]
    },
    {
     "name": "stderr",
     "output_type": "stream",
     "text": [
      "\n"
     ]
    },
    {
     "name": "stdout",
     "output_type": "stream",
     "text": [
      "\u001b[32m[1022 15:04:34 @monitor.py:467]\u001b[0m GAN_loss/g_loss: 0.27932\n",
      "\u001b[32m[1022 15:04:34 @monitor.py:467]\u001b[0m GAN_loss/gradient_penalty: 0.0049858\n",
      "\u001b[32m[1022 15:04:34 @monitor.py:467]\u001b[0m GAN_loss/gradient_rms: 0.99711\n",
      "\u001b[32m[1022 15:04:34 @monitor.py:467]\u001b[0m GAN_loss/kl_div: 0.059231\n",
      "\u001b[32m[1022 15:04:34 @monitor.py:467]\u001b[0m QueueInput/queue_size: 50\n",
      "\u001b[32m[1022 15:04:34 @base.py:275]\u001b[0m Start Epoch 935 ...\n"
     ]
    },
    {
     "name": "stderr",
     "output_type": "stream",
     "text": [
      "100%|###################################################################################|175/175[00:06<00:00,27.74it/s]"
     ]
    },
    {
     "name": "stdout",
     "output_type": "stream",
     "text": [
      "\u001b[32m[1022 15:04:40 @base.py:285]\u001b[0m Epoch 935 (global_step 196349) finished, time:6.31 seconds.\n",
      "\u001b[32m[1022 15:04:40 @saver.py:79]\u001b[0m Model saved to ../output/Chicago/DATWGAN_30/model\\model-196349.\n"
     ]
    },
    {
     "name": "stderr",
     "output_type": "stream",
     "text": [
      "\n"
     ]
    },
    {
     "name": "stdout",
     "output_type": "stream",
     "text": [
      "\u001b[32m[1022 15:04:40 @monitor.py:467]\u001b[0m GAN_loss/d_loss: -0.022906\n",
      "\u001b[32m[1022 15:04:40 @monitor.py:467]\u001b[0m GAN_loss/g_loss: 0.28937\n",
      "\u001b[32m[1022 15:04:40 @monitor.py:467]\u001b[0m GAN_loss/gradient_penalty: 0.0049151\n",
      "\u001b[32m[1022 15:04:40 @monitor.py:467]\u001b[0m GAN_loss/gradient_rms: 0.99902\n",
      "\u001b[32m[1022 15:04:40 @monitor.py:467]\u001b[0m GAN_loss/kl_div: 0.056924\n",
      "\u001b[32m[1022 15:04:40 @monitor.py:467]\u001b[0m QueueInput/queue_size: 50\n",
      "\u001b[32m[1022 15:04:40 @base.py:275]\u001b[0m Start Epoch 936 ...\n"
     ]
    },
    {
     "name": "stderr",
     "output_type": "stream",
     "text": [
      "100%|###################################################################################|175/175[00:06<00:00,27.75it/s]"
     ]
    },
    {
     "name": "stdout",
     "output_type": "stream",
     "text": [
      "\u001b[32m[1022 15:04:47 @base.py:285]\u001b[0m Epoch 936 (global_step 196559) finished, time:6.31 seconds.\n",
      "\u001b[32m[1022 15:04:47 @saver.py:79]\u001b[0m Model saved to ../output/Chicago/DATWGAN_30/model\\model-196559.\n",
      "\u001b[32m[1022 15:04:47 @monitor.py:467]\u001b[0m GAN_loss/d_loss: -0.019981\n"
     ]
    },
    {
     "name": "stderr",
     "output_type": "stream",
     "text": [
      "\n"
     ]
    },
    {
     "name": "stdout",
     "output_type": "stream",
     "text": [
      "\u001b[32m[1022 15:04:47 @monitor.py:467]\u001b[0m GAN_loss/g_loss: 0.29449\n",
      "\u001b[32m[1022 15:04:47 @monitor.py:467]\u001b[0m GAN_loss/gradient_penalty: 0.0050256\n",
      "\u001b[32m[1022 15:04:47 @monitor.py:467]\u001b[0m GAN_loss/gradient_rms: 0.99945\n",
      "\u001b[32m[1022 15:04:47 @monitor.py:467]\u001b[0m GAN_loss/kl_div: 0.058922\n",
      "\u001b[32m[1022 15:04:47 @monitor.py:467]\u001b[0m QueueInput/queue_size: 50\n",
      "\u001b[32m[1022 15:04:47 @base.py:275]\u001b[0m Start Epoch 937 ...\n"
     ]
    },
    {
     "name": "stderr",
     "output_type": "stream",
     "text": [
      "100%|###################################################################################|175/175[00:06<00:00,27.69it/s]"
     ]
    },
    {
     "name": "stdout",
     "output_type": "stream",
     "text": [
      "\u001b[32m[1022 15:04:53 @base.py:285]\u001b[0m Epoch 937 (global_step 196769) finished, time:6.32 seconds.\n",
      "\u001b[32m[1022 15:04:53 @saver.py:79]\u001b[0m Model saved to ../output/Chicago/DATWGAN_30/model\\model-196769.\n",
      "\u001b[32m[1022 15:04:53 @monitor.py:467]\u001b[0m GAN_loss/d_loss: -0.033195\n"
     ]
    },
    {
     "name": "stderr",
     "output_type": "stream",
     "text": [
      "\n"
     ]
    },
    {
     "name": "stdout",
     "output_type": "stream",
     "text": [
      "\u001b[32m[1022 15:04:53 @monitor.py:467]\u001b[0m GAN_loss/g_loss: 0.29049\n",
      "\u001b[32m[1022 15:04:53 @monitor.py:467]\u001b[0m GAN_loss/gradient_penalty: 0.0049906\n",
      "\u001b[32m[1022 15:04:53 @monitor.py:467]\u001b[0m GAN_loss/gradient_rms: 0.9992\n",
      "\u001b[32m[1022 15:04:53 @monitor.py:467]\u001b[0m GAN_loss/kl_div: 0.056992\n",
      "\u001b[32m[1022 15:04:53 @monitor.py:467]\u001b[0m QueueInput/queue_size: 50\n",
      "\u001b[32m[1022 15:04:53 @base.py:275]\u001b[0m Start Epoch 938 ...\n"
     ]
    },
    {
     "name": "stderr",
     "output_type": "stream",
     "text": [
      "100%|###################################################################################|175/175[00:06<00:00,27.75it/s]"
     ]
    },
    {
     "name": "stdout",
     "output_type": "stream",
     "text": [
      "\u001b[32m[1022 15:05:00 @base.py:285]\u001b[0m Epoch 938 (global_step 196979) finished, time:6.31 seconds.\n",
      "\u001b[32m[1022 15:05:00 @saver.py:79]\u001b[0m Model saved to ../output/Chicago/DATWGAN_30/model\\model-196979.\n",
      "\u001b[32m[1022 15:05:00 @monitor.py:467]\u001b[0m GAN_loss/d_loss: -0.013976\n"
     ]
    },
    {
     "name": "stderr",
     "output_type": "stream",
     "text": [
      "\n"
     ]
    },
    {
     "name": "stdout",
     "output_type": "stream",
     "text": [
      "\u001b[32m[1022 15:05:00 @monitor.py:467]\u001b[0m GAN_loss/g_loss: 0.2723\n",
      "\u001b[32m[1022 15:05:00 @monitor.py:467]\u001b[0m GAN_loss/gradient_penalty: 0.0050122\n",
      "\u001b[32m[1022 15:05:00 @monitor.py:467]\u001b[0m GAN_loss/gradient_rms: 0.99906\n",
      "\u001b[32m[1022 15:05:00 @monitor.py:467]\u001b[0m GAN_loss/kl_div: 0.060352\n",
      "\u001b[32m[1022 15:05:00 @monitor.py:467]\u001b[0m QueueInput/queue_size: 50\n",
      "\u001b[32m[1022 15:05:00 @base.py:275]\u001b[0m Start Epoch 939 ...\n"
     ]
    },
    {
     "name": "stderr",
     "output_type": "stream",
     "text": [
      "100%|###################################################################################|175/175[00:06<00:00,27.74it/s]"
     ]
    },
    {
     "name": "stdout",
     "output_type": "stream",
     "text": [
      "\u001b[32m[1022 15:05:06 @base.py:285]\u001b[0m Epoch 939 (global_step 197189) finished, time:6.31 seconds.\n",
      "\u001b[32m[1022 15:05:06 @saver.py:79]\u001b[0m Model saved to ../output/Chicago/DATWGAN_30/model\\model-197189.\n"
     ]
    },
    {
     "name": "stderr",
     "output_type": "stream",
     "text": [
      "\n"
     ]
    },
    {
     "name": "stdout",
     "output_type": "stream",
     "text": [
      "\u001b[32m[1022 15:05:06 @monitor.py:467]\u001b[0m GAN_loss/d_loss: -0.022361\n",
      "\u001b[32m[1022 15:05:06 @monitor.py:467]\u001b[0m GAN_loss/g_loss: 0.28629\n",
      "\u001b[32m[1022 15:05:06 @monitor.py:467]\u001b[0m GAN_loss/gradient_penalty: 0.0050034\n",
      "\u001b[32m[1022 15:05:06 @monitor.py:467]\u001b[0m GAN_loss/gradient_rms: 0.99894\n",
      "\u001b[32m[1022 15:05:06 @monitor.py:467]\u001b[0m GAN_loss/kl_div: 0.057918\n",
      "\u001b[32m[1022 15:05:06 @monitor.py:467]\u001b[0m QueueInput/queue_size: 50\n",
      "\u001b[32m[1022 15:05:06 @base.py:275]\u001b[0m Start Epoch 940 ...\n"
     ]
    },
    {
     "name": "stderr",
     "output_type": "stream",
     "text": [
      "100%|###################################################################################|175/175[00:06<00:00,27.73it/s]"
     ]
    },
    {
     "name": "stdout",
     "output_type": "stream",
     "text": [
      "\u001b[32m[1022 15:05:13 @base.py:285]\u001b[0m Epoch 940 (global_step 197399) finished, time:6.31 seconds.\n",
      "\u001b[32m[1022 15:05:13 @saver.py:79]\u001b[0m Model saved to ../output/Chicago/DATWGAN_30/model\\model-197399.\n",
      "\u001b[32m[1022 15:05:13 @monitor.py:467]\u001b[0m GAN_loss/d_loss: -0.024491\n"
     ]
    },
    {
     "name": "stderr",
     "output_type": "stream",
     "text": [
      "\n"
     ]
    },
    {
     "name": "stdout",
     "output_type": "stream",
     "text": [
      "\u001b[32m[1022 15:05:13 @monitor.py:467]\u001b[0m GAN_loss/g_loss: 0.2858\n",
      "\u001b[32m[1022 15:05:13 @monitor.py:467]\u001b[0m GAN_loss/gradient_penalty: 0.0049933\n",
      "\u001b[32m[1022 15:05:13 @monitor.py:467]\u001b[0m GAN_loss/gradient_rms: 0.99854\n",
      "\u001b[32m[1022 15:05:13 @monitor.py:467]\u001b[0m GAN_loss/kl_div: 0.059118\n",
      "\u001b[32m[1022 15:05:13 @monitor.py:467]\u001b[0m QueueInput/queue_size: 50\n",
      "\u001b[32m[1022 15:05:13 @base.py:275]\u001b[0m Start Epoch 941 ...\n"
     ]
    },
    {
     "name": "stderr",
     "output_type": "stream",
     "text": [
      "100%|###################################################################################|175/175[00:06<00:00,27.76it/s]"
     ]
    },
    {
     "name": "stdout",
     "output_type": "stream",
     "text": [
      "\u001b[32m[1022 15:05:19 @base.py:285]\u001b[0m Epoch 941 (global_step 197609) finished, time:6.31 seconds.\n",
      "\u001b[32m[1022 15:05:19 @saver.py:79]\u001b[0m Model saved to ../output/Chicago/DATWGAN_30/model\\model-197609.\n",
      "\u001b[32m[1022 15:05:19 @monitor.py:467]\u001b[0m GAN_loss/d_loss: -0.033423\n"
     ]
    },
    {
     "name": "stderr",
     "output_type": "stream",
     "text": [
      "\n"
     ]
    },
    {
     "name": "stdout",
     "output_type": "stream",
     "text": [
      "\u001b[32m[1022 15:05:19 @monitor.py:467]\u001b[0m GAN_loss/g_loss: 0.28819\n",
      "\u001b[32m[1022 15:05:19 @monitor.py:467]\u001b[0m GAN_loss/gradient_penalty: 0.0049903\n",
      "\u001b[32m[1022 15:05:19 @monitor.py:467]\u001b[0m GAN_loss/gradient_rms: 0.99907\n",
      "\u001b[32m[1022 15:05:19 @monitor.py:467]\u001b[0m GAN_loss/kl_div: 0.060263\n",
      "\u001b[32m[1022 15:05:19 @monitor.py:467]\u001b[0m QueueInput/queue_size: 50\n",
      "\u001b[32m[1022 15:05:19 @base.py:275]\u001b[0m Start Epoch 942 ...\n"
     ]
    },
    {
     "name": "stderr",
     "output_type": "stream",
     "text": [
      "100%|###################################################################################|175/175[00:06<00:00,27.73it/s]"
     ]
    },
    {
     "name": "stdout",
     "output_type": "stream",
     "text": [
      "\u001b[32m[1022 15:05:26 @base.py:285]\u001b[0m Epoch 942 (global_step 197819) finished, time:6.31 seconds.\n",
      "\u001b[32m[1022 15:05:26 @saver.py:79]\u001b[0m Model saved to ../output/Chicago/DATWGAN_30/model\\model-197819.\n",
      "\u001b[32m[1022 15:05:26 @monitor.py:467]\u001b[0m GAN_loss/d_loss: -0.021005\n"
     ]
    },
    {
     "name": "stderr",
     "output_type": "stream",
     "text": [
      "\n"
     ]
    },
    {
     "name": "stdout",
     "output_type": "stream",
     "text": [
      "\u001b[32m[1022 15:05:26 @monitor.py:467]\u001b[0m GAN_loss/g_loss: 0.29195\n",
      "\u001b[32m[1022 15:05:26 @monitor.py:467]\u001b[0m GAN_loss/gradient_penalty: 0.0050949\n",
      "\u001b[32m[1022 15:05:26 @monitor.py:467]\u001b[0m GAN_loss/gradient_rms: 0.99852\n",
      "\u001b[32m[1022 15:05:26 @monitor.py:467]\u001b[0m GAN_loss/kl_div: 0.059966\n",
      "\u001b[32m[1022 15:05:26 @monitor.py:467]\u001b[0m QueueInput/queue_size: 50\n",
      "\u001b[32m[1022 15:05:26 @base.py:275]\u001b[0m Start Epoch 943 ...\n"
     ]
    },
    {
     "name": "stderr",
     "output_type": "stream",
     "text": [
      "100%|###################################################################################|175/175[00:06<00:00,27.78it/s]"
     ]
    },
    {
     "name": "stdout",
     "output_type": "stream",
     "text": [
      "\u001b[32m[1022 15:05:32 @base.py:285]\u001b[0m Epoch 943 (global_step 198029) finished, time:6.3 seconds.\n",
      "\u001b[32m[1022 15:05:32 @saver.py:79]\u001b[0m Model saved to ../output/Chicago/DATWGAN_30/model\\model-198029.\n",
      "\u001b[32m[1022 15:05:32 @monitor.py:467]\u001b[0m GAN_loss/d_loss: -0.033717\n"
     ]
    },
    {
     "name": "stderr",
     "output_type": "stream",
     "text": [
      "\n"
     ]
    },
    {
     "name": "stdout",
     "output_type": "stream",
     "text": [
      "\u001b[32m[1022 15:05:32 @monitor.py:467]\u001b[0m GAN_loss/g_loss: 0.30307\n",
      "\u001b[32m[1022 15:05:32 @monitor.py:467]\u001b[0m GAN_loss/gradient_penalty: 0.0049049\n",
      "\u001b[32m[1022 15:05:32 @monitor.py:467]\u001b[0m GAN_loss/gradient_rms: 0.99879\n",
      "\u001b[32m[1022 15:05:32 @monitor.py:467]\u001b[0m GAN_loss/kl_div: 0.061266\n",
      "\u001b[32m[1022 15:05:32 @monitor.py:467]\u001b[0m QueueInput/queue_size: 50\n",
      "\u001b[32m[1022 15:05:32 @base.py:275]\u001b[0m Start Epoch 944 ...\n"
     ]
    },
    {
     "name": "stderr",
     "output_type": "stream",
     "text": [
      "100%|###################################################################################|175/175[00:06<00:00,27.72it/s]"
     ]
    },
    {
     "name": "stdout",
     "output_type": "stream",
     "text": [
      "\u001b[32m[1022 15:05:39 @base.py:285]\u001b[0m Epoch 944 (global_step 198239) finished, time:6.31 seconds.\n",
      "\u001b[32m[1022 15:05:39 @saver.py:79]\u001b[0m Model saved to ../output/Chicago/DATWGAN_30/model\\model-198239.\n",
      "\u001b[32m[1022 15:05:39 @monitor.py:467]\u001b[0m GAN_loss/d_loss: -0.040299\n"
     ]
    },
    {
     "name": "stderr",
     "output_type": "stream",
     "text": [
      "\n"
     ]
    },
    {
     "name": "stdout",
     "output_type": "stream",
     "text": [
      "\u001b[32m[1022 15:05:39 @monitor.py:467]\u001b[0m GAN_loss/g_loss: 0.30432\n",
      "\u001b[32m[1022 15:05:39 @monitor.py:467]\u001b[0m GAN_loss/gradient_penalty: 0.0049251\n",
      "\u001b[32m[1022 15:05:39 @monitor.py:467]\u001b[0m GAN_loss/gradient_rms: 0.99943\n",
      "\u001b[32m[1022 15:05:39 @monitor.py:467]\u001b[0m GAN_loss/kl_div: 0.055729\n",
      "\u001b[32m[1022 15:05:39 @monitor.py:467]\u001b[0m QueueInput/queue_size: 50\n",
      "\u001b[32m[1022 15:05:39 @base.py:275]\u001b[0m Start Epoch 945 ...\n"
     ]
    },
    {
     "name": "stderr",
     "output_type": "stream",
     "text": [
      "100%|###################################################################################|175/175[00:06<00:00,27.74it/s]"
     ]
    },
    {
     "name": "stdout",
     "output_type": "stream",
     "text": [
      "\u001b[32m[1022 15:05:45 @base.py:285]\u001b[0m Epoch 945 (global_step 198449) finished, time:6.31 seconds.\n",
      "\u001b[32m[1022 15:05:45 @saver.py:79]\u001b[0m Model saved to ../output/Chicago/DATWGAN_30/model\\model-198449.\n"
     ]
    },
    {
     "name": "stderr",
     "output_type": "stream",
     "text": [
      "\n"
     ]
    },
    {
     "name": "stdout",
     "output_type": "stream",
     "text": [
      "\u001b[32m[1022 15:05:45 @monitor.py:467]\u001b[0m GAN_loss/d_loss: -0.025339\n",
      "\u001b[32m[1022 15:05:45 @monitor.py:467]\u001b[0m GAN_loss/g_loss: 0.28312\n",
      "\u001b[32m[1022 15:05:45 @monitor.py:467]\u001b[0m GAN_loss/gradient_penalty: 0.0049502\n",
      "\u001b[32m[1022 15:05:45 @monitor.py:467]\u001b[0m GAN_loss/gradient_rms: 0.99862\n",
      "\u001b[32m[1022 15:05:45 @monitor.py:467]\u001b[0m GAN_loss/kl_div: 0.059679\n",
      "\u001b[32m[1022 15:05:45 @monitor.py:467]\u001b[0m QueueInput/queue_size: 50\n",
      "\u001b[32m[1022 15:05:45 @base.py:275]\u001b[0m Start Epoch 946 ...\n"
     ]
    },
    {
     "name": "stderr",
     "output_type": "stream",
     "text": [
      "100%|###################################################################################|175/175[00:06<00:00,27.74it/s]"
     ]
    },
    {
     "name": "stdout",
     "output_type": "stream",
     "text": [
      "\u001b[32m[1022 15:05:52 @base.py:285]\u001b[0m Epoch 946 (global_step 198659) finished, time:6.31 seconds.\n",
      "\u001b[32m[1022 15:05:52 @saver.py:79]\u001b[0m Model saved to ../output/Chicago/DATWGAN_30/model\\model-198659.\n"
     ]
    },
    {
     "name": "stderr",
     "output_type": "stream",
     "text": [
      "\n"
     ]
    },
    {
     "name": "stdout",
     "output_type": "stream",
     "text": [
      "\u001b[32m[1022 15:05:52 @monitor.py:467]\u001b[0m GAN_loss/d_loss: -0.03028\n",
      "\u001b[32m[1022 15:05:52 @monitor.py:467]\u001b[0m GAN_loss/g_loss: 0.29043\n",
      "\u001b[32m[1022 15:05:52 @monitor.py:467]\u001b[0m GAN_loss/gradient_penalty: 0.0049072\n",
      "\u001b[32m[1022 15:05:52 @monitor.py:467]\u001b[0m GAN_loss/gradient_rms: 0.99813\n",
      "\u001b[32m[1022 15:05:52 @monitor.py:467]\u001b[0m GAN_loss/kl_div: 0.055749\n",
      "\u001b[32m[1022 15:05:52 @monitor.py:467]\u001b[0m QueueInput/queue_size: 50\n",
      "\u001b[32m[1022 15:05:52 @base.py:275]\u001b[0m Start Epoch 947 ...\n"
     ]
    },
    {
     "name": "stderr",
     "output_type": "stream",
     "text": [
      "100%|###################################################################################|175/175[00:06<00:00,27.73it/s]"
     ]
    },
    {
     "name": "stdout",
     "output_type": "stream",
     "text": [
      "\u001b[32m[1022 15:05:58 @base.py:285]\u001b[0m Epoch 947 (global_step 198869) finished, time:6.31 seconds.\n",
      "\u001b[32m[1022 15:05:58 @saver.py:79]\u001b[0m Model saved to ../output/Chicago/DATWGAN_30/model\\model-198869.\n",
      "\u001b[32m[1022 15:05:58 @monitor.py:467]\u001b[0m GAN_loss/d_loss: -0.034448\n"
     ]
    },
    {
     "name": "stderr",
     "output_type": "stream",
     "text": [
      "\n"
     ]
    },
    {
     "name": "stdout",
     "output_type": "stream",
     "text": [
      "\u001b[32m[1022 15:05:58 @monitor.py:467]\u001b[0m GAN_loss/g_loss: 0.28308\n",
      "\u001b[32m[1022 15:05:58 @monitor.py:467]\u001b[0m GAN_loss/gradient_penalty: 0.0050218\n",
      "\u001b[32m[1022 15:05:58 @monitor.py:467]\u001b[0m GAN_loss/gradient_rms: 0.9992\n",
      "\u001b[32m[1022 15:05:58 @monitor.py:467]\u001b[0m GAN_loss/kl_div: 0.066083\n",
      "\u001b[32m[1022 15:05:58 @monitor.py:467]\u001b[0m QueueInput/queue_size: 50\n",
      "\u001b[32m[1022 15:05:58 @base.py:275]\u001b[0m Start Epoch 948 ...\n"
     ]
    },
    {
     "name": "stderr",
     "output_type": "stream",
     "text": [
      "100%|###################################################################################|175/175[00:06<00:00,27.73it/s]"
     ]
    },
    {
     "name": "stdout",
     "output_type": "stream",
     "text": [
      "\u001b[32m[1022 15:06:05 @base.py:285]\u001b[0m Epoch 948 (global_step 199079) finished, time:6.31 seconds.\n",
      "\u001b[32m[1022 15:06:05 @saver.py:79]\u001b[0m Model saved to ../output/Chicago/DATWGAN_30/model\\model-199079.\n"
     ]
    },
    {
     "name": "stderr",
     "output_type": "stream",
     "text": [
      "\n"
     ]
    },
    {
     "name": "stdout",
     "output_type": "stream",
     "text": [
      "\u001b[32m[1022 15:06:05 @monitor.py:467]\u001b[0m GAN_loss/d_loss: -0.015031\n",
      "\u001b[32m[1022 15:06:05 @monitor.py:467]\u001b[0m GAN_loss/g_loss: 0.28478\n",
      "\u001b[32m[1022 15:06:05 @monitor.py:467]\u001b[0m GAN_loss/gradient_penalty: 0.0049806\n",
      "\u001b[32m[1022 15:06:05 @monitor.py:467]\u001b[0m GAN_loss/gradient_rms: 0.99968\n",
      "\u001b[32m[1022 15:06:05 @monitor.py:467]\u001b[0m GAN_loss/kl_div: 0.057711\n",
      "\u001b[32m[1022 15:06:05 @monitor.py:467]\u001b[0m QueueInput/queue_size: 50\n",
      "\u001b[32m[1022 15:06:05 @base.py:275]\u001b[0m Start Epoch 949 ...\n"
     ]
    },
    {
     "name": "stderr",
     "output_type": "stream",
     "text": [
      "100%|###################################################################################|175/175[00:06<00:00,27.72it/s]"
     ]
    },
    {
     "name": "stdout",
     "output_type": "stream",
     "text": [
      "\u001b[32m[1022 15:06:11 @base.py:285]\u001b[0m Epoch 949 (global_step 199289) finished, time:6.31 seconds.\n",
      "\u001b[32m[1022 15:06:11 @saver.py:79]\u001b[0m Model saved to ../output/Chicago/DATWGAN_30/model\\model-199289.\n"
     ]
    },
    {
     "name": "stderr",
     "output_type": "stream",
     "text": [
      "\n"
     ]
    },
    {
     "name": "stdout",
     "output_type": "stream",
     "text": [
      "\u001b[32m[1022 15:06:11 @monitor.py:467]\u001b[0m GAN_loss/d_loss: -0.036699\n",
      "\u001b[32m[1022 15:06:11 @monitor.py:467]\u001b[0m GAN_loss/g_loss: 0.27845\n",
      "\u001b[32m[1022 15:06:11 @monitor.py:467]\u001b[0m GAN_loss/gradient_penalty: 0.0050071\n",
      "\u001b[32m[1022 15:06:11 @monitor.py:467]\u001b[0m GAN_loss/gradient_rms: 0.99782\n",
      "\u001b[32m[1022 15:06:11 @monitor.py:467]\u001b[0m GAN_loss/kl_div: 0.056704\n",
      "\u001b[32m[1022 15:06:11 @monitor.py:467]\u001b[0m QueueInput/queue_size: 50\n",
      "\u001b[32m[1022 15:06:11 @base.py:275]\u001b[0m Start Epoch 950 ...\n"
     ]
    },
    {
     "name": "stderr",
     "output_type": "stream",
     "text": [
      "100%|###################################################################################|175/175[00:06<00:00,27.74it/s]"
     ]
    },
    {
     "name": "stdout",
     "output_type": "stream",
     "text": [
      "\u001b[32m[1022 15:06:18 @base.py:285]\u001b[0m Epoch 950 (global_step 199499) finished, time:6.31 seconds.\n",
      "\u001b[32m[1022 15:06:18 @saver.py:79]\u001b[0m Model saved to ../output/Chicago/DATWGAN_30/model\\model-199499.\n",
      "\u001b[32m[1022 15:06:18 @monitor.py:467]\u001b[0m GAN_loss/d_loss: -0.019486\n"
     ]
    },
    {
     "name": "stderr",
     "output_type": "stream",
     "text": [
      "\n"
     ]
    },
    {
     "name": "stdout",
     "output_type": "stream",
     "text": [
      "\u001b[32m[1022 15:06:18 @monitor.py:467]\u001b[0m GAN_loss/g_loss: 0.2782\n",
      "\u001b[32m[1022 15:06:18 @monitor.py:467]\u001b[0m GAN_loss/gradient_penalty: 0.0048768\n",
      "\u001b[32m[1022 15:06:18 @monitor.py:467]\u001b[0m GAN_loss/gradient_rms: 0.99844\n",
      "\u001b[32m[1022 15:06:18 @monitor.py:467]\u001b[0m GAN_loss/kl_div: 0.058718\n",
      "\u001b[32m[1022 15:06:18 @monitor.py:467]\u001b[0m QueueInput/queue_size: 50\n",
      "\u001b[32m[1022 15:06:18 @base.py:275]\u001b[0m Start Epoch 951 ...\n"
     ]
    },
    {
     "name": "stderr",
     "output_type": "stream",
     "text": [
      "100%|###################################################################################|175/175[00:06<00:00,27.74it/s]"
     ]
    },
    {
     "name": "stdout",
     "output_type": "stream",
     "text": [
      "\u001b[32m[1022 15:06:24 @base.py:285]\u001b[0m Epoch 951 (global_step 199709) finished, time:6.31 seconds.\n",
      "\u001b[32m[1022 15:06:24 @saver.py:79]\u001b[0m Model saved to ../output/Chicago/DATWGAN_30/model\\model-199709.\n",
      "\u001b[32m[1022 15:06:24 @monitor.py:467]\u001b[0m GAN_loss/d_loss: -0.021479\n"
     ]
    },
    {
     "name": "stderr",
     "output_type": "stream",
     "text": [
      "\n"
     ]
    },
    {
     "name": "stdout",
     "output_type": "stream",
     "text": [
      "\u001b[32m[1022 15:06:24 @monitor.py:467]\u001b[0m GAN_loss/g_loss: 0.28128\n",
      "\u001b[32m[1022 15:06:24 @monitor.py:467]\u001b[0m GAN_loss/gradient_penalty: 0.0049352\n",
      "\u001b[32m[1022 15:06:24 @monitor.py:467]\u001b[0m GAN_loss/gradient_rms: 0.99779\n",
      "\u001b[32m[1022 15:06:24 @monitor.py:467]\u001b[0m GAN_loss/kl_div: 0.057994\n",
      "\u001b[32m[1022 15:06:24 @monitor.py:467]\u001b[0m QueueInput/queue_size: 50\n",
      "\u001b[32m[1022 15:06:24 @base.py:275]\u001b[0m Start Epoch 952 ...\n"
     ]
    },
    {
     "name": "stderr",
     "output_type": "stream",
     "text": [
      "100%|###################################################################################|175/175[00:06<00:00,27.72it/s]"
     ]
    },
    {
     "name": "stdout",
     "output_type": "stream",
     "text": [
      "\u001b[32m[1022 15:06:31 @base.py:285]\u001b[0m Epoch 952 (global_step 199919) finished, time:6.31 seconds.\n",
      "\u001b[32m[1022 15:06:31 @saver.py:79]\u001b[0m Model saved to ../output/Chicago/DATWGAN_30/model\\model-199919.\n",
      "\u001b[32m[1022 15:06:31 @monitor.py:467]\u001b[0m GAN_loss/d_loss: -0.032794\n"
     ]
    },
    {
     "name": "stderr",
     "output_type": "stream",
     "text": [
      "\n"
     ]
    },
    {
     "name": "stdout",
     "output_type": "stream",
     "text": [
      "\u001b[32m[1022 15:06:31 @monitor.py:467]\u001b[0m GAN_loss/g_loss: 0.28807\n",
      "\u001b[32m[1022 15:06:31 @monitor.py:467]\u001b[0m GAN_loss/gradient_penalty: 0.0049724\n",
      "\u001b[32m[1022 15:06:31 @monitor.py:467]\u001b[0m GAN_loss/gradient_rms: 0.99925\n",
      "\u001b[32m[1022 15:06:31 @monitor.py:467]\u001b[0m GAN_loss/kl_div: 0.057288\n",
      "\u001b[32m[1022 15:06:31 @monitor.py:467]\u001b[0m QueueInput/queue_size: 50\n",
      "\u001b[32m[1022 15:06:31 @base.py:275]\u001b[0m Start Epoch 953 ...\n"
     ]
    },
    {
     "name": "stderr",
     "output_type": "stream",
     "text": [
      "100%|###################################################################################|175/175[00:06<00:00,27.76it/s]"
     ]
    },
    {
     "name": "stdout",
     "output_type": "stream",
     "text": [
      "\u001b[32m[1022 15:06:37 @base.py:285]\u001b[0m Epoch 953 (global_step 200129) finished, time:6.3 seconds.\n",
      "\u001b[32m[1022 15:06:37 @saver.py:79]\u001b[0m Model saved to ../output/Chicago/DATWGAN_30/model\\model-200129.\n"
     ]
    },
    {
     "name": "stderr",
     "output_type": "stream",
     "text": [
      "\n"
     ]
    },
    {
     "name": "stdout",
     "output_type": "stream",
     "text": [
      "\u001b[32m[1022 15:06:37 @monitor.py:467]\u001b[0m GAN_loss/d_loss: -0.033247\n",
      "\u001b[32m[1022 15:06:37 @monitor.py:467]\u001b[0m GAN_loss/g_loss: 0.27606\n",
      "\u001b[32m[1022 15:06:37 @monitor.py:467]\u001b[0m GAN_loss/gradient_penalty: 0.0049397\n",
      "\u001b[32m[1022 15:06:37 @monitor.py:467]\u001b[0m GAN_loss/gradient_rms: 0.99973\n",
      "\u001b[32m[1022 15:06:37 @monitor.py:467]\u001b[0m GAN_loss/kl_div: 0.062677\n",
      "\u001b[32m[1022 15:06:37 @monitor.py:467]\u001b[0m QueueInput/queue_size: 50\n",
      "\u001b[32m[1022 15:06:37 @base.py:275]\u001b[0m Start Epoch 954 ...\n"
     ]
    },
    {
     "name": "stderr",
     "output_type": "stream",
     "text": [
      "100%|###################################################################################|175/175[00:06<00:00,27.74it/s]"
     ]
    },
    {
     "name": "stdout",
     "output_type": "stream",
     "text": [
      "\u001b[32m[1022 15:06:44 @base.py:285]\u001b[0m Epoch 954 (global_step 200339) finished, time:6.31 seconds.\n",
      "\u001b[32m[1022 15:06:44 @saver.py:79]\u001b[0m Model saved to ../output/Chicago/DATWGAN_30/model\\model-200339.\n"
     ]
    },
    {
     "name": "stderr",
     "output_type": "stream",
     "text": [
      "\n"
     ]
    },
    {
     "name": "stdout",
     "output_type": "stream",
     "text": [
      "\u001b[32m[1022 15:06:44 @monitor.py:467]\u001b[0m GAN_loss/d_loss: -0.029401\n",
      "\u001b[32m[1022 15:06:44 @monitor.py:467]\u001b[0m GAN_loss/g_loss: 0.27237\n",
      "\u001b[32m[1022 15:06:44 @monitor.py:467]\u001b[0m GAN_loss/gradient_penalty: 0.0049644\n",
      "\u001b[32m[1022 15:06:44 @monitor.py:467]\u001b[0m GAN_loss/gradient_rms: 0.99905\n",
      "\u001b[32m[1022 15:06:44 @monitor.py:467]\u001b[0m GAN_loss/kl_div: 0.06068\n",
      "\u001b[32m[1022 15:06:44 @monitor.py:467]\u001b[0m QueueInput/queue_size: 50\n",
      "\u001b[32m[1022 15:06:44 @base.py:275]\u001b[0m Start Epoch 955 ...\n"
     ]
    },
    {
     "name": "stderr",
     "output_type": "stream",
     "text": [
      "100%|###################################################################################|175/175[00:06<00:00,27.72it/s]"
     ]
    },
    {
     "name": "stdout",
     "output_type": "stream",
     "text": [
      "\u001b[32m[1022 15:06:50 @base.py:285]\u001b[0m Epoch 955 (global_step 200549) finished, time:6.31 seconds.\n",
      "\u001b[32m[1022 15:06:50 @saver.py:79]\u001b[0m Model saved to ../output/Chicago/DATWGAN_30/model\\model-200549.\n",
      "\u001b[32m[1022 15:06:50 @monitor.py:467]\u001b[0m GAN_loss/d_loss: -0.027502\n"
     ]
    },
    {
     "name": "stderr",
     "output_type": "stream",
     "text": [
      "\n"
     ]
    },
    {
     "name": "stdout",
     "output_type": "stream",
     "text": [
      "\u001b[32m[1022 15:06:50 @monitor.py:467]\u001b[0m GAN_loss/g_loss: 0.26835\n",
      "\u001b[32m[1022 15:06:50 @monitor.py:467]\u001b[0m GAN_loss/gradient_penalty: 0.00498\n",
      "\u001b[32m[1022 15:06:50 @monitor.py:467]\u001b[0m GAN_loss/gradient_rms: 0.99955\n",
      "\u001b[32m[1022 15:06:50 @monitor.py:467]\u001b[0m GAN_loss/kl_div: 0.057004\n",
      "\u001b[32m[1022 15:06:50 @monitor.py:467]\u001b[0m QueueInput/queue_size: 50\n",
      "\u001b[32m[1022 15:06:50 @base.py:275]\u001b[0m Start Epoch 956 ...\n"
     ]
    },
    {
     "name": "stderr",
     "output_type": "stream",
     "text": [
      "100%|###################################################################################|175/175[00:06<00:00,27.74it/s]"
     ]
    },
    {
     "name": "stdout",
     "output_type": "stream",
     "text": [
      "\u001b[32m[1022 15:06:57 @base.py:285]\u001b[0m Epoch 956 (global_step 200759) finished, time:6.31 seconds.\n",
      "\u001b[32m[1022 15:06:57 @saver.py:79]\u001b[0m Model saved to ../output/Chicago/DATWGAN_30/model\\model-200759.\n"
     ]
    },
    {
     "name": "stderr",
     "output_type": "stream",
     "text": [
      "\n"
     ]
    },
    {
     "name": "stdout",
     "output_type": "stream",
     "text": [
      "\u001b[32m[1022 15:06:57 @monitor.py:467]\u001b[0m GAN_loss/d_loss: -0.023798\n",
      "\u001b[32m[1022 15:06:57 @monitor.py:467]\u001b[0m GAN_loss/g_loss: 0.27594\n",
      "\u001b[32m[1022 15:06:57 @monitor.py:467]\u001b[0m GAN_loss/gradient_penalty: 0.0050528\n",
      "\u001b[32m[1022 15:06:57 @monitor.py:467]\u001b[0m GAN_loss/gradient_rms: 1.0002\n",
      "\u001b[32m[1022 15:06:57 @monitor.py:467]\u001b[0m GAN_loss/kl_div: 0.057242\n",
      "\u001b[32m[1022 15:06:57 @monitor.py:467]\u001b[0m QueueInput/queue_size: 50\n",
      "\u001b[32m[1022 15:06:57 @base.py:275]\u001b[0m Start Epoch 957 ...\n"
     ]
    },
    {
     "name": "stderr",
     "output_type": "stream",
     "text": [
      "100%|###################################################################################|175/175[00:06<00:00,27.75it/s]"
     ]
    },
    {
     "name": "stdout",
     "output_type": "stream",
     "text": [
      "\u001b[32m[1022 15:07:03 @base.py:285]\u001b[0m Epoch 957 (global_step 200969) finished, time:6.31 seconds.\n",
      "\u001b[32m[1022 15:07:03 @saver.py:79]\u001b[0m Model saved to ../output/Chicago/DATWGAN_30/model\\model-200969.\n"
     ]
    },
    {
     "name": "stderr",
     "output_type": "stream",
     "text": [
      "\n"
     ]
    },
    {
     "name": "stdout",
     "output_type": "stream",
     "text": [
      "\u001b[32m[1022 15:07:03 @monitor.py:467]\u001b[0m GAN_loss/d_loss: -0.032066\n",
      "\u001b[32m[1022 15:07:03 @monitor.py:467]\u001b[0m GAN_loss/g_loss: 0.26505\n",
      "\u001b[32m[1022 15:07:03 @monitor.py:467]\u001b[0m GAN_loss/gradient_penalty: 0.0048174\n",
      "\u001b[32m[1022 15:07:03 @monitor.py:467]\u001b[0m GAN_loss/gradient_rms: 0.99938\n",
      "\u001b[32m[1022 15:07:03 @monitor.py:467]\u001b[0m GAN_loss/kl_div: 0.055329\n",
      "\u001b[32m[1022 15:07:03 @monitor.py:467]\u001b[0m QueueInput/queue_size: 50\n",
      "\u001b[32m[1022 15:07:03 @base.py:275]\u001b[0m Start Epoch 958 ...\n"
     ]
    },
    {
     "name": "stderr",
     "output_type": "stream",
     "text": [
      "100%|###################################################################################|175/175[00:06<00:00,27.72it/s]"
     ]
    },
    {
     "name": "stdout",
     "output_type": "stream",
     "text": [
      "\u001b[32m[1022 15:07:10 @base.py:285]\u001b[0m Epoch 958 (global_step 201179) finished, time:6.31 seconds.\n",
      "\u001b[32m[1022 15:07:10 @saver.py:79]\u001b[0m Model saved to ../output/Chicago/DATWGAN_30/model\\model-201179.\n"
     ]
    },
    {
     "name": "stderr",
     "output_type": "stream",
     "text": [
      "\n"
     ]
    },
    {
     "name": "stdout",
     "output_type": "stream",
     "text": [
      "\u001b[32m[1022 15:07:10 @monitor.py:467]\u001b[0m GAN_loss/d_loss: -0.026177\n",
      "\u001b[32m[1022 15:07:10 @monitor.py:467]\u001b[0m GAN_loss/g_loss: 0.27201\n",
      "\u001b[32m[1022 15:07:10 @monitor.py:467]\u001b[0m GAN_loss/gradient_penalty: 0.0048524\n",
      "\u001b[32m[1022 15:07:10 @monitor.py:467]\u001b[0m GAN_loss/gradient_rms: 0.99818\n",
      "\u001b[32m[1022 15:07:10 @monitor.py:467]\u001b[0m GAN_loss/kl_div: 0.061482\n",
      "\u001b[32m[1022 15:07:10 @monitor.py:467]\u001b[0m QueueInput/queue_size: 50\n",
      "\u001b[32m[1022 15:07:10 @base.py:275]\u001b[0m Start Epoch 959 ...\n"
     ]
    },
    {
     "name": "stderr",
     "output_type": "stream",
     "text": [
      "100%|###################################################################################|175/175[00:06<00:00,27.73it/s]"
     ]
    },
    {
     "name": "stdout",
     "output_type": "stream",
     "text": [
      "\u001b[32m[1022 15:07:16 @base.py:285]\u001b[0m Epoch 959 (global_step 201389) finished, time:6.31 seconds.\n",
      "\u001b[32m[1022 15:07:16 @saver.py:79]\u001b[0m Model saved to ../output/Chicago/DATWGAN_30/model\\model-201389.\n",
      "\u001b[32m[1022 15:07:16 @monitor.py:467]\u001b[0m GAN_loss/d_loss: -0.038304\n"
     ]
    },
    {
     "name": "stderr",
     "output_type": "stream",
     "text": [
      "\n"
     ]
    },
    {
     "name": "stdout",
     "output_type": "stream",
     "text": [
      "\u001b[32m[1022 15:07:16 @monitor.py:467]\u001b[0m GAN_loss/g_loss: 0.26408\n",
      "\u001b[32m[1022 15:07:16 @monitor.py:467]\u001b[0m GAN_loss/gradient_penalty: 0.0048559\n",
      "\u001b[32m[1022 15:07:16 @monitor.py:467]\u001b[0m GAN_loss/gradient_rms: 0.99958\n",
      "\u001b[32m[1022 15:07:16 @monitor.py:467]\u001b[0m GAN_loss/kl_div: 0.061111\n",
      "\u001b[32m[1022 15:07:16 @monitor.py:467]\u001b[0m QueueInput/queue_size: 50\n",
      "\u001b[32m[1022 15:07:16 @base.py:275]\u001b[0m Start Epoch 960 ...\n"
     ]
    },
    {
     "name": "stderr",
     "output_type": "stream",
     "text": [
      "100%|###################################################################################|175/175[00:06<00:00,27.74it/s]"
     ]
    },
    {
     "name": "stdout",
     "output_type": "stream",
     "text": [
      "\u001b[32m[1022 15:07:23 @base.py:285]\u001b[0m Epoch 960 (global_step 201599) finished, time:6.31 seconds.\n",
      "\u001b[32m[1022 15:07:23 @saver.py:79]\u001b[0m Model saved to ../output/Chicago/DATWGAN_30/model\\model-201599.\n"
     ]
    },
    {
     "name": "stderr",
     "output_type": "stream",
     "text": [
      "\n"
     ]
    },
    {
     "name": "stdout",
     "output_type": "stream",
     "text": [
      "\u001b[32m[1022 15:07:23 @monitor.py:467]\u001b[0m GAN_loss/d_loss: -0.033899\n",
      "\u001b[32m[1022 15:07:23 @monitor.py:467]\u001b[0m GAN_loss/g_loss: 0.26673\n",
      "\u001b[32m[1022 15:07:23 @monitor.py:467]\u001b[0m GAN_loss/gradient_penalty: 0.0048109\n",
      "\u001b[32m[1022 15:07:23 @monitor.py:467]\u001b[0m GAN_loss/gradient_rms: 0.99825\n",
      "\u001b[32m[1022 15:07:23 @monitor.py:467]\u001b[0m GAN_loss/kl_div: 0.060975\n",
      "\u001b[32m[1022 15:07:23 @monitor.py:467]\u001b[0m QueueInput/queue_size: 50\n",
      "\u001b[32m[1022 15:07:23 @base.py:275]\u001b[0m Start Epoch 961 ...\n"
     ]
    },
    {
     "name": "stderr",
     "output_type": "stream",
     "text": [
      "100%|###################################################################################|175/175[00:06<00:00,27.71it/s]"
     ]
    },
    {
     "name": "stdout",
     "output_type": "stream",
     "text": [
      "\u001b[32m[1022 15:07:29 @base.py:285]\u001b[0m Epoch 961 (global_step 201809) finished, time:6.32 seconds.\n",
      "\u001b[32m[1022 15:07:29 @saver.py:79]\u001b[0m Model saved to ../output/Chicago/DATWGAN_30/model\\model-201809.\n",
      "\u001b[32m[1022 15:07:29 @monitor.py:467]\u001b[0m GAN_loss/d_loss: -0.034519\n"
     ]
    },
    {
     "name": "stderr",
     "output_type": "stream",
     "text": [
      "\n"
     ]
    },
    {
     "name": "stdout",
     "output_type": "stream",
     "text": [
      "\u001b[32m[1022 15:07:29 @monitor.py:467]\u001b[0m GAN_loss/g_loss: 0.25703\n",
      "\u001b[32m[1022 15:07:29 @monitor.py:467]\u001b[0m GAN_loss/gradient_penalty: 0.0048789\n",
      "\u001b[32m[1022 15:07:29 @monitor.py:467]\u001b[0m GAN_loss/gradient_rms: 0.99823\n",
      "\u001b[32m[1022 15:07:29 @monitor.py:467]\u001b[0m GAN_loss/kl_div: 0.060179\n",
      "\u001b[32m[1022 15:07:29 @monitor.py:467]\u001b[0m QueueInput/queue_size: 50\n",
      "\u001b[32m[1022 15:07:29 @base.py:275]\u001b[0m Start Epoch 962 ...\n"
     ]
    },
    {
     "name": "stderr",
     "output_type": "stream",
     "text": [
      "100%|###################################################################################|175/175[00:06<00:00,27.72it/s]"
     ]
    },
    {
     "name": "stdout",
     "output_type": "stream",
     "text": [
      "\u001b[32m[1022 15:07:36 @base.py:285]\u001b[0m Epoch 962 (global_step 202019) finished, time:6.31 seconds.\n",
      "\u001b[32m[1022 15:07:36 @saver.py:79]\u001b[0m Model saved to ../output/Chicago/DATWGAN_30/model\\model-202019.\n"
     ]
    },
    {
     "name": "stderr",
     "output_type": "stream",
     "text": [
      "\n"
     ]
    },
    {
     "name": "stdout",
     "output_type": "stream",
     "text": [
      "\u001b[32m[1022 15:07:36 @monitor.py:467]\u001b[0m GAN_loss/d_loss: -0.032409\n",
      "\u001b[32m[1022 15:07:36 @monitor.py:467]\u001b[0m GAN_loss/g_loss: 0.26029\n",
      "\u001b[32m[1022 15:07:36 @monitor.py:467]\u001b[0m GAN_loss/gradient_penalty: 0.0048839\n",
      "\u001b[32m[1022 15:07:36 @monitor.py:467]\u001b[0m GAN_loss/gradient_rms: 0.99997\n",
      "\u001b[32m[1022 15:07:36 @monitor.py:467]\u001b[0m GAN_loss/kl_div: 0.059028\n",
      "\u001b[32m[1022 15:07:36 @monitor.py:467]\u001b[0m QueueInput/queue_size: 50\n",
      "\u001b[32m[1022 15:07:36 @base.py:275]\u001b[0m Start Epoch 963 ...\n"
     ]
    },
    {
     "name": "stderr",
     "output_type": "stream",
     "text": [
      "100%|###################################################################################|175/175[00:06<00:00,27.74it/s]"
     ]
    },
    {
     "name": "stdout",
     "output_type": "stream",
     "text": [
      "\u001b[32m[1022 15:07:42 @base.py:285]\u001b[0m Epoch 963 (global_step 202229) finished, time:6.31 seconds.\n",
      "\u001b[32m[1022 15:07:42 @saver.py:79]\u001b[0m Model saved to ../output/Chicago/DATWGAN_30/model\\model-202229.\n"
     ]
    },
    {
     "name": "stderr",
     "output_type": "stream",
     "text": [
      "\n"
     ]
    },
    {
     "name": "stdout",
     "output_type": "stream",
     "text": [
      "\u001b[32m[1022 15:07:42 @monitor.py:467]\u001b[0m GAN_loss/d_loss: -0.036207\n",
      "\u001b[32m[1022 15:07:42 @monitor.py:467]\u001b[0m GAN_loss/g_loss: 0.2607\n",
      "\u001b[32m[1022 15:07:42 @monitor.py:467]\u001b[0m GAN_loss/gradient_penalty: 0.0048768\n",
      "\u001b[32m[1022 15:07:42 @monitor.py:467]\u001b[0m GAN_loss/gradient_rms: 0.99825\n",
      "\u001b[32m[1022 15:07:42 @monitor.py:467]\u001b[0m GAN_loss/kl_div: 0.064756\n",
      "\u001b[32m[1022 15:07:42 @monitor.py:467]\u001b[0m QueueInput/queue_size: 50\n",
      "\u001b[32m[1022 15:07:42 @base.py:275]\u001b[0m Start Epoch 964 ...\n"
     ]
    },
    {
     "name": "stderr",
     "output_type": "stream",
     "text": [
      "100%|###################################################################################|175/175[00:06<00:00,27.72it/s]"
     ]
    },
    {
     "name": "stdout",
     "output_type": "stream",
     "text": [
      "\u001b[32m[1022 15:07:49 @base.py:285]\u001b[0m Epoch 964 (global_step 202439) finished, time:6.31 seconds.\n",
      "\u001b[32m[1022 15:07:49 @saver.py:79]\u001b[0m Model saved to ../output/Chicago/DATWGAN_30/model\\model-202439.\n"
     ]
    },
    {
     "name": "stderr",
     "output_type": "stream",
     "text": [
      "\n"
     ]
    },
    {
     "name": "stdout",
     "output_type": "stream",
     "text": [
      "\u001b[32m[1022 15:07:49 @monitor.py:467]\u001b[0m GAN_loss/d_loss: -0.016503\n",
      "\u001b[32m[1022 15:07:49 @monitor.py:467]\u001b[0m GAN_loss/g_loss: 0.25344\n",
      "\u001b[32m[1022 15:07:49 @monitor.py:467]\u001b[0m GAN_loss/gradient_penalty: 0.0049803\n",
      "\u001b[32m[1022 15:07:49 @monitor.py:467]\u001b[0m GAN_loss/gradient_rms: 0.9996\n",
      "\u001b[32m[1022 15:07:49 @monitor.py:467]\u001b[0m GAN_loss/kl_div: 0.05756\n",
      "\u001b[32m[1022 15:07:49 @monitor.py:467]\u001b[0m QueueInput/queue_size: 50\n",
      "\u001b[32m[1022 15:07:49 @base.py:275]\u001b[0m Start Epoch 965 ...\n"
     ]
    },
    {
     "name": "stderr",
     "output_type": "stream",
     "text": [
      "100%|###################################################################################|175/175[00:06<00:00,27.75it/s]"
     ]
    },
    {
     "name": "stdout",
     "output_type": "stream",
     "text": [
      "\u001b[32m[1022 15:07:55 @base.py:285]\u001b[0m Epoch 965 (global_step 202649) finished, time:6.31 seconds.\n",
      "\u001b[32m[1022 15:07:55 @saver.py:79]\u001b[0m Model saved to ../output/Chicago/DATWGAN_30/model\\model-202649.\n",
      "\u001b[32m[1022 15:07:56 @monitor.py:467]\u001b[0m GAN_loss/d_loss: -0.029329\n"
     ]
    },
    {
     "name": "stderr",
     "output_type": "stream",
     "text": [
      "\n"
     ]
    },
    {
     "name": "stdout",
     "output_type": "stream",
     "text": [
      "\u001b[32m[1022 15:07:56 @monitor.py:467]\u001b[0m GAN_loss/g_loss: 0.25536\n",
      "\u001b[32m[1022 15:07:56 @monitor.py:467]\u001b[0m GAN_loss/gradient_penalty: 0.0048625\n",
      "\u001b[32m[1022 15:07:56 @monitor.py:467]\u001b[0m GAN_loss/gradient_rms: 0.99835\n",
      "\u001b[32m[1022 15:07:56 @monitor.py:467]\u001b[0m GAN_loss/kl_div: 0.059196\n",
      "\u001b[32m[1022 15:07:56 @monitor.py:467]\u001b[0m QueueInput/queue_size: 50\n",
      "\u001b[32m[1022 15:07:56 @base.py:275]\u001b[0m Start Epoch 966 ...\n"
     ]
    },
    {
     "name": "stderr",
     "output_type": "stream",
     "text": [
      "100%|###################################################################################|175/175[00:06<00:00,27.74it/s]"
     ]
    },
    {
     "name": "stdout",
     "output_type": "stream",
     "text": [
      "\u001b[32m[1022 15:08:02 @base.py:285]\u001b[0m Epoch 966 (global_step 202859) finished, time:6.31 seconds.\n",
      "\u001b[32m[1022 15:08:02 @saver.py:79]\u001b[0m Model saved to ../output/Chicago/DATWGAN_30/model\\model-202859.\n"
     ]
    },
    {
     "name": "stderr",
     "output_type": "stream",
     "text": [
      "\n"
     ]
    },
    {
     "name": "stdout",
     "output_type": "stream",
     "text": [
      "\u001b[32m[1022 15:08:02 @monitor.py:467]\u001b[0m GAN_loss/d_loss: -0.029889\n",
      "\u001b[32m[1022 15:08:02 @monitor.py:467]\u001b[0m GAN_loss/g_loss: 0.24667\n",
      "\u001b[32m[1022 15:08:02 @monitor.py:467]\u001b[0m GAN_loss/gradient_penalty: 0.0049391\n",
      "\u001b[32m[1022 15:08:02 @monitor.py:467]\u001b[0m GAN_loss/gradient_rms: 0.99835\n",
      "\u001b[32m[1022 15:08:02 @monitor.py:467]\u001b[0m GAN_loss/kl_div: 0.057666\n",
      "\u001b[32m[1022 15:08:02 @monitor.py:467]\u001b[0m QueueInput/queue_size: 50\n",
      "\u001b[32m[1022 15:08:02 @base.py:275]\u001b[0m Start Epoch 967 ...\n"
     ]
    },
    {
     "name": "stderr",
     "output_type": "stream",
     "text": [
      "100%|###################################################################################|175/175[00:06<00:00,27.73it/s]"
     ]
    },
    {
     "name": "stdout",
     "output_type": "stream",
     "text": [
      "\u001b[32m[1022 15:08:08 @base.py:285]\u001b[0m Epoch 967 (global_step 203069) finished, time:6.31 seconds.\n",
      "\u001b[32m[1022 15:08:08 @saver.py:79]\u001b[0m Model saved to ../output/Chicago/DATWGAN_30/model\\model-203069.\n",
      "\u001b[32m[1022 15:08:09 @monitor.py:467]\u001b[0m GAN_loss/d_loss: -0.022863\n"
     ]
    },
    {
     "name": "stderr",
     "output_type": "stream",
     "text": [
      "\n"
     ]
    },
    {
     "name": "stdout",
     "output_type": "stream",
     "text": [
      "\u001b[32m[1022 15:08:09 @monitor.py:467]\u001b[0m GAN_loss/g_loss: 0.24235\n",
      "\u001b[32m[1022 15:08:09 @monitor.py:467]\u001b[0m GAN_loss/gradient_penalty: 0.0049873\n",
      "\u001b[32m[1022 15:08:09 @monitor.py:467]\u001b[0m GAN_loss/gradient_rms: 0.99869\n",
      "\u001b[32m[1022 15:08:09 @monitor.py:467]\u001b[0m GAN_loss/kl_div: 0.05936\n",
      "\u001b[32m[1022 15:08:09 @monitor.py:467]\u001b[0m QueueInput/queue_size: 50\n",
      "\u001b[32m[1022 15:08:09 @base.py:275]\u001b[0m Start Epoch 968 ...\n"
     ]
    },
    {
     "name": "stderr",
     "output_type": "stream",
     "text": [
      "100%|###################################################################################|175/175[00:06<00:00,27.76it/s]"
     ]
    },
    {
     "name": "stdout",
     "output_type": "stream",
     "text": [
      "\u001b[32m[1022 15:08:15 @base.py:285]\u001b[0m Epoch 968 (global_step 203279) finished, time:6.31 seconds.\n",
      "\u001b[32m[1022 15:08:15 @saver.py:79]\u001b[0m Model saved to ../output/Chicago/DATWGAN_30/model\\model-203279.\n"
     ]
    },
    {
     "name": "stderr",
     "output_type": "stream",
     "text": [
      "\n"
     ]
    },
    {
     "name": "stdout",
     "output_type": "stream",
     "text": [
      "\u001b[32m[1022 15:08:15 @monitor.py:467]\u001b[0m GAN_loss/d_loss: -0.01568\n",
      "\u001b[32m[1022 15:08:15 @monitor.py:467]\u001b[0m GAN_loss/g_loss: 0.23082\n",
      "\u001b[32m[1022 15:08:15 @monitor.py:467]\u001b[0m GAN_loss/gradient_penalty: 0.0049288\n",
      "\u001b[32m[1022 15:08:15 @monitor.py:467]\u001b[0m GAN_loss/gradient_rms: 0.99899\n",
      "\u001b[32m[1022 15:08:15 @monitor.py:467]\u001b[0m GAN_loss/kl_div: 0.060677\n",
      "\u001b[32m[1022 15:08:15 @monitor.py:467]\u001b[0m QueueInput/queue_size: 50\n",
      "\u001b[32m[1022 15:08:15 @base.py:275]\u001b[0m Start Epoch 969 ...\n"
     ]
    },
    {
     "name": "stderr",
     "output_type": "stream",
     "text": [
      "100%|###################################################################################|175/175[00:06<00:00,27.73it/s]"
     ]
    },
    {
     "name": "stdout",
     "output_type": "stream",
     "text": [
      "\u001b[32m[1022 15:08:21 @base.py:285]\u001b[0m Epoch 969 (global_step 203489) finished, time:6.31 seconds.\n",
      "\u001b[32m[1022 15:08:21 @saver.py:79]\u001b[0m Model saved to ../output/Chicago/DATWGAN_30/model\\model-203489.\n"
     ]
    },
    {
     "name": "stderr",
     "output_type": "stream",
     "text": [
      "\n"
     ]
    },
    {
     "name": "stdout",
     "output_type": "stream",
     "text": [
      "\u001b[32m[1022 15:08:22 @monitor.py:467]\u001b[0m GAN_loss/d_loss: -0.033708\n",
      "\u001b[32m[1022 15:08:22 @monitor.py:467]\u001b[0m GAN_loss/g_loss: 0.23633\n",
      "\u001b[32m[1022 15:08:22 @monitor.py:467]\u001b[0m GAN_loss/gradient_penalty: 0.00478\n",
      "\u001b[32m[1022 15:08:22 @monitor.py:467]\u001b[0m GAN_loss/gradient_rms: 0.99842\n",
      "\u001b[32m[1022 15:08:22 @monitor.py:467]\u001b[0m GAN_loss/kl_div: 0.055515\n",
      "\u001b[32m[1022 15:08:22 @monitor.py:467]\u001b[0m QueueInput/queue_size: 50\n",
      "\u001b[32m[1022 15:08:22 @base.py:275]\u001b[0m Start Epoch 970 ...\n"
     ]
    },
    {
     "name": "stderr",
     "output_type": "stream",
     "text": [
      "100%|###################################################################################|175/175[00:06<00:00,27.76it/s]"
     ]
    },
    {
     "name": "stdout",
     "output_type": "stream",
     "text": [
      "\u001b[32m[1022 15:08:28 @base.py:285]\u001b[0m Epoch 970 (global_step 203699) finished, time:6.31 seconds.\n",
      "\u001b[32m[1022 15:08:28 @saver.py:79]\u001b[0m Model saved to ../output/Chicago/DATWGAN_30/model\\model-203699.\n",
      "\u001b[32m[1022 15:08:28 @monitor.py:467]\u001b[0m GAN_loss/d_loss: -0.020531\n"
     ]
    },
    {
     "name": "stderr",
     "output_type": "stream",
     "text": [
      "\n"
     ]
    },
    {
     "name": "stdout",
     "output_type": "stream",
     "text": [
      "\u001b[32m[1022 15:08:28 @monitor.py:467]\u001b[0m GAN_loss/g_loss: 0.23665\n",
      "\u001b[32m[1022 15:08:28 @monitor.py:467]\u001b[0m GAN_loss/gradient_penalty: 0.0049297\n",
      "\u001b[32m[1022 15:08:28 @monitor.py:467]\u001b[0m GAN_loss/gradient_rms: 1.0003\n",
      "\u001b[32m[1022 15:08:28 @monitor.py:467]\u001b[0m GAN_loss/kl_div: 0.056944\n",
      "\u001b[32m[1022 15:08:28 @monitor.py:467]\u001b[0m QueueInput/queue_size: 50\n",
      "\u001b[32m[1022 15:08:28 @base.py:275]\u001b[0m Start Epoch 971 ...\n"
     ]
    },
    {
     "name": "stderr",
     "output_type": "stream",
     "text": [
      "100%|###################################################################################|175/175[00:06<00:00,27.70it/s]"
     ]
    },
    {
     "name": "stdout",
     "output_type": "stream",
     "text": [
      "\u001b[32m[1022 15:08:34 @base.py:285]\u001b[0m Epoch 971 (global_step 203909) finished, time:6.32 seconds.\n",
      "\u001b[32m[1022 15:08:34 @saver.py:79]\u001b[0m Model saved to ../output/Chicago/DATWGAN_30/model\\model-203909.\n",
      "\u001b[32m[1022 15:08:35 @monitor.py:467]\u001b[0m GAN_loss/d_loss: -0.028079\n"
     ]
    },
    {
     "name": "stderr",
     "output_type": "stream",
     "text": [
      "\n"
     ]
    },
    {
     "name": "stdout",
     "output_type": "stream",
     "text": [
      "\u001b[32m[1022 15:08:35 @monitor.py:467]\u001b[0m GAN_loss/g_loss: 0.2318\n",
      "\u001b[32m[1022 15:08:35 @monitor.py:467]\u001b[0m GAN_loss/gradient_penalty: 0.0049229\n",
      "\u001b[32m[1022 15:08:35 @monitor.py:467]\u001b[0m GAN_loss/gradient_rms: 0.99843\n",
      "\u001b[32m[1022 15:08:35 @monitor.py:467]\u001b[0m GAN_loss/kl_div: 0.064368\n",
      "\u001b[32m[1022 15:08:35 @monitor.py:467]\u001b[0m QueueInput/queue_size: 50\n",
      "\u001b[32m[1022 15:08:35 @base.py:275]\u001b[0m Start Epoch 972 ...\n"
     ]
    },
    {
     "name": "stderr",
     "output_type": "stream",
     "text": [
      "100%|###################################################################################|175/175[00:06<00:00,27.74it/s]"
     ]
    },
    {
     "name": "stdout",
     "output_type": "stream",
     "text": [
      "\u001b[32m[1022 15:08:41 @base.py:285]\u001b[0m Epoch 972 (global_step 204119) finished, time:6.31 seconds.\n",
      "\u001b[32m[1022 15:08:41 @saver.py:79]\u001b[0m Model saved to ../output/Chicago/DATWGAN_30/model\\model-204119.\n"
     ]
    },
    {
     "name": "stderr",
     "output_type": "stream",
     "text": [
      "\n"
     ]
    },
    {
     "name": "stdout",
     "output_type": "stream",
     "text": [
      "\u001b[32m[1022 15:08:41 @monitor.py:467]\u001b[0m GAN_loss/d_loss: -0.018724\n",
      "\u001b[32m[1022 15:08:41 @monitor.py:467]\u001b[0m GAN_loss/g_loss: 0.23782\n",
      "\u001b[32m[1022 15:08:41 @monitor.py:467]\u001b[0m GAN_loss/gradient_penalty: 0.0048726\n",
      "\u001b[32m[1022 15:08:41 @monitor.py:467]\u001b[0m GAN_loss/gradient_rms: 0.9987\n",
      "\u001b[32m[1022 15:08:41 @monitor.py:467]\u001b[0m GAN_loss/kl_div: 0.057165\n",
      "\u001b[32m[1022 15:08:41 @monitor.py:467]\u001b[0m QueueInput/queue_size: 50\n",
      "\u001b[32m[1022 15:08:41 @base.py:275]\u001b[0m Start Epoch 973 ...\n"
     ]
    },
    {
     "name": "stderr",
     "output_type": "stream",
     "text": [
      "100%|###################################################################################|175/175[00:06<00:00,27.75it/s]"
     ]
    },
    {
     "name": "stdout",
     "output_type": "stream",
     "text": [
      "\u001b[32m[1022 15:08:47 @base.py:285]\u001b[0m Epoch 973 (global_step 204329) finished, time:6.31 seconds.\n",
      "\u001b[32m[1022 15:08:47 @saver.py:79]\u001b[0m Model saved to ../output/Chicago/DATWGAN_30/model\\model-204329.\n",
      "\u001b[32m[1022 15:08:48 @monitor.py:467]\u001b[0m GAN_loss/d_loss: -0.016851\n"
     ]
    },
    {
     "name": "stderr",
     "output_type": "stream",
     "text": [
      "\n"
     ]
    },
    {
     "name": "stdout",
     "output_type": "stream",
     "text": [
      "\u001b[32m[1022 15:08:48 @monitor.py:467]\u001b[0m GAN_loss/g_loss: 0.23692\n",
      "\u001b[32m[1022 15:08:48 @monitor.py:467]\u001b[0m GAN_loss/gradient_penalty: 0.0048434\n",
      "\u001b[32m[1022 15:08:48 @monitor.py:467]\u001b[0m GAN_loss/gradient_rms: 0.99947\n",
      "\u001b[32m[1022 15:08:48 @monitor.py:467]\u001b[0m GAN_loss/kl_div: 0.059047\n",
      "\u001b[32m[1022 15:08:48 @monitor.py:467]\u001b[0m QueueInput/queue_size: 50\n",
      "\u001b[32m[1022 15:08:48 @base.py:275]\u001b[0m Start Epoch 974 ...\n"
     ]
    },
    {
     "name": "stderr",
     "output_type": "stream",
     "text": [
      "100%|###################################################################################|175/175[00:06<00:00,27.73it/s]"
     ]
    },
    {
     "name": "stdout",
     "output_type": "stream",
     "text": [
      "\u001b[32m[1022 15:08:54 @base.py:285]\u001b[0m Epoch 974 (global_step 204539) finished, time:6.31 seconds.\n",
      "\u001b[32m[1022 15:08:54 @saver.py:79]\u001b[0m Model saved to ../output/Chicago/DATWGAN_30/model\\model-204539.\n"
     ]
    },
    {
     "name": "stderr",
     "output_type": "stream",
     "text": [
      "\n"
     ]
    },
    {
     "name": "stdout",
     "output_type": "stream",
     "text": [
      "\u001b[32m[1022 15:08:54 @monitor.py:467]\u001b[0m GAN_loss/d_loss: -0.029141\n",
      "\u001b[32m[1022 15:08:54 @monitor.py:467]\u001b[0m GAN_loss/g_loss: 0.23949\n",
      "\u001b[32m[1022 15:08:54 @monitor.py:467]\u001b[0m GAN_loss/gradient_penalty: 0.0049008\n",
      "\u001b[32m[1022 15:08:54 @monitor.py:467]\u001b[0m GAN_loss/gradient_rms: 0.99896\n",
      "\u001b[32m[1022 15:08:54 @monitor.py:467]\u001b[0m GAN_loss/kl_div: 0.059718\n",
      "\u001b[32m[1022 15:08:54 @monitor.py:467]\u001b[0m QueueInput/queue_size: 50\n",
      "\u001b[32m[1022 15:08:54 @base.py:275]\u001b[0m Start Epoch 975 ...\n"
     ]
    },
    {
     "name": "stderr",
     "output_type": "stream",
     "text": [
      "100%|###################################################################################|175/175[00:06<00:00,27.73it/s]"
     ]
    },
    {
     "name": "stdout",
     "output_type": "stream",
     "text": [
      "\u001b[32m[1022 15:09:00 @base.py:285]\u001b[0m Epoch 975 (global_step 204749) finished, time:6.31 seconds.\n",
      "\u001b[32m[1022 15:09:00 @saver.py:79]\u001b[0m Model saved to ../output/Chicago/DATWGAN_30/model\\model-204749.\n",
      "\u001b[32m[1022 15:09:01 @monitor.py:467]\u001b[0m GAN_loss/d_loss: -0.029925\n"
     ]
    },
    {
     "name": "stderr",
     "output_type": "stream",
     "text": [
      "\n"
     ]
    },
    {
     "name": "stdout",
     "output_type": "stream",
     "text": [
      "\u001b[32m[1022 15:09:01 @monitor.py:467]\u001b[0m GAN_loss/g_loss: 0.23577\n",
      "\u001b[32m[1022 15:09:01 @monitor.py:467]\u001b[0m GAN_loss/gradient_penalty: 0.004757\n",
      "\u001b[32m[1022 15:09:01 @monitor.py:467]\u001b[0m GAN_loss/gradient_rms: 0.99791\n",
      "\u001b[32m[1022 15:09:01 @monitor.py:467]\u001b[0m GAN_loss/kl_div: 0.060731\n",
      "\u001b[32m[1022 15:09:01 @monitor.py:467]\u001b[0m QueueInput/queue_size: 50\n",
      "\u001b[32m[1022 15:09:01 @base.py:275]\u001b[0m Start Epoch 976 ...\n"
     ]
    },
    {
     "name": "stderr",
     "output_type": "stream",
     "text": [
      "100%|###################################################################################|175/175[00:06<00:00,27.73it/s]"
     ]
    },
    {
     "name": "stdout",
     "output_type": "stream",
     "text": [
      "\u001b[32m[1022 15:09:07 @base.py:285]\u001b[0m Epoch 976 (global_step 204959) finished, time:6.31 seconds.\n",
      "\u001b[32m[1022 15:09:07 @saver.py:79]\u001b[0m Model saved to ../output/Chicago/DATWGAN_30/model\\model-204959.\n",
      "\u001b[32m[1022 15:09:07 @monitor.py:467]\u001b[0m GAN_loss/d_loss: -0.031837\n"
     ]
    },
    {
     "name": "stderr",
     "output_type": "stream",
     "text": [
      "\n"
     ]
    },
    {
     "name": "stdout",
     "output_type": "stream",
     "text": [
      "\u001b[32m[1022 15:09:07 @monitor.py:467]\u001b[0m GAN_loss/g_loss: 0.23883\n",
      "\u001b[32m[1022 15:09:07 @monitor.py:467]\u001b[0m GAN_loss/gradient_penalty: 0.0047453\n",
      "\u001b[32m[1022 15:09:07 @monitor.py:467]\u001b[0m GAN_loss/gradient_rms: 0.99866\n",
      "\u001b[32m[1022 15:09:07 @monitor.py:467]\u001b[0m GAN_loss/kl_div: 0.057162\n",
      "\u001b[32m[1022 15:09:07 @monitor.py:467]\u001b[0m QueueInput/queue_size: 50\n",
      "\u001b[32m[1022 15:09:07 @base.py:275]\u001b[0m Start Epoch 977 ...\n"
     ]
    },
    {
     "name": "stderr",
     "output_type": "stream",
     "text": [
      "100%|###################################################################################|175/175[00:06<00:00,27.74it/s]"
     ]
    },
    {
     "name": "stdout",
     "output_type": "stream",
     "text": [
      "\u001b[32m[1022 15:09:13 @base.py:285]\u001b[0m Epoch 977 (global_step 205169) finished, time:6.31 seconds.\n",
      "\u001b[32m[1022 15:09:14 @saver.py:79]\u001b[0m Model saved to ../output/Chicago/DATWGAN_30/model\\model-205169.\n",
      "\u001b[32m[1022 15:09:14 @monitor.py:467]\u001b[0m GAN_loss/d_loss: -0.028682\n"
     ]
    },
    {
     "name": "stderr",
     "output_type": "stream",
     "text": [
      "\n"
     ]
    },
    {
     "name": "stdout",
     "output_type": "stream",
     "text": [
      "\u001b[32m[1022 15:09:14 @monitor.py:467]\u001b[0m GAN_loss/g_loss: 0.23795\n",
      "\u001b[32m[1022 15:09:14 @monitor.py:467]\u001b[0m GAN_loss/gradient_penalty: 0.0048804\n",
      "\u001b[32m[1022 15:09:14 @monitor.py:467]\u001b[0m GAN_loss/gradient_rms: 0.99918\n",
      "\u001b[32m[1022 15:09:14 @monitor.py:467]\u001b[0m GAN_loss/kl_div: 0.062202\n",
      "\u001b[32m[1022 15:09:14 @monitor.py:467]\u001b[0m QueueInput/queue_size: 50\n",
      "\u001b[32m[1022 15:09:14 @base.py:275]\u001b[0m Start Epoch 978 ...\n"
     ]
    },
    {
     "name": "stderr",
     "output_type": "stream",
     "text": [
      "100%|###################################################################################|175/175[00:06<00:00,27.74it/s]"
     ]
    },
    {
     "name": "stdout",
     "output_type": "stream",
     "text": [
      "\u001b[32m[1022 15:09:20 @base.py:285]\u001b[0m Epoch 978 (global_step 205379) finished, time:6.31 seconds.\n",
      "\u001b[32m[1022 15:09:20 @saver.py:79]\u001b[0m Model saved to ../output/Chicago/DATWGAN_30/model\\model-205379.\n"
     ]
    },
    {
     "name": "stderr",
     "output_type": "stream",
     "text": [
      "\n"
     ]
    },
    {
     "name": "stdout",
     "output_type": "stream",
     "text": [
      "\u001b[32m[1022 15:09:20 @monitor.py:467]\u001b[0m GAN_loss/d_loss: -0.023339\n",
      "\u001b[32m[1022 15:09:20 @monitor.py:467]\u001b[0m GAN_loss/g_loss: 0.23624\n",
      "\u001b[32m[1022 15:09:20 @monitor.py:467]\u001b[0m GAN_loss/gradient_penalty: 0.0048654\n",
      "\u001b[32m[1022 15:09:20 @monitor.py:467]\u001b[0m GAN_loss/gradient_rms: 0.99877\n",
      "\u001b[32m[1022 15:09:20 @monitor.py:467]\u001b[0m GAN_loss/kl_div: 0.061208\n",
      "\u001b[32m[1022 15:09:20 @monitor.py:467]\u001b[0m QueueInput/queue_size: 50\n",
      "\u001b[32m[1022 15:09:20 @base.py:275]\u001b[0m Start Epoch 979 ...\n"
     ]
    },
    {
     "name": "stderr",
     "output_type": "stream",
     "text": [
      "100%|###################################################################################|175/175[00:06<00:00,27.73it/s]"
     ]
    },
    {
     "name": "stdout",
     "output_type": "stream",
     "text": [
      "\u001b[32m[1022 15:09:26 @base.py:285]\u001b[0m Epoch 979 (global_step 205589) finished, time:6.31 seconds.\n",
      "\u001b[32m[1022 15:09:27 @saver.py:79]\u001b[0m Model saved to ../output/Chicago/DATWGAN_30/model\\model-205589.\n"
     ]
    },
    {
     "name": "stderr",
     "output_type": "stream",
     "text": [
      "\n"
     ]
    },
    {
     "name": "stdout",
     "output_type": "stream",
     "text": [
      "\u001b[32m[1022 15:09:27 @monitor.py:467]\u001b[0m GAN_loss/d_loss: -0.023759\n",
      "\u001b[32m[1022 15:09:27 @monitor.py:467]\u001b[0m GAN_loss/g_loss: 0.2349\n",
      "\u001b[32m[1022 15:09:27 @monitor.py:467]\u001b[0m GAN_loss/gradient_penalty: 0.0048233\n",
      "\u001b[32m[1022 15:09:27 @monitor.py:467]\u001b[0m GAN_loss/gradient_rms: 0.99878\n",
      "\u001b[32m[1022 15:09:27 @monitor.py:467]\u001b[0m GAN_loss/kl_div: 0.058565\n",
      "\u001b[32m[1022 15:09:27 @monitor.py:467]\u001b[0m QueueInput/queue_size: 50\n",
      "\u001b[32m[1022 15:09:27 @base.py:275]\u001b[0m Start Epoch 980 ...\n"
     ]
    },
    {
     "name": "stderr",
     "output_type": "stream",
     "text": [
      "100%|###################################################################################|175/175[00:06<00:00,27.76it/s]"
     ]
    },
    {
     "name": "stdout",
     "output_type": "stream",
     "text": [
      "\u001b[32m[1022 15:09:33 @base.py:285]\u001b[0m Epoch 980 (global_step 205799) finished, time:6.31 seconds.\n",
      "\u001b[32m[1022 15:09:33 @saver.py:79]\u001b[0m Model saved to ../output/Chicago/DATWGAN_30/model\\model-205799.\n"
     ]
    },
    {
     "name": "stderr",
     "output_type": "stream",
     "text": [
      "\n"
     ]
    },
    {
     "name": "stdout",
     "output_type": "stream",
     "text": [
      "\u001b[32m[1022 15:09:33 @monitor.py:467]\u001b[0m GAN_loss/d_loss: -0.015282\n",
      "\u001b[32m[1022 15:09:33 @monitor.py:467]\u001b[0m GAN_loss/g_loss: 0.23411\n",
      "\u001b[32m[1022 15:09:33 @monitor.py:467]\u001b[0m GAN_loss/gradient_penalty: 0.0048518\n",
      "\u001b[32m[1022 15:09:33 @monitor.py:467]\u001b[0m GAN_loss/gradient_rms: 0.99848\n",
      "\u001b[32m[1022 15:09:33 @monitor.py:467]\u001b[0m GAN_loss/kl_div: 0.06229\n",
      "\u001b[32m[1022 15:09:33 @monitor.py:467]\u001b[0m QueueInput/queue_size: 50\n",
      "\u001b[32m[1022 15:09:33 @base.py:275]\u001b[0m Start Epoch 981 ...\n"
     ]
    },
    {
     "name": "stderr",
     "output_type": "stream",
     "text": [
      "100%|###################################################################################|175/175[00:06<00:00,27.74it/s]"
     ]
    },
    {
     "name": "stdout",
     "output_type": "stream",
     "text": [
      "\u001b[32m[1022 15:09:40 @base.py:285]\u001b[0m Epoch 981 (global_step 206009) finished, time:6.31 seconds.\n",
      "\u001b[32m[1022 15:09:40 @saver.py:79]\u001b[0m Model saved to ../output/Chicago/DATWGAN_30/model\\model-206009.\n"
     ]
    },
    {
     "name": "stderr",
     "output_type": "stream",
     "text": [
      "\n"
     ]
    },
    {
     "name": "stdout",
     "output_type": "stream",
     "text": [
      "\u001b[32m[1022 15:09:40 @monitor.py:467]\u001b[0m GAN_loss/d_loss: -0.02707\n",
      "\u001b[32m[1022 15:09:40 @monitor.py:467]\u001b[0m GAN_loss/g_loss: 0.23667\n",
      "\u001b[32m[1022 15:09:40 @monitor.py:467]\u001b[0m GAN_loss/gradient_penalty: 0.0048357\n",
      "\u001b[32m[1022 15:09:40 @monitor.py:467]\u001b[0m GAN_loss/gradient_rms: 0.99796\n",
      "\u001b[32m[1022 15:09:40 @monitor.py:467]\u001b[0m GAN_loss/kl_div: 0.061787\n",
      "\u001b[32m[1022 15:09:40 @monitor.py:467]\u001b[0m QueueInput/queue_size: 50\n",
      "\u001b[32m[1022 15:09:40 @base.py:275]\u001b[0m Start Epoch 982 ...\n"
     ]
    },
    {
     "name": "stderr",
     "output_type": "stream",
     "text": [
      "100%|###################################################################################|175/175[00:06<00:00,27.75it/s]"
     ]
    },
    {
     "name": "stdout",
     "output_type": "stream",
     "text": [
      "\u001b[32m[1022 15:09:46 @base.py:285]\u001b[0m Epoch 982 (global_step 206219) finished, time:6.31 seconds.\n",
      "\u001b[32m[1022 15:09:46 @saver.py:79]\u001b[0m Model saved to ../output/Chicago/DATWGAN_30/model\\model-206219.\n"
     ]
    },
    {
     "name": "stderr",
     "output_type": "stream",
     "text": [
      "\n"
     ]
    },
    {
     "name": "stdout",
     "output_type": "stream",
     "text": [
      "\u001b[32m[1022 15:09:46 @monitor.py:467]\u001b[0m GAN_loss/d_loss: -0.022666\n",
      "\u001b[32m[1022 15:09:46 @monitor.py:467]\u001b[0m GAN_loss/g_loss: 0.23435\n",
      "\u001b[32m[1022 15:09:46 @monitor.py:467]\u001b[0m GAN_loss/gradient_penalty: 0.0048133\n",
      "\u001b[32m[1022 15:09:46 @monitor.py:467]\u001b[0m GAN_loss/gradient_rms: 0.99929\n",
      "\u001b[32m[1022 15:09:46 @monitor.py:467]\u001b[0m GAN_loss/kl_div: 0.058732\n",
      "\u001b[32m[1022 15:09:46 @monitor.py:467]\u001b[0m QueueInput/queue_size: 50\n",
      "\u001b[32m[1022 15:09:46 @base.py:275]\u001b[0m Start Epoch 983 ...\n"
     ]
    },
    {
     "name": "stderr",
     "output_type": "stream",
     "text": [
      "100%|###################################################################################|175/175[00:06<00:00,27.71it/s]"
     ]
    },
    {
     "name": "stdout",
     "output_type": "stream",
     "text": [
      "\u001b[32m[1022 15:09:53 @base.py:285]\u001b[0m Epoch 983 (global_step 206429) finished, time:6.32 seconds.\n",
      "\u001b[32m[1022 15:09:53 @saver.py:79]\u001b[0m Model saved to ../output/Chicago/DATWGAN_30/model\\model-206429.\n"
     ]
    },
    {
     "name": "stderr",
     "output_type": "stream",
     "text": [
      "\n"
     ]
    },
    {
     "name": "stdout",
     "output_type": "stream",
     "text": [
      "\u001b[32m[1022 15:09:53 @monitor.py:467]\u001b[0m GAN_loss/d_loss: -0.020708\n",
      "\u001b[32m[1022 15:09:53 @monitor.py:467]\u001b[0m GAN_loss/g_loss: 0.23203\n",
      "\u001b[32m[1022 15:09:53 @monitor.py:467]\u001b[0m GAN_loss/gradient_penalty: 0.0047977\n",
      "\u001b[32m[1022 15:09:53 @monitor.py:467]\u001b[0m GAN_loss/gradient_rms: 0.99893\n",
      "\u001b[32m[1022 15:09:53 @monitor.py:467]\u001b[0m GAN_loss/kl_div: 0.06129\n",
      "\u001b[32m[1022 15:09:53 @monitor.py:467]\u001b[0m QueueInput/queue_size: 50\n",
      "\u001b[32m[1022 15:09:53 @base.py:275]\u001b[0m Start Epoch 984 ...\n"
     ]
    },
    {
     "name": "stderr",
     "output_type": "stream",
     "text": [
      "100%|###################################################################################|175/175[00:06<00:00,27.73it/s]"
     ]
    },
    {
     "name": "stdout",
     "output_type": "stream",
     "text": [
      "\u001b[32m[1022 15:09:59 @base.py:285]\u001b[0m Epoch 984 (global_step 206639) finished, time:6.31 seconds.\n",
      "\u001b[32m[1022 15:09:59 @saver.py:79]\u001b[0m Model saved to ../output/Chicago/DATWGAN_30/model\\model-206639.\n"
     ]
    },
    {
     "name": "stderr",
     "output_type": "stream",
     "text": [
      "\n"
     ]
    },
    {
     "name": "stdout",
     "output_type": "stream",
     "text": [
      "\u001b[32m[1022 15:09:59 @monitor.py:467]\u001b[0m GAN_loss/d_loss: -0.024511\n",
      "\u001b[32m[1022 15:09:59 @monitor.py:467]\u001b[0m GAN_loss/g_loss: 0.24638\n",
      "\u001b[32m[1022 15:09:59 @monitor.py:467]\u001b[0m GAN_loss/gradient_penalty: 0.0048049\n",
      "\u001b[32m[1022 15:09:59 @monitor.py:467]\u001b[0m GAN_loss/gradient_rms: 0.99872\n",
      "\u001b[32m[1022 15:09:59 @monitor.py:467]\u001b[0m GAN_loss/kl_div: 0.062999\n",
      "\u001b[32m[1022 15:09:59 @monitor.py:467]\u001b[0m QueueInput/queue_size: 50\n",
      "\u001b[32m[1022 15:09:59 @base.py:275]\u001b[0m Start Epoch 985 ...\n"
     ]
    },
    {
     "name": "stderr",
     "output_type": "stream",
     "text": [
      "100%|###################################################################################|175/175[00:06<00:00,27.74it/s]"
     ]
    },
    {
     "name": "stdout",
     "output_type": "stream",
     "text": [
      "\u001b[32m[1022 15:10:06 @base.py:285]\u001b[0m Epoch 985 (global_step 206849) finished, time:6.31 seconds.\n",
      "\u001b[32m[1022 15:10:06 @saver.py:79]\u001b[0m Model saved to ../output/Chicago/DATWGAN_30/model\\model-206849.\n"
     ]
    },
    {
     "name": "stderr",
     "output_type": "stream",
     "text": [
      "\n"
     ]
    },
    {
     "name": "stdout",
     "output_type": "stream",
     "text": [
      "\u001b[32m[1022 15:10:06 @monitor.py:467]\u001b[0m GAN_loss/d_loss: -0.023247\n",
      "\u001b[32m[1022 15:10:06 @monitor.py:467]\u001b[0m GAN_loss/g_loss: 0.24367\n",
      "\u001b[32m[1022 15:10:06 @monitor.py:467]\u001b[0m GAN_loss/gradient_penalty: 0.0047681\n",
      "\u001b[32m[1022 15:10:06 @monitor.py:467]\u001b[0m GAN_loss/gradient_rms: 0.99876\n",
      "\u001b[32m[1022 15:10:06 @monitor.py:467]\u001b[0m GAN_loss/kl_div: 0.058823\n",
      "\u001b[32m[1022 15:10:06 @monitor.py:467]\u001b[0m QueueInput/queue_size: 50\n",
      "\u001b[32m[1022 15:10:06 @base.py:275]\u001b[0m Start Epoch 986 ...\n"
     ]
    },
    {
     "name": "stderr",
     "output_type": "stream",
     "text": [
      "100%|###################################################################################|175/175[00:06<00:00,27.74it/s]"
     ]
    },
    {
     "name": "stdout",
     "output_type": "stream",
     "text": [
      "\u001b[32m[1022 15:10:12 @base.py:285]\u001b[0m Epoch 986 (global_step 207059) finished, time:6.31 seconds.\n",
      "\u001b[32m[1022 15:10:12 @saver.py:79]\u001b[0m Model saved to ../output/Chicago/DATWGAN_30/model\\model-207059.\n"
     ]
    },
    {
     "name": "stderr",
     "output_type": "stream",
     "text": [
      "\n"
     ]
    },
    {
     "name": "stdout",
     "output_type": "stream",
     "text": [
      "\u001b[32m[1022 15:10:12 @monitor.py:467]\u001b[0m GAN_loss/d_loss: -0.023754\n",
      "\u001b[32m[1022 15:10:12 @monitor.py:467]\u001b[0m GAN_loss/g_loss: 0.24295\n",
      "\u001b[32m[1022 15:10:12 @monitor.py:467]\u001b[0m GAN_loss/gradient_penalty: 0.0048029\n",
      "\u001b[32m[1022 15:10:12 @monitor.py:467]\u001b[0m GAN_loss/gradient_rms: 0.99975\n",
      "\u001b[32m[1022 15:10:12 @monitor.py:467]\u001b[0m GAN_loss/kl_div: 0.057355\n",
      "\u001b[32m[1022 15:10:12 @monitor.py:467]\u001b[0m QueueInput/queue_size: 50\n",
      "\u001b[32m[1022 15:10:12 @base.py:275]\u001b[0m Start Epoch 987 ...\n"
     ]
    },
    {
     "name": "stderr",
     "output_type": "stream",
     "text": [
      "100%|###################################################################################|175/175[00:06<00:00,27.74it/s]"
     ]
    },
    {
     "name": "stdout",
     "output_type": "stream",
     "text": [
      "\u001b[32m[1022 15:10:19 @base.py:285]\u001b[0m Epoch 987 (global_step 207269) finished, time:6.31 seconds.\n",
      "\u001b[32m[1022 15:10:19 @saver.py:79]\u001b[0m Model saved to ../output/Chicago/DATWGAN_30/model\\model-207269.\n"
     ]
    },
    {
     "name": "stderr",
     "output_type": "stream",
     "text": [
      "\n"
     ]
    },
    {
     "name": "stdout",
     "output_type": "stream",
     "text": [
      "\u001b[32m[1022 15:10:19 @monitor.py:467]\u001b[0m GAN_loss/d_loss: -0.018892\n",
      "\u001b[32m[1022 15:10:19 @monitor.py:467]\u001b[0m GAN_loss/g_loss: 0.24419\n",
      "\u001b[32m[1022 15:10:19 @monitor.py:467]\u001b[0m GAN_loss/gradient_penalty: 0.0048182\n",
      "\u001b[32m[1022 15:10:19 @monitor.py:467]\u001b[0m GAN_loss/gradient_rms: 0.99826\n",
      "\u001b[32m[1022 15:10:19 @monitor.py:467]\u001b[0m GAN_loss/kl_div: 0.063255\n",
      "\u001b[32m[1022 15:10:19 @monitor.py:467]\u001b[0m QueueInput/queue_size: 50\n",
      "\u001b[32m[1022 15:10:19 @base.py:275]\u001b[0m Start Epoch 988 ...\n"
     ]
    },
    {
     "name": "stderr",
     "output_type": "stream",
     "text": [
      "100%|###################################################################################|175/175[00:06<00:00,27.74it/s]"
     ]
    },
    {
     "name": "stdout",
     "output_type": "stream",
     "text": [
      "\u001b[32m[1022 15:10:25 @base.py:285]\u001b[0m Epoch 988 (global_step 207479) finished, time:6.31 seconds.\n",
      "\u001b[32m[1022 15:10:25 @saver.py:79]\u001b[0m Model saved to ../output/Chicago/DATWGAN_30/model\\model-207479.\n",
      "\u001b[32m[1022 15:10:25 @monitor.py:467]\u001b[0m GAN_loss/d_loss: -0.019851\n"
     ]
    },
    {
     "name": "stderr",
     "output_type": "stream",
     "text": [
      "\n"
     ]
    },
    {
     "name": "stdout",
     "output_type": "stream",
     "text": [
      "\u001b[32m[1022 15:10:25 @monitor.py:467]\u001b[0m GAN_loss/g_loss: 0.24699\n",
      "\u001b[32m[1022 15:10:25 @monitor.py:467]\u001b[0m GAN_loss/gradient_penalty: 0.0048182\n",
      "\u001b[32m[1022 15:10:25 @monitor.py:467]\u001b[0m GAN_loss/gradient_rms: 0.99926\n",
      "\u001b[32m[1022 15:10:25 @monitor.py:467]\u001b[0m GAN_loss/kl_div: 0.062671\n",
      "\u001b[32m[1022 15:10:25 @monitor.py:467]\u001b[0m QueueInput/queue_size: 50\n",
      "\u001b[32m[1022 15:10:25 @base.py:275]\u001b[0m Start Epoch 989 ...\n"
     ]
    },
    {
     "name": "stderr",
     "output_type": "stream",
     "text": [
      "100%|###################################################################################|175/175[00:06<00:00,27.72it/s]"
     ]
    },
    {
     "name": "stdout",
     "output_type": "stream",
     "text": [
      "\u001b[32m[1022 15:10:32 @base.py:285]\u001b[0m Epoch 989 (global_step 207689) finished, time:6.31 seconds.\n",
      "\u001b[32m[1022 15:10:32 @saver.py:79]\u001b[0m Model saved to ../output/Chicago/DATWGAN_30/model\\model-207689.\n",
      "\u001b[32m[1022 15:10:32 @monitor.py:467]\u001b[0m GAN_loss/d_loss: -0.025353\n"
     ]
    },
    {
     "name": "stderr",
     "output_type": "stream",
     "text": [
      "\n"
     ]
    },
    {
     "name": "stdout",
     "output_type": "stream",
     "text": [
      "\u001b[32m[1022 15:10:32 @monitor.py:467]\u001b[0m GAN_loss/g_loss: 0.25677\n",
      "\u001b[32m[1022 15:10:32 @monitor.py:467]\u001b[0m GAN_loss/gradient_penalty: 0.0048603\n",
      "\u001b[32m[1022 15:10:32 @monitor.py:467]\u001b[0m GAN_loss/gradient_rms: 0.99977\n",
      "\u001b[32m[1022 15:10:32 @monitor.py:467]\u001b[0m GAN_loss/kl_div: 0.060059\n",
      "\u001b[32m[1022 15:10:32 @monitor.py:467]\u001b[0m QueueInput/queue_size: 50\n",
      "\u001b[32m[1022 15:10:32 @base.py:275]\u001b[0m Start Epoch 990 ...\n"
     ]
    },
    {
     "name": "stderr",
     "output_type": "stream",
     "text": [
      "100%|###################################################################################|175/175[00:06<00:00,27.73it/s]"
     ]
    },
    {
     "name": "stdout",
     "output_type": "stream",
     "text": [
      "\u001b[32m[1022 15:10:38 @base.py:285]\u001b[0m Epoch 990 (global_step 207899) finished, time:6.31 seconds.\n",
      "\u001b[32m[1022 15:10:38 @saver.py:79]\u001b[0m Model saved to ../output/Chicago/DATWGAN_30/model\\model-207899.\n",
      "\u001b[32m[1022 15:10:38 @monitor.py:467]\u001b[0m GAN_loss/d_loss: -0.039673\n"
     ]
    },
    {
     "name": "stderr",
     "output_type": "stream",
     "text": [
      "\n"
     ]
    },
    {
     "name": "stdout",
     "output_type": "stream",
     "text": [
      "\u001b[32m[1022 15:10:38 @monitor.py:467]\u001b[0m GAN_loss/g_loss: 0.24848\n",
      "\u001b[32m[1022 15:10:38 @monitor.py:467]\u001b[0m GAN_loss/gradient_penalty: 0.0048094\n",
      "\u001b[32m[1022 15:10:38 @monitor.py:467]\u001b[0m GAN_loss/gradient_rms: 0.99916\n",
      "\u001b[32m[1022 15:10:38 @monitor.py:467]\u001b[0m GAN_loss/kl_div: 0.061132\n",
      "\u001b[32m[1022 15:10:38 @monitor.py:467]\u001b[0m QueueInput/queue_size: 50\n",
      "\u001b[32m[1022 15:10:38 @base.py:275]\u001b[0m Start Epoch 991 ...\n"
     ]
    },
    {
     "name": "stderr",
     "output_type": "stream",
     "text": [
      "100%|###################################################################################|175/175[00:06<00:00,27.75it/s]"
     ]
    },
    {
     "name": "stdout",
     "output_type": "stream",
     "text": [
      "\u001b[32m[1022 15:10:45 @base.py:285]\u001b[0m Epoch 991 (global_step 208109) finished, time:6.31 seconds.\n",
      "\u001b[32m[1022 15:10:45 @saver.py:79]\u001b[0m Model saved to ../output/Chicago/DATWGAN_30/model\\model-208109.\n"
     ]
    },
    {
     "name": "stderr",
     "output_type": "stream",
     "text": [
      "\n"
     ]
    },
    {
     "name": "stdout",
     "output_type": "stream",
     "text": [
      "\u001b[32m[1022 15:10:45 @monitor.py:467]\u001b[0m GAN_loss/d_loss: -0.020845\n",
      "\u001b[32m[1022 15:10:45 @monitor.py:467]\u001b[0m GAN_loss/g_loss: 0.23269\n",
      "\u001b[32m[1022 15:10:45 @monitor.py:467]\u001b[0m GAN_loss/gradient_penalty: 0.0047864\n",
      "\u001b[32m[1022 15:10:45 @monitor.py:467]\u001b[0m GAN_loss/gradient_rms: 0.99923\n",
      "\u001b[32m[1022 15:10:45 @monitor.py:467]\u001b[0m GAN_loss/kl_div: 0.060214\n",
      "\u001b[32m[1022 15:10:45 @monitor.py:467]\u001b[0m QueueInput/queue_size: 50\n",
      "\u001b[32m[1022 15:10:45 @base.py:275]\u001b[0m Start Epoch 992 ...\n"
     ]
    },
    {
     "name": "stderr",
     "output_type": "stream",
     "text": [
      "100%|###################################################################################|175/175[00:06<00:00,27.75it/s]"
     ]
    },
    {
     "name": "stdout",
     "output_type": "stream",
     "text": [
      "\u001b[32m[1022 15:10:51 @base.py:285]\u001b[0m Epoch 992 (global_step 208319) finished, time:6.31 seconds.\n",
      "\u001b[32m[1022 15:10:51 @saver.py:79]\u001b[0m Model saved to ../output/Chicago/DATWGAN_30/model\\model-208319.\n",
      "\u001b[32m[1022 15:10:51 @monitor.py:467]\u001b[0m GAN_loss/d_loss: -0.029041\n"
     ]
    },
    {
     "name": "stderr",
     "output_type": "stream",
     "text": [
      "\n"
     ]
    },
    {
     "name": "stdout",
     "output_type": "stream",
     "text": [
      "\u001b[32m[1022 15:10:51 @monitor.py:467]\u001b[0m GAN_loss/g_loss: 0.2486\n",
      "\u001b[32m[1022 15:10:51 @monitor.py:467]\u001b[0m GAN_loss/gradient_penalty: 0.0047974\n",
      "\u001b[32m[1022 15:10:51 @monitor.py:467]\u001b[0m GAN_loss/gradient_rms: 0.99889\n",
      "\u001b[32m[1022 15:10:51 @monitor.py:467]\u001b[0m GAN_loss/kl_div: 0.05908\n",
      "\u001b[32m[1022 15:10:51 @monitor.py:467]\u001b[0m QueueInput/queue_size: 50\n",
      "\u001b[32m[1022 15:10:51 @base.py:275]\u001b[0m Start Epoch 993 ...\n"
     ]
    },
    {
     "name": "stderr",
     "output_type": "stream",
     "text": [
      "100%|###################################################################################|175/175[00:06<00:00,27.72it/s]"
     ]
    },
    {
     "name": "stdout",
     "output_type": "stream",
     "text": [
      "\u001b[32m[1022 15:10:58 @base.py:285]\u001b[0m Epoch 993 (global_step 208529) finished, time:6.31 seconds.\n",
      "\u001b[32m[1022 15:10:58 @saver.py:79]\u001b[0m Model saved to ../output/Chicago/DATWGAN_30/model\\model-208529.\n"
     ]
    },
    {
     "name": "stderr",
     "output_type": "stream",
     "text": [
      "\n"
     ]
    },
    {
     "name": "stdout",
     "output_type": "stream",
     "text": [
      "\u001b[32m[1022 15:10:58 @monitor.py:467]\u001b[0m GAN_loss/d_loss: -0.019755\n",
      "\u001b[32m[1022 15:10:58 @monitor.py:467]\u001b[0m GAN_loss/g_loss: 0.25303\n",
      "\u001b[32m[1022 15:10:58 @monitor.py:467]\u001b[0m GAN_loss/gradient_penalty: 0.0048029\n",
      "\u001b[32m[1022 15:10:58 @monitor.py:467]\u001b[0m GAN_loss/gradient_rms: 0.9998\n",
      "\u001b[32m[1022 15:10:58 @monitor.py:467]\u001b[0m GAN_loss/kl_div: 0.05723\n",
      "\u001b[32m[1022 15:10:58 @monitor.py:467]\u001b[0m QueueInput/queue_size: 50\n",
      "\u001b[32m[1022 15:10:58 @base.py:275]\u001b[0m Start Epoch 994 ...\n"
     ]
    },
    {
     "name": "stderr",
     "output_type": "stream",
     "text": [
      "100%|###################################################################################|175/175[00:06<00:00,27.72it/s]"
     ]
    },
    {
     "name": "stdout",
     "output_type": "stream",
     "text": [
      "\u001b[32m[1022 15:11:04 @base.py:285]\u001b[0m Epoch 994 (global_step 208739) finished, time:6.31 seconds.\n",
      "\u001b[32m[1022 15:11:04 @saver.py:79]\u001b[0m Model saved to ../output/Chicago/DATWGAN_30/model\\model-208739.\n"
     ]
    },
    {
     "name": "stderr",
     "output_type": "stream",
     "text": [
      "\n"
     ]
    },
    {
     "name": "stdout",
     "output_type": "stream",
     "text": [
      "\u001b[32m[1022 15:11:04 @monitor.py:467]\u001b[0m GAN_loss/d_loss: -0.014774\n",
      "\u001b[32m[1022 15:11:04 @monitor.py:467]\u001b[0m GAN_loss/g_loss: 0.2494\n",
      "\u001b[32m[1022 15:11:04 @monitor.py:467]\u001b[0m GAN_loss/gradient_penalty: 0.0047536\n",
      "\u001b[32m[1022 15:11:04 @monitor.py:467]\u001b[0m GAN_loss/gradient_rms: 0.9987\n",
      "\u001b[32m[1022 15:11:04 @monitor.py:467]\u001b[0m GAN_loss/kl_div: 0.061372\n",
      "\u001b[32m[1022 15:11:04 @monitor.py:467]\u001b[0m QueueInput/queue_size: 50\n",
      "\u001b[32m[1022 15:11:04 @base.py:275]\u001b[0m Start Epoch 995 ...\n"
     ]
    },
    {
     "name": "stderr",
     "output_type": "stream",
     "text": [
      "100%|###################################################################################|175/175[00:06<00:00,27.72it/s]"
     ]
    },
    {
     "name": "stdout",
     "output_type": "stream",
     "text": [
      "\u001b[32m[1022 15:11:11 @base.py:285]\u001b[0m Epoch 995 (global_step 208949) finished, time:6.31 seconds.\n",
      "\u001b[32m[1022 15:11:11 @saver.py:79]\u001b[0m Model saved to ../output/Chicago/DATWGAN_30/model\\model-208949.\n"
     ]
    },
    {
     "name": "stderr",
     "output_type": "stream",
     "text": [
      "\n"
     ]
    },
    {
     "name": "stdout",
     "output_type": "stream",
     "text": [
      "\u001b[32m[1022 15:11:11 @monitor.py:467]\u001b[0m GAN_loss/d_loss: -0.036856\n",
      "\u001b[32m[1022 15:11:11 @monitor.py:467]\u001b[0m GAN_loss/g_loss: 0.25806\n",
      "\u001b[32m[1022 15:11:11 @monitor.py:467]\u001b[0m GAN_loss/gradient_penalty: 0.0048086\n",
      "\u001b[32m[1022 15:11:11 @monitor.py:467]\u001b[0m GAN_loss/gradient_rms: 0.99957\n",
      "\u001b[32m[1022 15:11:11 @monitor.py:467]\u001b[0m GAN_loss/kl_div: 0.061468\n",
      "\u001b[32m[1022 15:11:11 @monitor.py:467]\u001b[0m QueueInput/queue_size: 50\n",
      "\u001b[32m[1022 15:11:11 @base.py:275]\u001b[0m Start Epoch 996 ...\n"
     ]
    },
    {
     "name": "stderr",
     "output_type": "stream",
     "text": [
      "100%|###################################################################################|175/175[00:06<00:00,27.73it/s]"
     ]
    },
    {
     "name": "stdout",
     "output_type": "stream",
     "text": [
      "\u001b[32m[1022 15:11:17 @base.py:285]\u001b[0m Epoch 996 (global_step 209159) finished, time:6.31 seconds.\n",
      "\u001b[32m[1022 15:11:17 @saver.py:79]\u001b[0m Model saved to ../output/Chicago/DATWGAN_30/model\\model-209159.\n"
     ]
    },
    {
     "name": "stderr",
     "output_type": "stream",
     "text": [
      "\n"
     ]
    },
    {
     "name": "stdout",
     "output_type": "stream",
     "text": [
      "\u001b[32m[1022 15:11:17 @monitor.py:467]\u001b[0m GAN_loss/d_loss: -0.037509\n",
      "\u001b[32m[1022 15:11:17 @monitor.py:467]\u001b[0m GAN_loss/g_loss: 0.25315\n",
      "\u001b[32m[1022 15:11:17 @monitor.py:467]\u001b[0m GAN_loss/gradient_penalty: 0.0048673\n",
      "\u001b[32m[1022 15:11:17 @monitor.py:467]\u001b[0m GAN_loss/gradient_rms: 0.99966\n",
      "\u001b[32m[1022 15:11:17 @monitor.py:467]\u001b[0m GAN_loss/kl_div: 0.059164\n",
      "\u001b[32m[1022 15:11:17 @monitor.py:467]\u001b[0m QueueInput/queue_size: 50\n",
      "\u001b[32m[1022 15:11:17 @base.py:275]\u001b[0m Start Epoch 997 ...\n"
     ]
    },
    {
     "name": "stderr",
     "output_type": "stream",
     "text": [
      "100%|###################################################################################|175/175[00:06<00:00,27.73it/s]"
     ]
    },
    {
     "name": "stdout",
     "output_type": "stream",
     "text": [
      "\u001b[32m[1022 15:11:24 @base.py:285]\u001b[0m Epoch 997 (global_step 209369) finished, time:6.31 seconds.\n",
      "\u001b[32m[1022 15:11:24 @saver.py:79]\u001b[0m Model saved to ../output/Chicago/DATWGAN_30/model\\model-209369.\n"
     ]
    },
    {
     "name": "stderr",
     "output_type": "stream",
     "text": [
      "\n"
     ]
    },
    {
     "name": "stdout",
     "output_type": "stream",
     "text": [
      "\u001b[32m[1022 15:11:24 @monitor.py:467]\u001b[0m GAN_loss/d_loss: -0.016278\n",
      "\u001b[32m[1022 15:11:24 @monitor.py:467]\u001b[0m GAN_loss/g_loss: 0.23534\n",
      "\u001b[32m[1022 15:11:24 @monitor.py:467]\u001b[0m GAN_loss/gradient_penalty: 0.0049367\n",
      "\u001b[32m[1022 15:11:24 @monitor.py:467]\u001b[0m GAN_loss/gradient_rms: 0.9991\n",
      "\u001b[32m[1022 15:11:24 @monitor.py:467]\u001b[0m GAN_loss/kl_div: 0.062302\n",
      "\u001b[32m[1022 15:11:24 @monitor.py:467]\u001b[0m QueueInput/queue_size: 50\n",
      "\u001b[32m[1022 15:11:24 @base.py:275]\u001b[0m Start Epoch 998 ...\n"
     ]
    },
    {
     "name": "stderr",
     "output_type": "stream",
     "text": [
      "100%|###################################################################################|175/175[00:06<00:00,27.72it/s]"
     ]
    },
    {
     "name": "stdout",
     "output_type": "stream",
     "text": [
      "\u001b[32m[1022 15:11:30 @base.py:285]\u001b[0m Epoch 998 (global_step 209579) finished, time:6.31 seconds.\n",
      "\u001b[32m[1022 15:11:30 @saver.py:79]\u001b[0m Model saved to ../output/Chicago/DATWGAN_30/model\\model-209579.\n",
      "\u001b[32m[1022 15:11:30 @monitor.py:467]\u001b[0m GAN_loss/d_loss: -0.027443\n"
     ]
    },
    {
     "name": "stderr",
     "output_type": "stream",
     "text": [
      "\n"
     ]
    },
    {
     "name": "stdout",
     "output_type": "stream",
     "text": [
      "\u001b[32m[1022 15:11:30 @monitor.py:467]\u001b[0m GAN_loss/g_loss: 0.23854\n",
      "\u001b[32m[1022 15:11:30 @monitor.py:467]\u001b[0m GAN_loss/gradient_penalty: 0.0048621\n",
      "\u001b[32m[1022 15:11:30 @monitor.py:467]\u001b[0m GAN_loss/gradient_rms: 0.99795\n",
      "\u001b[32m[1022 15:11:30 @monitor.py:467]\u001b[0m GAN_loss/kl_div: 0.059861\n",
      "\u001b[32m[1022 15:11:30 @monitor.py:467]\u001b[0m QueueInput/queue_size: 50\n",
      "\u001b[32m[1022 15:11:30 @base.py:275]\u001b[0m Start Epoch 999 ...\n"
     ]
    },
    {
     "name": "stderr",
     "output_type": "stream",
     "text": [
      "100%|###################################################################################|175/175[00:06<00:00,27.74it/s]"
     ]
    },
    {
     "name": "stdout",
     "output_type": "stream",
     "text": [
      "\u001b[32m[1022 15:11:37 @base.py:285]\u001b[0m Epoch 999 (global_step 209789) finished, time:6.31 seconds.\n",
      "\u001b[32m[1022 15:11:37 @saver.py:79]\u001b[0m Model saved to ../output/Chicago/DATWGAN_30/model\\model-209789.\n",
      "\u001b[32m[1022 15:11:37 @monitor.py:467]\u001b[0m GAN_loss/d_loss: -0.02383\n"
     ]
    },
    {
     "name": "stderr",
     "output_type": "stream",
     "text": [
      "\n"
     ]
    },
    {
     "name": "stdout",
     "output_type": "stream",
     "text": [
      "\u001b[32m[1022 15:11:37 @monitor.py:467]\u001b[0m GAN_loss/g_loss: 0.23661\n",
      "\u001b[32m[1022 15:11:37 @monitor.py:467]\u001b[0m GAN_loss/gradient_penalty: 0.0048075\n",
      "\u001b[32m[1022 15:11:37 @monitor.py:467]\u001b[0m GAN_loss/gradient_rms: 0.99816\n",
      "\u001b[32m[1022 15:11:37 @monitor.py:467]\u001b[0m GAN_loss/kl_div: 0.054863\n",
      "\u001b[32m[1022 15:11:37 @monitor.py:467]\u001b[0m QueueInput/queue_size: 50\n",
      "\u001b[32m[1022 15:11:37 @base.py:275]\u001b[0m Start Epoch 1000 ...\n"
     ]
    },
    {
     "name": "stderr",
     "output_type": "stream",
     "text": [
      "100%|###################################################################################|175/175[00:06<00:00,27.73it/s]"
     ]
    },
    {
     "name": "stdout",
     "output_type": "stream",
     "text": [
      "\u001b[32m[1022 15:11:43 @base.py:285]\u001b[0m Epoch 1000 (global_step 209999) finished, time:6.31 seconds.\n",
      "\u001b[32m[1022 15:11:43 @saver.py:79]\u001b[0m Model saved to ../output/Chicago/DATWGAN_30/model\\model-209999.\n"
     ]
    },
    {
     "name": "stderr",
     "output_type": "stream",
     "text": [
      "\n"
     ]
    },
    {
     "name": "stdout",
     "output_type": "stream",
     "text": [
      "\u001b[32m[1022 15:11:44 @monitor.py:467]\u001b[0m GAN_loss/d_loss: -0.032628\n",
      "\u001b[32m[1022 15:11:44 @monitor.py:467]\u001b[0m GAN_loss/g_loss: 0.24609\n",
      "\u001b[32m[1022 15:11:44 @monitor.py:467]\u001b[0m GAN_loss/gradient_penalty: 0.004826\n",
      "\u001b[32m[1022 15:11:44 @monitor.py:467]\u001b[0m GAN_loss/gradient_rms: 1.0004\n",
      "\u001b[32m[1022 15:11:44 @monitor.py:467]\u001b[0m GAN_loss/kl_div: 0.061365\n",
      "\u001b[32m[1022 15:11:44 @monitor.py:467]\u001b[0m QueueInput/queue_size: 50\n",
      "\u001b[32m[1022 15:11:44 @base.py:289]\u001b[0m Training has finished!\n",
      "WARNING:tensorflow:From D:\\Users\\glede\\anaconda3\\envs\\py37\\lib\\site-packages\\tensorpack\\predict\\config.py:101: The name tf.train.ChiefSessionCreator is deprecated. Please use tf.compat.v1.train.ChiefSessionCreator instead.\n",
      "\n",
      "\u001b[32m[1022 15:11:44 @DATGANModel.py:209]\u001b[0m \u001b[91mCreating cell for age (in-edges: 0)\n",
      "\u001b[32m[1022 15:11:44 @DATGANModel.py:209]\u001b[0m \u001b[91mCreating cell for gender (in-edges: 0)\n",
      "\u001b[32m[1022 15:11:44 @DATGANModel.py:209]\u001b[0m \u001b[91mCreating cell for travel_dow (in-edges: 0)\n",
      "\u001b[32m[1022 15:11:44 @DATGANModel.py:209]\u001b[0m \u001b[91mCreating cell for license (in-edges: 1)\n",
      "\u001b[32m[1022 15:11:44 @DATGANModel.py:209]\u001b[0m \u001b[91mCreating cell for education_level (in-edges: 1)\n",
      "\u001b[32m[1022 15:11:44 @DATGANModel.py:209]\u001b[0m \u001b[91mCreating cell for work_status (in-edges: 2)\n",
      "\u001b[32m[1022 15:11:44 @DATGANModel.py:209]\u001b[0m \u001b[91mCreating cell for hh_income (in-edges: 2)\n",
      "\u001b[32m[1022 15:11:44 @DATGANModel.py:209]\u001b[0m \u001b[91mCreating cell for trip_purpose (in-edges: 1)\n",
      "\u001b[32m[1022 15:11:44 @DATGANModel.py:209]\u001b[0m \u001b[91mCreating cell for hh_descr (in-edges: 2)\n",
      "\u001b[32m[1022 15:11:44 @DATGANModel.py:209]\u001b[0m \u001b[91mCreating cell for hh_size (in-edges: 3)\n",
      "\u001b[32m[1022 15:11:44 @DATGANModel.py:209]\u001b[0m \u001b[91mCreating cell for departure_time (in-edges: 1)\n",
      "\u001b[32m[1022 15:11:44 @input_source.py:178]\u001b[0m EnqueueThread QueueInput/input_queue Exited.\n",
      "\u001b[32m[1022 15:11:44 @DATGANModel.py:209]\u001b[0m \u001b[91mCreating cell for distance (in-edges: 1)\n",
      "\u001b[32m[1022 15:11:44 @DATGANModel.py:209]\u001b[0m \u001b[91mCreating cell for hh_vehicles (in-edges: 2)\n",
      "\u001b[32m[1022 15:11:44 @DATGANModel.py:209]\u001b[0m \u001b[91mCreating cell for hh_bikes (in-edges: 2)\n",
      "\u001b[32m[1022 15:11:45 @DATGANModel.py:209]\u001b[0m \u001b[91mCreating cell for choice (in-edges: 7)\n",
      "WARNING:tensorflow:From D:\\Users\\glede\\anaconda3\\envs\\py37\\lib\\site-packages\\tensorpack\\tfutils\\collection.py:45: The name tf.get_collection_ref is deprecated. Please use tf.compat.v1.get_collection_ref instead.\n",
      "\n",
      "\u001b[32m[1022 15:11:45 @sessinit.py:87]\u001b[0m \u001b[5m\u001b[31mWRN\u001b[0m The following variables are in the checkpoint, but not found in the graph: global_step, optimize/beta1_power, optimize/beta2_power\n",
      "WARNING:tensorflow:From D:\\Users\\glede\\anaconda3\\envs\\py37\\lib\\site-packages\\tensorflow_core\\python\\ops\\array_ops.py:1475: where (from tensorflow.python.ops.array_ops) is deprecated and will be removed in a future version.\n",
      "Instructions for updating:\n",
      "Use tf.where in 2.0, which has the same broadcast rule as np.where\n",
      "INFO:tensorflow:Graph was finalized.\n",
      "INFO:tensorflow:Running local_init_op.\n",
      "INFO:tensorflow:Done running local_init_op.\n",
      "\u001b[32m[1022 15:11:46 @sessinit.py:114]\u001b[0m Restoring checkpoint from ../output/Chicago/DATWGAN_30/model\\model-209999 ...\n",
      "INFO:tensorflow:Restoring parameters from ../output/Chicago/DATWGAN_30/model\\model-209999\n"
     ]
    }
   ],
   "source": [
    "test = datgan.fit(df, graph)"
   ]
  },
  {
   "cell_type": "code",
   "execution_count": 12,
   "metadata": {},
   "outputs": [
    {
     "name": "stdout",
     "output_type": "stream",
     "text": [
      "\u001b[32m[1022 15:12:08 @DATGAN.py:347]\u001b[0m Model saved successfully.\n"
     ]
    }
   ],
   "source": [
    "datgan.save('trained', force=True)"
   ]
  },
  {
   "cell_type": "code",
   "execution_count": 13,
   "metadata": {},
   "outputs": [],
   "source": [
    "beepy.beep(6)"
   ]
  }
 ],
 "metadata": {
  "kernelspec": {
   "display_name": "Python 3",
   "language": "python",
   "name": "python3"
  },
  "language_info": {
   "codemirror_mode": {
    "name": "ipython",
    "version": 3
   },
   "file_extension": ".py",
   "mimetype": "text/x-python",
   "name": "python",
   "nbconvert_exporter": "python",
   "pygments_lexer": "ipython3",
   "version": "3.7.9"
  }
 },
 "nbformat": 4,
 "nbformat_minor": 2
}
