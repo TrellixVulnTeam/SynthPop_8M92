{
 "cells": [
  {
   "cell_type": "code",
   "execution_count": 1,
   "metadata": {},
   "outputs": [],
   "source": [
    "import os\n",
    "os.chdir('../..')"
   ]
  },
  {
   "cell_type": "code",
   "execution_count": 2,
   "metadata": {},
   "outputs": [
    {
     "name": "stdout",
     "output_type": "stream",
     "text": [
      "3.7.9\n"
     ]
    }
   ],
   "source": [
    "from platform import python_version\n",
    "print(python_version())"
   ]
  },
  {
   "cell_type": "code",
   "execution_count": 3,
   "metadata": {},
   "outputs": [
    {
     "name": "stdout",
     "output_type": "stream",
     "text": [
      "WARNING:tensorflow:From D:\\Users\\glede\\anaconda3\\envs\\py37\\lib\\site-packages\\tensorpack\\callbacks\\hooks.py:17: The name tf.train.SessionRunHook is deprecated. Please use tf.estimator.SessionRunHook instead.\n",
      "\n",
      "WARNING:tensorflow:From D:\\Users\\glede\\anaconda3\\envs\\py37\\lib\\site-packages\\tensorpack\\tfutils\\optimizer.py:18: The name tf.train.Optimizer is deprecated. Please use tf.compat.v1.train.Optimizer instead.\n",
      "\n",
      "WARNING:tensorflow:From D:\\Users\\glede\\anaconda3\\envs\\py37\\lib\\site-packages\\tensorpack\\tfutils\\sesscreate.py:20: The name tf.train.SessionCreator is deprecated. Please use tf.compat.v1.train.SessionCreator instead.\n",
      "\n"
     ]
    }
   ],
   "source": [
    "import numpy as np\n",
    "import pandas as pd\n",
    "\n",
    "import tensorflow as tf\n",
    "\n",
    "import matplotlib.pyplot as plt\n",
    "\n",
    "from modules.datgan import DATWGAN\n",
    "\n",
    "import networkx as nx\n",
    "import json\n",
    "import beepy\n",
    "\n",
    "# For the Python notebook\n",
    "%matplotlib inline\n",
    "%reload_ext autoreload\n",
    "%autoreload 2"
   ]
  },
  {
   "cell_type": "code",
   "execution_count": 4,
   "metadata": {},
   "outputs": [],
   "source": [
    "dataset = 'Chicago'"
   ]
  },
  {
   "cell_type": "code",
   "execution_count": 5,
   "metadata": {},
   "outputs": [],
   "source": [
    "df = pd.read_csv('../data/{}/data.csv'.format(dataset), index_col=False)"
   ]
  },
  {
   "cell_type": "code",
   "execution_count": 6,
   "metadata": {},
   "outputs": [
    {
     "data": {
      "text/html": [
       "<div>\n",
       "<style scoped>\n",
       "    .dataframe tbody tr th:only-of-type {\n",
       "        vertical-align: middle;\n",
       "    }\n",
       "\n",
       "    .dataframe tbody tr th {\n",
       "        vertical-align: top;\n",
       "    }\n",
       "\n",
       "    .dataframe thead th {\n",
       "        text-align: right;\n",
       "    }\n",
       "</style>\n",
       "<table border=\"1\" class=\"dataframe\">\n",
       "  <thead>\n",
       "    <tr style=\"text-align: right;\">\n",
       "      <th></th>\n",
       "      <th>choice</th>\n",
       "      <th>travel_dow</th>\n",
       "      <th>trip_purpose</th>\n",
       "      <th>distance</th>\n",
       "      <th>hh_vehicles</th>\n",
       "      <th>hh_size</th>\n",
       "      <th>hh_bikes</th>\n",
       "      <th>hh_descr</th>\n",
       "      <th>hh_income</th>\n",
       "      <th>gender</th>\n",
       "      <th>age</th>\n",
       "      <th>license</th>\n",
       "      <th>education_level</th>\n",
       "      <th>work_status</th>\n",
       "      <th>departure_time</th>\n",
       "    </tr>\n",
       "  </thead>\n",
       "  <tbody>\n",
       "    <tr>\n",
       "      <th>0</th>\n",
       "      <td>drive</td>\n",
       "      <td>7</td>\n",
       "      <td>HOME_OTHER</td>\n",
       "      <td>23.42579</td>\n",
       "      <td>2</td>\n",
       "      <td>2</td>\n",
       "      <td>0</td>\n",
       "      <td>2</td>\n",
       "      <td>6</td>\n",
       "      <td>1</td>\n",
       "      <td>66</td>\n",
       "      <td>1.0</td>\n",
       "      <td>6</td>\n",
       "      <td>FTE</td>\n",
       "      <td>9.333333</td>\n",
       "    </tr>\n",
       "    <tr>\n",
       "      <th>1</th>\n",
       "      <td>drive</td>\n",
       "      <td>7</td>\n",
       "      <td>OTHER</td>\n",
       "      <td>1.71259</td>\n",
       "      <td>2</td>\n",
       "      <td>2</td>\n",
       "      <td>0</td>\n",
       "      <td>2</td>\n",
       "      <td>6</td>\n",
       "      <td>1</td>\n",
       "      <td>66</td>\n",
       "      <td>1.0</td>\n",
       "      <td>6</td>\n",
       "      <td>FTE</td>\n",
       "      <td>12.083333</td>\n",
       "    </tr>\n",
       "    <tr>\n",
       "      <th>2</th>\n",
       "      <td>drive</td>\n",
       "      <td>7</td>\n",
       "      <td>HOME_OTHER</td>\n",
       "      <td>21.77887</td>\n",
       "      <td>2</td>\n",
       "      <td>2</td>\n",
       "      <td>0</td>\n",
       "      <td>2</td>\n",
       "      <td>6</td>\n",
       "      <td>1</td>\n",
       "      <td>66</td>\n",
       "      <td>1.0</td>\n",
       "      <td>6</td>\n",
       "      <td>FTE</td>\n",
       "      <td>15.500000</td>\n",
       "    </tr>\n",
       "    <tr>\n",
       "      <th>3</th>\n",
       "      <td>drive</td>\n",
       "      <td>7</td>\n",
       "      <td>SHOPPING</td>\n",
       "      <td>2.02603</td>\n",
       "      <td>2</td>\n",
       "      <td>2</td>\n",
       "      <td>0</td>\n",
       "      <td>2</td>\n",
       "      <td>6</td>\n",
       "      <td>1</td>\n",
       "      <td>66</td>\n",
       "      <td>1.0</td>\n",
       "      <td>6</td>\n",
       "      <td>FTE</td>\n",
       "      <td>17.500000</td>\n",
       "    </tr>\n",
       "    <tr>\n",
       "      <th>4</th>\n",
       "      <td>drive</td>\n",
       "      <td>7</td>\n",
       "      <td>SHOPPING</td>\n",
       "      <td>0.87691</td>\n",
       "      <td>2</td>\n",
       "      <td>2</td>\n",
       "      <td>0</td>\n",
       "      <td>2</td>\n",
       "      <td>6</td>\n",
       "      <td>1</td>\n",
       "      <td>66</td>\n",
       "      <td>1.0</td>\n",
       "      <td>6</td>\n",
       "      <td>FTE</td>\n",
       "      <td>18.250000</td>\n",
       "    </tr>\n",
       "  </tbody>\n",
       "</table>\n",
       "</div>"
      ],
      "text/plain": [
       "  choice  travel_dow trip_purpose  distance  hh_vehicles  hh_size  hh_bikes  \\\n",
       "0  drive           7   HOME_OTHER  23.42579            2        2         0   \n",
       "1  drive           7        OTHER   1.71259            2        2         0   \n",
       "2  drive           7   HOME_OTHER  21.77887            2        2         0   \n",
       "3  drive           7     SHOPPING   2.02603            2        2         0   \n",
       "4  drive           7     SHOPPING   0.87691            2        2         0   \n",
       "\n",
       "   hh_descr  hh_income  gender  age  license  education_level work_status  \\\n",
       "0         2          6       1   66      1.0                6         FTE   \n",
       "1         2          6       1   66      1.0                6         FTE   \n",
       "2         2          6       1   66      1.0                6         FTE   \n",
       "3         2          6       1   66      1.0                6         FTE   \n",
       "4         2          6       1   66      1.0                6         FTE   \n",
       "\n",
       "   departure_time  \n",
       "0        9.333333  \n",
       "1       12.083333  \n",
       "2       15.500000  \n",
       "3       17.500000  \n",
       "4       18.250000  "
      ]
     },
     "execution_count": 6,
     "metadata": {},
     "output_type": "execute_result"
    }
   ],
   "source": [
    "df.head()"
   ]
  },
  {
   "cell_type": "code",
   "execution_count": 7,
   "metadata": {},
   "outputs": [],
   "source": [
    "if dataset is 'Chicago':\n",
    "    continuous_columns = [\"distance\", \"age\", \"departure_time\"]\n",
    "elif dataset is 'LPMC':\n",
    "    continuous_columns = ['start_time_linear', 'age', 'distance', 'dur_walking', 'dur_cycling', 'dur_pt_access', 'dur_pt_rail', 'dur_pt_bus', 'dur_pt_int', 'dur_driving', 'cost_transit', 'cost_driving_fuel', 'driving_traffic_percent']"
   ]
  },
  {
   "cell_type": "code",
   "execution_count": 8,
   "metadata": {},
   "outputs": [],
   "source": [
    "# personalised graph\n",
    "graph = nx.DiGraph()\n",
    "\n",
    "if dataset is 'Chicago':\n",
    "    graph.add_edges_from([\n",
    "        (\"age\", \"license\"),\n",
    "        (\"age\", \"education_level\"),\n",
    "        (\"gender\", \"work_status\"),\n",
    "        (\"education_level\", \"work_status\"),\n",
    "        (\"education_level\", \"hh_income\"),\n",
    "        (\"work_status\", \"hh_income\"),\n",
    "        (\"hh_income\", \"hh_descr\"),\n",
    "        (\"hh_income\", \"hh_size\"),\n",
    "        (\"hh_size\", \"hh_vehicles\"),\n",
    "        (\"hh_size\", \"hh_bikes\"),\n",
    "        (\"work_status\", \"trip_purpose\"),\n",
    "        (\"trip_purpose\", \"departure_time\"),\n",
    "        (\"trip_purpose\", \"distance\"),\n",
    "        (\"travel_dow\", \"choice\"),\n",
    "        (\"distance\", \"choice\"),\n",
    "        (\"departure_time\", \"choice\"),\n",
    "        (\"hh_vehicles\", \"choice\"),\n",
    "        (\"hh_bikes\", \"choice\"),\n",
    "        (\"license\", \"choice\"),\n",
    "        # Non necessary links\n",
    "        (\"education_level\", \"hh_size\"),\n",
    "        (\"work_status\", \"hh_descr\"),\n",
    "        (\"work_status\", \"hh_size\"),\n",
    "        (\"hh_income\", \"hh_bikes\"),\n",
    "        (\"hh_income\", \"hh_vehicles\"),\n",
    "        (\"trip_purpose\", \"choice\")\n",
    "    ])\n",
    "elif dataset is 'LPMC':\n",
    "    graph.add_edges_from([\n",
    "        (\"travel_year\", \"survey_year\"),\n",
    "        (\"travel_date\", \"day_of_week\"),\n",
    "        (\"day_of_week\", \"purpose\"),\n",
    "        (\"purpose\", \"start_time_linear\"),\n",
    "        (\"purpose\", \"cost_driving_con_charge\"),\n",
    "        (\"purpose\", \"distance\"),\n",
    "        (\"day_of_week\", \"driving_traffic_percent\"),\n",
    "        (\"day_of_week\", \"cost_driving_con_charge\"),\n",
    "        (\"start_time_linear\", \"driving_traffic_percent\"),\n",
    "        (\"start_time_linear\", \"cost_driving_con_charge\"),\n",
    "        (\"driving_traffic_percent\", \"cost_driving_con_charge\"),\n",
    "        (\"female\", \"driving_license\"),\n",
    "        (\"age\", \"bus_scale\"),\n",
    "        (\"age\", \"car_ownership\"),\n",
    "        (\"age\", \"driving_license\"),\n",
    "        (\"age\", \"faretype\"),\n",
    "        (\"driving_license\", \"car_ownership\"),\n",
    "        (\"car_ownership\", \"fueltype\"),\n",
    "        (\"fueltype\", \"cost_driving_con_charge\"),\n",
    "        (\"fueltype\", \"cost_driving_fuel\"),\n",
    "        (\"distance\", \"cost_driving_fuel\"),\n",
    "        (\"distance\", \"dur_driving\"),\n",
    "        (\"distance\", \"dur_walking\"),\n",
    "        (\"distance\", \"dur_cycling\"),\n",
    "        (\"distance\", \"dur_pt_access\"),\n",
    "        (\"distance\", \"dur_pt_rail\"),\n",
    "        (\"distance\", \"dur_pt_bus\"),\n",
    "        (\"distance\", \"dur_pt_int\"),\n",
    "        (\"dur_pt_bus\", \"cost_transit\"),\n",
    "        (\"dur_pt_rail\", \"cost_transit\"),\n",
    "        (\"pt_n_interchanges\", \"dur_pt_int\"),\n",
    "        (\"pt_n_interchanges\", \"cost_transit\"),\n",
    "        (\"faretype\", \"cost_transit\"),\n",
    "        (\"bus_scale\", \"cost_transit\"),\n",
    "        (\"car_ownership\", \"travel_mode\"),\n",
    "        (\"age\", \"travel_mode\"),\n",
    "        (\"cost_driving_con_charge\", \"travel_mode\"),\n",
    "        (\"driving_traffic_percent\", \"travel_mode\"),\n",
    "        (\"female\", \"travel_mode\"),\n",
    "        (\"purpose\", \"travel_mode\"),\n",
    "        (\"cost_transit\", \"travel_mode\"),\n",
    "        (\"cost_driving_fuel\", \"travel_mode\"),\n",
    "        (\"dur_driving\", \"travel_mode\"),\n",
    "        (\"dur_walking\", \"travel_mode\"),\n",
    "        (\"dur_cycling\", \"travel_mode\"),\n",
    "        (\"dur_pt_access\", \"travel_mode\"),\n",
    "        (\"dur_pt_rail\", \"travel_mode\"),\n",
    "        (\"dur_pt_bus\", \"travel_mode\"),\n",
    "        (\"dur_pt_int\", \"travel_mode\")\n",
    "    ])\n",
    "    graph.add_node(\"travel_month\")"
   ]
  },
  {
   "cell_type": "code",
   "execution_count": 9,
   "metadata": {},
   "outputs": [],
   "source": [
    "output_folder = '../output/' + dataset + '/DATWGAN_23/'"
   ]
  },
  {
   "cell_type": "code",
   "execution_count": 10,
   "metadata": {},
   "outputs": [],
   "source": [
    "datgan = DATWGAN(continuous_columns, max_epoch=500, batch_size=500, output=output_folder, gpu=0)"
   ]
  },
  {
   "cell_type": "code",
   "execution_count": 11,
   "metadata": {},
   "outputs": [
    {
     "name": "stdout",
     "output_type": "stream",
     "text": [
      "\u001b[32m[1021 23:54:57 @DATGAN.py:155]\u001b[0m Found preprocessed data\n",
      "\u001b[32m[1021 23:54:57 @DATGAN.py:163]\u001b[0m Preprocessed data have been loaded!\n",
      "WARNING:tensorflow:From D:\\Users\\glede\\anaconda3\\envs\\py37\\lib\\site-packages\\tensorpack\\graph_builder\\model_desc.py:29: The name tf.get_default_graph is deprecated. Please use tf.compat.v1.get_default_graph instead.\n",
      "\n",
      "WARNING:tensorflow:From D:\\Users\\glede\\anaconda3\\envs\\py37\\lib\\site-packages\\tensorpack\\graph_builder\\model_desc.py:39: The name tf.placeholder is deprecated. Please use tf.compat.v1.placeholder instead.\n",
      "\n",
      "WARNING:tensorflow:From D:\\Users\\glede\\anaconda3\\envs\\py37\\lib\\site-packages\\tensorpack\\input_source\\input_source.py:219: The name tf.FIFOQueue is deprecated. Please use tf.queue.FIFOQueue instead.\n",
      "\n",
      "\u001b[32m[1021 23:54:57 @input_source.py:222]\u001b[0m Setting up the queue 'QueueInput/input_queue' for CPU prefetching ...\n",
      "WARNING:tensorflow:From D:\\Users\\glede\\anaconda3\\envs\\py37\\lib\\site-packages\\tensorpack\\tfutils\\summary.py:237: The name tf.get_variable_scope is deprecated. Please use tf.compat.v1.get_variable_scope instead.\n",
      "\n",
      "WARNING:tensorflow:From D:\\Users\\glede\\anaconda3\\envs\\py37\\lib\\site-packages\\tensorpack\\tfutils\\summary.py:27: The name tf.variable_scope is deprecated. Please use tf.compat.v1.variable_scope instead.\n",
      "\n",
      "WARNING:tensorflow:From D:\\Users\\glede\\anaconda3\\envs\\py37\\lib\\site-packages\\tensorpack\\tfutils\\summary.py:254: The name tf.get_variable is deprecated. Please use tf.compat.v1.get_variable instead.\n",
      "\n",
      "WARNING:tensorflow:From D:\\Users\\glede\\anaconda3\\envs\\py37\\lib\\site-packages\\tensorpack\\tfutils\\summary.py:264: The name tf.summary.scalar is deprecated. Please use tf.compat.v1.summary.scalar instead.\n",
      "\n",
      "WARNING:tensorflow:From D:\\Users\\glede\\anaconda3\\envs\\py37\\lib\\site-packages\\tensorpack\\tfutils\\collection.py:105: The name tf.GraphKeys is deprecated. Please use tf.compat.v1.GraphKeys instead.\n",
      "\n",
      "WARNING:tensorflow:From D:\\Users\\glede\\anaconda3\\envs\\py37\\lib\\site-packages\\tensorpack\\tfutils\\collection.py:33: The name tf.get_collection is deprecated. Please use tf.compat.v1.get_collection instead.\n",
      "\n",
      "WARNING:tensorflow:From C:\\Users\\glede\\Documents\\EPFL\\PhD\\SynthPop\\code\\modules\\datgan\\DATGANModel.py:563: The name tf.random_normal is deprecated. Please use tf.random.normal instead.\n",
      "\n",
      "WARNING:tensorflow:From C:\\Users\\glede\\Documents\\EPFL\\PhD\\SynthPop\\code\\modules\\datgan\\DATGANModel.py:566: The name tf.placeholder_with_default is deprecated. Please use tf.compat.v1.placeholder_with_default instead.\n",
      "\n",
      "WARNING:tensorflow:From C:\\Users\\glede\\Documents\\EPFL\\PhD\\SynthPop\\code\\modules\\datgan\\DATGANModel.py:192: LSTMCell.__init__ (from tensorflow.python.ops.rnn_cell_impl) is deprecated and will be removed in a future version.\n",
      "Instructions for updating:\n",
      "This class is equivalent as tf.keras.layers.LSTMCell, and will be replaced by that in Tensorflow 2.0.\n",
      "\u001b[32m[1021 23:54:57 @DATGANModel.py:209]\u001b[0m \u001b[91mCreating cell for age (in-edges: 0)\n",
      "WARNING:tensorflow:From D:\\Users\\glede\\anaconda3\\envs\\py37\\lib\\site-packages\\tensorflow_core\\python\\ops\\rnn_cell_impl.py:958: Layer.add_variable (from tensorflow.python.keras.engine.base_layer) is deprecated and will be removed in a future version.\n",
      "Instructions for updating:\n",
      "Please use `layer.add_weight` method instead.\n",
      "WARNING:tensorflow:From D:\\Users\\glede\\anaconda3\\envs\\py37\\lib\\site-packages\\tensorflow_core\\python\\ops\\rnn_cell_impl.py:962: calling Zeros.__init__ (from tensorflow.python.ops.init_ops) with dtype is deprecated and will be removed in a future version.\n",
      "Instructions for updating:\n",
      "Call initializer instance with the dtype argument instead of passing it to the constructor\n",
      "\u001b[32m[1021 23:54:57 @registry.py:126]\u001b[0m gen/LSTM/00/FC input: [500, 100]\n",
      "WARNING:tensorflow:From D:\\Users\\glede\\anaconda3\\envs\\py37\\lib\\site-packages\\tensorpack\\models\\fc.py:57: The name tf.layers.Dense is deprecated. Please use tf.compat.v1.layers.Dense instead.\n",
      "\n",
      "WARNING:tensorflow:From D:\\Users\\glede\\anaconda3\\envs\\py37\\lib\\site-packages\\tensorpack\\models\\fc.py:67: Layer.apply (from tensorflow.python.keras.engine.base_layer) is deprecated and will be removed in a future version.\n",
      "Instructions for updating:\n",
      "Please use `layer.__call__` method instead.\n",
      "\u001b[32m[1021 23:54:57 @registry.py:134]\u001b[0m gen/LSTM/00/FC output: [500, 100]\n",
      "\u001b[32m[1021 23:54:57 @registry.py:126]\u001b[0m gen/LSTM/00/FC2_val input: [500, 100]\n",
      "\u001b[32m[1021 23:54:57 @registry.py:134]\u001b[0m gen/LSTM/00/FC2_val output: [500, 6]\n",
      "\u001b[32m[1021 23:54:57 @registry.py:126]\u001b[0m gen/LSTM/00/FC2_prob input: [500, 100]\n",
      "\u001b[32m[1021 23:54:57 @registry.py:134]\u001b[0m gen/LSTM/00/FC2_prob output: [500, 6]\n",
      "\u001b[32m[1021 23:54:57 @registry.py:126]\u001b[0m gen/LSTM/00/FC3 input: [500, 12]\n",
      "\u001b[32m[1021 23:54:57 @registry.py:134]\u001b[0m gen/LSTM/00/FC3 output: [500, 100]\n",
      "\u001b[32m[1021 23:54:57 @DATGANModel.py:209]\u001b[0m \u001b[91mCreating cell for gender (in-edges: 0)\n",
      "\u001b[32m[1021 23:54:57 @registry.py:126]\u001b[0m gen/LSTM/01/FC input: [500, 100]\n",
      "\u001b[32m[1021 23:54:57 @registry.py:134]\u001b[0m gen/LSTM/01/FC output: [500, 100]\n",
      "\u001b[32m[1021 23:54:57 @registry.py:126]\u001b[0m gen/LSTM/01/FC2 input: [500, 100]\n",
      "\u001b[32m[1021 23:54:57 @registry.py:134]\u001b[0m gen/LSTM/01/FC2 output: [500, 2]\n",
      "\u001b[32m[1021 23:54:57 @registry.py:126]\u001b[0m gen/LSTM/01/FC3 input: [500, 2]\n",
      "\u001b[32m[1021 23:54:57 @registry.py:134]\u001b[0m gen/LSTM/01/FC3 output: [500, 100]\n",
      "\u001b[32m[1021 23:54:57 @DATGANModel.py:209]\u001b[0m \u001b[91mCreating cell for travel_dow (in-edges: 0)\n",
      "\u001b[32m[1021 23:54:57 @registry.py:126]\u001b[0m gen/LSTM/02/FC input: [500, 100]\n",
      "\u001b[32m[1021 23:54:57 @registry.py:134]\u001b[0m gen/LSTM/02/FC output: [500, 100]\n",
      "\u001b[32m[1021 23:54:57 @registry.py:126]\u001b[0m gen/LSTM/02/FC2 input: [500, 100]\n",
      "\u001b[32m[1021 23:54:57 @registry.py:134]\u001b[0m gen/LSTM/02/FC2 output: [500, 7]\n",
      "\u001b[32m[1021 23:54:57 @registry.py:126]\u001b[0m gen/LSTM/02/FC3 input: [500, 7]\n",
      "\u001b[32m[1021 23:54:57 @registry.py:134]\u001b[0m gen/LSTM/02/FC3 output: [500, 100]\n",
      "\u001b[32m[1021 23:54:57 @DATGANModel.py:209]\u001b[0m \u001b[91mCreating cell for license (in-edges: 1)\n",
      "\u001b[32m[1021 23:54:57 @registry.py:126]\u001b[0m gen/LSTM/03/FC input: [500, 100]\n",
      "\u001b[32m[1021 23:54:57 @registry.py:134]\u001b[0m gen/LSTM/03/FC output: [500, 100]\n",
      "\u001b[32m[1021 23:54:57 @registry.py:126]\u001b[0m gen/LSTM/03/FC2 input: [500, 100]\n",
      "\u001b[32m[1021 23:54:57 @registry.py:134]\u001b[0m gen/LSTM/03/FC2 output: [500, 2]\n",
      "\u001b[32m[1021 23:54:57 @registry.py:126]\u001b[0m gen/LSTM/03/FC3 input: [500, 2]\n",
      "\u001b[32m[1021 23:54:57 @registry.py:134]\u001b[0m gen/LSTM/03/FC3 output: [500, 100]\n",
      "\u001b[32m[1021 23:54:57 @DATGANModel.py:209]\u001b[0m \u001b[91mCreating cell for education_level (in-edges: 1)\n",
      "\u001b[32m[1021 23:54:57 @registry.py:126]\u001b[0m gen/LSTM/04/FC input: [500, 100]\n",
      "\u001b[32m[1021 23:54:57 @registry.py:134]\u001b[0m gen/LSTM/04/FC output: [500, 100]\n",
      "\u001b[32m[1021 23:54:57 @registry.py:126]\u001b[0m gen/LSTM/04/FC2 input: [500, 100]\n",
      "\u001b[32m[1021 23:54:58 @registry.py:134]\u001b[0m gen/LSTM/04/FC2 output: [500, 6]\n",
      "\u001b[32m[1021 23:54:58 @registry.py:126]\u001b[0m gen/LSTM/04/FC3 input: [500, 6]\n",
      "\u001b[32m[1021 23:54:58 @registry.py:134]\u001b[0m gen/LSTM/04/FC3 output: [500, 100]\n",
      "\u001b[32m[1021 23:54:58 @DATGANModel.py:209]\u001b[0m \u001b[91mCreating cell for work_status (in-edges: 2)\n",
      "\u001b[32m[1021 23:54:58 @registry.py:126]\u001b[0m gen/LSTM/05/FC_inputs input: [500, 200]\n",
      "\u001b[32m[1021 23:54:58 @registry.py:134]\u001b[0m gen/LSTM/05/FC_inputs output: [500, 100]\n",
      "\u001b[32m[1021 23:54:58 @registry.py:126]\u001b[0m gen/LSTM/05/FC_attentions input: [500, 200]\n",
      "\u001b[32m[1021 23:54:58 @registry.py:134]\u001b[0m gen/LSTM/05/FC_attentions output: [500, 100]\n",
      "\u001b[32m[1021 23:54:58 @registry.py:126]\u001b[0m gen/LSTM/05/FC_lstm_state_0 input: [500, 200]\n",
      "\u001b[32m[1021 23:54:58 @registry.py:134]\u001b[0m gen/LSTM/05/FC_lstm_state_0 output: [500, 100]\n",
      "\u001b[32m[1021 23:54:58 @registry.py:126]\u001b[0m gen/LSTM/05/FC_lstm_state_1 input: [500, 200]\n",
      "\u001b[32m[1021 23:54:58 @registry.py:134]\u001b[0m gen/LSTM/05/FC_lstm_state_1 output: [500, 100]\n",
      "WARNING:tensorflow:From C:\\Users\\glede\\Documents\\EPFL\\PhD\\SynthPop\\code\\modules\\datgan\\DATGANModel.py:305: The name tf.nn.rnn_cell.LSTMStateTuple is deprecated. Please use tf.compat.v1.nn.rnn_cell.LSTMStateTuple instead.\n",
      "\n",
      "\u001b[32m[1021 23:54:58 @registry.py:126]\u001b[0m gen/LSTM/06/FC input: [500, 100]\n",
      "\u001b[32m[1021 23:54:58 @registry.py:134]\u001b[0m gen/LSTM/06/FC output: [500, 100]\n",
      "\u001b[32m[1021 23:54:58 @registry.py:126]\u001b[0m gen/LSTM/06/FC2 input: [500, 100]\n",
      "\u001b[32m[1021 23:54:58 @registry.py:134]\u001b[0m gen/LSTM/06/FC2 output: [500, 8]\n"
     ]
    },
    {
     "name": "stdout",
     "output_type": "stream",
     "text": [
      "\u001b[32m[1021 23:54:58 @registry.py:126]\u001b[0m gen/LSTM/06/FC3 input: [500, 8]\n",
      "\u001b[32m[1021 23:54:58 @registry.py:134]\u001b[0m gen/LSTM/06/FC3 output: [500, 100]\n",
      "\u001b[32m[1021 23:54:58 @DATGANModel.py:209]\u001b[0m \u001b[91mCreating cell for hh_income (in-edges: 2)\n",
      "\u001b[32m[1021 23:54:58 @registry.py:126]\u001b[0m gen/LSTM/07/FC_inputs input: [500, 200]\n",
      "\u001b[32m[1021 23:54:58 @registry.py:134]\u001b[0m gen/LSTM/07/FC_inputs output: [500, 100]\n",
      "\u001b[32m[1021 23:54:58 @registry.py:126]\u001b[0m gen/LSTM/07/FC_attentions input: [500, 200]\n",
      "\u001b[32m[1021 23:54:58 @registry.py:134]\u001b[0m gen/LSTM/07/FC_attentions output: [500, 100]\n",
      "\u001b[32m[1021 23:54:58 @registry.py:126]\u001b[0m gen/LSTM/07/FC_lstm_state_0 input: [500, 200]\n",
      "\u001b[32m[1021 23:54:58 @registry.py:134]\u001b[0m gen/LSTM/07/FC_lstm_state_0 output: [500, 100]\n",
      "\u001b[32m[1021 23:54:58 @registry.py:126]\u001b[0m gen/LSTM/07/FC_lstm_state_1 input: [500, 200]\n",
      "\u001b[32m[1021 23:54:58 @registry.py:134]\u001b[0m gen/LSTM/07/FC_lstm_state_1 output: [500, 100]\n",
      "\u001b[32m[1021 23:54:58 @registry.py:126]\u001b[0m gen/LSTM/08/FC input: [500, 100]\n",
      "\u001b[32m[1021 23:54:58 @registry.py:134]\u001b[0m gen/LSTM/08/FC output: [500, 100]\n",
      "\u001b[32m[1021 23:54:58 @registry.py:126]\u001b[0m gen/LSTM/08/FC2 input: [500, 100]\n",
      "\u001b[32m[1021 23:54:58 @registry.py:134]\u001b[0m gen/LSTM/08/FC2 output: [500, 7]\n",
      "\u001b[32m[1021 23:54:58 @registry.py:126]\u001b[0m gen/LSTM/08/FC3 input: [500, 7]\n",
      "\u001b[32m[1021 23:54:58 @registry.py:134]\u001b[0m gen/LSTM/08/FC3 output: [500, 100]\n",
      "\u001b[32m[1021 23:54:58 @DATGANModel.py:209]\u001b[0m \u001b[91mCreating cell for trip_purpose (in-edges: 1)\n",
      "\u001b[32m[1021 23:54:58 @registry.py:126]\u001b[0m gen/LSTM/09/FC input: [500, 100]\n",
      "\u001b[32m[1021 23:54:58 @registry.py:134]\u001b[0m gen/LSTM/09/FC output: [500, 100]\n",
      "\u001b[32m[1021 23:54:58 @registry.py:126]\u001b[0m gen/LSTM/09/FC2 input: [500, 100]\n",
      "\u001b[32m[1021 23:54:58 @registry.py:134]\u001b[0m gen/LSTM/09/FC2 output: [500, 7]\n",
      "\u001b[32m[1021 23:54:58 @registry.py:126]\u001b[0m gen/LSTM/09/FC3 input: [500, 7]\n",
      "\u001b[32m[1021 23:54:58 @registry.py:134]\u001b[0m gen/LSTM/09/FC3 output: [500, 100]\n",
      "\u001b[32m[1021 23:54:58 @DATGANModel.py:209]\u001b[0m \u001b[91mCreating cell for hh_descr (in-edges: 2)\n",
      "\u001b[32m[1021 23:54:58 @registry.py:126]\u001b[0m gen/LSTM/10/FC_inputs input: [500, 200]\n",
      "\u001b[32m[1021 23:54:58 @registry.py:134]\u001b[0m gen/LSTM/10/FC_inputs output: [500, 100]\n",
      "\u001b[32m[1021 23:54:58 @registry.py:126]\u001b[0m gen/LSTM/10/FC_attentions input: [500, 200]\n",
      "\u001b[32m[1021 23:54:58 @registry.py:134]\u001b[0m gen/LSTM/10/FC_attentions output: [500, 100]\n",
      "\u001b[32m[1021 23:54:58 @registry.py:126]\u001b[0m gen/LSTM/10/FC_lstm_state_0 input: [500, 200]\n",
      "\u001b[32m[1021 23:54:58 @registry.py:134]\u001b[0m gen/LSTM/10/FC_lstm_state_0 output: [500, 100]\n",
      "\u001b[32m[1021 23:54:58 @registry.py:126]\u001b[0m gen/LSTM/10/FC_lstm_state_1 input: [500, 200]\n",
      "\u001b[32m[1021 23:54:58 @registry.py:134]\u001b[0m gen/LSTM/10/FC_lstm_state_1 output: [500, 100]\n",
      "\u001b[32m[1021 23:54:58 @registry.py:126]\u001b[0m gen/LSTM/11/FC input: [500, 100]\n",
      "\u001b[32m[1021 23:54:58 @registry.py:134]\u001b[0m gen/LSTM/11/FC output: [500, 100]\n",
      "\u001b[32m[1021 23:54:58 @registry.py:126]\u001b[0m gen/LSTM/11/FC2 input: [500, 100]\n",
      "\u001b[32m[1021 23:54:58 @registry.py:134]\u001b[0m gen/LSTM/11/FC2 output: [500, 3]\n",
      "\u001b[32m[1021 23:54:58 @registry.py:126]\u001b[0m gen/LSTM/11/FC3 input: [500, 3]\n",
      "\u001b[32m[1021 23:54:58 @registry.py:134]\u001b[0m gen/LSTM/11/FC3 output: [500, 100]\n",
      "\u001b[32m[1021 23:54:58 @DATGANModel.py:209]\u001b[0m \u001b[91mCreating cell for hh_size (in-edges: 3)\n",
      "\u001b[32m[1021 23:54:58 @registry.py:126]\u001b[0m gen/LSTM/12/FC_inputs input: [500, 300]\n",
      "\u001b[32m[1021 23:54:58 @registry.py:134]\u001b[0m gen/LSTM/12/FC_inputs output: [500, 100]\n",
      "\u001b[32m[1021 23:54:58 @registry.py:126]\u001b[0m gen/LSTM/12/FC_attentions input: [500, 300]\n",
      "\u001b[32m[1021 23:54:58 @registry.py:134]\u001b[0m gen/LSTM/12/FC_attentions output: [500, 100]\n",
      "\u001b[32m[1021 23:54:58 @registry.py:126]\u001b[0m gen/LSTM/12/FC_lstm_state_0 input: [500, 300]\n",
      "\u001b[32m[1021 23:54:58 @registry.py:134]\u001b[0m gen/LSTM/12/FC_lstm_state_0 output: [500, 100]\n",
      "\u001b[32m[1021 23:54:58 @registry.py:126]\u001b[0m gen/LSTM/12/FC_lstm_state_1 input: [500, 300]\n",
      "\u001b[32m[1021 23:54:58 @registry.py:134]\u001b[0m gen/LSTM/12/FC_lstm_state_1 output: [500, 100]\n",
      "\u001b[32m[1021 23:54:58 @registry.py:126]\u001b[0m gen/LSTM/13/FC input: [500, 100]\n",
      "\u001b[32m[1021 23:54:58 @registry.py:134]\u001b[0m gen/LSTM/13/FC output: [500, 100]\n",
      "\u001b[32m[1021 23:54:58 @registry.py:126]\u001b[0m gen/LSTM/13/FC2 input: [500, 100]\n",
      "\u001b[32m[1021 23:54:58 @registry.py:134]\u001b[0m gen/LSTM/13/FC2 output: [500, 8]\n",
      "\u001b[32m[1021 23:54:58 @registry.py:126]\u001b[0m gen/LSTM/13/FC3 input: [500, 8]\n",
      "\u001b[32m[1021 23:54:58 @registry.py:134]\u001b[0m gen/LSTM/13/FC3 output: [500, 100]\n",
      "\u001b[32m[1021 23:54:58 @DATGANModel.py:209]\u001b[0m \u001b[91mCreating cell for departure_time (in-edges: 1)\n",
      "\u001b[32m[1021 23:54:58 @registry.py:126]\u001b[0m gen/LSTM/14/FC input: [500, 100]\n",
      "\u001b[32m[1021 23:54:58 @registry.py:134]\u001b[0m gen/LSTM/14/FC output: [500, 100]\n",
      "\u001b[32m[1021 23:54:58 @registry.py:126]\u001b[0m gen/LSTM/14/FC2_val input: [500, 100]\n",
      "\u001b[32m[1021 23:54:58 @registry.py:134]\u001b[0m gen/LSTM/14/FC2_val output: [500, 8]\n",
      "\u001b[32m[1021 23:54:58 @registry.py:126]\u001b[0m gen/LSTM/14/FC2_prob input: [500, 100]\n",
      "\u001b[32m[1021 23:54:58 @registry.py:134]\u001b[0m gen/LSTM/14/FC2_prob output: [500, 8]\n",
      "\u001b[32m[1021 23:54:58 @registry.py:126]\u001b[0m gen/LSTM/14/FC3 input: [500, 16]\n",
      "\u001b[32m[1021 23:54:58 @registry.py:134]\u001b[0m gen/LSTM/14/FC3 output: [500, 100]\n",
      "\u001b[32m[1021 23:54:58 @DATGANModel.py:209]\u001b[0m \u001b[91mCreating cell for distance (in-edges: 1)\n",
      "\u001b[32m[1021 23:54:58 @registry.py:126]\u001b[0m gen/LSTM/15/FC input: [500, 100]\n",
      "\u001b[32m[1021 23:54:58 @registry.py:134]\u001b[0m gen/LSTM/15/FC output: [500, 100]\n",
      "\u001b[32m[1021 23:54:58 @registry.py:126]\u001b[0m gen/LSTM/15/FC2_val input: [500, 100]\n",
      "\u001b[32m[1021 23:54:58 @registry.py:134]\u001b[0m gen/LSTM/15/FC2_val output: [500, 10]\n",
      "\u001b[32m[1021 23:54:58 @registry.py:126]\u001b[0m gen/LSTM/15/FC2_prob input: [500, 100]\n",
      "\u001b[32m[1021 23:54:58 @registry.py:134]\u001b[0m gen/LSTM/15/FC2_prob output: [500, 10]\n",
      "\u001b[32m[1021 23:54:58 @registry.py:126]\u001b[0m gen/LSTM/15/FC3 input: [500, 20]\n",
      "\u001b[32m[1021 23:54:58 @registry.py:134]\u001b[0m gen/LSTM/15/FC3 output: [500, 100]\n",
      "\u001b[32m[1021 23:54:58 @DATGANModel.py:209]\u001b[0m \u001b[91mCreating cell for hh_vehicles (in-edges: 2)\n",
      "\u001b[32m[1021 23:54:58 @registry.py:126]\u001b[0m gen/LSTM/16/FC_inputs input: [500, 200]\n",
      "\u001b[32m[1021 23:54:58 @registry.py:134]\u001b[0m gen/LSTM/16/FC_inputs output: [500, 100]\n",
      "\u001b[32m[1021 23:54:58 @registry.py:126]\u001b[0m gen/LSTM/16/FC_attentions input: [500, 200]\n",
      "\u001b[32m[1021 23:54:58 @registry.py:134]\u001b[0m gen/LSTM/16/FC_attentions output: [500, 100]\n",
      "\u001b[32m[1021 23:54:58 @registry.py:126]\u001b[0m gen/LSTM/16/FC_lstm_state_0 input: [500, 200]\n",
      "\u001b[32m[1021 23:54:58 @registry.py:134]\u001b[0m gen/LSTM/16/FC_lstm_state_0 output: [500, 100]\n",
      "\u001b[32m[1021 23:54:58 @registry.py:126]\u001b[0m gen/LSTM/16/FC_lstm_state_1 input: [500, 200]\n",
      "\u001b[32m[1021 23:54:58 @registry.py:134]\u001b[0m gen/LSTM/16/FC_lstm_state_1 output: [500, 100]\n",
      "\u001b[32m[1021 23:54:58 @registry.py:126]\u001b[0m gen/LSTM/17/FC input: [500, 100]\n",
      "\u001b[32m[1021 23:54:58 @registry.py:134]\u001b[0m gen/LSTM/17/FC output: [500, 100]\n",
      "\u001b[32m[1021 23:54:58 @registry.py:126]\u001b[0m gen/LSTM/17/FC2 input: [500, 100]\n",
      "\u001b[32m[1021 23:54:58 @registry.py:134]\u001b[0m gen/LSTM/17/FC2 output: [500, 9]\n",
      "\u001b[32m[1021 23:54:58 @registry.py:126]\u001b[0m gen/LSTM/17/FC3 input: [500, 9]\n",
      "\u001b[32m[1021 23:54:58 @registry.py:134]\u001b[0m gen/LSTM/17/FC3 output: [500, 100]\n",
      "\u001b[32m[1021 23:54:58 @DATGANModel.py:209]\u001b[0m \u001b[91mCreating cell for hh_bikes (in-edges: 2)\n",
      "\u001b[32m[1021 23:54:58 @registry.py:126]\u001b[0m gen/LSTM/18/FC_inputs input: [500, 200]\n",
      "\u001b[32m[1021 23:54:58 @registry.py:134]\u001b[0m gen/LSTM/18/FC_inputs output: [500, 100]\n",
      "\u001b[32m[1021 23:54:58 @registry.py:126]\u001b[0m gen/LSTM/18/FC_attentions input: [500, 200]\n",
      "\u001b[32m[1021 23:54:58 @registry.py:134]\u001b[0m gen/LSTM/18/FC_attentions output: [500, 100]\n",
      "\u001b[32m[1021 23:54:58 @registry.py:126]\u001b[0m gen/LSTM/18/FC_lstm_state_0 input: [500, 200]\n",
      "\u001b[32m[1021 23:54:58 @registry.py:134]\u001b[0m gen/LSTM/18/FC_lstm_state_0 output: [500, 100]\n",
      "\u001b[32m[1021 23:54:58 @registry.py:126]\u001b[0m gen/LSTM/18/FC_lstm_state_1 input: [500, 200]\n",
      "\u001b[32m[1021 23:54:58 @registry.py:134]\u001b[0m gen/LSTM/18/FC_lstm_state_1 output: [500, 100]\n",
      "\u001b[32m[1021 23:54:58 @registry.py:126]\u001b[0m gen/LSTM/19/FC input: [500, 100]\n",
      "\u001b[32m[1021 23:54:58 @registry.py:134]\u001b[0m gen/LSTM/19/FC output: [500, 100]\n",
      "\u001b[32m[1021 23:54:58 @registry.py:126]\u001b[0m gen/LSTM/19/FC2 input: [500, 100]\n",
      "\u001b[32m[1021 23:54:58 @registry.py:134]\u001b[0m gen/LSTM/19/FC2 output: [500, 8]\n",
      "\u001b[32m[1021 23:54:58 @registry.py:126]\u001b[0m gen/LSTM/19/FC3 input: [500, 8]\n"
     ]
    },
    {
     "name": "stdout",
     "output_type": "stream",
     "text": [
      "\u001b[32m[1021 23:54:58 @registry.py:134]\u001b[0m gen/LSTM/19/FC3 output: [500, 100]\n",
      "\u001b[32m[1021 23:54:58 @DATGANModel.py:209]\u001b[0m \u001b[91mCreating cell for choice (in-edges: 7)\n",
      "\u001b[32m[1021 23:54:58 @registry.py:126]\u001b[0m gen/LSTM/20/FC_inputs input: [500, 700]\n",
      "\u001b[32m[1021 23:54:58 @registry.py:134]\u001b[0m gen/LSTM/20/FC_inputs output: [500, 100]\n",
      "\u001b[32m[1021 23:54:58 @registry.py:126]\u001b[0m gen/LSTM/20/FC_attentions input: [500, 700]\n",
      "\u001b[32m[1021 23:54:58 @registry.py:134]\u001b[0m gen/LSTM/20/FC_attentions output: [500, 100]\n",
      "\u001b[32m[1021 23:54:58 @registry.py:126]\u001b[0m gen/LSTM/20/FC_lstm_state_0 input: [500, 700]\n",
      "\u001b[32m[1021 23:54:58 @registry.py:134]\u001b[0m gen/LSTM/20/FC_lstm_state_0 output: [500, 100]\n",
      "\u001b[32m[1021 23:54:58 @registry.py:126]\u001b[0m gen/LSTM/20/FC_lstm_state_1 input: [500, 700]\n",
      "\u001b[32m[1021 23:54:58 @registry.py:134]\u001b[0m gen/LSTM/20/FC_lstm_state_1 output: [500, 100]\n",
      "\u001b[32m[1021 23:54:58 @registry.py:126]\u001b[0m gen/LSTM/21/FC input: [500, 100]\n",
      "\u001b[32m[1021 23:54:58 @registry.py:134]\u001b[0m gen/LSTM/21/FC output: [500, 100]\n",
      "\u001b[32m[1021 23:54:58 @registry.py:126]\u001b[0m gen/LSTM/21/FC2 input: [500, 100]\n",
      "\u001b[32m[1021 23:54:58 @registry.py:134]\u001b[0m gen/LSTM/21/FC2 output: [500, 5]\n",
      "\u001b[32m[1021 23:54:58 @registry.py:126]\u001b[0m gen/LSTM/21/FC3 input: [500, 5]\n",
      "\u001b[32m[1021 23:54:58 @registry.py:134]\u001b[0m gen/LSTM/21/FC3 output: [500, 100]\n",
      "WARNING:tensorflow:From C:\\Users\\glede\\Documents\\EPFL\\PhD\\SynthPop\\code\\modules\\datgan\\DATGANModel.py:603: The name tf.random_uniform is deprecated. Please use tf.random.uniform instead.\n",
      "\n",
      "WARNING:tensorflow:From C:\\Users\\glede\\Documents\\EPFL\\PhD\\SynthPop\\code\\modules\\datgan\\DATGANModel.py:527: The name tf.log is deprecated. Please use tf.math.log instead.\n",
      "\n",
      "\u001b[32m[1021 23:54:59 @registry.py:126]\u001b[0m discrim/dis_fc0/fc input: [500, 120]\n",
      "\u001b[32m[1021 23:54:59 @registry.py:134]\u001b[0m discrim/dis_fc0/fc output: [500, 100]\n",
      "\u001b[32m[1021 23:54:59 @registry.py:126]\u001b[0m discrim/dis_fc0/fc_diversity input: [500, 100]\n",
      "\u001b[32m[1021 23:54:59 @registry.py:134]\u001b[0m discrim/dis_fc0/fc_diversity output: [500, 100]\n",
      "\u001b[32m[1021 23:54:59 @registry.py:126]\u001b[0m discrim/dis_fc_top input: [500, 110]\n",
      "\u001b[32m[1021 23:54:59 @registry.py:134]\u001b[0m discrim/dis_fc_top output: [500, 1]\n",
      "WARNING:tensorflow:From D:\\Users\\glede\\anaconda3\\envs\\py37\\lib\\site-packages\\tensorpack\\tfutils\\summary.py:269: The name tf.add_to_collection is deprecated. Please use tf.compat.v1.add_to_collection instead.\n",
      "\n",
      "WARNING:tensorflow:From C:\\Users\\glede\\Documents\\EPFL\\PhD\\SynthPop\\code\\modules\\datgan\\DATGANModel.py:704: The name tf.train.AdamOptimizer is deprecated. Please use tf.compat.v1.train.AdamOptimizer instead.\n",
      "\n",
      "\u001b[32m[1021 23:55:02 @DATGAN.py:200]\u001b[0m Found an already existing model. Loading it!\n",
      "WARNING:tensorflow:From D:\\Users\\glede\\anaconda3\\envs\\py37\\lib\\site-packages\\tensorpack\\tfutils\\varmanip.py:178: The name tf.gfile.Exists is deprecated. Please use tf.io.gfile.exists instead.\n",
      "\n",
      "\u001b[32m[1021 23:55:02 @logger.py:83]\u001b[0m Existing log file '../output/Chicago/DATWGAN_22/logs\\log.log' backuped to '../output/Chicago/DATWGAN_22/logs\\log.log.1021-235502'\n",
      "\u001b[32m[1021 23:55:02 @logger.py:90]\u001b[0m Argv: D:\\Users\\glede\\anaconda3\\envs\\py37\\lib\\site-packages\\ipykernel_launcher.py -f C:\\Users\\glede\\AppData\\Roaming\\jupyter\\runtime\\kernel-88a43e1a-6673-4cdd-93c4-5ec84841fa9d.json\n",
      "WARNING:tensorflow:From D:\\Users\\glede\\anaconda3\\envs\\py37\\lib\\site-packages\\tensorpack\\callbacks\\saver.py:43: The name tf.gfile.IsDirectory is deprecated. Please use tf.io.gfile.isdir instead.\n",
      "\n",
      "WARNING:tensorflow:From D:\\Users\\glede\\anaconda3\\envs\\py37\\lib\\site-packages\\tensorpack\\tfutils\\common.py:41: The name tf.ConfigProto is deprecated. Please use tf.compat.v1.ConfigProto instead.\n",
      "\n",
      "\u001b[32m[1021 23:55:02 @model_utils.py:67]\u001b[0m \u001b[36mList of Trainable Variables: \n",
      "\u001b[0mname                              shape         #elements\n",
      "--------------------------------  ----------  -----------\n",
      "gen/LSTM/go_age:0                 [1, 100]            100\n",
      "gen/LSTM/lstm_cell/kernel:0       [500, 400]       200000\n",
      "gen/LSTM/lstm_cell/bias:0         [400]               400\n",
      "gen/LSTM/00/FC/W:0                [100, 100]        10000\n",
      "gen/LSTM/00/FC/b:0                [100]               100\n",
      "gen/LSTM/00/FC2_val/W:0           [100, 6]            600\n",
      "gen/LSTM/00/FC2_val/b:0           [6]                   6\n",
      "gen/LSTM/00/FC2_prob/W:0          [100, 6]            600\n",
      "gen/LSTM/00/FC2_prob/b:0          [6]                   6\n",
      "gen/LSTM/00/FC3/W:0               [12, 100]          1200\n",
      "gen/LSTM/00/FC3/b:0               [100]               100\n",
      "gen/LSTM/00/attw:0                [1, 1, 1]             1\n",
      "gen/LSTM/go_gender:0              [1, 100]            100\n",
      "gen/LSTM/01/FC/W:0                [100, 100]        10000\n",
      "gen/LSTM/01/FC/b:0                [100]               100\n",
      "gen/LSTM/01/FC2/W:0               [100, 2]            200\n",
      "gen/LSTM/01/FC2/b:0               [2]                   2\n",
      "gen/LSTM/01/FC3/W:0               [2, 100]            200\n",
      "gen/LSTM/01/FC3/b:0               [100]               100\n",
      "gen/LSTM/01/attw:0                [1, 1, 1]             1\n",
      "gen/LSTM/go_travel_dow:0          [1, 100]            100\n",
      "gen/LSTM/02/FC/W:0                [100, 100]        10000\n",
      "gen/LSTM/02/FC/b:0                [100]               100\n",
      "gen/LSTM/02/FC2/W:0               [100, 7]            700\n",
      "gen/LSTM/02/FC2/b:0               [7]                   7\n",
      "gen/LSTM/02/FC3/W:0               [7, 100]            700\n",
      "gen/LSTM/02/FC3/b:0               [100]               100\n",
      "gen/LSTM/02/attw:0                [1, 1, 1]             1\n",
      "gen/LSTM/03/FC/W:0                [100, 100]        10000\n",
      "gen/LSTM/03/FC/b:0                [100]               100\n",
      "gen/LSTM/03/FC2/W:0               [100, 2]            200\n",
      "gen/LSTM/03/FC2/b:0               [2]                   2\n",
      "gen/LSTM/03/FC3/W:0               [2, 100]            200\n",
      "gen/LSTM/03/FC3/b:0               [100]               100\n",
      "gen/LSTM/03/attw:0                [2, 1, 1]             2\n",
      "gen/LSTM/04/FC/W:0                [100, 100]        10000\n",
      "gen/LSTM/04/FC/b:0                [100]               100\n",
      "gen/LSTM/04/FC2/W:0               [100, 6]            600\n",
      "gen/LSTM/04/FC2/b:0               [6]                   6\n",
      "gen/LSTM/04/FC3/W:0               [6, 100]            600\n",
      "gen/LSTM/04/FC3/b:0               [100]               100\n",
      "gen/LSTM/04/attw:0                [2, 1, 1]             2\n",
      "gen/LSTM/05/FC_inputs/W:0         [200, 100]        20000\n",
      "gen/LSTM/05/FC_inputs/b:0         [100]               100\n",
      "gen/LSTM/05/FC_attentions/W:0     [200, 100]        20000\n",
      "gen/LSTM/05/FC_attentions/b:0     [100]               100\n",
      "gen/LSTM/05/FC_lstm_state_0/W:0   [200, 100]        20000\n",
      "gen/LSTM/05/FC_lstm_state_0/b:0   [100]               100\n",
      "gen/LSTM/05/FC_lstm_state_1/W:0   [200, 100]        20000\n",
      "gen/LSTM/05/FC_lstm_state_1/b:0   [100]               100\n",
      "gen/LSTM/06/FC/W:0                [100, 100]        10000\n",
      "gen/LSTM/06/FC/b:0                [100]               100\n",
      "gen/LSTM/06/FC2/W:0               [100, 8]            800\n",
      "gen/LSTM/06/FC2/b:0               [8]                   8\n",
      "gen/LSTM/06/FC3/W:0               [8, 100]            800\n",
      "gen/LSTM/06/FC3/b:0               [100]               100\n",
      "gen/LSTM/06/attw:0                [4, 1, 1]             4\n",
      "gen/LSTM/07/FC_inputs/W:0         [200, 100]        20000\n",
      "gen/LSTM/07/FC_inputs/b:0         [100]               100\n",
      "gen/LSTM/07/FC_attentions/W:0     [200, 100]        20000\n",
      "gen/LSTM/07/FC_attentions/b:0     [100]               100\n",
      "gen/LSTM/07/FC_lstm_state_0/W:0   [200, 100]        20000\n",
      "gen/LSTM/07/FC_lstm_state_0/b:0   [100]               100\n",
      "gen/LSTM/07/FC_lstm_state_1/W:0   [200, 100]        20000\n",
      "gen/LSTM/07/FC_lstm_state_1/b:0   [100]               100\n",
      "gen/LSTM/08/FC/W:0                [100, 100]        10000\n",
      "gen/LSTM/08/FC/b:0                [100]               100\n",
      "gen/LSTM/08/FC2/W:0               [100, 7]            700\n",
      "gen/LSTM/08/FC2/b:0               [7]                   7\n",
      "gen/LSTM/08/FC3/W:0               [7, 100]            700\n",
      "gen/LSTM/08/FC3/b:0               [100]               100\n",
      "gen/LSTM/08/attw:0                [5, 1, 1]             5\n",
      "gen/LSTM/09/FC/W:0                [100, 100]        10000\n",
      "gen/LSTM/09/FC/b:0                [100]               100\n",
      "gen/LSTM/09/FC2/W:0               [100, 7]            700\n",
      "gen/LSTM/09/FC2/b:0               [7]                   7\n",
      "gen/LSTM/09/FC3/W:0               [7, 100]            700\n",
      "gen/LSTM/09/FC3/b:0               [100]               100\n",
      "gen/LSTM/09/attw:0                [5, 1, 1]             5\n",
      "gen/LSTM/10/FC_inputs/W:0         [200, 100]        20000\n",
      "gen/LSTM/10/FC_inputs/b:0         [100]               100\n",
      "gen/LSTM/10/FC_attentions/W:0     [200, 100]        20000\n",
      "gen/LSTM/10/FC_attentions/b:0     [100]               100\n",
      "gen/LSTM/10/FC_lstm_state_0/W:0   [200, 100]        20000\n",
      "gen/LSTM/10/FC_lstm_state_0/b:0   [100]               100\n",
      "gen/LSTM/10/FC_lstm_state_1/W:0   [200, 100]        20000\n",
      "gen/LSTM/10/FC_lstm_state_1/b:0   [100]               100\n",
      "gen/LSTM/11/FC/W:0                [100, 100]        10000\n",
      "gen/LSTM/11/FC/b:0                [100]               100\n",
      "gen/LSTM/11/FC2/W:0               [100, 3]            300\n",
      "gen/LSTM/11/FC2/b:0               [3]                   3\n",
      "gen/LSTM/11/FC3/W:0               [3, 100]            300\n",
      "gen/LSTM/11/FC3/b:0               [100]               100\n",
      "gen/LSTM/11/attw:0                [6, 1, 1]             6\n",
      "gen/LSTM/12/FC_inputs/W:0         [300, 100]        30000\n",
      "gen/LSTM/12/FC_inputs/b:0         [100]               100\n",
      "gen/LSTM/12/FC_attentions/W:0     [300, 100]        30000\n",
      "gen/LSTM/12/FC_attentions/b:0     [100]               100\n",
      "gen/LSTM/12/FC_lstm_state_0/W:0   [300, 100]        30000\n",
      "gen/LSTM/12/FC_lstm_state_0/b:0   [100]               100\n",
      "gen/LSTM/12/FC_lstm_state_1/W:0   [300, 100]        30000\n",
      "gen/LSTM/12/FC_lstm_state_1/b:0   [100]               100\n",
      "gen/LSTM/13/FC/W:0                [100, 100]        10000\n",
      "gen/LSTM/13/FC/b:0                [100]               100\n",
      "gen/LSTM/13/FC2/W:0               [100, 8]            800\n",
      "gen/LSTM/13/FC2/b:0               [8]                   8\n",
      "gen/LSTM/13/FC3/W:0               [8, 100]            800\n",
      "gen/LSTM/13/FC3/b:0               [100]               100\n",
      "gen/LSTM/13/attw:0                [6, 1, 1]             6\n",
      "gen/LSTM/14/FC/W:0                [100, 100]        10000\n",
      "gen/LSTM/14/FC/b:0                [100]               100\n",
      "gen/LSTM/14/FC2_val/W:0           [100, 8]            800\n",
      "gen/LSTM/14/FC2_val/b:0           [8]                   8\n",
      "gen/LSTM/14/FC2_prob/W:0          [100, 8]            800\n",
      "gen/LSTM/14/FC2_prob/b:0          [8]                   8\n",
      "gen/LSTM/14/FC3/W:0               [16, 100]          1600\n",
      "gen/LSTM/14/FC3/b:0               [100]               100\n",
      "gen/LSTM/14/attw:0                [6, 1, 1]             6\n",
      "gen/LSTM/15/FC/W:0                [100, 100]        10000\n",
      "gen/LSTM/15/FC/b:0                [100]               100\n",
      "gen/LSTM/15/FC2_val/W:0           [100, 10]          1000\n",
      "gen/LSTM/15/FC2_val/b:0           [10]                 10\n",
      "gen/LSTM/15/FC2_prob/W:0          [100, 10]          1000\n",
      "gen/LSTM/15/FC2_prob/b:0          [10]                 10\n",
      "gen/LSTM/15/FC3/W:0               [20, 100]          2000\n",
      "gen/LSTM/15/FC3/b:0               [100]               100\n",
      "gen/LSTM/15/attw:0                [6, 1, 1]             6\n",
      "gen/LSTM/16/FC_inputs/W:0         [200, 100]        20000\n",
      "gen/LSTM/16/FC_inputs/b:0         [100]               100\n",
      "gen/LSTM/16/FC_attentions/W:0     [200, 100]        20000\n",
      "gen/LSTM/16/FC_attentions/b:0     [100]               100\n",
      "gen/LSTM/16/FC_lstm_state_0/W:0   [200, 100]        20000\n",
      "gen/LSTM/16/FC_lstm_state_0/b:0   [100]               100\n",
      "gen/LSTM/16/FC_lstm_state_1/W:0   [200, 100]        20000\n",
      "gen/LSTM/16/FC_lstm_state_1/b:0   [100]               100\n",
      "gen/LSTM/17/FC/W:0                [100, 100]        10000\n",
      "gen/LSTM/17/FC/b:0                [100]               100\n",
      "gen/LSTM/17/FC2/W:0               [100, 9]            900\n",
      "gen/LSTM/17/FC2/b:0               [9]                   9\n",
      "gen/LSTM/17/FC3/W:0               [9, 100]            900\n",
      "gen/LSTM/17/FC3/b:0               [100]               100\n",
      "gen/LSTM/17/attw:0                [7, 1, 1]             7\n",
      "gen/LSTM/18/FC_inputs/W:0         [200, 100]        20000\n",
      "gen/LSTM/18/FC_inputs/b:0         [100]               100\n",
      "gen/LSTM/18/FC_attentions/W:0     [200, 100]        20000\n",
      "gen/LSTM/18/FC_attentions/b:0     [100]               100\n",
      "gen/LSTM/18/FC_lstm_state_0/W:0   [200, 100]        20000\n",
      "gen/LSTM/18/FC_lstm_state_0/b:0   [100]               100\n",
      "gen/LSTM/18/FC_lstm_state_1/W:0   [200, 100]        20000\n",
      "gen/LSTM/18/FC_lstm_state_1/b:0   [100]               100\n",
      "gen/LSTM/19/FC/W:0                [100, 100]        10000\n",
      "gen/LSTM/19/FC/b:0                [100]               100\n",
      "gen/LSTM/19/FC2/W:0               [100, 8]            800\n",
      "gen/LSTM/19/FC2/b:0               [8]                   8\n",
      "gen/LSTM/19/FC3/W:0               [8, 100]            800\n",
      "gen/LSTM/19/FC3/b:0               [100]               100\n",
      "gen/LSTM/19/attw:0                [7, 1, 1]             7\n",
      "gen/LSTM/20/FC_inputs/W:0         [700, 100]        70000\n",
      "gen/LSTM/20/FC_inputs/b:0         [100]               100\n",
      "gen/LSTM/20/FC_attentions/W:0     [700, 100]        70000\n",
      "gen/LSTM/20/FC_attentions/b:0     [100]               100\n",
      "gen/LSTM/20/FC_lstm_state_0/W:0   [700, 100]        70000\n",
      "gen/LSTM/20/FC_lstm_state_0/b:0   [100]               100\n",
      "gen/LSTM/20/FC_lstm_state_1/W:0   [700, 100]        70000\n",
      "gen/LSTM/20/FC_lstm_state_1/b:0   [100]               100\n",
      "gen/LSTM/21/FC/W:0                [100, 100]        10000\n",
      "gen/LSTM/21/FC/b:0                [100]               100\n",
      "gen/LSTM/21/FC2/W:0               [100, 5]            500\n",
      "gen/LSTM/21/FC2/b:0               [5]                   5\n",
      "gen/LSTM/21/FC3/W:0               [5, 100]            500\n",
      "gen/LSTM/21/FC3/b:0               [100]               100\n",
      "gen/LSTM/21/attw:0                [14, 1, 1]           14\n",
      "discrim/dis_fc0/fc/W:0            [120, 100]        12000\n",
      "discrim/dis_fc0/fc/b:0            [100]               100\n",
      "discrim/dis_fc0/fc_diversity/W:0  [100, 100]        10000\n",
      "discrim/dis_fc0/fc_diversity/b:0  [100]               100\n",
      "discrim/dis_fc0/ln/beta:0         [110]               110\n",
      "discrim/dis_fc0/ln/gamma:0        [110]               110\n",
      "discrim/dis_fc_top/W:0            [110, 1]            110\n",
      "discrim/dis_fc_top/b:0            [1]                   1\u001b[36m\n",
      "Number of trainable variables: 180\n",
      "Number of parameters (elements): 1203224\n",
      "Storage space needed for all trainable variables: 4.59MB\u001b[0m\n"
     ]
    },
    {
     "name": "stdout",
     "output_type": "stream",
     "text": [
      "\u001b[32m[1021 23:55:02 @base.py:209]\u001b[0m Setup callbacks graph ...\n",
      "WARNING:tensorflow:From D:\\Users\\glede\\anaconda3\\envs\\py37\\lib\\site-packages\\tensorpack\\callbacks\\graph.py:54: The name tf.train.SessionRunArgs is deprecated. Please use tf.estimator.SessionRunArgs instead.\n",
      "\n",
      "WARNING:tensorflow:From D:\\Users\\glede\\anaconda3\\envs\\py37\\lib\\site-packages\\tensorpack\\tfutils\\common.py:75: The name tf.VariableScope is deprecated. Please use tf.compat.v1.VariableScope instead.\n",
      "\n",
      "WARNING:tensorflow:From D:\\Users\\glede\\anaconda3\\envs\\py37\\lib\\site-packages\\tensorpack\\tfutils\\common.py:77: The name tf.train.get_or_create_global_step is deprecated. Please use tf.compat.v1.train.get_or_create_global_step instead.\n",
      "\n",
      "WARNING:tensorflow:From D:\\Users\\glede\\anaconda3\\envs\\py37\\lib\\site-packages\\tensorpack\\callbacks\\steps.py:117: The name tf.assign_add is deprecated. Please use tf.compat.v1.assign_add instead.\n",
      "\n",
      "WARNING:tensorflow:From D:\\Users\\glede\\anaconda3\\envs\\py37\\lib\\site-packages\\tensorpack\\callbacks\\saver.py:55: The name tf.train.Saver is deprecated. Please use tf.compat.v1.train.Saver instead.\n",
      "\n",
      "WARNING:tensorflow:From D:\\Users\\glede\\anaconda3\\envs\\py37\\lib\\site-packages\\tensorpack\\callbacks\\saver.py:59: The name tf.train.SaverDef is deprecated. Please use tf.compat.v1.train.SaverDef instead.\n",
      "\n",
      "\u001b[32m[1021 23:55:02 @summary.py:46]\u001b[0m [MovingAverageSummary] 5 operations in collection 'MOVING_SUMMARY_OPS' will be run with session hooks.\n",
      "\u001b[32m[1021 23:55:02 @summary.py:93]\u001b[0m Summarizing collection 'summaries' of size 6.\n",
      "WARNING:tensorflow:From D:\\Users\\glede\\anaconda3\\envs\\py37\\lib\\site-packages\\tensorpack\\callbacks\\summary.py:94: The name tf.summary.merge_all is deprecated. Please use tf.compat.v1.summary.merge_all instead.\n",
      "\n",
      "WARNING:tensorflow:From D:\\Users\\glede\\anaconda3\\envs\\py37\\lib\\site-packages\\tensorpack\\callbacks\\monitor.py:261: The name tf.summary.FileWriter is deprecated. Please use tf.compat.v1.summary.FileWriter instead.\n",
      "\n",
      "WARNING:tensorflow:From D:\\Users\\glede\\anaconda3\\envs\\py37\\lib\\site-packages\\tensorpack\\tfutils\\sessinit.py:120: The name tf.train.NewCheckpointReader is deprecated. Please use tf.compat.v1.train.NewCheckpointReader instead.\n",
      "\n",
      "WARNING:tensorflow:From D:\\Users\\glede\\anaconda3\\envs\\py37\\lib\\site-packages\\tensorpack\\tfutils\\sessinit.py:127: The name tf.global_variables is deprecated. Please use tf.compat.v1.global_variables instead.\n",
      "\n",
      "\u001b[32m[1021 23:55:03 @base.py:230]\u001b[0m Creating the session ...\n",
      "WARNING:tensorflow:From D:\\Users\\glede\\anaconda3\\envs\\py37\\lib\\site-packages\\tensorpack\\tfutils\\sesscreate.py:42: The name tf.Session is deprecated. Please use tf.compat.v1.Session instead.\n",
      "\n",
      "WARNING:tensorflow:From D:\\Users\\glede\\anaconda3\\envs\\py37\\lib\\site-packages\\tensorpack\\tfutils\\sesscreate.py:71: The name tf.global_variables_initializer is deprecated. Please use tf.compat.v1.global_variables_initializer instead.\n",
      "\n",
      "WARNING:tensorflow:From D:\\Users\\glede\\anaconda3\\envs\\py37\\lib\\site-packages\\tensorpack\\tfutils\\sesscreate.py:62: get_backward_walk_ops (from tensorflow.contrib.graph_editor.select) is deprecated and will be removed after 2019-06-06.\n",
      "Instructions for updating:\n",
      "Please use tensorflow.python.ops.op_selector.get_backward_walk_ops.\n",
      "WARNING:tensorflow:From D:\\Users\\glede\\anaconda3\\envs\\py37\\lib\\site-packages\\tensorpack\\tfutils\\sesscreate.py:72: The name tf.local_variables_initializer is deprecated. Please use tf.compat.v1.local_variables_initializer instead.\n",
      "\n",
      "WARNING:tensorflow:From D:\\Users\\glede\\anaconda3\\envs\\py37\\lib\\site-packages\\tensorpack\\tfutils\\sesscreate.py:73: The name tf.tables_initializer is deprecated. Please use tf.compat.v1.tables_initializer instead.\n",
      "\n",
      "WARNING:tensorflow:From D:\\Users\\glede\\anaconda3\\envs\\py37\\lib\\site-packages\\tensorpack\\train\\base.py:254: The name tf.train.MonitoredSession is deprecated. Please use tf.compat.v1.train.MonitoredSession instead.\n",
      "\n",
      "\u001b[32m[1021 23:55:05 @base.py:236]\u001b[0m Initializing the session ...\n",
      "\u001b[32m[1021 23:55:05 @sessinit.py:114]\u001b[0m Restoring checkpoint from ../output/Chicago/DATWGAN_22/model\\model-43749 ...\n",
      "INFO:tensorflow:Restoring parameters from ../output/Chicago/DATWGAN_22/model\\model-43749\n",
      "\u001b[32m[1021 23:55:05 @base.py:243]\u001b[0m Graph Finalized.\n",
      "WARNING:tensorflow:From D:\\Users\\glede\\anaconda3\\envs\\py37\\lib\\site-packages\\tensorpack\\tfutils\\common.py:89: The name tf.train.global_step is deprecated. Please use tf.compat.v1.train.global_step instead.\n",
      "\n",
      "WARNING:tensorflow:From D:\\Users\\glede\\anaconda3\\envs\\py37\\lib\\site-packages\\tensorpack\\tfutils\\common.py:90: The name tf.get_default_session is deprecated. Please use tf.compat.v1.get_default_session instead.\n",
      "\n",
      "\u001b[32m[1021 23:55:05 @concurrency.py:38]\u001b[0m Starting EnqueueThread QueueInput/input_queue ...\n",
      "\u001b[32m[1021 23:55:05 @steps.py:124]\u001b[0m Start training with global_step=43749\n",
      "\u001b[32m[1021 23:55:06 @monitor.py:347]\u001b[0m Found existing JSON inside ../output/Chicago/DATWGAN_22/logs, will append to it.\n",
      "\u001b[32m[1021 23:55:06 @base.py:275]\u001b[0m Start Epoch 201 ...\n"
     ]
    },
    {
     "name": "stderr",
     "output_type": "stream",
     "text": [
      " 97%|################################################################################1  |169/175[00:09<00:00,25.89it/s]"
     ]
    },
    {
     "name": "stdout",
     "output_type": "stream",
     "text": [
      "WARNING:tensorflow:From D:\\Users\\glede\\anaconda3\\envs\\py37\\lib\\site-packages\\tensorpack\\callbacks\\monitor.py:148: The name tf.Summary is deprecated. Please use tf.compat.v1.Summary instead.\n",
      "\n"
     ]
    },
    {
     "name": "stderr",
     "output_type": "stream",
     "text": [
      "\r",
      "100%|###################################################################################|175/175[00:10<00:00,16.60it/s]"
     ]
    },
    {
     "name": "stdout",
     "output_type": "stream",
     "text": [
      "\u001b[32m[1021 23:55:16 @base.py:285]\u001b[0m Epoch 201 (global_step 43968) finished, time:10.5 seconds.\n",
      "WARNING:tensorflow:From D:\\Users\\glede\\anaconda3\\envs\\py37\\lib\\site-packages\\tensorpack\\callbacks\\saver.py:77: The name tf.train.get_global_step is deprecated. Please use tf.compat.v1.train.get_global_step instead.\n",
      "\n"
     ]
    },
    {
     "name": "stderr",
     "output_type": "stream",
     "text": [
      "\n"
     ]
    },
    {
     "name": "stdout",
     "output_type": "stream",
     "text": [
      "\u001b[32m[1021 23:55:17 @saver.py:79]\u001b[0m Model saved to ../output/Chicago/DATWGAN_22/model\\model-43968.\n",
      "\u001b[32m[1021 23:55:17 @monitor.py:467]\u001b[0m GAN_loss/d_loss: -0.051789\n",
      "\u001b[32m[1021 23:55:17 @monitor.py:467]\u001b[0m GAN_loss/g_loss: 1.7338\n",
      "\u001b[32m[1021 23:55:17 @monitor.py:467]\u001b[0m GAN_loss/gradient_penalty: 0.0067143\n",
      "\u001b[32m[1021 23:55:17 @monitor.py:467]\u001b[0m GAN_loss/gradient_rms: 0.99913\n",
      "\u001b[32m[1021 23:55:17 @monitor.py:467]\u001b[0m GAN_loss/kl_div: 0.067857\n",
      "\u001b[32m[1021 23:55:17 @monitor.py:467]\u001b[0m QueueInput/queue_size: 50\n",
      "\u001b[32m[1021 23:55:17 @base.py:275]\u001b[0m Start Epoch 202 ...\n"
     ]
    },
    {
     "name": "stderr",
     "output_type": "stream",
     "text": [
      "100%|###################################################################################|175/175[00:06<00:00,26.42it/s]"
     ]
    },
    {
     "name": "stdout",
     "output_type": "stream",
     "text": [
      "\u001b[32m[1021 23:55:23 @base.py:285]\u001b[0m Epoch 202 (global_step 44187) finished, time:6.62 seconds.\n",
      "\u001b[32m[1021 23:55:24 @saver.py:79]\u001b[0m Model saved to ../output/Chicago/DATWGAN_22/model\\model-44187.\n",
      "\u001b[32m[1021 23:55:24 @monitor.py:467]\u001b[0m GAN_loss/d_loss: -0.052272\n",
      "\u001b[32m[1021 23:55:24 @monitor.py:467]\u001b[0m GAN_loss/g_loss: 1.7278\n",
      "\u001b[32m[1021 23:55:24 @monitor.py:467]\u001b[0m GAN_loss/gradient_penalty: 0.0068164\n",
      "\u001b[32m[1021 23:55:24 @monitor.py:467]\u001b[0m GAN_loss/gradient_rms: 0.99939\n",
      "\u001b[32m[1021 23:55:24 @monitor.py:467]\u001b[0m GAN_loss/kl_div: 0.071926\n",
      "\u001b[32m[1021 23:55:24 @monitor.py:467]\u001b[0m QueueInput/queue_size: 50\n",
      "\u001b[32m[1021 23:55:24 @base.py:275]\u001b[0m Start Epoch 203 ...\n"
     ]
    },
    {
     "name": "stderr",
     "output_type": "stream",
     "text": [
      "\n",
      "100%|###################################################################################|175/175[00:08<00:00,21.80it/s]"
     ]
    },
    {
     "name": "stdout",
     "output_type": "stream",
     "text": [
      "\u001b[32m[1021 23:55:32 @base.py:285]\u001b[0m Epoch 203 (global_step 44406) finished, time:8.03 seconds.\n",
      "\u001b[32m[1021 23:55:32 @saver.py:79]\u001b[0m Model saved to ../output/Chicago/DATWGAN_22/model\\model-44406.\n",
      "\u001b[32m[1021 23:55:32 @monitor.py:467]\u001b[0m GAN_loss/d_loss: -0.052499\n",
      "\u001b[32m[1021 23:55:32 @monitor.py:467]\u001b[0m GAN_loss/g_loss: 1.7342\n",
      "\u001b[32m[1021 23:55:32 @monitor.py:467]\u001b[0m GAN_loss/gradient_penalty: 0.006696\n",
      "\u001b[32m[1021 23:55:32 @monitor.py:467]\u001b[0m GAN_loss/gradient_rms: 1.0006\n",
      "\u001b[32m[1021 23:55:32 @monitor.py:467]\u001b[0m GAN_loss/kl_div: 0.068428\n",
      "\u001b[32m[1021 23:55:32 @monitor.py:467]\u001b[0m QueueInput/queue_size: 50\n",
      "\u001b[32m[1021 23:55:32 @base.py:275]\u001b[0m Start Epoch 204 ...\n"
     ]
    },
    {
     "name": "stderr",
     "output_type": "stream",
     "text": [
      "\n",
      "100%|###################################################################################|175/175[00:06<00:00,25.30it/s]"
     ]
    },
    {
     "name": "stdout",
     "output_type": "stream",
     "text": [
      "\u001b[32m[1021 23:55:39 @base.py:285]\u001b[0m Epoch 204 (global_step 44624) finished, time:6.92 seconds.\n",
      "\u001b[32m[1021 23:55:39 @saver.py:79]\u001b[0m Model saved to ../output/Chicago/DATWGAN_22/model\\model-44624.\n"
     ]
    },
    {
     "name": "stderr",
     "output_type": "stream",
     "text": [
      "\n"
     ]
    },
    {
     "name": "stdout",
     "output_type": "stream",
     "text": [
      "\u001b[32m[1021 23:55:39 @monitor.py:467]\u001b[0m GAN_loss/d_loss: -0.051231\n",
      "\u001b[32m[1021 23:55:39 @monitor.py:467]\u001b[0m GAN_loss/g_loss: 1.7371\n",
      "\u001b[32m[1021 23:55:39 @monitor.py:467]\u001b[0m GAN_loss/gradient_penalty: 0.006687\n",
      "\u001b[32m[1021 23:55:39 @monitor.py:467]\u001b[0m GAN_loss/gradient_rms: 0.99796\n",
      "\u001b[32m[1021 23:55:39 @monitor.py:467]\u001b[0m GAN_loss/kl_div: 0.071811\n",
      "\u001b[32m[1021 23:55:39 @monitor.py:467]\u001b[0m QueueInput/queue_size: 50\n",
      "\u001b[32m[1021 23:55:39 @base.py:275]\u001b[0m Start Epoch 205 ...\n"
     ]
    },
    {
     "name": "stderr",
     "output_type": "stream",
     "text": [
      "100%|###################################################################################|175/175[00:06<00:00,25.80it/s]"
     ]
    },
    {
     "name": "stdout",
     "output_type": "stream",
     "text": [
      "\u001b[32m[1021 23:55:46 @base.py:285]\u001b[0m Epoch 205 (global_step 44843) finished, time:6.78 seconds.\n",
      "\u001b[32m[1021 23:55:46 @saver.py:79]\u001b[0m Model saved to ../output/Chicago/DATWGAN_22/model\\model-44843.\n",
      "\u001b[32m[1021 23:55:46 @monitor.py:467]\u001b[0m GAN_loss/d_loss: -0.04868\n",
      "\u001b[32m[1021 23:55:46 @monitor.py:467]\u001b[0m GAN_loss/g_loss: 1.7395\n",
      "\u001b[32m[1021 23:55:46 @monitor.py:467]\u001b[0m GAN_loss/gradient_penalty: 0.0067391\n",
      "\u001b[32m[1021 23:55:46 @monitor.py:467]\u001b[0m GAN_loss/gradient_rms: 0.99875\n",
      "\u001b[32m[1021 23:55:46 @monitor.py:467]\u001b[0m GAN_loss/kl_div: 0.074163\n",
      "\u001b[32m[1021 23:55:46 @monitor.py:467]\u001b[0m QueueInput/queue_size: 50\n",
      "\u001b[32m[1021 23:55:46 @base.py:275]\u001b[0m Start Epoch 206 ...\n"
     ]
    },
    {
     "name": "stderr",
     "output_type": "stream",
     "text": [
      "\n",
      "100%|###################################################################################|175/175[00:06<00:00,25.79it/s]"
     ]
    },
    {
     "name": "stdout",
     "output_type": "stream",
     "text": [
      "\u001b[32m[1021 23:55:52 @base.py:285]\u001b[0m Epoch 206 (global_step 45062) finished, time:6.79 seconds.\n",
      "\u001b[32m[1021 23:55:52 @saver.py:79]\u001b[0m Model saved to ../output/Chicago/DATWGAN_22/model\\model-45062.\n",
      "\u001b[32m[1021 23:55:52 @monitor.py:467]\u001b[0m GAN_loss/d_loss: -0.047502\n",
      "\u001b[32m[1021 23:55:52 @monitor.py:467]\u001b[0m GAN_loss/g_loss: 1.7138\n",
      "\u001b[32m[1021 23:55:52 @monitor.py:467]\u001b[0m GAN_loss/gradient_penalty: 0.0068599\n",
      "\u001b[32m[1021 23:55:52 @monitor.py:467]\u001b[0m GAN_loss/gradient_rms: 1.0011\n",
      "\u001b[32m[1021 23:55:52 @monitor.py:467]\u001b[0m GAN_loss/kl_div: 0.068914\n",
      "\u001b[32m[1021 23:55:52 @monitor.py:467]\u001b[0m QueueInput/queue_size: 50\n",
      "\u001b[32m[1021 23:55:52 @base.py:275]\u001b[0m Start Epoch 207 ...\n"
     ]
    },
    {
     "name": "stderr",
     "output_type": "stream",
     "text": [
      "\n",
      "100%|###################################################################################|175/175[00:06<00:00,26.06it/s]"
     ]
    },
    {
     "name": "stdout",
     "output_type": "stream",
     "text": [
      "\u001b[32m[1021 23:55:59 @base.py:285]\u001b[0m Epoch 207 (global_step 45281) finished, time:6.72 seconds.\n",
      "\u001b[32m[1021 23:55:59 @saver.py:79]\u001b[0m Model saved to ../output/Chicago/DATWGAN_22/model\\model-45281.\n",
      "\u001b[32m[1021 23:55:59 @monitor.py:467]\u001b[0m GAN_loss/d_loss: -0.043732\n",
      "\u001b[32m[1021 23:55:59 @monitor.py:467]\u001b[0m GAN_loss/g_loss: 1.7375\n",
      "\u001b[32m[1021 23:55:59 @monitor.py:467]\u001b[0m GAN_loss/gradient_penalty: 0.006822\n",
      "\u001b[32m[1021 23:55:59 @monitor.py:467]\u001b[0m GAN_loss/gradient_rms: 0.9988\n",
      "\u001b[32m[1021 23:55:59 @monitor.py:467]\u001b[0m GAN_loss/kl_div: 0.073366\n",
      "\u001b[32m[1021 23:55:59 @monitor.py:467]\u001b[0m QueueInput/queue_size: 50\n",
      "\u001b[32m[1021 23:55:59 @base.py:275]\u001b[0m Start Epoch 208 ...\n"
     ]
    },
    {
     "name": "stderr",
     "output_type": "stream",
     "text": [
      "\n",
      "100%|###################################################################################|175/175[00:06<00:00,25.57it/s]"
     ]
    },
    {
     "name": "stdout",
     "output_type": "stream",
     "text": [
      "\u001b[32m[1021 23:56:06 @base.py:285]\u001b[0m Epoch 208 (global_step 45499) finished, time:6.84 seconds.\n",
      "\u001b[32m[1021 23:56:06 @saver.py:79]\u001b[0m Model saved to ../output/Chicago/DATWGAN_22/model\\model-45499.\n",
      "\u001b[32m[1021 23:56:06 @monitor.py:467]\u001b[0m GAN_loss/d_loss: -0.049282\n"
     ]
    },
    {
     "name": "stderr",
     "output_type": "stream",
     "text": [
      "\n"
     ]
    },
    {
     "name": "stdout",
     "output_type": "stream",
     "text": [
      "\u001b[32m[1021 23:56:06 @monitor.py:467]\u001b[0m GAN_loss/g_loss: 1.7512\n",
      "\u001b[32m[1021 23:56:06 @monitor.py:467]\u001b[0m GAN_loss/gradient_penalty: 0.0067065\n",
      "\u001b[32m[1021 23:56:06 @monitor.py:467]\u001b[0m GAN_loss/gradient_rms: 1.0001\n",
      "\u001b[32m[1021 23:56:06 @monitor.py:467]\u001b[0m GAN_loss/kl_div: 0.067905\n",
      "\u001b[32m[1021 23:56:06 @monitor.py:467]\u001b[0m QueueInput/queue_size: 50\n",
      "\u001b[32m[1021 23:56:06 @base.py:275]\u001b[0m Start Epoch 209 ...\n"
     ]
    },
    {
     "name": "stderr",
     "output_type": "stream",
     "text": [
      "100%|###################################################################################|175/175[00:06<00:00,25.95it/s]"
     ]
    },
    {
     "name": "stdout",
     "output_type": "stream",
     "text": [
      "\u001b[32m[1021 23:56:13 @base.py:285]\u001b[0m Epoch 209 (global_step 45718) finished, time:6.74 seconds.\n",
      "\u001b[32m[1021 23:56:13 @saver.py:79]\u001b[0m Model saved to ../output/Chicago/DATWGAN_22/model\\model-45718.\n",
      "\u001b[32m[1021 23:56:13 @monitor.py:467]\u001b[0m GAN_loss/d_loss: -0.053106\n",
      "\u001b[32m[1021 23:56:13 @monitor.py:467]\u001b[0m GAN_loss/g_loss: 1.8045\n",
      "\u001b[32m[1021 23:56:13 @monitor.py:467]\u001b[0m GAN_loss/gradient_penalty: 0.0067089\n",
      "\u001b[32m[1021 23:56:13 @monitor.py:467]\u001b[0m GAN_loss/gradient_rms: 1.0008\n",
      "\u001b[32m[1021 23:56:13 @monitor.py:467]\u001b[0m GAN_loss/kl_div: 0.072487\n",
      "\u001b[32m[1021 23:56:13 @monitor.py:467]\u001b[0m QueueInput/queue_size: 50\n",
      "\u001b[32m[1021 23:56:13 @base.py:275]\u001b[0m Start Epoch 210 ...\n"
     ]
    },
    {
     "name": "stderr",
     "output_type": "stream",
     "text": [
      "\n",
      "100%|###################################################################################|175/175[00:06<00:00,26.30it/s]"
     ]
    },
    {
     "name": "stdout",
     "output_type": "stream",
     "text": [
      "\u001b[32m[1021 23:56:20 @base.py:285]\u001b[0m Epoch 210 (global_step 45937) finished, time:6.65 seconds.\n",
      "\u001b[32m[1021 23:56:20 @saver.py:79]\u001b[0m Model saved to ../output/Chicago/DATWGAN_22/model\\model-45937.\n",
      "\u001b[32m[1021 23:56:20 @monitor.py:467]\u001b[0m GAN_loss/d_loss: -0.052309\n",
      "\u001b[32m[1021 23:56:20 @monitor.py:467]\u001b[0m GAN_loss/g_loss: 1.7947\n",
      "\u001b[32m[1021 23:56:20 @monitor.py:467]\u001b[0m GAN_loss/gradient_penalty: 0.0064507\n",
      "\u001b[32m[1021 23:56:20 @monitor.py:467]\u001b[0m GAN_loss/gradient_rms: 0.99774\n",
      "\u001b[32m[1021 23:56:20 @monitor.py:467]\u001b[0m GAN_loss/kl_div: 0.071131\n",
      "\u001b[32m[1021 23:56:20 @monitor.py:467]\u001b[0m QueueInput/queue_size: 50\n",
      "\u001b[32m[1021 23:56:20 @base.py:275]\u001b[0m Start Epoch 211 ...\n"
     ]
    },
    {
     "name": "stderr",
     "output_type": "stream",
     "text": [
      "\n",
      "100%|###################################################################################|175/175[00:06<00:00,26.39it/s]"
     ]
    },
    {
     "name": "stdout",
     "output_type": "stream",
     "text": [
      "\u001b[32m[1021 23:56:27 @base.py:285]\u001b[0m Epoch 211 (global_step 46156) finished, time:6.63 seconds.\n",
      "WARNING:tensorflow:From D:\\Users\\glede\\anaconda3\\envs\\py37\\lib\\site-packages\\tensorflow_core\\python\\training\\saver.py:963: remove_checkpoint (from tensorflow.python.training.checkpoint_management) is deprecated and will be removed in a future version.\n",
      "Instructions for updating:\n",
      "Use standard file APIs to delete files with this prefix.\n",
      "\u001b[32m[1021 23:56:27 @saver.py:79]\u001b[0m Model saved to ../output/Chicago/DATWGAN_22/model\\model-46156.\n",
      "\u001b[32m[1021 23:56:27 @monitor.py:467]\u001b[0m GAN_loss/d_loss: -0.047731\n",
      "\u001b[32m[1021 23:56:27 @monitor.py:467]\u001b[0m GAN_loss/g_loss: 1.7928\n",
      "\u001b[32m[1021 23:56:27 @monitor.py:467]\u001b[0m GAN_loss/gradient_penalty: 0.0066354\n",
      "\u001b[32m[1021 23:56:27 @monitor.py:467]\u001b[0m GAN_loss/gradient_rms: 0.99947\n",
      "\u001b[32m[1021 23:56:27 @monitor.py:467]\u001b[0m GAN_loss/kl_div: 0.069193\n",
      "\u001b[32m[1021 23:56:27 @monitor.py:467]\u001b[0m QueueInput/queue_size: 50\n",
      "\u001b[32m[1021 23:56:27 @base.py:275]\u001b[0m Start Epoch 212 ...\n"
     ]
    },
    {
     "name": "stderr",
     "output_type": "stream",
     "text": [
      "\n",
      "100%|###################################################################################|175/175[00:06<00:00,25.75it/s]"
     ]
    },
    {
     "name": "stdout",
     "output_type": "stream",
     "text": [
      "\u001b[32m[1021 23:56:33 @base.py:285]\u001b[0m Epoch 212 (global_step 46374) finished, time:6.8 seconds.\n",
      "\u001b[32m[1021 23:56:33 @saver.py:79]\u001b[0m Model saved to ../output/Chicago/DATWGAN_22/model\\model-46374.\n",
      "\u001b[32m[1021 23:56:34 @monitor.py:467]\u001b[0m GAN_loss/d_loss: -0.04744\n",
      "\u001b[32m[1021 23:56:34 @monitor.py:467]\u001b[0m GAN_loss/g_loss: 1.7829\n",
      "\u001b[32m[1021 23:56:34 @monitor.py:467]\u001b[0m GAN_loss/gradient_penalty: 0.0065417\n",
      "\u001b[32m[1021 23:56:34 @monitor.py:467]\u001b[0m GAN_loss/gradient_rms: 0.99756\n",
      "\u001b[32m[1021 23:56:34 @monitor.py:467]\u001b[0m GAN_loss/kl_div: 0.068142\n",
      "\u001b[32m[1021 23:56:34 @monitor.py:467]\u001b[0m QueueInput/queue_size: 50\n",
      "\u001b[32m[1021 23:56:34 @base.py:275]\u001b[0m Start Epoch 213 ...\n"
     ]
    },
    {
     "name": "stderr",
     "output_type": "stream",
     "text": [
      "\n",
      "100%|###################################################################################|175/175[00:06<00:00,25.74it/s]"
     ]
    },
    {
     "name": "stdout",
     "output_type": "stream",
     "text": [
      "\u001b[32m[1021 23:56:40 @base.py:285]\u001b[0m Epoch 213 (global_step 46593) finished, time:6.8 seconds.\n",
      "\u001b[32m[1021 23:56:40 @saver.py:79]\u001b[0m Model saved to ../output/Chicago/DATWGAN_22/model\\model-46593.\n",
      "\u001b[32m[1021 23:56:40 @monitor.py:467]\u001b[0m GAN_loss/d_loss: -0.051103\n",
      "\u001b[32m[1021 23:56:40 @monitor.py:467]\u001b[0m GAN_loss/g_loss: 1.7677\n",
      "\u001b[32m[1021 23:56:40 @monitor.py:467]\u001b[0m GAN_loss/gradient_penalty: 0.0068729\n",
      "\u001b[32m[1021 23:56:40 @monitor.py:467]\u001b[0m GAN_loss/gradient_rms: 1.0004\n",
      "\u001b[32m[1021 23:56:40 @monitor.py:467]\u001b[0m GAN_loss/kl_div: 0.071353\n",
      "\u001b[32m[1021 23:56:40 @monitor.py:467]\u001b[0m QueueInput/queue_size: 50\n",
      "\u001b[32m[1021 23:56:40 @base.py:275]\u001b[0m Start Epoch 214 ...\n"
     ]
    },
    {
     "name": "stderr",
     "output_type": "stream",
     "text": [
      "\n",
      "100%|###################################################################################|175/175[00:06<00:00,26.10it/s]"
     ]
    },
    {
     "name": "stdout",
     "output_type": "stream",
     "text": [
      "\u001b[32m[1021 23:56:47 @base.py:285]\u001b[0m Epoch 214 (global_step 46812) finished, time:6.7 seconds.\n",
      "\u001b[32m[1021 23:56:47 @saver.py:79]\u001b[0m Model saved to ../output/Chicago/DATWGAN_22/model\\model-46812.\n",
      "\u001b[32m[1021 23:56:47 @monitor.py:467]\u001b[0m GAN_loss/d_loss: -0.044822\n",
      "\u001b[32m[1021 23:56:47 @monitor.py:467]\u001b[0m GAN_loss/g_loss: 1.7959\n",
      "\u001b[32m[1021 23:56:47 @monitor.py:467]\u001b[0m GAN_loss/gradient_penalty: 0.0066544\n",
      "\u001b[32m[1021 23:56:47 @monitor.py:467]\u001b[0m GAN_loss/gradient_rms: 0.99845\n",
      "\u001b[32m[1021 23:56:47 @monitor.py:467]\u001b[0m GAN_loss/kl_div: 0.070376\n",
      "\u001b[32m[1021 23:56:47 @monitor.py:467]\u001b[0m QueueInput/queue_size: 50\n",
      "\u001b[32m[1021 23:56:47 @base.py:275]\u001b[0m Start Epoch 215 ...\n"
     ]
    },
    {
     "name": "stderr",
     "output_type": "stream",
     "text": [
      "\n",
      "100%|###################################################################################|175/175[00:06<00:00,26.54it/s]"
     ]
    },
    {
     "name": "stdout",
     "output_type": "stream",
     "text": [
      "\u001b[32m[1021 23:56:54 @base.py:285]\u001b[0m Epoch 215 (global_step 47031) finished, time:6.6 seconds.\n",
      "\u001b[32m[1021 23:56:54 @saver.py:79]\u001b[0m Model saved to ../output/Chicago/DATWGAN_22/model\\model-47031.\n",
      "\u001b[32m[1021 23:56:54 @monitor.py:467]\u001b[0m GAN_loss/d_loss: -0.048668\n",
      "\u001b[32m[1021 23:56:54 @monitor.py:467]\u001b[0m GAN_loss/g_loss: 1.8016\n",
      "\u001b[32m[1021 23:56:54 @monitor.py:467]\u001b[0m GAN_loss/gradient_penalty: 0.0064591\n",
      "\u001b[32m[1021 23:56:54 @monitor.py:467]\u001b[0m GAN_loss/gradient_rms: 0.99803\n",
      "\u001b[32m[1021 23:56:54 @monitor.py:467]\u001b[0m GAN_loss/kl_div: 0.072905\n",
      "\u001b[32m[1021 23:56:54 @monitor.py:467]\u001b[0m QueueInput/queue_size: 50\n",
      "\u001b[32m[1021 23:56:54 @base.py:275]\u001b[0m Start Epoch 216 ...\n"
     ]
    },
    {
     "name": "stderr",
     "output_type": "stream",
     "text": [
      "\n",
      "100%|###################################################################################|175/175[00:06<00:00,25.95it/s]"
     ]
    },
    {
     "name": "stdout",
     "output_type": "stream",
     "text": [
      "\u001b[32m[1021 23:57:01 @base.py:285]\u001b[0m Epoch 216 (global_step 47249) finished, time:6.74 seconds.\n",
      "\u001b[32m[1021 23:57:01 @saver.py:79]\u001b[0m Model saved to ../output/Chicago/DATWGAN_22/model\\model-47249.\n",
      "\u001b[32m[1021 23:57:01 @monitor.py:467]\u001b[0m GAN_loss/d_loss: -0.045887\n",
      "\u001b[32m[1021 23:57:01 @monitor.py:467]\u001b[0m GAN_loss/g_loss: 1.8076\n",
      "\u001b[32m[1021 23:57:01 @monitor.py:467]\u001b[0m GAN_loss/gradient_penalty: 0.0067147\n",
      "\u001b[32m[1021 23:57:01 @monitor.py:467]\u001b[0m GAN_loss/gradient_rms: 0.99852\n",
      "\u001b[32m[1021 23:57:01 @monitor.py:467]\u001b[0m GAN_loss/kl_div: 0.070033\n",
      "\u001b[32m[1021 23:57:01 @monitor.py:467]\u001b[0m QueueInput/queue_size: 50\n",
      "\u001b[32m[1021 23:57:01 @base.py:275]\u001b[0m Start Epoch 217 ...\n"
     ]
    },
    {
     "name": "stderr",
     "output_type": "stream",
     "text": [
      "\n",
      "100%|###################################################################################|175/175[00:06<00:00,25.17it/s]"
     ]
    },
    {
     "name": "stdout",
     "output_type": "stream",
     "text": [
      "\u001b[32m[1021 23:57:08 @base.py:285]\u001b[0m Epoch 217 (global_step 47468) finished, time:6.95 seconds.\n"
     ]
    },
    {
     "name": "stderr",
     "output_type": "stream",
     "text": [
      "\n"
     ]
    },
    {
     "name": "stdout",
     "output_type": "stream",
     "text": [
      "\u001b[32m[1021 23:57:08 @saver.py:79]\u001b[0m Model saved to ../output/Chicago/DATWGAN_22/model\\model-47468.\n",
      "\u001b[32m[1021 23:57:08 @monitor.py:467]\u001b[0m GAN_loss/d_loss: -0.053127\n",
      "\u001b[32m[1021 23:57:08 @monitor.py:467]\u001b[0m GAN_loss/g_loss: 1.8267\n",
      "\u001b[32m[1021 23:57:08 @monitor.py:467]\u001b[0m GAN_loss/gradient_penalty: 0.0067134\n",
      "\u001b[32m[1021 23:57:08 @monitor.py:467]\u001b[0m GAN_loss/gradient_rms: 0.99857\n",
      "\u001b[32m[1021 23:57:08 @monitor.py:467]\u001b[0m GAN_loss/kl_div: 0.072154\n",
      "\u001b[32m[1021 23:57:08 @monitor.py:467]\u001b[0m QueueInput/queue_size: 50\n",
      "\u001b[32m[1021 23:57:08 @base.py:275]\u001b[0m Start Epoch 218 ...\n"
     ]
    },
    {
     "name": "stderr",
     "output_type": "stream",
     "text": [
      "100%|###################################################################################|175/175[00:06<00:00,26.16it/s]"
     ]
    },
    {
     "name": "stdout",
     "output_type": "stream",
     "text": [
      "\u001b[32m[1021 23:57:15 @base.py:285]\u001b[0m Epoch 218 (global_step 47687) finished, time:6.69 seconds.\n",
      "\u001b[32m[1021 23:57:15 @saver.py:79]\u001b[0m Model saved to ../output/Chicago/DATWGAN_22/model\\model-47687.\n",
      "\u001b[32m[1021 23:57:15 @monitor.py:467]\u001b[0m GAN_loss/d_loss: -0.048669\n",
      "\u001b[32m[1021 23:57:15 @monitor.py:467]\u001b[0m GAN_loss/g_loss: 1.8384\n",
      "\u001b[32m[1021 23:57:15 @monitor.py:467]\u001b[0m GAN_loss/gradient_penalty: 0.0069246\n",
      "\u001b[32m[1021 23:57:15 @monitor.py:467]\u001b[0m GAN_loss/gradient_rms: 1.0002\n",
      "\u001b[32m[1021 23:57:15 @monitor.py:467]\u001b[0m GAN_loss/kl_div: 0.070721\n",
      "\u001b[32m[1021 23:57:15 @monitor.py:467]\u001b[0m QueueInput/queue_size: 50\n",
      "\u001b[32m[1021 23:57:15 @base.py:275]\u001b[0m Start Epoch 219 ...\n"
     ]
    },
    {
     "name": "stderr",
     "output_type": "stream",
     "text": [
      "\n",
      "100%|###################################################################################|175/175[00:06<00:00,26.18it/s]"
     ]
    },
    {
     "name": "stdout",
     "output_type": "stream",
     "text": [
      "\u001b[32m[1021 23:57:21 @base.py:285]\u001b[0m Epoch 219 (global_step 47906) finished, time:6.68 seconds.\n",
      "\u001b[32m[1021 23:57:21 @saver.py:79]\u001b[0m Model saved to ../output/Chicago/DATWGAN_22/model\\model-47906.\n",
      "\u001b[32m[1021 23:57:22 @monitor.py:467]\u001b[0m GAN_loss/d_loss: -0.048595\n",
      "\u001b[32m[1021 23:57:22 @monitor.py:467]\u001b[0m GAN_loss/g_loss: 1.8375\n",
      "\u001b[32m[1021 23:57:22 @monitor.py:467]\u001b[0m GAN_loss/gradient_penalty: 0.0064189\n",
      "\u001b[32m[1021 23:57:22 @monitor.py:467]\u001b[0m GAN_loss/gradient_rms: 0.99953\n",
      "\u001b[32m[1021 23:57:22 @monitor.py:467]\u001b[0m GAN_loss/kl_div: 0.073793\n",
      "\u001b[32m[1021 23:57:22 @monitor.py:467]\u001b[0m QueueInput/queue_size: 50\n",
      "\u001b[32m[1021 23:57:22 @base.py:275]\u001b[0m Start Epoch 220 ...\n"
     ]
    },
    {
     "name": "stderr",
     "output_type": "stream",
     "text": [
      "\n",
      "100%|###################################################################################|175/175[00:06<00:00,26.13it/s]"
     ]
    },
    {
     "name": "stdout",
     "output_type": "stream",
     "text": [
      "\u001b[32m[1021 23:57:28 @base.py:285]\u001b[0m Epoch 220 (global_step 48124) finished, time:6.7 seconds.\n",
      "\u001b[32m[1021 23:57:28 @saver.py:79]\u001b[0m Model saved to ../output/Chicago/DATWGAN_22/model\\model-48124.\n",
      "\u001b[32m[1021 23:57:28 @monitor.py:467]\u001b[0m GAN_loss/d_loss: -0.04675\n",
      "\u001b[32m[1021 23:57:28 @monitor.py:467]\u001b[0m GAN_loss/g_loss: 1.8135\n",
      "\u001b[32m[1021 23:57:28 @monitor.py:467]\u001b[0m GAN_loss/gradient_penalty: 0.0066873\n",
      "\u001b[32m[1021 23:57:28 @monitor.py:467]\u001b[0m GAN_loss/gradient_rms: 0.99795\n",
      "\u001b[32m[1021 23:57:28 @monitor.py:467]\u001b[0m GAN_loss/kl_div: 0.071156\n",
      "\u001b[32m[1021 23:57:28 @monitor.py:467]\u001b[0m QueueInput/queue_size: 50\n",
      "\u001b[32m[1021 23:57:28 @base.py:275]\u001b[0m Start Epoch 221 ...\n"
     ]
    },
    {
     "name": "stderr",
     "output_type": "stream",
     "text": [
      "\n",
      "100%|###################################################################################|175/175[00:07<00:00,24.47it/s]"
     ]
    },
    {
     "name": "stdout",
     "output_type": "stream",
     "text": [
      "\u001b[32m[1021 23:57:35 @base.py:285]\u001b[0m Epoch 221 (global_step 48343) finished, time:7.15 seconds.\n",
      "\u001b[32m[1021 23:57:36 @saver.py:79]\u001b[0m Model saved to ../output/Chicago/DATWGAN_22/model\\model-48343.\n",
      "\u001b[32m[1021 23:57:36 @monitor.py:467]\u001b[0m GAN_loss/d_loss: -0.049223\n",
      "\u001b[32m[1021 23:57:36 @monitor.py:467]\u001b[0m GAN_loss/g_loss: 1.8262\n",
      "\u001b[32m[1021 23:57:36 @monitor.py:467]\u001b[0m GAN_loss/gradient_penalty: 0.006445\n",
      "\u001b[32m[1021 23:57:36 @monitor.py:467]\u001b[0m GAN_loss/gradient_rms: 0.99916\n",
      "\u001b[32m[1021 23:57:36 @monitor.py:467]\u001b[0m GAN_loss/kl_div: 0.07232\n",
      "\u001b[32m[1021 23:57:36 @monitor.py:467]\u001b[0m QueueInput/queue_size: 50\n",
      "\u001b[32m[1021 23:57:36 @base.py:275]\u001b[0m Start Epoch 222 ...\n"
     ]
    },
    {
     "name": "stderr",
     "output_type": "stream",
     "text": [
      "\n",
      "100%|###################################################################################|175/175[00:06<00:00,25.65it/s]"
     ]
    },
    {
     "name": "stdout",
     "output_type": "stream",
     "text": [
      "\u001b[32m[1021 23:57:42 @base.py:285]\u001b[0m Epoch 222 (global_step 48562) finished, time:6.82 seconds.\n",
      "\u001b[32m[1021 23:57:43 @saver.py:79]\u001b[0m Model saved to ../output/Chicago/DATWGAN_22/model\\model-48562.\n",
      "\u001b[32m[1021 23:57:43 @monitor.py:467]\u001b[0m GAN_loss/d_loss: -0.048644\n",
      "\u001b[32m[1021 23:57:43 @monitor.py:467]\u001b[0m GAN_loss/g_loss: 1.7999\n",
      "\u001b[32m[1021 23:57:43 @monitor.py:467]\u001b[0m GAN_loss/gradient_penalty: 0.0067145\n",
      "\u001b[32m[1021 23:57:43 @monitor.py:467]\u001b[0m GAN_loss/gradient_rms: 0.99791\n",
      "\u001b[32m[1021 23:57:43 @monitor.py:467]\u001b[0m GAN_loss/kl_div: 0.075913\n",
      "\u001b[32m[1021 23:57:43 @monitor.py:467]\u001b[0m QueueInput/queue_size: 50\n",
      "\u001b[32m[1021 23:57:43 @base.py:275]\u001b[0m Start Epoch 223 ...\n"
     ]
    },
    {
     "name": "stderr",
     "output_type": "stream",
     "text": [
      "\n",
      "100%|###################################################################################|175/175[00:06<00:00,25.71it/s]"
     ]
    },
    {
     "name": "stdout",
     "output_type": "stream",
     "text": [
      "\u001b[32m[1021 23:57:49 @base.py:285]\u001b[0m Epoch 223 (global_step 48781) finished, time:6.81 seconds.\n",
      "\u001b[32m[1021 23:57:49 @saver.py:79]\u001b[0m Model saved to ../output/Chicago/DATWGAN_22/model\\model-48781.\n",
      "\u001b[32m[1021 23:57:49 @monitor.py:467]\u001b[0m GAN_loss/d_loss: -0.047557\n",
      "\u001b[32m[1021 23:57:49 @monitor.py:467]\u001b[0m GAN_loss/g_loss: 1.8145\n",
      "\u001b[32m[1021 23:57:49 @monitor.py:467]\u001b[0m GAN_loss/gradient_penalty: 0.0068207\n",
      "\u001b[32m[1021 23:57:49 @monitor.py:467]\u001b[0m GAN_loss/gradient_rms: 0.99915\n",
      "\u001b[32m[1021 23:57:49 @monitor.py:467]\u001b[0m GAN_loss/kl_div: 0.073818\n",
      "\u001b[32m[1021 23:57:49 @monitor.py:467]\u001b[0m QueueInput/queue_size: 50\n",
      "\u001b[32m[1021 23:57:49 @base.py:275]\u001b[0m Start Epoch 224 ...\n"
     ]
    },
    {
     "name": "stderr",
     "output_type": "stream",
     "text": [
      "\n",
      "100%|###################################################################################|175/175[00:06<00:00,25.63it/s]"
     ]
    },
    {
     "name": "stdout",
     "output_type": "stream",
     "text": [
      "\u001b[32m[1021 23:57:56 @base.py:285]\u001b[0m Epoch 224 (global_step 48999) finished, time:6.83 seconds.\n",
      "\u001b[32m[1021 23:57:56 @saver.py:79]\u001b[0m Model saved to ../output/Chicago/DATWGAN_22/model\\model-48999.\n",
      "\u001b[32m[1021 23:57:56 @monitor.py:467]\u001b[0m GAN_loss/d_loss: -0.045635\n",
      "\u001b[32m[1021 23:57:56 @monitor.py:467]\u001b[0m GAN_loss/g_loss: 1.8191\n",
      "\u001b[32m[1021 23:57:56 @monitor.py:467]\u001b[0m GAN_loss/gradient_penalty: 0.0065642\n",
      "\u001b[32m[1021 23:57:56 @monitor.py:467]\u001b[0m GAN_loss/gradient_rms: 0.9987\n",
      "\u001b[32m[1021 23:57:56 @monitor.py:467]\u001b[0m GAN_loss/kl_div: 0.07013\n",
      "\u001b[32m[1021 23:57:56 @monitor.py:467]\u001b[0m QueueInput/queue_size: 50\n",
      "\u001b[32m[1021 23:57:56 @base.py:275]\u001b[0m Start Epoch 225 ...\n"
     ]
    },
    {
     "name": "stderr",
     "output_type": "stream",
     "text": [
      "\n",
      "100%|###################################################################################|175/175[00:06<00:00,25.10it/s]"
     ]
    },
    {
     "name": "stdout",
     "output_type": "stream",
     "text": [
      "\u001b[32m[1021 23:58:03 @base.py:285]\u001b[0m Epoch 225 (global_step 49218) finished, time:6.97 seconds.\n",
      "\u001b[32m[1021 23:58:03 @saver.py:79]\u001b[0m Model saved to ../output/Chicago/DATWGAN_22/model\\model-49218.\n",
      "\u001b[32m[1021 23:58:04 @monitor.py:467]\u001b[0m GAN_loss/d_loss: -0.051002\n",
      "\u001b[32m[1021 23:58:04 @monitor.py:467]\u001b[0m GAN_loss/g_loss: 1.8091\n",
      "\u001b[32m[1021 23:58:04 @monitor.py:467]\u001b[0m GAN_loss/gradient_penalty: 0.0065932\n",
      "\u001b[32m[1021 23:58:04 @monitor.py:467]\u001b[0m GAN_loss/gradient_rms: 0.99791\n",
      "\u001b[32m[1021 23:58:04 @monitor.py:467]\u001b[0m GAN_loss/kl_div: 0.076948\n",
      "\u001b[32m[1021 23:58:04 @monitor.py:467]\u001b[0m QueueInput/queue_size: 50\n",
      "\u001b[32m[1021 23:58:04 @base.py:275]\u001b[0m Start Epoch 226 ...\n"
     ]
    },
    {
     "name": "stderr",
     "output_type": "stream",
     "text": [
      "\n",
      "100%|###################################################################################|175/175[00:06<00:00,25.41it/s]"
     ]
    },
    {
     "name": "stdout",
     "output_type": "stream",
     "text": [
      "\u001b[32m[1021 23:58:10 @base.py:285]\u001b[0m Epoch 226 (global_step 49437) finished, time:6.89 seconds.\n",
      "\u001b[32m[1021 23:58:10 @saver.py:79]\u001b[0m Model saved to ../output/Chicago/DATWGAN_22/model\\model-49437.\n",
      "\u001b[32m[1021 23:58:11 @monitor.py:467]\u001b[0m GAN_loss/d_loss: -0.054558\n"
     ]
    },
    {
     "name": "stderr",
     "output_type": "stream",
     "text": [
      "\n"
     ]
    },
    {
     "name": "stdout",
     "output_type": "stream",
     "text": [
      "\u001b[32m[1021 23:58:11 @monitor.py:467]\u001b[0m GAN_loss/g_loss: 1.8307\n",
      "\u001b[32m[1021 23:58:11 @monitor.py:467]\u001b[0m GAN_loss/gradient_penalty: 0.0068649\n",
      "\u001b[32m[1021 23:58:11 @monitor.py:467]\u001b[0m GAN_loss/gradient_rms: 1.0008\n",
      "\u001b[32m[1021 23:58:11 @monitor.py:467]\u001b[0m GAN_loss/kl_div: 0.067698\n",
      "\u001b[32m[1021 23:58:11 @monitor.py:467]\u001b[0m QueueInput/queue_size: 50\n",
      "\u001b[32m[1021 23:58:11 @base.py:275]\u001b[0m Start Epoch 227 ...\n"
     ]
    },
    {
     "name": "stderr",
     "output_type": "stream",
     "text": [
      "100%|###################################################################################|175/175[00:06<00:00,26.17it/s]"
     ]
    },
    {
     "name": "stdout",
     "output_type": "stream",
     "text": [
      "\u001b[32m[1021 23:58:17 @base.py:285]\u001b[0m Epoch 227 (global_step 49656) finished, time:6.69 seconds.\n",
      "\u001b[32m[1021 23:58:17 @saver.py:79]\u001b[0m Model saved to ../output/Chicago/DATWGAN_22/model\\model-49656.\n",
      "\u001b[32m[1021 23:58:17 @monitor.py:467]\u001b[0m GAN_loss/d_loss: -0.045181\n",
      "\u001b[32m[1021 23:58:17 @monitor.py:467]\u001b[0m GAN_loss/g_loss: 1.8042\n",
      "\u001b[32m[1021 23:58:17 @monitor.py:467]\u001b[0m GAN_loss/gradient_penalty: 0.0066595\n",
      "\u001b[32m[1021 23:58:17 @monitor.py:467]\u001b[0m GAN_loss/gradient_rms: 0.99768\n",
      "\u001b[32m[1021 23:58:17 @monitor.py:467]\u001b[0m GAN_loss/kl_div: 0.068804\n",
      "\u001b[32m[1021 23:58:17 @monitor.py:467]\u001b[0m QueueInput/queue_size: 50\n",
      "\u001b[32m[1021 23:58:17 @base.py:275]\u001b[0m Start Epoch 228 ...\n"
     ]
    },
    {
     "name": "stderr",
     "output_type": "stream",
     "text": [
      "\n",
      "100%|###################################################################################|175/175[00:06<00:00,26.54it/s]"
     ]
    },
    {
     "name": "stdout",
     "output_type": "stream",
     "text": [
      "\u001b[32m[1021 23:58:24 @base.py:285]\u001b[0m Epoch 228 (global_step 49874) finished, time:6.59 seconds.\n",
      "\u001b[32m[1021 23:58:24 @saver.py:79]\u001b[0m Model saved to ../output/Chicago/DATWGAN_22/model\\model-49874.\n",
      "\u001b[32m[1021 23:58:24 @monitor.py:467]\u001b[0m GAN_loss/d_loss: -0.042517\n",
      "\u001b[32m[1021 23:58:24 @monitor.py:467]\u001b[0m GAN_loss/g_loss: 1.8075\n",
      "\u001b[32m[1021 23:58:24 @monitor.py:467]\u001b[0m GAN_loss/gradient_penalty: 0.0065143\n",
      "\u001b[32m[1021 23:58:24 @monitor.py:467]\u001b[0m GAN_loss/gradient_rms: 0.99981\n",
      "\u001b[32m[1021 23:58:24 @monitor.py:467]\u001b[0m GAN_loss/kl_div: 0.071977\n",
      "\u001b[32m[1021 23:58:24 @monitor.py:467]\u001b[0m QueueInput/queue_size: 50\n",
      "\u001b[32m[1021 23:58:24 @base.py:275]\u001b[0m Start Epoch 229 ...\n"
     ]
    },
    {
     "name": "stderr",
     "output_type": "stream",
     "text": [
      "\n",
      "100%|###################################################################################|175/175[00:06<00:00,26.36it/s]"
     ]
    },
    {
     "name": "stdout",
     "output_type": "stream",
     "text": [
      "\u001b[32m[1021 23:58:31 @base.py:285]\u001b[0m Epoch 229 (global_step 50093) finished, time:6.64 seconds.\n",
      "\u001b[32m[1021 23:58:31 @saver.py:79]\u001b[0m Model saved to ../output/Chicago/DATWGAN_22/model\\model-50093.\n",
      "\u001b[32m[1021 23:58:31 @monitor.py:467]\u001b[0m GAN_loss/d_loss: -0.04943\n",
      "\u001b[32m[1021 23:58:31 @monitor.py:467]\u001b[0m GAN_loss/g_loss: 1.8492\n",
      "\u001b[32m[1021 23:58:31 @monitor.py:467]\u001b[0m GAN_loss/gradient_penalty: 0.0065118\n",
      "\u001b[32m[1021 23:58:31 @monitor.py:467]\u001b[0m GAN_loss/gradient_rms: 0.99984\n",
      "\u001b[32m[1021 23:58:31 @monitor.py:467]\u001b[0m GAN_loss/kl_div: 0.067535\n",
      "\u001b[32m[1021 23:58:31 @monitor.py:467]\u001b[0m QueueInput/queue_size: 50\n",
      "\u001b[32m[1021 23:58:31 @base.py:275]\u001b[0m Start Epoch 230 ...\n"
     ]
    },
    {
     "name": "stderr",
     "output_type": "stream",
     "text": [
      "\n",
      "100%|###################################################################################|175/175[00:06<00:00,25.76it/s]"
     ]
    },
    {
     "name": "stdout",
     "output_type": "stream",
     "text": [
      "\u001b[32m[1021 23:58:38 @base.py:285]\u001b[0m Epoch 230 (global_step 50312) finished, time:6.79 seconds.\n",
      "\u001b[32m[1021 23:58:38 @saver.py:79]\u001b[0m Model saved to ../output/Chicago/DATWGAN_22/model\\model-50312.\n",
      "\u001b[32m[1021 23:58:38 @monitor.py:467]\u001b[0m GAN_loss/d_loss: -0.045714\n",
      "\u001b[32m[1021 23:58:38 @monitor.py:467]\u001b[0m GAN_loss/g_loss: 1.8366\n",
      "\u001b[32m[1021 23:58:38 @monitor.py:467]\u001b[0m GAN_loss/gradient_penalty: 0.0067183\n",
      "\u001b[32m[1021 23:58:38 @monitor.py:467]\u001b[0m GAN_loss/gradient_rms: 0.99943\n",
      "\u001b[32m[1021 23:58:38 @monitor.py:467]\u001b[0m GAN_loss/kl_div: 0.067823\n",
      "\u001b[32m[1021 23:58:38 @monitor.py:467]\u001b[0m QueueInput/queue_size: 50\n",
      "\u001b[32m[1021 23:58:38 @base.py:275]\u001b[0m Start Epoch 231 ...\n"
     ]
    },
    {
     "name": "stderr",
     "output_type": "stream",
     "text": [
      "\n",
      "100%|###################################################################################|175/175[00:06<00:00,26.57it/s]"
     ]
    },
    {
     "name": "stdout",
     "output_type": "stream",
     "text": [
      "\u001b[32m[1021 23:58:44 @base.py:285]\u001b[0m Epoch 231 (global_step 50531) finished, time:6.59 seconds.\n",
      "\u001b[32m[1021 23:58:44 @saver.py:79]\u001b[0m Model saved to ../output/Chicago/DATWGAN_22/model\\model-50531.\n",
      "\u001b[32m[1021 23:58:44 @monitor.py:467]\u001b[0m GAN_loss/d_loss: -0.046764\n",
      "\u001b[32m[1021 23:58:44 @monitor.py:467]\u001b[0m GAN_loss/g_loss: 1.8205\n",
      "\u001b[32m[1021 23:58:44 @monitor.py:467]\u001b[0m GAN_loss/gradient_penalty: 0.0066606\n",
      "\u001b[32m[1021 23:58:44 @monitor.py:467]\u001b[0m GAN_loss/gradient_rms: 0.99956\n",
      "\u001b[32m[1021 23:58:44 @monitor.py:467]\u001b[0m GAN_loss/kl_div: 0.070261\n",
      "\u001b[32m[1021 23:58:44 @monitor.py:467]\u001b[0m QueueInput/queue_size: 50\n",
      "\u001b[32m[1021 23:58:44 @base.py:275]\u001b[0m Start Epoch 232 ...\n"
     ]
    },
    {
     "name": "stderr",
     "output_type": "stream",
     "text": [
      "\n",
      "100%|###################################################################################|175/175[00:06<00:00,26.39it/s]"
     ]
    },
    {
     "name": "stdout",
     "output_type": "stream",
     "text": [
      "\u001b[32m[1021 23:58:51 @base.py:285]\u001b[0m Epoch 232 (global_step 50749) finished, time:6.63 seconds.\n",
      "\u001b[32m[1021 23:58:51 @saver.py:79]\u001b[0m Model saved to ../output/Chicago/DATWGAN_22/model\\model-50749.\n",
      "\u001b[32m[1021 23:58:51 @monitor.py:467]\u001b[0m GAN_loss/d_loss: -0.049885\n",
      "\u001b[32m[1021 23:58:51 @monitor.py:467]\u001b[0m GAN_loss/g_loss: 1.816\n",
      "\u001b[32m[1021 23:58:51 @monitor.py:467]\u001b[0m GAN_loss/gradient_penalty: 0.0064966\n",
      "\u001b[32m[1021 23:58:51 @monitor.py:467]\u001b[0m GAN_loss/gradient_rms: 0.99821\n",
      "\u001b[32m[1021 23:58:51 @monitor.py:467]\u001b[0m GAN_loss/kl_div: 0.071324\n",
      "\u001b[32m[1021 23:58:51 @monitor.py:467]\u001b[0m QueueInput/queue_size: 50\n",
      "\u001b[32m[1021 23:58:51 @base.py:275]\u001b[0m Start Epoch 233 ...\n"
     ]
    },
    {
     "name": "stderr",
     "output_type": "stream",
     "text": [
      "\n",
      "100%|###################################################################################|175/175[00:06<00:00,26.12it/s]"
     ]
    },
    {
     "name": "stdout",
     "output_type": "stream",
     "text": [
      "\u001b[32m[1021 23:58:58 @base.py:285]\u001b[0m Epoch 233 (global_step 50968) finished, time:6.7 seconds.\n",
      "\u001b[32m[1021 23:58:58 @saver.py:79]\u001b[0m Model saved to ../output/Chicago/DATWGAN_22/model\\model-50968.\n",
      "\u001b[32m[1021 23:58:58 @monitor.py:467]\u001b[0m GAN_loss/d_loss: -0.046609\n",
      "\u001b[32m[1021 23:58:58 @monitor.py:467]\u001b[0m GAN_loss/g_loss: 1.8254\n",
      "\u001b[32m[1021 23:58:58 @monitor.py:467]\u001b[0m GAN_loss/gradient_penalty: 0.0064553\n",
      "\u001b[32m[1021 23:58:58 @monitor.py:467]\u001b[0m GAN_loss/gradient_rms: 0.99746\n",
      "\u001b[32m[1021 23:58:58 @monitor.py:467]\u001b[0m GAN_loss/kl_div: 0.069348\n",
      "\u001b[32m[1021 23:58:58 @monitor.py:467]\u001b[0m QueueInput/queue_size: 50\n",
      "\u001b[32m[1021 23:58:58 @base.py:275]\u001b[0m Start Epoch 234 ...\n"
     ]
    },
    {
     "name": "stderr",
     "output_type": "stream",
     "text": [
      "\n",
      "100%|###################################################################################|175/175[00:07<00:00,24.86it/s]"
     ]
    },
    {
     "name": "stdout",
     "output_type": "stream",
     "text": [
      "\u001b[32m[1021 23:59:05 @base.py:285]\u001b[0m Epoch 234 (global_step 51187) finished, time:7.04 seconds.\n",
      "\u001b[32m[1021 23:59:05 @saver.py:79]\u001b[0m Model saved to ../output/Chicago/DATWGAN_22/model\\model-51187.\n",
      "\u001b[32m[1021 23:59:05 @monitor.py:467]\u001b[0m GAN_loss/d_loss: -0.047841\n",
      "\u001b[32m[1021 23:59:05 @monitor.py:467]\u001b[0m GAN_loss/g_loss: 1.8353\n",
      "\u001b[32m[1021 23:59:05 @monitor.py:467]\u001b[0m GAN_loss/gradient_penalty: 0.0065518\n",
      "\u001b[32m[1021 23:59:05 @monitor.py:467]\u001b[0m GAN_loss/gradient_rms: 0.99865\n",
      "\u001b[32m[1021 23:59:05 @monitor.py:467]\u001b[0m GAN_loss/kl_div: 0.069725\n",
      "\u001b[32m[1021 23:59:05 @monitor.py:467]\u001b[0m QueueInput/queue_size: 50\n",
      "\u001b[32m[1021 23:59:05 @base.py:275]\u001b[0m Start Epoch 235 ...\n"
     ]
    },
    {
     "name": "stderr",
     "output_type": "stream",
     "text": [
      "\n",
      "100%|###################################################################################|175/175[00:06<00:00,26.31it/s]"
     ]
    },
    {
     "name": "stdout",
     "output_type": "stream",
     "text": [
      "\u001b[32m[1021 23:59:12 @base.py:285]\u001b[0m Epoch 235 (global_step 51406) finished, time:6.65 seconds.\n",
      "\u001b[32m[1021 23:59:12 @saver.py:79]\u001b[0m Model saved to ../output/Chicago/DATWGAN_22/model\\model-51406.\n",
      "\u001b[32m[1021 23:59:12 @monitor.py:467]\u001b[0m GAN_loss/d_loss: -0.041354\n",
      "\u001b[32m[1021 23:59:12 @monitor.py:467]\u001b[0m GAN_loss/g_loss: 1.8349\n",
      "\u001b[32m[1021 23:59:12 @monitor.py:467]\u001b[0m GAN_loss/gradient_penalty: 0.0064098\n",
      "\u001b[32m[1021 23:59:12 @monitor.py:467]\u001b[0m GAN_loss/gradient_rms: 0.9991\n",
      "\u001b[32m[1021 23:59:12 @monitor.py:467]\u001b[0m GAN_loss/kl_div: 0.06726\n",
      "\u001b[32m[1021 23:59:12 @monitor.py:467]\u001b[0m QueueInput/queue_size: 50\n",
      "\u001b[32m[1021 23:59:12 @base.py:275]\u001b[0m Start Epoch 236 ...\n"
     ]
    },
    {
     "name": "stderr",
     "output_type": "stream",
     "text": [
      "\n",
      "100%|###################################################################################|175/175[00:06<00:00,26.16it/s]"
     ]
    },
    {
     "name": "stdout",
     "output_type": "stream",
     "text": [
      "\u001b[32m[1021 23:59:19 @base.py:285]\u001b[0m Epoch 236 (global_step 51624) finished, time:6.69 seconds.\n",
      "\u001b[32m[1021 23:59:19 @saver.py:79]\u001b[0m Model saved to ../output/Chicago/DATWGAN_22/model\\model-51624.\n",
      "\u001b[32m[1021 23:59:19 @monitor.py:467]\u001b[0m GAN_loss/d_loss: -0.05012\n",
      "\u001b[32m[1021 23:59:19 @monitor.py:467]\u001b[0m GAN_loss/g_loss: 1.8642\n",
      "\u001b[32m[1021 23:59:19 @monitor.py:467]\u001b[0m GAN_loss/gradient_penalty: 0.0064122\n",
      "\u001b[32m[1021 23:59:19 @monitor.py:467]\u001b[0m GAN_loss/gradient_rms: 1.0003\n",
      "\u001b[32m[1021 23:59:19 @monitor.py:467]\u001b[0m GAN_loss/kl_div: 0.06401\n",
      "\u001b[32m[1021 23:59:19 @monitor.py:467]\u001b[0m QueueInput/queue_size: 50\n",
      "\u001b[32m[1021 23:59:19 @base.py:275]\u001b[0m Start Epoch 237 ...\n"
     ]
    },
    {
     "name": "stderr",
     "output_type": "stream",
     "text": [
      "\n",
      "100%|###################################################################################|175/175[00:06<00:00,25.99it/s]"
     ]
    },
    {
     "name": "stdout",
     "output_type": "stream",
     "text": [
      "\u001b[32m[1021 23:59:26 @base.py:285]\u001b[0m Epoch 237 (global_step 51843) finished, time:6.73 seconds.\n",
      "\u001b[32m[1021 23:59:26 @saver.py:79]\u001b[0m Model saved to ../output/Chicago/DATWGAN_22/model\\model-51843.\n",
      "\u001b[32m[1021 23:59:26 @monitor.py:467]\u001b[0m GAN_loss/d_loss: -0.041189\n",
      "\u001b[32m[1021 23:59:26 @monitor.py:467]\u001b[0m GAN_loss/g_loss: 1.831\n",
      "\u001b[32m[1021 23:59:26 @monitor.py:467]\u001b[0m GAN_loss/gradient_penalty: 0.0064969\n",
      "\u001b[32m[1021 23:59:26 @monitor.py:467]\u001b[0m GAN_loss/gradient_rms: 0.99849\n",
      "\u001b[32m[1021 23:59:26 @monitor.py:467]\u001b[0m GAN_loss/kl_div: 0.071762\n",
      "\u001b[32m[1021 23:59:26 @monitor.py:467]\u001b[0m QueueInput/queue_size: 50\n",
      "\u001b[32m[1021 23:59:26 @base.py:275]\u001b[0m Start Epoch 238 ...\n"
     ]
    },
    {
     "name": "stderr",
     "output_type": "stream",
     "text": [
      "\n",
      "100%|###################################################################################|175/175[00:06<00:00,25.16it/s]"
     ]
    },
    {
     "name": "stdout",
     "output_type": "stream",
     "text": [
      "\u001b[32m[1021 23:59:33 @base.py:285]\u001b[0m Epoch 238 (global_step 52062) finished, time:6.95 seconds.\n"
     ]
    },
    {
     "name": "stderr",
     "output_type": "stream",
     "text": [
      "\n"
     ]
    },
    {
     "name": "stdout",
     "output_type": "stream",
     "text": [
      "\u001b[32m[1021 23:59:33 @saver.py:79]\u001b[0m Model saved to ../output/Chicago/DATWGAN_22/model\\model-52062.\n",
      "\u001b[32m[1021 23:59:33 @monitor.py:467]\u001b[0m GAN_loss/d_loss: -0.046399\n",
      "\u001b[32m[1021 23:59:33 @monitor.py:467]\u001b[0m GAN_loss/g_loss: 1.8587\n",
      "\u001b[32m[1021 23:59:33 @monitor.py:467]\u001b[0m GAN_loss/gradient_penalty: 0.0066438\n",
      "\u001b[32m[1021 23:59:33 @monitor.py:467]\u001b[0m GAN_loss/gradient_rms: 0.99876\n",
      "\u001b[32m[1021 23:59:33 @monitor.py:467]\u001b[0m GAN_loss/kl_div: 0.069385\n",
      "\u001b[32m[1021 23:59:33 @monitor.py:467]\u001b[0m QueueInput/queue_size: 50\n",
      "\u001b[32m[1021 23:59:33 @base.py:275]\u001b[0m Start Epoch 239 ...\n"
     ]
    },
    {
     "name": "stderr",
     "output_type": "stream",
     "text": [
      "100%|###################################################################################|175/175[00:06<00:00,25.80it/s]"
     ]
    },
    {
     "name": "stdout",
     "output_type": "stream",
     "text": [
      "\u001b[32m[1021 23:59:40 @base.py:285]\u001b[0m Epoch 239 (global_step 52281) finished, time:6.78 seconds.\n",
      "\u001b[32m[1021 23:59:40 @saver.py:79]\u001b[0m Model saved to ../output/Chicago/DATWGAN_22/model\\model-52281.\n",
      "\u001b[32m[1021 23:59:40 @monitor.py:467]\u001b[0m GAN_loss/d_loss: -0.046207\n",
      "\u001b[32m[1021 23:59:40 @monitor.py:467]\u001b[0m GAN_loss/g_loss: 1.8413\n",
      "\u001b[32m[1021 23:59:40 @monitor.py:467]\u001b[0m GAN_loss/gradient_penalty: 0.0065997\n",
      "\u001b[32m[1021 23:59:40 @monitor.py:467]\u001b[0m GAN_loss/gradient_rms: 1.0003\n",
      "\u001b[32m[1021 23:59:40 @monitor.py:467]\u001b[0m GAN_loss/kl_div: 0.067189\n",
      "\u001b[32m[1021 23:59:40 @monitor.py:467]\u001b[0m QueueInput/queue_size: 50\n",
      "\u001b[32m[1021 23:59:40 @base.py:275]\u001b[0m Start Epoch 240 ...\n"
     ]
    },
    {
     "name": "stderr",
     "output_type": "stream",
     "text": [
      "\n",
      "100%|###################################################################################|175/175[00:06<00:00,26.47it/s]"
     ]
    },
    {
     "name": "stdout",
     "output_type": "stream",
     "text": [
      "\u001b[32m[1021 23:59:46 @base.py:285]\u001b[0m Epoch 240 (global_step 52499) finished, time:6.61 seconds.\n",
      "\u001b[32m[1021 23:59:46 @saver.py:79]\u001b[0m Model saved to ../output/Chicago/DATWGAN_22/model\\model-52499.\n",
      "\u001b[32m[1021 23:59:46 @monitor.py:467]\u001b[0m GAN_loss/d_loss: -0.042636\n",
      "\u001b[32m[1021 23:59:46 @monitor.py:467]\u001b[0m GAN_loss/g_loss: 1.9217\n",
      "\u001b[32m[1021 23:59:46 @monitor.py:467]\u001b[0m GAN_loss/gradient_penalty: 0.0065402\n",
      "\u001b[32m[1021 23:59:46 @monitor.py:467]\u001b[0m GAN_loss/gradient_rms: 0.99775\n",
      "\u001b[32m[1021 23:59:46 @monitor.py:467]\u001b[0m GAN_loss/kl_div: 0.076582\n",
      "\u001b[32m[1021 23:59:46 @monitor.py:467]\u001b[0m QueueInput/queue_size: 50\n",
      "\u001b[32m[1021 23:59:46 @base.py:275]\u001b[0m Start Epoch 241 ...\n"
     ]
    },
    {
     "name": "stderr",
     "output_type": "stream",
     "text": [
      "\n",
      "100%|###################################################################################|175/175[00:06<00:00,25.74it/s]"
     ]
    },
    {
     "name": "stdout",
     "output_type": "stream",
     "text": [
      "\u001b[32m[1021 23:59:53 @base.py:285]\u001b[0m Epoch 241 (global_step 52718) finished, time:6.8 seconds.\n",
      "\u001b[32m[1021 23:59:53 @saver.py:79]\u001b[0m Model saved to ../output/Chicago/DATWGAN_22/model\\model-52718.\n",
      "\u001b[32m[1021 23:59:53 @monitor.py:467]\u001b[0m GAN_loss/d_loss: -0.043093\n",
      "\u001b[32m[1021 23:59:53 @monitor.py:467]\u001b[0m GAN_loss/g_loss: 1.896\n",
      "\u001b[32m[1021 23:59:53 @monitor.py:467]\u001b[0m GAN_loss/gradient_penalty: 0.0065459\n",
      "\u001b[32m[1021 23:59:53 @monitor.py:467]\u001b[0m GAN_loss/gradient_rms: 0.99887\n",
      "\u001b[32m[1021 23:59:53 @monitor.py:467]\u001b[0m GAN_loss/kl_div: 0.07131\n",
      "\u001b[32m[1021 23:59:53 @monitor.py:467]\u001b[0m QueueInput/queue_size: 50\n",
      "\u001b[32m[1021 23:59:53 @base.py:275]\u001b[0m Start Epoch 242 ...\n"
     ]
    },
    {
     "name": "stderr",
     "output_type": "stream",
     "text": [
      "\n",
      "100%|###################################################################################|175/175[00:06<00:00,25.35it/s]"
     ]
    },
    {
     "name": "stdout",
     "output_type": "stream",
     "text": [
      "\u001b[32m[1022 00:00:00 @base.py:285]\u001b[0m Epoch 242 (global_step 52937) finished, time:6.9 seconds.\n",
      "\u001b[32m[1022 00:00:00 @saver.py:79]\u001b[0m Model saved to ../output/Chicago/DATWGAN_22/model\\model-52937.\n",
      "\u001b[32m[1022 00:00:00 @monitor.py:467]\u001b[0m GAN_loss/d_loss: -0.047917\n",
      "\u001b[32m[1022 00:00:00 @monitor.py:467]\u001b[0m GAN_loss/g_loss: 1.8807\n",
      "\u001b[32m[1022 00:00:00 @monitor.py:467]\u001b[0m GAN_loss/gradient_penalty: 0.0066786\n",
      "\u001b[32m[1022 00:00:00 @monitor.py:467]\u001b[0m GAN_loss/gradient_rms: 0.99829\n",
      "\u001b[32m[1022 00:00:00 @monitor.py:467]\u001b[0m GAN_loss/kl_div: 0.074969\n",
      "\u001b[32m[1022 00:00:00 @monitor.py:467]\u001b[0m QueueInput/queue_size: 50\n",
      "\u001b[32m[1022 00:00:00 @base.py:275]\u001b[0m Start Epoch 243 ...\n"
     ]
    },
    {
     "name": "stderr",
     "output_type": "stream",
     "text": [
      "\n",
      "100%|###################################################################################|175/175[00:06<00:00,25.52it/s]"
     ]
    },
    {
     "name": "stdout",
     "output_type": "stream",
     "text": [
      "\u001b[32m[1022 00:00:07 @base.py:285]\u001b[0m Epoch 243 (global_step 53156) finished, time:6.86 seconds.\n",
      "\u001b[32m[1022 00:00:07 @saver.py:79]\u001b[0m Model saved to ../output/Chicago/DATWGAN_22/model\\model-53156.\n",
      "\u001b[32m[1022 00:00:07 @monitor.py:467]\u001b[0m GAN_loss/d_loss: -0.047124\n",
      "\u001b[32m[1022 00:00:07 @monitor.py:467]\u001b[0m GAN_loss/g_loss: 1.8619\n",
      "\u001b[32m[1022 00:00:07 @monitor.py:467]\u001b[0m GAN_loss/gradient_penalty: 0.0067172\n",
      "\u001b[32m[1022 00:00:07 @monitor.py:467]\u001b[0m GAN_loss/gradient_rms: 1.0007\n",
      "\u001b[32m[1022 00:00:07 @monitor.py:467]\u001b[0m GAN_loss/kl_div: 0.065921\n",
      "\u001b[32m[1022 00:00:07 @monitor.py:467]\u001b[0m QueueInput/queue_size: 50\n",
      "\u001b[32m[1022 00:00:07 @base.py:275]\u001b[0m Start Epoch 244 ...\n"
     ]
    },
    {
     "name": "stderr",
     "output_type": "stream",
     "text": [
      "\n",
      "100%|###################################################################################|175/175[00:06<00:00,26.43it/s]"
     ]
    },
    {
     "name": "stdout",
     "output_type": "stream",
     "text": [
      "\u001b[32m[1022 00:00:14 @base.py:285]\u001b[0m Epoch 244 (global_step 53374) finished, time:6.62 seconds.\n",
      "\u001b[32m[1022 00:00:14 @saver.py:79]\u001b[0m Model saved to ../output/Chicago/DATWGAN_22/model\\model-53374.\n",
      "\u001b[32m[1022 00:00:14 @monitor.py:467]\u001b[0m GAN_loss/d_loss: -0.048998\n",
      "\u001b[32m[1022 00:00:14 @monitor.py:467]\u001b[0m GAN_loss/g_loss: 1.854\n",
      "\u001b[32m[1022 00:00:14 @monitor.py:467]\u001b[0m GAN_loss/gradient_penalty: 0.0066018\n",
      "\u001b[32m[1022 00:00:14 @monitor.py:467]\u001b[0m GAN_loss/gradient_rms: 0.99848\n",
      "\u001b[32m[1022 00:00:14 @monitor.py:467]\u001b[0m GAN_loss/kl_div: 0.071128\n",
      "\u001b[32m[1022 00:00:14 @monitor.py:467]\u001b[0m QueueInput/queue_size: 50\n",
      "\u001b[32m[1022 00:00:14 @base.py:275]\u001b[0m Start Epoch 245 ...\n"
     ]
    },
    {
     "name": "stderr",
     "output_type": "stream",
     "text": [
      "\n",
      "100%|###################################################################################|175/175[00:06<00:00,25.55it/s]"
     ]
    },
    {
     "name": "stdout",
     "output_type": "stream",
     "text": [
      "\u001b[32m[1022 00:00:21 @base.py:285]\u001b[0m Epoch 245 (global_step 53593) finished, time:6.85 seconds.\n",
      "\u001b[32m[1022 00:00:21 @saver.py:79]\u001b[0m Model saved to ../output/Chicago/DATWGAN_22/model\\model-53593.\n",
      "\u001b[32m[1022 00:00:21 @monitor.py:467]\u001b[0m GAN_loss/d_loss: -0.047174\n",
      "\u001b[32m[1022 00:00:21 @monitor.py:467]\u001b[0m GAN_loss/g_loss: 1.8456\n",
      "\u001b[32m[1022 00:00:21 @monitor.py:467]\u001b[0m GAN_loss/gradient_penalty: 0.0064871\n",
      "\u001b[32m[1022 00:00:21 @monitor.py:467]\u001b[0m GAN_loss/gradient_rms: 1.0003\n",
      "\u001b[32m[1022 00:00:21 @monitor.py:467]\u001b[0m GAN_loss/kl_div: 0.071764\n",
      "\u001b[32m[1022 00:00:21 @monitor.py:467]\u001b[0m QueueInput/queue_size: 50\n",
      "\u001b[32m[1022 00:00:21 @base.py:275]\u001b[0m Start Epoch 246 ...\n"
     ]
    },
    {
     "name": "stderr",
     "output_type": "stream",
     "text": [
      "\n",
      "100%|###################################################################################|175/175[00:06<00:00,26.38it/s]"
     ]
    },
    {
     "name": "stdout",
     "output_type": "stream",
     "text": [
      "\u001b[32m[1022 00:00:28 @base.py:285]\u001b[0m Epoch 246 (global_step 53812) finished, time:6.63 seconds.\n",
      "\u001b[32m[1022 00:00:28 @saver.py:79]\u001b[0m Model saved to ../output/Chicago/DATWGAN_22/model\\model-53812.\n",
      "\u001b[32m[1022 00:00:28 @monitor.py:467]\u001b[0m GAN_loss/d_loss: -0.053356\n",
      "\u001b[32m[1022 00:00:28 @monitor.py:467]\u001b[0m GAN_loss/g_loss: 1.8479\n",
      "\u001b[32m[1022 00:00:28 @monitor.py:467]\u001b[0m GAN_loss/gradient_penalty: 0.006608\n",
      "\u001b[32m[1022 00:00:28 @monitor.py:467]\u001b[0m GAN_loss/gradient_rms: 0.99854\n",
      "\u001b[32m[1022 00:00:28 @monitor.py:467]\u001b[0m GAN_loss/kl_div: 0.069944\n",
      "\u001b[32m[1022 00:00:28 @monitor.py:467]\u001b[0m QueueInput/queue_size: 50\n",
      "\u001b[32m[1022 00:00:28 @base.py:275]\u001b[0m Start Epoch 247 ...\n"
     ]
    },
    {
     "name": "stderr",
     "output_type": "stream",
     "text": [
      "\n",
      "100%|###################################################################################|175/175[00:06<00:00,25.79it/s]"
     ]
    },
    {
     "name": "stdout",
     "output_type": "stream",
     "text": [
      "\u001b[32m[1022 00:00:35 @base.py:285]\u001b[0m Epoch 247 (global_step 54031) finished, time:6.79 seconds.\n",
      "\u001b[32m[1022 00:00:35 @saver.py:79]\u001b[0m Model saved to ../output/Chicago/DATWGAN_22/model\\model-54031.\n",
      "\u001b[32m[1022 00:00:35 @monitor.py:467]\u001b[0m GAN_loss/d_loss: -0.047774\n",
      "\u001b[32m[1022 00:00:35 @monitor.py:467]\u001b[0m GAN_loss/g_loss: 1.8578\n",
      "\u001b[32m[1022 00:00:35 @monitor.py:467]\u001b[0m GAN_loss/gradient_penalty: 0.0064618\n",
      "\u001b[32m[1022 00:00:35 @monitor.py:467]\u001b[0m GAN_loss/gradient_rms: 1.0009\n",
      "\u001b[32m[1022 00:00:35 @monitor.py:467]\u001b[0m GAN_loss/kl_div: 0.068821\n",
      "\u001b[32m[1022 00:00:35 @monitor.py:467]\u001b[0m QueueInput/queue_size: 50\n",
      "\u001b[32m[1022 00:00:35 @base.py:275]\u001b[0m Start Epoch 248 ...\n"
     ]
    },
    {
     "name": "stderr",
     "output_type": "stream",
     "text": [
      "\n",
      "100%|###################################################################################|175/175[00:06<00:00,26.48it/s]"
     ]
    },
    {
     "name": "stdout",
     "output_type": "stream",
     "text": [
      "\u001b[32m[1022 00:00:41 @base.py:285]\u001b[0m Epoch 248 (global_step 54249) finished, time:6.61 seconds.\n",
      "\u001b[32m[1022 00:00:41 @saver.py:79]\u001b[0m Model saved to ../output/Chicago/DATWGAN_22/model\\model-54249.\n",
      "\u001b[32m[1022 00:00:41 @monitor.py:467]\u001b[0m GAN_loss/d_loss: -0.048859\n",
      "\u001b[32m[1022 00:00:41 @monitor.py:467]\u001b[0m GAN_loss/g_loss: 1.8655\n",
      "\u001b[32m[1022 00:00:41 @monitor.py:467]\u001b[0m GAN_loss/gradient_penalty: 0.0063506\n",
      "\u001b[32m[1022 00:00:41 @monitor.py:467]\u001b[0m GAN_loss/gradient_rms: 0.99842\n",
      "\u001b[32m[1022 00:00:41 @monitor.py:467]\u001b[0m GAN_loss/kl_div: 0.064549\n",
      "\u001b[32m[1022 00:00:41 @monitor.py:467]\u001b[0m QueueInput/queue_size: 50\n",
      "\u001b[32m[1022 00:00:41 @base.py:275]\u001b[0m Start Epoch 249 ...\n"
     ]
    },
    {
     "name": "stderr",
     "output_type": "stream",
     "text": [
      "\n",
      "100%|###################################################################################|175/175[00:06<00:00,26.27it/s]"
     ]
    },
    {
     "name": "stdout",
     "output_type": "stream",
     "text": [
      "\u001b[32m[1022 00:00:48 @base.py:285]\u001b[0m Epoch 249 (global_step 54468) finished, time:6.66 seconds.\n",
      "\u001b[32m[1022 00:00:48 @saver.py:79]\u001b[0m Model saved to ../output/Chicago/DATWGAN_22/model\\model-54468.\n",
      "\u001b[32m[1022 00:00:48 @monitor.py:467]\u001b[0m GAN_loss/d_loss: -0.052739\n",
      "\u001b[32m[1022 00:00:48 @monitor.py:467]\u001b[0m GAN_loss/g_loss: 1.8609\n",
      "\u001b[32m[1022 00:00:48 @monitor.py:467]\u001b[0m GAN_loss/gradient_penalty: 0.0065073\n",
      "\u001b[32m[1022 00:00:48 @monitor.py:467]\u001b[0m GAN_loss/gradient_rms: 0.99968\n",
      "\u001b[32m[1022 00:00:48 @monitor.py:467]\u001b[0m GAN_loss/kl_div: 0.072422\n",
      "\u001b[32m[1022 00:00:48 @monitor.py:467]\u001b[0m QueueInput/queue_size: 50\n",
      "\u001b[32m[1022 00:00:48 @base.py:275]\u001b[0m Start Epoch 250 ...\n"
     ]
    },
    {
     "name": "stderr",
     "output_type": "stream",
     "text": [
      "\n",
      "100%|###################################################################################|175/175[00:06<00:00,26.59it/s]"
     ]
    },
    {
     "name": "stdout",
     "output_type": "stream",
     "text": [
      "\u001b[32m[1022 00:00:55 @base.py:285]\u001b[0m Epoch 250 (global_step 54687) finished, time:6.58 seconds.\n",
      "\u001b[32m[1022 00:00:55 @saver.py:79]\u001b[0m Model saved to ../output/Chicago/DATWGAN_22/model\\model-54687.\n",
      "\u001b[32m[1022 00:00:55 @monitor.py:467]\u001b[0m GAN_loss/d_loss: -0.057922\n",
      "\u001b[32m[1022 00:00:55 @monitor.py:467]\u001b[0m GAN_loss/g_loss: 1.8339\n",
      "\u001b[32m[1022 00:00:55 @monitor.py:467]\u001b[0m GAN_loss/gradient_penalty: 0.0065953\n",
      "\u001b[32m[1022 00:00:55 @monitor.py:467]\u001b[0m GAN_loss/gradient_rms: 0.99899\n",
      "\u001b[32m[1022 00:00:55 @monitor.py:467]\u001b[0m GAN_loss/kl_div: 0.073044\n",
      "\u001b[32m[1022 00:00:55 @monitor.py:467]\u001b[0m QueueInput/queue_size: 50\n",
      "\u001b[32m[1022 00:00:55 @base.py:275]\u001b[0m Start Epoch 251 ...\n"
     ]
    },
    {
     "name": "stderr",
     "output_type": "stream",
     "text": [
      "\n",
      "100%|###################################################################################|175/175[00:06<00:00,26.36it/s]"
     ]
    },
    {
     "name": "stdout",
     "output_type": "stream",
     "text": [
      "\u001b[32m[1022 00:01:02 @base.py:285]\u001b[0m Epoch 251 (global_step 54906) finished, time:6.64 seconds.\n",
      "\u001b[32m[1022 00:01:02 @saver.py:79]\u001b[0m Model saved to ../output/Chicago/DATWGAN_22/model\\model-54906.\n",
      "\u001b[32m[1022 00:01:02 @monitor.py:467]\u001b[0m GAN_loss/d_loss: -0.059001\n",
      "\u001b[32m[1022 00:01:02 @monitor.py:467]\u001b[0m GAN_loss/g_loss: 1.8288\n",
      "\u001b[32m[1022 00:01:02 @monitor.py:467]\u001b[0m GAN_loss/gradient_penalty: 0.0063998\n",
      "\u001b[32m[1022 00:01:02 @monitor.py:467]\u001b[0m GAN_loss/gradient_rms: 0.99926\n",
      "\u001b[32m[1022 00:01:02 @monitor.py:467]\u001b[0m GAN_loss/kl_div: 0.069194\n",
      "\u001b[32m[1022 00:01:02 @monitor.py:467]\u001b[0m QueueInput/queue_size: 50\n",
      "\u001b[32m[1022 00:01:02 @base.py:275]\u001b[0m Start Epoch 252 ...\n"
     ]
    },
    {
     "name": "stderr",
     "output_type": "stream",
     "text": [
      "\n",
      "100%|###################################################################################|175/175[00:06<00:00,25.17it/s]"
     ]
    },
    {
     "name": "stdout",
     "output_type": "stream",
     "text": [
      "\u001b[32m[1022 00:01:09 @base.py:285]\u001b[0m Epoch 252 (global_step 55124) finished, time:6.95 seconds.\n",
      "\u001b[32m[1022 00:01:09 @saver.py:79]\u001b[0m Model saved to ../output/Chicago/DATWGAN_22/model\\model-55124.\n",
      "\u001b[32m[1022 00:01:09 @monitor.py:467]\u001b[0m GAN_loss/d_loss: -0.05809\n",
      "\u001b[32m[1022 00:01:09 @monitor.py:467]\u001b[0m GAN_loss/g_loss: 1.7923\n",
      "\u001b[32m[1022 00:01:09 @monitor.py:467]\u001b[0m GAN_loss/gradient_penalty: 0.0067823\n",
      "\u001b[32m[1022 00:01:09 @monitor.py:467]\u001b[0m GAN_loss/gradient_rms: 0.9996\n",
      "\u001b[32m[1022 00:01:09 @monitor.py:467]\u001b[0m GAN_loss/kl_div: 0.066573\n",
      "\u001b[32m[1022 00:01:09 @monitor.py:467]\u001b[0m QueueInput/queue_size: 50\n",
      "\u001b[32m[1022 00:01:09 @base.py:275]\u001b[0m Start Epoch 253 ...\n"
     ]
    },
    {
     "name": "stderr",
     "output_type": "stream",
     "text": [
      "\n",
      "100%|###################################################################################|175/175[00:06<00:00,26.18it/s]"
     ]
    },
    {
     "name": "stdout",
     "output_type": "stream",
     "text": [
      "\u001b[32m[1022 00:01:15 @base.py:285]\u001b[0m Epoch 253 (global_step 55343) finished, time:6.69 seconds.\n",
      "\u001b[32m[1022 00:01:16 @saver.py:79]\u001b[0m Model saved to ../output/Chicago/DATWGAN_22/model\\model-55343.\n",
      "\u001b[32m[1022 00:01:16 @monitor.py:467]\u001b[0m GAN_loss/d_loss: -0.053588\n",
      "\u001b[32m[1022 00:01:16 @monitor.py:467]\u001b[0m GAN_loss/g_loss: 1.8078\n",
      "\u001b[32m[1022 00:01:16 @monitor.py:467]\u001b[0m GAN_loss/gradient_penalty: 0.0065374\n",
      "\u001b[32m[1022 00:01:16 @monitor.py:467]\u001b[0m GAN_loss/gradient_rms: 0.99772\n",
      "\u001b[32m[1022 00:01:16 @monitor.py:467]\u001b[0m GAN_loss/kl_div: 0.072837\n",
      "\u001b[32m[1022 00:01:16 @monitor.py:467]\u001b[0m QueueInput/queue_size: 50\n",
      "\u001b[32m[1022 00:01:16 @base.py:275]\u001b[0m Start Epoch 254 ...\n"
     ]
    },
    {
     "name": "stderr",
     "output_type": "stream",
     "text": [
      "\n",
      "100%|###################################################################################|175/175[00:06<00:00,26.60it/s]"
     ]
    },
    {
     "name": "stdout",
     "output_type": "stream",
     "text": [
      "\u001b[32m[1022 00:01:22 @base.py:285]\u001b[0m Epoch 254 (global_step 55562) finished, time:6.58 seconds.\n",
      "\u001b[32m[1022 00:01:22 @saver.py:79]\u001b[0m Model saved to ../output/Chicago/DATWGAN_22/model\\model-55562.\n",
      "\u001b[32m[1022 00:01:22 @monitor.py:467]\u001b[0m GAN_loss/d_loss: -0.053541\n",
      "\u001b[32m[1022 00:01:22 @monitor.py:467]\u001b[0m GAN_loss/g_loss: 1.764\n",
      "\u001b[32m[1022 00:01:22 @monitor.py:467]\u001b[0m GAN_loss/gradient_penalty: 0.0066973\n",
      "\u001b[32m[1022 00:01:22 @monitor.py:467]\u001b[0m GAN_loss/gradient_rms: 1.001\n",
      "\u001b[32m[1022 00:01:22 @monitor.py:467]\u001b[0m GAN_loss/kl_div: 0.066948\n",
      "\u001b[32m[1022 00:01:22 @monitor.py:467]\u001b[0m QueueInput/queue_size: 50\n",
      "\u001b[32m[1022 00:01:22 @base.py:275]\u001b[0m Start Epoch 255 ...\n"
     ]
    },
    {
     "name": "stderr",
     "output_type": "stream",
     "text": [
      "\n",
      "100%|###################################################################################|175/175[00:06<00:00,26.53it/s]"
     ]
    },
    {
     "name": "stdout",
     "output_type": "stream",
     "text": [
      "\u001b[32m[1022 00:01:29 @base.py:285]\u001b[0m Epoch 255 (global_step 55781) finished, time:6.6 seconds.\n",
      "\u001b[32m[1022 00:01:29 @saver.py:79]\u001b[0m Model saved to ../output/Chicago/DATWGAN_22/model\\model-55781.\n",
      "\u001b[32m[1022 00:01:29 @monitor.py:467]\u001b[0m GAN_loss/d_loss: -0.052757\n",
      "\u001b[32m[1022 00:01:29 @monitor.py:467]\u001b[0m GAN_loss/g_loss: 1.77\n",
      "\u001b[32m[1022 00:01:29 @monitor.py:467]\u001b[0m GAN_loss/gradient_penalty: 0.0065753\n",
      "\u001b[32m[1022 00:01:29 @monitor.py:467]\u001b[0m GAN_loss/gradient_rms: 0.9992\n",
      "\u001b[32m[1022 00:01:29 @monitor.py:467]\u001b[0m GAN_loss/kl_div: 0.071986\n",
      "\u001b[32m[1022 00:01:29 @monitor.py:467]\u001b[0m QueueInput/queue_size: 50\n",
      "\u001b[32m[1022 00:01:29 @base.py:275]\u001b[0m Start Epoch 256 ...\n"
     ]
    },
    {
     "name": "stderr",
     "output_type": "stream",
     "text": [
      "\n",
      "100%|###################################################################################|175/175[00:06<00:00,25.78it/s]"
     ]
    },
    {
     "name": "stdout",
     "output_type": "stream",
     "text": [
      "\u001b[32m[1022 00:01:36 @base.py:285]\u001b[0m Epoch 256 (global_step 55999) finished, time:6.79 seconds.\n",
      "\u001b[32m[1022 00:01:36 @saver.py:79]\u001b[0m Model saved to ../output/Chicago/DATWGAN_22/model\\model-55999.\n",
      "\u001b[32m[1022 00:01:36 @monitor.py:467]\u001b[0m GAN_loss/d_loss: -0.051195\n",
      "\u001b[32m[1022 00:01:36 @monitor.py:467]\u001b[0m GAN_loss/g_loss: 1.8038\n",
      "\u001b[32m[1022 00:01:36 @monitor.py:467]\u001b[0m GAN_loss/gradient_penalty: 0.0067335\n",
      "\u001b[32m[1022 00:01:36 @monitor.py:467]\u001b[0m GAN_loss/gradient_rms: 0.99754\n",
      "\u001b[32m[1022 00:01:36 @monitor.py:467]\u001b[0m GAN_loss/kl_div: 0.06817\n",
      "\u001b[32m[1022 00:01:36 @monitor.py:467]\u001b[0m QueueInput/queue_size: 50\n",
      "\u001b[32m[1022 00:01:36 @base.py:275]\u001b[0m Start Epoch 257 ...\n"
     ]
    },
    {
     "name": "stderr",
     "output_type": "stream",
     "text": [
      "\n",
      "100%|###################################################################################|175/175[00:06<00:00,26.54it/s]"
     ]
    },
    {
     "name": "stdout",
     "output_type": "stream",
     "text": [
      "\u001b[32m[1022 00:01:43 @base.py:285]\u001b[0m Epoch 257 (global_step 56218) finished, time:6.6 seconds.\n",
      "\u001b[32m[1022 00:01:43 @saver.py:79]\u001b[0m Model saved to ../output/Chicago/DATWGAN_22/model\\model-56218.\n",
      "\u001b[32m[1022 00:01:43 @monitor.py:467]\u001b[0m GAN_loss/d_loss: -0.061594\n",
      "\u001b[32m[1022 00:01:43 @monitor.py:467]\u001b[0m GAN_loss/g_loss: 1.8228\n",
      "\u001b[32m[1022 00:01:43 @monitor.py:467]\u001b[0m GAN_loss/gradient_penalty: 0.0068895\n",
      "\u001b[32m[1022 00:01:43 @monitor.py:467]\u001b[0m GAN_loss/gradient_rms: 0.99935\n",
      "\u001b[32m[1022 00:01:43 @monitor.py:467]\u001b[0m GAN_loss/kl_div: 0.073388\n",
      "\u001b[32m[1022 00:01:43 @monitor.py:467]\u001b[0m QueueInput/queue_size: 50\n",
      "\u001b[32m[1022 00:01:43 @base.py:275]\u001b[0m Start Epoch 258 ...\n"
     ]
    },
    {
     "name": "stderr",
     "output_type": "stream",
     "text": [
      "\n",
      "100%|###################################################################################|175/175[00:06<00:00,26.40it/s]"
     ]
    },
    {
     "name": "stdout",
     "output_type": "stream",
     "text": [
      "\u001b[32m[1022 00:01:49 @base.py:285]\u001b[0m Epoch 258 (global_step 56437) finished, time:6.63 seconds.\n",
      "\u001b[32m[1022 00:01:49 @saver.py:79]\u001b[0m Model saved to ../output/Chicago/DATWGAN_22/model\\model-56437.\n",
      "\u001b[32m[1022 00:01:49 @monitor.py:467]\u001b[0m GAN_loss/d_loss: -0.050159\n",
      "\u001b[32m[1022 00:01:49 @monitor.py:467]\u001b[0m GAN_loss/g_loss: 1.8554\n",
      "\u001b[32m[1022 00:01:49 @monitor.py:467]\u001b[0m GAN_loss/gradient_penalty: 0.0065979\n",
      "\u001b[32m[1022 00:01:49 @monitor.py:467]\u001b[0m GAN_loss/gradient_rms: 0.99985\n",
      "\u001b[32m[1022 00:01:49 @monitor.py:467]\u001b[0m GAN_loss/kl_div: 0.066812\n",
      "\u001b[32m[1022 00:01:49 @monitor.py:467]\u001b[0m QueueInput/queue_size: 50\n",
      "\u001b[32m[1022 00:01:49 @base.py:275]\u001b[0m Start Epoch 259 ...\n"
     ]
    },
    {
     "name": "stderr",
     "output_type": "stream",
     "text": [
      "\n",
      "100%|###################################################################################|175/175[00:06<00:00,26.64it/s]"
     ]
    },
    {
     "name": "stdout",
     "output_type": "stream",
     "text": [
      "\u001b[32m[1022 00:01:56 @base.py:285]\u001b[0m Epoch 259 (global_step 56656) finished, time:6.57 seconds.\n",
      "\u001b[32m[1022 00:01:56 @saver.py:79]\u001b[0m Model saved to ../output/Chicago/DATWGAN_22/model\\model-56656.\n",
      "\u001b[32m[1022 00:01:56 @monitor.py:467]\u001b[0m GAN_loss/d_loss: -0.064366\n",
      "\u001b[32m[1022 00:01:56 @monitor.py:467]\u001b[0m GAN_loss/g_loss: 1.8591\n",
      "\u001b[32m[1022 00:01:56 @monitor.py:467]\u001b[0m GAN_loss/gradient_penalty: 0.0068029\n",
      "\u001b[32m[1022 00:01:56 @monitor.py:467]\u001b[0m GAN_loss/gradient_rms: 0.99929\n",
      "\u001b[32m[1022 00:01:56 @monitor.py:467]\u001b[0m GAN_loss/kl_div: 0.070456\n",
      "\u001b[32m[1022 00:01:56 @monitor.py:467]\u001b[0m QueueInput/queue_size: 50\n",
      "\u001b[32m[1022 00:01:56 @base.py:275]\u001b[0m Start Epoch 260 ...\n"
     ]
    },
    {
     "name": "stderr",
     "output_type": "stream",
     "text": [
      "\n",
      "100%|###################################################################################|175/175[00:06<00:00,25.57it/s]"
     ]
    },
    {
     "name": "stdout",
     "output_type": "stream",
     "text": [
      "\u001b[32m[1022 00:02:03 @base.py:285]\u001b[0m Epoch 260 (global_step 56874) finished, time:6.84 seconds.\n",
      "\u001b[32m[1022 00:02:03 @saver.py:79]\u001b[0m Model saved to ../output/Chicago/DATWGAN_22/model\\model-56874.\n",
      "\u001b[32m[1022 00:02:03 @monitor.py:467]\u001b[0m GAN_loss/d_loss: -0.053981\n",
      "\u001b[32m[1022 00:02:03 @monitor.py:467]\u001b[0m GAN_loss/g_loss: 1.8554\n",
      "\u001b[32m[1022 00:02:03 @monitor.py:467]\u001b[0m GAN_loss/gradient_penalty: 0.0065028\n",
      "\u001b[32m[1022 00:02:03 @monitor.py:467]\u001b[0m GAN_loss/gradient_rms: 1.0005\n",
      "\u001b[32m[1022 00:02:03 @monitor.py:467]\u001b[0m GAN_loss/kl_div: 0.063105\n",
      "\u001b[32m[1022 00:02:03 @monitor.py:467]\u001b[0m QueueInput/queue_size: 50\n",
      "\u001b[32m[1022 00:02:03 @base.py:275]\u001b[0m Start Epoch 261 ...\n"
     ]
    },
    {
     "name": "stderr",
     "output_type": "stream",
     "text": [
      "\n",
      "100%|###################################################################################|175/175[00:06<00:00,26.23it/s]"
     ]
    },
    {
     "name": "stdout",
     "output_type": "stream",
     "text": [
      "\u001b[32m[1022 00:02:10 @base.py:285]\u001b[0m Epoch 261 (global_step 57093) finished, time:6.67 seconds.\n",
      "\u001b[32m[1022 00:02:10 @saver.py:79]\u001b[0m Model saved to ../output/Chicago/DATWGAN_22/model\\model-57093.\n",
      "\u001b[32m[1022 00:02:10 @monitor.py:467]\u001b[0m GAN_loss/d_loss: -0.050108\n",
      "\u001b[32m[1022 00:02:10 @monitor.py:467]\u001b[0m GAN_loss/g_loss: 1.8845\n",
      "\u001b[32m[1022 00:02:10 @monitor.py:467]\u001b[0m GAN_loss/gradient_penalty: 0.0063618\n",
      "\u001b[32m[1022 00:02:10 @monitor.py:467]\u001b[0m GAN_loss/gradient_rms: 0.99812\n",
      "\u001b[32m[1022 00:02:10 @monitor.py:467]\u001b[0m GAN_loss/kl_div: 0.069645\n",
      "\u001b[32m[1022 00:02:10 @monitor.py:467]\u001b[0m QueueInput/queue_size: 50\n",
      "\u001b[32m[1022 00:02:10 @base.py:275]\u001b[0m Start Epoch 262 ...\n"
     ]
    },
    {
     "name": "stderr",
     "output_type": "stream",
     "text": [
      "\n",
      "100%|###################################################################################|175/175[00:06<00:00,26.22it/s]"
     ]
    },
    {
     "name": "stdout",
     "output_type": "stream",
     "text": [
      "\u001b[32m[1022 00:02:17 @base.py:285]\u001b[0m Epoch 262 (global_step 57312) finished, time:6.67 seconds.\n",
      "\u001b[32m[1022 00:02:17 @saver.py:79]\u001b[0m Model saved to ../output/Chicago/DATWGAN_22/model\\model-57312.\n",
      "\u001b[32m[1022 00:02:17 @monitor.py:467]\u001b[0m GAN_loss/d_loss: -0.057768\n",
      "\u001b[32m[1022 00:02:17 @monitor.py:467]\u001b[0m GAN_loss/g_loss: 1.9004\n",
      "\u001b[32m[1022 00:02:17 @monitor.py:467]\u001b[0m GAN_loss/gradient_penalty: 0.0066663\n",
      "\u001b[32m[1022 00:02:17 @monitor.py:467]\u001b[0m GAN_loss/gradient_rms: 0.99872\n",
      "\u001b[32m[1022 00:02:17 @monitor.py:467]\u001b[0m GAN_loss/kl_div: 0.071438\n",
      "\u001b[32m[1022 00:02:17 @monitor.py:467]\u001b[0m QueueInput/queue_size: 50\n",
      "\u001b[32m[1022 00:02:17 @base.py:275]\u001b[0m Start Epoch 263 ...\n"
     ]
    },
    {
     "name": "stderr",
     "output_type": "stream",
     "text": [
      "\n",
      "100%|###################################################################################|175/175[00:06<00:00,26.19it/s]"
     ]
    },
    {
     "name": "stdout",
     "output_type": "stream",
     "text": [
      "\u001b[32m[1022 00:02:23 @base.py:285]\u001b[0m Epoch 263 (global_step 57531) finished, time:6.68 seconds.\n",
      "\u001b[32m[1022 00:02:23 @saver.py:79]\u001b[0m Model saved to ../output/Chicago/DATWGAN_22/model\\model-57531.\n",
      "\u001b[32m[1022 00:02:23 @monitor.py:467]\u001b[0m GAN_loss/d_loss: -0.05728\n",
      "\u001b[32m[1022 00:02:23 @monitor.py:467]\u001b[0m GAN_loss/g_loss: 1.8582\n",
      "\u001b[32m[1022 00:02:23 @monitor.py:467]\u001b[0m GAN_loss/gradient_penalty: 0.0067097\n",
      "\u001b[32m[1022 00:02:23 @monitor.py:467]\u001b[0m GAN_loss/gradient_rms: 0.99811\n",
      "\u001b[32m[1022 00:02:23 @monitor.py:467]\u001b[0m GAN_loss/kl_div: 0.065947\n",
      "\u001b[32m[1022 00:02:23 @monitor.py:467]\u001b[0m QueueInput/queue_size: 50\n",
      "\u001b[32m[1022 00:02:23 @base.py:275]\u001b[0m Start Epoch 264 ...\n"
     ]
    },
    {
     "name": "stderr",
     "output_type": "stream",
     "text": [
      "\n",
      "100%|###################################################################################|175/175[00:06<00:00,25.77it/s]"
     ]
    },
    {
     "name": "stdout",
     "output_type": "stream",
     "text": [
      "\u001b[32m[1022 00:02:30 @base.py:285]\u001b[0m Epoch 264 (global_step 57749) finished, time:6.79 seconds.\n",
      "\u001b[32m[1022 00:02:30 @saver.py:79]\u001b[0m Model saved to ../output/Chicago/DATWGAN_22/model\\model-57749.\n",
      "\u001b[32m[1022 00:02:30 @monitor.py:467]\u001b[0m GAN_loss/d_loss: -0.048101\n",
      "\u001b[32m[1022 00:02:30 @monitor.py:467]\u001b[0m GAN_loss/g_loss: 1.8404\n",
      "\u001b[32m[1022 00:02:30 @monitor.py:467]\u001b[0m GAN_loss/gradient_penalty: 0.0065412\n",
      "\u001b[32m[1022 00:02:30 @monitor.py:467]\u001b[0m GAN_loss/gradient_rms: 1.0001\n",
      "\u001b[32m[1022 00:02:30 @monitor.py:467]\u001b[0m GAN_loss/kl_div: 0.069639\n",
      "\u001b[32m[1022 00:02:30 @monitor.py:467]\u001b[0m QueueInput/queue_size: 50\n",
      "\u001b[32m[1022 00:02:30 @base.py:275]\u001b[0m Start Epoch 265 ...\n"
     ]
    },
    {
     "name": "stderr",
     "output_type": "stream",
     "text": [
      "\n",
      "100%|###################################################################################|175/175[00:06<00:00,25.27it/s]"
     ]
    },
    {
     "name": "stdout",
     "output_type": "stream",
     "text": [
      "\u001b[32m[1022 00:02:37 @base.py:285]\u001b[0m Epoch 265 (global_step 57968) finished, time:6.93 seconds.\n",
      "\u001b[32m[1022 00:02:37 @saver.py:79]\u001b[0m Model saved to ../output/Chicago/DATWGAN_22/model\\model-57968.\n"
     ]
    },
    {
     "name": "stderr",
     "output_type": "stream",
     "text": [
      "\n"
     ]
    },
    {
     "name": "stdout",
     "output_type": "stream",
     "text": [
      "\u001b[32m[1022 00:02:37 @monitor.py:467]\u001b[0m GAN_loss/d_loss: -0.052174\n",
      "\u001b[32m[1022 00:02:37 @monitor.py:467]\u001b[0m GAN_loss/g_loss: 1.8475\n",
      "\u001b[32m[1022 00:02:37 @monitor.py:467]\u001b[0m GAN_loss/gradient_penalty: 0.0064515\n",
      "\u001b[32m[1022 00:02:37 @monitor.py:467]\u001b[0m GAN_loss/gradient_rms: 0.99725\n",
      "\u001b[32m[1022 00:02:37 @monitor.py:467]\u001b[0m GAN_loss/kl_div: 0.068674\n",
      "\u001b[32m[1022 00:02:37 @monitor.py:467]\u001b[0m QueueInput/queue_size: 50\n",
      "\u001b[32m[1022 00:02:37 @base.py:275]\u001b[0m Start Epoch 266 ...\n"
     ]
    },
    {
     "name": "stderr",
     "output_type": "stream",
     "text": [
      "100%|###################################################################################|175/175[00:06<00:00,26.28it/s]"
     ]
    },
    {
     "name": "stdout",
     "output_type": "stream",
     "text": [
      "\u001b[32m[1022 00:02:44 @base.py:285]\u001b[0m Epoch 266 (global_step 58187) finished, time:6.66 seconds.\n",
      "\u001b[32m[1022 00:02:44 @saver.py:79]\u001b[0m Model saved to ../output/Chicago/DATWGAN_22/model\\model-58187.\n",
      "\u001b[32m[1022 00:02:44 @monitor.py:467]\u001b[0m GAN_loss/d_loss: -0.057346\n",
      "\u001b[32m[1022 00:02:44 @monitor.py:467]\u001b[0m GAN_loss/g_loss: 1.8727\n",
      "\u001b[32m[1022 00:02:44 @monitor.py:467]\u001b[0m GAN_loss/gradient_penalty: 0.0064871\n",
      "\u001b[32m[1022 00:02:44 @monitor.py:467]\u001b[0m GAN_loss/gradient_rms: 1.0005\n",
      "\u001b[32m[1022 00:02:44 @monitor.py:467]\u001b[0m GAN_loss/kl_div: 0.070913\n",
      "\u001b[32m[1022 00:02:44 @monitor.py:467]\u001b[0m QueueInput/queue_size: 50\n",
      "\u001b[32m[1022 00:02:44 @base.py:275]\u001b[0m Start Epoch 267 ...\n"
     ]
    },
    {
     "name": "stderr",
     "output_type": "stream",
     "text": [
      "\n",
      "100%|###################################################################################|175/175[00:06<00:00,25.76it/s]"
     ]
    },
    {
     "name": "stdout",
     "output_type": "stream",
     "text": [
      "\u001b[32m[1022 00:02:51 @base.py:285]\u001b[0m Epoch 267 (global_step 58406) finished, time:6.79 seconds.\n",
      "\u001b[32m[1022 00:02:51 @saver.py:79]\u001b[0m Model saved to ../output/Chicago/DATWGAN_22/model\\model-58406.\n"
     ]
    },
    {
     "name": "stderr",
     "output_type": "stream",
     "text": [
      "\n"
     ]
    },
    {
     "name": "stdout",
     "output_type": "stream",
     "text": [
      "\u001b[32m[1022 00:02:51 @monitor.py:467]\u001b[0m GAN_loss/d_loss: -0.052109\n",
      "\u001b[32m[1022 00:02:51 @monitor.py:467]\u001b[0m GAN_loss/g_loss: 1.8794\n",
      "\u001b[32m[1022 00:02:51 @monitor.py:467]\u001b[0m GAN_loss/gradient_penalty: 0.0063526\n",
      "\u001b[32m[1022 00:02:51 @monitor.py:467]\u001b[0m GAN_loss/gradient_rms: 0.99912\n",
      "\u001b[32m[1022 00:02:51 @monitor.py:467]\u001b[0m GAN_loss/kl_div: 0.066377\n",
      "\u001b[32m[1022 00:02:51 @monitor.py:467]\u001b[0m QueueInput/queue_size: 50\n",
      "\u001b[32m[1022 00:02:51 @base.py:275]\u001b[0m Start Epoch 268 ...\n"
     ]
    },
    {
     "name": "stderr",
     "output_type": "stream",
     "text": [
      "100%|###################################################################################|175/175[00:06<00:00,26.31it/s]"
     ]
    },
    {
     "name": "stdout",
     "output_type": "stream",
     "text": [
      "\u001b[32m[1022 00:02:58 @base.py:285]\u001b[0m Epoch 268 (global_step 58624) finished, time:6.65 seconds.\n",
      "\u001b[32m[1022 00:02:58 @saver.py:79]\u001b[0m Model saved to ../output/Chicago/DATWGAN_22/model\\model-58624.\n",
      "\u001b[32m[1022 00:02:58 @monitor.py:467]\u001b[0m GAN_loss/d_loss: -0.058971\n",
      "\u001b[32m[1022 00:02:58 @monitor.py:467]\u001b[0m GAN_loss/g_loss: 1.8551\n",
      "\u001b[32m[1022 00:02:58 @monitor.py:467]\u001b[0m GAN_loss/gradient_penalty: 0.006459\n",
      "\u001b[32m[1022 00:02:58 @monitor.py:467]\u001b[0m GAN_loss/gradient_rms: 0.99957\n",
      "\u001b[32m[1022 00:02:58 @monitor.py:467]\u001b[0m GAN_loss/kl_div: 0.065254\n",
      "\u001b[32m[1022 00:02:58 @monitor.py:467]\u001b[0m QueueInput/queue_size: 50\n",
      "\u001b[32m[1022 00:02:58 @base.py:275]\u001b[0m Start Epoch 269 ...\n"
     ]
    },
    {
     "name": "stderr",
     "output_type": "stream",
     "text": [
      "\n",
      "100%|###################################################################################|175/175[00:06<00:00,25.30it/s]"
     ]
    },
    {
     "name": "stdout",
     "output_type": "stream",
     "text": [
      "\u001b[32m[1022 00:03:05 @base.py:285]\u001b[0m Epoch 269 (global_step 58843) finished, time:6.92 seconds.\n"
     ]
    },
    {
     "name": "stderr",
     "output_type": "stream",
     "text": [
      "\n"
     ]
    },
    {
     "name": "stdout",
     "output_type": "stream",
     "text": [
      "\u001b[32m[1022 00:03:05 @saver.py:79]\u001b[0m Model saved to ../output/Chicago/DATWGAN_22/model\\model-58843.\n",
      "\u001b[32m[1022 00:03:05 @monitor.py:467]\u001b[0m GAN_loss/d_loss: -0.051001\n",
      "\u001b[32m[1022 00:03:05 @monitor.py:467]\u001b[0m GAN_loss/g_loss: 1.8624\n",
      "\u001b[32m[1022 00:03:05 @monitor.py:467]\u001b[0m GAN_loss/gradient_penalty: 0.0067348\n",
      "\u001b[32m[1022 00:03:05 @monitor.py:467]\u001b[0m GAN_loss/gradient_rms: 0.99804\n",
      "\u001b[32m[1022 00:03:05 @monitor.py:467]\u001b[0m GAN_loss/kl_div: 0.073921\n",
      "\u001b[32m[1022 00:03:05 @monitor.py:467]\u001b[0m QueueInput/queue_size: 50\n",
      "\u001b[32m[1022 00:03:05 @base.py:275]\u001b[0m Start Epoch 270 ...\n"
     ]
    },
    {
     "name": "stderr",
     "output_type": "stream",
     "text": [
      "100%|###################################################################################|175/175[00:06<00:00,26.35it/s]"
     ]
    },
    {
     "name": "stdout",
     "output_type": "stream",
     "text": [
      "\u001b[32m[1022 00:03:12 @base.py:285]\u001b[0m Epoch 270 (global_step 59062) finished, time:6.64 seconds.\n",
      "\u001b[32m[1022 00:03:12 @saver.py:79]\u001b[0m Model saved to ../output/Chicago/DATWGAN_22/model\\model-59062.\n",
      "\u001b[32m[1022 00:03:12 @monitor.py:467]\u001b[0m GAN_loss/d_loss: -0.050805\n",
      "\u001b[32m[1022 00:03:12 @monitor.py:467]\u001b[0m GAN_loss/g_loss: 1.9219\n",
      "\u001b[32m[1022 00:03:12 @monitor.py:467]\u001b[0m GAN_loss/gradient_penalty: 0.00658\n",
      "\u001b[32m[1022 00:03:12 @monitor.py:467]\u001b[0m GAN_loss/gradient_rms: 1.0016\n",
      "\u001b[32m[1022 00:03:12 @monitor.py:467]\u001b[0m GAN_loss/kl_div: 0.074296\n",
      "\u001b[32m[1022 00:03:12 @monitor.py:467]\u001b[0m QueueInput/queue_size: 50\n",
      "\u001b[32m[1022 00:03:12 @base.py:275]\u001b[0m Start Epoch 271 ...\n"
     ]
    },
    {
     "name": "stderr",
     "output_type": "stream",
     "text": [
      "\n",
      "100%|###################################################################################|175/175[00:06<00:00,27.30it/s]"
     ]
    },
    {
     "name": "stdout",
     "output_type": "stream",
     "text": [
      "\u001b[32m[1022 00:03:18 @base.py:285]\u001b[0m Epoch 271 (global_step 59281) finished, time:6.41 seconds.\n",
      "\u001b[32m[1022 00:03:18 @saver.py:79]\u001b[0m Model saved to ../output/Chicago/DATWGAN_22/model\\model-59281.\n",
      "\u001b[32m[1022 00:03:18 @monitor.py:467]\u001b[0m GAN_loss/d_loss: -0.05668\n",
      "\u001b[32m[1022 00:03:18 @monitor.py:467]\u001b[0m GAN_loss/g_loss: 1.8882\n",
      "\u001b[32m[1022 00:03:18 @monitor.py:467]\u001b[0m GAN_loss/gradient_penalty: 0.0065826\n",
      "\u001b[32m[1022 00:03:18 @monitor.py:467]\u001b[0m GAN_loss/gradient_rms: 0.9988\n",
      "\u001b[32m[1022 00:03:18 @monitor.py:467]\u001b[0m GAN_loss/kl_div: 0.068385\n",
      "\u001b[32m[1022 00:03:18 @monitor.py:467]\u001b[0m QueueInput/queue_size: 50\n",
      "\u001b[32m[1022 00:03:18 @base.py:275]\u001b[0m Start Epoch 272 ...\n"
     ]
    },
    {
     "name": "stderr",
     "output_type": "stream",
     "text": [
      "\n",
      "100%|###################################################################################|175/175[00:06<00:00,27.16it/s]"
     ]
    },
    {
     "name": "stdout",
     "output_type": "stream",
     "text": [
      "\u001b[32m[1022 00:03:25 @base.py:285]\u001b[0m Epoch 272 (global_step 59499) finished, time:6.44 seconds.\n"
     ]
    },
    {
     "name": "stderr",
     "output_type": "stream",
     "text": [
      "\n"
     ]
    },
    {
     "name": "stdout",
     "output_type": "stream",
     "text": [
      "\u001b[32m[1022 00:03:25 @saver.py:79]\u001b[0m Model saved to ../output/Chicago/DATWGAN_22/model\\model-59499.\n",
      "\u001b[32m[1022 00:03:25 @monitor.py:467]\u001b[0m GAN_loss/d_loss: -0.050868\n",
      "\u001b[32m[1022 00:03:25 @monitor.py:467]\u001b[0m GAN_loss/g_loss: 1.8672\n",
      "\u001b[32m[1022 00:03:25 @monitor.py:467]\u001b[0m GAN_loss/gradient_penalty: 0.0068586\n",
      "\u001b[32m[1022 00:03:25 @monitor.py:467]\u001b[0m GAN_loss/gradient_rms: 0.99926\n",
      "\u001b[32m[1022 00:03:25 @monitor.py:467]\u001b[0m GAN_loss/kl_div: 0.072336\n",
      "\u001b[32m[1022 00:03:25 @monitor.py:467]\u001b[0m QueueInput/queue_size: 50\n",
      "\u001b[32m[1022 00:03:25 @base.py:275]\u001b[0m Start Epoch 273 ...\n"
     ]
    },
    {
     "name": "stderr",
     "output_type": "stream",
     "text": [
      "100%|###################################################################################|175/175[00:06<00:00,27.61it/s]"
     ]
    },
    {
     "name": "stdout",
     "output_type": "stream",
     "text": [
      "\u001b[32m[1022 00:03:31 @base.py:285]\u001b[0m Epoch 273 (global_step 59718) finished, time:6.34 seconds.\n",
      "\u001b[32m[1022 00:03:31 @saver.py:79]\u001b[0m Model saved to ../output/Chicago/DATWGAN_22/model\\model-59718.\n",
      "\u001b[32m[1022 00:03:31 @monitor.py:467]\u001b[0m GAN_loss/d_loss: -0.051469\n",
      "\u001b[32m[1022 00:03:31 @monitor.py:467]\u001b[0m GAN_loss/g_loss: 1.8662\n",
      "\u001b[32m[1022 00:03:31 @monitor.py:467]\u001b[0m GAN_loss/gradient_penalty: 0.0066156\n",
      "\u001b[32m[1022 00:03:31 @monitor.py:467]\u001b[0m GAN_loss/gradient_rms: 0.99886\n",
      "\u001b[32m[1022 00:03:31 @monitor.py:467]\u001b[0m GAN_loss/kl_div: 0.073062\n",
      "\u001b[32m[1022 00:03:31 @monitor.py:467]\u001b[0m QueueInput/queue_size: 50\n",
      "\u001b[32m[1022 00:03:31 @base.py:275]\u001b[0m Start Epoch 274 ...\n"
     ]
    },
    {
     "name": "stderr",
     "output_type": "stream",
     "text": [
      "\n",
      "100%|###################################################################################|175/175[00:06<00:00,27.23it/s]"
     ]
    },
    {
     "name": "stdout",
     "output_type": "stream",
     "text": [
      "\u001b[32m[1022 00:03:38 @base.py:285]\u001b[0m Epoch 274 (global_step 59937) finished, time:6.43 seconds.\n"
     ]
    },
    {
     "name": "stderr",
     "output_type": "stream",
     "text": [
      "\n"
     ]
    },
    {
     "name": "stdout",
     "output_type": "stream",
     "text": [
      "\u001b[32m[1022 00:03:38 @saver.py:79]\u001b[0m Model saved to ../output/Chicago/DATWGAN_22/model\\model-59937.\n",
      "\u001b[32m[1022 00:03:38 @monitor.py:467]\u001b[0m GAN_loss/d_loss: -0.055609\n",
      "\u001b[32m[1022 00:03:38 @monitor.py:467]\u001b[0m GAN_loss/g_loss: 1.9\n",
      "\u001b[32m[1022 00:03:38 @monitor.py:467]\u001b[0m GAN_loss/gradient_penalty: 0.0066369\n",
      "\u001b[32m[1022 00:03:38 @monitor.py:467]\u001b[0m GAN_loss/gradient_rms: 0.99912\n",
      "\u001b[32m[1022 00:03:38 @monitor.py:467]\u001b[0m GAN_loss/kl_div: 0.072486\n",
      "\u001b[32m[1022 00:03:38 @monitor.py:467]\u001b[0m QueueInput/queue_size: 50\n",
      "\u001b[32m[1022 00:03:38 @base.py:275]\u001b[0m Start Epoch 275 ...\n"
     ]
    },
    {
     "name": "stderr",
     "output_type": "stream",
     "text": [
      "100%|###################################################################################|175/175[00:06<00:00,27.57it/s]"
     ]
    },
    {
     "name": "stdout",
     "output_type": "stream",
     "text": [
      "\u001b[32m[1022 00:03:44 @base.py:285]\u001b[0m Epoch 275 (global_step 60156) finished, time:6.35 seconds.\n",
      "\u001b[32m[1022 00:03:44 @saver.py:79]\u001b[0m Model saved to ../output/Chicago/DATWGAN_22/model\\model-60156.\n",
      "\u001b[32m[1022 00:03:44 @monitor.py:467]\u001b[0m GAN_loss/d_loss: -0.047309\n",
      "\u001b[32m[1022 00:03:44 @monitor.py:467]\u001b[0m GAN_loss/g_loss: 1.8982\n",
      "\u001b[32m[1022 00:03:44 @monitor.py:467]\u001b[0m GAN_loss/gradient_penalty: 0.0065726\n",
      "\u001b[32m[1022 00:03:44 @monitor.py:467]\u001b[0m GAN_loss/gradient_rms: 1.0001\n",
      "\u001b[32m[1022 00:03:44 @monitor.py:467]\u001b[0m GAN_loss/kl_div: 0.069422\n",
      "\u001b[32m[1022 00:03:44 @monitor.py:467]\u001b[0m QueueInput/queue_size: 50\n",
      "\u001b[32m[1022 00:03:44 @base.py:275]\u001b[0m Start Epoch 276 ...\n"
     ]
    },
    {
     "name": "stderr",
     "output_type": "stream",
     "text": [
      "\n",
      "100%|###################################################################################|175/175[00:06<00:00,28.38it/s]"
     ]
    },
    {
     "name": "stdout",
     "output_type": "stream",
     "text": [
      "\u001b[32m[1022 00:03:50 @base.py:285]\u001b[0m Epoch 276 (global_step 60374) finished, time:6.17 seconds.\n",
      "\u001b[32m[1022 00:03:51 @saver.py:79]\u001b[0m Model saved to ../output/Chicago/DATWGAN_22/model\\model-60374.\n",
      "\u001b[32m[1022 00:03:51 @monitor.py:467]\u001b[0m GAN_loss/d_loss: -0.054888\n",
      "\u001b[32m[1022 00:03:51 @monitor.py:467]\u001b[0m GAN_loss/g_loss: 1.9201\n",
      "\u001b[32m[1022 00:03:51 @monitor.py:467]\u001b[0m GAN_loss/gradient_penalty: 0.0063792\n",
      "\u001b[32m[1022 00:03:51 @monitor.py:467]\u001b[0m GAN_loss/gradient_rms: 0.99752\n",
      "\u001b[32m[1022 00:03:51 @monitor.py:467]\u001b[0m GAN_loss/kl_div: 0.070707\n",
      "\u001b[32m[1022 00:03:51 @monitor.py:467]\u001b[0m QueueInput/queue_size: 50\n",
      "\u001b[32m[1022 00:03:51 @base.py:275]\u001b[0m Start Epoch 277 ...\n"
     ]
    },
    {
     "name": "stderr",
     "output_type": "stream",
     "text": [
      "\n",
      "100%|###################################################################################|175/175[00:06<00:00,28.37it/s]"
     ]
    },
    {
     "name": "stdout",
     "output_type": "stream",
     "text": [
      "\u001b[32m[1022 00:03:57 @base.py:285]\u001b[0m Epoch 277 (global_step 60593) finished, time:6.17 seconds.\n",
      "\u001b[32m[1022 00:03:57 @saver.py:79]\u001b[0m Model saved to ../output/Chicago/DATWGAN_22/model\\model-60593.\n",
      "\u001b[32m[1022 00:03:57 @monitor.py:467]\u001b[0m GAN_loss/d_loss: -0.05209\n",
      "\u001b[32m[1022 00:03:57 @monitor.py:467]\u001b[0m GAN_loss/g_loss: 1.9114\n",
      "\u001b[32m[1022 00:03:57 @monitor.py:467]\u001b[0m GAN_loss/gradient_penalty: 0.0065487\n",
      "\u001b[32m[1022 00:03:57 @monitor.py:467]\u001b[0m GAN_loss/gradient_rms: 0.99725\n",
      "\u001b[32m[1022 00:03:57 @monitor.py:467]\u001b[0m GAN_loss/kl_div: 0.06898\n",
      "\u001b[32m[1022 00:03:57 @monitor.py:467]\u001b[0m QueueInput/queue_size: 50\n",
      "\u001b[32m[1022 00:03:57 @base.py:275]\u001b[0m Start Epoch 278 ...\n"
     ]
    },
    {
     "name": "stderr",
     "output_type": "stream",
     "text": [
      "\n",
      "100%|###################################################################################|175/175[00:06<00:00,28.03it/s]"
     ]
    },
    {
     "name": "stdout",
     "output_type": "stream",
     "text": [
      "\u001b[32m[1022 00:04:03 @base.py:285]\u001b[0m Epoch 278 (global_step 60812) finished, time:6.24 seconds.\n",
      "\u001b[32m[1022 00:04:03 @saver.py:79]\u001b[0m Model saved to ../output/Chicago/DATWGAN_22/model\\model-60812.\n",
      "\u001b[32m[1022 00:04:03 @monitor.py:467]\u001b[0m GAN_loss/d_loss: -0.057348\n",
      "\u001b[32m[1022 00:04:03 @monitor.py:467]\u001b[0m GAN_loss/g_loss: 1.9484\n",
      "\u001b[32m[1022 00:04:03 @monitor.py:467]\u001b[0m GAN_loss/gradient_penalty: 0.0064456\n",
      "\u001b[32m[1022 00:04:03 @monitor.py:467]\u001b[0m GAN_loss/gradient_rms: 1.0001\n",
      "\u001b[32m[1022 00:04:03 @monitor.py:467]\u001b[0m GAN_loss/kl_div: 0.066762\n",
      "\u001b[32m[1022 00:04:03 @monitor.py:467]\u001b[0m QueueInput/queue_size: 50\n",
      "\u001b[32m[1022 00:04:03 @base.py:275]\u001b[0m Start Epoch 279 ...\n"
     ]
    },
    {
     "name": "stderr",
     "output_type": "stream",
     "text": [
      "\n",
      "100%|###################################################################################|175/175[00:06<00:00,27.79it/s]"
     ]
    },
    {
     "name": "stdout",
     "output_type": "stream",
     "text": [
      "\u001b[32m[1022 00:04:10 @base.py:285]\u001b[0m Epoch 279 (global_step 61031) finished, time:6.3 seconds.\n",
      "\u001b[32m[1022 00:04:10 @saver.py:79]\u001b[0m Model saved to ../output/Chicago/DATWGAN_22/model\\model-61031.\n",
      "\u001b[32m[1022 00:04:10 @monitor.py:467]\u001b[0m GAN_loss/d_loss: -0.055491\n",
      "\u001b[32m[1022 00:04:10 @monitor.py:467]\u001b[0m GAN_loss/g_loss: 1.898\n",
      "\u001b[32m[1022 00:04:10 @monitor.py:467]\u001b[0m GAN_loss/gradient_penalty: 0.0066704\n",
      "\u001b[32m[1022 00:04:10 @monitor.py:467]\u001b[0m GAN_loss/gradient_rms: 0.99927\n",
      "\u001b[32m[1022 00:04:10 @monitor.py:467]\u001b[0m GAN_loss/kl_div: 0.06758\n",
      "\u001b[32m[1022 00:04:10 @monitor.py:467]\u001b[0m QueueInput/queue_size: 50\n",
      "\u001b[32m[1022 00:04:10 @base.py:275]\u001b[0m Start Epoch 280 ...\n"
     ]
    },
    {
     "name": "stderr",
     "output_type": "stream",
     "text": [
      "\n",
      "100%|###################################################################################|175/175[00:06<00:00,27.67it/s]"
     ]
    },
    {
     "name": "stdout",
     "output_type": "stream",
     "text": [
      "\u001b[32m[1022 00:04:16 @base.py:285]\u001b[0m Epoch 280 (global_step 61249) finished, time:6.32 seconds.\n",
      "\u001b[32m[1022 00:04:16 @saver.py:79]\u001b[0m Model saved to ../output/Chicago/DATWGAN_22/model\\model-61249.\n",
      "\u001b[32m[1022 00:04:16 @monitor.py:467]\u001b[0m GAN_loss/d_loss: -0.05629\n",
      "\u001b[32m[1022 00:04:16 @monitor.py:467]\u001b[0m GAN_loss/g_loss: 1.8953\n",
      "\u001b[32m[1022 00:04:16 @monitor.py:467]\u001b[0m GAN_loss/gradient_penalty: 0.0066687\n",
      "\u001b[32m[1022 00:04:16 @monitor.py:467]\u001b[0m GAN_loss/gradient_rms: 0.99784\n",
      "\u001b[32m[1022 00:04:16 @monitor.py:467]\u001b[0m GAN_loss/kl_div: 0.07352\n",
      "\u001b[32m[1022 00:04:16 @monitor.py:467]\u001b[0m QueueInput/queue_size: 50\n",
      "\u001b[32m[1022 00:04:16 @base.py:275]\u001b[0m Start Epoch 281 ...\n"
     ]
    },
    {
     "name": "stderr",
     "output_type": "stream",
     "text": [
      "\n",
      "100%|###################################################################################|175/175[00:06<00:00,27.63it/s]"
     ]
    },
    {
     "name": "stdout",
     "output_type": "stream",
     "text": [
      "\u001b[32m[1022 00:04:22 @base.py:285]\u001b[0m Epoch 281 (global_step 61468) finished, time:6.33 seconds.\n",
      "\u001b[32m[1022 00:04:23 @saver.py:79]\u001b[0m Model saved to ../output/Chicago/DATWGAN_22/model\\model-61468.\n",
      "\u001b[32m[1022 00:04:23 @monitor.py:467]\u001b[0m GAN_loss/d_loss: -0.059768\n",
      "\u001b[32m[1022 00:04:23 @monitor.py:467]\u001b[0m GAN_loss/g_loss: 1.9305\n",
      "\u001b[32m[1022 00:04:23 @monitor.py:467]\u001b[0m GAN_loss/gradient_penalty: 0.0063674\n",
      "\u001b[32m[1022 00:04:23 @monitor.py:467]\u001b[0m GAN_loss/gradient_rms: 1.0008\n",
      "\u001b[32m[1022 00:04:23 @monitor.py:467]\u001b[0m GAN_loss/kl_div: 0.067853\n",
      "\u001b[32m[1022 00:04:23 @monitor.py:467]\u001b[0m QueueInput/queue_size: 50\n",
      "\u001b[32m[1022 00:04:23 @base.py:275]\u001b[0m Start Epoch 282 ...\n"
     ]
    },
    {
     "name": "stderr",
     "output_type": "stream",
     "text": [
      "\n",
      "100%|###################################################################################|175/175[00:06<00:00,28.21it/s]"
     ]
    },
    {
     "name": "stdout",
     "output_type": "stream",
     "text": [
      "\u001b[32m[1022 00:04:29 @base.py:285]\u001b[0m Epoch 282 (global_step 61687) finished, time:6.2 seconds.\n",
      "\u001b[32m[1022 00:04:29 @saver.py:79]\u001b[0m Model saved to ../output/Chicago/DATWGAN_22/model\\model-61687.\n",
      "\u001b[32m[1022 00:04:29 @monitor.py:467]\u001b[0m GAN_loss/d_loss: -0.055703\n",
      "\u001b[32m[1022 00:04:29 @monitor.py:467]\u001b[0m GAN_loss/g_loss: 1.9148\n",
      "\u001b[32m[1022 00:04:29 @monitor.py:467]\u001b[0m GAN_loss/gradient_penalty: 0.0062561\n",
      "\u001b[32m[1022 00:04:29 @monitor.py:467]\u001b[0m GAN_loss/gradient_rms: 1.0009\n",
      "\u001b[32m[1022 00:04:29 @monitor.py:467]\u001b[0m GAN_loss/kl_div: 0.067879\n",
      "\u001b[32m[1022 00:04:29 @monitor.py:467]\u001b[0m QueueInput/queue_size: 50\n",
      "\u001b[32m[1022 00:04:29 @base.py:275]\u001b[0m Start Epoch 283 ...\n"
     ]
    },
    {
     "name": "stderr",
     "output_type": "stream",
     "text": [
      "\n",
      "100%|###################################################################################|175/175[00:06<00:00,28.39it/s]"
     ]
    },
    {
     "name": "stdout",
     "output_type": "stream",
     "text": [
      "\u001b[32m[1022 00:04:35 @base.py:285]\u001b[0m Epoch 283 (global_step 61906) finished, time:6.17 seconds.\n",
      "\u001b[32m[1022 00:04:35 @saver.py:79]\u001b[0m Model saved to ../output/Chicago/DATWGAN_22/model\\model-61906.\n",
      "\u001b[32m[1022 00:04:35 @monitor.py:467]\u001b[0m GAN_loss/d_loss: -0.04988\n",
      "\u001b[32m[1022 00:04:35 @monitor.py:467]\u001b[0m GAN_loss/g_loss: 1.8839\n",
      "\u001b[32m[1022 00:04:35 @monitor.py:467]\u001b[0m GAN_loss/gradient_penalty: 0.0066017\n",
      "\u001b[32m[1022 00:04:35 @monitor.py:467]\u001b[0m GAN_loss/gradient_rms: 0.99974\n",
      "\u001b[32m[1022 00:04:35 @monitor.py:467]\u001b[0m GAN_loss/kl_div: 0.070102\n",
      "\u001b[32m[1022 00:04:35 @monitor.py:467]\u001b[0m QueueInput/queue_size: 50\n",
      "\u001b[32m[1022 00:04:35 @base.py:275]\u001b[0m Start Epoch 284 ...\n"
     ]
    },
    {
     "name": "stderr",
     "output_type": "stream",
     "text": [
      "\n",
      "100%|###################################################################################|175/175[00:06<00:00,28.54it/s]"
     ]
    },
    {
     "name": "stdout",
     "output_type": "stream",
     "text": [
      "\u001b[32m[1022 00:04:41 @base.py:285]\u001b[0m Epoch 284 (global_step 62124) finished, time:6.13 seconds.\n",
      "\u001b[32m[1022 00:04:41 @saver.py:79]\u001b[0m Model saved to ../output/Chicago/DATWGAN_22/model\\model-62124.\n",
      "\u001b[32m[1022 00:04:41 @monitor.py:467]\u001b[0m GAN_loss/d_loss: -0.053087\n",
      "\u001b[32m[1022 00:04:41 @monitor.py:467]\u001b[0m GAN_loss/g_loss: 1.8851\n",
      "\u001b[32m[1022 00:04:41 @monitor.py:467]\u001b[0m GAN_loss/gradient_penalty: 0.0065668\n",
      "\u001b[32m[1022 00:04:41 @monitor.py:467]\u001b[0m GAN_loss/gradient_rms: 0.99872\n",
      "\u001b[32m[1022 00:04:41 @monitor.py:467]\u001b[0m GAN_loss/kl_div: 0.070641\n",
      "\u001b[32m[1022 00:04:41 @monitor.py:467]\u001b[0m QueueInput/queue_size: 50\n",
      "\u001b[32m[1022 00:04:41 @base.py:275]\u001b[0m Start Epoch 285 ...\n"
     ]
    },
    {
     "name": "stderr",
     "output_type": "stream",
     "text": [
      "\n",
      "100%|###################################################################################|175/175[00:06<00:00,28.23it/s]"
     ]
    },
    {
     "name": "stdout",
     "output_type": "stream",
     "text": [
      "\u001b[32m[1022 00:04:48 @base.py:285]\u001b[0m Epoch 285 (global_step 62343) finished, time:6.2 seconds.\n",
      "\u001b[32m[1022 00:04:48 @saver.py:79]\u001b[0m Model saved to ../output/Chicago/DATWGAN_22/model\\model-62343.\n",
      "\u001b[32m[1022 00:04:48 @monitor.py:467]\u001b[0m GAN_loss/d_loss: -0.054896\n",
      "\u001b[32m[1022 00:04:48 @monitor.py:467]\u001b[0m GAN_loss/g_loss: 1.8939\n",
      "\u001b[32m[1022 00:04:48 @monitor.py:467]\u001b[0m GAN_loss/gradient_penalty: 0.0063997\n",
      "\u001b[32m[1022 00:04:48 @monitor.py:467]\u001b[0m GAN_loss/gradient_rms: 0.99858\n",
      "\u001b[32m[1022 00:04:48 @monitor.py:467]\u001b[0m GAN_loss/kl_div: 0.06824\n",
      "\u001b[32m[1022 00:04:48 @monitor.py:467]\u001b[0m QueueInput/queue_size: 50\n",
      "\u001b[32m[1022 00:04:48 @base.py:275]\u001b[0m Start Epoch 286 ...\n"
     ]
    },
    {
     "name": "stderr",
     "output_type": "stream",
     "text": [
      "\n",
      "100%|###################################################################################|175/175[00:06<00:00,28.08it/s]"
     ]
    },
    {
     "name": "stdout",
     "output_type": "stream",
     "text": [
      "\u001b[32m[1022 00:04:54 @base.py:285]\u001b[0m Epoch 286 (global_step 62562) finished, time:6.23 seconds.\n",
      "\u001b[32m[1022 00:04:54 @saver.py:79]\u001b[0m Model saved to ../output/Chicago/DATWGAN_22/model\\model-62562.\n",
      "\u001b[32m[1022 00:04:54 @monitor.py:467]\u001b[0m GAN_loss/d_loss: -0.053678\n",
      "\u001b[32m[1022 00:04:54 @monitor.py:467]\u001b[0m GAN_loss/g_loss: 1.8912\n",
      "\u001b[32m[1022 00:04:54 @monitor.py:467]\u001b[0m GAN_loss/gradient_penalty: 0.0065747\n",
      "\u001b[32m[1022 00:04:54 @monitor.py:467]\u001b[0m GAN_loss/gradient_rms: 0.99901\n",
      "\u001b[32m[1022 00:04:54 @monitor.py:467]\u001b[0m GAN_loss/kl_div: 0.064548\n",
      "\u001b[32m[1022 00:04:54 @monitor.py:467]\u001b[0m QueueInput/queue_size: 50\n",
      "\u001b[32m[1022 00:04:54 @base.py:275]\u001b[0m Start Epoch 287 ...\n"
     ]
    },
    {
     "name": "stderr",
     "output_type": "stream",
     "text": [
      "\n",
      "100%|###################################################################################|175/175[00:06<00:00,28.09it/s]"
     ]
    },
    {
     "name": "stdout",
     "output_type": "stream",
     "text": [
      "\u001b[32m[1022 00:05:00 @base.py:285]\u001b[0m Epoch 287 (global_step 62781) finished, time:6.23 seconds.\n",
      "\u001b[32m[1022 00:05:00 @saver.py:79]\u001b[0m Model saved to ../output/Chicago/DATWGAN_22/model\\model-62781.\n",
      "\u001b[32m[1022 00:05:00 @monitor.py:467]\u001b[0m GAN_loss/d_loss: -0.048856\n",
      "\u001b[32m[1022 00:05:00 @monitor.py:467]\u001b[0m GAN_loss/g_loss: 1.9011\n",
      "\u001b[32m[1022 00:05:00 @monitor.py:467]\u001b[0m GAN_loss/gradient_penalty: 0.0068625\n",
      "\u001b[32m[1022 00:05:00 @monitor.py:467]\u001b[0m GAN_loss/gradient_rms: 0.99913\n",
      "\u001b[32m[1022 00:05:00 @monitor.py:467]\u001b[0m GAN_loss/kl_div: 0.071869\n",
      "\u001b[32m[1022 00:05:00 @monitor.py:467]\u001b[0m QueueInput/queue_size: 50\n",
      "\u001b[32m[1022 00:05:00 @base.py:275]\u001b[0m Start Epoch 288 ...\n"
     ]
    },
    {
     "name": "stderr",
     "output_type": "stream",
     "text": [
      "\n",
      "100%|###################################################################################|175/175[00:06<00:00,28.37it/s]"
     ]
    },
    {
     "name": "stdout",
     "output_type": "stream",
     "text": [
      "\u001b[32m[1022 00:05:07 @base.py:285]\u001b[0m Epoch 288 (global_step 62999) finished, time:6.17 seconds.\n",
      "\u001b[32m[1022 00:05:07 @saver.py:79]\u001b[0m Model saved to ../output/Chicago/DATWGAN_22/model\\model-62999.\n",
      "\u001b[32m[1022 00:05:07 @monitor.py:467]\u001b[0m GAN_loss/d_loss: -0.053433\n",
      "\u001b[32m[1022 00:05:07 @monitor.py:467]\u001b[0m GAN_loss/g_loss: 1.885\n",
      "\u001b[32m[1022 00:05:07 @monitor.py:467]\u001b[0m GAN_loss/gradient_penalty: 0.006656\n",
      "\u001b[32m[1022 00:05:07 @monitor.py:467]\u001b[0m GAN_loss/gradient_rms: 0.9997\n",
      "\u001b[32m[1022 00:05:07 @monitor.py:467]\u001b[0m GAN_loss/kl_div: 0.068988\n",
      "\u001b[32m[1022 00:05:07 @monitor.py:467]\u001b[0m QueueInput/queue_size: 50\n",
      "\u001b[32m[1022 00:05:07 @base.py:275]\u001b[0m Start Epoch 289 ...\n"
     ]
    },
    {
     "name": "stderr",
     "output_type": "stream",
     "text": [
      "\n",
      "100%|###################################################################################|175/175[00:06<00:00,28.44it/s]"
     ]
    },
    {
     "name": "stdout",
     "output_type": "stream",
     "text": [
      "\u001b[32m[1022 00:05:13 @base.py:285]\u001b[0m Epoch 289 (global_step 63218) finished, time:6.15 seconds.\n",
      "\u001b[32m[1022 00:05:13 @saver.py:79]\u001b[0m Model saved to ../output/Chicago/DATWGAN_22/model\\model-63218.\n",
      "\u001b[32m[1022 00:05:13 @monitor.py:467]\u001b[0m GAN_loss/d_loss: -0.049245\n",
      "\u001b[32m[1022 00:05:13 @monitor.py:467]\u001b[0m GAN_loss/g_loss: 1.8962\n",
      "\u001b[32m[1022 00:05:13 @monitor.py:467]\u001b[0m GAN_loss/gradient_penalty: 0.0064411\n",
      "\u001b[32m[1022 00:05:13 @monitor.py:467]\u001b[0m GAN_loss/gradient_rms: 0.9991\n",
      "\u001b[32m[1022 00:05:13 @monitor.py:467]\u001b[0m GAN_loss/kl_div: 0.071159\n",
      "\u001b[32m[1022 00:05:13 @monitor.py:467]\u001b[0m QueueInput/queue_size: 50\n",
      "\u001b[32m[1022 00:05:13 @base.py:275]\u001b[0m Start Epoch 290 ...\n"
     ]
    },
    {
     "name": "stderr",
     "output_type": "stream",
     "text": [
      "\n",
      "100%|###################################################################################|175/175[00:06<00:00,28.26it/s]"
     ]
    },
    {
     "name": "stdout",
     "output_type": "stream",
     "text": [
      "\u001b[32m[1022 00:05:19 @base.py:285]\u001b[0m Epoch 290 (global_step 63437) finished, time:6.19 seconds.\n",
      "\u001b[32m[1022 00:05:19 @saver.py:79]\u001b[0m Model saved to ../output/Chicago/DATWGAN_22/model\\model-63437.\n",
      "\u001b[32m[1022 00:05:19 @monitor.py:467]\u001b[0m GAN_loss/d_loss: -0.056395\n",
      "\u001b[32m[1022 00:05:19 @monitor.py:467]\u001b[0m GAN_loss/g_loss: 1.9025\n",
      "\u001b[32m[1022 00:05:19 @monitor.py:467]\u001b[0m GAN_loss/gradient_penalty: 0.0065991\n",
      "\u001b[32m[1022 00:05:19 @monitor.py:467]\u001b[0m GAN_loss/gradient_rms: 0.99982\n",
      "\u001b[32m[1022 00:05:19 @monitor.py:467]\u001b[0m GAN_loss/kl_div: 0.067146\n",
      "\u001b[32m[1022 00:05:19 @monitor.py:467]\u001b[0m QueueInput/queue_size: 50\n",
      "\u001b[32m[1022 00:05:19 @base.py:275]\u001b[0m Start Epoch 291 ...\n"
     ]
    },
    {
     "name": "stderr",
     "output_type": "stream",
     "text": [
      "\n",
      "100%|###################################################################################|175/175[00:06<00:00,28.44it/s]"
     ]
    },
    {
     "name": "stdout",
     "output_type": "stream",
     "text": [
      "\u001b[32m[1022 00:05:26 @base.py:285]\u001b[0m Epoch 291 (global_step 63656) finished, time:6.15 seconds.\n",
      "\u001b[32m[1022 00:05:26 @saver.py:79]\u001b[0m Model saved to ../output/Chicago/DATWGAN_22/model\\model-63656.\n",
      "\u001b[32m[1022 00:05:26 @monitor.py:467]\u001b[0m GAN_loss/d_loss: -0.057106\n",
      "\u001b[32m[1022 00:05:26 @monitor.py:467]\u001b[0m GAN_loss/g_loss: 1.8832\n",
      "\u001b[32m[1022 00:05:26 @monitor.py:467]\u001b[0m GAN_loss/gradient_penalty: 0.0065059\n",
      "\u001b[32m[1022 00:05:26 @monitor.py:467]\u001b[0m GAN_loss/gradient_rms: 1.0011\n",
      "\u001b[32m[1022 00:05:26 @monitor.py:467]\u001b[0m GAN_loss/kl_div: 0.064918\n",
      "\u001b[32m[1022 00:05:26 @monitor.py:467]\u001b[0m QueueInput/queue_size: 50\n",
      "\u001b[32m[1022 00:05:26 @base.py:275]\u001b[0m Start Epoch 292 ...\n"
     ]
    },
    {
     "name": "stderr",
     "output_type": "stream",
     "text": [
      "\n",
      "100%|###################################################################################|175/175[00:06<00:00,28.35it/s]"
     ]
    },
    {
     "name": "stdout",
     "output_type": "stream",
     "text": [
      "\u001b[32m[1022 00:05:32 @base.py:285]\u001b[0m Epoch 292 (global_step 63874) finished, time:6.17 seconds.\n",
      "\u001b[32m[1022 00:05:32 @saver.py:79]\u001b[0m Model saved to ../output/Chicago/DATWGAN_22/model\\model-63874.\n",
      "\u001b[32m[1022 00:05:32 @monitor.py:467]\u001b[0m GAN_loss/d_loss: -0.053518\n",
      "\u001b[32m[1022 00:05:32 @monitor.py:467]\u001b[0m GAN_loss/g_loss: 1.8585\n",
      "\u001b[32m[1022 00:05:32 @monitor.py:467]\u001b[0m GAN_loss/gradient_penalty: 0.0068602\n",
      "\u001b[32m[1022 00:05:32 @monitor.py:467]\u001b[0m GAN_loss/gradient_rms: 0.99828\n",
      "\u001b[32m[1022 00:05:32 @monitor.py:467]\u001b[0m GAN_loss/kl_div: 0.067439\n",
      "\u001b[32m[1022 00:05:32 @monitor.py:467]\u001b[0m QueueInput/queue_size: 50\n",
      "\u001b[32m[1022 00:05:32 @base.py:275]\u001b[0m Start Epoch 293 ...\n"
     ]
    },
    {
     "name": "stderr",
     "output_type": "stream",
     "text": [
      "\n",
      "100%|###################################################################################|175/175[00:06<00:00,27.57it/s]"
     ]
    },
    {
     "name": "stdout",
     "output_type": "stream",
     "text": [
      "\u001b[32m[1022 00:05:38 @base.py:285]\u001b[0m Epoch 293 (global_step 64093) finished, time:6.35 seconds.\n",
      "\u001b[32m[1022 00:05:38 @saver.py:79]\u001b[0m Model saved to ../output/Chicago/DATWGAN_22/model\\model-64093.\n",
      "\u001b[32m[1022 00:05:38 @monitor.py:467]\u001b[0m GAN_loss/d_loss: -0.053327\n",
      "\u001b[32m[1022 00:05:38 @monitor.py:467]\u001b[0m GAN_loss/g_loss: 1.8746\n",
      "\u001b[32m[1022 00:05:38 @monitor.py:467]\u001b[0m GAN_loss/gradient_penalty: 0.0064785\n",
      "\u001b[32m[1022 00:05:38 @monitor.py:467]\u001b[0m GAN_loss/gradient_rms: 1\n",
      "\u001b[32m[1022 00:05:38 @monitor.py:467]\u001b[0m GAN_loss/kl_div: 0.070305\n",
      "\u001b[32m[1022 00:05:38 @monitor.py:467]\u001b[0m QueueInput/queue_size: 50\n",
      "\u001b[32m[1022 00:05:38 @base.py:275]\u001b[0m Start Epoch 294 ...\n"
     ]
    },
    {
     "name": "stderr",
     "output_type": "stream",
     "text": [
      "\n",
      "100%|###################################################################################|175/175[00:06<00:00,27.35it/s]"
     ]
    },
    {
     "name": "stdout",
     "output_type": "stream",
     "text": [
      "\u001b[32m[1022 00:05:45 @base.py:285]\u001b[0m Epoch 294 (global_step 64312) finished, time:6.4 seconds.\n"
     ]
    },
    {
     "name": "stderr",
     "output_type": "stream",
     "text": [
      "\n"
     ]
    },
    {
     "name": "stdout",
     "output_type": "stream",
     "text": [
      "\u001b[32m[1022 00:05:45 @saver.py:79]\u001b[0m Model saved to ../output/Chicago/DATWGAN_22/model\\model-64312.\n",
      "\u001b[32m[1022 00:05:45 @monitor.py:467]\u001b[0m GAN_loss/d_loss: -0.052485\n",
      "\u001b[32m[1022 00:05:45 @monitor.py:467]\u001b[0m GAN_loss/g_loss: 1.8812\n",
      "\u001b[32m[1022 00:05:45 @monitor.py:467]\u001b[0m GAN_loss/gradient_penalty: 0.0064939\n",
      "\u001b[32m[1022 00:05:45 @monitor.py:467]\u001b[0m GAN_loss/gradient_rms: 1.0008\n",
      "\u001b[32m[1022 00:05:45 @monitor.py:467]\u001b[0m GAN_loss/kl_div: 0.07429\n",
      "\u001b[32m[1022 00:05:45 @monitor.py:467]\u001b[0m QueueInput/queue_size: 50\n",
      "\u001b[32m[1022 00:05:45 @base.py:275]\u001b[0m Start Epoch 295 ...\n"
     ]
    },
    {
     "name": "stderr",
     "output_type": "stream",
     "text": [
      "100%|###################################################################################|175/175[00:06<00:00,28.42it/s]"
     ]
    },
    {
     "name": "stdout",
     "output_type": "stream",
     "text": [
      "\u001b[32m[1022 00:05:51 @base.py:285]\u001b[0m Epoch 295 (global_step 64531) finished, time:6.16 seconds.\n",
      "\u001b[32m[1022 00:05:51 @saver.py:79]\u001b[0m Model saved to ../output/Chicago/DATWGAN_22/model\\model-64531.\n",
      "\u001b[32m[1022 00:05:51 @monitor.py:467]\u001b[0m GAN_loss/d_loss: -0.055271\n",
      "\u001b[32m[1022 00:05:51 @monitor.py:467]\u001b[0m GAN_loss/g_loss: 1.8933\n",
      "\u001b[32m[1022 00:05:51 @monitor.py:467]\u001b[0m GAN_loss/gradient_penalty: 0.0064281\n",
      "\u001b[32m[1022 00:05:51 @monitor.py:467]\u001b[0m GAN_loss/gradient_rms: 0.99815\n",
      "\u001b[32m[1022 00:05:51 @monitor.py:467]\u001b[0m GAN_loss/kl_div: 0.067731\n",
      "\u001b[32m[1022 00:05:51 @monitor.py:467]\u001b[0m QueueInput/queue_size: 50\n",
      "\u001b[32m[1022 00:05:51 @base.py:275]\u001b[0m Start Epoch 296 ...\n"
     ]
    },
    {
     "name": "stderr",
     "output_type": "stream",
     "text": [
      "\n",
      "100%|###################################################################################|175/175[00:06<00:00,28.56it/s]"
     ]
    },
    {
     "name": "stdout",
     "output_type": "stream",
     "text": [
      "\u001b[32m[1022 00:05:57 @base.py:285]\u001b[0m Epoch 296 (global_step 64749) finished, time:6.13 seconds.\n",
      "\u001b[32m[1022 00:05:57 @saver.py:79]\u001b[0m Model saved to ../output/Chicago/DATWGAN_22/model\\model-64749.\n",
      "\u001b[32m[1022 00:05:57 @monitor.py:467]\u001b[0m GAN_loss/d_loss: -0.048611\n",
      "\u001b[32m[1022 00:05:57 @monitor.py:467]\u001b[0m GAN_loss/g_loss: 1.9403\n",
      "\u001b[32m[1022 00:05:57 @monitor.py:467]\u001b[0m GAN_loss/gradient_penalty: 0.0065575\n",
      "\u001b[32m[1022 00:05:57 @monitor.py:467]\u001b[0m GAN_loss/gradient_rms: 0.99826\n",
      "\u001b[32m[1022 00:05:57 @monitor.py:467]\u001b[0m GAN_loss/kl_div: 0.069007\n",
      "\u001b[32m[1022 00:05:57 @monitor.py:467]\u001b[0m QueueInput/queue_size: 50\n",
      "\u001b[32m[1022 00:05:57 @base.py:275]\u001b[0m Start Epoch 297 ...\n"
     ]
    },
    {
     "name": "stderr",
     "output_type": "stream",
     "text": [
      "\n",
      "100%|###################################################################################|175/175[00:06<00:00,28.42it/s]"
     ]
    },
    {
     "name": "stdout",
     "output_type": "stream",
     "text": [
      "\u001b[32m[1022 00:06:04 @base.py:285]\u001b[0m Epoch 297 (global_step 64968) finished, time:6.16 seconds.\n",
      "\u001b[32m[1022 00:06:04 @saver.py:79]\u001b[0m Model saved to ../output/Chicago/DATWGAN_22/model\\model-64968.\n",
      "\u001b[32m[1022 00:06:04 @monitor.py:467]\u001b[0m GAN_loss/d_loss: -0.053548\n",
      "\u001b[32m[1022 00:06:04 @monitor.py:467]\u001b[0m GAN_loss/g_loss: 1.8786\n",
      "\u001b[32m[1022 00:06:04 @monitor.py:467]\u001b[0m GAN_loss/gradient_penalty: 0.0064892\n",
      "\u001b[32m[1022 00:06:04 @monitor.py:467]\u001b[0m GAN_loss/gradient_rms: 0.99982\n",
      "\u001b[32m[1022 00:06:04 @monitor.py:467]\u001b[0m GAN_loss/kl_div: 0.070006\n",
      "\u001b[32m[1022 00:06:04 @monitor.py:467]\u001b[0m QueueInput/queue_size: 50\n",
      "\u001b[32m[1022 00:06:04 @base.py:275]\u001b[0m Start Epoch 298 ...\n"
     ]
    },
    {
     "name": "stderr",
     "output_type": "stream",
     "text": [
      "\n",
      "100%|###################################################################################|175/175[00:06<00:00,28.42it/s]"
     ]
    },
    {
     "name": "stdout",
     "output_type": "stream",
     "text": [
      "\u001b[32m[1022 00:06:10 @base.py:285]\u001b[0m Epoch 298 (global_step 65187) finished, time:6.16 seconds.\n",
      "\u001b[32m[1022 00:06:10 @saver.py:79]\u001b[0m Model saved to ../output/Chicago/DATWGAN_22/model\\model-65187.\n",
      "\u001b[32m[1022 00:06:10 @monitor.py:467]\u001b[0m GAN_loss/d_loss: -0.049491\n",
      "\u001b[32m[1022 00:06:10 @monitor.py:467]\u001b[0m GAN_loss/g_loss: 1.9309\n",
      "\u001b[32m[1022 00:06:10 @monitor.py:467]\u001b[0m GAN_loss/gradient_penalty: 0.0065064\n",
      "\u001b[32m[1022 00:06:10 @monitor.py:467]\u001b[0m GAN_loss/gradient_rms: 0.99825\n",
      "\u001b[32m[1022 00:06:10 @monitor.py:467]\u001b[0m GAN_loss/kl_div: 0.068122\n",
      "\u001b[32m[1022 00:06:10 @monitor.py:467]\u001b[0m QueueInput/queue_size: 50\n",
      "\u001b[32m[1022 00:06:10 @base.py:275]\u001b[0m Start Epoch 299 ...\n"
     ]
    },
    {
     "name": "stderr",
     "output_type": "stream",
     "text": [
      "\n",
      "100%|###################################################################################|175/175[00:06<00:00,28.40it/s]"
     ]
    },
    {
     "name": "stdout",
     "output_type": "stream",
     "text": [
      "\u001b[32m[1022 00:06:16 @base.py:285]\u001b[0m Epoch 299 (global_step 65406) finished, time:6.16 seconds.\n",
      "\u001b[32m[1022 00:06:16 @saver.py:79]\u001b[0m Model saved to ../output/Chicago/DATWGAN_22/model\\model-65406.\n",
      "\u001b[32m[1022 00:06:16 @monitor.py:467]\u001b[0m GAN_loss/d_loss: -0.057452\n",
      "\u001b[32m[1022 00:06:16 @monitor.py:467]\u001b[0m GAN_loss/g_loss: 1.9279\n",
      "\u001b[32m[1022 00:06:16 @monitor.py:467]\u001b[0m GAN_loss/gradient_penalty: 0.0065576\n",
      "\u001b[32m[1022 00:06:16 @monitor.py:467]\u001b[0m GAN_loss/gradient_rms: 0.99944\n",
      "\u001b[32m[1022 00:06:16 @monitor.py:467]\u001b[0m GAN_loss/kl_div: 0.066255\n",
      "\u001b[32m[1022 00:06:16 @monitor.py:467]\u001b[0m QueueInput/queue_size: 50\n",
      "\u001b[32m[1022 00:06:16 @base.py:275]\u001b[0m Start Epoch 300 ...\n"
     ]
    },
    {
     "name": "stderr",
     "output_type": "stream",
     "text": [
      "\n",
      "100%|###################################################################################|175/175[00:06<00:00,28.07it/s]"
     ]
    },
    {
     "name": "stdout",
     "output_type": "stream",
     "text": [
      "\u001b[32m[1022 00:06:23 @base.py:285]\u001b[0m Epoch 300 (global_step 65624) finished, time:6.24 seconds.\n",
      "\u001b[32m[1022 00:06:23 @saver.py:79]\u001b[0m Model saved to ../output/Chicago/DATWGAN_22/model\\model-65624.\n",
      "\u001b[32m[1022 00:06:23 @monitor.py:467]\u001b[0m GAN_loss/d_loss: -0.054079\n",
      "\u001b[32m[1022 00:06:23 @monitor.py:467]\u001b[0m GAN_loss/g_loss: 1.914\n",
      "\u001b[32m[1022 00:06:23 @monitor.py:467]\u001b[0m GAN_loss/gradient_penalty: 0.0065937\n",
      "\u001b[32m[1022 00:06:23 @monitor.py:467]\u001b[0m GAN_loss/gradient_rms: 0.99943\n",
      "\u001b[32m[1022 00:06:23 @monitor.py:467]\u001b[0m GAN_loss/kl_div: 0.067344\n",
      "\u001b[32m[1022 00:06:23 @monitor.py:467]\u001b[0m QueueInput/queue_size: 50\n",
      "\u001b[32m[1022 00:06:23 @base.py:289]\u001b[0m Training has finished!\n",
      "WARNING:tensorflow:From D:\\Users\\glede\\anaconda3\\envs\\py37\\lib\\site-packages\\tensorpack\\predict\\config.py:101: The name tf.train.ChiefSessionCreator is deprecated. Please use tf.compat.v1.train.ChiefSessionCreator instead.\n",
      "\n",
      "\u001b[32m[1022 00:06:23 @DATGANModel.py:209]\u001b[0m \u001b[91mCreating cell for age (in-edges: 0)\n"
     ]
    },
    {
     "name": "stderr",
     "output_type": "stream",
     "text": [
      "\n"
     ]
    },
    {
     "name": "stdout",
     "output_type": "stream",
     "text": [
      "\u001b[32m[1022 00:06:23 @DATGANModel.py:209]\u001b[0m \u001b[91mCreating cell for gender (in-edges: 0)\n",
      "\u001b[32m[1022 00:06:23 @DATGANModel.py:209]\u001b[0m \u001b[91mCreating cell for travel_dow (in-edges: 0)\n",
      "\u001b[32m[1022 00:06:23 @DATGANModel.py:209]\u001b[0m \u001b[91mCreating cell for license (in-edges: 1)\n",
      "\u001b[32m[1022 00:06:23 @DATGANModel.py:209]\u001b[0m \u001b[91mCreating cell for education_level (in-edges: 1)\n",
      "\u001b[32m[1022 00:06:23 @DATGANModel.py:209]\u001b[0m \u001b[91mCreating cell for work_status (in-edges: 2)\n",
      "\u001b[32m[1022 00:06:23 @DATGANModel.py:209]\u001b[0m \u001b[91mCreating cell for hh_income (in-edges: 2)\n",
      "\u001b[32m[1022 00:06:23 @DATGANModel.py:209]\u001b[0m \u001b[91mCreating cell for trip_purpose (in-edges: 1)\n",
      "\u001b[32m[1022 00:06:23 @DATGANModel.py:209]\u001b[0m \u001b[91mCreating cell for hh_descr (in-edges: 2)\n",
      "\u001b[32m[1022 00:06:23 @DATGANModel.py:209]\u001b[0m \u001b[91mCreating cell for hh_size (in-edges: 3)\n",
      "\u001b[32m[1022 00:06:23 @DATGANModel.py:209]\u001b[0m \u001b[91mCreating cell for departure_time (in-edges: 1)\n",
      "\u001b[32m[1022 00:06:23 @input_source.py:178]\u001b[0m EnqueueThread QueueInput/input_queue Exited.\n",
      "\u001b[32m[1022 00:06:23 @DATGANModel.py:209]\u001b[0m \u001b[91mCreating cell for distance (in-edges: 1)\n",
      "\u001b[32m[1022 00:06:24 @DATGANModel.py:209]\u001b[0m \u001b[91mCreating cell for hh_vehicles (in-edges: 2)\n",
      "\u001b[32m[1022 00:06:24 @DATGANModel.py:209]\u001b[0m \u001b[91mCreating cell for hh_bikes (in-edges: 2)\n",
      "\u001b[32m[1022 00:06:24 @DATGANModel.py:209]\u001b[0m \u001b[91mCreating cell for choice (in-edges: 7)\n",
      "WARNING:tensorflow:From D:\\Users\\glede\\anaconda3\\envs\\py37\\lib\\site-packages\\tensorpack\\tfutils\\collection.py:45: The name tf.get_collection_ref is deprecated. Please use tf.compat.v1.get_collection_ref instead.\n",
      "\n",
      "\u001b[32m[1022 00:06:24 @sessinit.py:87]\u001b[0m \u001b[5m\u001b[31mWRN\u001b[0m The following variables are in the checkpoint, but not found in the graph: global_step, optimize/beta1_power, optimize/beta2_power\n",
      "WARNING:tensorflow:From D:\\Users\\glede\\anaconda3\\envs\\py37\\lib\\site-packages\\tensorflow_core\\python\\ops\\array_ops.py:1475: where (from tensorflow.python.ops.array_ops) is deprecated and will be removed in a future version.\n",
      "Instructions for updating:\n",
      "Use tf.where in 2.0, which has the same broadcast rule as np.where\n",
      "INFO:tensorflow:Graph was finalized.\n",
      "INFO:tensorflow:Running local_init_op.\n",
      "INFO:tensorflow:Done running local_init_op.\n",
      "\u001b[32m[1022 00:06:25 @sessinit.py:114]\u001b[0m Restoring checkpoint from ../output/Chicago/DATWGAN_22/model\\model-65624 ...\n",
      "INFO:tensorflow:Restoring parameters from ../output/Chicago/DATWGAN_22/model\\model-65624\n"
     ]
    }
   ],
   "source": [
    "test = datgan.fit(df, graph)"
   ]
  },
  {
   "cell_type": "code",
   "execution_count": 12,
   "metadata": {},
   "outputs": [
    {
     "name": "stdout",
     "output_type": "stream",
     "text": [
      "\u001b[32m[1022 00:06:42 @DATGAN.py:347]\u001b[0m Model saved successfully.\n"
     ]
    }
   ],
   "source": [
    "datgan.save('trained', force=True)"
   ]
  },
  {
   "cell_type": "code",
   "execution_count": 13,
   "metadata": {},
   "outputs": [],
   "source": [
    "beepy.beep(6)"
   ]
  }
 ],
 "metadata": {
  "kernelspec": {
   "display_name": "Python 3",
   "language": "python",
   "name": "python3"
  },
  "language_info": {
   "codemirror_mode": {
    "name": "ipython",
    "version": 3
   },
   "file_extension": ".py",
   "mimetype": "text/x-python",
   "name": "python",
   "nbconvert_exporter": "python",
   "pygments_lexer": "ipython3",
   "version": "3.7.9"
  }
 },
 "nbformat": 4,
 "nbformat_minor": 2
}
