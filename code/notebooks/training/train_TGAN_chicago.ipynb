{
 "cells": [
  {
   "cell_type": "code",
   "execution_count": 1,
   "metadata": {},
   "outputs": [],
   "source": [
    "import os\n",
    "os.chdir('../..')"
   ]
  },
  {
   "cell_type": "code",
   "execution_count": 2,
   "metadata": {},
   "outputs": [
    {
     "name": "stdout",
     "output_type": "stream",
     "text": [
      "3.7.9\n"
     ]
    }
   ],
   "source": [
    "from platform import python_version\n",
    "print(python_version())"
   ]
  },
  {
   "cell_type": "code",
   "execution_count": 3,
   "metadata": {},
   "outputs": [
    {
     "name": "stdout",
     "output_type": "stream",
     "text": [
      "WARNING:tensorflow:From D:\\Users\\glede\\anaconda3\\envs\\py37\\lib\\site-packages\\tensorpack\\callbacks\\hooks.py:17: The name tf.train.SessionRunHook is deprecated. Please use tf.estimator.SessionRunHook instead.\n",
      "\n",
      "WARNING:tensorflow:From D:\\Users\\glede\\anaconda3\\envs\\py37\\lib\\site-packages\\tensorpack\\tfutils\\optimizer.py:18: The name tf.train.Optimizer is deprecated. Please use tf.compat.v1.train.Optimizer instead.\n",
      "\n",
      "WARNING:tensorflow:From D:\\Users\\glede\\anaconda3\\envs\\py37\\lib\\site-packages\\tensorpack\\tfutils\\sesscreate.py:20: The name tf.train.SessionCreator is deprecated. Please use tf.compat.v1.train.SessionCreator instead.\n",
      "\n"
     ]
    }
   ],
   "source": [
    "import numpy as np\n",
    "import pandas as pd\n",
    "\n",
    "from tgan.model import TGANModel\n",
    "\n",
    "# For the Python notebook\n",
    "%matplotlib inline\n",
    "%reload_ext autoreload\n",
    "%autoreload 2"
   ]
  },
  {
   "cell_type": "code",
   "execution_count": 4,
   "metadata": {},
   "outputs": [],
   "source": [
    "df = pd.read_csv('../data/Chicago/full.csv')"
   ]
  },
  {
   "cell_type": "code",
   "execution_count": 5,
   "metadata": {},
   "outputs": [
    {
     "data": {
      "text/html": [
       "<div>\n",
       "<style scoped>\n",
       "    .dataframe tbody tr th:only-of-type {\n",
       "        vertical-align: middle;\n",
       "    }\n",
       "\n",
       "    .dataframe tbody tr th {\n",
       "        vertical-align: top;\n",
       "    }\n",
       "\n",
       "    .dataframe thead th {\n",
       "        text-align: right;\n",
       "    }\n",
       "</style>\n",
       "<table border=\"1\" class=\"dataframe\">\n",
       "  <thead>\n",
       "    <tr style=\"text-align: right;\">\n",
       "      <th></th>\n",
       "      <th>choice</th>\n",
       "      <th>travel_dow</th>\n",
       "      <th>trip_purpose</th>\n",
       "      <th>distance</th>\n",
       "      <th>hh_vehicles</th>\n",
       "      <th>hh_size</th>\n",
       "      <th>hh_bikes</th>\n",
       "      <th>hh_descr</th>\n",
       "      <th>hh_income</th>\n",
       "      <th>gender</th>\n",
       "      <th>age</th>\n",
       "      <th>license</th>\n",
       "      <th>education_level</th>\n",
       "      <th>work_status</th>\n",
       "      <th>departure_time</th>\n",
       "    </tr>\n",
       "  </thead>\n",
       "  <tbody>\n",
       "    <tr>\n",
       "      <th>0</th>\n",
       "      <td>drive</td>\n",
       "      <td>7</td>\n",
       "      <td>HOME_OTHER</td>\n",
       "      <td>23.42579</td>\n",
       "      <td>2</td>\n",
       "      <td>2</td>\n",
       "      <td>0</td>\n",
       "      <td>2</td>\n",
       "      <td>6</td>\n",
       "      <td>1</td>\n",
       "      <td>66</td>\n",
       "      <td>1.0</td>\n",
       "      <td>6</td>\n",
       "      <td>FTE</td>\n",
       "      <td>9.333333</td>\n",
       "    </tr>\n",
       "    <tr>\n",
       "      <th>1</th>\n",
       "      <td>drive</td>\n",
       "      <td>7</td>\n",
       "      <td>OTHER</td>\n",
       "      <td>1.71259</td>\n",
       "      <td>2</td>\n",
       "      <td>2</td>\n",
       "      <td>0</td>\n",
       "      <td>2</td>\n",
       "      <td>6</td>\n",
       "      <td>1</td>\n",
       "      <td>66</td>\n",
       "      <td>1.0</td>\n",
       "      <td>6</td>\n",
       "      <td>FTE</td>\n",
       "      <td>12.083333</td>\n",
       "    </tr>\n",
       "    <tr>\n",
       "      <th>2</th>\n",
       "      <td>drive</td>\n",
       "      <td>7</td>\n",
       "      <td>HOME_OTHER</td>\n",
       "      <td>21.77887</td>\n",
       "      <td>2</td>\n",
       "      <td>2</td>\n",
       "      <td>0</td>\n",
       "      <td>2</td>\n",
       "      <td>6</td>\n",
       "      <td>1</td>\n",
       "      <td>66</td>\n",
       "      <td>1.0</td>\n",
       "      <td>6</td>\n",
       "      <td>FTE</td>\n",
       "      <td>15.500000</td>\n",
       "    </tr>\n",
       "    <tr>\n",
       "      <th>3</th>\n",
       "      <td>drive</td>\n",
       "      <td>7</td>\n",
       "      <td>SHOPPING</td>\n",
       "      <td>2.02603</td>\n",
       "      <td>2</td>\n",
       "      <td>2</td>\n",
       "      <td>0</td>\n",
       "      <td>2</td>\n",
       "      <td>6</td>\n",
       "      <td>1</td>\n",
       "      <td>66</td>\n",
       "      <td>1.0</td>\n",
       "      <td>6</td>\n",
       "      <td>FTE</td>\n",
       "      <td>17.500000</td>\n",
       "    </tr>\n",
       "    <tr>\n",
       "      <th>4</th>\n",
       "      <td>drive</td>\n",
       "      <td>7</td>\n",
       "      <td>SHOPPING</td>\n",
       "      <td>0.87691</td>\n",
       "      <td>2</td>\n",
       "      <td>2</td>\n",
       "      <td>0</td>\n",
       "      <td>2</td>\n",
       "      <td>6</td>\n",
       "      <td>1</td>\n",
       "      <td>66</td>\n",
       "      <td>1.0</td>\n",
       "      <td>6</td>\n",
       "      <td>FTE</td>\n",
       "      <td>18.250000</td>\n",
       "    </tr>\n",
       "  </tbody>\n",
       "</table>\n",
       "</div>"
      ],
      "text/plain": [
       "  choice  travel_dow trip_purpose  distance  hh_vehicles  hh_size  hh_bikes  \\\n",
       "0  drive           7   HOME_OTHER  23.42579            2        2         0   \n",
       "1  drive           7        OTHER   1.71259            2        2         0   \n",
       "2  drive           7   HOME_OTHER  21.77887            2        2         0   \n",
       "3  drive           7     SHOPPING   2.02603            2        2         0   \n",
       "4  drive           7     SHOPPING   0.87691            2        2         0   \n",
       "\n",
       "   hh_descr  hh_income  gender  age  license  education_level work_status  \\\n",
       "0         2          6       1   66      1.0                6         FTE   \n",
       "1         2          6       1   66      1.0                6         FTE   \n",
       "2         2          6       1   66      1.0                6         FTE   \n",
       "3         2          6       1   66      1.0                6         FTE   \n",
       "4         2          6       1   66      1.0                6         FTE   \n",
       "\n",
       "   departure_time  \n",
       "0        9.333333  \n",
       "1       12.083333  \n",
       "2       15.500000  \n",
       "3       17.500000  \n",
       "4       18.250000  "
      ]
     },
     "execution_count": 5,
     "metadata": {},
     "output_type": "execute_result"
    }
   ],
   "source": [
    "df.head()"
   ]
  },
  {
   "cell_type": "code",
   "execution_count": 6,
   "metadata": {},
   "outputs": [],
   "source": [
    "continuous_columns = [3, 10, 14]"
   ]
  },
  {
   "cell_type": "code",
   "execution_count": 7,
   "metadata": {},
   "outputs": [],
   "source": [
    "output_folder = './output_TGAN/output/'"
   ]
  },
  {
   "cell_type": "code",
   "execution_count": 8,
   "metadata": {},
   "outputs": [],
   "source": [
    "tgan = TGANModel(continuous_columns, max_epoch=1000, steps_per_epoch=2000, batch_size=200, output=output_folder, gpu=0)"
   ]
  },
  {
   "cell_type": "code",
   "execution_count": 9,
   "metadata": {
    "scrolled": true
   },
   "outputs": [
    {
     "name": "stdout",
     "output_type": "stream",
     "text": [
      "WARNING:tensorflow:From D:\\Users\\glede\\anaconda3\\envs\\py37\\lib\\site-packages\\tensorpack\\graph_builder\\model_desc.py:29: The name tf.get_default_graph is deprecated. Please use tf.compat.v1.get_default_graph instead.\n",
      "\n",
      "WARNING:tensorflow:From D:\\Users\\glede\\anaconda3\\envs\\py37\\lib\\site-packages\\tensorpack\\graph_builder\\model_desc.py:39: The name tf.placeholder is deprecated. Please use tf.compat.v1.placeholder instead.\n",
      "\n",
      "WARNING:tensorflow:From D:\\Users\\glede\\anaconda3\\envs\\py37\\lib\\site-packages\\tensorpack\\input_source\\input_source.py:219: The name tf.FIFOQueue is deprecated. Please use tf.queue.FIFOQueue instead.\n",
      "\n",
      "\u001b[32m[0215 10:50:20 @input_source.py:222]\u001b[0m Setting up the queue 'QueueInput/input_queue' for CPU prefetching ...\n",
      "WARNING:tensorflow:From D:\\Users\\glede\\anaconda3\\envs\\py37\\lib\\site-packages\\tensorpack\\tfutils\\summary.py:237: The name tf.get_variable_scope is deprecated. Please use tf.compat.v1.get_variable_scope instead.\n",
      "\n",
      "WARNING:tensorflow:From D:\\Users\\glede\\anaconda3\\envs\\py37\\lib\\site-packages\\tensorpack\\tfutils\\summary.py:27: The name tf.variable_scope is deprecated. Please use tf.compat.v1.variable_scope instead.\n",
      "\n",
      "WARNING:tensorflow:From D:\\Users\\glede\\anaconda3\\envs\\py37\\lib\\site-packages\\tensorpack\\tfutils\\summary.py:254: The name tf.get_variable is deprecated. Please use tf.compat.v1.get_variable instead.\n",
      "\n",
      "WARNING:tensorflow:From D:\\Users\\glede\\anaconda3\\envs\\py37\\lib\\site-packages\\tensorpack\\tfutils\\summary.py:264: The name tf.summary.scalar is deprecated. Please use tf.compat.v1.summary.scalar instead.\n",
      "\n",
      "WARNING:tensorflow:From D:\\Users\\glede\\anaconda3\\envs\\py37\\lib\\site-packages\\tensorpack\\tfutils\\collection.py:105: The name tf.GraphKeys is deprecated. Please use tf.compat.v1.GraphKeys instead.\n",
      "\n",
      "WARNING:tensorflow:From D:\\Users\\glede\\anaconda3\\envs\\py37\\lib\\site-packages\\tensorpack\\tfutils\\collection.py:33: The name tf.get_collection is deprecated. Please use tf.compat.v1.get_collection instead.\n",
      "\n",
      "WARNING:tensorflow:From D:\\Users\\glede\\anaconda3\\envs\\py37\\lib\\site-packages\\tgan\\model.py:455: The name tf.random_normal is deprecated. Please use tf.random.normal instead.\n",
      "\n",
      "WARNING:tensorflow:From D:\\Users\\glede\\anaconda3\\envs\\py37\\lib\\site-packages\\tgan\\model.py:458: The name tf.placeholder_with_default is deprecated. Please use tf.compat.v1.placeholder_with_default instead.\n",
      "\n",
      "WARNING:tensorflow:From D:\\Users\\glede\\anaconda3\\envs\\py37\\lib\\site-packages\\tgan\\model.py:259: LSTMCell.__init__ (from tensorflow.python.ops.rnn_cell_impl) is deprecated and will be removed in a future version.\n",
      "Instructions for updating:\n",
      "This class is equivalent as tf.keras.layers.LSTMCell, and will be replaced by that in Tensorflow 2.0.\n",
      "WARNING:tensorflow:From D:\\Users\\glede\\anaconda3\\envs\\py37\\lib\\site-packages\\tensorflow_core\\python\\ops\\rnn_cell_impl.py:958: Layer.add_variable (from tensorflow.python.keras.engine.base_layer) is deprecated and will be removed in a future version.\n",
      "Instructions for updating:\n",
      "Please use `layer.add_weight` method instead.\n",
      "WARNING:tensorflow:From D:\\Users\\glede\\anaconda3\\envs\\py37\\lib\\site-packages\\tensorflow_core\\python\\ops\\rnn_cell_impl.py:962: calling Zeros.__init__ (from tensorflow.python.ops.init_ops) with dtype is deprecated and will be removed in a future version.\n",
      "Instructions for updating:\n",
      "Call initializer instance with the dtype argument instead of passing it to the constructor\n",
      "\u001b[32m[0215 10:50:20 @registry.py:126]\u001b[0m gen/LSTM/00/FC input: [200, 100]\n",
      "WARNING:tensorflow:From D:\\Users\\glede\\anaconda3\\envs\\py37\\lib\\site-packages\\tensorpack\\models\\fc.py:57: The name tf.layers.Dense is deprecated. Please use tf.compat.v1.layers.Dense instead.\n",
      "\n",
      "WARNING:tensorflow:From D:\\Users\\glede\\anaconda3\\envs\\py37\\lib\\site-packages\\tensorpack\\models\\fc.py:67: Layer.apply (from tensorflow.python.keras.engine.base_layer) is deprecated and will be removed in a future version.\n",
      "Instructions for updating:\n",
      "Please use `layer.__call__` method instead.\n",
      "\u001b[32m[0215 10:50:20 @registry.py:134]\u001b[0m gen/LSTM/00/FC output: [200, 100]\n",
      "\u001b[32m[0215 10:50:20 @registry.py:126]\u001b[0m gen/LSTM/00/FC2 input: [200, 100]\n",
      "\u001b[32m[0215 10:50:20 @registry.py:134]\u001b[0m gen/LSTM/00/FC2 output: [200, 5]\n",
      "\u001b[32m[0215 10:50:20 @registry.py:126]\u001b[0m gen/LSTM/00/FC3 input: [200, 5]\n",
      "\u001b[32m[0215 10:50:20 @registry.py:134]\u001b[0m gen/LSTM/00/FC3 output: [200, 100]\n",
      "\u001b[32m[0215 10:50:20 @registry.py:126]\u001b[0m gen/LSTM/01/FC input: [200, 100]\n",
      "\u001b[32m[0215 10:50:20 @registry.py:134]\u001b[0m gen/LSTM/01/FC output: [200, 100]\n",
      "\u001b[32m[0215 10:50:20 @registry.py:126]\u001b[0m gen/LSTM/01/FC2 input: [200, 100]\n",
      "\u001b[32m[0215 10:50:20 @registry.py:134]\u001b[0m gen/LSTM/01/FC2 output: [200, 7]\n",
      "\u001b[32m[0215 10:50:20 @registry.py:126]\u001b[0m gen/LSTM/01/FC3 input: [200, 7]\n",
      "\u001b[32m[0215 10:50:20 @registry.py:134]\u001b[0m gen/LSTM/01/FC3 output: [200, 100]\n",
      "\u001b[32m[0215 10:50:20 @registry.py:126]\u001b[0m gen/LSTM/02/FC input: [200, 100]\n",
      "\u001b[32m[0215 10:50:20 @registry.py:134]\u001b[0m gen/LSTM/02/FC output: [200, 100]\n",
      "\u001b[32m[0215 10:50:20 @registry.py:126]\u001b[0m gen/LSTM/02/FC2 input: [200, 100]\n",
      "\u001b[32m[0215 10:50:20 @registry.py:134]\u001b[0m gen/LSTM/02/FC2 output: [200, 7]\n",
      "\u001b[32m[0215 10:50:20 @registry.py:126]\u001b[0m gen/LSTM/02/FC3 input: [200, 7]\n",
      "\u001b[32m[0215 10:50:20 @registry.py:134]\u001b[0m gen/LSTM/02/FC3 output: [200, 100]\n",
      "\u001b[32m[0215 10:50:20 @registry.py:126]\u001b[0m gen/LSTM/03/FC input: [200, 100]\n",
      "\u001b[32m[0215 10:50:20 @registry.py:134]\u001b[0m gen/LSTM/03/FC output: [200, 100]\n",
      "\u001b[32m[0215 10:50:20 @registry.py:126]\u001b[0m gen/LSTM/03/FC2 input: [200, 100]\n",
      "\u001b[32m[0215 10:50:20 @registry.py:134]\u001b[0m gen/LSTM/03/FC2 output: [200, 1]\n",
      "\u001b[32m[0215 10:50:20 @registry.py:126]\u001b[0m gen/LSTM/04/FC input: [200, 100]\n",
      "\u001b[32m[0215 10:50:20 @registry.py:134]\u001b[0m gen/LSTM/04/FC output: [200, 100]\n",
      "\u001b[32m[0215 10:50:20 @registry.py:126]\u001b[0m gen/LSTM/04/FC2 input: [200, 100]\n",
      "\u001b[32m[0215 10:50:20 @registry.py:134]\u001b[0m gen/LSTM/04/FC2 output: [200, 5]\n",
      "\u001b[32m[0215 10:50:20 @registry.py:126]\u001b[0m gen/LSTM/04/FC3 input: [200, 5]\n",
      "\u001b[32m[0215 10:50:20 @registry.py:134]\u001b[0m gen/LSTM/04/FC3 output: [200, 100]\n",
      "\u001b[32m[0215 10:50:20 @registry.py:126]\u001b[0m gen/LSTM/05/FC input: [200, 100]\n",
      "\u001b[32m[0215 10:50:20 @registry.py:134]\u001b[0m gen/LSTM/05/FC output: [200, 100]\n",
      "\u001b[32m[0215 10:50:20 @registry.py:126]\u001b[0m gen/LSTM/05/FC2 input: [200, 100]\n",
      "\u001b[32m[0215 10:50:20 @registry.py:134]\u001b[0m gen/LSTM/05/FC2 output: [200, 9]\n",
      "\u001b[32m[0215 10:50:20 @registry.py:126]\u001b[0m gen/LSTM/05/FC3 input: [200, 9]\n",
      "\u001b[32m[0215 10:50:20 @registry.py:134]\u001b[0m gen/LSTM/05/FC3 output: [200, 100]\n",
      "\u001b[32m[0215 10:50:20 @registry.py:126]\u001b[0m gen/LSTM/06/FC input: [200, 100]\n",
      "\u001b[32m[0215 10:50:20 @registry.py:134]\u001b[0m gen/LSTM/06/FC output: [200, 100]\n",
      "\u001b[32m[0215 10:50:20 @registry.py:126]\u001b[0m gen/LSTM/06/FC2 input: [200, 100]\n",
      "\u001b[32m[0215 10:50:20 @registry.py:134]\u001b[0m gen/LSTM/06/FC2 output: [200, 8]\n",
      "\u001b[32m[0215 10:50:20 @registry.py:126]\u001b[0m gen/LSTM/06/FC3 input: [200, 8]\n",
      "\u001b[32m[0215 10:50:20 @registry.py:134]\u001b[0m gen/LSTM/06/FC3 output: [200, 100]\n",
      "\u001b[32m[0215 10:50:20 @registry.py:126]\u001b[0m gen/LSTM/07/FC input: [200, 100]\n",
      "\u001b[32m[0215 10:50:20 @registry.py:134]\u001b[0m gen/LSTM/07/FC output: [200, 100]\n",
      "\u001b[32m[0215 10:50:20 @registry.py:126]\u001b[0m gen/LSTM/07/FC2 input: [200, 100]\n",
      "\u001b[32m[0215 10:50:20 @registry.py:134]\u001b[0m gen/LSTM/07/FC2 output: [200, 8]\n",
      "\u001b[32m[0215 10:50:20 @registry.py:126]\u001b[0m gen/LSTM/07/FC3 input: [200, 8]\n",
      "\u001b[32m[0215 10:50:20 @registry.py:134]\u001b[0m gen/LSTM/07/FC3 output: [200, 100]\n",
      "\u001b[32m[0215 10:50:20 @registry.py:126]\u001b[0m gen/LSTM/08/FC input: [200, 100]\n",
      "\u001b[32m[0215 10:50:20 @registry.py:134]\u001b[0m gen/LSTM/08/FC output: [200, 100]\n",
      "\u001b[32m[0215 10:50:20 @registry.py:126]\u001b[0m gen/LSTM/08/FC2 input: [200, 100]\n",
      "\u001b[32m[0215 10:50:20 @registry.py:134]\u001b[0m gen/LSTM/08/FC2 output: [200, 3]\n",
      "\u001b[32m[0215 10:50:20 @registry.py:126]\u001b[0m gen/LSTM/08/FC3 input: [200, 3]\n",
      "\u001b[32m[0215 10:50:20 @registry.py:134]\u001b[0m gen/LSTM/08/FC3 output: [200, 100]\n",
      "\u001b[32m[0215 10:50:20 @registry.py:126]\u001b[0m gen/LSTM/09/FC input: [200, 100]\n",
      "\u001b[32m[0215 10:50:21 @registry.py:134]\u001b[0m gen/LSTM/09/FC output: [200, 100]\n",
      "\u001b[32m[0215 10:50:21 @registry.py:126]\u001b[0m gen/LSTM/09/FC2 input: [200, 100]\n",
      "\u001b[32m[0215 10:50:21 @registry.py:134]\u001b[0m gen/LSTM/09/FC2 output: [200, 7]\n",
      "\u001b[32m[0215 10:50:21 @registry.py:126]\u001b[0m gen/LSTM/09/FC3 input: [200, 7]\n",
      "\u001b[32m[0215 10:50:21 @registry.py:134]\u001b[0m gen/LSTM/09/FC3 output: [200, 100]\n"
     ]
    },
    {
     "name": "stdout",
     "output_type": "stream",
     "text": [
      "\u001b[32m[0215 10:50:21 @registry.py:126]\u001b[0m gen/LSTM/10/FC input: [200, 100]\n",
      "\u001b[32m[0215 10:50:21 @registry.py:134]\u001b[0m gen/LSTM/10/FC output: [200, 100]\n",
      "\u001b[32m[0215 10:50:21 @registry.py:126]\u001b[0m gen/LSTM/10/FC2 input: [200, 100]\n",
      "\u001b[32m[0215 10:50:21 @registry.py:134]\u001b[0m gen/LSTM/10/FC2 output: [200, 2]\n",
      "\u001b[32m[0215 10:50:21 @registry.py:126]\u001b[0m gen/LSTM/10/FC3 input: [200, 2]\n",
      "\u001b[32m[0215 10:50:21 @registry.py:134]\u001b[0m gen/LSTM/10/FC3 output: [200, 100]\n",
      "\u001b[32m[0215 10:50:21 @registry.py:126]\u001b[0m gen/LSTM/11/FC input: [200, 100]\n",
      "\u001b[32m[0215 10:50:21 @registry.py:134]\u001b[0m gen/LSTM/11/FC output: [200, 100]\n",
      "\u001b[32m[0215 10:50:21 @registry.py:126]\u001b[0m gen/LSTM/11/FC2 input: [200, 100]\n",
      "\u001b[32m[0215 10:50:21 @registry.py:134]\u001b[0m gen/LSTM/11/FC2 output: [200, 1]\n",
      "\u001b[32m[0215 10:50:21 @registry.py:126]\u001b[0m gen/LSTM/12/FC input: [200, 100]\n",
      "\u001b[32m[0215 10:50:21 @registry.py:134]\u001b[0m gen/LSTM/12/FC output: [200, 100]\n",
      "\u001b[32m[0215 10:50:21 @registry.py:126]\u001b[0m gen/LSTM/12/FC2 input: [200, 100]\n",
      "\u001b[32m[0215 10:50:21 @registry.py:134]\u001b[0m gen/LSTM/12/FC2 output: [200, 5]\n",
      "\u001b[32m[0215 10:50:21 @registry.py:126]\u001b[0m gen/LSTM/12/FC3 input: [200, 5]\n",
      "\u001b[32m[0215 10:50:21 @registry.py:134]\u001b[0m gen/LSTM/12/FC3 output: [200, 100]\n",
      "\u001b[32m[0215 10:50:21 @registry.py:126]\u001b[0m gen/LSTM/13/FC input: [200, 100]\n",
      "\u001b[32m[0215 10:50:21 @registry.py:134]\u001b[0m gen/LSTM/13/FC output: [200, 100]\n",
      "\u001b[32m[0215 10:50:21 @registry.py:126]\u001b[0m gen/LSTM/13/FC2 input: [200, 100]\n",
      "\u001b[32m[0215 10:50:21 @registry.py:134]\u001b[0m gen/LSTM/13/FC2 output: [200, 2]\n",
      "\u001b[32m[0215 10:50:21 @registry.py:126]\u001b[0m gen/LSTM/13/FC3 input: [200, 2]\n",
      "\u001b[32m[0215 10:50:21 @registry.py:134]\u001b[0m gen/LSTM/13/FC3 output: [200, 100]\n",
      "\u001b[32m[0215 10:50:21 @registry.py:126]\u001b[0m gen/LSTM/14/FC input: [200, 100]\n",
      "\u001b[32m[0215 10:50:21 @registry.py:134]\u001b[0m gen/LSTM/14/FC output: [200, 100]\n",
      "\u001b[32m[0215 10:50:21 @registry.py:126]\u001b[0m gen/LSTM/14/FC2 input: [200, 100]\n",
      "\u001b[32m[0215 10:50:21 @registry.py:134]\u001b[0m gen/LSTM/14/FC2 output: [200, 6]\n",
      "\u001b[32m[0215 10:50:21 @registry.py:126]\u001b[0m gen/LSTM/14/FC3 input: [200, 6]\n",
      "\u001b[32m[0215 10:50:21 @registry.py:134]\u001b[0m gen/LSTM/14/FC3 output: [200, 100]\n",
      "\u001b[32m[0215 10:50:21 @registry.py:126]\u001b[0m gen/LSTM/15/FC input: [200, 100]\n",
      "\u001b[32m[0215 10:50:21 @registry.py:134]\u001b[0m gen/LSTM/15/FC output: [200, 100]\n",
      "\u001b[32m[0215 10:50:21 @registry.py:126]\u001b[0m gen/LSTM/15/FC2 input: [200, 100]\n",
      "\u001b[32m[0215 10:50:21 @registry.py:134]\u001b[0m gen/LSTM/15/FC2 output: [200, 8]\n",
      "\u001b[32m[0215 10:50:21 @registry.py:126]\u001b[0m gen/LSTM/15/FC3 input: [200, 8]\n",
      "\u001b[32m[0215 10:50:21 @registry.py:134]\u001b[0m gen/LSTM/15/FC3 output: [200, 100]\n",
      "\u001b[32m[0215 10:50:21 @registry.py:126]\u001b[0m gen/LSTM/16/FC input: [200, 100]\n",
      "\u001b[32m[0215 10:50:21 @registry.py:134]\u001b[0m gen/LSTM/16/FC output: [200, 100]\n",
      "\u001b[32m[0215 10:50:21 @registry.py:126]\u001b[0m gen/LSTM/16/FC2 input: [200, 100]\n",
      "\u001b[32m[0215 10:50:21 @registry.py:134]\u001b[0m gen/LSTM/16/FC2 output: [200, 1]\n",
      "\u001b[32m[0215 10:50:21 @registry.py:126]\u001b[0m gen/LSTM/17/FC input: [200, 100]\n",
      "\u001b[32m[0215 10:50:21 @registry.py:134]\u001b[0m gen/LSTM/17/FC output: [200, 100]\n",
      "\u001b[32m[0215 10:50:21 @registry.py:126]\u001b[0m gen/LSTM/17/FC2 input: [200, 100]\n",
      "\u001b[32m[0215 10:50:21 @registry.py:134]\u001b[0m gen/LSTM/17/FC2 output: [200, 5]\n",
      "\u001b[32m[0215 10:50:21 @registry.py:126]\u001b[0m gen/LSTM/17/FC3 input: [200, 5]\n",
      "\u001b[32m[0215 10:50:21 @registry.py:134]\u001b[0m gen/LSTM/17/FC3 output: [200, 100]\n",
      "WARNING:tensorflow:From D:\\Users\\glede\\anaconda3\\envs\\py37\\lib\\site-packages\\tgan\\model.py:494: The name tf.random_uniform is deprecated. Please use tf.random.uniform instead.\n",
      "\n",
      "WARNING:tensorflow:From D:\\Users\\glede\\anaconda3\\envs\\py37\\lib\\site-packages\\tgan\\model.py:443: The name tf.log is deprecated. Please use tf.math.log instead.\n",
      "\n",
      "\u001b[32m[0215 10:50:21 @registry.py:126]\u001b[0m discrim/dis_fc0/fc input: [200, 90]\n",
      "\u001b[32m[0215 10:50:21 @registry.py:134]\u001b[0m discrim/dis_fc0/fc output: [200, 100]\n",
      "\u001b[32m[0215 10:50:21 @registry.py:126]\u001b[0m discrim/dis_fc0/fc_diversity input: [200, 100]\n",
      "\u001b[32m[0215 10:50:21 @registry.py:134]\u001b[0m discrim/dis_fc0/fc_diversity output: [200, 100]\n",
      "WARNING:tensorflow:From D:\\Users\\glede\\anaconda3\\envs\\py37\\lib\\site-packages\\tensorpack\\models\\batch_norm.py:204: The name tf.layers.BatchNormalization is deprecated. Please use tf.compat.v1.layers.BatchNormalization instead.\n",
      "\n",
      "WARNING:tensorflow:From D:\\Users\\glede\\anaconda3\\envs\\py37\\lib\\site-packages\\tensorpack\\models\\batch_norm.py:212: The name tf.add_to_collection is deprecated. Please use tf.compat.v1.add_to_collection instead.\n",
      "\n",
      "\u001b[32m[0215 10:50:21 @registry.py:126]\u001b[0m discrim/dis_fc_top input: [200, 110]\n",
      "\u001b[32m[0215 10:50:21 @registry.py:134]\u001b[0m discrim/dis_fc_top output: [200, 1]\n",
      "WARNING:tensorflow:From D:\\Users\\glede\\anaconda3\\envs\\py37\\lib\\site-packages\\tgan\\model.py:118: The name tf.summary.histogram is deprecated. Please use tf.compat.v1.summary.histogram instead.\n",
      "\n",
      "WARNING:tensorflow:From D:\\Users\\glede\\anaconda3\\envs\\py37\\lib\\site-packages\\tensorflow_core\\python\\ops\\nn_impl.py:183: where (from tensorflow.python.ops.array_ops) is deprecated and will be removed in a future version.\n",
      "Instructions for updating:\n",
      "Use tf.where in 2.0, which has the same broadcast rule as np.where\n",
      "WARNING:tensorflow:\n",
      "The TensorFlow contrib module will not be included in TensorFlow 2.0.\n",
      "For more information, please see:\n",
      "  * https://github.com/tensorflow/community/blob/master/rfcs/20180907-contrib-sunset.md\n",
      "  * https://github.com/tensorflow/addons\n",
      "  * https://github.com/tensorflow/io (for I/O related ops)\n",
      "If you depend on functionality not listed there, please file an issue.\n",
      "\n",
      "WARNING:tensorflow:From D:\\Users\\glede\\anaconda3\\envs\\py37\\lib\\site-packages\\tgan\\model.py:551: The name tf.train.AdamOptimizer is deprecated. Please use tf.compat.v1.train.AdamOptimizer instead.\n",
      "\n",
      "WARNING:tensorflow:From D:\\Users\\glede\\anaconda3\\envs\\py37\\lib\\site-packages\\tensorpack\\tfutils\\varmanip.py:178: The name tf.gfile.Exists is deprecated. Please use tf.io.gfile.exists instead.\n",
      "\n",
      "\u001b[32m[0215 10:50:25 @logger.py:83]\u001b[0m Existing log file './output_TGAN/output/logs\\log.log' backuped to './output_TGAN/output/logs\\log.log.0215-105025'\n",
      "\u001b[32m[0215 10:50:25 @logger.py:90]\u001b[0m Argv: D:\\Users\\glede\\anaconda3\\envs\\py37\\lib\\site-packages\\ipykernel_launcher.py -f C:\\Users\\glede\\AppData\\Roaming\\jupyter\\runtime\\kernel-2673f683-12a2-4ee3-90a0-26288c4be44f.json\n",
      "WARNING:tensorflow:From D:\\Users\\glede\\anaconda3\\envs\\py37\\lib\\site-packages\\tensorpack\\callbacks\\saver.py:43: The name tf.gfile.IsDirectory is deprecated. Please use tf.io.gfile.isdir instead.\n",
      "\n",
      "WARNING:tensorflow:From D:\\Users\\glede\\anaconda3\\envs\\py37\\lib\\site-packages\\tensorpack\\tfutils\\common.py:41: The name tf.ConfigProto is deprecated. Please use tf.compat.v1.ConfigProto instead.\n",
      "\n",
      "\u001b[32m[0215 10:50:25 @model_utils.py:67]\u001b[0m \u001b[36mList of Trainable Variables: \n",
      "\u001b[0mname                              shape         #elements\n",
      "--------------------------------  ----------  -----------\n",
      "gen/LSTM/go:0                     [1, 100]            100\n",
      "gen/LSTM/lstm_cell/kernel:0       [500, 400]       200000\n",
      "gen/LSTM/lstm_cell/bias:0         [400]               400\n",
      "gen/LSTM/00/FC/W:0                [100, 100]        10000\n",
      "gen/LSTM/00/FC/b:0                [100]               100\n",
      "gen/LSTM/00/FC2/W:0               [100, 5]            500\n",
      "gen/LSTM/00/FC2/b:0               [5]                   5\n",
      "gen/LSTM/00/FC3/W:0               [5, 100]            500\n",
      "gen/LSTM/00/FC3/b:0               [100]               100\n",
      "gen/LSTM/00/attw:0                [1, 1, 1]             1\n",
      "gen/LSTM/01/FC/W:0                [100, 100]        10000\n",
      "gen/LSTM/01/FC/b:0                [100]               100\n",
      "gen/LSTM/01/FC2/W:0               [100, 7]            700\n",
      "gen/LSTM/01/FC2/b:0               [7]                   7\n",
      "gen/LSTM/01/FC3/W:0               [7, 100]            700\n",
      "gen/LSTM/01/FC3/b:0               [100]               100\n",
      "gen/LSTM/01/attw:0                [2, 1, 1]             2\n",
      "gen/LSTM/02/FC/W:0                [100, 100]        10000\n",
      "gen/LSTM/02/FC/b:0                [100]               100\n",
      "gen/LSTM/02/FC2/W:0               [100, 7]            700\n",
      "gen/LSTM/02/FC2/b:0               [7]                   7\n",
      "gen/LSTM/02/FC3/W:0               [7, 100]            700\n",
      "gen/LSTM/02/FC3/b:0               [100]               100\n",
      "gen/LSTM/02/attw:0                [3, 1, 1]             3\n",
      "gen/LSTM/03/FC/W:0                [100, 100]        10000\n",
      "gen/LSTM/03/FC/b:0                [100]               100\n",
      "gen/LSTM/03/FC2/W:0               [100, 1]            100\n",
      "gen/LSTM/03/FC2/b:0               [1]                   1\n",
      "gen/LSTM/03/attw:0                [4, 1, 1]             4\n",
      "gen/LSTM/04/FC/W:0                [100, 100]        10000\n",
      "gen/LSTM/04/FC/b:0                [100]               100\n",
      "gen/LSTM/04/FC2/W:0               [100, 5]            500\n",
      "gen/LSTM/04/FC2/b:0               [5]                   5\n",
      "gen/LSTM/04/FC3/W:0               [5, 100]            500\n",
      "gen/LSTM/04/FC3/b:0               [100]               100\n",
      "gen/LSTM/04/attw:0                [5, 1, 1]             5\n",
      "gen/LSTM/05/FC/W:0                [100, 100]        10000\n",
      "gen/LSTM/05/FC/b:0                [100]               100\n",
      "gen/LSTM/05/FC2/W:0               [100, 9]            900\n",
      "gen/LSTM/05/FC2/b:0               [9]                   9\n",
      "gen/LSTM/05/FC3/W:0               [9, 100]            900\n",
      "gen/LSTM/05/FC3/b:0               [100]               100\n",
      "gen/LSTM/05/attw:0                [6, 1, 1]             6\n",
      "gen/LSTM/06/FC/W:0                [100, 100]        10000\n",
      "gen/LSTM/06/FC/b:0                [100]               100\n",
      "gen/LSTM/06/FC2/W:0               [100, 8]            800\n",
      "gen/LSTM/06/FC2/b:0               [8]                   8\n",
      "gen/LSTM/06/FC3/W:0               [8, 100]            800\n",
      "gen/LSTM/06/FC3/b:0               [100]               100\n",
      "gen/LSTM/06/attw:0                [7, 1, 1]             7\n",
      "gen/LSTM/07/FC/W:0                [100, 100]        10000\n",
      "gen/LSTM/07/FC/b:0                [100]               100\n",
      "gen/LSTM/07/FC2/W:0               [100, 8]            800\n",
      "gen/LSTM/07/FC2/b:0               [8]                   8\n",
      "gen/LSTM/07/FC3/W:0               [8, 100]            800\n",
      "gen/LSTM/07/FC3/b:0               [100]               100\n",
      "gen/LSTM/07/attw:0                [8, 1, 1]             8\n",
      "gen/LSTM/08/FC/W:0                [100, 100]        10000\n",
      "gen/LSTM/08/FC/b:0                [100]               100\n",
      "gen/LSTM/08/FC2/W:0               [100, 3]            300\n",
      "gen/LSTM/08/FC2/b:0               [3]                   3\n",
      "gen/LSTM/08/FC3/W:0               [3, 100]            300\n",
      "gen/LSTM/08/FC3/b:0               [100]               100\n",
      "gen/LSTM/08/attw:0                [9, 1, 1]             9\n",
      "gen/LSTM/09/FC/W:0                [100, 100]        10000\n",
      "gen/LSTM/09/FC/b:0                [100]               100\n",
      "gen/LSTM/09/FC2/W:0               [100, 7]            700\n",
      "gen/LSTM/09/FC2/b:0               [7]                   7\n",
      "gen/LSTM/09/FC3/W:0               [7, 100]            700\n",
      "gen/LSTM/09/FC3/b:0               [100]               100\n",
      "gen/LSTM/09/attw:0                [10, 1, 1]           10\n",
      "gen/LSTM/10/FC/W:0                [100, 100]        10000\n",
      "gen/LSTM/10/FC/b:0                [100]               100\n",
      "gen/LSTM/10/FC2/W:0               [100, 2]            200\n",
      "gen/LSTM/10/FC2/b:0               [2]                   2\n",
      "gen/LSTM/10/FC3/W:0               [2, 100]            200\n",
      "gen/LSTM/10/FC3/b:0               [100]               100\n",
      "gen/LSTM/10/attw:0                [11, 1, 1]           11\n",
      "gen/LSTM/11/FC/W:0                [100, 100]        10000\n",
      "gen/LSTM/11/FC/b:0                [100]               100\n",
      "gen/LSTM/11/FC2/W:0               [100, 1]            100\n",
      "gen/LSTM/11/FC2/b:0               [1]                   1\n",
      "gen/LSTM/11/attw:0                [12, 1, 1]           12\n",
      "gen/LSTM/12/FC/W:0                [100, 100]        10000\n",
      "gen/LSTM/12/FC/b:0                [100]               100\n",
      "gen/LSTM/12/FC2/W:0               [100, 5]            500\n",
      "gen/LSTM/12/FC2/b:0               [5]                   5\n",
      "gen/LSTM/12/FC3/W:0               [5, 100]            500\n",
      "gen/LSTM/12/FC3/b:0               [100]               100\n",
      "gen/LSTM/12/attw:0                [13, 1, 1]           13\n",
      "gen/LSTM/13/FC/W:0                [100, 100]        10000\n",
      "gen/LSTM/13/FC/b:0                [100]               100\n",
      "gen/LSTM/13/FC2/W:0               [100, 2]            200\n",
      "gen/LSTM/13/FC2/b:0               [2]                   2\n",
      "gen/LSTM/13/FC3/W:0               [2, 100]            200\n",
      "gen/LSTM/13/FC3/b:0               [100]               100\n",
      "gen/LSTM/13/attw:0                [14, 1, 1]           14\n",
      "gen/LSTM/14/FC/W:0                [100, 100]        10000\n",
      "gen/LSTM/14/FC/b:0                [100]               100\n",
      "gen/LSTM/14/FC2/W:0               [100, 6]            600\n",
      "gen/LSTM/14/FC2/b:0               [6]                   6\n",
      "gen/LSTM/14/FC3/W:0               [6, 100]            600\n",
      "gen/LSTM/14/FC3/b:0               [100]               100\n",
      "gen/LSTM/14/attw:0                [15, 1, 1]           15\n",
      "gen/LSTM/15/FC/W:0                [100, 100]        10000\n",
      "gen/LSTM/15/FC/b:0                [100]               100\n",
      "gen/LSTM/15/FC2/W:0               [100, 8]            800\n",
      "gen/LSTM/15/FC2/b:0               [8]                   8\n",
      "gen/LSTM/15/FC3/W:0               [8, 100]            800\n",
      "gen/LSTM/15/FC3/b:0               [100]               100\n",
      "gen/LSTM/15/attw:0                [16, 1, 1]           16\n",
      "gen/LSTM/16/FC/W:0                [100, 100]        10000\n",
      "gen/LSTM/16/FC/b:0                [100]               100\n",
      "gen/LSTM/16/FC2/W:0               [100, 1]            100\n",
      "gen/LSTM/16/FC2/b:0               [1]                   1\n",
      "gen/LSTM/16/attw:0                [17, 1, 1]           17\n",
      "gen/LSTM/17/FC/W:0                [100, 100]        10000\n",
      "gen/LSTM/17/FC/b:0                [100]               100\n",
      "gen/LSTM/17/FC2/W:0               [100, 5]            500\n",
      "gen/LSTM/17/FC2/b:0               [5]                   5\n",
      "gen/LSTM/17/FC3/W:0               [5, 100]            500\n",
      "gen/LSTM/17/FC3/b:0               [100]               100\n",
      "gen/LSTM/17/attw:0                [18, 1, 1]           18\n",
      "discrim/dis_fc0/fc/W:0            [90, 100]          9000\n",
      "discrim/dis_fc0/fc/b:0            [100]               100\n",
      "discrim/dis_fc0/fc_diversity/W:0  [100, 100]        10000\n",
      "discrim/dis_fc0/fc_diversity/b:0  [100]               100\n",
      "discrim/dis_fc0/bn/beta:0         [110]               110\n",
      "discrim/dis_fc_top/W:0            [110, 1]            110\n",
      "discrim/dis_fc_top/b:0            [1]                   1\u001b[36m\n",
      "Number of trainable variables: 130\n",
      "Number of parameters (elements): 421182\n",
      "Storage space needed for all trainable variables: 1.61MB\u001b[0m\n"
     ]
    },
    {
     "name": "stdout",
     "output_type": "stream",
     "text": [
      "\u001b[32m[0215 10:50:25 @base.py:209]\u001b[0m Setup callbacks graph ...\n",
      "WARNING:tensorflow:From D:\\Users\\glede\\anaconda3\\envs\\py37\\lib\\site-packages\\tensorpack\\callbacks\\graph.py:54: The name tf.train.SessionRunArgs is deprecated. Please use tf.estimator.SessionRunArgs instead.\n",
      "\n",
      "WARNING:tensorflow:From D:\\Users\\glede\\anaconda3\\envs\\py37\\lib\\site-packages\\tensorpack\\tfutils\\common.py:75: The name tf.VariableScope is deprecated. Please use tf.compat.v1.VariableScope instead.\n",
      "\n",
      "WARNING:tensorflow:From D:\\Users\\glede\\anaconda3\\envs\\py37\\lib\\site-packages\\tensorpack\\tfutils\\common.py:77: The name tf.train.get_or_create_global_step is deprecated. Please use tf.compat.v1.train.get_or_create_global_step instead.\n",
      "\n",
      "WARNING:tensorflow:From D:\\Users\\glede\\anaconda3\\envs\\py37\\lib\\site-packages\\tensorpack\\callbacks\\steps.py:117: The name tf.assign_add is deprecated. Please use tf.compat.v1.assign_add instead.\n",
      "\n",
      "WARNING:tensorflow:From D:\\Users\\glede\\anaconda3\\envs\\py37\\lib\\site-packages\\tensorpack\\callbacks\\saver.py:55: The name tf.train.Saver is deprecated. Please use tf.compat.v1.train.Saver instead.\n",
      "\n",
      "WARNING:tensorflow:From D:\\Users\\glede\\anaconda3\\envs\\py37\\lib\\site-packages\\tensorpack\\callbacks\\saver.py:59: The name tf.train.SaverDef is deprecated. Please use tf.compat.v1.train.SaverDef instead.\n",
      "\n",
      "\u001b[32m[0215 10:50:25 @summary.py:46]\u001b[0m [MovingAverageSummary] 6 operations in collection 'MOVING_SUMMARY_OPS' will be run with session hooks.\n",
      "\u001b[32m[0215 10:50:25 @summary.py:93]\u001b[0m Summarizing collection 'summaries' of size 9.\n",
      "WARNING:tensorflow:From D:\\Users\\glede\\anaconda3\\envs\\py37\\lib\\site-packages\\tensorpack\\callbacks\\summary.py:94: The name tf.summary.merge_all is deprecated. Please use tf.compat.v1.summary.merge_all instead.\n",
      "\n",
      "\u001b[32m[0215 10:50:25 @graph.py:98]\u001b[0m Applying collection UPDATE_OPS of 4 ops.\n",
      "WARNING:tensorflow:From D:\\Users\\glede\\anaconda3\\envs\\py37\\lib\\site-packages\\tensorpack\\callbacks\\monitor.py:261: The name tf.summary.FileWriter is deprecated. Please use tf.compat.v1.summary.FileWriter instead.\n",
      "\n",
      "WARNING:tensorflow:From D:\\Users\\glede\\anaconda3\\envs\\py37\\lib\\site-packages\\tensorpack\\tfutils\\sessinit.py:120: The name tf.train.NewCheckpointReader is deprecated. Please use tf.compat.v1.train.NewCheckpointReader instead.\n",
      "\n",
      "WARNING:tensorflow:From D:\\Users\\glede\\anaconda3\\envs\\py37\\lib\\site-packages\\tensorpack\\tfutils\\sessinit.py:127: The name tf.global_variables is deprecated. Please use tf.compat.v1.global_variables instead.\n",
      "\n",
      "\u001b[32m[0215 10:50:26 @base.py:230]\u001b[0m Creating the session ...\n",
      "WARNING:tensorflow:From D:\\Users\\glede\\anaconda3\\envs\\py37\\lib\\site-packages\\tensorpack\\tfutils\\sesscreate.py:42: The name tf.Session is deprecated. Please use tf.compat.v1.Session instead.\n",
      "\n",
      "WARNING:tensorflow:From D:\\Users\\glede\\anaconda3\\envs\\py37\\lib\\site-packages\\tensorpack\\tfutils\\sesscreate.py:71: The name tf.global_variables_initializer is deprecated. Please use tf.compat.v1.global_variables_initializer instead.\n",
      "\n",
      "WARNING:tensorflow:From D:\\Users\\glede\\anaconda3\\envs\\py37\\lib\\site-packages\\tensorpack\\tfutils\\sesscreate.py:62: get_backward_walk_ops (from tensorflow.contrib.graph_editor.select) is deprecated and will be removed after 2019-06-06.\n",
      "Instructions for updating:\n",
      "Please use tensorflow.python.ops.op_selector.get_backward_walk_ops.\n",
      "WARNING:tensorflow:From D:\\Users\\glede\\anaconda3\\envs\\py37\\lib\\site-packages\\tensorpack\\tfutils\\sesscreate.py:72: The name tf.local_variables_initializer is deprecated. Please use tf.compat.v1.local_variables_initializer instead.\n",
      "\n",
      "WARNING:tensorflow:From D:\\Users\\glede\\anaconda3\\envs\\py37\\lib\\site-packages\\tensorpack\\tfutils\\sesscreate.py:73: The name tf.tables_initializer is deprecated. Please use tf.compat.v1.tables_initializer instead.\n",
      "\n",
      "WARNING:tensorflow:From D:\\Users\\glede\\anaconda3\\envs\\py37\\lib\\site-packages\\tensorpack\\train\\base.py:254: The name tf.train.MonitoredSession is deprecated. Please use tf.compat.v1.train.MonitoredSession instead.\n",
      "\n",
      "\u001b[32m[0215 10:50:33 @base.py:236]\u001b[0m Initializing the session ...\n",
      "\u001b[32m[0215 10:50:33 @sessinit.py:114]\u001b[0m Restoring checkpoint from ./output_TGAN/output/model\\model-1184000 ...\n",
      "INFO:tensorflow:Restoring parameters from ./output_TGAN/output/model\\model-1184000\n",
      "\u001b[32m[0215 10:50:33 @base.py:243]\u001b[0m Graph Finalized.\n",
      "WARNING:tensorflow:From D:\\Users\\glede\\anaconda3\\envs\\py37\\lib\\site-packages\\tensorpack\\tfutils\\common.py:89: The name tf.train.global_step is deprecated. Please use tf.compat.v1.train.global_step instead.\n",
      "\n",
      "WARNING:tensorflow:From D:\\Users\\glede\\anaconda3\\envs\\py37\\lib\\site-packages\\tensorpack\\tfutils\\common.py:90: The name tf.get_default_session is deprecated. Please use tf.compat.v1.get_default_session instead.\n",
      "\n",
      "\u001b[32m[0215 10:50:34 @concurrency.py:38]\u001b[0m Starting EnqueueThread QueueInput/input_queue ...\n",
      "\u001b[32m[0215 10:50:34 @steps.py:124]\u001b[0m Start training with global_step=1184000\n",
      "\u001b[32m[0215 10:50:34 @monitor.py:347]\u001b[0m Found existing JSON inside ./output_TGAN/output/logs, will append to it.\n",
      "\u001b[32m[0215 10:50:34 @base.py:275]\u001b[0m Start Epoch 593 ...\n"
     ]
    },
    {
     "name": "stderr",
     "output_type": "stream",
     "text": [
      " 99%|################################################################################ |1976/2000[00:35<00:00,58.10it/s]"
     ]
    },
    {
     "name": "stdout",
     "output_type": "stream",
     "text": [
      "WARNING:tensorflow:From D:\\Users\\glede\\anaconda3\\envs\\py37\\lib\\site-packages\\tensorpack\\callbacks\\monitor.py:148: The name tf.Summary is deprecated. Please use tf.compat.v1.Summary instead.\n",
      "\n"
     ]
    },
    {
     "name": "stderr",
     "output_type": "stream",
     "text": [
      "\r",
      "100%|#################################################################################|2000/2000[00:37<00:00,52.79it/s]"
     ]
    },
    {
     "name": "stdout",
     "output_type": "stream",
     "text": [
      "\u001b[32m[0215 10:51:12 @base.py:285]\u001b[0m Epoch 593 (global_step 1186000) finished, time:37.9 seconds.\n",
      "WARNING:tensorflow:From D:\\Users\\glede\\anaconda3\\envs\\py37\\lib\\site-packages\\tensorpack\\callbacks\\saver.py:77: The name tf.train.get_global_step is deprecated. Please use tf.compat.v1.train.get_global_step instead.\n",
      "\n"
     ]
    },
    {
     "name": "stderr",
     "output_type": "stream",
     "text": [
      "\n"
     ]
    },
    {
     "name": "stdout",
     "output_type": "stream",
     "text": [
      "\u001b[32m[0215 10:51:12 @saver.py:79]\u001b[0m Model saved to ./output_TGAN/output/model\\model-1186000.\n",
      "\u001b[32m[0215 10:51:12 @monitor.py:467]\u001b[0m GAN_loss/discrim/accuracy_fake: 0.845\n",
      "\u001b[32m[0215 10:51:12 @monitor.py:467]\u001b[0m GAN_loss/discrim/accuracy_real: 0.175\n",
      "\u001b[32m[0215 10:51:12 @monitor.py:467]\u001b[0m GAN_loss/discrim/loss: 0.64378\n",
      "\u001b[32m[0215 10:51:12 @monitor.py:467]\u001b[0m GAN_loss/gen/final-g-loss: 1.1269\n",
      "\u001b[32m[0215 10:51:12 @monitor.py:467]\u001b[0m GAN_loss/gen/klloss: 0.11887\n",
      "\u001b[32m[0215 10:51:12 @monitor.py:467]\u001b[0m GAN_loss/gen/loss: 1.0081\n",
      "\u001b[32m[0215 10:51:12 @monitor.py:467]\u001b[0m QueueInput/queue_size: 50\n",
      "\u001b[32m[0215 10:51:12 @base.py:275]\u001b[0m Start Epoch 594 ...\n"
     ]
    },
    {
     "name": "stderr",
     "output_type": "stream",
     "text": [
      "100%|#################################################################################|2000/2000[00:31<00:00,63.11it/s]"
     ]
    },
    {
     "name": "stdout",
     "output_type": "stream",
     "text": [
      "\u001b[32m[0215 10:51:44 @base.py:285]\u001b[0m Epoch 594 (global_step 1188000) finished, time:31.7 seconds.\n",
      "\u001b[32m[0215 10:51:44 @saver.py:79]\u001b[0m Model saved to ./output_TGAN/output/model\\model-1188000.\n",
      "\u001b[32m[0215 10:51:44 @monitor.py:467]\u001b[0m GAN_loss/discrim/accuracy_fake: 0.915\n",
      "\u001b[32m[0215 10:51:44 @monitor.py:467]\u001b[0m GAN_loss/discrim/accuracy_real: 0.1\n",
      "\u001b[32m[0215 10:51:44 @monitor.py:467]\u001b[0m GAN_loss/discrim/loss: 0.65291\n",
      "\u001b[32m[0215 10:51:44 @monitor.py:467]\u001b[0m GAN_loss/gen/final-g-loss: 1.1121\n",
      "\u001b[32m[0215 10:51:44 @monitor.py:467]\u001b[0m GAN_loss/gen/klloss: 0.10518\n",
      "\u001b[32m[0215 10:51:44 @monitor.py:467]\u001b[0m GAN_loss/gen/loss: 1.007\n",
      "\u001b[32m[0215 10:51:44 @monitor.py:467]\u001b[0m QueueInput/queue_size: 50\n",
      "\u001b[32m[0215 10:51:44 @base.py:275]\u001b[0m Start Epoch 595 ...\n"
     ]
    },
    {
     "name": "stderr",
     "output_type": "stream",
     "text": [
      "\n",
      "100%|#################################################################################|2000/2000[00:31<00:00,64.41it/s]"
     ]
    },
    {
     "name": "stdout",
     "output_type": "stream",
     "text": [
      "\u001b[32m[0215 10:52:15 @base.py:285]\u001b[0m Epoch 595 (global_step 1190000) finished, time:31.1 seconds.\n",
      "\u001b[32m[0215 10:52:15 @saver.py:79]\u001b[0m Model saved to ./output_TGAN/output/model\\model-1190000.\n",
      "\u001b[32m[0215 10:52:15 @monitor.py:467]\u001b[0m GAN_loss/discrim/accuracy_fake: 0.935\n",
      "\u001b[32m[0215 10:52:15 @monitor.py:467]\u001b[0m GAN_loss/discrim/accuracy_real: 0.115\n",
      "\u001b[32m[0215 10:52:15 @monitor.py:467]\u001b[0m GAN_loss/discrim/loss: 0.65172\n",
      "\u001b[32m[0215 10:52:15 @monitor.py:467]\u001b[0m GAN_loss/gen/final-g-loss: 1.0952\n",
      "\u001b[32m[0215 10:52:15 @monitor.py:467]\u001b[0m GAN_loss/gen/klloss: 0.097324\n",
      "\u001b[32m[0215 10:52:15 @monitor.py:467]\u001b[0m GAN_loss/gen/loss: 0.99783\n",
      "\u001b[32m[0215 10:52:15 @monitor.py:467]\u001b[0m QueueInput/queue_size: 50\n",
      "\u001b[32m[0215 10:52:15 @base.py:275]\u001b[0m Start Epoch 596 ...\n"
     ]
    },
    {
     "name": "stderr",
     "output_type": "stream",
     "text": [
      "\n",
      "100%|#################################################################################|2000/2000[00:31<00:00,64.37it/s]"
     ]
    },
    {
     "name": "stdout",
     "output_type": "stream",
     "text": [
      "\u001b[32m[0215 10:52:47 @base.py:285]\u001b[0m Epoch 596 (global_step 1192000) finished, time:31.1 seconds.\n",
      "\u001b[32m[0215 10:52:47 @saver.py:79]\u001b[0m Model saved to ./output_TGAN/output/model\\model-1192000.\n",
      "\u001b[32m[0215 10:52:47 @monitor.py:467]\u001b[0m GAN_loss/discrim/accuracy_fake: 0.92\n",
      "\u001b[32m[0215 10:52:47 @monitor.py:467]\u001b[0m GAN_loss/discrim/accuracy_real: 0.125\n",
      "\u001b[32m[0215 10:52:47 @monitor.py:467]\u001b[0m GAN_loss/discrim/loss: 0.6474\n",
      "\u001b[32m[0215 10:52:47 @monitor.py:467]\u001b[0m GAN_loss/gen/final-g-loss: 1.1035\n",
      "\u001b[32m[0215 10:52:47 @monitor.py:467]\u001b[0m GAN_loss/gen/klloss: 0.10648\n",
      "\u001b[32m[0215 10:52:47 @monitor.py:467]\u001b[0m GAN_loss/gen/loss: 0.99706\n",
      "\u001b[32m[0215 10:52:47 @monitor.py:467]\u001b[0m QueueInput/queue_size: 50\n",
      "\u001b[32m[0215 10:52:47 @base.py:275]\u001b[0m Start Epoch 597 ...\n"
     ]
    },
    {
     "name": "stderr",
     "output_type": "stream",
     "text": [
      "\n",
      "100%|#################################################################################|2000/2000[00:31<00:00,64.27it/s]"
     ]
    },
    {
     "name": "stdout",
     "output_type": "stream",
     "text": [
      "\u001b[32m[0215 10:53:18 @base.py:285]\u001b[0m Epoch 597 (global_step 1194000) finished, time:31.1 seconds.\n",
      "\u001b[32m[0215 10:53:18 @saver.py:79]\u001b[0m Model saved to ./output_TGAN/output/model\\model-1194000.\n",
      "\u001b[32m[0215 10:53:18 @monitor.py:467]\u001b[0m GAN_loss/discrim/accuracy_fake: 0.935\n",
      "\u001b[32m[0215 10:53:18 @monitor.py:467]\u001b[0m GAN_loss/discrim/accuracy_real: 0.115\n",
      "\u001b[32m[0215 10:53:18 @monitor.py:467]\u001b[0m GAN_loss/discrim/loss: 0.64169\n",
      "\u001b[32m[0215 10:53:18 @monitor.py:467]\u001b[0m GAN_loss/gen/final-g-loss: 1.0958\n",
      "\u001b[32m[0215 10:53:18 @monitor.py:467]\u001b[0m GAN_loss/gen/klloss: 0.092233\n",
      "\u001b[32m[0215 10:53:18 @monitor.py:467]\u001b[0m GAN_loss/gen/loss: 1.0035\n",
      "\u001b[32m[0215 10:53:18 @monitor.py:467]\u001b[0m QueueInput/queue_size: 50\n",
      "\u001b[32m[0215 10:53:18 @base.py:275]\u001b[0m Start Epoch 598 ...\n"
     ]
    },
    {
     "name": "stderr",
     "output_type": "stream",
     "text": [
      "\n",
      "100%|#################################################################################|2000/2000[00:31<00:00,64.19it/s]"
     ]
    },
    {
     "name": "stdout",
     "output_type": "stream",
     "text": [
      "\u001b[32m[0215 10:53:49 @base.py:285]\u001b[0m Epoch 598 (global_step 1196000) finished, time:31.2 seconds.\n",
      "\u001b[32m[0215 10:53:49 @saver.py:79]\u001b[0m Model saved to ./output_TGAN/output/model\\model-1196000.\n",
      "\u001b[32m[0215 10:53:49 @monitor.py:467]\u001b[0m GAN_loss/discrim/accuracy_fake: 0.965\n",
      "\u001b[32m[0215 10:53:49 @monitor.py:467]\u001b[0m GAN_loss/discrim/accuracy_real: 0.15\n",
      "\u001b[32m[0215 10:53:49 @monitor.py:467]\u001b[0m GAN_loss/discrim/loss: 0.63772\n",
      "\u001b[32m[0215 10:53:49 @monitor.py:467]\u001b[0m GAN_loss/gen/final-g-loss: 1.0932\n",
      "\u001b[32m[0215 10:53:49 @monitor.py:467]\u001b[0m GAN_loss/gen/klloss: 0.098147\n",
      "\u001b[32m[0215 10:53:49 @monitor.py:467]\u001b[0m GAN_loss/gen/loss: 0.99506\n",
      "\u001b[32m[0215 10:53:49 @monitor.py:467]\u001b[0m QueueInput/queue_size: 50\n",
      "\u001b[32m[0215 10:53:49 @base.py:275]\u001b[0m Start Epoch 599 ...\n"
     ]
    },
    {
     "name": "stderr",
     "output_type": "stream",
     "text": [
      "\n",
      "100%|#################################################################################|2000/2000[00:31<00:00,64.04it/s]"
     ]
    },
    {
     "name": "stdout",
     "output_type": "stream",
     "text": [
      "\u001b[32m[0215 10:54:20 @base.py:285]\u001b[0m Epoch 599 (global_step 1198000) finished, time:31.2 seconds.\n",
      "\u001b[32m[0215 10:54:21 @saver.py:79]\u001b[0m Model saved to ./output_TGAN/output/model\\model-1198000.\n",
      "\u001b[32m[0215 10:54:21 @monitor.py:467]\u001b[0m GAN_loss/discrim/accuracy_fake: 0.955\n",
      "\u001b[32m[0215 10:54:21 @monitor.py:467]\u001b[0m GAN_loss/discrim/accuracy_real: 0.18\n",
      "\u001b[32m[0215 10:54:21 @monitor.py:467]\u001b[0m GAN_loss/discrim/loss: 0.64779\n",
      "\u001b[32m[0215 10:54:21 @monitor.py:467]\u001b[0m GAN_loss/gen/final-g-loss: 1.1389\n",
      "\u001b[32m[0215 10:54:21 @monitor.py:467]\u001b[0m GAN_loss/gen/klloss: 0.13905\n",
      "\u001b[32m[0215 10:54:21 @monitor.py:467]\u001b[0m GAN_loss/gen/loss: 0.9998\n",
      "\u001b[32m[0215 10:54:21 @monitor.py:467]\u001b[0m QueueInput/queue_size: 50\n",
      "\u001b[32m[0215 10:54:21 @base.py:275]\u001b[0m Start Epoch 600 ...\n"
     ]
    },
    {
     "name": "stderr",
     "output_type": "stream",
     "text": [
      "\n",
      "100%|#################################################################################|2000/2000[00:31<00:00,64.23it/s]"
     ]
    },
    {
     "name": "stdout",
     "output_type": "stream",
     "text": [
      "\u001b[32m[0215 10:54:52 @base.py:285]\u001b[0m Epoch 600 (global_step 1200000) finished, time:31.1 seconds.\n",
      "\u001b[32m[0215 10:54:52 @saver.py:79]\u001b[0m Model saved to ./output_TGAN/output/model\\model-1200000.\n",
      "\u001b[32m[0215 10:54:52 @monitor.py:467]\u001b[0m GAN_loss/discrim/accuracy_fake: 0.925\n",
      "\u001b[32m[0215 10:54:52 @monitor.py:467]\u001b[0m GAN_loss/discrim/accuracy_real: 0.155\n",
      "\u001b[32m[0215 10:54:52 @monitor.py:467]\u001b[0m GAN_loss/discrim/loss: 0.6381\n",
      "\u001b[32m[0215 10:54:52 @monitor.py:467]\u001b[0m GAN_loss/gen/final-g-loss: 1.0994\n",
      "\u001b[32m[0215 10:54:52 @monitor.py:467]\u001b[0m GAN_loss/gen/klloss: 0.08688\n",
      "\u001b[32m[0215 10:54:52 @monitor.py:467]\u001b[0m GAN_loss/gen/loss: 1.0126\n",
      "\u001b[32m[0215 10:54:52 @monitor.py:467]\u001b[0m QueueInput/queue_size: 50\n",
      "\u001b[32m[0215 10:54:52 @base.py:275]\u001b[0m Start Epoch 601 ...\n"
     ]
    },
    {
     "name": "stderr",
     "output_type": "stream",
     "text": [
      "\n",
      "100%|#################################################################################|2000/2000[00:31<00:00,64.24it/s]"
     ]
    },
    {
     "name": "stdout",
     "output_type": "stream",
     "text": [
      "\u001b[32m[0215 10:55:23 @base.py:285]\u001b[0m Epoch 601 (global_step 1202000) finished, time:31.1 seconds.\n",
      "\u001b[32m[0215 10:55:23 @saver.py:79]\u001b[0m Model saved to ./output_TGAN/output/model\\model-1202000.\n",
      "\u001b[32m[0215 10:55:23 @monitor.py:467]\u001b[0m GAN_loss/discrim/accuracy_fake: 0.94\n",
      "\u001b[32m[0215 10:55:23 @monitor.py:467]\u001b[0m GAN_loss/discrim/accuracy_real: 0.14\n",
      "\u001b[32m[0215 10:55:23 @monitor.py:467]\u001b[0m GAN_loss/discrim/loss: 0.63667\n",
      "\u001b[32m[0215 10:55:23 @monitor.py:467]\u001b[0m GAN_loss/gen/final-g-loss: 1.1322\n",
      "\u001b[32m[0215 10:55:23 @monitor.py:467]\u001b[0m GAN_loss/gen/klloss: 0.11797\n",
      "\u001b[32m[0215 10:55:23 @monitor.py:467]\u001b[0m GAN_loss/gen/loss: 1.0142\n",
      "\u001b[32m[0215 10:55:23 @monitor.py:467]\u001b[0m QueueInput/queue_size: 50\n",
      "\u001b[32m[0215 10:55:23 @base.py:275]\u001b[0m Start Epoch 602 ...\n"
     ]
    },
    {
     "name": "stderr",
     "output_type": "stream",
     "text": [
      "\n",
      "100%|#################################################################################|2000/2000[00:31<00:00,63.89it/s]"
     ]
    },
    {
     "name": "stdout",
     "output_type": "stream",
     "text": [
      "\u001b[32m[0215 10:55:54 @base.py:285]\u001b[0m Epoch 602 (global_step 1204000) finished, time:31.3 seconds.\n",
      "\u001b[32m[0215 10:55:54 @saver.py:79]\u001b[0m Model saved to ./output_TGAN/output/model\\model-1204000.\n",
      "\u001b[32m[0215 10:55:55 @monitor.py:467]\u001b[0m GAN_loss/discrim/accuracy_fake: 0.95\n",
      "\u001b[32m[0215 10:55:55 @monitor.py:467]\u001b[0m GAN_loss/discrim/accuracy_real: 0.115\n",
      "\u001b[32m[0215 10:55:55 @monitor.py:467]\u001b[0m GAN_loss/discrim/loss: 0.65135\n",
      "\u001b[32m[0215 10:55:55 @monitor.py:467]\u001b[0m GAN_loss/gen/final-g-loss: 1.0806\n",
      "\u001b[32m[0215 10:55:55 @monitor.py:467]\u001b[0m GAN_loss/gen/klloss: 0.088818\n",
      "\u001b[32m[0215 10:55:55 @monitor.py:467]\u001b[0m GAN_loss/gen/loss: 0.99173\n",
      "\u001b[32m[0215 10:55:55 @monitor.py:467]\u001b[0m QueueInput/queue_size: 50\n",
      "\u001b[32m[0215 10:55:55 @base.py:275]\u001b[0m Start Epoch 603 ...\n"
     ]
    },
    {
     "name": "stderr",
     "output_type": "stream",
     "text": [
      "\n",
      "100%|#################################################################################|2000/2000[00:31<00:00,64.26it/s]"
     ]
    },
    {
     "name": "stdout",
     "output_type": "stream",
     "text": [
      "\u001b[32m[0215 10:56:26 @base.py:285]\u001b[0m Epoch 603 (global_step 1206000) finished, time:31.1 seconds.\n",
      "WARNING:tensorflow:From D:\\Users\\glede\\anaconda3\\envs\\py37\\lib\\site-packages\\tensorflow_core\\python\\training\\saver.py:963: remove_checkpoint (from tensorflow.python.training.checkpoint_management) is deprecated and will be removed in a future version.\n",
      "Instructions for updating:\n",
      "Use standard file APIs to delete files with this prefix.\n",
      "\u001b[32m[0215 10:56:26 @saver.py:79]\u001b[0m Model saved to ./output_TGAN/output/model\\model-1206000.\n",
      "\u001b[32m[0215 10:56:26 @monitor.py:467]\u001b[0m GAN_loss/discrim/accuracy_fake: 0.935\n",
      "\u001b[32m[0215 10:56:26 @monitor.py:467]\u001b[0m GAN_loss/discrim/accuracy_real: 0.085\n",
      "\u001b[32m[0215 10:56:26 @monitor.py:467]\u001b[0m GAN_loss/discrim/loss: 0.64718\n",
      "\u001b[32m[0215 10:56:26 @monitor.py:467]\u001b[0m GAN_loss/gen/final-g-loss: 1.1207\n",
      "\u001b[32m[0215 10:56:26 @monitor.py:467]\u001b[0m GAN_loss/gen/klloss: 0.11853\n",
      "\u001b[32m[0215 10:56:26 @monitor.py:467]\u001b[0m GAN_loss/gen/loss: 1.0021\n",
      "\u001b[32m[0215 10:56:26 @monitor.py:467]\u001b[0m QueueInput/queue_size: 50\n",
      "\u001b[32m[0215 10:56:26 @base.py:275]\u001b[0m Start Epoch 604 ...\n"
     ]
    },
    {
     "name": "stderr",
     "output_type": "stream",
     "text": [
      "\n",
      "100%|#################################################################################|2000/2000[00:31<00:00,64.28it/s]"
     ]
    },
    {
     "name": "stdout",
     "output_type": "stream",
     "text": [
      "\u001b[32m[0215 10:56:57 @base.py:285]\u001b[0m Epoch 604 (global_step 1208000) finished, time:31.1 seconds.\n",
      "\u001b[32m[0215 10:56:57 @saver.py:79]\u001b[0m Model saved to ./output_TGAN/output/model\\model-1208000.\n",
      "\u001b[32m[0215 10:56:57 @monitor.py:467]\u001b[0m GAN_loss/discrim/accuracy_fake: 0.925\n",
      "\u001b[32m[0215 10:56:57 @monitor.py:467]\u001b[0m GAN_loss/discrim/accuracy_real: 0.135\n",
      "\u001b[32m[0215 10:56:57 @monitor.py:467]\u001b[0m GAN_loss/discrim/loss: 0.64804\n",
      "\u001b[32m[0215 10:56:57 @monitor.py:467]\u001b[0m GAN_loss/gen/final-g-loss: 1.0772\n",
      "\u001b[32m[0215 10:56:57 @monitor.py:467]\u001b[0m GAN_loss/gen/klloss: 0.074736\n",
      "\u001b[32m[0215 10:56:57 @monitor.py:467]\u001b[0m GAN_loss/gen/loss: 1.0025\n",
      "\u001b[32m[0215 10:56:57 @monitor.py:467]\u001b[0m QueueInput/queue_size: 50\n",
      "\u001b[32m[0215 10:56:57 @base.py:275]\u001b[0m Start Epoch 605 ...\n"
     ]
    },
    {
     "name": "stderr",
     "output_type": "stream",
     "text": [
      "\n",
      "100%|#################################################################################|2000/2000[00:31<00:00,64.27it/s]"
     ]
    },
    {
     "name": "stdout",
     "output_type": "stream",
     "text": [
      "\u001b[32m[0215 10:57:28 @base.py:285]\u001b[0m Epoch 605 (global_step 1210000) finished, time:31.1 seconds.\n",
      "\u001b[32m[0215 10:57:28 @saver.py:79]\u001b[0m Model saved to ./output_TGAN/output/model\\model-1210000.\n",
      "\u001b[32m[0215 10:57:28 @monitor.py:467]\u001b[0m GAN_loss/discrim/accuracy_fake: 0.93\n",
      "\u001b[32m[0215 10:57:28 @monitor.py:467]\u001b[0m GAN_loss/discrim/accuracy_real: 0.1\n",
      "\u001b[32m[0215 10:57:28 @monitor.py:467]\u001b[0m GAN_loss/discrim/loss: 0.64138\n",
      "\u001b[32m[0215 10:57:28 @monitor.py:467]\u001b[0m GAN_loss/gen/final-g-loss: 1.1681\n",
      "\u001b[32m[0215 10:57:28 @monitor.py:467]\u001b[0m GAN_loss/gen/klloss: 0.15753\n",
      "\u001b[32m[0215 10:57:28 @monitor.py:467]\u001b[0m GAN_loss/gen/loss: 1.0106\n",
      "\u001b[32m[0215 10:57:28 @monitor.py:467]\u001b[0m QueueInput/queue_size: 50\n",
      "\u001b[32m[0215 10:57:28 @base.py:275]\u001b[0m Start Epoch 606 ...\n"
     ]
    },
    {
     "name": "stderr",
     "output_type": "stream",
     "text": [
      "\n",
      "100%|#################################################################################|2000/2000[00:31<00:00,64.29it/s]"
     ]
    },
    {
     "name": "stdout",
     "output_type": "stream",
     "text": [
      "\u001b[32m[0215 10:57:59 @base.py:285]\u001b[0m Epoch 606 (global_step 1212000) finished, time:31.1 seconds.\n",
      "\u001b[32m[0215 10:58:00 @saver.py:79]\u001b[0m Model saved to ./output_TGAN/output/model\\model-1212000.\n",
      "\u001b[32m[0215 10:58:00 @monitor.py:467]\u001b[0m GAN_loss/discrim/accuracy_fake: 0.935\n",
      "\u001b[32m[0215 10:58:00 @monitor.py:467]\u001b[0m GAN_loss/discrim/accuracy_real: 0.14\n",
      "\u001b[32m[0215 10:58:00 @monitor.py:467]\u001b[0m GAN_loss/discrim/loss: 0.64227\n",
      "\u001b[32m[0215 10:58:00 @monitor.py:467]\u001b[0m GAN_loss/gen/final-g-loss: 1.1165\n",
      "\u001b[32m[0215 10:58:00 @monitor.py:467]\u001b[0m GAN_loss/gen/klloss: 0.11342\n",
      "\u001b[32m[0215 10:58:00 @monitor.py:467]\u001b[0m GAN_loss/gen/loss: 1.0031\n",
      "\u001b[32m[0215 10:58:00 @monitor.py:467]\u001b[0m QueueInput/queue_size: 50\n",
      "\u001b[32m[0215 10:58:00 @base.py:275]\u001b[0m Start Epoch 607 ...\n"
     ]
    },
    {
     "name": "stderr",
     "output_type": "stream",
     "text": [
      "\n",
      "100%|#################################################################################|2000/2000[00:31<00:00,64.32it/s]"
     ]
    },
    {
     "name": "stdout",
     "output_type": "stream",
     "text": [
      "\u001b[32m[0215 10:58:31 @base.py:285]\u001b[0m Epoch 607 (global_step 1214000) finished, time:31.1 seconds.\n",
      "\u001b[32m[0215 10:58:31 @saver.py:79]\u001b[0m Model saved to ./output_TGAN/output/model\\model-1214000.\n",
      "\u001b[32m[0215 10:58:31 @monitor.py:467]\u001b[0m GAN_loss/discrim/accuracy_fake: 0.93\n",
      "\u001b[32m[0215 10:58:31 @monitor.py:467]\u001b[0m GAN_loss/discrim/accuracy_real: 0.14\n",
      "\u001b[32m[0215 10:58:31 @monitor.py:467]\u001b[0m GAN_loss/discrim/loss: 0.63779\n",
      "\u001b[32m[0215 10:58:31 @monitor.py:467]\u001b[0m GAN_loss/gen/final-g-loss: 1.105\n",
      "\u001b[32m[0215 10:58:31 @monitor.py:467]\u001b[0m GAN_loss/gen/klloss: 0.096496\n",
      "\u001b[32m[0215 10:58:31 @monitor.py:467]\u001b[0m GAN_loss/gen/loss: 1.0085\n",
      "\u001b[32m[0215 10:58:31 @monitor.py:467]\u001b[0m QueueInput/queue_size: 50\n",
      "\u001b[32m[0215 10:58:31 @base.py:275]\u001b[0m Start Epoch 608 ...\n"
     ]
    },
    {
     "name": "stderr",
     "output_type": "stream",
     "text": [
      "\n",
      "100%|#################################################################################|2000/2000[00:31<00:00,64.31it/s]"
     ]
    },
    {
     "name": "stdout",
     "output_type": "stream",
     "text": [
      "\u001b[32m[0215 10:59:02 @base.py:285]\u001b[0m Epoch 608 (global_step 1216000) finished, time:31.1 seconds.\n",
      "\u001b[32m[0215 10:59:02 @saver.py:79]\u001b[0m Model saved to ./output_TGAN/output/model\\model-1216000.\n",
      "\u001b[32m[0215 10:59:02 @monitor.py:467]\u001b[0m GAN_loss/discrim/accuracy_fake: 0.925\n",
      "\u001b[32m[0215 10:59:02 @monitor.py:467]\u001b[0m GAN_loss/discrim/accuracy_real: 0.115\n",
      "\u001b[32m[0215 10:59:02 @monitor.py:467]\u001b[0m GAN_loss/discrim/loss: 0.64986\n",
      "\u001b[32m[0215 10:59:02 @monitor.py:467]\u001b[0m GAN_loss/gen/final-g-loss: 1.1222\n",
      "\u001b[32m[0215 10:59:02 @monitor.py:467]\u001b[0m GAN_loss/gen/klloss: 0.12314\n",
      "\u001b[32m[0215 10:59:02 @monitor.py:467]\u001b[0m GAN_loss/gen/loss: 0.99906\n",
      "\u001b[32m[0215 10:59:02 @monitor.py:467]\u001b[0m QueueInput/queue_size: 50\n",
      "\u001b[32m[0215 10:59:02 @base.py:275]\u001b[0m Start Epoch 609 ...\n"
     ]
    },
    {
     "name": "stderr",
     "output_type": "stream",
     "text": [
      "\n",
      "100%|#################################################################################|2000/2000[00:31<00:00,64.12it/s]"
     ]
    },
    {
     "name": "stdout",
     "output_type": "stream",
     "text": [
      "\u001b[32m[0215 10:59:33 @base.py:285]\u001b[0m Epoch 609 (global_step 1218000) finished, time:31.2 seconds.\n",
      "\u001b[32m[0215 10:59:33 @saver.py:79]\u001b[0m Model saved to ./output_TGAN/output/model\\model-1218000.\n",
      "\u001b[32m[0215 10:59:33 @monitor.py:467]\u001b[0m GAN_loss/discrim/accuracy_fake: 0.925\n",
      "\u001b[32m[0215 10:59:33 @monitor.py:467]\u001b[0m GAN_loss/discrim/accuracy_real: 0.13\n",
      "\u001b[32m[0215 10:59:33 @monitor.py:467]\u001b[0m GAN_loss/discrim/loss: 0.64266\n",
      "\u001b[32m[0215 10:59:33 @monitor.py:467]\u001b[0m GAN_loss/gen/final-g-loss: 1.0737\n",
      "\u001b[32m[0215 10:59:33 @monitor.py:467]\u001b[0m GAN_loss/gen/klloss: 0.063515\n",
      "\u001b[32m[0215 10:59:33 @monitor.py:467]\u001b[0m GAN_loss/gen/loss: 1.0102\n",
      "\u001b[32m[0215 10:59:33 @monitor.py:467]\u001b[0m QueueInput/queue_size: 50\n",
      "\u001b[32m[0215 10:59:33 @base.py:275]\u001b[0m Start Epoch 610 ...\n"
     ]
    },
    {
     "name": "stderr",
     "output_type": "stream",
     "text": [
      "\n",
      "100%|#################################################################################|2000/2000[00:31<00:00,64.27it/s]"
     ]
    },
    {
     "name": "stdout",
     "output_type": "stream",
     "text": [
      "\u001b[32m[0215 11:00:05 @base.py:285]\u001b[0m Epoch 610 (global_step 1220000) finished, time:31.1 seconds.\n",
      "\u001b[32m[0215 11:00:05 @saver.py:79]\u001b[0m Model saved to ./output_TGAN/output/model\\model-1220000.\n",
      "\u001b[32m[0215 11:00:05 @monitor.py:467]\u001b[0m GAN_loss/discrim/accuracy_fake: 0.88\n",
      "\u001b[32m[0215 11:00:05 @monitor.py:467]\u001b[0m GAN_loss/discrim/accuracy_real: 0.12\n",
      "\u001b[32m[0215 11:00:05 @monitor.py:467]\u001b[0m GAN_loss/discrim/loss: 0.65122\n",
      "\u001b[32m[0215 11:00:05 @monitor.py:467]\u001b[0m GAN_loss/gen/final-g-loss: 1.0866\n",
      "\u001b[32m[0215 11:00:05 @monitor.py:467]\u001b[0m GAN_loss/gen/klloss: 0.10873\n",
      "\u001b[32m[0215 11:00:05 @monitor.py:467]\u001b[0m GAN_loss/gen/loss: 0.97783\n",
      "\u001b[32m[0215 11:00:05 @monitor.py:467]\u001b[0m QueueInput/queue_size: 50\n",
      "\u001b[32m[0215 11:00:05 @base.py:275]\u001b[0m Start Epoch 611 ...\n"
     ]
    },
    {
     "name": "stderr",
     "output_type": "stream",
     "text": [
      "\n",
      "100%|#################################################################################|2000/2000[00:31<00:00,64.26it/s]"
     ]
    },
    {
     "name": "stdout",
     "output_type": "stream",
     "text": [
      "\u001b[32m[0215 11:00:36 @base.py:285]\u001b[0m Epoch 611 (global_step 1222000) finished, time:31.1 seconds.\n",
      "\u001b[32m[0215 11:00:36 @saver.py:79]\u001b[0m Model saved to ./output_TGAN/output/model\\model-1222000.\n",
      "\u001b[32m[0215 11:00:36 @monitor.py:467]\u001b[0m GAN_loss/discrim/accuracy_fake: 0.93\n",
      "\u001b[32m[0215 11:00:36 @monitor.py:467]\u001b[0m GAN_loss/discrim/accuracy_real: 0.1\n",
      "\u001b[32m[0215 11:00:36 @monitor.py:467]\u001b[0m GAN_loss/discrim/loss: 0.64805\n",
      "\u001b[32m[0215 11:00:36 @monitor.py:467]\u001b[0m GAN_loss/gen/final-g-loss: 1.1002\n",
      "\u001b[32m[0215 11:00:36 @monitor.py:467]\u001b[0m GAN_loss/gen/klloss: 0.08601\n",
      "\u001b[32m[0215 11:00:36 @monitor.py:467]\u001b[0m GAN_loss/gen/loss: 1.0142\n",
      "\u001b[32m[0215 11:00:36 @monitor.py:467]\u001b[0m QueueInput/queue_size: 50\n",
      "\u001b[32m[0215 11:00:36 @base.py:275]\u001b[0m Start Epoch 612 ...\n"
     ]
    },
    {
     "name": "stderr",
     "output_type": "stream",
     "text": [
      "\n",
      "100%|#################################################################################|2000/2000[00:31<00:00,64.19it/s]"
     ]
    },
    {
     "name": "stdout",
     "output_type": "stream",
     "text": [
      "\u001b[32m[0215 11:01:07 @base.py:285]\u001b[0m Epoch 612 (global_step 1224000) finished, time:31.2 seconds.\n",
      "\u001b[32m[0215 11:01:07 @saver.py:79]\u001b[0m Model saved to ./output_TGAN/output/model\\model-1224000.\n",
      "\u001b[32m[0215 11:01:07 @monitor.py:467]\u001b[0m GAN_loss/discrim/accuracy_fake: 0.9\n",
      "\u001b[32m[0215 11:01:07 @monitor.py:467]\u001b[0m GAN_loss/discrim/accuracy_real: 0.13\n",
      "\u001b[32m[0215 11:01:07 @monitor.py:467]\u001b[0m GAN_loss/discrim/loss: 0.65532\n",
      "\u001b[32m[0215 11:01:07 @monitor.py:467]\u001b[0m GAN_loss/gen/final-g-loss: 1.1178\n",
      "\u001b[32m[0215 11:01:07 @monitor.py:467]\u001b[0m GAN_loss/gen/klloss: 0.12585\n",
      "\u001b[32m[0215 11:01:07 @monitor.py:467]\u001b[0m GAN_loss/gen/loss: 0.99194\n",
      "\u001b[32m[0215 11:01:07 @monitor.py:467]\u001b[0m QueueInput/queue_size: 50\n",
      "\u001b[32m[0215 11:01:07 @base.py:275]\u001b[0m Start Epoch 613 ...\n"
     ]
    },
    {
     "name": "stderr",
     "output_type": "stream",
     "text": [
      "\n",
      "100%|#################################################################################|2000/2000[00:31<00:00,64.19it/s]"
     ]
    },
    {
     "name": "stdout",
     "output_type": "stream",
     "text": [
      "\u001b[32m[0215 11:01:38 @base.py:285]\u001b[0m Epoch 613 (global_step 1226000) finished, time:31.2 seconds.\n",
      "\u001b[32m[0215 11:01:38 @saver.py:79]\u001b[0m Model saved to ./output_TGAN/output/model\\model-1226000.\n",
      "\u001b[32m[0215 11:01:39 @monitor.py:467]\u001b[0m GAN_loss/discrim/accuracy_fake: 0.935\n",
      "\u001b[32m[0215 11:01:39 @monitor.py:467]\u001b[0m GAN_loss/discrim/accuracy_real: 0.17\n",
      "\u001b[32m[0215 11:01:39 @monitor.py:467]\u001b[0m GAN_loss/discrim/loss: 0.64078\n",
      "\u001b[32m[0215 11:01:39 @monitor.py:467]\u001b[0m GAN_loss/gen/final-g-loss: 1.103\n",
      "\u001b[32m[0215 11:01:39 @monitor.py:467]\u001b[0m GAN_loss/gen/klloss: 0.10148\n",
      "\u001b[32m[0215 11:01:39 @monitor.py:467]\u001b[0m GAN_loss/gen/loss: 1.0016\n",
      "\u001b[32m[0215 11:01:39 @monitor.py:467]\u001b[0m QueueInput/queue_size: 50\n",
      "\u001b[32m[0215 11:01:39 @base.py:275]\u001b[0m Start Epoch 614 ...\n"
     ]
    },
    {
     "name": "stderr",
     "output_type": "stream",
     "text": [
      "\n",
      "100%|#################################################################################|2000/2000[00:31<00:00,63.58it/s]"
     ]
    },
    {
     "name": "stdout",
     "output_type": "stream",
     "text": [
      "\u001b[32m[0215 11:02:10 @base.py:285]\u001b[0m Epoch 614 (global_step 1228000) finished, time:31.5 seconds.\n",
      "\u001b[32m[0215 11:02:10 @saver.py:79]\u001b[0m Model saved to ./output_TGAN/output/model\\model-1228000.\n"
     ]
    },
    {
     "name": "stderr",
     "output_type": "stream",
     "text": [
      "\n"
     ]
    },
    {
     "name": "stdout",
     "output_type": "stream",
     "text": [
      "\u001b[32m[0215 11:02:10 @monitor.py:467]\u001b[0m GAN_loss/discrim/accuracy_fake: 0.91\n",
      "\u001b[32m[0215 11:02:10 @monitor.py:467]\u001b[0m GAN_loss/discrim/accuracy_real: 0.115\n",
      "\u001b[32m[0215 11:02:10 @monitor.py:467]\u001b[0m GAN_loss/discrim/loss: 0.64811\n",
      "\u001b[32m[0215 11:02:10 @monitor.py:467]\u001b[0m GAN_loss/gen/final-g-loss: 1.1242\n",
      "\u001b[32m[0215 11:02:10 @monitor.py:467]\u001b[0m GAN_loss/gen/klloss: 0.12689\n",
      "\u001b[32m[0215 11:02:10 @monitor.py:467]\u001b[0m GAN_loss/gen/loss: 0.99735\n",
      "\u001b[32m[0215 11:02:10 @monitor.py:467]\u001b[0m QueueInput/queue_size: 50\n",
      "\u001b[32m[0215 11:02:10 @base.py:275]\u001b[0m Start Epoch 615 ...\n"
     ]
    },
    {
     "name": "stderr",
     "output_type": "stream",
     "text": [
      "100%|#################################################################################|2000/2000[00:31<00:00,62.64it/s]"
     ]
    },
    {
     "name": "stdout",
     "output_type": "stream",
     "text": [
      "\u001b[32m[0215 11:02:42 @base.py:285]\u001b[0m Epoch 615 (global_step 1230000) finished, time:31.9 seconds.\n",
      "\u001b[32m[0215 11:02:42 @saver.py:79]\u001b[0m Model saved to ./output_TGAN/output/model\\model-1230000.\n",
      "\u001b[32m[0215 11:02:42 @monitor.py:467]\u001b[0m GAN_loss/discrim/accuracy_fake: 0.945\n",
      "\u001b[32m[0215 11:02:42 @monitor.py:467]\u001b[0m GAN_loss/discrim/accuracy_real: 0.15\n",
      "\u001b[32m[0215 11:02:42 @monitor.py:467]\u001b[0m GAN_loss/discrim/loss: 0.64841\n",
      "\u001b[32m[0215 11:02:42 @monitor.py:467]\u001b[0m GAN_loss/gen/final-g-loss: 1.1121\n",
      "\u001b[32m[0215 11:02:42 @monitor.py:467]\u001b[0m GAN_loss/gen/klloss: 0.12678\n",
      "\u001b[32m[0215 11:02:42 @monitor.py:467]\u001b[0m GAN_loss/gen/loss: 0.98534\n",
      "\u001b[32m[0215 11:02:42 @monitor.py:467]\u001b[0m QueueInput/queue_size: 50\n",
      "\u001b[32m[0215 11:02:42 @base.py:275]\u001b[0m Start Epoch 616 ...\n"
     ]
    },
    {
     "name": "stderr",
     "output_type": "stream",
     "text": [
      "\n",
      "100%|#################################################################################|2000/2000[00:31<00:00,63.63it/s]"
     ]
    },
    {
     "name": "stdout",
     "output_type": "stream",
     "text": [
      "\u001b[32m[0215 11:03:14 @base.py:285]\u001b[0m Epoch 616 (global_step 1232000) finished, time:31.4 seconds.\n"
     ]
    },
    {
     "name": "stderr",
     "output_type": "stream",
     "text": [
      "\n"
     ]
    },
    {
     "name": "stdout",
     "output_type": "stream",
     "text": [
      "\u001b[32m[0215 11:03:14 @saver.py:79]\u001b[0m Model saved to ./output_TGAN/output/model\\model-1232000.\n",
      "\u001b[32m[0215 11:03:14 @monitor.py:467]\u001b[0m GAN_loss/discrim/accuracy_fake: 0.9\n",
      "\u001b[32m[0215 11:03:14 @monitor.py:467]\u001b[0m GAN_loss/discrim/accuracy_real: 0.135\n",
      "\u001b[32m[0215 11:03:14 @monitor.py:467]\u001b[0m GAN_loss/discrim/loss: 0.64021\n",
      "\u001b[32m[0215 11:03:14 @monitor.py:467]\u001b[0m GAN_loss/gen/final-g-loss: 1.1146\n",
      "\u001b[32m[0215 11:03:14 @monitor.py:467]\u001b[0m GAN_loss/gen/klloss: 0.10711\n",
      "\u001b[32m[0215 11:03:14 @monitor.py:467]\u001b[0m GAN_loss/gen/loss: 1.0075\n",
      "\u001b[32m[0215 11:03:14 @monitor.py:467]\u001b[0m QueueInput/queue_size: 50\n",
      "\u001b[32m[0215 11:03:14 @base.py:275]\u001b[0m Start Epoch 617 ...\n"
     ]
    },
    {
     "name": "stderr",
     "output_type": "stream",
     "text": [
      "100%|#################################################################################|2000/2000[00:31<00:00,64.15it/s]"
     ]
    },
    {
     "name": "stdout",
     "output_type": "stream",
     "text": [
      "\u001b[32m[0215 11:03:45 @base.py:285]\u001b[0m Epoch 617 (global_step 1234000) finished, time:31.2 seconds.\n",
      "\u001b[32m[0215 11:03:45 @saver.py:79]\u001b[0m Model saved to ./output_TGAN/output/model\\model-1234000.\n",
      "\u001b[32m[0215 11:03:45 @monitor.py:467]\u001b[0m GAN_loss/discrim/accuracy_fake: 0.9\n",
      "\u001b[32m[0215 11:03:45 @monitor.py:467]\u001b[0m GAN_loss/discrim/accuracy_real: 0.19\n",
      "\u001b[32m[0215 11:03:45 @monitor.py:467]\u001b[0m GAN_loss/discrim/loss: 0.64397\n",
      "\u001b[32m[0215 11:03:45 @monitor.py:467]\u001b[0m GAN_loss/gen/final-g-loss: 1.1119\n",
      "\u001b[32m[0215 11:03:45 @monitor.py:467]\u001b[0m GAN_loss/gen/klloss: 0.11666\n",
      "\u001b[32m[0215 11:03:45 @monitor.py:467]\u001b[0m GAN_loss/gen/loss: 0.99525\n",
      "\u001b[32m[0215 11:03:45 @monitor.py:467]\u001b[0m QueueInput/queue_size: 50\n",
      "\u001b[32m[0215 11:03:45 @base.py:275]\u001b[0m Start Epoch 618 ...\n"
     ]
    },
    {
     "name": "stderr",
     "output_type": "stream",
     "text": [
      "\n",
      "100%|#################################################################################|2000/2000[00:31<00:00,64.20it/s]"
     ]
    },
    {
     "name": "stdout",
     "output_type": "stream",
     "text": [
      "\u001b[32m[0215 11:04:16 @base.py:285]\u001b[0m Epoch 618 (global_step 1236000) finished, time:31.2 seconds.\n",
      "\u001b[32m[0215 11:04:16 @saver.py:79]\u001b[0m Model saved to ./output_TGAN/output/model\\model-1236000.\n",
      "\u001b[32m[0215 11:04:16 @monitor.py:467]\u001b[0m GAN_loss/discrim/accuracy_fake: 0.925\n",
      "\u001b[32m[0215 11:04:16 @monitor.py:467]\u001b[0m GAN_loss/discrim/accuracy_real: 0.105\n",
      "\u001b[32m[0215 11:04:16 @monitor.py:467]\u001b[0m GAN_loss/discrim/loss: 0.6552\n",
      "\u001b[32m[0215 11:04:16 @monitor.py:467]\u001b[0m GAN_loss/gen/final-g-loss: 1.1198\n",
      "\u001b[32m[0215 11:04:16 @monitor.py:467]\u001b[0m GAN_loss/gen/klloss: 0.11566\n",
      "\u001b[32m[0215 11:04:16 @monitor.py:467]\u001b[0m GAN_loss/gen/loss: 1.0041\n",
      "\u001b[32m[0215 11:04:16 @monitor.py:467]\u001b[0m QueueInput/queue_size: 50\n",
      "\u001b[32m[0215 11:04:16 @base.py:275]\u001b[0m Start Epoch 619 ...\n"
     ]
    },
    {
     "name": "stderr",
     "output_type": "stream",
     "text": [
      "\n",
      "100%|#################################################################################|2000/2000[00:31<00:00,64.10it/s]"
     ]
    },
    {
     "name": "stdout",
     "output_type": "stream",
     "text": [
      "\u001b[32m[0215 11:04:48 @base.py:285]\u001b[0m Epoch 619 (global_step 1238000) finished, time:31.2 seconds.\n",
      "\u001b[32m[0215 11:04:48 @saver.py:79]\u001b[0m Model saved to ./output_TGAN/output/model\\model-1238000.\n",
      "\u001b[32m[0215 11:04:48 @monitor.py:467]\u001b[0m GAN_loss/discrim/accuracy_fake: 0.91\n",
      "\u001b[32m[0215 11:04:48 @monitor.py:467]\u001b[0m GAN_loss/discrim/accuracy_real: 0.105\n",
      "\u001b[32m[0215 11:04:48 @monitor.py:467]\u001b[0m GAN_loss/discrim/loss: 0.64611\n",
      "\u001b[32m[0215 11:04:48 @monitor.py:467]\u001b[0m GAN_loss/gen/final-g-loss: 1.1525\n",
      "\u001b[32m[0215 11:04:48 @monitor.py:467]\u001b[0m GAN_loss/gen/klloss: 0.14908\n",
      "\u001b[32m[0215 11:04:48 @monitor.py:467]\u001b[0m GAN_loss/gen/loss: 1.0034\n",
      "\u001b[32m[0215 11:04:48 @monitor.py:467]\u001b[0m QueueInput/queue_size: 50\n",
      "\u001b[32m[0215 11:04:48 @base.py:275]\u001b[0m Start Epoch 620 ...\n"
     ]
    },
    {
     "name": "stderr",
     "output_type": "stream",
     "text": [
      "\n",
      "100%|#################################################################################|2000/2000[00:31<00:00,64.15it/s]"
     ]
    },
    {
     "name": "stdout",
     "output_type": "stream",
     "text": [
      "\u001b[32m[0215 11:05:19 @base.py:285]\u001b[0m Epoch 620 (global_step 1240000) finished, time:31.2 seconds.\n",
      "\u001b[32m[0215 11:05:19 @saver.py:79]\u001b[0m Model saved to ./output_TGAN/output/model\\model-1240000.\n",
      "\u001b[32m[0215 11:05:19 @monitor.py:467]\u001b[0m GAN_loss/discrim/accuracy_fake: 0.91\n",
      "\u001b[32m[0215 11:05:19 @monitor.py:467]\u001b[0m GAN_loss/discrim/accuracy_real: 0.14\n",
      "\u001b[32m[0215 11:05:19 @monitor.py:467]\u001b[0m GAN_loss/discrim/loss: 0.64357\n",
      "\u001b[32m[0215 11:05:19 @monitor.py:467]\u001b[0m GAN_loss/gen/final-g-loss: 1.1351\n",
      "\u001b[32m[0215 11:05:19 @monitor.py:467]\u001b[0m GAN_loss/gen/klloss: 0.1365\n",
      "\u001b[32m[0215 11:05:19 @monitor.py:467]\u001b[0m GAN_loss/gen/loss: 0.99864\n",
      "\u001b[32m[0215 11:05:19 @monitor.py:467]\u001b[0m QueueInput/queue_size: 50\n",
      "\u001b[32m[0215 11:05:19 @base.py:275]\u001b[0m Start Epoch 621 ...\n"
     ]
    },
    {
     "name": "stderr",
     "output_type": "stream",
     "text": [
      "\n",
      "100%|#################################################################################|2000/2000[00:31<00:00,64.22it/s]"
     ]
    },
    {
     "name": "stdout",
     "output_type": "stream",
     "text": [
      "\u001b[32m[0215 11:05:50 @base.py:285]\u001b[0m Epoch 621 (global_step 1242000) finished, time:31.1 seconds.\n",
      "\u001b[32m[0215 11:05:50 @saver.py:79]\u001b[0m Model saved to ./output_TGAN/output/model\\model-1242000.\n",
      "\u001b[32m[0215 11:05:50 @monitor.py:467]\u001b[0m GAN_loss/discrim/accuracy_fake: 0.94\n",
      "\u001b[32m[0215 11:05:50 @monitor.py:467]\u001b[0m GAN_loss/discrim/accuracy_real: 0.13\n",
      "\u001b[32m[0215 11:05:50 @monitor.py:467]\u001b[0m GAN_loss/discrim/loss: 0.64693\n",
      "\u001b[32m[0215 11:05:50 @monitor.py:467]\u001b[0m GAN_loss/gen/final-g-loss: 1.0899\n",
      "\u001b[32m[0215 11:05:50 @monitor.py:467]\u001b[0m GAN_loss/gen/klloss: 0.088802\n",
      "\u001b[32m[0215 11:05:50 @monitor.py:467]\u001b[0m GAN_loss/gen/loss: 1.001\n",
      "\u001b[32m[0215 11:05:50 @monitor.py:467]\u001b[0m QueueInput/queue_size: 50\n",
      "\u001b[32m[0215 11:05:50 @base.py:275]\u001b[0m Start Epoch 622 ...\n"
     ]
    },
    {
     "name": "stderr",
     "output_type": "stream",
     "text": [
      "\n",
      "100%|#################################################################################|2000/2000[00:31<00:00,63.52it/s]"
     ]
    },
    {
     "name": "stdout",
     "output_type": "stream",
     "text": [
      "\u001b[32m[0215 11:06:22 @base.py:285]\u001b[0m Epoch 622 (global_step 1244000) finished, time:31.5 seconds.\n",
      "\u001b[32m[0215 11:06:22 @saver.py:79]\u001b[0m Model saved to ./output_TGAN/output/model\\model-1244000.\n"
     ]
    },
    {
     "name": "stderr",
     "output_type": "stream",
     "text": [
      "\n"
     ]
    },
    {
     "name": "stdout",
     "output_type": "stream",
     "text": [
      "\u001b[32m[0215 11:06:22 @monitor.py:467]\u001b[0m GAN_loss/discrim/accuracy_fake: 0.92\n",
      "\u001b[32m[0215 11:06:22 @monitor.py:467]\u001b[0m GAN_loss/discrim/accuracy_real: 0.15\n",
      "\u001b[32m[0215 11:06:22 @monitor.py:467]\u001b[0m GAN_loss/discrim/loss: 0.64415\n",
      "\u001b[32m[0215 11:06:22 @monitor.py:467]\u001b[0m GAN_loss/gen/final-g-loss: 1.1259\n",
      "\u001b[32m[0215 11:06:22 @monitor.py:467]\u001b[0m GAN_loss/gen/klloss: 0.12402\n",
      "\u001b[32m[0215 11:06:22 @monitor.py:467]\u001b[0m GAN_loss/gen/loss: 1.0019\n",
      "\u001b[32m[0215 11:06:22 @monitor.py:467]\u001b[0m QueueInput/queue_size: 50\n",
      "\u001b[32m[0215 11:06:22 @base.py:275]\u001b[0m Start Epoch 623 ...\n"
     ]
    },
    {
     "name": "stderr",
     "output_type": "stream",
     "text": [
      "100%|#################################################################################|2000/2000[00:31<00:00,64.04it/s]"
     ]
    },
    {
     "name": "stdout",
     "output_type": "stream",
     "text": [
      "\u001b[32m[0215 11:06:53 @base.py:285]\u001b[0m Epoch 623 (global_step 1246000) finished, time:31.2 seconds.\n",
      "\u001b[32m[0215 11:06:53 @saver.py:79]\u001b[0m Model saved to ./output_TGAN/output/model\\model-1246000.\n",
      "\u001b[32m[0215 11:06:53 @monitor.py:467]\u001b[0m GAN_loss/discrim/accuracy_fake: 0.885\n",
      "\u001b[32m[0215 11:06:53 @monitor.py:467]\u001b[0m GAN_loss/discrim/accuracy_real: 0.145\n",
      "\u001b[32m[0215 11:06:53 @monitor.py:467]\u001b[0m GAN_loss/discrim/loss: 0.64273\n",
      "\u001b[32m[0215 11:06:53 @monitor.py:467]\u001b[0m GAN_loss/gen/final-g-loss: 1.0914\n",
      "\u001b[32m[0215 11:06:53 @monitor.py:467]\u001b[0m GAN_loss/gen/klloss: 0.10571\n",
      "\u001b[32m[0215 11:06:53 @monitor.py:467]\u001b[0m GAN_loss/gen/loss: 0.98572\n",
      "\u001b[32m[0215 11:06:53 @monitor.py:467]\u001b[0m QueueInput/queue_size: 50\n",
      "\u001b[32m[0215 11:06:53 @base.py:275]\u001b[0m Start Epoch 624 ...\n"
     ]
    },
    {
     "name": "stderr",
     "output_type": "stream",
     "text": [
      "\n",
      "100%|#################################################################################|2000/2000[00:31<00:00,64.16it/s]"
     ]
    },
    {
     "name": "stdout",
     "output_type": "stream",
     "text": [
      "\u001b[32m[0215 11:07:25 @base.py:285]\u001b[0m Epoch 624 (global_step 1248000) finished, time:31.2 seconds.\n",
      "\u001b[32m[0215 11:07:25 @saver.py:79]\u001b[0m Model saved to ./output_TGAN/output/model\\model-1248000.\n",
      "\u001b[32m[0215 11:07:25 @monitor.py:467]\u001b[0m GAN_loss/discrim/accuracy_fake: 0.92\n",
      "\u001b[32m[0215 11:07:25 @monitor.py:467]\u001b[0m GAN_loss/discrim/accuracy_real: 0.14\n",
      "\u001b[32m[0215 11:07:25 @monitor.py:467]\u001b[0m GAN_loss/discrim/loss: 0.64632\n",
      "\u001b[32m[0215 11:07:25 @monitor.py:467]\u001b[0m GAN_loss/gen/final-g-loss: 1.0806\n",
      "\u001b[32m[0215 11:07:25 @monitor.py:467]\u001b[0m GAN_loss/gen/klloss: 0.085977\n",
      "\u001b[32m[0215 11:07:25 @monitor.py:467]\u001b[0m GAN_loss/gen/loss: 0.9946\n",
      "\u001b[32m[0215 11:07:25 @monitor.py:467]\u001b[0m QueueInput/queue_size: 50\n",
      "\u001b[32m[0215 11:07:25 @base.py:275]\u001b[0m Start Epoch 625 ...\n"
     ]
    },
    {
     "name": "stderr",
     "output_type": "stream",
     "text": [
      "\n",
      "100%|#################################################################################|2000/2000[00:32<00:00,61.70it/s]"
     ]
    },
    {
     "name": "stdout",
     "output_type": "stream",
     "text": [
      "\u001b[32m[0215 11:07:57 @base.py:285]\u001b[0m Epoch 625 (global_step 1250000) finished, time:32.4 seconds.\n",
      "\u001b[32m[0215 11:07:57 @saver.py:79]\u001b[0m Model saved to ./output_TGAN/output/model\\model-1250000.\n",
      "\u001b[32m[0215 11:07:57 @monitor.py:467]\u001b[0m GAN_loss/discrim/accuracy_fake: 0.96\n",
      "\u001b[32m[0215 11:07:57 @monitor.py:467]\u001b[0m GAN_loss/discrim/accuracy_real: 0.12\n",
      "\u001b[32m[0215 11:07:57 @monitor.py:467]\u001b[0m GAN_loss/discrim/loss: 0.63699\n",
      "\u001b[32m[0215 11:07:57 @monitor.py:467]\u001b[0m GAN_loss/gen/final-g-loss: 1.1096\n",
      "\u001b[32m[0215 11:07:57 @monitor.py:467]\u001b[0m GAN_loss/gen/klloss: 0.081464\n",
      "\u001b[32m[0215 11:07:57 @monitor.py:467]\u001b[0m GAN_loss/gen/loss: 1.0282\n",
      "\u001b[32m[0215 11:07:57 @monitor.py:467]\u001b[0m QueueInput/queue_size: 50\n",
      "\u001b[32m[0215 11:07:57 @base.py:275]\u001b[0m Start Epoch 626 ...\n"
     ]
    },
    {
     "name": "stderr",
     "output_type": "stream",
     "text": [
      "\n",
      "100%|#################################################################################|2000/2000[00:32<00:00,62.42it/s]"
     ]
    },
    {
     "name": "stdout",
     "output_type": "stream",
     "text": [
      "\u001b[32m[0215 11:08:29 @base.py:285]\u001b[0m Epoch 626 (global_step 1252000) finished, time:32 seconds.\n",
      "\u001b[32m[0215 11:08:29 @saver.py:79]\u001b[0m Model saved to ./output_TGAN/output/model\\model-1252000.\n",
      "\u001b[32m[0215 11:08:29 @monitor.py:467]\u001b[0m GAN_loss/discrim/accuracy_fake: 0.925\n",
      "\u001b[32m[0215 11:08:29 @monitor.py:467]\u001b[0m GAN_loss/discrim/accuracy_real: 0.175\n",
      "\u001b[32m[0215 11:08:29 @monitor.py:467]\u001b[0m GAN_loss/discrim/loss: 0.63841\n",
      "\u001b[32m[0215 11:08:29 @monitor.py:467]\u001b[0m GAN_loss/gen/final-g-loss: 1.1378\n",
      "\u001b[32m[0215 11:08:29 @monitor.py:467]\u001b[0m GAN_loss/gen/klloss: 0.13272\n",
      "\u001b[32m[0215 11:08:29 @monitor.py:467]\u001b[0m GAN_loss/gen/loss: 1.0051\n",
      "\u001b[32m[0215 11:08:29 @monitor.py:467]\u001b[0m QueueInput/queue_size: 50\n",
      "\u001b[32m[0215 11:08:29 @base.py:275]\u001b[0m Start Epoch 627 ...\n"
     ]
    },
    {
     "name": "stderr",
     "output_type": "stream",
     "text": [
      "\n",
      "100%|#################################################################################|2000/2000[00:31<00:00,62.94it/s]"
     ]
    },
    {
     "name": "stdout",
     "output_type": "stream",
     "text": [
      "\u001b[32m[0215 11:09:01 @base.py:285]\u001b[0m Epoch 627 (global_step 1254000) finished, time:31.8 seconds.\n",
      "\u001b[32m[0215 11:09:01 @saver.py:79]\u001b[0m Model saved to ./output_TGAN/output/model\\model-1254000.\n",
      "\u001b[32m[0215 11:09:01 @monitor.py:467]\u001b[0m GAN_loss/discrim/accuracy_fake: 0.945\n",
      "\u001b[32m[0215 11:09:01 @monitor.py:467]\u001b[0m GAN_loss/discrim/accuracy_real: 0.2\n",
      "\u001b[32m[0215 11:09:01 @monitor.py:467]\u001b[0m GAN_loss/discrim/loss: 0.64364\n",
      "\u001b[32m[0215 11:09:01 @monitor.py:467]\u001b[0m GAN_loss/gen/final-g-loss: 1.1091\n",
      "\u001b[32m[0215 11:09:01 @monitor.py:467]\u001b[0m GAN_loss/gen/klloss: 0.10553\n",
      "\u001b[32m[0215 11:09:01 @monitor.py:467]\u001b[0m GAN_loss/gen/loss: 1.0036\n",
      "\u001b[32m[0215 11:09:01 @monitor.py:467]\u001b[0m QueueInput/queue_size: 50\n",
      "\u001b[32m[0215 11:09:01 @base.py:275]\u001b[0m Start Epoch 628 ...\n"
     ]
    },
    {
     "name": "stderr",
     "output_type": "stream",
     "text": [
      "\n",
      "100%|#################################################################################|2000/2000[00:31<00:00,63.11it/s]"
     ]
    },
    {
     "name": "stdout",
     "output_type": "stream",
     "text": [
      "\u001b[32m[0215 11:09:33 @base.py:285]\u001b[0m Epoch 628 (global_step 1256000) finished, time:31.7 seconds.\n",
      "\u001b[32m[0215 11:09:33 @saver.py:79]\u001b[0m Model saved to ./output_TGAN/output/model\\model-1256000.\n",
      "\u001b[32m[0215 11:09:33 @monitor.py:467]\u001b[0m GAN_loss/discrim/accuracy_fake: 0.92\n",
      "\u001b[32m[0215 11:09:33 @monitor.py:467]\u001b[0m GAN_loss/discrim/accuracy_real: 0.11\n",
      "\u001b[32m[0215 11:09:33 @monitor.py:467]\u001b[0m GAN_loss/discrim/loss: 0.65808\n",
      "\u001b[32m[0215 11:09:33 @monitor.py:467]\u001b[0m GAN_loss/gen/final-g-loss: 1.0248\n",
      "\u001b[32m[0215 11:09:33 @monitor.py:467]\u001b[0m GAN_loss/gen/klloss: 0.044741\n",
      "\u001b[32m[0215 11:09:33 @monitor.py:467]\u001b[0m GAN_loss/gen/loss: 0.98005\n",
      "\u001b[32m[0215 11:09:33 @monitor.py:467]\u001b[0m QueueInput/queue_size: 50\n",
      "\u001b[32m[0215 11:09:33 @base.py:275]\u001b[0m Start Epoch 629 ...\n"
     ]
    },
    {
     "name": "stderr",
     "output_type": "stream",
     "text": [
      "\n",
      "100%|#################################################################################|2000/2000[00:31<00:00,63.14it/s]"
     ]
    },
    {
     "name": "stdout",
     "output_type": "stream",
     "text": [
      "\u001b[32m[0215 11:10:05 @base.py:285]\u001b[0m Epoch 629 (global_step 1258000) finished, time:31.7 seconds.\n",
      "\u001b[32m[0215 11:10:05 @saver.py:79]\u001b[0m Model saved to ./output_TGAN/output/model\\model-1258000.\n",
      "\u001b[32m[0215 11:10:05 @monitor.py:467]\u001b[0m GAN_loss/discrim/accuracy_fake: 0.925\n",
      "\u001b[32m[0215 11:10:05 @monitor.py:467]\u001b[0m GAN_loss/discrim/accuracy_real: 0.13\n",
      "\u001b[32m[0215 11:10:05 @monitor.py:467]\u001b[0m GAN_loss/discrim/loss: 0.63791\n",
      "\u001b[32m[0215 11:10:05 @monitor.py:467]\u001b[0m GAN_loss/gen/final-g-loss: 1.0974\n",
      "\u001b[32m[0215 11:10:05 @monitor.py:467]\u001b[0m GAN_loss/gen/klloss: 0.083836\n",
      "\u001b[32m[0215 11:10:05 @monitor.py:467]\u001b[0m GAN_loss/gen/loss: 1.0135\n",
      "\u001b[32m[0215 11:10:05 @monitor.py:467]\u001b[0m QueueInput/queue_size: 50\n",
      "\u001b[32m[0215 11:10:05 @base.py:275]\u001b[0m Start Epoch 630 ...\n"
     ]
    },
    {
     "name": "stderr",
     "output_type": "stream",
     "text": [
      "\n",
      "100%|#################################################################################|2000/2000[00:31<00:00,63.11it/s]"
     ]
    },
    {
     "name": "stdout",
     "output_type": "stream",
     "text": [
      "\u001b[32m[0215 11:10:37 @base.py:285]\u001b[0m Epoch 630 (global_step 1260000) finished, time:31.7 seconds.\n",
      "\u001b[32m[0215 11:10:37 @saver.py:79]\u001b[0m Model saved to ./output_TGAN/output/model\\model-1260000.\n",
      "\u001b[32m[0215 11:10:37 @monitor.py:467]\u001b[0m GAN_loss/discrim/accuracy_fake: 0.91\n",
      "\u001b[32m[0215 11:10:37 @monitor.py:467]\u001b[0m GAN_loss/discrim/accuracy_real: 0.17\n",
      "\u001b[32m[0215 11:10:37 @monitor.py:467]\u001b[0m GAN_loss/discrim/loss: 0.64499\n",
      "\u001b[32m[0215 11:10:37 @monitor.py:467]\u001b[0m GAN_loss/gen/final-g-loss: 1.0721\n",
      "\u001b[32m[0215 11:10:37 @monitor.py:467]\u001b[0m GAN_loss/gen/klloss: 0.088799\n",
      "\u001b[32m[0215 11:10:37 @monitor.py:467]\u001b[0m GAN_loss/gen/loss: 0.98328\n",
      "\u001b[32m[0215 11:10:37 @monitor.py:467]\u001b[0m QueueInput/queue_size: 50\n",
      "\u001b[32m[0215 11:10:37 @base.py:275]\u001b[0m Start Epoch 631 ...\n"
     ]
    },
    {
     "name": "stderr",
     "output_type": "stream",
     "text": [
      "\n",
      "100%|#################################################################################|2000/2000[00:31<00:00,63.16it/s]"
     ]
    },
    {
     "name": "stdout",
     "output_type": "stream",
     "text": [
      "\u001b[32m[0215 11:11:09 @base.py:285]\u001b[0m Epoch 631 (global_step 1262000) finished, time:31.7 seconds.\n",
      "\u001b[32m[0215 11:11:09 @saver.py:79]\u001b[0m Model saved to ./output_TGAN/output/model\\model-1262000.\n",
      "\u001b[32m[0215 11:11:09 @monitor.py:467]\u001b[0m GAN_loss/discrim/accuracy_fake: 0.92\n",
      "\u001b[32m[0215 11:11:09 @monitor.py:467]\u001b[0m GAN_loss/discrim/accuracy_real: 0.11\n",
      "\u001b[32m[0215 11:11:09 @monitor.py:467]\u001b[0m GAN_loss/discrim/loss: 0.65164\n",
      "\u001b[32m[0215 11:11:09 @monitor.py:467]\u001b[0m GAN_loss/gen/final-g-loss: 1.069\n",
      "\u001b[32m[0215 11:11:09 @monitor.py:467]\u001b[0m GAN_loss/gen/klloss: 0.084116\n",
      "\u001b[32m[0215 11:11:09 @monitor.py:467]\u001b[0m GAN_loss/gen/loss: 0.98486\n",
      "\u001b[32m[0215 11:11:09 @monitor.py:467]\u001b[0m QueueInput/queue_size: 50\n",
      "\u001b[32m[0215 11:11:09 @base.py:275]\u001b[0m Start Epoch 632 ...\n"
     ]
    },
    {
     "name": "stderr",
     "output_type": "stream",
     "text": [
      "\n",
      "100%|#################################################################################|2000/2000[00:31<00:00,63.15it/s]"
     ]
    },
    {
     "name": "stdout",
     "output_type": "stream",
     "text": [
      "\u001b[32m[0215 11:11:40 @base.py:285]\u001b[0m Epoch 632 (global_step 1264000) finished, time:31.7 seconds.\n",
      "\u001b[32m[0215 11:11:40 @saver.py:79]\u001b[0m Model saved to ./output_TGAN/output/model\\model-1264000.\n",
      "\u001b[32m[0215 11:11:40 @monitor.py:467]\u001b[0m GAN_loss/discrim/accuracy_fake: 0.95\n",
      "\u001b[32m[0215 11:11:40 @monitor.py:467]\u001b[0m GAN_loss/discrim/accuracy_real: 0.12\n",
      "\u001b[32m[0215 11:11:40 @monitor.py:467]\u001b[0m GAN_loss/discrim/loss: 0.64643\n",
      "\u001b[32m[0215 11:11:40 @monitor.py:467]\u001b[0m GAN_loss/gen/final-g-loss: 1.1233\n",
      "\u001b[32m[0215 11:11:40 @monitor.py:467]\u001b[0m GAN_loss/gen/klloss: 0.11498\n",
      "\u001b[32m[0215 11:11:40 @monitor.py:467]\u001b[0m GAN_loss/gen/loss: 1.0083\n",
      "\u001b[32m[0215 11:11:40 @monitor.py:467]\u001b[0m QueueInput/queue_size: 50\n",
      "\u001b[32m[0215 11:11:41 @base.py:275]\u001b[0m Start Epoch 633 ...\n"
     ]
    },
    {
     "name": "stderr",
     "output_type": "stream",
     "text": [
      "\n",
      "100%|#################################################################################|2000/2000[00:31<00:00,63.01it/s]"
     ]
    },
    {
     "name": "stdout",
     "output_type": "stream",
     "text": [
      "\u001b[32m[0215 11:12:12 @base.py:285]\u001b[0m Epoch 633 (global_step 1266000) finished, time:31.7 seconds.\n",
      "\u001b[32m[0215 11:12:12 @saver.py:79]\u001b[0m Model saved to ./output_TGAN/output/model\\model-1266000.\n",
      "\u001b[32m[0215 11:12:12 @monitor.py:467]\u001b[0m GAN_loss/discrim/accuracy_fake: 0.94\n",
      "\u001b[32m[0215 11:12:12 @monitor.py:467]\u001b[0m GAN_loss/discrim/accuracy_real: 0.14\n",
      "\u001b[32m[0215 11:12:12 @monitor.py:467]\u001b[0m GAN_loss/discrim/loss: 0.65216\n",
      "\u001b[32m[0215 11:12:12 @monitor.py:467]\u001b[0m GAN_loss/gen/final-g-loss: 1.1014\n",
      "\u001b[32m[0215 11:12:12 @monitor.py:467]\u001b[0m GAN_loss/gen/klloss: 0.098088\n",
      "\u001b[32m[0215 11:12:12 @monitor.py:467]\u001b[0m GAN_loss/gen/loss: 1.0033\n",
      "\u001b[32m[0215 11:12:12 @monitor.py:467]\u001b[0m QueueInput/queue_size: 50\n",
      "\u001b[32m[0215 11:12:12 @base.py:275]\u001b[0m Start Epoch 634 ...\n"
     ]
    },
    {
     "name": "stderr",
     "output_type": "stream",
     "text": [
      "\n",
      "100%|#################################################################################|2000/2000[00:31<00:00,63.15it/s]"
     ]
    },
    {
     "name": "stdout",
     "output_type": "stream",
     "text": [
      "\u001b[32m[0215 11:12:44 @base.py:285]\u001b[0m Epoch 634 (global_step 1268000) finished, time:31.7 seconds.\n",
      "\u001b[32m[0215 11:12:44 @saver.py:79]\u001b[0m Model saved to ./output_TGAN/output/model\\model-1268000.\n",
      "\u001b[32m[0215 11:12:44 @monitor.py:467]\u001b[0m GAN_loss/discrim/accuracy_fake: 0.915\n",
      "\u001b[32m[0215 11:12:44 @monitor.py:467]\u001b[0m GAN_loss/discrim/accuracy_real: 0.105\n",
      "\u001b[32m[0215 11:12:44 @monitor.py:467]\u001b[0m GAN_loss/discrim/loss: 0.64907\n",
      "\u001b[32m[0215 11:12:44 @monitor.py:467]\u001b[0m GAN_loss/gen/final-g-loss: 1.106\n",
      "\u001b[32m[0215 11:12:44 @monitor.py:467]\u001b[0m GAN_loss/gen/klloss: 0.11757\n",
      "\u001b[32m[0215 11:12:44 @monitor.py:467]\u001b[0m GAN_loss/gen/loss: 0.98841\n",
      "\u001b[32m[0215 11:12:44 @monitor.py:467]\u001b[0m QueueInput/queue_size: 50\n",
      "\u001b[32m[0215 11:12:44 @base.py:275]\u001b[0m Start Epoch 635 ...\n"
     ]
    },
    {
     "name": "stderr",
     "output_type": "stream",
     "text": [
      "\n",
      "100%|#################################################################################|2000/2000[00:32<00:00,62.24it/s]"
     ]
    },
    {
     "name": "stdout",
     "output_type": "stream",
     "text": [
      "\u001b[32m[0215 11:13:16 @base.py:285]\u001b[0m Epoch 635 (global_step 1270000) finished, time:32.1 seconds.\n",
      "\u001b[32m[0215 11:13:16 @saver.py:79]\u001b[0m Model saved to ./output_TGAN/output/model\\model-1270000.\n"
     ]
    },
    {
     "name": "stderr",
     "output_type": "stream",
     "text": [
      "\n"
     ]
    },
    {
     "name": "stdout",
     "output_type": "stream",
     "text": [
      "\u001b[32m[0215 11:13:16 @monitor.py:467]\u001b[0m GAN_loss/discrim/accuracy_fake: 0.895\n",
      "\u001b[32m[0215 11:13:16 @monitor.py:467]\u001b[0m GAN_loss/discrim/accuracy_real: 0.105\n",
      "\u001b[32m[0215 11:13:16 @monitor.py:467]\u001b[0m GAN_loss/discrim/loss: 0.6501\n",
      "\u001b[32m[0215 11:13:16 @monitor.py:467]\u001b[0m GAN_loss/gen/final-g-loss: 1.0893\n",
      "\u001b[32m[0215 11:13:16 @monitor.py:467]\u001b[0m GAN_loss/gen/klloss: 0.10026\n",
      "\u001b[32m[0215 11:13:16 @monitor.py:467]\u001b[0m GAN_loss/gen/loss: 0.98906\n",
      "\u001b[32m[0215 11:13:16 @monitor.py:467]\u001b[0m QueueInput/queue_size: 50\n",
      "\u001b[32m[0215 11:13:16 @base.py:275]\u001b[0m Start Epoch 636 ...\n"
     ]
    },
    {
     "name": "stderr",
     "output_type": "stream",
     "text": [
      "100%|#################################################################################|2000/2000[00:31<00:00,63.12it/s]"
     ]
    },
    {
     "name": "stdout",
     "output_type": "stream",
     "text": [
      "\u001b[32m[0215 11:13:48 @base.py:285]\u001b[0m Epoch 636 (global_step 1272000) finished, time:31.7 seconds.\n",
      "\u001b[32m[0215 11:13:48 @saver.py:79]\u001b[0m Model saved to ./output_TGAN/output/model\\model-1272000.\n",
      "\u001b[32m[0215 11:13:48 @monitor.py:467]\u001b[0m GAN_loss/discrim/accuracy_fake: 0.945\n",
      "\u001b[32m[0215 11:13:48 @monitor.py:467]\u001b[0m GAN_loss/discrim/accuracy_real: 0.15\n",
      "\u001b[32m[0215 11:13:48 @monitor.py:467]\u001b[0m GAN_loss/discrim/loss: 0.64798\n",
      "\u001b[32m[0215 11:13:48 @monitor.py:467]\u001b[0m GAN_loss/gen/final-g-loss: 1.1074\n",
      "\u001b[32m[0215 11:13:48 @monitor.py:467]\u001b[0m GAN_loss/gen/klloss: 0.1115\n",
      "\u001b[32m[0215 11:13:48 @monitor.py:467]\u001b[0m GAN_loss/gen/loss: 0.99594\n",
      "\u001b[32m[0215 11:13:48 @monitor.py:467]\u001b[0m QueueInput/queue_size: 50\n",
      "\u001b[32m[0215 11:13:48 @base.py:275]\u001b[0m Start Epoch 637 ...\n"
     ]
    },
    {
     "name": "stderr",
     "output_type": "stream",
     "text": [
      "\n",
      "100%|#################################################################################|2000/2000[00:31<00:00,63.15it/s]"
     ]
    },
    {
     "name": "stdout",
     "output_type": "stream",
     "text": [
      "\u001b[32m[0215 11:14:20 @base.py:285]\u001b[0m Epoch 637 (global_step 1274000) finished, time:31.7 seconds.\n",
      "\u001b[32m[0215 11:14:20 @saver.py:79]\u001b[0m Model saved to ./output_TGAN/output/model\\model-1274000.\n",
      "\u001b[32m[0215 11:14:20 @monitor.py:467]\u001b[0m GAN_loss/discrim/accuracy_fake: 0.95\n",
      "\u001b[32m[0215 11:14:20 @monitor.py:467]\u001b[0m GAN_loss/discrim/accuracy_real: 0.145\n",
      "\u001b[32m[0215 11:14:20 @monitor.py:467]\u001b[0m GAN_loss/discrim/loss: 0.63946\n",
      "\u001b[32m[0215 11:14:20 @monitor.py:467]\u001b[0m GAN_loss/gen/final-g-loss: 1.1393\n",
      "\u001b[32m[0215 11:14:20 @monitor.py:467]\u001b[0m GAN_loss/gen/klloss: 0.12243\n",
      "\u001b[32m[0215 11:14:20 @monitor.py:467]\u001b[0m GAN_loss/gen/loss: 1.0169\n",
      "\u001b[32m[0215 11:14:20 @monitor.py:467]\u001b[0m QueueInput/queue_size: 50\n",
      "\u001b[32m[0215 11:14:20 @base.py:275]\u001b[0m Start Epoch 638 ...\n"
     ]
    },
    {
     "name": "stderr",
     "output_type": "stream",
     "text": [
      "\n",
      "100%|#################################################################################|2000/2000[00:31<00:00,63.18it/s]"
     ]
    },
    {
     "name": "stdout",
     "output_type": "stream",
     "text": [
      "\u001b[32m[0215 11:14:52 @base.py:285]\u001b[0m Epoch 638 (global_step 1276000) finished, time:31.7 seconds.\n",
      "\u001b[32m[0215 11:14:52 @saver.py:79]\u001b[0m Model saved to ./output_TGAN/output/model\\model-1276000.\n",
      "\u001b[32m[0215 11:14:52 @monitor.py:467]\u001b[0m GAN_loss/discrim/accuracy_fake: 0.95\n",
      "\u001b[32m[0215 11:14:52 @monitor.py:467]\u001b[0m GAN_loss/discrim/accuracy_real: 0.12\n",
      "\u001b[32m[0215 11:14:52 @monitor.py:467]\u001b[0m GAN_loss/discrim/loss: 0.63751\n",
      "\u001b[32m[0215 11:14:52 @monitor.py:467]\u001b[0m GAN_loss/gen/final-g-loss: 1.1169\n",
      "\u001b[32m[0215 11:14:52 @monitor.py:467]\u001b[0m GAN_loss/gen/klloss: 0.10559\n",
      "\u001b[32m[0215 11:14:52 @monitor.py:467]\u001b[0m GAN_loss/gen/loss: 1.0113\n",
      "\u001b[32m[0215 11:14:52 @monitor.py:467]\u001b[0m QueueInput/queue_size: 50\n",
      "\u001b[32m[0215 11:14:52 @base.py:275]\u001b[0m Start Epoch 639 ...\n"
     ]
    },
    {
     "name": "stderr",
     "output_type": "stream",
     "text": [
      "\n",
      "100%|#################################################################################|2000/2000[00:31<00:00,63.10it/s]"
     ]
    },
    {
     "name": "stdout",
     "output_type": "stream",
     "text": [
      "\u001b[32m[0215 11:15:24 @base.py:285]\u001b[0m Epoch 639 (global_step 1278000) finished, time:31.7 seconds.\n",
      "\u001b[32m[0215 11:15:24 @saver.py:79]\u001b[0m Model saved to ./output_TGAN/output/model\\model-1278000.\n",
      "\u001b[32m[0215 11:15:24 @monitor.py:467]\u001b[0m GAN_loss/discrim/accuracy_fake: 0.955\n",
      "\u001b[32m[0215 11:15:24 @monitor.py:467]\u001b[0m GAN_loss/discrim/accuracy_real: 0.145\n",
      "\u001b[32m[0215 11:15:24 @monitor.py:467]\u001b[0m GAN_loss/discrim/loss: 0.6335\n",
      "\u001b[32m[0215 11:15:24 @monitor.py:467]\u001b[0m GAN_loss/gen/final-g-loss: 1.1156\n",
      "\u001b[32m[0215 11:15:24 @monitor.py:467]\u001b[0m GAN_loss/gen/klloss: 0.10865\n",
      "\u001b[32m[0215 11:15:24 @monitor.py:467]\u001b[0m GAN_loss/gen/loss: 1.007\n",
      "\u001b[32m[0215 11:15:24 @monitor.py:467]\u001b[0m QueueInput/queue_size: 50\n",
      "\u001b[32m[0215 11:15:24 @base.py:275]\u001b[0m Start Epoch 640 ...\n"
     ]
    },
    {
     "name": "stderr",
     "output_type": "stream",
     "text": [
      "\n",
      "100%|#################################################################################|2000/2000[00:31<00:00,63.25it/s]"
     ]
    },
    {
     "name": "stdout",
     "output_type": "stream",
     "text": [
      "\u001b[32m[0215 11:15:55 @base.py:285]\u001b[0m Epoch 640 (global_step 1280000) finished, time:31.6 seconds.\n",
      "\u001b[32m[0215 11:15:55 @saver.py:79]\u001b[0m Model saved to ./output_TGAN/output/model\\model-1280000.\n",
      "\u001b[32m[0215 11:15:56 @monitor.py:467]\u001b[0m GAN_loss/discrim/accuracy_fake: 0.96\n",
      "\u001b[32m[0215 11:15:56 @monitor.py:467]\u001b[0m GAN_loss/discrim/accuracy_real: 0.11\n",
      "\u001b[32m[0215 11:15:56 @monitor.py:467]\u001b[0m GAN_loss/discrim/loss: 0.64521\n",
      "\u001b[32m[0215 11:15:56 @monitor.py:467]\u001b[0m GAN_loss/gen/final-g-loss: 1.0784\n",
      "\u001b[32m[0215 11:15:56 @monitor.py:467]\u001b[0m GAN_loss/gen/klloss: 0.08282\n",
      "\u001b[32m[0215 11:15:56 @monitor.py:467]\u001b[0m GAN_loss/gen/loss: 0.99559\n",
      "\u001b[32m[0215 11:15:56 @monitor.py:467]\u001b[0m QueueInput/queue_size: 50\n",
      "\u001b[32m[0215 11:15:56 @base.py:275]\u001b[0m Start Epoch 641 ...\n"
     ]
    },
    {
     "name": "stderr",
     "output_type": "stream",
     "text": [
      "\n",
      "100%|#################################################################################|2000/2000[00:31<00:00,63.20it/s]"
     ]
    },
    {
     "name": "stdout",
     "output_type": "stream",
     "text": [
      "\u001b[32m[0215 11:16:27 @base.py:285]\u001b[0m Epoch 641 (global_step 1282000) finished, time:31.6 seconds.\n",
      "\u001b[32m[0215 11:16:27 @saver.py:79]\u001b[0m Model saved to ./output_TGAN/output/model\\model-1282000.\n",
      "\u001b[32m[0215 11:16:27 @monitor.py:467]\u001b[0m GAN_loss/discrim/accuracy_fake: 0.92\n",
      "\u001b[32m[0215 11:16:27 @monitor.py:467]\u001b[0m GAN_loss/discrim/accuracy_real: 0.095\n",
      "\u001b[32m[0215 11:16:27 @monitor.py:467]\u001b[0m GAN_loss/discrim/loss: 0.64549\n",
      "\u001b[32m[0215 11:16:27 @monitor.py:467]\u001b[0m GAN_loss/gen/final-g-loss: 1.1093\n",
      "\u001b[32m[0215 11:16:27 @monitor.py:467]\u001b[0m GAN_loss/gen/klloss: 0.11201\n",
      "\u001b[32m[0215 11:16:27 @monitor.py:467]\u001b[0m GAN_loss/gen/loss: 0.99726\n",
      "\u001b[32m[0215 11:16:27 @monitor.py:467]\u001b[0m QueueInput/queue_size: 50\n",
      "\u001b[32m[0215 11:16:27 @base.py:275]\u001b[0m Start Epoch 642 ...\n"
     ]
    },
    {
     "name": "stderr",
     "output_type": "stream",
     "text": [
      "\n",
      "100%|#################################################################################|2000/2000[00:31<00:00,63.26it/s]"
     ]
    },
    {
     "name": "stdout",
     "output_type": "stream",
     "text": [
      "\u001b[32m[0215 11:16:59 @base.py:285]\u001b[0m Epoch 642 (global_step 1284000) finished, time:31.6 seconds.\n",
      "\u001b[32m[0215 11:16:59 @saver.py:79]\u001b[0m Model saved to ./output_TGAN/output/model\\model-1284000.\n",
      "\u001b[32m[0215 11:16:59 @monitor.py:467]\u001b[0m GAN_loss/discrim/accuracy_fake: 0.945\n",
      "\u001b[32m[0215 11:16:59 @monitor.py:467]\u001b[0m GAN_loss/discrim/accuracy_real: 0.14\n",
      "\u001b[32m[0215 11:16:59 @monitor.py:467]\u001b[0m GAN_loss/discrim/loss: 0.62876\n",
      "\u001b[32m[0215 11:16:59 @monitor.py:467]\u001b[0m GAN_loss/gen/final-g-loss: 1.1034\n",
      "\u001b[32m[0215 11:16:59 @monitor.py:467]\u001b[0m GAN_loss/gen/klloss: 0.079211\n",
      "\u001b[32m[0215 11:16:59 @monitor.py:467]\u001b[0m GAN_loss/gen/loss: 1.0242\n",
      "\u001b[32m[0215 11:16:59 @monitor.py:467]\u001b[0m QueueInput/queue_size: 50\n",
      "\u001b[32m[0215 11:16:59 @base.py:275]\u001b[0m Start Epoch 643 ...\n"
     ]
    },
    {
     "name": "stderr",
     "output_type": "stream",
     "text": [
      "\n",
      "100%|#################################################################################|2000/2000[00:31<00:00,63.21it/s]"
     ]
    },
    {
     "name": "stdout",
     "output_type": "stream",
     "text": [
      "\u001b[32m[0215 11:17:31 @base.py:285]\u001b[0m Epoch 643 (global_step 1286000) finished, time:31.6 seconds.\n",
      "\u001b[32m[0215 11:17:31 @saver.py:79]\u001b[0m Model saved to ./output_TGAN/output/model\\model-1286000.\n",
      "\u001b[32m[0215 11:17:31 @monitor.py:467]\u001b[0m GAN_loss/discrim/accuracy_fake: 0.935\n",
      "\u001b[32m[0215 11:17:31 @monitor.py:467]\u001b[0m GAN_loss/discrim/accuracy_real: 0.135\n",
      "\u001b[32m[0215 11:17:31 @monitor.py:467]\u001b[0m GAN_loss/discrim/loss: 0.63636\n",
      "\u001b[32m[0215 11:17:31 @monitor.py:467]\u001b[0m GAN_loss/gen/final-g-loss: 1.1083\n",
      "\u001b[32m[0215 11:17:31 @monitor.py:467]\u001b[0m GAN_loss/gen/klloss: 0.10008\n",
      "\u001b[32m[0215 11:17:31 @monitor.py:467]\u001b[0m GAN_loss/gen/loss: 1.0082\n",
      "\u001b[32m[0215 11:17:31 @monitor.py:467]\u001b[0m QueueInput/queue_size: 50\n",
      "\u001b[32m[0215 11:17:31 @base.py:275]\u001b[0m Start Epoch 644 ...\n"
     ]
    },
    {
     "name": "stderr",
     "output_type": "stream",
     "text": [
      "\n",
      "100%|#################################################################################|2000/2000[00:31<00:00,63.18it/s]"
     ]
    },
    {
     "name": "stdout",
     "output_type": "stream",
     "text": [
      "\u001b[32m[0215 11:18:03 @base.py:285]\u001b[0m Epoch 644 (global_step 1288000) finished, time:31.7 seconds.\n",
      "\u001b[32m[0215 11:18:03 @saver.py:79]\u001b[0m Model saved to ./output_TGAN/output/model\\model-1288000.\n",
      "\u001b[32m[0215 11:18:03 @monitor.py:467]\u001b[0m GAN_loss/discrim/accuracy_fake: 0.92\n",
      "\u001b[32m[0215 11:18:03 @monitor.py:467]\u001b[0m GAN_loss/discrim/accuracy_real: 0.115\n",
      "\u001b[32m[0215 11:18:03 @monitor.py:467]\u001b[0m GAN_loss/discrim/loss: 0.64914\n",
      "\u001b[32m[0215 11:18:03 @monitor.py:467]\u001b[0m GAN_loss/gen/final-g-loss: 1.1553\n",
      "\u001b[32m[0215 11:18:03 @monitor.py:467]\u001b[0m GAN_loss/gen/klloss: 0.14456\n",
      "\u001b[32m[0215 11:18:03 @monitor.py:467]\u001b[0m GAN_loss/gen/loss: 1.0108\n",
      "\u001b[32m[0215 11:18:03 @monitor.py:467]\u001b[0m QueueInput/queue_size: 50\n",
      "\u001b[32m[0215 11:18:03 @base.py:275]\u001b[0m Start Epoch 645 ...\n"
     ]
    },
    {
     "name": "stderr",
     "output_type": "stream",
     "text": [
      "\n",
      "100%|#################################################################################|2000/2000[00:31<00:00,63.26it/s]"
     ]
    },
    {
     "name": "stdout",
     "output_type": "stream",
     "text": [
      "\u001b[32m[0215 11:18:34 @base.py:285]\u001b[0m Epoch 645 (global_step 1290000) finished, time:31.6 seconds.\n",
      "\u001b[32m[0215 11:18:34 @saver.py:79]\u001b[0m Model saved to ./output_TGAN/output/model\\model-1290000.\n",
      "\u001b[32m[0215 11:18:34 @monitor.py:467]\u001b[0m GAN_loss/discrim/accuracy_fake: 0.91\n",
      "\u001b[32m[0215 11:18:34 @monitor.py:467]\u001b[0m GAN_loss/discrim/accuracy_real: 0.13\n",
      "\u001b[32m[0215 11:18:34 @monitor.py:467]\u001b[0m GAN_loss/discrim/loss: 0.64549\n",
      "\u001b[32m[0215 11:18:34 @monitor.py:467]\u001b[0m GAN_loss/gen/final-g-loss: 1.0978\n",
      "\u001b[32m[0215 11:18:34 @monitor.py:467]\u001b[0m GAN_loss/gen/klloss: 0.11061\n",
      "\u001b[32m[0215 11:18:34 @monitor.py:467]\u001b[0m GAN_loss/gen/loss: 0.98717\n",
      "\u001b[32m[0215 11:18:34 @monitor.py:467]\u001b[0m QueueInput/queue_size: 50\n",
      "\u001b[32m[0215 11:18:34 @base.py:275]\u001b[0m Start Epoch 646 ...\n"
     ]
    },
    {
     "name": "stderr",
     "output_type": "stream",
     "text": [
      "\n",
      "100%|#################################################################################|2000/2000[00:31<00:00,63.23it/s]"
     ]
    },
    {
     "name": "stdout",
     "output_type": "stream",
     "text": [
      "\u001b[32m[0215 11:19:06 @base.py:285]\u001b[0m Epoch 646 (global_step 1292000) finished, time:31.6 seconds.\n",
      "\u001b[32m[0215 11:19:06 @saver.py:79]\u001b[0m Model saved to ./output_TGAN/output/model\\model-1292000.\n",
      "\u001b[32m[0215 11:19:06 @monitor.py:467]\u001b[0m GAN_loss/discrim/accuracy_fake: 0.935\n",
      "\u001b[32m[0215 11:19:06 @monitor.py:467]\u001b[0m GAN_loss/discrim/accuracy_real: 0.095\n",
      "\u001b[32m[0215 11:19:06 @monitor.py:467]\u001b[0m GAN_loss/discrim/loss: 0.64572\n",
      "\u001b[32m[0215 11:19:06 @monitor.py:467]\u001b[0m GAN_loss/gen/final-g-loss: 1.1115\n",
      "\u001b[32m[0215 11:19:06 @monitor.py:467]\u001b[0m GAN_loss/gen/klloss: 0.113\n",
      "\u001b[32m[0215 11:19:06 @monitor.py:467]\u001b[0m GAN_loss/gen/loss: 0.9985\n",
      "\u001b[32m[0215 11:19:06 @monitor.py:467]\u001b[0m QueueInput/queue_size: 50\n",
      "\u001b[32m[0215 11:19:06 @base.py:275]\u001b[0m Start Epoch 647 ...\n"
     ]
    },
    {
     "name": "stderr",
     "output_type": "stream",
     "text": [
      "\n",
      "100%|#################################################################################|2000/2000[00:31<00:00,63.24it/s]"
     ]
    },
    {
     "name": "stdout",
     "output_type": "stream",
     "text": [
      "\u001b[32m[0215 11:19:38 @base.py:285]\u001b[0m Epoch 647 (global_step 1294000) finished, time:31.6 seconds.\n",
      "\u001b[32m[0215 11:19:38 @saver.py:79]\u001b[0m Model saved to ./output_TGAN/output/model\\model-1294000.\n",
      "\u001b[32m[0215 11:19:38 @monitor.py:467]\u001b[0m GAN_loss/discrim/accuracy_fake: 0.92\n",
      "\u001b[32m[0215 11:19:38 @monitor.py:467]\u001b[0m GAN_loss/discrim/accuracy_real: 0.12\n",
      "\u001b[32m[0215 11:19:38 @monitor.py:467]\u001b[0m GAN_loss/discrim/loss: 0.65136\n",
      "\u001b[32m[0215 11:19:38 @monitor.py:467]\u001b[0m GAN_loss/gen/final-g-loss: 1.1254\n",
      "\u001b[32m[0215 11:19:38 @monitor.py:467]\u001b[0m GAN_loss/gen/klloss: 0.14133\n",
      "\u001b[32m[0215 11:19:38 @monitor.py:467]\u001b[0m GAN_loss/gen/loss: 0.98408\n",
      "\u001b[32m[0215 11:19:38 @monitor.py:467]\u001b[0m QueueInput/queue_size: 50\n",
      "\u001b[32m[0215 11:19:38 @base.py:275]\u001b[0m Start Epoch 648 ...\n"
     ]
    },
    {
     "name": "stderr",
     "output_type": "stream",
     "text": [
      "\n",
      "100%|#################################################################################|2000/2000[00:31<00:00,63.16it/s]"
     ]
    },
    {
     "name": "stdout",
     "output_type": "stream",
     "text": [
      "\u001b[32m[0215 11:20:10 @base.py:285]\u001b[0m Epoch 648 (global_step 1296000) finished, time:31.7 seconds.\n",
      "\u001b[32m[0215 11:20:10 @saver.py:79]\u001b[0m Model saved to ./output_TGAN/output/model\\model-1296000.\n",
      "\u001b[32m[0215 11:20:10 @monitor.py:467]\u001b[0m GAN_loss/discrim/accuracy_fake: 0.935\n",
      "\u001b[32m[0215 11:20:10 @monitor.py:467]\u001b[0m GAN_loss/discrim/accuracy_real: 0.145\n",
      "\u001b[32m[0215 11:20:10 @monitor.py:467]\u001b[0m GAN_loss/discrim/loss: 0.64174\n",
      "\u001b[32m[0215 11:20:10 @monitor.py:467]\u001b[0m GAN_loss/gen/final-g-loss: 1.1162\n",
      "\u001b[32m[0215 11:20:10 @monitor.py:467]\u001b[0m GAN_loss/gen/klloss: 0.12694\n",
      "\u001b[32m[0215 11:20:10 @monitor.py:467]\u001b[0m GAN_loss/gen/loss: 0.98921\n",
      "\u001b[32m[0215 11:20:10 @monitor.py:467]\u001b[0m QueueInput/queue_size: 50\n",
      "\u001b[32m[0215 11:20:10 @base.py:275]\u001b[0m Start Epoch 649 ...\n"
     ]
    },
    {
     "name": "stderr",
     "output_type": "stream",
     "text": [
      "\n",
      "100%|#################################################################################|2000/2000[00:31<00:00,63.20it/s]"
     ]
    },
    {
     "name": "stdout",
     "output_type": "stream",
     "text": [
      "\u001b[32m[0215 11:20:42 @base.py:285]\u001b[0m Epoch 649 (global_step 1298000) finished, time:31.6 seconds.\n",
      "\u001b[32m[0215 11:20:42 @saver.py:79]\u001b[0m Model saved to ./output_TGAN/output/model\\model-1298000.\n",
      "\u001b[32m[0215 11:20:42 @monitor.py:467]\u001b[0m GAN_loss/discrim/accuracy_fake: 0.955\n",
      "\u001b[32m[0215 11:20:42 @monitor.py:467]\u001b[0m GAN_loss/discrim/accuracy_real: 0.125\n",
      "\u001b[32m[0215 11:20:42 @monitor.py:467]\u001b[0m GAN_loss/discrim/loss: 0.65088\n",
      "\u001b[32m[0215 11:20:42 @monitor.py:467]\u001b[0m GAN_loss/gen/final-g-loss: 1.0724\n",
      "\u001b[32m[0215 11:20:42 @monitor.py:467]\u001b[0m GAN_loss/gen/klloss: 0.076957\n",
      "\u001b[32m[0215 11:20:42 @monitor.py:467]\u001b[0m GAN_loss/gen/loss: 0.99546\n",
      "\u001b[32m[0215 11:20:42 @monitor.py:467]\u001b[0m QueueInput/queue_size: 50\n",
      "\u001b[32m[0215 11:20:42 @base.py:275]\u001b[0m Start Epoch 650 ...\n"
     ]
    },
    {
     "name": "stderr",
     "output_type": "stream",
     "text": [
      "\n",
      "100%|#################################################################################|2000/2000[00:31<00:00,63.26it/s]"
     ]
    },
    {
     "name": "stdout",
     "output_type": "stream",
     "text": [
      "\u001b[32m[0215 11:21:13 @base.py:285]\u001b[0m Epoch 650 (global_step 1300000) finished, time:31.6 seconds.\n",
      "\u001b[32m[0215 11:21:13 @saver.py:79]\u001b[0m Model saved to ./output_TGAN/output/model\\model-1300000.\n",
      "\u001b[32m[0215 11:21:13 @monitor.py:467]\u001b[0m GAN_loss/discrim/accuracy_fake: 0.87\n",
      "\u001b[32m[0215 11:21:13 @monitor.py:467]\u001b[0m GAN_loss/discrim/accuracy_real: 0.145\n",
      "\u001b[32m[0215 11:21:13 @monitor.py:467]\u001b[0m GAN_loss/discrim/loss: 0.65306\n",
      "\u001b[32m[0215 11:21:13 @monitor.py:467]\u001b[0m GAN_loss/gen/final-g-loss: 1.0999\n",
      "\u001b[32m[0215 11:21:13 @monitor.py:467]\u001b[0m GAN_loss/gen/klloss: 0.13896\n",
      "\u001b[32m[0215 11:21:13 @monitor.py:467]\u001b[0m GAN_loss/gen/loss: 0.96092\n",
      "\u001b[32m[0215 11:21:13 @monitor.py:467]\u001b[0m QueueInput/queue_size: 50\n",
      "\u001b[32m[0215 11:21:13 @base.py:275]\u001b[0m Start Epoch 651 ...\n"
     ]
    },
    {
     "name": "stderr",
     "output_type": "stream",
     "text": [
      "\n",
      "100%|#################################################################################|2000/2000[00:31<00:00,63.31it/s]"
     ]
    },
    {
     "name": "stdout",
     "output_type": "stream",
     "text": [
      "\u001b[32m[0215 11:21:45 @base.py:285]\u001b[0m Epoch 651 (global_step 1302000) finished, time:31.6 seconds.\n",
      "\u001b[32m[0215 11:21:45 @saver.py:79]\u001b[0m Model saved to ./output_TGAN/output/model\\model-1302000.\n",
      "\u001b[32m[0215 11:21:45 @monitor.py:467]\u001b[0m GAN_loss/discrim/accuracy_fake: 0.945\n",
      "\u001b[32m[0215 11:21:45 @monitor.py:467]\u001b[0m GAN_loss/discrim/accuracy_real: 0.115\n",
      "\u001b[32m[0215 11:21:45 @monitor.py:467]\u001b[0m GAN_loss/discrim/loss: 0.64528\n",
      "\u001b[32m[0215 11:21:45 @monitor.py:467]\u001b[0m GAN_loss/gen/final-g-loss: 1.0791\n",
      "\u001b[32m[0215 11:21:45 @monitor.py:467]\u001b[0m GAN_loss/gen/klloss: 0.079416\n",
      "\u001b[32m[0215 11:21:45 @monitor.py:467]\u001b[0m GAN_loss/gen/loss: 0.99966\n",
      "\u001b[32m[0215 11:21:45 @monitor.py:467]\u001b[0m QueueInput/queue_size: 50\n",
      "\u001b[32m[0215 11:21:45 @base.py:275]\u001b[0m Start Epoch 652 ...\n"
     ]
    },
    {
     "name": "stderr",
     "output_type": "stream",
     "text": [
      "\n",
      "100%|#################################################################################|2000/2000[00:31<00:00,63.25it/s]"
     ]
    },
    {
     "name": "stdout",
     "output_type": "stream",
     "text": [
      "\u001b[32m[0215 11:22:17 @base.py:285]\u001b[0m Epoch 652 (global_step 1304000) finished, time:31.6 seconds.\n",
      "\u001b[32m[0215 11:22:17 @saver.py:79]\u001b[0m Model saved to ./output_TGAN/output/model\\model-1304000.\n"
     ]
    },
    {
     "name": "stderr",
     "output_type": "stream",
     "text": [
      "\n"
     ]
    },
    {
     "name": "stdout",
     "output_type": "stream",
     "text": [
      "\u001b[32m[0215 11:22:17 @monitor.py:467]\u001b[0m GAN_loss/discrim/accuracy_fake: 0.95\n",
      "\u001b[32m[0215 11:22:17 @monitor.py:467]\u001b[0m GAN_loss/discrim/accuracy_real: 0.145\n",
      "\u001b[32m[0215 11:22:17 @monitor.py:467]\u001b[0m GAN_loss/discrim/loss: 0.64615\n",
      "\u001b[32m[0215 11:22:17 @monitor.py:467]\u001b[0m GAN_loss/gen/final-g-loss: 1.0488\n",
      "\u001b[32m[0215 11:22:17 @monitor.py:467]\u001b[0m GAN_loss/gen/klloss: 0.060539\n",
      "\u001b[32m[0215 11:22:17 @monitor.py:467]\u001b[0m GAN_loss/gen/loss: 0.98829\n",
      "\u001b[32m[0215 11:22:17 @monitor.py:467]\u001b[0m QueueInput/queue_size: 50\n",
      "\u001b[32m[0215 11:22:17 @base.py:275]\u001b[0m Start Epoch 653 ...\n"
     ]
    },
    {
     "name": "stderr",
     "output_type": "stream",
     "text": [
      "100%|#################################################################################|2000/2000[00:31<00:00,63.20it/s]"
     ]
    },
    {
     "name": "stdout",
     "output_type": "stream",
     "text": [
      "\u001b[32m[0215 11:22:49 @base.py:285]\u001b[0m Epoch 653 (global_step 1306000) finished, time:31.6 seconds.\n",
      "\u001b[32m[0215 11:22:49 @saver.py:79]\u001b[0m Model saved to ./output_TGAN/output/model\\model-1306000.\n",
      "\u001b[32m[0215 11:22:49 @monitor.py:467]\u001b[0m GAN_loss/discrim/accuracy_fake: 0.91\n",
      "\u001b[32m[0215 11:22:49 @monitor.py:467]\u001b[0m GAN_loss/discrim/accuracy_real: 0.11\n",
      "\u001b[32m[0215 11:22:49 @monitor.py:467]\u001b[0m GAN_loss/discrim/loss: 0.64307\n",
      "\u001b[32m[0215 11:22:49 @monitor.py:467]\u001b[0m GAN_loss/gen/final-g-loss: 1.1412\n",
      "\u001b[32m[0215 11:22:49 @monitor.py:467]\u001b[0m GAN_loss/gen/klloss: 0.15116\n",
      "\u001b[32m[0215 11:22:49 @monitor.py:467]\u001b[0m GAN_loss/gen/loss: 0.99006\n",
      "\u001b[32m[0215 11:22:49 @monitor.py:467]\u001b[0m QueueInput/queue_size: 50\n",
      "\u001b[32m[0215 11:22:49 @base.py:275]\u001b[0m Start Epoch 654 ...\n"
     ]
    },
    {
     "name": "stderr",
     "output_type": "stream",
     "text": [
      "\n",
      "100%|#################################################################################|2000/2000[00:31<00:00,63.18it/s]"
     ]
    },
    {
     "name": "stdout",
     "output_type": "stream",
     "text": [
      "\u001b[32m[0215 11:23:20 @base.py:285]\u001b[0m Epoch 654 (global_step 1308000) finished, time:31.7 seconds.\n",
      "\u001b[32m[0215 11:23:20 @saver.py:79]\u001b[0m Model saved to ./output_TGAN/output/model\\model-1308000.\n",
      "\u001b[32m[0215 11:23:21 @monitor.py:467]\u001b[0m GAN_loss/discrim/accuracy_fake: 0.935\n",
      "\u001b[32m[0215 11:23:21 @monitor.py:467]\u001b[0m GAN_loss/discrim/accuracy_real: 0.12\n",
      "\u001b[32m[0215 11:23:21 @monitor.py:467]\u001b[0m GAN_loss/discrim/loss: 0.6461\n",
      "\u001b[32m[0215 11:23:21 @monitor.py:467]\u001b[0m GAN_loss/gen/final-g-loss: 1.1115\n",
      "\u001b[32m[0215 11:23:21 @monitor.py:467]\u001b[0m GAN_loss/gen/klloss: 0.11569\n",
      "\u001b[32m[0215 11:23:21 @monitor.py:467]\u001b[0m GAN_loss/gen/loss: 0.99577\n",
      "\u001b[32m[0215 11:23:21 @monitor.py:467]\u001b[0m QueueInput/queue_size: 50\n",
      "\u001b[32m[0215 11:23:21 @base.py:275]\u001b[0m Start Epoch 655 ...\n"
     ]
    },
    {
     "name": "stderr",
     "output_type": "stream",
     "text": [
      "\n",
      "100%|#################################################################################|2000/2000[00:31<00:00,63.20it/s]"
     ]
    },
    {
     "name": "stdout",
     "output_type": "stream",
     "text": [
      "\u001b[32m[0215 11:23:52 @base.py:285]\u001b[0m Epoch 655 (global_step 1310000) finished, time:31.6 seconds.\n",
      "\u001b[32m[0215 11:23:52 @saver.py:79]\u001b[0m Model saved to ./output_TGAN/output/model\\model-1310000.\n",
      "\u001b[32m[0215 11:23:52 @monitor.py:467]\u001b[0m GAN_loss/discrim/accuracy_fake: 0.965\n",
      "\u001b[32m[0215 11:23:52 @monitor.py:467]\u001b[0m GAN_loss/discrim/accuracy_real: 0.11\n",
      "\u001b[32m[0215 11:23:52 @monitor.py:467]\u001b[0m GAN_loss/discrim/loss: 0.63901\n",
      "\u001b[32m[0215 11:23:52 @monitor.py:467]\u001b[0m GAN_loss/gen/final-g-loss: 1.1025\n",
      "\u001b[32m[0215 11:23:52 @monitor.py:467]\u001b[0m GAN_loss/gen/klloss: 0.092005\n",
      "\u001b[32m[0215 11:23:52 @monitor.py:467]\u001b[0m GAN_loss/gen/loss: 1.0105\n",
      "\u001b[32m[0215 11:23:52 @monitor.py:467]\u001b[0m QueueInput/queue_size: 50\n",
      "\u001b[32m[0215 11:23:52 @base.py:275]\u001b[0m Start Epoch 656 ...\n"
     ]
    },
    {
     "name": "stderr",
     "output_type": "stream",
     "text": [
      "\n",
      "100%|#################################################################################|2000/2000[00:31<00:00,63.13it/s]"
     ]
    },
    {
     "name": "stdout",
     "output_type": "stream",
     "text": [
      "\u001b[32m[0215 11:24:24 @base.py:285]\u001b[0m Epoch 656 (global_step 1312000) finished, time:31.7 seconds.\n",
      "\u001b[32m[0215 11:24:24 @saver.py:79]\u001b[0m Model saved to ./output_TGAN/output/model\\model-1312000.\n",
      "\u001b[32m[0215 11:24:24 @monitor.py:467]\u001b[0m GAN_loss/discrim/accuracy_fake: 0.93\n",
      "\u001b[32m[0215 11:24:24 @monitor.py:467]\u001b[0m GAN_loss/discrim/accuracy_real: 0.135\n",
      "\u001b[32m[0215 11:24:24 @monitor.py:467]\u001b[0m GAN_loss/discrim/loss: 0.63746\n",
      "\u001b[32m[0215 11:24:24 @monitor.py:467]\u001b[0m GAN_loss/gen/final-g-loss: 1.1031\n",
      "\u001b[32m[0215 11:24:24 @monitor.py:467]\u001b[0m GAN_loss/gen/klloss: 0.087782\n",
      "\u001b[32m[0215 11:24:24 @monitor.py:467]\u001b[0m GAN_loss/gen/loss: 1.0154\n",
      "\u001b[32m[0215 11:24:24 @monitor.py:467]\u001b[0m QueueInput/queue_size: 50\n",
      "\u001b[32m[0215 11:24:24 @base.py:275]\u001b[0m Start Epoch 657 ...\n"
     ]
    },
    {
     "name": "stderr",
     "output_type": "stream",
     "text": [
      "\n",
      "100%|#################################################################################|2000/2000[00:31<00:00,63.21it/s]"
     ]
    },
    {
     "name": "stdout",
     "output_type": "stream",
     "text": [
      "\u001b[32m[0215 11:24:56 @base.py:285]\u001b[0m Epoch 657 (global_step 1314000) finished, time:31.6 seconds.\n",
      "\u001b[32m[0215 11:24:56 @saver.py:79]\u001b[0m Model saved to ./output_TGAN/output/model\\model-1314000.\n",
      "\u001b[32m[0215 11:24:56 @monitor.py:467]\u001b[0m GAN_loss/discrim/accuracy_fake: 0.895\n",
      "\u001b[32m[0215 11:24:56 @monitor.py:467]\u001b[0m GAN_loss/discrim/accuracy_real: 0.13\n",
      "\u001b[32m[0215 11:24:56 @monitor.py:467]\u001b[0m GAN_loss/discrim/loss: 0.65457\n",
      "\u001b[32m[0215 11:24:56 @monitor.py:467]\u001b[0m GAN_loss/gen/final-g-loss: 1.0799\n",
      "\u001b[32m[0215 11:24:56 @monitor.py:467]\u001b[0m GAN_loss/gen/klloss: 0.083398\n",
      "\u001b[32m[0215 11:24:56 @monitor.py:467]\u001b[0m GAN_loss/gen/loss: 0.99652\n",
      "\u001b[32m[0215 11:24:56 @monitor.py:467]\u001b[0m QueueInput/queue_size: 50\n",
      "\u001b[32m[0215 11:24:56 @base.py:275]\u001b[0m Start Epoch 658 ...\n"
     ]
    },
    {
     "name": "stderr",
     "output_type": "stream",
     "text": [
      "\n",
      "100%|#################################################################################|2000/2000[00:31<00:00,63.20it/s]"
     ]
    },
    {
     "name": "stdout",
     "output_type": "stream",
     "text": [
      "\u001b[32m[0215 11:25:28 @base.py:285]\u001b[0m Epoch 658 (global_step 1316000) finished, time:31.6 seconds.\n",
      "\u001b[32m[0215 11:25:28 @saver.py:79]\u001b[0m Model saved to ./output_TGAN/output/model\\model-1316000.\n",
      "\u001b[32m[0215 11:25:28 @monitor.py:467]\u001b[0m GAN_loss/discrim/accuracy_fake: 0.93\n",
      "\u001b[32m[0215 11:25:28 @monitor.py:467]\u001b[0m GAN_loss/discrim/accuracy_real: 0.15\n",
      "\u001b[32m[0215 11:25:28 @monitor.py:467]\u001b[0m GAN_loss/discrim/loss: 0.63685\n",
      "\u001b[32m[0215 11:25:28 @monitor.py:467]\u001b[0m GAN_loss/gen/final-g-loss: 1.0816\n",
      "\u001b[32m[0215 11:25:28 @monitor.py:467]\u001b[0m GAN_loss/gen/klloss: 0.080058\n",
      "\u001b[32m[0215 11:25:28 @monitor.py:467]\u001b[0m GAN_loss/gen/loss: 1.0015\n",
      "\u001b[32m[0215 11:25:28 @monitor.py:467]\u001b[0m QueueInput/queue_size: 50\n",
      "\u001b[32m[0215 11:25:28 @base.py:275]\u001b[0m Start Epoch 659 ...\n"
     ]
    },
    {
     "name": "stderr",
     "output_type": "stream",
     "text": [
      "\n",
      "100%|#################################################################################|2000/2000[00:31<00:00,63.16it/s]"
     ]
    },
    {
     "name": "stdout",
     "output_type": "stream",
     "text": [
      "\u001b[32m[0215 11:25:59 @base.py:285]\u001b[0m Epoch 659 (global_step 1318000) finished, time:31.7 seconds.\n",
      "\u001b[32m[0215 11:26:00 @saver.py:79]\u001b[0m Model saved to ./output_TGAN/output/model\\model-1318000.\n",
      "\u001b[32m[0215 11:26:00 @monitor.py:467]\u001b[0m GAN_loss/discrim/accuracy_fake: 0.965\n",
      "\u001b[32m[0215 11:26:00 @monitor.py:467]\u001b[0m GAN_loss/discrim/accuracy_real: 0.185\n",
      "\u001b[32m[0215 11:26:00 @monitor.py:467]\u001b[0m GAN_loss/discrim/loss: 0.63251\n",
      "\u001b[32m[0215 11:26:00 @monitor.py:467]\u001b[0m GAN_loss/gen/final-g-loss: 1.1278\n",
      "\u001b[32m[0215 11:26:00 @monitor.py:467]\u001b[0m GAN_loss/gen/klloss: 0.117\n",
      "\u001b[32m[0215 11:26:00 @monitor.py:467]\u001b[0m GAN_loss/gen/loss: 1.0108\n",
      "\u001b[32m[0215 11:26:00 @monitor.py:467]\u001b[0m QueueInput/queue_size: 50\n",
      "\u001b[32m[0215 11:26:00 @base.py:275]\u001b[0m Start Epoch 660 ...\n"
     ]
    },
    {
     "name": "stderr",
     "output_type": "stream",
     "text": [
      "\n",
      "100%|#################################################################################|2000/2000[00:31<00:00,63.20it/s]"
     ]
    },
    {
     "name": "stdout",
     "output_type": "stream",
     "text": [
      "\u001b[32m[0215 11:26:31 @base.py:285]\u001b[0m Epoch 660 (global_step 1320000) finished, time:31.6 seconds.\n",
      "\u001b[32m[0215 11:26:31 @saver.py:79]\u001b[0m Model saved to ./output_TGAN/output/model\\model-1320000.\n",
      "\u001b[32m[0215 11:26:31 @monitor.py:467]\u001b[0m GAN_loss/discrim/accuracy_fake: 0.935\n",
      "\u001b[32m[0215 11:26:31 @monitor.py:467]\u001b[0m GAN_loss/discrim/accuracy_real: 0.14\n",
      "\u001b[32m[0215 11:26:31 @monitor.py:467]\u001b[0m GAN_loss/discrim/loss: 0.65117\n",
      "\u001b[32m[0215 11:26:31 @monitor.py:467]\u001b[0m GAN_loss/gen/final-g-loss: 1.1338\n",
      "\u001b[32m[0215 11:26:31 @monitor.py:467]\u001b[0m GAN_loss/gen/klloss: 0.13652\n",
      "\u001b[32m[0215 11:26:31 @monitor.py:467]\u001b[0m GAN_loss/gen/loss: 0.99729\n",
      "\u001b[32m[0215 11:26:31 @monitor.py:467]\u001b[0m QueueInput/queue_size: 50\n",
      "\u001b[32m[0215 11:26:31 @base.py:275]\u001b[0m Start Epoch 661 ...\n"
     ]
    },
    {
     "name": "stderr",
     "output_type": "stream",
     "text": [
      "\n",
      "100%|#################################################################################|2000/2000[00:31<00:00,63.19it/s]"
     ]
    },
    {
     "name": "stdout",
     "output_type": "stream",
     "text": [
      "\u001b[32m[0215 11:27:03 @base.py:285]\u001b[0m Epoch 661 (global_step 1322000) finished, time:31.7 seconds.\n",
      "\u001b[32m[0215 11:27:03 @saver.py:79]\u001b[0m Model saved to ./output_TGAN/output/model\\model-1322000.\n",
      "\u001b[32m[0215 11:27:03 @monitor.py:467]\u001b[0m GAN_loss/discrim/accuracy_fake: 0.915\n",
      "\u001b[32m[0215 11:27:03 @monitor.py:467]\u001b[0m GAN_loss/discrim/accuracy_real: 0.11\n",
      "\u001b[32m[0215 11:27:03 @monitor.py:467]\u001b[0m GAN_loss/discrim/loss: 0.6482\n",
      "\u001b[32m[0215 11:27:03 @monitor.py:467]\u001b[0m GAN_loss/gen/final-g-loss: 1.0762\n",
      "\u001b[32m[0215 11:27:03 @monitor.py:467]\u001b[0m GAN_loss/gen/klloss: 0.093881\n",
      "\u001b[32m[0215 11:27:03 @monitor.py:467]\u001b[0m GAN_loss/gen/loss: 0.98236\n",
      "\u001b[32m[0215 11:27:03 @monitor.py:467]\u001b[0m QueueInput/queue_size: 50\n",
      "\u001b[32m[0215 11:27:03 @base.py:275]\u001b[0m Start Epoch 662 ...\n"
     ]
    },
    {
     "name": "stderr",
     "output_type": "stream",
     "text": [
      "\n",
      "100%|#################################################################################|2000/2000[00:31<00:00,63.21it/s]"
     ]
    },
    {
     "name": "stdout",
     "output_type": "stream",
     "text": [
      "\u001b[32m[0215 11:27:35 @base.py:285]\u001b[0m Epoch 662 (global_step 1324000) finished, time:31.6 seconds.\n",
      "\u001b[32m[0215 11:27:35 @saver.py:79]\u001b[0m Model saved to ./output_TGAN/output/model\\model-1324000.\n",
      "\u001b[32m[0215 11:27:35 @monitor.py:467]\u001b[0m GAN_loss/discrim/accuracy_fake: 0.945\n",
      "\u001b[32m[0215 11:27:35 @monitor.py:467]\u001b[0m GAN_loss/discrim/accuracy_real: 0.135\n",
      "\u001b[32m[0215 11:27:35 @monitor.py:467]\u001b[0m GAN_loss/discrim/loss: 0.63659\n",
      "\u001b[32m[0215 11:27:35 @monitor.py:467]\u001b[0m GAN_loss/gen/final-g-loss: 1.1281\n",
      "\u001b[32m[0215 11:27:35 @monitor.py:467]\u001b[0m GAN_loss/gen/klloss: 0.10817\n",
      "\u001b[32m[0215 11:27:35 @monitor.py:467]\u001b[0m GAN_loss/gen/loss: 1.0199\n",
      "\u001b[32m[0215 11:27:35 @monitor.py:467]\u001b[0m QueueInput/queue_size: 50\n",
      "\u001b[32m[0215 11:27:35 @base.py:275]\u001b[0m Start Epoch 663 ...\n"
     ]
    },
    {
     "name": "stderr",
     "output_type": "stream",
     "text": [
      "\n",
      "100%|#################################################################################|2000/2000[00:31<00:00,63.23it/s]"
     ]
    },
    {
     "name": "stdout",
     "output_type": "stream",
     "text": [
      "\u001b[32m[0215 11:28:07 @base.py:285]\u001b[0m Epoch 663 (global_step 1326000) finished, time:31.6 seconds.\n",
      "\u001b[32m[0215 11:28:07 @saver.py:79]\u001b[0m Model saved to ./output_TGAN/output/model\\model-1326000.\n",
      "\u001b[32m[0215 11:28:07 @monitor.py:467]\u001b[0m GAN_loss/discrim/accuracy_fake: 0.95\n",
      "\u001b[32m[0215 11:28:07 @monitor.py:467]\u001b[0m GAN_loss/discrim/accuracy_real: 0.135\n",
      "\u001b[32m[0215 11:28:07 @monitor.py:467]\u001b[0m GAN_loss/discrim/loss: 0.64025\n",
      "\u001b[32m[0215 11:28:07 @monitor.py:467]\u001b[0m GAN_loss/gen/final-g-loss: 1.1164\n",
      "\u001b[32m[0215 11:28:07 @monitor.py:467]\u001b[0m GAN_loss/gen/klloss: 0.099283\n",
      "\u001b[32m[0215 11:28:07 @monitor.py:467]\u001b[0m GAN_loss/gen/loss: 1.0171\n",
      "\u001b[32m[0215 11:28:07 @monitor.py:467]\u001b[0m QueueInput/queue_size: 50\n",
      "\u001b[32m[0215 11:28:07 @base.py:275]\u001b[0m Start Epoch 664 ...\n"
     ]
    },
    {
     "name": "stderr",
     "output_type": "stream",
     "text": [
      "\n",
      "100%|#################################################################################|2000/2000[00:32<00:00,61.99it/s]"
     ]
    },
    {
     "name": "stdout",
     "output_type": "stream",
     "text": [
      "\u001b[32m[0215 11:28:39 @base.py:285]\u001b[0m Epoch 664 (global_step 1328000) finished, time:32.3 seconds.\n",
      "\u001b[32m[0215 11:28:39 @saver.py:79]\u001b[0m Model saved to ./output_TGAN/output/model\\model-1328000.\n",
      "\u001b[32m[0215 11:28:39 @monitor.py:467]\u001b[0m GAN_loss/discrim/accuracy_fake: 0.93\n"
     ]
    },
    {
     "name": "stderr",
     "output_type": "stream",
     "text": [
      "\n"
     ]
    },
    {
     "name": "stdout",
     "output_type": "stream",
     "text": [
      "\u001b[32m[0215 11:28:39 @monitor.py:467]\u001b[0m GAN_loss/discrim/accuracy_real: 0.135\n",
      "\u001b[32m[0215 11:28:39 @monitor.py:467]\u001b[0m GAN_loss/discrim/loss: 0.64131\n",
      "\u001b[32m[0215 11:28:39 @monitor.py:467]\u001b[0m GAN_loss/gen/final-g-loss: 1.1334\n",
      "\u001b[32m[0215 11:28:39 @monitor.py:467]\u001b[0m GAN_loss/gen/klloss: 0.12787\n",
      "\u001b[32m[0215 11:28:39 @monitor.py:467]\u001b[0m GAN_loss/gen/loss: 1.0055\n",
      "\u001b[32m[0215 11:28:39 @monitor.py:467]\u001b[0m QueueInput/queue_size: 50\n",
      "\u001b[32m[0215 11:28:39 @base.py:275]\u001b[0m Start Epoch 665 ...\n"
     ]
    },
    {
     "name": "stderr",
     "output_type": "stream",
     "text": [
      "100%|#################################################################################|2000/2000[00:31<00:00,63.12it/s]"
     ]
    },
    {
     "name": "stdout",
     "output_type": "stream",
     "text": [
      "\u001b[32m[0215 11:29:11 @base.py:285]\u001b[0m Epoch 665 (global_step 1330000) finished, time:31.7 seconds.\n",
      "\u001b[32m[0215 11:29:11 @saver.py:79]\u001b[0m Model saved to ./output_TGAN/output/model\\model-1330000.\n",
      "\u001b[32m[0215 11:29:11 @monitor.py:467]\u001b[0m GAN_loss/discrim/accuracy_fake: 0.955\n",
      "\u001b[32m[0215 11:29:11 @monitor.py:467]\u001b[0m GAN_loss/discrim/accuracy_real: 0.14\n",
      "\u001b[32m[0215 11:29:11 @monitor.py:467]\u001b[0m GAN_loss/discrim/loss: 0.63626\n",
      "\u001b[32m[0215 11:29:11 @monitor.py:467]\u001b[0m GAN_loss/gen/final-g-loss: 1.1632\n",
      "\u001b[32m[0215 11:29:11 @monitor.py:467]\u001b[0m GAN_loss/gen/klloss: 0.16193\n",
      "\u001b[32m[0215 11:29:11 @monitor.py:467]\u001b[0m GAN_loss/gen/loss: 1.0013\n",
      "\u001b[32m[0215 11:29:11 @monitor.py:467]\u001b[0m QueueInput/queue_size: 50\n",
      "\u001b[32m[0215 11:29:11 @base.py:275]\u001b[0m Start Epoch 666 ...\n"
     ]
    },
    {
     "name": "stderr",
     "output_type": "stream",
     "text": [
      "\n",
      "100%|#################################################################################|2000/2000[00:31<00:00,63.12it/s]"
     ]
    },
    {
     "name": "stdout",
     "output_type": "stream",
     "text": [
      "\u001b[32m[0215 11:29:43 @base.py:285]\u001b[0m Epoch 666 (global_step 1332000) finished, time:31.7 seconds.\n",
      "\u001b[32m[0215 11:29:43 @saver.py:79]\u001b[0m Model saved to ./output_TGAN/output/model\\model-1332000.\n",
      "\u001b[32m[0215 11:29:43 @monitor.py:467]\u001b[0m GAN_loss/discrim/accuracy_fake: 0.95\n",
      "\u001b[32m[0215 11:29:43 @monitor.py:467]\u001b[0m GAN_loss/discrim/accuracy_real: 0.145\n",
      "\u001b[32m[0215 11:29:43 @monitor.py:467]\u001b[0m GAN_loss/discrim/loss: 0.64591\n",
      "\u001b[32m[0215 11:29:43 @monitor.py:467]\u001b[0m GAN_loss/gen/final-g-loss: 1.1202\n",
      "\u001b[32m[0215 11:29:43 @monitor.py:467]\u001b[0m GAN_loss/gen/klloss: 0.12154\n",
      "\u001b[32m[0215 11:29:43 @monitor.py:467]\u001b[0m GAN_loss/gen/loss: 0.99869\n",
      "\u001b[32m[0215 11:29:43 @monitor.py:467]\u001b[0m QueueInput/queue_size: 50\n",
      "\u001b[32m[0215 11:29:43 @base.py:275]\u001b[0m Start Epoch 667 ...\n"
     ]
    },
    {
     "name": "stderr",
     "output_type": "stream",
     "text": [
      "\n",
      "100%|#################################################################################|2000/2000[00:31<00:00,63.23it/s]"
     ]
    },
    {
     "name": "stdout",
     "output_type": "stream",
     "text": [
      "\u001b[32m[0215 11:30:15 @base.py:285]\u001b[0m Epoch 667 (global_step 1334000) finished, time:31.6 seconds.\n",
      "\u001b[32m[0215 11:30:15 @saver.py:79]\u001b[0m Model saved to ./output_TGAN/output/model\\model-1334000.\n",
      "\u001b[32m[0215 11:30:15 @monitor.py:467]\u001b[0m GAN_loss/discrim/accuracy_fake: 0.92\n",
      "\u001b[32m[0215 11:30:15 @monitor.py:467]\u001b[0m GAN_loss/discrim/accuracy_real: 0.115\n",
      "\u001b[32m[0215 11:30:15 @monitor.py:467]\u001b[0m GAN_loss/discrim/loss: 0.64029\n",
      "\u001b[32m[0215 11:30:15 @monitor.py:467]\u001b[0m GAN_loss/gen/final-g-loss: 1.1517\n",
      "\u001b[32m[0215 11:30:15 @monitor.py:467]\u001b[0m GAN_loss/gen/klloss: 0.16308\n",
      "\u001b[32m[0215 11:30:15 @monitor.py:467]\u001b[0m GAN_loss/gen/loss: 0.98862\n",
      "\u001b[32m[0215 11:30:15 @monitor.py:467]\u001b[0m QueueInput/queue_size: 50\n",
      "\u001b[32m[0215 11:30:15 @base.py:275]\u001b[0m Start Epoch 668 ...\n"
     ]
    },
    {
     "name": "stderr",
     "output_type": "stream",
     "text": [
      "\n",
      "100%|#################################################################################|2000/2000[00:31<00:00,63.12it/s]"
     ]
    },
    {
     "name": "stdout",
     "output_type": "stream",
     "text": [
      "\u001b[32m[0215 11:30:46 @base.py:285]\u001b[0m Epoch 668 (global_step 1336000) finished, time:31.7 seconds.\n",
      "\u001b[32m[0215 11:30:46 @saver.py:79]\u001b[0m Model saved to ./output_TGAN/output/model\\model-1336000.\n",
      "\u001b[32m[0215 11:30:47 @monitor.py:467]\u001b[0m GAN_loss/discrim/accuracy_fake: 0.93\n",
      "\u001b[32m[0215 11:30:47 @monitor.py:467]\u001b[0m GAN_loss/discrim/accuracy_real: 0.095\n",
      "\u001b[32m[0215 11:30:47 @monitor.py:467]\u001b[0m GAN_loss/discrim/loss: 0.64933\n",
      "\u001b[32m[0215 11:30:47 @monitor.py:467]\u001b[0m GAN_loss/gen/final-g-loss: 1.1487\n",
      "\u001b[32m[0215 11:30:47 @monitor.py:467]\u001b[0m GAN_loss/gen/klloss: 0.14297\n",
      "\u001b[32m[0215 11:30:47 @monitor.py:467]\u001b[0m GAN_loss/gen/loss: 1.0057\n",
      "\u001b[32m[0215 11:30:47 @monitor.py:467]\u001b[0m QueueInput/queue_size: 50\n",
      "\u001b[32m[0215 11:30:47 @base.py:275]\u001b[0m Start Epoch 669 ...\n"
     ]
    },
    {
     "name": "stderr",
     "output_type": "stream",
     "text": [
      "\n",
      "100%|#################################################################################|2000/2000[00:31<00:00,63.29it/s]"
     ]
    },
    {
     "name": "stdout",
     "output_type": "stream",
     "text": [
      "\u001b[32m[0215 11:31:18 @base.py:285]\u001b[0m Epoch 669 (global_step 1338000) finished, time:31.6 seconds.\n",
      "\u001b[32m[0215 11:31:18 @saver.py:79]\u001b[0m Model saved to ./output_TGAN/output/model\\model-1338000.\n",
      "\u001b[32m[0215 11:31:18 @monitor.py:467]\u001b[0m GAN_loss/discrim/accuracy_fake: 0.965\n",
      "\u001b[32m[0215 11:31:18 @monitor.py:467]\u001b[0m GAN_loss/discrim/accuracy_real: 0.13\n",
      "\u001b[32m[0215 11:31:18 @monitor.py:467]\u001b[0m GAN_loss/discrim/loss: 0.64402\n",
      "\u001b[32m[0215 11:31:18 @monitor.py:467]\u001b[0m GAN_loss/gen/final-g-loss: 1.1063\n",
      "\u001b[32m[0215 11:31:18 @monitor.py:467]\u001b[0m GAN_loss/gen/klloss: 0.11162\n",
      "\u001b[32m[0215 11:31:18 @monitor.py:467]\u001b[0m GAN_loss/gen/loss: 0.99466\n",
      "\u001b[32m[0215 11:31:18 @monitor.py:467]\u001b[0m QueueInput/queue_size: 50\n",
      "\u001b[32m[0215 11:31:18 @base.py:275]\u001b[0m Start Epoch 670 ...\n"
     ]
    },
    {
     "name": "stderr",
     "output_type": "stream",
     "text": [
      "\n",
      "100%|#################################################################################|2000/2000[00:31<00:00,63.20it/s]"
     ]
    },
    {
     "name": "stdout",
     "output_type": "stream",
     "text": [
      "\u001b[32m[0215 11:31:50 @base.py:285]\u001b[0m Epoch 670 (global_step 1340000) finished, time:31.6 seconds.\n",
      "\u001b[32m[0215 11:31:50 @saver.py:79]\u001b[0m Model saved to ./output_TGAN/output/model\\model-1340000.\n",
      "\u001b[32m[0215 11:31:50 @monitor.py:467]\u001b[0m GAN_loss/discrim/accuracy_fake: 0.94\n",
      "\u001b[32m[0215 11:31:50 @monitor.py:467]\u001b[0m GAN_loss/discrim/accuracy_real: 0.11\n",
      "\u001b[32m[0215 11:31:50 @monitor.py:467]\u001b[0m GAN_loss/discrim/loss: 0.64685\n",
      "\u001b[32m[0215 11:31:50 @monitor.py:467]\u001b[0m GAN_loss/gen/final-g-loss: 1.1029\n",
      "\u001b[32m[0215 11:31:50 @monitor.py:467]\u001b[0m GAN_loss/gen/klloss: 0.10883\n",
      "\u001b[32m[0215 11:31:50 @monitor.py:467]\u001b[0m GAN_loss/gen/loss: 0.99409\n",
      "\u001b[32m[0215 11:31:50 @monitor.py:467]\u001b[0m QueueInput/queue_size: 50\n",
      "\u001b[32m[0215 11:31:50 @base.py:275]\u001b[0m Start Epoch 671 ...\n"
     ]
    },
    {
     "name": "stderr",
     "output_type": "stream",
     "text": [
      "\n",
      "100%|#################################################################################|2000/2000[00:31<00:00,63.14it/s]"
     ]
    },
    {
     "name": "stdout",
     "output_type": "stream",
     "text": [
      "\u001b[32m[0215 11:32:22 @base.py:285]\u001b[0m Epoch 671 (global_step 1342000) finished, time:31.7 seconds.\n",
      "\u001b[32m[0215 11:32:22 @saver.py:79]\u001b[0m Model saved to ./output_TGAN/output/model\\model-1342000.\n",
      "\u001b[32m[0215 11:32:22 @monitor.py:467]\u001b[0m GAN_loss/discrim/accuracy_fake: 0.915\n",
      "\u001b[32m[0215 11:32:22 @monitor.py:467]\u001b[0m GAN_loss/discrim/accuracy_real: 0.115\n",
      "\u001b[32m[0215 11:32:22 @monitor.py:467]\u001b[0m GAN_loss/discrim/loss: 0.6516\n",
      "\u001b[32m[0215 11:32:22 @monitor.py:467]\u001b[0m GAN_loss/gen/final-g-loss: 1.1281\n",
      "\u001b[32m[0215 11:32:22 @monitor.py:467]\u001b[0m GAN_loss/gen/klloss: 0.12387\n",
      "\u001b[32m[0215 11:32:22 @monitor.py:467]\u001b[0m GAN_loss/gen/loss: 1.0043\n",
      "\u001b[32m[0215 11:32:22 @monitor.py:467]\u001b[0m QueueInput/queue_size: 50\n",
      "\u001b[32m[0215 11:32:22 @base.py:275]\u001b[0m Start Epoch 672 ...\n"
     ]
    },
    {
     "name": "stderr",
     "output_type": "stream",
     "text": [
      "\n",
      "100%|#################################################################################|2000/2000[00:31<00:00,63.12it/s]"
     ]
    },
    {
     "name": "stdout",
     "output_type": "stream",
     "text": [
      "\u001b[32m[0215 11:32:54 @base.py:285]\u001b[0m Epoch 672 (global_step 1344000) finished, time:31.7 seconds.\n",
      "\u001b[32m[0215 11:32:54 @saver.py:79]\u001b[0m Model saved to ./output_TGAN/output/model\\model-1344000.\n",
      "\u001b[32m[0215 11:32:54 @monitor.py:467]\u001b[0m GAN_loss/discrim/accuracy_fake: 0.975\n",
      "\u001b[32m[0215 11:32:54 @monitor.py:467]\u001b[0m GAN_loss/discrim/accuracy_real: 0.155\n",
      "\u001b[32m[0215 11:32:54 @monitor.py:467]\u001b[0m GAN_loss/discrim/loss: 0.63396\n",
      "\u001b[32m[0215 11:32:54 @monitor.py:467]\u001b[0m GAN_loss/gen/final-g-loss: 1.1347\n",
      "\u001b[32m[0215 11:32:54 @monitor.py:467]\u001b[0m GAN_loss/gen/klloss: 0.11221\n",
      "\u001b[32m[0215 11:32:54 @monitor.py:467]\u001b[0m GAN_loss/gen/loss: 1.0225\n",
      "\u001b[32m[0215 11:32:54 @monitor.py:467]\u001b[0m QueueInput/queue_size: 50\n",
      "\u001b[32m[0215 11:32:54 @base.py:275]\u001b[0m Start Epoch 673 ...\n"
     ]
    },
    {
     "name": "stderr",
     "output_type": "stream",
     "text": [
      "\n",
      "100%|#################################################################################|2000/2000[00:31<00:00,63.20it/s]"
     ]
    },
    {
     "name": "stdout",
     "output_type": "stream",
     "text": [
      "\u001b[32m[0215 11:33:25 @base.py:285]\u001b[0m Epoch 673 (global_step 1346000) finished, time:31.6 seconds.\n",
      "\u001b[32m[0215 11:33:25 @saver.py:79]\u001b[0m Model saved to ./output_TGAN/output/model\\model-1346000.\n",
      "\u001b[32m[0215 11:33:26 @monitor.py:467]\u001b[0m GAN_loss/discrim/accuracy_fake: 0.955\n",
      "\u001b[32m[0215 11:33:26 @monitor.py:467]\u001b[0m GAN_loss/discrim/accuracy_real: 0.09\n",
      "\u001b[32m[0215 11:33:26 @monitor.py:467]\u001b[0m GAN_loss/discrim/loss: 0.65367\n",
      "\u001b[32m[0215 11:33:26 @monitor.py:467]\u001b[0m GAN_loss/gen/final-g-loss: 1.1511\n",
      "\u001b[32m[0215 11:33:26 @monitor.py:467]\u001b[0m GAN_loss/gen/klloss: 0.1493\n",
      "\u001b[32m[0215 11:33:26 @monitor.py:467]\u001b[0m GAN_loss/gen/loss: 1.0018\n",
      "\u001b[32m[0215 11:33:26 @monitor.py:467]\u001b[0m QueueInput/queue_size: 50\n",
      "\u001b[32m[0215 11:33:26 @base.py:275]\u001b[0m Start Epoch 674 ...\n"
     ]
    },
    {
     "name": "stderr",
     "output_type": "stream",
     "text": [
      "\n",
      "100%|#################################################################################|2000/2000[00:32<00:00,61.98it/s]"
     ]
    },
    {
     "name": "stdout",
     "output_type": "stream",
     "text": [
      "\u001b[32m[0215 11:33:58 @base.py:285]\u001b[0m Epoch 674 (global_step 1348000) finished, time:32.3 seconds.\n"
     ]
    },
    {
     "name": "stderr",
     "output_type": "stream",
     "text": [
      "\n"
     ]
    },
    {
     "name": "stdout",
     "output_type": "stream",
     "text": [
      "\u001b[32m[0215 11:33:58 @saver.py:79]\u001b[0m Model saved to ./output_TGAN/output/model\\model-1348000.\n",
      "\u001b[32m[0215 11:33:58 @monitor.py:467]\u001b[0m GAN_loss/discrim/accuracy_fake: 0.885\n",
      "\u001b[32m[0215 11:33:58 @monitor.py:467]\u001b[0m GAN_loss/discrim/accuracy_real: 0.095\n",
      "\u001b[32m[0215 11:33:58 @monitor.py:467]\u001b[0m GAN_loss/discrim/loss: 0.6493\n",
      "\u001b[32m[0215 11:33:58 @monitor.py:467]\u001b[0m GAN_loss/gen/final-g-loss: 1.1443\n",
      "\u001b[32m[0215 11:33:58 @monitor.py:467]\u001b[0m GAN_loss/gen/klloss: 0.1518\n",
      "\u001b[32m[0215 11:33:58 @monitor.py:467]\u001b[0m GAN_loss/gen/loss: 0.9925\n",
      "\u001b[32m[0215 11:33:58 @monitor.py:467]\u001b[0m QueueInput/queue_size: 50\n",
      "\u001b[32m[0215 11:33:58 @base.py:275]\u001b[0m Start Epoch 675 ...\n"
     ]
    },
    {
     "name": "stderr",
     "output_type": "stream",
     "text": [
      "100%|#################################################################################|2000/2000[00:31<00:00,63.57it/s]"
     ]
    },
    {
     "name": "stdout",
     "output_type": "stream",
     "text": [
      "\u001b[32m[0215 11:34:29 @base.py:285]\u001b[0m Epoch 675 (global_step 1350000) finished, time:31.5 seconds.\n",
      "\u001b[32m[0215 11:34:30 @saver.py:79]\u001b[0m Model saved to ./output_TGAN/output/model\\model-1350000.\n",
      "\u001b[32m[0215 11:34:30 @monitor.py:467]\u001b[0m GAN_loss/discrim/accuracy_fake: 0.915\n",
      "\u001b[32m[0215 11:34:30 @monitor.py:467]\u001b[0m GAN_loss/discrim/accuracy_real: 0.13\n",
      "\u001b[32m[0215 11:34:30 @monitor.py:467]\u001b[0m GAN_loss/discrim/loss: 0.64494\n",
      "\u001b[32m[0215 11:34:30 @monitor.py:467]\u001b[0m GAN_loss/gen/final-g-loss: 1.1026\n",
      "\u001b[32m[0215 11:34:30 @monitor.py:467]\u001b[0m GAN_loss/gen/klloss: 0.10773\n",
      "\u001b[32m[0215 11:34:30 @monitor.py:467]\u001b[0m GAN_loss/gen/loss: 0.99489\n",
      "\u001b[32m[0215 11:34:30 @monitor.py:467]\u001b[0m QueueInput/queue_size: 50\n",
      "\u001b[32m[0215 11:34:30 @base.py:275]\u001b[0m Start Epoch 676 ...\n"
     ]
    },
    {
     "name": "stderr",
     "output_type": "stream",
     "text": [
      "\n",
      "100%|#################################################################################|2000/2000[00:31<00:00,63.53it/s]"
     ]
    },
    {
     "name": "stdout",
     "output_type": "stream",
     "text": [
      "\u001b[32m[0215 11:35:01 @base.py:285]\u001b[0m Epoch 676 (global_step 1352000) finished, time:31.5 seconds.\n",
      "\u001b[32m[0215 11:35:01 @saver.py:79]\u001b[0m Model saved to ./output_TGAN/output/model\\model-1352000.\n",
      "\u001b[32m[0215 11:35:01 @monitor.py:467]\u001b[0m GAN_loss/discrim/accuracy_fake: 0.96\n",
      "\u001b[32m[0215 11:35:01 @monitor.py:467]\u001b[0m GAN_loss/discrim/accuracy_real: 0.14\n",
      "\u001b[32m[0215 11:35:01 @monitor.py:467]\u001b[0m GAN_loss/discrim/loss: 0.63096\n",
      "\u001b[32m[0215 11:35:01 @monitor.py:467]\u001b[0m GAN_loss/gen/final-g-loss: 1.0938\n",
      "\u001b[32m[0215 11:35:01 @monitor.py:467]\u001b[0m GAN_loss/gen/klloss: 0.090086\n",
      "\u001b[32m[0215 11:35:01 @monitor.py:467]\u001b[0m GAN_loss/gen/loss: 1.0037\n",
      "\u001b[32m[0215 11:35:01 @monitor.py:467]\u001b[0m QueueInput/queue_size: 50\n",
      "\u001b[32m[0215 11:35:01 @base.py:275]\u001b[0m Start Epoch 677 ...\n"
     ]
    },
    {
     "name": "stderr",
     "output_type": "stream",
     "text": [
      "\n",
      "100%|#################################################################################|2000/2000[00:31<00:00,63.45it/s]"
     ]
    },
    {
     "name": "stdout",
     "output_type": "stream",
     "text": [
      "\u001b[32m[0215 11:35:33 @base.py:285]\u001b[0m Epoch 677 (global_step 1354000) finished, time:31.5 seconds.\n",
      "\u001b[32m[0215 11:35:33 @saver.py:79]\u001b[0m Model saved to ./output_TGAN/output/model\\model-1354000.\n",
      "\u001b[32m[0215 11:35:33 @monitor.py:467]\u001b[0m GAN_loss/discrim/accuracy_fake: 0.9\n",
      "\u001b[32m[0215 11:35:33 @monitor.py:467]\u001b[0m GAN_loss/discrim/accuracy_real: 0.115\n",
      "\u001b[32m[0215 11:35:33 @monitor.py:467]\u001b[0m GAN_loss/discrim/loss: 0.65338\n",
      "\u001b[32m[0215 11:35:33 @monitor.py:467]\u001b[0m GAN_loss/gen/final-g-loss: 1.0832\n",
      "\u001b[32m[0215 11:35:33 @monitor.py:467]\u001b[0m GAN_loss/gen/klloss: 0.084567\n",
      "\u001b[32m[0215 11:35:33 @monitor.py:467]\u001b[0m GAN_loss/gen/loss: 0.99862\n",
      "\u001b[32m[0215 11:35:33 @monitor.py:467]\u001b[0m QueueInput/queue_size: 50\n",
      "\u001b[32m[0215 11:35:33 @base.py:275]\u001b[0m Start Epoch 678 ...\n"
     ]
    },
    {
     "name": "stderr",
     "output_type": "stream",
     "text": [
      "\n",
      "100%|#################################################################################|2000/2000[00:31<00:00,63.34it/s]"
     ]
    },
    {
     "name": "stdout",
     "output_type": "stream",
     "text": [
      "\u001b[32m[0215 11:36:05 @base.py:285]\u001b[0m Epoch 678 (global_step 1356000) finished, time:31.6 seconds.\n",
      "\u001b[32m[0215 11:36:05 @saver.py:79]\u001b[0m Model saved to ./output_TGAN/output/model\\model-1356000.\n",
      "\u001b[32m[0215 11:36:05 @monitor.py:467]\u001b[0m GAN_loss/discrim/accuracy_fake: 0.925\n",
      "\u001b[32m[0215 11:36:05 @monitor.py:467]\u001b[0m GAN_loss/discrim/accuracy_real: 0.095\n",
      "\u001b[32m[0215 11:36:05 @monitor.py:467]\u001b[0m GAN_loss/discrim/loss: 0.6504\n",
      "\u001b[32m[0215 11:36:05 @monitor.py:467]\u001b[0m GAN_loss/gen/final-g-loss: 1.1025\n",
      "\u001b[32m[0215 11:36:05 @monitor.py:467]\u001b[0m GAN_loss/gen/klloss: 0.10361\n",
      "\u001b[32m[0215 11:36:05 @monitor.py:467]\u001b[0m GAN_loss/gen/loss: 0.99891\n",
      "\u001b[32m[0215 11:36:05 @monitor.py:467]\u001b[0m QueueInput/queue_size: 50\n",
      "\u001b[32m[0215 11:36:05 @base.py:275]\u001b[0m Start Epoch 679 ...\n"
     ]
    },
    {
     "name": "stderr",
     "output_type": "stream",
     "text": [
      "\n",
      "100%|#################################################################################|2000/2000[00:31<00:00,63.31it/s]"
     ]
    },
    {
     "name": "stdout",
     "output_type": "stream",
     "text": [
      "\u001b[32m[0215 11:36:36 @base.py:285]\u001b[0m Epoch 679 (global_step 1358000) finished, time:31.6 seconds.\n",
      "\u001b[32m[0215 11:36:36 @saver.py:79]\u001b[0m Model saved to ./output_TGAN/output/model\\model-1358000.\n",
      "\u001b[32m[0215 11:36:36 @monitor.py:467]\u001b[0m GAN_loss/discrim/accuracy_fake: 0.925\n",
      "\u001b[32m[0215 11:36:36 @monitor.py:467]\u001b[0m GAN_loss/discrim/accuracy_real: 0.15\n",
      "\u001b[32m[0215 11:36:36 @monitor.py:467]\u001b[0m GAN_loss/discrim/loss: 0.64637\n",
      "\u001b[32m[0215 11:36:36 @monitor.py:467]\u001b[0m GAN_loss/gen/final-g-loss: 1.1035\n",
      "\u001b[32m[0215 11:36:36 @monitor.py:467]\u001b[0m GAN_loss/gen/klloss: 0.10396\n",
      "\u001b[32m[0215 11:36:36 @monitor.py:467]\u001b[0m GAN_loss/gen/loss: 0.99958\n",
      "\u001b[32m[0215 11:36:36 @monitor.py:467]\u001b[0m QueueInput/queue_size: 50\n",
      "\u001b[32m[0215 11:36:36 @base.py:275]\u001b[0m Start Epoch 680 ...\n"
     ]
    },
    {
     "name": "stderr",
     "output_type": "stream",
     "text": [
      "\n",
      "100%|#################################################################################|2000/2000[00:31<00:00,63.26it/s]"
     ]
    },
    {
     "name": "stdout",
     "output_type": "stream",
     "text": [
      "\u001b[32m[0215 11:37:08 @base.py:285]\u001b[0m Epoch 680 (global_step 1360000) finished, time:31.6 seconds.\n",
      "\u001b[32m[0215 11:37:08 @saver.py:79]\u001b[0m Model saved to ./output_TGAN/output/model\\model-1360000.\n",
      "\u001b[32m[0215 11:37:08 @monitor.py:467]\u001b[0m GAN_loss/discrim/accuracy_fake: 0.925\n",
      "\u001b[32m[0215 11:37:08 @monitor.py:467]\u001b[0m GAN_loss/discrim/accuracy_real: 0.045\n",
      "\u001b[32m[0215 11:37:08 @monitor.py:467]\u001b[0m GAN_loss/discrim/loss: 0.65696\n",
      "\u001b[32m[0215 11:37:08 @monitor.py:467]\u001b[0m GAN_loss/gen/final-g-loss: 1.1101\n",
      "\u001b[32m[0215 11:37:08 @monitor.py:467]\u001b[0m GAN_loss/gen/klloss: 0.11587\n",
      "\u001b[32m[0215 11:37:08 @monitor.py:467]\u001b[0m GAN_loss/gen/loss: 0.99426\n",
      "\u001b[32m[0215 11:37:08 @monitor.py:467]\u001b[0m QueueInput/queue_size: 50\n",
      "\u001b[32m[0215 11:37:08 @base.py:275]\u001b[0m Start Epoch 681 ...\n"
     ]
    },
    {
     "name": "stderr",
     "output_type": "stream",
     "text": [
      "\n",
      "100%|#################################################################################|2000/2000[00:32<00:00,61.89it/s]"
     ]
    },
    {
     "name": "stdout",
     "output_type": "stream",
     "text": [
      "\u001b[32m[0215 11:37:41 @base.py:285]\u001b[0m Epoch 681 (global_step 1362000) finished, time:32.3 seconds.\n",
      "\u001b[32m[0215 11:37:41 @saver.py:79]\u001b[0m Model saved to ./output_TGAN/output/model\\model-1362000.\n",
      "\u001b[32m[0215 11:37:41 @monitor.py:467]\u001b[0m GAN_loss/discrim/accuracy_fake: 0.955\n",
      "\u001b[32m[0215 11:37:41 @monitor.py:467]\u001b[0m GAN_loss/discrim/accuracy_real: 0.065\n",
      "\u001b[32m[0215 11:37:41 @monitor.py:467]\u001b[0m GAN_loss/discrim/loss: 0.65067\n",
      "\u001b[32m[0215 11:37:41 @monitor.py:467]\u001b[0m GAN_loss/gen/final-g-loss: 1.0667\n",
      "\u001b[32m[0215 11:37:41 @monitor.py:467]\u001b[0m GAN_loss/gen/klloss: 0.065301\n",
      "\u001b[32m[0215 11:37:41 @monitor.py:467]\u001b[0m GAN_loss/gen/loss: 1.0014\n",
      "\u001b[32m[0215 11:37:41 @monitor.py:467]\u001b[0m QueueInput/queue_size: 50\n",
      "\u001b[32m[0215 11:37:41 @base.py:275]\u001b[0m Start Epoch 682 ...\n"
     ]
    },
    {
     "name": "stderr",
     "output_type": "stream",
     "text": [
      "\n",
      "100%|#################################################################################|2000/2000[00:33<00:00,60.28it/s]"
     ]
    },
    {
     "name": "stdout",
     "output_type": "stream",
     "text": [
      "\u001b[32m[0215 11:38:14 @base.py:285]\u001b[0m Epoch 682 (global_step 1364000) finished, time:33.2 seconds.\n",
      "\u001b[32m[0215 11:38:14 @saver.py:79]\u001b[0m Model saved to ./output_TGAN/output/model\\model-1364000.\n",
      "\u001b[32m[0215 11:38:14 @monitor.py:467]\u001b[0m GAN_loss/discrim/accuracy_fake: 0.94\n",
      "\u001b[32m[0215 11:38:14 @monitor.py:467]\u001b[0m GAN_loss/discrim/accuracy_real: 0.14\n",
      "\u001b[32m[0215 11:38:14 @monitor.py:467]\u001b[0m GAN_loss/discrim/loss: 0.64415\n",
      "\u001b[32m[0215 11:38:14 @monitor.py:467]\u001b[0m GAN_loss/gen/final-g-loss: 1.1\n",
      "\u001b[32m[0215 11:38:14 @monitor.py:467]\u001b[0m GAN_loss/gen/klloss: 0.107\n",
      "\u001b[32m[0215 11:38:14 @monitor.py:467]\u001b[0m GAN_loss/gen/loss: 0.99296\n",
      "\u001b[32m[0215 11:38:14 @monitor.py:467]\u001b[0m QueueInput/queue_size: 50\n",
      "\u001b[32m[0215 11:38:14 @base.py:275]\u001b[0m Start Epoch 683 ...\n"
     ]
    },
    {
     "name": "stderr",
     "output_type": "stream",
     "text": [
      "\n",
      "100%|#################################################################################|2000/2000[00:31<00:00,63.33it/s]"
     ]
    },
    {
     "name": "stdout",
     "output_type": "stream",
     "text": [
      "\u001b[32m[0215 11:38:46 @base.py:285]\u001b[0m Epoch 683 (global_step 1366000) finished, time:31.6 seconds.\n",
      "\u001b[32m[0215 11:38:46 @saver.py:79]\u001b[0m Model saved to ./output_TGAN/output/model\\model-1366000.\n",
      "\u001b[32m[0215 11:38:46 @monitor.py:467]\u001b[0m GAN_loss/discrim/accuracy_fake: 0.89\n",
      "\u001b[32m[0215 11:38:46 @monitor.py:467]\u001b[0m GAN_loss/discrim/accuracy_real: 0.125\n",
      "\u001b[32m[0215 11:38:46 @monitor.py:467]\u001b[0m GAN_loss/discrim/loss: 0.64724\n",
      "\u001b[32m[0215 11:38:46 @monitor.py:467]\u001b[0m GAN_loss/gen/final-g-loss: 1.1555\n",
      "\u001b[32m[0215 11:38:46 @monitor.py:467]\u001b[0m GAN_loss/gen/klloss: 0.1626\n",
      "\u001b[32m[0215 11:38:46 @monitor.py:467]\u001b[0m GAN_loss/gen/loss: 0.99295\n",
      "\u001b[32m[0215 11:38:46 @monitor.py:467]\u001b[0m QueueInput/queue_size: 50\n",
      "\u001b[32m[0215 11:38:46 @base.py:275]\u001b[0m Start Epoch 684 ...\n"
     ]
    },
    {
     "name": "stderr",
     "output_type": "stream",
     "text": [
      "\n",
      "100%|#################################################################################|2000/2000[00:31<00:00,63.14it/s]"
     ]
    },
    {
     "name": "stdout",
     "output_type": "stream",
     "text": [
      "\u001b[32m[0215 11:39:17 @base.py:285]\u001b[0m Epoch 684 (global_step 1368000) finished, time:31.7 seconds.\n",
      "\u001b[32m[0215 11:39:17 @saver.py:79]\u001b[0m Model saved to ./output_TGAN/output/model\\model-1368000.\n",
      "\u001b[32m[0215 11:39:18 @monitor.py:467]\u001b[0m GAN_loss/discrim/accuracy_fake: 0.93\n",
      "\u001b[32m[0215 11:39:18 @monitor.py:467]\u001b[0m GAN_loss/discrim/accuracy_real: 0.13\n",
      "\u001b[32m[0215 11:39:18 @monitor.py:467]\u001b[0m GAN_loss/discrim/loss: 0.65113\n",
      "\u001b[32m[0215 11:39:18 @monitor.py:467]\u001b[0m GAN_loss/gen/final-g-loss: 1.0976\n",
      "\u001b[32m[0215 11:39:18 @monitor.py:467]\u001b[0m GAN_loss/gen/klloss: 0.09796\n",
      "\u001b[32m[0215 11:39:18 @monitor.py:467]\u001b[0m GAN_loss/gen/loss: 0.99964\n",
      "\u001b[32m[0215 11:39:18 @monitor.py:467]\u001b[0m QueueInput/queue_size: 50\n",
      "\u001b[32m[0215 11:39:18 @base.py:275]\u001b[0m Start Epoch 685 ...\n"
     ]
    },
    {
     "name": "stderr",
     "output_type": "stream",
     "text": [
      "\n",
      "100%|#################################################################################|2000/2000[00:31<00:00,62.93it/s]"
     ]
    },
    {
     "name": "stdout",
     "output_type": "stream",
     "text": [
      "\u001b[32m[0215 11:39:49 @base.py:285]\u001b[0m Epoch 685 (global_step 1370000) finished, time:31.8 seconds.\n",
      "\u001b[32m[0215 11:39:49 @saver.py:79]\u001b[0m Model saved to ./output_TGAN/output/model\\model-1370000.\n",
      "\u001b[32m[0215 11:39:50 @monitor.py:467]\u001b[0m GAN_loss/discrim/accuracy_fake: 0.94\n",
      "\u001b[32m[0215 11:39:50 @monitor.py:467]\u001b[0m GAN_loss/discrim/accuracy_real: 0.115\n",
      "\u001b[32m[0215 11:39:50 @monitor.py:467]\u001b[0m GAN_loss/discrim/loss: 0.6428\n",
      "\u001b[32m[0215 11:39:50 @monitor.py:467]\u001b[0m GAN_loss/gen/final-g-loss: 1.066\n",
      "\u001b[32m[0215 11:39:50 @monitor.py:467]\u001b[0m GAN_loss/gen/klloss: 0.070554\n",
      "\u001b[32m[0215 11:39:50 @monitor.py:467]\u001b[0m GAN_loss/gen/loss: 0.9954\n",
      "\u001b[32m[0215 11:39:50 @monitor.py:467]\u001b[0m QueueInput/queue_size: 50\n",
      "\u001b[32m[0215 11:39:50 @base.py:275]\u001b[0m Start Epoch 686 ...\n"
     ]
    },
    {
     "name": "stderr",
     "output_type": "stream",
     "text": [
      "\n",
      "100%|#################################################################################|2000/2000[00:31<00:00,62.56it/s]"
     ]
    },
    {
     "name": "stdout",
     "output_type": "stream",
     "text": [
      "\u001b[32m[0215 11:40:21 @base.py:285]\u001b[0m Epoch 686 (global_step 1372000) finished, time:32 seconds.\n",
      "\u001b[32m[0215 11:40:22 @saver.py:79]\u001b[0m Model saved to ./output_TGAN/output/model\\model-1372000.\n",
      "\u001b[32m[0215 11:40:22 @monitor.py:467]\u001b[0m GAN_loss/discrim/accuracy_fake: 0.955\n"
     ]
    },
    {
     "name": "stderr",
     "output_type": "stream",
     "text": [
      "\n"
     ]
    },
    {
     "name": "stdout",
     "output_type": "stream",
     "text": [
      "\u001b[32m[0215 11:40:22 @monitor.py:467]\u001b[0m GAN_loss/discrim/accuracy_real: 0.075\n",
      "\u001b[32m[0215 11:40:22 @monitor.py:467]\u001b[0m GAN_loss/discrim/loss: 0.6392\n",
      "\u001b[32m[0215 11:40:22 @monitor.py:467]\u001b[0m GAN_loss/gen/final-g-loss: 1.1127\n",
      "\u001b[32m[0215 11:40:22 @monitor.py:467]\u001b[0m GAN_loss/gen/klloss: 0.10087\n",
      "\u001b[32m[0215 11:40:22 @monitor.py:467]\u001b[0m GAN_loss/gen/loss: 1.0118\n",
      "\u001b[32m[0215 11:40:22 @monitor.py:467]\u001b[0m QueueInput/queue_size: 50\n",
      "\u001b[32m[0215 11:40:22 @base.py:275]\u001b[0m Start Epoch 687 ...\n"
     ]
    },
    {
     "name": "stderr",
     "output_type": "stream",
     "text": [
      "100%|#################################################################################|2000/2000[00:33<00:00,59.24it/s]"
     ]
    },
    {
     "name": "stdout",
     "output_type": "stream",
     "text": [
      "\u001b[32m[0215 11:40:55 @base.py:285]\u001b[0m Epoch 687 (global_step 1374000) finished, time:33.8 seconds.\n",
      "\u001b[32m[0215 11:40:55 @saver.py:79]\u001b[0m Model saved to ./output_TGAN/output/model\\model-1374000.\n",
      "\u001b[32m[0215 11:40:56 @monitor.py:467]\u001b[0m GAN_loss/discrim/accuracy_fake: 0.91\n",
      "\u001b[32m[0215 11:40:56 @monitor.py:467]\u001b[0m GAN_loss/discrim/accuracy_real: 0.12\n",
      "\u001b[32m[0215 11:40:56 @monitor.py:467]\u001b[0m GAN_loss/discrim/loss: 0.64644\n",
      "\u001b[32m[0215 11:40:56 @monitor.py:467]\u001b[0m GAN_loss/gen/final-g-loss: 1.0886\n",
      "\u001b[32m[0215 11:40:56 @monitor.py:467]\u001b[0m GAN_loss/gen/klloss: 0.082302\n",
      "\u001b[32m[0215 11:40:56 @monitor.py:467]\u001b[0m GAN_loss/gen/loss: 1.0063\n",
      "\u001b[32m[0215 11:40:56 @monitor.py:467]\u001b[0m QueueInput/queue_size: 50\n",
      "\u001b[32m[0215 11:40:56 @base.py:275]\u001b[0m Start Epoch 688 ...\n"
     ]
    },
    {
     "name": "stderr",
     "output_type": "stream",
     "text": [
      "\n",
      "100%|#################################################################################|2000/2000[00:33<00:00,60.55it/s]"
     ]
    },
    {
     "name": "stdout",
     "output_type": "stream",
     "text": [
      "\u001b[32m[0215 11:41:29 @base.py:285]\u001b[0m Epoch 688 (global_step 1376000) finished, time:33 seconds.\n",
      "\u001b[32m[0215 11:41:29 @saver.py:79]\u001b[0m Model saved to ./output_TGAN/output/model\\model-1376000.\n",
      "\u001b[32m[0215 11:41:29 @monitor.py:467]\u001b[0m GAN_loss/discrim/accuracy_fake: 0.95\n",
      "\u001b[32m[0215 11:41:29 @monitor.py:467]\u001b[0m GAN_loss/discrim/accuracy_real: 0.14\n",
      "\u001b[32m[0215 11:41:29 @monitor.py:467]\u001b[0m GAN_loss/discrim/loss: 0.63281\n",
      "\u001b[32m[0215 11:41:29 @monitor.py:467]\u001b[0m GAN_loss/gen/final-g-loss: 1.1103\n",
      "\u001b[32m[0215 11:41:29 @monitor.py:467]\u001b[0m GAN_loss/gen/klloss: 0.088475\n",
      "\u001b[32m[0215 11:41:29 @monitor.py:467]\u001b[0m GAN_loss/gen/loss: 1.0218\n",
      "\u001b[32m[0215 11:41:29 @monitor.py:467]\u001b[0m QueueInput/queue_size: 50\n",
      "\u001b[32m[0215 11:41:29 @base.py:275]\u001b[0m Start Epoch 689 ...\n"
     ]
    },
    {
     "name": "stderr",
     "output_type": "stream",
     "text": [
      "\n",
      "100%|#################################################################################|2000/2000[00:32<00:00,60.88it/s]"
     ]
    },
    {
     "name": "stdout",
     "output_type": "stream",
     "text": [
      "\u001b[32m[0215 11:42:02 @base.py:285]\u001b[0m Epoch 689 (global_step 1378000) finished, time:32.9 seconds.\n",
      "\u001b[32m[0215 11:42:02 @saver.py:79]\u001b[0m Model saved to ./output_TGAN/output/model\\model-1378000.\n",
      "\u001b[32m[0215 11:42:02 @monitor.py:467]\u001b[0m GAN_loss/discrim/accuracy_fake: 0.93\n",
      "\u001b[32m[0215 11:42:02 @monitor.py:467]\u001b[0m GAN_loss/discrim/accuracy_real: 0.11\n",
      "\u001b[32m[0215 11:42:02 @monitor.py:467]\u001b[0m GAN_loss/discrim/loss: 0.65568\n",
      "\u001b[32m[0215 11:42:02 @monitor.py:467]\u001b[0m GAN_loss/gen/final-g-loss: 1.1163\n",
      "\u001b[32m[0215 11:42:02 @monitor.py:467]\u001b[0m GAN_loss/gen/klloss: 0.12125\n",
      "\u001b[32m[0215 11:42:02 @monitor.py:467]\u001b[0m GAN_loss/gen/loss: 0.99504\n",
      "\u001b[32m[0215 11:42:02 @monitor.py:467]\u001b[0m QueueInput/queue_size: 50\n",
      "\u001b[32m[0215 11:42:02 @base.py:275]\u001b[0m Start Epoch 690 ...\n"
     ]
    },
    {
     "name": "stderr",
     "output_type": "stream",
     "text": [
      "\n",
      "100%|#################################################################################|2000/2000[00:32<00:00,61.27it/s]"
     ]
    },
    {
     "name": "stdout",
     "output_type": "stream",
     "text": [
      "\u001b[32m[0215 11:42:34 @base.py:285]\u001b[0m Epoch 690 (global_step 1380000) finished, time:32.6 seconds.\n",
      "\u001b[32m[0215 11:42:34 @saver.py:79]\u001b[0m Model saved to ./output_TGAN/output/model\\model-1380000.\n",
      "\u001b[32m[0215 11:42:35 @monitor.py:467]\u001b[0m GAN_loss/discrim/accuracy_fake: 0.965\n",
      "\u001b[32m[0215 11:42:35 @monitor.py:467]\u001b[0m GAN_loss/discrim/accuracy_real: 0.19\n",
      "\u001b[32m[0215 11:42:35 @monitor.py:467]\u001b[0m GAN_loss/discrim/loss: 0.63173\n",
      "\u001b[32m[0215 11:42:35 @monitor.py:467]\u001b[0m GAN_loss/gen/final-g-loss: 1.1306\n",
      "\u001b[32m[0215 11:42:35 @monitor.py:467]\u001b[0m GAN_loss/gen/klloss: 0.11554\n",
      "\u001b[32m[0215 11:42:35 @monitor.py:467]\u001b[0m GAN_loss/gen/loss: 1.0151\n",
      "\u001b[32m[0215 11:42:35 @monitor.py:467]\u001b[0m QueueInput/queue_size: 50\n",
      "\u001b[32m[0215 11:42:35 @base.py:275]\u001b[0m Start Epoch 691 ...\n"
     ]
    },
    {
     "name": "stderr",
     "output_type": "stream",
     "text": [
      "\n",
      "100%|#################################################################################|2000/2000[00:32<00:00,60.87it/s]"
     ]
    },
    {
     "name": "stdout",
     "output_type": "stream",
     "text": [
      "\u001b[32m[0215 11:43:07 @base.py:285]\u001b[0m Epoch 691 (global_step 1382000) finished, time:32.9 seconds.\n",
      "\u001b[32m[0215 11:43:08 @saver.py:79]\u001b[0m Model saved to ./output_TGAN/output/model\\model-1382000.\n"
     ]
    },
    {
     "name": "stderr",
     "output_type": "stream",
     "text": [
      "\n"
     ]
    },
    {
     "name": "stdout",
     "output_type": "stream",
     "text": [
      "\u001b[32m[0215 11:43:08 @monitor.py:467]\u001b[0m GAN_loss/discrim/accuracy_fake: 0.9\n",
      "\u001b[32m[0215 11:43:08 @monitor.py:467]\u001b[0m GAN_loss/discrim/accuracy_real: 0.135\n",
      "\u001b[32m[0215 11:43:08 @monitor.py:467]\u001b[0m GAN_loss/discrim/loss: 0.64594\n",
      "\u001b[32m[0215 11:43:08 @monitor.py:467]\u001b[0m GAN_loss/gen/final-g-loss: 1.1011\n",
      "\u001b[32m[0215 11:43:08 @monitor.py:467]\u001b[0m GAN_loss/gen/klloss: 0.10078\n",
      "\u001b[32m[0215 11:43:08 @monitor.py:467]\u001b[0m GAN_loss/gen/loss: 1.0003\n",
      "\u001b[32m[0215 11:43:08 @monitor.py:467]\u001b[0m QueueInput/queue_size: 50\n",
      "\u001b[32m[0215 11:43:08 @base.py:275]\u001b[0m Start Epoch 692 ...\n"
     ]
    },
    {
     "name": "stderr",
     "output_type": "stream",
     "text": [
      "100%|#################################################################################|2000/2000[00:32<00:00,60.78it/s]"
     ]
    },
    {
     "name": "stdout",
     "output_type": "stream",
     "text": [
      "\u001b[32m[0215 11:43:41 @base.py:285]\u001b[0m Epoch 692 (global_step 1384000) finished, time:32.9 seconds.\n",
      "\u001b[32m[0215 11:43:41 @saver.py:79]\u001b[0m Model saved to ./output_TGAN/output/model\\model-1384000.\n",
      "\u001b[32m[0215 11:43:41 @monitor.py:467]\u001b[0m GAN_loss/discrim/accuracy_fake: 0.92\n",
      "\u001b[32m[0215 11:43:41 @monitor.py:467]\u001b[0m GAN_loss/discrim/accuracy_real: 0.17\n",
      "\u001b[32m[0215 11:43:41 @monitor.py:467]\u001b[0m GAN_loss/discrim/loss: 0.65133\n",
      "\u001b[32m[0215 11:43:41 @monitor.py:467]\u001b[0m GAN_loss/gen/final-g-loss: 1.0803\n",
      "\u001b[32m[0215 11:43:41 @monitor.py:467]\u001b[0m GAN_loss/gen/klloss: 0.089752\n",
      "\u001b[32m[0215 11:43:41 @monitor.py:467]\u001b[0m GAN_loss/gen/loss: 0.99058\n",
      "\u001b[32m[0215 11:43:41 @monitor.py:467]\u001b[0m QueueInput/queue_size: 50\n",
      "\u001b[32m[0215 11:43:41 @base.py:275]\u001b[0m Start Epoch 693 ...\n"
     ]
    },
    {
     "name": "stderr",
     "output_type": "stream",
     "text": [
      "\n",
      "100%|#################################################################################|2000/2000[00:32<00:00,60.85it/s]"
     ]
    },
    {
     "name": "stdout",
     "output_type": "stream",
     "text": [
      "\u001b[32m[0215 11:44:14 @base.py:285]\u001b[0m Epoch 693 (global_step 1386000) finished, time:32.9 seconds.\n",
      "\u001b[32m[0215 11:44:14 @saver.py:79]\u001b[0m Model saved to ./output_TGAN/output/model\\model-1386000.\n",
      "\u001b[32m[0215 11:44:14 @monitor.py:467]\u001b[0m GAN_loss/discrim/accuracy_fake: 0.88\n",
      "\u001b[32m[0215 11:44:14 @monitor.py:467]\u001b[0m GAN_loss/discrim/accuracy_real: 0.1\n",
      "\u001b[32m[0215 11:44:14 @monitor.py:467]\u001b[0m GAN_loss/discrim/loss: 0.65065\n",
      "\u001b[32m[0215 11:44:14 @monitor.py:467]\u001b[0m GAN_loss/gen/final-g-loss: 1.0799\n",
      "\u001b[32m[0215 11:44:14 @monitor.py:467]\u001b[0m GAN_loss/gen/klloss: 0.093075\n",
      "\u001b[32m[0215 11:44:14 @monitor.py:467]\u001b[0m GAN_loss/gen/loss: 0.98679\n",
      "\u001b[32m[0215 11:44:14 @monitor.py:467]\u001b[0m QueueInput/queue_size: 50\n",
      "\u001b[32m[0215 11:44:14 @base.py:275]\u001b[0m Start Epoch 694 ...\n"
     ]
    },
    {
     "name": "stderr",
     "output_type": "stream",
     "text": [
      "\n",
      "100%|#################################################################################|2000/2000[00:32<00:00,61.08it/s]"
     ]
    },
    {
     "name": "stdout",
     "output_type": "stream",
     "text": [
      "\u001b[32m[0215 11:44:46 @base.py:285]\u001b[0m Epoch 694 (global_step 1388000) finished, time:32.7 seconds.\n",
      "\u001b[32m[0215 11:44:47 @saver.py:79]\u001b[0m Model saved to ./output_TGAN/output/model\\model-1388000.\n",
      "\u001b[32m[0215 11:44:47 @monitor.py:467]\u001b[0m GAN_loss/discrim/accuracy_fake: 0.935\n",
      "\u001b[32m[0215 11:44:47 @monitor.py:467]\u001b[0m GAN_loss/discrim/accuracy_real: 0.12\n",
      "\u001b[32m[0215 11:44:47 @monitor.py:467]\u001b[0m GAN_loss/discrim/loss: 0.65725\n",
      "\u001b[32m[0215 11:44:47 @monitor.py:467]\u001b[0m GAN_loss/gen/final-g-loss: 1.0745\n",
      "\u001b[32m[0215 11:44:47 @monitor.py:467]\u001b[0m GAN_loss/gen/klloss: 0.099132\n",
      "\u001b[32m[0215 11:44:47 @monitor.py:467]\u001b[0m GAN_loss/gen/loss: 0.97534\n",
      "\u001b[32m[0215 11:44:47 @monitor.py:467]\u001b[0m QueueInput/queue_size: 50\n",
      "\u001b[32m[0215 11:44:47 @base.py:275]\u001b[0m Start Epoch 695 ...\n"
     ]
    },
    {
     "name": "stderr",
     "output_type": "stream",
     "text": [
      "\n",
      "100%|#################################################################################|2000/2000[00:32<00:00,60.89it/s]"
     ]
    },
    {
     "name": "stdout",
     "output_type": "stream",
     "text": [
      "\u001b[32m[0215 11:45:19 @base.py:285]\u001b[0m Epoch 695 (global_step 1390000) finished, time:32.8 seconds.\n",
      "\u001b[32m[0215 11:45:20 @saver.py:79]\u001b[0m Model saved to ./output_TGAN/output/model\\model-1390000.\n",
      "\u001b[32m[0215 11:45:20 @monitor.py:467]\u001b[0m GAN_loss/discrim/accuracy_fake: 0.945\n",
      "\u001b[32m[0215 11:45:20 @monitor.py:467]\u001b[0m GAN_loss/discrim/accuracy_real: 0.1\n",
      "\u001b[32m[0215 11:45:20 @monitor.py:467]\u001b[0m GAN_loss/discrim/loss: 0.64872\n",
      "\u001b[32m[0215 11:45:20 @monitor.py:467]\u001b[0m GAN_loss/gen/final-g-loss: 1.0852\n",
      "\u001b[32m[0215 11:45:20 @monitor.py:467]\u001b[0m GAN_loss/gen/klloss: 0.071136\n",
      "\u001b[32m[0215 11:45:20 @monitor.py:467]\u001b[0m GAN_loss/gen/loss: 1.014\n",
      "\u001b[32m[0215 11:45:20 @monitor.py:467]\u001b[0m QueueInput/queue_size: 50\n",
      "\u001b[32m[0215 11:45:20 @base.py:275]\u001b[0m Start Epoch 696 ...\n"
     ]
    },
    {
     "name": "stderr",
     "output_type": "stream",
     "text": [
      "\n",
      "100%|#################################################################################|2000/2000[00:32<00:00,61.03it/s]"
     ]
    },
    {
     "name": "stdout",
     "output_type": "stream",
     "text": [
      "\u001b[32m[0215 11:45:52 @base.py:285]\u001b[0m Epoch 696 (global_step 1392000) finished, time:32.8 seconds.\n",
      "\u001b[32m[0215 11:45:52 @saver.py:79]\u001b[0m Model saved to ./output_TGAN/output/model\\model-1392000.\n",
      "\u001b[32m[0215 11:45:53 @monitor.py:467]\u001b[0m GAN_loss/discrim/accuracy_fake: 0.935\n",
      "\u001b[32m[0215 11:45:53 @monitor.py:467]\u001b[0m GAN_loss/discrim/accuracy_real: 0.095\n",
      "\u001b[32m[0215 11:45:53 @monitor.py:467]\u001b[0m GAN_loss/discrim/loss: 0.65143\n",
      "\u001b[32m[0215 11:45:53 @monitor.py:467]\u001b[0m GAN_loss/gen/final-g-loss: 1.106\n",
      "\u001b[32m[0215 11:45:53 @monitor.py:467]\u001b[0m GAN_loss/gen/klloss: 0.11648\n",
      "\u001b[32m[0215 11:45:53 @monitor.py:467]\u001b[0m GAN_loss/gen/loss: 0.98956\n",
      "\u001b[32m[0215 11:45:53 @monitor.py:467]\u001b[0m QueueInput/queue_size: 50\n",
      "\u001b[32m[0215 11:45:53 @base.py:275]\u001b[0m Start Epoch 697 ...\n"
     ]
    },
    {
     "name": "stderr",
     "output_type": "stream",
     "text": [
      "\n",
      "100%|#################################################################################|2000/2000[00:32<00:00,60.96it/s]"
     ]
    },
    {
     "name": "stdout",
     "output_type": "stream",
     "text": [
      "\u001b[32m[0215 11:46:25 @base.py:285]\u001b[0m Epoch 697 (global_step 1394000) finished, time:32.8 seconds.\n",
      "\u001b[32m[0215 11:46:25 @saver.py:79]\u001b[0m Model saved to ./output_TGAN/output/model\\model-1394000.\n",
      "\u001b[32m[0215 11:46:26 @monitor.py:467]\u001b[0m GAN_loss/discrim/accuracy_fake: 0.95\n",
      "\u001b[32m[0215 11:46:26 @monitor.py:467]\u001b[0m GAN_loss/discrim/accuracy_real: 0.1\n",
      "\u001b[32m[0215 11:46:26 @monitor.py:467]\u001b[0m GAN_loss/discrim/loss: 0.64462\n",
      "\u001b[32m[0215 11:46:26 @monitor.py:467]\u001b[0m GAN_loss/gen/final-g-loss: 1.1294\n",
      "\u001b[32m[0215 11:46:26 @monitor.py:467]\u001b[0m GAN_loss/gen/klloss: 0.13207\n",
      "\u001b[32m[0215 11:46:26 @monitor.py:467]\u001b[0m GAN_loss/gen/loss: 0.9973\n",
      "\u001b[32m[0215 11:46:26 @monitor.py:467]\u001b[0m QueueInput/queue_size: 50\n",
      "\u001b[32m[0215 11:46:26 @base.py:275]\u001b[0m Start Epoch 698 ...\n"
     ]
    },
    {
     "name": "stderr",
     "output_type": "stream",
     "text": [
      "\n",
      "100%|#################################################################################|2000/2000[00:32<00:00,61.06it/s]"
     ]
    },
    {
     "name": "stdout",
     "output_type": "stream",
     "text": [
      "\u001b[32m[0215 11:46:58 @base.py:285]\u001b[0m Epoch 698 (global_step 1396000) finished, time:32.8 seconds.\n",
      "\u001b[32m[0215 11:46:58 @saver.py:79]\u001b[0m Model saved to ./output_TGAN/output/model\\model-1396000.\n",
      "\u001b[32m[0215 11:46:58 @monitor.py:467]\u001b[0m GAN_loss/discrim/accuracy_fake: 0.94\n",
      "\u001b[32m[0215 11:46:58 @monitor.py:467]\u001b[0m GAN_loss/discrim/accuracy_real: 0.085\n",
      "\u001b[32m[0215 11:46:58 @monitor.py:467]\u001b[0m GAN_loss/discrim/loss: 0.64453\n",
      "\u001b[32m[0215 11:46:58 @monitor.py:467]\u001b[0m GAN_loss/gen/final-g-loss: 1.0915\n",
      "\u001b[32m[0215 11:46:58 @monitor.py:467]\u001b[0m GAN_loss/gen/klloss: 0.078961\n",
      "\u001b[32m[0215 11:46:58 @monitor.py:467]\u001b[0m GAN_loss/gen/loss: 1.0126\n",
      "\u001b[32m[0215 11:46:58 @monitor.py:467]\u001b[0m QueueInput/queue_size: 50\n",
      "\u001b[32m[0215 11:46:58 @base.py:275]\u001b[0m Start Epoch 699 ...\n"
     ]
    },
    {
     "name": "stderr",
     "output_type": "stream",
     "text": [
      "\n",
      "100%|#################################################################################|2000/2000[00:32<00:00,60.88it/s]"
     ]
    },
    {
     "name": "stdout",
     "output_type": "stream",
     "text": [
      "\u001b[32m[0215 11:47:31 @base.py:285]\u001b[0m Epoch 699 (global_step 1398000) finished, time:32.9 seconds.\n",
      "\u001b[32m[0215 11:47:31 @saver.py:79]\u001b[0m Model saved to ./output_TGAN/output/model\\model-1398000.\n",
      "\u001b[32m[0215 11:47:31 @monitor.py:467]\u001b[0m GAN_loss/discrim/accuracy_fake: 0.93\n",
      "\u001b[32m[0215 11:47:31 @monitor.py:467]\u001b[0m GAN_loss/discrim/accuracy_real: 0.145\n",
      "\u001b[32m[0215 11:47:31 @monitor.py:467]\u001b[0m GAN_loss/discrim/loss: 0.64788\n",
      "\u001b[32m[0215 11:47:31 @monitor.py:467]\u001b[0m GAN_loss/gen/final-g-loss: 1.0967\n",
      "\u001b[32m[0215 11:47:31 @monitor.py:467]\u001b[0m GAN_loss/gen/klloss: 0.1041\n",
      "\u001b[32m[0215 11:47:31 @monitor.py:467]\u001b[0m GAN_loss/gen/loss: 0.99265\n",
      "\u001b[32m[0215 11:47:31 @monitor.py:467]\u001b[0m QueueInput/queue_size: 50\n",
      "\u001b[32m[0215 11:47:31 @base.py:275]\u001b[0m Start Epoch 700 ...\n"
     ]
    },
    {
     "name": "stderr",
     "output_type": "stream",
     "text": [
      "\n",
      "100%|#################################################################################|2000/2000[00:32<00:00,60.81it/s]"
     ]
    },
    {
     "name": "stdout",
     "output_type": "stream",
     "text": [
      "\u001b[32m[0215 11:48:04 @base.py:285]\u001b[0m Epoch 700 (global_step 1400000) finished, time:32.9 seconds.\n",
      "\u001b[32m[0215 11:48:04 @saver.py:79]\u001b[0m Model saved to ./output_TGAN/output/model\\model-1400000.\n",
      "\u001b[32m[0215 11:48:05 @monitor.py:467]\u001b[0m GAN_loss/discrim/accuracy_fake: 0.95\n",
      "\u001b[32m[0215 11:48:05 @monitor.py:467]\u001b[0m GAN_loss/discrim/accuracy_real: 0.17\n",
      "\u001b[32m[0215 11:48:05 @monitor.py:467]\u001b[0m GAN_loss/discrim/loss: 0.63475\n",
      "\u001b[32m[0215 11:48:05 @monitor.py:467]\u001b[0m GAN_loss/gen/final-g-loss: 1.1023\n",
      "\u001b[32m[0215 11:48:05 @monitor.py:467]\u001b[0m GAN_loss/gen/klloss: 0.099303\n",
      "\u001b[32m[0215 11:48:05 @monitor.py:467]\u001b[0m GAN_loss/gen/loss: 1.003\n",
      "\u001b[32m[0215 11:48:05 @monitor.py:467]\u001b[0m QueueInput/queue_size: 50\n",
      "\u001b[32m[0215 11:48:05 @base.py:275]\u001b[0m Start Epoch 701 ...\n"
     ]
    },
    {
     "name": "stderr",
     "output_type": "stream",
     "text": [
      "\n",
      "100%|#################################################################################|2000/2000[00:32<00:00,60.70it/s]"
     ]
    },
    {
     "name": "stdout",
     "output_type": "stream",
     "text": [
      "\u001b[32m[0215 11:48:37 @base.py:285]\u001b[0m Epoch 701 (global_step 1402000) finished, time:32.9 seconds.\n",
      "\u001b[32m[0215 11:48:38 @saver.py:79]\u001b[0m Model saved to ./output_TGAN/output/model\\model-1402000.\n",
      "\u001b[32m[0215 11:48:38 @monitor.py:467]\u001b[0m GAN_loss/discrim/accuracy_fake: 0.92\n",
      "\u001b[32m[0215 11:48:38 @monitor.py:467]\u001b[0m GAN_loss/discrim/accuracy_real: 0.13\n",
      "\u001b[32m[0215 11:48:38 @monitor.py:467]\u001b[0m GAN_loss/discrim/loss: 0.63869\n",
      "\u001b[32m[0215 11:48:38 @monitor.py:467]\u001b[0m GAN_loss/gen/final-g-loss: 1.0577\n",
      "\u001b[32m[0215 11:48:38 @monitor.py:467]\u001b[0m GAN_loss/gen/klloss: 0.065588\n",
      "\u001b[32m[0215 11:48:38 @monitor.py:467]\u001b[0m GAN_loss/gen/loss: 0.99212\n",
      "\u001b[32m[0215 11:48:38 @monitor.py:467]\u001b[0m QueueInput/queue_size: 50\n",
      "\u001b[32m[0215 11:48:38 @base.py:275]\u001b[0m Start Epoch 702 ...\n"
     ]
    },
    {
     "name": "stderr",
     "output_type": "stream",
     "text": [
      "\n",
      "100%|#################################################################################|2000/2000[00:32<00:00,60.76it/s]"
     ]
    },
    {
     "name": "stdout",
     "output_type": "stream",
     "text": [
      "\u001b[32m[0215 11:49:11 @base.py:285]\u001b[0m Epoch 702 (global_step 1404000) finished, time:32.9 seconds.\n",
      "\u001b[32m[0215 11:49:11 @saver.py:79]\u001b[0m Model saved to ./output_TGAN/output/model\\model-1404000.\n",
      "\u001b[32m[0215 11:49:11 @monitor.py:467]\u001b[0m GAN_loss/discrim/accuracy_fake: 0.93\n",
      "\u001b[32m[0215 11:49:11 @monitor.py:467]\u001b[0m GAN_loss/discrim/accuracy_real: 0.085\n",
      "\u001b[32m[0215 11:49:11 @monitor.py:467]\u001b[0m GAN_loss/discrim/loss: 0.64208\n",
      "\u001b[32m[0215 11:49:11 @monitor.py:467]\u001b[0m GAN_loss/gen/final-g-loss: 1.1108\n",
      "\u001b[32m[0215 11:49:11 @monitor.py:467]\u001b[0m GAN_loss/gen/klloss: 0.10295\n",
      "\u001b[32m[0215 11:49:11 @monitor.py:467]\u001b[0m GAN_loss/gen/loss: 1.0079\n",
      "\u001b[32m[0215 11:49:11 @monitor.py:467]\u001b[0m QueueInput/queue_size: 50\n",
      "\u001b[32m[0215 11:49:11 @base.py:275]\u001b[0m Start Epoch 703 ...\n"
     ]
    },
    {
     "name": "stderr",
     "output_type": "stream",
     "text": [
      "\n",
      "100%|#################################################################################|2000/2000[00:32<00:00,60.94it/s]"
     ]
    },
    {
     "name": "stdout",
     "output_type": "stream",
     "text": [
      "\u001b[32m[0215 11:49:44 @base.py:285]\u001b[0m Epoch 703 (global_step 1406000) finished, time:32.8 seconds.\n",
      "\u001b[32m[0215 11:49:44 @saver.py:79]\u001b[0m Model saved to ./output_TGAN/output/model\\model-1406000.\n",
      "\u001b[32m[0215 11:49:44 @monitor.py:467]\u001b[0m GAN_loss/discrim/accuracy_fake: 0.95\n",
      "\u001b[32m[0215 11:49:44 @monitor.py:467]\u001b[0m GAN_loss/discrim/accuracy_real: 0.14\n",
      "\u001b[32m[0215 11:49:44 @monitor.py:467]\u001b[0m GAN_loss/discrim/loss: 0.63611\n",
      "\u001b[32m[0215 11:49:44 @monitor.py:467]\u001b[0m GAN_loss/gen/final-g-loss: 1.0998\n",
      "\u001b[32m[0215 11:49:44 @monitor.py:467]\u001b[0m GAN_loss/gen/klloss: 0.082888\n",
      "\u001b[32m[0215 11:49:44 @monitor.py:467]\u001b[0m GAN_loss/gen/loss: 1.0169\n",
      "\u001b[32m[0215 11:49:44 @monitor.py:467]\u001b[0m QueueInput/queue_size: 50\n",
      "\u001b[32m[0215 11:49:44 @base.py:275]\u001b[0m Start Epoch 704 ...\n"
     ]
    },
    {
     "name": "stderr",
     "output_type": "stream",
     "text": [
      "\n",
      "100%|#################################################################################|2000/2000[00:32<00:00,60.89it/s]"
     ]
    },
    {
     "name": "stdout",
     "output_type": "stream",
     "text": [
      "\u001b[32m[0215 11:50:17 @base.py:285]\u001b[0m Epoch 704 (global_step 1408000) finished, time:32.8 seconds.\n",
      "\u001b[32m[0215 11:50:17 @saver.py:79]\u001b[0m Model saved to ./output_TGAN/output/model\\model-1408000.\n",
      "\u001b[32m[0215 11:50:17 @monitor.py:467]\u001b[0m GAN_loss/discrim/accuracy_fake: 0.925\n",
      "\u001b[32m[0215 11:50:17 @monitor.py:467]\u001b[0m GAN_loss/discrim/accuracy_real: 0.145\n",
      "\u001b[32m[0215 11:50:17 @monitor.py:467]\u001b[0m GAN_loss/discrim/loss: 0.64494\n",
      "\u001b[32m[0215 11:50:17 @monitor.py:467]\u001b[0m GAN_loss/gen/final-g-loss: 1.0638\n",
      "\u001b[32m[0215 11:50:17 @monitor.py:467]\u001b[0m GAN_loss/gen/klloss: 0.072041\n",
      "\u001b[32m[0215 11:50:17 @monitor.py:467]\u001b[0m GAN_loss/gen/loss: 0.99173\n",
      "\u001b[32m[0215 11:50:17 @monitor.py:467]\u001b[0m QueueInput/queue_size: 50\n",
      "\u001b[32m[0215 11:50:17 @base.py:275]\u001b[0m Start Epoch 705 ...\n"
     ]
    },
    {
     "name": "stderr",
     "output_type": "stream",
     "text": [
      "\n",
      "100%|#################################################################################|2000/2000[00:32<00:00,60.85it/s]"
     ]
    },
    {
     "name": "stdout",
     "output_type": "stream",
     "text": [
      "\u001b[32m[0215 11:50:50 @base.py:285]\u001b[0m Epoch 705 (global_step 1410000) finished, time:32.9 seconds.\n",
      "\u001b[32m[0215 11:50:50 @saver.py:79]\u001b[0m Model saved to ./output_TGAN/output/model\\model-1410000.\n",
      "\u001b[32m[0215 11:50:50 @monitor.py:467]\u001b[0m GAN_loss/discrim/accuracy_fake: 0.93\n",
      "\u001b[32m[0215 11:50:50 @monitor.py:467]\u001b[0m GAN_loss/discrim/accuracy_real: 0.125\n",
      "\u001b[32m[0215 11:50:50 @monitor.py:467]\u001b[0m GAN_loss/discrim/loss: 0.63233\n",
      "\u001b[32m[0215 11:50:50 @monitor.py:467]\u001b[0m GAN_loss/gen/final-g-loss: 1.1308\n",
      "\u001b[32m[0215 11:50:50 @monitor.py:467]\u001b[0m GAN_loss/gen/klloss: 0.121\n",
      "\u001b[32m[0215 11:50:50 @monitor.py:467]\u001b[0m GAN_loss/gen/loss: 1.0098\n",
      "\u001b[32m[0215 11:50:50 @monitor.py:467]\u001b[0m QueueInput/queue_size: 50\n",
      "\u001b[32m[0215 11:50:50 @base.py:275]\u001b[0m Start Epoch 706 ...\n"
     ]
    },
    {
     "name": "stderr",
     "output_type": "stream",
     "text": [
      "\n",
      "100%|#################################################################################|2000/2000[00:32<00:00,60.95it/s]"
     ]
    },
    {
     "name": "stdout",
     "output_type": "stream",
     "text": [
      "\u001b[32m[0215 11:51:23 @base.py:285]\u001b[0m Epoch 706 (global_step 1412000) finished, time:32.8 seconds.\n",
      "\u001b[32m[0215 11:51:23 @saver.py:79]\u001b[0m Model saved to ./output_TGAN/output/model\\model-1412000.\n",
      "\u001b[32m[0215 11:51:23 @monitor.py:467]\u001b[0m GAN_loss/discrim/accuracy_fake: 0.92\n",
      "\u001b[32m[0215 11:51:23 @monitor.py:467]\u001b[0m GAN_loss/discrim/accuracy_real: 0.12\n",
      "\u001b[32m[0215 11:51:23 @monitor.py:467]\u001b[0m GAN_loss/discrim/loss: 0.64758\n",
      "\u001b[32m[0215 11:51:23 @monitor.py:467]\u001b[0m GAN_loss/gen/final-g-loss: 1.121\n",
      "\u001b[32m[0215 11:51:23 @monitor.py:467]\u001b[0m GAN_loss/gen/klloss: 0.1324\n",
      "\u001b[32m[0215 11:51:23 @monitor.py:467]\u001b[0m GAN_loss/gen/loss: 0.98858\n",
      "\u001b[32m[0215 11:51:23 @monitor.py:467]\u001b[0m QueueInput/queue_size: 50\n",
      "\u001b[32m[0215 11:51:23 @base.py:275]\u001b[0m Start Epoch 707 ...\n"
     ]
    },
    {
     "name": "stderr",
     "output_type": "stream",
     "text": [
      "\n",
      "100%|#################################################################################|2000/2000[00:32<00:00,60.80it/s]"
     ]
    },
    {
     "name": "stdout",
     "output_type": "stream",
     "text": [
      "\u001b[32m[0215 11:51:56 @base.py:285]\u001b[0m Epoch 707 (global_step 1414000) finished, time:32.9 seconds.\n",
      "\u001b[32m[0215 11:51:56 @saver.py:79]\u001b[0m Model saved to ./output_TGAN/output/model\\model-1414000.\n",
      "\u001b[32m[0215 11:51:56 @monitor.py:467]\u001b[0m GAN_loss/discrim/accuracy_fake: 0.95\n",
      "\u001b[32m[0215 11:51:56 @monitor.py:467]\u001b[0m GAN_loss/discrim/accuracy_real: 0.09\n",
      "\u001b[32m[0215 11:51:56 @monitor.py:467]\u001b[0m GAN_loss/discrim/loss: 0.65382\n",
      "\u001b[32m[0215 11:51:56 @monitor.py:467]\u001b[0m GAN_loss/gen/final-g-loss: 1.1212\n",
      "\u001b[32m[0215 11:51:56 @monitor.py:467]\u001b[0m GAN_loss/gen/klloss: 0.12572\n",
      "\u001b[32m[0215 11:51:56 @monitor.py:467]\u001b[0m GAN_loss/gen/loss: 0.99547\n",
      "\u001b[32m[0215 11:51:56 @monitor.py:467]\u001b[0m QueueInput/queue_size: 50\n",
      "\u001b[32m[0215 11:51:56 @base.py:275]\u001b[0m Start Epoch 708 ...\n"
     ]
    },
    {
     "name": "stderr",
     "output_type": "stream",
     "text": [
      "\n",
      "100%|#################################################################################|2000/2000[00:32<00:00,60.94it/s]"
     ]
    },
    {
     "name": "stdout",
     "output_type": "stream",
     "text": [
      "\u001b[32m[0215 11:52:29 @base.py:285]\u001b[0m Epoch 708 (global_step 1416000) finished, time:32.8 seconds.\n",
      "\u001b[32m[0215 11:52:29 @saver.py:79]\u001b[0m Model saved to ./output_TGAN/output/model\\model-1416000.\n",
      "\u001b[32m[0215 11:52:29 @monitor.py:467]\u001b[0m GAN_loss/discrim/accuracy_fake: 0.93\n",
      "\u001b[32m[0215 11:52:29 @monitor.py:467]\u001b[0m GAN_loss/discrim/accuracy_real: 0.12\n",
      "\u001b[32m[0215 11:52:29 @monitor.py:467]\u001b[0m GAN_loss/discrim/loss: 0.64692\n",
      "\u001b[32m[0215 11:52:29 @monitor.py:467]\u001b[0m GAN_loss/gen/final-g-loss: 1.1613\n",
      "\u001b[32m[0215 11:52:29 @monitor.py:467]\u001b[0m GAN_loss/gen/klloss: 0.15602\n",
      "\u001b[32m[0215 11:52:29 @monitor.py:467]\u001b[0m GAN_loss/gen/loss: 1.0053\n",
      "\u001b[32m[0215 11:52:29 @monitor.py:467]\u001b[0m QueueInput/queue_size: 50\n",
      "\u001b[32m[0215 11:52:29 @base.py:275]\u001b[0m Start Epoch 709 ...\n"
     ]
    },
    {
     "name": "stderr",
     "output_type": "stream",
     "text": [
      "\n",
      "100%|#################################################################################|2000/2000[00:32<00:00,60.76it/s]"
     ]
    },
    {
     "name": "stdout",
     "output_type": "stream",
     "text": [
      "\u001b[32m[0215 11:53:02 @base.py:285]\u001b[0m Epoch 709 (global_step 1418000) finished, time:32.9 seconds.\n",
      "\u001b[32m[0215 11:53:02 @saver.py:79]\u001b[0m Model saved to ./output_TGAN/output/model\\model-1418000.\n",
      "\u001b[32m[0215 11:53:02 @monitor.py:467]\u001b[0m GAN_loss/discrim/accuracy_fake: 0.925\n",
      "\u001b[32m[0215 11:53:02 @monitor.py:467]\u001b[0m GAN_loss/discrim/accuracy_real: 0.12\n",
      "\u001b[32m[0215 11:53:02 @monitor.py:467]\u001b[0m GAN_loss/discrim/loss: 0.64366\n",
      "\u001b[32m[0215 11:53:02 @monitor.py:467]\u001b[0m GAN_loss/gen/final-g-loss: 1.1273\n",
      "\u001b[32m[0215 11:53:02 @monitor.py:467]\u001b[0m GAN_loss/gen/klloss: 0.12421\n",
      "\u001b[32m[0215 11:53:02 @monitor.py:467]\u001b[0m GAN_loss/gen/loss: 1.0031\n",
      "\u001b[32m[0215 11:53:02 @monitor.py:467]\u001b[0m QueueInput/queue_size: 50\n",
      "\u001b[32m[0215 11:53:02 @base.py:275]\u001b[0m Start Epoch 710 ...\n"
     ]
    },
    {
     "name": "stderr",
     "output_type": "stream",
     "text": [
      "\n",
      "100%|#################################################################################|2000/2000[00:32<00:00,60.82it/s]"
     ]
    },
    {
     "name": "stdout",
     "output_type": "stream",
     "text": [
      "\u001b[32m[0215 11:53:35 @base.py:285]\u001b[0m Epoch 710 (global_step 1420000) finished, time:32.9 seconds.\n",
      "\u001b[32m[0215 11:53:35 @saver.py:79]\u001b[0m Model saved to ./output_TGAN/output/model\\model-1420000.\n",
      "\u001b[32m[0215 11:53:35 @monitor.py:467]\u001b[0m GAN_loss/discrim/accuracy_fake: 0.94\n",
      "\u001b[32m[0215 11:53:35 @monitor.py:467]\u001b[0m GAN_loss/discrim/accuracy_real: 0.13\n",
      "\u001b[32m[0215 11:53:35 @monitor.py:467]\u001b[0m GAN_loss/discrim/loss: 0.63582\n",
      "\u001b[32m[0215 11:53:35 @monitor.py:467]\u001b[0m GAN_loss/gen/final-g-loss: 1.1071\n",
      "\u001b[32m[0215 11:53:35 @monitor.py:467]\u001b[0m GAN_loss/gen/klloss: 0.09706\n",
      "\u001b[32m[0215 11:53:35 @monitor.py:467]\u001b[0m GAN_loss/gen/loss: 1.01\n",
      "\u001b[32m[0215 11:53:35 @monitor.py:467]\u001b[0m QueueInput/queue_size: 50\n",
      "\u001b[32m[0215 11:53:35 @base.py:275]\u001b[0m Start Epoch 711 ...\n"
     ]
    },
    {
     "name": "stderr",
     "output_type": "stream",
     "text": [
      "\n",
      "100%|#################################################################################|2000/2000[00:32<00:00,60.82it/s]"
     ]
    },
    {
     "name": "stdout",
     "output_type": "stream",
     "text": [
      "\u001b[32m[0215 11:54:08 @base.py:285]\u001b[0m Epoch 711 (global_step 1422000) finished, time:32.9 seconds.\n",
      "\u001b[32m[0215 11:54:08 @saver.py:79]\u001b[0m Model saved to ./output_TGAN/output/model\\model-1422000.\n",
      "\u001b[32m[0215 11:54:08 @monitor.py:467]\u001b[0m GAN_loss/discrim/accuracy_fake: 0.965\n",
      "\u001b[32m[0215 11:54:08 @monitor.py:467]\u001b[0m GAN_loss/discrim/accuracy_real: 0.14\n",
      "\u001b[32m[0215 11:54:08 @monitor.py:467]\u001b[0m GAN_loss/discrim/loss: 0.6386\n",
      "\u001b[32m[0215 11:54:08 @monitor.py:467]\u001b[0m GAN_loss/gen/final-g-loss: 1.1157\n",
      "\u001b[32m[0215 11:54:08 @monitor.py:467]\u001b[0m GAN_loss/gen/klloss: 0.094414\n",
      "\u001b[32m[0215 11:54:08 @monitor.py:467]\u001b[0m GAN_loss/gen/loss: 1.0213\n",
      "\u001b[32m[0215 11:54:08 @monitor.py:467]\u001b[0m QueueInput/queue_size: 50\n",
      "\u001b[32m[0215 11:54:08 @base.py:275]\u001b[0m Start Epoch 712 ...\n"
     ]
    },
    {
     "name": "stderr",
     "output_type": "stream",
     "text": [
      "\n",
      "100%|#################################################################################|2000/2000[00:32<00:00,60.83it/s]"
     ]
    },
    {
     "name": "stdout",
     "output_type": "stream",
     "text": [
      "\u001b[32m[0215 11:54:41 @base.py:285]\u001b[0m Epoch 712 (global_step 1424000) finished, time:32.9 seconds.\n",
      "\u001b[32m[0215 11:54:41 @saver.py:79]\u001b[0m Model saved to ./output_TGAN/output/model\\model-1424000.\n",
      "\u001b[32m[0215 11:54:41 @monitor.py:467]\u001b[0m GAN_loss/discrim/accuracy_fake: 0.92\n",
      "\u001b[32m[0215 11:54:41 @monitor.py:467]\u001b[0m GAN_loss/discrim/accuracy_real: 0.145\n",
      "\u001b[32m[0215 11:54:41 @monitor.py:467]\u001b[0m GAN_loss/discrim/loss: 0.65109\n",
      "\u001b[32m[0215 11:54:41 @monitor.py:467]\u001b[0m GAN_loss/gen/final-g-loss: 1.0813\n",
      "\u001b[32m[0215 11:54:41 @monitor.py:467]\u001b[0m GAN_loss/gen/klloss: 0.074278\n",
      "\u001b[32m[0215 11:54:41 @monitor.py:467]\u001b[0m GAN_loss/gen/loss: 1.007\n",
      "\u001b[32m[0215 11:54:41 @monitor.py:467]\u001b[0m QueueInput/queue_size: 50\n",
      "\u001b[32m[0215 11:54:41 @base.py:275]\u001b[0m Start Epoch 713 ...\n"
     ]
    },
    {
     "name": "stderr",
     "output_type": "stream",
     "text": [
      "\n",
      "100%|#################################################################################|2000/2000[00:32<00:00,60.77it/s]"
     ]
    },
    {
     "name": "stdout",
     "output_type": "stream",
     "text": [
      "\u001b[32m[0215 11:55:14 @base.py:285]\u001b[0m Epoch 713 (global_step 1426000) finished, time:32.9 seconds.\n",
      "\u001b[32m[0215 11:55:14 @saver.py:79]\u001b[0m Model saved to ./output_TGAN/output/model\\model-1426000.\n",
      "\u001b[32m[0215 11:55:14 @monitor.py:467]\u001b[0m GAN_loss/discrim/accuracy_fake: 0.935\n",
      "\u001b[32m[0215 11:55:14 @monitor.py:467]\u001b[0m GAN_loss/discrim/accuracy_real: 0.13\n",
      "\u001b[32m[0215 11:55:14 @monitor.py:467]\u001b[0m GAN_loss/discrim/loss: 0.63758\n",
      "\u001b[32m[0215 11:55:14 @monitor.py:467]\u001b[0m GAN_loss/gen/final-g-loss: 1.1234\n",
      "\u001b[32m[0215 11:55:14 @monitor.py:467]\u001b[0m GAN_loss/gen/klloss: 0.10951\n",
      "\u001b[32m[0215 11:55:14 @monitor.py:467]\u001b[0m GAN_loss/gen/loss: 1.0139\n",
      "\u001b[32m[0215 11:55:14 @monitor.py:467]\u001b[0m QueueInput/queue_size: 50\n",
      "\u001b[32m[0215 11:55:14 @base.py:275]\u001b[0m Start Epoch 714 ...\n"
     ]
    },
    {
     "name": "stderr",
     "output_type": "stream",
     "text": [
      "\n",
      "100%|#################################################################################|2000/2000[00:32<00:00,60.87it/s]"
     ]
    },
    {
     "name": "stdout",
     "output_type": "stream",
     "text": [
      "\u001b[32m[0215 11:55:47 @base.py:285]\u001b[0m Epoch 714 (global_step 1428000) finished, time:32.9 seconds.\n",
      "\u001b[32m[0215 11:55:47 @saver.py:79]\u001b[0m Model saved to ./output_TGAN/output/model\\model-1428000.\n",
      "\u001b[32m[0215 11:55:47 @monitor.py:467]\u001b[0m GAN_loss/discrim/accuracy_fake: 0.92\n",
      "\u001b[32m[0215 11:55:47 @monitor.py:467]\u001b[0m GAN_loss/discrim/accuracy_real: 0.12\n",
      "\u001b[32m[0215 11:55:47 @monitor.py:467]\u001b[0m GAN_loss/discrim/loss: 0.64389\n",
      "\u001b[32m[0215 11:55:47 @monitor.py:467]\u001b[0m GAN_loss/gen/final-g-loss: 1.0978\n",
      "\u001b[32m[0215 11:55:47 @monitor.py:467]\u001b[0m GAN_loss/gen/klloss: 0.09377\n",
      "\u001b[32m[0215 11:55:47 @monitor.py:467]\u001b[0m GAN_loss/gen/loss: 1.0041\n",
      "\u001b[32m[0215 11:55:47 @monitor.py:467]\u001b[0m QueueInput/queue_size: 50\n",
      "\u001b[32m[0215 11:55:47 @base.py:275]\u001b[0m Start Epoch 715 ...\n"
     ]
    },
    {
     "name": "stderr",
     "output_type": "stream",
     "text": [
      "\n",
      "100%|#################################################################################|2000/2000[00:32<00:00,60.86it/s]"
     ]
    },
    {
     "name": "stdout",
     "output_type": "stream",
     "text": [
      "\u001b[32m[0215 11:56:20 @base.py:285]\u001b[0m Epoch 715 (global_step 1430000) finished, time:32.9 seconds.\n",
      "\u001b[32m[0215 11:56:20 @saver.py:79]\u001b[0m Model saved to ./output_TGAN/output/model\\model-1430000.\n",
      "\u001b[32m[0215 11:56:20 @monitor.py:467]\u001b[0m GAN_loss/discrim/accuracy_fake: 0.945\n",
      "\u001b[32m[0215 11:56:20 @monitor.py:467]\u001b[0m GAN_loss/discrim/accuracy_real: 0.095\n",
      "\u001b[32m[0215 11:56:20 @monitor.py:467]\u001b[0m GAN_loss/discrim/loss: 0.65567\n",
      "\u001b[32m[0215 11:56:20 @monitor.py:467]\u001b[0m GAN_loss/gen/final-g-loss: 1.1093\n",
      "\u001b[32m[0215 11:56:20 @monitor.py:467]\u001b[0m GAN_loss/gen/klloss: 0.091279\n",
      "\u001b[32m[0215 11:56:20 @monitor.py:467]\u001b[0m GAN_loss/gen/loss: 1.018\n",
      "\u001b[32m[0215 11:56:20 @monitor.py:467]\u001b[0m QueueInput/queue_size: 50\n",
      "\u001b[32m[0215 11:56:20 @base.py:275]\u001b[0m Start Epoch 716 ...\n"
     ]
    },
    {
     "name": "stderr",
     "output_type": "stream",
     "text": [
      "\n",
      "100%|#################################################################################|2000/2000[00:32<00:00,60.86it/s]"
     ]
    },
    {
     "name": "stdout",
     "output_type": "stream",
     "text": [
      "\u001b[32m[0215 11:56:53 @base.py:285]\u001b[0m Epoch 716 (global_step 1432000) finished, time:32.9 seconds.\n",
      "\u001b[32m[0215 11:56:53 @saver.py:79]\u001b[0m Model saved to ./output_TGAN/output/model\\model-1432000.\n",
      "\u001b[32m[0215 11:56:53 @monitor.py:467]\u001b[0m GAN_loss/discrim/accuracy_fake: 0.935\n",
      "\u001b[32m[0215 11:56:53 @monitor.py:467]\u001b[0m GAN_loss/discrim/accuracy_real: 0.12\n",
      "\u001b[32m[0215 11:56:53 @monitor.py:467]\u001b[0m GAN_loss/discrim/loss: 0.64506\n",
      "\u001b[32m[0215 11:56:53 @monitor.py:467]\u001b[0m GAN_loss/gen/final-g-loss: 1.1047\n",
      "\u001b[32m[0215 11:56:53 @monitor.py:467]\u001b[0m GAN_loss/gen/klloss: 0.099093\n",
      "\u001b[32m[0215 11:56:53 @monitor.py:467]\u001b[0m GAN_loss/gen/loss: 1.0056\n",
      "\u001b[32m[0215 11:56:53 @monitor.py:467]\u001b[0m QueueInput/queue_size: 50\n",
      "\u001b[32m[0215 11:56:53 @base.py:275]\u001b[0m Start Epoch 717 ...\n"
     ]
    },
    {
     "name": "stderr",
     "output_type": "stream",
     "text": [
      "\n",
      "100%|#################################################################################|2000/2000[00:32<00:00,60.89it/s]"
     ]
    },
    {
     "name": "stdout",
     "output_type": "stream",
     "text": [
      "\u001b[32m[0215 11:57:26 @base.py:285]\u001b[0m Epoch 717 (global_step 1434000) finished, time:32.8 seconds.\n",
      "\u001b[32m[0215 11:57:26 @saver.py:79]\u001b[0m Model saved to ./output_TGAN/output/model\\model-1434000.\n",
      "\u001b[32m[0215 11:57:26 @monitor.py:467]\u001b[0m GAN_loss/discrim/accuracy_fake: 0.92\n",
      "\u001b[32m[0215 11:57:26 @monitor.py:467]\u001b[0m GAN_loss/discrim/accuracy_real: 0.155\n",
      "\u001b[32m[0215 11:57:26 @monitor.py:467]\u001b[0m GAN_loss/discrim/loss: 0.64964\n",
      "\u001b[32m[0215 11:57:26 @monitor.py:467]\u001b[0m GAN_loss/gen/final-g-loss: 1.1465\n",
      "\u001b[32m[0215 11:57:26 @monitor.py:467]\u001b[0m GAN_loss/gen/klloss: 0.15205\n",
      "\u001b[32m[0215 11:57:26 @monitor.py:467]\u001b[0m GAN_loss/gen/loss: 0.99441\n",
      "\u001b[32m[0215 11:57:26 @monitor.py:467]\u001b[0m QueueInput/queue_size: 50\n",
      "\u001b[32m[0215 11:57:26 @base.py:275]\u001b[0m Start Epoch 718 ...\n"
     ]
    },
    {
     "name": "stderr",
     "output_type": "stream",
     "text": [
      "\n",
      "100%|#################################################################################|2000/2000[00:32<00:00,60.96it/s]"
     ]
    },
    {
     "name": "stdout",
     "output_type": "stream",
     "text": [
      "\u001b[32m[0215 11:57:59 @base.py:285]\u001b[0m Epoch 718 (global_step 1436000) finished, time:32.8 seconds.\n",
      "\u001b[32m[0215 11:57:59 @saver.py:79]\u001b[0m Model saved to ./output_TGAN/output/model\\model-1436000.\n",
      "\u001b[32m[0215 11:57:59 @monitor.py:467]\u001b[0m GAN_loss/discrim/accuracy_fake: 0.94\n",
      "\u001b[32m[0215 11:57:59 @monitor.py:467]\u001b[0m GAN_loss/discrim/accuracy_real: 0.14\n",
      "\u001b[32m[0215 11:57:59 @monitor.py:467]\u001b[0m GAN_loss/discrim/loss: 0.64559\n",
      "\u001b[32m[0215 11:57:59 @monitor.py:467]\u001b[0m GAN_loss/gen/final-g-loss: 1.094\n",
      "\u001b[32m[0215 11:57:59 @monitor.py:467]\u001b[0m GAN_loss/gen/klloss: 0.092793\n",
      "\u001b[32m[0215 11:57:59 @monitor.py:467]\u001b[0m GAN_loss/gen/loss: 1.0012\n",
      "\u001b[32m[0215 11:57:59 @monitor.py:467]\u001b[0m QueueInput/queue_size: 50\n",
      "\u001b[32m[0215 11:57:59 @base.py:275]\u001b[0m Start Epoch 719 ...\n"
     ]
    },
    {
     "name": "stderr",
     "output_type": "stream",
     "text": [
      "\n",
      "100%|#################################################################################|2000/2000[00:32<00:00,60.93it/s]"
     ]
    },
    {
     "name": "stdout",
     "output_type": "stream",
     "text": [
      "\u001b[32m[0215 11:58:32 @base.py:285]\u001b[0m Epoch 719 (global_step 1438000) finished, time:32.8 seconds.\n",
      "\u001b[32m[0215 11:58:32 @saver.py:79]\u001b[0m Model saved to ./output_TGAN/output/model\\model-1438000.\n",
      "\u001b[32m[0215 11:58:32 @monitor.py:467]\u001b[0m GAN_loss/discrim/accuracy_fake: 0.955\n",
      "\u001b[32m[0215 11:58:32 @monitor.py:467]\u001b[0m GAN_loss/discrim/accuracy_real: 0.175\n",
      "\u001b[32m[0215 11:58:32 @monitor.py:467]\u001b[0m GAN_loss/discrim/loss: 0.63489\n",
      "\u001b[32m[0215 11:58:32 @monitor.py:467]\u001b[0m GAN_loss/gen/final-g-loss: 1.1478\n",
      "\u001b[32m[0215 11:58:32 @monitor.py:467]\u001b[0m GAN_loss/gen/klloss: 0.14347\n",
      "\u001b[32m[0215 11:58:32 @monitor.py:467]\u001b[0m GAN_loss/gen/loss: 1.0043\n",
      "\u001b[32m[0215 11:58:32 @monitor.py:467]\u001b[0m QueueInput/queue_size: 50\n",
      "\u001b[32m[0215 11:58:32 @base.py:275]\u001b[0m Start Epoch 720 ...\n"
     ]
    },
    {
     "name": "stderr",
     "output_type": "stream",
     "text": [
      "\n",
      "100%|#################################################################################|2000/2000[00:32<00:00,60.92it/s]"
     ]
    },
    {
     "name": "stdout",
     "output_type": "stream",
     "text": [
      "\u001b[32m[0215 11:59:05 @base.py:285]\u001b[0m Epoch 720 (global_step 1440000) finished, time:32.8 seconds.\n",
      "\u001b[32m[0215 11:59:05 @saver.py:79]\u001b[0m Model saved to ./output_TGAN/output/model\\model-1440000.\n",
      "\u001b[32m[0215 11:59:05 @monitor.py:467]\u001b[0m GAN_loss/discrim/accuracy_fake: 0.94\n",
      "\u001b[32m[0215 11:59:05 @monitor.py:467]\u001b[0m GAN_loss/discrim/accuracy_real: 0.11\n",
      "\u001b[32m[0215 11:59:05 @monitor.py:467]\u001b[0m GAN_loss/discrim/loss: 0.64493\n",
      "\u001b[32m[0215 11:59:05 @monitor.py:467]\u001b[0m GAN_loss/gen/final-g-loss: 1.1311\n",
      "\u001b[32m[0215 11:59:05 @monitor.py:467]\u001b[0m GAN_loss/gen/klloss: 0.12544\n",
      "\u001b[32m[0215 11:59:05 @monitor.py:467]\u001b[0m GAN_loss/gen/loss: 1.0057\n",
      "\u001b[32m[0215 11:59:05 @monitor.py:467]\u001b[0m QueueInput/queue_size: 50\n",
      "\u001b[32m[0215 11:59:05 @base.py:275]\u001b[0m Start Epoch 721 ...\n"
     ]
    },
    {
     "name": "stderr",
     "output_type": "stream",
     "text": [
      "\n",
      "100%|#################################################################################|2000/2000[00:32<00:00,61.01it/s]"
     ]
    },
    {
     "name": "stdout",
     "output_type": "stream",
     "text": [
      "\u001b[32m[0215 11:59:38 @base.py:285]\u001b[0m Epoch 721 (global_step 1442000) finished, time:32.8 seconds.\n",
      "\u001b[32m[0215 11:59:38 @saver.py:79]\u001b[0m Model saved to ./output_TGAN/output/model\\model-1442000.\n"
     ]
    },
    {
     "name": "stderr",
     "output_type": "stream",
     "text": [
      "\n"
     ]
    },
    {
     "name": "stdout",
     "output_type": "stream",
     "text": [
      "\u001b[32m[0215 11:59:38 @monitor.py:467]\u001b[0m GAN_loss/discrim/accuracy_fake: 0.94\n",
      "\u001b[32m[0215 11:59:38 @monitor.py:467]\u001b[0m GAN_loss/discrim/accuracy_real: 0.15\n",
      "\u001b[32m[0215 11:59:38 @monitor.py:467]\u001b[0m GAN_loss/discrim/loss: 0.65092\n",
      "\u001b[32m[0215 11:59:38 @monitor.py:467]\u001b[0m GAN_loss/gen/final-g-loss: 1.1554\n",
      "\u001b[32m[0215 11:59:38 @monitor.py:467]\u001b[0m GAN_loss/gen/klloss: 0.14083\n",
      "\u001b[32m[0215 11:59:38 @monitor.py:467]\u001b[0m GAN_loss/gen/loss: 1.0146\n",
      "\u001b[32m[0215 11:59:38 @monitor.py:467]\u001b[0m QueueInput/queue_size: 50\n",
      "\u001b[32m[0215 11:59:38 @base.py:275]\u001b[0m Start Epoch 722 ...\n"
     ]
    },
    {
     "name": "stderr",
     "output_type": "stream",
     "text": [
      "100%|#################################################################################|2000/2000[00:32<00:00,60.89it/s]"
     ]
    },
    {
     "name": "stdout",
     "output_type": "stream",
     "text": [
      "\u001b[32m[0215 12:00:11 @base.py:285]\u001b[0m Epoch 722 (global_step 1444000) finished, time:32.8 seconds.\n",
      "\u001b[32m[0215 12:00:11 @saver.py:79]\u001b[0m Model saved to ./output_TGAN/output/model\\model-1444000.\n",
      "\u001b[32m[0215 12:00:11 @monitor.py:467]\u001b[0m GAN_loss/discrim/accuracy_fake: 0.935\n",
      "\u001b[32m[0215 12:00:11 @monitor.py:467]\u001b[0m GAN_loss/discrim/accuracy_real: 0.11\n",
      "\u001b[32m[0215 12:00:11 @monitor.py:467]\u001b[0m GAN_loss/discrim/loss: 0.64136\n",
      "\u001b[32m[0215 12:00:11 @monitor.py:467]\u001b[0m GAN_loss/gen/final-g-loss: 1.0863\n",
      "\u001b[32m[0215 12:00:11 @monitor.py:467]\u001b[0m GAN_loss/gen/klloss: 0.068502\n",
      "\u001b[32m[0215 12:00:11 @monitor.py:467]\u001b[0m GAN_loss/gen/loss: 1.0178\n",
      "\u001b[32m[0215 12:00:11 @monitor.py:467]\u001b[0m QueueInput/queue_size: 50\n",
      "\u001b[32m[0215 12:00:11 @base.py:275]\u001b[0m Start Epoch 723 ...\n"
     ]
    },
    {
     "name": "stderr",
     "output_type": "stream",
     "text": [
      "\n",
      "100%|#################################################################################|2000/2000[00:32<00:00,60.91it/s]"
     ]
    },
    {
     "name": "stdout",
     "output_type": "stream",
     "text": [
      "\u001b[32m[0215 12:00:44 @base.py:285]\u001b[0m Epoch 723 (global_step 1446000) finished, time:32.8 seconds.\n",
      "\u001b[32m[0215 12:00:44 @saver.py:79]\u001b[0m Model saved to ./output_TGAN/output/model\\model-1446000.\n",
      "\u001b[32m[0215 12:00:44 @monitor.py:467]\u001b[0m GAN_loss/discrim/accuracy_fake: 0.92\n",
      "\u001b[32m[0215 12:00:44 @monitor.py:467]\u001b[0m GAN_loss/discrim/accuracy_real: 0.135\n",
      "\u001b[32m[0215 12:00:44 @monitor.py:467]\u001b[0m GAN_loss/discrim/loss: 0.64767\n",
      "\u001b[32m[0215 12:00:44 @monitor.py:467]\u001b[0m GAN_loss/gen/final-g-loss: 1.1173\n",
      "\u001b[32m[0215 12:00:44 @monitor.py:467]\u001b[0m GAN_loss/gen/klloss: 0.10678\n",
      "\u001b[32m[0215 12:00:44 @monitor.py:467]\u001b[0m GAN_loss/gen/loss: 1.0105\n",
      "\u001b[32m[0215 12:00:44 @monitor.py:467]\u001b[0m QueueInput/queue_size: 50\n",
      "\u001b[32m[0215 12:00:44 @base.py:275]\u001b[0m Start Epoch 724 ...\n"
     ]
    },
    {
     "name": "stderr",
     "output_type": "stream",
     "text": [
      "\n",
      "100%|#################################################################################|2000/2000[00:32<00:00,60.92it/s]"
     ]
    },
    {
     "name": "stdout",
     "output_type": "stream",
     "text": [
      "\u001b[32m[0215 12:01:17 @base.py:285]\u001b[0m Epoch 724 (global_step 1448000) finished, time:32.8 seconds.\n",
      "\u001b[32m[0215 12:01:17 @saver.py:79]\u001b[0m Model saved to ./output_TGAN/output/model\\model-1448000.\n",
      "\u001b[32m[0215 12:01:17 @monitor.py:467]\u001b[0m GAN_loss/discrim/accuracy_fake: 0.95\n",
      "\u001b[32m[0215 12:01:17 @monitor.py:467]\u001b[0m GAN_loss/discrim/accuracy_real: 0.115\n",
      "\u001b[32m[0215 12:01:17 @monitor.py:467]\u001b[0m GAN_loss/discrim/loss: 0.64602\n",
      "\u001b[32m[0215 12:01:17 @monitor.py:467]\u001b[0m GAN_loss/gen/final-g-loss: 1.1293\n",
      "\u001b[32m[0215 12:01:17 @monitor.py:467]\u001b[0m GAN_loss/gen/klloss: 0.11162\n",
      "\u001b[32m[0215 12:01:17 @monitor.py:467]\u001b[0m GAN_loss/gen/loss: 1.0177\n",
      "\u001b[32m[0215 12:01:17 @monitor.py:467]\u001b[0m QueueInput/queue_size: 50\n",
      "\u001b[32m[0215 12:01:17 @base.py:275]\u001b[0m Start Epoch 725 ...\n"
     ]
    },
    {
     "name": "stderr",
     "output_type": "stream",
     "text": [
      "\n",
      "100%|#################################################################################|2000/2000[00:32<00:00,61.01it/s]"
     ]
    },
    {
     "name": "stdout",
     "output_type": "stream",
     "text": [
      "\u001b[32m[0215 12:01:50 @base.py:285]\u001b[0m Epoch 725 (global_step 1450000) finished, time:32.8 seconds.\n",
      "\u001b[32m[0215 12:01:50 @saver.py:79]\u001b[0m Model saved to ./output_TGAN/output/model\\model-1450000.\n",
      "\u001b[32m[0215 12:01:50 @monitor.py:467]\u001b[0m GAN_loss/discrim/accuracy_fake: 0.935\n",
      "\u001b[32m[0215 12:01:50 @monitor.py:467]\u001b[0m GAN_loss/discrim/accuracy_real: 0.13\n",
      "\u001b[32m[0215 12:01:50 @monitor.py:467]\u001b[0m GAN_loss/discrim/loss: 0.64211\n",
      "\u001b[32m[0215 12:01:50 @monitor.py:467]\u001b[0m GAN_loss/gen/final-g-loss: 1.0967\n",
      "\u001b[32m[0215 12:01:50 @monitor.py:467]\u001b[0m GAN_loss/gen/klloss: 0.096851\n",
      "\u001b[32m[0215 12:01:50 @monitor.py:467]\u001b[0m GAN_loss/gen/loss: 0.99981\n",
      "\u001b[32m[0215 12:01:50 @monitor.py:467]\u001b[0m QueueInput/queue_size: 50\n",
      "\u001b[32m[0215 12:01:50 @base.py:275]\u001b[0m Start Epoch 726 ...\n"
     ]
    },
    {
     "name": "stderr",
     "output_type": "stream",
     "text": [
      "\n",
      "100%|#################################################################################|2000/2000[00:32<00:00,61.03it/s]"
     ]
    },
    {
     "name": "stdout",
     "output_type": "stream",
     "text": [
      "\u001b[32m[0215 12:02:23 @base.py:285]\u001b[0m Epoch 726 (global_step 1452000) finished, time:32.8 seconds.\n",
      "\u001b[32m[0215 12:02:23 @saver.py:79]\u001b[0m Model saved to ./output_TGAN/output/model\\model-1452000.\n",
      "\u001b[32m[0215 12:02:23 @monitor.py:467]\u001b[0m GAN_loss/discrim/accuracy_fake: 0.905\n",
      "\u001b[32m[0215 12:02:23 @monitor.py:467]\u001b[0m GAN_loss/discrim/accuracy_real: 0.125\n",
      "\u001b[32m[0215 12:02:23 @monitor.py:467]\u001b[0m GAN_loss/discrim/loss: 0.64754\n",
      "\u001b[32m[0215 12:02:23 @monitor.py:467]\u001b[0m GAN_loss/gen/final-g-loss: 1.0989\n",
      "\u001b[32m[0215 12:02:23 @monitor.py:467]\u001b[0m GAN_loss/gen/klloss: 0.07744\n",
      "\u001b[32m[0215 12:02:23 @monitor.py:467]\u001b[0m GAN_loss/gen/loss: 1.0215\n",
      "\u001b[32m[0215 12:02:23 @monitor.py:467]\u001b[0m QueueInput/queue_size: 50\n",
      "\u001b[32m[0215 12:02:23 @base.py:275]\u001b[0m Start Epoch 727 ...\n"
     ]
    },
    {
     "name": "stderr",
     "output_type": "stream",
     "text": [
      "\n",
      "100%|#################################################################################|2000/2000[00:32<00:00,61.42it/s]"
     ]
    },
    {
     "name": "stdout",
     "output_type": "stream",
     "text": [
      "\u001b[32m[0215 12:02:56 @base.py:285]\u001b[0m Epoch 727 (global_step 1454000) finished, time:32.6 seconds.\n",
      "\u001b[32m[0215 12:02:56 @saver.py:79]\u001b[0m Model saved to ./output_TGAN/output/model\\model-1454000.\n",
      "\u001b[32m[0215 12:02:56 @monitor.py:467]\u001b[0m GAN_loss/discrim/accuracy_fake: 0.915\n",
      "\u001b[32m[0215 12:02:56 @monitor.py:467]\u001b[0m GAN_loss/discrim/accuracy_real: 0.125\n",
      "\u001b[32m[0215 12:02:56 @monitor.py:467]\u001b[0m GAN_loss/discrim/loss: 0.63935\n",
      "\u001b[32m[0215 12:02:56 @monitor.py:467]\u001b[0m GAN_loss/gen/final-g-loss: 1.1028\n",
      "\u001b[32m[0215 12:02:56 @monitor.py:467]\u001b[0m GAN_loss/gen/klloss: 0.10548\n",
      "\u001b[32m[0215 12:02:56 @monitor.py:467]\u001b[0m GAN_loss/gen/loss: 0.99736\n",
      "\u001b[32m[0215 12:02:56 @monitor.py:467]\u001b[0m QueueInput/queue_size: 50\n",
      "\u001b[32m[0215 12:02:56 @base.py:275]\u001b[0m Start Epoch 728 ...\n"
     ]
    },
    {
     "name": "stderr",
     "output_type": "stream",
     "text": [
      "\n",
      "100%|#################################################################################|2000/2000[00:32<00:00,61.32it/s]"
     ]
    },
    {
     "name": "stdout",
     "output_type": "stream",
     "text": [
      "\u001b[32m[0215 12:03:28 @base.py:285]\u001b[0m Epoch 728 (global_step 1456000) finished, time:32.6 seconds.\n",
      "\u001b[32m[0215 12:03:28 @saver.py:79]\u001b[0m Model saved to ./output_TGAN/output/model\\model-1456000.\n",
      "\u001b[32m[0215 12:03:28 @monitor.py:467]\u001b[0m GAN_loss/discrim/accuracy_fake: 0.92\n",
      "\u001b[32m[0215 12:03:28 @monitor.py:467]\u001b[0m GAN_loss/discrim/accuracy_real: 0.125\n",
      "\u001b[32m[0215 12:03:28 @monitor.py:467]\u001b[0m GAN_loss/discrim/loss: 0.65044\n",
      "\u001b[32m[0215 12:03:28 @monitor.py:467]\u001b[0m GAN_loss/gen/final-g-loss: 1.1022\n",
      "\u001b[32m[0215 12:03:28 @monitor.py:467]\u001b[0m GAN_loss/gen/klloss: 0.11264\n",
      "\u001b[32m[0215 12:03:28 @monitor.py:467]\u001b[0m GAN_loss/gen/loss: 0.98952\n",
      "\u001b[32m[0215 12:03:28 @monitor.py:467]\u001b[0m QueueInput/queue_size: 50\n",
      "\u001b[32m[0215 12:03:28 @base.py:275]\u001b[0m Start Epoch 729 ...\n"
     ]
    },
    {
     "name": "stderr",
     "output_type": "stream",
     "text": [
      "\n",
      "100%|#################################################################################|2000/2000[00:32<00:00,61.12it/s]"
     ]
    },
    {
     "name": "stdout",
     "output_type": "stream",
     "text": [
      "\u001b[32m[0215 12:04:01 @base.py:285]\u001b[0m Epoch 729 (global_step 1458000) finished, time:32.7 seconds.\n",
      "\u001b[32m[0215 12:04:01 @saver.py:79]\u001b[0m Model saved to ./output_TGAN/output/model\\model-1458000.\n",
      "\u001b[32m[0215 12:04:01 @monitor.py:467]\u001b[0m GAN_loss/discrim/accuracy_fake: 0.93\n",
      "\u001b[32m[0215 12:04:01 @monitor.py:467]\u001b[0m GAN_loss/discrim/accuracy_real: 0.11\n",
      "\u001b[32m[0215 12:04:01 @monitor.py:467]\u001b[0m GAN_loss/discrim/loss: 0.64244\n",
      "\u001b[32m[0215 12:04:01 @monitor.py:467]\u001b[0m GAN_loss/gen/final-g-loss: 1.0977\n",
      "\u001b[32m[0215 12:04:01 @monitor.py:467]\u001b[0m GAN_loss/gen/klloss: 0.085099\n",
      "\u001b[32m[0215 12:04:01 @monitor.py:467]\u001b[0m GAN_loss/gen/loss: 1.0126\n",
      "\u001b[32m[0215 12:04:01 @monitor.py:467]\u001b[0m QueueInput/queue_size: 50\n",
      "\u001b[32m[0215 12:04:01 @base.py:275]\u001b[0m Start Epoch 730 ...\n"
     ]
    },
    {
     "name": "stderr",
     "output_type": "stream",
     "text": [
      "\n",
      "100%|#################################################################################|2000/2000[00:33<00:00,60.00it/s]"
     ]
    },
    {
     "name": "stdout",
     "output_type": "stream",
     "text": [
      "\u001b[32m[0215 12:04:35 @base.py:285]\u001b[0m Epoch 730 (global_step 1460000) finished, time:33.3 seconds.\n",
      "\u001b[32m[0215 12:04:35 @saver.py:79]\u001b[0m Model saved to ./output_TGAN/output/model\\model-1460000.\n"
     ]
    },
    {
     "name": "stderr",
     "output_type": "stream",
     "text": [
      "\n"
     ]
    },
    {
     "name": "stdout",
     "output_type": "stream",
     "text": [
      "\u001b[32m[0215 12:04:35 @monitor.py:467]\u001b[0m GAN_loss/discrim/accuracy_fake: 0.95\n",
      "\u001b[32m[0215 12:04:35 @monitor.py:467]\u001b[0m GAN_loss/discrim/accuracy_real: 0.075\n",
      "\u001b[32m[0215 12:04:35 @monitor.py:467]\u001b[0m GAN_loss/discrim/loss: 0.65214\n",
      "\u001b[32m[0215 12:04:35 @monitor.py:467]\u001b[0m GAN_loss/gen/final-g-loss: 1.0982\n",
      "\u001b[32m[0215 12:04:35 @monitor.py:467]\u001b[0m GAN_loss/gen/klloss: 0.095574\n",
      "\u001b[32m[0215 12:04:35 @monitor.py:467]\u001b[0m GAN_loss/gen/loss: 1.0026\n",
      "\u001b[32m[0215 12:04:35 @monitor.py:467]\u001b[0m QueueInput/queue_size: 50\n",
      "\u001b[32m[0215 12:04:35 @base.py:275]\u001b[0m Start Epoch 731 ...\n"
     ]
    },
    {
     "name": "stderr",
     "output_type": "stream",
     "text": [
      "100%|#################################################################################|2000/2000[00:32<00:00,61.10it/s]"
     ]
    },
    {
     "name": "stdout",
     "output_type": "stream",
     "text": [
      "\u001b[32m[0215 12:05:08 @base.py:285]\u001b[0m Epoch 731 (global_step 1462000) finished, time:32.7 seconds.\n",
      "\u001b[32m[0215 12:05:08 @saver.py:79]\u001b[0m Model saved to ./output_TGAN/output/model\\model-1462000.\n",
      "\u001b[32m[0215 12:05:08 @monitor.py:467]\u001b[0m GAN_loss/discrim/accuracy_fake: 0.91\n",
      "\u001b[32m[0215 12:05:08 @monitor.py:467]\u001b[0m GAN_loss/discrim/accuracy_real: 0.15\n",
      "\u001b[32m[0215 12:05:08 @monitor.py:467]\u001b[0m GAN_loss/discrim/loss: 0.64554\n",
      "\u001b[32m[0215 12:05:08 @monitor.py:467]\u001b[0m GAN_loss/gen/final-g-loss: 1.0822\n",
      "\u001b[32m[0215 12:05:08 @monitor.py:467]\u001b[0m GAN_loss/gen/klloss: 0.094493\n",
      "\u001b[32m[0215 12:05:08 @monitor.py:467]\u001b[0m GAN_loss/gen/loss: 0.9877\n",
      "\u001b[32m[0215 12:05:08 @monitor.py:467]\u001b[0m QueueInput/queue_size: 50\n",
      "\u001b[32m[0215 12:05:08 @base.py:275]\u001b[0m Start Epoch 732 ...\n"
     ]
    },
    {
     "name": "stderr",
     "output_type": "stream",
     "text": [
      "\n",
      "100%|#################################################################################|2000/2000[00:33<00:00,60.43it/s]"
     ]
    },
    {
     "name": "stdout",
     "output_type": "stream",
     "text": [
      "\u001b[32m[0215 12:05:41 @base.py:285]\u001b[0m Epoch 732 (global_step 1464000) finished, time:33.1 seconds.\n",
      "\u001b[32m[0215 12:05:41 @saver.py:79]\u001b[0m Model saved to ./output_TGAN/output/model\\model-1464000.\n",
      "\u001b[32m[0215 12:05:41 @monitor.py:467]\u001b[0m GAN_loss/discrim/accuracy_fake: 0.955\n",
      "\u001b[32m[0215 12:05:41 @monitor.py:467]\u001b[0m GAN_loss/discrim/accuracy_real: 0.095\n",
      "\u001b[32m[0215 12:05:41 @monitor.py:467]\u001b[0m GAN_loss/discrim/loss: 0.65932\n",
      "\u001b[32m[0215 12:05:41 @monitor.py:467]\u001b[0m GAN_loss/gen/final-g-loss: 1.1019\n",
      "\u001b[32m[0215 12:05:41 @monitor.py:467]\u001b[0m GAN_loss/gen/klloss: 0.10557\n",
      "\u001b[32m[0215 12:05:41 @monitor.py:467]\u001b[0m GAN_loss/gen/loss: 0.99629\n",
      "\u001b[32m[0215 12:05:41 @monitor.py:467]\u001b[0m QueueInput/queue_size: 50\n",
      "\u001b[32m[0215 12:05:41 @base.py:275]\u001b[0m Start Epoch 733 ...\n"
     ]
    },
    {
     "name": "stderr",
     "output_type": "stream",
     "text": [
      "\n",
      "100%|#################################################################################|2000/2000[00:32<00:00,60.92it/s]"
     ]
    },
    {
     "name": "stdout",
     "output_type": "stream",
     "text": [
      "\u001b[32m[0215 12:06:14 @base.py:285]\u001b[0m Epoch 733 (global_step 1466000) finished, time:32.8 seconds.\n",
      "\u001b[32m[0215 12:06:14 @saver.py:79]\u001b[0m Model saved to ./output_TGAN/output/model\\model-1466000.\n",
      "\u001b[32m[0215 12:06:14 @monitor.py:467]\u001b[0m GAN_loss/discrim/accuracy_fake: 0.96\n",
      "\u001b[32m[0215 12:06:14 @monitor.py:467]\u001b[0m GAN_loss/discrim/accuracy_real: 0.125\n",
      "\u001b[32m[0215 12:06:14 @monitor.py:467]\u001b[0m GAN_loss/discrim/loss: 0.63484\n",
      "\u001b[32m[0215 12:06:14 @monitor.py:467]\u001b[0m GAN_loss/gen/final-g-loss: 1.0749\n",
      "\u001b[32m[0215 12:06:14 @monitor.py:467]\u001b[0m GAN_loss/gen/klloss: 0.063584\n",
      "\u001b[32m[0215 12:06:14 @monitor.py:467]\u001b[0m GAN_loss/gen/loss: 1.0113\n",
      "\u001b[32m[0215 12:06:14 @monitor.py:467]\u001b[0m QueueInput/queue_size: 50\n",
      "\u001b[32m[0215 12:06:14 @base.py:275]\u001b[0m Start Epoch 734 ...\n"
     ]
    },
    {
     "name": "stderr",
     "output_type": "stream",
     "text": [
      "\n",
      "100%|#################################################################################|2000/2000[00:33<00:00,60.45it/s]"
     ]
    },
    {
     "name": "stdout",
     "output_type": "stream",
     "text": [
      "\u001b[32m[0215 12:06:47 @base.py:285]\u001b[0m Epoch 734 (global_step 1468000) finished, time:33.1 seconds.\n",
      "\u001b[32m[0215 12:06:47 @saver.py:79]\u001b[0m Model saved to ./output_TGAN/output/model\\model-1468000.\n",
      "\u001b[32m[0215 12:06:47 @monitor.py:467]\u001b[0m GAN_loss/discrim/accuracy_fake: 0.935\n",
      "\u001b[32m[0215 12:06:47 @monitor.py:467]\u001b[0m GAN_loss/discrim/accuracy_real: 0.15\n",
      "\u001b[32m[0215 12:06:47 @monitor.py:467]\u001b[0m GAN_loss/discrim/loss: 0.63744\n",
      "\u001b[32m[0215 12:06:47 @monitor.py:467]\u001b[0m GAN_loss/gen/final-g-loss: 1.0809\n",
      "\u001b[32m[0215 12:06:47 @monitor.py:467]\u001b[0m GAN_loss/gen/klloss: 0.076525\n",
      "\u001b[32m[0215 12:06:47 @monitor.py:467]\u001b[0m GAN_loss/gen/loss: 1.0043\n",
      "\u001b[32m[0215 12:06:47 @monitor.py:467]\u001b[0m QueueInput/queue_size: 50\n",
      "\u001b[32m[0215 12:06:47 @base.py:275]\u001b[0m Start Epoch 735 ...\n"
     ]
    },
    {
     "name": "stderr",
     "output_type": "stream",
     "text": [
      "\n",
      "100%|#################################################################################|2000/2000[00:32<00:00,62.28it/s]"
     ]
    },
    {
     "name": "stdout",
     "output_type": "stream",
     "text": [
      "\u001b[32m[0215 12:07:19 @base.py:285]\u001b[0m Epoch 735 (global_step 1470000) finished, time:32.1 seconds.\n",
      "\u001b[32m[0215 12:07:19 @saver.py:79]\u001b[0m Model saved to ./output_TGAN/output/model\\model-1470000.\n",
      "\u001b[32m[0215 12:07:20 @monitor.py:467]\u001b[0m GAN_loss/discrim/accuracy_fake: 0.905\n",
      "\u001b[32m[0215 12:07:20 @monitor.py:467]\u001b[0m GAN_loss/discrim/accuracy_real: 0.16\n",
      "\u001b[32m[0215 12:07:20 @monitor.py:467]\u001b[0m GAN_loss/discrim/loss: 0.63884\n",
      "\u001b[32m[0215 12:07:20 @monitor.py:467]\u001b[0m GAN_loss/gen/final-g-loss: 1.1001\n",
      "\u001b[32m[0215 12:07:20 @monitor.py:467]\u001b[0m GAN_loss/gen/klloss: 0.10115\n",
      "\u001b[32m[0215 12:07:20 @monitor.py:467]\u001b[0m GAN_loss/gen/loss: 0.99897\n",
      "\u001b[32m[0215 12:07:20 @monitor.py:467]\u001b[0m QueueInput/queue_size: 50\n",
      "\u001b[32m[0215 12:07:20 @base.py:275]\u001b[0m Start Epoch 736 ...\n"
     ]
    },
    {
     "name": "stderr",
     "output_type": "stream",
     "text": [
      "\n",
      "100%|#################################################################################|2000/2000[00:31<00:00,64.26it/s]"
     ]
    },
    {
     "name": "stdout",
     "output_type": "stream",
     "text": [
      "\u001b[32m[0215 12:07:51 @base.py:285]\u001b[0m Epoch 736 (global_step 1472000) finished, time:31.1 seconds.\n",
      "\u001b[32m[0215 12:07:51 @saver.py:79]\u001b[0m Model saved to ./output_TGAN/output/model\\model-1472000.\n",
      "\u001b[32m[0215 12:07:51 @monitor.py:467]\u001b[0m GAN_loss/discrim/accuracy_fake: 0.905\n",
      "\u001b[32m[0215 12:07:51 @monitor.py:467]\u001b[0m GAN_loss/discrim/accuracy_real: 0.105\n",
      "\u001b[32m[0215 12:07:51 @monitor.py:467]\u001b[0m GAN_loss/discrim/loss: 0.65283\n",
      "\u001b[32m[0215 12:07:51 @monitor.py:467]\u001b[0m GAN_loss/gen/final-g-loss: 1.1583\n",
      "\u001b[32m[0215 12:07:51 @monitor.py:467]\u001b[0m GAN_loss/gen/klloss: 0.17849\n",
      "\u001b[32m[0215 12:07:51 @monitor.py:467]\u001b[0m GAN_loss/gen/loss: 0.97976\n",
      "\u001b[32m[0215 12:07:51 @monitor.py:467]\u001b[0m QueueInput/queue_size: 50\n",
      "\u001b[32m[0215 12:07:51 @base.py:275]\u001b[0m Start Epoch 737 ...\n"
     ]
    },
    {
     "name": "stderr",
     "output_type": "stream",
     "text": [
      "\n",
      "100%|#################################################################################|2000/2000[00:30<00:00,64.83it/s]"
     ]
    },
    {
     "name": "stdout",
     "output_type": "stream",
     "text": [
      "\u001b[32m[0215 12:08:22 @base.py:285]\u001b[0m Epoch 737 (global_step 1474000) finished, time:30.9 seconds.\n",
      "\u001b[32m[0215 12:08:22 @saver.py:79]\u001b[0m Model saved to ./output_TGAN/output/model\\model-1474000.\n",
      "\u001b[32m[0215 12:08:22 @monitor.py:467]\u001b[0m GAN_loss/discrim/accuracy_fake: 0.965\n",
      "\u001b[32m[0215 12:08:22 @monitor.py:467]\u001b[0m GAN_loss/discrim/accuracy_real: 0.15\n",
      "\u001b[32m[0215 12:08:22 @monitor.py:467]\u001b[0m GAN_loss/discrim/loss: 0.63918\n",
      "\u001b[32m[0215 12:08:22 @monitor.py:467]\u001b[0m GAN_loss/gen/final-g-loss: 1.11\n",
      "\u001b[32m[0215 12:08:22 @monitor.py:467]\u001b[0m GAN_loss/gen/klloss: 0.10308\n",
      "\u001b[32m[0215 12:08:22 @monitor.py:467]\u001b[0m GAN_loss/gen/loss: 1.0069\n",
      "\u001b[32m[0215 12:08:22 @monitor.py:467]\u001b[0m QueueInput/queue_size: 50\n",
      "\u001b[32m[0215 12:08:22 @base.py:275]\u001b[0m Start Epoch 738 ...\n"
     ]
    },
    {
     "name": "stderr",
     "output_type": "stream",
     "text": [
      "\n",
      "100%|#################################################################################|2000/2000[00:30<00:00,64.72it/s]"
     ]
    },
    {
     "name": "stdout",
     "output_type": "stream",
     "text": [
      "\u001b[32m[0215 12:08:53 @base.py:285]\u001b[0m Epoch 738 (global_step 1476000) finished, time:30.9 seconds.\n",
      "\u001b[32m[0215 12:08:53 @saver.py:79]\u001b[0m Model saved to ./output_TGAN/output/model\\model-1476000.\n",
      "\u001b[32m[0215 12:08:53 @monitor.py:467]\u001b[0m GAN_loss/discrim/accuracy_fake: 0.895\n",
      "\u001b[32m[0215 12:08:53 @monitor.py:467]\u001b[0m GAN_loss/discrim/accuracy_real: 0.17\n",
      "\u001b[32m[0215 12:08:53 @monitor.py:467]\u001b[0m GAN_loss/discrim/loss: 0.64992\n",
      "\u001b[32m[0215 12:08:53 @monitor.py:467]\u001b[0m GAN_loss/gen/final-g-loss: 1.0577\n",
      "\u001b[32m[0215 12:08:53 @monitor.py:467]\u001b[0m GAN_loss/gen/klloss: 0.067471\n",
      "\u001b[32m[0215 12:08:53 @monitor.py:467]\u001b[0m GAN_loss/gen/loss: 0.9902\n",
      "\u001b[32m[0215 12:08:53 @monitor.py:467]\u001b[0m QueueInput/queue_size: 50\n",
      "\u001b[32m[0215 12:08:53 @base.py:275]\u001b[0m Start Epoch 739 ...\n"
     ]
    },
    {
     "name": "stderr",
     "output_type": "stream",
     "text": [
      "\n",
      "100%|#################################################################################|2000/2000[00:30<00:00,64.78it/s]"
     ]
    },
    {
     "name": "stdout",
     "output_type": "stream",
     "text": [
      "\u001b[32m[0215 12:09:24 @base.py:285]\u001b[0m Epoch 739 (global_step 1478000) finished, time:30.9 seconds.\n",
      "\u001b[32m[0215 12:09:24 @saver.py:79]\u001b[0m Model saved to ./output_TGAN/output/model\\model-1478000.\n",
      "\u001b[32m[0215 12:09:24 @monitor.py:467]\u001b[0m GAN_loss/discrim/accuracy_fake: 0.975\n",
      "\u001b[32m[0215 12:09:24 @monitor.py:467]\u001b[0m GAN_loss/discrim/accuracy_real: 0.09\n",
      "\u001b[32m[0215 12:09:24 @monitor.py:467]\u001b[0m GAN_loss/discrim/loss: 0.6414\n",
      "\u001b[32m[0215 12:09:24 @monitor.py:467]\u001b[0m GAN_loss/gen/final-g-loss: 1.1224\n",
      "\u001b[32m[0215 12:09:24 @monitor.py:467]\u001b[0m GAN_loss/gen/klloss: 0.098023\n",
      "\u001b[32m[0215 12:09:24 @monitor.py:467]\u001b[0m GAN_loss/gen/loss: 1.0243\n",
      "\u001b[32m[0215 12:09:24 @monitor.py:467]\u001b[0m QueueInput/queue_size: 50\n",
      "\u001b[32m[0215 12:09:24 @base.py:275]\u001b[0m Start Epoch 740 ...\n"
     ]
    },
    {
     "name": "stderr",
     "output_type": "stream",
     "text": [
      "\n",
      "100%|#################################################################################|2000/2000[00:30<00:00,64.84it/s]"
     ]
    },
    {
     "name": "stdout",
     "output_type": "stream",
     "text": [
      "\u001b[32m[0215 12:09:55 @base.py:285]\u001b[0m Epoch 740 (global_step 1480000) finished, time:30.8 seconds.\n",
      "\u001b[32m[0215 12:09:55 @saver.py:79]\u001b[0m Model saved to ./output_TGAN/output/model\\model-1480000.\n",
      "\u001b[32m[0215 12:09:55 @monitor.py:467]\u001b[0m GAN_loss/discrim/accuracy_fake: 0.925\n",
      "\u001b[32m[0215 12:09:55 @monitor.py:467]\u001b[0m GAN_loss/discrim/accuracy_real: 0.185\n",
      "\u001b[32m[0215 12:09:55 @monitor.py:467]\u001b[0m GAN_loss/discrim/loss: 0.64256\n",
      "\u001b[32m[0215 12:09:55 @monitor.py:467]\u001b[0m GAN_loss/gen/final-g-loss: 1.1375\n",
      "\u001b[32m[0215 12:09:55 @monitor.py:467]\u001b[0m GAN_loss/gen/klloss: 0.14594\n",
      "\u001b[32m[0215 12:09:55 @monitor.py:467]\u001b[0m GAN_loss/gen/loss: 0.9916\n",
      "\u001b[32m[0215 12:09:55 @monitor.py:467]\u001b[0m QueueInput/queue_size: 50\n",
      "\u001b[32m[0215 12:09:55 @base.py:275]\u001b[0m Start Epoch 741 ...\n"
     ]
    },
    {
     "name": "stderr",
     "output_type": "stream",
     "text": [
      "\n",
      "100%|#################################################################################|2000/2000[00:30<00:00,64.84it/s]"
     ]
    },
    {
     "name": "stdout",
     "output_type": "stream",
     "text": [
      "\u001b[32m[0215 12:10:26 @base.py:285]\u001b[0m Epoch 741 (global_step 1482000) finished, time:30.8 seconds.\n",
      "\u001b[32m[0215 12:10:26 @saver.py:79]\u001b[0m Model saved to ./output_TGAN/output/model\\model-1482000.\n",
      "\u001b[32m[0215 12:10:26 @monitor.py:467]\u001b[0m GAN_loss/discrim/accuracy_fake: 0.925\n",
      "\u001b[32m[0215 12:10:26 @monitor.py:467]\u001b[0m GAN_loss/discrim/accuracy_real: 0.095\n",
      "\u001b[32m[0215 12:10:26 @monitor.py:467]\u001b[0m GAN_loss/discrim/loss: 0.64633\n",
      "\u001b[32m[0215 12:10:26 @monitor.py:467]\u001b[0m GAN_loss/gen/final-g-loss: 1.0769\n",
      "\u001b[32m[0215 12:10:26 @monitor.py:467]\u001b[0m GAN_loss/gen/klloss: 0.087396\n",
      "\u001b[32m[0215 12:10:26 @monitor.py:467]\u001b[0m GAN_loss/gen/loss: 0.98953\n",
      "\u001b[32m[0215 12:10:26 @monitor.py:467]\u001b[0m QueueInput/queue_size: 50\n",
      "\u001b[32m[0215 12:10:26 @base.py:275]\u001b[0m Start Epoch 742 ...\n"
     ]
    },
    {
     "name": "stderr",
     "output_type": "stream",
     "text": [
      "\n",
      "100%|#################################################################################|2000/2000[00:30<00:00,64.87it/s]"
     ]
    },
    {
     "name": "stdout",
     "output_type": "stream",
     "text": [
      "\u001b[32m[0215 12:10:57 @base.py:285]\u001b[0m Epoch 742 (global_step 1484000) finished, time:30.8 seconds.\n",
      "\u001b[32m[0215 12:10:57 @saver.py:79]\u001b[0m Model saved to ./output_TGAN/output/model\\model-1484000.\n",
      "\u001b[32m[0215 12:10:57 @monitor.py:467]\u001b[0m GAN_loss/discrim/accuracy_fake: 0.935\n",
      "\u001b[32m[0215 12:10:57 @monitor.py:467]\u001b[0m GAN_loss/discrim/accuracy_real: 0.105\n",
      "\u001b[32m[0215 12:10:57 @monitor.py:467]\u001b[0m GAN_loss/discrim/loss: 0.63789\n",
      "\u001b[32m[0215 12:10:57 @monitor.py:467]\u001b[0m GAN_loss/gen/final-g-loss: 1.1184\n",
      "\u001b[32m[0215 12:10:57 @monitor.py:467]\u001b[0m GAN_loss/gen/klloss: 0.10474\n",
      "\u001b[32m[0215 12:10:57 @monitor.py:467]\u001b[0m GAN_loss/gen/loss: 1.0137\n",
      "\u001b[32m[0215 12:10:57 @monitor.py:467]\u001b[0m QueueInput/queue_size: 50\n",
      "\u001b[32m[0215 12:10:57 @base.py:275]\u001b[0m Start Epoch 743 ...\n"
     ]
    },
    {
     "name": "stderr",
     "output_type": "stream",
     "text": [
      "\n",
      "100%|#################################################################################|2000/2000[00:31<00:00,63.73it/s]"
     ]
    },
    {
     "name": "stdout",
     "output_type": "stream",
     "text": [
      "\u001b[32m[0215 12:11:28 @base.py:285]\u001b[0m Epoch 743 (global_step 1486000) finished, time:31.4 seconds.\n",
      "\u001b[32m[0215 12:11:28 @saver.py:79]\u001b[0m Model saved to ./output_TGAN/output/model\\model-1486000.\n"
     ]
    },
    {
     "name": "stderr",
     "output_type": "stream",
     "text": [
      "\n"
     ]
    },
    {
     "name": "stdout",
     "output_type": "stream",
     "text": [
      "\u001b[32m[0215 12:11:29 @monitor.py:467]\u001b[0m GAN_loss/discrim/accuracy_fake: 0.935\n",
      "\u001b[32m[0215 12:11:29 @monitor.py:467]\u001b[0m GAN_loss/discrim/accuracy_real: 0.105\n",
      "\u001b[32m[0215 12:11:29 @monitor.py:467]\u001b[0m GAN_loss/discrim/loss: 0.64911\n",
      "\u001b[32m[0215 12:11:29 @monitor.py:467]\u001b[0m GAN_loss/gen/final-g-loss: 1.1015\n",
      "\u001b[32m[0215 12:11:29 @monitor.py:467]\u001b[0m GAN_loss/gen/klloss: 0.10685\n",
      "\u001b[32m[0215 12:11:29 @monitor.py:467]\u001b[0m GAN_loss/gen/loss: 0.99467\n",
      "\u001b[32m[0215 12:11:29 @monitor.py:467]\u001b[0m QueueInput/queue_size: 50\n",
      "\u001b[32m[0215 12:11:29 @base.py:275]\u001b[0m Start Epoch 744 ...\n"
     ]
    },
    {
     "name": "stderr",
     "output_type": "stream",
     "text": [
      "100%|#################################################################################|2000/2000[00:30<00:00,65.44it/s]"
     ]
    },
    {
     "name": "stdout",
     "output_type": "stream",
     "text": [
      "\u001b[32m[0215 12:11:59 @base.py:285]\u001b[0m Epoch 744 (global_step 1488000) finished, time:30.6 seconds.\n",
      "\u001b[32m[0215 12:11:59 @saver.py:79]\u001b[0m Model saved to ./output_TGAN/output/model\\model-1488000.\n",
      "\u001b[32m[0215 12:11:59 @monitor.py:467]\u001b[0m GAN_loss/discrim/accuracy_fake: 0.895\n",
      "\u001b[32m[0215 12:11:59 @monitor.py:467]\u001b[0m GAN_loss/discrim/accuracy_real: 0.08\n",
      "\u001b[32m[0215 12:11:59 @monitor.py:467]\u001b[0m GAN_loss/discrim/loss: 0.64106\n",
      "\u001b[32m[0215 12:11:59 @monitor.py:467]\u001b[0m GAN_loss/gen/final-g-loss: 1.1208\n",
      "\u001b[32m[0215 12:11:59 @monitor.py:467]\u001b[0m GAN_loss/gen/klloss: 0.12134\n",
      "\u001b[32m[0215 12:11:59 @monitor.py:467]\u001b[0m GAN_loss/gen/loss: 0.99943\n",
      "\u001b[32m[0215 12:11:59 @monitor.py:467]\u001b[0m QueueInput/queue_size: 50\n",
      "\u001b[32m[0215 12:11:59 @base.py:275]\u001b[0m Start Epoch 745 ...\n"
     ]
    },
    {
     "name": "stderr",
     "output_type": "stream",
     "text": [
      "\n",
      "100%|#################################################################################|2000/2000[00:31<00:00,64.09it/s]"
     ]
    },
    {
     "name": "stdout",
     "output_type": "stream",
     "text": [
      "\u001b[32m[0215 12:12:30 @base.py:285]\u001b[0m Epoch 745 (global_step 1490000) finished, time:31.2 seconds.\n",
      "\u001b[32m[0215 12:12:30 @saver.py:79]\u001b[0m Model saved to ./output_TGAN/output/model\\model-1490000.\n",
      "\u001b[32m[0215 12:12:31 @monitor.py:467]\u001b[0m GAN_loss/discrim/accuracy_fake: 0.93\n",
      "\u001b[32m[0215 12:12:31 @monitor.py:467]\u001b[0m GAN_loss/discrim/accuracy_real: 0.09\n",
      "\u001b[32m[0215 12:12:31 @monitor.py:467]\u001b[0m GAN_loss/discrim/loss: 0.64537\n",
      "\u001b[32m[0215 12:12:31 @monitor.py:467]\u001b[0m GAN_loss/gen/final-g-loss: 1.1421\n",
      "\u001b[32m[0215 12:12:31 @monitor.py:467]\u001b[0m GAN_loss/gen/klloss: 0.14071\n",
      "\u001b[32m[0215 12:12:31 @monitor.py:467]\u001b[0m GAN_loss/gen/loss: 1.0014\n",
      "\u001b[32m[0215 12:12:31 @monitor.py:467]\u001b[0m QueueInput/queue_size: 50\n",
      "\u001b[32m[0215 12:12:31 @base.py:275]\u001b[0m Start Epoch 746 ...\n"
     ]
    },
    {
     "name": "stderr",
     "output_type": "stream",
     "text": [
      "\n",
      "100%|#################################################################################|2000/2000[00:31<00:00,64.34it/s]"
     ]
    },
    {
     "name": "stdout",
     "output_type": "stream",
     "text": [
      "\u001b[32m[0215 12:13:02 @base.py:285]\u001b[0m Epoch 746 (global_step 1492000) finished, time:31.1 seconds.\n",
      "\u001b[32m[0215 12:13:02 @saver.py:79]\u001b[0m Model saved to ./output_TGAN/output/model\\model-1492000.\n",
      "\u001b[32m[0215 12:13:02 @monitor.py:467]\u001b[0m GAN_loss/discrim/accuracy_fake: 0.92\n",
      "\u001b[32m[0215 12:13:02 @monitor.py:467]\u001b[0m GAN_loss/discrim/accuracy_real: 0.095\n",
      "\u001b[32m[0215 12:13:02 @monitor.py:467]\u001b[0m GAN_loss/discrim/loss: 0.6543\n",
      "\u001b[32m[0215 12:13:02 @monitor.py:467]\u001b[0m GAN_loss/gen/final-g-loss: 1.1301\n",
      "\u001b[32m[0215 12:13:02 @monitor.py:467]\u001b[0m GAN_loss/gen/klloss: 0.12845\n",
      "\u001b[32m[0215 12:13:02 @monitor.py:467]\u001b[0m GAN_loss/gen/loss: 1.0017\n",
      "\u001b[32m[0215 12:13:02 @monitor.py:467]\u001b[0m QueueInput/queue_size: 50\n",
      "\u001b[32m[0215 12:13:02 @base.py:275]\u001b[0m Start Epoch 747 ...\n"
     ]
    },
    {
     "name": "stderr",
     "output_type": "stream",
     "text": [
      "\n",
      "100%|#################################################################################|2000/2000[00:30<00:00,64.93it/s]"
     ]
    },
    {
     "name": "stdout",
     "output_type": "stream",
     "text": [
      "\u001b[32m[0215 12:13:33 @base.py:285]\u001b[0m Epoch 747 (global_step 1494000) finished, time:30.8 seconds.\n",
      "\u001b[32m[0215 12:13:33 @saver.py:79]\u001b[0m Model saved to ./output_TGAN/output/model\\model-1494000.\n",
      "\u001b[32m[0215 12:13:33 @monitor.py:467]\u001b[0m GAN_loss/discrim/accuracy_fake: 0.96\n",
      "\u001b[32m[0215 12:13:33 @monitor.py:467]\u001b[0m GAN_loss/discrim/accuracy_real: 0.095\n",
      "\u001b[32m[0215 12:13:33 @monitor.py:467]\u001b[0m GAN_loss/discrim/loss: 0.64495\n",
      "\u001b[32m[0215 12:13:33 @monitor.py:467]\u001b[0m GAN_loss/gen/final-g-loss: 1.1402\n",
      "\u001b[32m[0215 12:13:33 @monitor.py:467]\u001b[0m GAN_loss/gen/klloss: 0.12508\n",
      "\u001b[32m[0215 12:13:33 @monitor.py:467]\u001b[0m GAN_loss/gen/loss: 1.0151\n",
      "\u001b[32m[0215 12:13:33 @monitor.py:467]\u001b[0m QueueInput/queue_size: 50\n",
      "\u001b[32m[0215 12:13:33 @base.py:275]\u001b[0m Start Epoch 748 ...\n"
     ]
    },
    {
     "name": "stderr",
     "output_type": "stream",
     "text": [
      "\n",
      "100%|#################################################################################|2000/2000[00:30<00:00,64.86it/s]"
     ]
    },
    {
     "name": "stdout",
     "output_type": "stream",
     "text": [
      "\u001b[32m[0215 12:14:04 @base.py:285]\u001b[0m Epoch 748 (global_step 1496000) finished, time:30.8 seconds.\n",
      "\u001b[32m[0215 12:14:04 @saver.py:79]\u001b[0m Model saved to ./output_TGAN/output/model\\model-1496000.\n",
      "\u001b[32m[0215 12:14:04 @monitor.py:467]\u001b[0m GAN_loss/discrim/accuracy_fake: 0.94\n",
      "\u001b[32m[0215 12:14:04 @monitor.py:467]\u001b[0m GAN_loss/discrim/accuracy_real: 0.11\n",
      "\u001b[32m[0215 12:14:04 @monitor.py:467]\u001b[0m GAN_loss/discrim/loss: 0.64537\n",
      "\u001b[32m[0215 12:14:04 @monitor.py:467]\u001b[0m GAN_loss/gen/final-g-loss: 1.162\n",
      "\u001b[32m[0215 12:14:04 @monitor.py:467]\u001b[0m GAN_loss/gen/klloss: 0.15256\n",
      "\u001b[32m[0215 12:14:04 @monitor.py:467]\u001b[0m GAN_loss/gen/loss: 1.0094\n",
      "\u001b[32m[0215 12:14:04 @monitor.py:467]\u001b[0m QueueInput/queue_size: 50\n",
      "\u001b[32m[0215 12:14:04 @base.py:275]\u001b[0m Start Epoch 749 ...\n"
     ]
    },
    {
     "name": "stderr",
     "output_type": "stream",
     "text": [
      "\n",
      "100%|#################################################################################|2000/2000[00:30<00:00,64.89it/s]"
     ]
    },
    {
     "name": "stdout",
     "output_type": "stream",
     "text": [
      "\u001b[32m[0215 12:14:35 @base.py:285]\u001b[0m Epoch 749 (global_step 1498000) finished, time:30.8 seconds.\n",
      "\u001b[32m[0215 12:14:35 @saver.py:79]\u001b[0m Model saved to ./output_TGAN/output/model\\model-1498000.\n",
      "\u001b[32m[0215 12:14:35 @monitor.py:467]\u001b[0m GAN_loss/discrim/accuracy_fake: 0.93\n",
      "\u001b[32m[0215 12:14:35 @monitor.py:467]\u001b[0m GAN_loss/discrim/accuracy_real: 0.155\n",
      "\u001b[32m[0215 12:14:35 @monitor.py:467]\u001b[0m GAN_loss/discrim/loss: 0.64754\n",
      "\u001b[32m[0215 12:14:35 @monitor.py:467]\u001b[0m GAN_loss/gen/final-g-loss: 1.1331\n",
      "\u001b[32m[0215 12:14:35 @monitor.py:467]\u001b[0m GAN_loss/gen/klloss: 0.13245\n",
      "\u001b[32m[0215 12:14:35 @monitor.py:467]\u001b[0m GAN_loss/gen/loss: 1.0007\n",
      "\u001b[32m[0215 12:14:35 @monitor.py:467]\u001b[0m QueueInput/queue_size: 50\n",
      "\u001b[32m[0215 12:14:35 @base.py:275]\u001b[0m Start Epoch 750 ...\n"
     ]
    },
    {
     "name": "stderr",
     "output_type": "stream",
     "text": [
      "\n",
      "100%|#################################################################################|2000/2000[00:30<00:00,64.92it/s]"
     ]
    },
    {
     "name": "stdout",
     "output_type": "stream",
     "text": [
      "\u001b[32m[0215 12:15:06 @base.py:285]\u001b[0m Epoch 750 (global_step 1500000) finished, time:30.8 seconds.\n",
      "\u001b[32m[0215 12:15:06 @saver.py:79]\u001b[0m Model saved to ./output_TGAN/output/model\\model-1500000.\n",
      "\u001b[32m[0215 12:15:06 @monitor.py:467]\u001b[0m GAN_loss/discrim/accuracy_fake: 0.92\n",
      "\u001b[32m[0215 12:15:06 @monitor.py:467]\u001b[0m GAN_loss/discrim/accuracy_real: 0.11\n",
      "\u001b[32m[0215 12:15:06 @monitor.py:467]\u001b[0m GAN_loss/discrim/loss: 0.63835\n",
      "\u001b[32m[0215 12:15:06 @monitor.py:467]\u001b[0m GAN_loss/gen/final-g-loss: 1.0994\n",
      "\u001b[32m[0215 12:15:06 @monitor.py:467]\u001b[0m GAN_loss/gen/klloss: 0.07548\n",
      "\u001b[32m[0215 12:15:06 @monitor.py:467]\u001b[0m GAN_loss/gen/loss: 1.024\n",
      "\u001b[32m[0215 12:15:06 @monitor.py:467]\u001b[0m QueueInput/queue_size: 50\n",
      "\u001b[32m[0215 12:15:06 @base.py:275]\u001b[0m Start Epoch 751 ...\n"
     ]
    },
    {
     "name": "stderr",
     "output_type": "stream",
     "text": [
      "\n",
      "100%|#################################################################################|2000/2000[00:30<00:00,64.91it/s]"
     ]
    },
    {
     "name": "stdout",
     "output_type": "stream",
     "text": [
      "\u001b[32m[0215 12:15:37 @base.py:285]\u001b[0m Epoch 751 (global_step 1502000) finished, time:30.8 seconds.\n",
      "\u001b[32m[0215 12:15:37 @saver.py:79]\u001b[0m Model saved to ./output_TGAN/output/model\\model-1502000.\n",
      "\u001b[32m[0215 12:15:37 @monitor.py:467]\u001b[0m GAN_loss/discrim/accuracy_fake: 0.94\n",
      "\u001b[32m[0215 12:15:37 @monitor.py:467]\u001b[0m GAN_loss/discrim/accuracy_real: 0.125\n",
      "\u001b[32m[0215 12:15:37 @monitor.py:467]\u001b[0m GAN_loss/discrim/loss: 0.64617\n",
      "\u001b[32m[0215 12:15:37 @monitor.py:467]\u001b[0m GAN_loss/gen/final-g-loss: 1.1182\n",
      "\u001b[32m[0215 12:15:37 @monitor.py:467]\u001b[0m GAN_loss/gen/klloss: 0.11107\n",
      "\u001b[32m[0215 12:15:37 @monitor.py:467]\u001b[0m GAN_loss/gen/loss: 1.0072\n",
      "\u001b[32m[0215 12:15:37 @monitor.py:467]\u001b[0m QueueInput/queue_size: 50\n",
      "\u001b[32m[0215 12:15:37 @base.py:275]\u001b[0m Start Epoch 752 ...\n"
     ]
    },
    {
     "name": "stderr",
     "output_type": "stream",
     "text": [
      "\n",
      "100%|#################################################################################|2000/2000[00:30<00:00,64.93it/s]"
     ]
    },
    {
     "name": "stdout",
     "output_type": "stream",
     "text": [
      "\u001b[32m[0215 12:16:08 @base.py:285]\u001b[0m Epoch 752 (global_step 1504000) finished, time:30.8 seconds.\n",
      "\u001b[32m[0215 12:16:08 @saver.py:79]\u001b[0m Model saved to ./output_TGAN/output/model\\model-1504000.\n",
      "\u001b[32m[0215 12:16:08 @monitor.py:467]\u001b[0m GAN_loss/discrim/accuracy_fake: 0.95\n",
      "\u001b[32m[0215 12:16:08 @monitor.py:467]\u001b[0m GAN_loss/discrim/accuracy_real: 0.16\n",
      "\u001b[32m[0215 12:16:08 @monitor.py:467]\u001b[0m GAN_loss/discrim/loss: 0.64375\n",
      "\u001b[32m[0215 12:16:08 @monitor.py:467]\u001b[0m GAN_loss/gen/final-g-loss: 1.1139\n",
      "\u001b[32m[0215 12:16:08 @monitor.py:467]\u001b[0m GAN_loss/gen/klloss: 0.11117\n",
      "\u001b[32m[0215 12:16:08 @monitor.py:467]\u001b[0m GAN_loss/gen/loss: 1.0027\n",
      "\u001b[32m[0215 12:16:08 @monitor.py:467]\u001b[0m QueueInput/queue_size: 50\n",
      "\u001b[32m[0215 12:16:08 @base.py:275]\u001b[0m Start Epoch 753 ...\n"
     ]
    },
    {
     "name": "stderr",
     "output_type": "stream",
     "text": [
      "\n",
      "100%|#################################################################################|2000/2000[00:30<00:00,64.95it/s]"
     ]
    },
    {
     "name": "stdout",
     "output_type": "stream",
     "text": [
      "\u001b[32m[0215 12:16:39 @base.py:285]\u001b[0m Epoch 753 (global_step 1506000) finished, time:30.8 seconds.\n",
      "\u001b[32m[0215 12:16:39 @saver.py:79]\u001b[0m Model saved to ./output_TGAN/output/model\\model-1506000.\n",
      "\u001b[32m[0215 12:16:39 @monitor.py:467]\u001b[0m GAN_loss/discrim/accuracy_fake: 0.94\n",
      "\u001b[32m[0215 12:16:39 @monitor.py:467]\u001b[0m GAN_loss/discrim/accuracy_real: 0.11\n",
      "\u001b[32m[0215 12:16:39 @monitor.py:467]\u001b[0m GAN_loss/discrim/loss: 0.64412\n",
      "\u001b[32m[0215 12:16:39 @monitor.py:467]\u001b[0m GAN_loss/gen/final-g-loss: 1.1378\n",
      "\u001b[32m[0215 12:16:39 @monitor.py:467]\u001b[0m GAN_loss/gen/klloss: 0.12435\n",
      "\u001b[32m[0215 12:16:39 @monitor.py:467]\u001b[0m GAN_loss/gen/loss: 1.0135\n",
      "\u001b[32m[0215 12:16:39 @monitor.py:467]\u001b[0m QueueInput/queue_size: 50\n",
      "\u001b[32m[0215 12:16:39 @base.py:275]\u001b[0m Start Epoch 754 ...\n"
     ]
    },
    {
     "name": "stderr",
     "output_type": "stream",
     "text": [
      "\n",
      "100%|#################################################################################|2000/2000[00:31<00:00,64.28it/s]"
     ]
    },
    {
     "name": "stdout",
     "output_type": "stream",
     "text": [
      "\u001b[32m[0215 12:17:10 @base.py:285]\u001b[0m Epoch 754 (global_step 1508000) finished, time:31.1 seconds.\n",
      "\u001b[32m[0215 12:17:10 @saver.py:79]\u001b[0m Model saved to ./output_TGAN/output/model\\model-1508000.\n",
      "\u001b[32m[0215 12:17:10 @monitor.py:467]\u001b[0m GAN_loss/discrim/accuracy_fake: 0.93\n",
      "\u001b[32m[0215 12:17:10 @monitor.py:467]\u001b[0m GAN_loss/discrim/accuracy_real: 0.11\n",
      "\u001b[32m[0215 12:17:10 @monitor.py:467]\u001b[0m GAN_loss/discrim/loss: 0.63862\n",
      "\u001b[32m[0215 12:17:10 @monitor.py:467]\u001b[0m GAN_loss/gen/final-g-loss: 1.113\n",
      "\u001b[32m[0215 12:17:10 @monitor.py:467]\u001b[0m GAN_loss/gen/klloss: 0.099195\n",
      "\u001b[32m[0215 12:17:10 @monitor.py:467]\u001b[0m GAN_loss/gen/loss: 1.0138\n",
      "\u001b[32m[0215 12:17:10 @monitor.py:467]\u001b[0m QueueInput/queue_size: 50\n",
      "\u001b[32m[0215 12:17:10 @base.py:275]\u001b[0m Start Epoch 755 ...\n"
     ]
    },
    {
     "name": "stderr",
     "output_type": "stream",
     "text": [
      "\n",
      "100%|#################################################################################|2000/2000[00:31<00:00,64.19it/s]"
     ]
    },
    {
     "name": "stdout",
     "output_type": "stream",
     "text": [
      "\u001b[32m[0215 12:17:41 @base.py:285]\u001b[0m Epoch 755 (global_step 1510000) finished, time:31.2 seconds.\n",
      "\u001b[32m[0215 12:17:41 @saver.py:79]\u001b[0m Model saved to ./output_TGAN/output/model\\model-1510000.\n",
      "\u001b[32m[0215 12:17:41 @monitor.py:467]\u001b[0m GAN_loss/discrim/accuracy_fake: 0.95\n",
      "\u001b[32m[0215 12:17:41 @monitor.py:467]\u001b[0m GAN_loss/discrim/accuracy_real: 0.1\n",
      "\u001b[32m[0215 12:17:41 @monitor.py:467]\u001b[0m GAN_loss/discrim/loss: 0.64082\n",
      "\u001b[32m[0215 12:17:41 @monitor.py:467]\u001b[0m GAN_loss/gen/final-g-loss: 1.0939\n",
      "\u001b[32m[0215 12:17:41 @monitor.py:467]\u001b[0m GAN_loss/gen/klloss: 0.088484\n",
      "\u001b[32m[0215 12:17:41 @monitor.py:467]\u001b[0m GAN_loss/gen/loss: 1.0055\n",
      "\u001b[32m[0215 12:17:41 @monitor.py:467]\u001b[0m QueueInput/queue_size: 50\n",
      "\u001b[32m[0215 12:17:41 @base.py:275]\u001b[0m Start Epoch 756 ...\n"
     ]
    },
    {
     "name": "stderr",
     "output_type": "stream",
     "text": [
      "\n",
      "100%|#################################################################################|2000/2000[00:31<00:00,64.12it/s]"
     ]
    },
    {
     "name": "stdout",
     "output_type": "stream",
     "text": [
      "\u001b[32m[0215 12:18:12 @base.py:285]\u001b[0m Epoch 756 (global_step 1512000) finished, time:31.2 seconds.\n",
      "\u001b[32m[0215 12:18:13 @saver.py:79]\u001b[0m Model saved to ./output_TGAN/output/model\\model-1512000.\n",
      "\u001b[32m[0215 12:18:13 @monitor.py:467]\u001b[0m GAN_loss/discrim/accuracy_fake: 0.935\n",
      "\u001b[32m[0215 12:18:13 @monitor.py:467]\u001b[0m GAN_loss/discrim/accuracy_real: 0.095\n",
      "\u001b[32m[0215 12:18:13 @monitor.py:467]\u001b[0m GAN_loss/discrim/loss: 0.65571\n",
      "\u001b[32m[0215 12:18:13 @monitor.py:467]\u001b[0m GAN_loss/gen/final-g-loss: 1.137\n",
      "\u001b[32m[0215 12:18:13 @monitor.py:467]\u001b[0m GAN_loss/gen/klloss: 0.14138\n",
      "\u001b[32m[0215 12:18:13 @monitor.py:467]\u001b[0m GAN_loss/gen/loss: 0.99561\n",
      "\u001b[32m[0215 12:18:13 @monitor.py:467]\u001b[0m QueueInput/queue_size: 50\n",
      "\u001b[32m[0215 12:18:13 @base.py:275]\u001b[0m Start Epoch 757 ...\n"
     ]
    },
    {
     "name": "stderr",
     "output_type": "stream",
     "text": [
      "\n",
      "100%|#################################################################################|2000/2000[00:31<00:00,64.23it/s]"
     ]
    },
    {
     "name": "stdout",
     "output_type": "stream",
     "text": [
      "\u001b[32m[0215 12:18:44 @base.py:285]\u001b[0m Epoch 757 (global_step 1514000) finished, time:31.1 seconds.\n",
      "\u001b[32m[0215 12:18:44 @saver.py:79]\u001b[0m Model saved to ./output_TGAN/output/model\\model-1514000.\n",
      "\u001b[32m[0215 12:18:44 @monitor.py:467]\u001b[0m GAN_loss/discrim/accuracy_fake: 0.935\n",
      "\u001b[32m[0215 12:18:44 @monitor.py:467]\u001b[0m GAN_loss/discrim/accuracy_real: 0.095\n",
      "\u001b[32m[0215 12:18:44 @monitor.py:467]\u001b[0m GAN_loss/discrim/loss: 0.64138\n",
      "\u001b[32m[0215 12:18:44 @monitor.py:467]\u001b[0m GAN_loss/gen/final-g-loss: 1.1155\n",
      "\u001b[32m[0215 12:18:44 @monitor.py:467]\u001b[0m GAN_loss/gen/klloss: 0.099867\n",
      "\u001b[32m[0215 12:18:44 @monitor.py:467]\u001b[0m GAN_loss/gen/loss: 1.0157\n",
      "\u001b[32m[0215 12:18:44 @monitor.py:467]\u001b[0m QueueInput/queue_size: 50\n",
      "\u001b[32m[0215 12:18:44 @base.py:275]\u001b[0m Start Epoch 758 ...\n"
     ]
    },
    {
     "name": "stderr",
     "output_type": "stream",
     "text": [
      "\n",
      "100%|#################################################################################|2000/2000[00:31<00:00,64.19it/s]"
     ]
    },
    {
     "name": "stdout",
     "output_type": "stream",
     "text": [
      "\u001b[32m[0215 12:19:15 @base.py:285]\u001b[0m Epoch 758 (global_step 1516000) finished, time:31.2 seconds.\n",
      "\u001b[32m[0215 12:19:15 @saver.py:79]\u001b[0m Model saved to ./output_TGAN/output/model\\model-1516000.\n",
      "\u001b[32m[0215 12:19:15 @monitor.py:467]\u001b[0m GAN_loss/discrim/accuracy_fake: 0.895\n",
      "\u001b[32m[0215 12:19:15 @monitor.py:467]\u001b[0m GAN_loss/discrim/accuracy_real: 0.16\n",
      "\u001b[32m[0215 12:19:15 @monitor.py:467]\u001b[0m GAN_loss/discrim/loss: 0.64768\n",
      "\u001b[32m[0215 12:19:15 @monitor.py:467]\u001b[0m GAN_loss/gen/final-g-loss: 1.0817\n",
      "\u001b[32m[0215 12:19:15 @monitor.py:467]\u001b[0m GAN_loss/gen/klloss: 0.099478\n",
      "\u001b[32m[0215 12:19:15 @monitor.py:467]\u001b[0m GAN_loss/gen/loss: 0.98222\n",
      "\u001b[32m[0215 12:19:15 @monitor.py:467]\u001b[0m QueueInput/queue_size: 50\n",
      "\u001b[32m[0215 12:19:15 @base.py:275]\u001b[0m Start Epoch 759 ...\n"
     ]
    },
    {
     "name": "stderr",
     "output_type": "stream",
     "text": [
      "\n",
      "100%|#################################################################################|2000/2000[00:31<00:00,64.27it/s]"
     ]
    },
    {
     "name": "stdout",
     "output_type": "stream",
     "text": [
      "\u001b[32m[0215 12:19:46 @base.py:285]\u001b[0m Epoch 759 (global_step 1518000) finished, time:31.1 seconds.\n",
      "\u001b[32m[0215 12:19:46 @saver.py:79]\u001b[0m Model saved to ./output_TGAN/output/model\\model-1518000.\n",
      "\u001b[32m[0215 12:19:47 @monitor.py:467]\u001b[0m GAN_loss/discrim/accuracy_fake: 0.915\n",
      "\u001b[32m[0215 12:19:47 @monitor.py:467]\u001b[0m GAN_loss/discrim/accuracy_real: 0.145\n",
      "\u001b[32m[0215 12:19:47 @monitor.py:467]\u001b[0m GAN_loss/discrim/loss: 0.63757\n",
      "\u001b[32m[0215 12:19:47 @monitor.py:467]\u001b[0m GAN_loss/gen/final-g-loss: 1.0851\n",
      "\u001b[32m[0215 12:19:47 @monitor.py:467]\u001b[0m GAN_loss/gen/klloss: 0.077217\n",
      "\u001b[32m[0215 12:19:47 @monitor.py:467]\u001b[0m GAN_loss/gen/loss: 1.0079\n",
      "\u001b[32m[0215 12:19:47 @monitor.py:467]\u001b[0m QueueInput/queue_size: 50\n",
      "\u001b[32m[0215 12:19:47 @base.py:275]\u001b[0m Start Epoch 760 ...\n"
     ]
    },
    {
     "name": "stderr",
     "output_type": "stream",
     "text": [
      "\n",
      "100%|#################################################################################|2000/2000[00:31<00:00,64.14it/s]"
     ]
    },
    {
     "name": "stdout",
     "output_type": "stream",
     "text": [
      "\u001b[32m[0215 12:20:18 @base.py:285]\u001b[0m Epoch 760 (global_step 1520000) finished, time:31.2 seconds.\n",
      "\u001b[32m[0215 12:20:18 @saver.py:79]\u001b[0m Model saved to ./output_TGAN/output/model\\model-1520000.\n",
      "\u001b[32m[0215 12:20:18 @monitor.py:467]\u001b[0m GAN_loss/discrim/accuracy_fake: 0.905\n",
      "\u001b[32m[0215 12:20:18 @monitor.py:467]\u001b[0m GAN_loss/discrim/accuracy_real: 0.12\n",
      "\u001b[32m[0215 12:20:18 @monitor.py:467]\u001b[0m GAN_loss/discrim/loss: 0.65359\n",
      "\u001b[32m[0215 12:20:18 @monitor.py:467]\u001b[0m GAN_loss/gen/final-g-loss: 1.0739\n",
      "\u001b[32m[0215 12:20:18 @monitor.py:467]\u001b[0m GAN_loss/gen/klloss: 0.085326\n",
      "\u001b[32m[0215 12:20:18 @monitor.py:467]\u001b[0m GAN_loss/gen/loss: 0.98853\n",
      "\u001b[32m[0215 12:20:18 @monitor.py:467]\u001b[0m QueueInput/queue_size: 50\n",
      "\u001b[32m[0215 12:20:18 @base.py:275]\u001b[0m Start Epoch 761 ...\n"
     ]
    },
    {
     "name": "stderr",
     "output_type": "stream",
     "text": [
      "\n",
      "100%|#################################################################################|2000/2000[00:31<00:00,64.36it/s]"
     ]
    },
    {
     "name": "stdout",
     "output_type": "stream",
     "text": [
      "\u001b[32m[0215 12:20:49 @base.py:285]\u001b[0m Epoch 761 (global_step 1522000) finished, time:31.1 seconds.\n",
      "\u001b[32m[0215 12:20:49 @saver.py:79]\u001b[0m Model saved to ./output_TGAN/output/model\\model-1522000.\n",
      "\u001b[32m[0215 12:20:49 @monitor.py:467]\u001b[0m GAN_loss/discrim/accuracy_fake: 0.93\n",
      "\u001b[32m[0215 12:20:49 @monitor.py:467]\u001b[0m GAN_loss/discrim/accuracy_real: 0.095\n",
      "\u001b[32m[0215 12:20:49 @monitor.py:467]\u001b[0m GAN_loss/discrim/loss: 0.6456\n",
      "\u001b[32m[0215 12:20:49 @monitor.py:467]\u001b[0m GAN_loss/gen/final-g-loss: 1.0679\n",
      "\u001b[32m[0215 12:20:49 @monitor.py:467]\u001b[0m GAN_loss/gen/klloss: 0.063648\n",
      "\u001b[32m[0215 12:20:49 @monitor.py:467]\u001b[0m GAN_loss/gen/loss: 1.0042\n",
      "\u001b[32m[0215 12:20:49 @monitor.py:467]\u001b[0m QueueInput/queue_size: 50\n",
      "\u001b[32m[0215 12:20:49 @base.py:275]\u001b[0m Start Epoch 762 ...\n"
     ]
    },
    {
     "name": "stderr",
     "output_type": "stream",
     "text": [
      "\n",
      "100%|#################################################################################|2000/2000[00:31<00:00,64.35it/s]"
     ]
    },
    {
     "name": "stdout",
     "output_type": "stream",
     "text": [
      "\u001b[32m[0215 12:21:20 @base.py:285]\u001b[0m Epoch 762 (global_step 1524000) finished, time:31.1 seconds.\n",
      "\u001b[32m[0215 12:21:20 @saver.py:79]\u001b[0m Model saved to ./output_TGAN/output/model\\model-1524000.\n",
      "\u001b[32m[0215 12:21:20 @monitor.py:467]\u001b[0m GAN_loss/discrim/accuracy_fake: 0.925\n",
      "\u001b[32m[0215 12:21:20 @monitor.py:467]\u001b[0m GAN_loss/discrim/accuracy_real: 0.155\n",
      "\u001b[32m[0215 12:21:20 @monitor.py:467]\u001b[0m GAN_loss/discrim/loss: 0.65051\n",
      "\u001b[32m[0215 12:21:20 @monitor.py:467]\u001b[0m GAN_loss/gen/final-g-loss: 1.0871\n",
      "\u001b[32m[0215 12:21:20 @monitor.py:467]\u001b[0m GAN_loss/gen/klloss: 0.093184\n",
      "\u001b[32m[0215 12:21:20 @monitor.py:467]\u001b[0m GAN_loss/gen/loss: 0.99395\n",
      "\u001b[32m[0215 12:21:20 @monitor.py:467]\u001b[0m QueueInput/queue_size: 50\n",
      "\u001b[32m[0215 12:21:20 @base.py:275]\u001b[0m Start Epoch 763 ...\n"
     ]
    },
    {
     "name": "stderr",
     "output_type": "stream",
     "text": [
      "\n",
      "100%|#################################################################################|2000/2000[00:31<00:00,64.39it/s]"
     ]
    },
    {
     "name": "stdout",
     "output_type": "stream",
     "text": [
      "\u001b[32m[0215 12:21:51 @base.py:285]\u001b[0m Epoch 763 (global_step 1526000) finished, time:31.1 seconds.\n",
      "\u001b[32m[0215 12:21:52 @saver.py:79]\u001b[0m Model saved to ./output_TGAN/output/model\\model-1526000.\n"
     ]
    },
    {
     "name": "stderr",
     "output_type": "stream",
     "text": [
      "\n"
     ]
    },
    {
     "name": "stdout",
     "output_type": "stream",
     "text": [
      "\u001b[32m[0215 12:21:52 @monitor.py:467]\u001b[0m GAN_loss/discrim/accuracy_fake: 0.88\n",
      "\u001b[32m[0215 12:21:52 @monitor.py:467]\u001b[0m GAN_loss/discrim/accuracy_real: 0.18\n",
      "\u001b[32m[0215 12:21:52 @monitor.py:467]\u001b[0m GAN_loss/discrim/loss: 0.64378\n",
      "\u001b[32m[0215 12:21:52 @monitor.py:467]\u001b[0m GAN_loss/gen/final-g-loss: 1.0806\n",
      "\u001b[32m[0215 12:21:52 @monitor.py:467]\u001b[0m GAN_loss/gen/klloss: 0.089639\n",
      "\u001b[32m[0215 12:21:52 @monitor.py:467]\u001b[0m GAN_loss/gen/loss: 0.99097\n",
      "\u001b[32m[0215 12:21:52 @monitor.py:467]\u001b[0m QueueInput/queue_size: 50\n",
      "\u001b[32m[0215 12:21:52 @base.py:275]\u001b[0m Start Epoch 764 ...\n"
     ]
    },
    {
     "name": "stderr",
     "output_type": "stream",
     "text": [
      "100%|#################################################################################|2000/2000[00:31<00:00,64.25it/s]"
     ]
    },
    {
     "name": "stdout",
     "output_type": "stream",
     "text": [
      "\u001b[32m[0215 12:22:23 @base.py:285]\u001b[0m Epoch 764 (global_step 1528000) finished, time:31.1 seconds.\n",
      "\u001b[32m[0215 12:22:23 @saver.py:79]\u001b[0m Model saved to ./output_TGAN/output/model\\model-1528000.\n",
      "\u001b[32m[0215 12:22:23 @monitor.py:467]\u001b[0m GAN_loss/discrim/accuracy_fake: 0.92\n",
      "\u001b[32m[0215 12:22:23 @monitor.py:467]\u001b[0m GAN_loss/discrim/accuracy_real: 0.175\n",
      "\u001b[32m[0215 12:22:23 @monitor.py:467]\u001b[0m GAN_loss/discrim/loss: 0.64342\n",
      "\u001b[32m[0215 12:22:23 @monitor.py:467]\u001b[0m GAN_loss/gen/final-g-loss: 1.0849\n",
      "\u001b[32m[0215 12:22:23 @monitor.py:467]\u001b[0m GAN_loss/gen/klloss: 0.077391\n",
      "\u001b[32m[0215 12:22:23 @monitor.py:467]\u001b[0m GAN_loss/gen/loss: 1.0075\n",
      "\u001b[32m[0215 12:22:23 @monitor.py:467]\u001b[0m QueueInput/queue_size: 50\n",
      "\u001b[32m[0215 12:22:23 @base.py:275]\u001b[0m Start Epoch 765 ...\n"
     ]
    },
    {
     "name": "stderr",
     "output_type": "stream",
     "text": [
      "\n",
      "100%|#################################################################################|2000/2000[00:31<00:00,64.26it/s]"
     ]
    },
    {
     "name": "stdout",
     "output_type": "stream",
     "text": [
      "\u001b[32m[0215 12:22:54 @base.py:285]\u001b[0m Epoch 765 (global_step 1530000) finished, time:31.1 seconds.\n",
      "\u001b[32m[0215 12:22:54 @saver.py:79]\u001b[0m Model saved to ./output_TGAN/output/model\\model-1530000.\n",
      "\u001b[32m[0215 12:22:54 @monitor.py:467]\u001b[0m GAN_loss/discrim/accuracy_fake: 0.91\n",
      "\u001b[32m[0215 12:22:54 @monitor.py:467]\u001b[0m GAN_loss/discrim/accuracy_real: 0.17\n",
      "\u001b[32m[0215 12:22:54 @monitor.py:467]\u001b[0m GAN_loss/discrim/loss: 0.64265\n",
      "\u001b[32m[0215 12:22:54 @monitor.py:467]\u001b[0m GAN_loss/gen/final-g-loss: 1.0977\n",
      "\u001b[32m[0215 12:22:54 @monitor.py:467]\u001b[0m GAN_loss/gen/klloss: 0.10462\n",
      "\u001b[32m[0215 12:22:54 @monitor.py:467]\u001b[0m GAN_loss/gen/loss: 0.99305\n",
      "\u001b[32m[0215 12:22:54 @monitor.py:467]\u001b[0m QueueInput/queue_size: 50\n",
      "\u001b[32m[0215 12:22:54 @base.py:275]\u001b[0m Start Epoch 766 ...\n"
     ]
    },
    {
     "name": "stderr",
     "output_type": "stream",
     "text": [
      "\n",
      "100%|#################################################################################|2000/2000[00:31<00:00,64.21it/s]"
     ]
    },
    {
     "name": "stdout",
     "output_type": "stream",
     "text": [
      "\u001b[32m[0215 12:23:25 @base.py:285]\u001b[0m Epoch 766 (global_step 1532000) finished, time:31.1 seconds.\n",
      "\u001b[32m[0215 12:23:25 @saver.py:79]\u001b[0m Model saved to ./output_TGAN/output/model\\model-1532000.\n",
      "\u001b[32m[0215 12:23:26 @monitor.py:467]\u001b[0m GAN_loss/discrim/accuracy_fake: 0.935\n",
      "\u001b[32m[0215 12:23:26 @monitor.py:467]\u001b[0m GAN_loss/discrim/accuracy_real: 0.155\n",
      "\u001b[32m[0215 12:23:26 @monitor.py:467]\u001b[0m GAN_loss/discrim/loss: 0.6418\n",
      "\u001b[32m[0215 12:23:26 @monitor.py:467]\u001b[0m GAN_loss/gen/final-g-loss: 1.0749\n",
      "\u001b[32m[0215 12:23:26 @monitor.py:467]\u001b[0m GAN_loss/gen/klloss: 0.079038\n",
      "\u001b[32m[0215 12:23:26 @monitor.py:467]\u001b[0m GAN_loss/gen/loss: 0.99587\n",
      "\u001b[32m[0215 12:23:26 @monitor.py:467]\u001b[0m QueueInput/queue_size: 50\n",
      "\u001b[32m[0215 12:23:26 @base.py:275]\u001b[0m Start Epoch 767 ...\n"
     ]
    },
    {
     "name": "stderr",
     "output_type": "stream",
     "text": [
      "\n",
      "100%|#################################################################################|2000/2000[00:31<00:00,63.92it/s]"
     ]
    },
    {
     "name": "stdout",
     "output_type": "stream",
     "text": [
      "\u001b[32m[0215 12:23:57 @base.py:285]\u001b[0m Epoch 767 (global_step 1534000) finished, time:31.3 seconds.\n",
      "\u001b[32m[0215 12:23:57 @saver.py:79]\u001b[0m Model saved to ./output_TGAN/output/model\\model-1534000.\n",
      "\u001b[32m[0215 12:23:57 @monitor.py:467]\u001b[0m GAN_loss/discrim/accuracy_fake: 0.915\n",
      "\u001b[32m[0215 12:23:57 @monitor.py:467]\u001b[0m GAN_loss/discrim/accuracy_real: 0.125\n",
      "\u001b[32m[0215 12:23:57 @monitor.py:467]\u001b[0m GAN_loss/discrim/loss: 0.65215\n",
      "\u001b[32m[0215 12:23:57 @monitor.py:467]\u001b[0m GAN_loss/gen/final-g-loss: 1.1408\n",
      "\u001b[32m[0215 12:23:57 @monitor.py:467]\u001b[0m GAN_loss/gen/klloss: 0.12803\n",
      "\u001b[32m[0215 12:23:57 @monitor.py:467]\u001b[0m GAN_loss/gen/loss: 1.0127\n",
      "\u001b[32m[0215 12:23:57 @monitor.py:467]\u001b[0m QueueInput/queue_size: 50\n",
      "\u001b[32m[0215 12:23:57 @base.py:275]\u001b[0m Start Epoch 768 ...\n"
     ]
    },
    {
     "name": "stderr",
     "output_type": "stream",
     "text": [
      "\n",
      "100%|#################################################################################|2000/2000[00:31<00:00,64.25it/s]"
     ]
    },
    {
     "name": "stdout",
     "output_type": "stream",
     "text": [
      "\u001b[32m[0215 12:24:28 @base.py:285]\u001b[0m Epoch 768 (global_step 1536000) finished, time:31.1 seconds.\n",
      "\u001b[32m[0215 12:24:28 @saver.py:79]\u001b[0m Model saved to ./output_TGAN/output/model\\model-1536000.\n",
      "\u001b[32m[0215 12:24:28 @monitor.py:467]\u001b[0m GAN_loss/discrim/accuracy_fake: 0.935\n",
      "\u001b[32m[0215 12:24:28 @monitor.py:467]\u001b[0m GAN_loss/discrim/accuracy_real: 0.1\n",
      "\u001b[32m[0215 12:24:28 @monitor.py:467]\u001b[0m GAN_loss/discrim/loss: 0.65297\n",
      "\u001b[32m[0215 12:24:28 @monitor.py:467]\u001b[0m GAN_loss/gen/final-g-loss: 1.151\n",
      "\u001b[32m[0215 12:24:28 @monitor.py:467]\u001b[0m GAN_loss/gen/klloss: 0.1513\n",
      "\u001b[32m[0215 12:24:28 @monitor.py:467]\u001b[0m GAN_loss/gen/loss: 0.99973\n",
      "\u001b[32m[0215 12:24:28 @monitor.py:467]\u001b[0m QueueInput/queue_size: 50\n",
      "\u001b[32m[0215 12:24:28 @base.py:275]\u001b[0m Start Epoch 769 ...\n"
     ]
    },
    {
     "name": "stderr",
     "output_type": "stream",
     "text": [
      "\n",
      "100%|#################################################################################|2000/2000[00:31<00:00,64.25it/s]"
     ]
    },
    {
     "name": "stdout",
     "output_type": "stream",
     "text": [
      "\u001b[32m[0215 12:24:59 @base.py:285]\u001b[0m Epoch 769 (global_step 1538000) finished, time:31.1 seconds.\n",
      "\u001b[32m[0215 12:24:59 @saver.py:79]\u001b[0m Model saved to ./output_TGAN/output/model\\model-1538000.\n",
      "\u001b[32m[0215 12:25:00 @monitor.py:467]\u001b[0m GAN_loss/discrim/accuracy_fake: 0.945\n",
      "\u001b[32m[0215 12:25:00 @monitor.py:467]\u001b[0m GAN_loss/discrim/accuracy_real: 0.135\n",
      "\u001b[32m[0215 12:25:00 @monitor.py:467]\u001b[0m GAN_loss/discrim/loss: 0.64262\n",
      "\u001b[32m[0215 12:25:00 @monitor.py:467]\u001b[0m GAN_loss/gen/final-g-loss: 1.1173\n",
      "\u001b[32m[0215 12:25:00 @monitor.py:467]\u001b[0m GAN_loss/gen/klloss: 0.11731\n",
      "\u001b[32m[0215 12:25:00 @monitor.py:467]\u001b[0m GAN_loss/gen/loss: 1\n",
      "\u001b[32m[0215 12:25:00 @monitor.py:467]\u001b[0m QueueInput/queue_size: 50\n",
      "\u001b[32m[0215 12:25:00 @base.py:275]\u001b[0m Start Epoch 770 ...\n"
     ]
    },
    {
     "name": "stderr",
     "output_type": "stream",
     "text": [
      "\n",
      "100%|#################################################################################|2000/2000[00:31<00:00,64.20it/s]"
     ]
    },
    {
     "name": "stdout",
     "output_type": "stream",
     "text": [
      "\u001b[32m[0215 12:25:31 @base.py:285]\u001b[0m Epoch 770 (global_step 1540000) finished, time:31.2 seconds.\n",
      "\u001b[32m[0215 12:25:31 @saver.py:79]\u001b[0m Model saved to ./output_TGAN/output/model\\model-1540000.\n",
      "\u001b[32m[0215 12:25:31 @monitor.py:467]\u001b[0m GAN_loss/discrim/accuracy_fake: 0.93\n",
      "\u001b[32m[0215 12:25:31 @monitor.py:467]\u001b[0m GAN_loss/discrim/accuracy_real: 0.13\n",
      "\u001b[32m[0215 12:25:31 @monitor.py:467]\u001b[0m GAN_loss/discrim/loss: 0.647\n",
      "\u001b[32m[0215 12:25:31 @monitor.py:467]\u001b[0m GAN_loss/gen/final-g-loss: 1.1007\n",
      "\u001b[32m[0215 12:25:31 @monitor.py:467]\u001b[0m GAN_loss/gen/klloss: 0.11245\n",
      "\u001b[32m[0215 12:25:31 @monitor.py:467]\u001b[0m GAN_loss/gen/loss: 0.98821\n",
      "\u001b[32m[0215 12:25:31 @monitor.py:467]\u001b[0m QueueInput/queue_size: 50\n",
      "\u001b[32m[0215 12:25:31 @base.py:275]\u001b[0m Start Epoch 771 ...\n"
     ]
    },
    {
     "name": "stderr",
     "output_type": "stream",
     "text": [
      "\n",
      "100%|#################################################################################|2000/2000[00:31<00:00,64.15it/s]"
     ]
    },
    {
     "name": "stdout",
     "output_type": "stream",
     "text": [
      "\u001b[32m[0215 12:26:02 @base.py:285]\u001b[0m Epoch 771 (global_step 1542000) finished, time:31.2 seconds.\n",
      "\u001b[32m[0215 12:26:02 @saver.py:79]\u001b[0m Model saved to ./output_TGAN/output/model\\model-1542000.\n",
      "\u001b[32m[0215 12:26:02 @monitor.py:467]\u001b[0m GAN_loss/discrim/accuracy_fake: 0.925\n",
      "\u001b[32m[0215 12:26:02 @monitor.py:467]\u001b[0m GAN_loss/discrim/accuracy_real: 0.13\n",
      "\u001b[32m[0215 12:26:02 @monitor.py:467]\u001b[0m GAN_loss/discrim/loss: 0.6487\n",
      "\u001b[32m[0215 12:26:02 @monitor.py:467]\u001b[0m GAN_loss/gen/final-g-loss: 1.1639\n",
      "\u001b[32m[0215 12:26:02 @monitor.py:467]\u001b[0m GAN_loss/gen/klloss: 0.15975\n",
      "\u001b[32m[0215 12:26:02 @monitor.py:467]\u001b[0m GAN_loss/gen/loss: 1.0041\n",
      "\u001b[32m[0215 12:26:02 @monitor.py:467]\u001b[0m QueueInput/queue_size: 50\n",
      "\u001b[32m[0215 12:26:02 @base.py:275]\u001b[0m Start Epoch 772 ...\n"
     ]
    },
    {
     "name": "stderr",
     "output_type": "stream",
     "text": [
      "\n",
      "100%|#################################################################################|2000/2000[00:31<00:00,64.10it/s]"
     ]
    },
    {
     "name": "stdout",
     "output_type": "stream",
     "text": [
      "\u001b[32m[0215 12:26:33 @base.py:285]\u001b[0m Epoch 772 (global_step 1544000) finished, time:31.2 seconds.\n",
      "\u001b[32m[0215 12:26:34 @saver.py:79]\u001b[0m Model saved to ./output_TGAN/output/model\\model-1544000.\n",
      "\u001b[32m[0215 12:26:34 @monitor.py:467]\u001b[0m GAN_loss/discrim/accuracy_fake: 0.93\n",
      "\u001b[32m[0215 12:26:34 @monitor.py:467]\u001b[0m GAN_loss/discrim/accuracy_real: 0.125\n",
      "\u001b[32m[0215 12:26:34 @monitor.py:467]\u001b[0m GAN_loss/discrim/loss: 0.63936\n",
      "\u001b[32m[0215 12:26:34 @monitor.py:467]\u001b[0m GAN_loss/gen/final-g-loss: 1.091\n",
      "\u001b[32m[0215 12:26:34 @monitor.py:467]\u001b[0m GAN_loss/gen/klloss: 0.096532\n",
      "\u001b[32m[0215 12:26:34 @monitor.py:467]\u001b[0m GAN_loss/gen/loss: 0.99451\n",
      "\u001b[32m[0215 12:26:34 @monitor.py:467]\u001b[0m QueueInput/queue_size: 50\n",
      "\u001b[32m[0215 12:26:34 @base.py:275]\u001b[0m Start Epoch 773 ...\n"
     ]
    },
    {
     "name": "stderr",
     "output_type": "stream",
     "text": [
      "\n",
      "100%|#################################################################################|2000/2000[00:31<00:00,64.19it/s]"
     ]
    },
    {
     "name": "stdout",
     "output_type": "stream",
     "text": [
      "\u001b[32m[0215 12:27:05 @base.py:285]\u001b[0m Epoch 773 (global_step 1546000) finished, time:31.2 seconds.\n",
      "\u001b[32m[0215 12:27:05 @saver.py:79]\u001b[0m Model saved to ./output_TGAN/output/model\\model-1546000.\n",
      "\u001b[32m[0215 12:27:05 @monitor.py:467]\u001b[0m GAN_loss/discrim/accuracy_fake: 0.925\n",
      "\u001b[32m[0215 12:27:05 @monitor.py:467]\u001b[0m GAN_loss/discrim/accuracy_real: 0.12\n",
      "\u001b[32m[0215 12:27:05 @monitor.py:467]\u001b[0m GAN_loss/discrim/loss: 0.64805\n",
      "\u001b[32m[0215 12:27:05 @monitor.py:467]\u001b[0m GAN_loss/gen/final-g-loss: 1.1002\n",
      "\u001b[32m[0215 12:27:05 @monitor.py:467]\u001b[0m GAN_loss/gen/klloss: 0.091146\n",
      "\u001b[32m[0215 12:27:05 @monitor.py:467]\u001b[0m GAN_loss/gen/loss: 1.009\n",
      "\u001b[32m[0215 12:27:05 @monitor.py:467]\u001b[0m QueueInput/queue_size: 50\n",
      "\u001b[32m[0215 12:27:05 @base.py:275]\u001b[0m Start Epoch 774 ...\n"
     ]
    },
    {
     "name": "stderr",
     "output_type": "stream",
     "text": [
      "\n",
      "100%|#################################################################################|2000/2000[00:31<00:00,64.30it/s]"
     ]
    },
    {
     "name": "stdout",
     "output_type": "stream",
     "text": [
      "\u001b[32m[0215 12:27:36 @base.py:285]\u001b[0m Epoch 774 (global_step 1548000) finished, time:31.1 seconds.\n",
      "\u001b[32m[0215 12:27:36 @saver.py:79]\u001b[0m Model saved to ./output_TGAN/output/model\\model-1548000.\n",
      "\u001b[32m[0215 12:27:36 @monitor.py:467]\u001b[0m GAN_loss/discrim/accuracy_fake: 0.92\n",
      "\u001b[32m[0215 12:27:36 @monitor.py:467]\u001b[0m GAN_loss/discrim/accuracy_real: 0.105\n",
      "\u001b[32m[0215 12:27:36 @monitor.py:467]\u001b[0m GAN_loss/discrim/loss: 0.64541\n",
      "\u001b[32m[0215 12:27:36 @monitor.py:467]\u001b[0m GAN_loss/gen/final-g-loss: 1.1394\n",
      "\u001b[32m[0215 12:27:36 @monitor.py:467]\u001b[0m GAN_loss/gen/klloss: 0.14286\n",
      "\u001b[32m[0215 12:27:36 @monitor.py:467]\u001b[0m GAN_loss/gen/loss: 0.99657\n",
      "\u001b[32m[0215 12:27:36 @monitor.py:467]\u001b[0m QueueInput/queue_size: 50\n",
      "\u001b[32m[0215 12:27:36 @base.py:275]\u001b[0m Start Epoch 775 ...\n"
     ]
    },
    {
     "name": "stderr",
     "output_type": "stream",
     "text": [
      "\n",
      "100%|#################################################################################|2000/2000[00:31<00:00,63.93it/s]"
     ]
    },
    {
     "name": "stdout",
     "output_type": "stream",
     "text": [
      "\u001b[32m[0215 12:28:08 @base.py:285]\u001b[0m Epoch 775 (global_step 1550000) finished, time:31.3 seconds.\n",
      "\u001b[32m[0215 12:28:08 @saver.py:79]\u001b[0m Model saved to ./output_TGAN/output/model\\model-1550000.\n",
      "\u001b[32m[0215 12:28:08 @monitor.py:467]\u001b[0m GAN_loss/discrim/accuracy_fake: 0.94\n",
      "\u001b[32m[0215 12:28:08 @monitor.py:467]\u001b[0m GAN_loss/discrim/accuracy_real: 0.1\n",
      "\u001b[32m[0215 12:28:08 @monitor.py:467]\u001b[0m GAN_loss/discrim/loss: 0.64565\n",
      "\u001b[32m[0215 12:28:08 @monitor.py:467]\u001b[0m GAN_loss/gen/final-g-loss: 1.1415\n",
      "\u001b[32m[0215 12:28:08 @monitor.py:467]\u001b[0m GAN_loss/gen/klloss: 0.12648\n",
      "\u001b[32m[0215 12:28:08 @monitor.py:467]\u001b[0m GAN_loss/gen/loss: 1.015\n",
      "\u001b[32m[0215 12:28:08 @monitor.py:467]\u001b[0m QueueInput/queue_size: 50\n",
      "\u001b[32m[0215 12:28:08 @base.py:275]\u001b[0m Start Epoch 776 ...\n"
     ]
    },
    {
     "name": "stderr",
     "output_type": "stream",
     "text": [
      "\n",
      "100%|#################################################################################|2000/2000[00:31<00:00,64.27it/s]"
     ]
    },
    {
     "name": "stdout",
     "output_type": "stream",
     "text": [
      "\u001b[32m[0215 12:28:39 @base.py:285]\u001b[0m Epoch 776 (global_step 1552000) finished, time:31.1 seconds.\n",
      "\u001b[32m[0215 12:28:39 @saver.py:79]\u001b[0m Model saved to ./output_TGAN/output/model\\model-1552000.\n",
      "\u001b[32m[0215 12:28:39 @monitor.py:467]\u001b[0m GAN_loss/discrim/accuracy_fake: 0.935\n",
      "\u001b[32m[0215 12:28:39 @monitor.py:467]\u001b[0m GAN_loss/discrim/accuracy_real: 0.145\n",
      "\u001b[32m[0215 12:28:39 @monitor.py:467]\u001b[0m GAN_loss/discrim/loss: 0.6304\n",
      "\u001b[32m[0215 12:28:39 @monitor.py:467]\u001b[0m GAN_loss/gen/final-g-loss: 1.1245\n",
      "\u001b[32m[0215 12:28:39 @monitor.py:467]\u001b[0m GAN_loss/gen/klloss: 0.1037\n",
      "\u001b[32m[0215 12:28:39 @monitor.py:467]\u001b[0m GAN_loss/gen/loss: 1.0208\n",
      "\u001b[32m[0215 12:28:39 @monitor.py:467]\u001b[0m QueueInput/queue_size: 50\n",
      "\u001b[32m[0215 12:28:39 @base.py:275]\u001b[0m Start Epoch 777 ...\n"
     ]
    },
    {
     "name": "stderr",
     "output_type": "stream",
     "text": [
      "\n",
      "100%|#################################################################################|2000/2000[00:31<00:00,64.46it/s]"
     ]
    },
    {
     "name": "stdout",
     "output_type": "stream",
     "text": [
      "\u001b[32m[0215 12:29:10 @base.py:285]\u001b[0m Epoch 777 (global_step 1554000) finished, time:31 seconds.\n",
      "\u001b[32m[0215 12:29:10 @saver.py:79]\u001b[0m Model saved to ./output_TGAN/output/model\\model-1554000.\n",
      "\u001b[32m[0215 12:29:10 @monitor.py:467]\u001b[0m GAN_loss/discrim/accuracy_fake: 0.925\n",
      "\u001b[32m[0215 12:29:10 @monitor.py:467]\u001b[0m GAN_loss/discrim/accuracy_real: 0.1\n",
      "\u001b[32m[0215 12:29:10 @monitor.py:467]\u001b[0m GAN_loss/discrim/loss: 0.6418\n",
      "\u001b[32m[0215 12:29:10 @monitor.py:467]\u001b[0m GAN_loss/gen/final-g-loss: 1.1453\n",
      "\u001b[32m[0215 12:29:10 @monitor.py:467]\u001b[0m GAN_loss/gen/klloss: 0.12489\n",
      "\u001b[32m[0215 12:29:10 @monitor.py:467]\u001b[0m GAN_loss/gen/loss: 1.0204\n",
      "\u001b[32m[0215 12:29:10 @monitor.py:467]\u001b[0m QueueInput/queue_size: 50\n",
      "\u001b[32m[0215 12:29:10 @base.py:275]\u001b[0m Start Epoch 778 ...\n"
     ]
    },
    {
     "name": "stderr",
     "output_type": "stream",
     "text": [
      "\n",
      "100%|#################################################################################|2000/2000[00:31<00:00,64.43it/s]"
     ]
    },
    {
     "name": "stdout",
     "output_type": "stream",
     "text": [
      "\u001b[32m[0215 12:29:41 @base.py:285]\u001b[0m Epoch 778 (global_step 1556000) finished, time:31 seconds.\n",
      "\u001b[32m[0215 12:29:41 @saver.py:79]\u001b[0m Model saved to ./output_TGAN/output/model\\model-1556000.\n",
      "\u001b[32m[0215 12:29:41 @monitor.py:467]\u001b[0m GAN_loss/discrim/accuracy_fake: 0.935\n",
      "\u001b[32m[0215 12:29:41 @monitor.py:467]\u001b[0m GAN_loss/discrim/accuracy_real: 0.085\n",
      "\u001b[32m[0215 12:29:41 @monitor.py:467]\u001b[0m GAN_loss/discrim/loss: 0.64424\n",
      "\u001b[32m[0215 12:29:41 @monitor.py:467]\u001b[0m GAN_loss/gen/final-g-loss: 1.1604\n",
      "\u001b[32m[0215 12:29:41 @monitor.py:467]\u001b[0m GAN_loss/gen/klloss: 0.14603\n",
      "\u001b[32m[0215 12:29:41 @monitor.py:467]\u001b[0m GAN_loss/gen/loss: 1.0144\n",
      "\u001b[32m[0215 12:29:41 @monitor.py:467]\u001b[0m QueueInput/queue_size: 50\n",
      "\u001b[32m[0215 12:29:41 @base.py:275]\u001b[0m Start Epoch 779 ...\n"
     ]
    },
    {
     "name": "stderr",
     "output_type": "stream",
     "text": [
      "\n",
      "100%|#################################################################################|2000/2000[00:31<00:00,64.38it/s]"
     ]
    },
    {
     "name": "stdout",
     "output_type": "stream",
     "text": [
      "\u001b[32m[0215 12:30:12 @base.py:285]\u001b[0m Epoch 779 (global_step 1558000) finished, time:31.1 seconds.\n",
      "\u001b[32m[0215 12:30:12 @saver.py:79]\u001b[0m Model saved to ./output_TGAN/output/model\\model-1558000.\n",
      "\u001b[32m[0215 12:30:13 @monitor.py:467]\u001b[0m GAN_loss/discrim/accuracy_fake: 0.915\n",
      "\u001b[32m[0215 12:30:13 @monitor.py:467]\u001b[0m GAN_loss/discrim/accuracy_real: 0.125\n",
      "\u001b[32m[0215 12:30:13 @monitor.py:467]\u001b[0m GAN_loss/discrim/loss: 0.65882\n",
      "\u001b[32m[0215 12:30:13 @monitor.py:467]\u001b[0m GAN_loss/gen/final-g-loss: 1.0691\n",
      "\u001b[32m[0215 12:30:13 @monitor.py:467]\u001b[0m GAN_loss/gen/klloss: 0.094504\n",
      "\u001b[32m[0215 12:30:13 @monitor.py:467]\u001b[0m GAN_loss/gen/loss: 0.97458\n",
      "\u001b[32m[0215 12:30:13 @monitor.py:467]\u001b[0m QueueInput/queue_size: 50\n",
      "\u001b[32m[0215 12:30:13 @base.py:275]\u001b[0m Start Epoch 780 ...\n"
     ]
    },
    {
     "name": "stderr",
     "output_type": "stream",
     "text": [
      "\n",
      "100%|#################################################################################|2000/2000[00:31<00:00,64.40it/s]"
     ]
    },
    {
     "name": "stdout",
     "output_type": "stream",
     "text": [
      "\u001b[32m[0215 12:30:44 @base.py:285]\u001b[0m Epoch 780 (global_step 1560000) finished, time:31.1 seconds.\n",
      "\u001b[32m[0215 12:30:44 @saver.py:79]\u001b[0m Model saved to ./output_TGAN/output/model\\model-1560000.\n",
      "\u001b[32m[0215 12:30:44 @monitor.py:467]\u001b[0m GAN_loss/discrim/accuracy_fake: 0.925\n",
      "\u001b[32m[0215 12:30:44 @monitor.py:467]\u001b[0m GAN_loss/discrim/accuracy_real: 0.14\n",
      "\u001b[32m[0215 12:30:44 @monitor.py:467]\u001b[0m GAN_loss/discrim/loss: 0.64358\n",
      "\u001b[32m[0215 12:30:44 @monitor.py:467]\u001b[0m GAN_loss/gen/final-g-loss: 1.0768\n",
      "\u001b[32m[0215 12:30:44 @monitor.py:467]\u001b[0m GAN_loss/gen/klloss: 0.074662\n",
      "\u001b[32m[0215 12:30:44 @monitor.py:467]\u001b[0m GAN_loss/gen/loss: 1.0022\n",
      "\u001b[32m[0215 12:30:44 @monitor.py:467]\u001b[0m QueueInput/queue_size: 50\n",
      "\u001b[32m[0215 12:30:44 @base.py:275]\u001b[0m Start Epoch 781 ...\n"
     ]
    },
    {
     "name": "stderr",
     "output_type": "stream",
     "text": [
      "\n",
      "100%|#################################################################################|2000/2000[00:31<00:00,64.47it/s]"
     ]
    },
    {
     "name": "stdout",
     "output_type": "stream",
     "text": [
      "\u001b[32m[0215 12:31:15 @base.py:285]\u001b[0m Epoch 781 (global_step 1562000) finished, time:31 seconds.\n",
      "\u001b[32m[0215 12:31:15 @saver.py:79]\u001b[0m Model saved to ./output_TGAN/output/model\\model-1562000.\n",
      "\u001b[32m[0215 12:31:15 @monitor.py:467]\u001b[0m GAN_loss/discrim/accuracy_fake: 0.91\n",
      "\u001b[32m[0215 12:31:15 @monitor.py:467]\u001b[0m GAN_loss/discrim/accuracy_real: 0.1\n",
      "\u001b[32m[0215 12:31:15 @monitor.py:467]\u001b[0m GAN_loss/discrim/loss: 0.65192\n",
      "\u001b[32m[0215 12:31:15 @monitor.py:467]\u001b[0m GAN_loss/gen/final-g-loss: 1.0559\n",
      "\u001b[32m[0215 12:31:15 @monitor.py:467]\u001b[0m GAN_loss/gen/klloss: 0.0596\n",
      "\u001b[32m[0215 12:31:15 @monitor.py:467]\u001b[0m GAN_loss/gen/loss: 0.99633\n",
      "\u001b[32m[0215 12:31:15 @monitor.py:467]\u001b[0m QueueInput/queue_size: 50\n",
      "\u001b[32m[0215 12:31:15 @base.py:275]\u001b[0m Start Epoch 782 ...\n"
     ]
    },
    {
     "name": "stderr",
     "output_type": "stream",
     "text": [
      "\n",
      "100%|#################################################################################|2000/2000[00:31<00:00,64.24it/s]"
     ]
    },
    {
     "name": "stdout",
     "output_type": "stream",
     "text": [
      "\u001b[32m[0215 12:31:46 @base.py:285]\u001b[0m Epoch 782 (global_step 1564000) finished, time:31.1 seconds.\n",
      "\u001b[32m[0215 12:31:46 @saver.py:79]\u001b[0m Model saved to ./output_TGAN/output/model\\model-1564000.\n",
      "\u001b[32m[0215 12:31:46 @monitor.py:467]\u001b[0m GAN_loss/discrim/accuracy_fake: 0.935\n",
      "\u001b[32m[0215 12:31:46 @monitor.py:467]\u001b[0m GAN_loss/discrim/accuracy_real: 0.12\n",
      "\u001b[32m[0215 12:31:46 @monitor.py:467]\u001b[0m GAN_loss/discrim/loss: 0.6505\n",
      "\u001b[32m[0215 12:31:46 @monitor.py:467]\u001b[0m GAN_loss/gen/final-g-loss: 1.1147\n",
      "\u001b[32m[0215 12:31:46 @monitor.py:467]\u001b[0m GAN_loss/gen/klloss: 0.1\n",
      "\u001b[32m[0215 12:31:46 @monitor.py:467]\u001b[0m GAN_loss/gen/loss: 1.0147\n",
      "\u001b[32m[0215 12:31:46 @monitor.py:467]\u001b[0m QueueInput/queue_size: 50\n",
      "\u001b[32m[0215 12:31:46 @base.py:275]\u001b[0m Start Epoch 783 ...\n"
     ]
    },
    {
     "name": "stderr",
     "output_type": "stream",
     "text": [
      "\n",
      "100%|#################################################################################|2000/2000[00:31<00:00,64.38it/s]"
     ]
    },
    {
     "name": "stdout",
     "output_type": "stream",
     "text": [
      "\u001b[32m[0215 12:32:17 @base.py:285]\u001b[0m Epoch 783 (global_step 1566000) finished, time:31.1 seconds.\n",
      "\u001b[32m[0215 12:32:17 @saver.py:79]\u001b[0m Model saved to ./output_TGAN/output/model\\model-1566000.\n",
      "\u001b[32m[0215 12:32:18 @monitor.py:467]\u001b[0m GAN_loss/discrim/accuracy_fake: 0.93\n",
      "\u001b[32m[0215 12:32:18 @monitor.py:467]\u001b[0m GAN_loss/discrim/accuracy_real: 0.12\n",
      "\u001b[32m[0215 12:32:18 @monitor.py:467]\u001b[0m GAN_loss/discrim/loss: 0.64599\n",
      "\u001b[32m[0215 12:32:18 @monitor.py:467]\u001b[0m GAN_loss/gen/final-g-loss: 1.1234\n",
      "\u001b[32m[0215 12:32:18 @monitor.py:467]\u001b[0m GAN_loss/gen/klloss: 0.12138\n",
      "\u001b[32m[0215 12:32:18 @monitor.py:467]\u001b[0m GAN_loss/gen/loss: 1.002\n",
      "\u001b[32m[0215 12:32:18 @monitor.py:467]\u001b[0m QueueInput/queue_size: 50\n",
      "\u001b[32m[0215 12:32:18 @base.py:275]\u001b[0m Start Epoch 784 ...\n"
     ]
    },
    {
     "name": "stderr",
     "output_type": "stream",
     "text": [
      "\n",
      "100%|#################################################################################|2000/2000[00:31<00:00,64.38it/s]"
     ]
    },
    {
     "name": "stdout",
     "output_type": "stream",
     "text": [
      "\u001b[32m[0215 12:32:49 @base.py:285]\u001b[0m Epoch 784 (global_step 1568000) finished, time:31.1 seconds.\n",
      "\u001b[32m[0215 12:32:49 @saver.py:79]\u001b[0m Model saved to ./output_TGAN/output/model\\model-1568000.\n",
      "\u001b[32m[0215 12:32:49 @monitor.py:467]\u001b[0m GAN_loss/discrim/accuracy_fake: 0.925\n",
      "\u001b[32m[0215 12:32:49 @monitor.py:467]\u001b[0m GAN_loss/discrim/accuracy_real: 0.125\n",
      "\u001b[32m[0215 12:32:49 @monitor.py:467]\u001b[0m GAN_loss/discrim/loss: 0.63903\n",
      "\u001b[32m[0215 12:32:49 @monitor.py:467]\u001b[0m GAN_loss/gen/final-g-loss: 1.1356\n",
      "\u001b[32m[0215 12:32:49 @monitor.py:467]\u001b[0m GAN_loss/gen/klloss: 0.1288\n",
      "\u001b[32m[0215 12:32:49 @monitor.py:467]\u001b[0m GAN_loss/gen/loss: 1.0068\n",
      "\u001b[32m[0215 12:32:49 @monitor.py:467]\u001b[0m QueueInput/queue_size: 50\n",
      "\u001b[32m[0215 12:32:49 @base.py:275]\u001b[0m Start Epoch 785 ...\n"
     ]
    },
    {
     "name": "stderr",
     "output_type": "stream",
     "text": [
      "\n",
      "100%|#################################################################################|2000/2000[00:31<00:00,63.27it/s]"
     ]
    },
    {
     "name": "stdout",
     "output_type": "stream",
     "text": [
      "\u001b[32m[0215 12:33:20 @base.py:285]\u001b[0m Epoch 785 (global_step 1570000) finished, time:31.6 seconds.\n",
      "\u001b[32m[0215 12:33:20 @saver.py:79]\u001b[0m Model saved to ./output_TGAN/output/model\\model-1570000.\n",
      "\u001b[32m[0215 12:33:21 @monitor.py:467]\u001b[0m GAN_loss/discrim/accuracy_fake: 0.945\n",
      "\u001b[32m[0215 12:33:21 @monitor.py:467]\u001b[0m GAN_loss/discrim/accuracy_real: 0.125\n",
      "\u001b[32m[0215 12:33:21 @monitor.py:467]\u001b[0m GAN_loss/discrim/loss: 0.64423\n",
      "\u001b[32m[0215 12:33:21 @monitor.py:467]\u001b[0m GAN_loss/gen/final-g-loss: 1.1513\n",
      "\u001b[32m[0215 12:33:21 @monitor.py:467]\u001b[0m GAN_loss/gen/klloss: 0.136\n",
      "\u001b[32m[0215 12:33:21 @monitor.py:467]\u001b[0m GAN_loss/gen/loss: 1.0153\n",
      "\u001b[32m[0215 12:33:21 @monitor.py:467]\u001b[0m QueueInput/queue_size: 50\n",
      "\u001b[32m[0215 12:33:21 @base.py:275]\u001b[0m Start Epoch 786 ...\n"
     ]
    },
    {
     "name": "stderr",
     "output_type": "stream",
     "text": [
      "\n",
      "100%|#################################################################################|2000/2000[00:32<00:00,61.42it/s]"
     ]
    },
    {
     "name": "stdout",
     "output_type": "stream",
     "text": [
      "\u001b[32m[0215 12:33:53 @base.py:285]\u001b[0m Epoch 786 (global_step 1572000) finished, time:32.6 seconds.\n",
      "\u001b[32m[0215 12:33:53 @saver.py:79]\u001b[0m Model saved to ./output_TGAN/output/model\\model-1572000.\n",
      "\u001b[32m[0215 12:33:53 @monitor.py:467]\u001b[0m GAN_loss/discrim/accuracy_fake: 0.93\n",
      "\u001b[32m[0215 12:33:53 @monitor.py:467]\u001b[0m GAN_loss/discrim/accuracy_real: 0.13\n",
      "\u001b[32m[0215 12:33:53 @monitor.py:467]\u001b[0m GAN_loss/discrim/loss: 0.64184\n",
      "\u001b[32m[0215 12:33:53 @monitor.py:467]\u001b[0m GAN_loss/gen/final-g-loss: 1.0857\n",
      "\u001b[32m[0215 12:33:53 @monitor.py:467]\u001b[0m GAN_loss/gen/klloss: 0.077798\n",
      "\u001b[32m[0215 12:33:53 @monitor.py:467]\u001b[0m GAN_loss/gen/loss: 1.0079\n",
      "\u001b[32m[0215 12:33:53 @monitor.py:467]\u001b[0m QueueInput/queue_size: 50\n",
      "\u001b[32m[0215 12:33:53 @base.py:275]\u001b[0m Start Epoch 787 ...\n"
     ]
    },
    {
     "name": "stderr",
     "output_type": "stream",
     "text": [
      "\n",
      "100%|#################################################################################|2000/2000[00:32<00:00,60.63it/s]"
     ]
    },
    {
     "name": "stdout",
     "output_type": "stream",
     "text": [
      "\u001b[32m[0215 12:34:26 @base.py:285]\u001b[0m Epoch 787 (global_step 1574000) finished, time:33 seconds.\n",
      "\u001b[32m[0215 12:34:26 @saver.py:79]\u001b[0m Model saved to ./output_TGAN/output/model\\model-1574000.\n",
      "\u001b[32m[0215 12:34:26 @monitor.py:467]\u001b[0m GAN_loss/discrim/accuracy_fake: 0.95\n"
     ]
    },
    {
     "name": "stderr",
     "output_type": "stream",
     "text": [
      "\n"
     ]
    },
    {
     "name": "stdout",
     "output_type": "stream",
     "text": [
      "\u001b[32m[0215 12:34:26 @monitor.py:467]\u001b[0m GAN_loss/discrim/accuracy_real: 0.115\n",
      "\u001b[32m[0215 12:34:26 @monitor.py:467]\u001b[0m GAN_loss/discrim/loss: 0.63481\n",
      "\u001b[32m[0215 12:34:26 @monitor.py:467]\u001b[0m GAN_loss/gen/final-g-loss: 1.1095\n",
      "\u001b[32m[0215 12:34:26 @monitor.py:467]\u001b[0m GAN_loss/gen/klloss: 0.092242\n",
      "\u001b[32m[0215 12:34:26 @monitor.py:467]\u001b[0m GAN_loss/gen/loss: 1.0173\n",
      "\u001b[32m[0215 12:34:26 @monitor.py:467]\u001b[0m QueueInput/queue_size: 50\n",
      "\u001b[32m[0215 12:34:26 @base.py:275]\u001b[0m Start Epoch 788 ...\n"
     ]
    },
    {
     "name": "stderr",
     "output_type": "stream",
     "text": [
      "100%|#################################################################################|2000/2000[00:33<00:00,59.27it/s]"
     ]
    },
    {
     "name": "stdout",
     "output_type": "stream",
     "text": [
      "\u001b[32m[0215 12:35:00 @base.py:285]\u001b[0m Epoch 788 (global_step 1576000) finished, time:33.7 seconds.\n",
      "\u001b[32m[0215 12:35:00 @saver.py:79]\u001b[0m Model saved to ./output_TGAN/output/model\\model-1576000.\n",
      "\u001b[32m[0215 12:35:00 @monitor.py:467]\u001b[0m GAN_loss/discrim/accuracy_fake: 0.885\n",
      "\u001b[32m[0215 12:35:00 @monitor.py:467]\u001b[0m GAN_loss/discrim/accuracy_real: 0.13\n",
      "\u001b[32m[0215 12:35:00 @monitor.py:467]\u001b[0m GAN_loss/discrim/loss: 0.65207\n",
      "\u001b[32m[0215 12:35:00 @monitor.py:467]\u001b[0m GAN_loss/gen/final-g-loss: 1.0494\n",
      "\u001b[32m[0215 12:35:00 @monitor.py:467]\u001b[0m GAN_loss/gen/klloss: 0.069794\n",
      "\u001b[32m[0215 12:35:00 @monitor.py:467]\u001b[0m GAN_loss/gen/loss: 0.97963\n",
      "\u001b[32m[0215 12:35:00 @monitor.py:467]\u001b[0m QueueInput/queue_size: 50\n",
      "\u001b[32m[0215 12:35:00 @base.py:275]\u001b[0m Start Epoch 789 ...\n"
     ]
    },
    {
     "name": "stderr",
     "output_type": "stream",
     "text": [
      "\n",
      "100%|#################################################################################|2000/2000[00:33<00:00,59.09it/s]"
     ]
    },
    {
     "name": "stdout",
     "output_type": "stream",
     "text": [
      "\u001b[32m[0215 12:35:34 @base.py:285]\u001b[0m Epoch 789 (global_step 1578000) finished, time:33.8 seconds.\n",
      "\u001b[32m[0215 12:35:34 @saver.py:79]\u001b[0m Model saved to ./output_TGAN/output/model\\model-1578000.\n",
      "\u001b[32m[0215 12:35:34 @monitor.py:467]\u001b[0m GAN_loss/discrim/accuracy_fake: 0.905\n",
      "\u001b[32m[0215 12:35:34 @monitor.py:467]\u001b[0m GAN_loss/discrim/accuracy_real: 0.125\n",
      "\u001b[32m[0215 12:35:34 @monitor.py:467]\u001b[0m GAN_loss/discrim/loss: 0.65833\n",
      "\u001b[32m[0215 12:35:34 @monitor.py:467]\u001b[0m GAN_loss/gen/final-g-loss: 1.1253\n",
      "\u001b[32m[0215 12:35:34 @monitor.py:467]\u001b[0m GAN_loss/gen/klloss: 0.1409\n",
      "\u001b[32m[0215 12:35:34 @monitor.py:467]\u001b[0m GAN_loss/gen/loss: 0.98438\n",
      "\u001b[32m[0215 12:35:34 @monitor.py:467]\u001b[0m QueueInput/queue_size: 50\n",
      "\u001b[32m[0215 12:35:34 @base.py:275]\u001b[0m Start Epoch 790 ...\n"
     ]
    },
    {
     "name": "stderr",
     "output_type": "stream",
     "text": [
      "\n",
      "100%|#################################################################################|2000/2000[00:31<00:00,63.82it/s]"
     ]
    },
    {
     "name": "stdout",
     "output_type": "stream",
     "text": [
      "\u001b[32m[0215 12:36:06 @base.py:285]\u001b[0m Epoch 790 (global_step 1580000) finished, time:31.3 seconds.\n",
      "\u001b[32m[0215 12:36:06 @saver.py:79]\u001b[0m Model saved to ./output_TGAN/output/model\\model-1580000.\n"
     ]
    },
    {
     "name": "stderr",
     "output_type": "stream",
     "text": [
      "\n"
     ]
    },
    {
     "name": "stdout",
     "output_type": "stream",
     "text": [
      "\u001b[32m[0215 12:36:06 @monitor.py:467]\u001b[0m GAN_loss/discrim/accuracy_fake: 0.92\n",
      "\u001b[32m[0215 12:36:06 @monitor.py:467]\u001b[0m GAN_loss/discrim/accuracy_real: 0.125\n",
      "\u001b[32m[0215 12:36:06 @monitor.py:467]\u001b[0m GAN_loss/discrim/loss: 0.64498\n",
      "\u001b[32m[0215 12:36:06 @monitor.py:467]\u001b[0m GAN_loss/gen/final-g-loss: 1.1257\n",
      "\u001b[32m[0215 12:36:06 @monitor.py:467]\u001b[0m GAN_loss/gen/klloss: 0.12948\n",
      "\u001b[32m[0215 12:36:06 @monitor.py:467]\u001b[0m GAN_loss/gen/loss: 0.9962\n",
      "\u001b[32m[0215 12:36:06 @monitor.py:467]\u001b[0m QueueInput/queue_size: 50\n",
      "\u001b[32m[0215 12:36:06 @base.py:275]\u001b[0m Start Epoch 791 ...\n"
     ]
    },
    {
     "name": "stderr",
     "output_type": "stream",
     "text": [
      "100%|#################################################################################|2000/2000[00:31<00:00,63.77it/s]"
     ]
    },
    {
     "name": "stdout",
     "output_type": "stream",
     "text": [
      "\u001b[32m[0215 12:36:37 @base.py:285]\u001b[0m Epoch 791 (global_step 1582000) finished, time:31.4 seconds.\n"
     ]
    },
    {
     "name": "stderr",
     "output_type": "stream",
     "text": [
      "\n"
     ]
    },
    {
     "name": "stdout",
     "output_type": "stream",
     "text": [
      "\u001b[32m[0215 12:36:37 @saver.py:79]\u001b[0m Model saved to ./output_TGAN/output/model\\model-1582000.\n",
      "\u001b[32m[0215 12:36:37 @monitor.py:467]\u001b[0m GAN_loss/discrim/accuracy_fake: 0.955\n",
      "\u001b[32m[0215 12:36:37 @monitor.py:467]\u001b[0m GAN_loss/discrim/accuracy_real: 0.12\n",
      "\u001b[32m[0215 12:36:37 @monitor.py:467]\u001b[0m GAN_loss/discrim/loss: 0.63419\n",
      "\u001b[32m[0215 12:36:37 @monitor.py:467]\u001b[0m GAN_loss/gen/final-g-loss: 1.1002\n",
      "\u001b[32m[0215 12:36:37 @monitor.py:467]\u001b[0m GAN_loss/gen/klloss: 0.080636\n",
      "\u001b[32m[0215 12:36:37 @monitor.py:467]\u001b[0m GAN_loss/gen/loss: 1.0195\n",
      "\u001b[32m[0215 12:36:37 @monitor.py:467]\u001b[0m QueueInput/queue_size: 50\n",
      "\u001b[32m[0215 12:36:37 @base.py:275]\u001b[0m Start Epoch 792 ...\n"
     ]
    },
    {
     "name": "stderr",
     "output_type": "stream",
     "text": [
      "100%|#################################################################################|2000/2000[00:31<00:00,63.72it/s]"
     ]
    },
    {
     "name": "stdout",
     "output_type": "stream",
     "text": [
      "\u001b[32m[0215 12:37:09 @base.py:285]\u001b[0m Epoch 792 (global_step 1584000) finished, time:31.4 seconds.\n"
     ]
    },
    {
     "name": "stderr",
     "output_type": "stream",
     "text": [
      "\n"
     ]
    },
    {
     "name": "stdout",
     "output_type": "stream",
     "text": [
      "\u001b[32m[0215 12:37:09 @saver.py:79]\u001b[0m Model saved to ./output_TGAN/output/model\\model-1584000.\n",
      "\u001b[32m[0215 12:37:09 @monitor.py:467]\u001b[0m GAN_loss/discrim/accuracy_fake: 0.915\n",
      "\u001b[32m[0215 12:37:09 @monitor.py:467]\u001b[0m GAN_loss/discrim/accuracy_real: 0.115\n",
      "\u001b[32m[0215 12:37:09 @monitor.py:467]\u001b[0m GAN_loss/discrim/loss: 0.64952\n",
      "\u001b[32m[0215 12:37:09 @monitor.py:467]\u001b[0m GAN_loss/gen/final-g-loss: 1.0946\n",
      "\u001b[32m[0215 12:37:09 @monitor.py:467]\u001b[0m GAN_loss/gen/klloss: 0.10637\n",
      "\u001b[32m[0215 12:37:09 @monitor.py:467]\u001b[0m GAN_loss/gen/loss: 0.98819\n",
      "\u001b[32m[0215 12:37:09 @monitor.py:467]\u001b[0m QueueInput/queue_size: 50\n",
      "\u001b[32m[0215 12:37:09 @base.py:275]\u001b[0m Start Epoch 793 ...\n"
     ]
    },
    {
     "name": "stderr",
     "output_type": "stream",
     "text": [
      "100%|#################################################################################|2000/2000[00:31<00:00,63.80it/s]"
     ]
    },
    {
     "name": "stdout",
     "output_type": "stream",
     "text": [
      "\u001b[32m[0215 12:37:40 @base.py:285]\u001b[0m Epoch 793 (global_step 1586000) finished, time:31.3 seconds.\n",
      "\u001b[32m[0215 12:37:40 @saver.py:79]\u001b[0m Model saved to ./output_TGAN/output/model\\model-1586000.\n",
      "\u001b[32m[0215 12:37:41 @monitor.py:467]\u001b[0m GAN_loss/discrim/accuracy_fake: 0.94\n",
      "\u001b[32m[0215 12:37:41 @monitor.py:467]\u001b[0m GAN_loss/discrim/accuracy_real: 0.095\n",
      "\u001b[32m[0215 12:37:41 @monitor.py:467]\u001b[0m GAN_loss/discrim/loss: 0.65483\n",
      "\u001b[32m[0215 12:37:41 @monitor.py:467]\u001b[0m GAN_loss/gen/final-g-loss: 1.112\n",
      "\u001b[32m[0215 12:37:41 @monitor.py:467]\u001b[0m GAN_loss/gen/klloss: 0.098853\n",
      "\u001b[32m[0215 12:37:41 @monitor.py:467]\u001b[0m GAN_loss/gen/loss: 1.0132\n",
      "\u001b[32m[0215 12:37:41 @monitor.py:467]\u001b[0m QueueInput/queue_size: 50\n",
      "\u001b[32m[0215 12:37:41 @base.py:275]\u001b[0m Start Epoch 794 ...\n"
     ]
    },
    {
     "name": "stderr",
     "output_type": "stream",
     "text": [
      "\n",
      "100%|#################################################################################|2000/2000[00:31<00:00,63.82it/s]"
     ]
    },
    {
     "name": "stdout",
     "output_type": "stream",
     "text": [
      "\u001b[32m[0215 12:38:12 @base.py:285]\u001b[0m Epoch 794 (global_step 1588000) finished, time:31.3 seconds.\n",
      "\u001b[32m[0215 12:38:12 @saver.py:79]\u001b[0m Model saved to ./output_TGAN/output/model\\model-1588000.\n",
      "\u001b[32m[0215 12:38:12 @monitor.py:467]\u001b[0m GAN_loss/discrim/accuracy_fake: 0.935\n"
     ]
    },
    {
     "name": "stderr",
     "output_type": "stream",
     "text": [
      "\n"
     ]
    },
    {
     "name": "stdout",
     "output_type": "stream",
     "text": [
      "\u001b[32m[0215 12:38:12 @monitor.py:467]\u001b[0m GAN_loss/discrim/accuracy_real: 0.1\n",
      "\u001b[32m[0215 12:38:12 @monitor.py:467]\u001b[0m GAN_loss/discrim/loss: 0.64118\n",
      "\u001b[32m[0215 12:38:12 @monitor.py:467]\u001b[0m GAN_loss/gen/final-g-loss: 1.0858\n",
      "\u001b[32m[0215 12:38:12 @monitor.py:467]\u001b[0m GAN_loss/gen/klloss: 0.07866\n",
      "\u001b[32m[0215 12:38:12 @monitor.py:467]\u001b[0m GAN_loss/gen/loss: 1.0072\n",
      "\u001b[32m[0215 12:38:12 @monitor.py:467]\u001b[0m QueueInput/queue_size: 50\n",
      "\u001b[32m[0215 12:38:12 @base.py:275]\u001b[0m Start Epoch 795 ...\n"
     ]
    },
    {
     "name": "stderr",
     "output_type": "stream",
     "text": [
      "100%|#################################################################################|2000/2000[00:31<00:00,63.83it/s]"
     ]
    },
    {
     "name": "stdout",
     "output_type": "stream",
     "text": [
      "\u001b[32m[0215 12:38:43 @base.py:285]\u001b[0m Epoch 795 (global_step 1590000) finished, time:31.3 seconds.\n",
      "\u001b[32m[0215 12:38:43 @saver.py:79]\u001b[0m Model saved to ./output_TGAN/output/model\\model-1590000.\n",
      "\u001b[32m[0215 12:38:44 @monitor.py:467]\u001b[0m GAN_loss/discrim/accuracy_fake: 0.93\n",
      "\u001b[32m[0215 12:38:44 @monitor.py:467]\u001b[0m GAN_loss/discrim/accuracy_real: 0.15\n",
      "\u001b[32m[0215 12:38:44 @monitor.py:467]\u001b[0m GAN_loss/discrim/loss: 0.65351\n",
      "\u001b[32m[0215 12:38:44 @monitor.py:467]\u001b[0m GAN_loss/gen/final-g-loss: 1.0697\n",
      "\u001b[32m[0215 12:38:44 @monitor.py:467]\u001b[0m GAN_loss/gen/klloss: 0.090737\n",
      "\u001b[32m[0215 12:38:44 @monitor.py:467]\u001b[0m GAN_loss/gen/loss: 0.97901\n",
      "\u001b[32m[0215 12:38:44 @monitor.py:467]\u001b[0m QueueInput/queue_size: 50\n",
      "\u001b[32m[0215 12:38:44 @base.py:275]\u001b[0m Start Epoch 796 ...\n"
     ]
    },
    {
     "name": "stderr",
     "output_type": "stream",
     "text": [
      "\n",
      "100%|#################################################################################|2000/2000[00:31<00:00,63.76it/s]"
     ]
    },
    {
     "name": "stdout",
     "output_type": "stream",
     "text": [
      "\u001b[32m[0215 12:39:15 @base.py:285]\u001b[0m Epoch 796 (global_step 1592000) finished, time:31.4 seconds.\n",
      "\u001b[32m[0215 12:39:15 @saver.py:79]\u001b[0m Model saved to ./output_TGAN/output/model\\model-1592000.\n"
     ]
    },
    {
     "name": "stderr",
     "output_type": "stream",
     "text": [
      "\n"
     ]
    },
    {
     "name": "stdout",
     "output_type": "stream",
     "text": [
      "\u001b[32m[0215 12:39:15 @monitor.py:467]\u001b[0m GAN_loss/discrim/accuracy_fake: 0.94\n",
      "\u001b[32m[0215 12:39:15 @monitor.py:467]\u001b[0m GAN_loss/discrim/accuracy_real: 0.1\n",
      "\u001b[32m[0215 12:39:15 @monitor.py:467]\u001b[0m GAN_loss/discrim/loss: 0.64245\n",
      "\u001b[32m[0215 12:39:15 @monitor.py:467]\u001b[0m GAN_loss/gen/final-g-loss: 1.1614\n",
      "\u001b[32m[0215 12:39:15 @monitor.py:467]\u001b[0m GAN_loss/gen/klloss: 0.13901\n",
      "\u001b[32m[0215 12:39:15 @monitor.py:467]\u001b[0m GAN_loss/gen/loss: 1.0224\n",
      "\u001b[32m[0215 12:39:15 @monitor.py:467]\u001b[0m QueueInput/queue_size: 50\n",
      "\u001b[32m[0215 12:39:15 @base.py:275]\u001b[0m Start Epoch 797 ...\n"
     ]
    },
    {
     "name": "stderr",
     "output_type": "stream",
     "text": [
      "100%|#################################################################################|2000/2000[00:31<00:00,63.80it/s]"
     ]
    },
    {
     "name": "stdout",
     "output_type": "stream",
     "text": [
      "\u001b[32m[0215 12:39:46 @base.py:285]\u001b[0m Epoch 797 (global_step 1594000) finished, time:31.3 seconds.\n",
      "\u001b[32m[0215 12:39:46 @saver.py:79]\u001b[0m Model saved to ./output_TGAN/output/model\\model-1594000.\n"
     ]
    },
    {
     "name": "stderr",
     "output_type": "stream",
     "text": [
      "\n"
     ]
    },
    {
     "name": "stdout",
     "output_type": "stream",
     "text": [
      "\u001b[32m[0215 12:39:47 @monitor.py:467]\u001b[0m GAN_loss/discrim/accuracy_fake: 0.91\n",
      "\u001b[32m[0215 12:39:47 @monitor.py:467]\u001b[0m GAN_loss/discrim/accuracy_real: 0.13\n",
      "\u001b[32m[0215 12:39:47 @monitor.py:467]\u001b[0m GAN_loss/discrim/loss: 0.64027\n",
      "\u001b[32m[0215 12:39:47 @monitor.py:467]\u001b[0m GAN_loss/gen/final-g-loss: 1.0953\n",
      "\u001b[32m[0215 12:39:47 @monitor.py:467]\u001b[0m GAN_loss/gen/klloss: 0.090063\n",
      "\u001b[32m[0215 12:39:47 @monitor.py:467]\u001b[0m GAN_loss/gen/loss: 1.0052\n",
      "\u001b[32m[0215 12:39:47 @monitor.py:467]\u001b[0m QueueInput/queue_size: 50\n",
      "\u001b[32m[0215 12:39:47 @base.py:275]\u001b[0m Start Epoch 798 ...\n"
     ]
    },
    {
     "name": "stderr",
     "output_type": "stream",
     "text": [
      "100%|#################################################################################|2000/2000[00:31<00:00,63.82it/s]"
     ]
    },
    {
     "name": "stdout",
     "output_type": "stream",
     "text": [
      "\u001b[32m[0215 12:40:18 @base.py:285]\u001b[0m Epoch 798 (global_step 1596000) finished, time:31.3 seconds.\n",
      "\u001b[32m[0215 12:40:18 @saver.py:79]\u001b[0m Model saved to ./output_TGAN/output/model\\model-1596000.\n",
      "\u001b[32m[0215 12:40:18 @monitor.py:467]\u001b[0m GAN_loss/discrim/accuracy_fake: 0.95\n",
      "\u001b[32m[0215 12:40:18 @monitor.py:467]\u001b[0m GAN_loss/discrim/accuracy_real: 0.135\n",
      "\u001b[32m[0215 12:40:18 @monitor.py:467]\u001b[0m GAN_loss/discrim/loss: 0.65558\n",
      "\u001b[32m[0215 12:40:18 @monitor.py:467]\u001b[0m GAN_loss/gen/final-g-loss: 1.0894\n",
      "\u001b[32m[0215 12:40:18 @monitor.py:467]\u001b[0m GAN_loss/gen/klloss: 0.092108\n",
      "\u001b[32m[0215 12:40:18 @monitor.py:467]\u001b[0m GAN_loss/gen/loss: 0.99729\n",
      "\u001b[32m[0215 12:40:18 @monitor.py:467]\u001b[0m QueueInput/queue_size: 50\n",
      "\u001b[32m[0215 12:40:18 @base.py:275]\u001b[0m Start Epoch 799 ...\n"
     ]
    },
    {
     "name": "stderr",
     "output_type": "stream",
     "text": [
      "\n",
      "100%|#################################################################################|2000/2000[00:31<00:00,63.81it/s]"
     ]
    },
    {
     "name": "stdout",
     "output_type": "stream",
     "text": [
      "\u001b[32m[0215 12:40:49 @base.py:285]\u001b[0m Epoch 799 (global_step 1598000) finished, time:31.3 seconds.\n",
      "\u001b[32m[0215 12:40:50 @saver.py:79]\u001b[0m Model saved to ./output_TGAN/output/model\\model-1598000.\n",
      "\u001b[32m[0215 12:40:50 @monitor.py:467]\u001b[0m GAN_loss/discrim/accuracy_fake: 0.935\n",
      "\u001b[32m[0215 12:40:50 @monitor.py:467]\u001b[0m GAN_loss/discrim/accuracy_real: 0.165\n",
      "\u001b[32m[0215 12:40:50 @monitor.py:467]\u001b[0m GAN_loss/discrim/loss: 0.63594\n",
      "\u001b[32m[0215 12:40:50 @monitor.py:467]\u001b[0m GAN_loss/gen/final-g-loss: 1.1329\n",
      "\u001b[32m[0215 12:40:50 @monitor.py:467]\u001b[0m GAN_loss/gen/klloss: 0.11703\n",
      "\u001b[32m[0215 12:40:50 @monitor.py:467]\u001b[0m GAN_loss/gen/loss: 1.0159\n",
      "\u001b[32m[0215 12:40:50 @monitor.py:467]\u001b[0m QueueInput/queue_size: 50\n",
      "\u001b[32m[0215 12:40:50 @base.py:275]\u001b[0m Start Epoch 800 ...\n"
     ]
    },
    {
     "name": "stderr",
     "output_type": "stream",
     "text": [
      "\n",
      "100%|#################################################################################|2000/2000[00:31<00:00,63.84it/s]"
     ]
    },
    {
     "name": "stdout",
     "output_type": "stream",
     "text": [
      "\u001b[32m[0215 12:41:21 @base.py:285]\u001b[0m Epoch 800 (global_step 1600000) finished, time:31.3 seconds.\n",
      "\u001b[32m[0215 12:41:21 @saver.py:79]\u001b[0m Model saved to ./output_TGAN/output/model\\model-1600000.\n",
      "\u001b[32m[0215 12:41:21 @monitor.py:467]\u001b[0m GAN_loss/discrim/accuracy_fake: 0.935\n",
      "\u001b[32m[0215 12:41:21 @monitor.py:467]\u001b[0m GAN_loss/discrim/accuracy_real: 0.12\n",
      "\u001b[32m[0215 12:41:21 @monitor.py:467]\u001b[0m GAN_loss/discrim/loss: 0.64529\n",
      "\u001b[32m[0215 12:41:21 @monitor.py:467]\u001b[0m GAN_loss/gen/final-g-loss: 1.1365\n",
      "\u001b[32m[0215 12:41:21 @monitor.py:467]\u001b[0m GAN_loss/gen/klloss: 0.13069\n",
      "\u001b[32m[0215 12:41:21 @monitor.py:467]\u001b[0m GAN_loss/gen/loss: 1.0058\n",
      "\u001b[32m[0215 12:41:21 @monitor.py:467]\u001b[0m QueueInput/queue_size: 50\n",
      "\u001b[32m[0215 12:41:21 @base.py:275]\u001b[0m Start Epoch 801 ...\n"
     ]
    },
    {
     "name": "stderr",
     "output_type": "stream",
     "text": [
      "\n",
      "100%|#################################################################################|2000/2000[00:31<00:00,63.80it/s]"
     ]
    },
    {
     "name": "stdout",
     "output_type": "stream",
     "text": [
      "\u001b[32m[0215 12:41:52 @base.py:285]\u001b[0m Epoch 801 (global_step 1602000) finished, time:31.3 seconds.\n",
      "\u001b[32m[0215 12:41:53 @saver.py:79]\u001b[0m Model saved to ./output_TGAN/output/model\\model-1602000.\n"
     ]
    },
    {
     "name": "stderr",
     "output_type": "stream",
     "text": [
      "\n"
     ]
    },
    {
     "name": "stdout",
     "output_type": "stream",
     "text": [
      "\u001b[32m[0215 12:41:53 @monitor.py:467]\u001b[0m GAN_loss/discrim/accuracy_fake: 0.945\n",
      "\u001b[32m[0215 12:41:53 @monitor.py:467]\u001b[0m GAN_loss/discrim/accuracy_real: 0.095\n",
      "\u001b[32m[0215 12:41:53 @monitor.py:467]\u001b[0m GAN_loss/discrim/loss: 0.65181\n",
      "\u001b[32m[0215 12:41:53 @monitor.py:467]\u001b[0m GAN_loss/gen/final-g-loss: 1.1121\n",
      "\u001b[32m[0215 12:41:53 @monitor.py:467]\u001b[0m GAN_loss/gen/klloss: 0.11396\n",
      "\u001b[32m[0215 12:41:53 @monitor.py:467]\u001b[0m GAN_loss/gen/loss: 0.99815\n",
      "\u001b[32m[0215 12:41:53 @monitor.py:467]\u001b[0m QueueInput/queue_size: 50\n",
      "\u001b[32m[0215 12:41:53 @base.py:275]\u001b[0m Start Epoch 802 ...\n"
     ]
    },
    {
     "name": "stderr",
     "output_type": "stream",
     "text": [
      "100%|#################################################################################|2000/2000[00:31<00:00,63.83it/s]"
     ]
    },
    {
     "name": "stdout",
     "output_type": "stream",
     "text": [
      "\u001b[32m[0215 12:42:24 @base.py:285]\u001b[0m Epoch 802 (global_step 1604000) finished, time:31.3 seconds.\n",
      "\u001b[32m[0215 12:42:24 @saver.py:79]\u001b[0m Model saved to ./output_TGAN/output/model\\model-1604000.\n",
      "\u001b[32m[0215 12:42:24 @monitor.py:467]\u001b[0m GAN_loss/discrim/accuracy_fake: 0.945\n",
      "\u001b[32m[0215 12:42:24 @monitor.py:467]\u001b[0m GAN_loss/discrim/accuracy_real: 0.12\n",
      "\u001b[32m[0215 12:42:24 @monitor.py:467]\u001b[0m GAN_loss/discrim/loss: 0.65033\n",
      "\u001b[32m[0215 12:42:24 @monitor.py:467]\u001b[0m GAN_loss/gen/final-g-loss: 1.0755\n",
      "\u001b[32m[0215 12:42:24 @monitor.py:467]\u001b[0m GAN_loss/gen/klloss: 0.072852\n",
      "\u001b[32m[0215 12:42:24 @monitor.py:467]\u001b[0m GAN_loss/gen/loss: 1.0027\n",
      "\u001b[32m[0215 12:42:24 @monitor.py:467]\u001b[0m QueueInput/queue_size: 50\n",
      "\u001b[32m[0215 12:42:24 @base.py:275]\u001b[0m Start Epoch 803 ...\n"
     ]
    },
    {
     "name": "stderr",
     "output_type": "stream",
     "text": [
      "\n",
      "100%|#################################################################################|2000/2000[00:32<00:00,61.02it/s]"
     ]
    },
    {
     "name": "stdout",
     "output_type": "stream",
     "text": [
      "\u001b[32m[0215 12:42:57 @base.py:285]\u001b[0m Epoch 803 (global_step 1606000) finished, time:32.8 seconds.\n",
      "\u001b[32m[0215 12:42:57 @saver.py:79]\u001b[0m Model saved to ./output_TGAN/output/model\\model-1606000.\n",
      "\u001b[32m[0215 12:42:57 @monitor.py:467]\u001b[0m GAN_loss/discrim/accuracy_fake: 0.945\n",
      "\u001b[32m[0215 12:42:57 @monitor.py:467]\u001b[0m GAN_loss/discrim/accuracy_real: 0.14\n",
      "\u001b[32m[0215 12:42:57 @monitor.py:467]\u001b[0m GAN_loss/discrim/loss: 0.64497\n",
      "\u001b[32m[0215 12:42:57 @monitor.py:467]\u001b[0m GAN_loss/gen/final-g-loss: 1.1176\n",
      "\u001b[32m[0215 12:42:57 @monitor.py:467]\u001b[0m GAN_loss/gen/klloss: 0.10959\n",
      "\u001b[32m[0215 12:42:57 @monitor.py:467]\u001b[0m GAN_loss/gen/loss: 1.008\n"
     ]
    },
    {
     "name": "stderr",
     "output_type": "stream",
     "text": [
      "\n"
     ]
    },
    {
     "name": "stdout",
     "output_type": "stream",
     "text": [
      "\u001b[32m[0215 12:42:57 @monitor.py:467]\u001b[0m QueueInput/queue_size: 50\n",
      "\u001b[32m[0215 12:42:57 @base.py:275]\u001b[0m Start Epoch 804 ...\n"
     ]
    },
    {
     "name": "stderr",
     "output_type": "stream",
     "text": [
      "100%|#################################################################################|2000/2000[00:31<00:00,62.57it/s]"
     ]
    },
    {
     "name": "stdout",
     "output_type": "stream",
     "text": [
      "\u001b[32m[0215 12:43:29 @base.py:285]\u001b[0m Epoch 804 (global_step 1608000) finished, time:32 seconds.\n",
      "\u001b[32m[0215 12:43:29 @saver.py:79]\u001b[0m Model saved to ./output_TGAN/output/model\\model-1608000.\n",
      "\u001b[32m[0215 12:43:29 @monitor.py:467]\u001b[0m GAN_loss/discrim/accuracy_fake: 0.955\n",
      "\u001b[32m[0215 12:43:29 @monitor.py:467]\u001b[0m GAN_loss/discrim/accuracy_real: 0.12\n",
      "\u001b[32m[0215 12:43:29 @monitor.py:467]\u001b[0m GAN_loss/discrim/loss: 0.64147\n",
      "\u001b[32m[0215 12:43:29 @monitor.py:467]\u001b[0m GAN_loss/gen/final-g-loss: 1.1196\n",
      "\u001b[32m[0215 12:43:29 @monitor.py:467]\u001b[0m GAN_loss/gen/klloss: 0.11113\n",
      "\u001b[32m[0215 12:43:29 @monitor.py:467]\u001b[0m GAN_loss/gen/loss: 1.0085\n",
      "\u001b[32m[0215 12:43:29 @monitor.py:467]\u001b[0m QueueInput/queue_size: 50\n",
      "\u001b[32m[0215 12:43:29 @base.py:275]\u001b[0m Start Epoch 805 ...\n"
     ]
    },
    {
     "name": "stderr",
     "output_type": "stream",
     "text": [
      "\n",
      "100%|#################################################################################|2000/2000[00:31<00:00,63.59it/s]"
     ]
    },
    {
     "name": "stdout",
     "output_type": "stream",
     "text": [
      "\u001b[32m[0215 12:44:01 @base.py:285]\u001b[0m Epoch 805 (global_step 1610000) finished, time:31.5 seconds.\n",
      "\u001b[32m[0215 12:44:01 @saver.py:79]\u001b[0m Model saved to ./output_TGAN/output/model\\model-1610000.\n",
      "\u001b[32m[0215 12:44:01 @monitor.py:467]\u001b[0m GAN_loss/discrim/accuracy_fake: 0.955\n",
      "\u001b[32m[0215 12:44:01 @monitor.py:467]\u001b[0m GAN_loss/discrim/accuracy_real: 0.115\n",
      "\u001b[32m[0215 12:44:01 @monitor.py:467]\u001b[0m GAN_loss/discrim/loss: 0.64664\n",
      "\u001b[32m[0215 12:44:01 @monitor.py:467]\u001b[0m GAN_loss/gen/final-g-loss: 1.0828\n",
      "\u001b[32m[0215 12:44:01 @monitor.py:467]\u001b[0m GAN_loss/gen/klloss: 0.094925\n",
      "\u001b[32m[0215 12:44:01 @monitor.py:467]\u001b[0m GAN_loss/gen/loss: 0.98785\n",
      "\u001b[32m[0215 12:44:01 @monitor.py:467]\u001b[0m QueueInput/queue_size: 50\n",
      "\u001b[32m[0215 12:44:01 @base.py:275]\u001b[0m Start Epoch 806 ...\n"
     ]
    },
    {
     "name": "stderr",
     "output_type": "stream",
     "text": [
      "\n",
      "100%|#################################################################################|2000/2000[00:31<00:00,63.68it/s]"
     ]
    },
    {
     "name": "stdout",
     "output_type": "stream",
     "text": [
      "\u001b[32m[0215 12:44:32 @base.py:285]\u001b[0m Epoch 806 (global_step 1612000) finished, time:31.4 seconds.\n",
      "\u001b[32m[0215 12:44:32 @saver.py:79]\u001b[0m Model saved to ./output_TGAN/output/model\\model-1612000.\n",
      "\u001b[32m[0215 12:44:32 @monitor.py:467]\u001b[0m GAN_loss/discrim/accuracy_fake: 0.94\n",
      "\u001b[32m[0215 12:44:32 @monitor.py:467]\u001b[0m GAN_loss/discrim/accuracy_real: 0.095\n",
      "\u001b[32m[0215 12:44:32 @monitor.py:467]\u001b[0m GAN_loss/discrim/loss: 0.64259\n",
      "\u001b[32m[0215 12:44:32 @monitor.py:467]\u001b[0m GAN_loss/gen/final-g-loss: 1.1291\n"
     ]
    },
    {
     "name": "stderr",
     "output_type": "stream",
     "text": [
      "\n"
     ]
    },
    {
     "name": "stdout",
     "output_type": "stream",
     "text": [
      "\u001b[32m[0215 12:44:32 @monitor.py:467]\u001b[0m GAN_loss/gen/klloss: 0.12264\n",
      "\u001b[32m[0215 12:44:32 @monitor.py:467]\u001b[0m GAN_loss/gen/loss: 1.0064\n",
      "\u001b[32m[0215 12:44:32 @monitor.py:467]\u001b[0m QueueInput/queue_size: 50\n",
      "\u001b[32m[0215 12:44:32 @base.py:275]\u001b[0m Start Epoch 807 ...\n"
     ]
    },
    {
     "name": "stderr",
     "output_type": "stream",
     "text": [
      "100%|#################################################################################|2000/2000[00:31<00:00,63.68it/s]"
     ]
    },
    {
     "name": "stdout",
     "output_type": "stream",
     "text": [
      "\u001b[32m[0215 12:45:04 @base.py:285]\u001b[0m Epoch 807 (global_step 1614000) finished, time:31.4 seconds.\n",
      "\u001b[32m[0215 12:45:04 @saver.py:79]\u001b[0m Model saved to ./output_TGAN/output/model\\model-1614000.\n",
      "\u001b[32m[0215 12:45:04 @monitor.py:467]\u001b[0m GAN_loss/discrim/accuracy_fake: 0.92\n",
      "\u001b[32m[0215 12:45:04 @monitor.py:467]\u001b[0m GAN_loss/discrim/accuracy_real: 0.135\n",
      "\u001b[32m[0215 12:45:04 @monitor.py:467]\u001b[0m GAN_loss/discrim/loss: 0.63497\n",
      "\u001b[32m[0215 12:45:04 @monitor.py:467]\u001b[0m GAN_loss/gen/final-g-loss: 1.1405\n",
      "\u001b[32m[0215 12:45:04 @monitor.py:467]\u001b[0m GAN_loss/gen/klloss: 0.12875\n",
      "\u001b[32m[0215 12:45:04 @monitor.py:467]\u001b[0m GAN_loss/gen/loss: 1.0117\n",
      "\u001b[32m[0215 12:45:04 @monitor.py:467]\u001b[0m QueueInput/queue_size: 50\n",
      "\u001b[32m[0215 12:45:04 @base.py:275]\u001b[0m Start Epoch 808 ...\n"
     ]
    },
    {
     "name": "stderr",
     "output_type": "stream",
     "text": [
      "\n",
      "100%|#################################################################################|2000/2000[00:31<00:00,63.67it/s]"
     ]
    },
    {
     "name": "stdout",
     "output_type": "stream",
     "text": [
      "\u001b[32m[0215 12:45:35 @base.py:285]\u001b[0m Epoch 808 (global_step 1616000) finished, time:31.4 seconds.\n",
      "\u001b[32m[0215 12:45:36 @saver.py:79]\u001b[0m Model saved to ./output_TGAN/output/model\\model-1616000.\n",
      "\u001b[32m[0215 12:45:36 @monitor.py:467]\u001b[0m GAN_loss/discrim/accuracy_fake: 0.96\n",
      "\u001b[32m[0215 12:45:36 @monitor.py:467]\u001b[0m GAN_loss/discrim/accuracy_real: 0.105\n",
      "\u001b[32m[0215 12:45:36 @monitor.py:467]\u001b[0m GAN_loss/discrim/loss: 0.64261\n",
      "\u001b[32m[0215 12:45:36 @monitor.py:467]\u001b[0m GAN_loss/gen/final-g-loss: 1.1173\n",
      "\u001b[32m[0215 12:45:36 @monitor.py:467]\u001b[0m GAN_loss/gen/klloss: 0.11202\n",
      "\u001b[32m[0215 12:45:36 @monitor.py:467]\u001b[0m GAN_loss/gen/loss: 1.0053\n",
      "\u001b[32m[0215 12:45:36 @monitor.py:467]\u001b[0m QueueInput/queue_size: 50\n",
      "\u001b[32m[0215 12:45:36 @base.py:275]\u001b[0m Start Epoch 809 ...\n"
     ]
    },
    {
     "name": "stderr",
     "output_type": "stream",
     "text": [
      "\n",
      "100%|#################################################################################|2000/2000[00:31<00:00,63.70it/s]"
     ]
    },
    {
     "name": "stdout",
     "output_type": "stream",
     "text": [
      "\u001b[32m[0215 12:46:07 @base.py:285]\u001b[0m Epoch 809 (global_step 1618000) finished, time:31.4 seconds.\n",
      "\u001b[32m[0215 12:46:07 @saver.py:79]\u001b[0m Model saved to ./output_TGAN/output/model\\model-1618000.\n",
      "\u001b[32m[0215 12:46:07 @monitor.py:467]\u001b[0m GAN_loss/discrim/accuracy_fake: 0.955\n",
      "\u001b[32m[0215 12:46:07 @monitor.py:467]\u001b[0m GAN_loss/discrim/accuracy_real: 0.15\n",
      "\u001b[32m[0215 12:46:07 @monitor.py:467]\u001b[0m GAN_loss/discrim/loss: 0.63647\n",
      "\u001b[32m[0215 12:46:07 @monitor.py:467]\u001b[0m GAN_loss/gen/final-g-loss: 1.1189\n",
      "\u001b[32m[0215 12:46:07 @monitor.py:467]\u001b[0m GAN_loss/gen/klloss: 0.093791\n"
     ]
    },
    {
     "name": "stderr",
     "output_type": "stream",
     "text": [
      "\n"
     ]
    },
    {
     "name": "stdout",
     "output_type": "stream",
     "text": [
      "\u001b[32m[0215 12:46:07 @monitor.py:467]\u001b[0m GAN_loss/gen/loss: 1.0251\n",
      "\u001b[32m[0215 12:46:07 @monitor.py:467]\u001b[0m QueueInput/queue_size: 50\n",
      "\u001b[32m[0215 12:46:07 @base.py:275]\u001b[0m Start Epoch 810 ...\n"
     ]
    },
    {
     "name": "stderr",
     "output_type": "stream",
     "text": [
      "100%|#################################################################################|2000/2000[00:31<00:00,63.68it/s]"
     ]
    },
    {
     "name": "stdout",
     "output_type": "stream",
     "text": [
      "\u001b[32m[0215 12:46:39 @base.py:285]\u001b[0m Epoch 810 (global_step 1620000) finished, time:31.4 seconds.\n",
      "\u001b[32m[0215 12:46:39 @saver.py:79]\u001b[0m Model saved to ./output_TGAN/output/model\\model-1620000.\n",
      "\u001b[32m[0215 12:46:39 @monitor.py:467]\u001b[0m GAN_loss/discrim/accuracy_fake: 0.915\n",
      "\u001b[32m[0215 12:46:39 @monitor.py:467]\u001b[0m GAN_loss/discrim/accuracy_real: 0.135\n",
      "\u001b[32m[0215 12:46:39 @monitor.py:467]\u001b[0m GAN_loss/discrim/loss: 0.63844\n",
      "\u001b[32m[0215 12:46:39 @monitor.py:467]\u001b[0m GAN_loss/gen/final-g-loss: 1.1129\n",
      "\u001b[32m[0215 12:46:39 @monitor.py:467]\u001b[0m GAN_loss/gen/klloss: 0.10408\n",
      "\u001b[32m[0215 12:46:39 @monitor.py:467]\u001b[0m GAN_loss/gen/loss: 1.0088\n",
      "\u001b[32m[0215 12:46:39 @monitor.py:467]\u001b[0m QueueInput/queue_size: 50\n",
      "\u001b[32m[0215 12:46:39 @base.py:275]\u001b[0m Start Epoch 811 ...\n"
     ]
    },
    {
     "name": "stderr",
     "output_type": "stream",
     "text": [
      "\n",
      "100%|#################################################################################|2000/2000[00:31<00:00,63.73it/s]"
     ]
    },
    {
     "name": "stdout",
     "output_type": "stream",
     "text": [
      "\u001b[32m[0215 12:47:10 @base.py:285]\u001b[0m Epoch 811 (global_step 1622000) finished, time:31.4 seconds.\n",
      "\u001b[32m[0215 12:47:10 @saver.py:79]\u001b[0m Model saved to ./output_TGAN/output/model\\model-1622000.\n",
      "\u001b[32m[0215 12:47:10 @monitor.py:467]\u001b[0m GAN_loss/discrim/accuracy_fake: 0.92\n",
      "\u001b[32m[0215 12:47:10 @monitor.py:467]\u001b[0m GAN_loss/discrim/accuracy_real: 0.125\n",
      "\u001b[32m[0215 12:47:10 @monitor.py:467]\u001b[0m GAN_loss/discrim/loss: 0.64118\n",
      "\u001b[32m[0215 12:47:10 @monitor.py:467]\u001b[0m GAN_loss/gen/final-g-loss: 1.1005\n",
      "\u001b[32m[0215 12:47:10 @monitor.py:467]\u001b[0m GAN_loss/gen/klloss: 0.093039\n",
      "\u001b[32m[0215 12:47:10 @monitor.py:467]\u001b[0m GAN_loss/gen/loss: 1.0075\n",
      "\u001b[32m[0215 12:47:10 @monitor.py:467]\u001b[0m QueueInput/queue_size: 50\n",
      "\u001b[32m[0215 12:47:10 @base.py:275]\u001b[0m Start Epoch 812 ...\n"
     ]
    },
    {
     "name": "stderr",
     "output_type": "stream",
     "text": [
      "\n",
      "100%|#################################################################################|2000/2000[00:31<00:00,63.65it/s]"
     ]
    },
    {
     "name": "stdout",
     "output_type": "stream",
     "text": [
      "\u001b[32m[0215 12:47:42 @base.py:285]\u001b[0m Epoch 812 (global_step 1624000) finished, time:31.4 seconds.\n",
      "\u001b[32m[0215 12:47:42 @saver.py:79]\u001b[0m Model saved to ./output_TGAN/output/model\\model-1624000.\n",
      "\u001b[32m[0215 12:47:42 @monitor.py:467]\u001b[0m GAN_loss/discrim/accuracy_fake: 0.94\n",
      "\u001b[32m[0215 12:47:42 @monitor.py:467]\u001b[0m GAN_loss/discrim/accuracy_real: 0.155\n",
      "\u001b[32m[0215 12:47:42 @monitor.py:467]\u001b[0m GAN_loss/discrim/loss: 0.64485\n",
      "\u001b[32m[0215 12:47:42 @monitor.py:467]\u001b[0m GAN_loss/gen/final-g-loss: 1.089\n",
      "\u001b[32m[0215 12:47:42 @monitor.py:467]\u001b[0m GAN_loss/gen/klloss: 0.071159\n",
      "\u001b[32m[0215 12:47:42 @monitor.py:467]\u001b[0m GAN_loss/gen/loss: 1.0178\n",
      "\u001b[32m[0215 12:47:42 @monitor.py:467]\u001b[0m QueueInput/queue_size: 50\n",
      "\u001b[32m[0215 12:47:42 @base.py:275]\u001b[0m Start Epoch 813 ...\n"
     ]
    },
    {
     "name": "stderr",
     "output_type": "stream",
     "text": [
      "\n",
      "100%|#################################################################################|2000/2000[00:31<00:00,63.60it/s]"
     ]
    },
    {
     "name": "stdout",
     "output_type": "stream",
     "text": [
      "\u001b[32m[0215 12:48:13 @base.py:285]\u001b[0m Epoch 813 (global_step 1626000) finished, time:31.4 seconds.\n",
      "\u001b[32m[0215 12:48:13 @saver.py:79]\u001b[0m Model saved to ./output_TGAN/output/model\\model-1626000.\n",
      "\u001b[32m[0215 12:48:14 @monitor.py:467]\u001b[0m GAN_loss/discrim/accuracy_fake: 0.975\n",
      "\u001b[32m[0215 12:48:14 @monitor.py:467]\u001b[0m GAN_loss/discrim/accuracy_real: 0.11\n",
      "\u001b[32m[0215 12:48:14 @monitor.py:467]\u001b[0m GAN_loss/discrim/loss: 0.64864\n",
      "\u001b[32m[0215 12:48:14 @monitor.py:467]\u001b[0m GAN_loss/gen/final-g-loss: 1.1019\n",
      "\u001b[32m[0215 12:48:14 @monitor.py:467]\u001b[0m GAN_loss/gen/klloss: 0.098934\n",
      "\u001b[32m[0215 12:48:14 @monitor.py:467]\u001b[0m GAN_loss/gen/loss: 1.003\n",
      "\u001b[32m[0215 12:48:14 @monitor.py:467]\u001b[0m QueueInput/queue_size: 50\n",
      "\u001b[32m[0215 12:48:14 @base.py:275]\u001b[0m Start Epoch 814 ...\n"
     ]
    },
    {
     "name": "stderr",
     "output_type": "stream",
     "text": [
      "\n",
      "100%|#################################################################################|2000/2000[00:31<00:00,63.07it/s]"
     ]
    },
    {
     "name": "stdout",
     "output_type": "stream",
     "text": [
      "\u001b[32m[0215 12:48:45 @base.py:285]\u001b[0m Epoch 814 (global_step 1628000) finished, time:31.7 seconds.\n",
      "\u001b[32m[0215 12:48:45 @saver.py:79]\u001b[0m Model saved to ./output_TGAN/output/model\\model-1628000.\n",
      "\u001b[32m[0215 12:48:45 @monitor.py:467]\u001b[0m GAN_loss/discrim/accuracy_fake: 0.895\n",
      "\u001b[32m[0215 12:48:45 @monitor.py:467]\u001b[0m GAN_loss/discrim/accuracy_real: 0.1\n",
      "\u001b[32m[0215 12:48:45 @monitor.py:467]\u001b[0m GAN_loss/discrim/loss: 0.64533\n"
     ]
    },
    {
     "name": "stderr",
     "output_type": "stream",
     "text": [
      "\n"
     ]
    },
    {
     "name": "stdout",
     "output_type": "stream",
     "text": [
      "\u001b[32m[0215 12:48:45 @monitor.py:467]\u001b[0m GAN_loss/gen/final-g-loss: 1.0813\n",
      "\u001b[32m[0215 12:48:45 @monitor.py:467]\u001b[0m GAN_loss/gen/klloss: 0.087056\n",
      "\u001b[32m[0215 12:48:45 @monitor.py:467]\u001b[0m GAN_loss/gen/loss: 0.99427\n",
      "\u001b[32m[0215 12:48:45 @monitor.py:467]\u001b[0m QueueInput/queue_size: 50\n",
      "\u001b[32m[0215 12:48:45 @base.py:275]\u001b[0m Start Epoch 815 ...\n"
     ]
    },
    {
     "name": "stderr",
     "output_type": "stream",
     "text": [
      "100%|#################################################################################|2000/2000[00:31<00:00,63.67it/s]"
     ]
    },
    {
     "name": "stdout",
     "output_type": "stream",
     "text": [
      "\u001b[32m[0215 12:49:17 @base.py:285]\u001b[0m Epoch 815 (global_step 1630000) finished, time:31.4 seconds.\n",
      "\u001b[32m[0215 12:49:17 @saver.py:79]\u001b[0m Model saved to ./output_TGAN/output/model\\model-1630000.\n",
      "\u001b[32m[0215 12:49:17 @monitor.py:467]\u001b[0m GAN_loss/discrim/accuracy_fake: 0.945\n",
      "\u001b[32m[0215 12:49:17 @monitor.py:467]\u001b[0m GAN_loss/discrim/accuracy_real: 0.135\n",
      "\u001b[32m[0215 12:49:17 @monitor.py:467]\u001b[0m GAN_loss/discrim/loss: 0.64445\n",
      "\u001b[32m[0215 12:49:17 @monitor.py:467]\u001b[0m GAN_loss/gen/final-g-loss: 1.1112\n",
      "\u001b[32m[0215 12:49:17 @monitor.py:467]\u001b[0m GAN_loss/gen/klloss: 0.088693\n",
      "\u001b[32m[0215 12:49:17 @monitor.py:467]\u001b[0m GAN_loss/gen/loss: 1.0225\n",
      "\u001b[32m[0215 12:49:17 @monitor.py:467]\u001b[0m QueueInput/queue_size: 50\n",
      "\u001b[32m[0215 12:49:17 @base.py:275]\u001b[0m Start Epoch 816 ...\n"
     ]
    },
    {
     "name": "stderr",
     "output_type": "stream",
     "text": [
      "\n",
      "100%|#################################################################################|2000/2000[00:31<00:00,63.79it/s]"
     ]
    },
    {
     "name": "stdout",
     "output_type": "stream",
     "text": [
      "\u001b[32m[0215 12:49:48 @base.py:285]\u001b[0m Epoch 816 (global_step 1632000) finished, time:31.4 seconds.\n",
      "\u001b[32m[0215 12:49:48 @saver.py:79]\u001b[0m Model saved to ./output_TGAN/output/model\\model-1632000.\n"
     ]
    },
    {
     "name": "stderr",
     "output_type": "stream",
     "text": [
      "\n"
     ]
    },
    {
     "name": "stdout",
     "output_type": "stream",
     "text": [
      "\u001b[32m[0215 12:49:49 @monitor.py:467]\u001b[0m GAN_loss/discrim/accuracy_fake: 0.935\n",
      "\u001b[32m[0215 12:49:49 @monitor.py:467]\u001b[0m GAN_loss/discrim/accuracy_real: 0.115\n",
      "\u001b[32m[0215 12:49:49 @monitor.py:467]\u001b[0m GAN_loss/discrim/loss: 0.64188\n",
      "\u001b[32m[0215 12:49:49 @monitor.py:467]\u001b[0m GAN_loss/gen/final-g-loss: 1.1163\n",
      "\u001b[32m[0215 12:49:49 @monitor.py:467]\u001b[0m GAN_loss/gen/klloss: 0.10153\n",
      "\u001b[32m[0215 12:49:49 @monitor.py:467]\u001b[0m GAN_loss/gen/loss: 1.0148\n",
      "\u001b[32m[0215 12:49:49 @monitor.py:467]\u001b[0m QueueInput/queue_size: 50\n",
      "\u001b[32m[0215 12:49:49 @base.py:275]\u001b[0m Start Epoch 817 ...\n"
     ]
    },
    {
     "name": "stderr",
     "output_type": "stream",
     "text": [
      "100%|#################################################################################|2000/2000[00:31<00:00,63.51it/s]"
     ]
    },
    {
     "name": "stdout",
     "output_type": "stream",
     "text": [
      "\u001b[32m[0215 12:50:20 @base.py:285]\u001b[0m Epoch 817 (global_step 1634000) finished, time:31.5 seconds.\n"
     ]
    },
    {
     "name": "stderr",
     "output_type": "stream",
     "text": [
      "\n"
     ]
    },
    {
     "name": "stdout",
     "output_type": "stream",
     "text": [
      "\u001b[32m[0215 12:50:20 @saver.py:79]\u001b[0m Model saved to ./output_TGAN/output/model\\model-1634000.\n",
      "\u001b[32m[0215 12:50:20 @monitor.py:467]\u001b[0m GAN_loss/discrim/accuracy_fake: 0.95\n",
      "\u001b[32m[0215 12:50:20 @monitor.py:467]\u001b[0m GAN_loss/discrim/accuracy_real: 0.12\n",
      "\u001b[32m[0215 12:50:20 @monitor.py:467]\u001b[0m GAN_loss/discrim/loss: 0.64435\n",
      "\u001b[32m[0215 12:50:20 @monitor.py:467]\u001b[0m GAN_loss/gen/final-g-loss: 1.0849\n",
      "\u001b[32m[0215 12:50:20 @monitor.py:467]\u001b[0m GAN_loss/gen/klloss: 0.080245\n",
      "\u001b[32m[0215 12:50:20 @monitor.py:467]\u001b[0m GAN_loss/gen/loss: 1.0046\n",
      "\u001b[32m[0215 12:50:20 @monitor.py:467]\u001b[0m QueueInput/queue_size: 50\n",
      "\u001b[32m[0215 12:50:20 @base.py:275]\u001b[0m Start Epoch 818 ...\n"
     ]
    },
    {
     "name": "stderr",
     "output_type": "stream",
     "text": [
      "100%|#################################################################################|2000/2000[00:32<00:00,61.05it/s]"
     ]
    },
    {
     "name": "stdout",
     "output_type": "stream",
     "text": [
      "\u001b[32m[0215 12:50:53 @base.py:285]\u001b[0m Epoch 818 (global_step 1636000) finished, time:32.8 seconds.\n",
      "\u001b[32m[0215 12:50:53 @saver.py:79]\u001b[0m Model saved to ./output_TGAN/output/model\\model-1636000.\n"
     ]
    },
    {
     "name": "stderr",
     "output_type": "stream",
     "text": [
      "\n"
     ]
    },
    {
     "name": "stdout",
     "output_type": "stream",
     "text": [
      "\u001b[32m[0215 12:50:53 @monitor.py:467]\u001b[0m GAN_loss/discrim/accuracy_fake: 0.95\n",
      "\u001b[32m[0215 12:50:53 @monitor.py:467]\u001b[0m GAN_loss/discrim/accuracy_real: 0.095\n",
      "\u001b[32m[0215 12:50:53 @monitor.py:467]\u001b[0m GAN_loss/discrim/loss: 0.64907\n",
      "\u001b[32m[0215 12:50:53 @monitor.py:467]\u001b[0m GAN_loss/gen/final-g-loss: 1.1002\n",
      "\u001b[32m[0215 12:50:53 @monitor.py:467]\u001b[0m GAN_loss/gen/klloss: 0.073535\n",
      "\u001b[32m[0215 12:50:53 @monitor.py:467]\u001b[0m GAN_loss/gen/loss: 1.0266\n",
      "\u001b[32m[0215 12:50:53 @monitor.py:467]\u001b[0m QueueInput/queue_size: 50\n",
      "\u001b[32m[0215 12:50:53 @base.py:275]\u001b[0m Start Epoch 819 ...\n"
     ]
    },
    {
     "name": "stderr",
     "output_type": "stream",
     "text": [
      "100%|#################################################################################|2000/2000[00:32<00:00,61.04it/s]"
     ]
    },
    {
     "name": "stdout",
     "output_type": "stream",
     "text": [
      "\u001b[32m[0215 12:51:26 @base.py:285]\u001b[0m Epoch 819 (global_step 1638000) finished, time:32.8 seconds.\n"
     ]
    },
    {
     "name": "stderr",
     "output_type": "stream",
     "text": [
      "\n"
     ]
    },
    {
     "name": "stdout",
     "output_type": "stream",
     "text": [
      "\u001b[32m[0215 12:51:26 @saver.py:79]\u001b[0m Model saved to ./output_TGAN/output/model\\model-1638000.\n",
      "\u001b[32m[0215 12:51:26 @monitor.py:467]\u001b[0m GAN_loss/discrim/accuracy_fake: 0.935\n",
      "\u001b[32m[0215 12:51:26 @monitor.py:467]\u001b[0m GAN_loss/discrim/accuracy_real: 0.08\n",
      "\u001b[32m[0215 12:51:26 @monitor.py:467]\u001b[0m GAN_loss/discrim/loss: 0.65105\n",
      "\u001b[32m[0215 12:51:26 @monitor.py:467]\u001b[0m GAN_loss/gen/final-g-loss: 1.1207\n",
      "\u001b[32m[0215 12:51:26 @monitor.py:467]\u001b[0m GAN_loss/gen/klloss: 0.10778\n",
      "\u001b[32m[0215 12:51:26 @monitor.py:467]\u001b[0m GAN_loss/gen/loss: 1.0129\n",
      "\u001b[32m[0215 12:51:26 @monitor.py:467]\u001b[0m QueueInput/queue_size: 50\n",
      "\u001b[32m[0215 12:51:26 @base.py:275]\u001b[0m Start Epoch 820 ...\n"
     ]
    },
    {
     "name": "stderr",
     "output_type": "stream",
     "text": [
      "100%|#################################################################################|2000/2000[00:33<00:00,60.39it/s]"
     ]
    },
    {
     "name": "stdout",
     "output_type": "stream",
     "text": [
      "\u001b[32m[0215 12:51:59 @base.py:285]\u001b[0m Epoch 820 (global_step 1640000) finished, time:33.1 seconds.\n",
      "\u001b[32m[0215 12:51:59 @saver.py:79]\u001b[0m Model saved to ./output_TGAN/output/model\\model-1640000.\n",
      "\u001b[32m[0215 12:51:59 @monitor.py:467]\u001b[0m GAN_loss/discrim/accuracy_fake: 0.965\n",
      "\u001b[32m[0215 12:51:59 @monitor.py:467]\u001b[0m GAN_loss/discrim/accuracy_real: 0.12\n",
      "\u001b[32m[0215 12:51:59 @monitor.py:467]\u001b[0m GAN_loss/discrim/loss: 0.64905\n",
      "\u001b[32m[0215 12:51:59 @monitor.py:467]\u001b[0m GAN_loss/gen/final-g-loss: 1.103\n",
      "\u001b[32m[0215 12:51:59 @monitor.py:467]\u001b[0m GAN_loss/gen/klloss: 0.091324\n"
     ]
    },
    {
     "name": "stderr",
     "output_type": "stream",
     "text": [
      "\n"
     ]
    },
    {
     "name": "stdout",
     "output_type": "stream",
     "text": [
      "\u001b[32m[0215 12:51:59 @monitor.py:467]\u001b[0m GAN_loss/gen/loss: 1.0117\n",
      "\u001b[32m[0215 12:51:59 @monitor.py:467]\u001b[0m QueueInput/queue_size: 50\n",
      "\u001b[32m[0215 12:51:59 @base.py:275]\u001b[0m Start Epoch 821 ...\n"
     ]
    },
    {
     "name": "stderr",
     "output_type": "stream",
     "text": [
      "100%|#################################################################################|2000/2000[00:32<00:00,60.91it/s]"
     ]
    },
    {
     "name": "stdout",
     "output_type": "stream",
     "text": [
      "\u001b[32m[0215 12:52:32 @base.py:285]\u001b[0m Epoch 821 (global_step 1642000) finished, time:32.8 seconds.\n",
      "\u001b[32m[0215 12:52:32 @saver.py:79]\u001b[0m Model saved to ./output_TGAN/output/model\\model-1642000.\n"
     ]
    },
    {
     "name": "stderr",
     "output_type": "stream",
     "text": [
      "\n"
     ]
    },
    {
     "name": "stdout",
     "output_type": "stream",
     "text": [
      "\u001b[32m[0215 12:52:32 @monitor.py:467]\u001b[0m GAN_loss/discrim/accuracy_fake: 0.935\n",
      "\u001b[32m[0215 12:52:32 @monitor.py:467]\u001b[0m GAN_loss/discrim/accuracy_real: 0.1\n",
      "\u001b[32m[0215 12:52:32 @monitor.py:467]\u001b[0m GAN_loss/discrim/loss: 0.65889\n",
      "\u001b[32m[0215 12:52:32 @monitor.py:467]\u001b[0m GAN_loss/gen/final-g-loss: 1.126\n",
      "\u001b[32m[0215 12:52:32 @monitor.py:467]\u001b[0m GAN_loss/gen/klloss: 0.12321\n",
      "\u001b[32m[0215 12:52:32 @monitor.py:467]\u001b[0m GAN_loss/gen/loss: 1.0028\n",
      "\u001b[32m[0215 12:52:32 @monitor.py:467]\u001b[0m QueueInput/queue_size: 50\n",
      "\u001b[32m[0215 12:52:32 @base.py:275]\u001b[0m Start Epoch 822 ...\n"
     ]
    },
    {
     "name": "stderr",
     "output_type": "stream",
     "text": [
      "100%|#################################################################################|2000/2000[00:32<00:00,61.08it/s]"
     ]
    },
    {
     "name": "stdout",
     "output_type": "stream",
     "text": [
      "\u001b[32m[0215 12:53:05 @base.py:285]\u001b[0m Epoch 822 (global_step 1644000) finished, time:32.7 seconds.\n",
      "\u001b[32m[0215 12:53:05 @saver.py:79]\u001b[0m Model saved to ./output_TGAN/output/model\\model-1644000.\n",
      "\u001b[32m[0215 12:53:05 @monitor.py:467]\u001b[0m GAN_loss/discrim/accuracy_fake: 0.935\n",
      "\u001b[32m[0215 12:53:05 @monitor.py:467]\u001b[0m GAN_loss/discrim/accuracy_real: 0.115\n",
      "\u001b[32m[0215 12:53:05 @monitor.py:467]\u001b[0m GAN_loss/discrim/loss: 0.64782\n",
      "\u001b[32m[0215 12:53:05 @monitor.py:467]\u001b[0m GAN_loss/gen/final-g-loss: 1.134\n",
      "\u001b[32m[0215 12:53:05 @monitor.py:467]\u001b[0m GAN_loss/gen/klloss: 0.12527\n",
      "\u001b[32m[0215 12:53:05 @monitor.py:467]\u001b[0m GAN_loss/gen/loss: 1.0087\n",
      "\u001b[32m[0215 12:53:05 @monitor.py:467]\u001b[0m QueueInput/queue_size: 50\n",
      "\u001b[32m[0215 12:53:05 @base.py:275]\u001b[0m Start Epoch 823 ...\n"
     ]
    },
    {
     "name": "stderr",
     "output_type": "stream",
     "text": [
      "\n",
      "100%|#################################################################################|2000/2000[00:32<00:00,61.05it/s]"
     ]
    },
    {
     "name": "stdout",
     "output_type": "stream",
     "text": [
      "\u001b[32m[0215 12:53:38 @base.py:285]\u001b[0m Epoch 823 (global_step 1646000) finished, time:32.8 seconds.\n",
      "\u001b[32m[0215 12:53:38 @saver.py:79]\u001b[0m Model saved to ./output_TGAN/output/model\\model-1646000.\n",
      "\u001b[32m[0215 12:53:38 @monitor.py:467]\u001b[0m GAN_loss/discrim/accuracy_fake: 0.935\n",
      "\u001b[32m[0215 12:53:38 @monitor.py:467]\u001b[0m GAN_loss/discrim/accuracy_real: 0.125\n",
      "\u001b[32m[0215 12:53:38 @monitor.py:467]\u001b[0m GAN_loss/discrim/loss: 0.6494\n",
      "\u001b[32m[0215 12:53:38 @monitor.py:467]\u001b[0m GAN_loss/gen/final-g-loss: 1.1047\n",
      "\u001b[32m[0215 12:53:38 @monitor.py:467]\u001b[0m GAN_loss/gen/klloss: 0.10353\n",
      "\u001b[32m[0215 12:53:38 @monitor.py:467]\u001b[0m GAN_loss/gen/loss: 1.0011\n",
      "\u001b[32m[0215 12:53:38 @monitor.py:467]\u001b[0m QueueInput/queue_size: 50\n",
      "\u001b[32m[0215 12:53:38 @base.py:275]\u001b[0m Start Epoch 824 ...\n"
     ]
    },
    {
     "name": "stderr",
     "output_type": "stream",
     "text": [
      "\n",
      "100%|#################################################################################|2000/2000[00:32<00:00,60.88it/s]"
     ]
    },
    {
     "name": "stdout",
     "output_type": "stream",
     "text": [
      "\u001b[32m[0215 12:54:11 @base.py:285]\u001b[0m Epoch 824 (global_step 1648000) finished, time:32.9 seconds.\n",
      "\u001b[32m[0215 12:54:11 @saver.py:79]\u001b[0m Model saved to ./output_TGAN/output/model\\model-1648000.\n",
      "\u001b[32m[0215 12:54:11 @monitor.py:467]\u001b[0m GAN_loss/discrim/accuracy_fake: 0.905\n",
      "\u001b[32m[0215 12:54:11 @monitor.py:467]\u001b[0m GAN_loss/discrim/accuracy_real: 0.08\n",
      "\u001b[32m[0215 12:54:11 @monitor.py:467]\u001b[0m GAN_loss/discrim/loss: 0.64889\n",
      "\u001b[32m[0215 12:54:11 @monitor.py:467]\u001b[0m GAN_loss/gen/final-g-loss: 1.1285\n",
      "\u001b[32m[0215 12:54:11 @monitor.py:467]\u001b[0m GAN_loss/gen/klloss: 0.13406\n",
      "\u001b[32m[0215 12:54:11 @monitor.py:467]\u001b[0m GAN_loss/gen/loss: 0.99447\n",
      "\u001b[32m[0215 12:54:11 @monitor.py:467]\u001b[0m QueueInput/queue_size: 50\n",
      "\u001b[32m[0215 12:54:11 @base.py:275]\u001b[0m Start Epoch 825 ...\n"
     ]
    },
    {
     "name": "stderr",
     "output_type": "stream",
     "text": [
      "\n",
      "100%|#################################################################################|2000/2000[00:32<00:00,61.09it/s]"
     ]
    },
    {
     "name": "stdout",
     "output_type": "stream",
     "text": [
      "\u001b[32m[0215 12:54:44 @base.py:285]\u001b[0m Epoch 825 (global_step 1650000) finished, time:32.7 seconds.\n",
      "\u001b[32m[0215 12:54:44 @saver.py:79]\u001b[0m Model saved to ./output_TGAN/output/model\\model-1650000.\n",
      "\u001b[32m[0215 12:54:44 @monitor.py:467]\u001b[0m GAN_loss/discrim/accuracy_fake: 0.915\n",
      "\u001b[32m[0215 12:54:44 @monitor.py:467]\u001b[0m GAN_loss/discrim/accuracy_real: 0.13\n",
      "\u001b[32m[0215 12:54:44 @monitor.py:467]\u001b[0m GAN_loss/discrim/loss: 0.64915\n",
      "\u001b[32m[0215 12:54:44 @monitor.py:467]\u001b[0m GAN_loss/gen/final-g-loss: 1.094\n",
      "\u001b[32m[0215 12:54:44 @monitor.py:467]\u001b[0m GAN_loss/gen/klloss: 0.090838\n",
      "\u001b[32m[0215 12:54:44 @monitor.py:467]\u001b[0m GAN_loss/gen/loss: 1.0032\n",
      "\u001b[32m[0215 12:54:44 @monitor.py:467]\u001b[0m QueueInput/queue_size: 50\n",
      "\u001b[32m[0215 12:54:44 @base.py:275]\u001b[0m Start Epoch 826 ...\n"
     ]
    },
    {
     "name": "stderr",
     "output_type": "stream",
     "text": [
      "\n",
      "100%|#################################################################################|2000/2000[00:32<00:00,60.91it/s]"
     ]
    },
    {
     "name": "stdout",
     "output_type": "stream",
     "text": [
      "\u001b[32m[0215 12:55:17 @base.py:285]\u001b[0m Epoch 826 (global_step 1652000) finished, time:32.8 seconds.\n",
      "\u001b[32m[0215 12:55:17 @saver.py:79]\u001b[0m Model saved to ./output_TGAN/output/model\\model-1652000.\n",
      "\u001b[32m[0215 12:55:17 @monitor.py:467]\u001b[0m GAN_loss/discrim/accuracy_fake: 0.925\n",
      "\u001b[32m[0215 12:55:17 @monitor.py:467]\u001b[0m GAN_loss/discrim/accuracy_real: 0.09\n",
      "\u001b[32m[0215 12:55:17 @monitor.py:467]\u001b[0m GAN_loss/discrim/loss: 0.64837\n",
      "\u001b[32m[0215 12:55:17 @monitor.py:467]\u001b[0m GAN_loss/gen/final-g-loss: 1.1324\n",
      "\u001b[32m[0215 12:55:17 @monitor.py:467]\u001b[0m GAN_loss/gen/klloss: 0.11595\n",
      "\u001b[32m[0215 12:55:17 @monitor.py:467]\u001b[0m GAN_loss/gen/loss: 1.0164\n",
      "\u001b[32m[0215 12:55:17 @monitor.py:467]\u001b[0m QueueInput/queue_size: 50\n",
      "\u001b[32m[0215 12:55:17 @base.py:275]\u001b[0m Start Epoch 827 ...\n"
     ]
    },
    {
     "name": "stderr",
     "output_type": "stream",
     "text": [
      "\n",
      "100%|#################################################################################|2000/2000[00:32<00:00,60.95it/s]"
     ]
    },
    {
     "name": "stdout",
     "output_type": "stream",
     "text": [
      "\u001b[32m[0215 12:55:50 @base.py:285]\u001b[0m Epoch 827 (global_step 1654000) finished, time:32.8 seconds.\n",
      "\u001b[32m[0215 12:55:50 @saver.py:79]\u001b[0m Model saved to ./output_TGAN/output/model\\model-1654000.\n"
     ]
    },
    {
     "name": "stderr",
     "output_type": "stream",
     "text": [
      "\n"
     ]
    },
    {
     "name": "stdout",
     "output_type": "stream",
     "text": [
      "\u001b[32m[0215 12:55:50 @monitor.py:467]\u001b[0m GAN_loss/discrim/accuracy_fake: 0.92\n",
      "\u001b[32m[0215 12:55:50 @monitor.py:467]\u001b[0m GAN_loss/discrim/accuracy_real: 0.13\n",
      "\u001b[32m[0215 12:55:50 @monitor.py:467]\u001b[0m GAN_loss/discrim/loss: 0.65012\n",
      "\u001b[32m[0215 12:55:50 @monitor.py:467]\u001b[0m GAN_loss/gen/final-g-loss: 1.1023\n",
      "\u001b[32m[0215 12:55:50 @monitor.py:467]\u001b[0m GAN_loss/gen/klloss: 0.093236\n",
      "\u001b[32m[0215 12:55:50 @monitor.py:467]\u001b[0m GAN_loss/gen/loss: 1.009\n",
      "\u001b[32m[0215 12:55:50 @monitor.py:467]\u001b[0m QueueInput/queue_size: 50\n",
      "\u001b[32m[0215 12:55:50 @base.py:275]\u001b[0m Start Epoch 828 ...\n"
     ]
    },
    {
     "name": "stderr",
     "output_type": "stream",
     "text": [
      "100%|#################################################################################|2000/2000[00:32<00:00,61.09it/s]"
     ]
    },
    {
     "name": "stdout",
     "output_type": "stream",
     "text": [
      "\u001b[32m[0215 12:56:23 @base.py:285]\u001b[0m Epoch 828 (global_step 1656000) finished, time:32.7 seconds.\n",
      "\u001b[32m[0215 12:56:23 @saver.py:79]\u001b[0m Model saved to ./output_TGAN/output/model\\model-1656000.\n",
      "\u001b[32m[0215 12:56:23 @monitor.py:467]\u001b[0m GAN_loss/discrim/accuracy_fake: 0.91\n",
      "\u001b[32m[0215 12:56:23 @monitor.py:467]\u001b[0m GAN_loss/discrim/accuracy_real: 0.125\n",
      "\u001b[32m[0215 12:56:23 @monitor.py:467]\u001b[0m GAN_loss/discrim/loss: 0.64553\n",
      "\u001b[32m[0215 12:56:23 @monitor.py:467]\u001b[0m GAN_loss/gen/final-g-loss: 1.0891\n",
      "\u001b[32m[0215 12:56:23 @monitor.py:467]\u001b[0m GAN_loss/gen/klloss: 0.07936\n",
      "\u001b[32m[0215 12:56:23 @monitor.py:467]\u001b[0m GAN_loss/gen/loss: 1.0097\n",
      "\u001b[32m[0215 12:56:23 @monitor.py:467]\u001b[0m QueueInput/queue_size: 50\n",
      "\u001b[32m[0215 12:56:23 @base.py:275]\u001b[0m Start Epoch 829 ...\n"
     ]
    },
    {
     "name": "stderr",
     "output_type": "stream",
     "text": [
      "\n",
      "100%|#################################################################################|2000/2000[00:32<00:00,60.87it/s]"
     ]
    },
    {
     "name": "stdout",
     "output_type": "stream",
     "text": [
      "\u001b[32m[0215 12:56:56 @base.py:285]\u001b[0m Epoch 829 (global_step 1658000) finished, time:32.9 seconds.\n",
      "\u001b[32m[0215 12:56:56 @saver.py:79]\u001b[0m Model saved to ./output_TGAN/output/model\\model-1658000.\n"
     ]
    },
    {
     "name": "stderr",
     "output_type": "stream",
     "text": [
      "\n"
     ]
    },
    {
     "name": "stdout",
     "output_type": "stream",
     "text": [
      "\u001b[32m[0215 12:56:56 @monitor.py:467]\u001b[0m GAN_loss/discrim/accuracy_fake: 0.95\n",
      "\u001b[32m[0215 12:56:56 @monitor.py:467]\u001b[0m GAN_loss/discrim/accuracy_real: 0.135\n",
      "\u001b[32m[0215 12:56:56 @monitor.py:467]\u001b[0m GAN_loss/discrim/loss: 0.63609\n",
      "\u001b[32m[0215 12:56:56 @monitor.py:467]\u001b[0m GAN_loss/gen/final-g-loss: 1.1335\n",
      "\u001b[32m[0215 12:56:56 @monitor.py:467]\u001b[0m GAN_loss/gen/klloss: 0.1195\n",
      "\u001b[32m[0215 12:56:56 @monitor.py:467]\u001b[0m GAN_loss/gen/loss: 1.014\n",
      "\u001b[32m[0215 12:56:56 @monitor.py:467]\u001b[0m QueueInput/queue_size: 50\n",
      "\u001b[32m[0215 12:56:56 @base.py:275]\u001b[0m Start Epoch 830 ...\n"
     ]
    },
    {
     "name": "stderr",
     "output_type": "stream",
     "text": [
      "100%|#################################################################################|2000/2000[00:32<00:00,60.92it/s]"
     ]
    },
    {
     "name": "stdout",
     "output_type": "stream",
     "text": [
      "\u001b[32m[0215 12:57:29 @base.py:285]\u001b[0m Epoch 830 (global_step 1660000) finished, time:32.8 seconds.\n",
      "\u001b[32m[0215 12:57:29 @saver.py:79]\u001b[0m Model saved to ./output_TGAN/output/model\\model-1660000.\n",
      "\u001b[32m[0215 12:57:29 @monitor.py:467]\u001b[0m GAN_loss/discrim/accuracy_fake: 0.965\n"
     ]
    },
    {
     "name": "stderr",
     "output_type": "stream",
     "text": [
      "\n"
     ]
    },
    {
     "name": "stdout",
     "output_type": "stream",
     "text": [
      "\u001b[32m[0215 12:57:29 @monitor.py:467]\u001b[0m GAN_loss/discrim/accuracy_real: 0.07\n",
      "\u001b[32m[0215 12:57:29 @monitor.py:467]\u001b[0m GAN_loss/discrim/loss: 0.64509\n",
      "\u001b[32m[0215 12:57:29 @monitor.py:467]\u001b[0m GAN_loss/gen/final-g-loss: 1.1412\n",
      "\u001b[32m[0215 12:57:29 @monitor.py:467]\u001b[0m GAN_loss/gen/klloss: 0.1161\n",
      "\u001b[32m[0215 12:57:29 @monitor.py:467]\u001b[0m GAN_loss/gen/loss: 1.0251\n",
      "\u001b[32m[0215 12:57:29 @monitor.py:467]\u001b[0m QueueInput/queue_size: 50\n",
      "\u001b[32m[0215 12:57:29 @base.py:275]\u001b[0m Start Epoch 831 ...\n"
     ]
    },
    {
     "name": "stderr",
     "output_type": "stream",
     "text": [
      "100%|#################################################################################|2000/2000[00:32<00:00,61.01it/s]"
     ]
    },
    {
     "name": "stdout",
     "output_type": "stream",
     "text": [
      "\u001b[32m[0215 12:58:02 @base.py:285]\u001b[0m Epoch 831 (global_step 1662000) finished, time:32.8 seconds.\n",
      "\u001b[32m[0215 12:58:02 @saver.py:79]\u001b[0m Model saved to ./output_TGAN/output/model\\model-1662000.\n",
      "\u001b[32m[0215 12:58:02 @monitor.py:467]\u001b[0m GAN_loss/discrim/accuracy_fake: 0.915\n",
      "\u001b[32m[0215 12:58:02 @monitor.py:467]\u001b[0m GAN_loss/discrim/accuracy_real: 0.165\n",
      "\u001b[32m[0215 12:58:02 @monitor.py:467]\u001b[0m GAN_loss/discrim/loss: 0.64754\n",
      "\u001b[32m[0215 12:58:02 @monitor.py:467]\u001b[0m GAN_loss/gen/final-g-loss: 1.1442\n",
      "\u001b[32m[0215 12:58:02 @monitor.py:467]\u001b[0m GAN_loss/gen/klloss: 0.13695\n",
      "\u001b[32m[0215 12:58:02 @monitor.py:467]\u001b[0m GAN_loss/gen/loss: 1.0073\n",
      "\u001b[32m[0215 12:58:02 @monitor.py:467]\u001b[0m QueueInput/queue_size: 50\n",
      "\u001b[32m[0215 12:58:02 @base.py:275]\u001b[0m Start Epoch 832 ...\n"
     ]
    },
    {
     "name": "stderr",
     "output_type": "stream",
     "text": [
      "\n",
      "100%|#################################################################################|2000/2000[00:32<00:00,60.85it/s]"
     ]
    },
    {
     "name": "stdout",
     "output_type": "stream",
     "text": [
      "\u001b[32m[0215 12:58:35 @base.py:285]\u001b[0m Epoch 832 (global_step 1664000) finished, time:32.9 seconds.\n",
      "\u001b[32m[0215 12:58:35 @saver.py:79]\u001b[0m Model saved to ./output_TGAN/output/model\\model-1664000.\n",
      "\u001b[32m[0215 12:58:35 @monitor.py:467]\u001b[0m GAN_loss/discrim/accuracy_fake: 0.945\n",
      "\u001b[32m[0215 12:58:35 @monitor.py:467]\u001b[0m GAN_loss/discrim/accuracy_real: 0.14\n",
      "\u001b[32m[0215 12:58:35 @monitor.py:467]\u001b[0m GAN_loss/discrim/loss: 0.64914\n",
      "\u001b[32m[0215 12:58:35 @monitor.py:467]\u001b[0m GAN_loss/gen/final-g-loss: 1.1176\n",
      "\u001b[32m[0215 12:58:35 @monitor.py:467]\u001b[0m GAN_loss/gen/klloss: 0.11983\n",
      "\u001b[32m[0215 12:58:35 @monitor.py:467]\u001b[0m GAN_loss/gen/loss: 0.99782\n",
      "\u001b[32m[0215 12:58:35 @monitor.py:467]\u001b[0m QueueInput/queue_size: 50\n",
      "\u001b[32m[0215 12:58:35 @base.py:275]\u001b[0m Start Epoch 833 ...\n"
     ]
    },
    {
     "name": "stderr",
     "output_type": "stream",
     "text": [
      "\n",
      "100%|#################################################################################|2000/2000[00:32<00:00,60.84it/s]"
     ]
    },
    {
     "name": "stdout",
     "output_type": "stream",
     "text": [
      "\u001b[32m[0215 12:59:08 @base.py:285]\u001b[0m Epoch 833 (global_step 1666000) finished, time:32.9 seconds.\n",
      "\u001b[32m[0215 12:59:08 @saver.py:79]\u001b[0m Model saved to ./output_TGAN/output/model\\model-1666000.\n"
     ]
    },
    {
     "name": "stderr",
     "output_type": "stream",
     "text": [
      "\n"
     ]
    },
    {
     "name": "stdout",
     "output_type": "stream",
     "text": [
      "\u001b[32m[0215 12:59:08 @monitor.py:467]\u001b[0m GAN_loss/discrim/accuracy_fake: 0.965\n",
      "\u001b[32m[0215 12:59:08 @monitor.py:467]\u001b[0m GAN_loss/discrim/accuracy_real: 0.1\n",
      "\u001b[32m[0215 12:59:08 @monitor.py:467]\u001b[0m GAN_loss/discrim/loss: 0.63964\n",
      "\u001b[32m[0215 12:59:08 @monitor.py:467]\u001b[0m GAN_loss/gen/final-g-loss: 1.1377\n",
      "\u001b[32m[0215 12:59:08 @monitor.py:467]\u001b[0m GAN_loss/gen/klloss: 0.12149\n",
      "\u001b[32m[0215 12:59:08 @monitor.py:467]\u001b[0m GAN_loss/gen/loss: 1.0163\n",
      "\u001b[32m[0215 12:59:08 @monitor.py:467]\u001b[0m QueueInput/queue_size: 50\n",
      "\u001b[32m[0215 12:59:08 @base.py:275]\u001b[0m Start Epoch 834 ...\n"
     ]
    },
    {
     "name": "stderr",
     "output_type": "stream",
     "text": [
      "100%|#################################################################################|2000/2000[00:32<00:00,60.90it/s]"
     ]
    },
    {
     "name": "stdout",
     "output_type": "stream",
     "text": [
      "\u001b[32m[0215 12:59:41 @base.py:285]\u001b[0m Epoch 834 (global_step 1668000) finished, time:32.8 seconds.\n",
      "\u001b[32m[0215 12:59:41 @saver.py:79]\u001b[0m Model saved to ./output_TGAN/output/model\\model-1668000.\n",
      "\u001b[32m[0215 12:59:41 @monitor.py:467]\u001b[0m GAN_loss/discrim/accuracy_fake: 0.925\n"
     ]
    },
    {
     "name": "stderr",
     "output_type": "stream",
     "text": [
      "\n"
     ]
    },
    {
     "name": "stdout",
     "output_type": "stream",
     "text": [
      "\u001b[32m[0215 12:59:41 @monitor.py:467]\u001b[0m GAN_loss/discrim/accuracy_real: 0.16\n",
      "\u001b[32m[0215 12:59:41 @monitor.py:467]\u001b[0m GAN_loss/discrim/loss: 0.63373\n",
      "\u001b[32m[0215 12:59:41 @monitor.py:467]\u001b[0m GAN_loss/gen/final-g-loss: 1.1379\n",
      "\u001b[32m[0215 12:59:41 @monitor.py:467]\u001b[0m GAN_loss/gen/klloss: 0.11521\n",
      "\u001b[32m[0215 12:59:41 @monitor.py:467]\u001b[0m GAN_loss/gen/loss: 1.0227\n",
      "\u001b[32m[0215 12:59:41 @monitor.py:467]\u001b[0m QueueInput/queue_size: 50\n",
      "\u001b[32m[0215 12:59:41 @base.py:275]\u001b[0m Start Epoch 835 ...\n"
     ]
    },
    {
     "name": "stderr",
     "output_type": "stream",
     "text": [
      "100%|#################################################################################|2000/2000[00:33<00:00,59.75it/s]"
     ]
    },
    {
     "name": "stdout",
     "output_type": "stream",
     "text": [
      "\u001b[32m[0215 13:00:15 @base.py:285]\u001b[0m Epoch 835 (global_step 1670000) finished, time:33.5 seconds.\n",
      "\u001b[32m[0215 13:00:15 @saver.py:79]\u001b[0m Model saved to ./output_TGAN/output/model\\model-1670000.\n"
     ]
    },
    {
     "name": "stderr",
     "output_type": "stream",
     "text": [
      "\n"
     ]
    },
    {
     "name": "stdout",
     "output_type": "stream",
     "text": [
      "\u001b[32m[0215 13:00:15 @monitor.py:467]\u001b[0m GAN_loss/discrim/accuracy_fake: 0.95\n",
      "\u001b[32m[0215 13:00:15 @monitor.py:467]\u001b[0m GAN_loss/discrim/accuracy_real: 0.09\n",
      "\u001b[32m[0215 13:00:15 @monitor.py:467]\u001b[0m GAN_loss/discrim/loss: 0.65111\n",
      "\u001b[32m[0215 13:00:15 @monitor.py:467]\u001b[0m GAN_loss/gen/final-g-loss: 1.2186\n",
      "\u001b[32m[0215 13:00:15 @monitor.py:467]\u001b[0m GAN_loss/gen/klloss: 0.20128\n",
      "\u001b[32m[0215 13:00:15 @monitor.py:467]\u001b[0m GAN_loss/gen/loss: 1.0173\n",
      "\u001b[32m[0215 13:00:15 @monitor.py:467]\u001b[0m QueueInput/queue_size: 50\n",
      "\u001b[32m[0215 13:00:15 @base.py:275]\u001b[0m Start Epoch 836 ...\n"
     ]
    },
    {
     "name": "stderr",
     "output_type": "stream",
     "text": [
      "100%|#################################################################################|2000/2000[00:32<00:00,60.89it/s]"
     ]
    },
    {
     "name": "stdout",
     "output_type": "stream",
     "text": [
      "\u001b[32m[0215 13:00:48 @base.py:285]\u001b[0m Epoch 836 (global_step 1672000) finished, time:32.8 seconds.\n",
      "\u001b[32m[0215 13:00:48 @saver.py:79]\u001b[0m Model saved to ./output_TGAN/output/model\\model-1672000.\n",
      "\u001b[32m[0215 13:00:48 @monitor.py:467]\u001b[0m GAN_loss/discrim/accuracy_fake: 0.94\n",
      "\u001b[32m[0215 13:00:48 @monitor.py:467]\u001b[0m GAN_loss/discrim/accuracy_real: 0.155\n",
      "\u001b[32m[0215 13:00:48 @monitor.py:467]\u001b[0m GAN_loss/discrim/loss: 0.6494\n",
      "\u001b[32m[0215 13:00:48 @monitor.py:467]\u001b[0m GAN_loss/gen/final-g-loss: 1.1098\n",
      "\u001b[32m[0215 13:00:48 @monitor.py:467]\u001b[0m GAN_loss/gen/klloss: 0.11844\n",
      "\u001b[32m[0215 13:00:48 @monitor.py:467]\u001b[0m GAN_loss/gen/loss: 0.99137\n",
      "\u001b[32m[0215 13:00:48 @monitor.py:467]\u001b[0m QueueInput/queue_size: 50\n",
      "\u001b[32m[0215 13:00:48 @base.py:275]\u001b[0m Start Epoch 837 ...\n"
     ]
    },
    {
     "name": "stderr",
     "output_type": "stream",
     "text": [
      "\n",
      "100%|#################################################################################|2000/2000[00:32<00:00,61.26it/s]"
     ]
    },
    {
     "name": "stdout",
     "output_type": "stream",
     "text": [
      "\u001b[32m[0215 13:01:21 @base.py:285]\u001b[0m Epoch 837 (global_step 1674000) finished, time:32.6 seconds.\n",
      "\u001b[32m[0215 13:01:21 @saver.py:79]\u001b[0m Model saved to ./output_TGAN/output/model\\model-1674000.\n",
      "\u001b[32m[0215 13:01:21 @monitor.py:467]\u001b[0m GAN_loss/discrim/accuracy_fake: 0.93\n",
      "\u001b[32m[0215 13:01:21 @monitor.py:467]\u001b[0m GAN_loss/discrim/accuracy_real: 0.11\n",
      "\u001b[32m[0215 13:01:21 @monitor.py:467]\u001b[0m GAN_loss/discrim/loss: 0.64511\n",
      "\u001b[32m[0215 13:01:21 @monitor.py:467]\u001b[0m GAN_loss/gen/final-g-loss: 1.0907\n",
      "\u001b[32m[0215 13:01:21 @monitor.py:467]\u001b[0m GAN_loss/gen/klloss: 0.084416\n",
      "\u001b[32m[0215 13:01:21 @monitor.py:467]\u001b[0m GAN_loss/gen/loss: 1.0063\n"
     ]
    },
    {
     "name": "stderr",
     "output_type": "stream",
     "text": [
      "\n"
     ]
    },
    {
     "name": "stdout",
     "output_type": "stream",
     "text": [
      "\u001b[32m[0215 13:01:21 @monitor.py:467]\u001b[0m QueueInput/queue_size: 50\n",
      "\u001b[32m[0215 13:01:21 @base.py:275]\u001b[0m Start Epoch 838 ...\n"
     ]
    },
    {
     "name": "stderr",
     "output_type": "stream",
     "text": [
      "100%|#################################################################################|2000/2000[00:32<00:00,61.05it/s]"
     ]
    },
    {
     "name": "stdout",
     "output_type": "stream",
     "text": [
      "\u001b[32m[0215 13:01:54 @base.py:285]\u001b[0m Epoch 838 (global_step 1676000) finished, time:32.8 seconds.\n",
      "\u001b[32m[0215 13:01:54 @saver.py:79]\u001b[0m Model saved to ./output_TGAN/output/model\\model-1676000.\n",
      "\u001b[32m[0215 13:01:54 @monitor.py:467]\u001b[0m GAN_loss/discrim/accuracy_fake: 0.935\n",
      "\u001b[32m[0215 13:01:54 @monitor.py:467]\u001b[0m GAN_loss/discrim/accuracy_real: 0.11\n",
      "\u001b[32m[0215 13:01:54 @monitor.py:467]\u001b[0m GAN_loss/discrim/loss: 0.64735\n",
      "\u001b[32m[0215 13:01:54 @monitor.py:467]\u001b[0m GAN_loss/gen/final-g-loss: 1.0897\n",
      "\u001b[32m[0215 13:01:54 @monitor.py:467]\u001b[0m GAN_loss/gen/klloss: 0.081541\n",
      "\u001b[32m[0215 13:01:54 @monitor.py:467]\u001b[0m GAN_loss/gen/loss: 1.0081\n",
      "\u001b[32m[0215 13:01:54 @monitor.py:467]\u001b[0m QueueInput/queue_size: 50\n",
      "\u001b[32m[0215 13:01:54 @base.py:275]\u001b[0m Start Epoch 839 ...\n"
     ]
    },
    {
     "name": "stderr",
     "output_type": "stream",
     "text": [
      "\n",
      "100%|#################################################################################|2000/2000[00:32<00:00,61.00it/s]"
     ]
    },
    {
     "name": "stdout",
     "output_type": "stream",
     "text": [
      "\u001b[32m[0215 13:02:27 @base.py:285]\u001b[0m Epoch 839 (global_step 1678000) finished, time:32.8 seconds.\n",
      "\u001b[32m[0215 13:02:27 @saver.py:79]\u001b[0m Model saved to ./output_TGAN/output/model\\model-1678000.\n",
      "\u001b[32m[0215 13:02:27 @monitor.py:467]\u001b[0m GAN_loss/discrim/accuracy_fake: 0.955\n",
      "\u001b[32m[0215 13:02:27 @monitor.py:467]\u001b[0m GAN_loss/discrim/accuracy_real: 0.105\n",
      "\u001b[32m[0215 13:02:27 @monitor.py:467]\u001b[0m GAN_loss/discrim/loss: 0.64472\n",
      "\u001b[32m[0215 13:02:27 @monitor.py:467]\u001b[0m GAN_loss/gen/final-g-loss: 1.1408\n"
     ]
    },
    {
     "name": "stderr",
     "output_type": "stream",
     "text": [
      "\n"
     ]
    },
    {
     "name": "stdout",
     "output_type": "stream",
     "text": [
      "\u001b[32m[0215 13:02:27 @monitor.py:467]\u001b[0m GAN_loss/gen/klloss: 0.1068\n",
      "\u001b[32m[0215 13:02:27 @monitor.py:467]\u001b[0m GAN_loss/gen/loss: 1.034\n",
      "\u001b[32m[0215 13:02:27 @monitor.py:467]\u001b[0m QueueInput/queue_size: 50\n",
      "\u001b[32m[0215 13:02:27 @base.py:275]\u001b[0m Start Epoch 840 ...\n"
     ]
    },
    {
     "name": "stderr",
     "output_type": "stream",
     "text": [
      "100%|#################################################################################|2000/2000[00:32<00:00,61.05it/s]"
     ]
    },
    {
     "name": "stdout",
     "output_type": "stream",
     "text": [
      "\u001b[32m[0215 13:03:00 @base.py:285]\u001b[0m Epoch 840 (global_step 1680000) finished, time:32.8 seconds.\n",
      "\u001b[32m[0215 13:03:00 @saver.py:79]\u001b[0m Model saved to ./output_TGAN/output/model\\model-1680000.\n",
      "\u001b[32m[0215 13:03:00 @monitor.py:467]\u001b[0m GAN_loss/discrim/accuracy_fake: 0.915\n"
     ]
    },
    {
     "name": "stderr",
     "output_type": "stream",
     "text": [
      "\n"
     ]
    },
    {
     "name": "stdout",
     "output_type": "stream",
     "text": [
      "\u001b[32m[0215 13:03:00 @monitor.py:467]\u001b[0m GAN_loss/discrim/accuracy_real: 0.09\n",
      "\u001b[32m[0215 13:03:00 @monitor.py:467]\u001b[0m GAN_loss/discrim/loss: 0.65137\n",
      "\u001b[32m[0215 13:03:00 @monitor.py:467]\u001b[0m GAN_loss/gen/final-g-loss: 1.0962\n",
      "\u001b[32m[0215 13:03:00 @monitor.py:467]\u001b[0m GAN_loss/gen/klloss: 0.094358\n",
      "\u001b[32m[0215 13:03:00 @monitor.py:467]\u001b[0m GAN_loss/gen/loss: 1.0018\n",
      "\u001b[32m[0215 13:03:00 @monitor.py:467]\u001b[0m QueueInput/queue_size: 50\n",
      "\u001b[32m[0215 13:03:00 @base.py:275]\u001b[0m Start Epoch 841 ...\n"
     ]
    },
    {
     "name": "stderr",
     "output_type": "stream",
     "text": [
      "100%|#################################################################################|2000/2000[00:32<00:00,60.95it/s]"
     ]
    },
    {
     "name": "stdout",
     "output_type": "stream",
     "text": [
      "\u001b[32m[0215 13:03:33 @base.py:285]\u001b[0m Epoch 841 (global_step 1682000) finished, time:32.8 seconds.\n",
      "\u001b[32m[0215 13:03:33 @saver.py:79]\u001b[0m Model saved to ./output_TGAN/output/model\\model-1682000.\n",
      "\u001b[32m[0215 13:03:33 @monitor.py:467]\u001b[0m GAN_loss/discrim/accuracy_fake: 0.935\n",
      "\u001b[32m[0215 13:03:33 @monitor.py:467]\u001b[0m GAN_loss/discrim/accuracy_real: 0.11\n",
      "\u001b[32m[0215 13:03:33 @monitor.py:467]\u001b[0m GAN_loss/discrim/loss: 0.64575\n",
      "\u001b[32m[0215 13:03:33 @monitor.py:467]\u001b[0m GAN_loss/gen/final-g-loss: 1.1123\n",
      "\u001b[32m[0215 13:03:33 @monitor.py:467]\u001b[0m GAN_loss/gen/klloss: 0.10778\n"
     ]
    },
    {
     "name": "stderr",
     "output_type": "stream",
     "text": [
      "\n"
     ]
    },
    {
     "name": "stdout",
     "output_type": "stream",
     "text": [
      "\u001b[32m[0215 13:03:33 @monitor.py:467]\u001b[0m GAN_loss/gen/loss: 1.0045\n",
      "\u001b[32m[0215 13:03:33 @monitor.py:467]\u001b[0m QueueInput/queue_size: 50\n",
      "\u001b[32m[0215 13:03:33 @base.py:275]\u001b[0m Start Epoch 842 ...\n"
     ]
    },
    {
     "name": "stderr",
     "output_type": "stream",
     "text": [
      "100%|#################################################################################|2000/2000[00:32<00:00,60.72it/s]"
     ]
    },
    {
     "name": "stdout",
     "output_type": "stream",
     "text": [
      "\u001b[32m[0215 13:04:06 @base.py:285]\u001b[0m Epoch 842 (global_step 1684000) finished, time:32.9 seconds.\n",
      "\u001b[32m[0215 13:04:06 @saver.py:79]\u001b[0m Model saved to ./output_TGAN/output/model\\model-1684000.\n",
      "\u001b[32m[0215 13:04:06 @monitor.py:467]\u001b[0m GAN_loss/discrim/accuracy_fake: 0.93\n"
     ]
    },
    {
     "name": "stderr",
     "output_type": "stream",
     "text": [
      "\n"
     ]
    },
    {
     "name": "stdout",
     "output_type": "stream",
     "text": [
      "\u001b[32m[0215 13:04:06 @monitor.py:467]\u001b[0m GAN_loss/discrim/accuracy_real: 0.14\n",
      "\u001b[32m[0215 13:04:06 @monitor.py:467]\u001b[0m GAN_loss/discrim/loss: 0.64812\n",
      "\u001b[32m[0215 13:04:06 @monitor.py:467]\u001b[0m GAN_loss/gen/final-g-loss: 1.1278\n",
      "\u001b[32m[0215 13:04:06 @monitor.py:467]\u001b[0m GAN_loss/gen/klloss: 0.10627\n",
      "\u001b[32m[0215 13:04:06 @monitor.py:467]\u001b[0m GAN_loss/gen/loss: 1.0215\n",
      "\u001b[32m[0215 13:04:06 @monitor.py:467]\u001b[0m QueueInput/queue_size: 50\n",
      "\u001b[32m[0215 13:04:06 @base.py:275]\u001b[0m Start Epoch 843 ...\n"
     ]
    },
    {
     "name": "stderr",
     "output_type": "stream",
     "text": [
      "100%|#################################################################################|2000/2000[00:32<00:00,60.95it/s]"
     ]
    },
    {
     "name": "stdout",
     "output_type": "stream",
     "text": [
      "\u001b[32m[0215 13:04:39 @base.py:285]\u001b[0m Epoch 843 (global_step 1686000) finished, time:32.8 seconds.\n",
      "\u001b[32m[0215 13:04:39 @saver.py:79]\u001b[0m Model saved to ./output_TGAN/output/model\\model-1686000.\n",
      "\u001b[32m[0215 13:04:39 @monitor.py:467]\u001b[0m GAN_loss/discrim/accuracy_fake: 0.93\n",
      "\u001b[32m[0215 13:04:39 @monitor.py:467]\u001b[0m GAN_loss/discrim/accuracy_real: 0.165\n",
      "\u001b[32m[0215 13:04:39 @monitor.py:467]\u001b[0m GAN_loss/discrim/loss: 0.64394\n",
      "\u001b[32m[0215 13:04:39 @monitor.py:467]\u001b[0m GAN_loss/gen/final-g-loss: 1.135\n",
      "\u001b[32m[0215 13:04:39 @monitor.py:467]\u001b[0m GAN_loss/gen/klloss: 0.12896\n"
     ]
    },
    {
     "name": "stderr",
     "output_type": "stream",
     "text": [
      "\n"
     ]
    },
    {
     "name": "stdout",
     "output_type": "stream",
     "text": [
      "\u001b[32m[0215 13:04:39 @monitor.py:467]\u001b[0m GAN_loss/gen/loss: 1.006\n",
      "\u001b[32m[0215 13:04:39 @monitor.py:467]\u001b[0m QueueInput/queue_size: 50\n",
      "\u001b[32m[0215 13:04:39 @base.py:275]\u001b[0m Start Epoch 844 ...\n"
     ]
    },
    {
     "name": "stderr",
     "output_type": "stream",
     "text": [
      "100%|#################################################################################|2000/2000[00:32<00:00,60.89it/s]"
     ]
    },
    {
     "name": "stdout",
     "output_type": "stream",
     "text": [
      "\u001b[32m[0215 13:05:12 @base.py:285]\u001b[0m Epoch 844 (global_step 1688000) finished, time:32.8 seconds.\n",
      "\u001b[32m[0215 13:05:12 @saver.py:79]\u001b[0m Model saved to ./output_TGAN/output/model\\model-1688000.\n",
      "\u001b[32m[0215 13:05:12 @monitor.py:467]\u001b[0m GAN_loss/discrim/accuracy_fake: 0.95\n",
      "\u001b[32m[0215 13:05:12 @monitor.py:467]\u001b[0m GAN_loss/discrim/accuracy_real: 0.125\n",
      "\u001b[32m[0215 13:05:12 @monitor.py:467]\u001b[0m GAN_loss/discrim/loss: 0.64619\n",
      "\u001b[32m[0215 13:05:12 @monitor.py:467]\u001b[0m GAN_loss/gen/final-g-loss: 1.0822\n",
      "\u001b[32m[0215 13:05:12 @monitor.py:467]\u001b[0m GAN_loss/gen/klloss: 0.075626\n",
      "\u001b[32m[0215 13:05:12 @monitor.py:467]\u001b[0m GAN_loss/gen/loss: 1.0066\n",
      "\u001b[32m[0215 13:05:12 @monitor.py:467]\u001b[0m QueueInput/queue_size: 50\n",
      "\u001b[32m[0215 13:05:12 @base.py:275]\u001b[0m Start Epoch 845 ...\n"
     ]
    },
    {
     "name": "stderr",
     "output_type": "stream",
     "text": [
      "\n",
      "100%|#################################################################################|2000/2000[00:32<00:00,61.03it/s]"
     ]
    },
    {
     "name": "stdout",
     "output_type": "stream",
     "text": [
      "\u001b[32m[0215 13:05:45 @base.py:285]\u001b[0m Epoch 845 (global_step 1690000) finished, time:32.8 seconds.\n",
      "\u001b[32m[0215 13:05:45 @saver.py:79]\u001b[0m Model saved to ./output_TGAN/output/model\\model-1690000.\n",
      "\u001b[32m[0215 13:05:45 @monitor.py:467]\u001b[0m GAN_loss/discrim/accuracy_fake: 0.98\n"
     ]
    },
    {
     "name": "stderr",
     "output_type": "stream",
     "text": [
      "\n"
     ]
    },
    {
     "name": "stdout",
     "output_type": "stream",
     "text": [
      "\u001b[32m[0215 13:05:45 @monitor.py:467]\u001b[0m GAN_loss/discrim/accuracy_real: 0.085\n",
      "\u001b[32m[0215 13:05:45 @monitor.py:467]\u001b[0m GAN_loss/discrim/loss: 0.64665\n",
      "\u001b[32m[0215 13:05:45 @monitor.py:467]\u001b[0m GAN_loss/gen/final-g-loss: 1.1508\n",
      "\u001b[32m[0215 13:05:45 @monitor.py:467]\u001b[0m GAN_loss/gen/klloss: 0.11684\n",
      "\u001b[32m[0215 13:05:45 @monitor.py:467]\u001b[0m GAN_loss/gen/loss: 1.034\n",
      "\u001b[32m[0215 13:05:45 @monitor.py:467]\u001b[0m QueueInput/queue_size: 50\n",
      "\u001b[32m[0215 13:05:45 @base.py:275]\u001b[0m Start Epoch 846 ...\n"
     ]
    },
    {
     "name": "stderr",
     "output_type": "stream",
     "text": [
      "100%|#################################################################################|2000/2000[00:32<00:00,60.93it/s]"
     ]
    },
    {
     "name": "stdout",
     "output_type": "stream",
     "text": [
      "\u001b[32m[0215 13:06:18 @base.py:285]\u001b[0m Epoch 846 (global_step 1692000) finished, time:32.8 seconds.\n",
      "\u001b[32m[0215 13:06:18 @saver.py:79]\u001b[0m Model saved to ./output_TGAN/output/model\\model-1692000.\n"
     ]
    },
    {
     "name": "stderr",
     "output_type": "stream",
     "text": [
      "\n"
     ]
    },
    {
     "name": "stdout",
     "output_type": "stream",
     "text": [
      "\u001b[32m[0215 13:06:18 @monitor.py:467]\u001b[0m GAN_loss/discrim/accuracy_fake: 0.91\n",
      "\u001b[32m[0215 13:06:18 @monitor.py:467]\u001b[0m GAN_loss/discrim/accuracy_real: 0.12\n",
      "\u001b[32m[0215 13:06:18 @monitor.py:467]\u001b[0m GAN_loss/discrim/loss: 0.64352\n",
      "\u001b[32m[0215 13:06:18 @monitor.py:467]\u001b[0m GAN_loss/gen/final-g-loss: 1.1076\n",
      "\u001b[32m[0215 13:06:18 @monitor.py:467]\u001b[0m GAN_loss/gen/klloss: 0.10515\n",
      "\u001b[32m[0215 13:06:18 @monitor.py:467]\u001b[0m GAN_loss/gen/loss: 1.0025\n",
      "\u001b[32m[0215 13:06:18 @monitor.py:467]\u001b[0m QueueInput/queue_size: 50\n",
      "\u001b[32m[0215 13:06:18 @base.py:275]\u001b[0m Start Epoch 847 ...\n"
     ]
    },
    {
     "name": "stderr",
     "output_type": "stream",
     "text": [
      "100%|#################################################################################|2000/2000[00:33<00:00,60.21it/s]"
     ]
    },
    {
     "name": "stdout",
     "output_type": "stream",
     "text": [
      "\u001b[32m[0215 13:06:51 @base.py:285]\u001b[0m Epoch 847 (global_step 1694000) finished, time:33.2 seconds.\n",
      "\u001b[32m[0215 13:06:51 @saver.py:79]\u001b[0m Model saved to ./output_TGAN/output/model\\model-1694000.\n"
     ]
    },
    {
     "name": "stderr",
     "output_type": "stream",
     "text": [
      "\n"
     ]
    },
    {
     "name": "stdout",
     "output_type": "stream",
     "text": [
      "\u001b[32m[0215 13:06:51 @monitor.py:467]\u001b[0m GAN_loss/discrim/accuracy_fake: 0.915\n",
      "\u001b[32m[0215 13:06:51 @monitor.py:467]\u001b[0m GAN_loss/discrim/accuracy_real: 0.095\n",
      "\u001b[32m[0215 13:06:51 @monitor.py:467]\u001b[0m GAN_loss/discrim/loss: 0.6534\n",
      "\u001b[32m[0215 13:06:51 @monitor.py:467]\u001b[0m GAN_loss/gen/final-g-loss: 1.12\n",
      "\u001b[32m[0215 13:06:51 @monitor.py:467]\u001b[0m GAN_loss/gen/klloss: 0.11122\n",
      "\u001b[32m[0215 13:06:51 @monitor.py:467]\u001b[0m GAN_loss/gen/loss: 1.0088\n",
      "\u001b[32m[0215 13:06:51 @monitor.py:467]\u001b[0m QueueInput/queue_size: 50\n",
      "\u001b[32m[0215 13:06:51 @base.py:275]\u001b[0m Start Epoch 848 ...\n"
     ]
    },
    {
     "name": "stderr",
     "output_type": "stream",
     "text": [
      "100%|#################################################################################|2000/2000[00:32<00:00,60.75it/s]"
     ]
    },
    {
     "name": "stdout",
     "output_type": "stream",
     "text": [
      "\u001b[32m[0215 13:07:24 @base.py:285]\u001b[0m Epoch 848 (global_step 1696000) finished, time:32.9 seconds.\n",
      "\u001b[32m[0215 13:07:24 @saver.py:79]\u001b[0m Model saved to ./output_TGAN/output/model\\model-1696000.\n",
      "\u001b[32m[0215 13:07:24 @monitor.py:467]\u001b[0m GAN_loss/discrim/accuracy_fake: 0.965\n",
      "\u001b[32m[0215 13:07:24 @monitor.py:467]\u001b[0m GAN_loss/discrim/accuracy_real: 0.11\n",
      "\u001b[32m[0215 13:07:24 @monitor.py:467]\u001b[0m GAN_loss/discrim/loss: 0.64155\n",
      "\u001b[32m[0215 13:07:24 @monitor.py:467]\u001b[0m GAN_loss/gen/final-g-loss: 1.1048\n",
      "\u001b[32m[0215 13:07:24 @monitor.py:467]\u001b[0m GAN_loss/gen/klloss: 0.088743\n",
      "\u001b[32m[0215 13:07:24 @monitor.py:467]\u001b[0m GAN_loss/gen/loss: 1.0161\n",
      "\u001b[32m[0215 13:07:24 @monitor.py:467]\u001b[0m QueueInput/queue_size: 50\n",
      "\u001b[32m[0215 13:07:24 @base.py:275]\u001b[0m Start Epoch 849 ...\n"
     ]
    },
    {
     "name": "stderr",
     "output_type": "stream",
     "text": [
      "\n",
      "100%|#################################################################################|2000/2000[00:32<00:00,60.89it/s]"
     ]
    },
    {
     "name": "stdout",
     "output_type": "stream",
     "text": [
      "\u001b[32m[0215 13:07:57 @base.py:285]\u001b[0m Epoch 849 (global_step 1698000) finished, time:32.8 seconds.\n",
      "\u001b[32m[0215 13:07:57 @saver.py:79]\u001b[0m Model saved to ./output_TGAN/output/model\\model-1698000.\n"
     ]
    },
    {
     "name": "stderr",
     "output_type": "stream",
     "text": [
      "\n"
     ]
    },
    {
     "name": "stdout",
     "output_type": "stream",
     "text": [
      "\u001b[32m[0215 13:07:57 @monitor.py:467]\u001b[0m GAN_loss/discrim/accuracy_fake: 0.945\n",
      "\u001b[32m[0215 13:07:57 @monitor.py:467]\u001b[0m GAN_loss/discrim/accuracy_real: 0.125\n",
      "\u001b[32m[0215 13:07:57 @monitor.py:467]\u001b[0m GAN_loss/discrim/loss: 0.64575\n",
      "\u001b[32m[0215 13:07:57 @monitor.py:467]\u001b[0m GAN_loss/gen/final-g-loss: 1.1076\n",
      "\u001b[32m[0215 13:07:57 @monitor.py:467]\u001b[0m GAN_loss/gen/klloss: 0.099282\n",
      "\u001b[32m[0215 13:07:57 @monitor.py:467]\u001b[0m GAN_loss/gen/loss: 1.0083\n",
      "\u001b[32m[0215 13:07:57 @monitor.py:467]\u001b[0m QueueInput/queue_size: 50\n",
      "\u001b[32m[0215 13:07:57 @base.py:275]\u001b[0m Start Epoch 850 ...\n"
     ]
    },
    {
     "name": "stderr",
     "output_type": "stream",
     "text": [
      "100%|#################################################################################|2000/2000[00:32<00:00,60.99it/s]"
     ]
    },
    {
     "name": "stdout",
     "output_type": "stream",
     "text": [
      "\u001b[32m[0215 13:08:30 @base.py:285]\u001b[0m Epoch 850 (global_step 1700000) finished, time:32.8 seconds.\n",
      "\u001b[32m[0215 13:08:30 @saver.py:79]\u001b[0m Model saved to ./output_TGAN/output/model\\model-1700000.\n",
      "\u001b[32m[0215 13:08:30 @monitor.py:467]\u001b[0m GAN_loss/discrim/accuracy_fake: 0.94\n",
      "\u001b[32m[0215 13:08:30 @monitor.py:467]\u001b[0m GAN_loss/discrim/accuracy_real: 0.11\n",
      "\u001b[32m[0215 13:08:30 @monitor.py:467]\u001b[0m GAN_loss/discrim/loss: 0.64736\n",
      "\u001b[32m[0215 13:08:30 @monitor.py:467]\u001b[0m GAN_loss/gen/final-g-loss: 1.127\n"
     ]
    },
    {
     "name": "stderr",
     "output_type": "stream",
     "text": [
      "\n"
     ]
    },
    {
     "name": "stdout",
     "output_type": "stream",
     "text": [
      "\u001b[32m[0215 13:08:30 @monitor.py:467]\u001b[0m GAN_loss/gen/klloss: 0.12721\n",
      "\u001b[32m[0215 13:08:30 @monitor.py:467]\u001b[0m GAN_loss/gen/loss: 0.9998\n",
      "\u001b[32m[0215 13:08:30 @monitor.py:467]\u001b[0m QueueInput/queue_size: 50\n",
      "\u001b[32m[0215 13:08:30 @base.py:275]\u001b[0m Start Epoch 851 ...\n"
     ]
    },
    {
     "name": "stderr",
     "output_type": "stream",
     "text": [
      "100%|#################################################################################|2000/2000[00:32<00:00,60.87it/s]"
     ]
    },
    {
     "name": "stdout",
     "output_type": "stream",
     "text": [
      "\u001b[32m[0215 13:09:03 @base.py:285]\u001b[0m Epoch 851 (global_step 1702000) finished, time:32.9 seconds.\n",
      "\u001b[32m[0215 13:09:03 @saver.py:79]\u001b[0m Model saved to ./output_TGAN/output/model\\model-1702000.\n",
      "\u001b[32m[0215 13:09:03 @monitor.py:467]\u001b[0m GAN_loss/discrim/accuracy_fake: 0.9\n",
      "\u001b[32m[0215 13:09:03 @monitor.py:467]\u001b[0m GAN_loss/discrim/accuracy_real: 0.125\n",
      "\u001b[32m[0215 13:09:03 @monitor.py:467]\u001b[0m GAN_loss/discrim/loss: 0.64285\n",
      "\u001b[32m[0215 13:09:03 @monitor.py:467]\u001b[0m GAN_loss/gen/final-g-loss: 1.1831\n",
      "\u001b[32m[0215 13:09:03 @monitor.py:467]\u001b[0m GAN_loss/gen/klloss: 0.17079\n",
      "\u001b[32m[0215 13:09:03 @monitor.py:467]\u001b[0m GAN_loss/gen/loss: 1.0123\n",
      "\u001b[32m[0215 13:09:03 @monitor.py:467]\u001b[0m QueueInput/queue_size: 50\n",
      "\u001b[32m[0215 13:09:03 @base.py:275]\u001b[0m Start Epoch 852 ...\n"
     ]
    },
    {
     "name": "stderr",
     "output_type": "stream",
     "text": [
      "\n",
      "100%|#################################################################################|2000/2000[00:32<00:00,60.79it/s]"
     ]
    },
    {
     "name": "stdout",
     "output_type": "stream",
     "text": [
      "\u001b[32m[0215 13:09:36 @base.py:285]\u001b[0m Epoch 852 (global_step 1704000) finished, time:32.9 seconds.\n",
      "\u001b[32m[0215 13:09:36 @saver.py:79]\u001b[0m Model saved to ./output_TGAN/output/model\\model-1704000.\n",
      "\u001b[32m[0215 13:09:36 @monitor.py:467]\u001b[0m GAN_loss/discrim/accuracy_fake: 0.935\n",
      "\u001b[32m[0215 13:09:36 @monitor.py:467]\u001b[0m GAN_loss/discrim/accuracy_real: 0.09\n",
      "\u001b[32m[0215 13:09:36 @monitor.py:467]\u001b[0m GAN_loss/discrim/loss: 0.65463\n",
      "\u001b[32m[0215 13:09:36 @monitor.py:467]\u001b[0m GAN_loss/gen/final-g-loss: 1.0801\n",
      "\u001b[32m[0215 13:09:36 @monitor.py:467]\u001b[0m GAN_loss/gen/klloss: 0.078086\n",
      "\u001b[32m[0215 13:09:36 @monitor.py:467]\u001b[0m GAN_loss/gen/loss: 1.002\n"
     ]
    },
    {
     "name": "stderr",
     "output_type": "stream",
     "text": [
      "\n"
     ]
    },
    {
     "name": "stdout",
     "output_type": "stream",
     "text": [
      "\u001b[32m[0215 13:09:36 @monitor.py:467]\u001b[0m QueueInput/queue_size: 50\n",
      "\u001b[32m[0215 13:09:36 @base.py:275]\u001b[0m Start Epoch 853 ...\n"
     ]
    },
    {
     "name": "stderr",
     "output_type": "stream",
     "text": [
      "100%|#################################################################################|2000/2000[00:32<00:00,60.92it/s]"
     ]
    },
    {
     "name": "stdout",
     "output_type": "stream",
     "text": [
      "\u001b[32m[0215 13:10:09 @base.py:285]\u001b[0m Epoch 853 (global_step 1706000) finished, time:32.8 seconds.\n",
      "\u001b[32m[0215 13:10:09 @saver.py:79]\u001b[0m Model saved to ./output_TGAN/output/model\\model-1706000.\n",
      "\u001b[32m[0215 13:10:09 @monitor.py:467]\u001b[0m GAN_loss/discrim/accuracy_fake: 0.93\n"
     ]
    },
    {
     "name": "stderr",
     "output_type": "stream",
     "text": [
      "\n"
     ]
    },
    {
     "name": "stdout",
     "output_type": "stream",
     "text": [
      "\u001b[32m[0215 13:10:09 @monitor.py:467]\u001b[0m GAN_loss/discrim/accuracy_real: 0.14\n",
      "\u001b[32m[0215 13:10:09 @monitor.py:467]\u001b[0m GAN_loss/discrim/loss: 0.64551\n",
      "\u001b[32m[0215 13:10:09 @monitor.py:467]\u001b[0m GAN_loss/gen/final-g-loss: 1.1093\n",
      "\u001b[32m[0215 13:10:09 @monitor.py:467]\u001b[0m GAN_loss/gen/klloss: 0.097173\n",
      "\u001b[32m[0215 13:10:09 @monitor.py:467]\u001b[0m GAN_loss/gen/loss: 1.0121\n",
      "\u001b[32m[0215 13:10:09 @monitor.py:467]\u001b[0m QueueInput/queue_size: 50\n",
      "\u001b[32m[0215 13:10:09 @base.py:275]\u001b[0m Start Epoch 854 ...\n"
     ]
    },
    {
     "name": "stderr",
     "output_type": "stream",
     "text": [
      "100%|#################################################################################|2000/2000[00:32<00:00,60.84it/s]"
     ]
    },
    {
     "name": "stdout",
     "output_type": "stream",
     "text": [
      "\u001b[32m[0215 13:10:42 @base.py:285]\u001b[0m Epoch 854 (global_step 1708000) finished, time:32.9 seconds.\n",
      "\u001b[32m[0215 13:10:42 @saver.py:79]\u001b[0m Model saved to ./output_TGAN/output/model\\model-1708000.\n",
      "\u001b[32m[0215 13:10:43 @monitor.py:467]\u001b[0m GAN_loss/discrim/accuracy_fake: 0.97\n"
     ]
    },
    {
     "name": "stderr",
     "output_type": "stream",
     "text": [
      "\n"
     ]
    },
    {
     "name": "stdout",
     "output_type": "stream",
     "text": [
      "\u001b[32m[0215 13:10:43 @monitor.py:467]\u001b[0m GAN_loss/discrim/accuracy_real: 0.095\n",
      "\u001b[32m[0215 13:10:43 @monitor.py:467]\u001b[0m GAN_loss/discrim/loss: 0.63539\n",
      "\u001b[32m[0215 13:10:43 @monitor.py:467]\u001b[0m GAN_loss/gen/final-g-loss: 1.1592\n",
      "\u001b[32m[0215 13:10:43 @monitor.py:467]\u001b[0m GAN_loss/gen/klloss: 0.11967\n",
      "\u001b[32m[0215 13:10:43 @monitor.py:467]\u001b[0m GAN_loss/gen/loss: 1.0395\n",
      "\u001b[32m[0215 13:10:43 @monitor.py:467]\u001b[0m QueueInput/queue_size: 50\n",
      "\u001b[32m[0215 13:10:43 @base.py:275]\u001b[0m Start Epoch 855 ...\n"
     ]
    },
    {
     "name": "stderr",
     "output_type": "stream",
     "text": [
      "100%|#################################################################################|2000/2000[00:32<00:00,60.71it/s]"
     ]
    },
    {
     "name": "stdout",
     "output_type": "stream",
     "text": [
      "\u001b[32m[0215 13:11:15 @base.py:285]\u001b[0m Epoch 855 (global_step 1710000) finished, time:32.9 seconds.\n",
      "\u001b[32m[0215 13:11:16 @saver.py:79]\u001b[0m Model saved to ./output_TGAN/output/model\\model-1710000.\n",
      "\u001b[32m[0215 13:11:16 @monitor.py:467]\u001b[0m GAN_loss/discrim/accuracy_fake: 0.94\n"
     ]
    },
    {
     "name": "stderr",
     "output_type": "stream",
     "text": [
      "\n"
     ]
    },
    {
     "name": "stdout",
     "output_type": "stream",
     "text": [
      "\u001b[32m[0215 13:11:16 @monitor.py:467]\u001b[0m GAN_loss/discrim/accuracy_real: 0.145\n",
      "\u001b[32m[0215 13:11:16 @monitor.py:467]\u001b[0m GAN_loss/discrim/loss: 0.64003\n",
      "\u001b[32m[0215 13:11:16 @monitor.py:467]\u001b[0m GAN_loss/gen/final-g-loss: 1.1199\n",
      "\u001b[32m[0215 13:11:16 @monitor.py:467]\u001b[0m GAN_loss/gen/klloss: 0.10738\n",
      "\u001b[32m[0215 13:11:16 @monitor.py:467]\u001b[0m GAN_loss/gen/loss: 1.0125\n",
      "\u001b[32m[0215 13:11:16 @monitor.py:467]\u001b[0m QueueInput/queue_size: 50\n",
      "\u001b[32m[0215 13:11:16 @base.py:275]\u001b[0m Start Epoch 856 ...\n"
     ]
    },
    {
     "name": "stderr",
     "output_type": "stream",
     "text": [
      "100%|#################################################################################|2000/2000[00:32<00:00,60.98it/s]"
     ]
    },
    {
     "name": "stdout",
     "output_type": "stream",
     "text": [
      "\u001b[32m[0215 13:11:48 @base.py:285]\u001b[0m Epoch 856 (global_step 1712000) finished, time:32.8 seconds.\n",
      "\u001b[32m[0215 13:11:48 @saver.py:79]\u001b[0m Model saved to ./output_TGAN/output/model\\model-1712000.\n",
      "\u001b[32m[0215 13:11:49 @monitor.py:467]\u001b[0m GAN_loss/discrim/accuracy_fake: 0.92\n",
      "\u001b[32m[0215 13:11:49 @monitor.py:467]\u001b[0m GAN_loss/discrim/accuracy_real: 0.12\n",
      "\u001b[32m[0215 13:11:49 @monitor.py:467]\u001b[0m GAN_loss/discrim/loss: 0.64189\n",
      "\u001b[32m[0215 13:11:49 @monitor.py:467]\u001b[0m GAN_loss/gen/final-g-loss: 1.1153\n",
      "\u001b[32m[0215 13:11:49 @monitor.py:467]\u001b[0m GAN_loss/gen/klloss: 0.095354\n",
      "\u001b[32m[0215 13:11:49 @monitor.py:467]\u001b[0m GAN_loss/gen/loss: 1.0199\n",
      "\u001b[32m[0215 13:11:49 @monitor.py:467]\u001b[0m QueueInput/queue_size: 50\n",
      "\u001b[32m[0215 13:11:49 @base.py:275]\u001b[0m Start Epoch 857 ...\n"
     ]
    },
    {
     "name": "stderr",
     "output_type": "stream",
     "text": [
      "\n",
      "100%|#################################################################################|2000/2000[00:32<00:00,61.10it/s]"
     ]
    },
    {
     "name": "stdout",
     "output_type": "stream",
     "text": [
      "\u001b[32m[0215 13:12:21 @base.py:285]\u001b[0m Epoch 857 (global_step 1714000) finished, time:32.7 seconds.\n",
      "\u001b[32m[0215 13:12:21 @saver.py:79]\u001b[0m Model saved to ./output_TGAN/output/model\\model-1714000.\n",
      "\u001b[32m[0215 13:12:22 @monitor.py:467]\u001b[0m GAN_loss/discrim/accuracy_fake: 0.91\n"
     ]
    },
    {
     "name": "stderr",
     "output_type": "stream",
     "text": [
      "\n"
     ]
    },
    {
     "name": "stdout",
     "output_type": "stream",
     "text": [
      "\u001b[32m[0215 13:12:22 @monitor.py:467]\u001b[0m GAN_loss/discrim/accuracy_real: 0.125\n",
      "\u001b[32m[0215 13:12:22 @monitor.py:467]\u001b[0m GAN_loss/discrim/loss: 0.6431\n",
      "\u001b[32m[0215 13:12:22 @monitor.py:467]\u001b[0m GAN_loss/gen/final-g-loss: 1.1516\n",
      "\u001b[32m[0215 13:12:22 @monitor.py:467]\u001b[0m GAN_loss/gen/klloss: 0.13199\n",
      "\u001b[32m[0215 13:12:22 @monitor.py:467]\u001b[0m GAN_loss/gen/loss: 1.0197\n",
      "\u001b[32m[0215 13:12:22 @monitor.py:467]\u001b[0m QueueInput/queue_size: 50\n",
      "\u001b[32m[0215 13:12:22 @base.py:275]\u001b[0m Start Epoch 858 ...\n"
     ]
    },
    {
     "name": "stderr",
     "output_type": "stream",
     "text": [
      "100%|#################################################################################|2000/2000[00:32<00:00,60.89it/s]"
     ]
    },
    {
     "name": "stdout",
     "output_type": "stream",
     "text": [
      "\u001b[32m[0215 13:12:54 @base.py:285]\u001b[0m Epoch 858 (global_step 1716000) finished, time:32.8 seconds.\n",
      "\u001b[32m[0215 13:12:54 @saver.py:79]\u001b[0m Model saved to ./output_TGAN/output/model\\model-1716000.\n"
     ]
    },
    {
     "name": "stderr",
     "output_type": "stream",
     "text": [
      "\n"
     ]
    },
    {
     "name": "stdout",
     "output_type": "stream",
     "text": [
      "\u001b[32m[0215 13:12:55 @monitor.py:467]\u001b[0m GAN_loss/discrim/accuracy_fake: 0.895\n",
      "\u001b[32m[0215 13:12:55 @monitor.py:467]\u001b[0m GAN_loss/discrim/accuracy_real: 0.14\n",
      "\u001b[32m[0215 13:12:55 @monitor.py:467]\u001b[0m GAN_loss/discrim/loss: 0.64859\n",
      "\u001b[32m[0215 13:12:55 @monitor.py:467]\u001b[0m GAN_loss/gen/final-g-loss: 1.1347\n",
      "\u001b[32m[0215 13:12:55 @monitor.py:467]\u001b[0m GAN_loss/gen/klloss: 0.14307\n",
      "\u001b[32m[0215 13:12:55 @monitor.py:467]\u001b[0m GAN_loss/gen/loss: 0.99165\n",
      "\u001b[32m[0215 13:12:55 @monitor.py:467]\u001b[0m QueueInput/queue_size: 50\n",
      "\u001b[32m[0215 13:12:55 @base.py:275]\u001b[0m Start Epoch 859 ...\n"
     ]
    },
    {
     "name": "stderr",
     "output_type": "stream",
     "text": [
      "100%|#################################################################################|2000/2000[00:32<00:00,60.91it/s]"
     ]
    },
    {
     "name": "stdout",
     "output_type": "stream",
     "text": [
      "\u001b[32m[0215 13:13:27 @base.py:285]\u001b[0m Epoch 859 (global_step 1718000) finished, time:32.8 seconds.\n",
      "\u001b[32m[0215 13:13:27 @saver.py:79]\u001b[0m Model saved to ./output_TGAN/output/model\\model-1718000.\n",
      "\u001b[32m[0215 13:13:28 @monitor.py:467]\u001b[0m GAN_loss/discrim/accuracy_fake: 0.945\n",
      "\u001b[32m[0215 13:13:28 @monitor.py:467]\u001b[0m GAN_loss/discrim/accuracy_real: 0.125\n",
      "\u001b[32m[0215 13:13:28 @monitor.py:467]\u001b[0m GAN_loss/discrim/loss: 0.64984\n"
     ]
    },
    {
     "name": "stderr",
     "output_type": "stream",
     "text": [
      "\n"
     ]
    },
    {
     "name": "stdout",
     "output_type": "stream",
     "text": [
      "\u001b[32m[0215 13:13:28 @monitor.py:467]\u001b[0m GAN_loss/gen/final-g-loss: 1.1111\n",
      "\u001b[32m[0215 13:13:28 @monitor.py:467]\u001b[0m GAN_loss/gen/klloss: 0.10615\n",
      "\u001b[32m[0215 13:13:28 @monitor.py:467]\u001b[0m GAN_loss/gen/loss: 1.005\n",
      "\u001b[32m[0215 13:13:28 @monitor.py:467]\u001b[0m QueueInput/queue_size: 50\n",
      "\u001b[32m[0215 13:13:28 @base.py:275]\u001b[0m Start Epoch 860 ...\n"
     ]
    },
    {
     "name": "stderr",
     "output_type": "stream",
     "text": [
      "100%|#################################################################################|2000/2000[00:32<00:00,61.02it/s]"
     ]
    },
    {
     "name": "stdout",
     "output_type": "stream",
     "text": [
      "\u001b[32m[0215 13:14:00 @base.py:285]\u001b[0m Epoch 860 (global_step 1720000) finished, time:32.8 seconds.\n",
      "\u001b[32m[0215 13:14:00 @saver.py:79]\u001b[0m Model saved to ./output_TGAN/output/model\\model-1720000.\n"
     ]
    },
    {
     "name": "stderr",
     "output_type": "stream",
     "text": [
      "\n"
     ]
    },
    {
     "name": "stdout",
     "output_type": "stream",
     "text": [
      "\u001b[32m[0215 13:14:01 @monitor.py:467]\u001b[0m GAN_loss/discrim/accuracy_fake: 0.95\n",
      "\u001b[32m[0215 13:14:01 @monitor.py:467]\u001b[0m GAN_loss/discrim/accuracy_real: 0.13\n",
      "\u001b[32m[0215 13:14:01 @monitor.py:467]\u001b[0m GAN_loss/discrim/loss: 0.64252\n",
      "\u001b[32m[0215 13:14:01 @monitor.py:467]\u001b[0m GAN_loss/gen/final-g-loss: 1.0949\n",
      "\u001b[32m[0215 13:14:01 @monitor.py:467]\u001b[0m GAN_loss/gen/klloss: 0.074941\n",
      "\u001b[32m[0215 13:14:01 @monitor.py:467]\u001b[0m GAN_loss/gen/loss: 1.02\n",
      "\u001b[32m[0215 13:14:01 @monitor.py:467]\u001b[0m QueueInput/queue_size: 50\n",
      "\u001b[32m[0215 13:14:01 @base.py:275]\u001b[0m Start Epoch 861 ...\n"
     ]
    },
    {
     "name": "stderr",
     "output_type": "stream",
     "text": [
      "100%|#################################################################################|2000/2000[00:32<00:00,60.72it/s]"
     ]
    },
    {
     "name": "stdout",
     "output_type": "stream",
     "text": [
      "\u001b[32m[0215 13:14:34 @base.py:285]\u001b[0m Epoch 861 (global_step 1722000) finished, time:32.9 seconds.\n",
      "\u001b[32m[0215 13:14:34 @saver.py:79]\u001b[0m Model saved to ./output_TGAN/output/model\\model-1722000.\n",
      "\u001b[32m[0215 13:14:34 @monitor.py:467]\u001b[0m GAN_loss/discrim/accuracy_fake: 0.915\n",
      "\u001b[32m[0215 13:14:34 @monitor.py:467]\u001b[0m GAN_loss/discrim/accuracy_real: 0.125\n",
      "\u001b[32m[0215 13:14:34 @monitor.py:467]\u001b[0m GAN_loss/discrim/loss: 0.64608\n",
      "\u001b[32m[0215 13:14:34 @monitor.py:467]\u001b[0m GAN_loss/gen/final-g-loss: 1.1213\n"
     ]
    },
    {
     "name": "stderr",
     "output_type": "stream",
     "text": [
      "\n"
     ]
    },
    {
     "name": "stdout",
     "output_type": "stream",
     "text": [
      "\u001b[32m[0215 13:14:34 @monitor.py:467]\u001b[0m GAN_loss/gen/klloss: 0.1161\n",
      "\u001b[32m[0215 13:14:34 @monitor.py:467]\u001b[0m GAN_loss/gen/loss: 1.0052\n",
      "\u001b[32m[0215 13:14:34 @monitor.py:467]\u001b[0m QueueInput/queue_size: 50\n",
      "\u001b[32m[0215 13:14:34 @base.py:275]\u001b[0m Start Epoch 862 ...\n"
     ]
    },
    {
     "name": "stderr",
     "output_type": "stream",
     "text": [
      "100%|#################################################################################|2000/2000[00:32<00:00,60.87it/s]"
     ]
    },
    {
     "name": "stdout",
     "output_type": "stream",
     "text": [
      "\u001b[32m[0215 13:15:07 @base.py:285]\u001b[0m Epoch 862 (global_step 1724000) finished, time:32.9 seconds.\n",
      "\u001b[32m[0215 13:15:07 @saver.py:79]\u001b[0m Model saved to ./output_TGAN/output/model\\model-1724000.\n",
      "\u001b[32m[0215 13:15:07 @monitor.py:467]\u001b[0m GAN_loss/discrim/accuracy_fake: 0.97\n",
      "\u001b[32m[0215 13:15:07 @monitor.py:467]\u001b[0m GAN_loss/discrim/accuracy_real: 0.115\n",
      "\u001b[32m[0215 13:15:07 @monitor.py:467]\u001b[0m GAN_loss/discrim/loss: 0.64186\n",
      "\u001b[32m[0215 13:15:07 @monitor.py:467]\u001b[0m GAN_loss/gen/final-g-loss: 1.1361\n"
     ]
    },
    {
     "name": "stderr",
     "output_type": "stream",
     "text": [
      "\n"
     ]
    },
    {
     "name": "stdout",
     "output_type": "stream",
     "text": [
      "\u001b[32m[0215 13:15:07 @monitor.py:467]\u001b[0m GAN_loss/gen/klloss: 0.1226\n",
      "\u001b[32m[0215 13:15:07 @monitor.py:467]\u001b[0m GAN_loss/gen/loss: 1.0135\n",
      "\u001b[32m[0215 13:15:07 @monitor.py:467]\u001b[0m QueueInput/queue_size: 50\n",
      "\u001b[32m[0215 13:15:07 @base.py:275]\u001b[0m Start Epoch 863 ...\n"
     ]
    },
    {
     "name": "stderr",
     "output_type": "stream",
     "text": [
      "100%|#################################################################################|2000/2000[00:33<00:00,59.96it/s]"
     ]
    },
    {
     "name": "stdout",
     "output_type": "stream",
     "text": [
      "\u001b[32m[0215 13:15:40 @base.py:285]\u001b[0m Epoch 863 (global_step 1726000) finished, time:33.4 seconds.\n",
      "\u001b[32m[0215 13:15:40 @saver.py:79]\u001b[0m Model saved to ./output_TGAN/output/model\\model-1726000.\n"
     ]
    },
    {
     "name": "stderr",
     "output_type": "stream",
     "text": [
      "\n"
     ]
    },
    {
     "name": "stdout",
     "output_type": "stream",
     "text": [
      "\u001b[32m[0215 13:15:40 @monitor.py:467]\u001b[0m GAN_loss/discrim/accuracy_fake: 0.96\n",
      "\u001b[32m[0215 13:15:40 @monitor.py:467]\u001b[0m GAN_loss/discrim/accuracy_real: 0.15\n",
      "\u001b[32m[0215 13:15:40 @monitor.py:467]\u001b[0m GAN_loss/discrim/loss: 0.64165\n",
      "\u001b[32m[0215 13:15:40 @monitor.py:467]\u001b[0m GAN_loss/gen/final-g-loss: 1.1203\n",
      "\u001b[32m[0215 13:15:40 @monitor.py:467]\u001b[0m GAN_loss/gen/klloss: 0.11268\n",
      "\u001b[32m[0215 13:15:40 @monitor.py:467]\u001b[0m GAN_loss/gen/loss: 1.0076\n",
      "\u001b[32m[0215 13:15:40 @monitor.py:467]\u001b[0m QueueInput/queue_size: 50\n",
      "\u001b[32m[0215 13:15:40 @base.py:275]\u001b[0m Start Epoch 864 ...\n"
     ]
    },
    {
     "name": "stderr",
     "output_type": "stream",
     "text": [
      "100%|#################################################################################|2000/2000[00:34<00:00,57.22it/s]"
     ]
    },
    {
     "name": "stdout",
     "output_type": "stream",
     "text": [
      "\u001b[32m[0215 13:16:15 @base.py:285]\u001b[0m Epoch 864 (global_step 1728000) finished, time:35 seconds.\n",
      "\u001b[32m[0215 13:16:15 @saver.py:79]\u001b[0m Model saved to ./output_TGAN/output/model\\model-1728000.\n"
     ]
    },
    {
     "name": "stderr",
     "output_type": "stream",
     "text": [
      "\n"
     ]
    },
    {
     "name": "stdout",
     "output_type": "stream",
     "text": [
      "\u001b[32m[0215 13:16:15 @monitor.py:467]\u001b[0m GAN_loss/discrim/accuracy_fake: 0.92\n",
      "\u001b[32m[0215 13:16:15 @monitor.py:467]\u001b[0m GAN_loss/discrim/accuracy_real: 0.12\n",
      "\u001b[32m[0215 13:16:15 @monitor.py:467]\u001b[0m GAN_loss/discrim/loss: 0.64709\n",
      "\u001b[32m[0215 13:16:15 @monitor.py:467]\u001b[0m GAN_loss/gen/final-g-loss: 1.0772\n",
      "\u001b[32m[0215 13:16:15 @monitor.py:467]\u001b[0m GAN_loss/gen/klloss: 0.069055\n",
      "\u001b[32m[0215 13:16:15 @monitor.py:467]\u001b[0m GAN_loss/gen/loss: 1.0081\n",
      "\u001b[32m[0215 13:16:15 @monitor.py:467]\u001b[0m QueueInput/queue_size: 50\n",
      "\u001b[32m[0215 13:16:15 @base.py:275]\u001b[0m Start Epoch 865 ...\n"
     ]
    },
    {
     "name": "stderr",
     "output_type": "stream",
     "text": [
      "100%|#################################################################################|2000/2000[00:34<00:00,58.08it/s]"
     ]
    },
    {
     "name": "stdout",
     "output_type": "stream",
     "text": [
      "\u001b[32m[0215 13:16:50 @base.py:285]\u001b[0m Epoch 865 (global_step 1730000) finished, time:34.4 seconds.\n",
      "\u001b[32m[0215 13:16:50 @saver.py:79]\u001b[0m Model saved to ./output_TGAN/output/model\\model-1730000.\n"
     ]
    },
    {
     "name": "stderr",
     "output_type": "stream",
     "text": [
      "\n"
     ]
    },
    {
     "name": "stdout",
     "output_type": "stream",
     "text": [
      "\u001b[32m[0215 13:16:50 @monitor.py:467]\u001b[0m GAN_loss/discrim/accuracy_fake: 0.94\n",
      "\u001b[32m[0215 13:16:50 @monitor.py:467]\u001b[0m GAN_loss/discrim/accuracy_real: 0.115\n",
      "\u001b[32m[0215 13:16:50 @monitor.py:467]\u001b[0m GAN_loss/discrim/loss: 0.64383\n",
      "\u001b[32m[0215 13:16:50 @monitor.py:467]\u001b[0m GAN_loss/gen/final-g-loss: 1.1191\n",
      "\u001b[32m[0215 13:16:50 @monitor.py:467]\u001b[0m GAN_loss/gen/klloss: 0.10508\n",
      "\u001b[32m[0215 13:16:50 @monitor.py:467]\u001b[0m GAN_loss/gen/loss: 1.014\n",
      "\u001b[32m[0215 13:16:50 @monitor.py:467]\u001b[0m QueueInput/queue_size: 50\n",
      "\u001b[32m[0215 13:16:50 @base.py:275]\u001b[0m Start Epoch 866 ...\n"
     ]
    },
    {
     "name": "stderr",
     "output_type": "stream",
     "text": [
      "100%|#################################################################################|2000/2000[00:34<00:00,57.87it/s]"
     ]
    },
    {
     "name": "stdout",
     "output_type": "stream",
     "text": [
      "\u001b[32m[0215 13:17:25 @base.py:285]\u001b[0m Epoch 866 (global_step 1732000) finished, time:34.6 seconds.\n",
      "\u001b[32m[0215 13:17:25 @saver.py:79]\u001b[0m Model saved to ./output_TGAN/output/model\\model-1732000.\n"
     ]
    },
    {
     "name": "stderr",
     "output_type": "stream",
     "text": [
      "\n"
     ]
    },
    {
     "name": "stdout",
     "output_type": "stream",
     "text": [
      "\u001b[32m[0215 13:17:25 @monitor.py:467]\u001b[0m GAN_loss/discrim/accuracy_fake: 0.93\n",
      "\u001b[32m[0215 13:17:25 @monitor.py:467]\u001b[0m GAN_loss/discrim/accuracy_real: 0.115\n",
      "\u001b[32m[0215 13:17:25 @monitor.py:467]\u001b[0m GAN_loss/discrim/loss: 0.64312\n",
      "\u001b[32m[0215 13:17:25 @monitor.py:467]\u001b[0m GAN_loss/gen/final-g-loss: 1.0999\n",
      "\u001b[32m[0215 13:17:25 @monitor.py:467]\u001b[0m GAN_loss/gen/klloss: 0.08703\n",
      "\u001b[32m[0215 13:17:25 @monitor.py:467]\u001b[0m GAN_loss/gen/loss: 1.0129\n",
      "\u001b[32m[0215 13:17:25 @monitor.py:467]\u001b[0m QueueInput/queue_size: 50\n",
      "\u001b[32m[0215 13:17:25 @base.py:275]\u001b[0m Start Epoch 867 ...\n"
     ]
    },
    {
     "name": "stderr",
     "output_type": "stream",
     "text": [
      "100%|#################################################################################|2000/2000[00:33<00:00,59.09it/s]"
     ]
    },
    {
     "name": "stdout",
     "output_type": "stream",
     "text": [
      "\u001b[32m[0215 13:17:59 @base.py:285]\u001b[0m Epoch 867 (global_step 1734000) finished, time:33.9 seconds.\n",
      "\u001b[32m[0215 13:17:59 @saver.py:79]\u001b[0m Model saved to ./output_TGAN/output/model\\model-1734000.\n",
      "\u001b[32m[0215 13:17:59 @monitor.py:467]\u001b[0m GAN_loss/discrim/accuracy_fake: 0.92\n"
     ]
    },
    {
     "name": "stderr",
     "output_type": "stream",
     "text": [
      "\n"
     ]
    },
    {
     "name": "stdout",
     "output_type": "stream",
     "text": [
      "\u001b[32m[0215 13:17:59 @monitor.py:467]\u001b[0m GAN_loss/discrim/accuracy_real: 0.125\n",
      "\u001b[32m[0215 13:17:59 @monitor.py:467]\u001b[0m GAN_loss/discrim/loss: 0.65348\n",
      "\u001b[32m[0215 13:17:59 @monitor.py:467]\u001b[0m GAN_loss/gen/final-g-loss: 1.1095\n",
      "\u001b[32m[0215 13:17:59 @monitor.py:467]\u001b[0m GAN_loss/gen/klloss: 0.10866\n",
      "\u001b[32m[0215 13:17:59 @monitor.py:467]\u001b[0m GAN_loss/gen/loss: 1.0008\n",
      "\u001b[32m[0215 13:17:59 @monitor.py:467]\u001b[0m QueueInput/queue_size: 50\n",
      "\u001b[32m[0215 13:17:59 @base.py:275]\u001b[0m Start Epoch 868 ...\n"
     ]
    },
    {
     "name": "stderr",
     "output_type": "stream",
     "text": [
      "100%|#################################################################################|2000/2000[00:32<00:00,60.78it/s]"
     ]
    },
    {
     "name": "stdout",
     "output_type": "stream",
     "text": [
      "\u001b[32m[0215 13:18:32 @base.py:285]\u001b[0m Epoch 868 (global_step 1736000) finished, time:32.9 seconds.\n",
      "\u001b[32m[0215 13:18:32 @saver.py:79]\u001b[0m Model saved to ./output_TGAN/output/model\\model-1736000.\n",
      "\u001b[32m[0215 13:18:32 @monitor.py:467]\u001b[0m GAN_loss/discrim/accuracy_fake: 0.955\n",
      "\u001b[32m[0215 13:18:32 @monitor.py:467]\u001b[0m GAN_loss/discrim/accuracy_real: 0.13\n"
     ]
    },
    {
     "name": "stderr",
     "output_type": "stream",
     "text": [
      "\n"
     ]
    },
    {
     "name": "stdout",
     "output_type": "stream",
     "text": [
      "\u001b[32m[0215 13:18:32 @monitor.py:467]\u001b[0m GAN_loss/discrim/loss: 0.63119\n",
      "\u001b[32m[0215 13:18:32 @monitor.py:467]\u001b[0m GAN_loss/gen/final-g-loss: 1.1357\n",
      "\u001b[32m[0215 13:18:32 @monitor.py:467]\u001b[0m GAN_loss/gen/klloss: 0.10222\n",
      "\u001b[32m[0215 13:18:32 @monitor.py:467]\u001b[0m GAN_loss/gen/loss: 1.0334\n",
      "\u001b[32m[0215 13:18:32 @monitor.py:467]\u001b[0m QueueInput/queue_size: 50\n",
      "\u001b[32m[0215 13:18:32 @base.py:275]\u001b[0m Start Epoch 869 ...\n"
     ]
    },
    {
     "name": "stderr",
     "output_type": "stream",
     "text": [
      "100%|#################################################################################|2000/2000[00:33<00:00,60.46it/s]"
     ]
    },
    {
     "name": "stdout",
     "output_type": "stream",
     "text": [
      "\u001b[32m[0215 13:19:05 @base.py:285]\u001b[0m Epoch 869 (global_step 1738000) finished, time:33.1 seconds.\n",
      "\u001b[32m[0215 13:19:05 @saver.py:79]\u001b[0m Model saved to ./output_TGAN/output/model\\model-1738000.\n",
      "\u001b[32m[0215 13:19:05 @monitor.py:467]\u001b[0m GAN_loss/discrim/accuracy_fake: 0.935\n",
      "\u001b[32m[0215 13:19:05 @monitor.py:467]\u001b[0m GAN_loss/discrim/accuracy_real: 0.125\n",
      "\u001b[32m[0215 13:19:05 @monitor.py:467]\u001b[0m GAN_loss/discrim/loss: 0.64262\n"
     ]
    },
    {
     "name": "stderr",
     "output_type": "stream",
     "text": [
      "\n"
     ]
    },
    {
     "name": "stdout",
     "output_type": "stream",
     "text": [
      "\u001b[32m[0215 13:19:05 @monitor.py:467]\u001b[0m GAN_loss/gen/final-g-loss: 1.123\n",
      "\u001b[32m[0215 13:19:05 @monitor.py:467]\u001b[0m GAN_loss/gen/klloss: 0.11607\n",
      "\u001b[32m[0215 13:19:05 @monitor.py:467]\u001b[0m GAN_loss/gen/loss: 1.007\n",
      "\u001b[32m[0215 13:19:05 @monitor.py:467]\u001b[0m QueueInput/queue_size: 50\n",
      "\u001b[32m[0215 13:19:05 @base.py:275]\u001b[0m Start Epoch 870 ...\n"
     ]
    },
    {
     "name": "stderr",
     "output_type": "stream",
     "text": [
      "100%|#################################################################################|2000/2000[00:31<00:00,63.54it/s]"
     ]
    },
    {
     "name": "stdout",
     "output_type": "stream",
     "text": [
      "\u001b[32m[0215 13:19:37 @base.py:285]\u001b[0m Epoch 870 (global_step 1740000) finished, time:31.5 seconds.\n",
      "\u001b[32m[0215 13:19:37 @saver.py:79]\u001b[0m Model saved to ./output_TGAN/output/model\\model-1740000.\n"
     ]
    },
    {
     "name": "stderr",
     "output_type": "stream",
     "text": [
      "\n"
     ]
    },
    {
     "name": "stdout",
     "output_type": "stream",
     "text": [
      "\u001b[32m[0215 13:19:37 @monitor.py:467]\u001b[0m GAN_loss/discrim/accuracy_fake: 0.925\n",
      "\u001b[32m[0215 13:19:37 @monitor.py:467]\u001b[0m GAN_loss/discrim/accuracy_real: 0.075\n",
      "\u001b[32m[0215 13:19:37 @monitor.py:467]\u001b[0m GAN_loss/discrim/loss: 0.64675\n",
      "\u001b[32m[0215 13:19:37 @monitor.py:467]\u001b[0m GAN_loss/gen/final-g-loss: 1.1603\n",
      "\u001b[32m[0215 13:19:37 @monitor.py:467]\u001b[0m GAN_loss/gen/klloss: 0.13787\n",
      "\u001b[32m[0215 13:19:37 @monitor.py:467]\u001b[0m GAN_loss/gen/loss: 1.0225\n",
      "\u001b[32m[0215 13:19:37 @monitor.py:467]\u001b[0m QueueInput/queue_size: 50\n",
      "\u001b[32m[0215 13:19:37 @base.py:275]\u001b[0m Start Epoch 871 ...\n"
     ]
    },
    {
     "name": "stderr",
     "output_type": "stream",
     "text": [
      "100%|#################################################################################|2000/2000[00:30<00:00,64.67it/s]"
     ]
    },
    {
     "name": "stdout",
     "output_type": "stream",
     "text": [
      "\u001b[32m[0215 13:20:08 @base.py:285]\u001b[0m Epoch 871 (global_step 1742000) finished, time:30.9 seconds.\n",
      "\u001b[32m[0215 13:20:08 @saver.py:79]\u001b[0m Model saved to ./output_TGAN/output/model\\model-1742000.\n",
      "\u001b[32m[0215 13:20:08 @monitor.py:467]\u001b[0m GAN_loss/discrim/accuracy_fake: 0.93\n",
      "\u001b[32m[0215 13:20:08 @monitor.py:467]\u001b[0m GAN_loss/discrim/accuracy_real: 0.115\n",
      "\u001b[32m[0215 13:20:08 @monitor.py:467]\u001b[0m GAN_loss/discrim/loss: 0.64602\n",
      "\u001b[32m[0215 13:20:08 @monitor.py:467]\u001b[0m GAN_loss/gen/final-g-loss: 1.1735\n",
      "\u001b[32m[0215 13:20:08 @monitor.py:467]\u001b[0m GAN_loss/gen/klloss: 0.15027\n",
      "\u001b[32m[0215 13:20:08 @monitor.py:467]\u001b[0m GAN_loss/gen/loss: 1.0232\n",
      "\u001b[32m[0215 13:20:08 @monitor.py:467]\u001b[0m QueueInput/queue_size: 50\n",
      "\u001b[32m[0215 13:20:08 @base.py:275]\u001b[0m Start Epoch 872 ...\n"
     ]
    },
    {
     "name": "stderr",
     "output_type": "stream",
     "text": [
      "\n",
      "100%|#################################################################################|2000/2000[00:30<00:00,64.72it/s]"
     ]
    },
    {
     "name": "stdout",
     "output_type": "stream",
     "text": [
      "\u001b[32m[0215 13:20:39 @base.py:285]\u001b[0m Epoch 872 (global_step 1744000) finished, time:30.9 seconds.\n",
      "\u001b[32m[0215 13:20:39 @saver.py:79]\u001b[0m Model saved to ./output_TGAN/output/model\\model-1744000.\n",
      "\u001b[32m[0215 13:20:39 @monitor.py:467]\u001b[0m GAN_loss/discrim/accuracy_fake: 0.935\n",
      "\u001b[32m[0215 13:20:39 @monitor.py:467]\u001b[0m GAN_loss/discrim/accuracy_real: 0.1\n",
      "\u001b[32m[0215 13:20:39 @monitor.py:467]\u001b[0m GAN_loss/discrim/loss: 0.65276\n",
      "\u001b[32m[0215 13:20:39 @monitor.py:467]\u001b[0m GAN_loss/gen/final-g-loss: 1.1928\n",
      "\u001b[32m[0215 13:20:39 @monitor.py:467]\u001b[0m GAN_loss/gen/klloss: 0.1791\n",
      "\u001b[32m[0215 13:20:39 @monitor.py:467]\u001b[0m GAN_loss/gen/loss: 1.0137\n",
      "\u001b[32m[0215 13:20:39 @monitor.py:467]\u001b[0m QueueInput/queue_size: 50\n",
      "\u001b[32m[0215 13:20:39 @base.py:275]\u001b[0m Start Epoch 873 ...\n"
     ]
    },
    {
     "name": "stderr",
     "output_type": "stream",
     "text": [
      "\n",
      "100%|#################################################################################|2000/2000[00:30<00:00,64.68it/s]"
     ]
    },
    {
     "name": "stdout",
     "output_type": "stream",
     "text": [
      "\u001b[32m[0215 13:21:10 @base.py:285]\u001b[0m Epoch 873 (global_step 1746000) finished, time:30.9 seconds.\n",
      "\u001b[32m[0215 13:21:10 @saver.py:79]\u001b[0m Model saved to ./output_TGAN/output/model\\model-1746000.\n",
      "\u001b[32m[0215 13:21:10 @monitor.py:467]\u001b[0m GAN_loss/discrim/accuracy_fake: 0.95\n"
     ]
    },
    {
     "name": "stderr",
     "output_type": "stream",
     "text": [
      "\n"
     ]
    },
    {
     "name": "stdout",
     "output_type": "stream",
     "text": [
      "\u001b[32m[0215 13:21:10 @monitor.py:467]\u001b[0m GAN_loss/discrim/accuracy_real: 0.105\n",
      "\u001b[32m[0215 13:21:10 @monitor.py:467]\u001b[0m GAN_loss/discrim/loss: 0.65283\n",
      "\u001b[32m[0215 13:21:10 @monitor.py:467]\u001b[0m GAN_loss/gen/final-g-loss: 1.1373\n",
      "\u001b[32m[0215 13:21:10 @monitor.py:467]\u001b[0m GAN_loss/gen/klloss: 0.11508\n",
      "\u001b[32m[0215 13:21:10 @monitor.py:467]\u001b[0m GAN_loss/gen/loss: 1.0223\n",
      "\u001b[32m[0215 13:21:10 @monitor.py:467]\u001b[0m QueueInput/queue_size: 50\n",
      "\u001b[32m[0215 13:21:10 @base.py:275]\u001b[0m Start Epoch 874 ...\n"
     ]
    },
    {
     "name": "stderr",
     "output_type": "stream",
     "text": [
      "100%|#################################################################################|2000/2000[00:30<00:00,64.73it/s]"
     ]
    },
    {
     "name": "stdout",
     "output_type": "stream",
     "text": [
      "\u001b[32m[0215 13:21:41 @base.py:285]\u001b[0m Epoch 874 (global_step 1748000) finished, time:30.9 seconds.\n",
      "\u001b[32m[0215 13:21:41 @saver.py:79]\u001b[0m Model saved to ./output_TGAN/output/model\\model-1748000.\n",
      "\u001b[32m[0215 13:21:41 @monitor.py:467]\u001b[0m GAN_loss/discrim/accuracy_fake: 0.945\n"
     ]
    },
    {
     "name": "stderr",
     "output_type": "stream",
     "text": [
      "\n"
     ]
    },
    {
     "name": "stdout",
     "output_type": "stream",
     "text": [
      "\u001b[32m[0215 13:21:41 @monitor.py:467]\u001b[0m GAN_loss/discrim/accuracy_real: 0.105\n",
      "\u001b[32m[0215 13:21:41 @monitor.py:467]\u001b[0m GAN_loss/discrim/loss: 0.65035\n",
      "\u001b[32m[0215 13:21:41 @monitor.py:467]\u001b[0m GAN_loss/gen/final-g-loss: 1.1178\n",
      "\u001b[32m[0215 13:21:41 @monitor.py:467]\u001b[0m GAN_loss/gen/klloss: 0.11613\n",
      "\u001b[32m[0215 13:21:41 @monitor.py:467]\u001b[0m GAN_loss/gen/loss: 1.0017\n",
      "\u001b[32m[0215 13:21:41 @monitor.py:467]\u001b[0m QueueInput/queue_size: 50\n",
      "\u001b[32m[0215 13:21:41 @base.py:275]\u001b[0m Start Epoch 875 ...\n"
     ]
    },
    {
     "name": "stderr",
     "output_type": "stream",
     "text": [
      "100%|#################################################################################|2000/2000[00:30<00:00,64.70it/s]"
     ]
    },
    {
     "name": "stdout",
     "output_type": "stream",
     "text": [
      "\u001b[32m[0215 13:22:12 @base.py:285]\u001b[0m Epoch 875 (global_step 1750000) finished, time:30.9 seconds.\n",
      "\u001b[32m[0215 13:22:12 @saver.py:79]\u001b[0m Model saved to ./output_TGAN/output/model\\model-1750000.\n",
      "\u001b[32m[0215 13:22:12 @monitor.py:467]\u001b[0m GAN_loss/discrim/accuracy_fake: 0.94\n"
     ]
    },
    {
     "name": "stderr",
     "output_type": "stream",
     "text": [
      "\n"
     ]
    },
    {
     "name": "stdout",
     "output_type": "stream",
     "text": [
      "\u001b[32m[0215 13:22:12 @monitor.py:467]\u001b[0m GAN_loss/discrim/accuracy_real: 0.155\n",
      "\u001b[32m[0215 13:22:12 @monitor.py:467]\u001b[0m GAN_loss/discrim/loss: 0.64967\n",
      "\u001b[32m[0215 13:22:12 @monitor.py:467]\u001b[0m GAN_loss/gen/final-g-loss: 1.0744\n",
      "\u001b[32m[0215 13:22:12 @monitor.py:467]\u001b[0m GAN_loss/gen/klloss: 0.07353\n",
      "\u001b[32m[0215 13:22:12 @monitor.py:467]\u001b[0m GAN_loss/gen/loss: 1.0008\n",
      "\u001b[32m[0215 13:22:12 @monitor.py:467]\u001b[0m QueueInput/queue_size: 50\n",
      "\u001b[32m[0215 13:22:12 @base.py:275]\u001b[0m Start Epoch 876 ...\n"
     ]
    },
    {
     "name": "stderr",
     "output_type": "stream",
     "text": [
      "100%|#################################################################################|2000/2000[00:30<00:00,64.62it/s]"
     ]
    },
    {
     "name": "stdout",
     "output_type": "stream",
     "text": [
      "\u001b[32m[0215 13:22:43 @base.py:285]\u001b[0m Epoch 876 (global_step 1752000) finished, time:30.9 seconds.\n",
      "\u001b[32m[0215 13:22:43 @saver.py:79]\u001b[0m Model saved to ./output_TGAN/output/model\\model-1752000.\n"
     ]
    },
    {
     "name": "stderr",
     "output_type": "stream",
     "text": [
      "\n"
     ]
    },
    {
     "name": "stdout",
     "output_type": "stream",
     "text": [
      "\u001b[32m[0215 13:22:44 @monitor.py:467]\u001b[0m GAN_loss/discrim/accuracy_fake: 0.925\n",
      "\u001b[32m[0215 13:22:44 @monitor.py:467]\u001b[0m GAN_loss/discrim/accuracy_real: 0.08\n",
      "\u001b[32m[0215 13:22:44 @monitor.py:467]\u001b[0m GAN_loss/discrim/loss: 0.6537\n",
      "\u001b[32m[0215 13:22:44 @monitor.py:467]\u001b[0m GAN_loss/gen/final-g-loss: 1.1112\n",
      "\u001b[32m[0215 13:22:44 @monitor.py:467]\u001b[0m GAN_loss/gen/klloss: 0.113\n",
      "\u001b[32m[0215 13:22:44 @monitor.py:467]\u001b[0m GAN_loss/gen/loss: 0.9982\n",
      "\u001b[32m[0215 13:22:44 @monitor.py:467]\u001b[0m QueueInput/queue_size: 50\n",
      "\u001b[32m[0215 13:22:44 @base.py:275]\u001b[0m Start Epoch 877 ...\n"
     ]
    },
    {
     "name": "stderr",
     "output_type": "stream",
     "text": [
      "100%|#################################################################################|2000/2000[00:30<00:00,64.66it/s]"
     ]
    },
    {
     "name": "stdout",
     "output_type": "stream",
     "text": [
      "\u001b[32m[0215 13:23:14 @base.py:285]\u001b[0m Epoch 877 (global_step 1754000) finished, time:30.9 seconds.\n",
      "\u001b[32m[0215 13:23:15 @saver.py:79]\u001b[0m Model saved to ./output_TGAN/output/model\\model-1754000.\n",
      "\u001b[32m[0215 13:23:15 @monitor.py:467]\u001b[0m GAN_loss/discrim/accuracy_fake: 0.935\n"
     ]
    },
    {
     "name": "stderr",
     "output_type": "stream",
     "text": [
      "\n"
     ]
    },
    {
     "name": "stdout",
     "output_type": "stream",
     "text": [
      "\u001b[32m[0215 13:23:15 @monitor.py:467]\u001b[0m GAN_loss/discrim/accuracy_real: 0.125\n",
      "\u001b[32m[0215 13:23:15 @monitor.py:467]\u001b[0m GAN_loss/discrim/loss: 0.64051\n",
      "\u001b[32m[0215 13:23:15 @monitor.py:467]\u001b[0m GAN_loss/gen/final-g-loss: 1.1049\n",
      "\u001b[32m[0215 13:23:15 @monitor.py:467]\u001b[0m GAN_loss/gen/klloss: 0.081705\n",
      "\u001b[32m[0215 13:23:15 @monitor.py:467]\u001b[0m GAN_loss/gen/loss: 1.0232\n",
      "\u001b[32m[0215 13:23:15 @monitor.py:467]\u001b[0m QueueInput/queue_size: 50\n",
      "\u001b[32m[0215 13:23:15 @base.py:275]\u001b[0m Start Epoch 878 ...\n"
     ]
    },
    {
     "name": "stderr",
     "output_type": "stream",
     "text": [
      "100%|#################################################################################|2000/2000[00:30<00:00,64.66it/s]"
     ]
    },
    {
     "name": "stdout",
     "output_type": "stream",
     "text": [
      "\u001b[32m[0215 13:23:46 @base.py:285]\u001b[0m Epoch 878 (global_step 1756000) finished, time:30.9 seconds.\n",
      "\u001b[32m[0215 13:23:46 @saver.py:79]\u001b[0m Model saved to ./output_TGAN/output/model\\model-1756000.\n",
      "\u001b[32m[0215 13:23:46 @monitor.py:467]\u001b[0m GAN_loss/discrim/accuracy_fake: 0.945\n",
      "\u001b[32m[0215 13:23:46 @monitor.py:467]\u001b[0m GAN_loss/discrim/accuracy_real: 0.11\n",
      "\u001b[32m[0215 13:23:46 @monitor.py:467]\u001b[0m GAN_loss/discrim/loss: 0.63755\n",
      "\u001b[32m[0215 13:23:46 @monitor.py:467]\u001b[0m GAN_loss/gen/final-g-loss: 1.1361\n",
      "\u001b[32m[0215 13:23:46 @monitor.py:467]\u001b[0m GAN_loss/gen/klloss: 0.11537\n",
      "\u001b[32m[0215 13:23:46 @monitor.py:467]\u001b[0m GAN_loss/gen/loss: 1.0207\n",
      "\u001b[32m[0215 13:23:46 @monitor.py:467]\u001b[0m QueueInput/queue_size: 50\n",
      "\u001b[32m[0215 13:23:46 @base.py:275]\u001b[0m Start Epoch 879 ...\n"
     ]
    },
    {
     "name": "stderr",
     "output_type": "stream",
     "text": [
      "\n",
      "100%|#################################################################################|2000/2000[00:30<00:00,64.66it/s]"
     ]
    },
    {
     "name": "stdout",
     "output_type": "stream",
     "text": [
      "\u001b[32m[0215 13:24:17 @base.py:285]\u001b[0m Epoch 879 (global_step 1758000) finished, time:30.9 seconds.\n",
      "\u001b[32m[0215 13:24:17 @saver.py:79]\u001b[0m Model saved to ./output_TGAN/output/model\\model-1758000.\n",
      "\u001b[32m[0215 13:24:17 @monitor.py:467]\u001b[0m GAN_loss/discrim/accuracy_fake: 0.935\n",
      "\u001b[32m[0215 13:24:17 @monitor.py:467]\u001b[0m GAN_loss/discrim/accuracy_real: 0.1\n",
      "\u001b[32m[0215 13:24:17 @monitor.py:467]\u001b[0m GAN_loss/discrim/loss: 0.65498\n",
      "\u001b[32m[0215 13:24:17 @monitor.py:467]\u001b[0m GAN_loss/gen/final-g-loss: 1.073\n",
      "\u001b[32m[0215 13:24:17 @monitor.py:467]\u001b[0m GAN_loss/gen/klloss: 0.084858\n",
      "\u001b[32m[0215 13:24:17 @monitor.py:467]\u001b[0m GAN_loss/gen/loss: 0.98812\n",
      "\u001b[32m[0215 13:24:17 @monitor.py:467]\u001b[0m QueueInput/queue_size: 50\n",
      "\u001b[32m[0215 13:24:17 @base.py:275]\u001b[0m Start Epoch 880 ...\n"
     ]
    },
    {
     "name": "stderr",
     "output_type": "stream",
     "text": [
      "\n",
      "100%|#################################################################################|2000/2000[00:30<00:00,64.68it/s]"
     ]
    },
    {
     "name": "stdout",
     "output_type": "stream",
     "text": [
      "\u001b[32m[0215 13:24:48 @base.py:285]\u001b[0m Epoch 880 (global_step 1760000) finished, time:30.9 seconds.\n",
      "\u001b[32m[0215 13:24:48 @saver.py:79]\u001b[0m Model saved to ./output_TGAN/output/model\\model-1760000.\n",
      "\u001b[32m[0215 13:24:48 @monitor.py:467]\u001b[0m GAN_loss/discrim/accuracy_fake: 0.935\n",
      "\u001b[32m[0215 13:24:48 @monitor.py:467]\u001b[0m GAN_loss/discrim/accuracy_real: 0.085\n",
      "\u001b[32m[0215 13:24:48 @monitor.py:467]\u001b[0m GAN_loss/discrim/loss: 0.65127\n",
      "\u001b[32m[0215 13:24:48 @monitor.py:467]\u001b[0m GAN_loss/gen/final-g-loss: 1.1677\n",
      "\u001b[32m[0215 13:24:48 @monitor.py:467]\u001b[0m GAN_loss/gen/klloss: 0.14777\n",
      "\u001b[32m[0215 13:24:48 @monitor.py:467]\u001b[0m GAN_loss/gen/loss: 1.0199\n",
      "\u001b[32m[0215 13:24:48 @monitor.py:467]\u001b[0m QueueInput/queue_size: 50\n",
      "\u001b[32m[0215 13:24:48 @base.py:275]\u001b[0m Start Epoch 881 ...\n"
     ]
    },
    {
     "name": "stderr",
     "output_type": "stream",
     "text": [
      "\n",
      "100%|#################################################################################|2000/2000[00:31<00:00,64.08it/s]"
     ]
    },
    {
     "name": "stdout",
     "output_type": "stream",
     "text": [
      "\u001b[32m[0215 13:25:19 @base.py:285]\u001b[0m Epoch 881 (global_step 1762000) finished, time:31.2 seconds.\n",
      "\u001b[32m[0215 13:25:19 @saver.py:79]\u001b[0m Model saved to ./output_TGAN/output/model\\model-1762000.\n",
      "\u001b[32m[0215 13:25:19 @monitor.py:467]\u001b[0m GAN_loss/discrim/accuracy_fake: 0.91\n"
     ]
    },
    {
     "name": "stderr",
     "output_type": "stream",
     "text": [
      "\n"
     ]
    },
    {
     "name": "stdout",
     "output_type": "stream",
     "text": [
      "\u001b[32m[0215 13:25:19 @monitor.py:467]\u001b[0m GAN_loss/discrim/accuracy_real: 0.09\n",
      "\u001b[32m[0215 13:25:19 @monitor.py:467]\u001b[0m GAN_loss/discrim/loss: 0.65596\n",
      "\u001b[32m[0215 13:25:19 @monitor.py:467]\u001b[0m GAN_loss/gen/final-g-loss: 1.083\n",
      "\u001b[32m[0215 13:25:19 @monitor.py:467]\u001b[0m GAN_loss/gen/klloss: 0.10278\n",
      "\u001b[32m[0215 13:25:19 @monitor.py:467]\u001b[0m GAN_loss/gen/loss: 0.98024\n",
      "\u001b[32m[0215 13:25:19 @monitor.py:467]\u001b[0m QueueInput/queue_size: 50\n",
      "\u001b[32m[0215 13:25:19 @base.py:275]\u001b[0m Start Epoch 882 ...\n"
     ]
    },
    {
     "name": "stderr",
     "output_type": "stream",
     "text": [
      "100%|#################################################################################|2000/2000[00:31<00:00,64.07it/s]"
     ]
    },
    {
     "name": "stdout",
     "output_type": "stream",
     "text": [
      "\u001b[32m[0215 13:25:51 @base.py:285]\u001b[0m Epoch 882 (global_step 1764000) finished, time:31.2 seconds.\n",
      "\u001b[32m[0215 13:25:51 @saver.py:79]\u001b[0m Model saved to ./output_TGAN/output/model\\model-1764000.\n",
      "\u001b[32m[0215 13:25:51 @monitor.py:467]\u001b[0m GAN_loss/discrim/accuracy_fake: 0.935\n",
      "\u001b[32m[0215 13:25:51 @monitor.py:467]\u001b[0m GAN_loss/discrim/accuracy_real: 0.125\n",
      "\u001b[32m[0215 13:25:51 @monitor.py:467]\u001b[0m GAN_loss/discrim/loss: 0.64865\n"
     ]
    },
    {
     "name": "stderr",
     "output_type": "stream",
     "text": [
      "\n"
     ]
    },
    {
     "name": "stdout",
     "output_type": "stream",
     "text": [
      "\u001b[32m[0215 13:25:51 @monitor.py:467]\u001b[0m GAN_loss/gen/final-g-loss: 1.097\n",
      "\u001b[32m[0215 13:25:51 @monitor.py:467]\u001b[0m GAN_loss/gen/klloss: 0.082962\n",
      "\u001b[32m[0215 13:25:51 @monitor.py:467]\u001b[0m GAN_loss/gen/loss: 1.014\n",
      "\u001b[32m[0215 13:25:51 @monitor.py:467]\u001b[0m QueueInput/queue_size: 50\n",
      "\u001b[32m[0215 13:25:51 @base.py:275]\u001b[0m Start Epoch 883 ...\n"
     ]
    },
    {
     "name": "stderr",
     "output_type": "stream",
     "text": [
      "100%|#################################################################################|2000/2000[00:31<00:00,63.93it/s]"
     ]
    },
    {
     "name": "stdout",
     "output_type": "stream",
     "text": [
      "\u001b[32m[0215 13:26:22 @base.py:285]\u001b[0m Epoch 883 (global_step 1766000) finished, time:31.3 seconds.\n",
      "\u001b[32m[0215 13:26:22 @saver.py:79]\u001b[0m Model saved to ./output_TGAN/output/model\\model-1766000.\n"
     ]
    },
    {
     "name": "stderr",
     "output_type": "stream",
     "text": [
      "\n"
     ]
    },
    {
     "name": "stdout",
     "output_type": "stream",
     "text": [
      "\u001b[32m[0215 13:26:22 @monitor.py:467]\u001b[0m GAN_loss/discrim/accuracy_fake: 0.925\n",
      "\u001b[32m[0215 13:26:22 @monitor.py:467]\u001b[0m GAN_loss/discrim/accuracy_real: 0.12\n",
      "\u001b[32m[0215 13:26:22 @monitor.py:467]\u001b[0m GAN_loss/discrim/loss: 0.6503\n",
      "\u001b[32m[0215 13:26:22 @monitor.py:467]\u001b[0m GAN_loss/gen/final-g-loss: 1.0729\n",
      "\u001b[32m[0215 13:26:22 @monitor.py:467]\u001b[0m GAN_loss/gen/klloss: 0.062011\n",
      "\u001b[32m[0215 13:26:22 @monitor.py:467]\u001b[0m GAN_loss/gen/loss: 1.0109\n",
      "\u001b[32m[0215 13:26:22 @monitor.py:467]\u001b[0m QueueInput/queue_size: 50\n",
      "\u001b[32m[0215 13:26:22 @base.py:275]\u001b[0m Start Epoch 884 ...\n"
     ]
    },
    {
     "name": "stderr",
     "output_type": "stream",
     "text": [
      "100%|#################################################################################|2000/2000[00:31<00:00,64.18it/s]"
     ]
    },
    {
     "name": "stdout",
     "output_type": "stream",
     "text": [
      "\u001b[32m[0215 13:26:53 @base.py:285]\u001b[0m Epoch 884 (global_step 1768000) finished, time:31.2 seconds.\n",
      "\u001b[32m[0215 13:26:54 @saver.py:79]\u001b[0m Model saved to ./output_TGAN/output/model\\model-1768000.\n"
     ]
    },
    {
     "name": "stderr",
     "output_type": "stream",
     "text": [
      "\n"
     ]
    },
    {
     "name": "stdout",
     "output_type": "stream",
     "text": [
      "\u001b[32m[0215 13:26:54 @monitor.py:467]\u001b[0m GAN_loss/discrim/accuracy_fake: 0.93\n",
      "\u001b[32m[0215 13:26:54 @monitor.py:467]\u001b[0m GAN_loss/discrim/accuracy_real: 0.105\n",
      "\u001b[32m[0215 13:26:54 @monitor.py:467]\u001b[0m GAN_loss/discrim/loss: 0.63923\n",
      "\u001b[32m[0215 13:26:54 @monitor.py:467]\u001b[0m GAN_loss/gen/final-g-loss: 1.1333\n",
      "\u001b[32m[0215 13:26:54 @monitor.py:467]\u001b[0m GAN_loss/gen/klloss: 0.12108\n",
      "\u001b[32m[0215 13:26:54 @monitor.py:467]\u001b[0m GAN_loss/gen/loss: 1.0122\n",
      "\u001b[32m[0215 13:26:54 @monitor.py:467]\u001b[0m QueueInput/queue_size: 50\n",
      "\u001b[32m[0215 13:26:54 @base.py:275]\u001b[0m Start Epoch 885 ...\n"
     ]
    },
    {
     "name": "stderr",
     "output_type": "stream",
     "text": [
      "100%|#################################################################################|2000/2000[00:32<00:00,61.47it/s]"
     ]
    },
    {
     "name": "stdout",
     "output_type": "stream",
     "text": [
      "\u001b[32m[0215 13:27:26 @base.py:285]\u001b[0m Epoch 885 (global_step 1770000) finished, time:32.5 seconds.\n",
      "\u001b[32m[0215 13:27:26 @saver.py:79]\u001b[0m Model saved to ./output_TGAN/output/model\\model-1770000.\n",
      "\u001b[32m[0215 13:27:26 @monitor.py:467]\u001b[0m GAN_loss/discrim/accuracy_fake: 0.955\n"
     ]
    },
    {
     "name": "stderr",
     "output_type": "stream",
     "text": [
      "\n"
     ]
    },
    {
     "name": "stdout",
     "output_type": "stream",
     "text": [
      "\u001b[32m[0215 13:27:26 @monitor.py:467]\u001b[0m GAN_loss/discrim/accuracy_real: 0.09\n",
      "\u001b[32m[0215 13:27:26 @monitor.py:467]\u001b[0m GAN_loss/discrim/loss: 0.65479\n",
      "\u001b[32m[0215 13:27:26 @monitor.py:467]\u001b[0m GAN_loss/gen/final-g-loss: 1.1443\n",
      "\u001b[32m[0215 13:27:26 @monitor.py:467]\u001b[0m GAN_loss/gen/klloss: 0.12029\n",
      "\u001b[32m[0215 13:27:26 @monitor.py:467]\u001b[0m GAN_loss/gen/loss: 1.0241\n",
      "\u001b[32m[0215 13:27:26 @monitor.py:467]\u001b[0m QueueInput/queue_size: 50\n",
      "\u001b[32m[0215 13:27:26 @base.py:275]\u001b[0m Start Epoch 886 ...\n"
     ]
    },
    {
     "name": "stderr",
     "output_type": "stream",
     "text": [
      "100%|#################################################################################|2000/2000[00:32<00:00,62.37it/s]"
     ]
    },
    {
     "name": "stdout",
     "output_type": "stream",
     "text": [
      "\u001b[32m[0215 13:27:58 @base.py:285]\u001b[0m Epoch 886 (global_step 1772000) finished, time:32.1 seconds.\n"
     ]
    },
    {
     "name": "stderr",
     "output_type": "stream",
     "text": [
      "\n"
     ]
    },
    {
     "name": "stdout",
     "output_type": "stream",
     "text": [
      "\u001b[32m[0215 13:27:58 @saver.py:79]\u001b[0m Model saved to ./output_TGAN/output/model\\model-1772000.\n",
      "\u001b[32m[0215 13:27:59 @monitor.py:467]\u001b[0m GAN_loss/discrim/accuracy_fake: 0.935\n",
      "\u001b[32m[0215 13:27:59 @monitor.py:467]\u001b[0m GAN_loss/discrim/accuracy_real: 0.155\n",
      "\u001b[32m[0215 13:27:59 @monitor.py:467]\u001b[0m GAN_loss/discrim/loss: 0.64654\n",
      "\u001b[32m[0215 13:27:59 @monitor.py:467]\u001b[0m GAN_loss/gen/final-g-loss: 1.1363\n",
      "\u001b[32m[0215 13:27:59 @monitor.py:467]\u001b[0m GAN_loss/gen/klloss: 0.13899\n",
      "\u001b[32m[0215 13:27:59 @monitor.py:467]\u001b[0m GAN_loss/gen/loss: 0.99731\n",
      "\u001b[32m[0215 13:27:59 @monitor.py:467]\u001b[0m QueueInput/queue_size: 50\n",
      "\u001b[32m[0215 13:27:59 @base.py:275]\u001b[0m Start Epoch 887 ...\n"
     ]
    },
    {
     "name": "stderr",
     "output_type": "stream",
     "text": [
      "100%|#################################################################################|2000/2000[00:31<00:00,63.96it/s]"
     ]
    },
    {
     "name": "stdout",
     "output_type": "stream",
     "text": [
      "\u001b[32m[0215 13:28:30 @base.py:285]\u001b[0m Epoch 887 (global_step 1774000) finished, time:31.3 seconds.\n",
      "\u001b[32m[0215 13:28:30 @saver.py:79]\u001b[0m Model saved to ./output_TGAN/output/model\\model-1774000.\n",
      "\u001b[32m[0215 13:28:30 @monitor.py:467]\u001b[0m GAN_loss/discrim/accuracy_fake: 0.94\n",
      "\u001b[32m[0215 13:28:30 @monitor.py:467]\u001b[0m GAN_loss/discrim/accuracy_real: 0.1\n",
      "\u001b[32m[0215 13:28:30 @monitor.py:467]\u001b[0m GAN_loss/discrim/loss: 0.65286\n",
      "\u001b[32m[0215 13:28:30 @monitor.py:467]\u001b[0m GAN_loss/gen/final-g-loss: 1.1337\n",
      "\u001b[32m[0215 13:28:30 @monitor.py:467]\u001b[0m GAN_loss/gen/klloss: 0.11845\n",
      "\u001b[32m[0215 13:28:30 @monitor.py:467]\u001b[0m GAN_loss/gen/loss: 1.0153\n",
      "\u001b[32m[0215 13:28:30 @monitor.py:467]\u001b[0m QueueInput/queue_size: 50\n",
      "\u001b[32m[0215 13:28:30 @base.py:275]\u001b[0m Start Epoch 888 ...\n"
     ]
    },
    {
     "name": "stderr",
     "output_type": "stream",
     "text": [
      "\n",
      "100%|#################################################################################|2000/2000[00:31<00:00,63.05it/s]"
     ]
    },
    {
     "name": "stdout",
     "output_type": "stream",
     "text": [
      "\u001b[32m[0215 13:29:02 @base.py:285]\u001b[0m Epoch 888 (global_step 1776000) finished, time:31.7 seconds.\n",
      "\u001b[32m[0215 13:29:02 @saver.py:79]\u001b[0m Model saved to ./output_TGAN/output/model\\model-1776000.\n"
     ]
    },
    {
     "name": "stderr",
     "output_type": "stream",
     "text": [
      "\n"
     ]
    },
    {
     "name": "stdout",
     "output_type": "stream",
     "text": [
      "\u001b[32m[0215 13:29:02 @monitor.py:467]\u001b[0m GAN_loss/discrim/accuracy_fake: 0.88\n",
      "\u001b[32m[0215 13:29:02 @monitor.py:467]\u001b[0m GAN_loss/discrim/accuracy_real: 0.15\n",
      "\u001b[32m[0215 13:29:02 @monitor.py:467]\u001b[0m GAN_loss/discrim/loss: 0.65102\n",
      "\u001b[32m[0215 13:29:02 @monitor.py:467]\u001b[0m GAN_loss/gen/final-g-loss: 1.1223\n",
      "\u001b[32m[0215 13:29:02 @monitor.py:467]\u001b[0m GAN_loss/gen/klloss: 0.13734\n",
      "\u001b[32m[0215 13:29:02 @monitor.py:467]\u001b[0m GAN_loss/gen/loss: 0.98498\n",
      "\u001b[32m[0215 13:29:02 @monitor.py:467]\u001b[0m QueueInput/queue_size: 50\n",
      "\u001b[32m[0215 13:29:02 @base.py:275]\u001b[0m Start Epoch 889 ...\n"
     ]
    },
    {
     "name": "stderr",
     "output_type": "stream",
     "text": [
      "100%|#################################################################################|2000/2000[00:32<00:00,62.46it/s]"
     ]
    },
    {
     "name": "stdout",
     "output_type": "stream",
     "text": [
      "\u001b[32m[0215 13:29:34 @base.py:285]\u001b[0m Epoch 889 (global_step 1778000) finished, time:32 seconds.\n"
     ]
    },
    {
     "name": "stderr",
     "output_type": "stream",
     "text": [
      "\n"
     ]
    },
    {
     "name": "stdout",
     "output_type": "stream",
     "text": [
      "\u001b[32m[0215 13:29:34 @saver.py:79]\u001b[0m Model saved to ./output_TGAN/output/model\\model-1778000.\n",
      "\u001b[32m[0215 13:29:34 @monitor.py:467]\u001b[0m GAN_loss/discrim/accuracy_fake: 0.915\n",
      "\u001b[32m[0215 13:29:34 @monitor.py:467]\u001b[0m GAN_loss/discrim/accuracy_real: 0.105\n",
      "\u001b[32m[0215 13:29:34 @monitor.py:467]\u001b[0m GAN_loss/discrim/loss: 0.65511\n",
      "\u001b[32m[0215 13:29:34 @monitor.py:467]\u001b[0m GAN_loss/gen/final-g-loss: 1.1138\n",
      "\u001b[32m[0215 13:29:34 @monitor.py:467]\u001b[0m GAN_loss/gen/klloss: 0.10562\n",
      "\u001b[32m[0215 13:29:34 @monitor.py:467]\u001b[0m GAN_loss/gen/loss: 1.0081\n",
      "\u001b[32m[0215 13:29:34 @monitor.py:467]\u001b[0m QueueInput/queue_size: 50\n",
      "\u001b[32m[0215 13:29:34 @base.py:275]\u001b[0m Start Epoch 890 ...\n"
     ]
    },
    {
     "name": "stderr",
     "output_type": "stream",
     "text": [
      "100%|#################################################################################|2000/2000[00:31<00:00,62.75it/s]"
     ]
    },
    {
     "name": "stdout",
     "output_type": "stream",
     "text": [
      "\u001b[32m[0215 13:30:06 @base.py:285]\u001b[0m Epoch 890 (global_step 1780000) finished, time:31.9 seconds.\n",
      "\u001b[32m[0215 13:30:06 @saver.py:79]\u001b[0m Model saved to ./output_TGAN/output/model\\model-1780000.\n",
      "\u001b[32m[0215 13:30:06 @monitor.py:467]\u001b[0m GAN_loss/discrim/accuracy_fake: 0.905\n"
     ]
    },
    {
     "name": "stderr",
     "output_type": "stream",
     "text": [
      "\n"
     ]
    },
    {
     "name": "stdout",
     "output_type": "stream",
     "text": [
      "\u001b[32m[0215 13:30:06 @monitor.py:467]\u001b[0m GAN_loss/discrim/accuracy_real: 0.115\n",
      "\u001b[32m[0215 13:30:06 @monitor.py:467]\u001b[0m GAN_loss/discrim/loss: 0.64459\n",
      "\u001b[32m[0215 13:30:06 @monitor.py:467]\u001b[0m GAN_loss/gen/final-g-loss: 1.1666\n",
      "\u001b[32m[0215 13:30:06 @monitor.py:467]\u001b[0m GAN_loss/gen/klloss: 0.1523\n",
      "\u001b[32m[0215 13:30:06 @monitor.py:467]\u001b[0m GAN_loss/gen/loss: 1.0143\n",
      "\u001b[32m[0215 13:30:06 @monitor.py:467]\u001b[0m QueueInput/queue_size: 50\n",
      "\u001b[32m[0215 13:30:06 @base.py:275]\u001b[0m Start Epoch 891 ...\n"
     ]
    },
    {
     "name": "stderr",
     "output_type": "stream",
     "text": [
      "100%|#################################################################################|2000/2000[00:31<00:00,63.65it/s]"
     ]
    },
    {
     "name": "stdout",
     "output_type": "stream",
     "text": [
      "\u001b[32m[0215 13:30:38 @base.py:285]\u001b[0m Epoch 891 (global_step 1782000) finished, time:31.4 seconds.\n"
     ]
    },
    {
     "name": "stderr",
     "output_type": "stream",
     "text": [
      "\n"
     ]
    },
    {
     "name": "stdout",
     "output_type": "stream",
     "text": [
      "\u001b[32m[0215 13:30:38 @saver.py:79]\u001b[0m Model saved to ./output_TGAN/output/model\\model-1782000.\n",
      "\u001b[32m[0215 13:30:38 @monitor.py:467]\u001b[0m GAN_loss/discrim/accuracy_fake: 0.945\n",
      "\u001b[32m[0215 13:30:38 @monitor.py:467]\u001b[0m GAN_loss/discrim/accuracy_real: 0.095\n",
      "\u001b[32m[0215 13:30:38 @monitor.py:467]\u001b[0m GAN_loss/discrim/loss: 0.65312\n",
      "\u001b[32m[0215 13:30:38 @monitor.py:467]\u001b[0m GAN_loss/gen/final-g-loss: 1.1029\n",
      "\u001b[32m[0215 13:30:38 @monitor.py:467]\u001b[0m GAN_loss/gen/klloss: 0.085512\n",
      "\u001b[32m[0215 13:30:38 @monitor.py:467]\u001b[0m GAN_loss/gen/loss: 1.0174\n",
      "\u001b[32m[0215 13:30:38 @monitor.py:467]\u001b[0m QueueInput/queue_size: 50\n",
      "\u001b[32m[0215 13:30:38 @base.py:275]\u001b[0m Start Epoch 892 ...\n"
     ]
    },
    {
     "name": "stderr",
     "output_type": "stream",
     "text": [
      "100%|#################################################################################|2000/2000[00:31<00:00,62.85it/s]"
     ]
    },
    {
     "name": "stdout",
     "output_type": "stream",
     "text": [
      "\u001b[32m[0215 13:31:10 @base.py:285]\u001b[0m Epoch 892 (global_step 1784000) finished, time:31.8 seconds.\n",
      "\u001b[32m[0215 13:31:10 @saver.py:79]\u001b[0m Model saved to ./output_TGAN/output/model\\model-1784000.\n",
      "\u001b[32m[0215 13:31:10 @monitor.py:467]\u001b[0m GAN_loss/discrim/accuracy_fake: 0.93\n"
     ]
    },
    {
     "name": "stderr",
     "output_type": "stream",
     "text": [
      "\n"
     ]
    },
    {
     "name": "stdout",
     "output_type": "stream",
     "text": [
      "\u001b[32m[0215 13:31:10 @monitor.py:467]\u001b[0m GAN_loss/discrim/accuracy_real: 0.18\n",
      "\u001b[32m[0215 13:31:10 @monitor.py:467]\u001b[0m GAN_loss/discrim/loss: 0.63566\n",
      "\u001b[32m[0215 13:31:10 @monitor.py:467]\u001b[0m GAN_loss/gen/final-g-loss: 1.1002\n",
      "\u001b[32m[0215 13:31:10 @monitor.py:467]\u001b[0m GAN_loss/gen/klloss: 0.078792\n",
      "\u001b[32m[0215 13:31:10 @monitor.py:467]\u001b[0m GAN_loss/gen/loss: 1.0214\n",
      "\u001b[32m[0215 13:31:10 @monitor.py:467]\u001b[0m QueueInput/queue_size: 50\n",
      "\u001b[32m[0215 13:31:10 @base.py:275]\u001b[0m Start Epoch 893 ...\n"
     ]
    },
    {
     "name": "stderr",
     "output_type": "stream",
     "text": [
      "100%|#################################################################################|2000/2000[00:31<00:00,63.58it/s]"
     ]
    },
    {
     "name": "stdout",
     "output_type": "stream",
     "text": [
      "\u001b[32m[0215 13:31:41 @base.py:285]\u001b[0m Epoch 893 (global_step 1786000) finished, time:31.5 seconds.\n",
      "\u001b[32m[0215 13:31:41 @saver.py:79]\u001b[0m Model saved to ./output_TGAN/output/model\\model-1786000.\n",
      "\u001b[32m[0215 13:31:42 @monitor.py:467]\u001b[0m GAN_loss/discrim/accuracy_fake: 0.895\n"
     ]
    },
    {
     "name": "stderr",
     "output_type": "stream",
     "text": [
      "\n"
     ]
    },
    {
     "name": "stdout",
     "output_type": "stream",
     "text": [
      "\u001b[32m[0215 13:31:42 @monitor.py:467]\u001b[0m GAN_loss/discrim/accuracy_real: 0.145\n",
      "\u001b[32m[0215 13:31:42 @monitor.py:467]\u001b[0m GAN_loss/discrim/loss: 0.65879\n",
      "\u001b[32m[0215 13:31:42 @monitor.py:467]\u001b[0m GAN_loss/gen/final-g-loss: 1.0942\n",
      "\u001b[32m[0215 13:31:42 @monitor.py:467]\u001b[0m GAN_loss/gen/klloss: 0.098746\n",
      "\u001b[32m[0215 13:31:42 @monitor.py:467]\u001b[0m GAN_loss/gen/loss: 0.99548\n",
      "\u001b[32m[0215 13:31:42 @monitor.py:467]\u001b[0m QueueInput/queue_size: 50\n",
      "\u001b[32m[0215 13:31:42 @base.py:275]\u001b[0m Start Epoch 894 ...\n"
     ]
    },
    {
     "name": "stderr",
     "output_type": "stream",
     "text": [
      "100%|#################################################################################|2000/2000[00:31<00:00,63.47it/s]"
     ]
    },
    {
     "name": "stdout",
     "output_type": "stream",
     "text": [
      "\u001b[32m[0215 13:32:13 @base.py:285]\u001b[0m Epoch 894 (global_step 1788000) finished, time:31.5 seconds.\n",
      "\u001b[32m[0215 13:32:13 @saver.py:79]\u001b[0m Model saved to ./output_TGAN/output/model\\model-1788000.\n"
     ]
    },
    {
     "name": "stderr",
     "output_type": "stream",
     "text": [
      "\n"
     ]
    },
    {
     "name": "stdout",
     "output_type": "stream",
     "text": [
      "\u001b[32m[0215 13:32:13 @monitor.py:467]\u001b[0m GAN_loss/discrim/accuracy_fake: 0.91\n",
      "\u001b[32m[0215 13:32:13 @monitor.py:467]\u001b[0m GAN_loss/discrim/accuracy_real: 0.15\n",
      "\u001b[32m[0215 13:32:13 @monitor.py:467]\u001b[0m GAN_loss/discrim/loss: 0.64604\n",
      "\u001b[32m[0215 13:32:13 @monitor.py:467]\u001b[0m GAN_loss/gen/final-g-loss: 1.1033\n",
      "\u001b[32m[0215 13:32:13 @monitor.py:467]\u001b[0m GAN_loss/gen/klloss: 0.089487\n",
      "\u001b[32m[0215 13:32:13 @monitor.py:467]\u001b[0m GAN_loss/gen/loss: 1.0138\n",
      "\u001b[32m[0215 13:32:13 @monitor.py:467]\u001b[0m QueueInput/queue_size: 50\n",
      "\u001b[32m[0215 13:32:13 @base.py:275]\u001b[0m Start Epoch 895 ...\n"
     ]
    },
    {
     "name": "stderr",
     "output_type": "stream",
     "text": [
      "100%|#################################################################################|2000/2000[00:31<00:00,63.45it/s]"
     ]
    },
    {
     "name": "stdout",
     "output_type": "stream",
     "text": [
      "\u001b[32m[0215 13:32:45 @base.py:285]\u001b[0m Epoch 895 (global_step 1790000) finished, time:31.5 seconds.\n",
      "\u001b[32m[0215 13:32:45 @saver.py:79]\u001b[0m Model saved to ./output_TGAN/output/model\\model-1790000.\n"
     ]
    },
    {
     "name": "stderr",
     "output_type": "stream",
     "text": [
      "\n"
     ]
    },
    {
     "name": "stdout",
     "output_type": "stream",
     "text": [
      "\u001b[32m[0215 13:32:45 @monitor.py:467]\u001b[0m GAN_loss/discrim/accuracy_fake: 0.945\n",
      "\u001b[32m[0215 13:32:45 @monitor.py:467]\u001b[0m GAN_loss/discrim/accuracy_real: 0.115\n",
      "\u001b[32m[0215 13:32:45 @monitor.py:467]\u001b[0m GAN_loss/discrim/loss: 0.64127\n",
      "\u001b[32m[0215 13:32:45 @monitor.py:467]\u001b[0m GAN_loss/gen/final-g-loss: 1.112\n",
      "\u001b[32m[0215 13:32:45 @monitor.py:467]\u001b[0m GAN_loss/gen/klloss: 0.11029\n",
      "\u001b[32m[0215 13:32:45 @monitor.py:467]\u001b[0m GAN_loss/gen/loss: 1.0017\n",
      "\u001b[32m[0215 13:32:45 @monitor.py:467]\u001b[0m QueueInput/queue_size: 50\n",
      "\u001b[32m[0215 13:32:45 @base.py:275]\u001b[0m Start Epoch 896 ...\n"
     ]
    },
    {
     "name": "stderr",
     "output_type": "stream",
     "text": [
      "100%|#################################################################################|2000/2000[00:31<00:00,63.82it/s]"
     ]
    },
    {
     "name": "stdout",
     "output_type": "stream",
     "text": [
      "\u001b[32m[0215 13:33:16 @base.py:285]\u001b[0m Epoch 896 (global_step 1792000) finished, time:31.3 seconds.\n"
     ]
    },
    {
     "name": "stderr",
     "output_type": "stream",
     "text": [
      "\n"
     ]
    },
    {
     "name": "stdout",
     "output_type": "stream",
     "text": [
      "\u001b[32m[0215 13:33:16 @saver.py:79]\u001b[0m Model saved to ./output_TGAN/output/model\\model-1792000.\n",
      "\u001b[32m[0215 13:33:16 @monitor.py:467]\u001b[0m GAN_loss/discrim/accuracy_fake: 0.955\n",
      "\u001b[32m[0215 13:33:16 @monitor.py:467]\u001b[0m GAN_loss/discrim/accuracy_real: 0.105\n",
      "\u001b[32m[0215 13:33:16 @monitor.py:467]\u001b[0m GAN_loss/discrim/loss: 0.64255\n",
      "\u001b[32m[0215 13:33:16 @monitor.py:467]\u001b[0m GAN_loss/gen/final-g-loss: 1.1327\n",
      "\u001b[32m[0215 13:33:16 @monitor.py:467]\u001b[0m GAN_loss/gen/klloss: 0.10524\n",
      "\u001b[32m[0215 13:33:16 @monitor.py:467]\u001b[0m GAN_loss/gen/loss: 1.0274\n",
      "\u001b[32m[0215 13:33:16 @monitor.py:467]\u001b[0m QueueInput/queue_size: 50\n",
      "\u001b[32m[0215 13:33:16 @base.py:275]\u001b[0m Start Epoch 897 ...\n"
     ]
    },
    {
     "name": "stderr",
     "output_type": "stream",
     "text": [
      "100%|#################################################################################|2000/2000[00:31<00:00,63.32it/s]"
     ]
    },
    {
     "name": "stdout",
     "output_type": "stream",
     "text": [
      "\u001b[32m[0215 13:33:48 @base.py:285]\u001b[0m Epoch 897 (global_step 1794000) finished, time:31.6 seconds.\n",
      "\u001b[32m[0215 13:33:48 @saver.py:79]\u001b[0m Model saved to ./output_TGAN/output/model\\model-1794000.\n"
     ]
    },
    {
     "name": "stderr",
     "output_type": "stream",
     "text": [
      "\n"
     ]
    },
    {
     "name": "stdout",
     "output_type": "stream",
     "text": [
      "\u001b[32m[0215 13:33:48 @monitor.py:467]\u001b[0m GAN_loss/discrim/accuracy_fake: 0.93\n",
      "\u001b[32m[0215 13:33:48 @monitor.py:467]\u001b[0m GAN_loss/discrim/accuracy_real: 0.09\n",
      "\u001b[32m[0215 13:33:48 @monitor.py:467]\u001b[0m GAN_loss/discrim/loss: 0.6574\n",
      "\u001b[32m[0215 13:33:48 @monitor.py:467]\u001b[0m GAN_loss/gen/final-g-loss: 1.0822\n",
      "\u001b[32m[0215 13:33:48 @monitor.py:467]\u001b[0m GAN_loss/gen/klloss: 0.089278\n",
      "\u001b[32m[0215 13:33:48 @monitor.py:467]\u001b[0m GAN_loss/gen/loss: 0.99297\n",
      "\u001b[32m[0215 13:33:48 @monitor.py:467]\u001b[0m QueueInput/queue_size: 50\n",
      "\u001b[32m[0215 13:33:48 @base.py:275]\u001b[0m Start Epoch 898 ...\n"
     ]
    },
    {
     "name": "stderr",
     "output_type": "stream",
     "text": [
      "100%|#################################################################################|2000/2000[00:31<00:00,64.14it/s]"
     ]
    },
    {
     "name": "stdout",
     "output_type": "stream",
     "text": [
      "\u001b[32m[0215 13:34:19 @base.py:285]\u001b[0m Epoch 898 (global_step 1796000) finished, time:31.2 seconds.\n",
      "\u001b[32m[0215 13:34:19 @saver.py:79]\u001b[0m Model saved to ./output_TGAN/output/model\\model-1796000.\n"
     ]
    },
    {
     "name": "stderr",
     "output_type": "stream",
     "text": [
      "\n"
     ]
    },
    {
     "name": "stdout",
     "output_type": "stream",
     "text": [
      "\u001b[32m[0215 13:34:20 @monitor.py:467]\u001b[0m GAN_loss/discrim/accuracy_fake: 0.97\n",
      "\u001b[32m[0215 13:34:20 @monitor.py:467]\u001b[0m GAN_loss/discrim/accuracy_real: 0.135\n",
      "\u001b[32m[0215 13:34:20 @monitor.py:467]\u001b[0m GAN_loss/discrim/loss: 0.63942\n",
      "\u001b[32m[0215 13:34:20 @monitor.py:467]\u001b[0m GAN_loss/gen/final-g-loss: 1.175\n",
      "\u001b[32m[0215 13:34:20 @monitor.py:467]\u001b[0m GAN_loss/gen/klloss: 0.14565\n",
      "\u001b[32m[0215 13:34:20 @monitor.py:467]\u001b[0m GAN_loss/gen/loss: 1.0294\n",
      "\u001b[32m[0215 13:34:20 @monitor.py:467]\u001b[0m QueueInput/queue_size: 50\n",
      "\u001b[32m[0215 13:34:20 @base.py:275]\u001b[0m Start Epoch 899 ...\n"
     ]
    },
    {
     "name": "stderr",
     "output_type": "stream",
     "text": [
      "100%|#################################################################################|2000/2000[00:31<00:00,63.36it/s]"
     ]
    },
    {
     "name": "stdout",
     "output_type": "stream",
     "text": [
      "\u001b[32m[0215 13:34:51 @base.py:285]\u001b[0m Epoch 899 (global_step 1798000) finished, time:31.6 seconds.\n",
      "\u001b[32m[0215 13:34:51 @saver.py:79]\u001b[0m Model saved to ./output_TGAN/output/model\\model-1798000.\n",
      "\u001b[32m[0215 13:34:51 @monitor.py:467]\u001b[0m GAN_loss/discrim/accuracy_fake: 0.98\n"
     ]
    },
    {
     "name": "stderr",
     "output_type": "stream",
     "text": [
      "\n"
     ]
    },
    {
     "name": "stdout",
     "output_type": "stream",
     "text": [
      "\u001b[32m[0215 13:34:51 @monitor.py:467]\u001b[0m GAN_loss/discrim/accuracy_real: 0.115\n",
      "\u001b[32m[0215 13:34:51 @monitor.py:467]\u001b[0m GAN_loss/discrim/loss: 0.63909\n",
      "\u001b[32m[0215 13:34:51 @monitor.py:467]\u001b[0m GAN_loss/gen/final-g-loss: 1.1644\n",
      "\u001b[32m[0215 13:34:51 @monitor.py:467]\u001b[0m GAN_loss/gen/klloss: 0.13936\n",
      "\u001b[32m[0215 13:34:51 @monitor.py:467]\u001b[0m GAN_loss/gen/loss: 1.025\n",
      "\u001b[32m[0215 13:34:51 @monitor.py:467]\u001b[0m QueueInput/queue_size: 50\n",
      "\u001b[32m[0215 13:34:51 @base.py:275]\u001b[0m Start Epoch 900 ...\n"
     ]
    },
    {
     "name": "stderr",
     "output_type": "stream",
     "text": [
      "100%|#################################################################################|2000/2000[00:31<00:00,63.61it/s]"
     ]
    },
    {
     "name": "stdout",
     "output_type": "stream",
     "text": [
      "\u001b[32m[0215 13:35:23 @base.py:285]\u001b[0m Epoch 900 (global_step 1800000) finished, time:31.4 seconds.\n",
      "\u001b[32m[0215 13:35:23 @saver.py:79]\u001b[0m Model saved to ./output_TGAN/output/model\\model-1800000.\n",
      "\u001b[32m[0215 13:35:23 @monitor.py:467]\u001b[0m GAN_loss/discrim/accuracy_fake: 0.925\n",
      "\u001b[32m[0215 13:35:23 @monitor.py:467]\u001b[0m GAN_loss/discrim/accuracy_real: 0.12\n",
      "\u001b[32m[0215 13:35:23 @monitor.py:467]\u001b[0m GAN_loss/discrim/loss: 0.64577\n",
      "\u001b[32m[0215 13:35:23 @monitor.py:467]\u001b[0m GAN_loss/gen/final-g-loss: 1.0999\n",
      "\u001b[32m[0215 13:35:23 @monitor.py:467]\u001b[0m GAN_loss/gen/klloss: 0.090004\n",
      "\u001b[32m[0215 13:35:23 @monitor.py:467]\u001b[0m GAN_loss/gen/loss: 1.0099\n",
      "\u001b[32m[0215 13:35:23 @monitor.py:467]\u001b[0m QueueInput/queue_size: 50\n",
      "\u001b[32m[0215 13:35:23 @base.py:275]\u001b[0m Start Epoch 901 ...\n"
     ]
    },
    {
     "name": "stderr",
     "output_type": "stream",
     "text": [
      "\n",
      "100%|#################################################################################|2000/2000[00:31<00:00,63.48it/s]"
     ]
    },
    {
     "name": "stdout",
     "output_type": "stream",
     "text": [
      "\u001b[32m[0215 13:35:54 @base.py:285]\u001b[0m Epoch 901 (global_step 1802000) finished, time:31.5 seconds.\n",
      "\u001b[32m[0215 13:35:55 @saver.py:79]\u001b[0m Model saved to ./output_TGAN/output/model\\model-1802000.\n"
     ]
    },
    {
     "name": "stderr",
     "output_type": "stream",
     "text": [
      "\n"
     ]
    },
    {
     "name": "stdout",
     "output_type": "stream",
     "text": [
      "\u001b[32m[0215 13:35:55 @monitor.py:467]\u001b[0m GAN_loss/discrim/accuracy_fake: 0.925\n",
      "\u001b[32m[0215 13:35:55 @monitor.py:467]\u001b[0m GAN_loss/discrim/accuracy_real: 0.115\n",
      "\u001b[32m[0215 13:35:55 @monitor.py:467]\u001b[0m GAN_loss/discrim/loss: 0.64687\n",
      "\u001b[32m[0215 13:35:55 @monitor.py:467]\u001b[0m GAN_loss/gen/final-g-loss: 1.0727\n",
      "\u001b[32m[0215 13:35:55 @monitor.py:467]\u001b[0m GAN_loss/gen/klloss: 0.078674\n",
      "\u001b[32m[0215 13:35:55 @monitor.py:467]\u001b[0m GAN_loss/gen/loss: 0.99406\n",
      "\u001b[32m[0215 13:35:55 @monitor.py:467]\u001b[0m QueueInput/queue_size: 50\n",
      "\u001b[32m[0215 13:35:55 @base.py:275]\u001b[0m Start Epoch 902 ...\n"
     ]
    },
    {
     "name": "stderr",
     "output_type": "stream",
     "text": [
      "100%|#################################################################################|2000/2000[00:31<00:00,63.51it/s]"
     ]
    },
    {
     "name": "stdout",
     "output_type": "stream",
     "text": [
      "\u001b[32m[0215 13:36:26 @base.py:285]\u001b[0m Epoch 902 (global_step 1804000) finished, time:31.5 seconds.\n",
      "\u001b[32m[0215 13:36:26 @saver.py:79]\u001b[0m Model saved to ./output_TGAN/output/model\\model-1804000.\n",
      "\u001b[32m[0215 13:36:26 @monitor.py:467]\u001b[0m GAN_loss/discrim/accuracy_fake: 0.935\n"
     ]
    },
    {
     "name": "stderr",
     "output_type": "stream",
     "text": [
      "\n"
     ]
    },
    {
     "name": "stdout",
     "output_type": "stream",
     "text": [
      "\u001b[32m[0215 13:36:26 @monitor.py:467]\u001b[0m GAN_loss/discrim/accuracy_real: 0.105\n",
      "\u001b[32m[0215 13:36:26 @monitor.py:467]\u001b[0m GAN_loss/discrim/loss: 0.64893\n",
      "\u001b[32m[0215 13:36:26 @monitor.py:467]\u001b[0m GAN_loss/gen/final-g-loss: 1.1361\n",
      "\u001b[32m[0215 13:36:26 @monitor.py:467]\u001b[0m GAN_loss/gen/klloss: 0.1198\n",
      "\u001b[32m[0215 13:36:26 @monitor.py:467]\u001b[0m GAN_loss/gen/loss: 1.0163\n",
      "\u001b[32m[0215 13:36:26 @monitor.py:467]\u001b[0m QueueInput/queue_size: 50\n",
      "\u001b[32m[0215 13:36:26 @base.py:275]\u001b[0m Start Epoch 903 ...\n"
     ]
    },
    {
     "name": "stderr",
     "output_type": "stream",
     "text": [
      "100%|#################################################################################|2000/2000[00:31<00:00,63.52it/s]"
     ]
    },
    {
     "name": "stdout",
     "output_type": "stream",
     "text": [
      "\u001b[32m[0215 13:36:58 @base.py:285]\u001b[0m Epoch 903 (global_step 1806000) finished, time:31.5 seconds.\n",
      "\u001b[32m[0215 13:36:58 @saver.py:79]\u001b[0m Model saved to ./output_TGAN/output/model\\model-1806000.\n"
     ]
    },
    {
     "name": "stderr",
     "output_type": "stream",
     "text": [
      "\n"
     ]
    },
    {
     "name": "stdout",
     "output_type": "stream",
     "text": [
      "\u001b[32m[0215 13:36:58 @monitor.py:467]\u001b[0m GAN_loss/discrim/accuracy_fake: 0.93\n",
      "\u001b[32m[0215 13:36:58 @monitor.py:467]\u001b[0m GAN_loss/discrim/accuracy_real: 0.135\n",
      "\u001b[32m[0215 13:36:58 @monitor.py:467]\u001b[0m GAN_loss/discrim/loss: 0.6454\n",
      "\u001b[32m[0215 13:36:58 @monitor.py:467]\u001b[0m GAN_loss/gen/final-g-loss: 1.13\n",
      "\u001b[32m[0215 13:36:58 @monitor.py:467]\u001b[0m GAN_loss/gen/klloss: 0.12138\n",
      "\u001b[32m[0215 13:36:58 @monitor.py:467]\u001b[0m GAN_loss/gen/loss: 1.0087\n",
      "\u001b[32m[0215 13:36:58 @monitor.py:467]\u001b[0m QueueInput/queue_size: 50\n",
      "\u001b[32m[0215 13:36:58 @base.py:275]\u001b[0m Start Epoch 904 ...\n"
     ]
    },
    {
     "name": "stderr",
     "output_type": "stream",
     "text": [
      "100%|#################################################################################|2000/2000[00:31<00:00,63.31it/s]"
     ]
    },
    {
     "name": "stdout",
     "output_type": "stream",
     "text": [
      "\u001b[32m[0215 13:37:30 @base.py:285]\u001b[0m Epoch 904 (global_step 1808000) finished, time:31.6 seconds.\n",
      "\u001b[32m[0215 13:37:30 @saver.py:79]\u001b[0m Model saved to ./output_TGAN/output/model\\model-1808000.\n",
      "\u001b[32m[0215 13:37:30 @monitor.py:467]\u001b[0m GAN_loss/discrim/accuracy_fake: 0.94\n",
      "\u001b[32m[0215 13:37:30 @monitor.py:467]\u001b[0m GAN_loss/discrim/accuracy_real: 0.075\n",
      "\u001b[32m[0215 13:37:30 @monitor.py:467]\u001b[0m GAN_loss/discrim/loss: 0.64313\n",
      "\u001b[32m[0215 13:37:30 @monitor.py:467]\u001b[0m GAN_loss/gen/final-g-loss: 1.0818\n",
      "\u001b[32m[0215 13:37:30 @monitor.py:467]\u001b[0m GAN_loss/gen/klloss: 0.072795\n",
      "\u001b[32m[0215 13:37:30 @monitor.py:467]\u001b[0m GAN_loss/gen/loss: 1.009\n"
     ]
    },
    {
     "name": "stderr",
     "output_type": "stream",
     "text": [
      "\n"
     ]
    },
    {
     "name": "stdout",
     "output_type": "stream",
     "text": [
      "\u001b[32m[0215 13:37:30 @monitor.py:467]\u001b[0m QueueInput/queue_size: 50\n",
      "\u001b[32m[0215 13:37:30 @base.py:275]\u001b[0m Start Epoch 905 ...\n"
     ]
    },
    {
     "name": "stderr",
     "output_type": "stream",
     "text": [
      "100%|#################################################################################|2000/2000[00:32<00:00,61.76it/s]"
     ]
    },
    {
     "name": "stdout",
     "output_type": "stream",
     "text": [
      "\u001b[32m[0215 13:38:02 @base.py:285]\u001b[0m Epoch 905 (global_step 1810000) finished, time:32.4 seconds.\n",
      "\u001b[32m[0215 13:38:02 @saver.py:79]\u001b[0m Model saved to ./output_TGAN/output/model\\model-1810000.\n"
     ]
    },
    {
     "name": "stderr",
     "output_type": "stream",
     "text": [
      "\n"
     ]
    },
    {
     "name": "stdout",
     "output_type": "stream",
     "text": [
      "\u001b[32m[0215 13:38:02 @monitor.py:467]\u001b[0m GAN_loss/discrim/accuracy_fake: 0.93\n",
      "\u001b[32m[0215 13:38:02 @monitor.py:467]\u001b[0m GAN_loss/discrim/accuracy_real: 0.085\n",
      "\u001b[32m[0215 13:38:02 @monitor.py:467]\u001b[0m GAN_loss/discrim/loss: 0.65089\n",
      "\u001b[32m[0215 13:38:02 @monitor.py:467]\u001b[0m GAN_loss/gen/final-g-loss: 1.0785\n",
      "\u001b[32m[0215 13:38:02 @monitor.py:467]\u001b[0m GAN_loss/gen/klloss: 0.075515\n",
      "\u001b[32m[0215 13:38:02 @monitor.py:467]\u001b[0m GAN_loss/gen/loss: 1.003\n",
      "\u001b[32m[0215 13:38:02 @monitor.py:467]\u001b[0m QueueInput/queue_size: 50\n",
      "\u001b[32m[0215 13:38:02 @base.py:275]\u001b[0m Start Epoch 906 ...\n"
     ]
    },
    {
     "name": "stderr",
     "output_type": "stream",
     "text": [
      "100%|#################################################################################|2000/2000[00:31<00:00,63.87it/s]"
     ]
    },
    {
     "name": "stdout",
     "output_type": "stream",
     "text": [
      "\u001b[32m[0215 13:38:34 @base.py:285]\u001b[0m Epoch 906 (global_step 1812000) finished, time:31.3 seconds.\n",
      "\u001b[32m[0215 13:38:34 @saver.py:79]\u001b[0m Model saved to ./output_TGAN/output/model\\model-1812000.\n"
     ]
    },
    {
     "name": "stderr",
     "output_type": "stream",
     "text": [
      "\n"
     ]
    },
    {
     "name": "stdout",
     "output_type": "stream",
     "text": [
      "\u001b[32m[0215 13:38:34 @monitor.py:467]\u001b[0m GAN_loss/discrim/accuracy_fake: 0.91\n",
      "\u001b[32m[0215 13:38:34 @monitor.py:467]\u001b[0m GAN_loss/discrim/accuracy_real: 0.115\n",
      "\u001b[32m[0215 13:38:34 @monitor.py:467]\u001b[0m GAN_loss/discrim/loss: 0.63785\n",
      "\u001b[32m[0215 13:38:34 @monitor.py:467]\u001b[0m GAN_loss/gen/final-g-loss: 1.1377\n",
      "\u001b[32m[0215 13:38:34 @monitor.py:467]\u001b[0m GAN_loss/gen/klloss: 0.11563\n",
      "\u001b[32m[0215 13:38:34 @monitor.py:467]\u001b[0m GAN_loss/gen/loss: 1.022\n",
      "\u001b[32m[0215 13:38:34 @monitor.py:467]\u001b[0m QueueInput/queue_size: 50\n",
      "\u001b[32m[0215 13:38:34 @base.py:275]\u001b[0m Start Epoch 907 ...\n"
     ]
    },
    {
     "name": "stderr",
     "output_type": "stream",
     "text": [
      "100%|#################################################################################|2000/2000[00:31<00:00,63.08it/s]"
     ]
    },
    {
     "name": "stdout",
     "output_type": "stream",
     "text": [
      "\u001b[32m[0215 13:39:06 @base.py:285]\u001b[0m Epoch 907 (global_step 1814000) finished, time:31.7 seconds.\n",
      "\u001b[32m[0215 13:39:06 @saver.py:79]\u001b[0m Model saved to ./output_TGAN/output/model\\model-1814000.\n",
      "\u001b[32m[0215 13:39:06 @monitor.py:467]\u001b[0m GAN_loss/discrim/accuracy_fake: 0.92\n",
      "\u001b[32m[0215 13:39:06 @monitor.py:467]\u001b[0m GAN_loss/discrim/accuracy_real: 0.165\n",
      "\u001b[32m[0215 13:39:06 @monitor.py:467]\u001b[0m GAN_loss/discrim/loss: 0.64487\n"
     ]
    },
    {
     "name": "stderr",
     "output_type": "stream",
     "text": [
      "\n"
     ]
    },
    {
     "name": "stdout",
     "output_type": "stream",
     "text": [
      "\u001b[32m[0215 13:39:06 @monitor.py:467]\u001b[0m GAN_loss/gen/final-g-loss: 1.1291\n",
      "\u001b[32m[0215 13:39:06 @monitor.py:467]\u001b[0m GAN_loss/gen/klloss: 0.11663\n",
      "\u001b[32m[0215 13:39:06 @monitor.py:467]\u001b[0m GAN_loss/gen/loss: 1.0125\n",
      "\u001b[32m[0215 13:39:06 @monitor.py:467]\u001b[0m QueueInput/queue_size: 50\n",
      "\u001b[32m[0215 13:39:06 @base.py:275]\u001b[0m Start Epoch 908 ...\n"
     ]
    },
    {
     "name": "stderr",
     "output_type": "stream",
     "text": [
      "100%|#################################################################################|2000/2000[00:32<00:00,61.22it/s]"
     ]
    },
    {
     "name": "stdout",
     "output_type": "stream",
     "text": [
      "\u001b[32m[0215 13:39:39 @base.py:285]\u001b[0m Epoch 908 (global_step 1816000) finished, time:32.7 seconds.\n",
      "\u001b[32m[0215 13:39:39 @saver.py:79]\u001b[0m Model saved to ./output_TGAN/output/model\\model-1816000.\n"
     ]
    },
    {
     "name": "stderr",
     "output_type": "stream",
     "text": [
      "\n"
     ]
    },
    {
     "name": "stdout",
     "output_type": "stream",
     "text": [
      "\u001b[32m[0215 13:39:39 @monitor.py:467]\u001b[0m GAN_loss/discrim/accuracy_fake: 0.945\n",
      "\u001b[32m[0215 13:39:39 @monitor.py:467]\u001b[0m GAN_loss/discrim/accuracy_real: 0.14\n",
      "\u001b[32m[0215 13:39:39 @monitor.py:467]\u001b[0m GAN_loss/discrim/loss: 0.64008\n",
      "\u001b[32m[0215 13:39:39 @monitor.py:467]\u001b[0m GAN_loss/gen/final-g-loss: 1.1596\n",
      "\u001b[32m[0215 13:39:39 @monitor.py:467]\u001b[0m GAN_loss/gen/klloss: 0.13257\n",
      "\u001b[32m[0215 13:39:39 @monitor.py:467]\u001b[0m GAN_loss/gen/loss: 1.027\n",
      "\u001b[32m[0215 13:39:39 @monitor.py:467]\u001b[0m QueueInput/queue_size: 50\n",
      "\u001b[32m[0215 13:39:39 @base.py:275]\u001b[0m Start Epoch 909 ...\n"
     ]
    },
    {
     "name": "stderr",
     "output_type": "stream",
     "text": [
      "100%|#################################################################################|2000/2000[00:32<00:00,61.22it/s]"
     ]
    },
    {
     "name": "stdout",
     "output_type": "stream",
     "text": [
      "\u001b[32m[0215 13:40:11 @base.py:285]\u001b[0m Epoch 909 (global_step 1818000) finished, time:32.7 seconds.\n",
      "\u001b[32m[0215 13:40:11 @saver.py:79]\u001b[0m Model saved to ./output_TGAN/output/model\\model-1818000.\n",
      "\u001b[32m[0215 13:40:12 @monitor.py:467]\u001b[0m GAN_loss/discrim/accuracy_fake: 0.9\n"
     ]
    },
    {
     "name": "stderr",
     "output_type": "stream",
     "text": [
      "\n"
     ]
    },
    {
     "name": "stdout",
     "output_type": "stream",
     "text": [
      "\u001b[32m[0215 13:40:12 @monitor.py:467]\u001b[0m GAN_loss/discrim/accuracy_real: 0.145\n",
      "\u001b[32m[0215 13:40:12 @monitor.py:467]\u001b[0m GAN_loss/discrim/loss: 0.64832\n",
      "\u001b[32m[0215 13:40:12 @monitor.py:467]\u001b[0m GAN_loss/gen/final-g-loss: 1.1253\n",
      "\u001b[32m[0215 13:40:12 @monitor.py:467]\u001b[0m GAN_loss/gen/klloss: 0.11939\n",
      "\u001b[32m[0215 13:40:12 @monitor.py:467]\u001b[0m GAN_loss/gen/loss: 1.0059\n",
      "\u001b[32m[0215 13:40:12 @monitor.py:467]\u001b[0m QueueInput/queue_size: 50\n",
      "\u001b[32m[0215 13:40:12 @base.py:275]\u001b[0m Start Epoch 910 ...\n"
     ]
    },
    {
     "name": "stderr",
     "output_type": "stream",
     "text": [
      "100%|#################################################################################|2000/2000[00:32<00:00,61.79it/s]"
     ]
    },
    {
     "name": "stdout",
     "output_type": "stream",
     "text": [
      "\u001b[32m[0215 13:40:44 @base.py:285]\u001b[0m Epoch 910 (global_step 1820000) finished, time:32.4 seconds.\n",
      "\u001b[32m[0215 13:40:44 @saver.py:79]\u001b[0m Model saved to ./output_TGAN/output/model\\model-1820000.\n"
     ]
    },
    {
     "name": "stderr",
     "output_type": "stream",
     "text": [
      "\n"
     ]
    },
    {
     "name": "stdout",
     "output_type": "stream",
     "text": [
      "\u001b[32m[0215 13:40:44 @monitor.py:467]\u001b[0m GAN_loss/discrim/accuracy_fake: 0.945\n",
      "\u001b[32m[0215 13:40:44 @monitor.py:467]\u001b[0m GAN_loss/discrim/accuracy_real: 0.14\n",
      "\u001b[32m[0215 13:40:44 @monitor.py:467]\u001b[0m GAN_loss/discrim/loss: 0.64793\n",
      "\u001b[32m[0215 13:40:44 @monitor.py:467]\u001b[0m GAN_loss/gen/final-g-loss: 1.1295\n",
      "\u001b[32m[0215 13:40:44 @monitor.py:467]\u001b[0m GAN_loss/gen/klloss: 0.13051\n",
      "\u001b[32m[0215 13:40:44 @monitor.py:467]\u001b[0m GAN_loss/gen/loss: 0.99902\n",
      "\u001b[32m[0215 13:40:44 @monitor.py:467]\u001b[0m QueueInput/queue_size: 50\n",
      "\u001b[32m[0215 13:40:44 @base.py:275]\u001b[0m Start Epoch 911 ...\n"
     ]
    },
    {
     "name": "stderr",
     "output_type": "stream",
     "text": [
      "100%|#################################################################################|2000/2000[00:32<00:00,61.87it/s]"
     ]
    },
    {
     "name": "stdout",
     "output_type": "stream",
     "text": [
      "\u001b[32m[0215 13:41:16 @base.py:285]\u001b[0m Epoch 911 (global_step 1822000) finished, time:32.3 seconds.\n",
      "\u001b[32m[0215 13:41:16 @saver.py:79]\u001b[0m Model saved to ./output_TGAN/output/model\\model-1822000.\n",
      "\u001b[32m[0215 13:41:17 @monitor.py:467]\u001b[0m GAN_loss/discrim/accuracy_fake: 0.945\n"
     ]
    },
    {
     "name": "stderr",
     "output_type": "stream",
     "text": [
      "\n"
     ]
    },
    {
     "name": "stdout",
     "output_type": "stream",
     "text": [
      "\u001b[32m[0215 13:41:17 @monitor.py:467]\u001b[0m GAN_loss/discrim/accuracy_real: 0.085\n",
      "\u001b[32m[0215 13:41:17 @monitor.py:467]\u001b[0m GAN_loss/discrim/loss: 0.65574\n",
      "\u001b[32m[0215 13:41:17 @monitor.py:467]\u001b[0m GAN_loss/gen/final-g-loss: 1.0889\n",
      "\u001b[32m[0215 13:41:17 @monitor.py:467]\u001b[0m GAN_loss/gen/klloss: 0.071127\n",
      "\u001b[32m[0215 13:41:17 @monitor.py:467]\u001b[0m GAN_loss/gen/loss: 1.0177\n",
      "\u001b[32m[0215 13:41:17 @monitor.py:467]\u001b[0m QueueInput/queue_size: 50\n",
      "\u001b[32m[0215 13:41:17 @base.py:275]\u001b[0m Start Epoch 912 ...\n"
     ]
    },
    {
     "name": "stderr",
     "output_type": "stream",
     "text": [
      "100%|#################################################################################|2000/2000[00:32<00:00,60.73it/s]"
     ]
    },
    {
     "name": "stdout",
     "output_type": "stream",
     "text": [
      "\u001b[32m[0215 13:41:50 @base.py:285]\u001b[0m Epoch 912 (global_step 1824000) finished, time:32.9 seconds.\n"
     ]
    },
    {
     "name": "stderr",
     "output_type": "stream",
     "text": [
      "\n"
     ]
    },
    {
     "name": "stdout",
     "output_type": "stream",
     "text": [
      "\u001b[32m[0215 13:41:50 @saver.py:79]\u001b[0m Model saved to ./output_TGAN/output/model\\model-1824000.\n",
      "\u001b[32m[0215 13:41:50 @monitor.py:467]\u001b[0m GAN_loss/discrim/accuracy_fake: 0.97\n",
      "\u001b[32m[0215 13:41:50 @monitor.py:467]\u001b[0m GAN_loss/discrim/accuracy_real: 0.12\n",
      "\u001b[32m[0215 13:41:50 @monitor.py:467]\u001b[0m GAN_loss/discrim/loss: 0.6438\n",
      "\u001b[32m[0215 13:41:50 @monitor.py:467]\u001b[0m GAN_loss/gen/final-g-loss: 1.1218\n",
      "\u001b[32m[0215 13:41:50 @monitor.py:467]\u001b[0m GAN_loss/gen/klloss: 0.098945\n",
      "\u001b[32m[0215 13:41:50 @monitor.py:467]\u001b[0m GAN_loss/gen/loss: 1.0228\n",
      "\u001b[32m[0215 13:41:50 @monitor.py:467]\u001b[0m QueueInput/queue_size: 50\n",
      "\u001b[32m[0215 13:41:50 @base.py:275]\u001b[0m Start Epoch 913 ...\n"
     ]
    },
    {
     "name": "stderr",
     "output_type": "stream",
     "text": [
      "100%|#################################################################################|2000/2000[00:32<00:00,60.64it/s]"
     ]
    },
    {
     "name": "stdout",
     "output_type": "stream",
     "text": [
      "\u001b[32m[0215 13:42:23 @base.py:285]\u001b[0m Epoch 913 (global_step 1826000) finished, time:33 seconds.\n"
     ]
    },
    {
     "name": "stderr",
     "output_type": "stream",
     "text": [
      "\n"
     ]
    },
    {
     "name": "stdout",
     "output_type": "stream",
     "text": [
      "\u001b[32m[0215 13:42:23 @saver.py:79]\u001b[0m Model saved to ./output_TGAN/output/model\\model-1826000.\n",
      "\u001b[32m[0215 13:42:23 @monitor.py:467]\u001b[0m GAN_loss/discrim/accuracy_fake: 0.95\n",
      "\u001b[32m[0215 13:42:23 @monitor.py:467]\u001b[0m GAN_loss/discrim/accuracy_real: 0.11\n",
      "\u001b[32m[0215 13:42:23 @monitor.py:467]\u001b[0m GAN_loss/discrim/loss: 0.6473\n",
      "\u001b[32m[0215 13:42:23 @monitor.py:467]\u001b[0m GAN_loss/gen/final-g-loss: 1.1377\n",
      "\u001b[32m[0215 13:42:23 @monitor.py:467]\u001b[0m GAN_loss/gen/klloss: 0.12604\n",
      "\u001b[32m[0215 13:42:23 @monitor.py:467]\u001b[0m GAN_loss/gen/loss: 1.0117\n",
      "\u001b[32m[0215 13:42:23 @monitor.py:467]\u001b[0m QueueInput/queue_size: 50\n",
      "\u001b[32m[0215 13:42:23 @base.py:275]\u001b[0m Start Epoch 914 ...\n"
     ]
    },
    {
     "name": "stderr",
     "output_type": "stream",
     "text": [
      "100%|#################################################################################|2000/2000[00:33<00:00,60.53it/s]"
     ]
    },
    {
     "name": "stdout",
     "output_type": "stream",
     "text": [
      "\u001b[32m[0215 13:42:56 @base.py:285]\u001b[0m Epoch 914 (global_step 1828000) finished, time:33 seconds.\n",
      "\u001b[32m[0215 13:42:56 @saver.py:79]\u001b[0m Model saved to ./output_TGAN/output/model\\model-1828000.\n",
      "\u001b[32m[0215 13:42:56 @monitor.py:467]\u001b[0m GAN_loss/discrim/accuracy_fake: 0.93\n"
     ]
    },
    {
     "name": "stderr",
     "output_type": "stream",
     "text": [
      "\n"
     ]
    },
    {
     "name": "stdout",
     "output_type": "stream",
     "text": [
      "\u001b[32m[0215 13:42:56 @monitor.py:467]\u001b[0m GAN_loss/discrim/accuracy_real: 0.105\n",
      "\u001b[32m[0215 13:42:56 @monitor.py:467]\u001b[0m GAN_loss/discrim/loss: 0.6474\n",
      "\u001b[32m[0215 13:42:56 @monitor.py:467]\u001b[0m GAN_loss/gen/final-g-loss: 1.1046\n",
      "\u001b[32m[0215 13:42:56 @monitor.py:467]\u001b[0m GAN_loss/gen/klloss: 0.08887\n",
      "\u001b[32m[0215 13:42:56 @monitor.py:467]\u001b[0m GAN_loss/gen/loss: 1.0157\n",
      "\u001b[32m[0215 13:42:56 @monitor.py:467]\u001b[0m QueueInput/queue_size: 50\n",
      "\u001b[32m[0215 13:42:56 @base.py:275]\u001b[0m Start Epoch 915 ...\n"
     ]
    },
    {
     "name": "stderr",
     "output_type": "stream",
     "text": [
      "100%|#################################################################################|2000/2000[00:32<00:00,61.16it/s]"
     ]
    },
    {
     "name": "stdout",
     "output_type": "stream",
     "text": [
      "\u001b[32m[0215 13:43:29 @base.py:285]\u001b[0m Epoch 915 (global_step 1830000) finished, time:32.7 seconds.\n",
      "\u001b[32m[0215 13:43:29 @saver.py:79]\u001b[0m Model saved to ./output_TGAN/output/model\\model-1830000.\n"
     ]
    },
    {
     "name": "stderr",
     "output_type": "stream",
     "text": [
      "\n"
     ]
    },
    {
     "name": "stdout",
     "output_type": "stream",
     "text": [
      "\u001b[32m[0215 13:43:29 @monitor.py:467]\u001b[0m GAN_loss/discrim/accuracy_fake: 0.945\n",
      "\u001b[32m[0215 13:43:29 @monitor.py:467]\u001b[0m GAN_loss/discrim/accuracy_real: 0.135\n",
      "\u001b[32m[0215 13:43:29 @monitor.py:467]\u001b[0m GAN_loss/discrim/loss: 0.64299\n",
      "\u001b[32m[0215 13:43:29 @monitor.py:467]\u001b[0m GAN_loss/gen/final-g-loss: 1.1199\n",
      "\u001b[32m[0215 13:43:29 @monitor.py:467]\u001b[0m GAN_loss/gen/klloss: 0.10062\n",
      "\u001b[32m[0215 13:43:29 @monitor.py:467]\u001b[0m GAN_loss/gen/loss: 1.0192\n",
      "\u001b[32m[0215 13:43:29 @monitor.py:467]\u001b[0m QueueInput/queue_size: 50\n",
      "\u001b[32m[0215 13:43:29 @base.py:275]\u001b[0m Start Epoch 916 ...\n"
     ]
    },
    {
     "name": "stderr",
     "output_type": "stream",
     "text": [
      "100%|#################################################################################|2000/2000[00:32<00:00,60.96it/s]"
     ]
    },
    {
     "name": "stdout",
     "output_type": "stream",
     "text": [
      "\u001b[32m[0215 13:44:02 @base.py:285]\u001b[0m Epoch 916 (global_step 1832000) finished, time:32.8 seconds.\n",
      "\u001b[32m[0215 13:44:02 @saver.py:79]\u001b[0m Model saved to ./output_TGAN/output/model\\model-1832000.\n"
     ]
    },
    {
     "name": "stderr",
     "output_type": "stream",
     "text": [
      "\n"
     ]
    },
    {
     "name": "stdout",
     "output_type": "stream",
     "text": [
      "\u001b[32m[0215 13:44:02 @monitor.py:467]\u001b[0m GAN_loss/discrim/accuracy_fake: 0.96\n",
      "\u001b[32m[0215 13:44:02 @monitor.py:467]\u001b[0m GAN_loss/discrim/accuracy_real: 0.09\n",
      "\u001b[32m[0215 13:44:02 @monitor.py:467]\u001b[0m GAN_loss/discrim/loss: 0.64406\n",
      "\u001b[32m[0215 13:44:02 @monitor.py:467]\u001b[0m GAN_loss/gen/final-g-loss: 1.0919\n",
      "\u001b[32m[0215 13:44:02 @monitor.py:467]\u001b[0m GAN_loss/gen/klloss: 0.070629\n",
      "\u001b[32m[0215 13:44:02 @monitor.py:467]\u001b[0m GAN_loss/gen/loss: 1.0213\n",
      "\u001b[32m[0215 13:44:02 @monitor.py:467]\u001b[0m QueueInput/queue_size: 50\n",
      "\u001b[32m[0215 13:44:02 @base.py:275]\u001b[0m Start Epoch 917 ...\n"
     ]
    },
    {
     "name": "stderr",
     "output_type": "stream",
     "text": [
      "100%|#################################################################################|2000/2000[00:32<00:00,60.91it/s]"
     ]
    },
    {
     "name": "stdout",
     "output_type": "stream",
     "text": [
      "\u001b[32m[0215 13:44:35 @base.py:285]\u001b[0m Epoch 917 (global_step 1834000) finished, time:32.8 seconds.\n",
      "\u001b[32m[0215 13:44:35 @saver.py:79]\u001b[0m Model saved to ./output_TGAN/output/model\\model-1834000.\n"
     ]
    },
    {
     "name": "stderr",
     "output_type": "stream",
     "text": [
      "\n"
     ]
    },
    {
     "name": "stdout",
     "output_type": "stream",
     "text": [
      "\u001b[32m[0215 13:44:35 @monitor.py:467]\u001b[0m GAN_loss/discrim/accuracy_fake: 0.925\n",
      "\u001b[32m[0215 13:44:35 @monitor.py:467]\u001b[0m GAN_loss/discrim/accuracy_real: 0.185\n",
      "\u001b[32m[0215 13:44:35 @monitor.py:467]\u001b[0m GAN_loss/discrim/loss: 0.63932\n",
      "\u001b[32m[0215 13:44:35 @monitor.py:467]\u001b[0m GAN_loss/gen/final-g-loss: 1.1144\n",
      "\u001b[32m[0215 13:44:35 @monitor.py:467]\u001b[0m GAN_loss/gen/klloss: 0.10388\n",
      "\u001b[32m[0215 13:44:35 @monitor.py:467]\u001b[0m GAN_loss/gen/loss: 1.0105\n",
      "\u001b[32m[0215 13:44:35 @monitor.py:467]\u001b[0m QueueInput/queue_size: 50\n",
      "\u001b[32m[0215 13:44:35 @base.py:275]\u001b[0m Start Epoch 918 ...\n"
     ]
    },
    {
     "name": "stderr",
     "output_type": "stream",
     "text": [
      "100%|#################################################################################|2000/2000[00:32<00:00,61.23it/s]"
     ]
    },
    {
     "name": "stdout",
     "output_type": "stream",
     "text": [
      "\u001b[32m[0215 13:45:08 @base.py:285]\u001b[0m Epoch 918 (global_step 1836000) finished, time:32.7 seconds.\n",
      "\u001b[32m[0215 13:45:08 @saver.py:79]\u001b[0m Model saved to ./output_TGAN/output/model\\model-1836000.\n"
     ]
    },
    {
     "name": "stderr",
     "output_type": "stream",
     "text": [
      "\n"
     ]
    },
    {
     "name": "stdout",
     "output_type": "stream",
     "text": [
      "\u001b[32m[0215 13:45:08 @monitor.py:467]\u001b[0m GAN_loss/discrim/accuracy_fake: 0.93\n",
      "\u001b[32m[0215 13:45:08 @monitor.py:467]\u001b[0m GAN_loss/discrim/accuracy_real: 0.12\n",
      "\u001b[32m[0215 13:45:08 @monitor.py:467]\u001b[0m GAN_loss/discrim/loss: 0.64192\n",
      "\u001b[32m[0215 13:45:08 @monitor.py:467]\u001b[0m GAN_loss/gen/final-g-loss: 1.1826\n",
      "\u001b[32m[0215 13:45:08 @monitor.py:467]\u001b[0m GAN_loss/gen/klloss: 0.17783\n",
      "\u001b[32m[0215 13:45:08 @monitor.py:467]\u001b[0m GAN_loss/gen/loss: 1.0047\n",
      "\u001b[32m[0215 13:45:08 @monitor.py:467]\u001b[0m QueueInput/queue_size: 50\n",
      "\u001b[32m[0215 13:45:08 @base.py:275]\u001b[0m Start Epoch 919 ...\n"
     ]
    },
    {
     "name": "stderr",
     "output_type": "stream",
     "text": [
      "100%|#################################################################################|2000/2000[00:32<00:00,61.92it/s]"
     ]
    },
    {
     "name": "stdout",
     "output_type": "stream",
     "text": [
      "\u001b[32m[0215 13:45:40 @base.py:285]\u001b[0m Epoch 919 (global_step 1838000) finished, time:32.3 seconds.\n",
      "\u001b[32m[0215 13:45:40 @saver.py:79]\u001b[0m Model saved to ./output_TGAN/output/model\\model-1838000.\n",
      "\u001b[32m[0215 13:45:40 @monitor.py:467]\u001b[0m GAN_loss/discrim/accuracy_fake: 0.94\n"
     ]
    },
    {
     "name": "stderr",
     "output_type": "stream",
     "text": [
      "\n"
     ]
    },
    {
     "name": "stdout",
     "output_type": "stream",
     "text": [
      "\u001b[32m[0215 13:45:40 @monitor.py:467]\u001b[0m GAN_loss/discrim/accuracy_real: 0.13\n",
      "\u001b[32m[0215 13:45:40 @monitor.py:467]\u001b[0m GAN_loss/discrim/loss: 0.63818\n",
      "\u001b[32m[0215 13:45:40 @monitor.py:467]\u001b[0m GAN_loss/gen/final-g-loss: 1.158\n",
      "\u001b[32m[0215 13:45:40 @monitor.py:467]\u001b[0m GAN_loss/gen/klloss: 0.1284\n",
      "\u001b[32m[0215 13:45:40 @monitor.py:467]\u001b[0m GAN_loss/gen/loss: 1.0296\n",
      "\u001b[32m[0215 13:45:40 @monitor.py:467]\u001b[0m QueueInput/queue_size: 50\n",
      "\u001b[32m[0215 13:45:40 @base.py:275]\u001b[0m Start Epoch 920 ...\n"
     ]
    },
    {
     "name": "stderr",
     "output_type": "stream",
     "text": [
      "100%|#################################################################################|2000/2000[00:31<00:00,64.00it/s]"
     ]
    },
    {
     "name": "stdout",
     "output_type": "stream",
     "text": [
      "\u001b[32m[0215 13:46:12 @base.py:285]\u001b[0m Epoch 920 (global_step 1840000) finished, time:31.2 seconds.\n",
      "\u001b[32m[0215 13:46:12 @saver.py:79]\u001b[0m Model saved to ./output_TGAN/output/model\\model-1840000.\n",
      "\u001b[32m[0215 13:46:12 @monitor.py:467]\u001b[0m GAN_loss/discrim/accuracy_fake: 0.915\n"
     ]
    },
    {
     "name": "stderr",
     "output_type": "stream",
     "text": [
      "\n"
     ]
    },
    {
     "name": "stdout",
     "output_type": "stream",
     "text": [
      "\u001b[32m[0215 13:46:12 @monitor.py:467]\u001b[0m GAN_loss/discrim/accuracy_real: 0.125\n",
      "\u001b[32m[0215 13:46:12 @monitor.py:467]\u001b[0m GAN_loss/discrim/loss: 0.64678\n",
      "\u001b[32m[0215 13:46:12 @monitor.py:467]\u001b[0m GAN_loss/gen/final-g-loss: 1.0794\n",
      "\u001b[32m[0215 13:46:12 @monitor.py:467]\u001b[0m GAN_loss/gen/klloss: 0.068639\n",
      "\u001b[32m[0215 13:46:12 @monitor.py:467]\u001b[0m GAN_loss/gen/loss: 1.0108\n",
      "\u001b[32m[0215 13:46:12 @monitor.py:467]\u001b[0m QueueInput/queue_size: 50\n",
      "\u001b[32m[0215 13:46:12 @base.py:275]\u001b[0m Start Epoch 921 ...\n"
     ]
    },
    {
     "name": "stderr",
     "output_type": "stream",
     "text": [
      "100%|#################################################################################|2000/2000[00:31<00:00,62.77it/s]"
     ]
    },
    {
     "name": "stdout",
     "output_type": "stream",
     "text": [
      "\u001b[32m[0215 13:46:44 @base.py:285]\u001b[0m Epoch 921 (global_step 1842000) finished, time:31.9 seconds.\n",
      "\u001b[32m[0215 13:46:44 @saver.py:79]\u001b[0m Model saved to ./output_TGAN/output/model\\model-1842000.\n",
      "\u001b[32m[0215 13:46:44 @monitor.py:467]\u001b[0m GAN_loss/discrim/accuracy_fake: 0.92\n"
     ]
    },
    {
     "name": "stderr",
     "output_type": "stream",
     "text": [
      "\n"
     ]
    },
    {
     "name": "stdout",
     "output_type": "stream",
     "text": [
      "\u001b[32m[0215 13:46:44 @monitor.py:467]\u001b[0m GAN_loss/discrim/accuracy_real: 0.115\n",
      "\u001b[32m[0215 13:46:44 @monitor.py:467]\u001b[0m GAN_loss/discrim/loss: 0.64753\n",
      "\u001b[32m[0215 13:46:44 @monitor.py:467]\u001b[0m GAN_loss/gen/final-g-loss: 1.1039\n",
      "\u001b[32m[0215 13:46:44 @monitor.py:467]\u001b[0m GAN_loss/gen/klloss: 0.10244\n",
      "\u001b[32m[0215 13:46:44 @monitor.py:467]\u001b[0m GAN_loss/gen/loss: 1.0015\n",
      "\u001b[32m[0215 13:46:44 @monitor.py:467]\u001b[0m QueueInput/queue_size: 50\n",
      "\u001b[32m[0215 13:46:44 @base.py:275]\u001b[0m Start Epoch 922 ...\n"
     ]
    },
    {
     "name": "stderr",
     "output_type": "stream",
     "text": [
      "100%|#################################################################################|2000/2000[00:31<00:00,63.73it/s]"
     ]
    },
    {
     "name": "stdout",
     "output_type": "stream",
     "text": [
      "\u001b[32m[0215 13:47:15 @base.py:285]\u001b[0m Epoch 922 (global_step 1844000) finished, time:31.4 seconds.\n",
      "\u001b[32m[0215 13:47:15 @saver.py:79]\u001b[0m Model saved to ./output_TGAN/output/model\\model-1844000.\n"
     ]
    },
    {
     "name": "stderr",
     "output_type": "stream",
     "text": [
      "\n"
     ]
    },
    {
     "name": "stdout",
     "output_type": "stream",
     "text": [
      "\u001b[32m[0215 13:47:16 @monitor.py:467]\u001b[0m GAN_loss/discrim/accuracy_fake: 0.945\n",
      "\u001b[32m[0215 13:47:16 @monitor.py:467]\u001b[0m GAN_loss/discrim/accuracy_real: 0.075\n",
      "\u001b[32m[0215 13:47:16 @monitor.py:467]\u001b[0m GAN_loss/discrim/loss: 0.64992\n",
      "\u001b[32m[0215 13:47:16 @monitor.py:467]\u001b[0m GAN_loss/gen/final-g-loss: 1.2085\n",
      "\u001b[32m[0215 13:47:16 @monitor.py:467]\u001b[0m GAN_loss/gen/klloss: 0.19567\n",
      "\u001b[32m[0215 13:47:16 @monitor.py:467]\u001b[0m GAN_loss/gen/loss: 1.0128\n",
      "\u001b[32m[0215 13:47:16 @monitor.py:467]\u001b[0m QueueInput/queue_size: 50\n",
      "\u001b[32m[0215 13:47:16 @base.py:275]\u001b[0m Start Epoch 923 ...\n"
     ]
    },
    {
     "name": "stderr",
     "output_type": "stream",
     "text": [
      "100%|#################################################################################|2000/2000[00:32<00:00,62.49it/s]"
     ]
    },
    {
     "name": "stdout",
     "output_type": "stream",
     "text": [
      "\u001b[32m[0215 13:47:48 @base.py:285]\u001b[0m Epoch 923 (global_step 1846000) finished, time:32 seconds.\n",
      "\u001b[32m[0215 13:47:48 @saver.py:79]\u001b[0m Model saved to ./output_TGAN/output/model\\model-1846000.\n",
      "\u001b[32m[0215 13:47:48 @monitor.py:467]\u001b[0m GAN_loss/discrim/accuracy_fake: 0.935\n"
     ]
    },
    {
     "name": "stderr",
     "output_type": "stream",
     "text": [
      "\n"
     ]
    },
    {
     "name": "stdout",
     "output_type": "stream",
     "text": [
      "\u001b[32m[0215 13:47:48 @monitor.py:467]\u001b[0m GAN_loss/discrim/accuracy_real: 0.1\n",
      "\u001b[32m[0215 13:47:48 @monitor.py:467]\u001b[0m GAN_loss/discrim/loss: 0.64835\n",
      "\u001b[32m[0215 13:47:48 @monitor.py:467]\u001b[0m GAN_loss/gen/final-g-loss: 1.0769\n",
      "\u001b[32m[0215 13:47:48 @monitor.py:467]\u001b[0m GAN_loss/gen/klloss: 0.078915\n",
      "\u001b[32m[0215 13:47:48 @monitor.py:467]\u001b[0m GAN_loss/gen/loss: 0.998\n",
      "\u001b[32m[0215 13:47:48 @monitor.py:467]\u001b[0m QueueInput/queue_size: 50\n",
      "\u001b[32m[0215 13:47:48 @base.py:275]\u001b[0m Start Epoch 924 ...\n"
     ]
    },
    {
     "name": "stderr",
     "output_type": "stream",
     "text": [
      "100%|#################################################################################|2000/2000[00:31<00:00,64.22it/s]"
     ]
    },
    {
     "name": "stdout",
     "output_type": "stream",
     "text": [
      "\u001b[32m[0215 13:48:19 @base.py:285]\u001b[0m Epoch 924 (global_step 1848000) finished, time:31.1 seconds.\n",
      "\u001b[32m[0215 13:48:19 @saver.py:79]\u001b[0m Model saved to ./output_TGAN/output/model\\model-1848000.\n",
      "\u001b[32m[0215 13:48:19 @monitor.py:467]\u001b[0m GAN_loss/discrim/accuracy_fake: 0.955\n"
     ]
    },
    {
     "name": "stderr",
     "output_type": "stream",
     "text": [
      "\n"
     ]
    },
    {
     "name": "stdout",
     "output_type": "stream",
     "text": [
      "\u001b[32m[0215 13:48:19 @monitor.py:467]\u001b[0m GAN_loss/discrim/accuracy_real: 0.085\n",
      "\u001b[32m[0215 13:48:19 @monitor.py:467]\u001b[0m GAN_loss/discrim/loss: 0.64753\n",
      "\u001b[32m[0215 13:48:19 @monitor.py:467]\u001b[0m GAN_loss/gen/final-g-loss: 1.1845\n",
      "\u001b[32m[0215 13:48:19 @monitor.py:467]\u001b[0m GAN_loss/gen/klloss: 0.15963\n",
      "\u001b[32m[0215 13:48:19 @monitor.py:467]\u001b[0m GAN_loss/gen/loss: 1.0248\n",
      "\u001b[32m[0215 13:48:19 @monitor.py:467]\u001b[0m QueueInput/queue_size: 50\n",
      "\u001b[32m[0215 13:48:19 @base.py:275]\u001b[0m Start Epoch 925 ...\n"
     ]
    },
    {
     "name": "stderr",
     "output_type": "stream",
     "text": [
      "100%|#################################################################################|2000/2000[00:31<00:00,63.57it/s]"
     ]
    },
    {
     "name": "stdout",
     "output_type": "stream",
     "text": [
      "\u001b[32m[0215 13:48:51 @base.py:285]\u001b[0m Epoch 925 (global_step 1850000) finished, time:31.5 seconds.\n"
     ]
    },
    {
     "name": "stderr",
     "output_type": "stream",
     "text": [
      "\n"
     ]
    },
    {
     "name": "stdout",
     "output_type": "stream",
     "text": [
      "\u001b[32m[0215 13:48:51 @saver.py:79]\u001b[0m Model saved to ./output_TGAN/output/model\\model-1850000.\n",
      "\u001b[32m[0215 13:48:51 @monitor.py:467]\u001b[0m GAN_loss/discrim/accuracy_fake: 0.98\n",
      "\u001b[32m[0215 13:48:51 @monitor.py:467]\u001b[0m GAN_loss/discrim/accuracy_real: 0.125\n",
      "\u001b[32m[0215 13:48:51 @monitor.py:467]\u001b[0m GAN_loss/discrim/loss: 0.63691\n",
      "\u001b[32m[0215 13:48:51 @monitor.py:467]\u001b[0m GAN_loss/gen/final-g-loss: 1.1225\n",
      "\u001b[32m[0215 13:48:51 @monitor.py:467]\u001b[0m GAN_loss/gen/klloss: 0.10305\n",
      "\u001b[32m[0215 13:48:51 @monitor.py:467]\u001b[0m GAN_loss/gen/loss: 1.0194\n",
      "\u001b[32m[0215 13:48:51 @monitor.py:467]\u001b[0m QueueInput/queue_size: 50\n",
      "\u001b[32m[0215 13:48:51 @base.py:275]\u001b[0m Start Epoch 926 ...\n"
     ]
    },
    {
     "name": "stderr",
     "output_type": "stream",
     "text": [
      "100%|#################################################################################|2000/2000[00:31<00:00,62.63it/s]"
     ]
    },
    {
     "name": "stdout",
     "output_type": "stream",
     "text": [
      "\u001b[32m[0215 13:49:23 @base.py:285]\u001b[0m Epoch 926 (global_step 1852000) finished, time:31.9 seconds.\n"
     ]
    },
    {
     "name": "stderr",
     "output_type": "stream",
     "text": [
      "\n"
     ]
    },
    {
     "name": "stdout",
     "output_type": "stream",
     "text": [
      "\u001b[32m[0215 13:49:23 @saver.py:79]\u001b[0m Model saved to ./output_TGAN/output/model\\model-1852000.\n",
      "\u001b[32m[0215 13:49:23 @monitor.py:467]\u001b[0m GAN_loss/discrim/accuracy_fake: 0.92\n",
      "\u001b[32m[0215 13:49:23 @monitor.py:467]\u001b[0m GAN_loss/discrim/accuracy_real: 0.095\n",
      "\u001b[32m[0215 13:49:23 @monitor.py:467]\u001b[0m GAN_loss/discrim/loss: 0.64955\n",
      "\u001b[32m[0215 13:49:23 @monitor.py:467]\u001b[0m GAN_loss/gen/final-g-loss: 1.1361\n",
      "\u001b[32m[0215 13:49:23 @monitor.py:467]\u001b[0m GAN_loss/gen/klloss: 0.128\n",
      "\u001b[32m[0215 13:49:23 @monitor.py:467]\u001b[0m GAN_loss/gen/loss: 1.0081\n",
      "\u001b[32m[0215 13:49:23 @monitor.py:467]\u001b[0m QueueInput/queue_size: 50\n",
      "\u001b[32m[0215 13:49:23 @base.py:275]\u001b[0m Start Epoch 927 ...\n"
     ]
    },
    {
     "name": "stderr",
     "output_type": "stream",
     "text": [
      "100%|#################################################################################|2000/2000[00:31<00:00,63.28it/s]"
     ]
    },
    {
     "name": "stdout",
     "output_type": "stream",
     "text": [
      "\u001b[32m[0215 13:49:54 @base.py:285]\u001b[0m Epoch 927 (global_step 1854000) finished, time:31.6 seconds.\n",
      "\u001b[32m[0215 13:49:54 @saver.py:79]\u001b[0m Model saved to ./output_TGAN/output/model\\model-1854000.\n",
      "\u001b[32m[0215 13:49:55 @monitor.py:467]\u001b[0m GAN_loss/discrim/accuracy_fake: 0.91\n"
     ]
    },
    {
     "name": "stderr",
     "output_type": "stream",
     "text": [
      "\n"
     ]
    },
    {
     "name": "stdout",
     "output_type": "stream",
     "text": [
      "\u001b[32m[0215 13:49:55 @monitor.py:467]\u001b[0m GAN_loss/discrim/accuracy_real: 0.135\n",
      "\u001b[32m[0215 13:49:55 @monitor.py:467]\u001b[0m GAN_loss/discrim/loss: 0.65481\n",
      "\u001b[32m[0215 13:49:55 @monitor.py:467]\u001b[0m GAN_loss/gen/final-g-loss: 1.1432\n",
      "\u001b[32m[0215 13:49:55 @monitor.py:467]\u001b[0m GAN_loss/gen/klloss: 0.15559\n",
      "\u001b[32m[0215 13:49:55 @monitor.py:467]\u001b[0m GAN_loss/gen/loss: 0.98766\n",
      "\u001b[32m[0215 13:49:55 @monitor.py:467]\u001b[0m QueueInput/queue_size: 50\n",
      "\u001b[32m[0215 13:49:55 @base.py:275]\u001b[0m Start Epoch 928 ...\n"
     ]
    },
    {
     "name": "stderr",
     "output_type": "stream",
     "text": [
      "100%|#################################################################################|2000/2000[00:32<00:00,62.25it/s]"
     ]
    },
    {
     "name": "stdout",
     "output_type": "stream",
     "text": [
      "\u001b[32m[0215 13:50:27 @base.py:285]\u001b[0m Epoch 928 (global_step 1856000) finished, time:32.1 seconds.\n",
      "\u001b[32m[0215 13:50:27 @saver.py:79]\u001b[0m Model saved to ./output_TGAN/output/model\\model-1856000.\n",
      "\u001b[32m[0215 13:50:27 @monitor.py:467]\u001b[0m GAN_loss/discrim/accuracy_fake: 0.92\n"
     ]
    },
    {
     "name": "stderr",
     "output_type": "stream",
     "text": [
      "\n"
     ]
    },
    {
     "name": "stdout",
     "output_type": "stream",
     "text": [
      "\u001b[32m[0215 13:50:27 @monitor.py:467]\u001b[0m GAN_loss/discrim/accuracy_real: 0.16\n",
      "\u001b[32m[0215 13:50:27 @monitor.py:467]\u001b[0m GAN_loss/discrim/loss: 0.64545\n",
      "\u001b[32m[0215 13:50:27 @monitor.py:467]\u001b[0m GAN_loss/gen/final-g-loss: 1.1089\n",
      "\u001b[32m[0215 13:50:27 @monitor.py:467]\u001b[0m GAN_loss/gen/klloss: 0.10541\n",
      "\u001b[32m[0215 13:50:27 @monitor.py:467]\u001b[0m GAN_loss/gen/loss: 1.0035\n",
      "\u001b[32m[0215 13:50:27 @monitor.py:467]\u001b[0m QueueInput/queue_size: 50\n",
      "\u001b[32m[0215 13:50:27 @base.py:275]\u001b[0m Start Epoch 929 ...\n"
     ]
    },
    {
     "name": "stderr",
     "output_type": "stream",
     "text": [
      "100%|#################################################################################|2000/2000[00:31<00:00,63.03it/s]"
     ]
    },
    {
     "name": "stdout",
     "output_type": "stream",
     "text": [
      "\u001b[32m[0215 13:50:59 @base.py:285]\u001b[0m Epoch 929 (global_step 1858000) finished, time:31.7 seconds.\n",
      "\u001b[32m[0215 13:50:59 @saver.py:79]\u001b[0m Model saved to ./output_TGAN/output/model\\model-1858000.\n"
     ]
    },
    {
     "name": "stderr",
     "output_type": "stream",
     "text": [
      "\n"
     ]
    },
    {
     "name": "stdout",
     "output_type": "stream",
     "text": [
      "\u001b[32m[0215 13:50:59 @monitor.py:467]\u001b[0m GAN_loss/discrim/accuracy_fake: 0.935\n",
      "\u001b[32m[0215 13:50:59 @monitor.py:467]\u001b[0m GAN_loss/discrim/accuracy_real: 0.13\n",
      "\u001b[32m[0215 13:50:59 @monitor.py:467]\u001b[0m GAN_loss/discrim/loss: 0.64243\n",
      "\u001b[32m[0215 13:50:59 @monitor.py:467]\u001b[0m GAN_loss/gen/final-g-loss: 1.0798\n",
      "\u001b[32m[0215 13:50:59 @monitor.py:467]\u001b[0m GAN_loss/gen/klloss: 0.06909\n",
      "\u001b[32m[0215 13:50:59 @monitor.py:467]\u001b[0m GAN_loss/gen/loss: 1.0107\n",
      "\u001b[32m[0215 13:50:59 @monitor.py:467]\u001b[0m QueueInput/queue_size: 50\n",
      "\u001b[32m[0215 13:50:59 @base.py:275]\u001b[0m Start Epoch 930 ...\n"
     ]
    },
    {
     "name": "stderr",
     "output_type": "stream",
     "text": [
      "100%|#################################################################################|2000/2000[00:31<00:00,62.61it/s]"
     ]
    },
    {
     "name": "stdout",
     "output_type": "stream",
     "text": [
      "\u001b[32m[0215 13:51:31 @base.py:285]\u001b[0m Epoch 930 (global_step 1860000) finished, time:31.9 seconds.\n",
      "\u001b[32m[0215 13:51:31 @saver.py:79]\u001b[0m Model saved to ./output_TGAN/output/model\\model-1860000.\n",
      "\u001b[32m[0215 13:51:31 @monitor.py:467]\u001b[0m GAN_loss/discrim/accuracy_fake: 0.945\n"
     ]
    },
    {
     "name": "stderr",
     "output_type": "stream",
     "text": [
      "\n"
     ]
    },
    {
     "name": "stdout",
     "output_type": "stream",
     "text": [
      "\u001b[32m[0215 13:51:31 @monitor.py:467]\u001b[0m GAN_loss/discrim/accuracy_real: 0.1\n",
      "\u001b[32m[0215 13:51:31 @monitor.py:467]\u001b[0m GAN_loss/discrim/loss: 0.64287\n",
      "\u001b[32m[0215 13:51:31 @monitor.py:467]\u001b[0m GAN_loss/gen/final-g-loss: 1.1017\n",
      "\u001b[32m[0215 13:51:31 @monitor.py:467]\u001b[0m GAN_loss/gen/klloss: 0.080876\n",
      "\u001b[32m[0215 13:51:31 @monitor.py:467]\u001b[0m GAN_loss/gen/loss: 1.0208\n",
      "\u001b[32m[0215 13:51:31 @monitor.py:467]\u001b[0m QueueInput/queue_size: 50\n",
      "\u001b[32m[0215 13:51:31 @base.py:275]\u001b[0m Start Epoch 931 ...\n"
     ]
    },
    {
     "name": "stderr",
     "output_type": "stream",
     "text": [
      "100%|#################################################################################|2000/2000[00:31<00:00,63.03it/s]"
     ]
    },
    {
     "name": "stdout",
     "output_type": "stream",
     "text": [
      "\u001b[32m[0215 13:52:03 @base.py:285]\u001b[0m Epoch 931 (global_step 1862000) finished, time:31.7 seconds.\n",
      "\u001b[32m[0215 13:52:03 @saver.py:79]\u001b[0m Model saved to ./output_TGAN/output/model\\model-1862000.\n"
     ]
    },
    {
     "name": "stderr",
     "output_type": "stream",
     "text": [
      "\n"
     ]
    },
    {
     "name": "stdout",
     "output_type": "stream",
     "text": [
      "\u001b[32m[0215 13:52:03 @monitor.py:467]\u001b[0m GAN_loss/discrim/accuracy_fake: 0.925\n",
      "\u001b[32m[0215 13:52:03 @monitor.py:467]\u001b[0m GAN_loss/discrim/accuracy_real: 0.15\n",
      "\u001b[32m[0215 13:52:03 @monitor.py:467]\u001b[0m GAN_loss/discrim/loss: 0.64543\n",
      "\u001b[32m[0215 13:52:03 @monitor.py:467]\u001b[0m GAN_loss/gen/final-g-loss: 1.1005\n",
      "\u001b[32m[0215 13:52:03 @monitor.py:467]\u001b[0m GAN_loss/gen/klloss: 0.091945\n",
      "\u001b[32m[0215 13:52:03 @monitor.py:467]\u001b[0m GAN_loss/gen/loss: 1.0086\n",
      "\u001b[32m[0215 13:52:03 @monitor.py:467]\u001b[0m QueueInput/queue_size: 50\n",
      "\u001b[32m[0215 13:52:03 @base.py:275]\u001b[0m Start Epoch 932 ...\n"
     ]
    },
    {
     "name": "stderr",
     "output_type": "stream",
     "text": [
      "100%|#################################################################################|2000/2000[00:31<00:00,63.65it/s]"
     ]
    },
    {
     "name": "stdout",
     "output_type": "stream",
     "text": [
      "\u001b[32m[0215 13:52:34 @base.py:285]\u001b[0m Epoch 932 (global_step 1864000) finished, time:31.4 seconds.\n",
      "\u001b[32m[0215 13:52:34 @saver.py:79]\u001b[0m Model saved to ./output_TGAN/output/model\\model-1864000.\n",
      "\u001b[32m[0215 13:52:35 @monitor.py:467]\u001b[0m GAN_loss/discrim/accuracy_fake: 0.96\n"
     ]
    },
    {
     "name": "stderr",
     "output_type": "stream",
     "text": [
      "\n"
     ]
    },
    {
     "name": "stdout",
     "output_type": "stream",
     "text": [
      "\u001b[32m[0215 13:52:35 @monitor.py:467]\u001b[0m GAN_loss/discrim/accuracy_real: 0.125\n",
      "\u001b[32m[0215 13:52:35 @monitor.py:467]\u001b[0m GAN_loss/discrim/loss: 0.64048\n",
      "\u001b[32m[0215 13:52:35 @monitor.py:467]\u001b[0m GAN_loss/gen/final-g-loss: 1.1037\n",
      "\u001b[32m[0215 13:52:35 @monitor.py:467]\u001b[0m GAN_loss/gen/klloss: 0.086279\n",
      "\u001b[32m[0215 13:52:35 @monitor.py:467]\u001b[0m GAN_loss/gen/loss: 1.0174\n",
      "\u001b[32m[0215 13:52:35 @monitor.py:467]\u001b[0m QueueInput/queue_size: 50\n",
      "\u001b[32m[0215 13:52:35 @base.py:275]\u001b[0m Start Epoch 933 ...\n"
     ]
    },
    {
     "name": "stderr",
     "output_type": "stream",
     "text": [
      "100%|#################################################################################|2000/2000[00:31<00:00,64.41it/s]"
     ]
    },
    {
     "name": "stdout",
     "output_type": "stream",
     "text": [
      "\u001b[32m[0215 13:53:06 @base.py:285]\u001b[0m Epoch 933 (global_step 1866000) finished, time:31.1 seconds.\n",
      "\u001b[32m[0215 13:53:06 @saver.py:79]\u001b[0m Model saved to ./output_TGAN/output/model\\model-1866000.\n"
     ]
    },
    {
     "name": "stderr",
     "output_type": "stream",
     "text": [
      "\n"
     ]
    },
    {
     "name": "stdout",
     "output_type": "stream",
     "text": [
      "\u001b[32m[0215 13:53:06 @monitor.py:467]\u001b[0m GAN_loss/discrim/accuracy_fake: 0.935\n",
      "\u001b[32m[0215 13:53:06 @monitor.py:467]\u001b[0m GAN_loss/discrim/accuracy_real: 0.17\n",
      "\u001b[32m[0215 13:53:06 @monitor.py:467]\u001b[0m GAN_loss/discrim/loss: 0.6389\n",
      "\u001b[32m[0215 13:53:06 @monitor.py:467]\u001b[0m GAN_loss/gen/final-g-loss: 1.1383\n",
      "\u001b[32m[0215 13:53:06 @monitor.py:467]\u001b[0m GAN_loss/gen/klloss: 0.11951\n",
      "\u001b[32m[0215 13:53:06 @monitor.py:467]\u001b[0m GAN_loss/gen/loss: 1.0188\n",
      "\u001b[32m[0215 13:53:06 @monitor.py:467]\u001b[0m QueueInput/queue_size: 50\n",
      "\u001b[32m[0215 13:53:06 @base.py:275]\u001b[0m Start Epoch 934 ...\n"
     ]
    },
    {
     "name": "stderr",
     "output_type": "stream",
     "text": [
      "100%|#################################################################################|2000/2000[00:31<00:00,62.77it/s]"
     ]
    },
    {
     "name": "stdout",
     "output_type": "stream",
     "text": [
      "\u001b[32m[0215 13:53:38 @base.py:285]\u001b[0m Epoch 934 (global_step 1868000) finished, time:31.9 seconds.\n",
      "\u001b[32m[0215 13:53:38 @saver.py:79]\u001b[0m Model saved to ./output_TGAN/output/model\\model-1868000.\n"
     ]
    },
    {
     "name": "stderr",
     "output_type": "stream",
     "text": [
      "\n"
     ]
    },
    {
     "name": "stdout",
     "output_type": "stream",
     "text": [
      "\u001b[32m[0215 13:53:38 @monitor.py:467]\u001b[0m GAN_loss/discrim/accuracy_fake: 0.93\n",
      "\u001b[32m[0215 13:53:38 @monitor.py:467]\u001b[0m GAN_loss/discrim/accuracy_real: 0.15\n",
      "\u001b[32m[0215 13:53:38 @monitor.py:467]\u001b[0m GAN_loss/discrim/loss: 0.63756\n",
      "\u001b[32m[0215 13:53:38 @monitor.py:467]\u001b[0m GAN_loss/gen/final-g-loss: 1.1166\n",
      "\u001b[32m[0215 13:53:38 @monitor.py:467]\u001b[0m GAN_loss/gen/klloss: 0.097522\n",
      "\u001b[32m[0215 13:53:38 @monitor.py:467]\u001b[0m GAN_loss/gen/loss: 1.0191\n",
      "\u001b[32m[0215 13:53:38 @monitor.py:467]\u001b[0m QueueInput/queue_size: 50\n",
      "\u001b[32m[0215 13:53:38 @base.py:275]\u001b[0m Start Epoch 935 ...\n"
     ]
    },
    {
     "name": "stderr",
     "output_type": "stream",
     "text": [
      "100%|#################################################################################|2000/2000[00:32<00:00,61.26it/s]"
     ]
    },
    {
     "name": "stdout",
     "output_type": "stream",
     "text": [
      "\u001b[32m[0215 13:54:11 @base.py:285]\u001b[0m Epoch 935 (global_step 1870000) finished, time:32.6 seconds.\n",
      "\u001b[32m[0215 13:54:11 @saver.py:79]\u001b[0m Model saved to ./output_TGAN/output/model\\model-1870000.\n"
     ]
    },
    {
     "name": "stderr",
     "output_type": "stream",
     "text": [
      "\n"
     ]
    },
    {
     "name": "stdout",
     "output_type": "stream",
     "text": [
      "\u001b[32m[0215 13:54:11 @monitor.py:467]\u001b[0m GAN_loss/discrim/accuracy_fake: 0.94\n",
      "\u001b[32m[0215 13:54:11 @monitor.py:467]\u001b[0m GAN_loss/discrim/accuracy_real: 0.125\n",
      "\u001b[32m[0215 13:54:11 @monitor.py:467]\u001b[0m GAN_loss/discrim/loss: 0.64962\n",
      "\u001b[32m[0215 13:54:11 @monitor.py:467]\u001b[0m GAN_loss/gen/final-g-loss: 1.1446\n",
      "\u001b[32m[0215 13:54:11 @monitor.py:467]\u001b[0m GAN_loss/gen/klloss: 0.1388\n",
      "\u001b[32m[0215 13:54:11 @monitor.py:467]\u001b[0m GAN_loss/gen/loss: 1.0058\n",
      "\u001b[32m[0215 13:54:11 @monitor.py:467]\u001b[0m QueueInput/queue_size: 50\n",
      "\u001b[32m[0215 13:54:11 @base.py:275]\u001b[0m Start Epoch 936 ...\n"
     ]
    },
    {
     "name": "stderr",
     "output_type": "stream",
     "text": [
      "100%|#################################################################################|2000/2000[00:32<00:00,62.41it/s]"
     ]
    },
    {
     "name": "stdout",
     "output_type": "stream",
     "text": [
      "\u001b[32m[0215 13:54:43 @base.py:285]\u001b[0m Epoch 936 (global_step 1872000) finished, time:32 seconds.\n",
      "\u001b[32m[0215 13:54:43 @saver.py:79]\u001b[0m Model saved to ./output_TGAN/output/model\\model-1872000.\n"
     ]
    },
    {
     "name": "stderr",
     "output_type": "stream",
     "text": [
      "\n"
     ]
    },
    {
     "name": "stdout",
     "output_type": "stream",
     "text": [
      "\u001b[32m[0215 13:54:43 @monitor.py:467]\u001b[0m GAN_loss/discrim/accuracy_fake: 0.915\n",
      "\u001b[32m[0215 13:54:43 @monitor.py:467]\u001b[0m GAN_loss/discrim/accuracy_real: 0.07\n",
      "\u001b[32m[0215 13:54:43 @monitor.py:467]\u001b[0m GAN_loss/discrim/loss: 0.6479\n",
      "\u001b[32m[0215 13:54:43 @monitor.py:467]\u001b[0m GAN_loss/gen/final-g-loss: 1.1174\n",
      "\u001b[32m[0215 13:54:43 @monitor.py:467]\u001b[0m GAN_loss/gen/klloss: 0.091026\n",
      "\u001b[32m[0215 13:54:43 @monitor.py:467]\u001b[0m GAN_loss/gen/loss: 1.0264\n",
      "\u001b[32m[0215 13:54:43 @monitor.py:467]\u001b[0m QueueInput/queue_size: 50\n",
      "\u001b[32m[0215 13:54:43 @base.py:275]\u001b[0m Start Epoch 937 ...\n"
     ]
    },
    {
     "name": "stderr",
     "output_type": "stream",
     "text": [
      "100%|#################################################################################|2000/2000[00:31<00:00,62.72it/s]"
     ]
    },
    {
     "name": "stdout",
     "output_type": "stream",
     "text": [
      "\u001b[32m[0215 13:55:15 @base.py:285]\u001b[0m Epoch 937 (global_step 1874000) finished, time:31.9 seconds.\n"
     ]
    },
    {
     "name": "stderr",
     "output_type": "stream",
     "text": [
      "\n"
     ]
    },
    {
     "name": "stdout",
     "output_type": "stream",
     "text": [
      "\u001b[32m[0215 13:55:15 @saver.py:79]\u001b[0m Model saved to ./output_TGAN/output/model\\model-1874000.\n",
      "\u001b[32m[0215 13:55:15 @monitor.py:467]\u001b[0m GAN_loss/discrim/accuracy_fake: 0.945\n",
      "\u001b[32m[0215 13:55:15 @monitor.py:467]\u001b[0m GAN_loss/discrim/accuracy_real: 0.11\n",
      "\u001b[32m[0215 13:55:15 @monitor.py:467]\u001b[0m GAN_loss/discrim/loss: 0.64706\n",
      "\u001b[32m[0215 13:55:15 @monitor.py:467]\u001b[0m GAN_loss/gen/final-g-loss: 1.1059\n",
      "\u001b[32m[0215 13:55:15 @monitor.py:467]\u001b[0m GAN_loss/gen/klloss: 0.099246\n",
      "\u001b[32m[0215 13:55:15 @monitor.py:467]\u001b[0m GAN_loss/gen/loss: 1.0066\n",
      "\u001b[32m[0215 13:55:15 @monitor.py:467]\u001b[0m QueueInput/queue_size: 50\n",
      "\u001b[32m[0215 13:55:15 @base.py:275]\u001b[0m Start Epoch 938 ...\n"
     ]
    },
    {
     "name": "stderr",
     "output_type": "stream",
     "text": [
      "100%|#################################################################################|2000/2000[00:32<00:00,62.12it/s]"
     ]
    },
    {
     "name": "stdout",
     "output_type": "stream",
     "text": [
      "\u001b[32m[0215 13:55:47 @base.py:285]\u001b[0m Epoch 938 (global_step 1876000) finished, time:32.2 seconds.\n",
      "\u001b[32m[0215 13:55:47 @saver.py:79]\u001b[0m Model saved to ./output_TGAN/output/model\\model-1876000.\n"
     ]
    },
    {
     "name": "stderr",
     "output_type": "stream",
     "text": [
      "\n"
     ]
    },
    {
     "name": "stdout",
     "output_type": "stream",
     "text": [
      "\u001b[32m[0215 13:55:47 @monitor.py:467]\u001b[0m GAN_loss/discrim/accuracy_fake: 0.94\n",
      "\u001b[32m[0215 13:55:47 @monitor.py:467]\u001b[0m GAN_loss/discrim/accuracy_real: 0.14\n",
      "\u001b[32m[0215 13:55:47 @monitor.py:467]\u001b[0m GAN_loss/discrim/loss: 0.64094\n",
      "\u001b[32m[0215 13:55:47 @monitor.py:467]\u001b[0m GAN_loss/gen/final-g-loss: 1.0936\n",
      "\u001b[32m[0215 13:55:47 @monitor.py:467]\u001b[0m GAN_loss/gen/klloss: 0.08606\n",
      "\u001b[32m[0215 13:55:47 @monitor.py:467]\u001b[0m GAN_loss/gen/loss: 1.0076\n",
      "\u001b[32m[0215 13:55:47 @monitor.py:467]\u001b[0m QueueInput/queue_size: 50\n",
      "\u001b[32m[0215 13:55:47 @base.py:275]\u001b[0m Start Epoch 939 ...\n"
     ]
    },
    {
     "name": "stderr",
     "output_type": "stream",
     "text": [
      "100%|#################################################################################|2000/2000[00:32<00:00,61.51it/s]"
     ]
    },
    {
     "name": "stdout",
     "output_type": "stream",
     "text": [
      "\u001b[32m[0215 13:56:20 @base.py:285]\u001b[0m Epoch 939 (global_step 1878000) finished, time:32.5 seconds.\n",
      "\u001b[32m[0215 13:56:20 @saver.py:79]\u001b[0m Model saved to ./output_TGAN/output/model\\model-1878000.\n"
     ]
    },
    {
     "name": "stderr",
     "output_type": "stream",
     "text": [
      "\n"
     ]
    },
    {
     "name": "stdout",
     "output_type": "stream",
     "text": [
      "\u001b[32m[0215 13:56:20 @monitor.py:467]\u001b[0m GAN_loss/discrim/accuracy_fake: 0.92\n",
      "\u001b[32m[0215 13:56:20 @monitor.py:467]\u001b[0m GAN_loss/discrim/accuracy_real: 0.095\n",
      "\u001b[32m[0215 13:56:20 @monitor.py:467]\u001b[0m GAN_loss/discrim/loss: 0.65919\n",
      "\u001b[32m[0215 13:56:20 @monitor.py:467]\u001b[0m GAN_loss/gen/final-g-loss: 1.1203\n",
      "\u001b[32m[0215 13:56:20 @monitor.py:467]\u001b[0m GAN_loss/gen/klloss: 0.11444\n",
      "\u001b[32m[0215 13:56:20 @monitor.py:467]\u001b[0m GAN_loss/gen/loss: 1.0058\n",
      "\u001b[32m[0215 13:56:20 @monitor.py:467]\u001b[0m QueueInput/queue_size: 50\n",
      "\u001b[32m[0215 13:56:20 @base.py:275]\u001b[0m Start Epoch 940 ...\n"
     ]
    },
    {
     "name": "stderr",
     "output_type": "stream",
     "text": [
      "100%|#################################################################################|2000/2000[00:32<00:00,61.03it/s]"
     ]
    },
    {
     "name": "stdout",
     "output_type": "stream",
     "text": [
      "\u001b[32m[0215 13:56:53 @base.py:285]\u001b[0m Epoch 940 (global_step 1880000) finished, time:32.8 seconds.\n",
      "\u001b[32m[0215 13:56:53 @saver.py:79]\u001b[0m Model saved to ./output_TGAN/output/model\\model-1880000.\n"
     ]
    },
    {
     "name": "stderr",
     "output_type": "stream",
     "text": [
      "\n"
     ]
    },
    {
     "name": "stdout",
     "output_type": "stream",
     "text": [
      "\u001b[32m[0215 13:56:53 @monitor.py:467]\u001b[0m GAN_loss/discrim/accuracy_fake: 0.97\n",
      "\u001b[32m[0215 13:56:53 @monitor.py:467]\u001b[0m GAN_loss/discrim/accuracy_real: 0.18\n",
      "\u001b[32m[0215 13:56:53 @monitor.py:467]\u001b[0m GAN_loss/discrim/loss: 0.64229\n",
      "\u001b[32m[0215 13:56:53 @monitor.py:467]\u001b[0m GAN_loss/gen/final-g-loss: 1.1468\n",
      "\u001b[32m[0215 13:56:53 @monitor.py:467]\u001b[0m GAN_loss/gen/klloss: 0.11794\n",
      "\u001b[32m[0215 13:56:53 @monitor.py:467]\u001b[0m GAN_loss/gen/loss: 1.0288\n",
      "\u001b[32m[0215 13:56:53 @monitor.py:467]\u001b[0m QueueInput/queue_size: 50\n",
      "\u001b[32m[0215 13:56:53 @base.py:275]\u001b[0m Start Epoch 941 ...\n"
     ]
    },
    {
     "name": "stderr",
     "output_type": "stream",
     "text": [
      "100%|#################################################################################|2000/2000[00:31<00:00,62.52it/s]"
     ]
    },
    {
     "name": "stdout",
     "output_type": "stream",
     "text": [
      "\u001b[32m[0215 13:57:25 @base.py:285]\u001b[0m Epoch 941 (global_step 1882000) finished, time:32 seconds.\n",
      "\u001b[32m[0215 13:57:25 @saver.py:79]\u001b[0m Model saved to ./output_TGAN/output/model\\model-1882000.\n"
     ]
    },
    {
     "name": "stderr",
     "output_type": "stream",
     "text": [
      "\n"
     ]
    },
    {
     "name": "stdout",
     "output_type": "stream",
     "text": [
      "\u001b[32m[0215 13:57:25 @monitor.py:467]\u001b[0m GAN_loss/discrim/accuracy_fake: 0.915\n",
      "\u001b[32m[0215 13:57:25 @monitor.py:467]\u001b[0m GAN_loss/discrim/accuracy_real: 0.12\n",
      "\u001b[32m[0215 13:57:25 @monitor.py:467]\u001b[0m GAN_loss/discrim/loss: 0.65216\n",
      "\u001b[32m[0215 13:57:25 @monitor.py:467]\u001b[0m GAN_loss/gen/final-g-loss: 1.0651\n",
      "\u001b[32m[0215 13:57:25 @monitor.py:467]\u001b[0m GAN_loss/gen/klloss: 0.070894\n",
      "\u001b[32m[0215 13:57:25 @monitor.py:467]\u001b[0m GAN_loss/gen/loss: 0.99422\n",
      "\u001b[32m[0215 13:57:25 @monitor.py:467]\u001b[0m QueueInput/queue_size: 50\n",
      "\u001b[32m[0215 13:57:25 @base.py:275]\u001b[0m Start Epoch 942 ...\n"
     ]
    },
    {
     "name": "stderr",
     "output_type": "stream",
     "text": [
      "100%|#################################################################################|2000/2000[00:31<00:00,63.10it/s]"
     ]
    },
    {
     "name": "stdout",
     "output_type": "stream",
     "text": [
      "\u001b[32m[0215 13:57:57 @base.py:285]\u001b[0m Epoch 942 (global_step 1884000) finished, time:31.7 seconds.\n",
      "\u001b[32m[0215 13:57:57 @saver.py:79]\u001b[0m Model saved to ./output_TGAN/output/model\\model-1884000.\n"
     ]
    },
    {
     "name": "stderr",
     "output_type": "stream",
     "text": [
      "\n"
     ]
    },
    {
     "name": "stdout",
     "output_type": "stream",
     "text": [
      "\u001b[32m[0215 13:57:57 @monitor.py:467]\u001b[0m GAN_loss/discrim/accuracy_fake: 0.94\n",
      "\u001b[32m[0215 13:57:57 @monitor.py:467]\u001b[0m GAN_loss/discrim/accuracy_real: 0.125\n",
      "\u001b[32m[0215 13:57:57 @monitor.py:467]\u001b[0m GAN_loss/discrim/loss: 0.64406\n",
      "\u001b[32m[0215 13:57:57 @monitor.py:467]\u001b[0m GAN_loss/gen/final-g-loss: 1.1486\n",
      "\u001b[32m[0215 13:57:57 @monitor.py:467]\u001b[0m GAN_loss/gen/klloss: 0.13237\n",
      "\u001b[32m[0215 13:57:57 @monitor.py:467]\u001b[0m GAN_loss/gen/loss: 1.0162\n",
      "\u001b[32m[0215 13:57:57 @monitor.py:467]\u001b[0m QueueInput/queue_size: 50\n",
      "\u001b[32m[0215 13:57:57 @base.py:275]\u001b[0m Start Epoch 943 ...\n"
     ]
    },
    {
     "name": "stderr",
     "output_type": "stream",
     "text": [
      "100%|#################################################################################|2000/2000[00:31<00:00,62.58it/s]"
     ]
    },
    {
     "name": "stdout",
     "output_type": "stream",
     "text": [
      "\u001b[32m[0215 13:58:29 @base.py:285]\u001b[0m Epoch 943 (global_step 1886000) finished, time:32 seconds.\n",
      "\u001b[32m[0215 13:58:29 @saver.py:79]\u001b[0m Model saved to ./output_TGAN/output/model\\model-1886000.\n"
     ]
    },
    {
     "name": "stderr",
     "output_type": "stream",
     "text": [
      "\n"
     ]
    },
    {
     "name": "stdout",
     "output_type": "stream",
     "text": [
      "\u001b[32m[0215 13:58:29 @monitor.py:467]\u001b[0m GAN_loss/discrim/accuracy_fake: 0.93\n",
      "\u001b[32m[0215 13:58:29 @monitor.py:467]\u001b[0m GAN_loss/discrim/accuracy_real: 0.08\n",
      "\u001b[32m[0215 13:58:29 @monitor.py:467]\u001b[0m GAN_loss/discrim/loss: 0.64896\n",
      "\u001b[32m[0215 13:58:29 @monitor.py:467]\u001b[0m GAN_loss/gen/final-g-loss: 1.1454\n",
      "\u001b[32m[0215 13:58:29 @monitor.py:467]\u001b[0m GAN_loss/gen/klloss: 0.13996\n",
      "\u001b[32m[0215 13:58:29 @monitor.py:467]\u001b[0m GAN_loss/gen/loss: 1.0055\n",
      "\u001b[32m[0215 13:58:29 @monitor.py:467]\u001b[0m QueueInput/queue_size: 50\n",
      "\u001b[32m[0215 13:58:29 @base.py:275]\u001b[0m Start Epoch 944 ...\n"
     ]
    },
    {
     "name": "stderr",
     "output_type": "stream",
     "text": [
      "100%|#################################################################################|2000/2000[00:32<00:00,61.67it/s]"
     ]
    },
    {
     "name": "stdout",
     "output_type": "stream",
     "text": [
      "\u001b[32m[0215 13:59:02 @base.py:285]\u001b[0m Epoch 944 (global_step 1888000) finished, time:32.4 seconds.\n",
      "\u001b[32m[0215 13:59:02 @saver.py:79]\u001b[0m Model saved to ./output_TGAN/output/model\\model-1888000.\n"
     ]
    },
    {
     "name": "stderr",
     "output_type": "stream",
     "text": [
      "\n"
     ]
    },
    {
     "name": "stdout",
     "output_type": "stream",
     "text": [
      "\u001b[32m[0215 13:59:02 @monitor.py:467]\u001b[0m GAN_loss/discrim/accuracy_fake: 0.94\n",
      "\u001b[32m[0215 13:59:02 @monitor.py:467]\u001b[0m GAN_loss/discrim/accuracy_real: 0.15\n",
      "\u001b[32m[0215 13:59:02 @monitor.py:467]\u001b[0m GAN_loss/discrim/loss: 0.64328\n",
      "\u001b[32m[0215 13:59:02 @monitor.py:467]\u001b[0m GAN_loss/gen/final-g-loss: 1.102\n",
      "\u001b[32m[0215 13:59:02 @monitor.py:467]\u001b[0m GAN_loss/gen/klloss: 0.078349\n",
      "\u001b[32m[0215 13:59:02 @monitor.py:467]\u001b[0m GAN_loss/gen/loss: 1.0236\n",
      "\u001b[32m[0215 13:59:02 @monitor.py:467]\u001b[0m QueueInput/queue_size: 50\n",
      "\u001b[32m[0215 13:59:02 @base.py:275]\u001b[0m Start Epoch 945 ...\n"
     ]
    },
    {
     "name": "stderr",
     "output_type": "stream",
     "text": [
      "100%|#################################################################################|2000/2000[00:32<00:00,61.40it/s]"
     ]
    },
    {
     "name": "stdout",
     "output_type": "stream",
     "text": [
      "\u001b[32m[0215 13:59:35 @base.py:285]\u001b[0m Epoch 945 (global_step 1890000) finished, time:32.6 seconds.\n",
      "\u001b[32m[0215 13:59:35 @saver.py:79]\u001b[0m Model saved to ./output_TGAN/output/model\\model-1890000.\n",
      "\u001b[32m[0215 13:59:35 @monitor.py:467]\u001b[0m GAN_loss/discrim/accuracy_fake: 0.9\n"
     ]
    },
    {
     "name": "stderr",
     "output_type": "stream",
     "text": [
      "\n"
     ]
    },
    {
     "name": "stdout",
     "output_type": "stream",
     "text": [
      "\u001b[32m[0215 13:59:35 @monitor.py:467]\u001b[0m GAN_loss/discrim/accuracy_real: 0.135\n",
      "\u001b[32m[0215 13:59:35 @monitor.py:467]\u001b[0m GAN_loss/discrim/loss: 0.65058\n",
      "\u001b[32m[0215 13:59:35 @monitor.py:467]\u001b[0m GAN_loss/gen/final-g-loss: 1.0968\n",
      "\u001b[32m[0215 13:59:35 @monitor.py:467]\u001b[0m GAN_loss/gen/klloss: 0.10042\n",
      "\u001b[32m[0215 13:59:35 @monitor.py:467]\u001b[0m GAN_loss/gen/loss: 0.99634\n",
      "\u001b[32m[0215 13:59:35 @monitor.py:467]\u001b[0m QueueInput/queue_size: 50\n",
      "\u001b[32m[0215 13:59:35 @base.py:275]\u001b[0m Start Epoch 946 ...\n"
     ]
    },
    {
     "name": "stderr",
     "output_type": "stream",
     "text": [
      "100%|#################################################################################|2000/2000[00:32<00:00,60.70it/s]"
     ]
    },
    {
     "name": "stdout",
     "output_type": "stream",
     "text": [
      "\u001b[32m[0215 14:00:08 @base.py:285]\u001b[0m Epoch 946 (global_step 1892000) finished, time:33 seconds.\n",
      "\u001b[32m[0215 14:00:08 @saver.py:79]\u001b[0m Model saved to ./output_TGAN/output/model\\model-1892000.\n"
     ]
    },
    {
     "name": "stderr",
     "output_type": "stream",
     "text": [
      "\n"
     ]
    },
    {
     "name": "stdout",
     "output_type": "stream",
     "text": [
      "\u001b[32m[0215 14:00:08 @monitor.py:467]\u001b[0m GAN_loss/discrim/accuracy_fake: 0.945\n",
      "\u001b[32m[0215 14:00:08 @monitor.py:467]\u001b[0m GAN_loss/discrim/accuracy_real: 0.085\n",
      "\u001b[32m[0215 14:00:08 @monitor.py:467]\u001b[0m GAN_loss/discrim/loss: 0.6456\n",
      "\u001b[32m[0215 14:00:08 @monitor.py:467]\u001b[0m GAN_loss/gen/final-g-loss: 1.0843\n",
      "\u001b[32m[0215 14:00:08 @monitor.py:467]\u001b[0m GAN_loss/gen/klloss: 0.070407\n",
      "\u001b[32m[0215 14:00:08 @monitor.py:467]\u001b[0m GAN_loss/gen/loss: 1.0139\n",
      "\u001b[32m[0215 14:00:08 @monitor.py:467]\u001b[0m QueueInput/queue_size: 50\n",
      "\u001b[32m[0215 14:00:08 @base.py:275]\u001b[0m Start Epoch 947 ...\n"
     ]
    },
    {
     "name": "stderr",
     "output_type": "stream",
     "text": [
      "100%|#################################################################################|2000/2000[00:33<00:00,60.10it/s]"
     ]
    },
    {
     "name": "stdout",
     "output_type": "stream",
     "text": [
      "\u001b[32m[0215 14:00:41 @base.py:285]\u001b[0m Epoch 947 (global_step 1894000) finished, time:33.3 seconds.\n",
      "\u001b[32m[0215 14:00:41 @saver.py:79]\u001b[0m Model saved to ./output_TGAN/output/model\\model-1894000.\n",
      "\u001b[32m[0215 14:00:41 @monitor.py:467]\u001b[0m GAN_loss/discrim/accuracy_fake: 0.935\n"
     ]
    },
    {
     "name": "stderr",
     "output_type": "stream",
     "text": [
      "\n"
     ]
    },
    {
     "name": "stdout",
     "output_type": "stream",
     "text": [
      "\u001b[32m[0215 14:00:41 @monitor.py:467]\u001b[0m GAN_loss/discrim/accuracy_real: 0.125\n",
      "\u001b[32m[0215 14:00:41 @monitor.py:467]\u001b[0m GAN_loss/discrim/loss: 0.64869\n",
      "\u001b[32m[0215 14:00:41 @monitor.py:467]\u001b[0m GAN_loss/gen/final-g-loss: 1.0613\n",
      "\u001b[32m[0215 14:00:41 @monitor.py:467]\u001b[0m GAN_loss/gen/klloss: 0.056835\n",
      "\u001b[32m[0215 14:00:41 @monitor.py:467]\u001b[0m GAN_loss/gen/loss: 1.0045\n",
      "\u001b[32m[0215 14:00:41 @monitor.py:467]\u001b[0m QueueInput/queue_size: 50\n",
      "\u001b[32m[0215 14:00:41 @base.py:275]\u001b[0m Start Epoch 948 ...\n"
     ]
    },
    {
     "name": "stderr",
     "output_type": "stream",
     "text": [
      "100%|#################################################################################|2000/2000[00:31<00:00,62.55it/s]"
     ]
    },
    {
     "name": "stdout",
     "output_type": "stream",
     "text": [
      "\u001b[32m[0215 14:01:13 @base.py:285]\u001b[0m Epoch 948 (global_step 1896000) finished, time:32 seconds.\n",
      "\u001b[32m[0215 14:01:13 @saver.py:79]\u001b[0m Model saved to ./output_TGAN/output/model\\model-1896000.\n",
      "\u001b[32m[0215 14:01:14 @monitor.py:467]\u001b[0m GAN_loss/discrim/accuracy_fake: 0.945\n"
     ]
    },
    {
     "name": "stderr",
     "output_type": "stream",
     "text": [
      "\n"
     ]
    },
    {
     "name": "stdout",
     "output_type": "stream",
     "text": [
      "\u001b[32m[0215 14:01:14 @monitor.py:467]\u001b[0m GAN_loss/discrim/accuracy_real: 0.135\n",
      "\u001b[32m[0215 14:01:14 @monitor.py:467]\u001b[0m GAN_loss/discrim/loss: 0.63635\n",
      "\u001b[32m[0215 14:01:14 @monitor.py:467]\u001b[0m GAN_loss/gen/final-g-loss: 1.0885\n",
      "\u001b[32m[0215 14:01:14 @monitor.py:467]\u001b[0m GAN_loss/gen/klloss: 0.087711\n",
      "\u001b[32m[0215 14:01:14 @monitor.py:467]\u001b[0m GAN_loss/gen/loss: 1.0008\n",
      "\u001b[32m[0215 14:01:14 @monitor.py:467]\u001b[0m QueueInput/queue_size: 50\n",
      "\u001b[32m[0215 14:01:14 @base.py:275]\u001b[0m Start Epoch 949 ...\n"
     ]
    },
    {
     "name": "stderr",
     "output_type": "stream",
     "text": [
      "100%|#################################################################################|2000/2000[00:32<00:00,61.12it/s]"
     ]
    },
    {
     "name": "stdout",
     "output_type": "stream",
     "text": [
      "\u001b[32m[0215 14:01:46 @base.py:285]\u001b[0m Epoch 949 (global_step 1898000) finished, time:32.7 seconds.\n",
      "\u001b[32m[0215 14:01:46 @saver.py:79]\u001b[0m Model saved to ./output_TGAN/output/model\\model-1898000.\n",
      "\u001b[32m[0215 14:01:46 @monitor.py:467]\u001b[0m GAN_loss/discrim/accuracy_fake: 0.95\n"
     ]
    },
    {
     "name": "stderr",
     "output_type": "stream",
     "text": [
      "\n"
     ]
    },
    {
     "name": "stdout",
     "output_type": "stream",
     "text": [
      "\u001b[32m[0215 14:01:46 @monitor.py:467]\u001b[0m GAN_loss/discrim/accuracy_real: 0.15\n",
      "\u001b[32m[0215 14:01:46 @monitor.py:467]\u001b[0m GAN_loss/discrim/loss: 0.64388\n",
      "\u001b[32m[0215 14:01:46 @monitor.py:467]\u001b[0m GAN_loss/gen/final-g-loss: 1.1125\n",
      "\u001b[32m[0215 14:01:46 @monitor.py:467]\u001b[0m GAN_loss/gen/klloss: 0.10681\n",
      "\u001b[32m[0215 14:01:46 @monitor.py:467]\u001b[0m GAN_loss/gen/loss: 1.0057\n",
      "\u001b[32m[0215 14:01:46 @monitor.py:467]\u001b[0m QueueInput/queue_size: 50\n",
      "\u001b[32m[0215 14:01:46 @base.py:275]\u001b[0m Start Epoch 950 ...\n"
     ]
    },
    {
     "name": "stderr",
     "output_type": "stream",
     "text": [
      "100%|#################################################################################|2000/2000[00:32<00:00,61.69it/s]"
     ]
    },
    {
     "name": "stdout",
     "output_type": "stream",
     "text": [
      "\u001b[32m[0215 14:02:19 @base.py:285]\u001b[0m Epoch 950 (global_step 1900000) finished, time:32.4 seconds.\n"
     ]
    },
    {
     "name": "stderr",
     "output_type": "stream",
     "text": [
      "\n"
     ]
    },
    {
     "name": "stdout",
     "output_type": "stream",
     "text": [
      "\u001b[32m[0215 14:02:19 @saver.py:79]\u001b[0m Model saved to ./output_TGAN/output/model\\model-1900000.\n",
      "\u001b[32m[0215 14:02:19 @monitor.py:467]\u001b[0m GAN_loss/discrim/accuracy_fake: 0.92\n",
      "\u001b[32m[0215 14:02:19 @monitor.py:467]\u001b[0m GAN_loss/discrim/accuracy_real: 0.11\n",
      "\u001b[32m[0215 14:02:19 @monitor.py:467]\u001b[0m GAN_loss/discrim/loss: 0.6452\n",
      "\u001b[32m[0215 14:02:19 @monitor.py:467]\u001b[0m GAN_loss/gen/final-g-loss: 1.106\n",
      "\u001b[32m[0215 14:02:19 @monitor.py:467]\u001b[0m GAN_loss/gen/klloss: 0.094213\n",
      "\u001b[32m[0215 14:02:19 @monitor.py:467]\u001b[0m GAN_loss/gen/loss: 1.0118\n",
      "\u001b[32m[0215 14:02:19 @monitor.py:467]\u001b[0m QueueInput/queue_size: 50\n",
      "\u001b[32m[0215 14:02:19 @base.py:275]\u001b[0m Start Epoch 951 ...\n"
     ]
    },
    {
     "name": "stderr",
     "output_type": "stream",
     "text": [
      "100%|#################################################################################|2000/2000[00:31<00:00,63.46it/s]"
     ]
    },
    {
     "name": "stdout",
     "output_type": "stream",
     "text": [
      "\u001b[32m[0215 14:02:51 @base.py:285]\u001b[0m Epoch 951 (global_step 1902000) finished, time:31.5 seconds.\n",
      "\u001b[32m[0215 14:02:51 @saver.py:79]\u001b[0m Model saved to ./output_TGAN/output/model\\model-1902000.\n",
      "\u001b[32m[0215 14:02:51 @monitor.py:467]\u001b[0m GAN_loss/discrim/accuracy_fake: 0.925\n"
     ]
    },
    {
     "name": "stderr",
     "output_type": "stream",
     "text": [
      "\n"
     ]
    },
    {
     "name": "stdout",
     "output_type": "stream",
     "text": [
      "\u001b[32m[0215 14:02:51 @monitor.py:467]\u001b[0m GAN_loss/discrim/accuracy_real: 0.125\n",
      "\u001b[32m[0215 14:02:51 @monitor.py:467]\u001b[0m GAN_loss/discrim/loss: 0.6446\n",
      "\u001b[32m[0215 14:02:51 @monitor.py:467]\u001b[0m GAN_loss/gen/final-g-loss: 1.1149\n",
      "\u001b[32m[0215 14:02:51 @monitor.py:467]\u001b[0m GAN_loss/gen/klloss: 0.11568\n",
      "\u001b[32m[0215 14:02:51 @monitor.py:467]\u001b[0m GAN_loss/gen/loss: 0.99922\n",
      "\u001b[32m[0215 14:02:51 @monitor.py:467]\u001b[0m QueueInput/queue_size: 50\n",
      "\u001b[32m[0215 14:02:51 @base.py:275]\u001b[0m Start Epoch 952 ...\n"
     ]
    },
    {
     "name": "stderr",
     "output_type": "stream",
     "text": [
      "100%|#################################################################################|2000/2000[00:31<00:00,64.09it/s]"
     ]
    },
    {
     "name": "stdout",
     "output_type": "stream",
     "text": [
      "\u001b[32m[0215 14:03:22 @base.py:285]\u001b[0m Epoch 952 (global_step 1904000) finished, time:31.2 seconds.\n",
      "\u001b[32m[0215 14:03:22 @saver.py:79]\u001b[0m Model saved to ./output_TGAN/output/model\\model-1904000.\n"
     ]
    },
    {
     "name": "stderr",
     "output_type": "stream",
     "text": [
      "\n"
     ]
    },
    {
     "name": "stdout",
     "output_type": "stream",
     "text": [
      "\u001b[32m[0215 14:03:22 @monitor.py:467]\u001b[0m GAN_loss/discrim/accuracy_fake: 0.905\n",
      "\u001b[32m[0215 14:03:22 @monitor.py:467]\u001b[0m GAN_loss/discrim/accuracy_real: 0.14\n",
      "\u001b[32m[0215 14:03:22 @monitor.py:467]\u001b[0m GAN_loss/discrim/loss: 0.64621\n",
      "\u001b[32m[0215 14:03:22 @monitor.py:467]\u001b[0m GAN_loss/gen/final-g-loss: 1.0999\n",
      "\u001b[32m[0215 14:03:22 @monitor.py:467]\u001b[0m GAN_loss/gen/klloss: 0.094232\n",
      "\u001b[32m[0215 14:03:22 @monitor.py:467]\u001b[0m GAN_loss/gen/loss: 1.0056\n",
      "\u001b[32m[0215 14:03:22 @monitor.py:467]\u001b[0m QueueInput/queue_size: 50\n",
      "\u001b[32m[0215 14:03:22 @base.py:275]\u001b[0m Start Epoch 953 ...\n"
     ]
    },
    {
     "name": "stderr",
     "output_type": "stream",
     "text": [
      "100%|#################################################################################|2000/2000[00:31<00:00,64.09it/s]"
     ]
    },
    {
     "name": "stdout",
     "output_type": "stream",
     "text": [
      "\u001b[32m[0215 14:03:53 @base.py:285]\u001b[0m Epoch 953 (global_step 1906000) finished, time:31.2 seconds.\n",
      "\u001b[32m[0215 14:03:53 @saver.py:79]\u001b[0m Model saved to ./output_TGAN/output/model\\model-1906000.\n"
     ]
    },
    {
     "name": "stderr",
     "output_type": "stream",
     "text": [
      "\n"
     ]
    },
    {
     "name": "stdout",
     "output_type": "stream",
     "text": [
      "\u001b[32m[0215 14:03:54 @monitor.py:467]\u001b[0m GAN_loss/discrim/accuracy_fake: 0.945\n",
      "\u001b[32m[0215 14:03:54 @monitor.py:467]\u001b[0m GAN_loss/discrim/accuracy_real: 0.13\n",
      "\u001b[32m[0215 14:03:54 @monitor.py:467]\u001b[0m GAN_loss/discrim/loss: 0.64448\n",
      "\u001b[32m[0215 14:03:54 @monitor.py:467]\u001b[0m GAN_loss/gen/final-g-loss: 1.1158\n",
      "\u001b[32m[0215 14:03:54 @monitor.py:467]\u001b[0m GAN_loss/gen/klloss: 0.095017\n",
      "\u001b[32m[0215 14:03:54 @monitor.py:467]\u001b[0m GAN_loss/gen/loss: 1.0208\n",
      "\u001b[32m[0215 14:03:54 @monitor.py:467]\u001b[0m QueueInput/queue_size: 50\n",
      "\u001b[32m[0215 14:03:54 @base.py:275]\u001b[0m Start Epoch 954 ...\n"
     ]
    },
    {
     "name": "stderr",
     "output_type": "stream",
     "text": [
      "100%|#################################################################################|2000/2000[00:31<00:00,64.18it/s]"
     ]
    },
    {
     "name": "stdout",
     "output_type": "stream",
     "text": [
      "\u001b[32m[0215 14:04:25 @base.py:285]\u001b[0m Epoch 954 (global_step 1908000) finished, time:31.2 seconds.\n",
      "\u001b[32m[0215 14:04:25 @saver.py:79]\u001b[0m Model saved to ./output_TGAN/output/model\\model-1908000.\n"
     ]
    },
    {
     "name": "stderr",
     "output_type": "stream",
     "text": [
      "\n"
     ]
    },
    {
     "name": "stdout",
     "output_type": "stream",
     "text": [
      "\u001b[32m[0215 14:04:25 @monitor.py:467]\u001b[0m GAN_loss/discrim/accuracy_fake: 0.945\n",
      "\u001b[32m[0215 14:04:25 @monitor.py:467]\u001b[0m GAN_loss/discrim/accuracy_real: 0.085\n",
      "\u001b[32m[0215 14:04:25 @monitor.py:467]\u001b[0m GAN_loss/discrim/loss: 0.64491\n",
      "\u001b[32m[0215 14:04:25 @monitor.py:467]\u001b[0m GAN_loss/gen/final-g-loss: 1.0755\n",
      "\u001b[32m[0215 14:04:25 @monitor.py:467]\u001b[0m GAN_loss/gen/klloss: 0.070375\n",
      "\u001b[32m[0215 14:04:25 @monitor.py:467]\u001b[0m GAN_loss/gen/loss: 1.0051\n",
      "\u001b[32m[0215 14:04:25 @monitor.py:467]\u001b[0m QueueInput/queue_size: 50\n",
      "\u001b[32m[0215 14:04:25 @base.py:275]\u001b[0m Start Epoch 955 ...\n"
     ]
    },
    {
     "name": "stderr",
     "output_type": "stream",
     "text": [
      "100%|#################################################################################|2000/2000[00:31<00:00,63.74it/s]"
     ]
    },
    {
     "name": "stdout",
     "output_type": "stream",
     "text": [
      "\u001b[32m[0215 14:04:56 @base.py:285]\u001b[0m Epoch 955 (global_step 1910000) finished, time:31.4 seconds.\n",
      "\u001b[32m[0215 14:04:56 @saver.py:79]\u001b[0m Model saved to ./output_TGAN/output/model\\model-1910000.\n"
     ]
    },
    {
     "name": "stderr",
     "output_type": "stream",
     "text": [
      "\n"
     ]
    },
    {
     "name": "stdout",
     "output_type": "stream",
     "text": [
      "\u001b[32m[0215 14:04:57 @monitor.py:467]\u001b[0m GAN_loss/discrim/accuracy_fake: 0.955\n",
      "\u001b[32m[0215 14:04:57 @monitor.py:467]\u001b[0m GAN_loss/discrim/accuracy_real: 0.155\n",
      "\u001b[32m[0215 14:04:57 @monitor.py:467]\u001b[0m GAN_loss/discrim/loss: 0.63788\n",
      "\u001b[32m[0215 14:04:57 @monitor.py:467]\u001b[0m GAN_loss/gen/final-g-loss: 1.1249\n",
      "\u001b[32m[0215 14:04:57 @monitor.py:467]\u001b[0m GAN_loss/gen/klloss: 0.10049\n",
      "\u001b[32m[0215 14:04:57 @monitor.py:467]\u001b[0m GAN_loss/gen/loss: 1.0244\n",
      "\u001b[32m[0215 14:04:57 @monitor.py:467]\u001b[0m QueueInput/queue_size: 50\n",
      "\u001b[32m[0215 14:04:57 @base.py:275]\u001b[0m Start Epoch 956 ...\n"
     ]
    },
    {
     "name": "stderr",
     "output_type": "stream",
     "text": [
      "100%|#################################################################################|2000/2000[00:31<00:00,64.10it/s]"
     ]
    },
    {
     "name": "stdout",
     "output_type": "stream",
     "text": [
      "\u001b[32m[0215 14:05:28 @base.py:285]\u001b[0m Epoch 956 (global_step 1912000) finished, time:31.2 seconds.\n",
      "\u001b[32m[0215 14:05:28 @saver.py:79]\u001b[0m Model saved to ./output_TGAN/output/model\\model-1912000.\n"
     ]
    },
    {
     "name": "stderr",
     "output_type": "stream",
     "text": [
      "\n"
     ]
    },
    {
     "name": "stdout",
     "output_type": "stream",
     "text": [
      "\u001b[32m[0215 14:05:28 @monitor.py:467]\u001b[0m GAN_loss/discrim/accuracy_fake: 0.935\n",
      "\u001b[32m[0215 14:05:28 @monitor.py:467]\u001b[0m GAN_loss/discrim/accuracy_real: 0.13\n",
      "\u001b[32m[0215 14:05:28 @monitor.py:467]\u001b[0m GAN_loss/discrim/loss: 0.63402\n",
      "\u001b[32m[0215 14:05:28 @monitor.py:467]\u001b[0m GAN_loss/gen/final-g-loss: 1.1067\n",
      "\u001b[32m[0215 14:05:28 @monitor.py:467]\u001b[0m GAN_loss/gen/klloss: 0.082624\n",
      "\u001b[32m[0215 14:05:28 @monitor.py:467]\u001b[0m GAN_loss/gen/loss: 1.0241\n",
      "\u001b[32m[0215 14:05:28 @monitor.py:467]\u001b[0m QueueInput/queue_size: 50\n",
      "\u001b[32m[0215 14:05:28 @base.py:275]\u001b[0m Start Epoch 957 ...\n"
     ]
    },
    {
     "name": "stderr",
     "output_type": "stream",
     "text": [
      "100%|#################################################################################|2000/2000[00:32<00:00,61.87it/s]"
     ]
    },
    {
     "name": "stdout",
     "output_type": "stream",
     "text": [
      "\u001b[32m[0215 14:06:00 @base.py:285]\u001b[0m Epoch 957 (global_step 1914000) finished, time:32.3 seconds.\n",
      "\u001b[32m[0215 14:06:00 @saver.py:79]\u001b[0m Model saved to ./output_TGAN/output/model\\model-1914000.\n"
     ]
    },
    {
     "name": "stderr",
     "output_type": "stream",
     "text": [
      "\n"
     ]
    },
    {
     "name": "stdout",
     "output_type": "stream",
     "text": [
      "\u001b[32m[0215 14:06:00 @monitor.py:467]\u001b[0m GAN_loss/discrim/accuracy_fake: 0.945\n",
      "\u001b[32m[0215 14:06:00 @monitor.py:467]\u001b[0m GAN_loss/discrim/accuracy_real: 0.11\n",
      "\u001b[32m[0215 14:06:00 @monitor.py:467]\u001b[0m GAN_loss/discrim/loss: 0.6395\n",
      "\u001b[32m[0215 14:06:00 @monitor.py:467]\u001b[0m GAN_loss/gen/final-g-loss: 1.1212\n",
      "\u001b[32m[0215 14:06:00 @monitor.py:467]\u001b[0m GAN_loss/gen/klloss: 0.10222\n",
      "\u001b[32m[0215 14:06:00 @monitor.py:467]\u001b[0m GAN_loss/gen/loss: 1.019\n",
      "\u001b[32m[0215 14:06:00 @monitor.py:467]\u001b[0m QueueInput/queue_size: 50\n",
      "\u001b[32m[0215 14:06:00 @base.py:275]\u001b[0m Start Epoch 958 ...\n"
     ]
    },
    {
     "name": "stderr",
     "output_type": "stream",
     "text": [
      "100%|#################################################################################|2000/2000[00:32<00:00,62.50it/s]"
     ]
    },
    {
     "name": "stdout",
     "output_type": "stream",
     "text": [
      "\u001b[32m[0215 14:06:32 @base.py:285]\u001b[0m Epoch 958 (global_step 1916000) finished, time:32 seconds.\n"
     ]
    },
    {
     "name": "stderr",
     "output_type": "stream",
     "text": [
      "\n"
     ]
    },
    {
     "name": "stdout",
     "output_type": "stream",
     "text": [
      "\u001b[32m[0215 14:06:33 @saver.py:79]\u001b[0m Model saved to ./output_TGAN/output/model\\model-1916000.\n",
      "\u001b[32m[0215 14:06:33 @monitor.py:467]\u001b[0m GAN_loss/discrim/accuracy_fake: 0.96\n",
      "\u001b[32m[0215 14:06:33 @monitor.py:467]\u001b[0m GAN_loss/discrim/accuracy_real: 0.11\n",
      "\u001b[32m[0215 14:06:33 @monitor.py:467]\u001b[0m GAN_loss/discrim/loss: 0.6488\n",
      "\u001b[32m[0215 14:06:33 @monitor.py:467]\u001b[0m GAN_loss/gen/final-g-loss: 1.14\n",
      "\u001b[32m[0215 14:06:33 @monitor.py:467]\u001b[0m GAN_loss/gen/klloss: 0.13564\n",
      "\u001b[32m[0215 14:06:33 @monitor.py:467]\u001b[0m GAN_loss/gen/loss: 1.0044\n",
      "\u001b[32m[0215 14:06:33 @monitor.py:467]\u001b[0m QueueInput/queue_size: 50\n",
      "\u001b[32m[0215 14:06:33 @base.py:275]\u001b[0m Start Epoch 959 ...\n"
     ]
    },
    {
     "name": "stderr",
     "output_type": "stream",
     "text": [
      "100%|#################################################################################|2000/2000[00:31<00:00,63.34it/s]"
     ]
    },
    {
     "name": "stdout",
     "output_type": "stream",
     "text": [
      "\u001b[32m[0215 14:07:04 @base.py:285]\u001b[0m Epoch 959 (global_step 1918000) finished, time:31.6 seconds.\n",
      "\u001b[32m[0215 14:07:04 @saver.py:79]\u001b[0m Model saved to ./output_TGAN/output/model\\model-1918000.\n",
      "\u001b[32m[0215 14:07:04 @monitor.py:467]\u001b[0m GAN_loss/discrim/accuracy_fake: 0.95\n"
     ]
    },
    {
     "name": "stderr",
     "output_type": "stream",
     "text": [
      "\n"
     ]
    },
    {
     "name": "stdout",
     "output_type": "stream",
     "text": [
      "\u001b[32m[0215 14:07:04 @monitor.py:467]\u001b[0m GAN_loss/discrim/accuracy_real: 0.075\n",
      "\u001b[32m[0215 14:07:04 @monitor.py:467]\u001b[0m GAN_loss/discrim/loss: 0.64209\n",
      "\u001b[32m[0215 14:07:04 @monitor.py:467]\u001b[0m GAN_loss/gen/final-g-loss: 1.1302\n",
      "\u001b[32m[0215 14:07:04 @monitor.py:467]\u001b[0m GAN_loss/gen/klloss: 0.1215\n",
      "\u001b[32m[0215 14:07:04 @monitor.py:467]\u001b[0m GAN_loss/gen/loss: 1.0087\n",
      "\u001b[32m[0215 14:07:04 @monitor.py:467]\u001b[0m QueueInput/queue_size: 50\n",
      "\u001b[32m[0215 14:07:04 @base.py:275]\u001b[0m Start Epoch 960 ...\n"
     ]
    },
    {
     "name": "stderr",
     "output_type": "stream",
     "text": [
      "100%|#################################################################################|2000/2000[00:31<00:00,63.37it/s]"
     ]
    },
    {
     "name": "stdout",
     "output_type": "stream",
     "text": [
      "\u001b[32m[0215 14:07:36 @base.py:285]\u001b[0m Epoch 960 (global_step 1920000) finished, time:31.6 seconds.\n",
      "\u001b[32m[0215 14:07:36 @saver.py:79]\u001b[0m Model saved to ./output_TGAN/output/model\\model-1920000.\n",
      "\u001b[32m[0215 14:07:36 @monitor.py:467]\u001b[0m GAN_loss/discrim/accuracy_fake: 0.915\n"
     ]
    },
    {
     "name": "stderr",
     "output_type": "stream",
     "text": [
      "\n"
     ]
    },
    {
     "name": "stdout",
     "output_type": "stream",
     "text": [
      "\u001b[32m[0215 14:07:36 @monitor.py:467]\u001b[0m GAN_loss/discrim/accuracy_real: 0.1\n",
      "\u001b[32m[0215 14:07:36 @monitor.py:467]\u001b[0m GAN_loss/discrim/loss: 0.65149\n",
      "\u001b[32m[0215 14:07:36 @monitor.py:467]\u001b[0m GAN_loss/gen/final-g-loss: 1.1364\n",
      "\u001b[32m[0215 14:07:36 @monitor.py:467]\u001b[0m GAN_loss/gen/klloss: 0.1258\n",
      "\u001b[32m[0215 14:07:36 @monitor.py:467]\u001b[0m GAN_loss/gen/loss: 1.0106\n",
      "\u001b[32m[0215 14:07:36 @monitor.py:467]\u001b[0m QueueInput/queue_size: 50\n",
      "\u001b[32m[0215 14:07:36 @base.py:275]\u001b[0m Start Epoch 961 ...\n"
     ]
    },
    {
     "name": "stderr",
     "output_type": "stream",
     "text": [
      "100%|#################################################################################|2000/2000[00:31<00:00,63.93it/s]"
     ]
    },
    {
     "name": "stdout",
     "output_type": "stream",
     "text": [
      "\u001b[32m[0215 14:08:07 @base.py:285]\u001b[0m Epoch 961 (global_step 1922000) finished, time:31.3 seconds.\n",
      "\u001b[32m[0215 14:08:08 @saver.py:79]\u001b[0m Model saved to ./output_TGAN/output/model\\model-1922000.\n"
     ]
    },
    {
     "name": "stderr",
     "output_type": "stream",
     "text": [
      "\n"
     ]
    },
    {
     "name": "stdout",
     "output_type": "stream",
     "text": [
      "\u001b[32m[0215 14:08:08 @monitor.py:467]\u001b[0m GAN_loss/discrim/accuracy_fake: 0.93\n",
      "\u001b[32m[0215 14:08:08 @monitor.py:467]\u001b[0m GAN_loss/discrim/accuracy_real: 0.125\n",
      "\u001b[32m[0215 14:08:08 @monitor.py:467]\u001b[0m GAN_loss/discrim/loss: 0.64147\n",
      "\u001b[32m[0215 14:08:08 @monitor.py:467]\u001b[0m GAN_loss/gen/final-g-loss: 1.0883\n",
      "\u001b[32m[0215 14:08:08 @monitor.py:467]\u001b[0m GAN_loss/gen/klloss: 0.092845\n",
      "\u001b[32m[0215 14:08:08 @monitor.py:467]\u001b[0m GAN_loss/gen/loss: 0.99543\n",
      "\u001b[32m[0215 14:08:08 @monitor.py:467]\u001b[0m QueueInput/queue_size: 50\n",
      "\u001b[32m[0215 14:08:08 @base.py:275]\u001b[0m Start Epoch 962 ...\n"
     ]
    },
    {
     "name": "stderr",
     "output_type": "stream",
     "text": [
      "100%|#################################################################################|2000/2000[00:31<00:00,64.04it/s]"
     ]
    },
    {
     "name": "stdout",
     "output_type": "stream",
     "text": [
      "\u001b[32m[0215 14:08:39 @base.py:285]\u001b[0m Epoch 962 (global_step 1924000) finished, time:31.2 seconds.\n",
      "\u001b[32m[0215 14:08:39 @saver.py:79]\u001b[0m Model saved to ./output_TGAN/output/model\\model-1924000.\n"
     ]
    },
    {
     "name": "stderr",
     "output_type": "stream",
     "text": [
      "\n"
     ]
    },
    {
     "name": "stdout",
     "output_type": "stream",
     "text": [
      "\u001b[32m[0215 14:08:39 @monitor.py:467]\u001b[0m GAN_loss/discrim/accuracy_fake: 0.915\n",
      "\u001b[32m[0215 14:08:39 @monitor.py:467]\u001b[0m GAN_loss/discrim/accuracy_real: 0.1\n",
      "\u001b[32m[0215 14:08:39 @monitor.py:467]\u001b[0m GAN_loss/discrim/loss: 0.6506\n",
      "\u001b[32m[0215 14:08:39 @monitor.py:467]\u001b[0m GAN_loss/gen/final-g-loss: 1.092\n",
      "\u001b[32m[0215 14:08:39 @monitor.py:467]\u001b[0m GAN_loss/gen/klloss: 0.087947\n",
      "\u001b[32m[0215 14:08:39 @monitor.py:467]\u001b[0m GAN_loss/gen/loss: 1.0041\n",
      "\u001b[32m[0215 14:08:39 @monitor.py:467]\u001b[0m QueueInput/queue_size: 50\n",
      "\u001b[32m[0215 14:08:39 @base.py:275]\u001b[0m Start Epoch 963 ...\n"
     ]
    },
    {
     "name": "stderr",
     "output_type": "stream",
     "text": [
      "100%|#################################################################################|2000/2000[00:31<00:00,64.05it/s]"
     ]
    },
    {
     "name": "stdout",
     "output_type": "stream",
     "text": [
      "\u001b[32m[0215 14:09:10 @base.py:285]\u001b[0m Epoch 963 (global_step 1926000) finished, time:31.2 seconds.\n",
      "\u001b[32m[0215 14:09:10 @saver.py:79]\u001b[0m Model saved to ./output_TGAN/output/model\\model-1926000.\n"
     ]
    },
    {
     "name": "stderr",
     "output_type": "stream",
     "text": [
      "\n"
     ]
    },
    {
     "name": "stdout",
     "output_type": "stream",
     "text": [
      "\u001b[32m[0215 14:09:11 @monitor.py:467]\u001b[0m GAN_loss/discrim/accuracy_fake: 0.905\n",
      "\u001b[32m[0215 14:09:11 @monitor.py:467]\u001b[0m GAN_loss/discrim/accuracy_real: 0.135\n",
      "\u001b[32m[0215 14:09:11 @monitor.py:467]\u001b[0m GAN_loss/discrim/loss: 0.64425\n",
      "\u001b[32m[0215 14:09:11 @monitor.py:467]\u001b[0m GAN_loss/gen/final-g-loss: 1.1697\n",
      "\u001b[32m[0215 14:09:11 @monitor.py:467]\u001b[0m GAN_loss/gen/klloss: 0.16533\n",
      "\u001b[32m[0215 14:09:11 @monitor.py:467]\u001b[0m GAN_loss/gen/loss: 1.0044\n",
      "\u001b[32m[0215 14:09:11 @monitor.py:467]\u001b[0m QueueInput/queue_size: 50\n",
      "\u001b[32m[0215 14:09:11 @base.py:275]\u001b[0m Start Epoch 964 ...\n"
     ]
    },
    {
     "name": "stderr",
     "output_type": "stream",
     "text": [
      "100%|#################################################################################|2000/2000[00:32<00:00,61.47it/s]"
     ]
    },
    {
     "name": "stdout",
     "output_type": "stream",
     "text": [
      "\u001b[32m[0215 14:09:43 @base.py:285]\u001b[0m Epoch 964 (global_step 1928000) finished, time:32.5 seconds.\n",
      "\u001b[32m[0215 14:09:43 @saver.py:79]\u001b[0m Model saved to ./output_TGAN/output/model\\model-1928000.\n",
      "\u001b[32m[0215 14:09:43 @monitor.py:467]\u001b[0m GAN_loss/discrim/accuracy_fake: 0.935\n"
     ]
    },
    {
     "name": "stderr",
     "output_type": "stream",
     "text": [
      "\n"
     ]
    },
    {
     "name": "stdout",
     "output_type": "stream",
     "text": [
      "\u001b[32m[0215 14:09:43 @monitor.py:467]\u001b[0m GAN_loss/discrim/accuracy_real: 0.125\n",
      "\u001b[32m[0215 14:09:43 @monitor.py:467]\u001b[0m GAN_loss/discrim/loss: 0.64113\n",
      "\u001b[32m[0215 14:09:43 @monitor.py:467]\u001b[0m GAN_loss/gen/final-g-loss: 1.1327\n",
      "\u001b[32m[0215 14:09:43 @monitor.py:467]\u001b[0m GAN_loss/gen/klloss: 0.12286\n",
      "\u001b[32m[0215 14:09:43 @monitor.py:467]\u001b[0m GAN_loss/gen/loss: 1.0099\n",
      "\u001b[32m[0215 14:09:43 @monitor.py:467]\u001b[0m QueueInput/queue_size: 50\n",
      "\u001b[32m[0215 14:09:43 @base.py:275]\u001b[0m Start Epoch 965 ...\n"
     ]
    },
    {
     "name": "stderr",
     "output_type": "stream",
     "text": [
      "100%|#################################################################################|2000/2000[00:31<00:00,64.01it/s]"
     ]
    },
    {
     "name": "stdout",
     "output_type": "stream",
     "text": [
      "\u001b[32m[0215 14:10:15 @base.py:285]\u001b[0m Epoch 965 (global_step 1930000) finished, time:31.2 seconds.\n",
      "\u001b[32m[0215 14:10:15 @saver.py:79]\u001b[0m Model saved to ./output_TGAN/output/model\\model-1930000.\n"
     ]
    },
    {
     "name": "stderr",
     "output_type": "stream",
     "text": [
      "\n"
     ]
    },
    {
     "name": "stdout",
     "output_type": "stream",
     "text": [
      "\u001b[32m[0215 14:10:15 @monitor.py:467]\u001b[0m GAN_loss/discrim/accuracy_fake: 0.955\n",
      "\u001b[32m[0215 14:10:15 @monitor.py:467]\u001b[0m GAN_loss/discrim/accuracy_real: 0.175\n",
      "\u001b[32m[0215 14:10:15 @monitor.py:467]\u001b[0m GAN_loss/discrim/loss: 0.64015\n",
      "\u001b[32m[0215 14:10:15 @monitor.py:467]\u001b[0m GAN_loss/gen/final-g-loss: 1.1145\n",
      "\u001b[32m[0215 14:10:15 @monitor.py:467]\u001b[0m GAN_loss/gen/klloss: 0.084789\n",
      "\u001b[32m[0215 14:10:15 @monitor.py:467]\u001b[0m GAN_loss/gen/loss: 1.0297\n",
      "\u001b[32m[0215 14:10:15 @monitor.py:467]\u001b[0m QueueInput/queue_size: 50\n",
      "\u001b[32m[0215 14:10:15 @base.py:275]\u001b[0m Start Epoch 966 ...\n"
     ]
    },
    {
     "name": "stderr",
     "output_type": "stream",
     "text": [
      "100%|#################################################################################|2000/2000[00:31<00:00,63.70it/s]"
     ]
    },
    {
     "name": "stdout",
     "output_type": "stream",
     "text": [
      "\u001b[32m[0215 14:10:46 @base.py:285]\u001b[0m Epoch 966 (global_step 1932000) finished, time:31.4 seconds.\n",
      "\u001b[32m[0215 14:10:46 @saver.py:79]\u001b[0m Model saved to ./output_TGAN/output/model\\model-1932000.\n"
     ]
    },
    {
     "name": "stderr",
     "output_type": "stream",
     "text": [
      "\n"
     ]
    },
    {
     "name": "stdout",
     "output_type": "stream",
     "text": [
      "\u001b[32m[0215 14:10:46 @monitor.py:467]\u001b[0m GAN_loss/discrim/accuracy_fake: 0.95\n",
      "\u001b[32m[0215 14:10:46 @monitor.py:467]\u001b[0m GAN_loss/discrim/accuracy_real: 0.18\n",
      "\u001b[32m[0215 14:10:46 @monitor.py:467]\u001b[0m GAN_loss/discrim/loss: 0.6407\n",
      "\u001b[32m[0215 14:10:46 @monitor.py:467]\u001b[0m GAN_loss/gen/final-g-loss: 1.115\n",
      "\u001b[32m[0215 14:10:46 @monitor.py:467]\u001b[0m GAN_loss/gen/klloss: 0.10792\n",
      "\u001b[32m[0215 14:10:46 @monitor.py:467]\u001b[0m GAN_loss/gen/loss: 1.0071\n",
      "\u001b[32m[0215 14:10:46 @monitor.py:467]\u001b[0m QueueInput/queue_size: 50\n",
      "\u001b[32m[0215 14:10:46 @base.py:275]\u001b[0m Start Epoch 967 ...\n"
     ]
    },
    {
     "name": "stderr",
     "output_type": "stream",
     "text": [
      "100%|#################################################################################|2000/2000[00:31<00:00,64.08it/s]"
     ]
    },
    {
     "name": "stdout",
     "output_type": "stream",
     "text": [
      "\u001b[32m[0215 14:11:18 @base.py:285]\u001b[0m Epoch 967 (global_step 1934000) finished, time:31.2 seconds.\n",
      "\u001b[32m[0215 14:11:18 @saver.py:79]\u001b[0m Model saved to ./output_TGAN/output/model\\model-1934000.\n",
      "\u001b[32m[0215 14:11:18 @monitor.py:467]\u001b[0m GAN_loss/discrim/accuracy_fake: 0.935\n"
     ]
    },
    {
     "name": "stderr",
     "output_type": "stream",
     "text": [
      "\n"
     ]
    },
    {
     "name": "stdout",
     "output_type": "stream",
     "text": [
      "\u001b[32m[0215 14:11:18 @monitor.py:467]\u001b[0m GAN_loss/discrim/accuracy_real: 0.1\n",
      "\u001b[32m[0215 14:11:18 @monitor.py:467]\u001b[0m GAN_loss/discrim/loss: 0.65038\n",
      "\u001b[32m[0215 14:11:18 @monitor.py:467]\u001b[0m GAN_loss/gen/final-g-loss: 1.1624\n",
      "\u001b[32m[0215 14:11:18 @monitor.py:467]\u001b[0m GAN_loss/gen/klloss: 0.14121\n",
      "\u001b[32m[0215 14:11:18 @monitor.py:467]\u001b[0m GAN_loss/gen/loss: 1.0211\n",
      "\u001b[32m[0215 14:11:18 @monitor.py:467]\u001b[0m QueueInput/queue_size: 50\n",
      "\u001b[32m[0215 14:11:18 @base.py:275]\u001b[0m Start Epoch 968 ...\n"
     ]
    },
    {
     "name": "stderr",
     "output_type": "stream",
     "text": [
      "100%|#################################################################################|2000/2000[00:32<00:00,62.07it/s]"
     ]
    },
    {
     "name": "stdout",
     "output_type": "stream",
     "text": [
      "\u001b[32m[0215 14:11:50 @base.py:285]\u001b[0m Epoch 968 (global_step 1936000) finished, time:32.2 seconds.\n",
      "\u001b[32m[0215 14:11:50 @saver.py:79]\u001b[0m Model saved to ./output_TGAN/output/model\\model-1936000.\n",
      "\u001b[32m[0215 14:11:50 @monitor.py:467]\u001b[0m GAN_loss/discrim/accuracy_fake: 0.905\n"
     ]
    },
    {
     "name": "stderr",
     "output_type": "stream",
     "text": [
      "\n"
     ]
    },
    {
     "name": "stdout",
     "output_type": "stream",
     "text": [
      "\u001b[32m[0215 14:11:50 @monitor.py:467]\u001b[0m GAN_loss/discrim/accuracy_real: 0.14\n",
      "\u001b[32m[0215 14:11:50 @monitor.py:467]\u001b[0m GAN_loss/discrim/loss: 0.6512\n",
      "\u001b[32m[0215 14:11:50 @monitor.py:467]\u001b[0m GAN_loss/gen/final-g-loss: 1.0892\n",
      "\u001b[32m[0215 14:11:50 @monitor.py:467]\u001b[0m GAN_loss/gen/klloss: 0.095219\n",
      "\u001b[32m[0215 14:11:50 @monitor.py:467]\u001b[0m GAN_loss/gen/loss: 0.99396\n",
      "\u001b[32m[0215 14:11:50 @monitor.py:467]\u001b[0m QueueInput/queue_size: 50\n",
      "\u001b[32m[0215 14:11:50 @base.py:275]\u001b[0m Start Epoch 969 ...\n"
     ]
    },
    {
     "name": "stderr",
     "output_type": "stream",
     "text": [
      "100%|#################################################################################|2000/2000[00:32<00:00,61.79it/s]"
     ]
    },
    {
     "name": "stdout",
     "output_type": "stream",
     "text": [
      "\u001b[32m[0215 14:12:23 @base.py:285]\u001b[0m Epoch 969 (global_step 1938000) finished, time:32.4 seconds.\n",
      "\u001b[32m[0215 14:12:23 @saver.py:79]\u001b[0m Model saved to ./output_TGAN/output/model\\model-1938000.\n",
      "\u001b[32m[0215 14:12:23 @monitor.py:467]\u001b[0m GAN_loss/discrim/accuracy_fake: 0.925\n"
     ]
    },
    {
     "name": "stderr",
     "output_type": "stream",
     "text": [
      "\n"
     ]
    },
    {
     "name": "stdout",
     "output_type": "stream",
     "text": [
      "\u001b[32m[0215 14:12:23 @monitor.py:467]\u001b[0m GAN_loss/discrim/accuracy_real: 0.15\n",
      "\u001b[32m[0215 14:12:23 @monitor.py:467]\u001b[0m GAN_loss/discrim/loss: 0.64975\n",
      "\u001b[32m[0215 14:12:23 @monitor.py:467]\u001b[0m GAN_loss/gen/final-g-loss: 1.0889\n",
      "\u001b[32m[0215 14:12:23 @monitor.py:467]\u001b[0m GAN_loss/gen/klloss: 0.078961\n",
      "\u001b[32m[0215 14:12:23 @monitor.py:467]\u001b[0m GAN_loss/gen/loss: 1.0099\n",
      "\u001b[32m[0215 14:12:23 @monitor.py:467]\u001b[0m QueueInput/queue_size: 50\n",
      "\u001b[32m[0215 14:12:23 @base.py:275]\u001b[0m Start Epoch 970 ...\n"
     ]
    },
    {
     "name": "stderr",
     "output_type": "stream",
     "text": [
      "100%|#################################################################################|2000/2000[00:32<00:00,62.41it/s]"
     ]
    },
    {
     "name": "stdout",
     "output_type": "stream",
     "text": [
      "\u001b[32m[0215 14:12:55 @base.py:285]\u001b[0m Epoch 970 (global_step 1940000) finished, time:32 seconds.\n",
      "\u001b[32m[0215 14:12:55 @saver.py:79]\u001b[0m Model saved to ./output_TGAN/output/model\\model-1940000.\n"
     ]
    },
    {
     "name": "stderr",
     "output_type": "stream",
     "text": [
      "\n"
     ]
    },
    {
     "name": "stdout",
     "output_type": "stream",
     "text": [
      "\u001b[32m[0215 14:12:55 @monitor.py:467]\u001b[0m GAN_loss/discrim/accuracy_fake: 0.95\n",
      "\u001b[32m[0215 14:12:55 @monitor.py:467]\u001b[0m GAN_loss/discrim/accuracy_real: 0.1\n",
      "\u001b[32m[0215 14:12:55 @monitor.py:467]\u001b[0m GAN_loss/discrim/loss: 0.64308\n",
      "\u001b[32m[0215 14:12:55 @monitor.py:467]\u001b[0m GAN_loss/gen/final-g-loss: 1.0969\n",
      "\u001b[32m[0215 14:12:55 @monitor.py:467]\u001b[0m GAN_loss/gen/klloss: 0.083128\n",
      "\u001b[32m[0215 14:12:55 @monitor.py:467]\u001b[0m GAN_loss/gen/loss: 1.0137\n",
      "\u001b[32m[0215 14:12:55 @monitor.py:467]\u001b[0m QueueInput/queue_size: 50\n",
      "\u001b[32m[0215 14:12:55 @base.py:275]\u001b[0m Start Epoch 971 ...\n"
     ]
    },
    {
     "name": "stderr",
     "output_type": "stream",
     "text": [
      "100%|#################################################################################|2000/2000[00:32<00:00,62.17it/s]"
     ]
    },
    {
     "name": "stdout",
     "output_type": "stream",
     "text": [
      "\u001b[32m[0215 14:13:27 @base.py:285]\u001b[0m Epoch 971 (global_step 1942000) finished, time:32.2 seconds.\n",
      "\u001b[32m[0215 14:13:27 @saver.py:79]\u001b[0m Model saved to ./output_TGAN/output/model\\model-1942000.\n"
     ]
    },
    {
     "name": "stderr",
     "output_type": "stream",
     "text": [
      "\n"
     ]
    },
    {
     "name": "stdout",
     "output_type": "stream",
     "text": [
      "\u001b[32m[0215 14:13:27 @monitor.py:467]\u001b[0m GAN_loss/discrim/accuracy_fake: 0.935\n",
      "\u001b[32m[0215 14:13:27 @monitor.py:467]\u001b[0m GAN_loss/discrim/accuracy_real: 0.1\n",
      "\u001b[32m[0215 14:13:27 @monitor.py:467]\u001b[0m GAN_loss/discrim/loss: 0.64424\n",
      "\u001b[32m[0215 14:13:27 @monitor.py:467]\u001b[0m GAN_loss/gen/final-g-loss: 1.0965\n",
      "\u001b[32m[0215 14:13:27 @monitor.py:467]\u001b[0m GAN_loss/gen/klloss: 0.082567\n",
      "\u001b[32m[0215 14:13:27 @monitor.py:467]\u001b[0m GAN_loss/gen/loss: 1.0139\n",
      "\u001b[32m[0215 14:13:27 @monitor.py:467]\u001b[0m QueueInput/queue_size: 50\n",
      "\u001b[32m[0215 14:13:27 @base.py:275]\u001b[0m Start Epoch 972 ...\n"
     ]
    },
    {
     "name": "stderr",
     "output_type": "stream",
     "text": [
      "100%|#################################################################################|2000/2000[00:32<00:00,61.96it/s]"
     ]
    },
    {
     "name": "stdout",
     "output_type": "stream",
     "text": [
      "\u001b[32m[0215 14:14:00 @base.py:285]\u001b[0m Epoch 972 (global_step 1944000) finished, time:32.3 seconds.\n",
      "\u001b[32m[0215 14:14:00 @saver.py:79]\u001b[0m Model saved to ./output_TGAN/output/model\\model-1944000.\n"
     ]
    },
    {
     "name": "stderr",
     "output_type": "stream",
     "text": [
      "\n"
     ]
    },
    {
     "name": "stdout",
     "output_type": "stream",
     "text": [
      "\u001b[32m[0215 14:14:00 @monitor.py:467]\u001b[0m GAN_loss/discrim/accuracy_fake: 0.955\n",
      "\u001b[32m[0215 14:14:00 @monitor.py:467]\u001b[0m GAN_loss/discrim/accuracy_real: 0.135\n",
      "\u001b[32m[0215 14:14:00 @monitor.py:467]\u001b[0m GAN_loss/discrim/loss: 0.62262\n",
      "\u001b[32m[0215 14:14:00 @monitor.py:467]\u001b[0m GAN_loss/gen/final-g-loss: 1.1178\n",
      "\u001b[32m[0215 14:14:00 @monitor.py:467]\u001b[0m GAN_loss/gen/klloss: 0.087395\n",
      "\u001b[32m[0215 14:14:00 @monitor.py:467]\u001b[0m GAN_loss/gen/loss: 1.0304\n",
      "\u001b[32m[0215 14:14:00 @monitor.py:467]\u001b[0m QueueInput/queue_size: 50\n",
      "\u001b[32m[0215 14:14:00 @base.py:275]\u001b[0m Start Epoch 973 ...\n"
     ]
    },
    {
     "name": "stderr",
     "output_type": "stream",
     "text": [
      "100%|#################################################################################|2000/2000[00:32<00:00,62.19it/s]"
     ]
    },
    {
     "name": "stdout",
     "output_type": "stream",
     "text": [
      "\u001b[32m[0215 14:14:32 @base.py:285]\u001b[0m Epoch 973 (global_step 1946000) finished, time:32.2 seconds.\n",
      "\u001b[32m[0215 14:14:32 @saver.py:79]\u001b[0m Model saved to ./output_TGAN/output/model\\model-1946000.\n"
     ]
    },
    {
     "name": "stderr",
     "output_type": "stream",
     "text": [
      "\n"
     ]
    },
    {
     "name": "stdout",
     "output_type": "stream",
     "text": [
      "\u001b[32m[0215 14:14:32 @monitor.py:467]\u001b[0m GAN_loss/discrim/accuracy_fake: 0.93\n",
      "\u001b[32m[0215 14:14:32 @monitor.py:467]\u001b[0m GAN_loss/discrim/accuracy_real: 0.145\n",
      "\u001b[32m[0215 14:14:32 @monitor.py:467]\u001b[0m GAN_loss/discrim/loss: 0.64488\n",
      "\u001b[32m[0215 14:14:32 @monitor.py:467]\u001b[0m GAN_loss/gen/final-g-loss: 1.1342\n",
      "\u001b[32m[0215 14:14:32 @monitor.py:467]\u001b[0m GAN_loss/gen/klloss: 0.12859\n",
      "\u001b[32m[0215 14:14:32 @monitor.py:467]\u001b[0m GAN_loss/gen/loss: 1.0056\n",
      "\u001b[32m[0215 14:14:32 @monitor.py:467]\u001b[0m QueueInput/queue_size: 50\n",
      "\u001b[32m[0215 14:14:32 @base.py:275]\u001b[0m Start Epoch 974 ...\n"
     ]
    },
    {
     "name": "stderr",
     "output_type": "stream",
     "text": [
      "100%|#################################################################################|2000/2000[00:32<00:00,61.27it/s]"
     ]
    },
    {
     "name": "stdout",
     "output_type": "stream",
     "text": [
      "\u001b[32m[0215 14:15:05 @base.py:285]\u001b[0m Epoch 974 (global_step 1948000) finished, time:32.6 seconds.\n",
      "\u001b[32m[0215 14:15:05 @saver.py:79]\u001b[0m Model saved to ./output_TGAN/output/model\\model-1948000.\n",
      "\u001b[32m[0215 14:15:05 @monitor.py:467]\u001b[0m GAN_loss/discrim/accuracy_fake: 0.93\n"
     ]
    },
    {
     "name": "stderr",
     "output_type": "stream",
     "text": [
      "\n"
     ]
    },
    {
     "name": "stdout",
     "output_type": "stream",
     "text": [
      "\u001b[32m[0215 14:15:05 @monitor.py:467]\u001b[0m GAN_loss/discrim/accuracy_real: 0.105\n",
      "\u001b[32m[0215 14:15:05 @monitor.py:467]\u001b[0m GAN_loss/discrim/loss: 0.64289\n",
      "\u001b[32m[0215 14:15:05 @monitor.py:467]\u001b[0m GAN_loss/gen/final-g-loss: 1.1196\n",
      "\u001b[32m[0215 14:15:05 @monitor.py:467]\u001b[0m GAN_loss/gen/klloss: 0.11007\n",
      "\u001b[32m[0215 14:15:05 @monitor.py:467]\u001b[0m GAN_loss/gen/loss: 1.0095\n",
      "\u001b[32m[0215 14:15:05 @monitor.py:467]\u001b[0m QueueInput/queue_size: 50\n",
      "\u001b[32m[0215 14:15:05 @base.py:275]\u001b[0m Start Epoch 975 ...\n"
     ]
    },
    {
     "name": "stderr",
     "output_type": "stream",
     "text": [
      "100%|#################################################################################|2000/2000[00:32<00:00,61.72it/s]"
     ]
    },
    {
     "name": "stdout",
     "output_type": "stream",
     "text": [
      "\u001b[32m[0215 14:15:37 @base.py:285]\u001b[0m Epoch 975 (global_step 1950000) finished, time:32.4 seconds.\n",
      "\u001b[32m[0215 14:15:38 @saver.py:79]\u001b[0m Model saved to ./output_TGAN/output/model\\model-1950000.\n"
     ]
    },
    {
     "name": "stderr",
     "output_type": "stream",
     "text": [
      "\n"
     ]
    },
    {
     "name": "stdout",
     "output_type": "stream",
     "text": [
      "\u001b[32m[0215 14:15:38 @monitor.py:467]\u001b[0m GAN_loss/discrim/accuracy_fake: 0.95\n",
      "\u001b[32m[0215 14:15:38 @monitor.py:467]\u001b[0m GAN_loss/discrim/accuracy_real: 0.13\n",
      "\u001b[32m[0215 14:15:38 @monitor.py:467]\u001b[0m GAN_loss/discrim/loss: 0.64591\n",
      "\u001b[32m[0215 14:15:38 @monitor.py:467]\u001b[0m GAN_loss/gen/final-g-loss: 1.1073\n",
      "\u001b[32m[0215 14:15:38 @monitor.py:467]\u001b[0m GAN_loss/gen/klloss: 0.10362\n",
      "\u001b[32m[0215 14:15:38 @monitor.py:467]\u001b[0m GAN_loss/gen/loss: 1.0037\n",
      "\u001b[32m[0215 14:15:38 @monitor.py:467]\u001b[0m QueueInput/queue_size: 50\n",
      "\u001b[32m[0215 14:15:38 @base.py:275]\u001b[0m Start Epoch 976 ...\n"
     ]
    },
    {
     "name": "stderr",
     "output_type": "stream",
     "text": [
      "100%|#################################################################################|2000/2000[00:32<00:00,62.41it/s]"
     ]
    },
    {
     "name": "stdout",
     "output_type": "stream",
     "text": [
      "\u001b[32m[0215 14:16:10 @base.py:285]\u001b[0m Epoch 976 (global_step 1952000) finished, time:32 seconds.\n",
      "\u001b[32m[0215 14:16:10 @saver.py:79]\u001b[0m Model saved to ./output_TGAN/output/model\\model-1952000.\n"
     ]
    },
    {
     "name": "stderr",
     "output_type": "stream",
     "text": [
      "\n"
     ]
    },
    {
     "name": "stdout",
     "output_type": "stream",
     "text": [
      "\u001b[32m[0215 14:16:10 @monitor.py:467]\u001b[0m GAN_loss/discrim/accuracy_fake: 0.91\n",
      "\u001b[32m[0215 14:16:10 @monitor.py:467]\u001b[0m GAN_loss/discrim/accuracy_real: 0.105\n",
      "\u001b[32m[0215 14:16:10 @monitor.py:467]\u001b[0m GAN_loss/discrim/loss: 0.65736\n",
      "\u001b[32m[0215 14:16:10 @monitor.py:467]\u001b[0m GAN_loss/gen/final-g-loss: 1.0628\n",
      "\u001b[32m[0215 14:16:10 @monitor.py:467]\u001b[0m GAN_loss/gen/klloss: 0.073588\n",
      "\u001b[32m[0215 14:16:10 @monitor.py:467]\u001b[0m GAN_loss/gen/loss: 0.9892\n",
      "\u001b[32m[0215 14:16:10 @monitor.py:467]\u001b[0m QueueInput/queue_size: 50\n",
      "\u001b[32m[0215 14:16:10 @base.py:275]\u001b[0m Start Epoch 977 ...\n"
     ]
    },
    {
     "name": "stderr",
     "output_type": "stream",
     "text": [
      "100%|#################################################################################|2000/2000[00:31<00:00,62.54it/s]"
     ]
    },
    {
     "name": "stdout",
     "output_type": "stream",
     "text": [
      "\u001b[32m[0215 14:16:42 @base.py:285]\u001b[0m Epoch 977 (global_step 1954000) finished, time:32 seconds.\n",
      "\u001b[32m[0215 14:16:42 @saver.py:79]\u001b[0m Model saved to ./output_TGAN/output/model\\model-1954000.\n"
     ]
    },
    {
     "name": "stderr",
     "output_type": "stream",
     "text": [
      "\n"
     ]
    },
    {
     "name": "stdout",
     "output_type": "stream",
     "text": [
      "\u001b[32m[0215 14:16:42 @monitor.py:467]\u001b[0m GAN_loss/discrim/accuracy_fake: 0.945\n",
      "\u001b[32m[0215 14:16:42 @monitor.py:467]\u001b[0m GAN_loss/discrim/accuracy_real: 0.115\n",
      "\u001b[32m[0215 14:16:42 @monitor.py:467]\u001b[0m GAN_loss/discrim/loss: 0.65028\n",
      "\u001b[32m[0215 14:16:42 @monitor.py:467]\u001b[0m GAN_loss/gen/final-g-loss: 1.0965\n",
      "\u001b[32m[0215 14:16:42 @monitor.py:467]\u001b[0m GAN_loss/gen/klloss: 0.090214\n",
      "\u001b[32m[0215 14:16:42 @monitor.py:467]\u001b[0m GAN_loss/gen/loss: 1.0063\n",
      "\u001b[32m[0215 14:16:42 @monitor.py:467]\u001b[0m QueueInput/queue_size: 50\n",
      "\u001b[32m[0215 14:16:42 @base.py:275]\u001b[0m Start Epoch 978 ...\n"
     ]
    },
    {
     "name": "stderr",
     "output_type": "stream",
     "text": [
      "100%|#################################################################################|2000/2000[00:31<00:00,62.67it/s]"
     ]
    },
    {
     "name": "stdout",
     "output_type": "stream",
     "text": [
      "\u001b[32m[0215 14:17:14 @base.py:285]\u001b[0m Epoch 978 (global_step 1956000) finished, time:31.9 seconds.\n",
      "\u001b[32m[0215 14:17:14 @saver.py:79]\u001b[0m Model saved to ./output_TGAN/output/model\\model-1956000.\n"
     ]
    },
    {
     "name": "stderr",
     "output_type": "stream",
     "text": [
      "\n"
     ]
    },
    {
     "name": "stdout",
     "output_type": "stream",
     "text": [
      "\u001b[32m[0215 14:17:14 @monitor.py:467]\u001b[0m GAN_loss/discrim/accuracy_fake: 0.94\n",
      "\u001b[32m[0215 14:17:14 @monitor.py:467]\u001b[0m GAN_loss/discrim/accuracy_real: 0.09\n",
      "\u001b[32m[0215 14:17:14 @monitor.py:467]\u001b[0m GAN_loss/discrim/loss: 0.64828\n",
      "\u001b[32m[0215 14:17:14 @monitor.py:467]\u001b[0m GAN_loss/gen/final-g-loss: 1.1319\n",
      "\u001b[32m[0215 14:17:14 @monitor.py:467]\u001b[0m GAN_loss/gen/klloss: 0.12609\n",
      "\u001b[32m[0215 14:17:14 @monitor.py:467]\u001b[0m GAN_loss/gen/loss: 1.0058\n",
      "\u001b[32m[0215 14:17:14 @monitor.py:467]\u001b[0m QueueInput/queue_size: 50\n",
      "\u001b[32m[0215 14:17:14 @base.py:275]\u001b[0m Start Epoch 979 ...\n"
     ]
    },
    {
     "name": "stderr",
     "output_type": "stream",
     "text": [
      "100%|#################################################################################|2000/2000[00:32<00:00,62.34it/s]"
     ]
    },
    {
     "name": "stdout",
     "output_type": "stream",
     "text": [
      "\u001b[32m[0215 14:17:46 @base.py:285]\u001b[0m Epoch 979 (global_step 1958000) finished, time:32.1 seconds.\n",
      "\u001b[32m[0215 14:17:46 @saver.py:79]\u001b[0m Model saved to ./output_TGAN/output/model\\model-1958000.\n"
     ]
    },
    {
     "name": "stderr",
     "output_type": "stream",
     "text": [
      "\n"
     ]
    },
    {
     "name": "stdout",
     "output_type": "stream",
     "text": [
      "\u001b[32m[0215 14:17:47 @monitor.py:467]\u001b[0m GAN_loss/discrim/accuracy_fake: 0.945\n",
      "\u001b[32m[0215 14:17:47 @monitor.py:467]\u001b[0m GAN_loss/discrim/accuracy_real: 0.14\n",
      "\u001b[32m[0215 14:17:47 @monitor.py:467]\u001b[0m GAN_loss/discrim/loss: 0.63964\n",
      "\u001b[32m[0215 14:17:47 @monitor.py:467]\u001b[0m GAN_loss/gen/final-g-loss: 1.1732\n",
      "\u001b[32m[0215 14:17:47 @monitor.py:467]\u001b[0m GAN_loss/gen/klloss: 0.14172\n",
      "\u001b[32m[0215 14:17:47 @monitor.py:467]\u001b[0m GAN_loss/gen/loss: 1.0315\n",
      "\u001b[32m[0215 14:17:47 @monitor.py:467]\u001b[0m QueueInput/queue_size: 50\n",
      "\u001b[32m[0215 14:17:47 @base.py:275]\u001b[0m Start Epoch 980 ...\n"
     ]
    },
    {
     "name": "stderr",
     "output_type": "stream",
     "text": [
      "100%|#################################################################################|2000/2000[00:32<00:00,62.49it/s]"
     ]
    },
    {
     "name": "stdout",
     "output_type": "stream",
     "text": [
      "\u001b[32m[0215 14:18:19 @base.py:285]\u001b[0m Epoch 980 (global_step 1960000) finished, time:32 seconds.\n",
      "\u001b[32m[0215 14:18:19 @saver.py:79]\u001b[0m Model saved to ./output_TGAN/output/model\\model-1960000.\n"
     ]
    },
    {
     "name": "stderr",
     "output_type": "stream",
     "text": [
      "\n"
     ]
    },
    {
     "name": "stdout",
     "output_type": "stream",
     "text": [
      "\u001b[32m[0215 14:18:19 @monitor.py:467]\u001b[0m GAN_loss/discrim/accuracy_fake: 0.935\n",
      "\u001b[32m[0215 14:18:19 @monitor.py:467]\u001b[0m GAN_loss/discrim/accuracy_real: 0.105\n",
      "\u001b[32m[0215 14:18:19 @monitor.py:467]\u001b[0m GAN_loss/discrim/loss: 0.64408\n",
      "\u001b[32m[0215 14:18:19 @monitor.py:467]\u001b[0m GAN_loss/gen/final-g-loss: 1.1397\n",
      "\u001b[32m[0215 14:18:19 @monitor.py:467]\u001b[0m GAN_loss/gen/klloss: 0.12957\n",
      "\u001b[32m[0215 14:18:19 @monitor.py:467]\u001b[0m GAN_loss/gen/loss: 1.0101\n",
      "\u001b[32m[0215 14:18:19 @monitor.py:467]\u001b[0m QueueInput/queue_size: 50\n",
      "\u001b[32m[0215 14:18:19 @base.py:275]\u001b[0m Start Epoch 981 ...\n"
     ]
    },
    {
     "name": "stderr",
     "output_type": "stream",
     "text": [
      "100%|#################################################################################|2000/2000[00:32<00:00,62.31it/s]"
     ]
    },
    {
     "name": "stdout",
     "output_type": "stream",
     "text": [
      "\u001b[32m[0215 14:18:51 @base.py:285]\u001b[0m Epoch 981 (global_step 1962000) finished, time:32.1 seconds.\n",
      "\u001b[32m[0215 14:18:51 @saver.py:79]\u001b[0m Model saved to ./output_TGAN/output/model\\model-1962000.\n"
     ]
    },
    {
     "name": "stderr",
     "output_type": "stream",
     "text": [
      "\n"
     ]
    },
    {
     "name": "stdout",
     "output_type": "stream",
     "text": [
      "\u001b[32m[0215 14:18:51 @monitor.py:467]\u001b[0m GAN_loss/discrim/accuracy_fake: 0.935\n",
      "\u001b[32m[0215 14:18:51 @monitor.py:467]\u001b[0m GAN_loss/discrim/accuracy_real: 0.125\n",
      "\u001b[32m[0215 14:18:51 @monitor.py:467]\u001b[0m GAN_loss/discrim/loss: 0.65004\n",
      "\u001b[32m[0215 14:18:51 @monitor.py:467]\u001b[0m GAN_loss/gen/final-g-loss: 1.0779\n",
      "\u001b[32m[0215 14:18:51 @monitor.py:467]\u001b[0m GAN_loss/gen/klloss: 0.078816\n",
      "\u001b[32m[0215 14:18:51 @monitor.py:467]\u001b[0m GAN_loss/gen/loss: 0.9991\n",
      "\u001b[32m[0215 14:18:51 @monitor.py:467]\u001b[0m QueueInput/queue_size: 50\n",
      "\u001b[32m[0215 14:18:51 @base.py:275]\u001b[0m Start Epoch 982 ...\n"
     ]
    },
    {
     "name": "stderr",
     "output_type": "stream",
     "text": [
      "100%|#################################################################################|2000/2000[00:31<00:00,62.64it/s]"
     ]
    },
    {
     "name": "stdout",
     "output_type": "stream",
     "text": [
      "\u001b[32m[0215 14:19:23 @base.py:285]\u001b[0m Epoch 982 (global_step 1964000) finished, time:31.9 seconds.\n",
      "\u001b[32m[0215 14:19:23 @saver.py:79]\u001b[0m Model saved to ./output_TGAN/output/model\\model-1964000.\n",
      "\u001b[32m[0215 14:19:23 @monitor.py:467]\u001b[0m GAN_loss/discrim/accuracy_fake: 0.93\n"
     ]
    },
    {
     "name": "stderr",
     "output_type": "stream",
     "text": [
      "\n"
     ]
    },
    {
     "name": "stdout",
     "output_type": "stream",
     "text": [
      "\u001b[32m[0215 14:19:23 @monitor.py:467]\u001b[0m GAN_loss/discrim/accuracy_real: 0.085\n",
      "\u001b[32m[0215 14:19:23 @monitor.py:467]\u001b[0m GAN_loss/discrim/loss: 0.64978\n",
      "\u001b[32m[0215 14:19:23 @monitor.py:467]\u001b[0m GAN_loss/gen/final-g-loss: 1.1221\n",
      "\u001b[32m[0215 14:19:23 @monitor.py:467]\u001b[0m GAN_loss/gen/klloss: 0.10304\n",
      "\u001b[32m[0215 14:19:23 @monitor.py:467]\u001b[0m GAN_loss/gen/loss: 1.0191\n",
      "\u001b[32m[0215 14:19:23 @monitor.py:467]\u001b[0m QueueInput/queue_size: 50\n",
      "\u001b[32m[0215 14:19:23 @base.py:275]\u001b[0m Start Epoch 983 ...\n"
     ]
    },
    {
     "name": "stderr",
     "output_type": "stream",
     "text": [
      "100%|#################################################################################|2000/2000[00:32<00:00,62.48it/s]"
     ]
    },
    {
     "name": "stdout",
     "output_type": "stream",
     "text": [
      "\u001b[32m[0215 14:19:55 @base.py:285]\u001b[0m Epoch 983 (global_step 1966000) finished, time:32 seconds.\n",
      "\u001b[32m[0215 14:19:55 @saver.py:79]\u001b[0m Model saved to ./output_TGAN/output/model\\model-1966000.\n",
      "\u001b[32m[0215 14:19:55 @monitor.py:467]\u001b[0m GAN_loss/discrim/accuracy_fake: 0.92\n"
     ]
    },
    {
     "name": "stderr",
     "output_type": "stream",
     "text": [
      "\n"
     ]
    },
    {
     "name": "stdout",
     "output_type": "stream",
     "text": [
      "\u001b[32m[0215 14:19:55 @monitor.py:467]\u001b[0m GAN_loss/discrim/accuracy_real: 0.14\n",
      "\u001b[32m[0215 14:19:55 @monitor.py:467]\u001b[0m GAN_loss/discrim/loss: 0.63561\n",
      "\u001b[32m[0215 14:19:55 @monitor.py:467]\u001b[0m GAN_loss/gen/final-g-loss: 1.1234\n",
      "\u001b[32m[0215 14:19:55 @monitor.py:467]\u001b[0m GAN_loss/gen/klloss: 0.094498\n",
      "\u001b[32m[0215 14:19:55 @monitor.py:467]\u001b[0m GAN_loss/gen/loss: 1.0289\n",
      "\u001b[32m[0215 14:19:55 @monitor.py:467]\u001b[0m QueueInput/queue_size: 50\n",
      "\u001b[32m[0215 14:19:55 @base.py:275]\u001b[0m Start Epoch 984 ...\n"
     ]
    },
    {
     "name": "stderr",
     "output_type": "stream",
     "text": [
      "100%|#################################################################################|2000/2000[00:32<00:00,62.44it/s]"
     ]
    },
    {
     "name": "stdout",
     "output_type": "stream",
     "text": [
      "\u001b[32m[0215 14:20:28 @base.py:285]\u001b[0m Epoch 984 (global_step 1968000) finished, time:32 seconds.\n",
      "\u001b[32m[0215 14:20:28 @saver.py:79]\u001b[0m Model saved to ./output_TGAN/output/model\\model-1968000.\n",
      "\u001b[32m[0215 14:20:28 @monitor.py:467]\u001b[0m GAN_loss/discrim/accuracy_fake: 0.95\n"
     ]
    },
    {
     "name": "stderr",
     "output_type": "stream",
     "text": [
      "\n"
     ]
    },
    {
     "name": "stdout",
     "output_type": "stream",
     "text": [
      "\u001b[32m[0215 14:20:28 @monitor.py:467]\u001b[0m GAN_loss/discrim/accuracy_real: 0.11\n",
      "\u001b[32m[0215 14:20:28 @monitor.py:467]\u001b[0m GAN_loss/discrim/loss: 0.64276\n",
      "\u001b[32m[0215 14:20:28 @monitor.py:467]\u001b[0m GAN_loss/gen/final-g-loss: 1.1344\n",
      "\u001b[32m[0215 14:20:28 @monitor.py:467]\u001b[0m GAN_loss/gen/klloss: 0.10978\n",
      "\u001b[32m[0215 14:20:28 @monitor.py:467]\u001b[0m GAN_loss/gen/loss: 1.0246\n",
      "\u001b[32m[0215 14:20:28 @monitor.py:467]\u001b[0m QueueInput/queue_size: 50\n",
      "\u001b[32m[0215 14:20:28 @base.py:275]\u001b[0m Start Epoch 985 ...\n"
     ]
    },
    {
     "name": "stderr",
     "output_type": "stream",
     "text": [
      "100%|#################################################################################|2000/2000[00:31<00:00,62.64it/s]"
     ]
    },
    {
     "name": "stdout",
     "output_type": "stream",
     "text": [
      "\u001b[32m[0215 14:21:00 @base.py:285]\u001b[0m Epoch 985 (global_step 1970000) finished, time:31.9 seconds.\n",
      "\u001b[32m[0215 14:21:00 @saver.py:79]\u001b[0m Model saved to ./output_TGAN/output/model\\model-1970000.\n",
      "\u001b[32m[0215 14:21:00 @monitor.py:467]\u001b[0m GAN_loss/discrim/accuracy_fake: 0.925\n"
     ]
    },
    {
     "name": "stderr",
     "output_type": "stream",
     "text": [
      "\n"
     ]
    },
    {
     "name": "stdout",
     "output_type": "stream",
     "text": [
      "\u001b[32m[0215 14:21:00 @monitor.py:467]\u001b[0m GAN_loss/discrim/accuracy_real: 0.08\n",
      "\u001b[32m[0215 14:21:00 @monitor.py:467]\u001b[0m GAN_loss/discrim/loss: 0.6441\n",
      "\u001b[32m[0215 14:21:00 @monitor.py:467]\u001b[0m GAN_loss/gen/final-g-loss: 1.1259\n",
      "\u001b[32m[0215 14:21:00 @monitor.py:467]\u001b[0m GAN_loss/gen/klloss: 0.12037\n",
      "\u001b[32m[0215 14:21:00 @monitor.py:467]\u001b[0m GAN_loss/gen/loss: 1.0055\n",
      "\u001b[32m[0215 14:21:00 @monitor.py:467]\u001b[0m QueueInput/queue_size: 50\n",
      "\u001b[32m[0215 14:21:00 @base.py:275]\u001b[0m Start Epoch 986 ...\n"
     ]
    },
    {
     "name": "stderr",
     "output_type": "stream",
     "text": [
      "100%|#################################################################################|2000/2000[00:31<00:00,62.73it/s]"
     ]
    },
    {
     "name": "stdout",
     "output_type": "stream",
     "text": [
      "\u001b[32m[0215 14:21:32 @base.py:285]\u001b[0m Epoch 986 (global_step 1972000) finished, time:31.9 seconds.\n",
      "\u001b[32m[0215 14:21:32 @saver.py:79]\u001b[0m Model saved to ./output_TGAN/output/model\\model-1972000.\n",
      "\u001b[32m[0215 14:21:32 @monitor.py:467]\u001b[0m GAN_loss/discrim/accuracy_fake: 0.925\n"
     ]
    },
    {
     "name": "stderr",
     "output_type": "stream",
     "text": [
      "\n"
     ]
    },
    {
     "name": "stdout",
     "output_type": "stream",
     "text": [
      "\u001b[32m[0215 14:21:32 @monitor.py:467]\u001b[0m GAN_loss/discrim/accuracy_real: 0.105\n",
      "\u001b[32m[0215 14:21:32 @monitor.py:467]\u001b[0m GAN_loss/discrim/loss: 0.64627\n",
      "\u001b[32m[0215 14:21:32 @monitor.py:467]\u001b[0m GAN_loss/gen/final-g-loss: 1.1912\n",
      "\u001b[32m[0215 14:21:32 @monitor.py:467]\u001b[0m GAN_loss/gen/klloss: 0.19606\n",
      "\u001b[32m[0215 14:21:32 @monitor.py:467]\u001b[0m GAN_loss/gen/loss: 0.99512\n",
      "\u001b[32m[0215 14:21:32 @monitor.py:467]\u001b[0m QueueInput/queue_size: 50\n",
      "\u001b[32m[0215 14:21:32 @base.py:275]\u001b[0m Start Epoch 987 ...\n"
     ]
    },
    {
     "name": "stderr",
     "output_type": "stream",
     "text": [
      "100%|#################################################################################|2000/2000[00:31<00:00,62.76it/s]"
     ]
    },
    {
     "name": "stdout",
     "output_type": "stream",
     "text": [
      "\u001b[32m[0215 14:22:04 @base.py:285]\u001b[0m Epoch 987 (global_step 1974000) finished, time:31.9 seconds.\n",
      "\u001b[32m[0215 14:22:04 @saver.py:79]\u001b[0m Model saved to ./output_TGAN/output/model\\model-1974000.\n"
     ]
    },
    {
     "name": "stderr",
     "output_type": "stream",
     "text": [
      "\n"
     ]
    },
    {
     "name": "stdout",
     "output_type": "stream",
     "text": [
      "\u001b[32m[0215 14:22:04 @monitor.py:467]\u001b[0m GAN_loss/discrim/accuracy_fake: 0.965\n",
      "\u001b[32m[0215 14:22:04 @monitor.py:467]\u001b[0m GAN_loss/discrim/accuracy_real: 0.115\n",
      "\u001b[32m[0215 14:22:04 @monitor.py:467]\u001b[0m GAN_loss/discrim/loss: 0.62334\n",
      "\u001b[32m[0215 14:22:04 @monitor.py:467]\u001b[0m GAN_loss/gen/final-g-loss: 1.1415\n",
      "\u001b[32m[0215 14:22:04 @monitor.py:467]\u001b[0m GAN_loss/gen/klloss: 0.095382\n",
      "\u001b[32m[0215 14:22:04 @monitor.py:467]\u001b[0m GAN_loss/gen/loss: 1.0462\n",
      "\u001b[32m[0215 14:22:04 @monitor.py:467]\u001b[0m QueueInput/queue_size: 50\n",
      "\u001b[32m[0215 14:22:04 @base.py:275]\u001b[0m Start Epoch 988 ...\n"
     ]
    },
    {
     "name": "stderr",
     "output_type": "stream",
     "text": [
      "100%|#################################################################################|2000/2000[00:32<00:00,62.46it/s]"
     ]
    },
    {
     "name": "stdout",
     "output_type": "stream",
     "text": [
      "\u001b[32m[0215 14:22:36 @base.py:285]\u001b[0m Epoch 988 (global_step 1976000) finished, time:32 seconds.\n",
      "\u001b[32m[0215 14:22:36 @saver.py:79]\u001b[0m Model saved to ./output_TGAN/output/model\\model-1976000.\n"
     ]
    },
    {
     "name": "stderr",
     "output_type": "stream",
     "text": [
      "\n"
     ]
    },
    {
     "name": "stdout",
     "output_type": "stream",
     "text": [
      "\u001b[32m[0215 14:22:36 @monitor.py:467]\u001b[0m GAN_loss/discrim/accuracy_fake: 0.92\n",
      "\u001b[32m[0215 14:22:36 @monitor.py:467]\u001b[0m GAN_loss/discrim/accuracy_real: 0.115\n",
      "\u001b[32m[0215 14:22:36 @monitor.py:467]\u001b[0m GAN_loss/discrim/loss: 0.65147\n",
      "\u001b[32m[0215 14:22:36 @monitor.py:467]\u001b[0m GAN_loss/gen/final-g-loss: 1.0854\n",
      "\u001b[32m[0215 14:22:36 @monitor.py:467]\u001b[0m GAN_loss/gen/klloss: 0.081767\n",
      "\u001b[32m[0215 14:22:36 @monitor.py:467]\u001b[0m GAN_loss/gen/loss: 1.0036\n",
      "\u001b[32m[0215 14:22:36 @monitor.py:467]\u001b[0m QueueInput/queue_size: 50\n",
      "\u001b[32m[0215 14:22:36 @base.py:275]\u001b[0m Start Epoch 989 ...\n"
     ]
    },
    {
     "name": "stderr",
     "output_type": "stream",
     "text": [
      "100%|#################################################################################|2000/2000[00:32<00:00,61.20it/s]"
     ]
    },
    {
     "name": "stdout",
     "output_type": "stream",
     "text": [
      "\u001b[32m[0215 14:23:09 @base.py:285]\u001b[0m Epoch 989 (global_step 1978000) finished, time:32.7 seconds.\n",
      "\u001b[32m[0215 14:23:09 @saver.py:79]\u001b[0m Model saved to ./output_TGAN/output/model\\model-1978000.\n"
     ]
    },
    {
     "name": "stderr",
     "output_type": "stream",
     "text": [
      "\n"
     ]
    },
    {
     "name": "stdout",
     "output_type": "stream",
     "text": [
      "\u001b[32m[0215 14:23:09 @monitor.py:467]\u001b[0m GAN_loss/discrim/accuracy_fake: 0.94\n",
      "\u001b[32m[0215 14:23:09 @monitor.py:467]\u001b[0m GAN_loss/discrim/accuracy_real: 0.135\n",
      "\u001b[32m[0215 14:23:09 @monitor.py:467]\u001b[0m GAN_loss/discrim/loss: 0.6494\n",
      "\u001b[32m[0215 14:23:09 @monitor.py:467]\u001b[0m GAN_loss/gen/final-g-loss: 1.1078\n",
      "\u001b[32m[0215 14:23:09 @monitor.py:467]\u001b[0m GAN_loss/gen/klloss: 0.092852\n",
      "\u001b[32m[0215 14:23:09 @monitor.py:467]\u001b[0m GAN_loss/gen/loss: 1.015\n",
      "\u001b[32m[0215 14:23:09 @monitor.py:467]\u001b[0m QueueInput/queue_size: 50\n",
      "\u001b[32m[0215 14:23:09 @base.py:275]\u001b[0m Start Epoch 990 ...\n"
     ]
    },
    {
     "name": "stderr",
     "output_type": "stream",
     "text": [
      "100%|#################################################################################|2000/2000[00:32<00:00,61.23it/s]"
     ]
    },
    {
     "name": "stdout",
     "output_type": "stream",
     "text": [
      "\u001b[32m[0215 14:23:42 @base.py:285]\u001b[0m Epoch 990 (global_step 1980000) finished, time:32.7 seconds.\n",
      "\u001b[32m[0215 14:23:42 @saver.py:79]\u001b[0m Model saved to ./output_TGAN/output/model\\model-1980000.\n"
     ]
    },
    {
     "name": "stderr",
     "output_type": "stream",
     "text": [
      "\n"
     ]
    },
    {
     "name": "stdout",
     "output_type": "stream",
     "text": [
      "\u001b[32m[0215 14:23:42 @monitor.py:467]\u001b[0m GAN_loss/discrim/accuracy_fake: 0.93\n",
      "\u001b[32m[0215 14:23:42 @monitor.py:467]\u001b[0m GAN_loss/discrim/accuracy_real: 0.125\n",
      "\u001b[32m[0215 14:23:42 @monitor.py:467]\u001b[0m GAN_loss/discrim/loss: 0.64483\n",
      "\u001b[32m[0215 14:23:42 @monitor.py:467]\u001b[0m GAN_loss/gen/final-g-loss: 1.1184\n",
      "\u001b[32m[0215 14:23:42 @monitor.py:467]\u001b[0m GAN_loss/gen/klloss: 0.10659\n",
      "\u001b[32m[0215 14:23:42 @monitor.py:467]\u001b[0m GAN_loss/gen/loss: 1.0118\n",
      "\u001b[32m[0215 14:23:42 @monitor.py:467]\u001b[0m QueueInput/queue_size: 50\n",
      "\u001b[32m[0215 14:23:42 @base.py:275]\u001b[0m Start Epoch 991 ...\n"
     ]
    },
    {
     "name": "stderr",
     "output_type": "stream",
     "text": [
      "100%|#################################################################################|2000/2000[00:32<00:00,61.44it/s]"
     ]
    },
    {
     "name": "stdout",
     "output_type": "stream",
     "text": [
      "\u001b[32m[0215 14:24:15 @base.py:285]\u001b[0m Epoch 991 (global_step 1982000) finished, time:32.6 seconds.\n",
      "\u001b[32m[0215 14:24:15 @saver.py:79]\u001b[0m Model saved to ./output_TGAN/output/model\\model-1982000.\n"
     ]
    },
    {
     "name": "stderr",
     "output_type": "stream",
     "text": [
      "\n"
     ]
    },
    {
     "name": "stdout",
     "output_type": "stream",
     "text": [
      "\u001b[32m[0215 14:24:15 @monitor.py:467]\u001b[0m GAN_loss/discrim/accuracy_fake: 0.935\n",
      "\u001b[32m[0215 14:24:15 @monitor.py:467]\u001b[0m GAN_loss/discrim/accuracy_real: 0.115\n",
      "\u001b[32m[0215 14:24:15 @monitor.py:467]\u001b[0m GAN_loss/discrim/loss: 0.65224\n",
      "\u001b[32m[0215 14:24:15 @monitor.py:467]\u001b[0m GAN_loss/gen/final-g-loss: 1.1027\n",
      "\u001b[32m[0215 14:24:15 @monitor.py:467]\u001b[0m GAN_loss/gen/klloss: 0.090474\n",
      "\u001b[32m[0215 14:24:15 @monitor.py:467]\u001b[0m GAN_loss/gen/loss: 1.0122\n",
      "\u001b[32m[0215 14:24:15 @monitor.py:467]\u001b[0m QueueInput/queue_size: 50\n",
      "\u001b[32m[0215 14:24:15 @base.py:275]\u001b[0m Start Epoch 992 ...\n"
     ]
    },
    {
     "name": "stderr",
     "output_type": "stream",
     "text": [
      "100%|#################################################################################|2000/2000[00:32<00:00,62.42it/s]"
     ]
    },
    {
     "name": "stdout",
     "output_type": "stream",
     "text": [
      "\u001b[32m[0215 14:24:47 @base.py:285]\u001b[0m Epoch 992 (global_step 1984000) finished, time:32 seconds.\n",
      "\u001b[32m[0215 14:24:47 @saver.py:79]\u001b[0m Model saved to ./output_TGAN/output/model\\model-1984000.\n"
     ]
    },
    {
     "name": "stderr",
     "output_type": "stream",
     "text": [
      "\n"
     ]
    },
    {
     "name": "stdout",
     "output_type": "stream",
     "text": [
      "\u001b[32m[0215 14:24:47 @monitor.py:467]\u001b[0m GAN_loss/discrim/accuracy_fake: 0.955\n",
      "\u001b[32m[0215 14:24:47 @monitor.py:467]\u001b[0m GAN_loss/discrim/accuracy_real: 0.145\n",
      "\u001b[32m[0215 14:24:47 @monitor.py:467]\u001b[0m GAN_loss/discrim/loss: 0.64056\n",
      "\u001b[32m[0215 14:24:47 @monitor.py:467]\u001b[0m GAN_loss/gen/final-g-loss: 1.103\n",
      "\u001b[32m[0215 14:24:47 @monitor.py:467]\u001b[0m GAN_loss/gen/klloss: 0.07716\n",
      "\u001b[32m[0215 14:24:47 @monitor.py:467]\u001b[0m GAN_loss/gen/loss: 1.0259\n",
      "\u001b[32m[0215 14:24:47 @monitor.py:467]\u001b[0m QueueInput/queue_size: 50\n",
      "\u001b[32m[0215 14:24:47 @base.py:275]\u001b[0m Start Epoch 993 ...\n"
     ]
    },
    {
     "name": "stderr",
     "output_type": "stream",
     "text": [
      "100%|#################################################################################|2000/2000[00:31<00:00,63.24it/s]"
     ]
    },
    {
     "name": "stdout",
     "output_type": "stream",
     "text": [
      "\u001b[32m[0215 14:25:19 @base.py:285]\u001b[0m Epoch 993 (global_step 1986000) finished, time:31.6 seconds.\n",
      "\u001b[32m[0215 14:25:19 @saver.py:79]\u001b[0m Model saved to ./output_TGAN/output/model\\model-1986000.\n"
     ]
    },
    {
     "name": "stderr",
     "output_type": "stream",
     "text": [
      "\n"
     ]
    },
    {
     "name": "stdout",
     "output_type": "stream",
     "text": [
      "\u001b[32m[0215 14:25:19 @monitor.py:467]\u001b[0m GAN_loss/discrim/accuracy_fake: 0.95\n",
      "\u001b[32m[0215 14:25:19 @monitor.py:467]\u001b[0m GAN_loss/discrim/accuracy_real: 0.085\n",
      "\u001b[32m[0215 14:25:19 @monitor.py:467]\u001b[0m GAN_loss/discrim/loss: 0.65237\n",
      "\u001b[32m[0215 14:25:19 @monitor.py:467]\u001b[0m GAN_loss/gen/final-g-loss: 1.1301\n",
      "\u001b[32m[0215 14:25:19 @monitor.py:467]\u001b[0m GAN_loss/gen/klloss: 0.12134\n",
      "\u001b[32m[0215 14:25:19 @monitor.py:467]\u001b[0m GAN_loss/gen/loss: 1.0088\n",
      "\u001b[32m[0215 14:25:19 @monitor.py:467]\u001b[0m QueueInput/queue_size: 50\n",
      "\u001b[32m[0215 14:25:19 @base.py:275]\u001b[0m Start Epoch 994 ...\n"
     ]
    },
    {
     "name": "stderr",
     "output_type": "stream",
     "text": [
      "100%|#################################################################################|2000/2000[00:31<00:00,63.03it/s]"
     ]
    },
    {
     "name": "stdout",
     "output_type": "stream",
     "text": [
      "\u001b[32m[0215 14:25:51 @base.py:285]\u001b[0m Epoch 994 (global_step 1988000) finished, time:31.7 seconds.\n",
      "\u001b[32m[0215 14:25:51 @saver.py:79]\u001b[0m Model saved to ./output_TGAN/output/model\\model-1988000.\n"
     ]
    },
    {
     "name": "stderr",
     "output_type": "stream",
     "text": [
      "\n"
     ]
    },
    {
     "name": "stdout",
     "output_type": "stream",
     "text": [
      "\u001b[32m[0215 14:25:51 @monitor.py:467]\u001b[0m GAN_loss/discrim/accuracy_fake: 0.92\n",
      "\u001b[32m[0215 14:25:51 @monitor.py:467]\u001b[0m GAN_loss/discrim/accuracy_real: 0.15\n",
      "\u001b[32m[0215 14:25:51 @monitor.py:467]\u001b[0m GAN_loss/discrim/loss: 0.64283\n",
      "\u001b[32m[0215 14:25:51 @monitor.py:467]\u001b[0m GAN_loss/gen/final-g-loss: 1.1374\n",
      "\u001b[32m[0215 14:25:51 @monitor.py:467]\u001b[0m GAN_loss/gen/klloss: 0.13239\n",
      "\u001b[32m[0215 14:25:51 @monitor.py:467]\u001b[0m GAN_loss/gen/loss: 1.005\n",
      "\u001b[32m[0215 14:25:51 @monitor.py:467]\u001b[0m QueueInput/queue_size: 50\n",
      "\u001b[32m[0215 14:25:51 @base.py:275]\u001b[0m Start Epoch 995 ...\n"
     ]
    },
    {
     "name": "stderr",
     "output_type": "stream",
     "text": [
      "100%|#################################################################################|2000/2000[00:31<00:00,62.94it/s]"
     ]
    },
    {
     "name": "stdout",
     "output_type": "stream",
     "text": [
      "\u001b[32m[0215 14:26:23 @base.py:285]\u001b[0m Epoch 995 (global_step 1990000) finished, time:31.8 seconds.\n",
      "\u001b[32m[0215 14:26:23 @saver.py:79]\u001b[0m Model saved to ./output_TGAN/output/model\\model-1990000.\n",
      "\u001b[32m[0215 14:26:23 @monitor.py:467]\u001b[0m GAN_loss/discrim/accuracy_fake: 0.95\n"
     ]
    },
    {
     "name": "stderr",
     "output_type": "stream",
     "text": [
      "\n"
     ]
    },
    {
     "name": "stdout",
     "output_type": "stream",
     "text": [
      "\u001b[32m[0215 14:26:23 @monitor.py:467]\u001b[0m GAN_loss/discrim/accuracy_real: 0.145\n",
      "\u001b[32m[0215 14:26:23 @monitor.py:467]\u001b[0m GAN_loss/discrim/loss: 0.65481\n",
      "\u001b[32m[0215 14:26:23 @monitor.py:467]\u001b[0m GAN_loss/gen/final-g-loss: 1.136\n",
      "\u001b[32m[0215 14:26:23 @monitor.py:467]\u001b[0m GAN_loss/gen/klloss: 0.12379\n",
      "\u001b[32m[0215 14:26:23 @monitor.py:467]\u001b[0m GAN_loss/gen/loss: 1.0122\n",
      "\u001b[32m[0215 14:26:23 @monitor.py:467]\u001b[0m QueueInput/queue_size: 50\n",
      "\u001b[32m[0215 14:26:23 @base.py:275]\u001b[0m Start Epoch 996 ...\n"
     ]
    },
    {
     "name": "stderr",
     "output_type": "stream",
     "text": [
      "100%|#################################################################################|2000/2000[00:31<00:00,62.91it/s]"
     ]
    },
    {
     "name": "stdout",
     "output_type": "stream",
     "text": [
      "\u001b[32m[0215 14:26:55 @base.py:285]\u001b[0m Epoch 996 (global_step 1992000) finished, time:31.8 seconds.\n",
      "\u001b[32m[0215 14:26:55 @saver.py:79]\u001b[0m Model saved to ./output_TGAN/output/model\\model-1992000.\n"
     ]
    },
    {
     "name": "stderr",
     "output_type": "stream",
     "text": [
      "\n"
     ]
    },
    {
     "name": "stdout",
     "output_type": "stream",
     "text": [
      "\u001b[32m[0215 14:26:55 @monitor.py:467]\u001b[0m GAN_loss/discrim/accuracy_fake: 0.92\n",
      "\u001b[32m[0215 14:26:55 @monitor.py:467]\u001b[0m GAN_loss/discrim/accuracy_real: 0.155\n",
      "\u001b[32m[0215 14:26:55 @monitor.py:467]\u001b[0m GAN_loss/discrim/loss: 0.64479\n",
      "\u001b[32m[0215 14:26:55 @monitor.py:467]\u001b[0m GAN_loss/gen/final-g-loss: 1.1069\n",
      "\u001b[32m[0215 14:26:55 @monitor.py:467]\u001b[0m GAN_loss/gen/klloss: 0.1017\n",
      "\u001b[32m[0215 14:26:55 @monitor.py:467]\u001b[0m GAN_loss/gen/loss: 1.0052\n",
      "\u001b[32m[0215 14:26:55 @monitor.py:467]\u001b[0m QueueInput/queue_size: 50\n",
      "\u001b[32m[0215 14:26:55 @base.py:275]\u001b[0m Start Epoch 997 ...\n"
     ]
    },
    {
     "name": "stderr",
     "output_type": "stream",
     "text": [
      "100%|#################################################################################|2000/2000[00:31<00:00,63.78it/s]"
     ]
    },
    {
     "name": "stdout",
     "output_type": "stream",
     "text": [
      "\u001b[32m[0215 14:27:26 @base.py:285]\u001b[0m Epoch 997 (global_step 1994000) finished, time:31.4 seconds.\n",
      "\u001b[32m[0215 14:27:26 @saver.py:79]\u001b[0m Model saved to ./output_TGAN/output/model\\model-1994000.\n"
     ]
    },
    {
     "name": "stderr",
     "output_type": "stream",
     "text": [
      "\n"
     ]
    },
    {
     "name": "stdout",
     "output_type": "stream",
     "text": [
      "\u001b[32m[0215 14:27:26 @monitor.py:467]\u001b[0m GAN_loss/discrim/accuracy_fake: 0.935\n",
      "\u001b[32m[0215 14:27:26 @monitor.py:467]\u001b[0m GAN_loss/discrim/accuracy_real: 0.13\n",
      "\u001b[32m[0215 14:27:26 @monitor.py:467]\u001b[0m GAN_loss/discrim/loss: 0.65112\n",
      "\u001b[32m[0215 14:27:26 @monitor.py:467]\u001b[0m GAN_loss/gen/final-g-loss: 1.1098\n",
      "\u001b[32m[0215 14:27:26 @monitor.py:467]\u001b[0m GAN_loss/gen/klloss: 0.10462\n",
      "\u001b[32m[0215 14:27:26 @monitor.py:467]\u001b[0m GAN_loss/gen/loss: 1.0051\n",
      "\u001b[32m[0215 14:27:26 @monitor.py:467]\u001b[0m QueueInput/queue_size: 50\n",
      "\u001b[32m[0215 14:27:26 @base.py:275]\u001b[0m Start Epoch 998 ...\n"
     ]
    },
    {
     "name": "stderr",
     "output_type": "stream",
     "text": [
      "100%|#################################################################################|2000/2000[00:31<00:00,63.49it/s]"
     ]
    },
    {
     "name": "stdout",
     "output_type": "stream",
     "text": [
      "\u001b[32m[0215 14:27:58 @base.py:285]\u001b[0m Epoch 998 (global_step 1996000) finished, time:31.5 seconds.\n",
      "\u001b[32m[0215 14:27:58 @saver.py:79]\u001b[0m Model saved to ./output_TGAN/output/model\\model-1996000.\n",
      "\u001b[32m[0215 14:27:58 @monitor.py:467]\u001b[0m GAN_loss/discrim/accuracy_fake: 0.94\n"
     ]
    },
    {
     "name": "stderr",
     "output_type": "stream",
     "text": [
      "\n"
     ]
    },
    {
     "name": "stdout",
     "output_type": "stream",
     "text": [
      "\u001b[32m[0215 14:27:58 @monitor.py:467]\u001b[0m GAN_loss/discrim/accuracy_real: 0.12\n",
      "\u001b[32m[0215 14:27:58 @monitor.py:467]\u001b[0m GAN_loss/discrim/loss: 0.64761\n",
      "\u001b[32m[0215 14:27:58 @monitor.py:467]\u001b[0m GAN_loss/gen/final-g-loss: 1.0934\n",
      "\u001b[32m[0215 14:27:58 @monitor.py:467]\u001b[0m GAN_loss/gen/klloss: 0.090211\n",
      "\u001b[32m[0215 14:27:58 @monitor.py:467]\u001b[0m GAN_loss/gen/loss: 1.0031\n",
      "\u001b[32m[0215 14:27:58 @monitor.py:467]\u001b[0m QueueInput/queue_size: 50\n",
      "\u001b[32m[0215 14:27:58 @base.py:275]\u001b[0m Start Epoch 999 ...\n"
     ]
    },
    {
     "name": "stderr",
     "output_type": "stream",
     "text": [
      "100%|#################################################################################|2000/2000[00:32<00:00,62.23it/s]"
     ]
    },
    {
     "name": "stdout",
     "output_type": "stream",
     "text": [
      "\u001b[32m[0215 14:28:30 @base.py:285]\u001b[0m Epoch 999 (global_step 1998000) finished, time:32.1 seconds.\n",
      "\u001b[32m[0215 14:28:30 @saver.py:79]\u001b[0m Model saved to ./output_TGAN/output/model\\model-1998000.\n",
      "\u001b[32m[0215 14:28:30 @monitor.py:467]\u001b[0m GAN_loss/discrim/accuracy_fake: 0.935\n"
     ]
    },
    {
     "name": "stderr",
     "output_type": "stream",
     "text": [
      "\n"
     ]
    },
    {
     "name": "stdout",
     "output_type": "stream",
     "text": [
      "\u001b[32m[0215 14:28:30 @monitor.py:467]\u001b[0m GAN_loss/discrim/accuracy_real: 0.1\n",
      "\u001b[32m[0215 14:28:30 @monitor.py:467]\u001b[0m GAN_loss/discrim/loss: 0.648\n",
      "\u001b[32m[0215 14:28:30 @monitor.py:467]\u001b[0m GAN_loss/gen/final-g-loss: 1.1005\n",
      "\u001b[32m[0215 14:28:30 @monitor.py:467]\u001b[0m GAN_loss/gen/klloss: 0.074721\n",
      "\u001b[32m[0215 14:28:30 @monitor.py:467]\u001b[0m GAN_loss/gen/loss: 1.0258\n",
      "\u001b[32m[0215 14:28:30 @monitor.py:467]\u001b[0m QueueInput/queue_size: 50\n",
      "\u001b[32m[0215 14:28:30 @base.py:275]\u001b[0m Start Epoch 1000 ...\n"
     ]
    },
    {
     "name": "stderr",
     "output_type": "stream",
     "text": [
      "100%|#################################################################################|2000/2000[00:32<00:00,61.83it/s]"
     ]
    },
    {
     "name": "stdout",
     "output_type": "stream",
     "text": [
      "\u001b[32m[0215 14:29:03 @base.py:285]\u001b[0m Epoch 1000 (global_step 2000000) finished, time:32.3 seconds.\n",
      "\u001b[32m[0215 14:29:03 @saver.py:79]\u001b[0m Model saved to ./output_TGAN/output/model\\model-2000000.\n"
     ]
    },
    {
     "name": "stderr",
     "output_type": "stream",
     "text": [
      "\n"
     ]
    },
    {
     "name": "stdout",
     "output_type": "stream",
     "text": [
      "\u001b[32m[0215 14:29:03 @monitor.py:467]\u001b[0m GAN_loss/discrim/accuracy_fake: 0.88\n",
      "\u001b[32m[0215 14:29:03 @monitor.py:467]\u001b[0m GAN_loss/discrim/accuracy_real: 0.125\n",
      "\u001b[32m[0215 14:29:03 @monitor.py:467]\u001b[0m GAN_loss/discrim/loss: 0.64068\n",
      "\u001b[32m[0215 14:29:03 @monitor.py:467]\u001b[0m GAN_loss/gen/final-g-loss: 1.0876\n",
      "\u001b[32m[0215 14:29:03 @monitor.py:467]\u001b[0m GAN_loss/gen/klloss: 0.069724\n",
      "\u001b[32m[0215 14:29:03 @monitor.py:467]\u001b[0m GAN_loss/gen/loss: 1.0179\n",
      "\u001b[32m[0215 14:29:03 @monitor.py:467]\u001b[0m QueueInput/queue_size: 50\n",
      "\u001b[32m[0215 14:29:03 @base.py:289]\u001b[0m Training has finished!\n",
      "WARNING:tensorflow:From D:\\Users\\glede\\anaconda3\\envs\\py37\\lib\\site-packages\\tensorpack\\predict\\config.py:101: The name tf.train.ChiefSessionCreator is deprecated. Please use tf.compat.v1.train.ChiefSessionCreator instead.\n",
      "\n",
      "\u001b[32m[0215 14:29:04 @input_source.py:178]\u001b[0m EnqueueThread QueueInput/input_queue Exited.\n",
      "WARNING:tensorflow:From D:\\Users\\glede\\anaconda3\\envs\\py37\\lib\\site-packages\\tensorpack\\tfutils\\collection.py:45: The name tf.get_collection_ref is deprecated. Please use tf.compat.v1.get_collection_ref instead.\n",
      "\n",
      "\u001b[32m[0215 14:29:04 @collection.py:146]\u001b[0m New collections created in tower : tf.GraphKeys.REGULARIZATION_LOSSES\n",
      "\u001b[32m[0215 14:29:04 @collection.py:165]\u001b[0m These collections were modified but restored in : (tf.GraphKeys.SUMMARIES: 0->2)\n",
      "\u001b[32m[0215 14:29:05 @sessinit.py:87]\u001b[0m \u001b[5m\u001b[31mWRN\u001b[0m The following variables are in the checkpoint, but not found in the graph: global_step, optimize/beta1_power, optimize/beta2_power\n",
      "INFO:tensorflow:Graph was finalized.\n",
      "INFO:tensorflow:Running local_init_op.\n",
      "INFO:tensorflow:Done running local_init_op.\n",
      "\u001b[32m[0215 14:29:05 @sessinit.py:114]\u001b[0m Restoring checkpoint from ./output_TGAN/output/model\\model-2000000 ...\n",
      "INFO:tensorflow:Restoring parameters from ./output_TGAN/output/model\\model-2000000\n"
     ]
    }
   ],
   "source": [
    "tgan.fit(df)"
   ]
  },
  {
   "cell_type": "code",
   "execution_count": 10,
   "metadata": {},
   "outputs": [
    {
     "name": "stdout",
     "output_type": "stream",
     "text": [
      "\u001b[32m[0215 14:29:21 @model.py:813]\u001b[0m Model saved successfully.\n"
     ]
    }
   ],
   "source": [
    "tgan.save(output_folder + 'trained', force=True)"
   ]
  },
  {
   "cell_type": "code",
   "execution_count": null,
   "metadata": {},
   "outputs": [],
   "source": []
  }
 ],
 "metadata": {
  "kernelspec": {
   "display_name": "Python 3",
   "language": "python",
   "name": "python3"
  },
  "language_info": {
   "codemirror_mode": {
    "name": "ipython",
    "version": 3
   },
   "file_extension": ".py",
   "mimetype": "text/x-python",
   "name": "python",
   "nbconvert_exporter": "python",
   "pygments_lexer": "ipython3",
   "version": "3.7.9"
  }
 },
 "nbformat": 4,
 "nbformat_minor": 2
}
