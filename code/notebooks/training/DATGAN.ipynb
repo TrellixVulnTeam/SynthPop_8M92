{
 "cells": [
  {
   "cell_type": "code",
   "execution_count": 1,
   "metadata": {},
   "outputs": [],
   "source": [
    "import os\n",
    "os.chdir('../..')"
   ]
  },
  {
   "cell_type": "code",
   "execution_count": 2,
   "metadata": {},
   "outputs": [
    {
     "name": "stdout",
     "output_type": "stream",
     "text": [
      "3.7.9\n"
     ]
    }
   ],
   "source": [
    "from platform import python_version\n",
    "print(python_version())"
   ]
  },
  {
   "cell_type": "code",
   "execution_count": 3,
   "metadata": {},
   "outputs": [
    {
     "name": "stdout",
     "output_type": "stream",
     "text": [
      "WARNING:tensorflow:From D:\\Users\\glede\\anaconda3\\envs\\py37\\lib\\site-packages\\tensorpack\\callbacks\\hooks.py:17: The name tf.train.SessionRunHook is deprecated. Please use tf.estimator.SessionRunHook instead.\n",
      "\n",
      "WARNING:tensorflow:From D:\\Users\\glede\\anaconda3\\envs\\py37\\lib\\site-packages\\tensorpack\\tfutils\\optimizer.py:18: The name tf.train.Optimizer is deprecated. Please use tf.compat.v1.train.Optimizer instead.\n",
      "\n",
      "WARNING:tensorflow:From D:\\Users\\glede\\anaconda3\\envs\\py37\\lib\\site-packages\\tensorpack\\tfutils\\sesscreate.py:20: The name tf.train.SessionCreator is deprecated. Please use tf.compat.v1.train.SessionCreator instead.\n",
      "\n"
     ]
    }
   ],
   "source": [
    "import numpy as np\n",
    "import pandas as pd\n",
    "\n",
    "import tensorflow as tf\n",
    "\n",
    "import matplotlib.pyplot as plt\n",
    "\n",
    "from modules.datgan import DATGAN\n",
    "#from modules.datgan_preLSTM.model import DATGAN\n",
    "\n",
    "#from modules.datgan_no_att.model import DATGAN\n",
    "import networkx as nx\n",
    "import json\n",
    "import beepy\n",
    "\n",
    "# For the Python notebook\n",
    "%matplotlib inline\n",
    "%reload_ext autoreload\n",
    "%autoreload 2"
   ]
  },
  {
   "cell_type": "code",
   "execution_count": 4,
   "metadata": {},
   "outputs": [],
   "source": [
    "dataset = 'Chicago'"
   ]
  },
  {
   "cell_type": "code",
   "execution_count": 5,
   "metadata": {},
   "outputs": [],
   "source": [
    "df = pd.read_csv('../data/{}/data.csv'.format(dataset), index_col=False)"
   ]
  },
  {
   "cell_type": "code",
   "execution_count": 6,
   "metadata": {},
   "outputs": [
    {
     "data": {
      "text/html": [
       "<div>\n",
       "<style scoped>\n",
       "    .dataframe tbody tr th:only-of-type {\n",
       "        vertical-align: middle;\n",
       "    }\n",
       "\n",
       "    .dataframe tbody tr th {\n",
       "        vertical-align: top;\n",
       "    }\n",
       "\n",
       "    .dataframe thead th {\n",
       "        text-align: right;\n",
       "    }\n",
       "</style>\n",
       "<table border=\"1\" class=\"dataframe\">\n",
       "  <thead>\n",
       "    <tr style=\"text-align: right;\">\n",
       "      <th></th>\n",
       "      <th>choice</th>\n",
       "      <th>travel_dow</th>\n",
       "      <th>trip_purpose</th>\n",
       "      <th>distance</th>\n",
       "      <th>hh_vehicles</th>\n",
       "      <th>hh_size</th>\n",
       "      <th>hh_bikes</th>\n",
       "      <th>hh_descr</th>\n",
       "      <th>hh_income</th>\n",
       "      <th>gender</th>\n",
       "      <th>age</th>\n",
       "      <th>license</th>\n",
       "      <th>education_level</th>\n",
       "      <th>work_status</th>\n",
       "      <th>departure_time</th>\n",
       "    </tr>\n",
       "  </thead>\n",
       "  <tbody>\n",
       "    <tr>\n",
       "      <th>0</th>\n",
       "      <td>drive</td>\n",
       "      <td>7</td>\n",
       "      <td>HOME_OTHER</td>\n",
       "      <td>23.42579</td>\n",
       "      <td>2</td>\n",
       "      <td>2</td>\n",
       "      <td>0</td>\n",
       "      <td>2</td>\n",
       "      <td>6</td>\n",
       "      <td>1</td>\n",
       "      <td>66</td>\n",
       "      <td>1.0</td>\n",
       "      <td>6</td>\n",
       "      <td>FTE</td>\n",
       "      <td>9.333333</td>\n",
       "    </tr>\n",
       "    <tr>\n",
       "      <th>1</th>\n",
       "      <td>drive</td>\n",
       "      <td>7</td>\n",
       "      <td>OTHER</td>\n",
       "      <td>1.71259</td>\n",
       "      <td>2</td>\n",
       "      <td>2</td>\n",
       "      <td>0</td>\n",
       "      <td>2</td>\n",
       "      <td>6</td>\n",
       "      <td>1</td>\n",
       "      <td>66</td>\n",
       "      <td>1.0</td>\n",
       "      <td>6</td>\n",
       "      <td>FTE</td>\n",
       "      <td>12.083333</td>\n",
       "    </tr>\n",
       "    <tr>\n",
       "      <th>2</th>\n",
       "      <td>drive</td>\n",
       "      <td>7</td>\n",
       "      <td>HOME_OTHER</td>\n",
       "      <td>21.77887</td>\n",
       "      <td>2</td>\n",
       "      <td>2</td>\n",
       "      <td>0</td>\n",
       "      <td>2</td>\n",
       "      <td>6</td>\n",
       "      <td>1</td>\n",
       "      <td>66</td>\n",
       "      <td>1.0</td>\n",
       "      <td>6</td>\n",
       "      <td>FTE</td>\n",
       "      <td>15.500000</td>\n",
       "    </tr>\n",
       "    <tr>\n",
       "      <th>3</th>\n",
       "      <td>drive</td>\n",
       "      <td>7</td>\n",
       "      <td>SHOPPING</td>\n",
       "      <td>2.02603</td>\n",
       "      <td>2</td>\n",
       "      <td>2</td>\n",
       "      <td>0</td>\n",
       "      <td>2</td>\n",
       "      <td>6</td>\n",
       "      <td>1</td>\n",
       "      <td>66</td>\n",
       "      <td>1.0</td>\n",
       "      <td>6</td>\n",
       "      <td>FTE</td>\n",
       "      <td>17.500000</td>\n",
       "    </tr>\n",
       "    <tr>\n",
       "      <th>4</th>\n",
       "      <td>drive</td>\n",
       "      <td>7</td>\n",
       "      <td>SHOPPING</td>\n",
       "      <td>0.87691</td>\n",
       "      <td>2</td>\n",
       "      <td>2</td>\n",
       "      <td>0</td>\n",
       "      <td>2</td>\n",
       "      <td>6</td>\n",
       "      <td>1</td>\n",
       "      <td>66</td>\n",
       "      <td>1.0</td>\n",
       "      <td>6</td>\n",
       "      <td>FTE</td>\n",
       "      <td>18.250000</td>\n",
       "    </tr>\n",
       "  </tbody>\n",
       "</table>\n",
       "</div>"
      ],
      "text/plain": [
       "  choice  travel_dow trip_purpose  distance  hh_vehicles  hh_size  hh_bikes  \\\n",
       "0  drive           7   HOME_OTHER  23.42579            2        2         0   \n",
       "1  drive           7        OTHER   1.71259            2        2         0   \n",
       "2  drive           7   HOME_OTHER  21.77887            2        2         0   \n",
       "3  drive           7     SHOPPING   2.02603            2        2         0   \n",
       "4  drive           7     SHOPPING   0.87691            2        2         0   \n",
       "\n",
       "   hh_descr  hh_income  gender  age  license  education_level work_status  \\\n",
       "0         2          6       1   66      1.0                6         FTE   \n",
       "1         2          6       1   66      1.0                6         FTE   \n",
       "2         2          6       1   66      1.0                6         FTE   \n",
       "3         2          6       1   66      1.0                6         FTE   \n",
       "4         2          6       1   66      1.0                6         FTE   \n",
       "\n",
       "   departure_time  \n",
       "0        9.333333  \n",
       "1       12.083333  \n",
       "2       15.500000  \n",
       "3       17.500000  \n",
       "4       18.250000  "
      ]
     },
     "execution_count": 6,
     "metadata": {},
     "output_type": "execute_result"
    }
   ],
   "source": [
    "df.head()"
   ]
  },
  {
   "cell_type": "code",
   "execution_count": 7,
   "metadata": {},
   "outputs": [],
   "source": [
    "if dataset is 'Chicago':\n",
    "    continuous_columns = [\"distance\", \"age\", \"departure_time\"]\n",
    "elif dataset is 'LPMC':\n",
    "    continuous_columns = ['start_time_linear', 'age', 'distance', 'dur_walking', 'dur_cycling', 'dur_pt_access', 'dur_pt_rail', 'dur_pt_bus', 'dur_pt_int', 'dur_driving', 'cost_transit', 'cost_driving_fuel', 'driving_traffic_percent']"
   ]
  },
  {
   "cell_type": "code",
   "execution_count": 8,
   "metadata": {},
   "outputs": [],
   "source": [
    "# personalised graph\n",
    "graph = nx.DiGraph()\n",
    "\n",
    "if dataset is 'Chicago':\n",
    "    graph.add_edges_from([\n",
    "        (\"age\", \"license\"),\n",
    "        (\"age\", \"education_level\"),\n",
    "        (\"gender\", \"work_status\"),\n",
    "        (\"education_level\", \"work_status\"),\n",
    "        (\"education_level\", \"hh_income\"),\n",
    "        (\"work_status\", \"hh_income\"),\n",
    "        (\"hh_income\", \"hh_descr\"),\n",
    "        (\"hh_income\", \"hh_size\"),\n",
    "        (\"hh_size\", \"hh_vehicles\"),\n",
    "        (\"hh_size\", \"hh_bikes\"),\n",
    "        (\"work_status\", \"trip_purpose\"),\n",
    "        (\"trip_purpose\", \"departure_time\"),\n",
    "        (\"trip_purpose\", \"distance\"),\n",
    "        (\"travel_dow\", \"choice\"),\n",
    "        (\"distance\", \"choice\"),\n",
    "        (\"departure_time\", \"choice\"),\n",
    "        (\"hh_vehicles\", \"choice\"),\n",
    "        (\"hh_bikes\", \"choice\"),\n",
    "        (\"license\", \"choice\"),\n",
    "        # Non necessary links\n",
    "        (\"education_level\", \"hh_size\"),\n",
    "        (\"work_status\", \"hh_descr\"),\n",
    "        (\"work_status\", \"hh_size\"),\n",
    "        (\"hh_income\", \"hh_bikes\"),\n",
    "        (\"hh_income\", \"hh_vehicles\"),\n",
    "        (\"trip_purpose\", \"choice\")\n",
    "    ])\n",
    "elif dataset is 'LPMC':\n",
    "    graph.add_edges_from([\n",
    "        (\"travel_year\", \"survey_year\"),\n",
    "        (\"travel_date\", \"day_of_week\"),\n",
    "        (\"day_of_week\", \"purpose\"),\n",
    "        (\"purpose\", \"start_time_linear\"),\n",
    "        (\"purpose\", \"cost_driving_con_charge\"),\n",
    "        (\"purpose\", \"distance\"),\n",
    "        (\"day_of_week\", \"driving_traffic_percent\"),\n",
    "        (\"day_of_week\", \"cost_driving_con_charge\"),\n",
    "        (\"start_time_linear\", \"driving_traffic_percent\"),\n",
    "        (\"start_time_linear\", \"cost_driving_con_charge\"),\n",
    "        (\"driving_traffic_percent\", \"cost_driving_con_charge\"),\n",
    "        (\"female\", \"driving_license\"),\n",
    "        (\"age\", \"bus_scale\"),\n",
    "        (\"age\", \"car_ownership\"),\n",
    "        (\"age\", \"driving_license\"),\n",
    "        (\"age\", \"faretype\"),\n",
    "        (\"driving_license\", \"car_ownership\"),\n",
    "        (\"car_ownership\", \"fueltype\"),\n",
    "        (\"fueltype\", \"cost_driving_con_charge\"),\n",
    "        (\"fueltype\", \"cost_driving_fuel\"),\n",
    "        (\"distance\", \"cost_driving_fuel\"),\n",
    "        (\"distance\", \"dur_driving\"),\n",
    "        (\"distance\", \"dur_walking\"),\n",
    "        (\"distance\", \"dur_cycling\"),\n",
    "        (\"distance\", \"dur_pt_access\"),\n",
    "        (\"distance\", \"dur_pt_rail\"),\n",
    "        (\"distance\", \"dur_pt_bus\"),\n",
    "        (\"distance\", \"dur_pt_int\"),\n",
    "        (\"dur_pt_bus\", \"cost_transit\"),\n",
    "        (\"dur_pt_rail\", \"cost_transit\"),\n",
    "        (\"pt_n_interchanges\", \"dur_pt_int\"),\n",
    "        (\"pt_n_interchanges\", \"cost_transit\"),\n",
    "        (\"faretype\", \"cost_transit\"),\n",
    "        (\"bus_scale\", \"cost_transit\"),\n",
    "        (\"car_ownership\", \"travel_mode\"),\n",
    "        (\"age\", \"travel_mode\"),\n",
    "        (\"cost_driving_con_charge\", \"travel_mode\"),\n",
    "        (\"driving_traffic_percent\", \"travel_mode\"),\n",
    "        (\"female\", \"travel_mode\"),\n",
    "        (\"purpose\", \"travel_mode\"),\n",
    "        (\"cost_transit\", \"travel_mode\"),\n",
    "        (\"cost_driving_fuel\", \"travel_mode\"),\n",
    "        (\"dur_driving\", \"travel_mode\"),\n",
    "        (\"dur_walking\", \"travel_mode\"),\n",
    "        (\"dur_cycling\", \"travel_mode\"),\n",
    "        (\"dur_pt_access\", \"travel_mode\"),\n",
    "        (\"dur_pt_rail\", \"travel_mode\"),\n",
    "        (\"dur_pt_bus\", \"travel_mode\"),\n",
    "        (\"dur_pt_int\", \"travel_mode\")\n",
    "    ])\n",
    "    graph.add_node(\"travel_month\")"
   ]
  },
  {
   "cell_type": "code",
   "execution_count": 9,
   "metadata": {},
   "outputs": [],
   "source": [
    "output_folder = '../output/' + dataset + '/DATGAN_99/'"
   ]
  },
  {
   "cell_type": "code",
   "execution_count": 10,
   "metadata": {},
   "outputs": [],
   "source": [
    "datgan = DATGAN(continuous_columns, max_epoch=100, batch_size=500, output=output_folder, gpu=0)"
   ]
  },
  {
   "cell_type": "code",
   "execution_count": 11,
   "metadata": {
    "scrolled": true
   },
   "outputs": [
    {
     "name": "stdout",
     "output_type": "stream",
     "text": [
      "\u001b[32m[1021 13:43:43 @DATGAN.py:155]\u001b[0m Found preprocessed data\n",
      "\u001b[32m[1021 13:43:43 @DATGAN.py:163]\u001b[0m Preprocessed data have been loaded!\n",
      "WARNING:tensorflow:From D:\\Users\\glede\\anaconda3\\envs\\py37\\lib\\site-packages\\tensorpack\\graph_builder\\model_desc.py:29: The name tf.get_default_graph is deprecated. Please use tf.compat.v1.get_default_graph instead.\n",
      "\n",
      "WARNING:tensorflow:From D:\\Users\\glede\\anaconda3\\envs\\py37\\lib\\site-packages\\tensorpack\\graph_builder\\model_desc.py:39: The name tf.placeholder is deprecated. Please use tf.compat.v1.placeholder instead.\n",
      "\n",
      "WARNING:tensorflow:From D:\\Users\\glede\\anaconda3\\envs\\py37\\lib\\site-packages\\tensorpack\\input_source\\input_source.py:219: The name tf.FIFOQueue is deprecated. Please use tf.queue.FIFOQueue instead.\n",
      "\n",
      "\u001b[32m[1021 13:43:43 @input_source.py:222]\u001b[0m Setting up the queue 'QueueInput/input_queue' for CPU prefetching ...\n",
      "WARNING:tensorflow:From D:\\Users\\glede\\anaconda3\\envs\\py37\\lib\\site-packages\\tensorpack\\tfutils\\summary.py:237: The name tf.get_variable_scope is deprecated. Please use tf.compat.v1.get_variable_scope instead.\n",
      "\n",
      "WARNING:tensorflow:From D:\\Users\\glede\\anaconda3\\envs\\py37\\lib\\site-packages\\tensorpack\\tfutils\\summary.py:27: The name tf.variable_scope is deprecated. Please use tf.compat.v1.variable_scope instead.\n",
      "\n",
      "WARNING:tensorflow:From D:\\Users\\glede\\anaconda3\\envs\\py37\\lib\\site-packages\\tensorpack\\tfutils\\summary.py:254: The name tf.get_variable is deprecated. Please use tf.compat.v1.get_variable instead.\n",
      "\n",
      "WARNING:tensorflow:From D:\\Users\\glede\\anaconda3\\envs\\py37\\lib\\site-packages\\tensorpack\\tfutils\\summary.py:264: The name tf.summary.scalar is deprecated. Please use tf.compat.v1.summary.scalar instead.\n",
      "\n",
      "WARNING:tensorflow:From D:\\Users\\glede\\anaconda3\\envs\\py37\\lib\\site-packages\\tensorpack\\tfutils\\collection.py:105: The name tf.GraphKeys is deprecated. Please use tf.compat.v1.GraphKeys instead.\n",
      "\n",
      "WARNING:tensorflow:From D:\\Users\\glede\\anaconda3\\envs\\py37\\lib\\site-packages\\tensorpack\\tfutils\\collection.py:33: The name tf.get_collection is deprecated. Please use tf.compat.v1.get_collection instead.\n",
      "\n",
      "WARNING:tensorflow:From C:\\Users\\glede\\Documents\\EPFL\\PhD\\SynthPop\\code\\modules\\datgan\\DATGANModel.py:563: The name tf.random_normal is deprecated. Please use tf.random.normal instead.\n",
      "\n",
      "WARNING:tensorflow:From C:\\Users\\glede\\Documents\\EPFL\\PhD\\SynthPop\\code\\modules\\datgan\\DATGANModel.py:566: The name tf.placeholder_with_default is deprecated. Please use tf.compat.v1.placeholder_with_default instead.\n",
      "\n",
      "WARNING:tensorflow:From C:\\Users\\glede\\Documents\\EPFL\\PhD\\SynthPop\\code\\modules\\datgan\\DATGANModel.py:192: LSTMCell.__init__ (from tensorflow.python.ops.rnn_cell_impl) is deprecated and will be removed in a future version.\n",
      "Instructions for updating:\n",
      "This class is equivalent as tf.keras.layers.LSTMCell, and will be replaced by that in Tensorflow 2.0.\n",
      "\u001b[32m[1021 13:43:43 @DATGANModel.py:209]\u001b[0m \u001b[91mCreating cell for age (in-edges: 0)\n",
      "WARNING:tensorflow:From D:\\Users\\glede\\anaconda3\\envs\\py37\\lib\\site-packages\\tensorflow_core\\python\\ops\\rnn_cell_impl.py:958: Layer.add_variable (from tensorflow.python.keras.engine.base_layer) is deprecated and will be removed in a future version.\n",
      "Instructions for updating:\n",
      "Please use `layer.add_weight` method instead.\n",
      "WARNING:tensorflow:From D:\\Users\\glede\\anaconda3\\envs\\py37\\lib\\site-packages\\tensorflow_core\\python\\ops\\rnn_cell_impl.py:962: calling Zeros.__init__ (from tensorflow.python.ops.init_ops) with dtype is deprecated and will be removed in a future version.\n",
      "Instructions for updating:\n",
      "Call initializer instance with the dtype argument instead of passing it to the constructor\n",
      "\u001b[32m[1021 13:43:43 @registry.py:126]\u001b[0m gen/LSTM/00/FC input: [500, 100]\n",
      "WARNING:tensorflow:From D:\\Users\\glede\\anaconda3\\envs\\py37\\lib\\site-packages\\tensorpack\\models\\fc.py:57: The name tf.layers.Dense is deprecated. Please use tf.compat.v1.layers.Dense instead.\n",
      "\n",
      "WARNING:tensorflow:From D:\\Users\\glede\\anaconda3\\envs\\py37\\lib\\site-packages\\tensorpack\\models\\fc.py:67: Layer.apply (from tensorflow.python.keras.engine.base_layer) is deprecated and will be removed in a future version.\n",
      "Instructions for updating:\n",
      "Please use `layer.__call__` method instead.\n",
      "\u001b[32m[1021 13:43:43 @registry.py:134]\u001b[0m gen/LSTM/00/FC output: [500, 100]\n",
      "\u001b[32m[1021 13:43:43 @registry.py:126]\u001b[0m gen/LSTM/00/FC2_val input: [500, 100]\n",
      "\u001b[32m[1021 13:43:43 @registry.py:134]\u001b[0m gen/LSTM/00/FC2_val output: [500, 6]\n",
      "\u001b[32m[1021 13:43:43 @registry.py:126]\u001b[0m gen/LSTM/00/FC2_prob input: [500, 100]\n",
      "\u001b[32m[1021 13:43:43 @registry.py:134]\u001b[0m gen/LSTM/00/FC2_prob output: [500, 6]\n",
      "\u001b[32m[1021 13:43:43 @registry.py:126]\u001b[0m gen/LSTM/00/FC3 input: [500, 12]\n",
      "\u001b[32m[1021 13:43:43 @registry.py:134]\u001b[0m gen/LSTM/00/FC3 output: [500, 100]\n",
      "\u001b[32m[1021 13:43:43 @DATGANModel.py:209]\u001b[0m \u001b[91mCreating cell for gender (in-edges: 0)\n",
      "\u001b[32m[1021 13:43:43 @registry.py:126]\u001b[0m gen/LSTM/01/FC input: [500, 100]\n",
      "\u001b[32m[1021 13:43:43 @registry.py:134]\u001b[0m gen/LSTM/01/FC output: [500, 100]\n",
      "\u001b[32m[1021 13:43:43 @registry.py:126]\u001b[0m gen/LSTM/01/FC2 input: [500, 100]\n",
      "\u001b[32m[1021 13:43:43 @registry.py:134]\u001b[0m gen/LSTM/01/FC2 output: [500, 2]\n",
      "\u001b[32m[1021 13:43:43 @registry.py:126]\u001b[0m gen/LSTM/01/FC3 input: [500, 2]\n",
      "\u001b[32m[1021 13:43:43 @registry.py:134]\u001b[0m gen/LSTM/01/FC3 output: [500, 100]\n",
      "\u001b[32m[1021 13:43:43 @DATGANModel.py:209]\u001b[0m \u001b[91mCreating cell for travel_dow (in-edges: 0)\n",
      "\u001b[32m[1021 13:43:43 @registry.py:126]\u001b[0m gen/LSTM/02/FC input: [500, 100]\n",
      "\u001b[32m[1021 13:43:43 @registry.py:134]\u001b[0m gen/LSTM/02/FC output: [500, 100]\n",
      "\u001b[32m[1021 13:43:43 @registry.py:126]\u001b[0m gen/LSTM/02/FC2 input: [500, 100]\n",
      "\u001b[32m[1021 13:43:43 @registry.py:134]\u001b[0m gen/LSTM/02/FC2 output: [500, 7]\n",
      "\u001b[32m[1021 13:43:43 @registry.py:126]\u001b[0m gen/LSTM/02/FC3 input: [500, 7]\n",
      "\u001b[32m[1021 13:43:43 @registry.py:134]\u001b[0m gen/LSTM/02/FC3 output: [500, 100]\n",
      "\u001b[32m[1021 13:43:43 @DATGANModel.py:209]\u001b[0m \u001b[91mCreating cell for license (in-edges: 1)\n",
      "\u001b[32m[1021 13:43:43 @registry.py:126]\u001b[0m gen/LSTM/03/FC input: [500, 100]\n",
      "\u001b[32m[1021 13:43:43 @registry.py:134]\u001b[0m gen/LSTM/03/FC output: [500, 100]\n",
      "\u001b[32m[1021 13:43:43 @registry.py:126]\u001b[0m gen/LSTM/03/FC2 input: [500, 100]\n",
      "\u001b[32m[1021 13:43:43 @registry.py:134]\u001b[0m gen/LSTM/03/FC2 output: [500, 2]\n",
      "\u001b[32m[1021 13:43:43 @registry.py:126]\u001b[0m gen/LSTM/03/FC3 input: [500, 2]\n",
      "\u001b[32m[1021 13:43:43 @registry.py:134]\u001b[0m gen/LSTM/03/FC3 output: [500, 100]\n",
      "\u001b[32m[1021 13:43:43 @DATGANModel.py:209]\u001b[0m \u001b[91mCreating cell for education_level (in-edges: 1)\n",
      "\u001b[32m[1021 13:43:43 @registry.py:126]\u001b[0m gen/LSTM/04/FC input: [500, 100]\n",
      "\u001b[32m[1021 13:43:43 @registry.py:134]\u001b[0m gen/LSTM/04/FC output: [500, 100]\n",
      "\u001b[32m[1021 13:43:43 @registry.py:126]\u001b[0m gen/LSTM/04/FC2 input: [500, 100]\n",
      "\u001b[32m[1021 13:43:43 @registry.py:134]\u001b[0m gen/LSTM/04/FC2 output: [500, 6]\n",
      "\u001b[32m[1021 13:43:43 @registry.py:126]\u001b[0m gen/LSTM/04/FC3 input: [500, 6]\n",
      "\u001b[32m[1021 13:43:43 @registry.py:134]\u001b[0m gen/LSTM/04/FC3 output: [500, 100]\n",
      "\u001b[32m[1021 13:43:43 @DATGANModel.py:209]\u001b[0m \u001b[91mCreating cell for work_status (in-edges: 2)\n",
      "\u001b[32m[1021 13:43:43 @registry.py:126]\u001b[0m gen/LSTM/05/FC_inputs input: [500, 200]\n",
      "\u001b[32m[1021 13:43:43 @registry.py:134]\u001b[0m gen/LSTM/05/FC_inputs output: [500, 100]\n",
      "\u001b[32m[1021 13:43:43 @registry.py:126]\u001b[0m gen/LSTM/05/FC_attentions input: [500, 200]\n",
      "\u001b[32m[1021 13:43:43 @registry.py:134]\u001b[0m gen/LSTM/05/FC_attentions output: [500, 100]\n",
      "\u001b[32m[1021 13:43:43 @registry.py:126]\u001b[0m gen/LSTM/05/FC_lstm_state_0 input: [500, 200]\n",
      "\u001b[32m[1021 13:43:43 @registry.py:134]\u001b[0m gen/LSTM/05/FC_lstm_state_0 output: [500, 100]\n",
      "\u001b[32m[1021 13:43:43 @registry.py:126]\u001b[0m gen/LSTM/05/FC_lstm_state_1 input: [500, 200]\n",
      "\u001b[32m[1021 13:43:43 @registry.py:134]\u001b[0m gen/LSTM/05/FC_lstm_state_1 output: [500, 100]\n",
      "WARNING:tensorflow:From C:\\Users\\glede\\Documents\\EPFL\\PhD\\SynthPop\\code\\modules\\datgan\\DATGANModel.py:305: The name tf.nn.rnn_cell.LSTMStateTuple is deprecated. Please use tf.compat.v1.nn.rnn_cell.LSTMStateTuple instead.\n",
      "\n",
      "\u001b[32m[1021 13:43:43 @registry.py:126]\u001b[0m gen/LSTM/06/FC input: [500, 100]\n",
      "\u001b[32m[1021 13:43:43 @registry.py:134]\u001b[0m gen/LSTM/06/FC output: [500, 100]\n",
      "\u001b[32m[1021 13:43:43 @registry.py:126]\u001b[0m gen/LSTM/06/FC2 input: [500, 100]\n",
      "\u001b[32m[1021 13:43:43 @registry.py:134]\u001b[0m gen/LSTM/06/FC2 output: [500, 8]\n"
     ]
    },
    {
     "name": "stdout",
     "output_type": "stream",
     "text": [
      "\u001b[32m[1021 13:43:43 @registry.py:126]\u001b[0m gen/LSTM/06/FC3 input: [500, 8]\n",
      "\u001b[32m[1021 13:43:43 @registry.py:134]\u001b[0m gen/LSTM/06/FC3 output: [500, 100]\n",
      "\u001b[32m[1021 13:43:43 @DATGANModel.py:209]\u001b[0m \u001b[91mCreating cell for hh_income (in-edges: 2)\n",
      "\u001b[32m[1021 13:43:43 @registry.py:126]\u001b[0m gen/LSTM/07/FC_inputs input: [500, 200]\n",
      "\u001b[32m[1021 13:43:43 @registry.py:134]\u001b[0m gen/LSTM/07/FC_inputs output: [500, 100]\n",
      "\u001b[32m[1021 13:43:43 @registry.py:126]\u001b[0m gen/LSTM/07/FC_attentions input: [500, 200]\n",
      "\u001b[32m[1021 13:43:43 @registry.py:134]\u001b[0m gen/LSTM/07/FC_attentions output: [500, 100]\n",
      "\u001b[32m[1021 13:43:43 @registry.py:126]\u001b[0m gen/LSTM/07/FC_lstm_state_0 input: [500, 200]\n",
      "\u001b[32m[1021 13:43:43 @registry.py:134]\u001b[0m gen/LSTM/07/FC_lstm_state_0 output: [500, 100]\n",
      "\u001b[32m[1021 13:43:43 @registry.py:126]\u001b[0m gen/LSTM/07/FC_lstm_state_1 input: [500, 200]\n",
      "\u001b[32m[1021 13:43:43 @registry.py:134]\u001b[0m gen/LSTM/07/FC_lstm_state_1 output: [500, 100]\n",
      "\u001b[32m[1021 13:43:43 @registry.py:126]\u001b[0m gen/LSTM/08/FC input: [500, 100]\n",
      "\u001b[32m[1021 13:43:43 @registry.py:134]\u001b[0m gen/LSTM/08/FC output: [500, 100]\n",
      "\u001b[32m[1021 13:43:43 @registry.py:126]\u001b[0m gen/LSTM/08/FC2 input: [500, 100]\n",
      "\u001b[32m[1021 13:43:43 @registry.py:134]\u001b[0m gen/LSTM/08/FC2 output: [500, 7]\n",
      "\u001b[32m[1021 13:43:43 @registry.py:126]\u001b[0m gen/LSTM/08/FC3 input: [500, 7]\n",
      "\u001b[32m[1021 13:43:43 @registry.py:134]\u001b[0m gen/LSTM/08/FC3 output: [500, 100]\n",
      "\u001b[32m[1021 13:43:43 @DATGANModel.py:209]\u001b[0m \u001b[91mCreating cell for trip_purpose (in-edges: 1)\n",
      "\u001b[32m[1021 13:43:43 @registry.py:126]\u001b[0m gen/LSTM/09/FC input: [500, 100]\n",
      "\u001b[32m[1021 13:43:43 @registry.py:134]\u001b[0m gen/LSTM/09/FC output: [500, 100]\n",
      "\u001b[32m[1021 13:43:43 @registry.py:126]\u001b[0m gen/LSTM/09/FC2 input: [500, 100]\n",
      "\u001b[32m[1021 13:43:43 @registry.py:134]\u001b[0m gen/LSTM/09/FC2 output: [500, 7]\n",
      "\u001b[32m[1021 13:43:43 @registry.py:126]\u001b[0m gen/LSTM/09/FC3 input: [500, 7]\n",
      "\u001b[32m[1021 13:43:43 @registry.py:134]\u001b[0m gen/LSTM/09/FC3 output: [500, 100]\n",
      "\u001b[32m[1021 13:43:43 @DATGANModel.py:209]\u001b[0m \u001b[91mCreating cell for hh_descr (in-edges: 2)\n",
      "\u001b[32m[1021 13:43:43 @registry.py:126]\u001b[0m gen/LSTM/10/FC_inputs input: [500, 200]\n",
      "\u001b[32m[1021 13:43:43 @registry.py:134]\u001b[0m gen/LSTM/10/FC_inputs output: [500, 100]\n",
      "\u001b[32m[1021 13:43:43 @registry.py:126]\u001b[0m gen/LSTM/10/FC_attentions input: [500, 200]\n",
      "\u001b[32m[1021 13:43:43 @registry.py:134]\u001b[0m gen/LSTM/10/FC_attentions output: [500, 100]\n",
      "\u001b[32m[1021 13:43:43 @registry.py:126]\u001b[0m gen/LSTM/10/FC_lstm_state_0 input: [500, 200]\n",
      "\u001b[32m[1021 13:43:43 @registry.py:134]\u001b[0m gen/LSTM/10/FC_lstm_state_0 output: [500, 100]\n",
      "\u001b[32m[1021 13:43:43 @registry.py:126]\u001b[0m gen/LSTM/10/FC_lstm_state_1 input: [500, 200]\n",
      "\u001b[32m[1021 13:43:43 @registry.py:134]\u001b[0m gen/LSTM/10/FC_lstm_state_1 output: [500, 100]\n",
      "\u001b[32m[1021 13:43:43 @registry.py:126]\u001b[0m gen/LSTM/11/FC input: [500, 100]\n",
      "\u001b[32m[1021 13:43:43 @registry.py:134]\u001b[0m gen/LSTM/11/FC output: [500, 100]\n",
      "\u001b[32m[1021 13:43:43 @registry.py:126]\u001b[0m gen/LSTM/11/FC2 input: [500, 100]\n",
      "\u001b[32m[1021 13:43:43 @registry.py:134]\u001b[0m gen/LSTM/11/FC2 output: [500, 3]\n",
      "\u001b[32m[1021 13:43:43 @registry.py:126]\u001b[0m gen/LSTM/11/FC3 input: [500, 3]\n",
      "\u001b[32m[1021 13:43:43 @registry.py:134]\u001b[0m gen/LSTM/11/FC3 output: [500, 100]\n",
      "\u001b[32m[1021 13:43:43 @DATGANModel.py:209]\u001b[0m \u001b[91mCreating cell for hh_size (in-edges: 3)\n",
      "\u001b[32m[1021 13:43:43 @registry.py:126]\u001b[0m gen/LSTM/12/FC_inputs input: [500, 300]\n",
      "\u001b[32m[1021 13:43:43 @registry.py:134]\u001b[0m gen/LSTM/12/FC_inputs output: [500, 100]\n",
      "\u001b[32m[1021 13:43:43 @registry.py:126]\u001b[0m gen/LSTM/12/FC_attentions input: [500, 300]\n",
      "\u001b[32m[1021 13:43:43 @registry.py:134]\u001b[0m gen/LSTM/12/FC_attentions output: [500, 100]\n",
      "\u001b[32m[1021 13:43:43 @registry.py:126]\u001b[0m gen/LSTM/12/FC_lstm_state_0 input: [500, 300]\n",
      "\u001b[32m[1021 13:43:43 @registry.py:134]\u001b[0m gen/LSTM/12/FC_lstm_state_0 output: [500, 100]\n",
      "\u001b[32m[1021 13:43:43 @registry.py:126]\u001b[0m gen/LSTM/12/FC_lstm_state_1 input: [500, 300]\n",
      "\u001b[32m[1021 13:43:44 @registry.py:134]\u001b[0m gen/LSTM/12/FC_lstm_state_1 output: [500, 100]\n",
      "\u001b[32m[1021 13:43:44 @registry.py:126]\u001b[0m gen/LSTM/13/FC input: [500, 100]\n",
      "\u001b[32m[1021 13:43:44 @registry.py:134]\u001b[0m gen/LSTM/13/FC output: [500, 100]\n",
      "\u001b[32m[1021 13:43:44 @registry.py:126]\u001b[0m gen/LSTM/13/FC2 input: [500, 100]\n",
      "\u001b[32m[1021 13:43:44 @registry.py:134]\u001b[0m gen/LSTM/13/FC2 output: [500, 8]\n",
      "\u001b[32m[1021 13:43:44 @registry.py:126]\u001b[0m gen/LSTM/13/FC3 input: [500, 8]\n",
      "\u001b[32m[1021 13:43:44 @registry.py:134]\u001b[0m gen/LSTM/13/FC3 output: [500, 100]\n",
      "\u001b[32m[1021 13:43:44 @DATGANModel.py:209]\u001b[0m \u001b[91mCreating cell for departure_time (in-edges: 1)\n",
      "\u001b[32m[1021 13:43:44 @registry.py:126]\u001b[0m gen/LSTM/14/FC input: [500, 100]\n",
      "\u001b[32m[1021 13:43:44 @registry.py:134]\u001b[0m gen/LSTM/14/FC output: [500, 100]\n",
      "\u001b[32m[1021 13:43:44 @registry.py:126]\u001b[0m gen/LSTM/14/FC2_val input: [500, 100]\n",
      "\u001b[32m[1021 13:43:44 @registry.py:134]\u001b[0m gen/LSTM/14/FC2_val output: [500, 8]\n",
      "\u001b[32m[1021 13:43:44 @registry.py:126]\u001b[0m gen/LSTM/14/FC2_prob input: [500, 100]\n",
      "\u001b[32m[1021 13:43:44 @registry.py:134]\u001b[0m gen/LSTM/14/FC2_prob output: [500, 8]\n",
      "\u001b[32m[1021 13:43:44 @registry.py:126]\u001b[0m gen/LSTM/14/FC3 input: [500, 16]\n",
      "\u001b[32m[1021 13:43:44 @registry.py:134]\u001b[0m gen/LSTM/14/FC3 output: [500, 100]\n",
      "\u001b[32m[1021 13:43:44 @DATGANModel.py:209]\u001b[0m \u001b[91mCreating cell for distance (in-edges: 1)\n",
      "\u001b[32m[1021 13:43:44 @registry.py:126]\u001b[0m gen/LSTM/15/FC input: [500, 100]\n",
      "\u001b[32m[1021 13:43:44 @registry.py:134]\u001b[0m gen/LSTM/15/FC output: [500, 100]\n",
      "\u001b[32m[1021 13:43:44 @registry.py:126]\u001b[0m gen/LSTM/15/FC2_val input: [500, 100]\n",
      "\u001b[32m[1021 13:43:44 @registry.py:134]\u001b[0m gen/LSTM/15/FC2_val output: [500, 10]\n",
      "\u001b[32m[1021 13:43:44 @registry.py:126]\u001b[0m gen/LSTM/15/FC2_prob input: [500, 100]\n",
      "\u001b[32m[1021 13:43:44 @registry.py:134]\u001b[0m gen/LSTM/15/FC2_prob output: [500, 10]\n",
      "\u001b[32m[1021 13:43:44 @registry.py:126]\u001b[0m gen/LSTM/15/FC3 input: [500, 20]\n",
      "\u001b[32m[1021 13:43:44 @registry.py:134]\u001b[0m gen/LSTM/15/FC3 output: [500, 100]\n",
      "\u001b[32m[1021 13:43:44 @DATGANModel.py:209]\u001b[0m \u001b[91mCreating cell for hh_vehicles (in-edges: 2)\n",
      "\u001b[32m[1021 13:43:44 @registry.py:126]\u001b[0m gen/LSTM/16/FC_inputs input: [500, 200]\n",
      "\u001b[32m[1021 13:43:44 @registry.py:134]\u001b[0m gen/LSTM/16/FC_inputs output: [500, 100]\n",
      "\u001b[32m[1021 13:43:44 @registry.py:126]\u001b[0m gen/LSTM/16/FC_attentions input: [500, 200]\n",
      "\u001b[32m[1021 13:43:44 @registry.py:134]\u001b[0m gen/LSTM/16/FC_attentions output: [500, 100]\n",
      "\u001b[32m[1021 13:43:44 @registry.py:126]\u001b[0m gen/LSTM/16/FC_lstm_state_0 input: [500, 200]\n",
      "\u001b[32m[1021 13:43:44 @registry.py:134]\u001b[0m gen/LSTM/16/FC_lstm_state_0 output: [500, 100]\n",
      "\u001b[32m[1021 13:43:44 @registry.py:126]\u001b[0m gen/LSTM/16/FC_lstm_state_1 input: [500, 200]\n",
      "\u001b[32m[1021 13:43:44 @registry.py:134]\u001b[0m gen/LSTM/16/FC_lstm_state_1 output: [500, 100]\n",
      "\u001b[32m[1021 13:43:44 @registry.py:126]\u001b[0m gen/LSTM/17/FC input: [500, 100]\n",
      "\u001b[32m[1021 13:43:44 @registry.py:134]\u001b[0m gen/LSTM/17/FC output: [500, 100]\n",
      "\u001b[32m[1021 13:43:44 @registry.py:126]\u001b[0m gen/LSTM/17/FC2 input: [500, 100]\n",
      "\u001b[32m[1021 13:43:44 @registry.py:134]\u001b[0m gen/LSTM/17/FC2 output: [500, 9]\n",
      "\u001b[32m[1021 13:43:44 @registry.py:126]\u001b[0m gen/LSTM/17/FC3 input: [500, 9]\n",
      "\u001b[32m[1021 13:43:44 @registry.py:134]\u001b[0m gen/LSTM/17/FC3 output: [500, 100]\n",
      "\u001b[32m[1021 13:43:44 @DATGANModel.py:209]\u001b[0m \u001b[91mCreating cell for hh_bikes (in-edges: 2)\n",
      "\u001b[32m[1021 13:43:44 @registry.py:126]\u001b[0m gen/LSTM/18/FC_inputs input: [500, 200]\n",
      "\u001b[32m[1021 13:43:44 @registry.py:134]\u001b[0m gen/LSTM/18/FC_inputs output: [500, 100]\n",
      "\u001b[32m[1021 13:43:44 @registry.py:126]\u001b[0m gen/LSTM/18/FC_attentions input: [500, 200]\n",
      "\u001b[32m[1021 13:43:44 @registry.py:134]\u001b[0m gen/LSTM/18/FC_attentions output: [500, 100]\n",
      "\u001b[32m[1021 13:43:44 @registry.py:126]\u001b[0m gen/LSTM/18/FC_lstm_state_0 input: [500, 200]\n",
      "\u001b[32m[1021 13:43:44 @registry.py:134]\u001b[0m gen/LSTM/18/FC_lstm_state_0 output: [500, 100]\n",
      "\u001b[32m[1021 13:43:44 @registry.py:126]\u001b[0m gen/LSTM/18/FC_lstm_state_1 input: [500, 200]\n",
      "\u001b[32m[1021 13:43:44 @registry.py:134]\u001b[0m gen/LSTM/18/FC_lstm_state_1 output: [500, 100]\n",
      "\u001b[32m[1021 13:43:44 @registry.py:126]\u001b[0m gen/LSTM/19/FC input: [500, 100]\n",
      "\u001b[32m[1021 13:43:44 @registry.py:134]\u001b[0m gen/LSTM/19/FC output: [500, 100]\n",
      "\u001b[32m[1021 13:43:44 @registry.py:126]\u001b[0m gen/LSTM/19/FC2 input: [500, 100]\n",
      "\u001b[32m[1021 13:43:44 @registry.py:134]\u001b[0m gen/LSTM/19/FC2 output: [500, 8]\n",
      "\u001b[32m[1021 13:43:44 @registry.py:126]\u001b[0m gen/LSTM/19/FC3 input: [500, 8]\n"
     ]
    },
    {
     "name": "stdout",
     "output_type": "stream",
     "text": [
      "\u001b[32m[1021 13:43:44 @registry.py:134]\u001b[0m gen/LSTM/19/FC3 output: [500, 100]\n",
      "\u001b[32m[1021 13:43:44 @DATGANModel.py:209]\u001b[0m \u001b[91mCreating cell for choice (in-edges: 7)\n",
      "\u001b[32m[1021 13:43:44 @registry.py:126]\u001b[0m gen/LSTM/20/FC_inputs input: [500, 700]\n",
      "\u001b[32m[1021 13:43:44 @registry.py:134]\u001b[0m gen/LSTM/20/FC_inputs output: [500, 100]\n",
      "\u001b[32m[1021 13:43:44 @registry.py:126]\u001b[0m gen/LSTM/20/FC_attentions input: [500, 700]\n",
      "\u001b[32m[1021 13:43:44 @registry.py:134]\u001b[0m gen/LSTM/20/FC_attentions output: [500, 100]\n",
      "\u001b[32m[1021 13:43:44 @registry.py:126]\u001b[0m gen/LSTM/20/FC_lstm_state_0 input: [500, 700]\n",
      "\u001b[32m[1021 13:43:44 @registry.py:134]\u001b[0m gen/LSTM/20/FC_lstm_state_0 output: [500, 100]\n",
      "\u001b[32m[1021 13:43:44 @registry.py:126]\u001b[0m gen/LSTM/20/FC_lstm_state_1 input: [500, 700]\n",
      "\u001b[32m[1021 13:43:44 @registry.py:134]\u001b[0m gen/LSTM/20/FC_lstm_state_1 output: [500, 100]\n",
      "\u001b[32m[1021 13:43:44 @registry.py:126]\u001b[0m gen/LSTM/21/FC input: [500, 100]\n",
      "\u001b[32m[1021 13:43:44 @registry.py:134]\u001b[0m gen/LSTM/21/FC output: [500, 100]\n",
      "\u001b[32m[1021 13:43:44 @registry.py:126]\u001b[0m gen/LSTM/21/FC2 input: [500, 100]\n",
      "\u001b[32m[1021 13:43:44 @registry.py:134]\u001b[0m gen/LSTM/21/FC2 output: [500, 5]\n",
      "\u001b[32m[1021 13:43:44 @registry.py:126]\u001b[0m gen/LSTM/21/FC3 input: [500, 5]\n",
      "\u001b[32m[1021 13:43:44 @registry.py:134]\u001b[0m gen/LSTM/21/FC3 output: [500, 100]\n",
      "WARNING:tensorflow:From C:\\Users\\glede\\Documents\\EPFL\\PhD\\SynthPop\\code\\modules\\datgan\\DATGANModel.py:603: The name tf.random_uniform is deprecated. Please use tf.random.uniform instead.\n",
      "\n",
      "WARNING:tensorflow:From C:\\Users\\glede\\Documents\\EPFL\\PhD\\SynthPop\\code\\modules\\datgan\\DATGANModel.py:527: The name tf.log is deprecated. Please use tf.math.log instead.\n",
      "\n",
      "\u001b[32m[1021 13:43:44 @registry.py:126]\u001b[0m discrim/dis_fc0/fc input: [500, 120]\n",
      "\u001b[32m[1021 13:43:44 @registry.py:134]\u001b[0m discrim/dis_fc0/fc output: [500, 100]\n",
      "\u001b[32m[1021 13:43:44 @registry.py:126]\u001b[0m discrim/dis_fc0/fc_diversity input: [500, 100]\n",
      "\u001b[32m[1021 13:43:44 @registry.py:134]\u001b[0m discrim/dis_fc0/fc_diversity output: [500, 100]\n",
      "WARNING:tensorflow:From D:\\Users\\glede\\anaconda3\\envs\\py37\\lib\\site-packages\\tensorpack\\models\\batch_norm.py:204: The name tf.layers.BatchNormalization is deprecated. Please use tf.compat.v1.layers.BatchNormalization instead.\n",
      "\n",
      "WARNING:tensorflow:From D:\\Users\\glede\\anaconda3\\envs\\py37\\lib\\site-packages\\tensorpack\\models\\batch_norm.py:212: The name tf.add_to_collection is deprecated. Please use tf.compat.v1.add_to_collection instead.\n",
      "\n",
      "\u001b[32m[1021 13:43:44 @registry.py:126]\u001b[0m discrim/dis_fc_top input: [500, 110]\n",
      "\u001b[32m[1021 13:43:44 @registry.py:134]\u001b[0m discrim/dis_fc_top output: [500, 1]\n",
      "WARNING:tensorflow:From C:\\Users\\glede\\Documents\\EPFL\\PhD\\SynthPop\\code\\modules\\datgan\\DATGANModel.py:657: The name tf.summary.histogram is deprecated. Please use tf.compat.v1.summary.histogram instead.\n",
      "\n",
      "WARNING:tensorflow:From D:\\Users\\glede\\anaconda3\\envs\\py37\\lib\\site-packages\\tensorflow_core\\python\\ops\\nn_impl.py:183: where (from tensorflow.python.ops.array_ops) is deprecated and will be removed in a future version.\n",
      "Instructions for updating:\n",
      "Use tf.where in 2.0, which has the same broadcast rule as np.where\n",
      "WARNING:tensorflow:\n",
      "The TensorFlow contrib module will not be included in TensorFlow 2.0.\n",
      "For more information, please see:\n",
      "  * https://github.com/tensorflow/community/blob/master/rfcs/20180907-contrib-sunset.md\n",
      "  * https://github.com/tensorflow/addons\n",
      "  * https://github.com/tensorflow/io (for I/O related ops)\n",
      "If you depend on functionality not listed there, please file an issue.\n",
      "\n",
      "WARNING:tensorflow:From C:\\Users\\glede\\Documents\\EPFL\\PhD\\SynthPop\\code\\modules\\datgan\\DATGANModel.py:704: The name tf.train.AdamOptimizer is deprecated. Please use tf.compat.v1.train.AdamOptimizer instead.\n",
      "\n",
      "\u001b[32m[1021 13:43:48 @DATGAN.py:200]\u001b[0m Found an already existing model. Loading it!\n",
      "WARNING:tensorflow:From D:\\Users\\glede\\anaconda3\\envs\\py37\\lib\\site-packages\\tensorpack\\tfutils\\varmanip.py:178: The name tf.gfile.Exists is deprecated. Please use tf.io.gfile.exists instead.\n",
      "\n",
      "\u001b[32m[1021 13:43:48 @logger.py:83]\u001b[0m Existing log file '../output/Chicago/DATGAN_99/logs\\log.log' backuped to '../output/Chicago/DATGAN_99/logs\\log.log.1021-134348'\n",
      "\u001b[32m[1021 13:43:48 @logger.py:90]\u001b[0m Argv: D:\\Users\\glede\\anaconda3\\envs\\py37\\lib\\site-packages\\ipykernel_launcher.py -f C:\\Users\\glede\\AppData\\Roaming\\jupyter\\runtime\\kernel-a19f2e42-06da-46dc-8bb6-e29dc8e06887.json\n",
      "WARNING:tensorflow:From D:\\Users\\glede\\anaconda3\\envs\\py37\\lib\\site-packages\\tensorpack\\callbacks\\saver.py:43: The name tf.gfile.IsDirectory is deprecated. Please use tf.io.gfile.isdir instead.\n",
      "\n",
      "WARNING:tensorflow:From D:\\Users\\glede\\anaconda3\\envs\\py37\\lib\\site-packages\\tensorpack\\tfutils\\common.py:41: The name tf.ConfigProto is deprecated. Please use tf.compat.v1.ConfigProto instead.\n",
      "\n",
      "\u001b[32m[1021 13:43:48 @model_utils.py:67]\u001b[0m \u001b[36mList of Trainable Variables: \n",
      "\u001b[0mname                              shape         #elements\n",
      "--------------------------------  ----------  -----------\n",
      "gen/LSTM/go_age:0                 [1, 100]            100\n",
      "gen/LSTM/lstm_cell/kernel:0       [500, 400]       200000\n",
      "gen/LSTM/lstm_cell/bias:0         [400]               400\n",
      "gen/LSTM/00/FC/W:0                [100, 100]        10000\n",
      "gen/LSTM/00/FC/b:0                [100]               100\n",
      "gen/LSTM/00/FC2_val/W:0           [100, 6]            600\n",
      "gen/LSTM/00/FC2_val/b:0           [6]                   6\n",
      "gen/LSTM/00/FC2_prob/W:0          [100, 6]            600\n",
      "gen/LSTM/00/FC2_prob/b:0          [6]                   6\n",
      "gen/LSTM/00/FC3/W:0               [12, 100]          1200\n",
      "gen/LSTM/00/FC3/b:0               [100]               100\n",
      "gen/LSTM/00/attw:0                [1, 1, 1]             1\n",
      "gen/LSTM/go_gender:0              [1, 100]            100\n",
      "gen/LSTM/01/FC/W:0                [100, 100]        10000\n",
      "gen/LSTM/01/FC/b:0                [100]               100\n",
      "gen/LSTM/01/FC2/W:0               [100, 2]            200\n",
      "gen/LSTM/01/FC2/b:0               [2]                   2\n",
      "gen/LSTM/01/FC3/W:0               [2, 100]            200\n",
      "gen/LSTM/01/FC3/b:0               [100]               100\n",
      "gen/LSTM/01/attw:0                [1, 1, 1]             1\n",
      "gen/LSTM/go_travel_dow:0          [1, 100]            100\n",
      "gen/LSTM/02/FC/W:0                [100, 100]        10000\n",
      "gen/LSTM/02/FC/b:0                [100]               100\n",
      "gen/LSTM/02/FC2/W:0               [100, 7]            700\n",
      "gen/LSTM/02/FC2/b:0               [7]                   7\n",
      "gen/LSTM/02/FC3/W:0               [7, 100]            700\n",
      "gen/LSTM/02/FC3/b:0               [100]               100\n",
      "gen/LSTM/02/attw:0                [1, 1, 1]             1\n",
      "gen/LSTM/03/FC/W:0                [100, 100]        10000\n",
      "gen/LSTM/03/FC/b:0                [100]               100\n",
      "gen/LSTM/03/FC2/W:0               [100, 2]            200\n",
      "gen/LSTM/03/FC2/b:0               [2]                   2\n",
      "gen/LSTM/03/FC3/W:0               [2, 100]            200\n",
      "gen/LSTM/03/FC3/b:0               [100]               100\n",
      "gen/LSTM/03/attw:0                [2, 1, 1]             2\n",
      "gen/LSTM/04/FC/W:0                [100, 100]        10000\n",
      "gen/LSTM/04/FC/b:0                [100]               100\n",
      "gen/LSTM/04/FC2/W:0               [100, 6]            600\n",
      "gen/LSTM/04/FC2/b:0               [6]                   6\n",
      "gen/LSTM/04/FC3/W:0               [6, 100]            600\n",
      "gen/LSTM/04/FC3/b:0               [100]               100\n",
      "gen/LSTM/04/attw:0                [2, 1, 1]             2\n",
      "gen/LSTM/05/FC_inputs/W:0         [200, 100]        20000\n",
      "gen/LSTM/05/FC_inputs/b:0         [100]               100\n",
      "gen/LSTM/05/FC_attentions/W:0     [200, 100]        20000\n",
      "gen/LSTM/05/FC_attentions/b:0     [100]               100\n",
      "gen/LSTM/05/FC_lstm_state_0/W:0   [200, 100]        20000\n",
      "gen/LSTM/05/FC_lstm_state_0/b:0   [100]               100\n",
      "gen/LSTM/05/FC_lstm_state_1/W:0   [200, 100]        20000\n",
      "gen/LSTM/05/FC_lstm_state_1/b:0   [100]               100\n",
      "gen/LSTM/06/FC/W:0                [100, 100]        10000\n",
      "gen/LSTM/06/FC/b:0                [100]               100\n",
      "gen/LSTM/06/FC2/W:0               [100, 8]            800\n",
      "gen/LSTM/06/FC2/b:0               [8]                   8\n",
      "gen/LSTM/06/FC3/W:0               [8, 100]            800\n",
      "gen/LSTM/06/FC3/b:0               [100]               100\n",
      "gen/LSTM/06/attw:0                [4, 1, 1]             4\n",
      "gen/LSTM/07/FC_inputs/W:0         [200, 100]        20000\n",
      "gen/LSTM/07/FC_inputs/b:0         [100]               100\n",
      "gen/LSTM/07/FC_attentions/W:0     [200, 100]        20000\n",
      "gen/LSTM/07/FC_attentions/b:0     [100]               100\n",
      "gen/LSTM/07/FC_lstm_state_0/W:0   [200, 100]        20000\n",
      "gen/LSTM/07/FC_lstm_state_0/b:0   [100]               100\n",
      "gen/LSTM/07/FC_lstm_state_1/W:0   [200, 100]        20000\n",
      "gen/LSTM/07/FC_lstm_state_1/b:0   [100]               100\n",
      "gen/LSTM/08/FC/W:0                [100, 100]        10000\n",
      "gen/LSTM/08/FC/b:0                [100]               100\n",
      "gen/LSTM/08/FC2/W:0               [100, 7]            700\n",
      "gen/LSTM/08/FC2/b:0               [7]                   7\n",
      "gen/LSTM/08/FC3/W:0               [7, 100]            700\n",
      "gen/LSTM/08/FC3/b:0               [100]               100\n",
      "gen/LSTM/08/attw:0                [5, 1, 1]             5\n",
      "gen/LSTM/09/FC/W:0                [100, 100]        10000\n",
      "gen/LSTM/09/FC/b:0                [100]               100\n",
      "gen/LSTM/09/FC2/W:0               [100, 7]            700\n",
      "gen/LSTM/09/FC2/b:0               [7]                   7\n",
      "gen/LSTM/09/FC3/W:0               [7, 100]            700\n",
      "gen/LSTM/09/FC3/b:0               [100]               100\n",
      "gen/LSTM/09/attw:0                [5, 1, 1]             5\n",
      "gen/LSTM/10/FC_inputs/W:0         [200, 100]        20000\n",
      "gen/LSTM/10/FC_inputs/b:0         [100]               100\n",
      "gen/LSTM/10/FC_attentions/W:0     [200, 100]        20000\n",
      "gen/LSTM/10/FC_attentions/b:0     [100]               100\n",
      "gen/LSTM/10/FC_lstm_state_0/W:0   [200, 100]        20000\n",
      "gen/LSTM/10/FC_lstm_state_0/b:0   [100]               100\n",
      "gen/LSTM/10/FC_lstm_state_1/W:0   [200, 100]        20000\n",
      "gen/LSTM/10/FC_lstm_state_1/b:0   [100]               100\n",
      "gen/LSTM/11/FC/W:0                [100, 100]        10000\n",
      "gen/LSTM/11/FC/b:0                [100]               100\n",
      "gen/LSTM/11/FC2/W:0               [100, 3]            300\n",
      "gen/LSTM/11/FC2/b:0               [3]                   3\n",
      "gen/LSTM/11/FC3/W:0               [3, 100]            300\n",
      "gen/LSTM/11/FC3/b:0               [100]               100\n",
      "gen/LSTM/11/attw:0                [6, 1, 1]             6\n",
      "gen/LSTM/12/FC_inputs/W:0         [300, 100]        30000\n",
      "gen/LSTM/12/FC_inputs/b:0         [100]               100\n",
      "gen/LSTM/12/FC_attentions/W:0     [300, 100]        30000\n",
      "gen/LSTM/12/FC_attentions/b:0     [100]               100\n",
      "gen/LSTM/12/FC_lstm_state_0/W:0   [300, 100]        30000\n",
      "gen/LSTM/12/FC_lstm_state_0/b:0   [100]               100\n",
      "gen/LSTM/12/FC_lstm_state_1/W:0   [300, 100]        30000\n",
      "gen/LSTM/12/FC_lstm_state_1/b:0   [100]               100\n",
      "gen/LSTM/13/FC/W:0                [100, 100]        10000\n",
      "gen/LSTM/13/FC/b:0                [100]               100\n",
      "gen/LSTM/13/FC2/W:0               [100, 8]            800\n",
      "gen/LSTM/13/FC2/b:0               [8]                   8\n",
      "gen/LSTM/13/FC3/W:0               [8, 100]            800\n",
      "gen/LSTM/13/FC3/b:0               [100]               100\n",
      "gen/LSTM/13/attw:0                [6, 1, 1]             6\n",
      "gen/LSTM/14/FC/W:0                [100, 100]        10000\n",
      "gen/LSTM/14/FC/b:0                [100]               100\n",
      "gen/LSTM/14/FC2_val/W:0           [100, 8]            800\n",
      "gen/LSTM/14/FC2_val/b:0           [8]                   8\n",
      "gen/LSTM/14/FC2_prob/W:0          [100, 8]            800\n",
      "gen/LSTM/14/FC2_prob/b:0          [8]                   8\n",
      "gen/LSTM/14/FC3/W:0               [16, 100]          1600\n",
      "gen/LSTM/14/FC3/b:0               [100]               100\n",
      "gen/LSTM/14/attw:0                [6, 1, 1]             6\n",
      "gen/LSTM/15/FC/W:0                [100, 100]        10000\n",
      "gen/LSTM/15/FC/b:0                [100]               100\n",
      "gen/LSTM/15/FC2_val/W:0           [100, 10]          1000\n",
      "gen/LSTM/15/FC2_val/b:0           [10]                 10\n",
      "gen/LSTM/15/FC2_prob/W:0          [100, 10]          1000\n",
      "gen/LSTM/15/FC2_prob/b:0          [10]                 10\n",
      "gen/LSTM/15/FC3/W:0               [20, 100]          2000\n",
      "gen/LSTM/15/FC3/b:0               [100]               100\n",
      "gen/LSTM/15/attw:0                [6, 1, 1]             6\n",
      "gen/LSTM/16/FC_inputs/W:0         [200, 100]        20000\n",
      "gen/LSTM/16/FC_inputs/b:0         [100]               100\n",
      "gen/LSTM/16/FC_attentions/W:0     [200, 100]        20000\n",
      "gen/LSTM/16/FC_attentions/b:0     [100]               100\n",
      "gen/LSTM/16/FC_lstm_state_0/W:0   [200, 100]        20000\n",
      "gen/LSTM/16/FC_lstm_state_0/b:0   [100]               100\n",
      "gen/LSTM/16/FC_lstm_state_1/W:0   [200, 100]        20000\n",
      "gen/LSTM/16/FC_lstm_state_1/b:0   [100]               100\n",
      "gen/LSTM/17/FC/W:0                [100, 100]        10000\n",
      "gen/LSTM/17/FC/b:0                [100]               100\n",
      "gen/LSTM/17/FC2/W:0               [100, 9]            900\n",
      "gen/LSTM/17/FC2/b:0               [9]                   9\n",
      "gen/LSTM/17/FC3/W:0               [9, 100]            900\n",
      "gen/LSTM/17/FC3/b:0               [100]               100\n",
      "gen/LSTM/17/attw:0                [7, 1, 1]             7\n",
      "gen/LSTM/18/FC_inputs/W:0         [200, 100]        20000\n",
      "gen/LSTM/18/FC_inputs/b:0         [100]               100\n",
      "gen/LSTM/18/FC_attentions/W:0     [200, 100]        20000\n",
      "gen/LSTM/18/FC_attentions/b:0     [100]               100\n",
      "gen/LSTM/18/FC_lstm_state_0/W:0   [200, 100]        20000\n",
      "gen/LSTM/18/FC_lstm_state_0/b:0   [100]               100\n",
      "gen/LSTM/18/FC_lstm_state_1/W:0   [200, 100]        20000\n",
      "gen/LSTM/18/FC_lstm_state_1/b:0   [100]               100\n",
      "gen/LSTM/19/FC/W:0                [100, 100]        10000\n",
      "gen/LSTM/19/FC/b:0                [100]               100\n",
      "gen/LSTM/19/FC2/W:0               [100, 8]            800\n",
      "gen/LSTM/19/FC2/b:0               [8]                   8\n",
      "gen/LSTM/19/FC3/W:0               [8, 100]            800\n",
      "gen/LSTM/19/FC3/b:0               [100]               100\n",
      "gen/LSTM/19/attw:0                [7, 1, 1]             7\n",
      "gen/LSTM/20/FC_inputs/W:0         [700, 100]        70000\n",
      "gen/LSTM/20/FC_inputs/b:0         [100]               100\n",
      "gen/LSTM/20/FC_attentions/W:0     [700, 100]        70000\n",
      "gen/LSTM/20/FC_attentions/b:0     [100]               100\n",
      "gen/LSTM/20/FC_lstm_state_0/W:0   [700, 100]        70000\n",
      "gen/LSTM/20/FC_lstm_state_0/b:0   [100]               100\n",
      "gen/LSTM/20/FC_lstm_state_1/W:0   [700, 100]        70000\n",
      "gen/LSTM/20/FC_lstm_state_1/b:0   [100]               100\n",
      "gen/LSTM/21/FC/W:0                [100, 100]        10000\n",
      "gen/LSTM/21/FC/b:0                [100]               100\n",
      "gen/LSTM/21/FC2/W:0               [100, 5]            500\n",
      "gen/LSTM/21/FC2/b:0               [5]                   5\n",
      "gen/LSTM/21/FC3/W:0               [5, 100]            500\n",
      "gen/LSTM/21/FC3/b:0               [100]               100\n",
      "gen/LSTM/21/attw:0                [14, 1, 1]           14\n",
      "discrim/dis_fc0/fc/W:0            [120, 100]        12000\n",
      "discrim/dis_fc0/fc/b:0            [100]               100\n",
      "discrim/dis_fc0/fc_diversity/W:0  [100, 100]        10000\n",
      "discrim/dis_fc0/fc_diversity/b:0  [100]               100\n",
      "discrim/dis_fc0/bn/beta:0         [110]               110\n",
      "discrim/dis_fc_top/W:0            [110, 1]            110\n",
      "discrim/dis_fc_top/b:0            [1]                   1\u001b[36m\n",
      "Number of trainable variables: 179\n",
      "Number of parameters (elements): 1203114\n",
      "Storage space needed for all trainable variables: 4.59MB\u001b[0m\n"
     ]
    },
    {
     "name": "stdout",
     "output_type": "stream",
     "text": [
      "\u001b[32m[1021 13:43:48 @base.py:209]\u001b[0m Setup callbacks graph ...\n",
      "WARNING:tensorflow:From D:\\Users\\glede\\anaconda3\\envs\\py37\\lib\\site-packages\\tensorpack\\callbacks\\graph.py:54: The name tf.train.SessionRunArgs is deprecated. Please use tf.estimator.SessionRunArgs instead.\n",
      "\n",
      "WARNING:tensorflow:From D:\\Users\\glede\\anaconda3\\envs\\py37\\lib\\site-packages\\tensorpack\\tfutils\\common.py:75: The name tf.VariableScope is deprecated. Please use tf.compat.v1.VariableScope instead.\n",
      "\n",
      "WARNING:tensorflow:From D:\\Users\\glede\\anaconda3\\envs\\py37\\lib\\site-packages\\tensorpack\\tfutils\\common.py:77: The name tf.train.get_or_create_global_step is deprecated. Please use tf.compat.v1.train.get_or_create_global_step instead.\n",
      "\n",
      "WARNING:tensorflow:From D:\\Users\\glede\\anaconda3\\envs\\py37\\lib\\site-packages\\tensorpack\\callbacks\\steps.py:117: The name tf.assign_add is deprecated. Please use tf.compat.v1.assign_add instead.\n",
      "\n",
      "WARNING:tensorflow:From D:\\Users\\glede\\anaconda3\\envs\\py37\\lib\\site-packages\\tensorpack\\callbacks\\saver.py:55: The name tf.train.Saver is deprecated. Please use tf.compat.v1.train.Saver instead.\n",
      "\n",
      "WARNING:tensorflow:From D:\\Users\\glede\\anaconda3\\envs\\py37\\lib\\site-packages\\tensorpack\\callbacks\\saver.py:59: The name tf.train.SaverDef is deprecated. Please use tf.compat.v1.train.SaverDef instead.\n",
      "\n",
      "\u001b[32m[1021 13:43:48 @summary.py:46]\u001b[0m [MovingAverageSummary] 6 operations in collection 'MOVING_SUMMARY_OPS' will be run with session hooks.\n",
      "\u001b[32m[1021 13:43:48 @summary.py:93]\u001b[0m Summarizing collection 'summaries' of size 9.\n",
      "WARNING:tensorflow:From D:\\Users\\glede\\anaconda3\\envs\\py37\\lib\\site-packages\\tensorpack\\callbacks\\summary.py:94: The name tf.summary.merge_all is deprecated. Please use tf.compat.v1.summary.merge_all instead.\n",
      "\n",
      "\u001b[32m[1021 13:43:48 @graph.py:98]\u001b[0m Applying collection UPDATE_OPS of 4 ops.\n",
      "WARNING:tensorflow:From D:\\Users\\glede\\anaconda3\\envs\\py37\\lib\\site-packages\\tensorpack\\callbacks\\monitor.py:261: The name tf.summary.FileWriter is deprecated. Please use tf.compat.v1.summary.FileWriter instead.\n",
      "\n",
      "WARNING:tensorflow:From D:\\Users\\glede\\anaconda3\\envs\\py37\\lib\\site-packages\\tensorpack\\tfutils\\sessinit.py:120: The name tf.train.NewCheckpointReader is deprecated. Please use tf.compat.v1.train.NewCheckpointReader instead.\n",
      "\n",
      "WARNING:tensorflow:From D:\\Users\\glede\\anaconda3\\envs\\py37\\lib\\site-packages\\tensorpack\\tfutils\\sessinit.py:127: The name tf.global_variables is deprecated. Please use tf.compat.v1.global_variables instead.\n",
      "\n",
      "\u001b[32m[1021 13:43:49 @base.py:230]\u001b[0m Creating the session ...\n",
      "WARNING:tensorflow:From D:\\Users\\glede\\anaconda3\\envs\\py37\\lib\\site-packages\\tensorpack\\tfutils\\sesscreate.py:42: The name tf.Session is deprecated. Please use tf.compat.v1.Session instead.\n",
      "\n",
      "WARNING:tensorflow:From D:\\Users\\glede\\anaconda3\\envs\\py37\\lib\\site-packages\\tensorpack\\tfutils\\sesscreate.py:71: The name tf.global_variables_initializer is deprecated. Please use tf.compat.v1.global_variables_initializer instead.\n",
      "\n",
      "WARNING:tensorflow:From D:\\Users\\glede\\anaconda3\\envs\\py37\\lib\\site-packages\\tensorpack\\tfutils\\sesscreate.py:62: get_backward_walk_ops (from tensorflow.contrib.graph_editor.select) is deprecated and will be removed after 2019-06-06.\n",
      "Instructions for updating:\n",
      "Please use tensorflow.python.ops.op_selector.get_backward_walk_ops.\n",
      "WARNING:tensorflow:From D:\\Users\\glede\\anaconda3\\envs\\py37\\lib\\site-packages\\tensorpack\\tfutils\\sesscreate.py:72: The name tf.local_variables_initializer is deprecated. Please use tf.compat.v1.local_variables_initializer instead.\n",
      "\n",
      "WARNING:tensorflow:From D:\\Users\\glede\\anaconda3\\envs\\py37\\lib\\site-packages\\tensorpack\\tfutils\\sesscreate.py:73: The name tf.tables_initializer is deprecated. Please use tf.compat.v1.tables_initializer instead.\n",
      "\n",
      "WARNING:tensorflow:From D:\\Users\\glede\\anaconda3\\envs\\py37\\lib\\site-packages\\tensorpack\\train\\base.py:254: The name tf.train.MonitoredSession is deprecated. Please use tf.compat.v1.train.MonitoredSession instead.\n",
      "\n",
      "\u001b[32m[1021 13:43:51 @base.py:236]\u001b[0m Initializing the session ...\n",
      "\u001b[32m[1021 13:43:51 @sessinit.py:114]\u001b[0m Restoring checkpoint from ../output/Chicago/DATGAN_99/model\\model-175 ...\n",
      "INFO:tensorflow:Restoring parameters from ../output/Chicago/DATGAN_99/model\\model-175\n",
      "\u001b[32m[1021 13:43:52 @base.py:243]\u001b[0m Graph Finalized.\n",
      "WARNING:tensorflow:From D:\\Users\\glede\\anaconda3\\envs\\py37\\lib\\site-packages\\tensorpack\\tfutils\\common.py:89: The name tf.train.global_step is deprecated. Please use tf.compat.v1.train.global_step instead.\n",
      "\n",
      "WARNING:tensorflow:From D:\\Users\\glede\\anaconda3\\envs\\py37\\lib\\site-packages\\tensorpack\\tfutils\\common.py:90: The name tf.get_default_session is deprecated. Please use tf.compat.v1.get_default_session instead.\n",
      "\n",
      "\u001b[32m[1021 13:43:52 @concurrency.py:38]\u001b[0m Starting EnqueueThread QueueInput/input_queue ...\n",
      "\u001b[32m[1021 13:43:52 @steps.py:124]\u001b[0m Start training with global_step=175\n",
      "\u001b[32m[1021 13:43:52 @monitor.py:347]\u001b[0m Found existing JSON inside ../output/Chicago/DATGAN_99/logs, will append to it.\n",
      "\u001b[32m[1021 13:43:52 @base.py:275]\u001b[0m Start Epoch 2 ...\n"
     ]
    },
    {
     "name": "stderr",
     "output_type": "stream",
     "text": [
      " 97%|################################################################################6  |170/175[00:07<00:00,30.14it/s]"
     ]
    },
    {
     "name": "stdout",
     "output_type": "stream",
     "text": [
      "WARNING:tensorflow:From D:\\Users\\glede\\anaconda3\\envs\\py37\\lib\\site-packages\\tensorpack\\callbacks\\monitor.py:148: The name tf.Summary is deprecated. Please use tf.compat.v1.Summary instead.\n",
      "\n"
     ]
    },
    {
     "name": "stderr",
     "output_type": "stream",
     "text": [
      "\r",
      "100%|###################################################################################|175/175[00:09<00:00,18.33it/s]"
     ]
    },
    {
     "name": "stdout",
     "output_type": "stream",
     "text": [
      "\u001b[32m[1021 13:44:02 @base.py:285]\u001b[0m Epoch 2 (global_step 350) finished, time:9.55 seconds.\n",
      "WARNING:tensorflow:From D:\\Users\\glede\\anaconda3\\envs\\py37\\lib\\site-packages\\tensorpack\\callbacks\\saver.py:77: The name tf.train.get_global_step is deprecated. Please use tf.compat.v1.train.get_global_step instead.\n",
      "\n"
     ]
    },
    {
     "name": "stderr",
     "output_type": "stream",
     "text": [
      "\n"
     ]
    },
    {
     "name": "stdout",
     "output_type": "stream",
     "text": [
      "\u001b[32m[1021 13:44:02 @saver.py:79]\u001b[0m Model saved to ../output/Chicago/DATGAN_99/model\\model-350.\n",
      "\u001b[32m[1021 13:44:02 @monitor.py:467]\u001b[0m GAN_loss/discrim/accuracy_fake: 0.894\n",
      "\u001b[32m[1021 13:44:02 @monitor.py:467]\u001b[0m GAN_loss/discrim/accuracy_real: 0.538\n",
      "\u001b[32m[1021 13:44:02 @monitor.py:467]\u001b[0m GAN_loss/discrim/loss: 0.57769\n",
      "\u001b[32m[1021 13:44:02 @monitor.py:467]\u001b[0m GAN_loss/gen/final-g-loss: 1.2048\n",
      "\u001b[32m[1021 13:44:02 @monitor.py:467]\u001b[0m GAN_loss/gen/klloss: 0.066607\n",
      "\u001b[32m[1021 13:44:02 @monitor.py:467]\u001b[0m GAN_loss/gen/loss: 1.1382\n",
      "\u001b[32m[1021 13:44:02 @monitor.py:467]\u001b[0m QueueInput/queue_size: 50\n",
      "\u001b[32m[1021 13:44:02 @base.py:275]\u001b[0m Start Epoch 3 ...\n"
     ]
    },
    {
     "name": "stderr",
     "output_type": "stream",
     "text": [
      "100%|###################################################################################|175/175[00:05<00:00,32.31it/s]"
     ]
    },
    {
     "name": "stdout",
     "output_type": "stream",
     "text": [
      "\u001b[32m[1021 13:44:08 @base.py:285]\u001b[0m Epoch 3 (global_step 525) finished, time:5.42 seconds.\n"
     ]
    },
    {
     "name": "stderr",
     "output_type": "stream",
     "text": [
      "\n"
     ]
    },
    {
     "name": "stdout",
     "output_type": "stream",
     "text": [
      "\u001b[32m[1021 13:44:08 @saver.py:79]\u001b[0m Model saved to ../output/Chicago/DATGAN_99/model\\model-525.\n",
      "\u001b[32m[1021 13:44:08 @monitor.py:467]\u001b[0m GAN_loss/discrim/accuracy_fake: 0.88\n",
      "\u001b[32m[1021 13:44:08 @monitor.py:467]\u001b[0m GAN_loss/discrim/accuracy_real: 0.516\n",
      "\u001b[32m[1021 13:44:08 @monitor.py:467]\u001b[0m GAN_loss/discrim/loss: 0.5586\n",
      "\u001b[32m[1021 13:44:08 @monitor.py:467]\u001b[0m GAN_loss/gen/final-g-loss: 1.2256\n",
      "\u001b[32m[1021 13:44:08 @monitor.py:467]\u001b[0m GAN_loss/gen/klloss: 0.058301\n",
      "\u001b[32m[1021 13:44:08 @monitor.py:467]\u001b[0m GAN_loss/gen/loss: 1.1673\n",
      "\u001b[32m[1021 13:44:08 @monitor.py:467]\u001b[0m QueueInput/queue_size: 50\n",
      "\u001b[32m[1021 13:44:08 @base.py:275]\u001b[0m Start Epoch 4 ...\n"
     ]
    },
    {
     "name": "stderr",
     "output_type": "stream",
     "text": [
      "100%|###################################################################################|175/175[00:05<00:00,32.47it/s]"
     ]
    },
    {
     "name": "stdout",
     "output_type": "stream",
     "text": [
      "\u001b[32m[1021 13:44:13 @base.py:285]\u001b[0m Epoch 4 (global_step 700) finished, time:5.39 seconds.\n"
     ]
    },
    {
     "name": "stderr",
     "output_type": "stream",
     "text": [
      "\n"
     ]
    },
    {
     "name": "stdout",
     "output_type": "stream",
     "text": [
      "\u001b[32m[1021 13:44:13 @saver.py:79]\u001b[0m Model saved to ../output/Chicago/DATGAN_99/model\\model-700.\n",
      "\u001b[32m[1021 13:44:13 @monitor.py:467]\u001b[0m GAN_loss/discrim/accuracy_fake: 0.838\n",
      "\u001b[32m[1021 13:44:13 @monitor.py:467]\u001b[0m GAN_loss/discrim/accuracy_real: 0.414\n",
      "\u001b[32m[1021 13:44:13 @monitor.py:467]\u001b[0m GAN_loss/discrim/loss: 0.63225\n",
      "\u001b[32m[1021 13:44:13 @monitor.py:467]\u001b[0m GAN_loss/gen/final-g-loss: 1.2158\n",
      "\u001b[32m[1021 13:44:13 @monitor.py:467]\u001b[0m GAN_loss/gen/klloss: 0.073946\n",
      "\u001b[32m[1021 13:44:13 @monitor.py:467]\u001b[0m GAN_loss/gen/loss: 1.1419\n",
      "\u001b[32m[1021 13:44:13 @monitor.py:467]\u001b[0m QueueInput/queue_size: 50\n",
      "\u001b[32m[1021 13:44:13 @base.py:275]\u001b[0m Start Epoch 5 ...\n"
     ]
    },
    {
     "name": "stderr",
     "output_type": "stream",
     "text": [
      "100%|###################################################################################|175/175[00:05<00:00,32.54it/s]"
     ]
    },
    {
     "name": "stdout",
     "output_type": "stream",
     "text": [
      "\u001b[32m[1021 13:44:18 @base.py:285]\u001b[0m Epoch 5 (global_step 875) finished, time:5.38 seconds.\n"
     ]
    },
    {
     "name": "stderr",
     "output_type": "stream",
     "text": [
      "\n"
     ]
    },
    {
     "name": "stdout",
     "output_type": "stream",
     "text": [
      "\u001b[32m[1021 13:44:19 @saver.py:79]\u001b[0m Model saved to ../output/Chicago/DATGAN_99/model\\model-875.\n",
      "\u001b[32m[1021 13:44:19 @monitor.py:467]\u001b[0m GAN_loss/discrim/accuracy_fake: 0.828\n",
      "\u001b[32m[1021 13:44:19 @monitor.py:467]\u001b[0m GAN_loss/discrim/accuracy_real: 0.392\n",
      "\u001b[32m[1021 13:44:19 @monitor.py:467]\u001b[0m GAN_loss/discrim/loss: 0.61171\n",
      "\u001b[32m[1021 13:44:19 @monitor.py:467]\u001b[0m GAN_loss/gen/final-g-loss: 1.1672\n",
      "\u001b[32m[1021 13:44:19 @monitor.py:467]\u001b[0m GAN_loss/gen/klloss: 0.076063\n",
      "\u001b[32m[1021 13:44:19 @monitor.py:467]\u001b[0m GAN_loss/gen/loss: 1.0911\n",
      "\u001b[32m[1021 13:44:19 @monitor.py:467]\u001b[0m QueueInput/queue_size: 50\n",
      "\u001b[32m[1021 13:44:19 @base.py:275]\u001b[0m Start Epoch 6 ...\n"
     ]
    },
    {
     "name": "stderr",
     "output_type": "stream",
     "text": [
      "100%|###################################################################################|175/175[00:05<00:00,32.52it/s]"
     ]
    },
    {
     "name": "stdout",
     "output_type": "stream",
     "text": [
      "\u001b[32m[1021 13:44:24 @base.py:285]\u001b[0m Epoch 6 (global_step 1050) finished, time:5.38 seconds.\n"
     ]
    },
    {
     "name": "stderr",
     "output_type": "stream",
     "text": [
      "\n"
     ]
    },
    {
     "name": "stdout",
     "output_type": "stream",
     "text": [
      "\u001b[32m[1021 13:44:24 @saver.py:79]\u001b[0m Model saved to ../output/Chicago/DATGAN_99/model\\model-1050.\n",
      "\u001b[32m[1021 13:44:24 @monitor.py:467]\u001b[0m GAN_loss/discrim/accuracy_fake: 0.856\n",
      "\u001b[32m[1021 13:44:24 @monitor.py:467]\u001b[0m GAN_loss/discrim/accuracy_real: 0.268\n",
      "\u001b[32m[1021 13:44:24 @monitor.py:467]\u001b[0m GAN_loss/discrim/loss: 0.642\n",
      "\u001b[32m[1021 13:44:24 @monitor.py:467]\u001b[0m GAN_loss/gen/final-g-loss: 1.0863\n",
      "\u001b[32m[1021 13:44:24 @monitor.py:467]\u001b[0m GAN_loss/gen/klloss: 0.038804\n",
      "\u001b[32m[1021 13:44:24 @monitor.py:467]\u001b[0m GAN_loss/gen/loss: 1.0475\n",
      "\u001b[32m[1021 13:44:24 @monitor.py:467]\u001b[0m QueueInput/queue_size: 50\n",
      "\u001b[32m[1021 13:44:24 @base.py:275]\u001b[0m Start Epoch 7 ...\n"
     ]
    },
    {
     "name": "stderr",
     "output_type": "stream",
     "text": [
      "100%|###################################################################################|175/175[00:05<00:00,32.53it/s]"
     ]
    },
    {
     "name": "stdout",
     "output_type": "stream",
     "text": [
      "\u001b[32m[1021 13:44:29 @base.py:285]\u001b[0m Epoch 7 (global_step 1225) finished, time:5.38 seconds.\n"
     ]
    },
    {
     "name": "stderr",
     "output_type": "stream",
     "text": [
      "\n"
     ]
    },
    {
     "name": "stdout",
     "output_type": "stream",
     "text": [
      "\u001b[32m[1021 13:44:29 @saver.py:79]\u001b[0m Model saved to ../output/Chicago/DATGAN_99/model\\model-1225.\n",
      "\u001b[32m[1021 13:44:29 @monitor.py:467]\u001b[0m GAN_loss/discrim/accuracy_fake: 0.862\n",
      "\u001b[32m[1021 13:44:29 @monitor.py:467]\u001b[0m GAN_loss/discrim/accuracy_real: 0.292\n",
      "\u001b[32m[1021 13:44:29 @monitor.py:467]\u001b[0m GAN_loss/discrim/loss: 0.6344\n",
      "\u001b[32m[1021 13:44:29 @monitor.py:467]\u001b[0m GAN_loss/gen/final-g-loss: 1.1362\n",
      "\u001b[32m[1021 13:44:29 @monitor.py:467]\u001b[0m GAN_loss/gen/klloss: 0.075627\n",
      "\u001b[32m[1021 13:44:29 @monitor.py:467]\u001b[0m GAN_loss/gen/loss: 1.0606\n",
      "\u001b[32m[1021 13:44:29 @monitor.py:467]\u001b[0m QueueInput/queue_size: 50\n",
      "\u001b[32m[1021 13:44:29 @base.py:275]\u001b[0m Start Epoch 8 ...\n"
     ]
    },
    {
     "name": "stderr",
     "output_type": "stream",
     "text": [
      "100%|###################################################################################|175/175[00:05<00:00,32.55it/s]"
     ]
    },
    {
     "name": "stdout",
     "output_type": "stream",
     "text": [
      "\u001b[32m[1021 13:44:35 @base.py:285]\u001b[0m Epoch 8 (global_step 1400) finished, time:5.38 seconds.\n"
     ]
    },
    {
     "name": "stderr",
     "output_type": "stream",
     "text": [
      "\n"
     ]
    },
    {
     "name": "stdout",
     "output_type": "stream",
     "text": [
      "\u001b[32m[1021 13:44:35 @saver.py:79]\u001b[0m Model saved to ../output/Chicago/DATGAN_99/model\\model-1400.\n",
      "\u001b[32m[1021 13:44:35 @monitor.py:467]\u001b[0m GAN_loss/discrim/accuracy_fake: 0.856\n",
      "\u001b[32m[1021 13:44:35 @monitor.py:467]\u001b[0m GAN_loss/discrim/accuracy_real: 0.256\n",
      "\u001b[32m[1021 13:44:35 @monitor.py:467]\u001b[0m GAN_loss/discrim/loss: 0.63434\n",
      "\u001b[32m[1021 13:44:35 @monitor.py:467]\u001b[0m GAN_loss/gen/final-g-loss: 1.0941\n",
      "\u001b[32m[1021 13:44:35 @monitor.py:467]\u001b[0m GAN_loss/gen/klloss: 0.070269\n",
      "\u001b[32m[1021 13:44:35 @monitor.py:467]\u001b[0m GAN_loss/gen/loss: 1.0238\n",
      "\u001b[32m[1021 13:44:35 @monitor.py:467]\u001b[0m QueueInput/queue_size: 50\n",
      "\u001b[32m[1021 13:44:35 @base.py:275]\u001b[0m Start Epoch 9 ...\n"
     ]
    },
    {
     "name": "stderr",
     "output_type": "stream",
     "text": [
      "100%|###################################################################################|175/175[00:05<00:00,32.55it/s]"
     ]
    },
    {
     "name": "stdout",
     "output_type": "stream",
     "text": [
      "\u001b[32m[1021 13:44:40 @base.py:285]\u001b[0m Epoch 9 (global_step 1575) finished, time:5.38 seconds.\n"
     ]
    },
    {
     "name": "stderr",
     "output_type": "stream",
     "text": [
      "\n"
     ]
    },
    {
     "name": "stdout",
     "output_type": "stream",
     "text": [
      "\u001b[32m[1021 13:44:40 @saver.py:79]\u001b[0m Model saved to ../output/Chicago/DATGAN_99/model\\model-1575.\n",
      "\u001b[32m[1021 13:44:40 @monitor.py:467]\u001b[0m GAN_loss/discrim/accuracy_fake: 0.878\n",
      "\u001b[32m[1021 13:44:40 @monitor.py:467]\u001b[0m GAN_loss/discrim/accuracy_real: 0.228\n",
      "\u001b[32m[1021 13:44:40 @monitor.py:467]\u001b[0m GAN_loss/discrim/loss: 0.64033\n",
      "\u001b[32m[1021 13:44:40 @monitor.py:467]\u001b[0m GAN_loss/gen/final-g-loss: 1.0853\n",
      "\u001b[32m[1021 13:44:40 @monitor.py:467]\u001b[0m GAN_loss/gen/klloss: 0.09029\n",
      "\u001b[32m[1021 13:44:40 @monitor.py:467]\u001b[0m GAN_loss/gen/loss: 0.99505\n",
      "\u001b[32m[1021 13:44:40 @monitor.py:467]\u001b[0m QueueInput/queue_size: 50\n",
      "\u001b[32m[1021 13:44:40 @base.py:275]\u001b[0m Start Epoch 10 ...\n"
     ]
    },
    {
     "name": "stderr",
     "output_type": "stream",
     "text": [
      "100%|###################################################################################|175/175[00:05<00:00,32.55it/s]"
     ]
    },
    {
     "name": "stdout",
     "output_type": "stream",
     "text": [
      "\u001b[32m[1021 13:44:46 @base.py:285]\u001b[0m Epoch 10 (global_step 1750) finished, time:5.38 seconds.\n"
     ]
    },
    {
     "name": "stderr",
     "output_type": "stream",
     "text": [
      "\n"
     ]
    },
    {
     "name": "stdout",
     "output_type": "stream",
     "text": [
      "\u001b[32m[1021 13:44:46 @saver.py:79]\u001b[0m Model saved to ../output/Chicago/DATGAN_99/model\\model-1750.\n",
      "\u001b[32m[1021 13:44:46 @monitor.py:467]\u001b[0m GAN_loss/discrim/accuracy_fake: 0.896\n",
      "\u001b[32m[1021 13:44:46 @monitor.py:467]\u001b[0m GAN_loss/discrim/accuracy_real: 0.244\n",
      "\u001b[32m[1021 13:44:46 @monitor.py:467]\u001b[0m GAN_loss/discrim/loss: 0.63351\n",
      "\u001b[32m[1021 13:44:46 @monitor.py:467]\u001b[0m GAN_loss/gen/final-g-loss: 1.0583\n",
      "\u001b[32m[1021 13:44:46 @monitor.py:467]\u001b[0m GAN_loss/gen/klloss: 0.06263\n",
      "\u001b[32m[1021 13:44:46 @monitor.py:467]\u001b[0m GAN_loss/gen/loss: 0.99569\n",
      "\u001b[32m[1021 13:44:46 @monitor.py:467]\u001b[0m QueueInput/queue_size: 50\n",
      "\u001b[32m[1021 13:44:46 @base.py:275]\u001b[0m Start Epoch 11 ...\n"
     ]
    },
    {
     "name": "stderr",
     "output_type": "stream",
     "text": [
      "100%|###################################################################################|175/175[00:05<00:00,32.49it/s]"
     ]
    },
    {
     "name": "stdout",
     "output_type": "stream",
     "text": [
      "\u001b[32m[1021 13:44:51 @base.py:285]\u001b[0m Epoch 11 (global_step 1925) finished, time:5.39 seconds.\n"
     ]
    },
    {
     "name": "stderr",
     "output_type": "stream",
     "text": [
      "\n"
     ]
    },
    {
     "name": "stdout",
     "output_type": "stream",
     "text": [
      "\u001b[32m[1021 13:44:51 @saver.py:79]\u001b[0m Model saved to ../output/Chicago/DATGAN_99/model\\model-1925.\n",
      "\u001b[32m[1021 13:44:51 @monitor.py:467]\u001b[0m GAN_loss/discrim/accuracy_fake: 0.916\n",
      "\u001b[32m[1021 13:44:51 @monitor.py:467]\u001b[0m GAN_loss/discrim/accuracy_real: 0.192\n",
      "\u001b[32m[1021 13:44:51 @monitor.py:467]\u001b[0m GAN_loss/discrim/loss: 0.64383\n",
      "\u001b[32m[1021 13:44:51 @monitor.py:467]\u001b[0m GAN_loss/gen/final-g-loss: 1.0506\n",
      "\u001b[32m[1021 13:44:51 @monitor.py:467]\u001b[0m GAN_loss/gen/klloss: 0.060022\n",
      "\u001b[32m[1021 13:44:51 @monitor.py:467]\u001b[0m GAN_loss/gen/loss: 0.99057\n",
      "\u001b[32m[1021 13:44:51 @monitor.py:467]\u001b[0m QueueInput/queue_size: 50\n",
      "\u001b[32m[1021 13:44:51 @base.py:275]\u001b[0m Start Epoch 12 ...\n"
     ]
    },
    {
     "name": "stderr",
     "output_type": "stream",
     "text": [
      "100%|###################################################################################|175/175[00:05<00:00,32.44it/s]"
     ]
    },
    {
     "name": "stdout",
     "output_type": "stream",
     "text": [
      "\u001b[32m[1021 13:44:57 @base.py:285]\u001b[0m Epoch 12 (global_step 2100) finished, time:5.39 seconds.\n"
     ]
    },
    {
     "name": "stderr",
     "output_type": "stream",
     "text": [
      "\n"
     ]
    },
    {
     "name": "stdout",
     "output_type": "stream",
     "text": [
      "WARNING:tensorflow:From D:\\Users\\glede\\anaconda3\\envs\\py37\\lib\\site-packages\\tensorflow_core\\python\\training\\saver.py:963: remove_checkpoint (from tensorflow.python.training.checkpoint_management) is deprecated and will be removed in a future version.\n",
      "Instructions for updating:\n",
      "Use standard file APIs to delete files with this prefix.\n",
      "\u001b[32m[1021 13:44:57 @saver.py:79]\u001b[0m Model saved to ../output/Chicago/DATGAN_99/model\\model-2100.\n",
      "\u001b[32m[1021 13:44:57 @monitor.py:467]\u001b[0m GAN_loss/discrim/accuracy_fake: 0.856\n",
      "\u001b[32m[1021 13:44:57 @monitor.py:467]\u001b[0m GAN_loss/discrim/accuracy_real: 0.208\n",
      "\u001b[32m[1021 13:44:57 @monitor.py:467]\u001b[0m GAN_loss/discrim/loss: 0.65235\n",
      "\u001b[32m[1021 13:44:57 @monitor.py:467]\u001b[0m GAN_loss/gen/final-g-loss: 1.0267\n",
      "\u001b[32m[1021 13:44:57 @monitor.py:467]\u001b[0m GAN_loss/gen/klloss: 0.066937\n",
      "\u001b[32m[1021 13:44:57 @monitor.py:467]\u001b[0m GAN_loss/gen/loss: 0.95977\n",
      "\u001b[32m[1021 13:44:57 @monitor.py:467]\u001b[0m QueueInput/queue_size: 50\n",
      "\u001b[32m[1021 13:44:57 @base.py:275]\u001b[0m Start Epoch 13 ...\n"
     ]
    },
    {
     "name": "stderr",
     "output_type": "stream",
     "text": [
      "100%|###################################################################################|175/175[00:05<00:00,32.46it/s]"
     ]
    },
    {
     "name": "stdout",
     "output_type": "stream",
     "text": [
      "\u001b[32m[1021 13:45:02 @base.py:285]\u001b[0m Epoch 13 (global_step 2275) finished, time:5.39 seconds.\n"
     ]
    },
    {
     "name": "stderr",
     "output_type": "stream",
     "text": [
      "\n"
     ]
    },
    {
     "name": "stdout",
     "output_type": "stream",
     "text": [
      "\u001b[32m[1021 13:45:02 @saver.py:79]\u001b[0m Model saved to ../output/Chicago/DATGAN_99/model\\model-2275.\n",
      "\u001b[32m[1021 13:45:02 @monitor.py:467]\u001b[0m GAN_loss/discrim/accuracy_fake: 0.904\n",
      "\u001b[32m[1021 13:45:02 @monitor.py:467]\u001b[0m GAN_loss/discrim/accuracy_real: 0.188\n",
      "\u001b[32m[1021 13:45:02 @monitor.py:467]\u001b[0m GAN_loss/discrim/loss: 0.63593\n",
      "\u001b[32m[1021 13:45:02 @monitor.py:467]\u001b[0m GAN_loss/gen/final-g-loss: 1.0792\n",
      "\u001b[32m[1021 13:45:02 @monitor.py:467]\u001b[0m GAN_loss/gen/klloss: 0.083953\n",
      "\u001b[32m[1021 13:45:02 @monitor.py:467]\u001b[0m GAN_loss/gen/loss: 0.99526\n",
      "\u001b[32m[1021 13:45:02 @monitor.py:467]\u001b[0m QueueInput/queue_size: 50\n",
      "\u001b[32m[1021 13:45:02 @base.py:275]\u001b[0m Start Epoch 14 ...\n"
     ]
    },
    {
     "name": "stderr",
     "output_type": "stream",
     "text": [
      "100%|###################################################################################|175/175[00:05<00:00,32.44it/s]"
     ]
    },
    {
     "name": "stdout",
     "output_type": "stream",
     "text": [
      "\u001b[32m[1021 13:45:08 @base.py:285]\u001b[0m Epoch 14 (global_step 2450) finished, time:5.4 seconds.\n"
     ]
    },
    {
     "name": "stderr",
     "output_type": "stream",
     "text": [
      "\n"
     ]
    },
    {
     "name": "stdout",
     "output_type": "stream",
     "text": [
      "\u001b[32m[1021 13:45:08 @saver.py:79]\u001b[0m Model saved to ../output/Chicago/DATGAN_99/model\\model-2450.\n",
      "\u001b[32m[1021 13:45:08 @monitor.py:467]\u001b[0m GAN_loss/discrim/accuracy_fake: 0.93\n",
      "\u001b[32m[1021 13:45:08 @monitor.py:467]\u001b[0m GAN_loss/discrim/accuracy_real: 0.164\n",
      "\u001b[32m[1021 13:45:08 @monitor.py:467]\u001b[0m GAN_loss/discrim/loss: 0.63611\n",
      "\u001b[32m[1021 13:45:08 @monitor.py:467]\u001b[0m GAN_loss/gen/final-g-loss: 1.0418\n",
      "\u001b[32m[1021 13:45:08 @monitor.py:467]\u001b[0m GAN_loss/gen/klloss: 0.063927\n",
      "\u001b[32m[1021 13:45:08 @monitor.py:467]\u001b[0m GAN_loss/gen/loss: 0.97783\n",
      "\u001b[32m[1021 13:45:08 @monitor.py:467]\u001b[0m QueueInput/queue_size: 50\n",
      "\u001b[32m[1021 13:45:08 @base.py:275]\u001b[0m Start Epoch 15 ...\n"
     ]
    },
    {
     "name": "stderr",
     "output_type": "stream",
     "text": [
      "100%|###################################################################################|175/175[00:05<00:00,32.43it/s]"
     ]
    },
    {
     "name": "stdout",
     "output_type": "stream",
     "text": [
      "\u001b[32m[1021 13:45:13 @base.py:285]\u001b[0m Epoch 15 (global_step 2625) finished, time:5.4 seconds.\n"
     ]
    },
    {
     "name": "stderr",
     "output_type": "stream",
     "text": [
      "\n"
     ]
    },
    {
     "name": "stdout",
     "output_type": "stream",
     "text": [
      "\u001b[32m[1021 13:45:13 @saver.py:79]\u001b[0m Model saved to ../output/Chicago/DATGAN_99/model\\model-2625.\n",
      "\u001b[32m[1021 13:45:13 @monitor.py:467]\u001b[0m GAN_loss/discrim/accuracy_fake: 0.918\n",
      "\u001b[32m[1021 13:45:13 @monitor.py:467]\u001b[0m GAN_loss/discrim/accuracy_real: 0.136\n",
      "\u001b[32m[1021 13:45:13 @monitor.py:467]\u001b[0m GAN_loss/discrim/loss: 0.64566\n",
      "\u001b[32m[1021 13:45:13 @monitor.py:467]\u001b[0m GAN_loss/gen/final-g-loss: 1.0303\n",
      "\u001b[32m[1021 13:45:13 @monitor.py:467]\u001b[0m GAN_loss/gen/klloss: 0.055179\n",
      "\u001b[32m[1021 13:45:13 @monitor.py:467]\u001b[0m GAN_loss/gen/loss: 0.97513\n",
      "\u001b[32m[1021 13:45:13 @monitor.py:467]\u001b[0m QueueInput/queue_size: 50\n",
      "\u001b[32m[1021 13:45:13 @base.py:275]\u001b[0m Start Epoch 16 ...\n"
     ]
    },
    {
     "name": "stderr",
     "output_type": "stream",
     "text": [
      "100%|###################################################################################|175/175[00:05<00:00,32.42it/s]"
     ]
    },
    {
     "name": "stdout",
     "output_type": "stream",
     "text": [
      "\u001b[32m[1021 13:45:19 @base.py:285]\u001b[0m Epoch 16 (global_step 2800) finished, time:5.4 seconds.\n"
     ]
    },
    {
     "name": "stderr",
     "output_type": "stream",
     "text": [
      "\n"
     ]
    },
    {
     "name": "stdout",
     "output_type": "stream",
     "text": [
      "\u001b[32m[1021 13:45:19 @saver.py:79]\u001b[0m Model saved to ../output/Chicago/DATGAN_99/model\\model-2800.\n",
      "\u001b[32m[1021 13:45:19 @monitor.py:467]\u001b[0m GAN_loss/discrim/accuracy_fake: 0.912\n",
      "\u001b[32m[1021 13:45:19 @monitor.py:467]\u001b[0m GAN_loss/discrim/accuracy_real: 0.134\n",
      "\u001b[32m[1021 13:45:19 @monitor.py:467]\u001b[0m GAN_loss/discrim/loss: 0.65251\n",
      "\u001b[32m[1021 13:45:19 @monitor.py:467]\u001b[0m GAN_loss/gen/final-g-loss: 1.0136\n",
      "\u001b[32m[1021 13:45:19 @monitor.py:467]\u001b[0m GAN_loss/gen/klloss: 0.065213\n",
      "\u001b[32m[1021 13:45:19 @monitor.py:467]\u001b[0m GAN_loss/gen/loss: 0.9484\n",
      "\u001b[32m[1021 13:45:19 @monitor.py:467]\u001b[0m QueueInput/queue_size: 50\n",
      "\u001b[32m[1021 13:45:19 @base.py:275]\u001b[0m Start Epoch 17 ...\n"
     ]
    },
    {
     "name": "stderr",
     "output_type": "stream",
     "text": [
      "100%|###################################################################################|175/175[00:05<00:00,32.43it/s]"
     ]
    },
    {
     "name": "stdout",
     "output_type": "stream",
     "text": [
      "\u001b[32m[1021 13:45:24 @base.py:285]\u001b[0m Epoch 17 (global_step 2975) finished, time:5.4 seconds.\n"
     ]
    },
    {
     "name": "stderr",
     "output_type": "stream",
     "text": [
      "\n"
     ]
    },
    {
     "name": "stdout",
     "output_type": "stream",
     "text": [
      "\u001b[32m[1021 13:45:24 @saver.py:79]\u001b[0m Model saved to ../output/Chicago/DATGAN_99/model\\model-2975.\n",
      "\u001b[32m[1021 13:45:24 @monitor.py:467]\u001b[0m GAN_loss/discrim/accuracy_fake: 0.928\n",
      "\u001b[32m[1021 13:45:24 @monitor.py:467]\u001b[0m GAN_loss/discrim/accuracy_real: 0.142\n",
      "\u001b[32m[1021 13:45:24 @monitor.py:467]\u001b[0m GAN_loss/discrim/loss: 0.64179\n",
      "\u001b[32m[1021 13:45:24 @monitor.py:467]\u001b[0m GAN_loss/gen/final-g-loss: 1.0619\n",
      "\u001b[32m[1021 13:45:24 @monitor.py:467]\u001b[0m GAN_loss/gen/klloss: 0.088058\n",
      "\u001b[32m[1021 13:45:24 @monitor.py:467]\u001b[0m GAN_loss/gen/loss: 0.97387\n",
      "\u001b[32m[1021 13:45:24 @monitor.py:467]\u001b[0m QueueInput/queue_size: 50\n",
      "\u001b[32m[1021 13:45:24 @base.py:275]\u001b[0m Start Epoch 18 ...\n"
     ]
    },
    {
     "name": "stderr",
     "output_type": "stream",
     "text": [
      "100%|###################################################################################|175/175[00:05<00:00,32.36it/s]"
     ]
    },
    {
     "name": "stdout",
     "output_type": "stream",
     "text": [
      "\u001b[32m[1021 13:45:30 @base.py:285]\u001b[0m Epoch 18 (global_step 3150) finished, time:5.41 seconds.\n"
     ]
    },
    {
     "name": "stderr",
     "output_type": "stream",
     "text": [
      "\n"
     ]
    },
    {
     "name": "stdout",
     "output_type": "stream",
     "text": [
      "\u001b[32m[1021 13:45:30 @saver.py:79]\u001b[0m Model saved to ../output/Chicago/DATGAN_99/model\\model-3150.\n",
      "\u001b[32m[1021 13:45:30 @monitor.py:467]\u001b[0m GAN_loss/discrim/accuracy_fake: 0.912\n",
      "\u001b[32m[1021 13:45:30 @monitor.py:467]\u001b[0m GAN_loss/discrim/accuracy_real: 0.144\n",
      "\u001b[32m[1021 13:45:30 @monitor.py:467]\u001b[0m GAN_loss/discrim/loss: 0.6385\n",
      "\u001b[32m[1021 13:45:30 @monitor.py:467]\u001b[0m GAN_loss/gen/final-g-loss: 1.0238\n",
      "\u001b[32m[1021 13:45:30 @monitor.py:467]\u001b[0m GAN_loss/gen/klloss: 0.06701\n",
      "\u001b[32m[1021 13:45:30 @monitor.py:467]\u001b[0m GAN_loss/gen/loss: 0.95676\n",
      "\u001b[32m[1021 13:45:30 @monitor.py:467]\u001b[0m QueueInput/queue_size: 50\n",
      "\u001b[32m[1021 13:45:30 @base.py:275]\u001b[0m Start Epoch 19 ...\n"
     ]
    },
    {
     "name": "stderr",
     "output_type": "stream",
     "text": [
      "100%|###################################################################################|175/175[00:05<00:00,32.20it/s]"
     ]
    },
    {
     "name": "stdout",
     "output_type": "stream",
     "text": [
      "\u001b[32m[1021 13:45:35 @base.py:285]\u001b[0m Epoch 19 (global_step 3325) finished, time:5.43 seconds.\n",
      "\u001b[32m[1021 13:45:35 @saver.py:79]\u001b[0m Model saved to ../output/Chicago/DATGAN_99/model\\model-3325.\n",
      "\u001b[32m[1021 13:45:35 @monitor.py:467]\u001b[0m GAN_loss/discrim/accuracy_fake: 0.94\n",
      "\u001b[32m[1021 13:45:35 @monitor.py:467]\u001b[0m GAN_loss/discrim/accuracy_real: 0.112\n",
      "\u001b[32m[1021 13:45:35 @monitor.py:467]\u001b[0m GAN_loss/discrim/loss: 0.64706\n",
      "\u001b[32m[1021 13:45:35 @monitor.py:467]\u001b[0m GAN_loss/gen/final-g-loss: 1.0456\n",
      "\u001b[32m[1021 13:45:35 @monitor.py:467]\u001b[0m GAN_loss/gen/klloss: 0.08231\n",
      "\u001b[32m[1021 13:45:35 @monitor.py:467]\u001b[0m GAN_loss/gen/loss: 0.9633\n",
      "\u001b[32m[1021 13:45:35 @monitor.py:467]\u001b[0m QueueInput/queue_size: 50\n",
      "\u001b[32m[1021 13:45:35 @base.py:275]\u001b[0m Start Epoch 20 ...\n"
     ]
    },
    {
     "name": "stderr",
     "output_type": "stream",
     "text": [
      "\n",
      "100%|###################################################################################|175/175[00:05<00:00,32.42it/s]"
     ]
    },
    {
     "name": "stdout",
     "output_type": "stream",
     "text": [
      "\u001b[32m[1021 13:45:41 @base.py:285]\u001b[0m Epoch 20 (global_step 3500) finished, time:5.4 seconds.\n"
     ]
    },
    {
     "name": "stderr",
     "output_type": "stream",
     "text": [
      "\n"
     ]
    },
    {
     "name": "stdout",
     "output_type": "stream",
     "text": [
      "\u001b[32m[1021 13:45:41 @saver.py:79]\u001b[0m Model saved to ../output/Chicago/DATGAN_99/model\\model-3500.\n",
      "\u001b[32m[1021 13:45:41 @monitor.py:467]\u001b[0m GAN_loss/discrim/accuracy_fake: 0.924\n",
      "\u001b[32m[1021 13:45:41 @monitor.py:467]\u001b[0m GAN_loss/discrim/accuracy_real: 0.1\n",
      "\u001b[32m[1021 13:45:41 @monitor.py:467]\u001b[0m GAN_loss/discrim/loss: 0.65083\n",
      "\u001b[32m[1021 13:45:41 @monitor.py:467]\u001b[0m GAN_loss/gen/final-g-loss: 1.0196\n",
      "\u001b[32m[1021 13:45:41 @monitor.py:467]\u001b[0m GAN_loss/gen/klloss: 0.071399\n",
      "\u001b[32m[1021 13:45:41 @monitor.py:467]\u001b[0m GAN_loss/gen/loss: 0.94821\n",
      "\u001b[32m[1021 13:45:41 @monitor.py:467]\u001b[0m QueueInput/queue_size: 50\n",
      "\u001b[32m[1021 13:45:41 @base.py:275]\u001b[0m Start Epoch 21 ...\n"
     ]
    },
    {
     "name": "stderr",
     "output_type": "stream",
     "text": [
      "100%|###################################################################################|175/175[00:05<00:00,32.45it/s]"
     ]
    },
    {
     "name": "stdout",
     "output_type": "stream",
     "text": [
      "\u001b[32m[1021 13:45:46 @base.py:285]\u001b[0m Epoch 21 (global_step 3675) finished, time:5.39 seconds.\n"
     ]
    },
    {
     "name": "stderr",
     "output_type": "stream",
     "text": [
      "\n"
     ]
    },
    {
     "name": "stdout",
     "output_type": "stream",
     "text": [
      "\u001b[32m[1021 13:45:46 @saver.py:79]\u001b[0m Model saved to ../output/Chicago/DATGAN_99/model\\model-3675.\n",
      "\u001b[32m[1021 13:45:46 @monitor.py:467]\u001b[0m GAN_loss/discrim/accuracy_fake: 0.936\n",
      "\u001b[32m[1021 13:45:46 @monitor.py:467]\u001b[0m GAN_loss/discrim/accuracy_real: 0.132\n",
      "\u001b[32m[1021 13:45:46 @monitor.py:467]\u001b[0m GAN_loss/discrim/loss: 0.6437\n",
      "\u001b[32m[1021 13:45:46 @monitor.py:467]\u001b[0m GAN_loss/gen/final-g-loss: 1.0395\n",
      "\u001b[32m[1021 13:45:46 @monitor.py:467]\u001b[0m GAN_loss/gen/klloss: 0.086945\n",
      "\u001b[32m[1021 13:45:46 @monitor.py:467]\u001b[0m GAN_loss/gen/loss: 0.95252\n",
      "\u001b[32m[1021 13:45:46 @monitor.py:467]\u001b[0m QueueInput/queue_size: 50\n",
      "\u001b[32m[1021 13:45:46 @base.py:275]\u001b[0m Start Epoch 22 ...\n"
     ]
    },
    {
     "name": "stderr",
     "output_type": "stream",
     "text": [
      "100%|###################################################################################|175/175[00:05<00:00,32.24it/s]"
     ]
    },
    {
     "name": "stdout",
     "output_type": "stream",
     "text": [
      "\u001b[32m[1021 13:45:52 @base.py:285]\u001b[0m Epoch 22 (global_step 3850) finished, time:5.43 seconds.\n",
      "\u001b[32m[1021 13:45:52 @saver.py:79]\u001b[0m Model saved to ../output/Chicago/DATGAN_99/model\\model-3850.\n",
      "\u001b[32m[1021 13:45:52 @monitor.py:467]\u001b[0m GAN_loss/discrim/accuracy_fake: 0.956\n",
      "\u001b[32m[1021 13:45:52 @monitor.py:467]\u001b[0m GAN_loss/discrim/accuracy_real: 0.102\n",
      "\u001b[32m[1021 13:45:52 @monitor.py:467]\u001b[0m GAN_loss/discrim/loss: 0.64849\n",
      "\u001b[32m[1021 13:45:52 @monitor.py:467]\u001b[0m GAN_loss/gen/final-g-loss: 1.0263\n",
      "\u001b[32m[1021 13:45:52 @monitor.py:467]\u001b[0m GAN_loss/gen/klloss: 0.064214\n",
      "\u001b[32m[1021 13:45:52 @monitor.py:467]\u001b[0m GAN_loss/gen/loss: 0.96211\n",
      "\u001b[32m[1021 13:45:52 @monitor.py:467]\u001b[0m QueueInput/queue_size: 50\n",
      "\u001b[32m[1021 13:45:52 @base.py:275]\u001b[0m Start Epoch 23 ...\n"
     ]
    },
    {
     "name": "stderr",
     "output_type": "stream",
     "text": [
      "\n",
      "100%|###################################################################################|175/175[00:05<00:00,32.45it/s]"
     ]
    },
    {
     "name": "stdout",
     "output_type": "stream",
     "text": [
      "\u001b[32m[1021 13:45:57 @base.py:285]\u001b[0m Epoch 23 (global_step 4025) finished, time:5.39 seconds.\n"
     ]
    },
    {
     "name": "stderr",
     "output_type": "stream",
     "text": [
      "\n"
     ]
    },
    {
     "name": "stdout",
     "output_type": "stream",
     "text": [
      "\u001b[32m[1021 13:45:57 @saver.py:79]\u001b[0m Model saved to ../output/Chicago/DATGAN_99/model\\model-4025.\n",
      "\u001b[32m[1021 13:45:57 @monitor.py:467]\u001b[0m GAN_loss/discrim/accuracy_fake: 0.944\n",
      "\u001b[32m[1021 13:45:57 @monitor.py:467]\u001b[0m GAN_loss/discrim/accuracy_real: 0.118\n",
      "\u001b[32m[1021 13:45:57 @monitor.py:467]\u001b[0m GAN_loss/discrim/loss: 0.64454\n",
      "\u001b[32m[1021 13:45:57 @monitor.py:467]\u001b[0m GAN_loss/gen/final-g-loss: 1.025\n",
      "\u001b[32m[1021 13:45:57 @monitor.py:467]\u001b[0m GAN_loss/gen/klloss: 0.071136\n",
      "\u001b[32m[1021 13:45:57 @monitor.py:467]\u001b[0m GAN_loss/gen/loss: 0.95387\n",
      "\u001b[32m[1021 13:45:57 @monitor.py:467]\u001b[0m QueueInput/queue_size: 50\n",
      "\u001b[32m[1021 13:45:57 @base.py:275]\u001b[0m Start Epoch 24 ...\n"
     ]
    },
    {
     "name": "stderr",
     "output_type": "stream",
     "text": [
      "100%|###################################################################################|175/175[00:05<00:00,32.43it/s]"
     ]
    },
    {
     "name": "stdout",
     "output_type": "stream",
     "text": [
      "\u001b[32m[1021 13:46:03 @base.py:285]\u001b[0m Epoch 24 (global_step 4200) finished, time:5.4 seconds.\n"
     ]
    },
    {
     "name": "stderr",
     "output_type": "stream",
     "text": [
      "\n"
     ]
    },
    {
     "name": "stdout",
     "output_type": "stream",
     "text": [
      "\u001b[32m[1021 13:46:03 @saver.py:79]\u001b[0m Model saved to ../output/Chicago/DATGAN_99/model\\model-4200.\n",
      "\u001b[32m[1021 13:46:03 @monitor.py:467]\u001b[0m GAN_loss/discrim/accuracy_fake: 0.928\n",
      "\u001b[32m[1021 13:46:03 @monitor.py:467]\u001b[0m GAN_loss/discrim/accuracy_real: 0.132\n",
      "\u001b[32m[1021 13:46:03 @monitor.py:467]\u001b[0m GAN_loss/discrim/loss: 0.64342\n",
      "\u001b[32m[1021 13:46:03 @monitor.py:467]\u001b[0m GAN_loss/gen/final-g-loss: 1.0289\n",
      "\u001b[32m[1021 13:46:03 @monitor.py:467]\u001b[0m GAN_loss/gen/klloss: 0.083168\n",
      "\u001b[32m[1021 13:46:03 @monitor.py:467]\u001b[0m GAN_loss/gen/loss: 0.94576\n",
      "\u001b[32m[1021 13:46:03 @monitor.py:467]\u001b[0m QueueInput/queue_size: 50\n",
      "\u001b[32m[1021 13:46:03 @base.py:275]\u001b[0m Start Epoch 25 ...\n"
     ]
    },
    {
     "name": "stderr",
     "output_type": "stream",
     "text": [
      "100%|###################################################################################|175/175[00:05<00:00,32.44it/s]"
     ]
    },
    {
     "name": "stdout",
     "output_type": "stream",
     "text": [
      "\u001b[32m[1021 13:46:08 @base.py:285]\u001b[0m Epoch 25 (global_step 4375) finished, time:5.39 seconds.\n"
     ]
    },
    {
     "name": "stderr",
     "output_type": "stream",
     "text": [
      "\n"
     ]
    },
    {
     "name": "stdout",
     "output_type": "stream",
     "text": [
      "\u001b[32m[1021 13:46:08 @saver.py:79]\u001b[0m Model saved to ../output/Chicago/DATGAN_99/model\\model-4375.\n",
      "\u001b[32m[1021 13:46:08 @monitor.py:467]\u001b[0m GAN_loss/discrim/accuracy_fake: 0.928\n",
      "\u001b[32m[1021 13:46:08 @monitor.py:467]\u001b[0m GAN_loss/discrim/accuracy_real: 0.098\n",
      "\u001b[32m[1021 13:46:08 @monitor.py:467]\u001b[0m GAN_loss/discrim/loss: 0.65105\n",
      "\u001b[32m[1021 13:46:08 @monitor.py:467]\u001b[0m GAN_loss/gen/final-g-loss: 0.98673\n",
      "\u001b[32m[1021 13:46:08 @monitor.py:467]\u001b[0m GAN_loss/gen/klloss: 0.045756\n",
      "\u001b[32m[1021 13:46:08 @monitor.py:467]\u001b[0m GAN_loss/gen/loss: 0.94097\n",
      "\u001b[32m[1021 13:46:08 @monitor.py:467]\u001b[0m QueueInput/queue_size: 50\n",
      "\u001b[32m[1021 13:46:08 @base.py:275]\u001b[0m Start Epoch 26 ...\n"
     ]
    },
    {
     "name": "stderr",
     "output_type": "stream",
     "text": [
      "100%|###################################################################################|175/175[00:05<00:00,32.44it/s]"
     ]
    },
    {
     "name": "stdout",
     "output_type": "stream",
     "text": [
      "\u001b[32m[1021 13:46:14 @base.py:285]\u001b[0m Epoch 26 (global_step 4550) finished, time:5.4 seconds.\n"
     ]
    },
    {
     "name": "stderr",
     "output_type": "stream",
     "text": [
      "\n"
     ]
    },
    {
     "name": "stdout",
     "output_type": "stream",
     "text": [
      "\u001b[32m[1021 13:46:14 @saver.py:79]\u001b[0m Model saved to ../output/Chicago/DATGAN_99/model\\model-4550.\n",
      "\u001b[32m[1021 13:46:14 @monitor.py:467]\u001b[0m GAN_loss/discrim/accuracy_fake: 0.956\n",
      "\u001b[32m[1021 13:46:14 @monitor.py:467]\u001b[0m GAN_loss/discrim/accuracy_real: 0.068\n",
      "\u001b[32m[1021 13:46:14 @monitor.py:467]\u001b[0m GAN_loss/discrim/loss: 0.64281\n",
      "\u001b[32m[1021 13:46:14 @monitor.py:467]\u001b[0m GAN_loss/gen/final-g-loss: 1.0112\n",
      "\u001b[32m[1021 13:46:14 @monitor.py:467]\u001b[0m GAN_loss/gen/klloss: 0.066203\n",
      "\u001b[32m[1021 13:46:14 @monitor.py:467]\u001b[0m GAN_loss/gen/loss: 0.945\n",
      "\u001b[32m[1021 13:46:14 @monitor.py:467]\u001b[0m QueueInput/queue_size: 50\n",
      "\u001b[32m[1021 13:46:14 @base.py:275]\u001b[0m Start Epoch 27 ...\n"
     ]
    },
    {
     "name": "stderr",
     "output_type": "stream",
     "text": [
      "100%|###################################################################################|175/175[00:05<00:00,32.44it/s]"
     ]
    },
    {
     "name": "stdout",
     "output_type": "stream",
     "text": [
      "\u001b[32m[1021 13:46:19 @base.py:285]\u001b[0m Epoch 27 (global_step 4725) finished, time:5.39 seconds.\n"
     ]
    },
    {
     "name": "stderr",
     "output_type": "stream",
     "text": [
      "\n"
     ]
    },
    {
     "name": "stdout",
     "output_type": "stream",
     "text": [
      "\u001b[32m[1021 13:46:19 @saver.py:79]\u001b[0m Model saved to ../output/Chicago/DATGAN_99/model\\model-4725.\n",
      "\u001b[32m[1021 13:46:19 @monitor.py:467]\u001b[0m GAN_loss/discrim/accuracy_fake: 0.944\n",
      "\u001b[32m[1021 13:46:19 @monitor.py:467]\u001b[0m GAN_loss/discrim/accuracy_real: 0.138\n",
      "\u001b[32m[1021 13:46:19 @monitor.py:467]\u001b[0m GAN_loss/discrim/loss: 0.6425\n",
      "\u001b[32m[1021 13:46:19 @monitor.py:467]\u001b[0m GAN_loss/gen/final-g-loss: 1.0003\n",
      "\u001b[32m[1021 13:46:19 @monitor.py:467]\u001b[0m GAN_loss/gen/klloss: 0.054128\n",
      "\u001b[32m[1021 13:46:19 @monitor.py:467]\u001b[0m GAN_loss/gen/loss: 0.94619\n",
      "\u001b[32m[1021 13:46:19 @monitor.py:467]\u001b[0m QueueInput/queue_size: 50\n",
      "\u001b[32m[1021 13:46:19 @base.py:275]\u001b[0m Start Epoch 28 ...\n"
     ]
    },
    {
     "name": "stderr",
     "output_type": "stream",
     "text": [
      "100%|###################################################################################|175/175[00:05<00:00,32.44it/s]"
     ]
    },
    {
     "name": "stdout",
     "output_type": "stream",
     "text": [
      "\u001b[32m[1021 13:46:25 @base.py:285]\u001b[0m Epoch 28 (global_step 4900) finished, time:5.4 seconds.\n"
     ]
    },
    {
     "name": "stderr",
     "output_type": "stream",
     "text": [
      "\n"
     ]
    },
    {
     "name": "stdout",
     "output_type": "stream",
     "text": [
      "\u001b[32m[1021 13:46:25 @saver.py:79]\u001b[0m Model saved to ../output/Chicago/DATGAN_99/model\\model-4900.\n",
      "\u001b[32m[1021 13:46:25 @monitor.py:467]\u001b[0m GAN_loss/discrim/accuracy_fake: 0.962\n",
      "\u001b[32m[1021 13:46:25 @monitor.py:467]\u001b[0m GAN_loss/discrim/accuracy_real: 0.116\n",
      "\u001b[32m[1021 13:46:25 @monitor.py:467]\u001b[0m GAN_loss/discrim/loss: 0.64562\n",
      "\u001b[32m[1021 13:46:25 @monitor.py:467]\u001b[0m GAN_loss/gen/final-g-loss: 1.0213\n",
      "\u001b[32m[1021 13:46:25 @monitor.py:467]\u001b[0m GAN_loss/gen/klloss: 0.063988\n",
      "\u001b[32m[1021 13:46:25 @monitor.py:467]\u001b[0m GAN_loss/gen/loss: 0.95731\n",
      "\u001b[32m[1021 13:46:25 @monitor.py:467]\u001b[0m QueueInput/queue_size: 50\n",
      "\u001b[32m[1021 13:46:25 @base.py:275]\u001b[0m Start Epoch 29 ...\n"
     ]
    },
    {
     "name": "stderr",
     "output_type": "stream",
     "text": [
      "100%|###################################################################################|175/175[00:05<00:00,32.45it/s]"
     ]
    },
    {
     "name": "stdout",
     "output_type": "stream",
     "text": [
      "\u001b[32m[1021 13:46:30 @base.py:285]\u001b[0m Epoch 29 (global_step 5075) finished, time:5.39 seconds.\n"
     ]
    },
    {
     "name": "stderr",
     "output_type": "stream",
     "text": [
      "\n"
     ]
    },
    {
     "name": "stdout",
     "output_type": "stream",
     "text": [
      "\u001b[32m[1021 13:46:30 @saver.py:79]\u001b[0m Model saved to ../output/Chicago/DATGAN_99/model\\model-5075.\n",
      "\u001b[32m[1021 13:46:30 @monitor.py:467]\u001b[0m GAN_loss/discrim/accuracy_fake: 0.93\n",
      "\u001b[32m[1021 13:46:30 @monitor.py:467]\u001b[0m GAN_loss/discrim/accuracy_real: 0.096\n",
      "\u001b[32m[1021 13:46:30 @monitor.py:467]\u001b[0m GAN_loss/discrim/loss: 0.64523\n",
      "\u001b[32m[1021 13:46:30 @monitor.py:467]\u001b[0m GAN_loss/gen/final-g-loss: 1.0086\n",
      "\u001b[32m[1021 13:46:30 @monitor.py:467]\u001b[0m GAN_loss/gen/klloss: 0.066375\n",
      "\u001b[32m[1021 13:46:30 @monitor.py:467]\u001b[0m GAN_loss/gen/loss: 0.94225\n",
      "\u001b[32m[1021 13:46:30 @monitor.py:467]\u001b[0m QueueInput/queue_size: 50\n",
      "\u001b[32m[1021 13:46:30 @base.py:275]\u001b[0m Start Epoch 30 ...\n"
     ]
    },
    {
     "name": "stderr",
     "output_type": "stream",
     "text": [
      "100%|###################################################################################|175/175[00:05<00:00,32.45it/s]"
     ]
    },
    {
     "name": "stdout",
     "output_type": "stream",
     "text": [
      "\u001b[32m[1021 13:46:36 @base.py:285]\u001b[0m Epoch 30 (global_step 5250) finished, time:5.39 seconds.\n"
     ]
    },
    {
     "name": "stderr",
     "output_type": "stream",
     "text": [
      "\n"
     ]
    },
    {
     "name": "stdout",
     "output_type": "stream",
     "text": [
      "\u001b[32m[1021 13:46:36 @saver.py:79]\u001b[0m Model saved to ../output/Chicago/DATGAN_99/model\\model-5250.\n",
      "\u001b[32m[1021 13:46:36 @monitor.py:467]\u001b[0m GAN_loss/discrim/accuracy_fake: 0.95\n",
      "\u001b[32m[1021 13:46:36 @monitor.py:467]\u001b[0m GAN_loss/discrim/accuracy_real: 0.112\n",
      "\u001b[32m[1021 13:46:36 @monitor.py:467]\u001b[0m GAN_loss/discrim/loss: 0.64176\n",
      "\u001b[32m[1021 13:46:36 @monitor.py:467]\u001b[0m GAN_loss/gen/final-g-loss: 1.0181\n",
      "\u001b[32m[1021 13:46:36 @monitor.py:467]\u001b[0m GAN_loss/gen/klloss: 0.057534\n",
      "\u001b[32m[1021 13:46:36 @monitor.py:467]\u001b[0m GAN_loss/gen/loss: 0.96056\n",
      "\u001b[32m[1021 13:46:36 @monitor.py:467]\u001b[0m QueueInput/queue_size: 50\n",
      "\u001b[32m[1021 13:46:36 @base.py:275]\u001b[0m Start Epoch 31 ...\n"
     ]
    },
    {
     "name": "stderr",
     "output_type": "stream",
     "text": [
      "100%|###################################################################################|175/175[00:05<00:00,32.31it/s]"
     ]
    },
    {
     "name": "stdout",
     "output_type": "stream",
     "text": [
      "\u001b[32m[1021 13:46:41 @base.py:285]\u001b[0m Epoch 31 (global_step 5425) finished, time:5.42 seconds.\n"
     ]
    },
    {
     "name": "stderr",
     "output_type": "stream",
     "text": [
      "\n"
     ]
    },
    {
     "name": "stdout",
     "output_type": "stream",
     "text": [
      "\u001b[32m[1021 13:46:41 @saver.py:79]\u001b[0m Model saved to ../output/Chicago/DATGAN_99/model\\model-5425.\n",
      "\u001b[32m[1021 13:46:41 @monitor.py:467]\u001b[0m GAN_loss/discrim/accuracy_fake: 0.922\n",
      "\u001b[32m[1021 13:46:41 @monitor.py:467]\u001b[0m GAN_loss/discrim/accuracy_real: 0.096\n",
      "\u001b[32m[1021 13:46:41 @monitor.py:467]\u001b[0m GAN_loss/discrim/loss: 0.65062\n",
      "\u001b[32m[1021 13:46:41 @monitor.py:467]\u001b[0m GAN_loss/gen/final-g-loss: 0.99262\n",
      "\u001b[32m[1021 13:46:41 @monitor.py:467]\u001b[0m GAN_loss/gen/klloss: 0.058801\n",
      "\u001b[32m[1021 13:46:41 @monitor.py:467]\u001b[0m GAN_loss/gen/loss: 0.93382\n",
      "\u001b[32m[1021 13:46:41 @monitor.py:467]\u001b[0m QueueInput/queue_size: 50\n",
      "\u001b[32m[1021 13:46:41 @base.py:275]\u001b[0m Start Epoch 32 ...\n"
     ]
    },
    {
     "name": "stderr",
     "output_type": "stream",
     "text": [
      "100%|###################################################################################|175/175[00:05<00:00,32.30it/s]"
     ]
    },
    {
     "name": "stdout",
     "output_type": "stream",
     "text": [
      "\u001b[32m[1021 13:46:47 @base.py:285]\u001b[0m Epoch 32 (global_step 5600) finished, time:5.42 seconds.\n"
     ]
    },
    {
     "name": "stderr",
     "output_type": "stream",
     "text": [
      "\n"
     ]
    },
    {
     "name": "stdout",
     "output_type": "stream",
     "text": [
      "\u001b[32m[1021 13:46:47 @saver.py:79]\u001b[0m Model saved to ../output/Chicago/DATGAN_99/model\\model-5600.\n",
      "\u001b[32m[1021 13:46:47 @monitor.py:467]\u001b[0m GAN_loss/discrim/accuracy_fake: 0.936\n",
      "\u001b[32m[1021 13:46:47 @monitor.py:467]\u001b[0m GAN_loss/discrim/accuracy_real: 0.1\n",
      "\u001b[32m[1021 13:46:47 @monitor.py:467]\u001b[0m GAN_loss/discrim/loss: 0.64995\n",
      "\u001b[32m[1021 13:46:47 @monitor.py:467]\u001b[0m GAN_loss/gen/final-g-loss: 0.98883\n",
      "\u001b[32m[1021 13:46:47 @monitor.py:467]\u001b[0m GAN_loss/gen/klloss: 0.058182\n",
      "\u001b[32m[1021 13:46:47 @monitor.py:467]\u001b[0m GAN_loss/gen/loss: 0.93064\n",
      "\u001b[32m[1021 13:46:47 @monitor.py:467]\u001b[0m QueueInput/queue_size: 50\n",
      "\u001b[32m[1021 13:46:47 @base.py:275]\u001b[0m Start Epoch 33 ...\n"
     ]
    },
    {
     "name": "stderr",
     "output_type": "stream",
     "text": [
      "100%|###################################################################################|175/175[00:05<00:00,32.34it/s]"
     ]
    },
    {
     "name": "stdout",
     "output_type": "stream",
     "text": [
      "\u001b[32m[1021 13:46:52 @base.py:285]\u001b[0m Epoch 33 (global_step 5775) finished, time:5.41 seconds.\n"
     ]
    },
    {
     "name": "stderr",
     "output_type": "stream",
     "text": [
      "\n"
     ]
    },
    {
     "name": "stdout",
     "output_type": "stream",
     "text": [
      "\u001b[32m[1021 13:46:52 @saver.py:79]\u001b[0m Model saved to ../output/Chicago/DATGAN_99/model\\model-5775.\n",
      "\u001b[32m[1021 13:46:52 @monitor.py:467]\u001b[0m GAN_loss/discrim/accuracy_fake: 0.94\n",
      "\u001b[32m[1021 13:46:52 @monitor.py:467]\u001b[0m GAN_loss/discrim/accuracy_real: 0.088\n",
      "\u001b[32m[1021 13:46:52 @monitor.py:467]\u001b[0m GAN_loss/discrim/loss: 0.64441\n",
      "\u001b[32m[1021 13:46:52 @monitor.py:467]\u001b[0m GAN_loss/gen/final-g-loss: 0.98674\n",
      "\u001b[32m[1021 13:46:52 @monitor.py:467]\u001b[0m GAN_loss/gen/klloss: 0.049772\n",
      "\u001b[32m[1021 13:46:52 @monitor.py:467]\u001b[0m GAN_loss/gen/loss: 0.93697\n",
      "\u001b[32m[1021 13:46:52 @monitor.py:467]\u001b[0m QueueInput/queue_size: 50\n",
      "\u001b[32m[1021 13:46:52 @base.py:275]\u001b[0m Start Epoch 34 ...\n"
     ]
    },
    {
     "name": "stderr",
     "output_type": "stream",
     "text": [
      "100%|###################################################################################|175/175[00:05<00:00,32.31it/s]"
     ]
    },
    {
     "name": "stdout",
     "output_type": "stream",
     "text": [
      "\u001b[32m[1021 13:46:58 @base.py:285]\u001b[0m Epoch 34 (global_step 5950) finished, time:5.42 seconds.\n"
     ]
    },
    {
     "name": "stderr",
     "output_type": "stream",
     "text": [
      "\n"
     ]
    },
    {
     "name": "stdout",
     "output_type": "stream",
     "text": [
      "\u001b[32m[1021 13:46:58 @saver.py:79]\u001b[0m Model saved to ../output/Chicago/DATGAN_99/model\\model-5950.\n",
      "\u001b[32m[1021 13:46:58 @monitor.py:467]\u001b[0m GAN_loss/discrim/accuracy_fake: 0.942\n",
      "\u001b[32m[1021 13:46:58 @monitor.py:467]\u001b[0m GAN_loss/discrim/accuracy_real: 0.08\n",
      "\u001b[32m[1021 13:46:58 @monitor.py:467]\u001b[0m GAN_loss/discrim/loss: 0.64612\n",
      "\u001b[32m[1021 13:46:58 @monitor.py:467]\u001b[0m GAN_loss/gen/final-g-loss: 1.0083\n",
      "\u001b[32m[1021 13:46:58 @monitor.py:467]\u001b[0m GAN_loss/gen/klloss: 0.067411\n",
      "\u001b[32m[1021 13:46:58 @monitor.py:467]\u001b[0m GAN_loss/gen/loss: 0.94091\n",
      "\u001b[32m[1021 13:46:58 @monitor.py:467]\u001b[0m QueueInput/queue_size: 50\n",
      "\u001b[32m[1021 13:46:58 @base.py:275]\u001b[0m Start Epoch 35 ...\n"
     ]
    },
    {
     "name": "stderr",
     "output_type": "stream",
     "text": [
      "100%|###################################################################################|175/175[00:05<00:00,32.34it/s]"
     ]
    },
    {
     "name": "stdout",
     "output_type": "stream",
     "text": [
      "\u001b[32m[1021 13:47:03 @base.py:285]\u001b[0m Epoch 35 (global_step 6125) finished, time:5.41 seconds.\n"
     ]
    },
    {
     "name": "stderr",
     "output_type": "stream",
     "text": [
      "\n"
     ]
    },
    {
     "name": "stdout",
     "output_type": "stream",
     "text": [
      "\u001b[32m[1021 13:47:03 @saver.py:79]\u001b[0m Model saved to ../output/Chicago/DATGAN_99/model\\model-6125.\n",
      "\u001b[32m[1021 13:47:03 @monitor.py:467]\u001b[0m GAN_loss/discrim/accuracy_fake: 0.954\n",
      "\u001b[32m[1021 13:47:03 @monitor.py:467]\u001b[0m GAN_loss/discrim/accuracy_real: 0.072\n",
      "\u001b[32m[1021 13:47:03 @monitor.py:467]\u001b[0m GAN_loss/discrim/loss: 0.64862\n",
      "\u001b[32m[1021 13:47:03 @monitor.py:467]\u001b[0m GAN_loss/gen/final-g-loss: 1.0214\n",
      "\u001b[32m[1021 13:47:03 @monitor.py:467]\u001b[0m GAN_loss/gen/klloss: 0.079691\n",
      "\u001b[32m[1021 13:47:03 @monitor.py:467]\u001b[0m GAN_loss/gen/loss: 0.94174\n",
      "\u001b[32m[1021 13:47:03 @monitor.py:467]\u001b[0m QueueInput/queue_size: 50\n",
      "\u001b[32m[1021 13:47:03 @base.py:275]\u001b[0m Start Epoch 36 ...\n"
     ]
    },
    {
     "name": "stderr",
     "output_type": "stream",
     "text": [
      "100%|###################################################################################|175/175[00:05<00:00,32.33it/s]"
     ]
    },
    {
     "name": "stdout",
     "output_type": "stream",
     "text": [
      "\u001b[32m[1021 13:47:09 @base.py:285]\u001b[0m Epoch 36 (global_step 6300) finished, time:5.41 seconds.\n"
     ]
    },
    {
     "name": "stderr",
     "output_type": "stream",
     "text": [
      "\n"
     ]
    },
    {
     "name": "stdout",
     "output_type": "stream",
     "text": [
      "\u001b[32m[1021 13:47:09 @saver.py:79]\u001b[0m Model saved to ../output/Chicago/DATGAN_99/model\\model-6300.\n",
      "\u001b[32m[1021 13:47:09 @monitor.py:467]\u001b[0m GAN_loss/discrim/accuracy_fake: 0.934\n",
      "\u001b[32m[1021 13:47:09 @monitor.py:467]\u001b[0m GAN_loss/discrim/accuracy_real: 0.082\n",
      "\u001b[32m[1021 13:47:09 @monitor.py:467]\u001b[0m GAN_loss/discrim/loss: 0.64651\n",
      "\u001b[32m[1021 13:47:09 @monitor.py:467]\u001b[0m GAN_loss/gen/final-g-loss: 1.0324\n",
      "\u001b[32m[1021 13:47:09 @monitor.py:467]\u001b[0m GAN_loss/gen/klloss: 0.083647\n",
      "\u001b[32m[1021 13:47:09 @monitor.py:467]\u001b[0m GAN_loss/gen/loss: 0.94878\n",
      "\u001b[32m[1021 13:47:09 @monitor.py:467]\u001b[0m QueueInput/queue_size: 50\n",
      "\u001b[32m[1021 13:47:09 @base.py:275]\u001b[0m Start Epoch 37 ...\n"
     ]
    },
    {
     "name": "stderr",
     "output_type": "stream",
     "text": [
      "100%|###################################################################################|175/175[00:05<00:00,32.34it/s]"
     ]
    },
    {
     "name": "stdout",
     "output_type": "stream",
     "text": [
      "\u001b[32m[1021 13:47:14 @base.py:285]\u001b[0m Epoch 37 (global_step 6475) finished, time:5.41 seconds.\n"
     ]
    },
    {
     "name": "stderr",
     "output_type": "stream",
     "text": [
      "\n"
     ]
    },
    {
     "name": "stdout",
     "output_type": "stream",
     "text": [
      "\u001b[32m[1021 13:47:14 @saver.py:79]\u001b[0m Model saved to ../output/Chicago/DATGAN_99/model\\model-6475.\n",
      "\u001b[32m[1021 13:47:14 @monitor.py:467]\u001b[0m GAN_loss/discrim/accuracy_fake: 0.94\n",
      "\u001b[32m[1021 13:47:14 @monitor.py:467]\u001b[0m GAN_loss/discrim/accuracy_real: 0.098\n",
      "\u001b[32m[1021 13:47:14 @monitor.py:467]\u001b[0m GAN_loss/discrim/loss: 0.65385\n",
      "\u001b[32m[1021 13:47:14 @monitor.py:467]\u001b[0m GAN_loss/gen/final-g-loss: 0.97658\n",
      "\u001b[32m[1021 13:47:14 @monitor.py:467]\u001b[0m GAN_loss/gen/klloss: 0.045776\n",
      "\u001b[32m[1021 13:47:14 @monitor.py:467]\u001b[0m GAN_loss/gen/loss: 0.93081\n",
      "\u001b[32m[1021 13:47:14 @monitor.py:467]\u001b[0m QueueInput/queue_size: 50\n",
      "\u001b[32m[1021 13:47:14 @base.py:275]\u001b[0m Start Epoch 38 ...\n"
     ]
    },
    {
     "name": "stderr",
     "output_type": "stream",
     "text": [
      "100%|###################################################################################|175/175[00:05<00:00,32.33it/s]"
     ]
    },
    {
     "name": "stdout",
     "output_type": "stream",
     "text": [
      "\u001b[32m[1021 13:47:20 @base.py:285]\u001b[0m Epoch 38 (global_step 6650) finished, time:5.41 seconds.\n"
     ]
    },
    {
     "name": "stderr",
     "output_type": "stream",
     "text": [
      "\n"
     ]
    },
    {
     "name": "stdout",
     "output_type": "stream",
     "text": [
      "\u001b[32m[1021 13:47:20 @saver.py:79]\u001b[0m Model saved to ../output/Chicago/DATGAN_99/model\\model-6650.\n",
      "\u001b[32m[1021 13:47:20 @monitor.py:467]\u001b[0m GAN_loss/discrim/accuracy_fake: 0.958\n",
      "\u001b[32m[1021 13:47:20 @monitor.py:467]\u001b[0m GAN_loss/discrim/accuracy_real: 0.06\n",
      "\u001b[32m[1021 13:47:20 @monitor.py:467]\u001b[0m GAN_loss/discrim/loss: 0.65027\n",
      "\u001b[32m[1021 13:47:20 @monitor.py:467]\u001b[0m GAN_loss/gen/final-g-loss: 1.0252\n",
      "\u001b[32m[1021 13:47:20 @monitor.py:467]\u001b[0m GAN_loss/gen/klloss: 0.084885\n",
      "\u001b[32m[1021 13:47:20 @monitor.py:467]\u001b[0m GAN_loss/gen/loss: 0.94035\n",
      "\u001b[32m[1021 13:47:20 @monitor.py:467]\u001b[0m QueueInput/queue_size: 50\n",
      "\u001b[32m[1021 13:47:20 @base.py:275]\u001b[0m Start Epoch 39 ...\n"
     ]
    },
    {
     "name": "stderr",
     "output_type": "stream",
     "text": [
      "100%|###################################################################################|175/175[00:05<00:00,32.35it/s]"
     ]
    },
    {
     "name": "stdout",
     "output_type": "stream",
     "text": [
      "\u001b[32m[1021 13:47:25 @base.py:285]\u001b[0m Epoch 39 (global_step 6825) finished, time:5.41 seconds.\n"
     ]
    },
    {
     "name": "stderr",
     "output_type": "stream",
     "text": [
      "\n"
     ]
    },
    {
     "name": "stdout",
     "output_type": "stream",
     "text": [
      "\u001b[32m[1021 13:47:25 @saver.py:79]\u001b[0m Model saved to ../output/Chicago/DATGAN_99/model\\model-6825.\n",
      "\u001b[32m[1021 13:47:25 @monitor.py:467]\u001b[0m GAN_loss/discrim/accuracy_fake: 0.964\n",
      "\u001b[32m[1021 13:47:25 @monitor.py:467]\u001b[0m GAN_loss/discrim/accuracy_real: 0.066\n",
      "\u001b[32m[1021 13:47:25 @monitor.py:467]\u001b[0m GAN_loss/discrim/loss: 0.64996\n",
      "\u001b[32m[1021 13:47:25 @monitor.py:467]\u001b[0m GAN_loss/gen/final-g-loss: 0.99736\n",
      "\u001b[32m[1021 13:47:25 @monitor.py:467]\u001b[0m GAN_loss/gen/klloss: 0.056753\n",
      "\u001b[32m[1021 13:47:25 @monitor.py:467]\u001b[0m GAN_loss/gen/loss: 0.9406\n",
      "\u001b[32m[1021 13:47:25 @monitor.py:467]\u001b[0m QueueInput/queue_size: 50\n",
      "\u001b[32m[1021 13:47:25 @base.py:275]\u001b[0m Start Epoch 40 ...\n"
     ]
    },
    {
     "name": "stderr",
     "output_type": "stream",
     "text": [
      "100%|###################################################################################|175/175[00:05<00:00,32.34it/s]"
     ]
    },
    {
     "name": "stdout",
     "output_type": "stream",
     "text": [
      "\u001b[32m[1021 13:47:31 @base.py:285]\u001b[0m Epoch 40 (global_step 7000) finished, time:5.41 seconds.\n"
     ]
    },
    {
     "name": "stderr",
     "output_type": "stream",
     "text": [
      "\n"
     ]
    },
    {
     "name": "stdout",
     "output_type": "stream",
     "text": [
      "\u001b[32m[1021 13:47:31 @saver.py:79]\u001b[0m Model saved to ../output/Chicago/DATGAN_99/model\\model-7000.\n",
      "\u001b[32m[1021 13:47:31 @monitor.py:467]\u001b[0m GAN_loss/discrim/accuracy_fake: 0.968\n",
      "\u001b[32m[1021 13:47:31 @monitor.py:467]\u001b[0m GAN_loss/discrim/accuracy_real: 0.06\n",
      "\u001b[32m[1021 13:47:31 @monitor.py:467]\u001b[0m GAN_loss/discrim/loss: 0.64543\n",
      "\u001b[32m[1021 13:47:31 @monitor.py:467]\u001b[0m GAN_loss/gen/final-g-loss: 0.98624\n",
      "\u001b[32m[1021 13:47:31 @monitor.py:467]\u001b[0m GAN_loss/gen/klloss: 0.052017\n",
      "\u001b[32m[1021 13:47:31 @monitor.py:467]\u001b[0m GAN_loss/gen/loss: 0.93423\n",
      "\u001b[32m[1021 13:47:31 @monitor.py:467]\u001b[0m QueueInput/queue_size: 50\n",
      "\u001b[32m[1021 13:47:31 @base.py:275]\u001b[0m Start Epoch 41 ...\n"
     ]
    },
    {
     "name": "stderr",
     "output_type": "stream",
     "text": [
      "100%|###################################################################################|175/175[00:05<00:00,32.32it/s]"
     ]
    },
    {
     "name": "stdout",
     "output_type": "stream",
     "text": [
      "\u001b[32m[1021 13:47:36 @base.py:285]\u001b[0m Epoch 41 (global_step 7175) finished, time:5.42 seconds.\n"
     ]
    },
    {
     "name": "stderr",
     "output_type": "stream",
     "text": [
      "\n"
     ]
    },
    {
     "name": "stdout",
     "output_type": "stream",
     "text": [
      "\u001b[32m[1021 13:47:36 @saver.py:79]\u001b[0m Model saved to ../output/Chicago/DATGAN_99/model\\model-7175.\n",
      "\u001b[32m[1021 13:47:36 @monitor.py:467]\u001b[0m GAN_loss/discrim/accuracy_fake: 0.944\n",
      "\u001b[32m[1021 13:47:36 @monitor.py:467]\u001b[0m GAN_loss/discrim/accuracy_real: 0.074\n",
      "\u001b[32m[1021 13:47:36 @monitor.py:467]\u001b[0m GAN_loss/discrim/loss: 0.64888\n",
      "\u001b[32m[1021 13:47:36 @monitor.py:467]\u001b[0m GAN_loss/gen/final-g-loss: 1.0203\n",
      "\u001b[32m[1021 13:47:36 @monitor.py:467]\u001b[0m GAN_loss/gen/klloss: 0.084835\n",
      "\u001b[32m[1021 13:47:36 @monitor.py:467]\u001b[0m GAN_loss/gen/loss: 0.93544\n",
      "\u001b[32m[1021 13:47:36 @monitor.py:467]\u001b[0m QueueInput/queue_size: 50\n",
      "\u001b[32m[1021 13:47:36 @base.py:275]\u001b[0m Start Epoch 42 ...\n"
     ]
    },
    {
     "name": "stderr",
     "output_type": "stream",
     "text": [
      "100%|###################################################################################|175/175[00:05<00:00,32.32it/s]"
     ]
    },
    {
     "name": "stdout",
     "output_type": "stream",
     "text": [
      "\u001b[32m[1021 13:47:42 @base.py:285]\u001b[0m Epoch 42 (global_step 7350) finished, time:5.41 seconds.\n"
     ]
    },
    {
     "name": "stderr",
     "output_type": "stream",
     "text": [
      "\n"
     ]
    },
    {
     "name": "stdout",
     "output_type": "stream",
     "text": [
      "\u001b[32m[1021 13:47:42 @saver.py:79]\u001b[0m Model saved to ../output/Chicago/DATGAN_99/model\\model-7350.\n",
      "\u001b[32m[1021 13:47:42 @monitor.py:467]\u001b[0m GAN_loss/discrim/accuracy_fake: 0.964\n",
      "\u001b[32m[1021 13:47:42 @monitor.py:467]\u001b[0m GAN_loss/discrim/accuracy_real: 0.092\n",
      "\u001b[32m[1021 13:47:42 @monitor.py:467]\u001b[0m GAN_loss/discrim/loss: 0.65181\n",
      "\u001b[32m[1021 13:47:42 @monitor.py:467]\u001b[0m GAN_loss/gen/final-g-loss: 0.98604\n",
      "\u001b[32m[1021 13:47:42 @monitor.py:467]\u001b[0m GAN_loss/gen/klloss: 0.053269\n",
      "\u001b[32m[1021 13:47:42 @monitor.py:467]\u001b[0m GAN_loss/gen/loss: 0.93277\n",
      "\u001b[32m[1021 13:47:42 @monitor.py:467]\u001b[0m QueueInput/queue_size: 50\n",
      "\u001b[32m[1021 13:47:42 @base.py:275]\u001b[0m Start Epoch 43 ...\n"
     ]
    },
    {
     "name": "stderr",
     "output_type": "stream",
     "text": [
      "100%|###################################################################################|175/175[00:05<00:00,32.22it/s]"
     ]
    },
    {
     "name": "stdout",
     "output_type": "stream",
     "text": [
      "\u001b[32m[1021 13:47:47 @base.py:285]\u001b[0m Epoch 43 (global_step 7525) finished, time:5.43 seconds.\n"
     ]
    },
    {
     "name": "stderr",
     "output_type": "stream",
     "text": [
      "\n"
     ]
    },
    {
     "name": "stdout",
     "output_type": "stream",
     "text": [
      "\u001b[32m[1021 13:47:47 @saver.py:79]\u001b[0m Model saved to ../output/Chicago/DATGAN_99/model\\model-7525.\n",
      "\u001b[32m[1021 13:47:47 @monitor.py:467]\u001b[0m GAN_loss/discrim/accuracy_fake: 0.966\n",
      "\u001b[32m[1021 13:47:47 @monitor.py:467]\u001b[0m GAN_loss/discrim/accuracy_real: 0.082\n",
      "\u001b[32m[1021 13:47:47 @monitor.py:467]\u001b[0m GAN_loss/discrim/loss: 0.64168\n",
      "\u001b[32m[1021 13:47:47 @monitor.py:467]\u001b[0m GAN_loss/gen/final-g-loss: 1.0174\n",
      "\u001b[32m[1021 13:47:47 @monitor.py:467]\u001b[0m GAN_loss/gen/klloss: 0.068744\n",
      "\u001b[32m[1021 13:47:47 @monitor.py:467]\u001b[0m GAN_loss/gen/loss: 0.9487\n",
      "\u001b[32m[1021 13:47:47 @monitor.py:467]\u001b[0m QueueInput/queue_size: 50\n",
      "\u001b[32m[1021 13:47:47 @base.py:275]\u001b[0m Start Epoch 44 ...\n"
     ]
    },
    {
     "name": "stderr",
     "output_type": "stream",
     "text": [
      "100%|###################################################################################|175/175[00:05<00:00,32.21it/s]"
     ]
    },
    {
     "name": "stdout",
     "output_type": "stream",
     "text": [
      "\u001b[32m[1021 13:47:53 @base.py:285]\u001b[0m Epoch 44 (global_step 7700) finished, time:5.43 seconds.\n",
      "\u001b[32m[1021 13:47:53 @saver.py:79]\u001b[0m Model saved to ../output/Chicago/DATGAN_99/model\\model-7700.\n",
      "\u001b[32m[1021 13:47:53 @monitor.py:467]\u001b[0m GAN_loss/discrim/accuracy_fake: 0.962\n",
      "\u001b[32m[1021 13:47:53 @monitor.py:467]\u001b[0m GAN_loss/discrim/accuracy_real: 0.07\n",
      "\u001b[32m[1021 13:47:53 @monitor.py:467]\u001b[0m GAN_loss/discrim/loss: 0.64649\n",
      "\u001b[32m[1021 13:47:53 @monitor.py:467]\u001b[0m GAN_loss/gen/final-g-loss: 1.0063\n",
      "\u001b[32m[1021 13:47:53 @monitor.py:467]\u001b[0m GAN_loss/gen/klloss: 0.071348\n",
      "\u001b[32m[1021 13:47:53 @monitor.py:467]\u001b[0m GAN_loss/gen/loss: 0.93498\n",
      "\u001b[32m[1021 13:47:53 @monitor.py:467]\u001b[0m QueueInput/queue_size: 50\n",
      "\u001b[32m[1021 13:47:53 @base.py:275]\u001b[0m Start Epoch 45 ...\n"
     ]
    },
    {
     "name": "stderr",
     "output_type": "stream",
     "text": [
      "\n",
      "100%|###################################################################################|175/175[00:05<00:00,32.33it/s]"
     ]
    },
    {
     "name": "stdout",
     "output_type": "stream",
     "text": [
      "\u001b[32m[1021 13:47:58 @base.py:285]\u001b[0m Epoch 45 (global_step 7875) finished, time:5.41 seconds.\n"
     ]
    },
    {
     "name": "stderr",
     "output_type": "stream",
     "text": [
      "\n"
     ]
    },
    {
     "name": "stdout",
     "output_type": "stream",
     "text": [
      "\u001b[32m[1021 13:47:58 @saver.py:79]\u001b[0m Model saved to ../output/Chicago/DATGAN_99/model\\model-7875.\n",
      "\u001b[32m[1021 13:47:58 @monitor.py:467]\u001b[0m GAN_loss/discrim/accuracy_fake: 0.942\n",
      "\u001b[32m[1021 13:47:58 @monitor.py:467]\u001b[0m GAN_loss/discrim/accuracy_real: 0.08\n",
      "\u001b[32m[1021 13:47:58 @monitor.py:467]\u001b[0m GAN_loss/discrim/loss: 0.64522\n",
      "\u001b[32m[1021 13:47:58 @monitor.py:467]\u001b[0m GAN_loss/gen/final-g-loss: 0.98177\n",
      "\u001b[32m[1021 13:47:58 @monitor.py:467]\u001b[0m GAN_loss/gen/klloss: 0.042707\n",
      "\u001b[32m[1021 13:47:58 @monitor.py:467]\u001b[0m GAN_loss/gen/loss: 0.93906\n",
      "\u001b[32m[1021 13:47:58 @monitor.py:467]\u001b[0m QueueInput/queue_size: 50\n",
      "\u001b[32m[1021 13:47:58 @base.py:275]\u001b[0m Start Epoch 46 ...\n"
     ]
    },
    {
     "name": "stderr",
     "output_type": "stream",
     "text": [
      "100%|###################################################################################|175/175[00:05<00:00,32.31it/s]"
     ]
    },
    {
     "name": "stdout",
     "output_type": "stream",
     "text": [
      "\u001b[32m[1021 13:48:04 @base.py:285]\u001b[0m Epoch 46 (global_step 8050) finished, time:5.42 seconds.\n"
     ]
    },
    {
     "name": "stderr",
     "output_type": "stream",
     "text": [
      "\n"
     ]
    },
    {
     "name": "stdout",
     "output_type": "stream",
     "text": [
      "\u001b[32m[1021 13:48:04 @saver.py:79]\u001b[0m Model saved to ../output/Chicago/DATGAN_99/model\\model-8050.\n",
      "\u001b[32m[1021 13:48:04 @monitor.py:467]\u001b[0m GAN_loss/discrim/accuracy_fake: 0.972\n",
      "\u001b[32m[1021 13:48:04 @monitor.py:467]\u001b[0m GAN_loss/discrim/accuracy_real: 0.062\n",
      "\u001b[32m[1021 13:48:04 @monitor.py:467]\u001b[0m GAN_loss/discrim/loss: 0.64651\n",
      "\u001b[32m[1021 13:48:04 @monitor.py:467]\u001b[0m GAN_loss/gen/final-g-loss: 1.0004\n",
      "\u001b[32m[1021 13:48:04 @monitor.py:467]\u001b[0m GAN_loss/gen/klloss: 0.055552\n",
      "\u001b[32m[1021 13:48:04 @monitor.py:467]\u001b[0m GAN_loss/gen/loss: 0.94482\n",
      "\u001b[32m[1021 13:48:04 @monitor.py:467]\u001b[0m QueueInput/queue_size: 50\n",
      "\u001b[32m[1021 13:48:04 @base.py:275]\u001b[0m Start Epoch 47 ...\n"
     ]
    },
    {
     "name": "stderr",
     "output_type": "stream",
     "text": [
      "100%|###################################################################################|175/175[00:05<00:00,32.34it/s]"
     ]
    },
    {
     "name": "stdout",
     "output_type": "stream",
     "text": [
      "\u001b[32m[1021 13:48:09 @base.py:285]\u001b[0m Epoch 47 (global_step 8225) finished, time:5.41 seconds.\n"
     ]
    },
    {
     "name": "stderr",
     "output_type": "stream",
     "text": [
      "\n"
     ]
    },
    {
     "name": "stdout",
     "output_type": "stream",
     "text": [
      "\u001b[32m[1021 13:48:09 @saver.py:79]\u001b[0m Model saved to ../output/Chicago/DATGAN_99/model\\model-8225.\n",
      "\u001b[32m[1021 13:48:09 @monitor.py:467]\u001b[0m GAN_loss/discrim/accuracy_fake: 0.952\n",
      "\u001b[32m[1021 13:48:09 @monitor.py:467]\u001b[0m GAN_loss/discrim/accuracy_real: 0.07\n",
      "\u001b[32m[1021 13:48:09 @monitor.py:467]\u001b[0m GAN_loss/discrim/loss: 0.64518\n",
      "\u001b[32m[1021 13:48:09 @monitor.py:467]\u001b[0m GAN_loss/gen/final-g-loss: 1.0387\n",
      "\u001b[32m[1021 13:48:09 @monitor.py:467]\u001b[0m GAN_loss/gen/klloss: 0.089842\n",
      "\u001b[32m[1021 13:48:09 @monitor.py:467]\u001b[0m GAN_loss/gen/loss: 0.9489\n",
      "\u001b[32m[1021 13:48:09 @monitor.py:467]\u001b[0m QueueInput/queue_size: 50\n",
      "\u001b[32m[1021 13:48:09 @base.py:275]\u001b[0m Start Epoch 48 ...\n"
     ]
    },
    {
     "name": "stderr",
     "output_type": "stream",
     "text": [
      "100%|###################################################################################|175/175[00:05<00:00,32.33it/s]"
     ]
    },
    {
     "name": "stdout",
     "output_type": "stream",
     "text": [
      "\u001b[32m[1021 13:48:15 @base.py:285]\u001b[0m Epoch 48 (global_step 8400) finished, time:5.41 seconds.\n"
     ]
    },
    {
     "name": "stderr",
     "output_type": "stream",
     "text": [
      "\n"
     ]
    },
    {
     "name": "stdout",
     "output_type": "stream",
     "text": [
      "\u001b[32m[1021 13:48:15 @saver.py:79]\u001b[0m Model saved to ../output/Chicago/DATGAN_99/model\\model-8400.\n",
      "\u001b[32m[1021 13:48:15 @monitor.py:467]\u001b[0m GAN_loss/discrim/accuracy_fake: 0.954\n",
      "\u001b[32m[1021 13:48:15 @monitor.py:467]\u001b[0m GAN_loss/discrim/accuracy_real: 0.072\n",
      "\u001b[32m[1021 13:48:15 @monitor.py:467]\u001b[0m GAN_loss/discrim/loss: 0.64661\n",
      "\u001b[32m[1021 13:48:15 @monitor.py:467]\u001b[0m GAN_loss/gen/final-g-loss: 1\n",
      "\u001b[32m[1021 13:48:15 @monitor.py:467]\u001b[0m GAN_loss/gen/klloss: 0.061778\n",
      "\u001b[32m[1021 13:48:15 @monitor.py:467]\u001b[0m GAN_loss/gen/loss: 0.93823\n",
      "\u001b[32m[1021 13:48:15 @monitor.py:467]\u001b[0m QueueInput/queue_size: 50\n",
      "\u001b[32m[1021 13:48:15 @base.py:275]\u001b[0m Start Epoch 49 ...\n"
     ]
    },
    {
     "name": "stderr",
     "output_type": "stream",
     "text": [
      "100%|###################################################################################|175/175[00:05<00:00,32.34it/s]"
     ]
    },
    {
     "name": "stdout",
     "output_type": "stream",
     "text": [
      "\u001b[32m[1021 13:48:20 @base.py:285]\u001b[0m Epoch 49 (global_step 8575) finished, time:5.41 seconds.\n"
     ]
    },
    {
     "name": "stderr",
     "output_type": "stream",
     "text": [
      "\n"
     ]
    },
    {
     "name": "stdout",
     "output_type": "stream",
     "text": [
      "\u001b[32m[1021 13:48:20 @saver.py:79]\u001b[0m Model saved to ../output/Chicago/DATGAN_99/model\\model-8575.\n",
      "\u001b[32m[1021 13:48:20 @monitor.py:467]\u001b[0m GAN_loss/discrim/accuracy_fake: 0.958\n",
      "\u001b[32m[1021 13:48:20 @monitor.py:467]\u001b[0m GAN_loss/discrim/accuracy_real: 0.068\n",
      "\u001b[32m[1021 13:48:20 @monitor.py:467]\u001b[0m GAN_loss/discrim/loss: 0.64893\n",
      "\u001b[32m[1021 13:48:20 @monitor.py:467]\u001b[0m GAN_loss/gen/final-g-loss: 0.9979\n",
      "\u001b[32m[1021 13:48:20 @monitor.py:467]\u001b[0m GAN_loss/gen/klloss: 0.056982\n",
      "\u001b[32m[1021 13:48:20 @monitor.py:467]\u001b[0m GAN_loss/gen/loss: 0.94092\n",
      "\u001b[32m[1021 13:48:20 @monitor.py:467]\u001b[0m QueueInput/queue_size: 50\n",
      "\u001b[32m[1021 13:48:20 @base.py:275]\u001b[0m Start Epoch 50 ...\n"
     ]
    },
    {
     "name": "stderr",
     "output_type": "stream",
     "text": [
      "100%|###################################################################################|175/175[00:05<00:00,32.34it/s]"
     ]
    },
    {
     "name": "stdout",
     "output_type": "stream",
     "text": [
      "\u001b[32m[1021 13:48:26 @base.py:285]\u001b[0m Epoch 50 (global_step 8750) finished, time:5.41 seconds.\n"
     ]
    },
    {
     "name": "stderr",
     "output_type": "stream",
     "text": [
      "\n"
     ]
    },
    {
     "name": "stdout",
     "output_type": "stream",
     "text": [
      "\u001b[32m[1021 13:48:26 @saver.py:79]\u001b[0m Model saved to ../output/Chicago/DATGAN_99/model\\model-8750.\n",
      "\u001b[32m[1021 13:48:26 @monitor.py:467]\u001b[0m GAN_loss/discrim/accuracy_fake: 0.96\n",
      "\u001b[32m[1021 13:48:26 @monitor.py:467]\u001b[0m GAN_loss/discrim/accuracy_real: 0.09\n",
      "\u001b[32m[1021 13:48:26 @monitor.py:467]\u001b[0m GAN_loss/discrim/loss: 0.64096\n",
      "\u001b[32m[1021 13:48:26 @monitor.py:467]\u001b[0m GAN_loss/gen/final-g-loss: 1.0065\n",
      "\u001b[32m[1021 13:48:26 @monitor.py:467]\u001b[0m GAN_loss/gen/klloss: 0.069344\n",
      "\u001b[32m[1021 13:48:26 @monitor.py:467]\u001b[0m GAN_loss/gen/loss: 0.93719\n",
      "\u001b[32m[1021 13:48:26 @monitor.py:467]\u001b[0m QueueInput/queue_size: 50\n",
      "\u001b[32m[1021 13:48:26 @base.py:275]\u001b[0m Start Epoch 51 ...\n"
     ]
    },
    {
     "name": "stderr",
     "output_type": "stream",
     "text": [
      "100%|###################################################################################|175/175[00:05<00:00,32.33it/s]"
     ]
    },
    {
     "name": "stdout",
     "output_type": "stream",
     "text": [
      "\u001b[32m[1021 13:48:31 @base.py:285]\u001b[0m Epoch 51 (global_step 8925) finished, time:5.41 seconds.\n"
     ]
    },
    {
     "name": "stderr",
     "output_type": "stream",
     "text": [
      "\n"
     ]
    },
    {
     "name": "stdout",
     "output_type": "stream",
     "text": [
      "\u001b[32m[1021 13:48:31 @saver.py:79]\u001b[0m Model saved to ../output/Chicago/DATGAN_99/model\\model-8925.\n",
      "\u001b[32m[1021 13:48:31 @monitor.py:467]\u001b[0m GAN_loss/discrim/accuracy_fake: 0.956\n",
      "\u001b[32m[1021 13:48:31 @monitor.py:467]\u001b[0m GAN_loss/discrim/accuracy_real: 0.054\n",
      "\u001b[32m[1021 13:48:31 @monitor.py:467]\u001b[0m GAN_loss/discrim/loss: 0.65579\n",
      "\u001b[32m[1021 13:48:31 @monitor.py:467]\u001b[0m GAN_loss/gen/final-g-loss: 1.0121\n",
      "\u001b[32m[1021 13:48:31 @monitor.py:467]\u001b[0m GAN_loss/gen/klloss: 0.081136\n",
      "\u001b[32m[1021 13:48:31 @monitor.py:467]\u001b[0m GAN_loss/gen/loss: 0.93097\n",
      "\u001b[32m[1021 13:48:31 @monitor.py:467]\u001b[0m QueueInput/queue_size: 50\n",
      "\u001b[32m[1021 13:48:31 @base.py:275]\u001b[0m Start Epoch 52 ...\n"
     ]
    },
    {
     "name": "stderr",
     "output_type": "stream",
     "text": [
      "100%|###################################################################################|175/175[00:05<00:00,32.31it/s]"
     ]
    },
    {
     "name": "stdout",
     "output_type": "stream",
     "text": [
      "\u001b[32m[1021 13:48:37 @base.py:285]\u001b[0m Epoch 52 (global_step 9100) finished, time:5.42 seconds.\n"
     ]
    },
    {
     "name": "stderr",
     "output_type": "stream",
     "text": [
      "\n"
     ]
    },
    {
     "name": "stdout",
     "output_type": "stream",
     "text": [
      "\u001b[32m[1021 13:48:37 @saver.py:79]\u001b[0m Model saved to ../output/Chicago/DATGAN_99/model\\model-9100.\n",
      "\u001b[32m[1021 13:48:37 @monitor.py:467]\u001b[0m GAN_loss/discrim/accuracy_fake: 0.96\n",
      "\u001b[32m[1021 13:48:37 @monitor.py:467]\u001b[0m GAN_loss/discrim/accuracy_real: 0.07\n",
      "\u001b[32m[1021 13:48:37 @monitor.py:467]\u001b[0m GAN_loss/discrim/loss: 0.64205\n",
      "\u001b[32m[1021 13:48:37 @monitor.py:467]\u001b[0m GAN_loss/gen/final-g-loss: 0.98636\n",
      "\u001b[32m[1021 13:48:37 @monitor.py:467]\u001b[0m GAN_loss/gen/klloss: 0.051753\n",
      "\u001b[32m[1021 13:48:37 @monitor.py:467]\u001b[0m GAN_loss/gen/loss: 0.9346\n",
      "\u001b[32m[1021 13:48:37 @monitor.py:467]\u001b[0m QueueInput/queue_size: 50\n",
      "\u001b[32m[1021 13:48:37 @base.py:275]\u001b[0m Start Epoch 53 ...\n"
     ]
    },
    {
     "name": "stderr",
     "output_type": "stream",
     "text": [
      "100%|###################################################################################|175/175[00:05<00:00,32.32it/s]"
     ]
    },
    {
     "name": "stdout",
     "output_type": "stream",
     "text": [
      "\u001b[32m[1021 13:48:42 @base.py:285]\u001b[0m Epoch 53 (global_step 9275) finished, time:5.42 seconds.\n"
     ]
    },
    {
     "name": "stderr",
     "output_type": "stream",
     "text": [
      "\n"
     ]
    },
    {
     "name": "stdout",
     "output_type": "stream",
     "text": [
      "\u001b[32m[1021 13:48:42 @saver.py:79]\u001b[0m Model saved to ../output/Chicago/DATGAN_99/model\\model-9275.\n",
      "\u001b[32m[1021 13:48:42 @monitor.py:467]\u001b[0m GAN_loss/discrim/accuracy_fake: 0.956\n",
      "\u001b[32m[1021 13:48:42 @monitor.py:467]\u001b[0m GAN_loss/discrim/accuracy_real: 0.056\n",
      "\u001b[32m[1021 13:48:42 @monitor.py:467]\u001b[0m GAN_loss/discrim/loss: 0.65054\n",
      "\u001b[32m[1021 13:48:42 @monitor.py:467]\u001b[0m GAN_loss/gen/final-g-loss: 0.98443\n",
      "\u001b[32m[1021 13:48:42 @monitor.py:467]\u001b[0m GAN_loss/gen/klloss: 0.051237\n",
      "\u001b[32m[1021 13:48:42 @monitor.py:467]\u001b[0m GAN_loss/gen/loss: 0.93319\n",
      "\u001b[32m[1021 13:48:42 @monitor.py:467]\u001b[0m QueueInput/queue_size: 50\n",
      "\u001b[32m[1021 13:48:42 @base.py:275]\u001b[0m Start Epoch 54 ...\n"
     ]
    },
    {
     "name": "stderr",
     "output_type": "stream",
     "text": [
      "100%|###################################################################################|175/175[00:05<00:00,32.29it/s]"
     ]
    },
    {
     "name": "stdout",
     "output_type": "stream",
     "text": [
      "\u001b[32m[1021 13:48:48 @base.py:285]\u001b[0m Epoch 54 (global_step 9450) finished, time:5.42 seconds.\n",
      "\u001b[32m[1021 13:48:48 @saver.py:79]\u001b[0m Model saved to ../output/Chicago/DATGAN_99/model\\model-9450.\n",
      "\u001b[32m[1021 13:48:48 @monitor.py:467]\u001b[0m GAN_loss/discrim/accuracy_fake: 0.974\n",
      "\u001b[32m[1021 13:48:48 @monitor.py:467]\u001b[0m GAN_loss/discrim/accuracy_real: 0.076\n",
      "\u001b[32m[1021 13:48:48 @monitor.py:467]\u001b[0m GAN_loss/discrim/loss: 0.6419\n",
      "\u001b[32m[1021 13:48:48 @monitor.py:467]\u001b[0m GAN_loss/gen/final-g-loss: 1.0049\n",
      "\u001b[32m[1021 13:48:48 @monitor.py:467]\u001b[0m GAN_loss/gen/klloss: 0.063208\n",
      "\u001b[32m[1021 13:48:48 @monitor.py:467]\u001b[0m GAN_loss/gen/loss: 0.94173\n",
      "\u001b[32m[1021 13:48:48 @monitor.py:467]\u001b[0m QueueInput/queue_size: 50\n",
      "\u001b[32m[1021 13:48:48 @base.py:275]\u001b[0m Start Epoch 55 ...\n"
     ]
    },
    {
     "name": "stderr",
     "output_type": "stream",
     "text": [
      "\n",
      "100%|###################################################################################|175/175[00:05<00:00,32.28it/s]"
     ]
    },
    {
     "name": "stdout",
     "output_type": "stream",
     "text": [
      "\u001b[32m[1021 13:48:53 @base.py:285]\u001b[0m Epoch 55 (global_step 9625) finished, time:5.42 seconds.\n"
     ]
    },
    {
     "name": "stderr",
     "output_type": "stream",
     "text": [
      "\n"
     ]
    },
    {
     "name": "stdout",
     "output_type": "stream",
     "text": [
      "\u001b[32m[1021 13:48:53 @saver.py:79]\u001b[0m Model saved to ../output/Chicago/DATGAN_99/model\\model-9625.\n",
      "\u001b[32m[1021 13:48:54 @monitor.py:467]\u001b[0m GAN_loss/discrim/accuracy_fake: 0.968\n",
      "\u001b[32m[1021 13:48:54 @monitor.py:467]\u001b[0m GAN_loss/discrim/accuracy_real: 0.08\n",
      "\u001b[32m[1021 13:48:54 @monitor.py:467]\u001b[0m GAN_loss/discrim/loss: 0.64644\n",
      "\u001b[32m[1021 13:48:54 @monitor.py:467]\u001b[0m GAN_loss/gen/final-g-loss: 0.99091\n",
      "\u001b[32m[1021 13:48:54 @monitor.py:467]\u001b[0m GAN_loss/gen/klloss: 0.061228\n",
      "\u001b[32m[1021 13:48:54 @monitor.py:467]\u001b[0m GAN_loss/gen/loss: 0.92968\n",
      "\u001b[32m[1021 13:48:54 @monitor.py:467]\u001b[0m QueueInput/queue_size: 50\n",
      "\u001b[32m[1021 13:48:54 @base.py:275]\u001b[0m Start Epoch 56 ...\n"
     ]
    },
    {
     "name": "stderr",
     "output_type": "stream",
     "text": [
      "100%|###################################################################################|175/175[00:05<00:00,31.92it/s]"
     ]
    },
    {
     "name": "stdout",
     "output_type": "stream",
     "text": [
      "\u001b[32m[1021 13:48:59 @base.py:285]\u001b[0m Epoch 56 (global_step 9800) finished, time:5.48 seconds.\n",
      "\u001b[32m[1021 13:48:59 @saver.py:79]\u001b[0m Model saved to ../output/Chicago/DATGAN_99/model\\model-9800.\n",
      "\u001b[32m[1021 13:48:59 @monitor.py:467]\u001b[0m GAN_loss/discrim/accuracy_fake: 0.96\n",
      "\u001b[32m[1021 13:48:59 @monitor.py:467]\u001b[0m GAN_loss/discrim/accuracy_real: 0.07\n",
      "\u001b[32m[1021 13:48:59 @monitor.py:467]\u001b[0m GAN_loss/discrim/loss: 0.64885\n",
      "\u001b[32m[1021 13:48:59 @monitor.py:467]\u001b[0m GAN_loss/gen/final-g-loss: 0.98121\n",
      "\u001b[32m[1021 13:48:59 @monitor.py:467]\u001b[0m GAN_loss/gen/klloss: 0.045002\n",
      "\u001b[32m[1021 13:48:59 @monitor.py:467]\u001b[0m GAN_loss/gen/loss: 0.9362\n",
      "\u001b[32m[1021 13:48:59 @monitor.py:467]\u001b[0m QueueInput/queue_size: 50\n",
      "\u001b[32m[1021 13:48:59 @base.py:275]\u001b[0m Start Epoch 57 ...\n"
     ]
    },
    {
     "name": "stderr",
     "output_type": "stream",
     "text": [
      "\n",
      "100%|###################################################################################|175/175[00:05<00:00,32.28it/s]"
     ]
    },
    {
     "name": "stdout",
     "output_type": "stream",
     "text": [
      "\u001b[32m[1021 13:49:05 @base.py:285]\u001b[0m Epoch 57 (global_step 9975) finished, time:5.42 seconds.\n"
     ]
    },
    {
     "name": "stderr",
     "output_type": "stream",
     "text": [
      "\n"
     ]
    },
    {
     "name": "stdout",
     "output_type": "stream",
     "text": [
      "\u001b[32m[1021 13:49:05 @saver.py:79]\u001b[0m Model saved to ../output/Chicago/DATGAN_99/model\\model-9975.\n",
      "\u001b[32m[1021 13:49:05 @monitor.py:467]\u001b[0m GAN_loss/discrim/accuracy_fake: 0.956\n",
      "\u001b[32m[1021 13:49:05 @monitor.py:467]\u001b[0m GAN_loss/discrim/accuracy_real: 0.06\n",
      "\u001b[32m[1021 13:49:05 @monitor.py:467]\u001b[0m GAN_loss/discrim/loss: 0.64499\n",
      "\u001b[32m[1021 13:49:05 @monitor.py:467]\u001b[0m GAN_loss/gen/final-g-loss: 0.99717\n",
      "\u001b[32m[1021 13:49:05 @monitor.py:467]\u001b[0m GAN_loss/gen/klloss: 0.054242\n",
      "\u001b[32m[1021 13:49:05 @monitor.py:467]\u001b[0m GAN_loss/gen/loss: 0.94293\n",
      "\u001b[32m[1021 13:49:05 @monitor.py:467]\u001b[0m QueueInput/queue_size: 50\n",
      "\u001b[32m[1021 13:49:05 @base.py:275]\u001b[0m Start Epoch 58 ...\n"
     ]
    },
    {
     "name": "stderr",
     "output_type": "stream",
     "text": [
      "100%|###################################################################################|175/175[00:05<00:00,32.32it/s]"
     ]
    },
    {
     "name": "stdout",
     "output_type": "stream",
     "text": [
      "\u001b[32m[1021 13:49:10 @base.py:285]\u001b[0m Epoch 58 (global_step 10150) finished, time:5.42 seconds.\n"
     ]
    },
    {
     "name": "stderr",
     "output_type": "stream",
     "text": [
      "\n"
     ]
    },
    {
     "name": "stdout",
     "output_type": "stream",
     "text": [
      "\u001b[32m[1021 13:49:10 @saver.py:79]\u001b[0m Model saved to ../output/Chicago/DATGAN_99/model\\model-10150.\n",
      "\u001b[32m[1021 13:49:10 @monitor.py:467]\u001b[0m GAN_loss/discrim/accuracy_fake: 0.96\n",
      "\u001b[32m[1021 13:49:10 @monitor.py:467]\u001b[0m GAN_loss/discrim/accuracy_real: 0.074\n",
      "\u001b[32m[1021 13:49:10 @monitor.py:467]\u001b[0m GAN_loss/discrim/loss: 0.6504\n",
      "\u001b[32m[1021 13:49:10 @monitor.py:467]\u001b[0m GAN_loss/gen/final-g-loss: 0.97322\n",
      "\u001b[32m[1021 13:49:10 @monitor.py:467]\u001b[0m GAN_loss/gen/klloss: 0.042874\n",
      "\u001b[32m[1021 13:49:10 @monitor.py:467]\u001b[0m GAN_loss/gen/loss: 0.93035\n",
      "\u001b[32m[1021 13:49:10 @monitor.py:467]\u001b[0m QueueInput/queue_size: 50\n",
      "\u001b[32m[1021 13:49:10 @base.py:275]\u001b[0m Start Epoch 59 ...\n"
     ]
    },
    {
     "name": "stderr",
     "output_type": "stream",
     "text": [
      "100%|###################################################################################|175/175[00:05<00:00,32.31it/s]"
     ]
    },
    {
     "name": "stdout",
     "output_type": "stream",
     "text": [
      "\u001b[32m[1021 13:49:16 @base.py:285]\u001b[0m Epoch 59 (global_step 10325) finished, time:5.42 seconds.\n"
     ]
    },
    {
     "name": "stderr",
     "output_type": "stream",
     "text": [
      "\n"
     ]
    },
    {
     "name": "stdout",
     "output_type": "stream",
     "text": [
      "\u001b[32m[1021 13:49:16 @saver.py:79]\u001b[0m Model saved to ../output/Chicago/DATGAN_99/model\\model-10325.\n",
      "\u001b[32m[1021 13:49:16 @monitor.py:467]\u001b[0m GAN_loss/discrim/accuracy_fake: 0.968\n",
      "\u001b[32m[1021 13:49:16 @monitor.py:467]\u001b[0m GAN_loss/discrim/accuracy_real: 0.056\n",
      "\u001b[32m[1021 13:49:16 @monitor.py:467]\u001b[0m GAN_loss/discrim/loss: 0.64259\n",
      "\u001b[32m[1021 13:49:16 @monitor.py:467]\u001b[0m GAN_loss/gen/final-g-loss: 1.0005\n",
      "\u001b[32m[1021 13:49:16 @monitor.py:467]\u001b[0m GAN_loss/gen/klloss: 0.065084\n",
      "\u001b[32m[1021 13:49:16 @monitor.py:467]\u001b[0m GAN_loss/gen/loss: 0.93546\n",
      "\u001b[32m[1021 13:49:16 @monitor.py:467]\u001b[0m QueueInput/queue_size: 50\n",
      "\u001b[32m[1021 13:49:16 @base.py:275]\u001b[0m Start Epoch 60 ...\n"
     ]
    },
    {
     "name": "stderr",
     "output_type": "stream",
     "text": [
      "100%|###################################################################################|175/175[00:05<00:00,32.31it/s]"
     ]
    },
    {
     "name": "stdout",
     "output_type": "stream",
     "text": [
      "\u001b[32m[1021 13:49:21 @base.py:285]\u001b[0m Epoch 60 (global_step 10500) finished, time:5.42 seconds.\n"
     ]
    },
    {
     "name": "stderr",
     "output_type": "stream",
     "text": [
      "\n"
     ]
    },
    {
     "name": "stdout",
     "output_type": "stream",
     "text": [
      "\u001b[32m[1021 13:49:21 @saver.py:79]\u001b[0m Model saved to ../output/Chicago/DATGAN_99/model\\model-10500.\n",
      "\u001b[32m[1021 13:49:21 @monitor.py:467]\u001b[0m GAN_loss/discrim/accuracy_fake: 0.952\n",
      "\u001b[32m[1021 13:49:21 @monitor.py:467]\u001b[0m GAN_loss/discrim/accuracy_real: 0.06\n",
      "\u001b[32m[1021 13:49:21 @monitor.py:467]\u001b[0m GAN_loss/discrim/loss: 0.64879\n",
      "\u001b[32m[1021 13:49:21 @monitor.py:467]\u001b[0m GAN_loss/gen/final-g-loss: 1.0006\n",
      "\u001b[32m[1021 13:49:21 @monitor.py:467]\u001b[0m GAN_loss/gen/klloss: 0.062449\n",
      "\u001b[32m[1021 13:49:21 @monitor.py:467]\u001b[0m GAN_loss/gen/loss: 0.93817\n",
      "\u001b[32m[1021 13:49:21 @monitor.py:467]\u001b[0m QueueInput/queue_size: 50\n",
      "\u001b[32m[1021 13:49:21 @base.py:275]\u001b[0m Start Epoch 61 ...\n"
     ]
    },
    {
     "name": "stderr",
     "output_type": "stream",
     "text": [
      "100%|###################################################################################|175/175[00:05<00:00,32.32it/s]"
     ]
    },
    {
     "name": "stdout",
     "output_type": "stream",
     "text": [
      "\u001b[32m[1021 13:49:27 @base.py:285]\u001b[0m Epoch 61 (global_step 10675) finished, time:5.41 seconds.\n"
     ]
    },
    {
     "name": "stderr",
     "output_type": "stream",
     "text": [
      "\n"
     ]
    },
    {
     "name": "stdout",
     "output_type": "stream",
     "text": [
      "\u001b[32m[1021 13:49:27 @saver.py:79]\u001b[0m Model saved to ../output/Chicago/DATGAN_99/model\\model-10675.\n",
      "\u001b[32m[1021 13:49:27 @monitor.py:467]\u001b[0m GAN_loss/discrim/accuracy_fake: 0.968\n",
      "\u001b[32m[1021 13:49:27 @monitor.py:467]\u001b[0m GAN_loss/discrim/accuracy_real: 0.056\n",
      "\u001b[32m[1021 13:49:27 @monitor.py:467]\u001b[0m GAN_loss/discrim/loss: 0.64568\n",
      "\u001b[32m[1021 13:49:27 @monitor.py:467]\u001b[0m GAN_loss/gen/final-g-loss: 1.0124\n",
      "\u001b[32m[1021 13:49:27 @monitor.py:467]\u001b[0m GAN_loss/gen/klloss: 0.060128\n",
      "\u001b[32m[1021 13:49:27 @monitor.py:467]\u001b[0m GAN_loss/gen/loss: 0.95228\n",
      "\u001b[32m[1021 13:49:27 @monitor.py:467]\u001b[0m QueueInput/queue_size: 50\n",
      "\u001b[32m[1021 13:49:27 @base.py:275]\u001b[0m Start Epoch 62 ...\n"
     ]
    },
    {
     "name": "stderr",
     "output_type": "stream",
     "text": [
      "100%|###################################################################################|175/175[00:05<00:00,32.30it/s]"
     ]
    },
    {
     "name": "stdout",
     "output_type": "stream",
     "text": [
      "\u001b[32m[1021 13:49:32 @base.py:285]\u001b[0m Epoch 62 (global_step 10850) finished, time:5.42 seconds.\n"
     ]
    },
    {
     "name": "stderr",
     "output_type": "stream",
     "text": [
      "\n"
     ]
    },
    {
     "name": "stdout",
     "output_type": "stream",
     "text": [
      "\u001b[32m[1021 13:49:32 @saver.py:79]\u001b[0m Model saved to ../output/Chicago/DATGAN_99/model\\model-10850.\n",
      "\u001b[32m[1021 13:49:32 @monitor.py:467]\u001b[0m GAN_loss/discrim/accuracy_fake: 0.958\n",
      "\u001b[32m[1021 13:49:32 @monitor.py:467]\u001b[0m GAN_loss/discrim/accuracy_real: 0.082\n",
      "\u001b[32m[1021 13:49:32 @monitor.py:467]\u001b[0m GAN_loss/discrim/loss: 0.63516\n",
      "\u001b[32m[1021 13:49:32 @monitor.py:467]\u001b[0m GAN_loss/gen/final-g-loss: 1.0097\n",
      "\u001b[32m[1021 13:49:32 @monitor.py:467]\u001b[0m GAN_loss/gen/klloss: 0.071545\n",
      "\u001b[32m[1021 13:49:32 @monitor.py:467]\u001b[0m GAN_loss/gen/loss: 0.93816\n",
      "\u001b[32m[1021 13:49:32 @monitor.py:467]\u001b[0m QueueInput/queue_size: 50\n",
      "\u001b[32m[1021 13:49:32 @base.py:275]\u001b[0m Start Epoch 63 ...\n"
     ]
    },
    {
     "name": "stderr",
     "output_type": "stream",
     "text": [
      "100%|###################################################################################|175/175[00:05<00:00,32.32it/s]"
     ]
    },
    {
     "name": "stdout",
     "output_type": "stream",
     "text": [
      "\u001b[32m[1021 13:49:38 @base.py:285]\u001b[0m Epoch 63 (global_step 11025) finished, time:5.41 seconds.\n"
     ]
    },
    {
     "name": "stderr",
     "output_type": "stream",
     "text": [
      "\n"
     ]
    },
    {
     "name": "stdout",
     "output_type": "stream",
     "text": [
      "\u001b[32m[1021 13:49:38 @saver.py:79]\u001b[0m Model saved to ../output/Chicago/DATGAN_99/model\\model-11025.\n",
      "\u001b[32m[1021 13:49:38 @monitor.py:467]\u001b[0m GAN_loss/discrim/accuracy_fake: 0.948\n",
      "\u001b[32m[1021 13:49:38 @monitor.py:467]\u001b[0m GAN_loss/discrim/accuracy_real: 0.068\n",
      "\u001b[32m[1021 13:49:38 @monitor.py:467]\u001b[0m GAN_loss/discrim/loss: 0.64995\n",
      "\u001b[32m[1021 13:49:38 @monitor.py:467]\u001b[0m GAN_loss/gen/final-g-loss: 0.97819\n",
      "\u001b[32m[1021 13:49:38 @monitor.py:467]\u001b[0m GAN_loss/gen/klloss: 0.041624\n",
      "\u001b[32m[1021 13:49:38 @monitor.py:467]\u001b[0m GAN_loss/gen/loss: 0.93657\n",
      "\u001b[32m[1021 13:49:38 @monitor.py:467]\u001b[0m QueueInput/queue_size: 50\n",
      "\u001b[32m[1021 13:49:38 @base.py:275]\u001b[0m Start Epoch 64 ...\n"
     ]
    },
    {
     "name": "stderr",
     "output_type": "stream",
     "text": [
      "100%|###################################################################################|175/175[00:05<00:00,32.29it/s]"
     ]
    },
    {
     "name": "stdout",
     "output_type": "stream",
     "text": [
      "\u001b[32m[1021 13:49:43 @base.py:285]\u001b[0m Epoch 64 (global_step 11200) finished, time:5.42 seconds.\n",
      "\u001b[32m[1021 13:49:43 @saver.py:79]\u001b[0m Model saved to ../output/Chicago/DATGAN_99/model\\model-11200.\n",
      "\u001b[32m[1021 13:49:43 @monitor.py:467]\u001b[0m GAN_loss/discrim/accuracy_fake: 0.95\n",
      "\u001b[32m[1021 13:49:43 @monitor.py:467]\u001b[0m GAN_loss/discrim/accuracy_real: 0.052\n",
      "\u001b[32m[1021 13:49:43 @monitor.py:467]\u001b[0m GAN_loss/discrim/loss: 0.64365\n",
      "\u001b[32m[1021 13:49:43 @monitor.py:467]\u001b[0m GAN_loss/gen/final-g-loss: 0.98739\n",
      "\u001b[32m[1021 13:49:43 @monitor.py:467]\u001b[0m GAN_loss/gen/klloss: 0.05524\n",
      "\u001b[32m[1021 13:49:43 @monitor.py:467]\u001b[0m GAN_loss/gen/loss: 0.93215\n",
      "\u001b[32m[1021 13:49:43 @monitor.py:467]\u001b[0m QueueInput/queue_size: 50\n",
      "\u001b[32m[1021 13:49:43 @base.py:275]\u001b[0m Start Epoch 65 ...\n"
     ]
    },
    {
     "name": "stderr",
     "output_type": "stream",
     "text": [
      "\n",
      "100%|###################################################################################|175/175[00:05<00:00,32.21it/s]"
     ]
    },
    {
     "name": "stdout",
     "output_type": "stream",
     "text": [
      "\u001b[32m[1021 13:49:49 @base.py:285]\u001b[0m Epoch 65 (global_step 11375) finished, time:5.43 seconds.\n",
      "\u001b[32m[1021 13:49:49 @saver.py:79]\u001b[0m Model saved to ../output/Chicago/DATGAN_99/model\\model-11375.\n",
      "\u001b[32m[1021 13:49:49 @monitor.py:467]\u001b[0m GAN_loss/discrim/accuracy_fake: 0.972\n",
      "\u001b[32m[1021 13:49:49 @monitor.py:467]\u001b[0m GAN_loss/discrim/accuracy_real: 0.052\n",
      "\u001b[32m[1021 13:49:49 @monitor.py:467]\u001b[0m GAN_loss/discrim/loss: 0.64561\n",
      "\u001b[32m[1021 13:49:49 @monitor.py:467]\u001b[0m GAN_loss/gen/final-g-loss: 1.0068\n",
      "\u001b[32m[1021 13:49:49 @monitor.py:467]\u001b[0m GAN_loss/gen/klloss: 0.063387\n",
      "\u001b[32m[1021 13:49:49 @monitor.py:467]\u001b[0m GAN_loss/gen/loss: 0.94337\n",
      "\u001b[32m[1021 13:49:49 @monitor.py:467]\u001b[0m QueueInput/queue_size: 50\n",
      "\u001b[32m[1021 13:49:49 @base.py:275]\u001b[0m Start Epoch 66 ...\n"
     ]
    },
    {
     "name": "stderr",
     "output_type": "stream",
     "text": [
      "\n",
      "100%|###################################################################################|175/175[00:05<00:00,32.07it/s]"
     ]
    },
    {
     "name": "stdout",
     "output_type": "stream",
     "text": [
      "\u001b[32m[1021 13:49:54 @base.py:285]\u001b[0m Epoch 66 (global_step 11550) finished, time:5.46 seconds.\n",
      "\u001b[32m[1021 13:49:54 @saver.py:79]\u001b[0m Model saved to ../output/Chicago/DATGAN_99/model\\model-11550.\n",
      "\u001b[32m[1021 13:49:54 @monitor.py:467]\u001b[0m GAN_loss/discrim/accuracy_fake: 0.95\n",
      "\u001b[32m[1021 13:49:54 @monitor.py:467]\u001b[0m GAN_loss/discrim/accuracy_real: 0.09\n",
      "\u001b[32m[1021 13:49:54 @monitor.py:467]\u001b[0m GAN_loss/discrim/loss: 0.64546\n",
      "\u001b[32m[1021 13:49:54 @monitor.py:467]\u001b[0m GAN_loss/gen/final-g-loss: 0.99049\n",
      "\u001b[32m[1021 13:49:54 @monitor.py:467]\u001b[0m GAN_loss/gen/klloss: 0.06032\n",
      "\u001b[32m[1021 13:49:54 @monitor.py:467]\u001b[0m GAN_loss/gen/loss: 0.93017\n",
      "\u001b[32m[1021 13:49:54 @monitor.py:467]\u001b[0m QueueInput/queue_size: 50\n",
      "\u001b[32m[1021 13:49:54 @base.py:275]\u001b[0m Start Epoch 67 ...\n"
     ]
    },
    {
     "name": "stderr",
     "output_type": "stream",
     "text": [
      "\n",
      "100%|###################################################################################|175/175[00:05<00:00,32.32it/s]"
     ]
    },
    {
     "name": "stdout",
     "output_type": "stream",
     "text": [
      "\u001b[32m[1021 13:50:00 @base.py:285]\u001b[0m Epoch 67 (global_step 11725) finished, time:5.42 seconds.\n"
     ]
    },
    {
     "name": "stderr",
     "output_type": "stream",
     "text": [
      "\n"
     ]
    },
    {
     "name": "stdout",
     "output_type": "stream",
     "text": [
      "\u001b[32m[1021 13:50:00 @saver.py:79]\u001b[0m Model saved to ../output/Chicago/DATGAN_99/model\\model-11725.\n",
      "\u001b[32m[1021 13:50:00 @monitor.py:467]\u001b[0m GAN_loss/discrim/accuracy_fake: 0.95\n",
      "\u001b[32m[1021 13:50:00 @monitor.py:467]\u001b[0m GAN_loss/discrim/accuracy_real: 0.098\n",
      "\u001b[32m[1021 13:50:00 @monitor.py:467]\u001b[0m GAN_loss/discrim/loss: 0.64234\n",
      "\u001b[32m[1021 13:50:00 @monitor.py:467]\u001b[0m GAN_loss/gen/final-g-loss: 0.99739\n",
      "\u001b[32m[1021 13:50:00 @monitor.py:467]\u001b[0m GAN_loss/gen/klloss: 0.062308\n",
      "\u001b[32m[1021 13:50:00 @monitor.py:467]\u001b[0m GAN_loss/gen/loss: 0.93509\n",
      "\u001b[32m[1021 13:50:00 @monitor.py:467]\u001b[0m QueueInput/queue_size: 50\n",
      "\u001b[32m[1021 13:50:00 @base.py:275]\u001b[0m Start Epoch 68 ...\n"
     ]
    },
    {
     "name": "stderr",
     "output_type": "stream",
     "text": [
      "100%|###################################################################################|175/175[00:05<00:00,32.31it/s]"
     ]
    },
    {
     "name": "stdout",
     "output_type": "stream",
     "text": [
      "\u001b[32m[1021 13:50:05 @base.py:285]\u001b[0m Epoch 68 (global_step 11900) finished, time:5.42 seconds.\n"
     ]
    },
    {
     "name": "stderr",
     "output_type": "stream",
     "text": [
      "\n"
     ]
    },
    {
     "name": "stdout",
     "output_type": "stream",
     "text": [
      "\u001b[32m[1021 13:50:05 @saver.py:79]\u001b[0m Model saved to ../output/Chicago/DATGAN_99/model\\model-11900.\n",
      "\u001b[32m[1021 13:50:05 @monitor.py:467]\u001b[0m GAN_loss/discrim/accuracy_fake: 0.958\n",
      "\u001b[32m[1021 13:50:05 @monitor.py:467]\u001b[0m GAN_loss/discrim/accuracy_real: 0.07\n",
      "\u001b[32m[1021 13:50:05 @monitor.py:467]\u001b[0m GAN_loss/discrim/loss: 0.64408\n",
      "\u001b[32m[1021 13:50:05 @monitor.py:467]\u001b[0m GAN_loss/gen/final-g-loss: 1.0064\n",
      "\u001b[32m[1021 13:50:05 @monitor.py:467]\u001b[0m GAN_loss/gen/klloss: 0.055299\n",
      "\u001b[32m[1021 13:50:05 @monitor.py:467]\u001b[0m GAN_loss/gen/loss: 0.9511\n",
      "\u001b[32m[1021 13:50:05 @monitor.py:467]\u001b[0m QueueInput/queue_size: 50\n",
      "\u001b[32m[1021 13:50:05 @base.py:275]\u001b[0m Start Epoch 69 ...\n"
     ]
    },
    {
     "name": "stderr",
     "output_type": "stream",
     "text": [
      "100%|###################################################################################|175/175[00:05<00:00,32.31it/s]"
     ]
    },
    {
     "name": "stdout",
     "output_type": "stream",
     "text": [
      "\u001b[32m[1021 13:50:11 @base.py:285]\u001b[0m Epoch 69 (global_step 12075) finished, time:5.42 seconds.\n"
     ]
    },
    {
     "name": "stderr",
     "output_type": "stream",
     "text": [
      "\n"
     ]
    },
    {
     "name": "stdout",
     "output_type": "stream",
     "text": [
      "\u001b[32m[1021 13:50:11 @saver.py:79]\u001b[0m Model saved to ../output/Chicago/DATGAN_99/model\\model-12075.\n",
      "\u001b[32m[1021 13:50:11 @monitor.py:467]\u001b[0m GAN_loss/discrim/accuracy_fake: 0.952\n",
      "\u001b[32m[1021 13:50:11 @monitor.py:467]\u001b[0m GAN_loss/discrim/accuracy_real: 0.074\n",
      "\u001b[32m[1021 13:50:11 @monitor.py:467]\u001b[0m GAN_loss/discrim/loss: 0.64609\n",
      "\u001b[32m[1021 13:50:11 @monitor.py:467]\u001b[0m GAN_loss/gen/final-g-loss: 1.0326\n",
      "\u001b[32m[1021 13:50:11 @monitor.py:467]\u001b[0m GAN_loss/gen/klloss: 0.090483\n",
      "\u001b[32m[1021 13:50:11 @monitor.py:467]\u001b[0m GAN_loss/gen/loss: 0.94208\n",
      "\u001b[32m[1021 13:50:11 @monitor.py:467]\u001b[0m QueueInput/queue_size: 50\n",
      "\u001b[32m[1021 13:50:11 @base.py:275]\u001b[0m Start Epoch 70 ...\n"
     ]
    },
    {
     "name": "stderr",
     "output_type": "stream",
     "text": [
      "100%|###################################################################################|175/175[00:05<00:00,32.30it/s]"
     ]
    },
    {
     "name": "stdout",
     "output_type": "stream",
     "text": [
      "\u001b[32m[1021 13:50:16 @base.py:285]\u001b[0m Epoch 70 (global_step 12250) finished, time:5.42 seconds.\n"
     ]
    },
    {
     "name": "stderr",
     "output_type": "stream",
     "text": [
      "\n"
     ]
    },
    {
     "name": "stdout",
     "output_type": "stream",
     "text": [
      "\u001b[32m[1021 13:50:16 @saver.py:79]\u001b[0m Model saved to ../output/Chicago/DATGAN_99/model\\model-12250.\n",
      "\u001b[32m[1021 13:50:16 @monitor.py:467]\u001b[0m GAN_loss/discrim/accuracy_fake: 0.958\n",
      "\u001b[32m[1021 13:50:16 @monitor.py:467]\u001b[0m GAN_loss/discrim/accuracy_real: 0.078\n",
      "\u001b[32m[1021 13:50:16 @monitor.py:467]\u001b[0m GAN_loss/discrim/loss: 0.65309\n",
      "\u001b[32m[1021 13:50:16 @monitor.py:467]\u001b[0m GAN_loss/gen/final-g-loss: 1.0344\n",
      "\u001b[32m[1021 13:50:16 @monitor.py:467]\u001b[0m GAN_loss/gen/klloss: 0.09739\n",
      "\u001b[32m[1021 13:50:16 @monitor.py:467]\u001b[0m GAN_loss/gen/loss: 0.93699\n",
      "\u001b[32m[1021 13:50:16 @monitor.py:467]\u001b[0m QueueInput/queue_size: 50\n",
      "\u001b[32m[1021 13:50:16 @base.py:275]\u001b[0m Start Epoch 71 ...\n"
     ]
    },
    {
     "name": "stderr",
     "output_type": "stream",
     "text": [
      "100%|###################################################################################|175/175[00:05<00:00,32.31it/s]"
     ]
    },
    {
     "name": "stdout",
     "output_type": "stream",
     "text": [
      "\u001b[32m[1021 13:50:22 @base.py:285]\u001b[0m Epoch 71 (global_step 12425) finished, time:5.42 seconds.\n"
     ]
    },
    {
     "name": "stderr",
     "output_type": "stream",
     "text": [
      "\n"
     ]
    },
    {
     "name": "stdout",
     "output_type": "stream",
     "text": [
      "\u001b[32m[1021 13:50:22 @saver.py:79]\u001b[0m Model saved to ../output/Chicago/DATGAN_99/model\\model-12425.\n",
      "\u001b[32m[1021 13:50:22 @monitor.py:467]\u001b[0m GAN_loss/discrim/accuracy_fake: 0.936\n",
      "\u001b[32m[1021 13:50:22 @monitor.py:467]\u001b[0m GAN_loss/discrim/accuracy_real: 0.08\n",
      "\u001b[32m[1021 13:50:22 @monitor.py:467]\u001b[0m GAN_loss/discrim/loss: 0.6523\n",
      "\u001b[32m[1021 13:50:22 @monitor.py:467]\u001b[0m GAN_loss/gen/final-g-loss: 1.0033\n",
      "\u001b[32m[1021 13:50:22 @monitor.py:467]\u001b[0m GAN_loss/gen/klloss: 0.075717\n",
      "\u001b[32m[1021 13:50:22 @monitor.py:467]\u001b[0m GAN_loss/gen/loss: 0.92758\n",
      "\u001b[32m[1021 13:50:22 @monitor.py:467]\u001b[0m QueueInput/queue_size: 50\n",
      "\u001b[32m[1021 13:50:22 @base.py:275]\u001b[0m Start Epoch 72 ...\n"
     ]
    },
    {
     "name": "stderr",
     "output_type": "stream",
     "text": [
      "100%|###################################################################################|175/175[00:05<00:00,32.28it/s]"
     ]
    },
    {
     "name": "stdout",
     "output_type": "stream",
     "text": [
      "\u001b[32m[1021 13:50:27 @base.py:285]\u001b[0m Epoch 72 (global_step 12600) finished, time:5.42 seconds.\n"
     ]
    },
    {
     "name": "stderr",
     "output_type": "stream",
     "text": [
      "\n"
     ]
    },
    {
     "name": "stdout",
     "output_type": "stream",
     "text": [
      "\u001b[32m[1021 13:50:27 @saver.py:79]\u001b[0m Model saved to ../output/Chicago/DATGAN_99/model\\model-12600.\n",
      "\u001b[32m[1021 13:50:27 @monitor.py:467]\u001b[0m GAN_loss/discrim/accuracy_fake: 0.954\n",
      "\u001b[32m[1021 13:50:27 @monitor.py:467]\u001b[0m GAN_loss/discrim/accuracy_real: 0.074\n",
      "\u001b[32m[1021 13:50:27 @monitor.py:467]\u001b[0m GAN_loss/discrim/loss: 0.64458\n",
      "\u001b[32m[1021 13:50:27 @monitor.py:467]\u001b[0m GAN_loss/gen/final-g-loss: 0.9947\n",
      "\u001b[32m[1021 13:50:27 @monitor.py:467]\u001b[0m GAN_loss/gen/klloss: 0.055462\n",
      "\u001b[32m[1021 13:50:27 @monitor.py:467]\u001b[0m GAN_loss/gen/loss: 0.93923\n",
      "\u001b[32m[1021 13:50:27 @monitor.py:467]\u001b[0m QueueInput/queue_size: 50\n",
      "\u001b[32m[1021 13:50:27 @base.py:275]\u001b[0m Start Epoch 73 ...\n"
     ]
    },
    {
     "name": "stderr",
     "output_type": "stream",
     "text": [
      "100%|###################################################################################|175/175[00:05<00:00,32.32it/s]"
     ]
    },
    {
     "name": "stdout",
     "output_type": "stream",
     "text": [
      "\u001b[32m[1021 13:50:33 @base.py:285]\u001b[0m Epoch 73 (global_step 12775) finished, time:5.41 seconds.\n"
     ]
    },
    {
     "name": "stderr",
     "output_type": "stream",
     "text": [
      "\n"
     ]
    },
    {
     "name": "stdout",
     "output_type": "stream",
     "text": [
      "\u001b[32m[1021 13:50:33 @saver.py:79]\u001b[0m Model saved to ../output/Chicago/DATGAN_99/model\\model-12775.\n",
      "\u001b[32m[1021 13:50:33 @monitor.py:467]\u001b[0m GAN_loss/discrim/accuracy_fake: 0.966\n",
      "\u001b[32m[1021 13:50:33 @monitor.py:467]\u001b[0m GAN_loss/discrim/accuracy_real: 0.058\n",
      "\u001b[32m[1021 13:50:33 @monitor.py:467]\u001b[0m GAN_loss/discrim/loss: 0.65301\n",
      "\u001b[32m[1021 13:50:33 @monitor.py:467]\u001b[0m GAN_loss/gen/final-g-loss: 1.0007\n",
      "\u001b[32m[1021 13:50:33 @monitor.py:467]\u001b[0m GAN_loss/gen/klloss: 0.053255\n",
      "\u001b[32m[1021 13:50:33 @monitor.py:467]\u001b[0m GAN_loss/gen/loss: 0.94742\n",
      "\u001b[32m[1021 13:50:33 @monitor.py:467]\u001b[0m QueueInput/queue_size: 50\n",
      "\u001b[32m[1021 13:50:33 @base.py:275]\u001b[0m Start Epoch 74 ...\n"
     ]
    },
    {
     "name": "stderr",
     "output_type": "stream",
     "text": [
      "100%|###################################################################################|175/175[00:05<00:00,32.30it/s]"
     ]
    },
    {
     "name": "stdout",
     "output_type": "stream",
     "text": [
      "\u001b[32m[1021 13:50:38 @base.py:285]\u001b[0m Epoch 74 (global_step 12950) finished, time:5.42 seconds.\n"
     ]
    },
    {
     "name": "stderr",
     "output_type": "stream",
     "text": [
      "\n"
     ]
    },
    {
     "name": "stdout",
     "output_type": "stream",
     "text": [
      "\u001b[32m[1021 13:50:38 @saver.py:79]\u001b[0m Model saved to ../output/Chicago/DATGAN_99/model\\model-12950.\n",
      "\u001b[32m[1021 13:50:38 @monitor.py:467]\u001b[0m GAN_loss/discrim/accuracy_fake: 0.912\n",
      "\u001b[32m[1021 13:50:38 @monitor.py:467]\u001b[0m GAN_loss/discrim/accuracy_real: 0.1\n",
      "\u001b[32m[1021 13:50:38 @monitor.py:467]\u001b[0m GAN_loss/discrim/loss: 0.64857\n",
      "\u001b[32m[1021 13:50:38 @monitor.py:467]\u001b[0m GAN_loss/gen/final-g-loss: 0.99843\n",
      "\u001b[32m[1021 13:50:38 @monitor.py:467]\u001b[0m GAN_loss/gen/klloss: 0.070535\n",
      "\u001b[32m[1021 13:50:38 @monitor.py:467]\u001b[0m GAN_loss/gen/loss: 0.9279\n",
      "\u001b[32m[1021 13:50:38 @monitor.py:467]\u001b[0m QueueInput/queue_size: 50\n",
      "\u001b[32m[1021 13:50:38 @base.py:275]\u001b[0m Start Epoch 75 ...\n"
     ]
    },
    {
     "name": "stderr",
     "output_type": "stream",
     "text": [
      "100%|###################################################################################|175/175[00:05<00:00,32.30it/s]"
     ]
    },
    {
     "name": "stdout",
     "output_type": "stream",
     "text": [
      "\u001b[32m[1021 13:50:44 @base.py:285]\u001b[0m Epoch 75 (global_step 13125) finished, time:5.42 seconds.\n"
     ]
    },
    {
     "name": "stderr",
     "output_type": "stream",
     "text": [
      "\n"
     ]
    },
    {
     "name": "stdout",
     "output_type": "stream",
     "text": [
      "\u001b[32m[1021 13:50:44 @saver.py:79]\u001b[0m Model saved to ../output/Chicago/DATGAN_99/model\\model-13125.\n",
      "\u001b[32m[1021 13:50:44 @monitor.py:467]\u001b[0m GAN_loss/discrim/accuracy_fake: 0.942\n",
      "\u001b[32m[1021 13:50:44 @monitor.py:467]\u001b[0m GAN_loss/discrim/accuracy_real: 0.118\n",
      "\u001b[32m[1021 13:50:44 @monitor.py:467]\u001b[0m GAN_loss/discrim/loss: 0.6456\n",
      "\u001b[32m[1021 13:50:44 @monitor.py:467]\u001b[0m GAN_loss/gen/final-g-loss: 0.99493\n",
      "\u001b[32m[1021 13:50:44 @monitor.py:467]\u001b[0m GAN_loss/gen/klloss: 0.045702\n",
      "\u001b[32m[1021 13:50:44 @monitor.py:467]\u001b[0m GAN_loss/gen/loss: 0.94923\n",
      "\u001b[32m[1021 13:50:44 @monitor.py:467]\u001b[0m QueueInput/queue_size: 50\n",
      "\u001b[32m[1021 13:50:44 @base.py:275]\u001b[0m Start Epoch 76 ...\n"
     ]
    },
    {
     "name": "stderr",
     "output_type": "stream",
     "text": [
      "100%|###################################################################################|175/175[00:05<00:00,32.29it/s]"
     ]
    },
    {
     "name": "stdout",
     "output_type": "stream",
     "text": [
      "\u001b[32m[1021 13:50:49 @base.py:285]\u001b[0m Epoch 76 (global_step 13300) finished, time:5.42 seconds.\n"
     ]
    },
    {
     "name": "stderr",
     "output_type": "stream",
     "text": [
      "\n"
     ]
    },
    {
     "name": "stdout",
     "output_type": "stream",
     "text": [
      "\u001b[32m[1021 13:50:50 @saver.py:79]\u001b[0m Model saved to ../output/Chicago/DATGAN_99/model\\model-13300.\n",
      "\u001b[32m[1021 13:50:50 @monitor.py:467]\u001b[0m GAN_loss/discrim/accuracy_fake: 0.932\n",
      "\u001b[32m[1021 13:50:50 @monitor.py:467]\u001b[0m GAN_loss/discrim/accuracy_real: 0.106\n",
      "\u001b[32m[1021 13:50:50 @monitor.py:467]\u001b[0m GAN_loss/discrim/loss: 0.64416\n",
      "\u001b[32m[1021 13:50:50 @monitor.py:467]\u001b[0m GAN_loss/gen/final-g-loss: 1.0068\n",
      "\u001b[32m[1021 13:50:50 @monitor.py:467]\u001b[0m GAN_loss/gen/klloss: 0.067509\n",
      "\u001b[32m[1021 13:50:50 @monitor.py:467]\u001b[0m GAN_loss/gen/loss: 0.93931\n",
      "\u001b[32m[1021 13:50:50 @monitor.py:467]\u001b[0m QueueInput/queue_size: 50\n",
      "\u001b[32m[1021 13:50:50 @base.py:275]\u001b[0m Start Epoch 77 ...\n"
     ]
    },
    {
     "name": "stderr",
     "output_type": "stream",
     "text": [
      "100%|###################################################################################|175/175[00:05<00:00,32.30it/s]"
     ]
    },
    {
     "name": "stdout",
     "output_type": "stream",
     "text": [
      "\u001b[32m[1021 13:50:55 @base.py:285]\u001b[0m Epoch 77 (global_step 13475) finished, time:5.42 seconds.\n"
     ]
    },
    {
     "name": "stderr",
     "output_type": "stream",
     "text": [
      "\n"
     ]
    },
    {
     "name": "stdout",
     "output_type": "stream",
     "text": [
      "\u001b[32m[1021 13:50:55 @saver.py:79]\u001b[0m Model saved to ../output/Chicago/DATGAN_99/model\\model-13475.\n",
      "\u001b[32m[1021 13:50:55 @monitor.py:467]\u001b[0m GAN_loss/discrim/accuracy_fake: 0.942\n",
      "\u001b[32m[1021 13:50:55 @monitor.py:467]\u001b[0m GAN_loss/discrim/accuracy_real: 0.102\n",
      "\u001b[32m[1021 13:50:55 @monitor.py:467]\u001b[0m GAN_loss/discrim/loss: 0.65188\n",
      "\u001b[32m[1021 13:50:55 @monitor.py:467]\u001b[0m GAN_loss/gen/final-g-loss: 1.0038\n",
      "\u001b[32m[1021 13:50:55 @monitor.py:467]\u001b[0m GAN_loss/gen/klloss: 0.069138\n",
      "\u001b[32m[1021 13:50:55 @monitor.py:467]\u001b[0m GAN_loss/gen/loss: 0.93471\n",
      "\u001b[32m[1021 13:50:55 @monitor.py:467]\u001b[0m QueueInput/queue_size: 50\n",
      "\u001b[32m[1021 13:50:55 @base.py:275]\u001b[0m Start Epoch 78 ...\n"
     ]
    },
    {
     "name": "stderr",
     "output_type": "stream",
     "text": [
      "100%|###################################################################################|175/175[00:05<00:00,32.32it/s]"
     ]
    },
    {
     "name": "stdout",
     "output_type": "stream",
     "text": [
      "\u001b[32m[1021 13:51:00 @base.py:285]\u001b[0m Epoch 78 (global_step 13650) finished, time:5.41 seconds.\n"
     ]
    },
    {
     "name": "stderr",
     "output_type": "stream",
     "text": [
      "\n"
     ]
    },
    {
     "name": "stdout",
     "output_type": "stream",
     "text": [
      "\u001b[32m[1021 13:51:01 @saver.py:79]\u001b[0m Model saved to ../output/Chicago/DATGAN_99/model\\model-13650.\n",
      "\u001b[32m[1021 13:51:01 @monitor.py:467]\u001b[0m GAN_loss/discrim/accuracy_fake: 0.94\n",
      "\u001b[32m[1021 13:51:01 @monitor.py:467]\u001b[0m GAN_loss/discrim/accuracy_real: 0.1\n",
      "\u001b[32m[1021 13:51:01 @monitor.py:467]\u001b[0m GAN_loss/discrim/loss: 0.64651\n",
      "\u001b[32m[1021 13:51:01 @monitor.py:467]\u001b[0m GAN_loss/gen/final-g-loss: 1.0044\n",
      "\u001b[32m[1021 13:51:01 @monitor.py:467]\u001b[0m GAN_loss/gen/klloss: 0.059724\n",
      "\u001b[32m[1021 13:51:01 @monitor.py:467]\u001b[0m GAN_loss/gen/loss: 0.94465\n",
      "\u001b[32m[1021 13:51:01 @monitor.py:467]\u001b[0m QueueInput/queue_size: 50\n",
      "\u001b[32m[1021 13:51:01 @base.py:275]\u001b[0m Start Epoch 79 ...\n"
     ]
    },
    {
     "name": "stderr",
     "output_type": "stream",
     "text": [
      "100%|###################################################################################|175/175[00:05<00:00,32.31it/s]"
     ]
    },
    {
     "name": "stdout",
     "output_type": "stream",
     "text": [
      "\u001b[32m[1021 13:51:06 @base.py:285]\u001b[0m Epoch 79 (global_step 13825) finished, time:5.42 seconds.\n"
     ]
    },
    {
     "name": "stderr",
     "output_type": "stream",
     "text": [
      "\n"
     ]
    },
    {
     "name": "stdout",
     "output_type": "stream",
     "text": [
      "\u001b[32m[1021 13:51:06 @saver.py:79]\u001b[0m Model saved to ../output/Chicago/DATGAN_99/model\\model-13825.\n",
      "\u001b[32m[1021 13:51:06 @monitor.py:467]\u001b[0m GAN_loss/discrim/accuracy_fake: 0.954\n",
      "\u001b[32m[1021 13:51:06 @monitor.py:467]\u001b[0m GAN_loss/discrim/accuracy_real: 0.102\n",
      "\u001b[32m[1021 13:51:06 @monitor.py:467]\u001b[0m GAN_loss/discrim/loss: 0.64144\n",
      "\u001b[32m[1021 13:51:06 @monitor.py:467]\u001b[0m GAN_loss/gen/final-g-loss: 1.0276\n",
      "\u001b[32m[1021 13:51:06 @monitor.py:467]\u001b[0m GAN_loss/gen/klloss: 0.078013\n",
      "\u001b[32m[1021 13:51:06 @monitor.py:467]\u001b[0m GAN_loss/gen/loss: 0.9496\n",
      "\u001b[32m[1021 13:51:06 @monitor.py:467]\u001b[0m QueueInput/queue_size: 50\n",
      "\u001b[32m[1021 13:51:06 @base.py:275]\u001b[0m Start Epoch 80 ...\n"
     ]
    },
    {
     "name": "stderr",
     "output_type": "stream",
     "text": [
      "100%|###################################################################################|175/175[00:05<00:00,32.30it/s]"
     ]
    },
    {
     "name": "stdout",
     "output_type": "stream",
     "text": [
      "\u001b[32m[1021 13:51:12 @base.py:285]\u001b[0m Epoch 80 (global_step 14000) finished, time:5.42 seconds.\n"
     ]
    },
    {
     "name": "stderr",
     "output_type": "stream",
     "text": [
      "\n"
     ]
    },
    {
     "name": "stdout",
     "output_type": "stream",
     "text": [
      "\u001b[32m[1021 13:51:12 @saver.py:79]\u001b[0m Model saved to ../output/Chicago/DATGAN_99/model\\model-14000.\n",
      "\u001b[32m[1021 13:51:12 @monitor.py:467]\u001b[0m GAN_loss/discrim/accuracy_fake: 0.928\n",
      "\u001b[32m[1021 13:51:12 @monitor.py:467]\u001b[0m GAN_loss/discrim/accuracy_real: 0.11\n",
      "\u001b[32m[1021 13:51:12 @monitor.py:467]\u001b[0m GAN_loss/discrim/loss: 0.63591\n",
      "\u001b[32m[1021 13:51:12 @monitor.py:467]\u001b[0m GAN_loss/gen/final-g-loss: 1.0329\n",
      "\u001b[32m[1021 13:51:12 @monitor.py:467]\u001b[0m GAN_loss/gen/klloss: 0.076174\n",
      "\u001b[32m[1021 13:51:12 @monitor.py:467]\u001b[0m GAN_loss/gen/loss: 0.95676\n",
      "\u001b[32m[1021 13:51:12 @monitor.py:467]\u001b[0m QueueInput/queue_size: 50\n",
      "\u001b[32m[1021 13:51:12 @base.py:275]\u001b[0m Start Epoch 81 ...\n"
     ]
    },
    {
     "name": "stderr",
     "output_type": "stream",
     "text": [
      "100%|###################################################################################|175/175[00:05<00:00,32.32it/s]"
     ]
    },
    {
     "name": "stdout",
     "output_type": "stream",
     "text": [
      "\u001b[32m[1021 13:51:17 @base.py:285]\u001b[0m Epoch 81 (global_step 14175) finished, time:5.42 seconds.\n"
     ]
    },
    {
     "name": "stderr",
     "output_type": "stream",
     "text": [
      "\n"
     ]
    },
    {
     "name": "stdout",
     "output_type": "stream",
     "text": [
      "\u001b[32m[1021 13:51:17 @saver.py:79]\u001b[0m Model saved to ../output/Chicago/DATGAN_99/model\\model-14175.\n",
      "\u001b[32m[1021 13:51:17 @monitor.py:467]\u001b[0m GAN_loss/discrim/accuracy_fake: 0.956\n",
      "\u001b[32m[1021 13:51:17 @monitor.py:467]\u001b[0m GAN_loss/discrim/accuracy_real: 0.094\n",
      "\u001b[32m[1021 13:51:17 @monitor.py:467]\u001b[0m GAN_loss/discrim/loss: 0.64201\n",
      "\u001b[32m[1021 13:51:17 @monitor.py:467]\u001b[0m GAN_loss/gen/final-g-loss: 1.0047\n",
      "\u001b[32m[1021 13:51:17 @monitor.py:467]\u001b[0m GAN_loss/gen/klloss: 0.053618\n",
      "\u001b[32m[1021 13:51:17 @monitor.py:467]\u001b[0m GAN_loss/gen/loss: 0.95106\n",
      "\u001b[32m[1021 13:51:17 @monitor.py:467]\u001b[0m QueueInput/queue_size: 50\n",
      "\u001b[32m[1021 13:51:17 @base.py:275]\u001b[0m Start Epoch 82 ...\n"
     ]
    },
    {
     "name": "stderr",
     "output_type": "stream",
     "text": [
      "100%|###################################################################################|175/175[00:05<00:00,32.31it/s]"
     ]
    },
    {
     "name": "stdout",
     "output_type": "stream",
     "text": [
      "\u001b[32m[1021 13:51:23 @base.py:285]\u001b[0m Epoch 82 (global_step 14350) finished, time:5.42 seconds.\n"
     ]
    },
    {
     "name": "stderr",
     "output_type": "stream",
     "text": [
      "\n"
     ]
    },
    {
     "name": "stdout",
     "output_type": "stream",
     "text": [
      "\u001b[32m[1021 13:51:23 @saver.py:79]\u001b[0m Model saved to ../output/Chicago/DATGAN_99/model\\model-14350.\n",
      "\u001b[32m[1021 13:51:23 @monitor.py:467]\u001b[0m GAN_loss/discrim/accuracy_fake: 0.94\n",
      "\u001b[32m[1021 13:51:23 @monitor.py:467]\u001b[0m GAN_loss/discrim/accuracy_real: 0.14\n",
      "\u001b[32m[1021 13:51:23 @monitor.py:467]\u001b[0m GAN_loss/discrim/loss: 0.64289\n",
      "\u001b[32m[1021 13:51:23 @monitor.py:467]\u001b[0m GAN_loss/gen/final-g-loss: 0.99653\n",
      "\u001b[32m[1021 13:51:23 @monitor.py:467]\u001b[0m GAN_loss/gen/klloss: 0.05539\n",
      "\u001b[32m[1021 13:51:23 @monitor.py:467]\u001b[0m GAN_loss/gen/loss: 0.94114\n",
      "\u001b[32m[1021 13:51:23 @monitor.py:467]\u001b[0m QueueInput/queue_size: 50\n",
      "\u001b[32m[1021 13:51:23 @base.py:275]\u001b[0m Start Epoch 83 ...\n"
     ]
    },
    {
     "name": "stderr",
     "output_type": "stream",
     "text": [
      "100%|###################################################################################|175/175[00:05<00:00,32.32it/s]"
     ]
    },
    {
     "name": "stdout",
     "output_type": "stream",
     "text": [
      "\u001b[32m[1021 13:51:28 @base.py:285]\u001b[0m Epoch 83 (global_step 14525) finished, time:5.41 seconds.\n"
     ]
    },
    {
     "name": "stderr",
     "output_type": "stream",
     "text": [
      "\n"
     ]
    },
    {
     "name": "stdout",
     "output_type": "stream",
     "text": [
      "\u001b[32m[1021 13:51:28 @saver.py:79]\u001b[0m Model saved to ../output/Chicago/DATGAN_99/model\\model-14525.\n",
      "\u001b[32m[1021 13:51:28 @monitor.py:467]\u001b[0m GAN_loss/discrim/accuracy_fake: 0.948\n",
      "\u001b[32m[1021 13:51:28 @monitor.py:467]\u001b[0m GAN_loss/discrim/accuracy_real: 0.086\n",
      "\u001b[32m[1021 13:51:28 @monitor.py:467]\u001b[0m GAN_loss/discrim/loss: 0.64528\n",
      "\u001b[32m[1021 13:51:28 @monitor.py:467]\u001b[0m GAN_loss/gen/final-g-loss: 1.0109\n",
      "\u001b[32m[1021 13:51:28 @monitor.py:467]\u001b[0m GAN_loss/gen/klloss: 0.06526\n",
      "\u001b[32m[1021 13:51:28 @monitor.py:467]\u001b[0m GAN_loss/gen/loss: 0.94559\n",
      "\u001b[32m[1021 13:51:28 @monitor.py:467]\u001b[0m QueueInput/queue_size: 50\n",
      "\u001b[32m[1021 13:51:28 @base.py:275]\u001b[0m Start Epoch 84 ...\n"
     ]
    },
    {
     "name": "stderr",
     "output_type": "stream",
     "text": [
      "100%|###################################################################################|175/175[00:05<00:00,32.30it/s]"
     ]
    },
    {
     "name": "stdout",
     "output_type": "stream",
     "text": [
      "\u001b[32m[1021 13:51:34 @base.py:285]\u001b[0m Epoch 84 (global_step 14700) finished, time:5.42 seconds.\n"
     ]
    },
    {
     "name": "stderr",
     "output_type": "stream",
     "text": [
      "\n"
     ]
    },
    {
     "name": "stdout",
     "output_type": "stream",
     "text": [
      "\u001b[32m[1021 13:51:34 @saver.py:79]\u001b[0m Model saved to ../output/Chicago/DATGAN_99/model\\model-14700.\n",
      "\u001b[32m[1021 13:51:34 @monitor.py:467]\u001b[0m GAN_loss/discrim/accuracy_fake: 0.926\n",
      "\u001b[32m[1021 13:51:34 @monitor.py:467]\u001b[0m GAN_loss/discrim/accuracy_real: 0.116\n",
      "\u001b[32m[1021 13:51:34 @monitor.py:467]\u001b[0m GAN_loss/discrim/loss: 0.64122\n",
      "\u001b[32m[1021 13:51:34 @monitor.py:467]\u001b[0m GAN_loss/gen/final-g-loss: 0.99322\n",
      "\u001b[32m[1021 13:51:34 @monitor.py:467]\u001b[0m GAN_loss/gen/klloss: 0.051105\n",
      "\u001b[32m[1021 13:51:34 @monitor.py:467]\u001b[0m GAN_loss/gen/loss: 0.94212\n",
      "\u001b[32m[1021 13:51:34 @monitor.py:467]\u001b[0m QueueInput/queue_size: 50\n",
      "\u001b[32m[1021 13:51:34 @base.py:275]\u001b[0m Start Epoch 85 ...\n"
     ]
    },
    {
     "name": "stderr",
     "output_type": "stream",
     "text": [
      "100%|###################################################################################|175/175[00:05<00:00,32.31it/s]"
     ]
    },
    {
     "name": "stdout",
     "output_type": "stream",
     "text": [
      "\u001b[32m[1021 13:51:39 @base.py:285]\u001b[0m Epoch 85 (global_step 14875) finished, time:5.42 seconds.\n"
     ]
    },
    {
     "name": "stderr",
     "output_type": "stream",
     "text": [
      "\n"
     ]
    },
    {
     "name": "stdout",
     "output_type": "stream",
     "text": [
      "\u001b[32m[1021 13:51:39 @saver.py:79]\u001b[0m Model saved to ../output/Chicago/DATGAN_99/model\\model-14875.\n",
      "\u001b[32m[1021 13:51:39 @monitor.py:467]\u001b[0m GAN_loss/discrim/accuracy_fake: 0.954\n",
      "\u001b[32m[1021 13:51:39 @monitor.py:467]\u001b[0m GAN_loss/discrim/accuracy_real: 0.106\n",
      "\u001b[32m[1021 13:51:39 @monitor.py:467]\u001b[0m GAN_loss/discrim/loss: 0.64658\n",
      "\u001b[32m[1021 13:51:39 @monitor.py:467]\u001b[0m GAN_loss/gen/final-g-loss: 1.0599\n",
      "\u001b[32m[1021 13:51:39 @monitor.py:467]\u001b[0m GAN_loss/gen/klloss: 0.11773\n",
      "\u001b[32m[1021 13:51:39 @monitor.py:467]\u001b[0m GAN_loss/gen/loss: 0.94218\n",
      "\u001b[32m[1021 13:51:39 @monitor.py:467]\u001b[0m QueueInput/queue_size: 50\n",
      "\u001b[32m[1021 13:51:39 @base.py:275]\u001b[0m Start Epoch 86 ...\n"
     ]
    },
    {
     "name": "stderr",
     "output_type": "stream",
     "text": [
      "100%|###################################################################################|175/175[00:05<00:00,32.31it/s]"
     ]
    },
    {
     "name": "stdout",
     "output_type": "stream",
     "text": [
      "\u001b[32m[1021 13:51:45 @base.py:285]\u001b[0m Epoch 86 (global_step 15050) finished, time:5.42 seconds.\n"
     ]
    },
    {
     "name": "stderr",
     "output_type": "stream",
     "text": [
      "\n"
     ]
    },
    {
     "name": "stdout",
     "output_type": "stream",
     "text": [
      "\u001b[32m[1021 13:51:45 @saver.py:79]\u001b[0m Model saved to ../output/Chicago/DATGAN_99/model\\model-15050.\n",
      "\u001b[32m[1021 13:51:45 @monitor.py:467]\u001b[0m GAN_loss/discrim/accuracy_fake: 0.948\n",
      "\u001b[32m[1021 13:51:45 @monitor.py:467]\u001b[0m GAN_loss/discrim/accuracy_real: 0.092\n",
      "\u001b[32m[1021 13:51:45 @monitor.py:467]\u001b[0m GAN_loss/discrim/loss: 0.64478\n",
      "\u001b[32m[1021 13:51:45 @monitor.py:467]\u001b[0m GAN_loss/gen/final-g-loss: 1.0117\n",
      "\u001b[32m[1021 13:51:45 @monitor.py:467]\u001b[0m GAN_loss/gen/klloss: 0.06584\n",
      "\u001b[32m[1021 13:51:45 @monitor.py:467]\u001b[0m GAN_loss/gen/loss: 0.94586\n",
      "\u001b[32m[1021 13:51:45 @monitor.py:467]\u001b[0m QueueInput/queue_size: 50\n",
      "\u001b[32m[1021 13:51:45 @base.py:275]\u001b[0m Start Epoch 87 ...\n"
     ]
    },
    {
     "name": "stderr",
     "output_type": "stream",
     "text": [
      "100%|###################################################################################|175/175[00:05<00:00,32.15it/s]"
     ]
    },
    {
     "name": "stdout",
     "output_type": "stream",
     "text": [
      "\u001b[32m[1021 13:51:50 @base.py:285]\u001b[0m Epoch 87 (global_step 15225) finished, time:5.44 seconds.\n",
      "\u001b[32m[1021 13:51:50 @saver.py:79]\u001b[0m Model saved to ../output/Chicago/DATGAN_99/model\\model-15225.\n",
      "\u001b[32m[1021 13:51:50 @monitor.py:467]\u001b[0m GAN_loss/discrim/accuracy_fake: 0.932\n",
      "\u001b[32m[1021 13:51:50 @monitor.py:467]\u001b[0m GAN_loss/discrim/accuracy_real: 0.082\n",
      "\u001b[32m[1021 13:51:50 @monitor.py:467]\u001b[0m GAN_loss/discrim/loss: 0.65287\n",
      "\u001b[32m[1021 13:51:50 @monitor.py:467]\u001b[0m GAN_loss/gen/final-g-loss: 0.99133\n",
      "\u001b[32m[1021 13:51:50 @monitor.py:467]\u001b[0m GAN_loss/gen/klloss: 0.065543\n",
      "\u001b[32m[1021 13:51:50 @monitor.py:467]\u001b[0m GAN_loss/gen/loss: 0.92579\n",
      "\u001b[32m[1021 13:51:50 @monitor.py:467]\u001b[0m QueueInput/queue_size: 50\n",
      "\u001b[32m[1021 13:51:50 @base.py:275]\u001b[0m Start Epoch 88 ...\n"
     ]
    },
    {
     "name": "stderr",
     "output_type": "stream",
     "text": [
      "\n",
      "100%|###################################################################################|175/175[00:05<00:00,32.26it/s]"
     ]
    },
    {
     "name": "stdout",
     "output_type": "stream",
     "text": [
      "\u001b[32m[1021 13:51:56 @base.py:285]\u001b[0m Epoch 88 (global_step 15400) finished, time:5.43 seconds.\n"
     ]
    },
    {
     "name": "stderr",
     "output_type": "stream",
     "text": [
      "\n"
     ]
    },
    {
     "name": "stdout",
     "output_type": "stream",
     "text": [
      "\u001b[32m[1021 13:51:56 @saver.py:79]\u001b[0m Model saved to ../output/Chicago/DATGAN_99/model\\model-15400.\n",
      "\u001b[32m[1021 13:51:56 @monitor.py:467]\u001b[0m GAN_loss/discrim/accuracy_fake: 0.934\n",
      "\u001b[32m[1021 13:51:56 @monitor.py:467]\u001b[0m GAN_loss/discrim/accuracy_real: 0.094\n",
      "\u001b[32m[1021 13:51:56 @monitor.py:467]\u001b[0m GAN_loss/discrim/loss: 0.64627\n",
      "\u001b[32m[1021 13:51:56 @monitor.py:467]\u001b[0m GAN_loss/gen/final-g-loss: 0.99619\n",
      "\u001b[32m[1021 13:51:56 @monitor.py:467]\u001b[0m GAN_loss/gen/klloss: 0.060556\n",
      "\u001b[32m[1021 13:51:56 @monitor.py:467]\u001b[0m GAN_loss/gen/loss: 0.93563\n",
      "\u001b[32m[1021 13:51:56 @monitor.py:467]\u001b[0m QueueInput/queue_size: 50\n",
      "\u001b[32m[1021 13:51:56 @base.py:275]\u001b[0m Start Epoch 89 ...\n"
     ]
    },
    {
     "name": "stderr",
     "output_type": "stream",
     "text": [
      "100%|###################################################################################|175/175[00:05<00:00,32.29it/s]"
     ]
    },
    {
     "name": "stdout",
     "output_type": "stream",
     "text": [
      "\u001b[32m[1021 13:52:01 @base.py:285]\u001b[0m Epoch 89 (global_step 15575) finished, time:5.42 seconds.\n"
     ]
    },
    {
     "name": "stderr",
     "output_type": "stream",
     "text": [
      "\n"
     ]
    },
    {
     "name": "stdout",
     "output_type": "stream",
     "text": [
      "\u001b[32m[1021 13:52:01 @saver.py:79]\u001b[0m Model saved to ../output/Chicago/DATGAN_99/model\\model-15575.\n",
      "\u001b[32m[1021 13:52:01 @monitor.py:467]\u001b[0m GAN_loss/discrim/accuracy_fake: 0.946\n",
      "\u001b[32m[1021 13:52:01 @monitor.py:467]\u001b[0m GAN_loss/discrim/accuracy_real: 0.086\n",
      "\u001b[32m[1021 13:52:01 @monitor.py:467]\u001b[0m GAN_loss/discrim/loss: 0.65012\n",
      "\u001b[32m[1021 13:52:01 @monitor.py:467]\u001b[0m GAN_loss/gen/final-g-loss: 0.98351\n",
      "\u001b[32m[1021 13:52:01 @monitor.py:467]\u001b[0m GAN_loss/gen/klloss: 0.046627\n",
      "\u001b[32m[1021 13:52:01 @monitor.py:467]\u001b[0m GAN_loss/gen/loss: 0.93688\n",
      "\u001b[32m[1021 13:52:01 @monitor.py:467]\u001b[0m QueueInput/queue_size: 50\n",
      "\u001b[32m[1021 13:52:01 @base.py:275]\u001b[0m Start Epoch 90 ...\n"
     ]
    },
    {
     "name": "stderr",
     "output_type": "stream",
     "text": [
      "100%|###################################################################################|175/175[00:05<00:00,32.30it/s]"
     ]
    },
    {
     "name": "stdout",
     "output_type": "stream",
     "text": [
      "\u001b[32m[1021 13:52:07 @base.py:285]\u001b[0m Epoch 90 (global_step 15750) finished, time:5.42 seconds.\n"
     ]
    },
    {
     "name": "stderr",
     "output_type": "stream",
     "text": [
      "\n"
     ]
    },
    {
     "name": "stdout",
     "output_type": "stream",
     "text": [
      "\u001b[32m[1021 13:52:07 @saver.py:79]\u001b[0m Model saved to ../output/Chicago/DATGAN_99/model\\model-15750.\n",
      "\u001b[32m[1021 13:52:07 @monitor.py:467]\u001b[0m GAN_loss/discrim/accuracy_fake: 0.924\n",
      "\u001b[32m[1021 13:52:07 @monitor.py:467]\u001b[0m GAN_loss/discrim/accuracy_real: 0.08\n",
      "\u001b[32m[1021 13:52:07 @monitor.py:467]\u001b[0m GAN_loss/discrim/loss: 0.6477\n",
      "\u001b[32m[1021 13:52:07 @monitor.py:467]\u001b[0m GAN_loss/gen/final-g-loss: 1.0295\n",
      "\u001b[32m[1021 13:52:07 @monitor.py:467]\u001b[0m GAN_loss/gen/klloss: 0.093697\n",
      "\u001b[32m[1021 13:52:07 @monitor.py:467]\u001b[0m GAN_loss/gen/loss: 0.9358\n",
      "\u001b[32m[1021 13:52:07 @monitor.py:467]\u001b[0m QueueInput/queue_size: 50\n",
      "\u001b[32m[1021 13:52:07 @base.py:275]\u001b[0m Start Epoch 91 ...\n"
     ]
    },
    {
     "name": "stderr",
     "output_type": "stream",
     "text": [
      "100%|###################################################################################|175/175[00:05<00:00,32.33it/s]"
     ]
    },
    {
     "name": "stdout",
     "output_type": "stream",
     "text": [
      "\u001b[32m[1021 13:52:12 @base.py:285]\u001b[0m Epoch 91 (global_step 15925) finished, time:5.41 seconds.\n"
     ]
    },
    {
     "name": "stderr",
     "output_type": "stream",
     "text": [
      "\n"
     ]
    },
    {
     "name": "stdout",
     "output_type": "stream",
     "text": [
      "\u001b[32m[1021 13:52:12 @saver.py:79]\u001b[0m Model saved to ../output/Chicago/DATGAN_99/model\\model-15925.\n",
      "\u001b[32m[1021 13:52:12 @monitor.py:467]\u001b[0m GAN_loss/discrim/accuracy_fake: 0.952\n",
      "\u001b[32m[1021 13:52:12 @monitor.py:467]\u001b[0m GAN_loss/discrim/accuracy_real: 0.098\n",
      "\u001b[32m[1021 13:52:12 @monitor.py:467]\u001b[0m GAN_loss/discrim/loss: 0.65081\n",
      "\u001b[32m[1021 13:52:12 @monitor.py:467]\u001b[0m GAN_loss/gen/final-g-loss: 1.0076\n",
      "\u001b[32m[1021 13:52:12 @monitor.py:467]\u001b[0m GAN_loss/gen/klloss: 0.0662\n",
      "\u001b[32m[1021 13:52:12 @monitor.py:467]\u001b[0m GAN_loss/gen/loss: 0.94144\n",
      "\u001b[32m[1021 13:52:12 @monitor.py:467]\u001b[0m QueueInput/queue_size: 50\n",
      "\u001b[32m[1021 13:52:12 @base.py:275]\u001b[0m Start Epoch 92 ...\n"
     ]
    },
    {
     "name": "stderr",
     "output_type": "stream",
     "text": [
      "100%|###################################################################################|175/175[00:05<00:00,32.31it/s]"
     ]
    },
    {
     "name": "stdout",
     "output_type": "stream",
     "text": [
      "\u001b[32m[1021 13:52:18 @base.py:285]\u001b[0m Epoch 92 (global_step 16100) finished, time:5.42 seconds.\n"
     ]
    },
    {
     "name": "stderr",
     "output_type": "stream",
     "text": [
      "\n"
     ]
    },
    {
     "name": "stdout",
     "output_type": "stream",
     "text": [
      "\u001b[32m[1021 13:52:18 @saver.py:79]\u001b[0m Model saved to ../output/Chicago/DATGAN_99/model\\model-16100.\n",
      "\u001b[32m[1021 13:52:18 @monitor.py:467]\u001b[0m GAN_loss/discrim/accuracy_fake: 0.928\n",
      "\u001b[32m[1021 13:52:18 @monitor.py:467]\u001b[0m GAN_loss/discrim/accuracy_real: 0.114\n",
      "\u001b[32m[1021 13:52:18 @monitor.py:467]\u001b[0m GAN_loss/discrim/loss: 0.6399\n",
      "\u001b[32m[1021 13:52:18 @monitor.py:467]\u001b[0m GAN_loss/gen/final-g-loss: 1.0381\n",
      "\u001b[32m[1021 13:52:18 @monitor.py:467]\u001b[0m GAN_loss/gen/klloss: 0.088372\n",
      "\u001b[32m[1021 13:52:18 @monitor.py:467]\u001b[0m GAN_loss/gen/loss: 0.94969\n",
      "\u001b[32m[1021 13:52:18 @monitor.py:467]\u001b[0m QueueInput/queue_size: 50\n",
      "\u001b[32m[1021 13:52:18 @base.py:275]\u001b[0m Start Epoch 93 ...\n"
     ]
    },
    {
     "name": "stderr",
     "output_type": "stream",
     "text": [
      "100%|###################################################################################|175/175[00:05<00:00,32.32it/s]"
     ]
    },
    {
     "name": "stdout",
     "output_type": "stream",
     "text": [
      "\u001b[32m[1021 13:52:23 @base.py:285]\u001b[0m Epoch 93 (global_step 16275) finished, time:5.42 seconds.\n"
     ]
    },
    {
     "name": "stderr",
     "output_type": "stream",
     "text": [
      "\n"
     ]
    },
    {
     "name": "stdout",
     "output_type": "stream",
     "text": [
      "\u001b[32m[1021 13:52:23 @saver.py:79]\u001b[0m Model saved to ../output/Chicago/DATGAN_99/model\\model-16275.\n",
      "\u001b[32m[1021 13:52:23 @monitor.py:467]\u001b[0m GAN_loss/discrim/accuracy_fake: 0.936\n",
      "\u001b[32m[1021 13:52:23 @monitor.py:467]\u001b[0m GAN_loss/discrim/accuracy_real: 0.092\n",
      "\u001b[32m[1021 13:52:23 @monitor.py:467]\u001b[0m GAN_loss/discrim/loss: 0.64812\n",
      "\u001b[32m[1021 13:52:23 @monitor.py:467]\u001b[0m GAN_loss/gen/final-g-loss: 0.98787\n",
      "\u001b[32m[1021 13:52:23 @monitor.py:467]\u001b[0m GAN_loss/gen/klloss: 0.04915\n",
      "\u001b[32m[1021 13:52:23 @monitor.py:467]\u001b[0m GAN_loss/gen/loss: 0.93872\n",
      "\u001b[32m[1021 13:52:23 @monitor.py:467]\u001b[0m QueueInput/queue_size: 50\n",
      "\u001b[32m[1021 13:52:23 @base.py:275]\u001b[0m Start Epoch 94 ...\n"
     ]
    },
    {
     "name": "stderr",
     "output_type": "stream",
     "text": [
      "100%|###################################################################################|175/175[00:05<00:00,32.30it/s]"
     ]
    },
    {
     "name": "stdout",
     "output_type": "stream",
     "text": [
      "\u001b[32m[1021 13:52:29 @base.py:285]\u001b[0m Epoch 94 (global_step 16450) finished, time:5.42 seconds.\n"
     ]
    },
    {
     "name": "stderr",
     "output_type": "stream",
     "text": [
      "\n"
     ]
    },
    {
     "name": "stdout",
     "output_type": "stream",
     "text": [
      "\u001b[32m[1021 13:52:29 @saver.py:79]\u001b[0m Model saved to ../output/Chicago/DATGAN_99/model\\model-16450.\n",
      "\u001b[32m[1021 13:52:29 @monitor.py:467]\u001b[0m GAN_loss/discrim/accuracy_fake: 0.94\n",
      "\u001b[32m[1021 13:52:29 @monitor.py:467]\u001b[0m GAN_loss/discrim/accuracy_real: 0.1\n",
      "\u001b[32m[1021 13:52:29 @monitor.py:467]\u001b[0m GAN_loss/discrim/loss: 0.64821\n",
      "\u001b[32m[1021 13:52:29 @monitor.py:467]\u001b[0m GAN_loss/gen/final-g-loss: 0.98159\n",
      "\u001b[32m[1021 13:52:29 @monitor.py:467]\u001b[0m GAN_loss/gen/klloss: 0.041823\n",
      "\u001b[32m[1021 13:52:29 @monitor.py:467]\u001b[0m GAN_loss/gen/loss: 0.93977\n",
      "\u001b[32m[1021 13:52:29 @monitor.py:467]\u001b[0m QueueInput/queue_size: 50\n",
      "\u001b[32m[1021 13:52:29 @base.py:275]\u001b[0m Start Epoch 95 ...\n"
     ]
    },
    {
     "name": "stderr",
     "output_type": "stream",
     "text": [
      "100%|###################################################################################|175/175[00:05<00:00,32.31it/s]"
     ]
    },
    {
     "name": "stdout",
     "output_type": "stream",
     "text": [
      "\u001b[32m[1021 13:52:34 @base.py:285]\u001b[0m Epoch 95 (global_step 16625) finished, time:5.42 seconds.\n"
     ]
    },
    {
     "name": "stderr",
     "output_type": "stream",
     "text": [
      "\n"
     ]
    },
    {
     "name": "stdout",
     "output_type": "stream",
     "text": [
      "\u001b[32m[1021 13:52:34 @saver.py:79]\u001b[0m Model saved to ../output/Chicago/DATGAN_99/model\\model-16625.\n",
      "\u001b[32m[1021 13:52:34 @monitor.py:467]\u001b[0m GAN_loss/discrim/accuracy_fake: 0.942\n",
      "\u001b[32m[1021 13:52:34 @monitor.py:467]\u001b[0m GAN_loss/discrim/accuracy_real: 0.1\n",
      "\u001b[32m[1021 13:52:34 @monitor.py:467]\u001b[0m GAN_loss/discrim/loss: 0.64594\n",
      "\u001b[32m[1021 13:52:34 @monitor.py:467]\u001b[0m GAN_loss/gen/final-g-loss: 1.0045\n",
      "\u001b[32m[1021 13:52:34 @monitor.py:467]\u001b[0m GAN_loss/gen/klloss: 0.058966\n",
      "\u001b[32m[1021 13:52:34 @monitor.py:467]\u001b[0m GAN_loss/gen/loss: 0.94552\n",
      "\u001b[32m[1021 13:52:34 @monitor.py:467]\u001b[0m QueueInput/queue_size: 50\n",
      "\u001b[32m[1021 13:52:34 @base.py:275]\u001b[0m Start Epoch 96 ...\n"
     ]
    },
    {
     "name": "stderr",
     "output_type": "stream",
     "text": [
      "100%|###################################################################################|175/175[00:05<00:00,32.32it/s]"
     ]
    },
    {
     "name": "stdout",
     "output_type": "stream",
     "text": [
      "\u001b[32m[1021 13:52:40 @base.py:285]\u001b[0m Epoch 96 (global_step 16800) finished, time:5.41 seconds.\n"
     ]
    },
    {
     "name": "stderr",
     "output_type": "stream",
     "text": [
      "\n"
     ]
    },
    {
     "name": "stdout",
     "output_type": "stream",
     "text": [
      "\u001b[32m[1021 13:52:40 @saver.py:79]\u001b[0m Model saved to ../output/Chicago/DATGAN_99/model\\model-16800.\n",
      "\u001b[32m[1021 13:52:40 @monitor.py:467]\u001b[0m GAN_loss/discrim/accuracy_fake: 0.914\n",
      "\u001b[32m[1021 13:52:40 @monitor.py:467]\u001b[0m GAN_loss/discrim/accuracy_real: 0.096\n",
      "\u001b[32m[1021 13:52:40 @monitor.py:467]\u001b[0m GAN_loss/discrim/loss: 0.64446\n",
      "\u001b[32m[1021 13:52:40 @monitor.py:467]\u001b[0m GAN_loss/gen/final-g-loss: 1.0087\n",
      "\u001b[32m[1021 13:52:40 @monitor.py:467]\u001b[0m GAN_loss/gen/klloss: 0.065367\n",
      "\u001b[32m[1021 13:52:40 @monitor.py:467]\u001b[0m GAN_loss/gen/loss: 0.94329\n",
      "\u001b[32m[1021 13:52:40 @monitor.py:467]\u001b[0m QueueInput/queue_size: 50\n",
      "\u001b[32m[1021 13:52:40 @base.py:275]\u001b[0m Start Epoch 97 ...\n"
     ]
    },
    {
     "name": "stderr",
     "output_type": "stream",
     "text": [
      "100%|###################################################################################|175/175[00:05<00:00,32.32it/s]"
     ]
    },
    {
     "name": "stdout",
     "output_type": "stream",
     "text": [
      "\u001b[32m[1021 13:52:45 @base.py:285]\u001b[0m Epoch 97 (global_step 16975) finished, time:5.41 seconds.\n"
     ]
    },
    {
     "name": "stderr",
     "output_type": "stream",
     "text": [
      "\n"
     ]
    },
    {
     "name": "stdout",
     "output_type": "stream",
     "text": [
      "\u001b[32m[1021 13:52:45 @saver.py:79]\u001b[0m Model saved to ../output/Chicago/DATGAN_99/model\\model-16975.\n",
      "\u001b[32m[1021 13:52:45 @monitor.py:467]\u001b[0m GAN_loss/discrim/accuracy_fake: 0.936\n",
      "\u001b[32m[1021 13:52:45 @monitor.py:467]\u001b[0m GAN_loss/discrim/accuracy_real: 0.08\n",
      "\u001b[32m[1021 13:52:45 @monitor.py:467]\u001b[0m GAN_loss/discrim/loss: 0.64465\n",
      "\u001b[32m[1021 13:52:45 @monitor.py:467]\u001b[0m GAN_loss/gen/final-g-loss: 0.99695\n",
      "\u001b[32m[1021 13:52:45 @monitor.py:467]\u001b[0m GAN_loss/gen/klloss: 0.051781\n",
      "\u001b[32m[1021 13:52:45 @monitor.py:467]\u001b[0m GAN_loss/gen/loss: 0.94516\n",
      "\u001b[32m[1021 13:52:45 @monitor.py:467]\u001b[0m QueueInput/queue_size: 50\n",
      "\u001b[32m[1021 13:52:45 @base.py:275]\u001b[0m Start Epoch 98 ...\n"
     ]
    },
    {
     "name": "stderr",
     "output_type": "stream",
     "text": [
      "100%|###################################################################################|175/175[00:05<00:00,32.29it/s]"
     ]
    },
    {
     "name": "stdout",
     "output_type": "stream",
     "text": [
      "\u001b[32m[1021 13:52:51 @base.py:285]\u001b[0m Epoch 98 (global_step 17150) finished, time:5.42 seconds.\n"
     ]
    },
    {
     "name": "stderr",
     "output_type": "stream",
     "text": [
      "\n"
     ]
    },
    {
     "name": "stdout",
     "output_type": "stream",
     "text": [
      "\u001b[32m[1021 13:52:51 @saver.py:79]\u001b[0m Model saved to ../output/Chicago/DATGAN_99/model\\model-17150.\n",
      "\u001b[32m[1021 13:52:51 @monitor.py:467]\u001b[0m GAN_loss/discrim/accuracy_fake: 0.942\n",
      "\u001b[32m[1021 13:52:51 @monitor.py:467]\u001b[0m GAN_loss/discrim/accuracy_real: 0.09\n",
      "\u001b[32m[1021 13:52:51 @monitor.py:467]\u001b[0m GAN_loss/discrim/loss: 0.63974\n",
      "\u001b[32m[1021 13:52:51 @monitor.py:467]\u001b[0m GAN_loss/gen/final-g-loss: 0.98549\n",
      "\u001b[32m[1021 13:52:51 @monitor.py:467]\u001b[0m GAN_loss/gen/klloss: 0.048118\n",
      "\u001b[32m[1021 13:52:51 @monitor.py:467]\u001b[0m GAN_loss/gen/loss: 0.93737\n",
      "\u001b[32m[1021 13:52:51 @monitor.py:467]\u001b[0m QueueInput/queue_size: 50\n",
      "\u001b[32m[1021 13:52:51 @base.py:275]\u001b[0m Start Epoch 99 ...\n"
     ]
    },
    {
     "name": "stderr",
     "output_type": "stream",
     "text": [
      "100%|###################################################################################|175/175[00:05<00:00,32.32it/s]"
     ]
    },
    {
     "name": "stdout",
     "output_type": "stream",
     "text": [
      "\u001b[32m[1021 13:52:56 @base.py:285]\u001b[0m Epoch 99 (global_step 17325) finished, time:5.42 seconds.\n"
     ]
    },
    {
     "name": "stderr",
     "output_type": "stream",
     "text": [
      "\n"
     ]
    },
    {
     "name": "stdout",
     "output_type": "stream",
     "text": [
      "\u001b[32m[1021 13:52:57 @saver.py:79]\u001b[0m Model saved to ../output/Chicago/DATGAN_99/model\\model-17325.\n",
      "\u001b[32m[1021 13:52:57 @monitor.py:467]\u001b[0m GAN_loss/discrim/accuracy_fake: 0.952\n",
      "\u001b[32m[1021 13:52:57 @monitor.py:467]\u001b[0m GAN_loss/discrim/accuracy_real: 0.096\n",
      "\u001b[32m[1021 13:52:57 @monitor.py:467]\u001b[0m GAN_loss/discrim/loss: 0.64086\n",
      "\u001b[32m[1021 13:52:57 @monitor.py:467]\u001b[0m GAN_loss/gen/final-g-loss: 0.99511\n",
      "\u001b[32m[1021 13:52:57 @monitor.py:467]\u001b[0m GAN_loss/gen/klloss: 0.049813\n",
      "\u001b[32m[1021 13:52:57 @monitor.py:467]\u001b[0m GAN_loss/gen/loss: 0.94529\n",
      "\u001b[32m[1021 13:52:57 @monitor.py:467]\u001b[0m QueueInput/queue_size: 50\n",
      "\u001b[32m[1021 13:52:57 @base.py:275]\u001b[0m Start Epoch 100 ...\n"
     ]
    },
    {
     "name": "stderr",
     "output_type": "stream",
     "text": [
      "100%|###################################################################################|175/175[00:05<00:00,32.30it/s]"
     ]
    },
    {
     "name": "stdout",
     "output_type": "stream",
     "text": [
      "\u001b[32m[1021 13:53:02 @base.py:285]\u001b[0m Epoch 100 (global_step 17500) finished, time:5.42 seconds.\n"
     ]
    },
    {
     "name": "stderr",
     "output_type": "stream",
     "text": [
      "\n"
     ]
    },
    {
     "name": "stdout",
     "output_type": "stream",
     "text": [
      "\u001b[32m[1021 13:53:02 @saver.py:79]\u001b[0m Model saved to ../output/Chicago/DATGAN_99/model\\model-17500.\n",
      "\u001b[32m[1021 13:53:02 @monitor.py:467]\u001b[0m GAN_loss/discrim/accuracy_fake: 0.93\n",
      "\u001b[32m[1021 13:53:02 @monitor.py:467]\u001b[0m GAN_loss/discrim/accuracy_real: 0.104\n",
      "\u001b[32m[1021 13:53:02 @monitor.py:467]\u001b[0m GAN_loss/discrim/loss: 0.64946\n",
      "\u001b[32m[1021 13:53:02 @monitor.py:467]\u001b[0m GAN_loss/gen/final-g-loss: 0.99627\n",
      "\u001b[32m[1021 13:53:02 @monitor.py:467]\u001b[0m GAN_loss/gen/klloss: 0.048858\n",
      "\u001b[32m[1021 13:53:02 @monitor.py:467]\u001b[0m GAN_loss/gen/loss: 0.94742\n",
      "\u001b[32m[1021 13:53:02 @monitor.py:467]\u001b[0m QueueInput/queue_size: 50\n",
      "\u001b[32m[1021 13:53:02 @base.py:289]\u001b[0m Training has finished!\n",
      "WARNING:tensorflow:From D:\\Users\\glede\\anaconda3\\envs\\py37\\lib\\site-packages\\tensorpack\\predict\\config.py:101: The name tf.train.ChiefSessionCreator is deprecated. Please use tf.compat.v1.train.ChiefSessionCreator instead.\n",
      "\n",
      "\u001b[32m[1021 13:53:02 @DATGANModel.py:209]\u001b[0m \u001b[91mCreating cell for age (in-edges: 0)\n",
      "\u001b[32m[1021 13:53:02 @DATGANModel.py:209]\u001b[0m \u001b[91mCreating cell for gender (in-edges: 0)\n",
      "\u001b[32m[1021 13:53:02 @DATGANModel.py:209]\u001b[0m \u001b[91mCreating cell for travel_dow (in-edges: 0)\n",
      "\u001b[32m[1021 13:53:02 @DATGANModel.py:209]\u001b[0m \u001b[91mCreating cell for license (in-edges: 1)\n",
      "\u001b[32m[1021 13:53:02 @DATGANModel.py:209]\u001b[0m \u001b[91mCreating cell for education_level (in-edges: 1)\n",
      "\u001b[32m[1021 13:53:02 @DATGANModel.py:209]\u001b[0m \u001b[91mCreating cell for work_status (in-edges: 2)\n",
      "\u001b[32m[1021 13:53:02 @DATGANModel.py:209]\u001b[0m \u001b[91mCreating cell for hh_income (in-edges: 2)\n",
      "\u001b[32m[1021 13:53:03 @DATGANModel.py:209]\u001b[0m \u001b[91mCreating cell for trip_purpose (in-edges: 1)\n",
      "\u001b[32m[1021 13:53:03 @DATGANModel.py:209]\u001b[0m \u001b[91mCreating cell for hh_descr (in-edges: 2)\n",
      "\u001b[32m[1021 13:53:03 @DATGANModel.py:209]\u001b[0m \u001b[91mCreating cell for hh_size (in-edges: 3)\n",
      "\u001b[32m[1021 13:53:03 @DATGANModel.py:209]\u001b[0m \u001b[91mCreating cell for departure_time (in-edges: 1)\n",
      "\u001b[32m[1021 13:53:03 @input_source.py:178]\u001b[0m EnqueueThread QueueInput/input_queue Exited.\n",
      "\u001b[32m[1021 13:53:03 @DATGANModel.py:209]\u001b[0m \u001b[91mCreating cell for distance (in-edges: 1)\n",
      "\u001b[32m[1021 13:53:03 @DATGANModel.py:209]\u001b[0m \u001b[91mCreating cell for hh_vehicles (in-edges: 2)\n",
      "\u001b[32m[1021 13:53:03 @DATGANModel.py:209]\u001b[0m \u001b[91mCreating cell for hh_bikes (in-edges: 2)\n",
      "\u001b[32m[1021 13:53:03 @DATGANModel.py:209]\u001b[0m \u001b[91mCreating cell for choice (in-edges: 7)\n",
      "WARNING:tensorflow:From D:\\Users\\glede\\anaconda3\\envs\\py37\\lib\\site-packages\\tensorpack\\tfutils\\collection.py:45: The name tf.get_collection_ref is deprecated. Please use tf.compat.v1.get_collection_ref instead.\n",
      "\n",
      "\u001b[32m[1021 13:53:03 @collection.py:146]\u001b[0m New collections created in tower : tf.GraphKeys.REGULARIZATION_LOSSES\n",
      "\u001b[32m[1021 13:53:03 @collection.py:165]\u001b[0m These collections were modified but restored in : (tf.GraphKeys.SUMMARIES: 0->2)\n",
      "\u001b[32m[1021 13:53:03 @sessinit.py:87]\u001b[0m \u001b[5m\u001b[31mWRN\u001b[0m The following variables are in the checkpoint, but not found in the graph: global_step, optimize/beta1_power, optimize/beta2_power\n",
      "INFO:tensorflow:Graph was finalized.\n",
      "INFO:tensorflow:Running local_init_op.\n",
      "INFO:tensorflow:Done running local_init_op.\n",
      "\u001b[32m[1021 13:53:04 @sessinit.py:114]\u001b[0m Restoring checkpoint from ../output/Chicago/DATGAN_99/model\\model-17500 ...\n",
      "INFO:tensorflow:Restoring parameters from ../output/Chicago/DATGAN_99/model\\model-17500\n"
     ]
    }
   ],
   "source": [
    "test = datgan.fit(df, graph)"
   ]
  },
  {
   "cell_type": "code",
   "execution_count": 12,
   "metadata": {},
   "outputs": [
    {
     "name": "stdout",
     "output_type": "stream",
     "text": [
      "\u001b[32m[1021 13:53:13 @DATGAN.py:347]\u001b[0m Model saved successfully.\n"
     ]
    }
   ],
   "source": [
    "datgan.save('trained', force=True)"
   ]
  },
  {
   "cell_type": "code",
   "execution_count": 13,
   "metadata": {},
   "outputs": [],
   "source": [
    "beepy.beep(6)"
   ]
  }
 ],
 "metadata": {
  "kernelspec": {
   "display_name": "Python 3",
   "language": "python",
   "name": "python3"
  },
  "language_info": {
   "codemirror_mode": {
    "name": "ipython",
    "version": 3
   },
   "file_extension": ".py",
   "mimetype": "text/x-python",
   "name": "python",
   "nbconvert_exporter": "python",
   "pygments_lexer": "ipython3",
   "version": "3.7.9"
  }
 },
 "nbformat": 4,
 "nbformat_minor": 2
}
