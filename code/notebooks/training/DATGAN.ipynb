{
 "cells": [
  {
   "cell_type": "code",
   "execution_count": 1,
   "metadata": {},
   "outputs": [],
   "source": [
    "import os\n",
    "os.chdir('../..')"
   ]
  },
  {
   "cell_type": "code",
   "execution_count": 2,
   "metadata": {},
   "outputs": [],
   "source": [
    "from platform import python_version\n",
    "print(python_version())"
   ]
  },
  {
   "cell_type": "code",
   "execution_count": 3,
   "metadata": {},
   "outputs": [
    {
     "name": "stdout",
     "output_type": "stream",
     "text": [
      "WARNING:tensorflow:From D:\\Users\\glede\\anaconda3\\envs\\py37\\lib\\site-packages\\tensorpack\\callbacks\\hooks.py:17: The name tf.train.SessionRunHook is deprecated. Please use tf.estimator.SessionRunHook instead.\n",
      "\n",
      "WARNING:tensorflow:From D:\\Users\\glede\\anaconda3\\envs\\py37\\lib\\site-packages\\tensorpack\\tfutils\\optimizer.py:18: The name tf.train.Optimizer is deprecated. Please use tf.compat.v1.train.Optimizer instead.\n",
      "\n",
      "WARNING:tensorflow:From D:\\Users\\glede\\anaconda3\\envs\\py37\\lib\\site-packages\\tensorpack\\tfutils\\sesscreate.py:20: The name tf.train.SessionCreator is deprecated. Please use tf.compat.v1.train.SessionCreator instead.\n",
      "\n"
     ]
    }
   ],
   "source": [
    "import numpy as np\n",
    "import pandas as pd\n",
    "\n",
    "import tensorflow as tf\n",
    "\n",
    "import matplotlib.pyplot as plt\n",
    "\n",
    "from modules.datgan.model import DATGAN\n",
    "#from modules.datgan_preLSTM.model import DATGAN\n",
    "\n",
    "#from modules.datgan_no_att.model import DATGAN\n",
    "import networkx as nx\n",
    "import json\n",
    "import beepy\n",
    "\n",
    "# For the Python notebook\n",
    "%matplotlib inline\n",
    "%reload_ext autoreload\n",
    "%autoreload 2"
   ]
  },
  {
   "cell_type": "code",
   "execution_count": 4,
   "metadata": {},
   "outputs": [],
   "source": [
    "dataset = 'Chicago'"
   ]
  },
  {
   "cell_type": "code",
   "execution_count": 5,
   "metadata": {},
   "outputs": [],
   "source": [
    "df = pd.read_csv('../data/{}/data.csv'.format(dataset), index_col=False)"
   ]
  },
  {
   "cell_type": "code",
   "execution_count": 6,
   "metadata": {},
   "outputs": [
    {
     "data": {
      "text/html": [
       "<div>\n",
       "<style scoped>\n",
       "    .dataframe tbody tr th:only-of-type {\n",
       "        vertical-align: middle;\n",
       "    }\n",
       "\n",
       "    .dataframe tbody tr th {\n",
       "        vertical-align: top;\n",
       "    }\n",
       "\n",
       "    .dataframe thead th {\n",
       "        text-align: right;\n",
       "    }\n",
       "</style>\n",
       "<table border=\"1\" class=\"dataframe\">\n",
       "  <thead>\n",
       "    <tr style=\"text-align: right;\">\n",
       "      <th></th>\n",
       "      <th>choice</th>\n",
       "      <th>travel_dow</th>\n",
       "      <th>trip_purpose</th>\n",
       "      <th>distance</th>\n",
       "      <th>hh_vehicles</th>\n",
       "      <th>hh_size</th>\n",
       "      <th>hh_bikes</th>\n",
       "      <th>hh_descr</th>\n",
       "      <th>hh_income</th>\n",
       "      <th>gender</th>\n",
       "      <th>age</th>\n",
       "      <th>license</th>\n",
       "      <th>education_level</th>\n",
       "      <th>work_status</th>\n",
       "      <th>departure_time</th>\n",
       "    </tr>\n",
       "  </thead>\n",
       "  <tbody>\n",
       "    <tr>\n",
       "      <th>0</th>\n",
       "      <td>drive</td>\n",
       "      <td>7</td>\n",
       "      <td>HOME_OTHER</td>\n",
       "      <td>23.42579</td>\n",
       "      <td>2</td>\n",
       "      <td>2</td>\n",
       "      <td>0</td>\n",
       "      <td>2</td>\n",
       "      <td>6</td>\n",
       "      <td>1</td>\n",
       "      <td>66</td>\n",
       "      <td>1.0</td>\n",
       "      <td>6</td>\n",
       "      <td>FTE</td>\n",
       "      <td>9.333333</td>\n",
       "    </tr>\n",
       "    <tr>\n",
       "      <th>1</th>\n",
       "      <td>drive</td>\n",
       "      <td>7</td>\n",
       "      <td>OTHER</td>\n",
       "      <td>1.71259</td>\n",
       "      <td>2</td>\n",
       "      <td>2</td>\n",
       "      <td>0</td>\n",
       "      <td>2</td>\n",
       "      <td>6</td>\n",
       "      <td>1</td>\n",
       "      <td>66</td>\n",
       "      <td>1.0</td>\n",
       "      <td>6</td>\n",
       "      <td>FTE</td>\n",
       "      <td>12.083333</td>\n",
       "    </tr>\n",
       "    <tr>\n",
       "      <th>2</th>\n",
       "      <td>drive</td>\n",
       "      <td>7</td>\n",
       "      <td>HOME_OTHER</td>\n",
       "      <td>21.77887</td>\n",
       "      <td>2</td>\n",
       "      <td>2</td>\n",
       "      <td>0</td>\n",
       "      <td>2</td>\n",
       "      <td>6</td>\n",
       "      <td>1</td>\n",
       "      <td>66</td>\n",
       "      <td>1.0</td>\n",
       "      <td>6</td>\n",
       "      <td>FTE</td>\n",
       "      <td>15.500000</td>\n",
       "    </tr>\n",
       "    <tr>\n",
       "      <th>3</th>\n",
       "      <td>drive</td>\n",
       "      <td>7</td>\n",
       "      <td>SHOPPING</td>\n",
       "      <td>2.02603</td>\n",
       "      <td>2</td>\n",
       "      <td>2</td>\n",
       "      <td>0</td>\n",
       "      <td>2</td>\n",
       "      <td>6</td>\n",
       "      <td>1</td>\n",
       "      <td>66</td>\n",
       "      <td>1.0</td>\n",
       "      <td>6</td>\n",
       "      <td>FTE</td>\n",
       "      <td>17.500000</td>\n",
       "    </tr>\n",
       "    <tr>\n",
       "      <th>4</th>\n",
       "      <td>drive</td>\n",
       "      <td>7</td>\n",
       "      <td>SHOPPING</td>\n",
       "      <td>0.87691</td>\n",
       "      <td>2</td>\n",
       "      <td>2</td>\n",
       "      <td>0</td>\n",
       "      <td>2</td>\n",
       "      <td>6</td>\n",
       "      <td>1</td>\n",
       "      <td>66</td>\n",
       "      <td>1.0</td>\n",
       "      <td>6</td>\n",
       "      <td>FTE</td>\n",
       "      <td>18.250000</td>\n",
       "    </tr>\n",
       "  </tbody>\n",
       "</table>\n",
       "</div>"
      ],
      "text/plain": [
       "  choice  travel_dow trip_purpose  distance  hh_vehicles  hh_size  hh_bikes  \\\n",
       "0  drive           7   HOME_OTHER  23.42579            2        2         0   \n",
       "1  drive           7        OTHER   1.71259            2        2         0   \n",
       "2  drive           7   HOME_OTHER  21.77887            2        2         0   \n",
       "3  drive           7     SHOPPING   2.02603            2        2         0   \n",
       "4  drive           7     SHOPPING   0.87691            2        2         0   \n",
       "\n",
       "   hh_descr  hh_income  gender  age  license  education_level work_status  \\\n",
       "0         2          6       1   66      1.0                6         FTE   \n",
       "1         2          6       1   66      1.0                6         FTE   \n",
       "2         2          6       1   66      1.0                6         FTE   \n",
       "3         2          6       1   66      1.0                6         FTE   \n",
       "4         2          6       1   66      1.0                6         FTE   \n",
       "\n",
       "   departure_time  \n",
       "0        9.333333  \n",
       "1       12.083333  \n",
       "2       15.500000  \n",
       "3       17.500000  \n",
       "4       18.250000  "
      ]
     },
     "execution_count": 6,
     "metadata": {},
     "output_type": "execute_result"
    }
   ],
   "source": [
    "df.head()"
   ]
  },
  {
   "cell_type": "code",
   "execution_count": 7,
   "metadata": {},
   "outputs": [],
   "source": [
    "if dataset is 'Chicago':\n",
    "    continuous_columns = [\"distance\", \"age\", \"departure_time\"]\n",
    "elif dataset is 'LPMC':\n",
    "    continuous_columns = ['start_time_linear', 'age', 'distance', 'dur_walking', 'dur_cycling', 'dur_pt_access', 'dur_pt_rail', 'dur_pt_bus', 'dur_pt_int', 'dur_driving', 'cost_transit', 'cost_driving_fuel', 'driving_traffic_percent']"
   ]
  },
  {
   "cell_type": "code",
   "execution_count": 8,
   "metadata": {},
   "outputs": [],
   "source": [
    "# personalised graph\n",
    "graph = nx.DiGraph()\n",
    "\n",
    "if dataset is 'Chicago':\n",
    "    graph.add_edges_from([\n",
    "        (\"age\", \"license\"),\n",
    "        (\"age\", \"education_level\"),\n",
    "        (\"gender\", \"work_status\"),\n",
    "        (\"education_level\", \"work_status\"),\n",
    "        (\"education_level\", \"hh_income\"),\n",
    "        (\"work_status\", \"hh_income\"),\n",
    "        (\"hh_income\", \"hh_descr\"),\n",
    "        (\"hh_income\", \"hh_size\"),\n",
    "        (\"hh_size\", \"hh_vehicles\"),\n",
    "        (\"hh_size\", \"hh_bikes\"),\n",
    "        (\"work_status\", \"trip_purpose\"),\n",
    "        (\"trip_purpose\", \"departure_time\"),\n",
    "        (\"trip_purpose\", \"distance\"),\n",
    "        (\"travel_dow\", \"choice\"),\n",
    "        (\"distance\", \"choice\"),\n",
    "        (\"departure_time\", \"choice\"),\n",
    "        (\"hh_vehicles\", \"choice\"),\n",
    "        (\"hh_bikes\", \"choice\"),\n",
    "        (\"license\", \"choice\"),\n",
    "        # Non necessary links\n",
    "        (\"education_level\", \"hh_size\"),\n",
    "        (\"work_status\", \"hh_descr\"),\n",
    "        (\"work_status\", \"hh_size\"),\n",
    "        (\"hh_income\", \"hh_bikes\"),\n",
    "        (\"hh_income\", \"hh_vehicles\"),\n",
    "        (\"trip_purpose\", \"choice\")\n",
    "    ])\n",
    "elif dataset is 'LPMC':\n",
    "    graph.add_edges_from([\n",
    "        (\"travel_year\", \"survey_year\"),\n",
    "        (\"travel_date\", \"day_of_week\"),\n",
    "        (\"day_of_week\", \"purpose\"),\n",
    "        (\"purpose\", \"start_time_linear\"),\n",
    "        (\"purpose\", \"cost_driving_con_charge\"),\n",
    "        (\"purpose\", \"distance\"),\n",
    "        (\"day_of_week\", \"driving_traffic_percent\"),\n",
    "        (\"day_of_week\", \"cost_driving_con_charge\"),\n",
    "        (\"start_time_linear\", \"driving_traffic_percent\"),\n",
    "        (\"start_time_linear\", \"cost_driving_con_charge\"),\n",
    "        (\"driving_traffic_percent\", \"cost_driving_con_charge\"),\n",
    "        (\"female\", \"driving_license\"),\n",
    "        (\"age\", \"bus_scale\"),\n",
    "        (\"age\", \"car_ownership\"),\n",
    "        (\"age\", \"driving_license\"),\n",
    "        (\"age\", \"faretype\"),\n",
    "        (\"driving_license\", \"car_ownership\"),\n",
    "        (\"car_ownership\", \"fueltype\"),\n",
    "        (\"fueltype\", \"cost_driving_con_charge\"),\n",
    "        (\"fueltype\", \"cost_driving_fuel\"),\n",
    "        (\"distance\", \"cost_driving_fuel\"),\n",
    "        (\"distance\", \"dur_driving\"),\n",
    "        (\"distance\", \"dur_walking\"),\n",
    "        (\"distance\", \"dur_cycling\"),\n",
    "        (\"distance\", \"dur_pt_access\"),\n",
    "        (\"distance\", \"dur_pt_rail\"),\n",
    "        (\"distance\", \"dur_pt_bus\"),\n",
    "        (\"distance\", \"dur_pt_int\"),\n",
    "        (\"dur_pt_bus\", \"cost_transit\"),\n",
    "        (\"dur_pt_rail\", \"cost_transit\"),\n",
    "        (\"pt_n_interchanges\", \"dur_pt_int\"),\n",
    "        (\"pt_n_interchanges\", \"cost_transit\"),\n",
    "        (\"faretype\", \"cost_transit\"),\n",
    "        (\"bus_scale\", \"cost_transit\"),\n",
    "        (\"car_ownership\", \"travel_mode\"),\n",
    "        (\"age\", \"travel_mode\"),\n",
    "        (\"cost_driving_con_charge\", \"travel_mode\"),\n",
    "        (\"driving_traffic_percent\", \"travel_mode\"),\n",
    "        (\"female\", \"travel_mode\"),\n",
    "        (\"purpose\", \"travel_mode\"),\n",
    "        (\"cost_transit\", \"travel_mode\"),\n",
    "        (\"cost_driving_fuel\", \"travel_mode\"),\n",
    "        (\"dur_driving\", \"travel_mode\"),\n",
    "        (\"dur_walking\", \"travel_mode\"),\n",
    "        (\"dur_cycling\", \"travel_mode\"),\n",
    "        (\"dur_pt_access\", \"travel_mode\"),\n",
    "        (\"dur_pt_rail\", \"travel_mode\"),\n",
    "        (\"dur_pt_bus\", \"travel_mode\"),\n",
    "        (\"dur_pt_int\", \"travel_mode\")\n",
    "    ])\n",
    "    graph.add_node(\"travel_month\")"
   ]
  },
  {
   "cell_type": "code",
   "execution_count": 9,
   "metadata": {},
   "outputs": [],
   "source": [
    "output_folder = '../output/' + dataset + '/DATGAN_asd29/'"
   ]
  },
  {
   "cell_type": "code",
   "execution_count": 10,
   "metadata": {},
   "outputs": [],
   "source": [
    "datgan = DATGAN(continuous_columns, max_epoch=1500, batch_size=500, output=output_folder, gpu=0)"
   ]
  },
  {
   "cell_type": "code",
   "execution_count": 11,
   "metadata": {},
   "outputs": [
    {
     "name": "stdout",
     "output_type": "stream",
     "text": [
      "\u001b[32m[1019 08:46:43 @model.py:159]\u001b[0m Found preprocessed data\n",
      "\u001b[32m[1019 08:46:43 @model.py:167]\u001b[0m Preprocessed data have been loaded!\n",
      "WARNING:tensorflow:From D:\\Users\\glede\\anaconda3\\envs\\py37\\lib\\site-packages\\tensorpack\\graph_builder\\model_desc.py:29: The name tf.get_default_graph is deprecated. Please use tf.compat.v1.get_default_graph instead.\n",
      "\n",
      "WARNING:tensorflow:From D:\\Users\\glede\\anaconda3\\envs\\py37\\lib\\site-packages\\tensorpack\\graph_builder\\model_desc.py:39: The name tf.placeholder is deprecated. Please use tf.compat.v1.placeholder instead.\n",
      "\n",
      "WARNING:tensorflow:From D:\\Users\\glede\\anaconda3\\envs\\py37\\lib\\site-packages\\tensorpack\\input_source\\input_source.py:219: The name tf.FIFOQueue is deprecated. Please use tf.queue.FIFOQueue instead.\n",
      "\n",
      "\u001b[32m[1019 08:46:43 @input_source.py:222]\u001b[0m Setting up the queue 'QueueInput/input_queue' for CPU prefetching ...\n",
      "WARNING:tensorflow:From D:\\Users\\glede\\anaconda3\\envs\\py37\\lib\\site-packages\\tensorpack\\tfutils\\summary.py:237: The name tf.get_variable_scope is deprecated. Please use tf.compat.v1.get_variable_scope instead.\n",
      "\n",
      "WARNING:tensorflow:From D:\\Users\\glede\\anaconda3\\envs\\py37\\lib\\site-packages\\tensorpack\\tfutils\\summary.py:27: The name tf.variable_scope is deprecated. Please use tf.compat.v1.variable_scope instead.\n",
      "\n",
      "WARNING:tensorflow:From D:\\Users\\glede\\anaconda3\\envs\\py37\\lib\\site-packages\\tensorpack\\tfutils\\summary.py:254: The name tf.get_variable is deprecated. Please use tf.compat.v1.get_variable instead.\n",
      "\n",
      "WARNING:tensorflow:From D:\\Users\\glede\\anaconda3\\envs\\py37\\lib\\site-packages\\tensorpack\\tfutils\\summary.py:264: The name tf.summary.scalar is deprecated. Please use tf.compat.v1.summary.scalar instead.\n",
      "\n",
      "WARNING:tensorflow:From D:\\Users\\glede\\anaconda3\\envs\\py37\\lib\\site-packages\\tensorpack\\tfutils\\collection.py:105: The name tf.GraphKeys is deprecated. Please use tf.compat.v1.GraphKeys instead.\n",
      "\n",
      "WARNING:tensorflow:From D:\\Users\\glede\\anaconda3\\envs\\py37\\lib\\site-packages\\tensorpack\\tfutils\\collection.py:33: The name tf.get_collection is deprecated. Please use tf.compat.v1.get_collection instead.\n",
      "\n",
      "WARNING:tensorflow:From C:\\Users\\glede\\Documents\\EPFL\\PhD\\SynthPop\\code\\modules\\datgan\\graph.py:607: The name tf.random_normal is deprecated. Please use tf.random.normal instead.\n",
      "\n",
      "WARNING:tensorflow:From C:\\Users\\glede\\Documents\\EPFL\\PhD\\SynthPop\\code\\modules\\datgan\\graph.py:610: The name tf.placeholder_with_default is deprecated. Please use tf.compat.v1.placeholder_with_default instead.\n",
      "\n",
      "WARNING:tensorflow:From C:\\Users\\glede\\Documents\\EPFL\\PhD\\SynthPop\\code\\modules\\datgan\\graph.py:260: LSTMCell.__init__ (from tensorflow.python.ops.rnn_cell_impl) is deprecated and will be removed in a future version.\n",
      "Instructions for updating:\n",
      "This class is equivalent as tf.keras.layers.LSTMCell, and will be replaced by that in Tensorflow 2.0.\n",
      "\u001b[32m[1019 08:46:43 @graph.py:277]\u001b[0m \u001b[91mCreating cell for age (in-edges: 0)\n",
      "WARNING:tensorflow:From D:\\Users\\glede\\anaconda3\\envs\\py37\\lib\\site-packages\\tensorflow_core\\python\\ops\\rnn_cell_impl.py:958: Layer.add_variable (from tensorflow.python.keras.engine.base_layer) is deprecated and will be removed in a future version.\n",
      "Instructions for updating:\n",
      "Please use `layer.add_weight` method instead.\n",
      "WARNING:tensorflow:From D:\\Users\\glede\\anaconda3\\envs\\py37\\lib\\site-packages\\tensorflow_core\\python\\ops\\rnn_cell_impl.py:962: calling Zeros.__init__ (from tensorflow.python.ops.init_ops) with dtype is deprecated and will be removed in a future version.\n",
      "Instructions for updating:\n",
      "Call initializer instance with the dtype argument instead of passing it to the constructor\n",
      "\u001b[32m[1019 08:46:43 @registry.py:126]\u001b[0m gen/LSTM/00/FC input: [500, 100]\n",
      "WARNING:tensorflow:From D:\\Users\\glede\\anaconda3\\envs\\py37\\lib\\site-packages\\tensorpack\\models\\fc.py:57: The name tf.layers.Dense is deprecated. Please use tf.compat.v1.layers.Dense instead.\n",
      "\n",
      "WARNING:tensorflow:From D:\\Users\\glede\\anaconda3\\envs\\py37\\lib\\site-packages\\tensorpack\\models\\fc.py:67: Layer.apply (from tensorflow.python.keras.engine.base_layer) is deprecated and will be removed in a future version.\n",
      "Instructions for updating:\n",
      "Please use `layer.__call__` method instead.\n",
      "\u001b[32m[1019 08:46:43 @registry.py:134]\u001b[0m gen/LSTM/00/FC output: [500, 100]\n",
      "\u001b[32m[1019 08:46:43 @registry.py:126]\u001b[0m gen/LSTM/00/FC2_val input: [500, 100]\n",
      "\u001b[32m[1019 08:46:43 @registry.py:134]\u001b[0m gen/LSTM/00/FC2_val output: [500, 6]\n",
      "\u001b[32m[1019 08:46:43 @registry.py:126]\u001b[0m gen/LSTM/00/FC2_prob input: [500, 100]\n",
      "\u001b[32m[1019 08:46:43 @registry.py:134]\u001b[0m gen/LSTM/00/FC2_prob output: [500, 6]\n",
      "\u001b[32m[1019 08:46:43 @registry.py:126]\u001b[0m gen/LSTM/00/FC3 input: [500, 12]\n",
      "\u001b[32m[1019 08:46:43 @registry.py:134]\u001b[0m gen/LSTM/00/FC3 output: [500, 100]\n",
      "\u001b[32m[1019 08:46:43 @graph.py:277]\u001b[0m \u001b[91mCreating cell for gender (in-edges: 0)\n",
      "\u001b[32m[1019 08:46:43 @registry.py:126]\u001b[0m gen/LSTM/01/FC input: [500, 100]\n",
      "\u001b[32m[1019 08:46:43 @registry.py:134]\u001b[0m gen/LSTM/01/FC output: [500, 100]\n",
      "\u001b[32m[1019 08:46:43 @registry.py:126]\u001b[0m gen/LSTM/01/FC2 input: [500, 100]\n",
      "\u001b[32m[1019 08:46:43 @registry.py:134]\u001b[0m gen/LSTM/01/FC2 output: [500, 2]\n",
      "\u001b[32m[1019 08:46:43 @registry.py:126]\u001b[0m gen/LSTM/01/FC3 input: [500, 2]\n",
      "\u001b[32m[1019 08:46:43 @registry.py:134]\u001b[0m gen/LSTM/01/FC3 output: [500, 100]\n",
      "\u001b[32m[1019 08:46:43 @graph.py:277]\u001b[0m \u001b[91mCreating cell for travel_dow (in-edges: 0)\n",
      "\u001b[32m[1019 08:46:43 @registry.py:126]\u001b[0m gen/LSTM/02/FC input: [500, 100]\n",
      "\u001b[32m[1019 08:46:43 @registry.py:134]\u001b[0m gen/LSTM/02/FC output: [500, 100]\n",
      "\u001b[32m[1019 08:46:43 @registry.py:126]\u001b[0m gen/LSTM/02/FC2 input: [500, 100]\n",
      "\u001b[32m[1019 08:46:43 @registry.py:134]\u001b[0m gen/LSTM/02/FC2 output: [500, 7]\n",
      "\u001b[32m[1019 08:46:43 @registry.py:126]\u001b[0m gen/LSTM/02/FC3 input: [500, 7]\n",
      "\u001b[32m[1019 08:46:43 @registry.py:134]\u001b[0m gen/LSTM/02/FC3 output: [500, 100]\n",
      "\u001b[32m[1019 08:46:43 @graph.py:277]\u001b[0m \u001b[91mCreating cell for license (in-edges: 1)\n",
      "\u001b[32m[1019 08:46:43 @registry.py:126]\u001b[0m gen/LSTM/03/FC input: [500, 100]\n",
      "\u001b[32m[1019 08:46:43 @registry.py:134]\u001b[0m gen/LSTM/03/FC output: [500, 100]\n",
      "\u001b[32m[1019 08:46:43 @registry.py:126]\u001b[0m gen/LSTM/03/FC2 input: [500, 100]\n",
      "\u001b[32m[1019 08:46:44 @registry.py:134]\u001b[0m gen/LSTM/03/FC2 output: [500, 2]\n",
      "\u001b[32m[1019 08:46:44 @registry.py:126]\u001b[0m gen/LSTM/03/FC3 input: [500, 2]\n",
      "\u001b[32m[1019 08:46:44 @registry.py:134]\u001b[0m gen/LSTM/03/FC3 output: [500, 100]\n",
      "\u001b[32m[1019 08:46:44 @graph.py:277]\u001b[0m \u001b[91mCreating cell for education_level (in-edges: 1)\n",
      "\u001b[32m[1019 08:46:44 @registry.py:126]\u001b[0m gen/LSTM/04/FC input: [500, 100]\n",
      "\u001b[32m[1019 08:46:44 @registry.py:134]\u001b[0m gen/LSTM/04/FC output: [500, 100]\n",
      "\u001b[32m[1019 08:46:44 @registry.py:126]\u001b[0m gen/LSTM/04/FC2 input: [500, 100]\n",
      "\u001b[32m[1019 08:46:44 @registry.py:134]\u001b[0m gen/LSTM/04/FC2 output: [500, 6]\n",
      "\u001b[32m[1019 08:46:44 @registry.py:126]\u001b[0m gen/LSTM/04/FC3 input: [500, 6]\n",
      "\u001b[32m[1019 08:46:44 @registry.py:134]\u001b[0m gen/LSTM/04/FC3 output: [500, 100]\n",
      "\u001b[32m[1019 08:46:44 @graph.py:277]\u001b[0m \u001b[91mCreating cell for work_status (in-edges: 2)\n",
      "\u001b[32m[1019 08:46:44 @registry.py:126]\u001b[0m gen/LSTM/05/FC_inputs input: [500, 200]\n",
      "\u001b[32m[1019 08:46:44 @registry.py:134]\u001b[0m gen/LSTM/05/FC_inputs output: [500, 100]\n",
      "\u001b[32m[1019 08:46:44 @registry.py:126]\u001b[0m gen/LSTM/05/FC_attentions input: [500, 200]\n",
      "\u001b[32m[1019 08:46:44 @registry.py:134]\u001b[0m gen/LSTM/05/FC_attentions output: [500, 100]\n",
      "\u001b[32m[1019 08:46:44 @registry.py:126]\u001b[0m gen/LSTM/05/FC_lstm_state_0 input: [500, 200]\n",
      "\u001b[32m[1019 08:46:44 @registry.py:134]\u001b[0m gen/LSTM/05/FC_lstm_state_0 output: [500, 100]\n",
      "\u001b[32m[1019 08:46:44 @registry.py:126]\u001b[0m gen/LSTM/05/FC_lstm_state_1 input: [500, 200]\n",
      "\u001b[32m[1019 08:46:44 @registry.py:134]\u001b[0m gen/LSTM/05/FC_lstm_state_1 output: [500, 100]\n",
      "WARNING:tensorflow:From C:\\Users\\glede\\Documents\\EPFL\\PhD\\SynthPop\\code\\modules\\datgan\\graph.py:373: The name tf.nn.rnn_cell.LSTMStateTuple is deprecated. Please use tf.compat.v1.nn.rnn_cell.LSTMStateTuple instead.\n",
      "\n",
      "\u001b[32m[1019 08:46:44 @registry.py:126]\u001b[0m gen/LSTM/06/FC input: [500, 100]\n",
      "\u001b[32m[1019 08:46:44 @registry.py:134]\u001b[0m gen/LSTM/06/FC output: [500, 100]\n",
      "\u001b[32m[1019 08:46:44 @registry.py:126]\u001b[0m gen/LSTM/06/FC2 input: [500, 100]\n",
      "\u001b[32m[1019 08:46:44 @registry.py:134]\u001b[0m gen/LSTM/06/FC2 output: [500, 8]\n",
      "\u001b[32m[1019 08:46:44 @registry.py:126]\u001b[0m gen/LSTM/06/FC3 input: [500, 8]\n"
     ]
    },
    {
     "name": "stdout",
     "output_type": "stream",
     "text": [
      "\u001b[32m[1019 08:46:44 @registry.py:134]\u001b[0m gen/LSTM/06/FC3 output: [500, 100]\n",
      "\u001b[32m[1019 08:46:44 @graph.py:277]\u001b[0m \u001b[91mCreating cell for hh_income (in-edges: 2)\n",
      "\u001b[32m[1019 08:46:44 @registry.py:126]\u001b[0m gen/LSTM/07/FC_inputs input: [500, 200]\n",
      "\u001b[32m[1019 08:46:44 @registry.py:134]\u001b[0m gen/LSTM/07/FC_inputs output: [500, 100]\n",
      "\u001b[32m[1019 08:46:44 @registry.py:126]\u001b[0m gen/LSTM/07/FC_attentions input: [500, 200]\n",
      "\u001b[32m[1019 08:46:44 @registry.py:134]\u001b[0m gen/LSTM/07/FC_attentions output: [500, 100]\n",
      "\u001b[32m[1019 08:46:44 @registry.py:126]\u001b[0m gen/LSTM/07/FC_lstm_state_0 input: [500, 200]\n",
      "\u001b[32m[1019 08:46:44 @registry.py:134]\u001b[0m gen/LSTM/07/FC_lstm_state_0 output: [500, 100]\n",
      "\u001b[32m[1019 08:46:44 @registry.py:126]\u001b[0m gen/LSTM/07/FC_lstm_state_1 input: [500, 200]\n",
      "\u001b[32m[1019 08:46:44 @registry.py:134]\u001b[0m gen/LSTM/07/FC_lstm_state_1 output: [500, 100]\n",
      "\u001b[32m[1019 08:46:44 @registry.py:126]\u001b[0m gen/LSTM/08/FC input: [500, 100]\n",
      "\u001b[32m[1019 08:46:44 @registry.py:134]\u001b[0m gen/LSTM/08/FC output: [500, 100]\n",
      "\u001b[32m[1019 08:46:44 @registry.py:126]\u001b[0m gen/LSTM/08/FC2 input: [500, 100]\n",
      "\u001b[32m[1019 08:46:44 @registry.py:134]\u001b[0m gen/LSTM/08/FC2 output: [500, 7]\n",
      "\u001b[32m[1019 08:46:44 @registry.py:126]\u001b[0m gen/LSTM/08/FC3 input: [500, 7]\n",
      "\u001b[32m[1019 08:46:44 @registry.py:134]\u001b[0m gen/LSTM/08/FC3 output: [500, 100]\n",
      "\u001b[32m[1019 08:46:44 @graph.py:277]\u001b[0m \u001b[91mCreating cell for trip_purpose (in-edges: 1)\n",
      "\u001b[32m[1019 08:46:44 @registry.py:126]\u001b[0m gen/LSTM/09/FC input: [500, 100]\n",
      "\u001b[32m[1019 08:46:44 @registry.py:134]\u001b[0m gen/LSTM/09/FC output: [500, 100]\n",
      "\u001b[32m[1019 08:46:44 @registry.py:126]\u001b[0m gen/LSTM/09/FC2 input: [500, 100]\n",
      "\u001b[32m[1019 08:46:44 @registry.py:134]\u001b[0m gen/LSTM/09/FC2 output: [500, 7]\n",
      "\u001b[32m[1019 08:46:44 @registry.py:126]\u001b[0m gen/LSTM/09/FC3 input: [500, 7]\n",
      "\u001b[32m[1019 08:46:44 @registry.py:134]\u001b[0m gen/LSTM/09/FC3 output: [500, 100]\n",
      "\u001b[32m[1019 08:46:44 @graph.py:277]\u001b[0m \u001b[91mCreating cell for hh_descr (in-edges: 2)\n",
      "\u001b[32m[1019 08:46:44 @registry.py:126]\u001b[0m gen/LSTM/10/FC_inputs input: [500, 200]\n",
      "\u001b[32m[1019 08:46:44 @registry.py:134]\u001b[0m gen/LSTM/10/FC_inputs output: [500, 100]\n",
      "\u001b[32m[1019 08:46:44 @registry.py:126]\u001b[0m gen/LSTM/10/FC_attentions input: [500, 200]\n",
      "\u001b[32m[1019 08:46:44 @registry.py:134]\u001b[0m gen/LSTM/10/FC_attentions output: [500, 100]\n",
      "\u001b[32m[1019 08:46:44 @registry.py:126]\u001b[0m gen/LSTM/10/FC_lstm_state_0 input: [500, 200]\n",
      "\u001b[32m[1019 08:46:44 @registry.py:134]\u001b[0m gen/LSTM/10/FC_lstm_state_0 output: [500, 100]\n",
      "\u001b[32m[1019 08:46:44 @registry.py:126]\u001b[0m gen/LSTM/10/FC_lstm_state_1 input: [500, 200]\n",
      "\u001b[32m[1019 08:46:44 @registry.py:134]\u001b[0m gen/LSTM/10/FC_lstm_state_1 output: [500, 100]\n",
      "\u001b[32m[1019 08:46:44 @registry.py:126]\u001b[0m gen/LSTM/11/FC input: [500, 100]\n",
      "\u001b[32m[1019 08:46:44 @registry.py:134]\u001b[0m gen/LSTM/11/FC output: [500, 100]\n",
      "\u001b[32m[1019 08:46:44 @registry.py:126]\u001b[0m gen/LSTM/11/FC2 input: [500, 100]\n",
      "\u001b[32m[1019 08:46:44 @registry.py:134]\u001b[0m gen/LSTM/11/FC2 output: [500, 3]\n",
      "\u001b[32m[1019 08:46:44 @registry.py:126]\u001b[0m gen/LSTM/11/FC3 input: [500, 3]\n",
      "\u001b[32m[1019 08:46:44 @registry.py:134]\u001b[0m gen/LSTM/11/FC3 output: [500, 100]\n",
      "\u001b[32m[1019 08:46:44 @graph.py:277]\u001b[0m \u001b[91mCreating cell for hh_size (in-edges: 3)\n",
      "\u001b[32m[1019 08:46:44 @registry.py:126]\u001b[0m gen/LSTM/12/FC_inputs input: [500, 300]\n",
      "\u001b[32m[1019 08:46:44 @registry.py:134]\u001b[0m gen/LSTM/12/FC_inputs output: [500, 100]\n",
      "\u001b[32m[1019 08:46:44 @registry.py:126]\u001b[0m gen/LSTM/12/FC_attentions input: [500, 300]\n",
      "\u001b[32m[1019 08:46:44 @registry.py:134]\u001b[0m gen/LSTM/12/FC_attentions output: [500, 100]\n",
      "\u001b[32m[1019 08:46:44 @registry.py:126]\u001b[0m gen/LSTM/12/FC_lstm_state_0 input: [500, 300]\n",
      "\u001b[32m[1019 08:46:44 @registry.py:134]\u001b[0m gen/LSTM/12/FC_lstm_state_0 output: [500, 100]\n",
      "\u001b[32m[1019 08:46:44 @registry.py:126]\u001b[0m gen/LSTM/12/FC_lstm_state_1 input: [500, 300]\n",
      "\u001b[32m[1019 08:46:44 @registry.py:134]\u001b[0m gen/LSTM/12/FC_lstm_state_1 output: [500, 100]\n",
      "\u001b[32m[1019 08:46:44 @registry.py:126]\u001b[0m gen/LSTM/13/FC input: [500, 100]\n",
      "\u001b[32m[1019 08:46:44 @registry.py:134]\u001b[0m gen/LSTM/13/FC output: [500, 100]\n",
      "\u001b[32m[1019 08:46:44 @registry.py:126]\u001b[0m gen/LSTM/13/FC2 input: [500, 100]\n",
      "\u001b[32m[1019 08:46:44 @registry.py:134]\u001b[0m gen/LSTM/13/FC2 output: [500, 8]\n",
      "\u001b[32m[1019 08:46:44 @registry.py:126]\u001b[0m gen/LSTM/13/FC3 input: [500, 8]\n",
      "\u001b[32m[1019 08:46:44 @registry.py:134]\u001b[0m gen/LSTM/13/FC3 output: [500, 100]\n",
      "\u001b[32m[1019 08:46:44 @graph.py:277]\u001b[0m \u001b[91mCreating cell for departure_time (in-edges: 1)\n",
      "\u001b[32m[1019 08:46:44 @registry.py:126]\u001b[0m gen/LSTM/14/FC input: [500, 100]\n",
      "\u001b[32m[1019 08:46:44 @registry.py:134]\u001b[0m gen/LSTM/14/FC output: [500, 100]\n",
      "\u001b[32m[1019 08:46:44 @registry.py:126]\u001b[0m gen/LSTM/14/FC2_val input: [500, 100]\n",
      "\u001b[32m[1019 08:46:44 @registry.py:134]\u001b[0m gen/LSTM/14/FC2_val output: [500, 8]\n",
      "\u001b[32m[1019 08:46:44 @registry.py:126]\u001b[0m gen/LSTM/14/FC2_prob input: [500, 100]\n",
      "\u001b[32m[1019 08:46:44 @registry.py:134]\u001b[0m gen/LSTM/14/FC2_prob output: [500, 8]\n",
      "\u001b[32m[1019 08:46:44 @registry.py:126]\u001b[0m gen/LSTM/14/FC3 input: [500, 16]\n",
      "\u001b[32m[1019 08:46:44 @registry.py:134]\u001b[0m gen/LSTM/14/FC3 output: [500, 100]\n",
      "\u001b[32m[1019 08:46:44 @graph.py:277]\u001b[0m \u001b[91mCreating cell for distance (in-edges: 1)\n",
      "\u001b[32m[1019 08:46:44 @registry.py:126]\u001b[0m gen/LSTM/15/FC input: [500, 100]\n",
      "\u001b[32m[1019 08:46:44 @registry.py:134]\u001b[0m gen/LSTM/15/FC output: [500, 100]\n",
      "\u001b[32m[1019 08:46:44 @registry.py:126]\u001b[0m gen/LSTM/15/FC2_val input: [500, 100]\n",
      "\u001b[32m[1019 08:46:44 @registry.py:134]\u001b[0m gen/LSTM/15/FC2_val output: [500, 10]\n",
      "\u001b[32m[1019 08:46:44 @registry.py:126]\u001b[0m gen/LSTM/15/FC2_prob input: [500, 100]\n",
      "\u001b[32m[1019 08:46:44 @registry.py:134]\u001b[0m gen/LSTM/15/FC2_prob output: [500, 10]\n",
      "\u001b[32m[1019 08:46:44 @registry.py:126]\u001b[0m gen/LSTM/15/FC3 input: [500, 20]\n",
      "\u001b[32m[1019 08:46:44 @registry.py:134]\u001b[0m gen/LSTM/15/FC3 output: [500, 100]\n",
      "\u001b[32m[1019 08:46:44 @graph.py:277]\u001b[0m \u001b[91mCreating cell for hh_vehicles (in-edges: 2)\n",
      "\u001b[32m[1019 08:46:44 @registry.py:126]\u001b[0m gen/LSTM/16/FC_inputs input: [500, 200]\n",
      "\u001b[32m[1019 08:46:44 @registry.py:134]\u001b[0m gen/LSTM/16/FC_inputs output: [500, 100]\n",
      "\u001b[32m[1019 08:46:44 @registry.py:126]\u001b[0m gen/LSTM/16/FC_attentions input: [500, 200]\n",
      "\u001b[32m[1019 08:46:44 @registry.py:134]\u001b[0m gen/LSTM/16/FC_attentions output: [500, 100]\n",
      "\u001b[32m[1019 08:46:44 @registry.py:126]\u001b[0m gen/LSTM/16/FC_lstm_state_0 input: [500, 200]\n",
      "\u001b[32m[1019 08:46:44 @registry.py:134]\u001b[0m gen/LSTM/16/FC_lstm_state_0 output: [500, 100]\n",
      "\u001b[32m[1019 08:46:44 @registry.py:126]\u001b[0m gen/LSTM/16/FC_lstm_state_1 input: [500, 200]\n",
      "\u001b[32m[1019 08:46:44 @registry.py:134]\u001b[0m gen/LSTM/16/FC_lstm_state_1 output: [500, 100]\n",
      "\u001b[32m[1019 08:46:44 @registry.py:126]\u001b[0m gen/LSTM/17/FC input: [500, 100]\n",
      "\u001b[32m[1019 08:46:44 @registry.py:134]\u001b[0m gen/LSTM/17/FC output: [500, 100]\n",
      "\u001b[32m[1019 08:46:44 @registry.py:126]\u001b[0m gen/LSTM/17/FC2 input: [500, 100]\n",
      "\u001b[32m[1019 08:46:44 @registry.py:134]\u001b[0m gen/LSTM/17/FC2 output: [500, 9]\n",
      "\u001b[32m[1019 08:46:44 @registry.py:126]\u001b[0m gen/LSTM/17/FC3 input: [500, 9]\n",
      "\u001b[32m[1019 08:46:44 @registry.py:134]\u001b[0m gen/LSTM/17/FC3 output: [500, 100]\n",
      "\u001b[32m[1019 08:46:44 @graph.py:277]\u001b[0m \u001b[91mCreating cell for hh_bikes (in-edges: 2)\n",
      "\u001b[32m[1019 08:46:44 @registry.py:126]\u001b[0m gen/LSTM/18/FC_inputs input: [500, 200]\n",
      "\u001b[32m[1019 08:46:44 @registry.py:134]\u001b[0m gen/LSTM/18/FC_inputs output: [500, 100]\n",
      "\u001b[32m[1019 08:46:44 @registry.py:126]\u001b[0m gen/LSTM/18/FC_attentions input: [500, 200]\n",
      "\u001b[32m[1019 08:46:44 @registry.py:134]\u001b[0m gen/LSTM/18/FC_attentions output: [500, 100]\n",
      "\u001b[32m[1019 08:46:44 @registry.py:126]\u001b[0m gen/LSTM/18/FC_lstm_state_0 input: [500, 200]\n",
      "\u001b[32m[1019 08:46:44 @registry.py:134]\u001b[0m gen/LSTM/18/FC_lstm_state_0 output: [500, 100]\n",
      "\u001b[32m[1019 08:46:44 @registry.py:126]\u001b[0m gen/LSTM/18/FC_lstm_state_1 input: [500, 200]\n",
      "\u001b[32m[1019 08:46:44 @registry.py:134]\u001b[0m gen/LSTM/18/FC_lstm_state_1 output: [500, 100]\n",
      "\u001b[32m[1019 08:46:44 @registry.py:126]\u001b[0m gen/LSTM/19/FC input: [500, 100]\n",
      "\u001b[32m[1019 08:46:44 @registry.py:134]\u001b[0m gen/LSTM/19/FC output: [500, 100]\n",
      "\u001b[32m[1019 08:46:44 @registry.py:126]\u001b[0m gen/LSTM/19/FC2 input: [500, 100]\n",
      "\u001b[32m[1019 08:46:44 @registry.py:134]\u001b[0m gen/LSTM/19/FC2 output: [500, 8]\n",
      "\u001b[32m[1019 08:46:44 @registry.py:126]\u001b[0m gen/LSTM/19/FC3 input: [500, 8]\n",
      "\u001b[32m[1019 08:46:44 @registry.py:134]\u001b[0m gen/LSTM/19/FC3 output: [500, 100]\n"
     ]
    },
    {
     "name": "stdout",
     "output_type": "stream",
     "text": [
      "\u001b[32m[1019 08:46:44 @graph.py:277]\u001b[0m \u001b[91mCreating cell for choice (in-edges: 7)\n",
      "\u001b[32m[1019 08:46:44 @registry.py:126]\u001b[0m gen/LSTM/20/FC_inputs input: [500, 700]\n",
      "\u001b[32m[1019 08:46:44 @registry.py:134]\u001b[0m gen/LSTM/20/FC_inputs output: [500, 100]\n",
      "\u001b[32m[1019 08:46:44 @registry.py:126]\u001b[0m gen/LSTM/20/FC_attentions input: [500, 700]\n",
      "\u001b[32m[1019 08:46:44 @registry.py:134]\u001b[0m gen/LSTM/20/FC_attentions output: [500, 100]\n",
      "\u001b[32m[1019 08:46:44 @registry.py:126]\u001b[0m gen/LSTM/20/FC_lstm_state_0 input: [500, 700]\n",
      "\u001b[32m[1019 08:46:44 @registry.py:134]\u001b[0m gen/LSTM/20/FC_lstm_state_0 output: [500, 100]\n",
      "\u001b[32m[1019 08:46:44 @registry.py:126]\u001b[0m gen/LSTM/20/FC_lstm_state_1 input: [500, 700]\n",
      "\u001b[32m[1019 08:46:44 @registry.py:134]\u001b[0m gen/LSTM/20/FC_lstm_state_1 output: [500, 100]\n",
      "\u001b[32m[1019 08:46:44 @registry.py:126]\u001b[0m gen/LSTM/21/FC input: [500, 100]\n",
      "\u001b[32m[1019 08:46:44 @registry.py:134]\u001b[0m gen/LSTM/21/FC output: [500, 100]\n",
      "\u001b[32m[1019 08:46:44 @registry.py:126]\u001b[0m gen/LSTM/21/FC2 input: [500, 100]\n",
      "\u001b[32m[1019 08:46:44 @registry.py:134]\u001b[0m gen/LSTM/21/FC2 output: [500, 5]\n",
      "\u001b[32m[1019 08:46:44 @registry.py:126]\u001b[0m gen/LSTM/21/FC3 input: [500, 5]\n",
      "\u001b[32m[1019 08:46:44 @registry.py:134]\u001b[0m gen/LSTM/21/FC3 output: [500, 100]\n",
      "WARNING:tensorflow:From C:\\Users\\glede\\Documents\\EPFL\\PhD\\SynthPop\\code\\modules\\datgan\\graph.py:634: The name tf.random_uniform is deprecated. Please use tf.random.uniform instead.\n",
      "\n",
      "WARNING:tensorflow:From C:\\Users\\glede\\Documents\\EPFL\\PhD\\SynthPop\\code\\modules\\datgan\\graph.py:595: The name tf.log is deprecated. Please use tf.math.log instead.\n",
      "\n",
      "\u001b[32m[1019 08:46:45 @registry.py:126]\u001b[0m discrim/dis_fc0/fc input: [500, 120]\n",
      "\u001b[32m[1019 08:46:45 @registry.py:134]\u001b[0m discrim/dis_fc0/fc output: [500, 100]\n",
      "\u001b[32m[1019 08:46:45 @registry.py:126]\u001b[0m discrim/dis_fc0/fc_diversity input: [500, 100]\n",
      "\u001b[32m[1019 08:46:45 @registry.py:134]\u001b[0m discrim/dis_fc0/fc_diversity output: [500, 100]\n",
      "WARNING:tensorflow:From D:\\Users\\glede\\anaconda3\\envs\\py37\\lib\\site-packages\\tensorpack\\models\\batch_norm.py:204: The name tf.layers.BatchNormalization is deprecated. Please use tf.compat.v1.layers.BatchNormalization instead.\n",
      "\n",
      "WARNING:tensorflow:From D:\\Users\\glede\\anaconda3\\envs\\py37\\lib\\site-packages\\tensorpack\\models\\batch_norm.py:212: The name tf.add_to_collection is deprecated. Please use tf.compat.v1.add_to_collection instead.\n",
      "\n",
      "\u001b[32m[1019 08:46:45 @registry.py:126]\u001b[0m discrim/dis_fc_top input: [500, 110]\n",
      "\u001b[32m[1019 08:46:45 @registry.py:134]\u001b[0m discrim/dis_fc_top output: [500, 1]\n",
      "WARNING:tensorflow:From C:\\Users\\glede\\Documents\\EPFL\\PhD\\SynthPop\\code\\modules\\datgan\\graph.py:97: The name tf.summary.histogram is deprecated. Please use tf.compat.v1.summary.histogram instead.\n",
      "\n",
      "WARNING:tensorflow:From D:\\Users\\glede\\anaconda3\\envs\\py37\\lib\\site-packages\\tensorflow_core\\python\\ops\\nn_impl.py:183: where (from tensorflow.python.ops.array_ops) is deprecated and will be removed in a future version.\n",
      "Instructions for updating:\n",
      "Use tf.where in 2.0, which has the same broadcast rule as np.where\n",
      "WARNING:tensorflow:\n",
      "The TensorFlow contrib module will not be included in TensorFlow 2.0.\n",
      "For more information, please see:\n",
      "  * https://github.com/tensorflow/community/blob/master/rfcs/20180907-contrib-sunset.md\n",
      "  * https://github.com/tensorflow/addons\n",
      "  * https://github.com/tensorflow/io (for I/O related ops)\n",
      "If you depend on functionality not listed there, please file an issue.\n",
      "\n",
      "WARNING:tensorflow:From C:\\Users\\glede\\Documents\\EPFL\\PhD\\SynthPop\\code\\modules\\datgan\\graph.py:734: The name tf.train.AdamOptimizer is deprecated. Please use tf.compat.v1.train.AdamOptimizer instead.\n",
      "\n",
      "\u001b[32m[1019 08:46:48 @model.py:205]\u001b[0m Found an already existing model. Loading it!\n",
      "WARNING:tensorflow:From D:\\Users\\glede\\anaconda3\\envs\\py37\\lib\\site-packages\\tensorpack\\tfutils\\varmanip.py:178: The name tf.gfile.Exists is deprecated. Please use tf.io.gfile.exists instead.\n",
      "\n",
      "\u001b[32m[1019 08:46:49 @logger.py:83]\u001b[0m Existing log file '../output/Chicago/DATGAN_asd29/logs\\log.log' backuped to '../output/Chicago/DATGAN_asd29/logs\\log.log.1019-084649'\n",
      "\u001b[32m[1019 08:46:49 @logger.py:90]\u001b[0m Argv: D:\\Users\\glede\\anaconda3\\envs\\py37\\lib\\site-packages\\ipykernel_launcher.py -f C:\\Users\\glede\\AppData\\Roaming\\jupyter\\runtime\\kernel-0faadc98-3eaf-498f-87b2-eba6ba2ee403.json\n",
      "WARNING:tensorflow:From D:\\Users\\glede\\anaconda3\\envs\\py37\\lib\\site-packages\\tensorpack\\callbacks\\saver.py:43: The name tf.gfile.IsDirectory is deprecated. Please use tf.io.gfile.isdir instead.\n",
      "\n",
      "WARNING:tensorflow:From D:\\Users\\glede\\anaconda3\\envs\\py37\\lib\\site-packages\\tensorpack\\tfutils\\common.py:41: The name tf.ConfigProto is deprecated. Please use tf.compat.v1.ConfigProto instead.\n",
      "\n",
      "\u001b[32m[1019 08:46:49 @model_utils.py:67]\u001b[0m \u001b[36mList of Trainable Variables: \n",
      "\u001b[0mname                              shape         #elements\n",
      "--------------------------------  ----------  -----------\n",
      "gen/LSTM/go_age:0                 [1, 100]            100\n",
      "gen/LSTM/lstm_cell/kernel:0       [500, 400]       200000\n",
      "gen/LSTM/lstm_cell/bias:0         [400]               400\n",
      "gen/LSTM/00/FC/W:0                [100, 100]        10000\n",
      "gen/LSTM/00/FC/b:0                [100]               100\n",
      "gen/LSTM/00/FC2_val/W:0           [100, 6]            600\n",
      "gen/LSTM/00/FC2_val/b:0           [6]                   6\n",
      "gen/LSTM/00/FC2_prob/W:0          [100, 6]            600\n",
      "gen/LSTM/00/FC2_prob/b:0          [6]                   6\n",
      "gen/LSTM/00/FC3/W:0               [12, 100]          1200\n",
      "gen/LSTM/00/FC3/b:0               [100]               100\n",
      "gen/LSTM/00/attw:0                [1, 1, 1]             1\n",
      "gen/LSTM/go_gender:0              [1, 100]            100\n",
      "gen/LSTM/01/FC/W:0                [100, 100]        10000\n",
      "gen/LSTM/01/FC/b:0                [100]               100\n",
      "gen/LSTM/01/FC2/W:0               [100, 2]            200\n",
      "gen/LSTM/01/FC2/b:0               [2]                   2\n",
      "gen/LSTM/01/FC3/W:0               [2, 100]            200\n",
      "gen/LSTM/01/FC3/b:0               [100]               100\n",
      "gen/LSTM/01/attw:0                [1, 1, 1]             1\n",
      "gen/LSTM/go_travel_dow:0          [1, 100]            100\n",
      "gen/LSTM/02/FC/W:0                [100, 100]        10000\n",
      "gen/LSTM/02/FC/b:0                [100]               100\n",
      "gen/LSTM/02/FC2/W:0               [100, 7]            700\n",
      "gen/LSTM/02/FC2/b:0               [7]                   7\n",
      "gen/LSTM/02/FC3/W:0               [7, 100]            700\n",
      "gen/LSTM/02/FC3/b:0               [100]               100\n",
      "gen/LSTM/02/attw:0                [1, 1, 1]             1\n",
      "gen/LSTM/03/FC/W:0                [100, 100]        10000\n",
      "gen/LSTM/03/FC/b:0                [100]               100\n",
      "gen/LSTM/03/FC2/W:0               [100, 2]            200\n",
      "gen/LSTM/03/FC2/b:0               [2]                   2\n",
      "gen/LSTM/03/FC3/W:0               [2, 100]            200\n",
      "gen/LSTM/03/FC3/b:0               [100]               100\n",
      "gen/LSTM/03/attw:0                [2, 1, 1]             2\n",
      "gen/LSTM/04/FC/W:0                [100, 100]        10000\n",
      "gen/LSTM/04/FC/b:0                [100]               100\n",
      "gen/LSTM/04/FC2/W:0               [100, 6]            600\n",
      "gen/LSTM/04/FC2/b:0               [6]                   6\n",
      "gen/LSTM/04/FC3/W:0               [6, 100]            600\n",
      "gen/LSTM/04/FC3/b:0               [100]               100\n",
      "gen/LSTM/04/attw:0                [2, 1, 1]             2\n",
      "gen/LSTM/05/FC_inputs/W:0         [200, 100]        20000\n",
      "gen/LSTM/05/FC_inputs/b:0         [100]               100\n",
      "gen/LSTM/05/FC_attentions/W:0     [200, 100]        20000\n",
      "gen/LSTM/05/FC_attentions/b:0     [100]               100\n",
      "gen/LSTM/05/FC_lstm_state_0/W:0   [200, 100]        20000\n",
      "gen/LSTM/05/FC_lstm_state_0/b:0   [100]               100\n",
      "gen/LSTM/05/FC_lstm_state_1/W:0   [200, 100]        20000\n",
      "gen/LSTM/05/FC_lstm_state_1/b:0   [100]               100\n",
      "gen/LSTM/06/FC/W:0                [100, 100]        10000\n",
      "gen/LSTM/06/FC/b:0                [100]               100\n",
      "gen/LSTM/06/FC2/W:0               [100, 8]            800\n",
      "gen/LSTM/06/FC2/b:0               [8]                   8\n",
      "gen/LSTM/06/FC3/W:0               [8, 100]            800\n",
      "gen/LSTM/06/FC3/b:0               [100]               100\n",
      "gen/LSTM/06/attw:0                [4, 1, 1]             4\n",
      "gen/LSTM/07/FC_inputs/W:0         [200, 100]        20000\n",
      "gen/LSTM/07/FC_inputs/b:0         [100]               100\n",
      "gen/LSTM/07/FC_attentions/W:0     [200, 100]        20000\n",
      "gen/LSTM/07/FC_attentions/b:0     [100]               100\n",
      "gen/LSTM/07/FC_lstm_state_0/W:0   [200, 100]        20000\n",
      "gen/LSTM/07/FC_lstm_state_0/b:0   [100]               100\n",
      "gen/LSTM/07/FC_lstm_state_1/W:0   [200, 100]        20000\n",
      "gen/LSTM/07/FC_lstm_state_1/b:0   [100]               100\n",
      "gen/LSTM/08/FC/W:0                [100, 100]        10000\n",
      "gen/LSTM/08/FC/b:0                [100]               100\n",
      "gen/LSTM/08/FC2/W:0               [100, 7]            700\n",
      "gen/LSTM/08/FC2/b:0               [7]                   7\n",
      "gen/LSTM/08/FC3/W:0               [7, 100]            700\n",
      "gen/LSTM/08/FC3/b:0               [100]               100\n",
      "gen/LSTM/08/attw:0                [5, 1, 1]             5\n",
      "gen/LSTM/09/FC/W:0                [100, 100]        10000\n",
      "gen/LSTM/09/FC/b:0                [100]               100\n",
      "gen/LSTM/09/FC2/W:0               [100, 7]            700\n",
      "gen/LSTM/09/FC2/b:0               [7]                   7\n",
      "gen/LSTM/09/FC3/W:0               [7, 100]            700\n",
      "gen/LSTM/09/FC3/b:0               [100]               100\n",
      "gen/LSTM/09/attw:0                [5, 1, 1]             5\n",
      "gen/LSTM/10/FC_inputs/W:0         [200, 100]        20000\n",
      "gen/LSTM/10/FC_inputs/b:0         [100]               100\n",
      "gen/LSTM/10/FC_attentions/W:0     [200, 100]        20000\n",
      "gen/LSTM/10/FC_attentions/b:0     [100]               100\n",
      "gen/LSTM/10/FC_lstm_state_0/W:0   [200, 100]        20000\n",
      "gen/LSTM/10/FC_lstm_state_0/b:0   [100]               100\n",
      "gen/LSTM/10/FC_lstm_state_1/W:0   [200, 100]        20000\n",
      "gen/LSTM/10/FC_lstm_state_1/b:0   [100]               100\n",
      "gen/LSTM/11/FC/W:0                [100, 100]        10000\n",
      "gen/LSTM/11/FC/b:0                [100]               100\n",
      "gen/LSTM/11/FC2/W:0               [100, 3]            300\n",
      "gen/LSTM/11/FC2/b:0               [3]                   3\n",
      "gen/LSTM/11/FC3/W:0               [3, 100]            300\n",
      "gen/LSTM/11/FC3/b:0               [100]               100\n",
      "gen/LSTM/11/attw:0                [6, 1, 1]             6\n",
      "gen/LSTM/12/FC_inputs/W:0         [300, 100]        30000\n",
      "gen/LSTM/12/FC_inputs/b:0         [100]               100\n",
      "gen/LSTM/12/FC_attentions/W:0     [300, 100]        30000\n",
      "gen/LSTM/12/FC_attentions/b:0     [100]               100\n",
      "gen/LSTM/12/FC_lstm_state_0/W:0   [300, 100]        30000\n",
      "gen/LSTM/12/FC_lstm_state_0/b:0   [100]               100\n",
      "gen/LSTM/12/FC_lstm_state_1/W:0   [300, 100]        30000\n",
      "gen/LSTM/12/FC_lstm_state_1/b:0   [100]               100\n",
      "gen/LSTM/13/FC/W:0                [100, 100]        10000\n",
      "gen/LSTM/13/FC/b:0                [100]               100\n",
      "gen/LSTM/13/FC2/W:0               [100, 8]            800\n",
      "gen/LSTM/13/FC2/b:0               [8]                   8\n",
      "gen/LSTM/13/FC3/W:0               [8, 100]            800\n",
      "gen/LSTM/13/FC3/b:0               [100]               100\n",
      "gen/LSTM/13/attw:0                [6, 1, 1]             6\n",
      "gen/LSTM/14/FC/W:0                [100, 100]        10000\n",
      "gen/LSTM/14/FC/b:0                [100]               100\n",
      "gen/LSTM/14/FC2_val/W:0           [100, 8]            800\n",
      "gen/LSTM/14/FC2_val/b:0           [8]                   8\n",
      "gen/LSTM/14/FC2_prob/W:0          [100, 8]            800\n",
      "gen/LSTM/14/FC2_prob/b:0          [8]                   8\n",
      "gen/LSTM/14/FC3/W:0               [16, 100]          1600\n",
      "gen/LSTM/14/FC3/b:0               [100]               100\n",
      "gen/LSTM/14/attw:0                [6, 1, 1]             6\n",
      "gen/LSTM/15/FC/W:0                [100, 100]        10000\n",
      "gen/LSTM/15/FC/b:0                [100]               100\n",
      "gen/LSTM/15/FC2_val/W:0           [100, 10]          1000\n",
      "gen/LSTM/15/FC2_val/b:0           [10]                 10\n",
      "gen/LSTM/15/FC2_prob/W:0          [100, 10]          1000\n",
      "gen/LSTM/15/FC2_prob/b:0          [10]                 10\n",
      "gen/LSTM/15/FC3/W:0               [20, 100]          2000\n",
      "gen/LSTM/15/FC3/b:0               [100]               100\n",
      "gen/LSTM/15/attw:0                [6, 1, 1]             6\n",
      "gen/LSTM/16/FC_inputs/W:0         [200, 100]        20000\n",
      "gen/LSTM/16/FC_inputs/b:0         [100]               100\n",
      "gen/LSTM/16/FC_attentions/W:0     [200, 100]        20000\n",
      "gen/LSTM/16/FC_attentions/b:0     [100]               100\n",
      "gen/LSTM/16/FC_lstm_state_0/W:0   [200, 100]        20000\n",
      "gen/LSTM/16/FC_lstm_state_0/b:0   [100]               100\n",
      "gen/LSTM/16/FC_lstm_state_1/W:0   [200, 100]        20000\n",
      "gen/LSTM/16/FC_lstm_state_1/b:0   [100]               100\n",
      "gen/LSTM/17/FC/W:0                [100, 100]        10000\n",
      "gen/LSTM/17/FC/b:0                [100]               100\n",
      "gen/LSTM/17/FC2/W:0               [100, 9]            900\n",
      "gen/LSTM/17/FC2/b:0               [9]                   9\n",
      "gen/LSTM/17/FC3/W:0               [9, 100]            900\n",
      "gen/LSTM/17/FC3/b:0               [100]               100\n",
      "gen/LSTM/17/attw:0                [7, 1, 1]             7\n",
      "gen/LSTM/18/FC_inputs/W:0         [200, 100]        20000\n",
      "gen/LSTM/18/FC_inputs/b:0         [100]               100\n",
      "gen/LSTM/18/FC_attentions/W:0     [200, 100]        20000\n",
      "gen/LSTM/18/FC_attentions/b:0     [100]               100\n",
      "gen/LSTM/18/FC_lstm_state_0/W:0   [200, 100]        20000\n",
      "gen/LSTM/18/FC_lstm_state_0/b:0   [100]               100\n",
      "gen/LSTM/18/FC_lstm_state_1/W:0   [200, 100]        20000\n",
      "gen/LSTM/18/FC_lstm_state_1/b:0   [100]               100\n",
      "gen/LSTM/19/FC/W:0                [100, 100]        10000\n",
      "gen/LSTM/19/FC/b:0                [100]               100\n",
      "gen/LSTM/19/FC2/W:0               [100, 8]            800\n",
      "gen/LSTM/19/FC2/b:0               [8]                   8\n",
      "gen/LSTM/19/FC3/W:0               [8, 100]            800\n",
      "gen/LSTM/19/FC3/b:0               [100]               100\n",
      "gen/LSTM/19/attw:0                [7, 1, 1]             7\n",
      "gen/LSTM/20/FC_inputs/W:0         [700, 100]        70000\n",
      "gen/LSTM/20/FC_inputs/b:0         [100]               100\n",
      "gen/LSTM/20/FC_attentions/W:0     [700, 100]        70000\n",
      "gen/LSTM/20/FC_attentions/b:0     [100]               100\n",
      "gen/LSTM/20/FC_lstm_state_0/W:0   [700, 100]        70000\n",
      "gen/LSTM/20/FC_lstm_state_0/b:0   [100]               100\n",
      "gen/LSTM/20/FC_lstm_state_1/W:0   [700, 100]        70000\n",
      "gen/LSTM/20/FC_lstm_state_1/b:0   [100]               100\n",
      "gen/LSTM/21/FC/W:0                [100, 100]        10000\n",
      "gen/LSTM/21/FC/b:0                [100]               100\n",
      "gen/LSTM/21/FC2/W:0               [100, 5]            500\n",
      "gen/LSTM/21/FC2/b:0               [5]                   5\n",
      "gen/LSTM/21/FC3/W:0               [5, 100]            500\n",
      "gen/LSTM/21/FC3/b:0               [100]               100\n",
      "gen/LSTM/21/attw:0                [14, 1, 1]           14\n",
      "discrim/dis_fc0/fc/W:0            [120, 100]        12000\n",
      "discrim/dis_fc0/fc/b:0            [100]               100\n",
      "discrim/dis_fc0/fc_diversity/W:0  [100, 100]        10000\n",
      "discrim/dis_fc0/fc_diversity/b:0  [100]               100\n",
      "discrim/dis_fc0/bn/beta:0         [110]               110\n",
      "discrim/dis_fc_top/W:0            [110, 1]            110\n",
      "discrim/dis_fc_top/b:0            [1]                   1\u001b[36m\n",
      "Number of trainable variables: 179\n",
      "Number of parameters (elements): 1203114\n",
      "Storage space needed for all trainable variables: 4.59MB\u001b[0m\n"
     ]
    },
    {
     "name": "stdout",
     "output_type": "stream",
     "text": [
      "\u001b[32m[1019 08:46:49 @base.py:209]\u001b[0m Setup callbacks graph ...\n",
      "WARNING:tensorflow:From D:\\Users\\glede\\anaconda3\\envs\\py37\\lib\\site-packages\\tensorpack\\callbacks\\graph.py:54: The name tf.train.SessionRunArgs is deprecated. Please use tf.estimator.SessionRunArgs instead.\n",
      "\n",
      "WARNING:tensorflow:From D:\\Users\\glede\\anaconda3\\envs\\py37\\lib\\site-packages\\tensorpack\\tfutils\\common.py:75: The name tf.VariableScope is deprecated. Please use tf.compat.v1.VariableScope instead.\n",
      "\n",
      "WARNING:tensorflow:From D:\\Users\\glede\\anaconda3\\envs\\py37\\lib\\site-packages\\tensorpack\\tfutils\\common.py:77: The name tf.train.get_or_create_global_step is deprecated. Please use tf.compat.v1.train.get_or_create_global_step instead.\n",
      "\n",
      "WARNING:tensorflow:From D:\\Users\\glede\\anaconda3\\envs\\py37\\lib\\site-packages\\tensorpack\\callbacks\\steps.py:117: The name tf.assign_add is deprecated. Please use tf.compat.v1.assign_add instead.\n",
      "\n",
      "WARNING:tensorflow:From D:\\Users\\glede\\anaconda3\\envs\\py37\\lib\\site-packages\\tensorpack\\callbacks\\saver.py:55: The name tf.train.Saver is deprecated. Please use tf.compat.v1.train.Saver instead.\n",
      "\n",
      "WARNING:tensorflow:From D:\\Users\\glede\\anaconda3\\envs\\py37\\lib\\site-packages\\tensorpack\\callbacks\\saver.py:59: The name tf.train.SaverDef is deprecated. Please use tf.compat.v1.train.SaverDef instead.\n",
      "\n",
      "\u001b[32m[1019 08:46:49 @summary.py:46]\u001b[0m [MovingAverageSummary] 6 operations in collection 'MOVING_SUMMARY_OPS' will be run with session hooks.\n",
      "\u001b[32m[1019 08:46:49 @summary.py:93]\u001b[0m Summarizing collection 'summaries' of size 9.\n",
      "WARNING:tensorflow:From D:\\Users\\glede\\anaconda3\\envs\\py37\\lib\\site-packages\\tensorpack\\callbacks\\summary.py:94: The name tf.summary.merge_all is deprecated. Please use tf.compat.v1.summary.merge_all instead.\n",
      "\n",
      "\u001b[32m[1019 08:46:49 @graph.py:98]\u001b[0m Applying collection UPDATE_OPS of 4 ops.\n",
      "WARNING:tensorflow:From D:\\Users\\glede\\anaconda3\\envs\\py37\\lib\\site-packages\\tensorpack\\callbacks\\monitor.py:261: The name tf.summary.FileWriter is deprecated. Please use tf.compat.v1.summary.FileWriter instead.\n",
      "\n",
      "WARNING:tensorflow:From D:\\Users\\glede\\anaconda3\\envs\\py37\\lib\\site-packages\\tensorpack\\tfutils\\sessinit.py:120: The name tf.train.NewCheckpointReader is deprecated. Please use tf.compat.v1.train.NewCheckpointReader instead.\n",
      "\n",
      "WARNING:tensorflow:From D:\\Users\\glede\\anaconda3\\envs\\py37\\lib\\site-packages\\tensorpack\\tfutils\\sessinit.py:127: The name tf.global_variables is deprecated. Please use tf.compat.v1.global_variables instead.\n",
      "\n",
      "\u001b[32m[1019 08:46:50 @base.py:230]\u001b[0m Creating the session ...\n",
      "WARNING:tensorflow:From D:\\Users\\glede\\anaconda3\\envs\\py37\\lib\\site-packages\\tensorpack\\tfutils\\sesscreate.py:42: The name tf.Session is deprecated. Please use tf.compat.v1.Session instead.\n",
      "\n",
      "WARNING:tensorflow:From D:\\Users\\glede\\anaconda3\\envs\\py37\\lib\\site-packages\\tensorpack\\tfutils\\sesscreate.py:71: The name tf.global_variables_initializer is deprecated. Please use tf.compat.v1.global_variables_initializer instead.\n",
      "\n",
      "WARNING:tensorflow:From D:\\Users\\glede\\anaconda3\\envs\\py37\\lib\\site-packages\\tensorpack\\tfutils\\sesscreate.py:62: get_backward_walk_ops (from tensorflow.contrib.graph_editor.select) is deprecated and will be removed after 2019-06-06.\n",
      "Instructions for updating:\n",
      "Please use tensorflow.python.ops.op_selector.get_backward_walk_ops.\n",
      "WARNING:tensorflow:From D:\\Users\\glede\\anaconda3\\envs\\py37\\lib\\site-packages\\tensorpack\\tfutils\\sesscreate.py:72: The name tf.local_variables_initializer is deprecated. Please use tf.compat.v1.local_variables_initializer instead.\n",
      "\n",
      "WARNING:tensorflow:From D:\\Users\\glede\\anaconda3\\envs\\py37\\lib\\site-packages\\tensorpack\\tfutils\\sesscreate.py:73: The name tf.tables_initializer is deprecated. Please use tf.compat.v1.tables_initializer instead.\n",
      "\n",
      "WARNING:tensorflow:From D:\\Users\\glede\\anaconda3\\envs\\py37\\lib\\site-packages\\tensorpack\\train\\base.py:254: The name tf.train.MonitoredSession is deprecated. Please use tf.compat.v1.train.MonitoredSession instead.\n",
      "\n",
      "\u001b[32m[1019 08:46:52 @base.py:236]\u001b[0m Initializing the session ...\n",
      "\u001b[32m[1019 08:46:52 @sessinit.py:114]\u001b[0m Restoring checkpoint from ../output/Chicago/DATGAN_asd29/model\\model-175000 ...\n",
      "INFO:tensorflow:Restoring parameters from ../output/Chicago/DATGAN_asd29/model\\model-175000\n",
      "\u001b[32m[1019 08:46:53 @base.py:243]\u001b[0m Graph Finalized.\n",
      "WARNING:tensorflow:From D:\\Users\\glede\\anaconda3\\envs\\py37\\lib\\site-packages\\tensorpack\\tfutils\\common.py:89: The name tf.train.global_step is deprecated. Please use tf.compat.v1.train.global_step instead.\n",
      "\n",
      "WARNING:tensorflow:From D:\\Users\\glede\\anaconda3\\envs\\py37\\lib\\site-packages\\tensorpack\\tfutils\\common.py:90: The name tf.get_default_session is deprecated. Please use tf.compat.v1.get_default_session instead.\n",
      "\n",
      "\u001b[32m[1019 08:46:53 @concurrency.py:38]\u001b[0m Starting EnqueueThread QueueInput/input_queue ...\n",
      "\u001b[32m[1019 08:46:53 @steps.py:124]\u001b[0m Start training with global_step=175000\n",
      "\u001b[32m[1019 08:46:53 @monitor.py:347]\u001b[0m Found existing JSON inside ../output/Chicago/DATGAN_asd29/logs, will append to it.\n",
      "\u001b[32m[1019 08:46:53 @base.py:275]\u001b[0m Start Epoch 1001 ...\n"
     ]
    },
    {
     "name": "stderr",
     "output_type": "stream",
     "text": [
      " 92%|############################################################################3      |161/175[00:07<00:00,29.67it/s]"
     ]
    },
    {
     "name": "stdout",
     "output_type": "stream",
     "text": [
      "WARNING:tensorflow:From D:\\Users\\glede\\anaconda3\\envs\\py37\\lib\\site-packages\\tensorpack\\callbacks\\monitor.py:148: The name tf.Summary is deprecated. Please use tf.compat.v1.Summary instead.\n",
      "\n"
     ]
    },
    {
     "name": "stderr",
     "output_type": "stream",
     "text": [
      "\r",
      "100%|###################################################################################|175/175[00:09<00:00,17.61it/s]"
     ]
    },
    {
     "name": "stdout",
     "output_type": "stream",
     "text": [
      "\u001b[32m[1019 08:47:03 @base.py:285]\u001b[0m Epoch 1001 (global_step 175175) finished, time:9.94 seconds.\n",
      "WARNING:tensorflow:From D:\\Users\\glede\\anaconda3\\envs\\py37\\lib\\site-packages\\tensorpack\\callbacks\\saver.py:77: The name tf.train.get_global_step is deprecated. Please use tf.compat.v1.train.get_global_step instead.\n",
      "\n"
     ]
    },
    {
     "name": "stderr",
     "output_type": "stream",
     "text": [
      "\n"
     ]
    },
    {
     "name": "stdout",
     "output_type": "stream",
     "text": [
      "\u001b[32m[1019 08:47:04 @saver.py:79]\u001b[0m Model saved to ../output/Chicago/DATGAN_asd29/model\\model-175175.\n",
      "\u001b[32m[1019 08:47:04 @monitor.py:467]\u001b[0m GAN_loss/discrim/accuracy_fake: 0.874\n",
      "\u001b[32m[1019 08:47:04 @monitor.py:467]\u001b[0m GAN_loss/discrim/accuracy_real: 0.246\n",
      "\u001b[32m[1019 08:47:04 @monitor.py:467]\u001b[0m GAN_loss/discrim/loss: 0.63483\n",
      "\u001b[32m[1019 08:47:04 @monitor.py:467]\u001b[0m GAN_loss/gen/final-g-loss: 1.2015\n",
      "\u001b[32m[1019 08:47:04 @monitor.py:467]\u001b[0m GAN_loss/gen/klloss: 0.058297\n",
      "\u001b[32m[1019 08:47:04 @monitor.py:467]\u001b[0m GAN_loss/gen/loss: 1.1432\n",
      "\u001b[32m[1019 08:47:04 @monitor.py:467]\u001b[0m QueueInput/queue_size: 50\n",
      "\u001b[32m[1019 08:47:04 @base.py:275]\u001b[0m Start Epoch 1002 ...\n"
     ]
    },
    {
     "name": "stderr",
     "output_type": "stream",
     "text": [
      "100%|###################################################################################|175/175[00:05<00:00,31.78it/s]"
     ]
    },
    {
     "name": "stdout",
     "output_type": "stream",
     "text": [
      "\u001b[32m[1019 08:47:09 @base.py:285]\u001b[0m Epoch 1002 (global_step 175350) finished, time:5.51 seconds.\n",
      "\u001b[32m[1019 08:47:09 @saver.py:79]\u001b[0m Model saved to ../output/Chicago/DATGAN_asd29/model\\model-175350.\n"
     ]
    },
    {
     "name": "stderr",
     "output_type": "stream",
     "text": [
      "\n"
     ]
    },
    {
     "name": "stdout",
     "output_type": "stream",
     "text": [
      "\u001b[32m[1019 08:47:10 @monitor.py:467]\u001b[0m GAN_loss/discrim/accuracy_fake: 0.872\n",
      "\u001b[32m[1019 08:47:10 @monitor.py:467]\u001b[0m GAN_loss/discrim/accuracy_real: 0.282\n",
      "\u001b[32m[1019 08:47:10 @monitor.py:467]\u001b[0m GAN_loss/discrim/loss: 0.6353\n",
      "\u001b[32m[1019 08:47:10 @monitor.py:467]\u001b[0m GAN_loss/gen/final-g-loss: 1.1773\n",
      "\u001b[32m[1019 08:47:10 @monitor.py:467]\u001b[0m GAN_loss/gen/klloss: 0.066394\n",
      "\u001b[32m[1019 08:47:10 @monitor.py:467]\u001b[0m GAN_loss/gen/loss: 1.1109\n",
      "\u001b[32m[1019 08:47:10 @monitor.py:467]\u001b[0m QueueInput/queue_size: 50\n",
      "\u001b[32m[1019 08:47:10 @base.py:275]\u001b[0m Start Epoch 1003 ...\n"
     ]
    },
    {
     "name": "stderr",
     "output_type": "stream",
     "text": [
      "100%|###################################################################################|175/175[00:05<00:00,31.87it/s]"
     ]
    },
    {
     "name": "stdout",
     "output_type": "stream",
     "text": [
      "\u001b[32m[1019 08:47:15 @base.py:285]\u001b[0m Epoch 1003 (global_step 175525) finished, time:5.49 seconds.\n",
      "\u001b[32m[1019 08:47:15 @saver.py:79]\u001b[0m Model saved to ../output/Chicago/DATGAN_asd29/model\\model-175525.\n"
     ]
    },
    {
     "name": "stderr",
     "output_type": "stream",
     "text": [
      "\n"
     ]
    },
    {
     "name": "stdout",
     "output_type": "stream",
     "text": [
      "\u001b[32m[1019 08:47:15 @monitor.py:467]\u001b[0m GAN_loss/discrim/accuracy_fake: 0.864\n",
      "\u001b[32m[1019 08:47:15 @monitor.py:467]\u001b[0m GAN_loss/discrim/accuracy_real: 0.228\n",
      "\u001b[32m[1019 08:47:15 @monitor.py:467]\u001b[0m GAN_loss/discrim/loss: 0.64067\n",
      "\u001b[32m[1019 08:47:15 @monitor.py:467]\u001b[0m GAN_loss/gen/final-g-loss: 1.1482\n",
      "\u001b[32m[1019 08:47:15 @monitor.py:467]\u001b[0m GAN_loss/gen/klloss: 0.03108\n",
      "\u001b[32m[1019 08:47:15 @monitor.py:467]\u001b[0m GAN_loss/gen/loss: 1.1171\n",
      "\u001b[32m[1019 08:47:15 @monitor.py:467]\u001b[0m QueueInput/queue_size: 50\n",
      "\u001b[32m[1019 08:47:15 @base.py:275]\u001b[0m Start Epoch 1004 ...\n"
     ]
    },
    {
     "name": "stderr",
     "output_type": "stream",
     "text": [
      "100%|###################################################################################|175/175[00:05<00:00,31.81it/s]"
     ]
    },
    {
     "name": "stdout",
     "output_type": "stream",
     "text": [
      "\u001b[32m[1019 08:47:21 @base.py:285]\u001b[0m Epoch 1004 (global_step 175700) finished, time:5.5 seconds.\n",
      "\u001b[32m[1019 08:47:21 @saver.py:79]\u001b[0m Model saved to ../output/Chicago/DATGAN_asd29/model\\model-175700.\n"
     ]
    },
    {
     "name": "stderr",
     "output_type": "stream",
     "text": [
      "\n"
     ]
    },
    {
     "name": "stdout",
     "output_type": "stream",
     "text": [
      "\u001b[32m[1019 08:47:21 @monitor.py:467]\u001b[0m GAN_loss/discrim/accuracy_fake: 0.892\n",
      "\u001b[32m[1019 08:47:21 @monitor.py:467]\u001b[0m GAN_loss/discrim/accuracy_real: 0.238\n",
      "\u001b[32m[1019 08:47:21 @monitor.py:467]\u001b[0m GAN_loss/discrim/loss: 0.62837\n",
      "\u001b[32m[1019 08:47:21 @monitor.py:467]\u001b[0m GAN_loss/gen/final-g-loss: 1.2277\n",
      "\u001b[32m[1019 08:47:21 @monitor.py:467]\u001b[0m GAN_loss/gen/klloss: 0.061454\n",
      "\u001b[32m[1019 08:47:21 @monitor.py:467]\u001b[0m GAN_loss/gen/loss: 1.1663\n",
      "\u001b[32m[1019 08:47:21 @monitor.py:467]\u001b[0m QueueInput/queue_size: 50\n",
      "\u001b[32m[1019 08:47:21 @base.py:275]\u001b[0m Start Epoch 1005 ...\n"
     ]
    },
    {
     "name": "stderr",
     "output_type": "stream",
     "text": [
      "100%|###################################################################################|175/175[00:05<00:00,31.82it/s]"
     ]
    },
    {
     "name": "stdout",
     "output_type": "stream",
     "text": [
      "\u001b[32m[1019 08:47:27 @base.py:285]\u001b[0m Epoch 1005 (global_step 175875) finished, time:5.5 seconds.\n",
      "\u001b[32m[1019 08:47:27 @saver.py:79]\u001b[0m Model saved to ../output/Chicago/DATGAN_asd29/model\\model-175875.\n"
     ]
    },
    {
     "name": "stderr",
     "output_type": "stream",
     "text": [
      "\n"
     ]
    },
    {
     "name": "stdout",
     "output_type": "stream",
     "text": [
      "\u001b[32m[1019 08:47:27 @monitor.py:467]\u001b[0m GAN_loss/discrim/accuracy_fake: 0.824\n",
      "\u001b[32m[1019 08:47:27 @monitor.py:467]\u001b[0m GAN_loss/discrim/accuracy_real: 0.25\n",
      "\u001b[32m[1019 08:47:27 @monitor.py:467]\u001b[0m GAN_loss/discrim/loss: 0.64093\n",
      "\u001b[32m[1019 08:47:27 @monitor.py:467]\u001b[0m GAN_loss/gen/final-g-loss: 1.2071\n",
      "\u001b[32m[1019 08:47:27 @monitor.py:467]\u001b[0m GAN_loss/gen/klloss: 0.08069\n",
      "\u001b[32m[1019 08:47:27 @monitor.py:467]\u001b[0m GAN_loss/gen/loss: 1.1264\n",
      "\u001b[32m[1019 08:47:27 @monitor.py:467]\u001b[0m QueueInput/queue_size: 50\n",
      "\u001b[32m[1019 08:47:27 @base.py:275]\u001b[0m Start Epoch 1006 ...\n"
     ]
    },
    {
     "name": "stderr",
     "output_type": "stream",
     "text": [
      "100%|###################################################################################|175/175[00:05<00:00,31.86it/s]"
     ]
    },
    {
     "name": "stdout",
     "output_type": "stream",
     "text": [
      "\u001b[32m[1019 08:47:32 @base.py:285]\u001b[0m Epoch 1006 (global_step 176050) finished, time:5.49 seconds.\n",
      "\u001b[32m[1019 08:47:32 @saver.py:79]\u001b[0m Model saved to ../output/Chicago/DATGAN_asd29/model\\model-176050.\n"
     ]
    },
    {
     "name": "stderr",
     "output_type": "stream",
     "text": [
      "\n"
     ]
    },
    {
     "name": "stdout",
     "output_type": "stream",
     "text": [
      "\u001b[32m[1019 08:47:33 @monitor.py:467]\u001b[0m GAN_loss/discrim/accuracy_fake: 0.9\n",
      "\u001b[32m[1019 08:47:33 @monitor.py:467]\u001b[0m GAN_loss/discrim/accuracy_real: 0.256\n",
      "\u001b[32m[1019 08:47:33 @monitor.py:467]\u001b[0m GAN_loss/discrim/loss: 0.62901\n",
      "\u001b[32m[1019 08:47:33 @monitor.py:467]\u001b[0m GAN_loss/gen/final-g-loss: 1.1967\n",
      "\u001b[32m[1019 08:47:33 @monitor.py:467]\u001b[0m GAN_loss/gen/klloss: 0.037892\n",
      "\u001b[32m[1019 08:47:33 @monitor.py:467]\u001b[0m GAN_loss/gen/loss: 1.1588\n",
      "\u001b[32m[1019 08:47:33 @monitor.py:467]\u001b[0m QueueInput/queue_size: 50\n",
      "\u001b[32m[1019 08:47:33 @base.py:275]\u001b[0m Start Epoch 1007 ...\n"
     ]
    },
    {
     "name": "stderr",
     "output_type": "stream",
     "text": [
      "100%|###################################################################################|175/175[00:05<00:00,31.83it/s]"
     ]
    },
    {
     "name": "stdout",
     "output_type": "stream",
     "text": [
      "\u001b[32m[1019 08:47:38 @base.py:285]\u001b[0m Epoch 1007 (global_step 176225) finished, time:5.5 seconds.\n",
      "\u001b[32m[1019 08:47:38 @saver.py:79]\u001b[0m Model saved to ../output/Chicago/DATGAN_asd29/model\\model-176225.\n"
     ]
    },
    {
     "name": "stderr",
     "output_type": "stream",
     "text": [
      "\n"
     ]
    },
    {
     "name": "stdout",
     "output_type": "stream",
     "text": [
      "\u001b[32m[1019 08:47:38 @monitor.py:467]\u001b[0m GAN_loss/discrim/accuracy_fake: 0.842\n",
      "\u001b[32m[1019 08:47:38 @monitor.py:467]\u001b[0m GAN_loss/discrim/accuracy_real: 0.246\n",
      "\u001b[32m[1019 08:47:38 @monitor.py:467]\u001b[0m GAN_loss/discrim/loss: 0.63683\n",
      "\u001b[32m[1019 08:47:38 @monitor.py:467]\u001b[0m GAN_loss/gen/final-g-loss: 1.1837\n",
      "\u001b[32m[1019 08:47:38 @monitor.py:467]\u001b[0m GAN_loss/gen/klloss: 0.041506\n",
      "\u001b[32m[1019 08:47:38 @monitor.py:467]\u001b[0m GAN_loss/gen/loss: 1.1422\n",
      "\u001b[32m[1019 08:47:38 @monitor.py:467]\u001b[0m QueueInput/queue_size: 50\n",
      "\u001b[32m[1019 08:47:38 @base.py:275]\u001b[0m Start Epoch 1008 ...\n"
     ]
    },
    {
     "name": "stderr",
     "output_type": "stream",
     "text": [
      "100%|###################################################################################|175/175[00:05<00:00,31.88it/s]"
     ]
    },
    {
     "name": "stdout",
     "output_type": "stream",
     "text": [
      "\u001b[32m[1019 08:47:44 @base.py:285]\u001b[0m Epoch 1008 (global_step 176400) finished, time:5.49 seconds.\n",
      "\u001b[32m[1019 08:47:44 @saver.py:79]\u001b[0m Model saved to ../output/Chicago/DATGAN_asd29/model\\model-176400.\n"
     ]
    },
    {
     "name": "stderr",
     "output_type": "stream",
     "text": [
      "\n"
     ]
    },
    {
     "name": "stdout",
     "output_type": "stream",
     "text": [
      "\u001b[32m[1019 08:47:44 @monitor.py:467]\u001b[0m GAN_loss/discrim/accuracy_fake: 0.844\n",
      "\u001b[32m[1019 08:47:44 @monitor.py:467]\u001b[0m GAN_loss/discrim/accuracy_real: 0.258\n",
      "\u001b[32m[1019 08:47:44 @monitor.py:467]\u001b[0m GAN_loss/discrim/loss: 0.63433\n",
      "\u001b[32m[1019 08:47:44 @monitor.py:467]\u001b[0m GAN_loss/gen/final-g-loss: 1.1953\n",
      "\u001b[32m[1019 08:47:44 @monitor.py:467]\u001b[0m GAN_loss/gen/klloss: 0.062713\n",
      "\u001b[32m[1019 08:47:44 @monitor.py:467]\u001b[0m GAN_loss/gen/loss: 1.1326\n",
      "\u001b[32m[1019 08:47:44 @monitor.py:467]\u001b[0m QueueInput/queue_size: 50\n",
      "\u001b[32m[1019 08:47:44 @base.py:275]\u001b[0m Start Epoch 1009 ...\n"
     ]
    },
    {
     "name": "stderr",
     "output_type": "stream",
     "text": [
      "100%|###################################################################################|175/175[00:05<00:00,31.79it/s]"
     ]
    },
    {
     "name": "stdout",
     "output_type": "stream",
     "text": [
      "\u001b[32m[1019 08:47:49 @base.py:285]\u001b[0m Epoch 1009 (global_step 176575) finished, time:5.51 seconds.\n",
      "\u001b[32m[1019 08:47:50 @saver.py:79]\u001b[0m Model saved to ../output/Chicago/DATGAN_asd29/model\\model-176575.\n"
     ]
    },
    {
     "name": "stderr",
     "output_type": "stream",
     "text": [
      "\n"
     ]
    },
    {
     "name": "stdout",
     "output_type": "stream",
     "text": [
      "\u001b[32m[1019 08:47:50 @monitor.py:467]\u001b[0m GAN_loss/discrim/accuracy_fake: 0.872\n",
      "\u001b[32m[1019 08:47:50 @monitor.py:467]\u001b[0m GAN_loss/discrim/accuracy_real: 0.246\n",
      "\u001b[32m[1019 08:47:50 @monitor.py:467]\u001b[0m GAN_loss/discrim/loss: 0.63478\n",
      "\u001b[32m[1019 08:47:50 @monitor.py:467]\u001b[0m GAN_loss/gen/final-g-loss: 1.1843\n",
      "\u001b[32m[1019 08:47:50 @monitor.py:467]\u001b[0m GAN_loss/gen/klloss: 0.038005\n",
      "\u001b[32m[1019 08:47:50 @monitor.py:467]\u001b[0m GAN_loss/gen/loss: 1.1463\n",
      "\u001b[32m[1019 08:47:50 @monitor.py:467]\u001b[0m QueueInput/queue_size: 50\n",
      "\u001b[32m[1019 08:47:50 @base.py:275]\u001b[0m Start Epoch 1010 ...\n"
     ]
    },
    {
     "name": "stderr",
     "output_type": "stream",
     "text": [
      "100%|###################################################################################|175/175[00:05<00:00,31.69it/s]"
     ]
    },
    {
     "name": "stdout",
     "output_type": "stream",
     "text": [
      "\u001b[32m[1019 08:47:55 @base.py:285]\u001b[0m Epoch 1010 (global_step 176750) finished, time:5.52 seconds.\n",
      "\u001b[32m[1019 08:47:55 @saver.py:79]\u001b[0m Model saved to ../output/Chicago/DATGAN_asd29/model\\model-176750.\n"
     ]
    },
    {
     "name": "stderr",
     "output_type": "stream",
     "text": [
      "\n"
     ]
    },
    {
     "name": "stdout",
     "output_type": "stream",
     "text": [
      "\u001b[32m[1019 08:47:55 @monitor.py:467]\u001b[0m GAN_loss/discrim/accuracy_fake: 0.84\n",
      "\u001b[32m[1019 08:47:55 @monitor.py:467]\u001b[0m GAN_loss/discrim/accuracy_real: 0.256\n",
      "\u001b[32m[1019 08:47:55 @monitor.py:467]\u001b[0m GAN_loss/discrim/loss: 0.63761\n",
      "\u001b[32m[1019 08:47:55 @monitor.py:467]\u001b[0m GAN_loss/gen/final-g-loss: 1.2257\n",
      "\u001b[32m[1019 08:47:55 @monitor.py:467]\u001b[0m GAN_loss/gen/klloss: 0.097256\n",
      "\u001b[32m[1019 08:47:55 @monitor.py:467]\u001b[0m GAN_loss/gen/loss: 1.1285\n",
      "\u001b[32m[1019 08:47:55 @monitor.py:467]\u001b[0m QueueInput/queue_size: 50\n",
      "\u001b[32m[1019 08:47:55 @base.py:275]\u001b[0m Start Epoch 1011 ...\n"
     ]
    },
    {
     "name": "stderr",
     "output_type": "stream",
     "text": [
      "100%|###################################################################################|175/175[00:05<00:00,31.74it/s]"
     ]
    },
    {
     "name": "stdout",
     "output_type": "stream",
     "text": [
      "\u001b[32m[1019 08:48:01 @base.py:285]\u001b[0m Epoch 1011 (global_step 176925) finished, time:5.51 seconds.\n",
      "WARNING:tensorflow:From D:\\Users\\glede\\anaconda3\\envs\\py37\\lib\\site-packages\\tensorflow_core\\python\\training\\saver.py:963: remove_checkpoint (from tensorflow.python.training.checkpoint_management) is deprecated and will be removed in a future version.\n",
      "Instructions for updating:\n",
      "Use standard file APIs to delete files with this prefix.\n",
      "\u001b[32m[1019 08:48:01 @saver.py:79]\u001b[0m Model saved to ../output/Chicago/DATGAN_asd29/model\\model-176925.\n"
     ]
    },
    {
     "name": "stderr",
     "output_type": "stream",
     "text": [
      "\n"
     ]
    },
    {
     "name": "stdout",
     "output_type": "stream",
     "text": [
      "\u001b[32m[1019 08:48:01 @monitor.py:467]\u001b[0m GAN_loss/discrim/accuracy_fake: 0.822\n",
      "\u001b[32m[1019 08:48:01 @monitor.py:467]\u001b[0m GAN_loss/discrim/accuracy_real: 0.272\n",
      "\u001b[32m[1019 08:48:01 @monitor.py:467]\u001b[0m GAN_loss/discrim/loss: 0.64823\n",
      "\u001b[32m[1019 08:48:01 @monitor.py:467]\u001b[0m GAN_loss/gen/final-g-loss: 1.1958\n",
      "\u001b[32m[1019 08:48:01 @monitor.py:467]\u001b[0m GAN_loss/gen/klloss: 0.063451\n",
      "\u001b[32m[1019 08:48:01 @monitor.py:467]\u001b[0m GAN_loss/gen/loss: 1.1323\n",
      "\u001b[32m[1019 08:48:01 @monitor.py:467]\u001b[0m QueueInput/queue_size: 50\n",
      "\u001b[32m[1019 08:48:01 @base.py:275]\u001b[0m Start Epoch 1012 ...\n"
     ]
    },
    {
     "name": "stderr",
     "output_type": "stream",
     "text": [
      "100%|###################################################################################|175/175[00:05<00:00,29.86it/s]"
     ]
    },
    {
     "name": "stdout",
     "output_type": "stream",
     "text": [
      "\u001b[32m[1019 08:48:07 @base.py:285]\u001b[0m Epoch 1012 (global_step 177100) finished, time:5.86 seconds.\n",
      "\u001b[32m[1019 08:48:07 @saver.py:79]\u001b[0m Model saved to ../output/Chicago/DATGAN_asd29/model\\model-177100.\n"
     ]
    },
    {
     "name": "stderr",
     "output_type": "stream",
     "text": [
      "\n"
     ]
    },
    {
     "name": "stdout",
     "output_type": "stream",
     "text": [
      "\u001b[32m[1019 08:48:07 @monitor.py:467]\u001b[0m GAN_loss/discrim/accuracy_fake: 0.838\n",
      "\u001b[32m[1019 08:48:07 @monitor.py:467]\u001b[0m GAN_loss/discrim/accuracy_real: 0.298\n",
      "\u001b[32m[1019 08:48:07 @monitor.py:467]\u001b[0m GAN_loss/discrim/loss: 0.63352\n",
      "\u001b[32m[1019 08:48:07 @monitor.py:467]\u001b[0m GAN_loss/gen/final-g-loss: 1.2013\n",
      "\u001b[32m[1019 08:48:07 @monitor.py:467]\u001b[0m GAN_loss/gen/klloss: 0.06476\n",
      "\u001b[32m[1019 08:48:07 @monitor.py:467]\u001b[0m GAN_loss/gen/loss: 1.1365\n",
      "\u001b[32m[1019 08:48:07 @monitor.py:467]\u001b[0m QueueInput/queue_size: 50\n",
      "\u001b[32m[1019 08:48:07 @base.py:275]\u001b[0m Start Epoch 1013 ...\n"
     ]
    },
    {
     "name": "stderr",
     "output_type": "stream",
     "text": [
      "100%|###################################################################################|175/175[00:05<00:00,29.92it/s]"
     ]
    },
    {
     "name": "stdout",
     "output_type": "stream",
     "text": [
      "\u001b[32m[1019 08:48:13 @base.py:285]\u001b[0m Epoch 1013 (global_step 177275) finished, time:5.85 seconds.\n",
      "\u001b[32m[1019 08:48:13 @saver.py:79]\u001b[0m Model saved to ../output/Chicago/DATGAN_asd29/model\\model-177275.\n"
     ]
    },
    {
     "name": "stderr",
     "output_type": "stream",
     "text": [
      "\n"
     ]
    },
    {
     "name": "stdout",
     "output_type": "stream",
     "text": [
      "\u001b[32m[1019 08:48:13 @monitor.py:467]\u001b[0m GAN_loss/discrim/accuracy_fake: 0.86\n",
      "\u001b[32m[1019 08:48:13 @monitor.py:467]\u001b[0m GAN_loss/discrim/accuracy_real: 0.34\n",
      "\u001b[32m[1019 08:48:13 @monitor.py:467]\u001b[0m GAN_loss/discrim/loss: 0.62044\n",
      "\u001b[32m[1019 08:48:13 @monitor.py:467]\u001b[0m GAN_loss/gen/final-g-loss: 1.2096\n",
      "\u001b[32m[1019 08:48:13 @monitor.py:467]\u001b[0m GAN_loss/gen/klloss: 0.053585\n",
      "\u001b[32m[1019 08:48:13 @monitor.py:467]\u001b[0m GAN_loss/gen/loss: 1.156\n",
      "\u001b[32m[1019 08:48:13 @monitor.py:467]\u001b[0m QueueInput/queue_size: 50\n",
      "\u001b[32m[1019 08:48:13 @base.py:275]\u001b[0m Start Epoch 1014 ...\n"
     ]
    },
    {
     "name": "stderr",
     "output_type": "stream",
     "text": [
      "100%|###################################################################################|175/175[00:05<00:00,29.65it/s]"
     ]
    },
    {
     "name": "stdout",
     "output_type": "stream",
     "text": [
      "\u001b[32m[1019 08:48:19 @base.py:285]\u001b[0m Epoch 1014 (global_step 177450) finished, time:5.9 seconds.\n",
      "\u001b[32m[1019 08:48:19 @saver.py:79]\u001b[0m Model saved to ../output/Chicago/DATGAN_asd29/model\\model-177450.\n"
     ]
    },
    {
     "name": "stderr",
     "output_type": "stream",
     "text": [
      "\n"
     ]
    },
    {
     "name": "stdout",
     "output_type": "stream",
     "text": [
      "\u001b[32m[1019 08:48:20 @monitor.py:467]\u001b[0m GAN_loss/discrim/accuracy_fake: 0.858\n",
      "\u001b[32m[1019 08:48:20 @monitor.py:467]\u001b[0m GAN_loss/discrim/accuracy_real: 0.304\n",
      "\u001b[32m[1019 08:48:20 @monitor.py:467]\u001b[0m GAN_loss/discrim/loss: 0.62807\n",
      "\u001b[32m[1019 08:48:20 @monitor.py:467]\u001b[0m GAN_loss/gen/final-g-loss: 1.2322\n",
      "\u001b[32m[1019 08:48:20 @monitor.py:467]\u001b[0m GAN_loss/gen/klloss: 0.065112\n",
      "\u001b[32m[1019 08:48:20 @monitor.py:467]\u001b[0m GAN_loss/gen/loss: 1.1671\n",
      "\u001b[32m[1019 08:48:20 @monitor.py:467]\u001b[0m QueueInput/queue_size: 50\n",
      "\u001b[32m[1019 08:48:20 @base.py:275]\u001b[0m Start Epoch 1015 ...\n"
     ]
    },
    {
     "name": "stderr",
     "output_type": "stream",
     "text": [
      "100%|###################################################################################|175/175[00:05<00:00,30.14it/s]"
     ]
    },
    {
     "name": "stdout",
     "output_type": "stream",
     "text": [
      "\u001b[32m[1019 08:48:25 @base.py:285]\u001b[0m Epoch 1015 (global_step 177625) finished, time:5.81 seconds.\n",
      "\u001b[32m[1019 08:48:26 @saver.py:79]\u001b[0m Model saved to ../output/Chicago/DATGAN_asd29/model\\model-177625.\n"
     ]
    },
    {
     "name": "stderr",
     "output_type": "stream",
     "text": [
      "\n"
     ]
    },
    {
     "name": "stdout",
     "output_type": "stream",
     "text": [
      "\u001b[32m[1019 08:48:26 @monitor.py:467]\u001b[0m GAN_loss/discrim/accuracy_fake: 0.842\n",
      "\u001b[32m[1019 08:48:26 @monitor.py:467]\u001b[0m GAN_loss/discrim/accuracy_real: 0.24\n",
      "\u001b[32m[1019 08:48:26 @monitor.py:467]\u001b[0m GAN_loss/discrim/loss: 0.63487\n",
      "\u001b[32m[1019 08:48:26 @monitor.py:467]\u001b[0m GAN_loss/gen/final-g-loss: 1.2072\n",
      "\u001b[32m[1019 08:48:26 @monitor.py:467]\u001b[0m GAN_loss/gen/klloss: 0.06231\n",
      "\u001b[32m[1019 08:48:26 @monitor.py:467]\u001b[0m GAN_loss/gen/loss: 1.1449\n",
      "\u001b[32m[1019 08:48:26 @monitor.py:467]\u001b[0m QueueInput/queue_size: 50\n",
      "\u001b[32m[1019 08:48:26 @base.py:275]\u001b[0m Start Epoch 1016 ...\n"
     ]
    },
    {
     "name": "stderr",
     "output_type": "stream",
     "text": [
      "100%|###################################################################################|175/175[00:05<00:00,31.71it/s]"
     ]
    },
    {
     "name": "stdout",
     "output_type": "stream",
     "text": [
      "\u001b[32m[1019 08:48:31 @base.py:285]\u001b[0m Epoch 1016 (global_step 177800) finished, time:5.52 seconds.\n",
      "\u001b[32m[1019 08:48:31 @saver.py:79]\u001b[0m Model saved to ../output/Chicago/DATGAN_asd29/model\\model-177800.\n"
     ]
    },
    {
     "name": "stderr",
     "output_type": "stream",
     "text": [
      "\n"
     ]
    },
    {
     "name": "stdout",
     "output_type": "stream",
     "text": [
      "\u001b[32m[1019 08:48:31 @monitor.py:467]\u001b[0m GAN_loss/discrim/accuracy_fake: 0.86\n",
      "\u001b[32m[1019 08:48:31 @monitor.py:467]\u001b[0m GAN_loss/discrim/accuracy_real: 0.25\n",
      "\u001b[32m[1019 08:48:31 @monitor.py:467]\u001b[0m GAN_loss/discrim/loss: 0.64057\n",
      "\u001b[32m[1019 08:48:31 @monitor.py:467]\u001b[0m GAN_loss/gen/final-g-loss: 1.1932\n",
      "\u001b[32m[1019 08:48:31 @monitor.py:467]\u001b[0m GAN_loss/gen/klloss: 0.06383\n",
      "\u001b[32m[1019 08:48:31 @monitor.py:467]\u001b[0m GAN_loss/gen/loss: 1.1294\n",
      "\u001b[32m[1019 08:48:31 @monitor.py:467]\u001b[0m QueueInput/queue_size: 50\n",
      "\u001b[32m[1019 08:48:31 @base.py:275]\u001b[0m Start Epoch 1017 ...\n"
     ]
    },
    {
     "name": "stderr",
     "output_type": "stream",
     "text": [
      "100%|###################################################################################|175/175[00:05<00:00,31.77it/s]"
     ]
    },
    {
     "name": "stdout",
     "output_type": "stream",
     "text": [
      "\u001b[32m[1019 08:48:37 @base.py:285]\u001b[0m Epoch 1017 (global_step 177975) finished, time:5.51 seconds.\n",
      "\u001b[32m[1019 08:48:37 @saver.py:79]\u001b[0m Model saved to ../output/Chicago/DATGAN_asd29/model\\model-177975.\n"
     ]
    },
    {
     "name": "stderr",
     "output_type": "stream",
     "text": [
      "\n"
     ]
    },
    {
     "name": "stdout",
     "output_type": "stream",
     "text": [
      "\u001b[32m[1019 08:48:37 @monitor.py:467]\u001b[0m GAN_loss/discrim/accuracy_fake: 0.846\n",
      "\u001b[32m[1019 08:48:37 @monitor.py:467]\u001b[0m GAN_loss/discrim/accuracy_real: 0.262\n",
      "\u001b[32m[1019 08:48:37 @monitor.py:467]\u001b[0m GAN_loss/discrim/loss: 0.64537\n",
      "\u001b[32m[1019 08:48:37 @monitor.py:467]\u001b[0m GAN_loss/gen/final-g-loss: 1.1798\n",
      "\u001b[32m[1019 08:48:37 @monitor.py:467]\u001b[0m GAN_loss/gen/klloss: 0.075839\n",
      "\u001b[32m[1019 08:48:37 @monitor.py:467]\u001b[0m GAN_loss/gen/loss: 1.1039\n",
      "\u001b[32m[1019 08:48:37 @monitor.py:467]\u001b[0m QueueInput/queue_size: 50\n",
      "\u001b[32m[1019 08:48:37 @base.py:275]\u001b[0m Start Epoch 1018 ...\n"
     ]
    },
    {
     "name": "stderr",
     "output_type": "stream",
     "text": [
      "100%|###################################################################################|175/175[00:05<00:00,31.68it/s]"
     ]
    },
    {
     "name": "stdout",
     "output_type": "stream",
     "text": [
      "\u001b[32m[1019 08:48:43 @base.py:285]\u001b[0m Epoch 1018 (global_step 178150) finished, time:5.52 seconds.\n",
      "\u001b[32m[1019 08:48:43 @saver.py:79]\u001b[0m Model saved to ../output/Chicago/DATGAN_asd29/model\\model-178150.\n"
     ]
    },
    {
     "name": "stderr",
     "output_type": "stream",
     "text": [
      "\n"
     ]
    },
    {
     "name": "stdout",
     "output_type": "stream",
     "text": [
      "\u001b[32m[1019 08:48:43 @monitor.py:467]\u001b[0m GAN_loss/discrim/accuracy_fake: 0.888\n",
      "\u001b[32m[1019 08:48:43 @monitor.py:467]\u001b[0m GAN_loss/discrim/accuracy_real: 0.21\n",
      "\u001b[32m[1019 08:48:43 @monitor.py:467]\u001b[0m GAN_loss/discrim/loss: 0.63193\n",
      "\u001b[32m[1019 08:48:43 @monitor.py:467]\u001b[0m GAN_loss/gen/final-g-loss: 1.1943\n",
      "\u001b[32m[1019 08:48:43 @monitor.py:467]\u001b[0m GAN_loss/gen/klloss: 0.049481\n",
      "\u001b[32m[1019 08:48:43 @monitor.py:467]\u001b[0m GAN_loss/gen/loss: 1.1448\n",
      "\u001b[32m[1019 08:48:43 @monitor.py:467]\u001b[0m QueueInput/queue_size: 50\n",
      "\u001b[32m[1019 08:48:43 @base.py:275]\u001b[0m Start Epoch 1019 ...\n"
     ]
    },
    {
     "name": "stderr",
     "output_type": "stream",
     "text": [
      "100%|###################################################################################|175/175[00:05<00:00,31.76it/s]"
     ]
    },
    {
     "name": "stdout",
     "output_type": "stream",
     "text": [
      "\u001b[32m[1019 08:48:48 @base.py:285]\u001b[0m Epoch 1019 (global_step 178325) finished, time:5.51 seconds.\n",
      "\u001b[32m[1019 08:48:49 @saver.py:79]\u001b[0m Model saved to ../output/Chicago/DATGAN_asd29/model\\model-178325.\n"
     ]
    },
    {
     "name": "stderr",
     "output_type": "stream",
     "text": [
      "\n"
     ]
    },
    {
     "name": "stdout",
     "output_type": "stream",
     "text": [
      "\u001b[32m[1019 08:48:49 @monitor.py:467]\u001b[0m GAN_loss/discrim/accuracy_fake: 0.852\n",
      "\u001b[32m[1019 08:48:49 @monitor.py:467]\u001b[0m GAN_loss/discrim/accuracy_real: 0.244\n",
      "\u001b[32m[1019 08:48:49 @monitor.py:467]\u001b[0m GAN_loss/discrim/loss: 0.63733\n",
      "\u001b[32m[1019 08:48:49 @monitor.py:467]\u001b[0m GAN_loss/gen/final-g-loss: 1.2007\n",
      "\u001b[32m[1019 08:48:49 @monitor.py:467]\u001b[0m GAN_loss/gen/klloss: 0.057062\n",
      "\u001b[32m[1019 08:48:49 @monitor.py:467]\u001b[0m GAN_loss/gen/loss: 1.1437\n",
      "\u001b[32m[1019 08:48:49 @monitor.py:467]\u001b[0m QueueInput/queue_size: 50\n",
      "\u001b[32m[1019 08:48:49 @base.py:275]\u001b[0m Start Epoch 1020 ...\n"
     ]
    },
    {
     "name": "stderr",
     "output_type": "stream",
     "text": [
      "100%|###################################################################################|175/175[00:05<00:00,31.67it/s]"
     ]
    },
    {
     "name": "stdout",
     "output_type": "stream",
     "text": [
      "\u001b[32m[1019 08:48:54 @base.py:285]\u001b[0m Epoch 1020 (global_step 178500) finished, time:5.53 seconds.\n",
      "\u001b[32m[1019 08:48:54 @saver.py:79]\u001b[0m Model saved to ../output/Chicago/DATGAN_asd29/model\\model-178500.\n"
     ]
    },
    {
     "name": "stderr",
     "output_type": "stream",
     "text": [
      "\n"
     ]
    },
    {
     "name": "stdout",
     "output_type": "stream",
     "text": [
      "\u001b[32m[1019 08:48:55 @monitor.py:467]\u001b[0m GAN_loss/discrim/accuracy_fake: 0.876\n",
      "\u001b[32m[1019 08:48:55 @monitor.py:467]\u001b[0m GAN_loss/discrim/accuracy_real: 0.294\n",
      "\u001b[32m[1019 08:48:55 @monitor.py:467]\u001b[0m GAN_loss/discrim/loss: 0.6368\n",
      "\u001b[32m[1019 08:48:55 @monitor.py:467]\u001b[0m GAN_loss/gen/final-g-loss: 1.2008\n",
      "\u001b[32m[1019 08:48:55 @monitor.py:467]\u001b[0m GAN_loss/gen/klloss: 0.068822\n",
      "\u001b[32m[1019 08:48:55 @monitor.py:467]\u001b[0m GAN_loss/gen/loss: 1.132\n",
      "\u001b[32m[1019 08:48:55 @monitor.py:467]\u001b[0m QueueInput/queue_size: 50\n",
      "\u001b[32m[1019 08:48:55 @base.py:275]\u001b[0m Start Epoch 1021 ...\n"
     ]
    },
    {
     "name": "stderr",
     "output_type": "stream",
     "text": [
      "100%|###################################################################################|175/175[00:05<00:00,31.75it/s]"
     ]
    },
    {
     "name": "stdout",
     "output_type": "stream",
     "text": [
      "\u001b[32m[1019 08:49:00 @base.py:285]\u001b[0m Epoch 1021 (global_step 178675) finished, time:5.51 seconds.\n",
      "\u001b[32m[1019 08:49:00 @saver.py:79]\u001b[0m Model saved to ../output/Chicago/DATGAN_asd29/model\\model-178675.\n"
     ]
    },
    {
     "name": "stderr",
     "output_type": "stream",
     "text": [
      "\n"
     ]
    },
    {
     "name": "stdout",
     "output_type": "stream",
     "text": [
      "\u001b[32m[1019 08:49:00 @monitor.py:467]\u001b[0m GAN_loss/discrim/accuracy_fake: 0.852\n",
      "\u001b[32m[1019 08:49:00 @monitor.py:467]\u001b[0m GAN_loss/discrim/accuracy_real: 0.336\n",
      "\u001b[32m[1019 08:49:00 @monitor.py:467]\u001b[0m GAN_loss/discrim/loss: 0.6211\n",
      "\u001b[32m[1019 08:49:00 @monitor.py:467]\u001b[0m GAN_loss/gen/final-g-loss: 1.2043\n",
      "\u001b[32m[1019 08:49:00 @monitor.py:467]\u001b[0m GAN_loss/gen/klloss: 0.057512\n",
      "\u001b[32m[1019 08:49:00 @monitor.py:467]\u001b[0m GAN_loss/gen/loss: 1.1468\n",
      "\u001b[32m[1019 08:49:00 @monitor.py:467]\u001b[0m QueueInput/queue_size: 50\n",
      "\u001b[32m[1019 08:49:00 @base.py:275]\u001b[0m Start Epoch 1022 ...\n"
     ]
    },
    {
     "name": "stderr",
     "output_type": "stream",
     "text": [
      "100%|###################################################################################|175/175[00:05<00:00,31.72it/s]"
     ]
    },
    {
     "name": "stdout",
     "output_type": "stream",
     "text": [
      "\u001b[32m[1019 08:49:06 @base.py:285]\u001b[0m Epoch 1022 (global_step 178850) finished, time:5.52 seconds.\n",
      "\u001b[32m[1019 08:49:06 @saver.py:79]\u001b[0m Model saved to ../output/Chicago/DATGAN_asd29/model\\model-178850.\n"
     ]
    },
    {
     "name": "stderr",
     "output_type": "stream",
     "text": [
      "\n"
     ]
    },
    {
     "name": "stdout",
     "output_type": "stream",
     "text": [
      "\u001b[32m[1019 08:49:06 @monitor.py:467]\u001b[0m GAN_loss/discrim/accuracy_fake: 0.866\n",
      "\u001b[32m[1019 08:49:06 @monitor.py:467]\u001b[0m GAN_loss/discrim/accuracy_real: 0.258\n",
      "\u001b[32m[1019 08:49:06 @monitor.py:467]\u001b[0m GAN_loss/discrim/loss: 0.62764\n",
      "\u001b[32m[1019 08:49:06 @monitor.py:467]\u001b[0m GAN_loss/gen/final-g-loss: 1.2336\n",
      "\u001b[32m[1019 08:49:06 @monitor.py:467]\u001b[0m GAN_loss/gen/klloss: 0.068423\n",
      "\u001b[32m[1019 08:49:06 @monitor.py:467]\u001b[0m GAN_loss/gen/loss: 1.1652\n",
      "\u001b[32m[1019 08:49:06 @monitor.py:467]\u001b[0m QueueInput/queue_size: 50\n",
      "\u001b[32m[1019 08:49:06 @base.py:275]\u001b[0m Start Epoch 1023 ...\n"
     ]
    },
    {
     "name": "stderr",
     "output_type": "stream",
     "text": [
      "100%|###################################################################################|175/175[00:05<00:00,31.77it/s]"
     ]
    },
    {
     "name": "stdout",
     "output_type": "stream",
     "text": [
      "\u001b[32m[1019 08:49:12 @base.py:285]\u001b[0m Epoch 1023 (global_step 179025) finished, time:5.51 seconds.\n",
      "\u001b[32m[1019 08:49:12 @saver.py:79]\u001b[0m Model saved to ../output/Chicago/DATGAN_asd29/model\\model-179025.\n"
     ]
    },
    {
     "name": "stderr",
     "output_type": "stream",
     "text": [
      "\n"
     ]
    },
    {
     "name": "stdout",
     "output_type": "stream",
     "text": [
      "\u001b[32m[1019 08:49:12 @monitor.py:467]\u001b[0m GAN_loss/discrim/accuracy_fake: 0.872\n",
      "\u001b[32m[1019 08:49:12 @monitor.py:467]\u001b[0m GAN_loss/discrim/accuracy_real: 0.286\n",
      "\u001b[32m[1019 08:49:12 @monitor.py:467]\u001b[0m GAN_loss/discrim/loss: 0.6239\n",
      "\u001b[32m[1019 08:49:12 @monitor.py:467]\u001b[0m GAN_loss/gen/final-g-loss: 1.2362\n",
      "\u001b[32m[1019 08:49:12 @monitor.py:467]\u001b[0m GAN_loss/gen/klloss: 0.069003\n",
      "\u001b[32m[1019 08:49:12 @monitor.py:467]\u001b[0m GAN_loss/gen/loss: 1.1672\n",
      "\u001b[32m[1019 08:49:12 @monitor.py:467]\u001b[0m QueueInput/queue_size: 50\n",
      "\u001b[32m[1019 08:49:12 @base.py:275]\u001b[0m Start Epoch 1024 ...\n"
     ]
    },
    {
     "name": "stderr",
     "output_type": "stream",
     "text": [
      "100%|###################################################################################|175/175[00:05<00:00,31.66it/s]"
     ]
    },
    {
     "name": "stdout",
     "output_type": "stream",
     "text": [
      "\u001b[32m[1019 08:49:17 @base.py:285]\u001b[0m Epoch 1024 (global_step 179200) finished, time:5.53 seconds.\n",
      "\u001b[32m[1019 08:49:17 @saver.py:79]\u001b[0m Model saved to ../output/Chicago/DATGAN_asd29/model\\model-179200.\n"
     ]
    },
    {
     "name": "stderr",
     "output_type": "stream",
     "text": [
      "\n"
     ]
    },
    {
     "name": "stdout",
     "output_type": "stream",
     "text": [
      "\u001b[32m[1019 08:49:18 @monitor.py:467]\u001b[0m GAN_loss/discrim/accuracy_fake: 0.826\n",
      "\u001b[32m[1019 08:49:18 @monitor.py:467]\u001b[0m GAN_loss/discrim/accuracy_real: 0.23\n",
      "\u001b[32m[1019 08:49:18 @monitor.py:467]\u001b[0m GAN_loss/discrim/loss: 0.65349\n",
      "\u001b[32m[1019 08:49:18 @monitor.py:467]\u001b[0m GAN_loss/gen/final-g-loss: 1.188\n",
      "\u001b[32m[1019 08:49:18 @monitor.py:467]\u001b[0m GAN_loss/gen/klloss: 0.064495\n",
      "\u001b[32m[1019 08:49:18 @monitor.py:467]\u001b[0m GAN_loss/gen/loss: 1.1235\n",
      "\u001b[32m[1019 08:49:18 @monitor.py:467]\u001b[0m QueueInput/queue_size: 50\n",
      "\u001b[32m[1019 08:49:18 @base.py:275]\u001b[0m Start Epoch 1025 ...\n"
     ]
    },
    {
     "name": "stderr",
     "output_type": "stream",
     "text": [
      "100%|###################################################################################|175/175[00:05<00:00,31.77it/s]"
     ]
    },
    {
     "name": "stdout",
     "output_type": "stream",
     "text": [
      "\u001b[32m[1019 08:49:23 @base.py:285]\u001b[0m Epoch 1025 (global_step 179375) finished, time:5.51 seconds.\n",
      "\u001b[32m[1019 08:49:23 @saver.py:79]\u001b[0m Model saved to ../output/Chicago/DATGAN_asd29/model\\model-179375.\n"
     ]
    },
    {
     "name": "stderr",
     "output_type": "stream",
     "text": [
      "\n"
     ]
    },
    {
     "name": "stdout",
     "output_type": "stream",
     "text": [
      "\u001b[32m[1019 08:49:23 @monitor.py:467]\u001b[0m GAN_loss/discrim/accuracy_fake: 0.842\n",
      "\u001b[32m[1019 08:49:23 @monitor.py:467]\u001b[0m GAN_loss/discrim/accuracy_real: 0.314\n",
      "\u001b[32m[1019 08:49:23 @monitor.py:467]\u001b[0m GAN_loss/discrim/loss: 0.62504\n",
      "\u001b[32m[1019 08:49:23 @monitor.py:467]\u001b[0m GAN_loss/gen/final-g-loss: 1.2427\n",
      "\u001b[32m[1019 08:49:23 @monitor.py:467]\u001b[0m GAN_loss/gen/klloss: 0.097592\n",
      "\u001b[32m[1019 08:49:23 @monitor.py:467]\u001b[0m GAN_loss/gen/loss: 1.1451\n",
      "\u001b[32m[1019 08:49:23 @monitor.py:467]\u001b[0m QueueInput/queue_size: 50\n",
      "\u001b[32m[1019 08:49:23 @base.py:275]\u001b[0m Start Epoch 1026 ...\n"
     ]
    },
    {
     "name": "stderr",
     "output_type": "stream",
     "text": [
      "100%|###################################################################################|175/175[00:05<00:00,31.72it/s]"
     ]
    },
    {
     "name": "stdout",
     "output_type": "stream",
     "text": [
      "\u001b[32m[1019 08:49:29 @base.py:285]\u001b[0m Epoch 1026 (global_step 179550) finished, time:5.52 seconds.\n",
      "\u001b[32m[1019 08:49:29 @saver.py:79]\u001b[0m Model saved to ../output/Chicago/DATGAN_asd29/model\\model-179550.\n"
     ]
    },
    {
     "name": "stderr",
     "output_type": "stream",
     "text": [
      "\n"
     ]
    },
    {
     "name": "stdout",
     "output_type": "stream",
     "text": [
      "\u001b[32m[1019 08:49:29 @monitor.py:467]\u001b[0m GAN_loss/discrim/accuracy_fake: 0.856\n",
      "\u001b[32m[1019 08:49:29 @monitor.py:467]\u001b[0m GAN_loss/discrim/accuracy_real: 0.272\n",
      "\u001b[32m[1019 08:49:29 @monitor.py:467]\u001b[0m GAN_loss/discrim/loss: 0.62963\n",
      "\u001b[32m[1019 08:49:29 @monitor.py:467]\u001b[0m GAN_loss/gen/final-g-loss: 1.2327\n",
      "\u001b[32m[1019 08:49:29 @monitor.py:467]\u001b[0m GAN_loss/gen/klloss: 0.073575\n",
      "\u001b[32m[1019 08:49:29 @monitor.py:467]\u001b[0m GAN_loss/gen/loss: 1.1592\n",
      "\u001b[32m[1019 08:49:29 @monitor.py:467]\u001b[0m QueueInput/queue_size: 50\n",
      "\u001b[32m[1019 08:49:29 @base.py:275]\u001b[0m Start Epoch 1027 ...\n"
     ]
    },
    {
     "name": "stderr",
     "output_type": "stream",
     "text": [
      "100%|###################################################################################|175/175[00:05<00:00,31.76it/s]"
     ]
    },
    {
     "name": "stdout",
     "output_type": "stream",
     "text": [
      "\u001b[32m[1019 08:49:35 @base.py:285]\u001b[0m Epoch 1027 (global_step 179725) finished, time:5.51 seconds.\n",
      "\u001b[32m[1019 08:49:35 @saver.py:79]\u001b[0m Model saved to ../output/Chicago/DATGAN_asd29/model\\model-179725.\n"
     ]
    },
    {
     "name": "stderr",
     "output_type": "stream",
     "text": [
      "\n"
     ]
    },
    {
     "name": "stdout",
     "output_type": "stream",
     "text": [
      "\u001b[32m[1019 08:49:35 @monitor.py:467]\u001b[0m GAN_loss/discrim/accuracy_fake: 0.868\n",
      "\u001b[32m[1019 08:49:35 @monitor.py:467]\u001b[0m GAN_loss/discrim/accuracy_real: 0.25\n",
      "\u001b[32m[1019 08:49:35 @monitor.py:467]\u001b[0m GAN_loss/discrim/loss: 0.62755\n",
      "\u001b[32m[1019 08:49:35 @monitor.py:467]\u001b[0m GAN_loss/gen/final-g-loss: 1.2115\n",
      "\u001b[32m[1019 08:49:35 @monitor.py:467]\u001b[0m GAN_loss/gen/klloss: 0.068779\n",
      "\u001b[32m[1019 08:49:35 @monitor.py:467]\u001b[0m GAN_loss/gen/loss: 1.1428\n",
      "\u001b[32m[1019 08:49:35 @monitor.py:467]\u001b[0m QueueInput/queue_size: 50\n",
      "\u001b[32m[1019 08:49:35 @base.py:275]\u001b[0m Start Epoch 1028 ...\n"
     ]
    },
    {
     "name": "stderr",
     "output_type": "stream",
     "text": [
      "100%|###################################################################################|175/175[00:05<00:00,31.71it/s]"
     ]
    },
    {
     "name": "stdout",
     "output_type": "stream",
     "text": [
      "\u001b[32m[1019 08:49:40 @base.py:285]\u001b[0m Epoch 1028 (global_step 179900) finished, time:5.52 seconds.\n",
      "\u001b[32m[1019 08:49:40 @saver.py:79]\u001b[0m Model saved to ../output/Chicago/DATGAN_asd29/model\\model-179900.\n"
     ]
    },
    {
     "name": "stderr",
     "output_type": "stream",
     "text": [
      "\n"
     ]
    },
    {
     "name": "stdout",
     "output_type": "stream",
     "text": [
      "\u001b[32m[1019 08:49:41 @monitor.py:467]\u001b[0m GAN_loss/discrim/accuracy_fake: 0.858\n",
      "\u001b[32m[1019 08:49:41 @monitor.py:467]\u001b[0m GAN_loss/discrim/accuracy_real: 0.318\n",
      "\u001b[32m[1019 08:49:41 @monitor.py:467]\u001b[0m GAN_loss/discrim/loss: 0.6038\n",
      "\u001b[32m[1019 08:49:41 @monitor.py:467]\u001b[0m GAN_loss/gen/final-g-loss: 1.2556\n",
      "\u001b[32m[1019 08:49:41 @monitor.py:467]\u001b[0m GAN_loss/gen/klloss: 0.074658\n",
      "\u001b[32m[1019 08:49:41 @monitor.py:467]\u001b[0m GAN_loss/gen/loss: 1.1809\n",
      "\u001b[32m[1019 08:49:41 @monitor.py:467]\u001b[0m QueueInput/queue_size: 50\n",
      "\u001b[32m[1019 08:49:41 @base.py:275]\u001b[0m Start Epoch 1029 ...\n"
     ]
    },
    {
     "name": "stderr",
     "output_type": "stream",
     "text": [
      "100%|###################################################################################|175/175[00:05<00:00,31.75it/s]"
     ]
    },
    {
     "name": "stdout",
     "output_type": "stream",
     "text": [
      "\u001b[32m[1019 08:49:46 @base.py:285]\u001b[0m Epoch 1029 (global_step 180075) finished, time:5.51 seconds.\n",
      "\u001b[32m[1019 08:49:46 @saver.py:79]\u001b[0m Model saved to ../output/Chicago/DATGAN_asd29/model\\model-180075.\n"
     ]
    },
    {
     "name": "stderr",
     "output_type": "stream",
     "text": [
      "\n"
     ]
    },
    {
     "name": "stdout",
     "output_type": "stream",
     "text": [
      "\u001b[32m[1019 08:49:46 @monitor.py:467]\u001b[0m GAN_loss/discrim/accuracy_fake: 0.844\n",
      "\u001b[32m[1019 08:49:46 @monitor.py:467]\u001b[0m GAN_loss/discrim/accuracy_real: 0.254\n",
      "\u001b[32m[1019 08:49:46 @monitor.py:467]\u001b[0m GAN_loss/discrim/loss: 0.63795\n",
      "\u001b[32m[1019 08:49:46 @monitor.py:467]\u001b[0m GAN_loss/gen/final-g-loss: 1.1841\n",
      "\u001b[32m[1019 08:49:46 @monitor.py:467]\u001b[0m GAN_loss/gen/klloss: 0.044285\n",
      "\u001b[32m[1019 08:49:46 @monitor.py:467]\u001b[0m GAN_loss/gen/loss: 1.1398\n",
      "\u001b[32m[1019 08:49:46 @monitor.py:467]\u001b[0m QueueInput/queue_size: 50\n",
      "\u001b[32m[1019 08:49:46 @base.py:275]\u001b[0m Start Epoch 1030 ...\n"
     ]
    },
    {
     "name": "stderr",
     "output_type": "stream",
     "text": [
      "100%|###################################################################################|175/175[00:05<00:00,31.66it/s]"
     ]
    },
    {
     "name": "stdout",
     "output_type": "stream",
     "text": [
      "\u001b[32m[1019 08:49:52 @base.py:285]\u001b[0m Epoch 1030 (global_step 180250) finished, time:5.53 seconds.\n",
      "\u001b[32m[1019 08:49:52 @saver.py:79]\u001b[0m Model saved to ../output/Chicago/DATGAN_asd29/model\\model-180250.\n"
     ]
    },
    {
     "name": "stderr",
     "output_type": "stream",
     "text": [
      "\n"
     ]
    },
    {
     "name": "stdout",
     "output_type": "stream",
     "text": [
      "\u001b[32m[1019 08:49:52 @monitor.py:467]\u001b[0m GAN_loss/discrim/accuracy_fake: 0.844\n",
      "\u001b[32m[1019 08:49:52 @monitor.py:467]\u001b[0m GAN_loss/discrim/accuracy_real: 0.27\n",
      "\u001b[32m[1019 08:49:52 @monitor.py:467]\u001b[0m GAN_loss/discrim/loss: 0.63778\n",
      "\u001b[32m[1019 08:49:52 @monitor.py:467]\u001b[0m GAN_loss/gen/final-g-loss: 1.1946\n",
      "\u001b[32m[1019 08:49:52 @monitor.py:467]\u001b[0m GAN_loss/gen/klloss: 0.056676\n",
      "\u001b[32m[1019 08:49:52 @monitor.py:467]\u001b[0m GAN_loss/gen/loss: 1.1379\n",
      "\u001b[32m[1019 08:49:52 @monitor.py:467]\u001b[0m QueueInput/queue_size: 50\n",
      "\u001b[32m[1019 08:49:52 @base.py:275]\u001b[0m Start Epoch 1031 ...\n"
     ]
    },
    {
     "name": "stderr",
     "output_type": "stream",
     "text": [
      "100%|###################################################################################|175/175[00:05<00:00,31.73it/s]"
     ]
    },
    {
     "name": "stdout",
     "output_type": "stream",
     "text": [
      "\u001b[32m[1019 08:49:58 @base.py:285]\u001b[0m Epoch 1031 (global_step 180425) finished, time:5.52 seconds.\n",
      "\u001b[32m[1019 08:49:58 @saver.py:79]\u001b[0m Model saved to ../output/Chicago/DATGAN_asd29/model\\model-180425.\n"
     ]
    },
    {
     "name": "stderr",
     "output_type": "stream",
     "text": [
      "\n"
     ]
    },
    {
     "name": "stdout",
     "output_type": "stream",
     "text": [
      "\u001b[32m[1019 08:49:58 @monitor.py:467]\u001b[0m GAN_loss/discrim/accuracy_fake: 0.866\n",
      "\u001b[32m[1019 08:49:58 @monitor.py:467]\u001b[0m GAN_loss/discrim/accuracy_real: 0.296\n",
      "\u001b[32m[1019 08:49:58 @monitor.py:467]\u001b[0m GAN_loss/discrim/loss: 0.63975\n",
      "\u001b[32m[1019 08:49:58 @monitor.py:467]\u001b[0m GAN_loss/gen/final-g-loss: 1.1849\n",
      "\u001b[32m[1019 08:49:58 @monitor.py:467]\u001b[0m GAN_loss/gen/klloss: 0.06277\n",
      "\u001b[32m[1019 08:49:58 @monitor.py:467]\u001b[0m GAN_loss/gen/loss: 1.1222\n",
      "\u001b[32m[1019 08:49:58 @monitor.py:467]\u001b[0m QueueInput/queue_size: 50\n",
      "\u001b[32m[1019 08:49:58 @base.py:275]\u001b[0m Start Epoch 1032 ...\n"
     ]
    },
    {
     "name": "stderr",
     "output_type": "stream",
     "text": [
      "100%|###################################################################################|175/175[00:05<00:00,31.76it/s]"
     ]
    },
    {
     "name": "stdout",
     "output_type": "stream",
     "text": [
      "\u001b[32m[1019 08:50:03 @base.py:285]\u001b[0m Epoch 1032 (global_step 180600) finished, time:5.51 seconds.\n",
      "\u001b[32m[1019 08:50:04 @saver.py:79]\u001b[0m Model saved to ../output/Chicago/DATGAN_asd29/model\\model-180600.\n"
     ]
    },
    {
     "name": "stderr",
     "output_type": "stream",
     "text": [
      "\n"
     ]
    },
    {
     "name": "stdout",
     "output_type": "stream",
     "text": [
      "\u001b[32m[1019 08:50:04 @monitor.py:467]\u001b[0m GAN_loss/discrim/accuracy_fake: 0.842\n",
      "\u001b[32m[1019 08:50:04 @monitor.py:467]\u001b[0m GAN_loss/discrim/accuracy_real: 0.258\n",
      "\u001b[32m[1019 08:50:04 @monitor.py:467]\u001b[0m GAN_loss/discrim/loss: 0.63433\n",
      "\u001b[32m[1019 08:50:04 @monitor.py:467]\u001b[0m GAN_loss/gen/final-g-loss: 1.1678\n",
      "\u001b[32m[1019 08:50:04 @monitor.py:467]\u001b[0m GAN_loss/gen/klloss: 0.058065\n",
      "\u001b[32m[1019 08:50:04 @monitor.py:467]\u001b[0m GAN_loss/gen/loss: 1.1097\n",
      "\u001b[32m[1019 08:50:04 @monitor.py:467]\u001b[0m QueueInput/queue_size: 50\n",
      "\u001b[32m[1019 08:50:04 @base.py:275]\u001b[0m Start Epoch 1033 ...\n"
     ]
    },
    {
     "name": "stderr",
     "output_type": "stream",
     "text": [
      "100%|###################################################################################|175/175[00:05<00:00,31.72it/s]"
     ]
    },
    {
     "name": "stdout",
     "output_type": "stream",
     "text": [
      "\u001b[32m[1019 08:50:09 @base.py:285]\u001b[0m Epoch 1033 (global_step 180775) finished, time:5.52 seconds.\n",
      "\u001b[32m[1019 08:50:09 @saver.py:79]\u001b[0m Model saved to ../output/Chicago/DATGAN_asd29/model\\model-180775.\n"
     ]
    },
    {
     "name": "stderr",
     "output_type": "stream",
     "text": [
      "\n"
     ]
    },
    {
     "name": "stdout",
     "output_type": "stream",
     "text": [
      "\u001b[32m[1019 08:50:10 @monitor.py:467]\u001b[0m GAN_loss/discrim/accuracy_fake: 0.858\n",
      "\u001b[32m[1019 08:50:10 @monitor.py:467]\u001b[0m GAN_loss/discrim/accuracy_real: 0.284\n",
      "\u001b[32m[1019 08:50:10 @monitor.py:467]\u001b[0m GAN_loss/discrim/loss: 0.62491\n",
      "\u001b[32m[1019 08:50:10 @monitor.py:467]\u001b[0m GAN_loss/gen/final-g-loss: 1.2828\n",
      "\u001b[32m[1019 08:50:10 @monitor.py:467]\u001b[0m GAN_loss/gen/klloss: 0.10186\n",
      "\u001b[32m[1019 08:50:10 @monitor.py:467]\u001b[0m GAN_loss/gen/loss: 1.181\n",
      "\u001b[32m[1019 08:50:10 @monitor.py:467]\u001b[0m QueueInput/queue_size: 50\n",
      "\u001b[32m[1019 08:50:10 @base.py:275]\u001b[0m Start Epoch 1034 ...\n"
     ]
    },
    {
     "name": "stderr",
     "output_type": "stream",
     "text": [
      "100%|###################################################################################|175/175[00:05<00:00,31.77it/s]"
     ]
    },
    {
     "name": "stdout",
     "output_type": "stream",
     "text": [
      "\u001b[32m[1019 08:50:15 @base.py:285]\u001b[0m Epoch 1034 (global_step 180950) finished, time:5.51 seconds.\n",
      "\u001b[32m[1019 08:50:15 @saver.py:79]\u001b[0m Model saved to ../output/Chicago/DATGAN_asd29/model\\model-180950.\n"
     ]
    },
    {
     "name": "stderr",
     "output_type": "stream",
     "text": [
      "\n"
     ]
    },
    {
     "name": "stdout",
     "output_type": "stream",
     "text": [
      "\u001b[32m[1019 08:50:15 @monitor.py:467]\u001b[0m GAN_loss/discrim/accuracy_fake: 0.91\n",
      "\u001b[32m[1019 08:50:15 @monitor.py:467]\u001b[0m GAN_loss/discrim/accuracy_real: 0.284\n",
      "\u001b[32m[1019 08:50:15 @monitor.py:467]\u001b[0m GAN_loss/discrim/loss: 0.61449\n",
      "\u001b[32m[1019 08:50:15 @monitor.py:467]\u001b[0m GAN_loss/gen/final-g-loss: 1.2544\n",
      "\u001b[32m[1019 08:50:15 @monitor.py:467]\u001b[0m GAN_loss/gen/klloss: 0.081953\n",
      "\u001b[32m[1019 08:50:15 @monitor.py:467]\u001b[0m GAN_loss/gen/loss: 1.1724\n",
      "\u001b[32m[1019 08:50:15 @monitor.py:467]\u001b[0m QueueInput/queue_size: 50\n",
      "\u001b[32m[1019 08:50:15 @base.py:275]\u001b[0m Start Epoch 1035 ...\n"
     ]
    },
    {
     "name": "stderr",
     "output_type": "stream",
     "text": [
      "100%|###################################################################################|175/175[00:05<00:00,31.72it/s]"
     ]
    },
    {
     "name": "stdout",
     "output_type": "stream",
     "text": [
      "\u001b[32m[1019 08:50:21 @base.py:285]\u001b[0m Epoch 1035 (global_step 181125) finished, time:5.52 seconds.\n",
      "\u001b[32m[1019 08:50:21 @saver.py:79]\u001b[0m Model saved to ../output/Chicago/DATGAN_asd29/model\\model-181125.\n"
     ]
    },
    {
     "name": "stderr",
     "output_type": "stream",
     "text": [
      "\n"
     ]
    },
    {
     "name": "stdout",
     "output_type": "stream",
     "text": [
      "\u001b[32m[1019 08:50:21 @monitor.py:467]\u001b[0m GAN_loss/discrim/accuracy_fake: 0.862\n",
      "\u001b[32m[1019 08:50:21 @monitor.py:467]\u001b[0m GAN_loss/discrim/accuracy_real: 0.272\n",
      "\u001b[32m[1019 08:50:21 @monitor.py:467]\u001b[0m GAN_loss/discrim/loss: 0.63092\n",
      "\u001b[32m[1019 08:50:21 @monitor.py:467]\u001b[0m GAN_loss/gen/final-g-loss: 1.2069\n",
      "\u001b[32m[1019 08:50:21 @monitor.py:467]\u001b[0m GAN_loss/gen/klloss: 0.049192\n",
      "\u001b[32m[1019 08:50:21 @monitor.py:467]\u001b[0m GAN_loss/gen/loss: 1.1577\n",
      "\u001b[32m[1019 08:50:21 @monitor.py:467]\u001b[0m QueueInput/queue_size: 50\n",
      "\u001b[32m[1019 08:50:21 @base.py:275]\u001b[0m Start Epoch 1036 ...\n"
     ]
    },
    {
     "name": "stderr",
     "output_type": "stream",
     "text": [
      "100%|###################################################################################|175/175[00:05<00:00,31.76it/s]"
     ]
    },
    {
     "name": "stdout",
     "output_type": "stream",
     "text": [
      "\u001b[32m[1019 08:50:27 @base.py:285]\u001b[0m Epoch 1036 (global_step 181300) finished, time:5.51 seconds.\n",
      "\u001b[32m[1019 08:50:27 @saver.py:79]\u001b[0m Model saved to ../output/Chicago/DATGAN_asd29/model\\model-181300.\n"
     ]
    },
    {
     "name": "stderr",
     "output_type": "stream",
     "text": [
      "\n"
     ]
    },
    {
     "name": "stdout",
     "output_type": "stream",
     "text": [
      "\u001b[32m[1019 08:50:27 @monitor.py:467]\u001b[0m GAN_loss/discrim/accuracy_fake: 0.828\n",
      "\u001b[32m[1019 08:50:27 @monitor.py:467]\u001b[0m GAN_loss/discrim/accuracy_real: 0.318\n",
      "\u001b[32m[1019 08:50:27 @monitor.py:467]\u001b[0m GAN_loss/discrim/loss: 0.63854\n",
      "\u001b[32m[1019 08:50:27 @monitor.py:467]\u001b[0m GAN_loss/gen/final-g-loss: 1.1922\n",
      "\u001b[32m[1019 08:50:27 @monitor.py:467]\u001b[0m GAN_loss/gen/klloss: 0.074044\n",
      "\u001b[32m[1019 08:50:27 @monitor.py:467]\u001b[0m GAN_loss/gen/loss: 1.1182\n",
      "\u001b[32m[1019 08:50:27 @monitor.py:467]\u001b[0m QueueInput/queue_size: 50\n",
      "\u001b[32m[1019 08:50:27 @base.py:275]\u001b[0m Start Epoch 1037 ...\n"
     ]
    },
    {
     "name": "stderr",
     "output_type": "stream",
     "text": [
      "100%|###################################################################################|175/175[00:05<00:00,31.71it/s]"
     ]
    },
    {
     "name": "stdout",
     "output_type": "stream",
     "text": [
      "\u001b[32m[1019 08:50:32 @base.py:285]\u001b[0m Epoch 1037 (global_step 181475) finished, time:5.52 seconds.\n",
      "\u001b[32m[1019 08:50:32 @saver.py:79]\u001b[0m Model saved to ../output/Chicago/DATGAN_asd29/model\\model-181475.\n"
     ]
    },
    {
     "name": "stderr",
     "output_type": "stream",
     "text": [
      "\n"
     ]
    },
    {
     "name": "stdout",
     "output_type": "stream",
     "text": [
      "\u001b[32m[1019 08:50:33 @monitor.py:467]\u001b[0m GAN_loss/discrim/accuracy_fake: 0.862\n",
      "\u001b[32m[1019 08:50:33 @monitor.py:467]\u001b[0m GAN_loss/discrim/accuracy_real: 0.252\n",
      "\u001b[32m[1019 08:50:33 @monitor.py:467]\u001b[0m GAN_loss/discrim/loss: 0.63733\n",
      "\u001b[32m[1019 08:50:33 @monitor.py:467]\u001b[0m GAN_loss/gen/final-g-loss: 1.2118\n",
      "\u001b[32m[1019 08:50:33 @monitor.py:467]\u001b[0m GAN_loss/gen/klloss: 0.05783\n",
      "\u001b[32m[1019 08:50:33 @monitor.py:467]\u001b[0m GAN_loss/gen/loss: 1.154\n",
      "\u001b[32m[1019 08:50:33 @monitor.py:467]\u001b[0m QueueInput/queue_size: 50\n",
      "\u001b[32m[1019 08:50:33 @base.py:275]\u001b[0m Start Epoch 1038 ...\n"
     ]
    },
    {
     "name": "stderr",
     "output_type": "stream",
     "text": [
      "100%|###################################################################################|175/175[00:05<00:00,31.75it/s]"
     ]
    },
    {
     "name": "stdout",
     "output_type": "stream",
     "text": [
      "\u001b[32m[1019 08:50:38 @base.py:285]\u001b[0m Epoch 1038 (global_step 181650) finished, time:5.51 seconds.\n",
      "\u001b[32m[1019 08:50:38 @saver.py:79]\u001b[0m Model saved to ../output/Chicago/DATGAN_asd29/model\\model-181650.\n"
     ]
    },
    {
     "name": "stderr",
     "output_type": "stream",
     "text": [
      "\n"
     ]
    },
    {
     "name": "stdout",
     "output_type": "stream",
     "text": [
      "\u001b[32m[1019 08:50:38 @monitor.py:467]\u001b[0m GAN_loss/discrim/accuracy_fake: 0.862\n",
      "\u001b[32m[1019 08:50:38 @monitor.py:467]\u001b[0m GAN_loss/discrim/accuracy_real: 0.256\n",
      "\u001b[32m[1019 08:50:38 @monitor.py:467]\u001b[0m GAN_loss/discrim/loss: 0.6351\n",
      "\u001b[32m[1019 08:50:38 @monitor.py:467]\u001b[0m GAN_loss/gen/final-g-loss: 1.2011\n",
      "\u001b[32m[1019 08:50:38 @monitor.py:467]\u001b[0m GAN_loss/gen/klloss: 0.054566\n",
      "\u001b[32m[1019 08:50:38 @monitor.py:467]\u001b[0m GAN_loss/gen/loss: 1.1466\n",
      "\u001b[32m[1019 08:50:38 @monitor.py:467]\u001b[0m QueueInput/queue_size: 50\n",
      "\u001b[32m[1019 08:50:38 @base.py:275]\u001b[0m Start Epoch 1039 ...\n"
     ]
    },
    {
     "name": "stderr",
     "output_type": "stream",
     "text": [
      "100%|###################################################################################|175/175[00:05<00:00,31.70it/s]"
     ]
    },
    {
     "name": "stdout",
     "output_type": "stream",
     "text": [
      "\u001b[32m[1019 08:50:44 @base.py:285]\u001b[0m Epoch 1039 (global_step 181825) finished, time:5.52 seconds.\n",
      "\u001b[32m[1019 08:50:44 @saver.py:79]\u001b[0m Model saved to ../output/Chicago/DATGAN_asd29/model\\model-181825.\n"
     ]
    },
    {
     "name": "stderr",
     "output_type": "stream",
     "text": [
      "\n"
     ]
    },
    {
     "name": "stdout",
     "output_type": "stream",
     "text": [
      "\u001b[32m[1019 08:50:44 @monitor.py:467]\u001b[0m GAN_loss/discrim/accuracy_fake: 0.848\n",
      "\u001b[32m[1019 08:50:44 @monitor.py:467]\u001b[0m GAN_loss/discrim/accuracy_real: 0.26\n",
      "\u001b[32m[1019 08:50:44 @monitor.py:467]\u001b[0m GAN_loss/discrim/loss: 0.64004\n",
      "\u001b[32m[1019 08:50:44 @monitor.py:467]\u001b[0m GAN_loss/gen/final-g-loss: 1.2162\n",
      "\u001b[32m[1019 08:50:44 @monitor.py:467]\u001b[0m GAN_loss/gen/klloss: 0.081848\n",
      "\u001b[32m[1019 08:50:44 @monitor.py:467]\u001b[0m GAN_loss/gen/loss: 1.1344\n",
      "\u001b[32m[1019 08:50:44 @monitor.py:467]\u001b[0m QueueInput/queue_size: 50\n",
      "\u001b[32m[1019 08:50:44 @base.py:275]\u001b[0m Start Epoch 1040 ...\n"
     ]
    },
    {
     "name": "stderr",
     "output_type": "stream",
     "text": [
      "100%|###################################################################################|175/175[00:05<00:00,31.75it/s]"
     ]
    },
    {
     "name": "stdout",
     "output_type": "stream",
     "text": [
      "\u001b[32m[1019 08:50:50 @base.py:285]\u001b[0m Epoch 1040 (global_step 182000) finished, time:5.51 seconds.\n",
      "\u001b[32m[1019 08:50:50 @saver.py:79]\u001b[0m Model saved to ../output/Chicago/DATGAN_asd29/model\\model-182000.\n"
     ]
    },
    {
     "name": "stderr",
     "output_type": "stream",
     "text": [
      "\n"
     ]
    },
    {
     "name": "stdout",
     "output_type": "stream",
     "text": [
      "\u001b[32m[1019 08:50:50 @monitor.py:467]\u001b[0m GAN_loss/discrim/accuracy_fake: 0.824\n",
      "\u001b[32m[1019 08:50:50 @monitor.py:467]\u001b[0m GAN_loss/discrim/accuracy_real: 0.342\n",
      "\u001b[32m[1019 08:50:50 @monitor.py:467]\u001b[0m GAN_loss/discrim/loss: 0.62539\n",
      "\u001b[32m[1019 08:50:50 @monitor.py:467]\u001b[0m GAN_loss/gen/final-g-loss: 1.2015\n",
      "\u001b[32m[1019 08:50:50 @monitor.py:467]\u001b[0m GAN_loss/gen/klloss: 0.06807\n",
      "\u001b[32m[1019 08:50:50 @monitor.py:467]\u001b[0m GAN_loss/gen/loss: 1.1334\n",
      "\u001b[32m[1019 08:50:50 @monitor.py:467]\u001b[0m QueueInput/queue_size: 50\n",
      "\u001b[32m[1019 08:50:50 @base.py:275]\u001b[0m Start Epoch 1041 ...\n"
     ]
    },
    {
     "name": "stderr",
     "output_type": "stream",
     "text": [
      "100%|###################################################################################|175/175[00:05<00:00,31.67it/s]"
     ]
    },
    {
     "name": "stdout",
     "output_type": "stream",
     "text": [
      "\u001b[32m[1019 08:50:55 @base.py:285]\u001b[0m Epoch 1041 (global_step 182175) finished, time:5.53 seconds.\n",
      "\u001b[32m[1019 08:50:55 @saver.py:79]\u001b[0m Model saved to ../output/Chicago/DATGAN_asd29/model\\model-182175.\n"
     ]
    },
    {
     "name": "stderr",
     "output_type": "stream",
     "text": [
      "\n"
     ]
    },
    {
     "name": "stdout",
     "output_type": "stream",
     "text": [
      "\u001b[32m[1019 08:50:56 @monitor.py:467]\u001b[0m GAN_loss/discrim/accuracy_fake: 0.89\n",
      "\u001b[32m[1019 08:50:56 @monitor.py:467]\u001b[0m GAN_loss/discrim/accuracy_real: 0.332\n",
      "\u001b[32m[1019 08:50:56 @monitor.py:467]\u001b[0m GAN_loss/discrim/loss: 0.60252\n",
      "\u001b[32m[1019 08:50:56 @monitor.py:467]\u001b[0m GAN_loss/gen/final-g-loss: 1.305\n",
      "\u001b[32m[1019 08:50:56 @monitor.py:467]\u001b[0m GAN_loss/gen/klloss: 0.077027\n",
      "\u001b[32m[1019 08:50:56 @monitor.py:467]\u001b[0m GAN_loss/gen/loss: 1.2279\n",
      "\u001b[32m[1019 08:50:56 @monitor.py:467]\u001b[0m QueueInput/queue_size: 50\n",
      "\u001b[32m[1019 08:50:56 @base.py:275]\u001b[0m Start Epoch 1042 ...\n"
     ]
    },
    {
     "name": "stderr",
     "output_type": "stream",
     "text": [
      "100%|###################################################################################|175/175[00:05<00:00,31.75it/s]"
     ]
    },
    {
     "name": "stdout",
     "output_type": "stream",
     "text": [
      "\u001b[32m[1019 08:51:01 @base.py:285]\u001b[0m Epoch 1042 (global_step 182350) finished, time:5.51 seconds.\n",
      "\u001b[32m[1019 08:51:01 @saver.py:79]\u001b[0m Model saved to ../output/Chicago/DATGAN_asd29/model\\model-182350.\n"
     ]
    },
    {
     "name": "stderr",
     "output_type": "stream",
     "text": [
      "\n"
     ]
    },
    {
     "name": "stdout",
     "output_type": "stream",
     "text": [
      "\u001b[32m[1019 08:51:01 @monitor.py:467]\u001b[0m GAN_loss/discrim/accuracy_fake: 0.854\n",
      "\u001b[32m[1019 08:51:01 @monitor.py:467]\u001b[0m GAN_loss/discrim/accuracy_real: 0.302\n",
      "\u001b[32m[1019 08:51:01 @monitor.py:467]\u001b[0m GAN_loss/discrim/loss: 0.62644\n",
      "\u001b[32m[1019 08:51:01 @monitor.py:467]\u001b[0m GAN_loss/gen/final-g-loss: 1.246\n",
      "\u001b[32m[1019 08:51:01 @monitor.py:467]\u001b[0m GAN_loss/gen/klloss: 0.082292\n",
      "\u001b[32m[1019 08:51:01 @monitor.py:467]\u001b[0m GAN_loss/gen/loss: 1.1638\n",
      "\u001b[32m[1019 08:51:01 @monitor.py:467]\u001b[0m QueueInput/queue_size: 50\n",
      "\u001b[32m[1019 08:51:01 @base.py:275]\u001b[0m Start Epoch 1043 ...\n"
     ]
    },
    {
     "name": "stderr",
     "output_type": "stream",
     "text": [
      "100%|###################################################################################|175/175[00:05<00:00,31.69it/s]"
     ]
    },
    {
     "name": "stdout",
     "output_type": "stream",
     "text": [
      "\u001b[32m[1019 08:51:07 @base.py:285]\u001b[0m Epoch 1043 (global_step 182525) finished, time:5.52 seconds.\n",
      "\u001b[32m[1019 08:51:07 @saver.py:79]\u001b[0m Model saved to ../output/Chicago/DATGAN_asd29/model\\model-182525.\n"
     ]
    },
    {
     "name": "stderr",
     "output_type": "stream",
     "text": [
      "\n"
     ]
    },
    {
     "name": "stdout",
     "output_type": "stream",
     "text": [
      "\u001b[32m[1019 08:51:07 @monitor.py:467]\u001b[0m GAN_loss/discrim/accuracy_fake: 0.866\n",
      "\u001b[32m[1019 08:51:07 @monitor.py:467]\u001b[0m GAN_loss/discrim/accuracy_real: 0.296\n",
      "\u001b[32m[1019 08:51:07 @monitor.py:467]\u001b[0m GAN_loss/discrim/loss: 0.62461\n",
      "\u001b[32m[1019 08:51:07 @monitor.py:467]\u001b[0m GAN_loss/gen/final-g-loss: 1.2545\n",
      "\u001b[32m[1019 08:51:07 @monitor.py:467]\u001b[0m GAN_loss/gen/klloss: 0.081144\n",
      "\u001b[32m[1019 08:51:07 @monitor.py:467]\u001b[0m GAN_loss/gen/loss: 1.1733\n",
      "\u001b[32m[1019 08:51:07 @monitor.py:467]\u001b[0m QueueInput/queue_size: 50\n",
      "\u001b[32m[1019 08:51:07 @base.py:275]\u001b[0m Start Epoch 1044 ...\n"
     ]
    },
    {
     "name": "stderr",
     "output_type": "stream",
     "text": [
      "100%|###################################################################################|175/175[00:05<00:00,31.74it/s]"
     ]
    },
    {
     "name": "stdout",
     "output_type": "stream",
     "text": [
      "\u001b[32m[1019 08:51:13 @base.py:285]\u001b[0m Epoch 1044 (global_step 182700) finished, time:5.51 seconds.\n",
      "\u001b[32m[1019 08:51:13 @saver.py:79]\u001b[0m Model saved to ../output/Chicago/DATGAN_asd29/model\\model-182700.\n"
     ]
    },
    {
     "name": "stderr",
     "output_type": "stream",
     "text": [
      "\n"
     ]
    },
    {
     "name": "stdout",
     "output_type": "stream",
     "text": [
      "\u001b[32m[1019 08:51:13 @monitor.py:467]\u001b[0m GAN_loss/discrim/accuracy_fake: 0.824\n",
      "\u001b[32m[1019 08:51:13 @monitor.py:467]\u001b[0m GAN_loss/discrim/accuracy_real: 0.31\n",
      "\u001b[32m[1019 08:51:13 @monitor.py:467]\u001b[0m GAN_loss/discrim/loss: 0.62333\n",
      "\u001b[32m[1019 08:51:13 @monitor.py:467]\u001b[0m GAN_loss/gen/final-g-loss: 1.2837\n",
      "\u001b[32m[1019 08:51:13 @monitor.py:467]\u001b[0m GAN_loss/gen/klloss: 0.09935\n",
      "\u001b[32m[1019 08:51:13 @monitor.py:467]\u001b[0m GAN_loss/gen/loss: 1.1844\n",
      "\u001b[32m[1019 08:51:13 @monitor.py:467]\u001b[0m QueueInput/queue_size: 50\n",
      "\u001b[32m[1019 08:51:13 @base.py:275]\u001b[0m Start Epoch 1045 ...\n"
     ]
    },
    {
     "name": "stderr",
     "output_type": "stream",
     "text": [
      "100%|###################################################################################|175/175[00:05<00:00,31.73it/s]"
     ]
    },
    {
     "name": "stdout",
     "output_type": "stream",
     "text": [
      "\u001b[32m[1019 08:51:19 @base.py:285]\u001b[0m Epoch 1045 (global_step 182875) finished, time:5.52 seconds.\n",
      "\u001b[32m[1019 08:51:19 @saver.py:79]\u001b[0m Model saved to ../output/Chicago/DATGAN_asd29/model\\model-182875.\n"
     ]
    },
    {
     "name": "stderr",
     "output_type": "stream",
     "text": [
      "\n"
     ]
    },
    {
     "name": "stdout",
     "output_type": "stream",
     "text": [
      "\u001b[32m[1019 08:51:19 @monitor.py:467]\u001b[0m GAN_loss/discrim/accuracy_fake: 0.856\n",
      "\u001b[32m[1019 08:51:19 @monitor.py:467]\u001b[0m GAN_loss/discrim/accuracy_real: 0.334\n",
      "\u001b[32m[1019 08:51:19 @monitor.py:467]\u001b[0m GAN_loss/discrim/loss: 0.61894\n",
      "\u001b[32m[1019 08:51:19 @monitor.py:467]\u001b[0m GAN_loss/gen/final-g-loss: 1.2521\n",
      "\u001b[32m[1019 08:51:19 @monitor.py:467]\u001b[0m GAN_loss/gen/klloss: 0.081006\n",
      "\u001b[32m[1019 08:51:19 @monitor.py:467]\u001b[0m GAN_loss/gen/loss: 1.1711\n",
      "\u001b[32m[1019 08:51:19 @monitor.py:467]\u001b[0m QueueInput/queue_size: 50\n",
      "\u001b[32m[1019 08:51:19 @base.py:275]\u001b[0m Start Epoch 1046 ...\n"
     ]
    },
    {
     "name": "stderr",
     "output_type": "stream",
     "text": [
      "100%|###################################################################################|175/175[00:05<00:00,31.76it/s]"
     ]
    },
    {
     "name": "stdout",
     "output_type": "stream",
     "text": [
      "\u001b[32m[1019 08:51:24 @base.py:285]\u001b[0m Epoch 1046 (global_step 183050) finished, time:5.51 seconds.\n",
      "\u001b[32m[1019 08:51:24 @saver.py:79]\u001b[0m Model saved to ../output/Chicago/DATGAN_asd29/model\\model-183050.\n"
     ]
    },
    {
     "name": "stderr",
     "output_type": "stream",
     "text": [
      "\n"
     ]
    },
    {
     "name": "stdout",
     "output_type": "stream",
     "text": [
      "\u001b[32m[1019 08:51:25 @monitor.py:467]\u001b[0m GAN_loss/discrim/accuracy_fake: 0.824\n",
      "\u001b[32m[1019 08:51:25 @monitor.py:467]\u001b[0m GAN_loss/discrim/accuracy_real: 0.234\n",
      "\u001b[32m[1019 08:51:25 @monitor.py:467]\u001b[0m GAN_loss/discrim/loss: 0.64017\n",
      "\u001b[32m[1019 08:51:25 @monitor.py:467]\u001b[0m GAN_loss/gen/final-g-loss: 1.2203\n",
      "\u001b[32m[1019 08:51:25 @monitor.py:467]\u001b[0m GAN_loss/gen/klloss: 0.079986\n",
      "\u001b[32m[1019 08:51:25 @monitor.py:467]\u001b[0m GAN_loss/gen/loss: 1.1403\n",
      "\u001b[32m[1019 08:51:25 @monitor.py:467]\u001b[0m QueueInput/queue_size: 50\n",
      "\u001b[32m[1019 08:51:25 @base.py:275]\u001b[0m Start Epoch 1047 ...\n"
     ]
    },
    {
     "name": "stderr",
     "output_type": "stream",
     "text": [
      "100%|###################################################################################|175/175[00:05<00:00,31.70it/s]"
     ]
    },
    {
     "name": "stdout",
     "output_type": "stream",
     "text": [
      "\u001b[32m[1019 08:51:30 @base.py:285]\u001b[0m Epoch 1047 (global_step 183225) finished, time:5.52 seconds.\n",
      "\u001b[32m[1019 08:51:30 @saver.py:79]\u001b[0m Model saved to ../output/Chicago/DATGAN_asd29/model\\model-183225.\n"
     ]
    },
    {
     "name": "stderr",
     "output_type": "stream",
     "text": [
      "\n"
     ]
    },
    {
     "name": "stdout",
     "output_type": "stream",
     "text": [
      "\u001b[32m[1019 08:51:30 @monitor.py:467]\u001b[0m GAN_loss/discrim/accuracy_fake: 0.814\n",
      "\u001b[32m[1019 08:51:30 @monitor.py:467]\u001b[0m GAN_loss/discrim/accuracy_real: 0.316\n",
      "\u001b[32m[1019 08:51:30 @monitor.py:467]\u001b[0m GAN_loss/discrim/loss: 0.63747\n",
      "\u001b[32m[1019 08:51:30 @monitor.py:467]\u001b[0m GAN_loss/gen/final-g-loss: 1.1903\n",
      "\u001b[32m[1019 08:51:30 @monitor.py:467]\u001b[0m GAN_loss/gen/klloss: 0.050996\n",
      "\u001b[32m[1019 08:51:30 @monitor.py:467]\u001b[0m GAN_loss/gen/loss: 1.1393\n",
      "\u001b[32m[1019 08:51:30 @monitor.py:467]\u001b[0m QueueInput/queue_size: 50\n",
      "\u001b[32m[1019 08:51:30 @base.py:275]\u001b[0m Start Epoch 1048 ...\n"
     ]
    },
    {
     "name": "stderr",
     "output_type": "stream",
     "text": [
      "100%|###################################################################################|175/175[00:05<00:00,31.77it/s]"
     ]
    },
    {
     "name": "stdout",
     "output_type": "stream",
     "text": [
      "\u001b[32m[1019 08:51:36 @base.py:285]\u001b[0m Epoch 1048 (global_step 183400) finished, time:5.51 seconds.\n",
      "\u001b[32m[1019 08:51:36 @saver.py:79]\u001b[0m Model saved to ../output/Chicago/DATGAN_asd29/model\\model-183400.\n"
     ]
    },
    {
     "name": "stderr",
     "output_type": "stream",
     "text": [
      "\n"
     ]
    },
    {
     "name": "stdout",
     "output_type": "stream",
     "text": [
      "\u001b[32m[1019 08:51:36 @monitor.py:467]\u001b[0m GAN_loss/discrim/accuracy_fake: 0.852\n",
      "\u001b[32m[1019 08:51:36 @monitor.py:467]\u001b[0m GAN_loss/discrim/accuracy_real: 0.274\n",
      "\u001b[32m[1019 08:51:36 @monitor.py:467]\u001b[0m GAN_loss/discrim/loss: 0.63914\n",
      "\u001b[32m[1019 08:51:36 @monitor.py:467]\u001b[0m GAN_loss/gen/final-g-loss: 1.22\n",
      "\u001b[32m[1019 08:51:36 @monitor.py:467]\u001b[0m GAN_loss/gen/klloss: 0.084141\n",
      "\u001b[32m[1019 08:51:36 @monitor.py:467]\u001b[0m GAN_loss/gen/loss: 1.1359\n",
      "\u001b[32m[1019 08:51:36 @monitor.py:467]\u001b[0m QueueInput/queue_size: 50\n",
      "\u001b[32m[1019 08:51:36 @base.py:275]\u001b[0m Start Epoch 1049 ...\n"
     ]
    },
    {
     "name": "stderr",
     "output_type": "stream",
     "text": [
      "100%|###################################################################################|175/175[00:05<00:00,31.73it/s]"
     ]
    },
    {
     "name": "stdout",
     "output_type": "stream",
     "text": [
      "\u001b[32m[1019 08:51:42 @base.py:285]\u001b[0m Epoch 1049 (global_step 183575) finished, time:5.52 seconds.\n",
      "\u001b[32m[1019 08:51:42 @saver.py:79]\u001b[0m Model saved to ../output/Chicago/DATGAN_asd29/model\\model-183575.\n"
     ]
    },
    {
     "name": "stderr",
     "output_type": "stream",
     "text": [
      "\n"
     ]
    },
    {
     "name": "stdout",
     "output_type": "stream",
     "text": [
      "\u001b[32m[1019 08:51:42 @monitor.py:467]\u001b[0m GAN_loss/discrim/accuracy_fake: 0.86\n",
      "\u001b[32m[1019 08:51:42 @monitor.py:467]\u001b[0m GAN_loss/discrim/accuracy_real: 0.244\n",
      "\u001b[32m[1019 08:51:42 @monitor.py:467]\u001b[0m GAN_loss/discrim/loss: 0.63459\n",
      "\u001b[32m[1019 08:51:42 @monitor.py:467]\u001b[0m GAN_loss/gen/final-g-loss: 1.2081\n",
      "\u001b[32m[1019 08:51:42 @monitor.py:467]\u001b[0m GAN_loss/gen/klloss: 0.079442\n",
      "\u001b[32m[1019 08:51:42 @monitor.py:467]\u001b[0m GAN_loss/gen/loss: 1.1286\n",
      "\u001b[32m[1019 08:51:42 @monitor.py:467]\u001b[0m QueueInput/queue_size: 50\n",
      "\u001b[32m[1019 08:51:42 @base.py:275]\u001b[0m Start Epoch 1050 ...\n"
     ]
    },
    {
     "name": "stderr",
     "output_type": "stream",
     "text": [
      "100%|###################################################################################|175/175[00:05<00:00,31.74it/s]"
     ]
    },
    {
     "name": "stdout",
     "output_type": "stream",
     "text": [
      "\u001b[32m[1019 08:51:47 @base.py:285]\u001b[0m Epoch 1050 (global_step 183750) finished, time:5.51 seconds.\n",
      "\u001b[32m[1019 08:51:47 @saver.py:79]\u001b[0m Model saved to ../output/Chicago/DATGAN_asd29/model\\model-183750.\n"
     ]
    },
    {
     "name": "stderr",
     "output_type": "stream",
     "text": [
      "\n"
     ]
    },
    {
     "name": "stdout",
     "output_type": "stream",
     "text": [
      "\u001b[32m[1019 08:51:48 @monitor.py:467]\u001b[0m GAN_loss/discrim/accuracy_fake: 0.846\n",
      "\u001b[32m[1019 08:51:48 @monitor.py:467]\u001b[0m GAN_loss/discrim/accuracy_real: 0.328\n",
      "\u001b[32m[1019 08:51:48 @monitor.py:467]\u001b[0m GAN_loss/discrim/loss: 0.62448\n",
      "\u001b[32m[1019 08:51:48 @monitor.py:467]\u001b[0m GAN_loss/gen/final-g-loss: 1.216\n",
      "\u001b[32m[1019 08:51:48 @monitor.py:467]\u001b[0m GAN_loss/gen/klloss: 0.072984\n",
      "\u001b[32m[1019 08:51:48 @monitor.py:467]\u001b[0m GAN_loss/gen/loss: 1.143\n",
      "\u001b[32m[1019 08:51:48 @monitor.py:467]\u001b[0m QueueInput/queue_size: 50\n",
      "\u001b[32m[1019 08:51:48 @base.py:275]\u001b[0m Start Epoch 1051 ...\n"
     ]
    },
    {
     "name": "stderr",
     "output_type": "stream",
     "text": [
      "100%|###################################################################################|175/175[00:05<00:00,31.61it/s]"
     ]
    },
    {
     "name": "stdout",
     "output_type": "stream",
     "text": [
      "\u001b[32m[1019 08:51:53 @base.py:285]\u001b[0m Epoch 1051 (global_step 183925) finished, time:5.54 seconds.\n",
      "\u001b[32m[1019 08:51:53 @saver.py:79]\u001b[0m Model saved to ../output/Chicago/DATGAN_asd29/model\\model-183925.\n"
     ]
    },
    {
     "name": "stderr",
     "output_type": "stream",
     "text": [
      "\n"
     ]
    },
    {
     "name": "stdout",
     "output_type": "stream",
     "text": [
      "\u001b[32m[1019 08:51:53 @monitor.py:467]\u001b[0m GAN_loss/discrim/accuracy_fake: 0.808\n",
      "\u001b[32m[1019 08:51:53 @monitor.py:467]\u001b[0m GAN_loss/discrim/accuracy_real: 0.308\n",
      "\u001b[32m[1019 08:51:53 @monitor.py:467]\u001b[0m GAN_loss/discrim/loss: 0.63408\n",
      "\u001b[32m[1019 08:51:53 @monitor.py:467]\u001b[0m GAN_loss/gen/final-g-loss: 1.2088\n",
      "\u001b[32m[1019 08:51:53 @monitor.py:467]\u001b[0m GAN_loss/gen/klloss: 0.062905\n",
      "\u001b[32m[1019 08:51:53 @monitor.py:467]\u001b[0m GAN_loss/gen/loss: 1.1459\n",
      "\u001b[32m[1019 08:51:53 @monitor.py:467]\u001b[0m QueueInput/queue_size: 50\n",
      "\u001b[32m[1019 08:51:53 @base.py:275]\u001b[0m Start Epoch 1052 ...\n"
     ]
    },
    {
     "name": "stderr",
     "output_type": "stream",
     "text": [
      "100%|###################################################################################|175/175[00:05<00:00,31.69it/s]"
     ]
    },
    {
     "name": "stdout",
     "output_type": "stream",
     "text": [
      "\u001b[32m[1019 08:51:59 @base.py:285]\u001b[0m Epoch 1052 (global_step 184100) finished, time:5.52 seconds.\n",
      "\u001b[32m[1019 08:51:59 @saver.py:79]\u001b[0m Model saved to ../output/Chicago/DATGAN_asd29/model\\model-184100.\n"
     ]
    },
    {
     "name": "stderr",
     "output_type": "stream",
     "text": [
      "\n"
     ]
    },
    {
     "name": "stdout",
     "output_type": "stream",
     "text": [
      "\u001b[32m[1019 08:51:59 @monitor.py:467]\u001b[0m GAN_loss/discrim/accuracy_fake: 0.84\n",
      "\u001b[32m[1019 08:51:59 @monitor.py:467]\u001b[0m GAN_loss/discrim/accuracy_real: 0.298\n",
      "\u001b[32m[1019 08:51:59 @monitor.py:467]\u001b[0m GAN_loss/discrim/loss: 0.63588\n",
      "\u001b[32m[1019 08:51:59 @monitor.py:467]\u001b[0m GAN_loss/gen/final-g-loss: 1.2366\n",
      "\u001b[32m[1019 08:51:59 @monitor.py:467]\u001b[0m GAN_loss/gen/klloss: 0.083422\n",
      "\u001b[32m[1019 08:51:59 @monitor.py:467]\u001b[0m GAN_loss/gen/loss: 1.1531\n",
      "\u001b[32m[1019 08:51:59 @monitor.py:467]\u001b[0m QueueInput/queue_size: 50\n",
      "\u001b[32m[1019 08:51:59 @base.py:275]\u001b[0m Start Epoch 1053 ...\n"
     ]
    },
    {
     "name": "stderr",
     "output_type": "stream",
     "text": [
      "100%|###################################################################################|175/175[00:05<00:00,31.76it/s]"
     ]
    },
    {
     "name": "stdout",
     "output_type": "stream",
     "text": [
      "\u001b[32m[1019 08:52:05 @base.py:285]\u001b[0m Epoch 1053 (global_step 184275) finished, time:5.51 seconds.\n",
      "\u001b[32m[1019 08:52:05 @saver.py:79]\u001b[0m Model saved to ../output/Chicago/DATGAN_asd29/model\\model-184275.\n"
     ]
    },
    {
     "name": "stderr",
     "output_type": "stream",
     "text": [
      "\n"
     ]
    },
    {
     "name": "stdout",
     "output_type": "stream",
     "text": [
      "\u001b[32m[1019 08:52:05 @monitor.py:467]\u001b[0m GAN_loss/discrim/accuracy_fake: 0.844\n",
      "\u001b[32m[1019 08:52:05 @monitor.py:467]\u001b[0m GAN_loss/discrim/accuracy_real: 0.272\n",
      "\u001b[32m[1019 08:52:05 @monitor.py:467]\u001b[0m GAN_loss/discrim/loss: 0.64254\n",
      "\u001b[32m[1019 08:52:05 @monitor.py:467]\u001b[0m GAN_loss/gen/final-g-loss: 1.2355\n",
      "\u001b[32m[1019 08:52:05 @monitor.py:467]\u001b[0m GAN_loss/gen/klloss: 0.065476\n",
      "\u001b[32m[1019 08:52:05 @monitor.py:467]\u001b[0m GAN_loss/gen/loss: 1.17\n",
      "\u001b[32m[1019 08:52:05 @monitor.py:467]\u001b[0m QueueInput/queue_size: 50\n",
      "\u001b[32m[1019 08:52:05 @base.py:275]\u001b[0m Start Epoch 1054 ...\n"
     ]
    },
    {
     "name": "stderr",
     "output_type": "stream",
     "text": [
      "100%|###################################################################################|175/175[00:05<00:00,31.69it/s]"
     ]
    },
    {
     "name": "stdout",
     "output_type": "stream",
     "text": [
      "\u001b[32m[1019 08:52:10 @base.py:285]\u001b[0m Epoch 1054 (global_step 184450) finished, time:5.52 seconds.\n",
      "\u001b[32m[1019 08:52:11 @saver.py:79]\u001b[0m Model saved to ../output/Chicago/DATGAN_asd29/model\\model-184450.\n"
     ]
    },
    {
     "name": "stderr",
     "output_type": "stream",
     "text": [
      "\n"
     ]
    },
    {
     "name": "stdout",
     "output_type": "stream",
     "text": [
      "\u001b[32m[1019 08:52:11 @monitor.py:467]\u001b[0m GAN_loss/discrim/accuracy_fake: 0.852\n",
      "\u001b[32m[1019 08:52:11 @monitor.py:467]\u001b[0m GAN_loss/discrim/accuracy_real: 0.324\n",
      "\u001b[32m[1019 08:52:11 @monitor.py:467]\u001b[0m GAN_loss/discrim/loss: 0.62795\n",
      "\u001b[32m[1019 08:52:11 @monitor.py:467]\u001b[0m GAN_loss/gen/final-g-loss: 1.229\n",
      "\u001b[32m[1019 08:52:11 @monitor.py:467]\u001b[0m GAN_loss/gen/klloss: 0.053034\n",
      "\u001b[32m[1019 08:52:11 @monitor.py:467]\u001b[0m GAN_loss/gen/loss: 1.176\n",
      "\u001b[32m[1019 08:52:11 @monitor.py:467]\u001b[0m QueueInput/queue_size: 50\n",
      "\u001b[32m[1019 08:52:11 @base.py:275]\u001b[0m Start Epoch 1055 ...\n"
     ]
    },
    {
     "name": "stderr",
     "output_type": "stream",
     "text": [
      "100%|###################################################################################|175/175[00:05<00:00,31.73it/s]"
     ]
    },
    {
     "name": "stdout",
     "output_type": "stream",
     "text": [
      "\u001b[32m[1019 08:52:16 @base.py:285]\u001b[0m Epoch 1055 (global_step 184625) finished, time:5.52 seconds.\n",
      "\u001b[32m[1019 08:52:16 @saver.py:79]\u001b[0m Model saved to ../output/Chicago/DATGAN_asd29/model\\model-184625.\n"
     ]
    },
    {
     "name": "stderr",
     "output_type": "stream",
     "text": [
      "\n"
     ]
    },
    {
     "name": "stdout",
     "output_type": "stream",
     "text": [
      "\u001b[32m[1019 08:52:16 @monitor.py:467]\u001b[0m GAN_loss/discrim/accuracy_fake: 0.846\n",
      "\u001b[32m[1019 08:52:16 @monitor.py:467]\u001b[0m GAN_loss/discrim/accuracy_real: 0.266\n",
      "\u001b[32m[1019 08:52:16 @monitor.py:467]\u001b[0m GAN_loss/discrim/loss: 0.63364\n",
      "\u001b[32m[1019 08:52:16 @monitor.py:467]\u001b[0m GAN_loss/gen/final-g-loss: 1.207\n",
      "\u001b[32m[1019 08:52:16 @monitor.py:467]\u001b[0m GAN_loss/gen/klloss: 0.053848\n",
      "\u001b[32m[1019 08:52:16 @monitor.py:467]\u001b[0m GAN_loss/gen/loss: 1.1531\n",
      "\u001b[32m[1019 08:52:16 @monitor.py:467]\u001b[0m QueueInput/queue_size: 50\n",
      "\u001b[32m[1019 08:52:16 @base.py:275]\u001b[0m Start Epoch 1056 ...\n"
     ]
    },
    {
     "name": "stderr",
     "output_type": "stream",
     "text": [
      "100%|###################################################################################|175/175[00:05<00:00,31.67it/s]"
     ]
    },
    {
     "name": "stdout",
     "output_type": "stream",
     "text": [
      "\u001b[32m[1019 08:52:22 @base.py:285]\u001b[0m Epoch 1056 (global_step 184800) finished, time:5.53 seconds.\n",
      "\u001b[32m[1019 08:52:22 @saver.py:79]\u001b[0m Model saved to ../output/Chicago/DATGAN_asd29/model\\model-184800.\n"
     ]
    },
    {
     "name": "stderr",
     "output_type": "stream",
     "text": [
      "\n"
     ]
    },
    {
     "name": "stdout",
     "output_type": "stream",
     "text": [
      "\u001b[32m[1019 08:52:22 @monitor.py:467]\u001b[0m GAN_loss/discrim/accuracy_fake: 0.818\n",
      "\u001b[32m[1019 08:52:22 @monitor.py:467]\u001b[0m GAN_loss/discrim/accuracy_real: 0.406\n",
      "\u001b[32m[1019 08:52:22 @monitor.py:467]\u001b[0m GAN_loss/discrim/loss: 0.61254\n",
      "\u001b[32m[1019 08:52:22 @monitor.py:467]\u001b[0m GAN_loss/gen/final-g-loss: 1.2219\n",
      "\u001b[32m[1019 08:52:22 @monitor.py:467]\u001b[0m GAN_loss/gen/klloss: 0.086728\n",
      "\u001b[32m[1019 08:52:22 @monitor.py:467]\u001b[0m GAN_loss/gen/loss: 1.1351\n",
      "\u001b[32m[1019 08:52:22 @monitor.py:467]\u001b[0m QueueInput/queue_size: 50\n",
      "\u001b[32m[1019 08:52:22 @base.py:275]\u001b[0m Start Epoch 1057 ...\n"
     ]
    },
    {
     "name": "stderr",
     "output_type": "stream",
     "text": [
      "100%|###################################################################################|175/175[00:05<00:00,31.66it/s]"
     ]
    },
    {
     "name": "stdout",
     "output_type": "stream",
     "text": [
      "\u001b[32m[1019 08:52:28 @base.py:285]\u001b[0m Epoch 1057 (global_step 184975) finished, time:5.53 seconds.\n",
      "\u001b[32m[1019 08:52:28 @saver.py:79]\u001b[0m Model saved to ../output/Chicago/DATGAN_asd29/model\\model-184975.\n"
     ]
    },
    {
     "name": "stderr",
     "output_type": "stream",
     "text": [
      "\n"
     ]
    },
    {
     "name": "stdout",
     "output_type": "stream",
     "text": [
      "\u001b[32m[1019 08:52:28 @monitor.py:467]\u001b[0m GAN_loss/discrim/accuracy_fake: 0.836\n",
      "\u001b[32m[1019 08:52:28 @monitor.py:467]\u001b[0m GAN_loss/discrim/accuracy_real: 0.27\n",
      "\u001b[32m[1019 08:52:28 @monitor.py:467]\u001b[0m GAN_loss/discrim/loss: 0.64485\n",
      "\u001b[32m[1019 08:52:28 @monitor.py:467]\u001b[0m GAN_loss/gen/final-g-loss: 1.1967\n",
      "\u001b[32m[1019 08:52:28 @monitor.py:467]\u001b[0m GAN_loss/gen/klloss: 0.047451\n",
      "\u001b[32m[1019 08:52:28 @monitor.py:467]\u001b[0m GAN_loss/gen/loss: 1.1492\n",
      "\u001b[32m[1019 08:52:28 @monitor.py:467]\u001b[0m QueueInput/queue_size: 50\n",
      "\u001b[32m[1019 08:52:28 @base.py:275]\u001b[0m Start Epoch 1058 ...\n"
     ]
    },
    {
     "name": "stderr",
     "output_type": "stream",
     "text": [
      "100%|###################################################################################|175/175[00:05<00:00,31.60it/s]"
     ]
    },
    {
     "name": "stdout",
     "output_type": "stream",
     "text": [
      "\u001b[32m[1019 08:52:34 @base.py:285]\u001b[0m Epoch 1058 (global_step 185150) finished, time:5.54 seconds.\n",
      "\u001b[32m[1019 08:52:34 @saver.py:79]\u001b[0m Model saved to ../output/Chicago/DATGAN_asd29/model\\model-185150.\n"
     ]
    },
    {
     "name": "stderr",
     "output_type": "stream",
     "text": [
      "\n"
     ]
    },
    {
     "name": "stdout",
     "output_type": "stream",
     "text": [
      "\u001b[32m[1019 08:52:34 @monitor.py:467]\u001b[0m GAN_loss/discrim/accuracy_fake: 0.868\n",
      "\u001b[32m[1019 08:52:34 @monitor.py:467]\u001b[0m GAN_loss/discrim/accuracy_real: 0.296\n",
      "\u001b[32m[1019 08:52:34 @monitor.py:467]\u001b[0m GAN_loss/discrim/loss: 0.62222\n",
      "\u001b[32m[1019 08:52:34 @monitor.py:467]\u001b[0m GAN_loss/gen/final-g-loss: 1.2375\n",
      "\u001b[32m[1019 08:52:34 @monitor.py:467]\u001b[0m GAN_loss/gen/klloss: 0.045869\n",
      "\u001b[32m[1019 08:52:34 @monitor.py:467]\u001b[0m GAN_loss/gen/loss: 1.1916\n",
      "\u001b[32m[1019 08:52:34 @monitor.py:467]\u001b[0m QueueInput/queue_size: 50\n",
      "\u001b[32m[1019 08:52:34 @base.py:275]\u001b[0m Start Epoch 1059 ...\n"
     ]
    },
    {
     "name": "stderr",
     "output_type": "stream",
     "text": [
      "100%|###################################################################################|175/175[00:05<00:00,31.73it/s]"
     ]
    },
    {
     "name": "stdout",
     "output_type": "stream",
     "text": [
      "\u001b[32m[1019 08:52:39 @base.py:285]\u001b[0m Epoch 1059 (global_step 185325) finished, time:5.52 seconds.\n",
      "\u001b[32m[1019 08:52:39 @saver.py:79]\u001b[0m Model saved to ../output/Chicago/DATGAN_asd29/model\\model-185325.\n"
     ]
    },
    {
     "name": "stderr",
     "output_type": "stream",
     "text": [
      "\n"
     ]
    },
    {
     "name": "stdout",
     "output_type": "stream",
     "text": [
      "\u001b[32m[1019 08:52:40 @monitor.py:467]\u001b[0m GAN_loss/discrim/accuracy_fake: 0.812\n",
      "\u001b[32m[1019 08:52:40 @monitor.py:467]\u001b[0m GAN_loss/discrim/accuracy_real: 0.292\n",
      "\u001b[32m[1019 08:52:40 @monitor.py:467]\u001b[0m GAN_loss/discrim/loss: 0.63583\n",
      "\u001b[32m[1019 08:52:40 @monitor.py:467]\u001b[0m GAN_loss/gen/final-g-loss: 1.2047\n",
      "\u001b[32m[1019 08:52:40 @monitor.py:467]\u001b[0m GAN_loss/gen/klloss: 0.059644\n",
      "\u001b[32m[1019 08:52:40 @monitor.py:467]\u001b[0m GAN_loss/gen/loss: 1.1451\n",
      "\u001b[32m[1019 08:52:40 @monitor.py:467]\u001b[0m QueueInput/queue_size: 50\n",
      "\u001b[32m[1019 08:52:40 @base.py:275]\u001b[0m Start Epoch 1060 ...\n"
     ]
    },
    {
     "name": "stderr",
     "output_type": "stream",
     "text": [
      "100%|###################################################################################|175/175[00:05<00:00,31.72it/s]"
     ]
    },
    {
     "name": "stdout",
     "output_type": "stream",
     "text": [
      "\u001b[32m[1019 08:52:45 @base.py:285]\u001b[0m Epoch 1060 (global_step 185500) finished, time:5.52 seconds.\n",
      "\u001b[32m[1019 08:52:45 @saver.py:79]\u001b[0m Model saved to ../output/Chicago/DATGAN_asd29/model\\model-185500.\n"
     ]
    },
    {
     "name": "stderr",
     "output_type": "stream",
     "text": [
      "\n"
     ]
    },
    {
     "name": "stdout",
     "output_type": "stream",
     "text": [
      "\u001b[32m[1019 08:52:45 @monitor.py:467]\u001b[0m GAN_loss/discrim/accuracy_fake: 0.832\n",
      "\u001b[32m[1019 08:52:45 @monitor.py:467]\u001b[0m GAN_loss/discrim/accuracy_real: 0.248\n",
      "\u001b[32m[1019 08:52:45 @monitor.py:467]\u001b[0m GAN_loss/discrim/loss: 0.64192\n",
      "\u001b[32m[1019 08:52:45 @monitor.py:467]\u001b[0m GAN_loss/gen/final-g-loss: 1.1837\n",
      "\u001b[32m[1019 08:52:45 @monitor.py:467]\u001b[0m GAN_loss/gen/klloss: 0.054505\n",
      "\u001b[32m[1019 08:52:45 @monitor.py:467]\u001b[0m GAN_loss/gen/loss: 1.1292\n",
      "\u001b[32m[1019 08:52:45 @monitor.py:467]\u001b[0m QueueInput/queue_size: 50\n",
      "\u001b[32m[1019 08:52:45 @base.py:275]\u001b[0m Start Epoch 1061 ...\n"
     ]
    },
    {
     "name": "stderr",
     "output_type": "stream",
     "text": [
      "100%|###################################################################################|175/175[00:05<00:00,31.72it/s]"
     ]
    },
    {
     "name": "stdout",
     "output_type": "stream",
     "text": [
      "\u001b[32m[1019 08:52:51 @base.py:285]\u001b[0m Epoch 1061 (global_step 185675) finished, time:5.52 seconds.\n",
      "\u001b[32m[1019 08:52:51 @saver.py:79]\u001b[0m Model saved to ../output/Chicago/DATGAN_asd29/model\\model-185675.\n"
     ]
    },
    {
     "name": "stderr",
     "output_type": "stream",
     "text": [
      "\n"
     ]
    },
    {
     "name": "stdout",
     "output_type": "stream",
     "text": [
      "\u001b[32m[1019 08:52:51 @monitor.py:467]\u001b[0m GAN_loss/discrim/accuracy_fake: 0.814\n",
      "\u001b[32m[1019 08:52:51 @monitor.py:467]\u001b[0m GAN_loss/discrim/accuracy_real: 0.33\n",
      "\u001b[32m[1019 08:52:51 @monitor.py:467]\u001b[0m GAN_loss/discrim/loss: 0.63273\n",
      "\u001b[32m[1019 08:52:51 @monitor.py:467]\u001b[0m GAN_loss/gen/final-g-loss: 1.2024\n",
      "\u001b[32m[1019 08:52:51 @monitor.py:467]\u001b[0m GAN_loss/gen/klloss: 0.058642\n",
      "\u001b[32m[1019 08:52:51 @monitor.py:467]\u001b[0m GAN_loss/gen/loss: 1.1437\n",
      "\u001b[32m[1019 08:52:51 @monitor.py:467]\u001b[0m QueueInput/queue_size: 50\n",
      "\u001b[32m[1019 08:52:51 @base.py:275]\u001b[0m Start Epoch 1062 ...\n"
     ]
    },
    {
     "name": "stderr",
     "output_type": "stream",
     "text": [
      "100%|###################################################################################|175/175[00:05<00:00,31.72it/s]"
     ]
    },
    {
     "name": "stdout",
     "output_type": "stream",
     "text": [
      "\u001b[32m[1019 08:52:57 @base.py:285]\u001b[0m Epoch 1062 (global_step 185850) finished, time:5.52 seconds.\n",
      "\u001b[32m[1019 08:52:57 @saver.py:79]\u001b[0m Model saved to ../output/Chicago/DATGAN_asd29/model\\model-185850.\n"
     ]
    },
    {
     "name": "stderr",
     "output_type": "stream",
     "text": [
      "\n"
     ]
    },
    {
     "name": "stdout",
     "output_type": "stream",
     "text": [
      "\u001b[32m[1019 08:52:57 @monitor.py:467]\u001b[0m GAN_loss/discrim/accuracy_fake: 0.872\n",
      "\u001b[32m[1019 08:52:57 @monitor.py:467]\u001b[0m GAN_loss/discrim/accuracy_real: 0.286\n",
      "\u001b[32m[1019 08:52:57 @monitor.py:467]\u001b[0m GAN_loss/discrim/loss: 0.64011\n",
      "\u001b[32m[1019 08:52:57 @monitor.py:467]\u001b[0m GAN_loss/gen/final-g-loss: 1.2012\n",
      "\u001b[32m[1019 08:52:57 @monitor.py:467]\u001b[0m GAN_loss/gen/klloss: 0.052565\n",
      "\u001b[32m[1019 08:52:57 @monitor.py:467]\u001b[0m GAN_loss/gen/loss: 1.1486\n",
      "\u001b[32m[1019 08:52:57 @monitor.py:467]\u001b[0m QueueInput/queue_size: 50\n",
      "\u001b[32m[1019 08:52:57 @base.py:275]\u001b[0m Start Epoch 1063 ...\n"
     ]
    },
    {
     "name": "stderr",
     "output_type": "stream",
     "text": [
      "100%|###################################################################################|175/175[00:05<00:00,31.75it/s]"
     ]
    },
    {
     "name": "stdout",
     "output_type": "stream",
     "text": [
      "\u001b[32m[1019 08:53:02 @base.py:285]\u001b[0m Epoch 1063 (global_step 186025) finished, time:5.51 seconds.\n",
      "\u001b[32m[1019 08:53:03 @saver.py:79]\u001b[0m Model saved to ../output/Chicago/DATGAN_asd29/model\\model-186025.\n"
     ]
    },
    {
     "name": "stderr",
     "output_type": "stream",
     "text": [
      "\n"
     ]
    },
    {
     "name": "stdout",
     "output_type": "stream",
     "text": [
      "\u001b[32m[1019 08:53:03 @monitor.py:467]\u001b[0m GAN_loss/discrim/accuracy_fake: 0.82\n",
      "\u001b[32m[1019 08:53:03 @monitor.py:467]\u001b[0m GAN_loss/discrim/accuracy_real: 0.278\n",
      "\u001b[32m[1019 08:53:03 @monitor.py:467]\u001b[0m GAN_loss/discrim/loss: 0.64552\n",
      "\u001b[32m[1019 08:53:03 @monitor.py:467]\u001b[0m GAN_loss/gen/final-g-loss: 1.1943\n",
      "\u001b[32m[1019 08:53:03 @monitor.py:467]\u001b[0m GAN_loss/gen/klloss: 0.072287\n",
      "\u001b[32m[1019 08:53:03 @monitor.py:467]\u001b[0m GAN_loss/gen/loss: 1.122\n",
      "\u001b[32m[1019 08:53:03 @monitor.py:467]\u001b[0m QueueInput/queue_size: 50\n",
      "\u001b[32m[1019 08:53:03 @base.py:275]\u001b[0m Start Epoch 1064 ...\n"
     ]
    },
    {
     "name": "stderr",
     "output_type": "stream",
     "text": [
      "100%|###################################################################################|175/175[00:05<00:00,31.71it/s]"
     ]
    },
    {
     "name": "stdout",
     "output_type": "stream",
     "text": [
      "\u001b[32m[1019 08:53:08 @base.py:285]\u001b[0m Epoch 1064 (global_step 186200) finished, time:5.52 seconds.\n",
      "\u001b[32m[1019 08:53:08 @saver.py:79]\u001b[0m Model saved to ../output/Chicago/DATGAN_asd29/model\\model-186200.\n"
     ]
    },
    {
     "name": "stderr",
     "output_type": "stream",
     "text": [
      "\n"
     ]
    },
    {
     "name": "stdout",
     "output_type": "stream",
     "text": [
      "\u001b[32m[1019 08:53:09 @monitor.py:467]\u001b[0m GAN_loss/discrim/accuracy_fake: 0.86\n",
      "\u001b[32m[1019 08:53:09 @monitor.py:467]\u001b[0m GAN_loss/discrim/accuracy_real: 0.252\n",
      "\u001b[32m[1019 08:53:09 @monitor.py:467]\u001b[0m GAN_loss/discrim/loss: 0.6315\n",
      "\u001b[32m[1019 08:53:09 @monitor.py:467]\u001b[0m GAN_loss/gen/final-g-loss: 1.2071\n",
      "\u001b[32m[1019 08:53:09 @monitor.py:467]\u001b[0m GAN_loss/gen/klloss: 0.057848\n",
      "\u001b[32m[1019 08:53:09 @monitor.py:467]\u001b[0m GAN_loss/gen/loss: 1.1492\n",
      "\u001b[32m[1019 08:53:09 @monitor.py:467]\u001b[0m QueueInput/queue_size: 50\n",
      "\u001b[32m[1019 08:53:09 @base.py:275]\u001b[0m Start Epoch 1065 ...\n"
     ]
    },
    {
     "name": "stderr",
     "output_type": "stream",
     "text": [
      "100%|###################################################################################|175/175[00:05<00:00,31.78it/s]"
     ]
    },
    {
     "name": "stdout",
     "output_type": "stream",
     "text": [
      "\u001b[32m[1019 08:53:14 @base.py:285]\u001b[0m Epoch 1065 (global_step 186375) finished, time:5.51 seconds.\n",
      "\u001b[32m[1019 08:53:14 @saver.py:79]\u001b[0m Model saved to ../output/Chicago/DATGAN_asd29/model\\model-186375.\n"
     ]
    },
    {
     "name": "stderr",
     "output_type": "stream",
     "text": [
      "\n"
     ]
    },
    {
     "name": "stdout",
     "output_type": "stream",
     "text": [
      "\u001b[32m[1019 08:53:14 @monitor.py:467]\u001b[0m GAN_loss/discrim/accuracy_fake: 0.842\n",
      "\u001b[32m[1019 08:53:14 @monitor.py:467]\u001b[0m GAN_loss/discrim/accuracy_real: 0.262\n",
      "\u001b[32m[1019 08:53:14 @monitor.py:467]\u001b[0m GAN_loss/discrim/loss: 0.6367\n",
      "\u001b[32m[1019 08:53:14 @monitor.py:467]\u001b[0m GAN_loss/gen/final-g-loss: 1.2062\n",
      "\u001b[32m[1019 08:53:14 @monitor.py:467]\u001b[0m GAN_loss/gen/klloss: 0.072181\n",
      "\u001b[32m[1019 08:53:14 @monitor.py:467]\u001b[0m GAN_loss/gen/loss: 1.134\n",
      "\u001b[32m[1019 08:53:14 @monitor.py:467]\u001b[0m QueueInput/queue_size: 50\n",
      "\u001b[32m[1019 08:53:14 @base.py:275]\u001b[0m Start Epoch 1066 ...\n"
     ]
    },
    {
     "name": "stderr",
     "output_type": "stream",
     "text": [
      "100%|###################################################################################|175/175[00:05<00:00,31.72it/s]"
     ]
    },
    {
     "name": "stdout",
     "output_type": "stream",
     "text": [
      "\u001b[32m[1019 08:53:20 @base.py:285]\u001b[0m Epoch 1066 (global_step 186550) finished, time:5.52 seconds.\n",
      "\u001b[32m[1019 08:53:20 @saver.py:79]\u001b[0m Model saved to ../output/Chicago/DATGAN_asd29/model\\model-186550.\n"
     ]
    },
    {
     "name": "stderr",
     "output_type": "stream",
     "text": [
      "\n"
     ]
    },
    {
     "name": "stdout",
     "output_type": "stream",
     "text": [
      "\u001b[32m[1019 08:53:20 @monitor.py:467]\u001b[0m GAN_loss/discrim/accuracy_fake: 0.882\n",
      "\u001b[32m[1019 08:53:20 @monitor.py:467]\u001b[0m GAN_loss/discrim/accuracy_real: 0.202\n",
      "\u001b[32m[1019 08:53:20 @monitor.py:467]\u001b[0m GAN_loss/discrim/loss: 0.63821\n",
      "\u001b[32m[1019 08:53:20 @monitor.py:467]\u001b[0m GAN_loss/gen/final-g-loss: 1.2198\n",
      "\u001b[32m[1019 08:53:20 @monitor.py:467]\u001b[0m GAN_loss/gen/klloss: 0.075571\n",
      "\u001b[32m[1019 08:53:20 @monitor.py:467]\u001b[0m GAN_loss/gen/loss: 1.1442\n",
      "\u001b[32m[1019 08:53:20 @monitor.py:467]\u001b[0m QueueInput/queue_size: 50\n",
      "\u001b[32m[1019 08:53:20 @base.py:275]\u001b[0m Start Epoch 1067 ...\n"
     ]
    },
    {
     "name": "stderr",
     "output_type": "stream",
     "text": [
      "100%|###################################################################################|175/175[00:05<00:00,31.69it/s]"
     ]
    },
    {
     "name": "stdout",
     "output_type": "stream",
     "text": [
      "\u001b[32m[1019 08:53:26 @base.py:285]\u001b[0m Epoch 1067 (global_step 186725) finished, time:5.52 seconds.\n",
      "\u001b[32m[1019 08:53:26 @saver.py:79]\u001b[0m Model saved to ../output/Chicago/DATGAN_asd29/model\\model-186725.\n"
     ]
    },
    {
     "name": "stderr",
     "output_type": "stream",
     "text": [
      "\n"
     ]
    },
    {
     "name": "stdout",
     "output_type": "stream",
     "text": [
      "\u001b[32m[1019 08:53:26 @monitor.py:467]\u001b[0m GAN_loss/discrim/accuracy_fake: 0.858\n",
      "\u001b[32m[1019 08:53:26 @monitor.py:467]\u001b[0m GAN_loss/discrim/accuracy_real: 0.24\n",
      "\u001b[32m[1019 08:53:26 @monitor.py:467]\u001b[0m GAN_loss/discrim/loss: 0.6393\n",
      "\u001b[32m[1019 08:53:26 @monitor.py:467]\u001b[0m GAN_loss/gen/final-g-loss: 1.2125\n",
      "\u001b[32m[1019 08:53:26 @monitor.py:467]\u001b[0m GAN_loss/gen/klloss: 0.081655\n",
      "\u001b[32m[1019 08:53:26 @monitor.py:467]\u001b[0m GAN_loss/gen/loss: 1.1309\n",
      "\u001b[32m[1019 08:53:26 @monitor.py:467]\u001b[0m QueueInput/queue_size: 50\n",
      "\u001b[32m[1019 08:53:26 @base.py:275]\u001b[0m Start Epoch 1068 ...\n"
     ]
    },
    {
     "name": "stderr",
     "output_type": "stream",
     "text": [
      "100%|###################################################################################|175/175[00:05<00:00,31.55it/s]"
     ]
    },
    {
     "name": "stdout",
     "output_type": "stream",
     "text": [
      "\u001b[32m[1019 08:53:31 @base.py:285]\u001b[0m Epoch 1068 (global_step 186900) finished, time:5.55 seconds.\n",
      "\u001b[32m[1019 08:53:31 @saver.py:79]\u001b[0m Model saved to ../output/Chicago/DATGAN_asd29/model\\model-186900.\n"
     ]
    },
    {
     "name": "stderr",
     "output_type": "stream",
     "text": [
      "\n"
     ]
    },
    {
     "name": "stdout",
     "output_type": "stream",
     "text": [
      "\u001b[32m[1019 08:53:32 @monitor.py:467]\u001b[0m GAN_loss/discrim/accuracy_fake: 0.878\n",
      "\u001b[32m[1019 08:53:32 @monitor.py:467]\u001b[0m GAN_loss/discrim/accuracy_real: 0.302\n",
      "\u001b[32m[1019 08:53:32 @monitor.py:467]\u001b[0m GAN_loss/discrim/loss: 0.62659\n",
      "\u001b[32m[1019 08:53:32 @monitor.py:467]\u001b[0m GAN_loss/gen/final-g-loss: 1.2977\n",
      "\u001b[32m[1019 08:53:32 @monitor.py:467]\u001b[0m GAN_loss/gen/klloss: 0.11986\n",
      "\u001b[32m[1019 08:53:32 @monitor.py:467]\u001b[0m GAN_loss/gen/loss: 1.1779\n",
      "\u001b[32m[1019 08:53:32 @monitor.py:467]\u001b[0m QueueInput/queue_size: 50\n",
      "\u001b[32m[1019 08:53:32 @base.py:275]\u001b[0m Start Epoch 1069 ...\n"
     ]
    },
    {
     "name": "stderr",
     "output_type": "stream",
     "text": [
      "100%|###################################################################################|175/175[00:05<00:00,31.75it/s]"
     ]
    },
    {
     "name": "stdout",
     "output_type": "stream",
     "text": [
      "\u001b[32m[1019 08:53:37 @base.py:285]\u001b[0m Epoch 1069 (global_step 187075) finished, time:5.51 seconds.\n",
      "\u001b[32m[1019 08:53:37 @saver.py:79]\u001b[0m Model saved to ../output/Chicago/DATGAN_asd29/model\\model-187075.\n"
     ]
    },
    {
     "name": "stderr",
     "output_type": "stream",
     "text": [
      "\n"
     ]
    },
    {
     "name": "stdout",
     "output_type": "stream",
     "text": [
      "\u001b[32m[1019 08:53:37 @monitor.py:467]\u001b[0m GAN_loss/discrim/accuracy_fake: 0.836\n",
      "\u001b[32m[1019 08:53:37 @monitor.py:467]\u001b[0m GAN_loss/discrim/accuracy_real: 0.274\n",
      "\u001b[32m[1019 08:53:37 @monitor.py:467]\u001b[0m GAN_loss/discrim/loss: 0.63276\n",
      "\u001b[32m[1019 08:53:37 @monitor.py:467]\u001b[0m GAN_loss/gen/final-g-loss: 1.2178\n",
      "\u001b[32m[1019 08:53:37 @monitor.py:467]\u001b[0m GAN_loss/gen/klloss: 0.04606\n",
      "\u001b[32m[1019 08:53:37 @monitor.py:467]\u001b[0m GAN_loss/gen/loss: 1.1718\n",
      "\u001b[32m[1019 08:53:37 @monitor.py:467]\u001b[0m QueueInput/queue_size: 50\n",
      "\u001b[32m[1019 08:53:37 @base.py:275]\u001b[0m Start Epoch 1070 ...\n"
     ]
    },
    {
     "name": "stderr",
     "output_type": "stream",
     "text": [
      "100%|###################################################################################|175/175[00:05<00:00,31.70it/s]"
     ]
    },
    {
     "name": "stdout",
     "output_type": "stream",
     "text": [
      "\u001b[32m[1019 08:53:43 @base.py:285]\u001b[0m Epoch 1070 (global_step 187250) finished, time:5.52 seconds.\n",
      "\u001b[32m[1019 08:53:43 @saver.py:79]\u001b[0m Model saved to ../output/Chicago/DATGAN_asd29/model\\model-187250.\n"
     ]
    },
    {
     "name": "stderr",
     "output_type": "stream",
     "text": [
      "\n"
     ]
    },
    {
     "name": "stdout",
     "output_type": "stream",
     "text": [
      "\u001b[32m[1019 08:53:43 @monitor.py:467]\u001b[0m GAN_loss/discrim/accuracy_fake: 0.854\n",
      "\u001b[32m[1019 08:53:43 @monitor.py:467]\u001b[0m GAN_loss/discrim/accuracy_real: 0.278\n",
      "\u001b[32m[1019 08:53:43 @monitor.py:467]\u001b[0m GAN_loss/discrim/loss: 0.63807\n",
      "\u001b[32m[1019 08:53:43 @monitor.py:467]\u001b[0m GAN_loss/gen/final-g-loss: 1.205\n",
      "\u001b[32m[1019 08:53:43 @monitor.py:467]\u001b[0m GAN_loss/gen/klloss: 0.054845\n",
      "\u001b[32m[1019 08:53:43 @monitor.py:467]\u001b[0m GAN_loss/gen/loss: 1.1502\n",
      "\u001b[32m[1019 08:53:43 @monitor.py:467]\u001b[0m QueueInput/queue_size: 50\n",
      "\u001b[32m[1019 08:53:43 @base.py:275]\u001b[0m Start Epoch 1071 ...\n"
     ]
    },
    {
     "name": "stderr",
     "output_type": "stream",
     "text": [
      "100%|###################################################################################|175/175[00:05<00:00,31.76it/s]"
     ]
    },
    {
     "name": "stdout",
     "output_type": "stream",
     "text": [
      "\u001b[32m[1019 08:53:49 @base.py:285]\u001b[0m Epoch 1071 (global_step 187425) finished, time:5.51 seconds.\n",
      "\u001b[32m[1019 08:53:49 @saver.py:79]\u001b[0m Model saved to ../output/Chicago/DATGAN_asd29/model\\model-187425.\n"
     ]
    },
    {
     "name": "stderr",
     "output_type": "stream",
     "text": [
      "\n"
     ]
    },
    {
     "name": "stdout",
     "output_type": "stream",
     "text": [
      "\u001b[32m[1019 08:53:49 @monitor.py:467]\u001b[0m GAN_loss/discrim/accuracy_fake: 0.854\n",
      "\u001b[32m[1019 08:53:49 @monitor.py:467]\u001b[0m GAN_loss/discrim/accuracy_real: 0.308\n",
      "\u001b[32m[1019 08:53:49 @monitor.py:467]\u001b[0m GAN_loss/discrim/loss: 0.63375\n",
      "\u001b[32m[1019 08:53:49 @monitor.py:467]\u001b[0m GAN_loss/gen/final-g-loss: 1.2605\n",
      "\u001b[32m[1019 08:53:49 @monitor.py:467]\u001b[0m GAN_loss/gen/klloss: 0.078414\n",
      "\u001b[32m[1019 08:53:49 @monitor.py:467]\u001b[0m GAN_loss/gen/loss: 1.182\n",
      "\u001b[32m[1019 08:53:49 @monitor.py:467]\u001b[0m QueueInput/queue_size: 50\n",
      "\u001b[32m[1019 08:53:49 @base.py:275]\u001b[0m Start Epoch 1072 ...\n"
     ]
    },
    {
     "name": "stderr",
     "output_type": "stream",
     "text": [
      "100%|###################################################################################|175/175[00:05<00:00,31.62it/s]"
     ]
    },
    {
     "name": "stdout",
     "output_type": "stream",
     "text": [
      "\u001b[32m[1019 08:53:55 @base.py:285]\u001b[0m Epoch 1072 (global_step 187600) finished, time:5.53 seconds.\n",
      "\u001b[32m[1019 08:53:55 @saver.py:79]\u001b[0m Model saved to ../output/Chicago/DATGAN_asd29/model\\model-187600.\n"
     ]
    },
    {
     "name": "stderr",
     "output_type": "stream",
     "text": [
      "\n"
     ]
    },
    {
     "name": "stdout",
     "output_type": "stream",
     "text": [
      "\u001b[32m[1019 08:53:55 @monitor.py:467]\u001b[0m GAN_loss/discrim/accuracy_fake: 0.86\n",
      "\u001b[32m[1019 08:53:55 @monitor.py:467]\u001b[0m GAN_loss/discrim/accuracy_real: 0.272\n",
      "\u001b[32m[1019 08:53:55 @monitor.py:467]\u001b[0m GAN_loss/discrim/loss: 0.63216\n",
      "\u001b[32m[1019 08:53:55 @monitor.py:467]\u001b[0m GAN_loss/gen/final-g-loss: 1.2337\n",
      "\u001b[32m[1019 08:53:55 @monitor.py:467]\u001b[0m GAN_loss/gen/klloss: 0.054052\n",
      "\u001b[32m[1019 08:53:55 @monitor.py:467]\u001b[0m GAN_loss/gen/loss: 1.1797\n",
      "\u001b[32m[1019 08:53:55 @monitor.py:467]\u001b[0m QueueInput/queue_size: 50\n",
      "\u001b[32m[1019 08:53:55 @base.py:275]\u001b[0m Start Epoch 1073 ...\n"
     ]
    },
    {
     "name": "stderr",
     "output_type": "stream",
     "text": [
      "100%|###################################################################################|175/175[00:05<00:00,31.72it/s]"
     ]
    },
    {
     "name": "stdout",
     "output_type": "stream",
     "text": [
      "\u001b[32m[1019 08:54:00 @base.py:285]\u001b[0m Epoch 1073 (global_step 187775) finished, time:5.52 seconds.\n",
      "\u001b[32m[1019 08:54:00 @saver.py:79]\u001b[0m Model saved to ../output/Chicago/DATGAN_asd29/model\\model-187775.\n"
     ]
    },
    {
     "name": "stderr",
     "output_type": "stream",
     "text": [
      "\n"
     ]
    },
    {
     "name": "stdout",
     "output_type": "stream",
     "text": [
      "\u001b[32m[1019 08:54:01 @monitor.py:467]\u001b[0m GAN_loss/discrim/accuracy_fake: 0.838\n",
      "\u001b[32m[1019 08:54:01 @monitor.py:467]\u001b[0m GAN_loss/discrim/accuracy_real: 0.328\n",
      "\u001b[32m[1019 08:54:01 @monitor.py:467]\u001b[0m GAN_loss/discrim/loss: 0.62672\n",
      "\u001b[32m[1019 08:54:01 @monitor.py:467]\u001b[0m GAN_loss/gen/final-g-loss: 1.2128\n",
      "\u001b[32m[1019 08:54:01 @monitor.py:467]\u001b[0m GAN_loss/gen/klloss: 0.054665\n",
      "\u001b[32m[1019 08:54:01 @monitor.py:467]\u001b[0m GAN_loss/gen/loss: 1.1581\n",
      "\u001b[32m[1019 08:54:01 @monitor.py:467]\u001b[0m QueueInput/queue_size: 50\n",
      "\u001b[32m[1019 08:54:01 @base.py:275]\u001b[0m Start Epoch 1074 ...\n"
     ]
    },
    {
     "name": "stderr",
     "output_type": "stream",
     "text": [
      "100%|###################################################################################|175/175[00:05<00:00,31.73it/s]"
     ]
    },
    {
     "name": "stdout",
     "output_type": "stream",
     "text": [
      "\u001b[32m[1019 08:54:06 @base.py:285]\u001b[0m Epoch 1074 (global_step 187950) finished, time:5.52 seconds.\n",
      "\u001b[32m[1019 08:54:06 @saver.py:79]\u001b[0m Model saved to ../output/Chicago/DATGAN_asd29/model\\model-187950.\n"
     ]
    },
    {
     "name": "stderr",
     "output_type": "stream",
     "text": [
      "\n"
     ]
    },
    {
     "name": "stdout",
     "output_type": "stream",
     "text": [
      "\u001b[32m[1019 08:54:06 @monitor.py:467]\u001b[0m GAN_loss/discrim/accuracy_fake: 0.838\n",
      "\u001b[32m[1019 08:54:06 @monitor.py:467]\u001b[0m GAN_loss/discrim/accuracy_real: 0.31\n",
      "\u001b[32m[1019 08:54:06 @monitor.py:467]\u001b[0m GAN_loss/discrim/loss: 0.63813\n",
      "\u001b[32m[1019 08:54:06 @monitor.py:467]\u001b[0m GAN_loss/gen/final-g-loss: 1.2214\n",
      "\u001b[32m[1019 08:54:06 @monitor.py:467]\u001b[0m GAN_loss/gen/klloss: 0.069561\n",
      "\u001b[32m[1019 08:54:06 @monitor.py:467]\u001b[0m GAN_loss/gen/loss: 1.1519\n",
      "\u001b[32m[1019 08:54:06 @monitor.py:467]\u001b[0m QueueInput/queue_size: 50\n",
      "\u001b[32m[1019 08:54:06 @base.py:275]\u001b[0m Start Epoch 1075 ...\n"
     ]
    },
    {
     "name": "stderr",
     "output_type": "stream",
     "text": [
      "100%|###################################################################################|175/175[00:05<00:00,31.72it/s]"
     ]
    },
    {
     "name": "stdout",
     "output_type": "stream",
     "text": [
      "\u001b[32m[1019 08:54:12 @base.py:285]\u001b[0m Epoch 1075 (global_step 188125) finished, time:5.52 seconds.\n",
      "\u001b[32m[1019 08:54:12 @saver.py:79]\u001b[0m Model saved to ../output/Chicago/DATGAN_asd29/model\\model-188125.\n"
     ]
    },
    {
     "name": "stderr",
     "output_type": "stream",
     "text": [
      "\n"
     ]
    },
    {
     "name": "stdout",
     "output_type": "stream",
     "text": [
      "\u001b[32m[1019 08:54:12 @monitor.py:467]\u001b[0m GAN_loss/discrim/accuracy_fake: 0.836\n",
      "\u001b[32m[1019 08:54:12 @monitor.py:467]\u001b[0m GAN_loss/discrim/accuracy_real: 0.262\n",
      "\u001b[32m[1019 08:54:12 @monitor.py:467]\u001b[0m GAN_loss/discrim/loss: 0.64473\n",
      "\u001b[32m[1019 08:54:12 @monitor.py:467]\u001b[0m GAN_loss/gen/final-g-loss: 1.1881\n",
      "\u001b[32m[1019 08:54:12 @monitor.py:467]\u001b[0m GAN_loss/gen/klloss: 0.0735\n",
      "\u001b[32m[1019 08:54:12 @monitor.py:467]\u001b[0m GAN_loss/gen/loss: 1.1146\n",
      "\u001b[32m[1019 08:54:12 @monitor.py:467]\u001b[0m QueueInput/queue_size: 50\n",
      "\u001b[32m[1019 08:54:12 @base.py:275]\u001b[0m Start Epoch 1076 ...\n"
     ]
    },
    {
     "name": "stderr",
     "output_type": "stream",
     "text": [
      "100%|###################################################################################|175/175[00:05<00:00,31.76it/s]"
     ]
    },
    {
     "name": "stdout",
     "output_type": "stream",
     "text": [
      "\u001b[32m[1019 08:54:18 @base.py:285]\u001b[0m Epoch 1076 (global_step 188300) finished, time:5.51 seconds.\n",
      "\u001b[32m[1019 08:54:18 @saver.py:79]\u001b[0m Model saved to ../output/Chicago/DATGAN_asd29/model\\model-188300.\n"
     ]
    },
    {
     "name": "stderr",
     "output_type": "stream",
     "text": [
      "\n"
     ]
    },
    {
     "name": "stdout",
     "output_type": "stream",
     "text": [
      "\u001b[32m[1019 08:54:18 @monitor.py:467]\u001b[0m GAN_loss/discrim/accuracy_fake: 0.866\n",
      "\u001b[32m[1019 08:54:18 @monitor.py:467]\u001b[0m GAN_loss/discrim/accuracy_real: 0.29\n",
      "\u001b[32m[1019 08:54:18 @monitor.py:467]\u001b[0m GAN_loss/discrim/loss: 0.63483\n",
      "\u001b[32m[1019 08:54:18 @monitor.py:467]\u001b[0m GAN_loss/gen/final-g-loss: 1.1956\n",
      "\u001b[32m[1019 08:54:18 @monitor.py:467]\u001b[0m GAN_loss/gen/klloss: 0.054439\n",
      "\u001b[32m[1019 08:54:18 @monitor.py:467]\u001b[0m GAN_loss/gen/loss: 1.1412\n",
      "\u001b[32m[1019 08:54:18 @monitor.py:467]\u001b[0m QueueInput/queue_size: 50\n",
      "\u001b[32m[1019 08:54:18 @base.py:275]\u001b[0m Start Epoch 1077 ...\n"
     ]
    },
    {
     "name": "stderr",
     "output_type": "stream",
     "text": [
      "100%|###################################################################################|175/175[00:05<00:00,31.70it/s]"
     ]
    },
    {
     "name": "stdout",
     "output_type": "stream",
     "text": [
      "\u001b[32m[1019 08:54:23 @base.py:285]\u001b[0m Epoch 1077 (global_step 188475) finished, time:5.52 seconds.\n",
      "\u001b[32m[1019 08:54:24 @saver.py:79]\u001b[0m Model saved to ../output/Chicago/DATGAN_asd29/model\\model-188475.\n"
     ]
    },
    {
     "name": "stderr",
     "output_type": "stream",
     "text": [
      "\n"
     ]
    },
    {
     "name": "stdout",
     "output_type": "stream",
     "text": [
      "\u001b[32m[1019 08:54:24 @monitor.py:467]\u001b[0m GAN_loss/discrim/accuracy_fake: 0.86\n",
      "\u001b[32m[1019 08:54:24 @monitor.py:467]\u001b[0m GAN_loss/discrim/accuracy_real: 0.222\n",
      "\u001b[32m[1019 08:54:24 @monitor.py:467]\u001b[0m GAN_loss/discrim/loss: 0.63936\n",
      "\u001b[32m[1019 08:54:24 @monitor.py:467]\u001b[0m GAN_loss/gen/final-g-loss: 1.2317\n",
      "\u001b[32m[1019 08:54:24 @monitor.py:467]\u001b[0m GAN_loss/gen/klloss: 0.10582\n",
      "\u001b[32m[1019 08:54:24 @monitor.py:467]\u001b[0m GAN_loss/gen/loss: 1.1258\n",
      "\u001b[32m[1019 08:54:24 @monitor.py:467]\u001b[0m QueueInput/queue_size: 50\n",
      "\u001b[32m[1019 08:54:24 @base.py:275]\u001b[0m Start Epoch 1078 ...\n"
     ]
    },
    {
     "name": "stderr",
     "output_type": "stream",
     "text": [
      "100%|###################################################################################|175/175[00:05<00:00,31.76it/s]"
     ]
    },
    {
     "name": "stdout",
     "output_type": "stream",
     "text": [
      "\u001b[32m[1019 08:54:29 @base.py:285]\u001b[0m Epoch 1078 (global_step 188650) finished, time:5.51 seconds.\n",
      "\u001b[32m[1019 08:54:29 @saver.py:79]\u001b[0m Model saved to ../output/Chicago/DATGAN_asd29/model\\model-188650.\n"
     ]
    },
    {
     "name": "stderr",
     "output_type": "stream",
     "text": [
      "\n"
     ]
    },
    {
     "name": "stdout",
     "output_type": "stream",
     "text": [
      "\u001b[32m[1019 08:54:29 @monitor.py:467]\u001b[0m GAN_loss/discrim/accuracy_fake: 0.862\n",
      "\u001b[32m[1019 08:54:29 @monitor.py:467]\u001b[0m GAN_loss/discrim/accuracy_real: 0.274\n",
      "\u001b[32m[1019 08:54:29 @monitor.py:467]\u001b[0m GAN_loss/discrim/loss: 0.6413\n",
      "\u001b[32m[1019 08:54:29 @monitor.py:467]\u001b[0m GAN_loss/gen/final-g-loss: 1.1853\n",
      "\u001b[32m[1019 08:54:29 @monitor.py:467]\u001b[0m GAN_loss/gen/klloss: 0.05561\n",
      "\u001b[32m[1019 08:54:29 @monitor.py:467]\u001b[0m GAN_loss/gen/loss: 1.1297\n",
      "\u001b[32m[1019 08:54:29 @monitor.py:467]\u001b[0m QueueInput/queue_size: 50\n",
      "\u001b[32m[1019 08:54:29 @base.py:275]\u001b[0m Start Epoch 1079 ...\n"
     ]
    },
    {
     "name": "stderr",
     "output_type": "stream",
     "text": [
      "100%|###################################################################################|175/175[00:05<00:00,31.74it/s]"
     ]
    },
    {
     "name": "stdout",
     "output_type": "stream",
     "text": [
      "\u001b[32m[1019 08:54:35 @base.py:285]\u001b[0m Epoch 1079 (global_step 188825) finished, time:5.51 seconds.\n",
      "\u001b[32m[1019 08:54:35 @saver.py:79]\u001b[0m Model saved to ../output/Chicago/DATGAN_asd29/model\\model-188825.\n"
     ]
    },
    {
     "name": "stderr",
     "output_type": "stream",
     "text": [
      "\n"
     ]
    },
    {
     "name": "stdout",
     "output_type": "stream",
     "text": [
      "\u001b[32m[1019 08:54:35 @monitor.py:467]\u001b[0m GAN_loss/discrim/accuracy_fake: 0.872\n",
      "\u001b[32m[1019 08:54:35 @monitor.py:467]\u001b[0m GAN_loss/discrim/accuracy_real: 0.264\n",
      "\u001b[32m[1019 08:54:35 @monitor.py:467]\u001b[0m GAN_loss/discrim/loss: 0.62649\n",
      "\u001b[32m[1019 08:54:35 @monitor.py:467]\u001b[0m GAN_loss/gen/final-g-loss: 1.2185\n",
      "\u001b[32m[1019 08:54:35 @monitor.py:467]\u001b[0m GAN_loss/gen/klloss: 0.062092\n",
      "\u001b[32m[1019 08:54:35 @monitor.py:467]\u001b[0m GAN_loss/gen/loss: 1.1564\n",
      "\u001b[32m[1019 08:54:35 @monitor.py:467]\u001b[0m QueueInput/queue_size: 50\n",
      "\u001b[32m[1019 08:54:35 @base.py:275]\u001b[0m Start Epoch 1080 ...\n"
     ]
    },
    {
     "name": "stderr",
     "output_type": "stream",
     "text": [
      "100%|###################################################################################|175/175[00:05<00:00,31.74it/s]"
     ]
    },
    {
     "name": "stdout",
     "output_type": "stream",
     "text": [
      "\u001b[32m[1019 08:54:41 @base.py:285]\u001b[0m Epoch 1080 (global_step 189000) finished, time:5.51 seconds.\n",
      "\u001b[32m[1019 08:54:41 @saver.py:79]\u001b[0m Model saved to ../output/Chicago/DATGAN_asd29/model\\model-189000.\n"
     ]
    },
    {
     "name": "stderr",
     "output_type": "stream",
     "text": [
      "\n"
     ]
    },
    {
     "name": "stdout",
     "output_type": "stream",
     "text": [
      "\u001b[32m[1019 08:54:41 @monitor.py:467]\u001b[0m GAN_loss/discrim/accuracy_fake: 0.874\n",
      "\u001b[32m[1019 08:54:41 @monitor.py:467]\u001b[0m GAN_loss/discrim/accuracy_real: 0.26\n",
      "\u001b[32m[1019 08:54:41 @monitor.py:467]\u001b[0m GAN_loss/discrim/loss: 0.63656\n",
      "\u001b[32m[1019 08:54:41 @monitor.py:467]\u001b[0m GAN_loss/gen/final-g-loss: 1.2361\n",
      "\u001b[32m[1019 08:54:41 @monitor.py:467]\u001b[0m GAN_loss/gen/klloss: 0.090652\n",
      "\u001b[32m[1019 08:54:41 @monitor.py:467]\u001b[0m GAN_loss/gen/loss: 1.1455\n",
      "\u001b[32m[1019 08:54:41 @monitor.py:467]\u001b[0m QueueInput/queue_size: 50\n",
      "\u001b[32m[1019 08:54:41 @base.py:275]\u001b[0m Start Epoch 1081 ...\n"
     ]
    },
    {
     "name": "stderr",
     "output_type": "stream",
     "text": [
      "100%|###################################################################################|175/175[00:05<00:00,31.72it/s]"
     ]
    },
    {
     "name": "stdout",
     "output_type": "stream",
     "text": [
      "\u001b[32m[1019 08:54:47 @base.py:285]\u001b[0m Epoch 1081 (global_step 189175) finished, time:5.52 seconds.\n",
      "\u001b[32m[1019 08:54:47 @saver.py:79]\u001b[0m Model saved to ../output/Chicago/DATGAN_asd29/model\\model-189175.\n"
     ]
    },
    {
     "name": "stderr",
     "output_type": "stream",
     "text": [
      "\n"
     ]
    },
    {
     "name": "stdout",
     "output_type": "stream",
     "text": [
      "\u001b[32m[1019 08:54:47 @monitor.py:467]\u001b[0m GAN_loss/discrim/accuracy_fake: 0.882\n",
      "\u001b[32m[1019 08:54:47 @monitor.py:467]\u001b[0m GAN_loss/discrim/accuracy_real: 0.268\n",
      "\u001b[32m[1019 08:54:47 @monitor.py:467]\u001b[0m GAN_loss/discrim/loss: 0.63086\n",
      "\u001b[32m[1019 08:54:47 @monitor.py:467]\u001b[0m GAN_loss/gen/final-g-loss: 1.2344\n",
      "\u001b[32m[1019 08:54:47 @monitor.py:467]\u001b[0m GAN_loss/gen/klloss: 0.075103\n",
      "\u001b[32m[1019 08:54:47 @monitor.py:467]\u001b[0m GAN_loss/gen/loss: 1.1593\n",
      "\u001b[32m[1019 08:54:47 @monitor.py:467]\u001b[0m QueueInput/queue_size: 50\n",
      "\u001b[32m[1019 08:54:47 @base.py:275]\u001b[0m Start Epoch 1082 ...\n"
     ]
    },
    {
     "name": "stderr",
     "output_type": "stream",
     "text": [
      "100%|###################################################################################|175/175[00:05<00:00,31.72it/s]"
     ]
    },
    {
     "name": "stdout",
     "output_type": "stream",
     "text": [
      "\u001b[32m[1019 08:54:52 @base.py:285]\u001b[0m Epoch 1082 (global_step 189350) finished, time:5.52 seconds.\n",
      "\u001b[32m[1019 08:54:52 @saver.py:79]\u001b[0m Model saved to ../output/Chicago/DATGAN_asd29/model\\model-189350.\n"
     ]
    },
    {
     "name": "stderr",
     "output_type": "stream",
     "text": [
      "\n"
     ]
    },
    {
     "name": "stdout",
     "output_type": "stream",
     "text": [
      "\u001b[32m[1019 08:54:53 @monitor.py:467]\u001b[0m GAN_loss/discrim/accuracy_fake: 0.88\n",
      "\u001b[32m[1019 08:54:53 @monitor.py:467]\u001b[0m GAN_loss/discrim/accuracy_real: 0.268\n",
      "\u001b[32m[1019 08:54:53 @monitor.py:467]\u001b[0m GAN_loss/discrim/loss: 0.63132\n",
      "\u001b[32m[1019 08:54:53 @monitor.py:467]\u001b[0m GAN_loss/gen/final-g-loss: 1.2294\n",
      "\u001b[32m[1019 08:54:53 @monitor.py:467]\u001b[0m GAN_loss/gen/klloss: 0.085839\n",
      "\u001b[32m[1019 08:54:53 @monitor.py:467]\u001b[0m GAN_loss/gen/loss: 1.1436\n",
      "\u001b[32m[1019 08:54:53 @monitor.py:467]\u001b[0m QueueInput/queue_size: 50\n",
      "\u001b[32m[1019 08:54:53 @base.py:275]\u001b[0m Start Epoch 1083 ...\n"
     ]
    },
    {
     "name": "stderr",
     "output_type": "stream",
     "text": [
      "100%|###################################################################################|175/175[00:05<00:00,31.66it/s]"
     ]
    },
    {
     "name": "stdout",
     "output_type": "stream",
     "text": [
      "\u001b[32m[1019 08:54:58 @base.py:285]\u001b[0m Epoch 1083 (global_step 189525) finished, time:5.53 seconds.\n",
      "\u001b[32m[1019 08:54:58 @saver.py:79]\u001b[0m Model saved to ../output/Chicago/DATGAN_asd29/model\\model-189525.\n"
     ]
    },
    {
     "name": "stderr",
     "output_type": "stream",
     "text": [
      "\n"
     ]
    },
    {
     "name": "stdout",
     "output_type": "stream",
     "text": [
      "\u001b[32m[1019 08:54:58 @monitor.py:467]\u001b[0m GAN_loss/discrim/accuracy_fake: 0.858\n",
      "\u001b[32m[1019 08:54:58 @monitor.py:467]\u001b[0m GAN_loss/discrim/accuracy_real: 0.238\n",
      "\u001b[32m[1019 08:54:58 @monitor.py:467]\u001b[0m GAN_loss/discrim/loss: 0.63463\n",
      "\u001b[32m[1019 08:54:58 @monitor.py:467]\u001b[0m GAN_loss/gen/final-g-loss: 1.2544\n",
      "\u001b[32m[1019 08:54:58 @monitor.py:467]\u001b[0m GAN_loss/gen/klloss: 0.077836\n",
      "\u001b[32m[1019 08:54:58 @monitor.py:467]\u001b[0m GAN_loss/gen/loss: 1.1766\n",
      "\u001b[32m[1019 08:54:58 @monitor.py:467]\u001b[0m QueueInput/queue_size: 50\n",
      "\u001b[32m[1019 08:54:58 @base.py:275]\u001b[0m Start Epoch 1084 ...\n"
     ]
    },
    {
     "name": "stderr",
     "output_type": "stream",
     "text": [
      "100%|###################################################################################|175/175[00:05<00:00,31.78it/s]"
     ]
    },
    {
     "name": "stdout",
     "output_type": "stream",
     "text": [
      "\u001b[32m[1019 08:55:04 @base.py:285]\u001b[0m Epoch 1084 (global_step 189700) finished, time:5.51 seconds.\n",
      "\u001b[32m[1019 08:55:04 @saver.py:79]\u001b[0m Model saved to ../output/Chicago/DATGAN_asd29/model\\model-189700.\n"
     ]
    },
    {
     "name": "stderr",
     "output_type": "stream",
     "text": [
      "\n"
     ]
    },
    {
     "name": "stdout",
     "output_type": "stream",
     "text": [
      "\u001b[32m[1019 08:55:04 @monitor.py:467]\u001b[0m GAN_loss/discrim/accuracy_fake: 0.85\n",
      "\u001b[32m[1019 08:55:04 @monitor.py:467]\u001b[0m GAN_loss/discrim/accuracy_real: 0.336\n",
      "\u001b[32m[1019 08:55:04 @monitor.py:467]\u001b[0m GAN_loss/discrim/loss: 0.61175\n",
      "\u001b[32m[1019 08:55:04 @monitor.py:467]\u001b[0m GAN_loss/gen/final-g-loss: 1.2448\n",
      "\u001b[32m[1019 08:55:04 @monitor.py:467]\u001b[0m GAN_loss/gen/klloss: 0.060016\n",
      "\u001b[32m[1019 08:55:04 @monitor.py:467]\u001b[0m GAN_loss/gen/loss: 1.1848\n",
      "\u001b[32m[1019 08:55:04 @monitor.py:467]\u001b[0m QueueInput/queue_size: 50\n",
      "\u001b[32m[1019 08:55:04 @base.py:275]\u001b[0m Start Epoch 1085 ...\n"
     ]
    },
    {
     "name": "stderr",
     "output_type": "stream",
     "text": [
      "100%|###################################################################################|175/175[00:05<00:00,31.71it/s]"
     ]
    },
    {
     "name": "stdout",
     "output_type": "stream",
     "text": [
      "\u001b[32m[1019 08:55:10 @base.py:285]\u001b[0m Epoch 1085 (global_step 189875) finished, time:5.52 seconds.\n",
      "\u001b[32m[1019 08:55:10 @saver.py:79]\u001b[0m Model saved to ../output/Chicago/DATGAN_asd29/model\\model-189875.\n"
     ]
    },
    {
     "name": "stderr",
     "output_type": "stream",
     "text": [
      "\n"
     ]
    },
    {
     "name": "stdout",
     "output_type": "stream",
     "text": [
      "\u001b[32m[1019 08:55:10 @monitor.py:467]\u001b[0m GAN_loss/discrim/accuracy_fake: 0.874\n",
      "\u001b[32m[1019 08:55:10 @monitor.py:467]\u001b[0m GAN_loss/discrim/accuracy_real: 0.276\n",
      "\u001b[32m[1019 08:55:10 @monitor.py:467]\u001b[0m GAN_loss/discrim/loss: 0.64046\n",
      "\u001b[32m[1019 08:55:10 @monitor.py:467]\u001b[0m GAN_loss/gen/final-g-loss: 1.2325\n",
      "\u001b[32m[1019 08:55:10 @monitor.py:467]\u001b[0m GAN_loss/gen/klloss: 0.079539\n",
      "\u001b[32m[1019 08:55:10 @monitor.py:467]\u001b[0m GAN_loss/gen/loss: 1.153\n",
      "\u001b[32m[1019 08:55:10 @monitor.py:467]\u001b[0m QueueInput/queue_size: 50\n",
      "\u001b[32m[1019 08:55:10 @base.py:275]\u001b[0m Start Epoch 1086 ...\n"
     ]
    },
    {
     "name": "stderr",
     "output_type": "stream",
     "text": [
      "100%|###################################################################################|175/175[00:05<00:00,31.76it/s]"
     ]
    },
    {
     "name": "stdout",
     "output_type": "stream",
     "text": [
      "\u001b[32m[1019 08:55:15 @base.py:285]\u001b[0m Epoch 1086 (global_step 190050) finished, time:5.51 seconds.\n",
      "\u001b[32m[1019 08:55:16 @saver.py:79]\u001b[0m Model saved to ../output/Chicago/DATGAN_asd29/model\\model-190050.\n"
     ]
    },
    {
     "name": "stderr",
     "output_type": "stream",
     "text": [
      "\n"
     ]
    },
    {
     "name": "stdout",
     "output_type": "stream",
     "text": [
      "\u001b[32m[1019 08:55:16 @monitor.py:467]\u001b[0m GAN_loss/discrim/accuracy_fake: 0.86\n",
      "\u001b[32m[1019 08:55:16 @monitor.py:467]\u001b[0m GAN_loss/discrim/accuracy_real: 0.292\n",
      "\u001b[32m[1019 08:55:16 @monitor.py:467]\u001b[0m GAN_loss/discrim/loss: 0.62655\n",
      "\u001b[32m[1019 08:55:16 @monitor.py:467]\u001b[0m GAN_loss/gen/final-g-loss: 1.2346\n",
      "\u001b[32m[1019 08:55:16 @monitor.py:467]\u001b[0m GAN_loss/gen/klloss: 0.047333\n",
      "\u001b[32m[1019 08:55:16 @monitor.py:467]\u001b[0m GAN_loss/gen/loss: 1.1873\n",
      "\u001b[32m[1019 08:55:16 @monitor.py:467]\u001b[0m QueueInput/queue_size: 50\n",
      "\u001b[32m[1019 08:55:16 @base.py:275]\u001b[0m Start Epoch 1087 ...\n"
     ]
    },
    {
     "name": "stderr",
     "output_type": "stream",
     "text": [
      "100%|###################################################################################|175/175[00:05<00:00,31.72it/s]"
     ]
    },
    {
     "name": "stdout",
     "output_type": "stream",
     "text": [
      "\u001b[32m[1019 08:55:21 @base.py:285]\u001b[0m Epoch 1087 (global_step 190225) finished, time:5.52 seconds.\n",
      "\u001b[32m[1019 08:55:21 @saver.py:79]\u001b[0m Model saved to ../output/Chicago/DATGAN_asd29/model\\model-190225.\n"
     ]
    },
    {
     "name": "stderr",
     "output_type": "stream",
     "text": [
      "\n"
     ]
    },
    {
     "name": "stdout",
     "output_type": "stream",
     "text": [
      "\u001b[32m[1019 08:55:21 @monitor.py:467]\u001b[0m GAN_loss/discrim/accuracy_fake: 0.836\n",
      "\u001b[32m[1019 08:55:21 @monitor.py:467]\u001b[0m GAN_loss/discrim/accuracy_real: 0.282\n",
      "\u001b[32m[1019 08:55:21 @monitor.py:467]\u001b[0m GAN_loss/discrim/loss: 0.63632\n",
      "\u001b[32m[1019 08:55:21 @monitor.py:467]\u001b[0m GAN_loss/gen/final-g-loss: 1.2199\n",
      "\u001b[32m[1019 08:55:21 @monitor.py:467]\u001b[0m GAN_loss/gen/klloss: 0.070896\n",
      "\u001b[32m[1019 08:55:21 @monitor.py:467]\u001b[0m GAN_loss/gen/loss: 1.149\n",
      "\u001b[32m[1019 08:55:21 @monitor.py:467]\u001b[0m QueueInput/queue_size: 50\n",
      "\u001b[32m[1019 08:55:21 @base.py:275]\u001b[0m Start Epoch 1088 ...\n"
     ]
    },
    {
     "name": "stderr",
     "output_type": "stream",
     "text": [
      "100%|###################################################################################|175/175[00:05<00:00,31.74it/s]"
     ]
    },
    {
     "name": "stdout",
     "output_type": "stream",
     "text": [
      "\u001b[32m[1019 08:55:27 @base.py:285]\u001b[0m Epoch 1088 (global_step 190400) finished, time:5.51 seconds.\n",
      "\u001b[32m[1019 08:55:27 @saver.py:79]\u001b[0m Model saved to ../output/Chicago/DATGAN_asd29/model\\model-190400.\n"
     ]
    },
    {
     "name": "stderr",
     "output_type": "stream",
     "text": [
      "\n"
     ]
    },
    {
     "name": "stdout",
     "output_type": "stream",
     "text": [
      "\u001b[32m[1019 08:55:27 @monitor.py:467]\u001b[0m GAN_loss/discrim/accuracy_fake: 0.866\n",
      "\u001b[32m[1019 08:55:27 @monitor.py:467]\u001b[0m GAN_loss/discrim/accuracy_real: 0.242\n",
      "\u001b[32m[1019 08:55:27 @monitor.py:467]\u001b[0m GAN_loss/discrim/loss: 0.63852\n",
      "\u001b[32m[1019 08:55:27 @monitor.py:467]\u001b[0m GAN_loss/gen/final-g-loss: 1.2057\n",
      "\u001b[32m[1019 08:55:27 @monitor.py:467]\u001b[0m GAN_loss/gen/klloss: 0.047541\n",
      "\u001b[32m[1019 08:55:27 @monitor.py:467]\u001b[0m GAN_loss/gen/loss: 1.1582\n",
      "\u001b[32m[1019 08:55:27 @monitor.py:467]\u001b[0m QueueInput/queue_size: 50\n",
      "\u001b[32m[1019 08:55:27 @base.py:275]\u001b[0m Start Epoch 1089 ...\n"
     ]
    },
    {
     "name": "stderr",
     "output_type": "stream",
     "text": [
      "100%|###################################################################################|175/175[00:05<00:00,31.70it/s]"
     ]
    },
    {
     "name": "stdout",
     "output_type": "stream",
     "text": [
      "\u001b[32m[1019 08:55:33 @base.py:285]\u001b[0m Epoch 1089 (global_step 190575) finished, time:5.52 seconds.\n",
      "\u001b[32m[1019 08:55:33 @saver.py:79]\u001b[0m Model saved to ../output/Chicago/DATGAN_asd29/model\\model-190575.\n"
     ]
    },
    {
     "name": "stderr",
     "output_type": "stream",
     "text": [
      "\n"
     ]
    },
    {
     "name": "stdout",
     "output_type": "stream",
     "text": [
      "\u001b[32m[1019 08:55:33 @monitor.py:467]\u001b[0m GAN_loss/discrim/accuracy_fake: 0.848\n",
      "\u001b[32m[1019 08:55:33 @monitor.py:467]\u001b[0m GAN_loss/discrim/accuracy_real: 0.336\n",
      "\u001b[32m[1019 08:55:33 @monitor.py:467]\u001b[0m GAN_loss/discrim/loss: 0.62092\n",
      "\u001b[32m[1019 08:55:33 @monitor.py:467]\u001b[0m GAN_loss/gen/final-g-loss: 1.2218\n",
      "\u001b[32m[1019 08:55:33 @monitor.py:467]\u001b[0m GAN_loss/gen/klloss: 0.059447\n",
      "\u001b[32m[1019 08:55:33 @monitor.py:467]\u001b[0m GAN_loss/gen/loss: 1.1624\n",
      "\u001b[32m[1019 08:55:33 @monitor.py:467]\u001b[0m QueueInput/queue_size: 50\n",
      "\u001b[32m[1019 08:55:33 @base.py:275]\u001b[0m Start Epoch 1090 ...\n"
     ]
    },
    {
     "name": "stderr",
     "output_type": "stream",
     "text": [
      "100%|###################################################################################|175/175[00:05<00:00,31.78it/s]"
     ]
    },
    {
     "name": "stdout",
     "output_type": "stream",
     "text": [
      "\u001b[32m[1019 08:55:39 @base.py:285]\u001b[0m Epoch 1090 (global_step 190750) finished, time:5.51 seconds.\n",
      "\u001b[32m[1019 08:55:39 @saver.py:79]\u001b[0m Model saved to ../output/Chicago/DATGAN_asd29/model\\model-190750.\n"
     ]
    },
    {
     "name": "stderr",
     "output_type": "stream",
     "text": [
      "\n"
     ]
    },
    {
     "name": "stdout",
     "output_type": "stream",
     "text": [
      "\u001b[32m[1019 08:55:39 @monitor.py:467]\u001b[0m GAN_loss/discrim/accuracy_fake: 0.844\n",
      "\u001b[32m[1019 08:55:39 @monitor.py:467]\u001b[0m GAN_loss/discrim/accuracy_real: 0.262\n",
      "\u001b[32m[1019 08:55:39 @monitor.py:467]\u001b[0m GAN_loss/discrim/loss: 0.63656\n",
      "\u001b[32m[1019 08:55:39 @monitor.py:467]\u001b[0m GAN_loss/gen/final-g-loss: 1.2243\n",
      "\u001b[32m[1019 08:55:39 @monitor.py:467]\u001b[0m GAN_loss/gen/klloss: 0.066519\n",
      "\u001b[32m[1019 08:55:39 @monitor.py:467]\u001b[0m GAN_loss/gen/loss: 1.1578\n",
      "\u001b[32m[1019 08:55:39 @monitor.py:467]\u001b[0m QueueInput/queue_size: 50\n",
      "\u001b[32m[1019 08:55:39 @base.py:275]\u001b[0m Start Epoch 1091 ...\n"
     ]
    },
    {
     "name": "stderr",
     "output_type": "stream",
     "text": [
      "100%|###################################################################################|175/175[00:05<00:00,31.76it/s]"
     ]
    },
    {
     "name": "stdout",
     "output_type": "stream",
     "text": [
      "\u001b[32m[1019 08:55:44 @base.py:285]\u001b[0m Epoch 1091 (global_step 190925) finished, time:5.51 seconds.\n",
      "\u001b[32m[1019 08:55:44 @saver.py:79]\u001b[0m Model saved to ../output/Chicago/DATGAN_asd29/model\\model-190925.\n"
     ]
    },
    {
     "name": "stderr",
     "output_type": "stream",
     "text": [
      "\n"
     ]
    },
    {
     "name": "stdout",
     "output_type": "stream",
     "text": [
      "\u001b[32m[1019 08:55:45 @monitor.py:467]\u001b[0m GAN_loss/discrim/accuracy_fake: 0.828\n",
      "\u001b[32m[1019 08:55:45 @monitor.py:467]\u001b[0m GAN_loss/discrim/accuracy_real: 0.234\n",
      "\u001b[32m[1019 08:55:45 @monitor.py:467]\u001b[0m GAN_loss/discrim/loss: 0.6497\n",
      "\u001b[32m[1019 08:55:45 @monitor.py:467]\u001b[0m GAN_loss/gen/final-g-loss: 1.2106\n",
      "\u001b[32m[1019 08:55:45 @monitor.py:467]\u001b[0m GAN_loss/gen/klloss: 0.043912\n",
      "\u001b[32m[1019 08:55:45 @monitor.py:467]\u001b[0m GAN_loss/gen/loss: 1.1667\n",
      "\u001b[32m[1019 08:55:45 @monitor.py:467]\u001b[0m QueueInput/queue_size: 50\n",
      "\u001b[32m[1019 08:55:45 @base.py:275]\u001b[0m Start Epoch 1092 ...\n"
     ]
    },
    {
     "name": "stderr",
     "output_type": "stream",
     "text": [
      "100%|###################################################################################|175/175[00:05<00:00,31.71it/s]"
     ]
    },
    {
     "name": "stdout",
     "output_type": "stream",
     "text": [
      "\u001b[32m[1019 08:55:50 @base.py:285]\u001b[0m Epoch 1092 (global_step 191100) finished, time:5.52 seconds.\n",
      "\u001b[32m[1019 08:55:50 @saver.py:79]\u001b[0m Model saved to ../output/Chicago/DATGAN_asd29/model\\model-191100.\n"
     ]
    },
    {
     "name": "stderr",
     "output_type": "stream",
     "text": [
      "\n"
     ]
    },
    {
     "name": "stdout",
     "output_type": "stream",
     "text": [
      "\u001b[32m[1019 08:55:50 @monitor.py:467]\u001b[0m GAN_loss/discrim/accuracy_fake: 0.838\n",
      "\u001b[32m[1019 08:55:50 @monitor.py:467]\u001b[0m GAN_loss/discrim/accuracy_real: 0.262\n",
      "\u001b[32m[1019 08:55:50 @monitor.py:467]\u001b[0m GAN_loss/discrim/loss: 0.64132\n",
      "\u001b[32m[1019 08:55:50 @monitor.py:467]\u001b[0m GAN_loss/gen/final-g-loss: 1.1861\n",
      "\u001b[32m[1019 08:55:50 @monitor.py:467]\u001b[0m GAN_loss/gen/klloss: 0.044238\n",
      "\u001b[32m[1019 08:55:50 @monitor.py:467]\u001b[0m GAN_loss/gen/loss: 1.1419\n",
      "\u001b[32m[1019 08:55:50 @monitor.py:467]\u001b[0m QueueInput/queue_size: 50\n",
      "\u001b[32m[1019 08:55:50 @base.py:275]\u001b[0m Start Epoch 1093 ...\n"
     ]
    },
    {
     "name": "stderr",
     "output_type": "stream",
     "text": [
      "100%|###################################################################################|175/175[00:05<00:00,31.66it/s]"
     ]
    },
    {
     "name": "stdout",
     "output_type": "stream",
     "text": [
      "\u001b[32m[1019 08:55:56 @base.py:285]\u001b[0m Epoch 1093 (global_step 191275) finished, time:5.53 seconds.\n",
      "\u001b[32m[1019 08:55:56 @saver.py:79]\u001b[0m Model saved to ../output/Chicago/DATGAN_asd29/model\\model-191275.\n"
     ]
    },
    {
     "name": "stderr",
     "output_type": "stream",
     "text": [
      "\n"
     ]
    },
    {
     "name": "stdout",
     "output_type": "stream",
     "text": [
      "\u001b[32m[1019 08:55:56 @monitor.py:467]\u001b[0m GAN_loss/discrim/accuracy_fake: 0.842\n",
      "\u001b[32m[1019 08:55:56 @monitor.py:467]\u001b[0m GAN_loss/discrim/accuracy_real: 0.306\n",
      "\u001b[32m[1019 08:55:56 @monitor.py:467]\u001b[0m GAN_loss/discrim/loss: 0.64085\n",
      "\u001b[32m[1019 08:55:56 @monitor.py:467]\u001b[0m GAN_loss/gen/final-g-loss: 1.1801\n",
      "\u001b[32m[1019 08:55:56 @monitor.py:467]\u001b[0m GAN_loss/gen/klloss: 0.051789\n",
      "\u001b[32m[1019 08:55:56 @monitor.py:467]\u001b[0m GAN_loss/gen/loss: 1.1283\n",
      "\u001b[32m[1019 08:55:56 @monitor.py:467]\u001b[0m QueueInput/queue_size: 50\n",
      "\u001b[32m[1019 08:55:56 @base.py:275]\u001b[0m Start Epoch 1094 ...\n"
     ]
    },
    {
     "name": "stderr",
     "output_type": "stream",
     "text": [
      "100%|###################################################################################|175/175[00:05<00:00,31.73it/s]"
     ]
    },
    {
     "name": "stdout",
     "output_type": "stream",
     "text": [
      "\u001b[32m[1019 08:56:02 @base.py:285]\u001b[0m Epoch 1094 (global_step 191450) finished, time:5.52 seconds.\n",
      "\u001b[32m[1019 08:56:02 @saver.py:79]\u001b[0m Model saved to ../output/Chicago/DATGAN_asd29/model\\model-191450.\n"
     ]
    },
    {
     "name": "stderr",
     "output_type": "stream",
     "text": [
      "\n"
     ]
    },
    {
     "name": "stdout",
     "output_type": "stream",
     "text": [
      "\u001b[32m[1019 08:56:02 @monitor.py:467]\u001b[0m GAN_loss/discrim/accuracy_fake: 0.872\n",
      "\u001b[32m[1019 08:56:02 @monitor.py:467]\u001b[0m GAN_loss/discrim/accuracy_real: 0.262\n",
      "\u001b[32m[1019 08:56:02 @monitor.py:467]\u001b[0m GAN_loss/discrim/loss: 0.64569\n",
      "\u001b[32m[1019 08:56:02 @monitor.py:467]\u001b[0m GAN_loss/gen/final-g-loss: 1.1891\n",
      "\u001b[32m[1019 08:56:02 @monitor.py:467]\u001b[0m GAN_loss/gen/klloss: 0.051349\n",
      "\u001b[32m[1019 08:56:02 @monitor.py:467]\u001b[0m GAN_loss/gen/loss: 1.1378\n",
      "\u001b[32m[1019 08:56:02 @monitor.py:467]\u001b[0m QueueInput/queue_size: 50\n",
      "\u001b[32m[1019 08:56:02 @base.py:275]\u001b[0m Start Epoch 1095 ...\n"
     ]
    },
    {
     "name": "stderr",
     "output_type": "stream",
     "text": [
      "100%|###################################################################################|175/175[00:05<00:00,31.74it/s]"
     ]
    },
    {
     "name": "stdout",
     "output_type": "stream",
     "text": [
      "\u001b[32m[1019 08:56:07 @base.py:285]\u001b[0m Epoch 1095 (global_step 191625) finished, time:5.51 seconds.\n",
      "\u001b[32m[1019 08:56:08 @saver.py:79]\u001b[0m Model saved to ../output/Chicago/DATGAN_asd29/model\\model-191625.\n"
     ]
    },
    {
     "name": "stderr",
     "output_type": "stream",
     "text": [
      "\n"
     ]
    },
    {
     "name": "stdout",
     "output_type": "stream",
     "text": [
      "\u001b[32m[1019 08:56:08 @monitor.py:467]\u001b[0m GAN_loss/discrim/accuracy_fake: 0.848\n",
      "\u001b[32m[1019 08:56:08 @monitor.py:467]\u001b[0m GAN_loss/discrim/accuracy_real: 0.314\n",
      "\u001b[32m[1019 08:56:08 @monitor.py:467]\u001b[0m GAN_loss/discrim/loss: 0.6325\n",
      "\u001b[32m[1019 08:56:08 @monitor.py:467]\u001b[0m GAN_loss/gen/final-g-loss: 1.2345\n",
      "\u001b[32m[1019 08:56:08 @monitor.py:467]\u001b[0m GAN_loss/gen/klloss: 0.088488\n",
      "\u001b[32m[1019 08:56:08 @monitor.py:467]\u001b[0m GAN_loss/gen/loss: 1.146\n",
      "\u001b[32m[1019 08:56:08 @monitor.py:467]\u001b[0m QueueInput/queue_size: 50\n",
      "\u001b[32m[1019 08:56:08 @base.py:275]\u001b[0m Start Epoch 1096 ...\n"
     ]
    },
    {
     "name": "stderr",
     "output_type": "stream",
     "text": [
      "100%|###################################################################################|175/175[00:05<00:00,31.69it/s]"
     ]
    },
    {
     "name": "stdout",
     "output_type": "stream",
     "text": [
      "\u001b[32m[1019 08:56:13 @base.py:285]\u001b[0m Epoch 1096 (global_step 191800) finished, time:5.52 seconds.\n",
      "\u001b[32m[1019 08:56:13 @saver.py:79]\u001b[0m Model saved to ../output/Chicago/DATGAN_asd29/model\\model-191800.\n"
     ]
    },
    {
     "name": "stderr",
     "output_type": "stream",
     "text": [
      "\n"
     ]
    },
    {
     "name": "stdout",
     "output_type": "stream",
     "text": [
      "\u001b[32m[1019 08:56:14 @monitor.py:467]\u001b[0m GAN_loss/discrim/accuracy_fake: 0.838\n",
      "\u001b[32m[1019 08:56:14 @monitor.py:467]\u001b[0m GAN_loss/discrim/accuracy_real: 0.338\n",
      "\u001b[32m[1019 08:56:14 @monitor.py:467]\u001b[0m GAN_loss/discrim/loss: 0.62343\n",
      "\u001b[32m[1019 08:56:14 @monitor.py:467]\u001b[0m GAN_loss/gen/final-g-loss: 1.1913\n",
      "\u001b[32m[1019 08:56:14 @monitor.py:467]\u001b[0m GAN_loss/gen/klloss: 0.045512\n",
      "\u001b[32m[1019 08:56:14 @monitor.py:467]\u001b[0m GAN_loss/gen/loss: 1.1458\n",
      "\u001b[32m[1019 08:56:14 @monitor.py:467]\u001b[0m QueueInput/queue_size: 50\n",
      "\u001b[32m[1019 08:56:14 @base.py:275]\u001b[0m Start Epoch 1097 ...\n"
     ]
    },
    {
     "name": "stderr",
     "output_type": "stream",
     "text": [
      "100%|###################################################################################|175/175[00:05<00:00,31.81it/s]"
     ]
    },
    {
     "name": "stdout",
     "output_type": "stream",
     "text": [
      "\u001b[32m[1019 08:56:19 @base.py:285]\u001b[0m Epoch 1097 (global_step 191975) finished, time:5.5 seconds.\n",
      "\u001b[32m[1019 08:56:19 @saver.py:79]\u001b[0m Model saved to ../output/Chicago/DATGAN_asd29/model\\model-191975.\n"
     ]
    },
    {
     "name": "stderr",
     "output_type": "stream",
     "text": [
      "\n"
     ]
    },
    {
     "name": "stdout",
     "output_type": "stream",
     "text": [
      "\u001b[32m[1019 08:56:19 @monitor.py:467]\u001b[0m GAN_loss/discrim/accuracy_fake: 0.854\n",
      "\u001b[32m[1019 08:56:19 @monitor.py:467]\u001b[0m GAN_loss/discrim/accuracy_real: 0.244\n",
      "\u001b[32m[1019 08:56:19 @monitor.py:467]\u001b[0m GAN_loss/discrim/loss: 0.64006\n",
      "\u001b[32m[1019 08:56:19 @monitor.py:467]\u001b[0m GAN_loss/gen/final-g-loss: 1.2483\n",
      "\u001b[32m[1019 08:56:19 @monitor.py:467]\u001b[0m GAN_loss/gen/klloss: 0.073769\n",
      "\u001b[32m[1019 08:56:19 @monitor.py:467]\u001b[0m GAN_loss/gen/loss: 1.1745\n",
      "\u001b[32m[1019 08:56:19 @monitor.py:467]\u001b[0m QueueInput/queue_size: 50\n",
      "\u001b[32m[1019 08:56:19 @base.py:275]\u001b[0m Start Epoch 1098 ...\n"
     ]
    },
    {
     "name": "stderr",
     "output_type": "stream",
     "text": [
      "100%|###################################################################################|175/175[00:05<00:00,31.72it/s]"
     ]
    },
    {
     "name": "stdout",
     "output_type": "stream",
     "text": [
      "\u001b[32m[1019 08:56:25 @base.py:285]\u001b[0m Epoch 1098 (global_step 192150) finished, time:5.52 seconds.\n",
      "\u001b[32m[1019 08:56:25 @saver.py:79]\u001b[0m Model saved to ../output/Chicago/DATGAN_asd29/model\\model-192150.\n"
     ]
    },
    {
     "name": "stderr",
     "output_type": "stream",
     "text": [
      "\n"
     ]
    },
    {
     "name": "stdout",
     "output_type": "stream",
     "text": [
      "\u001b[32m[1019 08:56:25 @monitor.py:467]\u001b[0m GAN_loss/discrim/accuracy_fake: 0.852\n",
      "\u001b[32m[1019 08:56:25 @monitor.py:467]\u001b[0m GAN_loss/discrim/accuracy_real: 0.298\n",
      "\u001b[32m[1019 08:56:25 @monitor.py:467]\u001b[0m GAN_loss/discrim/loss: 0.6293\n",
      "\u001b[32m[1019 08:56:25 @monitor.py:467]\u001b[0m GAN_loss/gen/final-g-loss: 1.2216\n",
      "\u001b[32m[1019 08:56:25 @monitor.py:467]\u001b[0m GAN_loss/gen/klloss: 0.055698\n",
      "\u001b[32m[1019 08:56:25 @monitor.py:467]\u001b[0m GAN_loss/gen/loss: 1.1659\n",
      "\u001b[32m[1019 08:56:25 @monitor.py:467]\u001b[0m QueueInput/queue_size: 50\n",
      "\u001b[32m[1019 08:56:25 @base.py:275]\u001b[0m Start Epoch 1099 ...\n"
     ]
    },
    {
     "name": "stderr",
     "output_type": "stream",
     "text": [
      "100%|###################################################################################|175/175[00:05<00:00,31.76it/s]"
     ]
    },
    {
     "name": "stdout",
     "output_type": "stream",
     "text": [
      "\u001b[32m[1019 08:56:31 @base.py:285]\u001b[0m Epoch 1099 (global_step 192325) finished, time:5.51 seconds.\n",
      "\u001b[32m[1019 08:56:31 @saver.py:79]\u001b[0m Model saved to ../output/Chicago/DATGAN_asd29/model\\model-192325.\n"
     ]
    },
    {
     "name": "stderr",
     "output_type": "stream",
     "text": [
      "\n"
     ]
    },
    {
     "name": "stdout",
     "output_type": "stream",
     "text": [
      "\u001b[32m[1019 08:56:31 @monitor.py:467]\u001b[0m GAN_loss/discrim/accuracy_fake: 0.868\n",
      "\u001b[32m[1019 08:56:31 @monitor.py:467]\u001b[0m GAN_loss/discrim/accuracy_real: 0.262\n",
      "\u001b[32m[1019 08:56:31 @monitor.py:467]\u001b[0m GAN_loss/discrim/loss: 0.63469\n",
      "\u001b[32m[1019 08:56:31 @monitor.py:467]\u001b[0m GAN_loss/gen/final-g-loss: 1.2158\n",
      "\u001b[32m[1019 08:56:31 @monitor.py:467]\u001b[0m GAN_loss/gen/klloss: 0.047495\n",
      "\u001b[32m[1019 08:56:31 @monitor.py:467]\u001b[0m GAN_loss/gen/loss: 1.1683\n",
      "\u001b[32m[1019 08:56:31 @monitor.py:467]\u001b[0m QueueInput/queue_size: 50\n",
      "\u001b[32m[1019 08:56:31 @base.py:275]\u001b[0m Start Epoch 1100 ...\n"
     ]
    },
    {
     "name": "stderr",
     "output_type": "stream",
     "text": [
      "100%|###################################################################################|175/175[00:05<00:00,31.74it/s]"
     ]
    },
    {
     "name": "stdout",
     "output_type": "stream",
     "text": [
      "\u001b[32m[1019 08:56:36 @base.py:285]\u001b[0m Epoch 1100 (global_step 192500) finished, time:5.51 seconds.\n",
      "\u001b[32m[1019 08:56:36 @saver.py:79]\u001b[0m Model saved to ../output/Chicago/DATGAN_asd29/model\\model-192500.\n"
     ]
    },
    {
     "name": "stderr",
     "output_type": "stream",
     "text": [
      "\n"
     ]
    },
    {
     "name": "stdout",
     "output_type": "stream",
     "text": [
      "\u001b[32m[1019 08:56:37 @monitor.py:467]\u001b[0m GAN_loss/discrim/accuracy_fake: 0.848\n",
      "\u001b[32m[1019 08:56:37 @monitor.py:467]\u001b[0m GAN_loss/discrim/accuracy_real: 0.388\n",
      "\u001b[32m[1019 08:56:37 @monitor.py:467]\u001b[0m GAN_loss/discrim/loss: 0.60404\n",
      "\u001b[32m[1019 08:56:37 @monitor.py:467]\u001b[0m GAN_loss/gen/final-g-loss: 1.2907\n",
      "\u001b[32m[1019 08:56:37 @monitor.py:467]\u001b[0m GAN_loss/gen/klloss: 0.077157\n",
      "\u001b[32m[1019 08:56:37 @monitor.py:467]\u001b[0m GAN_loss/gen/loss: 1.2135\n",
      "\u001b[32m[1019 08:56:37 @monitor.py:467]\u001b[0m QueueInput/queue_size: 50\n",
      "\u001b[32m[1019 08:56:37 @base.py:275]\u001b[0m Start Epoch 1101 ...\n"
     ]
    },
    {
     "name": "stderr",
     "output_type": "stream",
     "text": [
      "100%|###################################################################################|175/175[00:05<00:00,31.75it/s]"
     ]
    },
    {
     "name": "stdout",
     "output_type": "stream",
     "text": [
      "\u001b[32m[1019 08:56:42 @base.py:285]\u001b[0m Epoch 1101 (global_step 192675) finished, time:5.51 seconds.\n",
      "\u001b[32m[1019 08:56:42 @saver.py:79]\u001b[0m Model saved to ../output/Chicago/DATGAN_asd29/model\\model-192675.\n"
     ]
    },
    {
     "name": "stderr",
     "output_type": "stream",
     "text": [
      "\n"
     ]
    },
    {
     "name": "stdout",
     "output_type": "stream",
     "text": [
      "\u001b[32m[1019 08:56:42 @monitor.py:467]\u001b[0m GAN_loss/discrim/accuracy_fake: 0.88\n",
      "\u001b[32m[1019 08:56:42 @monitor.py:467]\u001b[0m GAN_loss/discrim/accuracy_real: 0.352\n",
      "\u001b[32m[1019 08:56:42 @monitor.py:467]\u001b[0m GAN_loss/discrim/loss: 0.60927\n",
      "\u001b[32m[1019 08:56:42 @monitor.py:467]\u001b[0m GAN_loss/gen/final-g-loss: 1.2696\n",
      "\u001b[32m[1019 08:56:42 @monitor.py:467]\u001b[0m GAN_loss/gen/klloss: 0.069335\n",
      "\u001b[32m[1019 08:56:42 @monitor.py:467]\u001b[0m GAN_loss/gen/loss: 1.2003\n",
      "\u001b[32m[1019 08:56:42 @monitor.py:467]\u001b[0m QueueInput/queue_size: 50\n",
      "\u001b[32m[1019 08:56:42 @base.py:275]\u001b[0m Start Epoch 1102 ...\n"
     ]
    },
    {
     "name": "stderr",
     "output_type": "stream",
     "text": [
      "100%|###################################################################################|175/175[00:05<00:00,31.71it/s]"
     ]
    },
    {
     "name": "stdout",
     "output_type": "stream",
     "text": [
      "\u001b[32m[1019 08:56:48 @base.py:285]\u001b[0m Epoch 1102 (global_step 192850) finished, time:5.52 seconds.\n",
      "\u001b[32m[1019 08:56:48 @saver.py:79]\u001b[0m Model saved to ../output/Chicago/DATGAN_asd29/model\\model-192850.\n"
     ]
    },
    {
     "name": "stderr",
     "output_type": "stream",
     "text": [
      "\n"
     ]
    },
    {
     "name": "stdout",
     "output_type": "stream",
     "text": [
      "\u001b[32m[1019 08:56:48 @monitor.py:467]\u001b[0m GAN_loss/discrim/accuracy_fake: 0.828\n",
      "\u001b[32m[1019 08:56:48 @monitor.py:467]\u001b[0m GAN_loss/discrim/accuracy_real: 0.348\n",
      "\u001b[32m[1019 08:56:48 @monitor.py:467]\u001b[0m GAN_loss/discrim/loss: 0.62253\n",
      "\u001b[32m[1019 08:56:48 @monitor.py:467]\u001b[0m GAN_loss/gen/final-g-loss: 1.2774\n",
      "\u001b[32m[1019 08:56:48 @monitor.py:467]\u001b[0m GAN_loss/gen/klloss: 0.074265\n",
      "\u001b[32m[1019 08:56:48 @monitor.py:467]\u001b[0m GAN_loss/gen/loss: 1.2031\n",
      "\u001b[32m[1019 08:56:48 @monitor.py:467]\u001b[0m QueueInput/queue_size: 50\n",
      "\u001b[32m[1019 08:56:48 @base.py:275]\u001b[0m Start Epoch 1103 ...\n"
     ]
    },
    {
     "name": "stderr",
     "output_type": "stream",
     "text": [
      "100%|###################################################################################|175/175[00:05<00:00,31.77it/s]"
     ]
    },
    {
     "name": "stdout",
     "output_type": "stream",
     "text": [
      "\u001b[32m[1019 08:56:54 @base.py:285]\u001b[0m Epoch 1103 (global_step 193025) finished, time:5.51 seconds.\n",
      "\u001b[32m[1019 08:56:54 @saver.py:79]\u001b[0m Model saved to ../output/Chicago/DATGAN_asd29/model\\model-193025.\n"
     ]
    },
    {
     "name": "stderr",
     "output_type": "stream",
     "text": [
      "\n"
     ]
    },
    {
     "name": "stdout",
     "output_type": "stream",
     "text": [
      "\u001b[32m[1019 08:56:54 @monitor.py:467]\u001b[0m GAN_loss/discrim/accuracy_fake: 0.866\n",
      "\u001b[32m[1019 08:56:54 @monitor.py:467]\u001b[0m GAN_loss/discrim/accuracy_real: 0.344\n",
      "\u001b[32m[1019 08:56:54 @monitor.py:467]\u001b[0m GAN_loss/discrim/loss: 0.62108\n",
      "\u001b[32m[1019 08:56:54 @monitor.py:467]\u001b[0m GAN_loss/gen/final-g-loss: 1.2605\n",
      "\u001b[32m[1019 08:56:54 @monitor.py:467]\u001b[0m GAN_loss/gen/klloss: 0.051541\n",
      "\u001b[32m[1019 08:56:54 @monitor.py:467]\u001b[0m GAN_loss/gen/loss: 1.209\n",
      "\u001b[32m[1019 08:56:54 @monitor.py:467]\u001b[0m QueueInput/queue_size: 50\n",
      "\u001b[32m[1019 08:56:54 @base.py:275]\u001b[0m Start Epoch 1104 ...\n"
     ]
    },
    {
     "name": "stderr",
     "output_type": "stream",
     "text": [
      "100%|###################################################################################|175/175[00:05<00:00,31.68it/s]"
     ]
    },
    {
     "name": "stdout",
     "output_type": "stream",
     "text": [
      "\u001b[32m[1019 08:56:59 @base.py:285]\u001b[0m Epoch 1104 (global_step 193200) finished, time:5.52 seconds.\n",
      "\u001b[32m[1019 08:57:00 @saver.py:79]\u001b[0m Model saved to ../output/Chicago/DATGAN_asd29/model\\model-193200.\n"
     ]
    },
    {
     "name": "stderr",
     "output_type": "stream",
     "text": [
      "\n"
     ]
    },
    {
     "name": "stdout",
     "output_type": "stream",
     "text": [
      "\u001b[32m[1019 08:57:00 @monitor.py:467]\u001b[0m GAN_loss/discrim/accuracy_fake: 0.854\n",
      "\u001b[32m[1019 08:57:00 @monitor.py:467]\u001b[0m GAN_loss/discrim/accuracy_real: 0.268\n",
      "\u001b[32m[1019 08:57:00 @monitor.py:467]\u001b[0m GAN_loss/discrim/loss: 0.64052\n",
      "\u001b[32m[1019 08:57:00 @monitor.py:467]\u001b[0m GAN_loss/gen/final-g-loss: 1.2234\n",
      "\u001b[32m[1019 08:57:00 @monitor.py:467]\u001b[0m GAN_loss/gen/klloss: 0.067612\n",
      "\u001b[32m[1019 08:57:00 @monitor.py:467]\u001b[0m GAN_loss/gen/loss: 1.1558\n",
      "\u001b[32m[1019 08:57:00 @monitor.py:467]\u001b[0m QueueInput/queue_size: 50\n",
      "\u001b[32m[1019 08:57:00 @base.py:275]\u001b[0m Start Epoch 1105 ...\n"
     ]
    },
    {
     "name": "stderr",
     "output_type": "stream",
     "text": [
      "100%|###################################################################################|175/175[00:05<00:00,31.74it/s]"
     ]
    },
    {
     "name": "stdout",
     "output_type": "stream",
     "text": [
      "\u001b[32m[1019 08:57:05 @base.py:285]\u001b[0m Epoch 1105 (global_step 193375) finished, time:5.51 seconds.\n",
      "\u001b[32m[1019 08:57:05 @saver.py:79]\u001b[0m Model saved to ../output/Chicago/DATGAN_asd29/model\\model-193375.\n"
     ]
    },
    {
     "name": "stderr",
     "output_type": "stream",
     "text": [
      "\n"
     ]
    },
    {
     "name": "stdout",
     "output_type": "stream",
     "text": [
      "\u001b[32m[1019 08:57:06 @monitor.py:467]\u001b[0m GAN_loss/discrim/accuracy_fake: 0.832\n",
      "\u001b[32m[1019 08:57:06 @monitor.py:467]\u001b[0m GAN_loss/discrim/accuracy_real: 0.312\n",
      "\u001b[32m[1019 08:57:06 @monitor.py:467]\u001b[0m GAN_loss/discrim/loss: 0.63273\n",
      "\u001b[32m[1019 08:57:06 @monitor.py:467]\u001b[0m GAN_loss/gen/final-g-loss: 1.2326\n",
      "\u001b[32m[1019 08:57:06 @monitor.py:467]\u001b[0m GAN_loss/gen/klloss: 0.063432\n",
      "\u001b[32m[1019 08:57:06 @monitor.py:467]\u001b[0m GAN_loss/gen/loss: 1.1692\n",
      "\u001b[32m[1019 08:57:06 @monitor.py:467]\u001b[0m QueueInput/queue_size: 50\n",
      "\u001b[32m[1019 08:57:06 @base.py:275]\u001b[0m Start Epoch 1106 ...\n"
     ]
    },
    {
     "name": "stderr",
     "output_type": "stream",
     "text": [
      "100%|###################################################################################|175/175[00:05<00:00,31.72it/s]"
     ]
    },
    {
     "name": "stdout",
     "output_type": "stream",
     "text": [
      "\u001b[32m[1019 08:57:11 @base.py:285]\u001b[0m Epoch 1106 (global_step 193550) finished, time:5.52 seconds.\n",
      "\u001b[32m[1019 08:57:11 @saver.py:79]\u001b[0m Model saved to ../output/Chicago/DATGAN_asd29/model\\model-193550.\n"
     ]
    },
    {
     "name": "stderr",
     "output_type": "stream",
     "text": [
      "\n"
     ]
    },
    {
     "name": "stdout",
     "output_type": "stream",
     "text": [
      "\u001b[32m[1019 08:57:11 @monitor.py:467]\u001b[0m GAN_loss/discrim/accuracy_fake: 0.826\n",
      "\u001b[32m[1019 08:57:11 @monitor.py:467]\u001b[0m GAN_loss/discrim/accuracy_real: 0.352\n",
      "\u001b[32m[1019 08:57:11 @monitor.py:467]\u001b[0m GAN_loss/discrim/loss: 0.62328\n",
      "\u001b[32m[1019 08:57:11 @monitor.py:467]\u001b[0m GAN_loss/gen/final-g-loss: 1.2972\n",
      "\u001b[32m[1019 08:57:11 @monitor.py:467]\u001b[0m GAN_loss/gen/klloss: 0.12702\n",
      "\u001b[32m[1019 08:57:11 @monitor.py:467]\u001b[0m GAN_loss/gen/loss: 1.1702\n",
      "\u001b[32m[1019 08:57:11 @monitor.py:467]\u001b[0m QueueInput/queue_size: 50\n",
      "\u001b[32m[1019 08:57:11 @base.py:275]\u001b[0m Start Epoch 1107 ...\n"
     ]
    },
    {
     "name": "stderr",
     "output_type": "stream",
     "text": [
      "100%|###################################################################################|175/175[00:05<00:00,31.77it/s]"
     ]
    },
    {
     "name": "stdout",
     "output_type": "stream",
     "text": [
      "\u001b[32m[1019 08:57:17 @base.py:285]\u001b[0m Epoch 1107 (global_step 193725) finished, time:5.51 seconds.\n",
      "\u001b[32m[1019 08:57:17 @saver.py:79]\u001b[0m Model saved to ../output/Chicago/DATGAN_asd29/model\\model-193725.\n"
     ]
    },
    {
     "name": "stderr",
     "output_type": "stream",
     "text": [
      "\n"
     ]
    },
    {
     "name": "stdout",
     "output_type": "stream",
     "text": [
      "\u001b[32m[1019 08:57:17 @monitor.py:467]\u001b[0m GAN_loss/discrim/accuracy_fake: 0.844\n",
      "\u001b[32m[1019 08:57:17 @monitor.py:467]\u001b[0m GAN_loss/discrim/accuracy_real: 0.346\n",
      "\u001b[32m[1019 08:57:17 @monitor.py:467]\u001b[0m GAN_loss/discrim/loss: 0.6214\n",
      "\u001b[32m[1019 08:57:17 @monitor.py:467]\u001b[0m GAN_loss/gen/final-g-loss: 1.2347\n",
      "\u001b[32m[1019 08:57:17 @monitor.py:467]\u001b[0m GAN_loss/gen/klloss: 0.062217\n",
      "\u001b[32m[1019 08:57:17 @monitor.py:467]\u001b[0m GAN_loss/gen/loss: 1.1724\n",
      "\u001b[32m[1019 08:57:17 @monitor.py:467]\u001b[0m QueueInput/queue_size: 50\n",
      "\u001b[32m[1019 08:57:17 @base.py:275]\u001b[0m Start Epoch 1108 ...\n"
     ]
    },
    {
     "name": "stderr",
     "output_type": "stream",
     "text": [
      "100%|###################################################################################|175/175[00:05<00:00,31.73it/s]"
     ]
    },
    {
     "name": "stdout",
     "output_type": "stream",
     "text": [
      "\u001b[32m[1019 08:57:23 @base.py:285]\u001b[0m Epoch 1108 (global_step 193900) finished, time:5.52 seconds.\n",
      "\u001b[32m[1019 08:57:23 @saver.py:79]\u001b[0m Model saved to ../output/Chicago/DATGAN_asd29/model\\model-193900.\n"
     ]
    },
    {
     "name": "stderr",
     "output_type": "stream",
     "text": [
      "\n"
     ]
    },
    {
     "name": "stdout",
     "output_type": "stream",
     "text": [
      "\u001b[32m[1019 08:57:23 @monitor.py:467]\u001b[0m GAN_loss/discrim/accuracy_fake: 0.796\n",
      "\u001b[32m[1019 08:57:23 @monitor.py:467]\u001b[0m GAN_loss/discrim/accuracy_real: 0.302\n",
      "\u001b[32m[1019 08:57:23 @monitor.py:467]\u001b[0m GAN_loss/discrim/loss: 0.63905\n",
      "\u001b[32m[1019 08:57:23 @monitor.py:467]\u001b[0m GAN_loss/gen/final-g-loss: 1.2228\n",
      "\u001b[32m[1019 08:57:23 @monitor.py:467]\u001b[0m GAN_loss/gen/klloss: 0.062952\n",
      "\u001b[32m[1019 08:57:23 @monitor.py:467]\u001b[0m GAN_loss/gen/loss: 1.1598\n",
      "\u001b[32m[1019 08:57:23 @monitor.py:467]\u001b[0m QueueInput/queue_size: 50\n",
      "\u001b[32m[1019 08:57:23 @base.py:275]\u001b[0m Start Epoch 1109 ...\n"
     ]
    },
    {
     "name": "stderr",
     "output_type": "stream",
     "text": [
      "100%|###################################################################################|175/175[00:05<00:00,31.78it/s]"
     ]
    },
    {
     "name": "stdout",
     "output_type": "stream",
     "text": [
      "\u001b[32m[1019 08:57:28 @base.py:285]\u001b[0m Epoch 1109 (global_step 194075) finished, time:5.51 seconds.\n",
      "\u001b[32m[1019 08:57:28 @saver.py:79]\u001b[0m Model saved to ../output/Chicago/DATGAN_asd29/model\\model-194075.\n"
     ]
    },
    {
     "name": "stderr",
     "output_type": "stream",
     "text": [
      "\n"
     ]
    },
    {
     "name": "stdout",
     "output_type": "stream",
     "text": [
      "\u001b[32m[1019 08:57:29 @monitor.py:467]\u001b[0m GAN_loss/discrim/accuracy_fake: 0.818\n",
      "\u001b[32m[1019 08:57:29 @monitor.py:467]\u001b[0m GAN_loss/discrim/accuracy_real: 0.338\n",
      "\u001b[32m[1019 08:57:29 @monitor.py:467]\u001b[0m GAN_loss/discrim/loss: 0.63736\n",
      "\u001b[32m[1019 08:57:29 @monitor.py:467]\u001b[0m GAN_loss/gen/final-g-loss: 1.2367\n",
      "\u001b[32m[1019 08:57:29 @monitor.py:467]\u001b[0m GAN_loss/gen/klloss: 0.081124\n",
      "\u001b[32m[1019 08:57:29 @monitor.py:467]\u001b[0m GAN_loss/gen/loss: 1.1556\n",
      "\u001b[32m[1019 08:57:29 @monitor.py:467]\u001b[0m QueueInput/queue_size: 50\n",
      "\u001b[32m[1019 08:57:29 @base.py:275]\u001b[0m Start Epoch 1110 ...\n"
     ]
    },
    {
     "name": "stderr",
     "output_type": "stream",
     "text": [
      "100%|###################################################################################|175/175[00:05<00:00,31.72it/s]"
     ]
    },
    {
     "name": "stdout",
     "output_type": "stream",
     "text": [
      "\u001b[32m[1019 08:57:34 @base.py:285]\u001b[0m Epoch 1110 (global_step 194250) finished, time:5.52 seconds.\n",
      "\u001b[32m[1019 08:57:34 @saver.py:79]\u001b[0m Model saved to ../output/Chicago/DATGAN_asd29/model\\model-194250.\n"
     ]
    },
    {
     "name": "stderr",
     "output_type": "stream",
     "text": [
      "\n"
     ]
    },
    {
     "name": "stdout",
     "output_type": "stream",
     "text": [
      "\u001b[32m[1019 08:57:34 @monitor.py:467]\u001b[0m GAN_loss/discrim/accuracy_fake: 0.836\n",
      "\u001b[32m[1019 08:57:34 @monitor.py:467]\u001b[0m GAN_loss/discrim/accuracy_real: 0.336\n",
      "\u001b[32m[1019 08:57:34 @monitor.py:467]\u001b[0m GAN_loss/discrim/loss: 0.63226\n",
      "\u001b[32m[1019 08:57:34 @monitor.py:467]\u001b[0m GAN_loss/gen/final-g-loss: 1.238\n",
      "\u001b[32m[1019 08:57:34 @monitor.py:467]\u001b[0m GAN_loss/gen/klloss: 0.090812\n",
      "\u001b[32m[1019 08:57:34 @monitor.py:467]\u001b[0m GAN_loss/gen/loss: 1.1472\n",
      "\u001b[32m[1019 08:57:34 @monitor.py:467]\u001b[0m QueueInput/queue_size: 50\n",
      "\u001b[32m[1019 08:57:34 @base.py:275]\u001b[0m Start Epoch 1111 ...\n"
     ]
    },
    {
     "name": "stderr",
     "output_type": "stream",
     "text": [
      "100%|###################################################################################|175/175[00:05<00:00,31.71it/s]"
     ]
    },
    {
     "name": "stdout",
     "output_type": "stream",
     "text": [
      "\u001b[32m[1019 08:57:40 @base.py:285]\u001b[0m Epoch 1111 (global_step 194425) finished, time:5.52 seconds.\n",
      "\u001b[32m[1019 08:57:40 @saver.py:79]\u001b[0m Model saved to ../output/Chicago/DATGAN_asd29/model\\model-194425.\n"
     ]
    },
    {
     "name": "stderr",
     "output_type": "stream",
     "text": [
      "\n"
     ]
    },
    {
     "name": "stdout",
     "output_type": "stream",
     "text": [
      "\u001b[32m[1019 08:57:40 @monitor.py:467]\u001b[0m GAN_loss/discrim/accuracy_fake: 0.858\n",
      "\u001b[32m[1019 08:57:40 @monitor.py:467]\u001b[0m GAN_loss/discrim/accuracy_real: 0.262\n",
      "\u001b[32m[1019 08:57:40 @monitor.py:467]\u001b[0m GAN_loss/discrim/loss: 0.64645\n",
      "\u001b[32m[1019 08:57:40 @monitor.py:467]\u001b[0m GAN_loss/gen/final-g-loss: 1.2409\n",
      "\u001b[32m[1019 08:57:40 @monitor.py:467]\u001b[0m GAN_loss/gen/klloss: 0.079612\n",
      "\u001b[32m[1019 08:57:40 @monitor.py:467]\u001b[0m GAN_loss/gen/loss: 1.1613\n",
      "\u001b[32m[1019 08:57:40 @monitor.py:467]\u001b[0m QueueInput/queue_size: 50\n",
      "\u001b[32m[1019 08:57:40 @base.py:275]\u001b[0m Start Epoch 1112 ...\n"
     ]
    },
    {
     "name": "stderr",
     "output_type": "stream",
     "text": [
      "100%|###################################################################################|175/175[00:05<00:00,31.75it/s]"
     ]
    },
    {
     "name": "stdout",
     "output_type": "stream",
     "text": [
      "\u001b[32m[1019 08:57:46 @base.py:285]\u001b[0m Epoch 1112 (global_step 194600) finished, time:5.51 seconds.\n",
      "\u001b[32m[1019 08:57:46 @saver.py:79]\u001b[0m Model saved to ../output/Chicago/DATGAN_asd29/model\\model-194600.\n"
     ]
    },
    {
     "name": "stderr",
     "output_type": "stream",
     "text": [
      "\n"
     ]
    },
    {
     "name": "stdout",
     "output_type": "stream",
     "text": [
      "\u001b[32m[1019 08:57:46 @monitor.py:467]\u001b[0m GAN_loss/discrim/accuracy_fake: 0.854\n",
      "\u001b[32m[1019 08:57:46 @monitor.py:467]\u001b[0m GAN_loss/discrim/accuracy_real: 0.304\n",
      "\u001b[32m[1019 08:57:46 @monitor.py:467]\u001b[0m GAN_loss/discrim/loss: 0.63171\n",
      "\u001b[32m[1019 08:57:46 @monitor.py:467]\u001b[0m GAN_loss/gen/final-g-loss: 1.2722\n",
      "\u001b[32m[1019 08:57:46 @monitor.py:467]\u001b[0m GAN_loss/gen/klloss: 0.10143\n",
      "\u001b[32m[1019 08:57:46 @monitor.py:467]\u001b[0m GAN_loss/gen/loss: 1.1708\n",
      "\u001b[32m[1019 08:57:46 @monitor.py:467]\u001b[0m QueueInput/queue_size: 50\n",
      "\u001b[32m[1019 08:57:46 @base.py:275]\u001b[0m Start Epoch 1113 ...\n"
     ]
    },
    {
     "name": "stderr",
     "output_type": "stream",
     "text": [
      "100%|###################################################################################|175/175[00:05<00:00,31.68it/s]"
     ]
    },
    {
     "name": "stdout",
     "output_type": "stream",
     "text": [
      "\u001b[32m[1019 08:57:52 @base.py:285]\u001b[0m Epoch 1113 (global_step 194775) finished, time:5.52 seconds.\n",
      "\u001b[32m[1019 08:57:52 @saver.py:79]\u001b[0m Model saved to ../output/Chicago/DATGAN_asd29/model\\model-194775.\n"
     ]
    },
    {
     "name": "stderr",
     "output_type": "stream",
     "text": [
      "\n"
     ]
    },
    {
     "name": "stdout",
     "output_type": "stream",
     "text": [
      "\u001b[32m[1019 08:57:52 @monitor.py:467]\u001b[0m GAN_loss/discrim/accuracy_fake: 0.852\n",
      "\u001b[32m[1019 08:57:52 @monitor.py:467]\u001b[0m GAN_loss/discrim/accuracy_real: 0.364\n",
      "\u001b[32m[1019 08:57:52 @monitor.py:467]\u001b[0m GAN_loss/discrim/loss: 0.60843\n",
      "\u001b[32m[1019 08:57:52 @monitor.py:467]\u001b[0m GAN_loss/gen/final-g-loss: 1.3336\n",
      "\u001b[32m[1019 08:57:52 @monitor.py:467]\u001b[0m GAN_loss/gen/klloss: 0.10768\n",
      "\u001b[32m[1019 08:57:52 @monitor.py:467]\u001b[0m GAN_loss/gen/loss: 1.226\n",
      "\u001b[32m[1019 08:57:52 @monitor.py:467]\u001b[0m QueueInput/queue_size: 50\n",
      "\u001b[32m[1019 08:57:52 @base.py:275]\u001b[0m Start Epoch 1114 ...\n"
     ]
    },
    {
     "name": "stderr",
     "output_type": "stream",
     "text": [
      "100%|###################################################################################|175/175[00:05<00:00,31.73it/s]"
     ]
    },
    {
     "name": "stdout",
     "output_type": "stream",
     "text": [
      "\u001b[32m[1019 08:57:57 @base.py:285]\u001b[0m Epoch 1114 (global_step 194950) finished, time:5.52 seconds.\n",
      "\u001b[32m[1019 08:57:57 @saver.py:79]\u001b[0m Model saved to ../output/Chicago/DATGAN_asd29/model\\model-194950.\n"
     ]
    },
    {
     "name": "stderr",
     "output_type": "stream",
     "text": [
      "\n"
     ]
    },
    {
     "name": "stdout",
     "output_type": "stream",
     "text": [
      "\u001b[32m[1019 08:57:58 @monitor.py:467]\u001b[0m GAN_loss/discrim/accuracy_fake: 0.816\n",
      "\u001b[32m[1019 08:57:58 @monitor.py:467]\u001b[0m GAN_loss/discrim/accuracy_real: 0.304\n",
      "\u001b[32m[1019 08:57:58 @monitor.py:467]\u001b[0m GAN_loss/discrim/loss: 0.64649\n",
      "\u001b[32m[1019 08:57:58 @monitor.py:467]\u001b[0m GAN_loss/gen/final-g-loss: 1.2166\n",
      "\u001b[32m[1019 08:57:58 @monitor.py:467]\u001b[0m GAN_loss/gen/klloss: 0.046172\n",
      "\u001b[32m[1019 08:57:58 @monitor.py:467]\u001b[0m GAN_loss/gen/loss: 1.1705\n",
      "\u001b[32m[1019 08:57:58 @monitor.py:467]\u001b[0m QueueInput/queue_size: 50\n",
      "\u001b[32m[1019 08:57:58 @base.py:275]\u001b[0m Start Epoch 1115 ...\n"
     ]
    },
    {
     "name": "stderr",
     "output_type": "stream",
     "text": [
      "100%|###################################################################################|175/175[00:05<00:00,31.71it/s]"
     ]
    },
    {
     "name": "stdout",
     "output_type": "stream",
     "text": [
      "\u001b[32m[1019 08:58:03 @base.py:285]\u001b[0m Epoch 1115 (global_step 195125) finished, time:5.52 seconds.\n",
      "\u001b[32m[1019 08:58:03 @saver.py:79]\u001b[0m Model saved to ../output/Chicago/DATGAN_asd29/model\\model-195125.\n"
     ]
    },
    {
     "name": "stderr",
     "output_type": "stream",
     "text": [
      "\n"
     ]
    },
    {
     "name": "stdout",
     "output_type": "stream",
     "text": [
      "\u001b[32m[1019 08:58:03 @monitor.py:467]\u001b[0m GAN_loss/discrim/accuracy_fake: 0.882\n",
      "\u001b[32m[1019 08:58:03 @monitor.py:467]\u001b[0m GAN_loss/discrim/accuracy_real: 0.314\n",
      "\u001b[32m[1019 08:58:03 @monitor.py:467]\u001b[0m GAN_loss/discrim/loss: 0.6189\n",
      "\u001b[32m[1019 08:58:03 @monitor.py:467]\u001b[0m GAN_loss/gen/final-g-loss: 1.2322\n",
      "\u001b[32m[1019 08:58:03 @monitor.py:467]\u001b[0m GAN_loss/gen/klloss: 0.052231\n",
      "\u001b[32m[1019 08:58:03 @monitor.py:467]\u001b[0m GAN_loss/gen/loss: 1.1799\n",
      "\u001b[32m[1019 08:58:03 @monitor.py:467]\u001b[0m QueueInput/queue_size: 50\n",
      "\u001b[32m[1019 08:58:03 @base.py:275]\u001b[0m Start Epoch 1116 ...\n"
     ]
    },
    {
     "name": "stderr",
     "output_type": "stream",
     "text": [
      "100%|###################################################################################|175/175[00:05<00:00,31.74it/s]"
     ]
    },
    {
     "name": "stdout",
     "output_type": "stream",
     "text": [
      "\u001b[32m[1019 08:58:09 @base.py:285]\u001b[0m Epoch 1116 (global_step 195300) finished, time:5.51 seconds.\n",
      "\u001b[32m[1019 08:58:09 @saver.py:79]\u001b[0m Model saved to ../output/Chicago/DATGAN_asd29/model\\model-195300.\n"
     ]
    },
    {
     "name": "stderr",
     "output_type": "stream",
     "text": [
      "\n"
     ]
    },
    {
     "name": "stdout",
     "output_type": "stream",
     "text": [
      "\u001b[32m[1019 08:58:09 @monitor.py:467]\u001b[0m GAN_loss/discrim/accuracy_fake: 0.848\n",
      "\u001b[32m[1019 08:58:09 @monitor.py:467]\u001b[0m GAN_loss/discrim/accuracy_real: 0.306\n",
      "\u001b[32m[1019 08:58:09 @monitor.py:467]\u001b[0m GAN_loss/discrim/loss: 0.64383\n",
      "\u001b[32m[1019 08:58:09 @monitor.py:467]\u001b[0m GAN_loss/gen/final-g-loss: 1.2336\n",
      "\u001b[32m[1019 08:58:09 @monitor.py:467]\u001b[0m GAN_loss/gen/klloss: 0.080464\n",
      "\u001b[32m[1019 08:58:09 @monitor.py:467]\u001b[0m GAN_loss/gen/loss: 1.1532\n",
      "\u001b[32m[1019 08:58:09 @monitor.py:467]\u001b[0m QueueInput/queue_size: 50\n",
      "\u001b[32m[1019 08:58:09 @base.py:275]\u001b[0m Start Epoch 1117 ...\n"
     ]
    },
    {
     "name": "stderr",
     "output_type": "stream",
     "text": [
      "100%|###################################################################################|175/175[00:05<00:00,31.69it/s]"
     ]
    },
    {
     "name": "stdout",
     "output_type": "stream",
     "text": [
      "\u001b[32m[1019 08:58:15 @base.py:285]\u001b[0m Epoch 1117 (global_step 195475) finished, time:5.52 seconds.\n",
      "\u001b[32m[1019 08:58:15 @saver.py:79]\u001b[0m Model saved to ../output/Chicago/DATGAN_asd29/model\\model-195475.\n"
     ]
    },
    {
     "name": "stderr",
     "output_type": "stream",
     "text": [
      "\n"
     ]
    },
    {
     "name": "stdout",
     "output_type": "stream",
     "text": [
      "\u001b[32m[1019 08:58:15 @monitor.py:467]\u001b[0m GAN_loss/discrim/accuracy_fake: 0.826\n",
      "\u001b[32m[1019 08:58:15 @monitor.py:467]\u001b[0m GAN_loss/discrim/accuracy_real: 0.32\n",
      "\u001b[32m[1019 08:58:15 @monitor.py:467]\u001b[0m GAN_loss/discrim/loss: 0.62784\n",
      "\u001b[32m[1019 08:58:15 @monitor.py:467]\u001b[0m GAN_loss/gen/final-g-loss: 1.2432\n",
      "\u001b[32m[1019 08:58:15 @monitor.py:467]\u001b[0m GAN_loss/gen/klloss: 0.0633\n",
      "\u001b[32m[1019 08:58:15 @monitor.py:467]\u001b[0m GAN_loss/gen/loss: 1.1799\n",
      "\u001b[32m[1019 08:58:15 @monitor.py:467]\u001b[0m QueueInput/queue_size: 50\n",
      "\u001b[32m[1019 08:58:15 @base.py:275]\u001b[0m Start Epoch 1118 ...\n"
     ]
    },
    {
     "name": "stderr",
     "output_type": "stream",
     "text": [
      "100%|###################################################################################|175/175[00:05<00:00,31.77it/s]"
     ]
    },
    {
     "name": "stdout",
     "output_type": "stream",
     "text": [
      "\u001b[32m[1019 08:58:20 @base.py:285]\u001b[0m Epoch 1118 (global_step 195650) finished, time:5.51 seconds.\n",
      "\u001b[32m[1019 08:58:21 @saver.py:79]\u001b[0m Model saved to ../output/Chicago/DATGAN_asd29/model\\model-195650.\n"
     ]
    },
    {
     "name": "stderr",
     "output_type": "stream",
     "text": [
      "\n"
     ]
    },
    {
     "name": "stdout",
     "output_type": "stream",
     "text": [
      "\u001b[32m[1019 08:58:21 @monitor.py:467]\u001b[0m GAN_loss/discrim/accuracy_fake: 0.842\n",
      "\u001b[32m[1019 08:58:21 @monitor.py:467]\u001b[0m GAN_loss/discrim/accuracy_real: 0.326\n",
      "\u001b[32m[1019 08:58:21 @monitor.py:467]\u001b[0m GAN_loss/discrim/loss: 0.63106\n",
      "\u001b[32m[1019 08:58:21 @monitor.py:467]\u001b[0m GAN_loss/gen/final-g-loss: 1.2452\n",
      "\u001b[32m[1019 08:58:21 @monitor.py:467]\u001b[0m GAN_loss/gen/klloss: 0.063244\n",
      "\u001b[32m[1019 08:58:21 @monitor.py:467]\u001b[0m GAN_loss/gen/loss: 1.182\n",
      "\u001b[32m[1019 08:58:21 @monitor.py:467]\u001b[0m QueueInput/queue_size: 50\n",
      "\u001b[32m[1019 08:58:21 @base.py:275]\u001b[0m Start Epoch 1119 ...\n"
     ]
    },
    {
     "name": "stderr",
     "output_type": "stream",
     "text": [
      "100%|###################################################################################|175/175[00:05<00:00,31.71it/s]"
     ]
    },
    {
     "name": "stdout",
     "output_type": "stream",
     "text": [
      "\u001b[32m[1019 08:58:26 @base.py:285]\u001b[0m Epoch 1119 (global_step 195825) finished, time:5.52 seconds.\n",
      "\u001b[32m[1019 08:58:26 @saver.py:79]\u001b[0m Model saved to ../output/Chicago/DATGAN_asd29/model\\model-195825.\n"
     ]
    },
    {
     "name": "stderr",
     "output_type": "stream",
     "text": [
      "\n"
     ]
    },
    {
     "name": "stdout",
     "output_type": "stream",
     "text": [
      "\u001b[32m[1019 08:58:27 @monitor.py:467]\u001b[0m GAN_loss/discrim/accuracy_fake: 0.814\n",
      "\u001b[32m[1019 08:58:27 @monitor.py:467]\u001b[0m GAN_loss/discrim/accuracy_real: 0.274\n",
      "\u001b[32m[1019 08:58:27 @monitor.py:467]\u001b[0m GAN_loss/discrim/loss: 0.63949\n",
      "\u001b[32m[1019 08:58:27 @monitor.py:467]\u001b[0m GAN_loss/gen/final-g-loss: 1.2721\n",
      "\u001b[32m[1019 08:58:27 @monitor.py:467]\u001b[0m GAN_loss/gen/klloss: 0.078295\n",
      "\u001b[32m[1019 08:58:27 @monitor.py:467]\u001b[0m GAN_loss/gen/loss: 1.1938\n",
      "\u001b[32m[1019 08:58:27 @monitor.py:467]\u001b[0m QueueInput/queue_size: 50\n",
      "\u001b[32m[1019 08:58:27 @base.py:275]\u001b[0m Start Epoch 1120 ...\n"
     ]
    },
    {
     "name": "stderr",
     "output_type": "stream",
     "text": [
      "100%|###################################################################################|175/175[00:05<00:00,31.77it/s]"
     ]
    },
    {
     "name": "stdout",
     "output_type": "stream",
     "text": [
      "\u001b[32m[1019 08:58:32 @base.py:285]\u001b[0m Epoch 1120 (global_step 196000) finished, time:5.51 seconds.\n",
      "\u001b[32m[1019 08:58:32 @saver.py:79]\u001b[0m Model saved to ../output/Chicago/DATGAN_asd29/model\\model-196000.\n"
     ]
    },
    {
     "name": "stderr",
     "output_type": "stream",
     "text": [
      "\n"
     ]
    },
    {
     "name": "stdout",
     "output_type": "stream",
     "text": [
      "\u001b[32m[1019 08:58:32 @monitor.py:467]\u001b[0m GAN_loss/discrim/accuracy_fake: 0.806\n",
      "\u001b[32m[1019 08:58:32 @monitor.py:467]\u001b[0m GAN_loss/discrim/accuracy_real: 0.376\n",
      "\u001b[32m[1019 08:58:32 @monitor.py:467]\u001b[0m GAN_loss/discrim/loss: 0.61914\n",
      "\u001b[32m[1019 08:58:32 @monitor.py:467]\u001b[0m GAN_loss/gen/final-g-loss: 1.2509\n",
      "\u001b[32m[1019 08:58:32 @monitor.py:467]\u001b[0m GAN_loss/gen/klloss: 0.053768\n",
      "\u001b[32m[1019 08:58:32 @monitor.py:467]\u001b[0m GAN_loss/gen/loss: 1.1971\n",
      "\u001b[32m[1019 08:58:32 @monitor.py:467]\u001b[0m QueueInput/queue_size: 50\n",
      "\u001b[32m[1019 08:58:32 @base.py:275]\u001b[0m Start Epoch 1121 ...\n"
     ]
    },
    {
     "name": "stderr",
     "output_type": "stream",
     "text": [
      "100%|###################################################################################|175/175[00:05<00:00,31.74it/s]"
     ]
    },
    {
     "name": "stdout",
     "output_type": "stream",
     "text": [
      "\u001b[32m[1019 08:58:38 @base.py:285]\u001b[0m Epoch 1121 (global_step 196175) finished, time:5.51 seconds.\n",
      "\u001b[32m[1019 08:58:38 @saver.py:79]\u001b[0m Model saved to ../output/Chicago/DATGAN_asd29/model\\model-196175.\n"
     ]
    },
    {
     "name": "stderr",
     "output_type": "stream",
     "text": [
      "\n"
     ]
    },
    {
     "name": "stdout",
     "output_type": "stream",
     "text": [
      "\u001b[32m[1019 08:58:38 @monitor.py:467]\u001b[0m GAN_loss/discrim/accuracy_fake: 0.804\n",
      "\u001b[32m[1019 08:58:38 @monitor.py:467]\u001b[0m GAN_loss/discrim/accuracy_real: 0.35\n",
      "\u001b[32m[1019 08:58:38 @monitor.py:467]\u001b[0m GAN_loss/discrim/loss: 0.63079\n",
      "\u001b[32m[1019 08:58:38 @monitor.py:467]\u001b[0m GAN_loss/gen/final-g-loss: 1.271\n",
      "\u001b[32m[1019 08:58:38 @monitor.py:467]\u001b[0m GAN_loss/gen/klloss: 0.094779\n",
      "\u001b[32m[1019 08:58:38 @monitor.py:467]\u001b[0m GAN_loss/gen/loss: 1.1762\n",
      "\u001b[32m[1019 08:58:38 @monitor.py:467]\u001b[0m QueueInput/queue_size: 50\n",
      "\u001b[32m[1019 08:58:38 @base.py:275]\u001b[0m Start Epoch 1122 ...\n"
     ]
    },
    {
     "name": "stderr",
     "output_type": "stream",
     "text": [
      "100%|###################################################################################|175/175[00:05<00:00,31.76it/s]"
     ]
    },
    {
     "name": "stdout",
     "output_type": "stream",
     "text": [
      "\u001b[32m[1019 08:58:44 @base.py:285]\u001b[0m Epoch 1122 (global_step 196350) finished, time:5.51 seconds.\n",
      "\u001b[32m[1019 08:58:44 @saver.py:79]\u001b[0m Model saved to ../output/Chicago/DATGAN_asd29/model\\model-196350.\n"
     ]
    },
    {
     "name": "stderr",
     "output_type": "stream",
     "text": [
      "\n"
     ]
    },
    {
     "name": "stdout",
     "output_type": "stream",
     "text": [
      "\u001b[32m[1019 08:58:44 @monitor.py:467]\u001b[0m GAN_loss/discrim/accuracy_fake: 0.836\n",
      "\u001b[32m[1019 08:58:44 @monitor.py:467]\u001b[0m GAN_loss/discrim/accuracy_real: 0.336\n",
      "\u001b[32m[1019 08:58:44 @monitor.py:467]\u001b[0m GAN_loss/discrim/loss: 0.62684\n",
      "\u001b[32m[1019 08:58:44 @monitor.py:467]\u001b[0m GAN_loss/gen/final-g-loss: 1.249\n",
      "\u001b[32m[1019 08:58:44 @monitor.py:467]\u001b[0m GAN_loss/gen/klloss: 0.072792\n",
      "\u001b[32m[1019 08:58:44 @monitor.py:467]\u001b[0m GAN_loss/gen/loss: 1.1762\n",
      "\u001b[32m[1019 08:58:44 @monitor.py:467]\u001b[0m QueueInput/queue_size: 50\n",
      "\u001b[32m[1019 08:58:44 @base.py:275]\u001b[0m Start Epoch 1123 ...\n"
     ]
    },
    {
     "name": "stderr",
     "output_type": "stream",
     "text": [
      "100%|###################################################################################|175/175[00:05<00:00,31.74it/s]"
     ]
    },
    {
     "name": "stdout",
     "output_type": "stream",
     "text": [
      "\u001b[32m[1019 08:58:49 @base.py:285]\u001b[0m Epoch 1123 (global_step 196525) finished, time:5.51 seconds.\n",
      "\u001b[32m[1019 08:58:49 @saver.py:79]\u001b[0m Model saved to ../output/Chicago/DATGAN_asd29/model\\model-196525.\n"
     ]
    },
    {
     "name": "stderr",
     "output_type": "stream",
     "text": [
      "\n"
     ]
    },
    {
     "name": "stdout",
     "output_type": "stream",
     "text": [
      "\u001b[32m[1019 08:58:50 @monitor.py:467]\u001b[0m GAN_loss/discrim/accuracy_fake: 0.854\n",
      "\u001b[32m[1019 08:58:50 @monitor.py:467]\u001b[0m GAN_loss/discrim/accuracy_real: 0.358\n",
      "\u001b[32m[1019 08:58:50 @monitor.py:467]\u001b[0m GAN_loss/discrim/loss: 0.61178\n",
      "\u001b[32m[1019 08:58:50 @monitor.py:467]\u001b[0m GAN_loss/gen/final-g-loss: 1.3475\n",
      "\u001b[32m[1019 08:58:50 @monitor.py:467]\u001b[0m GAN_loss/gen/klloss: 0.12206\n",
      "\u001b[32m[1019 08:58:50 @monitor.py:467]\u001b[0m GAN_loss/gen/loss: 1.2255\n",
      "\u001b[32m[1019 08:58:50 @monitor.py:467]\u001b[0m QueueInput/queue_size: 50\n",
      "\u001b[32m[1019 08:58:50 @base.py:275]\u001b[0m Start Epoch 1124 ...\n"
     ]
    },
    {
     "name": "stderr",
     "output_type": "stream",
     "text": [
      "100%|###################################################################################|175/175[00:05<00:00,31.73it/s]"
     ]
    },
    {
     "name": "stdout",
     "output_type": "stream",
     "text": [
      "\u001b[32m[1019 08:58:55 @base.py:285]\u001b[0m Epoch 1124 (global_step 196700) finished, time:5.52 seconds.\n",
      "\u001b[32m[1019 08:58:55 @saver.py:79]\u001b[0m Model saved to ../output/Chicago/DATGAN_asd29/model\\model-196700.\n"
     ]
    },
    {
     "name": "stderr",
     "output_type": "stream",
     "text": [
      "\n"
     ]
    },
    {
     "name": "stdout",
     "output_type": "stream",
     "text": [
      "\u001b[32m[1019 08:58:55 @monitor.py:467]\u001b[0m GAN_loss/discrim/accuracy_fake: 0.828\n",
      "\u001b[32m[1019 08:58:55 @monitor.py:467]\u001b[0m GAN_loss/discrim/accuracy_real: 0.39\n",
      "\u001b[32m[1019 08:58:55 @monitor.py:467]\u001b[0m GAN_loss/discrim/loss: 0.61337\n",
      "\u001b[32m[1019 08:58:55 @monitor.py:467]\u001b[0m GAN_loss/gen/final-g-loss: 1.2565\n",
      "\u001b[32m[1019 08:58:55 @monitor.py:467]\u001b[0m GAN_loss/gen/klloss: 0.065126\n",
      "\u001b[32m[1019 08:58:55 @monitor.py:467]\u001b[0m GAN_loss/gen/loss: 1.1914\n",
      "\u001b[32m[1019 08:58:55 @monitor.py:467]\u001b[0m QueueInput/queue_size: 50\n",
      "\u001b[32m[1019 08:58:55 @base.py:275]\u001b[0m Start Epoch 1125 ...\n"
     ]
    },
    {
     "name": "stderr",
     "output_type": "stream",
     "text": [
      "100%|###################################################################################|175/175[00:05<00:00,31.70it/s]"
     ]
    },
    {
     "name": "stdout",
     "output_type": "stream",
     "text": [
      "\u001b[32m[1019 08:59:01 @base.py:285]\u001b[0m Epoch 1125 (global_step 196875) finished, time:5.52 seconds.\n",
      "\u001b[32m[1019 08:59:01 @saver.py:79]\u001b[0m Model saved to ../output/Chicago/DATGAN_asd29/model\\model-196875.\n"
     ]
    },
    {
     "name": "stderr",
     "output_type": "stream",
     "text": [
      "\n"
     ]
    },
    {
     "name": "stdout",
     "output_type": "stream",
     "text": [
      "\u001b[32m[1019 08:59:01 @monitor.py:467]\u001b[0m GAN_loss/discrim/accuracy_fake: 0.836\n",
      "\u001b[32m[1019 08:59:01 @monitor.py:467]\u001b[0m GAN_loss/discrim/accuracy_real: 0.37\n",
      "\u001b[32m[1019 08:59:01 @monitor.py:467]\u001b[0m GAN_loss/discrim/loss: 0.61948\n",
      "\u001b[32m[1019 08:59:01 @monitor.py:467]\u001b[0m GAN_loss/gen/final-g-loss: 1.2529\n",
      "\u001b[32m[1019 08:59:01 @monitor.py:467]\u001b[0m GAN_loss/gen/klloss: 0.061766\n",
      "\u001b[32m[1019 08:59:01 @monitor.py:467]\u001b[0m GAN_loss/gen/loss: 1.1911\n",
      "\u001b[32m[1019 08:59:01 @monitor.py:467]\u001b[0m QueueInput/queue_size: 50\n",
      "\u001b[32m[1019 08:59:01 @base.py:275]\u001b[0m Start Epoch 1126 ...\n"
     ]
    },
    {
     "name": "stderr",
     "output_type": "stream",
     "text": [
      "100%|###################################################################################|175/175[00:05<00:00,31.75it/s]"
     ]
    },
    {
     "name": "stdout",
     "output_type": "stream",
     "text": [
      "\u001b[32m[1019 08:59:07 @base.py:285]\u001b[0m Epoch 1126 (global_step 197050) finished, time:5.51 seconds.\n",
      "\u001b[32m[1019 08:59:07 @saver.py:79]\u001b[0m Model saved to ../output/Chicago/DATGAN_asd29/model\\model-197050.\n"
     ]
    },
    {
     "name": "stderr",
     "output_type": "stream",
     "text": [
      "\n"
     ]
    },
    {
     "name": "stdout",
     "output_type": "stream",
     "text": [
      "\u001b[32m[1019 08:59:07 @monitor.py:467]\u001b[0m GAN_loss/discrim/accuracy_fake: 0.84\n",
      "\u001b[32m[1019 08:59:07 @monitor.py:467]\u001b[0m GAN_loss/discrim/accuracy_real: 0.35\n",
      "\u001b[32m[1019 08:59:07 @monitor.py:467]\u001b[0m GAN_loss/discrim/loss: 0.61095\n",
      "\u001b[32m[1019 08:59:07 @monitor.py:467]\u001b[0m GAN_loss/gen/final-g-loss: 1.2998\n",
      "\u001b[32m[1019 08:59:07 @monitor.py:467]\u001b[0m GAN_loss/gen/klloss: 0.06488\n",
      "\u001b[32m[1019 08:59:07 @monitor.py:467]\u001b[0m GAN_loss/gen/loss: 1.2349\n",
      "\u001b[32m[1019 08:59:07 @monitor.py:467]\u001b[0m QueueInput/queue_size: 50\n",
      "\u001b[32m[1019 08:59:07 @base.py:275]\u001b[0m Start Epoch 1127 ...\n"
     ]
    },
    {
     "name": "stderr",
     "output_type": "stream",
     "text": [
      "100%|###################################################################################|175/175[00:05<00:00,31.71it/s]"
     ]
    },
    {
     "name": "stdout",
     "output_type": "stream",
     "text": [
      "\u001b[32m[1019 08:59:13 @base.py:285]\u001b[0m Epoch 1127 (global_step 197225) finished, time:5.52 seconds.\n",
      "\u001b[32m[1019 08:59:13 @saver.py:79]\u001b[0m Model saved to ../output/Chicago/DATGAN_asd29/model\\model-197225.\n"
     ]
    },
    {
     "name": "stderr",
     "output_type": "stream",
     "text": [
      "\n"
     ]
    },
    {
     "name": "stdout",
     "output_type": "stream",
     "text": [
      "\u001b[32m[1019 08:59:13 @monitor.py:467]\u001b[0m GAN_loss/discrim/accuracy_fake: 0.832\n",
      "\u001b[32m[1019 08:59:13 @monitor.py:467]\u001b[0m GAN_loss/discrim/accuracy_real: 0.334\n",
      "\u001b[32m[1019 08:59:13 @monitor.py:467]\u001b[0m GAN_loss/discrim/loss: 0.63007\n",
      "\u001b[32m[1019 08:59:13 @monitor.py:467]\u001b[0m GAN_loss/gen/final-g-loss: 1.21\n",
      "\u001b[32m[1019 08:59:13 @monitor.py:467]\u001b[0m GAN_loss/gen/klloss: 0.051909\n",
      "\u001b[32m[1019 08:59:13 @monitor.py:467]\u001b[0m GAN_loss/gen/loss: 1.1581\n",
      "\u001b[32m[1019 08:59:13 @monitor.py:467]\u001b[0m QueueInput/queue_size: 50\n",
      "\u001b[32m[1019 08:59:13 @base.py:275]\u001b[0m Start Epoch 1128 ...\n"
     ]
    },
    {
     "name": "stderr",
     "output_type": "stream",
     "text": [
      "100%|###################################################################################|175/175[00:05<00:00,31.78it/s]"
     ]
    },
    {
     "name": "stdout",
     "output_type": "stream",
     "text": [
      "\u001b[32m[1019 08:59:18 @base.py:285]\u001b[0m Epoch 1128 (global_step 197400) finished, time:5.51 seconds.\n",
      "\u001b[32m[1019 08:59:18 @saver.py:79]\u001b[0m Model saved to ../output/Chicago/DATGAN_asd29/model\\model-197400.\n"
     ]
    },
    {
     "name": "stderr",
     "output_type": "stream",
     "text": [
      "\n"
     ]
    },
    {
     "name": "stdout",
     "output_type": "stream",
     "text": [
      "\u001b[32m[1019 08:59:19 @monitor.py:467]\u001b[0m GAN_loss/discrim/accuracy_fake: 0.824\n",
      "\u001b[32m[1019 08:59:19 @monitor.py:467]\u001b[0m GAN_loss/discrim/accuracy_real: 0.35\n",
      "\u001b[32m[1019 08:59:19 @monitor.py:467]\u001b[0m GAN_loss/discrim/loss: 0.62497\n",
      "\u001b[32m[1019 08:59:19 @monitor.py:467]\u001b[0m GAN_loss/gen/final-g-loss: 1.3017\n",
      "\u001b[32m[1019 08:59:19 @monitor.py:467]\u001b[0m GAN_loss/gen/klloss: 0.1167\n",
      "\u001b[32m[1019 08:59:19 @monitor.py:467]\u001b[0m GAN_loss/gen/loss: 1.185\n",
      "\u001b[32m[1019 08:59:19 @monitor.py:467]\u001b[0m QueueInput/queue_size: 50\n",
      "\u001b[32m[1019 08:59:19 @base.py:275]\u001b[0m Start Epoch 1129 ...\n"
     ]
    },
    {
     "name": "stderr",
     "output_type": "stream",
     "text": [
      "100%|###################################################################################|175/175[00:05<00:00,31.71it/s]"
     ]
    },
    {
     "name": "stdout",
     "output_type": "stream",
     "text": [
      "\u001b[32m[1019 08:59:24 @base.py:285]\u001b[0m Epoch 1129 (global_step 197575) finished, time:5.52 seconds.\n",
      "\u001b[32m[1019 08:59:24 @saver.py:79]\u001b[0m Model saved to ../output/Chicago/DATGAN_asd29/model\\model-197575.\n"
     ]
    },
    {
     "name": "stderr",
     "output_type": "stream",
     "text": [
      "\n"
     ]
    },
    {
     "name": "stdout",
     "output_type": "stream",
     "text": [
      "\u001b[32m[1019 08:59:24 @monitor.py:467]\u001b[0m GAN_loss/discrim/accuracy_fake: 0.848\n",
      "\u001b[32m[1019 08:59:24 @monitor.py:467]\u001b[0m GAN_loss/discrim/accuracy_real: 0.324\n",
      "\u001b[32m[1019 08:59:24 @monitor.py:467]\u001b[0m GAN_loss/discrim/loss: 0.62563\n",
      "\u001b[32m[1019 08:59:24 @monitor.py:467]\u001b[0m GAN_loss/gen/final-g-loss: 1.2663\n",
      "\u001b[32m[1019 08:59:24 @monitor.py:467]\u001b[0m GAN_loss/gen/klloss: 0.049533\n",
      "\u001b[32m[1019 08:59:24 @monitor.py:467]\u001b[0m GAN_loss/gen/loss: 1.2168\n",
      "\u001b[32m[1019 08:59:24 @monitor.py:467]\u001b[0m QueueInput/queue_size: 50\n",
      "\u001b[32m[1019 08:59:24 @base.py:275]\u001b[0m Start Epoch 1130 ...\n"
     ]
    },
    {
     "name": "stderr",
     "output_type": "stream",
     "text": [
      "100%|###################################################################################|175/175[00:05<00:00,31.70it/s]"
     ]
    },
    {
     "name": "stdout",
     "output_type": "stream",
     "text": [
      "\u001b[32m[1019 08:59:30 @base.py:285]\u001b[0m Epoch 1130 (global_step 197750) finished, time:5.52 seconds.\n",
      "\u001b[32m[1019 08:59:30 @saver.py:79]\u001b[0m Model saved to ../output/Chicago/DATGAN_asd29/model\\model-197750.\n"
     ]
    },
    {
     "name": "stderr",
     "output_type": "stream",
     "text": [
      "\n"
     ]
    },
    {
     "name": "stdout",
     "output_type": "stream",
     "text": [
      "\u001b[32m[1019 08:59:30 @monitor.py:467]\u001b[0m GAN_loss/discrim/accuracy_fake: 0.87\n",
      "\u001b[32m[1019 08:59:30 @monitor.py:467]\u001b[0m GAN_loss/discrim/accuracy_real: 0.3\n",
      "\u001b[32m[1019 08:59:30 @monitor.py:467]\u001b[0m GAN_loss/discrim/loss: 0.6171\n",
      "\u001b[32m[1019 08:59:30 @monitor.py:467]\u001b[0m GAN_loss/gen/final-g-loss: 1.3388\n",
      "\u001b[32m[1019 08:59:30 @monitor.py:467]\u001b[0m GAN_loss/gen/klloss: 0.091892\n",
      "\u001b[32m[1019 08:59:30 @monitor.py:467]\u001b[0m GAN_loss/gen/loss: 1.2469\n",
      "\u001b[32m[1019 08:59:30 @monitor.py:467]\u001b[0m QueueInput/queue_size: 50\n",
      "\u001b[32m[1019 08:59:30 @base.py:275]\u001b[0m Start Epoch 1131 ...\n"
     ]
    },
    {
     "name": "stderr",
     "output_type": "stream",
     "text": [
      "100%|###################################################################################|175/175[00:05<00:00,31.76it/s]"
     ]
    },
    {
     "name": "stdout",
     "output_type": "stream",
     "text": [
      "\u001b[32m[1019 08:59:36 @base.py:285]\u001b[0m Epoch 1131 (global_step 197925) finished, time:5.51 seconds.\n",
      "\u001b[32m[1019 08:59:36 @saver.py:79]\u001b[0m Model saved to ../output/Chicago/DATGAN_asd29/model\\model-197925.\n"
     ]
    },
    {
     "name": "stderr",
     "output_type": "stream",
     "text": [
      "\n"
     ]
    },
    {
     "name": "stdout",
     "output_type": "stream",
     "text": [
      "\u001b[32m[1019 08:59:36 @monitor.py:467]\u001b[0m GAN_loss/discrim/accuracy_fake: 0.818\n",
      "\u001b[32m[1019 08:59:36 @monitor.py:467]\u001b[0m GAN_loss/discrim/accuracy_real: 0.328\n",
      "\u001b[32m[1019 08:59:36 @monitor.py:467]\u001b[0m GAN_loss/discrim/loss: 0.63015\n",
      "\u001b[32m[1019 08:59:36 @monitor.py:467]\u001b[0m GAN_loss/gen/final-g-loss: 1.2282\n",
      "\u001b[32m[1019 08:59:36 @monitor.py:467]\u001b[0m GAN_loss/gen/klloss: 0.059926\n",
      "\u001b[32m[1019 08:59:36 @monitor.py:467]\u001b[0m GAN_loss/gen/loss: 1.1683\n",
      "\u001b[32m[1019 08:59:36 @monitor.py:467]\u001b[0m QueueInput/queue_size: 50\n",
      "\u001b[32m[1019 08:59:36 @base.py:275]\u001b[0m Start Epoch 1132 ...\n"
     ]
    },
    {
     "name": "stderr",
     "output_type": "stream",
     "text": [
      "100%|###################################################################################|175/175[00:05<00:00,31.71it/s]"
     ]
    },
    {
     "name": "stdout",
     "output_type": "stream",
     "text": [
      "\u001b[32m[1019 08:59:41 @base.py:285]\u001b[0m Epoch 1132 (global_step 198100) finished, time:5.52 seconds.\n",
      "\u001b[32m[1019 08:59:42 @saver.py:79]\u001b[0m Model saved to ../output/Chicago/DATGAN_asd29/model\\model-198100.\n"
     ]
    },
    {
     "name": "stderr",
     "output_type": "stream",
     "text": [
      "\n"
     ]
    },
    {
     "name": "stdout",
     "output_type": "stream",
     "text": [
      "\u001b[32m[1019 08:59:42 @monitor.py:467]\u001b[0m GAN_loss/discrim/accuracy_fake: 0.86\n",
      "\u001b[32m[1019 08:59:42 @monitor.py:467]\u001b[0m GAN_loss/discrim/accuracy_real: 0.326\n",
      "\u001b[32m[1019 08:59:42 @monitor.py:467]\u001b[0m GAN_loss/discrim/loss: 0.62195\n",
      "\u001b[32m[1019 08:59:42 @monitor.py:467]\u001b[0m GAN_loss/gen/final-g-loss: 1.2814\n",
      "\u001b[32m[1019 08:59:42 @monitor.py:467]\u001b[0m GAN_loss/gen/klloss: 0.09346\n",
      "\u001b[32m[1019 08:59:42 @monitor.py:467]\u001b[0m GAN_loss/gen/loss: 1.1879\n",
      "\u001b[32m[1019 08:59:42 @monitor.py:467]\u001b[0m QueueInput/queue_size: 50\n",
      "\u001b[32m[1019 08:59:42 @base.py:275]\u001b[0m Start Epoch 1133 ...\n"
     ]
    },
    {
     "name": "stderr",
     "output_type": "stream",
     "text": [
      "100%|###################################################################################|175/175[00:05<00:00,31.75it/s]"
     ]
    },
    {
     "name": "stdout",
     "output_type": "stream",
     "text": [
      "\u001b[32m[1019 08:59:47 @base.py:285]\u001b[0m Epoch 1133 (global_step 198275) finished, time:5.51 seconds.\n",
      "\u001b[32m[1019 08:59:47 @saver.py:79]\u001b[0m Model saved to ../output/Chicago/DATGAN_asd29/model\\model-198275.\n"
     ]
    },
    {
     "name": "stderr",
     "output_type": "stream",
     "text": [
      "\n"
     ]
    },
    {
     "name": "stdout",
     "output_type": "stream",
     "text": [
      "\u001b[32m[1019 08:59:48 @monitor.py:467]\u001b[0m GAN_loss/discrim/accuracy_fake: 0.862\n",
      "\u001b[32m[1019 08:59:48 @monitor.py:467]\u001b[0m GAN_loss/discrim/accuracy_real: 0.328\n",
      "\u001b[32m[1019 08:59:48 @monitor.py:467]\u001b[0m GAN_loss/discrim/loss: 0.62733\n",
      "\u001b[32m[1019 08:59:48 @monitor.py:467]\u001b[0m GAN_loss/gen/final-g-loss: 1.239\n",
      "\u001b[32m[1019 08:59:48 @monitor.py:467]\u001b[0m GAN_loss/gen/klloss: 0.054162\n",
      "\u001b[32m[1019 08:59:48 @monitor.py:467]\u001b[0m GAN_loss/gen/loss: 1.1848\n",
      "\u001b[32m[1019 08:59:48 @monitor.py:467]\u001b[0m QueueInput/queue_size: 50\n",
      "\u001b[32m[1019 08:59:48 @base.py:275]\u001b[0m Start Epoch 1134 ...\n"
     ]
    },
    {
     "name": "stderr",
     "output_type": "stream",
     "text": [
      "100%|###################################################################################|175/175[00:05<00:00,31.67it/s]"
     ]
    },
    {
     "name": "stdout",
     "output_type": "stream",
     "text": [
      "\u001b[32m[1019 08:59:53 @base.py:285]\u001b[0m Epoch 1134 (global_step 198450) finished, time:5.53 seconds.\n",
      "\u001b[32m[1019 08:59:53 @saver.py:79]\u001b[0m Model saved to ../output/Chicago/DATGAN_asd29/model\\model-198450.\n"
     ]
    },
    {
     "name": "stderr",
     "output_type": "stream",
     "text": [
      "\n"
     ]
    },
    {
     "name": "stdout",
     "output_type": "stream",
     "text": [
      "\u001b[32m[1019 08:59:53 @monitor.py:467]\u001b[0m GAN_loss/discrim/accuracy_fake: 0.826\n",
      "\u001b[32m[1019 08:59:53 @monitor.py:467]\u001b[0m GAN_loss/discrim/accuracy_real: 0.33\n",
      "\u001b[32m[1019 08:59:53 @monitor.py:467]\u001b[0m GAN_loss/discrim/loss: 0.62516\n",
      "\u001b[32m[1019 08:59:53 @monitor.py:467]\u001b[0m GAN_loss/gen/final-g-loss: 1.2423\n",
      "\u001b[32m[1019 08:59:53 @monitor.py:467]\u001b[0m GAN_loss/gen/klloss: 0.074843\n",
      "\u001b[32m[1019 08:59:53 @monitor.py:467]\u001b[0m GAN_loss/gen/loss: 1.1674\n",
      "\u001b[32m[1019 08:59:53 @monitor.py:467]\u001b[0m QueueInput/queue_size: 50\n",
      "\u001b[32m[1019 08:59:53 @base.py:275]\u001b[0m Start Epoch 1135 ...\n"
     ]
    },
    {
     "name": "stderr",
     "output_type": "stream",
     "text": [
      "100%|###################################################################################|175/175[00:05<00:00,31.77it/s]"
     ]
    },
    {
     "name": "stdout",
     "output_type": "stream",
     "text": [
      "\u001b[32m[1019 08:59:59 @base.py:285]\u001b[0m Epoch 1135 (global_step 198625) finished, time:5.51 seconds.\n",
      "\u001b[32m[1019 08:59:59 @saver.py:79]\u001b[0m Model saved to ../output/Chicago/DATGAN_asd29/model\\model-198625.\n"
     ]
    },
    {
     "name": "stderr",
     "output_type": "stream",
     "text": [
      "\n"
     ]
    },
    {
     "name": "stdout",
     "output_type": "stream",
     "text": [
      "\u001b[32m[1019 08:59:59 @monitor.py:467]\u001b[0m GAN_loss/discrim/accuracy_fake: 0.838\n",
      "\u001b[32m[1019 08:59:59 @monitor.py:467]\u001b[0m GAN_loss/discrim/accuracy_real: 0.362\n",
      "\u001b[32m[1019 08:59:59 @monitor.py:467]\u001b[0m GAN_loss/discrim/loss: 0.62006\n",
      "\u001b[32m[1019 08:59:59 @monitor.py:467]\u001b[0m GAN_loss/gen/final-g-loss: 1.2455\n",
      "\u001b[32m[1019 08:59:59 @monitor.py:467]\u001b[0m GAN_loss/gen/klloss: 0.054293\n",
      "\u001b[32m[1019 08:59:59 @monitor.py:467]\u001b[0m GAN_loss/gen/loss: 1.1912\n",
      "\u001b[32m[1019 08:59:59 @monitor.py:467]\u001b[0m QueueInput/queue_size: 50\n",
      "\u001b[32m[1019 08:59:59 @base.py:275]\u001b[0m Start Epoch 1136 ...\n"
     ]
    },
    {
     "name": "stderr",
     "output_type": "stream",
     "text": [
      "100%|###################################################################################|175/175[00:05<00:00,31.73it/s]"
     ]
    },
    {
     "name": "stdout",
     "output_type": "stream",
     "text": [
      "\u001b[32m[1019 09:00:05 @base.py:285]\u001b[0m Epoch 1136 (global_step 198800) finished, time:5.52 seconds.\n",
      "\u001b[32m[1019 09:00:05 @saver.py:79]\u001b[0m Model saved to ../output/Chicago/DATGAN_asd29/model\\model-198800.\n"
     ]
    },
    {
     "name": "stderr",
     "output_type": "stream",
     "text": [
      "\n"
     ]
    },
    {
     "name": "stdout",
     "output_type": "stream",
     "text": [
      "\u001b[32m[1019 09:00:05 @monitor.py:467]\u001b[0m GAN_loss/discrim/accuracy_fake: 0.88\n",
      "\u001b[32m[1019 09:00:05 @monitor.py:467]\u001b[0m GAN_loss/discrim/accuracy_real: 0.282\n",
      "\u001b[32m[1019 09:00:05 @monitor.py:467]\u001b[0m GAN_loss/discrim/loss: 0.62589\n",
      "\u001b[32m[1019 09:00:05 @monitor.py:467]\u001b[0m GAN_loss/gen/final-g-loss: 1.2686\n",
      "\u001b[32m[1019 09:00:05 @monitor.py:467]\u001b[0m GAN_loss/gen/klloss: 0.068768\n",
      "\u001b[32m[1019 09:00:05 @monitor.py:467]\u001b[0m GAN_loss/gen/loss: 1.1999\n",
      "\u001b[32m[1019 09:00:05 @monitor.py:467]\u001b[0m QueueInput/queue_size: 50\n",
      "\u001b[32m[1019 09:00:05 @base.py:275]\u001b[0m Start Epoch 1137 ...\n"
     ]
    },
    {
     "name": "stderr",
     "output_type": "stream",
     "text": [
      "100%|###################################################################################|175/175[00:05<00:00,31.76it/s]"
     ]
    },
    {
     "name": "stdout",
     "output_type": "stream",
     "text": [
      "\u001b[32m[1019 09:00:10 @base.py:285]\u001b[0m Epoch 1137 (global_step 198975) finished, time:5.51 seconds.\n",
      "\u001b[32m[1019 09:00:10 @saver.py:79]\u001b[0m Model saved to ../output/Chicago/DATGAN_asd29/model\\model-198975.\n"
     ]
    },
    {
     "name": "stderr",
     "output_type": "stream",
     "text": [
      "\n"
     ]
    },
    {
     "name": "stdout",
     "output_type": "stream",
     "text": [
      "\u001b[32m[1019 09:00:11 @monitor.py:467]\u001b[0m GAN_loss/discrim/accuracy_fake: 0.864\n",
      "\u001b[32m[1019 09:00:11 @monitor.py:467]\u001b[0m GAN_loss/discrim/accuracy_real: 0.296\n",
      "\u001b[32m[1019 09:00:11 @monitor.py:467]\u001b[0m GAN_loss/discrim/loss: 0.62732\n",
      "\u001b[32m[1019 09:00:11 @monitor.py:467]\u001b[0m GAN_loss/gen/final-g-loss: 1.2239\n",
      "\u001b[32m[1019 09:00:11 @monitor.py:467]\u001b[0m GAN_loss/gen/klloss: 0.053829\n",
      "\u001b[32m[1019 09:00:11 @monitor.py:467]\u001b[0m GAN_loss/gen/loss: 1.1701\n",
      "\u001b[32m[1019 09:00:11 @monitor.py:467]\u001b[0m QueueInput/queue_size: 50\n",
      "\u001b[32m[1019 09:00:11 @base.py:275]\u001b[0m Start Epoch 1138 ...\n"
     ]
    },
    {
     "name": "stderr",
     "output_type": "stream",
     "text": [
      "100%|###################################################################################|175/175[00:05<00:00,31.71it/s]"
     ]
    },
    {
     "name": "stdout",
     "output_type": "stream",
     "text": [
      "\u001b[32m[1019 09:00:16 @base.py:285]\u001b[0m Epoch 1138 (global_step 199150) finished, time:5.52 seconds.\n",
      "\u001b[32m[1019 09:00:16 @saver.py:79]\u001b[0m Model saved to ../output/Chicago/DATGAN_asd29/model\\model-199150.\n"
     ]
    },
    {
     "name": "stderr",
     "output_type": "stream",
     "text": [
      "\n"
     ]
    },
    {
     "name": "stdout",
     "output_type": "stream",
     "text": [
      "\u001b[32m[1019 09:00:16 @monitor.py:467]\u001b[0m GAN_loss/discrim/accuracy_fake: 0.842\n",
      "\u001b[32m[1019 09:00:16 @monitor.py:467]\u001b[0m GAN_loss/discrim/accuracy_real: 0.314\n",
      "\u001b[32m[1019 09:00:16 @monitor.py:467]\u001b[0m GAN_loss/discrim/loss: 0.61492\n",
      "\u001b[32m[1019 09:00:16 @monitor.py:467]\u001b[0m GAN_loss/gen/final-g-loss: 1.2701\n",
      "\u001b[32m[1019 09:00:16 @monitor.py:467]\u001b[0m GAN_loss/gen/klloss: 0.072\n",
      "\u001b[32m[1019 09:00:16 @monitor.py:467]\u001b[0m GAN_loss/gen/loss: 1.1981\n",
      "\u001b[32m[1019 09:00:16 @monitor.py:467]\u001b[0m QueueInput/queue_size: 50\n",
      "\u001b[32m[1019 09:00:16 @base.py:275]\u001b[0m Start Epoch 1139 ...\n"
     ]
    },
    {
     "name": "stderr",
     "output_type": "stream",
     "text": [
      "100%|###################################################################################|175/175[00:05<00:00,31.77it/s]"
     ]
    },
    {
     "name": "stdout",
     "output_type": "stream",
     "text": [
      "\u001b[32m[1019 09:00:22 @base.py:285]\u001b[0m Epoch 1139 (global_step 199325) finished, time:5.51 seconds.\n",
      "\u001b[32m[1019 09:00:22 @saver.py:79]\u001b[0m Model saved to ../output/Chicago/DATGAN_asd29/model\\model-199325.\n"
     ]
    },
    {
     "name": "stderr",
     "output_type": "stream",
     "text": [
      "\n"
     ]
    },
    {
     "name": "stdout",
     "output_type": "stream",
     "text": [
      "\u001b[32m[1019 09:00:22 @monitor.py:467]\u001b[0m GAN_loss/discrim/accuracy_fake: 0.846\n",
      "\u001b[32m[1019 09:00:22 @monitor.py:467]\u001b[0m GAN_loss/discrim/accuracy_real: 0.278\n",
      "\u001b[32m[1019 09:00:22 @monitor.py:467]\u001b[0m GAN_loss/discrim/loss: 0.63218\n",
      "\u001b[32m[1019 09:00:22 @monitor.py:467]\u001b[0m GAN_loss/gen/final-g-loss: 1.2644\n",
      "\u001b[32m[1019 09:00:22 @monitor.py:467]\u001b[0m GAN_loss/gen/klloss: 0.092916\n",
      "\u001b[32m[1019 09:00:22 @monitor.py:467]\u001b[0m GAN_loss/gen/loss: 1.1715\n",
      "\u001b[32m[1019 09:00:22 @monitor.py:467]\u001b[0m QueueInput/queue_size: 50\n",
      "\u001b[32m[1019 09:00:22 @base.py:275]\u001b[0m Start Epoch 1140 ...\n"
     ]
    },
    {
     "name": "stderr",
     "output_type": "stream",
     "text": [
      "100%|###################################################################################|175/175[00:05<00:00,31.73it/s]"
     ]
    },
    {
     "name": "stdout",
     "output_type": "stream",
     "text": [
      "\u001b[32m[1019 09:00:28 @base.py:285]\u001b[0m Epoch 1140 (global_step 199500) finished, time:5.52 seconds.\n",
      "\u001b[32m[1019 09:00:28 @saver.py:79]\u001b[0m Model saved to ../output/Chicago/DATGAN_asd29/model\\model-199500.\n"
     ]
    },
    {
     "name": "stderr",
     "output_type": "stream",
     "text": [
      "\n"
     ]
    },
    {
     "name": "stdout",
     "output_type": "stream",
     "text": [
      "\u001b[32m[1019 09:00:28 @monitor.py:467]\u001b[0m GAN_loss/discrim/accuracy_fake: 0.856\n",
      "\u001b[32m[1019 09:00:28 @monitor.py:467]\u001b[0m GAN_loss/discrim/accuracy_real: 0.412\n",
      "\u001b[32m[1019 09:00:28 @monitor.py:467]\u001b[0m GAN_loss/discrim/loss: 0.60536\n",
      "\u001b[32m[1019 09:00:28 @monitor.py:467]\u001b[0m GAN_loss/gen/final-g-loss: 1.2678\n",
      "\u001b[32m[1019 09:00:28 @monitor.py:467]\u001b[0m GAN_loss/gen/klloss: 0.064014\n",
      "\u001b[32m[1019 09:00:28 @monitor.py:467]\u001b[0m GAN_loss/gen/loss: 1.2037\n",
      "\u001b[32m[1019 09:00:28 @monitor.py:467]\u001b[0m QueueInput/queue_size: 50\n",
      "\u001b[32m[1019 09:00:28 @base.py:275]\u001b[0m Start Epoch 1141 ...\n"
     ]
    },
    {
     "name": "stderr",
     "output_type": "stream",
     "text": [
      "100%|###################################################################################|175/175[00:05<00:00,31.77it/s]"
     ]
    },
    {
     "name": "stdout",
     "output_type": "stream",
     "text": [
      "\u001b[32m[1019 09:00:34 @base.py:285]\u001b[0m Epoch 1141 (global_step 199675) finished, time:5.51 seconds.\n",
      "\u001b[32m[1019 09:00:34 @saver.py:79]\u001b[0m Model saved to ../output/Chicago/DATGAN_asd29/model\\model-199675.\n"
     ]
    },
    {
     "name": "stderr",
     "output_type": "stream",
     "text": [
      "\n"
     ]
    },
    {
     "name": "stdout",
     "output_type": "stream",
     "text": [
      "\u001b[32m[1019 09:00:34 @monitor.py:467]\u001b[0m GAN_loss/discrim/accuracy_fake: 0.85\n",
      "\u001b[32m[1019 09:00:34 @monitor.py:467]\u001b[0m GAN_loss/discrim/accuracy_real: 0.33\n",
      "\u001b[32m[1019 09:00:34 @monitor.py:467]\u001b[0m GAN_loss/discrim/loss: 0.6195\n",
      "\u001b[32m[1019 09:00:34 @monitor.py:467]\u001b[0m GAN_loss/gen/final-g-loss: 1.2266\n",
      "\u001b[32m[1019 09:00:34 @monitor.py:467]\u001b[0m GAN_loss/gen/klloss: 0.054355\n",
      "\u001b[32m[1019 09:00:34 @monitor.py:467]\u001b[0m GAN_loss/gen/loss: 1.1722\n",
      "\u001b[32m[1019 09:00:34 @monitor.py:467]\u001b[0m QueueInput/queue_size: 50\n",
      "\u001b[32m[1019 09:00:34 @base.py:275]\u001b[0m Start Epoch 1142 ...\n"
     ]
    },
    {
     "name": "stderr",
     "output_type": "stream",
     "text": [
      "100%|###################################################################################|175/175[00:05<00:00,31.73it/s]"
     ]
    },
    {
     "name": "stdout",
     "output_type": "stream",
     "text": [
      "\u001b[32m[1019 09:00:39 @base.py:285]\u001b[0m Epoch 1142 (global_step 199850) finished, time:5.52 seconds.\n",
      "\u001b[32m[1019 09:00:39 @saver.py:79]\u001b[0m Model saved to ../output/Chicago/DATGAN_asd29/model\\model-199850.\n"
     ]
    },
    {
     "name": "stderr",
     "output_type": "stream",
     "text": [
      "\n"
     ]
    },
    {
     "name": "stdout",
     "output_type": "stream",
     "text": [
      "\u001b[32m[1019 09:00:40 @monitor.py:467]\u001b[0m GAN_loss/discrim/accuracy_fake: 0.84\n",
      "\u001b[32m[1019 09:00:40 @monitor.py:467]\u001b[0m GAN_loss/discrim/accuracy_real: 0.322\n",
      "\u001b[32m[1019 09:00:40 @monitor.py:467]\u001b[0m GAN_loss/discrim/loss: 0.64021\n",
      "\u001b[32m[1019 09:00:40 @monitor.py:467]\u001b[0m GAN_loss/gen/final-g-loss: 1.2379\n",
      "\u001b[32m[1019 09:00:40 @monitor.py:467]\u001b[0m GAN_loss/gen/klloss: 0.068958\n",
      "\u001b[32m[1019 09:00:40 @monitor.py:467]\u001b[0m GAN_loss/gen/loss: 1.1689\n",
      "\u001b[32m[1019 09:00:40 @monitor.py:467]\u001b[0m QueueInput/queue_size: 50\n",
      "\u001b[32m[1019 09:00:40 @base.py:275]\u001b[0m Start Epoch 1143 ...\n"
     ]
    },
    {
     "name": "stderr",
     "output_type": "stream",
     "text": [
      "100%|###################################################################################|175/175[00:05<00:00,31.76it/s]"
     ]
    },
    {
     "name": "stdout",
     "output_type": "stream",
     "text": [
      "\u001b[32m[1019 09:00:45 @base.py:285]\u001b[0m Epoch 1143 (global_step 200025) finished, time:5.51 seconds.\n",
      "\u001b[32m[1019 09:00:45 @saver.py:79]\u001b[0m Model saved to ../output/Chicago/DATGAN_asd29/model\\model-200025.\n"
     ]
    },
    {
     "name": "stderr",
     "output_type": "stream",
     "text": [
      "\n"
     ]
    },
    {
     "name": "stdout",
     "output_type": "stream",
     "text": [
      "\u001b[32m[1019 09:00:45 @monitor.py:467]\u001b[0m GAN_loss/discrim/accuracy_fake: 0.86\n",
      "\u001b[32m[1019 09:00:45 @monitor.py:467]\u001b[0m GAN_loss/discrim/accuracy_real: 0.3\n",
      "\u001b[32m[1019 09:00:45 @monitor.py:467]\u001b[0m GAN_loss/discrim/loss: 0.61922\n",
      "\u001b[32m[1019 09:00:45 @monitor.py:467]\u001b[0m GAN_loss/gen/final-g-loss: 1.3355\n",
      "\u001b[32m[1019 09:00:45 @monitor.py:467]\u001b[0m GAN_loss/gen/klloss: 0.088059\n",
      "\u001b[32m[1019 09:00:45 @monitor.py:467]\u001b[0m GAN_loss/gen/loss: 1.2475\n",
      "\u001b[32m[1019 09:00:45 @monitor.py:467]\u001b[0m QueueInput/queue_size: 50\n",
      "\u001b[32m[1019 09:00:45 @base.py:275]\u001b[0m Start Epoch 1144 ...\n"
     ]
    },
    {
     "name": "stderr",
     "output_type": "stream",
     "text": [
      "100%|###################################################################################|175/175[00:05<00:00,31.73it/s]"
     ]
    },
    {
     "name": "stdout",
     "output_type": "stream",
     "text": [
      "\u001b[32m[1019 09:00:51 @base.py:285]\u001b[0m Epoch 1144 (global_step 200200) finished, time:5.52 seconds.\n",
      "\u001b[32m[1019 09:00:51 @saver.py:79]\u001b[0m Model saved to ../output/Chicago/DATGAN_asd29/model\\model-200200.\n"
     ]
    },
    {
     "name": "stderr",
     "output_type": "stream",
     "text": [
      "\n"
     ]
    },
    {
     "name": "stdout",
     "output_type": "stream",
     "text": [
      "\u001b[32m[1019 09:00:51 @monitor.py:467]\u001b[0m GAN_loss/discrim/accuracy_fake: 0.816\n",
      "\u001b[32m[1019 09:00:51 @monitor.py:467]\u001b[0m GAN_loss/discrim/accuracy_real: 0.386\n",
      "\u001b[32m[1019 09:00:51 @monitor.py:467]\u001b[0m GAN_loss/discrim/loss: 0.6163\n",
      "\u001b[32m[1019 09:00:51 @monitor.py:467]\u001b[0m GAN_loss/gen/final-g-loss: 1.2879\n",
      "\u001b[32m[1019 09:00:51 @monitor.py:467]\u001b[0m GAN_loss/gen/klloss: 0.073573\n",
      "\u001b[32m[1019 09:00:51 @monitor.py:467]\u001b[0m GAN_loss/gen/loss: 1.2143\n",
      "\u001b[32m[1019 09:00:51 @monitor.py:467]\u001b[0m QueueInput/queue_size: 50\n",
      "\u001b[32m[1019 09:00:51 @base.py:275]\u001b[0m Start Epoch 1145 ...\n"
     ]
    },
    {
     "name": "stderr",
     "output_type": "stream",
     "text": [
      "100%|###################################################################################|175/175[00:05<00:00,31.77it/s]"
     ]
    },
    {
     "name": "stdout",
     "output_type": "stream",
     "text": [
      "\u001b[32m[1019 09:00:57 @base.py:285]\u001b[0m Epoch 1145 (global_step 200375) finished, time:5.51 seconds.\n",
      "\u001b[32m[1019 09:00:57 @saver.py:79]\u001b[0m Model saved to ../output/Chicago/DATGAN_asd29/model\\model-200375.\n"
     ]
    },
    {
     "name": "stderr",
     "output_type": "stream",
     "text": [
      "\n"
     ]
    },
    {
     "name": "stdout",
     "output_type": "stream",
     "text": [
      "\u001b[32m[1019 09:00:57 @monitor.py:467]\u001b[0m GAN_loss/discrim/accuracy_fake: 0.816\n",
      "\u001b[32m[1019 09:00:57 @monitor.py:467]\u001b[0m GAN_loss/discrim/accuracy_real: 0.414\n",
      "\u001b[32m[1019 09:00:57 @monitor.py:467]\u001b[0m GAN_loss/discrim/loss: 0.62059\n",
      "\u001b[32m[1019 09:00:57 @monitor.py:467]\u001b[0m GAN_loss/gen/final-g-loss: 1.3087\n",
      "\u001b[32m[1019 09:00:57 @monitor.py:467]\u001b[0m GAN_loss/gen/klloss: 0.10998\n",
      "\u001b[32m[1019 09:00:57 @monitor.py:467]\u001b[0m GAN_loss/gen/loss: 1.1987\n",
      "\u001b[32m[1019 09:00:57 @monitor.py:467]\u001b[0m QueueInput/queue_size: 50\n",
      "\u001b[32m[1019 09:00:57 @base.py:275]\u001b[0m Start Epoch 1146 ...\n"
     ]
    },
    {
     "name": "stderr",
     "output_type": "stream",
     "text": [
      "100%|###################################################################################|175/175[00:05<00:00,31.72it/s]"
     ]
    },
    {
     "name": "stdout",
     "output_type": "stream",
     "text": [
      "\u001b[32m[1019 09:01:03 @base.py:285]\u001b[0m Epoch 1146 (global_step 200550) finished, time:5.52 seconds.\n",
      "\u001b[32m[1019 09:01:03 @saver.py:79]\u001b[0m Model saved to ../output/Chicago/DATGAN_asd29/model\\model-200550.\n"
     ]
    },
    {
     "name": "stderr",
     "output_type": "stream",
     "text": [
      "\n"
     ]
    },
    {
     "name": "stdout",
     "output_type": "stream",
     "text": [
      "\u001b[32m[1019 09:01:03 @monitor.py:467]\u001b[0m GAN_loss/discrim/accuracy_fake: 0.846\n",
      "\u001b[32m[1019 09:01:03 @monitor.py:467]\u001b[0m GAN_loss/discrim/accuracy_real: 0.378\n",
      "\u001b[32m[1019 09:01:03 @monitor.py:467]\u001b[0m GAN_loss/discrim/loss: 0.59356\n",
      "\u001b[32m[1019 09:01:03 @monitor.py:467]\u001b[0m GAN_loss/gen/final-g-loss: 1.4482\n",
      "\u001b[32m[1019 09:01:03 @monitor.py:467]\u001b[0m GAN_loss/gen/klloss: 0.18865\n",
      "\u001b[32m[1019 09:01:03 @monitor.py:467]\u001b[0m GAN_loss/gen/loss: 1.2595\n",
      "\u001b[32m[1019 09:01:03 @monitor.py:467]\u001b[0m QueueInput/queue_size: 50\n",
      "\u001b[32m[1019 09:01:03 @base.py:275]\u001b[0m Start Epoch 1147 ...\n"
     ]
    },
    {
     "name": "stderr",
     "output_type": "stream",
     "text": [
      "100%|###################################################################################|175/175[00:05<00:00,31.76it/s]"
     ]
    },
    {
     "name": "stdout",
     "output_type": "stream",
     "text": [
      "\u001b[32m[1019 09:01:08 @base.py:285]\u001b[0m Epoch 1147 (global_step 200725) finished, time:5.51 seconds.\n",
      "\u001b[32m[1019 09:01:08 @saver.py:79]\u001b[0m Model saved to ../output/Chicago/DATGAN_asd29/model\\model-200725.\n"
     ]
    },
    {
     "name": "stderr",
     "output_type": "stream",
     "text": [
      "\n"
     ]
    },
    {
     "name": "stdout",
     "output_type": "stream",
     "text": [
      "\u001b[32m[1019 09:01:09 @monitor.py:467]\u001b[0m GAN_loss/discrim/accuracy_fake: 0.796\n",
      "\u001b[32m[1019 09:01:09 @monitor.py:467]\u001b[0m GAN_loss/discrim/accuracy_real: 0.438\n",
      "\u001b[32m[1019 09:01:09 @monitor.py:467]\u001b[0m GAN_loss/discrim/loss: 0.60566\n",
      "\u001b[32m[1019 09:01:09 @monitor.py:467]\u001b[0m GAN_loss/gen/final-g-loss: 1.2742\n",
      "\u001b[32m[1019 09:01:09 @monitor.py:467]\u001b[0m GAN_loss/gen/klloss: 0.058455\n",
      "\u001b[32m[1019 09:01:09 @monitor.py:467]\u001b[0m GAN_loss/gen/loss: 1.2158\n",
      "\u001b[32m[1019 09:01:09 @monitor.py:467]\u001b[0m QueueInput/queue_size: 50\n",
      "\u001b[32m[1019 09:01:09 @base.py:275]\u001b[0m Start Epoch 1148 ...\n"
     ]
    },
    {
     "name": "stderr",
     "output_type": "stream",
     "text": [
      "100%|###################################################################################|175/175[00:05<00:00,31.75it/s]"
     ]
    },
    {
     "name": "stdout",
     "output_type": "stream",
     "text": [
      "\u001b[32m[1019 09:01:14 @base.py:285]\u001b[0m Epoch 1148 (global_step 200900) finished, time:5.51 seconds.\n",
      "\u001b[32m[1019 09:01:14 @saver.py:79]\u001b[0m Model saved to ../output/Chicago/DATGAN_asd29/model\\model-200900.\n"
     ]
    },
    {
     "name": "stderr",
     "output_type": "stream",
     "text": [
      "\n"
     ]
    },
    {
     "name": "stdout",
     "output_type": "stream",
     "text": [
      "\u001b[32m[1019 09:01:14 @monitor.py:467]\u001b[0m GAN_loss/discrim/accuracy_fake: 0.788\n",
      "\u001b[32m[1019 09:01:14 @monitor.py:467]\u001b[0m GAN_loss/discrim/accuracy_real: 0.478\n",
      "\u001b[32m[1019 09:01:14 @monitor.py:467]\u001b[0m GAN_loss/discrim/loss: 0.60439\n",
      "\u001b[32m[1019 09:01:14 @monitor.py:467]\u001b[0m GAN_loss/gen/final-g-loss: 1.2959\n",
      "\u001b[32m[1019 09:01:14 @monitor.py:467]\u001b[0m GAN_loss/gen/klloss: 0.060704\n",
      "\u001b[32m[1019 09:01:14 @monitor.py:467]\u001b[0m GAN_loss/gen/loss: 1.2352\n",
      "\u001b[32m[1019 09:01:14 @monitor.py:467]\u001b[0m QueueInput/queue_size: 50\n",
      "\u001b[32m[1019 09:01:14 @base.py:275]\u001b[0m Start Epoch 1149 ...\n"
     ]
    },
    {
     "name": "stderr",
     "output_type": "stream",
     "text": [
      "100%|###################################################################################|175/175[00:05<00:00,31.73it/s]"
     ]
    },
    {
     "name": "stdout",
     "output_type": "stream",
     "text": [
      "\u001b[32m[1019 09:01:20 @base.py:285]\u001b[0m Epoch 1149 (global_step 201075) finished, time:5.51 seconds.\n",
      "\u001b[32m[1019 09:01:20 @saver.py:79]\u001b[0m Model saved to ../output/Chicago/DATGAN_asd29/model\\model-201075.\n"
     ]
    },
    {
     "name": "stderr",
     "output_type": "stream",
     "text": [
      "\n"
     ]
    },
    {
     "name": "stdout",
     "output_type": "stream",
     "text": [
      "\u001b[32m[1019 09:01:20 @monitor.py:467]\u001b[0m GAN_loss/discrim/accuracy_fake: 0.864\n",
      "\u001b[32m[1019 09:01:20 @monitor.py:467]\u001b[0m GAN_loss/discrim/accuracy_real: 0.462\n",
      "\u001b[32m[1019 09:01:20 @monitor.py:467]\u001b[0m GAN_loss/discrim/loss: 0.58172\n",
      "\u001b[32m[1019 09:01:20 @monitor.py:467]\u001b[0m GAN_loss/gen/final-g-loss: 1.4189\n",
      "\u001b[32m[1019 09:01:20 @monitor.py:467]\u001b[0m GAN_loss/gen/klloss: 0.10709\n",
      "\u001b[32m[1019 09:01:20 @monitor.py:467]\u001b[0m GAN_loss/gen/loss: 1.3119\n",
      "\u001b[32m[1019 09:01:20 @monitor.py:467]\u001b[0m QueueInput/queue_size: 50\n",
      "\u001b[32m[1019 09:01:20 @base.py:275]\u001b[0m Start Epoch 1150 ...\n"
     ]
    },
    {
     "name": "stderr",
     "output_type": "stream",
     "text": [
      "100%|###################################################################################|175/175[00:05<00:00,31.75it/s]"
     ]
    },
    {
     "name": "stdout",
     "output_type": "stream",
     "text": [
      "\u001b[32m[1019 09:01:26 @base.py:285]\u001b[0m Epoch 1150 (global_step 201250) finished, time:5.51 seconds.\n",
      "\u001b[32m[1019 09:01:26 @saver.py:79]\u001b[0m Model saved to ../output/Chicago/DATGAN_asd29/model\\model-201250.\n"
     ]
    },
    {
     "name": "stderr",
     "output_type": "stream",
     "text": [
      "\n"
     ]
    },
    {
     "name": "stdout",
     "output_type": "stream",
     "text": [
      "\u001b[32m[1019 09:01:26 @monitor.py:467]\u001b[0m GAN_loss/discrim/accuracy_fake: 0.792\n",
      "\u001b[32m[1019 09:01:26 @monitor.py:467]\u001b[0m GAN_loss/discrim/accuracy_real: 0.344\n",
      "\u001b[32m[1019 09:01:26 @monitor.py:467]\u001b[0m GAN_loss/discrim/loss: 0.63804\n",
      "\u001b[32m[1019 09:01:26 @monitor.py:467]\u001b[0m GAN_loss/gen/final-g-loss: 1.2989\n",
      "\u001b[32m[1019 09:01:26 @monitor.py:467]\u001b[0m GAN_loss/gen/klloss: 0.10183\n",
      "\u001b[32m[1019 09:01:26 @monitor.py:467]\u001b[0m GAN_loss/gen/loss: 1.197\n",
      "\u001b[32m[1019 09:01:26 @monitor.py:467]\u001b[0m QueueInput/queue_size: 50\n",
      "\u001b[32m[1019 09:01:26 @base.py:275]\u001b[0m Start Epoch 1151 ...\n"
     ]
    },
    {
     "name": "stderr",
     "output_type": "stream",
     "text": [
      "100%|###################################################################################|175/175[00:05<00:00,31.73it/s]"
     ]
    },
    {
     "name": "stdout",
     "output_type": "stream",
     "text": [
      "\u001b[32m[1019 09:01:31 @base.py:285]\u001b[0m Epoch 1151 (global_step 201425) finished, time:5.52 seconds.\n",
      "\u001b[32m[1019 09:01:32 @saver.py:79]\u001b[0m Model saved to ../output/Chicago/DATGAN_asd29/model\\model-201425.\n"
     ]
    },
    {
     "name": "stderr",
     "output_type": "stream",
     "text": [
      "\n"
     ]
    },
    {
     "name": "stdout",
     "output_type": "stream",
     "text": [
      "\u001b[32m[1019 09:01:32 @monitor.py:467]\u001b[0m GAN_loss/discrim/accuracy_fake: 0.848\n",
      "\u001b[32m[1019 09:01:32 @monitor.py:467]\u001b[0m GAN_loss/discrim/accuracy_real: 0.344\n",
      "\u001b[32m[1019 09:01:32 @monitor.py:467]\u001b[0m GAN_loss/discrim/loss: 0.61455\n",
      "\u001b[32m[1019 09:01:32 @monitor.py:467]\u001b[0m GAN_loss/gen/final-g-loss: 1.2829\n",
      "\u001b[32m[1019 09:01:32 @monitor.py:467]\u001b[0m GAN_loss/gen/klloss: 0.063367\n",
      "\u001b[32m[1019 09:01:32 @monitor.py:467]\u001b[0m GAN_loss/gen/loss: 1.2195\n",
      "\u001b[32m[1019 09:01:32 @monitor.py:467]\u001b[0m QueueInput/queue_size: 50\n",
      "\u001b[32m[1019 09:01:32 @base.py:275]\u001b[0m Start Epoch 1152 ...\n"
     ]
    },
    {
     "name": "stderr",
     "output_type": "stream",
     "text": [
      "100%|###################################################################################|175/175[00:05<00:00,31.75it/s]"
     ]
    },
    {
     "name": "stdout",
     "output_type": "stream",
     "text": [
      "\u001b[32m[1019 09:01:37 @base.py:285]\u001b[0m Epoch 1152 (global_step 201600) finished, time:5.51 seconds.\n",
      "\u001b[32m[1019 09:01:37 @saver.py:79]\u001b[0m Model saved to ../output/Chicago/DATGAN_asd29/model\\model-201600.\n"
     ]
    },
    {
     "name": "stderr",
     "output_type": "stream",
     "text": [
      "\n"
     ]
    },
    {
     "name": "stdout",
     "output_type": "stream",
     "text": [
      "\u001b[32m[1019 09:01:38 @monitor.py:467]\u001b[0m GAN_loss/discrim/accuracy_fake: 0.896\n",
      "\u001b[32m[1019 09:01:38 @monitor.py:467]\u001b[0m GAN_loss/discrim/accuracy_real: 0.354\n",
      "\u001b[32m[1019 09:01:38 @monitor.py:467]\u001b[0m GAN_loss/discrim/loss: 0.59934\n",
      "\u001b[32m[1019 09:01:38 @monitor.py:467]\u001b[0m GAN_loss/gen/final-g-loss: 1.3512\n",
      "\u001b[32m[1019 09:01:38 @monitor.py:467]\u001b[0m GAN_loss/gen/klloss: 0.080808\n",
      "\u001b[32m[1019 09:01:38 @monitor.py:467]\u001b[0m GAN_loss/gen/loss: 1.2704\n",
      "\u001b[32m[1019 09:01:38 @monitor.py:467]\u001b[0m QueueInput/queue_size: 50\n",
      "\u001b[32m[1019 09:01:38 @base.py:275]\u001b[0m Start Epoch 1153 ...\n"
     ]
    },
    {
     "name": "stderr",
     "output_type": "stream",
     "text": [
      "100%|###################################################################################|175/175[00:05<00:00,31.72it/s]"
     ]
    },
    {
     "name": "stdout",
     "output_type": "stream",
     "text": [
      "\u001b[32m[1019 09:01:43 @base.py:285]\u001b[0m Epoch 1153 (global_step 201775) finished, time:5.52 seconds.\n",
      "\u001b[32m[1019 09:01:43 @saver.py:79]\u001b[0m Model saved to ../output/Chicago/DATGAN_asd29/model\\model-201775.\n"
     ]
    },
    {
     "name": "stderr",
     "output_type": "stream",
     "text": [
      "\n"
     ]
    },
    {
     "name": "stdout",
     "output_type": "stream",
     "text": [
      "\u001b[32m[1019 09:01:43 @monitor.py:467]\u001b[0m GAN_loss/discrim/accuracy_fake: 0.806\n",
      "\u001b[32m[1019 09:01:43 @monitor.py:467]\u001b[0m GAN_loss/discrim/accuracy_real: 0.358\n",
      "\u001b[32m[1019 09:01:43 @monitor.py:467]\u001b[0m GAN_loss/discrim/loss: 0.63636\n",
      "\u001b[32m[1019 09:01:43 @monitor.py:467]\u001b[0m GAN_loss/gen/final-g-loss: 1.2551\n",
      "\u001b[32m[1019 09:01:43 @monitor.py:467]\u001b[0m GAN_loss/gen/klloss: 0.091094\n",
      "\u001b[32m[1019 09:01:43 @monitor.py:467]\u001b[0m GAN_loss/gen/loss: 1.164\n",
      "\u001b[32m[1019 09:01:43 @monitor.py:467]\u001b[0m QueueInput/queue_size: 50\n",
      "\u001b[32m[1019 09:01:43 @base.py:275]\u001b[0m Start Epoch 1154 ...\n"
     ]
    },
    {
     "name": "stderr",
     "output_type": "stream",
     "text": [
      "100%|###################################################################################|175/175[00:05<00:00,31.75it/s]"
     ]
    },
    {
     "name": "stdout",
     "output_type": "stream",
     "text": [
      "\u001b[32m[1019 09:01:49 @base.py:285]\u001b[0m Epoch 1154 (global_step 201950) finished, time:5.51 seconds.\n",
      "\u001b[32m[1019 09:01:49 @saver.py:79]\u001b[0m Model saved to ../output/Chicago/DATGAN_asd29/model\\model-201950.\n"
     ]
    },
    {
     "name": "stderr",
     "output_type": "stream",
     "text": [
      "\n"
     ]
    },
    {
     "name": "stdout",
     "output_type": "stream",
     "text": [
      "\u001b[32m[1019 09:01:49 @monitor.py:467]\u001b[0m GAN_loss/discrim/accuracy_fake: 0.842\n",
      "\u001b[32m[1019 09:01:49 @monitor.py:467]\u001b[0m GAN_loss/discrim/accuracy_real: 0.364\n",
      "\u001b[32m[1019 09:01:49 @monitor.py:467]\u001b[0m GAN_loss/discrim/loss: 0.61685\n",
      "\u001b[32m[1019 09:01:49 @monitor.py:467]\u001b[0m GAN_loss/gen/final-g-loss: 1.3201\n",
      "\u001b[32m[1019 09:01:49 @monitor.py:467]\u001b[0m GAN_loss/gen/klloss: 0.066361\n",
      "\u001b[32m[1019 09:01:49 @monitor.py:467]\u001b[0m GAN_loss/gen/loss: 1.2538\n",
      "\u001b[32m[1019 09:01:49 @monitor.py:467]\u001b[0m QueueInput/queue_size: 50\n",
      "\u001b[32m[1019 09:01:49 @base.py:275]\u001b[0m Start Epoch 1155 ...\n"
     ]
    },
    {
     "name": "stderr",
     "output_type": "stream",
     "text": [
      "100%|###################################################################################|175/175[00:05<00:00,31.63it/s]"
     ]
    },
    {
     "name": "stdout",
     "output_type": "stream",
     "text": [
      "\u001b[32m[1019 09:01:55 @base.py:285]\u001b[0m Epoch 1155 (global_step 202125) finished, time:5.53 seconds.\n",
      "\u001b[32m[1019 09:01:55 @saver.py:79]\u001b[0m Model saved to ../output/Chicago/DATGAN_asd29/model\\model-202125.\n"
     ]
    },
    {
     "name": "stderr",
     "output_type": "stream",
     "text": [
      "\n"
     ]
    },
    {
     "name": "stdout",
     "output_type": "stream",
     "text": [
      "\u001b[32m[1019 09:01:55 @monitor.py:467]\u001b[0m GAN_loss/discrim/accuracy_fake: 0.802\n",
      "\u001b[32m[1019 09:01:55 @monitor.py:467]\u001b[0m GAN_loss/discrim/accuracy_real: 0.382\n",
      "\u001b[32m[1019 09:01:55 @monitor.py:467]\u001b[0m GAN_loss/discrim/loss: 0.61672\n",
      "\u001b[32m[1019 09:01:55 @monitor.py:467]\u001b[0m GAN_loss/gen/final-g-loss: 1.3145\n",
      "\u001b[32m[1019 09:01:55 @monitor.py:467]\u001b[0m GAN_loss/gen/klloss: 0.068352\n",
      "\u001b[32m[1019 09:01:55 @monitor.py:467]\u001b[0m GAN_loss/gen/loss: 1.2461\n",
      "\u001b[32m[1019 09:01:55 @monitor.py:467]\u001b[0m QueueInput/queue_size: 50\n",
      "\u001b[32m[1019 09:01:55 @base.py:275]\u001b[0m Start Epoch 1156 ...\n"
     ]
    },
    {
     "name": "stderr",
     "output_type": "stream",
     "text": [
      "100%|###################################################################################|175/175[00:05<00:00,31.76it/s]"
     ]
    },
    {
     "name": "stdout",
     "output_type": "stream",
     "text": [
      "\u001b[32m[1019 09:02:00 @base.py:285]\u001b[0m Epoch 1156 (global_step 202300) finished, time:5.51 seconds.\n",
      "\u001b[32m[1019 09:02:00 @saver.py:79]\u001b[0m Model saved to ../output/Chicago/DATGAN_asd29/model\\model-202300.\n"
     ]
    },
    {
     "name": "stderr",
     "output_type": "stream",
     "text": [
      "\n"
     ]
    },
    {
     "name": "stdout",
     "output_type": "stream",
     "text": [
      "\u001b[32m[1019 09:02:01 @monitor.py:467]\u001b[0m GAN_loss/discrim/accuracy_fake: 0.806\n",
      "\u001b[32m[1019 09:02:01 @monitor.py:467]\u001b[0m GAN_loss/discrim/accuracy_real: 0.354\n",
      "\u001b[32m[1019 09:02:01 @monitor.py:467]\u001b[0m GAN_loss/discrim/loss: 0.6436\n",
      "\u001b[32m[1019 09:02:01 @monitor.py:467]\u001b[0m GAN_loss/gen/final-g-loss: 1.2519\n",
      "\u001b[32m[1019 09:02:01 @monitor.py:467]\u001b[0m GAN_loss/gen/klloss: 0.06412\n",
      "\u001b[32m[1019 09:02:01 @monitor.py:467]\u001b[0m GAN_loss/gen/loss: 1.1878\n",
      "\u001b[32m[1019 09:02:01 @monitor.py:467]\u001b[0m QueueInput/queue_size: 50\n",
      "\u001b[32m[1019 09:02:01 @base.py:275]\u001b[0m Start Epoch 1157 ...\n"
     ]
    },
    {
     "name": "stderr",
     "output_type": "stream",
     "text": [
      "100%|###################################################################################|175/175[00:05<00:00,31.72it/s]"
     ]
    },
    {
     "name": "stdout",
     "output_type": "stream",
     "text": [
      "\u001b[32m[1019 09:02:06 @base.py:285]\u001b[0m Epoch 1157 (global_step 202475) finished, time:5.52 seconds.\n",
      "\u001b[32m[1019 09:02:06 @saver.py:79]\u001b[0m Model saved to ../output/Chicago/DATGAN_asd29/model\\model-202475.\n"
     ]
    },
    {
     "name": "stderr",
     "output_type": "stream",
     "text": [
      "\n"
     ]
    },
    {
     "name": "stdout",
     "output_type": "stream",
     "text": [
      "\u001b[32m[1019 09:02:06 @monitor.py:467]\u001b[0m GAN_loss/discrim/accuracy_fake: 0.812\n",
      "\u001b[32m[1019 09:02:06 @monitor.py:467]\u001b[0m GAN_loss/discrim/accuracy_real: 0.388\n",
      "\u001b[32m[1019 09:02:06 @monitor.py:467]\u001b[0m GAN_loss/discrim/loss: 0.6258\n",
      "\u001b[32m[1019 09:02:06 @monitor.py:467]\u001b[0m GAN_loss/gen/final-g-loss: 1.3412\n",
      "\u001b[32m[1019 09:02:06 @monitor.py:467]\u001b[0m GAN_loss/gen/klloss: 0.11798\n",
      "\u001b[32m[1019 09:02:06 @monitor.py:467]\u001b[0m GAN_loss/gen/loss: 1.2232\n",
      "\u001b[32m[1019 09:02:06 @monitor.py:467]\u001b[0m QueueInput/queue_size: 50\n",
      "\u001b[32m[1019 09:02:06 @base.py:275]\u001b[0m Start Epoch 1158 ...\n"
     ]
    },
    {
     "name": "stderr",
     "output_type": "stream",
     "text": [
      "100%|###################################################################################|175/175[00:05<00:00,31.76it/s]"
     ]
    },
    {
     "name": "stdout",
     "output_type": "stream",
     "text": [
      "\u001b[32m[1019 09:02:12 @base.py:285]\u001b[0m Epoch 1158 (global_step 202650) finished, time:5.51 seconds.\n",
      "\u001b[32m[1019 09:02:12 @saver.py:79]\u001b[0m Model saved to ../output/Chicago/DATGAN_asd29/model\\model-202650.\n"
     ]
    },
    {
     "name": "stderr",
     "output_type": "stream",
     "text": [
      "\n"
     ]
    },
    {
     "name": "stdout",
     "output_type": "stream",
     "text": [
      "\u001b[32m[1019 09:02:12 @monitor.py:467]\u001b[0m GAN_loss/discrim/accuracy_fake: 0.852\n",
      "\u001b[32m[1019 09:02:12 @monitor.py:467]\u001b[0m GAN_loss/discrim/accuracy_real: 0.326\n",
      "\u001b[32m[1019 09:02:12 @monitor.py:467]\u001b[0m GAN_loss/discrim/loss: 0.61484\n",
      "\u001b[32m[1019 09:02:12 @monitor.py:467]\u001b[0m GAN_loss/gen/final-g-loss: 1.3235\n",
      "\u001b[32m[1019 09:02:12 @monitor.py:467]\u001b[0m GAN_loss/gen/klloss: 0.080454\n",
      "\u001b[32m[1019 09:02:12 @monitor.py:467]\u001b[0m GAN_loss/gen/loss: 1.243\n",
      "\u001b[32m[1019 09:02:12 @monitor.py:467]\u001b[0m QueueInput/queue_size: 50\n",
      "\u001b[32m[1019 09:02:12 @base.py:275]\u001b[0m Start Epoch 1159 ...\n"
     ]
    },
    {
     "name": "stderr",
     "output_type": "stream",
     "text": [
      "100%|###################################################################################|175/175[00:05<00:00,31.75it/s]"
     ]
    },
    {
     "name": "stdout",
     "output_type": "stream",
     "text": [
      "\u001b[32m[1019 09:02:18 @base.py:285]\u001b[0m Epoch 1159 (global_step 202825) finished, time:5.51 seconds.\n",
      "\u001b[32m[1019 09:02:18 @saver.py:79]\u001b[0m Model saved to ../output/Chicago/DATGAN_asd29/model\\model-202825.\n"
     ]
    },
    {
     "name": "stderr",
     "output_type": "stream",
     "text": [
      "\n"
     ]
    },
    {
     "name": "stdout",
     "output_type": "stream",
     "text": [
      "\u001b[32m[1019 09:02:18 @monitor.py:467]\u001b[0m GAN_loss/discrim/accuracy_fake: 0.834\n",
      "\u001b[32m[1019 09:02:18 @monitor.py:467]\u001b[0m GAN_loss/discrim/accuracy_real: 0.398\n",
      "\u001b[32m[1019 09:02:18 @monitor.py:467]\u001b[0m GAN_loss/discrim/loss: 0.60229\n",
      "\u001b[32m[1019 09:02:18 @monitor.py:467]\u001b[0m GAN_loss/gen/final-g-loss: 1.426\n",
      "\u001b[32m[1019 09:02:18 @monitor.py:467]\u001b[0m GAN_loss/gen/klloss: 0.14067\n",
      "\u001b[32m[1019 09:02:18 @monitor.py:467]\u001b[0m GAN_loss/gen/loss: 1.2853\n",
      "\u001b[32m[1019 09:02:18 @monitor.py:467]\u001b[0m QueueInput/queue_size: 50\n",
      "\u001b[32m[1019 09:02:18 @base.py:275]\u001b[0m Start Epoch 1160 ...\n"
     ]
    },
    {
     "name": "stderr",
     "output_type": "stream",
     "text": [
      "100%|###################################################################################|175/175[00:05<00:00,31.77it/s]"
     ]
    },
    {
     "name": "stdout",
     "output_type": "stream",
     "text": [
      "\u001b[32m[1019 09:02:24 @base.py:285]\u001b[0m Epoch 1160 (global_step 203000) finished, time:5.51 seconds.\n",
      "\u001b[32m[1019 09:02:24 @saver.py:79]\u001b[0m Model saved to ../output/Chicago/DATGAN_asd29/model\\model-203000.\n"
     ]
    },
    {
     "name": "stderr",
     "output_type": "stream",
     "text": [
      "\n"
     ]
    },
    {
     "name": "stdout",
     "output_type": "stream",
     "text": [
      "\u001b[32m[1019 09:02:24 @monitor.py:467]\u001b[0m GAN_loss/discrim/accuracy_fake: 0.854\n",
      "\u001b[32m[1019 09:02:24 @monitor.py:467]\u001b[0m GAN_loss/discrim/accuracy_real: 0.38\n",
      "\u001b[32m[1019 09:02:24 @monitor.py:467]\u001b[0m GAN_loss/discrim/loss: 0.61236\n",
      "\u001b[32m[1019 09:02:24 @monitor.py:467]\u001b[0m GAN_loss/gen/final-g-loss: 1.2817\n",
      "\u001b[32m[1019 09:02:24 @monitor.py:467]\u001b[0m GAN_loss/gen/klloss: 0.052249\n",
      "\u001b[32m[1019 09:02:24 @monitor.py:467]\u001b[0m GAN_loss/gen/loss: 1.2294\n",
      "\u001b[32m[1019 09:02:24 @monitor.py:467]\u001b[0m QueueInput/queue_size: 50\n",
      "\u001b[32m[1019 09:02:24 @base.py:275]\u001b[0m Start Epoch 1161 ...\n"
     ]
    },
    {
     "name": "stderr",
     "output_type": "stream",
     "text": [
      "100%|###################################################################################|175/175[00:05<00:00,31.64it/s]"
     ]
    },
    {
     "name": "stdout",
     "output_type": "stream",
     "text": [
      "\u001b[32m[1019 09:02:29 @base.py:285]\u001b[0m Epoch 1161 (global_step 203175) finished, time:5.53 seconds.\n",
      "\u001b[32m[1019 09:02:29 @saver.py:79]\u001b[0m Model saved to ../output/Chicago/DATGAN_asd29/model\\model-203175.\n"
     ]
    },
    {
     "name": "stderr",
     "output_type": "stream",
     "text": [
      "\n"
     ]
    },
    {
     "name": "stdout",
     "output_type": "stream",
     "text": [
      "\u001b[32m[1019 09:02:30 @monitor.py:467]\u001b[0m GAN_loss/discrim/accuracy_fake: 0.856\n",
      "\u001b[32m[1019 09:02:30 @monitor.py:467]\u001b[0m GAN_loss/discrim/accuracy_real: 0.358\n",
      "\u001b[32m[1019 09:02:30 @monitor.py:467]\u001b[0m GAN_loss/discrim/loss: 0.60261\n",
      "\u001b[32m[1019 09:02:30 @monitor.py:467]\u001b[0m GAN_loss/gen/final-g-loss: 1.3276\n",
      "\u001b[32m[1019 09:02:30 @monitor.py:467]\u001b[0m GAN_loss/gen/klloss: 0.080306\n",
      "\u001b[32m[1019 09:02:30 @monitor.py:467]\u001b[0m GAN_loss/gen/loss: 1.2473\n",
      "\u001b[32m[1019 09:02:30 @monitor.py:467]\u001b[0m QueueInput/queue_size: 50\n",
      "\u001b[32m[1019 09:02:30 @base.py:275]\u001b[0m Start Epoch 1162 ...\n"
     ]
    },
    {
     "name": "stderr",
     "output_type": "stream",
     "text": [
      "100%|###################################################################################|175/175[00:05<00:00,31.75it/s]"
     ]
    },
    {
     "name": "stdout",
     "output_type": "stream",
     "text": [
      "\u001b[32m[1019 09:02:35 @base.py:285]\u001b[0m Epoch 1162 (global_step 203350) finished, time:5.51 seconds.\n",
      "\u001b[32m[1019 09:02:35 @saver.py:79]\u001b[0m Model saved to ../output/Chicago/DATGAN_asd29/model\\model-203350.\n"
     ]
    },
    {
     "name": "stderr",
     "output_type": "stream",
     "text": [
      "\n"
     ]
    },
    {
     "name": "stdout",
     "output_type": "stream",
     "text": [
      "\u001b[32m[1019 09:02:35 @monitor.py:467]\u001b[0m GAN_loss/discrim/accuracy_fake: 0.85\n",
      "\u001b[32m[1019 09:02:35 @monitor.py:467]\u001b[0m GAN_loss/discrim/accuracy_real: 0.348\n",
      "\u001b[32m[1019 09:02:35 @monitor.py:467]\u001b[0m GAN_loss/discrim/loss: 0.62027\n",
      "\u001b[32m[1019 09:02:35 @monitor.py:467]\u001b[0m GAN_loss/gen/final-g-loss: 1.2668\n",
      "\u001b[32m[1019 09:02:35 @monitor.py:467]\u001b[0m GAN_loss/gen/klloss: 0.058002\n",
      "\u001b[32m[1019 09:02:35 @monitor.py:467]\u001b[0m GAN_loss/gen/loss: 1.2088\n",
      "\u001b[32m[1019 09:02:35 @monitor.py:467]\u001b[0m QueueInput/queue_size: 50\n",
      "\u001b[32m[1019 09:02:35 @base.py:275]\u001b[0m Start Epoch 1163 ...\n"
     ]
    },
    {
     "name": "stderr",
     "output_type": "stream",
     "text": [
      "100%|###################################################################################|175/175[00:05<00:00,31.70it/s]"
     ]
    },
    {
     "name": "stdout",
     "output_type": "stream",
     "text": [
      "\u001b[32m[1019 09:02:41 @base.py:285]\u001b[0m Epoch 1163 (global_step 203525) finished, time:5.52 seconds.\n",
      "\u001b[32m[1019 09:02:41 @saver.py:79]\u001b[0m Model saved to ../output/Chicago/DATGAN_asd29/model\\model-203525.\n"
     ]
    },
    {
     "name": "stderr",
     "output_type": "stream",
     "text": [
      "\n"
     ]
    },
    {
     "name": "stdout",
     "output_type": "stream",
     "text": [
      "\u001b[32m[1019 09:02:41 @monitor.py:467]\u001b[0m GAN_loss/discrim/accuracy_fake: 0.868\n",
      "\u001b[32m[1019 09:02:41 @monitor.py:467]\u001b[0m GAN_loss/discrim/accuracy_real: 0.336\n",
      "\u001b[32m[1019 09:02:41 @monitor.py:467]\u001b[0m GAN_loss/discrim/loss: 0.61692\n",
      "\u001b[32m[1019 09:02:41 @monitor.py:467]\u001b[0m GAN_loss/gen/final-g-loss: 1.2878\n",
      "\u001b[32m[1019 09:02:41 @monitor.py:467]\u001b[0m GAN_loss/gen/klloss: 0.063699\n",
      "\u001b[32m[1019 09:02:41 @monitor.py:467]\u001b[0m GAN_loss/gen/loss: 1.2241\n",
      "\u001b[32m[1019 09:02:41 @monitor.py:467]\u001b[0m QueueInput/queue_size: 50\n",
      "\u001b[32m[1019 09:02:41 @base.py:275]\u001b[0m Start Epoch 1164 ...\n"
     ]
    },
    {
     "name": "stderr",
     "output_type": "stream",
     "text": [
      "100%|###################################################################################|175/175[00:05<00:00,31.76it/s]"
     ]
    },
    {
     "name": "stdout",
     "output_type": "stream",
     "text": [
      "\u001b[32m[1019 09:02:47 @base.py:285]\u001b[0m Epoch 1164 (global_step 203700) finished, time:5.51 seconds.\n",
      "\u001b[32m[1019 09:02:47 @saver.py:79]\u001b[0m Model saved to ../output/Chicago/DATGAN_asd29/model\\model-203700.\n"
     ]
    },
    {
     "name": "stderr",
     "output_type": "stream",
     "text": [
      "\n"
     ]
    },
    {
     "name": "stdout",
     "output_type": "stream",
     "text": [
      "\u001b[32m[1019 09:02:47 @monitor.py:467]\u001b[0m GAN_loss/discrim/accuracy_fake: 0.832\n",
      "\u001b[32m[1019 09:02:47 @monitor.py:467]\u001b[0m GAN_loss/discrim/accuracy_real: 0.346\n",
      "\u001b[32m[1019 09:02:47 @monitor.py:467]\u001b[0m GAN_loss/discrim/loss: 0.61904\n",
      "\u001b[32m[1019 09:02:47 @monitor.py:467]\u001b[0m GAN_loss/gen/final-g-loss: 1.2864\n",
      "\u001b[32m[1019 09:02:47 @monitor.py:467]\u001b[0m GAN_loss/gen/klloss: 0.076505\n",
      "\u001b[32m[1019 09:02:47 @monitor.py:467]\u001b[0m GAN_loss/gen/loss: 1.2099\n",
      "\u001b[32m[1019 09:02:47 @monitor.py:467]\u001b[0m QueueInput/queue_size: 50\n",
      "\u001b[32m[1019 09:02:47 @base.py:275]\u001b[0m Start Epoch 1165 ...\n"
     ]
    },
    {
     "name": "stderr",
     "output_type": "stream",
     "text": [
      "100%|###################################################################################|175/175[00:05<00:00,31.73it/s]"
     ]
    },
    {
     "name": "stdout",
     "output_type": "stream",
     "text": [
      "\u001b[32m[1019 09:02:53 @base.py:285]\u001b[0m Epoch 1165 (global_step 203875) finished, time:5.52 seconds.\n",
      "\u001b[32m[1019 09:02:53 @saver.py:79]\u001b[0m Model saved to ../output/Chicago/DATGAN_asd29/model\\model-203875.\n"
     ]
    },
    {
     "name": "stderr",
     "output_type": "stream",
     "text": [
      "\n"
     ]
    },
    {
     "name": "stdout",
     "output_type": "stream",
     "text": [
      "\u001b[32m[1019 09:02:53 @monitor.py:467]\u001b[0m GAN_loss/discrim/accuracy_fake: 0.846\n",
      "\u001b[32m[1019 09:02:53 @monitor.py:467]\u001b[0m GAN_loss/discrim/accuracy_real: 0.344\n",
      "\u001b[32m[1019 09:02:53 @monitor.py:467]\u001b[0m GAN_loss/discrim/loss: 0.61997\n",
      "\u001b[32m[1019 09:02:53 @monitor.py:467]\u001b[0m GAN_loss/gen/final-g-loss: 1.2547\n",
      "\u001b[32m[1019 09:02:53 @monitor.py:467]\u001b[0m GAN_loss/gen/klloss: 0.061202\n",
      "\u001b[32m[1019 09:02:53 @monitor.py:467]\u001b[0m GAN_loss/gen/loss: 1.1935\n",
      "\u001b[32m[1019 09:02:53 @monitor.py:467]\u001b[0m QueueInput/queue_size: 50\n",
      "\u001b[32m[1019 09:02:53 @base.py:275]\u001b[0m Start Epoch 1166 ...\n"
     ]
    },
    {
     "name": "stderr",
     "output_type": "stream",
     "text": [
      "100%|###################################################################################|175/175[00:05<00:00,31.77it/s]"
     ]
    },
    {
     "name": "stdout",
     "output_type": "stream",
     "text": [
      "\u001b[32m[1019 09:02:58 @base.py:285]\u001b[0m Epoch 1166 (global_step 204050) finished, time:5.51 seconds.\n",
      "\u001b[32m[1019 09:02:58 @saver.py:79]\u001b[0m Model saved to ../output/Chicago/DATGAN_asd29/model\\model-204050.\n"
     ]
    },
    {
     "name": "stderr",
     "output_type": "stream",
     "text": [
      "\n"
     ]
    },
    {
     "name": "stdout",
     "output_type": "stream",
     "text": [
      "\u001b[32m[1019 09:02:59 @monitor.py:467]\u001b[0m GAN_loss/discrim/accuracy_fake: 0.854\n",
      "\u001b[32m[1019 09:02:59 @monitor.py:467]\u001b[0m GAN_loss/discrim/accuracy_real: 0.282\n",
      "\u001b[32m[1019 09:02:59 @monitor.py:467]\u001b[0m GAN_loss/discrim/loss: 0.63907\n",
      "\u001b[32m[1019 09:02:59 @monitor.py:467]\u001b[0m GAN_loss/gen/final-g-loss: 1.235\n",
      "\u001b[32m[1019 09:02:59 @monitor.py:467]\u001b[0m GAN_loss/gen/klloss: 0.050881\n",
      "\u001b[32m[1019 09:02:59 @monitor.py:467]\u001b[0m GAN_loss/gen/loss: 1.1841\n",
      "\u001b[32m[1019 09:02:59 @monitor.py:467]\u001b[0m QueueInput/queue_size: 50\n",
      "\u001b[32m[1019 09:02:59 @base.py:275]\u001b[0m Start Epoch 1167 ...\n"
     ]
    },
    {
     "name": "stderr",
     "output_type": "stream",
     "text": [
      "100%|###################################################################################|175/175[00:05<00:00,31.72it/s]"
     ]
    },
    {
     "name": "stdout",
     "output_type": "stream",
     "text": [
      "\u001b[32m[1019 09:03:04 @base.py:285]\u001b[0m Epoch 1167 (global_step 204225) finished, time:5.52 seconds.\n",
      "\u001b[32m[1019 09:03:04 @saver.py:79]\u001b[0m Model saved to ../output/Chicago/DATGAN_asd29/model\\model-204225.\n"
     ]
    },
    {
     "name": "stderr",
     "output_type": "stream",
     "text": [
      "\n"
     ]
    },
    {
     "name": "stdout",
     "output_type": "stream",
     "text": [
      "\u001b[32m[1019 09:03:04 @monitor.py:467]\u001b[0m GAN_loss/discrim/accuracy_fake: 0.858\n",
      "\u001b[32m[1019 09:03:04 @monitor.py:467]\u001b[0m GAN_loss/discrim/accuracy_real: 0.312\n",
      "\u001b[32m[1019 09:03:04 @monitor.py:467]\u001b[0m GAN_loss/discrim/loss: 0.6163\n",
      "\u001b[32m[1019 09:03:04 @monitor.py:467]\u001b[0m GAN_loss/gen/final-g-loss: 1.2299\n",
      "\u001b[32m[1019 09:03:04 @monitor.py:467]\u001b[0m GAN_loss/gen/klloss: 0.037686\n",
      "\u001b[32m[1019 09:03:04 @monitor.py:467]\u001b[0m GAN_loss/gen/loss: 1.1922\n",
      "\u001b[32m[1019 09:03:04 @monitor.py:467]\u001b[0m QueueInput/queue_size: 50\n",
      "\u001b[32m[1019 09:03:04 @base.py:275]\u001b[0m Start Epoch 1168 ...\n"
     ]
    },
    {
     "name": "stderr",
     "output_type": "stream",
     "text": [
      "100%|###################################################################################|175/175[00:05<00:00,31.75it/s]"
     ]
    },
    {
     "name": "stdout",
     "output_type": "stream",
     "text": [
      "\u001b[32m[1019 09:03:10 @base.py:285]\u001b[0m Epoch 1168 (global_step 204400) finished, time:5.51 seconds.\n",
      "\u001b[32m[1019 09:03:10 @saver.py:79]\u001b[0m Model saved to ../output/Chicago/DATGAN_asd29/model\\model-204400.\n"
     ]
    },
    {
     "name": "stderr",
     "output_type": "stream",
     "text": [
      "\n"
     ]
    },
    {
     "name": "stdout",
     "output_type": "stream",
     "text": [
      "\u001b[32m[1019 09:03:10 @monitor.py:467]\u001b[0m GAN_loss/discrim/accuracy_fake: 0.858\n",
      "\u001b[32m[1019 09:03:10 @monitor.py:467]\u001b[0m GAN_loss/discrim/accuracy_real: 0.298\n",
      "\u001b[32m[1019 09:03:10 @monitor.py:467]\u001b[0m GAN_loss/discrim/loss: 0.62642\n",
      "\u001b[32m[1019 09:03:10 @monitor.py:467]\u001b[0m GAN_loss/gen/final-g-loss: 1.2421\n",
      "\u001b[32m[1019 09:03:10 @monitor.py:467]\u001b[0m GAN_loss/gen/klloss: 0.069749\n",
      "\u001b[32m[1019 09:03:10 @monitor.py:467]\u001b[0m GAN_loss/gen/loss: 1.1724\n",
      "\u001b[32m[1019 09:03:10 @monitor.py:467]\u001b[0m QueueInput/queue_size: 50\n",
      "\u001b[32m[1019 09:03:10 @base.py:275]\u001b[0m Start Epoch 1169 ...\n"
     ]
    },
    {
     "name": "stderr",
     "output_type": "stream",
     "text": [
      "100%|###################################################################################|175/175[00:05<00:00,31.41it/s]"
     ]
    },
    {
     "name": "stdout",
     "output_type": "stream",
     "text": [
      "\u001b[32m[1019 09:03:16 @base.py:285]\u001b[0m Epoch 1169 (global_step 204575) finished, time:5.57 seconds.\n",
      "\u001b[32m[1019 09:03:16 @saver.py:79]\u001b[0m Model saved to ../output/Chicago/DATGAN_asd29/model\\model-204575.\n"
     ]
    },
    {
     "name": "stderr",
     "output_type": "stream",
     "text": [
      "\n"
     ]
    },
    {
     "name": "stdout",
     "output_type": "stream",
     "text": [
      "\u001b[32m[1019 09:03:16 @monitor.py:467]\u001b[0m GAN_loss/discrim/accuracy_fake: 0.826\n",
      "\u001b[32m[1019 09:03:16 @monitor.py:467]\u001b[0m GAN_loss/discrim/accuracy_real: 0.33\n",
      "\u001b[32m[1019 09:03:16 @monitor.py:467]\u001b[0m GAN_loss/discrim/loss: 0.62665\n",
      "\u001b[32m[1019 09:03:16 @monitor.py:467]\u001b[0m GAN_loss/gen/final-g-loss: 1.2186\n",
      "\u001b[32m[1019 09:03:16 @monitor.py:467]\u001b[0m GAN_loss/gen/klloss: 0.056199\n",
      "\u001b[32m[1019 09:03:16 @monitor.py:467]\u001b[0m GAN_loss/gen/loss: 1.1624\n",
      "\u001b[32m[1019 09:03:16 @monitor.py:467]\u001b[0m QueueInput/queue_size: 50\n",
      "\u001b[32m[1019 09:03:16 @base.py:275]\u001b[0m Start Epoch 1170 ...\n"
     ]
    },
    {
     "name": "stderr",
     "output_type": "stream",
     "text": [
      "100%|###################################################################################|175/175[00:05<00:00,31.85it/s]"
     ]
    },
    {
     "name": "stdout",
     "output_type": "stream",
     "text": [
      "\u001b[32m[1019 09:03:22 @base.py:285]\u001b[0m Epoch 1170 (global_step 204750) finished, time:5.5 seconds.\n",
      "\u001b[32m[1019 09:03:22 @saver.py:79]\u001b[0m Model saved to ../output/Chicago/DATGAN_asd29/model\\model-204750.\n"
     ]
    },
    {
     "name": "stderr",
     "output_type": "stream",
     "text": [
      "\n"
     ]
    },
    {
     "name": "stdout",
     "output_type": "stream",
     "text": [
      "\u001b[32m[1019 09:03:22 @monitor.py:467]\u001b[0m GAN_loss/discrim/accuracy_fake: 0.788\n",
      "\u001b[32m[1019 09:03:22 @monitor.py:467]\u001b[0m GAN_loss/discrim/accuracy_real: 0.376\n",
      "\u001b[32m[1019 09:03:22 @monitor.py:467]\u001b[0m GAN_loss/discrim/loss: 0.61985\n",
      "\u001b[32m[1019 09:03:22 @monitor.py:467]\u001b[0m GAN_loss/gen/final-g-loss: 1.2659\n",
      "\u001b[32m[1019 09:03:22 @monitor.py:467]\u001b[0m GAN_loss/gen/klloss: 0.073746\n",
      "\u001b[32m[1019 09:03:22 @monitor.py:467]\u001b[0m GAN_loss/gen/loss: 1.1922\n",
      "\u001b[32m[1019 09:03:22 @monitor.py:467]\u001b[0m QueueInput/queue_size: 50\n",
      "\u001b[32m[1019 09:03:22 @base.py:275]\u001b[0m Start Epoch 1171 ...\n"
     ]
    },
    {
     "name": "stderr",
     "output_type": "stream",
     "text": [
      "100%|###################################################################################|175/175[00:05<00:00,31.95it/s]"
     ]
    },
    {
     "name": "stdout",
     "output_type": "stream",
     "text": [
      "\u001b[32m[1019 09:03:27 @base.py:285]\u001b[0m Epoch 1171 (global_step 204925) finished, time:5.48 seconds.\n",
      "\u001b[32m[1019 09:03:27 @saver.py:79]\u001b[0m Model saved to ../output/Chicago/DATGAN_asd29/model\\model-204925.\n"
     ]
    },
    {
     "name": "stderr",
     "output_type": "stream",
     "text": [
      "\n"
     ]
    },
    {
     "name": "stdout",
     "output_type": "stream",
     "text": [
      "\u001b[32m[1019 09:03:28 @monitor.py:467]\u001b[0m GAN_loss/discrim/accuracy_fake: 0.838\n",
      "\u001b[32m[1019 09:03:28 @monitor.py:467]\u001b[0m GAN_loss/discrim/accuracy_real: 0.34\n",
      "\u001b[32m[1019 09:03:28 @monitor.py:467]\u001b[0m GAN_loss/discrim/loss: 0.62157\n",
      "\u001b[32m[1019 09:03:28 @monitor.py:467]\u001b[0m GAN_loss/gen/final-g-loss: 1.3005\n",
      "\u001b[32m[1019 09:03:28 @monitor.py:467]\u001b[0m GAN_loss/gen/klloss: 0.069771\n",
      "\u001b[32m[1019 09:03:28 @monitor.py:467]\u001b[0m GAN_loss/gen/loss: 1.2307\n",
      "\u001b[32m[1019 09:03:28 @monitor.py:467]\u001b[0m QueueInput/queue_size: 50\n",
      "\u001b[32m[1019 09:03:28 @base.py:275]\u001b[0m Start Epoch 1172 ...\n"
     ]
    },
    {
     "name": "stderr",
     "output_type": "stream",
     "text": [
      "100%|###################################################################################|175/175[00:05<00:00,31.86it/s]"
     ]
    },
    {
     "name": "stdout",
     "output_type": "stream",
     "text": [
      "\u001b[32m[1019 09:03:33 @base.py:285]\u001b[0m Epoch 1172 (global_step 205100) finished, time:5.49 seconds.\n",
      "\u001b[32m[1019 09:03:33 @saver.py:79]\u001b[0m Model saved to ../output/Chicago/DATGAN_asd29/model\\model-205100.\n"
     ]
    },
    {
     "name": "stderr",
     "output_type": "stream",
     "text": [
      "\n"
     ]
    },
    {
     "name": "stdout",
     "output_type": "stream",
     "text": [
      "\u001b[32m[1019 09:03:33 @monitor.py:467]\u001b[0m GAN_loss/discrim/accuracy_fake: 0.844\n",
      "\u001b[32m[1019 09:03:33 @monitor.py:467]\u001b[0m GAN_loss/discrim/accuracy_real: 0.268\n",
      "\u001b[32m[1019 09:03:33 @monitor.py:467]\u001b[0m GAN_loss/discrim/loss: 0.64816\n",
      "\u001b[32m[1019 09:03:33 @monitor.py:467]\u001b[0m GAN_loss/gen/final-g-loss: 1.2157\n",
      "\u001b[32m[1019 09:03:33 @monitor.py:467]\u001b[0m GAN_loss/gen/klloss: 0.038538\n",
      "\u001b[32m[1019 09:03:33 @monitor.py:467]\u001b[0m GAN_loss/gen/loss: 1.1772\n",
      "\u001b[32m[1019 09:03:33 @monitor.py:467]\u001b[0m QueueInput/queue_size: 50\n",
      "\u001b[32m[1019 09:03:33 @base.py:275]\u001b[0m Start Epoch 1173 ...\n"
     ]
    },
    {
     "name": "stderr",
     "output_type": "stream",
     "text": [
      "100%|###################################################################################|175/175[00:05<00:00,31.92it/s]"
     ]
    },
    {
     "name": "stdout",
     "output_type": "stream",
     "text": [
      "\u001b[32m[1019 09:03:39 @base.py:285]\u001b[0m Epoch 1173 (global_step 205275) finished, time:5.48 seconds.\n",
      "\u001b[32m[1019 09:03:39 @saver.py:79]\u001b[0m Model saved to ../output/Chicago/DATGAN_asd29/model\\model-205275.\n"
     ]
    },
    {
     "name": "stderr",
     "output_type": "stream",
     "text": [
      "\n"
     ]
    },
    {
     "name": "stdout",
     "output_type": "stream",
     "text": [
      "\u001b[32m[1019 09:03:39 @monitor.py:467]\u001b[0m GAN_loss/discrim/accuracy_fake: 0.864\n",
      "\u001b[32m[1019 09:03:39 @monitor.py:467]\u001b[0m GAN_loss/discrim/accuracy_real: 0.336\n",
      "\u001b[32m[1019 09:03:39 @monitor.py:467]\u001b[0m GAN_loss/discrim/loss: 0.62455\n",
      "\u001b[32m[1019 09:03:39 @monitor.py:467]\u001b[0m GAN_loss/gen/final-g-loss: 1.2535\n",
      "\u001b[32m[1019 09:03:39 @monitor.py:467]\u001b[0m GAN_loss/gen/klloss: 0.058586\n",
      "\u001b[32m[1019 09:03:39 @monitor.py:467]\u001b[0m GAN_loss/gen/loss: 1.1949\n",
      "\u001b[32m[1019 09:03:39 @monitor.py:467]\u001b[0m QueueInput/queue_size: 50\n",
      "\u001b[32m[1019 09:03:39 @base.py:275]\u001b[0m Start Epoch 1174 ...\n"
     ]
    },
    {
     "name": "stderr",
     "output_type": "stream",
     "text": [
      "100%|###################################################################################|175/175[00:05<00:00,31.87it/s]"
     ]
    },
    {
     "name": "stdout",
     "output_type": "stream",
     "text": [
      "\u001b[32m[1019 09:03:45 @base.py:285]\u001b[0m Epoch 1174 (global_step 205450) finished, time:5.49 seconds.\n",
      "\u001b[32m[1019 09:03:45 @saver.py:79]\u001b[0m Model saved to ../output/Chicago/DATGAN_asd29/model\\model-205450.\n"
     ]
    },
    {
     "name": "stderr",
     "output_type": "stream",
     "text": [
      "\n"
     ]
    },
    {
     "name": "stdout",
     "output_type": "stream",
     "text": [
      "\u001b[32m[1019 09:03:45 @monitor.py:467]\u001b[0m GAN_loss/discrim/accuracy_fake: 0.85\n",
      "\u001b[32m[1019 09:03:45 @monitor.py:467]\u001b[0m GAN_loss/discrim/accuracy_real: 0.33\n",
      "\u001b[32m[1019 09:03:45 @monitor.py:467]\u001b[0m GAN_loss/discrim/loss: 0.63757\n",
      "\u001b[32m[1019 09:03:45 @monitor.py:467]\u001b[0m GAN_loss/gen/final-g-loss: 1.2145\n",
      "\u001b[32m[1019 09:03:45 @monitor.py:467]\u001b[0m GAN_loss/gen/klloss: 0.060449\n",
      "\u001b[32m[1019 09:03:45 @monitor.py:467]\u001b[0m GAN_loss/gen/loss: 1.154\n",
      "\u001b[32m[1019 09:03:45 @monitor.py:467]\u001b[0m QueueInput/queue_size: 50\n",
      "\u001b[32m[1019 09:03:45 @base.py:275]\u001b[0m Start Epoch 1175 ...\n"
     ]
    },
    {
     "name": "stderr",
     "output_type": "stream",
     "text": [
      "100%|###################################################################################|175/175[00:05<00:00,31.91it/s]"
     ]
    },
    {
     "name": "stdout",
     "output_type": "stream",
     "text": [
      "\u001b[32m[1019 09:03:50 @base.py:285]\u001b[0m Epoch 1175 (global_step 205625) finished, time:5.48 seconds.\n",
      "\u001b[32m[1019 09:03:50 @saver.py:79]\u001b[0m Model saved to ../output/Chicago/DATGAN_asd29/model\\model-205625.\n"
     ]
    },
    {
     "name": "stderr",
     "output_type": "stream",
     "text": [
      "\n"
     ]
    },
    {
     "name": "stdout",
     "output_type": "stream",
     "text": [
      "\u001b[32m[1019 09:03:51 @monitor.py:467]\u001b[0m GAN_loss/discrim/accuracy_fake: 0.836\n",
      "\u001b[32m[1019 09:03:51 @monitor.py:467]\u001b[0m GAN_loss/discrim/accuracy_real: 0.298\n",
      "\u001b[32m[1019 09:03:51 @monitor.py:467]\u001b[0m GAN_loss/discrim/loss: 0.62983\n",
      "\u001b[32m[1019 09:03:51 @monitor.py:467]\u001b[0m GAN_loss/gen/final-g-loss: 1.2313\n",
      "\u001b[32m[1019 09:03:51 @monitor.py:467]\u001b[0m GAN_loss/gen/klloss: 0.059612\n",
      "\u001b[32m[1019 09:03:51 @monitor.py:467]\u001b[0m GAN_loss/gen/loss: 1.1717\n",
      "\u001b[32m[1019 09:03:51 @monitor.py:467]\u001b[0m QueueInput/queue_size: 50\n",
      "\u001b[32m[1019 09:03:51 @base.py:275]\u001b[0m Start Epoch 1176 ...\n"
     ]
    },
    {
     "name": "stderr",
     "output_type": "stream",
     "text": [
      "100%|###################################################################################|175/175[00:05<00:00,31.87it/s]"
     ]
    },
    {
     "name": "stdout",
     "output_type": "stream",
     "text": [
      "\u001b[32m[1019 09:03:56 @base.py:285]\u001b[0m Epoch 1176 (global_step 205800) finished, time:5.49 seconds.\n",
      "\u001b[32m[1019 09:03:56 @saver.py:79]\u001b[0m Model saved to ../output/Chicago/DATGAN_asd29/model\\model-205800.\n"
     ]
    },
    {
     "name": "stderr",
     "output_type": "stream",
     "text": [
      "\n"
     ]
    },
    {
     "name": "stdout",
     "output_type": "stream",
     "text": [
      "\u001b[32m[1019 09:03:56 @monitor.py:467]\u001b[0m GAN_loss/discrim/accuracy_fake: 0.848\n",
      "\u001b[32m[1019 09:03:56 @monitor.py:467]\u001b[0m GAN_loss/discrim/accuracy_real: 0.32\n",
      "\u001b[32m[1019 09:03:56 @monitor.py:467]\u001b[0m GAN_loss/discrim/loss: 0.62583\n",
      "\u001b[32m[1019 09:03:56 @monitor.py:467]\u001b[0m GAN_loss/gen/final-g-loss: 1.2463\n",
      "\u001b[32m[1019 09:03:56 @monitor.py:467]\u001b[0m GAN_loss/gen/klloss: 0.057085\n",
      "\u001b[32m[1019 09:03:56 @monitor.py:467]\u001b[0m GAN_loss/gen/loss: 1.1892\n",
      "\u001b[32m[1019 09:03:56 @monitor.py:467]\u001b[0m QueueInput/queue_size: 50\n",
      "\u001b[32m[1019 09:03:56 @base.py:275]\u001b[0m Start Epoch 1177 ...\n"
     ]
    },
    {
     "name": "stderr",
     "output_type": "stream",
     "text": [
      "100%|###################################################################################|175/175[00:05<00:00,31.92it/s]"
     ]
    },
    {
     "name": "stdout",
     "output_type": "stream",
     "text": [
      "\u001b[32m[1019 09:04:02 @base.py:285]\u001b[0m Epoch 1177 (global_step 205975) finished, time:5.48 seconds.\n",
      "\u001b[32m[1019 09:04:02 @saver.py:79]\u001b[0m Model saved to ../output/Chicago/DATGAN_asd29/model\\model-205975.\n"
     ]
    },
    {
     "name": "stderr",
     "output_type": "stream",
     "text": [
      "\n"
     ]
    },
    {
     "name": "stdout",
     "output_type": "stream",
     "text": [
      "\u001b[32m[1019 09:04:02 @monitor.py:467]\u001b[0m GAN_loss/discrim/accuracy_fake: 0.852\n",
      "\u001b[32m[1019 09:04:02 @monitor.py:467]\u001b[0m GAN_loss/discrim/accuracy_real: 0.316\n",
      "\u001b[32m[1019 09:04:02 @monitor.py:467]\u001b[0m GAN_loss/discrim/loss: 0.62479\n",
      "\u001b[32m[1019 09:04:02 @monitor.py:467]\u001b[0m GAN_loss/gen/final-g-loss: 1.3163\n",
      "\u001b[32m[1019 09:04:02 @monitor.py:467]\u001b[0m GAN_loss/gen/klloss: 0.089839\n",
      "\u001b[32m[1019 09:04:02 @monitor.py:467]\u001b[0m GAN_loss/gen/loss: 1.2264\n",
      "\u001b[32m[1019 09:04:02 @monitor.py:467]\u001b[0m QueueInput/queue_size: 50\n",
      "\u001b[32m[1019 09:04:02 @base.py:275]\u001b[0m Start Epoch 1178 ...\n"
     ]
    },
    {
     "name": "stderr",
     "output_type": "stream",
     "text": [
      "100%|###################################################################################|175/175[00:05<00:00,31.90it/s]"
     ]
    },
    {
     "name": "stdout",
     "output_type": "stream",
     "text": [
      "\u001b[32m[1019 09:04:08 @base.py:285]\u001b[0m Epoch 1178 (global_step 206150) finished, time:5.49 seconds.\n",
      "\u001b[32m[1019 09:04:08 @saver.py:79]\u001b[0m Model saved to ../output/Chicago/DATGAN_asd29/model\\model-206150.\n"
     ]
    },
    {
     "name": "stderr",
     "output_type": "stream",
     "text": [
      "\n"
     ]
    },
    {
     "name": "stdout",
     "output_type": "stream",
     "text": [
      "\u001b[32m[1019 09:04:08 @monitor.py:467]\u001b[0m GAN_loss/discrim/accuracy_fake: 0.856\n",
      "\u001b[32m[1019 09:04:08 @monitor.py:467]\u001b[0m GAN_loss/discrim/accuracy_real: 0.37\n",
      "\u001b[32m[1019 09:04:08 @monitor.py:467]\u001b[0m GAN_loss/discrim/loss: 0.61597\n",
      "\u001b[32m[1019 09:04:08 @monitor.py:467]\u001b[0m GAN_loss/gen/final-g-loss: 1.328\n",
      "\u001b[32m[1019 09:04:08 @monitor.py:467]\u001b[0m GAN_loss/gen/klloss: 0.10806\n",
      "\u001b[32m[1019 09:04:08 @monitor.py:467]\u001b[0m GAN_loss/gen/loss: 1.22\n",
      "\u001b[32m[1019 09:04:08 @monitor.py:467]\u001b[0m QueueInput/queue_size: 50\n",
      "\u001b[32m[1019 09:04:08 @base.py:275]\u001b[0m Start Epoch 1179 ...\n"
     ]
    },
    {
     "name": "stderr",
     "output_type": "stream",
     "text": [
      "100%|###################################################################################|175/175[00:05<00:00,31.91it/s]"
     ]
    },
    {
     "name": "stdout",
     "output_type": "stream",
     "text": [
      "\u001b[32m[1019 09:04:13 @base.py:285]\u001b[0m Epoch 1179 (global_step 206325) finished, time:5.48 seconds.\n",
      "\u001b[32m[1019 09:04:14 @saver.py:79]\u001b[0m Model saved to ../output/Chicago/DATGAN_asd29/model\\model-206325.\n"
     ]
    },
    {
     "name": "stderr",
     "output_type": "stream",
     "text": [
      "\n"
     ]
    },
    {
     "name": "stdout",
     "output_type": "stream",
     "text": [
      "\u001b[32m[1019 09:04:14 @monitor.py:467]\u001b[0m GAN_loss/discrim/accuracy_fake: 0.81\n",
      "\u001b[32m[1019 09:04:14 @monitor.py:467]\u001b[0m GAN_loss/discrim/accuracy_real: 0.338\n",
      "\u001b[32m[1019 09:04:14 @monitor.py:467]\u001b[0m GAN_loss/discrim/loss: 0.63406\n",
      "\u001b[32m[1019 09:04:14 @monitor.py:467]\u001b[0m GAN_loss/gen/final-g-loss: 1.2669\n",
      "\u001b[32m[1019 09:04:14 @monitor.py:467]\u001b[0m GAN_loss/gen/klloss: 0.069133\n",
      "\u001b[32m[1019 09:04:14 @monitor.py:467]\u001b[0m GAN_loss/gen/loss: 1.1978\n",
      "\u001b[32m[1019 09:04:14 @monitor.py:467]\u001b[0m QueueInput/queue_size: 50\n",
      "\u001b[32m[1019 09:04:14 @base.py:275]\u001b[0m Start Epoch 1180 ...\n"
     ]
    },
    {
     "name": "stderr",
     "output_type": "stream",
     "text": [
      "100%|###################################################################################|175/175[00:05<00:00,31.87it/s]"
     ]
    },
    {
     "name": "stdout",
     "output_type": "stream",
     "text": [
      "\u001b[32m[1019 09:04:19 @base.py:285]\u001b[0m Epoch 1180 (global_step 206500) finished, time:5.49 seconds.\n",
      "\u001b[32m[1019 09:04:19 @saver.py:79]\u001b[0m Model saved to ../output/Chicago/DATGAN_asd29/model\\model-206500.\n"
     ]
    },
    {
     "name": "stderr",
     "output_type": "stream",
     "text": [
      "\n"
     ]
    },
    {
     "name": "stdout",
     "output_type": "stream",
     "text": [
      "\u001b[32m[1019 09:04:20 @monitor.py:467]\u001b[0m GAN_loss/discrim/accuracy_fake: 0.838\n",
      "\u001b[32m[1019 09:04:20 @monitor.py:467]\u001b[0m GAN_loss/discrim/accuracy_real: 0.336\n",
      "\u001b[32m[1019 09:04:20 @monitor.py:467]\u001b[0m GAN_loss/discrim/loss: 0.61804\n",
      "\u001b[32m[1019 09:04:20 @monitor.py:467]\u001b[0m GAN_loss/gen/final-g-loss: 1.3121\n",
      "\u001b[32m[1019 09:04:20 @monitor.py:467]\u001b[0m GAN_loss/gen/klloss: 0.062031\n",
      "\u001b[32m[1019 09:04:20 @monitor.py:467]\u001b[0m GAN_loss/gen/loss: 1.2501\n",
      "\u001b[32m[1019 09:04:20 @monitor.py:467]\u001b[0m QueueInput/queue_size: 50\n",
      "\u001b[32m[1019 09:04:20 @base.py:275]\u001b[0m Start Epoch 1181 ...\n"
     ]
    },
    {
     "name": "stderr",
     "output_type": "stream",
     "text": [
      "100%|###################################################################################|175/175[00:05<00:00,31.94it/s]"
     ]
    },
    {
     "name": "stdout",
     "output_type": "stream",
     "text": [
      "\u001b[32m[1019 09:04:25 @base.py:285]\u001b[0m Epoch 1181 (global_step 206675) finished, time:5.48 seconds.\n",
      "\u001b[32m[1019 09:04:25 @saver.py:79]\u001b[0m Model saved to ../output/Chicago/DATGAN_asd29/model\\model-206675.\n"
     ]
    },
    {
     "name": "stderr",
     "output_type": "stream",
     "text": [
      "\n"
     ]
    },
    {
     "name": "stdout",
     "output_type": "stream",
     "text": [
      "\u001b[32m[1019 09:04:25 @monitor.py:467]\u001b[0m GAN_loss/discrim/accuracy_fake: 0.856\n",
      "\u001b[32m[1019 09:04:25 @monitor.py:467]\u001b[0m GAN_loss/discrim/accuracy_real: 0.324\n",
      "\u001b[32m[1019 09:04:25 @monitor.py:467]\u001b[0m GAN_loss/discrim/loss: 0.62906\n",
      "\u001b[32m[1019 09:04:25 @monitor.py:467]\u001b[0m GAN_loss/gen/final-g-loss: 1.313\n",
      "\u001b[32m[1019 09:04:25 @monitor.py:467]\u001b[0m GAN_loss/gen/klloss: 0.085295\n",
      "\u001b[32m[1019 09:04:25 @monitor.py:467]\u001b[0m GAN_loss/gen/loss: 1.2277\n",
      "\u001b[32m[1019 09:04:25 @monitor.py:467]\u001b[0m QueueInput/queue_size: 50\n",
      "\u001b[32m[1019 09:04:25 @base.py:275]\u001b[0m Start Epoch 1182 ...\n"
     ]
    },
    {
     "name": "stderr",
     "output_type": "stream",
     "text": [
      "100%|###################################################################################|175/175[00:05<00:00,31.87it/s]"
     ]
    },
    {
     "name": "stdout",
     "output_type": "stream",
     "text": [
      "\u001b[32m[1019 09:04:31 @base.py:285]\u001b[0m Epoch 1182 (global_step 206850) finished, time:5.49 seconds.\n",
      "\u001b[32m[1019 09:04:31 @saver.py:79]\u001b[0m Model saved to ../output/Chicago/DATGAN_asd29/model\\model-206850.\n"
     ]
    },
    {
     "name": "stderr",
     "output_type": "stream",
     "text": [
      "\n"
     ]
    },
    {
     "name": "stdout",
     "output_type": "stream",
     "text": [
      "\u001b[32m[1019 09:04:31 @monitor.py:467]\u001b[0m GAN_loss/discrim/accuracy_fake: 0.844\n",
      "\u001b[32m[1019 09:04:31 @monitor.py:467]\u001b[0m GAN_loss/discrim/accuracy_real: 0.34\n",
      "\u001b[32m[1019 09:04:31 @monitor.py:467]\u001b[0m GAN_loss/discrim/loss: 0.61414\n",
      "\u001b[32m[1019 09:04:31 @monitor.py:467]\u001b[0m GAN_loss/gen/final-g-loss: 1.311\n",
      "\u001b[32m[1019 09:04:31 @monitor.py:467]\u001b[0m GAN_loss/gen/klloss: 0.08489\n",
      "\u001b[32m[1019 09:04:31 @monitor.py:467]\u001b[0m GAN_loss/gen/loss: 1.2261\n",
      "\u001b[32m[1019 09:04:31 @monitor.py:467]\u001b[0m QueueInput/queue_size: 50\n",
      "\u001b[32m[1019 09:04:31 @base.py:275]\u001b[0m Start Epoch 1183 ...\n"
     ]
    },
    {
     "name": "stderr",
     "output_type": "stream",
     "text": [
      "100%|###################################################################################|175/175[00:05<00:00,31.94it/s]"
     ]
    },
    {
     "name": "stdout",
     "output_type": "stream",
     "text": [
      "\u001b[32m[1019 09:04:37 @base.py:285]\u001b[0m Epoch 1183 (global_step 207025) finished, time:5.48 seconds.\n",
      "\u001b[32m[1019 09:04:37 @saver.py:79]\u001b[0m Model saved to ../output/Chicago/DATGAN_asd29/model\\model-207025.\n"
     ]
    },
    {
     "name": "stderr",
     "output_type": "stream",
     "text": [
      "\n"
     ]
    },
    {
     "name": "stdout",
     "output_type": "stream",
     "text": [
      "\u001b[32m[1019 09:04:37 @monitor.py:467]\u001b[0m GAN_loss/discrim/accuracy_fake: 0.83\n",
      "\u001b[32m[1019 09:04:37 @monitor.py:467]\u001b[0m GAN_loss/discrim/accuracy_real: 0.32\n",
      "\u001b[32m[1019 09:04:37 @monitor.py:467]\u001b[0m GAN_loss/discrim/loss: 0.63135\n",
      "\u001b[32m[1019 09:04:37 @monitor.py:467]\u001b[0m GAN_loss/gen/final-g-loss: 1.28\n",
      "\u001b[32m[1019 09:04:37 @monitor.py:467]\u001b[0m GAN_loss/gen/klloss: 0.061434\n",
      "\u001b[32m[1019 09:04:37 @monitor.py:467]\u001b[0m GAN_loss/gen/loss: 1.2186\n",
      "\u001b[32m[1019 09:04:37 @monitor.py:467]\u001b[0m QueueInput/queue_size: 50\n",
      "\u001b[32m[1019 09:04:37 @base.py:275]\u001b[0m Start Epoch 1184 ...\n"
     ]
    },
    {
     "name": "stderr",
     "output_type": "stream",
     "text": [
      "100%|###################################################################################|175/175[00:05<00:00,31.88it/s]"
     ]
    },
    {
     "name": "stdout",
     "output_type": "stream",
     "text": [
      "\u001b[32m[1019 09:04:42 @base.py:285]\u001b[0m Epoch 1184 (global_step 207200) finished, time:5.49 seconds.\n",
      "\u001b[32m[1019 09:04:42 @saver.py:79]\u001b[0m Model saved to ../output/Chicago/DATGAN_asd29/model\\model-207200.\n"
     ]
    },
    {
     "name": "stderr",
     "output_type": "stream",
     "text": [
      "\n"
     ]
    },
    {
     "name": "stdout",
     "output_type": "stream",
     "text": [
      "\u001b[32m[1019 09:04:43 @monitor.py:467]\u001b[0m GAN_loss/discrim/accuracy_fake: 0.832\n",
      "\u001b[32m[1019 09:04:43 @monitor.py:467]\u001b[0m GAN_loss/discrim/accuracy_real: 0.33\n",
      "\u001b[32m[1019 09:04:43 @monitor.py:467]\u001b[0m GAN_loss/discrim/loss: 0.62869\n",
      "\u001b[32m[1019 09:04:43 @monitor.py:467]\u001b[0m GAN_loss/gen/final-g-loss: 1.2715\n",
      "\u001b[32m[1019 09:04:43 @monitor.py:467]\u001b[0m GAN_loss/gen/klloss: 0.080019\n",
      "\u001b[32m[1019 09:04:43 @monitor.py:467]\u001b[0m GAN_loss/gen/loss: 1.1915\n",
      "\u001b[32m[1019 09:04:43 @monitor.py:467]\u001b[0m QueueInput/queue_size: 50\n",
      "\u001b[32m[1019 09:04:43 @base.py:275]\u001b[0m Start Epoch 1185 ...\n"
     ]
    },
    {
     "name": "stderr",
     "output_type": "stream",
     "text": [
      "100%|###################################################################################|175/175[00:05<00:00,31.92it/s]"
     ]
    },
    {
     "name": "stdout",
     "output_type": "stream",
     "text": [
      "\u001b[32m[1019 09:04:48 @base.py:285]\u001b[0m Epoch 1185 (global_step 207375) finished, time:5.48 seconds.\n",
      "\u001b[32m[1019 09:04:48 @saver.py:79]\u001b[0m Model saved to ../output/Chicago/DATGAN_asd29/model\\model-207375.\n"
     ]
    },
    {
     "name": "stderr",
     "output_type": "stream",
     "text": [
      "\n"
     ]
    },
    {
     "name": "stdout",
     "output_type": "stream",
     "text": [
      "\u001b[32m[1019 09:04:48 @monitor.py:467]\u001b[0m GAN_loss/discrim/accuracy_fake: 0.804\n",
      "\u001b[32m[1019 09:04:48 @monitor.py:467]\u001b[0m GAN_loss/discrim/accuracy_real: 0.416\n",
      "\u001b[32m[1019 09:04:48 @monitor.py:467]\u001b[0m GAN_loss/discrim/loss: 0.61158\n",
      "\u001b[32m[1019 09:04:48 @monitor.py:467]\u001b[0m GAN_loss/gen/final-g-loss: 1.3228\n",
      "\u001b[32m[1019 09:04:48 @monitor.py:467]\u001b[0m GAN_loss/gen/klloss: 0.068349\n",
      "\u001b[32m[1019 09:04:48 @monitor.py:467]\u001b[0m GAN_loss/gen/loss: 1.2544\n",
      "\u001b[32m[1019 09:04:48 @monitor.py:467]\u001b[0m QueueInput/queue_size: 50\n",
      "\u001b[32m[1019 09:04:48 @base.py:275]\u001b[0m Start Epoch 1186 ...\n"
     ]
    },
    {
     "name": "stderr",
     "output_type": "stream",
     "text": [
      "100%|###################################################################################|175/175[00:05<00:00,31.85it/s]"
     ]
    },
    {
     "name": "stdout",
     "output_type": "stream",
     "text": [
      "\u001b[32m[1019 09:04:54 @base.py:285]\u001b[0m Epoch 1186 (global_step 207550) finished, time:5.49 seconds.\n",
      "\u001b[32m[1019 09:04:54 @saver.py:79]\u001b[0m Model saved to ../output/Chicago/DATGAN_asd29/model\\model-207550.\n"
     ]
    },
    {
     "name": "stderr",
     "output_type": "stream",
     "text": [
      "\n"
     ]
    },
    {
     "name": "stdout",
     "output_type": "stream",
     "text": [
      "\u001b[32m[1019 09:04:54 @monitor.py:467]\u001b[0m GAN_loss/discrim/accuracy_fake: 0.814\n",
      "\u001b[32m[1019 09:04:54 @monitor.py:467]\u001b[0m GAN_loss/discrim/accuracy_real: 0.392\n",
      "\u001b[32m[1019 09:04:54 @monitor.py:467]\u001b[0m GAN_loss/discrim/loss: 0.62119\n",
      "\u001b[32m[1019 09:04:54 @monitor.py:467]\u001b[0m GAN_loss/gen/final-g-loss: 1.3257\n",
      "\u001b[32m[1019 09:04:54 @monitor.py:467]\u001b[0m GAN_loss/gen/klloss: 0.081258\n",
      "\u001b[32m[1019 09:04:54 @monitor.py:467]\u001b[0m GAN_loss/gen/loss: 1.2445\n",
      "\u001b[32m[1019 09:04:54 @monitor.py:467]\u001b[0m QueueInput/queue_size: 50\n",
      "\u001b[32m[1019 09:04:54 @base.py:275]\u001b[0m Start Epoch 1187 ...\n"
     ]
    },
    {
     "name": "stderr",
     "output_type": "stream",
     "text": [
      "100%|###################################################################################|175/175[00:05<00:00,31.94it/s]"
     ]
    },
    {
     "name": "stdout",
     "output_type": "stream",
     "text": [
      "\u001b[32m[1019 09:05:00 @base.py:285]\u001b[0m Epoch 1187 (global_step 207725) finished, time:5.48 seconds.\n",
      "\u001b[32m[1019 09:05:00 @saver.py:79]\u001b[0m Model saved to ../output/Chicago/DATGAN_asd29/model\\model-207725.\n"
     ]
    },
    {
     "name": "stderr",
     "output_type": "stream",
     "text": [
      "\n"
     ]
    },
    {
     "name": "stdout",
     "output_type": "stream",
     "text": [
      "\u001b[32m[1019 09:05:00 @monitor.py:467]\u001b[0m GAN_loss/discrim/accuracy_fake: 0.85\n",
      "\u001b[32m[1019 09:05:00 @monitor.py:467]\u001b[0m GAN_loss/discrim/accuracy_real: 0.456\n",
      "\u001b[32m[1019 09:05:00 @monitor.py:467]\u001b[0m GAN_loss/discrim/loss: 0.58087\n",
      "\u001b[32m[1019 09:05:00 @monitor.py:467]\u001b[0m GAN_loss/gen/final-g-loss: 1.42\n",
      "\u001b[32m[1019 09:05:00 @monitor.py:467]\u001b[0m GAN_loss/gen/klloss: 0.075286\n",
      "\u001b[32m[1019 09:05:00 @monitor.py:467]\u001b[0m GAN_loss/gen/loss: 1.3447\n",
      "\u001b[32m[1019 09:05:00 @monitor.py:467]\u001b[0m QueueInput/queue_size: 50\n",
      "\u001b[32m[1019 09:05:00 @base.py:275]\u001b[0m Start Epoch 1188 ...\n"
     ]
    },
    {
     "name": "stderr",
     "output_type": "stream",
     "text": [
      "100%|###################################################################################|175/175[00:05<00:00,31.89it/s]"
     ]
    },
    {
     "name": "stdout",
     "output_type": "stream",
     "text": [
      "\u001b[32m[1019 09:05:05 @base.py:285]\u001b[0m Epoch 1188 (global_step 207900) finished, time:5.49 seconds.\n",
      "\u001b[32m[1019 09:05:05 @saver.py:79]\u001b[0m Model saved to ../output/Chicago/DATGAN_asd29/model\\model-207900.\n"
     ]
    },
    {
     "name": "stderr",
     "output_type": "stream",
     "text": [
      "\n"
     ]
    },
    {
     "name": "stdout",
     "output_type": "stream",
     "text": [
      "\u001b[32m[1019 09:05:06 @monitor.py:467]\u001b[0m GAN_loss/discrim/accuracy_fake: 0.818\n",
      "\u001b[32m[1019 09:05:06 @monitor.py:467]\u001b[0m GAN_loss/discrim/accuracy_real: 0.366\n",
      "\u001b[32m[1019 09:05:06 @monitor.py:467]\u001b[0m GAN_loss/discrim/loss: 0.62248\n",
      "\u001b[32m[1019 09:05:06 @monitor.py:467]\u001b[0m GAN_loss/gen/final-g-loss: 1.3766\n",
      "\u001b[32m[1019 09:05:06 @monitor.py:467]\u001b[0m GAN_loss/gen/klloss: 0.073012\n",
      "\u001b[32m[1019 09:05:06 @monitor.py:467]\u001b[0m GAN_loss/gen/loss: 1.3036\n",
      "\u001b[32m[1019 09:05:06 @monitor.py:467]\u001b[0m QueueInput/queue_size: 50\n",
      "\u001b[32m[1019 09:05:06 @base.py:275]\u001b[0m Start Epoch 1189 ...\n"
     ]
    },
    {
     "name": "stderr",
     "output_type": "stream",
     "text": [
      "100%|###################################################################################|175/175[00:05<00:00,31.90it/s]"
     ]
    },
    {
     "name": "stdout",
     "output_type": "stream",
     "text": [
      "\u001b[32m[1019 09:05:11 @base.py:285]\u001b[0m Epoch 1189 (global_step 208075) finished, time:5.49 seconds.\n",
      "\u001b[32m[1019 09:05:11 @saver.py:79]\u001b[0m Model saved to ../output/Chicago/DATGAN_asd29/model\\model-208075.\n"
     ]
    },
    {
     "name": "stderr",
     "output_type": "stream",
     "text": [
      "\n"
     ]
    },
    {
     "name": "stdout",
     "output_type": "stream",
     "text": [
      "\u001b[32m[1019 09:05:11 @monitor.py:467]\u001b[0m GAN_loss/discrim/accuracy_fake: 0.832\n",
      "\u001b[32m[1019 09:05:11 @monitor.py:467]\u001b[0m GAN_loss/discrim/accuracy_real: 0.368\n",
      "\u001b[32m[1019 09:05:11 @monitor.py:467]\u001b[0m GAN_loss/discrim/loss: 0.60885\n",
      "\u001b[32m[1019 09:05:11 @monitor.py:467]\u001b[0m GAN_loss/gen/final-g-loss: 1.3605\n",
      "\u001b[32m[1019 09:05:11 @monitor.py:467]\u001b[0m GAN_loss/gen/klloss: 0.079987\n",
      "\u001b[32m[1019 09:05:11 @monitor.py:467]\u001b[0m GAN_loss/gen/loss: 1.2805\n",
      "\u001b[32m[1019 09:05:11 @monitor.py:467]\u001b[0m QueueInput/queue_size: 50\n",
      "\u001b[32m[1019 09:05:11 @base.py:275]\u001b[0m Start Epoch 1190 ...\n"
     ]
    },
    {
     "name": "stderr",
     "output_type": "stream",
     "text": [
      "100%|###################################################################################|175/175[00:05<00:00,31.93it/s]"
     ]
    },
    {
     "name": "stdout",
     "output_type": "stream",
     "text": [
      "\u001b[32m[1019 09:05:17 @base.py:285]\u001b[0m Epoch 1190 (global_step 208250) finished, time:5.48 seconds.\n",
      "\u001b[32m[1019 09:05:17 @saver.py:79]\u001b[0m Model saved to ../output/Chicago/DATGAN_asd29/model\\model-208250.\n"
     ]
    },
    {
     "name": "stderr",
     "output_type": "stream",
     "text": [
      "\n"
     ]
    },
    {
     "name": "stdout",
     "output_type": "stream",
     "text": [
      "\u001b[32m[1019 09:05:17 @monitor.py:467]\u001b[0m GAN_loss/discrim/accuracy_fake: 0.826\n",
      "\u001b[32m[1019 09:05:17 @monitor.py:467]\u001b[0m GAN_loss/discrim/accuracy_real: 0.392\n",
      "\u001b[32m[1019 09:05:17 @monitor.py:467]\u001b[0m GAN_loss/discrim/loss: 0.61632\n",
      "\u001b[32m[1019 09:05:17 @monitor.py:467]\u001b[0m GAN_loss/gen/final-g-loss: 1.4281\n",
      "\u001b[32m[1019 09:05:17 @monitor.py:467]\u001b[0m GAN_loss/gen/klloss: 0.092565\n",
      "\u001b[32m[1019 09:05:17 @monitor.py:467]\u001b[0m GAN_loss/gen/loss: 1.3355\n",
      "\u001b[32m[1019 09:05:17 @monitor.py:467]\u001b[0m QueueInput/queue_size: 50\n",
      "\u001b[32m[1019 09:05:17 @base.py:275]\u001b[0m Start Epoch 1191 ...\n"
     ]
    },
    {
     "name": "stderr",
     "output_type": "stream",
     "text": [
      "100%|###################################################################################|175/175[00:05<00:00,31.86it/s]"
     ]
    },
    {
     "name": "stdout",
     "output_type": "stream",
     "text": [
      "\u001b[32m[1019 09:05:23 @base.py:285]\u001b[0m Epoch 1191 (global_step 208425) finished, time:5.49 seconds.\n",
      "\u001b[32m[1019 09:05:23 @saver.py:79]\u001b[0m Model saved to ../output/Chicago/DATGAN_asd29/model\\model-208425.\n"
     ]
    },
    {
     "name": "stderr",
     "output_type": "stream",
     "text": [
      "\n"
     ]
    },
    {
     "name": "stdout",
     "output_type": "stream",
     "text": [
      "\u001b[32m[1019 09:05:23 @monitor.py:467]\u001b[0m GAN_loss/discrim/accuracy_fake: 0.826\n",
      "\u001b[32m[1019 09:05:23 @monitor.py:467]\u001b[0m GAN_loss/discrim/accuracy_real: 0.404\n",
      "\u001b[32m[1019 09:05:23 @monitor.py:467]\u001b[0m GAN_loss/discrim/loss: 0.60345\n",
      "\u001b[32m[1019 09:05:23 @monitor.py:467]\u001b[0m GAN_loss/gen/final-g-loss: 1.4213\n",
      "\u001b[32m[1019 09:05:23 @monitor.py:467]\u001b[0m GAN_loss/gen/klloss: 0.10161\n",
      "\u001b[32m[1019 09:05:23 @monitor.py:467]\u001b[0m GAN_loss/gen/loss: 1.3197\n",
      "\u001b[32m[1019 09:05:23 @monitor.py:467]\u001b[0m QueueInput/queue_size: 50\n",
      "\u001b[32m[1019 09:05:23 @base.py:275]\u001b[0m Start Epoch 1192 ...\n"
     ]
    },
    {
     "name": "stderr",
     "output_type": "stream",
     "text": [
      "100%|###################################################################################|175/175[00:05<00:00,31.91it/s]"
     ]
    },
    {
     "name": "stdout",
     "output_type": "stream",
     "text": [
      "\u001b[32m[1019 09:05:28 @base.py:285]\u001b[0m Epoch 1192 (global_step 208600) finished, time:5.48 seconds.\n",
      "\u001b[32m[1019 09:05:28 @saver.py:79]\u001b[0m Model saved to ../output/Chicago/DATGAN_asd29/model\\model-208600.\n"
     ]
    },
    {
     "name": "stderr",
     "output_type": "stream",
     "text": [
      "\n"
     ]
    },
    {
     "name": "stdout",
     "output_type": "stream",
     "text": [
      "\u001b[32m[1019 09:05:29 @monitor.py:467]\u001b[0m GAN_loss/discrim/accuracy_fake: 0.804\n",
      "\u001b[32m[1019 09:05:29 @monitor.py:467]\u001b[0m GAN_loss/discrim/accuracy_real: 0.436\n",
      "\u001b[32m[1019 09:05:29 @monitor.py:467]\u001b[0m GAN_loss/discrim/loss: 0.62104\n",
      "\u001b[32m[1019 09:05:29 @monitor.py:467]\u001b[0m GAN_loss/gen/final-g-loss: 1.2795\n",
      "\u001b[32m[1019 09:05:29 @monitor.py:467]\u001b[0m GAN_loss/gen/klloss: 0.067457\n",
      "\u001b[32m[1019 09:05:29 @monitor.py:467]\u001b[0m GAN_loss/gen/loss: 1.212\n",
      "\u001b[32m[1019 09:05:29 @monitor.py:467]\u001b[0m QueueInput/queue_size: 50\n",
      "\u001b[32m[1019 09:05:29 @base.py:275]\u001b[0m Start Epoch 1193 ...\n"
     ]
    },
    {
     "name": "stderr",
     "output_type": "stream",
     "text": [
      "100%|###################################################################################|175/175[00:05<00:00,31.87it/s]"
     ]
    },
    {
     "name": "stdout",
     "output_type": "stream",
     "text": [
      "\u001b[32m[1019 09:05:34 @base.py:285]\u001b[0m Epoch 1193 (global_step 208775) finished, time:5.49 seconds.\n",
      "\u001b[32m[1019 09:05:34 @saver.py:79]\u001b[0m Model saved to ../output/Chicago/DATGAN_asd29/model\\model-208775.\n"
     ]
    },
    {
     "name": "stderr",
     "output_type": "stream",
     "text": [
      "\n"
     ]
    },
    {
     "name": "stdout",
     "output_type": "stream",
     "text": [
      "\u001b[32m[1019 09:05:34 @monitor.py:467]\u001b[0m GAN_loss/discrim/accuracy_fake: 0.814\n",
      "\u001b[32m[1019 09:05:34 @monitor.py:467]\u001b[0m GAN_loss/discrim/accuracy_real: 0.388\n",
      "\u001b[32m[1019 09:05:34 @monitor.py:467]\u001b[0m GAN_loss/discrim/loss: 0.63176\n",
      "\u001b[32m[1019 09:05:34 @monitor.py:467]\u001b[0m GAN_loss/gen/final-g-loss: 1.2552\n",
      "\u001b[32m[1019 09:05:34 @monitor.py:467]\u001b[0m GAN_loss/gen/klloss: 0.055843\n",
      "\u001b[32m[1019 09:05:34 @monitor.py:467]\u001b[0m GAN_loss/gen/loss: 1.1993\n",
      "\u001b[32m[1019 09:05:34 @monitor.py:467]\u001b[0m QueueInput/queue_size: 50\n",
      "\u001b[32m[1019 09:05:34 @base.py:275]\u001b[0m Start Epoch 1194 ...\n"
     ]
    },
    {
     "name": "stderr",
     "output_type": "stream",
     "text": [
      "100%|###################################################################################|175/175[00:05<00:00,31.93it/s]"
     ]
    },
    {
     "name": "stdout",
     "output_type": "stream",
     "text": [
      "\u001b[32m[1019 09:05:40 @base.py:285]\u001b[0m Epoch 1194 (global_step 208950) finished, time:5.48 seconds.\n",
      "\u001b[32m[1019 09:05:40 @saver.py:79]\u001b[0m Model saved to ../output/Chicago/DATGAN_asd29/model\\model-208950.\n"
     ]
    },
    {
     "name": "stderr",
     "output_type": "stream",
     "text": [
      "\n"
     ]
    },
    {
     "name": "stdout",
     "output_type": "stream",
     "text": [
      "\u001b[32m[1019 09:05:40 @monitor.py:467]\u001b[0m GAN_loss/discrim/accuracy_fake: 0.832\n",
      "\u001b[32m[1019 09:05:40 @monitor.py:467]\u001b[0m GAN_loss/discrim/accuracy_real: 0.306\n",
      "\u001b[32m[1019 09:05:40 @monitor.py:467]\u001b[0m GAN_loss/discrim/loss: 0.62506\n",
      "\u001b[32m[1019 09:05:40 @monitor.py:467]\u001b[0m GAN_loss/gen/final-g-loss: 1.3292\n",
      "\u001b[32m[1019 09:05:40 @monitor.py:467]\u001b[0m GAN_loss/gen/klloss: 0.065441\n",
      "\u001b[32m[1019 09:05:40 @monitor.py:467]\u001b[0m GAN_loss/gen/loss: 1.2638\n",
      "\u001b[32m[1019 09:05:40 @monitor.py:467]\u001b[0m QueueInput/queue_size: 50\n",
      "\u001b[32m[1019 09:05:40 @base.py:275]\u001b[0m Start Epoch 1195 ...\n"
     ]
    },
    {
     "name": "stderr",
     "output_type": "stream",
     "text": [
      "100%|###################################################################################|175/175[00:05<00:00,31.88it/s]"
     ]
    },
    {
     "name": "stdout",
     "output_type": "stream",
     "text": [
      "\u001b[32m[1019 09:05:46 @base.py:285]\u001b[0m Epoch 1195 (global_step 209125) finished, time:5.49 seconds.\n",
      "\u001b[32m[1019 09:05:46 @saver.py:79]\u001b[0m Model saved to ../output/Chicago/DATGAN_asd29/model\\model-209125.\n"
     ]
    },
    {
     "name": "stderr",
     "output_type": "stream",
     "text": [
      "\n"
     ]
    },
    {
     "name": "stdout",
     "output_type": "stream",
     "text": [
      "\u001b[32m[1019 09:05:46 @monitor.py:467]\u001b[0m GAN_loss/discrim/accuracy_fake: 0.794\n",
      "\u001b[32m[1019 09:05:46 @monitor.py:467]\u001b[0m GAN_loss/discrim/accuracy_real: 0.406\n",
      "\u001b[32m[1019 09:05:46 @monitor.py:467]\u001b[0m GAN_loss/discrim/loss: 0.63228\n",
      "\u001b[32m[1019 09:05:46 @monitor.py:467]\u001b[0m GAN_loss/gen/final-g-loss: 1.2498\n",
      "\u001b[32m[1019 09:05:46 @monitor.py:467]\u001b[0m GAN_loss/gen/klloss: 0.072436\n",
      "\u001b[32m[1019 09:05:46 @monitor.py:467]\u001b[0m GAN_loss/gen/loss: 1.1774\n",
      "\u001b[32m[1019 09:05:46 @monitor.py:467]\u001b[0m QueueInput/queue_size: 50\n",
      "\u001b[32m[1019 09:05:46 @base.py:275]\u001b[0m Start Epoch 1196 ...\n"
     ]
    },
    {
     "name": "stderr",
     "output_type": "stream",
     "text": [
      "100%|###################################################################################|175/175[00:05<00:00,31.91it/s]"
     ]
    },
    {
     "name": "stdout",
     "output_type": "stream",
     "text": [
      "\u001b[32m[1019 09:05:51 @base.py:285]\u001b[0m Epoch 1196 (global_step 209300) finished, time:5.49 seconds.\n",
      "\u001b[32m[1019 09:05:52 @saver.py:79]\u001b[0m Model saved to ../output/Chicago/DATGAN_asd29/model\\model-209300.\n"
     ]
    },
    {
     "name": "stderr",
     "output_type": "stream",
     "text": [
      "\n"
     ]
    },
    {
     "name": "stdout",
     "output_type": "stream",
     "text": [
      "\u001b[32m[1019 09:05:52 @monitor.py:467]\u001b[0m GAN_loss/discrim/accuracy_fake: 0.84\n",
      "\u001b[32m[1019 09:05:52 @monitor.py:467]\u001b[0m GAN_loss/discrim/accuracy_real: 0.428\n",
      "\u001b[32m[1019 09:05:52 @monitor.py:467]\u001b[0m GAN_loss/discrim/loss: 0.59877\n",
      "\u001b[32m[1019 09:05:52 @monitor.py:467]\u001b[0m GAN_loss/gen/final-g-loss: 1.4265\n",
      "\u001b[32m[1019 09:05:52 @monitor.py:467]\u001b[0m GAN_loss/gen/klloss: 0.11436\n",
      "\u001b[32m[1019 09:05:52 @monitor.py:467]\u001b[0m GAN_loss/gen/loss: 1.3121\n",
      "\u001b[32m[1019 09:05:52 @monitor.py:467]\u001b[0m QueueInput/queue_size: 50\n",
      "\u001b[32m[1019 09:05:52 @base.py:275]\u001b[0m Start Epoch 1197 ...\n"
     ]
    },
    {
     "name": "stderr",
     "output_type": "stream",
     "text": [
      "100%|###################################################################################|175/175[00:05<00:00,31.88it/s]"
     ]
    },
    {
     "name": "stdout",
     "output_type": "stream",
     "text": [
      "\u001b[32m[1019 09:05:57 @base.py:285]\u001b[0m Epoch 1197 (global_step 209475) finished, time:5.49 seconds.\n",
      "\u001b[32m[1019 09:05:57 @saver.py:79]\u001b[0m Model saved to ../output/Chicago/DATGAN_asd29/model\\model-209475.\n"
     ]
    },
    {
     "name": "stderr",
     "output_type": "stream",
     "text": [
      "\n"
     ]
    },
    {
     "name": "stdout",
     "output_type": "stream",
     "text": [
      "\u001b[32m[1019 09:05:58 @monitor.py:467]\u001b[0m GAN_loss/discrim/accuracy_fake: 0.782\n",
      "\u001b[32m[1019 09:05:58 @monitor.py:467]\u001b[0m GAN_loss/discrim/accuracy_real: 0.394\n",
      "\u001b[32m[1019 09:05:58 @monitor.py:467]\u001b[0m GAN_loss/discrim/loss: 0.62441\n",
      "\u001b[32m[1019 09:05:58 @monitor.py:467]\u001b[0m GAN_loss/gen/final-g-loss: 1.376\n",
      "\u001b[32m[1019 09:05:58 @monitor.py:467]\u001b[0m GAN_loss/gen/klloss: 0.10879\n",
      "\u001b[32m[1019 09:05:58 @monitor.py:467]\u001b[0m GAN_loss/gen/loss: 1.2672\n",
      "\u001b[32m[1019 09:05:58 @monitor.py:467]\u001b[0m QueueInput/queue_size: 50\n",
      "\u001b[32m[1019 09:05:58 @base.py:275]\u001b[0m Start Epoch 1198 ...\n"
     ]
    },
    {
     "name": "stderr",
     "output_type": "stream",
     "text": [
      "100%|###################################################################################|175/175[00:05<00:00,31.90it/s]"
     ]
    },
    {
     "name": "stdout",
     "output_type": "stream",
     "text": [
      "\u001b[32m[1019 09:06:03 @base.py:285]\u001b[0m Epoch 1198 (global_step 209650) finished, time:5.49 seconds.\n",
      "\u001b[32m[1019 09:06:03 @saver.py:79]\u001b[0m Model saved to ../output/Chicago/DATGAN_asd29/model\\model-209650.\n"
     ]
    },
    {
     "name": "stderr",
     "output_type": "stream",
     "text": [
      "\n"
     ]
    },
    {
     "name": "stdout",
     "output_type": "stream",
     "text": [
      "\u001b[32m[1019 09:06:03 @monitor.py:467]\u001b[0m GAN_loss/discrim/accuracy_fake: 0.816\n",
      "\u001b[32m[1019 09:06:03 @monitor.py:467]\u001b[0m GAN_loss/discrim/accuracy_real: 0.43\n",
      "\u001b[32m[1019 09:06:03 @monitor.py:467]\u001b[0m GAN_loss/discrim/loss: 0.61212\n",
      "\u001b[32m[1019 09:06:03 @monitor.py:467]\u001b[0m GAN_loss/gen/final-g-loss: 1.2948\n",
      "\u001b[32m[1019 09:06:03 @monitor.py:467]\u001b[0m GAN_loss/gen/klloss: 0.057096\n",
      "\u001b[32m[1019 09:06:03 @monitor.py:467]\u001b[0m GAN_loss/gen/loss: 1.2377\n",
      "\u001b[32m[1019 09:06:03 @monitor.py:467]\u001b[0m QueueInput/queue_size: 50\n",
      "\u001b[32m[1019 09:06:03 @base.py:275]\u001b[0m Start Epoch 1199 ...\n"
     ]
    },
    {
     "name": "stderr",
     "output_type": "stream",
     "text": [
      "100%|###################################################################################|175/175[00:05<00:00,31.88it/s]"
     ]
    },
    {
     "name": "stdout",
     "output_type": "stream",
     "text": [
      "\u001b[32m[1019 09:06:09 @base.py:285]\u001b[0m Epoch 1199 (global_step 209825) finished, time:5.49 seconds.\n",
      "\u001b[32m[1019 09:06:09 @saver.py:79]\u001b[0m Model saved to ../output/Chicago/DATGAN_asd29/model\\model-209825.\n"
     ]
    },
    {
     "name": "stderr",
     "output_type": "stream",
     "text": [
      "\n"
     ]
    },
    {
     "name": "stdout",
     "output_type": "stream",
     "text": [
      "\u001b[32m[1019 09:06:09 @monitor.py:467]\u001b[0m GAN_loss/discrim/accuracy_fake: 0.748\n",
      "\u001b[32m[1019 09:06:09 @monitor.py:467]\u001b[0m GAN_loss/discrim/accuracy_real: 0.408\n",
      "\u001b[32m[1019 09:06:09 @monitor.py:467]\u001b[0m GAN_loss/discrim/loss: 0.63154\n",
      "\u001b[32m[1019 09:06:09 @monitor.py:467]\u001b[0m GAN_loss/gen/final-g-loss: 1.3276\n",
      "\u001b[32m[1019 09:06:09 @monitor.py:467]\u001b[0m GAN_loss/gen/klloss: 0.10997\n",
      "\u001b[32m[1019 09:06:09 @monitor.py:467]\u001b[0m GAN_loss/gen/loss: 1.2176\n",
      "\u001b[32m[1019 09:06:09 @monitor.py:467]\u001b[0m QueueInput/queue_size: 50\n",
      "\u001b[32m[1019 09:06:09 @base.py:275]\u001b[0m Start Epoch 1200 ...\n"
     ]
    },
    {
     "name": "stderr",
     "output_type": "stream",
     "text": [
      "100%|###################################################################################|175/175[00:05<00:00,31.90it/s]"
     ]
    },
    {
     "name": "stdout",
     "output_type": "stream",
     "text": [
      "\u001b[32m[1019 09:06:15 @base.py:285]\u001b[0m Epoch 1200 (global_step 210000) finished, time:5.49 seconds.\n",
      "\u001b[32m[1019 09:06:15 @saver.py:79]\u001b[0m Model saved to ../output/Chicago/DATGAN_asd29/model\\model-210000.\n"
     ]
    },
    {
     "name": "stderr",
     "output_type": "stream",
     "text": [
      "\n"
     ]
    },
    {
     "name": "stdout",
     "output_type": "stream",
     "text": [
      "\u001b[32m[1019 09:06:15 @monitor.py:467]\u001b[0m GAN_loss/discrim/accuracy_fake: 0.842\n",
      "\u001b[32m[1019 09:06:15 @monitor.py:467]\u001b[0m GAN_loss/discrim/accuracy_real: 0.382\n",
      "\u001b[32m[1019 09:06:15 @monitor.py:467]\u001b[0m GAN_loss/discrim/loss: 0.60574\n",
      "\u001b[32m[1019 09:06:15 @monitor.py:467]\u001b[0m GAN_loss/gen/final-g-loss: 1.4559\n",
      "\u001b[32m[1019 09:06:15 @monitor.py:467]\u001b[0m GAN_loss/gen/klloss: 0.13341\n",
      "\u001b[32m[1019 09:06:15 @monitor.py:467]\u001b[0m GAN_loss/gen/loss: 1.3225\n",
      "\u001b[32m[1019 09:06:15 @monitor.py:467]\u001b[0m QueueInput/queue_size: 50\n",
      "\u001b[32m[1019 09:06:15 @base.py:275]\u001b[0m Start Epoch 1201 ...\n"
     ]
    },
    {
     "name": "stderr",
     "output_type": "stream",
     "text": [
      "100%|###################################################################################|175/175[00:05<00:00,31.90it/s]"
     ]
    },
    {
     "name": "stdout",
     "output_type": "stream",
     "text": [
      "\u001b[32m[1019 09:06:20 @base.py:285]\u001b[0m Epoch 1201 (global_step 210175) finished, time:5.49 seconds.\n",
      "\u001b[32m[1019 09:06:20 @saver.py:79]\u001b[0m Model saved to ../output/Chicago/DATGAN_asd29/model\\model-210175.\n"
     ]
    },
    {
     "name": "stderr",
     "output_type": "stream",
     "text": [
      "\n"
     ]
    },
    {
     "name": "stdout",
     "output_type": "stream",
     "text": [
      "\u001b[32m[1019 09:06:21 @monitor.py:467]\u001b[0m GAN_loss/discrim/accuracy_fake: 0.82\n",
      "\u001b[32m[1019 09:06:21 @monitor.py:467]\u001b[0m GAN_loss/discrim/accuracy_real: 0.428\n",
      "\u001b[32m[1019 09:06:21 @monitor.py:467]\u001b[0m GAN_loss/discrim/loss: 0.60053\n",
      "\u001b[32m[1019 09:06:21 @monitor.py:467]\u001b[0m GAN_loss/gen/final-g-loss: 1.3491\n",
      "\u001b[32m[1019 09:06:21 @monitor.py:467]\u001b[0m GAN_loss/gen/klloss: 0.063812\n",
      "\u001b[32m[1019 09:06:21 @monitor.py:467]\u001b[0m GAN_loss/gen/loss: 1.2853\n",
      "\u001b[32m[1019 09:06:21 @monitor.py:467]\u001b[0m QueueInput/queue_size: 50\n",
      "\u001b[32m[1019 09:06:21 @base.py:275]\u001b[0m Start Epoch 1202 ...\n"
     ]
    },
    {
     "name": "stderr",
     "output_type": "stream",
     "text": [
      "100%|###################################################################################|175/175[00:05<00:00,31.93it/s]"
     ]
    },
    {
     "name": "stdout",
     "output_type": "stream",
     "text": [
      "\u001b[32m[1019 09:06:26 @base.py:285]\u001b[0m Epoch 1202 (global_step 210350) finished, time:5.48 seconds.\n",
      "\u001b[32m[1019 09:06:26 @saver.py:79]\u001b[0m Model saved to ../output/Chicago/DATGAN_asd29/model\\model-210350.\n"
     ]
    },
    {
     "name": "stderr",
     "output_type": "stream",
     "text": [
      "\n"
     ]
    },
    {
     "name": "stdout",
     "output_type": "stream",
     "text": [
      "\u001b[32m[1019 09:06:26 @monitor.py:467]\u001b[0m GAN_loss/discrim/accuracy_fake: 0.816\n",
      "\u001b[32m[1019 09:06:26 @monitor.py:467]\u001b[0m GAN_loss/discrim/accuracy_real: 0.446\n",
      "\u001b[32m[1019 09:06:26 @monitor.py:467]\u001b[0m GAN_loss/discrim/loss: 0.5947\n",
      "\u001b[32m[1019 09:06:26 @monitor.py:467]\u001b[0m GAN_loss/gen/final-g-loss: 1.4321\n",
      "\u001b[32m[1019 09:06:26 @monitor.py:467]\u001b[0m GAN_loss/gen/klloss: 0.082435\n",
      "\u001b[32m[1019 09:06:26 @monitor.py:467]\u001b[0m GAN_loss/gen/loss: 1.3497\n",
      "\u001b[32m[1019 09:06:26 @monitor.py:467]\u001b[0m QueueInput/queue_size: 50\n",
      "\u001b[32m[1019 09:06:26 @base.py:275]\u001b[0m Start Epoch 1203 ...\n"
     ]
    },
    {
     "name": "stderr",
     "output_type": "stream",
     "text": [
      "100%|###################################################################################|175/175[00:05<00:00,31.88it/s]"
     ]
    },
    {
     "name": "stdout",
     "output_type": "stream",
     "text": [
      "\u001b[32m[1019 09:06:32 @base.py:285]\u001b[0m Epoch 1203 (global_step 210525) finished, time:5.49 seconds.\n",
      "\u001b[32m[1019 09:06:32 @saver.py:79]\u001b[0m Model saved to ../output/Chicago/DATGAN_asd29/model\\model-210525.\n"
     ]
    },
    {
     "name": "stderr",
     "output_type": "stream",
     "text": [
      "\n"
     ]
    },
    {
     "name": "stdout",
     "output_type": "stream",
     "text": [
      "\u001b[32m[1019 09:06:32 @monitor.py:467]\u001b[0m GAN_loss/discrim/accuracy_fake: 0.828\n",
      "\u001b[32m[1019 09:06:32 @monitor.py:467]\u001b[0m GAN_loss/discrim/accuracy_real: 0.344\n",
      "\u001b[32m[1019 09:06:32 @monitor.py:467]\u001b[0m GAN_loss/discrim/loss: 0.63213\n",
      "\u001b[32m[1019 09:06:32 @monitor.py:467]\u001b[0m GAN_loss/gen/final-g-loss: 1.327\n",
      "\u001b[32m[1019 09:06:32 @monitor.py:467]\u001b[0m GAN_loss/gen/klloss: 0.064959\n",
      "\u001b[32m[1019 09:06:32 @monitor.py:467]\u001b[0m GAN_loss/gen/loss: 1.262\n",
      "\u001b[32m[1019 09:06:32 @monitor.py:467]\u001b[0m QueueInput/queue_size: 50\n",
      "\u001b[32m[1019 09:06:32 @base.py:275]\u001b[0m Start Epoch 1204 ...\n"
     ]
    },
    {
     "name": "stderr",
     "output_type": "stream",
     "text": [
      "100%|###################################################################################|175/175[00:05<00:00,31.92it/s]"
     ]
    },
    {
     "name": "stdout",
     "output_type": "stream",
     "text": [
      "\u001b[32m[1019 09:06:38 @base.py:285]\u001b[0m Epoch 1204 (global_step 210700) finished, time:5.48 seconds.\n",
      "\u001b[32m[1019 09:06:38 @saver.py:79]\u001b[0m Model saved to ../output/Chicago/DATGAN_asd29/model\\model-210700.\n"
     ]
    },
    {
     "name": "stderr",
     "output_type": "stream",
     "text": [
      "\n"
     ]
    },
    {
     "name": "stdout",
     "output_type": "stream",
     "text": [
      "\u001b[32m[1019 09:06:38 @monitor.py:467]\u001b[0m GAN_loss/discrim/accuracy_fake: 0.822\n",
      "\u001b[32m[1019 09:06:38 @monitor.py:467]\u001b[0m GAN_loss/discrim/accuracy_real: 0.51\n",
      "\u001b[32m[1019 09:06:38 @monitor.py:467]\u001b[0m GAN_loss/discrim/loss: 0.56291\n",
      "\u001b[32m[1019 09:06:38 @monitor.py:467]\u001b[0m GAN_loss/gen/final-g-loss: 1.462\n",
      "\u001b[32m[1019 09:06:38 @monitor.py:467]\u001b[0m GAN_loss/gen/klloss: 0.064827\n",
      "\u001b[32m[1019 09:06:38 @monitor.py:467]\u001b[0m GAN_loss/gen/loss: 1.3972\n",
      "\u001b[32m[1019 09:06:38 @monitor.py:467]\u001b[0m QueueInput/queue_size: 50\n",
      "\u001b[32m[1019 09:06:38 @base.py:275]\u001b[0m Start Epoch 1205 ...\n"
     ]
    },
    {
     "name": "stderr",
     "output_type": "stream",
     "text": [
      "100%|###################################################################################|175/175[00:05<00:00,31.91it/s]"
     ]
    },
    {
     "name": "stdout",
     "output_type": "stream",
     "text": [
      "\u001b[32m[1019 09:06:43 @base.py:285]\u001b[0m Epoch 1205 (global_step 210875) finished, time:5.48 seconds.\n",
      "\u001b[32m[1019 09:06:43 @saver.py:79]\u001b[0m Model saved to ../output/Chicago/DATGAN_asd29/model\\model-210875.\n"
     ]
    },
    {
     "name": "stderr",
     "output_type": "stream",
     "text": [
      "\n"
     ]
    },
    {
     "name": "stdout",
     "output_type": "stream",
     "text": [
      "\u001b[32m[1019 09:06:44 @monitor.py:467]\u001b[0m GAN_loss/discrim/accuracy_fake: 0.816\n",
      "\u001b[32m[1019 09:06:44 @monitor.py:467]\u001b[0m GAN_loss/discrim/accuracy_real: 0.402\n",
      "\u001b[32m[1019 09:06:44 @monitor.py:467]\u001b[0m GAN_loss/discrim/loss: 0.60268\n",
      "\u001b[32m[1019 09:06:44 @monitor.py:467]\u001b[0m GAN_loss/gen/final-g-loss: 1.5055\n",
      "\u001b[32m[1019 09:06:44 @monitor.py:467]\u001b[0m GAN_loss/gen/klloss: 0.11436\n",
      "\u001b[32m[1019 09:06:44 @monitor.py:467]\u001b[0m GAN_loss/gen/loss: 1.3912\n",
      "\u001b[32m[1019 09:06:44 @monitor.py:467]\u001b[0m QueueInput/queue_size: 50\n",
      "\u001b[32m[1019 09:06:44 @base.py:275]\u001b[0m Start Epoch 1206 ...\n"
     ]
    },
    {
     "name": "stderr",
     "output_type": "stream",
     "text": [
      "100%|###################################################################################|175/175[00:05<00:00,31.92it/s]"
     ]
    },
    {
     "name": "stdout",
     "output_type": "stream",
     "text": [
      "\u001b[32m[1019 09:06:49 @base.py:285]\u001b[0m Epoch 1206 (global_step 211050) finished, time:5.48 seconds.\n",
      "\u001b[32m[1019 09:06:49 @saver.py:79]\u001b[0m Model saved to ../output/Chicago/DATGAN_asd29/model\\model-211050.\n"
     ]
    },
    {
     "name": "stderr",
     "output_type": "stream",
     "text": [
      "\n"
     ]
    },
    {
     "name": "stdout",
     "output_type": "stream",
     "text": [
      "\u001b[32m[1019 09:06:49 @monitor.py:467]\u001b[0m GAN_loss/discrim/accuracy_fake: 0.824\n",
      "\u001b[32m[1019 09:06:49 @monitor.py:467]\u001b[0m GAN_loss/discrim/accuracy_real: 0.436\n",
      "\u001b[32m[1019 09:06:49 @monitor.py:467]\u001b[0m GAN_loss/discrim/loss: 0.61061\n",
      "\u001b[32m[1019 09:06:49 @monitor.py:467]\u001b[0m GAN_loss/gen/final-g-loss: 1.3466\n",
      "\u001b[32m[1019 09:06:49 @monitor.py:467]\u001b[0m GAN_loss/gen/klloss: 0.054675\n",
      "\u001b[32m[1019 09:06:49 @monitor.py:467]\u001b[0m GAN_loss/gen/loss: 1.2919\n",
      "\u001b[32m[1019 09:06:49 @monitor.py:467]\u001b[0m QueueInput/queue_size: 50\n",
      "\u001b[32m[1019 09:06:49 @base.py:275]\u001b[0m Start Epoch 1207 ...\n"
     ]
    },
    {
     "name": "stderr",
     "output_type": "stream",
     "text": [
      "100%|###################################################################################|175/175[00:05<00:00,31.85it/s]"
     ]
    },
    {
     "name": "stdout",
     "output_type": "stream",
     "text": [
      "\u001b[32m[1019 09:06:55 @base.py:285]\u001b[0m Epoch 1207 (global_step 211225) finished, time:5.49 seconds.\n",
      "\u001b[32m[1019 09:06:55 @saver.py:79]\u001b[0m Model saved to ../output/Chicago/DATGAN_asd29/model\\model-211225.\n"
     ]
    },
    {
     "name": "stderr",
     "output_type": "stream",
     "text": [
      "\n"
     ]
    },
    {
     "name": "stdout",
     "output_type": "stream",
     "text": [
      "\u001b[32m[1019 09:06:55 @monitor.py:467]\u001b[0m GAN_loss/discrim/accuracy_fake: 0.86\n",
      "\u001b[32m[1019 09:06:55 @monitor.py:467]\u001b[0m GAN_loss/discrim/accuracy_real: 0.46\n",
      "\u001b[32m[1019 09:06:55 @monitor.py:467]\u001b[0m GAN_loss/discrim/loss: 0.56959\n",
      "\u001b[32m[1019 09:06:55 @monitor.py:467]\u001b[0m GAN_loss/gen/final-g-loss: 1.4545\n",
      "\u001b[32m[1019 09:06:55 @monitor.py:467]\u001b[0m GAN_loss/gen/klloss: 0.094039\n",
      "\u001b[32m[1019 09:06:55 @monitor.py:467]\u001b[0m GAN_loss/gen/loss: 1.3604\n",
      "\u001b[32m[1019 09:06:55 @monitor.py:467]\u001b[0m QueueInput/queue_size: 50\n",
      "\u001b[32m[1019 09:06:55 @base.py:275]\u001b[0m Start Epoch 1208 ...\n"
     ]
    },
    {
     "name": "stderr",
     "output_type": "stream",
     "text": [
      "100%|###################################################################################|175/175[00:05<00:00,31.90it/s]"
     ]
    },
    {
     "name": "stdout",
     "output_type": "stream",
     "text": [
      "\u001b[32m[1019 09:07:01 @base.py:285]\u001b[0m Epoch 1208 (global_step 211400) finished, time:5.49 seconds.\n",
      "\u001b[32m[1019 09:07:01 @saver.py:79]\u001b[0m Model saved to ../output/Chicago/DATGAN_asd29/model\\model-211400.\n"
     ]
    },
    {
     "name": "stderr",
     "output_type": "stream",
     "text": [
      "\n"
     ]
    },
    {
     "name": "stdout",
     "output_type": "stream",
     "text": [
      "\u001b[32m[1019 09:07:01 @monitor.py:467]\u001b[0m GAN_loss/discrim/accuracy_fake: 0.834\n",
      "\u001b[32m[1019 09:07:01 @monitor.py:467]\u001b[0m GAN_loss/discrim/accuracy_real: 0.446\n",
      "\u001b[32m[1019 09:07:01 @monitor.py:467]\u001b[0m GAN_loss/discrim/loss: 0.60578\n",
      "\u001b[32m[1019 09:07:01 @monitor.py:467]\u001b[0m GAN_loss/gen/final-g-loss: 1.3868\n",
      "\u001b[32m[1019 09:07:01 @monitor.py:467]\u001b[0m GAN_loss/gen/klloss: 0.07954\n",
      "\u001b[32m[1019 09:07:01 @monitor.py:467]\u001b[0m GAN_loss/gen/loss: 1.3073\n",
      "\u001b[32m[1019 09:07:01 @monitor.py:467]\u001b[0m QueueInput/queue_size: 50\n",
      "\u001b[32m[1019 09:07:01 @base.py:275]\u001b[0m Start Epoch 1209 ...\n"
     ]
    },
    {
     "name": "stderr",
     "output_type": "stream",
     "text": [
      "100%|###################################################################################|175/175[00:05<00:00,31.91it/s]"
     ]
    },
    {
     "name": "stdout",
     "output_type": "stream",
     "text": [
      "\u001b[32m[1019 09:07:06 @base.py:285]\u001b[0m Epoch 1209 (global_step 211575) finished, time:5.49 seconds.\n",
      "\u001b[32m[1019 09:07:07 @saver.py:79]\u001b[0m Model saved to ../output/Chicago/DATGAN_asd29/model\\model-211575.\n"
     ]
    },
    {
     "name": "stderr",
     "output_type": "stream",
     "text": [
      "\n"
     ]
    },
    {
     "name": "stdout",
     "output_type": "stream",
     "text": [
      "\u001b[32m[1019 09:07:07 @monitor.py:467]\u001b[0m GAN_loss/discrim/accuracy_fake: 0.82\n",
      "\u001b[32m[1019 09:07:07 @monitor.py:467]\u001b[0m GAN_loss/discrim/accuracy_real: 0.492\n",
      "\u001b[32m[1019 09:07:07 @monitor.py:467]\u001b[0m GAN_loss/discrim/loss: 0.58109\n",
      "\u001b[32m[1019 09:07:07 @monitor.py:467]\u001b[0m GAN_loss/gen/final-g-loss: 1.3838\n",
      "\u001b[32m[1019 09:07:07 @monitor.py:467]\u001b[0m GAN_loss/gen/klloss: 0.059194\n",
      "\u001b[32m[1019 09:07:07 @monitor.py:467]\u001b[0m GAN_loss/gen/loss: 1.3246\n",
      "\u001b[32m[1019 09:07:07 @monitor.py:467]\u001b[0m QueueInput/queue_size: 50\n",
      "\u001b[32m[1019 09:07:07 @base.py:275]\u001b[0m Start Epoch 1210 ...\n"
     ]
    },
    {
     "name": "stderr",
     "output_type": "stream",
     "text": [
      "100%|###################################################################################|175/175[00:05<00:00,31.92it/s]"
     ]
    },
    {
     "name": "stdout",
     "output_type": "stream",
     "text": [
      "\u001b[32m[1019 09:07:12 @base.py:285]\u001b[0m Epoch 1210 (global_step 211750) finished, time:5.48 seconds.\n",
      "\u001b[32m[1019 09:07:12 @saver.py:79]\u001b[0m Model saved to ../output/Chicago/DATGAN_asd29/model\\model-211750.\n"
     ]
    },
    {
     "name": "stderr",
     "output_type": "stream",
     "text": [
      "\n"
     ]
    },
    {
     "name": "stdout",
     "output_type": "stream",
     "text": [
      "\u001b[32m[1019 09:07:13 @monitor.py:467]\u001b[0m GAN_loss/discrim/accuracy_fake: 0.848\n",
      "\u001b[32m[1019 09:07:13 @monitor.py:467]\u001b[0m GAN_loss/discrim/accuracy_real: 0.484\n",
      "\u001b[32m[1019 09:07:13 @monitor.py:467]\u001b[0m GAN_loss/discrim/loss: 0.57675\n",
      "\u001b[32m[1019 09:07:13 @monitor.py:467]\u001b[0m GAN_loss/gen/final-g-loss: 1.4123\n",
      "\u001b[32m[1019 09:07:13 @monitor.py:467]\u001b[0m GAN_loss/gen/klloss: 0.072342\n",
      "\u001b[32m[1019 09:07:13 @monitor.py:467]\u001b[0m GAN_loss/gen/loss: 1.3399\n",
      "\u001b[32m[1019 09:07:13 @monitor.py:467]\u001b[0m QueueInput/queue_size: 50\n",
      "\u001b[32m[1019 09:07:13 @base.py:275]\u001b[0m Start Epoch 1211 ...\n"
     ]
    },
    {
     "name": "stderr",
     "output_type": "stream",
     "text": [
      "100%|###################################################################################|175/175[00:05<00:00,31.92it/s]"
     ]
    },
    {
     "name": "stdout",
     "output_type": "stream",
     "text": [
      "\u001b[32m[1019 09:07:18 @base.py:285]\u001b[0m Epoch 1211 (global_step 211925) finished, time:5.48 seconds.\n",
      "\u001b[32m[1019 09:07:18 @saver.py:79]\u001b[0m Model saved to ../output/Chicago/DATGAN_asd29/model\\model-211925.\n"
     ]
    },
    {
     "name": "stderr",
     "output_type": "stream",
     "text": [
      "\n"
     ]
    },
    {
     "name": "stdout",
     "output_type": "stream",
     "text": [
      "\u001b[32m[1019 09:07:18 @monitor.py:467]\u001b[0m GAN_loss/discrim/accuracy_fake: 0.792\n",
      "\u001b[32m[1019 09:07:18 @monitor.py:467]\u001b[0m GAN_loss/discrim/accuracy_real: 0.472\n",
      "\u001b[32m[1019 09:07:18 @monitor.py:467]\u001b[0m GAN_loss/discrim/loss: 0.59441\n",
      "\u001b[32m[1019 09:07:18 @monitor.py:467]\u001b[0m GAN_loss/gen/final-g-loss: 1.3733\n",
      "\u001b[32m[1019 09:07:18 @monitor.py:467]\u001b[0m GAN_loss/gen/klloss: 0.07052\n",
      "\u001b[32m[1019 09:07:18 @monitor.py:467]\u001b[0m GAN_loss/gen/loss: 1.3027\n",
      "\u001b[32m[1019 09:07:18 @monitor.py:467]\u001b[0m QueueInput/queue_size: 50\n",
      "\u001b[32m[1019 09:07:18 @base.py:275]\u001b[0m Start Epoch 1212 ...\n"
     ]
    },
    {
     "name": "stderr",
     "output_type": "stream",
     "text": [
      "100%|###################################################################################|175/175[00:05<00:00,31.88it/s]"
     ]
    },
    {
     "name": "stdout",
     "output_type": "stream",
     "text": [
      "\u001b[32m[1019 09:07:24 @base.py:285]\u001b[0m Epoch 1212 (global_step 212100) finished, time:5.49 seconds.\n",
      "\u001b[32m[1019 09:07:24 @saver.py:79]\u001b[0m Model saved to ../output/Chicago/DATGAN_asd29/model\\model-212100.\n"
     ]
    },
    {
     "name": "stderr",
     "output_type": "stream",
     "text": [
      "\n"
     ]
    },
    {
     "name": "stdout",
     "output_type": "stream",
     "text": [
      "\u001b[32m[1019 09:07:24 @monitor.py:467]\u001b[0m GAN_loss/discrim/accuracy_fake: 0.8\n",
      "\u001b[32m[1019 09:07:24 @monitor.py:467]\u001b[0m GAN_loss/discrim/accuracy_real: 0.424\n",
      "\u001b[32m[1019 09:07:24 @monitor.py:467]\u001b[0m GAN_loss/discrim/loss: 0.61489\n",
      "\u001b[32m[1019 09:07:24 @monitor.py:467]\u001b[0m GAN_loss/gen/final-g-loss: 1.3932\n",
      "\u001b[32m[1019 09:07:24 @monitor.py:467]\u001b[0m GAN_loss/gen/klloss: 0.11088\n",
      "\u001b[32m[1019 09:07:24 @monitor.py:467]\u001b[0m GAN_loss/gen/loss: 1.2824\n",
      "\u001b[32m[1019 09:07:24 @monitor.py:467]\u001b[0m QueueInput/queue_size: 50\n",
      "\u001b[32m[1019 09:07:24 @base.py:275]\u001b[0m Start Epoch 1213 ...\n"
     ]
    },
    {
     "name": "stderr",
     "output_type": "stream",
     "text": [
      "100%|###################################################################################|175/175[00:05<00:00,31.94it/s]"
     ]
    },
    {
     "name": "stdout",
     "output_type": "stream",
     "text": [
      "\u001b[32m[1019 09:07:30 @base.py:285]\u001b[0m Epoch 1213 (global_step 212275) finished, time:5.48 seconds.\n",
      "\u001b[32m[1019 09:07:30 @saver.py:79]\u001b[0m Model saved to ../output/Chicago/DATGAN_asd29/model\\model-212275.\n"
     ]
    },
    {
     "name": "stderr",
     "output_type": "stream",
     "text": [
      "\n"
     ]
    },
    {
     "name": "stdout",
     "output_type": "stream",
     "text": [
      "\u001b[32m[1019 09:07:30 @monitor.py:467]\u001b[0m GAN_loss/discrim/accuracy_fake: 0.79\n",
      "\u001b[32m[1019 09:07:30 @monitor.py:467]\u001b[0m GAN_loss/discrim/accuracy_real: 0.424\n",
      "\u001b[32m[1019 09:07:30 @monitor.py:467]\u001b[0m GAN_loss/discrim/loss: 0.62731\n",
      "\u001b[32m[1019 09:07:30 @monitor.py:467]\u001b[0m GAN_loss/gen/final-g-loss: 1.3724\n",
      "\u001b[32m[1019 09:07:30 @monitor.py:467]\u001b[0m GAN_loss/gen/klloss: 0.068852\n",
      "\u001b[32m[1019 09:07:30 @monitor.py:467]\u001b[0m GAN_loss/gen/loss: 1.3035\n",
      "\u001b[32m[1019 09:07:30 @monitor.py:467]\u001b[0m QueueInput/queue_size: 50\n",
      "\u001b[32m[1019 09:07:30 @base.py:275]\u001b[0m Start Epoch 1214 ...\n"
     ]
    },
    {
     "name": "stderr",
     "output_type": "stream",
     "text": [
      "100%|###################################################################################|175/175[00:05<00:00,31.87it/s]"
     ]
    },
    {
     "name": "stdout",
     "output_type": "stream",
     "text": [
      "\u001b[32m[1019 09:07:35 @base.py:285]\u001b[0m Epoch 1214 (global_step 212450) finished, time:5.49 seconds.\n",
      "\u001b[32m[1019 09:07:35 @saver.py:79]\u001b[0m Model saved to ../output/Chicago/DATGAN_asd29/model\\model-212450.\n"
     ]
    },
    {
     "name": "stderr",
     "output_type": "stream",
     "text": [
      "\n"
     ]
    },
    {
     "name": "stdout",
     "output_type": "stream",
     "text": [
      "\u001b[32m[1019 09:07:36 @monitor.py:467]\u001b[0m GAN_loss/discrim/accuracy_fake: 0.836\n",
      "\u001b[32m[1019 09:07:36 @monitor.py:467]\u001b[0m GAN_loss/discrim/accuracy_real: 0.468\n",
      "\u001b[32m[1019 09:07:36 @monitor.py:467]\u001b[0m GAN_loss/discrim/loss: 0.58751\n",
      "\u001b[32m[1019 09:07:36 @monitor.py:467]\u001b[0m GAN_loss/gen/final-g-loss: 1.4915\n",
      "\u001b[32m[1019 09:07:36 @monitor.py:467]\u001b[0m GAN_loss/gen/klloss: 0.10624\n",
      "\u001b[32m[1019 09:07:36 @monitor.py:467]\u001b[0m GAN_loss/gen/loss: 1.3853\n",
      "\u001b[32m[1019 09:07:36 @monitor.py:467]\u001b[0m QueueInput/queue_size: 50\n",
      "\u001b[32m[1019 09:07:36 @base.py:275]\u001b[0m Start Epoch 1215 ...\n"
     ]
    },
    {
     "name": "stderr",
     "output_type": "stream",
     "text": [
      "100%|###################################################################################|175/175[00:05<00:00,31.94it/s]"
     ]
    },
    {
     "name": "stdout",
     "output_type": "stream",
     "text": [
      "\u001b[32m[1019 09:07:41 @base.py:285]\u001b[0m Epoch 1215 (global_step 212625) finished, time:5.48 seconds.\n",
      "\u001b[32m[1019 09:07:41 @saver.py:79]\u001b[0m Model saved to ../output/Chicago/DATGAN_asd29/model\\model-212625.\n"
     ]
    },
    {
     "name": "stderr",
     "output_type": "stream",
     "text": [
      "\n"
     ]
    },
    {
     "name": "stdout",
     "output_type": "stream",
     "text": [
      "\u001b[32m[1019 09:07:41 @monitor.py:467]\u001b[0m GAN_loss/discrim/accuracy_fake: 0.846\n",
      "\u001b[32m[1019 09:07:41 @monitor.py:467]\u001b[0m GAN_loss/discrim/accuracy_real: 0.486\n",
      "\u001b[32m[1019 09:07:41 @monitor.py:467]\u001b[0m GAN_loss/discrim/loss: 0.57434\n",
      "\u001b[32m[1019 09:07:41 @monitor.py:467]\u001b[0m GAN_loss/gen/final-g-loss: 1.5414\n",
      "\u001b[32m[1019 09:07:41 @monitor.py:467]\u001b[0m GAN_loss/gen/klloss: 0.087328\n",
      "\u001b[32m[1019 09:07:41 @monitor.py:467]\u001b[0m GAN_loss/gen/loss: 1.4541\n",
      "\u001b[32m[1019 09:07:41 @monitor.py:467]\u001b[0m QueueInput/queue_size: 50\n",
      "\u001b[32m[1019 09:07:41 @base.py:275]\u001b[0m Start Epoch 1216 ...\n"
     ]
    },
    {
     "name": "stderr",
     "output_type": "stream",
     "text": [
      "100%|###################################################################################|175/175[00:05<00:00,31.89it/s]"
     ]
    },
    {
     "name": "stdout",
     "output_type": "stream",
     "text": [
      "\u001b[32m[1019 09:07:47 @base.py:285]\u001b[0m Epoch 1216 (global_step 212800) finished, time:5.49 seconds.\n",
      "\u001b[32m[1019 09:07:47 @saver.py:79]\u001b[0m Model saved to ../output/Chicago/DATGAN_asd29/model\\model-212800.\n"
     ]
    },
    {
     "name": "stderr",
     "output_type": "stream",
     "text": [
      "\n"
     ]
    },
    {
     "name": "stdout",
     "output_type": "stream",
     "text": [
      "\u001b[32m[1019 09:07:47 @monitor.py:467]\u001b[0m GAN_loss/discrim/accuracy_fake: 0.802\n",
      "\u001b[32m[1019 09:07:47 @monitor.py:467]\u001b[0m GAN_loss/discrim/accuracy_real: 0.446\n",
      "\u001b[32m[1019 09:07:47 @monitor.py:467]\u001b[0m GAN_loss/discrim/loss: 0.59974\n",
      "\u001b[32m[1019 09:07:47 @monitor.py:467]\u001b[0m GAN_loss/gen/final-g-loss: 1.4009\n",
      "\u001b[32m[1019 09:07:47 @monitor.py:467]\u001b[0m GAN_loss/gen/klloss: 0.053629\n",
      "\u001b[32m[1019 09:07:47 @monitor.py:467]\u001b[0m GAN_loss/gen/loss: 1.3473\n",
      "\u001b[32m[1019 09:07:47 @monitor.py:467]\u001b[0m QueueInput/queue_size: 50\n",
      "\u001b[32m[1019 09:07:47 @base.py:275]\u001b[0m Start Epoch 1217 ...\n"
     ]
    },
    {
     "name": "stderr",
     "output_type": "stream",
     "text": [
      "100%|###################################################################################|175/175[00:05<00:00,31.93it/s]"
     ]
    },
    {
     "name": "stdout",
     "output_type": "stream",
     "text": [
      "\u001b[32m[1019 09:07:53 @base.py:285]\u001b[0m Epoch 1217 (global_step 212975) finished, time:5.48 seconds.\n",
      "\u001b[32m[1019 09:07:53 @saver.py:79]\u001b[0m Model saved to ../output/Chicago/DATGAN_asd29/model\\model-212975.\n"
     ]
    },
    {
     "name": "stderr",
     "output_type": "stream",
     "text": [
      "\n"
     ]
    },
    {
     "name": "stdout",
     "output_type": "stream",
     "text": [
      "\u001b[32m[1019 09:07:53 @monitor.py:467]\u001b[0m GAN_loss/discrim/accuracy_fake: 0.804\n",
      "\u001b[32m[1019 09:07:53 @monitor.py:467]\u001b[0m GAN_loss/discrim/accuracy_real: 0.444\n",
      "\u001b[32m[1019 09:07:53 @monitor.py:467]\u001b[0m GAN_loss/discrim/loss: 0.60542\n",
      "\u001b[32m[1019 09:07:53 @monitor.py:467]\u001b[0m GAN_loss/gen/final-g-loss: 1.3871\n",
      "\u001b[32m[1019 09:07:53 @monitor.py:467]\u001b[0m GAN_loss/gen/klloss: 0.047951\n",
      "\u001b[32m[1019 09:07:53 @monitor.py:467]\u001b[0m GAN_loss/gen/loss: 1.3391\n",
      "\u001b[32m[1019 09:07:53 @monitor.py:467]\u001b[0m QueueInput/queue_size: 50\n",
      "\u001b[32m[1019 09:07:53 @base.py:275]\u001b[0m Start Epoch 1218 ...\n"
     ]
    },
    {
     "name": "stderr",
     "output_type": "stream",
     "text": [
      "100%|###################################################################################|175/175[00:05<00:00,31.88it/s]"
     ]
    },
    {
     "name": "stdout",
     "output_type": "stream",
     "text": [
      "\u001b[32m[1019 09:07:58 @base.py:285]\u001b[0m Epoch 1218 (global_step 213150) finished, time:5.49 seconds.\n",
      "\u001b[32m[1019 09:07:58 @saver.py:79]\u001b[0m Model saved to ../output/Chicago/DATGAN_asd29/model\\model-213150.\n"
     ]
    },
    {
     "name": "stderr",
     "output_type": "stream",
     "text": [
      "\n"
     ]
    },
    {
     "name": "stdout",
     "output_type": "stream",
     "text": [
      "\u001b[32m[1019 09:07:59 @monitor.py:467]\u001b[0m GAN_loss/discrim/accuracy_fake: 0.84\n",
      "\u001b[32m[1019 09:07:59 @monitor.py:467]\u001b[0m GAN_loss/discrim/accuracy_real: 0.374\n",
      "\u001b[32m[1019 09:07:59 @monitor.py:467]\u001b[0m GAN_loss/discrim/loss: 0.61166\n",
      "\u001b[32m[1019 09:07:59 @monitor.py:467]\u001b[0m GAN_loss/gen/final-g-loss: 1.3919\n",
      "\u001b[32m[1019 09:07:59 @monitor.py:467]\u001b[0m GAN_loss/gen/klloss: 0.062816\n",
      "\u001b[32m[1019 09:07:59 @monitor.py:467]\u001b[0m GAN_loss/gen/loss: 1.3291\n",
      "\u001b[32m[1019 09:07:59 @monitor.py:467]\u001b[0m QueueInput/queue_size: 50\n",
      "\u001b[32m[1019 09:07:59 @base.py:275]\u001b[0m Start Epoch 1219 ...\n"
     ]
    },
    {
     "name": "stderr",
     "output_type": "stream",
     "text": [
      "100%|###################################################################################|175/175[00:05<00:00,31.92it/s]"
     ]
    },
    {
     "name": "stdout",
     "output_type": "stream",
     "text": [
      "\u001b[32m[1019 09:08:04 @base.py:285]\u001b[0m Epoch 1219 (global_step 213325) finished, time:5.48 seconds.\n",
      "\u001b[32m[1019 09:08:04 @saver.py:79]\u001b[0m Model saved to ../output/Chicago/DATGAN_asd29/model\\model-213325.\n"
     ]
    },
    {
     "name": "stderr",
     "output_type": "stream",
     "text": [
      "\n"
     ]
    },
    {
     "name": "stdout",
     "output_type": "stream",
     "text": [
      "\u001b[32m[1019 09:08:04 @monitor.py:467]\u001b[0m GAN_loss/discrim/accuracy_fake: 0.802\n",
      "\u001b[32m[1019 09:08:04 @monitor.py:467]\u001b[0m GAN_loss/discrim/accuracy_real: 0.432\n",
      "\u001b[32m[1019 09:08:04 @monitor.py:467]\u001b[0m GAN_loss/discrim/loss: 0.60761\n",
      "\u001b[32m[1019 09:08:04 @monitor.py:467]\u001b[0m GAN_loss/gen/final-g-loss: 1.383\n",
      "\u001b[32m[1019 09:08:04 @monitor.py:467]\u001b[0m GAN_loss/gen/klloss: 0.054991\n",
      "\u001b[32m[1019 09:08:04 @monitor.py:467]\u001b[0m GAN_loss/gen/loss: 1.328\n",
      "\u001b[32m[1019 09:08:04 @monitor.py:467]\u001b[0m QueueInput/queue_size: 50\n",
      "\u001b[32m[1019 09:08:04 @base.py:275]\u001b[0m Start Epoch 1220 ...\n"
     ]
    },
    {
     "name": "stderr",
     "output_type": "stream",
     "text": [
      "100%|###################################################################################|175/175[00:05<00:00,31.88it/s]"
     ]
    },
    {
     "name": "stdout",
     "output_type": "stream",
     "text": [
      "\u001b[32m[1019 09:08:10 @base.py:285]\u001b[0m Epoch 1220 (global_step 213500) finished, time:5.49 seconds.\n",
      "\u001b[32m[1019 09:08:10 @saver.py:79]\u001b[0m Model saved to ../output/Chicago/DATGAN_asd29/model\\model-213500.\n"
     ]
    },
    {
     "name": "stderr",
     "output_type": "stream",
     "text": [
      "\n"
     ]
    },
    {
     "name": "stdout",
     "output_type": "stream",
     "text": [
      "\u001b[32m[1019 09:08:10 @monitor.py:467]\u001b[0m GAN_loss/discrim/accuracy_fake: 0.81\n",
      "\u001b[32m[1019 09:08:10 @monitor.py:467]\u001b[0m GAN_loss/discrim/accuracy_real: 0.422\n",
      "\u001b[32m[1019 09:08:10 @monitor.py:467]\u001b[0m GAN_loss/discrim/loss: 0.62014\n",
      "\u001b[32m[1019 09:08:10 @monitor.py:467]\u001b[0m GAN_loss/gen/final-g-loss: 1.4127\n",
      "\u001b[32m[1019 09:08:10 @monitor.py:467]\u001b[0m GAN_loss/gen/klloss: 0.071733\n",
      "\u001b[32m[1019 09:08:10 @monitor.py:467]\u001b[0m GAN_loss/gen/loss: 1.3409\n",
      "\u001b[32m[1019 09:08:10 @monitor.py:467]\u001b[0m QueueInput/queue_size: 50\n",
      "\u001b[32m[1019 09:08:10 @base.py:275]\u001b[0m Start Epoch 1221 ...\n"
     ]
    },
    {
     "name": "stderr",
     "output_type": "stream",
     "text": [
      "100%|###################################################################################|175/175[00:05<00:00,31.94it/s]"
     ]
    },
    {
     "name": "stdout",
     "output_type": "stream",
     "text": [
      "\u001b[32m[1019 09:08:16 @base.py:285]\u001b[0m Epoch 1221 (global_step 213675) finished, time:5.48 seconds.\n",
      "\u001b[32m[1019 09:08:16 @saver.py:79]\u001b[0m Model saved to ../output/Chicago/DATGAN_asd29/model\\model-213675.\n"
     ]
    },
    {
     "name": "stderr",
     "output_type": "stream",
     "text": [
      "\n"
     ]
    },
    {
     "name": "stdout",
     "output_type": "stream",
     "text": [
      "\u001b[32m[1019 09:08:16 @monitor.py:467]\u001b[0m GAN_loss/discrim/accuracy_fake: 0.808\n",
      "\u001b[32m[1019 09:08:16 @monitor.py:467]\u001b[0m GAN_loss/discrim/accuracy_real: 0.424\n",
      "\u001b[32m[1019 09:08:16 @monitor.py:467]\u001b[0m GAN_loss/discrim/loss: 0.59691\n",
      "\u001b[32m[1019 09:08:16 @monitor.py:467]\u001b[0m GAN_loss/gen/final-g-loss: 1.4362\n",
      "\u001b[32m[1019 09:08:16 @monitor.py:467]\u001b[0m GAN_loss/gen/klloss: 0.084706\n",
      "\u001b[32m[1019 09:08:16 @monitor.py:467]\u001b[0m GAN_loss/gen/loss: 1.3515\n",
      "\u001b[32m[1019 09:08:16 @monitor.py:467]\u001b[0m QueueInput/queue_size: 50\n",
      "\u001b[32m[1019 09:08:16 @base.py:275]\u001b[0m Start Epoch 1222 ...\n"
     ]
    },
    {
     "name": "stderr",
     "output_type": "stream",
     "text": [
      "100%|###################################################################################|175/175[00:05<00:00,31.90it/s]"
     ]
    },
    {
     "name": "stdout",
     "output_type": "stream",
     "text": [
      "\u001b[32m[1019 09:08:21 @base.py:285]\u001b[0m Epoch 1222 (global_step 213850) finished, time:5.49 seconds.\n",
      "\u001b[32m[1019 09:08:22 @saver.py:79]\u001b[0m Model saved to ../output/Chicago/DATGAN_asd29/model\\model-213850.\n"
     ]
    },
    {
     "name": "stderr",
     "output_type": "stream",
     "text": [
      "\n"
     ]
    },
    {
     "name": "stdout",
     "output_type": "stream",
     "text": [
      "\u001b[32m[1019 09:08:22 @monitor.py:467]\u001b[0m GAN_loss/discrim/accuracy_fake: 0.812\n",
      "\u001b[32m[1019 09:08:22 @monitor.py:467]\u001b[0m GAN_loss/discrim/accuracy_real: 0.506\n",
      "\u001b[32m[1019 09:08:22 @monitor.py:467]\u001b[0m GAN_loss/discrim/loss: 0.58766\n",
      "\u001b[32m[1019 09:08:22 @monitor.py:467]\u001b[0m GAN_loss/gen/final-g-loss: 1.4093\n",
      "\u001b[32m[1019 09:08:22 @monitor.py:467]\u001b[0m GAN_loss/gen/klloss: 0.082522\n",
      "\u001b[32m[1019 09:08:22 @monitor.py:467]\u001b[0m GAN_loss/gen/loss: 1.3268\n",
      "\u001b[32m[1019 09:08:22 @monitor.py:467]\u001b[0m QueueInput/queue_size: 50\n",
      "\u001b[32m[1019 09:08:22 @base.py:275]\u001b[0m Start Epoch 1223 ...\n"
     ]
    },
    {
     "name": "stderr",
     "output_type": "stream",
     "text": [
      "100%|###################################################################################|175/175[00:05<00:00,31.91it/s]"
     ]
    },
    {
     "name": "stdout",
     "output_type": "stream",
     "text": [
      "\u001b[32m[1019 09:08:27 @base.py:285]\u001b[0m Epoch 1223 (global_step 214025) finished, time:5.48 seconds.\n",
      "\u001b[32m[1019 09:08:27 @saver.py:79]\u001b[0m Model saved to ../output/Chicago/DATGAN_asd29/model\\model-214025.\n"
     ]
    },
    {
     "name": "stderr",
     "output_type": "stream",
     "text": [
      "\n"
     ]
    },
    {
     "name": "stdout",
     "output_type": "stream",
     "text": [
      "\u001b[32m[1019 09:08:28 @monitor.py:467]\u001b[0m GAN_loss/discrim/accuracy_fake: 0.836\n",
      "\u001b[32m[1019 09:08:28 @monitor.py:467]\u001b[0m GAN_loss/discrim/accuracy_real: 0.486\n",
      "\u001b[32m[1019 09:08:28 @monitor.py:467]\u001b[0m GAN_loss/discrim/loss: 0.5776\n",
      "\u001b[32m[1019 09:08:28 @monitor.py:467]\u001b[0m GAN_loss/gen/final-g-loss: 1.4969\n",
      "\u001b[32m[1019 09:08:28 @monitor.py:467]\u001b[0m GAN_loss/gen/klloss: 0.077417\n",
      "\u001b[32m[1019 09:08:28 @monitor.py:467]\u001b[0m GAN_loss/gen/loss: 1.4195\n",
      "\u001b[32m[1019 09:08:28 @monitor.py:467]\u001b[0m QueueInput/queue_size: 50\n",
      "\u001b[32m[1019 09:08:28 @base.py:275]\u001b[0m Start Epoch 1224 ...\n"
     ]
    },
    {
     "name": "stderr",
     "output_type": "stream",
     "text": [
      "100%|###################################################################################|175/175[00:05<00:00,31.89it/s]"
     ]
    },
    {
     "name": "stdout",
     "output_type": "stream",
     "text": [
      "\u001b[32m[1019 09:08:33 @base.py:285]\u001b[0m Epoch 1224 (global_step 214200) finished, time:5.49 seconds.\n",
      "\u001b[32m[1019 09:08:33 @saver.py:79]\u001b[0m Model saved to ../output/Chicago/DATGAN_asd29/model\\model-214200.\n"
     ]
    },
    {
     "name": "stderr",
     "output_type": "stream",
     "text": [
      "\n"
     ]
    },
    {
     "name": "stdout",
     "output_type": "stream",
     "text": [
      "\u001b[32m[1019 09:08:33 @monitor.py:467]\u001b[0m GAN_loss/discrim/accuracy_fake: 0.78\n",
      "\u001b[32m[1019 09:08:33 @monitor.py:467]\u001b[0m GAN_loss/discrim/accuracy_real: 0.388\n",
      "\u001b[32m[1019 09:08:33 @monitor.py:467]\u001b[0m GAN_loss/discrim/loss: 0.62924\n",
      "\u001b[32m[1019 09:08:33 @monitor.py:467]\u001b[0m GAN_loss/gen/final-g-loss: 1.3304\n",
      "\u001b[32m[1019 09:08:33 @monitor.py:467]\u001b[0m GAN_loss/gen/klloss: 0.065487\n",
      "\u001b[32m[1019 09:08:33 @monitor.py:467]\u001b[0m GAN_loss/gen/loss: 1.2649\n",
      "\u001b[32m[1019 09:08:33 @monitor.py:467]\u001b[0m QueueInput/queue_size: 50\n",
      "\u001b[32m[1019 09:08:33 @base.py:275]\u001b[0m Start Epoch 1225 ...\n"
     ]
    },
    {
     "name": "stderr",
     "output_type": "stream",
     "text": [
      "100%|###################################################################################|175/175[00:05<00:00,31.92it/s]"
     ]
    },
    {
     "name": "stdout",
     "output_type": "stream",
     "text": [
      "\u001b[32m[1019 09:08:39 @base.py:285]\u001b[0m Epoch 1225 (global_step 214375) finished, time:5.48 seconds.\n",
      "\u001b[32m[1019 09:08:39 @saver.py:79]\u001b[0m Model saved to ../output/Chicago/DATGAN_asd29/model\\model-214375.\n"
     ]
    },
    {
     "name": "stderr",
     "output_type": "stream",
     "text": [
      "\n"
     ]
    },
    {
     "name": "stdout",
     "output_type": "stream",
     "text": [
      "\u001b[32m[1019 09:08:39 @monitor.py:467]\u001b[0m GAN_loss/discrim/accuracy_fake: 0.808\n",
      "\u001b[32m[1019 09:08:39 @monitor.py:467]\u001b[0m GAN_loss/discrim/accuracy_real: 0.512\n",
      "\u001b[32m[1019 09:08:39 @monitor.py:467]\u001b[0m GAN_loss/discrim/loss: 0.57769\n",
      "\u001b[32m[1019 09:08:39 @monitor.py:467]\u001b[0m GAN_loss/gen/final-g-loss: 1.4621\n",
      "\u001b[32m[1019 09:08:39 @monitor.py:467]\u001b[0m GAN_loss/gen/klloss: 0.06053\n",
      "\u001b[32m[1019 09:08:39 @monitor.py:467]\u001b[0m GAN_loss/gen/loss: 1.4015\n",
      "\u001b[32m[1019 09:08:39 @monitor.py:467]\u001b[0m QueueInput/queue_size: 50\n",
      "\u001b[32m[1019 09:08:39 @base.py:275]\u001b[0m Start Epoch 1226 ...\n"
     ]
    },
    {
     "name": "stderr",
     "output_type": "stream",
     "text": [
      "100%|###################################################################################|175/175[00:05<00:00,31.88it/s]"
     ]
    },
    {
     "name": "stdout",
     "output_type": "stream",
     "text": [
      "\u001b[32m[1019 09:08:45 @base.py:285]\u001b[0m Epoch 1226 (global_step 214550) finished, time:5.49 seconds.\n",
      "\u001b[32m[1019 09:08:45 @saver.py:79]\u001b[0m Model saved to ../output/Chicago/DATGAN_asd29/model\\model-214550.\n"
     ]
    },
    {
     "name": "stderr",
     "output_type": "stream",
     "text": [
      "\n"
     ]
    },
    {
     "name": "stdout",
     "output_type": "stream",
     "text": [
      "\u001b[32m[1019 09:08:45 @monitor.py:467]\u001b[0m GAN_loss/discrim/accuracy_fake: 0.816\n",
      "\u001b[32m[1019 09:08:45 @monitor.py:467]\u001b[0m GAN_loss/discrim/accuracy_real: 0.45\n",
      "\u001b[32m[1019 09:08:45 @monitor.py:467]\u001b[0m GAN_loss/discrim/loss: 0.59408\n",
      "\u001b[32m[1019 09:08:45 @monitor.py:467]\u001b[0m GAN_loss/gen/final-g-loss: 1.5231\n",
      "\u001b[32m[1019 09:08:45 @monitor.py:467]\u001b[0m GAN_loss/gen/klloss: 0.10337\n",
      "\u001b[32m[1019 09:08:45 @monitor.py:467]\u001b[0m GAN_loss/gen/loss: 1.4197\n",
      "\u001b[32m[1019 09:08:45 @monitor.py:467]\u001b[0m QueueInput/queue_size: 50\n",
      "\u001b[32m[1019 09:08:45 @base.py:275]\u001b[0m Start Epoch 1227 ...\n"
     ]
    },
    {
     "name": "stderr",
     "output_type": "stream",
     "text": [
      "100%|###################################################################################|175/175[00:05<00:00,31.93it/s]"
     ]
    },
    {
     "name": "stdout",
     "output_type": "stream",
     "text": [
      "\u001b[32m[1019 09:08:50 @base.py:285]\u001b[0m Epoch 1227 (global_step 214725) finished, time:5.48 seconds.\n",
      "\u001b[32m[1019 09:08:50 @saver.py:79]\u001b[0m Model saved to ../output/Chicago/DATGAN_asd29/model\\model-214725.\n"
     ]
    },
    {
     "name": "stderr",
     "output_type": "stream",
     "text": [
      "\n"
     ]
    },
    {
     "name": "stdout",
     "output_type": "stream",
     "text": [
      "\u001b[32m[1019 09:08:51 @monitor.py:467]\u001b[0m GAN_loss/discrim/accuracy_fake: 0.822\n",
      "\u001b[32m[1019 09:08:51 @monitor.py:467]\u001b[0m GAN_loss/discrim/accuracy_real: 0.478\n",
      "\u001b[32m[1019 09:08:51 @monitor.py:467]\u001b[0m GAN_loss/discrim/loss: 0.58691\n",
      "\u001b[32m[1019 09:08:51 @monitor.py:467]\u001b[0m GAN_loss/gen/final-g-loss: 1.423\n",
      "\u001b[32m[1019 09:08:51 @monitor.py:467]\u001b[0m GAN_loss/gen/klloss: 0.050507\n",
      "\u001b[32m[1019 09:08:51 @monitor.py:467]\u001b[0m GAN_loss/gen/loss: 1.3725\n",
      "\u001b[32m[1019 09:08:51 @monitor.py:467]\u001b[0m QueueInput/queue_size: 50\n",
      "\u001b[32m[1019 09:08:51 @base.py:275]\u001b[0m Start Epoch 1228 ...\n"
     ]
    },
    {
     "name": "stderr",
     "output_type": "stream",
     "text": [
      "100%|###################################################################################|175/175[00:05<00:00,31.87it/s]"
     ]
    },
    {
     "name": "stdout",
     "output_type": "stream",
     "text": [
      "\u001b[32m[1019 09:08:56 @base.py:285]\u001b[0m Epoch 1228 (global_step 214900) finished, time:5.49 seconds.\n",
      "\u001b[32m[1019 09:08:56 @saver.py:79]\u001b[0m Model saved to ../output/Chicago/DATGAN_asd29/model\\model-214900.\n"
     ]
    },
    {
     "name": "stderr",
     "output_type": "stream",
     "text": [
      "\n"
     ]
    },
    {
     "name": "stdout",
     "output_type": "stream",
     "text": [
      "\u001b[32m[1019 09:08:56 @monitor.py:467]\u001b[0m GAN_loss/discrim/accuracy_fake: 0.824\n",
      "\u001b[32m[1019 09:08:56 @monitor.py:467]\u001b[0m GAN_loss/discrim/accuracy_real: 0.49\n",
      "\u001b[32m[1019 09:08:56 @monitor.py:467]\u001b[0m GAN_loss/discrim/loss: 0.57702\n",
      "\u001b[32m[1019 09:08:56 @monitor.py:467]\u001b[0m GAN_loss/gen/final-g-loss: 1.5127\n",
      "\u001b[32m[1019 09:08:56 @monitor.py:467]\u001b[0m GAN_loss/gen/klloss: 0.080961\n",
      "\u001b[32m[1019 09:08:56 @monitor.py:467]\u001b[0m GAN_loss/gen/loss: 1.4318\n",
      "\u001b[32m[1019 09:08:56 @monitor.py:467]\u001b[0m QueueInput/queue_size: 50\n",
      "\u001b[32m[1019 09:08:56 @base.py:275]\u001b[0m Start Epoch 1229 ...\n"
     ]
    },
    {
     "name": "stderr",
     "output_type": "stream",
     "text": [
      "100%|###################################################################################|175/175[00:05<00:00,31.90it/s]"
     ]
    },
    {
     "name": "stdout",
     "output_type": "stream",
     "text": [
      "\u001b[32m[1019 09:09:02 @base.py:285]\u001b[0m Epoch 1229 (global_step 215075) finished, time:5.49 seconds.\n",
      "\u001b[32m[1019 09:09:02 @saver.py:79]\u001b[0m Model saved to ../output/Chicago/DATGAN_asd29/model\\model-215075.\n"
     ]
    },
    {
     "name": "stderr",
     "output_type": "stream",
     "text": [
      "\n"
     ]
    },
    {
     "name": "stdout",
     "output_type": "stream",
     "text": [
      "\u001b[32m[1019 09:09:02 @monitor.py:467]\u001b[0m GAN_loss/discrim/accuracy_fake: 0.784\n",
      "\u001b[32m[1019 09:09:02 @monitor.py:467]\u001b[0m GAN_loss/discrim/accuracy_real: 0.518\n",
      "\u001b[32m[1019 09:09:02 @monitor.py:467]\u001b[0m GAN_loss/discrim/loss: 0.58499\n",
      "\u001b[32m[1019 09:09:02 @monitor.py:467]\u001b[0m GAN_loss/gen/final-g-loss: 1.482\n",
      "\u001b[32m[1019 09:09:02 @monitor.py:467]\u001b[0m GAN_loss/gen/klloss: 0.080735\n",
      "\u001b[32m[1019 09:09:02 @monitor.py:467]\u001b[0m GAN_loss/gen/loss: 1.4012\n",
      "\u001b[32m[1019 09:09:02 @monitor.py:467]\u001b[0m QueueInput/queue_size: 50\n",
      "\u001b[32m[1019 09:09:02 @base.py:275]\u001b[0m Start Epoch 1230 ...\n"
     ]
    },
    {
     "name": "stderr",
     "output_type": "stream",
     "text": [
      "100%|###################################################################################|175/175[00:05<00:00,31.87it/s]"
     ]
    },
    {
     "name": "stdout",
     "output_type": "stream",
     "text": [
      "\u001b[32m[1019 09:09:08 @base.py:285]\u001b[0m Epoch 1230 (global_step 215250) finished, time:5.49 seconds.\n",
      "\u001b[32m[1019 09:09:08 @saver.py:79]\u001b[0m Model saved to ../output/Chicago/DATGAN_asd29/model\\model-215250.\n"
     ]
    },
    {
     "name": "stderr",
     "output_type": "stream",
     "text": [
      "\n"
     ]
    },
    {
     "name": "stdout",
     "output_type": "stream",
     "text": [
      "\u001b[32m[1019 09:09:08 @monitor.py:467]\u001b[0m GAN_loss/discrim/accuracy_fake: 0.798\n",
      "\u001b[32m[1019 09:09:08 @monitor.py:467]\u001b[0m GAN_loss/discrim/accuracy_real: 0.614\n",
      "\u001b[32m[1019 09:09:08 @monitor.py:467]\u001b[0m GAN_loss/discrim/loss: 0.56049\n",
      "\u001b[32m[1019 09:09:08 @monitor.py:467]\u001b[0m GAN_loss/gen/final-g-loss: 1.5354\n",
      "\u001b[32m[1019 09:09:08 @monitor.py:467]\u001b[0m GAN_loss/gen/klloss: 0.087653\n",
      "\u001b[32m[1019 09:09:08 @monitor.py:467]\u001b[0m GAN_loss/gen/loss: 1.4477\n",
      "\u001b[32m[1019 09:09:08 @monitor.py:467]\u001b[0m QueueInput/queue_size: 50\n",
      "\u001b[32m[1019 09:09:08 @base.py:275]\u001b[0m Start Epoch 1231 ...\n"
     ]
    },
    {
     "name": "stderr",
     "output_type": "stream",
     "text": [
      "100%|###################################################################################|175/175[00:05<00:00,31.88it/s]"
     ]
    },
    {
     "name": "stdout",
     "output_type": "stream",
     "text": [
      "\u001b[32m[1019 09:09:13 @base.py:285]\u001b[0m Epoch 1231 (global_step 215425) finished, time:5.49 seconds.\n",
      "\u001b[32m[1019 09:09:14 @saver.py:79]\u001b[0m Model saved to ../output/Chicago/DATGAN_asd29/model\\model-215425.\n"
     ]
    },
    {
     "name": "stderr",
     "output_type": "stream",
     "text": [
      "\n"
     ]
    },
    {
     "name": "stdout",
     "output_type": "stream",
     "text": [
      "\u001b[32m[1019 09:09:14 @monitor.py:467]\u001b[0m GAN_loss/discrim/accuracy_fake: 0.812\n",
      "\u001b[32m[1019 09:09:14 @monitor.py:467]\u001b[0m GAN_loss/discrim/accuracy_real: 0.534\n",
      "\u001b[32m[1019 09:09:14 @monitor.py:467]\u001b[0m GAN_loss/discrim/loss: 0.58457\n",
      "\u001b[32m[1019 09:09:14 @monitor.py:467]\u001b[0m GAN_loss/gen/final-g-loss: 1.5484\n",
      "\u001b[32m[1019 09:09:14 @monitor.py:467]\u001b[0m GAN_loss/gen/klloss: 0.084694\n",
      "\u001b[32m[1019 09:09:14 @monitor.py:467]\u001b[0m GAN_loss/gen/loss: 1.4637\n",
      "\u001b[32m[1019 09:09:14 @monitor.py:467]\u001b[0m QueueInput/queue_size: 50\n",
      "\u001b[32m[1019 09:09:14 @base.py:275]\u001b[0m Start Epoch 1232 ...\n"
     ]
    },
    {
     "name": "stderr",
     "output_type": "stream",
     "text": [
      "100%|###################################################################################|175/175[00:05<00:00,31.93it/s]"
     ]
    },
    {
     "name": "stdout",
     "output_type": "stream",
     "text": [
      "\u001b[32m[1019 09:09:19 @base.py:285]\u001b[0m Epoch 1232 (global_step 215600) finished, time:5.48 seconds.\n",
      "\u001b[32m[1019 09:09:19 @saver.py:79]\u001b[0m Model saved to ../output/Chicago/DATGAN_asd29/model\\model-215600.\n"
     ]
    },
    {
     "name": "stderr",
     "output_type": "stream",
     "text": [
      "\n"
     ]
    },
    {
     "name": "stdout",
     "output_type": "stream",
     "text": [
      "\u001b[32m[1019 09:09:20 @monitor.py:467]\u001b[0m GAN_loss/discrim/accuracy_fake: 0.77\n",
      "\u001b[32m[1019 09:09:20 @monitor.py:467]\u001b[0m GAN_loss/discrim/accuracy_real: 0.542\n",
      "\u001b[32m[1019 09:09:20 @monitor.py:467]\u001b[0m GAN_loss/discrim/loss: 0.59415\n",
      "\u001b[32m[1019 09:09:20 @monitor.py:467]\u001b[0m GAN_loss/gen/final-g-loss: 1.4314\n",
      "\u001b[32m[1019 09:09:20 @monitor.py:467]\u001b[0m GAN_loss/gen/klloss: 0.09014\n",
      "\u001b[32m[1019 09:09:20 @monitor.py:467]\u001b[0m GAN_loss/gen/loss: 1.3413\n",
      "\u001b[32m[1019 09:09:20 @monitor.py:467]\u001b[0m QueueInput/queue_size: 50\n",
      "\u001b[32m[1019 09:09:20 @base.py:275]\u001b[0m Start Epoch 1233 ...\n"
     ]
    },
    {
     "name": "stderr",
     "output_type": "stream",
     "text": [
      "100%|###################################################################################|175/175[00:05<00:00,31.89it/s]"
     ]
    },
    {
     "name": "stdout",
     "output_type": "stream",
     "text": [
      "\u001b[32m[1019 09:09:25 @base.py:285]\u001b[0m Epoch 1233 (global_step 215775) finished, time:5.49 seconds.\n",
      "\u001b[32m[1019 09:09:25 @saver.py:79]\u001b[0m Model saved to ../output/Chicago/DATGAN_asd29/model\\model-215775.\n"
     ]
    },
    {
     "name": "stderr",
     "output_type": "stream",
     "text": [
      "\n"
     ]
    },
    {
     "name": "stdout",
     "output_type": "stream",
     "text": [
      "\u001b[32m[1019 09:09:25 @monitor.py:467]\u001b[0m GAN_loss/discrim/accuracy_fake: 0.818\n",
      "\u001b[32m[1019 09:09:25 @monitor.py:467]\u001b[0m GAN_loss/discrim/accuracy_real: 0.548\n",
      "\u001b[32m[1019 09:09:25 @monitor.py:467]\u001b[0m GAN_loss/discrim/loss: 0.57332\n",
      "\u001b[32m[1019 09:09:25 @monitor.py:467]\u001b[0m GAN_loss/gen/final-g-loss: 1.512\n",
      "\u001b[32m[1019 09:09:25 @monitor.py:467]\u001b[0m GAN_loss/gen/klloss: 0.1235\n",
      "\u001b[32m[1019 09:09:25 @monitor.py:467]\u001b[0m GAN_loss/gen/loss: 1.3885\n",
      "\u001b[32m[1019 09:09:25 @monitor.py:467]\u001b[0m QueueInput/queue_size: 50\n",
      "\u001b[32m[1019 09:09:25 @base.py:275]\u001b[0m Start Epoch 1234 ...\n"
     ]
    },
    {
     "name": "stderr",
     "output_type": "stream",
     "text": [
      "100%|###################################################################################|175/175[00:05<00:00,31.92it/s]"
     ]
    },
    {
     "name": "stdout",
     "output_type": "stream",
     "text": [
      "\u001b[32m[1019 09:09:31 @base.py:285]\u001b[0m Epoch 1234 (global_step 215950) finished, time:5.48 seconds.\n",
      "\u001b[32m[1019 09:09:31 @saver.py:79]\u001b[0m Model saved to ../output/Chicago/DATGAN_asd29/model\\model-215950.\n"
     ]
    },
    {
     "name": "stderr",
     "output_type": "stream",
     "text": [
      "\n"
     ]
    },
    {
     "name": "stdout",
     "output_type": "stream",
     "text": [
      "\u001b[32m[1019 09:09:31 @monitor.py:467]\u001b[0m GAN_loss/discrim/accuracy_fake: 0.838\n",
      "\u001b[32m[1019 09:09:31 @monitor.py:467]\u001b[0m GAN_loss/discrim/accuracy_real: 0.452\n",
      "\u001b[32m[1019 09:09:31 @monitor.py:467]\u001b[0m GAN_loss/discrim/loss: 0.57581\n",
      "\u001b[32m[1019 09:09:31 @monitor.py:467]\u001b[0m GAN_loss/gen/final-g-loss: 1.5857\n",
      "\u001b[32m[1019 09:09:31 @monitor.py:467]\u001b[0m GAN_loss/gen/klloss: 0.081797\n",
      "\u001b[32m[1019 09:09:31 @monitor.py:467]\u001b[0m GAN_loss/gen/loss: 1.5039\n",
      "\u001b[32m[1019 09:09:31 @monitor.py:467]\u001b[0m QueueInput/queue_size: 50\n",
      "\u001b[32m[1019 09:09:31 @base.py:275]\u001b[0m Start Epoch 1235 ...\n"
     ]
    },
    {
     "name": "stderr",
     "output_type": "stream",
     "text": [
      "100%|###################################################################################|175/175[00:05<00:00,31.88it/s]"
     ]
    },
    {
     "name": "stdout",
     "output_type": "stream",
     "text": [
      "\u001b[32m[1019 09:09:37 @base.py:285]\u001b[0m Epoch 1235 (global_step 216125) finished, time:5.49 seconds.\n",
      "\u001b[32m[1019 09:09:37 @saver.py:79]\u001b[0m Model saved to ../output/Chicago/DATGAN_asd29/model\\model-216125.\n"
     ]
    },
    {
     "name": "stderr",
     "output_type": "stream",
     "text": [
      "\n"
     ]
    },
    {
     "name": "stdout",
     "output_type": "stream",
     "text": [
      "\u001b[32m[1019 09:09:37 @monitor.py:467]\u001b[0m GAN_loss/discrim/accuracy_fake: 0.842\n",
      "\u001b[32m[1019 09:09:37 @monitor.py:467]\u001b[0m GAN_loss/discrim/accuracy_real: 0.578\n",
      "\u001b[32m[1019 09:09:37 @monitor.py:467]\u001b[0m GAN_loss/discrim/loss: 0.55951\n",
      "\u001b[32m[1019 09:09:37 @monitor.py:467]\u001b[0m GAN_loss/gen/final-g-loss: 1.5362\n",
      "\u001b[32m[1019 09:09:37 @monitor.py:467]\u001b[0m GAN_loss/gen/klloss: 0.11788\n",
      "\u001b[32m[1019 09:09:37 @monitor.py:467]\u001b[0m GAN_loss/gen/loss: 1.4183\n",
      "\u001b[32m[1019 09:09:37 @monitor.py:467]\u001b[0m QueueInput/queue_size: 50\n",
      "\u001b[32m[1019 09:09:37 @base.py:275]\u001b[0m Start Epoch 1236 ...\n"
     ]
    },
    {
     "name": "stderr",
     "output_type": "stream",
     "text": [
      "100%|###################################################################################|175/175[00:05<00:00,31.94it/s]"
     ]
    },
    {
     "name": "stdout",
     "output_type": "stream",
     "text": [
      "\u001b[32m[1019 09:09:42 @base.py:285]\u001b[0m Epoch 1236 (global_step 216300) finished, time:5.48 seconds.\n",
      "\u001b[32m[1019 09:09:42 @saver.py:79]\u001b[0m Model saved to ../output/Chicago/DATGAN_asd29/model\\model-216300.\n"
     ]
    },
    {
     "name": "stderr",
     "output_type": "stream",
     "text": [
      "\n"
     ]
    },
    {
     "name": "stdout",
     "output_type": "stream",
     "text": [
      "\u001b[32m[1019 09:09:43 @monitor.py:467]\u001b[0m GAN_loss/discrim/accuracy_fake: 0.842\n",
      "\u001b[32m[1019 09:09:43 @monitor.py:467]\u001b[0m GAN_loss/discrim/accuracy_real: 0.488\n",
      "\u001b[32m[1019 09:09:43 @monitor.py:467]\u001b[0m GAN_loss/discrim/loss: 0.5778\n",
      "\u001b[32m[1019 09:09:43 @monitor.py:467]\u001b[0m GAN_loss/gen/final-g-loss: 1.5013\n",
      "\u001b[32m[1019 09:09:43 @monitor.py:467]\u001b[0m GAN_loss/gen/klloss: 0.08452\n",
      "\u001b[32m[1019 09:09:43 @monitor.py:467]\u001b[0m GAN_loss/gen/loss: 1.4168\n",
      "\u001b[32m[1019 09:09:43 @monitor.py:467]\u001b[0m QueueInput/queue_size: 50\n",
      "\u001b[32m[1019 09:09:43 @base.py:275]\u001b[0m Start Epoch 1237 ...\n"
     ]
    },
    {
     "name": "stderr",
     "output_type": "stream",
     "text": [
      "100%|###################################################################################|175/175[00:05<00:00,31.89it/s]"
     ]
    },
    {
     "name": "stdout",
     "output_type": "stream",
     "text": [
      "\u001b[32m[1019 09:09:48 @base.py:285]\u001b[0m Epoch 1237 (global_step 216475) finished, time:5.49 seconds.\n",
      "\u001b[32m[1019 09:09:48 @saver.py:79]\u001b[0m Model saved to ../output/Chicago/DATGAN_asd29/model\\model-216475.\n"
     ]
    },
    {
     "name": "stderr",
     "output_type": "stream",
     "text": [
      "\n"
     ]
    },
    {
     "name": "stdout",
     "output_type": "stream",
     "text": [
      "\u001b[32m[1019 09:09:48 @monitor.py:467]\u001b[0m GAN_loss/discrim/accuracy_fake: 0.776\n",
      "\u001b[32m[1019 09:09:48 @monitor.py:467]\u001b[0m GAN_loss/discrim/accuracy_real: 0.536\n",
      "\u001b[32m[1019 09:09:48 @monitor.py:467]\u001b[0m GAN_loss/discrim/loss: 0.59383\n",
      "\u001b[32m[1019 09:09:48 @monitor.py:467]\u001b[0m GAN_loss/gen/final-g-loss: 1.5045\n",
      "\u001b[32m[1019 09:09:48 @monitor.py:467]\u001b[0m GAN_loss/gen/klloss: 0.097552\n",
      "\u001b[32m[1019 09:09:48 @monitor.py:467]\u001b[0m GAN_loss/gen/loss: 1.407\n",
      "\u001b[32m[1019 09:09:48 @monitor.py:467]\u001b[0m QueueInput/queue_size: 50\n",
      "\u001b[32m[1019 09:09:48 @base.py:275]\u001b[0m Start Epoch 1238 ...\n"
     ]
    },
    {
     "name": "stderr",
     "output_type": "stream",
     "text": [
      "100%|###################################################################################|175/175[00:05<00:00,31.93it/s]"
     ]
    },
    {
     "name": "stdout",
     "output_type": "stream",
     "text": [
      "\u001b[32m[1019 09:09:54 @base.py:285]\u001b[0m Epoch 1238 (global_step 216650) finished, time:5.48 seconds.\n",
      "\u001b[32m[1019 09:09:54 @saver.py:79]\u001b[0m Model saved to ../output/Chicago/DATGAN_asd29/model\\model-216650.\n"
     ]
    },
    {
     "name": "stderr",
     "output_type": "stream",
     "text": [
      "\n"
     ]
    },
    {
     "name": "stdout",
     "output_type": "stream",
     "text": [
      "\u001b[32m[1019 09:09:54 @monitor.py:467]\u001b[0m GAN_loss/discrim/accuracy_fake: 0.836\n",
      "\u001b[32m[1019 09:09:54 @monitor.py:467]\u001b[0m GAN_loss/discrim/accuracy_real: 0.568\n",
      "\u001b[32m[1019 09:09:54 @monitor.py:467]\u001b[0m GAN_loss/discrim/loss: 0.53367\n",
      "\u001b[32m[1019 09:09:54 @monitor.py:467]\u001b[0m GAN_loss/gen/final-g-loss: 1.6217\n",
      "\u001b[32m[1019 09:09:54 @monitor.py:467]\u001b[0m GAN_loss/gen/klloss: 0.10034\n",
      "\u001b[32m[1019 09:09:54 @monitor.py:467]\u001b[0m GAN_loss/gen/loss: 1.5214\n",
      "\u001b[32m[1019 09:09:54 @monitor.py:467]\u001b[0m QueueInput/queue_size: 50\n",
      "\u001b[32m[1019 09:09:54 @base.py:275]\u001b[0m Start Epoch 1239 ...\n"
     ]
    },
    {
     "name": "stderr",
     "output_type": "stream",
     "text": [
      "100%|###################################################################################|175/175[00:05<00:00,31.90it/s]"
     ]
    },
    {
     "name": "stdout",
     "output_type": "stream",
     "text": [
      "\u001b[32m[1019 09:10:00 @base.py:285]\u001b[0m Epoch 1239 (global_step 216825) finished, time:5.49 seconds.\n",
      "\u001b[32m[1019 09:10:00 @saver.py:79]\u001b[0m Model saved to ../output/Chicago/DATGAN_asd29/model\\model-216825.\n"
     ]
    },
    {
     "name": "stderr",
     "output_type": "stream",
     "text": [
      "\n"
     ]
    },
    {
     "name": "stdout",
     "output_type": "stream",
     "text": [
      "\u001b[32m[1019 09:10:00 @monitor.py:467]\u001b[0m GAN_loss/discrim/accuracy_fake: 0.768\n",
      "\u001b[32m[1019 09:10:00 @monitor.py:467]\u001b[0m GAN_loss/discrim/accuracy_real: 0.512\n",
      "\u001b[32m[1019 09:10:00 @monitor.py:467]\u001b[0m GAN_loss/discrim/loss: 0.60515\n",
      "\u001b[32m[1019 09:10:00 @monitor.py:467]\u001b[0m GAN_loss/gen/final-g-loss: 1.4368\n",
      "\u001b[32m[1019 09:10:00 @monitor.py:467]\u001b[0m GAN_loss/gen/klloss: 0.088118\n",
      "\u001b[32m[1019 09:10:00 @monitor.py:467]\u001b[0m GAN_loss/gen/loss: 1.3487\n",
      "\u001b[32m[1019 09:10:00 @monitor.py:467]\u001b[0m QueueInput/queue_size: 50\n",
      "\u001b[32m[1019 09:10:00 @base.py:275]\u001b[0m Start Epoch 1240 ...\n"
     ]
    },
    {
     "name": "stderr",
     "output_type": "stream",
     "text": [
      "100%|###################################################################################|175/175[00:05<00:00,31.93it/s]"
     ]
    },
    {
     "name": "stdout",
     "output_type": "stream",
     "text": [
      "\u001b[32m[1019 09:10:05 @base.py:285]\u001b[0m Epoch 1240 (global_step 217000) finished, time:5.48 seconds.\n",
      "\u001b[32m[1019 09:10:05 @saver.py:79]\u001b[0m Model saved to ../output/Chicago/DATGAN_asd29/model\\model-217000.\n"
     ]
    },
    {
     "name": "stderr",
     "output_type": "stream",
     "text": [
      "\n"
     ]
    },
    {
     "name": "stdout",
     "output_type": "stream",
     "text": [
      "\u001b[32m[1019 09:10:06 @monitor.py:467]\u001b[0m GAN_loss/discrim/accuracy_fake: 0.778\n",
      "\u001b[32m[1019 09:10:06 @monitor.py:467]\u001b[0m GAN_loss/discrim/accuracy_real: 0.5\n",
      "\u001b[32m[1019 09:10:06 @monitor.py:467]\u001b[0m GAN_loss/discrim/loss: 0.59617\n",
      "\u001b[32m[1019 09:10:06 @monitor.py:467]\u001b[0m GAN_loss/gen/final-g-loss: 1.4701\n",
      "\u001b[32m[1019 09:10:06 @monitor.py:467]\u001b[0m GAN_loss/gen/klloss: 0.08158\n",
      "\u001b[32m[1019 09:10:06 @monitor.py:467]\u001b[0m GAN_loss/gen/loss: 1.3885\n",
      "\u001b[32m[1019 09:10:06 @monitor.py:467]\u001b[0m QueueInput/queue_size: 50\n",
      "\u001b[32m[1019 09:10:06 @base.py:275]\u001b[0m Start Epoch 1241 ...\n"
     ]
    },
    {
     "name": "stderr",
     "output_type": "stream",
     "text": [
      "100%|###################################################################################|175/175[00:05<00:00,31.92it/s]"
     ]
    },
    {
     "name": "stdout",
     "output_type": "stream",
     "text": [
      "\u001b[32m[1019 09:10:11 @base.py:285]\u001b[0m Epoch 1241 (global_step 217175) finished, time:5.48 seconds.\n",
      "\u001b[32m[1019 09:10:11 @saver.py:79]\u001b[0m Model saved to ../output/Chicago/DATGAN_asd29/model\\model-217175.\n"
     ]
    },
    {
     "name": "stderr",
     "output_type": "stream",
     "text": [
      "\n"
     ]
    },
    {
     "name": "stdout",
     "output_type": "stream",
     "text": [
      "\u001b[32m[1019 09:10:11 @monitor.py:467]\u001b[0m GAN_loss/discrim/accuracy_fake: 0.762\n",
      "\u001b[32m[1019 09:10:11 @monitor.py:467]\u001b[0m GAN_loss/discrim/accuracy_real: 0.428\n",
      "\u001b[32m[1019 09:10:11 @monitor.py:467]\u001b[0m GAN_loss/discrim/loss: 0.62443\n",
      "\u001b[32m[1019 09:10:11 @monitor.py:467]\u001b[0m GAN_loss/gen/final-g-loss: 1.3976\n",
      "\u001b[32m[1019 09:10:11 @monitor.py:467]\u001b[0m GAN_loss/gen/klloss: 0.068978\n",
      "\u001b[32m[1019 09:10:11 @monitor.py:467]\u001b[0m GAN_loss/gen/loss: 1.3286\n",
      "\u001b[32m[1019 09:10:11 @monitor.py:467]\u001b[0m QueueInput/queue_size: 50\n",
      "\u001b[32m[1019 09:10:11 @base.py:275]\u001b[0m Start Epoch 1242 ...\n"
     ]
    },
    {
     "name": "stderr",
     "output_type": "stream",
     "text": [
      "100%|###################################################################################|175/175[00:05<00:00,31.94it/s]"
     ]
    },
    {
     "name": "stdout",
     "output_type": "stream",
     "text": [
      "\u001b[32m[1019 09:10:17 @base.py:285]\u001b[0m Epoch 1242 (global_step 217350) finished, time:5.48 seconds.\n",
      "\u001b[32m[1019 09:10:17 @saver.py:79]\u001b[0m Model saved to ../output/Chicago/DATGAN_asd29/model\\model-217350.\n"
     ]
    },
    {
     "name": "stderr",
     "output_type": "stream",
     "text": [
      "\n"
     ]
    },
    {
     "name": "stdout",
     "output_type": "stream",
     "text": [
      "\u001b[32m[1019 09:10:17 @monitor.py:467]\u001b[0m GAN_loss/discrim/accuracy_fake: 0.768\n",
      "\u001b[32m[1019 09:10:17 @monitor.py:467]\u001b[0m GAN_loss/discrim/accuracy_real: 0.516\n",
      "\u001b[32m[1019 09:10:17 @monitor.py:467]\u001b[0m GAN_loss/discrim/loss: 0.59329\n",
      "\u001b[32m[1019 09:10:17 @monitor.py:467]\u001b[0m GAN_loss/gen/final-g-loss: 1.3572\n",
      "\u001b[32m[1019 09:10:17 @monitor.py:467]\u001b[0m GAN_loss/gen/klloss: 0.060511\n",
      "\u001b[32m[1019 09:10:17 @monitor.py:467]\u001b[0m GAN_loss/gen/loss: 1.2967\n",
      "\u001b[32m[1019 09:10:17 @monitor.py:467]\u001b[0m QueueInput/queue_size: 50\n",
      "\u001b[32m[1019 09:10:17 @base.py:275]\u001b[0m Start Epoch 1243 ...\n"
     ]
    },
    {
     "name": "stderr",
     "output_type": "stream",
     "text": [
      "100%|###################################################################################|175/175[00:05<00:00,31.89it/s]"
     ]
    },
    {
     "name": "stdout",
     "output_type": "stream",
     "text": [
      "\u001b[32m[1019 09:10:23 @base.py:285]\u001b[0m Epoch 1243 (global_step 217525) finished, time:5.49 seconds.\n",
      "\u001b[32m[1019 09:10:23 @saver.py:79]\u001b[0m Model saved to ../output/Chicago/DATGAN_asd29/model\\model-217525.\n"
     ]
    },
    {
     "name": "stderr",
     "output_type": "stream",
     "text": [
      "\n"
     ]
    },
    {
     "name": "stdout",
     "output_type": "stream",
     "text": [
      "\u001b[32m[1019 09:10:23 @monitor.py:467]\u001b[0m GAN_loss/discrim/accuracy_fake: 0.836\n",
      "\u001b[32m[1019 09:10:23 @monitor.py:467]\u001b[0m GAN_loss/discrim/accuracy_real: 0.38\n",
      "\u001b[32m[1019 09:10:23 @monitor.py:467]\u001b[0m GAN_loss/discrim/loss: 0.61449\n",
      "\u001b[32m[1019 09:10:23 @monitor.py:467]\u001b[0m GAN_loss/gen/final-g-loss: 1.425\n",
      "\u001b[32m[1019 09:10:23 @monitor.py:467]\u001b[0m GAN_loss/gen/klloss: 0.057763\n",
      "\u001b[32m[1019 09:10:23 @monitor.py:467]\u001b[0m GAN_loss/gen/loss: 1.3673\n",
      "\u001b[32m[1019 09:10:23 @monitor.py:467]\u001b[0m QueueInput/queue_size: 50\n",
      "\u001b[32m[1019 09:10:23 @base.py:275]\u001b[0m Start Epoch 1244 ...\n"
     ]
    },
    {
     "name": "stderr",
     "output_type": "stream",
     "text": [
      "100%|###################################################################################|175/175[00:05<00:00,31.92it/s]"
     ]
    },
    {
     "name": "stdout",
     "output_type": "stream",
     "text": [
      "\u001b[32m[1019 09:10:29 @base.py:285]\u001b[0m Epoch 1244 (global_step 217700) finished, time:5.48 seconds.\n",
      "\u001b[32m[1019 09:10:29 @saver.py:79]\u001b[0m Model saved to ../output/Chicago/DATGAN_asd29/model\\model-217700.\n"
     ]
    },
    {
     "name": "stderr",
     "output_type": "stream",
     "text": [
      "\n"
     ]
    },
    {
     "name": "stdout",
     "output_type": "stream",
     "text": [
      "\u001b[32m[1019 09:10:29 @monitor.py:467]\u001b[0m GAN_loss/discrim/accuracy_fake: 0.774\n",
      "\u001b[32m[1019 09:10:29 @monitor.py:467]\u001b[0m GAN_loss/discrim/accuracy_real: 0.458\n",
      "\u001b[32m[1019 09:10:29 @monitor.py:467]\u001b[0m GAN_loss/discrim/loss: 0.61162\n",
      "\u001b[32m[1019 09:10:29 @monitor.py:467]\u001b[0m GAN_loss/gen/final-g-loss: 1.4108\n",
      "\u001b[32m[1019 09:10:29 @monitor.py:467]\u001b[0m GAN_loss/gen/klloss: 0.080846\n",
      "\u001b[32m[1019 09:10:29 @monitor.py:467]\u001b[0m GAN_loss/gen/loss: 1.33\n",
      "\u001b[32m[1019 09:10:29 @monitor.py:467]\u001b[0m QueueInput/queue_size: 50\n",
      "\u001b[32m[1019 09:10:29 @base.py:275]\u001b[0m Start Epoch 1245 ...\n"
     ]
    },
    {
     "name": "stderr",
     "output_type": "stream",
     "text": [
      "100%|###################################################################################|175/175[00:05<00:00,31.88it/s]"
     ]
    },
    {
     "name": "stdout",
     "output_type": "stream",
     "text": [
      "\u001b[32m[1019 09:10:34 @base.py:285]\u001b[0m Epoch 1245 (global_step 217875) finished, time:5.49 seconds.\n",
      "\u001b[32m[1019 09:10:34 @saver.py:79]\u001b[0m Model saved to ../output/Chicago/DATGAN_asd29/model\\model-217875.\n"
     ]
    },
    {
     "name": "stderr",
     "output_type": "stream",
     "text": [
      "\n"
     ]
    },
    {
     "name": "stdout",
     "output_type": "stream",
     "text": [
      "\u001b[32m[1019 09:10:35 @monitor.py:467]\u001b[0m GAN_loss/discrim/accuracy_fake: 0.812\n",
      "\u001b[32m[1019 09:10:35 @monitor.py:467]\u001b[0m GAN_loss/discrim/accuracy_real: 0.454\n",
      "\u001b[32m[1019 09:10:35 @monitor.py:467]\u001b[0m GAN_loss/discrim/loss: 0.59785\n",
      "\u001b[32m[1019 09:10:35 @monitor.py:467]\u001b[0m GAN_loss/gen/final-g-loss: 1.4677\n",
      "\u001b[32m[1019 09:10:35 @monitor.py:467]\u001b[0m GAN_loss/gen/klloss: 0.098568\n",
      "\u001b[32m[1019 09:10:35 @monitor.py:467]\u001b[0m GAN_loss/gen/loss: 1.3691\n",
      "\u001b[32m[1019 09:10:35 @monitor.py:467]\u001b[0m QueueInput/queue_size: 50\n",
      "\u001b[32m[1019 09:10:35 @base.py:275]\u001b[0m Start Epoch 1246 ...\n"
     ]
    },
    {
     "name": "stderr",
     "output_type": "stream",
     "text": [
      "100%|###################################################################################|175/175[00:05<00:00,31.92it/s]"
     ]
    },
    {
     "name": "stdout",
     "output_type": "stream",
     "text": [
      "\u001b[32m[1019 09:10:40 @base.py:285]\u001b[0m Epoch 1246 (global_step 218050) finished, time:5.48 seconds.\n",
      "\u001b[32m[1019 09:10:40 @saver.py:79]\u001b[0m Model saved to ../output/Chicago/DATGAN_asd29/model\\model-218050.\n"
     ]
    },
    {
     "name": "stderr",
     "output_type": "stream",
     "text": [
      "\n"
     ]
    },
    {
     "name": "stdout",
     "output_type": "stream",
     "text": [
      "\u001b[32m[1019 09:10:40 @monitor.py:467]\u001b[0m GAN_loss/discrim/accuracy_fake: 0.818\n",
      "\u001b[32m[1019 09:10:40 @monitor.py:467]\u001b[0m GAN_loss/discrim/accuracy_real: 0.522\n",
      "\u001b[32m[1019 09:10:40 @monitor.py:467]\u001b[0m GAN_loss/discrim/loss: 0.56553\n",
      "\u001b[32m[1019 09:10:40 @monitor.py:467]\u001b[0m GAN_loss/gen/final-g-loss: 1.614\n",
      "\u001b[32m[1019 09:10:40 @monitor.py:467]\u001b[0m GAN_loss/gen/klloss: 0.12667\n",
      "\u001b[32m[1019 09:10:40 @monitor.py:467]\u001b[0m GAN_loss/gen/loss: 1.4873\n",
      "\u001b[32m[1019 09:10:40 @monitor.py:467]\u001b[0m QueueInput/queue_size: 50\n",
      "\u001b[32m[1019 09:10:40 @base.py:275]\u001b[0m Start Epoch 1247 ...\n"
     ]
    },
    {
     "name": "stderr",
     "output_type": "stream",
     "text": [
      "100%|###################################################################################|175/175[00:05<00:00,31.87it/s]"
     ]
    },
    {
     "name": "stdout",
     "output_type": "stream",
     "text": [
      "\u001b[32m[1019 09:10:46 @base.py:285]\u001b[0m Epoch 1247 (global_step 218225) finished, time:5.49 seconds.\n",
      "\u001b[32m[1019 09:10:46 @saver.py:79]\u001b[0m Model saved to ../output/Chicago/DATGAN_asd29/model\\model-218225.\n"
     ]
    },
    {
     "name": "stderr",
     "output_type": "stream",
     "text": [
      "\n"
     ]
    },
    {
     "name": "stdout",
     "output_type": "stream",
     "text": [
      "\u001b[32m[1019 09:10:46 @monitor.py:467]\u001b[0m GAN_loss/discrim/accuracy_fake: 0.826\n",
      "\u001b[32m[1019 09:10:46 @monitor.py:467]\u001b[0m GAN_loss/discrim/accuracy_real: 0.474\n",
      "\u001b[32m[1019 09:10:46 @monitor.py:467]\u001b[0m GAN_loss/discrim/loss: 0.57696\n",
      "\u001b[32m[1019 09:10:46 @monitor.py:467]\u001b[0m GAN_loss/gen/final-g-loss: 1.5736\n",
      "\u001b[32m[1019 09:10:46 @monitor.py:467]\u001b[0m GAN_loss/gen/klloss: 0.0726\n",
      "\u001b[32m[1019 09:10:46 @monitor.py:467]\u001b[0m GAN_loss/gen/loss: 1.501\n",
      "\u001b[32m[1019 09:10:46 @monitor.py:467]\u001b[0m QueueInput/queue_size: 50\n",
      "\u001b[32m[1019 09:10:46 @base.py:275]\u001b[0m Start Epoch 1248 ...\n"
     ]
    },
    {
     "name": "stderr",
     "output_type": "stream",
     "text": [
      "100%|###################################################################################|175/175[00:05<00:00,31.92it/s]"
     ]
    },
    {
     "name": "stdout",
     "output_type": "stream",
     "text": [
      "\u001b[32m[1019 09:10:52 @base.py:285]\u001b[0m Epoch 1248 (global_step 218400) finished, time:5.48 seconds.\n",
      "\u001b[32m[1019 09:10:52 @saver.py:79]\u001b[0m Model saved to ../output/Chicago/DATGAN_asd29/model\\model-218400.\n"
     ]
    },
    {
     "name": "stderr",
     "output_type": "stream",
     "text": [
      "\n"
     ]
    },
    {
     "name": "stdout",
     "output_type": "stream",
     "text": [
      "\u001b[32m[1019 09:10:52 @monitor.py:467]\u001b[0m GAN_loss/discrim/accuracy_fake: 0.826\n",
      "\u001b[32m[1019 09:10:52 @monitor.py:467]\u001b[0m GAN_loss/discrim/accuracy_real: 0.462\n",
      "\u001b[32m[1019 09:10:52 @monitor.py:467]\u001b[0m GAN_loss/discrim/loss: 0.5827\n",
      "\u001b[32m[1019 09:10:52 @monitor.py:467]\u001b[0m GAN_loss/gen/final-g-loss: 1.5875\n",
      "\u001b[32m[1019 09:10:52 @monitor.py:467]\u001b[0m GAN_loss/gen/klloss: 0.079626\n",
      "\u001b[32m[1019 09:10:52 @monitor.py:467]\u001b[0m GAN_loss/gen/loss: 1.5079\n",
      "\u001b[32m[1019 09:10:52 @monitor.py:467]\u001b[0m QueueInput/queue_size: 50\n",
      "\u001b[32m[1019 09:10:52 @base.py:275]\u001b[0m Start Epoch 1249 ...\n"
     ]
    },
    {
     "name": "stderr",
     "output_type": "stream",
     "text": [
      "100%|###################################################################################|175/175[00:05<00:00,31.93it/s]"
     ]
    },
    {
     "name": "stdout",
     "output_type": "stream",
     "text": [
      "\u001b[32m[1019 09:10:57 @base.py:285]\u001b[0m Epoch 1249 (global_step 218575) finished, time:5.48 seconds.\n",
      "\u001b[32m[1019 09:10:57 @saver.py:79]\u001b[0m Model saved to ../output/Chicago/DATGAN_asd29/model\\model-218575.\n"
     ]
    },
    {
     "name": "stderr",
     "output_type": "stream",
     "text": [
      "\n"
     ]
    },
    {
     "name": "stdout",
     "output_type": "stream",
     "text": [
      "\u001b[32m[1019 09:10:58 @monitor.py:467]\u001b[0m GAN_loss/discrim/accuracy_fake: 0.79\n",
      "\u001b[32m[1019 09:10:58 @monitor.py:467]\u001b[0m GAN_loss/discrim/accuracy_real: 0.518\n",
      "\u001b[32m[1019 09:10:58 @monitor.py:467]\u001b[0m GAN_loss/discrim/loss: 0.57978\n",
      "\u001b[32m[1019 09:10:58 @monitor.py:467]\u001b[0m GAN_loss/gen/final-g-loss: 1.5823\n",
      "\u001b[32m[1019 09:10:58 @monitor.py:467]\u001b[0m GAN_loss/gen/klloss: 0.083601\n",
      "\u001b[32m[1019 09:10:58 @monitor.py:467]\u001b[0m GAN_loss/gen/loss: 1.4987\n",
      "\u001b[32m[1019 09:10:58 @monitor.py:467]\u001b[0m QueueInput/queue_size: 50\n",
      "\u001b[32m[1019 09:10:58 @base.py:275]\u001b[0m Start Epoch 1250 ...\n"
     ]
    },
    {
     "name": "stderr",
     "output_type": "stream",
     "text": [
      "100%|###################################################################################|175/175[00:05<00:00,31.90it/s]"
     ]
    },
    {
     "name": "stdout",
     "output_type": "stream",
     "text": [
      "\u001b[32m[1019 09:11:03 @base.py:285]\u001b[0m Epoch 1250 (global_step 218750) finished, time:5.49 seconds.\n",
      "\u001b[32m[1019 09:11:03 @saver.py:79]\u001b[0m Model saved to ../output/Chicago/DATGAN_asd29/model\\model-218750.\n"
     ]
    },
    {
     "name": "stderr",
     "output_type": "stream",
     "text": [
      "\n"
     ]
    },
    {
     "name": "stdout",
     "output_type": "stream",
     "text": [
      "\u001b[32m[1019 09:11:03 @monitor.py:467]\u001b[0m GAN_loss/discrim/accuracy_fake: 0.802\n",
      "\u001b[32m[1019 09:11:03 @monitor.py:467]\u001b[0m GAN_loss/discrim/accuracy_real: 0.568\n",
      "\u001b[32m[1019 09:11:03 @monitor.py:467]\u001b[0m GAN_loss/discrim/loss: 0.5716\n",
      "\u001b[32m[1019 09:11:03 @monitor.py:467]\u001b[0m GAN_loss/gen/final-g-loss: 1.5246\n",
      "\u001b[32m[1019 09:11:03 @monitor.py:467]\u001b[0m GAN_loss/gen/klloss: 0.090963\n",
      "\u001b[32m[1019 09:11:03 @monitor.py:467]\u001b[0m GAN_loss/gen/loss: 1.4337\n",
      "\u001b[32m[1019 09:11:03 @monitor.py:467]\u001b[0m QueueInput/queue_size: 50\n",
      "\u001b[32m[1019 09:11:03 @base.py:275]\u001b[0m Start Epoch 1251 ...\n"
     ]
    },
    {
     "name": "stderr",
     "output_type": "stream",
     "text": [
      "100%|###################################################################################|175/175[00:05<00:00,31.88it/s]"
     ]
    },
    {
     "name": "stdout",
     "output_type": "stream",
     "text": [
      "\u001b[32m[1019 09:11:09 @base.py:285]\u001b[0m Epoch 1251 (global_step 218925) finished, time:5.49 seconds.\n",
      "\u001b[32m[1019 09:11:09 @saver.py:79]\u001b[0m Model saved to ../output/Chicago/DATGAN_asd29/model\\model-218925.\n"
     ]
    },
    {
     "name": "stderr",
     "output_type": "stream",
     "text": [
      "\n"
     ]
    },
    {
     "name": "stdout",
     "output_type": "stream",
     "text": [
      "\u001b[32m[1019 09:11:09 @monitor.py:467]\u001b[0m GAN_loss/discrim/accuracy_fake: 0.82\n",
      "\u001b[32m[1019 09:11:09 @monitor.py:467]\u001b[0m GAN_loss/discrim/accuracy_real: 0.5\n",
      "\u001b[32m[1019 09:11:09 @monitor.py:467]\u001b[0m GAN_loss/discrim/loss: 0.57089\n",
      "\u001b[32m[1019 09:11:09 @monitor.py:467]\u001b[0m GAN_loss/gen/final-g-loss: 1.5058\n",
      "\u001b[32m[1019 09:11:09 @monitor.py:467]\u001b[0m GAN_loss/gen/klloss: 0.08827\n",
      "\u001b[32m[1019 09:11:09 @monitor.py:467]\u001b[0m GAN_loss/gen/loss: 1.4176\n",
      "\u001b[32m[1019 09:11:09 @monitor.py:467]\u001b[0m QueueInput/queue_size: 50\n",
      "\u001b[32m[1019 09:11:09 @base.py:275]\u001b[0m Start Epoch 1252 ...\n"
     ]
    },
    {
     "name": "stderr",
     "output_type": "stream",
     "text": [
      "100%|###################################################################################|175/175[00:05<00:00,31.88it/s]"
     ]
    },
    {
     "name": "stdout",
     "output_type": "stream",
     "text": [
      "\u001b[32m[1019 09:11:15 @base.py:285]\u001b[0m Epoch 1252 (global_step 219100) finished, time:5.49 seconds.\n",
      "\u001b[32m[1019 09:11:15 @saver.py:79]\u001b[0m Model saved to ../output/Chicago/DATGAN_asd29/model\\model-219100.\n"
     ]
    },
    {
     "name": "stderr",
     "output_type": "stream",
     "text": [
      "\n"
     ]
    },
    {
     "name": "stdout",
     "output_type": "stream",
     "text": [
      "\u001b[32m[1019 09:11:15 @monitor.py:467]\u001b[0m GAN_loss/discrim/accuracy_fake: 0.82\n",
      "\u001b[32m[1019 09:11:15 @monitor.py:467]\u001b[0m GAN_loss/discrim/accuracy_real: 0.512\n",
      "\u001b[32m[1019 09:11:15 @monitor.py:467]\u001b[0m GAN_loss/discrim/loss: 0.56986\n",
      "\u001b[32m[1019 09:11:15 @monitor.py:467]\u001b[0m GAN_loss/gen/final-g-loss: 1.5335\n",
      "\u001b[32m[1019 09:11:15 @monitor.py:467]\u001b[0m GAN_loss/gen/klloss: 0.051647\n",
      "\u001b[32m[1019 09:11:15 @monitor.py:467]\u001b[0m GAN_loss/gen/loss: 1.4819\n",
      "\u001b[32m[1019 09:11:15 @monitor.py:467]\u001b[0m QueueInput/queue_size: 50\n",
      "\u001b[32m[1019 09:11:15 @base.py:275]\u001b[0m Start Epoch 1253 ...\n"
     ]
    },
    {
     "name": "stderr",
     "output_type": "stream",
     "text": [
      "100%|###################################################################################|175/175[00:05<00:00,31.93it/s]"
     ]
    },
    {
     "name": "stdout",
     "output_type": "stream",
     "text": [
      "\u001b[32m[1019 09:11:20 @base.py:285]\u001b[0m Epoch 1253 (global_step 219275) finished, time:5.48 seconds.\n",
      "\u001b[32m[1019 09:11:21 @saver.py:79]\u001b[0m Model saved to ../output/Chicago/DATGAN_asd29/model\\model-219275.\n"
     ]
    },
    {
     "name": "stderr",
     "output_type": "stream",
     "text": [
      "\n"
     ]
    },
    {
     "name": "stdout",
     "output_type": "stream",
     "text": [
      "\u001b[32m[1019 09:11:21 @monitor.py:467]\u001b[0m GAN_loss/discrim/accuracy_fake: 0.82\n",
      "\u001b[32m[1019 09:11:21 @monitor.py:467]\u001b[0m GAN_loss/discrim/accuracy_real: 0.53\n",
      "\u001b[32m[1019 09:11:21 @monitor.py:467]\u001b[0m GAN_loss/discrim/loss: 0.56522\n",
      "\u001b[32m[1019 09:11:21 @monitor.py:467]\u001b[0m GAN_loss/gen/final-g-loss: 1.5162\n",
      "\u001b[32m[1019 09:11:21 @monitor.py:467]\u001b[0m GAN_loss/gen/klloss: 0.081927\n",
      "\u001b[32m[1019 09:11:21 @monitor.py:467]\u001b[0m GAN_loss/gen/loss: 1.4343\n",
      "\u001b[32m[1019 09:11:21 @monitor.py:467]\u001b[0m QueueInput/queue_size: 50\n",
      "\u001b[32m[1019 09:11:21 @base.py:275]\u001b[0m Start Epoch 1254 ...\n"
     ]
    },
    {
     "name": "stderr",
     "output_type": "stream",
     "text": [
      "100%|###################################################################################|175/175[00:05<00:00,31.88it/s]"
     ]
    },
    {
     "name": "stdout",
     "output_type": "stream",
     "text": [
      "\u001b[32m[1019 09:11:26 @base.py:285]\u001b[0m Epoch 1254 (global_step 219450) finished, time:5.49 seconds.\n",
      "\u001b[32m[1019 09:11:26 @saver.py:79]\u001b[0m Model saved to ../output/Chicago/DATGAN_asd29/model\\model-219450.\n"
     ]
    },
    {
     "name": "stderr",
     "output_type": "stream",
     "text": [
      "\n"
     ]
    },
    {
     "name": "stdout",
     "output_type": "stream",
     "text": [
      "\u001b[32m[1019 09:11:27 @monitor.py:467]\u001b[0m GAN_loss/discrim/accuracy_fake: 0.766\n",
      "\u001b[32m[1019 09:11:27 @monitor.py:467]\u001b[0m GAN_loss/discrim/accuracy_real: 0.484\n",
      "\u001b[32m[1019 09:11:27 @monitor.py:467]\u001b[0m GAN_loss/discrim/loss: 0.59512\n",
      "\u001b[32m[1019 09:11:27 @monitor.py:467]\u001b[0m GAN_loss/gen/final-g-loss: 1.4718\n",
      "\u001b[32m[1019 09:11:27 @monitor.py:467]\u001b[0m GAN_loss/gen/klloss: 0.070336\n",
      "\u001b[32m[1019 09:11:27 @monitor.py:467]\u001b[0m GAN_loss/gen/loss: 1.4015\n",
      "\u001b[32m[1019 09:11:27 @monitor.py:467]\u001b[0m QueueInput/queue_size: 50\n",
      "\u001b[32m[1019 09:11:27 @base.py:275]\u001b[0m Start Epoch 1255 ...\n"
     ]
    },
    {
     "name": "stderr",
     "output_type": "stream",
     "text": [
      "100%|###################################################################################|175/175[00:05<00:00,31.92it/s]"
     ]
    },
    {
     "name": "stdout",
     "output_type": "stream",
     "text": [
      "\u001b[32m[1019 09:11:32 @base.py:285]\u001b[0m Epoch 1255 (global_step 219625) finished, time:5.48 seconds.\n",
      "\u001b[32m[1019 09:11:32 @saver.py:79]\u001b[0m Model saved to ../output/Chicago/DATGAN_asd29/model\\model-219625.\n"
     ]
    },
    {
     "name": "stderr",
     "output_type": "stream",
     "text": [
      "\n"
     ]
    },
    {
     "name": "stdout",
     "output_type": "stream",
     "text": [
      "\u001b[32m[1019 09:11:32 @monitor.py:467]\u001b[0m GAN_loss/discrim/accuracy_fake: 0.814\n",
      "\u001b[32m[1019 09:11:32 @monitor.py:467]\u001b[0m GAN_loss/discrim/accuracy_real: 0.504\n",
      "\u001b[32m[1019 09:11:32 @monitor.py:467]\u001b[0m GAN_loss/discrim/loss: 0.57244\n",
      "\u001b[32m[1019 09:11:32 @monitor.py:467]\u001b[0m GAN_loss/gen/final-g-loss: 1.5492\n",
      "\u001b[32m[1019 09:11:32 @monitor.py:467]\u001b[0m GAN_loss/gen/klloss: 0.093963\n",
      "\u001b[32m[1019 09:11:32 @monitor.py:467]\u001b[0m GAN_loss/gen/loss: 1.4552\n",
      "\u001b[32m[1019 09:11:32 @monitor.py:467]\u001b[0m QueueInput/queue_size: 50\n",
      "\u001b[32m[1019 09:11:32 @base.py:275]\u001b[0m Start Epoch 1256 ...\n"
     ]
    },
    {
     "name": "stderr",
     "output_type": "stream",
     "text": [
      "100%|###################################################################################|175/175[00:05<00:00,31.91it/s]"
     ]
    },
    {
     "name": "stdout",
     "output_type": "stream",
     "text": [
      "\u001b[32m[1019 09:11:38 @base.py:285]\u001b[0m Epoch 1256 (global_step 219800) finished, time:5.49 seconds.\n",
      "\u001b[32m[1019 09:11:38 @saver.py:79]\u001b[0m Model saved to ../output/Chicago/DATGAN_asd29/model\\model-219800.\n"
     ]
    },
    {
     "name": "stderr",
     "output_type": "stream",
     "text": [
      "\n"
     ]
    },
    {
     "name": "stdout",
     "output_type": "stream",
     "text": [
      "\u001b[32m[1019 09:11:38 @monitor.py:467]\u001b[0m GAN_loss/discrim/accuracy_fake: 0.808\n",
      "\u001b[32m[1019 09:11:38 @monitor.py:467]\u001b[0m GAN_loss/discrim/accuracy_real: 0.442\n",
      "\u001b[32m[1019 09:11:38 @monitor.py:467]\u001b[0m GAN_loss/discrim/loss: 0.59659\n",
      "\u001b[32m[1019 09:11:38 @monitor.py:467]\u001b[0m GAN_loss/gen/final-g-loss: 1.5775\n",
      "\u001b[32m[1019 09:11:38 @monitor.py:467]\u001b[0m GAN_loss/gen/klloss: 0.078318\n",
      "\u001b[32m[1019 09:11:38 @monitor.py:467]\u001b[0m GAN_loss/gen/loss: 1.4992\n",
      "\u001b[32m[1019 09:11:38 @monitor.py:467]\u001b[0m QueueInput/queue_size: 50\n",
      "\u001b[32m[1019 09:11:38 @base.py:275]\u001b[0m Start Epoch 1257 ...\n"
     ]
    },
    {
     "name": "stderr",
     "output_type": "stream",
     "text": [
      "100%|###################################################################################|175/175[00:05<00:00,31.93it/s]"
     ]
    },
    {
     "name": "stdout",
     "output_type": "stream",
     "text": [
      "\u001b[32m[1019 09:11:44 @base.py:285]\u001b[0m Epoch 1257 (global_step 219975) finished, time:5.48 seconds.\n",
      "\u001b[32m[1019 09:11:44 @saver.py:79]\u001b[0m Model saved to ../output/Chicago/DATGAN_asd29/model\\model-219975.\n"
     ]
    },
    {
     "name": "stderr",
     "output_type": "stream",
     "text": [
      "\n"
     ]
    },
    {
     "name": "stdout",
     "output_type": "stream",
     "text": [
      "\u001b[32m[1019 09:11:44 @monitor.py:467]\u001b[0m GAN_loss/discrim/accuracy_fake: 0.822\n",
      "\u001b[32m[1019 09:11:44 @monitor.py:467]\u001b[0m GAN_loss/discrim/accuracy_real: 0.608\n",
      "\u001b[32m[1019 09:11:44 @monitor.py:467]\u001b[0m GAN_loss/discrim/loss: 0.54434\n",
      "\u001b[32m[1019 09:11:44 @monitor.py:467]\u001b[0m GAN_loss/gen/final-g-loss: 1.5556\n",
      "\u001b[32m[1019 09:11:44 @monitor.py:467]\u001b[0m GAN_loss/gen/klloss: 0.061756\n",
      "\u001b[32m[1019 09:11:44 @monitor.py:467]\u001b[0m GAN_loss/gen/loss: 1.4938\n",
      "\u001b[32m[1019 09:11:44 @monitor.py:467]\u001b[0m QueueInput/queue_size: 50\n",
      "\u001b[32m[1019 09:11:44 @base.py:275]\u001b[0m Start Epoch 1258 ...\n"
     ]
    },
    {
     "name": "stderr",
     "output_type": "stream",
     "text": [
      "100%|###################################################################################|175/175[00:05<00:00,31.88it/s]"
     ]
    },
    {
     "name": "stdout",
     "output_type": "stream",
     "text": [
      "\u001b[32m[1019 09:11:49 @base.py:285]\u001b[0m Epoch 1258 (global_step 220150) finished, time:5.49 seconds.\n",
      "\u001b[32m[1019 09:11:49 @saver.py:79]\u001b[0m Model saved to ../output/Chicago/DATGAN_asd29/model\\model-220150.\n"
     ]
    },
    {
     "name": "stderr",
     "output_type": "stream",
     "text": [
      "\n"
     ]
    },
    {
     "name": "stdout",
     "output_type": "stream",
     "text": [
      "\u001b[32m[1019 09:11:50 @monitor.py:467]\u001b[0m GAN_loss/discrim/accuracy_fake: 0.836\n",
      "\u001b[32m[1019 09:11:50 @monitor.py:467]\u001b[0m GAN_loss/discrim/accuracy_real: 0.504\n",
      "\u001b[32m[1019 09:11:50 @monitor.py:467]\u001b[0m GAN_loss/discrim/loss: 0.56916\n",
      "\u001b[32m[1019 09:11:50 @monitor.py:467]\u001b[0m GAN_loss/gen/final-g-loss: 1.6023\n",
      "\u001b[32m[1019 09:11:50 @monitor.py:467]\u001b[0m GAN_loss/gen/klloss: 0.082318\n",
      "\u001b[32m[1019 09:11:50 @monitor.py:467]\u001b[0m GAN_loss/gen/loss: 1.52\n",
      "\u001b[32m[1019 09:11:50 @monitor.py:467]\u001b[0m QueueInput/queue_size: 50\n",
      "\u001b[32m[1019 09:11:50 @base.py:275]\u001b[0m Start Epoch 1259 ...\n"
     ]
    },
    {
     "name": "stderr",
     "output_type": "stream",
     "text": [
      "100%|###################################################################################|175/175[00:05<00:00,31.92it/s]"
     ]
    },
    {
     "name": "stdout",
     "output_type": "stream",
     "text": [
      "\u001b[32m[1019 09:11:55 @base.py:285]\u001b[0m Epoch 1259 (global_step 220325) finished, time:5.48 seconds.\n",
      "\u001b[32m[1019 09:11:55 @saver.py:79]\u001b[0m Model saved to ../output/Chicago/DATGAN_asd29/model\\model-220325.\n"
     ]
    },
    {
     "name": "stderr",
     "output_type": "stream",
     "text": [
      "\n"
     ]
    },
    {
     "name": "stdout",
     "output_type": "stream",
     "text": [
      "\u001b[32m[1019 09:11:55 @monitor.py:467]\u001b[0m GAN_loss/discrim/accuracy_fake: 0.776\n",
      "\u001b[32m[1019 09:11:55 @monitor.py:467]\u001b[0m GAN_loss/discrim/accuracy_real: 0.494\n",
      "\u001b[32m[1019 09:11:55 @monitor.py:467]\u001b[0m GAN_loss/discrim/loss: 0.59648\n",
      "\u001b[32m[1019 09:11:55 @monitor.py:467]\u001b[0m GAN_loss/gen/final-g-loss: 1.5018\n",
      "\u001b[32m[1019 09:11:55 @monitor.py:467]\u001b[0m GAN_loss/gen/klloss: 0.076641\n",
      "\u001b[32m[1019 09:11:55 @monitor.py:467]\u001b[0m GAN_loss/gen/loss: 1.4252\n",
      "\u001b[32m[1019 09:11:55 @monitor.py:467]\u001b[0m QueueInput/queue_size: 50\n",
      "\u001b[32m[1019 09:11:55 @base.py:275]\u001b[0m Start Epoch 1260 ...\n"
     ]
    },
    {
     "name": "stderr",
     "output_type": "stream",
     "text": [
      "100%|###################################################################################|175/175[00:05<00:00,31.89it/s]"
     ]
    },
    {
     "name": "stdout",
     "output_type": "stream",
     "text": [
      "\u001b[32m[1019 09:12:01 @base.py:285]\u001b[0m Epoch 1260 (global_step 220500) finished, time:5.49 seconds.\n",
      "\u001b[32m[1019 09:12:01 @saver.py:79]\u001b[0m Model saved to ../output/Chicago/DATGAN_asd29/model\\model-220500.\n"
     ]
    },
    {
     "name": "stderr",
     "output_type": "stream",
     "text": [
      "\n"
     ]
    },
    {
     "name": "stdout",
     "output_type": "stream",
     "text": [
      "\u001b[32m[1019 09:12:01 @monitor.py:467]\u001b[0m GAN_loss/discrim/accuracy_fake: 0.794\n",
      "\u001b[32m[1019 09:12:01 @monitor.py:467]\u001b[0m GAN_loss/discrim/accuracy_real: 0.622\n",
      "\u001b[32m[1019 09:12:01 @monitor.py:467]\u001b[0m GAN_loss/discrim/loss: 0.5324\n",
      "\u001b[32m[1019 09:12:01 @monitor.py:467]\u001b[0m GAN_loss/gen/final-g-loss: 1.6844\n",
      "\u001b[32m[1019 09:12:01 @monitor.py:467]\u001b[0m GAN_loss/gen/klloss: 0.076255\n",
      "\u001b[32m[1019 09:12:01 @monitor.py:467]\u001b[0m GAN_loss/gen/loss: 1.6082\n",
      "\u001b[32m[1019 09:12:01 @monitor.py:467]\u001b[0m QueueInput/queue_size: 50\n",
      "\u001b[32m[1019 09:12:01 @base.py:275]\u001b[0m Start Epoch 1261 ...\n"
     ]
    },
    {
     "name": "stderr",
     "output_type": "stream",
     "text": [
      "100%|###################################################################################|175/175[00:05<00:00,31.93it/s]"
     ]
    },
    {
     "name": "stdout",
     "output_type": "stream",
     "text": [
      "\u001b[32m[1019 09:12:07 @base.py:285]\u001b[0m Epoch 1261 (global_step 220675) finished, time:5.48 seconds.\n",
      "\u001b[32m[1019 09:12:07 @saver.py:79]\u001b[0m Model saved to ../output/Chicago/DATGAN_asd29/model\\model-220675.\n"
     ]
    },
    {
     "name": "stderr",
     "output_type": "stream",
     "text": [
      "\n"
     ]
    },
    {
     "name": "stdout",
     "output_type": "stream",
     "text": [
      "\u001b[32m[1019 09:12:07 @monitor.py:467]\u001b[0m GAN_loss/discrim/accuracy_fake: 0.806\n",
      "\u001b[32m[1019 09:12:07 @monitor.py:467]\u001b[0m GAN_loss/discrim/accuracy_real: 0.522\n",
      "\u001b[32m[1019 09:12:07 @monitor.py:467]\u001b[0m GAN_loss/discrim/loss: 0.57642\n",
      "\u001b[32m[1019 09:12:07 @monitor.py:467]\u001b[0m GAN_loss/gen/final-g-loss: 1.5825\n",
      "\u001b[32m[1019 09:12:07 @monitor.py:467]\u001b[0m GAN_loss/gen/klloss: 0.070665\n",
      "\u001b[32m[1019 09:12:07 @monitor.py:467]\u001b[0m GAN_loss/gen/loss: 1.5119\n",
      "\u001b[32m[1019 09:12:07 @monitor.py:467]\u001b[0m QueueInput/queue_size: 50\n",
      "\u001b[32m[1019 09:12:07 @base.py:275]\u001b[0m Start Epoch 1262 ...\n"
     ]
    },
    {
     "name": "stderr",
     "output_type": "stream",
     "text": [
      "100%|###################################################################################|175/175[00:05<00:00,31.90it/s]"
     ]
    },
    {
     "name": "stdout",
     "output_type": "stream",
     "text": [
      "\u001b[32m[1019 09:12:12 @base.py:285]\u001b[0m Epoch 1262 (global_step 220850) finished, time:5.49 seconds.\n",
      "\u001b[32m[1019 09:12:13 @saver.py:79]\u001b[0m Model saved to ../output/Chicago/DATGAN_asd29/model\\model-220850.\n"
     ]
    },
    {
     "name": "stderr",
     "output_type": "stream",
     "text": [
      "\n"
     ]
    },
    {
     "name": "stdout",
     "output_type": "stream",
     "text": [
      "\u001b[32m[1019 09:12:13 @monitor.py:467]\u001b[0m GAN_loss/discrim/accuracy_fake: 0.858\n",
      "\u001b[32m[1019 09:12:13 @monitor.py:467]\u001b[0m GAN_loss/discrim/accuracy_real: 0.588\n",
      "\u001b[32m[1019 09:12:13 @monitor.py:467]\u001b[0m GAN_loss/discrim/loss: 0.53394\n",
      "\u001b[32m[1019 09:12:13 @monitor.py:467]\u001b[0m GAN_loss/gen/final-g-loss: 1.7304\n",
      "\u001b[32m[1019 09:12:13 @monitor.py:467]\u001b[0m GAN_loss/gen/klloss: 0.13552\n",
      "\u001b[32m[1019 09:12:13 @monitor.py:467]\u001b[0m GAN_loss/gen/loss: 1.5949\n",
      "\u001b[32m[1019 09:12:13 @monitor.py:467]\u001b[0m QueueInput/queue_size: 50\n",
      "\u001b[32m[1019 09:12:13 @base.py:275]\u001b[0m Start Epoch 1263 ...\n"
     ]
    },
    {
     "name": "stderr",
     "output_type": "stream",
     "text": [
      "100%|###################################################################################|175/175[00:05<00:00,31.92it/s]"
     ]
    },
    {
     "name": "stdout",
     "output_type": "stream",
     "text": [
      "\u001b[32m[1019 09:12:18 @base.py:285]\u001b[0m Epoch 1263 (global_step 221025) finished, time:5.48 seconds.\n",
      "\u001b[32m[1019 09:12:18 @saver.py:79]\u001b[0m Model saved to ../output/Chicago/DATGAN_asd29/model\\model-221025.\n"
     ]
    },
    {
     "name": "stderr",
     "output_type": "stream",
     "text": [
      "\n"
     ]
    },
    {
     "name": "stdout",
     "output_type": "stream",
     "text": [
      "\u001b[32m[1019 09:12:19 @monitor.py:467]\u001b[0m GAN_loss/discrim/accuracy_fake: 0.814\n",
      "\u001b[32m[1019 09:12:19 @monitor.py:467]\u001b[0m GAN_loss/discrim/accuracy_real: 0.564\n",
      "\u001b[32m[1019 09:12:19 @monitor.py:467]\u001b[0m GAN_loss/discrim/loss: 0.56225\n",
      "\u001b[32m[1019 09:12:19 @monitor.py:467]\u001b[0m GAN_loss/gen/final-g-loss: 1.68\n",
      "\u001b[32m[1019 09:12:19 @monitor.py:467]\u001b[0m GAN_loss/gen/klloss: 0.10579\n",
      "\u001b[32m[1019 09:12:19 @monitor.py:467]\u001b[0m GAN_loss/gen/loss: 1.5743\n",
      "\u001b[32m[1019 09:12:19 @monitor.py:467]\u001b[0m QueueInput/queue_size: 50\n",
      "\u001b[32m[1019 09:12:19 @base.py:275]\u001b[0m Start Epoch 1264 ...\n"
     ]
    },
    {
     "name": "stderr",
     "output_type": "stream",
     "text": [
      "100%|###################################################################################|175/175[00:05<00:00,31.86it/s]"
     ]
    },
    {
     "name": "stdout",
     "output_type": "stream",
     "text": [
      "\u001b[32m[1019 09:12:24 @base.py:285]\u001b[0m Epoch 1264 (global_step 221200) finished, time:5.49 seconds.\n",
      "\u001b[32m[1019 09:12:24 @saver.py:79]\u001b[0m Model saved to ../output/Chicago/DATGAN_asd29/model\\model-221200.\n"
     ]
    },
    {
     "name": "stderr",
     "output_type": "stream",
     "text": [
      "\n"
     ]
    },
    {
     "name": "stdout",
     "output_type": "stream",
     "text": [
      "\u001b[32m[1019 09:12:24 @monitor.py:467]\u001b[0m GAN_loss/discrim/accuracy_fake: 0.842\n",
      "\u001b[32m[1019 09:12:24 @monitor.py:467]\u001b[0m GAN_loss/discrim/accuracy_real: 0.528\n",
      "\u001b[32m[1019 09:12:24 @monitor.py:467]\u001b[0m GAN_loss/discrim/loss: 0.54733\n",
      "\u001b[32m[1019 09:12:24 @monitor.py:467]\u001b[0m GAN_loss/gen/final-g-loss: 1.6585\n",
      "\u001b[32m[1019 09:12:24 @monitor.py:467]\u001b[0m GAN_loss/gen/klloss: 0.080333\n",
      "\u001b[32m[1019 09:12:24 @monitor.py:467]\u001b[0m GAN_loss/gen/loss: 1.5782\n",
      "\u001b[32m[1019 09:12:24 @monitor.py:467]\u001b[0m QueueInput/queue_size: 50\n",
      "\u001b[32m[1019 09:12:24 @base.py:275]\u001b[0m Start Epoch 1265 ...\n"
     ]
    },
    {
     "name": "stderr",
     "output_type": "stream",
     "text": [
      "100%|###################################################################################|175/175[00:05<00:00,31.94it/s]"
     ]
    },
    {
     "name": "stdout",
     "output_type": "stream",
     "text": [
      "\u001b[32m[1019 09:12:30 @base.py:285]\u001b[0m Epoch 1265 (global_step 221375) finished, time:5.48 seconds.\n",
      "\u001b[32m[1019 09:12:30 @saver.py:79]\u001b[0m Model saved to ../output/Chicago/DATGAN_asd29/model\\model-221375.\n"
     ]
    },
    {
     "name": "stderr",
     "output_type": "stream",
     "text": [
      "\n"
     ]
    },
    {
     "name": "stdout",
     "output_type": "stream",
     "text": [
      "\u001b[32m[1019 09:12:30 @monitor.py:467]\u001b[0m GAN_loss/discrim/accuracy_fake: 0.828\n",
      "\u001b[32m[1019 09:12:30 @monitor.py:467]\u001b[0m GAN_loss/discrim/accuracy_real: 0.544\n",
      "\u001b[32m[1019 09:12:30 @monitor.py:467]\u001b[0m GAN_loss/discrim/loss: 0.56506\n",
      "\u001b[32m[1019 09:12:30 @monitor.py:467]\u001b[0m GAN_loss/gen/final-g-loss: 1.5825\n",
      "\u001b[32m[1019 09:12:30 @monitor.py:467]\u001b[0m GAN_loss/gen/klloss: 0.077056\n",
      "\u001b[32m[1019 09:12:30 @monitor.py:467]\u001b[0m GAN_loss/gen/loss: 1.5054\n",
      "\u001b[32m[1019 09:12:30 @monitor.py:467]\u001b[0m QueueInput/queue_size: 50\n",
      "\u001b[32m[1019 09:12:30 @base.py:275]\u001b[0m Start Epoch 1266 ...\n"
     ]
    },
    {
     "name": "stderr",
     "output_type": "stream",
     "text": [
      "100%|###################################################################################|175/175[00:05<00:00,31.90it/s]"
     ]
    },
    {
     "name": "stdout",
     "output_type": "stream",
     "text": [
      "\u001b[32m[1019 09:12:36 @base.py:285]\u001b[0m Epoch 1266 (global_step 221550) finished, time:5.49 seconds.\n",
      "\u001b[32m[1019 09:12:36 @saver.py:79]\u001b[0m Model saved to ../output/Chicago/DATGAN_asd29/model\\model-221550.\n"
     ]
    },
    {
     "name": "stderr",
     "output_type": "stream",
     "text": [
      "\n"
     ]
    },
    {
     "name": "stdout",
     "output_type": "stream",
     "text": [
      "\u001b[32m[1019 09:12:36 @monitor.py:467]\u001b[0m GAN_loss/discrim/accuracy_fake: 0.808\n",
      "\u001b[32m[1019 09:12:36 @monitor.py:467]\u001b[0m GAN_loss/discrim/accuracy_real: 0.524\n",
      "\u001b[32m[1019 09:12:36 @monitor.py:467]\u001b[0m GAN_loss/discrim/loss: 0.57742\n",
      "\u001b[32m[1019 09:12:36 @monitor.py:467]\u001b[0m GAN_loss/gen/final-g-loss: 1.5229\n",
      "\u001b[32m[1019 09:12:36 @monitor.py:467]\u001b[0m GAN_loss/gen/klloss: 0.08114\n",
      "\u001b[32m[1019 09:12:36 @monitor.py:467]\u001b[0m GAN_loss/gen/loss: 1.4418\n",
      "\u001b[32m[1019 09:12:36 @monitor.py:467]\u001b[0m QueueInput/queue_size: 50\n",
      "\u001b[32m[1019 09:12:36 @base.py:275]\u001b[0m Start Epoch 1267 ...\n"
     ]
    },
    {
     "name": "stderr",
     "output_type": "stream",
     "text": [
      "100%|###################################################################################|175/175[00:05<00:00,31.92it/s]"
     ]
    },
    {
     "name": "stdout",
     "output_type": "stream",
     "text": [
      "\u001b[32m[1019 09:12:41 @base.py:285]\u001b[0m Epoch 1267 (global_step 221725) finished, time:5.48 seconds.\n",
      "\u001b[32m[1019 09:12:41 @saver.py:79]\u001b[0m Model saved to ../output/Chicago/DATGAN_asd29/model\\model-221725.\n"
     ]
    },
    {
     "name": "stderr",
     "output_type": "stream",
     "text": [
      "\n"
     ]
    },
    {
     "name": "stdout",
     "output_type": "stream",
     "text": [
      "\u001b[32m[1019 09:12:42 @monitor.py:467]\u001b[0m GAN_loss/discrim/accuracy_fake: 0.798\n",
      "\u001b[32m[1019 09:12:42 @monitor.py:467]\u001b[0m GAN_loss/discrim/accuracy_real: 0.494\n",
      "\u001b[32m[1019 09:12:42 @monitor.py:467]\u001b[0m GAN_loss/discrim/loss: 0.59065\n",
      "\u001b[32m[1019 09:12:42 @monitor.py:467]\u001b[0m GAN_loss/gen/final-g-loss: 1.4309\n",
      "\u001b[32m[1019 09:12:42 @monitor.py:467]\u001b[0m GAN_loss/gen/klloss: 0.06771\n",
      "\u001b[32m[1019 09:12:42 @monitor.py:467]\u001b[0m GAN_loss/gen/loss: 1.3632\n",
      "\u001b[32m[1019 09:12:42 @monitor.py:467]\u001b[0m QueueInput/queue_size: 50\n",
      "\u001b[32m[1019 09:12:42 @base.py:275]\u001b[0m Start Epoch 1268 ...\n"
     ]
    },
    {
     "name": "stderr",
     "output_type": "stream",
     "text": [
      "100%|###################################################################################|175/175[00:05<00:00,31.87it/s]"
     ]
    },
    {
     "name": "stdout",
     "output_type": "stream",
     "text": [
      "\u001b[32m[1019 09:12:47 @base.py:285]\u001b[0m Epoch 1268 (global_step 221900) finished, time:5.49 seconds.\n",
      "\u001b[32m[1019 09:12:47 @saver.py:79]\u001b[0m Model saved to ../output/Chicago/DATGAN_asd29/model\\model-221900.\n"
     ]
    },
    {
     "name": "stderr",
     "output_type": "stream",
     "text": [
      "\n"
     ]
    },
    {
     "name": "stdout",
     "output_type": "stream",
     "text": [
      "\u001b[32m[1019 09:12:47 @monitor.py:467]\u001b[0m GAN_loss/discrim/accuracy_fake: 0.788\n",
      "\u001b[32m[1019 09:12:47 @monitor.py:467]\u001b[0m GAN_loss/discrim/accuracy_real: 0.368\n",
      "\u001b[32m[1019 09:12:47 @monitor.py:467]\u001b[0m GAN_loss/discrim/loss: 0.61762\n",
      "\u001b[32m[1019 09:12:47 @monitor.py:467]\u001b[0m GAN_loss/gen/final-g-loss: 1.4207\n",
      "\u001b[32m[1019 09:12:47 @monitor.py:467]\u001b[0m GAN_loss/gen/klloss: 0.07292\n",
      "\u001b[32m[1019 09:12:47 @monitor.py:467]\u001b[0m GAN_loss/gen/loss: 1.3478\n",
      "\u001b[32m[1019 09:12:47 @monitor.py:467]\u001b[0m QueueInput/queue_size: 50\n",
      "\u001b[32m[1019 09:12:47 @base.py:275]\u001b[0m Start Epoch 1269 ...\n"
     ]
    },
    {
     "name": "stderr",
     "output_type": "stream",
     "text": [
      "100%|###################################################################################|175/175[00:05<00:00,31.86it/s]"
     ]
    },
    {
     "name": "stdout",
     "output_type": "stream",
     "text": [
      "\u001b[32m[1019 09:12:53 @base.py:285]\u001b[0m Epoch 1269 (global_step 222075) finished, time:5.49 seconds.\n",
      "\u001b[32m[1019 09:12:53 @saver.py:79]\u001b[0m Model saved to ../output/Chicago/DATGAN_asd29/model\\model-222075.\n"
     ]
    },
    {
     "name": "stderr",
     "output_type": "stream",
     "text": [
      "\n"
     ]
    },
    {
     "name": "stdout",
     "output_type": "stream",
     "text": [
      "\u001b[32m[1019 09:12:53 @monitor.py:467]\u001b[0m GAN_loss/discrim/accuracy_fake: 0.8\n",
      "\u001b[32m[1019 09:12:53 @monitor.py:467]\u001b[0m GAN_loss/discrim/accuracy_real: 0.532\n",
      "\u001b[32m[1019 09:12:53 @monitor.py:467]\u001b[0m GAN_loss/discrim/loss: 0.56993\n",
      "\u001b[32m[1019 09:12:53 @monitor.py:467]\u001b[0m GAN_loss/gen/final-g-loss: 1.4494\n",
      "\u001b[32m[1019 09:12:53 @monitor.py:467]\u001b[0m GAN_loss/gen/klloss: 0.071403\n",
      "\u001b[32m[1019 09:12:53 @monitor.py:467]\u001b[0m GAN_loss/gen/loss: 1.378\n",
      "\u001b[32m[1019 09:12:53 @monitor.py:467]\u001b[0m QueueInput/queue_size: 50\n",
      "\u001b[32m[1019 09:12:53 @base.py:275]\u001b[0m Start Epoch 1270 ...\n"
     ]
    },
    {
     "name": "stderr",
     "output_type": "stream",
     "text": [
      "100%|###################################################################################|175/175[00:05<00:00,31.97it/s]"
     ]
    },
    {
     "name": "stdout",
     "output_type": "stream",
     "text": [
      "\u001b[32m[1019 09:12:59 @base.py:285]\u001b[0m Epoch 1270 (global_step 222250) finished, time:5.47 seconds.\n",
      "\u001b[32m[1019 09:12:59 @saver.py:79]\u001b[0m Model saved to ../output/Chicago/DATGAN_asd29/model\\model-222250.\n"
     ]
    },
    {
     "name": "stderr",
     "output_type": "stream",
     "text": [
      "\n"
     ]
    },
    {
     "name": "stdout",
     "output_type": "stream",
     "text": [
      "\u001b[32m[1019 09:12:59 @monitor.py:467]\u001b[0m GAN_loss/discrim/accuracy_fake: 0.826\n",
      "\u001b[32m[1019 09:12:59 @monitor.py:467]\u001b[0m GAN_loss/discrim/accuracy_real: 0.436\n",
      "\u001b[32m[1019 09:12:59 @monitor.py:467]\u001b[0m GAN_loss/discrim/loss: 0.59069\n",
      "\u001b[32m[1019 09:12:59 @monitor.py:467]\u001b[0m GAN_loss/gen/final-g-loss: 1.4739\n",
      "\u001b[32m[1019 09:12:59 @monitor.py:467]\u001b[0m GAN_loss/gen/klloss: 0.070963\n",
      "\u001b[32m[1019 09:12:59 @monitor.py:467]\u001b[0m GAN_loss/gen/loss: 1.4029\n",
      "\u001b[32m[1019 09:12:59 @monitor.py:467]\u001b[0m QueueInput/queue_size: 50\n",
      "\u001b[32m[1019 09:12:59 @base.py:275]\u001b[0m Start Epoch 1271 ...\n"
     ]
    },
    {
     "name": "stderr",
     "output_type": "stream",
     "text": [
      "100%|###################################################################################|175/175[00:05<00:00,31.88it/s]"
     ]
    },
    {
     "name": "stdout",
     "output_type": "stream",
     "text": [
      "\u001b[32m[1019 09:13:05 @base.py:285]\u001b[0m Epoch 1271 (global_step 222425) finished, time:5.49 seconds.\n",
      "\u001b[32m[1019 09:13:05 @saver.py:79]\u001b[0m Model saved to ../output/Chicago/DATGAN_asd29/model\\model-222425.\n"
     ]
    },
    {
     "name": "stderr",
     "output_type": "stream",
     "text": [
      "\n"
     ]
    },
    {
     "name": "stdout",
     "output_type": "stream",
     "text": [
      "\u001b[32m[1019 09:13:05 @monitor.py:467]\u001b[0m GAN_loss/discrim/accuracy_fake: 0.8\n",
      "\u001b[32m[1019 09:13:05 @monitor.py:467]\u001b[0m GAN_loss/discrim/accuracy_real: 0.48\n",
      "\u001b[32m[1019 09:13:05 @monitor.py:467]\u001b[0m GAN_loss/discrim/loss: 0.60236\n",
      "\u001b[32m[1019 09:13:05 @monitor.py:467]\u001b[0m GAN_loss/gen/final-g-loss: 1.4225\n",
      "\u001b[32m[1019 09:13:05 @monitor.py:467]\u001b[0m GAN_loss/gen/klloss: 0.050952\n",
      "\u001b[32m[1019 09:13:05 @monitor.py:467]\u001b[0m GAN_loss/gen/loss: 1.3715\n",
      "\u001b[32m[1019 09:13:05 @monitor.py:467]\u001b[0m QueueInput/queue_size: 50\n",
      "\u001b[32m[1019 09:13:05 @base.py:275]\u001b[0m Start Epoch 1272 ...\n"
     ]
    },
    {
     "name": "stderr",
     "output_type": "stream",
     "text": [
      "100%|###################################################################################|175/175[00:05<00:00,31.91it/s]"
     ]
    },
    {
     "name": "stdout",
     "output_type": "stream",
     "text": [
      "\u001b[32m[1019 09:13:10 @base.py:285]\u001b[0m Epoch 1272 (global_step 222600) finished, time:5.49 seconds.\n",
      "\u001b[32m[1019 09:13:10 @saver.py:79]\u001b[0m Model saved to ../output/Chicago/DATGAN_asd29/model\\model-222600.\n"
     ]
    },
    {
     "name": "stderr",
     "output_type": "stream",
     "text": [
      "\n"
     ]
    },
    {
     "name": "stdout",
     "output_type": "stream",
     "text": [
      "\u001b[32m[1019 09:13:11 @monitor.py:467]\u001b[0m GAN_loss/discrim/accuracy_fake: 0.832\n",
      "\u001b[32m[1019 09:13:11 @monitor.py:467]\u001b[0m GAN_loss/discrim/accuracy_real: 0.454\n",
      "\u001b[32m[1019 09:13:11 @monitor.py:467]\u001b[0m GAN_loss/discrim/loss: 0.58579\n",
      "\u001b[32m[1019 09:13:11 @monitor.py:467]\u001b[0m GAN_loss/gen/final-g-loss: 1.5071\n",
      "\u001b[32m[1019 09:13:11 @monitor.py:467]\u001b[0m GAN_loss/gen/klloss: 0.065037\n",
      "\u001b[32m[1019 09:13:11 @monitor.py:467]\u001b[0m GAN_loss/gen/loss: 1.4421\n",
      "\u001b[32m[1019 09:13:11 @monitor.py:467]\u001b[0m QueueInput/queue_size: 50\n",
      "\u001b[32m[1019 09:13:11 @base.py:275]\u001b[0m Start Epoch 1273 ...\n"
     ]
    },
    {
     "name": "stderr",
     "output_type": "stream",
     "text": [
      "100%|###################################################################################|175/175[00:05<00:00,31.86it/s]"
     ]
    },
    {
     "name": "stdout",
     "output_type": "stream",
     "text": [
      "\u001b[32m[1019 09:13:16 @base.py:285]\u001b[0m Epoch 1273 (global_step 222775) finished, time:5.49 seconds.\n",
      "\u001b[32m[1019 09:13:16 @saver.py:79]\u001b[0m Model saved to ../output/Chicago/DATGAN_asd29/model\\model-222775.\n"
     ]
    },
    {
     "name": "stderr",
     "output_type": "stream",
     "text": [
      "\n"
     ]
    },
    {
     "name": "stdout",
     "output_type": "stream",
     "text": [
      "\u001b[32m[1019 09:13:16 @monitor.py:467]\u001b[0m GAN_loss/discrim/accuracy_fake: 0.79\n",
      "\u001b[32m[1019 09:13:16 @monitor.py:467]\u001b[0m GAN_loss/discrim/accuracy_real: 0.516\n",
      "\u001b[32m[1019 09:13:16 @monitor.py:467]\u001b[0m GAN_loss/discrim/loss: 0.5918\n",
      "\u001b[32m[1019 09:13:16 @monitor.py:467]\u001b[0m GAN_loss/gen/final-g-loss: 1.4467\n",
      "\u001b[32m[1019 09:13:16 @monitor.py:467]\u001b[0m GAN_loss/gen/klloss: 0.05802\n",
      "\u001b[32m[1019 09:13:16 @monitor.py:467]\u001b[0m GAN_loss/gen/loss: 1.3887\n",
      "\u001b[32m[1019 09:13:16 @monitor.py:467]\u001b[0m QueueInput/queue_size: 50\n",
      "\u001b[32m[1019 09:13:16 @base.py:275]\u001b[0m Start Epoch 1274 ...\n"
     ]
    },
    {
     "name": "stderr",
     "output_type": "stream",
     "text": [
      "100%|###################################################################################|175/175[00:05<00:00,31.92it/s]"
     ]
    },
    {
     "name": "stdout",
     "output_type": "stream",
     "text": [
      "\u001b[32m[1019 09:13:22 @base.py:285]\u001b[0m Epoch 1274 (global_step 222950) finished, time:5.48 seconds.\n",
      "\u001b[32m[1019 09:13:22 @saver.py:79]\u001b[0m Model saved to ../output/Chicago/DATGAN_asd29/model\\model-222950.\n"
     ]
    },
    {
     "name": "stderr",
     "output_type": "stream",
     "text": [
      "\n"
     ]
    },
    {
     "name": "stdout",
     "output_type": "stream",
     "text": [
      "\u001b[32m[1019 09:13:22 @monitor.py:467]\u001b[0m GAN_loss/discrim/accuracy_fake: 0.816\n",
      "\u001b[32m[1019 09:13:22 @monitor.py:467]\u001b[0m GAN_loss/discrim/accuracy_real: 0.496\n",
      "\u001b[32m[1019 09:13:22 @monitor.py:467]\u001b[0m GAN_loss/discrim/loss: 0.59463\n",
      "\u001b[32m[1019 09:13:22 @monitor.py:467]\u001b[0m GAN_loss/gen/final-g-loss: 1.4524\n",
      "\u001b[32m[1019 09:13:22 @monitor.py:467]\u001b[0m GAN_loss/gen/klloss: 0.073254\n",
      "\u001b[32m[1019 09:13:22 @monitor.py:467]\u001b[0m GAN_loss/gen/loss: 1.3792\n",
      "\u001b[32m[1019 09:13:22 @monitor.py:467]\u001b[0m QueueInput/queue_size: 50\n",
      "\u001b[32m[1019 09:13:22 @base.py:275]\u001b[0m Start Epoch 1275 ...\n"
     ]
    },
    {
     "name": "stderr",
     "output_type": "stream",
     "text": [
      "100%|###################################################################################|175/175[00:05<00:00,31.84it/s]"
     ]
    },
    {
     "name": "stdout",
     "output_type": "stream",
     "text": [
      "\u001b[32m[1019 09:13:28 @base.py:285]\u001b[0m Epoch 1275 (global_step 223125) finished, time:5.5 seconds.\n",
      "\u001b[32m[1019 09:13:28 @saver.py:79]\u001b[0m Model saved to ../output/Chicago/DATGAN_asd29/model\\model-223125.\n"
     ]
    },
    {
     "name": "stderr",
     "output_type": "stream",
     "text": [
      "\n"
     ]
    },
    {
     "name": "stdout",
     "output_type": "stream",
     "text": [
      "\u001b[32m[1019 09:13:28 @monitor.py:467]\u001b[0m GAN_loss/discrim/accuracy_fake: 0.814\n",
      "\u001b[32m[1019 09:13:28 @monitor.py:467]\u001b[0m GAN_loss/discrim/accuracy_real: 0.526\n",
      "\u001b[32m[1019 09:13:28 @monitor.py:467]\u001b[0m GAN_loss/discrim/loss: 0.57466\n",
      "\u001b[32m[1019 09:13:28 @monitor.py:467]\u001b[0m GAN_loss/gen/final-g-loss: 1.4812\n",
      "\u001b[32m[1019 09:13:28 @monitor.py:467]\u001b[0m GAN_loss/gen/klloss: 0.067841\n",
      "\u001b[32m[1019 09:13:28 @monitor.py:467]\u001b[0m GAN_loss/gen/loss: 1.4133\n",
      "\u001b[32m[1019 09:13:28 @monitor.py:467]\u001b[0m QueueInput/queue_size: 50\n",
      "\u001b[32m[1019 09:13:28 @base.py:275]\u001b[0m Start Epoch 1276 ...\n"
     ]
    },
    {
     "name": "stderr",
     "output_type": "stream",
     "text": [
      "100%|###################################################################################|175/175[00:05<00:00,31.93it/s]"
     ]
    },
    {
     "name": "stdout",
     "output_type": "stream",
     "text": [
      "\u001b[32m[1019 09:13:33 @base.py:285]\u001b[0m Epoch 1276 (global_step 223300) finished, time:5.48 seconds.\n",
      "\u001b[32m[1019 09:13:33 @saver.py:79]\u001b[0m Model saved to ../output/Chicago/DATGAN_asd29/model\\model-223300.\n"
     ]
    },
    {
     "name": "stderr",
     "output_type": "stream",
     "text": [
      "\n"
     ]
    },
    {
     "name": "stdout",
     "output_type": "stream",
     "text": [
      "\u001b[32m[1019 09:13:34 @monitor.py:467]\u001b[0m GAN_loss/discrim/accuracy_fake: 0.806\n",
      "\u001b[32m[1019 09:13:34 @monitor.py:467]\u001b[0m GAN_loss/discrim/accuracy_real: 0.566\n",
      "\u001b[32m[1019 09:13:34 @monitor.py:467]\u001b[0m GAN_loss/discrim/loss: 0.55432\n",
      "\u001b[32m[1019 09:13:34 @monitor.py:467]\u001b[0m GAN_loss/gen/final-g-loss: 1.5759\n",
      "\u001b[32m[1019 09:13:34 @monitor.py:467]\u001b[0m GAN_loss/gen/klloss: 0.085938\n",
      "\u001b[32m[1019 09:13:34 @monitor.py:467]\u001b[0m GAN_loss/gen/loss: 1.4899\n",
      "\u001b[32m[1019 09:13:34 @monitor.py:467]\u001b[0m QueueInput/queue_size: 50\n",
      "\u001b[32m[1019 09:13:34 @base.py:275]\u001b[0m Start Epoch 1277 ...\n"
     ]
    },
    {
     "name": "stderr",
     "output_type": "stream",
     "text": [
      "100%|###################################################################################|175/175[00:05<00:00,31.87it/s]"
     ]
    },
    {
     "name": "stdout",
     "output_type": "stream",
     "text": [
      "\u001b[32m[1019 09:13:39 @base.py:285]\u001b[0m Epoch 1277 (global_step 223475) finished, time:5.49 seconds.\n",
      "\u001b[32m[1019 09:13:39 @saver.py:79]\u001b[0m Model saved to ../output/Chicago/DATGAN_asd29/model\\model-223475.\n"
     ]
    },
    {
     "name": "stderr",
     "output_type": "stream",
     "text": [
      "\n"
     ]
    },
    {
     "name": "stdout",
     "output_type": "stream",
     "text": [
      "\u001b[32m[1019 09:13:39 @monitor.py:467]\u001b[0m GAN_loss/discrim/accuracy_fake: 0.796\n",
      "\u001b[32m[1019 09:13:39 @monitor.py:467]\u001b[0m GAN_loss/discrim/accuracy_real: 0.522\n",
      "\u001b[32m[1019 09:13:39 @monitor.py:467]\u001b[0m GAN_loss/discrim/loss: 0.56976\n",
      "\u001b[32m[1019 09:13:39 @monitor.py:467]\u001b[0m GAN_loss/gen/final-g-loss: 1.5487\n",
      "\u001b[32m[1019 09:13:39 @monitor.py:467]\u001b[0m GAN_loss/gen/klloss: 0.086505\n",
      "\u001b[32m[1019 09:13:39 @monitor.py:467]\u001b[0m GAN_loss/gen/loss: 1.4622\n",
      "\u001b[32m[1019 09:13:39 @monitor.py:467]\u001b[0m QueueInput/queue_size: 50\n",
      "\u001b[32m[1019 09:13:39 @base.py:275]\u001b[0m Start Epoch 1278 ...\n"
     ]
    },
    {
     "name": "stderr",
     "output_type": "stream",
     "text": [
      "100%|###################################################################################|175/175[00:05<00:00,31.93it/s]"
     ]
    },
    {
     "name": "stdout",
     "output_type": "stream",
     "text": [
      "\u001b[32m[1019 09:13:45 @base.py:285]\u001b[0m Epoch 1278 (global_step 223650) finished, time:5.48 seconds.\n",
      "\u001b[32m[1019 09:13:45 @saver.py:79]\u001b[0m Model saved to ../output/Chicago/DATGAN_asd29/model\\model-223650.\n"
     ]
    },
    {
     "name": "stderr",
     "output_type": "stream",
     "text": [
      "\n"
     ]
    },
    {
     "name": "stdout",
     "output_type": "stream",
     "text": [
      "\u001b[32m[1019 09:13:45 @monitor.py:467]\u001b[0m GAN_loss/discrim/accuracy_fake: 0.85\n",
      "\u001b[32m[1019 09:13:45 @monitor.py:467]\u001b[0m GAN_loss/discrim/accuracy_real: 0.518\n",
      "\u001b[32m[1019 09:13:45 @monitor.py:467]\u001b[0m GAN_loss/discrim/loss: 0.5759\n",
      "\u001b[32m[1019 09:13:45 @monitor.py:467]\u001b[0m GAN_loss/gen/final-g-loss: 1.5444\n",
      "\u001b[32m[1019 09:13:45 @monitor.py:467]\u001b[0m GAN_loss/gen/klloss: 0.07007\n",
      "\u001b[32m[1019 09:13:45 @monitor.py:467]\u001b[0m GAN_loss/gen/loss: 1.4744\n",
      "\u001b[32m[1019 09:13:45 @monitor.py:467]\u001b[0m QueueInput/queue_size: 50\n",
      "\u001b[32m[1019 09:13:45 @base.py:275]\u001b[0m Start Epoch 1279 ...\n"
     ]
    },
    {
     "name": "stderr",
     "output_type": "stream",
     "text": [
      "100%|###################################################################################|175/175[00:05<00:00,31.89it/s]"
     ]
    },
    {
     "name": "stdout",
     "output_type": "stream",
     "text": [
      "\u001b[32m[1019 09:13:51 @base.py:285]\u001b[0m Epoch 1279 (global_step 223825) finished, time:5.49 seconds.\n",
      "\u001b[32m[1019 09:13:51 @saver.py:79]\u001b[0m Model saved to ../output/Chicago/DATGAN_asd29/model\\model-223825.\n"
     ]
    },
    {
     "name": "stderr",
     "output_type": "stream",
     "text": [
      "\n"
     ]
    },
    {
     "name": "stdout",
     "output_type": "stream",
     "text": [
      "\u001b[32m[1019 09:13:51 @monitor.py:467]\u001b[0m GAN_loss/discrim/accuracy_fake: 0.846\n",
      "\u001b[32m[1019 09:13:51 @monitor.py:467]\u001b[0m GAN_loss/discrim/accuracy_real: 0.51\n",
      "\u001b[32m[1019 09:13:51 @monitor.py:467]\u001b[0m GAN_loss/discrim/loss: 0.56901\n",
      "\u001b[32m[1019 09:13:51 @monitor.py:467]\u001b[0m GAN_loss/gen/final-g-loss: 1.5389\n",
      "\u001b[32m[1019 09:13:51 @monitor.py:467]\u001b[0m GAN_loss/gen/klloss: 0.056384\n",
      "\u001b[32m[1019 09:13:51 @monitor.py:467]\u001b[0m GAN_loss/gen/loss: 1.4825\n",
      "\u001b[32m[1019 09:13:51 @monitor.py:467]\u001b[0m QueueInput/queue_size: 50\n",
      "\u001b[32m[1019 09:13:51 @base.py:275]\u001b[0m Start Epoch 1280 ...\n"
     ]
    },
    {
     "name": "stderr",
     "output_type": "stream",
     "text": [
      "100%|###################################################################################|175/175[00:05<00:00,31.92it/s]"
     ]
    },
    {
     "name": "stdout",
     "output_type": "stream",
     "text": [
      "\u001b[32m[1019 09:13:57 @base.py:285]\u001b[0m Epoch 1280 (global_step 224000) finished, time:5.48 seconds.\n",
      "\u001b[32m[1019 09:13:57 @saver.py:79]\u001b[0m Model saved to ../output/Chicago/DATGAN_asd29/model\\model-224000.\n"
     ]
    },
    {
     "name": "stderr",
     "output_type": "stream",
     "text": [
      "\n"
     ]
    },
    {
     "name": "stdout",
     "output_type": "stream",
     "text": [
      "\u001b[32m[1019 09:13:57 @monitor.py:467]\u001b[0m GAN_loss/discrim/accuracy_fake: 0.826\n",
      "\u001b[32m[1019 09:13:57 @monitor.py:467]\u001b[0m GAN_loss/discrim/accuracy_real: 0.476\n",
      "\u001b[32m[1019 09:13:57 @monitor.py:467]\u001b[0m GAN_loss/discrim/loss: 0.57665\n",
      "\u001b[32m[1019 09:13:57 @monitor.py:467]\u001b[0m GAN_loss/gen/final-g-loss: 1.4736\n",
      "\u001b[32m[1019 09:13:57 @monitor.py:467]\u001b[0m GAN_loss/gen/klloss: 0.062998\n",
      "\u001b[32m[1019 09:13:57 @monitor.py:467]\u001b[0m GAN_loss/gen/loss: 1.4106\n",
      "\u001b[32m[1019 09:13:57 @monitor.py:467]\u001b[0m QueueInput/queue_size: 50\n",
      "\u001b[32m[1019 09:13:57 @base.py:275]\u001b[0m Start Epoch 1281 ...\n"
     ]
    },
    {
     "name": "stderr",
     "output_type": "stream",
     "text": [
      "100%|###################################################################################|175/175[00:05<00:00,31.91it/s]"
     ]
    },
    {
     "name": "stdout",
     "output_type": "stream",
     "text": [
      "\u001b[32m[1019 09:14:02 @base.py:285]\u001b[0m Epoch 1281 (global_step 224175) finished, time:5.49 seconds.\n",
      "\u001b[32m[1019 09:14:02 @saver.py:79]\u001b[0m Model saved to ../output/Chicago/DATGAN_asd29/model\\model-224175.\n"
     ]
    },
    {
     "name": "stderr",
     "output_type": "stream",
     "text": [
      "\n"
     ]
    },
    {
     "name": "stdout",
     "output_type": "stream",
     "text": [
      "\u001b[32m[1019 09:14:03 @monitor.py:467]\u001b[0m GAN_loss/discrim/accuracy_fake: 0.802\n",
      "\u001b[32m[1019 09:14:03 @monitor.py:467]\u001b[0m GAN_loss/discrim/accuracy_real: 0.568\n",
      "\u001b[32m[1019 09:14:03 @monitor.py:467]\u001b[0m GAN_loss/discrim/loss: 0.56385\n",
      "\u001b[32m[1019 09:14:03 @monitor.py:467]\u001b[0m GAN_loss/gen/final-g-loss: 1.4839\n",
      "\u001b[32m[1019 09:14:03 @monitor.py:467]\u001b[0m GAN_loss/gen/klloss: 0.078541\n",
      "\u001b[32m[1019 09:14:03 @monitor.py:467]\u001b[0m GAN_loss/gen/loss: 1.4054\n",
      "\u001b[32m[1019 09:14:03 @monitor.py:467]\u001b[0m QueueInput/queue_size: 50\n",
      "\u001b[32m[1019 09:14:03 @base.py:275]\u001b[0m Start Epoch 1282 ...\n"
     ]
    },
    {
     "name": "stderr",
     "output_type": "stream",
     "text": [
      "100%|###################################################################################|175/175[00:05<00:00,31.92it/s]"
     ]
    },
    {
     "name": "stdout",
     "output_type": "stream",
     "text": [
      "\u001b[32m[1019 09:14:08 @base.py:285]\u001b[0m Epoch 1282 (global_step 224350) finished, time:5.48 seconds.\n",
      "\u001b[32m[1019 09:14:08 @saver.py:79]\u001b[0m Model saved to ../output/Chicago/DATGAN_asd29/model\\model-224350.\n"
     ]
    },
    {
     "name": "stderr",
     "output_type": "stream",
     "text": [
      "\n"
     ]
    },
    {
     "name": "stdout",
     "output_type": "stream",
     "text": [
      "\u001b[32m[1019 09:14:08 @monitor.py:467]\u001b[0m GAN_loss/discrim/accuracy_fake: 0.806\n",
      "\u001b[32m[1019 09:14:08 @monitor.py:467]\u001b[0m GAN_loss/discrim/accuracy_real: 0.496\n",
      "\u001b[32m[1019 09:14:08 @monitor.py:467]\u001b[0m GAN_loss/discrim/loss: 0.57913\n",
      "\u001b[32m[1019 09:14:08 @monitor.py:467]\u001b[0m GAN_loss/gen/final-g-loss: 1.5667\n",
      "\u001b[32m[1019 09:14:08 @monitor.py:467]\u001b[0m GAN_loss/gen/klloss: 0.084975\n",
      "\u001b[32m[1019 09:14:08 @monitor.py:467]\u001b[0m GAN_loss/gen/loss: 1.4818\n",
      "\u001b[32m[1019 09:14:08 @monitor.py:467]\u001b[0m QueueInput/queue_size: 50\n",
      "\u001b[32m[1019 09:14:08 @base.py:275]\u001b[0m Start Epoch 1283 ...\n"
     ]
    },
    {
     "name": "stderr",
     "output_type": "stream",
     "text": [
      "100%|###################################################################################|175/175[00:05<00:00,31.90it/s]"
     ]
    },
    {
     "name": "stdout",
     "output_type": "stream",
     "text": [
      "\u001b[32m[1019 09:14:14 @base.py:285]\u001b[0m Epoch 1283 (global_step 224525) finished, time:5.49 seconds.\n",
      "\u001b[32m[1019 09:14:14 @saver.py:79]\u001b[0m Model saved to ../output/Chicago/DATGAN_asd29/model\\model-224525.\n"
     ]
    },
    {
     "name": "stderr",
     "output_type": "stream",
     "text": [
      "\n"
     ]
    },
    {
     "name": "stdout",
     "output_type": "stream",
     "text": [
      "\u001b[32m[1019 09:14:14 @monitor.py:467]\u001b[0m GAN_loss/discrim/accuracy_fake: 0.808\n",
      "\u001b[32m[1019 09:14:14 @monitor.py:467]\u001b[0m GAN_loss/discrim/accuracy_real: 0.566\n",
      "\u001b[32m[1019 09:14:14 @monitor.py:467]\u001b[0m GAN_loss/discrim/loss: 0.55723\n",
      "\u001b[32m[1019 09:14:14 @monitor.py:467]\u001b[0m GAN_loss/gen/final-g-loss: 1.5666\n",
      "\u001b[32m[1019 09:14:14 @monitor.py:467]\u001b[0m GAN_loss/gen/klloss: 0.083787\n",
      "\u001b[32m[1019 09:14:14 @monitor.py:467]\u001b[0m GAN_loss/gen/loss: 1.4828\n",
      "\u001b[32m[1019 09:14:14 @monitor.py:467]\u001b[0m QueueInput/queue_size: 50\n",
      "\u001b[32m[1019 09:14:14 @base.py:275]\u001b[0m Start Epoch 1284 ...\n"
     ]
    },
    {
     "name": "stderr",
     "output_type": "stream",
     "text": [
      "100%|###################################################################################|175/175[00:05<00:00,31.92it/s]"
     ]
    },
    {
     "name": "stdout",
     "output_type": "stream",
     "text": [
      "\u001b[32m[1019 09:14:20 @base.py:285]\u001b[0m Epoch 1284 (global_step 224700) finished, time:5.48 seconds.\n",
      "\u001b[32m[1019 09:14:20 @saver.py:79]\u001b[0m Model saved to ../output/Chicago/DATGAN_asd29/model\\model-224700.\n"
     ]
    },
    {
     "name": "stderr",
     "output_type": "stream",
     "text": [
      "\n"
     ]
    },
    {
     "name": "stdout",
     "output_type": "stream",
     "text": [
      "\u001b[32m[1019 09:14:20 @monitor.py:467]\u001b[0m GAN_loss/discrim/accuracy_fake: 0.792\n",
      "\u001b[32m[1019 09:14:20 @monitor.py:467]\u001b[0m GAN_loss/discrim/accuracy_real: 0.56\n",
      "\u001b[32m[1019 09:14:20 @monitor.py:467]\u001b[0m GAN_loss/discrim/loss: 0.54232\n",
      "\u001b[32m[1019 09:14:20 @monitor.py:467]\u001b[0m GAN_loss/gen/final-g-loss: 1.7623\n",
      "\u001b[32m[1019 09:14:20 @monitor.py:467]\u001b[0m GAN_loss/gen/klloss: 0.17963\n",
      "\u001b[32m[1019 09:14:20 @monitor.py:467]\u001b[0m GAN_loss/gen/loss: 1.5826\n",
      "\u001b[32m[1019 09:14:20 @monitor.py:467]\u001b[0m QueueInput/queue_size: 50\n",
      "\u001b[32m[1019 09:14:20 @base.py:275]\u001b[0m Start Epoch 1285 ...\n"
     ]
    },
    {
     "name": "stderr",
     "output_type": "stream",
     "text": [
      "100%|###################################################################################|175/175[00:05<00:00,31.89it/s]"
     ]
    },
    {
     "name": "stdout",
     "output_type": "stream",
     "text": [
      "\u001b[32m[1019 09:14:25 @base.py:285]\u001b[0m Epoch 1285 (global_step 224875) finished, time:5.49 seconds.\n",
      "\u001b[32m[1019 09:14:26 @saver.py:79]\u001b[0m Model saved to ../output/Chicago/DATGAN_asd29/model\\model-224875.\n"
     ]
    },
    {
     "name": "stderr",
     "output_type": "stream",
     "text": [
      "\n"
     ]
    },
    {
     "name": "stdout",
     "output_type": "stream",
     "text": [
      "\u001b[32m[1019 09:14:26 @monitor.py:467]\u001b[0m GAN_loss/discrim/accuracy_fake: 0.78\n",
      "\u001b[32m[1019 09:14:26 @monitor.py:467]\u001b[0m GAN_loss/discrim/accuracy_real: 0.58\n",
      "\u001b[32m[1019 09:14:26 @monitor.py:467]\u001b[0m GAN_loss/discrim/loss: 0.55724\n",
      "\u001b[32m[1019 09:14:26 @monitor.py:467]\u001b[0m GAN_loss/gen/final-g-loss: 1.6581\n",
      "\u001b[32m[1019 09:14:26 @monitor.py:467]\u001b[0m GAN_loss/gen/klloss: 0.081524\n",
      "\u001b[32m[1019 09:14:26 @monitor.py:467]\u001b[0m GAN_loss/gen/loss: 1.5766\n",
      "\u001b[32m[1019 09:14:26 @monitor.py:467]\u001b[0m QueueInput/queue_size: 50\n",
      "\u001b[32m[1019 09:14:26 @base.py:275]\u001b[0m Start Epoch 1286 ...\n"
     ]
    },
    {
     "name": "stderr",
     "output_type": "stream",
     "text": [
      "100%|###################################################################################|175/175[00:05<00:00,31.88it/s]"
     ]
    },
    {
     "name": "stdout",
     "output_type": "stream",
     "text": [
      "\u001b[32m[1019 09:14:31 @base.py:285]\u001b[0m Epoch 1286 (global_step 225050) finished, time:5.49 seconds.\n",
      "\u001b[32m[1019 09:14:31 @saver.py:79]\u001b[0m Model saved to ../output/Chicago/DATGAN_asd29/model\\model-225050.\n"
     ]
    },
    {
     "name": "stderr",
     "output_type": "stream",
     "text": [
      "\n"
     ]
    },
    {
     "name": "stdout",
     "output_type": "stream",
     "text": [
      "\u001b[32m[1019 09:14:32 @monitor.py:467]\u001b[0m GAN_loss/discrim/accuracy_fake: 0.794\n",
      "\u001b[32m[1019 09:14:32 @monitor.py:467]\u001b[0m GAN_loss/discrim/accuracy_real: 0.56\n",
      "\u001b[32m[1019 09:14:32 @monitor.py:467]\u001b[0m GAN_loss/discrim/loss: 0.57816\n",
      "\u001b[32m[1019 09:14:32 @monitor.py:467]\u001b[0m GAN_loss/gen/final-g-loss: 1.6177\n",
      "\u001b[32m[1019 09:14:32 @monitor.py:467]\u001b[0m GAN_loss/gen/klloss: 0.068846\n",
      "\u001b[32m[1019 09:14:32 @monitor.py:467]\u001b[0m GAN_loss/gen/loss: 1.5489\n",
      "\u001b[32m[1019 09:14:32 @monitor.py:467]\u001b[0m QueueInput/queue_size: 50\n",
      "\u001b[32m[1019 09:14:32 @base.py:275]\u001b[0m Start Epoch 1287 ...\n"
     ]
    },
    {
     "name": "stderr",
     "output_type": "stream",
     "text": [
      "100%|###################################################################################|175/175[00:05<00:00,31.87it/s]"
     ]
    },
    {
     "name": "stdout",
     "output_type": "stream",
     "text": [
      "\u001b[32m[1019 09:14:37 @base.py:285]\u001b[0m Epoch 1287 (global_step 225225) finished, time:5.49 seconds.\n",
      "\u001b[32m[1019 09:14:37 @saver.py:79]\u001b[0m Model saved to ../output/Chicago/DATGAN_asd29/model\\model-225225.\n"
     ]
    },
    {
     "name": "stderr",
     "output_type": "stream",
     "text": [
      "\n"
     ]
    },
    {
     "name": "stdout",
     "output_type": "stream",
     "text": [
      "\u001b[32m[1019 09:14:37 @monitor.py:467]\u001b[0m GAN_loss/discrim/accuracy_fake: 0.788\n",
      "\u001b[32m[1019 09:14:37 @monitor.py:467]\u001b[0m GAN_loss/discrim/accuracy_real: 0.5\n",
      "\u001b[32m[1019 09:14:37 @monitor.py:467]\u001b[0m GAN_loss/discrim/loss: 0.59035\n",
      "\u001b[32m[1019 09:14:37 @monitor.py:467]\u001b[0m GAN_loss/gen/final-g-loss: 1.5972\n",
      "\u001b[32m[1019 09:14:37 @monitor.py:467]\u001b[0m GAN_loss/gen/klloss: 0.088095\n",
      "\u001b[32m[1019 09:14:37 @monitor.py:467]\u001b[0m GAN_loss/gen/loss: 1.5091\n",
      "\u001b[32m[1019 09:14:37 @monitor.py:467]\u001b[0m QueueInput/queue_size: 50\n",
      "\u001b[32m[1019 09:14:37 @base.py:275]\u001b[0m Start Epoch 1288 ...\n"
     ]
    },
    {
     "name": "stderr",
     "output_type": "stream",
     "text": [
      "100%|###################################################################################|175/175[00:05<00:00,31.89it/s]"
     ]
    },
    {
     "name": "stdout",
     "output_type": "stream",
     "text": [
      "\u001b[32m[1019 09:14:43 @base.py:285]\u001b[0m Epoch 1288 (global_step 225400) finished, time:5.49 seconds.\n",
      "\u001b[32m[1019 09:14:43 @saver.py:79]\u001b[0m Model saved to ../output/Chicago/DATGAN_asd29/model\\model-225400.\n"
     ]
    },
    {
     "name": "stderr",
     "output_type": "stream",
     "text": [
      "\n"
     ]
    },
    {
     "name": "stdout",
     "output_type": "stream",
     "text": [
      "\u001b[32m[1019 09:14:43 @monitor.py:467]\u001b[0m GAN_loss/discrim/accuracy_fake: 0.802\n",
      "\u001b[32m[1019 09:14:43 @monitor.py:467]\u001b[0m GAN_loss/discrim/accuracy_real: 0.578\n",
      "\u001b[32m[1019 09:14:43 @monitor.py:467]\u001b[0m GAN_loss/discrim/loss: 0.54935\n",
      "\u001b[32m[1019 09:14:43 @monitor.py:467]\u001b[0m GAN_loss/gen/final-g-loss: 1.675\n",
      "\u001b[32m[1019 09:14:43 @monitor.py:467]\u001b[0m GAN_loss/gen/klloss: 0.076093\n",
      "\u001b[32m[1019 09:14:43 @monitor.py:467]\u001b[0m GAN_loss/gen/loss: 1.5989\n",
      "\u001b[32m[1019 09:14:43 @monitor.py:467]\u001b[0m QueueInput/queue_size: 50\n",
      "\u001b[32m[1019 09:14:43 @base.py:275]\u001b[0m Start Epoch 1289 ...\n"
     ]
    },
    {
     "name": "stderr",
     "output_type": "stream",
     "text": [
      "100%|###################################################################################|175/175[00:05<00:00,31.92it/s]"
     ]
    },
    {
     "name": "stdout",
     "output_type": "stream",
     "text": [
      "\u001b[32m[1019 09:14:49 @base.py:285]\u001b[0m Epoch 1289 (global_step 225575) finished, time:5.48 seconds.\n",
      "\u001b[32m[1019 09:14:49 @saver.py:79]\u001b[0m Model saved to ../output/Chicago/DATGAN_asd29/model\\model-225575.\n"
     ]
    },
    {
     "name": "stderr",
     "output_type": "stream",
     "text": [
      "\n"
     ]
    },
    {
     "name": "stdout",
     "output_type": "stream",
     "text": [
      "\u001b[32m[1019 09:14:49 @monitor.py:467]\u001b[0m GAN_loss/discrim/accuracy_fake: 0.798\n",
      "\u001b[32m[1019 09:14:49 @monitor.py:467]\u001b[0m GAN_loss/discrim/accuracy_real: 0.554\n",
      "\u001b[32m[1019 09:14:49 @monitor.py:467]\u001b[0m GAN_loss/discrim/loss: 0.55548\n",
      "\u001b[32m[1019 09:14:49 @monitor.py:467]\u001b[0m GAN_loss/gen/final-g-loss: 1.6481\n",
      "\u001b[32m[1019 09:14:49 @monitor.py:467]\u001b[0m GAN_loss/gen/klloss: 0.084778\n",
      "\u001b[32m[1019 09:14:49 @monitor.py:467]\u001b[0m GAN_loss/gen/loss: 1.5633\n",
      "\u001b[32m[1019 09:14:49 @monitor.py:467]\u001b[0m QueueInput/queue_size: 50\n",
      "\u001b[32m[1019 09:14:49 @base.py:275]\u001b[0m Start Epoch 1290 ...\n"
     ]
    },
    {
     "name": "stderr",
     "output_type": "stream",
     "text": [
      "100%|###################################################################################|175/175[00:05<00:00,31.87it/s]"
     ]
    },
    {
     "name": "stdout",
     "output_type": "stream",
     "text": [
      "\u001b[32m[1019 09:14:54 @base.py:285]\u001b[0m Epoch 1290 (global_step 225750) finished, time:5.49 seconds.\n",
      "\u001b[32m[1019 09:14:54 @saver.py:79]\u001b[0m Model saved to ../output/Chicago/DATGAN_asd29/model\\model-225750.\n"
     ]
    },
    {
     "name": "stderr",
     "output_type": "stream",
     "text": [
      "\n"
     ]
    },
    {
     "name": "stdout",
     "output_type": "stream",
     "text": [
      "\u001b[32m[1019 09:14:55 @monitor.py:467]\u001b[0m GAN_loss/discrim/accuracy_fake: 0.816\n",
      "\u001b[32m[1019 09:14:55 @monitor.py:467]\u001b[0m GAN_loss/discrim/accuracy_real: 0.552\n",
      "\u001b[32m[1019 09:14:55 @monitor.py:467]\u001b[0m GAN_loss/discrim/loss: 0.55161\n",
      "\u001b[32m[1019 09:14:55 @monitor.py:467]\u001b[0m GAN_loss/gen/final-g-loss: 1.7144\n",
      "\u001b[32m[1019 09:14:55 @monitor.py:467]\u001b[0m GAN_loss/gen/klloss: 0.10636\n",
      "\u001b[32m[1019 09:14:55 @monitor.py:467]\u001b[0m GAN_loss/gen/loss: 1.6081\n",
      "\u001b[32m[1019 09:14:55 @monitor.py:467]\u001b[0m QueueInput/queue_size: 50\n",
      "\u001b[32m[1019 09:14:55 @base.py:275]\u001b[0m Start Epoch 1291 ...\n"
     ]
    },
    {
     "name": "stderr",
     "output_type": "stream",
     "text": [
      "100%|###################################################################################|175/175[00:05<00:00,31.92it/s]"
     ]
    },
    {
     "name": "stdout",
     "output_type": "stream",
     "text": [
      "\u001b[32m[1019 09:15:00 @base.py:285]\u001b[0m Epoch 1291 (global_step 225925) finished, time:5.48 seconds.\n",
      "\u001b[32m[1019 09:15:00 @saver.py:79]\u001b[0m Model saved to ../output/Chicago/DATGAN_asd29/model\\model-225925.\n"
     ]
    },
    {
     "name": "stderr",
     "output_type": "stream",
     "text": [
      "\n"
     ]
    },
    {
     "name": "stdout",
     "output_type": "stream",
     "text": [
      "\u001b[32m[1019 09:15:00 @monitor.py:467]\u001b[0m GAN_loss/discrim/accuracy_fake: 0.834\n",
      "\u001b[32m[1019 09:15:00 @monitor.py:467]\u001b[0m GAN_loss/discrim/accuracy_real: 0.536\n",
      "\u001b[32m[1019 09:15:00 @monitor.py:467]\u001b[0m GAN_loss/discrim/loss: 0.54912\n",
      "\u001b[32m[1019 09:15:00 @monitor.py:467]\u001b[0m GAN_loss/gen/final-g-loss: 1.737\n",
      "\u001b[32m[1019 09:15:00 @monitor.py:467]\u001b[0m GAN_loss/gen/klloss: 0.1115\n",
      "\u001b[32m[1019 09:15:00 @monitor.py:467]\u001b[0m GAN_loss/gen/loss: 1.6255\n",
      "\u001b[32m[1019 09:15:00 @monitor.py:467]\u001b[0m QueueInput/queue_size: 50\n",
      "\u001b[32m[1019 09:15:00 @base.py:275]\u001b[0m Start Epoch 1292 ...\n"
     ]
    },
    {
     "name": "stderr",
     "output_type": "stream",
     "text": [
      "100%|###################################################################################|175/175[00:05<00:00,31.88it/s]"
     ]
    },
    {
     "name": "stdout",
     "output_type": "stream",
     "text": [
      "\u001b[32m[1019 09:15:06 @base.py:285]\u001b[0m Epoch 1292 (global_step 226100) finished, time:5.49 seconds.\n",
      "\u001b[32m[1019 09:15:06 @saver.py:79]\u001b[0m Model saved to ../output/Chicago/DATGAN_asd29/model\\model-226100.\n"
     ]
    },
    {
     "name": "stderr",
     "output_type": "stream",
     "text": [
      "\n"
     ]
    },
    {
     "name": "stdout",
     "output_type": "stream",
     "text": [
      "\u001b[32m[1019 09:15:06 @monitor.py:467]\u001b[0m GAN_loss/discrim/accuracy_fake: 0.802\n",
      "\u001b[32m[1019 09:15:06 @monitor.py:467]\u001b[0m GAN_loss/discrim/accuracy_real: 0.478\n",
      "\u001b[32m[1019 09:15:06 @monitor.py:467]\u001b[0m GAN_loss/discrim/loss: 0.59443\n",
      "\u001b[32m[1019 09:15:06 @monitor.py:467]\u001b[0m GAN_loss/gen/final-g-loss: 1.6615\n",
      "\u001b[32m[1019 09:15:06 @monitor.py:467]\u001b[0m GAN_loss/gen/klloss: 0.094977\n",
      "\u001b[32m[1019 09:15:06 @monitor.py:467]\u001b[0m GAN_loss/gen/loss: 1.5666\n",
      "\u001b[32m[1019 09:15:06 @monitor.py:467]\u001b[0m QueueInput/queue_size: 50\n",
      "\u001b[32m[1019 09:15:06 @base.py:275]\u001b[0m Start Epoch 1293 ...\n"
     ]
    },
    {
     "name": "stderr",
     "output_type": "stream",
     "text": [
      "100%|###################################################################################|175/175[00:05<00:00,31.88it/s]"
     ]
    },
    {
     "name": "stdout",
     "output_type": "stream",
     "text": [
      "\u001b[32m[1019 09:15:12 @base.py:285]\u001b[0m Epoch 1293 (global_step 226275) finished, time:5.49 seconds.\n",
      "\u001b[32m[1019 09:15:12 @saver.py:79]\u001b[0m Model saved to ../output/Chicago/DATGAN_asd29/model\\model-226275.\n"
     ]
    },
    {
     "name": "stderr",
     "output_type": "stream",
     "text": [
      "\n"
     ]
    },
    {
     "name": "stdout",
     "output_type": "stream",
     "text": [
      "\u001b[32m[1019 09:15:12 @monitor.py:467]\u001b[0m GAN_loss/discrim/accuracy_fake: 0.858\n",
      "\u001b[32m[1019 09:15:12 @monitor.py:467]\u001b[0m GAN_loss/discrim/accuracy_real: 0.592\n",
      "\u001b[32m[1019 09:15:12 @monitor.py:467]\u001b[0m GAN_loss/discrim/loss: 0.51784\n",
      "\u001b[32m[1019 09:15:12 @monitor.py:467]\u001b[0m GAN_loss/gen/final-g-loss: 1.7824\n",
      "\u001b[32m[1019 09:15:12 @monitor.py:467]\u001b[0m GAN_loss/gen/klloss: 0.14799\n",
      "\u001b[32m[1019 09:15:12 @monitor.py:467]\u001b[0m GAN_loss/gen/loss: 1.6344\n",
      "\u001b[32m[1019 09:15:12 @monitor.py:467]\u001b[0m QueueInput/queue_size: 50\n",
      "\u001b[32m[1019 09:15:12 @base.py:275]\u001b[0m Start Epoch 1294 ...\n"
     ]
    },
    {
     "name": "stderr",
     "output_type": "stream",
     "text": [
      "100%|###################################################################################|175/175[00:05<00:00,31.89it/s]"
     ]
    },
    {
     "name": "stdout",
     "output_type": "stream",
     "text": [
      "\u001b[32m[1019 09:15:18 @base.py:285]\u001b[0m Epoch 1294 (global_step 226450) finished, time:5.49 seconds.\n",
      "\u001b[32m[1019 09:15:18 @saver.py:79]\u001b[0m Model saved to ../output/Chicago/DATGAN_asd29/model\\model-226450.\n"
     ]
    },
    {
     "name": "stderr",
     "output_type": "stream",
     "text": [
      "\n"
     ]
    },
    {
     "name": "stdout",
     "output_type": "stream",
     "text": [
      "\u001b[32m[1019 09:15:18 @monitor.py:467]\u001b[0m GAN_loss/discrim/accuracy_fake: 0.81\n",
      "\u001b[32m[1019 09:15:18 @monitor.py:467]\u001b[0m GAN_loss/discrim/accuracy_real: 0.532\n",
      "\u001b[32m[1019 09:15:18 @monitor.py:467]\u001b[0m GAN_loss/discrim/loss: 0.56765\n",
      "\u001b[32m[1019 09:15:18 @monitor.py:467]\u001b[0m GAN_loss/gen/final-g-loss: 1.6629\n",
      "\u001b[32m[1019 09:15:18 @monitor.py:467]\u001b[0m GAN_loss/gen/klloss: 0.10444\n",
      "\u001b[32m[1019 09:15:18 @monitor.py:467]\u001b[0m GAN_loss/gen/loss: 1.5585\n",
      "\u001b[32m[1019 09:15:18 @monitor.py:467]\u001b[0m QueueInput/queue_size: 50\n",
      "\u001b[32m[1019 09:15:18 @base.py:275]\u001b[0m Start Epoch 1295 ...\n"
     ]
    },
    {
     "name": "stderr",
     "output_type": "stream",
     "text": [
      "100%|###################################################################################|175/175[00:05<00:00,31.90it/s]"
     ]
    },
    {
     "name": "stdout",
     "output_type": "stream",
     "text": [
      "\u001b[32m[1019 09:15:23 @base.py:285]\u001b[0m Epoch 1295 (global_step 226625) finished, time:5.49 seconds.\n",
      "\u001b[32m[1019 09:15:23 @saver.py:79]\u001b[0m Model saved to ../output/Chicago/DATGAN_asd29/model\\model-226625.\n"
     ]
    },
    {
     "name": "stderr",
     "output_type": "stream",
     "text": [
      "\n"
     ]
    },
    {
     "name": "stdout",
     "output_type": "stream",
     "text": [
      "\u001b[32m[1019 09:15:24 @monitor.py:467]\u001b[0m GAN_loss/discrim/accuracy_fake: 0.874\n",
      "\u001b[32m[1019 09:15:24 @monitor.py:467]\u001b[0m GAN_loss/discrim/accuracy_real: 0.606\n",
      "\u001b[32m[1019 09:15:24 @monitor.py:467]\u001b[0m GAN_loss/discrim/loss: 0.4983\n",
      "\u001b[32m[1019 09:15:24 @monitor.py:467]\u001b[0m GAN_loss/gen/final-g-loss: 1.9313\n",
      "\u001b[32m[1019 09:15:24 @monitor.py:467]\u001b[0m GAN_loss/gen/klloss: 0.11445\n",
      "\u001b[32m[1019 09:15:24 @monitor.py:467]\u001b[0m GAN_loss/gen/loss: 1.8169\n",
      "\u001b[32m[1019 09:15:24 @monitor.py:467]\u001b[0m QueueInput/queue_size: 50\n",
      "\u001b[32m[1019 09:15:24 @base.py:275]\u001b[0m Start Epoch 1296 ...\n"
     ]
    },
    {
     "name": "stderr",
     "output_type": "stream",
     "text": [
      "100%|###################################################################################|175/175[00:05<00:00,31.87it/s]"
     ]
    },
    {
     "name": "stdout",
     "output_type": "stream",
     "text": [
      "\u001b[32m[1019 09:15:29 @base.py:285]\u001b[0m Epoch 1296 (global_step 226800) finished, time:5.49 seconds.\n",
      "\u001b[32m[1019 09:15:29 @saver.py:79]\u001b[0m Model saved to ../output/Chicago/DATGAN_asd29/model\\model-226800.\n"
     ]
    },
    {
     "name": "stderr",
     "output_type": "stream",
     "text": [
      "\n"
     ]
    },
    {
     "name": "stdout",
     "output_type": "stream",
     "text": [
      "\u001b[32m[1019 09:15:29 @monitor.py:467]\u001b[0m GAN_loss/discrim/accuracy_fake: 0.766\n",
      "\u001b[32m[1019 09:15:29 @monitor.py:467]\u001b[0m GAN_loss/discrim/accuracy_real: 0.492\n",
      "\u001b[32m[1019 09:15:29 @monitor.py:467]\u001b[0m GAN_loss/discrim/loss: 0.60634\n",
      "\u001b[32m[1019 09:15:29 @monitor.py:467]\u001b[0m GAN_loss/gen/final-g-loss: 1.5386\n",
      "\u001b[32m[1019 09:15:29 @monitor.py:467]\u001b[0m GAN_loss/gen/klloss: 0.048912\n",
      "\u001b[32m[1019 09:15:29 @monitor.py:467]\u001b[0m GAN_loss/gen/loss: 1.4896\n",
      "\u001b[32m[1019 09:15:29 @monitor.py:467]\u001b[0m QueueInput/queue_size: 50\n",
      "\u001b[32m[1019 09:15:29 @base.py:275]\u001b[0m Start Epoch 1297 ...\n"
     ]
    },
    {
     "name": "stderr",
     "output_type": "stream",
     "text": [
      "100%|###################################################################################|175/175[00:05<00:00,31.92it/s]"
     ]
    },
    {
     "name": "stdout",
     "output_type": "stream",
     "text": [
      "\u001b[32m[1019 09:15:35 @base.py:285]\u001b[0m Epoch 1297 (global_step 226975) finished, time:5.48 seconds.\n",
      "\u001b[32m[1019 09:15:35 @saver.py:79]\u001b[0m Model saved to ../output/Chicago/DATGAN_asd29/model\\model-226975.\n"
     ]
    },
    {
     "name": "stderr",
     "output_type": "stream",
     "text": [
      "\n"
     ]
    },
    {
     "name": "stdout",
     "output_type": "stream",
     "text": [
      "\u001b[32m[1019 09:15:35 @monitor.py:467]\u001b[0m GAN_loss/discrim/accuracy_fake: 0.778\n",
      "\u001b[32m[1019 09:15:35 @monitor.py:467]\u001b[0m GAN_loss/discrim/accuracy_real: 0.528\n",
      "\u001b[32m[1019 09:15:35 @monitor.py:467]\u001b[0m GAN_loss/discrim/loss: 0.5861\n",
      "\u001b[32m[1019 09:15:35 @monitor.py:467]\u001b[0m GAN_loss/gen/final-g-loss: 1.4741\n",
      "\u001b[32m[1019 09:15:35 @monitor.py:467]\u001b[0m GAN_loss/gen/klloss: 0.050489\n",
      "\u001b[32m[1019 09:15:35 @monitor.py:467]\u001b[0m GAN_loss/gen/loss: 1.4236\n",
      "\u001b[32m[1019 09:15:35 @monitor.py:467]\u001b[0m QueueInput/queue_size: 50\n",
      "\u001b[32m[1019 09:15:35 @base.py:275]\u001b[0m Start Epoch 1298 ...\n"
     ]
    },
    {
     "name": "stderr",
     "output_type": "stream",
     "text": [
      "100%|###################################################################################|175/175[00:05<00:00,31.86it/s]"
     ]
    },
    {
     "name": "stdout",
     "output_type": "stream",
     "text": [
      "\u001b[32m[1019 09:15:41 @base.py:285]\u001b[0m Epoch 1298 (global_step 227150) finished, time:5.49 seconds.\n",
      "\u001b[32m[1019 09:15:41 @saver.py:79]\u001b[0m Model saved to ../output/Chicago/DATGAN_asd29/model\\model-227150.\n"
     ]
    },
    {
     "name": "stderr",
     "output_type": "stream",
     "text": [
      "\n"
     ]
    },
    {
     "name": "stdout",
     "output_type": "stream",
     "text": [
      "\u001b[32m[1019 09:15:41 @monitor.py:467]\u001b[0m GAN_loss/discrim/accuracy_fake: 0.782\n",
      "\u001b[32m[1019 09:15:41 @monitor.py:467]\u001b[0m GAN_loss/discrim/accuracy_real: 0.468\n",
      "\u001b[32m[1019 09:15:41 @monitor.py:467]\u001b[0m GAN_loss/discrim/loss: 0.62101\n",
      "\u001b[32m[1019 09:15:41 @monitor.py:467]\u001b[0m GAN_loss/gen/final-g-loss: 1.4105\n",
      "\u001b[32m[1019 09:15:41 @monitor.py:467]\u001b[0m GAN_loss/gen/klloss: 0.075884\n",
      "\u001b[32m[1019 09:15:41 @monitor.py:467]\u001b[0m GAN_loss/gen/loss: 1.3346\n",
      "\u001b[32m[1019 09:15:41 @monitor.py:467]\u001b[0m QueueInput/queue_size: 50\n",
      "\u001b[32m[1019 09:15:41 @base.py:275]\u001b[0m Start Epoch 1299 ...\n"
     ]
    },
    {
     "name": "stderr",
     "output_type": "stream",
     "text": [
      "100%|###################################################################################|175/175[00:05<00:00,31.94it/s]"
     ]
    },
    {
     "name": "stdout",
     "output_type": "stream",
     "text": [
      "\u001b[32m[1019 09:15:46 @base.py:285]\u001b[0m Epoch 1299 (global_step 227325) finished, time:5.48 seconds.\n",
      "\u001b[32m[1019 09:15:47 @saver.py:79]\u001b[0m Model saved to ../output/Chicago/DATGAN_asd29/model\\model-227325.\n"
     ]
    },
    {
     "name": "stderr",
     "output_type": "stream",
     "text": [
      "\n"
     ]
    },
    {
     "name": "stdout",
     "output_type": "stream",
     "text": [
      "\u001b[32m[1019 09:15:47 @monitor.py:467]\u001b[0m GAN_loss/discrim/accuracy_fake: 0.8\n",
      "\u001b[32m[1019 09:15:47 @monitor.py:467]\u001b[0m GAN_loss/discrim/accuracy_real: 0.422\n",
      "\u001b[32m[1019 09:15:47 @monitor.py:467]\u001b[0m GAN_loss/discrim/loss: 0.62057\n",
      "\u001b[32m[1019 09:15:47 @monitor.py:467]\u001b[0m GAN_loss/gen/final-g-loss: 1.3872\n",
      "\u001b[32m[1019 09:15:47 @monitor.py:467]\u001b[0m GAN_loss/gen/klloss: 0.045521\n",
      "\u001b[32m[1019 09:15:47 @monitor.py:467]\u001b[0m GAN_loss/gen/loss: 1.3417\n",
      "\u001b[32m[1019 09:15:47 @monitor.py:467]\u001b[0m QueueInput/queue_size: 50\n",
      "\u001b[32m[1019 09:15:47 @base.py:275]\u001b[0m Start Epoch 1300 ...\n"
     ]
    },
    {
     "name": "stderr",
     "output_type": "stream",
     "text": [
      "100%|###################################################################################|175/175[00:05<00:00,31.90it/s]"
     ]
    },
    {
     "name": "stdout",
     "output_type": "stream",
     "text": [
      "\u001b[32m[1019 09:15:52 @base.py:285]\u001b[0m Epoch 1300 (global_step 227500) finished, time:5.49 seconds.\n",
      "\u001b[32m[1019 09:15:52 @saver.py:79]\u001b[0m Model saved to ../output/Chicago/DATGAN_asd29/model\\model-227500.\n"
     ]
    },
    {
     "name": "stderr",
     "output_type": "stream",
     "text": [
      "\n"
     ]
    },
    {
     "name": "stdout",
     "output_type": "stream",
     "text": [
      "\u001b[32m[1019 09:15:53 @monitor.py:467]\u001b[0m GAN_loss/discrim/accuracy_fake: 0.832\n",
      "\u001b[32m[1019 09:15:53 @monitor.py:467]\u001b[0m GAN_loss/discrim/accuracy_real: 0.47\n",
      "\u001b[32m[1019 09:15:53 @monitor.py:467]\u001b[0m GAN_loss/discrim/loss: 0.57934\n",
      "\u001b[32m[1019 09:15:53 @monitor.py:467]\u001b[0m GAN_loss/gen/final-g-loss: 1.4983\n",
      "\u001b[32m[1019 09:15:53 @monitor.py:467]\u001b[0m GAN_loss/gen/klloss: 0.067246\n",
      "\u001b[32m[1019 09:15:53 @monitor.py:467]\u001b[0m GAN_loss/gen/loss: 1.4311\n",
      "\u001b[32m[1019 09:15:53 @monitor.py:467]\u001b[0m QueueInput/queue_size: 50\n",
      "\u001b[32m[1019 09:15:53 @base.py:275]\u001b[0m Start Epoch 1301 ...\n"
     ]
    },
    {
     "name": "stderr",
     "output_type": "stream",
     "text": [
      "100%|###################################################################################|175/175[00:05<00:00,31.91it/s]"
     ]
    },
    {
     "name": "stdout",
     "output_type": "stream",
     "text": [
      "\u001b[32m[1019 09:15:58 @base.py:285]\u001b[0m Epoch 1301 (global_step 227675) finished, time:5.49 seconds.\n",
      "\u001b[32m[1019 09:15:58 @saver.py:79]\u001b[0m Model saved to ../output/Chicago/DATGAN_asd29/model\\model-227675.\n"
     ]
    },
    {
     "name": "stderr",
     "output_type": "stream",
     "text": [
      "\n"
     ]
    },
    {
     "name": "stdout",
     "output_type": "stream",
     "text": [
      "\u001b[32m[1019 09:15:58 @monitor.py:467]\u001b[0m GAN_loss/discrim/accuracy_fake: 0.804\n",
      "\u001b[32m[1019 09:15:58 @monitor.py:467]\u001b[0m GAN_loss/discrim/accuracy_real: 0.462\n",
      "\u001b[32m[1019 09:15:58 @monitor.py:467]\u001b[0m GAN_loss/discrim/loss: 0.59175\n",
      "\u001b[32m[1019 09:15:58 @monitor.py:467]\u001b[0m GAN_loss/gen/final-g-loss: 1.4772\n",
      "\u001b[32m[1019 09:15:58 @monitor.py:467]\u001b[0m GAN_loss/gen/klloss: 0.091457\n",
      "\u001b[32m[1019 09:15:58 @monitor.py:467]\u001b[0m GAN_loss/gen/loss: 1.3857\n",
      "\u001b[32m[1019 09:15:58 @monitor.py:467]\u001b[0m QueueInput/queue_size: 50\n",
      "\u001b[32m[1019 09:15:58 @base.py:275]\u001b[0m Start Epoch 1302 ...\n"
     ]
    },
    {
     "name": "stderr",
     "output_type": "stream",
     "text": [
      "100%|###################################################################################|175/175[00:05<00:00,31.85it/s]"
     ]
    },
    {
     "name": "stdout",
     "output_type": "stream",
     "text": [
      "\u001b[32m[1019 09:16:04 @base.py:285]\u001b[0m Epoch 1302 (global_step 227850) finished, time:5.49 seconds.\n",
      "\u001b[32m[1019 09:16:04 @saver.py:79]\u001b[0m Model saved to ../output/Chicago/DATGAN_asd29/model\\model-227850.\n"
     ]
    },
    {
     "name": "stderr",
     "output_type": "stream",
     "text": [
      "\n"
     ]
    },
    {
     "name": "stdout",
     "output_type": "stream",
     "text": [
      "\u001b[32m[1019 09:16:04 @monitor.py:467]\u001b[0m GAN_loss/discrim/accuracy_fake: 0.824\n",
      "\u001b[32m[1019 09:16:04 @monitor.py:467]\u001b[0m GAN_loss/discrim/accuracy_real: 0.416\n",
      "\u001b[32m[1019 09:16:04 @monitor.py:467]\u001b[0m GAN_loss/discrim/loss: 0.59407\n",
      "\u001b[32m[1019 09:16:04 @monitor.py:467]\u001b[0m GAN_loss/gen/final-g-loss: 1.4893\n",
      "\u001b[32m[1019 09:16:04 @monitor.py:467]\u001b[0m GAN_loss/gen/klloss: 0.057503\n",
      "\u001b[32m[1019 09:16:04 @monitor.py:467]\u001b[0m GAN_loss/gen/loss: 1.4318\n",
      "\u001b[32m[1019 09:16:04 @monitor.py:467]\u001b[0m QueueInput/queue_size: 50\n",
      "\u001b[32m[1019 09:16:04 @base.py:275]\u001b[0m Start Epoch 1303 ...\n"
     ]
    },
    {
     "name": "stderr",
     "output_type": "stream",
     "text": [
      "100%|###################################################################################|175/175[00:05<00:00,31.91it/s]"
     ]
    },
    {
     "name": "stdout",
     "output_type": "stream",
     "text": [
      "\u001b[32m[1019 09:16:10 @base.py:285]\u001b[0m Epoch 1303 (global_step 228025) finished, time:5.48 seconds.\n",
      "\u001b[32m[1019 09:16:10 @saver.py:79]\u001b[0m Model saved to ../output/Chicago/DATGAN_asd29/model\\model-228025.\n"
     ]
    },
    {
     "name": "stderr",
     "output_type": "stream",
     "text": [
      "\n"
     ]
    },
    {
     "name": "stdout",
     "output_type": "stream",
     "text": [
      "\u001b[32m[1019 09:16:10 @monitor.py:467]\u001b[0m GAN_loss/discrim/accuracy_fake: 0.782\n",
      "\u001b[32m[1019 09:16:10 @monitor.py:467]\u001b[0m GAN_loss/discrim/accuracy_real: 0.428\n",
      "\u001b[32m[1019 09:16:10 @monitor.py:467]\u001b[0m GAN_loss/discrim/loss: 0.62578\n",
      "\u001b[32m[1019 09:16:10 @monitor.py:467]\u001b[0m GAN_loss/gen/final-g-loss: 1.4031\n",
      "\u001b[32m[1019 09:16:10 @monitor.py:467]\u001b[0m GAN_loss/gen/klloss: 0.07486\n",
      "\u001b[32m[1019 09:16:10 @monitor.py:467]\u001b[0m GAN_loss/gen/loss: 1.3283\n",
      "\u001b[32m[1019 09:16:10 @monitor.py:467]\u001b[0m QueueInput/queue_size: 50\n",
      "\u001b[32m[1019 09:16:10 @base.py:275]\u001b[0m Start Epoch 1304 ...\n"
     ]
    },
    {
     "name": "stderr",
     "output_type": "stream",
     "text": [
      "100%|###################################################################################|175/175[00:05<00:00,31.88it/s]"
     ]
    },
    {
     "name": "stdout",
     "output_type": "stream",
     "text": [
      "\u001b[32m[1019 09:16:15 @base.py:285]\u001b[0m Epoch 1304 (global_step 228200) finished, time:5.49 seconds.\n",
      "\u001b[32m[1019 09:16:15 @saver.py:79]\u001b[0m Model saved to ../output/Chicago/DATGAN_asd29/model\\model-228200.\n"
     ]
    },
    {
     "name": "stderr",
     "output_type": "stream",
     "text": [
      "\n"
     ]
    },
    {
     "name": "stdout",
     "output_type": "stream",
     "text": [
      "\u001b[32m[1019 09:16:16 @monitor.py:467]\u001b[0m GAN_loss/discrim/accuracy_fake: 0.794\n",
      "\u001b[32m[1019 09:16:16 @monitor.py:467]\u001b[0m GAN_loss/discrim/accuracy_real: 0.498\n",
      "\u001b[32m[1019 09:16:16 @monitor.py:467]\u001b[0m GAN_loss/discrim/loss: 0.61107\n",
      "\u001b[32m[1019 09:16:16 @monitor.py:467]\u001b[0m GAN_loss/gen/final-g-loss: 1.3758\n",
      "\u001b[32m[1019 09:16:16 @monitor.py:467]\u001b[0m GAN_loss/gen/klloss: 0.060141\n",
      "\u001b[32m[1019 09:16:16 @monitor.py:467]\u001b[0m GAN_loss/gen/loss: 1.3156\n",
      "\u001b[32m[1019 09:16:16 @monitor.py:467]\u001b[0m QueueInput/queue_size: 50\n",
      "\u001b[32m[1019 09:16:16 @base.py:275]\u001b[0m Start Epoch 1305 ...\n"
     ]
    },
    {
     "name": "stderr",
     "output_type": "stream",
     "text": [
      "100%|###################################################################################|175/175[00:05<00:00,31.91it/s]"
     ]
    },
    {
     "name": "stdout",
     "output_type": "stream",
     "text": [
      "\u001b[32m[1019 09:16:21 @base.py:285]\u001b[0m Epoch 1305 (global_step 228375) finished, time:5.48 seconds.\n",
      "\u001b[32m[1019 09:16:21 @saver.py:79]\u001b[0m Model saved to ../output/Chicago/DATGAN_asd29/model\\model-228375.\n"
     ]
    },
    {
     "name": "stderr",
     "output_type": "stream",
     "text": [
      "\n"
     ]
    },
    {
     "name": "stdout",
     "output_type": "stream",
     "text": [
      "\u001b[32m[1019 09:16:21 @monitor.py:467]\u001b[0m GAN_loss/discrim/accuracy_fake: 0.824\n",
      "\u001b[32m[1019 09:16:21 @monitor.py:467]\u001b[0m GAN_loss/discrim/accuracy_real: 0.504\n",
      "\u001b[32m[1019 09:16:21 @monitor.py:467]\u001b[0m GAN_loss/discrim/loss: 0.57576\n",
      "\u001b[32m[1019 09:16:21 @monitor.py:467]\u001b[0m GAN_loss/gen/final-g-loss: 1.4808\n",
      "\u001b[32m[1019 09:16:21 @monitor.py:467]\u001b[0m GAN_loss/gen/klloss: 0.060063\n",
      "\u001b[32m[1019 09:16:21 @monitor.py:467]\u001b[0m GAN_loss/gen/loss: 1.4208\n",
      "\u001b[32m[1019 09:16:21 @monitor.py:467]\u001b[0m QueueInput/queue_size: 50\n",
      "\u001b[32m[1019 09:16:21 @base.py:275]\u001b[0m Start Epoch 1306 ...\n"
     ]
    },
    {
     "name": "stderr",
     "output_type": "stream",
     "text": [
      "100%|###################################################################################|175/175[00:05<00:00,31.90it/s]"
     ]
    },
    {
     "name": "stdout",
     "output_type": "stream",
     "text": [
      "\u001b[32m[1019 09:16:27 @base.py:285]\u001b[0m Epoch 1306 (global_step 228550) finished, time:5.49 seconds.\n",
      "\u001b[32m[1019 09:16:27 @saver.py:79]\u001b[0m Model saved to ../output/Chicago/DATGAN_asd29/model\\model-228550.\n"
     ]
    },
    {
     "name": "stderr",
     "output_type": "stream",
     "text": [
      "\n"
     ]
    },
    {
     "name": "stdout",
     "output_type": "stream",
     "text": [
      "\u001b[32m[1019 09:16:27 @monitor.py:467]\u001b[0m GAN_loss/discrim/accuracy_fake: 0.848\n",
      "\u001b[32m[1019 09:16:27 @monitor.py:467]\u001b[0m GAN_loss/discrim/accuracy_real: 0.54\n",
      "\u001b[32m[1019 09:16:27 @monitor.py:467]\u001b[0m GAN_loss/discrim/loss: 0.53426\n",
      "\u001b[32m[1019 09:16:27 @monitor.py:467]\u001b[0m GAN_loss/gen/final-g-loss: 1.5969\n",
      "\u001b[32m[1019 09:16:27 @monitor.py:467]\u001b[0m GAN_loss/gen/klloss: 0.098675\n",
      "\u001b[32m[1019 09:16:27 @monitor.py:467]\u001b[0m GAN_loss/gen/loss: 1.4982\n",
      "\u001b[32m[1019 09:16:27 @monitor.py:467]\u001b[0m QueueInput/queue_size: 50\n",
      "\u001b[32m[1019 09:16:27 @base.py:275]\u001b[0m Start Epoch 1307 ...\n"
     ]
    },
    {
     "name": "stderr",
     "output_type": "stream",
     "text": [
      "100%|###################################################################################|175/175[00:05<00:00,31.92it/s]"
     ]
    },
    {
     "name": "stdout",
     "output_type": "stream",
     "text": [
      "\u001b[32m[1019 09:16:33 @base.py:285]\u001b[0m Epoch 1307 (global_step 228725) finished, time:5.48 seconds.\n",
      "\u001b[32m[1019 09:16:33 @saver.py:79]\u001b[0m Model saved to ../output/Chicago/DATGAN_asd29/model\\model-228725.\n"
     ]
    },
    {
     "name": "stderr",
     "output_type": "stream",
     "text": [
      "\n"
     ]
    },
    {
     "name": "stdout",
     "output_type": "stream",
     "text": [
      "\u001b[32m[1019 09:16:33 @monitor.py:467]\u001b[0m GAN_loss/discrim/accuracy_fake: 0.862\n",
      "\u001b[32m[1019 09:16:33 @monitor.py:467]\u001b[0m GAN_loss/discrim/accuracy_real: 0.472\n",
      "\u001b[32m[1019 09:16:33 @monitor.py:467]\u001b[0m GAN_loss/discrim/loss: 0.56635\n",
      "\u001b[32m[1019 09:16:33 @monitor.py:467]\u001b[0m GAN_loss/gen/final-g-loss: 1.5313\n",
      "\u001b[32m[1019 09:16:33 @monitor.py:467]\u001b[0m GAN_loss/gen/klloss: 0.060837\n",
      "\u001b[32m[1019 09:16:33 @monitor.py:467]\u001b[0m GAN_loss/gen/loss: 1.4705\n",
      "\u001b[32m[1019 09:16:33 @monitor.py:467]\u001b[0m QueueInput/queue_size: 50\n",
      "\u001b[32m[1019 09:16:33 @base.py:275]\u001b[0m Start Epoch 1308 ...\n"
     ]
    },
    {
     "name": "stderr",
     "output_type": "stream",
     "text": [
      "100%|###################################################################################|175/175[00:05<00:00,31.94it/s]"
     ]
    },
    {
     "name": "stdout",
     "output_type": "stream",
     "text": [
      "\u001b[32m[1019 09:16:39 @base.py:285]\u001b[0m Epoch 1308 (global_step 228900) finished, time:5.48 seconds.\n",
      "\u001b[32m[1019 09:16:39 @saver.py:79]\u001b[0m Model saved to ../output/Chicago/DATGAN_asd29/model\\model-228900.\n"
     ]
    },
    {
     "name": "stderr",
     "output_type": "stream",
     "text": [
      "\n"
     ]
    },
    {
     "name": "stdout",
     "output_type": "stream",
     "text": [
      "\u001b[32m[1019 09:16:39 @monitor.py:467]\u001b[0m GAN_loss/discrim/accuracy_fake: 0.802\n",
      "\u001b[32m[1019 09:16:39 @monitor.py:467]\u001b[0m GAN_loss/discrim/accuracy_real: 0.454\n",
      "\u001b[32m[1019 09:16:39 @monitor.py:467]\u001b[0m GAN_loss/discrim/loss: 0.59519\n",
      "\u001b[32m[1019 09:16:39 @monitor.py:467]\u001b[0m GAN_loss/gen/final-g-loss: 1.4938\n",
      "\u001b[32m[1019 09:16:39 @monitor.py:467]\u001b[0m GAN_loss/gen/klloss: 0.072883\n",
      "\u001b[32m[1019 09:16:39 @monitor.py:467]\u001b[0m GAN_loss/gen/loss: 1.421\n",
      "\u001b[32m[1019 09:16:39 @monitor.py:467]\u001b[0m QueueInput/queue_size: 50\n",
      "\u001b[32m[1019 09:16:39 @base.py:275]\u001b[0m Start Epoch 1309 ...\n"
     ]
    },
    {
     "name": "stderr",
     "output_type": "stream",
     "text": [
      "100%|###################################################################################|175/175[00:05<00:00,31.87it/s]"
     ]
    },
    {
     "name": "stdout",
     "output_type": "stream",
     "text": [
      "\u001b[32m[1019 09:16:44 @base.py:285]\u001b[0m Epoch 1309 (global_step 229075) finished, time:5.49 seconds.\n",
      "\u001b[32m[1019 09:16:44 @saver.py:79]\u001b[0m Model saved to ../output/Chicago/DATGAN_asd29/model\\model-229075.\n"
     ]
    },
    {
     "name": "stderr",
     "output_type": "stream",
     "text": [
      "\n"
     ]
    },
    {
     "name": "stdout",
     "output_type": "stream",
     "text": [
      "\u001b[32m[1019 09:16:45 @monitor.py:467]\u001b[0m GAN_loss/discrim/accuracy_fake: 0.82\n",
      "\u001b[32m[1019 09:16:45 @monitor.py:467]\u001b[0m GAN_loss/discrim/accuracy_real: 0.522\n",
      "\u001b[32m[1019 09:16:45 @monitor.py:467]\u001b[0m GAN_loss/discrim/loss: 0.58065\n",
      "\u001b[32m[1019 09:16:45 @monitor.py:467]\u001b[0m GAN_loss/gen/final-g-loss: 1.4867\n",
      "\u001b[32m[1019 09:16:45 @monitor.py:467]\u001b[0m GAN_loss/gen/klloss: 0.10966\n",
      "\u001b[32m[1019 09:16:45 @monitor.py:467]\u001b[0m GAN_loss/gen/loss: 1.3771\n",
      "\u001b[32m[1019 09:16:45 @monitor.py:467]\u001b[0m QueueInput/queue_size: 50\n",
      "\u001b[32m[1019 09:16:45 @base.py:275]\u001b[0m Start Epoch 1310 ...\n"
     ]
    },
    {
     "name": "stderr",
     "output_type": "stream",
     "text": [
      "100%|###################################################################################|175/175[00:05<00:00,31.93it/s]"
     ]
    },
    {
     "name": "stdout",
     "output_type": "stream",
     "text": [
      "\u001b[32m[1019 09:16:50 @base.py:285]\u001b[0m Epoch 1310 (global_step 229250) finished, time:5.48 seconds.\n",
      "\u001b[32m[1019 09:16:50 @saver.py:79]\u001b[0m Model saved to ../output/Chicago/DATGAN_asd29/model\\model-229250.\n"
     ]
    },
    {
     "name": "stderr",
     "output_type": "stream",
     "text": [
      "\n"
     ]
    },
    {
     "name": "stdout",
     "output_type": "stream",
     "text": [
      "\u001b[32m[1019 09:16:50 @monitor.py:467]\u001b[0m GAN_loss/discrim/accuracy_fake: 0.84\n",
      "\u001b[32m[1019 09:16:50 @monitor.py:467]\u001b[0m GAN_loss/discrim/accuracy_real: 0.522\n",
      "\u001b[32m[1019 09:16:50 @monitor.py:467]\u001b[0m GAN_loss/discrim/loss: 0.55323\n",
      "\u001b[32m[1019 09:16:50 @monitor.py:467]\u001b[0m GAN_loss/gen/final-g-loss: 1.6117\n",
      "\u001b[32m[1019 09:16:50 @monitor.py:467]\u001b[0m GAN_loss/gen/klloss: 0.10284\n",
      "\u001b[32m[1019 09:16:50 @monitor.py:467]\u001b[0m GAN_loss/gen/loss: 1.5089\n",
      "\u001b[32m[1019 09:16:50 @monitor.py:467]\u001b[0m QueueInput/queue_size: 50\n",
      "\u001b[32m[1019 09:16:50 @base.py:275]\u001b[0m Start Epoch 1311 ...\n"
     ]
    },
    {
     "name": "stderr",
     "output_type": "stream",
     "text": [
      "100%|###################################################################################|175/175[00:05<00:00,31.87it/s]"
     ]
    },
    {
     "name": "stdout",
     "output_type": "stream",
     "text": [
      "\u001b[32m[1019 09:16:56 @base.py:285]\u001b[0m Epoch 1311 (global_step 229425) finished, time:5.49 seconds.\n",
      "\u001b[32m[1019 09:16:56 @saver.py:79]\u001b[0m Model saved to ../output/Chicago/DATGAN_asd29/model\\model-229425.\n"
     ]
    },
    {
     "name": "stderr",
     "output_type": "stream",
     "text": [
      "\n"
     ]
    },
    {
     "name": "stdout",
     "output_type": "stream",
     "text": [
      "\u001b[32m[1019 09:16:56 @monitor.py:467]\u001b[0m GAN_loss/discrim/accuracy_fake: 0.77\n",
      "\u001b[32m[1019 09:16:56 @monitor.py:467]\u001b[0m GAN_loss/discrim/accuracy_real: 0.546\n",
      "\u001b[32m[1019 09:16:56 @monitor.py:467]\u001b[0m GAN_loss/discrim/loss: 0.58429\n",
      "\u001b[32m[1019 09:16:56 @monitor.py:467]\u001b[0m GAN_loss/gen/final-g-loss: 1.4719\n",
      "\u001b[32m[1019 09:16:56 @monitor.py:467]\u001b[0m GAN_loss/gen/klloss: 0.052533\n",
      "\u001b[32m[1019 09:16:56 @monitor.py:467]\u001b[0m GAN_loss/gen/loss: 1.4194\n",
      "\u001b[32m[1019 09:16:56 @monitor.py:467]\u001b[0m QueueInput/queue_size: 50\n",
      "\u001b[32m[1019 09:16:56 @base.py:275]\u001b[0m Start Epoch 1312 ...\n"
     ]
    },
    {
     "name": "stderr",
     "output_type": "stream",
     "text": [
      "100%|###################################################################################|175/175[00:05<00:00,31.94it/s]"
     ]
    },
    {
     "name": "stdout",
     "output_type": "stream",
     "text": [
      "\u001b[32m[1019 09:17:02 @base.py:285]\u001b[0m Epoch 1312 (global_step 229600) finished, time:5.48 seconds.\n",
      "\u001b[32m[1019 09:17:02 @saver.py:79]\u001b[0m Model saved to ../output/Chicago/DATGAN_asd29/model\\model-229600.\n"
     ]
    },
    {
     "name": "stderr",
     "output_type": "stream",
     "text": [
      "\n"
     ]
    },
    {
     "name": "stdout",
     "output_type": "stream",
     "text": [
      "\u001b[32m[1019 09:17:02 @monitor.py:467]\u001b[0m GAN_loss/discrim/accuracy_fake: 0.832\n",
      "\u001b[32m[1019 09:17:02 @monitor.py:467]\u001b[0m GAN_loss/discrim/accuracy_real: 0.578\n",
      "\u001b[32m[1019 09:17:02 @monitor.py:467]\u001b[0m GAN_loss/discrim/loss: 0.52444\n",
      "\u001b[32m[1019 09:17:02 @monitor.py:467]\u001b[0m GAN_loss/gen/final-g-loss: 1.7042\n",
      "\u001b[32m[1019 09:17:02 @monitor.py:467]\u001b[0m GAN_loss/gen/klloss: 0.078601\n",
      "\u001b[32m[1019 09:17:02 @monitor.py:467]\u001b[0m GAN_loss/gen/loss: 1.6256\n",
      "\u001b[32m[1019 09:17:02 @monitor.py:467]\u001b[0m QueueInput/queue_size: 50\n",
      "\u001b[32m[1019 09:17:02 @base.py:275]\u001b[0m Start Epoch 1313 ...\n"
     ]
    },
    {
     "name": "stderr",
     "output_type": "stream",
     "text": [
      "100%|###################################################################################|175/175[00:05<00:00,31.89it/s]"
     ]
    },
    {
     "name": "stdout",
     "output_type": "stream",
     "text": [
      "\u001b[32m[1019 09:17:07 @base.py:285]\u001b[0m Epoch 1313 (global_step 229775) finished, time:5.49 seconds.\n",
      "\u001b[32m[1019 09:17:08 @saver.py:79]\u001b[0m Model saved to ../output/Chicago/DATGAN_asd29/model\\model-229775.\n"
     ]
    },
    {
     "name": "stderr",
     "output_type": "stream",
     "text": [
      "\n"
     ]
    },
    {
     "name": "stdout",
     "output_type": "stream",
     "text": [
      "\u001b[32m[1019 09:17:08 @monitor.py:467]\u001b[0m GAN_loss/discrim/accuracy_fake: 0.852\n",
      "\u001b[32m[1019 09:17:08 @monitor.py:467]\u001b[0m GAN_loss/discrim/accuracy_real: 0.584\n",
      "\u001b[32m[1019 09:17:08 @monitor.py:467]\u001b[0m GAN_loss/discrim/loss: 0.53219\n",
      "\u001b[32m[1019 09:17:08 @monitor.py:467]\u001b[0m GAN_loss/gen/final-g-loss: 1.6872\n",
      "\u001b[32m[1019 09:17:08 @monitor.py:467]\u001b[0m GAN_loss/gen/klloss: 0.066426\n",
      "\u001b[32m[1019 09:17:08 @monitor.py:467]\u001b[0m GAN_loss/gen/loss: 1.6208\n",
      "\u001b[32m[1019 09:17:08 @monitor.py:467]\u001b[0m QueueInput/queue_size: 50\n",
      "\u001b[32m[1019 09:17:08 @base.py:275]\u001b[0m Start Epoch 1314 ...\n"
     ]
    },
    {
     "name": "stderr",
     "output_type": "stream",
     "text": [
      "100%|###################################################################################|175/175[00:05<00:00,31.92it/s]"
     ]
    },
    {
     "name": "stdout",
     "output_type": "stream",
     "text": [
      "\u001b[32m[1019 09:17:13 @base.py:285]\u001b[0m Epoch 1314 (global_step 229950) finished, time:5.48 seconds.\n",
      "\u001b[32m[1019 09:17:13 @saver.py:79]\u001b[0m Model saved to ../output/Chicago/DATGAN_asd29/model\\model-229950.\n"
     ]
    },
    {
     "name": "stderr",
     "output_type": "stream",
     "text": [
      "\n"
     ]
    },
    {
     "name": "stdout",
     "output_type": "stream",
     "text": [
      "\u001b[32m[1019 09:17:14 @monitor.py:467]\u001b[0m GAN_loss/discrim/accuracy_fake: 0.816\n",
      "\u001b[32m[1019 09:17:14 @monitor.py:467]\u001b[0m GAN_loss/discrim/accuracy_real: 0.604\n",
      "\u001b[32m[1019 09:17:14 @monitor.py:467]\u001b[0m GAN_loss/discrim/loss: 0.53307\n",
      "\u001b[32m[1019 09:17:14 @monitor.py:467]\u001b[0m GAN_loss/gen/final-g-loss: 1.7486\n",
      "\u001b[32m[1019 09:17:14 @monitor.py:467]\u001b[0m GAN_loss/gen/klloss: 0.10117\n",
      "\u001b[32m[1019 09:17:14 @monitor.py:467]\u001b[0m GAN_loss/gen/loss: 1.6475\n",
      "\u001b[32m[1019 09:17:14 @monitor.py:467]\u001b[0m QueueInput/queue_size: 50\n",
      "\u001b[32m[1019 09:17:14 @base.py:275]\u001b[0m Start Epoch 1315 ...\n"
     ]
    },
    {
     "name": "stderr",
     "output_type": "stream",
     "text": [
      "100%|###################################################################################|175/175[00:05<00:00,31.88it/s]"
     ]
    },
    {
     "name": "stdout",
     "output_type": "stream",
     "text": [
      "\u001b[32m[1019 09:17:19 @base.py:285]\u001b[0m Epoch 1315 (global_step 230125) finished, time:5.49 seconds.\n",
      "\u001b[32m[1019 09:17:19 @saver.py:79]\u001b[0m Model saved to ../output/Chicago/DATGAN_asd29/model\\model-230125.\n"
     ]
    },
    {
     "name": "stderr",
     "output_type": "stream",
     "text": [
      "\n"
     ]
    },
    {
     "name": "stdout",
     "output_type": "stream",
     "text": [
      "\u001b[32m[1019 09:17:19 @monitor.py:467]\u001b[0m GAN_loss/discrim/accuracy_fake: 0.786\n",
      "\u001b[32m[1019 09:17:19 @monitor.py:467]\u001b[0m GAN_loss/discrim/accuracy_real: 0.526\n",
      "\u001b[32m[1019 09:17:19 @monitor.py:467]\u001b[0m GAN_loss/discrim/loss: 0.59179\n",
      "\u001b[32m[1019 09:17:19 @monitor.py:467]\u001b[0m GAN_loss/gen/final-g-loss: 1.6016\n",
      "\u001b[32m[1019 09:17:19 @monitor.py:467]\u001b[0m GAN_loss/gen/klloss: 0.095012\n",
      "\u001b[32m[1019 09:17:19 @monitor.py:467]\u001b[0m GAN_loss/gen/loss: 1.5065\n",
      "\u001b[32m[1019 09:17:19 @monitor.py:467]\u001b[0m QueueInput/queue_size: 50\n",
      "\u001b[32m[1019 09:17:19 @base.py:275]\u001b[0m Start Epoch 1316 ...\n"
     ]
    },
    {
     "name": "stderr",
     "output_type": "stream",
     "text": [
      "100%|###################################################################################|175/175[00:05<00:00,31.91it/s]"
     ]
    },
    {
     "name": "stdout",
     "output_type": "stream",
     "text": [
      "\u001b[32m[1019 09:17:25 @base.py:285]\u001b[0m Epoch 1316 (global_step 230300) finished, time:5.49 seconds.\n",
      "\u001b[32m[1019 09:17:25 @saver.py:79]\u001b[0m Model saved to ../output/Chicago/DATGAN_asd29/model\\model-230300.\n"
     ]
    },
    {
     "name": "stderr",
     "output_type": "stream",
     "text": [
      "\n"
     ]
    },
    {
     "name": "stdout",
     "output_type": "stream",
     "text": [
      "\u001b[32m[1019 09:17:25 @monitor.py:467]\u001b[0m GAN_loss/discrim/accuracy_fake: 0.836\n",
      "\u001b[32m[1019 09:17:25 @monitor.py:467]\u001b[0m GAN_loss/discrim/accuracy_real: 0.524\n",
      "\u001b[32m[1019 09:17:25 @monitor.py:467]\u001b[0m GAN_loss/discrim/loss: 0.57077\n",
      "\u001b[32m[1019 09:17:25 @monitor.py:467]\u001b[0m GAN_loss/gen/final-g-loss: 1.6472\n",
      "\u001b[32m[1019 09:17:25 @monitor.py:467]\u001b[0m GAN_loss/gen/klloss: 0.065862\n",
      "\u001b[32m[1019 09:17:25 @monitor.py:467]\u001b[0m GAN_loss/gen/loss: 1.5813\n",
      "\u001b[32m[1019 09:17:25 @monitor.py:467]\u001b[0m QueueInput/queue_size: 50\n",
      "\u001b[32m[1019 09:17:25 @base.py:275]\u001b[0m Start Epoch 1317 ...\n"
     ]
    },
    {
     "name": "stderr",
     "output_type": "stream",
     "text": [
      "100%|###################################################################################|175/175[00:05<00:00,31.90it/s]"
     ]
    },
    {
     "name": "stdout",
     "output_type": "stream",
     "text": [
      "\u001b[32m[1019 09:17:31 @base.py:285]\u001b[0m Epoch 1317 (global_step 230475) finished, time:5.49 seconds.\n",
      "\u001b[32m[1019 09:17:31 @saver.py:79]\u001b[0m Model saved to ../output/Chicago/DATGAN_asd29/model\\model-230475.\n"
     ]
    },
    {
     "name": "stderr",
     "output_type": "stream",
     "text": [
      "\n"
     ]
    },
    {
     "name": "stdout",
     "output_type": "stream",
     "text": [
      "\u001b[32m[1019 09:17:31 @monitor.py:467]\u001b[0m GAN_loss/discrim/accuracy_fake: 0.768\n",
      "\u001b[32m[1019 09:17:31 @monitor.py:467]\u001b[0m GAN_loss/discrim/accuracy_real: 0.62\n",
      "\u001b[32m[1019 09:17:31 @monitor.py:467]\u001b[0m GAN_loss/discrim/loss: 0.55862\n",
      "\u001b[32m[1019 09:17:31 @monitor.py:467]\u001b[0m GAN_loss/gen/final-g-loss: 1.6467\n",
      "\u001b[32m[1019 09:17:31 @monitor.py:467]\u001b[0m GAN_loss/gen/klloss: 0.10438\n",
      "\u001b[32m[1019 09:17:31 @monitor.py:467]\u001b[0m GAN_loss/gen/loss: 1.5423\n",
      "\u001b[32m[1019 09:17:31 @monitor.py:467]\u001b[0m QueueInput/queue_size: 50\n",
      "\u001b[32m[1019 09:17:31 @base.py:275]\u001b[0m Start Epoch 1318 ...\n"
     ]
    },
    {
     "name": "stderr",
     "output_type": "stream",
     "text": [
      "100%|###################################################################################|175/175[00:05<00:00,31.92it/s]"
     ]
    },
    {
     "name": "stdout",
     "output_type": "stream",
     "text": [
      "\u001b[32m[1019 09:17:36 @base.py:285]\u001b[0m Epoch 1318 (global_step 230650) finished, time:5.48 seconds.\n",
      "\u001b[32m[1019 09:17:36 @saver.py:79]\u001b[0m Model saved to ../output/Chicago/DATGAN_asd29/model\\model-230650.\n"
     ]
    },
    {
     "name": "stderr",
     "output_type": "stream",
     "text": [
      "\n"
     ]
    },
    {
     "name": "stdout",
     "output_type": "stream",
     "text": [
      "\u001b[32m[1019 09:17:37 @monitor.py:467]\u001b[0m GAN_loss/discrim/accuracy_fake: 0.774\n",
      "\u001b[32m[1019 09:17:37 @monitor.py:467]\u001b[0m GAN_loss/discrim/accuracy_real: 0.564\n",
      "\u001b[32m[1019 09:17:37 @monitor.py:467]\u001b[0m GAN_loss/discrim/loss: 0.58336\n",
      "\u001b[32m[1019 09:17:37 @monitor.py:467]\u001b[0m GAN_loss/gen/final-g-loss: 1.5036\n",
      "\u001b[32m[1019 09:17:37 @monitor.py:467]\u001b[0m GAN_loss/gen/klloss: 0.077615\n",
      "\u001b[32m[1019 09:17:37 @monitor.py:467]\u001b[0m GAN_loss/gen/loss: 1.426\n",
      "\u001b[32m[1019 09:17:37 @monitor.py:467]\u001b[0m QueueInput/queue_size: 50\n",
      "\u001b[32m[1019 09:17:37 @base.py:275]\u001b[0m Start Epoch 1319 ...\n"
     ]
    },
    {
     "name": "stderr",
     "output_type": "stream",
     "text": [
      "100%|###################################################################################|175/175[00:05<00:00,31.90it/s]"
     ]
    },
    {
     "name": "stdout",
     "output_type": "stream",
     "text": [
      "\u001b[32m[1019 09:17:42 @base.py:285]\u001b[0m Epoch 1319 (global_step 230825) finished, time:5.49 seconds.\n",
      "\u001b[32m[1019 09:17:42 @saver.py:79]\u001b[0m Model saved to ../output/Chicago/DATGAN_asd29/model\\model-230825.\n"
     ]
    },
    {
     "name": "stderr",
     "output_type": "stream",
     "text": [
      "\n"
     ]
    },
    {
     "name": "stdout",
     "output_type": "stream",
     "text": [
      "\u001b[32m[1019 09:17:42 @monitor.py:467]\u001b[0m GAN_loss/discrim/accuracy_fake: 0.826\n",
      "\u001b[32m[1019 09:17:42 @monitor.py:467]\u001b[0m GAN_loss/discrim/accuracy_real: 0.506\n",
      "\u001b[32m[1019 09:17:42 @monitor.py:467]\u001b[0m GAN_loss/discrim/loss: 0.57946\n",
      "\u001b[32m[1019 09:17:42 @monitor.py:467]\u001b[0m GAN_loss/gen/final-g-loss: 1.5324\n",
      "\u001b[32m[1019 09:17:42 @monitor.py:467]\u001b[0m GAN_loss/gen/klloss: 0.066301\n",
      "\u001b[32m[1019 09:17:42 @monitor.py:467]\u001b[0m GAN_loss/gen/loss: 1.4661\n",
      "\u001b[32m[1019 09:17:42 @monitor.py:467]\u001b[0m QueueInput/queue_size: 50\n",
      "\u001b[32m[1019 09:17:42 @base.py:275]\u001b[0m Start Epoch 1320 ...\n"
     ]
    },
    {
     "name": "stderr",
     "output_type": "stream",
     "text": [
      "100%|###################################################################################|175/175[00:05<00:00,31.92it/s]"
     ]
    },
    {
     "name": "stdout",
     "output_type": "stream",
     "text": [
      "\u001b[32m[1019 09:17:48 @base.py:285]\u001b[0m Epoch 1320 (global_step 231000) finished, time:5.48 seconds.\n",
      "\u001b[32m[1019 09:17:48 @saver.py:79]\u001b[0m Model saved to ../output/Chicago/DATGAN_asd29/model\\model-231000.\n"
     ]
    },
    {
     "name": "stderr",
     "output_type": "stream",
     "text": [
      "\n"
     ]
    },
    {
     "name": "stdout",
     "output_type": "stream",
     "text": [
      "\u001b[32m[1019 09:17:48 @monitor.py:467]\u001b[0m GAN_loss/discrim/accuracy_fake: 0.79\n",
      "\u001b[32m[1019 09:17:48 @monitor.py:467]\u001b[0m GAN_loss/discrim/accuracy_real: 0.568\n",
      "\u001b[32m[1019 09:17:48 @monitor.py:467]\u001b[0m GAN_loss/discrim/loss: 0.57203\n",
      "\u001b[32m[1019 09:17:48 @monitor.py:467]\u001b[0m GAN_loss/gen/final-g-loss: 1.504\n",
      "\u001b[32m[1019 09:17:48 @monitor.py:467]\u001b[0m GAN_loss/gen/klloss: 0.050912\n",
      "\u001b[32m[1019 09:17:48 @monitor.py:467]\u001b[0m GAN_loss/gen/loss: 1.4531\n",
      "\u001b[32m[1019 09:17:48 @monitor.py:467]\u001b[0m QueueInput/queue_size: 50\n",
      "\u001b[32m[1019 09:17:48 @base.py:275]\u001b[0m Start Epoch 1321 ...\n"
     ]
    },
    {
     "name": "stderr",
     "output_type": "stream",
     "text": [
      "100%|###################################################################################|175/175[00:05<00:00,31.90it/s]"
     ]
    },
    {
     "name": "stdout",
     "output_type": "stream",
     "text": [
      "\u001b[32m[1019 09:17:54 @base.py:285]\u001b[0m Epoch 1321 (global_step 231175) finished, time:5.49 seconds.\n",
      "\u001b[32m[1019 09:17:54 @saver.py:79]\u001b[0m Model saved to ../output/Chicago/DATGAN_asd29/model\\model-231175.\n"
     ]
    },
    {
     "name": "stderr",
     "output_type": "stream",
     "text": [
      "\n"
     ]
    },
    {
     "name": "stdout",
     "output_type": "stream",
     "text": [
      "\u001b[32m[1019 09:17:54 @monitor.py:467]\u001b[0m GAN_loss/discrim/accuracy_fake: 0.788\n",
      "\u001b[32m[1019 09:17:54 @monitor.py:467]\u001b[0m GAN_loss/discrim/accuracy_real: 0.606\n",
      "\u001b[32m[1019 09:17:54 @monitor.py:467]\u001b[0m GAN_loss/discrim/loss: 0.56057\n",
      "\u001b[32m[1019 09:17:54 @monitor.py:467]\u001b[0m GAN_loss/gen/final-g-loss: 1.5021\n",
      "\u001b[32m[1019 09:17:54 @monitor.py:467]\u001b[0m GAN_loss/gen/klloss: 0.072713\n",
      "\u001b[32m[1019 09:17:54 @monitor.py:467]\u001b[0m GAN_loss/gen/loss: 1.4294\n",
      "\u001b[32m[1019 09:17:54 @monitor.py:467]\u001b[0m QueueInput/queue_size: 50\n",
      "\u001b[32m[1019 09:17:54 @base.py:275]\u001b[0m Start Epoch 1322 ...\n"
     ]
    },
    {
     "name": "stderr",
     "output_type": "stream",
     "text": [
      "100%|###################################################################################|175/175[00:05<00:00,31.92it/s]"
     ]
    },
    {
     "name": "stdout",
     "output_type": "stream",
     "text": [
      "\u001b[32m[1019 09:18:00 @base.py:285]\u001b[0m Epoch 1322 (global_step 231350) finished, time:5.48 seconds.\n",
      "\u001b[32m[1019 09:18:00 @saver.py:79]\u001b[0m Model saved to ../output/Chicago/DATGAN_asd29/model\\model-231350.\n"
     ]
    },
    {
     "name": "stderr",
     "output_type": "stream",
     "text": [
      "\n"
     ]
    },
    {
     "name": "stdout",
     "output_type": "stream",
     "text": [
      "\u001b[32m[1019 09:18:00 @monitor.py:467]\u001b[0m GAN_loss/discrim/accuracy_fake: 0.826\n",
      "\u001b[32m[1019 09:18:00 @monitor.py:467]\u001b[0m GAN_loss/discrim/accuracy_real: 0.538\n",
      "\u001b[32m[1019 09:18:00 @monitor.py:467]\u001b[0m GAN_loss/discrim/loss: 0.57808\n",
      "\u001b[32m[1019 09:18:00 @monitor.py:467]\u001b[0m GAN_loss/gen/final-g-loss: 1.5378\n",
      "\u001b[32m[1019 09:18:00 @monitor.py:467]\u001b[0m GAN_loss/gen/klloss: 0.091968\n",
      "\u001b[32m[1019 09:18:00 @monitor.py:467]\u001b[0m GAN_loss/gen/loss: 1.4459\n",
      "\u001b[32m[1019 09:18:00 @monitor.py:467]\u001b[0m QueueInput/queue_size: 50\n",
      "\u001b[32m[1019 09:18:00 @base.py:275]\u001b[0m Start Epoch 1323 ...\n"
     ]
    },
    {
     "name": "stderr",
     "output_type": "stream",
     "text": [
      "100%|###################################################################################|175/175[00:05<00:00,31.89it/s]"
     ]
    },
    {
     "name": "stdout",
     "output_type": "stream",
     "text": [
      "\u001b[32m[1019 09:18:05 @base.py:285]\u001b[0m Epoch 1323 (global_step 231525) finished, time:5.49 seconds.\n",
      "\u001b[32m[1019 09:18:05 @saver.py:79]\u001b[0m Model saved to ../output/Chicago/DATGAN_asd29/model\\model-231525.\n"
     ]
    },
    {
     "name": "stderr",
     "output_type": "stream",
     "text": [
      "\n"
     ]
    },
    {
     "name": "stdout",
     "output_type": "stream",
     "text": [
      "\u001b[32m[1019 09:18:06 @monitor.py:467]\u001b[0m GAN_loss/discrim/accuracy_fake: 0.826\n",
      "\u001b[32m[1019 09:18:06 @monitor.py:467]\u001b[0m GAN_loss/discrim/accuracy_real: 0.482\n",
      "\u001b[32m[1019 09:18:06 @monitor.py:467]\u001b[0m GAN_loss/discrim/loss: 0.57606\n",
      "\u001b[32m[1019 09:18:06 @monitor.py:467]\u001b[0m GAN_loss/gen/final-g-loss: 1.6768\n",
      "\u001b[32m[1019 09:18:06 @monitor.py:467]\u001b[0m GAN_loss/gen/klloss: 0.11769\n",
      "\u001b[32m[1019 09:18:06 @monitor.py:467]\u001b[0m GAN_loss/gen/loss: 1.5591\n",
      "\u001b[32m[1019 09:18:06 @monitor.py:467]\u001b[0m QueueInput/queue_size: 50\n",
      "\u001b[32m[1019 09:18:06 @base.py:275]\u001b[0m Start Epoch 1324 ...\n"
     ]
    },
    {
     "name": "stderr",
     "output_type": "stream",
     "text": [
      "100%|###################################################################################|175/175[00:05<00:00,31.88it/s]"
     ]
    },
    {
     "name": "stdout",
     "output_type": "stream",
     "text": [
      "\u001b[32m[1019 09:18:11 @base.py:285]\u001b[0m Epoch 1324 (global_step 231700) finished, time:5.49 seconds.\n",
      "\u001b[32m[1019 09:18:11 @saver.py:79]\u001b[0m Model saved to ../output/Chicago/DATGAN_asd29/model\\model-231700.\n"
     ]
    },
    {
     "name": "stderr",
     "output_type": "stream",
     "text": [
      "\n"
     ]
    },
    {
     "name": "stdout",
     "output_type": "stream",
     "text": [
      "\u001b[32m[1019 09:18:11 @monitor.py:467]\u001b[0m GAN_loss/discrim/accuracy_fake: 0.8\n",
      "\u001b[32m[1019 09:18:11 @monitor.py:467]\u001b[0m GAN_loss/discrim/accuracy_real: 0.546\n",
      "\u001b[32m[1019 09:18:11 @monitor.py:467]\u001b[0m GAN_loss/discrim/loss: 0.56967\n",
      "\u001b[32m[1019 09:18:11 @monitor.py:467]\u001b[0m GAN_loss/gen/final-g-loss: 1.5071\n",
      "\u001b[32m[1019 09:18:11 @monitor.py:467]\u001b[0m GAN_loss/gen/klloss: 0.072124\n",
      "\u001b[32m[1019 09:18:11 @monitor.py:467]\u001b[0m GAN_loss/gen/loss: 1.435\n",
      "\u001b[32m[1019 09:18:11 @monitor.py:467]\u001b[0m QueueInput/queue_size: 50\n",
      "\u001b[32m[1019 09:18:11 @base.py:275]\u001b[0m Start Epoch 1325 ...\n"
     ]
    },
    {
     "name": "stderr",
     "output_type": "stream",
     "text": [
      "100%|###################################################################################|175/175[00:05<00:00,31.90it/s]"
     ]
    },
    {
     "name": "stdout",
     "output_type": "stream",
     "text": [
      "\u001b[32m[1019 09:18:17 @base.py:285]\u001b[0m Epoch 1325 (global_step 231875) finished, time:5.49 seconds.\n",
      "\u001b[32m[1019 09:18:17 @saver.py:79]\u001b[0m Model saved to ../output/Chicago/DATGAN_asd29/model\\model-231875.\n"
     ]
    },
    {
     "name": "stderr",
     "output_type": "stream",
     "text": [
      "\n"
     ]
    },
    {
     "name": "stdout",
     "output_type": "stream",
     "text": [
      "\u001b[32m[1019 09:18:17 @monitor.py:467]\u001b[0m GAN_loss/discrim/accuracy_fake: 0.768\n",
      "\u001b[32m[1019 09:18:17 @monitor.py:467]\u001b[0m GAN_loss/discrim/accuracy_real: 0.438\n",
      "\u001b[32m[1019 09:18:17 @monitor.py:467]\u001b[0m GAN_loss/discrim/loss: 0.61814\n",
      "\u001b[32m[1019 09:18:17 @monitor.py:467]\u001b[0m GAN_loss/gen/final-g-loss: 1.509\n",
      "\u001b[32m[1019 09:18:17 @monitor.py:467]\u001b[0m GAN_loss/gen/klloss: 0.080562\n",
      "\u001b[32m[1019 09:18:17 @monitor.py:467]\u001b[0m GAN_loss/gen/loss: 1.4284\n",
      "\u001b[32m[1019 09:18:17 @monitor.py:467]\u001b[0m QueueInput/queue_size: 50\n",
      "\u001b[32m[1019 09:18:17 @base.py:275]\u001b[0m Start Epoch 1326 ...\n"
     ]
    },
    {
     "name": "stderr",
     "output_type": "stream",
     "text": [
      "100%|###################################################################################|175/175[00:05<00:00,31.92it/s]"
     ]
    },
    {
     "name": "stdout",
     "output_type": "stream",
     "text": [
      "\u001b[32m[1019 09:18:23 @base.py:285]\u001b[0m Epoch 1326 (global_step 232050) finished, time:5.48 seconds.\n",
      "\u001b[32m[1019 09:18:23 @saver.py:79]\u001b[0m Model saved to ../output/Chicago/DATGAN_asd29/model\\model-232050.\n"
     ]
    },
    {
     "name": "stderr",
     "output_type": "stream",
     "text": [
      "\n"
     ]
    },
    {
     "name": "stdout",
     "output_type": "stream",
     "text": [
      "\u001b[32m[1019 09:18:23 @monitor.py:467]\u001b[0m GAN_loss/discrim/accuracy_fake: 0.81\n",
      "\u001b[32m[1019 09:18:23 @monitor.py:467]\u001b[0m GAN_loss/discrim/accuracy_real: 0.514\n",
      "\u001b[32m[1019 09:18:23 @monitor.py:467]\u001b[0m GAN_loss/discrim/loss: 0.57743\n",
      "\u001b[32m[1019 09:18:23 @monitor.py:467]\u001b[0m GAN_loss/gen/final-g-loss: 1.5683\n",
      "\u001b[32m[1019 09:18:23 @monitor.py:467]\u001b[0m GAN_loss/gen/klloss: 0.081189\n",
      "\u001b[32m[1019 09:18:23 @monitor.py:467]\u001b[0m GAN_loss/gen/loss: 1.4871\n",
      "\u001b[32m[1019 09:18:23 @monitor.py:467]\u001b[0m QueueInput/queue_size: 50\n",
      "\u001b[32m[1019 09:18:23 @base.py:275]\u001b[0m Start Epoch 1327 ...\n"
     ]
    },
    {
     "name": "stderr",
     "output_type": "stream",
     "text": [
      "100%|###################################################################################|175/175[00:05<00:00,31.93it/s]"
     ]
    },
    {
     "name": "stdout",
     "output_type": "stream",
     "text": [
      "\u001b[32m[1019 09:18:28 @base.py:285]\u001b[0m Epoch 1327 (global_step 232225) finished, time:5.48 seconds.\n",
      "\u001b[32m[1019 09:18:29 @saver.py:79]\u001b[0m Model saved to ../output/Chicago/DATGAN_asd29/model\\model-232225.\n"
     ]
    },
    {
     "name": "stderr",
     "output_type": "stream",
     "text": [
      "\n"
     ]
    },
    {
     "name": "stdout",
     "output_type": "stream",
     "text": [
      "\u001b[32m[1019 09:18:29 @monitor.py:467]\u001b[0m GAN_loss/discrim/accuracy_fake: 0.83\n",
      "\u001b[32m[1019 09:18:29 @monitor.py:467]\u001b[0m GAN_loss/discrim/accuracy_real: 0.53\n",
      "\u001b[32m[1019 09:18:29 @monitor.py:467]\u001b[0m GAN_loss/discrim/loss: 0.55865\n",
      "\u001b[32m[1019 09:18:29 @monitor.py:467]\u001b[0m GAN_loss/gen/final-g-loss: 1.5783\n",
      "\u001b[32m[1019 09:18:29 @monitor.py:467]\u001b[0m GAN_loss/gen/klloss: 0.090704\n",
      "\u001b[32m[1019 09:18:29 @monitor.py:467]\u001b[0m GAN_loss/gen/loss: 1.4876\n",
      "\u001b[32m[1019 09:18:29 @monitor.py:467]\u001b[0m QueueInput/queue_size: 50\n",
      "\u001b[32m[1019 09:18:29 @base.py:275]\u001b[0m Start Epoch 1328 ...\n"
     ]
    },
    {
     "name": "stderr",
     "output_type": "stream",
     "text": [
      "100%|###################################################################################|175/175[00:05<00:00,31.89it/s]"
     ]
    },
    {
     "name": "stdout",
     "output_type": "stream",
     "text": [
      "\u001b[32m[1019 09:18:34 @base.py:285]\u001b[0m Epoch 1328 (global_step 232400) finished, time:5.49 seconds.\n",
      "\u001b[32m[1019 09:18:34 @saver.py:79]\u001b[0m Model saved to ../output/Chicago/DATGAN_asd29/model\\model-232400.\n"
     ]
    },
    {
     "name": "stderr",
     "output_type": "stream",
     "text": [
      "\n"
     ]
    },
    {
     "name": "stdout",
     "output_type": "stream",
     "text": [
      "\u001b[32m[1019 09:18:35 @monitor.py:467]\u001b[0m GAN_loss/discrim/accuracy_fake: 0.756\n",
      "\u001b[32m[1019 09:18:35 @monitor.py:467]\u001b[0m GAN_loss/discrim/accuracy_real: 0.49\n",
      "\u001b[32m[1019 09:18:35 @monitor.py:467]\u001b[0m GAN_loss/discrim/loss: 0.6143\n",
      "\u001b[32m[1019 09:18:35 @monitor.py:467]\u001b[0m GAN_loss/gen/final-g-loss: 1.4546\n",
      "\u001b[32m[1019 09:18:35 @monitor.py:467]\u001b[0m GAN_loss/gen/klloss: 0.057785\n",
      "\u001b[32m[1019 09:18:35 @monitor.py:467]\u001b[0m GAN_loss/gen/loss: 1.3968\n",
      "\u001b[32m[1019 09:18:35 @monitor.py:467]\u001b[0m QueueInput/queue_size: 50\n",
      "\u001b[32m[1019 09:18:35 @base.py:275]\u001b[0m Start Epoch 1329 ...\n"
     ]
    },
    {
     "name": "stderr",
     "output_type": "stream",
     "text": [
      "100%|###################################################################################|175/175[00:05<00:00,31.95it/s]"
     ]
    },
    {
     "name": "stdout",
     "output_type": "stream",
     "text": [
      "\u001b[32m[1019 09:18:40 @base.py:285]\u001b[0m Epoch 1329 (global_step 232575) finished, time:5.48 seconds.\n",
      "\u001b[32m[1019 09:18:40 @saver.py:79]\u001b[0m Model saved to ../output/Chicago/DATGAN_asd29/model\\model-232575.\n"
     ]
    },
    {
     "name": "stderr",
     "output_type": "stream",
     "text": [
      "\n"
     ]
    },
    {
     "name": "stdout",
     "output_type": "stream",
     "text": [
      "\u001b[32m[1019 09:18:40 @monitor.py:467]\u001b[0m GAN_loss/discrim/accuracy_fake: 0.762\n",
      "\u001b[32m[1019 09:18:40 @monitor.py:467]\u001b[0m GAN_loss/discrim/accuracy_real: 0.482\n",
      "\u001b[32m[1019 09:18:40 @monitor.py:467]\u001b[0m GAN_loss/discrim/loss: 0.60908\n",
      "\u001b[32m[1019 09:18:40 @monitor.py:467]\u001b[0m GAN_loss/gen/final-g-loss: 1.4552\n",
      "\u001b[32m[1019 09:18:40 @monitor.py:467]\u001b[0m GAN_loss/gen/klloss: 0.05755\n",
      "\u001b[32m[1019 09:18:40 @monitor.py:467]\u001b[0m GAN_loss/gen/loss: 1.3976\n",
      "\u001b[32m[1019 09:18:40 @monitor.py:467]\u001b[0m QueueInput/queue_size: 50\n",
      "\u001b[32m[1019 09:18:40 @base.py:275]\u001b[0m Start Epoch 1330 ...\n"
     ]
    },
    {
     "name": "stderr",
     "output_type": "stream",
     "text": [
      "100%|###################################################################################|175/175[00:05<00:00,31.88it/s]"
     ]
    },
    {
     "name": "stdout",
     "output_type": "stream",
     "text": [
      "\u001b[32m[1019 09:18:46 @base.py:285]\u001b[0m Epoch 1330 (global_step 232750) finished, time:5.49 seconds.\n",
      "\u001b[32m[1019 09:18:46 @saver.py:79]\u001b[0m Model saved to ../output/Chicago/DATGAN_asd29/model\\model-232750.\n"
     ]
    },
    {
     "name": "stderr",
     "output_type": "stream",
     "text": [
      "\n"
     ]
    },
    {
     "name": "stdout",
     "output_type": "stream",
     "text": [
      "\u001b[32m[1019 09:18:46 @monitor.py:467]\u001b[0m GAN_loss/discrim/accuracy_fake: 0.74\n",
      "\u001b[32m[1019 09:18:46 @monitor.py:467]\u001b[0m GAN_loss/discrim/accuracy_real: 0.444\n",
      "\u001b[32m[1019 09:18:46 @monitor.py:467]\u001b[0m GAN_loss/discrim/loss: 0.62093\n",
      "\u001b[32m[1019 09:18:46 @monitor.py:467]\u001b[0m GAN_loss/gen/final-g-loss: 1.4445\n",
      "\u001b[32m[1019 09:18:46 @monitor.py:467]\u001b[0m GAN_loss/gen/klloss: 0.068864\n",
      "\u001b[32m[1019 09:18:46 @monitor.py:467]\u001b[0m GAN_loss/gen/loss: 1.3756\n",
      "\u001b[32m[1019 09:18:46 @monitor.py:467]\u001b[0m QueueInput/queue_size: 50\n",
      "\u001b[32m[1019 09:18:46 @base.py:275]\u001b[0m Start Epoch 1331 ...\n"
     ]
    },
    {
     "name": "stderr",
     "output_type": "stream",
     "text": [
      "100%|###################################################################################|175/175[00:05<00:00,31.90it/s]"
     ]
    },
    {
     "name": "stdout",
     "output_type": "stream",
     "text": [
      "\u001b[32m[1019 09:18:52 @base.py:285]\u001b[0m Epoch 1331 (global_step 232925) finished, time:5.49 seconds.\n",
      "\u001b[32m[1019 09:18:52 @saver.py:79]\u001b[0m Model saved to ../output/Chicago/DATGAN_asd29/model\\model-232925.\n"
     ]
    },
    {
     "name": "stderr",
     "output_type": "stream",
     "text": [
      "\n"
     ]
    },
    {
     "name": "stdout",
     "output_type": "stream",
     "text": [
      "\u001b[32m[1019 09:18:52 @monitor.py:467]\u001b[0m GAN_loss/discrim/accuracy_fake: 0.852\n",
      "\u001b[32m[1019 09:18:52 @monitor.py:467]\u001b[0m GAN_loss/discrim/accuracy_real: 0.49\n",
      "\u001b[32m[1019 09:18:52 @monitor.py:467]\u001b[0m GAN_loss/discrim/loss: 0.58869\n",
      "\u001b[32m[1019 09:18:52 @monitor.py:467]\u001b[0m GAN_loss/gen/final-g-loss: 1.4603\n",
      "\u001b[32m[1019 09:18:52 @monitor.py:467]\u001b[0m GAN_loss/gen/klloss: 0.056358\n",
      "\u001b[32m[1019 09:18:52 @monitor.py:467]\u001b[0m GAN_loss/gen/loss: 1.404\n",
      "\u001b[32m[1019 09:18:52 @monitor.py:467]\u001b[0m QueueInput/queue_size: 50\n",
      "\u001b[32m[1019 09:18:52 @base.py:275]\u001b[0m Start Epoch 1332 ...\n"
     ]
    },
    {
     "name": "stderr",
     "output_type": "stream",
     "text": [
      "100%|###################################################################################|175/175[00:05<00:00,31.87it/s]"
     ]
    },
    {
     "name": "stdout",
     "output_type": "stream",
     "text": [
      "\u001b[32m[1019 09:18:57 @base.py:285]\u001b[0m Epoch 1332 (global_step 233100) finished, time:5.49 seconds.\n",
      "\u001b[32m[1019 09:18:58 @saver.py:79]\u001b[0m Model saved to ../output/Chicago/DATGAN_asd29/model\\model-233100.\n"
     ]
    },
    {
     "name": "stderr",
     "output_type": "stream",
     "text": [
      "\n"
     ]
    },
    {
     "name": "stdout",
     "output_type": "stream",
     "text": [
      "\u001b[32m[1019 09:18:58 @monitor.py:467]\u001b[0m GAN_loss/discrim/accuracy_fake: 0.802\n",
      "\u001b[32m[1019 09:18:58 @monitor.py:467]\u001b[0m GAN_loss/discrim/accuracy_real: 0.482\n",
      "\u001b[32m[1019 09:18:58 @monitor.py:467]\u001b[0m GAN_loss/discrim/loss: 0.5978\n",
      "\u001b[32m[1019 09:18:58 @monitor.py:467]\u001b[0m GAN_loss/gen/final-g-loss: 1.4659\n",
      "\u001b[32m[1019 09:18:58 @monitor.py:467]\u001b[0m GAN_loss/gen/klloss: 0.070231\n",
      "\u001b[32m[1019 09:18:58 @monitor.py:467]\u001b[0m GAN_loss/gen/loss: 1.3956\n",
      "\u001b[32m[1019 09:18:58 @monitor.py:467]\u001b[0m QueueInput/queue_size: 50\n",
      "\u001b[32m[1019 09:18:58 @base.py:275]\u001b[0m Start Epoch 1333 ...\n"
     ]
    },
    {
     "name": "stderr",
     "output_type": "stream",
     "text": [
      "100%|###################################################################################|175/175[00:05<00:00,31.93it/s]"
     ]
    },
    {
     "name": "stdout",
     "output_type": "stream",
     "text": [
      "\u001b[32m[1019 09:19:03 @base.py:285]\u001b[0m Epoch 1333 (global_step 233275) finished, time:5.48 seconds.\n",
      "\u001b[32m[1019 09:19:03 @saver.py:79]\u001b[0m Model saved to ../output/Chicago/DATGAN_asd29/model\\model-233275.\n"
     ]
    },
    {
     "name": "stderr",
     "output_type": "stream",
     "text": [
      "\n"
     ]
    },
    {
     "name": "stdout",
     "output_type": "stream",
     "text": [
      "\u001b[32m[1019 09:19:04 @monitor.py:467]\u001b[0m GAN_loss/discrim/accuracy_fake: 0.76\n",
      "\u001b[32m[1019 09:19:04 @monitor.py:467]\u001b[0m GAN_loss/discrim/accuracy_real: 0.45\n",
      "\u001b[32m[1019 09:19:04 @monitor.py:467]\u001b[0m GAN_loss/discrim/loss: 0.62333\n",
      "\u001b[32m[1019 09:19:04 @monitor.py:467]\u001b[0m GAN_loss/gen/final-g-loss: 1.3865\n",
      "\u001b[32m[1019 09:19:04 @monitor.py:467]\u001b[0m GAN_loss/gen/klloss: 0.062097\n",
      "\u001b[32m[1019 09:19:04 @monitor.py:467]\u001b[0m GAN_loss/gen/loss: 1.3245\n",
      "\u001b[32m[1019 09:19:04 @monitor.py:467]\u001b[0m QueueInput/queue_size: 50\n",
      "\u001b[32m[1019 09:19:04 @base.py:275]\u001b[0m Start Epoch 1334 ...\n"
     ]
    },
    {
     "name": "stderr",
     "output_type": "stream",
     "text": [
      "100%|###################################################################################|175/175[00:05<00:00,31.88it/s]"
     ]
    },
    {
     "name": "stdout",
     "output_type": "stream",
     "text": [
      "\u001b[32m[1019 09:19:09 @base.py:285]\u001b[0m Epoch 1334 (global_step 233450) finished, time:5.49 seconds.\n",
      "\u001b[32m[1019 09:19:09 @saver.py:79]\u001b[0m Model saved to ../output/Chicago/DATGAN_asd29/model\\model-233450.\n"
     ]
    },
    {
     "name": "stderr",
     "output_type": "stream",
     "text": [
      "\n"
     ]
    },
    {
     "name": "stdout",
     "output_type": "stream",
     "text": [
      "\u001b[32m[1019 09:19:09 @monitor.py:467]\u001b[0m GAN_loss/discrim/accuracy_fake: 0.838\n",
      "\u001b[32m[1019 09:19:09 @monitor.py:467]\u001b[0m GAN_loss/discrim/accuracy_real: 0.478\n",
      "\u001b[32m[1019 09:19:09 @monitor.py:467]\u001b[0m GAN_loss/discrim/loss: 0.57139\n",
      "\u001b[32m[1019 09:19:09 @monitor.py:467]\u001b[0m GAN_loss/gen/final-g-loss: 1.6008\n",
      "\u001b[32m[1019 09:19:09 @monitor.py:467]\u001b[0m GAN_loss/gen/klloss: 0.10344\n",
      "\u001b[32m[1019 09:19:09 @monitor.py:467]\u001b[0m GAN_loss/gen/loss: 1.4973\n",
      "\u001b[32m[1019 09:19:09 @monitor.py:467]\u001b[0m QueueInput/queue_size: 50\n",
      "\u001b[32m[1019 09:19:09 @base.py:275]\u001b[0m Start Epoch 1335 ...\n"
     ]
    },
    {
     "name": "stderr",
     "output_type": "stream",
     "text": [
      "100%|###################################################################################|175/175[00:05<00:00,31.93it/s]"
     ]
    },
    {
     "name": "stdout",
     "output_type": "stream",
     "text": [
      "\u001b[32m[1019 09:19:15 @base.py:285]\u001b[0m Epoch 1335 (global_step 233625) finished, time:5.48 seconds.\n",
      "\u001b[32m[1019 09:19:15 @saver.py:79]\u001b[0m Model saved to ../output/Chicago/DATGAN_asd29/model\\model-233625.\n"
     ]
    },
    {
     "name": "stderr",
     "output_type": "stream",
     "text": [
      "\n"
     ]
    },
    {
     "name": "stdout",
     "output_type": "stream",
     "text": [
      "\u001b[32m[1019 09:19:15 @monitor.py:467]\u001b[0m GAN_loss/discrim/accuracy_fake: 0.838\n",
      "\u001b[32m[1019 09:19:15 @monitor.py:467]\u001b[0m GAN_loss/discrim/accuracy_real: 0.432\n",
      "\u001b[32m[1019 09:19:15 @monitor.py:467]\u001b[0m GAN_loss/discrim/loss: 0.58663\n",
      "\u001b[32m[1019 09:19:15 @monitor.py:467]\u001b[0m GAN_loss/gen/final-g-loss: 1.6346\n",
      "\u001b[32m[1019 09:19:15 @monitor.py:467]\u001b[0m GAN_loss/gen/klloss: 0.077777\n",
      "\u001b[32m[1019 09:19:15 @monitor.py:467]\u001b[0m GAN_loss/gen/loss: 1.5569\n",
      "\u001b[32m[1019 09:19:15 @monitor.py:467]\u001b[0m QueueInput/queue_size: 50\n",
      "\u001b[32m[1019 09:19:15 @base.py:275]\u001b[0m Start Epoch 1336 ...\n"
     ]
    },
    {
     "name": "stderr",
     "output_type": "stream",
     "text": [
      "100%|###################################################################################|175/175[00:05<00:00,31.86it/s]"
     ]
    },
    {
     "name": "stdout",
     "output_type": "stream",
     "text": [
      "\u001b[32m[1019 09:19:21 @base.py:285]\u001b[0m Epoch 1336 (global_step 233800) finished, time:5.49 seconds.\n",
      "\u001b[32m[1019 09:19:21 @saver.py:79]\u001b[0m Model saved to ../output/Chicago/DATGAN_asd29/model\\model-233800.\n"
     ]
    },
    {
     "name": "stderr",
     "output_type": "stream",
     "text": [
      "\n"
     ]
    },
    {
     "name": "stdout",
     "output_type": "stream",
     "text": [
      "\u001b[32m[1019 09:19:21 @monitor.py:467]\u001b[0m GAN_loss/discrim/accuracy_fake: 0.828\n",
      "\u001b[32m[1019 09:19:21 @monitor.py:467]\u001b[0m GAN_loss/discrim/accuracy_real: 0.484\n",
      "\u001b[32m[1019 09:19:21 @monitor.py:467]\u001b[0m GAN_loss/discrim/loss: 0.59553\n",
      "\u001b[32m[1019 09:19:21 @monitor.py:467]\u001b[0m GAN_loss/gen/final-g-loss: 1.4503\n",
      "\u001b[32m[1019 09:19:21 @monitor.py:467]\u001b[0m GAN_loss/gen/klloss: 0.067566\n",
      "\u001b[32m[1019 09:19:21 @monitor.py:467]\u001b[0m GAN_loss/gen/loss: 1.3827\n",
      "\u001b[32m[1019 09:19:21 @monitor.py:467]\u001b[0m QueueInput/queue_size: 50\n",
      "\u001b[32m[1019 09:19:21 @base.py:275]\u001b[0m Start Epoch 1337 ...\n"
     ]
    },
    {
     "name": "stderr",
     "output_type": "stream",
     "text": [
      "100%|###################################################################################|175/175[00:05<00:00,31.93it/s]"
     ]
    },
    {
     "name": "stdout",
     "output_type": "stream",
     "text": [
      "\u001b[32m[1019 09:19:26 @base.py:285]\u001b[0m Epoch 1337 (global_step 233975) finished, time:5.48 seconds.\n",
      "\u001b[32m[1019 09:19:26 @saver.py:79]\u001b[0m Model saved to ../output/Chicago/DATGAN_asd29/model\\model-233975.\n"
     ]
    },
    {
     "name": "stderr",
     "output_type": "stream",
     "text": [
      "\n"
     ]
    },
    {
     "name": "stdout",
     "output_type": "stream",
     "text": [
      "\u001b[32m[1019 09:19:27 @monitor.py:467]\u001b[0m GAN_loss/discrim/accuracy_fake: 0.826\n",
      "\u001b[32m[1019 09:19:27 @monitor.py:467]\u001b[0m GAN_loss/discrim/accuracy_real: 0.466\n",
      "\u001b[32m[1019 09:19:27 @monitor.py:467]\u001b[0m GAN_loss/discrim/loss: 0.59643\n",
      "\u001b[32m[1019 09:19:27 @monitor.py:467]\u001b[0m GAN_loss/gen/final-g-loss: 1.5222\n",
      "\u001b[32m[1019 09:19:27 @monitor.py:467]\u001b[0m GAN_loss/gen/klloss: 0.062599\n",
      "\u001b[32m[1019 09:19:27 @monitor.py:467]\u001b[0m GAN_loss/gen/loss: 1.4596\n",
      "\u001b[32m[1019 09:19:27 @monitor.py:467]\u001b[0m QueueInput/queue_size: 50\n",
      "\u001b[32m[1019 09:19:27 @base.py:275]\u001b[0m Start Epoch 1338 ...\n"
     ]
    },
    {
     "name": "stderr",
     "output_type": "stream",
     "text": [
      "100%|###################################################################################|175/175[00:05<00:00,31.88it/s]"
     ]
    },
    {
     "name": "stdout",
     "output_type": "stream",
     "text": [
      "\u001b[32m[1019 09:19:32 @base.py:285]\u001b[0m Epoch 1338 (global_step 234150) finished, time:5.49 seconds.\n",
      "\u001b[32m[1019 09:19:32 @saver.py:79]\u001b[0m Model saved to ../output/Chicago/DATGAN_asd29/model\\model-234150.\n"
     ]
    },
    {
     "name": "stderr",
     "output_type": "stream",
     "text": [
      "\n"
     ]
    },
    {
     "name": "stdout",
     "output_type": "stream",
     "text": [
      "\u001b[32m[1019 09:19:32 @monitor.py:467]\u001b[0m GAN_loss/discrim/accuracy_fake: 0.786\n",
      "\u001b[32m[1019 09:19:32 @monitor.py:467]\u001b[0m GAN_loss/discrim/accuracy_real: 0.502\n",
      "\u001b[32m[1019 09:19:32 @monitor.py:467]\u001b[0m GAN_loss/discrim/loss: 0.5848\n",
      "\u001b[32m[1019 09:19:32 @monitor.py:467]\u001b[0m GAN_loss/gen/final-g-loss: 1.5027\n",
      "\u001b[32m[1019 09:19:32 @monitor.py:467]\u001b[0m GAN_loss/gen/klloss: 0.093899\n",
      "\u001b[32m[1019 09:19:32 @monitor.py:467]\u001b[0m GAN_loss/gen/loss: 1.4088\n",
      "\u001b[32m[1019 09:19:32 @monitor.py:467]\u001b[0m QueueInput/queue_size: 50\n",
      "\u001b[32m[1019 09:19:32 @base.py:275]\u001b[0m Start Epoch 1339 ...\n"
     ]
    },
    {
     "name": "stderr",
     "output_type": "stream",
     "text": [
      "100%|###################################################################################|175/175[00:05<00:00,31.93it/s]"
     ]
    },
    {
     "name": "stdout",
     "output_type": "stream",
     "text": [
      "\u001b[32m[1019 09:19:38 @base.py:285]\u001b[0m Epoch 1339 (global_step 234325) finished, time:5.48 seconds.\n",
      "\u001b[32m[1019 09:19:38 @saver.py:79]\u001b[0m Model saved to ../output/Chicago/DATGAN_asd29/model\\model-234325.\n"
     ]
    },
    {
     "name": "stderr",
     "output_type": "stream",
     "text": [
      "\n"
     ]
    },
    {
     "name": "stdout",
     "output_type": "stream",
     "text": [
      "\u001b[32m[1019 09:19:38 @monitor.py:467]\u001b[0m GAN_loss/discrim/accuracy_fake: 0.796\n",
      "\u001b[32m[1019 09:19:38 @monitor.py:467]\u001b[0m GAN_loss/discrim/accuracy_real: 0.538\n",
      "\u001b[32m[1019 09:19:38 @monitor.py:467]\u001b[0m GAN_loss/discrim/loss: 0.56361\n",
      "\u001b[32m[1019 09:19:38 @monitor.py:467]\u001b[0m GAN_loss/gen/final-g-loss: 1.5328\n",
      "\u001b[32m[1019 09:19:38 @monitor.py:467]\u001b[0m GAN_loss/gen/klloss: 0.076012\n",
      "\u001b[32m[1019 09:19:38 @monitor.py:467]\u001b[0m GAN_loss/gen/loss: 1.4568\n",
      "\u001b[32m[1019 09:19:38 @monitor.py:467]\u001b[0m QueueInput/queue_size: 50\n",
      "\u001b[32m[1019 09:19:38 @base.py:275]\u001b[0m Start Epoch 1340 ...\n"
     ]
    },
    {
     "name": "stderr",
     "output_type": "stream",
     "text": [
      "100%|###################################################################################|175/175[00:05<00:00,31.89it/s]"
     ]
    },
    {
     "name": "stdout",
     "output_type": "stream",
     "text": [
      "\u001b[32m[1019 09:19:44 @base.py:285]\u001b[0m Epoch 1340 (global_step 234500) finished, time:5.49 seconds.\n",
      "\u001b[32m[1019 09:19:44 @saver.py:79]\u001b[0m Model saved to ../output/Chicago/DATGAN_asd29/model\\model-234500.\n"
     ]
    },
    {
     "name": "stderr",
     "output_type": "stream",
     "text": [
      "\n"
     ]
    },
    {
     "name": "stdout",
     "output_type": "stream",
     "text": [
      "\u001b[32m[1019 09:19:44 @monitor.py:467]\u001b[0m GAN_loss/discrim/accuracy_fake: 0.804\n",
      "\u001b[32m[1019 09:19:44 @monitor.py:467]\u001b[0m GAN_loss/discrim/accuracy_real: 0.504\n",
      "\u001b[32m[1019 09:19:44 @monitor.py:467]\u001b[0m GAN_loss/discrim/loss: 0.59144\n",
      "\u001b[32m[1019 09:19:44 @monitor.py:467]\u001b[0m GAN_loss/gen/final-g-loss: 1.4619\n",
      "\u001b[32m[1019 09:19:44 @monitor.py:467]\u001b[0m GAN_loss/gen/klloss: 0.078623\n",
      "\u001b[32m[1019 09:19:44 @monitor.py:467]\u001b[0m GAN_loss/gen/loss: 1.3833\n",
      "\u001b[32m[1019 09:19:44 @monitor.py:467]\u001b[0m QueueInput/queue_size: 50\n",
      "\u001b[32m[1019 09:19:44 @base.py:275]\u001b[0m Start Epoch 1341 ...\n"
     ]
    },
    {
     "name": "stderr",
     "output_type": "stream",
     "text": [
      "100%|###################################################################################|175/175[00:05<00:00,31.93it/s]"
     ]
    },
    {
     "name": "stdout",
     "output_type": "stream",
     "text": [
      "\u001b[32m[1019 09:19:50 @base.py:285]\u001b[0m Epoch 1341 (global_step 234675) finished, time:5.48 seconds.\n",
      "\u001b[32m[1019 09:19:50 @saver.py:79]\u001b[0m Model saved to ../output/Chicago/DATGAN_asd29/model\\model-234675.\n"
     ]
    },
    {
     "name": "stderr",
     "output_type": "stream",
     "text": [
      "\n"
     ]
    },
    {
     "name": "stdout",
     "output_type": "stream",
     "text": [
      "\u001b[32m[1019 09:19:50 @monitor.py:467]\u001b[0m GAN_loss/discrim/accuracy_fake: 0.826\n",
      "\u001b[32m[1019 09:19:50 @monitor.py:467]\u001b[0m GAN_loss/discrim/accuracy_real: 0.526\n",
      "\u001b[32m[1019 09:19:50 @monitor.py:467]\u001b[0m GAN_loss/discrim/loss: 0.57369\n",
      "\u001b[32m[1019 09:19:50 @monitor.py:467]\u001b[0m GAN_loss/gen/final-g-loss: 1.4892\n",
      "\u001b[32m[1019 09:19:50 @monitor.py:467]\u001b[0m GAN_loss/gen/klloss: 0.058755\n",
      "\u001b[32m[1019 09:19:50 @monitor.py:467]\u001b[0m GAN_loss/gen/loss: 1.4304\n",
      "\u001b[32m[1019 09:19:50 @monitor.py:467]\u001b[0m QueueInput/queue_size: 50\n",
      "\u001b[32m[1019 09:19:50 @base.py:275]\u001b[0m Start Epoch 1342 ...\n"
     ]
    },
    {
     "name": "stderr",
     "output_type": "stream",
     "text": [
      "100%|###################################################################################|175/175[00:05<00:00,31.89it/s]"
     ]
    },
    {
     "name": "stdout",
     "output_type": "stream",
     "text": [
      "\u001b[32m[1019 09:19:55 @base.py:285]\u001b[0m Epoch 1342 (global_step 234850) finished, time:5.49 seconds.\n",
      "\u001b[32m[1019 09:19:55 @saver.py:79]\u001b[0m Model saved to ../output/Chicago/DATGAN_asd29/model\\model-234850.\n"
     ]
    },
    {
     "name": "stderr",
     "output_type": "stream",
     "text": [
      "\n"
     ]
    },
    {
     "name": "stdout",
     "output_type": "stream",
     "text": [
      "\u001b[32m[1019 09:19:56 @monitor.py:467]\u001b[0m GAN_loss/discrim/accuracy_fake: 0.824\n",
      "\u001b[32m[1019 09:19:56 @monitor.py:467]\u001b[0m GAN_loss/discrim/accuracy_real: 0.534\n",
      "\u001b[32m[1019 09:19:56 @monitor.py:467]\u001b[0m GAN_loss/discrim/loss: 0.56393\n",
      "\u001b[32m[1019 09:19:56 @monitor.py:467]\u001b[0m GAN_loss/gen/final-g-loss: 1.5997\n",
      "\u001b[32m[1019 09:19:56 @monitor.py:467]\u001b[0m GAN_loss/gen/klloss: 0.10997\n",
      "\u001b[32m[1019 09:19:56 @monitor.py:467]\u001b[0m GAN_loss/gen/loss: 1.4898\n",
      "\u001b[32m[1019 09:19:56 @monitor.py:467]\u001b[0m QueueInput/queue_size: 50\n",
      "\u001b[32m[1019 09:19:56 @base.py:275]\u001b[0m Start Epoch 1343 ...\n"
     ]
    },
    {
     "name": "stderr",
     "output_type": "stream",
     "text": [
      "100%|###################################################################################|175/175[00:05<00:00,31.91it/s]"
     ]
    },
    {
     "name": "stdout",
     "output_type": "stream",
     "text": [
      "\u001b[32m[1019 09:20:01 @base.py:285]\u001b[0m Epoch 1343 (global_step 235025) finished, time:5.49 seconds.\n",
      "\u001b[32m[1019 09:20:01 @saver.py:79]\u001b[0m Model saved to ../output/Chicago/DATGAN_asd29/model\\model-235025.\n"
     ]
    },
    {
     "name": "stderr",
     "output_type": "stream",
     "text": [
      "\n"
     ]
    },
    {
     "name": "stdout",
     "output_type": "stream",
     "text": [
      "\u001b[32m[1019 09:20:01 @monitor.py:467]\u001b[0m GAN_loss/discrim/accuracy_fake: 0.83\n",
      "\u001b[32m[1019 09:20:01 @monitor.py:467]\u001b[0m GAN_loss/discrim/accuracy_real: 0.512\n",
      "\u001b[32m[1019 09:20:01 @monitor.py:467]\u001b[0m GAN_loss/discrim/loss: 0.56798\n",
      "\u001b[32m[1019 09:20:01 @monitor.py:467]\u001b[0m GAN_loss/gen/final-g-loss: 1.5481\n",
      "\u001b[32m[1019 09:20:01 @monitor.py:467]\u001b[0m GAN_loss/gen/klloss: 0.058858\n",
      "\u001b[32m[1019 09:20:01 @monitor.py:467]\u001b[0m GAN_loss/gen/loss: 1.4892\n",
      "\u001b[32m[1019 09:20:01 @monitor.py:467]\u001b[0m QueueInput/queue_size: 50\n",
      "\u001b[32m[1019 09:20:01 @base.py:275]\u001b[0m Start Epoch 1344 ...\n"
     ]
    },
    {
     "name": "stderr",
     "output_type": "stream",
     "text": [
      "100%|###################################################################################|175/175[00:05<00:00,31.88it/s]"
     ]
    },
    {
     "name": "stdout",
     "output_type": "stream",
     "text": [
      "\u001b[32m[1019 09:20:07 @base.py:285]\u001b[0m Epoch 1344 (global_step 235200) finished, time:5.49 seconds.\n",
      "\u001b[32m[1019 09:20:07 @saver.py:79]\u001b[0m Model saved to ../output/Chicago/DATGAN_asd29/model\\model-235200.\n"
     ]
    },
    {
     "name": "stderr",
     "output_type": "stream",
     "text": [
      "\n"
     ]
    },
    {
     "name": "stdout",
     "output_type": "stream",
     "text": [
      "\u001b[32m[1019 09:20:07 @monitor.py:467]\u001b[0m GAN_loss/discrim/accuracy_fake: 0.81\n",
      "\u001b[32m[1019 09:20:07 @monitor.py:467]\u001b[0m GAN_loss/discrim/accuracy_real: 0.57\n",
      "\u001b[32m[1019 09:20:07 @monitor.py:467]\u001b[0m GAN_loss/discrim/loss: 0.55247\n",
      "\u001b[32m[1019 09:20:07 @monitor.py:467]\u001b[0m GAN_loss/gen/final-g-loss: 1.593\n",
      "\u001b[32m[1019 09:20:07 @monitor.py:467]\u001b[0m GAN_loss/gen/klloss: 0.053107\n",
      "\u001b[32m[1019 09:20:07 @monitor.py:467]\u001b[0m GAN_loss/gen/loss: 1.5399\n",
      "\u001b[32m[1019 09:20:07 @monitor.py:467]\u001b[0m QueueInput/queue_size: 50\n",
      "\u001b[32m[1019 09:20:07 @base.py:275]\u001b[0m Start Epoch 1345 ...\n"
     ]
    },
    {
     "name": "stderr",
     "output_type": "stream",
     "text": [
      "100%|###################################################################################|175/175[00:05<00:00,31.89it/s]"
     ]
    },
    {
     "name": "stdout",
     "output_type": "stream",
     "text": [
      "\u001b[32m[1019 09:20:13 @base.py:285]\u001b[0m Epoch 1345 (global_step 235375) finished, time:5.49 seconds.\n",
      "\u001b[32m[1019 09:20:13 @saver.py:79]\u001b[0m Model saved to ../output/Chicago/DATGAN_asd29/model\\model-235375.\n"
     ]
    },
    {
     "name": "stderr",
     "output_type": "stream",
     "text": [
      "\n"
     ]
    },
    {
     "name": "stdout",
     "output_type": "stream",
     "text": [
      "\u001b[32m[1019 09:20:13 @monitor.py:467]\u001b[0m GAN_loss/discrim/accuracy_fake: 0.816\n",
      "\u001b[32m[1019 09:20:13 @monitor.py:467]\u001b[0m GAN_loss/discrim/accuracy_real: 0.542\n",
      "\u001b[32m[1019 09:20:13 @monitor.py:467]\u001b[0m GAN_loss/discrim/loss: 0.56008\n",
      "\u001b[32m[1019 09:20:13 @monitor.py:467]\u001b[0m GAN_loss/gen/final-g-loss: 1.6228\n",
      "\u001b[32m[1019 09:20:13 @monitor.py:467]\u001b[0m GAN_loss/gen/klloss: 0.1154\n",
      "\u001b[32m[1019 09:20:13 @monitor.py:467]\u001b[0m GAN_loss/gen/loss: 1.5074\n",
      "\u001b[32m[1019 09:20:13 @monitor.py:467]\u001b[0m QueueInput/queue_size: 50\n",
      "\u001b[32m[1019 09:20:13 @base.py:275]\u001b[0m Start Epoch 1346 ...\n"
     ]
    },
    {
     "name": "stderr",
     "output_type": "stream",
     "text": [
      "100%|###################################################################################|175/175[00:05<00:00,31.90it/s]"
     ]
    },
    {
     "name": "stdout",
     "output_type": "stream",
     "text": [
      "\u001b[32m[1019 09:20:19 @base.py:285]\u001b[0m Epoch 1346 (global_step 235550) finished, time:5.49 seconds.\n",
      "\u001b[32m[1019 09:20:19 @saver.py:79]\u001b[0m Model saved to ../output/Chicago/DATGAN_asd29/model\\model-235550.\n"
     ]
    },
    {
     "name": "stderr",
     "output_type": "stream",
     "text": [
      "\n"
     ]
    },
    {
     "name": "stdout",
     "output_type": "stream",
     "text": [
      "\u001b[32m[1019 09:20:19 @monitor.py:467]\u001b[0m GAN_loss/discrim/accuracy_fake: 0.796\n",
      "\u001b[32m[1019 09:20:19 @monitor.py:467]\u001b[0m GAN_loss/discrim/accuracy_real: 0.548\n",
      "\u001b[32m[1019 09:20:19 @monitor.py:467]\u001b[0m GAN_loss/discrim/loss: 0.56929\n",
      "\u001b[32m[1019 09:20:19 @monitor.py:467]\u001b[0m GAN_loss/gen/final-g-loss: 1.5869\n",
      "\u001b[32m[1019 09:20:19 @monitor.py:467]\u001b[0m GAN_loss/gen/klloss: 0.11491\n",
      "\u001b[32m[1019 09:20:19 @monitor.py:467]\u001b[0m GAN_loss/gen/loss: 1.472\n",
      "\u001b[32m[1019 09:20:19 @monitor.py:467]\u001b[0m QueueInput/queue_size: 50\n",
      "\u001b[32m[1019 09:20:19 @base.py:275]\u001b[0m Start Epoch 1347 ...\n"
     ]
    },
    {
     "name": "stderr",
     "output_type": "stream",
     "text": [
      "100%|###################################################################################|175/175[00:05<00:00,31.86it/s]"
     ]
    },
    {
     "name": "stdout",
     "output_type": "stream",
     "text": [
      "\u001b[32m[1019 09:20:24 @base.py:285]\u001b[0m Epoch 1347 (global_step 235725) finished, time:5.49 seconds.\n",
      "\u001b[32m[1019 09:20:24 @saver.py:79]\u001b[0m Model saved to ../output/Chicago/DATGAN_asd29/model\\model-235725.\n"
     ]
    },
    {
     "name": "stderr",
     "output_type": "stream",
     "text": [
      "\n"
     ]
    },
    {
     "name": "stdout",
     "output_type": "stream",
     "text": [
      "\u001b[32m[1019 09:20:25 @monitor.py:467]\u001b[0m GAN_loss/discrim/accuracy_fake: 0.834\n",
      "\u001b[32m[1019 09:20:25 @monitor.py:467]\u001b[0m GAN_loss/discrim/accuracy_real: 0.622\n",
      "\u001b[32m[1019 09:20:25 @monitor.py:467]\u001b[0m GAN_loss/discrim/loss: 0.50622\n",
      "\u001b[32m[1019 09:20:25 @monitor.py:467]\u001b[0m GAN_loss/gen/final-g-loss: 1.7147\n",
      "\u001b[32m[1019 09:20:25 @monitor.py:467]\u001b[0m GAN_loss/gen/klloss: 0.080443\n",
      "\u001b[32m[1019 09:20:25 @monitor.py:467]\u001b[0m GAN_loss/gen/loss: 1.6343\n",
      "\u001b[32m[1019 09:20:25 @monitor.py:467]\u001b[0m QueueInput/queue_size: 50\n",
      "\u001b[32m[1019 09:20:25 @base.py:275]\u001b[0m Start Epoch 1348 ...\n"
     ]
    },
    {
     "name": "stderr",
     "output_type": "stream",
     "text": [
      "100%|###################################################################################|175/175[00:05<00:00,31.88it/s]"
     ]
    },
    {
     "name": "stdout",
     "output_type": "stream",
     "text": [
      "\u001b[32m[1019 09:20:30 @base.py:285]\u001b[0m Epoch 1348 (global_step 235900) finished, time:5.49 seconds.\n",
      "\u001b[32m[1019 09:20:30 @saver.py:79]\u001b[0m Model saved to ../output/Chicago/DATGAN_asd29/model\\model-235900.\n"
     ]
    },
    {
     "name": "stderr",
     "output_type": "stream",
     "text": [
      "\n"
     ]
    },
    {
     "name": "stdout",
     "output_type": "stream",
     "text": [
      "\u001b[32m[1019 09:20:30 @monitor.py:467]\u001b[0m GAN_loss/discrim/accuracy_fake: 0.856\n",
      "\u001b[32m[1019 09:20:30 @monitor.py:467]\u001b[0m GAN_loss/discrim/accuracy_real: 0.532\n",
      "\u001b[32m[1019 09:20:30 @monitor.py:467]\u001b[0m GAN_loss/discrim/loss: 0.54458\n",
      "\u001b[32m[1019 09:20:30 @monitor.py:467]\u001b[0m GAN_loss/gen/final-g-loss: 1.7728\n",
      "\u001b[32m[1019 09:20:30 @monitor.py:467]\u001b[0m GAN_loss/gen/klloss: 0.096058\n",
      "\u001b[32m[1019 09:20:30 @monitor.py:467]\u001b[0m GAN_loss/gen/loss: 1.6767\n",
      "\u001b[32m[1019 09:20:30 @monitor.py:467]\u001b[0m QueueInput/queue_size: 50\n",
      "\u001b[32m[1019 09:20:30 @base.py:275]\u001b[0m Start Epoch 1349 ...\n"
     ]
    },
    {
     "name": "stderr",
     "output_type": "stream",
     "text": [
      "100%|###################################################################################|175/175[00:05<00:00,31.91it/s]"
     ]
    },
    {
     "name": "stdout",
     "output_type": "stream",
     "text": [
      "\u001b[32m[1019 09:20:36 @base.py:285]\u001b[0m Epoch 1349 (global_step 236075) finished, time:5.48 seconds.\n",
      "\u001b[32m[1019 09:20:36 @saver.py:79]\u001b[0m Model saved to ../output/Chicago/DATGAN_asd29/model\\model-236075.\n"
     ]
    },
    {
     "name": "stderr",
     "output_type": "stream",
     "text": [
      "\n"
     ]
    },
    {
     "name": "stdout",
     "output_type": "stream",
     "text": [
      "\u001b[32m[1019 09:20:36 @monitor.py:467]\u001b[0m GAN_loss/discrim/accuracy_fake: 0.79\n",
      "\u001b[32m[1019 09:20:36 @monitor.py:467]\u001b[0m GAN_loss/discrim/accuracy_real: 0.566\n",
      "\u001b[32m[1019 09:20:36 @monitor.py:467]\u001b[0m GAN_loss/discrim/loss: 0.57167\n",
      "\u001b[32m[1019 09:20:36 @monitor.py:467]\u001b[0m GAN_loss/gen/final-g-loss: 1.6207\n",
      "\u001b[32m[1019 09:20:36 @monitor.py:467]\u001b[0m GAN_loss/gen/klloss: 0.083851\n",
      "\u001b[32m[1019 09:20:36 @monitor.py:467]\u001b[0m GAN_loss/gen/loss: 1.5369\n",
      "\u001b[32m[1019 09:20:36 @monitor.py:467]\u001b[0m QueueInput/queue_size: 50\n",
      "\u001b[32m[1019 09:20:36 @base.py:275]\u001b[0m Start Epoch 1350 ...\n"
     ]
    },
    {
     "name": "stderr",
     "output_type": "stream",
     "text": [
      "100%|###################################################################################|175/175[00:05<00:00,31.92it/s]"
     ]
    },
    {
     "name": "stdout",
     "output_type": "stream",
     "text": [
      "\u001b[32m[1019 09:20:42 @base.py:285]\u001b[0m Epoch 1350 (global_step 236250) finished, time:5.48 seconds.\n",
      "\u001b[32m[1019 09:20:42 @saver.py:79]\u001b[0m Model saved to ../output/Chicago/DATGAN_asd29/model\\model-236250.\n"
     ]
    },
    {
     "name": "stderr",
     "output_type": "stream",
     "text": [
      "\n"
     ]
    },
    {
     "name": "stdout",
     "output_type": "stream",
     "text": [
      "\u001b[32m[1019 09:20:42 @monitor.py:467]\u001b[0m GAN_loss/discrim/accuracy_fake: 0.798\n",
      "\u001b[32m[1019 09:20:42 @monitor.py:467]\u001b[0m GAN_loss/discrim/accuracy_real: 0.596\n",
      "\u001b[32m[1019 09:20:42 @monitor.py:467]\u001b[0m GAN_loss/discrim/loss: 0.54462\n",
      "\u001b[32m[1019 09:20:42 @monitor.py:467]\u001b[0m GAN_loss/gen/final-g-loss: 1.6684\n",
      "\u001b[32m[1019 09:20:42 @monitor.py:467]\u001b[0m GAN_loss/gen/klloss: 0.10217\n",
      "\u001b[32m[1019 09:20:42 @monitor.py:467]\u001b[0m GAN_loss/gen/loss: 1.5662\n",
      "\u001b[32m[1019 09:20:42 @monitor.py:467]\u001b[0m QueueInput/queue_size: 50\n",
      "\u001b[32m[1019 09:20:42 @base.py:275]\u001b[0m Start Epoch 1351 ...\n"
     ]
    },
    {
     "name": "stderr",
     "output_type": "stream",
     "text": [
      "100%|###################################################################################|175/175[00:05<00:00,31.88it/s]"
     ]
    },
    {
     "name": "stdout",
     "output_type": "stream",
     "text": [
      "\u001b[32m[1019 09:20:48 @base.py:285]\u001b[0m Epoch 1351 (global_step 236425) finished, time:5.49 seconds.\n",
      "\u001b[32m[1019 09:20:48 @saver.py:79]\u001b[0m Model saved to ../output/Chicago/DATGAN_asd29/model\\model-236425.\n"
     ]
    },
    {
     "name": "stderr",
     "output_type": "stream",
     "text": [
      "\n"
     ]
    },
    {
     "name": "stdout",
     "output_type": "stream",
     "text": [
      "\u001b[32m[1019 09:20:48 @monitor.py:467]\u001b[0m GAN_loss/discrim/accuracy_fake: 0.804\n",
      "\u001b[32m[1019 09:20:48 @monitor.py:467]\u001b[0m GAN_loss/discrim/accuracy_real: 0.588\n",
      "\u001b[32m[1019 09:20:48 @monitor.py:467]\u001b[0m GAN_loss/discrim/loss: 0.55492\n",
      "\u001b[32m[1019 09:20:48 @monitor.py:467]\u001b[0m GAN_loss/gen/final-g-loss: 1.6656\n",
      "\u001b[32m[1019 09:20:48 @monitor.py:467]\u001b[0m GAN_loss/gen/klloss: 0.077844\n",
      "\u001b[32m[1019 09:20:48 @monitor.py:467]\u001b[0m GAN_loss/gen/loss: 1.5878\n",
      "\u001b[32m[1019 09:20:48 @monitor.py:467]\u001b[0m QueueInput/queue_size: 50\n",
      "\u001b[32m[1019 09:20:48 @base.py:275]\u001b[0m Start Epoch 1352 ...\n"
     ]
    },
    {
     "name": "stderr",
     "output_type": "stream",
     "text": [
      "100%|###################################################################################|175/175[00:05<00:00,31.92it/s]"
     ]
    },
    {
     "name": "stdout",
     "output_type": "stream",
     "text": [
      "\u001b[32m[1019 09:20:53 @base.py:285]\u001b[0m Epoch 1352 (global_step 236600) finished, time:5.48 seconds.\n",
      "\u001b[32m[1019 09:20:53 @saver.py:79]\u001b[0m Model saved to ../output/Chicago/DATGAN_asd29/model\\model-236600.\n"
     ]
    },
    {
     "name": "stderr",
     "output_type": "stream",
     "text": [
      "\n"
     ]
    },
    {
     "name": "stdout",
     "output_type": "stream",
     "text": [
      "\u001b[32m[1019 09:20:54 @monitor.py:467]\u001b[0m GAN_loss/discrim/accuracy_fake: 0.808\n",
      "\u001b[32m[1019 09:20:54 @monitor.py:467]\u001b[0m GAN_loss/discrim/accuracy_real: 0.466\n",
      "\u001b[32m[1019 09:20:54 @monitor.py:467]\u001b[0m GAN_loss/discrim/loss: 0.59297\n",
      "\u001b[32m[1019 09:20:54 @monitor.py:467]\u001b[0m GAN_loss/gen/final-g-loss: 1.5689\n",
      "\u001b[32m[1019 09:20:54 @monitor.py:467]\u001b[0m GAN_loss/gen/klloss: 0.080414\n",
      "\u001b[32m[1019 09:20:54 @monitor.py:467]\u001b[0m GAN_loss/gen/loss: 1.4885\n",
      "\u001b[32m[1019 09:20:54 @monitor.py:467]\u001b[0m QueueInput/queue_size: 50\n",
      "\u001b[32m[1019 09:20:54 @base.py:275]\u001b[0m Start Epoch 1353 ...\n"
     ]
    },
    {
     "name": "stderr",
     "output_type": "stream",
     "text": [
      "100%|###################################################################################|175/175[00:05<00:00,31.88it/s]"
     ]
    },
    {
     "name": "stdout",
     "output_type": "stream",
     "text": [
      "\u001b[32m[1019 09:20:59 @base.py:285]\u001b[0m Epoch 1353 (global_step 236775) finished, time:5.49 seconds.\n",
      "\u001b[32m[1019 09:20:59 @saver.py:79]\u001b[0m Model saved to ../output/Chicago/DATGAN_asd29/model\\model-236775.\n"
     ]
    },
    {
     "name": "stderr",
     "output_type": "stream",
     "text": [
      "\n"
     ]
    },
    {
     "name": "stdout",
     "output_type": "stream",
     "text": [
      "\u001b[32m[1019 09:20:59 @monitor.py:467]\u001b[0m GAN_loss/discrim/accuracy_fake: 0.77\n",
      "\u001b[32m[1019 09:20:59 @monitor.py:467]\u001b[0m GAN_loss/discrim/accuracy_real: 0.53\n",
      "\u001b[32m[1019 09:20:59 @monitor.py:467]\u001b[0m GAN_loss/discrim/loss: 0.57745\n",
      "\u001b[32m[1019 09:20:59 @monitor.py:467]\u001b[0m GAN_loss/gen/final-g-loss: 1.5431\n",
      "\u001b[32m[1019 09:20:59 @monitor.py:467]\u001b[0m GAN_loss/gen/klloss: 0.081724\n",
      "\u001b[32m[1019 09:20:59 @monitor.py:467]\u001b[0m GAN_loss/gen/loss: 1.4613\n",
      "\u001b[32m[1019 09:20:59 @monitor.py:467]\u001b[0m QueueInput/queue_size: 50\n",
      "\u001b[32m[1019 09:20:59 @base.py:275]\u001b[0m Start Epoch 1354 ...\n"
     ]
    },
    {
     "name": "stderr",
     "output_type": "stream",
     "text": [
      "100%|###################################################################################|175/175[00:05<00:00,31.90it/s]"
     ]
    },
    {
     "name": "stdout",
     "output_type": "stream",
     "text": [
      "\u001b[32m[1019 09:21:05 @base.py:285]\u001b[0m Epoch 1354 (global_step 236950) finished, time:5.49 seconds.\n",
      "\u001b[32m[1019 09:21:05 @saver.py:79]\u001b[0m Model saved to ../output/Chicago/DATGAN_asd29/model\\model-236950.\n"
     ]
    },
    {
     "name": "stderr",
     "output_type": "stream",
     "text": [
      "\n"
     ]
    },
    {
     "name": "stdout",
     "output_type": "stream",
     "text": [
      "\u001b[32m[1019 09:21:05 @monitor.py:467]\u001b[0m GAN_loss/discrim/accuracy_fake: 0.796\n",
      "\u001b[32m[1019 09:21:05 @monitor.py:467]\u001b[0m GAN_loss/discrim/accuracy_real: 0.494\n",
      "\u001b[32m[1019 09:21:05 @monitor.py:467]\u001b[0m GAN_loss/discrim/loss: 0.60148\n",
      "\u001b[32m[1019 09:21:05 @monitor.py:467]\u001b[0m GAN_loss/gen/final-g-loss: 1.4454\n",
      "\u001b[32m[1019 09:21:05 @monitor.py:467]\u001b[0m GAN_loss/gen/klloss: 0.050231\n",
      "\u001b[32m[1019 09:21:05 @monitor.py:467]\u001b[0m GAN_loss/gen/loss: 1.3952\n",
      "\u001b[32m[1019 09:21:05 @monitor.py:467]\u001b[0m QueueInput/queue_size: 50\n",
      "\u001b[32m[1019 09:21:05 @base.py:275]\u001b[0m Start Epoch 1355 ...\n"
     ]
    },
    {
     "name": "stderr",
     "output_type": "stream",
     "text": [
      "100%|###################################################################################|175/175[00:05<00:00,31.88it/s]"
     ]
    },
    {
     "name": "stdout",
     "output_type": "stream",
     "text": [
      "\u001b[32m[1019 09:21:11 @base.py:285]\u001b[0m Epoch 1355 (global_step 237125) finished, time:5.49 seconds.\n",
      "\u001b[32m[1019 09:21:11 @saver.py:79]\u001b[0m Model saved to ../output/Chicago/DATGAN_asd29/model\\model-237125.\n"
     ]
    },
    {
     "name": "stderr",
     "output_type": "stream",
     "text": [
      "\n"
     ]
    },
    {
     "name": "stdout",
     "output_type": "stream",
     "text": [
      "\u001b[32m[1019 09:21:11 @monitor.py:467]\u001b[0m GAN_loss/discrim/accuracy_fake: 0.814\n",
      "\u001b[32m[1019 09:21:11 @monitor.py:467]\u001b[0m GAN_loss/discrim/accuracy_real: 0.472\n",
      "\u001b[32m[1019 09:21:11 @monitor.py:467]\u001b[0m GAN_loss/discrim/loss: 0.58821\n",
      "\u001b[32m[1019 09:21:11 @monitor.py:467]\u001b[0m GAN_loss/gen/final-g-loss: 1.4574\n",
      "\u001b[32m[1019 09:21:11 @monitor.py:467]\u001b[0m GAN_loss/gen/klloss: 0.041713\n",
      "\u001b[32m[1019 09:21:11 @monitor.py:467]\u001b[0m GAN_loss/gen/loss: 1.4157\n",
      "\u001b[32m[1019 09:21:11 @monitor.py:467]\u001b[0m QueueInput/queue_size: 50\n",
      "\u001b[32m[1019 09:21:11 @base.py:275]\u001b[0m Start Epoch 1356 ...\n"
     ]
    },
    {
     "name": "stderr",
     "output_type": "stream",
     "text": [
      "100%|###################################################################################|175/175[00:05<00:00,31.95it/s]"
     ]
    },
    {
     "name": "stdout",
     "output_type": "stream",
     "text": [
      "\u001b[32m[1019 09:21:17 @base.py:285]\u001b[0m Epoch 1356 (global_step 237300) finished, time:5.48 seconds.\n",
      "\u001b[32m[1019 09:21:17 @saver.py:79]\u001b[0m Model saved to ../output/Chicago/DATGAN_asd29/model\\model-237300.\n"
     ]
    },
    {
     "name": "stderr",
     "output_type": "stream",
     "text": [
      "\n"
     ]
    },
    {
     "name": "stdout",
     "output_type": "stream",
     "text": [
      "\u001b[32m[1019 09:21:17 @monitor.py:467]\u001b[0m GAN_loss/discrim/accuracy_fake: 0.852\n",
      "\u001b[32m[1019 09:21:17 @monitor.py:467]\u001b[0m GAN_loss/discrim/accuracy_real: 0.43\n",
      "\u001b[32m[1019 09:21:17 @monitor.py:467]\u001b[0m GAN_loss/discrim/loss: 0.56984\n",
      "\u001b[32m[1019 09:21:17 @monitor.py:467]\u001b[0m GAN_loss/gen/final-g-loss: 1.6335\n",
      "\u001b[32m[1019 09:21:17 @monitor.py:467]\u001b[0m GAN_loss/gen/klloss: 0.051722\n",
      "\u001b[32m[1019 09:21:17 @monitor.py:467]\u001b[0m GAN_loss/gen/loss: 1.5818\n",
      "\u001b[32m[1019 09:21:17 @monitor.py:467]\u001b[0m QueueInput/queue_size: 50\n",
      "\u001b[32m[1019 09:21:17 @base.py:275]\u001b[0m Start Epoch 1357 ...\n"
     ]
    },
    {
     "name": "stderr",
     "output_type": "stream",
     "text": [
      "100%|###################################################################################|175/175[00:05<00:00,31.89it/s]"
     ]
    },
    {
     "name": "stdout",
     "output_type": "stream",
     "text": [
      "\u001b[32m[1019 09:21:22 @base.py:285]\u001b[0m Epoch 1357 (global_step 237475) finished, time:5.49 seconds.\n",
      "\u001b[32m[1019 09:21:22 @saver.py:79]\u001b[0m Model saved to ../output/Chicago/DATGAN_asd29/model\\model-237475.\n"
     ]
    },
    {
     "name": "stderr",
     "output_type": "stream",
     "text": [
      "\n"
     ]
    },
    {
     "name": "stdout",
     "output_type": "stream",
     "text": [
      "\u001b[32m[1019 09:21:23 @monitor.py:467]\u001b[0m GAN_loss/discrim/accuracy_fake: 0.806\n",
      "\u001b[32m[1019 09:21:23 @monitor.py:467]\u001b[0m GAN_loss/discrim/accuracy_real: 0.504\n",
      "\u001b[32m[1019 09:21:23 @monitor.py:467]\u001b[0m GAN_loss/discrim/loss: 0.58052\n",
      "\u001b[32m[1019 09:21:23 @monitor.py:467]\u001b[0m GAN_loss/gen/final-g-loss: 1.559\n",
      "\u001b[32m[1019 09:21:23 @monitor.py:467]\u001b[0m GAN_loss/gen/klloss: 0.060977\n",
      "\u001b[32m[1019 09:21:23 @monitor.py:467]\u001b[0m GAN_loss/gen/loss: 1.498\n",
      "\u001b[32m[1019 09:21:23 @monitor.py:467]\u001b[0m QueueInput/queue_size: 50\n",
      "\u001b[32m[1019 09:21:23 @base.py:275]\u001b[0m Start Epoch 1358 ...\n"
     ]
    },
    {
     "name": "stderr",
     "output_type": "stream",
     "text": [
      "100%|###################################################################################|175/175[00:05<00:00,31.93it/s]"
     ]
    },
    {
     "name": "stdout",
     "output_type": "stream",
     "text": [
      "\u001b[32m[1019 09:21:28 @base.py:285]\u001b[0m Epoch 1358 (global_step 237650) finished, time:5.48 seconds.\n",
      "\u001b[32m[1019 09:21:28 @saver.py:79]\u001b[0m Model saved to ../output/Chicago/DATGAN_asd29/model\\model-237650.\n"
     ]
    },
    {
     "name": "stderr",
     "output_type": "stream",
     "text": [
      "\n"
     ]
    },
    {
     "name": "stdout",
     "output_type": "stream",
     "text": [
      "\u001b[32m[1019 09:21:28 @monitor.py:467]\u001b[0m GAN_loss/discrim/accuracy_fake: 0.792\n",
      "\u001b[32m[1019 09:21:28 @monitor.py:467]\u001b[0m GAN_loss/discrim/accuracy_real: 0.442\n",
      "\u001b[32m[1019 09:21:28 @monitor.py:467]\u001b[0m GAN_loss/discrim/loss: 0.6228\n",
      "\u001b[32m[1019 09:21:28 @monitor.py:467]\u001b[0m GAN_loss/gen/final-g-loss: 1.4901\n",
      "\u001b[32m[1019 09:21:28 @monitor.py:467]\u001b[0m GAN_loss/gen/klloss: 0.069337\n",
      "\u001b[32m[1019 09:21:28 @monitor.py:467]\u001b[0m GAN_loss/gen/loss: 1.4207\n",
      "\u001b[32m[1019 09:21:28 @monitor.py:467]\u001b[0m QueueInput/queue_size: 50\n",
      "\u001b[32m[1019 09:21:28 @base.py:275]\u001b[0m Start Epoch 1359 ...\n"
     ]
    },
    {
     "name": "stderr",
     "output_type": "stream",
     "text": [
      "100%|###################################################################################|175/175[00:05<00:00,31.91it/s]"
     ]
    },
    {
     "name": "stdout",
     "output_type": "stream",
     "text": [
      "\u001b[32m[1019 09:21:34 @base.py:285]\u001b[0m Epoch 1359 (global_step 237825) finished, time:5.48 seconds.\n",
      "\u001b[32m[1019 09:21:34 @saver.py:79]\u001b[0m Model saved to ../output/Chicago/DATGAN_asd29/model\\model-237825.\n"
     ]
    },
    {
     "name": "stderr",
     "output_type": "stream",
     "text": [
      "\n"
     ]
    },
    {
     "name": "stdout",
     "output_type": "stream",
     "text": [
      "\u001b[32m[1019 09:21:34 @monitor.py:467]\u001b[0m GAN_loss/discrim/accuracy_fake: 0.802\n",
      "\u001b[32m[1019 09:21:34 @monitor.py:467]\u001b[0m GAN_loss/discrim/accuracy_real: 0.47\n",
      "\u001b[32m[1019 09:21:34 @monitor.py:467]\u001b[0m GAN_loss/discrim/loss: 0.59246\n",
      "\u001b[32m[1019 09:21:34 @monitor.py:467]\u001b[0m GAN_loss/gen/final-g-loss: 1.4233\n",
      "\u001b[32m[1019 09:21:34 @monitor.py:467]\u001b[0m GAN_loss/gen/klloss: 0.044901\n",
      "\u001b[32m[1019 09:21:34 @monitor.py:467]\u001b[0m GAN_loss/gen/loss: 1.3784\n",
      "\u001b[32m[1019 09:21:34 @monitor.py:467]\u001b[0m QueueInput/queue_size: 50\n",
      "\u001b[32m[1019 09:21:34 @base.py:275]\u001b[0m Start Epoch 1360 ...\n"
     ]
    },
    {
     "name": "stderr",
     "output_type": "stream",
     "text": [
      "100%|###################################################################################|175/175[00:05<00:00,31.92it/s]"
     ]
    },
    {
     "name": "stdout",
     "output_type": "stream",
     "text": [
      "\u001b[32m[1019 09:21:40 @base.py:285]\u001b[0m Epoch 1360 (global_step 238000) finished, time:5.48 seconds.\n",
      "\u001b[32m[1019 09:21:40 @saver.py:79]\u001b[0m Model saved to ../output/Chicago/DATGAN_asd29/model\\model-238000.\n"
     ]
    },
    {
     "name": "stderr",
     "output_type": "stream",
     "text": [
      "\n"
     ]
    },
    {
     "name": "stdout",
     "output_type": "stream",
     "text": [
      "\u001b[32m[1019 09:21:40 @monitor.py:467]\u001b[0m GAN_loss/discrim/accuracy_fake: 0.806\n",
      "\u001b[32m[1019 09:21:40 @monitor.py:467]\u001b[0m GAN_loss/discrim/accuracy_real: 0.474\n",
      "\u001b[32m[1019 09:21:40 @monitor.py:467]\u001b[0m GAN_loss/discrim/loss: 0.59133\n",
      "\u001b[32m[1019 09:21:40 @monitor.py:467]\u001b[0m GAN_loss/gen/final-g-loss: 1.5597\n",
      "\u001b[32m[1019 09:21:40 @monitor.py:467]\u001b[0m GAN_loss/gen/klloss: 0.10076\n",
      "\u001b[32m[1019 09:21:40 @monitor.py:467]\u001b[0m GAN_loss/gen/loss: 1.459\n",
      "\u001b[32m[1019 09:21:40 @monitor.py:467]\u001b[0m QueueInput/queue_size: 50\n",
      "\u001b[32m[1019 09:21:40 @base.py:275]\u001b[0m Start Epoch 1361 ...\n"
     ]
    },
    {
     "name": "stderr",
     "output_type": "stream",
     "text": [
      "100%|###################################################################################|175/175[00:05<00:00,31.88it/s]"
     ]
    },
    {
     "name": "stdout",
     "output_type": "stream",
     "text": [
      "\u001b[32m[1019 09:21:45 @base.py:285]\u001b[0m Epoch 1361 (global_step 238175) finished, time:5.49 seconds.\n",
      "\u001b[32m[1019 09:21:46 @saver.py:79]\u001b[0m Model saved to ../output/Chicago/DATGAN_asd29/model\\model-238175.\n"
     ]
    },
    {
     "name": "stderr",
     "output_type": "stream",
     "text": [
      "\n"
     ]
    },
    {
     "name": "stdout",
     "output_type": "stream",
     "text": [
      "\u001b[32m[1019 09:21:46 @monitor.py:467]\u001b[0m GAN_loss/discrim/accuracy_fake: 0.83\n",
      "\u001b[32m[1019 09:21:46 @monitor.py:467]\u001b[0m GAN_loss/discrim/accuracy_real: 0.464\n",
      "\u001b[32m[1019 09:21:46 @monitor.py:467]\u001b[0m GAN_loss/discrim/loss: 0.59294\n",
      "\u001b[32m[1019 09:21:46 @monitor.py:467]\u001b[0m GAN_loss/gen/final-g-loss: 1.5319\n",
      "\u001b[32m[1019 09:21:46 @monitor.py:467]\u001b[0m GAN_loss/gen/klloss: 0.089604\n",
      "\u001b[32m[1019 09:21:46 @monitor.py:467]\u001b[0m GAN_loss/gen/loss: 1.4423\n",
      "\u001b[32m[1019 09:21:46 @monitor.py:467]\u001b[0m QueueInput/queue_size: 50\n",
      "\u001b[32m[1019 09:21:46 @base.py:275]\u001b[0m Start Epoch 1362 ...\n"
     ]
    },
    {
     "name": "stderr",
     "output_type": "stream",
     "text": [
      "100%|###################################################################################|175/175[00:05<00:00,31.91it/s]"
     ]
    },
    {
     "name": "stdout",
     "output_type": "stream",
     "text": [
      "\u001b[32m[1019 09:21:51 @base.py:285]\u001b[0m Epoch 1362 (global_step 238350) finished, time:5.48 seconds.\n",
      "\u001b[32m[1019 09:21:51 @saver.py:79]\u001b[0m Model saved to ../output/Chicago/DATGAN_asd29/model\\model-238350.\n"
     ]
    },
    {
     "name": "stderr",
     "output_type": "stream",
     "text": [
      "\n"
     ]
    },
    {
     "name": "stdout",
     "output_type": "stream",
     "text": [
      "\u001b[32m[1019 09:21:52 @monitor.py:467]\u001b[0m GAN_loss/discrim/accuracy_fake: 0.828\n",
      "\u001b[32m[1019 09:21:52 @monitor.py:467]\u001b[0m GAN_loss/discrim/accuracy_real: 0.566\n",
      "\u001b[32m[1019 09:21:52 @monitor.py:467]\u001b[0m GAN_loss/discrim/loss: 0.54499\n",
      "\u001b[32m[1019 09:21:52 @monitor.py:467]\u001b[0m GAN_loss/gen/final-g-loss: 1.6246\n",
      "\u001b[32m[1019 09:21:52 @monitor.py:467]\u001b[0m GAN_loss/gen/klloss: 0.085176\n",
      "\u001b[32m[1019 09:21:52 @monitor.py:467]\u001b[0m GAN_loss/gen/loss: 1.5394\n",
      "\u001b[32m[1019 09:21:52 @monitor.py:467]\u001b[0m QueueInput/queue_size: 50\n",
      "\u001b[32m[1019 09:21:52 @base.py:275]\u001b[0m Start Epoch 1363 ...\n"
     ]
    },
    {
     "name": "stderr",
     "output_type": "stream",
     "text": [
      "100%|###################################################################################|175/175[00:05<00:00,31.89it/s]"
     ]
    },
    {
     "name": "stdout",
     "output_type": "stream",
     "text": [
      "\u001b[32m[1019 09:21:57 @base.py:285]\u001b[0m Epoch 1363 (global_step 238525) finished, time:5.49 seconds.\n",
      "\u001b[32m[1019 09:21:57 @saver.py:79]\u001b[0m Model saved to ../output/Chicago/DATGAN_asd29/model\\model-238525.\n"
     ]
    },
    {
     "name": "stderr",
     "output_type": "stream",
     "text": [
      "\n"
     ]
    },
    {
     "name": "stdout",
     "output_type": "stream",
     "text": [
      "\u001b[32m[1019 09:21:57 @monitor.py:467]\u001b[0m GAN_loss/discrim/accuracy_fake: 0.846\n",
      "\u001b[32m[1019 09:21:57 @monitor.py:467]\u001b[0m GAN_loss/discrim/accuracy_real: 0.504\n",
      "\u001b[32m[1019 09:21:57 @monitor.py:467]\u001b[0m GAN_loss/discrim/loss: 0.57071\n",
      "\u001b[32m[1019 09:21:57 @monitor.py:467]\u001b[0m GAN_loss/gen/final-g-loss: 1.5671\n",
      "\u001b[32m[1019 09:21:57 @monitor.py:467]\u001b[0m GAN_loss/gen/klloss: 0.060207\n",
      "\u001b[32m[1019 09:21:57 @monitor.py:467]\u001b[0m GAN_loss/gen/loss: 1.5069\n",
      "\u001b[32m[1019 09:21:57 @monitor.py:467]\u001b[0m QueueInput/queue_size: 50\n",
      "\u001b[32m[1019 09:21:57 @base.py:275]\u001b[0m Start Epoch 1364 ...\n"
     ]
    },
    {
     "name": "stderr",
     "output_type": "stream",
     "text": [
      "100%|###################################################################################|175/175[00:05<00:00,31.87it/s]"
     ]
    },
    {
     "name": "stdout",
     "output_type": "stream",
     "text": [
      "\u001b[32m[1019 09:22:03 @base.py:285]\u001b[0m Epoch 1364 (global_step 238700) finished, time:5.49 seconds.\n",
      "\u001b[32m[1019 09:22:03 @saver.py:79]\u001b[0m Model saved to ../output/Chicago/DATGAN_asd29/model\\model-238700.\n"
     ]
    },
    {
     "name": "stderr",
     "output_type": "stream",
     "text": [
      "\n"
     ]
    },
    {
     "name": "stdout",
     "output_type": "stream",
     "text": [
      "\u001b[32m[1019 09:22:03 @monitor.py:467]\u001b[0m GAN_loss/discrim/accuracy_fake: 0.816\n",
      "\u001b[32m[1019 09:22:03 @monitor.py:467]\u001b[0m GAN_loss/discrim/accuracy_real: 0.518\n",
      "\u001b[32m[1019 09:22:03 @monitor.py:467]\u001b[0m GAN_loss/discrim/loss: 0.57546\n",
      "\u001b[32m[1019 09:22:03 @monitor.py:467]\u001b[0m GAN_loss/gen/final-g-loss: 1.5412\n",
      "\u001b[32m[1019 09:22:03 @monitor.py:467]\u001b[0m GAN_loss/gen/klloss: 0.076592\n",
      "\u001b[32m[1019 09:22:03 @monitor.py:467]\u001b[0m GAN_loss/gen/loss: 1.4646\n",
      "\u001b[32m[1019 09:22:03 @monitor.py:467]\u001b[0m QueueInput/queue_size: 50\n",
      "\u001b[32m[1019 09:22:03 @base.py:275]\u001b[0m Start Epoch 1365 ...\n"
     ]
    },
    {
     "name": "stderr",
     "output_type": "stream",
     "text": [
      "100%|###################################################################################|175/175[00:05<00:00,31.93it/s]"
     ]
    },
    {
     "name": "stdout",
     "output_type": "stream",
     "text": [
      "\u001b[32m[1019 09:22:09 @base.py:285]\u001b[0m Epoch 1365 (global_step 238875) finished, time:5.48 seconds.\n",
      "\u001b[32m[1019 09:22:09 @saver.py:79]\u001b[0m Model saved to ../output/Chicago/DATGAN_asd29/model\\model-238875.\n"
     ]
    },
    {
     "name": "stderr",
     "output_type": "stream",
     "text": [
      "\n"
     ]
    },
    {
     "name": "stdout",
     "output_type": "stream",
     "text": [
      "\u001b[32m[1019 09:22:09 @monitor.py:467]\u001b[0m GAN_loss/discrim/accuracy_fake: 0.834\n",
      "\u001b[32m[1019 09:22:09 @monitor.py:467]\u001b[0m GAN_loss/discrim/accuracy_real: 0.468\n",
      "\u001b[32m[1019 09:22:09 @monitor.py:467]\u001b[0m GAN_loss/discrim/loss: 0.5841\n",
      "\u001b[32m[1019 09:22:09 @monitor.py:467]\u001b[0m GAN_loss/gen/final-g-loss: 1.6022\n",
      "\u001b[32m[1019 09:22:09 @monitor.py:467]\u001b[0m GAN_loss/gen/klloss: 0.071451\n",
      "\u001b[32m[1019 09:22:09 @monitor.py:467]\u001b[0m GAN_loss/gen/loss: 1.5307\n",
      "\u001b[32m[1019 09:22:09 @monitor.py:467]\u001b[0m QueueInput/queue_size: 50\n",
      "\u001b[32m[1019 09:22:09 @base.py:275]\u001b[0m Start Epoch 1366 ...\n"
     ]
    },
    {
     "name": "stderr",
     "output_type": "stream",
     "text": [
      "100%|###################################################################################|175/175[00:05<00:00,31.88it/s]"
     ]
    },
    {
     "name": "stdout",
     "output_type": "stream",
     "text": [
      "\u001b[32m[1019 09:22:14 @base.py:285]\u001b[0m Epoch 1366 (global_step 239050) finished, time:5.49 seconds.\n",
      "\u001b[32m[1019 09:22:15 @saver.py:79]\u001b[0m Model saved to ../output/Chicago/DATGAN_asd29/model\\model-239050.\n"
     ]
    },
    {
     "name": "stderr",
     "output_type": "stream",
     "text": [
      "\n"
     ]
    },
    {
     "name": "stdout",
     "output_type": "stream",
     "text": [
      "\u001b[32m[1019 09:22:15 @monitor.py:467]\u001b[0m GAN_loss/discrim/accuracy_fake: 0.786\n",
      "\u001b[32m[1019 09:22:15 @monitor.py:467]\u001b[0m GAN_loss/discrim/accuracy_real: 0.566\n",
      "\u001b[32m[1019 09:22:15 @monitor.py:467]\u001b[0m GAN_loss/discrim/loss: 0.5864\n",
      "\u001b[32m[1019 09:22:15 @monitor.py:467]\u001b[0m GAN_loss/gen/final-g-loss: 1.5575\n",
      "\u001b[32m[1019 09:22:15 @monitor.py:467]\u001b[0m GAN_loss/gen/klloss: 0.10344\n",
      "\u001b[32m[1019 09:22:15 @monitor.py:467]\u001b[0m GAN_loss/gen/loss: 1.4541\n",
      "\u001b[32m[1019 09:22:15 @monitor.py:467]\u001b[0m QueueInput/queue_size: 50\n",
      "\u001b[32m[1019 09:22:15 @base.py:275]\u001b[0m Start Epoch 1367 ...\n"
     ]
    },
    {
     "name": "stderr",
     "output_type": "stream",
     "text": [
      "100%|###################################################################################|175/175[00:05<00:00,31.93it/s]"
     ]
    },
    {
     "name": "stdout",
     "output_type": "stream",
     "text": [
      "\u001b[32m[1019 09:22:20 @base.py:285]\u001b[0m Epoch 1367 (global_step 239225) finished, time:5.48 seconds.\n",
      "\u001b[32m[1019 09:22:20 @saver.py:79]\u001b[0m Model saved to ../output/Chicago/DATGAN_asd29/model\\model-239225.\n"
     ]
    },
    {
     "name": "stderr",
     "output_type": "stream",
     "text": [
      "\n"
     ]
    },
    {
     "name": "stdout",
     "output_type": "stream",
     "text": [
      "\u001b[32m[1019 09:22:21 @monitor.py:467]\u001b[0m GAN_loss/discrim/accuracy_fake: 0.804\n",
      "\u001b[32m[1019 09:22:21 @monitor.py:467]\u001b[0m GAN_loss/discrim/accuracy_real: 0.516\n",
      "\u001b[32m[1019 09:22:21 @monitor.py:467]\u001b[0m GAN_loss/discrim/loss: 0.5749\n",
      "\u001b[32m[1019 09:22:21 @monitor.py:467]\u001b[0m GAN_loss/gen/final-g-loss: 1.521\n",
      "\u001b[32m[1019 09:22:21 @monitor.py:467]\u001b[0m GAN_loss/gen/klloss: 0.070285\n",
      "\u001b[32m[1019 09:22:21 @monitor.py:467]\u001b[0m GAN_loss/gen/loss: 1.4507\n",
      "\u001b[32m[1019 09:22:21 @monitor.py:467]\u001b[0m QueueInput/queue_size: 50\n",
      "\u001b[32m[1019 09:22:21 @base.py:275]\u001b[0m Start Epoch 1368 ...\n"
     ]
    },
    {
     "name": "stderr",
     "output_type": "stream",
     "text": [
      "100%|###################################################################################|175/175[00:05<00:00,31.88it/s]"
     ]
    },
    {
     "name": "stdout",
     "output_type": "stream",
     "text": [
      "\u001b[32m[1019 09:22:26 @base.py:285]\u001b[0m Epoch 1368 (global_step 239400) finished, time:5.49 seconds.\n",
      "\u001b[32m[1019 09:22:26 @saver.py:79]\u001b[0m Model saved to ../output/Chicago/DATGAN_asd29/model\\model-239400.\n"
     ]
    },
    {
     "name": "stderr",
     "output_type": "stream",
     "text": [
      "\n"
     ]
    },
    {
     "name": "stdout",
     "output_type": "stream",
     "text": [
      "\u001b[32m[1019 09:22:26 @monitor.py:467]\u001b[0m GAN_loss/discrim/accuracy_fake: 0.862\n",
      "\u001b[32m[1019 09:22:26 @monitor.py:467]\u001b[0m GAN_loss/discrim/accuracy_real: 0.52\n",
      "\u001b[32m[1019 09:22:26 @monitor.py:467]\u001b[0m GAN_loss/discrim/loss: 0.54821\n",
      "\u001b[32m[1019 09:22:26 @monitor.py:467]\u001b[0m GAN_loss/gen/final-g-loss: 1.6651\n",
      "\u001b[32m[1019 09:22:26 @monitor.py:467]\u001b[0m GAN_loss/gen/klloss: 0.075916\n",
      "\u001b[32m[1019 09:22:26 @monitor.py:467]\u001b[0m GAN_loss/gen/loss: 1.5892\n",
      "\u001b[32m[1019 09:22:26 @monitor.py:467]\u001b[0m QueueInput/queue_size: 50\n",
      "\u001b[32m[1019 09:22:26 @base.py:275]\u001b[0m Start Epoch 1369 ...\n"
     ]
    },
    {
     "name": "stderr",
     "output_type": "stream",
     "text": [
      "100%|###################################################################################|175/175[00:05<00:00,31.92it/s]"
     ]
    },
    {
     "name": "stdout",
     "output_type": "stream",
     "text": [
      "\u001b[32m[1019 09:22:32 @base.py:285]\u001b[0m Epoch 1369 (global_step 239575) finished, time:5.48 seconds.\n",
      "\u001b[32m[1019 09:22:32 @saver.py:79]\u001b[0m Model saved to ../output/Chicago/DATGAN_asd29/model\\model-239575.\n"
     ]
    },
    {
     "name": "stderr",
     "output_type": "stream",
     "text": [
      "\n"
     ]
    },
    {
     "name": "stdout",
     "output_type": "stream",
     "text": [
      "\u001b[32m[1019 09:22:32 @monitor.py:467]\u001b[0m GAN_loss/discrim/accuracy_fake: 0.894\n",
      "\u001b[32m[1019 09:22:32 @monitor.py:467]\u001b[0m GAN_loss/discrim/accuracy_real: 0.488\n",
      "\u001b[32m[1019 09:22:32 @monitor.py:467]\u001b[0m GAN_loss/discrim/loss: 0.53583\n",
      "\u001b[32m[1019 09:22:32 @monitor.py:467]\u001b[0m GAN_loss/gen/final-g-loss: 1.7291\n",
      "\u001b[32m[1019 09:22:32 @monitor.py:467]\u001b[0m GAN_loss/gen/klloss: 0.07428\n",
      "\u001b[32m[1019 09:22:32 @monitor.py:467]\u001b[0m GAN_loss/gen/loss: 1.6548\n",
      "\u001b[32m[1019 09:22:32 @monitor.py:467]\u001b[0m QueueInput/queue_size: 50\n",
      "\u001b[32m[1019 09:22:32 @base.py:275]\u001b[0m Start Epoch 1370 ...\n"
     ]
    },
    {
     "name": "stderr",
     "output_type": "stream",
     "text": [
      "100%|###################################################################################|175/175[00:05<00:00,31.86it/s]"
     ]
    },
    {
     "name": "stdout",
     "output_type": "stream",
     "text": [
      "\u001b[32m[1019 09:22:38 @base.py:285]\u001b[0m Epoch 1370 (global_step 239750) finished, time:5.49 seconds.\n",
      "\u001b[32m[1019 09:22:38 @saver.py:79]\u001b[0m Model saved to ../output/Chicago/DATGAN_asd29/model\\model-239750.\n"
     ]
    },
    {
     "name": "stderr",
     "output_type": "stream",
     "text": [
      "\n"
     ]
    },
    {
     "name": "stdout",
     "output_type": "stream",
     "text": [
      "\u001b[32m[1019 09:22:38 @monitor.py:467]\u001b[0m GAN_loss/discrim/accuracy_fake: 0.83\n",
      "\u001b[32m[1019 09:22:38 @monitor.py:467]\u001b[0m GAN_loss/discrim/accuracy_real: 0.508\n",
      "\u001b[32m[1019 09:22:38 @monitor.py:467]\u001b[0m GAN_loss/discrim/loss: 0.58927\n",
      "\u001b[32m[1019 09:22:38 @monitor.py:467]\u001b[0m GAN_loss/gen/final-g-loss: 1.5362\n",
      "\u001b[32m[1019 09:22:38 @monitor.py:467]\u001b[0m GAN_loss/gen/klloss: 0.063431\n",
      "\u001b[32m[1019 09:22:38 @monitor.py:467]\u001b[0m GAN_loss/gen/loss: 1.4728\n",
      "\u001b[32m[1019 09:22:38 @monitor.py:467]\u001b[0m QueueInput/queue_size: 50\n",
      "\u001b[32m[1019 09:22:38 @base.py:275]\u001b[0m Start Epoch 1371 ...\n"
     ]
    },
    {
     "name": "stderr",
     "output_type": "stream",
     "text": [
      "100%|###################################################################################|175/175[00:05<00:00,31.93it/s]"
     ]
    },
    {
     "name": "stdout",
     "output_type": "stream",
     "text": [
      "\u001b[32m[1019 09:22:43 @base.py:285]\u001b[0m Epoch 1371 (global_step 239925) finished, time:5.48 seconds.\n",
      "\u001b[32m[1019 09:22:44 @saver.py:79]\u001b[0m Model saved to ../output/Chicago/DATGAN_asd29/model\\model-239925.\n"
     ]
    },
    {
     "name": "stderr",
     "output_type": "stream",
     "text": [
      "\n"
     ]
    },
    {
     "name": "stdout",
     "output_type": "stream",
     "text": [
      "\u001b[32m[1019 09:22:44 @monitor.py:467]\u001b[0m GAN_loss/discrim/accuracy_fake: 0.81\n",
      "\u001b[32m[1019 09:22:44 @monitor.py:467]\u001b[0m GAN_loss/discrim/accuracy_real: 0.472\n",
      "\u001b[32m[1019 09:22:44 @monitor.py:467]\u001b[0m GAN_loss/discrim/loss: 0.58656\n",
      "\u001b[32m[1019 09:22:44 @monitor.py:467]\u001b[0m GAN_loss/gen/final-g-loss: 1.448\n",
      "\u001b[32m[1019 09:22:44 @monitor.py:467]\u001b[0m GAN_loss/gen/klloss: 0.057951\n",
      "\u001b[32m[1019 09:22:44 @monitor.py:467]\u001b[0m GAN_loss/gen/loss: 1.39\n",
      "\u001b[32m[1019 09:22:44 @monitor.py:467]\u001b[0m QueueInput/queue_size: 50\n",
      "\u001b[32m[1019 09:22:44 @base.py:275]\u001b[0m Start Epoch 1372 ...\n"
     ]
    },
    {
     "name": "stderr",
     "output_type": "stream",
     "text": [
      "100%|###################################################################################|175/175[00:05<00:00,31.88it/s]"
     ]
    },
    {
     "name": "stdout",
     "output_type": "stream",
     "text": [
      "\u001b[32m[1019 09:22:49 @base.py:285]\u001b[0m Epoch 1372 (global_step 240100) finished, time:5.49 seconds.\n",
      "\u001b[32m[1019 09:22:49 @saver.py:79]\u001b[0m Model saved to ../output/Chicago/DATGAN_asd29/model\\model-240100.\n"
     ]
    },
    {
     "name": "stderr",
     "output_type": "stream",
     "text": [
      "\n"
     ]
    },
    {
     "name": "stdout",
     "output_type": "stream",
     "text": [
      "\u001b[32m[1019 09:22:50 @monitor.py:467]\u001b[0m GAN_loss/discrim/accuracy_fake: 0.824\n",
      "\u001b[32m[1019 09:22:50 @monitor.py:467]\u001b[0m GAN_loss/discrim/accuracy_real: 0.482\n",
      "\u001b[32m[1019 09:22:50 @monitor.py:467]\u001b[0m GAN_loss/discrim/loss: 0.58583\n",
      "\u001b[32m[1019 09:22:50 @monitor.py:467]\u001b[0m GAN_loss/gen/final-g-loss: 1.5042\n",
      "\u001b[32m[1019 09:22:50 @monitor.py:467]\u001b[0m GAN_loss/gen/klloss: 0.093867\n",
      "\u001b[32m[1019 09:22:50 @monitor.py:467]\u001b[0m GAN_loss/gen/loss: 1.4104\n",
      "\u001b[32m[1019 09:22:50 @monitor.py:467]\u001b[0m QueueInput/queue_size: 50\n",
      "\u001b[32m[1019 09:22:50 @base.py:275]\u001b[0m Start Epoch 1373 ...\n"
     ]
    },
    {
     "name": "stderr",
     "output_type": "stream",
     "text": [
      "100%|###################################################################################|175/175[00:05<00:00,31.91it/s]"
     ]
    },
    {
     "name": "stdout",
     "output_type": "stream",
     "text": [
      "\u001b[32m[1019 09:22:55 @base.py:285]\u001b[0m Epoch 1373 (global_step 240275) finished, time:5.48 seconds.\n",
      "\u001b[32m[1019 09:22:55 @saver.py:79]\u001b[0m Model saved to ../output/Chicago/DATGAN_asd29/model\\model-240275.\n"
     ]
    },
    {
     "name": "stderr",
     "output_type": "stream",
     "text": [
      "\n"
     ]
    },
    {
     "name": "stdout",
     "output_type": "stream",
     "text": [
      "\u001b[32m[1019 09:22:55 @monitor.py:467]\u001b[0m GAN_loss/discrim/accuracy_fake: 0.854\n",
      "\u001b[32m[1019 09:22:55 @monitor.py:467]\u001b[0m GAN_loss/discrim/accuracy_real: 0.478\n",
      "\u001b[32m[1019 09:22:55 @monitor.py:467]\u001b[0m GAN_loss/discrim/loss: 0.57883\n",
      "\u001b[32m[1019 09:22:55 @monitor.py:467]\u001b[0m GAN_loss/gen/final-g-loss: 1.485\n",
      "\u001b[32m[1019 09:22:55 @monitor.py:467]\u001b[0m GAN_loss/gen/klloss: 0.07213\n",
      "\u001b[32m[1019 09:22:55 @monitor.py:467]\u001b[0m GAN_loss/gen/loss: 1.4129\n",
      "\u001b[32m[1019 09:22:55 @monitor.py:467]\u001b[0m QueueInput/queue_size: 50\n",
      "\u001b[32m[1019 09:22:55 @base.py:275]\u001b[0m Start Epoch 1374 ...\n"
     ]
    },
    {
     "name": "stderr",
     "output_type": "stream",
     "text": [
      "100%|###################################################################################|175/175[00:05<00:00,31.88it/s]"
     ]
    },
    {
     "name": "stdout",
     "output_type": "stream",
     "text": [
      "\u001b[32m[1019 09:23:01 @base.py:285]\u001b[0m Epoch 1374 (global_step 240450) finished, time:5.49 seconds.\n",
      "\u001b[32m[1019 09:23:01 @saver.py:79]\u001b[0m Model saved to ../output/Chicago/DATGAN_asd29/model\\model-240450.\n"
     ]
    },
    {
     "name": "stderr",
     "output_type": "stream",
     "text": [
      "\n"
     ]
    },
    {
     "name": "stdout",
     "output_type": "stream",
     "text": [
      "\u001b[32m[1019 09:23:01 @monitor.py:467]\u001b[0m GAN_loss/discrim/accuracy_fake: 0.796\n",
      "\u001b[32m[1019 09:23:01 @monitor.py:467]\u001b[0m GAN_loss/discrim/accuracy_real: 0.516\n",
      "\u001b[32m[1019 09:23:01 @monitor.py:467]\u001b[0m GAN_loss/discrim/loss: 0.591\n",
      "\u001b[32m[1019 09:23:01 @monitor.py:467]\u001b[0m GAN_loss/gen/final-g-loss: 1.4516\n",
      "\u001b[32m[1019 09:23:01 @monitor.py:467]\u001b[0m GAN_loss/gen/klloss: 0.067616\n",
      "\u001b[32m[1019 09:23:01 @monitor.py:467]\u001b[0m GAN_loss/gen/loss: 1.384\n",
      "\u001b[32m[1019 09:23:01 @monitor.py:467]\u001b[0m QueueInput/queue_size: 50\n",
      "\u001b[32m[1019 09:23:01 @base.py:275]\u001b[0m Start Epoch 1375 ...\n"
     ]
    },
    {
     "name": "stderr",
     "output_type": "stream",
     "text": [
      "100%|###################################################################################|175/175[00:05<00:00,31.91it/s]"
     ]
    },
    {
     "name": "stdout",
     "output_type": "stream",
     "text": [
      "\u001b[32m[1019 09:23:07 @base.py:285]\u001b[0m Epoch 1375 (global_step 240625) finished, time:5.48 seconds.\n",
      "\u001b[32m[1019 09:23:07 @saver.py:79]\u001b[0m Model saved to ../output/Chicago/DATGAN_asd29/model\\model-240625.\n"
     ]
    },
    {
     "name": "stderr",
     "output_type": "stream",
     "text": [
      "\n"
     ]
    },
    {
     "name": "stdout",
     "output_type": "stream",
     "text": [
      "\u001b[32m[1019 09:23:07 @monitor.py:467]\u001b[0m GAN_loss/discrim/accuracy_fake: 0.852\n",
      "\u001b[32m[1019 09:23:07 @monitor.py:467]\u001b[0m GAN_loss/discrim/accuracy_real: 0.518\n",
      "\u001b[32m[1019 09:23:07 @monitor.py:467]\u001b[0m GAN_loss/discrim/loss: 0.56026\n",
      "\u001b[32m[1019 09:23:07 @monitor.py:467]\u001b[0m GAN_loss/gen/final-g-loss: 1.5579\n",
      "\u001b[32m[1019 09:23:07 @monitor.py:467]\u001b[0m GAN_loss/gen/klloss: 0.087552\n",
      "\u001b[32m[1019 09:23:07 @monitor.py:467]\u001b[0m GAN_loss/gen/loss: 1.4704\n",
      "\u001b[32m[1019 09:23:07 @monitor.py:467]\u001b[0m QueueInput/queue_size: 50\n",
      "\u001b[32m[1019 09:23:07 @base.py:275]\u001b[0m Start Epoch 1376 ...\n"
     ]
    },
    {
     "name": "stderr",
     "output_type": "stream",
     "text": [
      "100%|###################################################################################|175/175[00:05<00:00,31.90it/s]"
     ]
    },
    {
     "name": "stdout",
     "output_type": "stream",
     "text": [
      "\u001b[32m[1019 09:23:12 @base.py:285]\u001b[0m Epoch 1376 (global_step 240800) finished, time:5.49 seconds.\n",
      "\u001b[32m[1019 09:23:13 @saver.py:79]\u001b[0m Model saved to ../output/Chicago/DATGAN_asd29/model\\model-240800.\n"
     ]
    },
    {
     "name": "stderr",
     "output_type": "stream",
     "text": [
      "\n"
     ]
    },
    {
     "name": "stdout",
     "output_type": "stream",
     "text": [
      "\u001b[32m[1019 09:23:13 @monitor.py:467]\u001b[0m GAN_loss/discrim/accuracy_fake: 0.836\n",
      "\u001b[32m[1019 09:23:13 @monitor.py:467]\u001b[0m GAN_loss/discrim/accuracy_real: 0.606\n",
      "\u001b[32m[1019 09:23:13 @monitor.py:467]\u001b[0m GAN_loss/discrim/loss: 0.52978\n",
      "\u001b[32m[1019 09:23:13 @monitor.py:467]\u001b[0m GAN_loss/gen/final-g-loss: 1.6837\n",
      "\u001b[32m[1019 09:23:13 @monitor.py:467]\u001b[0m GAN_loss/gen/klloss: 0.090587\n",
      "\u001b[32m[1019 09:23:13 @monitor.py:467]\u001b[0m GAN_loss/gen/loss: 1.5931\n",
      "\u001b[32m[1019 09:23:13 @monitor.py:467]\u001b[0m QueueInput/queue_size: 50\n",
      "\u001b[32m[1019 09:23:13 @base.py:275]\u001b[0m Start Epoch 1377 ...\n"
     ]
    },
    {
     "name": "stderr",
     "output_type": "stream",
     "text": [
      "100%|###################################################################################|175/175[00:05<00:00,31.91it/s]"
     ]
    },
    {
     "name": "stdout",
     "output_type": "stream",
     "text": [
      "\u001b[32m[1019 09:23:18 @base.py:285]\u001b[0m Epoch 1377 (global_step 240975) finished, time:5.49 seconds.\n",
      "\u001b[32m[1019 09:23:18 @saver.py:79]\u001b[0m Model saved to ../output/Chicago/DATGAN_asd29/model\\model-240975.\n"
     ]
    },
    {
     "name": "stderr",
     "output_type": "stream",
     "text": [
      "\n"
     ]
    },
    {
     "name": "stdout",
     "output_type": "stream",
     "text": [
      "\u001b[32m[1019 09:23:19 @monitor.py:467]\u001b[0m GAN_loss/discrim/accuracy_fake: 0.808\n",
      "\u001b[32m[1019 09:23:19 @monitor.py:467]\u001b[0m GAN_loss/discrim/accuracy_real: 0.554\n",
      "\u001b[32m[1019 09:23:19 @monitor.py:467]\u001b[0m GAN_loss/discrim/loss: 0.5744\n",
      "\u001b[32m[1019 09:23:19 @monitor.py:467]\u001b[0m GAN_loss/gen/final-g-loss: 1.5506\n",
      "\u001b[32m[1019 09:23:19 @monitor.py:467]\u001b[0m GAN_loss/gen/klloss: 0.085108\n",
      "\u001b[32m[1019 09:23:19 @monitor.py:467]\u001b[0m GAN_loss/gen/loss: 1.4655\n",
      "\u001b[32m[1019 09:23:19 @monitor.py:467]\u001b[0m QueueInput/queue_size: 50\n",
      "\u001b[32m[1019 09:23:19 @base.py:275]\u001b[0m Start Epoch 1378 ...\n"
     ]
    },
    {
     "name": "stderr",
     "output_type": "stream",
     "text": [
      "100%|###################################################################################|175/175[00:05<00:00,31.86it/s]"
     ]
    },
    {
     "name": "stdout",
     "output_type": "stream",
     "text": [
      "\u001b[32m[1019 09:23:24 @base.py:285]\u001b[0m Epoch 1378 (global_step 241150) finished, time:5.49 seconds.\n",
      "\u001b[32m[1019 09:23:24 @saver.py:79]\u001b[0m Model saved to ../output/Chicago/DATGAN_asd29/model\\model-241150.\n"
     ]
    },
    {
     "name": "stderr",
     "output_type": "stream",
     "text": [
      "\n"
     ]
    },
    {
     "name": "stdout",
     "output_type": "stream",
     "text": [
      "\u001b[32m[1019 09:23:24 @monitor.py:467]\u001b[0m GAN_loss/discrim/accuracy_fake: 0.806\n",
      "\u001b[32m[1019 09:23:24 @monitor.py:467]\u001b[0m GAN_loss/discrim/accuracy_real: 0.492\n",
      "\u001b[32m[1019 09:23:24 @monitor.py:467]\u001b[0m GAN_loss/discrim/loss: 0.58753\n",
      "\u001b[32m[1019 09:23:24 @monitor.py:467]\u001b[0m GAN_loss/gen/final-g-loss: 1.5792\n",
      "\u001b[32m[1019 09:23:24 @monitor.py:467]\u001b[0m GAN_loss/gen/klloss: 0.058822\n",
      "\u001b[32m[1019 09:23:24 @monitor.py:467]\u001b[0m GAN_loss/gen/loss: 1.5204\n",
      "\u001b[32m[1019 09:23:24 @monitor.py:467]\u001b[0m QueueInput/queue_size: 50\n",
      "\u001b[32m[1019 09:23:24 @base.py:275]\u001b[0m Start Epoch 1379 ...\n"
     ]
    },
    {
     "name": "stderr",
     "output_type": "stream",
     "text": [
      "100%|###################################################################################|175/175[00:05<00:00,31.93it/s]"
     ]
    },
    {
     "name": "stdout",
     "output_type": "stream",
     "text": [
      "\u001b[32m[1019 09:23:30 @base.py:285]\u001b[0m Epoch 1379 (global_step 241325) finished, time:5.48 seconds.\n",
      "\u001b[32m[1019 09:23:30 @saver.py:79]\u001b[0m Model saved to ../output/Chicago/DATGAN_asd29/model\\model-241325.\n"
     ]
    },
    {
     "name": "stderr",
     "output_type": "stream",
     "text": [
      "\n"
     ]
    },
    {
     "name": "stdout",
     "output_type": "stream",
     "text": [
      "\u001b[32m[1019 09:23:30 @monitor.py:467]\u001b[0m GAN_loss/discrim/accuracy_fake: 0.802\n",
      "\u001b[32m[1019 09:23:30 @monitor.py:467]\u001b[0m GAN_loss/discrim/accuracy_real: 0.478\n",
      "\u001b[32m[1019 09:23:30 @monitor.py:467]\u001b[0m GAN_loss/discrim/loss: 0.59774\n",
      "\u001b[32m[1019 09:23:30 @monitor.py:467]\u001b[0m GAN_loss/gen/final-g-loss: 1.4479\n",
      "\u001b[32m[1019 09:23:30 @monitor.py:467]\u001b[0m GAN_loss/gen/klloss: 0.062552\n",
      "\u001b[32m[1019 09:23:30 @monitor.py:467]\u001b[0m GAN_loss/gen/loss: 1.3853\n",
      "\u001b[32m[1019 09:23:30 @monitor.py:467]\u001b[0m QueueInput/queue_size: 50\n",
      "\u001b[32m[1019 09:23:30 @base.py:275]\u001b[0m Start Epoch 1380 ...\n"
     ]
    },
    {
     "name": "stderr",
     "output_type": "stream",
     "text": [
      "100%|###################################################################################|175/175[00:05<00:00,31.87it/s]"
     ]
    },
    {
     "name": "stdout",
     "output_type": "stream",
     "text": [
      "\u001b[32m[1019 09:23:36 @base.py:285]\u001b[0m Epoch 1380 (global_step 241500) finished, time:5.49 seconds.\n",
      "\u001b[32m[1019 09:23:36 @saver.py:79]\u001b[0m Model saved to ../output/Chicago/DATGAN_asd29/model\\model-241500.\n"
     ]
    },
    {
     "name": "stderr",
     "output_type": "stream",
     "text": [
      "\n"
     ]
    },
    {
     "name": "stdout",
     "output_type": "stream",
     "text": [
      "\u001b[32m[1019 09:23:36 @monitor.py:467]\u001b[0m GAN_loss/discrim/accuracy_fake: 0.8\n",
      "\u001b[32m[1019 09:23:36 @monitor.py:467]\u001b[0m GAN_loss/discrim/accuracy_real: 0.5\n",
      "\u001b[32m[1019 09:23:36 @monitor.py:467]\u001b[0m GAN_loss/discrim/loss: 0.59382\n",
      "\u001b[32m[1019 09:23:36 @monitor.py:467]\u001b[0m GAN_loss/gen/final-g-loss: 1.4612\n",
      "\u001b[32m[1019 09:23:36 @monitor.py:467]\u001b[0m GAN_loss/gen/klloss: 0.079301\n",
      "\u001b[32m[1019 09:23:36 @monitor.py:467]\u001b[0m GAN_loss/gen/loss: 1.3819\n",
      "\u001b[32m[1019 09:23:36 @monitor.py:467]\u001b[0m QueueInput/queue_size: 50\n",
      "\u001b[32m[1019 09:23:36 @base.py:275]\u001b[0m Start Epoch 1381 ...\n"
     ]
    },
    {
     "name": "stderr",
     "output_type": "stream",
     "text": [
      "100%|###################################################################################|175/175[00:05<00:00,31.90it/s]"
     ]
    },
    {
     "name": "stdout",
     "output_type": "stream",
     "text": [
      "\u001b[32m[1019 09:23:41 @base.py:285]\u001b[0m Epoch 1381 (global_step 241675) finished, time:5.49 seconds.\n",
      "\u001b[32m[1019 09:23:41 @saver.py:79]\u001b[0m Model saved to ../output/Chicago/DATGAN_asd29/model\\model-241675.\n"
     ]
    },
    {
     "name": "stderr",
     "output_type": "stream",
     "text": [
      "\n"
     ]
    },
    {
     "name": "stdout",
     "output_type": "stream",
     "text": [
      "\u001b[32m[1019 09:23:42 @monitor.py:467]\u001b[0m GAN_loss/discrim/accuracy_fake: 0.776\n",
      "\u001b[32m[1019 09:23:42 @monitor.py:467]\u001b[0m GAN_loss/discrim/accuracy_real: 0.412\n",
      "\u001b[32m[1019 09:23:42 @monitor.py:467]\u001b[0m GAN_loss/discrim/loss: 0.63223\n",
      "\u001b[32m[1019 09:23:42 @monitor.py:467]\u001b[0m GAN_loss/gen/final-g-loss: 1.4261\n",
      "\u001b[32m[1019 09:23:42 @monitor.py:467]\u001b[0m GAN_loss/gen/klloss: 0.057064\n",
      "\u001b[32m[1019 09:23:42 @monitor.py:467]\u001b[0m GAN_loss/gen/loss: 1.369\n",
      "\u001b[32m[1019 09:23:42 @monitor.py:467]\u001b[0m QueueInput/queue_size: 50\n",
      "\u001b[32m[1019 09:23:42 @base.py:275]\u001b[0m Start Epoch 1382 ...\n"
     ]
    },
    {
     "name": "stderr",
     "output_type": "stream",
     "text": [
      "100%|###################################################################################|175/175[00:05<00:00,31.86it/s]"
     ]
    },
    {
     "name": "stdout",
     "output_type": "stream",
     "text": [
      "\u001b[32m[1019 09:23:47 @base.py:285]\u001b[0m Epoch 1382 (global_step 241850) finished, time:5.49 seconds.\n",
      "\u001b[32m[1019 09:23:47 @saver.py:79]\u001b[0m Model saved to ../output/Chicago/DATGAN_asd29/model\\model-241850.\n"
     ]
    },
    {
     "name": "stderr",
     "output_type": "stream",
     "text": [
      "\n"
     ]
    },
    {
     "name": "stdout",
     "output_type": "stream",
     "text": [
      "\u001b[32m[1019 09:23:48 @monitor.py:467]\u001b[0m GAN_loss/discrim/accuracy_fake: 0.798\n",
      "\u001b[32m[1019 09:23:48 @monitor.py:467]\u001b[0m GAN_loss/discrim/accuracy_real: 0.528\n",
      "\u001b[32m[1019 09:23:48 @monitor.py:467]\u001b[0m GAN_loss/discrim/loss: 0.56266\n",
      "\u001b[32m[1019 09:23:48 @monitor.py:467]\u001b[0m GAN_loss/gen/final-g-loss: 1.5837\n",
      "\u001b[32m[1019 09:23:48 @monitor.py:467]\u001b[0m GAN_loss/gen/klloss: 0.089785\n",
      "\u001b[32m[1019 09:23:48 @monitor.py:467]\u001b[0m GAN_loss/gen/loss: 1.4939\n",
      "\u001b[32m[1019 09:23:48 @monitor.py:467]\u001b[0m QueueInput/queue_size: 50\n",
      "\u001b[32m[1019 09:23:48 @base.py:275]\u001b[0m Start Epoch 1383 ...\n"
     ]
    },
    {
     "name": "stderr",
     "output_type": "stream",
     "text": [
      "100%|###################################################################################|175/175[00:05<00:00,31.85it/s]"
     ]
    },
    {
     "name": "stdout",
     "output_type": "stream",
     "text": [
      "\u001b[32m[1019 09:23:53 @base.py:285]\u001b[0m Epoch 1383 (global_step 242025) finished, time:5.49 seconds.\n",
      "\u001b[32m[1019 09:23:53 @saver.py:79]\u001b[0m Model saved to ../output/Chicago/DATGAN_asd29/model\\model-242025.\n"
     ]
    },
    {
     "name": "stderr",
     "output_type": "stream",
     "text": [
      "\n"
     ]
    },
    {
     "name": "stdout",
     "output_type": "stream",
     "text": [
      "\u001b[32m[1019 09:23:53 @monitor.py:467]\u001b[0m GAN_loss/discrim/accuracy_fake: 0.838\n",
      "\u001b[32m[1019 09:23:53 @monitor.py:467]\u001b[0m GAN_loss/discrim/accuracy_real: 0.474\n",
      "\u001b[32m[1019 09:23:53 @monitor.py:467]\u001b[0m GAN_loss/discrim/loss: 0.58413\n",
      "\u001b[32m[1019 09:23:53 @monitor.py:467]\u001b[0m GAN_loss/gen/final-g-loss: 1.6012\n",
      "\u001b[32m[1019 09:23:53 @monitor.py:467]\u001b[0m GAN_loss/gen/klloss: 0.075426\n",
      "\u001b[32m[1019 09:23:53 @monitor.py:467]\u001b[0m GAN_loss/gen/loss: 1.5257\n",
      "\u001b[32m[1019 09:23:53 @monitor.py:467]\u001b[0m QueueInput/queue_size: 50\n",
      "\u001b[32m[1019 09:23:53 @base.py:275]\u001b[0m Start Epoch 1384 ...\n"
     ]
    },
    {
     "name": "stderr",
     "output_type": "stream",
     "text": [
      "100%|###################################################################################|175/175[00:05<00:00,31.93it/s]"
     ]
    },
    {
     "name": "stdout",
     "output_type": "stream",
     "text": [
      "\u001b[32m[1019 09:23:59 @base.py:285]\u001b[0m Epoch 1384 (global_step 242200) finished, time:5.48 seconds.\n",
      "\u001b[32m[1019 09:23:59 @saver.py:79]\u001b[0m Model saved to ../output/Chicago/DATGAN_asd29/model\\model-242200.\n"
     ]
    },
    {
     "name": "stderr",
     "output_type": "stream",
     "text": [
      "\n"
     ]
    },
    {
     "name": "stdout",
     "output_type": "stream",
     "text": [
      "\u001b[32m[1019 09:23:59 @monitor.py:467]\u001b[0m GAN_loss/discrim/accuracy_fake: 0.798\n",
      "\u001b[32m[1019 09:23:59 @monitor.py:467]\u001b[0m GAN_loss/discrim/accuracy_real: 0.498\n",
      "\u001b[32m[1019 09:23:59 @monitor.py:467]\u001b[0m GAN_loss/discrim/loss: 0.57939\n",
      "\u001b[32m[1019 09:23:59 @monitor.py:467]\u001b[0m GAN_loss/gen/final-g-loss: 1.6265\n",
      "\u001b[32m[1019 09:23:59 @monitor.py:467]\u001b[0m GAN_loss/gen/klloss: 0.14179\n",
      "\u001b[32m[1019 09:23:59 @monitor.py:467]\u001b[0m GAN_loss/gen/loss: 1.4847\n",
      "\u001b[32m[1019 09:23:59 @monitor.py:467]\u001b[0m QueueInput/queue_size: 50\n",
      "\u001b[32m[1019 09:23:59 @base.py:275]\u001b[0m Start Epoch 1385 ...\n"
     ]
    },
    {
     "name": "stderr",
     "output_type": "stream",
     "text": [
      "100%|###################################################################################|175/175[00:05<00:00,31.87it/s]"
     ]
    },
    {
     "name": "stdout",
     "output_type": "stream",
     "text": [
      "\u001b[32m[1019 09:24:05 @base.py:285]\u001b[0m Epoch 1385 (global_step 242375) finished, time:5.49 seconds.\n",
      "\u001b[32m[1019 09:24:05 @saver.py:79]\u001b[0m Model saved to ../output/Chicago/DATGAN_asd29/model\\model-242375.\n"
     ]
    },
    {
     "name": "stderr",
     "output_type": "stream",
     "text": [
      "\n"
     ]
    },
    {
     "name": "stdout",
     "output_type": "stream",
     "text": [
      "\u001b[32m[1019 09:24:05 @monitor.py:467]\u001b[0m GAN_loss/discrim/accuracy_fake: 0.772\n",
      "\u001b[32m[1019 09:24:05 @monitor.py:467]\u001b[0m GAN_loss/discrim/accuracy_real: 0.51\n",
      "\u001b[32m[1019 09:24:05 @monitor.py:467]\u001b[0m GAN_loss/discrim/loss: 0.58979\n",
      "\u001b[32m[1019 09:24:05 @monitor.py:467]\u001b[0m GAN_loss/gen/final-g-loss: 1.4762\n",
      "\u001b[32m[1019 09:24:05 @monitor.py:467]\u001b[0m GAN_loss/gen/klloss: 0.052338\n",
      "\u001b[32m[1019 09:24:05 @monitor.py:467]\u001b[0m GAN_loss/gen/loss: 1.4238\n",
      "\u001b[32m[1019 09:24:05 @monitor.py:467]\u001b[0m QueueInput/queue_size: 50\n",
      "\u001b[32m[1019 09:24:05 @base.py:275]\u001b[0m Start Epoch 1386 ...\n"
     ]
    },
    {
     "name": "stderr",
     "output_type": "stream",
     "text": [
      "100%|###################################################################################|175/175[00:05<00:00,31.93it/s]"
     ]
    },
    {
     "name": "stdout",
     "output_type": "stream",
     "text": [
      "\u001b[32m[1019 09:24:10 @base.py:285]\u001b[0m Epoch 1386 (global_step 242550) finished, time:5.48 seconds.\n",
      "\u001b[32m[1019 09:24:11 @saver.py:79]\u001b[0m Model saved to ../output/Chicago/DATGAN_asd29/model\\model-242550.\n"
     ]
    },
    {
     "name": "stderr",
     "output_type": "stream",
     "text": [
      "\n"
     ]
    },
    {
     "name": "stdout",
     "output_type": "stream",
     "text": [
      "\u001b[32m[1019 09:24:11 @monitor.py:467]\u001b[0m GAN_loss/discrim/accuracy_fake: 0.812\n",
      "\u001b[32m[1019 09:24:11 @monitor.py:467]\u001b[0m GAN_loss/discrim/accuracy_real: 0.528\n",
      "\u001b[32m[1019 09:24:11 @monitor.py:467]\u001b[0m GAN_loss/discrim/loss: 0.55895\n",
      "\u001b[32m[1019 09:24:11 @monitor.py:467]\u001b[0m GAN_loss/gen/final-g-loss: 1.7383\n",
      "\u001b[32m[1019 09:24:11 @monitor.py:467]\u001b[0m GAN_loss/gen/klloss: 0.1435\n",
      "\u001b[32m[1019 09:24:11 @monitor.py:467]\u001b[0m GAN_loss/gen/loss: 1.5948\n",
      "\u001b[32m[1019 09:24:11 @monitor.py:467]\u001b[0m QueueInput/queue_size: 50\n",
      "\u001b[32m[1019 09:24:11 @base.py:275]\u001b[0m Start Epoch 1387 ...\n"
     ]
    },
    {
     "name": "stderr",
     "output_type": "stream",
     "text": [
      "100%|###################################################################################|175/175[00:05<00:00,31.88it/s]"
     ]
    },
    {
     "name": "stdout",
     "output_type": "stream",
     "text": [
      "\u001b[32m[1019 09:24:16 @base.py:285]\u001b[0m Epoch 1387 (global_step 242725) finished, time:5.49 seconds.\n",
      "\u001b[32m[1019 09:24:16 @saver.py:79]\u001b[0m Model saved to ../output/Chicago/DATGAN_asd29/model\\model-242725.\n"
     ]
    },
    {
     "name": "stderr",
     "output_type": "stream",
     "text": [
      "\n"
     ]
    },
    {
     "name": "stdout",
     "output_type": "stream",
     "text": [
      "\u001b[32m[1019 09:24:17 @monitor.py:467]\u001b[0m GAN_loss/discrim/accuracy_fake: 0.79\n",
      "\u001b[32m[1019 09:24:17 @monitor.py:467]\u001b[0m GAN_loss/discrim/accuracy_real: 0.498\n",
      "\u001b[32m[1019 09:24:17 @monitor.py:467]\u001b[0m GAN_loss/discrim/loss: 0.59569\n",
      "\u001b[32m[1019 09:24:17 @monitor.py:467]\u001b[0m GAN_loss/gen/final-g-loss: 1.5998\n",
      "\u001b[32m[1019 09:24:17 @monitor.py:467]\u001b[0m GAN_loss/gen/klloss: 0.10598\n",
      "\u001b[32m[1019 09:24:17 @monitor.py:467]\u001b[0m GAN_loss/gen/loss: 1.4938\n",
      "\u001b[32m[1019 09:24:17 @monitor.py:467]\u001b[0m QueueInput/queue_size: 50\n",
      "\u001b[32m[1019 09:24:17 @base.py:275]\u001b[0m Start Epoch 1388 ...\n"
     ]
    },
    {
     "name": "stderr",
     "output_type": "stream",
     "text": [
      "100%|###################################################################################|175/175[00:05<00:00,31.90it/s]"
     ]
    },
    {
     "name": "stdout",
     "output_type": "stream",
     "text": [
      "\u001b[32m[1019 09:24:22 @base.py:285]\u001b[0m Epoch 1388 (global_step 242900) finished, time:5.49 seconds.\n",
      "\u001b[32m[1019 09:24:22 @saver.py:79]\u001b[0m Model saved to ../output/Chicago/DATGAN_asd29/model\\model-242900.\n"
     ]
    },
    {
     "name": "stderr",
     "output_type": "stream",
     "text": [
      "\n"
     ]
    },
    {
     "name": "stdout",
     "output_type": "stream",
     "text": [
      "\u001b[32m[1019 09:24:22 @monitor.py:467]\u001b[0m GAN_loss/discrim/accuracy_fake: 0.788\n",
      "\u001b[32m[1019 09:24:22 @monitor.py:467]\u001b[0m GAN_loss/discrim/accuracy_real: 0.522\n",
      "\u001b[32m[1019 09:24:22 @monitor.py:467]\u001b[0m GAN_loss/discrim/loss: 0.59141\n",
      "\u001b[32m[1019 09:24:22 @monitor.py:467]\u001b[0m GAN_loss/gen/final-g-loss: 1.5176\n",
      "\u001b[32m[1019 09:24:22 @monitor.py:467]\u001b[0m GAN_loss/gen/klloss: 0.085159\n",
      "\u001b[32m[1019 09:24:22 @monitor.py:467]\u001b[0m GAN_loss/gen/loss: 1.4325\n",
      "\u001b[32m[1019 09:24:22 @monitor.py:467]\u001b[0m QueueInput/queue_size: 50\n",
      "\u001b[32m[1019 09:24:22 @base.py:275]\u001b[0m Start Epoch 1389 ...\n"
     ]
    },
    {
     "name": "stderr",
     "output_type": "stream",
     "text": [
      "100%|###################################################################################|175/175[00:05<00:00,31.88it/s]"
     ]
    },
    {
     "name": "stdout",
     "output_type": "stream",
     "text": [
      "\u001b[32m[1019 09:24:28 @base.py:285]\u001b[0m Epoch 1389 (global_step 243075) finished, time:5.49 seconds.\n",
      "\u001b[32m[1019 09:24:28 @saver.py:79]\u001b[0m Model saved to ../output/Chicago/DATGAN_asd29/model\\model-243075.\n"
     ]
    },
    {
     "name": "stderr",
     "output_type": "stream",
     "text": [
      "\n"
     ]
    },
    {
     "name": "stdout",
     "output_type": "stream",
     "text": [
      "\u001b[32m[1019 09:24:28 @monitor.py:467]\u001b[0m GAN_loss/discrim/accuracy_fake: 0.816\n",
      "\u001b[32m[1019 09:24:28 @monitor.py:467]\u001b[0m GAN_loss/discrim/accuracy_real: 0.512\n",
      "\u001b[32m[1019 09:24:28 @monitor.py:467]\u001b[0m GAN_loss/discrim/loss: 0.59298\n",
      "\u001b[32m[1019 09:24:28 @monitor.py:467]\u001b[0m GAN_loss/gen/final-g-loss: 1.5097\n",
      "\u001b[32m[1019 09:24:28 @monitor.py:467]\u001b[0m GAN_loss/gen/klloss: 0.072925\n",
      "\u001b[32m[1019 09:24:28 @monitor.py:467]\u001b[0m GAN_loss/gen/loss: 1.4368\n",
      "\u001b[32m[1019 09:24:28 @monitor.py:467]\u001b[0m QueueInput/queue_size: 50\n",
      "\u001b[32m[1019 09:24:28 @base.py:275]\u001b[0m Start Epoch 1390 ...\n"
     ]
    },
    {
     "name": "stderr",
     "output_type": "stream",
     "text": [
      "100%|###################################################################################|175/175[00:05<00:00,31.90it/s]"
     ]
    },
    {
     "name": "stdout",
     "output_type": "stream",
     "text": [
      "\u001b[32m[1019 09:24:34 @base.py:285]\u001b[0m Epoch 1390 (global_step 243250) finished, time:5.49 seconds.\n",
      "\u001b[32m[1019 09:24:34 @saver.py:79]\u001b[0m Model saved to ../output/Chicago/DATGAN_asd29/model\\model-243250.\n"
     ]
    },
    {
     "name": "stderr",
     "output_type": "stream",
     "text": [
      "\n"
     ]
    },
    {
     "name": "stdout",
     "output_type": "stream",
     "text": [
      "\u001b[32m[1019 09:24:34 @monitor.py:467]\u001b[0m GAN_loss/discrim/accuracy_fake: 0.778\n",
      "\u001b[32m[1019 09:24:34 @monitor.py:467]\u001b[0m GAN_loss/discrim/accuracy_real: 0.444\n",
      "\u001b[32m[1019 09:24:34 @monitor.py:467]\u001b[0m GAN_loss/discrim/loss: 0.60895\n",
      "\u001b[32m[1019 09:24:34 @monitor.py:467]\u001b[0m GAN_loss/gen/final-g-loss: 1.4089\n",
      "\u001b[32m[1019 09:24:34 @monitor.py:467]\u001b[0m GAN_loss/gen/klloss: 0.05884\n",
      "\u001b[32m[1019 09:24:34 @monitor.py:467]\u001b[0m GAN_loss/gen/loss: 1.35\n",
      "\u001b[32m[1019 09:24:34 @monitor.py:467]\u001b[0m QueueInput/queue_size: 50\n",
      "\u001b[32m[1019 09:24:34 @base.py:275]\u001b[0m Start Epoch 1391 ...\n"
     ]
    },
    {
     "name": "stderr",
     "output_type": "stream",
     "text": [
      "100%|###################################################################################|175/175[00:05<00:00,31.88it/s]"
     ]
    },
    {
     "name": "stdout",
     "output_type": "stream",
     "text": [
      "\u001b[32m[1019 09:24:39 @base.py:285]\u001b[0m Epoch 1391 (global_step 243425) finished, time:5.49 seconds.\n",
      "\u001b[32m[1019 09:24:40 @saver.py:79]\u001b[0m Model saved to ../output/Chicago/DATGAN_asd29/model\\model-243425.\n"
     ]
    },
    {
     "name": "stderr",
     "output_type": "stream",
     "text": [
      "\n"
     ]
    },
    {
     "name": "stdout",
     "output_type": "stream",
     "text": [
      "\u001b[32m[1019 09:24:40 @monitor.py:467]\u001b[0m GAN_loss/discrim/accuracy_fake: 0.796\n",
      "\u001b[32m[1019 09:24:40 @monitor.py:467]\u001b[0m GAN_loss/discrim/accuracy_real: 0.518\n",
      "\u001b[32m[1019 09:24:40 @monitor.py:467]\u001b[0m GAN_loss/discrim/loss: 0.58968\n",
      "\u001b[32m[1019 09:24:40 @monitor.py:467]\u001b[0m GAN_loss/gen/final-g-loss: 1.4477\n",
      "\u001b[32m[1019 09:24:40 @monitor.py:467]\u001b[0m GAN_loss/gen/klloss: 0.049535\n",
      "\u001b[32m[1019 09:24:40 @monitor.py:467]\u001b[0m GAN_loss/gen/loss: 1.3982\n",
      "\u001b[32m[1019 09:24:40 @monitor.py:467]\u001b[0m QueueInput/queue_size: 50\n",
      "\u001b[32m[1019 09:24:40 @base.py:275]\u001b[0m Start Epoch 1392 ...\n"
     ]
    },
    {
     "name": "stderr",
     "output_type": "stream",
     "text": [
      "100%|###################################################################################|175/175[00:05<00:00,31.92it/s]"
     ]
    },
    {
     "name": "stdout",
     "output_type": "stream",
     "text": [
      "\u001b[32m[1019 09:24:45 @base.py:285]\u001b[0m Epoch 1392 (global_step 243600) finished, time:5.48 seconds.\n",
      "\u001b[32m[1019 09:24:45 @saver.py:79]\u001b[0m Model saved to ../output/Chicago/DATGAN_asd29/model\\model-243600.\n"
     ]
    },
    {
     "name": "stderr",
     "output_type": "stream",
     "text": [
      "\n"
     ]
    },
    {
     "name": "stdout",
     "output_type": "stream",
     "text": [
      "\u001b[32m[1019 09:24:46 @monitor.py:467]\u001b[0m GAN_loss/discrim/accuracy_fake: 0.794\n",
      "\u001b[32m[1019 09:24:46 @monitor.py:467]\u001b[0m GAN_loss/discrim/accuracy_real: 0.46\n",
      "\u001b[32m[1019 09:24:46 @monitor.py:467]\u001b[0m GAN_loss/discrim/loss: 0.59622\n",
      "\u001b[32m[1019 09:24:46 @monitor.py:467]\u001b[0m GAN_loss/gen/final-g-loss: 1.5012\n",
      "\u001b[32m[1019 09:24:46 @monitor.py:467]\u001b[0m GAN_loss/gen/klloss: 0.060863\n",
      "\u001b[32m[1019 09:24:46 @monitor.py:467]\u001b[0m GAN_loss/gen/loss: 1.4403\n",
      "\u001b[32m[1019 09:24:46 @monitor.py:467]\u001b[0m QueueInput/queue_size: 50\n",
      "\u001b[32m[1019 09:24:46 @base.py:275]\u001b[0m Start Epoch 1393 ...\n"
     ]
    },
    {
     "name": "stderr",
     "output_type": "stream",
     "text": [
      "100%|###################################################################################|175/175[00:05<00:00,31.88it/s]"
     ]
    },
    {
     "name": "stdout",
     "output_type": "stream",
     "text": [
      "\u001b[32m[1019 09:24:51 @base.py:285]\u001b[0m Epoch 1393 (global_step 243775) finished, time:5.49 seconds.\n",
      "\u001b[32m[1019 09:24:51 @saver.py:79]\u001b[0m Model saved to ../output/Chicago/DATGAN_asd29/model\\model-243775.\n"
     ]
    },
    {
     "name": "stderr",
     "output_type": "stream",
     "text": [
      "\n"
     ]
    },
    {
     "name": "stdout",
     "output_type": "stream",
     "text": [
      "\u001b[32m[1019 09:24:51 @monitor.py:467]\u001b[0m GAN_loss/discrim/accuracy_fake: 0.842\n",
      "\u001b[32m[1019 09:24:51 @monitor.py:467]\u001b[0m GAN_loss/discrim/accuracy_real: 0.536\n",
      "\u001b[32m[1019 09:24:51 @monitor.py:467]\u001b[0m GAN_loss/discrim/loss: 0.56055\n",
      "\u001b[32m[1019 09:24:51 @monitor.py:467]\u001b[0m GAN_loss/gen/final-g-loss: 1.6443\n",
      "\u001b[32m[1019 09:24:51 @monitor.py:467]\u001b[0m GAN_loss/gen/klloss: 0.10099\n",
      "\u001b[32m[1019 09:24:51 @monitor.py:467]\u001b[0m GAN_loss/gen/loss: 1.5433\n",
      "\u001b[32m[1019 09:24:51 @monitor.py:467]\u001b[0m QueueInput/queue_size: 50\n",
      "\u001b[32m[1019 09:24:51 @base.py:275]\u001b[0m Start Epoch 1394 ...\n"
     ]
    },
    {
     "name": "stderr",
     "output_type": "stream",
     "text": [
      "100%|###################################################################################|175/175[00:05<00:00,31.92it/s]"
     ]
    },
    {
     "name": "stdout",
     "output_type": "stream",
     "text": [
      "\u001b[32m[1019 09:24:57 @base.py:285]\u001b[0m Epoch 1394 (global_step 243950) finished, time:5.48 seconds.\n",
      "\u001b[32m[1019 09:24:57 @saver.py:79]\u001b[0m Model saved to ../output/Chicago/DATGAN_asd29/model\\model-243950.\n"
     ]
    },
    {
     "name": "stderr",
     "output_type": "stream",
     "text": [
      "\n"
     ]
    },
    {
     "name": "stdout",
     "output_type": "stream",
     "text": [
      "\u001b[32m[1019 09:24:57 @monitor.py:467]\u001b[0m GAN_loss/discrim/accuracy_fake: 0.816\n",
      "\u001b[32m[1019 09:24:57 @monitor.py:467]\u001b[0m GAN_loss/discrim/accuracy_real: 0.588\n",
      "\u001b[32m[1019 09:24:57 @monitor.py:467]\u001b[0m GAN_loss/discrim/loss: 0.54058\n",
      "\u001b[32m[1019 09:24:57 @monitor.py:467]\u001b[0m GAN_loss/gen/final-g-loss: 1.6847\n",
      "\u001b[32m[1019 09:24:57 @monitor.py:467]\u001b[0m GAN_loss/gen/klloss: 0.095557\n",
      "\u001b[32m[1019 09:24:57 @monitor.py:467]\u001b[0m GAN_loss/gen/loss: 1.5892\n",
      "\u001b[32m[1019 09:24:57 @monitor.py:467]\u001b[0m QueueInput/queue_size: 50\n",
      "\u001b[32m[1019 09:24:57 @base.py:275]\u001b[0m Start Epoch 1395 ...\n"
     ]
    },
    {
     "name": "stderr",
     "output_type": "stream",
     "text": [
      "100%|###################################################################################|175/175[00:05<00:00,31.86it/s]"
     ]
    },
    {
     "name": "stdout",
     "output_type": "stream",
     "text": [
      "\u001b[32m[1019 09:25:03 @base.py:285]\u001b[0m Epoch 1395 (global_step 244125) finished, time:5.49 seconds.\n",
      "\u001b[32m[1019 09:25:03 @saver.py:79]\u001b[0m Model saved to ../output/Chicago/DATGAN_asd29/model\\model-244125.\n"
     ]
    },
    {
     "name": "stderr",
     "output_type": "stream",
     "text": [
      "\n"
     ]
    },
    {
     "name": "stdout",
     "output_type": "stream",
     "text": [
      "\u001b[32m[1019 09:25:03 @monitor.py:467]\u001b[0m GAN_loss/discrim/accuracy_fake: 0.832\n",
      "\u001b[32m[1019 09:25:03 @monitor.py:467]\u001b[0m GAN_loss/discrim/accuracy_real: 0.54\n",
      "\u001b[32m[1019 09:25:03 @monitor.py:467]\u001b[0m GAN_loss/discrim/loss: 0.55045\n",
      "\u001b[32m[1019 09:25:03 @monitor.py:467]\u001b[0m GAN_loss/gen/final-g-loss: 1.6639\n",
      "\u001b[32m[1019 09:25:03 @monitor.py:467]\u001b[0m GAN_loss/gen/klloss: 0.13072\n",
      "\u001b[32m[1019 09:25:03 @monitor.py:467]\u001b[0m GAN_loss/gen/loss: 1.5332\n",
      "\u001b[32m[1019 09:25:03 @monitor.py:467]\u001b[0m QueueInput/queue_size: 50\n",
      "\u001b[32m[1019 09:25:03 @base.py:275]\u001b[0m Start Epoch 1396 ...\n"
     ]
    },
    {
     "name": "stderr",
     "output_type": "stream",
     "text": [
      "100%|###################################################################################|175/175[00:05<00:00,31.93it/s]"
     ]
    },
    {
     "name": "stdout",
     "output_type": "stream",
     "text": [
      "\u001b[32m[1019 09:25:08 @base.py:285]\u001b[0m Epoch 1396 (global_step 244300) finished, time:5.48 seconds.\n",
      "\u001b[32m[1019 09:25:09 @saver.py:79]\u001b[0m Model saved to ../output/Chicago/DATGAN_asd29/model\\model-244300.\n"
     ]
    },
    {
     "name": "stderr",
     "output_type": "stream",
     "text": [
      "\n"
     ]
    },
    {
     "name": "stdout",
     "output_type": "stream",
     "text": [
      "\u001b[32m[1019 09:25:09 @monitor.py:467]\u001b[0m GAN_loss/discrim/accuracy_fake: 0.792\n",
      "\u001b[32m[1019 09:25:09 @monitor.py:467]\u001b[0m GAN_loss/discrim/accuracy_real: 0.582\n",
      "\u001b[32m[1019 09:25:09 @monitor.py:467]\u001b[0m GAN_loss/discrim/loss: 0.5623\n",
      "\u001b[32m[1019 09:25:09 @monitor.py:467]\u001b[0m GAN_loss/gen/final-g-loss: 1.6198\n",
      "\u001b[32m[1019 09:25:09 @monitor.py:467]\u001b[0m GAN_loss/gen/klloss: 0.088953\n",
      "\u001b[32m[1019 09:25:09 @monitor.py:467]\u001b[0m GAN_loss/gen/loss: 1.5309\n",
      "\u001b[32m[1019 09:25:09 @monitor.py:467]\u001b[0m QueueInput/queue_size: 50\n",
      "\u001b[32m[1019 09:25:09 @base.py:275]\u001b[0m Start Epoch 1397 ...\n"
     ]
    },
    {
     "name": "stderr",
     "output_type": "stream",
     "text": [
      "100%|###################################################################################|175/175[00:05<00:00,31.87it/s]"
     ]
    },
    {
     "name": "stdout",
     "output_type": "stream",
     "text": [
      "\u001b[32m[1019 09:25:14 @base.py:285]\u001b[0m Epoch 1397 (global_step 244475) finished, time:5.49 seconds.\n",
      "\u001b[32m[1019 09:25:14 @saver.py:79]\u001b[0m Model saved to ../output/Chicago/DATGAN_asd29/model\\model-244475.\n"
     ]
    },
    {
     "name": "stderr",
     "output_type": "stream",
     "text": [
      "\n"
     ]
    },
    {
     "name": "stdout",
     "output_type": "stream",
     "text": [
      "\u001b[32m[1019 09:25:15 @monitor.py:467]\u001b[0m GAN_loss/discrim/accuracy_fake: 0.846\n",
      "\u001b[32m[1019 09:25:15 @monitor.py:467]\u001b[0m GAN_loss/discrim/accuracy_real: 0.38\n",
      "\u001b[32m[1019 09:25:15 @monitor.py:467]\u001b[0m GAN_loss/discrim/loss: 0.61794\n",
      "\u001b[32m[1019 09:25:15 @monitor.py:467]\u001b[0m GAN_loss/gen/final-g-loss: 1.6164\n",
      "\u001b[32m[1019 09:25:15 @monitor.py:467]\u001b[0m GAN_loss/gen/klloss: 0.089724\n",
      "\u001b[32m[1019 09:25:15 @monitor.py:467]\u001b[0m GAN_loss/gen/loss: 1.5267\n",
      "\u001b[32m[1019 09:25:15 @monitor.py:467]\u001b[0m QueueInput/queue_size: 50\n",
      "\u001b[32m[1019 09:25:15 @base.py:275]\u001b[0m Start Epoch 1398 ...\n"
     ]
    },
    {
     "name": "stderr",
     "output_type": "stream",
     "text": [
      "100%|###################################################################################|175/175[00:05<00:00,31.87it/s]"
     ]
    },
    {
     "name": "stdout",
     "output_type": "stream",
     "text": [
      "\u001b[32m[1019 09:25:20 @base.py:285]\u001b[0m Epoch 1398 (global_step 244650) finished, time:5.49 seconds.\n",
      "\u001b[32m[1019 09:25:20 @saver.py:79]\u001b[0m Model saved to ../output/Chicago/DATGAN_asd29/model\\model-244650.\n"
     ]
    },
    {
     "name": "stderr",
     "output_type": "stream",
     "text": [
      "\n"
     ]
    },
    {
     "name": "stdout",
     "output_type": "stream",
     "text": [
      "\u001b[32m[1019 09:25:20 @monitor.py:467]\u001b[0m GAN_loss/discrim/accuracy_fake: 0.832\n",
      "\u001b[32m[1019 09:25:20 @monitor.py:467]\u001b[0m GAN_loss/discrim/accuracy_real: 0.518\n",
      "\u001b[32m[1019 09:25:20 @monitor.py:467]\u001b[0m GAN_loss/discrim/loss: 0.59038\n",
      "\u001b[32m[1019 09:25:20 @monitor.py:467]\u001b[0m GAN_loss/gen/final-g-loss: 1.5261\n",
      "\u001b[32m[1019 09:25:20 @monitor.py:467]\u001b[0m GAN_loss/gen/klloss: 0.086107\n",
      "\u001b[32m[1019 09:25:20 @monitor.py:467]\u001b[0m GAN_loss/gen/loss: 1.44\n",
      "\u001b[32m[1019 09:25:20 @monitor.py:467]\u001b[0m QueueInput/queue_size: 50\n",
      "\u001b[32m[1019 09:25:20 @base.py:275]\u001b[0m Start Epoch 1399 ...\n"
     ]
    },
    {
     "name": "stderr",
     "output_type": "stream",
     "text": [
      "100%|###################################################################################|175/175[00:05<00:00,31.88it/s]"
     ]
    },
    {
     "name": "stdout",
     "output_type": "stream",
     "text": [
      "\u001b[32m[1019 09:25:26 @base.py:285]\u001b[0m Epoch 1399 (global_step 244825) finished, time:5.49 seconds.\n",
      "\u001b[32m[1019 09:25:26 @saver.py:79]\u001b[0m Model saved to ../output/Chicago/DATGAN_asd29/model\\model-244825.\n"
     ]
    },
    {
     "name": "stderr",
     "output_type": "stream",
     "text": [
      "\n"
     ]
    },
    {
     "name": "stdout",
     "output_type": "stream",
     "text": [
      "\u001b[32m[1019 09:25:26 @monitor.py:467]\u001b[0m GAN_loss/discrim/accuracy_fake: 0.812\n",
      "\u001b[32m[1019 09:25:26 @monitor.py:467]\u001b[0m GAN_loss/discrim/accuracy_real: 0.518\n",
      "\u001b[32m[1019 09:25:26 @monitor.py:467]\u001b[0m GAN_loss/discrim/loss: 0.57124\n",
      "\u001b[32m[1019 09:25:26 @monitor.py:467]\u001b[0m GAN_loss/gen/final-g-loss: 1.5697\n",
      "\u001b[32m[1019 09:25:26 @monitor.py:467]\u001b[0m GAN_loss/gen/klloss: 0.07087\n",
      "\u001b[32m[1019 09:25:26 @monitor.py:467]\u001b[0m GAN_loss/gen/loss: 1.4988\n",
      "\u001b[32m[1019 09:25:26 @monitor.py:467]\u001b[0m QueueInput/queue_size: 50\n",
      "\u001b[32m[1019 09:25:26 @base.py:275]\u001b[0m Start Epoch 1400 ...\n"
     ]
    },
    {
     "name": "stderr",
     "output_type": "stream",
     "text": [
      "100%|###################################################################################|175/175[00:05<00:00,31.92it/s]"
     ]
    },
    {
     "name": "stdout",
     "output_type": "stream",
     "text": [
      "\u001b[32m[1019 09:25:32 @base.py:285]\u001b[0m Epoch 1400 (global_step 245000) finished, time:5.48 seconds.\n",
      "\u001b[32m[1019 09:25:32 @saver.py:79]\u001b[0m Model saved to ../output/Chicago/DATGAN_asd29/model\\model-245000.\n"
     ]
    },
    {
     "name": "stderr",
     "output_type": "stream",
     "text": [
      "\n"
     ]
    },
    {
     "name": "stdout",
     "output_type": "stream",
     "text": [
      "\u001b[32m[1019 09:25:32 @monitor.py:467]\u001b[0m GAN_loss/discrim/accuracy_fake: 0.828\n",
      "\u001b[32m[1019 09:25:32 @monitor.py:467]\u001b[0m GAN_loss/discrim/accuracy_real: 0.518\n",
      "\u001b[32m[1019 09:25:32 @monitor.py:467]\u001b[0m GAN_loss/discrim/loss: 0.57328\n",
      "\u001b[32m[1019 09:25:32 @monitor.py:467]\u001b[0m GAN_loss/gen/final-g-loss: 1.5511\n",
      "\u001b[32m[1019 09:25:32 @monitor.py:467]\u001b[0m GAN_loss/gen/klloss: 0.076792\n",
      "\u001b[32m[1019 09:25:32 @monitor.py:467]\u001b[0m GAN_loss/gen/loss: 1.4744\n",
      "\u001b[32m[1019 09:25:32 @monitor.py:467]\u001b[0m QueueInput/queue_size: 50\n",
      "\u001b[32m[1019 09:25:32 @base.py:275]\u001b[0m Start Epoch 1401 ...\n"
     ]
    },
    {
     "name": "stderr",
     "output_type": "stream",
     "text": [
      "100%|###################################################################################|175/175[00:05<00:00,31.91it/s]"
     ]
    },
    {
     "name": "stdout",
     "output_type": "stream",
     "text": [
      "\u001b[32m[1019 09:25:37 @base.py:285]\u001b[0m Epoch 1401 (global_step 245175) finished, time:5.48 seconds.\n",
      "\u001b[32m[1019 09:25:38 @saver.py:79]\u001b[0m Model saved to ../output/Chicago/DATGAN_asd29/model\\model-245175.\n"
     ]
    },
    {
     "name": "stderr",
     "output_type": "stream",
     "text": [
      "\n"
     ]
    },
    {
     "name": "stdout",
     "output_type": "stream",
     "text": [
      "\u001b[32m[1019 09:25:38 @monitor.py:467]\u001b[0m GAN_loss/discrim/accuracy_fake: 0.818\n",
      "\u001b[32m[1019 09:25:38 @monitor.py:467]\u001b[0m GAN_loss/discrim/accuracy_real: 0.516\n",
      "\u001b[32m[1019 09:25:38 @monitor.py:467]\u001b[0m GAN_loss/discrim/loss: 0.55498\n",
      "\u001b[32m[1019 09:25:38 @monitor.py:467]\u001b[0m GAN_loss/gen/final-g-loss: 1.6542\n",
      "\u001b[32m[1019 09:25:38 @monitor.py:467]\u001b[0m GAN_loss/gen/klloss: 0.078535\n",
      "\u001b[32m[1019 09:25:38 @monitor.py:467]\u001b[0m GAN_loss/gen/loss: 1.5757\n",
      "\u001b[32m[1019 09:25:38 @monitor.py:467]\u001b[0m QueueInput/queue_size: 50\n",
      "\u001b[32m[1019 09:25:38 @base.py:275]\u001b[0m Start Epoch 1402 ...\n"
     ]
    },
    {
     "name": "stderr",
     "output_type": "stream",
     "text": [
      "100%|###################################################################################|175/175[00:05<00:00,31.89it/s]"
     ]
    },
    {
     "name": "stdout",
     "output_type": "stream",
     "text": [
      "\u001b[32m[1019 09:25:43 @base.py:285]\u001b[0m Epoch 1402 (global_step 245350) finished, time:5.49 seconds.\n",
      "\u001b[32m[1019 09:25:43 @saver.py:79]\u001b[0m Model saved to ../output/Chicago/DATGAN_asd29/model\\model-245350.\n"
     ]
    },
    {
     "name": "stderr",
     "output_type": "stream",
     "text": [
      "\n"
     ]
    },
    {
     "name": "stdout",
     "output_type": "stream",
     "text": [
      "\u001b[32m[1019 09:25:44 @monitor.py:467]\u001b[0m GAN_loss/discrim/accuracy_fake: 0.76\n",
      "\u001b[32m[1019 09:25:44 @monitor.py:467]\u001b[0m GAN_loss/discrim/accuracy_real: 0.542\n",
      "\u001b[32m[1019 09:25:44 @monitor.py:467]\u001b[0m GAN_loss/discrim/loss: 0.59936\n",
      "\u001b[32m[1019 09:25:44 @monitor.py:467]\u001b[0m GAN_loss/gen/final-g-loss: 1.4206\n",
      "\u001b[32m[1019 09:25:44 @monitor.py:467]\u001b[0m GAN_loss/gen/klloss: 0.082631\n",
      "\u001b[32m[1019 09:25:44 @monitor.py:467]\u001b[0m GAN_loss/gen/loss: 1.3379\n",
      "\u001b[32m[1019 09:25:44 @monitor.py:467]\u001b[0m QueueInput/queue_size: 50\n",
      "\u001b[32m[1019 09:25:44 @base.py:275]\u001b[0m Start Epoch 1403 ...\n"
     ]
    },
    {
     "name": "stderr",
     "output_type": "stream",
     "text": [
      "100%|###################################################################################|175/175[00:05<00:00,31.93it/s]"
     ]
    },
    {
     "name": "stdout",
     "output_type": "stream",
     "text": [
      "\u001b[32m[1019 09:25:49 @base.py:285]\u001b[0m Epoch 1403 (global_step 245525) finished, time:5.48 seconds.\n",
      "\u001b[32m[1019 09:25:49 @saver.py:79]\u001b[0m Model saved to ../output/Chicago/DATGAN_asd29/model\\model-245525.\n"
     ]
    },
    {
     "name": "stderr",
     "output_type": "stream",
     "text": [
      "\n"
     ]
    },
    {
     "name": "stdout",
     "output_type": "stream",
     "text": [
      "\u001b[32m[1019 09:25:49 @monitor.py:467]\u001b[0m GAN_loss/discrim/accuracy_fake: 0.748\n",
      "\u001b[32m[1019 09:25:49 @monitor.py:467]\u001b[0m GAN_loss/discrim/accuracy_real: 0.496\n",
      "\u001b[32m[1019 09:25:49 @monitor.py:467]\u001b[0m GAN_loss/discrim/loss: 0.62267\n",
      "\u001b[32m[1019 09:25:49 @monitor.py:467]\u001b[0m GAN_loss/gen/final-g-loss: 1.3569\n",
      "\u001b[32m[1019 09:25:49 @monitor.py:467]\u001b[0m GAN_loss/gen/klloss: 0.055661\n",
      "\u001b[32m[1019 09:25:49 @monitor.py:467]\u001b[0m GAN_loss/gen/loss: 1.3012\n",
      "\u001b[32m[1019 09:25:49 @monitor.py:467]\u001b[0m QueueInput/queue_size: 50\n",
      "\u001b[32m[1019 09:25:49 @base.py:275]\u001b[0m Start Epoch 1404 ...\n"
     ]
    },
    {
     "name": "stderr",
     "output_type": "stream",
     "text": [
      "100%|###################################################################################|175/175[00:05<00:00,31.90it/s]"
     ]
    },
    {
     "name": "stdout",
     "output_type": "stream",
     "text": [
      "\u001b[32m[1019 09:25:55 @base.py:285]\u001b[0m Epoch 1404 (global_step 245700) finished, time:5.49 seconds.\n",
      "\u001b[32m[1019 09:25:55 @saver.py:79]\u001b[0m Model saved to ../output/Chicago/DATGAN_asd29/model\\model-245700.\n"
     ]
    },
    {
     "name": "stderr",
     "output_type": "stream",
     "text": [
      "\n"
     ]
    },
    {
     "name": "stdout",
     "output_type": "stream",
     "text": [
      "\u001b[32m[1019 09:25:55 @monitor.py:467]\u001b[0m GAN_loss/discrim/accuracy_fake: 0.828\n",
      "\u001b[32m[1019 09:25:55 @monitor.py:467]\u001b[0m GAN_loss/discrim/accuracy_real: 0.5\n",
      "\u001b[32m[1019 09:25:55 @monitor.py:467]\u001b[0m GAN_loss/discrim/loss: 0.57625\n",
      "\u001b[32m[1019 09:25:55 @monitor.py:467]\u001b[0m GAN_loss/gen/final-g-loss: 1.4861\n",
      "\u001b[32m[1019 09:25:55 @monitor.py:467]\u001b[0m GAN_loss/gen/klloss: 0.081876\n",
      "\u001b[32m[1019 09:25:55 @monitor.py:467]\u001b[0m GAN_loss/gen/loss: 1.4043\n",
      "\u001b[32m[1019 09:25:55 @monitor.py:467]\u001b[0m QueueInput/queue_size: 50\n",
      "\u001b[32m[1019 09:25:55 @base.py:275]\u001b[0m Start Epoch 1405 ...\n"
     ]
    },
    {
     "name": "stderr",
     "output_type": "stream",
     "text": [
      "100%|###################################################################################|175/175[00:05<00:00,31.92it/s]"
     ]
    },
    {
     "name": "stdout",
     "output_type": "stream",
     "text": [
      "\u001b[32m[1019 09:26:01 @base.py:285]\u001b[0m Epoch 1405 (global_step 245875) finished, time:5.48 seconds.\n",
      "\u001b[32m[1019 09:26:01 @saver.py:79]\u001b[0m Model saved to ../output/Chicago/DATGAN_asd29/model\\model-245875.\n"
     ]
    },
    {
     "name": "stderr",
     "output_type": "stream",
     "text": [
      "\n"
     ]
    },
    {
     "name": "stdout",
     "output_type": "stream",
     "text": [
      "\u001b[32m[1019 09:26:01 @monitor.py:467]\u001b[0m GAN_loss/discrim/accuracy_fake: 0.808\n",
      "\u001b[32m[1019 09:26:01 @monitor.py:467]\u001b[0m GAN_loss/discrim/accuracy_real: 0.552\n",
      "\u001b[32m[1019 09:26:01 @monitor.py:467]\u001b[0m GAN_loss/discrim/loss: 0.57375\n",
      "\u001b[32m[1019 09:26:01 @monitor.py:467]\u001b[0m GAN_loss/gen/final-g-loss: 1.5241\n",
      "\u001b[32m[1019 09:26:01 @monitor.py:467]\u001b[0m GAN_loss/gen/klloss: 0.075393\n",
      "\u001b[32m[1019 09:26:01 @monitor.py:467]\u001b[0m GAN_loss/gen/loss: 1.4487\n",
      "\u001b[32m[1019 09:26:01 @monitor.py:467]\u001b[0m QueueInput/queue_size: 50\n",
      "\u001b[32m[1019 09:26:01 @base.py:275]\u001b[0m Start Epoch 1406 ...\n"
     ]
    },
    {
     "name": "stderr",
     "output_type": "stream",
     "text": [
      "100%|###################################################################################|175/175[00:05<00:00,31.92it/s]"
     ]
    },
    {
     "name": "stdout",
     "output_type": "stream",
     "text": [
      "\u001b[32m[1019 09:26:06 @base.py:285]\u001b[0m Epoch 1406 (global_step 246050) finished, time:5.48 seconds.\n",
      "\u001b[32m[1019 09:26:07 @saver.py:79]\u001b[0m Model saved to ../output/Chicago/DATGAN_asd29/model\\model-246050.\n"
     ]
    },
    {
     "name": "stderr",
     "output_type": "stream",
     "text": [
      "\n"
     ]
    },
    {
     "name": "stdout",
     "output_type": "stream",
     "text": [
      "\u001b[32m[1019 09:26:07 @monitor.py:467]\u001b[0m GAN_loss/discrim/accuracy_fake: 0.824\n",
      "\u001b[32m[1019 09:26:07 @monitor.py:467]\u001b[0m GAN_loss/discrim/accuracy_real: 0.502\n",
      "\u001b[32m[1019 09:26:07 @monitor.py:467]\u001b[0m GAN_loss/discrim/loss: 0.57412\n",
      "\u001b[32m[1019 09:26:07 @monitor.py:467]\u001b[0m GAN_loss/gen/final-g-loss: 1.5445\n",
      "\u001b[32m[1019 09:26:07 @monitor.py:467]\u001b[0m GAN_loss/gen/klloss: 0.085689\n",
      "\u001b[32m[1019 09:26:07 @monitor.py:467]\u001b[0m GAN_loss/gen/loss: 1.4588\n",
      "\u001b[32m[1019 09:26:07 @monitor.py:467]\u001b[0m QueueInput/queue_size: 50\n",
      "\u001b[32m[1019 09:26:07 @base.py:275]\u001b[0m Start Epoch 1407 ...\n"
     ]
    },
    {
     "name": "stderr",
     "output_type": "stream",
     "text": [
      "100%|###################################################################################|175/175[00:05<00:00,31.91it/s]"
     ]
    },
    {
     "name": "stdout",
     "output_type": "stream",
     "text": [
      "\u001b[32m[1019 09:26:12 @base.py:285]\u001b[0m Epoch 1407 (global_step 246225) finished, time:5.49 seconds.\n",
      "\u001b[32m[1019 09:26:12 @saver.py:79]\u001b[0m Model saved to ../output/Chicago/DATGAN_asd29/model\\model-246225.\n"
     ]
    },
    {
     "name": "stderr",
     "output_type": "stream",
     "text": [
      "\n"
     ]
    },
    {
     "name": "stdout",
     "output_type": "stream",
     "text": [
      "\u001b[32m[1019 09:26:13 @monitor.py:467]\u001b[0m GAN_loss/discrim/accuracy_fake: 0.812\n",
      "\u001b[32m[1019 09:26:13 @monitor.py:467]\u001b[0m GAN_loss/discrim/accuracy_real: 0.436\n",
      "\u001b[32m[1019 09:26:13 @monitor.py:467]\u001b[0m GAN_loss/discrim/loss: 0.60014\n",
      "\u001b[32m[1019 09:26:13 @monitor.py:467]\u001b[0m GAN_loss/gen/final-g-loss: 1.4901\n",
      "\u001b[32m[1019 09:26:13 @monitor.py:467]\u001b[0m GAN_loss/gen/klloss: 0.068082\n",
      "\u001b[32m[1019 09:26:13 @monitor.py:467]\u001b[0m GAN_loss/gen/loss: 1.422\n",
      "\u001b[32m[1019 09:26:13 @monitor.py:467]\u001b[0m QueueInput/queue_size: 50\n",
      "\u001b[32m[1019 09:26:13 @base.py:275]\u001b[0m Start Epoch 1408 ...\n"
     ]
    },
    {
     "name": "stderr",
     "output_type": "stream",
     "text": [
      "100%|###################################################################################|175/175[00:05<00:00,31.89it/s]"
     ]
    },
    {
     "name": "stdout",
     "output_type": "stream",
     "text": [
      "\u001b[32m[1019 09:26:18 @base.py:285]\u001b[0m Epoch 1408 (global_step 246400) finished, time:5.49 seconds.\n",
      "\u001b[32m[1019 09:26:18 @saver.py:79]\u001b[0m Model saved to ../output/Chicago/DATGAN_asd29/model\\model-246400.\n"
     ]
    },
    {
     "name": "stderr",
     "output_type": "stream",
     "text": [
      "\n"
     ]
    },
    {
     "name": "stdout",
     "output_type": "stream",
     "text": [
      "\u001b[32m[1019 09:26:18 @monitor.py:467]\u001b[0m GAN_loss/discrim/accuracy_fake: 0.826\n",
      "\u001b[32m[1019 09:26:18 @monitor.py:467]\u001b[0m GAN_loss/discrim/accuracy_real: 0.422\n",
      "\u001b[32m[1019 09:26:18 @monitor.py:467]\u001b[0m GAN_loss/discrim/loss: 0.60566\n",
      "\u001b[32m[1019 09:26:18 @monitor.py:467]\u001b[0m GAN_loss/gen/final-g-loss: 1.4116\n",
      "\u001b[32m[1019 09:26:18 @monitor.py:467]\u001b[0m GAN_loss/gen/klloss: 0.058389\n",
      "\u001b[32m[1019 09:26:18 @monitor.py:467]\u001b[0m GAN_loss/gen/loss: 1.3532\n",
      "\u001b[32m[1019 09:26:18 @monitor.py:467]\u001b[0m QueueInput/queue_size: 50\n",
      "\u001b[32m[1019 09:26:18 @base.py:275]\u001b[0m Start Epoch 1409 ...\n"
     ]
    },
    {
     "name": "stderr",
     "output_type": "stream",
     "text": [
      "100%|###################################################################################|175/175[00:05<00:00,31.92it/s]"
     ]
    },
    {
     "name": "stdout",
     "output_type": "stream",
     "text": [
      "\u001b[32m[1019 09:26:24 @base.py:285]\u001b[0m Epoch 1409 (global_step 246575) finished, time:5.48 seconds.\n",
      "\u001b[32m[1019 09:26:24 @saver.py:79]\u001b[0m Model saved to ../output/Chicago/DATGAN_asd29/model\\model-246575.\n"
     ]
    },
    {
     "name": "stderr",
     "output_type": "stream",
     "text": [
      "\n"
     ]
    },
    {
     "name": "stdout",
     "output_type": "stream",
     "text": [
      "\u001b[32m[1019 09:26:24 @monitor.py:467]\u001b[0m GAN_loss/discrim/accuracy_fake: 0.8\n",
      "\u001b[32m[1019 09:26:24 @monitor.py:467]\u001b[0m GAN_loss/discrim/accuracy_real: 0.424\n",
      "\u001b[32m[1019 09:26:24 @monitor.py:467]\u001b[0m GAN_loss/discrim/loss: 0.60958\n",
      "\u001b[32m[1019 09:26:24 @monitor.py:467]\u001b[0m GAN_loss/gen/final-g-loss: 1.4042\n",
      "\u001b[32m[1019 09:26:24 @monitor.py:467]\u001b[0m GAN_loss/gen/klloss: 0.091484\n",
      "\u001b[32m[1019 09:26:24 @monitor.py:467]\u001b[0m GAN_loss/gen/loss: 1.3127\n",
      "\u001b[32m[1019 09:26:24 @monitor.py:467]\u001b[0m QueueInput/queue_size: 50\n",
      "\u001b[32m[1019 09:26:24 @base.py:275]\u001b[0m Start Epoch 1410 ...\n"
     ]
    },
    {
     "name": "stderr",
     "output_type": "stream",
     "text": [
      "100%|###################################################################################|175/175[00:05<00:00,31.90it/s]"
     ]
    },
    {
     "name": "stdout",
     "output_type": "stream",
     "text": [
      "\u001b[32m[1019 09:26:30 @base.py:285]\u001b[0m Epoch 1410 (global_step 246750) finished, time:5.49 seconds.\n",
      "\u001b[32m[1019 09:26:30 @saver.py:79]\u001b[0m Model saved to ../output/Chicago/DATGAN_asd29/model\\model-246750.\n"
     ]
    },
    {
     "name": "stderr",
     "output_type": "stream",
     "text": [
      "\n"
     ]
    },
    {
     "name": "stdout",
     "output_type": "stream",
     "text": [
      "\u001b[32m[1019 09:26:30 @monitor.py:467]\u001b[0m GAN_loss/discrim/accuracy_fake: 0.8\n",
      "\u001b[32m[1019 09:26:30 @monitor.py:467]\u001b[0m GAN_loss/discrim/accuracy_real: 0.51\n",
      "\u001b[32m[1019 09:26:30 @monitor.py:467]\u001b[0m GAN_loss/discrim/loss: 0.58025\n",
      "\u001b[32m[1019 09:26:30 @monitor.py:467]\u001b[0m GAN_loss/gen/final-g-loss: 1.4853\n",
      "\u001b[32m[1019 09:26:30 @monitor.py:467]\u001b[0m GAN_loss/gen/klloss: 0.087389\n",
      "\u001b[32m[1019 09:26:30 @monitor.py:467]\u001b[0m GAN_loss/gen/loss: 1.3979\n",
      "\u001b[32m[1019 09:26:30 @monitor.py:467]\u001b[0m QueueInput/queue_size: 50\n",
      "\u001b[32m[1019 09:26:30 @base.py:275]\u001b[0m Start Epoch 1411 ...\n"
     ]
    },
    {
     "name": "stderr",
     "output_type": "stream",
     "text": [
      "100%|###################################################################################|175/175[00:05<00:00,31.92it/s]"
     ]
    },
    {
     "name": "stdout",
     "output_type": "stream",
     "text": [
      "\u001b[32m[1019 09:26:35 @base.py:285]\u001b[0m Epoch 1411 (global_step 246925) finished, time:5.48 seconds.\n",
      "\u001b[32m[1019 09:26:36 @saver.py:79]\u001b[0m Model saved to ../output/Chicago/DATGAN_asd29/model\\model-246925.\n"
     ]
    },
    {
     "name": "stderr",
     "output_type": "stream",
     "text": [
      "\n"
     ]
    },
    {
     "name": "stdout",
     "output_type": "stream",
     "text": [
      "\u001b[32m[1019 09:26:36 @monitor.py:467]\u001b[0m GAN_loss/discrim/accuracy_fake: 0.816\n",
      "\u001b[32m[1019 09:26:36 @monitor.py:467]\u001b[0m GAN_loss/discrim/accuracy_real: 0.43\n",
      "\u001b[32m[1019 09:26:36 @monitor.py:467]\u001b[0m GAN_loss/discrim/loss: 0.61216\n",
      "\u001b[32m[1019 09:26:36 @monitor.py:467]\u001b[0m GAN_loss/gen/final-g-loss: 1.3895\n",
      "\u001b[32m[1019 09:26:36 @monitor.py:467]\u001b[0m GAN_loss/gen/klloss: 0.082646\n",
      "\u001b[32m[1019 09:26:36 @monitor.py:467]\u001b[0m GAN_loss/gen/loss: 1.3069\n",
      "\u001b[32m[1019 09:26:36 @monitor.py:467]\u001b[0m QueueInput/queue_size: 50\n",
      "\u001b[32m[1019 09:26:36 @base.py:275]\u001b[0m Start Epoch 1412 ...\n"
     ]
    },
    {
     "name": "stderr",
     "output_type": "stream",
     "text": [
      "100%|###################################################################################|175/175[00:05<00:00,31.88it/s]"
     ]
    },
    {
     "name": "stdout",
     "output_type": "stream",
     "text": [
      "\u001b[32m[1019 09:26:41 @base.py:285]\u001b[0m Epoch 1412 (global_step 247100) finished, time:5.49 seconds.\n",
      "\u001b[32m[1019 09:26:41 @saver.py:79]\u001b[0m Model saved to ../output/Chicago/DATGAN_asd29/model\\model-247100.\n"
     ]
    },
    {
     "name": "stderr",
     "output_type": "stream",
     "text": [
      "\n"
     ]
    },
    {
     "name": "stdout",
     "output_type": "stream",
     "text": [
      "\u001b[32m[1019 09:26:42 @monitor.py:467]\u001b[0m GAN_loss/discrim/accuracy_fake: 0.8\n",
      "\u001b[32m[1019 09:26:42 @monitor.py:467]\u001b[0m GAN_loss/discrim/accuracy_real: 0.454\n",
      "\u001b[32m[1019 09:26:42 @monitor.py:467]\u001b[0m GAN_loss/discrim/loss: 0.60774\n",
      "\u001b[32m[1019 09:26:42 @monitor.py:467]\u001b[0m GAN_loss/gen/final-g-loss: 1.4052\n",
      "\u001b[32m[1019 09:26:42 @monitor.py:467]\u001b[0m GAN_loss/gen/klloss: 0.043184\n",
      "\u001b[32m[1019 09:26:42 @monitor.py:467]\u001b[0m GAN_loss/gen/loss: 1.3621\n",
      "\u001b[32m[1019 09:26:42 @monitor.py:467]\u001b[0m QueueInput/queue_size: 50\n",
      "\u001b[32m[1019 09:26:42 @base.py:275]\u001b[0m Start Epoch 1413 ...\n"
     ]
    },
    {
     "name": "stderr",
     "output_type": "stream",
     "text": [
      "100%|###################################################################################|175/175[00:05<00:00,31.91it/s]"
     ]
    },
    {
     "name": "stdout",
     "output_type": "stream",
     "text": [
      "\u001b[32m[1019 09:26:47 @base.py:285]\u001b[0m Epoch 1413 (global_step 247275) finished, time:5.48 seconds.\n",
      "\u001b[32m[1019 09:26:47 @saver.py:79]\u001b[0m Model saved to ../output/Chicago/DATGAN_asd29/model\\model-247275.\n"
     ]
    },
    {
     "name": "stderr",
     "output_type": "stream",
     "text": [
      "\n"
     ]
    },
    {
     "name": "stdout",
     "output_type": "stream",
     "text": [
      "\u001b[32m[1019 09:26:47 @monitor.py:467]\u001b[0m GAN_loss/discrim/accuracy_fake: 0.82\n",
      "\u001b[32m[1019 09:26:47 @monitor.py:467]\u001b[0m GAN_loss/discrim/accuracy_real: 0.392\n",
      "\u001b[32m[1019 09:26:47 @monitor.py:467]\u001b[0m GAN_loss/discrim/loss: 0.61073\n",
      "\u001b[32m[1019 09:26:47 @monitor.py:467]\u001b[0m GAN_loss/gen/final-g-loss: 1.548\n",
      "\u001b[32m[1019 09:26:47 @monitor.py:467]\u001b[0m GAN_loss/gen/klloss: 0.09108\n",
      "\u001b[32m[1019 09:26:47 @monitor.py:467]\u001b[0m GAN_loss/gen/loss: 1.4569\n",
      "\u001b[32m[1019 09:26:47 @monitor.py:467]\u001b[0m QueueInput/queue_size: 50\n",
      "\u001b[32m[1019 09:26:47 @base.py:275]\u001b[0m Start Epoch 1414 ...\n"
     ]
    },
    {
     "name": "stderr",
     "output_type": "stream",
     "text": [
      "100%|###################################################################################|175/175[00:05<00:00,31.88it/s]"
     ]
    },
    {
     "name": "stdout",
     "output_type": "stream",
     "text": [
      "\u001b[32m[1019 09:26:53 @base.py:285]\u001b[0m Epoch 1414 (global_step 247450) finished, time:5.49 seconds.\n",
      "\u001b[32m[1019 09:26:53 @saver.py:79]\u001b[0m Model saved to ../output/Chicago/DATGAN_asd29/model\\model-247450.\n"
     ]
    },
    {
     "name": "stderr",
     "output_type": "stream",
     "text": [
      "\n"
     ]
    },
    {
     "name": "stdout",
     "output_type": "stream",
     "text": [
      "\u001b[32m[1019 09:26:53 @monitor.py:467]\u001b[0m GAN_loss/discrim/accuracy_fake: 0.79\n",
      "\u001b[32m[1019 09:26:53 @monitor.py:467]\u001b[0m GAN_loss/discrim/accuracy_real: 0.452\n",
      "\u001b[32m[1019 09:26:53 @monitor.py:467]\u001b[0m GAN_loss/discrim/loss: 0.59827\n",
      "\u001b[32m[1019 09:26:53 @monitor.py:467]\u001b[0m GAN_loss/gen/final-g-loss: 1.4776\n",
      "\u001b[32m[1019 09:26:53 @monitor.py:467]\u001b[0m GAN_loss/gen/klloss: 0.10665\n",
      "\u001b[32m[1019 09:26:53 @monitor.py:467]\u001b[0m GAN_loss/gen/loss: 1.371\n",
      "\u001b[32m[1019 09:26:53 @monitor.py:467]\u001b[0m QueueInput/queue_size: 50\n",
      "\u001b[32m[1019 09:26:53 @base.py:275]\u001b[0m Start Epoch 1415 ...\n"
     ]
    },
    {
     "name": "stderr",
     "output_type": "stream",
     "text": [
      "100%|###################################################################################|175/175[00:05<00:00,31.92it/s]"
     ]
    },
    {
     "name": "stdout",
     "output_type": "stream",
     "text": [
      "\u001b[32m[1019 09:26:59 @base.py:285]\u001b[0m Epoch 1415 (global_step 247625) finished, time:5.48 seconds.\n",
      "\u001b[32m[1019 09:26:59 @saver.py:79]\u001b[0m Model saved to ../output/Chicago/DATGAN_asd29/model\\model-247625.\n"
     ]
    },
    {
     "name": "stderr",
     "output_type": "stream",
     "text": [
      "\n"
     ]
    },
    {
     "name": "stdout",
     "output_type": "stream",
     "text": [
      "\u001b[32m[1019 09:26:59 @monitor.py:467]\u001b[0m GAN_loss/discrim/accuracy_fake: 0.832\n",
      "\u001b[32m[1019 09:26:59 @monitor.py:467]\u001b[0m GAN_loss/discrim/accuracy_real: 0.46\n",
      "\u001b[32m[1019 09:26:59 @monitor.py:467]\u001b[0m GAN_loss/discrim/loss: 0.57793\n",
      "\u001b[32m[1019 09:26:59 @monitor.py:467]\u001b[0m GAN_loss/gen/final-g-loss: 1.5226\n",
      "\u001b[32m[1019 09:26:59 @monitor.py:467]\u001b[0m GAN_loss/gen/klloss: 0.0666\n",
      "\u001b[32m[1019 09:26:59 @monitor.py:467]\u001b[0m GAN_loss/gen/loss: 1.456\n",
      "\u001b[32m[1019 09:26:59 @monitor.py:467]\u001b[0m QueueInput/queue_size: 50\n",
      "\u001b[32m[1019 09:26:59 @base.py:275]\u001b[0m Start Epoch 1416 ...\n"
     ]
    },
    {
     "name": "stderr",
     "output_type": "stream",
     "text": [
      "100%|###################################################################################|175/175[00:05<00:00,31.87it/s]"
     ]
    },
    {
     "name": "stdout",
     "output_type": "stream",
     "text": [
      "\u001b[32m[1019 09:27:05 @base.py:285]\u001b[0m Epoch 1416 (global_step 247800) finished, time:5.49 seconds.\n",
      "\u001b[32m[1019 09:27:05 @saver.py:79]\u001b[0m Model saved to ../output/Chicago/DATGAN_asd29/model\\model-247800.\n"
     ]
    },
    {
     "name": "stderr",
     "output_type": "stream",
     "text": [
      "\n"
     ]
    },
    {
     "name": "stdout",
     "output_type": "stream",
     "text": [
      "\u001b[32m[1019 09:27:05 @monitor.py:467]\u001b[0m GAN_loss/discrim/accuracy_fake: 0.824\n",
      "\u001b[32m[1019 09:27:05 @monitor.py:467]\u001b[0m GAN_loss/discrim/accuracy_real: 0.486\n",
      "\u001b[32m[1019 09:27:05 @monitor.py:467]\u001b[0m GAN_loss/discrim/loss: 0.58071\n",
      "\u001b[32m[1019 09:27:05 @monitor.py:467]\u001b[0m GAN_loss/gen/final-g-loss: 1.4923\n",
      "\u001b[32m[1019 09:27:05 @monitor.py:467]\u001b[0m GAN_loss/gen/klloss: 0.10273\n",
      "\u001b[32m[1019 09:27:05 @monitor.py:467]\u001b[0m GAN_loss/gen/loss: 1.3895\n",
      "\u001b[32m[1019 09:27:05 @monitor.py:467]\u001b[0m QueueInput/queue_size: 50\n",
      "\u001b[32m[1019 09:27:05 @base.py:275]\u001b[0m Start Epoch 1417 ...\n"
     ]
    },
    {
     "name": "stderr",
     "output_type": "stream",
     "text": [
      "100%|###################################################################################|175/175[00:05<00:00,31.92it/s]"
     ]
    },
    {
     "name": "stdout",
     "output_type": "stream",
     "text": [
      "\u001b[32m[1019 09:27:10 @base.py:285]\u001b[0m Epoch 1417 (global_step 247975) finished, time:5.48 seconds.\n",
      "\u001b[32m[1019 09:27:10 @saver.py:79]\u001b[0m Model saved to ../output/Chicago/DATGAN_asd29/model\\model-247975.\n"
     ]
    },
    {
     "name": "stderr",
     "output_type": "stream",
     "text": [
      "\n"
     ]
    },
    {
     "name": "stdout",
     "output_type": "stream",
     "text": [
      "\u001b[32m[1019 09:27:11 @monitor.py:467]\u001b[0m GAN_loss/discrim/accuracy_fake: 0.772\n",
      "\u001b[32m[1019 09:27:11 @monitor.py:467]\u001b[0m GAN_loss/discrim/accuracy_real: 0.522\n",
      "\u001b[32m[1019 09:27:11 @monitor.py:467]\u001b[0m GAN_loss/discrim/loss: 0.5849\n",
      "\u001b[32m[1019 09:27:11 @monitor.py:467]\u001b[0m GAN_loss/gen/final-g-loss: 1.5591\n",
      "\u001b[32m[1019 09:27:11 @monitor.py:467]\u001b[0m GAN_loss/gen/klloss: 0.08227\n",
      "\u001b[32m[1019 09:27:11 @monitor.py:467]\u001b[0m GAN_loss/gen/loss: 1.4768\n",
      "\u001b[32m[1019 09:27:11 @monitor.py:467]\u001b[0m QueueInput/queue_size: 50\n",
      "\u001b[32m[1019 09:27:11 @base.py:275]\u001b[0m Start Epoch 1418 ...\n"
     ]
    },
    {
     "name": "stderr",
     "output_type": "stream",
     "text": [
      "100%|###################################################################################|175/175[00:05<00:00,31.88it/s]"
     ]
    },
    {
     "name": "stdout",
     "output_type": "stream",
     "text": [
      "\u001b[32m[1019 09:27:16 @base.py:285]\u001b[0m Epoch 1418 (global_step 248150) finished, time:5.49 seconds.\n",
      "\u001b[32m[1019 09:27:16 @saver.py:79]\u001b[0m Model saved to ../output/Chicago/DATGAN_asd29/model\\model-248150.\n"
     ]
    },
    {
     "name": "stderr",
     "output_type": "stream",
     "text": [
      "\n"
     ]
    },
    {
     "name": "stdout",
     "output_type": "stream",
     "text": [
      "\u001b[32m[1019 09:27:17 @monitor.py:467]\u001b[0m GAN_loss/discrim/accuracy_fake: 0.812\n",
      "\u001b[32m[1019 09:27:17 @monitor.py:467]\u001b[0m GAN_loss/discrim/accuracy_real: 0.47\n",
      "\u001b[32m[1019 09:27:17 @monitor.py:467]\u001b[0m GAN_loss/discrim/loss: 0.59985\n",
      "\u001b[32m[1019 09:27:17 @monitor.py:467]\u001b[0m GAN_loss/gen/final-g-loss: 1.4482\n",
      "\u001b[32m[1019 09:27:17 @monitor.py:467]\u001b[0m GAN_loss/gen/klloss: 0.052465\n",
      "\u001b[32m[1019 09:27:17 @monitor.py:467]\u001b[0m GAN_loss/gen/loss: 1.3958\n",
      "\u001b[32m[1019 09:27:17 @monitor.py:467]\u001b[0m QueueInput/queue_size: 50\n",
      "\u001b[32m[1019 09:27:17 @base.py:275]\u001b[0m Start Epoch 1419 ...\n"
     ]
    },
    {
     "name": "stderr",
     "output_type": "stream",
     "text": [
      "100%|###################################################################################|175/175[00:05<00:00,31.84it/s]"
     ]
    },
    {
     "name": "stdout",
     "output_type": "stream",
     "text": [
      "\u001b[32m[1019 09:27:22 @base.py:285]\u001b[0m Epoch 1419 (global_step 248325) finished, time:5.5 seconds.\n",
      "\u001b[32m[1019 09:27:22 @saver.py:79]\u001b[0m Model saved to ../output/Chicago/DATGAN_asd29/model\\model-248325.\n"
     ]
    },
    {
     "name": "stderr",
     "output_type": "stream",
     "text": [
      "\n"
     ]
    },
    {
     "name": "stdout",
     "output_type": "stream",
     "text": [
      "\u001b[32m[1019 09:27:22 @monitor.py:467]\u001b[0m GAN_loss/discrim/accuracy_fake: 0.798\n",
      "\u001b[32m[1019 09:27:22 @monitor.py:467]\u001b[0m GAN_loss/discrim/accuracy_real: 0.408\n",
      "\u001b[32m[1019 09:27:22 @monitor.py:467]\u001b[0m GAN_loss/discrim/loss: 0.62324\n",
      "\u001b[32m[1019 09:27:22 @monitor.py:467]\u001b[0m GAN_loss/gen/final-g-loss: 1.4548\n",
      "\u001b[32m[1019 09:27:22 @monitor.py:467]\u001b[0m GAN_loss/gen/klloss: 0.080963\n",
      "\u001b[32m[1019 09:27:22 @monitor.py:467]\u001b[0m GAN_loss/gen/loss: 1.3738\n",
      "\u001b[32m[1019 09:27:22 @monitor.py:467]\u001b[0m QueueInput/queue_size: 50\n",
      "\u001b[32m[1019 09:27:22 @base.py:275]\u001b[0m Start Epoch 1420 ...\n"
     ]
    },
    {
     "name": "stderr",
     "output_type": "stream",
     "text": [
      "100%|###################################################################################|175/175[00:05<00:00,31.88it/s]"
     ]
    },
    {
     "name": "stdout",
     "output_type": "stream",
     "text": [
      "\u001b[32m[1019 09:27:28 @base.py:285]\u001b[0m Epoch 1420 (global_step 248500) finished, time:5.49 seconds.\n",
      "\u001b[32m[1019 09:27:28 @saver.py:79]\u001b[0m Model saved to ../output/Chicago/DATGAN_asd29/model\\model-248500.\n"
     ]
    },
    {
     "name": "stderr",
     "output_type": "stream",
     "text": [
      "\n"
     ]
    },
    {
     "name": "stdout",
     "output_type": "stream",
     "text": [
      "\u001b[32m[1019 09:27:28 @monitor.py:467]\u001b[0m GAN_loss/discrim/accuracy_fake: 0.794\n",
      "\u001b[32m[1019 09:27:28 @monitor.py:467]\u001b[0m GAN_loss/discrim/accuracy_real: 0.394\n",
      "\u001b[32m[1019 09:27:28 @monitor.py:467]\u001b[0m GAN_loss/discrim/loss: 0.64784\n",
      "\u001b[32m[1019 09:27:28 @monitor.py:467]\u001b[0m GAN_loss/gen/final-g-loss: 1.401\n",
      "\u001b[32m[1019 09:27:28 @monitor.py:467]\u001b[0m GAN_loss/gen/klloss: 0.07471\n",
      "\u001b[32m[1019 09:27:28 @monitor.py:467]\u001b[0m GAN_loss/gen/loss: 1.3263\n",
      "\u001b[32m[1019 09:27:28 @monitor.py:467]\u001b[0m QueueInput/queue_size: 50\n",
      "\u001b[32m[1019 09:27:28 @base.py:275]\u001b[0m Start Epoch 1421 ...\n"
     ]
    },
    {
     "name": "stderr",
     "output_type": "stream",
     "text": [
      "100%|###################################################################################|175/175[00:05<00:00,31.92it/s]"
     ]
    },
    {
     "name": "stdout",
     "output_type": "stream",
     "text": [
      "\u001b[32m[1019 09:27:34 @base.py:285]\u001b[0m Epoch 1421 (global_step 248675) finished, time:5.48 seconds.\n",
      "\u001b[32m[1019 09:27:34 @saver.py:79]\u001b[0m Model saved to ../output/Chicago/DATGAN_asd29/model\\model-248675.\n"
     ]
    },
    {
     "name": "stderr",
     "output_type": "stream",
     "text": [
      "\n"
     ]
    },
    {
     "name": "stdout",
     "output_type": "stream",
     "text": [
      "\u001b[32m[1019 09:27:34 @monitor.py:467]\u001b[0m GAN_loss/discrim/accuracy_fake: 0.782\n",
      "\u001b[32m[1019 09:27:34 @monitor.py:467]\u001b[0m GAN_loss/discrim/accuracy_real: 0.522\n",
      "\u001b[32m[1019 09:27:34 @monitor.py:467]\u001b[0m GAN_loss/discrim/loss: 0.57859\n",
      "\u001b[32m[1019 09:27:34 @monitor.py:467]\u001b[0m GAN_loss/gen/final-g-loss: 1.5297\n",
      "\u001b[32m[1019 09:27:34 @monitor.py:467]\u001b[0m GAN_loss/gen/klloss: 0.13256\n",
      "\u001b[32m[1019 09:27:34 @monitor.py:467]\u001b[0m GAN_loss/gen/loss: 1.3971\n",
      "\u001b[32m[1019 09:27:34 @monitor.py:467]\u001b[0m QueueInput/queue_size: 50\n",
      "\u001b[32m[1019 09:27:34 @base.py:275]\u001b[0m Start Epoch 1422 ...\n"
     ]
    },
    {
     "name": "stderr",
     "output_type": "stream",
     "text": [
      "100%|###################################################################################|175/175[00:05<00:00,31.93it/s]"
     ]
    },
    {
     "name": "stdout",
     "output_type": "stream",
     "text": [
      "\u001b[32m[1019 09:27:39 @base.py:285]\u001b[0m Epoch 1422 (global_step 248850) finished, time:5.48 seconds.\n",
      "\u001b[32m[1019 09:27:40 @saver.py:79]\u001b[0m Model saved to ../output/Chicago/DATGAN_asd29/model\\model-248850.\n"
     ]
    },
    {
     "name": "stderr",
     "output_type": "stream",
     "text": [
      "\n"
     ]
    },
    {
     "name": "stdout",
     "output_type": "stream",
     "text": [
      "\u001b[32m[1019 09:27:40 @monitor.py:467]\u001b[0m GAN_loss/discrim/accuracy_fake: 0.842\n",
      "\u001b[32m[1019 09:27:40 @monitor.py:467]\u001b[0m GAN_loss/discrim/accuracy_real: 0.472\n",
      "\u001b[32m[1019 09:27:40 @monitor.py:467]\u001b[0m GAN_loss/discrim/loss: 0.58951\n",
      "\u001b[32m[1019 09:27:40 @monitor.py:467]\u001b[0m GAN_loss/gen/final-g-loss: 1.5041\n",
      "\u001b[32m[1019 09:27:40 @monitor.py:467]\u001b[0m GAN_loss/gen/klloss: 0.076137\n",
      "\u001b[32m[1019 09:27:40 @monitor.py:467]\u001b[0m GAN_loss/gen/loss: 1.428\n",
      "\u001b[32m[1019 09:27:40 @monitor.py:467]\u001b[0m QueueInput/queue_size: 50\n",
      "\u001b[32m[1019 09:27:40 @base.py:275]\u001b[0m Start Epoch 1423 ...\n"
     ]
    },
    {
     "name": "stderr",
     "output_type": "stream",
     "text": [
      "100%|###################################################################################|175/175[00:05<00:00,31.87it/s]"
     ]
    },
    {
     "name": "stdout",
     "output_type": "stream",
     "text": [
      "\u001b[32m[1019 09:27:45 @base.py:285]\u001b[0m Epoch 1423 (global_step 249025) finished, time:5.49 seconds.\n",
      "\u001b[32m[1019 09:27:45 @saver.py:79]\u001b[0m Model saved to ../output/Chicago/DATGAN_asd29/model\\model-249025.\n"
     ]
    },
    {
     "name": "stderr",
     "output_type": "stream",
     "text": [
      "\n"
     ]
    },
    {
     "name": "stdout",
     "output_type": "stream",
     "text": [
      "\u001b[32m[1019 09:27:46 @monitor.py:467]\u001b[0m GAN_loss/discrim/accuracy_fake: 0.802\n",
      "\u001b[32m[1019 09:27:46 @monitor.py:467]\u001b[0m GAN_loss/discrim/accuracy_real: 0.526\n",
      "\u001b[32m[1019 09:27:46 @monitor.py:467]\u001b[0m GAN_loss/discrim/loss: 0.57852\n",
      "\u001b[32m[1019 09:27:46 @monitor.py:467]\u001b[0m GAN_loss/gen/final-g-loss: 1.5063\n",
      "\u001b[32m[1019 09:27:46 @monitor.py:467]\u001b[0m GAN_loss/gen/klloss: 0.10486\n",
      "\u001b[32m[1019 09:27:46 @monitor.py:467]\u001b[0m GAN_loss/gen/loss: 1.4014\n",
      "\u001b[32m[1019 09:27:46 @monitor.py:467]\u001b[0m QueueInput/queue_size: 50\n",
      "\u001b[32m[1019 09:27:46 @base.py:275]\u001b[0m Start Epoch 1424 ...\n"
     ]
    },
    {
     "name": "stderr",
     "output_type": "stream",
     "text": [
      "100%|###################################################################################|175/175[00:05<00:00,31.88it/s]"
     ]
    },
    {
     "name": "stdout",
     "output_type": "stream",
     "text": [
      "\u001b[32m[1019 09:27:51 @base.py:285]\u001b[0m Epoch 1424 (global_step 249200) finished, time:5.49 seconds.\n",
      "\u001b[32m[1019 09:27:51 @saver.py:79]\u001b[0m Model saved to ../output/Chicago/DATGAN_asd29/model\\model-249200.\n"
     ]
    },
    {
     "name": "stderr",
     "output_type": "stream",
     "text": [
      "\n"
     ]
    },
    {
     "name": "stdout",
     "output_type": "stream",
     "text": [
      "\u001b[32m[1019 09:27:51 @monitor.py:467]\u001b[0m GAN_loss/discrim/accuracy_fake: 0.834\n",
      "\u001b[32m[1019 09:27:51 @monitor.py:467]\u001b[0m GAN_loss/discrim/accuracy_real: 0.498\n",
      "\u001b[32m[1019 09:27:51 @monitor.py:467]\u001b[0m GAN_loss/discrim/loss: 0.57959\n",
      "\u001b[32m[1019 09:27:51 @monitor.py:467]\u001b[0m GAN_loss/gen/final-g-loss: 1.5242\n",
      "\u001b[32m[1019 09:27:51 @monitor.py:467]\u001b[0m GAN_loss/gen/klloss: 0.10026\n",
      "\u001b[32m[1019 09:27:51 @monitor.py:467]\u001b[0m GAN_loss/gen/loss: 1.424\n",
      "\u001b[32m[1019 09:27:51 @monitor.py:467]\u001b[0m QueueInput/queue_size: 50\n",
      "\u001b[32m[1019 09:27:51 @base.py:275]\u001b[0m Start Epoch 1425 ...\n"
     ]
    },
    {
     "name": "stderr",
     "output_type": "stream",
     "text": [
      "100%|###################################################################################|175/175[00:05<00:00,31.87it/s]"
     ]
    },
    {
     "name": "stdout",
     "output_type": "stream",
     "text": [
      "\u001b[32m[1019 09:27:57 @base.py:285]\u001b[0m Epoch 1425 (global_step 249375) finished, time:5.49 seconds.\n",
      "\u001b[32m[1019 09:27:57 @saver.py:79]\u001b[0m Model saved to ../output/Chicago/DATGAN_asd29/model\\model-249375.\n"
     ]
    },
    {
     "name": "stderr",
     "output_type": "stream",
     "text": [
      "\n"
     ]
    },
    {
     "name": "stdout",
     "output_type": "stream",
     "text": [
      "\u001b[32m[1019 09:27:57 @monitor.py:467]\u001b[0m GAN_loss/discrim/accuracy_fake: 0.802\n",
      "\u001b[32m[1019 09:27:57 @monitor.py:467]\u001b[0m GAN_loss/discrim/accuracy_real: 0.434\n",
      "\u001b[32m[1019 09:27:57 @monitor.py:467]\u001b[0m GAN_loss/discrim/loss: 0.60161\n",
      "\u001b[32m[1019 09:27:57 @monitor.py:467]\u001b[0m GAN_loss/gen/final-g-loss: 1.4685\n",
      "\u001b[32m[1019 09:27:57 @monitor.py:467]\u001b[0m GAN_loss/gen/klloss: 0.089087\n",
      "\u001b[32m[1019 09:27:57 @monitor.py:467]\u001b[0m GAN_loss/gen/loss: 1.3794\n",
      "\u001b[32m[1019 09:27:57 @monitor.py:467]\u001b[0m QueueInput/queue_size: 50\n",
      "\u001b[32m[1019 09:27:57 @base.py:275]\u001b[0m Start Epoch 1426 ...\n"
     ]
    },
    {
     "name": "stderr",
     "output_type": "stream",
     "text": [
      "100%|###################################################################################|175/175[00:05<00:00,31.93it/s]"
     ]
    },
    {
     "name": "stdout",
     "output_type": "stream",
     "text": [
      "\u001b[32m[1019 09:28:03 @base.py:285]\u001b[0m Epoch 1426 (global_step 249550) finished, time:5.48 seconds.\n",
      "\u001b[32m[1019 09:28:03 @saver.py:79]\u001b[0m Model saved to ../output/Chicago/DATGAN_asd29/model\\model-249550.\n"
     ]
    },
    {
     "name": "stderr",
     "output_type": "stream",
     "text": [
      "\n"
     ]
    },
    {
     "name": "stdout",
     "output_type": "stream",
     "text": [
      "\u001b[32m[1019 09:28:03 @monitor.py:467]\u001b[0m GAN_loss/discrim/accuracy_fake: 0.848\n",
      "\u001b[32m[1019 09:28:03 @monitor.py:467]\u001b[0m GAN_loss/discrim/accuracy_real: 0.484\n",
      "\u001b[32m[1019 09:28:03 @monitor.py:467]\u001b[0m GAN_loss/discrim/loss: 0.55463\n",
      "\u001b[32m[1019 09:28:03 @monitor.py:467]\u001b[0m GAN_loss/gen/final-g-loss: 1.63\n",
      "\u001b[32m[1019 09:28:03 @monitor.py:467]\u001b[0m GAN_loss/gen/klloss: 0.083962\n",
      "\u001b[32m[1019 09:28:03 @monitor.py:467]\u001b[0m GAN_loss/gen/loss: 1.5461\n",
      "\u001b[32m[1019 09:28:03 @monitor.py:467]\u001b[0m QueueInput/queue_size: 50\n",
      "\u001b[32m[1019 09:28:03 @base.py:275]\u001b[0m Start Epoch 1427 ...\n"
     ]
    },
    {
     "name": "stderr",
     "output_type": "stream",
     "text": [
      "100%|###################################################################################|175/175[00:05<00:00,31.88it/s]"
     ]
    },
    {
     "name": "stdout",
     "output_type": "stream",
     "text": [
      "\u001b[32m[1019 09:28:09 @base.py:285]\u001b[0m Epoch 1427 (global_step 249725) finished, time:5.49 seconds.\n",
      "\u001b[32m[1019 09:28:09 @saver.py:79]\u001b[0m Model saved to ../output/Chicago/DATGAN_asd29/model\\model-249725.\n"
     ]
    },
    {
     "name": "stderr",
     "output_type": "stream",
     "text": [
      "\n"
     ]
    },
    {
     "name": "stdout",
     "output_type": "stream",
     "text": [
      "\u001b[32m[1019 09:28:09 @monitor.py:467]\u001b[0m GAN_loss/discrim/accuracy_fake: 0.816\n",
      "\u001b[32m[1019 09:28:09 @monitor.py:467]\u001b[0m GAN_loss/discrim/accuracy_real: 0.476\n",
      "\u001b[32m[1019 09:28:09 @monitor.py:467]\u001b[0m GAN_loss/discrim/loss: 0.58485\n",
      "\u001b[32m[1019 09:28:09 @monitor.py:467]\u001b[0m GAN_loss/gen/final-g-loss: 1.4675\n",
      "\u001b[32m[1019 09:28:09 @monitor.py:467]\u001b[0m GAN_loss/gen/klloss: 0.067149\n",
      "\u001b[32m[1019 09:28:09 @monitor.py:467]\u001b[0m GAN_loss/gen/loss: 1.4003\n",
      "\u001b[32m[1019 09:28:09 @monitor.py:467]\u001b[0m QueueInput/queue_size: 50\n",
      "\u001b[32m[1019 09:28:09 @base.py:275]\u001b[0m Start Epoch 1428 ...\n"
     ]
    },
    {
     "name": "stderr",
     "output_type": "stream",
     "text": [
      "100%|###################################################################################|175/175[00:05<00:00,31.94it/s]"
     ]
    },
    {
     "name": "stdout",
     "output_type": "stream",
     "text": [
      "\u001b[32m[1019 09:28:14 @base.py:285]\u001b[0m Epoch 1428 (global_step 249900) finished, time:5.48 seconds.\n",
      "\u001b[32m[1019 09:28:14 @saver.py:79]\u001b[0m Model saved to ../output/Chicago/DATGAN_asd29/model\\model-249900.\n"
     ]
    },
    {
     "name": "stderr",
     "output_type": "stream",
     "text": [
      "\n"
     ]
    },
    {
     "name": "stdout",
     "output_type": "stream",
     "text": [
      "\u001b[32m[1019 09:28:15 @monitor.py:467]\u001b[0m GAN_loss/discrim/accuracy_fake: 0.822\n",
      "\u001b[32m[1019 09:28:15 @monitor.py:467]\u001b[0m GAN_loss/discrim/accuracy_real: 0.49\n",
      "\u001b[32m[1019 09:28:15 @monitor.py:467]\u001b[0m GAN_loss/discrim/loss: 0.59123\n",
      "\u001b[32m[1019 09:28:15 @monitor.py:467]\u001b[0m GAN_loss/gen/final-g-loss: 1.4638\n",
      "\u001b[32m[1019 09:28:15 @monitor.py:467]\u001b[0m GAN_loss/gen/klloss: 0.063206\n",
      "\u001b[32m[1019 09:28:15 @monitor.py:467]\u001b[0m GAN_loss/gen/loss: 1.4006\n",
      "\u001b[32m[1019 09:28:15 @monitor.py:467]\u001b[0m QueueInput/queue_size: 50\n",
      "\u001b[32m[1019 09:28:15 @base.py:275]\u001b[0m Start Epoch 1429 ...\n"
     ]
    },
    {
     "name": "stderr",
     "output_type": "stream",
     "text": [
      "100%|###################################################################################|175/175[00:05<00:00,31.88it/s]"
     ]
    },
    {
     "name": "stdout",
     "output_type": "stream",
     "text": [
      "\u001b[32m[1019 09:28:20 @base.py:285]\u001b[0m Epoch 1429 (global_step 250075) finished, time:5.49 seconds.\n",
      "\u001b[32m[1019 09:28:20 @saver.py:79]\u001b[0m Model saved to ../output/Chicago/DATGAN_asd29/model\\model-250075.\n"
     ]
    },
    {
     "name": "stderr",
     "output_type": "stream",
     "text": [
      "\n"
     ]
    },
    {
     "name": "stdout",
     "output_type": "stream",
     "text": [
      "\u001b[32m[1019 09:28:20 @monitor.py:467]\u001b[0m GAN_loss/discrim/accuracy_fake: 0.794\n",
      "\u001b[32m[1019 09:28:20 @monitor.py:467]\u001b[0m GAN_loss/discrim/accuracy_real: 0.534\n",
      "\u001b[32m[1019 09:28:20 @monitor.py:467]\u001b[0m GAN_loss/discrim/loss: 0.58978\n",
      "\u001b[32m[1019 09:28:20 @monitor.py:467]\u001b[0m GAN_loss/gen/final-g-loss: 1.474\n",
      "\u001b[32m[1019 09:28:20 @monitor.py:467]\u001b[0m GAN_loss/gen/klloss: 0.082577\n",
      "\u001b[32m[1019 09:28:20 @monitor.py:467]\u001b[0m GAN_loss/gen/loss: 1.3914\n",
      "\u001b[32m[1019 09:28:20 @monitor.py:467]\u001b[0m QueueInput/queue_size: 50\n",
      "\u001b[32m[1019 09:28:20 @base.py:275]\u001b[0m Start Epoch 1430 ...\n"
     ]
    },
    {
     "name": "stderr",
     "output_type": "stream",
     "text": [
      "100%|###################################################################################|175/175[00:05<00:00,31.94it/s]"
     ]
    },
    {
     "name": "stdout",
     "output_type": "stream",
     "text": [
      "\u001b[32m[1019 09:28:26 @base.py:285]\u001b[0m Epoch 1430 (global_step 250250) finished, time:5.48 seconds.\n",
      "\u001b[32m[1019 09:28:26 @saver.py:79]\u001b[0m Model saved to ../output/Chicago/DATGAN_asd29/model\\model-250250.\n"
     ]
    },
    {
     "name": "stderr",
     "output_type": "stream",
     "text": [
      "\n"
     ]
    },
    {
     "name": "stdout",
     "output_type": "stream",
     "text": [
      "\u001b[32m[1019 09:28:26 @monitor.py:467]\u001b[0m GAN_loss/discrim/accuracy_fake: 0.828\n",
      "\u001b[32m[1019 09:28:26 @monitor.py:467]\u001b[0m GAN_loss/discrim/accuracy_real: 0.474\n",
      "\u001b[32m[1019 09:28:26 @monitor.py:467]\u001b[0m GAN_loss/discrim/loss: 0.58584\n",
      "\u001b[32m[1019 09:28:26 @monitor.py:467]\u001b[0m GAN_loss/gen/final-g-loss: 1.5099\n",
      "\u001b[32m[1019 09:28:26 @monitor.py:467]\u001b[0m GAN_loss/gen/klloss: 0.10264\n",
      "\u001b[32m[1019 09:28:26 @monitor.py:467]\u001b[0m GAN_loss/gen/loss: 1.4072\n",
      "\u001b[32m[1019 09:28:26 @monitor.py:467]\u001b[0m QueueInput/queue_size: 50\n",
      "\u001b[32m[1019 09:28:26 @base.py:275]\u001b[0m Start Epoch 1431 ...\n"
     ]
    },
    {
     "name": "stderr",
     "output_type": "stream",
     "text": [
      "100%|###################################################################################|175/175[00:05<00:00,31.87it/s]"
     ]
    },
    {
     "name": "stdout",
     "output_type": "stream",
     "text": [
      "\u001b[32m[1019 09:28:32 @base.py:285]\u001b[0m Epoch 1431 (global_step 250425) finished, time:5.49 seconds.\n",
      "\u001b[32m[1019 09:28:32 @saver.py:79]\u001b[0m Model saved to ../output/Chicago/DATGAN_asd29/model\\model-250425.\n"
     ]
    },
    {
     "name": "stderr",
     "output_type": "stream",
     "text": [
      "\n"
     ]
    },
    {
     "name": "stdout",
     "output_type": "stream",
     "text": [
      "\u001b[32m[1019 09:28:32 @monitor.py:467]\u001b[0m GAN_loss/discrim/accuracy_fake: 0.804\n",
      "\u001b[32m[1019 09:28:32 @monitor.py:467]\u001b[0m GAN_loss/discrim/accuracy_real: 0.436\n",
      "\u001b[32m[1019 09:28:32 @monitor.py:467]\u001b[0m GAN_loss/discrim/loss: 0.60292\n",
      "\u001b[32m[1019 09:28:32 @monitor.py:467]\u001b[0m GAN_loss/gen/final-g-loss: 1.4536\n",
      "\u001b[32m[1019 09:28:32 @monitor.py:467]\u001b[0m GAN_loss/gen/klloss: 0.072627\n",
      "\u001b[32m[1019 09:28:32 @monitor.py:467]\u001b[0m GAN_loss/gen/loss: 1.3809\n",
      "\u001b[32m[1019 09:28:32 @monitor.py:467]\u001b[0m QueueInput/queue_size: 50\n",
      "\u001b[32m[1019 09:28:32 @base.py:275]\u001b[0m Start Epoch 1432 ...\n"
     ]
    },
    {
     "name": "stderr",
     "output_type": "stream",
     "text": [
      "100%|###################################################################################|175/175[00:05<00:00,31.91it/s]"
     ]
    },
    {
     "name": "stdout",
     "output_type": "stream",
     "text": [
      "\u001b[32m[1019 09:28:38 @base.py:285]\u001b[0m Epoch 1432 (global_step 250600) finished, time:5.48 seconds.\n",
      "\u001b[32m[1019 09:28:38 @saver.py:79]\u001b[0m Model saved to ../output/Chicago/DATGAN_asd29/model\\model-250600.\n"
     ]
    },
    {
     "name": "stderr",
     "output_type": "stream",
     "text": [
      "\n"
     ]
    },
    {
     "name": "stdout",
     "output_type": "stream",
     "text": [
      "\u001b[32m[1019 09:28:38 @monitor.py:467]\u001b[0m GAN_loss/discrim/accuracy_fake: 0.832\n",
      "\u001b[32m[1019 09:28:38 @monitor.py:467]\u001b[0m GAN_loss/discrim/accuracy_real: 0.402\n",
      "\u001b[32m[1019 09:28:38 @monitor.py:467]\u001b[0m GAN_loss/discrim/loss: 0.60254\n",
      "\u001b[32m[1019 09:28:38 @monitor.py:467]\u001b[0m GAN_loss/gen/final-g-loss: 1.4459\n",
      "\u001b[32m[1019 09:28:38 @monitor.py:467]\u001b[0m GAN_loss/gen/klloss: 0.050572\n",
      "\u001b[32m[1019 09:28:38 @monitor.py:467]\u001b[0m GAN_loss/gen/loss: 1.3954\n",
      "\u001b[32m[1019 09:28:38 @monitor.py:467]\u001b[0m QueueInput/queue_size: 50\n",
      "\u001b[32m[1019 09:28:38 @base.py:275]\u001b[0m Start Epoch 1433 ...\n"
     ]
    },
    {
     "name": "stderr",
     "output_type": "stream",
     "text": [
      "100%|###################################################################################|175/175[00:05<00:00,31.89it/s]"
     ]
    },
    {
     "name": "stdout",
     "output_type": "stream",
     "text": [
      "\u001b[32m[1019 09:28:43 @base.py:285]\u001b[0m Epoch 1433 (global_step 250775) finished, time:5.49 seconds.\n",
      "\u001b[32m[1019 09:28:43 @saver.py:79]\u001b[0m Model saved to ../output/Chicago/DATGAN_asd29/model\\model-250775.\n"
     ]
    },
    {
     "name": "stderr",
     "output_type": "stream",
     "text": [
      "\n"
     ]
    },
    {
     "name": "stdout",
     "output_type": "stream",
     "text": [
      "\u001b[32m[1019 09:28:44 @monitor.py:467]\u001b[0m GAN_loss/discrim/accuracy_fake: 0.844\n",
      "\u001b[32m[1019 09:28:44 @monitor.py:467]\u001b[0m GAN_loss/discrim/accuracy_real: 0.442\n",
      "\u001b[32m[1019 09:28:44 @monitor.py:467]\u001b[0m GAN_loss/discrim/loss: 0.59131\n",
      "\u001b[32m[1019 09:28:44 @monitor.py:467]\u001b[0m GAN_loss/gen/final-g-loss: 1.5142\n",
      "\u001b[32m[1019 09:28:44 @monitor.py:467]\u001b[0m GAN_loss/gen/klloss: 0.099724\n",
      "\u001b[32m[1019 09:28:44 @monitor.py:467]\u001b[0m GAN_loss/gen/loss: 1.4145\n",
      "\u001b[32m[1019 09:28:44 @monitor.py:467]\u001b[0m QueueInput/queue_size: 50\n",
      "\u001b[32m[1019 09:28:44 @base.py:275]\u001b[0m Start Epoch 1434 ...\n"
     ]
    },
    {
     "name": "stderr",
     "output_type": "stream",
     "text": [
      "100%|###################################################################################|175/175[00:05<00:00,31.92it/s]"
     ]
    },
    {
     "name": "stdout",
     "output_type": "stream",
     "text": [
      "\u001b[32m[1019 09:28:49 @base.py:285]\u001b[0m Epoch 1434 (global_step 250950) finished, time:5.48 seconds.\n",
      "\u001b[32m[1019 09:28:49 @saver.py:79]\u001b[0m Model saved to ../output/Chicago/DATGAN_asd29/model\\model-250950.\n"
     ]
    },
    {
     "name": "stderr",
     "output_type": "stream",
     "text": [
      "\n"
     ]
    },
    {
     "name": "stdout",
     "output_type": "stream",
     "text": [
      "\u001b[32m[1019 09:28:50 @monitor.py:467]\u001b[0m GAN_loss/discrim/accuracy_fake: 0.798\n",
      "\u001b[32m[1019 09:28:50 @monitor.py:467]\u001b[0m GAN_loss/discrim/accuracy_real: 0.474\n",
      "\u001b[32m[1019 09:28:50 @monitor.py:467]\u001b[0m GAN_loss/discrim/loss: 0.59692\n",
      "\u001b[32m[1019 09:28:50 @monitor.py:467]\u001b[0m GAN_loss/gen/final-g-loss: 1.4166\n",
      "\u001b[32m[1019 09:28:50 @monitor.py:467]\u001b[0m GAN_loss/gen/klloss: 0.073171\n",
      "\u001b[32m[1019 09:28:50 @monitor.py:467]\u001b[0m GAN_loss/gen/loss: 1.3435\n",
      "\u001b[32m[1019 09:28:50 @monitor.py:467]\u001b[0m QueueInput/queue_size: 50\n",
      "\u001b[32m[1019 09:28:50 @base.py:275]\u001b[0m Start Epoch 1435 ...\n"
     ]
    },
    {
     "name": "stderr",
     "output_type": "stream",
     "text": [
      "100%|###################################################################################|175/175[00:05<00:00,31.84it/s]"
     ]
    },
    {
     "name": "stdout",
     "output_type": "stream",
     "text": [
      "\u001b[32m[1019 09:28:55 @base.py:285]\u001b[0m Epoch 1435 (global_step 251125) finished, time:5.5 seconds.\n",
      "\u001b[32m[1019 09:28:55 @saver.py:79]\u001b[0m Model saved to ../output/Chicago/DATGAN_asd29/model\\model-251125.\n"
     ]
    },
    {
     "name": "stderr",
     "output_type": "stream",
     "text": [
      "\n"
     ]
    },
    {
     "name": "stdout",
     "output_type": "stream",
     "text": [
      "\u001b[32m[1019 09:28:55 @monitor.py:467]\u001b[0m GAN_loss/discrim/accuracy_fake: 0.84\n",
      "\u001b[32m[1019 09:28:55 @monitor.py:467]\u001b[0m GAN_loss/discrim/accuracy_real: 0.422\n",
      "\u001b[32m[1019 09:28:55 @monitor.py:467]\u001b[0m GAN_loss/discrim/loss: 0.60604\n",
      "\u001b[32m[1019 09:28:55 @monitor.py:467]\u001b[0m GAN_loss/gen/final-g-loss: 1.473\n",
      "\u001b[32m[1019 09:28:55 @monitor.py:467]\u001b[0m GAN_loss/gen/klloss: 0.079108\n",
      "\u001b[32m[1019 09:28:55 @monitor.py:467]\u001b[0m GAN_loss/gen/loss: 1.3939\n",
      "\u001b[32m[1019 09:28:55 @monitor.py:467]\u001b[0m QueueInput/queue_size: 50\n",
      "\u001b[32m[1019 09:28:55 @base.py:275]\u001b[0m Start Epoch 1436 ...\n"
     ]
    },
    {
     "name": "stderr",
     "output_type": "stream",
     "text": [
      "100%|###################################################################################|175/175[00:05<00:00,31.90it/s]"
     ]
    },
    {
     "name": "stdout",
     "output_type": "stream",
     "text": [
      "\u001b[32m[1019 09:29:01 @base.py:285]\u001b[0m Epoch 1436 (global_step 251300) finished, time:5.49 seconds.\n",
      "\u001b[32m[1019 09:29:01 @saver.py:79]\u001b[0m Model saved to ../output/Chicago/DATGAN_asd29/model\\model-251300.\n"
     ]
    },
    {
     "name": "stderr",
     "output_type": "stream",
     "text": [
      "\n"
     ]
    },
    {
     "name": "stdout",
     "output_type": "stream",
     "text": [
      "\u001b[32m[1019 09:29:01 @monitor.py:467]\u001b[0m GAN_loss/discrim/accuracy_fake: 0.78\n",
      "\u001b[32m[1019 09:29:01 @monitor.py:467]\u001b[0m GAN_loss/discrim/accuracy_real: 0.424\n",
      "\u001b[32m[1019 09:29:01 @monitor.py:467]\u001b[0m GAN_loss/discrim/loss: 0.62373\n",
      "\u001b[32m[1019 09:29:01 @monitor.py:467]\u001b[0m GAN_loss/gen/final-g-loss: 1.388\n",
      "\u001b[32m[1019 09:29:01 @monitor.py:467]\u001b[0m GAN_loss/gen/klloss: 0.078973\n",
      "\u001b[32m[1019 09:29:01 @monitor.py:467]\u001b[0m GAN_loss/gen/loss: 1.309\n",
      "\u001b[32m[1019 09:29:01 @monitor.py:467]\u001b[0m QueueInput/queue_size: 50\n",
      "\u001b[32m[1019 09:29:01 @base.py:275]\u001b[0m Start Epoch 1437 ...\n"
     ]
    },
    {
     "name": "stderr",
     "output_type": "stream",
     "text": [
      "100%|###################################################################################|175/175[00:05<00:00,31.94it/s]"
     ]
    },
    {
     "name": "stdout",
     "output_type": "stream",
     "text": [
      "\u001b[32m[1019 09:29:07 @base.py:285]\u001b[0m Epoch 1437 (global_step 251475) finished, time:5.48 seconds.\n",
      "\u001b[32m[1019 09:29:07 @saver.py:79]\u001b[0m Model saved to ../output/Chicago/DATGAN_asd29/model\\model-251475.\n"
     ]
    },
    {
     "name": "stderr",
     "output_type": "stream",
     "text": [
      "\n"
     ]
    },
    {
     "name": "stdout",
     "output_type": "stream",
     "text": [
      "\u001b[32m[1019 09:29:07 @monitor.py:467]\u001b[0m GAN_loss/discrim/accuracy_fake: 0.822\n",
      "\u001b[32m[1019 09:29:07 @monitor.py:467]\u001b[0m GAN_loss/discrim/accuracy_real: 0.46\n",
      "\u001b[32m[1019 09:29:07 @monitor.py:467]\u001b[0m GAN_loss/discrim/loss: 0.59121\n",
      "\u001b[32m[1019 09:29:07 @monitor.py:467]\u001b[0m GAN_loss/gen/final-g-loss: 1.4718\n",
      "\u001b[32m[1019 09:29:07 @monitor.py:467]\u001b[0m GAN_loss/gen/klloss: 0.098953\n",
      "\u001b[32m[1019 09:29:07 @monitor.py:467]\u001b[0m GAN_loss/gen/loss: 1.3729\n",
      "\u001b[32m[1019 09:29:07 @monitor.py:467]\u001b[0m QueueInput/queue_size: 50\n",
      "\u001b[32m[1019 09:29:07 @base.py:275]\u001b[0m Start Epoch 1438 ...\n"
     ]
    },
    {
     "name": "stderr",
     "output_type": "stream",
     "text": [
      "100%|###################################################################################|175/175[00:05<00:00,31.91it/s]"
     ]
    },
    {
     "name": "stdout",
     "output_type": "stream",
     "text": [
      "\u001b[32m[1019 09:29:12 @base.py:285]\u001b[0m Epoch 1438 (global_step 251650) finished, time:5.48 seconds.\n",
      "\u001b[32m[1019 09:29:13 @saver.py:79]\u001b[0m Model saved to ../output/Chicago/DATGAN_asd29/model\\model-251650.\n"
     ]
    },
    {
     "name": "stderr",
     "output_type": "stream",
     "text": [
      "\n"
     ]
    },
    {
     "name": "stdout",
     "output_type": "stream",
     "text": [
      "\u001b[32m[1019 09:29:13 @monitor.py:467]\u001b[0m GAN_loss/discrim/accuracy_fake: 0.84\n",
      "\u001b[32m[1019 09:29:13 @monitor.py:467]\u001b[0m GAN_loss/discrim/accuracy_real: 0.476\n",
      "\u001b[32m[1019 09:29:13 @monitor.py:467]\u001b[0m GAN_loss/discrim/loss: 0.58081\n",
      "\u001b[32m[1019 09:29:13 @monitor.py:467]\u001b[0m GAN_loss/gen/final-g-loss: 1.5113\n",
      "\u001b[32m[1019 09:29:13 @monitor.py:467]\u001b[0m GAN_loss/gen/klloss: 0.092607\n",
      "\u001b[32m[1019 09:29:13 @monitor.py:467]\u001b[0m GAN_loss/gen/loss: 1.4186\n",
      "\u001b[32m[1019 09:29:13 @monitor.py:467]\u001b[0m QueueInput/queue_size: 50\n",
      "\u001b[32m[1019 09:29:13 @base.py:275]\u001b[0m Start Epoch 1439 ...\n"
     ]
    },
    {
     "name": "stderr",
     "output_type": "stream",
     "text": [
      "100%|###################################################################################|175/175[00:05<00:00,31.94it/s]"
     ]
    },
    {
     "name": "stdout",
     "output_type": "stream",
     "text": [
      "\u001b[32m[1019 09:29:18 @base.py:285]\u001b[0m Epoch 1439 (global_step 251825) finished, time:5.48 seconds.\n",
      "\u001b[32m[1019 09:29:18 @saver.py:79]\u001b[0m Model saved to ../output/Chicago/DATGAN_asd29/model\\model-251825.\n"
     ]
    },
    {
     "name": "stderr",
     "output_type": "stream",
     "text": [
      "\n"
     ]
    },
    {
     "name": "stdout",
     "output_type": "stream",
     "text": [
      "\u001b[32m[1019 09:29:19 @monitor.py:467]\u001b[0m GAN_loss/discrim/accuracy_fake: 0.814\n",
      "\u001b[32m[1019 09:29:19 @monitor.py:467]\u001b[0m GAN_loss/discrim/accuracy_real: 0.388\n",
      "\u001b[32m[1019 09:29:19 @monitor.py:467]\u001b[0m GAN_loss/discrim/loss: 0.61911\n",
      "\u001b[32m[1019 09:29:19 @monitor.py:467]\u001b[0m GAN_loss/gen/final-g-loss: 1.4305\n",
      "\u001b[32m[1019 09:29:19 @monitor.py:467]\u001b[0m GAN_loss/gen/klloss: 0.063578\n",
      "\u001b[32m[1019 09:29:19 @monitor.py:467]\u001b[0m GAN_loss/gen/loss: 1.3669\n",
      "\u001b[32m[1019 09:29:19 @monitor.py:467]\u001b[0m QueueInput/queue_size: 50\n",
      "\u001b[32m[1019 09:29:19 @base.py:275]\u001b[0m Start Epoch 1440 ...\n"
     ]
    },
    {
     "name": "stderr",
     "output_type": "stream",
     "text": [
      "100%|###################################################################################|175/175[00:05<00:00,31.83it/s]"
     ]
    },
    {
     "name": "stdout",
     "output_type": "stream",
     "text": [
      "\u001b[32m[1019 09:29:24 @base.py:285]\u001b[0m Epoch 1440 (global_step 252000) finished, time:5.5 seconds.\n",
      "\u001b[32m[1019 09:29:24 @saver.py:79]\u001b[0m Model saved to ../output/Chicago/DATGAN_asd29/model\\model-252000.\n"
     ]
    },
    {
     "name": "stderr",
     "output_type": "stream",
     "text": [
      "\n"
     ]
    },
    {
     "name": "stdout",
     "output_type": "stream",
     "text": [
      "\u001b[32m[1019 09:29:24 @monitor.py:467]\u001b[0m GAN_loss/discrim/accuracy_fake: 0.846\n",
      "\u001b[32m[1019 09:29:24 @monitor.py:467]\u001b[0m GAN_loss/discrim/accuracy_real: 0.444\n",
      "\u001b[32m[1019 09:29:24 @monitor.py:467]\u001b[0m GAN_loss/discrim/loss: 0.57339\n",
      "\u001b[32m[1019 09:29:24 @monitor.py:467]\u001b[0m GAN_loss/gen/final-g-loss: 1.5721\n",
      "\u001b[32m[1019 09:29:24 @monitor.py:467]\u001b[0m GAN_loss/gen/klloss: 0.072262\n",
      "\u001b[32m[1019 09:29:24 @monitor.py:467]\u001b[0m GAN_loss/gen/loss: 1.4998\n",
      "\u001b[32m[1019 09:29:24 @monitor.py:467]\u001b[0m QueueInput/queue_size: 50\n",
      "\u001b[32m[1019 09:29:24 @base.py:275]\u001b[0m Start Epoch 1441 ...\n"
     ]
    },
    {
     "name": "stderr",
     "output_type": "stream",
     "text": [
      "100%|###################################################################################|175/175[00:05<00:00,31.92it/s]"
     ]
    },
    {
     "name": "stdout",
     "output_type": "stream",
     "text": [
      "\u001b[32m[1019 09:29:30 @base.py:285]\u001b[0m Epoch 1441 (global_step 252175) finished, time:5.48 seconds.\n",
      "\u001b[32m[1019 09:29:30 @saver.py:79]\u001b[0m Model saved to ../output/Chicago/DATGAN_asd29/model\\model-252175.\n"
     ]
    },
    {
     "name": "stderr",
     "output_type": "stream",
     "text": [
      "\n"
     ]
    },
    {
     "name": "stdout",
     "output_type": "stream",
     "text": [
      "\u001b[32m[1019 09:29:30 @monitor.py:467]\u001b[0m GAN_loss/discrim/accuracy_fake: 0.792\n",
      "\u001b[32m[1019 09:29:30 @monitor.py:467]\u001b[0m GAN_loss/discrim/accuracy_real: 0.468\n",
      "\u001b[32m[1019 09:29:30 @monitor.py:467]\u001b[0m GAN_loss/discrim/loss: 0.60674\n",
      "\u001b[32m[1019 09:29:30 @monitor.py:467]\u001b[0m GAN_loss/gen/final-g-loss: 1.4016\n",
      "\u001b[32m[1019 09:29:30 @monitor.py:467]\u001b[0m GAN_loss/gen/klloss: 0.064779\n",
      "\u001b[32m[1019 09:29:30 @monitor.py:467]\u001b[0m GAN_loss/gen/loss: 1.3368\n",
      "\u001b[32m[1019 09:29:30 @monitor.py:467]\u001b[0m QueueInput/queue_size: 50\n",
      "\u001b[32m[1019 09:29:30 @base.py:275]\u001b[0m Start Epoch 1442 ...\n"
     ]
    },
    {
     "name": "stderr",
     "output_type": "stream",
     "text": [
      "100%|###################################################################################|175/175[00:05<00:00,31.89it/s]"
     ]
    },
    {
     "name": "stdout",
     "output_type": "stream",
     "text": [
      "\u001b[32m[1019 09:29:36 @base.py:285]\u001b[0m Epoch 1442 (global_step 252350) finished, time:5.49 seconds.\n",
      "\u001b[32m[1019 09:29:36 @saver.py:79]\u001b[0m Model saved to ../output/Chicago/DATGAN_asd29/model\\model-252350.\n"
     ]
    },
    {
     "name": "stderr",
     "output_type": "stream",
     "text": [
      "\n"
     ]
    },
    {
     "name": "stdout",
     "output_type": "stream",
     "text": [
      "\u001b[32m[1019 09:29:36 @monitor.py:467]\u001b[0m GAN_loss/discrim/accuracy_fake: 0.784\n",
      "\u001b[32m[1019 09:29:36 @monitor.py:467]\u001b[0m GAN_loss/discrim/accuracy_real: 0.502\n",
      "\u001b[32m[1019 09:29:36 @monitor.py:467]\u001b[0m GAN_loss/discrim/loss: 0.59904\n",
      "\u001b[32m[1019 09:29:36 @monitor.py:467]\u001b[0m GAN_loss/gen/final-g-loss: 1.454\n",
      "\u001b[32m[1019 09:29:36 @monitor.py:467]\u001b[0m GAN_loss/gen/klloss: 0.10582\n",
      "\u001b[32m[1019 09:29:36 @monitor.py:467]\u001b[0m GAN_loss/gen/loss: 1.3482\n",
      "\u001b[32m[1019 09:29:36 @monitor.py:467]\u001b[0m QueueInput/queue_size: 50\n",
      "\u001b[32m[1019 09:29:36 @base.py:275]\u001b[0m Start Epoch 1443 ...\n"
     ]
    },
    {
     "name": "stderr",
     "output_type": "stream",
     "text": [
      "100%|###################################################################################|175/175[00:05<00:00,31.93it/s]"
     ]
    },
    {
     "name": "stdout",
     "output_type": "stream",
     "text": [
      "\u001b[32m[1019 09:29:42 @base.py:285]\u001b[0m Epoch 1443 (global_step 252525) finished, time:5.48 seconds.\n",
      "\u001b[32m[1019 09:29:42 @saver.py:79]\u001b[0m Model saved to ../output/Chicago/DATGAN_asd29/model\\model-252525.\n"
     ]
    },
    {
     "name": "stderr",
     "output_type": "stream",
     "text": [
      "\n"
     ]
    },
    {
     "name": "stdout",
     "output_type": "stream",
     "text": [
      "\u001b[32m[1019 09:29:42 @monitor.py:467]\u001b[0m GAN_loss/discrim/accuracy_fake: 0.82\n",
      "\u001b[32m[1019 09:29:42 @monitor.py:467]\u001b[0m GAN_loss/discrim/accuracy_real: 0.49\n",
      "\u001b[32m[1019 09:29:42 @monitor.py:467]\u001b[0m GAN_loss/discrim/loss: 0.57606\n",
      "\u001b[32m[1019 09:29:42 @monitor.py:467]\u001b[0m GAN_loss/gen/final-g-loss: 1.5398\n",
      "\u001b[32m[1019 09:29:42 @monitor.py:467]\u001b[0m GAN_loss/gen/klloss: 0.08876\n",
      "\u001b[32m[1019 09:29:42 @monitor.py:467]\u001b[0m GAN_loss/gen/loss: 1.451\n",
      "\u001b[32m[1019 09:29:42 @monitor.py:467]\u001b[0m QueueInput/queue_size: 50\n",
      "\u001b[32m[1019 09:29:42 @base.py:275]\u001b[0m Start Epoch 1444 ...\n"
     ]
    },
    {
     "name": "stderr",
     "output_type": "stream",
     "text": [
      "100%|###################################################################################|175/175[00:05<00:00,31.91it/s]"
     ]
    },
    {
     "name": "stdout",
     "output_type": "stream",
     "text": [
      "\u001b[32m[1019 09:29:47 @base.py:285]\u001b[0m Epoch 1444 (global_step 252700) finished, time:5.49 seconds.\n",
      "\u001b[32m[1019 09:29:47 @saver.py:79]\u001b[0m Model saved to ../output/Chicago/DATGAN_asd29/model\\model-252700.\n"
     ]
    },
    {
     "name": "stderr",
     "output_type": "stream",
     "text": [
      "\n"
     ]
    },
    {
     "name": "stdout",
     "output_type": "stream",
     "text": [
      "\u001b[32m[1019 09:29:48 @monitor.py:467]\u001b[0m GAN_loss/discrim/accuracy_fake: 0.742\n",
      "\u001b[32m[1019 09:29:48 @monitor.py:467]\u001b[0m GAN_loss/discrim/accuracy_real: 0.46\n",
      "\u001b[32m[1019 09:29:48 @monitor.py:467]\u001b[0m GAN_loss/discrim/loss: 0.63784\n",
      "\u001b[32m[1019 09:29:48 @monitor.py:467]\u001b[0m GAN_loss/gen/final-g-loss: 1.3227\n",
      "\u001b[32m[1019 09:29:48 @monitor.py:467]\u001b[0m GAN_loss/gen/klloss: 0.054338\n",
      "\u001b[32m[1019 09:29:48 @monitor.py:467]\u001b[0m GAN_loss/gen/loss: 1.2684\n",
      "\u001b[32m[1019 09:29:48 @monitor.py:467]\u001b[0m QueueInput/queue_size: 50\n",
      "\u001b[32m[1019 09:29:48 @base.py:275]\u001b[0m Start Epoch 1445 ...\n"
     ]
    },
    {
     "name": "stderr",
     "output_type": "stream",
     "text": [
      "100%|###################################################################################|175/175[00:05<00:00,31.93it/s]"
     ]
    },
    {
     "name": "stdout",
     "output_type": "stream",
     "text": [
      "\u001b[32m[1019 09:29:53 @base.py:285]\u001b[0m Epoch 1445 (global_step 252875) finished, time:5.48 seconds.\n",
      "\u001b[32m[1019 09:29:53 @saver.py:79]\u001b[0m Model saved to ../output/Chicago/DATGAN_asd29/model\\model-252875.\n"
     ]
    },
    {
     "name": "stderr",
     "output_type": "stream",
     "text": [
      "\n"
     ]
    },
    {
     "name": "stdout",
     "output_type": "stream",
     "text": [
      "\u001b[32m[1019 09:29:54 @monitor.py:467]\u001b[0m GAN_loss/discrim/accuracy_fake: 0.866\n",
      "\u001b[32m[1019 09:29:54 @monitor.py:467]\u001b[0m GAN_loss/discrim/accuracy_real: 0.452\n",
      "\u001b[32m[1019 09:29:54 @monitor.py:467]\u001b[0m GAN_loss/discrim/loss: 0.55738\n",
      "\u001b[32m[1019 09:29:54 @monitor.py:467]\u001b[0m GAN_loss/gen/final-g-loss: 1.656\n",
      "\u001b[32m[1019 09:29:54 @monitor.py:467]\u001b[0m GAN_loss/gen/klloss: 0.094168\n",
      "\u001b[32m[1019 09:29:54 @monitor.py:467]\u001b[0m GAN_loss/gen/loss: 1.5618\n",
      "\u001b[32m[1019 09:29:54 @monitor.py:467]\u001b[0m QueueInput/queue_size: 50\n",
      "\u001b[32m[1019 09:29:54 @base.py:275]\u001b[0m Start Epoch 1446 ...\n"
     ]
    },
    {
     "name": "stderr",
     "output_type": "stream",
     "text": [
      "100%|###################################################################################|175/175[00:05<00:00,31.90it/s]"
     ]
    },
    {
     "name": "stdout",
     "output_type": "stream",
     "text": [
      "\u001b[32m[1019 09:29:59 @base.py:285]\u001b[0m Epoch 1446 (global_step 253050) finished, time:5.49 seconds.\n",
      "\u001b[32m[1019 09:29:59 @saver.py:79]\u001b[0m Model saved to ../output/Chicago/DATGAN_asd29/model\\model-253050.\n"
     ]
    },
    {
     "name": "stderr",
     "output_type": "stream",
     "text": [
      "\n"
     ]
    },
    {
     "name": "stdout",
     "output_type": "stream",
     "text": [
      "\u001b[32m[1019 09:29:59 @monitor.py:467]\u001b[0m GAN_loss/discrim/accuracy_fake: 0.838\n",
      "\u001b[32m[1019 09:29:59 @monitor.py:467]\u001b[0m GAN_loss/discrim/accuracy_real: 0.488\n",
      "\u001b[32m[1019 09:29:59 @monitor.py:467]\u001b[0m GAN_loss/discrim/loss: 0.58805\n",
      "\u001b[32m[1019 09:29:59 @monitor.py:467]\u001b[0m GAN_loss/gen/final-g-loss: 1.4312\n",
      "\u001b[32m[1019 09:29:59 @monitor.py:467]\u001b[0m GAN_loss/gen/klloss: 0.074013\n",
      "\u001b[32m[1019 09:29:59 @monitor.py:467]\u001b[0m GAN_loss/gen/loss: 1.3572\n",
      "\u001b[32m[1019 09:29:59 @monitor.py:467]\u001b[0m QueueInput/queue_size: 50\n",
      "\u001b[32m[1019 09:29:59 @base.py:275]\u001b[0m Start Epoch 1447 ...\n"
     ]
    },
    {
     "name": "stderr",
     "output_type": "stream",
     "text": [
      "100%|###################################################################################|175/175[00:05<00:00,31.92it/s]"
     ]
    },
    {
     "name": "stdout",
     "output_type": "stream",
     "text": [
      "\u001b[32m[1019 09:30:05 @base.py:285]\u001b[0m Epoch 1447 (global_step 253225) finished, time:5.48 seconds.\n",
      "\u001b[32m[1019 09:30:05 @saver.py:79]\u001b[0m Model saved to ../output/Chicago/DATGAN_asd29/model\\model-253225.\n"
     ]
    },
    {
     "name": "stderr",
     "output_type": "stream",
     "text": [
      "\n"
     ]
    },
    {
     "name": "stdout",
     "output_type": "stream",
     "text": [
      "\u001b[32m[1019 09:30:05 @monitor.py:467]\u001b[0m GAN_loss/discrim/accuracy_fake: 0.834\n",
      "\u001b[32m[1019 09:30:05 @monitor.py:467]\u001b[0m GAN_loss/discrim/accuracy_real: 0.388\n",
      "\u001b[32m[1019 09:30:05 @monitor.py:467]\u001b[0m GAN_loss/discrim/loss: 0.60684\n",
      "\u001b[32m[1019 09:30:05 @monitor.py:467]\u001b[0m GAN_loss/gen/final-g-loss: 1.4272\n",
      "\u001b[32m[1019 09:30:05 @monitor.py:467]\u001b[0m GAN_loss/gen/klloss: 0.067787\n",
      "\u001b[32m[1019 09:30:05 @monitor.py:467]\u001b[0m GAN_loss/gen/loss: 1.3594\n",
      "\u001b[32m[1019 09:30:05 @monitor.py:467]\u001b[0m QueueInput/queue_size: 50\n",
      "\u001b[32m[1019 09:30:05 @base.py:275]\u001b[0m Start Epoch 1448 ...\n"
     ]
    },
    {
     "name": "stderr",
     "output_type": "stream",
     "text": [
      "100%|###################################################################################|175/175[00:05<00:00,31.90it/s]"
     ]
    },
    {
     "name": "stdout",
     "output_type": "stream",
     "text": [
      "\u001b[32m[1019 09:30:11 @base.py:285]\u001b[0m Epoch 1448 (global_step 253400) finished, time:5.49 seconds.\n",
      "\u001b[32m[1019 09:30:11 @saver.py:79]\u001b[0m Model saved to ../output/Chicago/DATGAN_asd29/model\\model-253400.\n"
     ]
    },
    {
     "name": "stderr",
     "output_type": "stream",
     "text": [
      "\n"
     ]
    },
    {
     "name": "stdout",
     "output_type": "stream",
     "text": [
      "\u001b[32m[1019 09:30:11 @monitor.py:467]\u001b[0m GAN_loss/discrim/accuracy_fake: 0.848\n",
      "\u001b[32m[1019 09:30:11 @monitor.py:467]\u001b[0m GAN_loss/discrim/accuracy_real: 0.346\n",
      "\u001b[32m[1019 09:30:11 @monitor.py:467]\u001b[0m GAN_loss/discrim/loss: 0.61294\n",
      "\u001b[32m[1019 09:30:11 @monitor.py:467]\u001b[0m GAN_loss/gen/final-g-loss: 1.4281\n",
      "\u001b[32m[1019 09:30:11 @monitor.py:467]\u001b[0m GAN_loss/gen/klloss: 0.065789\n",
      "\u001b[32m[1019 09:30:11 @monitor.py:467]\u001b[0m GAN_loss/gen/loss: 1.3623\n",
      "\u001b[32m[1019 09:30:11 @monitor.py:467]\u001b[0m QueueInput/queue_size: 50\n",
      "\u001b[32m[1019 09:30:11 @base.py:275]\u001b[0m Start Epoch 1449 ...\n"
     ]
    },
    {
     "name": "stderr",
     "output_type": "stream",
     "text": [
      "100%|###################################################################################|175/175[00:05<00:00,31.91it/s]"
     ]
    },
    {
     "name": "stdout",
     "output_type": "stream",
     "text": [
      "\u001b[32m[1019 09:30:16 @base.py:285]\u001b[0m Epoch 1449 (global_step 253575) finished, time:5.48 seconds.\n",
      "\u001b[32m[1019 09:30:17 @saver.py:79]\u001b[0m Model saved to ../output/Chicago/DATGAN_asd29/model\\model-253575.\n"
     ]
    },
    {
     "name": "stderr",
     "output_type": "stream",
     "text": [
      "\n"
     ]
    },
    {
     "name": "stdout",
     "output_type": "stream",
     "text": [
      "\u001b[32m[1019 09:30:17 @monitor.py:467]\u001b[0m GAN_loss/discrim/accuracy_fake: 0.782\n",
      "\u001b[32m[1019 09:30:17 @monitor.py:467]\u001b[0m GAN_loss/discrim/accuracy_real: 0.494\n",
      "\u001b[32m[1019 09:30:17 @monitor.py:467]\u001b[0m GAN_loss/discrim/loss: 0.59576\n",
      "\u001b[32m[1019 09:30:17 @monitor.py:467]\u001b[0m GAN_loss/gen/final-g-loss: 1.3621\n",
      "\u001b[32m[1019 09:30:17 @monitor.py:467]\u001b[0m GAN_loss/gen/klloss: 0.055684\n",
      "\u001b[32m[1019 09:30:17 @monitor.py:467]\u001b[0m GAN_loss/gen/loss: 1.3064\n",
      "\u001b[32m[1019 09:30:17 @monitor.py:467]\u001b[0m QueueInput/queue_size: 50\n",
      "\u001b[32m[1019 09:30:17 @base.py:275]\u001b[0m Start Epoch 1450 ...\n"
     ]
    },
    {
     "name": "stderr",
     "output_type": "stream",
     "text": [
      "100%|###################################################################################|175/175[00:05<00:00,31.88it/s]"
     ]
    },
    {
     "name": "stdout",
     "output_type": "stream",
     "text": [
      "\u001b[32m[1019 09:30:22 @base.py:285]\u001b[0m Epoch 1450 (global_step 253750) finished, time:5.49 seconds.\n",
      "\u001b[32m[1019 09:30:22 @saver.py:79]\u001b[0m Model saved to ../output/Chicago/DATGAN_asd29/model\\model-253750.\n"
     ]
    },
    {
     "name": "stderr",
     "output_type": "stream",
     "text": [
      "\n"
     ]
    },
    {
     "name": "stdout",
     "output_type": "stream",
     "text": [
      "\u001b[32m[1019 09:30:23 @monitor.py:467]\u001b[0m GAN_loss/discrim/accuracy_fake: 0.792\n",
      "\u001b[32m[1019 09:30:23 @monitor.py:467]\u001b[0m GAN_loss/discrim/accuracy_real: 0.452\n",
      "\u001b[32m[1019 09:30:23 @monitor.py:467]\u001b[0m GAN_loss/discrim/loss: 0.60866\n",
      "\u001b[32m[1019 09:30:23 @monitor.py:467]\u001b[0m GAN_loss/gen/final-g-loss: 1.3489\n",
      "\u001b[32m[1019 09:30:23 @monitor.py:467]\u001b[0m GAN_loss/gen/klloss: 0.061798\n",
      "\u001b[32m[1019 09:30:23 @monitor.py:467]\u001b[0m GAN_loss/gen/loss: 1.2871\n",
      "\u001b[32m[1019 09:30:23 @monitor.py:467]\u001b[0m QueueInput/queue_size: 50\n",
      "\u001b[32m[1019 09:30:23 @base.py:275]\u001b[0m Start Epoch 1451 ...\n"
     ]
    },
    {
     "name": "stderr",
     "output_type": "stream",
     "text": [
      "100%|###################################################################################|175/175[00:05<00:00,31.92it/s]"
     ]
    },
    {
     "name": "stdout",
     "output_type": "stream",
     "text": [
      "\u001b[32m[1019 09:30:28 @base.py:285]\u001b[0m Epoch 1451 (global_step 253925) finished, time:5.48 seconds.\n",
      "\u001b[32m[1019 09:30:28 @saver.py:79]\u001b[0m Model saved to ../output/Chicago/DATGAN_asd29/model\\model-253925.\n"
     ]
    },
    {
     "name": "stderr",
     "output_type": "stream",
     "text": [
      "\n"
     ]
    },
    {
     "name": "stdout",
     "output_type": "stream",
     "text": [
      "\u001b[32m[1019 09:30:28 @monitor.py:467]\u001b[0m GAN_loss/discrim/accuracy_fake: 0.846\n",
      "\u001b[32m[1019 09:30:28 @monitor.py:467]\u001b[0m GAN_loss/discrim/accuracy_real: 0.434\n",
      "\u001b[32m[1019 09:30:28 @monitor.py:467]\u001b[0m GAN_loss/discrim/loss: 0.58002\n",
      "\u001b[32m[1019 09:30:28 @monitor.py:467]\u001b[0m GAN_loss/gen/final-g-loss: 1.4895\n",
      "\u001b[32m[1019 09:30:28 @monitor.py:467]\u001b[0m GAN_loss/gen/klloss: 0.071371\n",
      "\u001b[32m[1019 09:30:28 @monitor.py:467]\u001b[0m GAN_loss/gen/loss: 1.4181\n",
      "\u001b[32m[1019 09:30:28 @monitor.py:467]\u001b[0m QueueInput/queue_size: 50\n",
      "\u001b[32m[1019 09:30:28 @base.py:275]\u001b[0m Start Epoch 1452 ...\n"
     ]
    },
    {
     "name": "stderr",
     "output_type": "stream",
     "text": [
      "100%|###################################################################################|175/175[00:05<00:00,31.86it/s]"
     ]
    },
    {
     "name": "stdout",
     "output_type": "stream",
     "text": [
      "\u001b[32m[1019 09:30:34 @base.py:285]\u001b[0m Epoch 1452 (global_step 254100) finished, time:5.49 seconds.\n",
      "\u001b[32m[1019 09:30:34 @saver.py:79]\u001b[0m Model saved to ../output/Chicago/DATGAN_asd29/model\\model-254100.\n"
     ]
    },
    {
     "name": "stderr",
     "output_type": "stream",
     "text": [
      "\n"
     ]
    },
    {
     "name": "stdout",
     "output_type": "stream",
     "text": [
      "\u001b[32m[1019 09:30:34 @monitor.py:467]\u001b[0m GAN_loss/discrim/accuracy_fake: 0.798\n",
      "\u001b[32m[1019 09:30:34 @monitor.py:467]\u001b[0m GAN_loss/discrim/accuracy_real: 0.448\n",
      "\u001b[32m[1019 09:30:34 @monitor.py:467]\u001b[0m GAN_loss/discrim/loss: 0.61257\n",
      "\u001b[32m[1019 09:30:34 @monitor.py:467]\u001b[0m GAN_loss/gen/final-g-loss: 1.4049\n",
      "\u001b[32m[1019 09:30:34 @monitor.py:467]\u001b[0m GAN_loss/gen/klloss: 0.071708\n",
      "\u001b[32m[1019 09:30:34 @monitor.py:467]\u001b[0m GAN_loss/gen/loss: 1.3332\n",
      "\u001b[32m[1019 09:30:34 @monitor.py:467]\u001b[0m QueueInput/queue_size: 50\n",
      "\u001b[32m[1019 09:30:34 @base.py:275]\u001b[0m Start Epoch 1453 ...\n"
     ]
    },
    {
     "name": "stderr",
     "output_type": "stream",
     "text": [
      "100%|###################################################################################|175/175[00:05<00:00,31.95it/s]"
     ]
    },
    {
     "name": "stdout",
     "output_type": "stream",
     "text": [
      "\u001b[32m[1019 09:30:40 @base.py:285]\u001b[0m Epoch 1453 (global_step 254275) finished, time:5.48 seconds.\n",
      "\u001b[32m[1019 09:30:40 @saver.py:79]\u001b[0m Model saved to ../output/Chicago/DATGAN_asd29/model\\model-254275.\n"
     ]
    },
    {
     "name": "stderr",
     "output_type": "stream",
     "text": [
      "\n"
     ]
    },
    {
     "name": "stdout",
     "output_type": "stream",
     "text": [
      "\u001b[32m[1019 09:30:40 @monitor.py:467]\u001b[0m GAN_loss/discrim/accuracy_fake: 0.808\n",
      "\u001b[32m[1019 09:30:40 @monitor.py:467]\u001b[0m GAN_loss/discrim/accuracy_real: 0.426\n",
      "\u001b[32m[1019 09:30:40 @monitor.py:467]\u001b[0m GAN_loss/discrim/loss: 0.60241\n",
      "\u001b[32m[1019 09:30:40 @monitor.py:467]\u001b[0m GAN_loss/gen/final-g-loss: 1.3919\n",
      "\u001b[32m[1019 09:30:40 @monitor.py:467]\u001b[0m GAN_loss/gen/klloss: 0.059049\n",
      "\u001b[32m[1019 09:30:40 @monitor.py:467]\u001b[0m GAN_loss/gen/loss: 1.3329\n",
      "\u001b[32m[1019 09:30:40 @monitor.py:467]\u001b[0m QueueInput/queue_size: 50\n",
      "\u001b[32m[1019 09:30:40 @base.py:275]\u001b[0m Start Epoch 1454 ...\n"
     ]
    },
    {
     "name": "stderr",
     "output_type": "stream",
     "text": [
      "100%|###################################################################################|175/175[00:05<00:00,31.92it/s]"
     ]
    },
    {
     "name": "stdout",
     "output_type": "stream",
     "text": [
      "\u001b[32m[1019 09:30:46 @base.py:285]\u001b[0m Epoch 1454 (global_step 254450) finished, time:5.48 seconds.\n",
      "\u001b[32m[1019 09:30:46 @saver.py:79]\u001b[0m Model saved to ../output/Chicago/DATGAN_asd29/model\\model-254450.\n"
     ]
    },
    {
     "name": "stderr",
     "output_type": "stream",
     "text": [
      "\n"
     ]
    },
    {
     "name": "stdout",
     "output_type": "stream",
     "text": [
      "\u001b[32m[1019 09:30:46 @monitor.py:467]\u001b[0m GAN_loss/discrim/accuracy_fake: 0.828\n",
      "\u001b[32m[1019 09:30:46 @monitor.py:467]\u001b[0m GAN_loss/discrim/accuracy_real: 0.442\n",
      "\u001b[32m[1019 09:30:46 @monitor.py:467]\u001b[0m GAN_loss/discrim/loss: 0.58647\n",
      "\u001b[32m[1019 09:30:46 @monitor.py:467]\u001b[0m GAN_loss/gen/final-g-loss: 1.47\n",
      "\u001b[32m[1019 09:30:46 @monitor.py:467]\u001b[0m GAN_loss/gen/klloss: 0.097747\n",
      "\u001b[32m[1019 09:30:46 @monitor.py:467]\u001b[0m GAN_loss/gen/loss: 1.3722\n",
      "\u001b[32m[1019 09:30:46 @monitor.py:467]\u001b[0m QueueInput/queue_size: 50\n",
      "\u001b[32m[1019 09:30:46 @base.py:275]\u001b[0m Start Epoch 1455 ...\n"
     ]
    },
    {
     "name": "stderr",
     "output_type": "stream",
     "text": [
      "100%|###################################################################################|175/175[00:05<00:00,31.90it/s]"
     ]
    },
    {
     "name": "stdout",
     "output_type": "stream",
     "text": [
      "\u001b[32m[1019 09:30:51 @base.py:285]\u001b[0m Epoch 1455 (global_step 254625) finished, time:5.49 seconds.\n",
      "\u001b[32m[1019 09:30:51 @saver.py:79]\u001b[0m Model saved to ../output/Chicago/DATGAN_asd29/model\\model-254625.\n"
     ]
    },
    {
     "name": "stderr",
     "output_type": "stream",
     "text": [
      "\n"
     ]
    },
    {
     "name": "stdout",
     "output_type": "stream",
     "text": [
      "\u001b[32m[1019 09:30:52 @monitor.py:467]\u001b[0m GAN_loss/discrim/accuracy_fake: 0.814\n",
      "\u001b[32m[1019 09:30:52 @monitor.py:467]\u001b[0m GAN_loss/discrim/accuracy_real: 0.444\n",
      "\u001b[32m[1019 09:30:52 @monitor.py:467]\u001b[0m GAN_loss/discrim/loss: 0.59909\n",
      "\u001b[32m[1019 09:30:52 @monitor.py:467]\u001b[0m GAN_loss/gen/final-g-loss: 1.4379\n",
      "\u001b[32m[1019 09:30:52 @monitor.py:467]\u001b[0m GAN_loss/gen/klloss: 0.087841\n",
      "\u001b[32m[1019 09:30:52 @monitor.py:467]\u001b[0m GAN_loss/gen/loss: 1.35\n",
      "\u001b[32m[1019 09:30:52 @monitor.py:467]\u001b[0m QueueInput/queue_size: 50\n",
      "\u001b[32m[1019 09:30:52 @base.py:275]\u001b[0m Start Epoch 1456 ...\n"
     ]
    },
    {
     "name": "stderr",
     "output_type": "stream",
     "text": [
      "100%|###################################################################################|175/175[00:05<00:00,31.92it/s]"
     ]
    },
    {
     "name": "stdout",
     "output_type": "stream",
     "text": [
      "\u001b[32m[1019 09:30:57 @base.py:285]\u001b[0m Epoch 1456 (global_step 254800) finished, time:5.48 seconds.\n",
      "\u001b[32m[1019 09:30:57 @saver.py:79]\u001b[0m Model saved to ../output/Chicago/DATGAN_asd29/model\\model-254800.\n"
     ]
    },
    {
     "name": "stderr",
     "output_type": "stream",
     "text": [
      "\n"
     ]
    },
    {
     "name": "stdout",
     "output_type": "stream",
     "text": [
      "\u001b[32m[1019 09:30:58 @monitor.py:467]\u001b[0m GAN_loss/discrim/accuracy_fake: 0.8\n",
      "\u001b[32m[1019 09:30:58 @monitor.py:467]\u001b[0m GAN_loss/discrim/accuracy_real: 0.402\n",
      "\u001b[32m[1019 09:30:58 @monitor.py:467]\u001b[0m GAN_loss/discrim/loss: 0.61271\n",
      "\u001b[32m[1019 09:30:58 @monitor.py:467]\u001b[0m GAN_loss/gen/final-g-loss: 1.4111\n",
      "\u001b[32m[1019 09:30:58 @monitor.py:467]\u001b[0m GAN_loss/gen/klloss: 0.079139\n",
      "\u001b[32m[1019 09:30:58 @monitor.py:467]\u001b[0m GAN_loss/gen/loss: 1.332\n",
      "\u001b[32m[1019 09:30:58 @monitor.py:467]\u001b[0m QueueInput/queue_size: 50\n",
      "\u001b[32m[1019 09:30:58 @base.py:275]\u001b[0m Start Epoch 1457 ...\n"
     ]
    },
    {
     "name": "stderr",
     "output_type": "stream",
     "text": [
      "100%|###################################################################################|175/175[00:05<00:00,31.89it/s]"
     ]
    },
    {
     "name": "stdout",
     "output_type": "stream",
     "text": [
      "\u001b[32m[1019 09:31:03 @base.py:285]\u001b[0m Epoch 1457 (global_step 254975) finished, time:5.49 seconds.\n",
      "\u001b[32m[1019 09:31:03 @saver.py:79]\u001b[0m Model saved to ../output/Chicago/DATGAN_asd29/model\\model-254975.\n"
     ]
    },
    {
     "name": "stderr",
     "output_type": "stream",
     "text": [
      "\n"
     ]
    },
    {
     "name": "stdout",
     "output_type": "stream",
     "text": [
      "\u001b[32m[1019 09:31:03 @monitor.py:467]\u001b[0m GAN_loss/discrim/accuracy_fake: 0.842\n",
      "\u001b[32m[1019 09:31:03 @monitor.py:467]\u001b[0m GAN_loss/discrim/accuracy_real: 0.428\n",
      "\u001b[32m[1019 09:31:03 @monitor.py:467]\u001b[0m GAN_loss/discrim/loss: 0.59065\n",
      "\u001b[32m[1019 09:31:03 @monitor.py:467]\u001b[0m GAN_loss/gen/final-g-loss: 1.498\n",
      "\u001b[32m[1019 09:31:03 @monitor.py:467]\u001b[0m GAN_loss/gen/klloss: 0.10402\n",
      "\u001b[32m[1019 09:31:03 @monitor.py:467]\u001b[0m GAN_loss/gen/loss: 1.394\n",
      "\u001b[32m[1019 09:31:03 @monitor.py:467]\u001b[0m QueueInput/queue_size: 50\n",
      "\u001b[32m[1019 09:31:03 @base.py:275]\u001b[0m Start Epoch 1458 ...\n"
     ]
    },
    {
     "name": "stderr",
     "output_type": "stream",
     "text": [
      "100%|###################################################################################|175/175[00:05<00:00,31.92it/s]"
     ]
    },
    {
     "name": "stdout",
     "output_type": "stream",
     "text": [
      "\u001b[32m[1019 09:31:09 @base.py:285]\u001b[0m Epoch 1458 (global_step 255150) finished, time:5.48 seconds.\n",
      "\u001b[32m[1019 09:31:09 @saver.py:79]\u001b[0m Model saved to ../output/Chicago/DATGAN_asd29/model\\model-255150.\n"
     ]
    },
    {
     "name": "stderr",
     "output_type": "stream",
     "text": [
      "\n"
     ]
    },
    {
     "name": "stdout",
     "output_type": "stream",
     "text": [
      "\u001b[32m[1019 09:31:09 @monitor.py:467]\u001b[0m GAN_loss/discrim/accuracy_fake: 0.834\n",
      "\u001b[32m[1019 09:31:09 @monitor.py:467]\u001b[0m GAN_loss/discrim/accuracy_real: 0.454\n",
      "\u001b[32m[1019 09:31:09 @monitor.py:467]\u001b[0m GAN_loss/discrim/loss: 0.58565\n",
      "\u001b[32m[1019 09:31:09 @monitor.py:467]\u001b[0m GAN_loss/gen/final-g-loss: 1.4158\n",
      "\u001b[32m[1019 09:31:09 @monitor.py:467]\u001b[0m GAN_loss/gen/klloss: 0.059297\n",
      "\u001b[32m[1019 09:31:09 @monitor.py:467]\u001b[0m GAN_loss/gen/loss: 1.3565\n",
      "\u001b[32m[1019 09:31:09 @monitor.py:467]\u001b[0m QueueInput/queue_size: 50\n",
      "\u001b[32m[1019 09:31:09 @base.py:275]\u001b[0m Start Epoch 1459 ...\n"
     ]
    },
    {
     "name": "stderr",
     "output_type": "stream",
     "text": [
      "100%|###################################################################################|175/175[00:05<00:00,31.89it/s]"
     ]
    },
    {
     "name": "stdout",
     "output_type": "stream",
     "text": [
      "\u001b[32m[1019 09:31:15 @base.py:285]\u001b[0m Epoch 1459 (global_step 255325) finished, time:5.49 seconds.\n",
      "\u001b[32m[1019 09:31:15 @saver.py:79]\u001b[0m Model saved to ../output/Chicago/DATGAN_asd29/model\\model-255325.\n"
     ]
    },
    {
     "name": "stderr",
     "output_type": "stream",
     "text": [
      "\n"
     ]
    },
    {
     "name": "stdout",
     "output_type": "stream",
     "text": [
      "\u001b[32m[1019 09:31:15 @monitor.py:467]\u001b[0m GAN_loss/discrim/accuracy_fake: 0.804\n",
      "\u001b[32m[1019 09:31:15 @monitor.py:467]\u001b[0m GAN_loss/discrim/accuracy_real: 0.348\n",
      "\u001b[32m[1019 09:31:15 @monitor.py:467]\u001b[0m GAN_loss/discrim/loss: 0.63668\n",
      "\u001b[32m[1019 09:31:15 @monitor.py:467]\u001b[0m GAN_loss/gen/final-g-loss: 1.3852\n",
      "\u001b[32m[1019 09:31:15 @monitor.py:467]\u001b[0m GAN_loss/gen/klloss: 0.081844\n",
      "\u001b[32m[1019 09:31:15 @monitor.py:467]\u001b[0m GAN_loss/gen/loss: 1.3034\n",
      "\u001b[32m[1019 09:31:15 @monitor.py:467]\u001b[0m QueueInput/queue_size: 50\n",
      "\u001b[32m[1019 09:31:15 @base.py:275]\u001b[0m Start Epoch 1460 ...\n"
     ]
    },
    {
     "name": "stderr",
     "output_type": "stream",
     "text": [
      "100%|###################################################################################|175/175[00:05<00:00,31.94it/s]"
     ]
    },
    {
     "name": "stdout",
     "output_type": "stream",
     "text": [
      "\u001b[32m[1019 09:31:20 @base.py:285]\u001b[0m Epoch 1460 (global_step 255500) finished, time:5.48 seconds.\n",
      "\u001b[32m[1019 09:31:21 @saver.py:79]\u001b[0m Model saved to ../output/Chicago/DATGAN_asd29/model\\model-255500.\n"
     ]
    },
    {
     "name": "stderr",
     "output_type": "stream",
     "text": [
      "\n"
     ]
    },
    {
     "name": "stdout",
     "output_type": "stream",
     "text": [
      "\u001b[32m[1019 09:31:21 @monitor.py:467]\u001b[0m GAN_loss/discrim/accuracy_fake: 0.782\n",
      "\u001b[32m[1019 09:31:21 @monitor.py:467]\u001b[0m GAN_loss/discrim/accuracy_real: 0.46\n",
      "\u001b[32m[1019 09:31:21 @monitor.py:467]\u001b[0m GAN_loss/discrim/loss: 0.59933\n",
      "\u001b[32m[1019 09:31:21 @monitor.py:467]\u001b[0m GAN_loss/gen/final-g-loss: 1.4318\n",
      "\u001b[32m[1019 09:31:21 @monitor.py:467]\u001b[0m GAN_loss/gen/klloss: 0.092112\n",
      "\u001b[32m[1019 09:31:21 @monitor.py:467]\u001b[0m GAN_loss/gen/loss: 1.3397\n",
      "\u001b[32m[1019 09:31:21 @monitor.py:467]\u001b[0m QueueInput/queue_size: 50\n",
      "\u001b[32m[1019 09:31:21 @base.py:275]\u001b[0m Start Epoch 1461 ...\n"
     ]
    },
    {
     "name": "stderr",
     "output_type": "stream",
     "text": [
      "100%|###################################################################################|175/175[00:05<00:00,31.83it/s]"
     ]
    },
    {
     "name": "stdout",
     "output_type": "stream",
     "text": [
      "\u001b[32m[1019 09:31:26 @base.py:285]\u001b[0m Epoch 1461 (global_step 255675) finished, time:5.5 seconds.\n",
      "\u001b[32m[1019 09:31:26 @saver.py:79]\u001b[0m Model saved to ../output/Chicago/DATGAN_asd29/model\\model-255675.\n"
     ]
    },
    {
     "name": "stderr",
     "output_type": "stream",
     "text": [
      "\n"
     ]
    },
    {
     "name": "stdout",
     "output_type": "stream",
     "text": [
      "\u001b[32m[1019 09:31:27 @monitor.py:467]\u001b[0m GAN_loss/discrim/accuracy_fake: 0.752\n",
      "\u001b[32m[1019 09:31:27 @monitor.py:467]\u001b[0m GAN_loss/discrim/accuracy_real: 0.504\n",
      "\u001b[32m[1019 09:31:27 @monitor.py:467]\u001b[0m GAN_loss/discrim/loss: 0.61422\n",
      "\u001b[32m[1019 09:31:27 @monitor.py:467]\u001b[0m GAN_loss/gen/final-g-loss: 1.393\n",
      "\u001b[32m[1019 09:31:27 @monitor.py:467]\u001b[0m GAN_loss/gen/klloss: 0.059514\n",
      "\u001b[32m[1019 09:31:27 @monitor.py:467]\u001b[0m GAN_loss/gen/loss: 1.3335\n",
      "\u001b[32m[1019 09:31:27 @monitor.py:467]\u001b[0m QueueInput/queue_size: 50\n",
      "\u001b[32m[1019 09:31:27 @base.py:275]\u001b[0m Start Epoch 1462 ...\n"
     ]
    },
    {
     "name": "stderr",
     "output_type": "stream",
     "text": [
      "100%|###################################################################################|175/175[00:05<00:00,31.92it/s]"
     ]
    },
    {
     "name": "stdout",
     "output_type": "stream",
     "text": [
      "\u001b[32m[1019 09:31:32 @base.py:285]\u001b[0m Epoch 1462 (global_step 255850) finished, time:5.48 seconds.\n",
      "\u001b[32m[1019 09:31:32 @saver.py:79]\u001b[0m Model saved to ../output/Chicago/DATGAN_asd29/model\\model-255850.\n"
     ]
    },
    {
     "name": "stderr",
     "output_type": "stream",
     "text": [
      "\n"
     ]
    },
    {
     "name": "stdout",
     "output_type": "stream",
     "text": [
      "\u001b[32m[1019 09:31:32 @monitor.py:467]\u001b[0m GAN_loss/discrim/accuracy_fake: 0.802\n",
      "\u001b[32m[1019 09:31:32 @monitor.py:467]\u001b[0m GAN_loss/discrim/accuracy_real: 0.468\n",
      "\u001b[32m[1019 09:31:32 @monitor.py:467]\u001b[0m GAN_loss/discrim/loss: 0.58839\n",
      "\u001b[32m[1019 09:31:32 @monitor.py:467]\u001b[0m GAN_loss/gen/final-g-loss: 1.4192\n",
      "\u001b[32m[1019 09:31:32 @monitor.py:467]\u001b[0m GAN_loss/gen/klloss: 0.063492\n",
      "\u001b[32m[1019 09:31:32 @monitor.py:467]\u001b[0m GAN_loss/gen/loss: 1.3557\n",
      "\u001b[32m[1019 09:31:32 @monitor.py:467]\u001b[0m QueueInput/queue_size: 50\n",
      "\u001b[32m[1019 09:31:32 @base.py:275]\u001b[0m Start Epoch 1463 ...\n"
     ]
    },
    {
     "name": "stderr",
     "output_type": "stream",
     "text": [
      "100%|###################################################################################|175/175[00:05<00:00,31.86it/s]"
     ]
    },
    {
     "name": "stdout",
     "output_type": "stream",
     "text": [
      "\u001b[32m[1019 09:31:38 @base.py:285]\u001b[0m Epoch 1463 (global_step 256025) finished, time:5.49 seconds.\n",
      "\u001b[32m[1019 09:31:38 @saver.py:79]\u001b[0m Model saved to ../output/Chicago/DATGAN_asd29/model\\model-256025.\n"
     ]
    },
    {
     "name": "stderr",
     "output_type": "stream",
     "text": [
      "\n"
     ]
    },
    {
     "name": "stdout",
     "output_type": "stream",
     "text": [
      "\u001b[32m[1019 09:31:38 @monitor.py:467]\u001b[0m GAN_loss/discrim/accuracy_fake: 0.854\n",
      "\u001b[32m[1019 09:31:38 @monitor.py:467]\u001b[0m GAN_loss/discrim/accuracy_real: 0.426\n",
      "\u001b[32m[1019 09:31:38 @monitor.py:467]\u001b[0m GAN_loss/discrim/loss: 0.58299\n",
      "\u001b[32m[1019 09:31:38 @monitor.py:467]\u001b[0m GAN_loss/gen/final-g-loss: 1.5371\n",
      "\u001b[32m[1019 09:31:38 @monitor.py:467]\u001b[0m GAN_loss/gen/klloss: 0.047373\n",
      "\u001b[32m[1019 09:31:38 @monitor.py:467]\u001b[0m GAN_loss/gen/loss: 1.4897\n",
      "\u001b[32m[1019 09:31:38 @monitor.py:467]\u001b[0m QueueInput/queue_size: 50\n",
      "\u001b[32m[1019 09:31:38 @base.py:275]\u001b[0m Start Epoch 1464 ...\n"
     ]
    },
    {
     "name": "stderr",
     "output_type": "stream",
     "text": [
      "100%|###################################################################################|175/175[00:05<00:00,31.93it/s]"
     ]
    },
    {
     "name": "stdout",
     "output_type": "stream",
     "text": [
      "\u001b[32m[1019 09:31:44 @base.py:285]\u001b[0m Epoch 1464 (global_step 256200) finished, time:5.48 seconds.\n",
      "\u001b[32m[1019 09:31:44 @saver.py:79]\u001b[0m Model saved to ../output/Chicago/DATGAN_asd29/model\\model-256200.\n"
     ]
    },
    {
     "name": "stderr",
     "output_type": "stream",
     "text": [
      "\n"
     ]
    },
    {
     "name": "stdout",
     "output_type": "stream",
     "text": [
      "\u001b[32m[1019 09:31:44 @monitor.py:467]\u001b[0m GAN_loss/discrim/accuracy_fake: 0.808\n",
      "\u001b[32m[1019 09:31:44 @monitor.py:467]\u001b[0m GAN_loss/discrim/accuracy_real: 0.454\n",
      "\u001b[32m[1019 09:31:44 @monitor.py:467]\u001b[0m GAN_loss/discrim/loss: 0.60195\n",
      "\u001b[32m[1019 09:31:44 @monitor.py:467]\u001b[0m GAN_loss/gen/final-g-loss: 1.4527\n",
      "\u001b[32m[1019 09:31:44 @monitor.py:467]\u001b[0m GAN_loss/gen/klloss: 0.075935\n",
      "\u001b[32m[1019 09:31:44 @monitor.py:467]\u001b[0m GAN_loss/gen/loss: 1.3768\n",
      "\u001b[32m[1019 09:31:44 @monitor.py:467]\u001b[0m QueueInput/queue_size: 50\n",
      "\u001b[32m[1019 09:31:44 @base.py:275]\u001b[0m Start Epoch 1465 ...\n"
     ]
    },
    {
     "name": "stderr",
     "output_type": "stream",
     "text": [
      "100%|###################################################################################|175/175[00:05<00:00,31.90it/s]"
     ]
    },
    {
     "name": "stdout",
     "output_type": "stream",
     "text": [
      "\u001b[32m[1019 09:31:50 @base.py:285]\u001b[0m Epoch 1465 (global_step 256375) finished, time:5.49 seconds.\n",
      "\u001b[32m[1019 09:31:50 @saver.py:79]\u001b[0m Model saved to ../output/Chicago/DATGAN_asd29/model\\model-256375.\n"
     ]
    },
    {
     "name": "stderr",
     "output_type": "stream",
     "text": [
      "\n"
     ]
    },
    {
     "name": "stdout",
     "output_type": "stream",
     "text": [
      "\u001b[32m[1019 09:31:50 @monitor.py:467]\u001b[0m GAN_loss/discrim/accuracy_fake: 0.812\n",
      "\u001b[32m[1019 09:31:50 @monitor.py:467]\u001b[0m GAN_loss/discrim/accuracy_real: 0.45\n",
      "\u001b[32m[1019 09:31:50 @monitor.py:467]\u001b[0m GAN_loss/discrim/loss: 0.60828\n",
      "\u001b[32m[1019 09:31:50 @monitor.py:467]\u001b[0m GAN_loss/gen/final-g-loss: 1.4363\n",
      "\u001b[32m[1019 09:31:50 @monitor.py:467]\u001b[0m GAN_loss/gen/klloss: 0.090306\n",
      "\u001b[32m[1019 09:31:50 @monitor.py:467]\u001b[0m GAN_loss/gen/loss: 1.346\n",
      "\u001b[32m[1019 09:31:50 @monitor.py:467]\u001b[0m QueueInput/queue_size: 50\n",
      "\u001b[32m[1019 09:31:50 @base.py:275]\u001b[0m Start Epoch 1466 ...\n"
     ]
    },
    {
     "name": "stderr",
     "output_type": "stream",
     "text": [
      "100%|###################################################################################|175/175[00:05<00:00,31.92it/s]"
     ]
    },
    {
     "name": "stdout",
     "output_type": "stream",
     "text": [
      "\u001b[32m[1019 09:31:55 @base.py:285]\u001b[0m Epoch 1466 (global_step 256550) finished, time:5.48 seconds.\n",
      "\u001b[32m[1019 09:31:55 @saver.py:79]\u001b[0m Model saved to ../output/Chicago/DATGAN_asd29/model\\model-256550.\n"
     ]
    },
    {
     "name": "stderr",
     "output_type": "stream",
     "text": [
      "\n"
     ]
    },
    {
     "name": "stdout",
     "output_type": "stream",
     "text": [
      "\u001b[32m[1019 09:31:56 @monitor.py:467]\u001b[0m GAN_loss/discrim/accuracy_fake: 0.788\n",
      "\u001b[32m[1019 09:31:56 @monitor.py:467]\u001b[0m GAN_loss/discrim/accuracy_real: 0.41\n",
      "\u001b[32m[1019 09:31:56 @monitor.py:467]\u001b[0m GAN_loss/discrim/loss: 0.60202\n",
      "\u001b[32m[1019 09:31:56 @monitor.py:467]\u001b[0m GAN_loss/gen/final-g-loss: 1.4397\n",
      "\u001b[32m[1019 09:31:56 @monitor.py:467]\u001b[0m GAN_loss/gen/klloss: 0.080166\n",
      "\u001b[32m[1019 09:31:56 @monitor.py:467]\u001b[0m GAN_loss/gen/loss: 1.3595\n",
      "\u001b[32m[1019 09:31:56 @monitor.py:467]\u001b[0m QueueInput/queue_size: 50\n",
      "\u001b[32m[1019 09:31:56 @base.py:275]\u001b[0m Start Epoch 1467 ...\n"
     ]
    },
    {
     "name": "stderr",
     "output_type": "stream",
     "text": [
      "100%|###################################################################################|175/175[00:05<00:00,31.88it/s]"
     ]
    },
    {
     "name": "stdout",
     "output_type": "stream",
     "text": [
      "\u001b[32m[1019 09:32:01 @base.py:285]\u001b[0m Epoch 1467 (global_step 256725) finished, time:5.49 seconds.\n",
      "\u001b[32m[1019 09:32:01 @saver.py:79]\u001b[0m Model saved to ../output/Chicago/DATGAN_asd29/model\\model-256725.\n"
     ]
    },
    {
     "name": "stderr",
     "output_type": "stream",
     "text": [
      "\n"
     ]
    },
    {
     "name": "stdout",
     "output_type": "stream",
     "text": [
      "\u001b[32m[1019 09:32:02 @monitor.py:467]\u001b[0m GAN_loss/discrim/accuracy_fake: 0.782\n",
      "\u001b[32m[1019 09:32:02 @monitor.py:467]\u001b[0m GAN_loss/discrim/accuracy_real: 0.47\n",
      "\u001b[32m[1019 09:32:02 @monitor.py:467]\u001b[0m GAN_loss/discrim/loss: 0.61297\n",
      "\u001b[32m[1019 09:32:02 @monitor.py:467]\u001b[0m GAN_loss/gen/final-g-loss: 1.4052\n",
      "\u001b[32m[1019 09:32:02 @monitor.py:467]\u001b[0m GAN_loss/gen/klloss: 0.075159\n",
      "\u001b[32m[1019 09:32:02 @monitor.py:467]\u001b[0m GAN_loss/gen/loss: 1.33\n",
      "\u001b[32m[1019 09:32:02 @monitor.py:467]\u001b[0m QueueInput/queue_size: 50\n",
      "\u001b[32m[1019 09:32:02 @base.py:275]\u001b[0m Start Epoch 1468 ...\n"
     ]
    },
    {
     "name": "stderr",
     "output_type": "stream",
     "text": [
      "100%|###################################################################################|175/175[00:05<00:00,31.91it/s]"
     ]
    },
    {
     "name": "stdout",
     "output_type": "stream",
     "text": [
      "\u001b[32m[1019 09:32:07 @base.py:285]\u001b[0m Epoch 1468 (global_step 256900) finished, time:5.48 seconds.\n",
      "\u001b[32m[1019 09:32:07 @saver.py:79]\u001b[0m Model saved to ../output/Chicago/DATGAN_asd29/model\\model-256900.\n"
     ]
    },
    {
     "name": "stderr",
     "output_type": "stream",
     "text": [
      "\n"
     ]
    },
    {
     "name": "stdout",
     "output_type": "stream",
     "text": [
      "\u001b[32m[1019 09:32:07 @monitor.py:467]\u001b[0m GAN_loss/discrim/accuracy_fake: 0.81\n",
      "\u001b[32m[1019 09:32:07 @monitor.py:467]\u001b[0m GAN_loss/discrim/accuracy_real: 0.504\n",
      "\u001b[32m[1019 09:32:07 @monitor.py:467]\u001b[0m GAN_loss/discrim/loss: 0.58915\n",
      "\u001b[32m[1019 09:32:07 @monitor.py:467]\u001b[0m GAN_loss/gen/final-g-loss: 1.4708\n",
      "\u001b[32m[1019 09:32:07 @monitor.py:467]\u001b[0m GAN_loss/gen/klloss: 0.076569\n",
      "\u001b[32m[1019 09:32:07 @monitor.py:467]\u001b[0m GAN_loss/gen/loss: 1.3942\n",
      "\u001b[32m[1019 09:32:07 @monitor.py:467]\u001b[0m QueueInput/queue_size: 50\n",
      "\u001b[32m[1019 09:32:07 @base.py:275]\u001b[0m Start Epoch 1469 ...\n"
     ]
    },
    {
     "name": "stderr",
     "output_type": "stream",
     "text": [
      "100%|###################################################################################|175/175[00:05<00:00,31.88it/s]"
     ]
    },
    {
     "name": "stdout",
     "output_type": "stream",
     "text": [
      "\u001b[32m[1019 09:32:13 @base.py:285]\u001b[0m Epoch 1469 (global_step 257075) finished, time:5.49 seconds.\n",
      "\u001b[32m[1019 09:32:13 @saver.py:79]\u001b[0m Model saved to ../output/Chicago/DATGAN_asd29/model\\model-257075.\n"
     ]
    },
    {
     "name": "stderr",
     "output_type": "stream",
     "text": [
      "\n"
     ]
    },
    {
     "name": "stdout",
     "output_type": "stream",
     "text": [
      "\u001b[32m[1019 09:32:13 @monitor.py:467]\u001b[0m GAN_loss/discrim/accuracy_fake: 0.798\n",
      "\u001b[32m[1019 09:32:13 @monitor.py:467]\u001b[0m GAN_loss/discrim/accuracy_real: 0.568\n",
      "\u001b[32m[1019 09:32:13 @monitor.py:467]\u001b[0m GAN_loss/discrim/loss: 0.56047\n",
      "\u001b[32m[1019 09:32:13 @monitor.py:467]\u001b[0m GAN_loss/gen/final-g-loss: 1.5478\n",
      "\u001b[32m[1019 09:32:13 @monitor.py:467]\u001b[0m GAN_loss/gen/klloss: 0.11305\n",
      "\u001b[32m[1019 09:32:13 @monitor.py:467]\u001b[0m GAN_loss/gen/loss: 1.4348\n",
      "\u001b[32m[1019 09:32:13 @monitor.py:467]\u001b[0m QueueInput/queue_size: 50\n",
      "\u001b[32m[1019 09:32:13 @base.py:275]\u001b[0m Start Epoch 1470 ...\n"
     ]
    },
    {
     "name": "stderr",
     "output_type": "stream",
     "text": [
      "100%|###################################################################################|175/175[00:05<00:00,31.92it/s]"
     ]
    },
    {
     "name": "stdout",
     "output_type": "stream",
     "text": [
      "\u001b[32m[1019 09:32:19 @base.py:285]\u001b[0m Epoch 1470 (global_step 257250) finished, time:5.48 seconds.\n",
      "\u001b[32m[1019 09:32:19 @saver.py:79]\u001b[0m Model saved to ../output/Chicago/DATGAN_asd29/model\\model-257250.\n"
     ]
    },
    {
     "name": "stderr",
     "output_type": "stream",
     "text": [
      "\n"
     ]
    },
    {
     "name": "stdout",
     "output_type": "stream",
     "text": [
      "\u001b[32m[1019 09:32:19 @monitor.py:467]\u001b[0m GAN_loss/discrim/accuracy_fake: 0.844\n",
      "\u001b[32m[1019 09:32:19 @monitor.py:467]\u001b[0m GAN_loss/discrim/accuracy_real: 0.376\n",
      "\u001b[32m[1019 09:32:19 @monitor.py:467]\u001b[0m GAN_loss/discrim/loss: 0.60763\n",
      "\u001b[32m[1019 09:32:19 @monitor.py:467]\u001b[0m GAN_loss/gen/final-g-loss: 1.4607\n",
      "\u001b[32m[1019 09:32:19 @monitor.py:467]\u001b[0m GAN_loss/gen/klloss: 0.058307\n",
      "\u001b[32m[1019 09:32:19 @monitor.py:467]\u001b[0m GAN_loss/gen/loss: 1.4024\n",
      "\u001b[32m[1019 09:32:19 @monitor.py:467]\u001b[0m QueueInput/queue_size: 50\n",
      "\u001b[32m[1019 09:32:19 @base.py:275]\u001b[0m Start Epoch 1471 ...\n"
     ]
    },
    {
     "name": "stderr",
     "output_type": "stream",
     "text": [
      "100%|###################################################################################|175/175[00:05<00:00,31.92it/s]"
     ]
    },
    {
     "name": "stdout",
     "output_type": "stream",
     "text": [
      "\u001b[32m[1019 09:32:24 @base.py:285]\u001b[0m Epoch 1471 (global_step 257425) finished, time:5.48 seconds.\n",
      "\u001b[32m[1019 09:32:25 @saver.py:79]\u001b[0m Model saved to ../output/Chicago/DATGAN_asd29/model\\model-257425.\n"
     ]
    },
    {
     "name": "stderr",
     "output_type": "stream",
     "text": [
      "\n"
     ]
    },
    {
     "name": "stdout",
     "output_type": "stream",
     "text": [
      "\u001b[32m[1019 09:32:25 @monitor.py:467]\u001b[0m GAN_loss/discrim/accuracy_fake: 0.794\n",
      "\u001b[32m[1019 09:32:25 @monitor.py:467]\u001b[0m GAN_loss/discrim/accuracy_real: 0.548\n",
      "\u001b[32m[1019 09:32:25 @monitor.py:467]\u001b[0m GAN_loss/discrim/loss: 0.55929\n",
      "\u001b[32m[1019 09:32:25 @monitor.py:467]\u001b[0m GAN_loss/gen/final-g-loss: 1.5289\n",
      "\u001b[32m[1019 09:32:25 @monitor.py:467]\u001b[0m GAN_loss/gen/klloss: 0.091956\n",
      "\u001b[32m[1019 09:32:25 @monitor.py:467]\u001b[0m GAN_loss/gen/loss: 1.4369\n",
      "\u001b[32m[1019 09:32:25 @monitor.py:467]\u001b[0m QueueInput/queue_size: 50\n",
      "\u001b[32m[1019 09:32:25 @base.py:275]\u001b[0m Start Epoch 1472 ...\n"
     ]
    },
    {
     "name": "stderr",
     "output_type": "stream",
     "text": [
      "100%|###################################################################################|175/175[00:05<00:00,31.88it/s]"
     ]
    },
    {
     "name": "stdout",
     "output_type": "stream",
     "text": [
      "\u001b[32m[1019 09:32:30 @base.py:285]\u001b[0m Epoch 1472 (global_step 257600) finished, time:5.49 seconds.\n",
      "\u001b[32m[1019 09:32:30 @saver.py:79]\u001b[0m Model saved to ../output/Chicago/DATGAN_asd29/model\\model-257600.\n"
     ]
    },
    {
     "name": "stderr",
     "output_type": "stream",
     "text": [
      "\n"
     ]
    },
    {
     "name": "stdout",
     "output_type": "stream",
     "text": [
      "\u001b[32m[1019 09:32:31 @monitor.py:467]\u001b[0m GAN_loss/discrim/accuracy_fake: 0.856\n",
      "\u001b[32m[1019 09:32:31 @monitor.py:467]\u001b[0m GAN_loss/discrim/accuracy_real: 0.416\n",
      "\u001b[32m[1019 09:32:31 @monitor.py:467]\u001b[0m GAN_loss/discrim/loss: 0.6029\n",
      "\u001b[32m[1019 09:32:31 @monitor.py:467]\u001b[0m GAN_loss/gen/final-g-loss: 1.4869\n",
      "\u001b[32m[1019 09:32:31 @monitor.py:467]\u001b[0m GAN_loss/gen/klloss: 0.079306\n",
      "\u001b[32m[1019 09:32:31 @monitor.py:467]\u001b[0m GAN_loss/gen/loss: 1.4076\n",
      "\u001b[32m[1019 09:32:31 @monitor.py:467]\u001b[0m QueueInput/queue_size: 50\n",
      "\u001b[32m[1019 09:32:31 @base.py:275]\u001b[0m Start Epoch 1473 ...\n"
     ]
    },
    {
     "name": "stderr",
     "output_type": "stream",
     "text": [
      "100%|###################################################################################|175/175[00:05<00:00,31.90it/s]"
     ]
    },
    {
     "name": "stdout",
     "output_type": "stream",
     "text": [
      "\u001b[32m[1019 09:32:36 @base.py:285]\u001b[0m Epoch 1473 (global_step 257775) finished, time:5.49 seconds.\n",
      "\u001b[32m[1019 09:32:36 @saver.py:79]\u001b[0m Model saved to ../output/Chicago/DATGAN_asd29/model\\model-257775.\n"
     ]
    },
    {
     "name": "stderr",
     "output_type": "stream",
     "text": [
      "\n"
     ]
    },
    {
     "name": "stdout",
     "output_type": "stream",
     "text": [
      "\u001b[32m[1019 09:32:36 @monitor.py:467]\u001b[0m GAN_loss/discrim/accuracy_fake: 0.81\n",
      "\u001b[32m[1019 09:32:36 @monitor.py:467]\u001b[0m GAN_loss/discrim/accuracy_real: 0.52\n",
      "\u001b[32m[1019 09:32:36 @monitor.py:467]\u001b[0m GAN_loss/discrim/loss: 0.56396\n",
      "\u001b[32m[1019 09:32:36 @monitor.py:467]\u001b[0m GAN_loss/gen/final-g-loss: 1.6204\n",
      "\u001b[32m[1019 09:32:36 @monitor.py:467]\u001b[0m GAN_loss/gen/klloss: 0.11914\n",
      "\u001b[32m[1019 09:32:36 @monitor.py:467]\u001b[0m GAN_loss/gen/loss: 1.5012\n",
      "\u001b[32m[1019 09:32:36 @monitor.py:467]\u001b[0m QueueInput/queue_size: 50\n",
      "\u001b[32m[1019 09:32:36 @base.py:275]\u001b[0m Start Epoch 1474 ...\n"
     ]
    },
    {
     "name": "stderr",
     "output_type": "stream",
     "text": [
      "100%|###################################################################################|175/175[00:05<00:00,31.89it/s]"
     ]
    },
    {
     "name": "stdout",
     "output_type": "stream",
     "text": [
      "\u001b[32m[1019 09:32:42 @base.py:285]\u001b[0m Epoch 1474 (global_step 257950) finished, time:5.49 seconds.\n",
      "\u001b[32m[1019 09:32:42 @saver.py:79]\u001b[0m Model saved to ../output/Chicago/DATGAN_asd29/model\\model-257950.\n"
     ]
    },
    {
     "name": "stderr",
     "output_type": "stream",
     "text": [
      "\n"
     ]
    },
    {
     "name": "stdout",
     "output_type": "stream",
     "text": [
      "\u001b[32m[1019 09:32:42 @monitor.py:467]\u001b[0m GAN_loss/discrim/accuracy_fake: 0.82\n",
      "\u001b[32m[1019 09:32:42 @monitor.py:467]\u001b[0m GAN_loss/discrim/accuracy_real: 0.452\n",
      "\u001b[32m[1019 09:32:42 @monitor.py:467]\u001b[0m GAN_loss/discrim/loss: 0.59861\n",
      "\u001b[32m[1019 09:32:42 @monitor.py:467]\u001b[0m GAN_loss/gen/final-g-loss: 1.4317\n",
      "\u001b[32m[1019 09:32:42 @monitor.py:467]\u001b[0m GAN_loss/gen/klloss: 0.064632\n",
      "\u001b[32m[1019 09:32:42 @monitor.py:467]\u001b[0m GAN_loss/gen/loss: 1.367\n",
      "\u001b[32m[1019 09:32:42 @monitor.py:467]\u001b[0m QueueInput/queue_size: 50\n",
      "\u001b[32m[1019 09:32:42 @base.py:275]\u001b[0m Start Epoch 1475 ...\n"
     ]
    },
    {
     "name": "stderr",
     "output_type": "stream",
     "text": [
      "100%|###################################################################################|175/175[00:05<00:00,31.92it/s]"
     ]
    },
    {
     "name": "stdout",
     "output_type": "stream",
     "text": [
      "\u001b[32m[1019 09:32:48 @base.py:285]\u001b[0m Epoch 1475 (global_step 258125) finished, time:5.48 seconds.\n",
      "\u001b[32m[1019 09:32:48 @saver.py:79]\u001b[0m Model saved to ../output/Chicago/DATGAN_asd29/model\\model-258125.\n"
     ]
    },
    {
     "name": "stderr",
     "output_type": "stream",
     "text": [
      "\n"
     ]
    },
    {
     "name": "stdout",
     "output_type": "stream",
     "text": [
      "\u001b[32m[1019 09:32:48 @monitor.py:467]\u001b[0m GAN_loss/discrim/accuracy_fake: 0.836\n",
      "\u001b[32m[1019 09:32:48 @monitor.py:467]\u001b[0m GAN_loss/discrim/accuracy_real: 0.46\n",
      "\u001b[32m[1019 09:32:48 @monitor.py:467]\u001b[0m GAN_loss/discrim/loss: 0.59241\n",
      "\u001b[32m[1019 09:32:48 @monitor.py:467]\u001b[0m GAN_loss/gen/final-g-loss: 1.4744\n",
      "\u001b[32m[1019 09:32:48 @monitor.py:467]\u001b[0m GAN_loss/gen/klloss: 0.10029\n",
      "\u001b[32m[1019 09:32:48 @monitor.py:467]\u001b[0m GAN_loss/gen/loss: 1.3741\n",
      "\u001b[32m[1019 09:32:48 @monitor.py:467]\u001b[0m QueueInput/queue_size: 50\n",
      "\u001b[32m[1019 09:32:48 @base.py:275]\u001b[0m Start Epoch 1476 ...\n"
     ]
    },
    {
     "name": "stderr",
     "output_type": "stream",
     "text": [
      "100%|###################################################################################|175/175[00:05<00:00,31.88it/s]"
     ]
    },
    {
     "name": "stdout",
     "output_type": "stream",
     "text": [
      "\u001b[32m[1019 09:32:54 @base.py:285]\u001b[0m Epoch 1476 (global_step 258300) finished, time:5.49 seconds.\n",
      "\u001b[32m[1019 09:32:54 @saver.py:79]\u001b[0m Model saved to ../output/Chicago/DATGAN_asd29/model\\model-258300.\n"
     ]
    },
    {
     "name": "stderr",
     "output_type": "stream",
     "text": [
      "\n"
     ]
    },
    {
     "name": "stdout",
     "output_type": "stream",
     "text": [
      "\u001b[32m[1019 09:32:54 @monitor.py:467]\u001b[0m GAN_loss/discrim/accuracy_fake: 0.78\n",
      "\u001b[32m[1019 09:32:54 @monitor.py:467]\u001b[0m GAN_loss/discrim/accuracy_real: 0.352\n",
      "\u001b[32m[1019 09:32:54 @monitor.py:467]\u001b[0m GAN_loss/discrim/loss: 0.63538\n",
      "\u001b[32m[1019 09:32:54 @monitor.py:467]\u001b[0m GAN_loss/gen/final-g-loss: 1.3682\n",
      "\u001b[32m[1019 09:32:54 @monitor.py:467]\u001b[0m GAN_loss/gen/klloss: 0.085375\n",
      "\u001b[32m[1019 09:32:54 @monitor.py:467]\u001b[0m GAN_loss/gen/loss: 1.2829\n",
      "\u001b[32m[1019 09:32:54 @monitor.py:467]\u001b[0m QueueInput/queue_size: 50\n",
      "\u001b[32m[1019 09:32:54 @base.py:275]\u001b[0m Start Epoch 1477 ...\n"
     ]
    },
    {
     "name": "stderr",
     "output_type": "stream",
     "text": [
      "100%|###################################################################################|175/175[00:05<00:00,31.91it/s]"
     ]
    },
    {
     "name": "stdout",
     "output_type": "stream",
     "text": [
      "\u001b[32m[1019 09:32:59 @base.py:285]\u001b[0m Epoch 1477 (global_step 258475) finished, time:5.48 seconds.\n",
      "\u001b[32m[1019 09:32:59 @saver.py:79]\u001b[0m Model saved to ../output/Chicago/DATGAN_asd29/model\\model-258475.\n"
     ]
    },
    {
     "name": "stderr",
     "output_type": "stream",
     "text": [
      "\n"
     ]
    },
    {
     "name": "stdout",
     "output_type": "stream",
     "text": [
      "\u001b[32m[1019 09:33:00 @monitor.py:467]\u001b[0m GAN_loss/discrim/accuracy_fake: 0.818\n",
      "\u001b[32m[1019 09:33:00 @monitor.py:467]\u001b[0m GAN_loss/discrim/accuracy_real: 0.474\n",
      "\u001b[32m[1019 09:33:00 @monitor.py:467]\u001b[0m GAN_loss/discrim/loss: 0.59915\n",
      "\u001b[32m[1019 09:33:00 @monitor.py:467]\u001b[0m GAN_loss/gen/final-g-loss: 1.4009\n",
      "\u001b[32m[1019 09:33:00 @monitor.py:467]\u001b[0m GAN_loss/gen/klloss: 0.07355\n",
      "\u001b[32m[1019 09:33:00 @monitor.py:467]\u001b[0m GAN_loss/gen/loss: 1.3274\n",
      "\u001b[32m[1019 09:33:00 @monitor.py:467]\u001b[0m QueueInput/queue_size: 50\n",
      "\u001b[32m[1019 09:33:00 @base.py:275]\u001b[0m Start Epoch 1478 ...\n"
     ]
    },
    {
     "name": "stderr",
     "output_type": "stream",
     "text": [
      "100%|###################################################################################|175/175[00:05<00:00,31.85it/s]"
     ]
    },
    {
     "name": "stdout",
     "output_type": "stream",
     "text": [
      "\u001b[32m[1019 09:33:05 @base.py:285]\u001b[0m Epoch 1478 (global_step 258650) finished, time:5.49 seconds.\n",
      "\u001b[32m[1019 09:33:05 @saver.py:79]\u001b[0m Model saved to ../output/Chicago/DATGAN_asd29/model\\model-258650.\n"
     ]
    },
    {
     "name": "stderr",
     "output_type": "stream",
     "text": [
      "\n"
     ]
    },
    {
     "name": "stdout",
     "output_type": "stream",
     "text": [
      "\u001b[32m[1019 09:33:06 @monitor.py:467]\u001b[0m GAN_loss/discrim/accuracy_fake: 0.818\n",
      "\u001b[32m[1019 09:33:06 @monitor.py:467]\u001b[0m GAN_loss/discrim/accuracy_real: 0.474\n",
      "\u001b[32m[1019 09:33:06 @monitor.py:467]\u001b[0m GAN_loss/discrim/loss: 0.6003\n",
      "\u001b[32m[1019 09:33:06 @monitor.py:467]\u001b[0m GAN_loss/gen/final-g-loss: 1.4137\n",
      "\u001b[32m[1019 09:33:06 @monitor.py:467]\u001b[0m GAN_loss/gen/klloss: 0.071887\n",
      "\u001b[32m[1019 09:33:06 @monitor.py:467]\u001b[0m GAN_loss/gen/loss: 1.3418\n",
      "\u001b[32m[1019 09:33:06 @monitor.py:467]\u001b[0m QueueInput/queue_size: 50\n",
      "\u001b[32m[1019 09:33:06 @base.py:275]\u001b[0m Start Epoch 1479 ...\n"
     ]
    },
    {
     "name": "stderr",
     "output_type": "stream",
     "text": [
      "100%|###################################################################################|175/175[00:05<00:00,31.92it/s]"
     ]
    },
    {
     "name": "stdout",
     "output_type": "stream",
     "text": [
      "\u001b[32m[1019 09:33:11 @base.py:285]\u001b[0m Epoch 1479 (global_step 258825) finished, time:5.48 seconds.\n",
      "\u001b[32m[1019 09:33:11 @saver.py:79]\u001b[0m Model saved to ../output/Chicago/DATGAN_asd29/model\\model-258825.\n"
     ]
    },
    {
     "name": "stderr",
     "output_type": "stream",
     "text": [
      "\n"
     ]
    },
    {
     "name": "stdout",
     "output_type": "stream",
     "text": [
      "\u001b[32m[1019 09:33:11 @monitor.py:467]\u001b[0m GAN_loss/discrim/accuracy_fake: 0.83\n",
      "\u001b[32m[1019 09:33:11 @monitor.py:467]\u001b[0m GAN_loss/discrim/accuracy_real: 0.412\n",
      "\u001b[32m[1019 09:33:11 @monitor.py:467]\u001b[0m GAN_loss/discrim/loss: 0.59991\n",
      "\u001b[32m[1019 09:33:11 @monitor.py:467]\u001b[0m GAN_loss/gen/final-g-loss: 1.4904\n",
      "\u001b[32m[1019 09:33:11 @monitor.py:467]\u001b[0m GAN_loss/gen/klloss: 0.084056\n",
      "\u001b[32m[1019 09:33:11 @monitor.py:467]\u001b[0m GAN_loss/gen/loss: 1.4063\n",
      "\u001b[32m[1019 09:33:11 @monitor.py:467]\u001b[0m QueueInput/queue_size: 50\n",
      "\u001b[32m[1019 09:33:11 @base.py:275]\u001b[0m Start Epoch 1480 ...\n"
     ]
    },
    {
     "name": "stderr",
     "output_type": "stream",
     "text": [
      "100%|###################################################################################|175/175[00:05<00:00,31.92it/s]"
     ]
    },
    {
     "name": "stdout",
     "output_type": "stream",
     "text": [
      "\u001b[32m[1019 09:33:17 @base.py:285]\u001b[0m Epoch 1480 (global_step 259000) finished, time:5.48 seconds.\n",
      "\u001b[32m[1019 09:33:17 @saver.py:79]\u001b[0m Model saved to ../output/Chicago/DATGAN_asd29/model\\model-259000.\n"
     ]
    },
    {
     "name": "stderr",
     "output_type": "stream",
     "text": [
      "\n"
     ]
    },
    {
     "name": "stdout",
     "output_type": "stream",
     "text": [
      "\u001b[32m[1019 09:33:17 @monitor.py:467]\u001b[0m GAN_loss/discrim/accuracy_fake: 0.808\n",
      "\u001b[32m[1019 09:33:17 @monitor.py:467]\u001b[0m GAN_loss/discrim/accuracy_real: 0.536\n",
      "\u001b[32m[1019 09:33:17 @monitor.py:467]\u001b[0m GAN_loss/discrim/loss: 0.56813\n",
      "\u001b[32m[1019 09:33:17 @monitor.py:467]\u001b[0m GAN_loss/gen/final-g-loss: 1.5071\n",
      "\u001b[32m[1019 09:33:17 @monitor.py:467]\u001b[0m GAN_loss/gen/klloss: 0.098468\n",
      "\u001b[32m[1019 09:33:17 @monitor.py:467]\u001b[0m GAN_loss/gen/loss: 1.4086\n",
      "\u001b[32m[1019 09:33:17 @monitor.py:467]\u001b[0m QueueInput/queue_size: 50\n",
      "\u001b[32m[1019 09:33:17 @base.py:275]\u001b[0m Start Epoch 1481 ...\n"
     ]
    },
    {
     "name": "stderr",
     "output_type": "stream",
     "text": [
      "100%|###################################################################################|175/175[00:05<00:00,31.93it/s]"
     ]
    },
    {
     "name": "stdout",
     "output_type": "stream",
     "text": [
      "\u001b[32m[1019 09:33:23 @base.py:285]\u001b[0m Epoch 1481 (global_step 259175) finished, time:5.48 seconds.\n",
      "\u001b[32m[1019 09:33:23 @saver.py:79]\u001b[0m Model saved to ../output/Chicago/DATGAN_asd29/model\\model-259175.\n"
     ]
    },
    {
     "name": "stderr",
     "output_type": "stream",
     "text": [
      "\n"
     ]
    },
    {
     "name": "stdout",
     "output_type": "stream",
     "text": [
      "\u001b[32m[1019 09:33:23 @monitor.py:467]\u001b[0m GAN_loss/discrim/accuracy_fake: 0.802\n",
      "\u001b[32m[1019 09:33:23 @monitor.py:467]\u001b[0m GAN_loss/discrim/accuracy_real: 0.456\n",
      "\u001b[32m[1019 09:33:23 @monitor.py:467]\u001b[0m GAN_loss/discrim/loss: 0.61047\n",
      "\u001b[32m[1019 09:33:23 @monitor.py:467]\u001b[0m GAN_loss/gen/final-g-loss: 1.3847\n",
      "\u001b[32m[1019 09:33:23 @monitor.py:467]\u001b[0m GAN_loss/gen/klloss: 0.070715\n",
      "\u001b[32m[1019 09:33:23 @monitor.py:467]\u001b[0m GAN_loss/gen/loss: 1.314\n",
      "\u001b[32m[1019 09:33:23 @monitor.py:467]\u001b[0m QueueInput/queue_size: 50\n",
      "\u001b[32m[1019 09:33:23 @base.py:275]\u001b[0m Start Epoch 1482 ...\n"
     ]
    },
    {
     "name": "stderr",
     "output_type": "stream",
     "text": [
      "100%|###################################################################################|175/175[00:05<00:00,31.85it/s]"
     ]
    },
    {
     "name": "stdout",
     "output_type": "stream",
     "text": [
      "\u001b[32m[1019 09:33:29 @base.py:285]\u001b[0m Epoch 1482 (global_step 259350) finished, time:5.5 seconds.\n",
      "\u001b[32m[1019 09:33:29 @saver.py:79]\u001b[0m Model saved to ../output/Chicago/DATGAN_asd29/model\\model-259350.\n"
     ]
    },
    {
     "name": "stderr",
     "output_type": "stream",
     "text": [
      "\n"
     ]
    },
    {
     "name": "stdout",
     "output_type": "stream",
     "text": [
      "\u001b[32m[1019 09:33:29 @monitor.py:467]\u001b[0m GAN_loss/discrim/accuracy_fake: 0.856\n",
      "\u001b[32m[1019 09:33:29 @monitor.py:467]\u001b[0m GAN_loss/discrim/accuracy_real: 0.518\n",
      "\u001b[32m[1019 09:33:29 @monitor.py:467]\u001b[0m GAN_loss/discrim/loss: 0.55528\n",
      "\u001b[32m[1019 09:33:29 @monitor.py:467]\u001b[0m GAN_loss/gen/final-g-loss: 1.5297\n",
      "\u001b[32m[1019 09:33:29 @monitor.py:467]\u001b[0m GAN_loss/gen/klloss: 0.11404\n",
      "\u001b[32m[1019 09:33:29 @monitor.py:467]\u001b[0m GAN_loss/gen/loss: 1.4157\n",
      "\u001b[32m[1019 09:33:29 @monitor.py:467]\u001b[0m QueueInput/queue_size: 50\n",
      "\u001b[32m[1019 09:33:29 @base.py:275]\u001b[0m Start Epoch 1483 ...\n"
     ]
    },
    {
     "name": "stderr",
     "output_type": "stream",
     "text": [
      "100%|###################################################################################|175/175[00:05<00:00,31.93it/s]"
     ]
    },
    {
     "name": "stdout",
     "output_type": "stream",
     "text": [
      "\u001b[32m[1019 09:33:34 @base.py:285]\u001b[0m Epoch 1483 (global_step 259525) finished, time:5.48 seconds.\n",
      "\u001b[32m[1019 09:33:34 @saver.py:79]\u001b[0m Model saved to ../output/Chicago/DATGAN_asd29/model\\model-259525.\n"
     ]
    },
    {
     "name": "stderr",
     "output_type": "stream",
     "text": [
      "\n"
     ]
    },
    {
     "name": "stdout",
     "output_type": "stream",
     "text": [
      "\u001b[32m[1019 09:33:35 @monitor.py:467]\u001b[0m GAN_loss/discrim/accuracy_fake: 0.78\n",
      "\u001b[32m[1019 09:33:35 @monitor.py:467]\u001b[0m GAN_loss/discrim/accuracy_real: 0.432\n",
      "\u001b[32m[1019 09:33:35 @monitor.py:467]\u001b[0m GAN_loss/discrim/loss: 0.62952\n",
      "\u001b[32m[1019 09:33:35 @monitor.py:467]\u001b[0m GAN_loss/gen/final-g-loss: 1.3523\n",
      "\u001b[32m[1019 09:33:35 @monitor.py:467]\u001b[0m GAN_loss/gen/klloss: 0.048361\n",
      "\u001b[32m[1019 09:33:35 @monitor.py:467]\u001b[0m GAN_loss/gen/loss: 1.3039\n",
      "\u001b[32m[1019 09:33:35 @monitor.py:467]\u001b[0m QueueInput/queue_size: 50\n",
      "\u001b[32m[1019 09:33:35 @base.py:275]\u001b[0m Start Epoch 1484 ...\n"
     ]
    },
    {
     "name": "stderr",
     "output_type": "stream",
     "text": [
      "100%|###################################################################################|175/175[00:05<00:00,31.93it/s]"
     ]
    },
    {
     "name": "stdout",
     "output_type": "stream",
     "text": [
      "\u001b[32m[1019 09:33:40 @base.py:285]\u001b[0m Epoch 1484 (global_step 259700) finished, time:5.48 seconds.\n",
      "\u001b[32m[1019 09:33:40 @saver.py:79]\u001b[0m Model saved to ../output/Chicago/DATGAN_asd29/model\\model-259700.\n"
     ]
    },
    {
     "name": "stderr",
     "output_type": "stream",
     "text": [
      "\n"
     ]
    },
    {
     "name": "stdout",
     "output_type": "stream",
     "text": [
      "\u001b[32m[1019 09:33:41 @monitor.py:467]\u001b[0m GAN_loss/discrim/accuracy_fake: 0.764\n",
      "\u001b[32m[1019 09:33:41 @monitor.py:467]\u001b[0m GAN_loss/discrim/accuracy_real: 0.466\n",
      "\u001b[32m[1019 09:33:41 @monitor.py:467]\u001b[0m GAN_loss/discrim/loss: 0.62265\n",
      "\u001b[32m[1019 09:33:41 @monitor.py:467]\u001b[0m GAN_loss/gen/final-g-loss: 1.3507\n",
      "\u001b[32m[1019 09:33:41 @monitor.py:467]\u001b[0m GAN_loss/gen/klloss: 0.045425\n",
      "\u001b[32m[1019 09:33:41 @monitor.py:467]\u001b[0m GAN_loss/gen/loss: 1.3053\n",
      "\u001b[32m[1019 09:33:41 @monitor.py:467]\u001b[0m QueueInput/queue_size: 50\n",
      "\u001b[32m[1019 09:33:41 @base.py:275]\u001b[0m Start Epoch 1485 ...\n"
     ]
    },
    {
     "name": "stderr",
     "output_type": "stream",
     "text": [
      "100%|###################################################################################|175/175[00:05<00:00,31.92it/s]"
     ]
    },
    {
     "name": "stdout",
     "output_type": "stream",
     "text": [
      "\u001b[32m[1019 09:33:46 @base.py:285]\u001b[0m Epoch 1485 (global_step 259875) finished, time:5.48 seconds.\n",
      "\u001b[32m[1019 09:33:46 @saver.py:79]\u001b[0m Model saved to ../output/Chicago/DATGAN_asd29/model\\model-259875.\n"
     ]
    },
    {
     "name": "stderr",
     "output_type": "stream",
     "text": [
      "\n"
     ]
    },
    {
     "name": "stdout",
     "output_type": "stream",
     "text": [
      "\u001b[32m[1019 09:33:46 @monitor.py:467]\u001b[0m GAN_loss/discrim/accuracy_fake: 0.846\n",
      "\u001b[32m[1019 09:33:46 @monitor.py:467]\u001b[0m GAN_loss/discrim/accuracy_real: 0.546\n",
      "\u001b[32m[1019 09:33:46 @monitor.py:467]\u001b[0m GAN_loss/discrim/loss: 0.542\n",
      "\u001b[32m[1019 09:33:46 @monitor.py:467]\u001b[0m GAN_loss/gen/final-g-loss: 1.711\n",
      "\u001b[32m[1019 09:33:46 @monitor.py:467]\u001b[0m GAN_loss/gen/klloss: 0.14559\n",
      "\u001b[32m[1019 09:33:46 @monitor.py:467]\u001b[0m GAN_loss/gen/loss: 1.5654\n",
      "\u001b[32m[1019 09:33:46 @monitor.py:467]\u001b[0m QueueInput/queue_size: 50\n",
      "\u001b[32m[1019 09:33:46 @base.py:275]\u001b[0m Start Epoch 1486 ...\n"
     ]
    },
    {
     "name": "stderr",
     "output_type": "stream",
     "text": [
      "100%|###################################################################################|175/175[00:05<00:00,31.87it/s]"
     ]
    },
    {
     "name": "stdout",
     "output_type": "stream",
     "text": [
      "\u001b[32m[1019 09:33:52 @base.py:285]\u001b[0m Epoch 1486 (global_step 260050) finished, time:5.49 seconds.\n",
      "\u001b[32m[1019 09:33:52 @saver.py:79]\u001b[0m Model saved to ../output/Chicago/DATGAN_asd29/model\\model-260050.\n"
     ]
    },
    {
     "name": "stderr",
     "output_type": "stream",
     "text": [
      "\n"
     ]
    },
    {
     "name": "stdout",
     "output_type": "stream",
     "text": [
      "\u001b[32m[1019 09:33:52 @monitor.py:467]\u001b[0m GAN_loss/discrim/accuracy_fake: 0.784\n",
      "\u001b[32m[1019 09:33:52 @monitor.py:467]\u001b[0m GAN_loss/discrim/accuracy_real: 0.54\n",
      "\u001b[32m[1019 09:33:52 @monitor.py:467]\u001b[0m GAN_loss/discrim/loss: 0.57587\n",
      "\u001b[32m[1019 09:33:52 @monitor.py:467]\u001b[0m GAN_loss/gen/final-g-loss: 1.5019\n",
      "\u001b[32m[1019 09:33:52 @monitor.py:467]\u001b[0m GAN_loss/gen/klloss: 0.080718\n",
      "\u001b[32m[1019 09:33:52 @monitor.py:467]\u001b[0m GAN_loss/gen/loss: 1.4211\n",
      "\u001b[32m[1019 09:33:52 @monitor.py:467]\u001b[0m QueueInput/queue_size: 50\n",
      "\u001b[32m[1019 09:33:52 @base.py:275]\u001b[0m Start Epoch 1487 ...\n"
     ]
    },
    {
     "name": "stderr",
     "output_type": "stream",
     "text": [
      "100%|###################################################################################|175/175[00:05<00:00,31.91it/s]"
     ]
    },
    {
     "name": "stdout",
     "output_type": "stream",
     "text": [
      "\u001b[32m[1019 09:33:58 @base.py:285]\u001b[0m Epoch 1487 (global_step 260225) finished, time:5.49 seconds.\n",
      "\u001b[32m[1019 09:33:58 @saver.py:79]\u001b[0m Model saved to ../output/Chicago/DATGAN_asd29/model\\model-260225.\n"
     ]
    },
    {
     "name": "stderr",
     "output_type": "stream",
     "text": [
      "\n"
     ]
    },
    {
     "name": "stdout",
     "output_type": "stream",
     "text": [
      "\u001b[32m[1019 09:33:58 @monitor.py:467]\u001b[0m GAN_loss/discrim/accuracy_fake: 0.766\n",
      "\u001b[32m[1019 09:33:58 @monitor.py:467]\u001b[0m GAN_loss/discrim/accuracy_real: 0.524\n",
      "\u001b[32m[1019 09:33:58 @monitor.py:467]\u001b[0m GAN_loss/discrim/loss: 0.59052\n",
      "\u001b[32m[1019 09:33:58 @monitor.py:467]\u001b[0m GAN_loss/gen/final-g-loss: 1.5112\n",
      "\u001b[32m[1019 09:33:58 @monitor.py:467]\u001b[0m GAN_loss/gen/klloss: 0.10368\n",
      "\u001b[32m[1019 09:33:58 @monitor.py:467]\u001b[0m GAN_loss/gen/loss: 1.4075\n",
      "\u001b[32m[1019 09:33:58 @monitor.py:467]\u001b[0m QueueInput/queue_size: 50\n",
      "\u001b[32m[1019 09:33:58 @base.py:275]\u001b[0m Start Epoch 1488 ...\n"
     ]
    },
    {
     "name": "stderr",
     "output_type": "stream",
     "text": [
      "100%|###################################################################################|175/175[00:05<00:00,31.92it/s]"
     ]
    },
    {
     "name": "stdout",
     "output_type": "stream",
     "text": [
      "\u001b[32m[1019 09:34:03 @base.py:285]\u001b[0m Epoch 1488 (global_step 260400) finished, time:5.48 seconds.\n",
      "\u001b[32m[1019 09:34:04 @saver.py:79]\u001b[0m Model saved to ../output/Chicago/DATGAN_asd29/model\\model-260400.\n"
     ]
    },
    {
     "name": "stderr",
     "output_type": "stream",
     "text": [
      "\n"
     ]
    },
    {
     "name": "stdout",
     "output_type": "stream",
     "text": [
      "\u001b[32m[1019 09:34:04 @monitor.py:467]\u001b[0m GAN_loss/discrim/accuracy_fake: 0.782\n",
      "\u001b[32m[1019 09:34:04 @monitor.py:467]\u001b[0m GAN_loss/discrim/accuracy_real: 0.454\n",
      "\u001b[32m[1019 09:34:04 @monitor.py:467]\u001b[0m GAN_loss/discrim/loss: 0.61947\n",
      "\u001b[32m[1019 09:34:04 @monitor.py:467]\u001b[0m GAN_loss/gen/final-g-loss: 1.3618\n",
      "\u001b[32m[1019 09:34:04 @monitor.py:467]\u001b[0m GAN_loss/gen/klloss: 0.055695\n",
      "\u001b[32m[1019 09:34:04 @monitor.py:467]\u001b[0m GAN_loss/gen/loss: 1.3061\n",
      "\u001b[32m[1019 09:34:04 @monitor.py:467]\u001b[0m QueueInput/queue_size: 50\n",
      "\u001b[32m[1019 09:34:04 @base.py:275]\u001b[0m Start Epoch 1489 ...\n"
     ]
    },
    {
     "name": "stderr",
     "output_type": "stream",
     "text": [
      "100%|###################################################################################|175/175[00:05<00:00,31.86it/s]"
     ]
    },
    {
     "name": "stdout",
     "output_type": "stream",
     "text": [
      "\u001b[32m[1019 09:34:09 @base.py:285]\u001b[0m Epoch 1489 (global_step 260575) finished, time:5.49 seconds.\n",
      "\u001b[32m[1019 09:34:09 @saver.py:79]\u001b[0m Model saved to ../output/Chicago/DATGAN_asd29/model\\model-260575.\n"
     ]
    },
    {
     "name": "stderr",
     "output_type": "stream",
     "text": [
      "\n"
     ]
    },
    {
     "name": "stdout",
     "output_type": "stream",
     "text": [
      "\u001b[32m[1019 09:34:10 @monitor.py:467]\u001b[0m GAN_loss/discrim/accuracy_fake: 0.834\n",
      "\u001b[32m[1019 09:34:10 @monitor.py:467]\u001b[0m GAN_loss/discrim/accuracy_real: 0.444\n",
      "\u001b[32m[1019 09:34:10 @monitor.py:467]\u001b[0m GAN_loss/discrim/loss: 0.58834\n",
      "\u001b[32m[1019 09:34:10 @monitor.py:467]\u001b[0m GAN_loss/gen/final-g-loss: 1.3896\n",
      "\u001b[32m[1019 09:34:10 @monitor.py:467]\u001b[0m GAN_loss/gen/klloss: 0.046743\n",
      "\u001b[32m[1019 09:34:10 @monitor.py:467]\u001b[0m GAN_loss/gen/loss: 1.3429\n",
      "\u001b[32m[1019 09:34:10 @monitor.py:467]\u001b[0m QueueInput/queue_size: 50\n",
      "\u001b[32m[1019 09:34:10 @base.py:275]\u001b[0m Start Epoch 1490 ...\n"
     ]
    },
    {
     "name": "stderr",
     "output_type": "stream",
     "text": [
      "100%|###################################################################################|175/175[00:05<00:00,31.87it/s]"
     ]
    },
    {
     "name": "stdout",
     "output_type": "stream",
     "text": [
      "\u001b[32m[1019 09:34:15 @base.py:285]\u001b[0m Epoch 1490 (global_step 260750) finished, time:5.49 seconds.\n",
      "\u001b[32m[1019 09:34:15 @saver.py:79]\u001b[0m Model saved to ../output/Chicago/DATGAN_asd29/model\\model-260750.\n"
     ]
    },
    {
     "name": "stderr",
     "output_type": "stream",
     "text": [
      "\n"
     ]
    },
    {
     "name": "stdout",
     "output_type": "stream",
     "text": [
      "\u001b[32m[1019 09:34:15 @monitor.py:467]\u001b[0m GAN_loss/discrim/accuracy_fake: 0.804\n",
      "\u001b[32m[1019 09:34:15 @monitor.py:467]\u001b[0m GAN_loss/discrim/accuracy_real: 0.414\n",
      "\u001b[32m[1019 09:34:15 @monitor.py:467]\u001b[0m GAN_loss/discrim/loss: 0.61816\n",
      "\u001b[32m[1019 09:34:15 @monitor.py:467]\u001b[0m GAN_loss/gen/final-g-loss: 1.3799\n",
      "\u001b[32m[1019 09:34:15 @monitor.py:467]\u001b[0m GAN_loss/gen/klloss: 0.064967\n",
      "\u001b[32m[1019 09:34:15 @monitor.py:467]\u001b[0m GAN_loss/gen/loss: 1.3149\n",
      "\u001b[32m[1019 09:34:15 @monitor.py:467]\u001b[0m QueueInput/queue_size: 50\n",
      "\u001b[32m[1019 09:34:15 @base.py:275]\u001b[0m Start Epoch 1491 ...\n"
     ]
    },
    {
     "name": "stderr",
     "output_type": "stream",
     "text": [
      "100%|###################################################################################|175/175[00:05<00:00,31.87it/s]"
     ]
    },
    {
     "name": "stdout",
     "output_type": "stream",
     "text": [
      "\u001b[32m[1019 09:34:21 @base.py:285]\u001b[0m Epoch 1491 (global_step 260925) finished, time:5.49 seconds.\n",
      "\u001b[32m[1019 09:34:21 @saver.py:79]\u001b[0m Model saved to ../output/Chicago/DATGAN_asd29/model\\model-260925.\n"
     ]
    },
    {
     "name": "stderr",
     "output_type": "stream",
     "text": [
      "\n"
     ]
    },
    {
     "name": "stdout",
     "output_type": "stream",
     "text": [
      "\u001b[32m[1019 09:34:21 @monitor.py:467]\u001b[0m GAN_loss/discrim/accuracy_fake: 0.75\n",
      "\u001b[32m[1019 09:34:21 @monitor.py:467]\u001b[0m GAN_loss/discrim/accuracy_real: 0.404\n",
      "\u001b[32m[1019 09:34:21 @monitor.py:467]\u001b[0m GAN_loss/discrim/loss: 0.63078\n",
      "\u001b[32m[1019 09:34:21 @monitor.py:467]\u001b[0m GAN_loss/gen/final-g-loss: 1.4183\n",
      "\u001b[32m[1019 09:34:21 @monitor.py:467]\u001b[0m GAN_loss/gen/klloss: 0.093696\n",
      "\u001b[32m[1019 09:34:21 @monitor.py:467]\u001b[0m GAN_loss/gen/loss: 1.3246\n",
      "\u001b[32m[1019 09:34:21 @monitor.py:467]\u001b[0m QueueInput/queue_size: 50\n",
      "\u001b[32m[1019 09:34:21 @base.py:275]\u001b[0m Start Epoch 1492 ...\n"
     ]
    },
    {
     "name": "stderr",
     "output_type": "stream",
     "text": [
      "100%|###################################################################################|175/175[00:05<00:00,31.90it/s]"
     ]
    },
    {
     "name": "stdout",
     "output_type": "stream",
     "text": [
      "\u001b[32m[1019 09:34:27 @base.py:285]\u001b[0m Epoch 1492 (global_step 261100) finished, time:5.49 seconds.\n",
      "\u001b[32m[1019 09:34:27 @saver.py:79]\u001b[0m Model saved to ../output/Chicago/DATGAN_asd29/model\\model-261100.\n"
     ]
    },
    {
     "name": "stderr",
     "output_type": "stream",
     "text": [
      "\n"
     ]
    },
    {
     "name": "stdout",
     "output_type": "stream",
     "text": [
      "\u001b[32m[1019 09:34:27 @monitor.py:467]\u001b[0m GAN_loss/discrim/accuracy_fake: 0.798\n",
      "\u001b[32m[1019 09:34:27 @monitor.py:467]\u001b[0m GAN_loss/discrim/accuracy_real: 0.466\n",
      "\u001b[32m[1019 09:34:27 @monitor.py:467]\u001b[0m GAN_loss/discrim/loss: 0.5806\n",
      "\u001b[32m[1019 09:34:27 @monitor.py:467]\u001b[0m GAN_loss/gen/final-g-loss: 1.5672\n",
      "\u001b[32m[1019 09:34:27 @monitor.py:467]\u001b[0m GAN_loss/gen/klloss: 0.091406\n",
      "\u001b[32m[1019 09:34:27 @monitor.py:467]\u001b[0m GAN_loss/gen/loss: 1.4757\n",
      "\u001b[32m[1019 09:34:27 @monitor.py:467]\u001b[0m QueueInput/queue_size: 50\n",
      "\u001b[32m[1019 09:34:27 @base.py:275]\u001b[0m Start Epoch 1493 ...\n"
     ]
    },
    {
     "name": "stderr",
     "output_type": "stream",
     "text": [
      "100%|###################################################################################|175/175[00:05<00:00,31.88it/s]"
     ]
    },
    {
     "name": "stdout",
     "output_type": "stream",
     "text": [
      "\u001b[32m[1019 09:34:33 @base.py:285]\u001b[0m Epoch 1493 (global_step 261275) finished, time:5.49 seconds.\n",
      "\u001b[32m[1019 09:34:33 @saver.py:79]\u001b[0m Model saved to ../output/Chicago/DATGAN_asd29/model\\model-261275.\n"
     ]
    },
    {
     "name": "stderr",
     "output_type": "stream",
     "text": [
      "\n"
     ]
    },
    {
     "name": "stdout",
     "output_type": "stream",
     "text": [
      "\u001b[32m[1019 09:34:33 @monitor.py:467]\u001b[0m GAN_loss/discrim/accuracy_fake: 0.804\n",
      "\u001b[32m[1019 09:34:33 @monitor.py:467]\u001b[0m GAN_loss/discrim/accuracy_real: 0.44\n",
      "\u001b[32m[1019 09:34:33 @monitor.py:467]\u001b[0m GAN_loss/discrim/loss: 0.59192\n",
      "\u001b[32m[1019 09:34:33 @monitor.py:467]\u001b[0m GAN_loss/gen/final-g-loss: 1.5417\n",
      "\u001b[32m[1019 09:34:33 @monitor.py:467]\u001b[0m GAN_loss/gen/klloss: 0.087781\n",
      "\u001b[32m[1019 09:34:33 @monitor.py:467]\u001b[0m GAN_loss/gen/loss: 1.4539\n",
      "\u001b[32m[1019 09:34:33 @monitor.py:467]\u001b[0m QueueInput/queue_size: 50\n",
      "\u001b[32m[1019 09:34:33 @base.py:275]\u001b[0m Start Epoch 1494 ...\n"
     ]
    },
    {
     "name": "stderr",
     "output_type": "stream",
     "text": [
      "100%|###################################################################################|175/175[00:05<00:00,31.92it/s]"
     ]
    },
    {
     "name": "stdout",
     "output_type": "stream",
     "text": [
      "\u001b[32m[1019 09:34:38 @base.py:285]\u001b[0m Epoch 1494 (global_step 261450) finished, time:5.48 seconds.\n",
      "\u001b[32m[1019 09:34:39 @saver.py:79]\u001b[0m Model saved to ../output/Chicago/DATGAN_asd29/model\\model-261450.\n"
     ]
    },
    {
     "name": "stderr",
     "output_type": "stream",
     "text": [
      "\n"
     ]
    },
    {
     "name": "stdout",
     "output_type": "stream",
     "text": [
      "\u001b[32m[1019 09:34:39 @monitor.py:467]\u001b[0m GAN_loss/discrim/accuracy_fake: 0.798\n",
      "\u001b[32m[1019 09:34:39 @monitor.py:467]\u001b[0m GAN_loss/discrim/accuracy_real: 0.442\n",
      "\u001b[32m[1019 09:34:39 @monitor.py:467]\u001b[0m GAN_loss/discrim/loss: 0.6096\n",
      "\u001b[32m[1019 09:34:39 @monitor.py:467]\u001b[0m GAN_loss/gen/final-g-loss: 1.4819\n",
      "\u001b[32m[1019 09:34:39 @monitor.py:467]\u001b[0m GAN_loss/gen/klloss: 0.092987\n",
      "\u001b[32m[1019 09:34:39 @monitor.py:467]\u001b[0m GAN_loss/gen/loss: 1.389\n",
      "\u001b[32m[1019 09:34:39 @monitor.py:467]\u001b[0m QueueInput/queue_size: 50\n",
      "\u001b[32m[1019 09:34:39 @base.py:275]\u001b[0m Start Epoch 1495 ...\n"
     ]
    },
    {
     "name": "stderr",
     "output_type": "stream",
     "text": [
      "100%|###################################################################################|175/175[00:05<00:00,31.87it/s]"
     ]
    },
    {
     "name": "stdout",
     "output_type": "stream",
     "text": [
      "\u001b[32m[1019 09:34:44 @base.py:285]\u001b[0m Epoch 1495 (global_step 261625) finished, time:5.49 seconds.\n",
      "\u001b[32m[1019 09:34:44 @saver.py:79]\u001b[0m Model saved to ../output/Chicago/DATGAN_asd29/model\\model-261625.\n"
     ]
    },
    {
     "name": "stderr",
     "output_type": "stream",
     "text": [
      "\n"
     ]
    },
    {
     "name": "stdout",
     "output_type": "stream",
     "text": [
      "\u001b[32m[1019 09:34:45 @monitor.py:467]\u001b[0m GAN_loss/discrim/accuracy_fake: 0.79\n",
      "\u001b[32m[1019 09:34:45 @monitor.py:467]\u001b[0m GAN_loss/discrim/accuracy_real: 0.566\n",
      "\u001b[32m[1019 09:34:45 @monitor.py:467]\u001b[0m GAN_loss/discrim/loss: 0.56315\n",
      "\u001b[32m[1019 09:34:45 @monitor.py:467]\u001b[0m GAN_loss/gen/final-g-loss: 1.5607\n",
      "\u001b[32m[1019 09:34:45 @monitor.py:467]\u001b[0m GAN_loss/gen/klloss: 0.072408\n",
      "\u001b[32m[1019 09:34:45 @monitor.py:467]\u001b[0m GAN_loss/gen/loss: 1.4883\n",
      "\u001b[32m[1019 09:34:45 @monitor.py:467]\u001b[0m QueueInput/queue_size: 50\n",
      "\u001b[32m[1019 09:34:45 @base.py:275]\u001b[0m Start Epoch 1496 ...\n"
     ]
    },
    {
     "name": "stderr",
     "output_type": "stream",
     "text": [
      "100%|###################################################################################|175/175[00:05<00:00,31.90it/s]"
     ]
    },
    {
     "name": "stdout",
     "output_type": "stream",
     "text": [
      "\u001b[32m[1019 09:34:50 @base.py:285]\u001b[0m Epoch 1496 (global_step 261800) finished, time:5.49 seconds.\n",
      "\u001b[32m[1019 09:34:50 @saver.py:79]\u001b[0m Model saved to ../output/Chicago/DATGAN_asd29/model\\model-261800.\n"
     ]
    },
    {
     "name": "stderr",
     "output_type": "stream",
     "text": [
      "\n"
     ]
    },
    {
     "name": "stdout",
     "output_type": "stream",
     "text": [
      "\u001b[32m[1019 09:34:50 @monitor.py:467]\u001b[0m GAN_loss/discrim/accuracy_fake: 0.772\n",
      "\u001b[32m[1019 09:34:50 @monitor.py:467]\u001b[0m GAN_loss/discrim/accuracy_real: 0.504\n",
      "\u001b[32m[1019 09:34:50 @monitor.py:467]\u001b[0m GAN_loss/discrim/loss: 0.60941\n",
      "\u001b[32m[1019 09:34:50 @monitor.py:467]\u001b[0m GAN_loss/gen/final-g-loss: 1.4955\n",
      "\u001b[32m[1019 09:34:50 @monitor.py:467]\u001b[0m GAN_loss/gen/klloss: 0.086885\n",
      "\u001b[32m[1019 09:34:50 @monitor.py:467]\u001b[0m GAN_loss/gen/loss: 1.4087\n",
      "\u001b[32m[1019 09:34:50 @monitor.py:467]\u001b[0m QueueInput/queue_size: 50\n",
      "\u001b[32m[1019 09:34:50 @base.py:275]\u001b[0m Start Epoch 1497 ...\n"
     ]
    },
    {
     "name": "stderr",
     "output_type": "stream",
     "text": [
      "100%|###################################################################################|175/175[00:05<00:00,31.86it/s]"
     ]
    },
    {
     "name": "stdout",
     "output_type": "stream",
     "text": [
      "\u001b[32m[1019 09:34:56 @base.py:285]\u001b[0m Epoch 1497 (global_step 261975) finished, time:5.49 seconds.\n",
      "\u001b[32m[1019 09:34:56 @saver.py:79]\u001b[0m Model saved to ../output/Chicago/DATGAN_asd29/model\\model-261975.\n"
     ]
    },
    {
     "name": "stderr",
     "output_type": "stream",
     "text": [
      "\n"
     ]
    },
    {
     "name": "stdout",
     "output_type": "stream",
     "text": [
      "\u001b[32m[1019 09:34:56 @monitor.py:467]\u001b[0m GAN_loss/discrim/accuracy_fake: 0.836\n",
      "\u001b[32m[1019 09:34:56 @monitor.py:467]\u001b[0m GAN_loss/discrim/accuracy_real: 0.384\n",
      "\u001b[32m[1019 09:34:56 @monitor.py:467]\u001b[0m GAN_loss/discrim/loss: 0.58769\n",
      "\u001b[32m[1019 09:34:56 @monitor.py:467]\u001b[0m GAN_loss/gen/final-g-loss: 1.5844\n",
      "\u001b[32m[1019 09:34:56 @monitor.py:467]\u001b[0m GAN_loss/gen/klloss: 0.064256\n",
      "\u001b[32m[1019 09:34:56 @monitor.py:467]\u001b[0m GAN_loss/gen/loss: 1.5202\n",
      "\u001b[32m[1019 09:34:56 @monitor.py:467]\u001b[0m QueueInput/queue_size: 50\n",
      "\u001b[32m[1019 09:34:56 @base.py:275]\u001b[0m Start Epoch 1498 ...\n"
     ]
    },
    {
     "name": "stderr",
     "output_type": "stream",
     "text": [
      "100%|###################################################################################|175/175[00:05<00:00,31.92it/s]"
     ]
    },
    {
     "name": "stdout",
     "output_type": "stream",
     "text": [
      "\u001b[32m[1019 09:35:02 @base.py:285]\u001b[0m Epoch 1498 (global_step 262150) finished, time:5.48 seconds.\n",
      "\u001b[32m[1019 09:35:02 @saver.py:79]\u001b[0m Model saved to ../output/Chicago/DATGAN_asd29/model\\model-262150.\n"
     ]
    },
    {
     "name": "stderr",
     "output_type": "stream",
     "text": [
      "\n"
     ]
    },
    {
     "name": "stdout",
     "output_type": "stream",
     "text": [
      "\u001b[32m[1019 09:35:02 @monitor.py:467]\u001b[0m GAN_loss/discrim/accuracy_fake: 0.82\n",
      "\u001b[32m[1019 09:35:02 @monitor.py:467]\u001b[0m GAN_loss/discrim/accuracy_real: 0.418\n",
      "\u001b[32m[1019 09:35:02 @monitor.py:467]\u001b[0m GAN_loss/discrim/loss: 0.59997\n",
      "\u001b[32m[1019 09:35:02 @monitor.py:467]\u001b[0m GAN_loss/gen/final-g-loss: 1.5135\n",
      "\u001b[32m[1019 09:35:02 @monitor.py:467]\u001b[0m GAN_loss/gen/klloss: 0.074667\n",
      "\u001b[32m[1019 09:35:02 @monitor.py:467]\u001b[0m GAN_loss/gen/loss: 1.4389\n",
      "\u001b[32m[1019 09:35:02 @monitor.py:467]\u001b[0m QueueInput/queue_size: 50\n",
      "\u001b[32m[1019 09:35:02 @base.py:275]\u001b[0m Start Epoch 1499 ...\n"
     ]
    },
    {
     "name": "stderr",
     "output_type": "stream",
     "text": [
      "100%|###################################################################################|175/175[00:05<00:00,31.87it/s]"
     ]
    },
    {
     "name": "stdout",
     "output_type": "stream",
     "text": [
      "\u001b[32m[1019 09:35:08 @base.py:285]\u001b[0m Epoch 1499 (global_step 262325) finished, time:5.49 seconds.\n",
      "\u001b[32m[1019 09:35:08 @saver.py:79]\u001b[0m Model saved to ../output/Chicago/DATGAN_asd29/model\\model-262325.\n"
     ]
    },
    {
     "name": "stderr",
     "output_type": "stream",
     "text": [
      "\n"
     ]
    },
    {
     "name": "stdout",
     "output_type": "stream",
     "text": [
      "\u001b[32m[1019 09:35:08 @monitor.py:467]\u001b[0m GAN_loss/discrim/accuracy_fake: 0.778\n",
      "\u001b[32m[1019 09:35:08 @monitor.py:467]\u001b[0m GAN_loss/discrim/accuracy_real: 0.46\n",
      "\u001b[32m[1019 09:35:08 @monitor.py:467]\u001b[0m GAN_loss/discrim/loss: 0.59842\n",
      "\u001b[32m[1019 09:35:08 @monitor.py:467]\u001b[0m GAN_loss/gen/final-g-loss: 1.3812\n",
      "\u001b[32m[1019 09:35:08 @monitor.py:467]\u001b[0m GAN_loss/gen/klloss: 0.054696\n",
      "\u001b[32m[1019 09:35:08 @monitor.py:467]\u001b[0m GAN_loss/gen/loss: 1.3265\n",
      "\u001b[32m[1019 09:35:08 @monitor.py:467]\u001b[0m QueueInput/queue_size: 50\n",
      "\u001b[32m[1019 09:35:08 @base.py:275]\u001b[0m Start Epoch 1500 ...\n"
     ]
    },
    {
     "name": "stderr",
     "output_type": "stream",
     "text": [
      "100%|###################################################################################|175/175[00:05<00:00,31.92it/s]"
     ]
    },
    {
     "name": "stdout",
     "output_type": "stream",
     "text": [
      "\u001b[32m[1019 09:35:13 @base.py:285]\u001b[0m Epoch 1500 (global_step 262500) finished, time:5.48 seconds.\n",
      "\u001b[32m[1019 09:35:13 @saver.py:79]\u001b[0m Model saved to ../output/Chicago/DATGAN_asd29/model\\model-262500.\n"
     ]
    },
    {
     "name": "stderr",
     "output_type": "stream",
     "text": [
      "\n"
     ]
    },
    {
     "name": "stdout",
     "output_type": "stream",
     "text": [
      "\u001b[32m[1019 09:35:14 @monitor.py:467]\u001b[0m GAN_loss/discrim/accuracy_fake: 0.838\n",
      "\u001b[32m[1019 09:35:14 @monitor.py:467]\u001b[0m GAN_loss/discrim/accuracy_real: 0.398\n",
      "\u001b[32m[1019 09:35:14 @monitor.py:467]\u001b[0m GAN_loss/discrim/loss: 0.61812\n",
      "\u001b[32m[1019 09:35:14 @monitor.py:467]\u001b[0m GAN_loss/gen/final-g-loss: 1.4111\n",
      "\u001b[32m[1019 09:35:14 @monitor.py:467]\u001b[0m GAN_loss/gen/klloss: 0.070776\n",
      "\u001b[32m[1019 09:35:14 @monitor.py:467]\u001b[0m GAN_loss/gen/loss: 1.3403\n",
      "\u001b[32m[1019 09:35:14 @monitor.py:467]\u001b[0m QueueInput/queue_size: 50\n",
      "\u001b[32m[1019 09:35:14 @base.py:289]\u001b[0m Training has finished!\n",
      "WARNING:tensorflow:From D:\\Users\\glede\\anaconda3\\envs\\py37\\lib\\site-packages\\tensorpack\\predict\\config.py:101: The name tf.train.ChiefSessionCreator is deprecated. Please use tf.compat.v1.train.ChiefSessionCreator instead.\n",
      "\n",
      "\u001b[32m[1019 09:35:14 @graph.py:277]\u001b[0m \u001b[91mCreating cell for age (in-edges: 0)\n",
      "\u001b[32m[1019 09:35:14 @graph.py:277]\u001b[0m \u001b[91mCreating cell for gender (in-edges: 0)\n",
      "\u001b[32m[1019 09:35:14 @graph.py:277]\u001b[0m \u001b[91mCreating cell for travel_dow (in-edges: 0)\n",
      "\u001b[32m[1019 09:35:14 @graph.py:277]\u001b[0m \u001b[91mCreating cell for license (in-edges: 1)\n",
      "\u001b[32m[1019 09:35:14 @graph.py:277]\u001b[0m \u001b[91mCreating cell for education_level (in-edges: 1)\n",
      "\u001b[32m[1019 09:35:14 @graph.py:277]\u001b[0m \u001b[91mCreating cell for work_status (in-edges: 2)\n",
      "\u001b[32m[1019 09:35:14 @graph.py:277]\u001b[0m \u001b[91mCreating cell for hh_income (in-edges: 2)\n",
      "\u001b[32m[1019 09:35:14 @graph.py:277]\u001b[0m \u001b[91mCreating cell for trip_purpose (in-edges: 1)\n",
      "\u001b[32m[1019 09:35:14 @graph.py:277]\u001b[0m \u001b[91mCreating cell for hh_descr (in-edges: 2)\n",
      "\u001b[32m[1019 09:35:14 @graph.py:277]\u001b[0m \u001b[91mCreating cell for hh_size (in-edges: 3)\n",
      "\u001b[32m[1019 09:35:14 @graph.py:277]\u001b[0m \u001b[91mCreating cell for departure_time (in-edges: 1)\n",
      "\u001b[32m[1019 09:35:15 @graph.py:277]\u001b[0m \u001b[91mCreating cell for distance (in-edges: 1)\n",
      "\u001b[32m[1019 09:35:15 @graph.py:277]\u001b[0m \u001b[91mCreating cell for hh_vehicles (in-edges: 2)\n",
      "\u001b[32m[1019 09:35:15 @graph.py:277]\u001b[0m \u001b[91mCreating cell for hh_bikes (in-edges: 2)\n",
      "\u001b[32m[1019 09:35:15 @graph.py:277]\u001b[0m \u001b[91mCreating cell for choice (in-edges: 7)\n",
      "WARNING:tensorflow:From D:\\Users\\glede\\anaconda3\\envs\\py37\\lib\\site-packages\\tensorpack\\tfutils\\collection.py:45: The name tf.get_collection_ref is deprecated. Please use tf.compat.v1.get_collection_ref instead.\n",
      "\n",
      "\u001b[32m[1019 09:35:15 @input_source.py:178]\u001b[0m EnqueueThread QueueInput/input_queue Exited.\n",
      "\u001b[32m[1019 09:35:15 @collection.py:146]\u001b[0m New collections created in tower : tf.GraphKeys.REGULARIZATION_LOSSES\n",
      "\u001b[32m[1019 09:35:15 @collection.py:165]\u001b[0m These collections were modified but restored in : (tf.GraphKeys.SUMMARIES: 0->2)\n",
      "\u001b[32m[1019 09:35:15 @sessinit.py:87]\u001b[0m \u001b[5m\u001b[31mWRN\u001b[0m The following variables are in the checkpoint, but not found in the graph: global_step, optimize/beta1_power, optimize/beta2_power\n",
      "INFO:tensorflow:Graph was finalized.\n",
      "INFO:tensorflow:Running local_init_op.\n",
      "INFO:tensorflow:Done running local_init_op.\n",
      "\u001b[32m[1019 09:35:16 @sessinit.py:114]\u001b[0m Restoring checkpoint from ../output/Chicago/DATGAN_asd29/model\\model-262500 ...\n",
      "INFO:tensorflow:Restoring parameters from ../output/Chicago/DATGAN_asd29/model\\model-262500\n"
     ]
    }
   ],
   "source": [
    "test = datgan.fit(df, graph)"
   ]
  },
  {
   "cell_type": "code",
   "execution_count": 12,
   "metadata": {},
   "outputs": [
    {
     "name": "stdout",
     "output_type": "stream",
     "text": [
      "\u001b[32m[1019 09:35:50 @model.py:352]\u001b[0m Model saved successfully.\n"
     ]
    }
   ],
   "source": [
    "datgan.save('trained', force=True)"
   ]
  },
  {
   "cell_type": "code",
   "execution_count": 13,
   "metadata": {},
   "outputs": [],
   "source": [
    "beepy.beep(6)"
   ]
  }
 ],
 "metadata": {
  "kernelspec": {
   "display_name": "Python 3",
   "language": "python",
   "name": "python3"
  },
  "language_info": {
   "codemirror_mode": {
    "name": "ipython",
    "version": 3
   },
   "file_extension": ".py",
   "mimetype": "text/x-python",
   "name": "python",
   "nbconvert_exporter": "python",
   "pygments_lexer": "ipython3",
   "version": "3.7.9"
  }
 },
 "nbformat": 4,
 "nbformat_minor": 2
}
