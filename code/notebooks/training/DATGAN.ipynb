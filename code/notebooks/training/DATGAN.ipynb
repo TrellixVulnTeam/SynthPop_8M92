{
 "cells": [
  {
   "cell_type": "code",
   "execution_count": 1,
   "metadata": {},
   "outputs": [],
   "source": [
    "import os\n",
    "os.chdir('../..')"
   ]
  },
  {
   "cell_type": "code",
   "execution_count": 2,
   "metadata": {},
   "outputs": [
    {
     "name": "stdout",
     "output_type": "stream",
     "text": [
      "3.7.9\n"
     ]
    }
   ],
   "source": [
    "from platform import python_version\n",
    "print(python_version())"
   ]
  },
  {
   "cell_type": "code",
   "execution_count": 3,
   "metadata": {},
   "outputs": [
    {
     "name": "stdout",
     "output_type": "stream",
     "text": [
      "WARNING:tensorflow:From D:\\Users\\glede\\anaconda3\\envs\\py37\\lib\\site-packages\\tensorpack\\callbacks\\hooks.py:17: The name tf.train.SessionRunHook is deprecated. Please use tf.estimator.SessionRunHook instead.\n",
      "\n",
      "WARNING:tensorflow:From D:\\Users\\glede\\anaconda3\\envs\\py37\\lib\\site-packages\\tensorpack\\tfutils\\optimizer.py:18: The name tf.train.Optimizer is deprecated. Please use tf.compat.v1.train.Optimizer instead.\n",
      "\n",
      "WARNING:tensorflow:From D:\\Users\\glede\\anaconda3\\envs\\py37\\lib\\site-packages\\tensorpack\\tfutils\\sesscreate.py:20: The name tf.train.SessionCreator is deprecated. Please use tf.compat.v1.train.SessionCreator instead.\n",
      "\n"
     ]
    }
   ],
   "source": [
    "import numpy as np\n",
    "import pandas as pd\n",
    "\n",
    "import tensorflow as tf\n",
    "\n",
    "import matplotlib.pyplot as plt\n",
    "\n",
    "from modules.datgan_preLSTM.model import DATGAN\n",
    "#from modules.datgan_no_att.model import DATGAN\n",
    "import networkx as nx\n",
    "\n",
    "# For the Python notebook\n",
    "%matplotlib inline\n",
    "%reload_ext autoreload\n",
    "%autoreload 2"
   ]
  },
  {
   "cell_type": "code",
   "execution_count": 4,
   "metadata": {},
   "outputs": [],
   "source": [
    "dataset = 'LPMC'"
   ]
  },
  {
   "cell_type": "code",
   "execution_count": 5,
   "metadata": {},
   "outputs": [],
   "source": [
    "df = pd.read_csv('../data/{}/data.csv'.format(dataset), index_col=False)"
   ]
  },
  {
   "cell_type": "code",
   "execution_count": 6,
   "metadata": {},
   "outputs": [
    {
     "data": {
      "text/html": [
       "<div>\n",
       "<style scoped>\n",
       "    .dataframe tbody tr th:only-of-type {\n",
       "        vertical-align: middle;\n",
       "    }\n",
       "\n",
       "    .dataframe tbody tr th {\n",
       "        vertical-align: top;\n",
       "    }\n",
       "\n",
       "    .dataframe thead th {\n",
       "        text-align: right;\n",
       "    }\n",
       "</style>\n",
       "<table border=\"1\" class=\"dataframe\">\n",
       "  <thead>\n",
       "    <tr style=\"text-align: right;\">\n",
       "      <th></th>\n",
       "      <th>travel_mode</th>\n",
       "      <th>purpose</th>\n",
       "      <th>fueltype</th>\n",
       "      <th>faretype</th>\n",
       "      <th>bus_scale</th>\n",
       "      <th>survey_year</th>\n",
       "      <th>travel_year</th>\n",
       "      <th>travel_month</th>\n",
       "      <th>travel_date</th>\n",
       "      <th>day_of_week</th>\n",
       "      <th>...</th>\n",
       "      <th>dur_pt_access</th>\n",
       "      <th>dur_pt_rail</th>\n",
       "      <th>dur_pt_bus</th>\n",
       "      <th>dur_pt_int</th>\n",
       "      <th>pt_n_interchanges</th>\n",
       "      <th>dur_driving</th>\n",
       "      <th>cost_transit</th>\n",
       "      <th>cost_driving_fuel</th>\n",
       "      <th>cost_driving_con_charge</th>\n",
       "      <th>driving_traffic_percent</th>\n",
       "    </tr>\n",
       "  </thead>\n",
       "  <tbody>\n",
       "    <tr>\n",
       "      <th>0</th>\n",
       "      <td>drive</td>\n",
       "      <td>HBO</td>\n",
       "      <td>Petrol_Car</td>\n",
       "      <td>full</td>\n",
       "      <td>1.0</td>\n",
       "      <td>1</td>\n",
       "      <td>2012</td>\n",
       "      <td>4</td>\n",
       "      <td>1</td>\n",
       "      <td>7</td>\n",
       "      <td>...</td>\n",
       "      <td>0.134444</td>\n",
       "      <td>0.0</td>\n",
       "      <td>0.016667</td>\n",
       "      <td>0.0</td>\n",
       "      <td>0</td>\n",
       "      <td>0.052222</td>\n",
       "      <td>1.5</td>\n",
       "      <td>0.14</td>\n",
       "      <td>0.0</td>\n",
       "      <td>0.111702</td>\n",
       "    </tr>\n",
       "    <tr>\n",
       "      <th>1</th>\n",
       "      <td>drive</td>\n",
       "      <td>HBO</td>\n",
       "      <td>Petrol_Car</td>\n",
       "      <td>full</td>\n",
       "      <td>1.0</td>\n",
       "      <td>1</td>\n",
       "      <td>2012</td>\n",
       "      <td>4</td>\n",
       "      <td>1</td>\n",
       "      <td>7</td>\n",
       "      <td>...</td>\n",
       "      <td>0.109444</td>\n",
       "      <td>0.0</td>\n",
       "      <td>0.055556</td>\n",
       "      <td>0.0</td>\n",
       "      <td>0</td>\n",
       "      <td>0.059444</td>\n",
       "      <td>1.5</td>\n",
       "      <td>0.15</td>\n",
       "      <td>0.0</td>\n",
       "      <td>0.112150</td>\n",
       "    </tr>\n",
       "    <tr>\n",
       "      <th>2</th>\n",
       "      <td>drive</td>\n",
       "      <td>HBO</td>\n",
       "      <td>Petrol_Car</td>\n",
       "      <td>full</td>\n",
       "      <td>1.0</td>\n",
       "      <td>1</td>\n",
       "      <td>2012</td>\n",
       "      <td>4</td>\n",
       "      <td>1</td>\n",
       "      <td>7</td>\n",
       "      <td>...</td>\n",
       "      <td>0.203056</td>\n",
       "      <td>0.0</td>\n",
       "      <td>0.210278</td>\n",
       "      <td>0.0</td>\n",
       "      <td>0</td>\n",
       "      <td>0.236667</td>\n",
       "      <td>1.5</td>\n",
       "      <td>0.79</td>\n",
       "      <td>0.0</td>\n",
       "      <td>0.203052</td>\n",
       "    </tr>\n",
       "    <tr>\n",
       "      <th>3</th>\n",
       "      <td>drive</td>\n",
       "      <td>HBO</td>\n",
       "      <td>Petrol_Car</td>\n",
       "      <td>full</td>\n",
       "      <td>1.0</td>\n",
       "      <td>1</td>\n",
       "      <td>2012</td>\n",
       "      <td>4</td>\n",
       "      <td>1</td>\n",
       "      <td>7</td>\n",
       "      <td>...</td>\n",
       "      <td>0.205556</td>\n",
       "      <td>0.0</td>\n",
       "      <td>0.258611</td>\n",
       "      <td>0.0</td>\n",
       "      <td>0</td>\n",
       "      <td>0.233333</td>\n",
       "      <td>1.5</td>\n",
       "      <td>0.78</td>\n",
       "      <td>0.0</td>\n",
       "      <td>0.160714</td>\n",
       "    </tr>\n",
       "    <tr>\n",
       "      <th>4</th>\n",
       "      <td>drive</td>\n",
       "      <td>HBO</td>\n",
       "      <td>Petrol_Car</td>\n",
       "      <td>dis</td>\n",
       "      <td>1.0</td>\n",
       "      <td>1</td>\n",
       "      <td>2012</td>\n",
       "      <td>4</td>\n",
       "      <td>1</td>\n",
       "      <td>7</td>\n",
       "      <td>...</td>\n",
       "      <td>0.203056</td>\n",
       "      <td>0.0</td>\n",
       "      <td>0.189444</td>\n",
       "      <td>0.0</td>\n",
       "      <td>0</td>\n",
       "      <td>0.229167</td>\n",
       "      <td>1.5</td>\n",
       "      <td>0.78</td>\n",
       "      <td>0.0</td>\n",
       "      <td>0.130909</td>\n",
       "    </tr>\n",
       "  </tbody>\n",
       "</table>\n",
       "<p>5 rows × 28 columns</p>\n",
       "</div>"
      ],
      "text/plain": [
       "  travel_mode purpose    fueltype faretype  bus_scale  survey_year  \\\n",
       "0       drive     HBO  Petrol_Car     full        1.0            1   \n",
       "1       drive     HBO  Petrol_Car     full        1.0            1   \n",
       "2       drive     HBO  Petrol_Car     full        1.0            1   \n",
       "3       drive     HBO  Petrol_Car     full        1.0            1   \n",
       "4       drive     HBO  Petrol_Car      dis        1.0            1   \n",
       "\n",
       "   travel_year  travel_month  travel_date  day_of_week  ...  dur_pt_access  \\\n",
       "0         2012             4            1            7  ...       0.134444   \n",
       "1         2012             4            1            7  ...       0.109444   \n",
       "2         2012             4            1            7  ...       0.203056   \n",
       "3         2012             4            1            7  ...       0.205556   \n",
       "4         2012             4            1            7  ...       0.203056   \n",
       "\n",
       "   dur_pt_rail  dur_pt_bus  dur_pt_int  pt_n_interchanges  dur_driving  \\\n",
       "0          0.0    0.016667         0.0                  0     0.052222   \n",
       "1          0.0    0.055556         0.0                  0     0.059444   \n",
       "2          0.0    0.210278         0.0                  0     0.236667   \n",
       "3          0.0    0.258611         0.0                  0     0.233333   \n",
       "4          0.0    0.189444         0.0                  0     0.229167   \n",
       "\n",
       "   cost_transit  cost_driving_fuel  cost_driving_con_charge  \\\n",
       "0           1.5               0.14                      0.0   \n",
       "1           1.5               0.15                      0.0   \n",
       "2           1.5               0.79                      0.0   \n",
       "3           1.5               0.78                      0.0   \n",
       "4           1.5               0.78                      0.0   \n",
       "\n",
       "   driving_traffic_percent  \n",
       "0                 0.111702  \n",
       "1                 0.112150  \n",
       "2                 0.203052  \n",
       "3                 0.160714  \n",
       "4                 0.130909  \n",
       "\n",
       "[5 rows x 28 columns]"
      ]
     },
     "execution_count": 6,
     "metadata": {},
     "output_type": "execute_result"
    }
   ],
   "source": [
    "df.head()"
   ]
  },
  {
   "cell_type": "code",
   "execution_count": 7,
   "metadata": {},
   "outputs": [],
   "source": [
    "if dataset is 'Chicago':\n",
    "    continuous_columns = [\"distance\", \"age\", \"departure_time\"]\n",
    "elif dataset is 'LPMC':\n",
    "    continuous_columns = ['start_time_linear', 'age', 'distance', 'dur_walking', 'dur_cycling', 'dur_pt_access', 'dur_pt_rail', 'dur_pt_bus', 'dur_pt_int', 'dur_driving', 'cost_transit', 'cost_driving_fuel', 'driving_traffic_percent']"
   ]
  },
  {
   "cell_type": "code",
   "execution_count": 8,
   "metadata": {},
   "outputs": [],
   "source": [
    "# personalised graph\n",
    "graph = nx.DiGraph()\n",
    "\n",
    "if dataset is 'Chicago':\n",
    "    graph.add_edges_from([\n",
    "        (\"age\", \"license\"),\n",
    "        (\"age\", \"education_level\"),\n",
    "        (\"gender\", \"work_status\"),\n",
    "        (\"education_level\", \"work_status\"),\n",
    "        (\"work_status\", \"hh_income\"),\n",
    "        (\"education_level\", \"hh_income\"),\n",
    "        (\"hh_income\", \"hh_descr\"),\n",
    "        (\"hh_income\", \"hh_size\"),\n",
    "        (\"hh_size\", \"hh_vehicles\"),\n",
    "        (\"hh_size\", \"hh_bikes\"),\n",
    "        (\"work_status\", \"trip_purpose\"),\n",
    "        (\"trip_purpose\", \"departure_time\"),\n",
    "        (\"trip_purpose\", \"distance\"),\n",
    "        (\"travel_dow\", \"choice\"),\n",
    "        (\"distance\", \"choice\"),\n",
    "        (\"departure_time\", \"choice\"),\n",
    "        (\"hh_vehicles\", \"choice\"),\n",
    "        (\"hh_bikes\", \"choice\"),\n",
    "        (\"license\", \"choice\"),\n",
    "        # Non necessary links\n",
    "        (\"education_level\", \"hh_size\"),\n",
    "        (\"work_status\", \"hh_descr\"),\n",
    "        (\"work_status\", \"hh_size\"),\n",
    "        (\"hh_income\", \"hh_bikes\"),\n",
    "        (\"hh_income\", \"hh_vehicles\"),\n",
    "        (\"trip_purpose\", \"choice\")\n",
    "    ])\n",
    "elif dataset is 'LPMC':\n",
    "    graph.add_edges_from([\n",
    "        (\"travel_year\", \"survey_year\"),\n",
    "        (\"travel_date\", \"day_of_week\"),\n",
    "        (\"day_of_week\", \"purpose\"),\n",
    "        (\"purpose\", \"start_time_linear\"),\n",
    "        (\"purpose\", \"cost_driving_con_charge\"),\n",
    "        (\"purpose\", \"distance\"),\n",
    "        (\"day_of_week\", \"driving_traffic_percent\"),\n",
    "        (\"day_of_week\", \"cost_driving_con_charge\"),\n",
    "        (\"start_time_linear\", \"driving_traffic_percent\"),\n",
    "        (\"start_time_linear\", \"cost_driving_con_charge\"),\n",
    "        (\"driving_traffic_percent\", \"cost_driving_con_charge\"),\n",
    "        (\"female\", \"driving_license\"),\n",
    "        (\"age\", \"bus_scale\"),\n",
    "        (\"age\", \"car_ownership\"),\n",
    "        (\"age\", \"driving_license\"),\n",
    "        (\"age\", \"faretype\"),\n",
    "        (\"driving_license\", \"car_ownership\"),\n",
    "        (\"car_ownership\", \"fueltype\"),\n",
    "        (\"fueltype\", \"cost_driving_con_charge\"),\n",
    "        (\"fueltype\", \"cost_driving_fuel\"),\n",
    "        (\"distance\", \"cost_driving_fuel\"),\n",
    "        (\"distance\", \"dur_driving\"),\n",
    "        (\"distance\", \"dur_walking\"),\n",
    "        (\"distance\", \"dur_cycling\"),\n",
    "        (\"distance\", \"dur_pt_access\"),\n",
    "        (\"distance\", \"dur_pt_rail\"),\n",
    "        (\"distance\", \"dur_pt_bus\"),\n",
    "        (\"distance\", \"dur_pt_int\"),\n",
    "        (\"dur_pt_bus\", \"cost_transit\"),\n",
    "        (\"dur_pt_rail\", \"cost_transit\"),\n",
    "        (\"pt_n_interchanges\", \"dur_pt_int\"),\n",
    "        (\"pt_n_interchanges\", \"cost_transit\"),\n",
    "        (\"faretype\", \"cost_transit\"),\n",
    "        (\"bus_scale\", \"cost_transit\"),\n",
    "        (\"car_ownership\", \"travel_mode\"),\n",
    "        (\"age\", \"travel_mode\"),\n",
    "        (\"cost_driving_con_charge\", \"travel_mode\"),\n",
    "        (\"driving_traffic_percent\", \"travel_mode\"),\n",
    "        (\"female\", \"travel_mode\"),\n",
    "        (\"purpose\", \"travel_mode\"),\n",
    "        (\"cost_transit\", \"travel_mode\"),\n",
    "        (\"cost_driving_fuel\", \"travel_mode\"),\n",
    "        (\"dur_driving\", \"travel_mode\"),\n",
    "        (\"dur_walking\", \"travel_mode\"),\n",
    "        (\"dur_cycling\", \"travel_mode\"),\n",
    "        (\"dur_pt_access\", \"travel_mode\"),\n",
    "        (\"dur_pt_rail\", \"travel_mode\"),\n",
    "        (\"dur_pt_bus\", \"travel_mode\"),\n",
    "        (\"dur_pt_int\", \"travel_mode\")\n",
    "    ])\n",
    "    graph.add_node(\"travel_month\")"
   ]
  },
  {
   "cell_type": "code",
   "execution_count": 9,
   "metadata": {},
   "outputs": [],
   "source": [
    "output_folder = '../output/' + dataset + '/DATGAN/'"
   ]
  },
  {
   "cell_type": "code",
   "execution_count": 10,
   "metadata": {},
   "outputs": [],
   "source": [
    "datgan = DATGAN(continuous_columns, max_epoch=1000, steps_per_epoch=2000, batch_size=200, output=output_folder, gpu=0)"
   ]
  },
  {
   "cell_type": "code",
   "execution_count": null,
   "metadata": {
    "scrolled": true
   },
   "outputs": [
    {
     "name": "stdout",
     "output_type": "stream",
     "text": [
      "WARNING:tensorflow:From D:\\Users\\glede\\anaconda3\\envs\\py37\\lib\\site-packages\\tensorpack\\graph_builder\\model_desc.py:29: The name tf.get_default_graph is deprecated. Please use tf.compat.v1.get_default_graph instead.\n",
      "\n",
      "WARNING:tensorflow:From D:\\Users\\glede\\anaconda3\\envs\\py37\\lib\\site-packages\\tensorpack\\graph_builder\\model_desc.py:39: The name tf.placeholder is deprecated. Please use tf.compat.v1.placeholder instead.\n",
      "\n",
      "WARNING:tensorflow:From D:\\Users\\glede\\anaconda3\\envs\\py37\\lib\\site-packages\\tensorpack\\input_source\\input_source.py:219: The name tf.FIFOQueue is deprecated. Please use tf.queue.FIFOQueue instead.\n",
      "\n",
      "\u001b[32m[0922 08:43:07 @input_source.py:222]\u001b[0m Setting up the queue 'QueueInput/input_queue' for CPU prefetching ...\n",
      "WARNING:tensorflow:From D:\\Users\\glede\\anaconda3\\envs\\py37\\lib\\site-packages\\tensorpack\\tfutils\\summary.py:237: The name tf.get_variable_scope is deprecated. Please use tf.compat.v1.get_variable_scope instead.\n",
      "\n",
      "WARNING:tensorflow:From D:\\Users\\glede\\anaconda3\\envs\\py37\\lib\\site-packages\\tensorpack\\tfutils\\summary.py:27: The name tf.variable_scope is deprecated. Please use tf.compat.v1.variable_scope instead.\n",
      "\n",
      "WARNING:tensorflow:From D:\\Users\\glede\\anaconda3\\envs\\py37\\lib\\site-packages\\tensorpack\\tfutils\\summary.py:254: The name tf.get_variable is deprecated. Please use tf.compat.v1.get_variable instead.\n",
      "\n",
      "WARNING:tensorflow:From D:\\Users\\glede\\anaconda3\\envs\\py37\\lib\\site-packages\\tensorpack\\tfutils\\summary.py:264: The name tf.summary.scalar is deprecated. Please use tf.compat.v1.summary.scalar instead.\n",
      "\n",
      "WARNING:tensorflow:From D:\\Users\\glede\\anaconda3\\envs\\py37\\lib\\site-packages\\tensorpack\\tfutils\\collection.py:105: The name tf.GraphKeys is deprecated. Please use tf.compat.v1.GraphKeys instead.\n",
      "\n",
      "WARNING:tensorflow:From D:\\Users\\glede\\anaconda3\\envs\\py37\\lib\\site-packages\\tensorpack\\tfutils\\collection.py:33: The name tf.get_collection is deprecated. Please use tf.compat.v1.get_collection instead.\n",
      "\n",
      "WARNING:tensorflow:From C:\\Users\\glede\\Documents\\EPFL\\PhD\\SynthPop\\code\\modules\\datgan_preLSTM\\model.py:620: The name tf.random_normal is deprecated. Please use tf.random.normal instead.\n",
      "\n",
      "WARNING:tensorflow:From C:\\Users\\glede\\Documents\\EPFL\\PhD\\SynthPop\\code\\modules\\datgan_preLSTM\\model.py:623: The name tf.placeholder_with_default is deprecated. Please use tf.compat.v1.placeholder_with_default instead.\n",
      "\n",
      "WARNING:tensorflow:From C:\\Users\\glede\\Documents\\EPFL\\PhD\\SynthPop\\code\\modules\\datgan_preLSTM\\model.py:283: LSTMCell.__init__ (from tensorflow.python.ops.rnn_cell_impl) is deprecated and will be removed in a future version.\n",
      "Instructions for updating:\n",
      "This class is equivalent as tf.keras.layers.LSTMCell, and will be replaced by that in Tensorflow 2.0.\n",
      "\u001b[91m-> Creating cell for travel_year (in-edges: 0)\n",
      "WARNING:tensorflow:From D:\\Users\\glede\\anaconda3\\envs\\py37\\lib\\site-packages\\tensorflow_core\\python\\ops\\rnn_cell_impl.py:958: Layer.add_variable (from tensorflow.python.keras.engine.base_layer) is deprecated and will be removed in a future version.\n",
      "Instructions for updating:\n",
      "Please use `layer.add_weight` method instead.\n",
      "WARNING:tensorflow:From D:\\Users\\glede\\anaconda3\\envs\\py37\\lib\\site-packages\\tensorflow_core\\python\\ops\\rnn_cell_impl.py:962: calling Zeros.__init__ (from tensorflow.python.ops.init_ops) with dtype is deprecated and will be removed in a future version.\n",
      "Instructions for updating:\n",
      "Call initializer instance with the dtype argument instead of passing it to the constructor\n",
      "\u001b[32m[0922 08:43:07 @registry.py:126]\u001b[0m gen/LSTM/00/FC input: [200, 100]\n",
      "WARNING:tensorflow:From D:\\Users\\glede\\anaconda3\\envs\\py37\\lib\\site-packages\\tensorpack\\models\\fc.py:57: The name tf.layers.Dense is deprecated. Please use tf.compat.v1.layers.Dense instead.\n",
      "\n",
      "WARNING:tensorflow:From D:\\Users\\glede\\anaconda3\\envs\\py37\\lib\\site-packages\\tensorpack\\models\\fc.py:67: Layer.apply (from tensorflow.python.keras.engine.base_layer) is deprecated and will be removed in a future version.\n",
      "Instructions for updating:\n",
      "Please use `layer.__call__` method instead.\n",
      "\u001b[32m[0922 08:43:07 @registry.py:134]\u001b[0m gen/LSTM/00/FC output: [200, 100]\n",
      "\u001b[32m[0922 08:43:07 @registry.py:126]\u001b[0m gen/LSTM/00/FC2 input: [200, 100]\n",
      "\u001b[32m[0922 08:43:07 @registry.py:134]\u001b[0m gen/LSTM/00/FC2 output: [200, 4]\n",
      "\u001b[32m[0922 08:43:07 @registry.py:126]\u001b[0m gen/LSTM/00/FC3 input: [200, 4]\n",
      "\u001b[32m[0922 08:43:07 @registry.py:134]\u001b[0m gen/LSTM/00/FC3 output: [200, 100]\n",
      "\u001b[91m-> Creating cell for travel_date (in-edges: 0)\n",
      "\u001b[32m[0922 08:43:08 @registry.py:126]\u001b[0m gen/LSTM/01/FC input: [200, 100]\n",
      "\u001b[32m[0922 08:43:08 @registry.py:134]\u001b[0m gen/LSTM/01/FC output: [200, 100]\n",
      "\u001b[32m[0922 08:43:08 @registry.py:126]\u001b[0m gen/LSTM/01/FC2 input: [200, 100]\n",
      "\u001b[32m[0922 08:43:08 @registry.py:134]\u001b[0m gen/LSTM/01/FC2 output: [200, 31]\n",
      "\u001b[32m[0922 08:43:08 @registry.py:126]\u001b[0m gen/LSTM/01/FC3 input: [200, 31]\n",
      "\u001b[32m[0922 08:43:08 @registry.py:134]\u001b[0m gen/LSTM/01/FC3 output: [200, 100]\n",
      "\u001b[91m-> Creating cell for female (in-edges: 0)\n",
      "\u001b[32m[0922 08:43:08 @registry.py:126]\u001b[0m gen/LSTM/02/FC input: [200, 100]\n",
      "\u001b[32m[0922 08:43:08 @registry.py:134]\u001b[0m gen/LSTM/02/FC output: [200, 100]\n",
      "\u001b[32m[0922 08:43:08 @registry.py:126]\u001b[0m gen/LSTM/02/FC2 input: [200, 100]\n",
      "\u001b[32m[0922 08:43:08 @registry.py:134]\u001b[0m gen/LSTM/02/FC2 output: [200, 2]\n",
      "\u001b[32m[0922 08:43:08 @registry.py:126]\u001b[0m gen/LSTM/02/FC3 input: [200, 2]\n",
      "\u001b[32m[0922 08:43:08 @registry.py:134]\u001b[0m gen/LSTM/02/FC3 output: [200, 100]\n",
      "\u001b[91m-> Creating cell for age (in-edges: 0)\n",
      "\u001b[32m[0922 08:43:08 @registry.py:126]\u001b[0m gen/LSTM/03/FC input: [200, 100]\n",
      "\u001b[32m[0922 08:43:08 @registry.py:134]\u001b[0m gen/LSTM/03/FC output: [200, 100]\n",
      "\u001b[32m[0922 08:43:08 @registry.py:126]\u001b[0m gen/LSTM/03/FC2 input: [200, 100]\n",
      "\u001b[32m[0922 08:43:08 @registry.py:134]\u001b[0m gen/LSTM/03/FC2 output: [200, 1]\n",
      "\u001b[32m[0922 08:43:08 @registry.py:126]\u001b[0m gen/LSTM/04/FC input: [200, 100]\n",
      "\u001b[32m[0922 08:43:08 @registry.py:134]\u001b[0m gen/LSTM/04/FC output: [200, 100]\n",
      "\u001b[32m[0922 08:43:08 @registry.py:126]\u001b[0m gen/LSTM/04/FC2 input: [200, 100]\n",
      "\u001b[32m[0922 08:43:08 @registry.py:134]\u001b[0m gen/LSTM/04/FC2 output: [200, 5]\n",
      "\u001b[32m[0922 08:43:08 @registry.py:126]\u001b[0m gen/LSTM/04/FC3 input: [200, 5]\n",
      "\u001b[32m[0922 08:43:08 @registry.py:134]\u001b[0m gen/LSTM/04/FC3 output: [200, 100]\n",
      "\u001b[91m-> Creating cell for pt_n_interchanges (in-edges: 0)\n",
      "\u001b[32m[0922 08:43:08 @registry.py:126]\u001b[0m gen/LSTM/05/FC input: [200, 100]\n",
      "\u001b[32m[0922 08:43:08 @registry.py:134]\u001b[0m gen/LSTM/05/FC output: [200, 100]\n",
      "\u001b[32m[0922 08:43:08 @registry.py:126]\u001b[0m gen/LSTM/05/FC2 input: [200, 100]\n",
      "\u001b[32m[0922 08:43:08 @registry.py:134]\u001b[0m gen/LSTM/05/FC2 output: [200, 5]\n",
      "\u001b[32m[0922 08:43:08 @registry.py:126]\u001b[0m gen/LSTM/05/FC3 input: [200, 5]\n",
      "\u001b[32m[0922 08:43:08 @registry.py:134]\u001b[0m gen/LSTM/05/FC3 output: [200, 100]\n",
      "\u001b[91m-> Creating cell for travel_month (in-edges: 0)\n",
      "\u001b[32m[0922 08:43:08 @registry.py:126]\u001b[0m gen/LSTM/06/FC input: [200, 100]\n",
      "\u001b[32m[0922 08:43:08 @registry.py:134]\u001b[0m gen/LSTM/06/FC output: [200, 100]\n",
      "\u001b[32m[0922 08:43:08 @registry.py:126]\u001b[0m gen/LSTM/06/FC2 input: [200, 100]\n",
      "\u001b[32m[0922 08:43:08 @registry.py:134]\u001b[0m gen/LSTM/06/FC2 output: [200, 12]\n",
      "\u001b[32m[0922 08:43:08 @registry.py:126]\u001b[0m gen/LSTM/06/FC3 input: [200, 12]\n",
      "\u001b[32m[0922 08:43:08 @registry.py:134]\u001b[0m gen/LSTM/06/FC3 output: [200, 100]\n",
      "\u001b[91m-> Creating cell for survey_year (in-edges: 1)\n",
      "\u001b[32m[0922 08:43:08 @registry.py:126]\u001b[0m gen/LSTM/07/FC input: [200, 100]\n",
      "\u001b[32m[0922 08:43:08 @registry.py:134]\u001b[0m gen/LSTM/07/FC output: [200, 100]\n",
      "\u001b[32m[0922 08:43:08 @registry.py:126]\u001b[0m gen/LSTM/07/FC2 input: [200, 100]\n",
      "\u001b[32m[0922 08:43:08 @registry.py:134]\u001b[0m gen/LSTM/07/FC2 output: [200, 3]\n",
      "\u001b[32m[0922 08:43:08 @registry.py:126]\u001b[0m gen/LSTM/07/FC3 input: [200, 3]\n",
      "\u001b[32m[0922 08:43:08 @registry.py:134]\u001b[0m gen/LSTM/07/FC3 output: [200, 100]\n",
      "\u001b[91m-> Creating cell for day_of_week (in-edges: 1)\n",
      "\u001b[32m[0922 08:43:08 @registry.py:126]\u001b[0m gen/LSTM/08/FC input: [200, 100]\n",
      "\u001b[32m[0922 08:43:08 @registry.py:134]\u001b[0m gen/LSTM/08/FC output: [200, 100]\n",
      "\u001b[32m[0922 08:43:08 @registry.py:126]\u001b[0m gen/LSTM/08/FC2 input: [200, 100]\n",
      "\u001b[32m[0922 08:43:08 @registry.py:134]\u001b[0m gen/LSTM/08/FC2 output: [200, 7]\n",
      "\u001b[32m[0922 08:43:08 @registry.py:126]\u001b[0m gen/LSTM/08/FC3 input: [200, 7]\n",
      "\u001b[32m[0922 08:43:08 @registry.py:134]\u001b[0m gen/LSTM/08/FC3 output: [200, 100]\n"
     ]
    },
    {
     "name": "stdout",
     "output_type": "stream",
     "text": [
      "\u001b[91m-> Creating cell for driving_license (in-edges: 2)\n",
      "\u001b[32m[0922 08:43:08 @registry.py:126]\u001b[0m gen/LSTM/09/FC_inputs input: [200, 200]\n",
      "\u001b[32m[0922 08:43:08 @registry.py:134]\u001b[0m gen/LSTM/09/FC_inputs output: [200, 100]\n",
      "\u001b[32m[0922 08:43:08 @registry.py:126]\u001b[0m gen/LSTM/09/FC_attentions input: [200, 200]\n",
      "\u001b[32m[0922 08:43:08 @registry.py:134]\u001b[0m gen/LSTM/09/FC_attentions output: [200, 100]\n",
      "\u001b[32m[0922 08:43:08 @registry.py:126]\u001b[0m gen/LSTM/09/FC_lstm_state_0 input: [200, 200]\n",
      "\u001b[32m[0922 08:43:08 @registry.py:134]\u001b[0m gen/LSTM/09/FC_lstm_state_0 output: [200, 100]\n",
      "\u001b[32m[0922 08:43:08 @registry.py:126]\u001b[0m gen/LSTM/09/FC_lstm_state_1 input: [200, 200]\n",
      "\u001b[32m[0922 08:43:08 @registry.py:134]\u001b[0m gen/LSTM/09/FC_lstm_state_1 output: [200, 100]\n",
      "WARNING:tensorflow:From C:\\Users\\glede\\Documents\\EPFL\\PhD\\SynthPop\\code\\modules\\datgan_preLSTM\\model.py:396: The name tf.nn.rnn_cell.LSTMStateTuple is deprecated. Please use tf.compat.v1.nn.rnn_cell.LSTMStateTuple instead.\n",
      "\n",
      "\u001b[32m[0922 08:43:08 @registry.py:126]\u001b[0m gen/LSTM/10/FC input: [200, 100]\n",
      "\u001b[32m[0922 08:43:08 @registry.py:134]\u001b[0m gen/LSTM/10/FC output: [200, 100]\n",
      "\u001b[32m[0922 08:43:08 @registry.py:126]\u001b[0m gen/LSTM/10/FC2 input: [200, 100]\n",
      "\u001b[32m[0922 08:43:08 @registry.py:134]\u001b[0m gen/LSTM/10/FC2 output: [200, 2]\n",
      "\u001b[32m[0922 08:43:08 @registry.py:126]\u001b[0m gen/LSTM/10/FC3 input: [200, 2]\n",
      "\u001b[32m[0922 08:43:08 @registry.py:134]\u001b[0m gen/LSTM/10/FC3 output: [200, 100]\n",
      "\u001b[91m-> Creating cell for bus_scale (in-edges: 1)\n",
      "\u001b[32m[0922 08:43:08 @registry.py:126]\u001b[0m gen/LSTM/11/FC input: [200, 100]\n",
      "\u001b[32m[0922 08:43:08 @registry.py:134]\u001b[0m gen/LSTM/11/FC output: [200, 100]\n",
      "\u001b[32m[0922 08:43:08 @registry.py:126]\u001b[0m gen/LSTM/11/FC2 input: [200, 100]\n",
      "\u001b[32m[0922 08:43:08 @registry.py:134]\u001b[0m gen/LSTM/11/FC2 output: [200, 3]\n",
      "\u001b[32m[0922 08:43:08 @registry.py:126]\u001b[0m gen/LSTM/11/FC3 input: [200, 3]\n",
      "\u001b[32m[0922 08:43:08 @registry.py:134]\u001b[0m gen/LSTM/11/FC3 output: [200, 100]\n",
      "\u001b[91m-> Creating cell for faretype (in-edges: 1)\n",
      "\u001b[32m[0922 08:43:08 @registry.py:126]\u001b[0m gen/LSTM/12/FC input: [200, 100]\n",
      "\u001b[32m[0922 08:43:08 @registry.py:134]\u001b[0m gen/LSTM/12/FC output: [200, 100]\n",
      "\u001b[32m[0922 08:43:08 @registry.py:126]\u001b[0m gen/LSTM/12/FC2 input: [200, 100]\n",
      "\u001b[32m[0922 08:43:08 @registry.py:134]\u001b[0m gen/LSTM/12/FC2 output: [200, 5]\n",
      "\u001b[32m[0922 08:43:08 @registry.py:126]\u001b[0m gen/LSTM/12/FC3 input: [200, 5]\n",
      "\u001b[32m[0922 08:43:08 @registry.py:134]\u001b[0m gen/LSTM/12/FC3 output: [200, 100]\n",
      "\u001b[91m-> Creating cell for purpose (in-edges: 1)\n",
      "\u001b[32m[0922 08:43:08 @registry.py:126]\u001b[0m gen/LSTM/13/FC input: [200, 100]\n",
      "\u001b[32m[0922 08:43:08 @registry.py:134]\u001b[0m gen/LSTM/13/FC output: [200, 100]\n",
      "\u001b[32m[0922 08:43:08 @registry.py:126]\u001b[0m gen/LSTM/13/FC2 input: [200, 100]\n",
      "\u001b[32m[0922 08:43:08 @registry.py:134]\u001b[0m gen/LSTM/13/FC2 output: [200, 5]\n",
      "\u001b[32m[0922 08:43:08 @registry.py:126]\u001b[0m gen/LSTM/13/FC3 input: [200, 5]\n",
      "\u001b[32m[0922 08:43:08 @registry.py:134]\u001b[0m gen/LSTM/13/FC3 output: [200, 100]\n",
      "\u001b[91m-> Creating cell for car_ownership (in-edges: 2)\n",
      "\u001b[32m[0922 08:43:08 @registry.py:126]\u001b[0m gen/LSTM/14/FC_inputs input: [200, 200]\n",
      "\u001b[32m[0922 08:43:08 @registry.py:134]\u001b[0m gen/LSTM/14/FC_inputs output: [200, 100]\n",
      "\u001b[32m[0922 08:43:08 @registry.py:126]\u001b[0m gen/LSTM/14/FC_attentions input: [200, 200]\n",
      "\u001b[32m[0922 08:43:08 @registry.py:134]\u001b[0m gen/LSTM/14/FC_attentions output: [200, 100]\n",
      "\u001b[32m[0922 08:43:08 @registry.py:126]\u001b[0m gen/LSTM/14/FC_lstm_state_0 input: [200, 200]\n",
      "\u001b[32m[0922 08:43:08 @registry.py:134]\u001b[0m gen/LSTM/14/FC_lstm_state_0 output: [200, 100]\n",
      "\u001b[32m[0922 08:43:08 @registry.py:126]\u001b[0m gen/LSTM/14/FC_lstm_state_1 input: [200, 200]\n",
      "\u001b[32m[0922 08:43:08 @registry.py:134]\u001b[0m gen/LSTM/14/FC_lstm_state_1 output: [200, 100]\n",
      "\u001b[32m[0922 08:43:08 @registry.py:126]\u001b[0m gen/LSTM/15/FC input: [200, 100]\n",
      "\u001b[32m[0922 08:43:08 @registry.py:134]\u001b[0m gen/LSTM/15/FC output: [200, 100]\n",
      "\u001b[32m[0922 08:43:08 @registry.py:126]\u001b[0m gen/LSTM/15/FC2 input: [200, 100]\n",
      "\u001b[32m[0922 08:43:08 @registry.py:134]\u001b[0m gen/LSTM/15/FC2 output: [200, 3]\n",
      "\u001b[32m[0922 08:43:08 @registry.py:126]\u001b[0m gen/LSTM/15/FC3 input: [200, 3]\n",
      "\u001b[32m[0922 08:43:08 @registry.py:134]\u001b[0m gen/LSTM/15/FC3 output: [200, 100]\n",
      "\u001b[91m-> Creating cell for start_time_linear (in-edges: 1)\n",
      "\u001b[32m[0922 08:43:08 @registry.py:126]\u001b[0m gen/LSTM/16/FC input: [200, 100]\n",
      "\u001b[32m[0922 08:43:08 @registry.py:134]\u001b[0m gen/LSTM/16/FC output: [200, 100]\n",
      "\u001b[32m[0922 08:43:08 @registry.py:126]\u001b[0m gen/LSTM/16/FC2 input: [200, 100]\n",
      "\u001b[32m[0922 08:43:08 @registry.py:134]\u001b[0m gen/LSTM/16/FC2 output: [200, 1]\n",
      "\u001b[32m[0922 08:43:08 @registry.py:126]\u001b[0m gen/LSTM/17/FC input: [200, 100]\n",
      "\u001b[32m[0922 08:43:08 @registry.py:134]\u001b[0m gen/LSTM/17/FC output: [200, 100]\n",
      "\u001b[32m[0922 08:43:08 @registry.py:126]\u001b[0m gen/LSTM/17/FC2 input: [200, 100]\n",
      "\u001b[32m[0922 08:43:08 @registry.py:134]\u001b[0m gen/LSTM/17/FC2 output: [200, 5]\n",
      "\u001b[32m[0922 08:43:08 @registry.py:126]\u001b[0m gen/LSTM/17/FC3 input: [200, 5]\n",
      "\u001b[32m[0922 08:43:08 @registry.py:134]\u001b[0m gen/LSTM/17/FC3 output: [200, 100]\n",
      "\u001b[91m-> Creating cell for distance (in-edges: 1)\n",
      "\u001b[32m[0922 08:43:08 @registry.py:126]\u001b[0m gen/LSTM/18/FC input: [200, 100]\n",
      "\u001b[32m[0922 08:43:08 @registry.py:134]\u001b[0m gen/LSTM/18/FC output: [200, 100]\n",
      "\u001b[32m[0922 08:43:08 @registry.py:126]\u001b[0m gen/LSTM/18/FC2 input: [200, 100]\n",
      "\u001b[32m[0922 08:43:08 @registry.py:134]\u001b[0m gen/LSTM/18/FC2 output: [200, 1]\n",
      "\u001b[32m[0922 08:43:09 @registry.py:126]\u001b[0m gen/LSTM/19/FC input: [200, 100]\n",
      "\u001b[32m[0922 08:43:09 @registry.py:134]\u001b[0m gen/LSTM/19/FC output: [200, 100]\n",
      "\u001b[32m[0922 08:43:09 @registry.py:126]\u001b[0m gen/LSTM/19/FC2 input: [200, 100]\n",
      "\u001b[32m[0922 08:43:09 @registry.py:134]\u001b[0m gen/LSTM/19/FC2 output: [200, 5]\n",
      "\u001b[32m[0922 08:43:09 @registry.py:126]\u001b[0m gen/LSTM/19/FC3 input: [200, 5]\n",
      "\u001b[32m[0922 08:43:09 @registry.py:134]\u001b[0m gen/LSTM/19/FC3 output: [200, 100]\n",
      "\u001b[91m-> Creating cell for fueltype (in-edges: 1)\n",
      "\u001b[32m[0922 08:43:09 @registry.py:126]\u001b[0m gen/LSTM/20/FC input: [200, 100]\n",
      "\u001b[32m[0922 08:43:09 @registry.py:134]\u001b[0m gen/LSTM/20/FC output: [200, 100]\n",
      "\u001b[32m[0922 08:43:09 @registry.py:126]\u001b[0m gen/LSTM/20/FC2 input: [200, 100]\n",
      "\u001b[32m[0922 08:43:09 @registry.py:134]\u001b[0m gen/LSTM/20/FC2 output: [200, 6]\n",
      "\u001b[32m[0922 08:43:09 @registry.py:126]\u001b[0m gen/LSTM/20/FC3 input: [200, 6]\n",
      "\u001b[32m[0922 08:43:09 @registry.py:134]\u001b[0m gen/LSTM/20/FC3 output: [200, 100]\n",
      "\u001b[91m-> Creating cell for driving_traffic_percent (in-edges: 2)\n",
      "\u001b[32m[0922 08:43:09 @registry.py:126]\u001b[0m gen/LSTM/21/FC_inputs input: [200, 200]\n",
      "\u001b[32m[0922 08:43:09 @registry.py:134]\u001b[0m gen/LSTM/21/FC_inputs output: [200, 100]\n",
      "\u001b[32m[0922 08:43:09 @registry.py:126]\u001b[0m gen/LSTM/21/FC_attentions input: [200, 200]\n",
      "\u001b[32m[0922 08:43:09 @registry.py:134]\u001b[0m gen/LSTM/21/FC_attentions output: [200, 100]\n",
      "\u001b[32m[0922 08:43:09 @registry.py:126]\u001b[0m gen/LSTM/21/FC_lstm_state_0 input: [200, 200]\n",
      "\u001b[32m[0922 08:43:09 @registry.py:134]\u001b[0m gen/LSTM/21/FC_lstm_state_0 output: [200, 100]\n",
      "\u001b[32m[0922 08:43:09 @registry.py:126]\u001b[0m gen/LSTM/21/FC_lstm_state_1 input: [200, 200]\n",
      "\u001b[32m[0922 08:43:09 @registry.py:134]\u001b[0m gen/LSTM/21/FC_lstm_state_1 output: [200, 100]\n",
      "\u001b[32m[0922 08:43:09 @registry.py:126]\u001b[0m gen/LSTM/22/FC input: [200, 100]\n",
      "\u001b[32m[0922 08:43:09 @registry.py:134]\u001b[0m gen/LSTM/22/FC output: [200, 100]\n",
      "\u001b[32m[0922 08:43:09 @registry.py:126]\u001b[0m gen/LSTM/22/FC2 input: [200, 100]\n",
      "\u001b[32m[0922 08:43:09 @registry.py:134]\u001b[0m gen/LSTM/22/FC2 output: [200, 1]\n",
      "\u001b[32m[0922 08:43:09 @registry.py:126]\u001b[0m gen/LSTM/23/FC input: [200, 100]\n",
      "\u001b[32m[0922 08:43:09 @registry.py:134]\u001b[0m gen/LSTM/23/FC output: [200, 100]\n",
      "\u001b[32m[0922 08:43:09 @registry.py:126]\u001b[0m gen/LSTM/23/FC2 input: [200, 100]\n",
      "\u001b[32m[0922 08:43:09 @registry.py:134]\u001b[0m gen/LSTM/23/FC2 output: [200, 5]\n",
      "\u001b[32m[0922 08:43:09 @registry.py:126]\u001b[0m gen/LSTM/23/FC3 input: [200, 5]\n",
      "\u001b[32m[0922 08:43:09 @registry.py:134]\u001b[0m gen/LSTM/23/FC3 output: [200, 100]\n",
      "\u001b[91m-> Creating cell for cost_driving_fuel (in-edges: 2)\n",
      "\u001b[32m[0922 08:43:09 @registry.py:126]\u001b[0m gen/LSTM/24/FC_inputs input: [200, 200]\n",
      "\u001b[32m[0922 08:43:09 @registry.py:134]\u001b[0m gen/LSTM/24/FC_inputs output: [200, 100]\n",
      "\u001b[32m[0922 08:43:09 @registry.py:126]\u001b[0m gen/LSTM/24/FC_attentions input: [200, 200]\n",
      "\u001b[32m[0922 08:43:09 @registry.py:134]\u001b[0m gen/LSTM/24/FC_attentions output: [200, 100]\n",
      "\u001b[32m[0922 08:43:09 @registry.py:126]\u001b[0m gen/LSTM/24/FC_lstm_state_0 input: [200, 200]\n"
     ]
    },
    {
     "name": "stdout",
     "output_type": "stream",
     "text": [
      "\u001b[32m[0922 08:43:09 @registry.py:134]\u001b[0m gen/LSTM/24/FC_lstm_state_0 output: [200, 100]\n",
      "\u001b[32m[0922 08:43:09 @registry.py:126]\u001b[0m gen/LSTM/24/FC_lstm_state_1 input: [200, 200]\n",
      "\u001b[32m[0922 08:43:09 @registry.py:134]\u001b[0m gen/LSTM/24/FC_lstm_state_1 output: [200, 100]\n",
      "\u001b[32m[0922 08:43:09 @registry.py:126]\u001b[0m gen/LSTM/25/FC input: [200, 100]\n",
      "\u001b[32m[0922 08:43:09 @registry.py:134]\u001b[0m gen/LSTM/25/FC output: [200, 100]\n",
      "\u001b[32m[0922 08:43:09 @registry.py:126]\u001b[0m gen/LSTM/25/FC2 input: [200, 100]\n",
      "\u001b[32m[0922 08:43:09 @registry.py:134]\u001b[0m gen/LSTM/25/FC2 output: [200, 1]\n",
      "\u001b[32m[0922 08:43:09 @registry.py:126]\u001b[0m gen/LSTM/26/FC input: [200, 100]\n",
      "\u001b[32m[0922 08:43:09 @registry.py:134]\u001b[0m gen/LSTM/26/FC output: [200, 100]\n",
      "\u001b[32m[0922 08:43:09 @registry.py:126]\u001b[0m gen/LSTM/26/FC2 input: [200, 100]\n",
      "\u001b[32m[0922 08:43:09 @registry.py:134]\u001b[0m gen/LSTM/26/FC2 output: [200, 5]\n",
      "\u001b[32m[0922 08:43:09 @registry.py:126]\u001b[0m gen/LSTM/26/FC3 input: [200, 5]\n",
      "\u001b[32m[0922 08:43:09 @registry.py:134]\u001b[0m gen/LSTM/26/FC3 output: [200, 100]\n",
      "\u001b[91m-> Creating cell for dur_driving (in-edges: 1)\n",
      "\u001b[32m[0922 08:43:09 @registry.py:126]\u001b[0m gen/LSTM/27/FC input: [200, 100]\n",
      "\u001b[32m[0922 08:43:09 @registry.py:134]\u001b[0m gen/LSTM/27/FC output: [200, 100]\n",
      "\u001b[32m[0922 08:43:09 @registry.py:126]\u001b[0m gen/LSTM/27/FC2 input: [200, 100]\n",
      "\u001b[32m[0922 08:43:09 @registry.py:134]\u001b[0m gen/LSTM/27/FC2 output: [200, 1]\n",
      "\u001b[32m[0922 08:43:09 @registry.py:126]\u001b[0m gen/LSTM/28/FC input: [200, 100]\n",
      "\u001b[32m[0922 08:43:09 @registry.py:134]\u001b[0m gen/LSTM/28/FC output: [200, 100]\n",
      "\u001b[32m[0922 08:43:09 @registry.py:126]\u001b[0m gen/LSTM/28/FC2 input: [200, 100]\n",
      "\u001b[32m[0922 08:43:09 @registry.py:134]\u001b[0m gen/LSTM/28/FC2 output: [200, 5]\n",
      "\u001b[32m[0922 08:43:09 @registry.py:126]\u001b[0m gen/LSTM/28/FC3 input: [200, 5]\n",
      "\u001b[32m[0922 08:43:09 @registry.py:134]\u001b[0m gen/LSTM/28/FC3 output: [200, 100]\n",
      "\u001b[91m-> Creating cell for dur_walking (in-edges: 1)\n",
      "\u001b[32m[0922 08:43:09 @registry.py:126]\u001b[0m gen/LSTM/29/FC input: [200, 100]\n",
      "\u001b[32m[0922 08:43:09 @registry.py:134]\u001b[0m gen/LSTM/29/FC output: [200, 100]\n",
      "\u001b[32m[0922 08:43:09 @registry.py:126]\u001b[0m gen/LSTM/29/FC2 input: [200, 100]\n",
      "\u001b[32m[0922 08:43:09 @registry.py:134]\u001b[0m gen/LSTM/29/FC2 output: [200, 1]\n",
      "\u001b[32m[0922 08:43:09 @registry.py:126]\u001b[0m gen/LSTM/30/FC input: [200, 100]\n",
      "\u001b[32m[0922 08:43:09 @registry.py:134]\u001b[0m gen/LSTM/30/FC output: [200, 100]\n",
      "\u001b[32m[0922 08:43:09 @registry.py:126]\u001b[0m gen/LSTM/30/FC2 input: [200, 100]\n",
      "\u001b[32m[0922 08:43:09 @registry.py:134]\u001b[0m gen/LSTM/30/FC2 output: [200, 5]\n",
      "\u001b[32m[0922 08:43:09 @registry.py:126]\u001b[0m gen/LSTM/30/FC3 input: [200, 5]\n",
      "\u001b[32m[0922 08:43:09 @registry.py:134]\u001b[0m gen/LSTM/30/FC3 output: [200, 100]\n",
      "\u001b[91m-> Creating cell for dur_cycling (in-edges: 1)\n",
      "\u001b[32m[0922 08:43:09 @registry.py:126]\u001b[0m gen/LSTM/31/FC input: [200, 100]\n",
      "\u001b[32m[0922 08:43:09 @registry.py:134]\u001b[0m gen/LSTM/31/FC output: [200, 100]\n",
      "\u001b[32m[0922 08:43:09 @registry.py:126]\u001b[0m gen/LSTM/31/FC2 input: [200, 100]\n",
      "\u001b[32m[0922 08:43:09 @registry.py:134]\u001b[0m gen/LSTM/31/FC2 output: [200, 1]\n",
      "\u001b[32m[0922 08:43:09 @registry.py:126]\u001b[0m gen/LSTM/32/FC input: [200, 100]\n",
      "\u001b[32m[0922 08:43:09 @registry.py:134]\u001b[0m gen/LSTM/32/FC output: [200, 100]\n",
      "\u001b[32m[0922 08:43:09 @registry.py:126]\u001b[0m gen/LSTM/32/FC2 input: [200, 100]\n",
      "\u001b[32m[0922 08:43:09 @registry.py:134]\u001b[0m gen/LSTM/32/FC2 output: [200, 5]\n",
      "\u001b[32m[0922 08:43:09 @registry.py:126]\u001b[0m gen/LSTM/32/FC3 input: [200, 5]\n",
      "\u001b[32m[0922 08:43:09 @registry.py:134]\u001b[0m gen/LSTM/32/FC3 output: [200, 100]\n",
      "\u001b[91m-> Creating cell for dur_pt_access (in-edges: 1)\n",
      "\u001b[32m[0922 08:43:09 @registry.py:126]\u001b[0m gen/LSTM/33/FC input: [200, 100]\n",
      "\u001b[32m[0922 08:43:09 @registry.py:134]\u001b[0m gen/LSTM/33/FC output: [200, 100]\n",
      "\u001b[32m[0922 08:43:09 @registry.py:126]\u001b[0m gen/LSTM/33/FC2 input: [200, 100]\n",
      "\u001b[32m[0922 08:43:09 @registry.py:134]\u001b[0m gen/LSTM/33/FC2 output: [200, 1]\n",
      "\u001b[32m[0922 08:43:09 @registry.py:126]\u001b[0m gen/LSTM/34/FC input: [200, 100]\n",
      "\u001b[32m[0922 08:43:09 @registry.py:134]\u001b[0m gen/LSTM/34/FC output: [200, 100]\n",
      "\u001b[32m[0922 08:43:09 @registry.py:126]\u001b[0m gen/LSTM/34/FC2 input: [200, 100]\n",
      "\u001b[32m[0922 08:43:09 @registry.py:134]\u001b[0m gen/LSTM/34/FC2 output: [200, 5]\n",
      "\u001b[32m[0922 08:43:09 @registry.py:126]\u001b[0m gen/LSTM/34/FC3 input: [200, 5]\n",
      "\u001b[32m[0922 08:43:09 @registry.py:134]\u001b[0m gen/LSTM/34/FC3 output: [200, 100]\n",
      "\u001b[91m-> Creating cell for dur_pt_rail (in-edges: 1)\n",
      "\u001b[32m[0922 08:43:09 @registry.py:126]\u001b[0m gen/LSTM/35/FC input: [200, 100]\n",
      "\u001b[32m[0922 08:43:09 @registry.py:134]\u001b[0m gen/LSTM/35/FC output: [200, 100]\n",
      "\u001b[32m[0922 08:43:09 @registry.py:126]\u001b[0m gen/LSTM/35/FC2 input: [200, 100]\n",
      "\u001b[32m[0922 08:43:09 @registry.py:134]\u001b[0m gen/LSTM/35/FC2 output: [200, 1]\n",
      "\u001b[32m[0922 08:43:09 @registry.py:126]\u001b[0m gen/LSTM/36/FC input: [200, 100]\n",
      "\u001b[32m[0922 08:43:09 @registry.py:134]\u001b[0m gen/LSTM/36/FC output: [200, 100]\n",
      "\u001b[32m[0922 08:43:09 @registry.py:126]\u001b[0m gen/LSTM/36/FC2 input: [200, 100]\n",
      "\u001b[32m[0922 08:43:09 @registry.py:134]\u001b[0m gen/LSTM/36/FC2 output: [200, 5]\n",
      "\u001b[32m[0922 08:43:09 @registry.py:126]\u001b[0m gen/LSTM/36/FC3 input: [200, 5]\n",
      "\u001b[32m[0922 08:43:09 @registry.py:134]\u001b[0m gen/LSTM/36/FC3 output: [200, 100]\n",
      "\u001b[91m-> Creating cell for dur_pt_bus (in-edges: 1)\n",
      "\u001b[32m[0922 08:43:09 @registry.py:126]\u001b[0m gen/LSTM/37/FC input: [200, 100]\n",
      "\u001b[32m[0922 08:43:09 @registry.py:134]\u001b[0m gen/LSTM/37/FC output: [200, 100]\n",
      "\u001b[32m[0922 08:43:09 @registry.py:126]\u001b[0m gen/LSTM/37/FC2 input: [200, 100]\n",
      "\u001b[32m[0922 08:43:09 @registry.py:134]\u001b[0m gen/LSTM/37/FC2 output: [200, 1]\n",
      "\u001b[32m[0922 08:43:09 @registry.py:126]\u001b[0m gen/LSTM/38/FC input: [200, 100]\n",
      "\u001b[32m[0922 08:43:09 @registry.py:134]\u001b[0m gen/LSTM/38/FC output: [200, 100]\n",
      "\u001b[32m[0922 08:43:09 @registry.py:126]\u001b[0m gen/LSTM/38/FC2 input: [200, 100]\n",
      "\u001b[32m[0922 08:43:09 @registry.py:134]\u001b[0m gen/LSTM/38/FC2 output: [200, 5]\n",
      "\u001b[32m[0922 08:43:09 @registry.py:126]\u001b[0m gen/LSTM/38/FC3 input: [200, 5]\n",
      "\u001b[32m[0922 08:43:09 @registry.py:134]\u001b[0m gen/LSTM/38/FC3 output: [200, 100]\n",
      "\u001b[91m-> Creating cell for dur_pt_int (in-edges: 2)\n",
      "\u001b[32m[0922 08:43:09 @registry.py:126]\u001b[0m gen/LSTM/39/FC_inputs input: [200, 200]\n",
      "\u001b[32m[0922 08:43:09 @registry.py:134]\u001b[0m gen/LSTM/39/FC_inputs output: [200, 100]\n",
      "\u001b[32m[0922 08:43:09 @registry.py:126]\u001b[0m gen/LSTM/39/FC_attentions input: [200, 200]\n",
      "\u001b[32m[0922 08:43:09 @registry.py:134]\u001b[0m gen/LSTM/39/FC_attentions output: [200, 100]\n",
      "\u001b[32m[0922 08:43:09 @registry.py:126]\u001b[0m gen/LSTM/39/FC_lstm_state_0 input: [200, 200]\n",
      "\u001b[32m[0922 08:43:09 @registry.py:134]\u001b[0m gen/LSTM/39/FC_lstm_state_0 output: [200, 100]\n",
      "\u001b[32m[0922 08:43:09 @registry.py:126]\u001b[0m gen/LSTM/39/FC_lstm_state_1 input: [200, 200]\n",
      "\u001b[32m[0922 08:43:10 @registry.py:134]\u001b[0m gen/LSTM/39/FC_lstm_state_1 output: [200, 100]\n",
      "\u001b[32m[0922 08:43:10 @registry.py:126]\u001b[0m gen/LSTM/40/FC input: [200, 100]\n",
      "\u001b[32m[0922 08:43:10 @registry.py:134]\u001b[0m gen/LSTM/40/FC output: [200, 100]\n",
      "\u001b[32m[0922 08:43:10 @registry.py:126]\u001b[0m gen/LSTM/40/FC2 input: [200, 100]\n",
      "\u001b[32m[0922 08:43:10 @registry.py:134]\u001b[0m gen/LSTM/40/FC2 output: [200, 1]\n",
      "\u001b[32m[0922 08:43:10 @registry.py:126]\u001b[0m gen/LSTM/41/FC input: [200, 100]\n",
      "\u001b[32m[0922 08:43:10 @registry.py:134]\u001b[0m gen/LSTM/41/FC output: [200, 100]\n",
      "\u001b[32m[0922 08:43:10 @registry.py:126]\u001b[0m gen/LSTM/41/FC2 input: [200, 100]\n",
      "\u001b[32m[0922 08:43:10 @registry.py:134]\u001b[0m gen/LSTM/41/FC2 output: [200, 5]\n",
      "\u001b[32m[0922 08:43:10 @registry.py:126]\u001b[0m gen/LSTM/41/FC3 input: [200, 5]\n",
      "\u001b[32m[0922 08:43:10 @registry.py:134]\u001b[0m gen/LSTM/41/FC3 output: [200, 100]\n",
      "\u001b[91m-> Creating cell for cost_driving_con_charge (in-edges: 5)\n",
      "\u001b[32m[0922 08:43:10 @registry.py:126]\u001b[0m gen/LSTM/42/FC_inputs input: [200, 500]\n",
      "\u001b[32m[0922 08:43:10 @registry.py:134]\u001b[0m gen/LSTM/42/FC_inputs output: [200, 100]\n",
      "\u001b[32m[0922 08:43:10 @registry.py:126]\u001b[0m gen/LSTM/42/FC_attentions input: [200, 500]\n",
      "\u001b[32m[0922 08:43:10 @registry.py:134]\u001b[0m gen/LSTM/42/FC_attentions output: [200, 100]\n",
      "\u001b[32m[0922 08:43:10 @registry.py:126]\u001b[0m gen/LSTM/42/FC_lstm_state_0 input: [200, 500]\n",
      "\u001b[32m[0922 08:43:10 @registry.py:134]\u001b[0m gen/LSTM/42/FC_lstm_state_0 output: [200, 100]\n",
      "\u001b[32m[0922 08:43:10 @registry.py:126]\u001b[0m gen/LSTM/42/FC_lstm_state_1 input: [200, 500]\n",
      "\u001b[32m[0922 08:43:10 @registry.py:134]\u001b[0m gen/LSTM/42/FC_lstm_state_1 output: [200, 100]\n",
      "\u001b[32m[0922 08:43:10 @registry.py:126]\u001b[0m gen/LSTM/43/FC input: [200, 100]\n"
     ]
    },
    {
     "name": "stdout",
     "output_type": "stream",
     "text": [
      "\u001b[32m[0922 08:43:10 @registry.py:134]\u001b[0m gen/LSTM/43/FC output: [200, 100]\n",
      "\u001b[32m[0922 08:43:10 @registry.py:126]\u001b[0m gen/LSTM/43/FC2 input: [200, 100]\n",
      "\u001b[32m[0922 08:43:10 @registry.py:134]\u001b[0m gen/LSTM/43/FC2 output: [200, 2]\n",
      "\u001b[32m[0922 08:43:10 @registry.py:126]\u001b[0m gen/LSTM/43/FC3 input: [200, 2]\n",
      "\u001b[32m[0922 08:43:10 @registry.py:134]\u001b[0m gen/LSTM/43/FC3 output: [200, 100]\n",
      "\u001b[91m-> Creating cell for cost_transit (in-edges: 5)\n",
      "\u001b[32m[0922 08:43:10 @registry.py:126]\u001b[0m gen/LSTM/44/FC_inputs input: [200, 500]\n",
      "\u001b[32m[0922 08:43:10 @registry.py:134]\u001b[0m gen/LSTM/44/FC_inputs output: [200, 100]\n",
      "\u001b[32m[0922 08:43:10 @registry.py:126]\u001b[0m gen/LSTM/44/FC_attentions input: [200, 500]\n",
      "\u001b[32m[0922 08:43:10 @registry.py:134]\u001b[0m gen/LSTM/44/FC_attentions output: [200, 100]\n",
      "\u001b[32m[0922 08:43:10 @registry.py:126]\u001b[0m gen/LSTM/44/FC_lstm_state_0 input: [200, 500]\n",
      "\u001b[32m[0922 08:43:10 @registry.py:134]\u001b[0m gen/LSTM/44/FC_lstm_state_0 output: [200, 100]\n",
      "\u001b[32m[0922 08:43:10 @registry.py:126]\u001b[0m gen/LSTM/44/FC_lstm_state_1 input: [200, 500]\n",
      "\u001b[32m[0922 08:43:10 @registry.py:134]\u001b[0m gen/LSTM/44/FC_lstm_state_1 output: [200, 100]\n",
      "\u001b[32m[0922 08:43:10 @registry.py:126]\u001b[0m gen/LSTM/45/FC input: [200, 100]\n",
      "\u001b[32m[0922 08:43:10 @registry.py:134]\u001b[0m gen/LSTM/45/FC output: [200, 100]\n",
      "\u001b[32m[0922 08:43:10 @registry.py:126]\u001b[0m gen/LSTM/45/FC2 input: [200, 100]\n",
      "\u001b[32m[0922 08:43:10 @registry.py:134]\u001b[0m gen/LSTM/45/FC2 output: [200, 1]\n",
      "\u001b[32m[0922 08:43:10 @registry.py:126]\u001b[0m gen/LSTM/46/FC input: [200, 100]\n",
      "\u001b[32m[0922 08:43:10 @registry.py:134]\u001b[0m gen/LSTM/46/FC output: [200, 100]\n",
      "\u001b[32m[0922 08:43:10 @registry.py:126]\u001b[0m gen/LSTM/46/FC2 input: [200, 100]\n",
      "\u001b[32m[0922 08:43:10 @registry.py:134]\u001b[0m gen/LSTM/46/FC2 output: [200, 5]\n",
      "\u001b[32m[0922 08:43:10 @registry.py:126]\u001b[0m gen/LSTM/46/FC3 input: [200, 5]\n",
      "\u001b[32m[0922 08:43:10 @registry.py:134]\u001b[0m gen/LSTM/46/FC3 output: [200, 100]\n",
      "\u001b[91m-> Creating cell for travel_mode (in-edges: 15)\n",
      "\u001b[32m[0922 08:43:10 @registry.py:126]\u001b[0m gen/LSTM/47/FC_inputs input: [200, 1500]\n",
      "\u001b[32m[0922 08:43:10 @registry.py:134]\u001b[0m gen/LSTM/47/FC_inputs output: [200, 100]\n",
      "\u001b[32m[0922 08:43:10 @registry.py:126]\u001b[0m gen/LSTM/47/FC_attentions input: [200, 1500]\n",
      "\u001b[32m[0922 08:43:10 @registry.py:134]\u001b[0m gen/LSTM/47/FC_attentions output: [200, 100]\n",
      "\u001b[32m[0922 08:43:10 @registry.py:126]\u001b[0m gen/LSTM/47/FC_lstm_state_0 input: [200, 1500]\n",
      "\u001b[32m[0922 08:43:10 @registry.py:134]\u001b[0m gen/LSTM/47/FC_lstm_state_0 output: [200, 100]\n",
      "\u001b[32m[0922 08:43:10 @registry.py:126]\u001b[0m gen/LSTM/47/FC_lstm_state_1 input: [200, 1500]\n",
      "\u001b[32m[0922 08:43:10 @registry.py:134]\u001b[0m gen/LSTM/47/FC_lstm_state_1 output: [200, 100]\n",
      "\u001b[32m[0922 08:43:10 @registry.py:126]\u001b[0m gen/LSTM/48/FC input: [200, 100]\n",
      "\u001b[32m[0922 08:43:10 @registry.py:134]\u001b[0m gen/LSTM/48/FC output: [200, 100]\n",
      "\u001b[32m[0922 08:43:10 @registry.py:126]\u001b[0m gen/LSTM/48/FC2 input: [200, 100]\n",
      "\u001b[32m[0922 08:43:10 @registry.py:134]\u001b[0m gen/LSTM/48/FC2 output: [200, 4]\n",
      "\u001b[32m[0922 08:43:10 @registry.py:126]\u001b[0m gen/LSTM/48/FC3 input: [200, 4]\n",
      "\u001b[32m[0922 08:43:10 @registry.py:134]\u001b[0m gen/LSTM/48/FC3 output: [200, 100]\n",
      "WARNING:tensorflow:From C:\\Users\\glede\\Documents\\EPFL\\PhD\\SynthPop\\code\\modules\\datgan_preLSTM\\model.py:667: The name tf.random_uniform is deprecated. Please use tf.random.uniform instead.\n",
      "\n",
      "WARNING:tensorflow:From C:\\Users\\glede\\Documents\\EPFL\\PhD\\SynthPop\\code\\modules\\datgan_preLSTM\\model.py:608: The name tf.log is deprecated. Please use tf.math.log instead.\n",
      "\n",
      "\u001b[32m[0922 08:43:10 @registry.py:126]\u001b[0m discrim/dis_fc0/fc input: [200, 172]\n",
      "\u001b[32m[0922 08:43:10 @registry.py:134]\u001b[0m discrim/dis_fc0/fc output: [200, 100]\n",
      "\u001b[32m[0922 08:43:10 @registry.py:126]\u001b[0m discrim/dis_fc0/fc_diversity input: [200, 100]\n",
      "\u001b[32m[0922 08:43:10 @registry.py:134]\u001b[0m discrim/dis_fc0/fc_diversity output: [200, 100]\n",
      "WARNING:tensorflow:From D:\\Users\\glede\\anaconda3\\envs\\py37\\lib\\site-packages\\tensorpack\\models\\batch_norm.py:204: The name tf.layers.BatchNormalization is deprecated. Please use tf.compat.v1.layers.BatchNormalization instead.\n",
      "\n",
      "WARNING:tensorflow:From D:\\Users\\glede\\anaconda3\\envs\\py37\\lib\\site-packages\\tensorpack\\models\\batch_norm.py:212: The name tf.add_to_collection is deprecated. Please use tf.compat.v1.add_to_collection instead.\n",
      "\n",
      "\u001b[32m[0922 08:43:10 @registry.py:126]\u001b[0m discrim/dis_fc_top input: [200, 110]\n",
      "\u001b[32m[0922 08:43:10 @registry.py:134]\u001b[0m discrim/dis_fc_top output: [200, 1]\n",
      "WARNING:tensorflow:From C:\\Users\\glede\\Documents\\EPFL\\PhD\\SynthPop\\code\\modules\\datgan_preLSTM\\model.py:123: The name tf.summary.histogram is deprecated. Please use tf.compat.v1.summary.histogram instead.\n",
      "\n",
      "WARNING:tensorflow:From D:\\Users\\glede\\anaconda3\\envs\\py37\\lib\\site-packages\\tensorflow_core\\python\\ops\\nn_impl.py:183: where (from tensorflow.python.ops.array_ops) is deprecated and will be removed in a future version.\n",
      "Instructions for updating:\n",
      "Use tf.where in 2.0, which has the same broadcast rule as np.where\n",
      "WARNING:tensorflow:\n",
      "The TensorFlow contrib module will not be included in TensorFlow 2.0.\n",
      "For more information, please see:\n",
      "  * https://github.com/tensorflow/community/blob/master/rfcs/20180907-contrib-sunset.md\n",
      "  * https://github.com/tensorflow/addons\n",
      "  * https://github.com/tensorflow/io (for I/O related ops)\n",
      "If you depend on functionality not listed there, please file an issue.\n",
      "\n",
      "WARNING:tensorflow:From C:\\Users\\glede\\Documents\\EPFL\\PhD\\SynthPop\\code\\modules\\datgan_preLSTM\\model.py:728: The name tf.train.AdamOptimizer is deprecated. Please use tf.compat.v1.train.AdamOptimizer instead.\n",
      "\n",
      "WARNING:tensorflow:From D:\\Users\\glede\\anaconda3\\envs\\py37\\lib\\site-packages\\tensorpack\\tfutils\\varmanip.py:178: The name tf.gfile.Exists is deprecated. Please use tf.io.gfile.exists instead.\n",
      "\n",
      "\u001b[32m[0922 08:43:17 @logger.py:83]\u001b[0m Existing log file '../output/LPMC/DATGAN/logs\\log.log' backuped to '../output/LPMC/DATGAN/logs\\log.log.0922-084317'\n",
      "\u001b[32m[0922 08:43:17 @logger.py:90]\u001b[0m Argv: D:\\Users\\glede\\anaconda3\\envs\\py37\\lib\\site-packages\\ipykernel_launcher.py -f C:\\Users\\glede\\AppData\\Roaming\\jupyter\\runtime\\kernel-d11a2058-d9e6-481f-8ce7-51ff04e96d85.json\n",
      "WARNING:tensorflow:From D:\\Users\\glede\\anaconda3\\envs\\py37\\lib\\site-packages\\tensorpack\\callbacks\\saver.py:43: The name tf.gfile.IsDirectory is deprecated. Please use tf.io.gfile.isdir instead.\n",
      "\n",
      "WARNING:tensorflow:From D:\\Users\\glede\\anaconda3\\envs\\py37\\lib\\site-packages\\tensorpack\\tfutils\\common.py:41: The name tf.ConfigProto is deprecated. Please use tf.compat.v1.ConfigProto instead.\n",
      "\n",
      "\u001b[32m[0922 08:43:17 @model_utils.py:67]\u001b[0m \u001b[36mList of Trainable Variables: \n",
      "\u001b[0mname                              shape          #elements\n",
      "--------------------------------  -----------  -----------\n",
      "gen/LSTM/go_travel_year:0         [1, 100]             100\n",
      "gen/LSTM/lstm_cell/kernel:0       [500, 400]        200000\n",
      "gen/LSTM/lstm_cell/bias:0         [400]                400\n",
      "gen/LSTM/00/FC/W:0                [100, 100]         10000\n",
      "gen/LSTM/00/FC/b:0                [100]                100\n",
      "gen/LSTM/00/FC2/W:0               [100, 4]             400\n",
      "gen/LSTM/00/FC2/b:0               [4]                    4\n",
      "gen/LSTM/00/FC3/W:0               [4, 100]             400\n",
      "gen/LSTM/00/FC3/b:0               [100]                100\n",
      "gen/LSTM/00/attw:0                [1, 1, 1]              1\n",
      "gen/LSTM/go_travel_date:0         [1, 100]             100\n",
      "gen/LSTM/01/FC/W:0                [100, 100]         10000\n",
      "gen/LSTM/01/FC/b:0                [100]                100\n",
      "gen/LSTM/01/FC2/W:0               [100, 31]           3100\n",
      "gen/LSTM/01/FC2/b:0               [31]                  31\n",
      "gen/LSTM/01/FC3/W:0               [31, 100]           3100\n",
      "gen/LSTM/01/FC3/b:0               [100]                100\n",
      "gen/LSTM/01/attw:0                [1, 1, 1]              1\n",
      "gen/LSTM/go_female:0              [1, 100]             100\n",
      "gen/LSTM/02/FC/W:0                [100, 100]         10000\n",
      "gen/LSTM/02/FC/b:0                [100]                100\n",
      "gen/LSTM/02/FC2/W:0               [100, 2]             200\n",
      "gen/LSTM/02/FC2/b:0               [2]                    2\n",
      "gen/LSTM/02/FC3/W:0               [2, 100]             200\n",
      "gen/LSTM/02/FC3/b:0               [100]                100\n",
      "gen/LSTM/02/attw:0                [1, 1, 1]              1\n",
      "gen/LSTM/go_age:0                 [1, 100]             100\n",
      "gen/LSTM/03/FC/W:0                [100, 100]         10000\n",
      "gen/LSTM/03/FC/b:0                [100]                100\n",
      "gen/LSTM/03/FC2/W:0               [100, 1]             100\n",
      "gen/LSTM/03/FC2/b:0               [1]                    1\n",
      "gen/LSTM/03/attw:0                [1, 1, 1]              1\n",
      "gen/LSTM/04/FC/W:0                [100, 100]         10000\n",
      "gen/LSTM/04/FC/b:0                [100]                100\n",
      "gen/LSTM/04/FC2/W:0               [100, 5]             500\n",
      "gen/LSTM/04/FC2/b:0               [5]                    5\n",
      "gen/LSTM/04/FC3/W:0               [5, 100]             500\n",
      "gen/LSTM/04/FC3/b:0               [100]                100\n",
      "gen/LSTM/04/attw:0                [2, 1, 1]              2\n",
      "gen/LSTM/go_pt_n_interchanges:0   [1, 100]             100\n",
      "gen/LSTM/05/FC/W:0                [100, 100]         10000\n",
      "gen/LSTM/05/FC/b:0                [100]                100\n",
      "gen/LSTM/05/FC2/W:0               [100, 5]             500\n",
      "gen/LSTM/05/FC2/b:0               [5]                    5\n",
      "gen/LSTM/05/FC3/W:0               [5, 100]             500\n",
      "gen/LSTM/05/FC3/b:0               [100]                100\n",
      "gen/LSTM/05/attw:0                [1, 1, 1]              1\n",
      "gen/LSTM/go_travel_month:0        [1, 100]             100\n",
      "gen/LSTM/06/FC/W:0                [100, 100]         10000\n",
      "gen/LSTM/06/FC/b:0                [100]                100\n",
      "gen/LSTM/06/FC2/W:0               [100, 12]           1200\n",
      "gen/LSTM/06/FC2/b:0               [12]                  12\n",
      "gen/LSTM/06/FC3/W:0               [12, 100]           1200\n",
      "gen/LSTM/06/FC3/b:0               [100]                100\n",
      "gen/LSTM/06/attw:0                [1, 1, 1]              1\n",
      "gen/LSTM/07/FC/W:0                [100, 100]         10000\n",
      "gen/LSTM/07/FC/b:0                [100]                100\n",
      "gen/LSTM/07/FC2/W:0               [100, 3]             300\n",
      "gen/LSTM/07/FC2/b:0               [3]                    3\n",
      "gen/LSTM/07/FC3/W:0               [3, 100]             300\n",
      "gen/LSTM/07/FC3/b:0               [100]                100\n",
      "gen/LSTM/07/attw:0                [2, 1, 1]              2\n",
      "gen/LSTM/08/FC/W:0                [100, 100]         10000\n",
      "gen/LSTM/08/FC/b:0                [100]                100\n",
      "gen/LSTM/08/FC2/W:0               [100, 7]             700\n",
      "gen/LSTM/08/FC2/b:0               [7]                    7\n",
      "gen/LSTM/08/FC3/W:0               [7, 100]             700\n",
      "gen/LSTM/08/FC3/b:0               [100]                100\n",
      "gen/LSTM/08/attw:0                [2, 1, 1]              2\n",
      "gen/LSTM/09/FC_inputs/W:0         [200, 100]         20000\n",
      "gen/LSTM/09/FC_inputs/b:0         [100]                100\n",
      "gen/LSTM/09/FC_attentions/W:0     [200, 100]         20000\n",
      "gen/LSTM/09/FC_attentions/b:0     [100]                100\n",
      "gen/LSTM/09/FC_lstm_state_0/W:0   [200, 100]         20000\n",
      "gen/LSTM/09/FC_lstm_state_0/b:0   [100]                100\n",
      "gen/LSTM/09/FC_lstm_state_1/W:0   [200, 100]         20000\n",
      "gen/LSTM/09/FC_lstm_state_1/b:0   [100]                100\n",
      "gen/LSTM/10/FC/W:0                [100, 100]         10000\n",
      "gen/LSTM/10/FC/b:0                [100]                100\n",
      "gen/LSTM/10/FC2/W:0               [100, 2]             200\n",
      "gen/LSTM/10/FC2/b:0               [2]                    2\n",
      "gen/LSTM/10/FC3/W:0               [2, 100]             200\n",
      "gen/LSTM/10/FC3/b:0               [100]                100\n",
      "gen/LSTM/10/attw:0                [4, 1, 1]              4\n",
      "gen/LSTM/11/FC/W:0                [100, 100]         10000\n",
      "gen/LSTM/11/FC/b:0                [100]                100\n",
      "gen/LSTM/11/FC2/W:0               [100, 3]             300\n",
      "gen/LSTM/11/FC2/b:0               [3]                    3\n",
      "gen/LSTM/11/FC3/W:0               [3, 100]             300\n",
      "gen/LSTM/11/FC3/b:0               [100]                100\n",
      "gen/LSTM/11/attw:0                [3, 1, 1]              3\n",
      "gen/LSTM/12/FC/W:0                [100, 100]         10000\n",
      "gen/LSTM/12/FC/b:0                [100]                100\n",
      "gen/LSTM/12/FC2/W:0               [100, 5]             500\n",
      "gen/LSTM/12/FC2/b:0               [5]                    5\n",
      "gen/LSTM/12/FC3/W:0               [5, 100]             500\n",
      "gen/LSTM/12/FC3/b:0               [100]                100\n",
      "gen/LSTM/12/attw:0                [3, 1, 1]              3\n",
      "gen/LSTM/13/FC/W:0                [100, 100]         10000\n",
      "gen/LSTM/13/FC/b:0                [100]                100\n",
      "gen/LSTM/13/FC2/W:0               [100, 5]             500\n",
      "gen/LSTM/13/FC2/b:0               [5]                    5\n",
      "gen/LSTM/13/FC3/W:0               [5, 100]             500\n",
      "gen/LSTM/13/FC3/b:0               [100]                100\n",
      "gen/LSTM/13/attw:0                [3, 1, 1]              3\n",
      "gen/LSTM/14/FC_inputs/W:0         [200, 100]         20000\n",
      "gen/LSTM/14/FC_inputs/b:0         [100]                100\n",
      "gen/LSTM/14/FC_attentions/W:0     [200, 100]         20000\n",
      "gen/LSTM/14/FC_attentions/b:0     [100]                100\n",
      "gen/LSTM/14/FC_lstm_state_0/W:0   [200, 100]         20000\n",
      "gen/LSTM/14/FC_lstm_state_0/b:0   [100]                100\n",
      "gen/LSTM/14/FC_lstm_state_1/W:0   [200, 100]         20000\n",
      "gen/LSTM/14/FC_lstm_state_1/b:0   [100]                100\n",
      "gen/LSTM/15/FC/W:0                [100, 100]         10000\n",
      "gen/LSTM/15/FC/b:0                [100]                100\n",
      "gen/LSTM/15/FC2/W:0               [100, 3]             300\n",
      "gen/LSTM/15/FC2/b:0               [3]                    3\n",
      "gen/LSTM/15/FC3/W:0               [3, 100]             300\n",
      "gen/LSTM/15/FC3/b:0               [100]                100\n",
      "gen/LSTM/15/attw:0                [5, 1, 1]              5\n",
      "gen/LSTM/16/FC/W:0                [100, 100]         10000\n",
      "gen/LSTM/16/FC/b:0                [100]                100\n",
      "gen/LSTM/16/FC2/W:0               [100, 1]             100\n",
      "gen/LSTM/16/FC2/b:0               [1]                    1\n",
      "gen/LSTM/16/attw:0                [4, 1, 1]              4\n",
      "gen/LSTM/17/FC/W:0                [100, 100]         10000\n",
      "gen/LSTM/17/FC/b:0                [100]                100\n",
      "gen/LSTM/17/FC2/W:0               [100, 5]             500\n",
      "gen/LSTM/17/FC2/b:0               [5]                    5\n",
      "gen/LSTM/17/FC3/W:0               [5, 100]             500\n",
      "gen/LSTM/17/FC3/b:0               [100]                100\n",
      "gen/LSTM/17/attw:0                [5, 1, 1]              5\n",
      "gen/LSTM/18/FC/W:0                [100, 100]         10000\n",
      "gen/LSTM/18/FC/b:0                [100]                100\n",
      "gen/LSTM/18/FC2/W:0               [100, 1]             100\n",
      "gen/LSTM/18/FC2/b:0               [1]                    1\n",
      "gen/LSTM/18/attw:0                [4, 1, 1]              4\n",
      "gen/LSTM/19/FC/W:0                [100, 100]         10000\n",
      "gen/LSTM/19/FC/b:0                [100]                100\n",
      "gen/LSTM/19/FC2/W:0               [100, 5]             500\n",
      "gen/LSTM/19/FC2/b:0               [5]                    5\n",
      "gen/LSTM/19/FC3/W:0               [5, 100]             500\n",
      "gen/LSTM/19/FC3/b:0               [100]                100\n",
      "gen/LSTM/19/attw:0                [5, 1, 1]              5\n",
      "gen/LSTM/20/FC/W:0                [100, 100]         10000\n",
      "gen/LSTM/20/FC/b:0                [100]                100\n",
      "gen/LSTM/20/FC2/W:0               [100, 6]             600\n",
      "gen/LSTM/20/FC2/b:0               [6]                    6\n",
      "gen/LSTM/20/FC3/W:0               [6, 100]             600\n",
      "gen/LSTM/20/FC3/b:0               [100]                100\n",
      "gen/LSTM/20/attw:0                [6, 1, 1]              6\n",
      "gen/LSTM/21/FC_inputs/W:0         [200, 100]         20000\n",
      "gen/LSTM/21/FC_inputs/b:0         [100]                100\n",
      "gen/LSTM/21/FC_attentions/W:0     [200, 100]         20000\n",
      "gen/LSTM/21/FC_attentions/b:0     [100]                100\n",
      "gen/LSTM/21/FC_lstm_state_0/W:0   [200, 100]         20000\n",
      "gen/LSTM/21/FC_lstm_state_0/b:0   [100]                100\n",
      "gen/LSTM/21/FC_lstm_state_1/W:0   [200, 100]         20000\n",
      "gen/LSTM/21/FC_lstm_state_1/b:0   [100]                100\n",
      "gen/LSTM/22/FC/W:0                [100, 100]         10000\n",
      "gen/LSTM/22/FC/b:0                [100]                100\n",
      "gen/LSTM/22/FC2/W:0               [100, 1]             100\n",
      "gen/LSTM/22/FC2/b:0               [1]                    1\n",
      "gen/LSTM/22/attw:0                [6, 1, 1]              6\n",
      "gen/LSTM/23/FC/W:0                [100, 100]         10000\n",
      "gen/LSTM/23/FC/b:0                [100]                100\n",
      "gen/LSTM/23/FC2/W:0               [100, 5]             500\n",
      "gen/LSTM/23/FC2/b:0               [5]                    5\n",
      "gen/LSTM/23/FC3/W:0               [5, 100]             500\n",
      "gen/LSTM/23/FC3/b:0               [100]                100\n",
      "gen/LSTM/23/attw:0                [7, 1, 1]              7\n",
      "gen/LSTM/24/FC_inputs/W:0         [200, 100]         20000\n",
      "gen/LSTM/24/FC_inputs/b:0         [100]                100\n",
      "gen/LSTM/24/FC_attentions/W:0     [200, 100]         20000\n",
      "gen/LSTM/24/FC_attentions/b:0     [100]                100\n",
      "gen/LSTM/24/FC_lstm_state_0/W:0   [200, 100]         20000\n",
      "gen/LSTM/24/FC_lstm_state_0/b:0   [100]                100\n",
      "gen/LSTM/24/FC_lstm_state_1/W:0   [200, 100]         20000\n",
      "gen/LSTM/24/FC_lstm_state_1/b:0   [100]                100\n",
      "gen/LSTM/25/FC/W:0                [100, 100]         10000\n",
      "gen/LSTM/25/FC/b:0                [100]                100\n",
      "gen/LSTM/25/FC2/W:0               [100, 1]             100\n",
      "gen/LSTM/25/FC2/b:0               [1]                    1\n",
      "gen/LSTM/25/attw:0                [12, 1, 1]            12\n",
      "gen/LSTM/26/FC/W:0                [100, 100]         10000\n",
      "gen/LSTM/26/FC/b:0                [100]                100\n",
      "gen/LSTM/26/FC2/W:0               [100, 5]             500\n",
      "gen/LSTM/26/FC2/b:0               [5]                    5\n",
      "gen/LSTM/26/FC3/W:0               [5, 100]             500\n",
      "gen/LSTM/26/FC3/b:0               [100]                100\n",
      "gen/LSTM/26/attw:0                [13, 1, 1]            13\n",
      "gen/LSTM/27/FC/W:0                [100, 100]         10000\n",
      "gen/LSTM/27/FC/b:0                [100]                100\n",
      "gen/LSTM/27/FC2/W:0               [100, 1]             100\n",
      "gen/LSTM/27/FC2/b:0               [1]                    1\n",
      "gen/LSTM/27/attw:0                [6, 1, 1]              6\n",
      "gen/LSTM/28/FC/W:0                [100, 100]         10000\n",
      "gen/LSTM/28/FC/b:0                [100]                100\n",
      "gen/LSTM/28/FC2/W:0               [100, 5]             500\n",
      "gen/LSTM/28/FC2/b:0               [5]                    5\n",
      "gen/LSTM/28/FC3/W:0               [5, 100]             500\n",
      "gen/LSTM/28/FC3/b:0               [100]                100\n",
      "gen/LSTM/28/attw:0                [7, 1, 1]              7\n",
      "gen/LSTM/29/FC/W:0                [100, 100]         10000\n",
      "gen/LSTM/29/FC/b:0                [100]                100\n",
      "gen/LSTM/29/FC2/W:0               [100, 1]             100\n",
      "gen/LSTM/29/FC2/b:0               [1]                    1\n",
      "gen/LSTM/29/attw:0                [6, 1, 1]              6\n",
      "gen/LSTM/30/FC/W:0                [100, 100]         10000\n",
      "gen/LSTM/30/FC/b:0                [100]                100\n",
      "gen/LSTM/30/FC2/W:0               [100, 5]             500\n",
      "gen/LSTM/30/FC2/b:0               [5]                    5\n",
      "gen/LSTM/30/FC3/W:0               [5, 100]             500\n",
      "gen/LSTM/30/FC3/b:0               [100]                100\n",
      "gen/LSTM/30/attw:0                [7, 1, 1]              7\n",
      "gen/LSTM/31/FC/W:0                [100, 100]         10000\n",
      "gen/LSTM/31/FC/b:0                [100]                100\n",
      "gen/LSTM/31/FC2/W:0               [100, 1]             100\n",
      "gen/LSTM/31/FC2/b:0               [1]                    1\n",
      "gen/LSTM/31/attw:0                [6, 1, 1]              6\n",
      "gen/LSTM/32/FC/W:0                [100, 100]         10000\n",
      "gen/LSTM/32/FC/b:0                [100]                100\n",
      "gen/LSTM/32/FC2/W:0               [100, 5]             500\n",
      "gen/LSTM/32/FC2/b:0               [5]                    5\n",
      "gen/LSTM/32/FC3/W:0               [5, 100]             500\n",
      "gen/LSTM/32/FC3/b:0               [100]                100\n",
      "gen/LSTM/32/attw:0                [7, 1, 1]              7\n",
      "gen/LSTM/33/FC/W:0                [100, 100]         10000\n",
      "gen/LSTM/33/FC/b:0                [100]                100\n",
      "gen/LSTM/33/FC2/W:0               [100, 1]             100\n",
      "gen/LSTM/33/FC2/b:0               [1]                    1\n",
      "gen/LSTM/33/attw:0                [6, 1, 1]              6\n",
      "gen/LSTM/34/FC/W:0                [100, 100]         10000\n",
      "gen/LSTM/34/FC/b:0                [100]                100\n",
      "gen/LSTM/34/FC2/W:0               [100, 5]             500\n",
      "gen/LSTM/34/FC2/b:0               [5]                    5\n",
      "gen/LSTM/34/FC3/W:0               [5, 100]             500\n",
      "gen/LSTM/34/FC3/b:0               [100]                100\n",
      "gen/LSTM/34/attw:0                [7, 1, 1]              7\n",
      "gen/LSTM/35/FC/W:0                [100, 100]         10000\n",
      "gen/LSTM/35/FC/b:0                [100]                100\n",
      "gen/LSTM/35/FC2/W:0               [100, 1]             100\n",
      "gen/LSTM/35/FC2/b:0               [1]                    1\n",
      "gen/LSTM/35/attw:0                [6, 1, 1]              6\n",
      "gen/LSTM/36/FC/W:0                [100, 100]         10000\n",
      "gen/LSTM/36/FC/b:0                [100]                100\n",
      "gen/LSTM/36/FC2/W:0               [100, 5]             500\n",
      "gen/LSTM/36/FC2/b:0               [5]                    5\n",
      "gen/LSTM/36/FC3/W:0               [5, 100]             500\n",
      "gen/LSTM/36/FC3/b:0               [100]                100\n",
      "gen/LSTM/36/attw:0                [7, 1, 1]              7\n",
      "gen/LSTM/37/FC/W:0                [100, 100]         10000\n",
      "gen/LSTM/37/FC/b:0                [100]                100\n",
      "gen/LSTM/37/FC2/W:0               [100, 1]             100\n",
      "gen/LSTM/37/FC2/b:0               [1]                    1\n",
      "gen/LSTM/37/attw:0                [6, 1, 1]              6\n",
      "gen/LSTM/38/FC/W:0                [100, 100]         10000\n",
      "gen/LSTM/38/FC/b:0                [100]                100\n",
      "gen/LSTM/38/FC2/W:0               [100, 5]             500\n",
      "gen/LSTM/38/FC2/b:0               [5]                    5\n",
      "gen/LSTM/38/FC3/W:0               [5, 100]             500\n",
      "gen/LSTM/38/FC3/b:0               [100]                100\n",
      "gen/LSTM/38/attw:0                [7, 1, 1]              7\n",
      "gen/LSTM/39/FC_inputs/W:0         [200, 100]         20000\n",
      "gen/LSTM/39/FC_inputs/b:0         [100]                100\n",
      "gen/LSTM/39/FC_attentions/W:0     [200, 100]         20000\n",
      "gen/LSTM/39/FC_attentions/b:0     [100]                100\n",
      "gen/LSTM/39/FC_lstm_state_0/W:0   [200, 100]         20000\n",
      "gen/LSTM/39/FC_lstm_state_0/b:0   [100]                100\n",
      "gen/LSTM/39/FC_lstm_state_1/W:0   [200, 100]         20000\n",
      "gen/LSTM/39/FC_lstm_state_1/b:0   [100]                100\n",
      "gen/LSTM/40/FC/W:0                [100, 100]         10000\n",
      "gen/LSTM/40/FC/b:0                [100]                100\n",
      "gen/LSTM/40/FC2/W:0               [100, 1]             100\n",
      "gen/LSTM/40/FC2/b:0               [1]                    1\n",
      "gen/LSTM/40/attw:0                [7, 1, 1]              7\n",
      "gen/LSTM/41/FC/W:0                [100, 100]         10000\n",
      "gen/LSTM/41/FC/b:0                [100]                100\n",
      "gen/LSTM/41/FC2/W:0               [100, 5]             500\n",
      "gen/LSTM/41/FC2/b:0               [5]                    5\n",
      "gen/LSTM/41/FC3/W:0               [5, 100]             500\n",
      "gen/LSTM/41/FC3/b:0               [100]                100\n",
      "gen/LSTM/41/attw:0                [8, 1, 1]              8\n",
      "gen/LSTM/42/FC_inputs/W:0         [500, 100]         50000\n",
      "gen/LSTM/42/FC_inputs/b:0         [100]                100\n",
      "gen/LSTM/42/FC_attentions/W:0     [500, 100]         50000\n",
      "gen/LSTM/42/FC_attentions/b:0     [100]                100\n",
      "gen/LSTM/42/FC_lstm_state_0/W:0   [500, 100]         50000\n",
      "gen/LSTM/42/FC_lstm_state_0/b:0   [100]                100\n",
      "gen/LSTM/42/FC_lstm_state_1/W:0   [500, 100]         50000\n",
      "gen/LSTM/42/FC_lstm_state_1/b:0   [100]                100\n",
      "gen/LSTM/43/FC/W:0                [100, 100]         10000\n",
      "gen/LSTM/43/FC/b:0                [100]                100\n",
      "gen/LSTM/43/FC2/W:0               [100, 2]             200\n",
      "gen/LSTM/43/FC2/b:0               [2]                    2\n",
      "gen/LSTM/43/FC3/W:0               [2, 100]             200\n",
      "gen/LSTM/43/FC3/b:0               [100]                100\n",
      "gen/LSTM/43/attw:0                [14, 1, 1]            14\n",
      "gen/LSTM/44/FC_inputs/W:0         [500, 100]         50000\n",
      "gen/LSTM/44/FC_inputs/b:0         [100]                100\n",
      "gen/LSTM/44/FC_attentions/W:0     [500, 100]         50000\n",
      "gen/LSTM/44/FC_attentions/b:0     [100]                100\n",
      "gen/LSTM/44/FC_lstm_state_0/W:0   [500, 100]         50000\n",
      "gen/LSTM/44/FC_lstm_state_0/b:0   [100]                100\n",
      "gen/LSTM/44/FC_lstm_state_1/W:0   [500, 100]         50000\n",
      "gen/LSTM/44/FC_lstm_state_1/b:0   [100]                100\n",
      "gen/LSTM/45/FC/W:0                [100, 100]         10000\n",
      "gen/LSTM/45/FC/b:0                [100]                100\n",
      "gen/LSTM/45/FC2/W:0               [100, 1]             100\n",
      "gen/LSTM/45/FC2/b:0               [1]                    1\n",
      "gen/LSTM/45/attw:0                [15, 1, 1]            15\n",
      "gen/LSTM/46/FC/W:0                [100, 100]         10000\n",
      "gen/LSTM/46/FC/b:0                [100]                100\n",
      "gen/LSTM/46/FC2/W:0               [100, 5]             500\n",
      "gen/LSTM/46/FC2/b:0               [5]                    5\n",
      "gen/LSTM/46/FC3/W:0               [5, 100]             500\n",
      "gen/LSTM/46/FC3/b:0               [100]                100\n",
      "gen/LSTM/46/attw:0                [16, 1, 1]            16\n",
      "gen/LSTM/47/FC_inputs/W:0         [1500, 100]       150000\n",
      "gen/LSTM/47/FC_inputs/b:0         [100]                100\n",
      "gen/LSTM/47/FC_attentions/W:0     [1500, 100]       150000\n",
      "gen/LSTM/47/FC_attentions/b:0     [100]                100\n",
      "gen/LSTM/47/FC_lstm_state_0/W:0   [1500, 100]       150000\n",
      "gen/LSTM/47/FC_lstm_state_0/b:0   [100]                100\n",
      "gen/LSTM/47/FC_lstm_state_1/W:0   [1500, 100]       150000\n",
      "gen/LSTM/47/FC_lstm_state_1/b:0   [100]                100\n",
      "gen/LSTM/48/FC/W:0                [100, 100]         10000\n",
      "gen/LSTM/48/FC/b:0                [100]                100\n",
      "gen/LSTM/48/FC2/W:0               [100, 4]             400\n",
      "gen/LSTM/48/FC2/b:0               [4]                    4\n",
      "gen/LSTM/48/FC3/W:0               [4, 100]             400\n",
      "gen/LSTM/48/FC3/b:0               [100]                100\n",
      "gen/LSTM/48/attw:0                [38, 1, 1]            38\n",
      "discrim/dis_fc0/fc/W:0            [172, 100]         17200\n",
      "discrim/dis_fc0/fc/b:0            [100]                100\n",
      "discrim/dis_fc0/fc_diversity/W:0  [100, 100]         10000\n",
      "discrim/dis_fc0/fc_diversity/b:0  [100]                100\n",
      "discrim/dis_fc0/bn/beta:0         [110]                110\n",
      "discrim/dis_fc_top/W:0            [110, 1]             110\n",
      "discrim/dis_fc_top/b:0            [1]                    1\u001b[36m\n",
      "Number of trainable variables: 340\n",
      "Number of parameters (elements): 2082261\n",
      "Storage space needed for all trainable variables: 7.94MB\u001b[0m\n"
     ]
    },
    {
     "name": "stdout",
     "output_type": "stream",
     "text": [
      "\u001b[32m[0922 08:43:17 @base.py:209]\u001b[0m Setup callbacks graph ...\n",
      "WARNING:tensorflow:From D:\\Users\\glede\\anaconda3\\envs\\py37\\lib\\site-packages\\tensorpack\\callbacks\\graph.py:54: The name tf.train.SessionRunArgs is deprecated. Please use tf.estimator.SessionRunArgs instead.\n",
      "\n",
      "WARNING:tensorflow:From D:\\Users\\glede\\anaconda3\\envs\\py37\\lib\\site-packages\\tensorpack\\tfutils\\common.py:75: The name tf.VariableScope is deprecated. Please use tf.compat.v1.VariableScope instead.\n",
      "\n",
      "WARNING:tensorflow:From D:\\Users\\glede\\anaconda3\\envs\\py37\\lib\\site-packages\\tensorpack\\tfutils\\common.py:77: The name tf.train.get_or_create_global_step is deprecated. Please use tf.compat.v1.train.get_or_create_global_step instead.\n",
      "\n",
      "WARNING:tensorflow:From D:\\Users\\glede\\anaconda3\\envs\\py37\\lib\\site-packages\\tensorpack\\callbacks\\steps.py:117: The name tf.assign_add is deprecated. Please use tf.compat.v1.assign_add instead.\n",
      "\n",
      "WARNING:tensorflow:From D:\\Users\\glede\\anaconda3\\envs\\py37\\lib\\site-packages\\tensorpack\\callbacks\\saver.py:55: The name tf.train.Saver is deprecated. Please use tf.compat.v1.train.Saver instead.\n",
      "\n",
      "WARNING:tensorflow:From D:\\Users\\glede\\anaconda3\\envs\\py37\\lib\\site-packages\\tensorpack\\callbacks\\saver.py:59: The name tf.train.SaverDef is deprecated. Please use tf.compat.v1.train.SaverDef instead.\n",
      "\n",
      "\u001b[32m[0922 08:43:18 @summary.py:46]\u001b[0m [MovingAverageSummary] 6 operations in collection 'MOVING_SUMMARY_OPS' will be run with session hooks.\n",
      "\u001b[32m[0922 08:43:18 @summary.py:93]\u001b[0m Summarizing collection 'summaries' of size 9.\n",
      "WARNING:tensorflow:From D:\\Users\\glede\\anaconda3\\envs\\py37\\lib\\site-packages\\tensorpack\\callbacks\\summary.py:94: The name tf.summary.merge_all is deprecated. Please use tf.compat.v1.summary.merge_all instead.\n",
      "\n",
      "\u001b[32m[0922 08:43:18 @graph.py:98]\u001b[0m Applying collection UPDATE_OPS of 4 ops.\n",
      "WARNING:tensorflow:From D:\\Users\\glede\\anaconda3\\envs\\py37\\lib\\site-packages\\tensorpack\\callbacks\\monitor.py:261: The name tf.summary.FileWriter is deprecated. Please use tf.compat.v1.summary.FileWriter instead.\n",
      "\n",
      "WARNING:tensorflow:From D:\\Users\\glede\\anaconda3\\envs\\py37\\lib\\site-packages\\tensorpack\\tfutils\\sessinit.py:120: The name tf.train.NewCheckpointReader is deprecated. Please use tf.compat.v1.train.NewCheckpointReader instead.\n",
      "\n",
      "WARNING:tensorflow:From D:\\Users\\glede\\anaconda3\\envs\\py37\\lib\\site-packages\\tensorpack\\tfutils\\sessinit.py:127: The name tf.global_variables is deprecated. Please use tf.compat.v1.global_variables instead.\n",
      "\n",
      "\u001b[32m[0922 08:43:20 @base.py:230]\u001b[0m Creating the session ...\n",
      "WARNING:tensorflow:From D:\\Users\\glede\\anaconda3\\envs\\py37\\lib\\site-packages\\tensorpack\\tfutils\\sesscreate.py:42: The name tf.Session is deprecated. Please use tf.compat.v1.Session instead.\n",
      "\n",
      "WARNING:tensorflow:From D:\\Users\\glede\\anaconda3\\envs\\py37\\lib\\site-packages\\tensorpack\\tfutils\\sesscreate.py:71: The name tf.global_variables_initializer is deprecated. Please use tf.compat.v1.global_variables_initializer instead.\n",
      "\n",
      "WARNING:tensorflow:From D:\\Users\\glede\\anaconda3\\envs\\py37\\lib\\site-packages\\tensorpack\\tfutils\\sesscreate.py:62: get_backward_walk_ops (from tensorflow.contrib.graph_editor.select) is deprecated and will be removed after 2019-06-06.\n",
      "Instructions for updating:\n",
      "Please use tensorflow.python.ops.op_selector.get_backward_walk_ops.\n",
      "WARNING:tensorflow:From D:\\Users\\glede\\anaconda3\\envs\\py37\\lib\\site-packages\\tensorpack\\tfutils\\sesscreate.py:72: The name tf.local_variables_initializer is deprecated. Please use tf.compat.v1.local_variables_initializer instead.\n",
      "\n",
      "WARNING:tensorflow:From D:\\Users\\glede\\anaconda3\\envs\\py37\\lib\\site-packages\\tensorpack\\tfutils\\sesscreate.py:73: The name tf.tables_initializer is deprecated. Please use tf.compat.v1.tables_initializer instead.\n",
      "\n",
      "WARNING:tensorflow:From D:\\Users\\glede\\anaconda3\\envs\\py37\\lib\\site-packages\\tensorpack\\train\\base.py:254: The name tf.train.MonitoredSession is deprecated. Please use tf.compat.v1.train.MonitoredSession instead.\n",
      "\n",
      "\u001b[32m[0922 08:43:24 @base.py:236]\u001b[0m Initializing the session ...\n",
      "\u001b[32m[0922 08:43:24 @sessinit.py:114]\u001b[0m Restoring checkpoint from ../output/LPMC/DATGAN/model\\model-666000 ...\n",
      "INFO:tensorflow:Restoring parameters from ../output/LPMC/DATGAN/model\\model-666000\n",
      "\u001b[32m[0922 08:43:24 @base.py:243]\u001b[0m Graph Finalized.\n",
      "WARNING:tensorflow:From D:\\Users\\glede\\anaconda3\\envs\\py37\\lib\\site-packages\\tensorpack\\tfutils\\common.py:89: The name tf.train.global_step is deprecated. Please use tf.compat.v1.train.global_step instead.\n",
      "\n",
      "WARNING:tensorflow:From D:\\Users\\glede\\anaconda3\\envs\\py37\\lib\\site-packages\\tensorpack\\tfutils\\common.py:90: The name tf.get_default_session is deprecated. Please use tf.compat.v1.get_default_session instead.\n",
      "\n",
      "\u001b[32m[0922 08:43:25 @concurrency.py:38]\u001b[0m Starting EnqueueThread QueueInput/input_queue ...\n",
      "\u001b[32m[0922 08:43:25 @steps.py:124]\u001b[0m Start training with global_step=666000\n",
      "\u001b[32m[0922 08:43:26 @monitor.py:347]\u001b[0m Found existing JSON inside ../output/LPMC/DATGAN/logs, will append to it.\n",
      "\u001b[32m[0922 08:43:26 @base.py:275]\u001b[0m Start Epoch 334 ...\n"
     ]
    },
    {
     "name": "stderr",
     "output_type": "stream",
     "text": [
      " 99%|################################################################################3|1985/2000[01:15<00:00,28.46it/s]"
     ]
    },
    {
     "name": "stdout",
     "output_type": "stream",
     "text": [
      "WARNING:tensorflow:From D:\\Users\\glede\\anaconda3\\envs\\py37\\lib\\site-packages\\tensorpack\\callbacks\\monitor.py:148: The name tf.Summary is deprecated. Please use tf.compat.v1.Summary instead.\n",
      "\n"
     ]
    },
    {
     "name": "stderr",
     "output_type": "stream",
     "text": [
      "100%|#################################################################################|2000/2000[01:20<00:00,24.95it/s]"
     ]
    },
    {
     "name": "stdout",
     "output_type": "stream",
     "text": [
      "\u001b[32m[0922 08:44:46 @base.py:285]\u001b[0m Epoch 334 (global_step 668000) finished, time:1 minute 20 seconds.\n",
      "WARNING:tensorflow:From D:\\Users\\glede\\anaconda3\\envs\\py37\\lib\\site-packages\\tensorpack\\callbacks\\saver.py:77: The name tf.train.get_global_step is deprecated. Please use tf.compat.v1.train.get_global_step instead.\n",
      "\n"
     ]
    },
    {
     "name": "stderr",
     "output_type": "stream",
     "text": [
      "\n"
     ]
    },
    {
     "name": "stdout",
     "output_type": "stream",
     "text": [
      "\u001b[32m[0922 08:44:47 @saver.py:79]\u001b[0m Model saved to ../output/LPMC/DATGAN/model\\model-668000.\n",
      "\u001b[32m[0922 08:44:47 @monitor.py:467]\u001b[0m GAN_loss/discrim/accuracy_fake: 0.88\n",
      "\u001b[32m[0922 08:44:47 @monitor.py:467]\u001b[0m GAN_loss/discrim/accuracy_real: 0.23\n",
      "\u001b[32m[0922 08:44:47 @monitor.py:467]\u001b[0m GAN_loss/discrim/loss: 0.63419\n",
      "\u001b[32m[0922 08:44:47 @monitor.py:467]\u001b[0m GAN_loss/gen/final-g-loss: 1.352\n",
      "\u001b[32m[0922 08:44:47 @monitor.py:467]\u001b[0m GAN_loss/gen/klloss: 0.22796\n",
      "\u001b[32m[0922 08:44:47 @monitor.py:467]\u001b[0m GAN_loss/gen/loss: 1.124\n",
      "\u001b[32m[0922 08:44:47 @monitor.py:467]\u001b[0m QueueInput/queue_size: 50\n",
      "\u001b[32m[0922 08:44:47 @base.py:275]\u001b[0m Start Epoch 335 ...\n"
     ]
    },
    {
     "name": "stderr",
     "output_type": "stream",
     "text": [
      "100%|#################################################################################|2000/2000[01:10<00:00,28.35it/s]"
     ]
    },
    {
     "name": "stdout",
     "output_type": "stream",
     "text": [
      "\u001b[32m[0922 08:45:57 @base.py:285]\u001b[0m Epoch 335 (global_step 670000) finished, time:1 minute 10 seconds.\n",
      "\u001b[32m[0922 08:45:57 @saver.py:79]\u001b[0m Model saved to ../output/LPMC/DATGAN/model\\model-670000.\n",
      "\u001b[32m[0922 08:45:57 @monitor.py:467]\u001b[0m GAN_loss/discrim/accuracy_fake: 0.875\n",
      "\u001b[32m[0922 08:45:57 @monitor.py:467]\u001b[0m GAN_loss/discrim/accuracy_real: 0.24\n",
      "\u001b[32m[0922 08:45:57 @monitor.py:467]\u001b[0m GAN_loss/discrim/loss: 0.64702\n",
      "\u001b[32m[0922 08:45:57 @monitor.py:467]\u001b[0m GAN_loss/gen/final-g-loss: 1.3655\n",
      "\u001b[32m[0922 08:45:57 @monitor.py:467]\u001b[0m GAN_loss/gen/klloss: 0.28737\n",
      "\u001b[32m[0922 08:45:57 @monitor.py:467]\u001b[0m GAN_loss/gen/loss: 1.0781\n",
      "\u001b[32m[0922 08:45:57 @monitor.py:467]\u001b[0m QueueInput/queue_size: 50\n",
      "\u001b[32m[0922 08:45:57 @base.py:275]\u001b[0m Start Epoch 336 ...\n"
     ]
    },
    {
     "name": "stderr",
     "output_type": "stream",
     "text": [
      "\n",
      "100%|#################################################################################|2000/2000[01:10<00:00,28.23it/s]"
     ]
    },
    {
     "name": "stdout",
     "output_type": "stream",
     "text": [
      "\u001b[32m[0922 08:47:08 @base.py:285]\u001b[0m Epoch 336 (global_step 672000) finished, time:1 minute 10 seconds.\n",
      "\u001b[32m[0922 08:47:08 @saver.py:79]\u001b[0m Model saved to ../output/LPMC/DATGAN/model\\model-672000.\n"
     ]
    },
    {
     "name": "stderr",
     "output_type": "stream",
     "text": [
      "\n"
     ]
    },
    {
     "name": "stdout",
     "output_type": "stream",
     "text": [
      "\u001b[32m[0922 08:47:08 @monitor.py:467]\u001b[0m GAN_loss/discrim/accuracy_fake: 0.895\n",
      "\u001b[32m[0922 08:47:08 @monitor.py:467]\u001b[0m GAN_loss/discrim/accuracy_real: 0.225\n",
      "\u001b[32m[0922 08:47:08 @monitor.py:467]\u001b[0m GAN_loss/discrim/loss: 0.64374\n",
      "\u001b[32m[0922 08:47:08 @monitor.py:467]\u001b[0m GAN_loss/gen/final-g-loss: 1.3291\n",
      "\u001b[32m[0922 08:47:08 @monitor.py:467]\u001b[0m GAN_loss/gen/klloss: 0.27406\n",
      "\u001b[32m[0922 08:47:08 @monitor.py:467]\u001b[0m GAN_loss/gen/loss: 1.055\n",
      "\u001b[32m[0922 08:47:08 @monitor.py:467]\u001b[0m QueueInput/queue_size: 50\n",
      "\u001b[32m[0922 08:47:08 @base.py:275]\u001b[0m Start Epoch 337 ...\n"
     ]
    },
    {
     "name": "stderr",
     "output_type": "stream",
     "text": [
      "100%|#################################################################################|2000/2000[01:13<00:00,27.10it/s]"
     ]
    },
    {
     "name": "stdout",
     "output_type": "stream",
     "text": [
      "\u001b[32m[0922 08:48:22 @base.py:285]\u001b[0m Epoch 337 (global_step 674000) finished, time:1 minute 13 seconds.\n",
      "\u001b[32m[0922 08:48:22 @saver.py:79]\u001b[0m Model saved to ../output/LPMC/DATGAN/model\\model-674000.\n",
      "\u001b[32m[0922 08:48:22 @monitor.py:467]\u001b[0m GAN_loss/discrim/accuracy_fake: 0.89\n",
      "\u001b[32m[0922 08:48:22 @monitor.py:467]\u001b[0m GAN_loss/discrim/accuracy_real: 0.225\n",
      "\u001b[32m[0922 08:48:22 @monitor.py:467]\u001b[0m GAN_loss/discrim/loss: 0.64126\n",
      "\u001b[32m[0922 08:48:22 @monitor.py:467]\u001b[0m GAN_loss/gen/final-g-loss: 1.4295\n",
      "\u001b[32m[0922 08:48:22 @monitor.py:467]\u001b[0m GAN_loss/gen/klloss: 0.3428\n",
      "\u001b[32m[0922 08:48:22 @monitor.py:467]\u001b[0m GAN_loss/gen/loss: 1.0867\n",
      "\u001b[32m[0922 08:48:22 @monitor.py:467]\u001b[0m QueueInput/queue_size: 50\n",
      "\u001b[32m[0922 08:48:22 @base.py:275]\u001b[0m Start Epoch 338 ...\n"
     ]
    },
    {
     "name": "stderr",
     "output_type": "stream",
     "text": [
      "\n",
      "100%|#################################################################################|2000/2000[01:11<00:00,27.99it/s]"
     ]
    },
    {
     "name": "stdout",
     "output_type": "stream",
     "text": [
      "\u001b[32m[0922 08:49:34 @base.py:285]\u001b[0m Epoch 338 (global_step 676000) finished, time:1 minute 11 seconds.\n",
      "\u001b[32m[0922 08:49:34 @saver.py:79]\u001b[0m Model saved to ../output/LPMC/DATGAN/model\\model-676000.\n",
      "\u001b[32m[0922 08:49:34 @monitor.py:467]\u001b[0m GAN_loss/discrim/accuracy_fake: 0.89\n",
      "\u001b[32m[0922 08:49:34 @monitor.py:467]\u001b[0m GAN_loss/discrim/accuracy_real: 0.22\n",
      "\u001b[32m[0922 08:49:34 @monitor.py:467]\u001b[0m GAN_loss/discrim/loss: 0.63935\n",
      "\u001b[32m[0922 08:49:34 @monitor.py:467]\u001b[0m GAN_loss/gen/final-g-loss: 1.222\n",
      "\u001b[32m[0922 08:49:34 @monitor.py:467]\u001b[0m GAN_loss/gen/klloss: 0.1507\n",
      "\u001b[32m[0922 08:49:34 @monitor.py:467]\u001b[0m GAN_loss/gen/loss: 1.0713\n",
      "\u001b[32m[0922 08:49:34 @monitor.py:467]\u001b[0m QueueInput/queue_size: 50\n",
      "\u001b[32m[0922 08:49:34 @base.py:275]\u001b[0m Start Epoch 339 ...\n"
     ]
    },
    {
     "name": "stderr",
     "output_type": "stream",
     "text": [
      "\n",
      "100%|#################################################################################|2000/2000[01:11<00:00,28.14it/s]"
     ]
    },
    {
     "name": "stdout",
     "output_type": "stream",
     "text": [
      "\u001b[32m[0922 08:50:45 @base.py:285]\u001b[0m Epoch 339 (global_step 678000) finished, time:1 minute 11 seconds.\n",
      "\u001b[32m[0922 08:50:45 @saver.py:79]\u001b[0m Model saved to ../output/LPMC/DATGAN/model\\model-678000.\n",
      "\u001b[32m[0922 08:50:45 @monitor.py:467]\u001b[0m GAN_loss/discrim/accuracy_fake: 0.875\n",
      "\u001b[32m[0922 08:50:45 @monitor.py:467]\u001b[0m GAN_loss/discrim/accuracy_real: 0.245\n",
      "\u001b[32m[0922 08:50:45 @monitor.py:467]\u001b[0m GAN_loss/discrim/loss: 0.6351\n",
      "\u001b[32m[0922 08:50:45 @monitor.py:467]\u001b[0m GAN_loss/gen/final-g-loss: 1.3089\n",
      "\u001b[32m[0922 08:50:45 @monitor.py:467]\u001b[0m GAN_loss/gen/klloss: 0.23768\n",
      "\u001b[32m[0922 08:50:45 @monitor.py:467]\u001b[0m GAN_loss/gen/loss: 1.0712\n",
      "\u001b[32m[0922 08:50:45 @monitor.py:467]\u001b[0m QueueInput/queue_size: 50\n",
      "\u001b[32m[0922 08:50:45 @base.py:275]\u001b[0m Start Epoch 340 ...\n"
     ]
    },
    {
     "name": "stderr",
     "output_type": "stream",
     "text": [
      "\n",
      "100%|#################################################################################|2000/2000[01:11<00:00,28.08it/s]"
     ]
    },
    {
     "name": "stdout",
     "output_type": "stream",
     "text": [
      "\u001b[32m[0922 08:51:56 @base.py:285]\u001b[0m Epoch 340 (global_step 680000) finished, time:1 minute 11 seconds.\n"
     ]
    },
    {
     "name": "stderr",
     "output_type": "stream",
     "text": [
      "\n"
     ]
    },
    {
     "name": "stdout",
     "output_type": "stream",
     "text": [
      "\u001b[32m[0922 08:51:56 @saver.py:79]\u001b[0m Model saved to ../output/LPMC/DATGAN/model\\model-680000.\n",
      "\u001b[32m[0922 08:51:56 @monitor.py:467]\u001b[0m GAN_loss/discrim/accuracy_fake: 0.85\n",
      "\u001b[32m[0922 08:51:56 @monitor.py:467]\u001b[0m GAN_loss/discrim/accuracy_real: 0.24\n",
      "\u001b[32m[0922 08:51:56 @monitor.py:467]\u001b[0m GAN_loss/discrim/loss: 0.64022\n",
      "\u001b[32m[0922 08:51:56 @monitor.py:467]\u001b[0m GAN_loss/gen/final-g-loss: 1.2969\n",
      "\u001b[32m[0922 08:51:56 @monitor.py:467]\u001b[0m GAN_loss/gen/klloss: 0.22525\n",
      "\u001b[32m[0922 08:51:56 @monitor.py:467]\u001b[0m GAN_loss/gen/loss: 1.0717\n",
      "\u001b[32m[0922 08:51:56 @monitor.py:467]\u001b[0m QueueInput/queue_size: 50\n",
      "\u001b[32m[0922 08:51:56 @base.py:275]\u001b[0m Start Epoch 341 ...\n"
     ]
    },
    {
     "name": "stderr",
     "output_type": "stream",
     "text": [
      "100%|#################################################################################|2000/2000[01:10<00:00,28.24it/s]"
     ]
    },
    {
     "name": "stdout",
     "output_type": "stream",
     "text": [
      "\u001b[32m[0922 08:53:07 @base.py:285]\u001b[0m Epoch 341 (global_step 682000) finished, time:1 minute 10 seconds.\n",
      "\u001b[32m[0922 08:53:07 @saver.py:79]\u001b[0m Model saved to ../output/LPMC/DATGAN/model\\model-682000.\n",
      "\u001b[32m[0922 08:53:07 @monitor.py:467]\u001b[0m GAN_loss/discrim/accuracy_fake: 0.88\n",
      "\u001b[32m[0922 08:53:07 @monitor.py:467]\u001b[0m GAN_loss/discrim/accuracy_real: 0.18\n",
      "\u001b[32m[0922 08:53:07 @monitor.py:467]\u001b[0m GAN_loss/discrim/loss: 0.63785\n",
      "\u001b[32m[0922 08:53:07 @monitor.py:467]\u001b[0m GAN_loss/gen/final-g-loss: 1.4065\n",
      "\u001b[32m[0922 08:53:07 @monitor.py:467]\u001b[0m GAN_loss/gen/klloss: 0.33909\n",
      "\u001b[32m[0922 08:53:07 @monitor.py:467]\u001b[0m GAN_loss/gen/loss: 1.0675\n",
      "\u001b[32m[0922 08:53:07 @monitor.py:467]\u001b[0m QueueInput/queue_size: 50\n",
      "\u001b[32m[0922 08:53:07 @base.py:275]\u001b[0m Start Epoch 342 ...\n"
     ]
    },
    {
     "name": "stderr",
     "output_type": "stream",
     "text": [
      "\n",
      "100%|#################################################################################|2000/2000[01:11<00:00,28.15it/s]"
     ]
    },
    {
     "name": "stdout",
     "output_type": "stream",
     "text": [
      "\u001b[32m[0922 08:54:18 @base.py:285]\u001b[0m Epoch 342 (global_step 684000) finished, time:1 minute 11 seconds.\n",
      "\u001b[32m[0922 08:54:19 @saver.py:79]\u001b[0m Model saved to ../output/LPMC/DATGAN/model\\model-684000.\n",
      "\u001b[32m[0922 08:54:19 @monitor.py:467]\u001b[0m GAN_loss/discrim/accuracy_fake: 0.87\n",
      "\u001b[32m[0922 08:54:19 @monitor.py:467]\u001b[0m GAN_loss/discrim/accuracy_real: 0.21\n",
      "\u001b[32m[0922 08:54:19 @monitor.py:467]\u001b[0m GAN_loss/discrim/loss: 0.64046\n",
      "\u001b[32m[0922 08:54:19 @monitor.py:467]\u001b[0m GAN_loss/gen/final-g-loss: 1.3166\n",
      "\u001b[32m[0922 08:54:19 @monitor.py:467]\u001b[0m GAN_loss/gen/klloss: 0.23528\n",
      "\u001b[32m[0922 08:54:19 @monitor.py:467]\u001b[0m GAN_loss/gen/loss: 1.0813\n",
      "\u001b[32m[0922 08:54:19 @monitor.py:467]\u001b[0m QueueInput/queue_size: 50\n",
      "\u001b[32m[0922 08:54:19 @base.py:275]\u001b[0m Start Epoch 343 ...\n"
     ]
    },
    {
     "name": "stderr",
     "output_type": "stream",
     "text": [
      "\n",
      "100%|#################################################################################|2000/2000[01:10<00:00,28.27it/s]"
     ]
    },
    {
     "name": "stdout",
     "output_type": "stream",
     "text": [
      "\u001b[32m[0922 08:55:29 @base.py:285]\u001b[0m Epoch 343 (global_step 686000) finished, time:1 minute 10 seconds.\n"
     ]
    },
    {
     "name": "stderr",
     "output_type": "stream",
     "text": [
      "\n"
     ]
    },
    {
     "name": "stdout",
     "output_type": "stream",
     "text": [
      "\u001b[32m[0922 08:55:29 @saver.py:79]\u001b[0m Model saved to ../output/LPMC/DATGAN/model\\model-686000.\n",
      "\u001b[32m[0922 08:55:29 @monitor.py:467]\u001b[0m GAN_loss/discrim/accuracy_fake: 0.905\n",
      "\u001b[32m[0922 08:55:30 @monitor.py:467]\u001b[0m GAN_loss/discrim/accuracy_real: 0.16\n",
      "\u001b[32m[0922 08:55:30 @monitor.py:467]\u001b[0m GAN_loss/discrim/loss: 0.64034\n",
      "\u001b[32m[0922 08:55:30 @monitor.py:467]\u001b[0m GAN_loss/gen/final-g-loss: 1.2909\n",
      "\u001b[32m[0922 08:55:30 @monitor.py:467]\u001b[0m GAN_loss/gen/klloss: 0.1893\n",
      "\u001b[32m[0922 08:55:30 @monitor.py:467]\u001b[0m GAN_loss/gen/loss: 1.1016\n",
      "\u001b[32m[0922 08:55:30 @monitor.py:467]\u001b[0m QueueInput/queue_size: 50\n",
      "\u001b[32m[0922 08:55:30 @base.py:275]\u001b[0m Start Epoch 344 ...\n"
     ]
    },
    {
     "name": "stderr",
     "output_type": "stream",
     "text": [
      "100%|#################################################################################|2000/2000[01:11<00:00,28.09it/s]"
     ]
    },
    {
     "name": "stdout",
     "output_type": "stream",
     "text": [
      "\u001b[32m[0922 08:56:41 @base.py:285]\u001b[0m Epoch 344 (global_step 688000) finished, time:1 minute 11 seconds.\n",
      "WARNING:tensorflow:From D:\\Users\\glede\\anaconda3\\envs\\py37\\lib\\site-packages\\tensorflow_core\\python\\training\\saver.py:963: remove_checkpoint (from tensorflow.python.training.checkpoint_management) is deprecated and will be removed in a future version.\n",
      "Instructions for updating:\n",
      "Use standard file APIs to delete files with this prefix.\n",
      "\u001b[32m[0922 08:56:41 @saver.py:79]\u001b[0m Model saved to ../output/LPMC/DATGAN/model\\model-688000.\n",
      "\u001b[32m[0922 08:56:41 @monitor.py:467]\u001b[0m GAN_loss/discrim/accuracy_fake: 0.86\n",
      "\u001b[32m[0922 08:56:41 @monitor.py:467]\u001b[0m GAN_loss/discrim/accuracy_real: 0.22\n",
      "\u001b[32m[0922 08:56:41 @monitor.py:467]\u001b[0m GAN_loss/discrim/loss: 0.64642\n",
      "\u001b[32m[0922 08:56:41 @monitor.py:467]\u001b[0m GAN_loss/gen/final-g-loss: 1.2795\n",
      "\u001b[32m[0922 08:56:41 @monitor.py:467]\u001b[0m GAN_loss/gen/klloss: 0.20638\n",
      "\u001b[32m[0922 08:56:41 @monitor.py:467]\u001b[0m GAN_loss/gen/loss: 1.0731\n",
      "\u001b[32m[0922 08:56:41 @monitor.py:467]\u001b[0m QueueInput/queue_size: 50\n",
      "\u001b[32m[0922 08:56:41 @base.py:275]\u001b[0m Start Epoch 345 ...\n"
     ]
    },
    {
     "name": "stderr",
     "output_type": "stream",
     "text": [
      "\n",
      "100%|#################################################################################|2000/2000[01:10<00:00,28.25it/s]"
     ]
    },
    {
     "name": "stdout",
     "output_type": "stream",
     "text": [
      "\u001b[32m[0922 08:57:52 @base.py:285]\u001b[0m Epoch 345 (global_step 690000) finished, time:1 minute 10 seconds.\n",
      "\u001b[32m[0922 08:57:52 @saver.py:79]\u001b[0m Model saved to ../output/LPMC/DATGAN/model\\model-690000.\n",
      "\u001b[32m[0922 08:57:52 @monitor.py:467]\u001b[0m GAN_loss/discrim/accuracy_fake: 0.9\n",
      "\u001b[32m[0922 08:57:52 @monitor.py:467]\u001b[0m GAN_loss/discrim/accuracy_real: 0.185\n",
      "\u001b[32m[0922 08:57:52 @monitor.py:467]\u001b[0m GAN_loss/discrim/loss: 0.64586\n",
      "\u001b[32m[0922 08:57:52 @monitor.py:467]\u001b[0m GAN_loss/gen/final-g-loss: 1.2601\n",
      "\u001b[32m[0922 08:57:52 @monitor.py:467]\u001b[0m GAN_loss/gen/klloss: 0.19914\n",
      "\u001b[32m[0922 08:57:52 @monitor.py:467]\u001b[0m GAN_loss/gen/loss: 1.061\n",
      "\u001b[32m[0922 08:57:52 @monitor.py:467]\u001b[0m QueueInput/queue_size: 50\n",
      "\u001b[32m[0922 08:57:52 @base.py:275]\u001b[0m Start Epoch 346 ...\n"
     ]
    },
    {
     "name": "stderr",
     "output_type": "stream",
     "text": [
      "\n",
      "100%|#################################################################################|2000/2000[01:11<00:00,28.11it/s]"
     ]
    },
    {
     "name": "stdout",
     "output_type": "stream",
     "text": [
      "\u001b[32m[0922 08:59:03 @base.py:285]\u001b[0m Epoch 346 (global_step 692000) finished, time:1 minute 11 seconds.\n"
     ]
    },
    {
     "name": "stderr",
     "output_type": "stream",
     "text": [
      "\n"
     ]
    },
    {
     "name": "stdout",
     "output_type": "stream",
     "text": [
      "\u001b[32m[0922 08:59:03 @saver.py:79]\u001b[0m Model saved to ../output/LPMC/DATGAN/model\\model-692000.\n",
      "\u001b[32m[0922 08:59:03 @monitor.py:467]\u001b[0m GAN_loss/discrim/accuracy_fake: 0.89\n",
      "\u001b[32m[0922 08:59:03 @monitor.py:467]\u001b[0m GAN_loss/discrim/accuracy_real: 0.225\n",
      "\u001b[32m[0922 08:59:03 @monitor.py:467]\u001b[0m GAN_loss/discrim/loss: 0.64205\n",
      "\u001b[32m[0922 08:59:03 @monitor.py:467]\u001b[0m GAN_loss/gen/final-g-loss: 1.3281\n",
      "\u001b[32m[0922 08:59:03 @monitor.py:467]\u001b[0m GAN_loss/gen/klloss: 0.2734\n",
      "\u001b[32m[0922 08:59:03 @monitor.py:467]\u001b[0m GAN_loss/gen/loss: 1.0547\n",
      "\u001b[32m[0922 08:59:03 @monitor.py:467]\u001b[0m QueueInput/queue_size: 50\n",
      "\u001b[32m[0922 08:59:03 @base.py:275]\u001b[0m Start Epoch 347 ...\n"
     ]
    },
    {
     "name": "stderr",
     "output_type": "stream",
     "text": [
      "100%|#################################################################################|2000/2000[01:10<00:00,28.22it/s]"
     ]
    },
    {
     "name": "stdout",
     "output_type": "stream",
     "text": [
      "\u001b[32m[0922 09:00:14 @base.py:285]\u001b[0m Epoch 347 (global_step 694000) finished, time:1 minute 10 seconds.\n"
     ]
    },
    {
     "name": "stderr",
     "output_type": "stream",
     "text": [
      "\n"
     ]
    },
    {
     "name": "stdout",
     "output_type": "stream",
     "text": [
      "\u001b[32m[0922 09:00:14 @saver.py:79]\u001b[0m Model saved to ../output/LPMC/DATGAN/model\\model-694000.\n",
      "\u001b[32m[0922 09:00:14 @monitor.py:467]\u001b[0m GAN_loss/discrim/accuracy_fake: 0.905\n",
      "\u001b[32m[0922 09:00:14 @monitor.py:467]\u001b[0m GAN_loss/discrim/accuracy_real: 0.22\n",
      "\u001b[32m[0922 09:00:14 @monitor.py:467]\u001b[0m GAN_loss/discrim/loss: 0.62927\n",
      "\u001b[32m[0922 09:00:14 @monitor.py:467]\u001b[0m GAN_loss/gen/final-g-loss: 1.2572\n",
      "\u001b[32m[0922 09:00:14 @monitor.py:467]\u001b[0m GAN_loss/gen/klloss: 0.18097\n",
      "\u001b[32m[0922 09:00:14 @monitor.py:467]\u001b[0m GAN_loss/gen/loss: 1.0763\n",
      "\u001b[32m[0922 09:00:14 @monitor.py:467]\u001b[0m QueueInput/queue_size: 50\n",
      "\u001b[32m[0922 09:00:14 @base.py:275]\u001b[0m Start Epoch 348 ...\n"
     ]
    },
    {
     "name": "stderr",
     "output_type": "stream",
     "text": [
      "100%|#################################################################################|2000/2000[01:10<00:00,28.29it/s]"
     ]
    },
    {
     "name": "stdout",
     "output_type": "stream",
     "text": [
      "\u001b[32m[0922 09:01:25 @base.py:285]\u001b[0m Epoch 348 (global_step 696000) finished, time:1 minute 10 seconds.\n",
      "\u001b[32m[0922 09:01:25 @saver.py:79]\u001b[0m Model saved to ../output/LPMC/DATGAN/model\\model-696000.\n",
      "\u001b[32m[0922 09:01:25 @monitor.py:467]\u001b[0m GAN_loss/discrim/accuracy_fake: 0.84\n",
      "\u001b[32m[0922 09:01:25 @monitor.py:467]\u001b[0m GAN_loss/discrim/accuracy_real: 0.22\n",
      "\u001b[32m[0922 09:01:25 @monitor.py:467]\u001b[0m GAN_loss/discrim/loss: 0.65029\n",
      "\u001b[32m[0922 09:01:25 @monitor.py:467]\u001b[0m GAN_loss/gen/final-g-loss: 1.2771\n",
      "\u001b[32m[0922 09:01:25 @monitor.py:467]\u001b[0m GAN_loss/gen/klloss: 0.23017\n",
      "\u001b[32m[0922 09:01:25 @monitor.py:467]\u001b[0m GAN_loss/gen/loss: 1.047\n",
      "\u001b[32m[0922 09:01:25 @monitor.py:467]\u001b[0m QueueInput/queue_size: 50\n",
      "\u001b[32m[0922 09:01:25 @base.py:275]\u001b[0m Start Epoch 349 ...\n"
     ]
    },
    {
     "name": "stderr",
     "output_type": "stream",
     "text": [
      "\n",
      "100%|#################################################################################|2000/2000[01:10<00:00,28.24it/s]"
     ]
    },
    {
     "name": "stdout",
     "output_type": "stream",
     "text": [
      "\u001b[32m[0922 09:02:36 @base.py:285]\u001b[0m Epoch 349 (global_step 698000) finished, time:1 minute 10 seconds.\n",
      "\u001b[32m[0922 09:02:36 @saver.py:79]\u001b[0m Model saved to ../output/LPMC/DATGAN/model\\model-698000.\n",
      "\u001b[32m[0922 09:02:36 @monitor.py:467]\u001b[0m GAN_loss/discrim/accuracy_fake: 0.885\n",
      "\u001b[32m[0922 09:02:36 @monitor.py:467]\u001b[0m GAN_loss/discrim/accuracy_real: 0.235\n",
      "\u001b[32m[0922 09:02:36 @monitor.py:467]\u001b[0m GAN_loss/discrim/loss: 0.63444\n",
      "\u001b[32m[0922 09:02:36 @monitor.py:467]\u001b[0m GAN_loss/gen/final-g-loss: 1.2785\n",
      "\u001b[32m[0922 09:02:36 @monitor.py:467]\u001b[0m GAN_loss/gen/klloss: 0.21795\n",
      "\u001b[32m[0922 09:02:36 @monitor.py:467]\u001b[0m GAN_loss/gen/loss: 1.0606\n",
      "\u001b[32m[0922 09:02:36 @monitor.py:467]\u001b[0m QueueInput/queue_size: 50\n",
      "\u001b[32m[0922 09:02:36 @base.py:275]\u001b[0m Start Epoch 350 ...\n"
     ]
    },
    {
     "name": "stderr",
     "output_type": "stream",
     "text": [
      "\n",
      "100%|#################################################################################|2000/2000[01:10<00:00,28.29it/s]"
     ]
    },
    {
     "name": "stdout",
     "output_type": "stream",
     "text": [
      "\u001b[32m[0922 09:03:47 @base.py:285]\u001b[0m Epoch 350 (global_step 700000) finished, time:1 minute 10 seconds.\n"
     ]
    },
    {
     "name": "stderr",
     "output_type": "stream",
     "text": [
      "\n"
     ]
    },
    {
     "name": "stdout",
     "output_type": "stream",
     "text": [
      "\u001b[32m[0922 09:03:47 @saver.py:79]\u001b[0m Model saved to ../output/LPMC/DATGAN/model\\model-700000.\n",
      "\u001b[32m[0922 09:03:47 @monitor.py:467]\u001b[0m GAN_loss/discrim/accuracy_fake: 0.9\n",
      "\u001b[32m[0922 09:03:47 @monitor.py:467]\u001b[0m GAN_loss/discrim/accuracy_real: 0.21\n",
      "\u001b[32m[0922 09:03:47 @monitor.py:467]\u001b[0m GAN_loss/discrim/loss: 0.63259\n",
      "\u001b[32m[0922 09:03:47 @monitor.py:467]\u001b[0m GAN_loss/gen/final-g-loss: 1.3605\n",
      "\u001b[32m[0922 09:03:47 @monitor.py:467]\u001b[0m GAN_loss/gen/klloss: 0.28349\n",
      "\u001b[32m[0922 09:03:47 @monitor.py:467]\u001b[0m GAN_loss/gen/loss: 1.077\n",
      "\u001b[32m[0922 09:03:47 @monitor.py:467]\u001b[0m QueueInput/queue_size: 50\n",
      "\u001b[32m[0922 09:03:47 @base.py:275]\u001b[0m Start Epoch 351 ...\n"
     ]
    },
    {
     "name": "stderr",
     "output_type": "stream",
     "text": [
      "100%|#################################################################################|2000/2000[01:10<00:00,28.26it/s]"
     ]
    },
    {
     "name": "stdout",
     "output_type": "stream",
     "text": [
      "\u001b[32m[0922 09:04:58 @base.py:285]\u001b[0m Epoch 351 (global_step 702000) finished, time:1 minute 10 seconds.\n",
      "\u001b[32m[0922 09:04:58 @saver.py:79]\u001b[0m Model saved to ../output/LPMC/DATGAN/model\\model-702000.\n",
      "\u001b[32m[0922 09:04:58 @monitor.py:467]\u001b[0m GAN_loss/discrim/accuracy_fake: 0.905\n",
      "\u001b[32m[0922 09:04:58 @monitor.py:467]\u001b[0m GAN_loss/discrim/accuracy_real: 0.195\n",
      "\u001b[32m[0922 09:04:58 @monitor.py:467]\u001b[0m GAN_loss/discrim/loss: 0.64175\n",
      "\u001b[32m[0922 09:04:58 @monitor.py:467]\u001b[0m GAN_loss/gen/final-g-loss: 1.4439\n",
      "\u001b[32m[0922 09:04:58 @monitor.py:467]\u001b[0m GAN_loss/gen/klloss: 0.37696\n",
      "\u001b[32m[0922 09:04:58 @monitor.py:467]\u001b[0m GAN_loss/gen/loss: 1.0669\n",
      "\u001b[32m[0922 09:04:58 @monitor.py:467]\u001b[0m QueueInput/queue_size: 50\n",
      "\u001b[32m[0922 09:04:58 @base.py:275]\u001b[0m Start Epoch 352 ...\n"
     ]
    },
    {
     "name": "stderr",
     "output_type": "stream",
     "text": [
      "\n",
      "100%|#################################################################################|2000/2000[01:11<00:00,28.15it/s]"
     ]
    },
    {
     "name": "stdout",
     "output_type": "stream",
     "text": [
      "\u001b[32m[0922 09:06:09 @base.py:285]\u001b[0m Epoch 352 (global_step 704000) finished, time:1 minute 11 seconds.\n",
      "\u001b[32m[0922 09:06:09 @saver.py:79]\u001b[0m Model saved to ../output/LPMC/DATGAN/model\\model-704000.\n",
      "\u001b[32m[0922 09:06:09 @monitor.py:467]\u001b[0m GAN_loss/discrim/accuracy_fake: 0.865\n",
      "\u001b[32m[0922 09:06:09 @monitor.py:467]\u001b[0m GAN_loss/discrim/accuracy_real: 0.24\n",
      "\u001b[32m[0922 09:06:09 @monitor.py:467]\u001b[0m GAN_loss/discrim/loss: 0.65366\n",
      "\u001b[32m[0922 09:06:09 @monitor.py:467]\u001b[0m GAN_loss/gen/final-g-loss: 1.2794\n",
      "\u001b[32m[0922 09:06:09 @monitor.py:467]\u001b[0m GAN_loss/gen/klloss: 0.22742\n",
      "\u001b[32m[0922 09:06:09 @monitor.py:467]\u001b[0m GAN_loss/gen/loss: 1.0519\n",
      "\u001b[32m[0922 09:06:09 @monitor.py:467]\u001b[0m QueueInput/queue_size: 50\n",
      "\u001b[32m[0922 09:06:09 @base.py:275]\u001b[0m Start Epoch 353 ...\n"
     ]
    },
    {
     "name": "stderr",
     "output_type": "stream",
     "text": [
      "\n",
      "100%|#################################################################################|2000/2000[01:10<00:00,28.29it/s]"
     ]
    },
    {
     "name": "stdout",
     "output_type": "stream",
     "text": [
      "\u001b[32m[0922 09:07:20 @base.py:285]\u001b[0m Epoch 353 (global_step 706000) finished, time:1 minute 10 seconds.\n"
     ]
    },
    {
     "name": "stderr",
     "output_type": "stream",
     "text": [
      "\n"
     ]
    },
    {
     "name": "stdout",
     "output_type": "stream",
     "text": [
      "\u001b[32m[0922 09:07:20 @saver.py:79]\u001b[0m Model saved to ../output/LPMC/DATGAN/model\\model-706000.\n",
      "\u001b[32m[0922 09:07:20 @monitor.py:467]\u001b[0m GAN_loss/discrim/accuracy_fake: 0.86\n",
      "\u001b[32m[0922 09:07:20 @monitor.py:467]\u001b[0m GAN_loss/discrim/accuracy_real: 0.19\n",
      "\u001b[32m[0922 09:07:20 @monitor.py:467]\u001b[0m GAN_loss/discrim/loss: 0.64399\n",
      "\u001b[32m[0922 09:07:20 @monitor.py:467]\u001b[0m GAN_loss/gen/final-g-loss: 1.3738\n",
      "\u001b[32m[0922 09:07:20 @monitor.py:467]\u001b[0m GAN_loss/gen/klloss: 0.3143\n",
      "\u001b[32m[0922 09:07:20 @monitor.py:467]\u001b[0m GAN_loss/gen/loss: 1.0595\n",
      "\u001b[32m[0922 09:07:20 @monitor.py:467]\u001b[0m QueueInput/queue_size: 50\n",
      "\u001b[32m[0922 09:07:20 @base.py:275]\u001b[0m Start Epoch 354 ...\n"
     ]
    },
    {
     "name": "stderr",
     "output_type": "stream",
     "text": [
      "100%|#################################################################################|2000/2000[01:10<00:00,28.23it/s]"
     ]
    },
    {
     "name": "stdout",
     "output_type": "stream",
     "text": [
      "\u001b[32m[0922 09:08:31 @base.py:285]\u001b[0m Epoch 354 (global_step 708000) finished, time:1 minute 10 seconds.\n",
      "\u001b[32m[0922 09:08:31 @saver.py:79]\u001b[0m Model saved to ../output/LPMC/DATGAN/model\\model-708000.\n",
      "\u001b[32m[0922 09:08:31 @monitor.py:467]\u001b[0m GAN_loss/discrim/accuracy_fake: 0.86\n",
      "\u001b[32m[0922 09:08:31 @monitor.py:467]\u001b[0m GAN_loss/discrim/accuracy_real: 0.215\n",
      "\u001b[32m[0922 09:08:31 @monitor.py:467]\u001b[0m GAN_loss/discrim/loss: 0.64892\n",
      "\u001b[32m[0922 09:08:31 @monitor.py:467]\u001b[0m GAN_loss/gen/final-g-loss: 1.2601\n",
      "\u001b[32m[0922 09:08:31 @monitor.py:467]\u001b[0m GAN_loss/gen/klloss: 0.22415\n",
      "\u001b[32m[0922 09:08:31 @monitor.py:467]\u001b[0m GAN_loss/gen/loss: 1.036\n",
      "\u001b[32m[0922 09:08:31 @monitor.py:467]\u001b[0m QueueInput/queue_size: 50\n",
      "\u001b[32m[0922 09:08:31 @base.py:275]\u001b[0m Start Epoch 355 ...\n"
     ]
    },
    {
     "name": "stderr",
     "output_type": "stream",
     "text": [
      "\n",
      "100%|#################################################################################|2000/2000[01:10<00:00,28.23it/s]"
     ]
    },
    {
     "name": "stdout",
     "output_type": "stream",
     "text": [
      "\u001b[32m[0922 09:09:42 @base.py:285]\u001b[0m Epoch 355 (global_step 710000) finished, time:1 minute 10 seconds.\n",
      "\u001b[32m[0922 09:09:42 @saver.py:79]\u001b[0m Model saved to ../output/LPMC/DATGAN/model\\model-710000.\n",
      "\u001b[32m[0922 09:09:42 @monitor.py:467]\u001b[0m GAN_loss/discrim/accuracy_fake: 0.875\n",
      "\u001b[32m[0922 09:09:42 @monitor.py:467]\u001b[0m GAN_loss/discrim/accuracy_real: 0.245\n",
      "\u001b[32m[0922 09:09:42 @monitor.py:467]\u001b[0m GAN_loss/discrim/loss: 0.63968\n",
      "\u001b[32m[0922 09:09:42 @monitor.py:467]\u001b[0m GAN_loss/gen/final-g-loss: 1.3546\n",
      "\u001b[32m[0922 09:09:42 @monitor.py:467]\u001b[0m GAN_loss/gen/klloss: 0.31753\n",
      "\u001b[32m[0922 09:09:42 @monitor.py:467]\u001b[0m GAN_loss/gen/loss: 1.0371\n",
      "\u001b[32m[0922 09:09:42 @monitor.py:467]\u001b[0m QueueInput/queue_size: 50\n",
      "\u001b[32m[0922 09:09:42 @base.py:275]\u001b[0m Start Epoch 356 ...\n"
     ]
    },
    {
     "name": "stderr",
     "output_type": "stream",
     "text": [
      "\n",
      "100%|#################################################################################|2000/2000[01:10<00:00,28.31it/s]"
     ]
    },
    {
     "name": "stdout",
     "output_type": "stream",
     "text": [
      "\u001b[32m[0922 09:10:52 @base.py:285]\u001b[0m Epoch 356 (global_step 712000) finished, time:1 minute 10 seconds.\n",
      "\u001b[32m[0922 09:10:53 @saver.py:79]\u001b[0m Model saved to ../output/LPMC/DATGAN/model\\model-712000.\n",
      "\u001b[32m[0922 09:10:53 @monitor.py:467]\u001b[0m GAN_loss/discrim/accuracy_fake: 0.84\n",
      "\u001b[32m[0922 09:10:53 @monitor.py:467]\u001b[0m GAN_loss/discrim/accuracy_real: 0.24\n",
      "\u001b[32m[0922 09:10:53 @monitor.py:467]\u001b[0m GAN_loss/discrim/loss: 0.63897\n",
      "\u001b[32m[0922 09:10:53 @monitor.py:467]\u001b[0m GAN_loss/gen/final-g-loss: 1.2791\n",
      "\u001b[32m[0922 09:10:53 @monitor.py:467]\u001b[0m GAN_loss/gen/klloss: 0.22808\n",
      "\u001b[32m[0922 09:10:53 @monitor.py:467]\u001b[0m GAN_loss/gen/loss: 1.051\n",
      "\u001b[32m[0922 09:10:53 @monitor.py:467]\u001b[0m QueueInput/queue_size: 50\n",
      "\u001b[32m[0922 09:10:53 @base.py:275]\u001b[0m Start Epoch 357 ...\n"
     ]
    },
    {
     "name": "stderr",
     "output_type": "stream",
     "text": [
      "\n",
      "100%|#################################################################################|2000/2000[01:10<00:00,28.31it/s]"
     ]
    },
    {
     "name": "stdout",
     "output_type": "stream",
     "text": [
      "\u001b[32m[0922 09:12:03 @base.py:285]\u001b[0m Epoch 357 (global_step 714000) finished, time:1 minute 10 seconds.\n",
      "\u001b[32m[0922 09:12:03 @saver.py:79]\u001b[0m Model saved to ../output/LPMC/DATGAN/model\\model-714000.\n",
      "\u001b[32m[0922 09:12:03 @monitor.py:467]\u001b[0m GAN_loss/discrim/accuracy_fake: 0.895\n",
      "\u001b[32m[0922 09:12:03 @monitor.py:467]\u001b[0m GAN_loss/discrim/accuracy_real: 0.225\n",
      "\u001b[32m[0922 09:12:03 @monitor.py:467]\u001b[0m GAN_loss/discrim/loss: 0.62952\n",
      "\u001b[32m[0922 09:12:03 @monitor.py:467]\u001b[0m GAN_loss/gen/final-g-loss: 1.331\n",
      "\u001b[32m[0922 09:12:03 @monitor.py:467]\u001b[0m GAN_loss/gen/klloss: 0.23126\n",
      "\u001b[32m[0922 09:12:03 @monitor.py:467]\u001b[0m GAN_loss/gen/loss: 1.0997\n",
      "\u001b[32m[0922 09:12:03 @monitor.py:467]\u001b[0m QueueInput/queue_size: 50\n",
      "\u001b[32m[0922 09:12:03 @base.py:275]\u001b[0m Start Epoch 358 ...\n"
     ]
    },
    {
     "name": "stderr",
     "output_type": "stream",
     "text": [
      "\n",
      "100%|#################################################################################|2000/2000[01:10<00:00,28.28it/s]"
     ]
    },
    {
     "name": "stdout",
     "output_type": "stream",
     "text": [
      "\u001b[32m[0922 09:13:14 @base.py:285]\u001b[0m Epoch 358 (global_step 716000) finished, time:1 minute 10 seconds.\n"
     ]
    },
    {
     "name": "stderr",
     "output_type": "stream",
     "text": [
      "\n"
     ]
    },
    {
     "name": "stdout",
     "output_type": "stream",
     "text": [
      "\u001b[32m[0922 09:13:14 @saver.py:79]\u001b[0m Model saved to ../output/LPMC/DATGAN/model\\model-716000.\n",
      "\u001b[32m[0922 09:13:14 @monitor.py:467]\u001b[0m GAN_loss/discrim/accuracy_fake: 0.865\n",
      "\u001b[32m[0922 09:13:14 @monitor.py:467]\u001b[0m GAN_loss/discrim/accuracy_real: 0.285\n",
      "\u001b[32m[0922 09:13:14 @monitor.py:467]\u001b[0m GAN_loss/discrim/loss: 0.62497\n",
      "\u001b[32m[0922 09:13:14 @monitor.py:467]\u001b[0m GAN_loss/gen/final-g-loss: 1.3331\n",
      "\u001b[32m[0922 09:13:14 @monitor.py:467]\u001b[0m GAN_loss/gen/klloss: 0.26582\n",
      "\u001b[32m[0922 09:13:14 @monitor.py:467]\u001b[0m GAN_loss/gen/loss: 1.0673\n",
      "\u001b[32m[0922 09:13:14 @monitor.py:467]\u001b[0m QueueInput/queue_size: 50\n",
      "\u001b[32m[0922 09:13:14 @base.py:275]\u001b[0m Start Epoch 359 ...\n"
     ]
    },
    {
     "name": "stderr",
     "output_type": "stream",
     "text": [
      "100%|#################################################################################|2000/2000[01:10<00:00,28.33it/s]"
     ]
    },
    {
     "name": "stdout",
     "output_type": "stream",
     "text": [
      "\u001b[32m[0922 09:14:25 @base.py:285]\u001b[0m Epoch 359 (global_step 718000) finished, time:1 minute 10 seconds.\n",
      "\u001b[32m[0922 09:14:25 @saver.py:79]\u001b[0m Model saved to ../output/LPMC/DATGAN/model\\model-718000.\n",
      "\u001b[32m[0922 09:14:25 @monitor.py:467]\u001b[0m GAN_loss/discrim/accuracy_fake: 0.865\n",
      "\u001b[32m[0922 09:14:25 @monitor.py:467]\u001b[0m GAN_loss/discrim/accuracy_real: 0.25\n",
      "\u001b[32m[0922 09:14:25 @monitor.py:467]\u001b[0m GAN_loss/discrim/loss: 0.63466\n",
      "\u001b[32m[0922 09:14:25 @monitor.py:467]\u001b[0m GAN_loss/gen/final-g-loss: 1.3351\n",
      "\u001b[32m[0922 09:14:25 @monitor.py:467]\u001b[0m GAN_loss/gen/klloss: 0.27155\n",
      "\u001b[32m[0922 09:14:25 @monitor.py:467]\u001b[0m GAN_loss/gen/loss: 1.0635\n",
      "\u001b[32m[0922 09:14:25 @monitor.py:467]\u001b[0m QueueInput/queue_size: 50\n",
      "\u001b[32m[0922 09:14:25 @base.py:275]\u001b[0m Start Epoch 360 ...\n"
     ]
    },
    {
     "name": "stderr",
     "output_type": "stream",
     "text": [
      "\n",
      "100%|#################################################################################|2000/2000[01:10<00:00,28.20it/s]"
     ]
    },
    {
     "name": "stdout",
     "output_type": "stream",
     "text": [
      "\u001b[32m[0922 09:15:36 @base.py:285]\u001b[0m Epoch 360 (global_step 720000) finished, time:1 minute 10 seconds.\n",
      "\u001b[32m[0922 09:15:36 @saver.py:79]\u001b[0m Model saved to ../output/LPMC/DATGAN/model\\model-720000.\n",
      "\u001b[32m[0922 09:15:36 @monitor.py:467]\u001b[0m GAN_loss/discrim/accuracy_fake: 0.86\n",
      "\u001b[32m[0922 09:15:36 @monitor.py:467]\u001b[0m GAN_loss/discrim/accuracy_real: 0.245\n",
      "\u001b[32m[0922 09:15:36 @monitor.py:467]\u001b[0m GAN_loss/discrim/loss: 0.64235\n",
      "\u001b[32m[0922 09:15:36 @monitor.py:467]\u001b[0m GAN_loss/gen/final-g-loss: 1.2776\n",
      "\u001b[32m[0922 09:15:36 @monitor.py:467]\u001b[0m GAN_loss/gen/klloss: 0.23344\n",
      "\u001b[32m[0922 09:15:36 @monitor.py:467]\u001b[0m GAN_loss/gen/loss: 1.0442\n",
      "\u001b[32m[0922 09:15:36 @monitor.py:467]\u001b[0m QueueInput/queue_size: 50\n",
      "\u001b[32m[0922 09:15:36 @base.py:275]\u001b[0m Start Epoch 361 ...\n"
     ]
    },
    {
     "name": "stderr",
     "output_type": "stream",
     "text": [
      "\n",
      "100%|#################################################################################|2000/2000[01:10<00:00,28.25it/s]"
     ]
    },
    {
     "name": "stdout",
     "output_type": "stream",
     "text": [
      "\u001b[32m[0922 09:16:47 @base.py:285]\u001b[0m Epoch 361 (global_step 722000) finished, time:1 minute 10 seconds.\n",
      "\u001b[32m[0922 09:16:47 @saver.py:79]\u001b[0m Model saved to ../output/LPMC/DATGAN/model\\model-722000.\n",
      "\u001b[32m[0922 09:16:47 @monitor.py:467]\u001b[0m GAN_loss/discrim/accuracy_fake: 0.85\n",
      "\u001b[32m[0922 09:16:47 @monitor.py:467]\u001b[0m GAN_loss/discrim/accuracy_real: 0.215\n",
      "\u001b[32m[0922 09:16:47 @monitor.py:467]\u001b[0m GAN_loss/discrim/loss: 0.6449\n",
      "\u001b[32m[0922 09:16:47 @monitor.py:467]\u001b[0m GAN_loss/gen/final-g-loss: 1.4518\n",
      "\u001b[32m[0922 09:16:47 @monitor.py:467]\u001b[0m GAN_loss/gen/klloss: 0.39647\n",
      "\u001b[32m[0922 09:16:47 @monitor.py:467]\u001b[0m GAN_loss/gen/loss: 1.0553\n",
      "\u001b[32m[0922 09:16:47 @monitor.py:467]\u001b[0m QueueInput/queue_size: 50\n",
      "\u001b[32m[0922 09:16:47 @base.py:275]\u001b[0m Start Epoch 362 ...\n"
     ]
    },
    {
     "name": "stderr",
     "output_type": "stream",
     "text": [
      "\n",
      "100%|#################################################################################|2000/2000[01:10<00:00,28.31it/s]"
     ]
    },
    {
     "name": "stdout",
     "output_type": "stream",
     "text": [
      "\u001b[32m[0922 09:17:58 @base.py:285]\u001b[0m Epoch 362 (global_step 724000) finished, time:1 minute 10 seconds.\n"
     ]
    },
    {
     "name": "stderr",
     "output_type": "stream",
     "text": [
      "\n"
     ]
    },
    {
     "name": "stdout",
     "output_type": "stream",
     "text": [
      "\u001b[32m[0922 09:17:58 @saver.py:79]\u001b[0m Model saved to ../output/LPMC/DATGAN/model\\model-724000.\n",
      "\u001b[32m[0922 09:17:58 @monitor.py:467]\u001b[0m GAN_loss/discrim/accuracy_fake: 0.93\n",
      "\u001b[32m[0922 09:17:58 @monitor.py:467]\u001b[0m GAN_loss/discrim/accuracy_real: 0.2\n",
      "\u001b[32m[0922 09:17:58 @monitor.py:467]\u001b[0m GAN_loss/discrim/loss: 0.63176\n",
      "\u001b[32m[0922 09:17:58 @monitor.py:467]\u001b[0m GAN_loss/gen/final-g-loss: 1.3268\n",
      "\u001b[32m[0922 09:17:58 @monitor.py:467]\u001b[0m GAN_loss/gen/klloss: 0.22686\n",
      "\u001b[32m[0922 09:17:58 @monitor.py:467]\u001b[0m GAN_loss/gen/loss: 1.1\n",
      "\u001b[32m[0922 09:17:58 @monitor.py:467]\u001b[0m QueueInput/queue_size: 50\n",
      "\u001b[32m[0922 09:17:58 @base.py:275]\u001b[0m Start Epoch 363 ...\n"
     ]
    },
    {
     "name": "stderr",
     "output_type": "stream",
     "text": [
      "100%|#################################################################################|2000/2000[01:11<00:00,28.12it/s]"
     ]
    },
    {
     "name": "stdout",
     "output_type": "stream",
     "text": [
      "\u001b[32m[0922 09:19:09 @base.py:285]\u001b[0m Epoch 363 (global_step 726000) finished, time:1 minute 11 seconds.\n",
      "\u001b[32m[0922 09:19:09 @saver.py:79]\u001b[0m Model saved to ../output/LPMC/DATGAN/model\\model-726000.\n",
      "\u001b[32m[0922 09:19:09 @monitor.py:467]\u001b[0m GAN_loss/discrim/accuracy_fake: 0.85\n",
      "\u001b[32m[0922 09:19:09 @monitor.py:467]\u001b[0m GAN_loss/discrim/accuracy_real: 0.23\n",
      "\u001b[32m[0922 09:19:09 @monitor.py:467]\u001b[0m GAN_loss/discrim/loss: 0.64893\n",
      "\u001b[32m[0922 09:19:09 @monitor.py:467]\u001b[0m GAN_loss/gen/final-g-loss: 1.2403\n",
      "\u001b[32m[0922 09:19:09 @monitor.py:467]\u001b[0m GAN_loss/gen/klloss: 0.20487\n",
      "\u001b[32m[0922 09:19:09 @monitor.py:467]\u001b[0m GAN_loss/gen/loss: 1.0354\n",
      "\u001b[32m[0922 09:19:09 @monitor.py:467]\u001b[0m QueueInput/queue_size: 50\n",
      "\u001b[32m[0922 09:19:09 @base.py:275]\u001b[0m Start Epoch 364 ...\n"
     ]
    },
    {
     "name": "stderr",
     "output_type": "stream",
     "text": [
      "\n",
      "100%|#################################################################################|2000/2000[01:10<00:00,28.21it/s]"
     ]
    },
    {
     "name": "stdout",
     "output_type": "stream",
     "text": [
      "\u001b[32m[0922 09:20:20 @base.py:285]\u001b[0m Epoch 364 (global_step 728000) finished, time:1 minute 10 seconds.\n",
      "\u001b[32m[0922 09:20:20 @saver.py:79]\u001b[0m Model saved to ../output/LPMC/DATGAN/model\\model-728000.\n",
      "\u001b[32m[0922 09:20:20 @monitor.py:467]\u001b[0m GAN_loss/discrim/accuracy_fake: 0.87\n",
      "\u001b[32m[0922 09:20:20 @monitor.py:467]\u001b[0m GAN_loss/discrim/accuracy_real: 0.24\n",
      "\u001b[32m[0922 09:20:20 @monitor.py:467]\u001b[0m GAN_loss/discrim/loss: 0.63206\n",
      "\u001b[32m[0922 09:20:20 @monitor.py:467]\u001b[0m GAN_loss/gen/final-g-loss: 1.2342\n",
      "\u001b[32m[0922 09:20:20 @monitor.py:467]\u001b[0m GAN_loss/gen/klloss: 0.16935\n",
      "\u001b[32m[0922 09:20:20 @monitor.py:467]\u001b[0m GAN_loss/gen/loss: 1.0649\n",
      "\u001b[32m[0922 09:20:20 @monitor.py:467]\u001b[0m QueueInput/queue_size: 50\n",
      "\u001b[32m[0922 09:20:20 @base.py:275]\u001b[0m Start Epoch 365 ...\n"
     ]
    },
    {
     "name": "stderr",
     "output_type": "stream",
     "text": [
      "\n",
      "100%|#################################################################################|2000/2000[01:10<00:00,28.19it/s]"
     ]
    },
    {
     "name": "stdout",
     "output_type": "stream",
     "text": [
      "\u001b[32m[0922 09:21:31 @base.py:285]\u001b[0m Epoch 365 (global_step 730000) finished, time:1 minute 10 seconds.\n",
      "\u001b[32m[0922 09:21:31 @saver.py:79]\u001b[0m Model saved to ../output/LPMC/DATGAN/model\\model-730000.\n",
      "\u001b[32m[0922 09:21:31 @monitor.py:467]\u001b[0m GAN_loss/discrim/accuracy_fake: 0.895\n",
      "\u001b[32m[0922 09:21:31 @monitor.py:467]\u001b[0m GAN_loss/discrim/accuracy_real: 0.205\n",
      "\u001b[32m[0922 09:21:31 @monitor.py:467]\u001b[0m GAN_loss/discrim/loss: 0.62253\n",
      "\u001b[32m[0922 09:21:31 @monitor.py:467]\u001b[0m GAN_loss/gen/final-g-loss: 1.3104\n",
      "\u001b[32m[0922 09:21:31 @monitor.py:467]\u001b[0m GAN_loss/gen/klloss: 0.23721\n",
      "\u001b[32m[0922 09:21:31 @monitor.py:467]\u001b[0m GAN_loss/gen/loss: 1.0732\n",
      "\u001b[32m[0922 09:21:31 @monitor.py:467]\u001b[0m QueueInput/queue_size: 50\n",
      "\u001b[32m[0922 09:21:31 @base.py:275]\u001b[0m Start Epoch 366 ...\n"
     ]
    },
    {
     "name": "stderr",
     "output_type": "stream",
     "text": [
      "\n",
      "100%|#################################################################################|2000/2000[01:11<00:00,28.12it/s]"
     ]
    },
    {
     "name": "stdout",
     "output_type": "stream",
     "text": [
      "\u001b[32m[0922 09:22:42 @base.py:285]\u001b[0m Epoch 366 (global_step 732000) finished, time:1 minute 11 seconds.\n"
     ]
    },
    {
     "name": "stderr",
     "output_type": "stream",
     "text": [
      "\n"
     ]
    },
    {
     "name": "stdout",
     "output_type": "stream",
     "text": [
      "\u001b[32m[0922 09:22:43 @saver.py:79]\u001b[0m Model saved to ../output/LPMC/DATGAN/model\\model-732000.\n",
      "\u001b[32m[0922 09:22:43 @monitor.py:467]\u001b[0m GAN_loss/discrim/accuracy_fake: 0.88\n",
      "\u001b[32m[0922 09:22:43 @monitor.py:467]\u001b[0m GAN_loss/discrim/accuracy_real: 0.2\n",
      "\u001b[32m[0922 09:22:43 @monitor.py:467]\u001b[0m GAN_loss/discrim/loss: 0.63836\n",
      "\u001b[32m[0922 09:22:43 @monitor.py:467]\u001b[0m GAN_loss/gen/final-g-loss: 1.3917\n",
      "\u001b[32m[0922 09:22:43 @monitor.py:467]\u001b[0m GAN_loss/gen/klloss: 0.33068\n",
      "\u001b[32m[0922 09:22:43 @monitor.py:467]\u001b[0m GAN_loss/gen/loss: 1.061\n",
      "\u001b[32m[0922 09:22:43 @monitor.py:467]\u001b[0m QueueInput/queue_size: 50\n",
      "\u001b[32m[0922 09:22:43 @base.py:275]\u001b[0m Start Epoch 367 ...\n"
     ]
    },
    {
     "name": "stderr",
     "output_type": "stream",
     "text": [
      "100%|#################################################################################|2000/2000[01:10<00:00,28.36it/s]"
     ]
    },
    {
     "name": "stdout",
     "output_type": "stream",
     "text": [
      "\u001b[32m[0922 09:23:53 @base.py:285]\u001b[0m Epoch 367 (global_step 734000) finished, time:1 minute 10 seconds.\n",
      "\u001b[32m[0922 09:23:53 @saver.py:79]\u001b[0m Model saved to ../output/LPMC/DATGAN/model\\model-734000.\n",
      "\u001b[32m[0922 09:23:53 @monitor.py:467]\u001b[0m GAN_loss/discrim/accuracy_fake: 0.865\n",
      "\u001b[32m[0922 09:23:53 @monitor.py:467]\u001b[0m GAN_loss/discrim/accuracy_real: 0.175\n",
      "\u001b[32m[0922 09:23:53 @monitor.py:467]\u001b[0m GAN_loss/discrim/loss: 0.65405\n",
      "\u001b[32m[0922 09:23:53 @monitor.py:467]\u001b[0m GAN_loss/gen/final-g-loss: 1.2312\n",
      "\u001b[32m[0922 09:23:53 @monitor.py:467]\u001b[0m GAN_loss/gen/klloss: 0.18047\n",
      "\u001b[32m[0922 09:23:53 @monitor.py:467]\u001b[0m GAN_loss/gen/loss: 1.0508\n",
      "\u001b[32m[0922 09:23:53 @monitor.py:467]\u001b[0m QueueInput/queue_size: 50\n",
      "\u001b[32m[0922 09:23:53 @base.py:275]\u001b[0m Start Epoch 368 ...\n"
     ]
    },
    {
     "name": "stderr",
     "output_type": "stream",
     "text": [
      "\n",
      "100%|#################################################################################|2000/2000[01:11<00:00,28.05it/s]"
     ]
    },
    {
     "name": "stdout",
     "output_type": "stream",
     "text": [
      "\u001b[32m[0922 09:25:05 @base.py:285]\u001b[0m Epoch 368 (global_step 736000) finished, time:1 minute 11 seconds.\n",
      "\u001b[32m[0922 09:25:05 @saver.py:79]\u001b[0m Model saved to ../output/LPMC/DATGAN/model\\model-736000.\n",
      "\u001b[32m[0922 09:25:05 @monitor.py:467]\u001b[0m GAN_loss/discrim/accuracy_fake: 0.915\n",
      "\u001b[32m[0922 09:25:05 @monitor.py:467]\u001b[0m GAN_loss/discrim/accuracy_real: 0.21\n",
      "\u001b[32m[0922 09:25:05 @monitor.py:467]\u001b[0m GAN_loss/discrim/loss: 0.63381\n",
      "\u001b[32m[0922 09:25:05 @monitor.py:467]\u001b[0m GAN_loss/gen/final-g-loss: 1.3177\n",
      "\u001b[32m[0922 09:25:05 @monitor.py:467]\u001b[0m GAN_loss/gen/klloss: 0.25197\n",
      "\u001b[32m[0922 09:25:05 @monitor.py:467]\u001b[0m GAN_loss/gen/loss: 1.0657\n",
      "\u001b[32m[0922 09:25:05 @monitor.py:467]\u001b[0m QueueInput/queue_size: 50\n",
      "\u001b[32m[0922 09:25:05 @base.py:275]\u001b[0m Start Epoch 369 ...\n"
     ]
    },
    {
     "name": "stderr",
     "output_type": "stream",
     "text": [
      "\n",
      "100%|#################################################################################|2000/2000[01:10<00:00,28.18it/s]"
     ]
    },
    {
     "name": "stdout",
     "output_type": "stream",
     "text": [
      "\u001b[32m[0922 09:26:16 @base.py:285]\u001b[0m Epoch 369 (global_step 738000) finished, time:1 minute 10 seconds.\n",
      "\u001b[32m[0922 09:26:16 @saver.py:79]\u001b[0m Model saved to ../output/LPMC/DATGAN/model\\model-738000.\n",
      "\u001b[32m[0922 09:26:16 @monitor.py:467]\u001b[0m GAN_loss/discrim/accuracy_fake: 0.9\n",
      "\u001b[32m[0922 09:26:16 @monitor.py:467]\u001b[0m GAN_loss/discrim/accuracy_real: 0.175\n",
      "\u001b[32m[0922 09:26:16 @monitor.py:467]\u001b[0m GAN_loss/discrim/loss: 0.64238\n",
      "\u001b[32m[0922 09:26:16 @monitor.py:467]\u001b[0m GAN_loss/gen/final-g-loss: 1.3383\n",
      "\u001b[32m[0922 09:26:16 @monitor.py:467]\u001b[0m GAN_loss/gen/klloss: 0.25803\n",
      "\u001b[32m[0922 09:26:16 @monitor.py:467]\u001b[0m GAN_loss/gen/loss: 1.0803\n",
      "\u001b[32m[0922 09:26:16 @monitor.py:467]\u001b[0m QueueInput/queue_size: 50\n",
      "\u001b[32m[0922 09:26:16 @base.py:275]\u001b[0m Start Epoch 370 ...\n"
     ]
    },
    {
     "name": "stderr",
     "output_type": "stream",
     "text": [
      "\n",
      "100%|#################################################################################|2000/2000[01:10<00:00,28.24it/s]"
     ]
    },
    {
     "name": "stdout",
     "output_type": "stream",
     "text": [
      "\u001b[32m[0922 09:27:27 @base.py:285]\u001b[0m Epoch 370 (global_step 740000) finished, time:1 minute 10 seconds.\n"
     ]
    },
    {
     "name": "stderr",
     "output_type": "stream",
     "text": [
      "\n"
     ]
    },
    {
     "name": "stdout",
     "output_type": "stream",
     "text": [
      "\u001b[32m[0922 09:27:27 @saver.py:79]\u001b[0m Model saved to ../output/LPMC/DATGAN/model\\model-740000.\n",
      "\u001b[32m[0922 09:27:27 @monitor.py:467]\u001b[0m GAN_loss/discrim/accuracy_fake: 0.89\n",
      "\u001b[32m[0922 09:27:27 @monitor.py:467]\u001b[0m GAN_loss/discrim/accuracy_real: 0.16\n",
      "\u001b[32m[0922 09:27:27 @monitor.py:467]\u001b[0m GAN_loss/discrim/loss: 0.64112\n",
      "\u001b[32m[0922 09:27:27 @monitor.py:467]\u001b[0m GAN_loss/gen/final-g-loss: 1.3041\n",
      "\u001b[32m[0922 09:27:27 @monitor.py:467]\u001b[0m GAN_loss/gen/klloss: 0.2157\n",
      "\u001b[32m[0922 09:27:27 @monitor.py:467]\u001b[0m GAN_loss/gen/loss: 1.0884\n",
      "\u001b[32m[0922 09:27:27 @monitor.py:467]\u001b[0m QueueInput/queue_size: 50\n",
      "\u001b[32m[0922 09:27:27 @base.py:275]\u001b[0m Start Epoch 371 ...\n"
     ]
    },
    {
     "name": "stderr",
     "output_type": "stream",
     "text": [
      "100%|#################################################################################|2000/2000[01:10<00:00,28.37it/s]"
     ]
    },
    {
     "name": "stdout",
     "output_type": "stream",
     "text": [
      "\u001b[32m[0922 09:28:37 @base.py:285]\u001b[0m Epoch 371 (global_step 742000) finished, time:1 minute 10 seconds.\n",
      "\u001b[32m[0922 09:28:37 @saver.py:79]\u001b[0m Model saved to ../output/LPMC/DATGAN/model\\model-742000.\n",
      "\u001b[32m[0922 09:28:38 @monitor.py:467]\u001b[0m GAN_loss/discrim/accuracy_fake: 0.92\n",
      "\u001b[32m[0922 09:28:38 @monitor.py:467]\u001b[0m GAN_loss/discrim/accuracy_real: 0.195\n",
      "\u001b[32m[0922 09:28:38 @monitor.py:467]\u001b[0m GAN_loss/discrim/loss: 0.6356\n",
      "\u001b[32m[0922 09:28:38 @monitor.py:467]\u001b[0m GAN_loss/gen/final-g-loss: 1.2724\n",
      "\u001b[32m[0922 09:28:38 @monitor.py:467]\u001b[0m GAN_loss/gen/klloss: 0.20237\n",
      "\u001b[32m[0922 09:28:38 @monitor.py:467]\u001b[0m GAN_loss/gen/loss: 1.07\n",
      "\u001b[32m[0922 09:28:38 @monitor.py:467]\u001b[0m QueueInput/queue_size: 50\n",
      "\u001b[32m[0922 09:28:38 @base.py:275]\u001b[0m Start Epoch 372 ...\n"
     ]
    },
    {
     "name": "stderr",
     "output_type": "stream",
     "text": [
      "\n",
      "100%|#################################################################################|2000/2000[01:10<00:00,28.21it/s]"
     ]
    },
    {
     "name": "stdout",
     "output_type": "stream",
     "text": [
      "\u001b[32m[0922 09:29:48 @base.py:285]\u001b[0m Epoch 372 (global_step 744000) finished, time:1 minute 10 seconds.\n",
      "\u001b[32m[0922 09:29:49 @saver.py:79]\u001b[0m Model saved to ../output/LPMC/DATGAN/model\\model-744000.\n",
      "\u001b[32m[0922 09:29:49 @monitor.py:467]\u001b[0m GAN_loss/discrim/accuracy_fake: 0.91\n",
      "\u001b[32m[0922 09:29:49 @monitor.py:467]\u001b[0m GAN_loss/discrim/accuracy_real: 0.205\n",
      "\u001b[32m[0922 09:29:49 @monitor.py:467]\u001b[0m GAN_loss/discrim/loss: 0.65008\n",
      "\u001b[32m[0922 09:29:49 @monitor.py:467]\u001b[0m GAN_loss/gen/final-g-loss: 1.215\n",
      "\u001b[32m[0922 09:29:49 @monitor.py:467]\u001b[0m GAN_loss/gen/klloss: 0.17705\n",
      "\u001b[32m[0922 09:29:49 @monitor.py:467]\u001b[0m GAN_loss/gen/loss: 1.038\n",
      "\u001b[32m[0922 09:29:49 @monitor.py:467]\u001b[0m QueueInput/queue_size: 50\n",
      "\u001b[32m[0922 09:29:49 @base.py:275]\u001b[0m Start Epoch 373 ...\n"
     ]
    },
    {
     "name": "stderr",
     "output_type": "stream",
     "text": [
      "\n",
      "100%|#################################################################################|2000/2000[01:10<00:00,28.22it/s]"
     ]
    },
    {
     "name": "stdout",
     "output_type": "stream",
     "text": [
      "\u001b[32m[0922 09:30:59 @base.py:285]\u001b[0m Epoch 373 (global_step 746000) finished, time:1 minute 10 seconds.\n"
     ]
    },
    {
     "name": "stderr",
     "output_type": "stream",
     "text": [
      "\n"
     ]
    },
    {
     "name": "stdout",
     "output_type": "stream",
     "text": [
      "\u001b[32m[0922 09:31:00 @saver.py:79]\u001b[0m Model saved to ../output/LPMC/DATGAN/model\\model-746000.\n",
      "\u001b[32m[0922 09:31:00 @monitor.py:467]\u001b[0m GAN_loss/discrim/accuracy_fake: 0.865\n",
      "\u001b[32m[0922 09:31:00 @monitor.py:467]\u001b[0m GAN_loss/discrim/accuracy_real: 0.135\n",
      "\u001b[32m[0922 09:31:00 @monitor.py:467]\u001b[0m GAN_loss/discrim/loss: 0.65648\n",
      "\u001b[32m[0922 09:31:00 @monitor.py:467]\u001b[0m GAN_loss/gen/final-g-loss: 1.3014\n",
      "\u001b[32m[0922 09:31:00 @monitor.py:467]\u001b[0m GAN_loss/gen/klloss: 0.24951\n",
      "\u001b[32m[0922 09:31:00 @monitor.py:467]\u001b[0m GAN_loss/gen/loss: 1.0519\n",
      "\u001b[32m[0922 09:31:00 @monitor.py:467]\u001b[0m QueueInput/queue_size: 50\n",
      "\u001b[32m[0922 09:31:00 @base.py:275]\u001b[0m Start Epoch 374 ...\n"
     ]
    },
    {
     "name": "stderr",
     "output_type": "stream",
     "text": [
      "100%|#################################################################################|2000/2000[01:10<00:00,28.21it/s]"
     ]
    },
    {
     "name": "stdout",
     "output_type": "stream",
     "text": [
      "\u001b[32m[0922 09:32:11 @base.py:285]\u001b[0m Epoch 374 (global_step 748000) finished, time:1 minute 10 seconds.\n",
      "\u001b[32m[0922 09:32:11 @saver.py:79]\u001b[0m Model saved to ../output/LPMC/DATGAN/model\\model-748000.\n",
      "\u001b[32m[0922 09:32:11 @monitor.py:467]\u001b[0m GAN_loss/discrim/accuracy_fake: 0.88\n",
      "\u001b[32m[0922 09:32:11 @monitor.py:467]\u001b[0m GAN_loss/discrim/accuracy_real: 0.16\n",
      "\u001b[32m[0922 09:32:11 @monitor.py:467]\u001b[0m GAN_loss/discrim/loss: 0.64303\n",
      "\u001b[32m[0922 09:32:11 @monitor.py:467]\u001b[0m GAN_loss/gen/final-g-loss: 1.2904\n",
      "\u001b[32m[0922 09:32:11 @monitor.py:467]\u001b[0m GAN_loss/gen/klloss: 0.21718\n",
      "\u001b[32m[0922 09:32:11 @monitor.py:467]\u001b[0m GAN_loss/gen/loss: 1.0732\n",
      "\u001b[32m[0922 09:32:11 @monitor.py:467]\u001b[0m QueueInput/queue_size: 50\n",
      "\u001b[32m[0922 09:32:11 @base.py:275]\u001b[0m Start Epoch 375 ...\n"
     ]
    },
    {
     "name": "stderr",
     "output_type": "stream",
     "text": [
      "\n",
      "100%|#################################################################################|2000/2000[01:10<00:00,28.19it/s]"
     ]
    },
    {
     "name": "stdout",
     "output_type": "stream",
     "text": [
      "\u001b[32m[0922 09:33:22 @base.py:285]\u001b[0m Epoch 375 (global_step 750000) finished, time:1 minute 10 seconds.\n",
      "\u001b[32m[0922 09:33:22 @saver.py:79]\u001b[0m Model saved to ../output/LPMC/DATGAN/model\\model-750000.\n",
      "\u001b[32m[0922 09:33:22 @monitor.py:467]\u001b[0m GAN_loss/discrim/accuracy_fake: 0.895\n",
      "\u001b[32m[0922 09:33:22 @monitor.py:467]\u001b[0m GAN_loss/discrim/accuracy_real: 0.19\n",
      "\u001b[32m[0922 09:33:22 @monitor.py:467]\u001b[0m GAN_loss/discrim/loss: 0.64053\n",
      "\u001b[32m[0922 09:33:22 @monitor.py:467]\u001b[0m GAN_loss/gen/final-g-loss: 1.4038\n",
      "\u001b[32m[0922 09:33:22 @monitor.py:467]\u001b[0m GAN_loss/gen/klloss: 0.34386\n",
      "\u001b[32m[0922 09:33:22 @monitor.py:467]\u001b[0m GAN_loss/gen/loss: 1.06\n",
      "\u001b[32m[0922 09:33:22 @monitor.py:467]\u001b[0m QueueInput/queue_size: 50\n",
      "\u001b[32m[0922 09:33:22 @base.py:275]\u001b[0m Start Epoch 376 ...\n"
     ]
    },
    {
     "name": "stderr",
     "output_type": "stream",
     "text": [
      "\n",
      "100%|#################################################################################|2000/2000[01:10<00:00,28.29it/s]"
     ]
    },
    {
     "name": "stdout",
     "output_type": "stream",
     "text": [
      "\u001b[32m[0922 09:34:33 @base.py:285]\u001b[0m Epoch 376 (global_step 752000) finished, time:1 minute 10 seconds.\n",
      "\u001b[32m[0922 09:34:33 @saver.py:79]\u001b[0m Model saved to ../output/LPMC/DATGAN/model\\model-752000.\n",
      "\u001b[32m[0922 09:34:33 @monitor.py:467]\u001b[0m GAN_loss/discrim/accuracy_fake: 0.885\n",
      "\u001b[32m[0922 09:34:33 @monitor.py:467]\u001b[0m GAN_loss/discrim/accuracy_real: 0.24\n",
      "\u001b[32m[0922 09:34:33 @monitor.py:467]\u001b[0m GAN_loss/discrim/loss: 0.63693\n",
      "\u001b[32m[0922 09:34:33 @monitor.py:467]\u001b[0m GAN_loss/gen/final-g-loss: 1.324\n",
      "\u001b[32m[0922 09:34:33 @monitor.py:467]\u001b[0m GAN_loss/gen/klloss: 0.24443\n",
      "\u001b[32m[0922 09:34:33 @monitor.py:467]\u001b[0m GAN_loss/gen/loss: 1.0795\n",
      "\u001b[32m[0922 09:34:33 @monitor.py:467]\u001b[0m QueueInput/queue_size: 50\n",
      "\u001b[32m[0922 09:34:33 @base.py:275]\u001b[0m Start Epoch 377 ...\n"
     ]
    },
    {
     "name": "stderr",
     "output_type": "stream",
     "text": [
      "\n",
      "100%|#################################################################################|2000/2000[01:10<00:00,28.29it/s]"
     ]
    },
    {
     "name": "stdout",
     "output_type": "stream",
     "text": [
      "\u001b[32m[0922 09:35:43 @base.py:285]\u001b[0m Epoch 377 (global_step 754000) finished, time:1 minute 10 seconds.\n"
     ]
    },
    {
     "name": "stderr",
     "output_type": "stream",
     "text": [
      "\n"
     ]
    },
    {
     "name": "stdout",
     "output_type": "stream",
     "text": [
      "\u001b[32m[0922 09:35:43 @saver.py:79]\u001b[0m Model saved to ../output/LPMC/DATGAN/model\\model-754000.\n",
      "\u001b[32m[0922 09:35:44 @monitor.py:467]\u001b[0m GAN_loss/discrim/accuracy_fake: 0.9\n",
      "\u001b[32m[0922 09:35:44 @monitor.py:467]\u001b[0m GAN_loss/discrim/accuracy_real: 0.24\n",
      "\u001b[32m[0922 09:35:44 @monitor.py:467]\u001b[0m GAN_loss/discrim/loss: 0.63978\n",
      "\u001b[32m[0922 09:35:44 @monitor.py:467]\u001b[0m GAN_loss/gen/final-g-loss: 1.2302\n",
      "\u001b[32m[0922 09:35:44 @monitor.py:467]\u001b[0m GAN_loss/gen/klloss: 0.17805\n",
      "\u001b[32m[0922 09:35:44 @monitor.py:467]\u001b[0m GAN_loss/gen/loss: 1.0522\n",
      "\u001b[32m[0922 09:35:44 @monitor.py:467]\u001b[0m QueueInput/queue_size: 50\n",
      "\u001b[32m[0922 09:35:44 @base.py:275]\u001b[0m Start Epoch 378 ...\n"
     ]
    },
    {
     "name": "stderr",
     "output_type": "stream",
     "text": [
      "100%|#################################################################################|2000/2000[01:10<00:00,28.21it/s]"
     ]
    },
    {
     "name": "stdout",
     "output_type": "stream",
     "text": [
      "\u001b[32m[0922 09:36:54 @base.py:285]\u001b[0m Epoch 378 (global_step 756000) finished, time:1 minute 10 seconds.\n"
     ]
    },
    {
     "name": "stderr",
     "output_type": "stream",
     "text": [
      "\n"
     ]
    },
    {
     "name": "stdout",
     "output_type": "stream",
     "text": [
      "\u001b[32m[0922 09:36:55 @saver.py:79]\u001b[0m Model saved to ../output/LPMC/DATGAN/model\\model-756000.\n",
      "\u001b[32m[0922 09:36:55 @monitor.py:467]\u001b[0m GAN_loss/discrim/accuracy_fake: 0.895\n",
      "\u001b[32m[0922 09:36:55 @monitor.py:467]\u001b[0m GAN_loss/discrim/accuracy_real: 0.205\n",
      "\u001b[32m[0922 09:36:55 @monitor.py:467]\u001b[0m GAN_loss/discrim/loss: 0.62829\n",
      "\u001b[32m[0922 09:36:55 @monitor.py:467]\u001b[0m GAN_loss/gen/final-g-loss: 1.3902\n",
      "\u001b[32m[0922 09:36:55 @monitor.py:467]\u001b[0m GAN_loss/gen/klloss: 0.28426\n",
      "\u001b[32m[0922 09:36:55 @monitor.py:467]\u001b[0m GAN_loss/gen/loss: 1.106\n",
      "\u001b[32m[0922 09:36:55 @monitor.py:467]\u001b[0m QueueInput/queue_size: 50\n",
      "\u001b[32m[0922 09:36:55 @base.py:275]\u001b[0m Start Epoch 379 ...\n"
     ]
    },
    {
     "name": "stderr",
     "output_type": "stream",
     "text": [
      "100%|#################################################################################|2000/2000[01:11<00:00,28.14it/s]"
     ]
    },
    {
     "name": "stdout",
     "output_type": "stream",
     "text": [
      "\u001b[32m[0922 09:38:06 @base.py:285]\u001b[0m Epoch 379 (global_step 758000) finished, time:1 minute 11 seconds.\n",
      "\u001b[32m[0922 09:38:06 @saver.py:79]\u001b[0m Model saved to ../output/LPMC/DATGAN/model\\model-758000.\n",
      "\u001b[32m[0922 09:38:06 @monitor.py:467]\u001b[0m GAN_loss/discrim/accuracy_fake: 0.875\n",
      "\u001b[32m[0922 09:38:06 @monitor.py:467]\u001b[0m GAN_loss/discrim/accuracy_real: 0.22\n",
      "\u001b[32m[0922 09:38:06 @monitor.py:467]\u001b[0m GAN_loss/discrim/loss: 0.64276\n",
      "\u001b[32m[0922 09:38:06 @monitor.py:467]\u001b[0m GAN_loss/gen/final-g-loss: 1.3803\n",
      "\u001b[32m[0922 09:38:06 @monitor.py:467]\u001b[0m GAN_loss/gen/klloss: 0.32195\n",
      "\u001b[32m[0922 09:38:06 @monitor.py:467]\u001b[0m GAN_loss/gen/loss: 1.0584\n",
      "\u001b[32m[0922 09:38:06 @monitor.py:467]\u001b[0m QueueInput/queue_size: 50\n",
      "\u001b[32m[0922 09:38:06 @base.py:275]\u001b[0m Start Epoch 380 ...\n"
     ]
    },
    {
     "name": "stderr",
     "output_type": "stream",
     "text": [
      "\n",
      "100%|#################################################################################|2000/2000[01:10<00:00,28.17it/s]"
     ]
    },
    {
     "name": "stdout",
     "output_type": "stream",
     "text": [
      "\u001b[32m[0922 09:39:17 @base.py:285]\u001b[0m Epoch 380 (global_step 760000) finished, time:1 minute 10 seconds.\n",
      "\u001b[32m[0922 09:39:17 @saver.py:79]\u001b[0m Model saved to ../output/LPMC/DATGAN/model\\model-760000.\n",
      "\u001b[32m[0922 09:39:17 @monitor.py:467]\u001b[0m GAN_loss/discrim/accuracy_fake: 0.825\n",
      "\u001b[32m[0922 09:39:17 @monitor.py:467]\u001b[0m GAN_loss/discrim/accuracy_real: 0.2\n",
      "\u001b[32m[0922 09:39:17 @monitor.py:467]\u001b[0m GAN_loss/discrim/loss: 0.66639\n",
      "\u001b[32m[0922 09:39:17 @monitor.py:467]\u001b[0m GAN_loss/gen/final-g-loss: 1.2604\n",
      "\u001b[32m[0922 09:39:17 @monitor.py:467]\u001b[0m GAN_loss/gen/klloss: 0.24017\n",
      "\u001b[32m[0922 09:39:17 @monitor.py:467]\u001b[0m GAN_loss/gen/loss: 1.0202\n",
      "\u001b[32m[0922 09:39:17 @monitor.py:467]\u001b[0m QueueInput/queue_size: 50\n",
      "\u001b[32m[0922 09:39:17 @base.py:275]\u001b[0m Start Epoch 381 ...\n"
     ]
    },
    {
     "name": "stderr",
     "output_type": "stream",
     "text": [
      "\n",
      "100%|#################################################################################|2000/2000[01:10<00:00,28.19it/s]"
     ]
    },
    {
     "name": "stdout",
     "output_type": "stream",
     "text": [
      "\u001b[32m[0922 09:40:28 @base.py:285]\u001b[0m Epoch 381 (global_step 762000) finished, time:1 minute 10 seconds.\n",
      "\u001b[32m[0922 09:40:28 @saver.py:79]\u001b[0m Model saved to ../output/LPMC/DATGAN/model\\model-762000.\n",
      "\u001b[32m[0922 09:40:28 @monitor.py:467]\u001b[0m GAN_loss/discrim/accuracy_fake: 0.86\n",
      "\u001b[32m[0922 09:40:28 @monitor.py:467]\u001b[0m GAN_loss/discrim/accuracy_real: 0.2\n",
      "\u001b[32m[0922 09:40:28 @monitor.py:467]\u001b[0m GAN_loss/discrim/loss: 0.65777\n",
      "\u001b[32m[0922 09:40:28 @monitor.py:467]\u001b[0m GAN_loss/gen/final-g-loss: 1.3911\n",
      "\u001b[32m[0922 09:40:28 @monitor.py:467]\u001b[0m GAN_loss/gen/klloss: 0.36021\n",
      "\u001b[32m[0922 09:40:28 @monitor.py:467]\u001b[0m GAN_loss/gen/loss: 1.0309\n",
      "\u001b[32m[0922 09:40:28 @monitor.py:467]\u001b[0m QueueInput/queue_size: 50\n",
      "\u001b[32m[0922 09:40:28 @base.py:275]\u001b[0m Start Epoch 382 ...\n"
     ]
    },
    {
     "name": "stderr",
     "output_type": "stream",
     "text": [
      "\n",
      "100%|#################################################################################|2000/2000[01:10<00:00,28.20it/s]"
     ]
    },
    {
     "name": "stdout",
     "output_type": "stream",
     "text": [
      "\u001b[32m[0922 09:41:39 @base.py:285]\u001b[0m Epoch 382 (global_step 764000) finished, time:1 minute 10 seconds.\n",
      "\u001b[32m[0922 09:41:39 @saver.py:79]\u001b[0m Model saved to ../output/LPMC/DATGAN/model\\model-764000.\n",
      "\u001b[32m[0922 09:41:39 @monitor.py:467]\u001b[0m GAN_loss/discrim/accuracy_fake: 0.93\n",
      "\u001b[32m[0922 09:41:39 @monitor.py:467]\u001b[0m GAN_loss/discrim/accuracy_real: 0.255\n",
      "\u001b[32m[0922 09:41:39 @monitor.py:467]\u001b[0m GAN_loss/discrim/loss: 0.63086\n",
      "\u001b[32m[0922 09:41:39 @monitor.py:467]\u001b[0m GAN_loss/gen/final-g-loss: 1.2352\n",
      "\u001b[32m[0922 09:41:39 @monitor.py:467]\u001b[0m GAN_loss/gen/klloss: 0.17299\n",
      "\u001b[32m[0922 09:41:39 @monitor.py:467]\u001b[0m GAN_loss/gen/loss: 1.0622\n",
      "\u001b[32m[0922 09:41:39 @monitor.py:467]\u001b[0m QueueInput/queue_size: 50\n",
      "\u001b[32m[0922 09:41:39 @base.py:275]\u001b[0m Start Epoch 383 ...\n"
     ]
    },
    {
     "name": "stderr",
     "output_type": "stream",
     "text": [
      "\n",
      "100%|#################################################################################|2000/2000[01:10<00:00,28.18it/s]"
     ]
    },
    {
     "name": "stdout",
     "output_type": "stream",
     "text": [
      "\u001b[32m[0922 09:42:50 @base.py:285]\u001b[0m Epoch 383 (global_step 766000) finished, time:1 minute 10 seconds.\n",
      "\u001b[32m[0922 09:42:50 @saver.py:79]\u001b[0m Model saved to ../output/LPMC/DATGAN/model\\model-766000.\n",
      "\u001b[32m[0922 09:42:50 @monitor.py:467]\u001b[0m GAN_loss/discrim/accuracy_fake: 0.895\n",
      "\u001b[32m[0922 09:42:50 @monitor.py:467]\u001b[0m GAN_loss/discrim/accuracy_real: 0.155\n",
      "\u001b[32m[0922 09:42:50 @monitor.py:467]\u001b[0m GAN_loss/discrim/loss: 0.65178\n",
      "\u001b[32m[0922 09:42:50 @monitor.py:467]\u001b[0m GAN_loss/gen/final-g-loss: 1.3239\n",
      "\u001b[32m[0922 09:42:50 @monitor.py:467]\u001b[0m GAN_loss/gen/klloss: 0.22902\n",
      "\u001b[32m[0922 09:42:50 @monitor.py:467]\u001b[0m GAN_loss/gen/loss: 1.0949\n",
      "\u001b[32m[0922 09:42:50 @monitor.py:467]\u001b[0m QueueInput/queue_size: 50\n",
      "\u001b[32m[0922 09:42:50 @base.py:275]\u001b[0m Start Epoch 384 ...\n"
     ]
    },
    {
     "name": "stderr",
     "output_type": "stream",
     "text": [
      "\n",
      "100%|#################################################################################|2000/2000[01:10<00:00,28.18it/s]"
     ]
    },
    {
     "name": "stdout",
     "output_type": "stream",
     "text": [
      "\u001b[32m[0922 09:44:01 @base.py:285]\u001b[0m Epoch 384 (global_step 768000) finished, time:1 minute 10 seconds.\n"
     ]
    },
    {
     "name": "stderr",
     "output_type": "stream",
     "text": [
      "\n"
     ]
    },
    {
     "name": "stdout",
     "output_type": "stream",
     "text": [
      "\u001b[32m[0922 09:44:01 @saver.py:79]\u001b[0m Model saved to ../output/LPMC/DATGAN/model\\model-768000.\n",
      "\u001b[32m[0922 09:44:01 @monitor.py:467]\u001b[0m GAN_loss/discrim/accuracy_fake: 0.875\n",
      "\u001b[32m[0922 09:44:01 @monitor.py:467]\u001b[0m GAN_loss/discrim/accuracy_real: 0.17\n",
      "\u001b[32m[0922 09:44:01 @monitor.py:467]\u001b[0m GAN_loss/discrim/loss: 0.64602\n",
      "\u001b[32m[0922 09:44:01 @monitor.py:467]\u001b[0m GAN_loss/gen/final-g-loss: 1.2806\n",
      "\u001b[32m[0922 09:44:01 @monitor.py:467]\u001b[0m GAN_loss/gen/klloss: 0.22266\n",
      "\u001b[32m[0922 09:44:01 @monitor.py:467]\u001b[0m GAN_loss/gen/loss: 1.0579\n",
      "\u001b[32m[0922 09:44:01 @monitor.py:467]\u001b[0m QueueInput/queue_size: 50\n",
      "\u001b[32m[0922 09:44:01 @base.py:275]\u001b[0m Start Epoch 385 ...\n"
     ]
    },
    {
     "name": "stderr",
     "output_type": "stream",
     "text": [
      "100%|#################################################################################|2000/2000[01:11<00:00,28.15it/s]"
     ]
    },
    {
     "name": "stdout",
     "output_type": "stream",
     "text": [
      "\u001b[32m[0922 09:45:13 @base.py:285]\u001b[0m Epoch 385 (global_step 770000) finished, time:1 minute 11 seconds.\n",
      "\u001b[32m[0922 09:45:13 @saver.py:79]\u001b[0m Model saved to ../output/LPMC/DATGAN/model\\model-770000.\n"
     ]
    },
    {
     "name": "stderr",
     "output_type": "stream",
     "text": [
      "\n"
     ]
    },
    {
     "name": "stdout",
     "output_type": "stream",
     "text": [
      "\u001b[32m[0922 09:45:13 @monitor.py:467]\u001b[0m GAN_loss/discrim/accuracy_fake: 0.895\n",
      "\u001b[32m[0922 09:45:13 @monitor.py:467]\u001b[0m GAN_loss/discrim/accuracy_real: 0.225\n",
      "\u001b[32m[0922 09:45:13 @monitor.py:467]\u001b[0m GAN_loss/discrim/loss: 0.64492\n",
      "\u001b[32m[0922 09:45:13 @monitor.py:467]\u001b[0m GAN_loss/gen/final-g-loss: 1.359\n",
      "\u001b[32m[0922 09:45:13 @monitor.py:467]\u001b[0m GAN_loss/gen/klloss: 0.31268\n",
      "\u001b[32m[0922 09:45:13 @monitor.py:467]\u001b[0m GAN_loss/gen/loss: 1.0463\n",
      "\u001b[32m[0922 09:45:13 @monitor.py:467]\u001b[0m QueueInput/queue_size: 50\n",
      "\u001b[32m[0922 09:45:13 @base.py:275]\u001b[0m Start Epoch 386 ...\n"
     ]
    },
    {
     "name": "stderr",
     "output_type": "stream",
     "text": [
      "100%|#################################################################################|2000/2000[01:10<00:00,28.18it/s]"
     ]
    },
    {
     "name": "stdout",
     "output_type": "stream",
     "text": [
      "\u001b[32m[0922 09:46:24 @base.py:285]\u001b[0m Epoch 386 (global_step 772000) finished, time:1 minute 10 seconds.\n",
      "\u001b[32m[0922 09:46:24 @saver.py:79]\u001b[0m Model saved to ../output/LPMC/DATGAN/model\\model-772000.\n",
      "\u001b[32m[0922 09:46:24 @monitor.py:467]\u001b[0m GAN_loss/discrim/accuracy_fake: 0.9\n",
      "\u001b[32m[0922 09:46:24 @monitor.py:467]\u001b[0m GAN_loss/discrim/accuracy_real: 0.225\n",
      "\u001b[32m[0922 09:46:24 @monitor.py:467]\u001b[0m GAN_loss/discrim/loss: 0.64241\n",
      "\u001b[32m[0922 09:46:24 @monitor.py:467]\u001b[0m GAN_loss/gen/final-g-loss: 1.2632\n",
      "\u001b[32m[0922 09:46:24 @monitor.py:467]\u001b[0m GAN_loss/gen/klloss: 0.19492\n",
      "\u001b[32m[0922 09:46:24 @monitor.py:467]\u001b[0m GAN_loss/gen/loss: 1.0683\n",
      "\u001b[32m[0922 09:46:24 @monitor.py:467]\u001b[0m QueueInput/queue_size: 50\n",
      "\u001b[32m[0922 09:46:24 @base.py:275]\u001b[0m Start Epoch 387 ...\n"
     ]
    },
    {
     "name": "stderr",
     "output_type": "stream",
     "text": [
      "\n",
      "100%|#################################################################################|2000/2000[01:11<00:00,28.10it/s]"
     ]
    },
    {
     "name": "stdout",
     "output_type": "stream",
     "text": [
      "\u001b[32m[0922 09:47:35 @base.py:285]\u001b[0m Epoch 387 (global_step 774000) finished, time:1 minute 11 seconds.\n",
      "\u001b[32m[0922 09:47:35 @saver.py:79]\u001b[0m Model saved to ../output/LPMC/DATGAN/model\\model-774000.\n",
      "\u001b[32m[0922 09:47:35 @monitor.py:467]\u001b[0m GAN_loss/discrim/accuracy_fake: 0.885\n",
      "\u001b[32m[0922 09:47:35 @monitor.py:467]\u001b[0m GAN_loss/discrim/accuracy_real: 0.175\n",
      "\u001b[32m[0922 09:47:35 @monitor.py:467]\u001b[0m GAN_loss/discrim/loss: 0.64899\n",
      "\u001b[32m[0922 09:47:35 @monitor.py:467]\u001b[0m GAN_loss/gen/final-g-loss: 1.2467\n",
      "\u001b[32m[0922 09:47:35 @monitor.py:467]\u001b[0m GAN_loss/gen/klloss: 0.19388\n",
      "\u001b[32m[0922 09:47:35 @monitor.py:467]\u001b[0m GAN_loss/gen/loss: 1.0528\n",
      "\u001b[32m[0922 09:47:35 @monitor.py:467]\u001b[0m QueueInput/queue_size: 50\n",
      "\u001b[32m[0922 09:47:35 @base.py:275]\u001b[0m Start Epoch 388 ...\n"
     ]
    },
    {
     "name": "stderr",
     "output_type": "stream",
     "text": [
      "\n",
      "100%|#################################################################################|2000/2000[01:11<00:00,28.12it/s]"
     ]
    },
    {
     "name": "stdout",
     "output_type": "stream",
     "text": [
      "\u001b[32m[0922 09:48:46 @base.py:285]\u001b[0m Epoch 388 (global_step 776000) finished, time:1 minute 11 seconds.\n"
     ]
    },
    {
     "name": "stderr",
     "output_type": "stream",
     "text": [
      "\n"
     ]
    },
    {
     "name": "stdout",
     "output_type": "stream",
     "text": [
      "\u001b[32m[0922 09:48:46 @saver.py:79]\u001b[0m Model saved to ../output/LPMC/DATGAN/model\\model-776000.\n",
      "\u001b[32m[0922 09:48:46 @monitor.py:467]\u001b[0m GAN_loss/discrim/accuracy_fake: 0.915\n",
      "\u001b[32m[0922 09:48:46 @monitor.py:467]\u001b[0m GAN_loss/discrim/accuracy_real: 0.12\n",
      "\u001b[32m[0922 09:48:46 @monitor.py:467]\u001b[0m GAN_loss/discrim/loss: 0.64072\n",
      "\u001b[32m[0922 09:48:46 @monitor.py:467]\u001b[0m GAN_loss/gen/final-g-loss: 1.3028\n",
      "\u001b[32m[0922 09:48:46 @monitor.py:467]\u001b[0m GAN_loss/gen/klloss: 0.22388\n",
      "\u001b[32m[0922 09:48:46 @monitor.py:467]\u001b[0m GAN_loss/gen/loss: 1.0789\n",
      "\u001b[32m[0922 09:48:46 @monitor.py:467]\u001b[0m QueueInput/queue_size: 50\n",
      "\u001b[32m[0922 09:48:46 @base.py:275]\u001b[0m Start Epoch 389 ...\n"
     ]
    },
    {
     "name": "stderr",
     "output_type": "stream",
     "text": [
      "100%|#################################################################################|2000/2000[01:10<00:00,28.19it/s]"
     ]
    },
    {
     "name": "stdout",
     "output_type": "stream",
     "text": [
      "\u001b[32m[0922 09:49:57 @base.py:285]\u001b[0m Epoch 389 (global_step 778000) finished, time:1 minute 10 seconds.\n",
      "\u001b[32m[0922 09:49:58 @saver.py:79]\u001b[0m Model saved to ../output/LPMC/DATGAN/model\\model-778000.\n",
      "\u001b[32m[0922 09:49:58 @monitor.py:467]\u001b[0m GAN_loss/discrim/accuracy_fake: 0.865\n",
      "\u001b[32m[0922 09:49:58 @monitor.py:467]\u001b[0m GAN_loss/discrim/accuracy_real: 0.2\n",
      "\u001b[32m[0922 09:49:58 @monitor.py:467]\u001b[0m GAN_loss/discrim/loss: 0.65119\n",
      "\u001b[32m[0922 09:49:58 @monitor.py:467]\u001b[0m GAN_loss/gen/final-g-loss: 1.2605\n",
      "\u001b[32m[0922 09:49:58 @monitor.py:467]\u001b[0m GAN_loss/gen/klloss: 0.2026\n",
      "\u001b[32m[0922 09:49:58 @monitor.py:467]\u001b[0m GAN_loss/gen/loss: 1.0579\n",
      "\u001b[32m[0922 09:49:58 @monitor.py:467]\u001b[0m QueueInput/queue_size: 50\n",
      "\u001b[32m[0922 09:49:58 @base.py:275]\u001b[0m Start Epoch 390 ...\n"
     ]
    },
    {
     "name": "stderr",
     "output_type": "stream",
     "text": [
      "\n",
      "100%|#################################################################################|2000/2000[01:10<00:00,28.36it/s]"
     ]
    },
    {
     "name": "stdout",
     "output_type": "stream",
     "text": [
      "\u001b[32m[0922 09:51:08 @base.py:285]\u001b[0m Epoch 390 (global_step 780000) finished, time:1 minute 10 seconds.\n",
      "\u001b[32m[0922 09:51:08 @saver.py:79]\u001b[0m Model saved to ../output/LPMC/DATGAN/model\\model-780000.\n",
      "\u001b[32m[0922 09:51:08 @monitor.py:467]\u001b[0m GAN_loss/discrim/accuracy_fake: 0.905\n",
      "\u001b[32m[0922 09:51:08 @monitor.py:467]\u001b[0m GAN_loss/discrim/accuracy_real: 0.2\n",
      "\u001b[32m[0922 09:51:08 @monitor.py:467]\u001b[0m GAN_loss/discrim/loss: 0.63673\n",
      "\u001b[32m[0922 09:51:08 @monitor.py:467]\u001b[0m GAN_loss/gen/final-g-loss: 1.2846\n",
      "\u001b[32m[0922 09:51:08 @monitor.py:467]\u001b[0m GAN_loss/gen/klloss: 0.21278\n",
      "\u001b[32m[0922 09:51:08 @monitor.py:467]\u001b[0m GAN_loss/gen/loss: 1.0718\n",
      "\u001b[32m[0922 09:51:08 @monitor.py:467]\u001b[0m QueueInput/queue_size: 50\n",
      "\u001b[32m[0922 09:51:08 @base.py:275]\u001b[0m Start Epoch 391 ...\n"
     ]
    },
    {
     "name": "stderr",
     "output_type": "stream",
     "text": [
      "\n",
      "100%|#################################################################################|2000/2000[01:10<00:00,28.31it/s]"
     ]
    },
    {
     "name": "stdout",
     "output_type": "stream",
     "text": [
      "\u001b[32m[0922 09:52:19 @base.py:285]\u001b[0m Epoch 391 (global_step 782000) finished, time:1 minute 10 seconds.\n",
      "\u001b[32m[0922 09:52:19 @saver.py:79]\u001b[0m Model saved to ../output/LPMC/DATGAN/model\\model-782000.\n",
      "\u001b[32m[0922 09:52:19 @monitor.py:467]\u001b[0m GAN_loss/discrim/accuracy_fake: 0.87\n",
      "\u001b[32m[0922 09:52:19 @monitor.py:467]\u001b[0m GAN_loss/discrim/accuracy_real: 0.215\n",
      "\u001b[32m[0922 09:52:19 @monitor.py:467]\u001b[0m GAN_loss/discrim/loss: 0.63998\n",
      "\u001b[32m[0922 09:52:19 @monitor.py:467]\u001b[0m GAN_loss/gen/final-g-loss: 1.312\n",
      "\u001b[32m[0922 09:52:19 @monitor.py:467]\u001b[0m GAN_loss/gen/klloss: 0.24862\n",
      "\u001b[32m[0922 09:52:19 @monitor.py:467]\u001b[0m GAN_loss/gen/loss: 1.0634\n",
      "\u001b[32m[0922 09:52:19 @monitor.py:467]\u001b[0m QueueInput/queue_size: 50\n",
      "\u001b[32m[0922 09:52:19 @base.py:275]\u001b[0m Start Epoch 392 ...\n"
     ]
    },
    {
     "name": "stderr",
     "output_type": "stream",
     "text": [
      "\n",
      "100%|#################################################################################|2000/2000[01:10<00:00,28.22it/s]"
     ]
    },
    {
     "name": "stdout",
     "output_type": "stream",
     "text": [
      "\u001b[32m[0922 09:53:30 @base.py:285]\u001b[0m Epoch 392 (global_step 784000) finished, time:1 minute 10 seconds.\n",
      "\u001b[32m[0922 09:53:30 @saver.py:79]\u001b[0m Model saved to ../output/LPMC/DATGAN/model\\model-784000.\n",
      "\u001b[32m[0922 09:53:30 @monitor.py:467]\u001b[0m GAN_loss/discrim/accuracy_fake: 0.915\n",
      "\u001b[32m[0922 09:53:30 @monitor.py:467]\u001b[0m GAN_loss/discrim/accuracy_real: 0.185\n",
      "\u001b[32m[0922 09:53:30 @monitor.py:467]\u001b[0m GAN_loss/discrim/loss: 0.63339\n",
      "\u001b[32m[0922 09:53:30 @monitor.py:467]\u001b[0m GAN_loss/gen/final-g-loss: 1.3454\n",
      "\u001b[32m[0922 09:53:30 @monitor.py:467]\u001b[0m GAN_loss/gen/klloss: 0.25985\n",
      "\u001b[32m[0922 09:53:30 @monitor.py:467]\u001b[0m GAN_loss/gen/loss: 1.0855\n",
      "\u001b[32m[0922 09:53:30 @monitor.py:467]\u001b[0m QueueInput/queue_size: 50\n",
      "\u001b[32m[0922 09:53:30 @base.py:275]\u001b[0m Start Epoch 393 ...\n"
     ]
    },
    {
     "name": "stderr",
     "output_type": "stream",
     "text": [
      "\n",
      "100%|#################################################################################|2000/2000[01:10<00:00,28.20it/s]"
     ]
    },
    {
     "name": "stdout",
     "output_type": "stream",
     "text": [
      "\u001b[32m[0922 09:54:41 @base.py:285]\u001b[0m Epoch 393 (global_step 786000) finished, time:1 minute 10 seconds.\n"
     ]
    },
    {
     "name": "stderr",
     "output_type": "stream",
     "text": [
      "\n"
     ]
    },
    {
     "name": "stdout",
     "output_type": "stream",
     "text": [
      "\u001b[32m[0922 09:54:41 @saver.py:79]\u001b[0m Model saved to ../output/LPMC/DATGAN/model\\model-786000.\n",
      "\u001b[32m[0922 09:54:41 @monitor.py:467]\u001b[0m GAN_loss/discrim/accuracy_fake: 0.875\n",
      "\u001b[32m[0922 09:54:41 @monitor.py:467]\u001b[0m GAN_loss/discrim/accuracy_real: 0.195\n",
      "\u001b[32m[0922 09:54:41 @monitor.py:467]\u001b[0m GAN_loss/discrim/loss: 0.6501\n",
      "\u001b[32m[0922 09:54:41 @monitor.py:467]\u001b[0m GAN_loss/gen/final-g-loss: 1.3244\n",
      "\u001b[32m[0922 09:54:41 @monitor.py:467]\u001b[0m GAN_loss/gen/klloss: 0.25111\n",
      "\u001b[32m[0922 09:54:41 @monitor.py:467]\u001b[0m GAN_loss/gen/loss: 1.0733\n",
      "\u001b[32m[0922 09:54:41 @monitor.py:467]\u001b[0m QueueInput/queue_size: 50\n",
      "\u001b[32m[0922 09:54:41 @base.py:275]\u001b[0m Start Epoch 394 ...\n"
     ]
    },
    {
     "name": "stderr",
     "output_type": "stream",
     "text": [
      "100%|#################################################################################|2000/2000[01:10<00:00,28.19it/s]"
     ]
    },
    {
     "name": "stdout",
     "output_type": "stream",
     "text": [
      "\u001b[32m[0922 09:55:52 @base.py:285]\u001b[0m Epoch 394 (global_step 788000) finished, time:1 minute 10 seconds.\n",
      "\u001b[32m[0922 09:55:52 @saver.py:79]\u001b[0m Model saved to ../output/LPMC/DATGAN/model\\model-788000.\n",
      "\u001b[32m[0922 09:55:52 @monitor.py:467]\u001b[0m GAN_loss/discrim/accuracy_fake: 0.895\n",
      "\u001b[32m[0922 09:55:52 @monitor.py:467]\u001b[0m GAN_loss/discrim/accuracy_real: 0.205\n",
      "\u001b[32m[0922 09:55:52 @monitor.py:467]\u001b[0m GAN_loss/discrim/loss: 0.64588\n",
      "\u001b[32m[0922 09:55:52 @monitor.py:467]\u001b[0m GAN_loss/gen/final-g-loss: 1.237\n",
      "\u001b[32m[0922 09:55:52 @monitor.py:467]\u001b[0m GAN_loss/gen/klloss: 0.19446\n",
      "\u001b[32m[0922 09:55:52 @monitor.py:467]\u001b[0m GAN_loss/gen/loss: 1.0425\n",
      "\u001b[32m[0922 09:55:52 @monitor.py:467]\u001b[0m QueueInput/queue_size: 50\n",
      "\u001b[32m[0922 09:55:52 @base.py:275]\u001b[0m Start Epoch 395 ...\n"
     ]
    },
    {
     "name": "stderr",
     "output_type": "stream",
     "text": [
      "\n",
      "100%|#################################################################################|2000/2000[01:10<00:00,28.26it/s]"
     ]
    },
    {
     "name": "stdout",
     "output_type": "stream",
     "text": [
      "\u001b[32m[0922 09:57:03 @base.py:285]\u001b[0m Epoch 395 (global_step 790000) finished, time:1 minute 10 seconds.\n",
      "\u001b[32m[0922 09:57:03 @saver.py:79]\u001b[0m Model saved to ../output/LPMC/DATGAN/model\\model-790000.\n",
      "\u001b[32m[0922 09:57:03 @monitor.py:467]\u001b[0m GAN_loss/discrim/accuracy_fake: 0.865\n",
      "\u001b[32m[0922 09:57:03 @monitor.py:467]\u001b[0m GAN_loss/discrim/accuracy_real: 0.235\n",
      "\u001b[32m[0922 09:57:03 @monitor.py:467]\u001b[0m GAN_loss/discrim/loss: 0.6342\n",
      "\u001b[32m[0922 09:57:03 @monitor.py:467]\u001b[0m GAN_loss/gen/final-g-loss: 1.2542\n",
      "\u001b[32m[0922 09:57:03 @monitor.py:467]\u001b[0m GAN_loss/gen/klloss: 0.18949\n",
      "\u001b[32m[0922 09:57:03 @monitor.py:467]\u001b[0m GAN_loss/gen/loss: 1.0647\n",
      "\u001b[32m[0922 09:57:03 @monitor.py:467]\u001b[0m QueueInput/queue_size: 50\n",
      "\u001b[32m[0922 09:57:03 @base.py:275]\u001b[0m Start Epoch 396 ...\n"
     ]
    },
    {
     "name": "stderr",
     "output_type": "stream",
     "text": [
      "\n",
      "100%|#################################################################################|2000/2000[01:10<00:00,28.17it/s]"
     ]
    },
    {
     "name": "stdout",
     "output_type": "stream",
     "text": [
      "\u001b[32m[0922 09:58:14 @base.py:285]\u001b[0m Epoch 396 (global_step 792000) finished, time:1 minute 10 seconds.\n",
      "\u001b[32m[0922 09:58:14 @saver.py:79]\u001b[0m Model saved to ../output/LPMC/DATGAN/model\\model-792000.\n",
      "\u001b[32m[0922 09:58:14 @monitor.py:467]\u001b[0m GAN_loss/discrim/accuracy_fake: 0.865\n",
      "\u001b[32m[0922 09:58:14 @monitor.py:467]\u001b[0m GAN_loss/discrim/accuracy_real: 0.22\n",
      "\u001b[32m[0922 09:58:14 @monitor.py:467]\u001b[0m GAN_loss/discrim/loss: 0.63864\n",
      "\u001b[32m[0922 09:58:14 @monitor.py:467]\u001b[0m GAN_loss/gen/final-g-loss: 1.2317\n",
      "\u001b[32m[0922 09:58:14 @monitor.py:467]\u001b[0m GAN_loss/gen/klloss: 0.16034\n",
      "\u001b[32m[0922 09:58:14 @monitor.py:467]\u001b[0m GAN_loss/gen/loss: 1.0713\n",
      "\u001b[32m[0922 09:58:14 @monitor.py:467]\u001b[0m QueueInput/queue_size: 50\n",
      "\u001b[32m[0922 09:58:14 @base.py:275]\u001b[0m Start Epoch 397 ...\n"
     ]
    },
    {
     "name": "stderr",
     "output_type": "stream",
     "text": [
      "\n",
      "100%|#################################################################################|2000/2000[01:10<00:00,28.24it/s]"
     ]
    },
    {
     "name": "stdout",
     "output_type": "stream",
     "text": [
      "\u001b[32m[0922 09:59:25 @base.py:285]\u001b[0m Epoch 397 (global_step 794000) finished, time:1 minute 10 seconds.\n"
     ]
    },
    {
     "name": "stderr",
     "output_type": "stream",
     "text": [
      "\n"
     ]
    },
    {
     "name": "stdout",
     "output_type": "stream",
     "text": [
      "\u001b[32m[0922 09:59:25 @saver.py:79]\u001b[0m Model saved to ../output/LPMC/DATGAN/model\\model-794000.\n",
      "\u001b[32m[0922 09:59:25 @monitor.py:467]\u001b[0m GAN_loss/discrim/accuracy_fake: 0.895\n",
      "\u001b[32m[0922 09:59:25 @monitor.py:467]\u001b[0m GAN_loss/discrim/accuracy_real: 0.24\n",
      "\u001b[32m[0922 09:59:25 @monitor.py:467]\u001b[0m GAN_loss/discrim/loss: 0.63544\n",
      "\u001b[32m[0922 09:59:25 @monitor.py:467]\u001b[0m GAN_loss/gen/final-g-loss: 1.3563\n",
      "\u001b[32m[0922 09:59:25 @monitor.py:467]\u001b[0m GAN_loss/gen/klloss: 0.25741\n",
      "\u001b[32m[0922 09:59:25 @monitor.py:467]\u001b[0m GAN_loss/gen/loss: 1.0989\n",
      "\u001b[32m[0922 09:59:25 @monitor.py:467]\u001b[0m QueueInput/queue_size: 50\n",
      "\u001b[32m[0922 09:59:25 @base.py:275]\u001b[0m Start Epoch 398 ...\n"
     ]
    },
    {
     "name": "stderr",
     "output_type": "stream",
     "text": [
      "100%|#################################################################################|2000/2000[01:11<00:00,28.12it/s]"
     ]
    },
    {
     "name": "stdout",
     "output_type": "stream",
     "text": [
      "\u001b[32m[0922 10:00:37 @base.py:285]\u001b[0m Epoch 398 (global_step 796000) finished, time:1 minute 11 seconds.\n"
     ]
    },
    {
     "name": "stderr",
     "output_type": "stream",
     "text": [
      "\n"
     ]
    },
    {
     "name": "stdout",
     "output_type": "stream",
     "text": [
      "\u001b[32m[0922 10:00:37 @saver.py:79]\u001b[0m Model saved to ../output/LPMC/DATGAN/model\\model-796000.\n",
      "\u001b[32m[0922 10:00:37 @monitor.py:467]\u001b[0m GAN_loss/discrim/accuracy_fake: 0.9\n",
      "\u001b[32m[0922 10:00:37 @monitor.py:467]\u001b[0m GAN_loss/discrim/accuracy_real: 0.14\n",
      "\u001b[32m[0922 10:00:37 @monitor.py:467]\u001b[0m GAN_loss/discrim/loss: 0.65289\n",
      "\u001b[32m[0922 10:00:37 @monitor.py:467]\u001b[0m GAN_loss/gen/final-g-loss: 1.3583\n",
      "\u001b[32m[0922 10:00:37 @monitor.py:467]\u001b[0m GAN_loss/gen/klloss: 0.27845\n",
      "\u001b[32m[0922 10:00:37 @monitor.py:467]\u001b[0m GAN_loss/gen/loss: 1.0799\n",
      "\u001b[32m[0922 10:00:37 @monitor.py:467]\u001b[0m QueueInput/queue_size: 50\n",
      "\u001b[32m[0922 10:00:37 @base.py:275]\u001b[0m Start Epoch 399 ...\n"
     ]
    },
    {
     "name": "stderr",
     "output_type": "stream",
     "text": [
      "100%|#################################################################################|2000/2000[01:10<00:00,28.24it/s]"
     ]
    },
    {
     "name": "stdout",
     "output_type": "stream",
     "text": [
      "\u001b[32m[0922 10:01:48 @base.py:285]\u001b[0m Epoch 399 (global_step 798000) finished, time:1 minute 10 seconds.\n"
     ]
    },
    {
     "name": "stderr",
     "output_type": "stream",
     "text": [
      "\n"
     ]
    },
    {
     "name": "stdout",
     "output_type": "stream",
     "text": [
      "\u001b[32m[0922 10:01:48 @saver.py:79]\u001b[0m Model saved to ../output/LPMC/DATGAN/model\\model-798000.\n",
      "\u001b[32m[0922 10:01:48 @monitor.py:467]\u001b[0m GAN_loss/discrim/accuracy_fake: 0.935\n",
      "\u001b[32m[0922 10:01:48 @monitor.py:467]\u001b[0m GAN_loss/discrim/accuracy_real: 0.23\n",
      "\u001b[32m[0922 10:01:48 @monitor.py:467]\u001b[0m GAN_loss/discrim/loss: 0.63149\n",
      "\u001b[32m[0922 10:01:48 @monitor.py:467]\u001b[0m GAN_loss/gen/final-g-loss: 1.4046\n",
      "\u001b[32m[0922 10:01:48 @monitor.py:467]\u001b[0m GAN_loss/gen/klloss: 0.34973\n",
      "\u001b[32m[0922 10:01:48 @monitor.py:467]\u001b[0m GAN_loss/gen/loss: 1.0549\n",
      "\u001b[32m[0922 10:01:48 @monitor.py:467]\u001b[0m QueueInput/queue_size: 50\n",
      "\u001b[32m[0922 10:01:48 @base.py:275]\u001b[0m Start Epoch 400 ...\n"
     ]
    },
    {
     "name": "stderr",
     "output_type": "stream",
     "text": [
      "100%|#################################################################################|2000/2000[01:10<00:00,28.24it/s]"
     ]
    },
    {
     "name": "stdout",
     "output_type": "stream",
     "text": [
      "\u001b[32m[0922 10:02:59 @base.py:285]\u001b[0m Epoch 400 (global_step 800000) finished, time:1 minute 10 seconds.\n",
      "\u001b[32m[0922 10:02:59 @saver.py:79]\u001b[0m Model saved to ../output/LPMC/DATGAN/model\\model-800000.\n",
      "\u001b[32m[0922 10:02:59 @monitor.py:467]\u001b[0m GAN_loss/discrim/accuracy_fake: 0.88\n",
      "\u001b[32m[0922 10:02:59 @monitor.py:467]\u001b[0m GAN_loss/discrim/accuracy_real: 0.195\n",
      "\u001b[32m[0922 10:02:59 @monitor.py:467]\u001b[0m GAN_loss/discrim/loss: 0.63728\n",
      "\u001b[32m[0922 10:02:59 @monitor.py:467]\u001b[0m GAN_loss/gen/final-g-loss: 1.2685\n",
      "\u001b[32m[0922 10:02:59 @monitor.py:467]\u001b[0m GAN_loss/gen/klloss: 0.20092\n",
      "\u001b[32m[0922 10:02:59 @monitor.py:467]\u001b[0m GAN_loss/gen/loss: 1.0675\n",
      "\u001b[32m[0922 10:02:59 @monitor.py:467]\u001b[0m QueueInput/queue_size: 50\n",
      "\u001b[32m[0922 10:02:59 @base.py:275]\u001b[0m Start Epoch 401 ...\n"
     ]
    },
    {
     "name": "stderr",
     "output_type": "stream",
     "text": [
      "\n",
      "100%|#################################################################################|2000/2000[01:10<00:00,28.20it/s]"
     ]
    },
    {
     "name": "stdout",
     "output_type": "stream",
     "text": [
      "\u001b[32m[0922 10:04:10 @base.py:285]\u001b[0m Epoch 401 (global_step 802000) finished, time:1 minute 10 seconds.\n",
      "\u001b[32m[0922 10:04:10 @saver.py:79]\u001b[0m Model saved to ../output/LPMC/DATGAN/model\\model-802000.\n",
      "\u001b[32m[0922 10:04:10 @monitor.py:467]\u001b[0m GAN_loss/discrim/accuracy_fake: 0.915\n",
      "\u001b[32m[0922 10:04:10 @monitor.py:467]\u001b[0m GAN_loss/discrim/accuracy_real: 0.215\n",
      "\u001b[32m[0922 10:04:10 @monitor.py:467]\u001b[0m GAN_loss/discrim/loss: 0.64753\n",
      "\u001b[32m[0922 10:04:10 @monitor.py:467]\u001b[0m GAN_loss/gen/final-g-loss: 1.3633\n",
      "\u001b[32m[0922 10:04:10 @monitor.py:467]\u001b[0m GAN_loss/gen/klloss: 0.29137\n",
      "\u001b[32m[0922 10:04:10 @monitor.py:467]\u001b[0m GAN_loss/gen/loss: 1.0719\n",
      "\u001b[32m[0922 10:04:10 @monitor.py:467]\u001b[0m QueueInput/queue_size: 50\n",
      "\u001b[32m[0922 10:04:10 @base.py:275]\u001b[0m Start Epoch 402 ...\n"
     ]
    },
    {
     "name": "stderr",
     "output_type": "stream",
     "text": [
      "\n",
      "100%|#################################################################################|2000/2000[01:10<00:00,28.18it/s]"
     ]
    },
    {
     "name": "stdout",
     "output_type": "stream",
     "text": [
      "\u001b[32m[0922 10:05:21 @base.py:285]\u001b[0m Epoch 402 (global_step 804000) finished, time:1 minute 10 seconds.\n",
      "\u001b[32m[0922 10:05:21 @saver.py:79]\u001b[0m Model saved to ../output/LPMC/DATGAN/model\\model-804000.\n",
      "\u001b[32m[0922 10:05:21 @monitor.py:467]\u001b[0m GAN_loss/discrim/accuracy_fake: 0.935\n",
      "\u001b[32m[0922 10:05:21 @monitor.py:467]\u001b[0m GAN_loss/discrim/accuracy_real: 0.19\n",
      "\u001b[32m[0922 10:05:21 @monitor.py:467]\u001b[0m GAN_loss/discrim/loss: 0.64119\n",
      "\u001b[32m[0922 10:05:21 @monitor.py:467]\u001b[0m GAN_loss/gen/final-g-loss: 1.2354\n",
      "\u001b[32m[0922 10:05:21 @monitor.py:467]\u001b[0m GAN_loss/gen/klloss: 0.16997\n",
      "\u001b[32m[0922 10:05:21 @monitor.py:467]\u001b[0m GAN_loss/gen/loss: 1.0654\n",
      "\u001b[32m[0922 10:05:21 @monitor.py:467]\u001b[0m QueueInput/queue_size: 50\n",
      "\u001b[32m[0922 10:05:21 @base.py:275]\u001b[0m Start Epoch 403 ...\n"
     ]
    },
    {
     "name": "stderr",
     "output_type": "stream",
     "text": [
      "\n",
      "100%|#################################################################################|2000/2000[01:11<00:00,28.12it/s]"
     ]
    },
    {
     "name": "stdout",
     "output_type": "stream",
     "text": [
      "\u001b[32m[0922 10:06:32 @base.py:285]\u001b[0m Epoch 403 (global_step 806000) finished, time:1 minute 11 seconds.\n",
      "\u001b[32m[0922 10:06:32 @saver.py:79]\u001b[0m Model saved to ../output/LPMC/DATGAN/model\\model-806000.\n",
      "\u001b[32m[0922 10:06:32 @monitor.py:467]\u001b[0m GAN_loss/discrim/accuracy_fake: 0.89\n",
      "\u001b[32m[0922 10:06:32 @monitor.py:467]\u001b[0m GAN_loss/discrim/accuracy_real: 0.17\n",
      "\u001b[32m[0922 10:06:32 @monitor.py:467]\u001b[0m GAN_loss/discrim/loss: 0.64273\n",
      "\u001b[32m[0922 10:06:32 @monitor.py:467]\u001b[0m GAN_loss/gen/final-g-loss: 1.2429\n",
      "\u001b[32m[0922 10:06:32 @monitor.py:467]\u001b[0m GAN_loss/gen/klloss: 0.16338\n",
      "\u001b[32m[0922 10:06:32 @monitor.py:467]\u001b[0m GAN_loss/gen/loss: 1.0795\n",
      "\u001b[32m[0922 10:06:32 @monitor.py:467]\u001b[0m QueueInput/queue_size: 50\n",
      "\u001b[32m[0922 10:06:32 @base.py:275]\u001b[0m Start Epoch 404 ...\n"
     ]
    },
    {
     "name": "stderr",
     "output_type": "stream",
     "text": [
      "\n",
      "100%|#################################################################################|2000/2000[01:10<00:00,28.18it/s]"
     ]
    },
    {
     "name": "stdout",
     "output_type": "stream",
     "text": [
      "\u001b[32m[0922 10:07:43 @base.py:285]\u001b[0m Epoch 404 (global_step 808000) finished, time:1 minute 10 seconds.\n",
      "\u001b[32m[0922 10:07:43 @saver.py:79]\u001b[0m Model saved to ../output/LPMC/DATGAN/model\\model-808000.\n",
      "\u001b[32m[0922 10:07:43 @monitor.py:467]\u001b[0m GAN_loss/discrim/accuracy_fake: 0.915\n",
      "\u001b[32m[0922 10:07:43 @monitor.py:467]\u001b[0m GAN_loss/discrim/accuracy_real: 0.195\n",
      "\u001b[32m[0922 10:07:43 @monitor.py:467]\u001b[0m GAN_loss/discrim/loss: 0.63535\n",
      "\u001b[32m[0922 10:07:43 @monitor.py:467]\u001b[0m GAN_loss/gen/final-g-loss: 1.3721\n",
      "\u001b[32m[0922 10:07:43 @monitor.py:467]\u001b[0m GAN_loss/gen/klloss: 0.28811\n",
      "\u001b[32m[0922 10:07:43 @monitor.py:467]\u001b[0m GAN_loss/gen/loss: 1.084\n",
      "\u001b[32m[0922 10:07:43 @monitor.py:467]\u001b[0m QueueInput/queue_size: 50\n",
      "\u001b[32m[0922 10:07:43 @base.py:275]\u001b[0m Start Epoch 405 ...\n"
     ]
    },
    {
     "name": "stderr",
     "output_type": "stream",
     "text": [
      "\n",
      "100%|#################################################################################|2000/2000[01:11<00:00,28.05it/s]"
     ]
    },
    {
     "name": "stdout",
     "output_type": "stream",
     "text": [
      "\u001b[32m[0922 10:08:55 @base.py:285]\u001b[0m Epoch 405 (global_step 810000) finished, time:1 minute 11 seconds.\n",
      "\u001b[32m[0922 10:08:55 @saver.py:79]\u001b[0m Model saved to ../output/LPMC/DATGAN/model\\model-810000.\n",
      "\u001b[32m[0922 10:08:55 @monitor.py:467]\u001b[0m GAN_loss/discrim/accuracy_fake: 0.925\n",
      "\u001b[32m[0922 10:08:55 @monitor.py:467]\u001b[0m GAN_loss/discrim/accuracy_real: 0.17\n",
      "\u001b[32m[0922 10:08:55 @monitor.py:467]\u001b[0m GAN_loss/discrim/loss: 0.63116\n",
      "\u001b[32m[0922 10:08:55 @monitor.py:467]\u001b[0m GAN_loss/gen/final-g-loss: 1.3746\n",
      "\u001b[32m[0922 10:08:55 @monitor.py:467]\u001b[0m GAN_loss/gen/klloss: 0.28614\n",
      "\u001b[32m[0922 10:08:55 @monitor.py:467]\u001b[0m GAN_loss/gen/loss: 1.0884\n",
      "\u001b[32m[0922 10:08:55 @monitor.py:467]\u001b[0m QueueInput/queue_size: 50\n",
      "\u001b[32m[0922 10:08:55 @base.py:275]\u001b[0m Start Epoch 406 ...\n"
     ]
    },
    {
     "name": "stderr",
     "output_type": "stream",
     "text": [
      "\n",
      "100%|#################################################################################|2000/2000[01:11<00:00,28.14it/s]"
     ]
    },
    {
     "name": "stdout",
     "output_type": "stream",
     "text": [
      "\u001b[32m[0922 10:10:06 @base.py:285]\u001b[0m Epoch 406 (global_step 812000) finished, time:1 minute 11 seconds.\n",
      "\u001b[32m[0922 10:10:06 @saver.py:79]\u001b[0m Model saved to ../output/LPMC/DATGAN/model\\model-812000.\n",
      "\u001b[32m[0922 10:10:06 @monitor.py:467]\u001b[0m GAN_loss/discrim/accuracy_fake: 0.9\n",
      "\u001b[32m[0922 10:10:06 @monitor.py:467]\u001b[0m GAN_loss/discrim/accuracy_real: 0.205\n",
      "\u001b[32m[0922 10:10:06 @monitor.py:467]\u001b[0m GAN_loss/discrim/loss: 0.64025\n",
      "\u001b[32m[0922 10:10:06 @monitor.py:467]\u001b[0m GAN_loss/gen/final-g-loss: 1.2849\n",
      "\u001b[32m[0922 10:10:06 @monitor.py:467]\u001b[0m GAN_loss/gen/klloss: 0.20969\n",
      "\u001b[32m[0922 10:10:06 @monitor.py:467]\u001b[0m GAN_loss/gen/loss: 1.0752\n",
      "\u001b[32m[0922 10:10:06 @monitor.py:467]\u001b[0m QueueInput/queue_size: 50\n",
      "\u001b[32m[0922 10:10:06 @base.py:275]\u001b[0m Start Epoch 407 ...\n"
     ]
    },
    {
     "name": "stderr",
     "output_type": "stream",
     "text": [
      "\n",
      "100%|#################################################################################|2000/2000[01:10<00:00,28.37it/s]"
     ]
    },
    {
     "name": "stdout",
     "output_type": "stream",
     "text": [
      "\u001b[32m[0922 10:11:17 @base.py:285]\u001b[0m Epoch 407 (global_step 814000) finished, time:1 minute 10 seconds.\n",
      "\u001b[32m[0922 10:11:17 @saver.py:79]\u001b[0m Model saved to ../output/LPMC/DATGAN/model\\model-814000.\n",
      "\u001b[32m[0922 10:11:17 @monitor.py:467]\u001b[0m GAN_loss/discrim/accuracy_fake: 0.895\n",
      "\u001b[32m[0922 10:11:17 @monitor.py:467]\u001b[0m GAN_loss/discrim/accuracy_real: 0.205\n",
      "\u001b[32m[0922 10:11:17 @monitor.py:467]\u001b[0m GAN_loss/discrim/loss: 0.63644\n",
      "\u001b[32m[0922 10:11:17 @monitor.py:467]\u001b[0m GAN_loss/gen/final-g-loss: 1.3051\n",
      "\u001b[32m[0922 10:11:17 @monitor.py:467]\u001b[0m GAN_loss/gen/klloss: 0.23902\n",
      "\u001b[32m[0922 10:11:17 @monitor.py:467]\u001b[0m GAN_loss/gen/loss: 1.0661\n",
      "\u001b[32m[0922 10:11:17 @monitor.py:467]\u001b[0m QueueInput/queue_size: 50\n",
      "\u001b[32m[0922 10:11:17 @base.py:275]\u001b[0m Start Epoch 408 ...\n"
     ]
    },
    {
     "name": "stderr",
     "output_type": "stream",
     "text": [
      "\n",
      "100%|#################################################################################|2000/2000[01:10<00:00,28.34it/s]"
     ]
    },
    {
     "name": "stdout",
     "output_type": "stream",
     "text": [
      "\u001b[32m[0922 10:12:27 @base.py:285]\u001b[0m Epoch 408 (global_step 816000) finished, time:1 minute 10 seconds.\n",
      "\u001b[32m[0922 10:12:27 @saver.py:79]\u001b[0m Model saved to ../output/LPMC/DATGAN/model\\model-816000.\n",
      "\u001b[32m[0922 10:12:28 @monitor.py:467]\u001b[0m GAN_loss/discrim/accuracy_fake: 0.89\n",
      "\u001b[32m[0922 10:12:28 @monitor.py:467]\u001b[0m GAN_loss/discrim/accuracy_real: 0.185\n",
      "\u001b[32m[0922 10:12:28 @monitor.py:467]\u001b[0m GAN_loss/discrim/loss: 0.63975\n",
      "\u001b[32m[0922 10:12:28 @monitor.py:467]\u001b[0m GAN_loss/gen/final-g-loss: 1.3325\n",
      "\u001b[32m[0922 10:12:28 @monitor.py:467]\u001b[0m GAN_loss/gen/klloss: 0.26261\n",
      "\u001b[32m[0922 10:12:28 @monitor.py:467]\u001b[0m GAN_loss/gen/loss: 1.0699\n",
      "\u001b[32m[0922 10:12:28 @monitor.py:467]\u001b[0m QueueInput/queue_size: 50\n",
      "\u001b[32m[0922 10:12:28 @base.py:275]\u001b[0m Start Epoch 409 ...\n"
     ]
    },
    {
     "name": "stderr",
     "output_type": "stream",
     "text": [
      "\n",
      "100%|#################################################################################|2000/2000[01:10<00:00,28.22it/s]"
     ]
    },
    {
     "name": "stdout",
     "output_type": "stream",
     "text": [
      "\u001b[32m[0922 10:13:38 @base.py:285]\u001b[0m Epoch 409 (global_step 818000) finished, time:1 minute 10 seconds.\n",
      "\u001b[32m[0922 10:13:39 @saver.py:79]\u001b[0m Model saved to ../output/LPMC/DATGAN/model\\model-818000.\n"
     ]
    },
    {
     "name": "stderr",
     "output_type": "stream",
     "text": [
      "\n"
     ]
    },
    {
     "name": "stdout",
     "output_type": "stream",
     "text": [
      "\u001b[32m[0922 10:13:39 @monitor.py:467]\u001b[0m GAN_loss/discrim/accuracy_fake: 0.885\n",
      "\u001b[32m[0922 10:13:39 @monitor.py:467]\u001b[0m GAN_loss/discrim/accuracy_real: 0.235\n",
      "\u001b[32m[0922 10:13:39 @monitor.py:467]\u001b[0m GAN_loss/discrim/loss: 0.64361\n",
      "\u001b[32m[0922 10:13:39 @monitor.py:467]\u001b[0m GAN_loss/gen/final-g-loss: 1.2418\n",
      "\u001b[32m[0922 10:13:39 @monitor.py:467]\u001b[0m GAN_loss/gen/klloss: 0.18309\n",
      "\u001b[32m[0922 10:13:39 @monitor.py:467]\u001b[0m GAN_loss/gen/loss: 1.0587\n",
      "\u001b[32m[0922 10:13:39 @monitor.py:467]\u001b[0m QueueInput/queue_size: 50\n",
      "\u001b[32m[0922 10:13:39 @base.py:275]\u001b[0m Start Epoch 410 ...\n"
     ]
    },
    {
     "name": "stderr",
     "output_type": "stream",
     "text": [
      "100%|#################################################################################|2000/2000[01:10<00:00,28.32it/s]"
     ]
    },
    {
     "name": "stdout",
     "output_type": "stream",
     "text": [
      "\u001b[32m[0922 10:14:49 @base.py:285]\u001b[0m Epoch 410 (global_step 820000) finished, time:1 minute 10 seconds.\n",
      "\u001b[32m[0922 10:14:49 @saver.py:79]\u001b[0m Model saved to ../output/LPMC/DATGAN/model\\model-820000.\n",
      "\u001b[32m[0922 10:14:49 @monitor.py:467]\u001b[0m GAN_loss/discrim/accuracy_fake: 0.885\n"
     ]
    },
    {
     "name": "stderr",
     "output_type": "stream",
     "text": [
      "\n"
     ]
    },
    {
     "name": "stdout",
     "output_type": "stream",
     "text": [
      "\u001b[32m[0922 10:14:49 @monitor.py:467]\u001b[0m GAN_loss/discrim/accuracy_real: 0.205\n",
      "\u001b[32m[0922 10:14:49 @monitor.py:467]\u001b[0m GAN_loss/discrim/loss: 0.63936\n",
      "\u001b[32m[0922 10:14:49 @monitor.py:467]\u001b[0m GAN_loss/gen/final-g-loss: 1.2564\n",
      "\u001b[32m[0922 10:14:49 @monitor.py:467]\u001b[0m GAN_loss/gen/klloss: 0.18861\n",
      "\u001b[32m[0922 10:14:49 @monitor.py:467]\u001b[0m GAN_loss/gen/loss: 1.0678\n",
      "\u001b[32m[0922 10:14:49 @monitor.py:467]\u001b[0m QueueInput/queue_size: 50\n",
      "\u001b[32m[0922 10:14:49 @base.py:275]\u001b[0m Start Epoch 411 ...\n"
     ]
    },
    {
     "name": "stderr",
     "output_type": "stream",
     "text": [
      "100%|#################################################################################|2000/2000[01:11<00:00,28.17it/s]"
     ]
    },
    {
     "name": "stdout",
     "output_type": "stream",
     "text": [
      "\u001b[32m[0922 10:16:00 @base.py:285]\u001b[0m Epoch 411 (global_step 822000) finished, time:1 minute 11 seconds.\n",
      "\u001b[32m[0922 10:16:01 @saver.py:79]\u001b[0m Model saved to ../output/LPMC/DATGAN/model\\model-822000.\n",
      "\u001b[32m[0922 10:16:01 @monitor.py:467]\u001b[0m GAN_loss/discrim/accuracy_fake: 0.905\n",
      "\u001b[32m[0922 10:16:01 @monitor.py:467]\u001b[0m GAN_loss/discrim/accuracy_real: 0.185\n"
     ]
    },
    {
     "name": "stderr",
     "output_type": "stream",
     "text": [
      "\n"
     ]
    },
    {
     "name": "stdout",
     "output_type": "stream",
     "text": [
      "\u001b[32m[0922 10:16:01 @monitor.py:467]\u001b[0m GAN_loss/discrim/loss: 0.64829\n",
      "\u001b[32m[0922 10:16:01 @monitor.py:467]\u001b[0m GAN_loss/gen/final-g-loss: 1.3412\n",
      "\u001b[32m[0922 10:16:01 @monitor.py:467]\u001b[0m GAN_loss/gen/klloss: 0.26984\n",
      "\u001b[32m[0922 10:16:01 @monitor.py:467]\u001b[0m GAN_loss/gen/loss: 1.0713\n",
      "\u001b[32m[0922 10:16:01 @monitor.py:467]\u001b[0m QueueInput/queue_size: 50\n",
      "\u001b[32m[0922 10:16:01 @base.py:275]\u001b[0m Start Epoch 412 ...\n"
     ]
    },
    {
     "name": "stderr",
     "output_type": "stream",
     "text": [
      "100%|#################################################################################|2000/2000[01:11<00:00,28.05it/s]"
     ]
    },
    {
     "name": "stdout",
     "output_type": "stream",
     "text": [
      "\u001b[32m[0922 10:17:12 @base.py:285]\u001b[0m Epoch 412 (global_step 824000) finished, time:1 minute 11 seconds.\n",
      "\u001b[32m[0922 10:17:12 @saver.py:79]\u001b[0m Model saved to ../output/LPMC/DATGAN/model\\model-824000.\n",
      "\u001b[32m[0922 10:17:12 @monitor.py:467]\u001b[0m GAN_loss/discrim/accuracy_fake: 0.885\n",
      "\u001b[32m[0922 10:17:12 @monitor.py:467]\u001b[0m GAN_loss/discrim/accuracy_real: 0.205\n",
      "\u001b[32m[0922 10:17:12 @monitor.py:467]\u001b[0m GAN_loss/discrim/loss: 0.6418\n",
      "\u001b[32m[0922 10:17:12 @monitor.py:467]\u001b[0m GAN_loss/gen/final-g-loss: 1.3154\n",
      "\u001b[32m[0922 10:17:12 @monitor.py:467]\u001b[0m GAN_loss/gen/klloss: 0.2449\n",
      "\u001b[32m[0922 10:17:12 @monitor.py:467]\u001b[0m GAN_loss/gen/loss: 1.0705\n",
      "\u001b[32m[0922 10:17:12 @monitor.py:467]\u001b[0m QueueInput/queue_size: 50\n",
      "\u001b[32m[0922 10:17:12 @base.py:275]\u001b[0m Start Epoch 413 ...\n"
     ]
    },
    {
     "name": "stderr",
     "output_type": "stream",
     "text": [
      "\n",
      "100%|#################################################################################|2000/2000[01:10<00:00,28.22it/s]"
     ]
    },
    {
     "name": "stdout",
     "output_type": "stream",
     "text": [
      "\u001b[32m[0922 10:18:23 @base.py:285]\u001b[0m Epoch 413 (global_step 826000) finished, time:1 minute 10 seconds.\n",
      "\u001b[32m[0922 10:18:23 @saver.py:79]\u001b[0m Model saved to ../output/LPMC/DATGAN/model\\model-826000.\n",
      "\u001b[32m[0922 10:18:23 @monitor.py:467]\u001b[0m GAN_loss/discrim/accuracy_fake: 0.89\n",
      "\u001b[32m[0922 10:18:23 @monitor.py:467]\u001b[0m GAN_loss/discrim/accuracy_real: 0.195\n",
      "\u001b[32m[0922 10:18:23 @monitor.py:467]\u001b[0m GAN_loss/discrim/loss: 0.64742\n",
      "\u001b[32m[0922 10:18:23 @monitor.py:467]\u001b[0m GAN_loss/gen/final-g-loss: 1.3169\n",
      "\u001b[32m[0922 10:18:23 @monitor.py:467]\u001b[0m GAN_loss/gen/klloss: 0.24992\n",
      "\u001b[32m[0922 10:18:23 @monitor.py:467]\u001b[0m GAN_loss/gen/loss: 1.0669\n",
      "\u001b[32m[0922 10:18:23 @monitor.py:467]\u001b[0m QueueInput/queue_size: 50\n",
      "\u001b[32m[0922 10:18:23 @base.py:275]\u001b[0m Start Epoch 414 ...\n"
     ]
    },
    {
     "name": "stderr",
     "output_type": "stream",
     "text": [
      "\n",
      "100%|#################################################################################|2000/2000[01:10<00:00,28.18it/s]"
     ]
    },
    {
     "name": "stdout",
     "output_type": "stream",
     "text": [
      "\u001b[32m[0922 10:19:34 @base.py:285]\u001b[0m Epoch 414 (global_step 828000) finished, time:1 minute 10 seconds.\n",
      "\u001b[32m[0922 10:19:34 @saver.py:79]\u001b[0m Model saved to ../output/LPMC/DATGAN/model\\model-828000.\n",
      "\u001b[32m[0922 10:19:34 @monitor.py:467]\u001b[0m GAN_loss/discrim/accuracy_fake: 0.89\n",
      "\u001b[32m[0922 10:19:34 @monitor.py:467]\u001b[0m GAN_loss/discrim/accuracy_real: 0.19\n",
      "\u001b[32m[0922 10:19:34 @monitor.py:467]\u001b[0m GAN_loss/discrim/loss: 0.62665\n",
      "\u001b[32m[0922 10:19:34 @monitor.py:467]\u001b[0m GAN_loss/gen/final-g-loss: 1.275\n",
      "\u001b[32m[0922 10:19:34 @monitor.py:467]\u001b[0m GAN_loss/gen/klloss: 0.19202\n",
      "\u001b[32m[0922 10:19:34 @monitor.py:467]\u001b[0m GAN_loss/gen/loss: 1.083\n",
      "\u001b[32m[0922 10:19:34 @monitor.py:467]\u001b[0m QueueInput/queue_size: 50\n",
      "\u001b[32m[0922 10:19:34 @base.py:275]\u001b[0m Start Epoch 415 ...\n"
     ]
    },
    {
     "name": "stderr",
     "output_type": "stream",
     "text": [
      "\n",
      "100%|#################################################################################|2000/2000[01:10<00:00,28.21it/s]"
     ]
    },
    {
     "name": "stdout",
     "output_type": "stream",
     "text": [
      "\u001b[32m[0922 10:20:45 @base.py:285]\u001b[0m Epoch 415 (global_step 830000) finished, time:1 minute 10 seconds.\n",
      "\u001b[32m[0922 10:20:45 @saver.py:79]\u001b[0m Model saved to ../output/LPMC/DATGAN/model\\model-830000.\n",
      "\u001b[32m[0922 10:20:45 @monitor.py:467]\u001b[0m GAN_loss/discrim/accuracy_fake: 0.92\n",
      "\u001b[32m[0922 10:20:45 @monitor.py:467]\u001b[0m GAN_loss/discrim/accuracy_real: 0.215\n",
      "\u001b[32m[0922 10:20:45 @monitor.py:467]\u001b[0m GAN_loss/discrim/loss: 0.63783\n",
      "\u001b[32m[0922 10:20:45 @monitor.py:467]\u001b[0m GAN_loss/gen/final-g-loss: 1.2855\n",
      "\u001b[32m[0922 10:20:45 @monitor.py:467]\u001b[0m GAN_loss/gen/klloss: 0.22604\n",
      "\u001b[32m[0922 10:20:45 @monitor.py:467]\u001b[0m GAN_loss/gen/loss: 1.0595\n",
      "\u001b[32m[0922 10:20:45 @monitor.py:467]\u001b[0m QueueInput/queue_size: 50\n",
      "\u001b[32m[0922 10:20:45 @base.py:275]\u001b[0m Start Epoch 416 ...\n"
     ]
    },
    {
     "name": "stderr",
     "output_type": "stream",
     "text": [
      "\n",
      "100%|#################################################################################|2000/2000[01:11<00:00,28.16it/s]"
     ]
    },
    {
     "name": "stdout",
     "output_type": "stream",
     "text": [
      "\u001b[32m[0922 10:21:56 @base.py:285]\u001b[0m Epoch 416 (global_step 832000) finished, time:1 minute 11 seconds.\n",
      "\u001b[32m[0922 10:21:56 @saver.py:79]\u001b[0m Model saved to ../output/LPMC/DATGAN/model\\model-832000.\n"
     ]
    },
    {
     "name": "stderr",
     "output_type": "stream",
     "text": [
      "\n"
     ]
    },
    {
     "name": "stdout",
     "output_type": "stream",
     "text": [
      "\u001b[32m[0922 10:21:57 @monitor.py:467]\u001b[0m GAN_loss/discrim/accuracy_fake: 0.9\n",
      "\u001b[32m[0922 10:21:57 @monitor.py:467]\u001b[0m GAN_loss/discrim/accuracy_real: 0.22\n",
      "\u001b[32m[0922 10:21:57 @monitor.py:467]\u001b[0m GAN_loss/discrim/loss: 0.63387\n",
      "\u001b[32m[0922 10:21:57 @monitor.py:467]\u001b[0m GAN_loss/gen/final-g-loss: 1.2664\n",
      "\u001b[32m[0922 10:21:57 @monitor.py:467]\u001b[0m GAN_loss/gen/klloss: 0.19857\n",
      "\u001b[32m[0922 10:21:57 @monitor.py:467]\u001b[0m GAN_loss/gen/loss: 1.0679\n",
      "\u001b[32m[0922 10:21:57 @monitor.py:467]\u001b[0m QueueInput/queue_size: 50\n",
      "\u001b[32m[0922 10:21:57 @base.py:275]\u001b[0m Start Epoch 417 ...\n"
     ]
    },
    {
     "name": "stderr",
     "output_type": "stream",
     "text": [
      "100%|#################################################################################|2000/2000[01:10<00:00,28.31it/s]"
     ]
    },
    {
     "name": "stdout",
     "output_type": "stream",
     "text": [
      "\u001b[32m[0922 10:23:07 @base.py:285]\u001b[0m Epoch 417 (global_step 834000) finished, time:1 minute 10 seconds.\n",
      "\u001b[32m[0922 10:23:07 @saver.py:79]\u001b[0m Model saved to ../output/LPMC/DATGAN/model\\model-834000.\n",
      "\u001b[32m[0922 10:23:07 @monitor.py:467]\u001b[0m GAN_loss/discrim/accuracy_fake: 0.88\n",
      "\u001b[32m[0922 10:23:07 @monitor.py:467]\u001b[0m GAN_loss/discrim/accuracy_real: 0.21\n",
      "\u001b[32m[0922 10:23:07 @monitor.py:467]\u001b[0m GAN_loss/discrim/loss: 0.63915\n",
      "\u001b[32m[0922 10:23:07 @monitor.py:467]\u001b[0m GAN_loss/gen/final-g-loss: 1.3942\n",
      "\u001b[32m[0922 10:23:07 @monitor.py:467]\u001b[0m GAN_loss/gen/klloss: 0.32011\n",
      "\u001b[32m[0922 10:23:07 @monitor.py:467]\u001b[0m GAN_loss/gen/loss: 1.0741\n",
      "\u001b[32m[0922 10:23:07 @monitor.py:467]\u001b[0m QueueInput/queue_size: 50\n",
      "\u001b[32m[0922 10:23:07 @base.py:275]\u001b[0m Start Epoch 418 ...\n"
     ]
    },
    {
     "name": "stderr",
     "output_type": "stream",
     "text": [
      "\n",
      "100%|#################################################################################|2000/2000[01:10<00:00,28.22it/s]"
     ]
    },
    {
     "name": "stdout",
     "output_type": "stream",
     "text": [
      "\u001b[32m[0922 10:24:18 @base.py:285]\u001b[0m Epoch 418 (global_step 836000) finished, time:1 minute 10 seconds.\n"
     ]
    },
    {
     "name": "stderr",
     "output_type": "stream",
     "text": [
      "\n"
     ]
    },
    {
     "name": "stdout",
     "output_type": "stream",
     "text": [
      "\u001b[32m[0922 10:24:18 @saver.py:79]\u001b[0m Model saved to ../output/LPMC/DATGAN/model\\model-836000.\n",
      "\u001b[32m[0922 10:24:18 @monitor.py:467]\u001b[0m GAN_loss/discrim/accuracy_fake: 0.855\n",
      "\u001b[32m[0922 10:24:18 @monitor.py:467]\u001b[0m GAN_loss/discrim/accuracy_real: 0.215\n",
      "\u001b[32m[0922 10:24:18 @monitor.py:467]\u001b[0m GAN_loss/discrim/loss: 0.64008\n",
      "\u001b[32m[0922 10:24:18 @monitor.py:467]\u001b[0m GAN_loss/gen/final-g-loss: 1.2105\n",
      "\u001b[32m[0922 10:24:18 @monitor.py:467]\u001b[0m GAN_loss/gen/klloss: 0.13442\n",
      "\u001b[32m[0922 10:24:18 @monitor.py:467]\u001b[0m GAN_loss/gen/loss: 1.076\n",
      "\u001b[32m[0922 10:24:18 @monitor.py:467]\u001b[0m QueueInput/queue_size: 50\n",
      "\u001b[32m[0922 10:24:18 @base.py:275]\u001b[0m Start Epoch 419 ...\n"
     ]
    },
    {
     "name": "stderr",
     "output_type": "stream",
     "text": [
      "100%|#################################################################################|2000/2000[01:10<00:00,28.24it/s]"
     ]
    },
    {
     "name": "stdout",
     "output_type": "stream",
     "text": [
      "\u001b[32m[0922 10:25:29 @base.py:285]\u001b[0m Epoch 419 (global_step 838000) finished, time:1 minute 10 seconds.\n"
     ]
    },
    {
     "name": "stderr",
     "output_type": "stream",
     "text": [
      "\n"
     ]
    },
    {
     "name": "stdout",
     "output_type": "stream",
     "text": [
      "\u001b[32m[0922 10:25:29 @saver.py:79]\u001b[0m Model saved to ../output/LPMC/DATGAN/model\\model-838000.\n",
      "\u001b[32m[0922 10:25:29 @monitor.py:467]\u001b[0m GAN_loss/discrim/accuracy_fake: 0.895\n",
      "\u001b[32m[0922 10:25:29 @monitor.py:467]\u001b[0m GAN_loss/discrim/accuracy_real: 0.235\n",
      "\u001b[32m[0922 10:25:29 @monitor.py:467]\u001b[0m GAN_loss/discrim/loss: 0.64119\n",
      "\u001b[32m[0922 10:25:29 @monitor.py:467]\u001b[0m GAN_loss/gen/final-g-loss: 1.3325\n",
      "\u001b[32m[0922 10:25:29 @monitor.py:467]\u001b[0m GAN_loss/gen/klloss: 0.26625\n",
      "\u001b[32m[0922 10:25:29 @monitor.py:467]\u001b[0m GAN_loss/gen/loss: 1.0662\n",
      "\u001b[32m[0922 10:25:29 @monitor.py:467]\u001b[0m QueueInput/queue_size: 50\n",
      "\u001b[32m[0922 10:25:29 @base.py:275]\u001b[0m Start Epoch 420 ...\n"
     ]
    },
    {
     "name": "stderr",
     "output_type": "stream",
     "text": [
      "100%|#################################################################################|2000/2000[01:10<00:00,28.40it/s]"
     ]
    },
    {
     "name": "stdout",
     "output_type": "stream",
     "text": [
      "\u001b[32m[0922 10:26:40 @base.py:285]\u001b[0m Epoch 420 (global_step 840000) finished, time:1 minute 10 seconds.\n",
      "\u001b[32m[0922 10:26:40 @saver.py:79]\u001b[0m Model saved to ../output/LPMC/DATGAN/model\\model-840000.\n",
      "\u001b[32m[0922 10:26:40 @monitor.py:467]\u001b[0m GAN_loss/discrim/accuracy_fake: 0.905\n",
      "\u001b[32m[0922 10:26:40 @monitor.py:467]\u001b[0m GAN_loss/discrim/accuracy_real: 0.205\n"
     ]
    },
    {
     "name": "stderr",
     "output_type": "stream",
     "text": [
      "\n"
     ]
    },
    {
     "name": "stdout",
     "output_type": "stream",
     "text": [
      "\u001b[32m[0922 10:26:40 @monitor.py:467]\u001b[0m GAN_loss/discrim/loss: 0.63945\n",
      "\u001b[32m[0922 10:26:40 @monitor.py:467]\u001b[0m GAN_loss/gen/final-g-loss: 1.4491\n",
      "\u001b[32m[0922 10:26:40 @monitor.py:467]\u001b[0m GAN_loss/gen/klloss: 0.37205\n",
      "\u001b[32m[0922 10:26:40 @monitor.py:467]\u001b[0m GAN_loss/gen/loss: 1.077\n",
      "\u001b[32m[0922 10:26:40 @monitor.py:467]\u001b[0m QueueInput/queue_size: 50\n",
      "\u001b[32m[0922 10:26:40 @base.py:275]\u001b[0m Start Epoch 421 ...\n"
     ]
    },
    {
     "name": "stderr",
     "output_type": "stream",
     "text": [
      "100%|#################################################################################|2000/2000[01:10<00:00,28.20it/s]"
     ]
    },
    {
     "name": "stdout",
     "output_type": "stream",
     "text": [
      "\u001b[32m[0922 10:27:51 @base.py:285]\u001b[0m Epoch 421 (global_step 842000) finished, time:1 minute 10 seconds.\n"
     ]
    },
    {
     "name": "stderr",
     "output_type": "stream",
     "text": [
      "\n"
     ]
    },
    {
     "name": "stdout",
     "output_type": "stream",
     "text": [
      "\u001b[32m[0922 10:27:51 @saver.py:79]\u001b[0m Model saved to ../output/LPMC/DATGAN/model\\model-842000.\n",
      "\u001b[32m[0922 10:27:51 @monitor.py:467]\u001b[0m GAN_loss/discrim/accuracy_fake: 0.865\n",
      "\u001b[32m[0922 10:27:51 @monitor.py:467]\u001b[0m GAN_loss/discrim/accuracy_real: 0.2\n",
      "\u001b[32m[0922 10:27:51 @monitor.py:467]\u001b[0m GAN_loss/discrim/loss: 0.64301\n",
      "\u001b[32m[0922 10:27:51 @monitor.py:467]\u001b[0m GAN_loss/gen/final-g-loss: 1.2907\n",
      "\u001b[32m[0922 10:27:51 @monitor.py:467]\u001b[0m GAN_loss/gen/klloss: 0.21665\n",
      "\u001b[32m[0922 10:27:51 @monitor.py:467]\u001b[0m GAN_loss/gen/loss: 1.074\n",
      "\u001b[32m[0922 10:27:51 @monitor.py:467]\u001b[0m QueueInput/queue_size: 50\n",
      "\u001b[32m[0922 10:27:51 @base.py:275]\u001b[0m Start Epoch 422 ...\n"
     ]
    },
    {
     "name": "stderr",
     "output_type": "stream",
     "text": [
      "100%|#################################################################################|2000/2000[01:11<00:00,28.12it/s]"
     ]
    },
    {
     "name": "stdout",
     "output_type": "stream",
     "text": [
      "\u001b[32m[0922 10:29:02 @base.py:285]\u001b[0m Epoch 422 (global_step 844000) finished, time:1 minute 11 seconds.\n",
      "\u001b[32m[0922 10:29:02 @saver.py:79]\u001b[0m Model saved to ../output/LPMC/DATGAN/model\\model-844000.\n",
      "\u001b[32m[0922 10:29:02 @monitor.py:467]\u001b[0m GAN_loss/discrim/accuracy_fake: 0.895\n",
      "\u001b[32m[0922 10:29:02 @monitor.py:467]\u001b[0m GAN_loss/discrim/accuracy_real: 0.165\n",
      "\u001b[32m[0922 10:29:02 @monitor.py:467]\u001b[0m GAN_loss/discrim/loss: 0.65578\n",
      "\u001b[32m[0922 10:29:02 @monitor.py:467]\u001b[0m GAN_loss/gen/final-g-loss: 1.2686\n",
      "\u001b[32m[0922 10:29:02 @monitor.py:467]\u001b[0m GAN_loss/gen/klloss: 0.20661\n",
      "\u001b[32m[0922 10:29:02 @monitor.py:467]\u001b[0m GAN_loss/gen/loss: 1.062\n",
      "\u001b[32m[0922 10:29:02 @monitor.py:467]\u001b[0m QueueInput/queue_size: 50\n",
      "\u001b[32m[0922 10:29:02 @base.py:275]\u001b[0m Start Epoch 423 ...\n"
     ]
    },
    {
     "name": "stderr",
     "output_type": "stream",
     "text": [
      "\n",
      "100%|#################################################################################|2000/2000[01:10<00:00,28.22it/s]"
     ]
    },
    {
     "name": "stdout",
     "output_type": "stream",
     "text": [
      "\u001b[32m[0922 10:30:13 @base.py:285]\u001b[0m Epoch 423 (global_step 846000) finished, time:1 minute 10 seconds.\n",
      "\u001b[32m[0922 10:30:13 @saver.py:79]\u001b[0m Model saved to ../output/LPMC/DATGAN/model\\model-846000.\n",
      "\u001b[32m[0922 10:30:13 @monitor.py:467]\u001b[0m GAN_loss/discrim/accuracy_fake: 0.885\n"
     ]
    },
    {
     "name": "stderr",
     "output_type": "stream",
     "text": [
      "\n"
     ]
    },
    {
     "name": "stdout",
     "output_type": "stream",
     "text": [
      "\u001b[32m[0922 10:30:13 @monitor.py:467]\u001b[0m GAN_loss/discrim/accuracy_real: 0.14\n",
      "\u001b[32m[0922 10:30:13 @monitor.py:467]\u001b[0m GAN_loss/discrim/loss: 0.65934\n",
      "\u001b[32m[0922 10:30:13 @monitor.py:467]\u001b[0m GAN_loss/gen/final-g-loss: 1.4025\n",
      "\u001b[32m[0922 10:30:13 @monitor.py:467]\u001b[0m GAN_loss/gen/klloss: 0.34884\n",
      "\u001b[32m[0922 10:30:13 @monitor.py:467]\u001b[0m GAN_loss/gen/loss: 1.0536\n",
      "\u001b[32m[0922 10:30:13 @monitor.py:467]\u001b[0m QueueInput/queue_size: 50\n",
      "\u001b[32m[0922 10:30:13 @base.py:275]\u001b[0m Start Epoch 424 ...\n"
     ]
    },
    {
     "name": "stderr",
     "output_type": "stream",
     "text": [
      "100%|#################################################################################|2000/2000[01:10<00:00,28.17it/s]"
     ]
    },
    {
     "name": "stdout",
     "output_type": "stream",
     "text": [
      "\u001b[32m[0922 10:31:24 @base.py:285]\u001b[0m Epoch 424 (global_step 848000) finished, time:1 minute 10 seconds.\n",
      "\u001b[32m[0922 10:31:25 @saver.py:79]\u001b[0m Model saved to ../output/LPMC/DATGAN/model\\model-848000.\n",
      "\u001b[32m[0922 10:31:25 @monitor.py:467]\u001b[0m GAN_loss/discrim/accuracy_fake: 0.905\n",
      "\u001b[32m[0922 10:31:25 @monitor.py:467]\u001b[0m GAN_loss/discrim/accuracy_real: 0.19\n",
      "\u001b[32m[0922 10:31:25 @monitor.py:467]\u001b[0m GAN_loss/discrim/loss: 0.6394\n",
      "\u001b[32m[0922 10:31:25 @monitor.py:467]\u001b[0m GAN_loss/gen/final-g-loss: 1.4085\n"
     ]
    },
    {
     "name": "stderr",
     "output_type": "stream",
     "text": [
      "\n"
     ]
    },
    {
     "name": "stdout",
     "output_type": "stream",
     "text": [
      "\u001b[32m[0922 10:31:25 @monitor.py:467]\u001b[0m GAN_loss/gen/klloss: 0.33664\n",
      "\u001b[32m[0922 10:31:25 @monitor.py:467]\u001b[0m GAN_loss/gen/loss: 1.0719\n",
      "\u001b[32m[0922 10:31:25 @monitor.py:467]\u001b[0m QueueInput/queue_size: 50\n",
      "\u001b[32m[0922 10:31:25 @base.py:275]\u001b[0m Start Epoch 425 ...\n"
     ]
    },
    {
     "name": "stderr",
     "output_type": "stream",
     "text": [
      "100%|#################################################################################|2000/2000[01:10<00:00,28.17it/s]"
     ]
    },
    {
     "name": "stdout",
     "output_type": "stream",
     "text": [
      "\u001b[32m[0922 10:32:36 @base.py:285]\u001b[0m Epoch 425 (global_step 850000) finished, time:1 minute 10 seconds.\n",
      "\u001b[32m[0922 10:32:36 @saver.py:79]\u001b[0m Model saved to ../output/LPMC/DATGAN/model\\model-850000.\n",
      "\u001b[32m[0922 10:32:36 @monitor.py:467]\u001b[0m GAN_loss/discrim/accuracy_fake: 0.86\n",
      "\u001b[32m[0922 10:32:36 @monitor.py:467]\u001b[0m GAN_loss/discrim/accuracy_real: 0.185\n",
      "\u001b[32m[0922 10:32:36 @monitor.py:467]\u001b[0m GAN_loss/discrim/loss: 0.64377\n",
      "\u001b[32m[0922 10:32:36 @monitor.py:467]\u001b[0m GAN_loss/gen/final-g-loss: 1.251\n",
      "\u001b[32m[0922 10:32:36 @monitor.py:467]\u001b[0m GAN_loss/gen/klloss: 0.1935\n",
      "\u001b[32m[0922 10:32:36 @monitor.py:467]\u001b[0m GAN_loss/gen/loss: 1.0575\n",
      "\u001b[32m[0922 10:32:36 @monitor.py:467]\u001b[0m QueueInput/queue_size: 50\n",
      "\u001b[32m[0922 10:32:36 @base.py:275]\u001b[0m Start Epoch 426 ...\n"
     ]
    },
    {
     "name": "stderr",
     "output_type": "stream",
     "text": [
      "\n",
      "100%|#################################################################################|2000/2000[01:10<00:00,28.24it/s]"
     ]
    },
    {
     "name": "stdout",
     "output_type": "stream",
     "text": [
      "\u001b[32m[0922 10:33:47 @base.py:285]\u001b[0m Epoch 426 (global_step 852000) finished, time:1 minute 10 seconds.\n",
      "\u001b[32m[0922 10:33:47 @saver.py:79]\u001b[0m Model saved to ../output/LPMC/DATGAN/model\\model-852000.\n",
      "\u001b[32m[0922 10:33:47 @monitor.py:467]\u001b[0m GAN_loss/discrim/accuracy_fake: 0.9\n",
      "\u001b[32m[0922 10:33:47 @monitor.py:467]\u001b[0m GAN_loss/discrim/accuracy_real: 0.17\n",
      "\u001b[32m[0922 10:33:47 @monitor.py:467]\u001b[0m GAN_loss/discrim/loss: 0.64185\n",
      "\u001b[32m[0922 10:33:47 @monitor.py:467]\u001b[0m GAN_loss/gen/final-g-loss: 1.3237\n",
      "\u001b[32m[0922 10:33:47 @monitor.py:467]\u001b[0m GAN_loss/gen/klloss: 0.24423\n",
      "\u001b[32m[0922 10:33:47 @monitor.py:467]\u001b[0m GAN_loss/gen/loss: 1.0795\n",
      "\u001b[32m[0922 10:33:47 @monitor.py:467]\u001b[0m QueueInput/queue_size: 50\n",
      "\u001b[32m[0922 10:33:47 @base.py:275]\u001b[0m Start Epoch 427 ...\n"
     ]
    },
    {
     "name": "stderr",
     "output_type": "stream",
     "text": [
      "\n",
      "100%|#################################################################################|2000/2000[01:10<00:00,28.25it/s]"
     ]
    },
    {
     "name": "stdout",
     "output_type": "stream",
     "text": [
      "\u001b[32m[0922 10:34:58 @base.py:285]\u001b[0m Epoch 427 (global_step 854000) finished, time:1 minute 10 seconds.\n",
      "\u001b[32m[0922 10:34:58 @saver.py:79]\u001b[0m Model saved to ../output/LPMC/DATGAN/model\\model-854000.\n"
     ]
    },
    {
     "name": "stderr",
     "output_type": "stream",
     "text": [
      "\n"
     ]
    },
    {
     "name": "stdout",
     "output_type": "stream",
     "text": [
      "\u001b[32m[0922 10:34:58 @monitor.py:467]\u001b[0m GAN_loss/discrim/accuracy_fake: 0.88\n",
      "\u001b[32m[0922 10:34:58 @monitor.py:467]\u001b[0m GAN_loss/discrim/accuracy_real: 0.19\n",
      "\u001b[32m[0922 10:34:58 @monitor.py:467]\u001b[0m GAN_loss/discrim/loss: 0.64485\n",
      "\u001b[32m[0922 10:34:58 @monitor.py:467]\u001b[0m GAN_loss/gen/final-g-loss: 1.3869\n",
      "\u001b[32m[0922 10:34:58 @monitor.py:467]\u001b[0m GAN_loss/gen/klloss: 0.33628\n",
      "\u001b[32m[0922 10:34:58 @monitor.py:467]\u001b[0m GAN_loss/gen/loss: 1.0506\n",
      "\u001b[32m[0922 10:34:58 @monitor.py:467]\u001b[0m QueueInput/queue_size: 50\n",
      "\u001b[32m[0922 10:34:58 @base.py:275]\u001b[0m Start Epoch 428 ...\n"
     ]
    },
    {
     "name": "stderr",
     "output_type": "stream",
     "text": [
      "100%|#################################################################################|2000/2000[01:10<00:00,28.22it/s]"
     ]
    },
    {
     "name": "stdout",
     "output_type": "stream",
     "text": [
      "\u001b[32m[0922 10:36:09 @base.py:285]\u001b[0m Epoch 428 (global_step 856000) finished, time:1 minute 10 seconds.\n"
     ]
    },
    {
     "name": "stderr",
     "output_type": "stream",
     "text": [
      "\n"
     ]
    },
    {
     "name": "stdout",
     "output_type": "stream",
     "text": [
      "\u001b[32m[0922 10:36:09 @saver.py:79]\u001b[0m Model saved to ../output/LPMC/DATGAN/model\\model-856000.\n",
      "\u001b[32m[0922 10:36:09 @monitor.py:467]\u001b[0m GAN_loss/discrim/accuracy_fake: 0.87\n",
      "\u001b[32m[0922 10:36:09 @monitor.py:467]\u001b[0m GAN_loss/discrim/accuracy_real: 0.175\n",
      "\u001b[32m[0922 10:36:09 @monitor.py:467]\u001b[0m GAN_loss/discrim/loss: 0.64917\n",
      "\u001b[32m[0922 10:36:09 @monitor.py:467]\u001b[0m GAN_loss/gen/final-g-loss: 1.3731\n",
      "\u001b[32m[0922 10:36:09 @monitor.py:467]\u001b[0m GAN_loss/gen/klloss: 0.30069\n",
      "\u001b[32m[0922 10:36:09 @monitor.py:467]\u001b[0m GAN_loss/gen/loss: 1.0724\n",
      "\u001b[32m[0922 10:36:09 @monitor.py:467]\u001b[0m QueueInput/queue_size: 50\n",
      "\u001b[32m[0922 10:36:09 @base.py:275]\u001b[0m Start Epoch 429 ...\n"
     ]
    },
    {
     "name": "stderr",
     "output_type": "stream",
     "text": [
      "100%|#################################################################################|2000/2000[01:10<00:00,28.36it/s]"
     ]
    },
    {
     "name": "stdout",
     "output_type": "stream",
     "text": [
      "\u001b[32m[0922 10:37:19 @base.py:285]\u001b[0m Epoch 429 (global_step 858000) finished, time:1 minute 10 seconds.\n",
      "\u001b[32m[0922 10:37:19 @saver.py:79]\u001b[0m Model saved to ../output/LPMC/DATGAN/model\\model-858000.\n",
      "\u001b[32m[0922 10:37:20 @monitor.py:467]\u001b[0m GAN_loss/discrim/accuracy_fake: 0.91\n",
      "\u001b[32m[0922 10:37:20 @monitor.py:467]\u001b[0m GAN_loss/discrim/accuracy_real: 0.115\n",
      "\u001b[32m[0922 10:37:20 @monitor.py:467]\u001b[0m GAN_loss/discrim/loss: 0.65193\n",
      "\u001b[32m[0922 10:37:20 @monitor.py:467]\u001b[0m GAN_loss/gen/final-g-loss: 1.3014\n",
      "\u001b[32m[0922 10:37:20 @monitor.py:467]\u001b[0m GAN_loss/gen/klloss: 0.22327\n",
      "\u001b[32m[0922 10:37:20 @monitor.py:467]\u001b[0m GAN_loss/gen/loss: 1.0781\n",
      "\u001b[32m[0922 10:37:20 @monitor.py:467]\u001b[0m QueueInput/queue_size: 50\n",
      "\u001b[32m[0922 10:37:20 @base.py:275]\u001b[0m Start Epoch 430 ...\n"
     ]
    },
    {
     "name": "stderr",
     "output_type": "stream",
     "text": [
      "\n",
      "100%|#################################################################################|2000/2000[01:10<00:00,28.32it/s]"
     ]
    },
    {
     "name": "stdout",
     "output_type": "stream",
     "text": [
      "\u001b[32m[0922 10:38:30 @base.py:285]\u001b[0m Epoch 430 (global_step 860000) finished, time:1 minute 10 seconds.\n",
      "\u001b[32m[0922 10:38:30 @saver.py:79]\u001b[0m Model saved to ../output/LPMC/DATGAN/model\\model-860000.\n"
     ]
    },
    {
     "name": "stderr",
     "output_type": "stream",
     "text": [
      "\n"
     ]
    },
    {
     "name": "stdout",
     "output_type": "stream",
     "text": [
      "\u001b[32m[0922 10:38:30 @monitor.py:467]\u001b[0m GAN_loss/discrim/accuracy_fake: 0.865\n",
      "\u001b[32m[0922 10:38:30 @monitor.py:467]\u001b[0m GAN_loss/discrim/accuracy_real: 0.19\n",
      "\u001b[32m[0922 10:38:30 @monitor.py:467]\u001b[0m GAN_loss/discrim/loss: 0.64722\n",
      "\u001b[32m[0922 10:38:30 @monitor.py:467]\u001b[0m GAN_loss/gen/final-g-loss: 1.3747\n",
      "\u001b[32m[0922 10:38:30 @monitor.py:467]\u001b[0m GAN_loss/gen/klloss: 0.30678\n",
      "\u001b[32m[0922 10:38:30 @monitor.py:467]\u001b[0m GAN_loss/gen/loss: 1.0679\n",
      "\u001b[32m[0922 10:38:30 @monitor.py:467]\u001b[0m QueueInput/queue_size: 50\n",
      "\u001b[32m[0922 10:38:30 @base.py:275]\u001b[0m Start Epoch 431 ...\n"
     ]
    },
    {
     "name": "stderr",
     "output_type": "stream",
     "text": [
      "100%|#################################################################################|2000/2000[01:08<00:00,29.05it/s]"
     ]
    },
    {
     "name": "stdout",
     "output_type": "stream",
     "text": [
      "\u001b[32m[0922 10:39:39 @base.py:285]\u001b[0m Epoch 431 (global_step 862000) finished, time:1 minute 8 seconds.\n",
      "\u001b[32m[0922 10:39:39 @saver.py:79]\u001b[0m Model saved to ../output/LPMC/DATGAN/model\\model-862000.\n",
      "\u001b[32m[0922 10:39:39 @monitor.py:467]\u001b[0m GAN_loss/discrim/accuracy_fake: 0.905\n",
      "\u001b[32m[0922 10:39:39 @monitor.py:467]\u001b[0m GAN_loss/discrim/accuracy_real: 0.175\n",
      "\u001b[32m[0922 10:39:39 @monitor.py:467]\u001b[0m GAN_loss/discrim/loss: 0.651\n",
      "\u001b[32m[0922 10:39:39 @monitor.py:467]\u001b[0m GAN_loss/gen/final-g-loss: 1.3413\n",
      "\u001b[32m[0922 10:39:39 @monitor.py:467]\u001b[0m GAN_loss/gen/klloss: 0.26672\n",
      "\u001b[32m[0922 10:39:39 @monitor.py:467]\u001b[0m GAN_loss/gen/loss: 1.0746\n"
     ]
    },
    {
     "name": "stderr",
     "output_type": "stream",
     "text": [
      "\n"
     ]
    },
    {
     "name": "stdout",
     "output_type": "stream",
     "text": [
      "\u001b[32m[0922 10:39:39 @monitor.py:467]\u001b[0m QueueInput/queue_size: 50\n",
      "\u001b[32m[0922 10:39:39 @base.py:275]\u001b[0m Start Epoch 432 ...\n"
     ]
    },
    {
     "name": "stderr",
     "output_type": "stream",
     "text": [
      "100%|#################################################################################|2000/2000[01:11<00:00,28.03it/s]"
     ]
    },
    {
     "name": "stdout",
     "output_type": "stream",
     "text": [
      "\u001b[32m[0922 10:40:51 @base.py:285]\u001b[0m Epoch 432 (global_step 864000) finished, time:1 minute 11 seconds.\n",
      "\u001b[32m[0922 10:40:51 @saver.py:79]\u001b[0m Model saved to ../output/LPMC/DATGAN/model\\model-864000.\n",
      "\u001b[32m[0922 10:40:51 @monitor.py:467]\u001b[0m GAN_loss/discrim/accuracy_fake: 0.865\n"
     ]
    },
    {
     "name": "stderr",
     "output_type": "stream",
     "text": [
      "\n"
     ]
    },
    {
     "name": "stdout",
     "output_type": "stream",
     "text": [
      "\u001b[32m[0922 10:40:51 @monitor.py:467]\u001b[0m GAN_loss/discrim/accuracy_real: 0.165\n",
      "\u001b[32m[0922 10:40:51 @monitor.py:467]\u001b[0m GAN_loss/discrim/loss: 0.65011\n",
      "\u001b[32m[0922 10:40:51 @monitor.py:467]\u001b[0m GAN_loss/gen/final-g-loss: 1.3568\n",
      "\u001b[32m[0922 10:40:51 @monitor.py:467]\u001b[0m GAN_loss/gen/klloss: 0.28953\n",
      "\u001b[32m[0922 10:40:51 @monitor.py:467]\u001b[0m GAN_loss/gen/loss: 1.0673\n",
      "\u001b[32m[0922 10:40:51 @monitor.py:467]\u001b[0m QueueInput/queue_size: 50\n",
      "\u001b[32m[0922 10:40:51 @base.py:275]\u001b[0m Start Epoch 433 ...\n"
     ]
    },
    {
     "name": "stderr",
     "output_type": "stream",
     "text": [
      "100%|#################################################################################|2000/2000[01:12<00:00,27.58it/s]"
     ]
    },
    {
     "name": "stdout",
     "output_type": "stream",
     "text": [
      "\u001b[32m[0922 10:42:03 @base.py:285]\u001b[0m Epoch 433 (global_step 866000) finished, time:1 minute 12 seconds.\n",
      "\u001b[32m[0922 10:42:04 @saver.py:79]\u001b[0m Model saved to ../output/LPMC/DATGAN/model\\model-866000.\n",
      "\u001b[32m[0922 10:42:04 @monitor.py:467]\u001b[0m GAN_loss/discrim/accuracy_fake: 0.9\n",
      "\u001b[32m[0922 10:42:04 @monitor.py:467]\u001b[0m GAN_loss/discrim/accuracy_real: 0.185\n",
      "\u001b[32m[0922 10:42:04 @monitor.py:467]\u001b[0m GAN_loss/discrim/loss: 0.64563\n",
      "\u001b[32m[0922 10:42:04 @monitor.py:467]\u001b[0m GAN_loss/gen/final-g-loss: 1.2695\n",
      "\u001b[32m[0922 10:42:04 @monitor.py:467]\u001b[0m GAN_loss/gen/klloss: 0.21605\n",
      "\u001b[32m[0922 10:42:04 @monitor.py:467]\u001b[0m GAN_loss/gen/loss: 1.0535\n",
      "\u001b[32m[0922 10:42:04 @monitor.py:467]\u001b[0m QueueInput/queue_size: 50\n",
      "\u001b[32m[0922 10:42:04 @base.py:275]\u001b[0m Start Epoch 434 ...\n"
     ]
    },
    {
     "name": "stderr",
     "output_type": "stream",
     "text": [
      "\n",
      "100%|#################################################################################|2000/2000[01:11<00:00,27.93it/s]"
     ]
    },
    {
     "name": "stdout",
     "output_type": "stream",
     "text": [
      "\u001b[32m[0922 10:43:15 @base.py:285]\u001b[0m Epoch 434 (global_step 868000) finished, time:1 minute 11 seconds.\n",
      "\u001b[32m[0922 10:43:15 @saver.py:79]\u001b[0m Model saved to ../output/LPMC/DATGAN/model\\model-868000.\n"
     ]
    },
    {
     "name": "stderr",
     "output_type": "stream",
     "text": [
      "\n"
     ]
    },
    {
     "name": "stdout",
     "output_type": "stream",
     "text": [
      "\u001b[32m[0922 10:43:15 @monitor.py:467]\u001b[0m GAN_loss/discrim/accuracy_fake: 0.92\n",
      "\u001b[32m[0922 10:43:15 @monitor.py:467]\u001b[0m GAN_loss/discrim/accuracy_real: 0.195\n",
      "\u001b[32m[0922 10:43:15 @monitor.py:467]\u001b[0m GAN_loss/discrim/loss: 0.64594\n",
      "\u001b[32m[0922 10:43:15 @monitor.py:467]\u001b[0m GAN_loss/gen/final-g-loss: 1.2678\n",
      "\u001b[32m[0922 10:43:15 @monitor.py:467]\u001b[0m GAN_loss/gen/klloss: 0.19621\n",
      "\u001b[32m[0922 10:43:15 @monitor.py:467]\u001b[0m GAN_loss/gen/loss: 1.0716\n",
      "\u001b[32m[0922 10:43:15 @monitor.py:467]\u001b[0m QueueInput/queue_size: 50\n",
      "\u001b[32m[0922 10:43:15 @base.py:275]\u001b[0m Start Epoch 435 ...\n"
     ]
    },
    {
     "name": "stderr",
     "output_type": "stream",
     "text": [
      "100%|#################################################################################|2000/2000[01:11<00:00,27.85it/s]"
     ]
    },
    {
     "name": "stdout",
     "output_type": "stream",
     "text": [
      "\u001b[32m[0922 10:44:27 @base.py:285]\u001b[0m Epoch 435 (global_step 870000) finished, time:1 minute 11 seconds.\n",
      "\u001b[32m[0922 10:44:27 @saver.py:79]\u001b[0m Model saved to ../output/LPMC/DATGAN/model\\model-870000.\n",
      "\u001b[32m[0922 10:44:27 @monitor.py:467]\u001b[0m GAN_loss/discrim/accuracy_fake: 0.905\n",
      "\u001b[32m[0922 10:44:27 @monitor.py:467]\u001b[0m GAN_loss/discrim/accuracy_real: 0.16\n",
      "\u001b[32m[0922 10:44:27 @monitor.py:467]\u001b[0m GAN_loss/discrim/loss: 0.63723\n",
      "\u001b[32m[0922 10:44:27 @monitor.py:467]\u001b[0m GAN_loss/gen/final-g-loss: 1.3872\n",
      "\u001b[32m[0922 10:44:27 @monitor.py:467]\u001b[0m GAN_loss/gen/klloss: 0.3166\n",
      "\u001b[32m[0922 10:44:27 @monitor.py:467]\u001b[0m GAN_loss/gen/loss: 1.0706\n",
      "\u001b[32m[0922 10:44:27 @monitor.py:467]\u001b[0m QueueInput/queue_size: 50\n",
      "\u001b[32m[0922 10:44:27 @base.py:275]\u001b[0m Start Epoch 436 ...\n"
     ]
    },
    {
     "name": "stderr",
     "output_type": "stream",
     "text": [
      "\n",
      "100%|#################################################################################|2000/2000[01:11<00:00,28.15it/s]"
     ]
    },
    {
     "name": "stdout",
     "output_type": "stream",
     "text": [
      "\u001b[32m[0922 10:45:38 @base.py:285]\u001b[0m Epoch 436 (global_step 872000) finished, time:1 minute 11 seconds.\n",
      "\u001b[32m[0922 10:45:39 @saver.py:79]\u001b[0m Model saved to ../output/LPMC/DATGAN/model\\model-872000.\n",
      "\u001b[32m[0922 10:45:39 @monitor.py:467]\u001b[0m GAN_loss/discrim/accuracy_fake: 0.9\n",
      "\u001b[32m[0922 10:45:39 @monitor.py:467]\u001b[0m GAN_loss/discrim/accuracy_real: 0.205\n",
      "\u001b[32m[0922 10:45:39 @monitor.py:467]\u001b[0m GAN_loss/discrim/loss: 0.63507\n",
      "\u001b[32m[0922 10:45:39 @monitor.py:467]\u001b[0m GAN_loss/gen/final-g-loss: 1.295\n",
      "\u001b[32m[0922 10:45:39 @monitor.py:467]\u001b[0m GAN_loss/gen/klloss: 0.20609\n",
      "\u001b[32m[0922 10:45:39 @monitor.py:467]\u001b[0m GAN_loss/gen/loss: 1.0889\n",
      "\u001b[32m[0922 10:45:39 @monitor.py:467]\u001b[0m QueueInput/queue_size: 50\n",
      "\u001b[32m[0922 10:45:39 @base.py:275]\u001b[0m Start Epoch 437 ...\n"
     ]
    },
    {
     "name": "stderr",
     "output_type": "stream",
     "text": [
      "\n",
      "100%|#################################################################################|2000/2000[01:11<00:00,27.94it/s]"
     ]
    },
    {
     "name": "stdout",
     "output_type": "stream",
     "text": [
      "\u001b[32m[0922 10:46:50 @base.py:285]\u001b[0m Epoch 437 (global_step 874000) finished, time:1 minute 11 seconds.\n"
     ]
    },
    {
     "name": "stderr",
     "output_type": "stream",
     "text": [
      "\n"
     ]
    },
    {
     "name": "stdout",
     "output_type": "stream",
     "text": [
      "\u001b[32m[0922 10:46:50 @saver.py:79]\u001b[0m Model saved to ../output/LPMC/DATGAN/model\\model-874000.\n",
      "\u001b[32m[0922 10:46:50 @monitor.py:467]\u001b[0m GAN_loss/discrim/accuracy_fake: 0.915\n",
      "\u001b[32m[0922 10:46:50 @monitor.py:467]\u001b[0m GAN_loss/discrim/accuracy_real: 0.175\n",
      "\u001b[32m[0922 10:46:50 @monitor.py:467]\u001b[0m GAN_loss/discrim/loss: 0.64121\n",
      "\u001b[32m[0922 10:46:50 @monitor.py:467]\u001b[0m GAN_loss/gen/final-g-loss: 1.4559\n",
      "\u001b[32m[0922 10:46:50 @monitor.py:467]\u001b[0m GAN_loss/gen/klloss: 0.37995\n",
      "\u001b[32m[0922 10:46:50 @monitor.py:467]\u001b[0m GAN_loss/gen/loss: 1.0759\n",
      "\u001b[32m[0922 10:46:50 @monitor.py:467]\u001b[0m QueueInput/queue_size: 50\n",
      "\u001b[32m[0922 10:46:50 @base.py:275]\u001b[0m Start Epoch 438 ...\n"
     ]
    },
    {
     "name": "stderr",
     "output_type": "stream",
     "text": [
      "100%|#################################################################################|2000/2000[01:11<00:00,28.16it/s]"
     ]
    },
    {
     "name": "stdout",
     "output_type": "stream",
     "text": [
      "\u001b[32m[0922 10:48:01 @base.py:285]\u001b[0m Epoch 438 (global_step 876000) finished, time:1 minute 11 seconds.\n",
      "\u001b[32m[0922 10:48:01 @saver.py:79]\u001b[0m Model saved to ../output/LPMC/DATGAN/model\\model-876000.\n"
     ]
    },
    {
     "name": "stderr",
     "output_type": "stream",
     "text": [
      "\n"
     ]
    },
    {
     "name": "stdout",
     "output_type": "stream",
     "text": [
      "\u001b[32m[0922 10:48:02 @monitor.py:467]\u001b[0m GAN_loss/discrim/accuracy_fake: 0.855\n",
      "\u001b[32m[0922 10:48:02 @monitor.py:467]\u001b[0m GAN_loss/discrim/accuracy_real: 0.185\n",
      "\u001b[32m[0922 10:48:02 @monitor.py:467]\u001b[0m GAN_loss/discrim/loss: 0.64617\n",
      "\u001b[32m[0922 10:48:02 @monitor.py:467]\u001b[0m GAN_loss/gen/final-g-loss: 1.3758\n",
      "\u001b[32m[0922 10:48:02 @monitor.py:467]\u001b[0m GAN_loss/gen/klloss: 0.3045\n",
      "\u001b[32m[0922 10:48:02 @monitor.py:467]\u001b[0m GAN_loss/gen/loss: 1.0713\n",
      "\u001b[32m[0922 10:48:02 @monitor.py:467]\u001b[0m QueueInput/queue_size: 50\n",
      "\u001b[32m[0922 10:48:02 @base.py:275]\u001b[0m Start Epoch 439 ...\n"
     ]
    },
    {
     "name": "stderr",
     "output_type": "stream",
     "text": [
      "100%|#################################################################################|2000/2000[01:11<00:00,27.79it/s]"
     ]
    },
    {
     "name": "stdout",
     "output_type": "stream",
     "text": [
      "\u001b[32m[0922 10:49:14 @base.py:285]\u001b[0m Epoch 439 (global_step 878000) finished, time:1 minute 11 seconds.\n",
      "\u001b[32m[0922 10:49:14 @saver.py:79]\u001b[0m Model saved to ../output/LPMC/DATGAN/model\\model-878000.\n"
     ]
    },
    {
     "name": "stderr",
     "output_type": "stream",
     "text": [
      "\n"
     ]
    },
    {
     "name": "stdout",
     "output_type": "stream",
     "text": [
      "\u001b[32m[0922 10:49:14 @monitor.py:467]\u001b[0m GAN_loss/discrim/accuracy_fake: 0.935\n",
      "\u001b[32m[0922 10:49:14 @monitor.py:467]\u001b[0m GAN_loss/discrim/accuracy_real: 0.21\n",
      "\u001b[32m[0922 10:49:14 @monitor.py:467]\u001b[0m GAN_loss/discrim/loss: 0.62908\n",
      "\u001b[32m[0922 10:49:14 @monitor.py:467]\u001b[0m GAN_loss/gen/final-g-loss: 1.3492\n",
      "\u001b[32m[0922 10:49:14 @monitor.py:467]\u001b[0m GAN_loss/gen/klloss: 0.2699\n",
      "\u001b[32m[0922 10:49:14 @monitor.py:467]\u001b[0m GAN_loss/gen/loss: 1.0793\n",
      "\u001b[32m[0922 10:49:14 @monitor.py:467]\u001b[0m QueueInput/queue_size: 50\n",
      "\u001b[32m[0922 10:49:14 @base.py:275]\u001b[0m Start Epoch 440 ...\n"
     ]
    },
    {
     "name": "stderr",
     "output_type": "stream",
     "text": [
      "100%|#################################################################################|2000/2000[01:11<00:00,27.91it/s]"
     ]
    },
    {
     "name": "stdout",
     "output_type": "stream",
     "text": [
      "\u001b[32m[0922 10:50:25 @base.py:285]\u001b[0m Epoch 440 (global_step 880000) finished, time:1 minute 11 seconds.\n"
     ]
    },
    {
     "name": "stderr",
     "output_type": "stream",
     "text": [
      "\n"
     ]
    },
    {
     "name": "stdout",
     "output_type": "stream",
     "text": [
      "\u001b[32m[0922 10:50:25 @saver.py:79]\u001b[0m Model saved to ../output/LPMC/DATGAN/model\\model-880000.\n",
      "\u001b[32m[0922 10:50:26 @monitor.py:467]\u001b[0m GAN_loss/discrim/accuracy_fake: 0.89\n",
      "\u001b[32m[0922 10:50:26 @monitor.py:467]\u001b[0m GAN_loss/discrim/accuracy_real: 0.175\n",
      "\u001b[32m[0922 10:50:26 @monitor.py:467]\u001b[0m GAN_loss/discrim/loss: 0.63943\n",
      "\u001b[32m[0922 10:50:26 @monitor.py:467]\u001b[0m GAN_loss/gen/final-g-loss: 1.3074\n",
      "\u001b[32m[0922 10:50:26 @monitor.py:467]\u001b[0m GAN_loss/gen/klloss: 0.25091\n",
      "\u001b[32m[0922 10:50:26 @monitor.py:467]\u001b[0m GAN_loss/gen/loss: 1.0565\n",
      "\u001b[32m[0922 10:50:26 @monitor.py:467]\u001b[0m QueueInput/queue_size: 50\n",
      "\u001b[32m[0922 10:50:26 @base.py:275]\u001b[0m Start Epoch 441 ...\n"
     ]
    },
    {
     "name": "stderr",
     "output_type": "stream",
     "text": [
      "100%|#################################################################################|2000/2000[01:10<00:00,28.29it/s]"
     ]
    },
    {
     "name": "stdout",
     "output_type": "stream",
     "text": [
      "\u001b[32m[0922 10:51:36 @base.py:285]\u001b[0m Epoch 441 (global_step 882000) finished, time:1 minute 10 seconds.\n",
      "\u001b[32m[0922 10:51:36 @saver.py:79]\u001b[0m Model saved to ../output/LPMC/DATGAN/model\\model-882000.\n",
      "\u001b[32m[0922 10:51:36 @monitor.py:467]\u001b[0m GAN_loss/discrim/accuracy_fake: 0.88\n"
     ]
    },
    {
     "name": "stderr",
     "output_type": "stream",
     "text": [
      "\n"
     ]
    },
    {
     "name": "stdout",
     "output_type": "stream",
     "text": [
      "\u001b[32m[0922 10:51:36 @monitor.py:467]\u001b[0m GAN_loss/discrim/accuracy_real: 0.195\n",
      "\u001b[32m[0922 10:51:36 @monitor.py:467]\u001b[0m GAN_loss/discrim/loss: 0.64847\n",
      "\u001b[32m[0922 10:51:36 @monitor.py:467]\u001b[0m GAN_loss/gen/final-g-loss: 1.2115\n",
      "\u001b[32m[0922 10:51:36 @monitor.py:467]\u001b[0m GAN_loss/gen/klloss: 0.13201\n",
      "\u001b[32m[0922 10:51:36 @monitor.py:467]\u001b[0m GAN_loss/gen/loss: 1.0794\n",
      "\u001b[32m[0922 10:51:36 @monitor.py:467]\u001b[0m QueueInput/queue_size: 50\n",
      "\u001b[32m[0922 10:51:36 @base.py:275]\u001b[0m Start Epoch 442 ...\n"
     ]
    },
    {
     "name": "stderr",
     "output_type": "stream",
     "text": [
      "100%|#################################################################################|2000/2000[01:11<00:00,28.14it/s]"
     ]
    },
    {
     "name": "stdout",
     "output_type": "stream",
     "text": [
      "\u001b[32m[0922 10:52:48 @base.py:285]\u001b[0m Epoch 442 (global_step 884000) finished, time:1 minute 11 seconds.\n",
      "\u001b[32m[0922 10:52:48 @saver.py:79]\u001b[0m Model saved to ../output/LPMC/DATGAN/model\\model-884000.\n"
     ]
    },
    {
     "name": "stderr",
     "output_type": "stream",
     "text": [
      "\n"
     ]
    },
    {
     "name": "stdout",
     "output_type": "stream",
     "text": [
      "\u001b[32m[0922 10:52:48 @monitor.py:467]\u001b[0m GAN_loss/discrim/accuracy_fake: 0.895\n",
      "\u001b[32m[0922 10:52:48 @monitor.py:467]\u001b[0m GAN_loss/discrim/accuracy_real: 0.25\n",
      "\u001b[32m[0922 10:52:48 @monitor.py:467]\u001b[0m GAN_loss/discrim/loss: 0.64231\n",
      "\u001b[32m[0922 10:52:48 @monitor.py:467]\u001b[0m GAN_loss/gen/final-g-loss: 1.214\n",
      "\u001b[32m[0922 10:52:48 @monitor.py:467]\u001b[0m GAN_loss/gen/klloss: 0.17127\n",
      "\u001b[32m[0922 10:52:48 @monitor.py:467]\u001b[0m GAN_loss/gen/loss: 1.0428\n",
      "\u001b[32m[0922 10:52:48 @monitor.py:467]\u001b[0m QueueInput/queue_size: 50\n",
      "\u001b[32m[0922 10:52:48 @base.py:275]\u001b[0m Start Epoch 443 ...\n"
     ]
    },
    {
     "name": "stderr",
     "output_type": "stream",
     "text": [
      "100%|#################################################################################|2000/2000[01:10<00:00,28.32it/s]"
     ]
    },
    {
     "name": "stdout",
     "output_type": "stream",
     "text": [
      "\u001b[32m[0922 10:53:58 @base.py:285]\u001b[0m Epoch 443 (global_step 886000) finished, time:1 minute 10 seconds.\n",
      "\u001b[32m[0922 10:53:58 @saver.py:79]\u001b[0m Model saved to ../output/LPMC/DATGAN/model\\model-886000.\n",
      "\u001b[32m[0922 10:53:58 @monitor.py:467]\u001b[0m GAN_loss/discrim/accuracy_fake: 0.905\n",
      "\u001b[32m[0922 10:53:58 @monitor.py:467]\u001b[0m GAN_loss/discrim/accuracy_real: 0.21\n",
      "\u001b[32m[0922 10:53:58 @monitor.py:467]\u001b[0m GAN_loss/discrim/loss: 0.63904\n",
      "\u001b[32m[0922 10:53:58 @monitor.py:467]\u001b[0m GAN_loss/gen/final-g-loss: 1.2631\n",
      "\u001b[32m[0922 10:53:58 @monitor.py:467]\u001b[0m GAN_loss/gen/klloss: 0.19311\n",
      "\u001b[32m[0922 10:53:58 @monitor.py:467]\u001b[0m GAN_loss/gen/loss: 1.07\n",
      "\u001b[32m[0922 10:53:58 @monitor.py:467]\u001b[0m QueueInput/queue_size: 50\n",
      "\u001b[32m[0922 10:53:58 @base.py:275]\u001b[0m Start Epoch 444 ...\n"
     ]
    },
    {
     "name": "stderr",
     "output_type": "stream",
     "text": [
      "\n",
      "100%|#################################################################################|2000/2000[01:10<00:00,28.27it/s]"
     ]
    },
    {
     "name": "stdout",
     "output_type": "stream",
     "text": [
      "\u001b[32m[0922 10:55:09 @base.py:285]\u001b[0m Epoch 444 (global_step 888000) finished, time:1 minute 10 seconds.\n"
     ]
    },
    {
     "name": "stderr",
     "output_type": "stream",
     "text": [
      "\n"
     ]
    },
    {
     "name": "stdout",
     "output_type": "stream",
     "text": [
      "\u001b[32m[0922 10:55:09 @saver.py:79]\u001b[0m Model saved to ../output/LPMC/DATGAN/model\\model-888000.\n",
      "\u001b[32m[0922 10:55:09 @monitor.py:467]\u001b[0m GAN_loss/discrim/accuracy_fake: 0.895\n",
      "\u001b[32m[0922 10:55:09 @monitor.py:467]\u001b[0m GAN_loss/discrim/accuracy_real: 0.165\n",
      "\u001b[32m[0922 10:55:09 @monitor.py:467]\u001b[0m GAN_loss/discrim/loss: 0.65441\n",
      "\u001b[32m[0922 10:55:09 @monitor.py:467]\u001b[0m GAN_loss/gen/final-g-loss: 1.26\n",
      "\u001b[32m[0922 10:55:09 @monitor.py:467]\u001b[0m GAN_loss/gen/klloss: 0.20546\n",
      "\u001b[32m[0922 10:55:09 @monitor.py:467]\u001b[0m GAN_loss/gen/loss: 1.0545\n",
      "\u001b[32m[0922 10:55:09 @monitor.py:467]\u001b[0m QueueInput/queue_size: 50\n",
      "\u001b[32m[0922 10:55:09 @base.py:275]\u001b[0m Start Epoch 445 ...\n"
     ]
    },
    {
     "name": "stderr",
     "output_type": "stream",
     "text": [
      "100%|#################################################################################|2000/2000[01:10<00:00,28.21it/s]"
     ]
    },
    {
     "name": "stdout",
     "output_type": "stream",
     "text": [
      "\u001b[32m[0922 10:56:20 @base.py:285]\u001b[0m Epoch 445 (global_step 890000) finished, time:1 minute 10 seconds.\n",
      "\u001b[32m[0922 10:56:20 @saver.py:79]\u001b[0m Model saved to ../output/LPMC/DATGAN/model\\model-890000.\n",
      "\u001b[32m[0922 10:56:20 @monitor.py:467]\u001b[0m GAN_loss/discrim/accuracy_fake: 0.93\n",
      "\u001b[32m[0922 10:56:20 @monitor.py:467]\u001b[0m GAN_loss/discrim/accuracy_real: 0.175\n",
      "\u001b[32m[0922 10:56:20 @monitor.py:467]\u001b[0m GAN_loss/discrim/loss: 0.64285\n",
      "\u001b[32m[0922 10:56:20 @monitor.py:467]\u001b[0m GAN_loss/gen/final-g-loss: 1.3\n",
      "\u001b[32m[0922 10:56:20 @monitor.py:467]\u001b[0m GAN_loss/gen/klloss: 0.21032\n",
      "\u001b[32m[0922 10:56:20 @monitor.py:467]\u001b[0m GAN_loss/gen/loss: 1.0897\n",
      "\u001b[32m[0922 10:56:20 @monitor.py:467]\u001b[0m QueueInput/queue_size: 50\n",
      "\u001b[32m[0922 10:56:20 @base.py:275]\u001b[0m Start Epoch 446 ...\n"
     ]
    },
    {
     "name": "stderr",
     "output_type": "stream",
     "text": [
      "\n",
      "100%|#################################################################################|2000/2000[01:10<00:00,28.23it/s]"
     ]
    },
    {
     "name": "stdout",
     "output_type": "stream",
     "text": [
      "\u001b[32m[0922 10:57:31 @base.py:285]\u001b[0m Epoch 446 (global_step 892000) finished, time:1 minute 10 seconds.\n",
      "\u001b[32m[0922 10:57:31 @saver.py:79]\u001b[0m Model saved to ../output/LPMC/DATGAN/model\\model-892000.\n"
     ]
    },
    {
     "name": "stderr",
     "output_type": "stream",
     "text": [
      "\n"
     ]
    },
    {
     "name": "stdout",
     "output_type": "stream",
     "text": [
      "\u001b[32m[0922 10:57:32 @monitor.py:467]\u001b[0m GAN_loss/discrim/accuracy_fake: 0.9\n",
      "\u001b[32m[0922 10:57:32 @monitor.py:467]\u001b[0m GAN_loss/discrim/accuracy_real: 0.2\n",
      "\u001b[32m[0922 10:57:32 @monitor.py:467]\u001b[0m GAN_loss/discrim/loss: 0.64402\n",
      "\u001b[32m[0922 10:57:32 @monitor.py:467]\u001b[0m GAN_loss/gen/final-g-loss: 1.3214\n",
      "\u001b[32m[0922 10:57:32 @monitor.py:467]\u001b[0m GAN_loss/gen/klloss: 0.24743\n",
      "\u001b[32m[0922 10:57:32 @monitor.py:467]\u001b[0m GAN_loss/gen/loss: 1.074\n",
      "\u001b[32m[0922 10:57:32 @monitor.py:467]\u001b[0m QueueInput/queue_size: 50\n",
      "\u001b[32m[0922 10:57:32 @base.py:275]\u001b[0m Start Epoch 447 ...\n"
     ]
    },
    {
     "name": "stderr",
     "output_type": "stream",
     "text": [
      "100%|#################################################################################|2000/2000[01:10<00:00,28.26it/s]"
     ]
    },
    {
     "name": "stdout",
     "output_type": "stream",
     "text": [
      "\u001b[32m[0922 10:58:42 @base.py:285]\u001b[0m Epoch 447 (global_step 894000) finished, time:1 minute 10 seconds.\n",
      "\u001b[32m[0922 10:58:42 @saver.py:79]\u001b[0m Model saved to ../output/LPMC/DATGAN/model\\model-894000.\n",
      "\u001b[32m[0922 10:58:42 @monitor.py:467]\u001b[0m GAN_loss/discrim/accuracy_fake: 0.87\n",
      "\u001b[32m[0922 10:58:42 @monitor.py:467]\u001b[0m GAN_loss/discrim/accuracy_real: 0.195\n",
      "\u001b[32m[0922 10:58:42 @monitor.py:467]\u001b[0m GAN_loss/discrim/loss: 0.64944\n",
      "\u001b[32m[0922 10:58:42 @monitor.py:467]\u001b[0m GAN_loss/gen/final-g-loss: 1.3247\n",
      "\u001b[32m[0922 10:58:42 @monitor.py:467]\u001b[0m GAN_loss/gen/klloss: 0.25583\n",
      "\u001b[32m[0922 10:58:42 @monitor.py:467]\u001b[0m GAN_loss/gen/loss: 1.0689\n",
      "\u001b[32m[0922 10:58:42 @monitor.py:467]\u001b[0m QueueInput/queue_size: 50\n"
     ]
    },
    {
     "name": "stderr",
     "output_type": "stream",
     "text": [
      "\n"
     ]
    },
    {
     "name": "stdout",
     "output_type": "stream",
     "text": [
      "\u001b[32m[0922 10:58:42 @base.py:275]\u001b[0m Start Epoch 448 ...\n"
     ]
    },
    {
     "name": "stderr",
     "output_type": "stream",
     "text": [
      "100%|#################################################################################|2000/2000[01:10<00:00,28.21it/s]"
     ]
    },
    {
     "name": "stdout",
     "output_type": "stream",
     "text": [
      "\u001b[32m[0922 10:59:53 @base.py:285]\u001b[0m Epoch 448 (global_step 896000) finished, time:1 minute 10 seconds.\n",
      "\u001b[32m[0922 10:59:53 @saver.py:79]\u001b[0m Model saved to ../output/LPMC/DATGAN/model\\model-896000.\n",
      "\u001b[32m[0922 10:59:54 @monitor.py:467]\u001b[0m GAN_loss/discrim/accuracy_fake: 0.865\n"
     ]
    },
    {
     "name": "stderr",
     "output_type": "stream",
     "text": [
      "\n"
     ]
    },
    {
     "name": "stdout",
     "output_type": "stream",
     "text": [
      "\u001b[32m[0922 10:59:54 @monitor.py:467]\u001b[0m GAN_loss/discrim/accuracy_real: 0.22\n",
      "\u001b[32m[0922 10:59:54 @monitor.py:467]\u001b[0m GAN_loss/discrim/loss: 0.64219\n",
      "\u001b[32m[0922 10:59:54 @monitor.py:467]\u001b[0m GAN_loss/gen/final-g-loss: 1.2867\n",
      "\u001b[32m[0922 10:59:54 @monitor.py:467]\u001b[0m GAN_loss/gen/klloss: 0.2111\n",
      "\u001b[32m[0922 10:59:54 @monitor.py:467]\u001b[0m GAN_loss/gen/loss: 1.0756\n",
      "\u001b[32m[0922 10:59:54 @monitor.py:467]\u001b[0m QueueInput/queue_size: 50\n",
      "\u001b[32m[0922 10:59:54 @base.py:275]\u001b[0m Start Epoch 449 ...\n"
     ]
    },
    {
     "name": "stderr",
     "output_type": "stream",
     "text": [
      "100%|#################################################################################|2000/2000[01:10<00:00,28.35it/s]"
     ]
    },
    {
     "name": "stdout",
     "output_type": "stream",
     "text": [
      "\u001b[32m[0922 11:01:04 @base.py:285]\u001b[0m Epoch 449 (global_step 898000) finished, time:1 minute 10 seconds.\n",
      "\u001b[32m[0922 11:01:04 @saver.py:79]\u001b[0m Model saved to ../output/LPMC/DATGAN/model\\model-898000.\n",
      "\u001b[32m[0922 11:01:04 @monitor.py:467]\u001b[0m GAN_loss/discrim/accuracy_fake: 0.885\n",
      "\u001b[32m[0922 11:01:04 @monitor.py:467]\u001b[0m GAN_loss/discrim/accuracy_real: 0.15\n",
      "\u001b[32m[0922 11:01:04 @monitor.py:467]\u001b[0m GAN_loss/discrim/loss: 0.64878\n",
      "\u001b[32m[0922 11:01:04 @monitor.py:467]\u001b[0m GAN_loss/gen/final-g-loss: 1.3168\n",
      "\u001b[32m[0922 11:01:04 @monitor.py:467]\u001b[0m GAN_loss/gen/klloss: 0.24558\n",
      "\u001b[32m[0922 11:01:04 @monitor.py:467]\u001b[0m GAN_loss/gen/loss: 1.0713\n",
      "\u001b[32m[0922 11:01:04 @monitor.py:467]\u001b[0m QueueInput/queue_size: 50\n",
      "\u001b[32m[0922 11:01:04 @base.py:275]\u001b[0m Start Epoch 450 ...\n"
     ]
    },
    {
     "name": "stderr",
     "output_type": "stream",
     "text": [
      "\n",
      "100%|#################################################################################|2000/2000[01:10<00:00,28.19it/s]"
     ]
    },
    {
     "name": "stdout",
     "output_type": "stream",
     "text": [
      "\u001b[32m[0922 11:02:15 @base.py:285]\u001b[0m Epoch 450 (global_step 900000) finished, time:1 minute 10 seconds.\n",
      "\u001b[32m[0922 11:02:15 @saver.py:79]\u001b[0m Model saved to ../output/LPMC/DATGAN/model\\model-900000.\n"
     ]
    },
    {
     "name": "stderr",
     "output_type": "stream",
     "text": [
      "\n"
     ]
    },
    {
     "name": "stdout",
     "output_type": "stream",
     "text": [
      "\u001b[32m[0922 11:02:15 @monitor.py:467]\u001b[0m GAN_loss/discrim/accuracy_fake: 0.935\n",
      "\u001b[32m[0922 11:02:15 @monitor.py:467]\u001b[0m GAN_loss/discrim/accuracy_real: 0.165\n",
      "\u001b[32m[0922 11:02:15 @monitor.py:467]\u001b[0m GAN_loss/discrim/loss: 0.64227\n",
      "\u001b[32m[0922 11:02:15 @monitor.py:467]\u001b[0m GAN_loss/gen/final-g-loss: 1.2917\n",
      "\u001b[32m[0922 11:02:15 @monitor.py:467]\u001b[0m GAN_loss/gen/klloss: 0.19194\n",
      "\u001b[32m[0922 11:02:15 @monitor.py:467]\u001b[0m GAN_loss/gen/loss: 1.0998\n",
      "\u001b[32m[0922 11:02:15 @monitor.py:467]\u001b[0m QueueInput/queue_size: 50\n",
      "\u001b[32m[0922 11:02:15 @base.py:275]\u001b[0m Start Epoch 451 ...\n"
     ]
    },
    {
     "name": "stderr",
     "output_type": "stream",
     "text": [
      "100%|#################################################################################|2000/2000[01:10<00:00,28.33it/s]"
     ]
    },
    {
     "name": "stdout",
     "output_type": "stream",
     "text": [
      "\u001b[32m[0922 11:03:26 @base.py:285]\u001b[0m Epoch 451 (global_step 902000) finished, time:1 minute 10 seconds.\n",
      "\u001b[32m[0922 11:03:26 @saver.py:79]\u001b[0m Model saved to ../output/LPMC/DATGAN/model\\model-902000.\n",
      "\u001b[32m[0922 11:03:26 @monitor.py:467]\u001b[0m GAN_loss/discrim/accuracy_fake: 0.845\n",
      "\u001b[32m[0922 11:03:26 @monitor.py:467]\u001b[0m GAN_loss/discrim/accuracy_real: 0.24\n",
      "\u001b[32m[0922 11:03:26 @monitor.py:467]\u001b[0m GAN_loss/discrim/loss: 0.64617\n",
      "\u001b[32m[0922 11:03:26 @monitor.py:467]\u001b[0m GAN_loss/gen/final-g-loss: 1.2532\n",
      "\u001b[32m[0922 11:03:26 @monitor.py:467]\u001b[0m GAN_loss/gen/klloss: 0.20698\n",
      "\u001b[32m[0922 11:03:26 @monitor.py:467]\u001b[0m GAN_loss/gen/loss: 1.0462\n",
      "\u001b[32m[0922 11:03:26 @monitor.py:467]\u001b[0m QueueInput/queue_size: 50\n",
      "\u001b[32m[0922 11:03:26 @base.py:275]\u001b[0m Start Epoch 452 ...\n"
     ]
    },
    {
     "name": "stderr",
     "output_type": "stream",
     "text": [
      "\n",
      "100%|#################################################################################|2000/2000[01:11<00:00,28.03it/s]"
     ]
    },
    {
     "name": "stdout",
     "output_type": "stream",
     "text": [
      "\u001b[32m[0922 11:04:38 @base.py:285]\u001b[0m Epoch 452 (global_step 904000) finished, time:1 minute 11 seconds.\n",
      "\u001b[32m[0922 11:04:38 @saver.py:79]\u001b[0m Model saved to ../output/LPMC/DATGAN/model\\model-904000.\n"
     ]
    },
    {
     "name": "stderr",
     "output_type": "stream",
     "text": [
      "\n"
     ]
    },
    {
     "name": "stdout",
     "output_type": "stream",
     "text": [
      "\u001b[32m[0922 11:04:38 @monitor.py:467]\u001b[0m GAN_loss/discrim/accuracy_fake: 0.905\n",
      "\u001b[32m[0922 11:04:38 @monitor.py:467]\u001b[0m GAN_loss/discrim/accuracy_real: 0.25\n",
      "\u001b[32m[0922 11:04:38 @monitor.py:467]\u001b[0m GAN_loss/discrim/loss: 0.63842\n",
      "\u001b[32m[0922 11:04:38 @monitor.py:467]\u001b[0m GAN_loss/gen/final-g-loss: 1.2924\n",
      "\u001b[32m[0922 11:04:38 @monitor.py:467]\u001b[0m GAN_loss/gen/klloss: 0.20307\n",
      "\u001b[32m[0922 11:04:38 @monitor.py:467]\u001b[0m GAN_loss/gen/loss: 1.0894\n",
      "\u001b[32m[0922 11:04:38 @monitor.py:467]\u001b[0m QueueInput/queue_size: 50\n",
      "\u001b[32m[0922 11:04:38 @base.py:275]\u001b[0m Start Epoch 453 ...\n"
     ]
    },
    {
     "name": "stderr",
     "output_type": "stream",
     "text": [
      "100%|#################################################################################|2000/2000[01:10<00:00,28.20it/s]"
     ]
    },
    {
     "name": "stdout",
     "output_type": "stream",
     "text": [
      "\u001b[32m[0922 11:05:49 @base.py:285]\u001b[0m Epoch 453 (global_step 906000) finished, time:1 minute 10 seconds.\n",
      "\u001b[32m[0922 11:05:49 @saver.py:79]\u001b[0m Model saved to ../output/LPMC/DATGAN/model\\model-906000.\n",
      "\u001b[32m[0922 11:05:49 @monitor.py:467]\u001b[0m GAN_loss/discrim/accuracy_fake: 0.89\n",
      "\u001b[32m[0922 11:05:49 @monitor.py:467]\u001b[0m GAN_loss/discrim/accuracy_real: 0.215\n",
      "\u001b[32m[0922 11:05:49 @monitor.py:467]\u001b[0m GAN_loss/discrim/loss: 0.62928\n",
      "\u001b[32m[0922 11:05:49 @monitor.py:467]\u001b[0m GAN_loss/gen/final-g-loss: 1.3461\n",
      "\u001b[32m[0922 11:05:49 @monitor.py:467]\u001b[0m GAN_loss/gen/klloss: 0.25833\n",
      "\u001b[32m[0922 11:05:49 @monitor.py:467]\u001b[0m GAN_loss/gen/loss: 1.0878\n",
      "\u001b[32m[0922 11:05:49 @monitor.py:467]\u001b[0m QueueInput/queue_size: 50\n",
      "\u001b[32m[0922 11:05:49 @base.py:275]\u001b[0m Start Epoch 454 ...\n"
     ]
    },
    {
     "name": "stderr",
     "output_type": "stream",
     "text": [
      "\n",
      "100%|#################################################################################|2000/2000[01:11<00:00,28.16it/s]"
     ]
    },
    {
     "name": "stdout",
     "output_type": "stream",
     "text": [
      "\u001b[32m[0922 11:07:00 @base.py:285]\u001b[0m Epoch 454 (global_step 908000) finished, time:1 minute 11 seconds.\n",
      "\u001b[32m[0922 11:07:00 @saver.py:79]\u001b[0m Model saved to ../output/LPMC/DATGAN/model\\model-908000.\n",
      "\u001b[32m[0922 11:07:00 @monitor.py:467]\u001b[0m GAN_loss/discrim/accuracy_fake: 0.905\n",
      "\u001b[32m[0922 11:07:00 @monitor.py:467]\u001b[0m GAN_loss/discrim/accuracy_real: 0.23\n"
     ]
    },
    {
     "name": "stderr",
     "output_type": "stream",
     "text": [
      "\n"
     ]
    },
    {
     "name": "stdout",
     "output_type": "stream",
     "text": [
      "\u001b[32m[0922 11:07:00 @monitor.py:467]\u001b[0m GAN_loss/discrim/loss: 0.63606\n",
      "\u001b[32m[0922 11:07:00 @monitor.py:467]\u001b[0m GAN_loss/gen/final-g-loss: 1.3404\n",
      "\u001b[32m[0922 11:07:00 @monitor.py:467]\u001b[0m GAN_loss/gen/klloss: 0.27283\n",
      "\u001b[32m[0922 11:07:00 @monitor.py:467]\u001b[0m GAN_loss/gen/loss: 1.0676\n",
      "\u001b[32m[0922 11:07:00 @monitor.py:467]\u001b[0m QueueInput/queue_size: 50\n",
      "\u001b[32m[0922 11:07:00 @base.py:275]\u001b[0m Start Epoch 455 ...\n"
     ]
    },
    {
     "name": "stderr",
     "output_type": "stream",
     "text": [
      "100%|#################################################################################|2000/2000[01:10<00:00,28.17it/s]"
     ]
    },
    {
     "name": "stdout",
     "output_type": "stream",
     "text": [
      "\u001b[32m[0922 11:08:11 @base.py:285]\u001b[0m Epoch 455 (global_step 910000) finished, time:1 minute 10 seconds.\n",
      "\u001b[32m[0922 11:08:11 @saver.py:79]\u001b[0m Model saved to ../output/LPMC/DATGAN/model\\model-910000.\n",
      "\u001b[32m[0922 11:08:11 @monitor.py:467]\u001b[0m GAN_loss/discrim/accuracy_fake: 0.925\n",
      "\u001b[32m[0922 11:08:11 @monitor.py:467]\u001b[0m GAN_loss/discrim/accuracy_real: 0.175\n",
      "\u001b[32m[0922 11:08:11 @monitor.py:467]\u001b[0m GAN_loss/discrim/loss: 0.64267\n",
      "\u001b[32m[0922 11:08:11 @monitor.py:467]\u001b[0m GAN_loss/gen/final-g-loss: 1.3151\n",
      "\u001b[32m[0922 11:08:11 @monitor.py:467]\u001b[0m GAN_loss/gen/klloss: 0.22029\n",
      "\u001b[32m[0922 11:08:11 @monitor.py:467]\u001b[0m GAN_loss/gen/loss: 1.0948\n",
      "\u001b[32m[0922 11:08:11 @monitor.py:467]\u001b[0m QueueInput/queue_size: 50\n",
      "\u001b[32m[0922 11:08:11 @base.py:275]\u001b[0m Start Epoch 456 ...\n"
     ]
    },
    {
     "name": "stderr",
     "output_type": "stream",
     "text": [
      "\n",
      "100%|#################################################################################|2000/2000[01:10<00:00,28.30it/s]"
     ]
    },
    {
     "name": "stdout",
     "output_type": "stream",
     "text": [
      "\u001b[32m[0922 11:09:22 @base.py:285]\u001b[0m Epoch 456 (global_step 912000) finished, time:1 minute 10 seconds.\n"
     ]
    },
    {
     "name": "stderr",
     "output_type": "stream",
     "text": [
      "\n"
     ]
    },
    {
     "name": "stdout",
     "output_type": "stream",
     "text": [
      "\u001b[32m[0922 11:09:22 @saver.py:79]\u001b[0m Model saved to ../output/LPMC/DATGAN/model\\model-912000.\n",
      "\u001b[32m[0922 11:09:22 @monitor.py:467]\u001b[0m GAN_loss/discrim/accuracy_fake: 0.89\n",
      "\u001b[32m[0922 11:09:22 @monitor.py:467]\u001b[0m GAN_loss/discrim/accuracy_real: 0.17\n",
      "\u001b[32m[0922 11:09:22 @monitor.py:467]\u001b[0m GAN_loss/discrim/loss: 0.63993\n",
      "\u001b[32m[0922 11:09:22 @monitor.py:467]\u001b[0m GAN_loss/gen/final-g-loss: 1.239\n",
      "\u001b[32m[0922 11:09:22 @monitor.py:467]\u001b[0m GAN_loss/gen/klloss: 0.17691\n",
      "\u001b[32m[0922 11:09:22 @monitor.py:467]\u001b[0m GAN_loss/gen/loss: 1.0621\n",
      "\u001b[32m[0922 11:09:22 @monitor.py:467]\u001b[0m QueueInput/queue_size: 50\n",
      "\u001b[32m[0922 11:09:22 @base.py:275]\u001b[0m Start Epoch 457 ...\n"
     ]
    },
    {
     "name": "stderr",
     "output_type": "stream",
     "text": [
      "100%|#################################################################################|2000/2000[01:10<00:00,28.23it/s]"
     ]
    },
    {
     "name": "stdout",
     "output_type": "stream",
     "text": [
      "\u001b[32m[0922 11:10:33 @base.py:285]\u001b[0m Epoch 457 (global_step 914000) finished, time:1 minute 10 seconds.\n"
     ]
    },
    {
     "name": "stderr",
     "output_type": "stream",
     "text": [
      "\n"
     ]
    },
    {
     "name": "stdout",
     "output_type": "stream",
     "text": [
      "\u001b[32m[0922 11:10:33 @saver.py:79]\u001b[0m Model saved to ../output/LPMC/DATGAN/model\\model-914000.\n",
      "\u001b[32m[0922 11:10:33 @monitor.py:467]\u001b[0m GAN_loss/discrim/accuracy_fake: 0.865\n",
      "\u001b[32m[0922 11:10:33 @monitor.py:467]\u001b[0m GAN_loss/discrim/accuracy_real: 0.195\n",
      "\u001b[32m[0922 11:10:33 @monitor.py:467]\u001b[0m GAN_loss/discrim/loss: 0.64547\n",
      "\u001b[32m[0922 11:10:33 @monitor.py:467]\u001b[0m GAN_loss/gen/final-g-loss: 1.2856\n",
      "\u001b[32m[0922 11:10:33 @monitor.py:467]\u001b[0m GAN_loss/gen/klloss: 0.22385\n",
      "\u001b[32m[0922 11:10:33 @monitor.py:467]\u001b[0m GAN_loss/gen/loss: 1.0617\n",
      "\u001b[32m[0922 11:10:33 @monitor.py:467]\u001b[0m QueueInput/queue_size: 50\n",
      "\u001b[32m[0922 11:10:33 @base.py:275]\u001b[0m Start Epoch 458 ...\n"
     ]
    },
    {
     "name": "stderr",
     "output_type": "stream",
     "text": [
      "100%|#################################################################################|2000/2000[01:10<00:00,28.42it/s]"
     ]
    },
    {
     "name": "stdout",
     "output_type": "stream",
     "text": [
      "\u001b[32m[0922 11:11:43 @base.py:285]\u001b[0m Epoch 458 (global_step 916000) finished, time:1 minute 10 seconds.\n",
      "\u001b[32m[0922 11:11:44 @saver.py:79]\u001b[0m Model saved to ../output/LPMC/DATGAN/model\\model-916000.\n",
      "\u001b[32m[0922 11:11:44 @monitor.py:467]\u001b[0m GAN_loss/discrim/accuracy_fake: 0.86\n",
      "\u001b[32m[0922 11:11:44 @monitor.py:467]\u001b[0m GAN_loss/discrim/accuracy_real: 0.2\n"
     ]
    },
    {
     "name": "stderr",
     "output_type": "stream",
     "text": [
      "\n"
     ]
    },
    {
     "name": "stdout",
     "output_type": "stream",
     "text": [
      "\u001b[32m[0922 11:11:44 @monitor.py:467]\u001b[0m GAN_loss/discrim/loss: 0.65208\n",
      "\u001b[32m[0922 11:11:44 @monitor.py:467]\u001b[0m GAN_loss/gen/final-g-loss: 1.3646\n",
      "\u001b[32m[0922 11:11:44 @monitor.py:467]\u001b[0m GAN_loss/gen/klloss: 0.31923\n",
      "\u001b[32m[0922 11:11:44 @monitor.py:467]\u001b[0m GAN_loss/gen/loss: 1.0453\n",
      "\u001b[32m[0922 11:11:44 @monitor.py:467]\u001b[0m QueueInput/queue_size: 50\n",
      "\u001b[32m[0922 11:11:44 @base.py:275]\u001b[0m Start Epoch 459 ...\n"
     ]
    },
    {
     "name": "stderr",
     "output_type": "stream",
     "text": [
      "100%|#################################################################################|2000/2000[01:10<00:00,28.24it/s]"
     ]
    },
    {
     "name": "stdout",
     "output_type": "stream",
     "text": [
      "\u001b[32m[0922 11:12:54 @base.py:285]\u001b[0m Epoch 459 (global_step 918000) finished, time:1 minute 10 seconds.\n",
      "\u001b[32m[0922 11:12:55 @saver.py:79]\u001b[0m Model saved to ../output/LPMC/DATGAN/model\\model-918000.\n",
      "\u001b[32m[0922 11:12:55 @monitor.py:467]\u001b[0m GAN_loss/discrim/accuracy_fake: 0.845\n",
      "\u001b[32m[0922 11:12:55 @monitor.py:467]\u001b[0m GAN_loss/discrim/accuracy_real: 0.15\n",
      "\u001b[32m[0922 11:12:55 @monitor.py:467]\u001b[0m GAN_loss/discrim/loss: 0.65233\n",
      "\u001b[32m[0922 11:12:55 @monitor.py:467]\u001b[0m GAN_loss/gen/final-g-loss: 1.228\n"
     ]
    },
    {
     "name": "stderr",
     "output_type": "stream",
     "text": [
      "\n"
     ]
    },
    {
     "name": "stdout",
     "output_type": "stream",
     "text": [
      "\u001b[32m[0922 11:12:55 @monitor.py:467]\u001b[0m GAN_loss/gen/klloss: 0.19148\n",
      "\u001b[32m[0922 11:12:55 @monitor.py:467]\u001b[0m GAN_loss/gen/loss: 1.0365\n",
      "\u001b[32m[0922 11:12:55 @monitor.py:467]\u001b[0m QueueInput/queue_size: 50\n",
      "\u001b[32m[0922 11:12:55 @base.py:275]\u001b[0m Start Epoch 460 ...\n"
     ]
    },
    {
     "name": "stderr",
     "output_type": "stream",
     "text": [
      "100%|#################################################################################|2000/2000[01:10<00:00,28.32it/s]"
     ]
    },
    {
     "name": "stdout",
     "output_type": "stream",
     "text": [
      "\u001b[32m[0922 11:14:05 @base.py:285]\u001b[0m Epoch 460 (global_step 920000) finished, time:1 minute 10 seconds.\n",
      "\u001b[32m[0922 11:14:05 @saver.py:79]\u001b[0m Model saved to ../output/LPMC/DATGAN/model\\model-920000.\n",
      "\u001b[32m[0922 11:14:05 @monitor.py:467]\u001b[0m GAN_loss/discrim/accuracy_fake: 0.88\n",
      "\u001b[32m[0922 11:14:05 @monitor.py:467]\u001b[0m GAN_loss/discrim/accuracy_real: 0.17\n",
      "\u001b[32m[0922 11:14:05 @monitor.py:467]\u001b[0m GAN_loss/discrim/loss: 0.65207\n",
      "\u001b[32m[0922 11:14:05 @monitor.py:467]\u001b[0m GAN_loss/gen/final-g-loss: 1.3606\n",
      "\u001b[32m[0922 11:14:05 @monitor.py:467]\u001b[0m GAN_loss/gen/klloss: 0.29548\n",
      "\u001b[32m[0922 11:14:05 @monitor.py:467]\u001b[0m GAN_loss/gen/loss: 1.0652\n",
      "\u001b[32m[0922 11:14:05 @monitor.py:467]\u001b[0m QueueInput/queue_size: 50\n",
      "\u001b[32m[0922 11:14:05 @base.py:275]\u001b[0m Start Epoch 461 ...\n"
     ]
    },
    {
     "name": "stderr",
     "output_type": "stream",
     "text": [
      "\n",
      "100%|#################################################################################|2000/2000[01:10<00:00,28.22it/s]"
     ]
    },
    {
     "name": "stdout",
     "output_type": "stream",
     "text": [
      "\u001b[32m[0922 11:15:16 @base.py:285]\u001b[0m Epoch 461 (global_step 922000) finished, time:1 minute 10 seconds.\n",
      "\u001b[32m[0922 11:15:16 @saver.py:79]\u001b[0m Model saved to ../output/LPMC/DATGAN/model\\model-922000.\n"
     ]
    },
    {
     "name": "stderr",
     "output_type": "stream",
     "text": [
      "\n"
     ]
    },
    {
     "name": "stdout",
     "output_type": "stream",
     "text": [
      "\u001b[32m[0922 11:15:17 @monitor.py:467]\u001b[0m GAN_loss/discrim/accuracy_fake: 0.855\n",
      "\u001b[32m[0922 11:15:17 @monitor.py:467]\u001b[0m GAN_loss/discrim/accuracy_real: 0.19\n",
      "\u001b[32m[0922 11:15:17 @monitor.py:467]\u001b[0m GAN_loss/discrim/loss: 0.64788\n",
      "\u001b[32m[0922 11:15:17 @monitor.py:467]\u001b[0m GAN_loss/gen/final-g-loss: 1.2332\n",
      "\u001b[32m[0922 11:15:17 @monitor.py:467]\u001b[0m GAN_loss/gen/klloss: 0.18727\n",
      "\u001b[32m[0922 11:15:17 @monitor.py:467]\u001b[0m GAN_loss/gen/loss: 1.0459\n",
      "\u001b[32m[0922 11:15:17 @monitor.py:467]\u001b[0m QueueInput/queue_size: 50\n",
      "\u001b[32m[0922 11:15:17 @base.py:275]\u001b[0m Start Epoch 462 ...\n"
     ]
    },
    {
     "name": "stderr",
     "output_type": "stream",
     "text": [
      "100%|#################################################################################|2000/2000[01:11<00:00,28.05it/s]"
     ]
    },
    {
     "name": "stdout",
     "output_type": "stream",
     "text": [
      "\u001b[32m[0922 11:16:28 @base.py:285]\u001b[0m Epoch 462 (global_step 924000) finished, time:1 minute 11 seconds.\n"
     ]
    },
    {
     "name": "stderr",
     "output_type": "stream",
     "text": [
      "\n"
     ]
    },
    {
     "name": "stdout",
     "output_type": "stream",
     "text": [
      "\u001b[32m[0922 11:16:28 @saver.py:79]\u001b[0m Model saved to ../output/LPMC/DATGAN/model\\model-924000.\n",
      "\u001b[32m[0922 11:16:28 @monitor.py:467]\u001b[0m GAN_loss/discrim/accuracy_fake: 0.875\n",
      "\u001b[32m[0922 11:16:28 @monitor.py:467]\u001b[0m GAN_loss/discrim/accuracy_real: 0.21\n",
      "\u001b[32m[0922 11:16:28 @monitor.py:467]\u001b[0m GAN_loss/discrim/loss: 0.64102\n",
      "\u001b[32m[0922 11:16:28 @monitor.py:467]\u001b[0m GAN_loss/gen/final-g-loss: 1.3512\n",
      "\u001b[32m[0922 11:16:28 @monitor.py:467]\u001b[0m GAN_loss/gen/klloss: 0.27916\n",
      "\u001b[32m[0922 11:16:28 @monitor.py:467]\u001b[0m GAN_loss/gen/loss: 1.072\n",
      "\u001b[32m[0922 11:16:28 @monitor.py:467]\u001b[0m QueueInput/queue_size: 50\n",
      "\u001b[32m[0922 11:16:28 @base.py:275]\u001b[0m Start Epoch 463 ...\n"
     ]
    },
    {
     "name": "stderr",
     "output_type": "stream",
     "text": [
      "100%|#################################################################################|2000/2000[01:11<00:00,28.00it/s]"
     ]
    },
    {
     "name": "stdout",
     "output_type": "stream",
     "text": [
      "\u001b[32m[0922 11:17:39 @base.py:285]\u001b[0m Epoch 463 (global_step 926000) finished, time:1 minute 11 seconds.\n",
      "\u001b[32m[0922 11:17:40 @saver.py:79]\u001b[0m Model saved to ../output/LPMC/DATGAN/model\\model-926000.\n"
     ]
    },
    {
     "name": "stderr",
     "output_type": "stream",
     "text": [
      "\n"
     ]
    },
    {
     "name": "stdout",
     "output_type": "stream",
     "text": [
      "\u001b[32m[0922 11:17:40 @monitor.py:467]\u001b[0m GAN_loss/discrim/accuracy_fake: 0.87\n",
      "\u001b[32m[0922 11:17:40 @monitor.py:467]\u001b[0m GAN_loss/discrim/accuracy_real: 0.215\n",
      "\u001b[32m[0922 11:17:40 @monitor.py:467]\u001b[0m GAN_loss/discrim/loss: 0.65228\n",
      "\u001b[32m[0922 11:17:40 @monitor.py:467]\u001b[0m GAN_loss/gen/final-g-loss: 1.3484\n",
      "\u001b[32m[0922 11:17:40 @monitor.py:467]\u001b[0m GAN_loss/gen/klloss: 0.29589\n",
      "\u001b[32m[0922 11:17:40 @monitor.py:467]\u001b[0m GAN_loss/gen/loss: 1.0525\n",
      "\u001b[32m[0922 11:17:40 @monitor.py:467]\u001b[0m QueueInput/queue_size: 50\n",
      "\u001b[32m[0922 11:17:40 @base.py:275]\u001b[0m Start Epoch 464 ...\n"
     ]
    },
    {
     "name": "stderr",
     "output_type": "stream",
     "text": [
      "100%|#################################################################################|2000/2000[01:11<00:00,28.09it/s]"
     ]
    },
    {
     "name": "stdout",
     "output_type": "stream",
     "text": [
      "\u001b[32m[0922 11:18:51 @base.py:285]\u001b[0m Epoch 464 (global_step 928000) finished, time:1 minute 11 seconds.\n",
      "\u001b[32m[0922 11:18:51 @saver.py:79]\u001b[0m Model saved to ../output/LPMC/DATGAN/model\\model-928000.\n"
     ]
    },
    {
     "name": "stderr",
     "output_type": "stream",
     "text": [
      "\n"
     ]
    },
    {
     "name": "stdout",
     "output_type": "stream",
     "text": [
      "\u001b[32m[0922 11:18:51 @monitor.py:467]\u001b[0m GAN_loss/discrim/accuracy_fake: 0.865\n",
      "\u001b[32m[0922 11:18:51 @monitor.py:467]\u001b[0m GAN_loss/discrim/accuracy_real: 0.2\n",
      "\u001b[32m[0922 11:18:51 @monitor.py:467]\u001b[0m GAN_loss/discrim/loss: 0.65719\n",
      "\u001b[32m[0922 11:18:51 @monitor.py:467]\u001b[0m GAN_loss/gen/final-g-loss: 1.2152\n",
      "\u001b[32m[0922 11:18:51 @monitor.py:467]\u001b[0m GAN_loss/gen/klloss: 0.16951\n",
      "\u001b[32m[0922 11:18:51 @monitor.py:467]\u001b[0m GAN_loss/gen/loss: 1.0457\n",
      "\u001b[32m[0922 11:18:51 @monitor.py:467]\u001b[0m QueueInput/queue_size: 50\n",
      "\u001b[32m[0922 11:18:51 @base.py:275]\u001b[0m Start Epoch 465 ...\n"
     ]
    },
    {
     "name": "stderr",
     "output_type": "stream",
     "text": [
      "100%|#################################################################################|2000/2000[01:11<00:00,28.11it/s]"
     ]
    },
    {
     "name": "stdout",
     "output_type": "stream",
     "text": [
      "\u001b[32m[0922 11:20:02 @base.py:285]\u001b[0m Epoch 465 (global_step 930000) finished, time:1 minute 11 seconds.\n",
      "\u001b[32m[0922 11:20:02 @saver.py:79]\u001b[0m Model saved to ../output/LPMC/DATGAN/model\\model-930000.\n"
     ]
    },
    {
     "name": "stderr",
     "output_type": "stream",
     "text": [
      "\n"
     ]
    },
    {
     "name": "stdout",
     "output_type": "stream",
     "text": [
      "\u001b[32m[0922 11:20:02 @monitor.py:467]\u001b[0m GAN_loss/discrim/accuracy_fake: 0.905\n",
      "\u001b[32m[0922 11:20:02 @monitor.py:467]\u001b[0m GAN_loss/discrim/accuracy_real: 0.19\n",
      "\u001b[32m[0922 11:20:02 @monitor.py:467]\u001b[0m GAN_loss/discrim/loss: 0.64382\n",
      "\u001b[32m[0922 11:20:02 @monitor.py:467]\u001b[0m GAN_loss/gen/final-g-loss: 1.2394\n",
      "\u001b[32m[0922 11:20:02 @monitor.py:467]\u001b[0m GAN_loss/gen/klloss: 0.18204\n",
      "\u001b[32m[0922 11:20:02 @monitor.py:467]\u001b[0m GAN_loss/gen/loss: 1.0573\n",
      "\u001b[32m[0922 11:20:02 @monitor.py:467]\u001b[0m QueueInput/queue_size: 50\n",
      "\u001b[32m[0922 11:20:02 @base.py:275]\u001b[0m Start Epoch 466 ...\n"
     ]
    },
    {
     "name": "stderr",
     "output_type": "stream",
     "text": [
      "100%|#################################################################################|2000/2000[01:10<00:00,28.32it/s]"
     ]
    },
    {
     "name": "stdout",
     "output_type": "stream",
     "text": [
      "\u001b[32m[0922 11:21:13 @base.py:285]\u001b[0m Epoch 466 (global_step 932000) finished, time:1 minute 10 seconds.\n",
      "\u001b[32m[0922 11:21:13 @saver.py:79]\u001b[0m Model saved to ../output/LPMC/DATGAN/model\\model-932000.\n"
     ]
    },
    {
     "name": "stderr",
     "output_type": "stream",
     "text": [
      "\n"
     ]
    },
    {
     "name": "stdout",
     "output_type": "stream",
     "text": [
      "\u001b[32m[0922 11:21:13 @monitor.py:467]\u001b[0m GAN_loss/discrim/accuracy_fake: 0.915\n",
      "\u001b[32m[0922 11:21:13 @monitor.py:467]\u001b[0m GAN_loss/discrim/accuracy_real: 0.155\n",
      "\u001b[32m[0922 11:21:13 @monitor.py:467]\u001b[0m GAN_loss/discrim/loss: 0.65524\n",
      "\u001b[32m[0922 11:21:13 @monitor.py:467]\u001b[0m GAN_loss/gen/final-g-loss: 1.3375\n",
      "\u001b[32m[0922 11:21:13 @monitor.py:467]\u001b[0m GAN_loss/gen/klloss: 0.27661\n",
      "\u001b[32m[0922 11:21:13 @monitor.py:467]\u001b[0m GAN_loss/gen/loss: 1.0609\n",
      "\u001b[32m[0922 11:21:13 @monitor.py:467]\u001b[0m QueueInput/queue_size: 50\n",
      "\u001b[32m[0922 11:21:13 @base.py:275]\u001b[0m Start Epoch 467 ...\n"
     ]
    },
    {
     "name": "stderr",
     "output_type": "stream",
     "text": [
      "100%|#################################################################################|2000/2000[01:11<00:00,28.14it/s]"
     ]
    },
    {
     "name": "stdout",
     "output_type": "stream",
     "text": [
      "\u001b[32m[0922 11:22:24 @base.py:285]\u001b[0m Epoch 467 (global_step 934000) finished, time:1 minute 11 seconds.\n",
      "\u001b[32m[0922 11:22:24 @saver.py:79]\u001b[0m Model saved to ../output/LPMC/DATGAN/model\\model-934000.\n"
     ]
    },
    {
     "name": "stderr",
     "output_type": "stream",
     "text": [
      "\n"
     ]
    },
    {
     "name": "stdout",
     "output_type": "stream",
     "text": [
      "\u001b[32m[0922 11:22:24 @monitor.py:467]\u001b[0m GAN_loss/discrim/accuracy_fake: 0.835\n",
      "\u001b[32m[0922 11:22:24 @monitor.py:467]\u001b[0m GAN_loss/discrim/accuracy_real: 0.13\n",
      "\u001b[32m[0922 11:22:24 @monitor.py:467]\u001b[0m GAN_loss/discrim/loss: 0.66258\n",
      "\u001b[32m[0922 11:22:24 @monitor.py:467]\u001b[0m GAN_loss/gen/final-g-loss: 1.4445\n",
      "\u001b[32m[0922 11:22:24 @monitor.py:467]\u001b[0m GAN_loss/gen/klloss: 0.4092\n",
      "\u001b[32m[0922 11:22:24 @monitor.py:467]\u001b[0m GAN_loss/gen/loss: 1.0353\n",
      "\u001b[32m[0922 11:22:24 @monitor.py:467]\u001b[0m QueueInput/queue_size: 50\n",
      "\u001b[32m[0922 11:22:24 @base.py:275]\u001b[0m Start Epoch 468 ...\n"
     ]
    },
    {
     "name": "stderr",
     "output_type": "stream",
     "text": [
      "100%|#################################################################################|2000/2000[01:14<00:00,26.97it/s]"
     ]
    },
    {
     "name": "stdout",
     "output_type": "stream",
     "text": [
      "\u001b[32m[0922 11:23:39 @base.py:285]\u001b[0m Epoch 468 (global_step 936000) finished, time:1 minute 14 seconds.\n",
      "\u001b[32m[0922 11:23:39 @saver.py:79]\u001b[0m Model saved to ../output/LPMC/DATGAN/model\\model-936000.\n"
     ]
    },
    {
     "name": "stderr",
     "output_type": "stream",
     "text": [
      "\n"
     ]
    },
    {
     "name": "stdout",
     "output_type": "stream",
     "text": [
      "\u001b[32m[0922 11:23:39 @monitor.py:467]\u001b[0m GAN_loss/discrim/accuracy_fake: 0.87\n",
      "\u001b[32m[0922 11:23:39 @monitor.py:467]\u001b[0m GAN_loss/discrim/accuracy_real: 0.175\n",
      "\u001b[32m[0922 11:23:39 @monitor.py:467]\u001b[0m GAN_loss/discrim/loss: 0.63464\n",
      "\u001b[32m[0922 11:23:39 @monitor.py:467]\u001b[0m GAN_loss/gen/final-g-loss: 1.3234\n",
      "\u001b[32m[0922 11:23:39 @monitor.py:467]\u001b[0m GAN_loss/gen/klloss: 0.23587\n",
      "\u001b[32m[0922 11:23:39 @monitor.py:467]\u001b[0m GAN_loss/gen/loss: 1.0875\n",
      "\u001b[32m[0922 11:23:39 @monitor.py:467]\u001b[0m QueueInput/queue_size: 50\n",
      "\u001b[32m[0922 11:23:39 @base.py:275]\u001b[0m Start Epoch 469 ...\n"
     ]
    },
    {
     "name": "stderr",
     "output_type": "stream",
     "text": [
      "100%|#################################################################################|2000/2000[01:11<00:00,27.84it/s]"
     ]
    },
    {
     "name": "stdout",
     "output_type": "stream",
     "text": [
      "\u001b[32m[0922 11:24:51 @base.py:285]\u001b[0m Epoch 469 (global_step 938000) finished, time:1 minute 11 seconds.\n",
      "\u001b[32m[0922 11:24:51 @saver.py:79]\u001b[0m Model saved to ../output/LPMC/DATGAN/model\\model-938000.\n"
     ]
    },
    {
     "name": "stderr",
     "output_type": "stream",
     "text": [
      "\n"
     ]
    },
    {
     "name": "stdout",
     "output_type": "stream",
     "text": [
      "\u001b[32m[0922 11:24:51 @monitor.py:467]\u001b[0m GAN_loss/discrim/accuracy_fake: 0.86\n",
      "\u001b[32m[0922 11:24:51 @monitor.py:467]\u001b[0m GAN_loss/discrim/accuracy_real: 0.175\n",
      "\u001b[32m[0922 11:24:51 @monitor.py:467]\u001b[0m GAN_loss/discrim/loss: 0.65374\n",
      "\u001b[32m[0922 11:24:51 @monitor.py:467]\u001b[0m GAN_loss/gen/final-g-loss: 1.3595\n",
      "\u001b[32m[0922 11:24:51 @monitor.py:467]\u001b[0m GAN_loss/gen/klloss: 0.30934\n",
      "\u001b[32m[0922 11:24:51 @monitor.py:467]\u001b[0m GAN_loss/gen/loss: 1.0501\n",
      "\u001b[32m[0922 11:24:51 @monitor.py:467]\u001b[0m QueueInput/queue_size: 50\n",
      "\u001b[32m[0922 11:24:51 @base.py:275]\u001b[0m Start Epoch 470 ...\n"
     ]
    },
    {
     "name": "stderr",
     "output_type": "stream",
     "text": [
      "100%|#################################################################################|2000/2000[01:11<00:00,28.11it/s]"
     ]
    },
    {
     "name": "stdout",
     "output_type": "stream",
     "text": [
      "\u001b[32m[0922 11:26:02 @base.py:285]\u001b[0m Epoch 470 (global_step 940000) finished, time:1 minute 11 seconds.\n",
      "\u001b[32m[0922 11:26:02 @saver.py:79]\u001b[0m Model saved to ../output/LPMC/DATGAN/model\\model-940000.\n"
     ]
    },
    {
     "name": "stderr",
     "output_type": "stream",
     "text": [
      "\n"
     ]
    },
    {
     "name": "stdout",
     "output_type": "stream",
     "text": [
      "\u001b[32m[0922 11:26:02 @monitor.py:467]\u001b[0m GAN_loss/discrim/accuracy_fake: 0.92\n",
      "\u001b[32m[0922 11:26:02 @monitor.py:467]\u001b[0m GAN_loss/discrim/accuracy_real: 0.235\n",
      "\u001b[32m[0922 11:26:02 @monitor.py:467]\u001b[0m GAN_loss/discrim/loss: 0.6432\n",
      "\u001b[32m[0922 11:26:02 @monitor.py:467]\u001b[0m GAN_loss/gen/final-g-loss: 1.464\n",
      "\u001b[32m[0922 11:26:02 @monitor.py:467]\u001b[0m GAN_loss/gen/klloss: 0.40487\n",
      "\u001b[32m[0922 11:26:02 @monitor.py:467]\u001b[0m GAN_loss/gen/loss: 1.0591\n",
      "\u001b[32m[0922 11:26:02 @monitor.py:467]\u001b[0m QueueInput/queue_size: 50\n",
      "\u001b[32m[0922 11:26:02 @base.py:275]\u001b[0m Start Epoch 471 ...\n"
     ]
    },
    {
     "name": "stderr",
     "output_type": "stream",
     "text": [
      "100%|#################################################################################|2000/2000[01:11<00:00,28.15it/s]"
     ]
    },
    {
     "name": "stdout",
     "output_type": "stream",
     "text": [
      "\u001b[32m[0922 11:27:13 @base.py:285]\u001b[0m Epoch 471 (global_step 942000) finished, time:1 minute 11 seconds.\n",
      "\u001b[32m[0922 11:27:13 @saver.py:79]\u001b[0m Model saved to ../output/LPMC/DATGAN/model\\model-942000.\n",
      "\u001b[32m[0922 11:27:13 @monitor.py:467]\u001b[0m GAN_loss/discrim/accuracy_fake: 0.91\n"
     ]
    },
    {
     "name": "stderr",
     "output_type": "stream",
     "text": [
      "\n"
     ]
    },
    {
     "name": "stdout",
     "output_type": "stream",
     "text": [
      "\u001b[32m[0922 11:27:13 @monitor.py:467]\u001b[0m GAN_loss/discrim/accuracy_real: 0.18\n",
      "\u001b[32m[0922 11:27:13 @monitor.py:467]\u001b[0m GAN_loss/discrim/loss: 0.64544\n",
      "\u001b[32m[0922 11:27:13 @monitor.py:467]\u001b[0m GAN_loss/gen/final-g-loss: 1.2988\n",
      "\u001b[32m[0922 11:27:13 @monitor.py:467]\u001b[0m GAN_loss/gen/klloss: 0.22802\n",
      "\u001b[32m[0922 11:27:13 @monitor.py:467]\u001b[0m GAN_loss/gen/loss: 1.0708\n",
      "\u001b[32m[0922 11:27:13 @monitor.py:467]\u001b[0m QueueInput/queue_size: 50\n",
      "\u001b[32m[0922 11:27:13 @base.py:275]\u001b[0m Start Epoch 472 ...\n"
     ]
    },
    {
     "name": "stderr",
     "output_type": "stream",
     "text": [
      "100%|#################################################################################|2000/2000[01:11<00:00,28.06it/s]"
     ]
    },
    {
     "name": "stdout",
     "output_type": "stream",
     "text": [
      "\u001b[32m[0922 11:28:25 @base.py:285]\u001b[0m Epoch 472 (global_step 944000) finished, time:1 minute 11 seconds.\n"
     ]
    },
    {
     "name": "stderr",
     "output_type": "stream",
     "text": [
      "\n"
     ]
    },
    {
     "name": "stdout",
     "output_type": "stream",
     "text": [
      "\u001b[32m[0922 11:28:25 @saver.py:79]\u001b[0m Model saved to ../output/LPMC/DATGAN/model\\model-944000.\n",
      "\u001b[32m[0922 11:28:25 @monitor.py:467]\u001b[0m GAN_loss/discrim/accuracy_fake: 0.905\n",
      "\u001b[32m[0922 11:28:25 @monitor.py:467]\u001b[0m GAN_loss/discrim/accuracy_real: 0.22\n",
      "\u001b[32m[0922 11:28:25 @monitor.py:467]\u001b[0m GAN_loss/discrim/loss: 0.64929\n",
      "\u001b[32m[0922 11:28:25 @monitor.py:467]\u001b[0m GAN_loss/gen/final-g-loss: 1.4186\n",
      "\u001b[32m[0922 11:28:25 @monitor.py:467]\u001b[0m GAN_loss/gen/klloss: 0.37037\n",
      "\u001b[32m[0922 11:28:25 @monitor.py:467]\u001b[0m GAN_loss/gen/loss: 1.0482\n",
      "\u001b[32m[0922 11:28:25 @monitor.py:467]\u001b[0m QueueInput/queue_size: 50\n",
      "\u001b[32m[0922 11:28:25 @base.py:275]\u001b[0m Start Epoch 473 ...\n"
     ]
    },
    {
     "name": "stderr",
     "output_type": "stream",
     "text": [
      "100%|#################################################################################|2000/2000[01:10<00:00,28.19it/s]"
     ]
    },
    {
     "name": "stdout",
     "output_type": "stream",
     "text": [
      "\u001b[32m[0922 11:29:36 @base.py:285]\u001b[0m Epoch 473 (global_step 946000) finished, time:1 minute 10 seconds.\n",
      "\u001b[32m[0922 11:29:36 @saver.py:79]\u001b[0m Model saved to ../output/LPMC/DATGAN/model\\model-946000.\n",
      "\u001b[32m[0922 11:29:36 @monitor.py:467]\u001b[0m GAN_loss/discrim/accuracy_fake: 0.905\n",
      "\u001b[32m[0922 11:29:36 @monitor.py:467]\u001b[0m GAN_loss/discrim/accuracy_real: 0.155\n",
      "\u001b[32m[0922 11:29:36 @monitor.py:467]\u001b[0m GAN_loss/discrim/loss: 0.63955\n",
      "\u001b[32m[0922 11:29:36 @monitor.py:467]\u001b[0m GAN_loss/gen/final-g-loss: 1.3595\n",
      "\u001b[32m[0922 11:29:36 @monitor.py:467]\u001b[0m GAN_loss/gen/klloss: 0.26625\n",
      "\u001b[32m[0922 11:29:36 @monitor.py:467]\u001b[0m GAN_loss/gen/loss: 1.0932\n",
      "\u001b[32m[0922 11:29:36 @monitor.py:467]\u001b[0m QueueInput/queue_size: 50\n",
      "\u001b[32m[0922 11:29:36 @base.py:275]\u001b[0m Start Epoch 474 ...\n"
     ]
    },
    {
     "name": "stderr",
     "output_type": "stream",
     "text": [
      "\n",
      "100%|#################################################################################|2000/2000[01:10<00:00,28.29it/s]"
     ]
    },
    {
     "name": "stdout",
     "output_type": "stream",
     "text": [
      "\u001b[32m[0922 11:30:47 @base.py:285]\u001b[0m Epoch 474 (global_step 948000) finished, time:1 minute 10 seconds.\n",
      "\u001b[32m[0922 11:30:47 @saver.py:79]\u001b[0m Model saved to ../output/LPMC/DATGAN/model\\model-948000.\n",
      "\u001b[32m[0922 11:30:47 @monitor.py:467]\u001b[0m GAN_loss/discrim/accuracy_fake: 0.88\n"
     ]
    },
    {
     "name": "stderr",
     "output_type": "stream",
     "text": [
      "\n"
     ]
    },
    {
     "name": "stdout",
     "output_type": "stream",
     "text": [
      "\u001b[32m[0922 11:30:47 @monitor.py:467]\u001b[0m GAN_loss/discrim/accuracy_real: 0.21\n",
      "\u001b[32m[0922 11:30:47 @monitor.py:467]\u001b[0m GAN_loss/discrim/loss: 0.6391\n",
      "\u001b[32m[0922 11:30:47 @monitor.py:467]\u001b[0m GAN_loss/gen/final-g-loss: 1.2357\n",
      "\u001b[32m[0922 11:30:47 @monitor.py:467]\u001b[0m GAN_loss/gen/klloss: 0.18152\n",
      "\u001b[32m[0922 11:30:47 @monitor.py:467]\u001b[0m GAN_loss/gen/loss: 1.0542\n",
      "\u001b[32m[0922 11:30:47 @monitor.py:467]\u001b[0m QueueInput/queue_size: 50\n",
      "\u001b[32m[0922 11:30:47 @base.py:275]\u001b[0m Start Epoch 475 ...\n"
     ]
    },
    {
     "name": "stderr",
     "output_type": "stream",
     "text": [
      "100%|#################################################################################|2000/2000[01:11<00:00,28.14it/s]"
     ]
    },
    {
     "name": "stdout",
     "output_type": "stream",
     "text": [
      "\u001b[32m[0922 11:31:58 @base.py:285]\u001b[0m Epoch 475 (global_step 950000) finished, time:1 minute 11 seconds.\n",
      "\u001b[32m[0922 11:31:58 @saver.py:79]\u001b[0m Model saved to ../output/LPMC/DATGAN/model\\model-950000.\n",
      "\u001b[32m[0922 11:31:58 @monitor.py:467]\u001b[0m GAN_loss/discrim/accuracy_fake: 0.89\n"
     ]
    },
    {
     "name": "stderr",
     "output_type": "stream",
     "text": [
      "\n"
     ]
    },
    {
     "name": "stdout",
     "output_type": "stream",
     "text": [
      "\u001b[32m[0922 11:31:58 @monitor.py:467]\u001b[0m GAN_loss/discrim/accuracy_real: 0.205\n",
      "\u001b[32m[0922 11:31:58 @monitor.py:467]\u001b[0m GAN_loss/discrim/loss: 0.63814\n",
      "\u001b[32m[0922 11:31:58 @monitor.py:467]\u001b[0m GAN_loss/gen/final-g-loss: 1.4192\n",
      "\u001b[32m[0922 11:31:58 @monitor.py:467]\u001b[0m GAN_loss/gen/klloss: 0.35706\n",
      "\u001b[32m[0922 11:31:58 @monitor.py:467]\u001b[0m GAN_loss/gen/loss: 1.0622\n",
      "\u001b[32m[0922 11:31:58 @monitor.py:467]\u001b[0m QueueInput/queue_size: 50\n",
      "\u001b[32m[0922 11:31:58 @base.py:275]\u001b[0m Start Epoch 476 ...\n"
     ]
    },
    {
     "name": "stderr",
     "output_type": "stream",
     "text": [
      "100%|#################################################################################|2000/2000[01:11<00:00,28.16it/s]"
     ]
    },
    {
     "name": "stdout",
     "output_type": "stream",
     "text": [
      "\u001b[32m[0922 11:33:09 @base.py:285]\u001b[0m Epoch 476 (global_step 952000) finished, time:1 minute 11 seconds.\n",
      "\u001b[32m[0922 11:33:09 @saver.py:79]\u001b[0m Model saved to ../output/LPMC/DATGAN/model\\model-952000.\n",
      "\u001b[32m[0922 11:33:09 @monitor.py:467]\u001b[0m GAN_loss/discrim/accuracy_fake: 0.905\n"
     ]
    },
    {
     "name": "stderr",
     "output_type": "stream",
     "text": [
      "\n"
     ]
    },
    {
     "name": "stdout",
     "output_type": "stream",
     "text": [
      "\u001b[32m[0922 11:33:09 @monitor.py:467]\u001b[0m GAN_loss/discrim/accuracy_real: 0.15\n",
      "\u001b[32m[0922 11:33:09 @monitor.py:467]\u001b[0m GAN_loss/discrim/loss: 0.64549\n",
      "\u001b[32m[0922 11:33:09 @monitor.py:467]\u001b[0m GAN_loss/gen/final-g-loss: 1.2826\n",
      "\u001b[32m[0922 11:33:09 @monitor.py:467]\u001b[0m GAN_loss/gen/klloss: 0.19305\n",
      "\u001b[32m[0922 11:33:09 @monitor.py:467]\u001b[0m GAN_loss/gen/loss: 1.0896\n",
      "\u001b[32m[0922 11:33:09 @monitor.py:467]\u001b[0m QueueInput/queue_size: 50\n",
      "\u001b[32m[0922 11:33:09 @base.py:275]\u001b[0m Start Epoch 477 ...\n"
     ]
    },
    {
     "name": "stderr",
     "output_type": "stream",
     "text": [
      "100%|#################################################################################|2000/2000[01:10<00:00,28.26it/s]"
     ]
    },
    {
     "name": "stdout",
     "output_type": "stream",
     "text": [
      "\u001b[32m[0922 11:34:20 @base.py:285]\u001b[0m Epoch 477 (global_step 954000) finished, time:1 minute 10 seconds.\n"
     ]
    },
    {
     "name": "stderr",
     "output_type": "stream",
     "text": [
      "\n"
     ]
    },
    {
     "name": "stdout",
     "output_type": "stream",
     "text": [
      "\u001b[32m[0922 11:34:20 @saver.py:79]\u001b[0m Model saved to ../output/LPMC/DATGAN/model\\model-954000.\n",
      "\u001b[32m[0922 11:34:20 @monitor.py:467]\u001b[0m GAN_loss/discrim/accuracy_fake: 0.875\n",
      "\u001b[32m[0922 11:34:20 @monitor.py:467]\u001b[0m GAN_loss/discrim/accuracy_real: 0.19\n",
      "\u001b[32m[0922 11:34:20 @monitor.py:467]\u001b[0m GAN_loss/discrim/loss: 0.64242\n",
      "\u001b[32m[0922 11:34:20 @monitor.py:467]\u001b[0m GAN_loss/gen/final-g-loss: 1.3507\n",
      "\u001b[32m[0922 11:34:20 @monitor.py:467]\u001b[0m GAN_loss/gen/klloss: 0.2731\n",
      "\u001b[32m[0922 11:34:20 @monitor.py:467]\u001b[0m GAN_loss/gen/loss: 1.0776\n",
      "\u001b[32m[0922 11:34:20 @monitor.py:467]\u001b[0m QueueInput/queue_size: 50\n",
      "\u001b[32m[0922 11:34:20 @base.py:275]\u001b[0m Start Epoch 478 ...\n"
     ]
    },
    {
     "name": "stderr",
     "output_type": "stream",
     "text": [
      "100%|#################################################################################|2000/2000[01:10<00:00,28.27it/s]"
     ]
    },
    {
     "name": "stdout",
     "output_type": "stream",
     "text": [
      "\u001b[32m[0922 11:35:31 @base.py:285]\u001b[0m Epoch 478 (global_step 956000) finished, time:1 minute 10 seconds.\n"
     ]
    },
    {
     "name": "stderr",
     "output_type": "stream",
     "text": [
      "\n"
     ]
    },
    {
     "name": "stdout",
     "output_type": "stream",
     "text": [
      "\u001b[32m[0922 11:35:31 @saver.py:79]\u001b[0m Model saved to ../output/LPMC/DATGAN/model\\model-956000.\n",
      "\u001b[32m[0922 11:35:31 @monitor.py:467]\u001b[0m GAN_loss/discrim/accuracy_fake: 0.875\n",
      "\u001b[32m[0922 11:35:31 @monitor.py:467]\u001b[0m GAN_loss/discrim/accuracy_real: 0.22\n",
      "\u001b[32m[0922 11:35:31 @monitor.py:467]\u001b[0m GAN_loss/discrim/loss: 0.64509\n",
      "\u001b[32m[0922 11:35:31 @monitor.py:467]\u001b[0m GAN_loss/gen/final-g-loss: 1.4086\n",
      "\u001b[32m[0922 11:35:31 @monitor.py:467]\u001b[0m GAN_loss/gen/klloss: 0.35422\n",
      "\u001b[32m[0922 11:35:31 @monitor.py:467]\u001b[0m GAN_loss/gen/loss: 1.0543\n",
      "\u001b[32m[0922 11:35:31 @monitor.py:467]\u001b[0m QueueInput/queue_size: 50\n",
      "\u001b[32m[0922 11:35:31 @base.py:275]\u001b[0m Start Epoch 479 ...\n"
     ]
    },
    {
     "name": "stderr",
     "output_type": "stream",
     "text": [
      "100%|#################################################################################|2000/2000[01:10<00:00,28.17it/s]"
     ]
    },
    {
     "name": "stdout",
     "output_type": "stream",
     "text": [
      "\u001b[32m[0922 11:36:42 @base.py:285]\u001b[0m Epoch 479 (global_step 958000) finished, time:1 minute 10 seconds.\n",
      "\u001b[32m[0922 11:36:42 @saver.py:79]\u001b[0m Model saved to ../output/LPMC/DATGAN/model\\model-958000.\n",
      "\u001b[32m[0922 11:36:42 @monitor.py:467]\u001b[0m GAN_loss/discrim/accuracy_fake: 0.875\n",
      "\u001b[32m[0922 11:36:42 @monitor.py:467]\u001b[0m GAN_loss/discrim/accuracy_real: 0.215\n",
      "\u001b[32m[0922 11:36:42 @monitor.py:467]\u001b[0m GAN_loss/discrim/loss: 0.6344\n",
      "\u001b[32m[0922 11:36:42 @monitor.py:467]\u001b[0m GAN_loss/gen/final-g-loss: 1.2939\n",
      "\u001b[32m[0922 11:36:42 @monitor.py:467]\u001b[0m GAN_loss/gen/klloss: 0.22535\n",
      "\u001b[32m[0922 11:36:42 @monitor.py:467]\u001b[0m GAN_loss/gen/loss: 1.0686\n",
      "\u001b[32m[0922 11:36:42 @monitor.py:467]\u001b[0m QueueInput/queue_size: 50\n",
      "\u001b[32m[0922 11:36:42 @base.py:275]\u001b[0m Start Epoch 480 ...\n"
     ]
    },
    {
     "name": "stderr",
     "output_type": "stream",
     "text": [
      "\n",
      "100%|#################################################################################|2000/2000[01:10<00:00,28.26it/s]"
     ]
    },
    {
     "name": "stdout",
     "output_type": "stream",
     "text": [
      "\u001b[32m[0922 11:37:53 @base.py:285]\u001b[0m Epoch 480 (global_step 960000) finished, time:1 minute 10 seconds.\n",
      "\u001b[32m[0922 11:37:53 @saver.py:79]\u001b[0m Model saved to ../output/LPMC/DATGAN/model\\model-960000.\n",
      "\u001b[32m[0922 11:37:53 @monitor.py:467]\u001b[0m GAN_loss/discrim/accuracy_fake: 0.87\n"
     ]
    },
    {
     "name": "stderr",
     "output_type": "stream",
     "text": [
      "\n"
     ]
    },
    {
     "name": "stdout",
     "output_type": "stream",
     "text": [
      "\u001b[32m[0922 11:37:53 @monitor.py:467]\u001b[0m GAN_loss/discrim/accuracy_real: 0.16\n",
      "\u001b[32m[0922 11:37:53 @monitor.py:467]\u001b[0m GAN_loss/discrim/loss: 0.65076\n",
      "\u001b[32m[0922 11:37:53 @monitor.py:467]\u001b[0m GAN_loss/gen/final-g-loss: 1.3589\n",
      "\u001b[32m[0922 11:37:53 @monitor.py:467]\u001b[0m GAN_loss/gen/klloss: 0.30024\n",
      "\u001b[32m[0922 11:37:53 @monitor.py:467]\u001b[0m GAN_loss/gen/loss: 1.0587\n",
      "\u001b[32m[0922 11:37:53 @monitor.py:467]\u001b[0m QueueInput/queue_size: 50\n",
      "\u001b[32m[0922 11:37:53 @base.py:275]\u001b[0m Start Epoch 481 ...\n"
     ]
    },
    {
     "name": "stderr",
     "output_type": "stream",
     "text": [
      "100%|#################################################################################|2000/2000[01:10<00:00,28.23it/s]"
     ]
    },
    {
     "name": "stdout",
     "output_type": "stream",
     "text": [
      "\u001b[32m[0922 11:39:04 @base.py:285]\u001b[0m Epoch 481 (global_step 962000) finished, time:1 minute 10 seconds.\n"
     ]
    },
    {
     "name": "stderr",
     "output_type": "stream",
     "text": [
      "\n"
     ]
    },
    {
     "name": "stdout",
     "output_type": "stream",
     "text": [
      "\u001b[32m[0922 11:39:04 @saver.py:79]\u001b[0m Model saved to ../output/LPMC/DATGAN/model\\model-962000.\n",
      "\u001b[32m[0922 11:39:04 @monitor.py:467]\u001b[0m GAN_loss/discrim/accuracy_fake: 0.895\n",
      "\u001b[32m[0922 11:39:04 @monitor.py:467]\u001b[0m GAN_loss/discrim/accuracy_real: 0.215\n",
      "\u001b[32m[0922 11:39:04 @monitor.py:467]\u001b[0m GAN_loss/discrim/loss: 0.63495\n",
      "\u001b[32m[0922 11:39:04 @monitor.py:467]\u001b[0m GAN_loss/gen/final-g-loss: 1.3514\n",
      "\u001b[32m[0922 11:39:04 @monitor.py:467]\u001b[0m GAN_loss/gen/klloss: 0.25107\n",
      "\u001b[32m[0922 11:39:04 @monitor.py:467]\u001b[0m GAN_loss/gen/loss: 1.1004\n",
      "\u001b[32m[0922 11:39:04 @monitor.py:467]\u001b[0m QueueInput/queue_size: 50\n",
      "\u001b[32m[0922 11:39:04 @base.py:275]\u001b[0m Start Epoch 482 ...\n"
     ]
    },
    {
     "name": "stderr",
     "output_type": "stream",
     "text": [
      "100%|#################################################################################|2000/2000[01:10<00:00,28.31it/s]"
     ]
    },
    {
     "name": "stdout",
     "output_type": "stream",
     "text": [
      "\u001b[32m[0922 11:40:15 @base.py:285]\u001b[0m Epoch 482 (global_step 964000) finished, time:1 minute 10 seconds.\n",
      "\u001b[32m[0922 11:40:15 @saver.py:79]\u001b[0m Model saved to ../output/LPMC/DATGAN/model\\model-964000.\n"
     ]
    },
    {
     "name": "stderr",
     "output_type": "stream",
     "text": [
      "\n"
     ]
    },
    {
     "name": "stdout",
     "output_type": "stream",
     "text": [
      "\u001b[32m[0922 11:40:15 @monitor.py:467]\u001b[0m GAN_loss/discrim/accuracy_fake: 0.855\n",
      "\u001b[32m[0922 11:40:15 @monitor.py:467]\u001b[0m GAN_loss/discrim/accuracy_real: 0.215\n",
      "\u001b[32m[0922 11:40:15 @monitor.py:467]\u001b[0m GAN_loss/discrim/loss: 0.64136\n",
      "\u001b[32m[0922 11:40:15 @monitor.py:467]\u001b[0m GAN_loss/gen/final-g-loss: 1.2644\n",
      "\u001b[32m[0922 11:40:15 @monitor.py:467]\u001b[0m GAN_loss/gen/klloss: 0.19983\n",
      "\u001b[32m[0922 11:40:15 @monitor.py:467]\u001b[0m GAN_loss/gen/loss: 1.0646\n",
      "\u001b[32m[0922 11:40:15 @monitor.py:467]\u001b[0m QueueInput/queue_size: 50\n",
      "\u001b[32m[0922 11:40:15 @base.py:275]\u001b[0m Start Epoch 483 ...\n"
     ]
    },
    {
     "name": "stderr",
     "output_type": "stream",
     "text": [
      "100%|#################################################################################|2000/2000[01:10<00:00,28.29it/s]"
     ]
    },
    {
     "name": "stdout",
     "output_type": "stream",
     "text": [
      "\u001b[32m[0922 11:41:26 @base.py:285]\u001b[0m Epoch 483 (global_step 966000) finished, time:1 minute 10 seconds.\n"
     ]
    },
    {
     "name": "stderr",
     "output_type": "stream",
     "text": [
      "\n"
     ]
    },
    {
     "name": "stdout",
     "output_type": "stream",
     "text": [
      "\u001b[32m[0922 11:41:26 @saver.py:79]\u001b[0m Model saved to ../output/LPMC/DATGAN/model\\model-966000.\n",
      "\u001b[32m[0922 11:41:26 @monitor.py:467]\u001b[0m GAN_loss/discrim/accuracy_fake: 0.85\n",
      "\u001b[32m[0922 11:41:26 @monitor.py:467]\u001b[0m GAN_loss/discrim/accuracy_real: 0.26\n",
      "\u001b[32m[0922 11:41:26 @monitor.py:467]\u001b[0m GAN_loss/discrim/loss: 0.6391\n",
      "\u001b[32m[0922 11:41:26 @monitor.py:467]\u001b[0m GAN_loss/gen/final-g-loss: 1.2702\n",
      "\u001b[32m[0922 11:41:26 @monitor.py:467]\u001b[0m GAN_loss/gen/klloss: 0.17886\n",
      "\u001b[32m[0922 11:41:26 @monitor.py:467]\u001b[0m GAN_loss/gen/loss: 1.0914\n",
      "\u001b[32m[0922 11:41:26 @monitor.py:467]\u001b[0m QueueInput/queue_size: 50\n",
      "\u001b[32m[0922 11:41:26 @base.py:275]\u001b[0m Start Epoch 484 ...\n"
     ]
    },
    {
     "name": "stderr",
     "output_type": "stream",
     "text": [
      "100%|#################################################################################|2000/2000[01:10<00:00,28.26it/s]"
     ]
    },
    {
     "name": "stdout",
     "output_type": "stream",
     "text": [
      "\u001b[32m[0922 11:42:37 @base.py:285]\u001b[0m Epoch 484 (global_step 968000) finished, time:1 minute 10 seconds.\n",
      "\u001b[32m[0922 11:42:37 @saver.py:79]\u001b[0m Model saved to ../output/LPMC/DATGAN/model\\model-968000.\n",
      "\u001b[32m[0922 11:42:37 @monitor.py:467]\u001b[0m GAN_loss/discrim/accuracy_fake: 0.875\n"
     ]
    },
    {
     "name": "stderr",
     "output_type": "stream",
     "text": [
      "\n"
     ]
    },
    {
     "name": "stdout",
     "output_type": "stream",
     "text": [
      "\u001b[32m[0922 11:42:37 @monitor.py:467]\u001b[0m GAN_loss/discrim/accuracy_real: 0.17\n",
      "\u001b[32m[0922 11:42:37 @monitor.py:467]\u001b[0m GAN_loss/discrim/loss: 0.63928\n",
      "\u001b[32m[0922 11:42:37 @monitor.py:467]\u001b[0m GAN_loss/gen/final-g-loss: 1.2732\n",
      "\u001b[32m[0922 11:42:37 @monitor.py:467]\u001b[0m GAN_loss/gen/klloss: 0.20283\n",
      "\u001b[32m[0922 11:42:37 @monitor.py:467]\u001b[0m GAN_loss/gen/loss: 1.0704\n",
      "\u001b[32m[0922 11:42:37 @monitor.py:467]\u001b[0m QueueInput/queue_size: 50\n",
      "\u001b[32m[0922 11:42:37 @base.py:275]\u001b[0m Start Epoch 485 ...\n"
     ]
    },
    {
     "name": "stderr",
     "output_type": "stream",
     "text": [
      "100%|#################################################################################|2000/2000[01:10<00:00,28.18it/s]"
     ]
    },
    {
     "name": "stdout",
     "output_type": "stream",
     "text": [
      "\u001b[32m[0922 11:43:48 @base.py:285]\u001b[0m Epoch 485 (global_step 970000) finished, time:1 minute 10 seconds.\n",
      "\u001b[32m[0922 11:43:48 @saver.py:79]\u001b[0m Model saved to ../output/LPMC/DATGAN/model\\model-970000.\n",
      "\u001b[32m[0922 11:43:48 @monitor.py:467]\u001b[0m GAN_loss/discrim/accuracy_fake: 0.865\n"
     ]
    },
    {
     "name": "stderr",
     "output_type": "stream",
     "text": [
      "\n"
     ]
    },
    {
     "name": "stdout",
     "output_type": "stream",
     "text": [
      "\u001b[32m[0922 11:43:48 @monitor.py:467]\u001b[0m GAN_loss/discrim/accuracy_real: 0.255\n",
      "\u001b[32m[0922 11:43:48 @monitor.py:467]\u001b[0m GAN_loss/discrim/loss: 0.64016\n",
      "\u001b[32m[0922 11:43:48 @monitor.py:467]\u001b[0m GAN_loss/gen/final-g-loss: 1.2715\n",
      "\u001b[32m[0922 11:43:48 @monitor.py:467]\u001b[0m GAN_loss/gen/klloss: 0.21687\n",
      "\u001b[32m[0922 11:43:48 @monitor.py:467]\u001b[0m GAN_loss/gen/loss: 1.0546\n",
      "\u001b[32m[0922 11:43:48 @monitor.py:467]\u001b[0m QueueInput/queue_size: 50\n",
      "\u001b[32m[0922 11:43:48 @base.py:275]\u001b[0m Start Epoch 486 ...\n"
     ]
    },
    {
     "name": "stderr",
     "output_type": "stream",
     "text": [
      "100%|#################################################################################|2000/2000[01:10<00:00,28.26it/s]"
     ]
    },
    {
     "name": "stdout",
     "output_type": "stream",
     "text": [
      "\u001b[32m[0922 11:44:59 @base.py:285]\u001b[0m Epoch 486 (global_step 972000) finished, time:1 minute 10 seconds.\n"
     ]
    },
    {
     "name": "stderr",
     "output_type": "stream",
     "text": [
      "\n"
     ]
    },
    {
     "name": "stdout",
     "output_type": "stream",
     "text": [
      "\u001b[32m[0922 11:44:59 @saver.py:79]\u001b[0m Model saved to ../output/LPMC/DATGAN/model\\model-972000.\n",
      "\u001b[32m[0922 11:44:59 @monitor.py:467]\u001b[0m GAN_loss/discrim/accuracy_fake: 0.895\n",
      "\u001b[32m[0922 11:44:59 @monitor.py:467]\u001b[0m GAN_loss/discrim/accuracy_real: 0.195\n",
      "\u001b[32m[0922 11:44:59 @monitor.py:467]\u001b[0m GAN_loss/discrim/loss: 0.6445\n",
      "\u001b[32m[0922 11:44:59 @monitor.py:467]\u001b[0m GAN_loss/gen/final-g-loss: 1.3146\n",
      "\u001b[32m[0922 11:44:59 @monitor.py:467]\u001b[0m GAN_loss/gen/klloss: 0.24797\n",
      "\u001b[32m[0922 11:44:59 @monitor.py:467]\u001b[0m GAN_loss/gen/loss: 1.0666\n",
      "\u001b[32m[0922 11:44:59 @monitor.py:467]\u001b[0m QueueInput/queue_size: 50\n",
      "\u001b[32m[0922 11:44:59 @base.py:275]\u001b[0m Start Epoch 487 ...\n"
     ]
    },
    {
     "name": "stderr",
     "output_type": "stream",
     "text": [
      "100%|#################################################################################|2000/2000[01:11<00:00,28.13it/s]"
     ]
    },
    {
     "name": "stdout",
     "output_type": "stream",
     "text": [
      "\u001b[32m[0922 11:46:10 @base.py:285]\u001b[0m Epoch 487 (global_step 974000) finished, time:1 minute 11 seconds.\n",
      "\u001b[32m[0922 11:46:10 @saver.py:79]\u001b[0m Model saved to ../output/LPMC/DATGAN/model\\model-974000.\n",
      "\u001b[32m[0922 11:46:10 @monitor.py:467]\u001b[0m GAN_loss/discrim/accuracy_fake: 0.88\n",
      "\u001b[32m[0922 11:46:10 @monitor.py:467]\u001b[0m GAN_loss/discrim/accuracy_real: 0.17\n",
      "\u001b[32m[0922 11:46:10 @monitor.py:467]\u001b[0m GAN_loss/discrim/loss: 0.65026\n",
      "\u001b[32m[0922 11:46:10 @monitor.py:467]\u001b[0m GAN_loss/gen/final-g-loss: 1.2245\n",
      "\u001b[32m[0922 11:46:10 @monitor.py:467]\u001b[0m GAN_loss/gen/klloss: 0.15563\n",
      "\u001b[32m[0922 11:46:10 @monitor.py:467]\u001b[0m GAN_loss/gen/loss: 1.0689\n",
      "\u001b[32m[0922 11:46:10 @monitor.py:467]\u001b[0m QueueInput/queue_size: 50\n",
      "\u001b[32m[0922 11:46:10 @base.py:275]\u001b[0m Start Epoch 488 ...\n"
     ]
    },
    {
     "name": "stderr",
     "output_type": "stream",
     "text": [
      "\n",
      "100%|#################################################################################|2000/2000[01:10<00:00,28.20it/s]"
     ]
    },
    {
     "name": "stdout",
     "output_type": "stream",
     "text": [
      "\u001b[32m[0922 11:47:21 @base.py:285]\u001b[0m Epoch 488 (global_step 976000) finished, time:1 minute 10 seconds.\n",
      "\u001b[32m[0922 11:47:21 @saver.py:79]\u001b[0m Model saved to ../output/LPMC/DATGAN/model\\model-976000.\n"
     ]
    },
    {
     "name": "stderr",
     "output_type": "stream",
     "text": [
      "\n"
     ]
    },
    {
     "name": "stdout",
     "output_type": "stream",
     "text": [
      "\u001b[32m[0922 11:47:22 @monitor.py:467]\u001b[0m GAN_loss/discrim/accuracy_fake: 0.91\n",
      "\u001b[32m[0922 11:47:22 @monitor.py:467]\u001b[0m GAN_loss/discrim/accuracy_real: 0.22\n",
      "\u001b[32m[0922 11:47:22 @monitor.py:467]\u001b[0m GAN_loss/discrim/loss: 0.62493\n",
      "\u001b[32m[0922 11:47:22 @monitor.py:467]\u001b[0m GAN_loss/gen/final-g-loss: 1.2652\n",
      "\u001b[32m[0922 11:47:22 @monitor.py:467]\u001b[0m GAN_loss/gen/klloss: 0.19264\n",
      "\u001b[32m[0922 11:47:22 @monitor.py:467]\u001b[0m GAN_loss/gen/loss: 1.0726\n",
      "\u001b[32m[0922 11:47:22 @monitor.py:467]\u001b[0m QueueInput/queue_size: 50\n",
      "\u001b[32m[0922 11:47:22 @base.py:275]\u001b[0m Start Epoch 489 ...\n"
     ]
    },
    {
     "name": "stderr",
     "output_type": "stream",
     "text": [
      "100%|#################################################################################|2000/2000[01:10<00:00,28.29it/s]"
     ]
    },
    {
     "name": "stdout",
     "output_type": "stream",
     "text": [
      "\u001b[32m[0922 11:48:32 @base.py:285]\u001b[0m Epoch 489 (global_step 978000) finished, time:1 minute 10 seconds.\n",
      "\u001b[32m[0922 11:48:32 @saver.py:79]\u001b[0m Model saved to ../output/LPMC/DATGAN/model\\model-978000.\n"
     ]
    },
    {
     "name": "stderr",
     "output_type": "stream",
     "text": [
      "\n"
     ]
    },
    {
     "name": "stdout",
     "output_type": "stream",
     "text": [
      "\u001b[32m[0922 11:48:32 @monitor.py:467]\u001b[0m GAN_loss/discrim/accuracy_fake: 0.84\n",
      "\u001b[32m[0922 11:48:32 @monitor.py:467]\u001b[0m GAN_loss/discrim/accuracy_real: 0.215\n",
      "\u001b[32m[0922 11:48:32 @monitor.py:467]\u001b[0m GAN_loss/discrim/loss: 0.63616\n",
      "\u001b[32m[0922 11:48:32 @monitor.py:467]\u001b[0m GAN_loss/gen/final-g-loss: 1.3423\n",
      "\u001b[32m[0922 11:48:32 @monitor.py:467]\u001b[0m GAN_loss/gen/klloss: 0.27356\n",
      "\u001b[32m[0922 11:48:32 @monitor.py:467]\u001b[0m GAN_loss/gen/loss: 1.0687\n",
      "\u001b[32m[0922 11:48:32 @monitor.py:467]\u001b[0m QueueInput/queue_size: 50\n",
      "\u001b[32m[0922 11:48:32 @base.py:275]\u001b[0m Start Epoch 490 ...\n"
     ]
    },
    {
     "name": "stderr",
     "output_type": "stream",
     "text": [
      "100%|#################################################################################|2000/2000[01:10<00:00,28.28it/s]"
     ]
    },
    {
     "name": "stdout",
     "output_type": "stream",
     "text": [
      "\u001b[32m[0922 11:49:43 @base.py:285]\u001b[0m Epoch 490 (global_step 980000) finished, time:1 minute 10 seconds.\n"
     ]
    },
    {
     "name": "stderr",
     "output_type": "stream",
     "text": [
      "\n"
     ]
    },
    {
     "name": "stdout",
     "output_type": "stream",
     "text": [
      "\u001b[32m[0922 11:49:43 @saver.py:79]\u001b[0m Model saved to ../output/LPMC/DATGAN/model\\model-980000.\n",
      "\u001b[32m[0922 11:49:43 @monitor.py:467]\u001b[0m GAN_loss/discrim/accuracy_fake: 0.89\n",
      "\u001b[32m[0922 11:49:43 @monitor.py:467]\u001b[0m GAN_loss/discrim/accuracy_real: 0.165\n",
      "\u001b[32m[0922 11:49:43 @monitor.py:467]\u001b[0m GAN_loss/discrim/loss: 0.64947\n",
      "\u001b[32m[0922 11:49:43 @monitor.py:467]\u001b[0m GAN_loss/gen/final-g-loss: 1.2913\n",
      "\u001b[32m[0922 11:49:43 @monitor.py:467]\u001b[0m GAN_loss/gen/klloss: 0.22168\n",
      "\u001b[32m[0922 11:49:43 @monitor.py:467]\u001b[0m GAN_loss/gen/loss: 1.0696\n",
      "\u001b[32m[0922 11:49:43 @monitor.py:467]\u001b[0m QueueInput/queue_size: 50\n",
      "\u001b[32m[0922 11:49:43 @base.py:275]\u001b[0m Start Epoch 491 ...\n"
     ]
    },
    {
     "name": "stderr",
     "output_type": "stream",
     "text": [
      "100%|#################################################################################|2000/2000[01:10<00:00,28.20it/s]"
     ]
    },
    {
     "name": "stdout",
     "output_type": "stream",
     "text": [
      "\u001b[32m[0922 11:50:54 @base.py:285]\u001b[0m Epoch 491 (global_step 982000) finished, time:1 minute 10 seconds.\n"
     ]
    },
    {
     "name": "stderr",
     "output_type": "stream",
     "text": [
      "\n"
     ]
    },
    {
     "name": "stdout",
     "output_type": "stream",
     "text": [
      "\u001b[32m[0922 11:50:54 @saver.py:79]\u001b[0m Model saved to ../output/LPMC/DATGAN/model\\model-982000.\n",
      "\u001b[32m[0922 11:50:54 @monitor.py:467]\u001b[0m GAN_loss/discrim/accuracy_fake: 0.9\n",
      "\u001b[32m[0922 11:50:54 @monitor.py:467]\u001b[0m GAN_loss/discrim/accuracy_real: 0.135\n",
      "\u001b[32m[0922 11:50:54 @monitor.py:467]\u001b[0m GAN_loss/discrim/loss: 0.6556\n",
      "\u001b[32m[0922 11:50:54 @monitor.py:467]\u001b[0m GAN_loss/gen/final-g-loss: 1.3012\n",
      "\u001b[32m[0922 11:50:54 @monitor.py:467]\u001b[0m GAN_loss/gen/klloss: 0.22969\n",
      "\u001b[32m[0922 11:50:54 @monitor.py:467]\u001b[0m GAN_loss/gen/loss: 1.0715\n",
      "\u001b[32m[0922 11:50:54 @monitor.py:467]\u001b[0m QueueInput/queue_size: 50\n",
      "\u001b[32m[0922 11:50:54 @base.py:275]\u001b[0m Start Epoch 492 ...\n"
     ]
    },
    {
     "name": "stderr",
     "output_type": "stream",
     "text": [
      "100%|#################################################################################|2000/2000[01:10<00:00,28.40it/s]"
     ]
    },
    {
     "name": "stdout",
     "output_type": "stream",
     "text": [
      "\u001b[32m[0922 11:52:05 @base.py:285]\u001b[0m Epoch 492 (global_step 984000) finished, time:1 minute 10 seconds.\n"
     ]
    },
    {
     "name": "stderr",
     "output_type": "stream",
     "text": [
      "\n"
     ]
    },
    {
     "name": "stdout",
     "output_type": "stream",
     "text": [
      "\u001b[32m[0922 11:52:05 @saver.py:79]\u001b[0m Model saved to ../output/LPMC/DATGAN/model\\model-984000.\n",
      "\u001b[32m[0922 11:52:05 @monitor.py:467]\u001b[0m GAN_loss/discrim/accuracy_fake: 0.93\n",
      "\u001b[32m[0922 11:52:05 @monitor.py:467]\u001b[0m GAN_loss/discrim/accuracy_real: 0.15\n",
      "\u001b[32m[0922 11:52:05 @monitor.py:467]\u001b[0m GAN_loss/discrim/loss: 0.64543\n",
      "\u001b[32m[0922 11:52:05 @monitor.py:467]\u001b[0m GAN_loss/gen/final-g-loss: 1.2238\n",
      "\u001b[32m[0922 11:52:05 @monitor.py:467]\u001b[0m GAN_loss/gen/klloss: 0.14784\n",
      "\u001b[32m[0922 11:52:05 @monitor.py:467]\u001b[0m GAN_loss/gen/loss: 1.0759\n",
      "\u001b[32m[0922 11:52:05 @monitor.py:467]\u001b[0m QueueInput/queue_size: 50\n",
      "\u001b[32m[0922 11:52:05 @base.py:275]\u001b[0m Start Epoch 493 ...\n"
     ]
    },
    {
     "name": "stderr",
     "output_type": "stream",
     "text": [
      "100%|#################################################################################|2000/2000[01:10<00:00,28.33it/s]"
     ]
    },
    {
     "name": "stdout",
     "output_type": "stream",
     "text": [
      "\u001b[32m[0922 11:53:16 @base.py:285]\u001b[0m Epoch 493 (global_step 986000) finished, time:1 minute 10 seconds.\n",
      "\u001b[32m[0922 11:53:16 @saver.py:79]\u001b[0m Model saved to ../output/LPMC/DATGAN/model\\model-986000.\n",
      "\u001b[32m[0922 11:53:16 @monitor.py:467]\u001b[0m GAN_loss/discrim/accuracy_fake: 0.905\n",
      "\u001b[32m[0922 11:53:16 @monitor.py:467]\u001b[0m GAN_loss/discrim/accuracy_real: 0.22\n",
      "\u001b[32m[0922 11:53:16 @monitor.py:467]\u001b[0m GAN_loss/discrim/loss: 0.64054\n",
      "\u001b[32m[0922 11:53:16 @monitor.py:467]\u001b[0m GAN_loss/gen/final-g-loss: 1.3055\n",
      "\u001b[32m[0922 11:53:16 @monitor.py:467]\u001b[0m GAN_loss/gen/klloss: 0.23707\n",
      "\u001b[32m[0922 11:53:16 @monitor.py:467]\u001b[0m GAN_loss/gen/loss: 1.0684\n"
     ]
    },
    {
     "name": "stderr",
     "output_type": "stream",
     "text": [
      "\n"
     ]
    },
    {
     "name": "stdout",
     "output_type": "stream",
     "text": [
      "\u001b[32m[0922 11:53:16 @monitor.py:467]\u001b[0m QueueInput/queue_size: 50\n",
      "\u001b[32m[0922 11:53:16 @base.py:275]\u001b[0m Start Epoch 494 ...\n"
     ]
    },
    {
     "name": "stderr",
     "output_type": "stream",
     "text": [
      "100%|#################################################################################|2000/2000[01:10<00:00,28.32it/s]"
     ]
    },
    {
     "name": "stdout",
     "output_type": "stream",
     "text": [
      "\u001b[32m[0922 11:54:26 @base.py:285]\u001b[0m Epoch 494 (global_step 988000) finished, time:1 minute 10 seconds.\n",
      "\u001b[32m[0922 11:54:27 @saver.py:79]\u001b[0m Model saved to ../output/LPMC/DATGAN/model\\model-988000.\n",
      "\u001b[32m[0922 11:54:27 @monitor.py:467]\u001b[0m GAN_loss/discrim/accuracy_fake: 0.9\n"
     ]
    },
    {
     "name": "stderr",
     "output_type": "stream",
     "text": [
      "\n"
     ]
    },
    {
     "name": "stdout",
     "output_type": "stream",
     "text": [
      "\u001b[32m[0922 11:54:27 @monitor.py:467]\u001b[0m GAN_loss/discrim/accuracy_real: 0.22\n",
      "\u001b[32m[0922 11:54:27 @monitor.py:467]\u001b[0m GAN_loss/discrim/loss: 0.64356\n",
      "\u001b[32m[0922 11:54:27 @monitor.py:467]\u001b[0m GAN_loss/gen/final-g-loss: 1.3984\n",
      "\u001b[32m[0922 11:54:27 @monitor.py:467]\u001b[0m GAN_loss/gen/klloss: 0.32916\n",
      "\u001b[32m[0922 11:54:27 @monitor.py:467]\u001b[0m GAN_loss/gen/loss: 1.0693\n",
      "\u001b[32m[0922 11:54:27 @monitor.py:467]\u001b[0m QueueInput/queue_size: 50\n",
      "\u001b[32m[0922 11:54:27 @base.py:275]\u001b[0m Start Epoch 495 ...\n"
     ]
    },
    {
     "name": "stderr",
     "output_type": "stream",
     "text": [
      "100%|#################################################################################|2000/2000[01:11<00:00,28.08it/s]"
     ]
    },
    {
     "name": "stdout",
     "output_type": "stream",
     "text": [
      "\u001b[32m[0922 11:55:38 @base.py:285]\u001b[0m Epoch 495 (global_step 990000) finished, time:1 minute 11 seconds.\n",
      "\u001b[32m[0922 11:55:38 @saver.py:79]\u001b[0m Model saved to ../output/LPMC/DATGAN/model\\model-990000.\n"
     ]
    },
    {
     "name": "stderr",
     "output_type": "stream",
     "text": [
      "\n"
     ]
    },
    {
     "name": "stdout",
     "output_type": "stream",
     "text": [
      "\u001b[32m[0922 11:55:38 @monitor.py:467]\u001b[0m GAN_loss/discrim/accuracy_fake: 0.85\n",
      "\u001b[32m[0922 11:55:38 @monitor.py:467]\u001b[0m GAN_loss/discrim/accuracy_real: 0.19\n",
      "\u001b[32m[0922 11:55:38 @monitor.py:467]\u001b[0m GAN_loss/discrim/loss: 0.64691\n",
      "\u001b[32m[0922 11:55:38 @monitor.py:467]\u001b[0m GAN_loss/gen/final-g-loss: 1.2627\n",
      "\u001b[32m[0922 11:55:38 @monitor.py:467]\u001b[0m GAN_loss/gen/klloss: 0.21334\n",
      "\u001b[32m[0922 11:55:38 @monitor.py:467]\u001b[0m GAN_loss/gen/loss: 1.0494\n",
      "\u001b[32m[0922 11:55:38 @monitor.py:467]\u001b[0m QueueInput/queue_size: 50\n",
      "\u001b[32m[0922 11:55:38 @base.py:275]\u001b[0m Start Epoch 496 ...\n"
     ]
    },
    {
     "name": "stderr",
     "output_type": "stream",
     "text": [
      "100%|#################################################################################|2000/2000[01:11<00:00,28.07it/s]"
     ]
    },
    {
     "name": "stdout",
     "output_type": "stream",
     "text": [
      "\u001b[32m[0922 11:56:49 @base.py:285]\u001b[0m Epoch 496 (global_step 992000) finished, time:1 minute 11 seconds.\n",
      "\u001b[32m[0922 11:56:49 @saver.py:79]\u001b[0m Model saved to ../output/LPMC/DATGAN/model\\model-992000.\n",
      "\u001b[32m[0922 11:56:50 @monitor.py:467]\u001b[0m GAN_loss/discrim/accuracy_fake: 0.87\n"
     ]
    },
    {
     "name": "stderr",
     "output_type": "stream",
     "text": [
      "\n"
     ]
    },
    {
     "name": "stdout",
     "output_type": "stream",
     "text": [
      "\u001b[32m[0922 11:56:50 @monitor.py:467]\u001b[0m GAN_loss/discrim/accuracy_real: 0.185\n",
      "\u001b[32m[0922 11:56:50 @monitor.py:467]\u001b[0m GAN_loss/discrim/loss: 0.65249\n",
      "\u001b[32m[0922 11:56:50 @monitor.py:467]\u001b[0m GAN_loss/gen/final-g-loss: 1.3346\n",
      "\u001b[32m[0922 11:56:50 @monitor.py:467]\u001b[0m GAN_loss/gen/klloss: 0.29486\n",
      "\u001b[32m[0922 11:56:50 @monitor.py:467]\u001b[0m GAN_loss/gen/loss: 1.0398\n",
      "\u001b[32m[0922 11:56:50 @monitor.py:467]\u001b[0m QueueInput/queue_size: 50\n",
      "\u001b[32m[0922 11:56:50 @base.py:275]\u001b[0m Start Epoch 497 ...\n"
     ]
    },
    {
     "name": "stderr",
     "output_type": "stream",
     "text": [
      "100%|#################################################################################|2000/2000[01:11<00:00,28.11it/s]"
     ]
    },
    {
     "name": "stdout",
     "output_type": "stream",
     "text": [
      "\u001b[32m[0922 11:58:01 @base.py:285]\u001b[0m Epoch 497 (global_step 994000) finished, time:1 minute 11 seconds.\n",
      "\u001b[32m[0922 11:58:01 @saver.py:79]\u001b[0m Model saved to ../output/LPMC/DATGAN/model\\model-994000.\n",
      "\u001b[32m[0922 11:58:01 @monitor.py:467]\u001b[0m GAN_loss/discrim/accuracy_fake: 0.94\n"
     ]
    },
    {
     "name": "stderr",
     "output_type": "stream",
     "text": [
      "\n"
     ]
    },
    {
     "name": "stdout",
     "output_type": "stream",
     "text": [
      "\u001b[32m[0922 11:58:01 @monitor.py:467]\u001b[0m GAN_loss/discrim/accuracy_real: 0.17\n",
      "\u001b[32m[0922 11:58:01 @monitor.py:467]\u001b[0m GAN_loss/discrim/loss: 0.63762\n",
      "\u001b[32m[0922 11:58:01 @monitor.py:467]\u001b[0m GAN_loss/gen/final-g-loss: 1.3453\n",
      "\u001b[32m[0922 11:58:01 @monitor.py:467]\u001b[0m GAN_loss/gen/klloss: 0.22463\n",
      "\u001b[32m[0922 11:58:01 @monitor.py:467]\u001b[0m GAN_loss/gen/loss: 1.1207\n",
      "\u001b[32m[0922 11:58:01 @monitor.py:467]\u001b[0m QueueInput/queue_size: 50\n",
      "\u001b[32m[0922 11:58:01 @base.py:275]\u001b[0m Start Epoch 498 ...\n"
     ]
    },
    {
     "name": "stderr",
     "output_type": "stream",
     "text": [
      "100%|#################################################################################|2000/2000[01:10<00:00,28.32it/s]"
     ]
    },
    {
     "name": "stdout",
     "output_type": "stream",
     "text": [
      "\u001b[32m[0922 11:59:11 @base.py:285]\u001b[0m Epoch 498 (global_step 996000) finished, time:1 minute 10 seconds.\n",
      "\u001b[32m[0922 11:59:12 @saver.py:79]\u001b[0m Model saved to ../output/LPMC/DATGAN/model\\model-996000.\n",
      "\u001b[32m[0922 11:59:12 @monitor.py:467]\u001b[0m GAN_loss/discrim/accuracy_fake: 0.87\n"
     ]
    },
    {
     "name": "stderr",
     "output_type": "stream",
     "text": [
      "\n"
     ]
    },
    {
     "name": "stdout",
     "output_type": "stream",
     "text": [
      "\u001b[32m[0922 11:59:12 @monitor.py:467]\u001b[0m GAN_loss/discrim/accuracy_real: 0.195\n",
      "\u001b[32m[0922 11:59:12 @monitor.py:467]\u001b[0m GAN_loss/discrim/loss: 0.63533\n",
      "\u001b[32m[0922 11:59:12 @monitor.py:467]\u001b[0m GAN_loss/gen/final-g-loss: 1.2907\n",
      "\u001b[32m[0922 11:59:12 @monitor.py:467]\u001b[0m GAN_loss/gen/klloss: 0.21805\n",
      "\u001b[32m[0922 11:59:12 @monitor.py:467]\u001b[0m GAN_loss/gen/loss: 1.0727\n",
      "\u001b[32m[0922 11:59:12 @monitor.py:467]\u001b[0m QueueInput/queue_size: 50\n",
      "\u001b[32m[0922 11:59:12 @base.py:275]\u001b[0m Start Epoch 499 ...\n"
     ]
    },
    {
     "name": "stderr",
     "output_type": "stream",
     "text": [
      "100%|#################################################################################|2000/2000[01:10<00:00,28.26it/s]"
     ]
    },
    {
     "name": "stdout",
     "output_type": "stream",
     "text": [
      "\u001b[32m[0922 12:00:22 @base.py:285]\u001b[0m Epoch 499 (global_step 998000) finished, time:1 minute 10 seconds.\n",
      "\u001b[32m[0922 12:00:23 @saver.py:79]\u001b[0m Model saved to ../output/LPMC/DATGAN/model\\model-998000.\n"
     ]
    },
    {
     "name": "stderr",
     "output_type": "stream",
     "text": [
      "\n"
     ]
    },
    {
     "name": "stdout",
     "output_type": "stream",
     "text": [
      "\u001b[32m[0922 12:00:23 @monitor.py:467]\u001b[0m GAN_loss/discrim/accuracy_fake: 0.905\n",
      "\u001b[32m[0922 12:00:23 @monitor.py:467]\u001b[0m GAN_loss/discrim/accuracy_real: 0.11\n",
      "\u001b[32m[0922 12:00:23 @monitor.py:467]\u001b[0m GAN_loss/discrim/loss: 0.65697\n",
      "\u001b[32m[0922 12:00:23 @monitor.py:467]\u001b[0m GAN_loss/gen/final-g-loss: 1.278\n",
      "\u001b[32m[0922 12:00:23 @monitor.py:467]\u001b[0m GAN_loss/gen/klloss: 0.19479\n",
      "\u001b[32m[0922 12:00:23 @monitor.py:467]\u001b[0m GAN_loss/gen/loss: 1.0832\n",
      "\u001b[32m[0922 12:00:23 @monitor.py:467]\u001b[0m QueueInput/queue_size: 50\n",
      "\u001b[32m[0922 12:00:23 @base.py:275]\u001b[0m Start Epoch 500 ...\n"
     ]
    },
    {
     "name": "stderr",
     "output_type": "stream",
     "text": [
      "100%|#################################################################################|2000/2000[01:11<00:00,28.14it/s]"
     ]
    },
    {
     "name": "stdout",
     "output_type": "stream",
     "text": [
      "\u001b[32m[0922 12:01:34 @base.py:285]\u001b[0m Epoch 500 (global_step 1000000) finished, time:1 minute 11 seconds.\n",
      "\u001b[32m[0922 12:01:34 @saver.py:79]\u001b[0m Model saved to ../output/LPMC/DATGAN/model\\model-1000000.\n"
     ]
    },
    {
     "name": "stderr",
     "output_type": "stream",
     "text": [
      "\n"
     ]
    },
    {
     "name": "stdout",
     "output_type": "stream",
     "text": [
      "\u001b[32m[0922 12:01:34 @monitor.py:467]\u001b[0m GAN_loss/discrim/accuracy_fake: 0.875\n",
      "\u001b[32m[0922 12:01:34 @monitor.py:467]\u001b[0m GAN_loss/discrim/accuracy_real: 0.28\n",
      "\u001b[32m[0922 12:01:34 @monitor.py:467]\u001b[0m GAN_loss/discrim/loss: 0.63918\n",
      "\u001b[32m[0922 12:01:34 @monitor.py:467]\u001b[0m GAN_loss/gen/final-g-loss: 1.2321\n",
      "\u001b[32m[0922 12:01:34 @monitor.py:467]\u001b[0m GAN_loss/gen/klloss: 0.17495\n",
      "\u001b[32m[0922 12:01:34 @monitor.py:467]\u001b[0m GAN_loss/gen/loss: 1.0572\n",
      "\u001b[32m[0922 12:01:34 @monitor.py:467]\u001b[0m QueueInput/queue_size: 50\n",
      "\u001b[32m[0922 12:01:34 @base.py:275]\u001b[0m Start Epoch 501 ...\n"
     ]
    },
    {
     "name": "stderr",
     "output_type": "stream",
     "text": [
      "100%|#################################################################################|2000/2000[01:11<00:00,28.17it/s]"
     ]
    },
    {
     "name": "stdout",
     "output_type": "stream",
     "text": [
      "\u001b[32m[0922 12:02:45 @base.py:285]\u001b[0m Epoch 501 (global_step 1002000) finished, time:1 minute 11 seconds.\n",
      "\u001b[32m[0922 12:02:45 @saver.py:79]\u001b[0m Model saved to ../output/LPMC/DATGAN/model\\model-1002000.\n",
      "\u001b[32m[0922 12:02:45 @monitor.py:467]\u001b[0m GAN_loss/discrim/accuracy_fake: 0.915\n"
     ]
    },
    {
     "name": "stderr",
     "output_type": "stream",
     "text": [
      "\n"
     ]
    },
    {
     "name": "stdout",
     "output_type": "stream",
     "text": [
      "\u001b[32m[0922 12:02:45 @monitor.py:467]\u001b[0m GAN_loss/discrim/accuracy_real: 0.22\n",
      "\u001b[32m[0922 12:02:45 @monitor.py:467]\u001b[0m GAN_loss/discrim/loss: 0.63817\n",
      "\u001b[32m[0922 12:02:45 @monitor.py:467]\u001b[0m GAN_loss/gen/final-g-loss: 1.2608\n",
      "\u001b[32m[0922 12:02:45 @monitor.py:467]\u001b[0m GAN_loss/gen/klloss: 0.17524\n",
      "\u001b[32m[0922 12:02:45 @monitor.py:467]\u001b[0m GAN_loss/gen/loss: 1.0856\n",
      "\u001b[32m[0922 12:02:45 @monitor.py:467]\u001b[0m QueueInput/queue_size: 50\n",
      "\u001b[32m[0922 12:02:45 @base.py:275]\u001b[0m Start Epoch 502 ...\n"
     ]
    },
    {
     "name": "stderr",
     "output_type": "stream",
     "text": [
      "100%|#################################################################################|2000/2000[01:11<00:00,28.16it/s]"
     ]
    },
    {
     "name": "stdout",
     "output_type": "stream",
     "text": [
      "\u001b[32m[0922 12:03:56 @base.py:285]\u001b[0m Epoch 502 (global_step 1004000) finished, time:1 minute 11 seconds.\n",
      "\u001b[32m[0922 12:03:56 @saver.py:79]\u001b[0m Model saved to ../output/LPMC/DATGAN/model\\model-1004000.\n",
      "\u001b[32m[0922 12:03:56 @monitor.py:467]\u001b[0m GAN_loss/discrim/accuracy_fake: 0.84\n"
     ]
    },
    {
     "name": "stderr",
     "output_type": "stream",
     "text": [
      "\n"
     ]
    },
    {
     "name": "stdout",
     "output_type": "stream",
     "text": [
      "\u001b[32m[0922 12:03:56 @monitor.py:467]\u001b[0m GAN_loss/discrim/accuracy_real: 0.165\n",
      "\u001b[32m[0922 12:03:56 @monitor.py:467]\u001b[0m GAN_loss/discrim/loss: 0.6481\n",
      "\u001b[32m[0922 12:03:56 @monitor.py:467]\u001b[0m GAN_loss/gen/final-g-loss: 1.2648\n",
      "\u001b[32m[0922 12:03:56 @monitor.py:467]\u001b[0m GAN_loss/gen/klloss: 0.20743\n",
      "\u001b[32m[0922 12:03:56 @monitor.py:467]\u001b[0m GAN_loss/gen/loss: 1.0573\n",
      "\u001b[32m[0922 12:03:56 @monitor.py:467]\u001b[0m QueueInput/queue_size: 50\n",
      "\u001b[32m[0922 12:03:56 @base.py:275]\u001b[0m Start Epoch 503 ...\n"
     ]
    },
    {
     "name": "stderr",
     "output_type": "stream",
     "text": [
      "100%|#################################################################################|2000/2000[01:10<00:00,28.29it/s]"
     ]
    },
    {
     "name": "stdout",
     "output_type": "stream",
     "text": [
      "\u001b[32m[0922 12:05:07 @base.py:285]\u001b[0m Epoch 503 (global_step 1006000) finished, time:1 minute 10 seconds.\n",
      "\u001b[32m[0922 12:05:07 @saver.py:79]\u001b[0m Model saved to ../output/LPMC/DATGAN/model\\model-1006000.\n",
      "\u001b[32m[0922 12:05:07 @monitor.py:467]\u001b[0m GAN_loss/discrim/accuracy_fake: 0.89\n"
     ]
    },
    {
     "name": "stderr",
     "output_type": "stream",
     "text": [
      "\n"
     ]
    },
    {
     "name": "stdout",
     "output_type": "stream",
     "text": [
      "\u001b[32m[0922 12:05:07 @monitor.py:467]\u001b[0m GAN_loss/discrim/accuracy_real: 0.185\n",
      "\u001b[32m[0922 12:05:07 @monitor.py:467]\u001b[0m GAN_loss/discrim/loss: 0.64519\n",
      "\u001b[32m[0922 12:05:07 @monitor.py:467]\u001b[0m GAN_loss/gen/final-g-loss: 1.4303\n",
      "\u001b[32m[0922 12:05:07 @monitor.py:467]\u001b[0m GAN_loss/gen/klloss: 0.36204\n",
      "\u001b[32m[0922 12:05:07 @monitor.py:467]\u001b[0m GAN_loss/gen/loss: 1.0682\n",
      "\u001b[32m[0922 12:05:07 @monitor.py:467]\u001b[0m QueueInput/queue_size: 50\n",
      "\u001b[32m[0922 12:05:07 @base.py:275]\u001b[0m Start Epoch 504 ...\n"
     ]
    },
    {
     "name": "stderr",
     "output_type": "stream",
     "text": [
      "100%|#################################################################################|2000/2000[01:10<00:00,28.21it/s]"
     ]
    },
    {
     "name": "stdout",
     "output_type": "stream",
     "text": [
      "\u001b[32m[0922 12:06:18 @base.py:285]\u001b[0m Epoch 504 (global_step 1008000) finished, time:1 minute 10 seconds.\n",
      "\u001b[32m[0922 12:06:18 @saver.py:79]\u001b[0m Model saved to ../output/LPMC/DATGAN/model\\model-1008000.\n"
     ]
    },
    {
     "name": "stderr",
     "output_type": "stream",
     "text": [
      "\n"
     ]
    },
    {
     "name": "stdout",
     "output_type": "stream",
     "text": [
      "\u001b[32m[0922 12:06:18 @monitor.py:467]\u001b[0m GAN_loss/discrim/accuracy_fake: 0.88\n",
      "\u001b[32m[0922 12:06:18 @monitor.py:467]\u001b[0m GAN_loss/discrim/accuracy_real: 0.225\n",
      "\u001b[32m[0922 12:06:18 @monitor.py:467]\u001b[0m GAN_loss/discrim/loss: 0.62427\n",
      "\u001b[32m[0922 12:06:18 @monitor.py:467]\u001b[0m GAN_loss/gen/final-g-loss: 1.3618\n",
      "\u001b[32m[0922 12:06:18 @monitor.py:467]\u001b[0m GAN_loss/gen/klloss: 0.2648\n",
      "\u001b[32m[0922 12:06:18 @monitor.py:467]\u001b[0m GAN_loss/gen/loss: 1.0969\n",
      "\u001b[32m[0922 12:06:18 @monitor.py:467]\u001b[0m QueueInput/queue_size: 50\n",
      "\u001b[32m[0922 12:06:18 @base.py:275]\u001b[0m Start Epoch 505 ...\n"
     ]
    },
    {
     "name": "stderr",
     "output_type": "stream",
     "text": [
      "100%|#################################################################################|2000/2000[01:10<00:00,28.27it/s]"
     ]
    },
    {
     "name": "stdout",
     "output_type": "stream",
     "text": [
      "\u001b[32m[0922 12:07:29 @base.py:285]\u001b[0m Epoch 505 (global_step 1010000) finished, time:1 minute 10 seconds.\n",
      "\u001b[32m[0922 12:07:29 @saver.py:79]\u001b[0m Model saved to ../output/LPMC/DATGAN/model\\model-1010000.\n"
     ]
    },
    {
     "name": "stderr",
     "output_type": "stream",
     "text": [
      "\n"
     ]
    },
    {
     "name": "stdout",
     "output_type": "stream",
     "text": [
      "\u001b[32m[0922 12:07:29 @monitor.py:467]\u001b[0m GAN_loss/discrim/accuracy_fake: 0.915\n",
      "\u001b[32m[0922 12:07:29 @monitor.py:467]\u001b[0m GAN_loss/discrim/accuracy_real: 0.135\n",
      "\u001b[32m[0922 12:07:29 @monitor.py:467]\u001b[0m GAN_loss/discrim/loss: 0.6407\n",
      "\u001b[32m[0922 12:07:29 @monitor.py:467]\u001b[0m GAN_loss/gen/final-g-loss: 1.3788\n",
      "\u001b[32m[0922 12:07:29 @monitor.py:467]\u001b[0m GAN_loss/gen/klloss: 0.2813\n",
      "\u001b[32m[0922 12:07:29 @monitor.py:467]\u001b[0m GAN_loss/gen/loss: 1.0975\n",
      "\u001b[32m[0922 12:07:29 @monitor.py:467]\u001b[0m QueueInput/queue_size: 50\n",
      "\u001b[32m[0922 12:07:29 @base.py:275]\u001b[0m Start Epoch 506 ...\n"
     ]
    },
    {
     "name": "stderr",
     "output_type": "stream",
     "text": [
      "100%|#################################################################################|2000/2000[01:10<00:00,28.23it/s]"
     ]
    },
    {
     "name": "stdout",
     "output_type": "stream",
     "text": [
      "\u001b[32m[0922 12:08:40 @base.py:285]\u001b[0m Epoch 506 (global_step 1012000) finished, time:1 minute 10 seconds.\n",
      "\u001b[32m[0922 12:08:40 @saver.py:79]\u001b[0m Model saved to ../output/LPMC/DATGAN/model\\model-1012000.\n"
     ]
    },
    {
     "name": "stderr",
     "output_type": "stream",
     "text": [
      "\n"
     ]
    },
    {
     "name": "stdout",
     "output_type": "stream",
     "text": [
      "\u001b[32m[0922 12:08:40 @monitor.py:467]\u001b[0m GAN_loss/discrim/accuracy_fake: 0.885\n",
      "\u001b[32m[0922 12:08:40 @monitor.py:467]\u001b[0m GAN_loss/discrim/accuracy_real: 0.245\n",
      "\u001b[32m[0922 12:08:40 @monitor.py:467]\u001b[0m GAN_loss/discrim/loss: 0.64155\n",
      "\u001b[32m[0922 12:08:40 @monitor.py:467]\u001b[0m GAN_loss/gen/final-g-loss: 1.3301\n",
      "\u001b[32m[0922 12:08:40 @monitor.py:467]\u001b[0m GAN_loss/gen/klloss: 0.25695\n",
      "\u001b[32m[0922 12:08:40 @monitor.py:467]\u001b[0m GAN_loss/gen/loss: 1.0731\n",
      "\u001b[32m[0922 12:08:40 @monitor.py:467]\u001b[0m QueueInput/queue_size: 50\n",
      "\u001b[32m[0922 12:08:40 @base.py:275]\u001b[0m Start Epoch 507 ...\n"
     ]
    },
    {
     "name": "stderr",
     "output_type": "stream",
     "text": [
      "100%|#################################################################################|2000/2000[01:10<00:00,28.21it/s]"
     ]
    },
    {
     "name": "stdout",
     "output_type": "stream",
     "text": [
      "\u001b[32m[0922 12:09:51 @base.py:285]\u001b[0m Epoch 507 (global_step 1014000) finished, time:1 minute 10 seconds.\n",
      "\u001b[32m[0922 12:09:51 @saver.py:79]\u001b[0m Model saved to ../output/LPMC/DATGAN/model\\model-1014000.\n",
      "\u001b[32m[0922 12:09:51 @monitor.py:467]\u001b[0m GAN_loss/discrim/accuracy_fake: 0.88\n",
      "\u001b[32m[0922 12:09:51 @monitor.py:467]\u001b[0m GAN_loss/discrim/accuracy_real: 0.145\n",
      "\u001b[32m[0922 12:09:51 @monitor.py:467]\u001b[0m GAN_loss/discrim/loss: 0.64616\n",
      "\u001b[32m[0922 12:09:51 @monitor.py:467]\u001b[0m GAN_loss/gen/final-g-loss: 1.2658\n",
      "\u001b[32m[0922 12:09:51 @monitor.py:467]\u001b[0m GAN_loss/gen/klloss: 0.19133\n",
      "\u001b[32m[0922 12:09:51 @monitor.py:467]\u001b[0m GAN_loss/gen/loss: 1.0745\n"
     ]
    },
    {
     "name": "stderr",
     "output_type": "stream",
     "text": [
      "\n"
     ]
    },
    {
     "name": "stdout",
     "output_type": "stream",
     "text": [
      "\u001b[32m[0922 12:09:51 @monitor.py:467]\u001b[0m QueueInput/queue_size: 50\n",
      "\u001b[32m[0922 12:09:51 @base.py:275]\u001b[0m Start Epoch 508 ...\n"
     ]
    },
    {
     "name": "stderr",
     "output_type": "stream",
     "text": [
      "100%|#################################################################################|2000/2000[01:10<00:00,28.28it/s]"
     ]
    },
    {
     "name": "stdout",
     "output_type": "stream",
     "text": [
      "\u001b[32m[0922 12:11:02 @base.py:285]\u001b[0m Epoch 508 (global_step 1016000) finished, time:1 minute 10 seconds.\n",
      "\u001b[32m[0922 12:11:02 @saver.py:79]\u001b[0m Model saved to ../output/LPMC/DATGAN/model\\model-1016000.\n"
     ]
    },
    {
     "name": "stderr",
     "output_type": "stream",
     "text": [
      "\n"
     ]
    },
    {
     "name": "stdout",
     "output_type": "stream",
     "text": [
      "\u001b[32m[0922 12:11:02 @monitor.py:467]\u001b[0m GAN_loss/discrim/accuracy_fake: 0.87\n",
      "\u001b[32m[0922 12:11:02 @monitor.py:467]\u001b[0m GAN_loss/discrim/accuracy_real: 0.235\n",
      "\u001b[32m[0922 12:11:02 @monitor.py:467]\u001b[0m GAN_loss/discrim/loss: 0.63382\n",
      "\u001b[32m[0922 12:11:02 @monitor.py:467]\u001b[0m GAN_loss/gen/final-g-loss: 1.3881\n",
      "\u001b[32m[0922 12:11:02 @monitor.py:467]\u001b[0m GAN_loss/gen/klloss: 0.29322\n",
      "\u001b[32m[0922 12:11:02 @monitor.py:467]\u001b[0m GAN_loss/gen/loss: 1.0949\n",
      "\u001b[32m[0922 12:11:02 @monitor.py:467]\u001b[0m QueueInput/queue_size: 50\n",
      "\u001b[32m[0922 12:11:02 @base.py:275]\u001b[0m Start Epoch 509 ...\n"
     ]
    },
    {
     "name": "stderr",
     "output_type": "stream",
     "text": [
      "100%|#################################################################################|2000/2000[01:10<00:00,28.32it/s]"
     ]
    },
    {
     "name": "stdout",
     "output_type": "stream",
     "text": [
      "\u001b[32m[0922 12:12:13 @base.py:285]\u001b[0m Epoch 509 (global_step 1018000) finished, time:1 minute 10 seconds.\n",
      "\u001b[32m[0922 12:12:13 @saver.py:79]\u001b[0m Model saved to ../output/LPMC/DATGAN/model\\model-1018000.\n"
     ]
    },
    {
     "name": "stderr",
     "output_type": "stream",
     "text": [
      "\n"
     ]
    },
    {
     "name": "stdout",
     "output_type": "stream",
     "text": [
      "\u001b[32m[0922 12:12:13 @monitor.py:467]\u001b[0m GAN_loss/discrim/accuracy_fake: 0.865\n",
      "\u001b[32m[0922 12:12:13 @monitor.py:467]\u001b[0m GAN_loss/discrim/accuracy_real: 0.17\n",
      "\u001b[32m[0922 12:12:13 @monitor.py:467]\u001b[0m GAN_loss/discrim/loss: 0.65197\n",
      "\u001b[32m[0922 12:12:13 @monitor.py:467]\u001b[0m GAN_loss/gen/final-g-loss: 1.3182\n",
      "\u001b[32m[0922 12:12:13 @monitor.py:467]\u001b[0m GAN_loss/gen/klloss: 0.24582\n",
      "\u001b[32m[0922 12:12:13 @monitor.py:467]\u001b[0m GAN_loss/gen/loss: 1.0723\n",
      "\u001b[32m[0922 12:12:13 @monitor.py:467]\u001b[0m QueueInput/queue_size: 50\n",
      "\u001b[32m[0922 12:12:13 @base.py:275]\u001b[0m Start Epoch 510 ...\n"
     ]
    },
    {
     "name": "stderr",
     "output_type": "stream",
     "text": [
      "100%|#################################################################################|2000/2000[01:11<00:00,28.14it/s]"
     ]
    },
    {
     "name": "stdout",
     "output_type": "stream",
     "text": [
      "\u001b[32m[0922 12:13:24 @base.py:285]\u001b[0m Epoch 510 (global_step 1020000) finished, time:1 minute 11 seconds.\n"
     ]
    },
    {
     "name": "stderr",
     "output_type": "stream",
     "text": [
      "\n"
     ]
    },
    {
     "name": "stdout",
     "output_type": "stream",
     "text": [
      "\u001b[32m[0922 12:13:24 @saver.py:79]\u001b[0m Model saved to ../output/LPMC/DATGAN/model\\model-1020000.\n",
      "\u001b[32m[0922 12:13:24 @monitor.py:467]\u001b[0m GAN_loss/discrim/accuracy_fake: 0.88\n",
      "\u001b[32m[0922 12:13:24 @monitor.py:467]\u001b[0m GAN_loss/discrim/accuracy_real: 0.155\n",
      "\u001b[32m[0922 12:13:24 @monitor.py:467]\u001b[0m GAN_loss/discrim/loss: 0.64978\n",
      "\u001b[32m[0922 12:13:24 @monitor.py:467]\u001b[0m GAN_loss/gen/final-g-loss: 1.2415\n",
      "\u001b[32m[0922 12:13:24 @monitor.py:467]\u001b[0m GAN_loss/gen/klloss: 0.16585\n",
      "\u001b[32m[0922 12:13:24 @monitor.py:467]\u001b[0m GAN_loss/gen/loss: 1.0757\n",
      "\u001b[32m[0922 12:13:24 @monitor.py:467]\u001b[0m QueueInput/queue_size: 50\n",
      "\u001b[32m[0922 12:13:24 @base.py:275]\u001b[0m Start Epoch 511 ...\n"
     ]
    },
    {
     "name": "stderr",
     "output_type": "stream",
     "text": [
      "100%|#################################################################################|2000/2000[01:10<00:00,28.23it/s]"
     ]
    },
    {
     "name": "stdout",
     "output_type": "stream",
     "text": [
      "\u001b[32m[0922 12:14:35 @base.py:285]\u001b[0m Epoch 511 (global_step 1022000) finished, time:1 minute 10 seconds.\n"
     ]
    },
    {
     "name": "stderr",
     "output_type": "stream",
     "text": [
      "\n"
     ]
    },
    {
     "name": "stdout",
     "output_type": "stream",
     "text": [
      "\u001b[32m[0922 12:14:35 @saver.py:79]\u001b[0m Model saved to ../output/LPMC/DATGAN/model\\model-1022000.\n",
      "\u001b[32m[0922 12:14:35 @monitor.py:467]\u001b[0m GAN_loss/discrim/accuracy_fake: 0.875\n",
      "\u001b[32m[0922 12:14:35 @monitor.py:467]\u001b[0m GAN_loss/discrim/accuracy_real: 0.185\n",
      "\u001b[32m[0922 12:14:35 @monitor.py:467]\u001b[0m GAN_loss/discrim/loss: 0.65255\n",
      "\u001b[32m[0922 12:14:35 @monitor.py:467]\u001b[0m GAN_loss/gen/final-g-loss: 1.2641\n",
      "\u001b[32m[0922 12:14:35 @monitor.py:467]\u001b[0m GAN_loss/gen/klloss: 0.18331\n",
      "\u001b[32m[0922 12:14:35 @monitor.py:467]\u001b[0m GAN_loss/gen/loss: 1.0808\n",
      "\u001b[32m[0922 12:14:35 @monitor.py:467]\u001b[0m QueueInput/queue_size: 50\n",
      "\u001b[32m[0922 12:14:35 @base.py:275]\u001b[0m Start Epoch 512 ...\n"
     ]
    },
    {
     "name": "stderr",
     "output_type": "stream",
     "text": [
      "100%|#################################################################################|2000/2000[01:10<00:00,28.23it/s]"
     ]
    },
    {
     "name": "stdout",
     "output_type": "stream",
     "text": [
      "\u001b[32m[0922 12:15:46 @base.py:285]\u001b[0m Epoch 512 (global_step 1024000) finished, time:1 minute 10 seconds.\n",
      "\u001b[32m[0922 12:15:46 @saver.py:79]\u001b[0m Model saved to ../output/LPMC/DATGAN/model\\model-1024000.\n"
     ]
    },
    {
     "name": "stderr",
     "output_type": "stream",
     "text": [
      "\n"
     ]
    },
    {
     "name": "stdout",
     "output_type": "stream",
     "text": [
      "\u001b[32m[0922 12:15:46 @monitor.py:467]\u001b[0m GAN_loss/discrim/accuracy_fake: 0.91\n",
      "\u001b[32m[0922 12:15:46 @monitor.py:467]\u001b[0m GAN_loss/discrim/accuracy_real: 0.185\n",
      "\u001b[32m[0922 12:15:46 @monitor.py:467]\u001b[0m GAN_loss/discrim/loss: 0.63925\n",
      "\u001b[32m[0922 12:15:46 @monitor.py:467]\u001b[0m GAN_loss/gen/final-g-loss: 1.4036\n",
      "\u001b[32m[0922 12:15:46 @monitor.py:467]\u001b[0m GAN_loss/gen/klloss: 0.31584\n",
      "\u001b[32m[0922 12:15:46 @monitor.py:467]\u001b[0m GAN_loss/gen/loss: 1.0878\n",
      "\u001b[32m[0922 12:15:46 @monitor.py:467]\u001b[0m QueueInput/queue_size: 50\n",
      "\u001b[32m[0922 12:15:46 @base.py:275]\u001b[0m Start Epoch 513 ...\n"
     ]
    },
    {
     "name": "stderr",
     "output_type": "stream",
     "text": [
      "100%|#################################################################################|2000/2000[01:10<00:00,28.19it/s]"
     ]
    },
    {
     "name": "stdout",
     "output_type": "stream",
     "text": [
      "\u001b[32m[0922 12:16:57 @base.py:285]\u001b[0m Epoch 513 (global_step 1026000) finished, time:1 minute 10 seconds.\n",
      "\u001b[32m[0922 12:16:57 @saver.py:79]\u001b[0m Model saved to ../output/LPMC/DATGAN/model\\model-1026000.\n"
     ]
    },
    {
     "name": "stderr",
     "output_type": "stream",
     "text": [
      "\n"
     ]
    },
    {
     "name": "stdout",
     "output_type": "stream",
     "text": [
      "\u001b[32m[0922 12:16:58 @monitor.py:467]\u001b[0m GAN_loss/discrim/accuracy_fake: 0.91\n",
      "\u001b[32m[0922 12:16:58 @monitor.py:467]\u001b[0m GAN_loss/discrim/accuracy_real: 0.175\n",
      "\u001b[32m[0922 12:16:58 @monitor.py:467]\u001b[0m GAN_loss/discrim/loss: 0.63927\n",
      "\u001b[32m[0922 12:16:58 @monitor.py:467]\u001b[0m GAN_loss/gen/final-g-loss: 1.3681\n",
      "\u001b[32m[0922 12:16:58 @monitor.py:467]\u001b[0m GAN_loss/gen/klloss: 0.27134\n",
      "\u001b[32m[0922 12:16:58 @monitor.py:467]\u001b[0m GAN_loss/gen/loss: 1.0968\n",
      "\u001b[32m[0922 12:16:58 @monitor.py:467]\u001b[0m QueueInput/queue_size: 50\n",
      "\u001b[32m[0922 12:16:58 @base.py:275]\u001b[0m Start Epoch 514 ...\n"
     ]
    },
    {
     "name": "stderr",
     "output_type": "stream",
     "text": [
      "100%|#################################################################################|2000/2000[01:10<00:00,28.39it/s]"
     ]
    },
    {
     "name": "stdout",
     "output_type": "stream",
     "text": [
      "\u001b[32m[0922 12:18:08 @base.py:285]\u001b[0m Epoch 514 (global_step 1028000) finished, time:1 minute 10 seconds.\n",
      "\u001b[32m[0922 12:18:08 @saver.py:79]\u001b[0m Model saved to ../output/LPMC/DATGAN/model\\model-1028000.\n"
     ]
    },
    {
     "name": "stderr",
     "output_type": "stream",
     "text": [
      "\n"
     ]
    },
    {
     "name": "stdout",
     "output_type": "stream",
     "text": [
      "\u001b[32m[0922 12:18:08 @monitor.py:467]\u001b[0m GAN_loss/discrim/accuracy_fake: 0.885\n",
      "\u001b[32m[0922 12:18:08 @monitor.py:467]\u001b[0m GAN_loss/discrim/accuracy_real: 0.2\n",
      "\u001b[32m[0922 12:18:08 @monitor.py:467]\u001b[0m GAN_loss/discrim/loss: 0.63624\n",
      "\u001b[32m[0922 12:18:08 @monitor.py:467]\u001b[0m GAN_loss/gen/final-g-loss: 1.3227\n",
      "\u001b[32m[0922 12:18:08 @monitor.py:467]\u001b[0m GAN_loss/gen/klloss: 0.2122\n",
      "\u001b[32m[0922 12:18:08 @monitor.py:467]\u001b[0m GAN_loss/gen/loss: 1.1105\n",
      "\u001b[32m[0922 12:18:08 @monitor.py:467]\u001b[0m QueueInput/queue_size: 50\n",
      "\u001b[32m[0922 12:18:08 @base.py:275]\u001b[0m Start Epoch 515 ...\n"
     ]
    },
    {
     "name": "stderr",
     "output_type": "stream",
     "text": [
      "100%|#################################################################################|2000/2000[01:10<00:00,28.30it/s]"
     ]
    },
    {
     "name": "stdout",
     "output_type": "stream",
     "text": [
      "\u001b[32m[0922 12:19:19 @base.py:285]\u001b[0m Epoch 515 (global_step 1030000) finished, time:1 minute 10 seconds.\n",
      "\u001b[32m[0922 12:19:19 @saver.py:79]\u001b[0m Model saved to ../output/LPMC/DATGAN/model\\model-1030000.\n",
      "\u001b[32m[0922 12:19:19 @monitor.py:467]\u001b[0m GAN_loss/discrim/accuracy_fake: 0.87\n"
     ]
    },
    {
     "name": "stderr",
     "output_type": "stream",
     "text": [
      "\n"
     ]
    },
    {
     "name": "stdout",
     "output_type": "stream",
     "text": [
      "\u001b[32m[0922 12:19:19 @monitor.py:467]\u001b[0m GAN_loss/discrim/accuracy_real: 0.2\n",
      "\u001b[32m[0922 12:19:19 @monitor.py:467]\u001b[0m GAN_loss/discrim/loss: 0.63947\n",
      "\u001b[32m[0922 12:19:19 @monitor.py:467]\u001b[0m GAN_loss/gen/final-g-loss: 1.3208\n",
      "\u001b[32m[0922 12:19:19 @monitor.py:467]\u001b[0m GAN_loss/gen/klloss: 0.23861\n",
      "\u001b[32m[0922 12:19:19 @monitor.py:467]\u001b[0m GAN_loss/gen/loss: 1.0822\n",
      "\u001b[32m[0922 12:19:19 @monitor.py:467]\u001b[0m QueueInput/queue_size: 50\n",
      "\u001b[32m[0922 12:19:19 @base.py:275]\u001b[0m Start Epoch 516 ...\n"
     ]
    },
    {
     "name": "stderr",
     "output_type": "stream",
     "text": [
      "100%|#################################################################################|2000/2000[01:10<00:00,28.26it/s]"
     ]
    },
    {
     "name": "stdout",
     "output_type": "stream",
     "text": [
      "\u001b[32m[0922 12:20:30 @base.py:285]\u001b[0m Epoch 516 (global_step 1032000) finished, time:1 minute 10 seconds.\n",
      "\u001b[32m[0922 12:20:30 @saver.py:79]\u001b[0m Model saved to ../output/LPMC/DATGAN/model\\model-1032000.\n",
      "\u001b[32m[0922 12:20:30 @monitor.py:467]\u001b[0m GAN_loss/discrim/accuracy_fake: 0.88\n"
     ]
    },
    {
     "name": "stderr",
     "output_type": "stream",
     "text": [
      "\n"
     ]
    },
    {
     "name": "stdout",
     "output_type": "stream",
     "text": [
      "\u001b[32m[0922 12:20:30 @monitor.py:467]\u001b[0m GAN_loss/discrim/accuracy_real: 0.225\n",
      "\u001b[32m[0922 12:20:30 @monitor.py:467]\u001b[0m GAN_loss/discrim/loss: 0.64186\n",
      "\u001b[32m[0922 12:20:30 @monitor.py:467]\u001b[0m GAN_loss/gen/final-g-loss: 1.3192\n",
      "\u001b[32m[0922 12:20:30 @monitor.py:467]\u001b[0m GAN_loss/gen/klloss: 0.23874\n",
      "\u001b[32m[0922 12:20:30 @monitor.py:467]\u001b[0m GAN_loss/gen/loss: 1.0804\n",
      "\u001b[32m[0922 12:20:30 @monitor.py:467]\u001b[0m QueueInput/queue_size: 50\n",
      "\u001b[32m[0922 12:20:30 @base.py:275]\u001b[0m Start Epoch 517 ...\n"
     ]
    },
    {
     "name": "stderr",
     "output_type": "stream",
     "text": [
      "100%|#################################################################################|2000/2000[01:10<00:00,28.23it/s]"
     ]
    },
    {
     "name": "stdout",
     "output_type": "stream",
     "text": [
      "\u001b[32m[0922 12:21:41 @base.py:285]\u001b[0m Epoch 517 (global_step 1034000) finished, time:1 minute 10 seconds.\n",
      "\u001b[32m[0922 12:21:41 @saver.py:79]\u001b[0m Model saved to ../output/LPMC/DATGAN/model\\model-1034000.\n",
      "\u001b[32m[0922 12:21:41 @monitor.py:467]\u001b[0m GAN_loss/discrim/accuracy_fake: 0.87\n"
     ]
    },
    {
     "name": "stderr",
     "output_type": "stream",
     "text": [
      "\n"
     ]
    },
    {
     "name": "stdout",
     "output_type": "stream",
     "text": [
      "\u001b[32m[0922 12:21:41 @monitor.py:467]\u001b[0m GAN_loss/discrim/accuracy_real: 0.16\n",
      "\u001b[32m[0922 12:21:41 @monitor.py:467]\u001b[0m GAN_loss/discrim/loss: 0.66201\n",
      "\u001b[32m[0922 12:21:41 @monitor.py:467]\u001b[0m GAN_loss/gen/final-g-loss: 1.3012\n",
      "\u001b[32m[0922 12:21:41 @monitor.py:467]\u001b[0m GAN_loss/gen/klloss: 0.23972\n",
      "\u001b[32m[0922 12:21:41 @monitor.py:467]\u001b[0m GAN_loss/gen/loss: 1.0615\n",
      "\u001b[32m[0922 12:21:41 @monitor.py:467]\u001b[0m QueueInput/queue_size: 50\n",
      "\u001b[32m[0922 12:21:41 @base.py:275]\u001b[0m Start Epoch 518 ...\n"
     ]
    },
    {
     "name": "stderr",
     "output_type": "stream",
     "text": [
      "100%|#################################################################################|2000/2000[01:10<00:00,28.41it/s]"
     ]
    },
    {
     "name": "stdout",
     "output_type": "stream",
     "text": [
      "\u001b[32m[0922 12:22:51 @base.py:285]\u001b[0m Epoch 518 (global_step 1036000) finished, time:1 minute 10 seconds.\n",
      "\u001b[32m[0922 12:22:52 @saver.py:79]\u001b[0m Model saved to ../output/LPMC/DATGAN/model\\model-1036000.\n",
      "\u001b[32m[0922 12:22:52 @monitor.py:467]\u001b[0m GAN_loss/discrim/accuracy_fake: 0.89\n"
     ]
    },
    {
     "name": "stderr",
     "output_type": "stream",
     "text": [
      "\n"
     ]
    },
    {
     "name": "stdout",
     "output_type": "stream",
     "text": [
      "\u001b[32m[0922 12:22:52 @monitor.py:467]\u001b[0m GAN_loss/discrim/accuracy_real: 0.225\n",
      "\u001b[32m[0922 12:22:52 @monitor.py:467]\u001b[0m GAN_loss/discrim/loss: 0.63217\n",
      "\u001b[32m[0922 12:22:52 @monitor.py:467]\u001b[0m GAN_loss/gen/final-g-loss: 1.2544\n",
      "\u001b[32m[0922 12:22:52 @monitor.py:467]\u001b[0m GAN_loss/gen/klloss: 0.15303\n",
      "\u001b[32m[0922 12:22:52 @monitor.py:467]\u001b[0m GAN_loss/gen/loss: 1.1014\n",
      "\u001b[32m[0922 12:22:52 @monitor.py:467]\u001b[0m QueueInput/queue_size: 50\n",
      "\u001b[32m[0922 12:22:52 @base.py:275]\u001b[0m Start Epoch 519 ...\n"
     ]
    },
    {
     "name": "stderr",
     "output_type": "stream",
     "text": [
      "100%|#################################################################################|2000/2000[01:11<00:00,28.04it/s]"
     ]
    },
    {
     "name": "stdout",
     "output_type": "stream",
     "text": [
      "\u001b[32m[0922 12:24:03 @base.py:285]\u001b[0m Epoch 519 (global_step 1038000) finished, time:1 minute 11 seconds.\n",
      "\u001b[32m[0922 12:24:03 @saver.py:79]\u001b[0m Model saved to ../output/LPMC/DATGAN/model\\model-1038000.\n",
      "\u001b[32m[0922 12:24:03 @monitor.py:467]\u001b[0m GAN_loss/discrim/accuracy_fake: 0.91\n"
     ]
    },
    {
     "name": "stderr",
     "output_type": "stream",
     "text": [
      "\n"
     ]
    },
    {
     "name": "stdout",
     "output_type": "stream",
     "text": [
      "\u001b[32m[0922 12:24:03 @monitor.py:467]\u001b[0m GAN_loss/discrim/accuracy_real: 0.225\n",
      "\u001b[32m[0922 12:24:03 @monitor.py:467]\u001b[0m GAN_loss/discrim/loss: 0.63396\n",
      "\u001b[32m[0922 12:24:03 @monitor.py:467]\u001b[0m GAN_loss/gen/final-g-loss: 1.3033\n",
      "\u001b[32m[0922 12:24:03 @monitor.py:467]\u001b[0m GAN_loss/gen/klloss: 0.21122\n",
      "\u001b[32m[0922 12:24:03 @monitor.py:467]\u001b[0m GAN_loss/gen/loss: 1.0921\n",
      "\u001b[32m[0922 12:24:03 @monitor.py:467]\u001b[0m QueueInput/queue_size: 50\n",
      "\u001b[32m[0922 12:24:03 @base.py:275]\u001b[0m Start Epoch 520 ...\n"
     ]
    },
    {
     "name": "stderr",
     "output_type": "stream",
     "text": [
      "100%|#################################################################################|2000/2000[01:10<00:00,28.19it/s]"
     ]
    },
    {
     "name": "stdout",
     "output_type": "stream",
     "text": [
      "\u001b[32m[0922 12:25:14 @base.py:285]\u001b[0m Epoch 520 (global_step 1040000) finished, time:1 minute 10 seconds.\n",
      "\u001b[32m[0922 12:25:14 @saver.py:79]\u001b[0m Model saved to ../output/LPMC/DATGAN/model\\model-1040000.\n",
      "\u001b[32m[0922 12:25:14 @monitor.py:467]\u001b[0m GAN_loss/discrim/accuracy_fake: 0.895\n",
      "\u001b[32m[0922 12:25:14 @monitor.py:467]\u001b[0m GAN_loss/discrim/accuracy_real: 0.235\n",
      "\u001b[32m[0922 12:25:14 @monitor.py:467]\u001b[0m GAN_loss/discrim/loss: 0.64479\n",
      "\u001b[32m[0922 12:25:14 @monitor.py:467]\u001b[0m GAN_loss/gen/final-g-loss: 1.3086\n"
     ]
    },
    {
     "name": "stderr",
     "output_type": "stream",
     "text": [
      "\n"
     ]
    },
    {
     "name": "stdout",
     "output_type": "stream",
     "text": [
      "\u001b[32m[0922 12:25:14 @monitor.py:467]\u001b[0m GAN_loss/gen/klloss: 0.21178\n",
      "\u001b[32m[0922 12:25:14 @monitor.py:467]\u001b[0m GAN_loss/gen/loss: 1.0969\n",
      "\u001b[32m[0922 12:25:14 @monitor.py:467]\u001b[0m QueueInput/queue_size: 50\n",
      "\u001b[32m[0922 12:25:14 @base.py:275]\u001b[0m Start Epoch 521 ...\n"
     ]
    },
    {
     "name": "stderr",
     "output_type": "stream",
     "text": [
      "100%|#################################################################################|2000/2000[01:11<00:00,28.09it/s]"
     ]
    },
    {
     "name": "stdout",
     "output_type": "stream",
     "text": [
      "\u001b[32m[0922 12:26:26 @base.py:285]\u001b[0m Epoch 521 (global_step 1042000) finished, time:1 minute 11 seconds.\n"
     ]
    },
    {
     "name": "stderr",
     "output_type": "stream",
     "text": [
      "\n"
     ]
    },
    {
     "name": "stdout",
     "output_type": "stream",
     "text": [
      "\u001b[32m[0922 12:26:26 @saver.py:79]\u001b[0m Model saved to ../output/LPMC/DATGAN/model\\model-1042000.\n",
      "\u001b[32m[0922 12:26:26 @monitor.py:467]\u001b[0m GAN_loss/discrim/accuracy_fake: 0.895\n",
      "\u001b[32m[0922 12:26:26 @monitor.py:467]\u001b[0m GAN_loss/discrim/accuracy_real: 0.22\n",
      "\u001b[32m[0922 12:26:26 @monitor.py:467]\u001b[0m GAN_loss/discrim/loss: 0.63768\n",
      "\u001b[32m[0922 12:26:26 @monitor.py:467]\u001b[0m GAN_loss/gen/final-g-loss: 1.5251\n",
      "\u001b[32m[0922 12:26:26 @monitor.py:467]\u001b[0m GAN_loss/gen/klloss: 0.43665\n",
      "\u001b[32m[0922 12:26:26 @monitor.py:467]\u001b[0m GAN_loss/gen/loss: 1.0884\n",
      "\u001b[32m[0922 12:26:26 @monitor.py:467]\u001b[0m QueueInput/queue_size: 50\n",
      "\u001b[32m[0922 12:26:26 @base.py:275]\u001b[0m Start Epoch 522 ...\n"
     ]
    },
    {
     "name": "stderr",
     "output_type": "stream",
     "text": [
      "100%|#################################################################################|2000/2000[01:10<00:00,28.43it/s]"
     ]
    },
    {
     "name": "stdout",
     "output_type": "stream",
     "text": [
      "\u001b[32m[0922 12:27:36 @base.py:285]\u001b[0m Epoch 522 (global_step 1044000) finished, time:1 minute 10 seconds.\n",
      "\u001b[32m[0922 12:27:36 @saver.py:79]\u001b[0m Model saved to ../output/LPMC/DATGAN/model\\model-1044000.\n",
      "\u001b[32m[0922 12:27:36 @monitor.py:467]\u001b[0m GAN_loss/discrim/accuracy_fake: 0.885\n"
     ]
    },
    {
     "name": "stderr",
     "output_type": "stream",
     "text": [
      "\n"
     ]
    },
    {
     "name": "stdout",
     "output_type": "stream",
     "text": [
      "\u001b[32m[0922 12:27:36 @monitor.py:467]\u001b[0m GAN_loss/discrim/accuracy_real: 0.2\n",
      "\u001b[32m[0922 12:27:36 @monitor.py:467]\u001b[0m GAN_loss/discrim/loss: 0.64165\n",
      "\u001b[32m[0922 12:27:36 @monitor.py:467]\u001b[0m GAN_loss/gen/final-g-loss: 1.4002\n",
      "\u001b[32m[0922 12:27:36 @monitor.py:467]\u001b[0m GAN_loss/gen/klloss: 0.32587\n",
      "\u001b[32m[0922 12:27:36 @monitor.py:467]\u001b[0m GAN_loss/gen/loss: 1.0743\n",
      "\u001b[32m[0922 12:27:36 @monitor.py:467]\u001b[0m QueueInput/queue_size: 50\n",
      "\u001b[32m[0922 12:27:36 @base.py:275]\u001b[0m Start Epoch 523 ...\n"
     ]
    },
    {
     "name": "stderr",
     "output_type": "stream",
     "text": [
      "100%|#################################################################################|2000/2000[01:10<00:00,28.33it/s]"
     ]
    },
    {
     "name": "stdout",
     "output_type": "stream",
     "text": [
      "\u001b[32m[0922 12:28:47 @base.py:285]\u001b[0m Epoch 523 (global_step 1046000) finished, time:1 minute 10 seconds.\n",
      "\u001b[32m[0922 12:28:47 @saver.py:79]\u001b[0m Model saved to ../output/LPMC/DATGAN/model\\model-1046000.\n"
     ]
    },
    {
     "name": "stderr",
     "output_type": "stream",
     "text": [
      "\n"
     ]
    },
    {
     "name": "stdout",
     "output_type": "stream",
     "text": [
      "\u001b[32m[0922 12:28:47 @monitor.py:467]\u001b[0m GAN_loss/discrim/accuracy_fake: 0.925\n",
      "\u001b[32m[0922 12:28:47 @monitor.py:467]\u001b[0m GAN_loss/discrim/accuracy_real: 0.215\n",
      "\u001b[32m[0922 12:28:47 @monitor.py:467]\u001b[0m GAN_loss/discrim/loss: 0.63154\n",
      "\u001b[32m[0922 12:28:47 @monitor.py:467]\u001b[0m GAN_loss/gen/final-g-loss: 1.3375\n",
      "\u001b[32m[0922 12:28:47 @monitor.py:467]\u001b[0m GAN_loss/gen/klloss: 0.23286\n",
      "\u001b[32m[0922 12:28:47 @monitor.py:467]\u001b[0m GAN_loss/gen/loss: 1.1046\n",
      "\u001b[32m[0922 12:28:47 @monitor.py:467]\u001b[0m QueueInput/queue_size: 50\n",
      "\u001b[32m[0922 12:28:47 @base.py:275]\u001b[0m Start Epoch 524 ...\n"
     ]
    },
    {
     "name": "stderr",
     "output_type": "stream",
     "text": [
      "100%|#################################################################################|2000/2000[01:10<00:00,28.23it/s]"
     ]
    },
    {
     "name": "stdout",
     "output_type": "stream",
     "text": [
      "\u001b[32m[0922 12:29:58 @base.py:285]\u001b[0m Epoch 524 (global_step 1048000) finished, time:1 minute 10 seconds.\n",
      "\u001b[32m[0922 12:29:58 @saver.py:79]\u001b[0m Model saved to ../output/LPMC/DATGAN/model\\model-1048000.\n",
      "\u001b[32m[0922 12:29:58 @monitor.py:467]\u001b[0m GAN_loss/discrim/accuracy_fake: 0.855\n"
     ]
    },
    {
     "name": "stderr",
     "output_type": "stream",
     "text": [
      "\n"
     ]
    },
    {
     "name": "stdout",
     "output_type": "stream",
     "text": [
      "\u001b[32m[0922 12:29:58 @monitor.py:467]\u001b[0m GAN_loss/discrim/accuracy_real: 0.25\n",
      "\u001b[32m[0922 12:29:58 @monitor.py:467]\u001b[0m GAN_loss/discrim/loss: 0.64312\n",
      "\u001b[32m[0922 12:29:58 @monitor.py:467]\u001b[0m GAN_loss/gen/final-g-loss: 1.3336\n",
      "\u001b[32m[0922 12:29:58 @monitor.py:467]\u001b[0m GAN_loss/gen/klloss: 0.23314\n",
      "\u001b[32m[0922 12:29:58 @monitor.py:467]\u001b[0m GAN_loss/gen/loss: 1.1005\n",
      "\u001b[32m[0922 12:29:58 @monitor.py:467]\u001b[0m QueueInput/queue_size: 50\n",
      "\u001b[32m[0922 12:29:58 @base.py:275]\u001b[0m Start Epoch 525 ...\n"
     ]
    },
    {
     "name": "stderr",
     "output_type": "stream",
     "text": [
      "100%|#################################################################################|2000/2000[01:11<00:00,28.13it/s]"
     ]
    },
    {
     "name": "stdout",
     "output_type": "stream",
     "text": [
      "\u001b[32m[0922 12:31:09 @base.py:285]\u001b[0m Epoch 525 (global_step 1050000) finished, time:1 minute 11 seconds.\n",
      "\u001b[32m[0922 12:31:09 @saver.py:79]\u001b[0m Model saved to ../output/LPMC/DATGAN/model\\model-1050000.\n",
      "\u001b[32m[0922 12:31:09 @monitor.py:467]\u001b[0m GAN_loss/discrim/accuracy_fake: 0.895\n"
     ]
    },
    {
     "name": "stderr",
     "output_type": "stream",
     "text": [
      "\n"
     ]
    },
    {
     "name": "stdout",
     "output_type": "stream",
     "text": [
      "\u001b[32m[0922 12:31:09 @monitor.py:467]\u001b[0m GAN_loss/discrim/accuracy_real: 0.245\n",
      "\u001b[32m[0922 12:31:09 @monitor.py:467]\u001b[0m GAN_loss/discrim/loss: 0.64074\n",
      "\u001b[32m[0922 12:31:09 @monitor.py:467]\u001b[0m GAN_loss/gen/final-g-loss: 1.2908\n",
      "\u001b[32m[0922 12:31:09 @monitor.py:467]\u001b[0m GAN_loss/gen/klloss: 0.22338\n",
      "\u001b[32m[0922 12:31:09 @monitor.py:467]\u001b[0m GAN_loss/gen/loss: 1.0674\n",
      "\u001b[32m[0922 12:31:09 @monitor.py:467]\u001b[0m QueueInput/queue_size: 50\n",
      "\u001b[32m[0922 12:31:09 @base.py:275]\u001b[0m Start Epoch 526 ...\n"
     ]
    },
    {
     "name": "stderr",
     "output_type": "stream",
     "text": [
      "100%|#################################################################################|2000/2000[01:10<00:00,28.20it/s]"
     ]
    },
    {
     "name": "stdout",
     "output_type": "stream",
     "text": [
      "\u001b[32m[0922 12:32:20 @base.py:285]\u001b[0m Epoch 526 (global_step 1052000) finished, time:1 minute 10 seconds.\n",
      "\u001b[32m[0922 12:32:20 @saver.py:79]\u001b[0m Model saved to ../output/LPMC/DATGAN/model\\model-1052000.\n",
      "\u001b[32m[0922 12:32:21 @monitor.py:467]\u001b[0m GAN_loss/discrim/accuracy_fake: 0.89\n"
     ]
    },
    {
     "name": "stderr",
     "output_type": "stream",
     "text": [
      "\n"
     ]
    },
    {
     "name": "stdout",
     "output_type": "stream",
     "text": [
      "\u001b[32m[0922 12:32:21 @monitor.py:467]\u001b[0m GAN_loss/discrim/accuracy_real: 0.24\n",
      "\u001b[32m[0922 12:32:21 @monitor.py:467]\u001b[0m GAN_loss/discrim/loss: 0.63634\n",
      "\u001b[32m[0922 12:32:21 @monitor.py:467]\u001b[0m GAN_loss/gen/final-g-loss: 1.2864\n",
      "\u001b[32m[0922 12:32:21 @monitor.py:467]\u001b[0m GAN_loss/gen/klloss: 0.18488\n",
      "\u001b[32m[0922 12:32:21 @monitor.py:467]\u001b[0m GAN_loss/gen/loss: 1.1015\n",
      "\u001b[32m[0922 12:32:21 @monitor.py:467]\u001b[0m QueueInput/queue_size: 50\n",
      "\u001b[32m[0922 12:32:21 @base.py:275]\u001b[0m Start Epoch 527 ...\n"
     ]
    },
    {
     "name": "stderr",
     "output_type": "stream",
     "text": [
      "100%|#################################################################################|2000/2000[01:10<00:00,28.29it/s]"
     ]
    },
    {
     "name": "stdout",
     "output_type": "stream",
     "text": [
      "\u001b[32m[0922 12:33:31 @base.py:285]\u001b[0m Epoch 527 (global_step 1054000) finished, time:1 minute 10 seconds.\n",
      "\u001b[32m[0922 12:33:31 @saver.py:79]\u001b[0m Model saved to ../output/LPMC/DATGAN/model\\model-1054000.\n"
     ]
    },
    {
     "name": "stderr",
     "output_type": "stream",
     "text": [
      "\n"
     ]
    },
    {
     "name": "stdout",
     "output_type": "stream",
     "text": [
      "\u001b[32m[0922 12:33:31 @monitor.py:467]\u001b[0m GAN_loss/discrim/accuracy_fake: 0.9\n",
      "\u001b[32m[0922 12:33:31 @monitor.py:467]\u001b[0m GAN_loss/discrim/accuracy_real: 0.2\n",
      "\u001b[32m[0922 12:33:31 @monitor.py:467]\u001b[0m GAN_loss/discrim/loss: 0.64433\n",
      "\u001b[32m[0922 12:33:31 @monitor.py:467]\u001b[0m GAN_loss/gen/final-g-loss: 1.2533\n",
      "\u001b[32m[0922 12:33:31 @monitor.py:467]\u001b[0m GAN_loss/gen/klloss: 0.16894\n",
      "\u001b[32m[0922 12:33:31 @monitor.py:467]\u001b[0m GAN_loss/gen/loss: 1.0844\n",
      "\u001b[32m[0922 12:33:31 @monitor.py:467]\u001b[0m QueueInput/queue_size: 50\n",
      "\u001b[32m[0922 12:33:31 @base.py:275]\u001b[0m Start Epoch 528 ...\n"
     ]
    },
    {
     "name": "stderr",
     "output_type": "stream",
     "text": [
      "100%|#################################################################################|2000/2000[01:10<00:00,28.26it/s]"
     ]
    },
    {
     "name": "stdout",
     "output_type": "stream",
     "text": [
      "\u001b[32m[0922 12:34:42 @base.py:285]\u001b[0m Epoch 528 (global_step 1056000) finished, time:1 minute 10 seconds.\n",
      "\u001b[32m[0922 12:34:42 @saver.py:79]\u001b[0m Model saved to ../output/LPMC/DATGAN/model\\model-1056000.\n"
     ]
    },
    {
     "name": "stderr",
     "output_type": "stream",
     "text": [
      "\n"
     ]
    },
    {
     "name": "stdout",
     "output_type": "stream",
     "text": [
      "\u001b[32m[0922 12:34:42 @monitor.py:467]\u001b[0m GAN_loss/discrim/accuracy_fake: 0.89\n",
      "\u001b[32m[0922 12:34:42 @monitor.py:467]\u001b[0m GAN_loss/discrim/accuracy_real: 0.22\n",
      "\u001b[32m[0922 12:34:42 @monitor.py:467]\u001b[0m GAN_loss/discrim/loss: 0.64524\n",
      "\u001b[32m[0922 12:34:42 @monitor.py:467]\u001b[0m GAN_loss/gen/final-g-loss: 1.2801\n",
      "\u001b[32m[0922 12:34:42 @monitor.py:467]\u001b[0m GAN_loss/gen/klloss: 0.22683\n",
      "\u001b[32m[0922 12:34:42 @monitor.py:467]\u001b[0m GAN_loss/gen/loss: 1.0532\n",
      "\u001b[32m[0922 12:34:42 @monitor.py:467]\u001b[0m QueueInput/queue_size: 50\n",
      "\u001b[32m[0922 12:34:42 @base.py:275]\u001b[0m Start Epoch 529 ...\n"
     ]
    },
    {
     "name": "stderr",
     "output_type": "stream",
     "text": [
      "100%|#################################################################################|2000/2000[01:10<00:00,28.29it/s]"
     ]
    },
    {
     "name": "stdout",
     "output_type": "stream",
     "text": [
      "\u001b[32m[0922 12:35:53 @base.py:285]\u001b[0m Epoch 529 (global_step 1058000) finished, time:1 minute 10 seconds.\n"
     ]
    },
    {
     "name": "stderr",
     "output_type": "stream",
     "text": [
      "\n"
     ]
    },
    {
     "name": "stdout",
     "output_type": "stream",
     "text": [
      "\u001b[32m[0922 12:35:53 @saver.py:79]\u001b[0m Model saved to ../output/LPMC/DATGAN/model\\model-1058000.\n",
      "\u001b[32m[0922 12:35:53 @monitor.py:467]\u001b[0m GAN_loss/discrim/accuracy_fake: 0.865\n",
      "\u001b[32m[0922 12:35:53 @monitor.py:467]\u001b[0m GAN_loss/discrim/accuracy_real: 0.19\n",
      "\u001b[32m[0922 12:35:53 @monitor.py:467]\u001b[0m GAN_loss/discrim/loss: 0.65133\n",
      "\u001b[32m[0922 12:35:53 @monitor.py:467]\u001b[0m GAN_loss/gen/final-g-loss: 1.2902\n",
      "\u001b[32m[0922 12:35:53 @monitor.py:467]\u001b[0m GAN_loss/gen/klloss: 0.21116\n",
      "\u001b[32m[0922 12:35:53 @monitor.py:467]\u001b[0m GAN_loss/gen/loss: 1.0791\n",
      "\u001b[32m[0922 12:35:53 @monitor.py:467]\u001b[0m QueueInput/queue_size: 50\n",
      "\u001b[32m[0922 12:35:53 @base.py:275]\u001b[0m Start Epoch 530 ...\n"
     ]
    },
    {
     "name": "stderr",
     "output_type": "stream",
     "text": [
      "100%|#################################################################################|2000/2000[01:10<00:00,28.23it/s]"
     ]
    },
    {
     "name": "stdout",
     "output_type": "stream",
     "text": [
      "\u001b[32m[0922 12:37:04 @base.py:285]\u001b[0m Epoch 530 (global_step 1060000) finished, time:1 minute 10 seconds.\n",
      "\u001b[32m[0922 12:37:04 @saver.py:79]\u001b[0m Model saved to ../output/LPMC/DATGAN/model\\model-1060000.\n",
      "\u001b[32m[0922 12:37:04 @monitor.py:467]\u001b[0m GAN_loss/discrim/accuracy_fake: 0.87\n"
     ]
    },
    {
     "name": "stderr",
     "output_type": "stream",
     "text": [
      "\n"
     ]
    },
    {
     "name": "stdout",
     "output_type": "stream",
     "text": [
      "\u001b[32m[0922 12:37:04 @monitor.py:467]\u001b[0m GAN_loss/discrim/accuracy_real: 0.16\n",
      "\u001b[32m[0922 12:37:04 @monitor.py:467]\u001b[0m GAN_loss/discrim/loss: 0.65064\n",
      "\u001b[32m[0922 12:37:04 @monitor.py:467]\u001b[0m GAN_loss/gen/final-g-loss: 1.307\n",
      "\u001b[32m[0922 12:37:04 @monitor.py:467]\u001b[0m GAN_loss/gen/klloss: 0.21768\n",
      "\u001b[32m[0922 12:37:04 @monitor.py:467]\u001b[0m GAN_loss/gen/loss: 1.0893\n",
      "\u001b[32m[0922 12:37:04 @monitor.py:467]\u001b[0m QueueInput/queue_size: 50\n",
      "\u001b[32m[0922 12:37:04 @base.py:275]\u001b[0m Start Epoch 531 ...\n"
     ]
    },
    {
     "name": "stderr",
     "output_type": "stream",
     "text": [
      "100%|#################################################################################|2000/2000[01:11<00:00,28.14it/s]"
     ]
    },
    {
     "name": "stdout",
     "output_type": "stream",
     "text": [
      "\u001b[32m[0922 12:38:15 @base.py:285]\u001b[0m Epoch 531 (global_step 1062000) finished, time:1 minute 11 seconds.\n",
      "\u001b[32m[0922 12:38:16 @saver.py:79]\u001b[0m Model saved to ../output/LPMC/DATGAN/model\\model-1062000.\n"
     ]
    },
    {
     "name": "stderr",
     "output_type": "stream",
     "text": [
      "\n"
     ]
    },
    {
     "name": "stdout",
     "output_type": "stream",
     "text": [
      "\u001b[32m[0922 12:38:16 @monitor.py:467]\u001b[0m GAN_loss/discrim/accuracy_fake: 0.905\n",
      "\u001b[32m[0922 12:38:16 @monitor.py:467]\u001b[0m GAN_loss/discrim/accuracy_real: 0.17\n",
      "\u001b[32m[0922 12:38:16 @monitor.py:467]\u001b[0m GAN_loss/discrim/loss: 0.63646\n",
      "\u001b[32m[0922 12:38:16 @monitor.py:467]\u001b[0m GAN_loss/gen/final-g-loss: 1.285\n",
      "\u001b[32m[0922 12:38:16 @monitor.py:467]\u001b[0m GAN_loss/gen/klloss: 0.21059\n",
      "\u001b[32m[0922 12:38:16 @monitor.py:467]\u001b[0m GAN_loss/gen/loss: 1.0744\n",
      "\u001b[32m[0922 12:38:16 @monitor.py:467]\u001b[0m QueueInput/queue_size: 50\n",
      "\u001b[32m[0922 12:38:16 @base.py:275]\u001b[0m Start Epoch 532 ...\n"
     ]
    },
    {
     "name": "stderr",
     "output_type": "stream",
     "text": [
      "100%|#################################################################################|2000/2000[01:11<00:00,28.13it/s]"
     ]
    },
    {
     "name": "stdout",
     "output_type": "stream",
     "text": [
      "\u001b[32m[0922 12:39:27 @base.py:285]\u001b[0m Epoch 532 (global_step 1064000) finished, time:1 minute 11 seconds.\n",
      "\u001b[32m[0922 12:39:27 @saver.py:79]\u001b[0m Model saved to ../output/LPMC/DATGAN/model\\model-1064000.\n",
      "\u001b[32m[0922 12:39:27 @monitor.py:467]\u001b[0m GAN_loss/discrim/accuracy_fake: 0.86\n"
     ]
    },
    {
     "name": "stderr",
     "output_type": "stream",
     "text": [
      "\n"
     ]
    },
    {
     "name": "stdout",
     "output_type": "stream",
     "text": [
      "\u001b[32m[0922 12:39:27 @monitor.py:467]\u001b[0m GAN_loss/discrim/accuracy_real: 0.23\n",
      "\u001b[32m[0922 12:39:27 @monitor.py:467]\u001b[0m GAN_loss/discrim/loss: 0.65045\n",
      "\u001b[32m[0922 12:39:27 @monitor.py:467]\u001b[0m GAN_loss/gen/final-g-loss: 1.3012\n",
      "\u001b[32m[0922 12:39:27 @monitor.py:467]\u001b[0m GAN_loss/gen/klloss: 0.24114\n",
      "\u001b[32m[0922 12:39:27 @monitor.py:467]\u001b[0m GAN_loss/gen/loss: 1.0601\n",
      "\u001b[32m[0922 12:39:27 @monitor.py:467]\u001b[0m QueueInput/queue_size: 50\n",
      "\u001b[32m[0922 12:39:27 @base.py:275]\u001b[0m Start Epoch 533 ...\n"
     ]
    },
    {
     "name": "stderr",
     "output_type": "stream",
     "text": [
      "100%|#################################################################################|2000/2000[01:10<00:00,28.17it/s]"
     ]
    },
    {
     "name": "stdout",
     "output_type": "stream",
     "text": [
      "\u001b[32m[0922 12:40:38 @base.py:285]\u001b[0m Epoch 533 (global_step 1066000) finished, time:1 minute 11 seconds.\n",
      "\u001b[32m[0922 12:40:38 @saver.py:79]\u001b[0m Model saved to ../output/LPMC/DATGAN/model\\model-1066000.\n"
     ]
    },
    {
     "name": "stderr",
     "output_type": "stream",
     "text": [
      "\n"
     ]
    },
    {
     "name": "stdout",
     "output_type": "stream",
     "text": [
      "\u001b[32m[0922 12:40:38 @monitor.py:467]\u001b[0m GAN_loss/discrim/accuracy_fake: 0.9\n",
      "\u001b[32m[0922 12:40:38 @monitor.py:467]\u001b[0m GAN_loss/discrim/accuracy_real: 0.195\n",
      "\u001b[32m[0922 12:40:38 @monitor.py:467]\u001b[0m GAN_loss/discrim/loss: 0.63398\n",
      "\u001b[32m[0922 12:40:38 @monitor.py:467]\u001b[0m GAN_loss/gen/final-g-loss: 1.307\n",
      "\u001b[32m[0922 12:40:38 @monitor.py:467]\u001b[0m GAN_loss/gen/klloss: 0.20202\n",
      "\u001b[32m[0922 12:40:38 @monitor.py:467]\u001b[0m GAN_loss/gen/loss: 1.105\n",
      "\u001b[32m[0922 12:40:38 @monitor.py:467]\u001b[0m QueueInput/queue_size: 50\n",
      "\u001b[32m[0922 12:40:38 @base.py:275]\u001b[0m Start Epoch 534 ...\n"
     ]
    },
    {
     "name": "stderr",
     "output_type": "stream",
     "text": [
      "100%|#################################################################################|2000/2000[01:11<00:00,28.17it/s]"
     ]
    },
    {
     "name": "stdout",
     "output_type": "stream",
     "text": [
      "\u001b[32m[0922 12:41:49 @base.py:285]\u001b[0m Epoch 534 (global_step 1068000) finished, time:1 minute 11 seconds.\n",
      "\u001b[32m[0922 12:41:49 @saver.py:79]\u001b[0m Model saved to ../output/LPMC/DATGAN/model\\model-1068000.\n"
     ]
    },
    {
     "name": "stderr",
     "output_type": "stream",
     "text": [
      "\n"
     ]
    },
    {
     "name": "stdout",
     "output_type": "stream",
     "text": [
      "\u001b[32m[0922 12:41:49 @monitor.py:467]\u001b[0m GAN_loss/discrim/accuracy_fake: 0.87\n",
      "\u001b[32m[0922 12:41:49 @monitor.py:467]\u001b[0m GAN_loss/discrim/accuracy_real: 0.265\n",
      "\u001b[32m[0922 12:41:49 @monitor.py:467]\u001b[0m GAN_loss/discrim/loss: 0.63856\n",
      "\u001b[32m[0922 12:41:49 @monitor.py:467]\u001b[0m GAN_loss/gen/final-g-loss: 1.3315\n",
      "\u001b[32m[0922 12:41:49 @monitor.py:467]\u001b[0m GAN_loss/gen/klloss: 0.27393\n",
      "\u001b[32m[0922 12:41:49 @monitor.py:467]\u001b[0m GAN_loss/gen/loss: 1.0575\n",
      "\u001b[32m[0922 12:41:49 @monitor.py:467]\u001b[0m QueueInput/queue_size: 50\n",
      "\u001b[32m[0922 12:41:49 @base.py:275]\u001b[0m Start Epoch 535 ...\n"
     ]
    },
    {
     "name": "stderr",
     "output_type": "stream",
     "text": [
      "100%|#################################################################################|2000/2000[01:10<00:00,28.32it/s]"
     ]
    },
    {
     "name": "stdout",
     "output_type": "stream",
     "text": [
      "\u001b[32m[0922 12:43:00 @base.py:285]\u001b[0m Epoch 535 (global_step 1070000) finished, time:1 minute 10 seconds.\n",
      "\u001b[32m[0922 12:43:00 @saver.py:79]\u001b[0m Model saved to ../output/LPMC/DATGAN/model\\model-1070000.\n"
     ]
    },
    {
     "name": "stderr",
     "output_type": "stream",
     "text": [
      "\n"
     ]
    },
    {
     "name": "stdout",
     "output_type": "stream",
     "text": [
      "\u001b[32m[0922 12:43:00 @monitor.py:467]\u001b[0m GAN_loss/discrim/accuracy_fake: 0.885\n",
      "\u001b[32m[0922 12:43:00 @monitor.py:467]\u001b[0m GAN_loss/discrim/accuracy_real: 0.2\n",
      "\u001b[32m[0922 12:43:00 @monitor.py:467]\u001b[0m GAN_loss/discrim/loss: 0.6408\n",
      "\u001b[32m[0922 12:43:00 @monitor.py:467]\u001b[0m GAN_loss/gen/final-g-loss: 1.3878\n",
      "\u001b[32m[0922 12:43:00 @monitor.py:467]\u001b[0m GAN_loss/gen/klloss: 0.29706\n",
      "\u001b[32m[0922 12:43:00 @monitor.py:467]\u001b[0m GAN_loss/gen/loss: 1.0908\n",
      "\u001b[32m[0922 12:43:00 @monitor.py:467]\u001b[0m QueueInput/queue_size: 50\n",
      "\u001b[32m[0922 12:43:00 @base.py:275]\u001b[0m Start Epoch 536 ...\n"
     ]
    },
    {
     "name": "stderr",
     "output_type": "stream",
     "text": [
      "100%|#################################################################################|2000/2000[01:10<00:00,28.23it/s]"
     ]
    },
    {
     "name": "stdout",
     "output_type": "stream",
     "text": [
      "\u001b[32m[0922 12:44:11 @base.py:285]\u001b[0m Epoch 536 (global_step 1072000) finished, time:1 minute 10 seconds.\n"
     ]
    },
    {
     "name": "stderr",
     "output_type": "stream",
     "text": [
      "\n"
     ]
    },
    {
     "name": "stdout",
     "output_type": "stream",
     "text": [
      "\u001b[32m[0922 12:44:11 @saver.py:79]\u001b[0m Model saved to ../output/LPMC/DATGAN/model\\model-1072000.\n",
      "\u001b[32m[0922 12:44:11 @monitor.py:467]\u001b[0m GAN_loss/discrim/accuracy_fake: 0.915\n",
      "\u001b[32m[0922 12:44:11 @monitor.py:467]\u001b[0m GAN_loss/discrim/accuracy_real: 0.225\n",
      "\u001b[32m[0922 12:44:11 @monitor.py:467]\u001b[0m GAN_loss/discrim/loss: 0.63846\n",
      "\u001b[32m[0922 12:44:11 @monitor.py:467]\u001b[0m GAN_loss/gen/final-g-loss: 1.2891\n",
      "\u001b[32m[0922 12:44:11 @monitor.py:467]\u001b[0m GAN_loss/gen/klloss: 0.21213\n",
      "\u001b[32m[0922 12:44:11 @monitor.py:467]\u001b[0m GAN_loss/gen/loss: 1.077\n",
      "\u001b[32m[0922 12:44:11 @monitor.py:467]\u001b[0m QueueInput/queue_size: 50\n",
      "\u001b[32m[0922 12:44:11 @base.py:275]\u001b[0m Start Epoch 537 ...\n"
     ]
    },
    {
     "name": "stderr",
     "output_type": "stream",
     "text": [
      "100%|#################################################################################|2000/2000[01:10<00:00,28.32it/s]"
     ]
    },
    {
     "name": "stdout",
     "output_type": "stream",
     "text": [
      "\u001b[32m[0922 12:45:22 @base.py:285]\u001b[0m Epoch 537 (global_step 1074000) finished, time:1 minute 10 seconds.\n",
      "\u001b[32m[0922 12:45:22 @saver.py:79]\u001b[0m Model saved to ../output/LPMC/DATGAN/model\\model-1074000.\n",
      "\u001b[32m[0922 12:45:22 @monitor.py:467]\u001b[0m GAN_loss/discrim/accuracy_fake: 0.905\n"
     ]
    },
    {
     "name": "stderr",
     "output_type": "stream",
     "text": [
      "\n"
     ]
    },
    {
     "name": "stdout",
     "output_type": "stream",
     "text": [
      "\u001b[32m[0922 12:45:22 @monitor.py:467]\u001b[0m GAN_loss/discrim/accuracy_real: 0.215\n",
      "\u001b[32m[0922 12:45:22 @monitor.py:467]\u001b[0m GAN_loss/discrim/loss: 0.64476\n",
      "\u001b[32m[0922 12:45:22 @monitor.py:467]\u001b[0m GAN_loss/gen/final-g-loss: 1.3246\n",
      "\u001b[32m[0922 12:45:22 @monitor.py:467]\u001b[0m GAN_loss/gen/klloss: 0.23738\n",
      "\u001b[32m[0922 12:45:22 @monitor.py:467]\u001b[0m GAN_loss/gen/loss: 1.0872\n",
      "\u001b[32m[0922 12:45:22 @monitor.py:467]\u001b[0m QueueInput/queue_size: 50\n",
      "\u001b[32m[0922 12:45:22 @base.py:275]\u001b[0m Start Epoch 538 ...\n"
     ]
    },
    {
     "name": "stderr",
     "output_type": "stream",
     "text": [
      "100%|#################################################################################|2000/2000[01:11<00:00,28.11it/s]"
     ]
    },
    {
     "name": "stdout",
     "output_type": "stream",
     "text": [
      "\u001b[32m[0922 12:46:33 @base.py:285]\u001b[0m Epoch 538 (global_step 1076000) finished, time:1 minute 11 seconds.\n",
      "\u001b[32m[0922 12:46:33 @saver.py:79]\u001b[0m Model saved to ../output/LPMC/DATGAN/model\\model-1076000.\n"
     ]
    },
    {
     "name": "stderr",
     "output_type": "stream",
     "text": [
      "\n"
     ]
    },
    {
     "name": "stdout",
     "output_type": "stream",
     "text": [
      "\u001b[32m[0922 12:46:33 @monitor.py:467]\u001b[0m GAN_loss/discrim/accuracy_fake: 0.89\n",
      "\u001b[32m[0922 12:46:33 @monitor.py:467]\u001b[0m GAN_loss/discrim/accuracy_real: 0.215\n",
      "\u001b[32m[0922 12:46:33 @monitor.py:467]\u001b[0m GAN_loss/discrim/loss: 0.6363\n",
      "\u001b[32m[0922 12:46:33 @monitor.py:467]\u001b[0m GAN_loss/gen/final-g-loss: 1.3259\n",
      "\u001b[32m[0922 12:46:33 @monitor.py:467]\u001b[0m GAN_loss/gen/klloss: 0.2421\n",
      "\u001b[32m[0922 12:46:33 @monitor.py:467]\u001b[0m GAN_loss/gen/loss: 1.0838\n",
      "\u001b[32m[0922 12:46:33 @monitor.py:467]\u001b[0m QueueInput/queue_size: 50\n",
      "\u001b[32m[0922 12:46:33 @base.py:275]\u001b[0m Start Epoch 539 ...\n"
     ]
    },
    {
     "name": "stderr",
     "output_type": "stream",
     "text": [
      "100%|#################################################################################|2000/2000[01:10<00:00,28.20it/s]"
     ]
    },
    {
     "name": "stdout",
     "output_type": "stream",
     "text": [
      "\u001b[32m[0922 12:47:44 @base.py:285]\u001b[0m Epoch 539 (global_step 1078000) finished, time:1 minute 10 seconds.\n",
      "\u001b[32m[0922 12:47:44 @saver.py:79]\u001b[0m Model saved to ../output/LPMC/DATGAN/model\\model-1078000.\n",
      "\u001b[32m[0922 12:47:44 @monitor.py:467]\u001b[0m GAN_loss/discrim/accuracy_fake: 0.885\n"
     ]
    },
    {
     "name": "stderr",
     "output_type": "stream",
     "text": [
      "\n"
     ]
    },
    {
     "name": "stdout",
     "output_type": "stream",
     "text": [
      "\u001b[32m[0922 12:47:44 @monitor.py:467]\u001b[0m GAN_loss/discrim/accuracy_real: 0.16\n",
      "\u001b[32m[0922 12:47:44 @monitor.py:467]\u001b[0m GAN_loss/discrim/loss: 0.65323\n",
      "\u001b[32m[0922 12:47:44 @monitor.py:467]\u001b[0m GAN_loss/gen/final-g-loss: 1.3974\n",
      "\u001b[32m[0922 12:47:44 @monitor.py:467]\u001b[0m GAN_loss/gen/klloss: 0.29466\n",
      "\u001b[32m[0922 12:47:44 @monitor.py:467]\u001b[0m GAN_loss/gen/loss: 1.1027\n",
      "\u001b[32m[0922 12:47:44 @monitor.py:467]\u001b[0m QueueInput/queue_size: 50\n",
      "\u001b[32m[0922 12:47:44 @base.py:275]\u001b[0m Start Epoch 540 ...\n"
     ]
    },
    {
     "name": "stderr",
     "output_type": "stream",
     "text": [
      "100%|#################################################################################|2000/2000[01:10<00:00,28.27it/s]"
     ]
    },
    {
     "name": "stdout",
     "output_type": "stream",
     "text": [
      "\u001b[32m[0922 12:48:55 @base.py:285]\u001b[0m Epoch 540 (global_step 1080000) finished, time:1 minute 10 seconds.\n",
      "\u001b[32m[0922 12:48:55 @saver.py:79]\u001b[0m Model saved to ../output/LPMC/DATGAN/model\\model-1080000.\n"
     ]
    },
    {
     "name": "stderr",
     "output_type": "stream",
     "text": [
      "\n"
     ]
    },
    {
     "name": "stdout",
     "output_type": "stream",
     "text": [
      "\u001b[32m[0922 12:48:55 @monitor.py:467]\u001b[0m GAN_loss/discrim/accuracy_fake: 0.9\n",
      "\u001b[32m[0922 12:48:55 @monitor.py:467]\u001b[0m GAN_loss/discrim/accuracy_real: 0.21\n",
      "\u001b[32m[0922 12:48:55 @monitor.py:467]\u001b[0m GAN_loss/discrim/loss: 0.63846\n",
      "\u001b[32m[0922 12:48:55 @monitor.py:467]\u001b[0m GAN_loss/gen/final-g-loss: 1.221\n",
      "\u001b[32m[0922 12:48:55 @monitor.py:467]\u001b[0m GAN_loss/gen/klloss: 0.14933\n",
      "\u001b[32m[0922 12:48:55 @monitor.py:467]\u001b[0m GAN_loss/gen/loss: 1.0717\n",
      "\u001b[32m[0922 12:48:55 @monitor.py:467]\u001b[0m QueueInput/queue_size: 50\n",
      "\u001b[32m[0922 12:48:55 @base.py:275]\u001b[0m Start Epoch 541 ...\n"
     ]
    },
    {
     "name": "stderr",
     "output_type": "stream",
     "text": [
      "100%|#################################################################################|2000/2000[01:11<00:00,28.17it/s]"
     ]
    },
    {
     "name": "stdout",
     "output_type": "stream",
     "text": [
      "\u001b[32m[0922 12:50:06 @base.py:285]\u001b[0m Epoch 541 (global_step 1082000) finished, time:1 minute 11 seconds.\n",
      "\u001b[32m[0922 12:50:06 @saver.py:79]\u001b[0m Model saved to ../output/LPMC/DATGAN/model\\model-1082000.\n",
      "\u001b[32m[0922 12:50:07 @monitor.py:467]\u001b[0m GAN_loss/discrim/accuracy_fake: 0.875\n"
     ]
    },
    {
     "name": "stderr",
     "output_type": "stream",
     "text": [
      "\n"
     ]
    },
    {
     "name": "stdout",
     "output_type": "stream",
     "text": [
      "\u001b[32m[0922 12:50:07 @monitor.py:467]\u001b[0m GAN_loss/discrim/accuracy_real: 0.2\n",
      "\u001b[32m[0922 12:50:07 @monitor.py:467]\u001b[0m GAN_loss/discrim/loss: 0.64737\n",
      "\u001b[32m[0922 12:50:07 @monitor.py:467]\u001b[0m GAN_loss/gen/final-g-loss: 1.3714\n",
      "\u001b[32m[0922 12:50:07 @monitor.py:467]\u001b[0m GAN_loss/gen/klloss: 0.27989\n",
      "\u001b[32m[0922 12:50:07 @monitor.py:467]\u001b[0m GAN_loss/gen/loss: 1.0915\n",
      "\u001b[32m[0922 12:50:07 @monitor.py:467]\u001b[0m QueueInput/queue_size: 50\n",
      "\u001b[32m[0922 12:50:07 @base.py:275]\u001b[0m Start Epoch 542 ...\n"
     ]
    },
    {
     "name": "stderr",
     "output_type": "stream",
     "text": [
      "100%|#################################################################################|2000/2000[01:10<00:00,28.18it/s]"
     ]
    },
    {
     "name": "stdout",
     "output_type": "stream",
     "text": [
      "\u001b[32m[0922 12:51:18 @base.py:285]\u001b[0m Epoch 542 (global_step 1084000) finished, time:1 minute 10 seconds.\n",
      "\u001b[32m[0922 12:51:18 @saver.py:79]\u001b[0m Model saved to ../output/LPMC/DATGAN/model\\model-1084000.\n",
      "\u001b[32m[0922 12:51:18 @monitor.py:467]\u001b[0m GAN_loss/discrim/accuracy_fake: 0.91\n"
     ]
    },
    {
     "name": "stderr",
     "output_type": "stream",
     "text": [
      "\n"
     ]
    },
    {
     "name": "stdout",
     "output_type": "stream",
     "text": [
      "\u001b[32m[0922 12:51:18 @monitor.py:467]\u001b[0m GAN_loss/discrim/accuracy_real: 0.24\n",
      "\u001b[32m[0922 12:51:18 @monitor.py:467]\u001b[0m GAN_loss/discrim/loss: 0.6483\n",
      "\u001b[32m[0922 12:51:18 @monitor.py:467]\u001b[0m GAN_loss/gen/final-g-loss: 1.3769\n",
      "\u001b[32m[0922 12:51:18 @monitor.py:467]\u001b[0m GAN_loss/gen/klloss: 0.29438\n",
      "\u001b[32m[0922 12:51:18 @monitor.py:467]\u001b[0m GAN_loss/gen/loss: 1.0826\n",
      "\u001b[32m[0922 12:51:18 @monitor.py:467]\u001b[0m QueueInput/queue_size: 50\n",
      "\u001b[32m[0922 12:51:18 @base.py:275]\u001b[0m Start Epoch 543 ...\n"
     ]
    },
    {
     "name": "stderr",
     "output_type": "stream",
     "text": [
      "100%|#################################################################################|2000/2000[01:10<00:00,28.19it/s]"
     ]
    },
    {
     "name": "stdout",
     "output_type": "stream",
     "text": [
      "\u001b[32m[0922 12:52:29 @base.py:285]\u001b[0m Epoch 543 (global_step 1086000) finished, time:1 minute 10 seconds.\n",
      "\u001b[32m[0922 12:52:29 @saver.py:79]\u001b[0m Model saved to ../output/LPMC/DATGAN/model\\model-1086000.\n",
      "\u001b[32m[0922 12:52:29 @monitor.py:467]\u001b[0m GAN_loss/discrim/accuracy_fake: 0.895\n"
     ]
    },
    {
     "name": "stderr",
     "output_type": "stream",
     "text": [
      "\n"
     ]
    },
    {
     "name": "stdout",
     "output_type": "stream",
     "text": [
      "\u001b[32m[0922 12:52:29 @monitor.py:467]\u001b[0m GAN_loss/discrim/accuracy_real: 0.16\n",
      "\u001b[32m[0922 12:52:29 @monitor.py:467]\u001b[0m GAN_loss/discrim/loss: 0.63642\n",
      "\u001b[32m[0922 12:52:29 @monitor.py:467]\u001b[0m GAN_loss/gen/final-g-loss: 1.5915\n",
      "\u001b[32m[0922 12:52:29 @monitor.py:467]\u001b[0m GAN_loss/gen/klloss: 0.49613\n",
      "\u001b[32m[0922 12:52:29 @monitor.py:467]\u001b[0m GAN_loss/gen/loss: 1.0953\n",
      "\u001b[32m[0922 12:52:29 @monitor.py:467]\u001b[0m QueueInput/queue_size: 50\n",
      "\u001b[32m[0922 12:52:29 @base.py:275]\u001b[0m Start Epoch 544 ...\n"
     ]
    },
    {
     "name": "stderr",
     "output_type": "stream",
     "text": [
      "100%|#################################################################################|2000/2000[01:10<00:00,28.17it/s]"
     ]
    },
    {
     "name": "stdout",
     "output_type": "stream",
     "text": [
      "\u001b[32m[0922 12:53:40 @base.py:285]\u001b[0m Epoch 544 (global_step 1088000) finished, time:1 minute 10 seconds.\n",
      "\u001b[32m[0922 12:53:40 @saver.py:79]\u001b[0m Model saved to ../output/LPMC/DATGAN/model\\model-1088000.\n",
      "\u001b[32m[0922 12:53:40 @monitor.py:467]\u001b[0m GAN_loss/discrim/accuracy_fake: 0.9\n"
     ]
    },
    {
     "name": "stderr",
     "output_type": "stream",
     "text": [
      "\n"
     ]
    },
    {
     "name": "stdout",
     "output_type": "stream",
     "text": [
      "\u001b[32m[0922 12:53:40 @monitor.py:467]\u001b[0m GAN_loss/discrim/accuracy_real: 0.19\n",
      "\u001b[32m[0922 12:53:40 @monitor.py:467]\u001b[0m GAN_loss/discrim/loss: 0.64257\n",
      "\u001b[32m[0922 12:53:40 @monitor.py:467]\u001b[0m GAN_loss/gen/final-g-loss: 1.3147\n",
      "\u001b[32m[0922 12:53:40 @monitor.py:467]\u001b[0m GAN_loss/gen/klloss: 0.21137\n",
      "\u001b[32m[0922 12:53:40 @monitor.py:467]\u001b[0m GAN_loss/gen/loss: 1.1033\n",
      "\u001b[32m[0922 12:53:40 @monitor.py:467]\u001b[0m QueueInput/queue_size: 50\n",
      "\u001b[32m[0922 12:53:40 @base.py:275]\u001b[0m Start Epoch 545 ...\n"
     ]
    },
    {
     "name": "stderr",
     "output_type": "stream",
     "text": [
      "100%|#################################################################################|2000/2000[01:10<00:00,28.31it/s]"
     ]
    },
    {
     "name": "stdout",
     "output_type": "stream",
     "text": [
      "\u001b[32m[0922 12:54:51 @base.py:285]\u001b[0m Epoch 545 (global_step 1090000) finished, time:1 minute 10 seconds.\n",
      "\u001b[32m[0922 12:54:51 @saver.py:79]\u001b[0m Model saved to ../output/LPMC/DATGAN/model\\model-1090000.\n",
      "\u001b[32m[0922 12:54:51 @monitor.py:467]\u001b[0m GAN_loss/discrim/accuracy_fake: 0.865\n"
     ]
    },
    {
     "name": "stderr",
     "output_type": "stream",
     "text": [
      "\n"
     ]
    },
    {
     "name": "stdout",
     "output_type": "stream",
     "text": [
      "\u001b[32m[0922 12:54:51 @monitor.py:467]\u001b[0m GAN_loss/discrim/accuracy_real: 0.2\n",
      "\u001b[32m[0922 12:54:51 @monitor.py:467]\u001b[0m GAN_loss/discrim/loss: 0.63716\n",
      "\u001b[32m[0922 12:54:51 @monitor.py:467]\u001b[0m GAN_loss/gen/final-g-loss: 1.3025\n",
      "\u001b[32m[0922 12:54:51 @monitor.py:467]\u001b[0m GAN_loss/gen/klloss: 0.22943\n",
      "\u001b[32m[0922 12:54:51 @monitor.py:467]\u001b[0m GAN_loss/gen/loss: 1.0731\n",
      "\u001b[32m[0922 12:54:51 @monitor.py:467]\u001b[0m QueueInput/queue_size: 50\n",
      "\u001b[32m[0922 12:54:51 @base.py:275]\u001b[0m Start Epoch 546 ...\n"
     ]
    },
    {
     "name": "stderr",
     "output_type": "stream",
     "text": [
      "100%|#################################################################################|2000/2000[01:10<00:00,28.42it/s]"
     ]
    },
    {
     "name": "stdout",
     "output_type": "stream",
     "text": [
      "\u001b[32m[0922 12:56:01 @base.py:285]\u001b[0m Epoch 546 (global_step 1092000) finished, time:1 minute 10 seconds.\n",
      "\u001b[32m[0922 12:56:01 @saver.py:79]\u001b[0m Model saved to ../output/LPMC/DATGAN/model\\model-1092000.\n",
      "\u001b[32m[0922 12:56:02 @monitor.py:467]\u001b[0m GAN_loss/discrim/accuracy_fake: 0.88\n"
     ]
    },
    {
     "name": "stderr",
     "output_type": "stream",
     "text": [
      "\n"
     ]
    },
    {
     "name": "stdout",
     "output_type": "stream",
     "text": [
      "\u001b[32m[0922 12:56:02 @monitor.py:467]\u001b[0m GAN_loss/discrim/accuracy_real: 0.175\n",
      "\u001b[32m[0922 12:56:02 @monitor.py:467]\u001b[0m GAN_loss/discrim/loss: 0.64993\n",
      "\u001b[32m[0922 12:56:02 @monitor.py:467]\u001b[0m GAN_loss/gen/final-g-loss: 1.3443\n",
      "\u001b[32m[0922 12:56:02 @monitor.py:467]\u001b[0m GAN_loss/gen/klloss: 0.26942\n",
      "\u001b[32m[0922 12:56:02 @monitor.py:467]\u001b[0m GAN_loss/gen/loss: 1.0749\n",
      "\u001b[32m[0922 12:56:02 @monitor.py:467]\u001b[0m QueueInput/queue_size: 50\n",
      "\u001b[32m[0922 12:56:02 @base.py:275]\u001b[0m Start Epoch 547 ...\n"
     ]
    },
    {
     "name": "stderr",
     "output_type": "stream",
     "text": [
      "100%|#################################################################################|2000/2000[01:10<00:00,28.25it/s]"
     ]
    },
    {
     "name": "stdout",
     "output_type": "stream",
     "text": [
      "\u001b[32m[0922 12:57:12 @base.py:285]\u001b[0m Epoch 547 (global_step 1094000) finished, time:1 minute 10 seconds.\n",
      "\u001b[32m[0922 12:57:12 @saver.py:79]\u001b[0m Model saved to ../output/LPMC/DATGAN/model\\model-1094000.\n",
      "\u001b[32m[0922 12:57:13 @monitor.py:467]\u001b[0m GAN_loss/discrim/accuracy_fake: 0.88\n"
     ]
    },
    {
     "name": "stderr",
     "output_type": "stream",
     "text": [
      "\n"
     ]
    },
    {
     "name": "stdout",
     "output_type": "stream",
     "text": [
      "\u001b[32m[0922 12:57:13 @monitor.py:467]\u001b[0m GAN_loss/discrim/accuracy_real: 0.27\n",
      "\u001b[32m[0922 12:57:13 @monitor.py:467]\u001b[0m GAN_loss/discrim/loss: 0.63429\n",
      "\u001b[32m[0922 12:57:13 @monitor.py:467]\u001b[0m GAN_loss/gen/final-g-loss: 1.3146\n",
      "\u001b[32m[0922 12:57:13 @monitor.py:467]\u001b[0m GAN_loss/gen/klloss: 0.24438\n",
      "\u001b[32m[0922 12:57:13 @monitor.py:467]\u001b[0m GAN_loss/gen/loss: 1.0702\n",
      "\u001b[32m[0922 12:57:13 @monitor.py:467]\u001b[0m QueueInput/queue_size: 50\n",
      "\u001b[32m[0922 12:57:13 @base.py:275]\u001b[0m Start Epoch 548 ...\n"
     ]
    },
    {
     "name": "stderr",
     "output_type": "stream",
     "text": [
      "100%|#################################################################################|2000/2000[01:10<00:00,28.31it/s]"
     ]
    },
    {
     "name": "stdout",
     "output_type": "stream",
     "text": [
      "\u001b[32m[0922 12:58:23 @base.py:285]\u001b[0m Epoch 548 (global_step 1096000) finished, time:1 minute 10 seconds.\n",
      "\u001b[32m[0922 12:58:23 @saver.py:79]\u001b[0m Model saved to ../output/LPMC/DATGAN/model\\model-1096000.\n",
      "\u001b[32m[0922 12:58:23 @monitor.py:467]\u001b[0m GAN_loss/discrim/accuracy_fake: 0.89\n"
     ]
    },
    {
     "name": "stderr",
     "output_type": "stream",
     "text": [
      "\n"
     ]
    },
    {
     "name": "stdout",
     "output_type": "stream",
     "text": [
      "\u001b[32m[0922 12:58:23 @monitor.py:467]\u001b[0m GAN_loss/discrim/accuracy_real: 0.22\n",
      "\u001b[32m[0922 12:58:23 @monitor.py:467]\u001b[0m GAN_loss/discrim/loss: 0.62875\n",
      "\u001b[32m[0922 12:58:23 @monitor.py:467]\u001b[0m GAN_loss/gen/final-g-loss: 1.3035\n",
      "\u001b[32m[0922 12:58:23 @monitor.py:467]\u001b[0m GAN_loss/gen/klloss: 0.18922\n",
      "\u001b[32m[0922 12:58:23 @monitor.py:467]\u001b[0m GAN_loss/gen/loss: 1.1143\n",
      "\u001b[32m[0922 12:58:23 @monitor.py:467]\u001b[0m QueueInput/queue_size: 50\n",
      "\u001b[32m[0922 12:58:23 @base.py:275]\u001b[0m Start Epoch 549 ...\n"
     ]
    },
    {
     "name": "stderr",
     "output_type": "stream",
     "text": [
      "100%|#################################################################################|2000/2000[01:11<00:00,28.09it/s]"
     ]
    },
    {
     "name": "stdout",
     "output_type": "stream",
     "text": [
      "\u001b[32m[0922 12:59:35 @base.py:285]\u001b[0m Epoch 549 (global_step 1098000) finished, time:1 minute 11 seconds.\n",
      "\u001b[32m[0922 12:59:35 @saver.py:79]\u001b[0m Model saved to ../output/LPMC/DATGAN/model\\model-1098000.\n",
      "\u001b[32m[0922 12:59:35 @monitor.py:467]\u001b[0m GAN_loss/discrim/accuracy_fake: 0.89\n"
     ]
    },
    {
     "name": "stderr",
     "output_type": "stream",
     "text": [
      "\n"
     ]
    },
    {
     "name": "stdout",
     "output_type": "stream",
     "text": [
      "\u001b[32m[0922 12:59:35 @monitor.py:467]\u001b[0m GAN_loss/discrim/accuracy_real: 0.21\n",
      "\u001b[32m[0922 12:59:35 @monitor.py:467]\u001b[0m GAN_loss/discrim/loss: 0.63958\n",
      "\u001b[32m[0922 12:59:35 @monitor.py:467]\u001b[0m GAN_loss/gen/final-g-loss: 1.2988\n",
      "\u001b[32m[0922 12:59:35 @monitor.py:467]\u001b[0m GAN_loss/gen/klloss: 0.2178\n",
      "\u001b[32m[0922 12:59:35 @monitor.py:467]\u001b[0m GAN_loss/gen/loss: 1.081\n",
      "\u001b[32m[0922 12:59:35 @monitor.py:467]\u001b[0m QueueInput/queue_size: 50\n",
      "\u001b[32m[0922 12:59:35 @base.py:275]\u001b[0m Start Epoch 550 ...\n"
     ]
    },
    {
     "name": "stderr",
     "output_type": "stream",
     "text": [
      "100%|#################################################################################|2000/2000[01:11<00:00,28.13it/s]"
     ]
    },
    {
     "name": "stdout",
     "output_type": "stream",
     "text": [
      "\u001b[32m[0922 13:00:46 @base.py:285]\u001b[0m Epoch 550 (global_step 1100000) finished, time:1 minute 11 seconds.\n",
      "\u001b[32m[0922 13:00:46 @saver.py:79]\u001b[0m Model saved to ../output/LPMC/DATGAN/model\\model-1100000.\n"
     ]
    },
    {
     "name": "stderr",
     "output_type": "stream",
     "text": [
      "\n"
     ]
    },
    {
     "name": "stdout",
     "output_type": "stream",
     "text": [
      "\u001b[32m[0922 13:00:46 @monitor.py:467]\u001b[0m GAN_loss/discrim/accuracy_fake: 0.895\n",
      "\u001b[32m[0922 13:00:46 @monitor.py:467]\u001b[0m GAN_loss/discrim/accuracy_real: 0.19\n",
      "\u001b[32m[0922 13:00:46 @monitor.py:467]\u001b[0m GAN_loss/discrim/loss: 0.63544\n",
      "\u001b[32m[0922 13:00:46 @monitor.py:467]\u001b[0m GAN_loss/gen/final-g-loss: 1.2519\n",
      "\u001b[32m[0922 13:00:46 @monitor.py:467]\u001b[0m GAN_loss/gen/klloss: 0.17339\n",
      "\u001b[32m[0922 13:00:46 @monitor.py:467]\u001b[0m GAN_loss/gen/loss: 1.0785\n",
      "\u001b[32m[0922 13:00:46 @monitor.py:467]\u001b[0m QueueInput/queue_size: 50\n",
      "\u001b[32m[0922 13:00:46 @base.py:275]\u001b[0m Start Epoch 551 ...\n"
     ]
    },
    {
     "name": "stderr",
     "output_type": "stream",
     "text": [
      "100%|#################################################################################|2000/2000[01:10<00:00,28.21it/s]"
     ]
    },
    {
     "name": "stdout",
     "output_type": "stream",
     "text": [
      "\u001b[32m[0922 13:01:57 @base.py:285]\u001b[0m Epoch 551 (global_step 1102000) finished, time:1 minute 10 seconds.\n",
      "\u001b[32m[0922 13:01:57 @saver.py:79]\u001b[0m Model saved to ../output/LPMC/DATGAN/model\\model-1102000.\n",
      "\u001b[32m[0922 13:01:57 @monitor.py:467]\u001b[0m GAN_loss/discrim/accuracy_fake: 0.87\n"
     ]
    },
    {
     "name": "stderr",
     "output_type": "stream",
     "text": [
      "\n"
     ]
    },
    {
     "name": "stdout",
     "output_type": "stream",
     "text": [
      "\u001b[32m[0922 13:01:57 @monitor.py:467]\u001b[0m GAN_loss/discrim/accuracy_real: 0.17\n",
      "\u001b[32m[0922 13:01:57 @monitor.py:467]\u001b[0m GAN_loss/discrim/loss: 0.64959\n",
      "\u001b[32m[0922 13:01:57 @monitor.py:467]\u001b[0m GAN_loss/gen/final-g-loss: 1.2771\n",
      "\u001b[32m[0922 13:01:57 @monitor.py:467]\u001b[0m GAN_loss/gen/klloss: 0.20832\n",
      "\u001b[32m[0922 13:01:57 @monitor.py:467]\u001b[0m GAN_loss/gen/loss: 1.0688\n",
      "\u001b[32m[0922 13:01:57 @monitor.py:467]\u001b[0m QueueInput/queue_size: 50\n",
      "\u001b[32m[0922 13:01:57 @base.py:275]\u001b[0m Start Epoch 552 ...\n"
     ]
    },
    {
     "name": "stderr",
     "output_type": "stream",
     "text": [
      "100%|#################################################################################|2000/2000[01:10<00:00,28.18it/s]"
     ]
    },
    {
     "name": "stdout",
     "output_type": "stream",
     "text": [
      "\u001b[32m[0922 13:03:08 @base.py:285]\u001b[0m Epoch 552 (global_step 1104000) finished, time:1 minute 10 seconds.\n",
      "\u001b[32m[0922 13:03:08 @saver.py:79]\u001b[0m Model saved to ../output/LPMC/DATGAN/model\\model-1104000.\n",
      "\u001b[32m[0922 13:03:08 @monitor.py:467]\u001b[0m GAN_loss/discrim/accuracy_fake: 0.86\n"
     ]
    },
    {
     "name": "stderr",
     "output_type": "stream",
     "text": [
      "\n"
     ]
    },
    {
     "name": "stdout",
     "output_type": "stream",
     "text": [
      "\u001b[32m[0922 13:03:08 @monitor.py:467]\u001b[0m GAN_loss/discrim/accuracy_real: 0.18\n",
      "\u001b[32m[0922 13:03:08 @monitor.py:467]\u001b[0m GAN_loss/discrim/loss: 0.65838\n",
      "\u001b[32m[0922 13:03:08 @monitor.py:467]\u001b[0m GAN_loss/gen/final-g-loss: 1.2781\n",
      "\u001b[32m[0922 13:03:08 @monitor.py:467]\u001b[0m GAN_loss/gen/klloss: 0.21998\n",
      "\u001b[32m[0922 13:03:08 @monitor.py:467]\u001b[0m GAN_loss/gen/loss: 1.0581\n",
      "\u001b[32m[0922 13:03:08 @monitor.py:467]\u001b[0m QueueInput/queue_size: 50\n",
      "\u001b[32m[0922 13:03:08 @base.py:275]\u001b[0m Start Epoch 553 ...\n"
     ]
    },
    {
     "name": "stderr",
     "output_type": "stream",
     "text": [
      "100%|#################################################################################|2000/2000[01:10<00:00,28.20it/s]"
     ]
    },
    {
     "name": "stdout",
     "output_type": "stream",
     "text": [
      "\u001b[32m[0922 13:04:19 @base.py:285]\u001b[0m Epoch 553 (global_step 1106000) finished, time:1 minute 10 seconds.\n",
      "\u001b[32m[0922 13:04:19 @saver.py:79]\u001b[0m Model saved to ../output/LPMC/DATGAN/model\\model-1106000.\n"
     ]
    },
    {
     "name": "stderr",
     "output_type": "stream",
     "text": [
      "\n"
     ]
    },
    {
     "name": "stdout",
     "output_type": "stream",
     "text": [
      "\u001b[32m[0922 13:04:19 @monitor.py:467]\u001b[0m GAN_loss/discrim/accuracy_fake: 0.89\n",
      "\u001b[32m[0922 13:04:19 @monitor.py:467]\u001b[0m GAN_loss/discrim/accuracy_real: 0.185\n",
      "\u001b[32m[0922 13:04:19 @monitor.py:467]\u001b[0m GAN_loss/discrim/loss: 0.64402\n",
      "\u001b[32m[0922 13:04:19 @monitor.py:467]\u001b[0m GAN_loss/gen/final-g-loss: 1.3318\n",
      "\u001b[32m[0922 13:04:19 @monitor.py:467]\u001b[0m GAN_loss/gen/klloss: 0.25451\n",
      "\u001b[32m[0922 13:04:19 @monitor.py:467]\u001b[0m GAN_loss/gen/loss: 1.0773\n",
      "\u001b[32m[0922 13:04:19 @monitor.py:467]\u001b[0m QueueInput/queue_size: 50\n",
      "\u001b[32m[0922 13:04:19 @base.py:275]\u001b[0m Start Epoch 554 ...\n"
     ]
    },
    {
     "name": "stderr",
     "output_type": "stream",
     "text": [
      "100%|#################################################################################|2000/2000[01:10<00:00,28.27it/s]"
     ]
    },
    {
     "name": "stdout",
     "output_type": "stream",
     "text": [
      "\u001b[32m[0922 13:05:30 @base.py:285]\u001b[0m Epoch 554 (global_step 1108000) finished, time:1 minute 10 seconds.\n"
     ]
    },
    {
     "name": "stderr",
     "output_type": "stream",
     "text": [
      "\n"
     ]
    },
    {
     "name": "stdout",
     "output_type": "stream",
     "text": [
      "\u001b[32m[0922 13:05:30 @saver.py:79]\u001b[0m Model saved to ../output/LPMC/DATGAN/model\\model-1108000.\n",
      "\u001b[32m[0922 13:05:30 @monitor.py:467]\u001b[0m GAN_loss/discrim/accuracy_fake: 0.93\n",
      "\u001b[32m[0922 13:05:30 @monitor.py:467]\u001b[0m GAN_loss/discrim/accuracy_real: 0.14\n",
      "\u001b[32m[0922 13:05:30 @monitor.py:467]\u001b[0m GAN_loss/discrim/loss: 0.63745\n",
      "\u001b[32m[0922 13:05:30 @monitor.py:467]\u001b[0m GAN_loss/gen/final-g-loss: 1.2617\n",
      "\u001b[32m[0922 13:05:30 @monitor.py:467]\u001b[0m GAN_loss/gen/klloss: 0.163\n",
      "\u001b[32m[0922 13:05:30 @monitor.py:467]\u001b[0m GAN_loss/gen/loss: 1.0987\n",
      "\u001b[32m[0922 13:05:30 @monitor.py:467]\u001b[0m QueueInput/queue_size: 50\n",
      "\u001b[32m[0922 13:05:30 @base.py:275]\u001b[0m Start Epoch 555 ...\n"
     ]
    },
    {
     "name": "stderr",
     "output_type": "stream",
     "text": [
      "100%|#################################################################################|2000/2000[01:10<00:00,28.17it/s]"
     ]
    },
    {
     "name": "stdout",
     "output_type": "stream",
     "text": [
      "\u001b[32m[0922 13:06:41 @base.py:285]\u001b[0m Epoch 555 (global_step 1110000) finished, time:1 minute 10 seconds.\n",
      "\u001b[32m[0922 13:06:41 @saver.py:79]\u001b[0m Model saved to ../output/LPMC/DATGAN/model\\model-1110000.\n"
     ]
    },
    {
     "name": "stderr",
     "output_type": "stream",
     "text": [
      "\n"
     ]
    },
    {
     "name": "stdout",
     "output_type": "stream",
     "text": [
      "\u001b[32m[0922 13:06:42 @monitor.py:467]\u001b[0m GAN_loss/discrim/accuracy_fake: 0.89\n",
      "\u001b[32m[0922 13:06:42 @monitor.py:467]\u001b[0m GAN_loss/discrim/accuracy_real: 0.25\n",
      "\u001b[32m[0922 13:06:42 @monitor.py:467]\u001b[0m GAN_loss/discrim/loss: 0.64296\n",
      "\u001b[32m[0922 13:06:42 @monitor.py:467]\u001b[0m GAN_loss/gen/final-g-loss: 1.325\n",
      "\u001b[32m[0922 13:06:42 @monitor.py:467]\u001b[0m GAN_loss/gen/klloss: 0.25155\n",
      "\u001b[32m[0922 13:06:42 @monitor.py:467]\u001b[0m GAN_loss/gen/loss: 1.0734\n",
      "\u001b[32m[0922 13:06:42 @monitor.py:467]\u001b[0m QueueInput/queue_size: 50\n",
      "\u001b[32m[0922 13:06:42 @base.py:275]\u001b[0m Start Epoch 556 ...\n"
     ]
    },
    {
     "name": "stderr",
     "output_type": "stream",
     "text": [
      "100%|#################################################################################|2000/2000[01:10<00:00,28.25it/s]"
     ]
    },
    {
     "name": "stdout",
     "output_type": "stream",
     "text": [
      "\u001b[32m[0922 13:07:52 @base.py:285]\u001b[0m Epoch 556 (global_step 1112000) finished, time:1 minute 10 seconds.\n",
      "\u001b[32m[0922 13:07:52 @saver.py:79]\u001b[0m Model saved to ../output/LPMC/DATGAN/model\\model-1112000.\n"
     ]
    },
    {
     "name": "stderr",
     "output_type": "stream",
     "text": [
      "\n"
     ]
    },
    {
     "name": "stdout",
     "output_type": "stream",
     "text": [
      "\u001b[32m[0922 13:07:53 @monitor.py:467]\u001b[0m GAN_loss/discrim/accuracy_fake: 0.875\n",
      "\u001b[32m[0922 13:07:53 @monitor.py:467]\u001b[0m GAN_loss/discrim/accuracy_real: 0.22\n",
      "\u001b[32m[0922 13:07:53 @monitor.py:467]\u001b[0m GAN_loss/discrim/loss: 0.63254\n",
      "\u001b[32m[0922 13:07:53 @monitor.py:467]\u001b[0m GAN_loss/gen/final-g-loss: 1.3392\n",
      "\u001b[32m[0922 13:07:53 @monitor.py:467]\u001b[0m GAN_loss/gen/klloss: 0.24208\n",
      "\u001b[32m[0922 13:07:53 @monitor.py:467]\u001b[0m GAN_loss/gen/loss: 1.0972\n",
      "\u001b[32m[0922 13:07:53 @monitor.py:467]\u001b[0m QueueInput/queue_size: 50\n",
      "\u001b[32m[0922 13:07:53 @base.py:275]\u001b[0m Start Epoch 557 ...\n"
     ]
    },
    {
     "name": "stderr",
     "output_type": "stream",
     "text": [
      "100%|#################################################################################|2000/2000[01:10<00:00,28.25it/s]"
     ]
    },
    {
     "name": "stdout",
     "output_type": "stream",
     "text": [
      "\u001b[32m[0922 13:09:03 @base.py:285]\u001b[0m Epoch 557 (global_step 1114000) finished, time:1 minute 10 seconds.\n",
      "\u001b[32m[0922 13:09:03 @saver.py:79]\u001b[0m Model saved to ../output/LPMC/DATGAN/model\\model-1114000.\n"
     ]
    },
    {
     "name": "stderr",
     "output_type": "stream",
     "text": [
      "\n"
     ]
    },
    {
     "name": "stdout",
     "output_type": "stream",
     "text": [
      "\u001b[32m[0922 13:09:04 @monitor.py:467]\u001b[0m GAN_loss/discrim/accuracy_fake: 0.86\n",
      "\u001b[32m[0922 13:09:04 @monitor.py:467]\u001b[0m GAN_loss/discrim/accuracy_real: 0.235\n",
      "\u001b[32m[0922 13:09:04 @monitor.py:467]\u001b[0m GAN_loss/discrim/loss: 0.64127\n",
      "\u001b[32m[0922 13:09:04 @monitor.py:467]\u001b[0m GAN_loss/gen/final-g-loss: 1.3321\n",
      "\u001b[32m[0922 13:09:04 @monitor.py:467]\u001b[0m GAN_loss/gen/klloss: 0.25007\n",
      "\u001b[32m[0922 13:09:04 @monitor.py:467]\u001b[0m GAN_loss/gen/loss: 1.082\n",
      "\u001b[32m[0922 13:09:04 @monitor.py:467]\u001b[0m QueueInput/queue_size: 50\n",
      "\u001b[32m[0922 13:09:04 @base.py:275]\u001b[0m Start Epoch 558 ...\n"
     ]
    },
    {
     "name": "stderr",
     "output_type": "stream",
     "text": [
      "100%|#################################################################################|2000/2000[01:11<00:00,28.03it/s]"
     ]
    },
    {
     "name": "stdout",
     "output_type": "stream",
     "text": [
      "\u001b[32m[0922 13:10:15 @base.py:285]\u001b[0m Epoch 558 (global_step 1116000) finished, time:1 minute 11 seconds.\n",
      "\u001b[32m[0922 13:10:15 @saver.py:79]\u001b[0m Model saved to ../output/LPMC/DATGAN/model\\model-1116000.\n",
      "\u001b[32m[0922 13:10:15 @monitor.py:467]\u001b[0m GAN_loss/discrim/accuracy_fake: 0.915\n"
     ]
    },
    {
     "name": "stderr",
     "output_type": "stream",
     "text": [
      "\n"
     ]
    },
    {
     "name": "stdout",
     "output_type": "stream",
     "text": [
      "\u001b[32m[0922 13:10:15 @monitor.py:467]\u001b[0m GAN_loss/discrim/accuracy_real: 0.215\n",
      "\u001b[32m[0922 13:10:15 @monitor.py:467]\u001b[0m GAN_loss/discrim/loss: 0.64252\n",
      "\u001b[32m[0922 13:10:15 @monitor.py:467]\u001b[0m GAN_loss/gen/final-g-loss: 1.2195\n",
      "\u001b[32m[0922 13:10:15 @monitor.py:467]\u001b[0m GAN_loss/gen/klloss: 0.13902\n",
      "\u001b[32m[0922 13:10:15 @monitor.py:467]\u001b[0m GAN_loss/gen/loss: 1.0805\n",
      "\u001b[32m[0922 13:10:15 @monitor.py:467]\u001b[0m QueueInput/queue_size: 50\n",
      "\u001b[32m[0922 13:10:15 @base.py:275]\u001b[0m Start Epoch 559 ...\n"
     ]
    },
    {
     "name": "stderr",
     "output_type": "stream",
     "text": [
      "100%|#################################################################################|2000/2000[01:11<00:00,28.06it/s]"
     ]
    },
    {
     "name": "stdout",
     "output_type": "stream",
     "text": [
      "\u001b[32m[0922 13:11:26 @base.py:285]\u001b[0m Epoch 559 (global_step 1118000) finished, time:1 minute 11 seconds.\n",
      "\u001b[32m[0922 13:11:26 @saver.py:79]\u001b[0m Model saved to ../output/LPMC/DATGAN/model\\model-1118000.\n"
     ]
    },
    {
     "name": "stderr",
     "output_type": "stream",
     "text": [
      "\n"
     ]
    },
    {
     "name": "stdout",
     "output_type": "stream",
     "text": [
      "\u001b[32m[0922 13:11:27 @monitor.py:467]\u001b[0m GAN_loss/discrim/accuracy_fake: 0.86\n",
      "\u001b[32m[0922 13:11:27 @monitor.py:467]\u001b[0m GAN_loss/discrim/accuracy_real: 0.185\n",
      "\u001b[32m[0922 13:11:27 @monitor.py:467]\u001b[0m GAN_loss/discrim/loss: 0.65354\n",
      "\u001b[32m[0922 13:11:27 @monitor.py:467]\u001b[0m GAN_loss/gen/final-g-loss: 1.2399\n",
      "\u001b[32m[0922 13:11:27 @monitor.py:467]\u001b[0m GAN_loss/gen/klloss: 0.17515\n",
      "\u001b[32m[0922 13:11:27 @monitor.py:467]\u001b[0m GAN_loss/gen/loss: 1.0648\n",
      "\u001b[32m[0922 13:11:27 @monitor.py:467]\u001b[0m QueueInput/queue_size: 50\n",
      "\u001b[32m[0922 13:11:27 @base.py:275]\u001b[0m Start Epoch 560 ...\n"
     ]
    },
    {
     "name": "stderr",
     "output_type": "stream",
     "text": [
      "100%|#################################################################################|2000/2000[01:11<00:00,28.15it/s]"
     ]
    },
    {
     "name": "stdout",
     "output_type": "stream",
     "text": [
      "\u001b[32m[0922 13:12:38 @base.py:285]\u001b[0m Epoch 560 (global_step 1120000) finished, time:1 minute 11 seconds.\n",
      "\u001b[32m[0922 13:12:38 @saver.py:79]\u001b[0m Model saved to ../output/LPMC/DATGAN/model\\model-1120000.\n",
      "\u001b[32m[0922 13:12:38 @monitor.py:467]\u001b[0m GAN_loss/discrim/accuracy_fake: 0.86\n"
     ]
    },
    {
     "name": "stderr",
     "output_type": "stream",
     "text": [
      "\n"
     ]
    },
    {
     "name": "stdout",
     "output_type": "stream",
     "text": [
      "\u001b[32m[0922 13:12:38 @monitor.py:467]\u001b[0m GAN_loss/discrim/accuracy_real: 0.23\n",
      "\u001b[32m[0922 13:12:38 @monitor.py:467]\u001b[0m GAN_loss/discrim/loss: 0.64493\n",
      "\u001b[32m[0922 13:12:38 @monitor.py:467]\u001b[0m GAN_loss/gen/final-g-loss: 1.3141\n",
      "\u001b[32m[0922 13:12:38 @monitor.py:467]\u001b[0m GAN_loss/gen/klloss: 0.24654\n",
      "\u001b[32m[0922 13:12:38 @monitor.py:467]\u001b[0m GAN_loss/gen/loss: 1.0676\n",
      "\u001b[32m[0922 13:12:38 @monitor.py:467]\u001b[0m QueueInput/queue_size: 50\n",
      "\u001b[32m[0922 13:12:38 @base.py:275]\u001b[0m Start Epoch 561 ...\n"
     ]
    },
    {
     "name": "stderr",
     "output_type": "stream",
     "text": [
      "100%|#################################################################################|2000/2000[01:10<00:00,28.25it/s]"
     ]
    },
    {
     "name": "stdout",
     "output_type": "stream",
     "text": [
      "\u001b[32m[0922 13:13:49 @base.py:285]\u001b[0m Epoch 561 (global_step 1122000) finished, time:1 minute 10 seconds.\n"
     ]
    },
    {
     "name": "stderr",
     "output_type": "stream",
     "text": [
      "\n"
     ]
    },
    {
     "name": "stdout",
     "output_type": "stream",
     "text": [
      "\u001b[32m[0922 13:13:49 @saver.py:79]\u001b[0m Model saved to ../output/LPMC/DATGAN/model\\model-1122000.\n",
      "\u001b[32m[0922 13:13:49 @monitor.py:467]\u001b[0m GAN_loss/discrim/accuracy_fake: 0.85\n",
      "\u001b[32m[0922 13:13:49 @monitor.py:467]\u001b[0m GAN_loss/discrim/accuracy_real: 0.185\n",
      "\u001b[32m[0922 13:13:49 @monitor.py:467]\u001b[0m GAN_loss/discrim/loss: 0.65718\n",
      "\u001b[32m[0922 13:13:49 @monitor.py:467]\u001b[0m GAN_loss/gen/final-g-loss: 1.6711\n",
      "\u001b[32m[0922 13:13:49 @monitor.py:467]\u001b[0m GAN_loss/gen/klloss: 0.61018\n",
      "\u001b[32m[0922 13:13:49 @monitor.py:467]\u001b[0m GAN_loss/gen/loss: 1.0609\n",
      "\u001b[32m[0922 13:13:49 @monitor.py:467]\u001b[0m QueueInput/queue_size: 50\n",
      "\u001b[32m[0922 13:13:49 @base.py:275]\u001b[0m Start Epoch 562 ...\n"
     ]
    },
    {
     "name": "stderr",
     "output_type": "stream",
     "text": [
      "100%|#################################################################################|2000/2000[01:10<00:00,28.20it/s]"
     ]
    },
    {
     "name": "stdout",
     "output_type": "stream",
     "text": [
      "\u001b[32m[0922 13:15:00 @base.py:285]\u001b[0m Epoch 562 (global_step 1124000) finished, time:1 minute 10 seconds.\n",
      "\u001b[32m[0922 13:15:00 @saver.py:79]\u001b[0m Model saved to ../output/LPMC/DATGAN/model\\model-1124000.\n"
     ]
    },
    {
     "name": "stderr",
     "output_type": "stream",
     "text": [
      "\n"
     ]
    },
    {
     "name": "stdout",
     "output_type": "stream",
     "text": [
      "\u001b[32m[0922 13:15:00 @monitor.py:467]\u001b[0m GAN_loss/discrim/accuracy_fake: 0.895\n",
      "\u001b[32m[0922 13:15:00 @monitor.py:467]\u001b[0m GAN_loss/discrim/accuracy_real: 0.165\n",
      "\u001b[32m[0922 13:15:00 @monitor.py:467]\u001b[0m GAN_loss/discrim/loss: 0.642\n",
      "\u001b[32m[0922 13:15:00 @monitor.py:467]\u001b[0m GAN_loss/gen/final-g-loss: 1.3256\n",
      "\u001b[32m[0922 13:15:00 @monitor.py:467]\u001b[0m GAN_loss/gen/klloss: 0.24477\n",
      "\u001b[32m[0922 13:15:00 @monitor.py:467]\u001b[0m GAN_loss/gen/loss: 1.0808\n",
      "\u001b[32m[0922 13:15:00 @monitor.py:467]\u001b[0m QueueInput/queue_size: 50\n",
      "\u001b[32m[0922 13:15:00 @base.py:275]\u001b[0m Start Epoch 563 ...\n"
     ]
    },
    {
     "name": "stderr",
     "output_type": "stream",
     "text": [
      "100%|#################################################################################|2000/2000[01:10<00:00,28.26it/s]"
     ]
    },
    {
     "name": "stdout",
     "output_type": "stream",
     "text": [
      "\u001b[32m[0922 13:16:11 @base.py:285]\u001b[0m Epoch 563 (global_step 1126000) finished, time:1 minute 10 seconds.\n",
      "\u001b[32m[0922 13:16:11 @saver.py:79]\u001b[0m Model saved to ../output/LPMC/DATGAN/model\\model-1126000.\n"
     ]
    },
    {
     "name": "stderr",
     "output_type": "stream",
     "text": [
      "\n"
     ]
    },
    {
     "name": "stdout",
     "output_type": "stream",
     "text": [
      "\u001b[32m[0922 13:16:11 @monitor.py:467]\u001b[0m GAN_loss/discrim/accuracy_fake: 0.895\n",
      "\u001b[32m[0922 13:16:11 @monitor.py:467]\u001b[0m GAN_loss/discrim/accuracy_real: 0.215\n",
      "\u001b[32m[0922 13:16:11 @monitor.py:467]\u001b[0m GAN_loss/discrim/loss: 0.63868\n",
      "\u001b[32m[0922 13:16:11 @monitor.py:467]\u001b[0m GAN_loss/gen/final-g-loss: 1.343\n",
      "\u001b[32m[0922 13:16:11 @monitor.py:467]\u001b[0m GAN_loss/gen/klloss: 0.23844\n",
      "\u001b[32m[0922 13:16:11 @monitor.py:467]\u001b[0m GAN_loss/gen/loss: 1.1045\n",
      "\u001b[32m[0922 13:16:11 @monitor.py:467]\u001b[0m QueueInput/queue_size: 50\n",
      "\u001b[32m[0922 13:16:11 @base.py:275]\u001b[0m Start Epoch 564 ...\n"
     ]
    },
    {
     "name": "stderr",
     "output_type": "stream",
     "text": [
      "100%|#################################################################################|2000/2000[01:10<00:00,28.17it/s]"
     ]
    },
    {
     "name": "stdout",
     "output_type": "stream",
     "text": [
      "\u001b[32m[0922 13:17:22 @base.py:285]\u001b[0m Epoch 564 (global_step 1128000) finished, time:1 minute 10 seconds.\n",
      "\u001b[32m[0922 13:17:22 @saver.py:79]\u001b[0m Model saved to ../output/LPMC/DATGAN/model\\model-1128000.\n"
     ]
    },
    {
     "name": "stderr",
     "output_type": "stream",
     "text": [
      "\n"
     ]
    },
    {
     "name": "stdout",
     "output_type": "stream",
     "text": [
      "\u001b[32m[0922 13:17:22 @monitor.py:467]\u001b[0m GAN_loss/discrim/accuracy_fake: 0.895\n",
      "\u001b[32m[0922 13:17:22 @monitor.py:467]\u001b[0m GAN_loss/discrim/accuracy_real: 0.205\n",
      "\u001b[32m[0922 13:17:22 @monitor.py:467]\u001b[0m GAN_loss/discrim/loss: 0.6392\n",
      "\u001b[32m[0922 13:17:22 @monitor.py:467]\u001b[0m GAN_loss/gen/final-g-loss: 1.3852\n",
      "\u001b[32m[0922 13:17:22 @monitor.py:467]\u001b[0m GAN_loss/gen/klloss: 0.28447\n",
      "\u001b[32m[0922 13:17:22 @monitor.py:467]\u001b[0m GAN_loss/gen/loss: 1.1007\n",
      "\u001b[32m[0922 13:17:22 @monitor.py:467]\u001b[0m QueueInput/queue_size: 50\n",
      "\u001b[32m[0922 13:17:22 @base.py:275]\u001b[0m Start Epoch 565 ...\n"
     ]
    },
    {
     "name": "stderr",
     "output_type": "stream",
     "text": [
      "100%|#################################################################################|2000/2000[01:10<00:00,28.39it/s]"
     ]
    },
    {
     "name": "stdout",
     "output_type": "stream",
     "text": [
      "\u001b[32m[0922 13:18:33 @base.py:285]\u001b[0m Epoch 565 (global_step 1130000) finished, time:1 minute 10 seconds.\n",
      "\u001b[32m[0922 13:18:33 @saver.py:79]\u001b[0m Model saved to ../output/LPMC/DATGAN/model\\model-1130000.\n",
      "\u001b[32m[0922 13:18:33 @monitor.py:467]\u001b[0m GAN_loss/discrim/accuracy_fake: 0.88\n"
     ]
    },
    {
     "name": "stderr",
     "output_type": "stream",
     "text": [
      "\n"
     ]
    },
    {
     "name": "stdout",
     "output_type": "stream",
     "text": [
      "\u001b[32m[0922 13:18:33 @monitor.py:467]\u001b[0m GAN_loss/discrim/accuracy_real: 0.225\n",
      "\u001b[32m[0922 13:18:33 @monitor.py:467]\u001b[0m GAN_loss/discrim/loss: 0.6399\n",
      "\u001b[32m[0922 13:18:33 @monitor.py:467]\u001b[0m GAN_loss/gen/final-g-loss: 1.3408\n",
      "\u001b[32m[0922 13:18:33 @monitor.py:467]\u001b[0m GAN_loss/gen/klloss: 0.25651\n",
      "\u001b[32m[0922 13:18:33 @monitor.py:467]\u001b[0m GAN_loss/gen/loss: 1.0843\n",
      "\u001b[32m[0922 13:18:33 @monitor.py:467]\u001b[0m QueueInput/queue_size: 50\n",
      "\u001b[32m[0922 13:18:33 @base.py:275]\u001b[0m Start Epoch 566 ...\n"
     ]
    },
    {
     "name": "stderr",
     "output_type": "stream",
     "text": [
      "100%|#################################################################################|2000/2000[01:10<00:00,28.38it/s]"
     ]
    },
    {
     "name": "stdout",
     "output_type": "stream",
     "text": [
      "\u001b[32m[0922 13:19:43 @base.py:285]\u001b[0m Epoch 566 (global_step 1132000) finished, time:1 minute 10 seconds.\n",
      "\u001b[32m[0922 13:19:43 @saver.py:79]\u001b[0m Model saved to ../output/LPMC/DATGAN/model\\model-1132000.\n"
     ]
    },
    {
     "name": "stderr",
     "output_type": "stream",
     "text": [
      "\n"
     ]
    },
    {
     "name": "stdout",
     "output_type": "stream",
     "text": [
      "\u001b[32m[0922 13:19:43 @monitor.py:467]\u001b[0m GAN_loss/discrim/accuracy_fake: 0.91\n",
      "\u001b[32m[0922 13:19:43 @monitor.py:467]\u001b[0m GAN_loss/discrim/accuracy_real: 0.185\n",
      "\u001b[32m[0922 13:19:43 @monitor.py:467]\u001b[0m GAN_loss/discrim/loss: 0.64214\n",
      "\u001b[32m[0922 13:19:43 @monitor.py:467]\u001b[0m GAN_loss/gen/final-g-loss: 1.1949\n",
      "\u001b[32m[0922 13:19:43 @monitor.py:467]\u001b[0m GAN_loss/gen/klloss: 0.12128\n",
      "\u001b[32m[0922 13:19:43 @monitor.py:467]\u001b[0m GAN_loss/gen/loss: 1.0736\n",
      "\u001b[32m[0922 13:19:43 @monitor.py:467]\u001b[0m QueueInput/queue_size: 50\n",
      "\u001b[32m[0922 13:19:43 @base.py:275]\u001b[0m Start Epoch 567 ...\n"
     ]
    },
    {
     "name": "stderr",
     "output_type": "stream",
     "text": [
      "100%|#################################################################################|2000/2000[01:11<00:00,28.07it/s]"
     ]
    },
    {
     "name": "stdout",
     "output_type": "stream",
     "text": [
      "\u001b[32m[0922 13:20:55 @base.py:285]\u001b[0m Epoch 567 (global_step 1134000) finished, time:1 minute 11 seconds.\n",
      "\u001b[32m[0922 13:20:55 @saver.py:79]\u001b[0m Model saved to ../output/LPMC/DATGAN/model\\model-1134000.\n"
     ]
    },
    {
     "name": "stderr",
     "output_type": "stream",
     "text": [
      "\n"
     ]
    },
    {
     "name": "stdout",
     "output_type": "stream",
     "text": [
      "\u001b[32m[0922 13:20:55 @monitor.py:467]\u001b[0m GAN_loss/discrim/accuracy_fake: 0.86\n",
      "\u001b[32m[0922 13:20:55 @monitor.py:467]\u001b[0m GAN_loss/discrim/accuracy_real: 0.275\n",
      "\u001b[32m[0922 13:20:55 @monitor.py:467]\u001b[0m GAN_loss/discrim/loss: 0.63792\n",
      "\u001b[32m[0922 13:20:55 @monitor.py:467]\u001b[0m GAN_loss/gen/final-g-loss: 1.3407\n",
      "\u001b[32m[0922 13:20:55 @monitor.py:467]\u001b[0m GAN_loss/gen/klloss: 0.2698\n",
      "\u001b[32m[0922 13:20:55 @monitor.py:467]\u001b[0m GAN_loss/gen/loss: 1.0709\n",
      "\u001b[32m[0922 13:20:55 @monitor.py:467]\u001b[0m QueueInput/queue_size: 50\n",
      "\u001b[32m[0922 13:20:55 @base.py:275]\u001b[0m Start Epoch 568 ...\n"
     ]
    },
    {
     "name": "stderr",
     "output_type": "stream",
     "text": [
      "100%|#################################################################################|2000/2000[01:11<00:00,28.15it/s]"
     ]
    },
    {
     "name": "stdout",
     "output_type": "stream",
     "text": [
      "\u001b[32m[0922 13:22:06 @base.py:285]\u001b[0m Epoch 568 (global_step 1136000) finished, time:1 minute 11 seconds.\n",
      "\u001b[32m[0922 13:22:06 @saver.py:79]\u001b[0m Model saved to ../output/LPMC/DATGAN/model\\model-1136000.\n"
     ]
    },
    {
     "name": "stderr",
     "output_type": "stream",
     "text": [
      "\n"
     ]
    },
    {
     "name": "stdout",
     "output_type": "stream",
     "text": [
      "\u001b[32m[0922 13:22:06 @monitor.py:467]\u001b[0m GAN_loss/discrim/accuracy_fake: 0.825\n",
      "\u001b[32m[0922 13:22:06 @monitor.py:467]\u001b[0m GAN_loss/discrim/accuracy_real: 0.17\n",
      "\u001b[32m[0922 13:22:06 @monitor.py:467]\u001b[0m GAN_loss/discrim/loss: 0.64986\n",
      "\u001b[32m[0922 13:22:06 @monitor.py:467]\u001b[0m GAN_loss/gen/final-g-loss: 1.3898\n",
      "\u001b[32m[0922 13:22:06 @monitor.py:467]\u001b[0m GAN_loss/gen/klloss: 0.32095\n",
      "\u001b[32m[0922 13:22:06 @monitor.py:467]\u001b[0m GAN_loss/gen/loss: 1.0688\n",
      "\u001b[32m[0922 13:22:06 @monitor.py:467]\u001b[0m QueueInput/queue_size: 50\n",
      "\u001b[32m[0922 13:22:06 @base.py:275]\u001b[0m Start Epoch 569 ...\n"
     ]
    },
    {
     "name": "stderr",
     "output_type": "stream",
     "text": [
      "100%|#################################################################################|2000/2000[01:11<00:00,28.14it/s]"
     ]
    },
    {
     "name": "stdout",
     "output_type": "stream",
     "text": [
      "\u001b[32m[0922 13:23:17 @base.py:285]\u001b[0m Epoch 569 (global_step 1138000) finished, time:1 minute 11 seconds.\n",
      "\u001b[32m[0922 13:23:17 @saver.py:79]\u001b[0m Model saved to ../output/LPMC/DATGAN/model\\model-1138000.\n",
      "\u001b[32m[0922 13:23:17 @monitor.py:467]\u001b[0m GAN_loss/discrim/accuracy_fake: 0.88\n"
     ]
    },
    {
     "name": "stderr",
     "output_type": "stream",
     "text": [
      "\n"
     ]
    },
    {
     "name": "stdout",
     "output_type": "stream",
     "text": [
      "\u001b[32m[0922 13:23:17 @monitor.py:467]\u001b[0m GAN_loss/discrim/accuracy_real: 0.225\n",
      "\u001b[32m[0922 13:23:17 @monitor.py:467]\u001b[0m GAN_loss/discrim/loss: 0.63839\n",
      "\u001b[32m[0922 13:23:17 @monitor.py:467]\u001b[0m GAN_loss/gen/final-g-loss: 1.3332\n",
      "\u001b[32m[0922 13:23:17 @monitor.py:467]\u001b[0m GAN_loss/gen/klloss: 0.24424\n",
      "\u001b[32m[0922 13:23:17 @monitor.py:467]\u001b[0m GAN_loss/gen/loss: 1.0889\n",
      "\u001b[32m[0922 13:23:17 @monitor.py:467]\u001b[0m QueueInput/queue_size: 50\n",
      "\u001b[32m[0922 13:23:17 @base.py:275]\u001b[0m Start Epoch 570 ...\n"
     ]
    },
    {
     "name": "stderr",
     "output_type": "stream",
     "text": [
      "100%|#################################################################################|2000/2000[01:10<00:00,28.20it/s]"
     ]
    },
    {
     "name": "stdout",
     "output_type": "stream",
     "text": [
      "\u001b[32m[0922 13:24:28 @base.py:285]\u001b[0m Epoch 570 (global_step 1140000) finished, time:1 minute 10 seconds.\n",
      "\u001b[32m[0922 13:24:28 @saver.py:79]\u001b[0m Model saved to ../output/LPMC/DATGAN/model\\model-1140000.\n",
      "\u001b[32m[0922 13:24:29 @monitor.py:467]\u001b[0m GAN_loss/discrim/accuracy_fake: 0.86\n"
     ]
    },
    {
     "name": "stderr",
     "output_type": "stream",
     "text": [
      "\n"
     ]
    },
    {
     "name": "stdout",
     "output_type": "stream",
     "text": [
      "\u001b[32m[0922 13:24:29 @monitor.py:467]\u001b[0m GAN_loss/discrim/accuracy_real: 0.165\n",
      "\u001b[32m[0922 13:24:29 @monitor.py:467]\u001b[0m GAN_loss/discrim/loss: 0.65808\n",
      "\u001b[32m[0922 13:24:29 @monitor.py:467]\u001b[0m GAN_loss/gen/final-g-loss: 1.2042\n",
      "\u001b[32m[0922 13:24:29 @monitor.py:467]\u001b[0m GAN_loss/gen/klloss: 0.14996\n",
      "\u001b[32m[0922 13:24:29 @monitor.py:467]\u001b[0m GAN_loss/gen/loss: 1.0543\n",
      "\u001b[32m[0922 13:24:29 @monitor.py:467]\u001b[0m QueueInput/queue_size: 50\n",
      "\u001b[32m[0922 13:24:29 @base.py:275]\u001b[0m Start Epoch 571 ...\n"
     ]
    },
    {
     "name": "stderr",
     "output_type": "stream",
     "text": [
      "100%|#################################################################################|2000/2000[01:10<00:00,28.35it/s]"
     ]
    },
    {
     "name": "stdout",
     "output_type": "stream",
     "text": [
      "\u001b[32m[0922 13:25:39 @base.py:285]\u001b[0m Epoch 571 (global_step 1142000) finished, time:1 minute 10 seconds.\n",
      "\u001b[32m[0922 13:25:39 @saver.py:79]\u001b[0m Model saved to ../output/LPMC/DATGAN/model\\model-1142000.\n",
      "\u001b[32m[0922 13:25:39 @monitor.py:467]\u001b[0m GAN_loss/discrim/accuracy_fake: 0.9\n"
     ]
    },
    {
     "name": "stderr",
     "output_type": "stream",
     "text": [
      "\n"
     ]
    },
    {
     "name": "stdout",
     "output_type": "stream",
     "text": [
      "\u001b[32m[0922 13:25:39 @monitor.py:467]\u001b[0m GAN_loss/discrim/accuracy_real: 0.245\n",
      "\u001b[32m[0922 13:25:39 @monitor.py:467]\u001b[0m GAN_loss/discrim/loss: 0.62406\n",
      "\u001b[32m[0922 13:25:39 @monitor.py:467]\u001b[0m GAN_loss/gen/final-g-loss: 1.4443\n",
      "\u001b[32m[0922 13:25:39 @monitor.py:467]\u001b[0m GAN_loss/gen/klloss: 0.32771\n",
      "\u001b[32m[0922 13:25:39 @monitor.py:467]\u001b[0m GAN_loss/gen/loss: 1.1166\n",
      "\u001b[32m[0922 13:25:39 @monitor.py:467]\u001b[0m QueueInput/queue_size: 50\n",
      "\u001b[32m[0922 13:25:39 @base.py:275]\u001b[0m Start Epoch 572 ...\n"
     ]
    },
    {
     "name": "stderr",
     "output_type": "stream",
     "text": [
      "100%|#################################################################################|2000/2000[01:11<00:00,28.07it/s]"
     ]
    },
    {
     "name": "stdout",
     "output_type": "stream",
     "text": [
      "\u001b[32m[0922 13:26:51 @base.py:285]\u001b[0m Epoch 572 (global_step 1144000) finished, time:1 minute 11 seconds.\n",
      "\u001b[32m[0922 13:26:51 @saver.py:79]\u001b[0m Model saved to ../output/LPMC/DATGAN/model\\model-1144000.\n"
     ]
    },
    {
     "name": "stderr",
     "output_type": "stream",
     "text": [
      "\n"
     ]
    },
    {
     "name": "stdout",
     "output_type": "stream",
     "text": [
      "\u001b[32m[0922 13:26:51 @monitor.py:467]\u001b[0m GAN_loss/discrim/accuracy_fake: 0.9\n",
      "\u001b[32m[0922 13:26:51 @monitor.py:467]\u001b[0m GAN_loss/discrim/accuracy_real: 0.185\n",
      "\u001b[32m[0922 13:26:51 @monitor.py:467]\u001b[0m GAN_loss/discrim/loss: 0.64603\n",
      "\u001b[32m[0922 13:26:51 @monitor.py:467]\u001b[0m GAN_loss/gen/final-g-loss: 1.2162\n",
      "\u001b[32m[0922 13:26:51 @monitor.py:467]\u001b[0m GAN_loss/gen/klloss: 0.15529\n",
      "\u001b[32m[0922 13:26:51 @monitor.py:467]\u001b[0m GAN_loss/gen/loss: 1.0609\n",
      "\u001b[32m[0922 13:26:51 @monitor.py:467]\u001b[0m QueueInput/queue_size: 50\n",
      "\u001b[32m[0922 13:26:51 @base.py:275]\u001b[0m Start Epoch 573 ...\n"
     ]
    },
    {
     "name": "stderr",
     "output_type": "stream",
     "text": [
      "100%|#################################################################################|2000/2000[01:10<00:00,28.19it/s]"
     ]
    },
    {
     "name": "stdout",
     "output_type": "stream",
     "text": [
      "\u001b[32m[0922 13:28:02 @base.py:285]\u001b[0m Epoch 573 (global_step 1146000) finished, time:1 minute 10 seconds.\n",
      "\u001b[32m[0922 13:28:02 @saver.py:79]\u001b[0m Model saved to ../output/LPMC/DATGAN/model\\model-1146000.\n",
      "\u001b[32m[0922 13:28:02 @monitor.py:467]\u001b[0m GAN_loss/discrim/accuracy_fake: 0.9\n"
     ]
    },
    {
     "name": "stderr",
     "output_type": "stream",
     "text": [
      "\n"
     ]
    },
    {
     "name": "stdout",
     "output_type": "stream",
     "text": [
      "\u001b[32m[0922 13:28:02 @monitor.py:467]\u001b[0m GAN_loss/discrim/accuracy_real: 0.165\n",
      "\u001b[32m[0922 13:28:02 @monitor.py:467]\u001b[0m GAN_loss/discrim/loss: 0.64601\n",
      "\u001b[32m[0922 13:28:02 @monitor.py:467]\u001b[0m GAN_loss/gen/final-g-loss: 1.3164\n",
      "\u001b[32m[0922 13:28:02 @monitor.py:467]\u001b[0m GAN_loss/gen/klloss: 0.24708\n",
      "\u001b[32m[0922 13:28:02 @monitor.py:467]\u001b[0m GAN_loss/gen/loss: 1.0693\n",
      "\u001b[32m[0922 13:28:02 @monitor.py:467]\u001b[0m QueueInput/queue_size: 50\n",
      "\u001b[32m[0922 13:28:02 @base.py:275]\u001b[0m Start Epoch 574 ...\n"
     ]
    },
    {
     "name": "stderr",
     "output_type": "stream",
     "text": [
      "100%|#################################################################################|2000/2000[01:10<00:00,28.23it/s]"
     ]
    },
    {
     "name": "stdout",
     "output_type": "stream",
     "text": [
      "\u001b[32m[0922 13:29:13 @base.py:285]\u001b[0m Epoch 574 (global_step 1148000) finished, time:1 minute 10 seconds.\n",
      "\u001b[32m[0922 13:29:13 @saver.py:79]\u001b[0m Model saved to ../output/LPMC/DATGAN/model\\model-1148000.\n",
      "\u001b[32m[0922 13:29:13 @monitor.py:467]\u001b[0m GAN_loss/discrim/accuracy_fake: 0.85\n"
     ]
    },
    {
     "name": "stderr",
     "output_type": "stream",
     "text": [
      "\n"
     ]
    },
    {
     "name": "stdout",
     "output_type": "stream",
     "text": [
      "\u001b[32m[0922 13:29:13 @monitor.py:467]\u001b[0m GAN_loss/discrim/accuracy_real: 0.215\n",
      "\u001b[32m[0922 13:29:13 @monitor.py:467]\u001b[0m GAN_loss/discrim/loss: 0.64157\n",
      "\u001b[32m[0922 13:29:13 @monitor.py:467]\u001b[0m GAN_loss/gen/final-g-loss: 1.2522\n",
      "\u001b[32m[0922 13:29:13 @monitor.py:467]\u001b[0m GAN_loss/gen/klloss: 0.17209\n",
      "\u001b[32m[0922 13:29:13 @monitor.py:467]\u001b[0m GAN_loss/gen/loss: 1.0801\n",
      "\u001b[32m[0922 13:29:13 @monitor.py:467]\u001b[0m QueueInput/queue_size: 50\n",
      "\u001b[32m[0922 13:29:13 @base.py:275]\u001b[0m Start Epoch 575 ...\n"
     ]
    },
    {
     "name": "stderr",
     "output_type": "stream",
     "text": [
      "100%|#################################################################################|2000/2000[01:10<00:00,28.20it/s]"
     ]
    },
    {
     "name": "stdout",
     "output_type": "stream",
     "text": [
      "\u001b[32m[0922 13:30:24 @base.py:285]\u001b[0m Epoch 575 (global_step 1150000) finished, time:1 minute 10 seconds.\n",
      "\u001b[32m[0922 13:30:24 @saver.py:79]\u001b[0m Model saved to ../output/LPMC/DATGAN/model\\model-1150000.\n"
     ]
    },
    {
     "name": "stderr",
     "output_type": "stream",
     "text": [
      "\n"
     ]
    },
    {
     "name": "stdout",
     "output_type": "stream",
     "text": [
      "\u001b[32m[0922 13:30:24 @monitor.py:467]\u001b[0m GAN_loss/discrim/accuracy_fake: 0.88\n",
      "\u001b[32m[0922 13:30:24 @monitor.py:467]\u001b[0m GAN_loss/discrim/accuracy_real: 0.21\n",
      "\u001b[32m[0922 13:30:24 @monitor.py:467]\u001b[0m GAN_loss/discrim/loss: 0.65172\n",
      "\u001b[32m[0922 13:30:24 @monitor.py:467]\u001b[0m GAN_loss/gen/final-g-loss: 1.2486\n",
      "\u001b[32m[0922 13:30:24 @monitor.py:467]\u001b[0m GAN_loss/gen/klloss: 0.17921\n",
      "\u001b[32m[0922 13:30:24 @monitor.py:467]\u001b[0m GAN_loss/gen/loss: 1.0694\n",
      "\u001b[32m[0922 13:30:24 @monitor.py:467]\u001b[0m QueueInput/queue_size: 50\n",
      "\u001b[32m[0922 13:30:24 @base.py:275]\u001b[0m Start Epoch 576 ...\n"
     ]
    },
    {
     "name": "stderr",
     "output_type": "stream",
     "text": [
      "100%|#################################################################################|2000/2000[01:10<00:00,28.40it/s]"
     ]
    },
    {
     "name": "stdout",
     "output_type": "stream",
     "text": [
      "\u001b[32m[0922 13:31:35 @base.py:285]\u001b[0m Epoch 576 (global_step 1152000) finished, time:1 minute 10 seconds.\n",
      "\u001b[32m[0922 13:31:35 @saver.py:79]\u001b[0m Model saved to ../output/LPMC/DATGAN/model\\model-1152000.\n",
      "\u001b[32m[0922 13:31:35 @monitor.py:467]\u001b[0m GAN_loss/discrim/accuracy_fake: 0.845\n"
     ]
    },
    {
     "name": "stderr",
     "output_type": "stream",
     "text": [
      "\n"
     ]
    },
    {
     "name": "stdout",
     "output_type": "stream",
     "text": [
      "\u001b[32m[0922 13:31:35 @monitor.py:467]\u001b[0m GAN_loss/discrim/accuracy_real: 0.22\n",
      "\u001b[32m[0922 13:31:35 @monitor.py:467]\u001b[0m GAN_loss/discrim/loss: 0.64667\n",
      "\u001b[32m[0922 13:31:35 @monitor.py:467]\u001b[0m GAN_loss/gen/final-g-loss: 1.3406\n",
      "\u001b[32m[0922 13:31:35 @monitor.py:467]\u001b[0m GAN_loss/gen/klloss: 0.2681\n",
      "\u001b[32m[0922 13:31:35 @monitor.py:467]\u001b[0m GAN_loss/gen/loss: 1.0725\n",
      "\u001b[32m[0922 13:31:35 @monitor.py:467]\u001b[0m QueueInput/queue_size: 50\n",
      "\u001b[32m[0922 13:31:35 @base.py:275]\u001b[0m Start Epoch 577 ...\n"
     ]
    },
    {
     "name": "stderr",
     "output_type": "stream",
     "text": [
      "100%|#################################################################################|2000/2000[01:10<00:00,28.38it/s]"
     ]
    },
    {
     "name": "stdout",
     "output_type": "stream",
     "text": [
      "\u001b[32m[0922 13:32:45 @base.py:285]\u001b[0m Epoch 577 (global_step 1154000) finished, time:1 minute 10 seconds.\n",
      "\u001b[32m[0922 13:32:45 @saver.py:79]\u001b[0m Model saved to ../output/LPMC/DATGAN/model\\model-1154000.\n",
      "\u001b[32m[0922 13:32:45 @monitor.py:467]\u001b[0m GAN_loss/discrim/accuracy_fake: 0.835\n"
     ]
    },
    {
     "name": "stderr",
     "output_type": "stream",
     "text": [
      "\n"
     ]
    },
    {
     "name": "stdout",
     "output_type": "stream",
     "text": [
      "\u001b[32m[0922 13:32:45 @monitor.py:467]\u001b[0m GAN_loss/discrim/accuracy_real: 0.205\n",
      "\u001b[32m[0922 13:32:45 @monitor.py:467]\u001b[0m GAN_loss/discrim/loss: 0.65942\n",
      "\u001b[32m[0922 13:32:45 @monitor.py:467]\u001b[0m GAN_loss/gen/final-g-loss: 1.2694\n",
      "\u001b[32m[0922 13:32:45 @monitor.py:467]\u001b[0m GAN_loss/gen/klloss: 0.23327\n",
      "\u001b[32m[0922 13:32:45 @monitor.py:467]\u001b[0m GAN_loss/gen/loss: 1.0362\n",
      "\u001b[32m[0922 13:32:45 @monitor.py:467]\u001b[0m QueueInput/queue_size: 50\n",
      "\u001b[32m[0922 13:32:45 @base.py:275]\u001b[0m Start Epoch 578 ...\n"
     ]
    },
    {
     "name": "stderr",
     "output_type": "stream",
     "text": [
      "100%|#################################################################################|2000/2000[01:11<00:00,28.15it/s]"
     ]
    },
    {
     "name": "stdout",
     "output_type": "stream",
     "text": [
      "\u001b[32m[0922 13:33:56 @base.py:285]\u001b[0m Epoch 578 (global_step 1156000) finished, time:1 minute 11 seconds.\n",
      "\u001b[32m[0922 13:33:57 @saver.py:79]\u001b[0m Model saved to ../output/LPMC/DATGAN/model\\model-1156000.\n",
      "\u001b[32m[0922 13:33:57 @monitor.py:467]\u001b[0m GAN_loss/discrim/accuracy_fake: 0.87\n"
     ]
    },
    {
     "name": "stderr",
     "output_type": "stream",
     "text": [
      "\n"
     ]
    },
    {
     "name": "stdout",
     "output_type": "stream",
     "text": [
      "\u001b[32m[0922 13:33:57 @monitor.py:467]\u001b[0m GAN_loss/discrim/accuracy_real: 0.205\n",
      "\u001b[32m[0922 13:33:57 @monitor.py:467]\u001b[0m GAN_loss/discrim/loss: 0.64135\n",
      "\u001b[32m[0922 13:33:57 @monitor.py:467]\u001b[0m GAN_loss/gen/final-g-loss: 1.3094\n",
      "\u001b[32m[0922 13:33:57 @monitor.py:467]\u001b[0m GAN_loss/gen/klloss: 0.24417\n",
      "\u001b[32m[0922 13:33:57 @monitor.py:467]\u001b[0m GAN_loss/gen/loss: 1.0652\n",
      "\u001b[32m[0922 13:33:57 @monitor.py:467]\u001b[0m QueueInput/queue_size: 50\n",
      "\u001b[32m[0922 13:33:57 @base.py:275]\u001b[0m Start Epoch 579 ...\n"
     ]
    },
    {
     "name": "stderr",
     "output_type": "stream",
     "text": [
      "100%|#################################################################################|2000/2000[01:11<00:00,28.16it/s]"
     ]
    },
    {
     "name": "stdout",
     "output_type": "stream",
     "text": [
      "\u001b[32m[0922 13:35:08 @base.py:285]\u001b[0m Epoch 579 (global_step 1158000) finished, time:1 minute 11 seconds.\n",
      "\u001b[32m[0922 13:35:08 @saver.py:79]\u001b[0m Model saved to ../output/LPMC/DATGAN/model\\model-1158000.\n"
     ]
    },
    {
     "name": "stderr",
     "output_type": "stream",
     "text": [
      "\n"
     ]
    },
    {
     "name": "stdout",
     "output_type": "stream",
     "text": [
      "\u001b[32m[0922 13:35:08 @monitor.py:467]\u001b[0m GAN_loss/discrim/accuracy_fake: 0.89\n",
      "\u001b[32m[0922 13:35:08 @monitor.py:467]\u001b[0m GAN_loss/discrim/accuracy_real: 0.255\n",
      "\u001b[32m[0922 13:35:08 @monitor.py:467]\u001b[0m GAN_loss/discrim/loss: 0.63142\n",
      "\u001b[32m[0922 13:35:08 @monitor.py:467]\u001b[0m GAN_loss/gen/final-g-loss: 1.3839\n",
      "\u001b[32m[0922 13:35:08 @monitor.py:467]\u001b[0m GAN_loss/gen/klloss: 0.29716\n",
      "\u001b[32m[0922 13:35:08 @monitor.py:467]\u001b[0m GAN_loss/gen/loss: 1.0868\n",
      "\u001b[32m[0922 13:35:08 @monitor.py:467]\u001b[0m QueueInput/queue_size: 50\n",
      "\u001b[32m[0922 13:35:08 @base.py:275]\u001b[0m Start Epoch 580 ...\n"
     ]
    },
    {
     "name": "stderr",
     "output_type": "stream",
     "text": [
      "100%|#################################################################################|2000/2000[01:11<00:00,28.11it/s]"
     ]
    },
    {
     "name": "stdout",
     "output_type": "stream",
     "text": [
      "\u001b[32m[0922 13:36:19 @base.py:285]\u001b[0m Epoch 580 (global_step 1160000) finished, time:1 minute 11 seconds.\n",
      "\u001b[32m[0922 13:36:19 @saver.py:79]\u001b[0m Model saved to ../output/LPMC/DATGAN/model\\model-1160000.\n",
      "\u001b[32m[0922 13:36:19 @monitor.py:467]\u001b[0m GAN_loss/discrim/accuracy_fake: 0.91\n"
     ]
    },
    {
     "name": "stderr",
     "output_type": "stream",
     "text": [
      "\n"
     ]
    },
    {
     "name": "stdout",
     "output_type": "stream",
     "text": [
      "\u001b[32m[0922 13:36:19 @monitor.py:467]\u001b[0m GAN_loss/discrim/accuracy_real: 0.235\n",
      "\u001b[32m[0922 13:36:19 @monitor.py:467]\u001b[0m GAN_loss/discrim/loss: 0.6306\n",
      "\u001b[32m[0922 13:36:19 @monitor.py:467]\u001b[0m GAN_loss/gen/final-g-loss: 1.3428\n",
      "\u001b[32m[0922 13:36:19 @monitor.py:467]\u001b[0m GAN_loss/gen/klloss: 0.25219\n",
      "\u001b[32m[0922 13:36:19 @monitor.py:467]\u001b[0m GAN_loss/gen/loss: 1.0906\n",
      "\u001b[32m[0922 13:36:19 @monitor.py:467]\u001b[0m QueueInput/queue_size: 50\n",
      "\u001b[32m[0922 13:36:19 @base.py:275]\u001b[0m Start Epoch 581 ...\n"
     ]
    },
    {
     "name": "stderr",
     "output_type": "stream",
     "text": [
      "100%|#################################################################################|2000/2000[01:11<00:00,28.12it/s]"
     ]
    },
    {
     "name": "stdout",
     "output_type": "stream",
     "text": [
      "\u001b[32m[0922 13:37:30 @base.py:285]\u001b[0m Epoch 581 (global_step 1162000) finished, time:1 minute 11 seconds.\n",
      "\u001b[32m[0922 13:37:30 @saver.py:79]\u001b[0m Model saved to ../output/LPMC/DATGAN/model\\model-1162000.\n"
     ]
    },
    {
     "name": "stderr",
     "output_type": "stream",
     "text": [
      "\n"
     ]
    },
    {
     "name": "stdout",
     "output_type": "stream",
     "text": [
      "\u001b[32m[0922 13:37:31 @monitor.py:467]\u001b[0m GAN_loss/discrim/accuracy_fake: 0.905\n",
      "\u001b[32m[0922 13:37:31 @monitor.py:467]\u001b[0m GAN_loss/discrim/accuracy_real: 0.17\n",
      "\u001b[32m[0922 13:37:31 @monitor.py:467]\u001b[0m GAN_loss/discrim/loss: 0.64488\n",
      "\u001b[32m[0922 13:37:31 @monitor.py:467]\u001b[0m GAN_loss/gen/final-g-loss: 1.3282\n",
      "\u001b[32m[0922 13:37:31 @monitor.py:467]\u001b[0m GAN_loss/gen/klloss: 0.2488\n",
      "\u001b[32m[0922 13:37:31 @monitor.py:467]\u001b[0m GAN_loss/gen/loss: 1.0794\n",
      "\u001b[32m[0922 13:37:31 @monitor.py:467]\u001b[0m QueueInput/queue_size: 50\n",
      "\u001b[32m[0922 13:37:31 @base.py:275]\u001b[0m Start Epoch 582 ...\n"
     ]
    },
    {
     "name": "stderr",
     "output_type": "stream",
     "text": [
      "100%|#################################################################################|2000/2000[01:11<00:00,28.15it/s]"
     ]
    },
    {
     "name": "stdout",
     "output_type": "stream",
     "text": [
      "\u001b[32m[0922 13:38:42 @base.py:285]\u001b[0m Epoch 582 (global_step 1164000) finished, time:1 minute 11 seconds.\n",
      "\u001b[32m[0922 13:38:42 @saver.py:79]\u001b[0m Model saved to ../output/LPMC/DATGAN/model\\model-1164000.\n"
     ]
    },
    {
     "name": "stderr",
     "output_type": "stream",
     "text": [
      "\n"
     ]
    },
    {
     "name": "stdout",
     "output_type": "stream",
     "text": [
      "\u001b[32m[0922 13:38:42 @monitor.py:467]\u001b[0m GAN_loss/discrim/accuracy_fake: 0.87\n",
      "\u001b[32m[0922 13:38:42 @monitor.py:467]\u001b[0m GAN_loss/discrim/accuracy_real: 0.215\n",
      "\u001b[32m[0922 13:38:42 @monitor.py:467]\u001b[0m GAN_loss/discrim/loss: 0.64093\n",
      "\u001b[32m[0922 13:38:42 @monitor.py:467]\u001b[0m GAN_loss/gen/final-g-loss: 1.3494\n",
      "\u001b[32m[0922 13:38:42 @monitor.py:467]\u001b[0m GAN_loss/gen/klloss: 0.27635\n",
      "\u001b[32m[0922 13:38:42 @monitor.py:467]\u001b[0m GAN_loss/gen/loss: 1.0731\n",
      "\u001b[32m[0922 13:38:42 @monitor.py:467]\u001b[0m QueueInput/queue_size: 50\n",
      "\u001b[32m[0922 13:38:42 @base.py:275]\u001b[0m Start Epoch 583 ...\n"
     ]
    },
    {
     "name": "stderr",
     "output_type": "stream",
     "text": [
      "100%|#################################################################################|2000/2000[01:11<00:00,28.17it/s]"
     ]
    },
    {
     "name": "stdout",
     "output_type": "stream",
     "text": [
      "\u001b[32m[0922 13:39:53 @base.py:285]\u001b[0m Epoch 583 (global_step 1166000) finished, time:1 minute 11 seconds.\n",
      "\u001b[32m[0922 13:39:53 @saver.py:79]\u001b[0m Model saved to ../output/LPMC/DATGAN/model\\model-1166000.\n"
     ]
    },
    {
     "name": "stderr",
     "output_type": "stream",
     "text": [
      "\n"
     ]
    },
    {
     "name": "stdout",
     "output_type": "stream",
     "text": [
      "\u001b[32m[0922 13:39:53 @monitor.py:467]\u001b[0m GAN_loss/discrim/accuracy_fake: 0.865\n",
      "\u001b[32m[0922 13:39:53 @monitor.py:467]\u001b[0m GAN_loss/discrim/accuracy_real: 0.215\n",
      "\u001b[32m[0922 13:39:53 @monitor.py:467]\u001b[0m GAN_loss/discrim/loss: 0.65358\n",
      "\u001b[32m[0922 13:39:53 @monitor.py:467]\u001b[0m GAN_loss/gen/final-g-loss: 1.3098\n",
      "\u001b[32m[0922 13:39:53 @monitor.py:467]\u001b[0m GAN_loss/gen/klloss: 0.25576\n",
      "\u001b[32m[0922 13:39:53 @monitor.py:467]\u001b[0m GAN_loss/gen/loss: 1.054\n",
      "\u001b[32m[0922 13:39:53 @monitor.py:467]\u001b[0m QueueInput/queue_size: 50\n",
      "\u001b[32m[0922 13:39:53 @base.py:275]\u001b[0m Start Epoch 584 ...\n"
     ]
    },
    {
     "name": "stderr",
     "output_type": "stream",
     "text": [
      "100%|#################################################################################|2000/2000[01:10<00:00,28.24it/s]"
     ]
    },
    {
     "name": "stdout",
     "output_type": "stream",
     "text": [
      "\u001b[32m[0922 13:41:04 @base.py:285]\u001b[0m Epoch 584 (global_step 1168000) finished, time:1 minute 10 seconds.\n"
     ]
    },
    {
     "name": "stderr",
     "output_type": "stream",
     "text": [
      "\n"
     ]
    },
    {
     "name": "stdout",
     "output_type": "stream",
     "text": [
      "\u001b[32m[0922 13:41:04 @saver.py:79]\u001b[0m Model saved to ../output/LPMC/DATGAN/model\\model-1168000.\n",
      "\u001b[32m[0922 13:41:04 @monitor.py:467]\u001b[0m GAN_loss/discrim/accuracy_fake: 0.865\n",
      "\u001b[32m[0922 13:41:04 @monitor.py:467]\u001b[0m GAN_loss/discrim/accuracy_real: 0.18\n",
      "\u001b[32m[0922 13:41:04 @monitor.py:467]\u001b[0m GAN_loss/discrim/loss: 0.66087\n",
      "\u001b[32m[0922 13:41:04 @monitor.py:467]\u001b[0m GAN_loss/gen/final-g-loss: 1.4187\n",
      "\u001b[32m[0922 13:41:04 @monitor.py:467]\u001b[0m GAN_loss/gen/klloss: 0.3514\n",
      "\u001b[32m[0922 13:41:04 @monitor.py:467]\u001b[0m GAN_loss/gen/loss: 1.0672\n",
      "\u001b[32m[0922 13:41:04 @monitor.py:467]\u001b[0m QueueInput/queue_size: 50\n",
      "\u001b[32m[0922 13:41:04 @base.py:275]\u001b[0m Start Epoch 585 ...\n"
     ]
    },
    {
     "name": "stderr",
     "output_type": "stream",
     "text": [
      "100%|#################################################################################|2000/2000[01:10<00:00,28.22it/s]"
     ]
    },
    {
     "name": "stdout",
     "output_type": "stream",
     "text": [
      "\u001b[32m[0922 13:42:15 @base.py:285]\u001b[0m Epoch 585 (global_step 1170000) finished, time:1 minute 10 seconds.\n",
      "\u001b[32m[0922 13:42:15 @saver.py:79]\u001b[0m Model saved to ../output/LPMC/DATGAN/model\\model-1170000.\n"
     ]
    },
    {
     "name": "stderr",
     "output_type": "stream",
     "text": [
      "\n"
     ]
    },
    {
     "name": "stdout",
     "output_type": "stream",
     "text": [
      "\u001b[32m[0922 13:42:15 @monitor.py:467]\u001b[0m GAN_loss/discrim/accuracy_fake: 0.905\n",
      "\u001b[32m[0922 13:42:15 @monitor.py:467]\u001b[0m GAN_loss/discrim/accuracy_real: 0.225\n",
      "\u001b[32m[0922 13:42:15 @monitor.py:467]\u001b[0m GAN_loss/discrim/loss: 0.64104\n",
      "\u001b[32m[0922 13:42:15 @monitor.py:467]\u001b[0m GAN_loss/gen/final-g-loss: 1.4093\n",
      "\u001b[32m[0922 13:42:15 @monitor.py:467]\u001b[0m GAN_loss/gen/klloss: 0.3324\n",
      "\u001b[32m[0922 13:42:15 @monitor.py:467]\u001b[0m GAN_loss/gen/loss: 1.0769\n",
      "\u001b[32m[0922 13:42:15 @monitor.py:467]\u001b[0m QueueInput/queue_size: 50\n",
      "\u001b[32m[0922 13:42:15 @base.py:275]\u001b[0m Start Epoch 586 ...\n"
     ]
    },
    {
     "name": "stderr",
     "output_type": "stream",
     "text": [
      "100%|#################################################################################|2000/2000[01:10<00:00,28.23it/s]"
     ]
    },
    {
     "name": "stdout",
     "output_type": "stream",
     "text": [
      "\u001b[32m[0922 13:43:26 @base.py:285]\u001b[0m Epoch 586 (global_step 1172000) finished, time:1 minute 10 seconds.\n",
      "\u001b[32m[0922 13:43:26 @saver.py:79]\u001b[0m Model saved to ../output/LPMC/DATGAN/model\\model-1172000.\n"
     ]
    },
    {
     "name": "stderr",
     "output_type": "stream",
     "text": [
      "\n"
     ]
    },
    {
     "name": "stdout",
     "output_type": "stream",
     "text": [
      "\u001b[32m[0922 13:43:26 @monitor.py:467]\u001b[0m GAN_loss/discrim/accuracy_fake: 0.88\n",
      "\u001b[32m[0922 13:43:26 @monitor.py:467]\u001b[0m GAN_loss/discrim/accuracy_real: 0.165\n",
      "\u001b[32m[0922 13:43:26 @monitor.py:467]\u001b[0m GAN_loss/discrim/loss: 0.64275\n",
      "\u001b[32m[0922 13:43:26 @monitor.py:467]\u001b[0m GAN_loss/gen/final-g-loss: 1.3318\n",
      "\u001b[32m[0922 13:43:26 @monitor.py:467]\u001b[0m GAN_loss/gen/klloss: 0.24963\n",
      "\u001b[32m[0922 13:43:26 @monitor.py:467]\u001b[0m GAN_loss/gen/loss: 1.0822\n",
      "\u001b[32m[0922 13:43:26 @monitor.py:467]\u001b[0m QueueInput/queue_size: 50\n",
      "\u001b[32m[0922 13:43:26 @base.py:275]\u001b[0m Start Epoch 587 ...\n"
     ]
    },
    {
     "name": "stderr",
     "output_type": "stream",
     "text": [
      "100%|#################################################################################|2000/2000[01:11<00:00,28.14it/s]"
     ]
    },
    {
     "name": "stdout",
     "output_type": "stream",
     "text": [
      "\u001b[32m[0922 13:44:37 @base.py:285]\u001b[0m Epoch 587 (global_step 1174000) finished, time:1 minute 11 seconds.\n",
      "\u001b[32m[0922 13:44:37 @saver.py:79]\u001b[0m Model saved to ../output/LPMC/DATGAN/model\\model-1174000.\n",
      "\u001b[32m[0922 13:44:37 @monitor.py:467]\u001b[0m GAN_loss/discrim/accuracy_fake: 0.86\n"
     ]
    },
    {
     "name": "stderr",
     "output_type": "stream",
     "text": [
      "\n"
     ]
    },
    {
     "name": "stdout",
     "output_type": "stream",
     "text": [
      "\u001b[32m[0922 13:44:37 @monitor.py:467]\u001b[0m GAN_loss/discrim/accuracy_real: 0.245\n",
      "\u001b[32m[0922 13:44:37 @monitor.py:467]\u001b[0m GAN_loss/discrim/loss: 0.64252\n",
      "\u001b[32m[0922 13:44:37 @monitor.py:467]\u001b[0m GAN_loss/gen/final-g-loss: 1.2739\n",
      "\u001b[32m[0922 13:44:37 @monitor.py:467]\u001b[0m GAN_loss/gen/klloss: 0.20034\n",
      "\u001b[32m[0922 13:44:37 @monitor.py:467]\u001b[0m GAN_loss/gen/loss: 1.0735\n",
      "\u001b[32m[0922 13:44:37 @monitor.py:467]\u001b[0m QueueInput/queue_size: 50\n",
      "\u001b[32m[0922 13:44:37 @base.py:275]\u001b[0m Start Epoch 588 ...\n"
     ]
    },
    {
     "name": "stderr",
     "output_type": "stream",
     "text": [
      "100%|#################################################################################|2000/2000[01:11<00:00,28.14it/s]"
     ]
    },
    {
     "name": "stdout",
     "output_type": "stream",
     "text": [
      "\u001b[32m[0922 13:45:49 @base.py:285]\u001b[0m Epoch 588 (global_step 1176000) finished, time:1 minute 11 seconds.\n",
      "\u001b[32m[0922 13:45:49 @saver.py:79]\u001b[0m Model saved to ../output/LPMC/DATGAN/model\\model-1176000.\n",
      "\u001b[32m[0922 13:45:49 @monitor.py:467]\u001b[0m GAN_loss/discrim/accuracy_fake: 0.9\n"
     ]
    },
    {
     "name": "stderr",
     "output_type": "stream",
     "text": [
      "\n"
     ]
    },
    {
     "name": "stdout",
     "output_type": "stream",
     "text": [
      "\u001b[32m[0922 13:45:49 @monitor.py:467]\u001b[0m GAN_loss/discrim/accuracy_real: 0.165\n",
      "\u001b[32m[0922 13:45:49 @monitor.py:467]\u001b[0m GAN_loss/discrim/loss: 0.64271\n",
      "\u001b[32m[0922 13:45:49 @monitor.py:467]\u001b[0m GAN_loss/gen/final-g-loss: 1.2897\n",
      "\u001b[32m[0922 13:45:49 @monitor.py:467]\u001b[0m GAN_loss/gen/klloss: 0.18976\n",
      "\u001b[32m[0922 13:45:49 @monitor.py:467]\u001b[0m GAN_loss/gen/loss: 1.0999\n",
      "\u001b[32m[0922 13:45:49 @monitor.py:467]\u001b[0m QueueInput/queue_size: 50\n",
      "\u001b[32m[0922 13:45:49 @base.py:275]\u001b[0m Start Epoch 589 ...\n"
     ]
    },
    {
     "name": "stderr",
     "output_type": "stream",
     "text": [
      "100%|#################################################################################|2000/2000[01:11<00:00,28.17it/s]"
     ]
    },
    {
     "name": "stdout",
     "output_type": "stream",
     "text": [
      "\u001b[32m[0922 13:47:00 @base.py:285]\u001b[0m Epoch 589 (global_step 1178000) finished, time:1 minute 11 seconds.\n",
      "\u001b[32m[0922 13:47:00 @saver.py:79]\u001b[0m Model saved to ../output/LPMC/DATGAN/model\\model-1178000.\n",
      "\u001b[32m[0922 13:47:00 @monitor.py:467]\u001b[0m GAN_loss/discrim/accuracy_fake: 0.905\n"
     ]
    },
    {
     "name": "stderr",
     "output_type": "stream",
     "text": [
      "\n"
     ]
    },
    {
     "name": "stdout",
     "output_type": "stream",
     "text": [
      "\u001b[32m[0922 13:47:00 @monitor.py:467]\u001b[0m GAN_loss/discrim/accuracy_real: 0.245\n",
      "\u001b[32m[0922 13:47:00 @monitor.py:467]\u001b[0m GAN_loss/discrim/loss: 0.63767\n",
      "\u001b[32m[0922 13:47:00 @monitor.py:467]\u001b[0m GAN_loss/gen/final-g-loss: 1.3172\n",
      "\u001b[32m[0922 13:47:00 @monitor.py:467]\u001b[0m GAN_loss/gen/klloss: 0.24825\n",
      "\u001b[32m[0922 13:47:00 @monitor.py:467]\u001b[0m GAN_loss/gen/loss: 1.069\n",
      "\u001b[32m[0922 13:47:00 @monitor.py:467]\u001b[0m QueueInput/queue_size: 50\n",
      "\u001b[32m[0922 13:47:00 @base.py:275]\u001b[0m Start Epoch 590 ...\n"
     ]
    },
    {
     "name": "stderr",
     "output_type": "stream",
     "text": [
      "100%|#################################################################################|2000/2000[01:10<00:00,28.20it/s]"
     ]
    },
    {
     "name": "stdout",
     "output_type": "stream",
     "text": [
      "\u001b[32m[0922 13:48:11 @base.py:285]\u001b[0m Epoch 590 (global_step 1180000) finished, time:1 minute 10 seconds.\n",
      "\u001b[32m[0922 13:48:11 @saver.py:79]\u001b[0m Model saved to ../output/LPMC/DATGAN/model\\model-1180000.\n",
      "\u001b[32m[0922 13:48:11 @monitor.py:467]\u001b[0m GAN_loss/discrim/accuracy_fake: 0.865\n"
     ]
    },
    {
     "name": "stderr",
     "output_type": "stream",
     "text": [
      "\n"
     ]
    },
    {
     "name": "stdout",
     "output_type": "stream",
     "text": [
      "\u001b[32m[0922 13:48:11 @monitor.py:467]\u001b[0m GAN_loss/discrim/accuracy_real: 0.215\n",
      "\u001b[32m[0922 13:48:11 @monitor.py:467]\u001b[0m GAN_loss/discrim/loss: 0.64229\n",
      "\u001b[32m[0922 13:48:11 @monitor.py:467]\u001b[0m GAN_loss/gen/final-g-loss: 1.3403\n",
      "\u001b[32m[0922 13:48:11 @monitor.py:467]\u001b[0m GAN_loss/gen/klloss: 0.27381\n",
      "\u001b[32m[0922 13:48:11 @monitor.py:467]\u001b[0m GAN_loss/gen/loss: 1.0665\n",
      "\u001b[32m[0922 13:48:11 @monitor.py:467]\u001b[0m QueueInput/queue_size: 50\n",
      "\u001b[32m[0922 13:48:11 @base.py:275]\u001b[0m Start Epoch 591 ...\n"
     ]
    },
    {
     "name": "stderr",
     "output_type": "stream",
     "text": [
      "100%|#################################################################################|2000/2000[01:10<00:00,28.19it/s]"
     ]
    },
    {
     "name": "stdout",
     "output_type": "stream",
     "text": [
      "\u001b[32m[0922 13:49:22 @base.py:285]\u001b[0m Epoch 591 (global_step 1182000) finished, time:1 minute 10 seconds.\n"
     ]
    },
    {
     "name": "stderr",
     "output_type": "stream",
     "text": [
      "\n"
     ]
    },
    {
     "name": "stdout",
     "output_type": "stream",
     "text": [
      "\u001b[32m[0922 13:49:22 @saver.py:79]\u001b[0m Model saved to ../output/LPMC/DATGAN/model\\model-1182000.\n",
      "\u001b[32m[0922 13:49:22 @monitor.py:467]\u001b[0m GAN_loss/discrim/accuracy_fake: 0.89\n",
      "\u001b[32m[0922 13:49:22 @monitor.py:467]\u001b[0m GAN_loss/discrim/accuracy_real: 0.245\n",
      "\u001b[32m[0922 13:49:22 @monitor.py:467]\u001b[0m GAN_loss/discrim/loss: 0.64185\n",
      "\u001b[32m[0922 13:49:22 @monitor.py:467]\u001b[0m GAN_loss/gen/final-g-loss: 1.2998\n",
      "\u001b[32m[0922 13:49:22 @monitor.py:467]\u001b[0m GAN_loss/gen/klloss: 0.20258\n",
      "\u001b[32m[0922 13:49:22 @monitor.py:467]\u001b[0m GAN_loss/gen/loss: 1.0972\n",
      "\u001b[32m[0922 13:49:22 @monitor.py:467]\u001b[0m QueueInput/queue_size: 50\n",
      "\u001b[32m[0922 13:49:22 @base.py:275]\u001b[0m Start Epoch 592 ...\n"
     ]
    },
    {
     "name": "stderr",
     "output_type": "stream",
     "text": [
      "100%|#################################################################################|2000/2000[01:10<00:00,28.19it/s]"
     ]
    },
    {
     "name": "stdout",
     "output_type": "stream",
     "text": [
      "\u001b[32m[0922 13:50:33 @base.py:285]\u001b[0m Epoch 592 (global_step 1184000) finished, time:1 minute 10 seconds.\n",
      "\u001b[32m[0922 13:50:33 @saver.py:79]\u001b[0m Model saved to ../output/LPMC/DATGAN/model\\model-1184000.\n",
      "\u001b[32m[0922 13:50:33 @monitor.py:467]\u001b[0m GAN_loss/discrim/accuracy_fake: 0.905\n"
     ]
    },
    {
     "name": "stderr",
     "output_type": "stream",
     "text": [
      "\n"
     ]
    },
    {
     "name": "stdout",
     "output_type": "stream",
     "text": [
      "\u001b[32m[0922 13:50:33 @monitor.py:467]\u001b[0m GAN_loss/discrim/accuracy_real: 0.225\n",
      "\u001b[32m[0922 13:50:33 @monitor.py:467]\u001b[0m GAN_loss/discrim/loss: 0.62775\n",
      "\u001b[32m[0922 13:50:33 @monitor.py:467]\u001b[0m GAN_loss/gen/final-g-loss: 1.3289\n",
      "\u001b[32m[0922 13:50:33 @monitor.py:467]\u001b[0m GAN_loss/gen/klloss: 0.23416\n",
      "\u001b[32m[0922 13:50:33 @monitor.py:467]\u001b[0m GAN_loss/gen/loss: 1.0947\n",
      "\u001b[32m[0922 13:50:33 @monitor.py:467]\u001b[0m QueueInput/queue_size: 50\n",
      "\u001b[32m[0922 13:50:33 @base.py:275]\u001b[0m Start Epoch 593 ...\n"
     ]
    },
    {
     "name": "stderr",
     "output_type": "stream",
     "text": [
      "100%|#################################################################################|2000/2000[01:10<00:00,28.18it/s]"
     ]
    },
    {
     "name": "stdout",
     "output_type": "stream",
     "text": [
      "\u001b[32m[0922 13:51:44 @base.py:285]\u001b[0m Epoch 593 (global_step 1186000) finished, time:1 minute 10 seconds.\n",
      "\u001b[32m[0922 13:51:44 @saver.py:79]\u001b[0m Model saved to ../output/LPMC/DATGAN/model\\model-1186000.\n"
     ]
    },
    {
     "name": "stderr",
     "output_type": "stream",
     "text": [
      "\n"
     ]
    },
    {
     "name": "stdout",
     "output_type": "stream",
     "text": [
      "\u001b[32m[0922 13:51:45 @monitor.py:467]\u001b[0m GAN_loss/discrim/accuracy_fake: 0.845\n",
      "\u001b[32m[0922 13:51:45 @monitor.py:467]\u001b[0m GAN_loss/discrim/accuracy_real: 0.19\n",
      "\u001b[32m[0922 13:51:45 @monitor.py:467]\u001b[0m GAN_loss/discrim/loss: 0.6599\n",
      "\u001b[32m[0922 13:51:45 @monitor.py:467]\u001b[0m GAN_loss/gen/final-g-loss: 1.2811\n",
      "\u001b[32m[0922 13:51:45 @monitor.py:467]\u001b[0m GAN_loss/gen/klloss: 0.2193\n",
      "\u001b[32m[0922 13:51:45 @monitor.py:467]\u001b[0m GAN_loss/gen/loss: 1.0618\n",
      "\u001b[32m[0922 13:51:45 @monitor.py:467]\u001b[0m QueueInput/queue_size: 50\n",
      "\u001b[32m[0922 13:51:45 @base.py:275]\u001b[0m Start Epoch 594 ...\n"
     ]
    },
    {
     "name": "stderr",
     "output_type": "stream",
     "text": [
      "100%|#################################################################################|2000/2000[01:11<00:00,28.15it/s]"
     ]
    },
    {
     "name": "stdout",
     "output_type": "stream",
     "text": [
      "\u001b[32m[0922 13:52:56 @base.py:285]\u001b[0m Epoch 594 (global_step 1188000) finished, time:1 minute 11 seconds.\n",
      "\u001b[32m[0922 13:52:56 @saver.py:79]\u001b[0m Model saved to ../output/LPMC/DATGAN/model\\model-1188000.\n"
     ]
    },
    {
     "name": "stderr",
     "output_type": "stream",
     "text": [
      "\n"
     ]
    },
    {
     "name": "stdout",
     "output_type": "stream",
     "text": [
      "\u001b[32m[0922 13:52:56 @monitor.py:467]\u001b[0m GAN_loss/discrim/accuracy_fake: 0.875\n",
      "\u001b[32m[0922 13:52:56 @monitor.py:467]\u001b[0m GAN_loss/discrim/accuracy_real: 0.23\n",
      "\u001b[32m[0922 13:52:56 @monitor.py:467]\u001b[0m GAN_loss/discrim/loss: 0.63399\n",
      "\u001b[32m[0922 13:52:56 @monitor.py:467]\u001b[0m GAN_loss/gen/final-g-loss: 1.3084\n",
      "\u001b[32m[0922 13:52:56 @monitor.py:467]\u001b[0m GAN_loss/gen/klloss: 0.22732\n",
      "\u001b[32m[0922 13:52:56 @monitor.py:467]\u001b[0m GAN_loss/gen/loss: 1.0811\n",
      "\u001b[32m[0922 13:52:56 @monitor.py:467]\u001b[0m QueueInput/queue_size: 50\n",
      "\u001b[32m[0922 13:52:56 @base.py:275]\u001b[0m Start Epoch 595 ...\n"
     ]
    },
    {
     "name": "stderr",
     "output_type": "stream",
     "text": [
      "100%|#################################################################################|2000/2000[01:10<00:00,28.32it/s]"
     ]
    },
    {
     "name": "stdout",
     "output_type": "stream",
     "text": [
      "\u001b[32m[0922 13:54:06 @base.py:285]\u001b[0m Epoch 595 (global_step 1190000) finished, time:1 minute 10 seconds.\n",
      "\u001b[32m[0922 13:54:07 @saver.py:79]\u001b[0m Model saved to ../output/LPMC/DATGAN/model\\model-1190000.\n",
      "\u001b[32m[0922 13:54:07 @monitor.py:467]\u001b[0m GAN_loss/discrim/accuracy_fake: 0.895\n"
     ]
    },
    {
     "name": "stderr",
     "output_type": "stream",
     "text": [
      "\n"
     ]
    },
    {
     "name": "stdout",
     "output_type": "stream",
     "text": [
      "\u001b[32m[0922 13:54:07 @monitor.py:467]\u001b[0m GAN_loss/discrim/accuracy_real: 0.165\n",
      "\u001b[32m[0922 13:54:07 @monitor.py:467]\u001b[0m GAN_loss/discrim/loss: 0.65198\n",
      "\u001b[32m[0922 13:54:07 @monitor.py:467]\u001b[0m GAN_loss/gen/final-g-loss: 1.2861\n",
      "\u001b[32m[0922 13:54:07 @monitor.py:467]\u001b[0m GAN_loss/gen/klloss: 0.19899\n",
      "\u001b[32m[0922 13:54:07 @monitor.py:467]\u001b[0m GAN_loss/gen/loss: 1.0871\n",
      "\u001b[32m[0922 13:54:07 @monitor.py:467]\u001b[0m QueueInput/queue_size: 50\n",
      "\u001b[32m[0922 13:54:07 @base.py:275]\u001b[0m Start Epoch 596 ...\n"
     ]
    },
    {
     "name": "stderr",
     "output_type": "stream",
     "text": [
      "100%|#################################################################################|2000/2000[01:10<00:00,28.18it/s]"
     ]
    },
    {
     "name": "stdout",
     "output_type": "stream",
     "text": [
      "\u001b[32m[0922 13:55:18 @base.py:285]\u001b[0m Epoch 596 (global_step 1192000) finished, time:1 minute 10 seconds.\n"
     ]
    },
    {
     "name": "stderr",
     "output_type": "stream",
     "text": [
      "\n"
     ]
    },
    {
     "name": "stdout",
     "output_type": "stream",
     "text": [
      "\u001b[32m[0922 13:55:18 @saver.py:79]\u001b[0m Model saved to ../output/LPMC/DATGAN/model\\model-1192000.\n",
      "\u001b[32m[0922 13:55:18 @monitor.py:467]\u001b[0m GAN_loss/discrim/accuracy_fake: 0.895\n",
      "\u001b[32m[0922 13:55:18 @monitor.py:467]\u001b[0m GAN_loss/discrim/accuracy_real: 0.185\n",
      "\u001b[32m[0922 13:55:18 @monitor.py:467]\u001b[0m GAN_loss/discrim/loss: 0.64422\n",
      "\u001b[32m[0922 13:55:18 @monitor.py:467]\u001b[0m GAN_loss/gen/final-g-loss: 1.3069\n",
      "\u001b[32m[0922 13:55:18 @monitor.py:467]\u001b[0m GAN_loss/gen/klloss: 0.23397\n",
      "\u001b[32m[0922 13:55:18 @monitor.py:467]\u001b[0m GAN_loss/gen/loss: 1.0729\n",
      "\u001b[32m[0922 13:55:18 @monitor.py:467]\u001b[0m QueueInput/queue_size: 50\n",
      "\u001b[32m[0922 13:55:18 @base.py:275]\u001b[0m Start Epoch 597 ...\n"
     ]
    },
    {
     "name": "stderr",
     "output_type": "stream",
     "text": [
      "100%|#################################################################################|2000/2000[01:11<00:00,28.07it/s]"
     ]
    },
    {
     "name": "stdout",
     "output_type": "stream",
     "text": [
      "\u001b[32m[0922 13:56:29 @base.py:285]\u001b[0m Epoch 597 (global_step 1194000) finished, time:1 minute 11 seconds.\n",
      "\u001b[32m[0922 13:56:29 @saver.py:79]\u001b[0m Model saved to ../output/LPMC/DATGAN/model\\model-1194000.\n",
      "\u001b[32m[0922 13:56:29 @monitor.py:467]\u001b[0m GAN_loss/discrim/accuracy_fake: 0.865\n"
     ]
    },
    {
     "name": "stderr",
     "output_type": "stream",
     "text": [
      "\n"
     ]
    },
    {
     "name": "stdout",
     "output_type": "stream",
     "text": [
      "\u001b[32m[0922 13:56:29 @monitor.py:467]\u001b[0m GAN_loss/discrim/accuracy_real: 0.205\n",
      "\u001b[32m[0922 13:56:29 @monitor.py:467]\u001b[0m GAN_loss/discrim/loss: 0.63633\n",
      "\u001b[32m[0922 13:56:29 @monitor.py:467]\u001b[0m GAN_loss/gen/final-g-loss: 1.369\n",
      "\u001b[32m[0922 13:56:29 @monitor.py:467]\u001b[0m GAN_loss/gen/klloss: 0.28381\n",
      "\u001b[32m[0922 13:56:29 @monitor.py:467]\u001b[0m GAN_loss/gen/loss: 1.0852\n",
      "\u001b[32m[0922 13:56:29 @monitor.py:467]\u001b[0m QueueInput/queue_size: 50\n",
      "\u001b[32m[0922 13:56:29 @base.py:275]\u001b[0m Start Epoch 598 ...\n"
     ]
    },
    {
     "name": "stderr",
     "output_type": "stream",
     "text": [
      "100%|#################################################################################|2000/2000[01:10<00:00,28.31it/s]"
     ]
    },
    {
     "name": "stdout",
     "output_type": "stream",
     "text": [
      "\u001b[32m[0922 13:57:40 @base.py:285]\u001b[0m Epoch 598 (global_step 1196000) finished, time:1 minute 10 seconds.\n",
      "\u001b[32m[0922 13:57:40 @saver.py:79]\u001b[0m Model saved to ../output/LPMC/DATGAN/model\\model-1196000.\n"
     ]
    },
    {
     "name": "stderr",
     "output_type": "stream",
     "text": [
      "\n"
     ]
    },
    {
     "name": "stdout",
     "output_type": "stream",
     "text": [
      "\u001b[32m[0922 13:57:40 @monitor.py:467]\u001b[0m GAN_loss/discrim/accuracy_fake: 0.845\n",
      "\u001b[32m[0922 13:57:40 @monitor.py:467]\u001b[0m GAN_loss/discrim/accuracy_real: 0.185\n",
      "\u001b[32m[0922 13:57:40 @monitor.py:467]\u001b[0m GAN_loss/discrim/loss: 0.65539\n",
      "\u001b[32m[0922 13:57:40 @monitor.py:467]\u001b[0m GAN_loss/gen/final-g-loss: 1.2912\n",
      "\u001b[32m[0922 13:57:40 @monitor.py:467]\u001b[0m GAN_loss/gen/klloss: 0.25277\n",
      "\u001b[32m[0922 13:57:40 @monitor.py:467]\u001b[0m GAN_loss/gen/loss: 1.0384\n",
      "\u001b[32m[0922 13:57:40 @monitor.py:467]\u001b[0m QueueInput/queue_size: 50\n",
      "\u001b[32m[0922 13:57:40 @base.py:275]\u001b[0m Start Epoch 599 ...\n"
     ]
    },
    {
     "name": "stderr",
     "output_type": "stream",
     "text": [
      "100%|#################################################################################|2000/2000[01:10<00:00,28.38it/s]"
     ]
    },
    {
     "name": "stdout",
     "output_type": "stream",
     "text": [
      "\u001b[32m[0922 13:58:51 @base.py:285]\u001b[0m Epoch 599 (global_step 1198000) finished, time:1 minute 10 seconds.\n",
      "\u001b[32m[0922 13:58:51 @saver.py:79]\u001b[0m Model saved to ../output/LPMC/DATGAN/model\\model-1198000.\n",
      "\u001b[32m[0922 13:58:51 @monitor.py:467]\u001b[0m GAN_loss/discrim/accuracy_fake: 0.885\n"
     ]
    },
    {
     "name": "stderr",
     "output_type": "stream",
     "text": [
      "\n"
     ]
    },
    {
     "name": "stdout",
     "output_type": "stream",
     "text": [
      "\u001b[32m[0922 13:58:51 @monitor.py:467]\u001b[0m GAN_loss/discrim/accuracy_real: 0.235\n",
      "\u001b[32m[0922 13:58:51 @monitor.py:467]\u001b[0m GAN_loss/discrim/loss: 0.651\n",
      "\u001b[32m[0922 13:58:51 @monitor.py:467]\u001b[0m GAN_loss/gen/final-g-loss: 1.2312\n",
      "\u001b[32m[0922 13:58:51 @monitor.py:467]\u001b[0m GAN_loss/gen/klloss: 0.17872\n",
      "\u001b[32m[0922 13:58:51 @monitor.py:467]\u001b[0m GAN_loss/gen/loss: 1.0524\n",
      "\u001b[32m[0922 13:58:51 @monitor.py:467]\u001b[0m QueueInput/queue_size: 50\n",
      "\u001b[32m[0922 13:58:51 @base.py:275]\u001b[0m Start Epoch 600 ...\n"
     ]
    },
    {
     "name": "stderr",
     "output_type": "stream",
     "text": [
      "100%|#################################################################################|2000/2000[01:11<00:00,27.89it/s]"
     ]
    },
    {
     "name": "stdout",
     "output_type": "stream",
     "text": [
      "\u001b[32m[0922 14:00:02 @base.py:285]\u001b[0m Epoch 600 (global_step 1200000) finished, time:1 minute 11 seconds.\n",
      "\u001b[32m[0922 14:00:03 @saver.py:79]\u001b[0m Model saved to ../output/LPMC/DATGAN/model\\model-1200000.\n"
     ]
    },
    {
     "name": "stderr",
     "output_type": "stream",
     "text": [
      "\n"
     ]
    },
    {
     "name": "stdout",
     "output_type": "stream",
     "text": [
      "\u001b[32m[0922 14:00:03 @monitor.py:467]\u001b[0m GAN_loss/discrim/accuracy_fake: 0.83\n",
      "\u001b[32m[0922 14:00:03 @monitor.py:467]\u001b[0m GAN_loss/discrim/accuracy_real: 0.235\n",
      "\u001b[32m[0922 14:00:03 @monitor.py:467]\u001b[0m GAN_loss/discrim/loss: 0.6477\n",
      "\u001b[32m[0922 14:00:03 @monitor.py:467]\u001b[0m GAN_loss/gen/final-g-loss: 1.3861\n",
      "\u001b[32m[0922 14:00:03 @monitor.py:467]\u001b[0m GAN_loss/gen/klloss: 0.34122\n",
      "\u001b[32m[0922 14:00:03 @monitor.py:467]\u001b[0m GAN_loss/gen/loss: 1.0449\n",
      "\u001b[32m[0922 14:00:03 @monitor.py:467]\u001b[0m QueueInput/queue_size: 50\n",
      "\u001b[32m[0922 14:00:03 @base.py:275]\u001b[0m Start Epoch 601 ...\n"
     ]
    },
    {
     "name": "stderr",
     "output_type": "stream",
     "text": [
      "100%|#################################################################################|2000/2000[01:10<00:00,28.32it/s]"
     ]
    },
    {
     "name": "stdout",
     "output_type": "stream",
     "text": [
      "\u001b[32m[0922 14:01:13 @base.py:285]\u001b[0m Epoch 601 (global_step 1202000) finished, time:1 minute 10 seconds.\n",
      "\u001b[32m[0922 14:01:13 @saver.py:79]\u001b[0m Model saved to ../output/LPMC/DATGAN/model\\model-1202000.\n",
      "\u001b[32m[0922 14:01:14 @monitor.py:467]\u001b[0m GAN_loss/discrim/accuracy_fake: 0.905\n"
     ]
    },
    {
     "name": "stderr",
     "output_type": "stream",
     "text": [
      "\n"
     ]
    },
    {
     "name": "stdout",
     "output_type": "stream",
     "text": [
      "\u001b[32m[0922 14:01:14 @monitor.py:467]\u001b[0m GAN_loss/discrim/accuracy_real: 0.205\n",
      "\u001b[32m[0922 14:01:14 @monitor.py:467]\u001b[0m GAN_loss/discrim/loss: 0.63758\n",
      "\u001b[32m[0922 14:01:14 @monitor.py:467]\u001b[0m GAN_loss/gen/final-g-loss: 1.2744\n",
      "\u001b[32m[0922 14:01:14 @monitor.py:467]\u001b[0m GAN_loss/gen/klloss: 0.19645\n",
      "\u001b[32m[0922 14:01:14 @monitor.py:467]\u001b[0m GAN_loss/gen/loss: 1.0779\n",
      "\u001b[32m[0922 14:01:14 @monitor.py:467]\u001b[0m QueueInput/queue_size: 50\n",
      "\u001b[32m[0922 14:01:14 @base.py:275]\u001b[0m Start Epoch 602 ...\n"
     ]
    },
    {
     "name": "stderr",
     "output_type": "stream",
     "text": [
      "100%|#################################################################################|2000/2000[01:10<00:00,28.23it/s]"
     ]
    },
    {
     "name": "stdout",
     "output_type": "stream",
     "text": [
      "\u001b[32m[0922 14:02:24 @base.py:285]\u001b[0m Epoch 602 (global_step 1204000) finished, time:1 minute 10 seconds.\n",
      "\u001b[32m[0922 14:02:24 @saver.py:79]\u001b[0m Model saved to ../output/LPMC/DATGAN/model\\model-1204000.\n",
      "\u001b[32m[0922 14:02:25 @monitor.py:467]\u001b[0m GAN_loss/discrim/accuracy_fake: 0.92\n"
     ]
    },
    {
     "name": "stderr",
     "output_type": "stream",
     "text": [
      "\n"
     ]
    },
    {
     "name": "stdout",
     "output_type": "stream",
     "text": [
      "\u001b[32m[0922 14:02:25 @monitor.py:467]\u001b[0m GAN_loss/discrim/accuracy_real: 0.23\n",
      "\u001b[32m[0922 14:02:25 @monitor.py:467]\u001b[0m GAN_loss/discrim/loss: 0.64499\n",
      "\u001b[32m[0922 14:02:25 @monitor.py:467]\u001b[0m GAN_loss/gen/final-g-loss: 1.4342\n",
      "\u001b[32m[0922 14:02:25 @monitor.py:467]\u001b[0m GAN_loss/gen/klloss: 0.34702\n",
      "\u001b[32m[0922 14:02:25 @monitor.py:467]\u001b[0m GAN_loss/gen/loss: 1.0872\n",
      "\u001b[32m[0922 14:02:25 @monitor.py:467]\u001b[0m QueueInput/queue_size: 50\n",
      "\u001b[32m[0922 14:02:25 @base.py:275]\u001b[0m Start Epoch 603 ...\n"
     ]
    },
    {
     "name": "stderr",
     "output_type": "stream",
     "text": [
      "100%|#################################################################################|2000/2000[01:10<00:00,28.30it/s]"
     ]
    },
    {
     "name": "stdout",
     "output_type": "stream",
     "text": [
      "\u001b[32m[0922 14:03:35 @base.py:285]\u001b[0m Epoch 603 (global_step 1206000) finished, time:1 minute 10 seconds.\n",
      "\u001b[32m[0922 14:03:35 @saver.py:79]\u001b[0m Model saved to ../output/LPMC/DATGAN/model\\model-1206000.\n"
     ]
    },
    {
     "name": "stderr",
     "output_type": "stream",
     "text": [
      "\n"
     ]
    },
    {
     "name": "stdout",
     "output_type": "stream",
     "text": [
      "\u001b[32m[0922 14:03:35 @monitor.py:467]\u001b[0m GAN_loss/discrim/accuracy_fake: 0.895\n",
      "\u001b[32m[0922 14:03:35 @monitor.py:467]\u001b[0m GAN_loss/discrim/accuracy_real: 0.2\n",
      "\u001b[32m[0922 14:03:35 @monitor.py:467]\u001b[0m GAN_loss/discrim/loss: 0.64305\n",
      "\u001b[32m[0922 14:03:35 @monitor.py:467]\u001b[0m GAN_loss/gen/final-g-loss: 1.3055\n",
      "\u001b[32m[0922 14:03:35 @monitor.py:467]\u001b[0m GAN_loss/gen/klloss: 0.20709\n",
      "\u001b[32m[0922 14:03:35 @monitor.py:467]\u001b[0m GAN_loss/gen/loss: 1.0984\n",
      "\u001b[32m[0922 14:03:35 @monitor.py:467]\u001b[0m QueueInput/queue_size: 50\n",
      "\u001b[32m[0922 14:03:35 @base.py:275]\u001b[0m Start Epoch 604 ...\n"
     ]
    },
    {
     "name": "stderr",
     "output_type": "stream",
     "text": [
      "100%|#################################################################################|2000/2000[01:11<00:00,28.15it/s]"
     ]
    },
    {
     "name": "stdout",
     "output_type": "stream",
     "text": [
      "\u001b[32m[0922 14:04:47 @base.py:285]\u001b[0m Epoch 604 (global_step 1208000) finished, time:1 minute 11 seconds.\n",
      "\u001b[32m[0922 14:04:47 @saver.py:79]\u001b[0m Model saved to ../output/LPMC/DATGAN/model\\model-1208000.\n",
      "\u001b[32m[0922 14:04:47 @monitor.py:467]\u001b[0m GAN_loss/discrim/accuracy_fake: 0.93\n"
     ]
    },
    {
     "name": "stderr",
     "output_type": "stream",
     "text": [
      "\n"
     ]
    },
    {
     "name": "stdout",
     "output_type": "stream",
     "text": [
      "\u001b[32m[0922 14:04:47 @monitor.py:467]\u001b[0m GAN_loss/discrim/accuracy_real: 0.18\n",
      "\u001b[32m[0922 14:04:47 @monitor.py:467]\u001b[0m GAN_loss/discrim/loss: 0.63718\n",
      "\u001b[32m[0922 14:04:47 @monitor.py:467]\u001b[0m GAN_loss/gen/final-g-loss: 1.3612\n",
      "\u001b[32m[0922 14:04:47 @monitor.py:467]\u001b[0m GAN_loss/gen/klloss: 0.24305\n",
      "\u001b[32m[0922 14:04:47 @monitor.py:467]\u001b[0m GAN_loss/gen/loss: 1.1181\n",
      "\u001b[32m[0922 14:04:47 @monitor.py:467]\u001b[0m QueueInput/queue_size: 50\n",
      "\u001b[32m[0922 14:04:47 @base.py:275]\u001b[0m Start Epoch 605 ...\n"
     ]
    },
    {
     "name": "stderr",
     "output_type": "stream",
     "text": [
      "100%|#################################################################################|2000/2000[01:10<00:00,28.36it/s]"
     ]
    },
    {
     "name": "stdout",
     "output_type": "stream",
     "text": [
      "\u001b[32m[0922 14:05:57 @base.py:285]\u001b[0m Epoch 605 (global_step 1210000) finished, time:1 minute 10 seconds.\n",
      "\u001b[32m[0922 14:05:57 @saver.py:79]\u001b[0m Model saved to ../output/LPMC/DATGAN/model\\model-1210000.\n"
     ]
    },
    {
     "name": "stderr",
     "output_type": "stream",
     "text": [
      "\n"
     ]
    },
    {
     "name": "stdout",
     "output_type": "stream",
     "text": [
      "\u001b[32m[0922 14:05:57 @monitor.py:467]\u001b[0m GAN_loss/discrim/accuracy_fake: 0.875\n",
      "\u001b[32m[0922 14:05:57 @monitor.py:467]\u001b[0m GAN_loss/discrim/accuracy_real: 0.22\n",
      "\u001b[32m[0922 14:05:57 @monitor.py:467]\u001b[0m GAN_loss/discrim/loss: 0.64705\n",
      "\u001b[32m[0922 14:05:57 @monitor.py:467]\u001b[0m GAN_loss/gen/final-g-loss: 1.3903\n",
      "\u001b[32m[0922 14:05:57 @monitor.py:467]\u001b[0m GAN_loss/gen/klloss: 0.31674\n",
      "\u001b[32m[0922 14:05:57 @monitor.py:467]\u001b[0m GAN_loss/gen/loss: 1.0736\n",
      "\u001b[32m[0922 14:05:57 @monitor.py:467]\u001b[0m QueueInput/queue_size: 50\n",
      "\u001b[32m[0922 14:05:57 @base.py:275]\u001b[0m Start Epoch 606 ...\n"
     ]
    },
    {
     "name": "stderr",
     "output_type": "stream",
     "text": [
      "100%|#################################################################################|2000/2000[01:10<00:00,28.27it/s]"
     ]
    },
    {
     "name": "stdout",
     "output_type": "stream",
     "text": [
      "\u001b[32m[0922 14:07:08 @base.py:285]\u001b[0m Epoch 606 (global_step 1212000) finished, time:1 minute 10 seconds.\n",
      "\u001b[32m[0922 14:07:08 @saver.py:79]\u001b[0m Model saved to ../output/LPMC/DATGAN/model\\model-1212000.\n",
      "\u001b[32m[0922 14:07:08 @monitor.py:467]\u001b[0m GAN_loss/discrim/accuracy_fake: 0.87\n"
     ]
    },
    {
     "name": "stderr",
     "output_type": "stream",
     "text": [
      "\n"
     ]
    },
    {
     "name": "stdout",
     "output_type": "stream",
     "text": [
      "\u001b[32m[0922 14:07:08 @monitor.py:467]\u001b[0m GAN_loss/discrim/accuracy_real: 0.205\n",
      "\u001b[32m[0922 14:07:08 @monitor.py:467]\u001b[0m GAN_loss/discrim/loss: 0.6427\n",
      "\u001b[32m[0922 14:07:08 @monitor.py:467]\u001b[0m GAN_loss/gen/final-g-loss: 1.4192\n",
      "\u001b[32m[0922 14:07:08 @monitor.py:467]\u001b[0m GAN_loss/gen/klloss: 0.34161\n",
      "\u001b[32m[0922 14:07:08 @monitor.py:467]\u001b[0m GAN_loss/gen/loss: 1.0776\n",
      "\u001b[32m[0922 14:07:08 @monitor.py:467]\u001b[0m QueueInput/queue_size: 50\n",
      "\u001b[32m[0922 14:07:08 @base.py:275]\u001b[0m Start Epoch 607 ...\n"
     ]
    },
    {
     "name": "stderr",
     "output_type": "stream",
     "text": [
      "100%|#################################################################################|2000/2000[01:11<00:00,28.03it/s]"
     ]
    },
    {
     "name": "stdout",
     "output_type": "stream",
     "text": [
      "\u001b[32m[0922 14:08:20 @base.py:285]\u001b[0m Epoch 607 (global_step 1214000) finished, time:1 minute 11 seconds.\n",
      "\u001b[32m[0922 14:08:20 @saver.py:79]\u001b[0m Model saved to ../output/LPMC/DATGAN/model\\model-1214000.\n"
     ]
    },
    {
     "name": "stderr",
     "output_type": "stream",
     "text": [
      "\n"
     ]
    },
    {
     "name": "stdout",
     "output_type": "stream",
     "text": [
      "\u001b[32m[0922 14:08:20 @monitor.py:467]\u001b[0m GAN_loss/discrim/accuracy_fake: 0.885\n",
      "\u001b[32m[0922 14:08:20 @monitor.py:467]\u001b[0m GAN_loss/discrim/accuracy_real: 0.21\n",
      "\u001b[32m[0922 14:08:20 @monitor.py:467]\u001b[0m GAN_loss/discrim/loss: 0.63819\n",
      "\u001b[32m[0922 14:08:20 @monitor.py:467]\u001b[0m GAN_loss/gen/final-g-loss: 1.3056\n",
      "\u001b[32m[0922 14:08:20 @monitor.py:467]\u001b[0m GAN_loss/gen/klloss: 0.23449\n",
      "\u001b[32m[0922 14:08:20 @monitor.py:467]\u001b[0m GAN_loss/gen/loss: 1.0711\n",
      "\u001b[32m[0922 14:08:20 @monitor.py:467]\u001b[0m QueueInput/queue_size: 50\n",
      "\u001b[32m[0922 14:08:20 @base.py:275]\u001b[0m Start Epoch 608 ...\n"
     ]
    },
    {
     "name": "stderr",
     "output_type": "stream",
     "text": [
      "100%|#################################################################################|2000/2000[01:10<00:00,28.18it/s]"
     ]
    },
    {
     "name": "stdout",
     "output_type": "stream",
     "text": [
      "\u001b[32m[0922 14:09:31 @base.py:285]\u001b[0m Epoch 608 (global_step 1216000) finished, time:1 minute 10 seconds.\n",
      "\u001b[32m[0922 14:09:31 @saver.py:79]\u001b[0m Model saved to ../output/LPMC/DATGAN/model\\model-1216000.\n",
      "\u001b[32m[0922 14:09:31 @monitor.py:467]\u001b[0m GAN_loss/discrim/accuracy_fake: 0.92\n"
     ]
    },
    {
     "name": "stderr",
     "output_type": "stream",
     "text": [
      "\n"
     ]
    },
    {
     "name": "stdout",
     "output_type": "stream",
     "text": [
      "\u001b[32m[0922 14:09:31 @monitor.py:467]\u001b[0m GAN_loss/discrim/accuracy_real: 0.22\n",
      "\u001b[32m[0922 14:09:31 @monitor.py:467]\u001b[0m GAN_loss/discrim/loss: 0.63832\n",
      "\u001b[32m[0922 14:09:31 @monitor.py:467]\u001b[0m GAN_loss/gen/final-g-loss: 1.4332\n",
      "\u001b[32m[0922 14:09:31 @monitor.py:467]\u001b[0m GAN_loss/gen/klloss: 0.33432\n",
      "\u001b[32m[0922 14:09:31 @monitor.py:467]\u001b[0m GAN_loss/gen/loss: 1.0989\n",
      "\u001b[32m[0922 14:09:31 @monitor.py:467]\u001b[0m QueueInput/queue_size: 50\n",
      "\u001b[32m[0922 14:09:31 @base.py:275]\u001b[0m Start Epoch 609 ...\n"
     ]
    },
    {
     "name": "stderr",
     "output_type": "stream",
     "text": [
      "100%|#################################################################################|2000/2000[01:11<00:00,28.08it/s]"
     ]
    },
    {
     "name": "stdout",
     "output_type": "stream",
     "text": [
      "\u001b[32m[0922 14:10:42 @base.py:285]\u001b[0m Epoch 609 (global_step 1218000) finished, time:1 minute 11 seconds.\n",
      "\u001b[32m[0922 14:10:42 @saver.py:79]\u001b[0m Model saved to ../output/LPMC/DATGAN/model\\model-1218000.\n"
     ]
    },
    {
     "name": "stderr",
     "output_type": "stream",
     "text": [
      "\n"
     ]
    },
    {
     "name": "stdout",
     "output_type": "stream",
     "text": [
      "\u001b[32m[0922 14:10:43 @monitor.py:467]\u001b[0m GAN_loss/discrim/accuracy_fake: 0.9\n",
      "\u001b[32m[0922 14:10:43 @monitor.py:467]\u001b[0m GAN_loss/discrim/accuracy_real: 0.195\n",
      "\u001b[32m[0922 14:10:43 @monitor.py:467]\u001b[0m GAN_loss/discrim/loss: 0.64694\n",
      "\u001b[32m[0922 14:10:43 @monitor.py:467]\u001b[0m GAN_loss/gen/final-g-loss: 1.3335\n",
      "\u001b[32m[0922 14:10:43 @monitor.py:467]\u001b[0m GAN_loss/gen/klloss: 0.26654\n",
      "\u001b[32m[0922 14:10:43 @monitor.py:467]\u001b[0m GAN_loss/gen/loss: 1.067\n",
      "\u001b[32m[0922 14:10:43 @monitor.py:467]\u001b[0m QueueInput/queue_size: 50\n",
      "\u001b[32m[0922 14:10:43 @base.py:275]\u001b[0m Start Epoch 610 ...\n"
     ]
    },
    {
     "name": "stderr",
     "output_type": "stream",
     "text": [
      "100%|#################################################################################|2000/2000[01:11<00:00,28.13it/s]"
     ]
    },
    {
     "name": "stdout",
     "output_type": "stream",
     "text": [
      "\u001b[32m[0922 14:11:54 @base.py:285]\u001b[0m Epoch 610 (global_step 1220000) finished, time:1 minute 11 seconds.\n"
     ]
    },
    {
     "name": "stderr",
     "output_type": "stream",
     "text": [
      "\n"
     ]
    },
    {
     "name": "stdout",
     "output_type": "stream",
     "text": [
      "\u001b[32m[0922 14:11:54 @saver.py:79]\u001b[0m Model saved to ../output/LPMC/DATGAN/model\\model-1220000.\n",
      "\u001b[32m[0922 14:11:54 @monitor.py:467]\u001b[0m GAN_loss/discrim/accuracy_fake: 0.905\n",
      "\u001b[32m[0922 14:11:54 @monitor.py:467]\u001b[0m GAN_loss/discrim/accuracy_real: 0.2\n",
      "\u001b[32m[0922 14:11:54 @monitor.py:467]\u001b[0m GAN_loss/discrim/loss: 0.62892\n",
      "\u001b[32m[0922 14:11:54 @monitor.py:467]\u001b[0m GAN_loss/gen/final-g-loss: 1.3988\n",
      "\u001b[32m[0922 14:11:54 @monitor.py:467]\u001b[0m GAN_loss/gen/klloss: 0.30585\n",
      "\u001b[32m[0922 14:11:54 @monitor.py:467]\u001b[0m GAN_loss/gen/loss: 1.093\n",
      "\u001b[32m[0922 14:11:54 @monitor.py:467]\u001b[0m QueueInput/queue_size: 50\n",
      "\u001b[32m[0922 14:11:54 @base.py:275]\u001b[0m Start Epoch 611 ...\n"
     ]
    },
    {
     "name": "stderr",
     "output_type": "stream",
     "text": [
      "100%|#################################################################################|2000/2000[01:11<00:00,27.97it/s]"
     ]
    },
    {
     "name": "stdout",
     "output_type": "stream",
     "text": [
      "\u001b[32m[0922 14:13:05 @base.py:285]\u001b[0m Epoch 611 (global_step 1222000) finished, time:1 minute 11 seconds.\n",
      "\u001b[32m[0922 14:13:05 @saver.py:79]\u001b[0m Model saved to ../output/LPMC/DATGAN/model\\model-1222000.\n",
      "\u001b[32m[0922 14:13:06 @monitor.py:467]\u001b[0m GAN_loss/discrim/accuracy_fake: 0.875\n"
     ]
    },
    {
     "name": "stderr",
     "output_type": "stream",
     "text": [
      "\n"
     ]
    },
    {
     "name": "stdout",
     "output_type": "stream",
     "text": [
      "\u001b[32m[0922 14:13:06 @monitor.py:467]\u001b[0m GAN_loss/discrim/accuracy_real: 0.165\n",
      "\u001b[32m[0922 14:13:06 @monitor.py:467]\u001b[0m GAN_loss/discrim/loss: 0.64742\n",
      "\u001b[32m[0922 14:13:06 @monitor.py:467]\u001b[0m GAN_loss/gen/final-g-loss: 1.2986\n",
      "\u001b[32m[0922 14:13:06 @monitor.py:467]\u001b[0m GAN_loss/gen/klloss: 0.22354\n",
      "\u001b[32m[0922 14:13:06 @monitor.py:467]\u001b[0m GAN_loss/gen/loss: 1.0751\n",
      "\u001b[32m[0922 14:13:06 @monitor.py:467]\u001b[0m QueueInput/queue_size: 50\n",
      "\u001b[32m[0922 14:13:06 @base.py:275]\u001b[0m Start Epoch 612 ...\n"
     ]
    },
    {
     "name": "stderr",
     "output_type": "stream",
     "text": [
      "100%|#################################################################################|2000/2000[01:11<00:00,27.97it/s]"
     ]
    },
    {
     "name": "stdout",
     "output_type": "stream",
     "text": [
      "\u001b[32m[0922 14:14:17 @base.py:285]\u001b[0m Epoch 612 (global_step 1224000) finished, time:1 minute 11 seconds.\n",
      "\u001b[32m[0922 14:14:17 @saver.py:79]\u001b[0m Model saved to ../output/LPMC/DATGAN/model\\model-1224000.\n"
     ]
    },
    {
     "name": "stderr",
     "output_type": "stream",
     "text": [
      "\n"
     ]
    },
    {
     "name": "stdout",
     "output_type": "stream",
     "text": [
      "\u001b[32m[0922 14:14:17 @monitor.py:467]\u001b[0m GAN_loss/discrim/accuracy_fake: 0.895\n",
      "\u001b[32m[0922 14:14:17 @monitor.py:467]\u001b[0m GAN_loss/discrim/accuracy_real: 0.225\n",
      "\u001b[32m[0922 14:14:17 @monitor.py:467]\u001b[0m GAN_loss/discrim/loss: 0.64418\n",
      "\u001b[32m[0922 14:14:17 @monitor.py:467]\u001b[0m GAN_loss/gen/final-g-loss: 1.3144\n",
      "\u001b[32m[0922 14:14:17 @monitor.py:467]\u001b[0m GAN_loss/gen/klloss: 0.24115\n",
      "\u001b[32m[0922 14:14:17 @monitor.py:467]\u001b[0m GAN_loss/gen/loss: 1.0733\n",
      "\u001b[32m[0922 14:14:17 @monitor.py:467]\u001b[0m QueueInput/queue_size: 50\n",
      "\u001b[32m[0922 14:14:17 @base.py:275]\u001b[0m Start Epoch 613 ...\n"
     ]
    },
    {
     "name": "stderr",
     "output_type": "stream",
     "text": [
      "100%|#################################################################################|2000/2000[01:11<00:00,28.17it/s]"
     ]
    },
    {
     "name": "stdout",
     "output_type": "stream",
     "text": [
      "\u001b[32m[0922 14:15:28 @base.py:285]\u001b[0m Epoch 613 (global_step 1226000) finished, time:1 minute 11 seconds.\n",
      "\u001b[32m[0922 14:15:28 @saver.py:79]\u001b[0m Model saved to ../output/LPMC/DATGAN/model\\model-1226000.\n"
     ]
    },
    {
     "name": "stderr",
     "output_type": "stream",
     "text": [
      "\n"
     ]
    },
    {
     "name": "stdout",
     "output_type": "stream",
     "text": [
      "\u001b[32m[0922 14:15:29 @monitor.py:467]\u001b[0m GAN_loss/discrim/accuracy_fake: 0.905\n",
      "\u001b[32m[0922 14:15:29 @monitor.py:467]\u001b[0m GAN_loss/discrim/accuracy_real: 0.18\n",
      "\u001b[32m[0922 14:15:29 @monitor.py:467]\u001b[0m GAN_loss/discrim/loss: 0.6356\n",
      "\u001b[32m[0922 14:15:29 @monitor.py:467]\u001b[0m GAN_loss/gen/final-g-loss: 1.3449\n",
      "\u001b[32m[0922 14:15:29 @monitor.py:467]\u001b[0m GAN_loss/gen/klloss: 0.25579\n",
      "\u001b[32m[0922 14:15:29 @monitor.py:467]\u001b[0m GAN_loss/gen/loss: 1.0891\n",
      "\u001b[32m[0922 14:15:29 @monitor.py:467]\u001b[0m QueueInput/queue_size: 50\n",
      "\u001b[32m[0922 14:15:29 @base.py:275]\u001b[0m Start Epoch 614 ...\n"
     ]
    },
    {
     "name": "stderr",
     "output_type": "stream",
     "text": [
      "100%|#################################################################################|2000/2000[01:11<00:00,28.14it/s]"
     ]
    },
    {
     "name": "stdout",
     "output_type": "stream",
     "text": [
      "\u001b[32m[0922 14:16:40 @base.py:285]\u001b[0m Epoch 614 (global_step 1228000) finished, time:1 minute 11 seconds.\n",
      "\u001b[32m[0922 14:16:40 @saver.py:79]\u001b[0m Model saved to ../output/LPMC/DATGAN/model\\model-1228000.\n",
      "\u001b[32m[0922 14:16:40 @monitor.py:467]\u001b[0m GAN_loss/discrim/accuracy_fake: 0.885\n"
     ]
    },
    {
     "name": "stderr",
     "output_type": "stream",
     "text": [
      "\n"
     ]
    },
    {
     "name": "stdout",
     "output_type": "stream",
     "text": [
      "\u001b[32m[0922 14:16:40 @monitor.py:467]\u001b[0m GAN_loss/discrim/accuracy_real: 0.22\n",
      "\u001b[32m[0922 14:16:40 @monitor.py:467]\u001b[0m GAN_loss/discrim/loss: 0.65054\n",
      "\u001b[32m[0922 14:16:40 @monitor.py:467]\u001b[0m GAN_loss/gen/final-g-loss: 1.2808\n",
      "\u001b[32m[0922 14:16:40 @monitor.py:467]\u001b[0m GAN_loss/gen/klloss: 0.22585\n",
      "\u001b[32m[0922 14:16:40 @monitor.py:467]\u001b[0m GAN_loss/gen/loss: 1.0549\n",
      "\u001b[32m[0922 14:16:40 @monitor.py:467]\u001b[0m QueueInput/queue_size: 50\n",
      "\u001b[32m[0922 14:16:40 @base.py:275]\u001b[0m Start Epoch 615 ...\n"
     ]
    },
    {
     "name": "stderr",
     "output_type": "stream",
     "text": [
      "100%|#################################################################################|2000/2000[01:10<00:00,28.32it/s]"
     ]
    },
    {
     "name": "stdout",
     "output_type": "stream",
     "text": [
      "\u001b[32m[0922 14:17:50 @base.py:285]\u001b[0m Epoch 615 (global_step 1230000) finished, time:1 minute 10 seconds.\n",
      "\u001b[32m[0922 14:17:51 @saver.py:79]\u001b[0m Model saved to ../output/LPMC/DATGAN/model\\model-1230000.\n"
     ]
    },
    {
     "name": "stderr",
     "output_type": "stream",
     "text": [
      "\n"
     ]
    },
    {
     "name": "stdout",
     "output_type": "stream",
     "text": [
      "\u001b[32m[0922 14:17:51 @monitor.py:467]\u001b[0m GAN_loss/discrim/accuracy_fake: 0.85\n",
      "\u001b[32m[0922 14:17:51 @monitor.py:467]\u001b[0m GAN_loss/discrim/accuracy_real: 0.165\n",
      "\u001b[32m[0922 14:17:51 @monitor.py:467]\u001b[0m GAN_loss/discrim/loss: 0.64401\n",
      "\u001b[32m[0922 14:17:51 @monitor.py:467]\u001b[0m GAN_loss/gen/final-g-loss: 1.2666\n",
      "\u001b[32m[0922 14:17:51 @monitor.py:467]\u001b[0m GAN_loss/gen/klloss: 0.20098\n",
      "\u001b[32m[0922 14:17:51 @monitor.py:467]\u001b[0m GAN_loss/gen/loss: 1.0656\n",
      "\u001b[32m[0922 14:17:51 @monitor.py:467]\u001b[0m QueueInput/queue_size: 50\n",
      "\u001b[32m[0922 14:17:51 @base.py:275]\u001b[0m Start Epoch 616 ...\n"
     ]
    },
    {
     "name": "stderr",
     "output_type": "stream",
     "text": [
      "100%|#################################################################################|2000/2000[01:10<00:00,28.24it/s]"
     ]
    },
    {
     "name": "stdout",
     "output_type": "stream",
     "text": [
      "\u001b[32m[0922 14:19:01 @base.py:285]\u001b[0m Epoch 616 (global_step 1232000) finished, time:1 minute 10 seconds.\n",
      "\u001b[32m[0922 14:19:02 @saver.py:79]\u001b[0m Model saved to ../output/LPMC/DATGAN/model\\model-1232000.\n"
     ]
    },
    {
     "name": "stderr",
     "output_type": "stream",
     "text": [
      "\n"
     ]
    },
    {
     "name": "stdout",
     "output_type": "stream",
     "text": [
      "\u001b[32m[0922 14:19:02 @monitor.py:467]\u001b[0m GAN_loss/discrim/accuracy_fake: 0.905\n",
      "\u001b[32m[0922 14:19:02 @monitor.py:467]\u001b[0m GAN_loss/discrim/accuracy_real: 0.215\n",
      "\u001b[32m[0922 14:19:02 @monitor.py:467]\u001b[0m GAN_loss/discrim/loss: 0.64954\n",
      "\u001b[32m[0922 14:19:02 @monitor.py:467]\u001b[0m GAN_loss/gen/final-g-loss: 1.2548\n",
      "\u001b[32m[0922 14:19:02 @monitor.py:467]\u001b[0m GAN_loss/gen/klloss: 0.19143\n",
      "\u001b[32m[0922 14:19:02 @monitor.py:467]\u001b[0m GAN_loss/gen/loss: 1.0634\n",
      "\u001b[32m[0922 14:19:02 @monitor.py:467]\u001b[0m QueueInput/queue_size: 50\n",
      "\u001b[32m[0922 14:19:02 @base.py:275]\u001b[0m Start Epoch 617 ...\n"
     ]
    },
    {
     "name": "stderr",
     "output_type": "stream",
     "text": [
      "100%|#################################################################################|2000/2000[01:11<00:00,27.96it/s]"
     ]
    },
    {
     "name": "stdout",
     "output_type": "stream",
     "text": [
      "\u001b[32m[0922 14:20:13 @base.py:285]\u001b[0m Epoch 617 (global_step 1234000) finished, time:1 minute 11 seconds.\n",
      "\u001b[32m[0922 14:20:13 @saver.py:79]\u001b[0m Model saved to ../output/LPMC/DATGAN/model\\model-1234000.\n"
     ]
    },
    {
     "name": "stderr",
     "output_type": "stream",
     "text": [
      "\n"
     ]
    },
    {
     "name": "stdout",
     "output_type": "stream",
     "text": [
      "\u001b[32m[0922 14:20:13 @monitor.py:467]\u001b[0m GAN_loss/discrim/accuracy_fake: 0.905\n",
      "\u001b[32m[0922 14:20:13 @monitor.py:467]\u001b[0m GAN_loss/discrim/accuracy_real: 0.185\n",
      "\u001b[32m[0922 14:20:13 @monitor.py:467]\u001b[0m GAN_loss/discrim/loss: 0.65402\n",
      "\u001b[32m[0922 14:20:13 @monitor.py:467]\u001b[0m GAN_loss/gen/final-g-loss: 1.3271\n",
      "\u001b[32m[0922 14:20:13 @monitor.py:467]\u001b[0m GAN_loss/gen/klloss: 0.26052\n",
      "\u001b[32m[0922 14:20:13 @monitor.py:467]\u001b[0m GAN_loss/gen/loss: 1.0666\n",
      "\u001b[32m[0922 14:20:13 @monitor.py:467]\u001b[0m QueueInput/queue_size: 50\n",
      "\u001b[32m[0922 14:20:13 @base.py:275]\u001b[0m Start Epoch 618 ...\n"
     ]
    },
    {
     "name": "stderr",
     "output_type": "stream",
     "text": [
      "100%|#################################################################################|2000/2000[01:13<00:00,27.08it/s]"
     ]
    },
    {
     "name": "stdout",
     "output_type": "stream",
     "text": [
      "\u001b[32m[0922 14:21:27 @base.py:285]\u001b[0m Epoch 618 (global_step 1236000) finished, time:1 minute 13 seconds.\n"
     ]
    },
    {
     "name": "stderr",
     "output_type": "stream",
     "text": [
      "\n"
     ]
    },
    {
     "name": "stdout",
     "output_type": "stream",
     "text": [
      "\u001b[32m[0922 14:21:27 @saver.py:79]\u001b[0m Model saved to ../output/LPMC/DATGAN/model\\model-1236000.\n",
      "\u001b[32m[0922 14:21:27 @monitor.py:467]\u001b[0m GAN_loss/discrim/accuracy_fake: 0.91\n",
      "\u001b[32m[0922 14:21:27 @monitor.py:467]\u001b[0m GAN_loss/discrim/accuracy_real: 0.19\n",
      "\u001b[32m[0922 14:21:27 @monitor.py:467]\u001b[0m GAN_loss/discrim/loss: 0.64215\n",
      "\u001b[32m[0922 14:21:27 @monitor.py:467]\u001b[0m GAN_loss/gen/final-g-loss: 1.3365\n",
      "\u001b[32m[0922 14:21:27 @monitor.py:467]\u001b[0m GAN_loss/gen/klloss: 0.26297\n",
      "\u001b[32m[0922 14:21:27 @monitor.py:467]\u001b[0m GAN_loss/gen/loss: 1.0736\n",
      "\u001b[32m[0922 14:21:27 @monitor.py:467]\u001b[0m QueueInput/queue_size: 50\n",
      "\u001b[32m[0922 14:21:27 @base.py:275]\u001b[0m Start Epoch 619 ...\n"
     ]
    },
    {
     "name": "stderr",
     "output_type": "stream",
     "text": [
      "100%|#################################################################################|2000/2000[01:12<00:00,27.49it/s]"
     ]
    },
    {
     "name": "stdout",
     "output_type": "stream",
     "text": [
      "\u001b[32m[0922 14:22:40 @base.py:285]\u001b[0m Epoch 619 (global_step 1238000) finished, time:1 minute 12 seconds.\n"
     ]
    },
    {
     "name": "stderr",
     "output_type": "stream",
     "text": [
      "\n"
     ]
    },
    {
     "name": "stdout",
     "output_type": "stream",
     "text": [
      "\u001b[32m[0922 14:22:40 @saver.py:79]\u001b[0m Model saved to ../output/LPMC/DATGAN/model\\model-1238000.\n",
      "\u001b[32m[0922 14:22:40 @monitor.py:467]\u001b[0m GAN_loss/discrim/accuracy_fake: 0.84\n",
      "\u001b[32m[0922 14:22:40 @monitor.py:467]\u001b[0m GAN_loss/discrim/accuracy_real: 0.18\n",
      "\u001b[32m[0922 14:22:40 @monitor.py:467]\u001b[0m GAN_loss/discrim/loss: 0.65438\n",
      "\u001b[32m[0922 14:22:40 @monitor.py:467]\u001b[0m GAN_loss/gen/final-g-loss: 1.2469\n",
      "\u001b[32m[0922 14:22:40 @monitor.py:467]\u001b[0m GAN_loss/gen/klloss: 0.1942\n",
      "\u001b[32m[0922 14:22:40 @monitor.py:467]\u001b[0m GAN_loss/gen/loss: 1.0527\n",
      "\u001b[32m[0922 14:22:40 @monitor.py:467]\u001b[0m QueueInput/queue_size: 50\n",
      "\u001b[32m[0922 14:22:40 @base.py:275]\u001b[0m Start Epoch 620 ...\n"
     ]
    },
    {
     "name": "stderr",
     "output_type": "stream",
     "text": [
      "100%|#################################################################################|2000/2000[01:12<00:00,27.68it/s]"
     ]
    },
    {
     "name": "stdout",
     "output_type": "stream",
     "text": [
      "\u001b[32m[0922 14:23:53 @base.py:285]\u001b[0m Epoch 620 (global_step 1240000) finished, time:1 minute 12 seconds.\n",
      "\u001b[32m[0922 14:23:53 @saver.py:79]\u001b[0m Model saved to ../output/LPMC/DATGAN/model\\model-1240000.\n"
     ]
    },
    {
     "name": "stderr",
     "output_type": "stream",
     "text": [
      "\n"
     ]
    },
    {
     "name": "stdout",
     "output_type": "stream",
     "text": [
      "\u001b[32m[0922 14:23:53 @monitor.py:467]\u001b[0m GAN_loss/discrim/accuracy_fake: 0.92\n",
      "\u001b[32m[0922 14:23:53 @monitor.py:467]\u001b[0m GAN_loss/discrim/accuracy_real: 0.18\n",
      "\u001b[32m[0922 14:23:53 @monitor.py:467]\u001b[0m GAN_loss/discrim/loss: 0.65107\n",
      "\u001b[32m[0922 14:23:53 @monitor.py:467]\u001b[0m GAN_loss/gen/final-g-loss: 1.5363\n",
      "\u001b[32m[0922 14:23:53 @monitor.py:467]\u001b[0m GAN_loss/gen/klloss: 0.46929\n",
      "\u001b[32m[0922 14:23:53 @monitor.py:467]\u001b[0m GAN_loss/gen/loss: 1.067\n",
      "\u001b[32m[0922 14:23:53 @monitor.py:467]\u001b[0m QueueInput/queue_size: 50\n",
      "\u001b[32m[0922 14:23:53 @base.py:275]\u001b[0m Start Epoch 621 ...\n"
     ]
    },
    {
     "name": "stderr",
     "output_type": "stream",
     "text": [
      "100%|#################################################################################|2000/2000[01:11<00:00,27.93it/s]"
     ]
    },
    {
     "name": "stdout",
     "output_type": "stream",
     "text": [
      "\u001b[32m[0922 14:25:05 @base.py:285]\u001b[0m Epoch 621 (global_step 1242000) finished, time:1 minute 11 seconds.\n",
      "\u001b[32m[0922 14:25:05 @saver.py:79]\u001b[0m Model saved to ../output/LPMC/DATGAN/model\\model-1242000.\n"
     ]
    },
    {
     "name": "stderr",
     "output_type": "stream",
     "text": [
      "\n"
     ]
    },
    {
     "name": "stdout",
     "output_type": "stream",
     "text": [
      "\u001b[32m[0922 14:25:05 @monitor.py:467]\u001b[0m GAN_loss/discrim/accuracy_fake: 0.87\n",
      "\u001b[32m[0922 14:25:05 @monitor.py:467]\u001b[0m GAN_loss/discrim/accuracy_real: 0.18\n",
      "\u001b[32m[0922 14:25:05 @monitor.py:467]\u001b[0m GAN_loss/discrim/loss: 0.65345\n",
      "\u001b[32m[0922 14:25:05 @monitor.py:467]\u001b[0m GAN_loss/gen/final-g-loss: 1.3085\n",
      "\u001b[32m[0922 14:25:05 @monitor.py:467]\u001b[0m GAN_loss/gen/klloss: 0.26737\n",
      "\u001b[32m[0922 14:25:05 @monitor.py:467]\u001b[0m GAN_loss/gen/loss: 1.0411\n",
      "\u001b[32m[0922 14:25:05 @monitor.py:467]\u001b[0m QueueInput/queue_size: 50\n",
      "\u001b[32m[0922 14:25:05 @base.py:275]\u001b[0m Start Epoch 622 ...\n"
     ]
    },
    {
     "name": "stderr",
     "output_type": "stream",
     "text": [
      "100%|#################################################################################|2000/2000[01:12<00:00,27.70it/s]"
     ]
    },
    {
     "name": "stdout",
     "output_type": "stream",
     "text": [
      "\u001b[32m[0922 14:26:17 @base.py:285]\u001b[0m Epoch 622 (global_step 1244000) finished, time:1 minute 12 seconds.\n",
      "\u001b[32m[0922 14:26:17 @saver.py:79]\u001b[0m Model saved to ../output/LPMC/DATGAN/model\\model-1244000.\n"
     ]
    },
    {
     "name": "stderr",
     "output_type": "stream",
     "text": [
      "\n"
     ]
    },
    {
     "name": "stdout",
     "output_type": "stream",
     "text": [
      "\u001b[32m[0922 14:26:17 @monitor.py:467]\u001b[0m GAN_loss/discrim/accuracy_fake: 0.86\n",
      "\u001b[32m[0922 14:26:17 @monitor.py:467]\u001b[0m GAN_loss/discrim/accuracy_real: 0.205\n",
      "\u001b[32m[0922 14:26:17 @monitor.py:467]\u001b[0m GAN_loss/discrim/loss: 0.63727\n",
      "\u001b[32m[0922 14:26:17 @monitor.py:467]\u001b[0m GAN_loss/gen/final-g-loss: 1.2766\n",
      "\u001b[32m[0922 14:26:17 @monitor.py:467]\u001b[0m GAN_loss/gen/klloss: 0.19779\n",
      "\u001b[32m[0922 14:26:17 @monitor.py:467]\u001b[0m GAN_loss/gen/loss: 1.0788\n",
      "\u001b[32m[0922 14:26:17 @monitor.py:467]\u001b[0m QueueInput/queue_size: 50\n",
      "\u001b[32m[0922 14:26:17 @base.py:275]\u001b[0m Start Epoch 623 ...\n"
     ]
    },
    {
     "name": "stderr",
     "output_type": "stream",
     "text": [
      "100%|#################################################################################|2000/2000[01:11<00:00,27.91it/s]"
     ]
    },
    {
     "name": "stdout",
     "output_type": "stream",
     "text": [
      "\u001b[32m[0922 14:27:29 @base.py:285]\u001b[0m Epoch 623 (global_step 1246000) finished, time:1 minute 11 seconds.\n",
      "\u001b[32m[0922 14:27:29 @saver.py:79]\u001b[0m Model saved to ../output/LPMC/DATGAN/model\\model-1246000.\n",
      "\u001b[32m[0922 14:27:29 @monitor.py:467]\u001b[0m GAN_loss/discrim/accuracy_fake: 0.915\n"
     ]
    },
    {
     "name": "stderr",
     "output_type": "stream",
     "text": [
      "\n"
     ]
    },
    {
     "name": "stdout",
     "output_type": "stream",
     "text": [
      "\u001b[32m[0922 14:27:29 @monitor.py:467]\u001b[0m GAN_loss/discrim/accuracy_real: 0.205\n",
      "\u001b[32m[0922 14:27:29 @monitor.py:467]\u001b[0m GAN_loss/discrim/loss: 0.64738\n",
      "\u001b[32m[0922 14:27:29 @monitor.py:467]\u001b[0m GAN_loss/gen/final-g-loss: 1.4028\n",
      "\u001b[32m[0922 14:27:29 @monitor.py:467]\u001b[0m GAN_loss/gen/klloss: 0.32561\n",
      "\u001b[32m[0922 14:27:29 @monitor.py:467]\u001b[0m GAN_loss/gen/loss: 1.0772\n",
      "\u001b[32m[0922 14:27:29 @monitor.py:467]\u001b[0m QueueInput/queue_size: 50\n",
      "\u001b[32m[0922 14:27:29 @base.py:275]\u001b[0m Start Epoch 624 ...\n"
     ]
    },
    {
     "name": "stderr",
     "output_type": "stream",
     "text": [
      "100%|#################################################################################|2000/2000[01:13<00:00,27.37it/s]"
     ]
    },
    {
     "name": "stdout",
     "output_type": "stream",
     "text": [
      "\u001b[32m[0922 14:28:42 @base.py:285]\u001b[0m Epoch 624 (global_step 1248000) finished, time:1 minute 13 seconds.\n"
     ]
    },
    {
     "name": "stderr",
     "output_type": "stream",
     "text": [
      "\n"
     ]
    },
    {
     "name": "stdout",
     "output_type": "stream",
     "text": [
      "\u001b[32m[0922 14:28:42 @saver.py:79]\u001b[0m Model saved to ../output/LPMC/DATGAN/model\\model-1248000.\n",
      "\u001b[32m[0922 14:28:42 @monitor.py:467]\u001b[0m GAN_loss/discrim/accuracy_fake: 0.93\n",
      "\u001b[32m[0922 14:28:42 @monitor.py:467]\u001b[0m GAN_loss/discrim/accuracy_real: 0.18\n",
      "\u001b[32m[0922 14:28:42 @monitor.py:467]\u001b[0m GAN_loss/discrim/loss: 0.63646\n",
      "\u001b[32m[0922 14:28:42 @monitor.py:467]\u001b[0m GAN_loss/gen/final-g-loss: 1.3109\n",
      "\u001b[32m[0922 14:28:42 @monitor.py:467]\u001b[0m GAN_loss/gen/klloss: 0.2152\n",
      "\u001b[32m[0922 14:28:42 @monitor.py:467]\u001b[0m GAN_loss/gen/loss: 1.0957\n",
      "\u001b[32m[0922 14:28:42 @monitor.py:467]\u001b[0m QueueInput/queue_size: 50\n",
      "\u001b[32m[0922 14:28:42 @base.py:275]\u001b[0m Start Epoch 625 ...\n"
     ]
    },
    {
     "name": "stderr",
     "output_type": "stream",
     "text": [
      "100%|#################################################################################|2000/2000[01:11<00:00,27.81it/s]"
     ]
    },
    {
     "name": "stdout",
     "output_type": "stream",
     "text": [
      "\u001b[32m[0922 14:29:54 @base.py:285]\u001b[0m Epoch 625 (global_step 1250000) finished, time:1 minute 11 seconds.\n",
      "\u001b[32m[0922 14:29:54 @saver.py:79]\u001b[0m Model saved to ../output/LPMC/DATGAN/model\\model-1250000.\n"
     ]
    },
    {
     "name": "stderr",
     "output_type": "stream",
     "text": [
      "\n"
     ]
    },
    {
     "name": "stdout",
     "output_type": "stream",
     "text": [
      "\u001b[32m[0922 14:29:54 @monitor.py:467]\u001b[0m GAN_loss/discrim/accuracy_fake: 0.87\n",
      "\u001b[32m[0922 14:29:54 @monitor.py:467]\u001b[0m GAN_loss/discrim/accuracy_real: 0.165\n",
      "\u001b[32m[0922 14:29:54 @monitor.py:467]\u001b[0m GAN_loss/discrim/loss: 0.65007\n",
      "\u001b[32m[0922 14:29:54 @monitor.py:467]\u001b[0m GAN_loss/gen/final-g-loss: 1.3083\n",
      "\u001b[32m[0922 14:29:54 @monitor.py:467]\u001b[0m GAN_loss/gen/klloss: 0.23256\n",
      "\u001b[32m[0922 14:29:54 @monitor.py:467]\u001b[0m GAN_loss/gen/loss: 1.0757\n",
      "\u001b[32m[0922 14:29:54 @monitor.py:467]\u001b[0m QueueInput/queue_size: 50\n",
      "\u001b[32m[0922 14:29:54 @base.py:275]\u001b[0m Start Epoch 626 ...\n"
     ]
    },
    {
     "name": "stderr",
     "output_type": "stream",
     "text": [
      "100%|#################################################################################|2000/2000[01:12<00:00,27.72it/s]"
     ]
    },
    {
     "name": "stdout",
     "output_type": "stream",
     "text": [
      "\u001b[32m[0922 14:31:07 @base.py:285]\u001b[0m Epoch 626 (global_step 1252000) finished, time:1 minute 12 seconds.\n",
      "\u001b[32m[0922 14:31:07 @saver.py:79]\u001b[0m Model saved to ../output/LPMC/DATGAN/model\\model-1252000.\n"
     ]
    },
    {
     "name": "stderr",
     "output_type": "stream",
     "text": [
      "\n"
     ]
    },
    {
     "name": "stdout",
     "output_type": "stream",
     "text": [
      "\u001b[32m[0922 14:31:07 @monitor.py:467]\u001b[0m GAN_loss/discrim/accuracy_fake: 0.9\n",
      "\u001b[32m[0922 14:31:07 @monitor.py:467]\u001b[0m GAN_loss/discrim/accuracy_real: 0.235\n",
      "\u001b[32m[0922 14:31:07 @monitor.py:467]\u001b[0m GAN_loss/discrim/loss: 0.64181\n",
      "\u001b[32m[0922 14:31:07 @monitor.py:467]\u001b[0m GAN_loss/gen/final-g-loss: 1.2898\n",
      "\u001b[32m[0922 14:31:07 @monitor.py:467]\u001b[0m GAN_loss/gen/klloss: 0.23635\n",
      "\u001b[32m[0922 14:31:07 @monitor.py:467]\u001b[0m GAN_loss/gen/loss: 1.0535\n",
      "\u001b[32m[0922 14:31:07 @monitor.py:467]\u001b[0m QueueInput/queue_size: 50\n",
      "\u001b[32m[0922 14:31:07 @base.py:275]\u001b[0m Start Epoch 627 ...\n"
     ]
    },
    {
     "name": "stderr",
     "output_type": "stream",
     "text": [
      "100%|#################################################################################|2000/2000[01:12<00:00,27.46it/s]"
     ]
    },
    {
     "name": "stdout",
     "output_type": "stream",
     "text": [
      "\u001b[32m[0922 14:32:20 @base.py:285]\u001b[0m Epoch 627 (global_step 1254000) finished, time:1 minute 12 seconds.\n",
      "\u001b[32m[0922 14:32:20 @saver.py:79]\u001b[0m Model saved to ../output/LPMC/DATGAN/model\\model-1254000.\n"
     ]
    },
    {
     "name": "stderr",
     "output_type": "stream",
     "text": [
      "\n"
     ]
    },
    {
     "name": "stdout",
     "output_type": "stream",
     "text": [
      "\u001b[32m[0922 14:32:20 @monitor.py:467]\u001b[0m GAN_loss/discrim/accuracy_fake: 0.845\n",
      "\u001b[32m[0922 14:32:20 @monitor.py:467]\u001b[0m GAN_loss/discrim/accuracy_real: 0.235\n",
      "\u001b[32m[0922 14:32:20 @monitor.py:467]\u001b[0m GAN_loss/discrim/loss: 0.64366\n",
      "\u001b[32m[0922 14:32:20 @monitor.py:467]\u001b[0m GAN_loss/gen/final-g-loss: 1.534\n",
      "\u001b[32m[0922 14:32:20 @monitor.py:467]\u001b[0m GAN_loss/gen/klloss: 0.47224\n",
      "\u001b[32m[0922 14:32:20 @monitor.py:467]\u001b[0m GAN_loss/gen/loss: 1.0618\n",
      "\u001b[32m[0922 14:32:20 @monitor.py:467]\u001b[0m QueueInput/queue_size: 50\n",
      "\u001b[32m[0922 14:32:20 @base.py:275]\u001b[0m Start Epoch 628 ...\n"
     ]
    },
    {
     "name": "stderr",
     "output_type": "stream",
     "text": [
      "100%|#################################################################################|2000/2000[01:12<00:00,27.72it/s]"
     ]
    },
    {
     "name": "stdout",
     "output_type": "stream",
     "text": [
      "\u001b[32m[0922 14:33:32 @base.py:285]\u001b[0m Epoch 628 (global_step 1256000) finished, time:1 minute 12 seconds.\n",
      "\u001b[32m[0922 14:33:32 @saver.py:79]\u001b[0m Model saved to ../output/LPMC/DATGAN/model\\model-1256000.\n"
     ]
    },
    {
     "name": "stderr",
     "output_type": "stream",
     "text": [
      "\n"
     ]
    },
    {
     "name": "stdout",
     "output_type": "stream",
     "text": [
      "\u001b[32m[0922 14:33:32 @monitor.py:467]\u001b[0m GAN_loss/discrim/accuracy_fake: 0.935\n",
      "\u001b[32m[0922 14:33:32 @monitor.py:467]\u001b[0m GAN_loss/discrim/accuracy_real: 0.2\n",
      "\u001b[32m[0922 14:33:32 @monitor.py:467]\u001b[0m GAN_loss/discrim/loss: 0.63793\n",
      "\u001b[32m[0922 14:33:32 @monitor.py:467]\u001b[0m GAN_loss/gen/final-g-loss: 1.3772\n",
      "\u001b[32m[0922 14:33:32 @monitor.py:467]\u001b[0m GAN_loss/gen/klloss: 0.28082\n",
      "\u001b[32m[0922 14:33:32 @monitor.py:467]\u001b[0m GAN_loss/gen/loss: 1.0963\n",
      "\u001b[32m[0922 14:33:32 @monitor.py:467]\u001b[0m QueueInput/queue_size: 50\n",
      "\u001b[32m[0922 14:33:32 @base.py:275]\u001b[0m Start Epoch 629 ...\n"
     ]
    },
    {
     "name": "stderr",
     "output_type": "stream",
     "text": [
      "100%|#################################################################################|2000/2000[01:11<00:00,27.89it/s]"
     ]
    },
    {
     "name": "stdout",
     "output_type": "stream",
     "text": [
      "\u001b[32m[0922 14:34:44 @base.py:285]\u001b[0m Epoch 629 (global_step 1258000) finished, time:1 minute 11 seconds.\n",
      "\u001b[32m[0922 14:34:44 @saver.py:79]\u001b[0m Model saved to ../output/LPMC/DATGAN/model\\model-1258000.\n"
     ]
    },
    {
     "name": "stderr",
     "output_type": "stream",
     "text": [
      "\n"
     ]
    },
    {
     "name": "stdout",
     "output_type": "stream",
     "text": [
      "\u001b[32m[0922 14:34:44 @monitor.py:467]\u001b[0m GAN_loss/discrim/accuracy_fake: 0.87\n",
      "\u001b[32m[0922 14:34:44 @monitor.py:467]\u001b[0m GAN_loss/discrim/accuracy_real: 0.19\n",
      "\u001b[32m[0922 14:34:44 @monitor.py:467]\u001b[0m GAN_loss/discrim/loss: 0.66228\n",
      "\u001b[32m[0922 14:34:44 @monitor.py:467]\u001b[0m GAN_loss/gen/final-g-loss: 1.3122\n",
      "\u001b[32m[0922 14:34:44 @monitor.py:467]\u001b[0m GAN_loss/gen/klloss: 0.26027\n",
      "\u001b[32m[0922 14:34:44 @monitor.py:467]\u001b[0m GAN_loss/gen/loss: 1.052\n",
      "\u001b[32m[0922 14:34:44 @monitor.py:467]\u001b[0m QueueInput/queue_size: 50\n",
      "\u001b[32m[0922 14:34:44 @base.py:275]\u001b[0m Start Epoch 630 ...\n"
     ]
    },
    {
     "name": "stderr",
     "output_type": "stream",
     "text": [
      "100%|#################################################################################|2000/2000[01:11<00:00,27.93it/s]"
     ]
    },
    {
     "name": "stdout",
     "output_type": "stream",
     "text": [
      "\u001b[32m[0922 14:35:56 @base.py:285]\u001b[0m Epoch 630 (global_step 1260000) finished, time:1 minute 11 seconds.\n",
      "\u001b[32m[0922 14:35:56 @saver.py:79]\u001b[0m Model saved to ../output/LPMC/DATGAN/model\\model-1260000.\n",
      "\u001b[32m[0922 14:35:56 @monitor.py:467]\u001b[0m GAN_loss/discrim/accuracy_fake: 0.865\n"
     ]
    },
    {
     "name": "stderr",
     "output_type": "stream",
     "text": [
      "\n"
     ]
    },
    {
     "name": "stdout",
     "output_type": "stream",
     "text": [
      "\u001b[32m[0922 14:35:56 @monitor.py:467]\u001b[0m GAN_loss/discrim/accuracy_real: 0.205\n",
      "\u001b[32m[0922 14:35:56 @monitor.py:467]\u001b[0m GAN_loss/discrim/loss: 0.65167\n",
      "\u001b[32m[0922 14:35:56 @monitor.py:467]\u001b[0m GAN_loss/gen/final-g-loss: 1.2197\n",
      "\u001b[32m[0922 14:35:56 @monitor.py:467]\u001b[0m GAN_loss/gen/klloss: 0.17282\n",
      "\u001b[32m[0922 14:35:56 @monitor.py:467]\u001b[0m GAN_loss/gen/loss: 1.0469\n",
      "\u001b[32m[0922 14:35:56 @monitor.py:467]\u001b[0m QueueInput/queue_size: 50\n",
      "\u001b[32m[0922 14:35:56 @base.py:275]\u001b[0m Start Epoch 631 ...\n"
     ]
    },
    {
     "name": "stderr",
     "output_type": "stream",
     "text": [
      "100%|#################################################################################|2000/2000[01:11<00:00,27.83it/s]"
     ]
    },
    {
     "name": "stdout",
     "output_type": "stream",
     "text": [
      "\u001b[32m[0922 14:37:08 @base.py:285]\u001b[0m Epoch 631 (global_step 1262000) finished, time:1 minute 11 seconds.\n",
      "\u001b[32m[0922 14:37:08 @saver.py:79]\u001b[0m Model saved to ../output/LPMC/DATGAN/model\\model-1262000.\n"
     ]
    },
    {
     "name": "stderr",
     "output_type": "stream",
     "text": [
      "\n"
     ]
    },
    {
     "name": "stdout",
     "output_type": "stream",
     "text": [
      "\u001b[32m[0922 14:37:08 @monitor.py:467]\u001b[0m GAN_loss/discrim/accuracy_fake: 0.885\n",
      "\u001b[32m[0922 14:37:08 @monitor.py:467]\u001b[0m GAN_loss/discrim/accuracy_real: 0.26\n",
      "\u001b[32m[0922 14:37:08 @monitor.py:467]\u001b[0m GAN_loss/discrim/loss: 0.63455\n",
      "\u001b[32m[0922 14:37:08 @monitor.py:467]\u001b[0m GAN_loss/gen/final-g-loss: 1.2832\n",
      "\u001b[32m[0922 14:37:08 @monitor.py:467]\u001b[0m GAN_loss/gen/klloss: 0.20229\n",
      "\u001b[32m[0922 14:37:08 @monitor.py:467]\u001b[0m GAN_loss/gen/loss: 1.0809\n",
      "\u001b[32m[0922 14:37:08 @monitor.py:467]\u001b[0m QueueInput/queue_size: 50\n",
      "\u001b[32m[0922 14:37:08 @base.py:275]\u001b[0m Start Epoch 632 ...\n"
     ]
    },
    {
     "name": "stderr",
     "output_type": "stream",
     "text": [
      "100%|#################################################################################|2000/2000[01:11<00:00,27.86it/s]"
     ]
    },
    {
     "name": "stdout",
     "output_type": "stream",
     "text": [
      "\u001b[32m[0922 14:38:20 @base.py:285]\u001b[0m Epoch 632 (global_step 1264000) finished, time:1 minute 11 seconds.\n"
     ]
    },
    {
     "name": "stderr",
     "output_type": "stream",
     "text": [
      "\n"
     ]
    },
    {
     "name": "stdout",
     "output_type": "stream",
     "text": [
      "\u001b[32m[0922 14:38:20 @saver.py:79]\u001b[0m Model saved to ../output/LPMC/DATGAN/model\\model-1264000.\n",
      "\u001b[32m[0922 14:38:20 @monitor.py:467]\u001b[0m GAN_loss/discrim/accuracy_fake: 0.85\n",
      "\u001b[32m[0922 14:38:20 @monitor.py:467]\u001b[0m GAN_loss/discrim/accuracy_real: 0.18\n",
      "\u001b[32m[0922 14:38:20 @monitor.py:467]\u001b[0m GAN_loss/discrim/loss: 0.65151\n",
      "\u001b[32m[0922 14:38:20 @monitor.py:467]\u001b[0m GAN_loss/gen/final-g-loss: 1.3623\n",
      "\u001b[32m[0922 14:38:20 @monitor.py:467]\u001b[0m GAN_loss/gen/klloss: 0.30727\n",
      "\u001b[32m[0922 14:38:20 @monitor.py:467]\u001b[0m GAN_loss/gen/loss: 1.055\n",
      "\u001b[32m[0922 14:38:20 @monitor.py:467]\u001b[0m QueueInput/queue_size: 50\n",
      "\u001b[32m[0922 14:38:20 @base.py:275]\u001b[0m Start Epoch 633 ...\n"
     ]
    },
    {
     "name": "stderr",
     "output_type": "stream",
     "text": [
      "100%|#################################################################################|2000/2000[01:11<00:00,27.83it/s]"
     ]
    },
    {
     "name": "stdout",
     "output_type": "stream",
     "text": [
      "\u001b[32m[0922 14:39:32 @base.py:285]\u001b[0m Epoch 633 (global_step 1266000) finished, time:1 minute 11 seconds.\n",
      "\u001b[32m[0922 14:39:32 @saver.py:79]\u001b[0m Model saved to ../output/LPMC/DATGAN/model\\model-1266000.\n"
     ]
    },
    {
     "name": "stderr",
     "output_type": "stream",
     "text": [
      "\n"
     ]
    },
    {
     "name": "stdout",
     "output_type": "stream",
     "text": [
      "\u001b[32m[0922 14:39:32 @monitor.py:467]\u001b[0m GAN_loss/discrim/accuracy_fake: 0.86\n",
      "\u001b[32m[0922 14:39:32 @monitor.py:467]\u001b[0m GAN_loss/discrim/accuracy_real: 0.195\n",
      "\u001b[32m[0922 14:39:32 @monitor.py:467]\u001b[0m GAN_loss/discrim/loss: 0.64447\n",
      "\u001b[32m[0922 14:39:32 @monitor.py:467]\u001b[0m GAN_loss/gen/final-g-loss: 1.4151\n",
      "\u001b[32m[0922 14:39:32 @monitor.py:467]\u001b[0m GAN_loss/gen/klloss: 0.34715\n",
      "\u001b[32m[0922 14:39:32 @monitor.py:467]\u001b[0m GAN_loss/gen/loss: 1.068\n",
      "\u001b[32m[0922 14:39:32 @monitor.py:467]\u001b[0m QueueInput/queue_size: 50\n",
      "\u001b[32m[0922 14:39:32 @base.py:275]\u001b[0m Start Epoch 634 ...\n"
     ]
    },
    {
     "name": "stderr",
     "output_type": "stream",
     "text": [
      "100%|#################################################################################|2000/2000[01:12<00:00,27.53it/s]"
     ]
    },
    {
     "name": "stdout",
     "output_type": "stream",
     "text": [
      "\u001b[32m[0922 14:40:45 @base.py:285]\u001b[0m Epoch 634 (global_step 1268000) finished, time:1 minute 12 seconds.\n",
      "\u001b[32m[0922 14:40:45 @saver.py:79]\u001b[0m Model saved to ../output/LPMC/DATGAN/model\\model-1268000.\n",
      "\u001b[32m[0922 14:40:45 @monitor.py:467]\u001b[0m GAN_loss/discrim/accuracy_fake: 0.895\n"
     ]
    },
    {
     "name": "stderr",
     "output_type": "stream",
     "text": [
      "\n"
     ]
    },
    {
     "name": "stdout",
     "output_type": "stream",
     "text": [
      "\u001b[32m[0922 14:40:45 @monitor.py:467]\u001b[0m GAN_loss/discrim/accuracy_real: 0.215\n",
      "\u001b[32m[0922 14:40:45 @monitor.py:467]\u001b[0m GAN_loss/discrim/loss: 0.64516\n",
      "\u001b[32m[0922 14:40:45 @monitor.py:467]\u001b[0m GAN_loss/gen/final-g-loss: 1.3264\n",
      "\u001b[32m[0922 14:40:45 @monitor.py:467]\u001b[0m GAN_loss/gen/klloss: 0.2423\n",
      "\u001b[32m[0922 14:40:45 @monitor.py:467]\u001b[0m GAN_loss/gen/loss: 1.0841\n",
      "\u001b[32m[0922 14:40:45 @monitor.py:467]\u001b[0m QueueInput/queue_size: 50\n",
      "\u001b[32m[0922 14:40:45 @base.py:275]\u001b[0m Start Epoch 635 ...\n"
     ]
    },
    {
     "name": "stderr",
     "output_type": "stream",
     "text": [
      "100%|#################################################################################|2000/2000[01:12<00:00,27.68it/s]"
     ]
    },
    {
     "name": "stdout",
     "output_type": "stream",
     "text": [
      "\u001b[32m[0922 14:41:57 @base.py:285]\u001b[0m Epoch 635 (global_step 1270000) finished, time:1 minute 12 seconds.\n",
      "\u001b[32m[0922 14:41:57 @saver.py:79]\u001b[0m Model saved to ../output/LPMC/DATGAN/model\\model-1270000.\n",
      "\u001b[32m[0922 14:41:57 @monitor.py:467]\u001b[0m GAN_loss/discrim/accuracy_fake: 0.9\n"
     ]
    },
    {
     "name": "stderr",
     "output_type": "stream",
     "text": [
      "\n"
     ]
    },
    {
     "name": "stdout",
     "output_type": "stream",
     "text": [
      "\u001b[32m[0922 14:41:57 @monitor.py:467]\u001b[0m GAN_loss/discrim/accuracy_real: 0.18\n",
      "\u001b[32m[0922 14:41:57 @monitor.py:467]\u001b[0m GAN_loss/discrim/loss: 0.65801\n",
      "\u001b[32m[0922 14:41:57 @monitor.py:467]\u001b[0m GAN_loss/gen/final-g-loss: 1.2195\n",
      "\u001b[32m[0922 14:41:57 @monitor.py:467]\u001b[0m GAN_loss/gen/klloss: 0.1501\n",
      "\u001b[32m[0922 14:41:57 @monitor.py:467]\u001b[0m GAN_loss/gen/loss: 1.0694\n",
      "\u001b[32m[0922 14:41:57 @monitor.py:467]\u001b[0m QueueInput/queue_size: 50\n",
      "\u001b[32m[0922 14:41:57 @base.py:275]\u001b[0m Start Epoch 636 ...\n"
     ]
    },
    {
     "name": "stderr",
     "output_type": "stream",
     "text": [
      "100%|#################################################################################|2000/2000[01:10<00:00,28.29it/s]"
     ]
    },
    {
     "name": "stdout",
     "output_type": "stream",
     "text": [
      "\u001b[32m[0922 14:43:08 @base.py:285]\u001b[0m Epoch 636 (global_step 1272000) finished, time:1 minute 10 seconds.\n",
      "\u001b[32m[0922 14:43:08 @saver.py:79]\u001b[0m Model saved to ../output/LPMC/DATGAN/model\\model-1272000.\n"
     ]
    },
    {
     "name": "stderr",
     "output_type": "stream",
     "text": [
      "\n"
     ]
    },
    {
     "name": "stdout",
     "output_type": "stream",
     "text": [
      "\u001b[32m[0922 14:43:08 @monitor.py:467]\u001b[0m GAN_loss/discrim/accuracy_fake: 0.92\n",
      "\u001b[32m[0922 14:43:08 @monitor.py:467]\u001b[0m GAN_loss/discrim/accuracy_real: 0.195\n",
      "\u001b[32m[0922 14:43:08 @monitor.py:467]\u001b[0m GAN_loss/discrim/loss: 0.64377\n",
      "\u001b[32m[0922 14:43:08 @monitor.py:467]\u001b[0m GAN_loss/gen/final-g-loss: 1.2832\n",
      "\u001b[32m[0922 14:43:08 @monitor.py:467]\u001b[0m GAN_loss/gen/klloss: 0.20687\n",
      "\u001b[32m[0922 14:43:08 @monitor.py:467]\u001b[0m GAN_loss/gen/loss: 1.0763\n",
      "\u001b[32m[0922 14:43:08 @monitor.py:467]\u001b[0m QueueInput/queue_size: 50\n",
      "\u001b[32m[0922 14:43:08 @base.py:275]\u001b[0m Start Epoch 637 ...\n"
     ]
    },
    {
     "name": "stderr",
     "output_type": "stream",
     "text": [
      "100%|#################################################################################|2000/2000[01:10<00:00,28.30it/s]"
     ]
    },
    {
     "name": "stdout",
     "output_type": "stream",
     "text": [
      "\u001b[32m[0922 14:44:19 @base.py:285]\u001b[0m Epoch 637 (global_step 1274000) finished, time:1 minute 10 seconds.\n",
      "\u001b[32m[0922 14:44:19 @saver.py:79]\u001b[0m Model saved to ../output/LPMC/DATGAN/model\\model-1274000.\n",
      "\u001b[32m[0922 14:44:19 @monitor.py:467]\u001b[0m GAN_loss/discrim/accuracy_fake: 0.93\n"
     ]
    },
    {
     "name": "stderr",
     "output_type": "stream",
     "text": [
      "\n"
     ]
    },
    {
     "name": "stdout",
     "output_type": "stream",
     "text": [
      "\u001b[32m[0922 14:44:19 @monitor.py:467]\u001b[0m GAN_loss/discrim/accuracy_real: 0.205\n",
      "\u001b[32m[0922 14:44:19 @monitor.py:467]\u001b[0m GAN_loss/discrim/loss: 0.634\n",
      "\u001b[32m[0922 14:44:19 @monitor.py:467]\u001b[0m GAN_loss/gen/final-g-loss: 1.2634\n",
      "\u001b[32m[0922 14:44:19 @monitor.py:467]\u001b[0m GAN_loss/gen/klloss: 0.14809\n",
      "\u001b[32m[0922 14:44:19 @monitor.py:467]\u001b[0m GAN_loss/gen/loss: 1.1153\n",
      "\u001b[32m[0922 14:44:19 @monitor.py:467]\u001b[0m QueueInput/queue_size: 50\n",
      "\u001b[32m[0922 14:44:19 @base.py:275]\u001b[0m Start Epoch 638 ...\n"
     ]
    },
    {
     "name": "stderr",
     "output_type": "stream",
     "text": [
      "100%|#################################################################################|2000/2000[01:10<00:00,28.25it/s]"
     ]
    },
    {
     "name": "stdout",
     "output_type": "stream",
     "text": [
      "\u001b[32m[0922 14:45:30 @base.py:285]\u001b[0m Epoch 638 (global_step 1276000) finished, time:1 minute 10 seconds.\n"
     ]
    },
    {
     "name": "stderr",
     "output_type": "stream",
     "text": [
      "\n"
     ]
    },
    {
     "name": "stdout",
     "output_type": "stream",
     "text": [
      "\u001b[32m[0922 14:45:30 @saver.py:79]\u001b[0m Model saved to ../output/LPMC/DATGAN/model\\model-1276000.\n",
      "\u001b[32m[0922 14:45:30 @monitor.py:467]\u001b[0m GAN_loss/discrim/accuracy_fake: 0.815\n",
      "\u001b[32m[0922 14:45:30 @monitor.py:467]\u001b[0m GAN_loss/discrim/accuracy_real: 0.245\n",
      "\u001b[32m[0922 14:45:30 @monitor.py:467]\u001b[0m GAN_loss/discrim/loss: 0.64944\n",
      "\u001b[32m[0922 14:45:30 @monitor.py:467]\u001b[0m GAN_loss/gen/final-g-loss: 1.2881\n",
      "\u001b[32m[0922 14:45:30 @monitor.py:467]\u001b[0m GAN_loss/gen/klloss: 0.26319\n",
      "\u001b[32m[0922 14:45:30 @monitor.py:467]\u001b[0m GAN_loss/gen/loss: 1.0249\n",
      "\u001b[32m[0922 14:45:30 @monitor.py:467]\u001b[0m QueueInput/queue_size: 50\n",
      "\u001b[32m[0922 14:45:30 @base.py:275]\u001b[0m Start Epoch 639 ...\n"
     ]
    },
    {
     "name": "stderr",
     "output_type": "stream",
     "text": [
      "100%|#################################################################################|2000/2000[01:11<00:00,28.03it/s]"
     ]
    },
    {
     "name": "stdout",
     "output_type": "stream",
     "text": [
      "\u001b[32m[0922 14:46:42 @base.py:285]\u001b[0m Epoch 639 (global_step 1278000) finished, time:1 minute 11 seconds.\n",
      "\u001b[32m[0922 14:46:42 @saver.py:79]\u001b[0m Model saved to ../output/LPMC/DATGAN/model\\model-1278000.\n"
     ]
    },
    {
     "name": "stderr",
     "output_type": "stream",
     "text": [
      "\n"
     ]
    },
    {
     "name": "stdout",
     "output_type": "stream",
     "text": [
      "\u001b[32m[0922 14:46:42 @monitor.py:467]\u001b[0m GAN_loss/discrim/accuracy_fake: 0.885\n",
      "\u001b[32m[0922 14:46:42 @monitor.py:467]\u001b[0m GAN_loss/discrim/accuracy_real: 0.21\n",
      "\u001b[32m[0922 14:46:42 @monitor.py:467]\u001b[0m GAN_loss/discrim/loss: 0.64242\n",
      "\u001b[32m[0922 14:46:42 @monitor.py:467]\u001b[0m GAN_loss/gen/final-g-loss: 1.3131\n",
      "\u001b[32m[0922 14:46:42 @monitor.py:467]\u001b[0m GAN_loss/gen/klloss: 0.23372\n",
      "\u001b[32m[0922 14:46:42 @monitor.py:467]\u001b[0m GAN_loss/gen/loss: 1.0794\n",
      "\u001b[32m[0922 14:46:42 @monitor.py:467]\u001b[0m QueueInput/queue_size: 50\n",
      "\u001b[32m[0922 14:46:42 @base.py:275]\u001b[0m Start Epoch 640 ...\n"
     ]
    },
    {
     "name": "stderr",
     "output_type": "stream",
     "text": [
      "100%|#################################################################################|2000/2000[01:11<00:00,28.08it/s]"
     ]
    },
    {
     "name": "stdout",
     "output_type": "stream",
     "text": [
      "\u001b[32m[0922 14:47:53 @base.py:285]\u001b[0m Epoch 640 (global_step 1280000) finished, time:1 minute 11 seconds.\n",
      "\u001b[32m[0922 14:47:53 @saver.py:79]\u001b[0m Model saved to ../output/LPMC/DATGAN/model\\model-1280000.\n"
     ]
    },
    {
     "name": "stderr",
     "output_type": "stream",
     "text": [
      "\n"
     ]
    },
    {
     "name": "stdout",
     "output_type": "stream",
     "text": [
      "\u001b[32m[0922 14:47:53 @monitor.py:467]\u001b[0m GAN_loss/discrim/accuracy_fake: 0.885\n",
      "\u001b[32m[0922 14:47:53 @monitor.py:467]\u001b[0m GAN_loss/discrim/accuracy_real: 0.185\n",
      "\u001b[32m[0922 14:47:53 @monitor.py:467]\u001b[0m GAN_loss/discrim/loss: 0.65478\n",
      "\u001b[32m[0922 14:47:53 @monitor.py:467]\u001b[0m GAN_loss/gen/final-g-loss: 1.33\n",
      "\u001b[32m[0922 14:47:53 @monitor.py:467]\u001b[0m GAN_loss/gen/klloss: 0.26251\n",
      "\u001b[32m[0922 14:47:53 @monitor.py:467]\u001b[0m GAN_loss/gen/loss: 1.0675\n",
      "\u001b[32m[0922 14:47:53 @monitor.py:467]\u001b[0m QueueInput/queue_size: 50\n",
      "\u001b[32m[0922 14:47:53 @base.py:275]\u001b[0m Start Epoch 641 ...\n"
     ]
    },
    {
     "name": "stderr",
     "output_type": "stream",
     "text": [
      "100%|#################################################################################|2000/2000[01:10<00:00,28.21it/s]"
     ]
    },
    {
     "name": "stdout",
     "output_type": "stream",
     "text": [
      "\u001b[32m[0922 14:49:04 @base.py:285]\u001b[0m Epoch 641 (global_step 1282000) finished, time:1 minute 10 seconds.\n",
      "\u001b[32m[0922 14:49:04 @saver.py:79]\u001b[0m Model saved to ../output/LPMC/DATGAN/model\\model-1282000.\n"
     ]
    },
    {
     "name": "stderr",
     "output_type": "stream",
     "text": [
      "\n"
     ]
    },
    {
     "name": "stdout",
     "output_type": "stream",
     "text": [
      "\u001b[32m[0922 14:49:04 @monitor.py:467]\u001b[0m GAN_loss/discrim/accuracy_fake: 0.85\n",
      "\u001b[32m[0922 14:49:04 @monitor.py:467]\u001b[0m GAN_loss/discrim/accuracy_real: 0.21\n",
      "\u001b[32m[0922 14:49:04 @monitor.py:467]\u001b[0m GAN_loss/discrim/loss: 0.64547\n",
      "\u001b[32m[0922 14:49:04 @monitor.py:467]\u001b[0m GAN_loss/gen/final-g-loss: 1.3486\n",
      "\u001b[32m[0922 14:49:04 @monitor.py:467]\u001b[0m GAN_loss/gen/klloss: 0.27848\n",
      "\u001b[32m[0922 14:49:04 @monitor.py:467]\u001b[0m GAN_loss/gen/loss: 1.0701\n",
      "\u001b[32m[0922 14:49:04 @monitor.py:467]\u001b[0m QueueInput/queue_size: 50\n",
      "\u001b[32m[0922 14:49:04 @base.py:275]\u001b[0m Start Epoch 642 ...\n"
     ]
    },
    {
     "name": "stderr",
     "output_type": "stream",
     "text": [
      "100%|#################################################################################|2000/2000[01:10<00:00,28.23it/s]"
     ]
    },
    {
     "name": "stdout",
     "output_type": "stream",
     "text": [
      "\u001b[32m[0922 14:50:15 @base.py:285]\u001b[0m Epoch 642 (global_step 1284000) finished, time:1 minute 10 seconds.\n"
     ]
    },
    {
     "name": "stderr",
     "output_type": "stream",
     "text": [
      "\n"
     ]
    },
    {
     "name": "stdout",
     "output_type": "stream",
     "text": [
      "\u001b[32m[0922 14:50:15 @saver.py:79]\u001b[0m Model saved to ../output/LPMC/DATGAN/model\\model-1284000.\n",
      "\u001b[32m[0922 14:50:15 @monitor.py:467]\u001b[0m GAN_loss/discrim/accuracy_fake: 0.88\n",
      "\u001b[32m[0922 14:50:15 @monitor.py:467]\u001b[0m GAN_loss/discrim/accuracy_real: 0.18\n",
      "\u001b[32m[0922 14:50:15 @monitor.py:467]\u001b[0m GAN_loss/discrim/loss: 0.64341\n",
      "\u001b[32m[0922 14:50:15 @monitor.py:467]\u001b[0m GAN_loss/gen/final-g-loss: 1.2773\n",
      "\u001b[32m[0922 14:50:15 @monitor.py:467]\u001b[0m GAN_loss/gen/klloss: 0.20162\n",
      "\u001b[32m[0922 14:50:15 @monitor.py:467]\u001b[0m GAN_loss/gen/loss: 1.0756\n",
      "\u001b[32m[0922 14:50:15 @monitor.py:467]\u001b[0m QueueInput/queue_size: 50\n",
      "\u001b[32m[0922 14:50:15 @base.py:275]\u001b[0m Start Epoch 643 ...\n"
     ]
    },
    {
     "name": "stderr",
     "output_type": "stream",
     "text": [
      "100%|#################################################################################|2000/2000[01:11<00:00,28.13it/s]"
     ]
    },
    {
     "name": "stdout",
     "output_type": "stream",
     "text": [
      "\u001b[32m[0922 14:51:26 @base.py:285]\u001b[0m Epoch 643 (global_step 1286000) finished, time:1 minute 11 seconds.\n",
      "\u001b[32m[0922 14:51:27 @saver.py:79]\u001b[0m Model saved to ../output/LPMC/DATGAN/model\\model-1286000.\n"
     ]
    },
    {
     "name": "stderr",
     "output_type": "stream",
     "text": [
      "\n"
     ]
    },
    {
     "name": "stdout",
     "output_type": "stream",
     "text": [
      "\u001b[32m[0922 14:51:27 @monitor.py:467]\u001b[0m GAN_loss/discrim/accuracy_fake: 0.87\n",
      "\u001b[32m[0922 14:51:27 @monitor.py:467]\u001b[0m GAN_loss/discrim/accuracy_real: 0.205\n",
      "\u001b[32m[0922 14:51:27 @monitor.py:467]\u001b[0m GAN_loss/discrim/loss: 0.64861\n",
      "\u001b[32m[0922 14:51:27 @monitor.py:467]\u001b[0m GAN_loss/gen/final-g-loss: 1.2934\n",
      "\u001b[32m[0922 14:51:27 @monitor.py:467]\u001b[0m GAN_loss/gen/klloss: 0.25692\n",
      "\u001b[32m[0922 14:51:27 @monitor.py:467]\u001b[0m GAN_loss/gen/loss: 1.0364\n",
      "\u001b[32m[0922 14:51:27 @monitor.py:467]\u001b[0m QueueInput/queue_size: 50\n",
      "\u001b[32m[0922 14:51:27 @base.py:275]\u001b[0m Start Epoch 644 ...\n"
     ]
    },
    {
     "name": "stderr",
     "output_type": "stream",
     "text": [
      "100%|#################################################################################|2000/2000[01:10<00:00,28.25it/s]"
     ]
    },
    {
     "name": "stdout",
     "output_type": "stream",
     "text": [
      "\u001b[32m[0922 14:52:37 @base.py:285]\u001b[0m Epoch 644 (global_step 1288000) finished, time:1 minute 10 seconds.\n",
      "\u001b[32m[0922 14:52:38 @saver.py:79]\u001b[0m Model saved to ../output/LPMC/DATGAN/model\\model-1288000.\n"
     ]
    },
    {
     "name": "stderr",
     "output_type": "stream",
     "text": [
      "\n"
     ]
    },
    {
     "name": "stdout",
     "output_type": "stream",
     "text": [
      "\u001b[32m[0922 14:52:38 @monitor.py:467]\u001b[0m GAN_loss/discrim/accuracy_fake: 0.84\n",
      "\u001b[32m[0922 14:52:38 @monitor.py:467]\u001b[0m GAN_loss/discrim/accuracy_real: 0.2\n",
      "\u001b[32m[0922 14:52:38 @monitor.py:467]\u001b[0m GAN_loss/discrim/loss: 0.64955\n",
      "\u001b[32m[0922 14:52:38 @monitor.py:467]\u001b[0m GAN_loss/gen/final-g-loss: 1.2788\n",
      "\u001b[32m[0922 14:52:38 @monitor.py:467]\u001b[0m GAN_loss/gen/klloss: 0.20014\n",
      "\u001b[32m[0922 14:52:38 @monitor.py:467]\u001b[0m GAN_loss/gen/loss: 1.0787\n",
      "\u001b[32m[0922 14:52:38 @monitor.py:467]\u001b[0m QueueInput/queue_size: 50\n",
      "\u001b[32m[0922 14:52:38 @base.py:275]\u001b[0m Start Epoch 645 ...\n"
     ]
    },
    {
     "name": "stderr",
     "output_type": "stream",
     "text": [
      "100%|#################################################################################|2000/2000[01:11<00:00,27.90it/s]"
     ]
    },
    {
     "name": "stdout",
     "output_type": "stream",
     "text": [
      "\u001b[32m[0922 14:53:49 @base.py:285]\u001b[0m Epoch 645 (global_step 1290000) finished, time:1 minute 11 seconds.\n",
      "\u001b[32m[0922 14:53:49 @saver.py:79]\u001b[0m Model saved to ../output/LPMC/DATGAN/model\\model-1290000.\n"
     ]
    },
    {
     "name": "stderr",
     "output_type": "stream",
     "text": [
      "\n"
     ]
    },
    {
     "name": "stdout",
     "output_type": "stream",
     "text": [
      "\u001b[32m[0922 14:53:50 @monitor.py:467]\u001b[0m GAN_loss/discrim/accuracy_fake: 0.885\n",
      "\u001b[32m[0922 14:53:50 @monitor.py:467]\u001b[0m GAN_loss/discrim/accuracy_real: 0.255\n",
      "\u001b[32m[0922 14:53:50 @monitor.py:467]\u001b[0m GAN_loss/discrim/loss: 0.64542\n",
      "\u001b[32m[0922 14:53:50 @monitor.py:467]\u001b[0m GAN_loss/gen/final-g-loss: 1.3225\n",
      "\u001b[32m[0922 14:53:50 @monitor.py:467]\u001b[0m GAN_loss/gen/klloss: 0.25157\n",
      "\u001b[32m[0922 14:53:50 @monitor.py:467]\u001b[0m GAN_loss/gen/loss: 1.071\n",
      "\u001b[32m[0922 14:53:50 @monitor.py:467]\u001b[0m QueueInput/queue_size: 50\n",
      "\u001b[32m[0922 14:53:50 @base.py:275]\u001b[0m Start Epoch 646 ...\n"
     ]
    },
    {
     "name": "stderr",
     "output_type": "stream",
     "text": [
      "100%|#################################################################################|2000/2000[01:11<00:00,28.15it/s]"
     ]
    },
    {
     "name": "stdout",
     "output_type": "stream",
     "text": [
      "\u001b[32m[0922 14:55:01 @base.py:285]\u001b[0m Epoch 646 (global_step 1292000) finished, time:1 minute 11 seconds.\n"
     ]
    },
    {
     "name": "stderr",
     "output_type": "stream",
     "text": [
      "\n"
     ]
    },
    {
     "name": "stdout",
     "output_type": "stream",
     "text": [
      "\u001b[32m[0922 14:55:01 @saver.py:79]\u001b[0m Model saved to ../output/LPMC/DATGAN/model\\model-1292000.\n",
      "\u001b[32m[0922 14:55:01 @monitor.py:467]\u001b[0m GAN_loss/discrim/accuracy_fake: 0.92\n",
      "\u001b[32m[0922 14:55:01 @monitor.py:467]\u001b[0m GAN_loss/discrim/accuracy_real: 0.24\n",
      "\u001b[32m[0922 14:55:01 @monitor.py:467]\u001b[0m GAN_loss/discrim/loss: 0.62054\n",
      "\u001b[32m[0922 14:55:01 @monitor.py:467]\u001b[0m GAN_loss/gen/final-g-loss: 1.3111\n",
      "\u001b[32m[0922 14:55:01 @monitor.py:467]\u001b[0m GAN_loss/gen/klloss: 0.20377\n",
      "\u001b[32m[0922 14:55:01 @monitor.py:467]\u001b[0m GAN_loss/gen/loss: 1.1073\n",
      "\u001b[32m[0922 14:55:01 @monitor.py:467]\u001b[0m QueueInput/queue_size: 50\n",
      "\u001b[32m[0922 14:55:01 @base.py:275]\u001b[0m Start Epoch 647 ...\n"
     ]
    },
    {
     "name": "stderr",
     "output_type": "stream",
     "text": [
      "100%|#################################################################################|2000/2000[01:10<00:00,28.25it/s]"
     ]
    },
    {
     "name": "stdout",
     "output_type": "stream",
     "text": [
      "\u001b[32m[0922 14:56:12 @base.py:285]\u001b[0m Epoch 647 (global_step 1294000) finished, time:1 minute 10 seconds.\n"
     ]
    },
    {
     "name": "stderr",
     "output_type": "stream",
     "text": [
      "\n"
     ]
    },
    {
     "name": "stdout",
     "output_type": "stream",
     "text": [
      "\u001b[32m[0922 14:56:12 @saver.py:79]\u001b[0m Model saved to ../output/LPMC/DATGAN/model\\model-1294000.\n",
      "\u001b[32m[0922 14:56:12 @monitor.py:467]\u001b[0m GAN_loss/discrim/accuracy_fake: 0.895\n",
      "\u001b[32m[0922 14:56:12 @monitor.py:467]\u001b[0m GAN_loss/discrim/accuracy_real: 0.235\n",
      "\u001b[32m[0922 14:56:12 @monitor.py:467]\u001b[0m GAN_loss/discrim/loss: 0.63209\n",
      "\u001b[32m[0922 14:56:12 @monitor.py:467]\u001b[0m GAN_loss/gen/final-g-loss: 1.2861\n",
      "\u001b[32m[0922 14:56:12 @monitor.py:467]\u001b[0m GAN_loss/gen/klloss: 0.20188\n",
      "\u001b[32m[0922 14:56:12 @monitor.py:467]\u001b[0m GAN_loss/gen/loss: 1.0842\n",
      "\u001b[32m[0922 14:56:12 @monitor.py:467]\u001b[0m QueueInput/queue_size: 50\n",
      "\u001b[32m[0922 14:56:12 @base.py:275]\u001b[0m Start Epoch 648 ...\n"
     ]
    },
    {
     "name": "stderr",
     "output_type": "stream",
     "text": [
      "100%|#################################################################################|2000/2000[01:11<00:00,28.11it/s]"
     ]
    },
    {
     "name": "stdout",
     "output_type": "stream",
     "text": [
      "\u001b[32m[0922 14:57:23 @base.py:285]\u001b[0m Epoch 648 (global_step 1296000) finished, time:1 minute 11 seconds.\n",
      "\u001b[32m[0922 14:57:23 @saver.py:79]\u001b[0m Model saved to ../output/LPMC/DATGAN/model\\model-1296000.\n"
     ]
    },
    {
     "name": "stderr",
     "output_type": "stream",
     "text": [
      "\n"
     ]
    },
    {
     "name": "stdout",
     "output_type": "stream",
     "text": [
      "\u001b[32m[0922 14:57:23 @monitor.py:467]\u001b[0m GAN_loss/discrim/accuracy_fake: 0.87\n",
      "\u001b[32m[0922 14:57:23 @monitor.py:467]\u001b[0m GAN_loss/discrim/accuracy_real: 0.165\n",
      "\u001b[32m[0922 14:57:23 @monitor.py:467]\u001b[0m GAN_loss/discrim/loss: 0.64618\n",
      "\u001b[32m[0922 14:57:23 @monitor.py:467]\u001b[0m GAN_loss/gen/final-g-loss: 1.3823\n",
      "\u001b[32m[0922 14:57:23 @monitor.py:467]\u001b[0m GAN_loss/gen/klloss: 0.30954\n",
      "\u001b[32m[0922 14:57:23 @monitor.py:467]\u001b[0m GAN_loss/gen/loss: 1.0728\n",
      "\u001b[32m[0922 14:57:23 @monitor.py:467]\u001b[0m QueueInput/queue_size: 50\n",
      "\u001b[32m[0922 14:57:23 @base.py:275]\u001b[0m Start Epoch 649 ...\n"
     ]
    },
    {
     "name": "stderr",
     "output_type": "stream",
     "text": [
      "100%|#################################################################################|2000/2000[01:11<00:00,28.00it/s]"
     ]
    },
    {
     "name": "stdout",
     "output_type": "stream",
     "text": [
      "\u001b[32m[0922 14:58:35 @base.py:285]\u001b[0m Epoch 649 (global_step 1298000) finished, time:1 minute 11 seconds.\n"
     ]
    },
    {
     "name": "stderr",
     "output_type": "stream",
     "text": [
      "\n"
     ]
    },
    {
     "name": "stdout",
     "output_type": "stream",
     "text": [
      "\u001b[32m[0922 14:58:35 @saver.py:79]\u001b[0m Model saved to ../output/LPMC/DATGAN/model\\model-1298000.\n",
      "\u001b[32m[0922 14:58:35 @monitor.py:467]\u001b[0m GAN_loss/discrim/accuracy_fake: 0.905\n",
      "\u001b[32m[0922 14:58:35 @monitor.py:467]\u001b[0m GAN_loss/discrim/accuracy_real: 0.23\n",
      "\u001b[32m[0922 14:58:35 @monitor.py:467]\u001b[0m GAN_loss/discrim/loss: 0.62469\n",
      "\u001b[32m[0922 14:58:35 @monitor.py:467]\u001b[0m GAN_loss/gen/final-g-loss: 1.3077\n",
      "\u001b[32m[0922 14:58:35 @monitor.py:467]\u001b[0m GAN_loss/gen/klloss: 0.21403\n",
      "\u001b[32m[0922 14:58:35 @monitor.py:467]\u001b[0m GAN_loss/gen/loss: 1.0937\n",
      "\u001b[32m[0922 14:58:35 @monitor.py:467]\u001b[0m QueueInput/queue_size: 50\n",
      "\u001b[32m[0922 14:58:35 @base.py:275]\u001b[0m Start Epoch 650 ...\n"
     ]
    },
    {
     "name": "stderr",
     "output_type": "stream",
     "text": [
      "100%|#################################################################################|2000/2000[01:11<00:00,27.95it/s]"
     ]
    },
    {
     "name": "stdout",
     "output_type": "stream",
     "text": [
      "\u001b[32m[0922 14:59:46 @base.py:285]\u001b[0m Epoch 650 (global_step 1300000) finished, time:1 minute 11 seconds.\n",
      "\u001b[32m[0922 14:59:47 @saver.py:79]\u001b[0m Model saved to ../output/LPMC/DATGAN/model\\model-1300000.\n"
     ]
    },
    {
     "name": "stderr",
     "output_type": "stream",
     "text": [
      "\n"
     ]
    },
    {
     "name": "stdout",
     "output_type": "stream",
     "text": [
      "\u001b[32m[0922 14:59:47 @monitor.py:467]\u001b[0m GAN_loss/discrim/accuracy_fake: 0.89\n",
      "\u001b[32m[0922 14:59:47 @monitor.py:467]\u001b[0m GAN_loss/discrim/accuracy_real: 0.2\n",
      "\u001b[32m[0922 14:59:47 @monitor.py:467]\u001b[0m GAN_loss/discrim/loss: 0.65427\n",
      "\u001b[32m[0922 14:59:47 @monitor.py:467]\u001b[0m GAN_loss/gen/final-g-loss: 1.3776\n",
      "\u001b[32m[0922 14:59:47 @monitor.py:467]\u001b[0m GAN_loss/gen/klloss: 0.29834\n",
      "\u001b[32m[0922 14:59:47 @monitor.py:467]\u001b[0m GAN_loss/gen/loss: 1.0793\n",
      "\u001b[32m[0922 14:59:47 @monitor.py:467]\u001b[0m QueueInput/queue_size: 50\n",
      "\u001b[32m[0922 14:59:47 @base.py:275]\u001b[0m Start Epoch 651 ...\n"
     ]
    },
    {
     "name": "stderr",
     "output_type": "stream",
     "text": [
      "100%|#################################################################################|2000/2000[01:12<00:00,27.73it/s]"
     ]
    },
    {
     "name": "stdout",
     "output_type": "stream",
     "text": [
      "\u001b[32m[0922 15:00:59 @base.py:285]\u001b[0m Epoch 651 (global_step 1302000) finished, time:1 minute 12 seconds.\n",
      "\u001b[32m[0922 15:00:59 @saver.py:79]\u001b[0m Model saved to ../output/LPMC/DATGAN/model\\model-1302000.\n"
     ]
    },
    {
     "name": "stderr",
     "output_type": "stream",
     "text": [
      "\n"
     ]
    },
    {
     "name": "stdout",
     "output_type": "stream",
     "text": [
      "\u001b[32m[0922 15:00:59 @monitor.py:467]\u001b[0m GAN_loss/discrim/accuracy_fake: 0.91\n",
      "\u001b[32m[0922 15:00:59 @monitor.py:467]\u001b[0m GAN_loss/discrim/accuracy_real: 0.23\n",
      "\u001b[32m[0922 15:00:59 @monitor.py:467]\u001b[0m GAN_loss/discrim/loss: 0.64208\n",
      "\u001b[32m[0922 15:00:59 @monitor.py:467]\u001b[0m GAN_loss/gen/final-g-loss: 1.4022\n",
      "\u001b[32m[0922 15:00:59 @monitor.py:467]\u001b[0m GAN_loss/gen/klloss: 0.31037\n",
      "\u001b[32m[0922 15:00:59 @monitor.py:467]\u001b[0m GAN_loss/gen/loss: 1.0919\n",
      "\u001b[32m[0922 15:00:59 @monitor.py:467]\u001b[0m QueueInput/queue_size: 50\n",
      "\u001b[32m[0922 15:00:59 @base.py:275]\u001b[0m Start Epoch 652 ...\n"
     ]
    },
    {
     "name": "stderr",
     "output_type": "stream",
     "text": [
      "100%|#################################################################################|2000/2000[01:12<00:00,27.63it/s]"
     ]
    },
    {
     "name": "stdout",
     "output_type": "stream",
     "text": [
      "\u001b[32m[0922 15:02:11 @base.py:285]\u001b[0m Epoch 652 (global_step 1304000) finished, time:1 minute 12 seconds.\n",
      "\u001b[32m[0922 15:02:11 @saver.py:79]\u001b[0m Model saved to ../output/LPMC/DATGAN/model\\model-1304000.\n"
     ]
    },
    {
     "name": "stderr",
     "output_type": "stream",
     "text": [
      "\n"
     ]
    },
    {
     "name": "stdout",
     "output_type": "stream",
     "text": [
      "\u001b[32m[0922 15:02:12 @monitor.py:467]\u001b[0m GAN_loss/discrim/accuracy_fake: 0.92\n",
      "\u001b[32m[0922 15:02:12 @monitor.py:467]\u001b[0m GAN_loss/discrim/accuracy_real: 0.21\n",
      "\u001b[32m[0922 15:02:12 @monitor.py:467]\u001b[0m GAN_loss/discrim/loss: 0.63189\n",
      "\u001b[32m[0922 15:02:12 @monitor.py:467]\u001b[0m GAN_loss/gen/final-g-loss: 1.2702\n",
      "\u001b[32m[0922 15:02:12 @monitor.py:467]\u001b[0m GAN_loss/gen/klloss: 0.17509\n",
      "\u001b[32m[0922 15:02:12 @monitor.py:467]\u001b[0m GAN_loss/gen/loss: 1.0951\n",
      "\u001b[32m[0922 15:02:12 @monitor.py:467]\u001b[0m QueueInput/queue_size: 50\n",
      "\u001b[32m[0922 15:02:12 @base.py:275]\u001b[0m Start Epoch 653 ...\n"
     ]
    },
    {
     "name": "stderr",
     "output_type": "stream",
     "text": [
      "100%|#################################################################################|2000/2000[01:12<00:00,27.57it/s]"
     ]
    },
    {
     "name": "stdout",
     "output_type": "stream",
     "text": [
      "\u001b[32m[0922 15:03:24 @base.py:285]\u001b[0m Epoch 653 (global_step 1306000) finished, time:1 minute 12 seconds.\n"
     ]
    },
    {
     "name": "stderr",
     "output_type": "stream",
     "text": [
      "\n"
     ]
    },
    {
     "name": "stdout",
     "output_type": "stream",
     "text": [
      "\u001b[32m[0922 15:03:24 @saver.py:79]\u001b[0m Model saved to ../output/LPMC/DATGAN/model\\model-1306000.\n",
      "\u001b[32m[0922 15:03:24 @monitor.py:467]\u001b[0m GAN_loss/discrim/accuracy_fake: 0.88\n",
      "\u001b[32m[0922 15:03:24 @monitor.py:467]\u001b[0m GAN_loss/discrim/accuracy_real: 0.2\n",
      "\u001b[32m[0922 15:03:24 @monitor.py:467]\u001b[0m GAN_loss/discrim/loss: 0.65454\n",
      "\u001b[32m[0922 15:03:24 @monitor.py:467]\u001b[0m GAN_loss/gen/final-g-loss: 1.4224\n",
      "\u001b[32m[0922 15:03:24 @monitor.py:467]\u001b[0m GAN_loss/gen/klloss: 0.3368\n",
      "\u001b[32m[0922 15:03:24 @monitor.py:467]\u001b[0m GAN_loss/gen/loss: 1.0856\n",
      "\u001b[32m[0922 15:03:24 @monitor.py:467]\u001b[0m QueueInput/queue_size: 50\n",
      "\u001b[32m[0922 15:03:24 @base.py:275]\u001b[0m Start Epoch 654 ...\n"
     ]
    },
    {
     "name": "stderr",
     "output_type": "stream",
     "text": [
      "100%|#################################################################################|2000/2000[01:12<00:00,27.74it/s]"
     ]
    },
    {
     "name": "stdout",
     "output_type": "stream",
     "text": [
      "\u001b[32m[0922 15:04:36 @base.py:285]\u001b[0m Epoch 654 (global_step 1308000) finished, time:1 minute 12 seconds.\n",
      "\u001b[32m[0922 15:04:36 @saver.py:79]\u001b[0m Model saved to ../output/LPMC/DATGAN/model\\model-1308000.\n"
     ]
    },
    {
     "name": "stderr",
     "output_type": "stream",
     "text": [
      "\n"
     ]
    },
    {
     "name": "stdout",
     "output_type": "stream",
     "text": [
      "\u001b[32m[0922 15:04:37 @monitor.py:467]\u001b[0m GAN_loss/discrim/accuracy_fake: 0.87\n",
      "\u001b[32m[0922 15:04:37 @monitor.py:467]\u001b[0m GAN_loss/discrim/accuracy_real: 0.2\n",
      "\u001b[32m[0922 15:04:37 @monitor.py:467]\u001b[0m GAN_loss/discrim/loss: 0.65163\n",
      "\u001b[32m[0922 15:04:37 @monitor.py:467]\u001b[0m GAN_loss/gen/final-g-loss: 1.362\n",
      "\u001b[32m[0922 15:04:37 @monitor.py:467]\u001b[0m GAN_loss/gen/klloss: 0.29059\n",
      "\u001b[32m[0922 15:04:37 @monitor.py:467]\u001b[0m GAN_loss/gen/loss: 1.0714\n",
      "\u001b[32m[0922 15:04:37 @monitor.py:467]\u001b[0m QueueInput/queue_size: 50\n",
      "\u001b[32m[0922 15:04:37 @base.py:275]\u001b[0m Start Epoch 655 ...\n"
     ]
    },
    {
     "name": "stderr",
     "output_type": "stream",
     "text": [
      "100%|#################################################################################|2000/2000[01:12<00:00,27.60it/s]"
     ]
    },
    {
     "name": "stdout",
     "output_type": "stream",
     "text": [
      "\u001b[32m[0922 15:05:49 @base.py:285]\u001b[0m Epoch 655 (global_step 1310000) finished, time:1 minute 12 seconds.\n",
      "\u001b[32m[0922 15:05:49 @saver.py:79]\u001b[0m Model saved to ../output/LPMC/DATGAN/model\\model-1310000.\n",
      "\u001b[32m[0922 15:05:49 @monitor.py:467]\u001b[0m GAN_loss/discrim/accuracy_fake: 0.875\n"
     ]
    },
    {
     "name": "stderr",
     "output_type": "stream",
     "text": [
      "\n"
     ]
    },
    {
     "name": "stdout",
     "output_type": "stream",
     "text": [
      "\u001b[32m[0922 15:05:49 @monitor.py:467]\u001b[0m GAN_loss/discrim/accuracy_real: 0.155\n",
      "\u001b[32m[0922 15:05:49 @monitor.py:467]\u001b[0m GAN_loss/discrim/loss: 0.64395\n",
      "\u001b[32m[0922 15:05:49 @monitor.py:467]\u001b[0m GAN_loss/gen/final-g-loss: 1.3577\n",
      "\u001b[32m[0922 15:05:49 @monitor.py:467]\u001b[0m GAN_loss/gen/klloss: 0.27057\n",
      "\u001b[32m[0922 15:05:49 @monitor.py:467]\u001b[0m GAN_loss/gen/loss: 1.0871\n",
      "\u001b[32m[0922 15:05:49 @monitor.py:467]\u001b[0m QueueInput/queue_size: 50\n",
      "\u001b[32m[0922 15:05:49 @base.py:275]\u001b[0m Start Epoch 656 ...\n"
     ]
    },
    {
     "name": "stderr",
     "output_type": "stream",
     "text": [
      "100%|#################################################################################|2000/2000[01:12<00:00,27.77it/s]"
     ]
    },
    {
     "name": "stdout",
     "output_type": "stream",
     "text": [
      "\u001b[32m[0922 15:07:01 @base.py:285]\u001b[0m Epoch 656 (global_step 1312000) finished, time:1 minute 12 seconds.\n",
      "\u001b[32m[0922 15:07:01 @saver.py:79]\u001b[0m Model saved to ../output/LPMC/DATGAN/model\\model-1312000.\n"
     ]
    },
    {
     "name": "stderr",
     "output_type": "stream",
     "text": [
      "\n"
     ]
    },
    {
     "name": "stdout",
     "output_type": "stream",
     "text": [
      "\u001b[32m[0922 15:07:02 @monitor.py:467]\u001b[0m GAN_loss/discrim/accuracy_fake: 0.935\n",
      "\u001b[32m[0922 15:07:02 @monitor.py:467]\u001b[0m GAN_loss/discrim/accuracy_real: 0.2\n",
      "\u001b[32m[0922 15:07:02 @monitor.py:467]\u001b[0m GAN_loss/discrim/loss: 0.64532\n",
      "\u001b[32m[0922 15:07:02 @monitor.py:467]\u001b[0m GAN_loss/gen/final-g-loss: 1.3261\n",
      "\u001b[32m[0922 15:07:02 @monitor.py:467]\u001b[0m GAN_loss/gen/klloss: 0.24517\n",
      "\u001b[32m[0922 15:07:02 @monitor.py:467]\u001b[0m GAN_loss/gen/loss: 1.081\n",
      "\u001b[32m[0922 15:07:02 @monitor.py:467]\u001b[0m QueueInput/queue_size: 50\n",
      "\u001b[32m[0922 15:07:02 @base.py:275]\u001b[0m Start Epoch 657 ...\n"
     ]
    },
    {
     "name": "stderr",
     "output_type": "stream",
     "text": [
      "100%|#################################################################################|2000/2000[01:12<00:00,27.64it/s]"
     ]
    },
    {
     "name": "stdout",
     "output_type": "stream",
     "text": [
      "\u001b[32m[0922 15:08:14 @base.py:285]\u001b[0m Epoch 657 (global_step 1314000) finished, time:1 minute 12 seconds.\n",
      "\u001b[32m[0922 15:08:14 @saver.py:79]\u001b[0m Model saved to ../output/LPMC/DATGAN/model\\model-1314000.\n"
     ]
    },
    {
     "name": "stderr",
     "output_type": "stream",
     "text": [
      "\n"
     ]
    },
    {
     "name": "stdout",
     "output_type": "stream",
     "text": [
      "\u001b[32m[0922 15:08:14 @monitor.py:467]\u001b[0m GAN_loss/discrim/accuracy_fake: 0.87\n",
      "\u001b[32m[0922 15:08:14 @monitor.py:467]\u001b[0m GAN_loss/discrim/accuracy_real: 0.2\n",
      "\u001b[32m[0922 15:08:14 @monitor.py:467]\u001b[0m GAN_loss/discrim/loss: 0.64587\n",
      "\u001b[32m[0922 15:08:14 @monitor.py:467]\u001b[0m GAN_loss/gen/final-g-loss: 1.4287\n",
      "\u001b[32m[0922 15:08:14 @monitor.py:467]\u001b[0m GAN_loss/gen/klloss: 0.34185\n",
      "\u001b[32m[0922 15:08:14 @monitor.py:467]\u001b[0m GAN_loss/gen/loss: 1.0869\n",
      "\u001b[32m[0922 15:08:14 @monitor.py:467]\u001b[0m QueueInput/queue_size: 50\n",
      "\u001b[32m[0922 15:08:14 @base.py:275]\u001b[0m Start Epoch 658 ...\n"
     ]
    },
    {
     "name": "stderr",
     "output_type": "stream",
     "text": [
      "100%|#################################################################################|2000/2000[01:11<00:00,27.78it/s]"
     ]
    },
    {
     "name": "stdout",
     "output_type": "stream",
     "text": [
      "\u001b[32m[0922 15:09:26 @base.py:285]\u001b[0m Epoch 658 (global_step 1316000) finished, time:1 minute 11 seconds.\n",
      "\u001b[32m[0922 15:09:26 @saver.py:79]\u001b[0m Model saved to ../output/LPMC/DATGAN/model\\model-1316000.\n"
     ]
    },
    {
     "name": "stderr",
     "output_type": "stream",
     "text": [
      "\n"
     ]
    },
    {
     "name": "stdout",
     "output_type": "stream",
     "text": [
      "\u001b[32m[0922 15:09:26 @monitor.py:467]\u001b[0m GAN_loss/discrim/accuracy_fake: 0.88\n",
      "\u001b[32m[0922 15:09:26 @monitor.py:467]\u001b[0m GAN_loss/discrim/accuracy_real: 0.225\n",
      "\u001b[32m[0922 15:09:26 @monitor.py:467]\u001b[0m GAN_loss/discrim/loss: 0.641\n",
      "\u001b[32m[0922 15:09:26 @monitor.py:467]\u001b[0m GAN_loss/gen/final-g-loss: 1.4157\n",
      "\u001b[32m[0922 15:09:26 @monitor.py:467]\u001b[0m GAN_loss/gen/klloss: 0.34101\n",
      "\u001b[32m[0922 15:09:26 @monitor.py:467]\u001b[0m GAN_loss/gen/loss: 1.0746\n",
      "\u001b[32m[0922 15:09:26 @monitor.py:467]\u001b[0m QueueInput/queue_size: 50\n",
      "\u001b[32m[0922 15:09:26 @base.py:275]\u001b[0m Start Epoch 659 ...\n"
     ]
    },
    {
     "name": "stderr",
     "output_type": "stream",
     "text": [
      "100%|#################################################################################|2000/2000[01:11<00:00,28.11it/s]"
     ]
    },
    {
     "name": "stdout",
     "output_type": "stream",
     "text": [
      "\u001b[32m[0922 15:10:37 @base.py:285]\u001b[0m Epoch 659 (global_step 1318000) finished, time:1 minute 11 seconds.\n",
      "\u001b[32m[0922 15:10:38 @saver.py:79]\u001b[0m Model saved to ../output/LPMC/DATGAN/model\\model-1318000.\n"
     ]
    },
    {
     "name": "stderr",
     "output_type": "stream",
     "text": [
      "\n"
     ]
    },
    {
     "name": "stdout",
     "output_type": "stream",
     "text": [
      "\u001b[32m[0922 15:10:38 @monitor.py:467]\u001b[0m GAN_loss/discrim/accuracy_fake: 0.86\n",
      "\u001b[32m[0922 15:10:38 @monitor.py:467]\u001b[0m GAN_loss/discrim/accuracy_real: 0.185\n",
      "\u001b[32m[0922 15:10:38 @monitor.py:467]\u001b[0m GAN_loss/discrim/loss: 0.64451\n",
      "\u001b[32m[0922 15:10:38 @monitor.py:467]\u001b[0m GAN_loss/gen/final-g-loss: 1.3149\n",
      "\u001b[32m[0922 15:10:38 @monitor.py:467]\u001b[0m GAN_loss/gen/klloss: 0.2424\n",
      "\u001b[32m[0922 15:10:38 @monitor.py:467]\u001b[0m GAN_loss/gen/loss: 1.0725\n",
      "\u001b[32m[0922 15:10:38 @monitor.py:467]\u001b[0m QueueInput/queue_size: 50\n",
      "\u001b[32m[0922 15:10:38 @base.py:275]\u001b[0m Start Epoch 660 ...\n"
     ]
    },
    {
     "name": "stderr",
     "output_type": "stream",
     "text": [
      "100%|#################################################################################|2000/2000[01:11<00:00,27.87it/s]"
     ]
    },
    {
     "name": "stdout",
     "output_type": "stream",
     "text": [
      "\u001b[32m[0922 15:11:49 @base.py:285]\u001b[0m Epoch 660 (global_step 1320000) finished, time:1 minute 11 seconds.\n"
     ]
    },
    {
     "name": "stderr",
     "output_type": "stream",
     "text": [
      "\n"
     ]
    },
    {
     "name": "stdout",
     "output_type": "stream",
     "text": [
      "\u001b[32m[0922 15:11:50 @saver.py:79]\u001b[0m Model saved to ../output/LPMC/DATGAN/model\\model-1320000.\n",
      "\u001b[32m[0922 15:11:50 @monitor.py:467]\u001b[0m GAN_loss/discrim/accuracy_fake: 0.9\n",
      "\u001b[32m[0922 15:11:50 @monitor.py:467]\u001b[0m GAN_loss/discrim/accuracy_real: 0.22\n",
      "\u001b[32m[0922 15:11:50 @monitor.py:467]\u001b[0m GAN_loss/discrim/loss: 0.63746\n",
      "\u001b[32m[0922 15:11:50 @monitor.py:467]\u001b[0m GAN_loss/gen/final-g-loss: 1.2247\n",
      "\u001b[32m[0922 15:11:50 @monitor.py:467]\u001b[0m GAN_loss/gen/klloss: 0.16037\n",
      "\u001b[32m[0922 15:11:50 @monitor.py:467]\u001b[0m GAN_loss/gen/loss: 1.0643\n",
      "\u001b[32m[0922 15:11:50 @monitor.py:467]\u001b[0m QueueInput/queue_size: 50\n",
      "\u001b[32m[0922 15:11:50 @base.py:275]\u001b[0m Start Epoch 661 ...\n"
     ]
    },
    {
     "name": "stderr",
     "output_type": "stream",
     "text": [
      "100%|#################################################################################|2000/2000[01:12<00:00,27.74it/s]"
     ]
    },
    {
     "name": "stdout",
     "output_type": "stream",
     "text": [
      "\u001b[32m[0922 15:13:02 @base.py:285]\u001b[0m Epoch 661 (global_step 1322000) finished, time:1 minute 12 seconds.\n",
      "\u001b[32m[0922 15:13:02 @saver.py:79]\u001b[0m Model saved to ../output/LPMC/DATGAN/model\\model-1322000.\n"
     ]
    },
    {
     "name": "stderr",
     "output_type": "stream",
     "text": [
      "\n"
     ]
    },
    {
     "name": "stdout",
     "output_type": "stream",
     "text": [
      "\u001b[32m[0922 15:13:02 @monitor.py:467]\u001b[0m GAN_loss/discrim/accuracy_fake: 0.895\n",
      "\u001b[32m[0922 15:13:02 @monitor.py:467]\u001b[0m GAN_loss/discrim/accuracy_real: 0.165\n",
      "\u001b[32m[0922 15:13:02 @monitor.py:467]\u001b[0m GAN_loss/discrim/loss: 0.64488\n",
      "\u001b[32m[0922 15:13:02 @monitor.py:467]\u001b[0m GAN_loss/gen/final-g-loss: 1.2361\n",
      "\u001b[32m[0922 15:13:02 @monitor.py:467]\u001b[0m GAN_loss/gen/klloss: 0.16146\n",
      "\u001b[32m[0922 15:13:02 @monitor.py:467]\u001b[0m GAN_loss/gen/loss: 1.0747\n",
      "\u001b[32m[0922 15:13:02 @monitor.py:467]\u001b[0m QueueInput/queue_size: 50\n",
      "\u001b[32m[0922 15:13:02 @base.py:275]\u001b[0m Start Epoch 662 ...\n"
     ]
    },
    {
     "name": "stderr",
     "output_type": "stream",
     "text": [
      "100%|#################################################################################|2000/2000[01:12<00:00,27.72it/s]"
     ]
    },
    {
     "name": "stdout",
     "output_type": "stream",
     "text": [
      "\u001b[32m[0922 15:14:14 @base.py:285]\u001b[0m Epoch 662 (global_step 1324000) finished, time:1 minute 12 seconds.\n",
      "\u001b[32m[0922 15:14:14 @saver.py:79]\u001b[0m Model saved to ../output/LPMC/DATGAN/model\\model-1324000.\n"
     ]
    },
    {
     "name": "stderr",
     "output_type": "stream",
     "text": [
      "\n"
     ]
    },
    {
     "name": "stdout",
     "output_type": "stream",
     "text": [
      "\u001b[32m[0922 15:14:14 @monitor.py:467]\u001b[0m GAN_loss/discrim/accuracy_fake: 0.895\n",
      "\u001b[32m[0922 15:14:14 @monitor.py:467]\u001b[0m GAN_loss/discrim/accuracy_real: 0.205\n",
      "\u001b[32m[0922 15:14:14 @monitor.py:467]\u001b[0m GAN_loss/discrim/loss: 0.63692\n",
      "\u001b[32m[0922 15:14:14 @monitor.py:467]\u001b[0m GAN_loss/gen/final-g-loss: 1.347\n",
      "\u001b[32m[0922 15:14:14 @monitor.py:467]\u001b[0m GAN_loss/gen/klloss: 0.26879\n",
      "\u001b[32m[0922 15:14:14 @monitor.py:467]\u001b[0m GAN_loss/gen/loss: 1.0782\n",
      "\u001b[32m[0922 15:14:14 @monitor.py:467]\u001b[0m QueueInput/queue_size: 50\n",
      "\u001b[32m[0922 15:14:14 @base.py:275]\u001b[0m Start Epoch 663 ...\n"
     ]
    },
    {
     "name": "stderr",
     "output_type": "stream",
     "text": [
      "100%|#################################################################################|2000/2000[01:11<00:00,27.92it/s]"
     ]
    },
    {
     "name": "stdout",
     "output_type": "stream",
     "text": [
      "\u001b[32m[0922 15:15:26 @base.py:285]\u001b[0m Epoch 663 (global_step 1326000) finished, time:1 minute 11 seconds.\n",
      "\u001b[32m[0922 15:15:26 @saver.py:79]\u001b[0m Model saved to ../output/LPMC/DATGAN/model\\model-1326000.\n"
     ]
    },
    {
     "name": "stderr",
     "output_type": "stream",
     "text": [
      "\n"
     ]
    },
    {
     "name": "stdout",
     "output_type": "stream",
     "text": [
      "\u001b[32m[0922 15:15:26 @monitor.py:467]\u001b[0m GAN_loss/discrim/accuracy_fake: 0.905\n",
      "\u001b[32m[0922 15:15:26 @monitor.py:467]\u001b[0m GAN_loss/discrim/accuracy_real: 0.23\n",
      "\u001b[32m[0922 15:15:26 @monitor.py:467]\u001b[0m GAN_loss/discrim/loss: 0.63805\n",
      "\u001b[32m[0922 15:15:26 @monitor.py:467]\u001b[0m GAN_loss/gen/final-g-loss: 1.2922\n",
      "\u001b[32m[0922 15:15:26 @monitor.py:467]\u001b[0m GAN_loss/gen/klloss: 0.18792\n",
      "\u001b[32m[0922 15:15:26 @monitor.py:467]\u001b[0m GAN_loss/gen/loss: 1.1043\n",
      "\u001b[32m[0922 15:15:26 @monitor.py:467]\u001b[0m QueueInput/queue_size: 50\n",
      "\u001b[32m[0922 15:15:26 @base.py:275]\u001b[0m Start Epoch 664 ...\n"
     ]
    },
    {
     "name": "stderr",
     "output_type": "stream",
     "text": [
      "100%|#################################################################################|2000/2000[01:12<00:00,27.46it/s]"
     ]
    },
    {
     "name": "stdout",
     "output_type": "stream",
     "text": [
      "\u001b[32m[0922 15:16:39 @base.py:285]\u001b[0m Epoch 664 (global_step 1328000) finished, time:1 minute 12 seconds.\n"
     ]
    },
    {
     "name": "stderr",
     "output_type": "stream",
     "text": [
      "\n"
     ]
    },
    {
     "name": "stdout",
     "output_type": "stream",
     "text": [
      "\u001b[32m[0922 15:16:39 @saver.py:79]\u001b[0m Model saved to ../output/LPMC/DATGAN/model\\model-1328000.\n",
      "\u001b[32m[0922 15:16:39 @monitor.py:467]\u001b[0m GAN_loss/discrim/accuracy_fake: 0.935\n",
      "\u001b[32m[0922 15:16:39 @monitor.py:467]\u001b[0m GAN_loss/discrim/accuracy_real: 0.18\n",
      "\u001b[32m[0922 15:16:39 @monitor.py:467]\u001b[0m GAN_loss/discrim/loss: 0.63472\n",
      "\u001b[32m[0922 15:16:39 @monitor.py:467]\u001b[0m GAN_loss/gen/final-g-loss: 1.3389\n",
      "\u001b[32m[0922 15:16:39 @monitor.py:467]\u001b[0m GAN_loss/gen/klloss: 0.22618\n",
      "\u001b[32m[0922 15:16:39 @monitor.py:467]\u001b[0m GAN_loss/gen/loss: 1.1127\n",
      "\u001b[32m[0922 15:16:39 @monitor.py:467]\u001b[0m QueueInput/queue_size: 50\n",
      "\u001b[32m[0922 15:16:39 @base.py:275]\u001b[0m Start Epoch 665 ...\n"
     ]
    },
    {
     "name": "stderr",
     "output_type": "stream",
     "text": [
      "100%|#################################################################################|2000/2000[01:11<00:00,27.82it/s]"
     ]
    },
    {
     "name": "stdout",
     "output_type": "stream",
     "text": [
      "\u001b[32m[0922 15:17:51 @base.py:285]\u001b[0m Epoch 665 (global_step 1330000) finished, time:1 minute 11 seconds.\n",
      "\u001b[32m[0922 15:17:51 @saver.py:79]\u001b[0m Model saved to ../output/LPMC/DATGAN/model\\model-1330000.\n"
     ]
    },
    {
     "name": "stderr",
     "output_type": "stream",
     "text": [
      "\n"
     ]
    },
    {
     "name": "stdout",
     "output_type": "stream",
     "text": [
      "\u001b[32m[0922 15:17:51 @monitor.py:467]\u001b[0m GAN_loss/discrim/accuracy_fake: 0.91\n",
      "\u001b[32m[0922 15:17:51 @monitor.py:467]\u001b[0m GAN_loss/discrim/accuracy_real: 0.225\n",
      "\u001b[32m[0922 15:17:51 @monitor.py:467]\u001b[0m GAN_loss/discrim/loss: 0.64616\n",
      "\u001b[32m[0922 15:17:51 @monitor.py:467]\u001b[0m GAN_loss/gen/final-g-loss: 1.335\n",
      "\u001b[32m[0922 15:17:51 @monitor.py:467]\u001b[0m GAN_loss/gen/klloss: 0.24809\n",
      "\u001b[32m[0922 15:17:51 @monitor.py:467]\u001b[0m GAN_loss/gen/loss: 1.0869\n",
      "\u001b[32m[0922 15:17:51 @monitor.py:467]\u001b[0m QueueInput/queue_size: 50\n",
      "\u001b[32m[0922 15:17:51 @base.py:275]\u001b[0m Start Epoch 666 ...\n"
     ]
    },
    {
     "name": "stderr",
     "output_type": "stream",
     "text": [
      "100%|#################################################################################|2000/2000[01:12<00:00,27.64it/s]"
     ]
    },
    {
     "name": "stdout",
     "output_type": "stream",
     "text": [
      "\u001b[32m[0922 15:19:04 @base.py:285]\u001b[0m Epoch 666 (global_step 1332000) finished, time:1 minute 12 seconds.\n",
      "\u001b[32m[0922 15:19:04 @saver.py:79]\u001b[0m Model saved to ../output/LPMC/DATGAN/model\\model-1332000.\n"
     ]
    },
    {
     "name": "stderr",
     "output_type": "stream",
     "text": [
      "\n"
     ]
    },
    {
     "name": "stdout",
     "output_type": "stream",
     "text": [
      "\u001b[32m[0922 15:19:04 @monitor.py:467]\u001b[0m GAN_loss/discrim/accuracy_fake: 0.88\n",
      "\u001b[32m[0922 15:19:04 @monitor.py:467]\u001b[0m GAN_loss/discrim/accuracy_real: 0.155\n",
      "\u001b[32m[0922 15:19:04 @monitor.py:467]\u001b[0m GAN_loss/discrim/loss: 0.64761\n",
      "\u001b[32m[0922 15:19:04 @monitor.py:467]\u001b[0m GAN_loss/gen/final-g-loss: 1.3133\n",
      "\u001b[32m[0922 15:19:04 @monitor.py:467]\u001b[0m GAN_loss/gen/klloss: 0.24071\n",
      "\u001b[32m[0922 15:19:04 @monitor.py:467]\u001b[0m GAN_loss/gen/loss: 1.0726\n",
      "\u001b[32m[0922 15:19:04 @monitor.py:467]\u001b[0m QueueInput/queue_size: 50\n",
      "\u001b[32m[0922 15:19:04 @base.py:275]\u001b[0m Start Epoch 667 ...\n"
     ]
    },
    {
     "name": "stderr",
     "output_type": "stream",
     "text": [
      "100%|#################################################################################|2000/2000[01:12<00:00,27.68it/s]"
     ]
    },
    {
     "name": "stdout",
     "output_type": "stream",
     "text": [
      "\u001b[32m[0922 15:20:16 @base.py:285]\u001b[0m Epoch 667 (global_step 1334000) finished, time:1 minute 12 seconds.\n",
      "\u001b[32m[0922 15:20:16 @saver.py:79]\u001b[0m Model saved to ../output/LPMC/DATGAN/model\\model-1334000.\n"
     ]
    },
    {
     "name": "stderr",
     "output_type": "stream",
     "text": [
      "\n"
     ]
    },
    {
     "name": "stdout",
     "output_type": "stream",
     "text": [
      "\u001b[32m[0922 15:20:16 @monitor.py:467]\u001b[0m GAN_loss/discrim/accuracy_fake: 0.93\n",
      "\u001b[32m[0922 15:20:16 @monitor.py:467]\u001b[0m GAN_loss/discrim/accuracy_real: 0.155\n",
      "\u001b[32m[0922 15:20:16 @monitor.py:467]\u001b[0m GAN_loss/discrim/loss: 0.64949\n",
      "\u001b[32m[0922 15:20:16 @monitor.py:467]\u001b[0m GAN_loss/gen/final-g-loss: 1.3213\n",
      "\u001b[32m[0922 15:20:16 @monitor.py:467]\u001b[0m GAN_loss/gen/klloss: 0.24603\n",
      "\u001b[32m[0922 15:20:16 @monitor.py:467]\u001b[0m GAN_loss/gen/loss: 1.0753\n",
      "\u001b[32m[0922 15:20:16 @monitor.py:467]\u001b[0m QueueInput/queue_size: 50\n",
      "\u001b[32m[0922 15:20:16 @base.py:275]\u001b[0m Start Epoch 668 ...\n"
     ]
    },
    {
     "name": "stderr",
     "output_type": "stream",
     "text": [
      "100%|#################################################################################|2000/2000[01:12<00:00,27.72it/s]"
     ]
    },
    {
     "name": "stdout",
     "output_type": "stream",
     "text": [
      "\u001b[32m[0922 15:21:29 @base.py:285]\u001b[0m Epoch 668 (global_step 1336000) finished, time:1 minute 12 seconds.\n",
      "\u001b[32m[0922 15:21:29 @saver.py:79]\u001b[0m Model saved to ../output/LPMC/DATGAN/model\\model-1336000.\n"
     ]
    },
    {
     "name": "stderr",
     "output_type": "stream",
     "text": [
      "\n"
     ]
    },
    {
     "name": "stdout",
     "output_type": "stream",
     "text": [
      "\u001b[32m[0922 15:21:29 @monitor.py:467]\u001b[0m GAN_loss/discrim/accuracy_fake: 0.895\n",
      "\u001b[32m[0922 15:21:29 @monitor.py:467]\u001b[0m GAN_loss/discrim/accuracy_real: 0.21\n",
      "\u001b[32m[0922 15:21:29 @monitor.py:467]\u001b[0m GAN_loss/discrim/loss: 0.64352\n",
      "\u001b[32m[0922 15:21:29 @monitor.py:467]\u001b[0m GAN_loss/gen/final-g-loss: 1.2217\n",
      "\u001b[32m[0922 15:21:29 @monitor.py:467]\u001b[0m GAN_loss/gen/klloss: 0.16803\n",
      "\u001b[32m[0922 15:21:29 @monitor.py:467]\u001b[0m GAN_loss/gen/loss: 1.0537\n",
      "\u001b[32m[0922 15:21:29 @monitor.py:467]\u001b[0m QueueInput/queue_size: 50\n",
      "\u001b[32m[0922 15:21:29 @base.py:275]\u001b[0m Start Epoch 669 ...\n"
     ]
    },
    {
     "name": "stderr",
     "output_type": "stream",
     "text": [
      "100%|#################################################################################|2000/2000[01:12<00:00,27.74it/s]"
     ]
    },
    {
     "name": "stdout",
     "output_type": "stream",
     "text": [
      "\u001b[32m[0922 15:22:41 @base.py:285]\u001b[0m Epoch 669 (global_step 1338000) finished, time:1 minute 12 seconds.\n",
      "\u001b[32m[0922 15:22:41 @saver.py:79]\u001b[0m Model saved to ../output/LPMC/DATGAN/model\\model-1338000.\n"
     ]
    },
    {
     "name": "stderr",
     "output_type": "stream",
     "text": [
      "\n"
     ]
    },
    {
     "name": "stdout",
     "output_type": "stream",
     "text": [
      "\u001b[32m[0922 15:22:41 @monitor.py:467]\u001b[0m GAN_loss/discrim/accuracy_fake: 0.89\n",
      "\u001b[32m[0922 15:22:41 @monitor.py:467]\u001b[0m GAN_loss/discrim/accuracy_real: 0.18\n",
      "\u001b[32m[0922 15:22:41 @monitor.py:467]\u001b[0m GAN_loss/discrim/loss: 0.63635\n",
      "\u001b[32m[0922 15:22:41 @monitor.py:467]\u001b[0m GAN_loss/gen/final-g-loss: 1.2815\n",
      "\u001b[32m[0922 15:22:41 @monitor.py:467]\u001b[0m GAN_loss/gen/klloss: 0.17717\n",
      "\u001b[32m[0922 15:22:41 @monitor.py:467]\u001b[0m GAN_loss/gen/loss: 1.1044\n",
      "\u001b[32m[0922 15:22:41 @monitor.py:467]\u001b[0m QueueInput/queue_size: 50\n",
      "\u001b[32m[0922 15:22:41 @base.py:275]\u001b[0m Start Epoch 670 ...\n"
     ]
    },
    {
     "name": "stderr",
     "output_type": "stream",
     "text": [
      "100%|#################################################################################|2000/2000[01:12<00:00,27.47it/s]"
     ]
    },
    {
     "name": "stdout",
     "output_type": "stream",
     "text": [
      "\u001b[32m[0922 15:23:54 @base.py:285]\u001b[0m Epoch 670 (global_step 1340000) finished, time:1 minute 12 seconds.\n",
      "\u001b[32m[0922 15:23:54 @saver.py:79]\u001b[0m Model saved to ../output/LPMC/DATGAN/model\\model-1340000.\n",
      "\u001b[32m[0922 15:23:54 @monitor.py:467]\u001b[0m GAN_loss/discrim/accuracy_fake: 0.925\n"
     ]
    },
    {
     "name": "stderr",
     "output_type": "stream",
     "text": [
      "\n"
     ]
    },
    {
     "name": "stdout",
     "output_type": "stream",
     "text": [
      "\u001b[32m[0922 15:23:54 @monitor.py:467]\u001b[0m GAN_loss/discrim/accuracy_real: 0.21\n",
      "\u001b[32m[0922 15:23:54 @monitor.py:467]\u001b[0m GAN_loss/discrim/loss: 0.64151\n",
      "\u001b[32m[0922 15:23:54 @monitor.py:467]\u001b[0m GAN_loss/gen/final-g-loss: 1.4637\n",
      "\u001b[32m[0922 15:23:54 @monitor.py:467]\u001b[0m GAN_loss/gen/klloss: 0.38149\n",
      "\u001b[32m[0922 15:23:54 @monitor.py:467]\u001b[0m GAN_loss/gen/loss: 1.0822\n",
      "\u001b[32m[0922 15:23:54 @monitor.py:467]\u001b[0m QueueInput/queue_size: 50\n",
      "\u001b[32m[0922 15:23:54 @base.py:275]\u001b[0m Start Epoch 671 ...\n"
     ]
    },
    {
     "name": "stderr",
     "output_type": "stream",
     "text": [
      "100%|#################################################################################|2000/2000[01:13<00:00,27.20it/s]"
     ]
    },
    {
     "name": "stdout",
     "output_type": "stream",
     "text": [
      "\u001b[32m[0922 15:25:08 @base.py:285]\u001b[0m Epoch 671 (global_step 1342000) finished, time:1 minute 13 seconds.\n",
      "\u001b[32m[0922 15:25:08 @saver.py:79]\u001b[0m Model saved to ../output/LPMC/DATGAN/model\\model-1342000.\n"
     ]
    },
    {
     "name": "stderr",
     "output_type": "stream",
     "text": [
      "\n"
     ]
    },
    {
     "name": "stdout",
     "output_type": "stream",
     "text": [
      "\u001b[32m[0922 15:25:08 @monitor.py:467]\u001b[0m GAN_loss/discrim/accuracy_fake: 0.865\n",
      "\u001b[32m[0922 15:25:08 @monitor.py:467]\u001b[0m GAN_loss/discrim/accuracy_real: 0.195\n",
      "\u001b[32m[0922 15:25:08 @monitor.py:467]\u001b[0m GAN_loss/discrim/loss: 0.64606\n",
      "\u001b[32m[0922 15:25:08 @monitor.py:467]\u001b[0m GAN_loss/gen/final-g-loss: 1.2761\n",
      "\u001b[32m[0922 15:25:08 @monitor.py:467]\u001b[0m GAN_loss/gen/klloss: 0.20597\n",
      "\u001b[32m[0922 15:25:08 @monitor.py:467]\u001b[0m GAN_loss/gen/loss: 1.0701\n",
      "\u001b[32m[0922 15:25:08 @monitor.py:467]\u001b[0m QueueInput/queue_size: 50\n",
      "\u001b[32m[0922 15:25:08 @base.py:275]\u001b[0m Start Epoch 672 ...\n"
     ]
    },
    {
     "name": "stderr",
     "output_type": "stream",
     "text": [
      "100%|#################################################################################|2000/2000[01:13<00:00,27.33it/s]"
     ]
    },
    {
     "name": "stdout",
     "output_type": "stream",
     "text": [
      "\u001b[32m[0922 15:26:21 @base.py:285]\u001b[0m Epoch 672 (global_step 1344000) finished, time:1 minute 13 seconds.\n",
      "\u001b[32m[0922 15:26:21 @saver.py:79]\u001b[0m Model saved to ../output/LPMC/DATGAN/model\\model-1344000.\n"
     ]
    },
    {
     "name": "stderr",
     "output_type": "stream",
     "text": [
      "\n"
     ]
    },
    {
     "name": "stdout",
     "output_type": "stream",
     "text": [
      "\u001b[32m[0922 15:26:21 @monitor.py:467]\u001b[0m GAN_loss/discrim/accuracy_fake: 0.88\n",
      "\u001b[32m[0922 15:26:21 @monitor.py:467]\u001b[0m GAN_loss/discrim/accuracy_real: 0.205\n",
      "\u001b[32m[0922 15:26:21 @monitor.py:467]\u001b[0m GAN_loss/discrim/loss: 0.63825\n",
      "\u001b[32m[0922 15:26:21 @monitor.py:467]\u001b[0m GAN_loss/gen/final-g-loss: 1.3216\n",
      "\u001b[32m[0922 15:26:21 @monitor.py:467]\u001b[0m GAN_loss/gen/klloss: 0.233\n",
      "\u001b[32m[0922 15:26:21 @monitor.py:467]\u001b[0m GAN_loss/gen/loss: 1.0886\n",
      "\u001b[32m[0922 15:26:21 @monitor.py:467]\u001b[0m QueueInput/queue_size: 50\n",
      "\u001b[32m[0922 15:26:21 @base.py:275]\u001b[0m Start Epoch 673 ...\n"
     ]
    },
    {
     "name": "stderr",
     "output_type": "stream",
     "text": [
      "100%|#################################################################################|2000/2000[01:12<00:00,27.63it/s]"
     ]
    },
    {
     "name": "stdout",
     "output_type": "stream",
     "text": [
      "\u001b[32m[0922 15:27:34 @base.py:285]\u001b[0m Epoch 673 (global_step 1346000) finished, time:1 minute 12 seconds.\n",
      "\u001b[32m[0922 15:27:34 @saver.py:79]\u001b[0m Model saved to ../output/LPMC/DATGAN/model\\model-1346000.\n"
     ]
    },
    {
     "name": "stderr",
     "output_type": "stream",
     "text": [
      "\n"
     ]
    },
    {
     "name": "stdout",
     "output_type": "stream",
     "text": [
      "\u001b[32m[0922 15:27:34 @monitor.py:467]\u001b[0m GAN_loss/discrim/accuracy_fake: 0.895\n",
      "\u001b[32m[0922 15:27:34 @monitor.py:467]\u001b[0m GAN_loss/discrim/accuracy_real: 0.25\n",
      "\u001b[32m[0922 15:27:34 @monitor.py:467]\u001b[0m GAN_loss/discrim/loss: 0.64304\n",
      "\u001b[32m[0922 15:27:34 @monitor.py:467]\u001b[0m GAN_loss/gen/final-g-loss: 1.332\n",
      "\u001b[32m[0922 15:27:34 @monitor.py:467]\u001b[0m GAN_loss/gen/klloss: 0.26867\n",
      "\u001b[32m[0922 15:27:34 @monitor.py:467]\u001b[0m GAN_loss/gen/loss: 1.0633\n",
      "\u001b[32m[0922 15:27:34 @monitor.py:467]\u001b[0m QueueInput/queue_size: 50\n",
      "\u001b[32m[0922 15:27:34 @base.py:275]\u001b[0m Start Epoch 674 ...\n"
     ]
    },
    {
     "name": "stderr",
     "output_type": "stream",
     "text": [
      "100%|#################################################################################|2000/2000[01:59<00:00,16.79it/s]"
     ]
    },
    {
     "name": "stdout",
     "output_type": "stream",
     "text": [
      "\u001b[32m[0922 15:29:33 @base.py:285]\u001b[0m Epoch 674 (global_step 1348000) finished, time:1 minute 59 seconds.\n",
      "\u001b[32m[0922 15:29:33 @saver.py:79]\u001b[0m Model saved to ../output/LPMC/DATGAN/model\\model-1348000.\n"
     ]
    },
    {
     "name": "stderr",
     "output_type": "stream",
     "text": [
      "\n"
     ]
    },
    {
     "name": "stdout",
     "output_type": "stream",
     "text": [
      "\u001b[32m[0922 15:29:33 @monitor.py:467]\u001b[0m GAN_loss/discrim/accuracy_fake: 0.9\n",
      "\u001b[32m[0922 15:29:33 @monitor.py:467]\u001b[0m GAN_loss/discrim/accuracy_real: 0.215\n",
      "\u001b[32m[0922 15:29:33 @monitor.py:467]\u001b[0m GAN_loss/discrim/loss: 0.64375\n",
      "\u001b[32m[0922 15:29:33 @monitor.py:467]\u001b[0m GAN_loss/gen/final-g-loss: 1.2656\n",
      "\u001b[32m[0922 15:29:33 @monitor.py:467]\u001b[0m GAN_loss/gen/klloss: 0.19912\n",
      "\u001b[32m[0922 15:29:33 @monitor.py:467]\u001b[0m GAN_loss/gen/loss: 1.0665\n",
      "\u001b[32m[0922 15:29:33 @monitor.py:467]\u001b[0m QueueInput/queue_size: 50\n",
      "\u001b[32m[0922 15:29:33 @base.py:275]\u001b[0m Start Epoch 675 ...\n"
     ]
    },
    {
     "name": "stderr",
     "output_type": "stream",
     "text": [
      "100%|#################################################################################|2000/2000[02:12<00:00,15.10it/s]"
     ]
    },
    {
     "name": "stdout",
     "output_type": "stream",
     "text": [
      "\u001b[32m[0922 15:31:46 @base.py:285]\u001b[0m Epoch 675 (global_step 1350000) finished, time:2 minutes 12 seconds.\n",
      "\u001b[32m[0922 15:31:46 @saver.py:79]\u001b[0m Model saved to ../output/LPMC/DATGAN/model\\model-1350000.\n"
     ]
    },
    {
     "name": "stderr",
     "output_type": "stream",
     "text": [
      "\n"
     ]
    },
    {
     "name": "stdout",
     "output_type": "stream",
     "text": [
      "\u001b[32m[0922 15:31:46 @monitor.py:467]\u001b[0m GAN_loss/discrim/accuracy_fake: 0.885\n",
      "\u001b[32m[0922 15:31:46 @monitor.py:467]\u001b[0m GAN_loss/discrim/accuracy_real: 0.175\n",
      "\u001b[32m[0922 15:31:46 @monitor.py:467]\u001b[0m GAN_loss/discrim/loss: 0.6457\n",
      "\u001b[32m[0922 15:31:46 @monitor.py:467]\u001b[0m GAN_loss/gen/final-g-loss: 1.2612\n",
      "\u001b[32m[0922 15:31:46 @monitor.py:467]\u001b[0m GAN_loss/gen/klloss: 0.19278\n",
      "\u001b[32m[0922 15:31:46 @monitor.py:467]\u001b[0m GAN_loss/gen/loss: 1.0684\n",
      "\u001b[32m[0922 15:31:46 @monitor.py:467]\u001b[0m QueueInput/queue_size: 50\n",
      "\u001b[32m[0922 15:31:46 @base.py:275]\u001b[0m Start Epoch 676 ...\n"
     ]
    },
    {
     "name": "stderr",
     "output_type": "stream",
     "text": [
      "100%|#################################################################################|2000/2000[02:12<00:00,15.07it/s]"
     ]
    },
    {
     "name": "stdout",
     "output_type": "stream",
     "text": [
      "\u001b[32m[0922 15:33:59 @base.py:285]\u001b[0m Epoch 676 (global_step 1352000) finished, time:2 minutes 12 seconds.\n",
      "\u001b[32m[0922 15:33:59 @saver.py:79]\u001b[0m Model saved to ../output/LPMC/DATGAN/model\\model-1352000.\n"
     ]
    },
    {
     "name": "stderr",
     "output_type": "stream",
     "text": [
      "\n"
     ]
    },
    {
     "name": "stdout",
     "output_type": "stream",
     "text": [
      "\u001b[32m[0922 15:33:59 @monitor.py:467]\u001b[0m GAN_loss/discrim/accuracy_fake: 0.885\n",
      "\u001b[32m[0922 15:33:59 @monitor.py:467]\u001b[0m GAN_loss/discrim/accuracy_real: 0.155\n",
      "\u001b[32m[0922 15:33:59 @monitor.py:467]\u001b[0m GAN_loss/discrim/loss: 0.63525\n",
      "\u001b[32m[0922 15:33:59 @monitor.py:467]\u001b[0m GAN_loss/gen/final-g-loss: 1.382\n",
      "\u001b[32m[0922 15:33:59 @monitor.py:467]\u001b[0m GAN_loss/gen/klloss: 0.2718\n",
      "\u001b[32m[0922 15:33:59 @monitor.py:467]\u001b[0m GAN_loss/gen/loss: 1.1102\n",
      "\u001b[32m[0922 15:33:59 @monitor.py:467]\u001b[0m QueueInput/queue_size: 50\n",
      "\u001b[32m[0922 15:33:59 @base.py:275]\u001b[0m Start Epoch 677 ...\n"
     ]
    },
    {
     "name": "stderr",
     "output_type": "stream",
     "text": [
      "100%|#################################################################################|2000/2000[02:12<00:00,15.07it/s]"
     ]
    },
    {
     "name": "stdout",
     "output_type": "stream",
     "text": [
      "\u001b[32m[0922 15:36:12 @base.py:285]\u001b[0m Epoch 677 (global_step 1354000) finished, time:2 minutes 12 seconds.\n",
      "\u001b[32m[0922 15:36:12 @saver.py:79]\u001b[0m Model saved to ../output/LPMC/DATGAN/model\\model-1354000.\n"
     ]
    },
    {
     "name": "stderr",
     "output_type": "stream",
     "text": [
      "\n"
     ]
    },
    {
     "name": "stdout",
     "output_type": "stream",
     "text": [
      "\u001b[32m[0922 15:36:12 @monitor.py:467]\u001b[0m GAN_loss/discrim/accuracy_fake: 0.925\n",
      "\u001b[32m[0922 15:36:12 @monitor.py:467]\u001b[0m GAN_loss/discrim/accuracy_real: 0.16\n",
      "\u001b[32m[0922 15:36:12 @monitor.py:467]\u001b[0m GAN_loss/discrim/loss: 0.64028\n",
      "\u001b[32m[0922 15:36:12 @monitor.py:467]\u001b[0m GAN_loss/gen/final-g-loss: 1.4006\n",
      "\u001b[32m[0922 15:36:12 @monitor.py:467]\u001b[0m GAN_loss/gen/klloss: 0.3023\n",
      "\u001b[32m[0922 15:36:12 @monitor.py:467]\u001b[0m GAN_loss/gen/loss: 1.0983\n",
      "\u001b[32m[0922 15:36:12 @monitor.py:467]\u001b[0m QueueInput/queue_size: 50\n",
      "\u001b[32m[0922 15:36:12 @base.py:275]\u001b[0m Start Epoch 678 ...\n"
     ]
    },
    {
     "name": "stderr",
     "output_type": "stream",
     "text": [
      "100%|#################################################################################|2000/2000[02:12<00:00,15.06it/s]"
     ]
    },
    {
     "name": "stdout",
     "output_type": "stream",
     "text": [
      "\u001b[32m[0922 15:38:25 @base.py:285]\u001b[0m Epoch 678 (global_step 1356000) finished, time:2 minutes 12 seconds.\n",
      "\u001b[32m[0922 15:38:25 @saver.py:79]\u001b[0m Model saved to ../output/LPMC/DATGAN/model\\model-1356000.\n"
     ]
    },
    {
     "name": "stderr",
     "output_type": "stream",
     "text": [
      "\n"
     ]
    },
    {
     "name": "stdout",
     "output_type": "stream",
     "text": [
      "\u001b[32m[0922 15:38:25 @monitor.py:467]\u001b[0m GAN_loss/discrim/accuracy_fake: 0.87\n",
      "\u001b[32m[0922 15:38:25 @monitor.py:467]\u001b[0m GAN_loss/discrim/accuracy_real: 0.165\n",
      "\u001b[32m[0922 15:38:25 @monitor.py:467]\u001b[0m GAN_loss/discrim/loss: 0.64595\n",
      "\u001b[32m[0922 15:38:25 @monitor.py:467]\u001b[0m GAN_loss/gen/final-g-loss: 1.3952\n",
      "\u001b[32m[0922 15:38:25 @monitor.py:467]\u001b[0m GAN_loss/gen/klloss: 0.31865\n",
      "\u001b[32m[0922 15:38:25 @monitor.py:467]\u001b[0m GAN_loss/gen/loss: 1.0765\n",
      "\u001b[32m[0922 15:38:25 @monitor.py:467]\u001b[0m QueueInput/queue_size: 50\n",
      "\u001b[32m[0922 15:38:25 @base.py:275]\u001b[0m Start Epoch 679 ...\n"
     ]
    },
    {
     "name": "stderr",
     "output_type": "stream",
     "text": [
      "100%|#################################################################################|2000/2000[01:29<00:00,22.26it/s]"
     ]
    },
    {
     "name": "stdout",
     "output_type": "stream",
     "text": [
      "\u001b[32m[0922 15:39:55 @base.py:285]\u001b[0m Epoch 679 (global_step 1358000) finished, time:1 minute 29 seconds.\n",
      "\u001b[32m[0922 15:39:55 @saver.py:79]\u001b[0m Model saved to ../output/LPMC/DATGAN/model\\model-1358000.\n"
     ]
    },
    {
     "name": "stderr",
     "output_type": "stream",
     "text": [
      "\n"
     ]
    },
    {
     "name": "stdout",
     "output_type": "stream",
     "text": [
      "\u001b[32m[0922 15:39:55 @monitor.py:467]\u001b[0m GAN_loss/discrim/accuracy_fake: 0.855\n",
      "\u001b[32m[0922 15:39:55 @monitor.py:467]\u001b[0m GAN_loss/discrim/accuracy_real: 0.225\n",
      "\u001b[32m[0922 15:39:55 @monitor.py:467]\u001b[0m GAN_loss/discrim/loss: 0.64037\n",
      "\u001b[32m[0922 15:39:55 @monitor.py:467]\u001b[0m GAN_loss/gen/final-g-loss: 1.2607\n",
      "\u001b[32m[0922 15:39:55 @monitor.py:467]\u001b[0m GAN_loss/gen/klloss: 0.19975\n",
      "\u001b[32m[0922 15:39:55 @monitor.py:467]\u001b[0m GAN_loss/gen/loss: 1.0609\n",
      "\u001b[32m[0922 15:39:55 @monitor.py:467]\u001b[0m QueueInput/queue_size: 50\n",
      "\u001b[32m[0922 15:39:55 @base.py:275]\u001b[0m Start Epoch 680 ...\n"
     ]
    },
    {
     "name": "stderr",
     "output_type": "stream",
     "text": [
      "100%|#################################################################################|2000/2000[01:11<00:00,27.93it/s]"
     ]
    },
    {
     "name": "stdout",
     "output_type": "stream",
     "text": [
      "\u001b[32m[0922 15:41:07 @base.py:285]\u001b[0m Epoch 680 (global_step 1360000) finished, time:1 minute 11 seconds.\n"
     ]
    },
    {
     "name": "stderr",
     "output_type": "stream",
     "text": [
      "\n"
     ]
    },
    {
     "name": "stdout",
     "output_type": "stream",
     "text": [
      "\u001b[32m[0922 15:41:07 @saver.py:79]\u001b[0m Model saved to ../output/LPMC/DATGAN/model\\model-1360000.\n",
      "\u001b[32m[0922 15:41:07 @monitor.py:467]\u001b[0m GAN_loss/discrim/accuracy_fake: 0.89\n",
      "\u001b[32m[0922 15:41:07 @monitor.py:467]\u001b[0m GAN_loss/discrim/accuracy_real: 0.22\n",
      "\u001b[32m[0922 15:41:07 @monitor.py:467]\u001b[0m GAN_loss/discrim/loss: 0.64833\n",
      "\u001b[32m[0922 15:41:07 @monitor.py:467]\u001b[0m GAN_loss/gen/final-g-loss: 1.3515\n",
      "\u001b[32m[0922 15:41:07 @monitor.py:467]\u001b[0m GAN_loss/gen/klloss: 0.27624\n",
      "\u001b[32m[0922 15:41:07 @monitor.py:467]\u001b[0m GAN_loss/gen/loss: 1.0753\n",
      "\u001b[32m[0922 15:41:07 @monitor.py:467]\u001b[0m QueueInput/queue_size: 50\n",
      "\u001b[32m[0922 15:41:07 @base.py:275]\u001b[0m Start Epoch 681 ...\n"
     ]
    },
    {
     "name": "stderr",
     "output_type": "stream",
     "text": [
      "100%|#################################################################################|2000/2000[01:11<00:00,28.01it/s]"
     ]
    },
    {
     "name": "stdout",
     "output_type": "stream",
     "text": [
      "\u001b[32m[0922 15:42:18 @base.py:285]\u001b[0m Epoch 681 (global_step 1362000) finished, time:1 minute 11 seconds.\n"
     ]
    },
    {
     "name": "stderr",
     "output_type": "stream",
     "text": [
      "\n"
     ]
    },
    {
     "name": "stdout",
     "output_type": "stream",
     "text": [
      "\u001b[32m[0922 15:42:18 @saver.py:79]\u001b[0m Model saved to ../output/LPMC/DATGAN/model\\model-1362000.\n",
      "\u001b[32m[0922 15:42:19 @monitor.py:467]\u001b[0m GAN_loss/discrim/accuracy_fake: 0.845\n",
      "\u001b[32m[0922 15:42:19 @monitor.py:467]\u001b[0m GAN_loss/discrim/accuracy_real: 0.17\n",
      "\u001b[32m[0922 15:42:19 @monitor.py:467]\u001b[0m GAN_loss/discrim/loss: 0.65866\n",
      "\u001b[32m[0922 15:42:19 @monitor.py:467]\u001b[0m GAN_loss/gen/final-g-loss: 1.2787\n",
      "\u001b[32m[0922 15:42:19 @monitor.py:467]\u001b[0m GAN_loss/gen/klloss: 0.23729\n",
      "\u001b[32m[0922 15:42:19 @monitor.py:467]\u001b[0m GAN_loss/gen/loss: 1.0414\n",
      "\u001b[32m[0922 15:42:19 @monitor.py:467]\u001b[0m QueueInput/queue_size: 50\n",
      "\u001b[32m[0922 15:42:19 @base.py:275]\u001b[0m Start Epoch 682 ...\n"
     ]
    },
    {
     "name": "stderr",
     "output_type": "stream",
     "text": [
      "100%|#################################################################################|2000/2000[01:11<00:00,27.91it/s]"
     ]
    },
    {
     "name": "stdout",
     "output_type": "stream",
     "text": [
      "\u001b[32m[0922 15:43:30 @base.py:285]\u001b[0m Epoch 682 (global_step 1364000) finished, time:1 minute 11 seconds.\n"
     ]
    },
    {
     "name": "stderr",
     "output_type": "stream",
     "text": [
      "\n"
     ]
    },
    {
     "name": "stdout",
     "output_type": "stream",
     "text": [
      "\u001b[32m[0922 15:43:30 @saver.py:79]\u001b[0m Model saved to ../output/LPMC/DATGAN/model\\model-1364000.\n",
      "\u001b[32m[0922 15:43:30 @monitor.py:467]\u001b[0m GAN_loss/discrim/accuracy_fake: 0.83\n",
      "\u001b[32m[0922 15:43:30 @monitor.py:467]\u001b[0m GAN_loss/discrim/accuracy_real: 0.205\n",
      "\u001b[32m[0922 15:43:30 @monitor.py:467]\u001b[0m GAN_loss/discrim/loss: 0.64572\n",
      "\u001b[32m[0922 15:43:30 @monitor.py:467]\u001b[0m GAN_loss/gen/final-g-loss: 1.2956\n",
      "\u001b[32m[0922 15:43:30 @monitor.py:467]\u001b[0m GAN_loss/gen/klloss: 0.23511\n",
      "\u001b[32m[0922 15:43:30 @monitor.py:467]\u001b[0m GAN_loss/gen/loss: 1.0605\n",
      "\u001b[32m[0922 15:43:30 @monitor.py:467]\u001b[0m QueueInput/queue_size: 50\n",
      "\u001b[32m[0922 15:43:30 @base.py:275]\u001b[0m Start Epoch 683 ...\n"
     ]
    },
    {
     "name": "stderr",
     "output_type": "stream",
     "text": [
      "100%|#################################################################################|2000/2000[01:11<00:00,27.99it/s]"
     ]
    },
    {
     "name": "stdout",
     "output_type": "stream",
     "text": [
      "\u001b[32m[0922 15:44:42 @base.py:285]\u001b[0m Epoch 683 (global_step 1366000) finished, time:1 minute 11 seconds.\n",
      "\u001b[32m[0922 15:44:42 @saver.py:79]\u001b[0m Model saved to ../output/LPMC/DATGAN/model\\model-1366000.\n"
     ]
    },
    {
     "name": "stderr",
     "output_type": "stream",
     "text": [
      "\n"
     ]
    },
    {
     "name": "stdout",
     "output_type": "stream",
     "text": [
      "\u001b[32m[0922 15:44:42 @monitor.py:467]\u001b[0m GAN_loss/discrim/accuracy_fake: 0.915\n",
      "\u001b[32m[0922 15:44:42 @monitor.py:467]\u001b[0m GAN_loss/discrim/accuracy_real: 0.255\n",
      "\u001b[32m[0922 15:44:42 @monitor.py:467]\u001b[0m GAN_loss/discrim/loss: 0.64329\n",
      "\u001b[32m[0922 15:44:42 @monitor.py:467]\u001b[0m GAN_loss/gen/final-g-loss: 1.3094\n",
      "\u001b[32m[0922 15:44:42 @monitor.py:467]\u001b[0m GAN_loss/gen/klloss: 0.21751\n",
      "\u001b[32m[0922 15:44:42 @monitor.py:467]\u001b[0m GAN_loss/gen/loss: 1.0919\n",
      "\u001b[32m[0922 15:44:42 @monitor.py:467]\u001b[0m QueueInput/queue_size: 50\n",
      "\u001b[32m[0922 15:44:42 @base.py:275]\u001b[0m Start Epoch 684 ...\n"
     ]
    },
    {
     "name": "stderr",
     "output_type": "stream",
     "text": [
      "100%|#################################################################################|2000/2000[01:11<00:00,27.92it/s]"
     ]
    },
    {
     "name": "stdout",
     "output_type": "stream",
     "text": [
      "\u001b[32m[0922 15:45:54 @base.py:285]\u001b[0m Epoch 684 (global_step 1368000) finished, time:1 minute 11 seconds.\n",
      "\u001b[32m[0922 15:45:54 @saver.py:79]\u001b[0m Model saved to ../output/LPMC/DATGAN/model\\model-1368000.\n"
     ]
    },
    {
     "name": "stderr",
     "output_type": "stream",
     "text": [
      "\n"
     ]
    },
    {
     "name": "stdout",
     "output_type": "stream",
     "text": [
      "\u001b[32m[0922 15:45:54 @monitor.py:467]\u001b[0m GAN_loss/discrim/accuracy_fake: 0.86\n",
      "\u001b[32m[0922 15:45:54 @monitor.py:467]\u001b[0m GAN_loss/discrim/accuracy_real: 0.245\n",
      "\u001b[32m[0922 15:45:54 @monitor.py:467]\u001b[0m GAN_loss/discrim/loss: 0.64903\n",
      "\u001b[32m[0922 15:45:54 @monitor.py:467]\u001b[0m GAN_loss/gen/final-g-loss: 1.2347\n",
      "\u001b[32m[0922 15:45:54 @monitor.py:467]\u001b[0m GAN_loss/gen/klloss: 0.17548\n",
      "\u001b[32m[0922 15:45:54 @monitor.py:467]\u001b[0m GAN_loss/gen/loss: 1.0592\n",
      "\u001b[32m[0922 15:45:54 @monitor.py:467]\u001b[0m QueueInput/queue_size: 50\n",
      "\u001b[32m[0922 15:45:54 @base.py:275]\u001b[0m Start Epoch 685 ...\n"
     ]
    },
    {
     "name": "stderr",
     "output_type": "stream",
     "text": [
      "100%|#################################################################################|2000/2000[01:11<00:00,27.99it/s]"
     ]
    },
    {
     "name": "stdout",
     "output_type": "stream",
     "text": [
      "\u001b[32m[0922 15:47:05 @base.py:285]\u001b[0m Epoch 685 (global_step 1370000) finished, time:1 minute 11 seconds.\n",
      "\u001b[32m[0922 15:47:06 @saver.py:79]\u001b[0m Model saved to ../output/LPMC/DATGAN/model\\model-1370000.\n"
     ]
    },
    {
     "name": "stderr",
     "output_type": "stream",
     "text": [
      "\n"
     ]
    },
    {
     "name": "stdout",
     "output_type": "stream",
     "text": [
      "\u001b[32m[0922 15:47:06 @monitor.py:467]\u001b[0m GAN_loss/discrim/accuracy_fake: 0.925\n",
      "\u001b[32m[0922 15:47:06 @monitor.py:467]\u001b[0m GAN_loss/discrim/accuracy_real: 0.22\n",
      "\u001b[32m[0922 15:47:06 @monitor.py:467]\u001b[0m GAN_loss/discrim/loss: 0.64825\n",
      "\u001b[32m[0922 15:47:06 @monitor.py:467]\u001b[0m GAN_loss/gen/final-g-loss: 1.3423\n",
      "\u001b[32m[0922 15:47:06 @monitor.py:467]\u001b[0m GAN_loss/gen/klloss: 0.25503\n",
      "\u001b[32m[0922 15:47:06 @monitor.py:467]\u001b[0m GAN_loss/gen/loss: 1.0873\n",
      "\u001b[32m[0922 15:47:06 @monitor.py:467]\u001b[0m QueueInput/queue_size: 50\n",
      "\u001b[32m[0922 15:47:06 @base.py:275]\u001b[0m Start Epoch 686 ...\n"
     ]
    },
    {
     "name": "stderr",
     "output_type": "stream",
     "text": [
      "100%|#################################################################################|2000/2000[01:11<00:00,28.15it/s]"
     ]
    },
    {
     "name": "stdout",
     "output_type": "stream",
     "text": [
      "\u001b[32m[0922 15:48:17 @base.py:285]\u001b[0m Epoch 686 (global_step 1372000) finished, time:1 minute 11 seconds.\n",
      "\u001b[32m[0922 15:48:17 @saver.py:79]\u001b[0m Model saved to ../output/LPMC/DATGAN/model\\model-1372000.\n"
     ]
    },
    {
     "name": "stderr",
     "output_type": "stream",
     "text": [
      "\n"
     ]
    },
    {
     "name": "stdout",
     "output_type": "stream",
     "text": [
      "\u001b[32m[0922 15:48:17 @monitor.py:467]\u001b[0m GAN_loss/discrim/accuracy_fake: 0.9\n",
      "\u001b[32m[0922 15:48:17 @monitor.py:467]\u001b[0m GAN_loss/discrim/accuracy_real: 0.19\n",
      "\u001b[32m[0922 15:48:17 @monitor.py:467]\u001b[0m GAN_loss/discrim/loss: 0.65434\n",
      "\u001b[32m[0922 15:48:17 @monitor.py:467]\u001b[0m GAN_loss/gen/final-g-loss: 1.3517\n",
      "\u001b[32m[0922 15:48:17 @monitor.py:467]\u001b[0m GAN_loss/gen/klloss: 0.28262\n",
      "\u001b[32m[0922 15:48:17 @monitor.py:467]\u001b[0m GAN_loss/gen/loss: 1.0691\n",
      "\u001b[32m[0922 15:48:17 @monitor.py:467]\u001b[0m QueueInput/queue_size: 50\n",
      "\u001b[32m[0922 15:48:17 @base.py:275]\u001b[0m Start Epoch 687 ...\n"
     ]
    },
    {
     "name": "stderr",
     "output_type": "stream",
     "text": [
      "100%|#################################################################################|2000/2000[01:11<00:00,28.06it/s]"
     ]
    },
    {
     "name": "stdout",
     "output_type": "stream",
     "text": [
      "\u001b[32m[0922 15:49:28 @base.py:285]\u001b[0m Epoch 687 (global_step 1374000) finished, time:1 minute 11 seconds.\n",
      "\u001b[32m[0922 15:49:28 @saver.py:79]\u001b[0m Model saved to ../output/LPMC/DATGAN/model\\model-1374000.\n"
     ]
    },
    {
     "name": "stderr",
     "output_type": "stream",
     "text": [
      "\n"
     ]
    },
    {
     "name": "stdout",
     "output_type": "stream",
     "text": [
      "\u001b[32m[0922 15:49:28 @monitor.py:467]\u001b[0m GAN_loss/discrim/accuracy_fake: 0.925\n",
      "\u001b[32m[0922 15:49:28 @monitor.py:467]\u001b[0m GAN_loss/discrim/accuracy_real: 0.17\n",
      "\u001b[32m[0922 15:49:28 @monitor.py:467]\u001b[0m GAN_loss/discrim/loss: 0.6421\n",
      "\u001b[32m[0922 15:49:28 @monitor.py:467]\u001b[0m GAN_loss/gen/final-g-loss: 1.3899\n",
      "\u001b[32m[0922 15:49:28 @monitor.py:467]\u001b[0m GAN_loss/gen/klloss: 0.29256\n",
      "\u001b[32m[0922 15:49:28 @monitor.py:467]\u001b[0m GAN_loss/gen/loss: 1.0973\n",
      "\u001b[32m[0922 15:49:28 @monitor.py:467]\u001b[0m QueueInput/queue_size: 50\n",
      "\u001b[32m[0922 15:49:28 @base.py:275]\u001b[0m Start Epoch 688 ...\n"
     ]
    },
    {
     "name": "stderr",
     "output_type": "stream",
     "text": [
      "100%|#################################################################################|2000/2000[01:12<00:00,27.76it/s]"
     ]
    },
    {
     "name": "stdout",
     "output_type": "stream",
     "text": [
      "\u001b[32m[0922 15:50:40 @base.py:285]\u001b[0m Epoch 688 (global_step 1376000) finished, time:1 minute 12 seconds.\n",
      "\u001b[32m[0922 15:50:41 @saver.py:79]\u001b[0m Model saved to ../output/LPMC/DATGAN/model\\model-1376000.\n"
     ]
    },
    {
     "name": "stderr",
     "output_type": "stream",
     "text": [
      "\n"
     ]
    },
    {
     "name": "stdout",
     "output_type": "stream",
     "text": [
      "\u001b[32m[0922 15:50:41 @monitor.py:467]\u001b[0m GAN_loss/discrim/accuracy_fake: 0.875\n",
      "\u001b[32m[0922 15:50:41 @monitor.py:467]\u001b[0m GAN_loss/discrim/accuracy_real: 0.18\n",
      "\u001b[32m[0922 15:50:41 @monitor.py:467]\u001b[0m GAN_loss/discrim/loss: 0.64616\n",
      "\u001b[32m[0922 15:50:41 @monitor.py:467]\u001b[0m GAN_loss/gen/final-g-loss: 1.3361\n",
      "\u001b[32m[0922 15:50:41 @monitor.py:467]\u001b[0m GAN_loss/gen/klloss: 0.27293\n",
      "\u001b[32m[0922 15:50:41 @monitor.py:467]\u001b[0m GAN_loss/gen/loss: 1.0632\n",
      "\u001b[32m[0922 15:50:41 @monitor.py:467]\u001b[0m QueueInput/queue_size: 50\n",
      "\u001b[32m[0922 15:50:41 @base.py:275]\u001b[0m Start Epoch 689 ...\n"
     ]
    },
    {
     "name": "stderr",
     "output_type": "stream",
     "text": [
      "100%|#################################################################################|2000/2000[01:10<00:00,28.24it/s]"
     ]
    },
    {
     "name": "stdout",
     "output_type": "stream",
     "text": [
      "\u001b[32m[0922 15:51:52 @base.py:285]\u001b[0m Epoch 689 (global_step 1378000) finished, time:1 minute 10 seconds.\n",
      "\u001b[32m[0922 15:51:52 @saver.py:79]\u001b[0m Model saved to ../output/LPMC/DATGAN/model\\model-1378000.\n"
     ]
    },
    {
     "name": "stderr",
     "output_type": "stream",
     "text": [
      "\n"
     ]
    },
    {
     "name": "stdout",
     "output_type": "stream",
     "text": [
      "\u001b[32m[0922 15:51:52 @monitor.py:467]\u001b[0m GAN_loss/discrim/accuracy_fake: 0.87\n",
      "\u001b[32m[0922 15:51:52 @monitor.py:467]\u001b[0m GAN_loss/discrim/accuracy_real: 0.21\n",
      "\u001b[32m[0922 15:51:52 @monitor.py:467]\u001b[0m GAN_loss/discrim/loss: 0.65376\n",
      "\u001b[32m[0922 15:51:52 @monitor.py:467]\u001b[0m GAN_loss/gen/final-g-loss: 1.3151\n",
      "\u001b[32m[0922 15:51:52 @monitor.py:467]\u001b[0m GAN_loss/gen/klloss: 0.24302\n",
      "\u001b[32m[0922 15:51:52 @monitor.py:467]\u001b[0m GAN_loss/gen/loss: 1.0721\n",
      "\u001b[32m[0922 15:51:52 @monitor.py:467]\u001b[0m QueueInput/queue_size: 50\n",
      "\u001b[32m[0922 15:51:52 @base.py:275]\u001b[0m Start Epoch 690 ...\n"
     ]
    },
    {
     "name": "stderr",
     "output_type": "stream",
     "text": [
      "100%|#################################################################################|2000/2000[01:11<00:00,28.05it/s]"
     ]
    },
    {
     "name": "stdout",
     "output_type": "stream",
     "text": [
      "\u001b[32m[0922 15:53:03 @base.py:285]\u001b[0m Epoch 690 (global_step 1380000) finished, time:1 minute 11 seconds.\n",
      "\u001b[32m[0922 15:53:03 @saver.py:79]\u001b[0m Model saved to ../output/LPMC/DATGAN/model\\model-1380000.\n"
     ]
    },
    {
     "name": "stderr",
     "output_type": "stream",
     "text": [
      "\n"
     ]
    },
    {
     "name": "stdout",
     "output_type": "stream",
     "text": [
      "\u001b[32m[0922 15:53:03 @monitor.py:467]\u001b[0m GAN_loss/discrim/accuracy_fake: 0.905\n",
      "\u001b[32m[0922 15:53:03 @monitor.py:467]\u001b[0m GAN_loss/discrim/accuracy_real: 0.2\n",
      "\u001b[32m[0922 15:53:03 @monitor.py:467]\u001b[0m GAN_loss/discrim/loss: 0.65201\n",
      "\u001b[32m[0922 15:53:03 @monitor.py:467]\u001b[0m GAN_loss/gen/final-g-loss: 1.2863\n",
      "\u001b[32m[0922 15:53:03 @monitor.py:467]\u001b[0m GAN_loss/gen/klloss: 0.22016\n",
      "\u001b[32m[0922 15:53:03 @monitor.py:467]\u001b[0m GAN_loss/gen/loss: 1.0662\n",
      "\u001b[32m[0922 15:53:03 @monitor.py:467]\u001b[0m QueueInput/queue_size: 50\n",
      "\u001b[32m[0922 15:53:03 @base.py:275]\u001b[0m Start Epoch 691 ...\n"
     ]
    },
    {
     "name": "stderr",
     "output_type": "stream",
     "text": [
      "100%|#################################################################################|2000/2000[01:11<00:00,28.16it/s]"
     ]
    },
    {
     "name": "stdout",
     "output_type": "stream",
     "text": [
      "\u001b[32m[0922 15:54:14 @base.py:285]\u001b[0m Epoch 691 (global_step 1382000) finished, time:1 minute 11 seconds.\n",
      "\u001b[32m[0922 15:54:14 @saver.py:79]\u001b[0m Model saved to ../output/LPMC/DATGAN/model\\model-1382000.\n"
     ]
    },
    {
     "name": "stderr",
     "output_type": "stream",
     "text": [
      "\n"
     ]
    },
    {
     "name": "stdout",
     "output_type": "stream",
     "text": [
      "\u001b[32m[0922 15:54:14 @monitor.py:467]\u001b[0m GAN_loss/discrim/accuracy_fake: 0.895\n",
      "\u001b[32m[0922 15:54:14 @monitor.py:467]\u001b[0m GAN_loss/discrim/accuracy_real: 0.24\n",
      "\u001b[32m[0922 15:54:14 @monitor.py:467]\u001b[0m GAN_loss/discrim/loss: 0.63694\n",
      "\u001b[32m[0922 15:54:14 @monitor.py:467]\u001b[0m GAN_loss/gen/final-g-loss: 1.4061\n",
      "\u001b[32m[0922 15:54:14 @monitor.py:467]\u001b[0m GAN_loss/gen/klloss: 0.31741\n",
      "\u001b[32m[0922 15:54:14 @monitor.py:467]\u001b[0m GAN_loss/gen/loss: 1.0887\n",
      "\u001b[32m[0922 15:54:14 @monitor.py:467]\u001b[0m QueueInput/queue_size: 50\n",
      "\u001b[32m[0922 15:54:14 @base.py:275]\u001b[0m Start Epoch 692 ...\n"
     ]
    },
    {
     "name": "stderr",
     "output_type": "stream",
     "text": [
      "100%|#################################################################################|2000/2000[01:11<00:00,28.12it/s]"
     ]
    },
    {
     "name": "stdout",
     "output_type": "stream",
     "text": [
      "\u001b[32m[0922 15:55:26 @base.py:285]\u001b[0m Epoch 692 (global_step 1384000) finished, time:1 minute 11 seconds.\n",
      "\u001b[32m[0922 15:55:26 @saver.py:79]\u001b[0m Model saved to ../output/LPMC/DATGAN/model\\model-1384000.\n",
      "\u001b[32m[0922 15:55:26 @monitor.py:467]\u001b[0m GAN_loss/discrim/accuracy_fake: 0.89\n"
     ]
    },
    {
     "name": "stderr",
     "output_type": "stream",
     "text": [
      "\n"
     ]
    },
    {
     "name": "stdout",
     "output_type": "stream",
     "text": [
      "\u001b[32m[0922 15:55:26 @monitor.py:467]\u001b[0m GAN_loss/discrim/accuracy_real: 0.185\n",
      "\u001b[32m[0922 15:55:26 @monitor.py:467]\u001b[0m GAN_loss/discrim/loss: 0.63781\n",
      "\u001b[32m[0922 15:55:26 @monitor.py:467]\u001b[0m GAN_loss/gen/final-g-loss: 1.243\n",
      "\u001b[32m[0922 15:55:26 @monitor.py:467]\u001b[0m GAN_loss/gen/klloss: 0.14531\n",
      "\u001b[32m[0922 15:55:26 @monitor.py:467]\u001b[0m GAN_loss/gen/loss: 1.0977\n",
      "\u001b[32m[0922 15:55:26 @monitor.py:467]\u001b[0m QueueInput/queue_size: 50\n",
      "\u001b[32m[0922 15:55:26 @base.py:275]\u001b[0m Start Epoch 693 ...\n"
     ]
    },
    {
     "name": "stderr",
     "output_type": "stream",
     "text": [
      "100%|#################################################################################|2000/2000[01:10<00:00,28.20it/s]"
     ]
    },
    {
     "name": "stdout",
     "output_type": "stream",
     "text": [
      "\u001b[32m[0922 15:56:37 @base.py:285]\u001b[0m Epoch 693 (global_step 1386000) finished, time:1 minute 10 seconds.\n",
      "\u001b[32m[0922 15:56:37 @saver.py:79]\u001b[0m Model saved to ../output/LPMC/DATGAN/model\\model-1386000.\n"
     ]
    },
    {
     "name": "stderr",
     "output_type": "stream",
     "text": [
      "\n"
     ]
    },
    {
     "name": "stdout",
     "output_type": "stream",
     "text": [
      "\u001b[32m[0922 15:56:37 @monitor.py:467]\u001b[0m GAN_loss/discrim/accuracy_fake: 0.88\n",
      "\u001b[32m[0922 15:56:37 @monitor.py:467]\u001b[0m GAN_loss/discrim/accuracy_real: 0.2\n",
      "\u001b[32m[0922 15:56:37 @monitor.py:467]\u001b[0m GAN_loss/discrim/loss: 0.64009\n",
      "\u001b[32m[0922 15:56:37 @monitor.py:467]\u001b[0m GAN_loss/gen/final-g-loss: 1.2853\n",
      "\u001b[32m[0922 15:56:37 @monitor.py:467]\u001b[0m GAN_loss/gen/klloss: 0.18515\n",
      "\u001b[32m[0922 15:56:37 @monitor.py:467]\u001b[0m GAN_loss/gen/loss: 1.1002\n",
      "\u001b[32m[0922 15:56:37 @monitor.py:467]\u001b[0m QueueInput/queue_size: 50\n",
      "\u001b[32m[0922 15:56:37 @base.py:275]\u001b[0m Start Epoch 694 ...\n"
     ]
    },
    {
     "name": "stderr",
     "output_type": "stream",
     "text": [
      "100%|#################################################################################|2000/2000[01:10<00:00,28.23it/s]"
     ]
    },
    {
     "name": "stdout",
     "output_type": "stream",
     "text": [
      "\u001b[32m[0922 15:57:48 @base.py:285]\u001b[0m Epoch 694 (global_step 1388000) finished, time:1 minute 10 seconds.\n",
      "\u001b[32m[0922 15:57:48 @saver.py:79]\u001b[0m Model saved to ../output/LPMC/DATGAN/model\\model-1388000.\n"
     ]
    },
    {
     "name": "stderr",
     "output_type": "stream",
     "text": [
      "\n"
     ]
    },
    {
     "name": "stdout",
     "output_type": "stream",
     "text": [
      "\u001b[32m[0922 15:57:48 @monitor.py:467]\u001b[0m GAN_loss/discrim/accuracy_fake: 0.895\n",
      "\u001b[32m[0922 15:57:48 @monitor.py:467]\u001b[0m GAN_loss/discrim/accuracy_real: 0.185\n",
      "\u001b[32m[0922 15:57:48 @monitor.py:467]\u001b[0m GAN_loss/discrim/loss: 0.64901\n",
      "\u001b[32m[0922 15:57:48 @monitor.py:467]\u001b[0m GAN_loss/gen/final-g-loss: 1.3177\n",
      "\u001b[32m[0922 15:57:48 @monitor.py:467]\u001b[0m GAN_loss/gen/klloss: 0.24475\n",
      "\u001b[32m[0922 15:57:48 @monitor.py:467]\u001b[0m GAN_loss/gen/loss: 1.0729\n",
      "\u001b[32m[0922 15:57:48 @monitor.py:467]\u001b[0m QueueInput/queue_size: 50\n",
      "\u001b[32m[0922 15:57:48 @base.py:275]\u001b[0m Start Epoch 695 ...\n"
     ]
    },
    {
     "name": "stderr",
     "output_type": "stream",
     "text": [
      "100%|#################################################################################|2000/2000[01:10<00:00,28.20it/s]"
     ]
    },
    {
     "name": "stdout",
     "output_type": "stream",
     "text": [
      "\u001b[32m[0922 15:58:59 @base.py:285]\u001b[0m Epoch 695 (global_step 1390000) finished, time:1 minute 10 seconds.\n"
     ]
    },
    {
     "name": "stderr",
     "output_type": "stream",
     "text": [
      "\n"
     ]
    },
    {
     "name": "stdout",
     "output_type": "stream",
     "text": [
      "\u001b[32m[0922 15:58:59 @saver.py:79]\u001b[0m Model saved to ../output/LPMC/DATGAN/model\\model-1390000.\n",
      "\u001b[32m[0922 15:58:59 @monitor.py:467]\u001b[0m GAN_loss/discrim/accuracy_fake: 0.855\n",
      "\u001b[32m[0922 15:58:59 @monitor.py:467]\u001b[0m GAN_loss/discrim/accuracy_real: 0.185\n",
      "\u001b[32m[0922 15:58:59 @monitor.py:467]\u001b[0m GAN_loss/discrim/loss: 0.64024\n",
      "\u001b[32m[0922 15:58:59 @monitor.py:467]\u001b[0m GAN_loss/gen/final-g-loss: 1.2489\n",
      "\u001b[32m[0922 15:58:59 @monitor.py:467]\u001b[0m GAN_loss/gen/klloss: 0.17691\n",
      "\u001b[32m[0922 15:58:59 @monitor.py:467]\u001b[0m GAN_loss/gen/loss: 1.072\n",
      "\u001b[32m[0922 15:58:59 @monitor.py:467]\u001b[0m QueueInput/queue_size: 50\n",
      "\u001b[32m[0922 15:58:59 @base.py:275]\u001b[0m Start Epoch 696 ...\n"
     ]
    },
    {
     "name": "stderr",
     "output_type": "stream",
     "text": [
      "100%|#################################################################################|2000/2000[01:11<00:00,28.05it/s]"
     ]
    },
    {
     "name": "stdout",
     "output_type": "stream",
     "text": [
      "\u001b[32m[0922 16:00:10 @base.py:285]\u001b[0m Epoch 696 (global_step 1392000) finished, time:1 minute 11 seconds.\n"
     ]
    },
    {
     "name": "stderr",
     "output_type": "stream",
     "text": [
      "\n"
     ]
    },
    {
     "name": "stdout",
     "output_type": "stream",
     "text": [
      "\u001b[32m[0922 16:00:11 @saver.py:79]\u001b[0m Model saved to ../output/LPMC/DATGAN/model\\model-1392000.\n",
      "\u001b[32m[0922 16:00:11 @monitor.py:467]\u001b[0m GAN_loss/discrim/accuracy_fake: 0.865\n",
      "\u001b[32m[0922 16:00:11 @monitor.py:467]\u001b[0m GAN_loss/discrim/accuracy_real: 0.215\n",
      "\u001b[32m[0922 16:00:11 @monitor.py:467]\u001b[0m GAN_loss/discrim/loss: 0.64824\n",
      "\u001b[32m[0922 16:00:11 @monitor.py:467]\u001b[0m GAN_loss/gen/final-g-loss: 1.3002\n",
      "\u001b[32m[0922 16:00:11 @monitor.py:467]\u001b[0m GAN_loss/gen/klloss: 0.2181\n",
      "\u001b[32m[0922 16:00:11 @monitor.py:467]\u001b[0m GAN_loss/gen/loss: 1.082\n",
      "\u001b[32m[0922 16:00:11 @monitor.py:467]\u001b[0m QueueInput/queue_size: 50\n",
      "\u001b[32m[0922 16:00:11 @base.py:275]\u001b[0m Start Epoch 697 ...\n"
     ]
    },
    {
     "name": "stderr",
     "output_type": "stream",
     "text": [
      "100%|#################################################################################|2000/2000[01:11<00:00,28.07it/s]"
     ]
    },
    {
     "name": "stdout",
     "output_type": "stream",
     "text": [
      "\u001b[32m[0922 16:01:22 @base.py:285]\u001b[0m Epoch 697 (global_step 1394000) finished, time:1 minute 11 seconds.\n",
      "\u001b[32m[0922 16:01:22 @saver.py:79]\u001b[0m Model saved to ../output/LPMC/DATGAN/model\\model-1394000.\n"
     ]
    },
    {
     "name": "stderr",
     "output_type": "stream",
     "text": [
      "\n"
     ]
    },
    {
     "name": "stdout",
     "output_type": "stream",
     "text": [
      "\u001b[32m[0922 16:01:22 @monitor.py:467]\u001b[0m GAN_loss/discrim/accuracy_fake: 0.885\n",
      "\u001b[32m[0922 16:01:22 @monitor.py:467]\u001b[0m GAN_loss/discrim/accuracy_real: 0.22\n",
      "\u001b[32m[0922 16:01:22 @monitor.py:467]\u001b[0m GAN_loss/discrim/loss: 0.63295\n",
      "\u001b[32m[0922 16:01:22 @monitor.py:467]\u001b[0m GAN_loss/gen/final-g-loss: 1.3835\n",
      "\u001b[32m[0922 16:01:22 @monitor.py:467]\u001b[0m GAN_loss/gen/klloss: 0.28238\n",
      "\u001b[32m[0922 16:01:22 @monitor.py:467]\u001b[0m GAN_loss/gen/loss: 1.1011\n",
      "\u001b[32m[0922 16:01:22 @monitor.py:467]\u001b[0m QueueInput/queue_size: 50\n",
      "\u001b[32m[0922 16:01:22 @base.py:275]\u001b[0m Start Epoch 698 ...\n"
     ]
    },
    {
     "name": "stderr",
     "output_type": "stream",
     "text": [
      "100%|#################################################################################|2000/2000[01:11<00:00,27.95it/s]"
     ]
    },
    {
     "name": "stdout",
     "output_type": "stream",
     "text": [
      "\u001b[32m[0922 16:02:34 @base.py:285]\u001b[0m Epoch 698 (global_step 1396000) finished, time:1 minute 11 seconds.\n",
      "\u001b[32m[0922 16:02:34 @saver.py:79]\u001b[0m Model saved to ../output/LPMC/DATGAN/model\\model-1396000.\n"
     ]
    },
    {
     "name": "stderr",
     "output_type": "stream",
     "text": [
      "\n"
     ]
    },
    {
     "name": "stdout",
     "output_type": "stream",
     "text": [
      "\u001b[32m[0922 16:02:34 @monitor.py:467]\u001b[0m GAN_loss/discrim/accuracy_fake: 0.9\n",
      "\u001b[32m[0922 16:02:34 @monitor.py:467]\u001b[0m GAN_loss/discrim/accuracy_real: 0.2\n",
      "\u001b[32m[0922 16:02:34 @monitor.py:467]\u001b[0m GAN_loss/discrim/loss: 0.63759\n",
      "\u001b[32m[0922 16:02:34 @monitor.py:467]\u001b[0m GAN_loss/gen/final-g-loss: 1.3814\n",
      "\u001b[32m[0922 16:02:34 @monitor.py:467]\u001b[0m GAN_loss/gen/klloss: 0.29905\n",
      "\u001b[32m[0922 16:02:34 @monitor.py:467]\u001b[0m GAN_loss/gen/loss: 1.0823\n",
      "\u001b[32m[0922 16:02:34 @monitor.py:467]\u001b[0m QueueInput/queue_size: 50\n",
      "\u001b[32m[0922 16:02:34 @base.py:275]\u001b[0m Start Epoch 699 ...\n"
     ]
    },
    {
     "name": "stderr",
     "output_type": "stream",
     "text": [
      "100%|#################################################################################|2000/2000[01:11<00:00,28.14it/s]"
     ]
    },
    {
     "name": "stdout",
     "output_type": "stream",
     "text": [
      "\u001b[32m[0922 16:03:45 @base.py:285]\u001b[0m Epoch 699 (global_step 1398000) finished, time:1 minute 11 seconds.\n",
      "\u001b[32m[0922 16:03:45 @saver.py:79]\u001b[0m Model saved to ../output/LPMC/DATGAN/model\\model-1398000.\n"
     ]
    },
    {
     "name": "stderr",
     "output_type": "stream",
     "text": [
      "\n"
     ]
    },
    {
     "name": "stdout",
     "output_type": "stream",
     "text": [
      "\u001b[32m[0922 16:03:45 @monitor.py:467]\u001b[0m GAN_loss/discrim/accuracy_fake: 0.84\n",
      "\u001b[32m[0922 16:03:45 @monitor.py:467]\u001b[0m GAN_loss/discrim/accuracy_real: 0.19\n",
      "\u001b[32m[0922 16:03:45 @monitor.py:467]\u001b[0m GAN_loss/discrim/loss: 0.65475\n",
      "\u001b[32m[0922 16:03:45 @monitor.py:467]\u001b[0m GAN_loss/gen/final-g-loss: 1.263\n",
      "\u001b[32m[0922 16:03:45 @monitor.py:467]\u001b[0m GAN_loss/gen/klloss: 0.20226\n",
      "\u001b[32m[0922 16:03:45 @monitor.py:467]\u001b[0m GAN_loss/gen/loss: 1.0608\n",
      "\u001b[32m[0922 16:03:45 @monitor.py:467]\u001b[0m QueueInput/queue_size: 50\n",
      "\u001b[32m[0922 16:03:45 @base.py:275]\u001b[0m Start Epoch 700 ...\n"
     ]
    },
    {
     "name": "stderr",
     "output_type": "stream",
     "text": [
      "100%|#################################################################################|2000/2000[01:10<00:00,28.19it/s]"
     ]
    },
    {
     "name": "stdout",
     "output_type": "stream",
     "text": [
      "\u001b[32m[0922 16:04:56 @base.py:285]\u001b[0m Epoch 700 (global_step 1400000) finished, time:1 minute 10 seconds.\n",
      "\u001b[32m[0922 16:04:56 @saver.py:79]\u001b[0m Model saved to ../output/LPMC/DATGAN/model\\model-1400000.\n"
     ]
    },
    {
     "name": "stderr",
     "output_type": "stream",
     "text": [
      "\n"
     ]
    },
    {
     "name": "stdout",
     "output_type": "stream",
     "text": [
      "\u001b[32m[0922 16:04:56 @monitor.py:467]\u001b[0m GAN_loss/discrim/accuracy_fake: 0.895\n",
      "\u001b[32m[0922 16:04:56 @monitor.py:467]\u001b[0m GAN_loss/discrim/accuracy_real: 0.21\n",
      "\u001b[32m[0922 16:04:56 @monitor.py:467]\u001b[0m GAN_loss/discrim/loss: 0.63471\n",
      "\u001b[32m[0922 16:04:56 @monitor.py:467]\u001b[0m GAN_loss/gen/final-g-loss: 1.3005\n",
      "\u001b[32m[0922 16:04:56 @monitor.py:467]\u001b[0m GAN_loss/gen/klloss: 0.21466\n",
      "\u001b[32m[0922 16:04:56 @monitor.py:467]\u001b[0m GAN_loss/gen/loss: 1.0858\n",
      "\u001b[32m[0922 16:04:56 @monitor.py:467]\u001b[0m QueueInput/queue_size: 50\n",
      "\u001b[32m[0922 16:04:56 @base.py:275]\u001b[0m Start Epoch 701 ...\n"
     ]
    },
    {
     "name": "stderr",
     "output_type": "stream",
     "text": [
      "100%|#################################################################################|2000/2000[01:10<00:00,28.23it/s]"
     ]
    },
    {
     "name": "stdout",
     "output_type": "stream",
     "text": [
      "\u001b[32m[0922 16:06:07 @base.py:285]\u001b[0m Epoch 701 (global_step 1402000) finished, time:1 minute 10 seconds.\n"
     ]
    },
    {
     "name": "stderr",
     "output_type": "stream",
     "text": [
      "\n"
     ]
    },
    {
     "name": "stdout",
     "output_type": "stream",
     "text": [
      "\u001b[32m[0922 16:06:07 @saver.py:79]\u001b[0m Model saved to ../output/LPMC/DATGAN/model\\model-1402000.\n",
      "\u001b[32m[0922 16:06:07 @monitor.py:467]\u001b[0m GAN_loss/discrim/accuracy_fake: 0.87\n",
      "\u001b[32m[0922 16:06:07 @monitor.py:467]\u001b[0m GAN_loss/discrim/accuracy_real: 0.175\n",
      "\u001b[32m[0922 16:06:07 @monitor.py:467]\u001b[0m GAN_loss/discrim/loss: 0.63631\n",
      "\u001b[32m[0922 16:06:07 @monitor.py:467]\u001b[0m GAN_loss/gen/final-g-loss: 1.2626\n",
      "\u001b[32m[0922 16:06:07 @monitor.py:467]\u001b[0m GAN_loss/gen/klloss: 0.17416\n",
      "\u001b[32m[0922 16:06:07 @monitor.py:467]\u001b[0m GAN_loss/gen/loss: 1.0885\n",
      "\u001b[32m[0922 16:06:07 @monitor.py:467]\u001b[0m QueueInput/queue_size: 50\n",
      "\u001b[32m[0922 16:06:07 @base.py:275]\u001b[0m Start Epoch 702 ...\n"
     ]
    },
    {
     "name": "stderr",
     "output_type": "stream",
     "text": [
      "100%|#################################################################################|2000/2000[01:10<00:00,28.22it/s]"
     ]
    },
    {
     "name": "stdout",
     "output_type": "stream",
     "text": [
      "\u001b[32m[0922 16:07:18 @base.py:285]\u001b[0m Epoch 702 (global_step 1404000) finished, time:1 minute 10 seconds.\n"
     ]
    },
    {
     "name": "stderr",
     "output_type": "stream",
     "text": [
      "\n"
     ]
    },
    {
     "name": "stdout",
     "output_type": "stream",
     "text": [
      "\u001b[32m[0922 16:07:18 @saver.py:79]\u001b[0m Model saved to ../output/LPMC/DATGAN/model\\model-1404000.\n",
      "\u001b[32m[0922 16:07:19 @monitor.py:467]\u001b[0m GAN_loss/discrim/accuracy_fake: 0.88\n",
      "\u001b[32m[0922 16:07:19 @monitor.py:467]\u001b[0m GAN_loss/discrim/accuracy_real: 0.29\n",
      "\u001b[32m[0922 16:07:19 @monitor.py:467]\u001b[0m GAN_loss/discrim/loss: 0.62966\n",
      "\u001b[32m[0922 16:07:19 @monitor.py:467]\u001b[0m GAN_loss/gen/final-g-loss: 1.2903\n",
      "\u001b[32m[0922 16:07:19 @monitor.py:467]\u001b[0m GAN_loss/gen/klloss: 0.21806\n",
      "\u001b[32m[0922 16:07:19 @monitor.py:467]\u001b[0m GAN_loss/gen/loss: 1.0722\n",
      "\u001b[32m[0922 16:07:19 @monitor.py:467]\u001b[0m QueueInput/queue_size: 50\n",
      "\u001b[32m[0922 16:07:19 @base.py:275]\u001b[0m Start Epoch 703 ...\n"
     ]
    },
    {
     "name": "stderr",
     "output_type": "stream",
     "text": [
      "100%|#################################################################################|2000/2000[01:10<00:00,28.24it/s]"
     ]
    },
    {
     "name": "stdout",
     "output_type": "stream",
     "text": [
      "\u001b[32m[0922 16:08:29 @base.py:285]\u001b[0m Epoch 703 (global_step 1406000) finished, time:1 minute 10 seconds.\n",
      "\u001b[32m[0922 16:08:29 @saver.py:79]\u001b[0m Model saved to ../output/LPMC/DATGAN/model\\model-1406000.\n"
     ]
    },
    {
     "name": "stderr",
     "output_type": "stream",
     "text": [
      "\n"
     ]
    },
    {
     "name": "stdout",
     "output_type": "stream",
     "text": [
      "\u001b[32m[0922 16:08:30 @monitor.py:467]\u001b[0m GAN_loss/discrim/accuracy_fake: 0.84\n",
      "\u001b[32m[0922 16:08:30 @monitor.py:467]\u001b[0m GAN_loss/discrim/accuracy_real: 0.2\n",
      "\u001b[32m[0922 16:08:30 @monitor.py:467]\u001b[0m GAN_loss/discrim/loss: 0.65747\n",
      "\u001b[32m[0922 16:08:30 @monitor.py:467]\u001b[0m GAN_loss/gen/final-g-loss: 1.377\n",
      "\u001b[32m[0922 16:08:30 @monitor.py:467]\u001b[0m GAN_loss/gen/klloss: 0.30083\n",
      "\u001b[32m[0922 16:08:30 @monitor.py:467]\u001b[0m GAN_loss/gen/loss: 1.0762\n",
      "\u001b[32m[0922 16:08:30 @monitor.py:467]\u001b[0m QueueInput/queue_size: 50\n",
      "\u001b[32m[0922 16:08:30 @base.py:275]\u001b[0m Start Epoch 704 ...\n"
     ]
    },
    {
     "name": "stderr",
     "output_type": "stream",
     "text": [
      "100%|#################################################################################|2000/2000[01:10<00:00,28.21it/s]"
     ]
    },
    {
     "name": "stdout",
     "output_type": "stream",
     "text": [
      "\u001b[32m[0922 16:09:41 @base.py:285]\u001b[0m Epoch 704 (global_step 1408000) finished, time:1 minute 10 seconds.\n"
     ]
    },
    {
     "name": "stderr",
     "output_type": "stream",
     "text": [
      "\n"
     ]
    },
    {
     "name": "stdout",
     "output_type": "stream",
     "text": [
      "\u001b[32m[0922 16:09:41 @saver.py:79]\u001b[0m Model saved to ../output/LPMC/DATGAN/model\\model-1408000.\n",
      "\u001b[32m[0922 16:09:41 @monitor.py:467]\u001b[0m GAN_loss/discrim/accuracy_fake: 0.875\n",
      "\u001b[32m[0922 16:09:41 @monitor.py:467]\u001b[0m GAN_loss/discrim/accuracy_real: 0.235\n",
      "\u001b[32m[0922 16:09:41 @monitor.py:467]\u001b[0m GAN_loss/discrim/loss: 0.6428\n",
      "\u001b[32m[0922 16:09:41 @monitor.py:467]\u001b[0m GAN_loss/gen/final-g-loss: 1.3402\n",
      "\u001b[32m[0922 16:09:41 @monitor.py:467]\u001b[0m GAN_loss/gen/klloss: 0.27158\n",
      "\u001b[32m[0922 16:09:41 @monitor.py:467]\u001b[0m GAN_loss/gen/loss: 1.0686\n",
      "\u001b[32m[0922 16:09:41 @monitor.py:467]\u001b[0m QueueInput/queue_size: 50\n",
      "\u001b[32m[0922 16:09:41 @base.py:275]\u001b[0m Start Epoch 705 ...\n"
     ]
    },
    {
     "name": "stderr",
     "output_type": "stream",
     "text": [
      "100%|#################################################################################|2000/2000[01:11<00:00,27.98it/s]"
     ]
    },
    {
     "name": "stdout",
     "output_type": "stream",
     "text": [
      "\u001b[32m[0922 16:10:52 @base.py:285]\u001b[0m Epoch 705 (global_step 1410000) finished, time:1 minute 11 seconds.\n",
      "\u001b[32m[0922 16:10:52 @saver.py:79]\u001b[0m Model saved to ../output/LPMC/DATGAN/model\\model-1410000.\n"
     ]
    },
    {
     "name": "stderr",
     "output_type": "stream",
     "text": [
      "\n"
     ]
    },
    {
     "name": "stdout",
     "output_type": "stream",
     "text": [
      "\u001b[32m[0922 16:10:52 @monitor.py:467]\u001b[0m GAN_loss/discrim/accuracy_fake: 0.875\n",
      "\u001b[32m[0922 16:10:52 @monitor.py:467]\u001b[0m GAN_loss/discrim/accuracy_real: 0.215\n",
      "\u001b[32m[0922 16:10:52 @monitor.py:467]\u001b[0m GAN_loss/discrim/loss: 0.64794\n",
      "\u001b[32m[0922 16:10:52 @monitor.py:467]\u001b[0m GAN_loss/gen/final-g-loss: 1.4916\n",
      "\u001b[32m[0922 16:10:52 @monitor.py:467]\u001b[0m GAN_loss/gen/klloss: 0.41591\n",
      "\u001b[32m[0922 16:10:52 @monitor.py:467]\u001b[0m GAN_loss/gen/loss: 1.0757\n",
      "\u001b[32m[0922 16:10:52 @monitor.py:467]\u001b[0m QueueInput/queue_size: 50\n",
      "\u001b[32m[0922 16:10:52 @base.py:275]\u001b[0m Start Epoch 706 ...\n"
     ]
    },
    {
     "name": "stderr",
     "output_type": "stream",
     "text": [
      "100%|#################################################################################|2000/2000[01:11<00:00,28.16it/s]"
     ]
    },
    {
     "name": "stdout",
     "output_type": "stream",
     "text": [
      "\u001b[32m[0922 16:12:03 @base.py:285]\u001b[0m Epoch 706 (global_step 1412000) finished, time:1 minute 11 seconds.\n",
      "\u001b[32m[0922 16:12:04 @saver.py:79]\u001b[0m Model saved to ../output/LPMC/DATGAN/model\\model-1412000.\n"
     ]
    },
    {
     "name": "stderr",
     "output_type": "stream",
     "text": [
      "\n"
     ]
    },
    {
     "name": "stdout",
     "output_type": "stream",
     "text": [
      "\u001b[32m[0922 16:12:04 @monitor.py:467]\u001b[0m GAN_loss/discrim/accuracy_fake: 0.855\n",
      "\u001b[32m[0922 16:12:04 @monitor.py:467]\u001b[0m GAN_loss/discrim/accuracy_real: 0.21\n",
      "\u001b[32m[0922 16:12:04 @monitor.py:467]\u001b[0m GAN_loss/discrim/loss: 0.64225\n",
      "\u001b[32m[0922 16:12:04 @monitor.py:467]\u001b[0m GAN_loss/gen/final-g-loss: 1.3771\n",
      "\u001b[32m[0922 16:12:04 @monitor.py:467]\u001b[0m GAN_loss/gen/klloss: 0.28281\n",
      "\u001b[32m[0922 16:12:04 @monitor.py:467]\u001b[0m GAN_loss/gen/loss: 1.0943\n",
      "\u001b[32m[0922 16:12:04 @monitor.py:467]\u001b[0m QueueInput/queue_size: 50\n",
      "\u001b[32m[0922 16:12:04 @base.py:275]\u001b[0m Start Epoch 707 ...\n"
     ]
    },
    {
     "name": "stderr",
     "output_type": "stream",
     "text": [
      "100%|#################################################################################|2000/2000[01:11<00:00,28.17it/s]"
     ]
    },
    {
     "name": "stdout",
     "output_type": "stream",
     "text": [
      "\u001b[32m[0922 16:13:15 @base.py:285]\u001b[0m Epoch 707 (global_step 1414000) finished, time:1 minute 11 seconds.\n",
      "\u001b[32m[0922 16:13:15 @saver.py:79]\u001b[0m Model saved to ../output/LPMC/DATGAN/model\\model-1414000.\n"
     ]
    },
    {
     "name": "stderr",
     "output_type": "stream",
     "text": [
      "\n"
     ]
    },
    {
     "name": "stdout",
     "output_type": "stream",
     "text": [
      "\u001b[32m[0922 16:13:15 @monitor.py:467]\u001b[0m GAN_loss/discrim/accuracy_fake: 0.895\n",
      "\u001b[32m[0922 16:13:15 @monitor.py:467]\u001b[0m GAN_loss/discrim/accuracy_real: 0.24\n",
      "\u001b[32m[0922 16:13:15 @monitor.py:467]\u001b[0m GAN_loss/discrim/loss: 0.64456\n",
      "\u001b[32m[0922 16:13:15 @monitor.py:467]\u001b[0m GAN_loss/gen/final-g-loss: 1.3197\n",
      "\u001b[32m[0922 16:13:15 @monitor.py:467]\u001b[0m GAN_loss/gen/klloss: 0.2621\n",
      "\u001b[32m[0922 16:13:15 @monitor.py:467]\u001b[0m GAN_loss/gen/loss: 1.0576\n",
      "\u001b[32m[0922 16:13:15 @monitor.py:467]\u001b[0m QueueInput/queue_size: 50\n",
      "\u001b[32m[0922 16:13:15 @base.py:275]\u001b[0m Start Epoch 708 ...\n"
     ]
    },
    {
     "name": "stderr",
     "output_type": "stream",
     "text": [
      "100%|#################################################################################|2000/2000[01:11<00:00,28.15it/s]"
     ]
    },
    {
     "name": "stdout",
     "output_type": "stream",
     "text": [
      "\u001b[32m[0922 16:14:26 @base.py:285]\u001b[0m Epoch 708 (global_step 1416000) finished, time:1 minute 11 seconds.\n",
      "\u001b[32m[0922 16:14:26 @saver.py:79]\u001b[0m Model saved to ../output/LPMC/DATGAN/model\\model-1416000.\n"
     ]
    },
    {
     "name": "stderr",
     "output_type": "stream",
     "text": [
      "\n"
     ]
    },
    {
     "name": "stdout",
     "output_type": "stream",
     "text": [
      "\u001b[32m[0922 16:14:26 @monitor.py:467]\u001b[0m GAN_loss/discrim/accuracy_fake: 0.845\n",
      "\u001b[32m[0922 16:14:26 @monitor.py:467]\u001b[0m GAN_loss/discrim/accuracy_real: 0.195\n",
      "\u001b[32m[0922 16:14:26 @monitor.py:467]\u001b[0m GAN_loss/discrim/loss: 0.65189\n",
      "\u001b[32m[0922 16:14:26 @monitor.py:467]\u001b[0m GAN_loss/gen/final-g-loss: 1.3129\n",
      "\u001b[32m[0922 16:14:26 @monitor.py:467]\u001b[0m GAN_loss/gen/klloss: 0.23516\n",
      "\u001b[32m[0922 16:14:26 @monitor.py:467]\u001b[0m GAN_loss/gen/loss: 1.0778\n",
      "\u001b[32m[0922 16:14:26 @monitor.py:467]\u001b[0m QueueInput/queue_size: 50\n",
      "\u001b[32m[0922 16:14:26 @base.py:275]\u001b[0m Start Epoch 709 ...\n"
     ]
    },
    {
     "name": "stderr",
     "output_type": "stream",
     "text": [
      "100%|#################################################################################|2000/2000[01:10<00:00,28.17it/s]"
     ]
    },
    {
     "name": "stdout",
     "output_type": "stream",
     "text": [
      "\u001b[32m[0922 16:15:37 @base.py:285]\u001b[0m Epoch 709 (global_step 1418000) finished, time:1 minute 10 seconds.\n",
      "\u001b[32m[0922 16:15:37 @saver.py:79]\u001b[0m Model saved to ../output/LPMC/DATGAN/model\\model-1418000.\n"
     ]
    },
    {
     "name": "stderr",
     "output_type": "stream",
     "text": [
      "\n"
     ]
    },
    {
     "name": "stdout",
     "output_type": "stream",
     "text": [
      "\u001b[32m[0922 16:15:37 @monitor.py:467]\u001b[0m GAN_loss/discrim/accuracy_fake: 0.875\n",
      "\u001b[32m[0922 16:15:37 @monitor.py:467]\u001b[0m GAN_loss/discrim/accuracy_real: 0.185\n",
      "\u001b[32m[0922 16:15:37 @monitor.py:467]\u001b[0m GAN_loss/discrim/loss: 0.64954\n",
      "\u001b[32m[0922 16:15:37 @monitor.py:467]\u001b[0m GAN_loss/gen/final-g-loss: 1.4005\n",
      "\u001b[32m[0922 16:15:37 @monitor.py:467]\u001b[0m GAN_loss/gen/klloss: 0.32057\n",
      "\u001b[32m[0922 16:15:37 @monitor.py:467]\u001b[0m GAN_loss/gen/loss: 1.0799\n",
      "\u001b[32m[0922 16:15:37 @monitor.py:467]\u001b[0m QueueInput/queue_size: 50\n",
      "\u001b[32m[0922 16:15:37 @base.py:275]\u001b[0m Start Epoch 710 ...\n"
     ]
    },
    {
     "name": "stderr",
     "output_type": "stream",
     "text": [
      "100%|#################################################################################|2000/2000[01:10<00:00,28.20it/s]"
     ]
    },
    {
     "name": "stdout",
     "output_type": "stream",
     "text": [
      "\u001b[32m[0922 16:16:48 @base.py:285]\u001b[0m Epoch 710 (global_step 1420000) finished, time:1 minute 10 seconds.\n",
      "\u001b[32m[0922 16:16:48 @saver.py:79]\u001b[0m Model saved to ../output/LPMC/DATGAN/model\\model-1420000.\n"
     ]
    },
    {
     "name": "stderr",
     "output_type": "stream",
     "text": [
      "\n"
     ]
    },
    {
     "name": "stdout",
     "output_type": "stream",
     "text": [
      "\u001b[32m[0922 16:16:49 @monitor.py:467]\u001b[0m GAN_loss/discrim/accuracy_fake: 0.915\n",
      "\u001b[32m[0922 16:16:49 @monitor.py:467]\u001b[0m GAN_loss/discrim/accuracy_real: 0.185\n",
      "\u001b[32m[0922 16:16:49 @monitor.py:467]\u001b[0m GAN_loss/discrim/loss: 0.6372\n",
      "\u001b[32m[0922 16:16:49 @monitor.py:467]\u001b[0m GAN_loss/gen/final-g-loss: 1.2679\n",
      "\u001b[32m[0922 16:16:49 @monitor.py:467]\u001b[0m GAN_loss/gen/klloss: 0.18294\n",
      "\u001b[32m[0922 16:16:49 @monitor.py:467]\u001b[0m GAN_loss/gen/loss: 1.0849\n",
      "\u001b[32m[0922 16:16:49 @monitor.py:467]\u001b[0m QueueInput/queue_size: 50\n",
      "\u001b[32m[0922 16:16:49 @base.py:275]\u001b[0m Start Epoch 711 ...\n"
     ]
    },
    {
     "name": "stderr",
     "output_type": "stream",
     "text": [
      "100%|#################################################################################|2000/2000[01:11<00:00,28.13it/s]"
     ]
    },
    {
     "name": "stdout",
     "output_type": "stream",
     "text": [
      "\u001b[32m[0922 16:18:00 @base.py:285]\u001b[0m Epoch 711 (global_step 1422000) finished, time:1 minute 11 seconds.\n",
      "\u001b[32m[0922 16:18:00 @saver.py:79]\u001b[0m Model saved to ../output/LPMC/DATGAN/model\\model-1422000.\n"
     ]
    },
    {
     "name": "stderr",
     "output_type": "stream",
     "text": [
      "\n"
     ]
    },
    {
     "name": "stdout",
     "output_type": "stream",
     "text": [
      "\u001b[32m[0922 16:18:00 @monitor.py:467]\u001b[0m GAN_loss/discrim/accuracy_fake: 0.91\n",
      "\u001b[32m[0922 16:18:00 @monitor.py:467]\u001b[0m GAN_loss/discrim/accuracy_real: 0.22\n",
      "\u001b[32m[0922 16:18:00 @monitor.py:467]\u001b[0m GAN_loss/discrim/loss: 0.63923\n",
      "\u001b[32m[0922 16:18:00 @monitor.py:467]\u001b[0m GAN_loss/gen/final-g-loss: 1.3789\n",
      "\u001b[32m[0922 16:18:00 @monitor.py:467]\u001b[0m GAN_loss/gen/klloss: 0.29845\n",
      "\u001b[32m[0922 16:18:00 @monitor.py:467]\u001b[0m GAN_loss/gen/loss: 1.0804\n",
      "\u001b[32m[0922 16:18:00 @monitor.py:467]\u001b[0m QueueInput/queue_size: 50\n",
      "\u001b[32m[0922 16:18:00 @base.py:275]\u001b[0m Start Epoch 712 ...\n"
     ]
    },
    {
     "name": "stderr",
     "output_type": "stream",
     "text": [
      "100%|#################################################################################|2000/2000[01:11<00:00,28.11it/s]"
     ]
    },
    {
     "name": "stdout",
     "output_type": "stream",
     "text": [
      "\u001b[32m[0922 16:19:11 @base.py:285]\u001b[0m Epoch 712 (global_step 1424000) finished, time:1 minute 11 seconds.\n",
      "\u001b[32m[0922 16:19:11 @saver.py:79]\u001b[0m Model saved to ../output/LPMC/DATGAN/model\\model-1424000.\n"
     ]
    },
    {
     "name": "stderr",
     "output_type": "stream",
     "text": [
      "\n"
     ]
    },
    {
     "name": "stdout",
     "output_type": "stream",
     "text": [
      "\u001b[32m[0922 16:19:11 @monitor.py:467]\u001b[0m GAN_loss/discrim/accuracy_fake: 0.885\n",
      "\u001b[32m[0922 16:19:11 @monitor.py:467]\u001b[0m GAN_loss/discrim/accuracy_real: 0.195\n",
      "\u001b[32m[0922 16:19:11 @monitor.py:467]\u001b[0m GAN_loss/discrim/loss: 0.64431\n",
      "\u001b[32m[0922 16:19:11 @monitor.py:467]\u001b[0m GAN_loss/gen/final-g-loss: 1.3747\n",
      "\u001b[32m[0922 16:19:11 @monitor.py:467]\u001b[0m GAN_loss/gen/klloss: 0.29904\n",
      "\u001b[32m[0922 16:19:11 @monitor.py:467]\u001b[0m GAN_loss/gen/loss: 1.0757\n",
      "\u001b[32m[0922 16:19:11 @monitor.py:467]\u001b[0m QueueInput/queue_size: 50\n",
      "\u001b[32m[0922 16:19:11 @base.py:275]\u001b[0m Start Epoch 713 ...\n"
     ]
    },
    {
     "name": "stderr",
     "output_type": "stream",
     "text": [
      "100%|#################################################################################|2000/2000[01:11<00:00,27.99it/s]"
     ]
    },
    {
     "name": "stdout",
     "output_type": "stream",
     "text": [
      "\u001b[32m[0922 16:20:23 @base.py:285]\u001b[0m Epoch 713 (global_step 1426000) finished, time:1 minute 11 seconds.\n"
     ]
    },
    {
     "name": "stderr",
     "output_type": "stream",
     "text": [
      "\n"
     ]
    },
    {
     "name": "stdout",
     "output_type": "stream",
     "text": [
      "\u001b[32m[0922 16:20:23 @saver.py:79]\u001b[0m Model saved to ../output/LPMC/DATGAN/model\\model-1426000.\n",
      "\u001b[32m[0922 16:20:23 @monitor.py:467]\u001b[0m GAN_loss/discrim/accuracy_fake: 0.935\n",
      "\u001b[32m[0922 16:20:23 @monitor.py:467]\u001b[0m GAN_loss/discrim/accuracy_real: 0.23\n",
      "\u001b[32m[0922 16:20:23 @monitor.py:467]\u001b[0m GAN_loss/discrim/loss: 0.64665\n",
      "\u001b[32m[0922 16:20:23 @monitor.py:467]\u001b[0m GAN_loss/gen/final-g-loss: 1.2698\n",
      "\u001b[32m[0922 16:20:23 @monitor.py:467]\u001b[0m GAN_loss/gen/klloss: 0.19655\n",
      "\u001b[32m[0922 16:20:23 @monitor.py:467]\u001b[0m GAN_loss/gen/loss: 1.0732\n",
      "\u001b[32m[0922 16:20:23 @monitor.py:467]\u001b[0m QueueInput/queue_size: 50\n",
      "\u001b[32m[0922 16:20:23 @base.py:275]\u001b[0m Start Epoch 714 ...\n"
     ]
    },
    {
     "name": "stderr",
     "output_type": "stream",
     "text": [
      "100%|#################################################################################|2000/2000[01:10<00:00,28.23it/s]"
     ]
    },
    {
     "name": "stdout",
     "output_type": "stream",
     "text": [
      "\u001b[32m[0922 16:21:34 @base.py:285]\u001b[0m Epoch 714 (global_step 1428000) finished, time:1 minute 10 seconds.\n"
     ]
    },
    {
     "name": "stderr",
     "output_type": "stream",
     "text": [
      "\n"
     ]
    },
    {
     "name": "stdout",
     "output_type": "stream",
     "text": [
      "\u001b[32m[0922 16:21:34 @saver.py:79]\u001b[0m Model saved to ../output/LPMC/DATGAN/model\\model-1428000.\n",
      "\u001b[32m[0922 16:21:34 @monitor.py:467]\u001b[0m GAN_loss/discrim/accuracy_fake: 0.94\n",
      "\u001b[32m[0922 16:21:34 @monitor.py:467]\u001b[0m GAN_loss/discrim/accuracy_real: 0.18\n",
      "\u001b[32m[0922 16:21:34 @monitor.py:467]\u001b[0m GAN_loss/discrim/loss: 0.6366\n",
      "\u001b[32m[0922 16:21:34 @monitor.py:467]\u001b[0m GAN_loss/gen/final-g-loss: 1.326\n",
      "\u001b[32m[0922 16:21:34 @monitor.py:467]\u001b[0m GAN_loss/gen/klloss: 0.24474\n",
      "\u001b[32m[0922 16:21:34 @monitor.py:467]\u001b[0m GAN_loss/gen/loss: 1.0813\n",
      "\u001b[32m[0922 16:21:34 @monitor.py:467]\u001b[0m QueueInput/queue_size: 50\n",
      "\u001b[32m[0922 16:21:34 @base.py:275]\u001b[0m Start Epoch 715 ...\n"
     ]
    },
    {
     "name": "stderr",
     "output_type": "stream",
     "text": [
      "100%|#################################################################################|2000/2000[01:11<00:00,28.04it/s]"
     ]
    },
    {
     "name": "stdout",
     "output_type": "stream",
     "text": [
      "\u001b[32m[0922 16:22:45 @base.py:285]\u001b[0m Epoch 715 (global_step 1430000) finished, time:1 minute 11 seconds.\n",
      "\u001b[32m[0922 16:22:45 @saver.py:79]\u001b[0m Model saved to ../output/LPMC/DATGAN/model\\model-1430000.\n"
     ]
    },
    {
     "name": "stderr",
     "output_type": "stream",
     "text": [
      "\n"
     ]
    },
    {
     "name": "stdout",
     "output_type": "stream",
     "text": [
      "\u001b[32m[0922 16:22:46 @monitor.py:467]\u001b[0m GAN_loss/discrim/accuracy_fake: 0.925\n",
      "\u001b[32m[0922 16:22:46 @monitor.py:467]\u001b[0m GAN_loss/discrim/accuracy_real: 0.165\n",
      "\u001b[32m[0922 16:22:46 @monitor.py:467]\u001b[0m GAN_loss/discrim/loss: 0.63384\n",
      "\u001b[32m[0922 16:22:46 @monitor.py:467]\u001b[0m GAN_loss/gen/final-g-loss: 1.4042\n",
      "\u001b[32m[0922 16:22:46 @monitor.py:467]\u001b[0m GAN_loss/gen/klloss: 0.31391\n",
      "\u001b[32m[0922 16:22:46 @monitor.py:467]\u001b[0m GAN_loss/gen/loss: 1.0903\n",
      "\u001b[32m[0922 16:22:46 @monitor.py:467]\u001b[0m QueueInput/queue_size: 50\n",
      "\u001b[32m[0922 16:22:46 @base.py:275]\u001b[0m Start Epoch 716 ...\n"
     ]
    },
    {
     "name": "stderr",
     "output_type": "stream",
     "text": [
      "100%|#################################################################################|2000/2000[01:10<00:00,28.19it/s]"
     ]
    },
    {
     "name": "stdout",
     "output_type": "stream",
     "text": [
      "\u001b[32m[0922 16:23:57 @base.py:285]\u001b[0m Epoch 716 (global_step 1432000) finished, time:1 minute 10 seconds.\n",
      "\u001b[32m[0922 16:23:57 @saver.py:79]\u001b[0m Model saved to ../output/LPMC/DATGAN/model\\model-1432000.\n"
     ]
    },
    {
     "name": "stderr",
     "output_type": "stream",
     "text": [
      "\n"
     ]
    },
    {
     "name": "stdout",
     "output_type": "stream",
     "text": [
      "\u001b[32m[0922 16:23:57 @monitor.py:467]\u001b[0m GAN_loss/discrim/accuracy_fake: 0.845\n",
      "\u001b[32m[0922 16:23:57 @monitor.py:467]\u001b[0m GAN_loss/discrim/accuracy_real: 0.16\n",
      "\u001b[32m[0922 16:23:57 @monitor.py:467]\u001b[0m GAN_loss/discrim/loss: 0.65504\n",
      "\u001b[32m[0922 16:23:57 @monitor.py:467]\u001b[0m GAN_loss/gen/final-g-loss: 1.3036\n",
      "\u001b[32m[0922 16:23:57 @monitor.py:467]\u001b[0m GAN_loss/gen/klloss: 0.2476\n",
      "\u001b[32m[0922 16:23:57 @monitor.py:467]\u001b[0m GAN_loss/gen/loss: 1.056\n",
      "\u001b[32m[0922 16:23:57 @monitor.py:467]\u001b[0m QueueInput/queue_size: 50\n",
      "\u001b[32m[0922 16:23:57 @base.py:275]\u001b[0m Start Epoch 717 ...\n"
     ]
    },
    {
     "name": "stderr",
     "output_type": "stream",
     "text": [
      "100%|#################################################################################|2000/2000[01:11<00:00,28.12it/s]"
     ]
    },
    {
     "name": "stdout",
     "output_type": "stream",
     "text": [
      "\u001b[32m[0922 16:25:08 @base.py:285]\u001b[0m Epoch 717 (global_step 1434000) finished, time:1 minute 11 seconds.\n",
      "\u001b[32m[0922 16:25:08 @saver.py:79]\u001b[0m Model saved to ../output/LPMC/DATGAN/model\\model-1434000.\n"
     ]
    },
    {
     "name": "stderr",
     "output_type": "stream",
     "text": [
      "\n"
     ]
    },
    {
     "name": "stdout",
     "output_type": "stream",
     "text": [
      "\u001b[32m[0922 16:25:08 @monitor.py:467]\u001b[0m GAN_loss/discrim/accuracy_fake: 0.9\n",
      "\u001b[32m[0922 16:25:08 @monitor.py:467]\u001b[0m GAN_loss/discrim/accuracy_real: 0.14\n",
      "\u001b[32m[0922 16:25:08 @monitor.py:467]\u001b[0m GAN_loss/discrim/loss: 0.65194\n",
      "\u001b[32m[0922 16:25:08 @monitor.py:467]\u001b[0m GAN_loss/gen/final-g-loss: 1.2697\n",
      "\u001b[32m[0922 16:25:08 @monitor.py:467]\u001b[0m GAN_loss/gen/klloss: 0.19082\n",
      "\u001b[32m[0922 16:25:08 @monitor.py:467]\u001b[0m GAN_loss/gen/loss: 1.0789\n",
      "\u001b[32m[0922 16:25:08 @monitor.py:467]\u001b[0m QueueInput/queue_size: 50\n",
      "\u001b[32m[0922 16:25:08 @base.py:275]\u001b[0m Start Epoch 718 ...\n"
     ]
    },
    {
     "name": "stderr",
     "output_type": "stream",
     "text": [
      "100%|#################################################################################|2000/2000[01:11<00:00,28.16it/s]"
     ]
    },
    {
     "name": "stdout",
     "output_type": "stream",
     "text": [
      "\u001b[32m[0922 16:26:19 @base.py:285]\u001b[0m Epoch 718 (global_step 1436000) finished, time:1 minute 11 seconds.\n"
     ]
    },
    {
     "name": "stderr",
     "output_type": "stream",
     "text": [
      "\n"
     ]
    },
    {
     "name": "stdout",
     "output_type": "stream",
     "text": [
      "\u001b[32m[0922 16:26:19 @saver.py:79]\u001b[0m Model saved to ../output/LPMC/DATGAN/model\\model-1436000.\n",
      "\u001b[32m[0922 16:26:19 @monitor.py:467]\u001b[0m GAN_loss/discrim/accuracy_fake: 0.885\n",
      "\u001b[32m[0922 16:26:19 @monitor.py:467]\u001b[0m GAN_loss/discrim/accuracy_real: 0.21\n",
      "\u001b[32m[0922 16:26:19 @monitor.py:467]\u001b[0m GAN_loss/discrim/loss: 0.6511\n",
      "\u001b[32m[0922 16:26:19 @monitor.py:467]\u001b[0m GAN_loss/gen/final-g-loss: 1.3706\n",
      "\u001b[32m[0922 16:26:19 @monitor.py:467]\u001b[0m GAN_loss/gen/klloss: 0.30983\n",
      "\u001b[32m[0922 16:26:19 @monitor.py:467]\u001b[0m GAN_loss/gen/loss: 1.0607\n",
      "\u001b[32m[0922 16:26:19 @monitor.py:467]\u001b[0m QueueInput/queue_size: 50\n",
      "\u001b[32m[0922 16:26:19 @base.py:275]\u001b[0m Start Epoch 719 ...\n"
     ]
    },
    {
     "name": "stderr",
     "output_type": "stream",
     "text": [
      "100%|#################################################################################|2000/2000[01:10<00:00,28.24it/s]"
     ]
    },
    {
     "name": "stdout",
     "output_type": "stream",
     "text": [
      "\u001b[32m[0922 16:27:30 @base.py:285]\u001b[0m Epoch 719 (global_step 1438000) finished, time:1 minute 10 seconds.\n",
      "\u001b[32m[0922 16:27:30 @saver.py:79]\u001b[0m Model saved to ../output/LPMC/DATGAN/model\\model-1438000.\n"
     ]
    },
    {
     "name": "stderr",
     "output_type": "stream",
     "text": [
      "\n"
     ]
    },
    {
     "name": "stdout",
     "output_type": "stream",
     "text": [
      "\u001b[32m[0922 16:27:30 @monitor.py:467]\u001b[0m GAN_loss/discrim/accuracy_fake: 0.91\n",
      "\u001b[32m[0922 16:27:30 @monitor.py:467]\u001b[0m GAN_loss/discrim/accuracy_real: 0.155\n",
      "\u001b[32m[0922 16:27:30 @monitor.py:467]\u001b[0m GAN_loss/discrim/loss: 0.65121\n",
      "\u001b[32m[0922 16:27:30 @monitor.py:467]\u001b[0m GAN_loss/gen/final-g-loss: 1.3178\n",
      "\u001b[32m[0922 16:27:30 @monitor.py:467]\u001b[0m GAN_loss/gen/klloss: 0.24465\n",
      "\u001b[32m[0922 16:27:30 @monitor.py:467]\u001b[0m GAN_loss/gen/loss: 1.0732\n",
      "\u001b[32m[0922 16:27:30 @monitor.py:467]\u001b[0m QueueInput/queue_size: 50\n",
      "\u001b[32m[0922 16:27:30 @base.py:275]\u001b[0m Start Epoch 720 ...\n"
     ]
    },
    {
     "name": "stderr",
     "output_type": "stream",
     "text": [
      "100%|#################################################################################|2000/2000[01:11<00:00,28.14it/s]"
     ]
    },
    {
     "name": "stdout",
     "output_type": "stream",
     "text": [
      "\u001b[32m[0922 16:28:41 @base.py:285]\u001b[0m Epoch 720 (global_step 1440000) finished, time:1 minute 11 seconds.\n",
      "\u001b[32m[0922 16:28:42 @saver.py:79]\u001b[0m Model saved to ../output/LPMC/DATGAN/model\\model-1440000.\n"
     ]
    },
    {
     "name": "stderr",
     "output_type": "stream",
     "text": [
      "\n"
     ]
    },
    {
     "name": "stdout",
     "output_type": "stream",
     "text": [
      "\u001b[32m[0922 16:28:42 @monitor.py:467]\u001b[0m GAN_loss/discrim/accuracy_fake: 0.92\n",
      "\u001b[32m[0922 16:28:42 @monitor.py:467]\u001b[0m GAN_loss/discrim/accuracy_real: 0.135\n",
      "\u001b[32m[0922 16:28:42 @monitor.py:467]\u001b[0m GAN_loss/discrim/loss: 0.6451\n",
      "\u001b[32m[0922 16:28:42 @monitor.py:467]\u001b[0m GAN_loss/gen/final-g-loss: 1.3095\n",
      "\u001b[32m[0922 16:28:42 @monitor.py:467]\u001b[0m GAN_loss/gen/klloss: 0.22848\n",
      "\u001b[32m[0922 16:28:42 @monitor.py:467]\u001b[0m GAN_loss/gen/loss: 1.081\n",
      "\u001b[32m[0922 16:28:42 @monitor.py:467]\u001b[0m QueueInput/queue_size: 50\n",
      "\u001b[32m[0922 16:28:42 @base.py:275]\u001b[0m Start Epoch 721 ...\n"
     ]
    },
    {
     "name": "stderr",
     "output_type": "stream",
     "text": [
      "100%|#################################################################################|2000/2000[01:10<00:00,28.18it/s]"
     ]
    },
    {
     "name": "stdout",
     "output_type": "stream",
     "text": [
      "\u001b[32m[0922 16:29:53 @base.py:285]\u001b[0m Epoch 721 (global_step 1442000) finished, time:1 minute 10 seconds.\n",
      "\u001b[32m[0922 16:29:53 @saver.py:79]\u001b[0m Model saved to ../output/LPMC/DATGAN/model\\model-1442000.\n"
     ]
    },
    {
     "name": "stderr",
     "output_type": "stream",
     "text": [
      "\n"
     ]
    },
    {
     "name": "stdout",
     "output_type": "stream",
     "text": [
      "\u001b[32m[0922 16:29:53 @monitor.py:467]\u001b[0m GAN_loss/discrim/accuracy_fake: 0.845\n",
      "\u001b[32m[0922 16:29:53 @monitor.py:467]\u001b[0m GAN_loss/discrim/accuracy_real: 0.23\n",
      "\u001b[32m[0922 16:29:53 @monitor.py:467]\u001b[0m GAN_loss/discrim/loss: 0.64344\n",
      "\u001b[32m[0922 16:29:53 @monitor.py:467]\u001b[0m GAN_loss/gen/final-g-loss: 1.2574\n",
      "\u001b[32m[0922 16:29:53 @monitor.py:467]\u001b[0m GAN_loss/gen/klloss: 0.20406\n",
      "\u001b[32m[0922 16:29:53 @monitor.py:467]\u001b[0m GAN_loss/gen/loss: 1.0534\n",
      "\u001b[32m[0922 16:29:53 @monitor.py:467]\u001b[0m QueueInput/queue_size: 50\n",
      "\u001b[32m[0922 16:29:53 @base.py:275]\u001b[0m Start Epoch 722 ...\n"
     ]
    },
    {
     "name": "stderr",
     "output_type": "stream",
     "text": [
      "100%|#################################################################################|2000/2000[01:11<00:00,28.15it/s]"
     ]
    },
    {
     "name": "stdout",
     "output_type": "stream",
     "text": [
      "\u001b[32m[0922 16:31:04 @base.py:285]\u001b[0m Epoch 722 (global_step 1444000) finished, time:1 minute 11 seconds.\n"
     ]
    },
    {
     "name": "stderr",
     "output_type": "stream",
     "text": [
      "\n"
     ]
    },
    {
     "name": "stdout",
     "output_type": "stream",
     "text": [
      "\u001b[32m[0922 16:31:04 @saver.py:79]\u001b[0m Model saved to ../output/LPMC/DATGAN/model\\model-1444000.\n",
      "\u001b[32m[0922 16:31:04 @monitor.py:467]\u001b[0m GAN_loss/discrim/accuracy_fake: 0.88\n",
      "\u001b[32m[0922 16:31:04 @monitor.py:467]\u001b[0m GAN_loss/discrim/accuracy_real: 0.215\n",
      "\u001b[32m[0922 16:31:04 @monitor.py:467]\u001b[0m GAN_loss/discrim/loss: 0.64911\n",
      "\u001b[32m[0922 16:31:04 @monitor.py:467]\u001b[0m GAN_loss/gen/final-g-loss: 1.2796\n",
      "\u001b[32m[0922 16:31:04 @monitor.py:467]\u001b[0m GAN_loss/gen/klloss: 0.21111\n",
      "\u001b[32m[0922 16:31:04 @monitor.py:467]\u001b[0m GAN_loss/gen/loss: 1.0685\n",
      "\u001b[32m[0922 16:31:04 @monitor.py:467]\u001b[0m QueueInput/queue_size: 50\n",
      "\u001b[32m[0922 16:31:04 @base.py:275]\u001b[0m Start Epoch 723 ...\n"
     ]
    },
    {
     "name": "stderr",
     "output_type": "stream",
     "text": [
      "100%|#################################################################################|2000/2000[01:11<00:00,28.06it/s]"
     ]
    },
    {
     "name": "stdout",
     "output_type": "stream",
     "text": [
      "\u001b[32m[0922 16:32:15 @base.py:285]\u001b[0m Epoch 723 (global_step 1446000) finished, time:1 minute 11 seconds.\n",
      "\u001b[32m[0922 16:32:16 @saver.py:79]\u001b[0m Model saved to ../output/LPMC/DATGAN/model\\model-1446000.\n"
     ]
    },
    {
     "name": "stderr",
     "output_type": "stream",
     "text": [
      "\n"
     ]
    },
    {
     "name": "stdout",
     "output_type": "stream",
     "text": [
      "\u001b[32m[0922 16:32:16 @monitor.py:467]\u001b[0m GAN_loss/discrim/accuracy_fake: 0.92\n",
      "\u001b[32m[0922 16:32:16 @monitor.py:467]\u001b[0m GAN_loss/discrim/accuracy_real: 0.165\n",
      "\u001b[32m[0922 16:32:16 @monitor.py:467]\u001b[0m GAN_loss/discrim/loss: 0.66087\n",
      "\u001b[32m[0922 16:32:16 @monitor.py:467]\u001b[0m GAN_loss/gen/final-g-loss: 1.2258\n",
      "\u001b[32m[0922 16:32:16 @monitor.py:467]\u001b[0m GAN_loss/gen/klloss: 0.14589\n",
      "\u001b[32m[0922 16:32:16 @monitor.py:467]\u001b[0m GAN_loss/gen/loss: 1.0799\n",
      "\u001b[32m[0922 16:32:16 @monitor.py:467]\u001b[0m QueueInput/queue_size: 50\n",
      "\u001b[32m[0922 16:32:16 @base.py:275]\u001b[0m Start Epoch 724 ...\n"
     ]
    },
    {
     "name": "stderr",
     "output_type": "stream",
     "text": [
      "100%|#################################################################################|2000/2000[01:12<00:00,27.67it/s]"
     ]
    },
    {
     "name": "stdout",
     "output_type": "stream",
     "text": [
      "\u001b[32m[0922 16:33:28 @base.py:285]\u001b[0m Epoch 724 (global_step 1448000) finished, time:1 minute 12 seconds.\n",
      "\u001b[32m[0922 16:33:28 @saver.py:79]\u001b[0m Model saved to ../output/LPMC/DATGAN/model\\model-1448000.\n"
     ]
    },
    {
     "name": "stderr",
     "output_type": "stream",
     "text": [
      "\n"
     ]
    },
    {
     "name": "stdout",
     "output_type": "stream",
     "text": [
      "\u001b[32m[0922 16:33:28 @monitor.py:467]\u001b[0m GAN_loss/discrim/accuracy_fake: 0.865\n",
      "\u001b[32m[0922 16:33:28 @monitor.py:467]\u001b[0m GAN_loss/discrim/accuracy_real: 0.13\n",
      "\u001b[32m[0922 16:33:28 @monitor.py:467]\u001b[0m GAN_loss/discrim/loss: 0.64745\n",
      "\u001b[32m[0922 16:33:28 @monitor.py:467]\u001b[0m GAN_loss/gen/final-g-loss: 1.4412\n",
      "\u001b[32m[0922 16:33:28 @monitor.py:467]\u001b[0m GAN_loss/gen/klloss: 0.35794\n",
      "\u001b[32m[0922 16:33:28 @monitor.py:467]\u001b[0m GAN_loss/gen/loss: 1.0833\n",
      "\u001b[32m[0922 16:33:28 @monitor.py:467]\u001b[0m QueueInput/queue_size: 50\n",
      "\u001b[32m[0922 16:33:28 @base.py:275]\u001b[0m Start Epoch 725 ...\n"
     ]
    },
    {
     "name": "stderr",
     "output_type": "stream",
     "text": [
      "100%|#################################################################################|2000/2000[01:11<00:00,28.06it/s]"
     ]
    },
    {
     "name": "stdout",
     "output_type": "stream",
     "text": [
      "\u001b[32m[0922 16:34:39 @base.py:285]\u001b[0m Epoch 725 (global_step 1450000) finished, time:1 minute 11 seconds.\n",
      "\u001b[32m[0922 16:34:40 @saver.py:79]\u001b[0m Model saved to ../output/LPMC/DATGAN/model\\model-1450000.\n"
     ]
    },
    {
     "name": "stderr",
     "output_type": "stream",
     "text": [
      "\n"
     ]
    },
    {
     "name": "stdout",
     "output_type": "stream",
     "text": [
      "\u001b[32m[0922 16:34:40 @monitor.py:467]\u001b[0m GAN_loss/discrim/accuracy_fake: 0.88\n",
      "\u001b[32m[0922 16:34:40 @monitor.py:467]\u001b[0m GAN_loss/discrim/accuracy_real: 0.205\n",
      "\u001b[32m[0922 16:34:40 @monitor.py:467]\u001b[0m GAN_loss/discrim/loss: 0.64988\n",
      "\u001b[32m[0922 16:34:40 @monitor.py:467]\u001b[0m GAN_loss/gen/final-g-loss: 1.347\n",
      "\u001b[32m[0922 16:34:40 @monitor.py:467]\u001b[0m GAN_loss/gen/klloss: 0.29998\n",
      "\u001b[32m[0922 16:34:40 @monitor.py:467]\u001b[0m GAN_loss/gen/loss: 1.047\n",
      "\u001b[32m[0922 16:34:40 @monitor.py:467]\u001b[0m QueueInput/queue_size: 50\n",
      "\u001b[32m[0922 16:34:40 @base.py:275]\u001b[0m Start Epoch 726 ...\n"
     ]
    },
    {
     "name": "stderr",
     "output_type": "stream",
     "text": [
      "100%|#################################################################################|2000/2000[01:10<00:00,28.28it/s]"
     ]
    },
    {
     "name": "stdout",
     "output_type": "stream",
     "text": [
      "\u001b[32m[0922 16:35:50 @base.py:285]\u001b[0m Epoch 726 (global_step 1452000) finished, time:1 minute 10 seconds.\n",
      "\u001b[32m[0922 16:35:51 @saver.py:79]\u001b[0m Model saved to ../output/LPMC/DATGAN/model\\model-1452000.\n"
     ]
    },
    {
     "name": "stderr",
     "output_type": "stream",
     "text": [
      "\n"
     ]
    },
    {
     "name": "stdout",
     "output_type": "stream",
     "text": [
      "\u001b[32m[0922 16:35:51 @monitor.py:467]\u001b[0m GAN_loss/discrim/accuracy_fake: 0.905\n",
      "\u001b[32m[0922 16:35:51 @monitor.py:467]\u001b[0m GAN_loss/discrim/accuracy_real: 0.185\n",
      "\u001b[32m[0922 16:35:51 @monitor.py:467]\u001b[0m GAN_loss/discrim/loss: 0.64448\n",
      "\u001b[32m[0922 16:35:51 @monitor.py:467]\u001b[0m GAN_loss/gen/final-g-loss: 1.2278\n",
      "\u001b[32m[0922 16:35:51 @monitor.py:467]\u001b[0m GAN_loss/gen/klloss: 0.14345\n",
      "\u001b[32m[0922 16:35:51 @monitor.py:467]\u001b[0m GAN_loss/gen/loss: 1.0843\n",
      "\u001b[32m[0922 16:35:51 @monitor.py:467]\u001b[0m QueueInput/queue_size: 50\n",
      "\u001b[32m[0922 16:35:51 @base.py:275]\u001b[0m Start Epoch 727 ...\n"
     ]
    },
    {
     "name": "stderr",
     "output_type": "stream",
     "text": [
      "100%|#################################################################################|2000/2000[01:10<00:00,28.22it/s]"
     ]
    },
    {
     "name": "stdout",
     "output_type": "stream",
     "text": [
      "\u001b[32m[0922 16:37:02 @base.py:285]\u001b[0m Epoch 727 (global_step 1454000) finished, time:1 minute 10 seconds.\n",
      "\u001b[32m[0922 16:37:02 @saver.py:79]\u001b[0m Model saved to ../output/LPMC/DATGAN/model\\model-1454000.\n"
     ]
    },
    {
     "name": "stderr",
     "output_type": "stream",
     "text": [
      "\n"
     ]
    },
    {
     "name": "stdout",
     "output_type": "stream",
     "text": [
      "\u001b[32m[0922 16:37:02 @monitor.py:467]\u001b[0m GAN_loss/discrim/accuracy_fake: 0.855\n",
      "\u001b[32m[0922 16:37:02 @monitor.py:467]\u001b[0m GAN_loss/discrim/accuracy_real: 0.205\n",
      "\u001b[32m[0922 16:37:02 @monitor.py:467]\u001b[0m GAN_loss/discrim/loss: 0.65192\n",
      "\u001b[32m[0922 16:37:02 @monitor.py:467]\u001b[0m GAN_loss/gen/final-g-loss: 1.2694\n",
      "\u001b[32m[0922 16:37:02 @monitor.py:467]\u001b[0m GAN_loss/gen/klloss: 0.22445\n",
      "\u001b[32m[0922 16:37:02 @monitor.py:467]\u001b[0m GAN_loss/gen/loss: 1.045\n",
      "\u001b[32m[0922 16:37:02 @monitor.py:467]\u001b[0m QueueInput/queue_size: 50\n",
      "\u001b[32m[0922 16:37:02 @base.py:275]\u001b[0m Start Epoch 728 ...\n"
     ]
    },
    {
     "name": "stderr",
     "output_type": "stream",
     "text": [
      "100%|#################################################################################|2000/2000[01:10<00:00,28.18it/s]"
     ]
    },
    {
     "name": "stdout",
     "output_type": "stream",
     "text": [
      "\u001b[32m[0922 16:38:13 @base.py:285]\u001b[0m Epoch 728 (global_step 1456000) finished, time:1 minute 10 seconds.\n",
      "\u001b[32m[0922 16:38:13 @saver.py:79]\u001b[0m Model saved to ../output/LPMC/DATGAN/model\\model-1456000.\n"
     ]
    },
    {
     "name": "stderr",
     "output_type": "stream",
     "text": [
      "\n"
     ]
    },
    {
     "name": "stdout",
     "output_type": "stream",
     "text": [
      "\u001b[32m[0922 16:38:13 @monitor.py:467]\u001b[0m GAN_loss/discrim/accuracy_fake: 0.915\n",
      "\u001b[32m[0922 16:38:13 @monitor.py:467]\u001b[0m GAN_loss/discrim/accuracy_real: 0.175\n",
      "\u001b[32m[0922 16:38:13 @monitor.py:467]\u001b[0m GAN_loss/discrim/loss: 0.64405\n",
      "\u001b[32m[0922 16:38:13 @monitor.py:467]\u001b[0m GAN_loss/gen/final-g-loss: 1.3246\n",
      "\u001b[32m[0922 16:38:13 @monitor.py:467]\u001b[0m GAN_loss/gen/klloss: 0.23833\n",
      "\u001b[32m[0922 16:38:13 @monitor.py:467]\u001b[0m GAN_loss/gen/loss: 1.0862\n",
      "\u001b[32m[0922 16:38:13 @monitor.py:467]\u001b[0m QueueInput/queue_size: 50\n",
      "\u001b[32m[0922 16:38:13 @base.py:275]\u001b[0m Start Epoch 729 ...\n"
     ]
    },
    {
     "name": "stderr",
     "output_type": "stream",
     "text": [
      "100%|#################################################################################|2000/2000[01:11<00:00,28.07it/s]"
     ]
    },
    {
     "name": "stdout",
     "output_type": "stream",
     "text": [
      "\u001b[32m[0922 16:39:24 @base.py:285]\u001b[0m Epoch 729 (global_step 1458000) finished, time:1 minute 11 seconds.\n"
     ]
    },
    {
     "name": "stderr",
     "output_type": "stream",
     "text": [
      "\n"
     ]
    },
    {
     "name": "stdout",
     "output_type": "stream",
     "text": [
      "\u001b[32m[0922 16:39:24 @saver.py:79]\u001b[0m Model saved to ../output/LPMC/DATGAN/model\\model-1458000.\n",
      "\u001b[32m[0922 16:39:24 @monitor.py:467]\u001b[0m GAN_loss/discrim/accuracy_fake: 0.94\n",
      "\u001b[32m[0922 16:39:24 @monitor.py:467]\u001b[0m GAN_loss/discrim/accuracy_real: 0.145\n",
      "\u001b[32m[0922 16:39:24 @monitor.py:467]\u001b[0m GAN_loss/discrim/loss: 0.64879\n",
      "\u001b[32m[0922 16:39:24 @monitor.py:467]\u001b[0m GAN_loss/gen/final-g-loss: 1.3837\n",
      "\u001b[32m[0922 16:39:24 @monitor.py:467]\u001b[0m GAN_loss/gen/klloss: 0.29974\n",
      "\u001b[32m[0922 16:39:24 @monitor.py:467]\u001b[0m GAN_loss/gen/loss: 1.0839\n",
      "\u001b[32m[0922 16:39:24 @monitor.py:467]\u001b[0m QueueInput/queue_size: 50\n",
      "\u001b[32m[0922 16:39:24 @base.py:275]\u001b[0m Start Epoch 730 ...\n"
     ]
    },
    {
     "name": "stderr",
     "output_type": "stream",
     "text": [
      "100%|#################################################################################|2000/2000[01:10<00:00,28.21it/s]"
     ]
    },
    {
     "name": "stdout",
     "output_type": "stream",
     "text": [
      "\u001b[32m[0922 16:40:35 @base.py:285]\u001b[0m Epoch 730 (global_step 1460000) finished, time:1 minute 10 seconds.\n",
      "\u001b[32m[0922 16:40:35 @saver.py:79]\u001b[0m Model saved to ../output/LPMC/DATGAN/model\\model-1460000.\n"
     ]
    },
    {
     "name": "stderr",
     "output_type": "stream",
     "text": [
      "\n"
     ]
    },
    {
     "name": "stdout",
     "output_type": "stream",
     "text": [
      "\u001b[32m[0922 16:40:36 @monitor.py:467]\u001b[0m GAN_loss/discrim/accuracy_fake: 0.88\n",
      "\u001b[32m[0922 16:40:36 @monitor.py:467]\u001b[0m GAN_loss/discrim/accuracy_real: 0.215\n",
      "\u001b[32m[0922 16:40:36 @monitor.py:467]\u001b[0m GAN_loss/discrim/loss: 0.64613\n",
      "\u001b[32m[0922 16:40:36 @monitor.py:467]\u001b[0m GAN_loss/gen/final-g-loss: 1.248\n",
      "\u001b[32m[0922 16:40:36 @monitor.py:467]\u001b[0m GAN_loss/gen/klloss: 0.19085\n",
      "\u001b[32m[0922 16:40:36 @monitor.py:467]\u001b[0m GAN_loss/gen/loss: 1.0572\n",
      "\u001b[32m[0922 16:40:36 @monitor.py:467]\u001b[0m QueueInput/queue_size: 50\n",
      "\u001b[32m[0922 16:40:36 @base.py:275]\u001b[0m Start Epoch 731 ...\n"
     ]
    },
    {
     "name": "stderr",
     "output_type": "stream",
     "text": [
      "100%|#################################################################################|2000/2000[01:11<00:00,28.10it/s]"
     ]
    },
    {
     "name": "stdout",
     "output_type": "stream",
     "text": [
      "\u001b[32m[0922 16:41:47 @base.py:285]\u001b[0m Epoch 731 (global_step 1462000) finished, time:1 minute 11 seconds.\n"
     ]
    },
    {
     "name": "stderr",
     "output_type": "stream",
     "text": [
      "\n"
     ]
    },
    {
     "name": "stdout",
     "output_type": "stream",
     "text": [
      "\u001b[32m[0922 16:41:47 @saver.py:79]\u001b[0m Model saved to ../output/LPMC/DATGAN/model\\model-1462000.\n",
      "\u001b[32m[0922 16:41:47 @monitor.py:467]\u001b[0m GAN_loss/discrim/accuracy_fake: 0.895\n",
      "\u001b[32m[0922 16:41:47 @monitor.py:467]\u001b[0m GAN_loss/discrim/accuracy_real: 0.195\n",
      "\u001b[32m[0922 16:41:47 @monitor.py:467]\u001b[0m GAN_loss/discrim/loss: 0.64482\n",
      "\u001b[32m[0922 16:41:47 @monitor.py:467]\u001b[0m GAN_loss/gen/final-g-loss: 1.2921\n",
      "\u001b[32m[0922 16:41:47 @monitor.py:467]\u001b[0m GAN_loss/gen/klloss: 0.23182\n",
      "\u001b[32m[0922 16:41:47 @monitor.py:467]\u001b[0m GAN_loss/gen/loss: 1.0603\n",
      "\u001b[32m[0922 16:41:47 @monitor.py:467]\u001b[0m QueueInput/queue_size: 50\n",
      "\u001b[32m[0922 16:41:47 @base.py:275]\u001b[0m Start Epoch 732 ...\n"
     ]
    },
    {
     "name": "stderr",
     "output_type": "stream",
     "text": [
      "100%|#################################################################################|2000/2000[01:10<00:00,28.17it/s]"
     ]
    },
    {
     "name": "stdout",
     "output_type": "stream",
     "text": [
      "\u001b[32m[0922 16:42:58 @base.py:285]\u001b[0m Epoch 732 (global_step 1464000) finished, time:1 minute 10 seconds.\n",
      "\u001b[32m[0922 16:42:58 @saver.py:79]\u001b[0m Model saved to ../output/LPMC/DATGAN/model\\model-1464000.\n"
     ]
    },
    {
     "name": "stderr",
     "output_type": "stream",
     "text": [
      "\n"
     ]
    },
    {
     "name": "stdout",
     "output_type": "stream",
     "text": [
      "\u001b[32m[0922 16:42:58 @monitor.py:467]\u001b[0m GAN_loss/discrim/accuracy_fake: 0.905\n",
      "\u001b[32m[0922 16:42:58 @monitor.py:467]\u001b[0m GAN_loss/discrim/accuracy_real: 0.225\n",
      "\u001b[32m[0922 16:42:58 @monitor.py:467]\u001b[0m GAN_loss/discrim/loss: 0.63163\n",
      "\u001b[32m[0922 16:42:58 @monitor.py:467]\u001b[0m GAN_loss/gen/final-g-loss: 1.33\n",
      "\u001b[32m[0922 16:42:58 @monitor.py:467]\u001b[0m GAN_loss/gen/klloss: 0.24058\n",
      "\u001b[32m[0922 16:42:58 @monitor.py:467]\u001b[0m GAN_loss/gen/loss: 1.0894\n",
      "\u001b[32m[0922 16:42:58 @monitor.py:467]\u001b[0m QueueInput/queue_size: 50\n",
      "\u001b[32m[0922 16:42:58 @base.py:275]\u001b[0m Start Epoch 733 ...\n"
     ]
    },
    {
     "name": "stderr",
     "output_type": "stream",
     "text": [
      "100%|#################################################################################|2000/2000[01:10<00:00,28.26it/s]"
     ]
    },
    {
     "name": "stdout",
     "output_type": "stream",
     "text": [
      "\u001b[32m[0922 16:44:09 @base.py:285]\u001b[0m Epoch 733 (global_step 1466000) finished, time:1 minute 10 seconds.\n",
      "\u001b[32m[0922 16:44:09 @saver.py:79]\u001b[0m Model saved to ../output/LPMC/DATGAN/model\\model-1466000.\n"
     ]
    },
    {
     "name": "stderr",
     "output_type": "stream",
     "text": [
      "\n"
     ]
    },
    {
     "name": "stdout",
     "output_type": "stream",
     "text": [
      "\u001b[32m[0922 16:44:09 @monitor.py:467]\u001b[0m GAN_loss/discrim/accuracy_fake: 0.925\n",
      "\u001b[32m[0922 16:44:09 @monitor.py:467]\u001b[0m GAN_loss/discrim/accuracy_real: 0.175\n",
      "\u001b[32m[0922 16:44:09 @monitor.py:467]\u001b[0m GAN_loss/discrim/loss: 0.62597\n",
      "\u001b[32m[0922 16:44:09 @monitor.py:467]\u001b[0m GAN_loss/gen/final-g-loss: 1.2905\n",
      "\u001b[32m[0922 16:44:09 @monitor.py:467]\u001b[0m GAN_loss/gen/klloss: 0.20863\n",
      "\u001b[32m[0922 16:44:09 @monitor.py:467]\u001b[0m GAN_loss/gen/loss: 1.0818\n",
      "\u001b[32m[0922 16:44:09 @monitor.py:467]\u001b[0m QueueInput/queue_size: 50\n",
      "\u001b[32m[0922 16:44:09 @base.py:275]\u001b[0m Start Epoch 734 ...\n"
     ]
    },
    {
     "name": "stderr",
     "output_type": "stream",
     "text": [
      "100%|#################################################################################|2000/2000[01:10<00:00,28.34it/s]"
     ]
    },
    {
     "name": "stdout",
     "output_type": "stream",
     "text": [
      "\u001b[32m[0922 16:45:20 @base.py:285]\u001b[0m Epoch 734 (global_step 1468000) finished, time:1 minute 10 seconds.\n",
      "\u001b[32m[0922 16:45:20 @saver.py:79]\u001b[0m Model saved to ../output/LPMC/DATGAN/model\\model-1468000.\n"
     ]
    },
    {
     "name": "stderr",
     "output_type": "stream",
     "text": [
      "\n"
     ]
    },
    {
     "name": "stdout",
     "output_type": "stream",
     "text": [
      "\u001b[32m[0922 16:45:20 @monitor.py:467]\u001b[0m GAN_loss/discrim/accuracy_fake: 0.915\n",
      "\u001b[32m[0922 16:45:20 @monitor.py:467]\u001b[0m GAN_loss/discrim/accuracy_real: 0.185\n",
      "\u001b[32m[0922 16:45:20 @monitor.py:467]\u001b[0m GAN_loss/discrim/loss: 0.63507\n",
      "\u001b[32m[0922 16:45:20 @monitor.py:467]\u001b[0m GAN_loss/gen/final-g-loss: 1.3488\n",
      "\u001b[32m[0922 16:45:20 @monitor.py:467]\u001b[0m GAN_loss/gen/klloss: 0.26016\n",
      "\u001b[32m[0922 16:45:20 @monitor.py:467]\u001b[0m GAN_loss/gen/loss: 1.0886\n",
      "\u001b[32m[0922 16:45:20 @monitor.py:467]\u001b[0m QueueInput/queue_size: 50\n",
      "\u001b[32m[0922 16:45:20 @base.py:275]\u001b[0m Start Epoch 735 ...\n"
     ]
    },
    {
     "name": "stderr",
     "output_type": "stream",
     "text": [
      "100%|#################################################################################|2000/2000[01:11<00:00,28.13it/s]"
     ]
    },
    {
     "name": "stdout",
     "output_type": "stream",
     "text": [
      "\u001b[32m[0922 16:46:31 @base.py:285]\u001b[0m Epoch 735 (global_step 1470000) finished, time:1 minute 11 seconds.\n",
      "\u001b[32m[0922 16:46:31 @saver.py:79]\u001b[0m Model saved to ../output/LPMC/DATGAN/model\\model-1470000.\n"
     ]
    },
    {
     "name": "stderr",
     "output_type": "stream",
     "text": [
      "\n"
     ]
    },
    {
     "name": "stdout",
     "output_type": "stream",
     "text": [
      "\u001b[32m[0922 16:46:31 @monitor.py:467]\u001b[0m GAN_loss/discrim/accuracy_fake: 0.895\n",
      "\u001b[32m[0922 16:46:31 @monitor.py:467]\u001b[0m GAN_loss/discrim/accuracy_real: 0.195\n",
      "\u001b[32m[0922 16:46:31 @monitor.py:467]\u001b[0m GAN_loss/discrim/loss: 0.64957\n",
      "\u001b[32m[0922 16:46:31 @monitor.py:467]\u001b[0m GAN_loss/gen/final-g-loss: 1.233\n",
      "\u001b[32m[0922 16:46:31 @monitor.py:467]\u001b[0m GAN_loss/gen/klloss: 0.1807\n",
      "\u001b[32m[0922 16:46:31 @monitor.py:467]\u001b[0m GAN_loss/gen/loss: 1.0523\n",
      "\u001b[32m[0922 16:46:31 @monitor.py:467]\u001b[0m QueueInput/queue_size: 50\n",
      "\u001b[32m[0922 16:46:31 @base.py:275]\u001b[0m Start Epoch 736 ...\n"
     ]
    },
    {
     "name": "stderr",
     "output_type": "stream",
     "text": [
      "100%|#################################################################################|2000/2000[01:11<00:00,28.10it/s]"
     ]
    },
    {
     "name": "stdout",
     "output_type": "stream",
     "text": [
      "\u001b[32m[0922 16:47:42 @base.py:285]\u001b[0m Epoch 736 (global_step 1472000) finished, time:1 minute 11 seconds.\n",
      "\u001b[32m[0922 16:47:43 @saver.py:79]\u001b[0m Model saved to ../output/LPMC/DATGAN/model\\model-1472000.\n"
     ]
    },
    {
     "name": "stderr",
     "output_type": "stream",
     "text": [
      "\n"
     ]
    },
    {
     "name": "stdout",
     "output_type": "stream",
     "text": [
      "\u001b[32m[0922 16:47:43 @monitor.py:467]\u001b[0m GAN_loss/discrim/accuracy_fake: 0.885\n",
      "\u001b[32m[0922 16:47:43 @monitor.py:467]\u001b[0m GAN_loss/discrim/accuracy_real: 0.17\n",
      "\u001b[32m[0922 16:47:43 @monitor.py:467]\u001b[0m GAN_loss/discrim/loss: 0.64488\n",
      "\u001b[32m[0922 16:47:43 @monitor.py:467]\u001b[0m GAN_loss/gen/final-g-loss: 1.2993\n",
      "\u001b[32m[0922 16:47:43 @monitor.py:467]\u001b[0m GAN_loss/gen/klloss: 0.23642\n",
      "\u001b[32m[0922 16:47:43 @monitor.py:467]\u001b[0m GAN_loss/gen/loss: 1.0629\n",
      "\u001b[32m[0922 16:47:43 @monitor.py:467]\u001b[0m QueueInput/queue_size: 50\n",
      "\u001b[32m[0922 16:47:43 @base.py:275]\u001b[0m Start Epoch 737 ...\n"
     ]
    },
    {
     "name": "stderr",
     "output_type": "stream",
     "text": [
      "100%|#################################################################################|2000/2000[01:10<00:00,28.23it/s]"
     ]
    },
    {
     "name": "stdout",
     "output_type": "stream",
     "text": [
      "\u001b[32m[0922 16:48:54 @base.py:285]\u001b[0m Epoch 737 (global_step 1474000) finished, time:1 minute 10 seconds.\n",
      "\u001b[32m[0922 16:48:54 @saver.py:79]\u001b[0m Model saved to ../output/LPMC/DATGAN/model\\model-1474000.\n"
     ]
    },
    {
     "name": "stderr",
     "output_type": "stream",
     "text": [
      "\n"
     ]
    },
    {
     "name": "stdout",
     "output_type": "stream",
     "text": [
      "\u001b[32m[0922 16:48:54 @monitor.py:467]\u001b[0m GAN_loss/discrim/accuracy_fake: 0.925\n",
      "\u001b[32m[0922 16:48:54 @monitor.py:467]\u001b[0m GAN_loss/discrim/accuracy_real: 0.24\n",
      "\u001b[32m[0922 16:48:54 @monitor.py:467]\u001b[0m GAN_loss/discrim/loss: 0.63571\n",
      "\u001b[32m[0922 16:48:54 @monitor.py:467]\u001b[0m GAN_loss/gen/final-g-loss: 1.2556\n",
      "\u001b[32m[0922 16:48:54 @monitor.py:467]\u001b[0m GAN_loss/gen/klloss: 0.17102\n",
      "\u001b[32m[0922 16:48:54 @monitor.py:467]\u001b[0m GAN_loss/gen/loss: 1.0845\n",
      "\u001b[32m[0922 16:48:54 @monitor.py:467]\u001b[0m QueueInput/queue_size: 50\n",
      "\u001b[32m[0922 16:48:54 @base.py:275]\u001b[0m Start Epoch 738 ...\n"
     ]
    },
    {
     "name": "stderr",
     "output_type": "stream",
     "text": [
      "100%|#################################################################################|2000/2000[01:10<00:00,28.28it/s]"
     ]
    },
    {
     "name": "stdout",
     "output_type": "stream",
     "text": [
      "\u001b[32m[0922 16:50:04 @base.py:285]\u001b[0m Epoch 738 (global_step 1476000) finished, time:1 minute 10 seconds.\n",
      "\u001b[32m[0922 16:50:05 @saver.py:79]\u001b[0m Model saved to ../output/LPMC/DATGAN/model\\model-1476000.\n"
     ]
    },
    {
     "name": "stderr",
     "output_type": "stream",
     "text": [
      "\n"
     ]
    },
    {
     "name": "stdout",
     "output_type": "stream",
     "text": [
      "\u001b[32m[0922 16:50:05 @monitor.py:467]\u001b[0m GAN_loss/discrim/accuracy_fake: 0.905\n",
      "\u001b[32m[0922 16:50:05 @monitor.py:467]\u001b[0m GAN_loss/discrim/accuracy_real: 0.2\n",
      "\u001b[32m[0922 16:50:05 @monitor.py:467]\u001b[0m GAN_loss/discrim/loss: 0.64096\n",
      "\u001b[32m[0922 16:50:05 @monitor.py:467]\u001b[0m GAN_loss/gen/final-g-loss: 1.2403\n",
      "\u001b[32m[0922 16:50:05 @monitor.py:467]\u001b[0m GAN_loss/gen/klloss: 0.18651\n",
      "\u001b[32m[0922 16:50:05 @monitor.py:467]\u001b[0m GAN_loss/gen/loss: 1.0538\n",
      "\u001b[32m[0922 16:50:05 @monitor.py:467]\u001b[0m QueueInput/queue_size: 50\n",
      "\u001b[32m[0922 16:50:05 @base.py:275]\u001b[0m Start Epoch 739 ...\n"
     ]
    },
    {
     "name": "stderr",
     "output_type": "stream",
     "text": [
      "100%|#################################################################################|2000/2000[01:11<00:00,28.14it/s]"
     ]
    },
    {
     "name": "stdout",
     "output_type": "stream",
     "text": [
      "\u001b[32m[0922 16:51:16 @base.py:285]\u001b[0m Epoch 739 (global_step 1478000) finished, time:1 minute 11 seconds.\n",
      "\u001b[32m[0922 16:51:16 @saver.py:79]\u001b[0m Model saved to ../output/LPMC/DATGAN/model\\model-1478000.\n"
     ]
    },
    {
     "name": "stderr",
     "output_type": "stream",
     "text": [
      "\n"
     ]
    },
    {
     "name": "stdout",
     "output_type": "stream",
     "text": [
      "\u001b[32m[0922 16:51:16 @monitor.py:467]\u001b[0m GAN_loss/discrim/accuracy_fake: 0.86\n",
      "\u001b[32m[0922 16:51:16 @monitor.py:467]\u001b[0m GAN_loss/discrim/accuracy_real: 0.2\n",
      "\u001b[32m[0922 16:51:16 @monitor.py:467]\u001b[0m GAN_loss/discrim/loss: 0.64667\n",
      "\u001b[32m[0922 16:51:16 @monitor.py:467]\u001b[0m GAN_loss/gen/final-g-loss: 1.3252\n",
      "\u001b[32m[0922 16:51:16 @monitor.py:467]\u001b[0m GAN_loss/gen/klloss: 0.27929\n",
      "\u001b[32m[0922 16:51:16 @monitor.py:467]\u001b[0m GAN_loss/gen/loss: 1.0459\n",
      "\u001b[32m[0922 16:51:16 @monitor.py:467]\u001b[0m QueueInput/queue_size: 50\n",
      "\u001b[32m[0922 16:51:16 @base.py:275]\u001b[0m Start Epoch 740 ...\n"
     ]
    },
    {
     "name": "stderr",
     "output_type": "stream",
     "text": [
      "100%|#################################################################################|2000/2000[01:10<00:00,28.34it/s]"
     ]
    },
    {
     "name": "stdout",
     "output_type": "stream",
     "text": [
      "\u001b[32m[0922 16:52:27 @base.py:285]\u001b[0m Epoch 740 (global_step 1480000) finished, time:1 minute 10 seconds.\n",
      "\u001b[32m[0922 16:52:27 @saver.py:79]\u001b[0m Model saved to ../output/LPMC/DATGAN/model\\model-1480000.\n"
     ]
    },
    {
     "name": "stderr",
     "output_type": "stream",
     "text": [
      "\n"
     ]
    },
    {
     "name": "stdout",
     "output_type": "stream",
     "text": [
      "\u001b[32m[0922 16:52:27 @monitor.py:467]\u001b[0m GAN_loss/discrim/accuracy_fake: 0.865\n",
      "\u001b[32m[0922 16:52:27 @monitor.py:467]\u001b[0m GAN_loss/discrim/accuracy_real: 0.2\n",
      "\u001b[32m[0922 16:52:27 @monitor.py:467]\u001b[0m GAN_loss/discrim/loss: 0.64392\n",
      "\u001b[32m[0922 16:52:27 @monitor.py:467]\u001b[0m GAN_loss/gen/final-g-loss: 1.3361\n",
      "\u001b[32m[0922 16:52:27 @monitor.py:467]\u001b[0m GAN_loss/gen/klloss: 0.26112\n",
      "\u001b[32m[0922 16:52:27 @monitor.py:467]\u001b[0m GAN_loss/gen/loss: 1.075\n",
      "\u001b[32m[0922 16:52:27 @monitor.py:467]\u001b[0m QueueInput/queue_size: 50\n",
      "\u001b[32m[0922 16:52:27 @base.py:275]\u001b[0m Start Epoch 741 ...\n"
     ]
    },
    {
     "name": "stderr",
     "output_type": "stream",
     "text": [
      "100%|#################################################################################|2000/2000[01:11<00:00,28.09it/s]"
     ]
    },
    {
     "name": "stdout",
     "output_type": "stream",
     "text": [
      "\u001b[32m[0922 16:53:38 @base.py:285]\u001b[0m Epoch 741 (global_step 1482000) finished, time:1 minute 11 seconds.\n",
      "\u001b[32m[0922 16:53:38 @saver.py:79]\u001b[0m Model saved to ../output/LPMC/DATGAN/model\\model-1482000.\n"
     ]
    },
    {
     "name": "stderr",
     "output_type": "stream",
     "text": [
      "\n"
     ]
    },
    {
     "name": "stdout",
     "output_type": "stream",
     "text": [
      "\u001b[32m[0922 16:53:38 @monitor.py:467]\u001b[0m GAN_loss/discrim/accuracy_fake: 0.89\n",
      "\u001b[32m[0922 16:53:38 @monitor.py:467]\u001b[0m GAN_loss/discrim/accuracy_real: 0.19\n",
      "\u001b[32m[0922 16:53:38 @monitor.py:467]\u001b[0m GAN_loss/discrim/loss: 0.64617\n",
      "\u001b[32m[0922 16:53:38 @monitor.py:467]\u001b[0m GAN_loss/gen/final-g-loss: 1.2563\n",
      "\u001b[32m[0922 16:53:38 @monitor.py:467]\u001b[0m GAN_loss/gen/klloss: 0.18306\n",
      "\u001b[32m[0922 16:53:38 @monitor.py:467]\u001b[0m GAN_loss/gen/loss: 1.0733\n",
      "\u001b[32m[0922 16:53:38 @monitor.py:467]\u001b[0m QueueInput/queue_size: 50\n",
      "\u001b[32m[0922 16:53:38 @base.py:275]\u001b[0m Start Epoch 742 ...\n"
     ]
    },
    {
     "name": "stderr",
     "output_type": "stream",
     "text": [
      "100%|#################################################################################|2000/2000[01:10<00:00,28.26it/s]"
     ]
    },
    {
     "name": "stdout",
     "output_type": "stream",
     "text": [
      "\u001b[32m[0922 16:54:49 @base.py:285]\u001b[0m Epoch 742 (global_step 1484000) finished, time:1 minute 10 seconds.\n",
      "\u001b[32m[0922 16:54:49 @saver.py:79]\u001b[0m Model saved to ../output/LPMC/DATGAN/model\\model-1484000.\n"
     ]
    },
    {
     "name": "stderr",
     "output_type": "stream",
     "text": [
      "\n"
     ]
    },
    {
     "name": "stdout",
     "output_type": "stream",
     "text": [
      "\u001b[32m[0922 16:54:49 @monitor.py:467]\u001b[0m GAN_loss/discrim/accuracy_fake: 0.92\n",
      "\u001b[32m[0922 16:54:49 @monitor.py:467]\u001b[0m GAN_loss/discrim/accuracy_real: 0.205\n",
      "\u001b[32m[0922 16:54:49 @monitor.py:467]\u001b[0m GAN_loss/discrim/loss: 0.64714\n",
      "\u001b[32m[0922 16:54:49 @monitor.py:467]\u001b[0m GAN_loss/gen/final-g-loss: 1.3398\n",
      "\u001b[32m[0922 16:54:49 @monitor.py:467]\u001b[0m GAN_loss/gen/klloss: 0.27297\n",
      "\u001b[32m[0922 16:54:49 @monitor.py:467]\u001b[0m GAN_loss/gen/loss: 1.0669\n",
      "\u001b[32m[0922 16:54:49 @monitor.py:467]\u001b[0m QueueInput/queue_size: 50\n",
      "\u001b[32m[0922 16:54:49 @base.py:275]\u001b[0m Start Epoch 743 ...\n"
     ]
    },
    {
     "name": "stderr",
     "output_type": "stream",
     "text": [
      "100%|#################################################################################|2000/2000[01:10<00:00,28.36it/s]"
     ]
    },
    {
     "name": "stdout",
     "output_type": "stream",
     "text": [
      "\u001b[32m[0922 16:56:00 @base.py:285]\u001b[0m Epoch 743 (global_step 1486000) finished, time:1 minute 10 seconds.\n"
     ]
    },
    {
     "name": "stderr",
     "output_type": "stream",
     "text": [
      "\n"
     ]
    },
    {
     "name": "stdout",
     "output_type": "stream",
     "text": [
      "\u001b[32m[0922 16:56:00 @saver.py:79]\u001b[0m Model saved to ../output/LPMC/DATGAN/model\\model-1486000.\n",
      "\u001b[32m[0922 16:56:00 @monitor.py:467]\u001b[0m GAN_loss/discrim/accuracy_fake: 0.91\n",
      "\u001b[32m[0922 16:56:00 @monitor.py:467]\u001b[0m GAN_loss/discrim/accuracy_real: 0.15\n",
      "\u001b[32m[0922 16:56:00 @monitor.py:467]\u001b[0m GAN_loss/discrim/loss: 0.65598\n",
      "\u001b[32m[0922 16:56:00 @monitor.py:467]\u001b[0m GAN_loss/gen/final-g-loss: 1.2428\n",
      "\u001b[32m[0922 16:56:00 @monitor.py:467]\u001b[0m GAN_loss/gen/klloss: 0.18518\n",
      "\u001b[32m[0922 16:56:00 @monitor.py:467]\u001b[0m GAN_loss/gen/loss: 1.0576\n",
      "\u001b[32m[0922 16:56:00 @monitor.py:467]\u001b[0m QueueInput/queue_size: 50\n",
      "\u001b[32m[0922 16:56:00 @base.py:275]\u001b[0m Start Epoch 744 ...\n"
     ]
    },
    {
     "name": "stderr",
     "output_type": "stream",
     "text": [
      "100%|#################################################################################|2000/2000[01:10<00:00,28.21it/s]"
     ]
    },
    {
     "name": "stdout",
     "output_type": "stream",
     "text": [
      "\u001b[32m[0922 16:57:11 @base.py:285]\u001b[0m Epoch 744 (global_step 1488000) finished, time:1 minute 10 seconds.\n",
      "\u001b[32m[0922 16:57:11 @saver.py:79]\u001b[0m Model saved to ../output/LPMC/DATGAN/model\\model-1488000.\n"
     ]
    },
    {
     "name": "stderr",
     "output_type": "stream",
     "text": [
      "\n"
     ]
    },
    {
     "name": "stdout",
     "output_type": "stream",
     "text": [
      "\u001b[32m[0922 16:57:11 @monitor.py:467]\u001b[0m GAN_loss/discrim/accuracy_fake: 0.9\n",
      "\u001b[32m[0922 16:57:11 @monitor.py:467]\u001b[0m GAN_loss/discrim/accuracy_real: 0.225\n",
      "\u001b[32m[0922 16:57:11 @monitor.py:467]\u001b[0m GAN_loss/discrim/loss: 0.63568\n",
      "\u001b[32m[0922 16:57:11 @monitor.py:467]\u001b[0m GAN_loss/gen/final-g-loss: 1.224\n",
      "\u001b[32m[0922 16:57:11 @monitor.py:467]\u001b[0m GAN_loss/gen/klloss: 0.16156\n",
      "\u001b[32m[0922 16:57:11 @monitor.py:467]\u001b[0m GAN_loss/gen/loss: 1.0625\n",
      "\u001b[32m[0922 16:57:11 @monitor.py:467]\u001b[0m QueueInput/queue_size: 50\n",
      "\u001b[32m[0922 16:57:11 @base.py:275]\u001b[0m Start Epoch 745 ...\n"
     ]
    },
    {
     "name": "stderr",
     "output_type": "stream",
     "text": [
      "100%|#################################################################################|2000/2000[01:10<00:00,28.28it/s]"
     ]
    },
    {
     "name": "stdout",
     "output_type": "stream",
     "text": [
      "\u001b[32m[0922 16:58:22 @base.py:285]\u001b[0m Epoch 745 (global_step 1490000) finished, time:1 minute 10 seconds.\n"
     ]
    },
    {
     "name": "stderr",
     "output_type": "stream",
     "text": [
      "\n"
     ]
    },
    {
     "name": "stdout",
     "output_type": "stream",
     "text": [
      "\u001b[32m[0922 16:58:22 @saver.py:79]\u001b[0m Model saved to ../output/LPMC/DATGAN/model\\model-1490000.\n",
      "\u001b[32m[0922 16:58:22 @monitor.py:467]\u001b[0m GAN_loss/discrim/accuracy_fake: 0.91\n",
      "\u001b[32m[0922 16:58:22 @monitor.py:467]\u001b[0m GAN_loss/discrim/accuracy_real: 0.22\n",
      "\u001b[32m[0922 16:58:22 @monitor.py:467]\u001b[0m GAN_loss/discrim/loss: 0.63069\n",
      "\u001b[32m[0922 16:58:22 @monitor.py:467]\u001b[0m GAN_loss/gen/final-g-loss: 1.2211\n",
      "\u001b[32m[0922 16:58:22 @monitor.py:467]\u001b[0m GAN_loss/gen/klloss: 0.13858\n",
      "\u001b[32m[0922 16:58:22 @monitor.py:467]\u001b[0m GAN_loss/gen/loss: 1.0825\n",
      "\u001b[32m[0922 16:58:22 @monitor.py:467]\u001b[0m QueueInput/queue_size: 50\n",
      "\u001b[32m[0922 16:58:22 @base.py:275]\u001b[0m Start Epoch 746 ...\n"
     ]
    },
    {
     "name": "stderr",
     "output_type": "stream",
     "text": [
      "100%|#################################################################################|2000/2000[01:11<00:00,28.12it/s]"
     ]
    },
    {
     "name": "stdout",
     "output_type": "stream",
     "text": [
      "\u001b[32m[0922 16:59:33 @base.py:285]\u001b[0m Epoch 746 (global_step 1492000) finished, time:1 minute 11 seconds.\n",
      "\u001b[32m[0922 16:59:33 @saver.py:79]\u001b[0m Model saved to ../output/LPMC/DATGAN/model\\model-1492000.\n"
     ]
    },
    {
     "name": "stderr",
     "output_type": "stream",
     "text": [
      "\n"
     ]
    },
    {
     "name": "stdout",
     "output_type": "stream",
     "text": [
      "\u001b[32m[0922 16:59:33 @monitor.py:467]\u001b[0m GAN_loss/discrim/accuracy_fake: 0.87\n",
      "\u001b[32m[0922 16:59:33 @monitor.py:467]\u001b[0m GAN_loss/discrim/accuracy_real: 0.195\n",
      "\u001b[32m[0922 16:59:33 @monitor.py:467]\u001b[0m GAN_loss/discrim/loss: 0.64663\n",
      "\u001b[32m[0922 16:59:33 @monitor.py:467]\u001b[0m GAN_loss/gen/final-g-loss: 1.285\n",
      "\u001b[32m[0922 16:59:33 @monitor.py:467]\u001b[0m GAN_loss/gen/klloss: 0.23844\n",
      "\u001b[32m[0922 16:59:33 @monitor.py:467]\u001b[0m GAN_loss/gen/loss: 1.0465\n",
      "\u001b[32m[0922 16:59:33 @monitor.py:467]\u001b[0m QueueInput/queue_size: 50\n",
      "\u001b[32m[0922 16:59:33 @base.py:275]\u001b[0m Start Epoch 747 ...\n"
     ]
    },
    {
     "name": "stderr",
     "output_type": "stream",
     "text": [
      "100%|#################################################################################|2000/2000[01:11<00:00,28.13it/s]"
     ]
    },
    {
     "name": "stdout",
     "output_type": "stream",
     "text": [
      "\u001b[32m[0922 17:00:44 @base.py:285]\u001b[0m Epoch 747 (global_step 1494000) finished, time:1 minute 11 seconds.\n",
      "\u001b[32m[0922 17:00:45 @saver.py:79]\u001b[0m Model saved to ../output/LPMC/DATGAN/model\\model-1494000.\n"
     ]
    },
    {
     "name": "stderr",
     "output_type": "stream",
     "text": [
      "\n"
     ]
    },
    {
     "name": "stdout",
     "output_type": "stream",
     "text": [
      "\u001b[32m[0922 17:00:45 @monitor.py:467]\u001b[0m GAN_loss/discrim/accuracy_fake: 0.955\n",
      "\u001b[32m[0922 17:00:45 @monitor.py:467]\u001b[0m GAN_loss/discrim/accuracy_real: 0.18\n",
      "\u001b[32m[0922 17:00:45 @monitor.py:467]\u001b[0m GAN_loss/discrim/loss: 0.63012\n",
      "\u001b[32m[0922 17:00:45 @monitor.py:467]\u001b[0m GAN_loss/gen/final-g-loss: 1.2895\n",
      "\u001b[32m[0922 17:00:45 @monitor.py:467]\u001b[0m GAN_loss/gen/klloss: 0.18384\n",
      "\u001b[32m[0922 17:00:45 @monitor.py:467]\u001b[0m GAN_loss/gen/loss: 1.1057\n",
      "\u001b[32m[0922 17:00:45 @monitor.py:467]\u001b[0m QueueInput/queue_size: 50\n",
      "\u001b[32m[0922 17:00:45 @base.py:275]\u001b[0m Start Epoch 748 ...\n"
     ]
    },
    {
     "name": "stderr",
     "output_type": "stream",
     "text": [
      "100%|#################################################################################|2000/2000[01:10<00:00,28.29it/s]"
     ]
    },
    {
     "name": "stdout",
     "output_type": "stream",
     "text": [
      "\u001b[32m[0922 17:01:55 @base.py:285]\u001b[0m Epoch 748 (global_step 1496000) finished, time:1 minute 10 seconds.\n",
      "\u001b[32m[0922 17:01:55 @saver.py:79]\u001b[0m Model saved to ../output/LPMC/DATGAN/model\\model-1496000.\n"
     ]
    },
    {
     "name": "stderr",
     "output_type": "stream",
     "text": [
      "\n"
     ]
    },
    {
     "name": "stdout",
     "output_type": "stream",
     "text": [
      "\u001b[32m[0922 17:01:56 @monitor.py:467]\u001b[0m GAN_loss/discrim/accuracy_fake: 0.89\n",
      "\u001b[32m[0922 17:01:56 @monitor.py:467]\u001b[0m GAN_loss/discrim/accuracy_real: 0.21\n",
      "\u001b[32m[0922 17:01:56 @monitor.py:467]\u001b[0m GAN_loss/discrim/loss: 0.62875\n",
      "\u001b[32m[0922 17:01:56 @monitor.py:467]\u001b[0m GAN_loss/gen/final-g-loss: 1.3674\n",
      "\u001b[32m[0922 17:01:56 @monitor.py:467]\u001b[0m GAN_loss/gen/klloss: 0.29971\n",
      "\u001b[32m[0922 17:01:56 @monitor.py:467]\u001b[0m GAN_loss/gen/loss: 1.0677\n",
      "\u001b[32m[0922 17:01:56 @monitor.py:467]\u001b[0m QueueInput/queue_size: 50\n",
      "\u001b[32m[0922 17:01:56 @base.py:275]\u001b[0m Start Epoch 749 ...\n"
     ]
    },
    {
     "name": "stderr",
     "output_type": "stream",
     "text": [
      "100%|#################################################################################|2000/2000[01:10<00:00,28.29it/s]"
     ]
    },
    {
     "name": "stdout",
     "output_type": "stream",
     "text": [
      "\u001b[32m[0922 17:03:06 @base.py:285]\u001b[0m Epoch 749 (global_step 1498000) finished, time:1 minute 10 seconds.\n",
      "\u001b[32m[0922 17:03:06 @saver.py:79]\u001b[0m Model saved to ../output/LPMC/DATGAN/model\\model-1498000.\n"
     ]
    },
    {
     "name": "stderr",
     "output_type": "stream",
     "text": [
      "\n"
     ]
    },
    {
     "name": "stdout",
     "output_type": "stream",
     "text": [
      "\u001b[32m[0922 17:03:07 @monitor.py:467]\u001b[0m GAN_loss/discrim/accuracy_fake: 0.89\n",
      "\u001b[32m[0922 17:03:07 @monitor.py:467]\u001b[0m GAN_loss/discrim/accuracy_real: 0.175\n",
      "\u001b[32m[0922 17:03:07 @monitor.py:467]\u001b[0m GAN_loss/discrim/loss: 0.64535\n",
      "\u001b[32m[0922 17:03:07 @monitor.py:467]\u001b[0m GAN_loss/gen/final-g-loss: 1.228\n",
      "\u001b[32m[0922 17:03:07 @monitor.py:467]\u001b[0m GAN_loss/gen/klloss: 0.16979\n",
      "\u001b[32m[0922 17:03:07 @monitor.py:467]\u001b[0m GAN_loss/gen/loss: 1.0582\n",
      "\u001b[32m[0922 17:03:07 @monitor.py:467]\u001b[0m QueueInput/queue_size: 50\n",
      "\u001b[32m[0922 17:03:07 @base.py:275]\u001b[0m Start Epoch 750 ...\n"
     ]
    },
    {
     "name": "stderr",
     "output_type": "stream",
     "text": [
      "100%|#################################################################################|2000/2000[01:11<00:00,28.14it/s]"
     ]
    },
    {
     "name": "stdout",
     "output_type": "stream",
     "text": [
      "\u001b[32m[0922 17:04:18 @base.py:285]\u001b[0m Epoch 750 (global_step 1500000) finished, time:1 minute 11 seconds.\n",
      "\u001b[32m[0922 17:04:18 @saver.py:79]\u001b[0m Model saved to ../output/LPMC/DATGAN/model\\model-1500000.\n"
     ]
    },
    {
     "name": "stderr",
     "output_type": "stream",
     "text": [
      "\n"
     ]
    },
    {
     "name": "stdout",
     "output_type": "stream",
     "text": [
      "\u001b[32m[0922 17:04:18 @monitor.py:467]\u001b[0m GAN_loss/discrim/accuracy_fake: 0.855\n",
      "\u001b[32m[0922 17:04:18 @monitor.py:467]\u001b[0m GAN_loss/discrim/accuracy_real: 0.16\n",
      "\u001b[32m[0922 17:04:18 @monitor.py:467]\u001b[0m GAN_loss/discrim/loss: 0.65378\n",
      "\u001b[32m[0922 17:04:18 @monitor.py:467]\u001b[0m GAN_loss/gen/final-g-loss: 1.2747\n",
      "\u001b[32m[0922 17:04:18 @monitor.py:467]\u001b[0m GAN_loss/gen/klloss: 0.21628\n",
      "\u001b[32m[0922 17:04:18 @monitor.py:467]\u001b[0m GAN_loss/gen/loss: 1.0584\n",
      "\u001b[32m[0922 17:04:18 @monitor.py:467]\u001b[0m QueueInput/queue_size: 50\n",
      "\u001b[32m[0922 17:04:18 @base.py:275]\u001b[0m Start Epoch 751 ...\n"
     ]
    },
    {
     "name": "stderr",
     "output_type": "stream",
     "text": [
      "100%|#################################################################################|2000/2000[01:10<00:00,28.29it/s]"
     ]
    },
    {
     "name": "stdout",
     "output_type": "stream",
     "text": [
      "\u001b[32m[0922 17:05:29 @base.py:285]\u001b[0m Epoch 751 (global_step 1502000) finished, time:1 minute 10 seconds.\n",
      "\u001b[32m[0922 17:05:29 @saver.py:79]\u001b[0m Model saved to ../output/LPMC/DATGAN/model\\model-1502000.\n"
     ]
    },
    {
     "name": "stderr",
     "output_type": "stream",
     "text": [
      "\n"
     ]
    },
    {
     "name": "stdout",
     "output_type": "stream",
     "text": [
      "\u001b[32m[0922 17:05:29 @monitor.py:467]\u001b[0m GAN_loss/discrim/accuracy_fake: 0.895\n",
      "\u001b[32m[0922 17:05:29 @monitor.py:467]\u001b[0m GAN_loss/discrim/accuracy_real: 0.21\n",
      "\u001b[32m[0922 17:05:29 @monitor.py:467]\u001b[0m GAN_loss/discrim/loss: 0.65097\n",
      "\u001b[32m[0922 17:05:29 @monitor.py:467]\u001b[0m GAN_loss/gen/final-g-loss: 1.3585\n",
      "\u001b[32m[0922 17:05:29 @monitor.py:467]\u001b[0m GAN_loss/gen/klloss: 0.30089\n",
      "\u001b[32m[0922 17:05:29 @monitor.py:467]\u001b[0m GAN_loss/gen/loss: 1.0576\n",
      "\u001b[32m[0922 17:05:29 @monitor.py:467]\u001b[0m QueueInput/queue_size: 50\n",
      "\u001b[32m[0922 17:05:29 @base.py:275]\u001b[0m Start Epoch 752 ...\n"
     ]
    },
    {
     "name": "stderr",
     "output_type": "stream",
     "text": [
      "100%|#################################################################################|2000/2000[01:10<00:00,28.19it/s]"
     ]
    },
    {
     "name": "stdout",
     "output_type": "stream",
     "text": [
      "\u001b[32m[0922 17:06:40 @base.py:285]\u001b[0m Epoch 752 (global_step 1504000) finished, time:1 minute 10 seconds.\n",
      "\u001b[32m[0922 17:06:40 @saver.py:79]\u001b[0m Model saved to ../output/LPMC/DATGAN/model\\model-1504000.\n"
     ]
    },
    {
     "name": "stderr",
     "output_type": "stream",
     "text": [
      "\n"
     ]
    },
    {
     "name": "stdout",
     "output_type": "stream",
     "text": [
      "\u001b[32m[0922 17:06:40 @monitor.py:467]\u001b[0m GAN_loss/discrim/accuracy_fake: 0.885\n",
      "\u001b[32m[0922 17:06:40 @monitor.py:467]\u001b[0m GAN_loss/discrim/accuracy_real: 0.2\n",
      "\u001b[32m[0922 17:06:40 @monitor.py:467]\u001b[0m GAN_loss/discrim/loss: 0.63634\n",
      "\u001b[32m[0922 17:06:40 @monitor.py:467]\u001b[0m GAN_loss/gen/final-g-loss: 1.5804\n",
      "\u001b[32m[0922 17:06:40 @monitor.py:467]\u001b[0m GAN_loss/gen/klloss: 0.5004\n",
      "\u001b[32m[0922 17:06:40 @monitor.py:467]\u001b[0m GAN_loss/gen/loss: 1.08\n",
      "\u001b[32m[0922 17:06:40 @monitor.py:467]\u001b[0m QueueInput/queue_size: 50\n",
      "\u001b[32m[0922 17:06:40 @base.py:275]\u001b[0m Start Epoch 753 ...\n"
     ]
    },
    {
     "name": "stderr",
     "output_type": "stream",
     "text": [
      "100%|#################################################################################|2000/2000[01:12<00:00,27.67it/s]"
     ]
    },
    {
     "name": "stdout",
     "output_type": "stream",
     "text": [
      "\u001b[32m[0922 17:07:52 @base.py:285]\u001b[0m Epoch 753 (global_step 1506000) finished, time:1 minute 12 seconds.\n",
      "\u001b[32m[0922 17:07:52 @saver.py:79]\u001b[0m Model saved to ../output/LPMC/DATGAN/model\\model-1506000.\n"
     ]
    },
    {
     "name": "stderr",
     "output_type": "stream",
     "text": [
      "\n"
     ]
    },
    {
     "name": "stdout",
     "output_type": "stream",
     "text": [
      "\u001b[32m[0922 17:07:53 @monitor.py:467]\u001b[0m GAN_loss/discrim/accuracy_fake: 0.865\n",
      "\u001b[32m[0922 17:07:53 @monitor.py:467]\u001b[0m GAN_loss/discrim/accuracy_real: 0.19\n",
      "\u001b[32m[0922 17:07:53 @monitor.py:467]\u001b[0m GAN_loss/discrim/loss: 0.63967\n",
      "\u001b[32m[0922 17:07:53 @monitor.py:467]\u001b[0m GAN_loss/gen/final-g-loss: 1.3142\n",
      "\u001b[32m[0922 17:07:53 @monitor.py:467]\u001b[0m GAN_loss/gen/klloss: 0.2429\n",
      "\u001b[32m[0922 17:07:53 @monitor.py:467]\u001b[0m GAN_loss/gen/loss: 1.0713\n",
      "\u001b[32m[0922 17:07:53 @monitor.py:467]\u001b[0m QueueInput/queue_size: 50\n",
      "\u001b[32m[0922 17:07:53 @base.py:275]\u001b[0m Start Epoch 754 ...\n"
     ]
    },
    {
     "name": "stderr",
     "output_type": "stream",
     "text": [
      "100%|#################################################################################|2000/2000[01:11<00:00,27.96it/s]"
     ]
    },
    {
     "name": "stdout",
     "output_type": "stream",
     "text": [
      "\u001b[32m[0922 17:09:04 @base.py:285]\u001b[0m Epoch 754 (global_step 1508000) finished, time:1 minute 11 seconds.\n",
      "\u001b[32m[0922 17:09:04 @saver.py:79]\u001b[0m Model saved to ../output/LPMC/DATGAN/model\\model-1508000.\n"
     ]
    },
    {
     "name": "stderr",
     "output_type": "stream",
     "text": [
      "\n"
     ]
    },
    {
     "name": "stdout",
     "output_type": "stream",
     "text": [
      "\u001b[32m[0922 17:09:04 @monitor.py:467]\u001b[0m GAN_loss/discrim/accuracy_fake: 0.865\n",
      "\u001b[32m[0922 17:09:04 @monitor.py:467]\u001b[0m GAN_loss/discrim/accuracy_real: 0.22\n",
      "\u001b[32m[0922 17:09:04 @monitor.py:467]\u001b[0m GAN_loss/discrim/loss: 0.64506\n",
      "\u001b[32m[0922 17:09:04 @monitor.py:467]\u001b[0m GAN_loss/gen/final-g-loss: 1.2404\n",
      "\u001b[32m[0922 17:09:04 @monitor.py:467]\u001b[0m GAN_loss/gen/klloss: 0.18431\n",
      "\u001b[32m[0922 17:09:04 @monitor.py:467]\u001b[0m GAN_loss/gen/loss: 1.0561\n",
      "\u001b[32m[0922 17:09:04 @monitor.py:467]\u001b[0m QueueInput/queue_size: 50\n",
      "\u001b[32m[0922 17:09:04 @base.py:275]\u001b[0m Start Epoch 755 ...\n"
     ]
    },
    {
     "name": "stderr",
     "output_type": "stream",
     "text": [
      "100%|#################################################################################|2000/2000[01:13<00:00,27.31it/s]"
     ]
    },
    {
     "name": "stdout",
     "output_type": "stream",
     "text": [
      "\u001b[32m[0922 17:10:17 @base.py:285]\u001b[0m Epoch 755 (global_step 1510000) finished, time:1 minute 13 seconds.\n",
      "\u001b[32m[0922 17:10:18 @saver.py:79]\u001b[0m Model saved to ../output/LPMC/DATGAN/model\\model-1510000.\n"
     ]
    },
    {
     "name": "stderr",
     "output_type": "stream",
     "text": [
      "\n"
     ]
    },
    {
     "name": "stdout",
     "output_type": "stream",
     "text": [
      "\u001b[32m[0922 17:10:18 @monitor.py:467]\u001b[0m GAN_loss/discrim/accuracy_fake: 0.895\n",
      "\u001b[32m[0922 17:10:18 @monitor.py:467]\u001b[0m GAN_loss/discrim/accuracy_real: 0.215\n",
      "\u001b[32m[0922 17:10:18 @monitor.py:467]\u001b[0m GAN_loss/discrim/loss: 0.63101\n",
      "\u001b[32m[0922 17:10:18 @monitor.py:467]\u001b[0m GAN_loss/gen/final-g-loss: 1.3476\n",
      "\u001b[32m[0922 17:10:18 @monitor.py:467]\u001b[0m GAN_loss/gen/klloss: 0.26641\n",
      "\u001b[32m[0922 17:10:18 @monitor.py:467]\u001b[0m GAN_loss/gen/loss: 1.0812\n",
      "\u001b[32m[0922 17:10:18 @monitor.py:467]\u001b[0m QueueInput/queue_size: 50\n",
      "\u001b[32m[0922 17:10:18 @base.py:275]\u001b[0m Start Epoch 756 ...\n"
     ]
    },
    {
     "name": "stderr",
     "output_type": "stream",
     "text": [
      "100%|#################################################################################|2000/2000[01:11<00:00,28.08it/s]"
     ]
    },
    {
     "name": "stdout",
     "output_type": "stream",
     "text": [
      "\u001b[32m[0922 17:11:29 @base.py:285]\u001b[0m Epoch 756 (global_step 1512000) finished, time:1 minute 11 seconds.\n"
     ]
    },
    {
     "name": "stderr",
     "output_type": "stream",
     "text": [
      "\n"
     ]
    },
    {
     "name": "stdout",
     "output_type": "stream",
     "text": [
      "\u001b[32m[0922 17:11:29 @saver.py:79]\u001b[0m Model saved to ../output/LPMC/DATGAN/model\\model-1512000.\n",
      "\u001b[32m[0922 17:11:29 @monitor.py:467]\u001b[0m GAN_loss/discrim/accuracy_fake: 0.86\n",
      "\u001b[32m[0922 17:11:29 @monitor.py:467]\u001b[0m GAN_loss/discrim/accuracy_real: 0.21\n",
      "\u001b[32m[0922 17:11:29 @monitor.py:467]\u001b[0m GAN_loss/discrim/loss: 0.65459\n",
      "\u001b[32m[0922 17:11:29 @monitor.py:467]\u001b[0m GAN_loss/gen/final-g-loss: 1.305\n",
      "\u001b[32m[0922 17:11:29 @monitor.py:467]\u001b[0m GAN_loss/gen/klloss: 0.25827\n",
      "\u001b[32m[0922 17:11:29 @monitor.py:467]\u001b[0m GAN_loss/gen/loss: 1.0467\n",
      "\u001b[32m[0922 17:11:29 @monitor.py:467]\u001b[0m QueueInput/queue_size: 50\n",
      "\u001b[32m[0922 17:11:29 @base.py:275]\u001b[0m Start Epoch 757 ...\n"
     ]
    },
    {
     "name": "stderr",
     "output_type": "stream",
     "text": [
      "100%|#################################################################################|2000/2000[01:11<00:00,28.13it/s]"
     ]
    },
    {
     "name": "stdout",
     "output_type": "stream",
     "text": [
      "\u001b[32m[0922 17:12:40 @base.py:285]\u001b[0m Epoch 757 (global_step 1514000) finished, time:1 minute 11 seconds.\n",
      "\u001b[32m[0922 17:12:40 @saver.py:79]\u001b[0m Model saved to ../output/LPMC/DATGAN/model\\model-1514000.\n"
     ]
    },
    {
     "name": "stderr",
     "output_type": "stream",
     "text": [
      "\n"
     ]
    },
    {
     "name": "stdout",
     "output_type": "stream",
     "text": [
      "\u001b[32m[0922 17:12:40 @monitor.py:467]\u001b[0m GAN_loss/discrim/accuracy_fake: 0.895\n",
      "\u001b[32m[0922 17:12:40 @monitor.py:467]\u001b[0m GAN_loss/discrim/accuracy_real: 0.145\n",
      "\u001b[32m[0922 17:12:40 @monitor.py:467]\u001b[0m GAN_loss/discrim/loss: 0.6444\n",
      "\u001b[32m[0922 17:12:40 @monitor.py:467]\u001b[0m GAN_loss/gen/final-g-loss: 1.3002\n",
      "\u001b[32m[0922 17:12:40 @monitor.py:467]\u001b[0m GAN_loss/gen/klloss: 0.21846\n",
      "\u001b[32m[0922 17:12:40 @monitor.py:467]\u001b[0m GAN_loss/gen/loss: 1.0817\n",
      "\u001b[32m[0922 17:12:40 @monitor.py:467]\u001b[0m QueueInput/queue_size: 50\n",
      "\u001b[32m[0922 17:12:40 @base.py:275]\u001b[0m Start Epoch 758 ...\n"
     ]
    },
    {
     "name": "stderr",
     "output_type": "stream",
     "text": [
      "100%|#################################################################################|2000/2000[01:11<00:00,27.82it/s]"
     ]
    },
    {
     "name": "stdout",
     "output_type": "stream",
     "text": [
      "\u001b[32m[0922 17:13:52 @base.py:285]\u001b[0m Epoch 758 (global_step 1516000) finished, time:1 minute 11 seconds.\n",
      "\u001b[32m[0922 17:13:52 @saver.py:79]\u001b[0m Model saved to ../output/LPMC/DATGAN/model\\model-1516000.\n"
     ]
    },
    {
     "name": "stderr",
     "output_type": "stream",
     "text": [
      "\n"
     ]
    },
    {
     "name": "stdout",
     "output_type": "stream",
     "text": [
      "\u001b[32m[0922 17:13:53 @monitor.py:467]\u001b[0m GAN_loss/discrim/accuracy_fake: 0.915\n",
      "\u001b[32m[0922 17:13:53 @monitor.py:467]\u001b[0m GAN_loss/discrim/accuracy_real: 0.175\n",
      "\u001b[32m[0922 17:13:53 @monitor.py:467]\u001b[0m GAN_loss/discrim/loss: 0.6394\n",
      "\u001b[32m[0922 17:13:53 @monitor.py:467]\u001b[0m GAN_loss/gen/final-g-loss: 1.3148\n",
      "\u001b[32m[0922 17:13:53 @monitor.py:467]\u001b[0m GAN_loss/gen/klloss: 0.23951\n",
      "\u001b[32m[0922 17:13:53 @monitor.py:467]\u001b[0m GAN_loss/gen/loss: 1.0753\n",
      "\u001b[32m[0922 17:13:53 @monitor.py:467]\u001b[0m QueueInput/queue_size: 50\n",
      "\u001b[32m[0922 17:13:53 @base.py:275]\u001b[0m Start Epoch 759 ...\n"
     ]
    },
    {
     "name": "stderr",
     "output_type": "stream",
     "text": [
      "100%|#################################################################################|2000/2000[01:12<00:00,27.71it/s]"
     ]
    },
    {
     "name": "stdout",
     "output_type": "stream",
     "text": [
      "\u001b[32m[0922 17:15:05 @base.py:285]\u001b[0m Epoch 759 (global_step 1518000) finished, time:1 minute 12 seconds.\n"
     ]
    },
    {
     "name": "stderr",
     "output_type": "stream",
     "text": [
      "\n"
     ]
    },
    {
     "name": "stdout",
     "output_type": "stream",
     "text": [
      "\u001b[32m[0922 17:15:05 @saver.py:79]\u001b[0m Model saved to ../output/LPMC/DATGAN/model\\model-1518000.\n",
      "\u001b[32m[0922 17:15:05 @monitor.py:467]\u001b[0m GAN_loss/discrim/accuracy_fake: 0.87\n",
      "\u001b[32m[0922 17:15:05 @monitor.py:467]\u001b[0m GAN_loss/discrim/accuracy_real: 0.235\n",
      "\u001b[32m[0922 17:15:05 @monitor.py:467]\u001b[0m GAN_loss/discrim/loss: 0.63901\n",
      "\u001b[32m[0922 17:15:05 @monitor.py:467]\u001b[0m GAN_loss/gen/final-g-loss: 1.1917\n",
      "\u001b[32m[0922 17:15:05 @monitor.py:467]\u001b[0m GAN_loss/gen/klloss: 0.14914\n",
      "\u001b[32m[0922 17:15:05 @monitor.py:467]\u001b[0m GAN_loss/gen/loss: 1.0425\n",
      "\u001b[32m[0922 17:15:05 @monitor.py:467]\u001b[0m QueueInput/queue_size: 50\n",
      "\u001b[32m[0922 17:15:05 @base.py:275]\u001b[0m Start Epoch 760 ...\n"
     ]
    },
    {
     "name": "stderr",
     "output_type": "stream",
     "text": [
      "100%|#################################################################################|2000/2000[01:13<00:00,27.33it/s]"
     ]
    },
    {
     "name": "stdout",
     "output_type": "stream",
     "text": [
      "\u001b[32m[0922 17:16:18 @base.py:285]\u001b[0m Epoch 760 (global_step 1520000) finished, time:1 minute 13 seconds.\n",
      "\u001b[32m[0922 17:16:18 @saver.py:79]\u001b[0m Model saved to ../output/LPMC/DATGAN/model\\model-1520000.\n"
     ]
    },
    {
     "name": "stderr",
     "output_type": "stream",
     "text": [
      "\n"
     ]
    },
    {
     "name": "stdout",
     "output_type": "stream",
     "text": [
      "\u001b[32m[0922 17:16:18 @monitor.py:467]\u001b[0m GAN_loss/discrim/accuracy_fake: 0.89\n",
      "\u001b[32m[0922 17:16:18 @monitor.py:467]\u001b[0m GAN_loss/discrim/accuracy_real: 0.25\n",
      "\u001b[32m[0922 17:16:18 @monitor.py:467]\u001b[0m GAN_loss/discrim/loss: 0.63639\n",
      "\u001b[32m[0922 17:16:18 @monitor.py:467]\u001b[0m GAN_loss/gen/final-g-loss: 1.3469\n",
      "\u001b[32m[0922 17:16:18 @monitor.py:467]\u001b[0m GAN_loss/gen/klloss: 0.27004\n",
      "\u001b[32m[0922 17:16:18 @monitor.py:467]\u001b[0m GAN_loss/gen/loss: 1.0769\n",
      "\u001b[32m[0922 17:16:18 @monitor.py:467]\u001b[0m QueueInput/queue_size: 50\n",
      "\u001b[32m[0922 17:16:18 @base.py:275]\u001b[0m Start Epoch 761 ...\n"
     ]
    },
    {
     "name": "stderr",
     "output_type": "stream",
     "text": [
      "100%|#################################################################################|2000/2000[01:12<00:00,27.55it/s]"
     ]
    },
    {
     "name": "stdout",
     "output_type": "stream",
     "text": [
      "\u001b[32m[0922 17:17:31 @base.py:285]\u001b[0m Epoch 761 (global_step 1522000) finished, time:1 minute 12 seconds.\n",
      "\u001b[32m[0922 17:17:31 @saver.py:79]\u001b[0m Model saved to ../output/LPMC/DATGAN/model\\model-1522000.\n"
     ]
    },
    {
     "name": "stderr",
     "output_type": "stream",
     "text": [
      "\n"
     ]
    },
    {
     "name": "stdout",
     "output_type": "stream",
     "text": [
      "\u001b[32m[0922 17:17:31 @monitor.py:467]\u001b[0m GAN_loss/discrim/accuracy_fake: 0.87\n",
      "\u001b[32m[0922 17:17:31 @monitor.py:467]\u001b[0m GAN_loss/discrim/accuracy_real: 0.19\n",
      "\u001b[32m[0922 17:17:31 @monitor.py:467]\u001b[0m GAN_loss/discrim/loss: 0.65384\n",
      "\u001b[32m[0922 17:17:31 @monitor.py:467]\u001b[0m GAN_loss/gen/final-g-loss: 1.5815\n",
      "\u001b[32m[0922 17:17:31 @monitor.py:467]\u001b[0m GAN_loss/gen/klloss: 0.54211\n",
      "\u001b[32m[0922 17:17:31 @monitor.py:467]\u001b[0m GAN_loss/gen/loss: 1.0394\n",
      "\u001b[32m[0922 17:17:31 @monitor.py:467]\u001b[0m QueueInput/queue_size: 50\n",
      "\u001b[32m[0922 17:17:31 @base.py:275]\u001b[0m Start Epoch 762 ...\n"
     ]
    },
    {
     "name": "stderr",
     "output_type": "stream",
     "text": [
      "100%|#################################################################################|2000/2000[01:58<00:00,16.82it/s]"
     ]
    },
    {
     "name": "stdout",
     "output_type": "stream",
     "text": [
      "\u001b[32m[0922 17:19:30 @base.py:285]\u001b[0m Epoch 762 (global_step 1524000) finished, time:1 minute 58 seconds.\n"
     ]
    },
    {
     "name": "stderr",
     "output_type": "stream",
     "text": [
      "\n"
     ]
    },
    {
     "name": "stdout",
     "output_type": "stream",
     "text": [
      "\u001b[32m[0922 17:19:30 @saver.py:79]\u001b[0m Model saved to ../output/LPMC/DATGAN/model\\model-1524000.\n",
      "\u001b[32m[0922 17:19:30 @monitor.py:467]\u001b[0m GAN_loss/discrim/accuracy_fake: 0.895\n",
      "\u001b[32m[0922 17:19:30 @monitor.py:467]\u001b[0m GAN_loss/discrim/accuracy_real: 0.165\n",
      "\u001b[32m[0922 17:19:30 @monitor.py:467]\u001b[0m GAN_loss/discrim/loss: 0.6519\n",
      "\u001b[32m[0922 17:19:30 @monitor.py:467]\u001b[0m GAN_loss/gen/final-g-loss: 1.2668\n",
      "\u001b[32m[0922 17:19:30 @monitor.py:467]\u001b[0m GAN_loss/gen/klloss: 0.212\n",
      "\u001b[32m[0922 17:19:30 @monitor.py:467]\u001b[0m GAN_loss/gen/loss: 1.0548\n",
      "\u001b[32m[0922 17:19:30 @monitor.py:467]\u001b[0m QueueInput/queue_size: 50\n",
      "\u001b[32m[0922 17:19:30 @base.py:275]\u001b[0m Start Epoch 763 ...\n"
     ]
    },
    {
     "name": "stderr",
     "output_type": "stream",
     "text": [
      "100%|#################################################################################|2000/2000[01:25<00:00,23.47it/s]"
     ]
    },
    {
     "name": "stdout",
     "output_type": "stream",
     "text": [
      "\u001b[32m[0922 17:20:56 @base.py:285]\u001b[0m Epoch 763 (global_step 1526000) finished, time:1 minute 25 seconds.\n",
      "\u001b[32m[0922 17:20:56 @saver.py:79]\u001b[0m Model saved to ../output/LPMC/DATGAN/model\\model-1526000.\n"
     ]
    },
    {
     "name": "stderr",
     "output_type": "stream",
     "text": [
      "\n"
     ]
    },
    {
     "name": "stdout",
     "output_type": "stream",
     "text": [
      "\u001b[32m[0922 17:20:56 @monitor.py:467]\u001b[0m GAN_loss/discrim/accuracy_fake: 0.89\n",
      "\u001b[32m[0922 17:20:56 @monitor.py:467]\u001b[0m GAN_loss/discrim/accuracy_real: 0.19\n",
      "\u001b[32m[0922 17:20:56 @monitor.py:467]\u001b[0m GAN_loss/discrim/loss: 0.65159\n",
      "\u001b[32m[0922 17:20:56 @monitor.py:467]\u001b[0m GAN_loss/gen/final-g-loss: 1.3494\n",
      "\u001b[32m[0922 17:20:56 @monitor.py:467]\u001b[0m GAN_loss/gen/klloss: 0.29942\n",
      "\u001b[32m[0922 17:20:56 @monitor.py:467]\u001b[0m GAN_loss/gen/loss: 1.05\n",
      "\u001b[32m[0922 17:20:56 @monitor.py:467]\u001b[0m QueueInput/queue_size: 50\n",
      "\u001b[32m[0922 17:20:56 @base.py:275]\u001b[0m Start Epoch 764 ...\n"
     ]
    },
    {
     "name": "stderr",
     "output_type": "stream",
     "text": [
      "100%|#################################################################################|2000/2000[01:12<00:00,27.56it/s]"
     ]
    },
    {
     "name": "stdout",
     "output_type": "stream",
     "text": [
      "\u001b[32m[0922 17:22:08 @base.py:285]\u001b[0m Epoch 764 (global_step 1528000) finished, time:1 minute 12 seconds.\n",
      "\u001b[32m[0922 17:22:09 @saver.py:79]\u001b[0m Model saved to ../output/LPMC/DATGAN/model\\model-1528000.\n"
     ]
    },
    {
     "name": "stderr",
     "output_type": "stream",
     "text": [
      "\n"
     ]
    },
    {
     "name": "stdout",
     "output_type": "stream",
     "text": [
      "\u001b[32m[0922 17:22:09 @monitor.py:467]\u001b[0m GAN_loss/discrim/accuracy_fake: 0.91\n",
      "\u001b[32m[0922 17:22:09 @monitor.py:467]\u001b[0m GAN_loss/discrim/accuracy_real: 0.2\n",
      "\u001b[32m[0922 17:22:09 @monitor.py:467]\u001b[0m GAN_loss/discrim/loss: 0.64348\n",
      "\u001b[32m[0922 17:22:09 @monitor.py:467]\u001b[0m GAN_loss/gen/final-g-loss: 1.5654\n",
      "\u001b[32m[0922 17:22:09 @monitor.py:467]\u001b[0m GAN_loss/gen/klloss: 0.48661\n",
      "\u001b[32m[0922 17:22:09 @monitor.py:467]\u001b[0m GAN_loss/gen/loss: 1.0788\n",
      "\u001b[32m[0922 17:22:09 @monitor.py:467]\u001b[0m QueueInput/queue_size: 50\n",
      "\u001b[32m[0922 17:22:09 @base.py:275]\u001b[0m Start Epoch 765 ...\n"
     ]
    },
    {
     "name": "stderr",
     "output_type": "stream",
     "text": [
      "100%|#################################################################################|2000/2000[01:12<00:00,27.42it/s]"
     ]
    },
    {
     "name": "stdout",
     "output_type": "stream",
     "text": [
      "\u001b[32m[0922 17:23:22 @base.py:285]\u001b[0m Epoch 765 (global_step 1530000) finished, time:1 minute 12 seconds.\n"
     ]
    },
    {
     "name": "stderr",
     "output_type": "stream",
     "text": [
      "\n"
     ]
    },
    {
     "name": "stdout",
     "output_type": "stream",
     "text": [
      "\u001b[32m[0922 17:23:22 @saver.py:79]\u001b[0m Model saved to ../output/LPMC/DATGAN/model\\model-1530000.\n",
      "\u001b[32m[0922 17:23:22 @monitor.py:467]\u001b[0m GAN_loss/discrim/accuracy_fake: 0.89\n",
      "\u001b[32m[0922 17:23:22 @monitor.py:467]\u001b[0m GAN_loss/discrim/accuracy_real: 0.2\n",
      "\u001b[32m[0922 17:23:22 @monitor.py:467]\u001b[0m GAN_loss/discrim/loss: 0.64407\n",
      "\u001b[32m[0922 17:23:22 @monitor.py:467]\u001b[0m GAN_loss/gen/final-g-loss: 1.3013\n",
      "\u001b[32m[0922 17:23:22 @monitor.py:467]\u001b[0m GAN_loss/gen/klloss: 0.24651\n",
      "\u001b[32m[0922 17:23:22 @monitor.py:467]\u001b[0m GAN_loss/gen/loss: 1.0548\n",
      "\u001b[32m[0922 17:23:22 @monitor.py:467]\u001b[0m QueueInput/queue_size: 50\n",
      "\u001b[32m[0922 17:23:22 @base.py:275]\u001b[0m Start Epoch 766 ...\n"
     ]
    },
    {
     "name": "stderr",
     "output_type": "stream",
     "text": [
      "100%|#################################################################################|2000/2000[01:12<00:00,27.68it/s]"
     ]
    },
    {
     "name": "stdout",
     "output_type": "stream",
     "text": [
      "\u001b[32m[0922 17:24:34 @base.py:285]\u001b[0m Epoch 766 (global_step 1532000) finished, time:1 minute 12 seconds.\n",
      "\u001b[32m[0922 17:24:34 @saver.py:79]\u001b[0m Model saved to ../output/LPMC/DATGAN/model\\model-1532000.\n"
     ]
    },
    {
     "name": "stderr",
     "output_type": "stream",
     "text": [
      "\n"
     ]
    },
    {
     "name": "stdout",
     "output_type": "stream",
     "text": [
      "\u001b[32m[0922 17:24:34 @monitor.py:467]\u001b[0m GAN_loss/discrim/accuracy_fake: 0.91\n",
      "\u001b[32m[0922 17:24:34 @monitor.py:467]\u001b[0m GAN_loss/discrim/accuracy_real: 0.195\n",
      "\u001b[32m[0922 17:24:34 @monitor.py:467]\u001b[0m GAN_loss/discrim/loss: 0.63035\n",
      "\u001b[32m[0922 17:24:34 @monitor.py:467]\u001b[0m GAN_loss/gen/final-g-loss: 1.3254\n",
      "\u001b[32m[0922 17:24:34 @monitor.py:467]\u001b[0m GAN_loss/gen/klloss: 0.22493\n",
      "\u001b[32m[0922 17:24:34 @monitor.py:467]\u001b[0m GAN_loss/gen/loss: 1.1005\n",
      "\u001b[32m[0922 17:24:34 @monitor.py:467]\u001b[0m QueueInput/queue_size: 50\n",
      "\u001b[32m[0922 17:24:34 @base.py:275]\u001b[0m Start Epoch 767 ...\n"
     ]
    },
    {
     "name": "stderr",
     "output_type": "stream",
     "text": [
      "100%|#################################################################################|2000/2000[01:12<00:00,27.71it/s]"
     ]
    },
    {
     "name": "stdout",
     "output_type": "stream",
     "text": [
      "\u001b[32m[0922 17:25:47 @base.py:285]\u001b[0m Epoch 767 (global_step 1534000) finished, time:1 minute 12 seconds.\n",
      "\u001b[32m[0922 17:25:47 @saver.py:79]\u001b[0m Model saved to ../output/LPMC/DATGAN/model\\model-1534000.\n"
     ]
    },
    {
     "name": "stderr",
     "output_type": "stream",
     "text": [
      "\n"
     ]
    },
    {
     "name": "stdout",
     "output_type": "stream",
     "text": [
      "\u001b[32m[0922 17:25:47 @monitor.py:467]\u001b[0m GAN_loss/discrim/accuracy_fake: 0.875\n",
      "\u001b[32m[0922 17:25:47 @monitor.py:467]\u001b[0m GAN_loss/discrim/accuracy_real: 0.22\n",
      "\u001b[32m[0922 17:25:47 @monitor.py:467]\u001b[0m GAN_loss/discrim/loss: 0.64328\n",
      "\u001b[32m[0922 17:25:47 @monitor.py:467]\u001b[0m GAN_loss/gen/final-g-loss: 1.2292\n",
      "\u001b[32m[0922 17:25:47 @monitor.py:467]\u001b[0m GAN_loss/gen/klloss: 0.17035\n",
      "\u001b[32m[0922 17:25:47 @monitor.py:467]\u001b[0m GAN_loss/gen/loss: 1.0588\n",
      "\u001b[32m[0922 17:25:47 @monitor.py:467]\u001b[0m QueueInput/queue_size: 50\n",
      "\u001b[32m[0922 17:25:47 @base.py:275]\u001b[0m Start Epoch 768 ...\n"
     ]
    },
    {
     "name": "stderr",
     "output_type": "stream",
     "text": [
      "100%|#################################################################################|2000/2000[01:12<00:00,27.48it/s]"
     ]
    },
    {
     "name": "stdout",
     "output_type": "stream",
     "text": [
      "\u001b[32m[0922 17:27:00 @base.py:285]\u001b[0m Epoch 768 (global_step 1536000) finished, time:1 minute 12 seconds.\n",
      "\u001b[32m[0922 17:27:00 @saver.py:79]\u001b[0m Model saved to ../output/LPMC/DATGAN/model\\model-1536000.\n"
     ]
    },
    {
     "name": "stderr",
     "output_type": "stream",
     "text": [
      "\n"
     ]
    },
    {
     "name": "stdout",
     "output_type": "stream",
     "text": [
      "\u001b[32m[0922 17:27:00 @monitor.py:467]\u001b[0m GAN_loss/discrim/accuracy_fake: 0.895\n",
      "\u001b[32m[0922 17:27:00 @monitor.py:467]\u001b[0m GAN_loss/discrim/accuracy_real: 0.195\n",
      "\u001b[32m[0922 17:27:00 @monitor.py:467]\u001b[0m GAN_loss/discrim/loss: 0.64209\n",
      "\u001b[32m[0922 17:27:00 @monitor.py:467]\u001b[0m GAN_loss/gen/final-g-loss: 1.3406\n",
      "\u001b[32m[0922 17:27:00 @monitor.py:467]\u001b[0m GAN_loss/gen/klloss: 0.26817\n",
      "\u001b[32m[0922 17:27:00 @monitor.py:467]\u001b[0m GAN_loss/gen/loss: 1.0724\n",
      "\u001b[32m[0922 17:27:00 @monitor.py:467]\u001b[0m QueueInput/queue_size: 50\n",
      "\u001b[32m[0922 17:27:00 @base.py:275]\u001b[0m Start Epoch 769 ...\n"
     ]
    },
    {
     "name": "stderr",
     "output_type": "stream",
     "text": [
      "100%|#################################################################################|2000/2000[01:12<00:00,27.57it/s]"
     ]
    },
    {
     "name": "stdout",
     "output_type": "stream",
     "text": [
      "\u001b[32m[0922 17:28:12 @base.py:285]\u001b[0m Epoch 769 (global_step 1538000) finished, time:1 minute 12 seconds.\n",
      "\u001b[32m[0922 17:28:12 @saver.py:79]\u001b[0m Model saved to ../output/LPMC/DATGAN/model\\model-1538000.\n"
     ]
    },
    {
     "name": "stderr",
     "output_type": "stream",
     "text": [
      "\n"
     ]
    },
    {
     "name": "stdout",
     "output_type": "stream",
     "text": [
      "\u001b[32m[0922 17:28:13 @monitor.py:467]\u001b[0m GAN_loss/discrim/accuracy_fake: 0.9\n",
      "\u001b[32m[0922 17:28:13 @monitor.py:467]\u001b[0m GAN_loss/discrim/accuracy_real: 0.165\n",
      "\u001b[32m[0922 17:28:13 @monitor.py:467]\u001b[0m GAN_loss/discrim/loss: 0.6538\n",
      "\u001b[32m[0922 17:28:13 @monitor.py:467]\u001b[0m GAN_loss/gen/final-g-loss: 1.3185\n",
      "\u001b[32m[0922 17:28:13 @monitor.py:467]\u001b[0m GAN_loss/gen/klloss: 0.25999\n",
      "\u001b[32m[0922 17:28:13 @monitor.py:467]\u001b[0m GAN_loss/gen/loss: 1.0585\n",
      "\u001b[32m[0922 17:28:13 @monitor.py:467]\u001b[0m QueueInput/queue_size: 50\n",
      "\u001b[32m[0922 17:28:13 @base.py:275]\u001b[0m Start Epoch 770 ...\n"
     ]
    },
    {
     "name": "stderr",
     "output_type": "stream",
     "text": [
      "100%|#################################################################################|2000/2000[01:12<00:00,27.76it/s]"
     ]
    },
    {
     "name": "stdout",
     "output_type": "stream",
     "text": [
      "\u001b[32m[0922 17:29:25 @base.py:285]\u001b[0m Epoch 770 (global_step 1540000) finished, time:1 minute 12 seconds.\n",
      "\u001b[32m[0922 17:29:25 @saver.py:79]\u001b[0m Model saved to ../output/LPMC/DATGAN/model\\model-1540000.\n"
     ]
    },
    {
     "name": "stderr",
     "output_type": "stream",
     "text": [
      "\n"
     ]
    },
    {
     "name": "stdout",
     "output_type": "stream",
     "text": [
      "\u001b[32m[0922 17:29:25 @monitor.py:467]\u001b[0m GAN_loss/discrim/accuracy_fake: 0.885\n",
      "\u001b[32m[0922 17:29:25 @monitor.py:467]\u001b[0m GAN_loss/discrim/accuracy_real: 0.18\n",
      "\u001b[32m[0922 17:29:25 @monitor.py:467]\u001b[0m GAN_loss/discrim/loss: 0.64969\n",
      "\u001b[32m[0922 17:29:25 @monitor.py:467]\u001b[0m GAN_loss/gen/final-g-loss: 1.3706\n",
      "\u001b[32m[0922 17:29:25 @monitor.py:467]\u001b[0m GAN_loss/gen/klloss: 0.28823\n",
      "\u001b[32m[0922 17:29:25 @monitor.py:467]\u001b[0m GAN_loss/gen/loss: 1.0824\n",
      "\u001b[32m[0922 17:29:25 @monitor.py:467]\u001b[0m QueueInput/queue_size: 50\n",
      "\u001b[32m[0922 17:29:25 @base.py:275]\u001b[0m Start Epoch 771 ...\n"
     ]
    },
    {
     "name": "stderr",
     "output_type": "stream",
     "text": [
      "100%|#################################################################################|2000/2000[01:11<00:00,27.85it/s]"
     ]
    },
    {
     "name": "stdout",
     "output_type": "stream",
     "text": [
      "\u001b[32m[0922 17:30:37 @base.py:285]\u001b[0m Epoch 771 (global_step 1542000) finished, time:1 minute 11 seconds.\n",
      "\u001b[32m[0922 17:30:37 @saver.py:79]\u001b[0m Model saved to ../output/LPMC/DATGAN/model\\model-1542000.\n"
     ]
    },
    {
     "name": "stderr",
     "output_type": "stream",
     "text": [
      "\n"
     ]
    },
    {
     "name": "stdout",
     "output_type": "stream",
     "text": [
      "\u001b[32m[0922 17:30:37 @monitor.py:467]\u001b[0m GAN_loss/discrim/accuracy_fake: 0.885\n",
      "\u001b[32m[0922 17:30:37 @monitor.py:467]\u001b[0m GAN_loss/discrim/accuracy_real: 0.115\n",
      "\u001b[32m[0922 17:30:37 @monitor.py:467]\u001b[0m GAN_loss/discrim/loss: 0.65522\n",
      "\u001b[32m[0922 17:30:37 @monitor.py:467]\u001b[0m GAN_loss/gen/final-g-loss: 1.33\n",
      "\u001b[32m[0922 17:30:37 @monitor.py:467]\u001b[0m GAN_loss/gen/klloss: 0.27804\n",
      "\u001b[32m[0922 17:30:37 @monitor.py:467]\u001b[0m GAN_loss/gen/loss: 1.052\n",
      "\u001b[32m[0922 17:30:37 @monitor.py:467]\u001b[0m QueueInput/queue_size: 50\n",
      "\u001b[32m[0922 17:30:37 @base.py:275]\u001b[0m Start Epoch 772 ...\n"
     ]
    },
    {
     "name": "stderr",
     "output_type": "stream",
     "text": [
      "100%|#################################################################################|2000/2000[01:12<00:00,27.42it/s]"
     ]
    },
    {
     "name": "stdout",
     "output_type": "stream",
     "text": [
      "\u001b[32m[0922 17:31:50 @base.py:285]\u001b[0m Epoch 772 (global_step 1544000) finished, time:1 minute 12 seconds.\n",
      "\u001b[32m[0922 17:31:50 @saver.py:79]\u001b[0m Model saved to ../output/LPMC/DATGAN/model\\model-1544000.\n"
     ]
    },
    {
     "name": "stderr",
     "output_type": "stream",
     "text": [
      "\n"
     ]
    },
    {
     "name": "stdout",
     "output_type": "stream",
     "text": [
      "\u001b[32m[0922 17:31:50 @monitor.py:467]\u001b[0m GAN_loss/discrim/accuracy_fake: 0.88\n",
      "\u001b[32m[0922 17:31:50 @monitor.py:467]\u001b[0m GAN_loss/discrim/accuracy_real: 0.19\n",
      "\u001b[32m[0922 17:31:50 @monitor.py:467]\u001b[0m GAN_loss/discrim/loss: 0.64729\n",
      "\u001b[32m[0922 17:31:50 @monitor.py:467]\u001b[0m GAN_loss/gen/final-g-loss: 1.3437\n",
      "\u001b[32m[0922 17:31:50 @monitor.py:467]\u001b[0m GAN_loss/gen/klloss: 0.28084\n",
      "\u001b[32m[0922 17:31:50 @monitor.py:467]\u001b[0m GAN_loss/gen/loss: 1.0629\n",
      "\u001b[32m[0922 17:31:50 @monitor.py:467]\u001b[0m QueueInput/queue_size: 50\n",
      "\u001b[32m[0922 17:31:50 @base.py:275]\u001b[0m Start Epoch 773 ...\n"
     ]
    },
    {
     "name": "stderr",
     "output_type": "stream",
     "text": [
      "100%|#################################################################################|2000/2000[01:11<00:00,28.04it/s]"
     ]
    },
    {
     "name": "stdout",
     "output_type": "stream",
     "text": [
      "\u001b[32m[0922 17:33:01 @base.py:285]\u001b[0m Epoch 773 (global_step 1546000) finished, time:1 minute 11 seconds.\n",
      "\u001b[32m[0922 17:33:02 @saver.py:79]\u001b[0m Model saved to ../output/LPMC/DATGAN/model\\model-1546000.\n"
     ]
    },
    {
     "name": "stderr",
     "output_type": "stream",
     "text": [
      "\n"
     ]
    },
    {
     "name": "stdout",
     "output_type": "stream",
     "text": [
      "\u001b[32m[0922 17:33:02 @monitor.py:467]\u001b[0m GAN_loss/discrim/accuracy_fake: 0.875\n",
      "\u001b[32m[0922 17:33:02 @monitor.py:467]\u001b[0m GAN_loss/discrim/accuracy_real: 0.205\n",
      "\u001b[32m[0922 17:33:02 @monitor.py:467]\u001b[0m GAN_loss/discrim/loss: 0.64201\n",
      "\u001b[32m[0922 17:33:02 @monitor.py:467]\u001b[0m GAN_loss/gen/final-g-loss: 1.4378\n",
      "\u001b[32m[0922 17:33:02 @monitor.py:467]\u001b[0m GAN_loss/gen/klloss: 0.38146\n",
      "\u001b[32m[0922 17:33:02 @monitor.py:467]\u001b[0m GAN_loss/gen/loss: 1.0563\n",
      "\u001b[32m[0922 17:33:02 @monitor.py:467]\u001b[0m QueueInput/queue_size: 50\n",
      "\u001b[32m[0922 17:33:02 @base.py:275]\u001b[0m Start Epoch 774 ...\n"
     ]
    },
    {
     "name": "stderr",
     "output_type": "stream",
     "text": [
      "100%|#################################################################################|2000/2000[01:11<00:00,27.79it/s]"
     ]
    },
    {
     "name": "stdout",
     "output_type": "stream",
     "text": [
      "\u001b[32m[0922 17:34:14 @base.py:285]\u001b[0m Epoch 774 (global_step 1548000) finished, time:1 minute 11 seconds.\n",
      "\u001b[32m[0922 17:34:14 @saver.py:79]\u001b[0m Model saved to ../output/LPMC/DATGAN/model\\model-1548000.\n"
     ]
    },
    {
     "name": "stderr",
     "output_type": "stream",
     "text": [
      "\n"
     ]
    },
    {
     "name": "stdout",
     "output_type": "stream",
     "text": [
      "\u001b[32m[0922 17:34:14 @monitor.py:467]\u001b[0m GAN_loss/discrim/accuracy_fake: 0.9\n",
      "\u001b[32m[0922 17:34:14 @monitor.py:467]\u001b[0m GAN_loss/discrim/accuracy_real: 0.2\n",
      "\u001b[32m[0922 17:34:14 @monitor.py:467]\u001b[0m GAN_loss/discrim/loss: 0.6362\n",
      "\u001b[32m[0922 17:34:14 @monitor.py:467]\u001b[0m GAN_loss/gen/final-g-loss: 1.3667\n",
      "\u001b[32m[0922 17:34:14 @monitor.py:467]\u001b[0m GAN_loss/gen/klloss: 0.28433\n",
      "\u001b[32m[0922 17:34:14 @monitor.py:467]\u001b[0m GAN_loss/gen/loss: 1.0824\n",
      "\u001b[32m[0922 17:34:14 @monitor.py:467]\u001b[0m QueueInput/queue_size: 50\n",
      "\u001b[32m[0922 17:34:14 @base.py:275]\u001b[0m Start Epoch 775 ...\n"
     ]
    },
    {
     "name": "stderr",
     "output_type": "stream",
     "text": [
      "100%|#################################################################################|2000/2000[01:11<00:00,27.92it/s]"
     ]
    },
    {
     "name": "stdout",
     "output_type": "stream",
     "text": [
      "\u001b[32m[0922 17:35:26 @base.py:285]\u001b[0m Epoch 775 (global_step 1550000) finished, time:1 minute 11 seconds.\n",
      "\u001b[32m[0922 17:35:26 @saver.py:79]\u001b[0m Model saved to ../output/LPMC/DATGAN/model\\model-1550000.\n"
     ]
    },
    {
     "name": "stderr",
     "output_type": "stream",
     "text": [
      "\n"
     ]
    },
    {
     "name": "stdout",
     "output_type": "stream",
     "text": [
      "\u001b[32m[0922 17:35:26 @monitor.py:467]\u001b[0m GAN_loss/discrim/accuracy_fake: 0.86\n",
      "\u001b[32m[0922 17:35:26 @monitor.py:467]\u001b[0m GAN_loss/discrim/accuracy_real: 0.185\n",
      "\u001b[32m[0922 17:35:26 @monitor.py:467]\u001b[0m GAN_loss/discrim/loss: 0.64813\n",
      "\u001b[32m[0922 17:35:26 @monitor.py:467]\u001b[0m GAN_loss/gen/final-g-loss: 1.3092\n",
      "\u001b[32m[0922 17:35:26 @monitor.py:467]\u001b[0m GAN_loss/gen/klloss: 0.25357\n",
      "\u001b[32m[0922 17:35:26 @monitor.py:467]\u001b[0m GAN_loss/gen/loss: 1.0556\n",
      "\u001b[32m[0922 17:35:26 @monitor.py:467]\u001b[0m QueueInput/queue_size: 50\n",
      "\u001b[32m[0922 17:35:26 @base.py:275]\u001b[0m Start Epoch 776 ...\n"
     ]
    },
    {
     "name": "stderr",
     "output_type": "stream",
     "text": [
      "100%|#################################################################################|2000/2000[01:10<00:00,28.25it/s]"
     ]
    },
    {
     "name": "stdout",
     "output_type": "stream",
     "text": [
      "\u001b[32m[0922 17:36:37 @base.py:285]\u001b[0m Epoch 776 (global_step 1552000) finished, time:1 minute 10 seconds.\n"
     ]
    },
    {
     "name": "stderr",
     "output_type": "stream",
     "text": [
      "\n"
     ]
    },
    {
     "name": "stdout",
     "output_type": "stream",
     "text": [
      "\u001b[32m[0922 17:36:37 @saver.py:79]\u001b[0m Model saved to ../output/LPMC/DATGAN/model\\model-1552000.\n",
      "\u001b[32m[0922 17:36:37 @monitor.py:467]\u001b[0m GAN_loss/discrim/accuracy_fake: 0.865\n",
      "\u001b[32m[0922 17:36:37 @monitor.py:467]\u001b[0m GAN_loss/discrim/accuracy_real: 0.18\n",
      "\u001b[32m[0922 17:36:37 @monitor.py:467]\u001b[0m GAN_loss/discrim/loss: 0.64805\n",
      "\u001b[32m[0922 17:36:37 @monitor.py:467]\u001b[0m GAN_loss/gen/final-g-loss: 1.2098\n",
      "\u001b[32m[0922 17:36:37 @monitor.py:467]\u001b[0m GAN_loss/gen/klloss: 0.16737\n",
      "\u001b[32m[0922 17:36:37 @monitor.py:467]\u001b[0m GAN_loss/gen/loss: 1.0424\n",
      "\u001b[32m[0922 17:36:37 @monitor.py:467]\u001b[0m QueueInput/queue_size: 50\n",
      "\u001b[32m[0922 17:36:37 @base.py:275]\u001b[0m Start Epoch 777 ...\n"
     ]
    },
    {
     "name": "stderr",
     "output_type": "stream",
     "text": [
      "100%|#################################################################################|2000/2000[01:12<00:00,27.77it/s]"
     ]
    },
    {
     "name": "stdout",
     "output_type": "stream",
     "text": [
      "\u001b[32m[0922 17:37:49 @base.py:285]\u001b[0m Epoch 777 (global_step 1554000) finished, time:1 minute 12 seconds.\n",
      "\u001b[32m[0922 17:37:49 @saver.py:79]\u001b[0m Model saved to ../output/LPMC/DATGAN/model\\model-1554000.\n"
     ]
    },
    {
     "name": "stderr",
     "output_type": "stream",
     "text": [
      "\n"
     ]
    },
    {
     "name": "stdout",
     "output_type": "stream",
     "text": [
      "\u001b[32m[0922 17:37:49 @monitor.py:467]\u001b[0m GAN_loss/discrim/accuracy_fake: 0.91\n",
      "\u001b[32m[0922 17:37:49 @monitor.py:467]\u001b[0m GAN_loss/discrim/accuracy_real: 0.23\n",
      "\u001b[32m[0922 17:37:49 @monitor.py:467]\u001b[0m GAN_loss/discrim/loss: 0.63695\n",
      "\u001b[32m[0922 17:37:49 @monitor.py:467]\u001b[0m GAN_loss/gen/final-g-loss: 1.2712\n",
      "\u001b[32m[0922 17:37:49 @monitor.py:467]\u001b[0m GAN_loss/gen/klloss: 0.20879\n",
      "\u001b[32m[0922 17:37:49 @monitor.py:467]\u001b[0m GAN_loss/gen/loss: 1.0624\n",
      "\u001b[32m[0922 17:37:49 @monitor.py:467]\u001b[0m QueueInput/queue_size: 50\n",
      "\u001b[32m[0922 17:37:49 @base.py:275]\u001b[0m Start Epoch 778 ...\n"
     ]
    },
    {
     "name": "stderr",
     "output_type": "stream",
     "text": [
      "100%|#################################################################################|2000/2000[01:11<00:00,27.80it/s]"
     ]
    },
    {
     "name": "stdout",
     "output_type": "stream",
     "text": [
      "\u001b[32m[0922 17:39:01 @base.py:285]\u001b[0m Epoch 778 (global_step 1556000) finished, time:1 minute 11 seconds.\n",
      "\u001b[32m[0922 17:39:01 @saver.py:79]\u001b[0m Model saved to ../output/LPMC/DATGAN/model\\model-1556000.\n"
     ]
    },
    {
     "name": "stderr",
     "output_type": "stream",
     "text": [
      "\n"
     ]
    },
    {
     "name": "stdout",
     "output_type": "stream",
     "text": [
      "\u001b[32m[0922 17:39:01 @monitor.py:467]\u001b[0m GAN_loss/discrim/accuracy_fake: 0.9\n",
      "\u001b[32m[0922 17:39:01 @monitor.py:467]\u001b[0m GAN_loss/discrim/accuracy_real: 0.16\n",
      "\u001b[32m[0922 17:39:01 @monitor.py:467]\u001b[0m GAN_loss/discrim/loss: 0.64153\n",
      "\u001b[32m[0922 17:39:01 @monitor.py:467]\u001b[0m GAN_loss/gen/final-g-loss: 1.3433\n",
      "\u001b[32m[0922 17:39:01 @monitor.py:467]\u001b[0m GAN_loss/gen/klloss: 0.27186\n",
      "\u001b[32m[0922 17:39:01 @monitor.py:467]\u001b[0m GAN_loss/gen/loss: 1.0714\n",
      "\u001b[32m[0922 17:39:01 @monitor.py:467]\u001b[0m QueueInput/queue_size: 50\n",
      "\u001b[32m[0922 17:39:01 @base.py:275]\u001b[0m Start Epoch 779 ...\n"
     ]
    },
    {
     "name": "stderr",
     "output_type": "stream",
     "text": [
      "100%|#################################################################################|2000/2000[01:11<00:00,27.98it/s]"
     ]
    },
    {
     "name": "stdout",
     "output_type": "stream",
     "text": [
      "\u001b[32m[0922 17:40:13 @base.py:285]\u001b[0m Epoch 779 (global_step 1558000) finished, time:1 minute 11 seconds.\n",
      "\u001b[32m[0922 17:40:13 @saver.py:79]\u001b[0m Model saved to ../output/LPMC/DATGAN/model\\model-1558000.\n"
     ]
    },
    {
     "name": "stderr",
     "output_type": "stream",
     "text": [
      "\n"
     ]
    },
    {
     "name": "stdout",
     "output_type": "stream",
     "text": [
      "\u001b[32m[0922 17:40:13 @monitor.py:467]\u001b[0m GAN_loss/discrim/accuracy_fake: 0.885\n",
      "\u001b[32m[0922 17:40:13 @monitor.py:467]\u001b[0m GAN_loss/discrim/accuracy_real: 0.235\n",
      "\u001b[32m[0922 17:40:13 @monitor.py:467]\u001b[0m GAN_loss/discrim/loss: 0.63169\n",
      "\u001b[32m[0922 17:40:13 @monitor.py:467]\u001b[0m GAN_loss/gen/final-g-loss: 1.2575\n",
      "\u001b[32m[0922 17:40:13 @monitor.py:467]\u001b[0m GAN_loss/gen/klloss: 0.16566\n",
      "\u001b[32m[0922 17:40:13 @monitor.py:467]\u001b[0m GAN_loss/gen/loss: 1.0918\n",
      "\u001b[32m[0922 17:40:13 @monitor.py:467]\u001b[0m QueueInput/queue_size: 50\n",
      "\u001b[32m[0922 17:40:13 @base.py:275]\u001b[0m Start Epoch 780 ...\n"
     ]
    },
    {
     "name": "stderr",
     "output_type": "stream",
     "text": [
      "100%|#################################################################################|2000/2000[01:11<00:00,28.15it/s]"
     ]
    },
    {
     "name": "stdout",
     "output_type": "stream",
     "text": [
      "\u001b[32m[0922 17:41:24 @base.py:285]\u001b[0m Epoch 780 (global_step 1560000) finished, time:1 minute 11 seconds.\n",
      "\u001b[32m[0922 17:41:24 @saver.py:79]\u001b[0m Model saved to ../output/LPMC/DATGAN/model\\model-1560000.\n"
     ]
    },
    {
     "name": "stderr",
     "output_type": "stream",
     "text": [
      "\n"
     ]
    },
    {
     "name": "stdout",
     "output_type": "stream",
     "text": [
      "\u001b[32m[0922 17:41:24 @monitor.py:467]\u001b[0m GAN_loss/discrim/accuracy_fake: 0.885\n",
      "\u001b[32m[0922 17:41:24 @monitor.py:467]\u001b[0m GAN_loss/discrim/accuracy_real: 0.195\n",
      "\u001b[32m[0922 17:41:24 @monitor.py:467]\u001b[0m GAN_loss/discrim/loss: 0.64613\n",
      "\u001b[32m[0922 17:41:24 @monitor.py:467]\u001b[0m GAN_loss/gen/final-g-loss: 1.3669\n",
      "\u001b[32m[0922 17:41:24 @monitor.py:467]\u001b[0m GAN_loss/gen/klloss: 0.30395\n",
      "\u001b[32m[0922 17:41:24 @monitor.py:467]\u001b[0m GAN_loss/gen/loss: 1.063\n",
      "\u001b[32m[0922 17:41:24 @monitor.py:467]\u001b[0m QueueInput/queue_size: 50\n",
      "\u001b[32m[0922 17:41:24 @base.py:275]\u001b[0m Start Epoch 781 ...\n"
     ]
    },
    {
     "name": "stderr",
     "output_type": "stream",
     "text": [
      "100%|#################################################################################|2000/2000[01:10<00:00,28.17it/s]"
     ]
    },
    {
     "name": "stdout",
     "output_type": "stream",
     "text": [
      "\u001b[32m[0922 17:42:35 @base.py:285]\u001b[0m Epoch 781 (global_step 1562000) finished, time:1 minute 10 seconds.\n",
      "\u001b[32m[0922 17:42:35 @saver.py:79]\u001b[0m Model saved to ../output/LPMC/DATGAN/model\\model-1562000.\n"
     ]
    },
    {
     "name": "stderr",
     "output_type": "stream",
     "text": [
      "\n"
     ]
    },
    {
     "name": "stdout",
     "output_type": "stream",
     "text": [
      "\u001b[32m[0922 17:42:36 @monitor.py:467]\u001b[0m GAN_loss/discrim/accuracy_fake: 0.925\n",
      "\u001b[32m[0922 17:42:36 @monitor.py:467]\u001b[0m GAN_loss/discrim/accuracy_real: 0.205\n",
      "\u001b[32m[0922 17:42:36 @monitor.py:467]\u001b[0m GAN_loss/discrim/loss: 0.64499\n",
      "\u001b[32m[0922 17:42:36 @monitor.py:467]\u001b[0m GAN_loss/gen/final-g-loss: 1.3264\n",
      "\u001b[32m[0922 17:42:36 @monitor.py:467]\u001b[0m GAN_loss/gen/klloss: 0.24607\n",
      "\u001b[32m[0922 17:42:36 @monitor.py:467]\u001b[0m GAN_loss/gen/loss: 1.0803\n",
      "\u001b[32m[0922 17:42:36 @monitor.py:467]\u001b[0m QueueInput/queue_size: 50\n",
      "\u001b[32m[0922 17:42:36 @base.py:275]\u001b[0m Start Epoch 782 ...\n"
     ]
    },
    {
     "name": "stderr",
     "output_type": "stream",
     "text": [
      "100%|#################################################################################|2000/2000[01:11<00:00,27.97it/s]"
     ]
    },
    {
     "name": "stdout",
     "output_type": "stream",
     "text": [
      "\u001b[32m[0922 17:43:47 @base.py:285]\u001b[0m Epoch 782 (global_step 1564000) finished, time:1 minute 11 seconds.\n"
     ]
    },
    {
     "name": "stderr",
     "output_type": "stream",
     "text": [
      "\n"
     ]
    },
    {
     "name": "stdout",
     "output_type": "stream",
     "text": [
      "\u001b[32m[0922 17:43:47 @saver.py:79]\u001b[0m Model saved to ../output/LPMC/DATGAN/model\\model-1564000.\n",
      "\u001b[32m[0922 17:43:47 @monitor.py:467]\u001b[0m GAN_loss/discrim/accuracy_fake: 0.91\n",
      "\u001b[32m[0922 17:43:47 @monitor.py:467]\u001b[0m GAN_loss/discrim/accuracy_real: 0.19\n",
      "\u001b[32m[0922 17:43:47 @monitor.py:467]\u001b[0m GAN_loss/discrim/loss: 0.64262\n",
      "\u001b[32m[0922 17:43:47 @monitor.py:467]\u001b[0m GAN_loss/gen/final-g-loss: 1.2684\n",
      "\u001b[32m[0922 17:43:47 @monitor.py:467]\u001b[0m GAN_loss/gen/klloss: 0.19441\n",
      "\u001b[32m[0922 17:43:47 @monitor.py:467]\u001b[0m GAN_loss/gen/loss: 1.074\n",
      "\u001b[32m[0922 17:43:47 @monitor.py:467]\u001b[0m QueueInput/queue_size: 50\n",
      "\u001b[32m[0922 17:43:47 @base.py:275]\u001b[0m Start Epoch 783 ...\n"
     ]
    },
    {
     "name": "stderr",
     "output_type": "stream",
     "text": [
      "100%|#################################################################################|2000/2000[01:10<00:00,28.25it/s]"
     ]
    },
    {
     "name": "stdout",
     "output_type": "stream",
     "text": [
      "\u001b[32m[0922 17:44:58 @base.py:285]\u001b[0m Epoch 783 (global_step 1566000) finished, time:1 minute 10 seconds.\n",
      "\u001b[32m[0922 17:44:58 @saver.py:79]\u001b[0m Model saved to ../output/LPMC/DATGAN/model\\model-1566000.\n"
     ]
    },
    {
     "name": "stderr",
     "output_type": "stream",
     "text": [
      "\n"
     ]
    },
    {
     "name": "stdout",
     "output_type": "stream",
     "text": [
      "\u001b[32m[0922 17:44:58 @monitor.py:467]\u001b[0m GAN_loss/discrim/accuracy_fake: 0.865\n",
      "\u001b[32m[0922 17:44:58 @monitor.py:467]\u001b[0m GAN_loss/discrim/accuracy_real: 0.18\n",
      "\u001b[32m[0922 17:44:58 @monitor.py:467]\u001b[0m GAN_loss/discrim/loss: 0.64928\n",
      "\u001b[32m[0922 17:44:58 @monitor.py:467]\u001b[0m GAN_loss/gen/final-g-loss: 1.417\n",
      "\u001b[32m[0922 17:44:58 @monitor.py:467]\u001b[0m GAN_loss/gen/klloss: 0.36748\n",
      "\u001b[32m[0922 17:44:58 @monitor.py:467]\u001b[0m GAN_loss/gen/loss: 1.0495\n",
      "\u001b[32m[0922 17:44:58 @monitor.py:467]\u001b[0m QueueInput/queue_size: 50\n",
      "\u001b[32m[0922 17:44:58 @base.py:275]\u001b[0m Start Epoch 784 ...\n"
     ]
    },
    {
     "name": "stderr",
     "output_type": "stream",
     "text": [
      "100%|#################################################################################|2000/2000[01:11<00:00,28.13it/s]"
     ]
    },
    {
     "name": "stdout",
     "output_type": "stream",
     "text": [
      "\u001b[32m[0922 17:46:09 @base.py:285]\u001b[0m Epoch 784 (global_step 1568000) finished, time:1 minute 11 seconds.\n",
      "\u001b[32m[0922 17:46:10 @saver.py:79]\u001b[0m Model saved to ../output/LPMC/DATGAN/model\\model-1568000.\n"
     ]
    },
    {
     "name": "stderr",
     "output_type": "stream",
     "text": [
      "\n"
     ]
    },
    {
     "name": "stdout",
     "output_type": "stream",
     "text": [
      "\u001b[32m[0922 17:46:10 @monitor.py:467]\u001b[0m GAN_loss/discrim/accuracy_fake: 0.875\n",
      "\u001b[32m[0922 17:46:10 @monitor.py:467]\u001b[0m GAN_loss/discrim/accuracy_real: 0.2\n",
      "\u001b[32m[0922 17:46:10 @monitor.py:467]\u001b[0m GAN_loss/discrim/loss: 0.64578\n",
      "\u001b[32m[0922 17:46:10 @monitor.py:467]\u001b[0m GAN_loss/gen/final-g-loss: 1.2702\n",
      "\u001b[32m[0922 17:46:10 @monitor.py:467]\u001b[0m GAN_loss/gen/klloss: 0.20608\n",
      "\u001b[32m[0922 17:46:10 @monitor.py:467]\u001b[0m GAN_loss/gen/loss: 1.0641\n",
      "\u001b[32m[0922 17:46:10 @monitor.py:467]\u001b[0m QueueInput/queue_size: 50\n",
      "\u001b[32m[0922 17:46:10 @base.py:275]\u001b[0m Start Epoch 785 ...\n"
     ]
    },
    {
     "name": "stderr",
     "output_type": "stream",
     "text": [
      "100%|#################################################################################|2000/2000[01:10<00:00,28.23it/s]"
     ]
    },
    {
     "name": "stdout",
     "output_type": "stream",
     "text": [
      "\u001b[32m[0922 17:47:21 @base.py:285]\u001b[0m Epoch 785 (global_step 1570000) finished, time:1 minute 10 seconds.\n",
      "\u001b[32m[0922 17:47:21 @saver.py:79]\u001b[0m Model saved to ../output/LPMC/DATGAN/model\\model-1570000.\n"
     ]
    },
    {
     "name": "stderr",
     "output_type": "stream",
     "text": [
      "\n"
     ]
    },
    {
     "name": "stdout",
     "output_type": "stream",
     "text": [
      "\u001b[32m[0922 17:47:21 @monitor.py:467]\u001b[0m GAN_loss/discrim/accuracy_fake: 0.905\n",
      "\u001b[32m[0922 17:47:21 @monitor.py:467]\u001b[0m GAN_loss/discrim/accuracy_real: 0.175\n",
      "\u001b[32m[0922 17:47:21 @monitor.py:467]\u001b[0m GAN_loss/discrim/loss: 0.64538\n",
      "\u001b[32m[0922 17:47:21 @monitor.py:467]\u001b[0m GAN_loss/gen/final-g-loss: 1.2372\n",
      "\u001b[32m[0922 17:47:21 @monitor.py:467]\u001b[0m GAN_loss/gen/klloss: 0.17363\n",
      "\u001b[32m[0922 17:47:21 @monitor.py:467]\u001b[0m GAN_loss/gen/loss: 1.0636\n",
      "\u001b[32m[0922 17:47:21 @monitor.py:467]\u001b[0m QueueInput/queue_size: 50\n",
      "\u001b[32m[0922 17:47:21 @base.py:275]\u001b[0m Start Epoch 786 ...\n"
     ]
    },
    {
     "name": "stderr",
     "output_type": "stream",
     "text": [
      "100%|#################################################################################|2000/2000[01:11<00:00,28.16it/s]"
     ]
    },
    {
     "name": "stdout",
     "output_type": "stream",
     "text": [
      "\u001b[32m[0922 17:48:32 @base.py:285]\u001b[0m Epoch 786 (global_step 1572000) finished, time:1 minute 11 seconds.\n",
      "\u001b[32m[0922 17:48:32 @saver.py:79]\u001b[0m Model saved to ../output/LPMC/DATGAN/model\\model-1572000.\n"
     ]
    },
    {
     "name": "stderr",
     "output_type": "stream",
     "text": [
      "\n"
     ]
    },
    {
     "name": "stdout",
     "output_type": "stream",
     "text": [
      "\u001b[32m[0922 17:48:32 @monitor.py:467]\u001b[0m GAN_loss/discrim/accuracy_fake: 0.895\n",
      "\u001b[32m[0922 17:48:32 @monitor.py:467]\u001b[0m GAN_loss/discrim/accuracy_real: 0.215\n",
      "\u001b[32m[0922 17:48:32 @monitor.py:467]\u001b[0m GAN_loss/discrim/loss: 0.63389\n",
      "\u001b[32m[0922 17:48:32 @monitor.py:467]\u001b[0m GAN_loss/gen/final-g-loss: 1.383\n",
      "\u001b[32m[0922 17:48:32 @monitor.py:467]\u001b[0m GAN_loss/gen/klloss: 0.28376\n",
      "\u001b[32m[0922 17:48:32 @monitor.py:467]\u001b[0m GAN_loss/gen/loss: 1.0992\n",
      "\u001b[32m[0922 17:48:32 @monitor.py:467]\u001b[0m QueueInput/queue_size: 50\n",
      "\u001b[32m[0922 17:48:32 @base.py:275]\u001b[0m Start Epoch 787 ...\n"
     ]
    },
    {
     "name": "stderr",
     "output_type": "stream",
     "text": [
      "100%|#################################################################################|2000/2000[01:10<00:00,28.21it/s]"
     ]
    },
    {
     "name": "stdout",
     "output_type": "stream",
     "text": [
      "\u001b[32m[0922 17:49:43 @base.py:285]\u001b[0m Epoch 787 (global_step 1574000) finished, time:1 minute 10 seconds.\n",
      "\u001b[32m[0922 17:49:43 @saver.py:79]\u001b[0m Model saved to ../output/LPMC/DATGAN/model\\model-1574000.\n"
     ]
    },
    {
     "name": "stderr",
     "output_type": "stream",
     "text": [
      "\n"
     ]
    },
    {
     "name": "stdout",
     "output_type": "stream",
     "text": [
      "\u001b[32m[0922 17:49:43 @monitor.py:467]\u001b[0m GAN_loss/discrim/accuracy_fake: 0.9\n",
      "\u001b[32m[0922 17:49:43 @monitor.py:467]\u001b[0m GAN_loss/discrim/accuracy_real: 0.205\n",
      "\u001b[32m[0922 17:49:43 @monitor.py:467]\u001b[0m GAN_loss/discrim/loss: 0.6486\n",
      "\u001b[32m[0922 17:49:43 @monitor.py:467]\u001b[0m GAN_loss/gen/final-g-loss: 1.3026\n",
      "\u001b[32m[0922 17:49:43 @monitor.py:467]\u001b[0m GAN_loss/gen/klloss: 0.25052\n",
      "\u001b[32m[0922 17:49:43 @monitor.py:467]\u001b[0m GAN_loss/gen/loss: 1.052\n",
      "\u001b[32m[0922 17:49:43 @monitor.py:467]\u001b[0m QueueInput/queue_size: 50\n",
      "\u001b[32m[0922 17:49:43 @base.py:275]\u001b[0m Start Epoch 788 ...\n"
     ]
    },
    {
     "name": "stderr",
     "output_type": "stream",
     "text": [
      "100%|#################################################################################|2000/2000[01:11<00:00,28.08it/s]"
     ]
    },
    {
     "name": "stdout",
     "output_type": "stream",
     "text": [
      "\u001b[32m[0922 17:50:54 @base.py:285]\u001b[0m Epoch 788 (global_step 1576000) finished, time:1 minute 11 seconds.\n",
      "\u001b[32m[0922 17:50:54 @saver.py:79]\u001b[0m Model saved to ../output/LPMC/DATGAN/model\\model-1576000.\n"
     ]
    },
    {
     "name": "stderr",
     "output_type": "stream",
     "text": [
      "\n"
     ]
    },
    {
     "name": "stdout",
     "output_type": "stream",
     "text": [
      "\u001b[32m[0922 17:50:55 @monitor.py:467]\u001b[0m GAN_loss/discrim/accuracy_fake: 0.925\n",
      "\u001b[32m[0922 17:50:55 @monitor.py:467]\u001b[0m GAN_loss/discrim/accuracy_real: 0.185\n",
      "\u001b[32m[0922 17:50:55 @monitor.py:467]\u001b[0m GAN_loss/discrim/loss: 0.64179\n",
      "\u001b[32m[0922 17:50:55 @monitor.py:467]\u001b[0m GAN_loss/gen/final-g-loss: 1.2746\n",
      "\u001b[32m[0922 17:50:55 @monitor.py:467]\u001b[0m GAN_loss/gen/klloss: 0.18093\n",
      "\u001b[32m[0922 17:50:55 @monitor.py:467]\u001b[0m GAN_loss/gen/loss: 1.0937\n",
      "\u001b[32m[0922 17:50:55 @monitor.py:467]\u001b[0m QueueInput/queue_size: 50\n",
      "\u001b[32m[0922 17:50:55 @base.py:275]\u001b[0m Start Epoch 789 ...\n"
     ]
    },
    {
     "name": "stderr",
     "output_type": "stream",
     "text": [
      "100%|#################################################################################|2000/2000[01:11<00:00,28.07it/s]"
     ]
    },
    {
     "name": "stdout",
     "output_type": "stream",
     "text": [
      "\u001b[32m[0922 17:52:06 @base.py:285]\u001b[0m Epoch 789 (global_step 1578000) finished, time:1 minute 11 seconds.\n"
     ]
    },
    {
     "name": "stderr",
     "output_type": "stream",
     "text": [
      "\n"
     ]
    },
    {
     "name": "stdout",
     "output_type": "stream",
     "text": [
      "\u001b[32m[0922 17:52:06 @saver.py:79]\u001b[0m Model saved to ../output/LPMC/DATGAN/model\\model-1578000.\n",
      "\u001b[32m[0922 17:52:06 @monitor.py:467]\u001b[0m GAN_loss/discrim/accuracy_fake: 0.885\n",
      "\u001b[32m[0922 17:52:06 @monitor.py:467]\u001b[0m GAN_loss/discrim/accuracy_real: 0.205\n",
      "\u001b[32m[0922 17:52:06 @monitor.py:467]\u001b[0m GAN_loss/discrim/loss: 0.65449\n",
      "\u001b[32m[0922 17:52:06 @monitor.py:467]\u001b[0m GAN_loss/gen/final-g-loss: 1.3948\n",
      "\u001b[32m[0922 17:52:06 @monitor.py:467]\u001b[0m GAN_loss/gen/klloss: 0.34277\n",
      "\u001b[32m[0922 17:52:06 @monitor.py:467]\u001b[0m GAN_loss/gen/loss: 1.052\n",
      "\u001b[32m[0922 17:52:06 @monitor.py:467]\u001b[0m QueueInput/queue_size: 50\n",
      "\u001b[32m[0922 17:52:06 @base.py:275]\u001b[0m Start Epoch 790 ...\n"
     ]
    },
    {
     "name": "stderr",
     "output_type": "stream",
     "text": [
      "100%|#################################################################################|2000/2000[01:11<00:00,28.04it/s]"
     ]
    },
    {
     "name": "stdout",
     "output_type": "stream",
     "text": [
      "\u001b[32m[0922 17:53:17 @base.py:285]\u001b[0m Epoch 790 (global_step 1580000) finished, time:1 minute 11 seconds.\n",
      "\u001b[32m[0922 17:53:18 @saver.py:79]\u001b[0m Model saved to ../output/LPMC/DATGAN/model\\model-1580000.\n"
     ]
    },
    {
     "name": "stderr",
     "output_type": "stream",
     "text": [
      "\n"
     ]
    },
    {
     "name": "stdout",
     "output_type": "stream",
     "text": [
      "\u001b[32m[0922 17:53:18 @monitor.py:467]\u001b[0m GAN_loss/discrim/accuracy_fake: 0.875\n",
      "\u001b[32m[0922 17:53:18 @monitor.py:467]\u001b[0m GAN_loss/discrim/accuracy_real: 0.18\n",
      "\u001b[32m[0922 17:53:18 @monitor.py:467]\u001b[0m GAN_loss/discrim/loss: 0.64873\n",
      "\u001b[32m[0922 17:53:18 @monitor.py:467]\u001b[0m GAN_loss/gen/final-g-loss: 1.2832\n",
      "\u001b[32m[0922 17:53:18 @monitor.py:467]\u001b[0m GAN_loss/gen/klloss: 0.2221\n",
      "\u001b[32m[0922 17:53:18 @monitor.py:467]\u001b[0m GAN_loss/gen/loss: 1.0611\n",
      "\u001b[32m[0922 17:53:18 @monitor.py:467]\u001b[0m QueueInput/queue_size: 50\n",
      "\u001b[32m[0922 17:53:18 @base.py:275]\u001b[0m Start Epoch 791 ...\n"
     ]
    },
    {
     "name": "stderr",
     "output_type": "stream",
     "text": [
      "100%|#################################################################################|2000/2000[01:11<00:00,28.04it/s]"
     ]
    },
    {
     "name": "stdout",
     "output_type": "stream",
     "text": [
      "\u001b[32m[0922 17:54:29 @base.py:285]\u001b[0m Epoch 791 (global_step 1582000) finished, time:1 minute 11 seconds.\n",
      "\u001b[32m[0922 17:54:29 @saver.py:79]\u001b[0m Model saved to ../output/LPMC/DATGAN/model\\model-1582000.\n"
     ]
    },
    {
     "name": "stderr",
     "output_type": "stream",
     "text": [
      "\n"
     ]
    },
    {
     "name": "stdout",
     "output_type": "stream",
     "text": [
      "\u001b[32m[0922 17:54:29 @monitor.py:467]\u001b[0m GAN_loss/discrim/accuracy_fake: 0.885\n",
      "\u001b[32m[0922 17:54:29 @monitor.py:467]\u001b[0m GAN_loss/discrim/accuracy_real: 0.21\n",
      "\u001b[32m[0922 17:54:29 @monitor.py:467]\u001b[0m GAN_loss/discrim/loss: 0.65437\n",
      "\u001b[32m[0922 17:54:29 @monitor.py:467]\u001b[0m GAN_loss/gen/final-g-loss: 1.2237\n",
      "\u001b[32m[0922 17:54:29 @monitor.py:467]\u001b[0m GAN_loss/gen/klloss: 0.16472\n",
      "\u001b[32m[0922 17:54:29 @monitor.py:467]\u001b[0m GAN_loss/gen/loss: 1.0589\n",
      "\u001b[32m[0922 17:54:29 @monitor.py:467]\u001b[0m QueueInput/queue_size: 50\n",
      "\u001b[32m[0922 17:54:29 @base.py:275]\u001b[0m Start Epoch 792 ...\n"
     ]
    },
    {
     "name": "stderr",
     "output_type": "stream",
     "text": [
      "100%|#################################################################################|2000/2000[01:11<00:00,27.86it/s]"
     ]
    },
    {
     "name": "stdout",
     "output_type": "stream",
     "text": [
      "\u001b[32m[0922 17:55:41 @base.py:285]\u001b[0m Epoch 792 (global_step 1584000) finished, time:1 minute 11 seconds.\n",
      "\u001b[32m[0922 17:55:41 @saver.py:79]\u001b[0m Model saved to ../output/LPMC/DATGAN/model\\model-1584000.\n"
     ]
    },
    {
     "name": "stderr",
     "output_type": "stream",
     "text": [
      "\n"
     ]
    },
    {
     "name": "stdout",
     "output_type": "stream",
     "text": [
      "\u001b[32m[0922 17:55:41 @monitor.py:467]\u001b[0m GAN_loss/discrim/accuracy_fake: 0.87\n",
      "\u001b[32m[0922 17:55:41 @monitor.py:467]\u001b[0m GAN_loss/discrim/accuracy_real: 0.24\n",
      "\u001b[32m[0922 17:55:41 @monitor.py:467]\u001b[0m GAN_loss/discrim/loss: 0.6412\n",
      "\u001b[32m[0922 17:55:41 @monitor.py:467]\u001b[0m GAN_loss/gen/final-g-loss: 1.3726\n",
      "\u001b[32m[0922 17:55:41 @monitor.py:467]\u001b[0m GAN_loss/gen/klloss: 0.29984\n",
      "\u001b[32m[0922 17:55:41 @monitor.py:467]\u001b[0m GAN_loss/gen/loss: 1.0728\n",
      "\u001b[32m[0922 17:55:41 @monitor.py:467]\u001b[0m QueueInput/queue_size: 50\n",
      "\u001b[32m[0922 17:55:41 @base.py:275]\u001b[0m Start Epoch 793 ...\n"
     ]
    },
    {
     "name": "stderr",
     "output_type": "stream",
     "text": [
      "100%|#################################################################################|2000/2000[01:11<00:00,28.02it/s]"
     ]
    },
    {
     "name": "stdout",
     "output_type": "stream",
     "text": [
      "\u001b[32m[0922 17:56:53 @base.py:285]\u001b[0m Epoch 793 (global_step 1586000) finished, time:1 minute 11 seconds.\n",
      "\u001b[32m[0922 17:56:53 @saver.py:79]\u001b[0m Model saved to ../output/LPMC/DATGAN/model\\model-1586000.\n"
     ]
    },
    {
     "name": "stderr",
     "output_type": "stream",
     "text": [
      "\n"
     ]
    },
    {
     "name": "stdout",
     "output_type": "stream",
     "text": [
      "\u001b[32m[0922 17:56:53 @monitor.py:467]\u001b[0m GAN_loss/discrim/accuracy_fake: 0.88\n",
      "\u001b[32m[0922 17:56:53 @monitor.py:467]\u001b[0m GAN_loss/discrim/accuracy_real: 0.215\n",
      "\u001b[32m[0922 17:56:53 @monitor.py:467]\u001b[0m GAN_loss/discrim/loss: 0.63818\n",
      "\u001b[32m[0922 17:56:53 @monitor.py:467]\u001b[0m GAN_loss/gen/final-g-loss: 1.304\n",
      "\u001b[32m[0922 17:56:53 @monitor.py:467]\u001b[0m GAN_loss/gen/klloss: 0.23192\n",
      "\u001b[32m[0922 17:56:53 @monitor.py:467]\u001b[0m GAN_loss/gen/loss: 1.0721\n",
      "\u001b[32m[0922 17:56:53 @monitor.py:467]\u001b[0m QueueInput/queue_size: 50\n",
      "\u001b[32m[0922 17:56:53 @base.py:275]\u001b[0m Start Epoch 794 ...\n"
     ]
    },
    {
     "name": "stderr",
     "output_type": "stream",
     "text": [
      "100%|#################################################################################|2000/2000[01:11<00:00,27.95it/s]"
     ]
    },
    {
     "name": "stdout",
     "output_type": "stream",
     "text": [
      "\u001b[32m[0922 17:58:05 @base.py:285]\u001b[0m Epoch 794 (global_step 1588000) finished, time:1 minute 11 seconds.\n",
      "\u001b[32m[0922 17:58:05 @saver.py:79]\u001b[0m Model saved to ../output/LPMC/DATGAN/model\\model-1588000.\n"
     ]
    },
    {
     "name": "stderr",
     "output_type": "stream",
     "text": [
      "\n"
     ]
    },
    {
     "name": "stdout",
     "output_type": "stream",
     "text": [
      "\u001b[32m[0922 17:58:05 @monitor.py:467]\u001b[0m GAN_loss/discrim/accuracy_fake: 0.905\n",
      "\u001b[32m[0922 17:58:05 @monitor.py:467]\u001b[0m GAN_loss/discrim/accuracy_real: 0.17\n",
      "\u001b[32m[0922 17:58:05 @monitor.py:467]\u001b[0m GAN_loss/discrim/loss: 0.64754\n",
      "\u001b[32m[0922 17:58:05 @monitor.py:467]\u001b[0m GAN_loss/gen/final-g-loss: 1.2876\n",
      "\u001b[32m[0922 17:58:05 @monitor.py:467]\u001b[0m GAN_loss/gen/klloss: 0.22439\n",
      "\u001b[32m[0922 17:58:05 @monitor.py:467]\u001b[0m GAN_loss/gen/loss: 1.0632\n",
      "\u001b[32m[0922 17:58:05 @monitor.py:467]\u001b[0m QueueInput/queue_size: 50\n",
      "\u001b[32m[0922 17:58:05 @base.py:275]\u001b[0m Start Epoch 795 ...\n"
     ]
    },
    {
     "name": "stderr",
     "output_type": "stream",
     "text": [
      "100%|#################################################################################|2000/2000[01:12<00:00,27.59it/s]"
     ]
    },
    {
     "name": "stdout",
     "output_type": "stream",
     "text": [
      "\u001b[32m[0922 17:59:17 @base.py:285]\u001b[0m Epoch 795 (global_step 1590000) finished, time:1 minute 12 seconds.\n",
      "\u001b[32m[0922 17:59:17 @saver.py:79]\u001b[0m Model saved to ../output/LPMC/DATGAN/model\\model-1590000.\n"
     ]
    },
    {
     "name": "stderr",
     "output_type": "stream",
     "text": [
      "\n"
     ]
    },
    {
     "name": "stdout",
     "output_type": "stream",
     "text": [
      "\u001b[32m[0922 17:59:17 @monitor.py:467]\u001b[0m GAN_loss/discrim/accuracy_fake: 0.9\n",
      "\u001b[32m[0922 17:59:17 @monitor.py:467]\u001b[0m GAN_loss/discrim/accuracy_real: 0.2\n",
      "\u001b[32m[0922 17:59:17 @monitor.py:467]\u001b[0m GAN_loss/discrim/loss: 0.64366\n",
      "\u001b[32m[0922 17:59:17 @monitor.py:467]\u001b[0m GAN_loss/gen/final-g-loss: 1.3187\n",
      "\u001b[32m[0922 17:59:17 @monitor.py:467]\u001b[0m GAN_loss/gen/klloss: 0.24811\n",
      "\u001b[32m[0922 17:59:17 @monitor.py:467]\u001b[0m GAN_loss/gen/loss: 1.0706\n",
      "\u001b[32m[0922 17:59:17 @monitor.py:467]\u001b[0m QueueInput/queue_size: 50\n",
      "\u001b[32m[0922 17:59:17 @base.py:275]\u001b[0m Start Epoch 796 ...\n"
     ]
    },
    {
     "name": "stderr",
     "output_type": "stream",
     "text": [
      "100%|#################################################################################|2000/2000[01:11<00:00,28.11it/s]"
     ]
    },
    {
     "name": "stdout",
     "output_type": "stream",
     "text": [
      "\u001b[32m[0922 18:00:29 @base.py:285]\u001b[0m Epoch 796 (global_step 1592000) finished, time:1 minute 11 seconds.\n",
      "\u001b[32m[0922 18:00:29 @saver.py:79]\u001b[0m Model saved to ../output/LPMC/DATGAN/model\\model-1592000.\n"
     ]
    },
    {
     "name": "stderr",
     "output_type": "stream",
     "text": [
      "\n"
     ]
    },
    {
     "name": "stdout",
     "output_type": "stream",
     "text": [
      "\u001b[32m[0922 18:00:29 @monitor.py:467]\u001b[0m GAN_loss/discrim/accuracy_fake: 0.91\n",
      "\u001b[32m[0922 18:00:29 @monitor.py:467]\u001b[0m GAN_loss/discrim/accuracy_real: 0.175\n",
      "\u001b[32m[0922 18:00:29 @monitor.py:467]\u001b[0m GAN_loss/discrim/loss: 0.63913\n",
      "\u001b[32m[0922 18:00:29 @monitor.py:467]\u001b[0m GAN_loss/gen/final-g-loss: 1.2635\n",
      "\u001b[32m[0922 18:00:29 @monitor.py:467]\u001b[0m GAN_loss/gen/klloss: 0.19318\n",
      "\u001b[32m[0922 18:00:29 @monitor.py:467]\u001b[0m GAN_loss/gen/loss: 1.0703\n",
      "\u001b[32m[0922 18:00:29 @monitor.py:467]\u001b[0m QueueInput/queue_size: 50\n",
      "\u001b[32m[0922 18:00:29 @base.py:275]\u001b[0m Start Epoch 797 ...\n"
     ]
    },
    {
     "name": "stderr",
     "output_type": "stream",
     "text": [
      "100%|#################################################################################|2000/2000[01:11<00:00,28.01it/s]"
     ]
    },
    {
     "name": "stdout",
     "output_type": "stream",
     "text": [
      "\u001b[32m[0922 18:01:40 @base.py:285]\u001b[0m Epoch 797 (global_step 1594000) finished, time:1 minute 11 seconds.\n",
      "\u001b[32m[0922 18:01:40 @saver.py:79]\u001b[0m Model saved to ../output/LPMC/DATGAN/model\\model-1594000.\n"
     ]
    },
    {
     "name": "stderr",
     "output_type": "stream",
     "text": [
      "\n"
     ]
    },
    {
     "name": "stdout",
     "output_type": "stream",
     "text": [
      "\u001b[32m[0922 18:01:40 @monitor.py:467]\u001b[0m GAN_loss/discrim/accuracy_fake: 0.905\n",
      "\u001b[32m[0922 18:01:40 @monitor.py:467]\u001b[0m GAN_loss/discrim/accuracy_real: 0.175\n",
      "\u001b[32m[0922 18:01:40 @monitor.py:467]\u001b[0m GAN_loss/discrim/loss: 0.64139\n",
      "\u001b[32m[0922 18:01:40 @monitor.py:467]\u001b[0m GAN_loss/gen/final-g-loss: 1.3784\n",
      "\u001b[32m[0922 18:01:40 @monitor.py:467]\u001b[0m GAN_loss/gen/klloss: 0.28733\n",
      "\u001b[32m[0922 18:01:40 @monitor.py:467]\u001b[0m GAN_loss/gen/loss: 1.0911\n",
      "\u001b[32m[0922 18:01:40 @monitor.py:467]\u001b[0m QueueInput/queue_size: 50\n",
      "\u001b[32m[0922 18:01:40 @base.py:275]\u001b[0m Start Epoch 798 ...\n"
     ]
    },
    {
     "name": "stderr",
     "output_type": "stream",
     "text": [
      "100%|#################################################################################|2000/2000[01:10<00:00,28.21it/s]"
     ]
    },
    {
     "name": "stdout",
     "output_type": "stream",
     "text": [
      "\u001b[32m[0922 18:02:51 @base.py:285]\u001b[0m Epoch 798 (global_step 1596000) finished, time:1 minute 10 seconds.\n"
     ]
    },
    {
     "name": "stderr",
     "output_type": "stream",
     "text": [
      "\n"
     ]
    },
    {
     "name": "stdout",
     "output_type": "stream",
     "text": [
      "\u001b[32m[0922 18:02:51 @saver.py:79]\u001b[0m Model saved to ../output/LPMC/DATGAN/model\\model-1596000.\n",
      "\u001b[32m[0922 18:02:52 @monitor.py:467]\u001b[0m GAN_loss/discrim/accuracy_fake: 0.875\n",
      "\u001b[32m[0922 18:02:52 @monitor.py:467]\u001b[0m GAN_loss/discrim/accuracy_real: 0.235\n",
      "\u001b[32m[0922 18:02:52 @monitor.py:467]\u001b[0m GAN_loss/discrim/loss: 0.6517\n",
      "\u001b[32m[0922 18:02:52 @monitor.py:467]\u001b[0m GAN_loss/gen/final-g-loss: 1.4654\n",
      "\u001b[32m[0922 18:02:52 @monitor.py:467]\u001b[0m GAN_loss/gen/klloss: 0.42703\n",
      "\u001b[32m[0922 18:02:52 @monitor.py:467]\u001b[0m GAN_loss/gen/loss: 1.0383\n",
      "\u001b[32m[0922 18:02:52 @monitor.py:467]\u001b[0m QueueInput/queue_size: 50\n",
      "\u001b[32m[0922 18:02:52 @base.py:275]\u001b[0m Start Epoch 799 ...\n"
     ]
    },
    {
     "name": "stderr",
     "output_type": "stream",
     "text": [
      "100%|#################################################################################|2000/2000[01:11<00:00,28.09it/s]"
     ]
    },
    {
     "name": "stdout",
     "output_type": "stream",
     "text": [
      "\u001b[32m[0922 18:04:03 @base.py:285]\u001b[0m Epoch 799 (global_step 1598000) finished, time:1 minute 11 seconds.\n",
      "\u001b[32m[0922 18:04:03 @saver.py:79]\u001b[0m Model saved to ../output/LPMC/DATGAN/model\\model-1598000.\n"
     ]
    },
    {
     "name": "stderr",
     "output_type": "stream",
     "text": [
      "\n"
     ]
    },
    {
     "name": "stdout",
     "output_type": "stream",
     "text": [
      "\u001b[32m[0922 18:04:03 @monitor.py:467]\u001b[0m GAN_loss/discrim/accuracy_fake: 0.88\n",
      "\u001b[32m[0922 18:04:03 @monitor.py:467]\u001b[0m GAN_loss/discrim/accuracy_real: 0.185\n",
      "\u001b[32m[0922 18:04:03 @monitor.py:467]\u001b[0m GAN_loss/discrim/loss: 0.64527\n",
      "\u001b[32m[0922 18:04:03 @monitor.py:467]\u001b[0m GAN_loss/gen/final-g-loss: 1.2832\n",
      "\u001b[32m[0922 18:04:03 @monitor.py:467]\u001b[0m GAN_loss/gen/klloss: 0.22296\n",
      "\u001b[32m[0922 18:04:03 @monitor.py:467]\u001b[0m GAN_loss/gen/loss: 1.0602\n",
      "\u001b[32m[0922 18:04:03 @monitor.py:467]\u001b[0m QueueInput/queue_size: 50\n",
      "\u001b[32m[0922 18:04:03 @base.py:275]\u001b[0m Start Epoch 800 ...\n"
     ]
    },
    {
     "name": "stderr",
     "output_type": "stream",
     "text": [
      "100%|#################################################################################|2000/2000[01:11<00:00,28.05it/s]"
     ]
    },
    {
     "name": "stdout",
     "output_type": "stream",
     "text": [
      "\u001b[32m[0922 18:05:14 @base.py:285]\u001b[0m Epoch 800 (global_step 1600000) finished, time:1 minute 11 seconds.\n",
      "\u001b[32m[0922 18:05:14 @saver.py:79]\u001b[0m Model saved to ../output/LPMC/DATGAN/model\\model-1600000.\n"
     ]
    },
    {
     "name": "stderr",
     "output_type": "stream",
     "text": [
      "\n"
     ]
    },
    {
     "name": "stdout",
     "output_type": "stream",
     "text": [
      "\u001b[32m[0922 18:05:15 @monitor.py:467]\u001b[0m GAN_loss/discrim/accuracy_fake: 0.875\n",
      "\u001b[32m[0922 18:05:15 @monitor.py:467]\u001b[0m GAN_loss/discrim/accuracy_real: 0.215\n",
      "\u001b[32m[0922 18:05:15 @monitor.py:467]\u001b[0m GAN_loss/discrim/loss: 0.64338\n",
      "\u001b[32m[0922 18:05:15 @monitor.py:467]\u001b[0m GAN_loss/gen/final-g-loss: 1.2812\n",
      "\u001b[32m[0922 18:05:15 @monitor.py:467]\u001b[0m GAN_loss/gen/klloss: 0.21139\n",
      "\u001b[32m[0922 18:05:15 @monitor.py:467]\u001b[0m GAN_loss/gen/loss: 1.0698\n",
      "\u001b[32m[0922 18:05:15 @monitor.py:467]\u001b[0m QueueInput/queue_size: 50\n",
      "\u001b[32m[0922 18:05:15 @base.py:275]\u001b[0m Start Epoch 801 ...\n"
     ]
    },
    {
     "name": "stderr",
     "output_type": "stream",
     "text": [
      "100%|#################################################################################|2000/2000[01:11<00:00,28.16it/s]"
     ]
    },
    {
     "name": "stdout",
     "output_type": "stream",
     "text": [
      "\u001b[32m[0922 18:06:26 @base.py:285]\u001b[0m Epoch 801 (global_step 1602000) finished, time:1 minute 11 seconds.\n"
     ]
    },
    {
     "name": "stderr",
     "output_type": "stream",
     "text": [
      "\n"
     ]
    },
    {
     "name": "stdout",
     "output_type": "stream",
     "text": [
      "\u001b[32m[0922 18:06:26 @saver.py:79]\u001b[0m Model saved to ../output/LPMC/DATGAN/model\\model-1602000.\n",
      "\u001b[32m[0922 18:06:26 @monitor.py:467]\u001b[0m GAN_loss/discrim/accuracy_fake: 0.915\n",
      "\u001b[32m[0922 18:06:26 @monitor.py:467]\u001b[0m GAN_loss/discrim/accuracy_real: 0.2\n",
      "\u001b[32m[0922 18:06:26 @monitor.py:467]\u001b[0m GAN_loss/discrim/loss: 0.63005\n",
      "\u001b[32m[0922 18:06:26 @monitor.py:467]\u001b[0m GAN_loss/gen/final-g-loss: 1.3303\n",
      "\u001b[32m[0922 18:06:26 @monitor.py:467]\u001b[0m GAN_loss/gen/klloss: 0.2403\n",
      "\u001b[32m[0922 18:06:26 @monitor.py:467]\u001b[0m GAN_loss/gen/loss: 1.09\n",
      "\u001b[32m[0922 18:06:26 @monitor.py:467]\u001b[0m QueueInput/queue_size: 50\n",
      "\u001b[32m[0922 18:06:26 @base.py:275]\u001b[0m Start Epoch 802 ...\n"
     ]
    },
    {
     "name": "stderr",
     "output_type": "stream",
     "text": [
      "100%|#################################################################################|2000/2000[01:11<00:00,28.12it/s]"
     ]
    },
    {
     "name": "stdout",
     "output_type": "stream",
     "text": [
      "\u001b[32m[0922 18:07:37 @base.py:285]\u001b[0m Epoch 802 (global_step 1604000) finished, time:1 minute 11 seconds.\n",
      "\u001b[32m[0922 18:07:37 @saver.py:79]\u001b[0m Model saved to ../output/LPMC/DATGAN/model\\model-1604000.\n"
     ]
    },
    {
     "name": "stderr",
     "output_type": "stream",
     "text": [
      "\n"
     ]
    },
    {
     "name": "stdout",
     "output_type": "stream",
     "text": [
      "\u001b[32m[0922 18:07:37 @monitor.py:467]\u001b[0m GAN_loss/discrim/accuracy_fake: 0.91\n",
      "\u001b[32m[0922 18:07:37 @monitor.py:467]\u001b[0m GAN_loss/discrim/accuracy_real: 0.17\n",
      "\u001b[32m[0922 18:07:37 @monitor.py:467]\u001b[0m GAN_loss/discrim/loss: 0.65327\n",
      "\u001b[32m[0922 18:07:37 @monitor.py:467]\u001b[0m GAN_loss/gen/final-g-loss: 1.2614\n",
      "\u001b[32m[0922 18:07:37 @monitor.py:467]\u001b[0m GAN_loss/gen/klloss: 0.20481\n",
      "\u001b[32m[0922 18:07:37 @monitor.py:467]\u001b[0m GAN_loss/gen/loss: 1.0565\n",
      "\u001b[32m[0922 18:07:37 @monitor.py:467]\u001b[0m QueueInput/queue_size: 50\n",
      "\u001b[32m[0922 18:07:37 @base.py:275]\u001b[0m Start Epoch 803 ...\n"
     ]
    },
    {
     "name": "stderr",
     "output_type": "stream",
     "text": [
      "100%|#################################################################################|2000/2000[01:11<00:00,28.16it/s]"
     ]
    },
    {
     "name": "stdout",
     "output_type": "stream",
     "text": [
      "\u001b[32m[0922 18:08:48 @base.py:285]\u001b[0m Epoch 803 (global_step 1606000) finished, time:1 minute 11 seconds.\n",
      "\u001b[32m[0922 18:08:48 @saver.py:79]\u001b[0m Model saved to ../output/LPMC/DATGAN/model\\model-1606000.\n"
     ]
    },
    {
     "name": "stderr",
     "output_type": "stream",
     "text": [
      "\n"
     ]
    },
    {
     "name": "stdout",
     "output_type": "stream",
     "text": [
      "\u001b[32m[0922 18:08:49 @monitor.py:467]\u001b[0m GAN_loss/discrim/accuracy_fake: 0.895\n",
      "\u001b[32m[0922 18:08:49 @monitor.py:467]\u001b[0m GAN_loss/discrim/accuracy_real: 0.205\n",
      "\u001b[32m[0922 18:08:49 @monitor.py:467]\u001b[0m GAN_loss/discrim/loss: 0.64545\n",
      "\u001b[32m[0922 18:08:49 @monitor.py:467]\u001b[0m GAN_loss/gen/final-g-loss: 1.2674\n",
      "\u001b[32m[0922 18:08:49 @monitor.py:467]\u001b[0m GAN_loss/gen/klloss: 0.20276\n",
      "\u001b[32m[0922 18:08:49 @monitor.py:467]\u001b[0m GAN_loss/gen/loss: 1.0647\n",
      "\u001b[32m[0922 18:08:49 @monitor.py:467]\u001b[0m QueueInput/queue_size: 50\n",
      "\u001b[32m[0922 18:08:49 @base.py:275]\u001b[0m Start Epoch 804 ...\n"
     ]
    },
    {
     "name": "stderr",
     "output_type": "stream",
     "text": [
      "100%|#################################################################################|2000/2000[01:11<00:00,28.15it/s]"
     ]
    },
    {
     "name": "stdout",
     "output_type": "stream",
     "text": [
      "\u001b[32m[0922 18:10:00 @base.py:285]\u001b[0m Epoch 804 (global_step 1608000) finished, time:1 minute 11 seconds.\n"
     ]
    },
    {
     "name": "stderr",
     "output_type": "stream",
     "text": [
      "\n"
     ]
    },
    {
     "name": "stdout",
     "output_type": "stream",
     "text": [
      "\u001b[32m[0922 18:10:00 @saver.py:79]\u001b[0m Model saved to ../output/LPMC/DATGAN/model\\model-1608000.\n",
      "\u001b[32m[0922 18:10:00 @monitor.py:467]\u001b[0m GAN_loss/discrim/accuracy_fake: 0.87\n",
      "\u001b[32m[0922 18:10:00 @monitor.py:467]\u001b[0m GAN_loss/discrim/accuracy_real: 0.17\n",
      "\u001b[32m[0922 18:10:00 @monitor.py:467]\u001b[0m GAN_loss/discrim/loss: 0.6466\n",
      "\u001b[32m[0922 18:10:00 @monitor.py:467]\u001b[0m GAN_loss/gen/final-g-loss: 1.2611\n",
      "\u001b[32m[0922 18:10:00 @monitor.py:467]\u001b[0m GAN_loss/gen/klloss: 0.21607\n",
      "\u001b[32m[0922 18:10:00 @monitor.py:467]\u001b[0m GAN_loss/gen/loss: 1.045\n",
      "\u001b[32m[0922 18:10:00 @monitor.py:467]\u001b[0m QueueInput/queue_size: 50\n",
      "\u001b[32m[0922 18:10:00 @base.py:275]\u001b[0m Start Epoch 805 ...\n"
     ]
    },
    {
     "name": "stderr",
     "output_type": "stream",
     "text": [
      "100%|#################################################################################|2000/2000[01:10<00:00,28.26it/s]"
     ]
    },
    {
     "name": "stdout",
     "output_type": "stream",
     "text": [
      "\u001b[32m[0922 18:11:11 @base.py:285]\u001b[0m Epoch 805 (global_step 1610000) finished, time:1 minute 10 seconds.\n",
      "\u001b[32m[0922 18:11:11 @saver.py:79]\u001b[0m Model saved to ../output/LPMC/DATGAN/model\\model-1610000.\n"
     ]
    },
    {
     "name": "stderr",
     "output_type": "stream",
     "text": [
      "\n"
     ]
    },
    {
     "name": "stdout",
     "output_type": "stream",
     "text": [
      "\u001b[32m[0922 18:11:11 @monitor.py:467]\u001b[0m GAN_loss/discrim/accuracy_fake: 0.955\n",
      "\u001b[32m[0922 18:11:11 @monitor.py:467]\u001b[0m GAN_loss/discrim/accuracy_real: 0.205\n",
      "\u001b[32m[0922 18:11:11 @monitor.py:467]\u001b[0m GAN_loss/discrim/loss: 0.63308\n",
      "\u001b[32m[0922 18:11:11 @monitor.py:467]\u001b[0m GAN_loss/gen/final-g-loss: 1.2911\n",
      "\u001b[32m[0922 18:11:11 @monitor.py:467]\u001b[0m GAN_loss/gen/klloss: 0.18677\n",
      "\u001b[32m[0922 18:11:11 @monitor.py:467]\u001b[0m GAN_loss/gen/loss: 1.1044\n",
      "\u001b[32m[0922 18:11:11 @monitor.py:467]\u001b[0m QueueInput/queue_size: 50\n",
      "\u001b[32m[0922 18:11:11 @base.py:275]\u001b[0m Start Epoch 806 ...\n"
     ]
    },
    {
     "name": "stderr",
     "output_type": "stream",
     "text": [
      "100%|#################################################################################|2000/2000[01:10<00:00,28.21it/s]"
     ]
    },
    {
     "name": "stdout",
     "output_type": "stream",
     "text": [
      "\u001b[32m[0922 18:12:22 @base.py:285]\u001b[0m Epoch 806 (global_step 1612000) finished, time:1 minute 10 seconds.\n",
      "\u001b[32m[0922 18:12:22 @saver.py:79]\u001b[0m Model saved to ../output/LPMC/DATGAN/model\\model-1612000.\n"
     ]
    },
    {
     "name": "stderr",
     "output_type": "stream",
     "text": [
      "\n"
     ]
    },
    {
     "name": "stdout",
     "output_type": "stream",
     "text": [
      "\u001b[32m[0922 18:12:22 @monitor.py:467]\u001b[0m GAN_loss/discrim/accuracy_fake: 0.925\n",
      "\u001b[32m[0922 18:12:22 @monitor.py:467]\u001b[0m GAN_loss/discrim/accuracy_real: 0.185\n",
      "\u001b[32m[0922 18:12:22 @monitor.py:467]\u001b[0m GAN_loss/discrim/loss: 0.63992\n",
      "\u001b[32m[0922 18:12:22 @monitor.py:467]\u001b[0m GAN_loss/gen/final-g-loss: 1.3614\n",
      "\u001b[32m[0922 18:12:22 @monitor.py:467]\u001b[0m GAN_loss/gen/klloss: 0.2823\n",
      "\u001b[32m[0922 18:12:22 @monitor.py:467]\u001b[0m GAN_loss/gen/loss: 1.0791\n",
      "\u001b[32m[0922 18:12:22 @monitor.py:467]\u001b[0m QueueInput/queue_size: 50\n",
      "\u001b[32m[0922 18:12:22 @base.py:275]\u001b[0m Start Epoch 807 ...\n"
     ]
    },
    {
     "name": "stderr",
     "output_type": "stream",
     "text": [
      "100%|#################################################################################|2000/2000[01:11<00:00,28.13it/s]"
     ]
    },
    {
     "name": "stdout",
     "output_type": "stream",
     "text": [
      "\u001b[32m[0922 18:13:33 @base.py:285]\u001b[0m Epoch 807 (global_step 1614000) finished, time:1 minute 11 seconds.\n",
      "\u001b[32m[0922 18:13:33 @saver.py:79]\u001b[0m Model saved to ../output/LPMC/DATGAN/model\\model-1614000.\n"
     ]
    },
    {
     "name": "stderr",
     "output_type": "stream",
     "text": [
      "\n"
     ]
    },
    {
     "name": "stdout",
     "output_type": "stream",
     "text": [
      "\u001b[32m[0922 18:13:33 @monitor.py:467]\u001b[0m GAN_loss/discrim/accuracy_fake: 0.89\n",
      "\u001b[32m[0922 18:13:33 @monitor.py:467]\u001b[0m GAN_loss/discrim/accuracy_real: 0.225\n",
      "\u001b[32m[0922 18:13:33 @monitor.py:467]\u001b[0m GAN_loss/discrim/loss: 0.63963\n",
      "\u001b[32m[0922 18:13:33 @monitor.py:467]\u001b[0m GAN_loss/gen/final-g-loss: 1.2632\n",
      "\u001b[32m[0922 18:13:33 @monitor.py:467]\u001b[0m GAN_loss/gen/klloss: 0.20937\n",
      "\u001b[32m[0922 18:13:33 @monitor.py:467]\u001b[0m GAN_loss/gen/loss: 1.0539\n",
      "\u001b[32m[0922 18:13:33 @monitor.py:467]\u001b[0m QueueInput/queue_size: 50\n",
      "\u001b[32m[0922 18:13:33 @base.py:275]\u001b[0m Start Epoch 808 ...\n"
     ]
    },
    {
     "name": "stderr",
     "output_type": "stream",
     "text": [
      "100%|#################################################################################|2000/2000[01:11<00:00,28.07it/s]"
     ]
    },
    {
     "name": "stdout",
     "output_type": "stream",
     "text": [
      "\u001b[32m[0922 18:14:45 @base.py:285]\u001b[0m Epoch 808 (global_step 1616000) finished, time:1 minute 11 seconds.\n",
      "\u001b[32m[0922 18:14:45 @saver.py:79]\u001b[0m Model saved to ../output/LPMC/DATGAN/model\\model-1616000.\n"
     ]
    },
    {
     "name": "stderr",
     "output_type": "stream",
     "text": [
      "\n"
     ]
    },
    {
     "name": "stdout",
     "output_type": "stream",
     "text": [
      "\u001b[32m[0922 18:14:45 @monitor.py:467]\u001b[0m GAN_loss/discrim/accuracy_fake: 0.925\n",
      "\u001b[32m[0922 18:14:45 @monitor.py:467]\u001b[0m GAN_loss/discrim/accuracy_real: 0.2\n",
      "\u001b[32m[0922 18:14:45 @monitor.py:467]\u001b[0m GAN_loss/discrim/loss: 0.64825\n",
      "\u001b[32m[0922 18:14:45 @monitor.py:467]\u001b[0m GAN_loss/gen/final-g-loss: 1.3422\n",
      "\u001b[32m[0922 18:14:45 @monitor.py:467]\u001b[0m GAN_loss/gen/klloss: 0.27071\n",
      "\u001b[32m[0922 18:14:45 @monitor.py:467]\u001b[0m GAN_loss/gen/loss: 1.0714\n",
      "\u001b[32m[0922 18:14:45 @monitor.py:467]\u001b[0m QueueInput/queue_size: 50\n",
      "\u001b[32m[0922 18:14:45 @base.py:275]\u001b[0m Start Epoch 809 ...\n"
     ]
    },
    {
     "name": "stderr",
     "output_type": "stream",
     "text": [
      "100%|#################################################################################|2000/2000[01:11<00:00,28.07it/s]"
     ]
    },
    {
     "name": "stdout",
     "output_type": "stream",
     "text": [
      "\u001b[32m[0922 18:15:56 @base.py:285]\u001b[0m Epoch 809 (global_step 1618000) finished, time:1 minute 11 seconds.\n"
     ]
    },
    {
     "name": "stderr",
     "output_type": "stream",
     "text": [
      "\n"
     ]
    },
    {
     "name": "stdout",
     "output_type": "stream",
     "text": [
      "\u001b[32m[0922 18:15:56 @saver.py:79]\u001b[0m Model saved to ../output/LPMC/DATGAN/model\\model-1618000.\n",
      "\u001b[32m[0922 18:15:56 @monitor.py:467]\u001b[0m GAN_loss/discrim/accuracy_fake: 0.895\n",
      "\u001b[32m[0922 18:15:56 @monitor.py:467]\u001b[0m GAN_loss/discrim/accuracy_real: 0.24\n",
      "\u001b[32m[0922 18:15:56 @monitor.py:467]\u001b[0m GAN_loss/discrim/loss: 0.63974\n",
      "\u001b[32m[0922 18:15:56 @monitor.py:467]\u001b[0m GAN_loss/gen/final-g-loss: 1.4261\n",
      "\u001b[32m[0922 18:15:56 @monitor.py:467]\u001b[0m GAN_loss/gen/klloss: 0.35513\n",
      "\u001b[32m[0922 18:15:56 @monitor.py:467]\u001b[0m GAN_loss/gen/loss: 1.0709\n",
      "\u001b[32m[0922 18:15:56 @monitor.py:467]\u001b[0m QueueInput/queue_size: 50\n",
      "\u001b[32m[0922 18:15:56 @base.py:275]\u001b[0m Start Epoch 810 ...\n"
     ]
    },
    {
     "name": "stderr",
     "output_type": "stream",
     "text": [
      "100%|#################################################################################|2000/2000[01:11<00:00,28.15it/s]"
     ]
    },
    {
     "name": "stdout",
     "output_type": "stream",
     "text": [
      "\u001b[32m[0922 18:17:07 @base.py:285]\u001b[0m Epoch 810 (global_step 1620000) finished, time:1 minute 11 seconds.\n"
     ]
    },
    {
     "name": "stderr",
     "output_type": "stream",
     "text": [
      "\n"
     ]
    },
    {
     "name": "stdout",
     "output_type": "stream",
     "text": [
      "\u001b[32m[0922 18:17:07 @saver.py:79]\u001b[0m Model saved to ../output/LPMC/DATGAN/model\\model-1620000.\n",
      "\u001b[32m[0922 18:17:08 @monitor.py:467]\u001b[0m GAN_loss/discrim/accuracy_fake: 0.92\n",
      "\u001b[32m[0922 18:17:08 @monitor.py:467]\u001b[0m GAN_loss/discrim/accuracy_real: 0.19\n",
      "\u001b[32m[0922 18:17:08 @monitor.py:467]\u001b[0m GAN_loss/discrim/loss: 0.64352\n",
      "\u001b[32m[0922 18:17:08 @monitor.py:467]\u001b[0m GAN_loss/gen/final-g-loss: 1.5624\n",
      "\u001b[32m[0922 18:17:08 @monitor.py:467]\u001b[0m GAN_loss/gen/klloss: 0.48798\n",
      "\u001b[32m[0922 18:17:08 @monitor.py:467]\u001b[0m GAN_loss/gen/loss: 1.0745\n",
      "\u001b[32m[0922 18:17:08 @monitor.py:467]\u001b[0m QueueInput/queue_size: 50\n",
      "\u001b[32m[0922 18:17:08 @base.py:275]\u001b[0m Start Epoch 811 ...\n"
     ]
    },
    {
     "name": "stderr",
     "output_type": "stream",
     "text": [
      "100%|#################################################################################|2000/2000[01:10<00:00,28.30it/s]"
     ]
    },
    {
     "name": "stdout",
     "output_type": "stream",
     "text": [
      "\u001b[32m[0922 18:18:18 @base.py:285]\u001b[0m Epoch 811 (global_step 1622000) finished, time:1 minute 10 seconds.\n",
      "\u001b[32m[0922 18:18:18 @saver.py:79]\u001b[0m Model saved to ../output/LPMC/DATGAN/model\\model-1622000.\n"
     ]
    },
    {
     "name": "stderr",
     "output_type": "stream",
     "text": [
      "\n"
     ]
    },
    {
     "name": "stdout",
     "output_type": "stream",
     "text": [
      "\u001b[32m[0922 18:18:18 @monitor.py:467]\u001b[0m GAN_loss/discrim/accuracy_fake: 0.935\n",
      "\u001b[32m[0922 18:18:18 @monitor.py:467]\u001b[0m GAN_loss/discrim/accuracy_real: 0.165\n",
      "\u001b[32m[0922 18:18:18 @monitor.py:467]\u001b[0m GAN_loss/discrim/loss: 0.63666\n",
      "\u001b[32m[0922 18:18:18 @monitor.py:467]\u001b[0m GAN_loss/gen/final-g-loss: 1.4356\n",
      "\u001b[32m[0922 18:18:18 @monitor.py:467]\u001b[0m GAN_loss/gen/klloss: 0.32293\n",
      "\u001b[32m[0922 18:18:18 @monitor.py:467]\u001b[0m GAN_loss/gen/loss: 1.1126\n",
      "\u001b[32m[0922 18:18:18 @monitor.py:467]\u001b[0m QueueInput/queue_size: 50\n",
      "\u001b[32m[0922 18:18:18 @base.py:275]\u001b[0m Start Epoch 812 ...\n"
     ]
    },
    {
     "name": "stderr",
     "output_type": "stream",
     "text": [
      "100%|#################################################################################|2000/2000[01:10<00:00,28.23it/s]"
     ]
    },
    {
     "name": "stdout",
     "output_type": "stream",
     "text": [
      "\u001b[32m[0922 18:19:29 @base.py:285]\u001b[0m Epoch 812 (global_step 1624000) finished, time:1 minute 10 seconds.\n",
      "\u001b[32m[0922 18:19:29 @saver.py:79]\u001b[0m Model saved to ../output/LPMC/DATGAN/model\\model-1624000.\n"
     ]
    },
    {
     "name": "stderr",
     "output_type": "stream",
     "text": [
      "\n"
     ]
    },
    {
     "name": "stdout",
     "output_type": "stream",
     "text": [
      "\u001b[32m[0922 18:19:30 @monitor.py:467]\u001b[0m GAN_loss/discrim/accuracy_fake: 0.895\n",
      "\u001b[32m[0922 18:19:30 @monitor.py:467]\u001b[0m GAN_loss/discrim/accuracy_real: 0.16\n",
      "\u001b[32m[0922 18:19:30 @monitor.py:467]\u001b[0m GAN_loss/discrim/loss: 0.64713\n",
      "\u001b[32m[0922 18:19:30 @monitor.py:467]\u001b[0m GAN_loss/gen/final-g-loss: 1.3489\n",
      "\u001b[32m[0922 18:19:30 @monitor.py:467]\u001b[0m GAN_loss/gen/klloss: 0.27713\n",
      "\u001b[32m[0922 18:19:30 @monitor.py:467]\u001b[0m GAN_loss/gen/loss: 1.0718\n",
      "\u001b[32m[0922 18:19:30 @monitor.py:467]\u001b[0m QueueInput/queue_size: 50\n",
      "\u001b[32m[0922 18:19:30 @base.py:275]\u001b[0m Start Epoch 813 ...\n"
     ]
    },
    {
     "name": "stderr",
     "output_type": "stream",
     "text": [
      "100%|#################################################################################|2000/2000[01:10<00:00,28.21it/s]"
     ]
    },
    {
     "name": "stdout",
     "output_type": "stream",
     "text": [
      "\u001b[32m[0922 18:20:40 @base.py:285]\u001b[0m Epoch 813 (global_step 1626000) finished, time:1 minute 10 seconds.\n",
      "\u001b[32m[0922 18:20:41 @saver.py:79]\u001b[0m Model saved to ../output/LPMC/DATGAN/model\\model-1626000.\n"
     ]
    },
    {
     "name": "stderr",
     "output_type": "stream",
     "text": [
      "\n"
     ]
    },
    {
     "name": "stdout",
     "output_type": "stream",
     "text": [
      "\u001b[32m[0922 18:20:41 @monitor.py:467]\u001b[0m GAN_loss/discrim/accuracy_fake: 0.915\n",
      "\u001b[32m[0922 18:20:41 @monitor.py:467]\u001b[0m GAN_loss/discrim/accuracy_real: 0.15\n",
      "\u001b[32m[0922 18:20:41 @monitor.py:467]\u001b[0m GAN_loss/discrim/loss: 0.65153\n",
      "\u001b[32m[0922 18:20:41 @monitor.py:467]\u001b[0m GAN_loss/gen/final-g-loss: 1.3002\n",
      "\u001b[32m[0922 18:20:41 @monitor.py:467]\u001b[0m GAN_loss/gen/klloss: 0.23671\n",
      "\u001b[32m[0922 18:20:41 @monitor.py:467]\u001b[0m GAN_loss/gen/loss: 1.0635\n",
      "\u001b[32m[0922 18:20:41 @monitor.py:467]\u001b[0m QueueInput/queue_size: 50\n",
      "\u001b[32m[0922 18:20:41 @base.py:275]\u001b[0m Start Epoch 814 ...\n"
     ]
    },
    {
     "name": "stderr",
     "output_type": "stream",
     "text": [
      "100%|#################################################################################|2000/2000[01:10<00:00,28.27it/s]"
     ]
    },
    {
     "name": "stdout",
     "output_type": "stream",
     "text": [
      "\u001b[32m[0922 18:21:51 @base.py:285]\u001b[0m Epoch 814 (global_step 1628000) finished, time:1 minute 10 seconds.\n",
      "\u001b[32m[0922 18:21:52 @saver.py:79]\u001b[0m Model saved to ../output/LPMC/DATGAN/model\\model-1628000.\n"
     ]
    },
    {
     "name": "stderr",
     "output_type": "stream",
     "text": [
      "\n"
     ]
    },
    {
     "name": "stdout",
     "output_type": "stream",
     "text": [
      "\u001b[32m[0922 18:21:52 @monitor.py:467]\u001b[0m GAN_loss/discrim/accuracy_fake: 0.89\n",
      "\u001b[32m[0922 18:21:52 @monitor.py:467]\u001b[0m GAN_loss/discrim/accuracy_real: 0.185\n",
      "\u001b[32m[0922 18:21:52 @monitor.py:467]\u001b[0m GAN_loss/discrim/loss: 0.65262\n",
      "\u001b[32m[0922 18:21:52 @monitor.py:467]\u001b[0m GAN_loss/gen/final-g-loss: 1.3456\n",
      "\u001b[32m[0922 18:21:52 @monitor.py:467]\u001b[0m GAN_loss/gen/klloss: 0.30582\n",
      "\u001b[32m[0922 18:21:52 @monitor.py:467]\u001b[0m GAN_loss/gen/loss: 1.0398\n",
      "\u001b[32m[0922 18:21:52 @monitor.py:467]\u001b[0m QueueInput/queue_size: 50\n",
      "\u001b[32m[0922 18:21:52 @base.py:275]\u001b[0m Start Epoch 815 ...\n"
     ]
    },
    {
     "name": "stderr",
     "output_type": "stream",
     "text": [
      "100%|#################################################################################|2000/2000[01:10<00:00,28.25it/s]"
     ]
    },
    {
     "name": "stdout",
     "output_type": "stream",
     "text": [
      "\u001b[32m[0922 18:23:02 @base.py:285]\u001b[0m Epoch 815 (global_step 1630000) finished, time:1 minute 10 seconds.\n",
      "\u001b[32m[0922 18:23:03 @saver.py:79]\u001b[0m Model saved to ../output/LPMC/DATGAN/model\\model-1630000.\n"
     ]
    },
    {
     "name": "stderr",
     "output_type": "stream",
     "text": [
      "\n"
     ]
    },
    {
     "name": "stdout",
     "output_type": "stream",
     "text": [
      "\u001b[32m[0922 18:23:03 @monitor.py:467]\u001b[0m GAN_loss/discrim/accuracy_fake: 0.87\n",
      "\u001b[32m[0922 18:23:03 @monitor.py:467]\u001b[0m GAN_loss/discrim/accuracy_real: 0.175\n",
      "\u001b[32m[0922 18:23:03 @monitor.py:467]\u001b[0m GAN_loss/discrim/loss: 0.6497\n",
      "\u001b[32m[0922 18:23:03 @monitor.py:467]\u001b[0m GAN_loss/gen/final-g-loss: 1.3029\n",
      "\u001b[32m[0922 18:23:03 @monitor.py:467]\u001b[0m GAN_loss/gen/klloss: 0.23133\n",
      "\u001b[32m[0922 18:23:03 @monitor.py:467]\u001b[0m GAN_loss/gen/loss: 1.0715\n",
      "\u001b[32m[0922 18:23:03 @monitor.py:467]\u001b[0m QueueInput/queue_size: 50\n",
      "\u001b[32m[0922 18:23:03 @base.py:275]\u001b[0m Start Epoch 816 ...\n"
     ]
    },
    {
     "name": "stderr",
     "output_type": "stream",
     "text": [
      "100%|#################################################################################|2000/2000[01:10<00:00,28.18it/s]"
     ]
    },
    {
     "name": "stdout",
     "output_type": "stream",
     "text": [
      "\u001b[32m[0922 18:24:14 @base.py:285]\u001b[0m Epoch 816 (global_step 1632000) finished, time:1 minute 10 seconds.\n",
      "\u001b[32m[0922 18:24:14 @saver.py:79]\u001b[0m Model saved to ../output/LPMC/DATGAN/model\\model-1632000.\n"
     ]
    },
    {
     "name": "stderr",
     "output_type": "stream",
     "text": [
      "\n"
     ]
    },
    {
     "name": "stdout",
     "output_type": "stream",
     "text": [
      "\u001b[32m[0922 18:24:14 @monitor.py:467]\u001b[0m GAN_loss/discrim/accuracy_fake: 0.915\n",
      "\u001b[32m[0922 18:24:14 @monitor.py:467]\u001b[0m GAN_loss/discrim/accuracy_real: 0.19\n",
      "\u001b[32m[0922 18:24:14 @monitor.py:467]\u001b[0m GAN_loss/discrim/loss: 0.63693\n",
      "\u001b[32m[0922 18:24:14 @monitor.py:467]\u001b[0m GAN_loss/gen/final-g-loss: 1.273\n",
      "\u001b[32m[0922 18:24:14 @monitor.py:467]\u001b[0m GAN_loss/gen/klloss: 0.20338\n",
      "\u001b[32m[0922 18:24:14 @monitor.py:467]\u001b[0m GAN_loss/gen/loss: 1.0696\n",
      "\u001b[32m[0922 18:24:14 @monitor.py:467]\u001b[0m QueueInput/queue_size: 50\n",
      "\u001b[32m[0922 18:24:14 @base.py:275]\u001b[0m Start Epoch 817 ...\n"
     ]
    },
    {
     "name": "stderr",
     "output_type": "stream",
     "text": [
      "100%|#################################################################################|2000/2000[01:11<00:00,28.15it/s]"
     ]
    },
    {
     "name": "stdout",
     "output_type": "stream",
     "text": [
      "\u001b[32m[0922 18:25:25 @base.py:285]\u001b[0m Epoch 817 (global_step 1634000) finished, time:1 minute 11 seconds.\n",
      "\u001b[32m[0922 18:25:25 @saver.py:79]\u001b[0m Model saved to ../output/LPMC/DATGAN/model\\model-1634000.\n"
     ]
    },
    {
     "name": "stderr",
     "output_type": "stream",
     "text": [
      "\n"
     ]
    },
    {
     "name": "stdout",
     "output_type": "stream",
     "text": [
      "\u001b[32m[0922 18:25:25 @monitor.py:467]\u001b[0m GAN_loss/discrim/accuracy_fake: 0.905\n",
      "\u001b[32m[0922 18:25:25 @monitor.py:467]\u001b[0m GAN_loss/discrim/accuracy_real: 0.16\n",
      "\u001b[32m[0922 18:25:25 @monitor.py:467]\u001b[0m GAN_loss/discrim/loss: 0.64446\n",
      "\u001b[32m[0922 18:25:25 @monitor.py:467]\u001b[0m GAN_loss/gen/final-g-loss: 1.2326\n",
      "\u001b[32m[0922 18:25:25 @monitor.py:467]\u001b[0m GAN_loss/gen/klloss: 0.17246\n",
      "\u001b[32m[0922 18:25:25 @monitor.py:467]\u001b[0m GAN_loss/gen/loss: 1.0601\n",
      "\u001b[32m[0922 18:25:25 @monitor.py:467]\u001b[0m QueueInput/queue_size: 50\n",
      "\u001b[32m[0922 18:25:25 @base.py:275]\u001b[0m Start Epoch 818 ...\n"
     ]
    },
    {
     "name": "stderr",
     "output_type": "stream",
     "text": [
      "100%|#################################################################################|2000/2000[01:11<00:00,27.90it/s]"
     ]
    },
    {
     "name": "stdout",
     "output_type": "stream",
     "text": [
      "\u001b[32m[0922 18:26:37 @base.py:285]\u001b[0m Epoch 818 (global_step 1636000) finished, time:1 minute 11 seconds.\n",
      "\u001b[32m[0922 18:26:37 @saver.py:79]\u001b[0m Model saved to ../output/LPMC/DATGAN/model\\model-1636000.\n"
     ]
    },
    {
     "name": "stderr",
     "output_type": "stream",
     "text": [
      "\n"
     ]
    },
    {
     "name": "stdout",
     "output_type": "stream",
     "text": [
      "\u001b[32m[0922 18:26:37 @monitor.py:467]\u001b[0m GAN_loss/discrim/accuracy_fake: 0.87\n",
      "\u001b[32m[0922 18:26:37 @monitor.py:467]\u001b[0m GAN_loss/discrim/accuracy_real: 0.15\n",
      "\u001b[32m[0922 18:26:37 @monitor.py:467]\u001b[0m GAN_loss/discrim/loss: 0.65225\n",
      "\u001b[32m[0922 18:26:37 @monitor.py:467]\u001b[0m GAN_loss/gen/final-g-loss: 1.3822\n",
      "\u001b[32m[0922 18:26:37 @monitor.py:467]\u001b[0m GAN_loss/gen/klloss: 0.31404\n",
      "\u001b[32m[0922 18:26:37 @monitor.py:467]\u001b[0m GAN_loss/gen/loss: 1.0681\n",
      "\u001b[32m[0922 18:26:37 @monitor.py:467]\u001b[0m QueueInput/queue_size: 50\n",
      "\u001b[32m[0922 18:26:37 @base.py:275]\u001b[0m Start Epoch 819 ...\n"
     ]
    },
    {
     "name": "stderr",
     "output_type": "stream",
     "text": [
      "100%|#################################################################################|2000/2000[01:11<00:00,28.11it/s]"
     ]
    },
    {
     "name": "stdout",
     "output_type": "stream",
     "text": [
      "\u001b[32m[0922 18:27:48 @base.py:285]\u001b[0m Epoch 819 (global_step 1638000) finished, time:1 minute 11 seconds.\n",
      "\u001b[32m[0922 18:27:48 @saver.py:79]\u001b[0m Model saved to ../output/LPMC/DATGAN/model\\model-1638000.\n"
     ]
    },
    {
     "name": "stderr",
     "output_type": "stream",
     "text": [
      "\n"
     ]
    },
    {
     "name": "stdout",
     "output_type": "stream",
     "text": [
      "\u001b[32m[0922 18:27:49 @monitor.py:467]\u001b[0m GAN_loss/discrim/accuracy_fake: 0.885\n",
      "\u001b[32m[0922 18:27:49 @monitor.py:467]\u001b[0m GAN_loss/discrim/accuracy_real: 0.175\n",
      "\u001b[32m[0922 18:27:49 @monitor.py:467]\u001b[0m GAN_loss/discrim/loss: 0.64571\n",
      "\u001b[32m[0922 18:27:49 @monitor.py:467]\u001b[0m GAN_loss/gen/final-g-loss: 1.3791\n",
      "\u001b[32m[0922 18:27:49 @monitor.py:467]\u001b[0m GAN_loss/gen/klloss: 0.26827\n",
      "\u001b[32m[0922 18:27:49 @monitor.py:467]\u001b[0m GAN_loss/gen/loss: 1.1108\n",
      "\u001b[32m[0922 18:27:49 @monitor.py:467]\u001b[0m QueueInput/queue_size: 50\n",
      "\u001b[32m[0922 18:27:49 @base.py:275]\u001b[0m Start Epoch 820 ...\n"
     ]
    },
    {
     "name": "stderr",
     "output_type": "stream",
     "text": [
      "100%|#################################################################################|2000/2000[01:11<00:00,28.10it/s]"
     ]
    },
    {
     "name": "stdout",
     "output_type": "stream",
     "text": [
      "\u001b[32m[0922 18:29:00 @base.py:285]\u001b[0m Epoch 820 (global_step 1640000) finished, time:1 minute 11 seconds.\n",
      "\u001b[32m[0922 18:29:00 @saver.py:79]\u001b[0m Model saved to ../output/LPMC/DATGAN/model\\model-1640000.\n"
     ]
    },
    {
     "name": "stderr",
     "output_type": "stream",
     "text": [
      "\n"
     ]
    },
    {
     "name": "stdout",
     "output_type": "stream",
     "text": [
      "\u001b[32m[0922 18:29:00 @monitor.py:467]\u001b[0m GAN_loss/discrim/accuracy_fake: 0.915\n",
      "\u001b[32m[0922 18:29:00 @monitor.py:467]\u001b[0m GAN_loss/discrim/accuracy_real: 0.225\n",
      "\u001b[32m[0922 18:29:00 @monitor.py:467]\u001b[0m GAN_loss/discrim/loss: 0.63661\n",
      "\u001b[32m[0922 18:29:00 @monitor.py:467]\u001b[0m GAN_loss/gen/final-g-loss: 1.273\n",
      "\u001b[32m[0922 18:29:00 @monitor.py:467]\u001b[0m GAN_loss/gen/klloss: 0.17985\n",
      "\u001b[32m[0922 18:29:00 @monitor.py:467]\u001b[0m GAN_loss/gen/loss: 1.0931\n",
      "\u001b[32m[0922 18:29:00 @monitor.py:467]\u001b[0m QueueInput/queue_size: 50\n",
      "\u001b[32m[0922 18:29:00 @base.py:275]\u001b[0m Start Epoch 821 ...\n"
     ]
    },
    {
     "name": "stderr",
     "output_type": "stream",
     "text": [
      "100%|#################################################################################|2000/2000[01:11<00:00,28.04it/s]"
     ]
    },
    {
     "name": "stdout",
     "output_type": "stream",
     "text": [
      "\u001b[32m[0922 18:30:11 @base.py:285]\u001b[0m Epoch 821 (global_step 1642000) finished, time:1 minute 11 seconds.\n",
      "\u001b[32m[0922 18:30:11 @saver.py:79]\u001b[0m Model saved to ../output/LPMC/DATGAN/model\\model-1642000.\n"
     ]
    },
    {
     "name": "stderr",
     "output_type": "stream",
     "text": [
      "\n"
     ]
    },
    {
     "name": "stdout",
     "output_type": "stream",
     "text": [
      "\u001b[32m[0922 18:30:12 @monitor.py:467]\u001b[0m GAN_loss/discrim/accuracy_fake: 0.895\n",
      "\u001b[32m[0922 18:30:12 @monitor.py:467]\u001b[0m GAN_loss/discrim/accuracy_real: 0.21\n",
      "\u001b[32m[0922 18:30:12 @monitor.py:467]\u001b[0m GAN_loss/discrim/loss: 0.62826\n",
      "\u001b[32m[0922 18:30:12 @monitor.py:467]\u001b[0m GAN_loss/gen/final-g-loss: 1.3477\n",
      "\u001b[32m[0922 18:30:12 @monitor.py:467]\u001b[0m GAN_loss/gen/klloss: 0.23864\n",
      "\u001b[32m[0922 18:30:12 @monitor.py:467]\u001b[0m GAN_loss/gen/loss: 1.1091\n",
      "\u001b[32m[0922 18:30:12 @monitor.py:467]\u001b[0m QueueInput/queue_size: 50\n",
      "\u001b[32m[0922 18:30:12 @base.py:275]\u001b[0m Start Epoch 822 ...\n"
     ]
    },
    {
     "name": "stderr",
     "output_type": "stream",
     "text": [
      "100%|#################################################################################|2000/2000[01:11<00:00,27.96it/s]"
     ]
    },
    {
     "name": "stdout",
     "output_type": "stream",
     "text": [
      "\u001b[32m[0922 18:31:23 @base.py:285]\u001b[0m Epoch 822 (global_step 1644000) finished, time:1 minute 11 seconds.\n",
      "\u001b[32m[0922 18:31:23 @saver.py:79]\u001b[0m Model saved to ../output/LPMC/DATGAN/model\\model-1644000.\n"
     ]
    },
    {
     "name": "stderr",
     "output_type": "stream",
     "text": [
      "\n"
     ]
    },
    {
     "name": "stdout",
     "output_type": "stream",
     "text": [
      "\u001b[32m[0922 18:31:23 @monitor.py:467]\u001b[0m GAN_loss/discrim/accuracy_fake: 0.885\n",
      "\u001b[32m[0922 18:31:23 @monitor.py:467]\u001b[0m GAN_loss/discrim/accuracy_real: 0.155\n",
      "\u001b[32m[0922 18:31:23 @monitor.py:467]\u001b[0m GAN_loss/discrim/loss: 0.63492\n",
      "\u001b[32m[0922 18:31:23 @monitor.py:467]\u001b[0m GAN_loss/gen/final-g-loss: 1.3508\n",
      "\u001b[32m[0922 18:31:23 @monitor.py:467]\u001b[0m GAN_loss/gen/klloss: 0.25465\n",
      "\u001b[32m[0922 18:31:23 @monitor.py:467]\u001b[0m GAN_loss/gen/loss: 1.0962\n",
      "\u001b[32m[0922 18:31:23 @monitor.py:467]\u001b[0m QueueInput/queue_size: 50\n",
      "\u001b[32m[0922 18:31:23 @base.py:275]\u001b[0m Start Epoch 823 ...\n"
     ]
    },
    {
     "name": "stderr",
     "output_type": "stream",
     "text": [
      "100%|#################################################################################|2000/2000[01:11<00:00,28.16it/s]"
     ]
    },
    {
     "name": "stdout",
     "output_type": "stream",
     "text": [
      "\u001b[32m[0922 18:32:34 @base.py:285]\u001b[0m Epoch 823 (global_step 1646000) finished, time:1 minute 11 seconds.\n",
      "\u001b[32m[0922 18:32:34 @saver.py:79]\u001b[0m Model saved to ../output/LPMC/DATGAN/model\\model-1646000.\n"
     ]
    },
    {
     "name": "stderr",
     "output_type": "stream",
     "text": [
      "\n"
     ]
    },
    {
     "name": "stdout",
     "output_type": "stream",
     "text": [
      "\u001b[32m[0922 18:32:35 @monitor.py:467]\u001b[0m GAN_loss/discrim/accuracy_fake: 0.875\n",
      "\u001b[32m[0922 18:32:35 @monitor.py:467]\u001b[0m GAN_loss/discrim/accuracy_real: 0.19\n",
      "\u001b[32m[0922 18:32:35 @monitor.py:467]\u001b[0m GAN_loss/discrim/loss: 0.64086\n",
      "\u001b[32m[0922 18:32:35 @monitor.py:467]\u001b[0m GAN_loss/gen/final-g-loss: 1.2587\n",
      "\u001b[32m[0922 18:32:35 @monitor.py:467]\u001b[0m GAN_loss/gen/klloss: 0.20409\n",
      "\u001b[32m[0922 18:32:35 @monitor.py:467]\u001b[0m GAN_loss/gen/loss: 1.0546\n",
      "\u001b[32m[0922 18:32:35 @monitor.py:467]\u001b[0m QueueInput/queue_size: 50\n",
      "\u001b[32m[0922 18:32:35 @base.py:275]\u001b[0m Start Epoch 824 ...\n"
     ]
    },
    {
     "name": "stderr",
     "output_type": "stream",
     "text": [
      "100%|#################################################################################|2000/2000[01:10<00:00,28.19it/s]"
     ]
    },
    {
     "name": "stdout",
     "output_type": "stream",
     "text": [
      "\u001b[32m[0922 18:33:46 @base.py:285]\u001b[0m Epoch 824 (global_step 1648000) finished, time:1 minute 10 seconds.\n",
      "\u001b[32m[0922 18:33:46 @saver.py:79]\u001b[0m Model saved to ../output/LPMC/DATGAN/model\\model-1648000.\n"
     ]
    },
    {
     "name": "stderr",
     "output_type": "stream",
     "text": [
      "\n"
     ]
    },
    {
     "name": "stdout",
     "output_type": "stream",
     "text": [
      "\u001b[32m[0922 18:33:46 @monitor.py:467]\u001b[0m GAN_loss/discrim/accuracy_fake: 0.895\n",
      "\u001b[32m[0922 18:33:46 @monitor.py:467]\u001b[0m GAN_loss/discrim/accuracy_real: 0.145\n",
      "\u001b[32m[0922 18:33:46 @monitor.py:467]\u001b[0m GAN_loss/discrim/loss: 0.64765\n",
      "\u001b[32m[0922 18:33:46 @monitor.py:467]\u001b[0m GAN_loss/gen/final-g-loss: 1.2364\n",
      "\u001b[32m[0922 18:33:46 @monitor.py:467]\u001b[0m GAN_loss/gen/klloss: 0.19426\n",
      "\u001b[32m[0922 18:33:46 @monitor.py:467]\u001b[0m GAN_loss/gen/loss: 1.0422\n",
      "\u001b[32m[0922 18:33:46 @monitor.py:467]\u001b[0m QueueInput/queue_size: 50\n",
      "\u001b[32m[0922 18:33:46 @base.py:275]\u001b[0m Start Epoch 825 ...\n"
     ]
    },
    {
     "name": "stderr",
     "output_type": "stream",
     "text": [
      "100%|#################################################################################|2000/2000[01:11<00:00,28.10it/s]"
     ]
    },
    {
     "name": "stdout",
     "output_type": "stream",
     "text": [
      "\u001b[32m[0922 18:34:57 @base.py:285]\u001b[0m Epoch 825 (global_step 1650000) finished, time:1 minute 11 seconds.\n",
      "\u001b[32m[0922 18:34:57 @saver.py:79]\u001b[0m Model saved to ../output/LPMC/DATGAN/model\\model-1650000.\n"
     ]
    },
    {
     "name": "stderr",
     "output_type": "stream",
     "text": [
      "\n"
     ]
    },
    {
     "name": "stdout",
     "output_type": "stream",
     "text": [
      "\u001b[32m[0922 18:34:57 @monitor.py:467]\u001b[0m GAN_loss/discrim/accuracy_fake: 0.905\n",
      "\u001b[32m[0922 18:34:57 @monitor.py:467]\u001b[0m GAN_loss/discrim/accuracy_real: 0.165\n",
      "\u001b[32m[0922 18:34:57 @monitor.py:467]\u001b[0m GAN_loss/discrim/loss: 0.63839\n",
      "\u001b[32m[0922 18:34:57 @monitor.py:467]\u001b[0m GAN_loss/gen/final-g-loss: 1.2736\n",
      "\u001b[32m[0922 18:34:57 @monitor.py:467]\u001b[0m GAN_loss/gen/klloss: 0.20197\n",
      "\u001b[32m[0922 18:34:57 @monitor.py:467]\u001b[0m GAN_loss/gen/loss: 1.0716\n",
      "\u001b[32m[0922 18:34:57 @monitor.py:467]\u001b[0m QueueInput/queue_size: 50\n",
      "\u001b[32m[0922 18:34:57 @base.py:275]\u001b[0m Start Epoch 826 ...\n"
     ]
    },
    {
     "name": "stderr",
     "output_type": "stream",
     "text": [
      "100%|#################################################################################|2000/2000[01:11<00:00,28.17it/s]"
     ]
    },
    {
     "name": "stdout",
     "output_type": "stream",
     "text": [
      "\u001b[32m[0922 18:36:08 @base.py:285]\u001b[0m Epoch 826 (global_step 1652000) finished, time:1 minute 11 seconds.\n",
      "\u001b[32m[0922 18:36:08 @saver.py:79]\u001b[0m Model saved to ../output/LPMC/DATGAN/model\\model-1652000.\n"
     ]
    },
    {
     "name": "stderr",
     "output_type": "stream",
     "text": [
      "\n"
     ]
    },
    {
     "name": "stdout",
     "output_type": "stream",
     "text": [
      "\u001b[32m[0922 18:36:09 @monitor.py:467]\u001b[0m GAN_loss/discrim/accuracy_fake: 0.9\n",
      "\u001b[32m[0922 18:36:09 @monitor.py:467]\u001b[0m GAN_loss/discrim/accuracy_real: 0.2\n",
      "\u001b[32m[0922 18:36:09 @monitor.py:467]\u001b[0m GAN_loss/discrim/loss: 0.64395\n",
      "\u001b[32m[0922 18:36:09 @monitor.py:467]\u001b[0m GAN_loss/gen/final-g-loss: 1.3059\n",
      "\u001b[32m[0922 18:36:09 @monitor.py:467]\u001b[0m GAN_loss/gen/klloss: 0.24622\n",
      "\u001b[32m[0922 18:36:09 @monitor.py:467]\u001b[0m GAN_loss/gen/loss: 1.0597\n",
      "\u001b[32m[0922 18:36:09 @monitor.py:467]\u001b[0m QueueInput/queue_size: 50\n",
      "\u001b[32m[0922 18:36:09 @base.py:275]\u001b[0m Start Epoch 827 ...\n"
     ]
    },
    {
     "name": "stderr",
     "output_type": "stream",
     "text": [
      "100%|#################################################################################|2000/2000[01:10<00:00,28.22it/s]"
     ]
    },
    {
     "name": "stdout",
     "output_type": "stream",
     "text": [
      "\u001b[32m[0922 18:37:19 @base.py:285]\u001b[0m Epoch 827 (global_step 1654000) finished, time:1 minute 10 seconds.\n",
      "\u001b[32m[0922 18:37:19 @saver.py:79]\u001b[0m Model saved to ../output/LPMC/DATGAN/model\\model-1654000.\n"
     ]
    },
    {
     "name": "stderr",
     "output_type": "stream",
     "text": [
      "\n"
     ]
    },
    {
     "name": "stdout",
     "output_type": "stream",
     "text": [
      "\u001b[32m[0922 18:37:20 @monitor.py:467]\u001b[0m GAN_loss/discrim/accuracy_fake: 0.915\n",
      "\u001b[32m[0922 18:37:20 @monitor.py:467]\u001b[0m GAN_loss/discrim/accuracy_real: 0.215\n",
      "\u001b[32m[0922 18:37:20 @monitor.py:467]\u001b[0m GAN_loss/discrim/loss: 0.62596\n",
      "\u001b[32m[0922 18:37:20 @monitor.py:467]\u001b[0m GAN_loss/gen/final-g-loss: 1.3402\n",
      "\u001b[32m[0922 18:37:20 @monitor.py:467]\u001b[0m GAN_loss/gen/klloss: 0.22669\n",
      "\u001b[32m[0922 18:37:20 @monitor.py:467]\u001b[0m GAN_loss/gen/loss: 1.1135\n",
      "\u001b[32m[0922 18:37:20 @monitor.py:467]\u001b[0m QueueInput/queue_size: 50\n",
      "\u001b[32m[0922 18:37:20 @base.py:275]\u001b[0m Start Epoch 828 ...\n"
     ]
    },
    {
     "name": "stderr",
     "output_type": "stream",
     "text": [
      "100%|#################################################################################|2000/2000[01:10<00:00,28.18it/s]"
     ]
    },
    {
     "name": "stdout",
     "output_type": "stream",
     "text": [
      "\u001b[32m[0922 18:38:31 @base.py:285]\u001b[0m Epoch 828 (global_step 1656000) finished, time:1 minute 10 seconds.\n"
     ]
    },
    {
     "name": "stderr",
     "output_type": "stream",
     "text": [
      "\n"
     ]
    },
    {
     "name": "stdout",
     "output_type": "stream",
     "text": [
      "\u001b[32m[0922 18:38:31 @saver.py:79]\u001b[0m Model saved to ../output/LPMC/DATGAN/model\\model-1656000.\n",
      "\u001b[32m[0922 18:38:31 @monitor.py:467]\u001b[0m GAN_loss/discrim/accuracy_fake: 0.92\n",
      "\u001b[32m[0922 18:38:31 @monitor.py:467]\u001b[0m GAN_loss/discrim/accuracy_real: 0.19\n",
      "\u001b[32m[0922 18:38:31 @monitor.py:467]\u001b[0m GAN_loss/discrim/loss: 0.64055\n",
      "\u001b[32m[0922 18:38:31 @monitor.py:467]\u001b[0m GAN_loss/gen/final-g-loss: 1.2793\n",
      "\u001b[32m[0922 18:38:31 @monitor.py:467]\u001b[0m GAN_loss/gen/klloss: 0.21135\n",
      "\u001b[32m[0922 18:38:31 @monitor.py:467]\u001b[0m GAN_loss/gen/loss: 1.068\n",
      "\u001b[32m[0922 18:38:31 @monitor.py:467]\u001b[0m QueueInput/queue_size: 50\n",
      "\u001b[32m[0922 18:38:31 @base.py:275]\u001b[0m Start Epoch 829 ...\n"
     ]
    },
    {
     "name": "stderr",
     "output_type": "stream",
     "text": [
      "100%|#################################################################################|2000/2000[01:10<00:00,28.24it/s]"
     ]
    },
    {
     "name": "stdout",
     "output_type": "stream",
     "text": [
      "\u001b[32m[0922 18:39:42 @base.py:285]\u001b[0m Epoch 829 (global_step 1658000) finished, time:1 minute 10 seconds.\n",
      "\u001b[32m[0922 18:39:42 @saver.py:79]\u001b[0m Model saved to ../output/LPMC/DATGAN/model\\model-1658000.\n"
     ]
    },
    {
     "name": "stderr",
     "output_type": "stream",
     "text": [
      "\n"
     ]
    },
    {
     "name": "stdout",
     "output_type": "stream",
     "text": [
      "\u001b[32m[0922 18:39:42 @monitor.py:467]\u001b[0m GAN_loss/discrim/accuracy_fake: 0.95\n",
      "\u001b[32m[0922 18:39:42 @monitor.py:467]\u001b[0m GAN_loss/discrim/accuracy_real: 0.185\n",
      "\u001b[32m[0922 18:39:42 @monitor.py:467]\u001b[0m GAN_loss/discrim/loss: 0.64086\n",
      "\u001b[32m[0922 18:39:42 @monitor.py:467]\u001b[0m GAN_loss/gen/final-g-loss: 1.2916\n",
      "\u001b[32m[0922 18:39:42 @monitor.py:467]\u001b[0m GAN_loss/gen/klloss: 0.19689\n",
      "\u001b[32m[0922 18:39:42 @monitor.py:467]\u001b[0m GAN_loss/gen/loss: 1.0947\n",
      "\u001b[32m[0922 18:39:42 @monitor.py:467]\u001b[0m QueueInput/queue_size: 50\n",
      "\u001b[32m[0922 18:39:42 @base.py:275]\u001b[0m Start Epoch 830 ...\n"
     ]
    },
    {
     "name": "stderr",
     "output_type": "stream",
     "text": [
      "100%|#################################################################################|2000/2000[01:11<00:00,27.99it/s]"
     ]
    },
    {
     "name": "stdout",
     "output_type": "stream",
     "text": [
      "\u001b[32m[0922 18:40:53 @base.py:285]\u001b[0m Epoch 830 (global_step 1660000) finished, time:1 minute 11 seconds.\n",
      "\u001b[32m[0922 18:40:53 @saver.py:79]\u001b[0m Model saved to ../output/LPMC/DATGAN/model\\model-1660000.\n"
     ]
    },
    {
     "name": "stderr",
     "output_type": "stream",
     "text": [
      "\n"
     ]
    },
    {
     "name": "stdout",
     "output_type": "stream",
     "text": [
      "\u001b[32m[0922 18:40:54 @monitor.py:467]\u001b[0m GAN_loss/discrim/accuracy_fake: 0.885\n",
      "\u001b[32m[0922 18:40:54 @monitor.py:467]\u001b[0m GAN_loss/discrim/accuracy_real: 0.19\n",
      "\u001b[32m[0922 18:40:54 @monitor.py:467]\u001b[0m GAN_loss/discrim/loss: 0.64544\n",
      "\u001b[32m[0922 18:40:54 @monitor.py:467]\u001b[0m GAN_loss/gen/final-g-loss: 1.3064\n",
      "\u001b[32m[0922 18:40:54 @monitor.py:467]\u001b[0m GAN_loss/gen/klloss: 0.22519\n",
      "\u001b[32m[0922 18:40:54 @monitor.py:467]\u001b[0m GAN_loss/gen/loss: 1.0812\n",
      "\u001b[32m[0922 18:40:54 @monitor.py:467]\u001b[0m QueueInput/queue_size: 50\n",
      "\u001b[32m[0922 18:40:54 @base.py:275]\u001b[0m Start Epoch 831 ...\n"
     ]
    },
    {
     "name": "stderr",
     "output_type": "stream",
     "text": [
      "100%|#################################################################################|2000/2000[01:10<00:00,28.17it/s]"
     ]
    },
    {
     "name": "stdout",
     "output_type": "stream",
     "text": [
      "\u001b[32m[0922 18:42:05 @base.py:285]\u001b[0m Epoch 831 (global_step 1662000) finished, time:1 minute 10 seconds.\n",
      "\u001b[32m[0922 18:42:05 @saver.py:79]\u001b[0m Model saved to ../output/LPMC/DATGAN/model\\model-1662000.\n"
     ]
    },
    {
     "name": "stderr",
     "output_type": "stream",
     "text": [
      "\n"
     ]
    },
    {
     "name": "stdout",
     "output_type": "stream",
     "text": [
      "\u001b[32m[0922 18:42:05 @monitor.py:467]\u001b[0m GAN_loss/discrim/accuracy_fake: 0.865\n",
      "\u001b[32m[0922 18:42:05 @monitor.py:467]\u001b[0m GAN_loss/discrim/accuracy_real: 0.175\n",
      "\u001b[32m[0922 18:42:05 @monitor.py:467]\u001b[0m GAN_loss/discrim/loss: 0.65032\n",
      "\u001b[32m[0922 18:42:05 @monitor.py:467]\u001b[0m GAN_loss/gen/final-g-loss: 1.3409\n",
      "\u001b[32m[0922 18:42:05 @monitor.py:467]\u001b[0m GAN_loss/gen/klloss: 0.2916\n",
      "\u001b[32m[0922 18:42:05 @monitor.py:467]\u001b[0m GAN_loss/gen/loss: 1.0493\n",
      "\u001b[32m[0922 18:42:05 @monitor.py:467]\u001b[0m QueueInput/queue_size: 50\n",
      "\u001b[32m[0922 18:42:05 @base.py:275]\u001b[0m Start Epoch 832 ...\n"
     ]
    },
    {
     "name": "stderr",
     "output_type": "stream",
     "text": [
      "100%|#################################################################################|2000/2000[01:10<00:00,28.24it/s]"
     ]
    },
    {
     "name": "stdout",
     "output_type": "stream",
     "text": [
      "\u001b[32m[0922 18:43:16 @base.py:285]\u001b[0m Epoch 832 (global_step 1664000) finished, time:1 minute 10 seconds.\n"
     ]
    },
    {
     "name": "stderr",
     "output_type": "stream",
     "text": [
      "\n"
     ]
    },
    {
     "name": "stdout",
     "output_type": "stream",
     "text": [
      "\u001b[32m[0922 18:43:16 @saver.py:79]\u001b[0m Model saved to ../output/LPMC/DATGAN/model\\model-1664000.\n",
      "\u001b[32m[0922 18:43:16 @monitor.py:467]\u001b[0m GAN_loss/discrim/accuracy_fake: 0.88\n",
      "\u001b[32m[0922 18:43:16 @monitor.py:467]\u001b[0m GAN_loss/discrim/accuracy_real: 0.175\n",
      "\u001b[32m[0922 18:43:16 @monitor.py:467]\u001b[0m GAN_loss/discrim/loss: 0.64627\n",
      "\u001b[32m[0922 18:43:16 @monitor.py:467]\u001b[0m GAN_loss/gen/final-g-loss: 1.2276\n",
      "\u001b[32m[0922 18:43:16 @monitor.py:467]\u001b[0m GAN_loss/gen/klloss: 0.16544\n",
      "\u001b[32m[0922 18:43:16 @monitor.py:467]\u001b[0m GAN_loss/gen/loss: 1.0621\n",
      "\u001b[32m[0922 18:43:16 @monitor.py:467]\u001b[0m QueueInput/queue_size: 50\n",
      "\u001b[32m[0922 18:43:16 @base.py:275]\u001b[0m Start Epoch 833 ...\n"
     ]
    },
    {
     "name": "stderr",
     "output_type": "stream",
     "text": [
      "100%|#################################################################################|2000/2000[01:10<00:00,28.22it/s]"
     ]
    },
    {
     "name": "stdout",
     "output_type": "stream",
     "text": [
      "\u001b[32m[0922 18:44:27 @base.py:285]\u001b[0m Epoch 833 (global_step 1666000) finished, time:1 minute 10 seconds.\n"
     ]
    },
    {
     "name": "stderr",
     "output_type": "stream",
     "text": [
      "\n"
     ]
    },
    {
     "name": "stdout",
     "output_type": "stream",
     "text": [
      "\u001b[32m[0922 18:44:27 @saver.py:79]\u001b[0m Model saved to ../output/LPMC/DATGAN/model\\model-1666000.\n",
      "\u001b[32m[0922 18:44:27 @monitor.py:467]\u001b[0m GAN_loss/discrim/accuracy_fake: 0.895\n",
      "\u001b[32m[0922 18:44:27 @monitor.py:467]\u001b[0m GAN_loss/discrim/accuracy_real: 0.18\n",
      "\u001b[32m[0922 18:44:27 @monitor.py:467]\u001b[0m GAN_loss/discrim/loss: 0.6431\n",
      "\u001b[32m[0922 18:44:27 @monitor.py:467]\u001b[0m GAN_loss/gen/final-g-loss: 1.5179\n",
      "\u001b[32m[0922 18:44:27 @monitor.py:467]\u001b[0m GAN_loss/gen/klloss: 0.46255\n",
      "\u001b[32m[0922 18:44:27 @monitor.py:467]\u001b[0m GAN_loss/gen/loss: 1.0554\n",
      "\u001b[32m[0922 18:44:27 @monitor.py:467]\u001b[0m QueueInput/queue_size: 50\n",
      "\u001b[32m[0922 18:44:27 @base.py:275]\u001b[0m Start Epoch 834 ...\n"
     ]
    },
    {
     "name": "stderr",
     "output_type": "stream",
     "text": [
      "100%|#################################################################################|2000/2000[01:10<00:00,28.29it/s]"
     ]
    },
    {
     "name": "stdout",
     "output_type": "stream",
     "text": [
      "\u001b[32m[0922 18:45:38 @base.py:285]\u001b[0m Epoch 834 (global_step 1668000) finished, time:1 minute 10 seconds.\n",
      "\u001b[32m[0922 18:45:38 @saver.py:79]\u001b[0m Model saved to ../output/LPMC/DATGAN/model\\model-1668000.\n"
     ]
    },
    {
     "name": "stderr",
     "output_type": "stream",
     "text": [
      "\n"
     ]
    },
    {
     "name": "stdout",
     "output_type": "stream",
     "text": [
      "\u001b[32m[0922 18:45:38 @monitor.py:467]\u001b[0m GAN_loss/discrim/accuracy_fake: 0.9\n",
      "\u001b[32m[0922 18:45:38 @monitor.py:467]\u001b[0m GAN_loss/discrim/accuracy_real: 0.16\n",
      "\u001b[32m[0922 18:45:38 @monitor.py:467]\u001b[0m GAN_loss/discrim/loss: 0.65096\n",
      "\u001b[32m[0922 18:45:38 @monitor.py:467]\u001b[0m GAN_loss/gen/final-g-loss: 1.3449\n",
      "\u001b[32m[0922 18:45:38 @monitor.py:467]\u001b[0m GAN_loss/gen/klloss: 0.29274\n",
      "\u001b[32m[0922 18:45:38 @monitor.py:467]\u001b[0m GAN_loss/gen/loss: 1.0522\n",
      "\u001b[32m[0922 18:45:38 @monitor.py:467]\u001b[0m QueueInput/queue_size: 50\n",
      "\u001b[32m[0922 18:45:38 @base.py:275]\u001b[0m Start Epoch 835 ...\n"
     ]
    },
    {
     "name": "stderr",
     "output_type": "stream",
     "text": [
      "100%|#################################################################################|2000/2000[01:10<00:00,28.20it/s]"
     ]
    },
    {
     "name": "stdout",
     "output_type": "stream",
     "text": [
      "\u001b[32m[0922 18:46:49 @base.py:285]\u001b[0m Epoch 835 (global_step 1670000) finished, time:1 minute 10 seconds.\n",
      "\u001b[32m[0922 18:46:49 @saver.py:79]\u001b[0m Model saved to ../output/LPMC/DATGAN/model\\model-1670000.\n"
     ]
    },
    {
     "name": "stderr",
     "output_type": "stream",
     "text": [
      "\n"
     ]
    },
    {
     "name": "stdout",
     "output_type": "stream",
     "text": [
      "\u001b[32m[0922 18:46:49 @monitor.py:467]\u001b[0m GAN_loss/discrim/accuracy_fake: 0.88\n",
      "\u001b[32m[0922 18:46:49 @monitor.py:467]\u001b[0m GAN_loss/discrim/accuracy_real: 0.19\n",
      "\u001b[32m[0922 18:46:49 @monitor.py:467]\u001b[0m GAN_loss/discrim/loss: 0.6423\n",
      "\u001b[32m[0922 18:46:49 @monitor.py:467]\u001b[0m GAN_loss/gen/final-g-loss: 1.2702\n",
      "\u001b[32m[0922 18:46:49 @monitor.py:467]\u001b[0m GAN_loss/gen/klloss: 0.20493\n",
      "\u001b[32m[0922 18:46:49 @monitor.py:467]\u001b[0m GAN_loss/gen/loss: 1.0653\n",
      "\u001b[32m[0922 18:46:49 @monitor.py:467]\u001b[0m QueueInput/queue_size: 50\n",
      "\u001b[32m[0922 18:46:49 @base.py:275]\u001b[0m Start Epoch 836 ...\n"
     ]
    },
    {
     "name": "stderr",
     "output_type": "stream",
     "text": [
      "100%|#################################################################################|2000/2000[01:10<00:00,28.23it/s]"
     ]
    },
    {
     "name": "stdout",
     "output_type": "stream",
     "text": [
      "\u001b[32m[0922 18:48:00 @base.py:285]\u001b[0m Epoch 836 (global_step 1672000) finished, time:1 minute 10 seconds.\n",
      "\u001b[32m[0922 18:48:00 @saver.py:79]\u001b[0m Model saved to ../output/LPMC/DATGAN/model\\model-1672000.\n"
     ]
    },
    {
     "name": "stderr",
     "output_type": "stream",
     "text": [
      "\n"
     ]
    },
    {
     "name": "stdout",
     "output_type": "stream",
     "text": [
      "\u001b[32m[0922 18:48:00 @monitor.py:467]\u001b[0m GAN_loss/discrim/accuracy_fake: 0.895\n",
      "\u001b[32m[0922 18:48:00 @monitor.py:467]\u001b[0m GAN_loss/discrim/accuracy_real: 0.195\n",
      "\u001b[32m[0922 18:48:00 @monitor.py:467]\u001b[0m GAN_loss/discrim/loss: 0.65246\n",
      "\u001b[32m[0922 18:48:00 @monitor.py:467]\u001b[0m GAN_loss/gen/final-g-loss: 1.283\n",
      "\u001b[32m[0922 18:48:00 @monitor.py:467]\u001b[0m GAN_loss/gen/klloss: 0.23249\n",
      "\u001b[32m[0922 18:48:00 @monitor.py:467]\u001b[0m GAN_loss/gen/loss: 1.0505\n",
      "\u001b[32m[0922 18:48:00 @monitor.py:467]\u001b[0m QueueInput/queue_size: 50\n",
      "\u001b[32m[0922 18:48:00 @base.py:275]\u001b[0m Start Epoch 837 ...\n"
     ]
    },
    {
     "name": "stderr",
     "output_type": "stream",
     "text": [
      "100%|#################################################################################|2000/2000[01:11<00:00,28.16it/s]"
     ]
    },
    {
     "name": "stdout",
     "output_type": "stream",
     "text": [
      "\u001b[32m[0922 18:49:11 @base.py:285]\u001b[0m Epoch 837 (global_step 1674000) finished, time:1 minute 11 seconds.\n",
      "\u001b[32m[0922 18:49:11 @saver.py:79]\u001b[0m Model saved to ../output/LPMC/DATGAN/model\\model-1674000.\n"
     ]
    },
    {
     "name": "stderr",
     "output_type": "stream",
     "text": [
      "\n"
     ]
    },
    {
     "name": "stdout",
     "output_type": "stream",
     "text": [
      "\u001b[32m[0922 18:49:12 @monitor.py:467]\u001b[0m GAN_loss/discrim/accuracy_fake: 0.9\n",
      "\u001b[32m[0922 18:49:12 @monitor.py:467]\u001b[0m GAN_loss/discrim/accuracy_real: 0.135\n",
      "\u001b[32m[0922 18:49:12 @monitor.py:467]\u001b[0m GAN_loss/discrim/loss: 0.6527\n",
      "\u001b[32m[0922 18:49:12 @monitor.py:467]\u001b[0m GAN_loss/gen/final-g-loss: 1.275\n",
      "\u001b[32m[0922 18:49:12 @monitor.py:467]\u001b[0m GAN_loss/gen/klloss: 0.21782\n",
      "\u001b[32m[0922 18:49:12 @monitor.py:467]\u001b[0m GAN_loss/gen/loss: 1.0572\n",
      "\u001b[32m[0922 18:49:12 @monitor.py:467]\u001b[0m QueueInput/queue_size: 50\n",
      "\u001b[32m[0922 18:49:12 @base.py:275]\u001b[0m Start Epoch 838 ...\n"
     ]
    },
    {
     "name": "stderr",
     "output_type": "stream",
     "text": [
      "100%|#################################################################################|2000/2000[01:10<00:00,28.25it/s]"
     ]
    },
    {
     "name": "stdout",
     "output_type": "stream",
     "text": [
      "\u001b[32m[0922 18:50:22 @base.py:285]\u001b[0m Epoch 838 (global_step 1676000) finished, time:1 minute 10 seconds.\n",
      "\u001b[32m[0922 18:50:22 @saver.py:79]\u001b[0m Model saved to ../output/LPMC/DATGAN/model\\model-1676000.\n"
     ]
    },
    {
     "name": "stderr",
     "output_type": "stream",
     "text": [
      "\n"
     ]
    },
    {
     "name": "stdout",
     "output_type": "stream",
     "text": [
      "\u001b[32m[0922 18:50:23 @monitor.py:467]\u001b[0m GAN_loss/discrim/accuracy_fake: 0.92\n",
      "\u001b[32m[0922 18:50:23 @monitor.py:467]\u001b[0m GAN_loss/discrim/accuracy_real: 0.22\n",
      "\u001b[32m[0922 18:50:23 @monitor.py:467]\u001b[0m GAN_loss/discrim/loss: 0.64081\n",
      "\u001b[32m[0922 18:50:23 @monitor.py:467]\u001b[0m GAN_loss/gen/final-g-loss: 1.2487\n",
      "\u001b[32m[0922 18:50:23 @monitor.py:467]\u001b[0m GAN_loss/gen/klloss: 0.17464\n",
      "\u001b[32m[0922 18:50:23 @monitor.py:467]\u001b[0m GAN_loss/gen/loss: 1.0741\n",
      "\u001b[32m[0922 18:50:23 @monitor.py:467]\u001b[0m QueueInput/queue_size: 50\n",
      "\u001b[32m[0922 18:50:23 @base.py:275]\u001b[0m Start Epoch 839 ...\n"
     ]
    },
    {
     "name": "stderr",
     "output_type": "stream",
     "text": [
      "100%|#################################################################################|2000/2000[01:11<00:00,28.16it/s]"
     ]
    },
    {
     "name": "stdout",
     "output_type": "stream",
     "text": [
      "\u001b[32m[0922 18:51:34 @base.py:285]\u001b[0m Epoch 839 (global_step 1678000) finished, time:1 minute 11 seconds.\n",
      "\u001b[32m[0922 18:51:34 @saver.py:79]\u001b[0m Model saved to ../output/LPMC/DATGAN/model\\model-1678000.\n"
     ]
    },
    {
     "name": "stderr",
     "output_type": "stream",
     "text": [
      "\n"
     ]
    },
    {
     "name": "stdout",
     "output_type": "stream",
     "text": [
      "\u001b[32m[0922 18:51:34 @monitor.py:467]\u001b[0m GAN_loss/discrim/accuracy_fake: 0.885\n",
      "\u001b[32m[0922 18:51:34 @monitor.py:467]\u001b[0m GAN_loss/discrim/accuracy_real: 0.23\n",
      "\u001b[32m[0922 18:51:34 @monitor.py:467]\u001b[0m GAN_loss/discrim/loss: 0.63518\n",
      "\u001b[32m[0922 18:51:34 @monitor.py:467]\u001b[0m GAN_loss/gen/final-g-loss: 1.261\n",
      "\u001b[32m[0922 18:51:34 @monitor.py:467]\u001b[0m GAN_loss/gen/klloss: 0.1904\n",
      "\u001b[32m[0922 18:51:34 @monitor.py:467]\u001b[0m GAN_loss/gen/loss: 1.0706\n",
      "\u001b[32m[0922 18:51:34 @monitor.py:467]\u001b[0m QueueInput/queue_size: 50\n",
      "\u001b[32m[0922 18:51:34 @base.py:275]\u001b[0m Start Epoch 840 ...\n"
     ]
    },
    {
     "name": "stderr",
     "output_type": "stream",
     "text": [
      "100%|#################################################################################|2000/2000[01:10<00:00,28.25it/s]"
     ]
    },
    {
     "name": "stdout",
     "output_type": "stream",
     "text": [
      "\u001b[32m[0922 18:52:45 @base.py:285]\u001b[0m Epoch 840 (global_step 1680000) finished, time:1 minute 10 seconds.\n",
      "\u001b[32m[0922 18:52:45 @saver.py:79]\u001b[0m Model saved to ../output/LPMC/DATGAN/model\\model-1680000.\n"
     ]
    },
    {
     "name": "stderr",
     "output_type": "stream",
     "text": [
      "\n"
     ]
    },
    {
     "name": "stdout",
     "output_type": "stream",
     "text": [
      "\u001b[32m[0922 18:52:45 @monitor.py:467]\u001b[0m GAN_loss/discrim/accuracy_fake: 0.86\n",
      "\u001b[32m[0922 18:52:45 @monitor.py:467]\u001b[0m GAN_loss/discrim/accuracy_real: 0.155\n",
      "\u001b[32m[0922 18:52:45 @monitor.py:467]\u001b[0m GAN_loss/discrim/loss: 0.65424\n",
      "\u001b[32m[0922 18:52:45 @monitor.py:467]\u001b[0m GAN_loss/gen/final-g-loss: 1.2675\n",
      "\u001b[32m[0922 18:52:45 @monitor.py:467]\u001b[0m GAN_loss/gen/klloss: 0.21416\n",
      "\u001b[32m[0922 18:52:45 @monitor.py:467]\u001b[0m GAN_loss/gen/loss: 1.0534\n",
      "\u001b[32m[0922 18:52:45 @monitor.py:467]\u001b[0m QueueInput/queue_size: 50\n",
      "\u001b[32m[0922 18:52:45 @base.py:275]\u001b[0m Start Epoch 841 ...\n"
     ]
    },
    {
     "name": "stderr",
     "output_type": "stream",
     "text": [
      "100%|#################################################################################|2000/2000[01:10<00:00,28.25it/s]"
     ]
    },
    {
     "name": "stdout",
     "output_type": "stream",
     "text": [
      "\u001b[32m[0922 18:53:56 @base.py:285]\u001b[0m Epoch 841 (global_step 1682000) finished, time:1 minute 10 seconds.\n",
      "\u001b[32m[0922 18:53:56 @saver.py:79]\u001b[0m Model saved to ../output/LPMC/DATGAN/model\\model-1682000.\n"
     ]
    },
    {
     "name": "stderr",
     "output_type": "stream",
     "text": [
      "\n"
     ]
    },
    {
     "name": "stdout",
     "output_type": "stream",
     "text": [
      "\u001b[32m[0922 18:53:56 @monitor.py:467]\u001b[0m GAN_loss/discrim/accuracy_fake: 0.87\n",
      "\u001b[32m[0922 18:53:56 @monitor.py:467]\u001b[0m GAN_loss/discrim/accuracy_real: 0.185\n",
      "\u001b[32m[0922 18:53:56 @monitor.py:467]\u001b[0m GAN_loss/discrim/loss: 0.64395\n",
      "\u001b[32m[0922 18:53:56 @monitor.py:467]\u001b[0m GAN_loss/gen/final-g-loss: 1.3517\n",
      "\u001b[32m[0922 18:53:56 @monitor.py:467]\u001b[0m GAN_loss/gen/klloss: 0.298\n",
      "\u001b[32m[0922 18:53:56 @monitor.py:467]\u001b[0m GAN_loss/gen/loss: 1.0537\n",
      "\u001b[32m[0922 18:53:56 @monitor.py:467]\u001b[0m QueueInput/queue_size: 50\n",
      "\u001b[32m[0922 18:53:56 @base.py:275]\u001b[0m Start Epoch 842 ...\n"
     ]
    },
    {
     "name": "stderr",
     "output_type": "stream",
     "text": [
      "100%|#################################################################################|2000/2000[01:11<00:00,28.13it/s]"
     ]
    },
    {
     "name": "stdout",
     "output_type": "stream",
     "text": [
      "\u001b[32m[0922 18:55:07 @base.py:285]\u001b[0m Epoch 842 (global_step 1684000) finished, time:1 minute 11 seconds.\n"
     ]
    },
    {
     "name": "stderr",
     "output_type": "stream",
     "text": [
      "\n"
     ]
    },
    {
     "name": "stdout",
     "output_type": "stream",
     "text": [
      "\u001b[32m[0922 18:55:07 @saver.py:79]\u001b[0m Model saved to ../output/LPMC/DATGAN/model\\model-1684000.\n",
      "\u001b[32m[0922 18:55:07 @monitor.py:467]\u001b[0m GAN_loss/discrim/accuracy_fake: 0.87\n",
      "\u001b[32m[0922 18:55:07 @monitor.py:467]\u001b[0m GAN_loss/discrim/accuracy_real: 0.22\n",
      "\u001b[32m[0922 18:55:07 @monitor.py:467]\u001b[0m GAN_loss/discrim/loss: 0.65598\n",
      "\u001b[32m[0922 18:55:07 @monitor.py:467]\u001b[0m GAN_loss/gen/final-g-loss: 1.5234\n",
      "\u001b[32m[0922 18:55:07 @monitor.py:467]\u001b[0m GAN_loss/gen/klloss: 0.47183\n",
      "\u001b[32m[0922 18:55:07 @monitor.py:467]\u001b[0m GAN_loss/gen/loss: 1.0516\n",
      "\u001b[32m[0922 18:55:07 @monitor.py:467]\u001b[0m QueueInput/queue_size: 50\n",
      "\u001b[32m[0922 18:55:07 @base.py:275]\u001b[0m Start Epoch 843 ...\n"
     ]
    },
    {
     "name": "stderr",
     "output_type": "stream",
     "text": [
      "100%|#################################################################################|2000/2000[01:10<00:00,28.25it/s]"
     ]
    },
    {
     "name": "stdout",
     "output_type": "stream",
     "text": [
      "\u001b[32m[0922 18:56:18 @base.py:285]\u001b[0m Epoch 843 (global_step 1686000) finished, time:1 minute 10 seconds.\n"
     ]
    },
    {
     "name": "stderr",
     "output_type": "stream",
     "text": [
      "\n"
     ]
    },
    {
     "name": "stdout",
     "output_type": "stream",
     "text": [
      "\u001b[32m[0922 18:56:18 @saver.py:79]\u001b[0m Model saved to ../output/LPMC/DATGAN/model\\model-1686000.\n",
      "\u001b[32m[0922 18:56:18 @monitor.py:467]\u001b[0m GAN_loss/discrim/accuracy_fake: 0.905\n",
      "\u001b[32m[0922 18:56:18 @monitor.py:467]\u001b[0m GAN_loss/discrim/accuracy_real: 0.205\n",
      "\u001b[32m[0922 18:56:18 @monitor.py:467]\u001b[0m GAN_loss/discrim/loss: 0.64277\n",
      "\u001b[32m[0922 18:56:18 @monitor.py:467]\u001b[0m GAN_loss/gen/final-g-loss: 1.4071\n",
      "\u001b[32m[0922 18:56:18 @monitor.py:467]\u001b[0m GAN_loss/gen/klloss: 0.34317\n",
      "\u001b[32m[0922 18:56:18 @monitor.py:467]\u001b[0m GAN_loss/gen/loss: 1.0639\n",
      "\u001b[32m[0922 18:56:18 @monitor.py:467]\u001b[0m QueueInput/queue_size: 50\n",
      "\u001b[32m[0922 18:56:18 @base.py:275]\u001b[0m Start Epoch 844 ...\n"
     ]
    },
    {
     "name": "stderr",
     "output_type": "stream",
     "text": [
      "100%|#################################################################################|2000/2000[01:11<00:00,28.17it/s]"
     ]
    },
    {
     "name": "stdout",
     "output_type": "stream",
     "text": [
      "\u001b[32m[0922 18:57:29 @base.py:285]\u001b[0m Epoch 844 (global_step 1688000) finished, time:1 minute 11 seconds.\n",
      "\u001b[32m[0922 18:57:29 @saver.py:79]\u001b[0m Model saved to ../output/LPMC/DATGAN/model\\model-1688000.\n"
     ]
    },
    {
     "name": "stderr",
     "output_type": "stream",
     "text": [
      "\n"
     ]
    },
    {
     "name": "stdout",
     "output_type": "stream",
     "text": [
      "\u001b[32m[0922 18:57:30 @monitor.py:467]\u001b[0m GAN_loss/discrim/accuracy_fake: 0.87\n",
      "\u001b[32m[0922 18:57:30 @monitor.py:467]\u001b[0m GAN_loss/discrim/accuracy_real: 0.205\n",
      "\u001b[32m[0922 18:57:30 @monitor.py:467]\u001b[0m GAN_loss/discrim/loss: 0.63007\n",
      "\u001b[32m[0922 18:57:30 @monitor.py:467]\u001b[0m GAN_loss/gen/final-g-loss: 1.4237\n",
      "\u001b[32m[0922 18:57:30 @monitor.py:467]\u001b[0m GAN_loss/gen/klloss: 0.34791\n",
      "\u001b[32m[0922 18:57:30 @monitor.py:467]\u001b[0m GAN_loss/gen/loss: 1.0757\n",
      "\u001b[32m[0922 18:57:30 @monitor.py:467]\u001b[0m QueueInput/queue_size: 50\n",
      "\u001b[32m[0922 18:57:30 @base.py:275]\u001b[0m Start Epoch 845 ...\n"
     ]
    },
    {
     "name": "stderr",
     "output_type": "stream",
     "text": [
      "100%|#################################################################################|2000/2000[01:10<00:00,28.17it/s]"
     ]
    },
    {
     "name": "stdout",
     "output_type": "stream",
     "text": [
      "\u001b[32m[0922 18:58:41 @base.py:285]\u001b[0m Epoch 845 (global_step 1690000) finished, time:1 minute 10 seconds.\n",
      "\u001b[32m[0922 18:58:41 @saver.py:79]\u001b[0m Model saved to ../output/LPMC/DATGAN/model\\model-1690000.\n"
     ]
    },
    {
     "name": "stderr",
     "output_type": "stream",
     "text": [
      "\n"
     ]
    },
    {
     "name": "stdout",
     "output_type": "stream",
     "text": [
      "\u001b[32m[0922 18:58:41 @monitor.py:467]\u001b[0m GAN_loss/discrim/accuracy_fake: 0.9\n",
      "\u001b[32m[0922 18:58:41 @monitor.py:467]\u001b[0m GAN_loss/discrim/accuracy_real: 0.18\n",
      "\u001b[32m[0922 18:58:41 @monitor.py:467]\u001b[0m GAN_loss/discrim/loss: 0.64038\n",
      "\u001b[32m[0922 18:58:41 @monitor.py:467]\u001b[0m GAN_loss/gen/final-g-loss: 1.3216\n",
      "\u001b[32m[0922 18:58:41 @monitor.py:467]\u001b[0m GAN_loss/gen/klloss: 0.24306\n",
      "\u001b[32m[0922 18:58:41 @monitor.py:467]\u001b[0m GAN_loss/gen/loss: 1.0786\n",
      "\u001b[32m[0922 18:58:41 @monitor.py:467]\u001b[0m QueueInput/queue_size: 50\n",
      "\u001b[32m[0922 18:58:41 @base.py:275]\u001b[0m Start Epoch 846 ...\n"
     ]
    },
    {
     "name": "stderr",
     "output_type": "stream",
     "text": [
      "100%|#################################################################################|2000/2000[01:10<00:00,28.21it/s]"
     ]
    },
    {
     "name": "stdout",
     "output_type": "stream",
     "text": [
      "\u001b[32m[0922 18:59:52 @base.py:285]\u001b[0m Epoch 846 (global_step 1692000) finished, time:1 minute 10 seconds.\n",
      "\u001b[32m[0922 18:59:52 @saver.py:79]\u001b[0m Model saved to ../output/LPMC/DATGAN/model\\model-1692000.\n"
     ]
    },
    {
     "name": "stderr",
     "output_type": "stream",
     "text": [
      "\n"
     ]
    },
    {
     "name": "stdout",
     "output_type": "stream",
     "text": [
      "\u001b[32m[0922 18:59:52 @monitor.py:467]\u001b[0m GAN_loss/discrim/accuracy_fake: 0.9\n",
      "\u001b[32m[0922 18:59:52 @monitor.py:467]\u001b[0m GAN_loss/discrim/accuracy_real: 0.185\n",
      "\u001b[32m[0922 18:59:52 @monitor.py:467]\u001b[0m GAN_loss/discrim/loss: 0.65267\n",
      "\u001b[32m[0922 18:59:52 @monitor.py:467]\u001b[0m GAN_loss/gen/final-g-loss: 1.3171\n",
      "\u001b[32m[0922 18:59:52 @monitor.py:467]\u001b[0m GAN_loss/gen/klloss: 0.25064\n",
      "\u001b[32m[0922 18:59:52 @monitor.py:467]\u001b[0m GAN_loss/gen/loss: 1.0665\n",
      "\u001b[32m[0922 18:59:52 @monitor.py:467]\u001b[0m QueueInput/queue_size: 50\n",
      "\u001b[32m[0922 18:59:52 @base.py:275]\u001b[0m Start Epoch 847 ...\n"
     ]
    },
    {
     "name": "stderr",
     "output_type": "stream",
     "text": [
      "100%|#################################################################################|2000/2000[01:10<00:00,28.22it/s]"
     ]
    },
    {
     "name": "stdout",
     "output_type": "stream",
     "text": [
      "\u001b[32m[0922 19:01:03 @base.py:285]\u001b[0m Epoch 847 (global_step 1694000) finished, time:1 minute 10 seconds.\n",
      "\u001b[32m[0922 19:01:03 @saver.py:79]\u001b[0m Model saved to ../output/LPMC/DATGAN/model\\model-1694000.\n"
     ]
    },
    {
     "name": "stderr",
     "output_type": "stream",
     "text": [
      "\n"
     ]
    },
    {
     "name": "stdout",
     "output_type": "stream",
     "text": [
      "\u001b[32m[0922 19:01:03 @monitor.py:467]\u001b[0m GAN_loss/discrim/accuracy_fake: 0.91\n",
      "\u001b[32m[0922 19:01:03 @monitor.py:467]\u001b[0m GAN_loss/discrim/accuracy_real: 0.185\n",
      "\u001b[32m[0922 19:01:03 @monitor.py:467]\u001b[0m GAN_loss/discrim/loss: 0.64592\n",
      "\u001b[32m[0922 19:01:03 @monitor.py:467]\u001b[0m GAN_loss/gen/final-g-loss: 1.3214\n",
      "\u001b[32m[0922 19:01:03 @monitor.py:467]\u001b[0m GAN_loss/gen/klloss: 0.23072\n",
      "\u001b[32m[0922 19:01:03 @monitor.py:467]\u001b[0m GAN_loss/gen/loss: 1.0907\n",
      "\u001b[32m[0922 19:01:03 @monitor.py:467]\u001b[0m QueueInput/queue_size: 50\n",
      "\u001b[32m[0922 19:01:03 @base.py:275]\u001b[0m Start Epoch 848 ...\n"
     ]
    },
    {
     "name": "stderr",
     "output_type": "stream",
     "text": [
      "100%|#################################################################################|2000/2000[01:10<00:00,28.18it/s]"
     ]
    },
    {
     "name": "stdout",
     "output_type": "stream",
     "text": [
      "\u001b[32m[0922 19:02:14 @base.py:285]\u001b[0m Epoch 848 (global_step 1696000) finished, time:1 minute 10 seconds.\n",
      "\u001b[32m[0922 19:02:14 @saver.py:79]\u001b[0m Model saved to ../output/LPMC/DATGAN/model\\model-1696000.\n"
     ]
    },
    {
     "name": "stderr",
     "output_type": "stream",
     "text": [
      "\n"
     ]
    },
    {
     "name": "stdout",
     "output_type": "stream",
     "text": [
      "\u001b[32m[0922 19:02:14 @monitor.py:467]\u001b[0m GAN_loss/discrim/accuracy_fake: 0.83\n",
      "\u001b[32m[0922 19:02:14 @monitor.py:467]\u001b[0m GAN_loss/discrim/accuracy_real: 0.16\n",
      "\u001b[32m[0922 19:02:14 @monitor.py:467]\u001b[0m GAN_loss/discrim/loss: 0.66108\n",
      "\u001b[32m[0922 19:02:14 @monitor.py:467]\u001b[0m GAN_loss/gen/final-g-loss: 1.2404\n",
      "\u001b[32m[0922 19:02:14 @monitor.py:467]\u001b[0m GAN_loss/gen/klloss: 0.21841\n",
      "\u001b[32m[0922 19:02:14 @monitor.py:467]\u001b[0m GAN_loss/gen/loss: 1.022\n",
      "\u001b[32m[0922 19:02:14 @monitor.py:467]\u001b[0m QueueInput/queue_size: 50\n",
      "\u001b[32m[0922 19:02:14 @base.py:275]\u001b[0m Start Epoch 849 ...\n"
     ]
    },
    {
     "name": "stderr",
     "output_type": "stream",
     "text": [
      "100%|#################################################################################|2000/2000[01:11<00:00,28.10it/s]"
     ]
    },
    {
     "name": "stdout",
     "output_type": "stream",
     "text": [
      "\u001b[32m[0922 19:03:25 @base.py:285]\u001b[0m Epoch 849 (global_step 1698000) finished, time:1 minute 11 seconds.\n",
      "\u001b[32m[0922 19:03:25 @saver.py:79]\u001b[0m Model saved to ../output/LPMC/DATGAN/model\\model-1698000.\n"
     ]
    },
    {
     "name": "stderr",
     "output_type": "stream",
     "text": [
      "\n"
     ]
    },
    {
     "name": "stdout",
     "output_type": "stream",
     "text": [
      "\u001b[32m[0922 19:03:26 @monitor.py:467]\u001b[0m GAN_loss/discrim/accuracy_fake: 0.885\n",
      "\u001b[32m[0922 19:03:26 @monitor.py:467]\u001b[0m GAN_loss/discrim/accuracy_real: 0.18\n",
      "\u001b[32m[0922 19:03:26 @monitor.py:467]\u001b[0m GAN_loss/discrim/loss: 0.65638\n",
      "\u001b[32m[0922 19:03:26 @monitor.py:467]\u001b[0m GAN_loss/gen/final-g-loss: 1.2624\n",
      "\u001b[32m[0922 19:03:26 @monitor.py:467]\u001b[0m GAN_loss/gen/klloss: 0.20975\n",
      "\u001b[32m[0922 19:03:26 @monitor.py:467]\u001b[0m GAN_loss/gen/loss: 1.0526\n",
      "\u001b[32m[0922 19:03:26 @monitor.py:467]\u001b[0m QueueInput/queue_size: 50\n",
      "\u001b[32m[0922 19:03:26 @base.py:275]\u001b[0m Start Epoch 850 ...\n"
     ]
    },
    {
     "name": "stderr",
     "output_type": "stream",
     "text": [
      "100%|#################################################################################|2000/2000[01:11<00:00,28.05it/s]"
     ]
    },
    {
     "name": "stdout",
     "output_type": "stream",
     "text": [
      "\u001b[32m[0922 19:04:37 @base.py:285]\u001b[0m Epoch 850 (global_step 1700000) finished, time:1 minute 11 seconds.\n",
      "\u001b[32m[0922 19:04:37 @saver.py:79]\u001b[0m Model saved to ../output/LPMC/DATGAN/model\\model-1700000.\n"
     ]
    },
    {
     "name": "stderr",
     "output_type": "stream",
     "text": [
      "\n"
     ]
    },
    {
     "name": "stdout",
     "output_type": "stream",
     "text": [
      "\u001b[32m[0922 19:04:37 @monitor.py:467]\u001b[0m GAN_loss/discrim/accuracy_fake: 0.89\n",
      "\u001b[32m[0922 19:04:37 @monitor.py:467]\u001b[0m GAN_loss/discrim/accuracy_real: 0.205\n",
      "\u001b[32m[0922 19:04:37 @monitor.py:467]\u001b[0m GAN_loss/discrim/loss: 0.64692\n",
      "\u001b[32m[0922 19:04:37 @monitor.py:467]\u001b[0m GAN_loss/gen/final-g-loss: 1.2254\n",
      "\u001b[32m[0922 19:04:37 @monitor.py:467]\u001b[0m GAN_loss/gen/klloss: 0.17928\n",
      "\u001b[32m[0922 19:04:37 @monitor.py:467]\u001b[0m GAN_loss/gen/loss: 1.0461\n",
      "\u001b[32m[0922 19:04:37 @monitor.py:467]\u001b[0m QueueInput/queue_size: 50\n",
      "\u001b[32m[0922 19:04:37 @base.py:275]\u001b[0m Start Epoch 851 ...\n"
     ]
    },
    {
     "name": "stderr",
     "output_type": "stream",
     "text": [
      "100%|#################################################################################|2000/2000[01:11<00:00,28.06it/s]"
     ]
    },
    {
     "name": "stdout",
     "output_type": "stream",
     "text": [
      "\u001b[32m[0922 19:05:48 @base.py:285]\u001b[0m Epoch 851 (global_step 1702000) finished, time:1 minute 11 seconds.\n",
      "\u001b[32m[0922 19:05:49 @saver.py:79]\u001b[0m Model saved to ../output/LPMC/DATGAN/model\\model-1702000.\n"
     ]
    },
    {
     "name": "stderr",
     "output_type": "stream",
     "text": [
      "\n"
     ]
    },
    {
     "name": "stdout",
     "output_type": "stream",
     "text": [
      "\u001b[32m[0922 19:05:49 @monitor.py:467]\u001b[0m GAN_loss/discrim/accuracy_fake: 0.875\n",
      "\u001b[32m[0922 19:05:49 @monitor.py:467]\u001b[0m GAN_loss/discrim/accuracy_real: 0.22\n",
      "\u001b[32m[0922 19:05:49 @monitor.py:467]\u001b[0m GAN_loss/discrim/loss: 0.64017\n",
      "\u001b[32m[0922 19:05:49 @monitor.py:467]\u001b[0m GAN_loss/gen/final-g-loss: 1.5637\n",
      "\u001b[32m[0922 19:05:49 @monitor.py:467]\u001b[0m GAN_loss/gen/klloss: 0.48115\n",
      "\u001b[32m[0922 19:05:49 @monitor.py:467]\u001b[0m GAN_loss/gen/loss: 1.0825\n",
      "\u001b[32m[0922 19:05:49 @monitor.py:467]\u001b[0m QueueInput/queue_size: 50\n",
      "\u001b[32m[0922 19:05:49 @base.py:275]\u001b[0m Start Epoch 852 ...\n"
     ]
    },
    {
     "name": "stderr",
     "output_type": "stream",
     "text": [
      "100%|#################################################################################|2000/2000[01:11<00:00,28.09it/s]"
     ]
    },
    {
     "name": "stdout",
     "output_type": "stream",
     "text": [
      "\u001b[32m[0922 19:07:00 @base.py:285]\u001b[0m Epoch 852 (global_step 1704000) finished, time:1 minute 11 seconds.\n",
      "\u001b[32m[0922 19:07:00 @saver.py:79]\u001b[0m Model saved to ../output/LPMC/DATGAN/model\\model-1704000.\n"
     ]
    },
    {
     "name": "stderr",
     "output_type": "stream",
     "text": [
      "\n"
     ]
    },
    {
     "name": "stdout",
     "output_type": "stream",
     "text": [
      "\u001b[32m[0922 19:07:00 @monitor.py:467]\u001b[0m GAN_loss/discrim/accuracy_fake: 0.87\n",
      "\u001b[32m[0922 19:07:00 @monitor.py:467]\u001b[0m GAN_loss/discrim/accuracy_real: 0.185\n",
      "\u001b[32m[0922 19:07:00 @monitor.py:467]\u001b[0m GAN_loss/discrim/loss: 0.65168\n",
      "\u001b[32m[0922 19:07:00 @monitor.py:467]\u001b[0m GAN_loss/gen/final-g-loss: 1.2425\n",
      "\u001b[32m[0922 19:07:00 @monitor.py:467]\u001b[0m GAN_loss/gen/klloss: 0.19516\n",
      "\u001b[32m[0922 19:07:00 @monitor.py:467]\u001b[0m GAN_loss/gen/loss: 1.0473\n",
      "\u001b[32m[0922 19:07:00 @monitor.py:467]\u001b[0m QueueInput/queue_size: 50\n",
      "\u001b[32m[0922 19:07:00 @base.py:275]\u001b[0m Start Epoch 853 ...\n"
     ]
    },
    {
     "name": "stderr",
     "output_type": "stream",
     "text": [
      "100%|#################################################################################|2000/2000[01:10<00:00,28.25it/s]"
     ]
    },
    {
     "name": "stdout",
     "output_type": "stream",
     "text": [
      "\u001b[32m[0922 19:08:11 @base.py:285]\u001b[0m Epoch 853 (global_step 1706000) finished, time:1 minute 10 seconds.\n",
      "\u001b[32m[0922 19:08:11 @saver.py:79]\u001b[0m Model saved to ../output/LPMC/DATGAN/model\\model-1706000.\n"
     ]
    },
    {
     "name": "stderr",
     "output_type": "stream",
     "text": [
      "\n"
     ]
    },
    {
     "name": "stdout",
     "output_type": "stream",
     "text": [
      "\u001b[32m[0922 19:08:11 @monitor.py:467]\u001b[0m GAN_loss/discrim/accuracy_fake: 0.885\n",
      "\u001b[32m[0922 19:08:11 @monitor.py:467]\u001b[0m GAN_loss/discrim/accuracy_real: 0.26\n",
      "\u001b[32m[0922 19:08:11 @monitor.py:467]\u001b[0m GAN_loss/discrim/loss: 0.63612\n",
      "\u001b[32m[0922 19:08:11 @monitor.py:467]\u001b[0m GAN_loss/gen/final-g-loss: 1.2832\n",
      "\u001b[32m[0922 19:08:11 @monitor.py:467]\u001b[0m GAN_loss/gen/klloss: 0.22284\n",
      "\u001b[32m[0922 19:08:11 @monitor.py:467]\u001b[0m GAN_loss/gen/loss: 1.0603\n",
      "\u001b[32m[0922 19:08:11 @monitor.py:467]\u001b[0m QueueInput/queue_size: 50\n",
      "\u001b[32m[0922 19:08:11 @base.py:275]\u001b[0m Start Epoch 854 ...\n"
     ]
    },
    {
     "name": "stderr",
     "output_type": "stream",
     "text": [
      "100%|#################################################################################|2000/2000[01:11<00:00,28.13it/s]"
     ]
    },
    {
     "name": "stdout",
     "output_type": "stream",
     "text": [
      "\u001b[32m[0922 19:09:22 @base.py:285]\u001b[0m Epoch 854 (global_step 1708000) finished, time:1 minute 11 seconds.\n",
      "\u001b[32m[0922 19:09:22 @saver.py:79]\u001b[0m Model saved to ../output/LPMC/DATGAN/model\\model-1708000.\n"
     ]
    },
    {
     "name": "stderr",
     "output_type": "stream",
     "text": [
      "\n"
     ]
    },
    {
     "name": "stdout",
     "output_type": "stream",
     "text": [
      "\u001b[32m[0922 19:09:23 @monitor.py:467]\u001b[0m GAN_loss/discrim/accuracy_fake: 0.885\n",
      "\u001b[32m[0922 19:09:23 @monitor.py:467]\u001b[0m GAN_loss/discrim/accuracy_real: 0.2\n",
      "\u001b[32m[0922 19:09:23 @monitor.py:467]\u001b[0m GAN_loss/discrim/loss: 0.64151\n",
      "\u001b[32m[0922 19:09:23 @monitor.py:467]\u001b[0m GAN_loss/gen/final-g-loss: 1.4325\n",
      "\u001b[32m[0922 19:09:23 @monitor.py:467]\u001b[0m GAN_loss/gen/klloss: 0.37501\n",
      "\u001b[32m[0922 19:09:23 @monitor.py:467]\u001b[0m GAN_loss/gen/loss: 1.0575\n",
      "\u001b[32m[0922 19:09:23 @monitor.py:467]\u001b[0m QueueInput/queue_size: 50\n",
      "\u001b[32m[0922 19:09:23 @base.py:275]\u001b[0m Start Epoch 855 ...\n"
     ]
    },
    {
     "name": "stderr",
     "output_type": "stream",
     "text": [
      "100%|#################################################################################|2000/2000[01:11<00:00,28.13it/s]"
     ]
    },
    {
     "name": "stdout",
     "output_type": "stream",
     "text": [
      "\u001b[32m[0922 19:10:34 @base.py:285]\u001b[0m Epoch 855 (global_step 1710000) finished, time:1 minute 11 seconds.\n",
      "\u001b[32m[0922 19:10:34 @saver.py:79]\u001b[0m Model saved to ../output/LPMC/DATGAN/model\\model-1710000.\n"
     ]
    },
    {
     "name": "stderr",
     "output_type": "stream",
     "text": [
      "\n"
     ]
    },
    {
     "name": "stdout",
     "output_type": "stream",
     "text": [
      "\u001b[32m[0922 19:10:34 @monitor.py:467]\u001b[0m GAN_loss/discrim/accuracy_fake: 0.845\n",
      "\u001b[32m[0922 19:10:34 @monitor.py:467]\u001b[0m GAN_loss/discrim/accuracy_real: 0.23\n",
      "\u001b[32m[0922 19:10:34 @monitor.py:467]\u001b[0m GAN_loss/discrim/loss: 0.65436\n",
      "\u001b[32m[0922 19:10:34 @monitor.py:467]\u001b[0m GAN_loss/gen/final-g-loss: 1.3191\n",
      "\u001b[32m[0922 19:10:34 @monitor.py:467]\u001b[0m GAN_loss/gen/klloss: 0.25954\n",
      "\u001b[32m[0922 19:10:34 @monitor.py:467]\u001b[0m GAN_loss/gen/loss: 1.0596\n",
      "\u001b[32m[0922 19:10:34 @monitor.py:467]\u001b[0m QueueInput/queue_size: 50\n",
      "\u001b[32m[0922 19:10:34 @base.py:275]\u001b[0m Start Epoch 856 ...\n"
     ]
    },
    {
     "name": "stderr",
     "output_type": "stream",
     "text": [
      "100%|#################################################################################|2000/2000[01:11<00:00,28.09it/s]"
     ]
    },
    {
     "name": "stdout",
     "output_type": "stream",
     "text": [
      "\u001b[32m[0922 19:11:45 @base.py:285]\u001b[0m Epoch 856 (global_step 1712000) finished, time:1 minute 11 seconds.\n",
      "\u001b[32m[0922 19:11:45 @saver.py:79]\u001b[0m Model saved to ../output/LPMC/DATGAN/model\\model-1712000.\n"
     ]
    },
    {
     "name": "stderr",
     "output_type": "stream",
     "text": [
      "\n"
     ]
    },
    {
     "name": "stdout",
     "output_type": "stream",
     "text": [
      "\u001b[32m[0922 19:11:45 @monitor.py:467]\u001b[0m GAN_loss/discrim/accuracy_fake: 0.89\n",
      "\u001b[32m[0922 19:11:45 @monitor.py:467]\u001b[0m GAN_loss/discrim/accuracy_real: 0.185\n",
      "\u001b[32m[0922 19:11:45 @monitor.py:467]\u001b[0m GAN_loss/discrim/loss: 0.63649\n",
      "\u001b[32m[0922 19:11:45 @monitor.py:467]\u001b[0m GAN_loss/gen/final-g-loss: 1.2889\n",
      "\u001b[32m[0922 19:11:45 @monitor.py:467]\u001b[0m GAN_loss/gen/klloss: 0.20871\n",
      "\u001b[32m[0922 19:11:45 @monitor.py:467]\u001b[0m GAN_loss/gen/loss: 1.0802\n",
      "\u001b[32m[0922 19:11:45 @monitor.py:467]\u001b[0m QueueInput/queue_size: 50\n",
      "\u001b[32m[0922 19:11:45 @base.py:275]\u001b[0m Start Epoch 857 ...\n"
     ]
    },
    {
     "name": "stderr",
     "output_type": "stream",
     "text": [
      "100%|#################################################################################|2000/2000[01:10<00:00,28.23it/s]"
     ]
    },
    {
     "name": "stdout",
     "output_type": "stream",
     "text": [
      "\u001b[32m[0922 19:12:56 @base.py:285]\u001b[0m Epoch 857 (global_step 1714000) finished, time:1 minute 10 seconds.\n"
     ]
    },
    {
     "name": "stderr",
     "output_type": "stream",
     "text": [
      "\n"
     ]
    },
    {
     "name": "stdout",
     "output_type": "stream",
     "text": [
      "\u001b[32m[0922 19:12:56 @saver.py:79]\u001b[0m Model saved to ../output/LPMC/DATGAN/model\\model-1714000.\n",
      "\u001b[32m[0922 19:12:56 @monitor.py:467]\u001b[0m GAN_loss/discrim/accuracy_fake: 0.885\n",
      "\u001b[32m[0922 19:12:56 @monitor.py:467]\u001b[0m GAN_loss/discrim/accuracy_real: 0.205\n",
      "\u001b[32m[0922 19:12:56 @monitor.py:467]\u001b[0m GAN_loss/discrim/loss: 0.65006\n",
      "\u001b[32m[0922 19:12:56 @monitor.py:467]\u001b[0m GAN_loss/gen/final-g-loss: 1.2545\n",
      "\u001b[32m[0922 19:12:56 @monitor.py:467]\u001b[0m GAN_loss/gen/klloss: 0.19763\n",
      "\u001b[32m[0922 19:12:56 @monitor.py:467]\u001b[0m GAN_loss/gen/loss: 1.0569\n",
      "\u001b[32m[0922 19:12:56 @monitor.py:467]\u001b[0m QueueInput/queue_size: 50\n",
      "\u001b[32m[0922 19:12:56 @base.py:275]\u001b[0m Start Epoch 858 ...\n"
     ]
    },
    {
     "name": "stderr",
     "output_type": "stream",
     "text": [
      "100%|#################################################################################|2000/2000[01:11<00:00,28.02it/s]"
     ]
    },
    {
     "name": "stdout",
     "output_type": "stream",
     "text": [
      "\u001b[32m[0922 19:14:08 @base.py:285]\u001b[0m Epoch 858 (global_step 1716000) finished, time:1 minute 11 seconds.\n",
      "\u001b[32m[0922 19:14:08 @saver.py:79]\u001b[0m Model saved to ../output/LPMC/DATGAN/model\\model-1716000.\n"
     ]
    },
    {
     "name": "stderr",
     "output_type": "stream",
     "text": [
      "\n"
     ]
    },
    {
     "name": "stdout",
     "output_type": "stream",
     "text": [
      "\u001b[32m[0922 19:14:08 @monitor.py:467]\u001b[0m GAN_loss/discrim/accuracy_fake: 0.94\n",
      "\u001b[32m[0922 19:14:08 @monitor.py:467]\u001b[0m GAN_loss/discrim/accuracy_real: 0.265\n",
      "\u001b[32m[0922 19:14:08 @monitor.py:467]\u001b[0m GAN_loss/discrim/loss: 0.62735\n",
      "\u001b[32m[0922 19:14:08 @monitor.py:467]\u001b[0m GAN_loss/gen/final-g-loss: 1.3457\n",
      "\u001b[32m[0922 19:14:08 @monitor.py:467]\u001b[0m GAN_loss/gen/klloss: 0.25464\n",
      "\u001b[32m[0922 19:14:08 @monitor.py:467]\u001b[0m GAN_loss/gen/loss: 1.091\n",
      "\u001b[32m[0922 19:14:08 @monitor.py:467]\u001b[0m QueueInput/queue_size: 50\n",
      "\u001b[32m[0922 19:14:08 @base.py:275]\u001b[0m Start Epoch 859 ...\n"
     ]
    },
    {
     "name": "stderr",
     "output_type": "stream",
     "text": [
      "100%|#################################################################################|2000/2000[01:11<00:00,28.14it/s]"
     ]
    },
    {
     "name": "stdout",
     "output_type": "stream",
     "text": [
      "\u001b[32m[0922 19:15:19 @base.py:285]\u001b[0m Epoch 859 (global_step 1718000) finished, time:1 minute 11 seconds.\n",
      "\u001b[32m[0922 19:15:19 @saver.py:79]\u001b[0m Model saved to ../output/LPMC/DATGAN/model\\model-1718000.\n"
     ]
    },
    {
     "name": "stderr",
     "output_type": "stream",
     "text": [
      "\n"
     ]
    },
    {
     "name": "stdout",
     "output_type": "stream",
     "text": [
      "\u001b[32m[0922 19:15:19 @monitor.py:467]\u001b[0m GAN_loss/discrim/accuracy_fake: 0.895\n",
      "\u001b[32m[0922 19:15:19 @monitor.py:467]\u001b[0m GAN_loss/discrim/accuracy_real: 0.175\n",
      "\u001b[32m[0922 19:15:19 @monitor.py:467]\u001b[0m GAN_loss/discrim/loss: 0.65397\n",
      "\u001b[32m[0922 19:15:19 @monitor.py:467]\u001b[0m GAN_loss/gen/final-g-loss: 1.1791\n",
      "\u001b[32m[0922 19:15:19 @monitor.py:467]\u001b[0m GAN_loss/gen/klloss: 0.12045\n",
      "\u001b[32m[0922 19:15:19 @monitor.py:467]\u001b[0m GAN_loss/gen/loss: 1.0587\n",
      "\u001b[32m[0922 19:15:19 @monitor.py:467]\u001b[0m QueueInput/queue_size: 50\n",
      "\u001b[32m[0922 19:15:19 @base.py:275]\u001b[0m Start Epoch 860 ...\n"
     ]
    },
    {
     "name": "stderr",
     "output_type": "stream",
     "text": [
      "100%|#################################################################################|2000/2000[01:10<00:00,28.20it/s]"
     ]
    },
    {
     "name": "stdout",
     "output_type": "stream",
     "text": [
      "\u001b[32m[0922 19:16:30 @base.py:285]\u001b[0m Epoch 860 (global_step 1720000) finished, time:1 minute 10 seconds.\n",
      "\u001b[32m[0922 19:16:30 @saver.py:79]\u001b[0m Model saved to ../output/LPMC/DATGAN/model\\model-1720000.\n"
     ]
    },
    {
     "name": "stderr",
     "output_type": "stream",
     "text": [
      "\n"
     ]
    },
    {
     "name": "stdout",
     "output_type": "stream",
     "text": [
      "\u001b[32m[0922 19:16:31 @monitor.py:467]\u001b[0m GAN_loss/discrim/accuracy_fake: 0.885\n",
      "\u001b[32m[0922 19:16:31 @monitor.py:467]\u001b[0m GAN_loss/discrim/accuracy_real: 0.205\n",
      "\u001b[32m[0922 19:16:31 @monitor.py:467]\u001b[0m GAN_loss/discrim/loss: 0.64974\n",
      "\u001b[32m[0922 19:16:31 @monitor.py:467]\u001b[0m GAN_loss/gen/final-g-loss: 1.2538\n",
      "\u001b[32m[0922 19:16:31 @monitor.py:467]\u001b[0m GAN_loss/gen/klloss: 0.19141\n",
      "\u001b[32m[0922 19:16:31 @monitor.py:467]\u001b[0m GAN_loss/gen/loss: 1.0624\n",
      "\u001b[32m[0922 19:16:31 @monitor.py:467]\u001b[0m QueueInput/queue_size: 50\n",
      "\u001b[32m[0922 19:16:31 @base.py:275]\u001b[0m Start Epoch 861 ...\n"
     ]
    },
    {
     "name": "stderr",
     "output_type": "stream",
     "text": [
      " 28%|#######################2                                                          |567/2000[00:20<00:49,28.68it/s]"
     ]
    }
   ],
   "source": [
    "datgan.fit(df, graph)"
   ]
  },
  {
   "cell_type": "code",
   "execution_count": 13,
   "metadata": {},
   "outputs": [
    {
     "name": "stdout",
     "output_type": "stream",
     "text": [
      "\u001b[32m[0809 15:13:09 @model.py:813]\u001b[0m Model saved successfully.\n"
     ]
    }
   ],
   "source": [
    "datgan.save('trained', force=True)"
   ]
  },
  {
   "cell_type": "code",
   "execution_count": null,
   "metadata": {},
   "outputs": [],
   "source": []
  }
 ],
 "metadata": {
  "kernelspec": {
   "display_name": "Python 3",
   "language": "python",
   "name": "python3"
  },
  "language_info": {
   "codemirror_mode": {
    "name": "ipython",
    "version": 3
   },
   "file_extension": ".py",
   "mimetype": "text/x-python",
   "name": "python",
   "nbconvert_exporter": "python",
   "pygments_lexer": "ipython3",
   "version": "3.7.9"
  }
 },
 "nbformat": 4,
 "nbformat_minor": 2
}
