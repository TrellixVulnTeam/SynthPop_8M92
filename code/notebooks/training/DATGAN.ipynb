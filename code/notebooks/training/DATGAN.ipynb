{
 "cells": [
  {
   "cell_type": "code",
   "execution_count": 1,
   "metadata": {},
   "outputs": [],
   "source": [
    "import os\n",
    "os.chdir('../..')"
   ]
  },
  {
   "cell_type": "code",
   "execution_count": 2,
   "metadata": {},
   "outputs": [],
   "source": [
    "from platform import python_version\n",
    "print(python_version())"
   ]
  },
  {
   "cell_type": "code",
   "execution_count": 3,
   "metadata": {},
   "outputs": [
    {
     "name": "stdout",
     "output_type": "stream",
     "text": [
      "WARNING:tensorflow:From D:\\Users\\glede\\anaconda3\\envs\\py37\\lib\\site-packages\\tensorpack\\callbacks\\hooks.py:17: The name tf.train.SessionRunHook is deprecated. Please use tf.estimator.SessionRunHook instead.\n",
      "\n",
      "WARNING:tensorflow:From D:\\Users\\glede\\anaconda3\\envs\\py37\\lib\\site-packages\\tensorpack\\tfutils\\optimizer.py:18: The name tf.train.Optimizer is deprecated. Please use tf.compat.v1.train.Optimizer instead.\n",
      "\n",
      "WARNING:tensorflow:From D:\\Users\\glede\\anaconda3\\envs\\py37\\lib\\site-packages\\tensorpack\\tfutils\\sesscreate.py:20: The name tf.train.SessionCreator is deprecated. Please use tf.compat.v1.train.SessionCreator instead.\n",
      "\n"
     ]
    }
   ],
   "source": [
    "import numpy as np\n",
    "import pandas as pd\n",
    "\n",
    "import tensorflow as tf\n",
    "\n",
    "import matplotlib.pyplot as plt\n",
    "\n",
    "from modules.datgan.model import DATGAN\n",
    "#from modules.datgan_preLSTM.model import DATGAN\n",
    "\n",
    "#from modules.datgan_no_att.model import DATGAN\n",
    "import networkx as nx\n",
    "\n",
    "# For the Python notebook\n",
    "%matplotlib inline\n",
    "%reload_ext autoreload\n",
    "%autoreload 2"
   ]
  },
  {
   "cell_type": "code",
   "execution_count": 4,
   "metadata": {},
   "outputs": [],
   "source": [
    "dataset = 'Chicago'"
   ]
  },
  {
   "cell_type": "code",
   "execution_count": 5,
   "metadata": {},
   "outputs": [],
   "source": [
    "df = pd.read_csv('../data/{}/data.csv'.format(dataset), index_col=False)"
   ]
  },
  {
   "cell_type": "code",
   "execution_count": 6,
   "metadata": {},
   "outputs": [
    {
     "data": {
      "text/html": [
       "<div>\n",
       "<style scoped>\n",
       "    .dataframe tbody tr th:only-of-type {\n",
       "        vertical-align: middle;\n",
       "    }\n",
       "\n",
       "    .dataframe tbody tr th {\n",
       "        vertical-align: top;\n",
       "    }\n",
       "\n",
       "    .dataframe thead th {\n",
       "        text-align: right;\n",
       "    }\n",
       "</style>\n",
       "<table border=\"1\" class=\"dataframe\">\n",
       "  <thead>\n",
       "    <tr style=\"text-align: right;\">\n",
       "      <th></th>\n",
       "      <th>choice</th>\n",
       "      <th>travel_dow</th>\n",
       "      <th>trip_purpose</th>\n",
       "      <th>distance</th>\n",
       "      <th>hh_vehicles</th>\n",
       "      <th>hh_size</th>\n",
       "      <th>hh_bikes</th>\n",
       "      <th>hh_descr</th>\n",
       "      <th>hh_income</th>\n",
       "      <th>gender</th>\n",
       "      <th>age</th>\n",
       "      <th>license</th>\n",
       "      <th>education_level</th>\n",
       "      <th>work_status</th>\n",
       "      <th>departure_time</th>\n",
       "    </tr>\n",
       "  </thead>\n",
       "  <tbody>\n",
       "    <tr>\n",
       "      <th>0</th>\n",
       "      <td>drive</td>\n",
       "      <td>7</td>\n",
       "      <td>HOME_OTHER</td>\n",
       "      <td>23.42579</td>\n",
       "      <td>2</td>\n",
       "      <td>2</td>\n",
       "      <td>0</td>\n",
       "      <td>2</td>\n",
       "      <td>6</td>\n",
       "      <td>1</td>\n",
       "      <td>66</td>\n",
       "      <td>1.0</td>\n",
       "      <td>6</td>\n",
       "      <td>FTE</td>\n",
       "      <td>9.333333</td>\n",
       "    </tr>\n",
       "    <tr>\n",
       "      <th>1</th>\n",
       "      <td>drive</td>\n",
       "      <td>7</td>\n",
       "      <td>OTHER</td>\n",
       "      <td>1.71259</td>\n",
       "      <td>2</td>\n",
       "      <td>2</td>\n",
       "      <td>0</td>\n",
       "      <td>2</td>\n",
       "      <td>6</td>\n",
       "      <td>1</td>\n",
       "      <td>66</td>\n",
       "      <td>1.0</td>\n",
       "      <td>6</td>\n",
       "      <td>FTE</td>\n",
       "      <td>12.083333</td>\n",
       "    </tr>\n",
       "    <tr>\n",
       "      <th>2</th>\n",
       "      <td>drive</td>\n",
       "      <td>7</td>\n",
       "      <td>HOME_OTHER</td>\n",
       "      <td>21.77887</td>\n",
       "      <td>2</td>\n",
       "      <td>2</td>\n",
       "      <td>0</td>\n",
       "      <td>2</td>\n",
       "      <td>6</td>\n",
       "      <td>1</td>\n",
       "      <td>66</td>\n",
       "      <td>1.0</td>\n",
       "      <td>6</td>\n",
       "      <td>FTE</td>\n",
       "      <td>15.500000</td>\n",
       "    </tr>\n",
       "    <tr>\n",
       "      <th>3</th>\n",
       "      <td>drive</td>\n",
       "      <td>7</td>\n",
       "      <td>SHOPPING</td>\n",
       "      <td>2.02603</td>\n",
       "      <td>2</td>\n",
       "      <td>2</td>\n",
       "      <td>0</td>\n",
       "      <td>2</td>\n",
       "      <td>6</td>\n",
       "      <td>1</td>\n",
       "      <td>66</td>\n",
       "      <td>1.0</td>\n",
       "      <td>6</td>\n",
       "      <td>FTE</td>\n",
       "      <td>17.500000</td>\n",
       "    </tr>\n",
       "    <tr>\n",
       "      <th>4</th>\n",
       "      <td>drive</td>\n",
       "      <td>7</td>\n",
       "      <td>SHOPPING</td>\n",
       "      <td>0.87691</td>\n",
       "      <td>2</td>\n",
       "      <td>2</td>\n",
       "      <td>0</td>\n",
       "      <td>2</td>\n",
       "      <td>6</td>\n",
       "      <td>1</td>\n",
       "      <td>66</td>\n",
       "      <td>1.0</td>\n",
       "      <td>6</td>\n",
       "      <td>FTE</td>\n",
       "      <td>18.250000</td>\n",
       "    </tr>\n",
       "  </tbody>\n",
       "</table>\n",
       "</div>"
      ],
      "text/plain": [
       "  choice  travel_dow trip_purpose  distance  hh_vehicles  hh_size  hh_bikes  \\\n",
       "0  drive           7   HOME_OTHER  23.42579            2        2         0   \n",
       "1  drive           7        OTHER   1.71259            2        2         0   \n",
       "2  drive           7   HOME_OTHER  21.77887            2        2         0   \n",
       "3  drive           7     SHOPPING   2.02603            2        2         0   \n",
       "4  drive           7     SHOPPING   0.87691            2        2         0   \n",
       "\n",
       "   hh_descr  hh_income  gender  age  license  education_level work_status  \\\n",
       "0         2          6       1   66      1.0                6         FTE   \n",
       "1         2          6       1   66      1.0                6         FTE   \n",
       "2         2          6       1   66      1.0                6         FTE   \n",
       "3         2          6       1   66      1.0                6         FTE   \n",
       "4         2          6       1   66      1.0                6         FTE   \n",
       "\n",
       "   departure_time  \n",
       "0        9.333333  \n",
       "1       12.083333  \n",
       "2       15.500000  \n",
       "3       17.500000  \n",
       "4       18.250000  "
      ]
     },
     "execution_count": 6,
     "metadata": {},
     "output_type": "execute_result"
    }
   ],
   "source": [
    "df.head()"
   ]
  },
  {
   "cell_type": "code",
   "execution_count": 7,
   "metadata": {},
   "outputs": [],
   "source": [
    "if dataset is 'Chicago':\n",
    "    continuous_columns = [\"distance\", \"age\", \"departure_time\"]\n",
    "elif dataset is 'LPMC':\n",
    "    continuous_columns = ['start_time_linear', 'age', 'distance', 'dur_walking', 'dur_cycling', 'dur_pt_access', 'dur_pt_rail', 'dur_pt_bus', 'dur_pt_int', 'dur_driving', 'cost_transit', 'cost_driving_fuel', 'driving_traffic_percent']"
   ]
  },
  {
   "cell_type": "code",
   "execution_count": 8,
   "metadata": {},
   "outputs": [],
   "source": [
    "# personalised graph\n",
    "graph = nx.DiGraph()\n",
    "\n",
    "if dataset is 'Chicago':\n",
    "    graph.add_edges_from([\n",
    "        (\"age\", \"license\"),\n",
    "        (\"age\", \"education_level\"),\n",
    "        (\"gender\", \"work_status\"),\n",
    "        (\"education_level\", \"work_status\"),\n",
    "        (\"education_level\", \"hh_income\"),\n",
    "        (\"work_status\", \"hh_income\"),\n",
    "        (\"hh_income\", \"hh_descr\"),\n",
    "        (\"hh_income\", \"hh_size\"),\n",
    "        (\"hh_size\", \"hh_vehicles\"),\n",
    "        (\"hh_size\", \"hh_bikes\"),\n",
    "        (\"work_status\", \"trip_purpose\"),\n",
    "        (\"trip_purpose\", \"departure_time\"),\n",
    "        (\"trip_purpose\", \"distance\"),\n",
    "        (\"travel_dow\", \"choice\"),\n",
    "        (\"distance\", \"choice\"),\n",
    "        (\"departure_time\", \"choice\"),\n",
    "        (\"hh_vehicles\", \"choice\"),\n",
    "        (\"hh_bikes\", \"choice\"),\n",
    "        (\"license\", \"choice\"),\n",
    "        # Non necessary links\n",
    "        (\"education_level\", \"hh_size\"),\n",
    "        (\"work_status\", \"hh_descr\"),\n",
    "        (\"work_status\", \"hh_size\"),\n",
    "        (\"hh_income\", \"hh_bikes\"),\n",
    "        (\"hh_income\", \"hh_vehicles\"),\n",
    "        (\"trip_purpose\", \"choice\")\n",
    "    ])\n",
    "elif dataset is 'LPMC':\n",
    "    graph.add_edges_from([\n",
    "        (\"travel_year\", \"survey_year\"),\n",
    "        (\"travel_date\", \"day_of_week\"),\n",
    "        (\"day_of_week\", \"purpose\"),\n",
    "        (\"purpose\", \"start_time_linear\"),\n",
    "        (\"purpose\", \"cost_driving_con_charge\"),\n",
    "        (\"purpose\", \"distance\"),\n",
    "        (\"day_of_week\", \"driving_traffic_percent\"),\n",
    "        (\"day_of_week\", \"cost_driving_con_charge\"),\n",
    "        (\"start_time_linear\", \"driving_traffic_percent\"),\n",
    "        (\"start_time_linear\", \"cost_driving_con_charge\"),\n",
    "        (\"driving_traffic_percent\", \"cost_driving_con_charge\"),\n",
    "        (\"female\", \"driving_license\"),\n",
    "        (\"age\", \"bus_scale\"),\n",
    "        (\"age\", \"car_ownership\"),\n",
    "        (\"age\", \"driving_license\"),\n",
    "        (\"age\", \"faretype\"),\n",
    "        (\"driving_license\", \"car_ownership\"),\n",
    "        (\"car_ownership\", \"fueltype\"),\n",
    "        (\"fueltype\", \"cost_driving_con_charge\"),\n",
    "        (\"fueltype\", \"cost_driving_fuel\"),\n",
    "        (\"distance\", \"cost_driving_fuel\"),\n",
    "        (\"distance\", \"dur_driving\"),\n",
    "        (\"distance\", \"dur_walking\"),\n",
    "        (\"distance\", \"dur_cycling\"),\n",
    "        (\"distance\", \"dur_pt_access\"),\n",
    "        (\"distance\", \"dur_pt_rail\"),\n",
    "        (\"distance\", \"dur_pt_bus\"),\n",
    "        (\"distance\", \"dur_pt_int\"),\n",
    "        (\"dur_pt_bus\", \"cost_transit\"),\n",
    "        (\"dur_pt_rail\", \"cost_transit\"),\n",
    "        (\"pt_n_interchanges\", \"dur_pt_int\"),\n",
    "        (\"pt_n_interchanges\", \"cost_transit\"),\n",
    "        (\"faretype\", \"cost_transit\"),\n",
    "        (\"bus_scale\", \"cost_transit\"),\n",
    "        (\"car_ownership\", \"travel_mode\"),\n",
    "        (\"age\", \"travel_mode\"),\n",
    "        (\"cost_driving_con_charge\", \"travel_mode\"),\n",
    "        (\"driving_traffic_percent\", \"travel_mode\"),\n",
    "        (\"female\", \"travel_mode\"),\n",
    "        (\"purpose\", \"travel_mode\"),\n",
    "        (\"cost_transit\", \"travel_mode\"),\n",
    "        (\"cost_driving_fuel\", \"travel_mode\"),\n",
    "        (\"dur_driving\", \"travel_mode\"),\n",
    "        (\"dur_walking\", \"travel_mode\"),\n",
    "        (\"dur_cycling\", \"travel_mode\"),\n",
    "        (\"dur_pt_access\", \"travel_mode\"),\n",
    "        (\"dur_pt_rail\", \"travel_mode\"),\n",
    "        (\"dur_pt_bus\", \"travel_mode\"),\n",
    "        (\"dur_pt_int\", \"travel_mode\")\n",
    "    ])\n",
    "    graph.add_node(\"travel_month\")"
   ]
  },
  {
   "cell_type": "code",
   "execution_count": 9,
   "metadata": {},
   "outputs": [],
   "source": [
    "output_folder = '../output/' + dataset + '/DATGAN_TEST2/'"
   ]
  },
  {
   "cell_type": "code",
   "execution_count": 10,
   "metadata": {},
   "outputs": [],
   "source": [
    "datgan = DATGAN(continuous_columns, max_epoch=100, #steps_per_epoch=2000, \n",
    "                batch_size=500, output=output_folder, gpu=0)"
   ]
  },
  {
   "cell_type": "code",
   "execution_count": 11,
   "metadata": {
    "scrolled": true
   },
   "outputs": [
    {
     "name": "stdout",
     "output_type": "stream",
     "text": [
      "\u001b[32m[1006 16:57:25 @model.py:172]\u001b[0m Preprocessing the data!\n",
      "\u001b[32m[1006 16:57:25 @data.py:444]\u001b[0m Encoding continuous variable \"age\"...\n",
      "\u001b[32m[1006 16:57:25 @data.py:294]\u001b[0m   Found 6 peaks!\n",
      "\u001b[32m[1006 16:57:25 @data.py:302]\u001b[0m   Encoding with 6 components.\n",
      "\u001b[32m[1006 16:58:27 @data.py:321]\u001b[0m   Predictions were done on 6 components => FINISHED!\n",
      "\u001b[32m[1006 16:58:27 @data.py:468]\u001b[0m Encoding categorical variable \"gender\"...\n",
      "\u001b[32m[1006 16:58:27 @data.py:468]\u001b[0m Encoding categorical variable \"travel_dow\"...\n",
      "\u001b[32m[1006 16:58:27 @data.py:468]\u001b[0m Encoding categorical variable \"license\"...\n"
     ]
    },
    {
     "name": "stderr",
     "output_type": "stream",
     "text": [
      "D:\\Users\\glede\\anaconda3\\envs\\py37\\lib\\site-packages\\sklearn\\mixture\\_base.py:282: ConvergenceWarning: Initialization 10 did not converge. Try different init parameters, or increase max_iter, tol or check for degenerate data.\n",
      "  ConvergenceWarning,\n"
     ]
    },
    {
     "name": "stdout",
     "output_type": "stream",
     "text": [
      "\u001b[32m[1006 16:58:27 @data.py:468]\u001b[0m Encoding categorical variable \"education_level\"...\n",
      "\u001b[32m[1006 16:58:27 @data.py:468]\u001b[0m Encoding categorical variable \"work_status\"...\n",
      "\u001b[32m[1006 16:58:27 @data.py:468]\u001b[0m Encoding categorical variable \"hh_income\"...\n",
      "\u001b[32m[1006 16:58:27 @data.py:468]\u001b[0m Encoding categorical variable \"trip_purpose\"...\n",
      "\u001b[32m[1006 16:58:27 @data.py:468]\u001b[0m Encoding categorical variable \"hh_descr\"...\n",
      "\u001b[32m[1006 16:58:27 @data.py:468]\u001b[0m Encoding categorical variable \"hh_size\"...\n",
      "\u001b[32m[1006 16:58:27 @data.py:444]\u001b[0m Encoding continuous variable \"departure_time\"...\n",
      "\u001b[32m[1006 16:58:27 @data.py:294]\u001b[0m   Found 8 peaks!\n",
      "\u001b[32m[1006 16:58:27 @data.py:302]\u001b[0m   Encoding with 8 components.\n",
      "\u001b[32m[1006 16:59:48 @data.py:321]\u001b[0m   Predictions were done on 8 components => FINISHED!\n",
      "\u001b[32m[1006 16:59:48 @data.py:444]\u001b[0m Encoding continuous variable \"distance\"...\n",
      "\u001b[32m[1006 16:59:48 @data.py:294]\u001b[0m   Found 0 peaks!\n",
      "\u001b[32m[1006 16:59:48 @data.py:302]\u001b[0m   Encoding with 10 components.\n"
     ]
    },
    {
     "name": "stderr",
     "output_type": "stream",
     "text": [
      "D:\\Users\\glede\\anaconda3\\envs\\py37\\lib\\site-packages\\sklearn\\mixture\\_base.py:282: ConvergenceWarning: Initialization 10 did not converge. Try different init parameters, or increase max_iter, tol or check for degenerate data.\n",
      "  ConvergenceWarning,\n"
     ]
    },
    {
     "name": "stdout",
     "output_type": "stream",
     "text": [
      "\u001b[32m[1006 17:01:26 @data.py:321]\u001b[0m   Predictions were done on 10 components => FINISHED!\n",
      "\u001b[32m[1006 17:01:26 @data.py:468]\u001b[0m Encoding categorical variable \"hh_vehicles\"...\n",
      "\u001b[32m[1006 17:01:26 @data.py:468]\u001b[0m Encoding categorical variable \"hh_bikes\"...\n",
      "\u001b[32m[1006 17:01:26 @data.py:468]\u001b[0m Encoding categorical variable \"choice\"...\n"
     ]
    },
    {
     "name": "stderr",
     "output_type": "stream",
     "text": [
      "D:\\Users\\glede\\anaconda3\\envs\\py37\\lib\\site-packages\\sklearn\\mixture\\_base.py:282: ConvergenceWarning: Initialization 10 did not converge. Try different init parameters, or increase max_iter, tol or check for degenerate data.\n",
      "  ConvergenceWarning,\n"
     ]
    },
    {
     "name": "stdout",
     "output_type": "stream",
     "text": [
      "\u001b[32m[1006 17:01:26 @model.py:186]\u001b[0m Preprocessed data have been saved!\n",
      "WARNING:tensorflow:From D:\\Users\\glede\\anaconda3\\envs\\py37\\lib\\site-packages\\tensorpack\\graph_builder\\model_desc.py:29: The name tf.get_default_graph is deprecated. Please use tf.compat.v1.get_default_graph instead.\n",
      "\n",
      "WARNING:tensorflow:From D:\\Users\\glede\\anaconda3\\envs\\py37\\lib\\site-packages\\tensorpack\\graph_builder\\model_desc.py:39: The name tf.placeholder is deprecated. Please use tf.compat.v1.placeholder instead.\n",
      "\n",
      "WARNING:tensorflow:From D:\\Users\\glede\\anaconda3\\envs\\py37\\lib\\site-packages\\tensorpack\\input_source\\input_source.py:219: The name tf.FIFOQueue is deprecated. Please use tf.queue.FIFOQueue instead.\n",
      "\n",
      "\u001b[32m[1006 17:01:27 @input_source.py:222]\u001b[0m Setting up the queue 'QueueInput/input_queue' for CPU prefetching ...\n",
      "WARNING:tensorflow:From D:\\Users\\glede\\anaconda3\\envs\\py37\\lib\\site-packages\\tensorpack\\tfutils\\summary.py:237: The name tf.get_variable_scope is deprecated. Please use tf.compat.v1.get_variable_scope instead.\n",
      "\n",
      "WARNING:tensorflow:From D:\\Users\\glede\\anaconda3\\envs\\py37\\lib\\site-packages\\tensorpack\\tfutils\\summary.py:27: The name tf.variable_scope is deprecated. Please use tf.compat.v1.variable_scope instead.\n",
      "\n",
      "WARNING:tensorflow:From D:\\Users\\glede\\anaconda3\\envs\\py37\\lib\\site-packages\\tensorpack\\tfutils\\summary.py:254: The name tf.get_variable is deprecated. Please use tf.compat.v1.get_variable instead.\n",
      "\n",
      "WARNING:tensorflow:From D:\\Users\\glede\\anaconda3\\envs\\py37\\lib\\site-packages\\tensorpack\\tfutils\\summary.py:264: The name tf.summary.scalar is deprecated. Please use tf.compat.v1.summary.scalar instead.\n",
      "\n",
      "WARNING:tensorflow:From D:\\Users\\glede\\anaconda3\\envs\\py37\\lib\\site-packages\\tensorpack\\tfutils\\collection.py:105: The name tf.GraphKeys is deprecated. Please use tf.compat.v1.GraphKeys instead.\n",
      "\n",
      "WARNING:tensorflow:From D:\\Users\\glede\\anaconda3\\envs\\py37\\lib\\site-packages\\tensorpack\\tfutils\\collection.py:33: The name tf.get_collection is deprecated. Please use tf.compat.v1.get_collection instead.\n",
      "\n",
      "WARNING:tensorflow:From C:\\Users\\glede\\Documents\\EPFL\\PhD\\SynthPop\\code\\modules\\datgan\\graph.py:618: The name tf.random_normal is deprecated. Please use tf.random.normal instead.\n",
      "\n",
      "WARNING:tensorflow:From C:\\Users\\glede\\Documents\\EPFL\\PhD\\SynthPop\\code\\modules\\datgan\\graph.py:621: The name tf.placeholder_with_default is deprecated. Please use tf.compat.v1.placeholder_with_default instead.\n",
      "\n",
      "WARNING:tensorflow:From C:\\Users\\glede\\Documents\\EPFL\\PhD\\SynthPop\\code\\modules\\datgan\\graph.py:271: LSTMCell.__init__ (from tensorflow.python.ops.rnn_cell_impl) is deprecated and will be removed in a future version.\n",
      "Instructions for updating:\n",
      "This class is equivalent as tf.keras.layers.LSTMCell, and will be replaced by that in Tensorflow 2.0.\n",
      "\u001b[32m[1006 17:01:27 @graph.py:288]\u001b[0m \u001b[91mCreating cell for age (in-edges: 0)\n",
      "WARNING:tensorflow:From D:\\Users\\glede\\anaconda3\\envs\\py37\\lib\\site-packages\\tensorflow_core\\python\\ops\\rnn_cell_impl.py:958: Layer.add_variable (from tensorflow.python.keras.engine.base_layer) is deprecated and will be removed in a future version.\n",
      "Instructions for updating:\n",
      "Please use `layer.add_weight` method instead.\n",
      "WARNING:tensorflow:From D:\\Users\\glede\\anaconda3\\envs\\py37\\lib\\site-packages\\tensorflow_core\\python\\ops\\rnn_cell_impl.py:962: calling Zeros.__init__ (from tensorflow.python.ops.init_ops) with dtype is deprecated and will be removed in a future version.\n",
      "Instructions for updating:\n",
      "Call initializer instance with the dtype argument instead of passing it to the constructor\n",
      "\u001b[32m[1006 17:01:27 @registry.py:126]\u001b[0m gen/LSTM/00/FC input: [500, 100]\n",
      "WARNING:tensorflow:From D:\\Users\\glede\\anaconda3\\envs\\py37\\lib\\site-packages\\tensorpack\\models\\fc.py:57: The name tf.layers.Dense is deprecated. Please use tf.compat.v1.layers.Dense instead.\n",
      "\n",
      "WARNING:tensorflow:From D:\\Users\\glede\\anaconda3\\envs\\py37\\lib\\site-packages\\tensorpack\\models\\fc.py:67: Layer.apply (from tensorflow.python.keras.engine.base_layer) is deprecated and will be removed in a future version.\n",
      "Instructions for updating:\n",
      "Please use `layer.__call__` method instead.\n",
      "\u001b[32m[1006 17:01:27 @registry.py:134]\u001b[0m gen/LSTM/00/FC output: [500, 100]\n",
      "\u001b[32m[1006 17:01:27 @registry.py:126]\u001b[0m gen/LSTM/00/FC2 input: [500, 100]\n",
      "\u001b[32m[1006 17:01:27 @registry.py:134]\u001b[0m gen/LSTM/00/FC2 output: [500, 1]\n",
      "\u001b[32m[1006 17:01:27 @registry.py:126]\u001b[0m gen/LSTM/01/FC input: [500, 100]\n",
      "\u001b[32m[1006 17:01:27 @registry.py:134]\u001b[0m gen/LSTM/01/FC output: [500, 100]\n",
      "\u001b[32m[1006 17:01:27 @registry.py:126]\u001b[0m gen/LSTM/01/FC2 input: [500, 100]\n",
      "\u001b[32m[1006 17:01:27 @registry.py:134]\u001b[0m gen/LSTM/01/FC2 output: [500, 6]\n",
      "\u001b[32m[1006 17:01:27 @registry.py:126]\u001b[0m gen/LSTM/01/FC3 input: [500, 6]\n",
      "\u001b[32m[1006 17:01:27 @registry.py:134]\u001b[0m gen/LSTM/01/FC3 output: [500, 100]\n",
      "\u001b[32m[1006 17:01:27 @graph.py:288]\u001b[0m \u001b[91mCreating cell for gender (in-edges: 0)\n",
      "\u001b[32m[1006 17:01:27 @registry.py:126]\u001b[0m gen/LSTM/02/FC input: [500, 100]\n",
      "\u001b[32m[1006 17:01:27 @registry.py:134]\u001b[0m gen/LSTM/02/FC output: [500, 100]\n",
      "\u001b[32m[1006 17:01:27 @registry.py:126]\u001b[0m gen/LSTM/02/FC2 input: [500, 100]\n",
      "\u001b[32m[1006 17:01:27 @registry.py:134]\u001b[0m gen/LSTM/02/FC2 output: [500, 2]\n",
      "\u001b[32m[1006 17:01:27 @registry.py:126]\u001b[0m gen/LSTM/02/FC3 input: [500, 2]\n",
      "\u001b[32m[1006 17:01:27 @registry.py:134]\u001b[0m gen/LSTM/02/FC3 output: [500, 100]\n",
      "\u001b[32m[1006 17:01:27 @graph.py:288]\u001b[0m \u001b[91mCreating cell for travel_dow (in-edges: 0)\n",
      "\u001b[32m[1006 17:01:27 @registry.py:126]\u001b[0m gen/LSTM/03/FC input: [500, 100]\n",
      "\u001b[32m[1006 17:01:27 @registry.py:134]\u001b[0m gen/LSTM/03/FC output: [500, 100]\n",
      "\u001b[32m[1006 17:01:27 @registry.py:126]\u001b[0m gen/LSTM/03/FC2 input: [500, 100]\n",
      "\u001b[32m[1006 17:01:27 @registry.py:134]\u001b[0m gen/LSTM/03/FC2 output: [500, 7]\n",
      "\u001b[32m[1006 17:01:27 @registry.py:126]\u001b[0m gen/LSTM/03/FC3 input: [500, 7]\n",
      "\u001b[32m[1006 17:01:27 @registry.py:134]\u001b[0m gen/LSTM/03/FC3 output: [500, 100]\n",
      "\u001b[32m[1006 17:01:27 @graph.py:288]\u001b[0m \u001b[91mCreating cell for license (in-edges: 1)\n",
      "\u001b[32m[1006 17:01:27 @registry.py:126]\u001b[0m gen/LSTM/04/FC input: [500, 100]\n",
      "\u001b[32m[1006 17:01:27 @registry.py:134]\u001b[0m gen/LSTM/04/FC output: [500, 100]\n",
      "\u001b[32m[1006 17:01:27 @registry.py:126]\u001b[0m gen/LSTM/04/FC2 input: [500, 100]\n",
      "\u001b[32m[1006 17:01:27 @registry.py:134]\u001b[0m gen/LSTM/04/FC2 output: [500, 2]\n",
      "\u001b[32m[1006 17:01:27 @registry.py:126]\u001b[0m gen/LSTM/04/FC3 input: [500, 2]\n",
      "\u001b[32m[1006 17:01:27 @registry.py:134]\u001b[0m gen/LSTM/04/FC3 output: [500, 100]\n",
      "\u001b[32m[1006 17:01:27 @graph.py:288]\u001b[0m \u001b[91mCreating cell for education_level (in-edges: 1)\n",
      "\u001b[32m[1006 17:01:27 @registry.py:126]\u001b[0m gen/LSTM/05/FC input: [500, 100]\n",
      "\u001b[32m[1006 17:01:27 @registry.py:134]\u001b[0m gen/LSTM/05/FC output: [500, 100]\n",
      "\u001b[32m[1006 17:01:27 @registry.py:126]\u001b[0m gen/LSTM/05/FC2 input: [500, 100]\n",
      "\u001b[32m[1006 17:01:27 @registry.py:134]\u001b[0m gen/LSTM/05/FC2 output: [500, 6]\n",
      "\u001b[32m[1006 17:01:27 @registry.py:126]\u001b[0m gen/LSTM/05/FC3 input: [500, 6]\n",
      "\u001b[32m[1006 17:01:27 @registry.py:134]\u001b[0m gen/LSTM/05/FC3 output: [500, 100]\n",
      "\u001b[32m[1006 17:01:27 @graph.py:288]\u001b[0m \u001b[91mCreating cell for work_status (in-edges: 2)\n",
      "\u001b[32m[1006 17:01:27 @registry.py:126]\u001b[0m gen/LSTM/06/FC_inputs input: [500, 200]\n",
      "\u001b[32m[1006 17:01:27 @registry.py:134]\u001b[0m gen/LSTM/06/FC_inputs output: [500, 100]\n",
      "\u001b[32m[1006 17:01:27 @registry.py:126]\u001b[0m gen/LSTM/06/FC_attentions input: [500, 200]\n",
      "\u001b[32m[1006 17:01:27 @registry.py:134]\u001b[0m gen/LSTM/06/FC_attentions output: [500, 100]\n",
      "\u001b[32m[1006 17:01:27 @registry.py:126]\u001b[0m gen/LSTM/06/FC_lstm_state_0 input: [500, 200]\n",
      "\u001b[32m[1006 17:01:27 @registry.py:134]\u001b[0m gen/LSTM/06/FC_lstm_state_0 output: [500, 100]\n",
      "\u001b[32m[1006 17:01:27 @registry.py:126]\u001b[0m gen/LSTM/06/FC_lstm_state_1 input: [500, 200]\n",
      "\u001b[32m[1006 17:01:27 @registry.py:134]\u001b[0m gen/LSTM/06/FC_lstm_state_1 output: [500, 100]\n",
      "WARNING:tensorflow:From C:\\Users\\glede\\Documents\\EPFL\\PhD\\SynthPop\\code\\modules\\datgan\\graph.py:384: The name tf.nn.rnn_cell.LSTMStateTuple is deprecated. Please use tf.compat.v1.nn.rnn_cell.LSTMStateTuple instead.\n",
      "\n",
      "\u001b[32m[1006 17:01:27 @registry.py:126]\u001b[0m gen/LSTM/07/FC input: [500, 100]\n",
      "\u001b[32m[1006 17:01:27 @registry.py:134]\u001b[0m gen/LSTM/07/FC output: [500, 100]\n",
      "\u001b[32m[1006 17:01:27 @registry.py:126]\u001b[0m gen/LSTM/07/FC2 input: [500, 100]\n",
      "\u001b[32m[1006 17:01:27 @registry.py:134]\u001b[0m gen/LSTM/07/FC2 output: [500, 8]\n"
     ]
    },
    {
     "name": "stdout",
     "output_type": "stream",
     "text": [
      "\u001b[32m[1006 17:01:27 @registry.py:126]\u001b[0m gen/LSTM/07/FC3 input: [500, 8]\n",
      "\u001b[32m[1006 17:01:27 @registry.py:134]\u001b[0m gen/LSTM/07/FC3 output: [500, 100]\n",
      "\u001b[32m[1006 17:01:27 @graph.py:288]\u001b[0m \u001b[91mCreating cell for hh_income (in-edges: 2)\n",
      "\u001b[32m[1006 17:01:27 @registry.py:126]\u001b[0m gen/LSTM/08/FC_inputs input: [500, 200]\n",
      "\u001b[32m[1006 17:01:27 @registry.py:134]\u001b[0m gen/LSTM/08/FC_inputs output: [500, 100]\n",
      "\u001b[32m[1006 17:01:27 @registry.py:126]\u001b[0m gen/LSTM/08/FC_attentions input: [500, 200]\n",
      "\u001b[32m[1006 17:01:27 @registry.py:134]\u001b[0m gen/LSTM/08/FC_attentions output: [500, 100]\n",
      "\u001b[32m[1006 17:01:27 @registry.py:126]\u001b[0m gen/LSTM/08/FC_lstm_state_0 input: [500, 200]\n",
      "\u001b[32m[1006 17:01:27 @registry.py:134]\u001b[0m gen/LSTM/08/FC_lstm_state_0 output: [500, 100]\n",
      "\u001b[32m[1006 17:01:27 @registry.py:126]\u001b[0m gen/LSTM/08/FC_lstm_state_1 input: [500, 200]\n",
      "\u001b[32m[1006 17:01:27 @registry.py:134]\u001b[0m gen/LSTM/08/FC_lstm_state_1 output: [500, 100]\n",
      "\u001b[32m[1006 17:01:27 @registry.py:126]\u001b[0m gen/LSTM/09/FC input: [500, 100]\n",
      "\u001b[32m[1006 17:01:27 @registry.py:134]\u001b[0m gen/LSTM/09/FC output: [500, 100]\n",
      "\u001b[32m[1006 17:01:27 @registry.py:126]\u001b[0m gen/LSTM/09/FC2 input: [500, 100]\n",
      "\u001b[32m[1006 17:01:27 @registry.py:134]\u001b[0m gen/LSTM/09/FC2 output: [500, 7]\n",
      "\u001b[32m[1006 17:01:27 @registry.py:126]\u001b[0m gen/LSTM/09/FC3 input: [500, 7]\n",
      "\u001b[32m[1006 17:01:27 @registry.py:134]\u001b[0m gen/LSTM/09/FC3 output: [500, 100]\n",
      "\u001b[32m[1006 17:01:27 @graph.py:288]\u001b[0m \u001b[91mCreating cell for trip_purpose (in-edges: 1)\n",
      "\u001b[32m[1006 17:01:27 @registry.py:126]\u001b[0m gen/LSTM/10/FC input: [500, 100]\n",
      "\u001b[32m[1006 17:01:28 @registry.py:134]\u001b[0m gen/LSTM/10/FC output: [500, 100]\n",
      "\u001b[32m[1006 17:01:28 @registry.py:126]\u001b[0m gen/LSTM/10/FC2 input: [500, 100]\n",
      "\u001b[32m[1006 17:01:28 @registry.py:134]\u001b[0m gen/LSTM/10/FC2 output: [500, 7]\n",
      "\u001b[32m[1006 17:01:28 @registry.py:126]\u001b[0m gen/LSTM/10/FC3 input: [500, 7]\n",
      "\u001b[32m[1006 17:01:28 @registry.py:134]\u001b[0m gen/LSTM/10/FC3 output: [500, 100]\n",
      "\u001b[32m[1006 17:01:28 @graph.py:288]\u001b[0m \u001b[91mCreating cell for hh_descr (in-edges: 2)\n",
      "\u001b[32m[1006 17:01:28 @registry.py:126]\u001b[0m gen/LSTM/11/FC_inputs input: [500, 200]\n",
      "\u001b[32m[1006 17:01:28 @registry.py:134]\u001b[0m gen/LSTM/11/FC_inputs output: [500, 100]\n",
      "\u001b[32m[1006 17:01:28 @registry.py:126]\u001b[0m gen/LSTM/11/FC_attentions input: [500, 200]\n",
      "\u001b[32m[1006 17:01:28 @registry.py:134]\u001b[0m gen/LSTM/11/FC_attentions output: [500, 100]\n",
      "\u001b[32m[1006 17:01:28 @registry.py:126]\u001b[0m gen/LSTM/11/FC_lstm_state_0 input: [500, 200]\n",
      "\u001b[32m[1006 17:01:28 @registry.py:134]\u001b[0m gen/LSTM/11/FC_lstm_state_0 output: [500, 100]\n",
      "\u001b[32m[1006 17:01:28 @registry.py:126]\u001b[0m gen/LSTM/11/FC_lstm_state_1 input: [500, 200]\n",
      "\u001b[32m[1006 17:01:28 @registry.py:134]\u001b[0m gen/LSTM/11/FC_lstm_state_1 output: [500, 100]\n",
      "\u001b[32m[1006 17:01:28 @registry.py:126]\u001b[0m gen/LSTM/12/FC input: [500, 100]\n",
      "\u001b[32m[1006 17:01:28 @registry.py:134]\u001b[0m gen/LSTM/12/FC output: [500, 100]\n",
      "\u001b[32m[1006 17:01:28 @registry.py:126]\u001b[0m gen/LSTM/12/FC2 input: [500, 100]\n",
      "\u001b[32m[1006 17:01:28 @registry.py:134]\u001b[0m gen/LSTM/12/FC2 output: [500, 3]\n",
      "\u001b[32m[1006 17:01:28 @registry.py:126]\u001b[0m gen/LSTM/12/FC3 input: [500, 3]\n",
      "\u001b[32m[1006 17:01:28 @registry.py:134]\u001b[0m gen/LSTM/12/FC3 output: [500, 100]\n",
      "\u001b[32m[1006 17:01:28 @graph.py:288]\u001b[0m \u001b[91mCreating cell for hh_size (in-edges: 3)\n",
      "\u001b[32m[1006 17:01:28 @registry.py:126]\u001b[0m gen/LSTM/13/FC_inputs input: [500, 300]\n",
      "\u001b[32m[1006 17:01:28 @registry.py:134]\u001b[0m gen/LSTM/13/FC_inputs output: [500, 100]\n",
      "\u001b[32m[1006 17:01:28 @registry.py:126]\u001b[0m gen/LSTM/13/FC_attentions input: [500, 300]\n",
      "\u001b[32m[1006 17:01:28 @registry.py:134]\u001b[0m gen/LSTM/13/FC_attentions output: [500, 100]\n",
      "\u001b[32m[1006 17:01:28 @registry.py:126]\u001b[0m gen/LSTM/13/FC_lstm_state_0 input: [500, 300]\n",
      "\u001b[32m[1006 17:01:28 @registry.py:134]\u001b[0m gen/LSTM/13/FC_lstm_state_0 output: [500, 100]\n",
      "\u001b[32m[1006 17:01:28 @registry.py:126]\u001b[0m gen/LSTM/13/FC_lstm_state_1 input: [500, 300]\n",
      "\u001b[32m[1006 17:01:28 @registry.py:134]\u001b[0m gen/LSTM/13/FC_lstm_state_1 output: [500, 100]\n",
      "\u001b[32m[1006 17:01:28 @registry.py:126]\u001b[0m gen/LSTM/14/FC input: [500, 100]\n",
      "\u001b[32m[1006 17:01:28 @registry.py:134]\u001b[0m gen/LSTM/14/FC output: [500, 100]\n",
      "\u001b[32m[1006 17:01:28 @registry.py:126]\u001b[0m gen/LSTM/14/FC2 input: [500, 100]\n",
      "\u001b[32m[1006 17:01:28 @registry.py:134]\u001b[0m gen/LSTM/14/FC2 output: [500, 8]\n",
      "\u001b[32m[1006 17:01:28 @registry.py:126]\u001b[0m gen/LSTM/14/FC3 input: [500, 8]\n",
      "\u001b[32m[1006 17:01:28 @registry.py:134]\u001b[0m gen/LSTM/14/FC3 output: [500, 100]\n",
      "\u001b[32m[1006 17:01:28 @graph.py:288]\u001b[0m \u001b[91mCreating cell for departure_time (in-edges: 1)\n",
      "\u001b[32m[1006 17:01:28 @registry.py:126]\u001b[0m gen/LSTM/15/FC input: [500, 100]\n",
      "\u001b[32m[1006 17:01:28 @registry.py:134]\u001b[0m gen/LSTM/15/FC output: [500, 100]\n",
      "\u001b[32m[1006 17:01:28 @registry.py:126]\u001b[0m gen/LSTM/15/FC2 input: [500, 100]\n",
      "\u001b[32m[1006 17:01:28 @registry.py:134]\u001b[0m gen/LSTM/15/FC2 output: [500, 1]\n",
      "\u001b[32m[1006 17:01:28 @registry.py:126]\u001b[0m gen/LSTM/16/FC input: [500, 100]\n",
      "\u001b[32m[1006 17:01:28 @registry.py:134]\u001b[0m gen/LSTM/16/FC output: [500, 100]\n",
      "\u001b[32m[1006 17:01:28 @registry.py:126]\u001b[0m gen/LSTM/16/FC2 input: [500, 100]\n",
      "\u001b[32m[1006 17:01:28 @registry.py:134]\u001b[0m gen/LSTM/16/FC2 output: [500, 8]\n",
      "\u001b[32m[1006 17:01:28 @registry.py:126]\u001b[0m gen/LSTM/16/FC3 input: [500, 8]\n",
      "\u001b[32m[1006 17:01:28 @registry.py:134]\u001b[0m gen/LSTM/16/FC3 output: [500, 100]\n",
      "\u001b[32m[1006 17:01:28 @graph.py:288]\u001b[0m \u001b[91mCreating cell for distance (in-edges: 1)\n",
      "\u001b[32m[1006 17:01:28 @registry.py:126]\u001b[0m gen/LSTM/17/FC input: [500, 100]\n",
      "\u001b[32m[1006 17:01:28 @registry.py:134]\u001b[0m gen/LSTM/17/FC output: [500, 100]\n",
      "\u001b[32m[1006 17:01:28 @registry.py:126]\u001b[0m gen/LSTM/17/FC2 input: [500, 100]\n",
      "\u001b[32m[1006 17:01:28 @registry.py:134]\u001b[0m gen/LSTM/17/FC2 output: [500, 1]\n",
      "\u001b[32m[1006 17:01:28 @registry.py:126]\u001b[0m gen/LSTM/18/FC input: [500, 100]\n",
      "\u001b[32m[1006 17:01:28 @registry.py:134]\u001b[0m gen/LSTM/18/FC output: [500, 100]\n",
      "\u001b[32m[1006 17:01:28 @registry.py:126]\u001b[0m gen/LSTM/18/FC2 input: [500, 100]\n",
      "\u001b[32m[1006 17:01:28 @registry.py:134]\u001b[0m gen/LSTM/18/FC2 output: [500, 10]\n",
      "\u001b[32m[1006 17:01:28 @registry.py:126]\u001b[0m gen/LSTM/18/FC3 input: [500, 10]\n",
      "\u001b[32m[1006 17:01:28 @registry.py:134]\u001b[0m gen/LSTM/18/FC3 output: [500, 100]\n",
      "\u001b[32m[1006 17:01:28 @graph.py:288]\u001b[0m \u001b[91mCreating cell for hh_vehicles (in-edges: 2)\n",
      "\u001b[32m[1006 17:01:28 @registry.py:126]\u001b[0m gen/LSTM/19/FC_inputs input: [500, 200]\n",
      "\u001b[32m[1006 17:01:28 @registry.py:134]\u001b[0m gen/LSTM/19/FC_inputs output: [500, 100]\n",
      "\u001b[32m[1006 17:01:28 @registry.py:126]\u001b[0m gen/LSTM/19/FC_attentions input: [500, 200]\n",
      "\u001b[32m[1006 17:01:28 @registry.py:134]\u001b[0m gen/LSTM/19/FC_attentions output: [500, 100]\n",
      "\u001b[32m[1006 17:01:28 @registry.py:126]\u001b[0m gen/LSTM/19/FC_lstm_state_0 input: [500, 200]\n",
      "\u001b[32m[1006 17:01:28 @registry.py:134]\u001b[0m gen/LSTM/19/FC_lstm_state_0 output: [500, 100]\n",
      "\u001b[32m[1006 17:01:28 @registry.py:126]\u001b[0m gen/LSTM/19/FC_lstm_state_1 input: [500, 200]\n",
      "\u001b[32m[1006 17:01:28 @registry.py:134]\u001b[0m gen/LSTM/19/FC_lstm_state_1 output: [500, 100]\n",
      "\u001b[32m[1006 17:01:28 @registry.py:126]\u001b[0m gen/LSTM/20/FC input: [500, 100]\n",
      "\u001b[32m[1006 17:01:28 @registry.py:134]\u001b[0m gen/LSTM/20/FC output: [500, 100]\n",
      "\u001b[32m[1006 17:01:28 @registry.py:126]\u001b[0m gen/LSTM/20/FC2 input: [500, 100]\n",
      "\u001b[32m[1006 17:01:28 @registry.py:134]\u001b[0m gen/LSTM/20/FC2 output: [500, 9]\n",
      "\u001b[32m[1006 17:01:28 @registry.py:126]\u001b[0m gen/LSTM/20/FC3 input: [500, 9]\n",
      "\u001b[32m[1006 17:01:28 @registry.py:134]\u001b[0m gen/LSTM/20/FC3 output: [500, 100]\n",
      "\u001b[32m[1006 17:01:28 @graph.py:288]\u001b[0m \u001b[91mCreating cell for hh_bikes (in-edges: 2)\n",
      "\u001b[32m[1006 17:01:28 @registry.py:126]\u001b[0m gen/LSTM/21/FC_inputs input: [500, 200]\n",
      "\u001b[32m[1006 17:01:28 @registry.py:134]\u001b[0m gen/LSTM/21/FC_inputs output: [500, 100]\n",
      "\u001b[32m[1006 17:01:28 @registry.py:126]\u001b[0m gen/LSTM/21/FC_attentions input: [500, 200]\n",
      "\u001b[32m[1006 17:01:28 @registry.py:134]\u001b[0m gen/LSTM/21/FC_attentions output: [500, 100]\n",
      "\u001b[32m[1006 17:01:28 @registry.py:126]\u001b[0m gen/LSTM/21/FC_lstm_state_0 input: [500, 200]\n",
      "\u001b[32m[1006 17:01:28 @registry.py:134]\u001b[0m gen/LSTM/21/FC_lstm_state_0 output: [500, 100]\n",
      "\u001b[32m[1006 17:01:28 @registry.py:126]\u001b[0m gen/LSTM/21/FC_lstm_state_1 input: [500, 200]\n",
      "\u001b[32m[1006 17:01:28 @registry.py:134]\u001b[0m gen/LSTM/21/FC_lstm_state_1 output: [500, 100]\n",
      "\u001b[32m[1006 17:01:28 @registry.py:126]\u001b[0m gen/LSTM/22/FC input: [500, 100]\n",
      "\u001b[32m[1006 17:01:28 @registry.py:134]\u001b[0m gen/LSTM/22/FC output: [500, 100]\n"
     ]
    },
    {
     "name": "stdout",
     "output_type": "stream",
     "text": [
      "\u001b[32m[1006 17:01:28 @registry.py:126]\u001b[0m gen/LSTM/22/FC2 input: [500, 100]\n",
      "\u001b[32m[1006 17:01:28 @registry.py:134]\u001b[0m gen/LSTM/22/FC2 output: [500, 8]\n",
      "\u001b[32m[1006 17:01:28 @registry.py:126]\u001b[0m gen/LSTM/22/FC3 input: [500, 8]\n",
      "\u001b[32m[1006 17:01:28 @registry.py:134]\u001b[0m gen/LSTM/22/FC3 output: [500, 100]\n",
      "\u001b[32m[1006 17:01:28 @graph.py:288]\u001b[0m \u001b[91mCreating cell for choice (in-edges: 7)\n",
      "\u001b[32m[1006 17:01:28 @registry.py:126]\u001b[0m gen/LSTM/23/FC_inputs input: [500, 700]\n",
      "\u001b[32m[1006 17:01:28 @registry.py:134]\u001b[0m gen/LSTM/23/FC_inputs output: [500, 100]\n",
      "\u001b[32m[1006 17:01:28 @registry.py:126]\u001b[0m gen/LSTM/23/FC_attentions input: [500, 700]\n",
      "\u001b[32m[1006 17:01:28 @registry.py:134]\u001b[0m gen/LSTM/23/FC_attentions output: [500, 100]\n",
      "\u001b[32m[1006 17:01:28 @registry.py:126]\u001b[0m gen/LSTM/23/FC_lstm_state_0 input: [500, 700]\n",
      "\u001b[32m[1006 17:01:28 @registry.py:134]\u001b[0m gen/LSTM/23/FC_lstm_state_0 output: [500, 100]\n",
      "\u001b[32m[1006 17:01:28 @registry.py:126]\u001b[0m gen/LSTM/23/FC_lstm_state_1 input: [500, 700]\n",
      "\u001b[32m[1006 17:01:28 @registry.py:134]\u001b[0m gen/LSTM/23/FC_lstm_state_1 output: [500, 100]\n",
      "\u001b[32m[1006 17:01:28 @registry.py:126]\u001b[0m gen/LSTM/24/FC input: [500, 100]\n",
      "\u001b[32m[1006 17:01:28 @registry.py:134]\u001b[0m gen/LSTM/24/FC output: [500, 100]\n",
      "\u001b[32m[1006 17:01:28 @registry.py:126]\u001b[0m gen/LSTM/24/FC2 input: [500, 100]\n",
      "\u001b[32m[1006 17:01:28 @registry.py:134]\u001b[0m gen/LSTM/24/FC2 output: [500, 5]\n",
      "\u001b[32m[1006 17:01:28 @registry.py:126]\u001b[0m gen/LSTM/24/FC3 input: [500, 5]\n",
      "\u001b[32m[1006 17:01:28 @registry.py:134]\u001b[0m gen/LSTM/24/FC3 output: [500, 100]\n",
      "WARNING:tensorflow:From C:\\Users\\glede\\Documents\\EPFL\\PhD\\SynthPop\\code\\modules\\datgan\\graph.py:690: The name tf.random_uniform is deprecated. Please use tf.random.uniform instead.\n",
      "\n",
      "WARNING:tensorflow:From C:\\Users\\glede\\Documents\\EPFL\\PhD\\SynthPop\\code\\modules\\datgan\\graph.py:606: The name tf.log is deprecated. Please use tf.math.log instead.\n",
      "\n",
      "\u001b[32m[1006 17:01:28 @registry.py:126]\u001b[0m discrim/dis_fc0/fc input: [500, 99]\n",
      "\u001b[32m[1006 17:01:28 @registry.py:134]\u001b[0m discrim/dis_fc0/fc output: [500, 100]\n",
      "\u001b[32m[1006 17:01:28 @registry.py:126]\u001b[0m discrim/dis_fc0/fc_diversity input: [500, 100]\n",
      "\u001b[32m[1006 17:01:28 @registry.py:134]\u001b[0m discrim/dis_fc0/fc_diversity output: [500, 100]\n",
      "WARNING:tensorflow:From D:\\Users\\glede\\anaconda3\\envs\\py37\\lib\\site-packages\\tensorpack\\models\\batch_norm.py:204: The name tf.layers.BatchNormalization is deprecated. Please use tf.compat.v1.layers.BatchNormalization instead.\n",
      "\n",
      "WARNING:tensorflow:From D:\\Users\\glede\\anaconda3\\envs\\py37\\lib\\site-packages\\tensorpack\\models\\batch_norm.py:212: The name tf.add_to_collection is deprecated. Please use tf.compat.v1.add_to_collection instead.\n",
      "\n",
      "\u001b[32m[1006 17:01:28 @registry.py:126]\u001b[0m discrim/dis_fc_top input: [500, 110]\n",
      "\u001b[32m[1006 17:01:28 @registry.py:134]\u001b[0m discrim/dis_fc_top output: [500, 1]\n",
      "WARNING:tensorflow:From C:\\Users\\glede\\Documents\\EPFL\\PhD\\SynthPop\\code\\modules\\datgan\\graph.py:101: The name tf.summary.histogram is deprecated. Please use tf.compat.v1.summary.histogram instead.\n",
      "\n",
      "WARNING:tensorflow:From D:\\Users\\glede\\anaconda3\\envs\\py37\\lib\\site-packages\\tensorflow_core\\python\\ops\\nn_impl.py:183: where (from tensorflow.python.ops.array_ops) is deprecated and will be removed in a future version.\n",
      "Instructions for updating:\n",
      "Use tf.where in 2.0, which has the same broadcast rule as np.where\n",
      "WARNING:tensorflow:\n",
      "The TensorFlow contrib module will not be included in TensorFlow 2.0.\n",
      "For more information, please see:\n",
      "  * https://github.com/tensorflow/community/blob/master/rfcs/20180907-contrib-sunset.md\n",
      "  * https://github.com/tensorflow/addons\n",
      "  * https://github.com/tensorflow/io (for I/O related ops)\n",
      "If you depend on functionality not listed there, please file an issue.\n",
      "\n",
      "WARNING:tensorflow:From C:\\Users\\glede\\Documents\\EPFL\\PhD\\SynthPop\\code\\modules\\datgan\\graph.py:749: The name tf.train.AdamOptimizer is deprecated. Please use tf.compat.v1.train.AdamOptimizer instead.\n",
      "\n",
      "\u001b[32m[1006 17:01:32 @logger.py:90]\u001b[0m Argv: D:\\Users\\glede\\anaconda3\\envs\\py37\\lib\\site-packages\\ipykernel_launcher.py -f C:\\Users\\glede\\AppData\\Roaming\\jupyter\\runtime\\kernel-2fefcb19-3686-41a7-ae30-e12f6558963a.json\n",
      "WARNING:tensorflow:From D:\\Users\\glede\\anaconda3\\envs\\py37\\lib\\site-packages\\tensorpack\\callbacks\\saver.py:43: The name tf.gfile.IsDirectory is deprecated. Please use tf.io.gfile.isdir instead.\n",
      "\n",
      "WARNING:tensorflow:From D:\\Users\\glede\\anaconda3\\envs\\py37\\lib\\site-packages\\tensorpack\\callbacks\\saver.py:44: The name tf.gfile.MakeDirs is deprecated. Please use tf.io.gfile.makedirs instead.\n",
      "\n",
      "WARNING:tensorflow:From D:\\Users\\glede\\anaconda3\\envs\\py37\\lib\\site-packages\\tensorpack\\tfutils\\common.py:41: The name tf.ConfigProto is deprecated. Please use tf.compat.v1.ConfigProto instead.\n",
      "\n",
      "\u001b[32m[1006 17:01:32 @model_utils.py:67]\u001b[0m \u001b[36mList of Trainable Variables: \n",
      "\u001b[0mname                              shape         #elements\n",
      "--------------------------------  ----------  -----------\n",
      "gen/LSTM/go_age:0                 [1, 100]            100\n",
      "gen/LSTM/lstm_cell/kernel:0       [500, 400]       200000\n",
      "gen/LSTM/lstm_cell/bias:0         [400]               400\n",
      "gen/LSTM/00/FC/W:0                [100, 100]        10000\n",
      "gen/LSTM/00/FC/b:0                [100]               100\n",
      "gen/LSTM/00/FC2/W:0               [100, 1]            100\n",
      "gen/LSTM/00/FC2/b:0               [1]                   1\n",
      "gen/LSTM/00/attw:0                [1, 1, 1]             1\n",
      "gen/LSTM/01/FC/W:0                [100, 100]        10000\n",
      "gen/LSTM/01/FC/b:0                [100]               100\n",
      "gen/LSTM/01/FC2/W:0               [100, 6]            600\n",
      "gen/LSTM/01/FC2/b:0               [6]                   6\n",
      "gen/LSTM/01/FC3/W:0               [6, 100]            600\n",
      "gen/LSTM/01/FC3/b:0               [100]               100\n",
      "gen/LSTM/01/attw:0                [2, 1, 1]             2\n",
      "gen/LSTM/go_gender:0              [1, 100]            100\n",
      "gen/LSTM/02/FC/W:0                [100, 100]        10000\n",
      "gen/LSTM/02/FC/b:0                [100]               100\n",
      "gen/LSTM/02/FC2/W:0               [100, 2]            200\n",
      "gen/LSTM/02/FC2/b:0               [2]                   2\n",
      "gen/LSTM/02/FC3/W:0               [2, 100]            200\n",
      "gen/LSTM/02/FC3/b:0               [100]               100\n",
      "gen/LSTM/02/attw:0                [1, 1, 1]             1\n",
      "gen/LSTM/go_travel_dow:0          [1, 100]            100\n",
      "gen/LSTM/03/FC/W:0                [100, 100]        10000\n",
      "gen/LSTM/03/FC/b:0                [100]               100\n",
      "gen/LSTM/03/FC2/W:0               [100, 7]            700\n",
      "gen/LSTM/03/FC2/b:0               [7]                   7\n",
      "gen/LSTM/03/FC3/W:0               [7, 100]            700\n",
      "gen/LSTM/03/FC3/b:0               [100]               100\n",
      "gen/LSTM/03/attw:0                [1, 1, 1]             1\n",
      "gen/LSTM/04/FC/W:0                [100, 100]        10000\n",
      "gen/LSTM/04/FC/b:0                [100]               100\n",
      "gen/LSTM/04/FC2/W:0               [100, 2]            200\n",
      "gen/LSTM/04/FC2/b:0               [2]                   2\n",
      "gen/LSTM/04/FC3/W:0               [2, 100]            200\n",
      "gen/LSTM/04/FC3/b:0               [100]               100\n",
      "gen/LSTM/04/attw:0                [3, 1, 1]             3\n",
      "gen/LSTM/05/FC/W:0                [100, 100]        10000\n",
      "gen/LSTM/05/FC/b:0                [100]               100\n",
      "gen/LSTM/05/FC2/W:0               [100, 6]            600\n",
      "gen/LSTM/05/FC2/b:0               [6]                   6\n",
      "gen/LSTM/05/FC3/W:0               [6, 100]            600\n",
      "gen/LSTM/05/FC3/b:0               [100]               100\n",
      "gen/LSTM/05/attw:0                [3, 1, 1]             3\n",
      "gen/LSTM/06/FC_inputs/W:0         [200, 100]        20000\n",
      "gen/LSTM/06/FC_inputs/b:0         [100]               100\n",
      "gen/LSTM/06/FC_attentions/W:0     [200, 100]        20000\n",
      "gen/LSTM/06/FC_attentions/b:0     [100]               100\n",
      "gen/LSTM/06/FC_lstm_state_0/W:0   [200, 100]        20000\n",
      "gen/LSTM/06/FC_lstm_state_0/b:0   [100]               100\n",
      "gen/LSTM/06/FC_lstm_state_1/W:0   [200, 100]        20000\n",
      "gen/LSTM/06/FC_lstm_state_1/b:0   [100]               100\n",
      "gen/LSTM/07/FC/W:0                [100, 100]        10000\n",
      "gen/LSTM/07/FC/b:0                [100]               100\n",
      "gen/LSTM/07/FC2/W:0               [100, 8]            800\n",
      "gen/LSTM/07/FC2/b:0               [8]                   8\n",
      "gen/LSTM/07/FC3/W:0               [8, 100]            800\n",
      "gen/LSTM/07/FC3/b:0               [100]               100\n",
      "gen/LSTM/07/attw:0                [5, 1, 1]             5\n",
      "gen/LSTM/08/FC_inputs/W:0         [200, 100]        20000\n",
      "gen/LSTM/08/FC_inputs/b:0         [100]               100\n",
      "gen/LSTM/08/FC_attentions/W:0     [200, 100]        20000\n",
      "gen/LSTM/08/FC_attentions/b:0     [100]               100\n",
      "gen/LSTM/08/FC_lstm_state_0/W:0   [200, 100]        20000\n",
      "gen/LSTM/08/FC_lstm_state_0/b:0   [100]               100\n",
      "gen/LSTM/08/FC_lstm_state_1/W:0   [200, 100]        20000\n",
      "gen/LSTM/08/FC_lstm_state_1/b:0   [100]               100\n",
      "gen/LSTM/09/FC/W:0                [100, 100]        10000\n",
      "gen/LSTM/09/FC/b:0                [100]               100\n",
      "gen/LSTM/09/FC2/W:0               [100, 7]            700\n",
      "gen/LSTM/09/FC2/b:0               [7]                   7\n",
      "gen/LSTM/09/FC3/W:0               [7, 100]            700\n",
      "gen/LSTM/09/FC3/b:0               [100]               100\n",
      "gen/LSTM/09/attw:0                [6, 1, 1]             6\n",
      "gen/LSTM/10/FC/W:0                [100, 100]        10000\n",
      "gen/LSTM/10/FC/b:0                [100]               100\n",
      "gen/LSTM/10/FC2/W:0               [100, 7]            700\n",
      "gen/LSTM/10/FC2/b:0               [7]                   7\n",
      "gen/LSTM/10/FC3/W:0               [7, 100]            700\n",
      "gen/LSTM/10/FC3/b:0               [100]               100\n",
      "gen/LSTM/10/attw:0                [6, 1, 1]             6\n",
      "gen/LSTM/11/FC_inputs/W:0         [200, 100]        20000\n",
      "gen/LSTM/11/FC_inputs/b:0         [100]               100\n",
      "gen/LSTM/11/FC_attentions/W:0     [200, 100]        20000\n",
      "gen/LSTM/11/FC_attentions/b:0     [100]               100\n",
      "gen/LSTM/11/FC_lstm_state_0/W:0   [200, 100]        20000\n",
      "gen/LSTM/11/FC_lstm_state_0/b:0   [100]               100\n",
      "gen/LSTM/11/FC_lstm_state_1/W:0   [200, 100]        20000\n",
      "gen/LSTM/11/FC_lstm_state_1/b:0   [100]               100\n",
      "gen/LSTM/12/FC/W:0                [100, 100]        10000\n",
      "gen/LSTM/12/FC/b:0                [100]               100\n",
      "gen/LSTM/12/FC2/W:0               [100, 3]            300\n",
      "gen/LSTM/12/FC2/b:0               [3]                   3\n",
      "gen/LSTM/12/FC3/W:0               [3, 100]            300\n",
      "gen/LSTM/12/FC3/b:0               [100]               100\n",
      "gen/LSTM/12/attw:0                [7, 1, 1]             7\n",
      "gen/LSTM/13/FC_inputs/W:0         [300, 100]        30000\n",
      "gen/LSTM/13/FC_inputs/b:0         [100]               100\n",
      "gen/LSTM/13/FC_attentions/W:0     [300, 100]        30000\n",
      "gen/LSTM/13/FC_attentions/b:0     [100]               100\n",
      "gen/LSTM/13/FC_lstm_state_0/W:0   [300, 100]        30000\n",
      "gen/LSTM/13/FC_lstm_state_0/b:0   [100]               100\n",
      "gen/LSTM/13/FC_lstm_state_1/W:0   [300, 100]        30000\n",
      "gen/LSTM/13/FC_lstm_state_1/b:0   [100]               100\n",
      "gen/LSTM/14/FC/W:0                [100, 100]        10000\n",
      "gen/LSTM/14/FC/b:0                [100]               100\n",
      "gen/LSTM/14/FC2/W:0               [100, 8]            800\n",
      "gen/LSTM/14/FC2/b:0               [8]                   8\n",
      "gen/LSTM/14/FC3/W:0               [8, 100]            800\n",
      "gen/LSTM/14/FC3/b:0               [100]               100\n",
      "gen/LSTM/14/attw:0                [7, 1, 1]             7\n",
      "gen/LSTM/15/FC/W:0                [100, 100]        10000\n",
      "gen/LSTM/15/FC/b:0                [100]               100\n",
      "gen/LSTM/15/FC2/W:0               [100, 1]            100\n",
      "gen/LSTM/15/FC2/b:0               [1]                   1\n",
      "gen/LSTM/15/attw:0                [7, 1, 1]             7\n",
      "gen/LSTM/16/FC/W:0                [100, 100]        10000\n",
      "gen/LSTM/16/FC/b:0                [100]               100\n",
      "gen/LSTM/16/FC2/W:0               [100, 8]            800\n",
      "gen/LSTM/16/FC2/b:0               [8]                   8\n",
      "gen/LSTM/16/FC3/W:0               [8, 100]            800\n",
      "gen/LSTM/16/FC3/b:0               [100]               100\n",
      "gen/LSTM/16/attw:0                [8, 1, 1]             8\n",
      "gen/LSTM/17/FC/W:0                [100, 100]        10000\n",
      "gen/LSTM/17/FC/b:0                [100]               100\n",
      "gen/LSTM/17/FC2/W:0               [100, 1]            100\n",
      "gen/LSTM/17/FC2/b:0               [1]                   1\n",
      "gen/LSTM/17/attw:0                [7, 1, 1]             7\n",
      "gen/LSTM/18/FC/W:0                [100, 100]        10000\n",
      "gen/LSTM/18/FC/b:0                [100]               100\n",
      "gen/LSTM/18/FC2/W:0               [100, 10]          1000\n",
      "gen/LSTM/18/FC2/b:0               [10]                 10\n",
      "gen/LSTM/18/FC3/W:0               [10, 100]          1000\n",
      "gen/LSTM/18/FC3/b:0               [100]               100\n",
      "gen/LSTM/18/attw:0                [8, 1, 1]             8\n",
      "gen/LSTM/19/FC_inputs/W:0         [200, 100]        20000\n",
      "gen/LSTM/19/FC_inputs/b:0         [100]               100\n",
      "gen/LSTM/19/FC_attentions/W:0     [200, 100]        20000\n",
      "gen/LSTM/19/FC_attentions/b:0     [100]               100\n",
      "gen/LSTM/19/FC_lstm_state_0/W:0   [200, 100]        20000\n",
      "gen/LSTM/19/FC_lstm_state_0/b:0   [100]               100\n",
      "gen/LSTM/19/FC_lstm_state_1/W:0   [200, 100]        20000\n",
      "gen/LSTM/19/FC_lstm_state_1/b:0   [100]               100\n",
      "gen/LSTM/20/FC/W:0                [100, 100]        10000\n",
      "gen/LSTM/20/FC/b:0                [100]               100\n",
      "gen/LSTM/20/FC2/W:0               [100, 9]            900\n",
      "gen/LSTM/20/FC2/b:0               [9]                   9\n",
      "gen/LSTM/20/FC3/W:0               [9, 100]            900\n",
      "gen/LSTM/20/FC3/b:0               [100]               100\n",
      "gen/LSTM/20/attw:0                [8, 1, 1]             8\n",
      "gen/LSTM/21/FC_inputs/W:0         [200, 100]        20000\n",
      "gen/LSTM/21/FC_inputs/b:0         [100]               100\n",
      "gen/LSTM/21/FC_attentions/W:0     [200, 100]        20000\n",
      "gen/LSTM/21/FC_attentions/b:0     [100]               100\n",
      "gen/LSTM/21/FC_lstm_state_0/W:0   [200, 100]        20000\n",
      "gen/LSTM/21/FC_lstm_state_0/b:0   [100]               100\n",
      "gen/LSTM/21/FC_lstm_state_1/W:0   [200, 100]        20000\n",
      "gen/LSTM/21/FC_lstm_state_1/b:0   [100]               100\n",
      "gen/LSTM/22/FC/W:0                [100, 100]        10000\n",
      "gen/LSTM/22/FC/b:0                [100]               100\n",
      "gen/LSTM/22/FC2/W:0               [100, 8]            800\n",
      "gen/LSTM/22/FC2/b:0               [8]                   8\n",
      "gen/LSTM/22/FC3/W:0               [8, 100]            800\n",
      "gen/LSTM/22/FC3/b:0               [100]               100\n",
      "gen/LSTM/22/attw:0                [8, 1, 1]             8\n",
      "gen/LSTM/23/FC_inputs/W:0         [700, 100]        70000\n",
      "gen/LSTM/23/FC_inputs/b:0         [100]               100\n",
      "gen/LSTM/23/FC_attentions/W:0     [700, 100]        70000\n",
      "gen/LSTM/23/FC_attentions/b:0     [100]               100\n",
      "gen/LSTM/23/FC_lstm_state_0/W:0   [700, 100]        70000\n",
      "gen/LSTM/23/FC_lstm_state_0/b:0   [100]               100\n",
      "gen/LSTM/23/FC_lstm_state_1/W:0   [700, 100]        70000\n",
      "gen/LSTM/23/FC_lstm_state_1/b:0   [100]               100\n",
      "gen/LSTM/24/FC/W:0                [100, 100]        10000\n",
      "gen/LSTM/24/FC/b:0                [100]               100\n",
      "gen/LSTM/24/FC2/W:0               [100, 5]            500\n",
      "gen/LSTM/24/FC2/b:0               [5]                   5\n",
      "gen/LSTM/24/FC3/W:0               [5, 100]            500\n",
      "gen/LSTM/24/FC3/b:0               [100]               100\n",
      "gen/LSTM/24/attw:0                [17, 1, 1]           17\n",
      "discrim/dis_fc0/fc/W:0            [99, 100]          9900\n",
      "discrim/dis_fc0/fc/b:0            [100]               100\n",
      "discrim/dis_fc0/fc_diversity/W:0  [100, 100]        10000\n",
      "discrim/dis_fc0/fc_diversity/b:0  [100]               100\n",
      "discrim/dis_fc0/bn/beta:0         [110]               110\n",
      "discrim/dis_fc_top/W:0            [110, 1]            110\n",
      "discrim/dis_fc_top/b:0            [1]                   1\u001b[36m\n",
      "Number of trainable variables: 188\n",
      "Number of parameters (elements): 1226825\n",
      "Storage space needed for all trainable variables: 4.68MB\u001b[0m\n"
     ]
    },
    {
     "name": "stdout",
     "output_type": "stream",
     "text": [
      "\u001b[32m[1006 17:01:32 @base.py:209]\u001b[0m Setup callbacks graph ...\n",
      "WARNING:tensorflow:From D:\\Users\\glede\\anaconda3\\envs\\py37\\lib\\site-packages\\tensorpack\\callbacks\\graph.py:54: The name tf.train.SessionRunArgs is deprecated. Please use tf.estimator.SessionRunArgs instead.\n",
      "\n",
      "WARNING:tensorflow:From D:\\Users\\glede\\anaconda3\\envs\\py37\\lib\\site-packages\\tensorpack\\tfutils\\common.py:75: The name tf.VariableScope is deprecated. Please use tf.compat.v1.VariableScope instead.\n",
      "\n",
      "WARNING:tensorflow:From D:\\Users\\glede\\anaconda3\\envs\\py37\\lib\\site-packages\\tensorpack\\tfutils\\common.py:77: The name tf.train.get_or_create_global_step is deprecated. Please use tf.compat.v1.train.get_or_create_global_step instead.\n",
      "\n",
      "WARNING:tensorflow:From D:\\Users\\glede\\anaconda3\\envs\\py37\\lib\\site-packages\\tensorpack\\callbacks\\steps.py:117: The name tf.assign_add is deprecated. Please use tf.compat.v1.assign_add instead.\n",
      "\n",
      "WARNING:tensorflow:From D:\\Users\\glede\\anaconda3\\envs\\py37\\lib\\site-packages\\tensorpack\\callbacks\\saver.py:55: The name tf.train.Saver is deprecated. Please use tf.compat.v1.train.Saver instead.\n",
      "\n",
      "WARNING:tensorflow:From D:\\Users\\glede\\anaconda3\\envs\\py37\\lib\\site-packages\\tensorpack\\callbacks\\saver.py:59: The name tf.train.SaverDef is deprecated. Please use tf.compat.v1.train.SaverDef instead.\n",
      "\n",
      "\u001b[32m[1006 17:01:33 @summary.py:46]\u001b[0m [MovingAverageSummary] 6 operations in collection 'MOVING_SUMMARY_OPS' will be run with session hooks.\n",
      "\u001b[32m[1006 17:01:33 @summary.py:93]\u001b[0m Summarizing collection 'summaries' of size 9.\n",
      "WARNING:tensorflow:From D:\\Users\\glede\\anaconda3\\envs\\py37\\lib\\site-packages\\tensorpack\\callbacks\\summary.py:94: The name tf.summary.merge_all is deprecated. Please use tf.compat.v1.summary.merge_all instead.\n",
      "\n",
      "\u001b[32m[1006 17:01:33 @graph.py:98]\u001b[0m Applying collection UPDATE_OPS of 4 ops.\n",
      "WARNING:tensorflow:From D:\\Users\\glede\\anaconda3\\envs\\py37\\lib\\site-packages\\tensorpack\\callbacks\\monitor.py:261: The name tf.summary.FileWriter is deprecated. Please use tf.compat.v1.summary.FileWriter instead.\n",
      "\n",
      "\u001b[32m[1006 17:01:34 @base.py:230]\u001b[0m Creating the session ...\n",
      "WARNING:tensorflow:From D:\\Users\\glede\\anaconda3\\envs\\py37\\lib\\site-packages\\tensorpack\\tfutils\\sesscreate.py:42: The name tf.Session is deprecated. Please use tf.compat.v1.Session instead.\n",
      "\n",
      "WARNING:tensorflow:From D:\\Users\\glede\\anaconda3\\envs\\py37\\lib\\site-packages\\tensorpack\\tfutils\\sesscreate.py:71: The name tf.global_variables_initializer is deprecated. Please use tf.compat.v1.global_variables_initializer instead.\n",
      "\n",
      "WARNING:tensorflow:From D:\\Users\\glede\\anaconda3\\envs\\py37\\lib\\site-packages\\tensorpack\\tfutils\\sesscreate.py:62: get_backward_walk_ops (from tensorflow.contrib.graph_editor.select) is deprecated and will be removed after 2019-06-06.\n",
      "Instructions for updating:\n",
      "Please use tensorflow.python.ops.op_selector.get_backward_walk_ops.\n",
      "WARNING:tensorflow:From D:\\Users\\glede\\anaconda3\\envs\\py37\\lib\\site-packages\\tensorpack\\tfutils\\sesscreate.py:72: The name tf.local_variables_initializer is deprecated. Please use tf.compat.v1.local_variables_initializer instead.\n",
      "\n",
      "WARNING:tensorflow:From D:\\Users\\glede\\anaconda3\\envs\\py37\\lib\\site-packages\\tensorpack\\tfutils\\sesscreate.py:73: The name tf.tables_initializer is deprecated. Please use tf.compat.v1.tables_initializer instead.\n",
      "\n",
      "WARNING:tensorflow:From D:\\Users\\glede\\anaconda3\\envs\\py37\\lib\\site-packages\\tensorpack\\train\\base.py:254: The name tf.train.MonitoredSession is deprecated. Please use tf.compat.v1.train.MonitoredSession instead.\n",
      "\n",
      "\u001b[32m[1006 17:01:35 @base.py:236]\u001b[0m Initializing the session ...\n",
      "\u001b[32m[1006 17:01:35 @base.py:243]\u001b[0m Graph Finalized.\n",
      "WARNING:tensorflow:From D:\\Users\\glede\\anaconda3\\envs\\py37\\lib\\site-packages\\tensorpack\\tfutils\\common.py:89: The name tf.train.global_step is deprecated. Please use tf.compat.v1.train.global_step instead.\n",
      "\n",
      "WARNING:tensorflow:From D:\\Users\\glede\\anaconda3\\envs\\py37\\lib\\site-packages\\tensorpack\\tfutils\\common.py:90: The name tf.get_default_session is deprecated. Please use tf.compat.v1.get_default_session instead.\n",
      "\n",
      "\u001b[32m[1006 17:01:36 @concurrency.py:38]\u001b[0m Starting EnqueueThread QueueInput/input_queue ...\n",
      "WARNING:tensorflow:From D:\\Users\\glede\\anaconda3\\envs\\py37\\lib\\site-packages\\tensorpack\\callbacks\\monitor.py:309: The name tf.gfile.Exists is deprecated. Please use tf.io.gfile.exists instead.\n",
      "\n",
      "\u001b[32m[1006 17:01:36 @base.py:275]\u001b[0m Start Epoch 1 ...\n"
     ]
    },
    {
     "name": "stderr",
     "output_type": "stream",
     "text": [
      " 92%|############################################################################3      |161/175[00:07<00:00,28.84it/s]"
     ]
    },
    {
     "name": "stdout",
     "output_type": "stream",
     "text": [
      "WARNING:tensorflow:From D:\\Users\\glede\\anaconda3\\envs\\py37\\lib\\site-packages\\tensorpack\\callbacks\\monitor.py:148: The name tf.Summary is deprecated. Please use tf.compat.v1.Summary instead.\n",
      "\n"
     ]
    },
    {
     "name": "stderr",
     "output_type": "stream",
     "text": [
      "\r",
      "100%|###################################################################################|175/175[00:10<00:00,17.28it/s]"
     ]
    },
    {
     "name": "stdout",
     "output_type": "stream",
     "text": [
      "\u001b[32m[1006 17:01:46 @base.py:285]\u001b[0m Epoch 1 (global_step 175) finished, time:10.1 seconds.\n",
      "WARNING:tensorflow:From D:\\Users\\glede\\anaconda3\\envs\\py37\\lib\\site-packages\\tensorpack\\callbacks\\saver.py:77: The name tf.train.get_global_step is deprecated. Please use tf.compat.v1.train.get_global_step instead.\n",
      "\n"
     ]
    },
    {
     "name": "stderr",
     "output_type": "stream",
     "text": [
      "\n"
     ]
    },
    {
     "name": "stdout",
     "output_type": "stream",
     "text": [
      "\u001b[32m[1006 17:01:47 @saver.py:79]\u001b[0m Model saved to ../output/Chicago/DATGAN_TEST2/model\\model-175.\n",
      "\u001b[32m[1006 17:01:47 @monitor.py:467]\u001b[0m GAN_loss/discrim/accuracy_fake: 0.786\n",
      "\u001b[32m[1006 17:01:47 @monitor.py:467]\u001b[0m GAN_loss/discrim/accuracy_real: 0.266\n",
      "\u001b[32m[1006 17:01:47 @monitor.py:467]\u001b[0m GAN_loss/discrim/loss: 0.65862\n",
      "\u001b[32m[1006 17:01:47 @monitor.py:467]\u001b[0m GAN_loss/gen/final-g-loss: 1.013\n",
      "\u001b[32m[1006 17:01:47 @monitor.py:467]\u001b[0m GAN_loss/gen/klloss: 0.03711\n",
      "\u001b[32m[1006 17:01:47 @monitor.py:467]\u001b[0m GAN_loss/gen/loss: 0.97584\n",
      "\u001b[32m[1006 17:01:47 @monitor.py:467]\u001b[0m QueueInput/queue_size: 50\n",
      "\u001b[32m[1006 17:01:47 @base.py:275]\u001b[0m Start Epoch 2 ...\n"
     ]
    },
    {
     "name": "stderr",
     "output_type": "stream",
     "text": [
      "100%|###################################################################################|175/175[00:05<00:00,30.83it/s]"
     ]
    },
    {
     "name": "stdout",
     "output_type": "stream",
     "text": [
      "\u001b[32m[1006 17:01:52 @base.py:285]\u001b[0m Epoch 2 (global_step 350) finished, time:5.68 seconds.\n",
      "\u001b[32m[1006 17:01:52 @saver.py:79]\u001b[0m Model saved to ../output/Chicago/DATGAN_TEST2/model\\model-350.\n",
      "\u001b[32m[1006 17:01:52 @monitor.py:467]\u001b[0m GAN_loss/discrim/accuracy_fake: 0.93\n",
      "\u001b[32m[1006 17:01:52 @monitor.py:467]\u001b[0m GAN_loss/discrim/accuracy_real: 0.126\n",
      "\u001b[32m[1006 17:01:52 @monitor.py:467]\u001b[0m GAN_loss/discrim/loss: 0.64929\n",
      "\u001b[32m[1006 17:01:52 @monitor.py:467]\u001b[0m GAN_loss/gen/final-g-loss: 0.99077\n",
      "\u001b[32m[1006 17:01:52 @monitor.py:467]\u001b[0m GAN_loss/gen/klloss: 0.03472\n",
      "\u001b[32m[1006 17:01:52 @monitor.py:467]\u001b[0m GAN_loss/gen/loss: 0.95605\n",
      "\u001b[32m[1006 17:01:52 @monitor.py:467]\u001b[0m QueueInput/queue_size: 50\n",
      "\u001b[32m[1006 17:01:52 @base.py:275]\u001b[0m Start Epoch 3 ...\n"
     ]
    },
    {
     "name": "stderr",
     "output_type": "stream",
     "text": [
      "\n",
      "100%|###################################################################################|175/175[00:05<00:00,30.09it/s]"
     ]
    },
    {
     "name": "stdout",
     "output_type": "stream",
     "text": [
      "\u001b[32m[1006 17:01:58 @base.py:285]\u001b[0m Epoch 3 (global_step 525) finished, time:5.82 seconds.\n",
      "\u001b[32m[1006 17:01:58 @saver.py:79]\u001b[0m Model saved to ../output/Chicago/DATGAN_TEST2/model\\model-525.\n",
      "\u001b[32m[1006 17:01:58 @monitor.py:467]\u001b[0m GAN_loss/discrim/accuracy_fake: 0.948\n",
      "\u001b[32m[1006 17:01:58 @monitor.py:467]\u001b[0m GAN_loss/discrim/accuracy_real: 0.122\n",
      "\u001b[32m[1006 17:01:58 @monitor.py:467]\u001b[0m GAN_loss/discrim/loss: 0.64933\n",
      "\u001b[32m[1006 17:01:58 @monitor.py:467]\u001b[0m GAN_loss/gen/final-g-loss: 0.99499\n",
      "\u001b[32m[1006 17:01:58 @monitor.py:467]\u001b[0m GAN_loss/gen/klloss: 0.03776\n",
      "\u001b[32m[1006 17:01:58 @monitor.py:467]\u001b[0m GAN_loss/gen/loss: 0.95723\n",
      "\u001b[32m[1006 17:01:58 @monitor.py:467]\u001b[0m QueueInput/queue_size: 50\n",
      "\u001b[32m[1006 17:01:58 @base.py:275]\u001b[0m Start Epoch 4 ...\n"
     ]
    },
    {
     "name": "stderr",
     "output_type": "stream",
     "text": [
      "\n",
      "100%|###################################################################################|175/175[00:05<00:00,29.23it/s]"
     ]
    },
    {
     "name": "stdout",
     "output_type": "stream",
     "text": [
      "\u001b[32m[1006 17:02:04 @base.py:285]\u001b[0m Epoch 4 (global_step 700) finished, time:5.99 seconds.\n",
      "\u001b[32m[1006 17:02:04 @saver.py:79]\u001b[0m Model saved to ../output/Chicago/DATGAN_TEST2/model\\model-700.\n",
      "\u001b[32m[1006 17:02:04 @monitor.py:467]\u001b[0m GAN_loss/discrim/accuracy_fake: 0.904\n",
      "\u001b[32m[1006 17:02:04 @monitor.py:467]\u001b[0m GAN_loss/discrim/accuracy_real: 0.184\n",
      "\u001b[32m[1006 17:02:04 @monitor.py:467]\u001b[0m GAN_loss/discrim/loss: 0.6427\n",
      "\u001b[32m[1006 17:02:04 @monitor.py:467]\u001b[0m GAN_loss/gen/final-g-loss: 0.99367\n",
      "\u001b[32m[1006 17:02:04 @monitor.py:467]\u001b[0m GAN_loss/gen/klloss: 0.031725\n",
      "\u001b[32m[1006 17:02:04 @monitor.py:467]\u001b[0m GAN_loss/gen/loss: 0.96194\n",
      "\u001b[32m[1006 17:02:04 @monitor.py:467]\u001b[0m QueueInput/queue_size: 50\n",
      "\u001b[32m[1006 17:02:04 @base.py:275]\u001b[0m Start Epoch 5 ...\n"
     ]
    },
    {
     "name": "stderr",
     "output_type": "stream",
     "text": [
      "\n",
      "100%|###################################################################################|175/175[00:06<00:00,28.35it/s]"
     ]
    },
    {
     "name": "stdout",
     "output_type": "stream",
     "text": [
      "\u001b[32m[1006 17:02:10 @base.py:285]\u001b[0m Epoch 5 (global_step 875) finished, time:6.17 seconds.\n",
      "\u001b[32m[1006 17:02:11 @saver.py:79]\u001b[0m Model saved to ../output/Chicago/DATGAN_TEST2/model\\model-875.\n",
      "\u001b[32m[1006 17:02:11 @monitor.py:467]\u001b[0m GAN_loss/discrim/accuracy_fake: 0.938\n",
      "\u001b[32m[1006 17:02:11 @monitor.py:467]\u001b[0m GAN_loss/discrim/accuracy_real: 0.228\n",
      "\u001b[32m[1006 17:02:11 @monitor.py:467]\u001b[0m GAN_loss/discrim/loss: 0.6377\n",
      "\u001b[32m[1006 17:02:11 @monitor.py:467]\u001b[0m GAN_loss/gen/final-g-loss: 1.0218\n",
      "\u001b[32m[1006 17:02:11 @monitor.py:467]\u001b[0m GAN_loss/gen/klloss: 0.045431\n",
      "\u001b[32m[1006 17:02:11 @monitor.py:467]\u001b[0m GAN_loss/gen/loss: 0.97641\n",
      "\u001b[32m[1006 17:02:11 @monitor.py:467]\u001b[0m QueueInput/queue_size: 50\n",
      "\u001b[32m[1006 17:02:11 @base.py:275]\u001b[0m Start Epoch 6 ...\n"
     ]
    },
    {
     "name": "stderr",
     "output_type": "stream",
     "text": [
      "\n",
      "100%|###################################################################################|175/175[00:05<00:00,29.28it/s]"
     ]
    },
    {
     "name": "stdout",
     "output_type": "stream",
     "text": [
      "\u001b[32m[1006 17:02:17 @base.py:285]\u001b[0m Epoch 6 (global_step 1050) finished, time:5.98 seconds.\n"
     ]
    },
    {
     "name": "stderr",
     "output_type": "stream",
     "text": [
      "\n"
     ]
    },
    {
     "name": "stdout",
     "output_type": "stream",
     "text": [
      "\u001b[32m[1006 17:02:17 @saver.py:79]\u001b[0m Model saved to ../output/Chicago/DATGAN_TEST2/model\\model-1050.\n",
      "\u001b[32m[1006 17:02:17 @monitor.py:467]\u001b[0m GAN_loss/discrim/accuracy_fake: 0.91\n",
      "\u001b[32m[1006 17:02:17 @monitor.py:467]\u001b[0m GAN_loss/discrim/accuracy_real: 0.196\n",
      "\u001b[32m[1006 17:02:17 @monitor.py:467]\u001b[0m GAN_loss/discrim/loss: 0.64583\n",
      "\u001b[32m[1006 17:02:17 @monitor.py:467]\u001b[0m GAN_loss/gen/final-g-loss: 1.0124\n",
      "\u001b[32m[1006 17:02:17 @monitor.py:467]\u001b[0m GAN_loss/gen/klloss: 0.043084\n",
      "\u001b[32m[1006 17:02:17 @monitor.py:467]\u001b[0m GAN_loss/gen/loss: 0.96931\n",
      "\u001b[32m[1006 17:02:17 @monitor.py:467]\u001b[0m QueueInput/queue_size: 50\n",
      "\u001b[32m[1006 17:02:17 @base.py:275]\u001b[0m Start Epoch 7 ...\n"
     ]
    },
    {
     "name": "stderr",
     "output_type": "stream",
     "text": [
      "100%|###################################################################################|175/175[00:06<00:00,28.47it/s]"
     ]
    },
    {
     "name": "stdout",
     "output_type": "stream",
     "text": [
      "\u001b[32m[1006 17:02:23 @base.py:285]\u001b[0m Epoch 7 (global_step 1225) finished, time:6.15 seconds.\n",
      "\u001b[32m[1006 17:02:23 @saver.py:79]\u001b[0m Model saved to ../output/Chicago/DATGAN_TEST2/model\\model-1225.\n",
      "\u001b[32m[1006 17:02:23 @monitor.py:467]\u001b[0m GAN_loss/discrim/accuracy_fake: 0.92\n",
      "\u001b[32m[1006 17:02:23 @monitor.py:467]\u001b[0m GAN_loss/discrim/accuracy_real: 0.192\n",
      "\u001b[32m[1006 17:02:23 @monitor.py:467]\u001b[0m GAN_loss/discrim/loss: 0.64069\n",
      "\u001b[32m[1006 17:02:23 @monitor.py:467]\u001b[0m GAN_loss/gen/final-g-loss: 1.0251\n",
      "\u001b[32m[1006 17:02:23 @monitor.py:467]\u001b[0m GAN_loss/gen/klloss: 0.047324\n",
      "\u001b[32m[1006 17:02:23 @monitor.py:467]\u001b[0m GAN_loss/gen/loss: 0.97776\n",
      "\u001b[32m[1006 17:02:23 @monitor.py:467]\u001b[0m QueueInput/queue_size: 50\n",
      "\u001b[32m[1006 17:02:23 @base.py:275]\u001b[0m Start Epoch 8 ...\n"
     ]
    },
    {
     "name": "stderr",
     "output_type": "stream",
     "text": [
      "\n",
      "100%|###################################################################################|175/175[00:05<00:00,29.49it/s]"
     ]
    },
    {
     "name": "stdout",
     "output_type": "stream",
     "text": [
      "\u001b[32m[1006 17:02:29 @base.py:285]\u001b[0m Epoch 8 (global_step 1400) finished, time:5.94 seconds.\n"
     ]
    },
    {
     "name": "stderr",
     "output_type": "stream",
     "text": [
      "\n"
     ]
    },
    {
     "name": "stdout",
     "output_type": "stream",
     "text": [
      "\u001b[32m[1006 17:02:29 @saver.py:79]\u001b[0m Model saved to ../output/Chicago/DATGAN_TEST2/model\\model-1400.\n",
      "\u001b[32m[1006 17:02:29 @monitor.py:467]\u001b[0m GAN_loss/discrim/accuracy_fake: 0.924\n",
      "\u001b[32m[1006 17:02:29 @monitor.py:467]\u001b[0m GAN_loss/discrim/accuracy_real: 0.146\n",
      "\u001b[32m[1006 17:02:29 @monitor.py:467]\u001b[0m GAN_loss/discrim/loss: 0.64906\n",
      "\u001b[32m[1006 17:02:29 @monitor.py:467]\u001b[0m GAN_loss/gen/final-g-loss: 1.0519\n",
      "\u001b[32m[1006 17:02:29 @monitor.py:467]\u001b[0m GAN_loss/gen/klloss: 0.076327\n",
      "\u001b[32m[1006 17:02:29 @monitor.py:467]\u001b[0m GAN_loss/gen/loss: 0.97556\n",
      "\u001b[32m[1006 17:02:29 @monitor.py:467]\u001b[0m QueueInput/queue_size: 50\n",
      "\u001b[32m[1006 17:02:29 @base.py:275]\u001b[0m Start Epoch 9 ...\n"
     ]
    },
    {
     "name": "stderr",
     "output_type": "stream",
     "text": [
      "100%|###################################################################################|175/175[00:05<00:00,29.82it/s]"
     ]
    },
    {
     "name": "stdout",
     "output_type": "stream",
     "text": [
      "\u001b[32m[1006 17:02:35 @base.py:285]\u001b[0m Epoch 9 (global_step 1575) finished, time:5.87 seconds.\n",
      "\u001b[32m[1006 17:02:35 @saver.py:79]\u001b[0m Model saved to ../output/Chicago/DATGAN_TEST2/model\\model-1575.\n",
      "\u001b[32m[1006 17:02:35 @monitor.py:467]\u001b[0m GAN_loss/discrim/accuracy_fake: 0.918\n",
      "\u001b[32m[1006 17:02:35 @monitor.py:467]\u001b[0m GAN_loss/discrim/accuracy_real: 0.194\n",
      "\u001b[32m[1006 17:02:35 @monitor.py:467]\u001b[0m GAN_loss/discrim/loss: 0.64439\n",
      "\u001b[32m[1006 17:02:35 @monitor.py:467]\u001b[0m GAN_loss/gen/final-g-loss: 1.0201\n",
      "\u001b[32m[1006 17:02:35 @monitor.py:467]\u001b[0m GAN_loss/gen/klloss: 0.052436\n",
      "\u001b[32m[1006 17:02:35 @monitor.py:467]\u001b[0m GAN_loss/gen/loss: 0.96762\n",
      "\u001b[32m[1006 17:02:35 @monitor.py:467]\u001b[0m QueueInput/queue_size: 50\n",
      "\u001b[32m[1006 17:02:35 @base.py:275]\u001b[0m Start Epoch 10 ...\n"
     ]
    },
    {
     "name": "stderr",
     "output_type": "stream",
     "text": [
      "\n",
      "100%|###################################################################################|175/175[00:05<00:00,29.47it/s]"
     ]
    },
    {
     "name": "stdout",
     "output_type": "stream",
     "text": [
      "\u001b[32m[1006 17:02:41 @base.py:285]\u001b[0m Epoch 10 (global_step 1750) finished, time:5.94 seconds.\n",
      "\u001b[32m[1006 17:02:41 @saver.py:79]\u001b[0m Model saved to ../output/Chicago/DATGAN_TEST2/model\\model-1750.\n",
      "\u001b[32m[1006 17:02:41 @monitor.py:467]\u001b[0m GAN_loss/discrim/accuracy_fake: 0.888\n",
      "\u001b[32m[1006 17:02:41 @monitor.py:467]\u001b[0m GAN_loss/discrim/accuracy_real: 0.194\n",
      "\u001b[32m[1006 17:02:41 @monitor.py:467]\u001b[0m GAN_loss/discrim/loss: 0.63781\n",
      "\u001b[32m[1006 17:02:41 @monitor.py:467]\u001b[0m GAN_loss/gen/final-g-loss: 1.0231\n",
      "\u001b[32m[1006 17:02:41 @monitor.py:467]\u001b[0m GAN_loss/gen/klloss: 0.06481\n",
      "\u001b[32m[1006 17:02:41 @monitor.py:467]\u001b[0m GAN_loss/gen/loss: 0.95834\n",
      "\u001b[32m[1006 17:02:41 @monitor.py:467]\u001b[0m QueueInput/queue_size: 50\n",
      "\u001b[32m[1006 17:02:41 @base.py:275]\u001b[0m Start Epoch 11 ...\n"
     ]
    },
    {
     "name": "stderr",
     "output_type": "stream",
     "text": [
      "\n",
      "100%|###################################################################################|175/175[00:05<00:00,29.50it/s]"
     ]
    },
    {
     "name": "stdout",
     "output_type": "stream",
     "text": [
      "\u001b[32m[1006 17:02:47 @base.py:285]\u001b[0m Epoch 11 (global_step 1925) finished, time:5.93 seconds.\n",
      "WARNING:tensorflow:From D:\\Users\\glede\\anaconda3\\envs\\py37\\lib\\site-packages\\tensorflow_core\\python\\training\\saver.py:963: remove_checkpoint (from tensorflow.python.training.checkpoint_management) is deprecated and will be removed in a future version.\n",
      "Instructions for updating:\n",
      "Use standard file APIs to delete files with this prefix.\n",
      "\u001b[32m[1006 17:02:47 @saver.py:79]\u001b[0m Model saved to ../output/Chicago/DATGAN_TEST2/model\\model-1925.\n",
      "\u001b[32m[1006 17:02:47 @monitor.py:467]\u001b[0m GAN_loss/discrim/accuracy_fake: 0.898\n",
      "\u001b[32m[1006 17:02:47 @monitor.py:467]\u001b[0m GAN_loss/discrim/accuracy_real: 0.182\n",
      "\u001b[32m[1006 17:02:47 @monitor.py:467]\u001b[0m GAN_loss/discrim/loss: 0.64155\n",
      "\u001b[32m[1006 17:02:47 @monitor.py:467]\u001b[0m GAN_loss/gen/final-g-loss: 1.0201\n",
      "\u001b[32m[1006 17:02:47 @monitor.py:467]\u001b[0m GAN_loss/gen/klloss: 0.051169\n",
      "\u001b[32m[1006 17:02:47 @monitor.py:467]\u001b[0m GAN_loss/gen/loss: 0.96891\n",
      "\u001b[32m[1006 17:02:47 @monitor.py:467]\u001b[0m QueueInput/queue_size: 50\n",
      "\u001b[32m[1006 17:02:47 @base.py:275]\u001b[0m Start Epoch 12 ...\n"
     ]
    },
    {
     "name": "stderr",
     "output_type": "stream",
     "text": [
      "\n",
      "100%|###################################################################################|175/175[00:05<00:00,30.14it/s]"
     ]
    },
    {
     "name": "stdout",
     "output_type": "stream",
     "text": [
      "\u001b[32m[1006 17:02:53 @base.py:285]\u001b[0m Epoch 12 (global_step 2100) finished, time:5.81 seconds.\n",
      "\u001b[32m[1006 17:02:53 @saver.py:79]\u001b[0m Model saved to ../output/Chicago/DATGAN_TEST2/model\\model-2100.\n",
      "\u001b[32m[1006 17:02:53 @monitor.py:467]\u001b[0m GAN_loss/discrim/accuracy_fake: 0.886\n",
      "\u001b[32m[1006 17:02:53 @monitor.py:467]\u001b[0m GAN_loss/discrim/accuracy_real: 0.198\n",
      "\u001b[32m[1006 17:02:53 @monitor.py:467]\u001b[0m GAN_loss/discrim/loss: 0.63811\n",
      "\u001b[32m[1006 17:02:53 @monitor.py:467]\u001b[0m GAN_loss/gen/final-g-loss: 1.0205\n",
      "\u001b[32m[1006 17:02:53 @monitor.py:467]\u001b[0m GAN_loss/gen/klloss: 0.056358\n",
      "\u001b[32m[1006 17:02:53 @monitor.py:467]\u001b[0m GAN_loss/gen/loss: 0.96414\n",
      "\u001b[32m[1006 17:02:53 @monitor.py:467]\u001b[0m QueueInput/queue_size: 50\n",
      "\u001b[32m[1006 17:02:53 @base.py:275]\u001b[0m Start Epoch 13 ...\n"
     ]
    },
    {
     "name": "stderr",
     "output_type": "stream",
     "text": [
      "\n",
      "100%|###################################################################################|175/175[00:06<00:00,28.70it/s]"
     ]
    },
    {
     "name": "stdout",
     "output_type": "stream",
     "text": [
      "\u001b[32m[1006 17:02:59 @base.py:285]\u001b[0m Epoch 13 (global_step 2275) finished, time:6.1 seconds.\n",
      "\u001b[32m[1006 17:02:59 @saver.py:79]\u001b[0m Model saved to ../output/Chicago/DATGAN_TEST2/model\\model-2275.\n",
      "\u001b[32m[1006 17:02:59 @monitor.py:467]\u001b[0m GAN_loss/discrim/accuracy_fake: 0.928\n",
      "\u001b[32m[1006 17:02:59 @monitor.py:467]\u001b[0m GAN_loss/discrim/accuracy_real: 0.192\n",
      "\u001b[32m[1006 17:02:59 @monitor.py:467]\u001b[0m GAN_loss/discrim/loss: 0.6374\n",
      "\u001b[32m[1006 17:02:59 @monitor.py:467]\u001b[0m GAN_loss/gen/final-g-loss: 1.0567\n",
      "\u001b[32m[1006 17:02:59 @monitor.py:467]\u001b[0m GAN_loss/gen/klloss: 0.078249\n",
      "\u001b[32m[1006 17:02:59 @monitor.py:467]\u001b[0m GAN_loss/gen/loss: 0.97842\n",
      "\u001b[32m[1006 17:02:59 @monitor.py:467]\u001b[0m QueueInput/queue_size: 50\n",
      "\u001b[32m[1006 17:02:59 @base.py:275]\u001b[0m Start Epoch 14 ...\n"
     ]
    },
    {
     "name": "stderr",
     "output_type": "stream",
     "text": [
      "\n",
      "100%|###################################################################################|175/175[00:05<00:00,29.84it/s]"
     ]
    },
    {
     "name": "stdout",
     "output_type": "stream",
     "text": [
      "\u001b[32m[1006 17:03:05 @base.py:285]\u001b[0m Epoch 14 (global_step 2450) finished, time:5.87 seconds.\n",
      "\u001b[32m[1006 17:03:05 @saver.py:79]\u001b[0m Model saved to ../output/Chicago/DATGAN_TEST2/model\\model-2450.\n",
      "\u001b[32m[1006 17:03:05 @monitor.py:467]\u001b[0m GAN_loss/discrim/accuracy_fake: 0.9\n"
     ]
    },
    {
     "name": "stderr",
     "output_type": "stream",
     "text": [
      "\n"
     ]
    },
    {
     "name": "stdout",
     "output_type": "stream",
     "text": [
      "\u001b[32m[1006 17:03:05 @monitor.py:467]\u001b[0m GAN_loss/discrim/accuracy_real: 0.172\n",
      "\u001b[32m[1006 17:03:05 @monitor.py:467]\u001b[0m GAN_loss/discrim/loss: 0.64656\n",
      "\u001b[32m[1006 17:03:05 @monitor.py:467]\u001b[0m GAN_loss/gen/final-g-loss: 1.0104\n",
      "\u001b[32m[1006 17:03:05 @monitor.py:467]\u001b[0m GAN_loss/gen/klloss: 0.053228\n",
      "\u001b[32m[1006 17:03:05 @monitor.py:467]\u001b[0m GAN_loss/gen/loss: 0.95714\n",
      "\u001b[32m[1006 17:03:05 @monitor.py:467]\u001b[0m QueueInput/queue_size: 50\n",
      "\u001b[32m[1006 17:03:05 @base.py:275]\u001b[0m Start Epoch 15 ...\n"
     ]
    },
    {
     "name": "stderr",
     "output_type": "stream",
     "text": [
      "100%|###################################################################################|175/175[00:05<00:00,29.85it/s]"
     ]
    },
    {
     "name": "stdout",
     "output_type": "stream",
     "text": [
      "\u001b[32m[1006 17:03:11 @base.py:285]\u001b[0m Epoch 15 (global_step 2625) finished, time:5.86 seconds.\n"
     ]
    },
    {
     "name": "stderr",
     "output_type": "stream",
     "text": [
      "\n"
     ]
    },
    {
     "name": "stdout",
     "output_type": "stream",
     "text": [
      "\u001b[32m[1006 17:03:11 @saver.py:79]\u001b[0m Model saved to ../output/Chicago/DATGAN_TEST2/model\\model-2625.\n",
      "\u001b[32m[1006 17:03:11 @monitor.py:467]\u001b[0m GAN_loss/discrim/accuracy_fake: 0.926\n",
      "\u001b[32m[1006 17:03:11 @monitor.py:467]\u001b[0m GAN_loss/discrim/accuracy_real: 0.158\n",
      "\u001b[32m[1006 17:03:11 @monitor.py:467]\u001b[0m GAN_loss/discrim/loss: 0.6385\n",
      "\u001b[32m[1006 17:03:11 @monitor.py:467]\u001b[0m GAN_loss/gen/final-g-loss: 1.0299\n",
      "\u001b[32m[1006 17:03:11 @monitor.py:467]\u001b[0m GAN_loss/gen/klloss: 0.057121\n",
      "\u001b[32m[1006 17:03:11 @monitor.py:467]\u001b[0m GAN_loss/gen/loss: 0.97282\n",
      "\u001b[32m[1006 17:03:11 @monitor.py:467]\u001b[0m QueueInput/queue_size: 50\n",
      "\u001b[32m[1006 17:03:11 @base.py:275]\u001b[0m Start Epoch 16 ...\n"
     ]
    },
    {
     "name": "stderr",
     "output_type": "stream",
     "text": [
      "100%|###################################################################################|175/175[00:05<00:00,29.29it/s]"
     ]
    },
    {
     "name": "stdout",
     "output_type": "stream",
     "text": [
      "\u001b[32m[1006 17:03:17 @base.py:285]\u001b[0m Epoch 16 (global_step 2800) finished, time:5.97 seconds.\n",
      "\u001b[32m[1006 17:03:17 @saver.py:79]\u001b[0m Model saved to ../output/Chicago/DATGAN_TEST2/model\\model-2800.\n",
      "\u001b[32m[1006 17:03:17 @monitor.py:467]\u001b[0m GAN_loss/discrim/accuracy_fake: 0.91\n",
      "\u001b[32m[1006 17:03:17 @monitor.py:467]\u001b[0m GAN_loss/discrim/accuracy_real: 0.192\n",
      "\u001b[32m[1006 17:03:17 @monitor.py:467]\u001b[0m GAN_loss/discrim/loss: 0.63647\n",
      "\u001b[32m[1006 17:03:17 @monitor.py:467]\u001b[0m GAN_loss/gen/final-g-loss: 1.0371\n",
      "\u001b[32m[1006 17:03:17 @monitor.py:467]\u001b[0m GAN_loss/gen/klloss: 0.059558\n",
      "\u001b[32m[1006 17:03:17 @monitor.py:467]\u001b[0m GAN_loss/gen/loss: 0.97757\n",
      "\u001b[32m[1006 17:03:17 @monitor.py:467]\u001b[0m QueueInput/queue_size: 50\n",
      "\u001b[32m[1006 17:03:17 @base.py:275]\u001b[0m Start Epoch 17 ...\n"
     ]
    },
    {
     "name": "stderr",
     "output_type": "stream",
     "text": [
      "\n",
      "100%|###################################################################################|175/175[00:05<00:00,30.33it/s]"
     ]
    },
    {
     "name": "stdout",
     "output_type": "stream",
     "text": [
      "\u001b[32m[1006 17:03:23 @base.py:285]\u001b[0m Epoch 17 (global_step 2975) finished, time:5.77 seconds.\n",
      "\u001b[32m[1006 17:03:23 @saver.py:79]\u001b[0m Model saved to ../output/Chicago/DATGAN_TEST2/model\\model-2975.\n",
      "\u001b[32m[1006 17:03:23 @monitor.py:467]\u001b[0m GAN_loss/discrim/accuracy_fake: 0.906\n",
      "\u001b[32m[1006 17:03:23 @monitor.py:467]\u001b[0m GAN_loss/discrim/accuracy_real: 0.166\n",
      "\u001b[32m[1006 17:03:23 @monitor.py:467]\u001b[0m GAN_loss/discrim/loss: 0.64319\n",
      "\u001b[32m[1006 17:03:23 @monitor.py:467]\u001b[0m GAN_loss/gen/final-g-loss: 1.0316\n",
      "\u001b[32m[1006 17:03:23 @monitor.py:467]\u001b[0m GAN_loss/gen/klloss: 0.073831\n",
      "\u001b[32m[1006 17:03:23 @monitor.py:467]\u001b[0m GAN_loss/gen/loss: 0.95775\n",
      "\u001b[32m[1006 17:03:23 @monitor.py:467]\u001b[0m QueueInput/queue_size: 50\n",
      "\u001b[32m[1006 17:03:23 @base.py:275]\u001b[0m Start Epoch 18 ...\n"
     ]
    },
    {
     "name": "stderr",
     "output_type": "stream",
     "text": [
      "\n",
      "100%|###################################################################################|175/175[00:05<00:00,30.67it/s]"
     ]
    },
    {
     "name": "stdout",
     "output_type": "stream",
     "text": [
      "\u001b[32m[1006 17:03:29 @base.py:285]\u001b[0m Epoch 18 (global_step 3150) finished, time:5.71 seconds.\n",
      "\u001b[32m[1006 17:03:29 @saver.py:79]\u001b[0m Model saved to ../output/Chicago/DATGAN_TEST2/model\\model-3150.\n",
      "\u001b[32m[1006 17:03:29 @monitor.py:467]\u001b[0m GAN_loss/discrim/accuracy_fake: 0.902\n",
      "\u001b[32m[1006 17:03:29 @monitor.py:467]\u001b[0m GAN_loss/discrim/accuracy_real: 0.168\n",
      "\u001b[32m[1006 17:03:29 @monitor.py:467]\u001b[0m GAN_loss/discrim/loss: 0.64191\n",
      "\u001b[32m[1006 17:03:29 @monitor.py:467]\u001b[0m GAN_loss/gen/final-g-loss: 1.04\n",
      "\u001b[32m[1006 17:03:29 @monitor.py:467]\u001b[0m GAN_loss/gen/klloss: 0.070044\n",
      "\u001b[32m[1006 17:03:29 @monitor.py:467]\u001b[0m GAN_loss/gen/loss: 0.96997\n",
      "\u001b[32m[1006 17:03:29 @monitor.py:467]\u001b[0m QueueInput/queue_size: 50\n",
      "\u001b[32m[1006 17:03:29 @base.py:275]\u001b[0m Start Epoch 19 ...\n"
     ]
    },
    {
     "name": "stderr",
     "output_type": "stream",
     "text": [
      "\n",
      "100%|###################################################################################|175/175[00:05<00:00,30.15it/s]"
     ]
    },
    {
     "name": "stdout",
     "output_type": "stream",
     "text": [
      "\u001b[32m[1006 17:03:34 @base.py:285]\u001b[0m Epoch 19 (global_step 3325) finished, time:5.81 seconds.\n",
      "\u001b[32m[1006 17:03:35 @saver.py:79]\u001b[0m Model saved to ../output/Chicago/DATGAN_TEST2/model\\model-3325.\n",
      "\u001b[32m[1006 17:03:35 @monitor.py:467]\u001b[0m GAN_loss/discrim/accuracy_fake: 0.93\n",
      "\u001b[32m[1006 17:03:35 @monitor.py:467]\u001b[0m GAN_loss/discrim/accuracy_real: 0.158\n",
      "\u001b[32m[1006 17:03:35 @monitor.py:467]\u001b[0m GAN_loss/discrim/loss: 0.63929\n",
      "\u001b[32m[1006 17:03:35 @monitor.py:467]\u001b[0m GAN_loss/gen/final-g-loss: 1.0432\n",
      "\u001b[32m[1006 17:03:35 @monitor.py:467]\u001b[0m GAN_loss/gen/klloss: 0.073049\n",
      "\u001b[32m[1006 17:03:35 @monitor.py:467]\u001b[0m GAN_loss/gen/loss: 0.97011\n",
      "\u001b[32m[1006 17:03:35 @monitor.py:467]\u001b[0m QueueInput/queue_size: 50\n",
      "\u001b[32m[1006 17:03:35 @base.py:275]\u001b[0m Start Epoch 20 ...\n"
     ]
    },
    {
     "name": "stderr",
     "output_type": "stream",
     "text": [
      "\n",
      "100%|###################################################################################|175/175[00:05<00:00,29.60it/s]"
     ]
    },
    {
     "name": "stdout",
     "output_type": "stream",
     "text": [
      "\u001b[32m[1006 17:03:40 @base.py:285]\u001b[0m Epoch 20 (global_step 3500) finished, time:5.91 seconds.\n",
      "\u001b[32m[1006 17:03:41 @saver.py:79]\u001b[0m Model saved to ../output/Chicago/DATGAN_TEST2/model\\model-3500.\n",
      "\u001b[32m[1006 17:03:41 @monitor.py:467]\u001b[0m GAN_loss/discrim/accuracy_fake: 0.914\n",
      "\u001b[32m[1006 17:03:41 @monitor.py:467]\u001b[0m GAN_loss/discrim/accuracy_real: 0.174\n",
      "\u001b[32m[1006 17:03:41 @monitor.py:467]\u001b[0m GAN_loss/discrim/loss: 0.64164\n",
      "\u001b[32m[1006 17:03:41 @monitor.py:467]\u001b[0m GAN_loss/gen/final-g-loss: 1.032\n",
      "\u001b[32m[1006 17:03:41 @monitor.py:467]\u001b[0m GAN_loss/gen/klloss: 0.073201\n",
      "\u001b[32m[1006 17:03:41 @monitor.py:467]\u001b[0m GAN_loss/gen/loss: 0.95882\n",
      "\u001b[32m[1006 17:03:41 @monitor.py:467]\u001b[0m QueueInput/queue_size: 50\n",
      "\u001b[32m[1006 17:03:41 @base.py:275]\u001b[0m Start Epoch 21 ...\n"
     ]
    },
    {
     "name": "stderr",
     "output_type": "stream",
     "text": [
      "\n",
      "100%|###################################################################################|175/175[00:05<00:00,30.77it/s]"
     ]
    },
    {
     "name": "stdout",
     "output_type": "stream",
     "text": [
      "\u001b[32m[1006 17:03:46 @base.py:285]\u001b[0m Epoch 21 (global_step 3675) finished, time:5.69 seconds.\n",
      "\u001b[32m[1006 17:03:46 @saver.py:79]\u001b[0m Model saved to ../output/Chicago/DATGAN_TEST2/model\\model-3675.\n",
      "\u001b[32m[1006 17:03:46 @monitor.py:467]\u001b[0m GAN_loss/discrim/accuracy_fake: 0.926\n",
      "\u001b[32m[1006 17:03:46 @monitor.py:467]\u001b[0m GAN_loss/discrim/accuracy_real: 0.116\n",
      "\u001b[32m[1006 17:03:46 @monitor.py:467]\u001b[0m GAN_loss/discrim/loss: 0.64016\n",
      "\u001b[32m[1006 17:03:46 @monitor.py:467]\u001b[0m GAN_loss/gen/final-g-loss: 1.009\n",
      "\u001b[32m[1006 17:03:46 @monitor.py:467]\u001b[0m GAN_loss/gen/klloss: 0.048326\n",
      "\u001b[32m[1006 17:03:46 @monitor.py:467]\u001b[0m GAN_loss/gen/loss: 0.96068\n",
      "\u001b[32m[1006 17:03:46 @monitor.py:467]\u001b[0m QueueInput/queue_size: 50\n",
      "\u001b[32m[1006 17:03:46 @base.py:275]\u001b[0m Start Epoch 22 ...\n"
     ]
    },
    {
     "name": "stderr",
     "output_type": "stream",
     "text": [
      "\n",
      "100%|###################################################################################|175/175[00:05<00:00,30.46it/s]"
     ]
    },
    {
     "name": "stdout",
     "output_type": "stream",
     "text": [
      "\u001b[32m[1006 17:03:52 @base.py:285]\u001b[0m Epoch 22 (global_step 3850) finished, time:5.75 seconds.\n",
      "\u001b[32m[1006 17:03:52 @saver.py:79]\u001b[0m Model saved to ../output/Chicago/DATGAN_TEST2/model\\model-3850.\n",
      "\u001b[32m[1006 17:03:52 @monitor.py:467]\u001b[0m GAN_loss/discrim/accuracy_fake: 0.904\n",
      "\u001b[32m[1006 17:03:52 @monitor.py:467]\u001b[0m GAN_loss/discrim/accuracy_real: 0.146\n",
      "\u001b[32m[1006 17:03:52 @monitor.py:467]\u001b[0m GAN_loss/discrim/loss: 0.64667\n",
      "\u001b[32m[1006 17:03:52 @monitor.py:467]\u001b[0m GAN_loss/gen/final-g-loss: 0.98512\n",
      "\u001b[32m[1006 17:03:52 @monitor.py:467]\u001b[0m GAN_loss/gen/klloss: 0.042186\n",
      "\u001b[32m[1006 17:03:52 @monitor.py:467]\u001b[0m GAN_loss/gen/loss: 0.94294\n",
      "\u001b[32m[1006 17:03:52 @monitor.py:467]\u001b[0m QueueInput/queue_size: 50\n",
      "\u001b[32m[1006 17:03:52 @base.py:275]\u001b[0m Start Epoch 23 ...\n"
     ]
    },
    {
     "name": "stderr",
     "output_type": "stream",
     "text": [
      "\n",
      "100%|###################################################################################|175/175[00:05<00:00,30.80it/s]"
     ]
    },
    {
     "name": "stdout",
     "output_type": "stream",
     "text": [
      "\u001b[32m[1006 17:03:58 @base.py:285]\u001b[0m Epoch 23 (global_step 4025) finished, time:5.68 seconds.\n",
      "\u001b[32m[1006 17:03:58 @saver.py:79]\u001b[0m Model saved to ../output/Chicago/DATGAN_TEST2/model\\model-4025.\n",
      "\u001b[32m[1006 17:03:58 @monitor.py:467]\u001b[0m GAN_loss/discrim/accuracy_fake: 0.918\n",
      "\u001b[32m[1006 17:03:58 @monitor.py:467]\u001b[0m GAN_loss/discrim/accuracy_real: 0.138\n",
      "\u001b[32m[1006 17:03:58 @monitor.py:467]\u001b[0m GAN_loss/discrim/loss: 0.64147\n",
      "\u001b[32m[1006 17:03:58 @monitor.py:467]\u001b[0m GAN_loss/gen/final-g-loss: 1.0041\n",
      "\u001b[32m[1006 17:03:58 @monitor.py:467]\u001b[0m GAN_loss/gen/klloss: 0.045768\n",
      "\u001b[32m[1006 17:03:58 @monitor.py:467]\u001b[0m GAN_loss/gen/loss: 0.9583\n",
      "\u001b[32m[1006 17:03:58 @monitor.py:467]\u001b[0m QueueInput/queue_size: 50\n",
      "\u001b[32m[1006 17:03:58 @base.py:275]\u001b[0m Start Epoch 24 ...\n"
     ]
    },
    {
     "name": "stderr",
     "output_type": "stream",
     "text": [
      "\n",
      "100%|###################################################################################|175/175[00:05<00:00,30.35it/s]"
     ]
    },
    {
     "name": "stdout",
     "output_type": "stream",
     "text": [
      "\u001b[32m[1006 17:04:04 @base.py:285]\u001b[0m Epoch 24 (global_step 4200) finished, time:5.77 seconds.\n",
      "\u001b[32m[1006 17:04:04 @saver.py:79]\u001b[0m Model saved to ../output/Chicago/DATGAN_TEST2/model\\model-4200.\n",
      "\u001b[32m[1006 17:04:04 @monitor.py:467]\u001b[0m GAN_loss/discrim/accuracy_fake: 0.896\n",
      "\u001b[32m[1006 17:04:04 @monitor.py:467]\u001b[0m GAN_loss/discrim/accuracy_real: 0.142\n",
      "\u001b[32m[1006 17:04:04 @monitor.py:467]\u001b[0m GAN_loss/discrim/loss: 0.64349\n",
      "\u001b[32m[1006 17:04:04 @monitor.py:467]\u001b[0m GAN_loss/gen/final-g-loss: 1.0139\n",
      "\u001b[32m[1006 17:04:04 @monitor.py:467]\u001b[0m GAN_loss/gen/klloss: 0.04852\n",
      "\u001b[32m[1006 17:04:04 @monitor.py:467]\u001b[0m GAN_loss/gen/loss: 0.96541\n",
      "\u001b[32m[1006 17:04:04 @monitor.py:467]\u001b[0m QueueInput/queue_size: 50\n",
      "\u001b[32m[1006 17:04:04 @base.py:275]\u001b[0m Start Epoch 25 ...\n"
     ]
    },
    {
     "name": "stderr",
     "output_type": "stream",
     "text": [
      "\n",
      "100%|###################################################################################|175/175[00:05<00:00,30.57it/s]"
     ]
    },
    {
     "name": "stdout",
     "output_type": "stream",
     "text": [
      "\u001b[32m[1006 17:04:09 @base.py:285]\u001b[0m Epoch 25 (global_step 4375) finished, time:5.73 seconds.\n",
      "\u001b[32m[1006 17:04:10 @saver.py:79]\u001b[0m Model saved to ../output/Chicago/DATGAN_TEST2/model\\model-4375.\n",
      "\u001b[32m[1006 17:04:10 @monitor.py:467]\u001b[0m GAN_loss/discrim/accuracy_fake: 0.914\n",
      "\u001b[32m[1006 17:04:10 @monitor.py:467]\u001b[0m GAN_loss/discrim/accuracy_real: 0.196\n",
      "\u001b[32m[1006 17:04:10 @monitor.py:467]\u001b[0m GAN_loss/discrim/loss: 0.64252\n",
      "\u001b[32m[1006 17:04:10 @monitor.py:467]\u001b[0m GAN_loss/gen/final-g-loss: 1.0035\n",
      "\u001b[32m[1006 17:04:10 @monitor.py:467]\u001b[0m GAN_loss/gen/klloss: 0.037874\n",
      "\u001b[32m[1006 17:04:10 @monitor.py:467]\u001b[0m GAN_loss/gen/loss: 0.9656\n",
      "\u001b[32m[1006 17:04:10 @monitor.py:467]\u001b[0m QueueInput/queue_size: 50\n",
      "\u001b[32m[1006 17:04:10 @base.py:275]\u001b[0m Start Epoch 26 ...\n"
     ]
    },
    {
     "name": "stderr",
     "output_type": "stream",
     "text": [
      "\n",
      "100%|###################################################################################|175/175[00:06<00:00,29.14it/s]"
     ]
    },
    {
     "name": "stdout",
     "output_type": "stream",
     "text": [
      "\u001b[32m[1006 17:04:16 @base.py:285]\u001b[0m Epoch 26 (global_step 4550) finished, time:6.01 seconds.\n",
      "\u001b[32m[1006 17:04:16 @saver.py:79]\u001b[0m Model saved to ../output/Chicago/DATGAN_TEST2/model\\model-4550.\n",
      "\u001b[32m[1006 17:04:16 @monitor.py:467]\u001b[0m GAN_loss/discrim/accuracy_fake: 0.884\n",
      "\u001b[32m[1006 17:04:16 @monitor.py:467]\u001b[0m GAN_loss/discrim/accuracy_real: 0.204\n",
      "\u001b[32m[1006 17:04:16 @monitor.py:467]\u001b[0m GAN_loss/discrim/loss: 0.64224\n",
      "\u001b[32m[1006 17:04:16 @monitor.py:467]\u001b[0m GAN_loss/gen/final-g-loss: 1.0097\n",
      "\u001b[32m[1006 17:04:16 @monitor.py:467]\u001b[0m GAN_loss/gen/klloss: 0.047093\n",
      "\u001b[32m[1006 17:04:16 @monitor.py:467]\u001b[0m GAN_loss/gen/loss: 0.96265\n",
      "\u001b[32m[1006 17:04:16 @monitor.py:467]\u001b[0m QueueInput/queue_size: 50\n",
      "\u001b[32m[1006 17:04:16 @base.py:275]\u001b[0m Start Epoch 27 ...\n"
     ]
    },
    {
     "name": "stderr",
     "output_type": "stream",
     "text": [
      "\n",
      "100%|###################################################################################|175/175[00:05<00:00,29.75it/s]"
     ]
    },
    {
     "name": "stdout",
     "output_type": "stream",
     "text": [
      "\u001b[32m[1006 17:04:22 @base.py:285]\u001b[0m Epoch 27 (global_step 4725) finished, time:5.88 seconds.\n"
     ]
    },
    {
     "name": "stderr",
     "output_type": "stream",
     "text": [
      "\n"
     ]
    },
    {
     "name": "stdout",
     "output_type": "stream",
     "text": [
      "\u001b[32m[1006 17:04:22 @saver.py:79]\u001b[0m Model saved to ../output/Chicago/DATGAN_TEST2/model\\model-4725.\n",
      "\u001b[32m[1006 17:04:22 @monitor.py:467]\u001b[0m GAN_loss/discrim/accuracy_fake: 0.878\n",
      "\u001b[32m[1006 17:04:22 @monitor.py:467]\u001b[0m GAN_loss/discrim/accuracy_real: 0.188\n",
      "\u001b[32m[1006 17:04:22 @monitor.py:467]\u001b[0m GAN_loss/discrim/loss: 0.63645\n",
      "\u001b[32m[1006 17:04:22 @monitor.py:467]\u001b[0m GAN_loss/gen/final-g-loss: 1.0466\n",
      "\u001b[32m[1006 17:04:22 @monitor.py:467]\u001b[0m GAN_loss/gen/klloss: 0.070558\n",
      "\u001b[32m[1006 17:04:22 @monitor.py:467]\u001b[0m GAN_loss/gen/loss: 0.97603\n",
      "\u001b[32m[1006 17:04:22 @monitor.py:467]\u001b[0m QueueInput/queue_size: 50\n",
      "\u001b[32m[1006 17:04:22 @base.py:275]\u001b[0m Start Epoch 28 ...\n"
     ]
    },
    {
     "name": "stderr",
     "output_type": "stream",
     "text": [
      "100%|###################################################################################|175/175[00:05<00:00,30.72it/s]"
     ]
    },
    {
     "name": "stdout",
     "output_type": "stream",
     "text": [
      "\u001b[32m[1006 17:04:27 @base.py:285]\u001b[0m Epoch 28 (global_step 4900) finished, time:5.7 seconds.\n",
      "\u001b[32m[1006 17:04:27 @saver.py:79]\u001b[0m Model saved to ../output/Chicago/DATGAN_TEST2/model\\model-4900.\n",
      "\u001b[32m[1006 17:04:27 @monitor.py:467]\u001b[0m GAN_loss/discrim/accuracy_fake: 0.906\n",
      "\u001b[32m[1006 17:04:27 @monitor.py:467]\u001b[0m GAN_loss/discrim/accuracy_real: 0.228\n",
      "\u001b[32m[1006 17:04:27 @monitor.py:467]\u001b[0m GAN_loss/discrim/loss: 0.63246\n",
      "\u001b[32m[1006 17:04:27 @monitor.py:467]\u001b[0m GAN_loss/gen/final-g-loss: 1.0302\n",
      "\u001b[32m[1006 17:04:27 @monitor.py:467]\u001b[0m GAN_loss/gen/klloss: 0.051939\n",
      "\u001b[32m[1006 17:04:27 @monitor.py:467]\u001b[0m GAN_loss/gen/loss: 0.97829\n",
      "\u001b[32m[1006 17:04:27 @monitor.py:467]\u001b[0m QueueInput/queue_size: 50\n",
      "\u001b[32m[1006 17:04:27 @base.py:275]\u001b[0m Start Epoch 29 ...\n"
     ]
    },
    {
     "name": "stderr",
     "output_type": "stream",
     "text": [
      "\n",
      "100%|###################################################################################|175/175[00:05<00:00,30.47it/s]"
     ]
    },
    {
     "name": "stdout",
     "output_type": "stream",
     "text": [
      "\u001b[32m[1006 17:04:33 @base.py:285]\u001b[0m Epoch 29 (global_step 5075) finished, time:5.74 seconds.\n",
      "\u001b[32m[1006 17:04:33 @saver.py:79]\u001b[0m Model saved to ../output/Chicago/DATGAN_TEST2/model\\model-5075.\n",
      "\u001b[32m[1006 17:04:33 @monitor.py:467]\u001b[0m GAN_loss/discrim/accuracy_fake: 0.888\n",
      "\u001b[32m[1006 17:04:33 @monitor.py:467]\u001b[0m GAN_loss/discrim/accuracy_real: 0.182\n",
      "\u001b[32m[1006 17:04:33 @monitor.py:467]\u001b[0m GAN_loss/discrim/loss: 0.63931\n",
      "\u001b[32m[1006 17:04:33 @monitor.py:467]\u001b[0m GAN_loss/gen/final-g-loss: 1.0146\n",
      "\u001b[32m[1006 17:04:33 @monitor.py:467]\u001b[0m GAN_loss/gen/klloss: 0.045552\n",
      "\u001b[32m[1006 17:04:33 @monitor.py:467]\u001b[0m GAN_loss/gen/loss: 0.96903\n",
      "\u001b[32m[1006 17:04:33 @monitor.py:467]\u001b[0m QueueInput/queue_size: 50\n",
      "\u001b[32m[1006 17:04:33 @base.py:275]\u001b[0m Start Epoch 30 ...\n"
     ]
    },
    {
     "name": "stderr",
     "output_type": "stream",
     "text": [
      "\n",
      "100%|###################################################################################|175/175[00:05<00:00,30.69it/s]"
     ]
    },
    {
     "name": "stdout",
     "output_type": "stream",
     "text": [
      "\u001b[32m[1006 17:04:39 @base.py:285]\u001b[0m Epoch 30 (global_step 5250) finished, time:5.7 seconds.\n",
      "\u001b[32m[1006 17:04:39 @saver.py:79]\u001b[0m Model saved to ../output/Chicago/DATGAN_TEST2/model\\model-5250.\n",
      "\u001b[32m[1006 17:04:39 @monitor.py:467]\u001b[0m GAN_loss/discrim/accuracy_fake: 0.9\n",
      "\u001b[32m[1006 17:04:39 @monitor.py:467]\u001b[0m GAN_loss/discrim/accuracy_real: 0.21\n",
      "\u001b[32m[1006 17:04:39 @monitor.py:467]\u001b[0m GAN_loss/discrim/loss: 0.6354\n",
      "\u001b[32m[1006 17:04:39 @monitor.py:467]\u001b[0m GAN_loss/gen/final-g-loss: 1.0344\n",
      "\u001b[32m[1006 17:04:39 @monitor.py:467]\u001b[0m GAN_loss/gen/klloss: 0.062239\n",
      "\u001b[32m[1006 17:04:39 @monitor.py:467]\u001b[0m GAN_loss/gen/loss: 0.97213\n",
      "\u001b[32m[1006 17:04:39 @monitor.py:467]\u001b[0m QueueInput/queue_size: 50\n",
      "\u001b[32m[1006 17:04:39 @base.py:275]\u001b[0m Start Epoch 31 ...\n"
     ]
    },
    {
     "name": "stderr",
     "output_type": "stream",
     "text": [
      "\n",
      "100%|###################################################################################|175/175[00:05<00:00,30.65it/s]"
     ]
    },
    {
     "name": "stdout",
     "output_type": "stream",
     "text": [
      "\u001b[32m[1006 17:04:45 @base.py:285]\u001b[0m Epoch 31 (global_step 5425) finished, time:5.71 seconds.\n",
      "\u001b[32m[1006 17:04:45 @saver.py:79]\u001b[0m Model saved to ../output/Chicago/DATGAN_TEST2/model\\model-5425.\n",
      "\u001b[32m[1006 17:04:45 @monitor.py:467]\u001b[0m GAN_loss/discrim/accuracy_fake: 0.888\n",
      "\u001b[32m[1006 17:04:45 @monitor.py:467]\u001b[0m GAN_loss/discrim/accuracy_real: 0.2\n",
      "\u001b[32m[1006 17:04:45 @monitor.py:467]\u001b[0m GAN_loss/discrim/loss: 0.63889\n",
      "\u001b[32m[1006 17:04:45 @monitor.py:467]\u001b[0m GAN_loss/gen/final-g-loss: 1.0031\n",
      "\u001b[32m[1006 17:04:45 @monitor.py:467]\u001b[0m GAN_loss/gen/klloss: 0.046291\n",
      "\u001b[32m[1006 17:04:45 @monitor.py:467]\u001b[0m GAN_loss/gen/loss: 0.95681\n",
      "\u001b[32m[1006 17:04:45 @monitor.py:467]\u001b[0m QueueInput/queue_size: 50\n",
      "\u001b[32m[1006 17:04:45 @base.py:275]\u001b[0m Start Epoch 32 ...\n"
     ]
    },
    {
     "name": "stderr",
     "output_type": "stream",
     "text": [
      "\n",
      "100%|###################################################################################|175/175[00:05<00:00,29.89it/s]"
     ]
    },
    {
     "name": "stdout",
     "output_type": "stream",
     "text": [
      "\u001b[32m[1006 17:04:51 @base.py:285]\u001b[0m Epoch 32 (global_step 5600) finished, time:5.86 seconds.\n",
      "\u001b[32m[1006 17:04:51 @saver.py:79]\u001b[0m Model saved to ../output/Chicago/DATGAN_TEST2/model\\model-5600.\n",
      "\u001b[32m[1006 17:04:51 @monitor.py:467]\u001b[0m GAN_loss/discrim/accuracy_fake: 0.878\n",
      "\u001b[32m[1006 17:04:51 @monitor.py:467]\u001b[0m GAN_loss/discrim/accuracy_real: 0.18\n",
      "\u001b[32m[1006 17:04:51 @monitor.py:467]\u001b[0m GAN_loss/discrim/loss: 0.64773\n",
      "\u001b[32m[1006 17:04:51 @monitor.py:467]\u001b[0m GAN_loss/gen/final-g-loss: 1.0084\n"
     ]
    },
    {
     "name": "stderr",
     "output_type": "stream",
     "text": [
      "\n"
     ]
    },
    {
     "name": "stdout",
     "output_type": "stream",
     "text": [
      "\u001b[32m[1006 17:04:51 @monitor.py:467]\u001b[0m GAN_loss/gen/klloss: 0.054533\n",
      "\u001b[32m[1006 17:04:51 @monitor.py:467]\u001b[0m GAN_loss/gen/loss: 0.95382\n",
      "\u001b[32m[1006 17:04:51 @monitor.py:467]\u001b[0m QueueInput/queue_size: 50\n",
      "\u001b[32m[1006 17:04:51 @base.py:275]\u001b[0m Start Epoch 33 ...\n"
     ]
    },
    {
     "name": "stderr",
     "output_type": "stream",
     "text": [
      "100%|###################################################################################|175/175[00:05<00:00,30.21it/s]"
     ]
    },
    {
     "name": "stdout",
     "output_type": "stream",
     "text": [
      "\u001b[32m[1006 17:04:57 @base.py:285]\u001b[0m Epoch 33 (global_step 5775) finished, time:5.79 seconds.\n"
     ]
    },
    {
     "name": "stderr",
     "output_type": "stream",
     "text": [
      "\n"
     ]
    },
    {
     "name": "stdout",
     "output_type": "stream",
     "text": [
      "\u001b[32m[1006 17:04:57 @saver.py:79]\u001b[0m Model saved to ../output/Chicago/DATGAN_TEST2/model\\model-5775.\n",
      "\u001b[32m[1006 17:04:57 @monitor.py:467]\u001b[0m GAN_loss/discrim/accuracy_fake: 0.898\n",
      "\u001b[32m[1006 17:04:57 @monitor.py:467]\u001b[0m GAN_loss/discrim/accuracy_real: 0.202\n",
      "\u001b[32m[1006 17:04:57 @monitor.py:467]\u001b[0m GAN_loss/discrim/loss: 0.64051\n",
      "\u001b[32m[1006 17:04:57 @monitor.py:467]\u001b[0m GAN_loss/gen/final-g-loss: 1.0412\n",
      "\u001b[32m[1006 17:04:57 @monitor.py:467]\u001b[0m GAN_loss/gen/klloss: 0.076061\n",
      "\u001b[32m[1006 17:04:57 @monitor.py:467]\u001b[0m GAN_loss/gen/loss: 0.96511\n",
      "\u001b[32m[1006 17:04:57 @monitor.py:467]\u001b[0m QueueInput/queue_size: 50\n",
      "\u001b[32m[1006 17:04:57 @base.py:275]\u001b[0m Start Epoch 34 ...\n"
     ]
    },
    {
     "name": "stderr",
     "output_type": "stream",
     "text": [
      "100%|###################################################################################|175/175[00:05<00:00,30.54it/s]"
     ]
    },
    {
     "name": "stdout",
     "output_type": "stream",
     "text": [
      "\u001b[32m[1006 17:05:02 @base.py:285]\u001b[0m Epoch 34 (global_step 5950) finished, time:5.73 seconds.\n",
      "\u001b[32m[1006 17:05:03 @saver.py:79]\u001b[0m Model saved to ../output/Chicago/DATGAN_TEST2/model\\model-5950.\n",
      "\u001b[32m[1006 17:05:03 @monitor.py:467]\u001b[0m GAN_loss/discrim/accuracy_fake: 0.902\n",
      "\u001b[32m[1006 17:05:03 @monitor.py:467]\u001b[0m GAN_loss/discrim/accuracy_real: 0.158\n",
      "\u001b[32m[1006 17:05:03 @monitor.py:467]\u001b[0m GAN_loss/discrim/loss: 0.64405\n",
      "\u001b[32m[1006 17:05:03 @monitor.py:467]\u001b[0m GAN_loss/gen/final-g-loss: 1.0031\n",
      "\u001b[32m[1006 17:05:03 @monitor.py:467]\u001b[0m GAN_loss/gen/klloss: 0.052935\n",
      "\u001b[32m[1006 17:05:03 @monitor.py:467]\u001b[0m GAN_loss/gen/loss: 0.95017\n",
      "\u001b[32m[1006 17:05:03 @monitor.py:467]\u001b[0m QueueInput/queue_size: 50\n",
      "\u001b[32m[1006 17:05:03 @base.py:275]\u001b[0m Start Epoch 35 ...\n"
     ]
    },
    {
     "name": "stderr",
     "output_type": "stream",
     "text": [
      "\n",
      "100%|###################################################################################|175/175[00:05<00:00,30.58it/s]"
     ]
    },
    {
     "name": "stdout",
     "output_type": "stream",
     "text": [
      "\u001b[32m[1006 17:05:08 @base.py:285]\u001b[0m Epoch 35 (global_step 6125) finished, time:5.72 seconds.\n",
      "\u001b[32m[1006 17:05:08 @saver.py:79]\u001b[0m Model saved to ../output/Chicago/DATGAN_TEST2/model\\model-6125.\n",
      "\u001b[32m[1006 17:05:08 @monitor.py:467]\u001b[0m GAN_loss/discrim/accuracy_fake: 0.904\n",
      "\u001b[32m[1006 17:05:08 @monitor.py:467]\u001b[0m GAN_loss/discrim/accuracy_real: 0.152\n",
      "\u001b[32m[1006 17:05:08 @monitor.py:467]\u001b[0m GAN_loss/discrim/loss: 0.64094\n",
      "\u001b[32m[1006 17:05:08 @monitor.py:467]\u001b[0m GAN_loss/gen/final-g-loss: 1.0094\n",
      "\u001b[32m[1006 17:05:08 @monitor.py:467]\u001b[0m GAN_loss/gen/klloss: 0.059595\n",
      "\u001b[32m[1006 17:05:08 @monitor.py:467]\u001b[0m GAN_loss/gen/loss: 0.94982\n",
      "\u001b[32m[1006 17:05:08 @monitor.py:467]\u001b[0m QueueInput/queue_size: 50\n",
      "\u001b[32m[1006 17:05:08 @base.py:275]\u001b[0m Start Epoch 36 ...\n"
     ]
    },
    {
     "name": "stderr",
     "output_type": "stream",
     "text": [
      "\n",
      "100%|###################################################################################|175/175[00:05<00:00,30.59it/s]"
     ]
    },
    {
     "name": "stdout",
     "output_type": "stream",
     "text": [
      "\u001b[32m[1006 17:05:14 @base.py:285]\u001b[0m Epoch 36 (global_step 6300) finished, time:5.72 seconds.\n",
      "\u001b[32m[1006 17:05:14 @saver.py:79]\u001b[0m Model saved to ../output/Chicago/DATGAN_TEST2/model\\model-6300.\n",
      "\u001b[32m[1006 17:05:14 @monitor.py:467]\u001b[0m GAN_loss/discrim/accuracy_fake: 0.914\n",
      "\u001b[32m[1006 17:05:14 @monitor.py:467]\u001b[0m GAN_loss/discrim/accuracy_real: 0.186\n",
      "\u001b[32m[1006 17:05:14 @monitor.py:467]\u001b[0m GAN_loss/discrim/loss: 0.63641\n",
      "\u001b[32m[1006 17:05:14 @monitor.py:467]\u001b[0m GAN_loss/gen/final-g-loss: 1.0429\n",
      "\u001b[32m[1006 17:05:14 @monitor.py:467]\u001b[0m GAN_loss/gen/klloss: 0.077796\n",
      "\u001b[32m[1006 17:05:14 @monitor.py:467]\u001b[0m GAN_loss/gen/loss: 0.96512\n",
      "\u001b[32m[1006 17:05:14 @monitor.py:467]\u001b[0m QueueInput/queue_size: 50\n",
      "\u001b[32m[1006 17:05:14 @base.py:275]\u001b[0m Start Epoch 37 ...\n"
     ]
    },
    {
     "name": "stderr",
     "output_type": "stream",
     "text": [
      "\n",
      "100%|###################################################################################|175/175[00:05<00:00,30.59it/s]"
     ]
    },
    {
     "name": "stdout",
     "output_type": "stream",
     "text": [
      "\u001b[32m[1006 17:05:20 @base.py:285]\u001b[0m Epoch 37 (global_step 6475) finished, time:5.72 seconds.\n",
      "\u001b[32m[1006 17:05:20 @saver.py:79]\u001b[0m Model saved to ../output/Chicago/DATGAN_TEST2/model\\model-6475.\n",
      "\u001b[32m[1006 17:05:20 @monitor.py:467]\u001b[0m GAN_loss/discrim/accuracy_fake: 0.872\n",
      "\u001b[32m[1006 17:05:20 @monitor.py:467]\u001b[0m GAN_loss/discrim/accuracy_real: 0.204\n",
      "\u001b[32m[1006 17:05:20 @monitor.py:467]\u001b[0m GAN_loss/discrim/loss: 0.64716\n",
      "\u001b[32m[1006 17:05:20 @monitor.py:467]\u001b[0m GAN_loss/gen/final-g-loss: 1.0053\n",
      "\u001b[32m[1006 17:05:20 @monitor.py:467]\u001b[0m GAN_loss/gen/klloss: 0.057051\n",
      "\u001b[32m[1006 17:05:20 @monitor.py:467]\u001b[0m GAN_loss/gen/loss: 0.94822\n",
      "\u001b[32m[1006 17:05:20 @monitor.py:467]\u001b[0m QueueInput/queue_size: 50\n",
      "\u001b[32m[1006 17:05:20 @base.py:275]\u001b[0m Start Epoch 38 ...\n"
     ]
    },
    {
     "name": "stderr",
     "output_type": "stream",
     "text": [
      "\n",
      "100%|###################################################################################|175/175[00:05<00:00,30.59it/s]"
     ]
    },
    {
     "name": "stdout",
     "output_type": "stream",
     "text": [
      "\u001b[32m[1006 17:05:26 @base.py:285]\u001b[0m Epoch 38 (global_step 6650) finished, time:5.72 seconds.\n",
      "\u001b[32m[1006 17:05:26 @saver.py:79]\u001b[0m Model saved to ../output/Chicago/DATGAN_TEST2/model\\model-6650.\n",
      "\u001b[32m[1006 17:05:26 @monitor.py:467]\u001b[0m GAN_loss/discrim/accuracy_fake: 0.87\n",
      "\u001b[32m[1006 17:05:26 @monitor.py:467]\u001b[0m GAN_loss/discrim/accuracy_real: 0.188\n",
      "\u001b[32m[1006 17:05:26 @monitor.py:467]\u001b[0m GAN_loss/discrim/loss: 0.64347\n",
      "\u001b[32m[1006 17:05:26 @monitor.py:467]\u001b[0m GAN_loss/gen/final-g-loss: 0.99817\n",
      "\u001b[32m[1006 17:05:26 @monitor.py:467]\u001b[0m GAN_loss/gen/klloss: 0.050585\n",
      "\u001b[32m[1006 17:05:26 @monitor.py:467]\u001b[0m GAN_loss/gen/loss: 0.94759\n",
      "\u001b[32m[1006 17:05:26 @monitor.py:467]\u001b[0m QueueInput/queue_size: 50\n",
      "\u001b[32m[1006 17:05:26 @base.py:275]\u001b[0m Start Epoch 39 ...\n"
     ]
    },
    {
     "name": "stderr",
     "output_type": "stream",
     "text": [
      "\n",
      "100%|###################################################################################|175/175[00:05<00:00,30.59it/s]"
     ]
    },
    {
     "name": "stdout",
     "output_type": "stream",
     "text": [
      "\u001b[32m[1006 17:05:32 @base.py:285]\u001b[0m Epoch 39 (global_step 6825) finished, time:5.72 seconds.\n",
      "\u001b[32m[1006 17:05:32 @saver.py:79]\u001b[0m Model saved to ../output/Chicago/DATGAN_TEST2/model\\model-6825.\n",
      "\u001b[32m[1006 17:05:32 @monitor.py:467]\u001b[0m GAN_loss/discrim/accuracy_fake: 0.886\n",
      "\u001b[32m[1006 17:05:32 @monitor.py:467]\u001b[0m GAN_loss/discrim/accuracy_real: 0.172\n",
      "\u001b[32m[1006 17:05:32 @monitor.py:467]\u001b[0m GAN_loss/discrim/loss: 0.64669\n",
      "\u001b[32m[1006 17:05:32 @monitor.py:467]\u001b[0m GAN_loss/gen/final-g-loss: 1.0136\n",
      "\u001b[32m[1006 17:05:32 @monitor.py:467]\u001b[0m GAN_loss/gen/klloss: 0.06604\n",
      "\u001b[32m[1006 17:05:32 @monitor.py:467]\u001b[0m GAN_loss/gen/loss: 0.94756\n",
      "\u001b[32m[1006 17:05:32 @monitor.py:467]\u001b[0m QueueInput/queue_size: 50\n",
      "\u001b[32m[1006 17:05:32 @base.py:275]\u001b[0m Start Epoch 40 ...\n"
     ]
    },
    {
     "name": "stderr",
     "output_type": "stream",
     "text": [
      "\n",
      "100%|###################################################################################|175/175[00:05<00:00,30.58it/s]"
     ]
    },
    {
     "name": "stdout",
     "output_type": "stream",
     "text": [
      "\u001b[32m[1006 17:05:37 @base.py:285]\u001b[0m Epoch 40 (global_step 7000) finished, time:5.72 seconds.\n",
      "\u001b[32m[1006 17:05:37 @saver.py:79]\u001b[0m Model saved to ../output/Chicago/DATGAN_TEST2/model\\model-7000.\n",
      "\u001b[32m[1006 17:05:37 @monitor.py:467]\u001b[0m GAN_loss/discrim/accuracy_fake: 0.876\n",
      "\u001b[32m[1006 17:05:37 @monitor.py:467]\u001b[0m GAN_loss/discrim/accuracy_real: 0.186\n",
      "\u001b[32m[1006 17:05:37 @monitor.py:467]\u001b[0m GAN_loss/discrim/loss: 0.64182\n",
      "\u001b[32m[1006 17:05:37 @monitor.py:467]\u001b[0m GAN_loss/gen/final-g-loss: 1.0069\n",
      "\u001b[32m[1006 17:05:37 @monitor.py:467]\u001b[0m GAN_loss/gen/klloss: 0.052128\n",
      "\u001b[32m[1006 17:05:37 @monitor.py:467]\u001b[0m GAN_loss/gen/loss: 0.95475\n",
      "\u001b[32m[1006 17:05:37 @monitor.py:467]\u001b[0m QueueInput/queue_size: 50\n",
      "\u001b[32m[1006 17:05:37 @base.py:275]\u001b[0m Start Epoch 41 ...\n"
     ]
    },
    {
     "name": "stderr",
     "output_type": "stream",
     "text": [
      "\n",
      "100%|###################################################################################|175/175[00:05<00:00,30.61it/s]"
     ]
    },
    {
     "name": "stdout",
     "output_type": "stream",
     "text": [
      "\u001b[32m[1006 17:05:43 @base.py:285]\u001b[0m Epoch 41 (global_step 7175) finished, time:5.72 seconds.\n",
      "\u001b[32m[1006 17:05:43 @saver.py:79]\u001b[0m Model saved to ../output/Chicago/DATGAN_TEST2/model\\model-7175.\n",
      "\u001b[32m[1006 17:05:43 @monitor.py:467]\u001b[0m GAN_loss/discrim/accuracy_fake: 0.906\n",
      "\u001b[32m[1006 17:05:43 @monitor.py:467]\u001b[0m GAN_loss/discrim/accuracy_real: 0.182\n",
      "\u001b[32m[1006 17:05:43 @monitor.py:467]\u001b[0m GAN_loss/discrim/loss: 0.64125\n",
      "\u001b[32m[1006 17:05:43 @monitor.py:467]\u001b[0m GAN_loss/gen/final-g-loss: 1.023\n",
      "\u001b[32m[1006 17:05:43 @monitor.py:467]\u001b[0m GAN_loss/gen/klloss: 0.061432\n",
      "\u001b[32m[1006 17:05:43 @monitor.py:467]\u001b[0m GAN_loss/gen/loss: 0.96158\n",
      "\u001b[32m[1006 17:05:43 @monitor.py:467]\u001b[0m QueueInput/queue_size: 50\n",
      "\u001b[32m[1006 17:05:43 @base.py:275]\u001b[0m Start Epoch 42 ...\n"
     ]
    },
    {
     "name": "stderr",
     "output_type": "stream",
     "text": [
      "\n",
      "100%|###################################################################################|175/175[00:05<00:00,30.59it/s]"
     ]
    },
    {
     "name": "stdout",
     "output_type": "stream",
     "text": [
      "\u001b[32m[1006 17:05:49 @base.py:285]\u001b[0m Epoch 42 (global_step 7350) finished, time:5.72 seconds.\n",
      "\u001b[32m[1006 17:05:49 @saver.py:79]\u001b[0m Model saved to ../output/Chicago/DATGAN_TEST2/model\\model-7350.\n",
      "\u001b[32m[1006 17:05:49 @monitor.py:467]\u001b[0m GAN_loss/discrim/accuracy_fake: 0.892\n",
      "\u001b[32m[1006 17:05:49 @monitor.py:467]\u001b[0m GAN_loss/discrim/accuracy_real: 0.172\n",
      "\u001b[32m[1006 17:05:49 @monitor.py:467]\u001b[0m GAN_loss/discrim/loss: 0.64328\n",
      "\u001b[32m[1006 17:05:49 @monitor.py:467]\u001b[0m GAN_loss/gen/final-g-loss: 1.0108\n",
      "\u001b[32m[1006 17:05:49 @monitor.py:467]\u001b[0m GAN_loss/gen/klloss: 0.059876\n",
      "\u001b[32m[1006 17:05:49 @monitor.py:467]\u001b[0m GAN_loss/gen/loss: 0.95096\n",
      "\u001b[32m[1006 17:05:49 @monitor.py:467]\u001b[0m QueueInput/queue_size: 50\n",
      "\u001b[32m[1006 17:05:49 @base.py:275]\u001b[0m Start Epoch 43 ...\n"
     ]
    },
    {
     "name": "stderr",
     "output_type": "stream",
     "text": [
      "\n",
      "100%|###################################################################################|175/175[00:05<00:00,30.08it/s]"
     ]
    },
    {
     "name": "stdout",
     "output_type": "stream",
     "text": [
      "\u001b[32m[1006 17:05:55 @base.py:285]\u001b[0m Epoch 43 (global_step 7525) finished, time:5.82 seconds.\n",
      "\u001b[32m[1006 17:05:55 @saver.py:79]\u001b[0m Model saved to ../output/Chicago/DATGAN_TEST2/model\\model-7525.\n",
      "\u001b[32m[1006 17:05:55 @monitor.py:467]\u001b[0m GAN_loss/discrim/accuracy_fake: 0.892\n",
      "\u001b[32m[1006 17:05:55 @monitor.py:467]\u001b[0m GAN_loss/discrim/accuracy_real: 0.17\n",
      "\u001b[32m[1006 17:05:55 @monitor.py:467]\u001b[0m GAN_loss/discrim/loss: 0.63713\n",
      "\u001b[32m[1006 17:05:55 @monitor.py:467]\u001b[0m GAN_loss/gen/final-g-loss: 1.0076\n",
      "\u001b[32m[1006 17:05:55 @monitor.py:467]\u001b[0m GAN_loss/gen/klloss: 0.054596\n",
      "\u001b[32m[1006 17:05:55 @monitor.py:467]\u001b[0m GAN_loss/gen/loss: 0.95299\n",
      "\u001b[32m[1006 17:05:55 @monitor.py:467]\u001b[0m QueueInput/queue_size: 50\n",
      "\u001b[32m[1006 17:05:55 @base.py:275]\u001b[0m Start Epoch 44 ...\n"
     ]
    },
    {
     "name": "stderr",
     "output_type": "stream",
     "text": [
      "\n",
      "100%|###################################################################################|175/175[00:05<00:00,30.39it/s]"
     ]
    },
    {
     "name": "stdout",
     "output_type": "stream",
     "text": [
      "\u001b[32m[1006 17:06:01 @base.py:285]\u001b[0m Epoch 44 (global_step 7700) finished, time:5.76 seconds.\n",
      "\u001b[32m[1006 17:06:01 @saver.py:79]\u001b[0m Model saved to ../output/Chicago/DATGAN_TEST2/model\\model-7700.\n",
      "\u001b[32m[1006 17:06:01 @monitor.py:467]\u001b[0m GAN_loss/discrim/accuracy_fake: 0.914\n",
      "\u001b[32m[1006 17:06:01 @monitor.py:467]\u001b[0m GAN_loss/discrim/accuracy_real: 0.218\n",
      "\u001b[32m[1006 17:06:01 @monitor.py:467]\u001b[0m GAN_loss/discrim/loss: 0.62935\n",
      "\u001b[32m[1006 17:06:01 @monitor.py:467]\u001b[0m GAN_loss/gen/final-g-loss: 0.99886\n",
      "\u001b[32m[1006 17:06:01 @monitor.py:467]\u001b[0m GAN_loss/gen/klloss: 0.042748\n",
      "\u001b[32m[1006 17:06:01 @monitor.py:467]\u001b[0m GAN_loss/gen/loss: 0.95611\n",
      "\u001b[32m[1006 17:06:01 @monitor.py:467]\u001b[0m QueueInput/queue_size: 50\n",
      "\u001b[32m[1006 17:06:01 @base.py:275]\u001b[0m Start Epoch 45 ...\n"
     ]
    },
    {
     "name": "stderr",
     "output_type": "stream",
     "text": [
      "\n",
      "100%|###################################################################################|175/175[00:05<00:00,30.37it/s]"
     ]
    },
    {
     "name": "stdout",
     "output_type": "stream",
     "text": [
      "\u001b[32m[1006 17:06:07 @base.py:285]\u001b[0m Epoch 45 (global_step 7875) finished, time:5.76 seconds.\n",
      "\u001b[32m[1006 17:06:07 @saver.py:79]\u001b[0m Model saved to ../output/Chicago/DATGAN_TEST2/model\\model-7875.\n",
      "\u001b[32m[1006 17:06:07 @monitor.py:467]\u001b[0m GAN_loss/discrim/accuracy_fake: 0.884\n",
      "\u001b[32m[1006 17:06:07 @monitor.py:467]\u001b[0m GAN_loss/discrim/accuracy_real: 0.164\n",
      "\u001b[32m[1006 17:06:07 @monitor.py:467]\u001b[0m GAN_loss/discrim/loss: 0.63595\n",
      "\u001b[32m[1006 17:06:07 @monitor.py:467]\u001b[0m GAN_loss/gen/final-g-loss: 1.0115\n",
      "\u001b[32m[1006 17:06:07 @monitor.py:467]\u001b[0m GAN_loss/gen/klloss: 0.051266\n",
      "\u001b[32m[1006 17:06:07 @monitor.py:467]\u001b[0m GAN_loss/gen/loss: 0.96019\n",
      "\u001b[32m[1006 17:06:07 @monitor.py:467]\u001b[0m QueueInput/queue_size: 50\n",
      "\u001b[32m[1006 17:06:07 @base.py:275]\u001b[0m Start Epoch 46 ...\n"
     ]
    },
    {
     "name": "stderr",
     "output_type": "stream",
     "text": [
      "\n",
      "100%|###################################################################################|175/175[00:05<00:00,29.53it/s]"
     ]
    },
    {
     "name": "stdout",
     "output_type": "stream",
     "text": [
      "\u001b[32m[1006 17:06:13 @base.py:285]\u001b[0m Epoch 46 (global_step 8050) finished, time:5.93 seconds.\n",
      "\u001b[32m[1006 17:06:13 @saver.py:79]\u001b[0m Model saved to ../output/Chicago/DATGAN_TEST2/model\\model-8050.\n",
      "\u001b[32m[1006 17:06:13 @monitor.py:467]\u001b[0m GAN_loss/discrim/accuracy_fake: 0.878\n",
      "\u001b[32m[1006 17:06:13 @monitor.py:467]\u001b[0m GAN_loss/discrim/accuracy_real: 0.152\n",
      "\u001b[32m[1006 17:06:13 @monitor.py:467]\u001b[0m GAN_loss/discrim/loss: 0.64164\n",
      "\u001b[32m[1006 17:06:13 @monitor.py:467]\u001b[0m GAN_loss/gen/final-g-loss: 0.99102\n",
      "\u001b[32m[1006 17:06:13 @monitor.py:467]\u001b[0m GAN_loss/gen/klloss: 0.048687\n",
      "\u001b[32m[1006 17:06:13 @monitor.py:467]\u001b[0m GAN_loss/gen/loss: 0.94233\n",
      "\u001b[32m[1006 17:06:13 @monitor.py:467]\u001b[0m QueueInput/queue_size: 50\n",
      "\u001b[32m[1006 17:06:13 @base.py:275]\u001b[0m Start Epoch 47 ...\n"
     ]
    },
    {
     "name": "stderr",
     "output_type": "stream",
     "text": [
      "\n",
      "100%|###################################################################################|175/175[00:05<00:00,29.97it/s]"
     ]
    },
    {
     "name": "stdout",
     "output_type": "stream",
     "text": [
      "\u001b[32m[1006 17:06:19 @base.py:285]\u001b[0m Epoch 47 (global_step 8225) finished, time:5.84 seconds.\n",
      "\u001b[32m[1006 17:06:19 @saver.py:79]\u001b[0m Model saved to ../output/Chicago/DATGAN_TEST2/model\\model-8225.\n",
      "\u001b[32m[1006 17:06:19 @monitor.py:467]\u001b[0m GAN_loss/discrim/accuracy_fake: 0.908\n",
      "\u001b[32m[1006 17:06:19 @monitor.py:467]\u001b[0m GAN_loss/discrim/accuracy_real: 0.134\n",
      "\u001b[32m[1006 17:06:19 @monitor.py:467]\u001b[0m GAN_loss/discrim/loss: 0.65741\n",
      "\u001b[32m[1006 17:06:19 @monitor.py:467]\u001b[0m GAN_loss/gen/final-g-loss: 1.0352\n",
      "\u001b[32m[1006 17:06:19 @monitor.py:467]\u001b[0m GAN_loss/gen/klloss: 0.072588\n",
      "\u001b[32m[1006 17:06:19 @monitor.py:467]\u001b[0m GAN_loss/gen/loss: 0.96259\n",
      "\u001b[32m[1006 17:06:19 @monitor.py:467]\u001b[0m QueueInput/queue_size: 50\n",
      "\u001b[32m[1006 17:06:19 @base.py:275]\u001b[0m Start Epoch 48 ...\n"
     ]
    },
    {
     "name": "stderr",
     "output_type": "stream",
     "text": [
      "\n",
      "100%|###################################################################################|175/175[00:05<00:00,29.29it/s]"
     ]
    },
    {
     "name": "stdout",
     "output_type": "stream",
     "text": [
      "\u001b[32m[1006 17:06:25 @base.py:285]\u001b[0m Epoch 48 (global_step 8400) finished, time:5.98 seconds.\n",
      "\u001b[32m[1006 17:06:25 @saver.py:79]\u001b[0m Model saved to ../output/Chicago/DATGAN_TEST2/model\\model-8400.\n",
      "\u001b[32m[1006 17:06:25 @monitor.py:467]\u001b[0m GAN_loss/discrim/accuracy_fake: 0.92\n",
      "\u001b[32m[1006 17:06:25 @monitor.py:467]\u001b[0m GAN_loss/discrim/accuracy_real: 0.192\n",
      "\u001b[32m[1006 17:06:25 @monitor.py:467]\u001b[0m GAN_loss/discrim/loss: 0.62806\n",
      "\u001b[32m[1006 17:06:25 @monitor.py:467]\u001b[0m GAN_loss/gen/final-g-loss: 1.0348\n",
      "\u001b[32m[1006 17:06:25 @monitor.py:467]\u001b[0m GAN_loss/gen/klloss: 0.050078\n",
      "\u001b[32m[1006 17:06:25 @monitor.py:467]\u001b[0m GAN_loss/gen/loss: 0.98471\n",
      "\u001b[32m[1006 17:06:25 @monitor.py:467]\u001b[0m QueueInput/queue_size: 50\n",
      "\u001b[32m[1006 17:06:25 @base.py:275]\u001b[0m Start Epoch 49 ...\n"
     ]
    },
    {
     "name": "stderr",
     "output_type": "stream",
     "text": [
      "\n",
      "100%|###################################################################################|175/175[00:05<00:00,30.34it/s]"
     ]
    },
    {
     "name": "stdout",
     "output_type": "stream",
     "text": [
      "\u001b[32m[1006 17:06:31 @base.py:285]\u001b[0m Epoch 49 (global_step 8575) finished, time:5.77 seconds.\n",
      "\u001b[32m[1006 17:06:31 @saver.py:79]\u001b[0m Model saved to ../output/Chicago/DATGAN_TEST2/model\\model-8575.\n",
      "\u001b[32m[1006 17:06:31 @monitor.py:467]\u001b[0m GAN_loss/discrim/accuracy_fake: 0.882\n",
      "\u001b[32m[1006 17:06:31 @monitor.py:467]\u001b[0m GAN_loss/discrim/accuracy_real: 0.208\n",
      "\u001b[32m[1006 17:06:31 @monitor.py:467]\u001b[0m GAN_loss/discrim/loss: 0.63874\n",
      "\u001b[32m[1006 17:06:31 @monitor.py:467]\u001b[0m GAN_loss/gen/final-g-loss: 1.0076\n",
      "\u001b[32m[1006 17:06:31 @monitor.py:467]\u001b[0m GAN_loss/gen/klloss: 0.046813\n",
      "\u001b[32m[1006 17:06:31 @monitor.py:467]\u001b[0m GAN_loss/gen/loss: 0.96079\n",
      "\u001b[32m[1006 17:06:31 @monitor.py:467]\u001b[0m QueueInput/queue_size: 50\n",
      "\u001b[32m[1006 17:06:31 @base.py:275]\u001b[0m Start Epoch 50 ...\n"
     ]
    },
    {
     "name": "stderr",
     "output_type": "stream",
     "text": [
      "\n",
      "100%|###################################################################################|175/175[00:06<00:00,29.07it/s]"
     ]
    },
    {
     "name": "stdout",
     "output_type": "stream",
     "text": [
      "\u001b[32m[1006 17:06:37 @base.py:285]\u001b[0m Epoch 50 (global_step 8750) finished, time:6.02 seconds.\n",
      "\u001b[32m[1006 17:06:37 @saver.py:79]\u001b[0m Model saved to ../output/Chicago/DATGAN_TEST2/model\\model-8750.\n",
      "\u001b[32m[1006 17:06:37 @monitor.py:467]\u001b[0m GAN_loss/discrim/accuracy_fake: 0.904\n",
      "\u001b[32m[1006 17:06:37 @monitor.py:467]\u001b[0m GAN_loss/discrim/accuracy_real: 0.198\n",
      "\u001b[32m[1006 17:06:37 @monitor.py:467]\u001b[0m GAN_loss/discrim/loss: 0.63975\n",
      "\u001b[32m[1006 17:06:37 @monitor.py:467]\u001b[0m GAN_loss/gen/final-g-loss: 1.0733\n",
      "\u001b[32m[1006 17:06:37 @monitor.py:467]\u001b[0m GAN_loss/gen/klloss: 0.082447\n",
      "\u001b[32m[1006 17:06:37 @monitor.py:467]\u001b[0m GAN_loss/gen/loss: 0.9909\n",
      "\u001b[32m[1006 17:06:37 @monitor.py:467]\u001b[0m QueueInput/queue_size: 50\n",
      "\u001b[32m[1006 17:06:37 @base.py:275]\u001b[0m Start Epoch 51 ...\n"
     ]
    },
    {
     "name": "stderr",
     "output_type": "stream",
     "text": [
      "\n",
      "100%|###################################################################################|175/175[00:05<00:00,29.83it/s]"
     ]
    },
    {
     "name": "stdout",
     "output_type": "stream",
     "text": [
      "\u001b[32m[1006 17:06:43 @base.py:285]\u001b[0m Epoch 51 (global_step 8925) finished, time:5.87 seconds.\n",
      "\u001b[32m[1006 17:06:43 @saver.py:79]\u001b[0m Model saved to ../output/Chicago/DATGAN_TEST2/model\\model-8925.\n",
      "\u001b[32m[1006 17:06:43 @monitor.py:467]\u001b[0m GAN_loss/discrim/accuracy_fake: 0.848\n",
      "\u001b[32m[1006 17:06:43 @monitor.py:467]\u001b[0m GAN_loss/discrim/accuracy_real: 0.212\n",
      "\u001b[32m[1006 17:06:43 @monitor.py:467]\u001b[0m GAN_loss/discrim/loss: 0.64469\n",
      "\u001b[32m[1006 17:06:43 @monitor.py:467]\u001b[0m GAN_loss/gen/final-g-loss: 1.0374\n",
      "\u001b[32m[1006 17:06:43 @monitor.py:467]\u001b[0m GAN_loss/gen/klloss: 0.086544\n",
      "\u001b[32m[1006 17:06:43 @monitor.py:467]\u001b[0m GAN_loss/gen/loss: 0.95081\n",
      "\u001b[32m[1006 17:06:43 @monitor.py:467]\u001b[0m QueueInput/queue_size: 50\n",
      "\u001b[32m[1006 17:06:43 @base.py:275]\u001b[0m Start Epoch 52 ...\n"
     ]
    },
    {
     "name": "stderr",
     "output_type": "stream",
     "text": [
      "\n",
      "100%|###################################################################################|175/175[00:05<00:00,30.26it/s]"
     ]
    },
    {
     "name": "stdout",
     "output_type": "stream",
     "text": [
      "\u001b[32m[1006 17:06:48 @base.py:285]\u001b[0m Epoch 52 (global_step 9100) finished, time:5.78 seconds.\n",
      "\u001b[32m[1006 17:06:49 @saver.py:79]\u001b[0m Model saved to ../output/Chicago/DATGAN_TEST2/model\\model-9100.\n",
      "\u001b[32m[1006 17:06:49 @monitor.py:467]\u001b[0m GAN_loss/discrim/accuracy_fake: 0.9\n",
      "\u001b[32m[1006 17:06:49 @monitor.py:467]\u001b[0m GAN_loss/discrim/accuracy_real: 0.19\n",
      "\u001b[32m[1006 17:06:49 @monitor.py:467]\u001b[0m GAN_loss/discrim/loss: 0.63275\n",
      "\u001b[32m[1006 17:06:49 @monitor.py:467]\u001b[0m GAN_loss/gen/final-g-loss: 1.0624\n",
      "\u001b[32m[1006 17:06:49 @monitor.py:467]\u001b[0m GAN_loss/gen/klloss: 0.070244\n",
      "\u001b[32m[1006 17:06:49 @monitor.py:467]\u001b[0m GAN_loss/gen/loss: 0.99212\n",
      "\u001b[32m[1006 17:06:49 @monitor.py:467]\u001b[0m QueueInput/queue_size: 50\n",
      "\u001b[32m[1006 17:06:49 @base.py:275]\u001b[0m Start Epoch 53 ...\n"
     ]
    },
    {
     "name": "stderr",
     "output_type": "stream",
     "text": [
      "\n",
      "100%|###################################################################################|175/175[00:05<00:00,30.17it/s]"
     ]
    },
    {
     "name": "stdout",
     "output_type": "stream",
     "text": [
      "\u001b[32m[1006 17:06:54 @base.py:285]\u001b[0m Epoch 53 (global_step 9275) finished, time:5.8 seconds.\n",
      "\u001b[32m[1006 17:06:54 @saver.py:79]\u001b[0m Model saved to ../output/Chicago/DATGAN_TEST2/model\\model-9275.\n",
      "\u001b[32m[1006 17:06:54 @monitor.py:467]\u001b[0m GAN_loss/discrim/accuracy_fake: 0.856\n",
      "\u001b[32m[1006 17:06:54 @monitor.py:467]\u001b[0m GAN_loss/discrim/accuracy_real: 0.22\n",
      "\u001b[32m[1006 17:06:54 @monitor.py:467]\u001b[0m GAN_loss/discrim/loss: 0.64529\n",
      "\u001b[32m[1006 17:06:54 @monitor.py:467]\u001b[0m GAN_loss/gen/final-g-loss: 1.0158\n",
      "\u001b[32m[1006 17:06:54 @monitor.py:467]\u001b[0m GAN_loss/gen/klloss: 0.061279\n",
      "\u001b[32m[1006 17:06:54 @monitor.py:467]\u001b[0m GAN_loss/gen/loss: 0.95452\n",
      "\u001b[32m[1006 17:06:54 @monitor.py:467]\u001b[0m QueueInput/queue_size: 50\n",
      "\u001b[32m[1006 17:06:54 @base.py:275]\u001b[0m Start Epoch 54 ...\n"
     ]
    },
    {
     "name": "stderr",
     "output_type": "stream",
     "text": [
      "\n",
      "100%|###################################################################################|175/175[00:05<00:00,30.37it/s]"
     ]
    },
    {
     "name": "stdout",
     "output_type": "stream",
     "text": [
      "\u001b[32m[1006 17:07:00 @base.py:285]\u001b[0m Epoch 54 (global_step 9450) finished, time:5.76 seconds.\n",
      "\u001b[32m[1006 17:07:00 @saver.py:79]\u001b[0m Model saved to ../output/Chicago/DATGAN_TEST2/model\\model-9450.\n",
      "\u001b[32m[1006 17:07:00 @monitor.py:467]\u001b[0m GAN_loss/discrim/accuracy_fake: 0.866\n",
      "\u001b[32m[1006 17:07:00 @monitor.py:467]\u001b[0m GAN_loss/discrim/accuracy_real: 0.202\n",
      "\u001b[32m[1006 17:07:00 @monitor.py:467]\u001b[0m GAN_loss/discrim/loss: 0.64374\n",
      "\u001b[32m[1006 17:07:00 @monitor.py:467]\u001b[0m GAN_loss/gen/final-g-loss: 1.039\n",
      "\u001b[32m[1006 17:07:00 @monitor.py:467]\u001b[0m GAN_loss/gen/klloss: 0.085144\n",
      "\u001b[32m[1006 17:07:00 @monitor.py:467]\u001b[0m GAN_loss/gen/loss: 0.95381\n",
      "\u001b[32m[1006 17:07:00 @monitor.py:467]\u001b[0m QueueInput/queue_size: 50\n",
      "\u001b[32m[1006 17:07:00 @base.py:275]\u001b[0m Start Epoch 55 ...\n"
     ]
    },
    {
     "name": "stderr",
     "output_type": "stream",
     "text": [
      "\n",
      "100%|###################################################################################|175/175[00:05<00:00,30.08it/s]"
     ]
    },
    {
     "name": "stdout",
     "output_type": "stream",
     "text": [
      "\u001b[32m[1006 17:07:06 @base.py:285]\u001b[0m Epoch 55 (global_step 9625) finished, time:5.82 seconds.\n",
      "\u001b[32m[1006 17:07:06 @saver.py:79]\u001b[0m Model saved to ../output/Chicago/DATGAN_TEST2/model\\model-9625.\n",
      "\u001b[32m[1006 17:07:06 @monitor.py:467]\u001b[0m GAN_loss/discrim/accuracy_fake: 0.888\n",
      "\u001b[32m[1006 17:07:06 @monitor.py:467]\u001b[0m GAN_loss/discrim/accuracy_real: 0.216\n",
      "\u001b[32m[1006 17:07:06 @monitor.py:467]\u001b[0m GAN_loss/discrim/loss: 0.6315\n",
      "\u001b[32m[1006 17:07:06 @monitor.py:467]\u001b[0m GAN_loss/gen/final-g-loss: 1.0943\n",
      "\u001b[32m[1006 17:07:06 @monitor.py:467]\u001b[0m GAN_loss/gen/klloss: 0.10934\n",
      "\u001b[32m[1006 17:07:06 @monitor.py:467]\u001b[0m GAN_loss/gen/loss: 0.98499\n",
      "\u001b[32m[1006 17:07:06 @monitor.py:467]\u001b[0m QueueInput/queue_size: 50\n",
      "\u001b[32m[1006 17:07:06 @base.py:275]\u001b[0m Start Epoch 56 ...\n"
     ]
    },
    {
     "name": "stderr",
     "output_type": "stream",
     "text": [
      "\n",
      "100%|###################################################################################|175/175[00:05<00:00,30.34it/s]"
     ]
    },
    {
     "name": "stdout",
     "output_type": "stream",
     "text": [
      "\u001b[32m[1006 17:07:12 @base.py:285]\u001b[0m Epoch 56 (global_step 9800) finished, time:5.77 seconds.\n",
      "\u001b[32m[1006 17:07:12 @saver.py:79]\u001b[0m Model saved to ../output/Chicago/DATGAN_TEST2/model\\model-9800.\n",
      "\u001b[32m[1006 17:07:12 @monitor.py:467]\u001b[0m GAN_loss/discrim/accuracy_fake: 0.858\n",
      "\u001b[32m[1006 17:07:12 @monitor.py:467]\u001b[0m GAN_loss/discrim/accuracy_real: 0.204\n",
      "\u001b[32m[1006 17:07:12 @monitor.py:467]\u001b[0m GAN_loss/discrim/loss: 0.64111\n",
      "\u001b[32m[1006 17:07:12 @monitor.py:467]\u001b[0m GAN_loss/gen/final-g-loss: 1.0544\n",
      "\u001b[32m[1006 17:07:12 @monitor.py:467]\u001b[0m GAN_loss/gen/klloss: 0.083079\n",
      "\u001b[32m[1006 17:07:12 @monitor.py:467]\u001b[0m GAN_loss/gen/loss: 0.97129\n",
      "\u001b[32m[1006 17:07:12 @monitor.py:467]\u001b[0m QueueInput/queue_size: 50\n",
      "\u001b[32m[1006 17:07:12 @base.py:275]\u001b[0m Start Epoch 57 ...\n"
     ]
    },
    {
     "name": "stderr",
     "output_type": "stream",
     "text": [
      "\n",
      "100%|###################################################################################|175/175[00:05<00:00,30.57it/s]"
     ]
    },
    {
     "name": "stdout",
     "output_type": "stream",
     "text": [
      "\u001b[32m[1006 17:07:18 @base.py:285]\u001b[0m Epoch 57 (global_step 9975) finished, time:5.72 seconds.\n",
      "\u001b[32m[1006 17:07:18 @saver.py:79]\u001b[0m Model saved to ../output/Chicago/DATGAN_TEST2/model\\model-9975.\n",
      "\u001b[32m[1006 17:07:18 @monitor.py:467]\u001b[0m GAN_loss/discrim/accuracy_fake: 0.868\n",
      "\u001b[32m[1006 17:07:18 @monitor.py:467]\u001b[0m GAN_loss/discrim/accuracy_real: 0.192\n",
      "\u001b[32m[1006 17:07:18 @monitor.py:467]\u001b[0m GAN_loss/discrim/loss: 0.64139\n",
      "\u001b[32m[1006 17:07:18 @monitor.py:467]\u001b[0m GAN_loss/gen/final-g-loss: 1.028\n",
      "\u001b[32m[1006 17:07:18 @monitor.py:467]\u001b[0m GAN_loss/gen/klloss: 0.060148\n",
      "\u001b[32m[1006 17:07:18 @monitor.py:467]\u001b[0m GAN_loss/gen/loss: 0.96784\n",
      "\u001b[32m[1006 17:07:18 @monitor.py:467]\u001b[0m QueueInput/queue_size: 50\n",
      "\u001b[32m[1006 17:07:18 @base.py:275]\u001b[0m Start Epoch 58 ...\n"
     ]
    },
    {
     "name": "stderr",
     "output_type": "stream",
     "text": [
      "\n",
      "100%|###################################################################################|175/175[00:05<00:00,29.95it/s]"
     ]
    },
    {
     "name": "stdout",
     "output_type": "stream",
     "text": [
      "\u001b[32m[1006 17:07:24 @base.py:285]\u001b[0m Epoch 58 (global_step 10150) finished, time:5.84 seconds.\n",
      "\u001b[32m[1006 17:07:24 @saver.py:79]\u001b[0m Model saved to ../output/Chicago/DATGAN_TEST2/model\\model-10150.\n",
      "\u001b[32m[1006 17:07:24 @monitor.py:467]\u001b[0m GAN_loss/discrim/accuracy_fake: 0.866\n",
      "\u001b[32m[1006 17:07:24 @monitor.py:467]\u001b[0m GAN_loss/discrim/accuracy_real: 0.212\n",
      "\u001b[32m[1006 17:07:24 @monitor.py:467]\u001b[0m GAN_loss/discrim/loss: 0.64069\n",
      "\u001b[32m[1006 17:07:24 @monitor.py:467]\u001b[0m GAN_loss/gen/final-g-loss: 1.0387\n",
      "\u001b[32m[1006 17:07:24 @monitor.py:467]\u001b[0m GAN_loss/gen/klloss: 0.061841\n",
      "\u001b[32m[1006 17:07:24 @monitor.py:467]\u001b[0m GAN_loss/gen/loss: 0.9769\n",
      "\u001b[32m[1006 17:07:24 @monitor.py:467]\u001b[0m QueueInput/queue_size: 50\n",
      "\u001b[32m[1006 17:07:24 @base.py:275]\u001b[0m Start Epoch 59 ...\n"
     ]
    },
    {
     "name": "stderr",
     "output_type": "stream",
     "text": [
      "\n",
      "100%|###################################################################################|175/175[00:05<00:00,30.00it/s]"
     ]
    },
    {
     "name": "stdout",
     "output_type": "stream",
     "text": [
      "\u001b[32m[1006 17:07:30 @base.py:285]\u001b[0m Epoch 59 (global_step 10325) finished, time:5.83 seconds.\n",
      "\u001b[32m[1006 17:07:30 @saver.py:79]\u001b[0m Model saved to ../output/Chicago/DATGAN_TEST2/model\\model-10325.\n",
      "\u001b[32m[1006 17:07:30 @monitor.py:467]\u001b[0m GAN_loss/discrim/accuracy_fake: 0.856\n",
      "\u001b[32m[1006 17:07:30 @monitor.py:467]\u001b[0m GAN_loss/discrim/accuracy_real: 0.228\n",
      "\u001b[32m[1006 17:07:30 @monitor.py:467]\u001b[0m GAN_loss/discrim/loss: 0.63976\n",
      "\u001b[32m[1006 17:07:30 @monitor.py:467]\u001b[0m GAN_loss/gen/final-g-loss: 1.024\n",
      "\u001b[32m[1006 17:07:30 @monitor.py:467]\u001b[0m GAN_loss/gen/klloss: 0.06646\n",
      "\u001b[32m[1006 17:07:30 @monitor.py:467]\u001b[0m GAN_loss/gen/loss: 0.95755\n",
      "\u001b[32m[1006 17:07:30 @monitor.py:467]\u001b[0m QueueInput/queue_size: 50\n",
      "\u001b[32m[1006 17:07:30 @base.py:275]\u001b[0m Start Epoch 60 ...\n"
     ]
    },
    {
     "name": "stderr",
     "output_type": "stream",
     "text": [
      "\n",
      "100%|###################################################################################|175/175[00:05<00:00,29.89it/s]"
     ]
    },
    {
     "name": "stdout",
     "output_type": "stream",
     "text": [
      "\u001b[32m[1006 17:07:36 @base.py:285]\u001b[0m Epoch 60 (global_step 10500) finished, time:5.86 seconds.\n"
     ]
    },
    {
     "name": "stderr",
     "output_type": "stream",
     "text": [
      "\n"
     ]
    },
    {
     "name": "stdout",
     "output_type": "stream",
     "text": [
      "\u001b[32m[1006 17:07:36 @saver.py:79]\u001b[0m Model saved to ../output/Chicago/DATGAN_TEST2/model\\model-10500.\n",
      "\u001b[32m[1006 17:07:36 @monitor.py:467]\u001b[0m GAN_loss/discrim/accuracy_fake: 0.862\n",
      "\u001b[32m[1006 17:07:36 @monitor.py:467]\u001b[0m GAN_loss/discrim/accuracy_real: 0.188\n",
      "\u001b[32m[1006 17:07:36 @monitor.py:467]\u001b[0m GAN_loss/discrim/loss: 0.64523\n",
      "\u001b[32m[1006 17:07:36 @monitor.py:467]\u001b[0m GAN_loss/gen/final-g-loss: 1.0078\n",
      "\u001b[32m[1006 17:07:36 @monitor.py:467]\u001b[0m GAN_loss/gen/klloss: 0.04159\n",
      "\u001b[32m[1006 17:07:36 @monitor.py:467]\u001b[0m GAN_loss/gen/loss: 0.96619\n",
      "\u001b[32m[1006 17:07:36 @monitor.py:467]\u001b[0m QueueInput/queue_size: 50\n",
      "\u001b[32m[1006 17:07:36 @base.py:275]\u001b[0m Start Epoch 61 ...\n"
     ]
    },
    {
     "name": "stderr",
     "output_type": "stream",
     "text": [
      "100%|###################################################################################|175/175[00:05<00:00,30.14it/s]"
     ]
    },
    {
     "name": "stdout",
     "output_type": "stream",
     "text": [
      "\u001b[32m[1006 17:07:42 @base.py:285]\u001b[0m Epoch 61 (global_step 10675) finished, time:5.81 seconds.\n",
      "\u001b[32m[1006 17:07:42 @saver.py:79]\u001b[0m Model saved to ../output/Chicago/DATGAN_TEST2/model\\model-10675.\n",
      "\u001b[32m[1006 17:07:42 @monitor.py:467]\u001b[0m GAN_loss/discrim/accuracy_fake: 0.864\n",
      "\u001b[32m[1006 17:07:42 @monitor.py:467]\u001b[0m GAN_loss/discrim/accuracy_real: 0.228\n",
      "\u001b[32m[1006 17:07:42 @monitor.py:467]\u001b[0m GAN_loss/discrim/loss: 0.6345\n",
      "\u001b[32m[1006 17:07:42 @monitor.py:467]\u001b[0m GAN_loss/gen/final-g-loss: 1.0341\n",
      "\u001b[32m[1006 17:07:42 @monitor.py:467]\u001b[0m GAN_loss/gen/klloss: 0.065854\n",
      "\u001b[32m[1006 17:07:42 @monitor.py:467]\u001b[0m GAN_loss/gen/loss: 0.96829\n",
      "\u001b[32m[1006 17:07:42 @monitor.py:467]\u001b[0m QueueInput/queue_size: 50\n",
      "\u001b[32m[1006 17:07:42 @base.py:275]\u001b[0m Start Epoch 62 ...\n"
     ]
    },
    {
     "name": "stderr",
     "output_type": "stream",
     "text": [
      "\n",
      "100%|###################################################################################|175/175[00:05<00:00,29.57it/s]"
     ]
    },
    {
     "name": "stdout",
     "output_type": "stream",
     "text": [
      "\u001b[32m[1006 17:07:48 @base.py:285]\u001b[0m Epoch 62 (global_step 10850) finished, time:5.92 seconds.\n",
      "\u001b[32m[1006 17:07:48 @saver.py:79]\u001b[0m Model saved to ../output/Chicago/DATGAN_TEST2/model\\model-10850.\n",
      "\u001b[32m[1006 17:07:48 @monitor.py:467]\u001b[0m GAN_loss/discrim/accuracy_fake: 0.86\n",
      "\u001b[32m[1006 17:07:48 @monitor.py:467]\u001b[0m GAN_loss/discrim/accuracy_real: 0.21\n",
      "\u001b[32m[1006 17:07:48 @monitor.py:467]\u001b[0m GAN_loss/discrim/loss: 0.64131\n",
      "\u001b[32m[1006 17:07:48 @monitor.py:467]\u001b[0m GAN_loss/gen/final-g-loss: 1.054\n",
      "\u001b[32m[1006 17:07:48 @monitor.py:467]\u001b[0m GAN_loss/gen/klloss: 0.078015\n",
      "\u001b[32m[1006 17:07:48 @monitor.py:467]\u001b[0m GAN_loss/gen/loss: 0.97599\n",
      "\u001b[32m[1006 17:07:48 @monitor.py:467]\u001b[0m QueueInput/queue_size: 50\n",
      "\u001b[32m[1006 17:07:48 @base.py:275]\u001b[0m Start Epoch 63 ...\n"
     ]
    },
    {
     "name": "stderr",
     "output_type": "stream",
     "text": [
      "\n",
      "100%|###################################################################################|175/175[00:05<00:00,30.16it/s]"
     ]
    },
    {
     "name": "stdout",
     "output_type": "stream",
     "text": [
      "\u001b[32m[1006 17:07:53 @base.py:285]\u001b[0m Epoch 63 (global_step 11025) finished, time:5.8 seconds.\n",
      "\u001b[32m[1006 17:07:54 @saver.py:79]\u001b[0m Model saved to ../output/Chicago/DATGAN_TEST2/model\\model-11025.\n",
      "\u001b[32m[1006 17:07:54 @monitor.py:467]\u001b[0m GAN_loss/discrim/accuracy_fake: 0.874\n",
      "\u001b[32m[1006 17:07:54 @monitor.py:467]\u001b[0m GAN_loss/discrim/accuracy_real: 0.23\n",
      "\u001b[32m[1006 17:07:54 @monitor.py:467]\u001b[0m GAN_loss/discrim/loss: 0.63721\n",
      "\u001b[32m[1006 17:07:54 @monitor.py:467]\u001b[0m GAN_loss/gen/final-g-loss: 1.0324\n",
      "\u001b[32m[1006 17:07:54 @monitor.py:467]\u001b[0m GAN_loss/gen/klloss: 0.055487\n",
      "\u001b[32m[1006 17:07:54 @monitor.py:467]\u001b[0m GAN_loss/gen/loss: 0.97689\n",
      "\u001b[32m[1006 17:07:54 @monitor.py:467]\u001b[0m QueueInput/queue_size: 50\n",
      "\u001b[32m[1006 17:07:54 @base.py:275]\u001b[0m Start Epoch 64 ...\n"
     ]
    },
    {
     "name": "stderr",
     "output_type": "stream",
     "text": [
      "\n",
      "100%|###################################################################################|175/175[00:05<00:00,29.83it/s]"
     ]
    },
    {
     "name": "stdout",
     "output_type": "stream",
     "text": [
      "\u001b[32m[1006 17:07:59 @base.py:285]\u001b[0m Epoch 64 (global_step 11200) finished, time:5.87 seconds.\n"
     ]
    },
    {
     "name": "stderr",
     "output_type": "stream",
     "text": [
      "\n"
     ]
    },
    {
     "name": "stdout",
     "output_type": "stream",
     "text": [
      "\u001b[32m[1006 17:08:00 @saver.py:79]\u001b[0m Model saved to ../output/Chicago/DATGAN_TEST2/model\\model-11200.\n",
      "\u001b[32m[1006 17:08:00 @monitor.py:467]\u001b[0m GAN_loss/discrim/accuracy_fake: 0.848\n",
      "\u001b[32m[1006 17:08:00 @monitor.py:467]\u001b[0m GAN_loss/discrim/accuracy_real: 0.19\n",
      "\u001b[32m[1006 17:08:00 @monitor.py:467]\u001b[0m GAN_loss/discrim/loss: 0.64599\n",
      "\u001b[32m[1006 17:08:00 @monitor.py:467]\u001b[0m GAN_loss/gen/final-g-loss: 1.026\n",
      "\u001b[32m[1006 17:08:00 @monitor.py:467]\u001b[0m GAN_loss/gen/klloss: 0.047739\n",
      "\u001b[32m[1006 17:08:00 @monitor.py:467]\u001b[0m GAN_loss/gen/loss: 0.97824\n",
      "\u001b[32m[1006 17:08:00 @monitor.py:467]\u001b[0m QueueInput/queue_size: 50\n",
      "\u001b[32m[1006 17:08:00 @base.py:275]\u001b[0m Start Epoch 65 ...\n"
     ]
    },
    {
     "name": "stderr",
     "output_type": "stream",
     "text": [
      "100%|###################################################################################|175/175[00:05<00:00,30.46it/s]"
     ]
    },
    {
     "name": "stdout",
     "output_type": "stream",
     "text": [
      "\u001b[32m[1006 17:08:05 @base.py:285]\u001b[0m Epoch 65 (global_step 11375) finished, time:5.75 seconds.\n",
      "\u001b[32m[1006 17:08:05 @saver.py:79]\u001b[0m Model saved to ../output/Chicago/DATGAN_TEST2/model\\model-11375.\n",
      "\u001b[32m[1006 17:08:05 @monitor.py:467]\u001b[0m GAN_loss/discrim/accuracy_fake: 0.868\n",
      "\u001b[32m[1006 17:08:05 @monitor.py:467]\u001b[0m GAN_loss/discrim/accuracy_real: 0.222\n",
      "\u001b[32m[1006 17:08:05 @monitor.py:467]\u001b[0m GAN_loss/discrim/loss: 0.62709\n",
      "\u001b[32m[1006 17:08:05 @monitor.py:467]\u001b[0m GAN_loss/gen/final-g-loss: 1.0669\n",
      "\u001b[32m[1006 17:08:05 @monitor.py:467]\u001b[0m GAN_loss/gen/klloss: 0.068771\n",
      "\u001b[32m[1006 17:08:05 @monitor.py:467]\u001b[0m GAN_loss/gen/loss: 0.99814\n",
      "\u001b[32m[1006 17:08:05 @monitor.py:467]\u001b[0m QueueInput/queue_size: 50\n",
      "\u001b[32m[1006 17:08:05 @base.py:275]\u001b[0m Start Epoch 66 ...\n"
     ]
    },
    {
     "name": "stderr",
     "output_type": "stream",
     "text": [
      "\n",
      "100%|###################################################################################|175/175[00:05<00:00,30.55it/s]"
     ]
    },
    {
     "name": "stdout",
     "output_type": "stream",
     "text": [
      "\u001b[32m[1006 17:08:11 @base.py:285]\u001b[0m Epoch 66 (global_step 11550) finished, time:5.73 seconds.\n",
      "\u001b[32m[1006 17:08:11 @saver.py:79]\u001b[0m Model saved to ../output/Chicago/DATGAN_TEST2/model\\model-11550.\n",
      "\u001b[32m[1006 17:08:11 @monitor.py:467]\u001b[0m GAN_loss/discrim/accuracy_fake: 0.856\n",
      "\u001b[32m[1006 17:08:11 @monitor.py:467]\u001b[0m GAN_loss/discrim/accuracy_real: 0.214\n",
      "\u001b[32m[1006 17:08:11 @monitor.py:467]\u001b[0m GAN_loss/discrim/loss: 0.64341\n",
      "\u001b[32m[1006 17:08:11 @monitor.py:467]\u001b[0m GAN_loss/gen/final-g-loss: 1.0413\n",
      "\u001b[32m[1006 17:08:11 @monitor.py:467]\u001b[0m GAN_loss/gen/klloss: 0.074535\n",
      "\u001b[32m[1006 17:08:11 @monitor.py:467]\u001b[0m GAN_loss/gen/loss: 0.96679\n",
      "\u001b[32m[1006 17:08:11 @monitor.py:467]\u001b[0m QueueInput/queue_size: 50\n",
      "\u001b[32m[1006 17:08:11 @base.py:275]\u001b[0m Start Epoch 67 ...\n"
     ]
    },
    {
     "name": "stderr",
     "output_type": "stream",
     "text": [
      "\n",
      "100%|###################################################################################|175/175[00:05<00:00,30.62it/s]"
     ]
    },
    {
     "name": "stdout",
     "output_type": "stream",
     "text": [
      "\u001b[32m[1006 17:08:17 @base.py:285]\u001b[0m Epoch 67 (global_step 11725) finished, time:5.72 seconds.\n",
      "\u001b[32m[1006 17:08:17 @saver.py:79]\u001b[0m Model saved to ../output/Chicago/DATGAN_TEST2/model\\model-11725.\n",
      "\u001b[32m[1006 17:08:17 @monitor.py:467]\u001b[0m GAN_loss/discrim/accuracy_fake: 0.872\n",
      "\u001b[32m[1006 17:08:17 @monitor.py:467]\u001b[0m GAN_loss/discrim/accuracy_real: 0.22\n",
      "\u001b[32m[1006 17:08:17 @monitor.py:467]\u001b[0m GAN_loss/discrim/loss: 0.63762\n",
      "\u001b[32m[1006 17:08:17 @monitor.py:467]\u001b[0m GAN_loss/gen/final-g-loss: 1.0172\n",
      "\u001b[32m[1006 17:08:17 @monitor.py:467]\u001b[0m GAN_loss/gen/klloss: 0.046531\n",
      "\u001b[32m[1006 17:08:17 @monitor.py:467]\u001b[0m GAN_loss/gen/loss: 0.97065\n",
      "\u001b[32m[1006 17:08:17 @monitor.py:467]\u001b[0m QueueInput/queue_size: 50\n",
      "\u001b[32m[1006 17:08:17 @base.py:275]\u001b[0m Start Epoch 68 ...\n"
     ]
    },
    {
     "name": "stderr",
     "output_type": "stream",
     "text": [
      "\n",
      "100%|###################################################################################|175/175[00:05<00:00,30.62it/s]"
     ]
    },
    {
     "name": "stdout",
     "output_type": "stream",
     "text": [
      "\u001b[32m[1006 17:08:23 @base.py:285]\u001b[0m Epoch 68 (global_step 11900) finished, time:5.72 seconds.\n",
      "\u001b[32m[1006 17:08:23 @saver.py:79]\u001b[0m Model saved to ../output/Chicago/DATGAN_TEST2/model\\model-11900.\n",
      "\u001b[32m[1006 17:08:23 @monitor.py:467]\u001b[0m GAN_loss/discrim/accuracy_fake: 0.892\n",
      "\u001b[32m[1006 17:08:23 @monitor.py:467]\u001b[0m GAN_loss/discrim/accuracy_real: 0.218\n",
      "\u001b[32m[1006 17:08:23 @monitor.py:467]\u001b[0m GAN_loss/discrim/loss: 0.63415\n",
      "\u001b[32m[1006 17:08:23 @monitor.py:467]\u001b[0m GAN_loss/gen/final-g-loss: 1.0257\n",
      "\u001b[32m[1006 17:08:23 @monitor.py:467]\u001b[0m GAN_loss/gen/klloss: 0.060081\n",
      "\u001b[32m[1006 17:08:23 @monitor.py:467]\u001b[0m GAN_loss/gen/loss: 0.9656\n",
      "\u001b[32m[1006 17:08:23 @monitor.py:467]\u001b[0m QueueInput/queue_size: 50\n",
      "\u001b[32m[1006 17:08:23 @base.py:275]\u001b[0m Start Epoch 69 ...\n"
     ]
    },
    {
     "name": "stderr",
     "output_type": "stream",
     "text": [
      "\n",
      "100%|###################################################################################|175/175[00:05<00:00,29.74it/s]"
     ]
    },
    {
     "name": "stdout",
     "output_type": "stream",
     "text": [
      "\u001b[32m[1006 17:08:29 @base.py:285]\u001b[0m Epoch 69 (global_step 12075) finished, time:5.89 seconds.\n"
     ]
    },
    {
     "name": "stderr",
     "output_type": "stream",
     "text": [
      "\n"
     ]
    },
    {
     "name": "stdout",
     "output_type": "stream",
     "text": [
      "\u001b[32m[1006 17:08:29 @saver.py:79]\u001b[0m Model saved to ../output/Chicago/DATGAN_TEST2/model\\model-12075.\n",
      "\u001b[32m[1006 17:08:29 @monitor.py:467]\u001b[0m GAN_loss/discrim/accuracy_fake: 0.874\n",
      "\u001b[32m[1006 17:08:29 @monitor.py:467]\u001b[0m GAN_loss/discrim/accuracy_real: 0.2\n",
      "\u001b[32m[1006 17:08:29 @monitor.py:467]\u001b[0m GAN_loss/discrim/loss: 0.64119\n",
      "\u001b[32m[1006 17:08:29 @monitor.py:467]\u001b[0m GAN_loss/gen/final-g-loss: 1.0278\n",
      "\u001b[32m[1006 17:08:29 @monitor.py:467]\u001b[0m GAN_loss/gen/klloss: 0.055575\n",
      "\u001b[32m[1006 17:08:29 @monitor.py:467]\u001b[0m GAN_loss/gen/loss: 0.97218\n",
      "\u001b[32m[1006 17:08:29 @monitor.py:467]\u001b[0m QueueInput/queue_size: 50\n",
      "\u001b[32m[1006 17:08:29 @base.py:275]\u001b[0m Start Epoch 70 ...\n"
     ]
    },
    {
     "name": "stderr",
     "output_type": "stream",
     "text": [
      "100%|###################################################################################|175/175[00:05<00:00,30.13it/s]"
     ]
    },
    {
     "name": "stdout",
     "output_type": "stream",
     "text": [
      "\u001b[32m[1006 17:08:35 @base.py:285]\u001b[0m Epoch 70 (global_step 12250) finished, time:5.81 seconds.\n",
      "\u001b[32m[1006 17:08:35 @saver.py:79]\u001b[0m Model saved to ../output/Chicago/DATGAN_TEST2/model\\model-12250.\n",
      "\u001b[32m[1006 17:08:35 @monitor.py:467]\u001b[0m GAN_loss/discrim/accuracy_fake: 0.898\n",
      "\u001b[32m[1006 17:08:35 @monitor.py:467]\u001b[0m GAN_loss/discrim/accuracy_real: 0.222\n",
      "\u001b[32m[1006 17:08:35 @monitor.py:467]\u001b[0m GAN_loss/discrim/loss: 0.63094\n",
      "\u001b[32m[1006 17:08:35 @monitor.py:467]\u001b[0m GAN_loss/gen/final-g-loss: 1.0566\n",
      "\u001b[32m[1006 17:08:35 @monitor.py:467]\u001b[0m GAN_loss/gen/klloss: 0.079481\n",
      "\u001b[32m[1006 17:08:35 @monitor.py:467]\u001b[0m GAN_loss/gen/loss: 0.9771\n",
      "\u001b[32m[1006 17:08:35 @monitor.py:467]\u001b[0m QueueInput/queue_size: 50\n",
      "\u001b[32m[1006 17:08:35 @base.py:275]\u001b[0m Start Epoch 71 ...\n"
     ]
    },
    {
     "name": "stderr",
     "output_type": "stream",
     "text": [
      "\n",
      "100%|###################################################################################|175/175[00:05<00:00,30.33it/s]"
     ]
    },
    {
     "name": "stdout",
     "output_type": "stream",
     "text": [
      "\u001b[32m[1006 17:08:41 @base.py:285]\u001b[0m Epoch 71 (global_step 12425) finished, time:5.77 seconds.\n",
      "\u001b[32m[1006 17:08:41 @saver.py:79]\u001b[0m Model saved to ../output/Chicago/DATGAN_TEST2/model\\model-12425.\n",
      "\u001b[32m[1006 17:08:41 @monitor.py:467]\u001b[0m GAN_loss/discrim/accuracy_fake: 0.874\n",
      "\u001b[32m[1006 17:08:41 @monitor.py:467]\u001b[0m GAN_loss/discrim/accuracy_real: 0.196\n",
      "\u001b[32m[1006 17:08:41 @monitor.py:467]\u001b[0m GAN_loss/discrim/loss: 0.64191\n",
      "\u001b[32m[1006 17:08:41 @monitor.py:467]\u001b[0m GAN_loss/gen/final-g-loss: 1.0314\n",
      "\u001b[32m[1006 17:08:41 @monitor.py:467]\u001b[0m GAN_loss/gen/klloss: 0.057651\n",
      "\u001b[32m[1006 17:08:41 @monitor.py:467]\u001b[0m GAN_loss/gen/loss: 0.97378\n",
      "\u001b[32m[1006 17:08:41 @monitor.py:467]\u001b[0m QueueInput/queue_size: 50\n",
      "\u001b[32m[1006 17:08:41 @base.py:275]\u001b[0m Start Epoch 72 ...\n"
     ]
    },
    {
     "name": "stderr",
     "output_type": "stream",
     "text": [
      "\n",
      "100%|###################################################################################|175/175[00:05<00:00,30.13it/s]"
     ]
    },
    {
     "name": "stdout",
     "output_type": "stream",
     "text": [
      "\u001b[32m[1006 17:08:46 @base.py:285]\u001b[0m Epoch 72 (global_step 12600) finished, time:5.81 seconds.\n",
      "\u001b[32m[1006 17:08:47 @saver.py:79]\u001b[0m Model saved to ../output/Chicago/DATGAN_TEST2/model\\model-12600.\n",
      "\u001b[32m[1006 17:08:47 @monitor.py:467]\u001b[0m GAN_loss/discrim/accuracy_fake: 0.888\n",
      "\u001b[32m[1006 17:08:47 @monitor.py:467]\u001b[0m GAN_loss/discrim/accuracy_real: 0.194\n",
      "\u001b[32m[1006 17:08:47 @monitor.py:467]\u001b[0m GAN_loss/discrim/loss: 0.63611\n",
      "\u001b[32m[1006 17:08:47 @monitor.py:467]\u001b[0m GAN_loss/gen/final-g-loss: 1.0655\n",
      "\u001b[32m[1006 17:08:47 @monitor.py:467]\u001b[0m GAN_loss/gen/klloss: 0.093769\n",
      "\u001b[32m[1006 17:08:47 @monitor.py:467]\u001b[0m GAN_loss/gen/loss: 0.97169\n",
      "\u001b[32m[1006 17:08:47 @monitor.py:467]\u001b[0m QueueInput/queue_size: 50\n",
      "\u001b[32m[1006 17:08:47 @base.py:275]\u001b[0m Start Epoch 73 ...\n"
     ]
    },
    {
     "name": "stderr",
     "output_type": "stream",
     "text": [
      "\n",
      "100%|###################################################################################|175/175[00:06<00:00,29.15it/s]"
     ]
    },
    {
     "name": "stdout",
     "output_type": "stream",
     "text": [
      "\u001b[32m[1006 17:08:53 @base.py:285]\u001b[0m Epoch 73 (global_step 12775) finished, time:6 seconds.\n",
      "\u001b[32m[1006 17:08:53 @saver.py:79]\u001b[0m Model saved to ../output/Chicago/DATGAN_TEST2/model\\model-12775.\n",
      "\u001b[32m[1006 17:08:53 @monitor.py:467]\u001b[0m GAN_loss/discrim/accuracy_fake: 0.884\n",
      "\u001b[32m[1006 17:08:53 @monitor.py:467]\u001b[0m GAN_loss/discrim/accuracy_real: 0.182\n",
      "\u001b[32m[1006 17:08:53 @monitor.py:467]\u001b[0m GAN_loss/discrim/loss: 0.63683\n",
      "\u001b[32m[1006 17:08:53 @monitor.py:467]\u001b[0m GAN_loss/gen/final-g-loss: 1.0144\n",
      "\u001b[32m[1006 17:08:53 @monitor.py:467]\u001b[0m GAN_loss/gen/klloss: 0.043839\n",
      "\u001b[32m[1006 17:08:53 @monitor.py:467]\u001b[0m GAN_loss/gen/loss: 0.97053\n",
      "\u001b[32m[1006 17:08:53 @monitor.py:467]\u001b[0m QueueInput/queue_size: 50\n",
      "\u001b[32m[1006 17:08:53 @base.py:275]\u001b[0m Start Epoch 74 ...\n"
     ]
    },
    {
     "name": "stderr",
     "output_type": "stream",
     "text": [
      "\n",
      "100%|###################################################################################|175/175[00:05<00:00,29.90it/s]"
     ]
    },
    {
     "name": "stdout",
     "output_type": "stream",
     "text": [
      "\u001b[32m[1006 17:08:59 @base.py:285]\u001b[0m Epoch 74 (global_step 12950) finished, time:5.85 seconds.\n",
      "\u001b[32m[1006 17:08:59 @saver.py:79]\u001b[0m Model saved to ../output/Chicago/DATGAN_TEST2/model\\model-12950.\n",
      "\u001b[32m[1006 17:08:59 @monitor.py:467]\u001b[0m GAN_loss/discrim/accuracy_fake: 0.888\n",
      "\u001b[32m[1006 17:08:59 @monitor.py:467]\u001b[0m GAN_loss/discrim/accuracy_real: 0.182\n",
      "\u001b[32m[1006 17:08:59 @monitor.py:467]\u001b[0m GAN_loss/discrim/loss: 0.64147\n",
      "\u001b[32m[1006 17:08:59 @monitor.py:467]\u001b[0m GAN_loss/gen/final-g-loss: 1.0269\n",
      "\u001b[32m[1006 17:08:59 @monitor.py:467]\u001b[0m GAN_loss/gen/klloss: 0.0646\n",
      "\u001b[32m[1006 17:08:59 @monitor.py:467]\u001b[0m GAN_loss/gen/loss: 0.96233\n",
      "\u001b[32m[1006 17:08:59 @monitor.py:467]\u001b[0m QueueInput/queue_size: 50\n",
      "\u001b[32m[1006 17:08:59 @base.py:275]\u001b[0m Start Epoch 75 ...\n"
     ]
    },
    {
     "name": "stderr",
     "output_type": "stream",
     "text": [
      "\n",
      "100%|###################################################################################|175/175[00:05<00:00,30.20it/s]"
     ]
    },
    {
     "name": "stdout",
     "output_type": "stream",
     "text": [
      "\u001b[32m[1006 17:09:04 @base.py:285]\u001b[0m Epoch 75 (global_step 13125) finished, time:5.8 seconds.\n",
      "\u001b[32m[1006 17:09:04 @saver.py:79]\u001b[0m Model saved to ../output/Chicago/DATGAN_TEST2/model\\model-13125.\n",
      "\u001b[32m[1006 17:09:05 @monitor.py:467]\u001b[0m GAN_loss/discrim/accuracy_fake: 0.882\n",
      "\u001b[32m[1006 17:09:05 @monitor.py:467]\u001b[0m GAN_loss/discrim/accuracy_real: 0.172\n",
      "\u001b[32m[1006 17:09:05 @monitor.py:467]\u001b[0m GAN_loss/discrim/loss: 0.64189\n",
      "\u001b[32m[1006 17:09:05 @monitor.py:467]\u001b[0m GAN_loss/gen/final-g-loss: 1.0209\n",
      "\u001b[32m[1006 17:09:05 @monitor.py:467]\u001b[0m GAN_loss/gen/klloss: 0.054855\n",
      "\u001b[32m[1006 17:09:05 @monitor.py:467]\u001b[0m GAN_loss/gen/loss: 0.96607\n",
      "\u001b[32m[1006 17:09:05 @monitor.py:467]\u001b[0m QueueInput/queue_size: 50\n",
      "\u001b[32m[1006 17:09:05 @base.py:275]\u001b[0m Start Epoch 76 ...\n"
     ]
    },
    {
     "name": "stderr",
     "output_type": "stream",
     "text": [
      "\n",
      "100%|###################################################################################|175/175[00:05<00:00,30.39it/s]"
     ]
    },
    {
     "name": "stdout",
     "output_type": "stream",
     "text": [
      "\u001b[32m[1006 17:09:10 @base.py:285]\u001b[0m Epoch 76 (global_step 13300) finished, time:5.76 seconds.\n",
      "\u001b[32m[1006 17:09:10 @saver.py:79]\u001b[0m Model saved to ../output/Chicago/DATGAN_TEST2/model\\model-13300.\n",
      "\u001b[32m[1006 17:09:10 @monitor.py:467]\u001b[0m GAN_loss/discrim/accuracy_fake: 0.884\n",
      "\u001b[32m[1006 17:09:10 @monitor.py:467]\u001b[0m GAN_loss/discrim/accuracy_real: 0.154\n",
      "\u001b[32m[1006 17:09:10 @monitor.py:467]\u001b[0m GAN_loss/discrim/loss: 0.64904\n",
      "\u001b[32m[1006 17:09:10 @monitor.py:467]\u001b[0m GAN_loss/gen/final-g-loss: 1.0169\n",
      "\u001b[32m[1006 17:09:10 @monitor.py:467]\u001b[0m GAN_loss/gen/klloss: 0.065381\n",
      "\u001b[32m[1006 17:09:10 @monitor.py:467]\u001b[0m GAN_loss/gen/loss: 0.95155\n",
      "\u001b[32m[1006 17:09:10 @monitor.py:467]\u001b[0m QueueInput/queue_size: 50\n",
      "\u001b[32m[1006 17:09:10 @base.py:275]\u001b[0m Start Epoch 77 ...\n"
     ]
    },
    {
     "name": "stderr",
     "output_type": "stream",
     "text": [
      "\n",
      "100%|###################################################################################|175/175[00:05<00:00,29.75it/s]"
     ]
    },
    {
     "name": "stdout",
     "output_type": "stream",
     "text": [
      "\u001b[32m[1006 17:09:16 @base.py:285]\u001b[0m Epoch 77 (global_step 13475) finished, time:5.88 seconds.\n",
      "\u001b[32m[1006 17:09:16 @saver.py:79]\u001b[0m Model saved to ../output/Chicago/DATGAN_TEST2/model\\model-13475.\n",
      "\u001b[32m[1006 17:09:16 @monitor.py:467]\u001b[0m GAN_loss/discrim/accuracy_fake: 0.902\n",
      "\u001b[32m[1006 17:09:16 @monitor.py:467]\u001b[0m GAN_loss/discrim/accuracy_real: 0.162\n",
      "\u001b[32m[1006 17:09:16 @monitor.py:467]\u001b[0m GAN_loss/discrim/loss: 0.64197\n",
      "\u001b[32m[1006 17:09:16 @monitor.py:467]\u001b[0m GAN_loss/gen/final-g-loss: 1.0551\n",
      "\u001b[32m[1006 17:09:16 @monitor.py:467]\u001b[0m GAN_loss/gen/klloss: 0.087655\n",
      "\u001b[32m[1006 17:09:16 @monitor.py:467]\u001b[0m GAN_loss/gen/loss: 0.96746\n",
      "\u001b[32m[1006 17:09:16 @monitor.py:467]\u001b[0m QueueInput/queue_size: 50\n",
      "\u001b[32m[1006 17:09:16 @base.py:275]\u001b[0m Start Epoch 78 ...\n"
     ]
    },
    {
     "name": "stderr",
     "output_type": "stream",
     "text": [
      "\n",
      "100%|###################################################################################|175/175[00:05<00:00,29.73it/s]"
     ]
    },
    {
     "name": "stdout",
     "output_type": "stream",
     "text": [
      "\u001b[32m[1006 17:09:22 @base.py:285]\u001b[0m Epoch 78 (global_step 13650) finished, time:5.89 seconds.\n",
      "\u001b[32m[1006 17:09:22 @saver.py:79]\u001b[0m Model saved to ../output/Chicago/DATGAN_TEST2/model\\model-13650.\n",
      "\u001b[32m[1006 17:09:22 @monitor.py:467]\u001b[0m GAN_loss/discrim/accuracy_fake: 0.9\n"
     ]
    },
    {
     "name": "stderr",
     "output_type": "stream",
     "text": [
      "\n"
     ]
    },
    {
     "name": "stdout",
     "output_type": "stream",
     "text": [
      "\u001b[32m[1006 17:09:22 @monitor.py:467]\u001b[0m GAN_loss/discrim/accuracy_real: 0.17\n",
      "\u001b[32m[1006 17:09:22 @monitor.py:467]\u001b[0m GAN_loss/discrim/loss: 0.64442\n",
      "\u001b[32m[1006 17:09:22 @monitor.py:467]\u001b[0m GAN_loss/gen/final-g-loss: 1.0074\n",
      "\u001b[32m[1006 17:09:22 @monitor.py:467]\u001b[0m GAN_loss/gen/klloss: 0.051444\n",
      "\u001b[32m[1006 17:09:22 @monitor.py:467]\u001b[0m GAN_loss/gen/loss: 0.95595\n",
      "\u001b[32m[1006 17:09:22 @monitor.py:467]\u001b[0m QueueInput/queue_size: 50\n",
      "\u001b[32m[1006 17:09:22 @base.py:275]\u001b[0m Start Epoch 79 ...\n"
     ]
    },
    {
     "name": "stderr",
     "output_type": "stream",
     "text": [
      "100%|###################################################################################|175/175[00:05<00:00,29.27it/s]"
     ]
    },
    {
     "name": "stdout",
     "output_type": "stream",
     "text": [
      "\u001b[32m[1006 17:09:28 @base.py:285]\u001b[0m Epoch 79 (global_step 13825) finished, time:5.98 seconds.\n",
      "\u001b[32m[1006 17:09:28 @saver.py:79]\u001b[0m Model saved to ../output/Chicago/DATGAN_TEST2/model\\model-13825.\n",
      "\u001b[32m[1006 17:09:28 @monitor.py:467]\u001b[0m GAN_loss/discrim/accuracy_fake: 0.92\n",
      "\u001b[32m[1006 17:09:28 @monitor.py:467]\u001b[0m GAN_loss/discrim/accuracy_real: 0.118\n",
      "\u001b[32m[1006 17:09:28 @monitor.py:467]\u001b[0m GAN_loss/discrim/loss: 0.64579\n",
      "\u001b[32m[1006 17:09:28 @monitor.py:467]\u001b[0m GAN_loss/gen/final-g-loss: 1.0354\n",
      "\u001b[32m[1006 17:09:28 @monitor.py:467]\u001b[0m GAN_loss/gen/klloss: 0.066354\n",
      "\u001b[32m[1006 17:09:28 @monitor.py:467]\u001b[0m GAN_loss/gen/loss: 0.96905\n",
      "\u001b[32m[1006 17:09:28 @monitor.py:467]\u001b[0m QueueInput/queue_size: 50\n",
      "\u001b[32m[1006 17:09:28 @base.py:275]\u001b[0m Start Epoch 80 ...\n"
     ]
    },
    {
     "name": "stderr",
     "output_type": "stream",
     "text": [
      "\n",
      "100%|###################################################################################|175/175[00:06<00:00,28.57it/s]"
     ]
    },
    {
     "name": "stdout",
     "output_type": "stream",
     "text": [
      "\u001b[32m[1006 17:09:35 @base.py:285]\u001b[0m Epoch 80 (global_step 14000) finished, time:6.13 seconds.\n",
      "\u001b[32m[1006 17:09:35 @saver.py:79]\u001b[0m Model saved to ../output/Chicago/DATGAN_TEST2/model\\model-14000.\n",
      "\u001b[32m[1006 17:09:35 @monitor.py:467]\u001b[0m GAN_loss/discrim/accuracy_fake: 0.906\n",
      "\u001b[32m[1006 17:09:35 @monitor.py:467]\u001b[0m GAN_loss/discrim/accuracy_real: 0.17\n",
      "\u001b[32m[1006 17:09:35 @monitor.py:467]\u001b[0m GAN_loss/discrim/loss: 0.63909\n",
      "\u001b[32m[1006 17:09:35 @monitor.py:467]\u001b[0m GAN_loss/gen/final-g-loss: 1.0389\n",
      "\u001b[32m[1006 17:09:35 @monitor.py:467]\u001b[0m GAN_loss/gen/klloss: 0.076491\n",
      "\u001b[32m[1006 17:09:35 @monitor.py:467]\u001b[0m GAN_loss/gen/loss: 0.9624\n",
      "\u001b[32m[1006 17:09:35 @monitor.py:467]\u001b[0m QueueInput/queue_size: 50\n",
      "\u001b[32m[1006 17:09:35 @base.py:275]\u001b[0m Start Epoch 81 ...\n"
     ]
    },
    {
     "name": "stderr",
     "output_type": "stream",
     "text": [
      "\n",
      "100%|###################################################################################|175/175[00:05<00:00,30.66it/s]"
     ]
    },
    {
     "name": "stdout",
     "output_type": "stream",
     "text": [
      "\u001b[32m[1006 17:09:40 @base.py:285]\u001b[0m Epoch 81 (global_step 14175) finished, time:5.71 seconds.\n",
      "\u001b[32m[1006 17:09:40 @saver.py:79]\u001b[0m Model saved to ../output/Chicago/DATGAN_TEST2/model\\model-14175.\n",
      "\u001b[32m[1006 17:09:40 @monitor.py:467]\u001b[0m GAN_loss/discrim/accuracy_fake: 0.894\n",
      "\u001b[32m[1006 17:09:40 @monitor.py:467]\u001b[0m GAN_loss/discrim/accuracy_real: 0.166\n",
      "\u001b[32m[1006 17:09:40 @monitor.py:467]\u001b[0m GAN_loss/discrim/loss: 0.64403\n",
      "\u001b[32m[1006 17:09:40 @monitor.py:467]\u001b[0m GAN_loss/gen/final-g-loss: 1.0096\n",
      "\u001b[32m[1006 17:09:40 @monitor.py:467]\u001b[0m GAN_loss/gen/klloss: 0.055858\n",
      "\u001b[32m[1006 17:09:40 @monitor.py:467]\u001b[0m GAN_loss/gen/loss: 0.95372\n",
      "\u001b[32m[1006 17:09:40 @monitor.py:467]\u001b[0m QueueInput/queue_size: 50\n",
      "\u001b[32m[1006 17:09:40 @base.py:275]\u001b[0m Start Epoch 82 ...\n"
     ]
    },
    {
     "name": "stderr",
     "output_type": "stream",
     "text": [
      "\n",
      "100%|###################################################################################|175/175[00:05<00:00,30.18it/s]"
     ]
    },
    {
     "name": "stdout",
     "output_type": "stream",
     "text": [
      "\u001b[32m[1006 17:09:46 @base.py:285]\u001b[0m Epoch 82 (global_step 14350) finished, time:5.8 seconds.\n",
      "\u001b[32m[1006 17:09:46 @saver.py:79]\u001b[0m Model saved to ../output/Chicago/DATGAN_TEST2/model\\model-14350.\n",
      "\u001b[32m[1006 17:09:46 @monitor.py:467]\u001b[0m GAN_loss/discrim/accuracy_fake: 0.876\n",
      "\u001b[32m[1006 17:09:46 @monitor.py:467]\u001b[0m GAN_loss/discrim/accuracy_real: 0.186\n",
      "\u001b[32m[1006 17:09:46 @monitor.py:467]\u001b[0m GAN_loss/discrim/loss: 0.63657\n",
      "\u001b[32m[1006 17:09:46 @monitor.py:467]\u001b[0m GAN_loss/gen/final-g-loss: 1.0318\n",
      "\u001b[32m[1006 17:09:46 @monitor.py:467]\u001b[0m GAN_loss/gen/klloss: 0.068034\n",
      "\u001b[32m[1006 17:09:46 @monitor.py:467]\u001b[0m GAN_loss/gen/loss: 0.96381\n",
      "\u001b[32m[1006 17:09:46 @monitor.py:467]\u001b[0m QueueInput/queue_size: 50\n",
      "\u001b[32m[1006 17:09:46 @base.py:275]\u001b[0m Start Epoch 83 ...\n"
     ]
    },
    {
     "name": "stderr",
     "output_type": "stream",
     "text": [
      "\n",
      "100%|###################################################################################|175/175[00:05<00:00,29.87it/s]"
     ]
    },
    {
     "name": "stdout",
     "output_type": "stream",
     "text": [
      "\u001b[32m[1006 17:09:52 @base.py:285]\u001b[0m Epoch 83 (global_step 14525) finished, time:5.86 seconds.\n",
      "\u001b[32m[1006 17:09:52 @saver.py:79]\u001b[0m Model saved to ../output/Chicago/DATGAN_TEST2/model\\model-14525.\n"
     ]
    },
    {
     "name": "stderr",
     "output_type": "stream",
     "text": [
      "\n"
     ]
    },
    {
     "name": "stdout",
     "output_type": "stream",
     "text": [
      "\u001b[32m[1006 17:09:52 @monitor.py:467]\u001b[0m GAN_loss/discrim/accuracy_fake: 0.916\n",
      "\u001b[32m[1006 17:09:52 @monitor.py:467]\u001b[0m GAN_loss/discrim/accuracy_real: 0.174\n",
      "\u001b[32m[1006 17:09:52 @monitor.py:467]\u001b[0m GAN_loss/discrim/loss: 0.63632\n",
      "\u001b[32m[1006 17:09:52 @monitor.py:467]\u001b[0m GAN_loss/gen/final-g-loss: 1.0245\n",
      "\u001b[32m[1006 17:09:52 @monitor.py:467]\u001b[0m GAN_loss/gen/klloss: 0.054044\n",
      "\u001b[32m[1006 17:09:52 @monitor.py:467]\u001b[0m GAN_loss/gen/loss: 0.97046\n",
      "\u001b[32m[1006 17:09:52 @monitor.py:467]\u001b[0m QueueInput/queue_size: 50\n",
      "\u001b[32m[1006 17:09:52 @base.py:275]\u001b[0m Start Epoch 84 ...\n"
     ]
    },
    {
     "name": "stderr",
     "output_type": "stream",
     "text": [
      "100%|###################################################################################|175/175[00:05<00:00,29.48it/s]"
     ]
    },
    {
     "name": "stdout",
     "output_type": "stream",
     "text": [
      "\u001b[32m[1006 17:09:58 @base.py:285]\u001b[0m Epoch 84 (global_step 14700) finished, time:5.94 seconds.\n",
      "\u001b[32m[1006 17:09:58 @saver.py:79]\u001b[0m Model saved to ../output/Chicago/DATGAN_TEST2/model\\model-14700.\n",
      "\u001b[32m[1006 17:09:58 @monitor.py:467]\u001b[0m GAN_loss/discrim/accuracy_fake: 0.892\n",
      "\u001b[32m[1006 17:09:58 @monitor.py:467]\u001b[0m GAN_loss/discrim/accuracy_real: 0.184\n",
      "\u001b[32m[1006 17:09:58 @monitor.py:467]\u001b[0m GAN_loss/discrim/loss: 0.64298\n",
      "\u001b[32m[1006 17:09:58 @monitor.py:467]\u001b[0m GAN_loss/gen/final-g-loss: 1.0251\n",
      "\u001b[32m[1006 17:09:58 @monitor.py:467]\u001b[0m GAN_loss/gen/klloss: 0.066266\n",
      "\u001b[32m[1006 17:09:58 @monitor.py:467]\u001b[0m GAN_loss/gen/loss: 0.95883\n",
      "\u001b[32m[1006 17:09:58 @monitor.py:467]\u001b[0m QueueInput/queue_size: 50\n",
      "\u001b[32m[1006 17:09:58 @base.py:275]\u001b[0m Start Epoch 85 ...\n"
     ]
    },
    {
     "name": "stderr",
     "output_type": "stream",
     "text": [
      "\n",
      "100%|###################################################################################|175/175[00:06<00:00,29.16it/s]"
     ]
    },
    {
     "name": "stdout",
     "output_type": "stream",
     "text": [
      "\u001b[32m[1006 17:10:04 @base.py:285]\u001b[0m Epoch 85 (global_step 14875) finished, time:6 seconds.\n",
      "\u001b[32m[1006 17:10:04 @saver.py:79]\u001b[0m Model saved to ../output/Chicago/DATGAN_TEST2/model\\model-14875.\n",
      "\u001b[32m[1006 17:10:04 @monitor.py:467]\u001b[0m GAN_loss/discrim/accuracy_fake: 0.872\n",
      "\u001b[32m[1006 17:10:04 @monitor.py:467]\u001b[0m GAN_loss/discrim/accuracy_real: 0.152\n",
      "\u001b[32m[1006 17:10:04 @monitor.py:467]\u001b[0m GAN_loss/discrim/loss: 0.64709\n",
      "\u001b[32m[1006 17:10:04 @monitor.py:467]\u001b[0m GAN_loss/gen/final-g-loss: 1.0109\n",
      "\u001b[32m[1006 17:10:04 @monitor.py:467]\u001b[0m GAN_loss/gen/klloss: 0.061525\n",
      "\u001b[32m[1006 17:10:04 @monitor.py:467]\u001b[0m GAN_loss/gen/loss: 0.94934\n",
      "\u001b[32m[1006 17:10:04 @monitor.py:467]\u001b[0m QueueInput/queue_size: 50\n",
      "\u001b[32m[1006 17:10:04 @base.py:275]\u001b[0m Start Epoch 86 ...\n"
     ]
    },
    {
     "name": "stderr",
     "output_type": "stream",
     "text": [
      "\n",
      "100%|###################################################################################|175/175[00:05<00:00,29.80it/s]"
     ]
    },
    {
     "name": "stdout",
     "output_type": "stream",
     "text": [
      "\u001b[32m[1006 17:10:10 @base.py:285]\u001b[0m Epoch 86 (global_step 15050) finished, time:5.87 seconds.\n",
      "\u001b[32m[1006 17:10:10 @saver.py:79]\u001b[0m Model saved to ../output/Chicago/DATGAN_TEST2/model\\model-15050.\n",
      "\u001b[32m[1006 17:10:10 @monitor.py:467]\u001b[0m GAN_loss/discrim/accuracy_fake: 0.902\n",
      "\u001b[32m[1006 17:10:10 @monitor.py:467]\u001b[0m GAN_loss/discrim/accuracy_real: 0.148\n",
      "\u001b[32m[1006 17:10:10 @monitor.py:467]\u001b[0m GAN_loss/discrim/loss: 0.64091\n",
      "\u001b[32m[1006 17:10:10 @monitor.py:467]\u001b[0m GAN_loss/gen/final-g-loss: 1.0249\n",
      "\u001b[32m[1006 17:10:10 @monitor.py:467]\u001b[0m GAN_loss/gen/klloss: 0.057926\n",
      "\u001b[32m[1006 17:10:10 @monitor.py:467]\u001b[0m GAN_loss/gen/loss: 0.96695\n",
      "\u001b[32m[1006 17:10:10 @monitor.py:467]\u001b[0m QueueInput/queue_size: 50\n",
      "\u001b[32m[1006 17:10:10 @base.py:275]\u001b[0m Start Epoch 87 ...\n"
     ]
    },
    {
     "name": "stderr",
     "output_type": "stream",
     "text": [
      "\n",
      "100%|###################################################################################|175/175[00:05<00:00,29.88it/s]"
     ]
    },
    {
     "name": "stdout",
     "output_type": "stream",
     "text": [
      "\u001b[32m[1006 17:10:16 @base.py:285]\u001b[0m Epoch 87 (global_step 15225) finished, time:5.86 seconds.\n",
      "\u001b[32m[1006 17:10:16 @saver.py:79]\u001b[0m Model saved to ../output/Chicago/DATGAN_TEST2/model\\model-15225.\n"
     ]
    },
    {
     "name": "stderr",
     "output_type": "stream",
     "text": [
      "\n"
     ]
    },
    {
     "name": "stdout",
     "output_type": "stream",
     "text": [
      "\u001b[32m[1006 17:10:16 @monitor.py:467]\u001b[0m GAN_loss/discrim/accuracy_fake: 0.9\n",
      "\u001b[32m[1006 17:10:16 @monitor.py:467]\u001b[0m GAN_loss/discrim/accuracy_real: 0.122\n",
      "\u001b[32m[1006 17:10:16 @monitor.py:467]\u001b[0m GAN_loss/discrim/loss: 0.64212\n",
      "\u001b[32m[1006 17:10:16 @monitor.py:467]\u001b[0m GAN_loss/gen/final-g-loss: 1.0196\n",
      "\u001b[32m[1006 17:10:16 @monitor.py:467]\u001b[0m GAN_loss/gen/klloss: 0.055066\n",
      "\u001b[32m[1006 17:10:16 @monitor.py:467]\u001b[0m GAN_loss/gen/loss: 0.96457\n",
      "\u001b[32m[1006 17:10:16 @monitor.py:467]\u001b[0m QueueInput/queue_size: 50\n",
      "\u001b[32m[1006 17:10:16 @base.py:275]\u001b[0m Start Epoch 88 ...\n"
     ]
    },
    {
     "name": "stderr",
     "output_type": "stream",
     "text": [
      "100%|###################################################################################|175/175[00:05<00:00,29.33it/s]"
     ]
    },
    {
     "name": "stdout",
     "output_type": "stream",
     "text": [
      "\u001b[32m[1006 17:10:22 @base.py:285]\u001b[0m Epoch 88 (global_step 15400) finished, time:5.97 seconds.\n",
      "\u001b[32m[1006 17:10:22 @saver.py:79]\u001b[0m Model saved to ../output/Chicago/DATGAN_TEST2/model\\model-15400.\n",
      "\u001b[32m[1006 17:10:22 @monitor.py:467]\u001b[0m GAN_loss/discrim/accuracy_fake: 0.894\n",
      "\u001b[32m[1006 17:10:22 @monitor.py:467]\u001b[0m GAN_loss/discrim/accuracy_real: 0.158\n",
      "\u001b[32m[1006 17:10:22 @monitor.py:467]\u001b[0m GAN_loss/discrim/loss: 0.64743\n",
      "\u001b[32m[1006 17:10:22 @monitor.py:467]\u001b[0m GAN_loss/gen/final-g-loss: 1.0138\n",
      "\u001b[32m[1006 17:10:23 @monitor.py:467]\u001b[0m GAN_loss/gen/klloss: 0.06235\n",
      "\u001b[32m[1006 17:10:23 @monitor.py:467]\u001b[0m GAN_loss/gen/loss: 0.9514\n",
      "\u001b[32m[1006 17:10:23 @monitor.py:467]\u001b[0m QueueInput/queue_size: 50\n",
      "\u001b[32m[1006 17:10:23 @base.py:275]\u001b[0m Start Epoch 89 ...\n"
     ]
    },
    {
     "name": "stderr",
     "output_type": "stream",
     "text": [
      "\n",
      "100%|###################################################################################|175/175[00:05<00:00,30.38it/s]"
     ]
    },
    {
     "name": "stdout",
     "output_type": "stream",
     "text": [
      "\u001b[32m[1006 17:10:28 @base.py:285]\u001b[0m Epoch 89 (global_step 15575) finished, time:5.76 seconds.\n",
      "\u001b[32m[1006 17:10:28 @saver.py:79]\u001b[0m Model saved to ../output/Chicago/DATGAN_TEST2/model\\model-15575.\n",
      "\u001b[32m[1006 17:10:28 @monitor.py:467]\u001b[0m GAN_loss/discrim/accuracy_fake: 0.882\n",
      "\u001b[32m[1006 17:10:28 @monitor.py:467]\u001b[0m GAN_loss/discrim/accuracy_real: 0.15\n",
      "\u001b[32m[1006 17:10:28 @monitor.py:467]\u001b[0m GAN_loss/discrim/loss: 0.64745\n",
      "\u001b[32m[1006 17:10:28 @monitor.py:467]\u001b[0m GAN_loss/gen/final-g-loss: 0.9706\n",
      "\u001b[32m[1006 17:10:28 @monitor.py:467]\u001b[0m GAN_loss/gen/klloss: 0.034433\n",
      "\u001b[32m[1006 17:10:28 @monitor.py:467]\u001b[0m GAN_loss/gen/loss: 0.93616\n",
      "\u001b[32m[1006 17:10:28 @monitor.py:467]\u001b[0m QueueInput/queue_size: 50\n",
      "\u001b[32m[1006 17:10:28 @base.py:275]\u001b[0m Start Epoch 90 ...\n"
     ]
    },
    {
     "name": "stderr",
     "output_type": "stream",
     "text": [
      "\n",
      "100%|###################################################################################|175/175[00:05<00:00,29.68it/s]"
     ]
    },
    {
     "name": "stdout",
     "output_type": "stream",
     "text": [
      "\u001b[32m[1006 17:10:34 @base.py:285]\u001b[0m Epoch 90 (global_step 15750) finished, time:5.9 seconds.\n"
     ]
    },
    {
     "name": "stderr",
     "output_type": "stream",
     "text": [
      "\n"
     ]
    },
    {
     "name": "stdout",
     "output_type": "stream",
     "text": [
      "\u001b[32m[1006 17:10:34 @saver.py:79]\u001b[0m Model saved to ../output/Chicago/DATGAN_TEST2/model\\model-15750.\n",
      "\u001b[32m[1006 17:10:34 @monitor.py:467]\u001b[0m GAN_loss/discrim/accuracy_fake: 0.898\n",
      "\u001b[32m[1006 17:10:34 @monitor.py:467]\u001b[0m GAN_loss/discrim/accuracy_real: 0.15\n",
      "\u001b[32m[1006 17:10:34 @monitor.py:467]\u001b[0m GAN_loss/discrim/loss: 0.64312\n",
      "\u001b[32m[1006 17:10:34 @monitor.py:467]\u001b[0m GAN_loss/gen/final-g-loss: 1.0231\n",
      "\u001b[32m[1006 17:10:34 @monitor.py:467]\u001b[0m GAN_loss/gen/klloss: 0.066744\n",
      "\u001b[32m[1006 17:10:34 @monitor.py:467]\u001b[0m GAN_loss/gen/loss: 0.95639\n",
      "\u001b[32m[1006 17:10:34 @monitor.py:467]\u001b[0m QueueInput/queue_size: 50\n",
      "\u001b[32m[1006 17:10:34 @base.py:275]\u001b[0m Start Epoch 91 ...\n"
     ]
    },
    {
     "name": "stderr",
     "output_type": "stream",
     "text": [
      "100%|###################################################################################|175/175[00:05<00:00,29.99it/s]"
     ]
    },
    {
     "name": "stdout",
     "output_type": "stream",
     "text": [
      "\u001b[32m[1006 17:10:40 @base.py:285]\u001b[0m Epoch 91 (global_step 15925) finished, time:5.83 seconds.\n"
     ]
    },
    {
     "name": "stderr",
     "output_type": "stream",
     "text": [
      "\n"
     ]
    },
    {
     "name": "stdout",
     "output_type": "stream",
     "text": [
      "\u001b[32m[1006 17:10:40 @saver.py:79]\u001b[0m Model saved to ../output/Chicago/DATGAN_TEST2/model\\model-15925.\n",
      "\u001b[32m[1006 17:10:40 @monitor.py:467]\u001b[0m GAN_loss/discrim/accuracy_fake: 0.916\n",
      "\u001b[32m[1006 17:10:40 @monitor.py:467]\u001b[0m GAN_loss/discrim/accuracy_real: 0.148\n",
      "\u001b[32m[1006 17:10:40 @monitor.py:467]\u001b[0m GAN_loss/discrim/loss: 0.64006\n",
      "\u001b[32m[1006 17:10:40 @monitor.py:467]\u001b[0m GAN_loss/gen/final-g-loss: 1.0183\n",
      "\u001b[32m[1006 17:10:40 @monitor.py:467]\u001b[0m GAN_loss/gen/klloss: 0.053625\n",
      "\u001b[32m[1006 17:10:40 @monitor.py:467]\u001b[0m GAN_loss/gen/loss: 0.96469\n",
      "\u001b[32m[1006 17:10:40 @monitor.py:467]\u001b[0m QueueInput/queue_size: 50\n",
      "\u001b[32m[1006 17:10:40 @base.py:275]\u001b[0m Start Epoch 92 ...\n"
     ]
    },
    {
     "name": "stderr",
     "output_type": "stream",
     "text": [
      "100%|###################################################################################|175/175[00:05<00:00,30.58it/s]"
     ]
    },
    {
     "name": "stdout",
     "output_type": "stream",
     "text": [
      "\u001b[32m[1006 17:10:46 @base.py:285]\u001b[0m Epoch 92 (global_step 16100) finished, time:5.72 seconds.\n",
      "\u001b[32m[1006 17:10:46 @saver.py:79]\u001b[0m Model saved to ../output/Chicago/DATGAN_TEST2/model\\model-16100.\n",
      "\u001b[32m[1006 17:10:46 @monitor.py:467]\u001b[0m GAN_loss/discrim/accuracy_fake: 0.92\n",
      "\u001b[32m[1006 17:10:46 @monitor.py:467]\u001b[0m GAN_loss/discrim/accuracy_real: 0.118\n",
      "\u001b[32m[1006 17:10:46 @monitor.py:467]\u001b[0m GAN_loss/discrim/loss: 0.64461\n",
      "\u001b[32m[1006 17:10:46 @monitor.py:467]\u001b[0m GAN_loss/gen/final-g-loss: 1.0113\n",
      "\u001b[32m[1006 17:10:46 @monitor.py:467]\u001b[0m GAN_loss/gen/klloss: 0.053756\n",
      "\u001b[32m[1006 17:10:46 @monitor.py:467]\u001b[0m GAN_loss/gen/loss: 0.95757\n",
      "\u001b[32m[1006 17:10:46 @monitor.py:467]\u001b[0m QueueInput/queue_size: 50\n",
      "\u001b[32m[1006 17:10:46 @base.py:275]\u001b[0m Start Epoch 93 ...\n"
     ]
    },
    {
     "name": "stderr",
     "output_type": "stream",
     "text": [
      "\n",
      "100%|###################################################################################|175/175[00:05<00:00,30.44it/s]"
     ]
    },
    {
     "name": "stdout",
     "output_type": "stream",
     "text": [
      "\u001b[32m[1006 17:10:52 @base.py:285]\u001b[0m Epoch 93 (global_step 16275) finished, time:5.75 seconds.\n",
      "\u001b[32m[1006 17:10:52 @saver.py:79]\u001b[0m Model saved to ../output/Chicago/DATGAN_TEST2/model\\model-16275.\n",
      "\u001b[32m[1006 17:10:52 @monitor.py:467]\u001b[0m GAN_loss/discrim/accuracy_fake: 0.926\n",
      "\u001b[32m[1006 17:10:52 @monitor.py:467]\u001b[0m GAN_loss/discrim/accuracy_real: 0.144\n",
      "\u001b[32m[1006 17:10:52 @monitor.py:467]\u001b[0m GAN_loss/discrim/loss: 0.63357\n",
      "\u001b[32m[1006 17:10:52 @monitor.py:467]\u001b[0m GAN_loss/gen/final-g-loss: 1.0174\n",
      "\u001b[32m[1006 17:10:52 @monitor.py:467]\u001b[0m GAN_loss/gen/klloss: 0.049982\n",
      "\u001b[32m[1006 17:10:52 @monitor.py:467]\u001b[0m GAN_loss/gen/loss: 0.96747\n",
      "\u001b[32m[1006 17:10:52 @monitor.py:467]\u001b[0m QueueInput/queue_size: 50\n",
      "\u001b[32m[1006 17:10:52 @base.py:275]\u001b[0m Start Epoch 94 ...\n"
     ]
    },
    {
     "name": "stderr",
     "output_type": "stream",
     "text": [
      "\n",
      "100%|###################################################################################|175/175[00:05<00:00,30.59it/s]"
     ]
    },
    {
     "name": "stdout",
     "output_type": "stream",
     "text": [
      "\u001b[32m[1006 17:10:58 @base.py:285]\u001b[0m Epoch 94 (global_step 16450) finished, time:5.72 seconds.\n",
      "\u001b[32m[1006 17:10:58 @saver.py:79]\u001b[0m Model saved to ../output/Chicago/DATGAN_TEST2/model\\model-16450.\n",
      "\u001b[32m[1006 17:10:58 @monitor.py:467]\u001b[0m GAN_loss/discrim/accuracy_fake: 0.904\n",
      "\u001b[32m[1006 17:10:58 @monitor.py:467]\u001b[0m GAN_loss/discrim/accuracy_real: 0.148\n",
      "\u001b[32m[1006 17:10:58 @monitor.py:467]\u001b[0m GAN_loss/discrim/loss: 0.64133\n",
      "\u001b[32m[1006 17:10:58 @monitor.py:467]\u001b[0m GAN_loss/gen/final-g-loss: 1.0077\n",
      "\u001b[32m[1006 17:10:58 @monitor.py:467]\u001b[0m GAN_loss/gen/klloss: 0.063334\n",
      "\u001b[32m[1006 17:10:58 @monitor.py:467]\u001b[0m GAN_loss/gen/loss: 0.94436\n",
      "\u001b[32m[1006 17:10:58 @monitor.py:467]\u001b[0m QueueInput/queue_size: 50\n",
      "\u001b[32m[1006 17:10:58 @base.py:275]\u001b[0m Start Epoch 95 ...\n"
     ]
    },
    {
     "name": "stderr",
     "output_type": "stream",
     "text": [
      "\n",
      "100%|###################################################################################|175/175[00:05<00:00,30.61it/s]"
     ]
    },
    {
     "name": "stdout",
     "output_type": "stream",
     "text": [
      "\u001b[32m[1006 17:11:04 @base.py:285]\u001b[0m Epoch 95 (global_step 16625) finished, time:5.72 seconds.\n",
      "\u001b[32m[1006 17:11:04 @saver.py:79]\u001b[0m Model saved to ../output/Chicago/DATGAN_TEST2/model\\model-16625.\n",
      "\u001b[32m[1006 17:11:04 @monitor.py:467]\u001b[0m GAN_loss/discrim/accuracy_fake: 0.91\n",
      "\u001b[32m[1006 17:11:04 @monitor.py:467]\u001b[0m GAN_loss/discrim/accuracy_real: 0.15\n",
      "\u001b[32m[1006 17:11:04 @monitor.py:467]\u001b[0m GAN_loss/discrim/loss: 0.63872\n",
      "\u001b[32m[1006 17:11:04 @monitor.py:467]\u001b[0m GAN_loss/gen/final-g-loss: 1.0163\n",
      "\u001b[32m[1006 17:11:04 @monitor.py:467]\u001b[0m GAN_loss/gen/klloss: 0.058795\n",
      "\u001b[32m[1006 17:11:04 @monitor.py:467]\u001b[0m GAN_loss/gen/loss: 0.9575\n",
      "\u001b[32m[1006 17:11:04 @monitor.py:467]\u001b[0m QueueInput/queue_size: 50\n",
      "\u001b[32m[1006 17:11:04 @base.py:275]\u001b[0m Start Epoch 96 ...\n"
     ]
    },
    {
     "name": "stderr",
     "output_type": "stream",
     "text": [
      "\n",
      "100%|###################################################################################|175/175[00:05<00:00,30.53it/s]"
     ]
    },
    {
     "name": "stdout",
     "output_type": "stream",
     "text": [
      "\u001b[32m[1006 17:11:09 @base.py:285]\u001b[0m Epoch 96 (global_step 16800) finished, time:5.73 seconds.\n",
      "\u001b[32m[1006 17:11:09 @saver.py:79]\u001b[0m Model saved to ../output/Chicago/DATGAN_TEST2/model\\model-16800.\n",
      "\u001b[32m[1006 17:11:09 @monitor.py:467]\u001b[0m GAN_loss/discrim/accuracy_fake: 0.904\n",
      "\u001b[32m[1006 17:11:09 @monitor.py:467]\u001b[0m GAN_loss/discrim/accuracy_real: 0.104\n",
      "\u001b[32m[1006 17:11:09 @monitor.py:467]\u001b[0m GAN_loss/discrim/loss: 0.64974\n",
      "\u001b[32m[1006 17:11:09 @monitor.py:467]\u001b[0m GAN_loss/gen/final-g-loss: 1.0112\n",
      "\u001b[32m[1006 17:11:09 @monitor.py:467]\u001b[0m GAN_loss/gen/klloss: 0.065443\n",
      "\u001b[32m[1006 17:11:09 @monitor.py:467]\u001b[0m GAN_loss/gen/loss: 0.94575\n",
      "\u001b[32m[1006 17:11:09 @monitor.py:467]\u001b[0m QueueInput/queue_size: 50\n",
      "\u001b[32m[1006 17:11:09 @base.py:275]\u001b[0m Start Epoch 97 ...\n"
     ]
    },
    {
     "name": "stderr",
     "output_type": "stream",
     "text": [
      "\n",
      "100%|###################################################################################|175/175[00:05<00:00,30.59it/s]"
     ]
    },
    {
     "name": "stdout",
     "output_type": "stream",
     "text": [
      "\u001b[32m[1006 17:11:15 @base.py:285]\u001b[0m Epoch 97 (global_step 16975) finished, time:5.72 seconds.\n",
      "\u001b[32m[1006 17:11:15 @saver.py:79]\u001b[0m Model saved to ../output/Chicago/DATGAN_TEST2/model\\model-16975.\n",
      "\u001b[32m[1006 17:11:15 @monitor.py:467]\u001b[0m GAN_loss/discrim/accuracy_fake: 0.918\n",
      "\u001b[32m[1006 17:11:15 @monitor.py:467]\u001b[0m GAN_loss/discrim/accuracy_real: 0.15\n",
      "\u001b[32m[1006 17:11:15 @monitor.py:467]\u001b[0m GAN_loss/discrim/loss: 0.65062\n",
      "\u001b[32m[1006 17:11:15 @monitor.py:467]\u001b[0m GAN_loss/gen/final-g-loss: 0.98266\n",
      "\u001b[32m[1006 17:11:15 @monitor.py:467]\u001b[0m GAN_loss/gen/klloss: 0.038463\n",
      "\u001b[32m[1006 17:11:15 @monitor.py:467]\u001b[0m GAN_loss/gen/loss: 0.9442\n",
      "\u001b[32m[1006 17:11:15 @monitor.py:467]\u001b[0m QueueInput/queue_size: 50\n",
      "\u001b[32m[1006 17:11:15 @base.py:275]\u001b[0m Start Epoch 98 ...\n"
     ]
    },
    {
     "name": "stderr",
     "output_type": "stream",
     "text": [
      "\n",
      "100%|###################################################################################|175/175[00:05<00:00,30.60it/s]"
     ]
    },
    {
     "name": "stdout",
     "output_type": "stream",
     "text": [
      "\u001b[32m[1006 17:11:21 @base.py:285]\u001b[0m Epoch 98 (global_step 17150) finished, time:5.72 seconds.\n",
      "\u001b[32m[1006 17:11:21 @saver.py:79]\u001b[0m Model saved to ../output/Chicago/DATGAN_TEST2/model\\model-17150.\n",
      "\u001b[32m[1006 17:11:21 @monitor.py:467]\u001b[0m GAN_loss/discrim/accuracy_fake: 0.908\n",
      "\u001b[32m[1006 17:11:21 @monitor.py:467]\u001b[0m GAN_loss/discrim/accuracy_real: 0.124\n",
      "\u001b[32m[1006 17:11:21 @monitor.py:467]\u001b[0m GAN_loss/discrim/loss: 0.64584\n",
      "\u001b[32m[1006 17:11:21 @monitor.py:467]\u001b[0m GAN_loss/gen/final-g-loss: 1.0164\n",
      "\u001b[32m[1006 17:11:21 @monitor.py:467]\u001b[0m GAN_loss/gen/klloss: 0.06554\n",
      "\u001b[32m[1006 17:11:21 @monitor.py:467]\u001b[0m GAN_loss/gen/loss: 0.95086\n",
      "\u001b[32m[1006 17:11:21 @monitor.py:467]\u001b[0m QueueInput/queue_size: 50\n",
      "\u001b[32m[1006 17:11:21 @base.py:275]\u001b[0m Start Epoch 99 ...\n"
     ]
    },
    {
     "name": "stderr",
     "output_type": "stream",
     "text": [
      "\n",
      "100%|###################################################################################|175/175[00:05<00:00,30.29it/s]"
     ]
    },
    {
     "name": "stdout",
     "output_type": "stream",
     "text": [
      "\u001b[32m[1006 17:11:27 @base.py:285]\u001b[0m Epoch 99 (global_step 17325) finished, time:5.78 seconds.\n",
      "\u001b[32m[1006 17:11:27 @saver.py:79]\u001b[0m Model saved to ../output/Chicago/DATGAN_TEST2/model\\model-17325.\n",
      "\u001b[32m[1006 17:11:27 @monitor.py:467]\u001b[0m GAN_loss/discrim/accuracy_fake: 0.91\n",
      "\u001b[32m[1006 17:11:27 @monitor.py:467]\u001b[0m GAN_loss/discrim/accuracy_real: 0.11\n",
      "\u001b[32m[1006 17:11:27 @monitor.py:467]\u001b[0m GAN_loss/discrim/loss: 0.64531\n",
      "\u001b[32m[1006 17:11:27 @monitor.py:467]\u001b[0m GAN_loss/gen/final-g-loss: 0.99536\n",
      "\u001b[32m[1006 17:11:27 @monitor.py:467]\u001b[0m GAN_loss/gen/klloss: 0.047987\n",
      "\u001b[32m[1006 17:11:27 @monitor.py:467]\u001b[0m GAN_loss/gen/loss: 0.94738\n",
      "\u001b[32m[1006 17:11:27 @monitor.py:467]\u001b[0m QueueInput/queue_size: 50\n",
      "\u001b[32m[1006 17:11:27 @base.py:275]\u001b[0m Start Epoch 100 ...\n"
     ]
    },
    {
     "name": "stderr",
     "output_type": "stream",
     "text": [
      "\n",
      "100%|###################################################################################|175/175[00:05<00:00,29.26it/s]"
     ]
    },
    {
     "name": "stdout",
     "output_type": "stream",
     "text": [
      "\u001b[32m[1006 17:11:33 @base.py:285]\u001b[0m Epoch 100 (global_step 17500) finished, time:5.98 seconds.\n",
      "\u001b[32m[1006 17:11:33 @saver.py:79]\u001b[0m Model saved to ../output/Chicago/DATGAN_TEST2/model\\model-17500.\n",
      "\u001b[32m[1006 17:11:33 @monitor.py:467]\u001b[0m GAN_loss/discrim/accuracy_fake: 0.928\n",
      "\u001b[32m[1006 17:11:33 @monitor.py:467]\u001b[0m GAN_loss/discrim/accuracy_real: 0.116\n",
      "\u001b[32m[1006 17:11:33 @monitor.py:467]\u001b[0m GAN_loss/discrim/loss: 0.64353\n",
      "\u001b[32m[1006 17:11:33 @monitor.py:467]\u001b[0m GAN_loss/gen/final-g-loss: 0.99962\n",
      "\u001b[32m[1006 17:11:33 @monitor.py:467]\u001b[0m GAN_loss/gen/klloss: 0.044613\n",
      "\u001b[32m[1006 17:11:33 @monitor.py:467]\u001b[0m GAN_loss/gen/loss: 0.95501\n",
      "\u001b[32m[1006 17:11:33 @monitor.py:467]\u001b[0m QueueInput/queue_size: 50\n",
      "\u001b[32m[1006 17:11:33 @base.py:289]\u001b[0m Training has finished!\n",
      "WARNING:tensorflow:From D:\\Users\\glede\\anaconda3\\envs\\py37\\lib\\site-packages\\tensorpack\\predict\\config.py:101: The name tf.train.ChiefSessionCreator is deprecated. Please use tf.compat.v1.train.ChiefSessionCreator instead.\n",
      "\n",
      "\u001b[32m[1006 17:11:33 @graph.py:288]\u001b[0m \u001b[91mCreating cell for age (in-edges: 0)\n"
     ]
    },
    {
     "name": "stderr",
     "output_type": "stream",
     "text": [
      "\n"
     ]
    },
    {
     "name": "stdout",
     "output_type": "stream",
     "text": [
      "\u001b[32m[1006 17:11:33 @graph.py:288]\u001b[0m \u001b[91mCreating cell for gender (in-edges: 0)\n",
      "\u001b[32m[1006 17:11:33 @graph.py:288]\u001b[0m \u001b[91mCreating cell for travel_dow (in-edges: 0)\n",
      "\u001b[32m[1006 17:11:33 @graph.py:288]\u001b[0m \u001b[91mCreating cell for license (in-edges: 1)\n",
      "\u001b[32m[1006 17:11:33 @graph.py:288]\u001b[0m \u001b[91mCreating cell for education_level (in-edges: 1)\n",
      "\u001b[32m[1006 17:11:34 @graph.py:288]\u001b[0m \u001b[91mCreating cell for work_status (in-edges: 2)\n",
      "\u001b[32m[1006 17:11:34 @graph.py:288]\u001b[0m \u001b[91mCreating cell for hh_income (in-edges: 2)\n",
      "\u001b[32m[1006 17:11:34 @graph.py:288]\u001b[0m \u001b[91mCreating cell for trip_purpose (in-edges: 1)\n",
      "\u001b[32m[1006 17:11:34 @graph.py:288]\u001b[0m \u001b[91mCreating cell for hh_descr (in-edges: 2)\n",
      "\u001b[32m[1006 17:11:34 @graph.py:288]\u001b[0m \u001b[91mCreating cell for hh_size (in-edges: 3)\n",
      "\u001b[32m[1006 17:11:34 @input_source.py:178]\u001b[0m EnqueueThread QueueInput/input_queue Exited.\n",
      "\u001b[32m[1006 17:11:34 @graph.py:288]\u001b[0m \u001b[91mCreating cell for departure_time (in-edges: 1)\n",
      "\u001b[32m[1006 17:11:34 @graph.py:288]\u001b[0m \u001b[91mCreating cell for distance (in-edges: 1)\n",
      "\u001b[32m[1006 17:11:34 @graph.py:288]\u001b[0m \u001b[91mCreating cell for hh_vehicles (in-edges: 2)\n",
      "\u001b[32m[1006 17:11:34 @graph.py:288]\u001b[0m \u001b[91mCreating cell for hh_bikes (in-edges: 2)\n",
      "\u001b[32m[1006 17:11:34 @graph.py:288]\u001b[0m \u001b[91mCreating cell for choice (in-edges: 7)\n",
      "WARNING:tensorflow:From D:\\Users\\glede\\anaconda3\\envs\\py37\\lib\\site-packages\\tensorpack\\tfutils\\collection.py:45: The name tf.get_collection_ref is deprecated. Please use tf.compat.v1.get_collection_ref instead.\n",
      "\n",
      "\u001b[32m[1006 17:11:35 @collection.py:146]\u001b[0m New collections created in tower : tf.GraphKeys.REGULARIZATION_LOSSES\n",
      "\u001b[32m[1006 17:11:35 @collection.py:165]\u001b[0m These collections were modified but restored in : (tf.GraphKeys.SUMMARIES: 0->2)\n",
      "WARNING:tensorflow:From D:\\Users\\glede\\anaconda3\\envs\\py37\\lib\\site-packages\\tensorpack\\tfutils\\sessinit.py:120: The name tf.train.NewCheckpointReader is deprecated. Please use tf.compat.v1.train.NewCheckpointReader instead.\n",
      "\n",
      "WARNING:tensorflow:From D:\\Users\\glede\\anaconda3\\envs\\py37\\lib\\site-packages\\tensorpack\\tfutils\\sessinit.py:127: The name tf.global_variables is deprecated. Please use tf.compat.v1.global_variables instead.\n",
      "\n",
      "\u001b[32m[1006 17:11:35 @sessinit.py:87]\u001b[0m \u001b[5m\u001b[31mWRN\u001b[0m The following variables are in the checkpoint, but not found in the graph: global_step, optimize/beta1_power, optimize/beta2_power\n",
      "INFO:tensorflow:Graph was finalized.\n",
      "INFO:tensorflow:Running local_init_op.\n",
      "INFO:tensorflow:Done running local_init_op.\n",
      "\u001b[32m[1006 17:11:36 @sessinit.py:114]\u001b[0m Restoring checkpoint from ../output/Chicago/DATGAN_TEST2/model\\model-17500 ...\n",
      "INFO:tensorflow:Restoring parameters from ../output/Chicago/DATGAN_TEST2/model\\model-17500\n"
     ]
    }
   ],
   "source": [
    "datgan.fit(df, graph)"
   ]
  },
  {
   "cell_type": "code",
   "execution_count": 12,
   "metadata": {},
   "outputs": [
    {
     "name": "stdout",
     "output_type": "stream",
     "text": [
      "\u001b[32m[1006 17:11:42 @model.py:358]\u001b[0m Model saved successfully.\n"
     ]
    }
   ],
   "source": [
    "datgan.save('trained', force=True)"
   ]
  },
  {
   "cell_type": "code",
   "execution_count": null,
   "metadata": {},
   "outputs": [],
   "source": []
  }
 ],
 "metadata": {
  "kernelspec": {
   "display_name": "Python 3",
   "language": "python",
   "name": "python3"
  },
  "language_info": {
   "codemirror_mode": {
    "name": "ipython",
    "version": 3
   },
   "file_extension": ".py",
   "mimetype": "text/x-python",
   "name": "python",
   "nbconvert_exporter": "python",
   "pygments_lexer": "ipython3",
   "version": "3.7.9"
  }
 },
 "nbformat": 4,
 "nbformat_minor": 2
}
