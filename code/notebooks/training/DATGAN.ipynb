{
 "cells": [
  {
   "cell_type": "code",
   "execution_count": 1,
   "metadata": {},
   "outputs": [],
   "source": [
    "import os\n",
    "os.chdir('../..')"
   ]
  },
  {
   "cell_type": "code",
   "execution_count": 2,
   "metadata": {},
   "outputs": [],
   "source": [
    "from platform import python_version\n",
    "print(python_version())"
   ]
  },
  {
   "cell_type": "code",
   "execution_count": 3,
   "metadata": {},
   "outputs": [
    {
     "name": "stdout",
     "output_type": "stream",
     "text": [
      "WARNING:tensorflow:From D:\\Users\\glede\\anaconda3\\envs\\py37\\lib\\site-packages\\tensorpack\\callbacks\\hooks.py:17: The name tf.train.SessionRunHook is deprecated. Please use tf.estimator.SessionRunHook instead.\n",
      "\n",
      "WARNING:tensorflow:From D:\\Users\\glede\\anaconda3\\envs\\py37\\lib\\site-packages\\tensorpack\\tfutils\\optimizer.py:18: The name tf.train.Optimizer is deprecated. Please use tf.compat.v1.train.Optimizer instead.\n",
      "\n",
      "WARNING:tensorflow:From D:\\Users\\glede\\anaconda3\\envs\\py37\\lib\\site-packages\\tensorpack\\tfutils\\sesscreate.py:20: The name tf.train.SessionCreator is deprecated. Please use tf.compat.v1.train.SessionCreator instead.\n",
      "\n"
     ]
    }
   ],
   "source": [
    "import numpy as np\n",
    "import pandas as pd\n",
    "\n",
    "import tensorflow as tf\n",
    "\n",
    "import matplotlib.pyplot as plt\n",
    "\n",
    "from modules.datgan.model import DATGAN\n",
    "#from modules.datgan_preLSTM.model import DATGAN\n",
    "\n",
    "#from modules.datgan_no_att.model import DATGAN\n",
    "import networkx as nx\n",
    "import json\n",
    "import beepy\n",
    "\n",
    "# For the Python notebook\n",
    "%matplotlib inline\n",
    "%reload_ext autoreload\n",
    "%autoreload 2"
   ]
  },
  {
   "cell_type": "code",
   "execution_count": 4,
   "metadata": {},
   "outputs": [],
   "source": [
    "dataset = 'Chicago'"
   ]
  },
  {
   "cell_type": "code",
   "execution_count": 5,
   "metadata": {},
   "outputs": [],
   "source": [
    "df = pd.read_csv('../data/{}/data.csv'.format(dataset), index_col=False)"
   ]
  },
  {
   "cell_type": "code",
   "execution_count": 6,
   "metadata": {},
   "outputs": [
    {
     "data": {
      "text/html": [
       "<div>\n",
       "<style scoped>\n",
       "    .dataframe tbody tr th:only-of-type {\n",
       "        vertical-align: middle;\n",
       "    }\n",
       "\n",
       "    .dataframe tbody tr th {\n",
       "        vertical-align: top;\n",
       "    }\n",
       "\n",
       "    .dataframe thead th {\n",
       "        text-align: right;\n",
       "    }\n",
       "</style>\n",
       "<table border=\"1\" class=\"dataframe\">\n",
       "  <thead>\n",
       "    <tr style=\"text-align: right;\">\n",
       "      <th></th>\n",
       "      <th>choice</th>\n",
       "      <th>travel_dow</th>\n",
       "      <th>trip_purpose</th>\n",
       "      <th>distance</th>\n",
       "      <th>hh_vehicles</th>\n",
       "      <th>hh_size</th>\n",
       "      <th>hh_bikes</th>\n",
       "      <th>hh_descr</th>\n",
       "      <th>hh_income</th>\n",
       "      <th>gender</th>\n",
       "      <th>age</th>\n",
       "      <th>license</th>\n",
       "      <th>education_level</th>\n",
       "      <th>work_status</th>\n",
       "      <th>departure_time</th>\n",
       "    </tr>\n",
       "  </thead>\n",
       "  <tbody>\n",
       "    <tr>\n",
       "      <th>0</th>\n",
       "      <td>drive</td>\n",
       "      <td>7</td>\n",
       "      <td>HOME_OTHER</td>\n",
       "      <td>23.42579</td>\n",
       "      <td>2</td>\n",
       "      <td>2</td>\n",
       "      <td>0</td>\n",
       "      <td>2</td>\n",
       "      <td>6</td>\n",
       "      <td>1</td>\n",
       "      <td>66</td>\n",
       "      <td>1.0</td>\n",
       "      <td>6</td>\n",
       "      <td>FTE</td>\n",
       "      <td>9.333333</td>\n",
       "    </tr>\n",
       "    <tr>\n",
       "      <th>1</th>\n",
       "      <td>drive</td>\n",
       "      <td>7</td>\n",
       "      <td>OTHER</td>\n",
       "      <td>1.71259</td>\n",
       "      <td>2</td>\n",
       "      <td>2</td>\n",
       "      <td>0</td>\n",
       "      <td>2</td>\n",
       "      <td>6</td>\n",
       "      <td>1</td>\n",
       "      <td>66</td>\n",
       "      <td>1.0</td>\n",
       "      <td>6</td>\n",
       "      <td>FTE</td>\n",
       "      <td>12.083333</td>\n",
       "    </tr>\n",
       "    <tr>\n",
       "      <th>2</th>\n",
       "      <td>drive</td>\n",
       "      <td>7</td>\n",
       "      <td>HOME_OTHER</td>\n",
       "      <td>21.77887</td>\n",
       "      <td>2</td>\n",
       "      <td>2</td>\n",
       "      <td>0</td>\n",
       "      <td>2</td>\n",
       "      <td>6</td>\n",
       "      <td>1</td>\n",
       "      <td>66</td>\n",
       "      <td>1.0</td>\n",
       "      <td>6</td>\n",
       "      <td>FTE</td>\n",
       "      <td>15.500000</td>\n",
       "    </tr>\n",
       "    <tr>\n",
       "      <th>3</th>\n",
       "      <td>drive</td>\n",
       "      <td>7</td>\n",
       "      <td>SHOPPING</td>\n",
       "      <td>2.02603</td>\n",
       "      <td>2</td>\n",
       "      <td>2</td>\n",
       "      <td>0</td>\n",
       "      <td>2</td>\n",
       "      <td>6</td>\n",
       "      <td>1</td>\n",
       "      <td>66</td>\n",
       "      <td>1.0</td>\n",
       "      <td>6</td>\n",
       "      <td>FTE</td>\n",
       "      <td>17.500000</td>\n",
       "    </tr>\n",
       "    <tr>\n",
       "      <th>4</th>\n",
       "      <td>drive</td>\n",
       "      <td>7</td>\n",
       "      <td>SHOPPING</td>\n",
       "      <td>0.87691</td>\n",
       "      <td>2</td>\n",
       "      <td>2</td>\n",
       "      <td>0</td>\n",
       "      <td>2</td>\n",
       "      <td>6</td>\n",
       "      <td>1</td>\n",
       "      <td>66</td>\n",
       "      <td>1.0</td>\n",
       "      <td>6</td>\n",
       "      <td>FTE</td>\n",
       "      <td>18.250000</td>\n",
       "    </tr>\n",
       "  </tbody>\n",
       "</table>\n",
       "</div>"
      ],
      "text/plain": [
       "  choice  travel_dow trip_purpose  distance  hh_vehicles  hh_size  hh_bikes  \\\n",
       "0  drive           7   HOME_OTHER  23.42579            2        2         0   \n",
       "1  drive           7        OTHER   1.71259            2        2         0   \n",
       "2  drive           7   HOME_OTHER  21.77887            2        2         0   \n",
       "3  drive           7     SHOPPING   2.02603            2        2         0   \n",
       "4  drive           7     SHOPPING   0.87691            2        2         0   \n",
       "\n",
       "   hh_descr  hh_income  gender  age  license  education_level work_status  \\\n",
       "0         2          6       1   66      1.0                6         FTE   \n",
       "1         2          6       1   66      1.0                6         FTE   \n",
       "2         2          6       1   66      1.0                6         FTE   \n",
       "3         2          6       1   66      1.0                6         FTE   \n",
       "4         2          6       1   66      1.0                6         FTE   \n",
       "\n",
       "   departure_time  \n",
       "0        9.333333  \n",
       "1       12.083333  \n",
       "2       15.500000  \n",
       "3       17.500000  \n",
       "4       18.250000  "
      ]
     },
     "execution_count": 6,
     "metadata": {},
     "output_type": "execute_result"
    }
   ],
   "source": [
    "df.head()"
   ]
  },
  {
   "cell_type": "code",
   "execution_count": 7,
   "metadata": {},
   "outputs": [],
   "source": [
    "if dataset is 'Chicago':\n",
    "    continuous_columns = [\"distance\", \"age\", \"departure_time\"]\n",
    "elif dataset is 'LPMC':\n",
    "    continuous_columns = ['start_time_linear', 'age', 'distance', 'dur_walking', 'dur_cycling', 'dur_pt_access', 'dur_pt_rail', 'dur_pt_bus', 'dur_pt_int', 'dur_driving', 'cost_transit', 'cost_driving_fuel', 'driving_traffic_percent']"
   ]
  },
  {
   "cell_type": "code",
   "execution_count": 8,
   "metadata": {},
   "outputs": [],
   "source": [
    "# personalised graph\n",
    "graph = nx.DiGraph()\n",
    "\n",
    "if dataset is 'Chicago':\n",
    "    graph.add_edges_from([\n",
    "        (\"age\", \"license\"),\n",
    "        (\"age\", \"education_level\"),\n",
    "        (\"gender\", \"work_status\"),\n",
    "        (\"education_level\", \"work_status\"),\n",
    "        (\"education_level\", \"hh_income\"),\n",
    "        (\"work_status\", \"hh_income\"),\n",
    "        (\"hh_income\", \"hh_descr\"),\n",
    "        (\"hh_income\", \"hh_size\"),\n",
    "        (\"hh_size\", \"hh_vehicles\"),\n",
    "        (\"hh_size\", \"hh_bikes\"),\n",
    "        (\"work_status\", \"trip_purpose\"),\n",
    "        (\"trip_purpose\", \"departure_time\"),\n",
    "        (\"trip_purpose\", \"distance\"),\n",
    "        (\"travel_dow\", \"choice\"),\n",
    "        (\"distance\", \"choice\"),\n",
    "        (\"departure_time\", \"choice\"),\n",
    "        (\"hh_vehicles\", \"choice\"),\n",
    "        (\"hh_bikes\", \"choice\"),\n",
    "        (\"license\", \"choice\"),\n",
    "        # Non necessary links\n",
    "        (\"education_level\", \"hh_size\"),\n",
    "        (\"work_status\", \"hh_descr\"),\n",
    "        (\"work_status\", \"hh_size\"),\n",
    "        (\"hh_income\", \"hh_bikes\"),\n",
    "        (\"hh_income\", \"hh_vehicles\"),\n",
    "        (\"trip_purpose\", \"choice\")\n",
    "    ])\n",
    "elif dataset is 'LPMC':\n",
    "    graph.add_edges_from([\n",
    "        (\"travel_year\", \"survey_year\"),\n",
    "        (\"travel_date\", \"day_of_week\"),\n",
    "        (\"day_of_week\", \"purpose\"),\n",
    "        (\"purpose\", \"start_time_linear\"),\n",
    "        (\"purpose\", \"cost_driving_con_charge\"),\n",
    "        (\"purpose\", \"distance\"),\n",
    "        (\"day_of_week\", \"driving_traffic_percent\"),\n",
    "        (\"day_of_week\", \"cost_driving_con_charge\"),\n",
    "        (\"start_time_linear\", \"driving_traffic_percent\"),\n",
    "        (\"start_time_linear\", \"cost_driving_con_charge\"),\n",
    "        (\"driving_traffic_percent\", \"cost_driving_con_charge\"),\n",
    "        (\"female\", \"driving_license\"),\n",
    "        (\"age\", \"bus_scale\"),\n",
    "        (\"age\", \"car_ownership\"),\n",
    "        (\"age\", \"driving_license\"),\n",
    "        (\"age\", \"faretype\"),\n",
    "        (\"driving_license\", \"car_ownership\"),\n",
    "        (\"car_ownership\", \"fueltype\"),\n",
    "        (\"fueltype\", \"cost_driving_con_charge\"),\n",
    "        (\"fueltype\", \"cost_driving_fuel\"),\n",
    "        (\"distance\", \"cost_driving_fuel\"),\n",
    "        (\"distance\", \"dur_driving\"),\n",
    "        (\"distance\", \"dur_walking\"),\n",
    "        (\"distance\", \"dur_cycling\"),\n",
    "        (\"distance\", \"dur_pt_access\"),\n",
    "        (\"distance\", \"dur_pt_rail\"),\n",
    "        (\"distance\", \"dur_pt_bus\"),\n",
    "        (\"distance\", \"dur_pt_int\"),\n",
    "        (\"dur_pt_bus\", \"cost_transit\"),\n",
    "        (\"dur_pt_rail\", \"cost_transit\"),\n",
    "        (\"pt_n_interchanges\", \"dur_pt_int\"),\n",
    "        (\"pt_n_interchanges\", \"cost_transit\"),\n",
    "        (\"faretype\", \"cost_transit\"),\n",
    "        (\"bus_scale\", \"cost_transit\"),\n",
    "        (\"car_ownership\", \"travel_mode\"),\n",
    "        (\"age\", \"travel_mode\"),\n",
    "        (\"cost_driving_con_charge\", \"travel_mode\"),\n",
    "        (\"driving_traffic_percent\", \"travel_mode\"),\n",
    "        (\"female\", \"travel_mode\"),\n",
    "        (\"purpose\", \"travel_mode\"),\n",
    "        (\"cost_transit\", \"travel_mode\"),\n",
    "        (\"cost_driving_fuel\", \"travel_mode\"),\n",
    "        (\"dur_driving\", \"travel_mode\"),\n",
    "        (\"dur_walking\", \"travel_mode\"),\n",
    "        (\"dur_cycling\", \"travel_mode\"),\n",
    "        (\"dur_pt_access\", \"travel_mode\"),\n",
    "        (\"dur_pt_rail\", \"travel_mode\"),\n",
    "        (\"dur_pt_bus\", \"travel_mode\"),\n",
    "        (\"dur_pt_int\", \"travel_mode\")\n",
    "    ])\n",
    "    graph.add_node(\"travel_month\")"
   ]
  },
  {
   "cell_type": "code",
   "execution_count": 9,
   "metadata": {},
   "outputs": [],
   "source": [
    "output_folder = '../output/' + dataset + '/DATGAN_05/'"
   ]
  },
  {
   "cell_type": "code",
   "execution_count": 10,
   "metadata": {},
   "outputs": [],
   "source": [
    "datgan = DATGAN(continuous_columns, max_epoch=1000, batch_size=500, output=output_folder, gpu=0)"
   ]
  },
  {
   "cell_type": "code",
   "execution_count": 11,
   "metadata": {
    "scrolled": true
   },
   "outputs": [
    {
     "name": "stdout",
     "output_type": "stream",
     "text": [
      "\u001b[32m[1019 22:05:34 @model.py:152]\u001b[0m Found preprocessed data\n",
      "\u001b[32m[1019 22:05:34 @model.py:160]\u001b[0m Preprocessed data have been loaded!\n",
      "WARNING:tensorflow:From D:\\Users\\glede\\anaconda3\\envs\\py37\\lib\\site-packages\\tensorpack\\graph_builder\\model_desc.py:29: The name tf.get_default_graph is deprecated. Please use tf.compat.v1.get_default_graph instead.\n",
      "\n",
      "WARNING:tensorflow:From D:\\Users\\glede\\anaconda3\\envs\\py37\\lib\\site-packages\\tensorpack\\graph_builder\\model_desc.py:39: The name tf.placeholder is deprecated. Please use tf.compat.v1.placeholder instead.\n",
      "\n",
      "WARNING:tensorflow:From D:\\Users\\glede\\anaconda3\\envs\\py37\\lib\\site-packages\\tensorpack\\input_source\\input_source.py:219: The name tf.FIFOQueue is deprecated. Please use tf.queue.FIFOQueue instead.\n",
      "\n",
      "\u001b[32m[1019 22:05:34 @input_source.py:222]\u001b[0m Setting up the queue 'QueueInput/input_queue' for CPU prefetching ...\n",
      "WARNING:tensorflow:From D:\\Users\\glede\\anaconda3\\envs\\py37\\lib\\site-packages\\tensorpack\\tfutils\\summary.py:237: The name tf.get_variable_scope is deprecated. Please use tf.compat.v1.get_variable_scope instead.\n",
      "\n",
      "WARNING:tensorflow:From D:\\Users\\glede\\anaconda3\\envs\\py37\\lib\\site-packages\\tensorpack\\tfutils\\summary.py:27: The name tf.variable_scope is deprecated. Please use tf.compat.v1.variable_scope instead.\n",
      "\n",
      "WARNING:tensorflow:From D:\\Users\\glede\\anaconda3\\envs\\py37\\lib\\site-packages\\tensorpack\\tfutils\\summary.py:254: The name tf.get_variable is deprecated. Please use tf.compat.v1.get_variable instead.\n",
      "\n",
      "WARNING:tensorflow:From D:\\Users\\glede\\anaconda3\\envs\\py37\\lib\\site-packages\\tensorpack\\tfutils\\summary.py:264: The name tf.summary.scalar is deprecated. Please use tf.compat.v1.summary.scalar instead.\n",
      "\n",
      "WARNING:tensorflow:From D:\\Users\\glede\\anaconda3\\envs\\py37\\lib\\site-packages\\tensorpack\\tfutils\\collection.py:105: The name tf.GraphKeys is deprecated. Please use tf.compat.v1.GraphKeys instead.\n",
      "\n",
      "WARNING:tensorflow:From D:\\Users\\glede\\anaconda3\\envs\\py37\\lib\\site-packages\\tensorpack\\tfutils\\collection.py:33: The name tf.get_collection is deprecated. Please use tf.compat.v1.get_collection instead.\n",
      "\n",
      "WARNING:tensorflow:From C:\\Users\\glede\\Documents\\EPFL\\PhD\\SynthPop\\code\\modules\\datgan\\graph.py:637: The name tf.random_normal is deprecated. Please use tf.random.normal instead.\n",
      "\n",
      "WARNING:tensorflow:From C:\\Users\\glede\\Documents\\EPFL\\PhD\\SynthPop\\code\\modules\\datgan\\graph.py:640: The name tf.placeholder_with_default is deprecated. Please use tf.compat.v1.placeholder_with_default instead.\n",
      "\n",
      "WARNING:tensorflow:From C:\\Users\\glede\\Documents\\EPFL\\PhD\\SynthPop\\code\\modules\\datgan\\graph.py:266: LSTMCell.__init__ (from tensorflow.python.ops.rnn_cell_impl) is deprecated and will be removed in a future version.\n",
      "Instructions for updating:\n",
      "This class is equivalent as tf.keras.layers.LSTMCell, and will be replaced by that in Tensorflow 2.0.\n",
      "\u001b[32m[1019 22:05:34 @graph.py:283]\u001b[0m \u001b[91mCreating cell for age (in-edges: 0)\n",
      "WARNING:tensorflow:From D:\\Users\\glede\\anaconda3\\envs\\py37\\lib\\site-packages\\tensorflow_core\\python\\ops\\rnn_cell_impl.py:958: Layer.add_variable (from tensorflow.python.keras.engine.base_layer) is deprecated and will be removed in a future version.\n",
      "Instructions for updating:\n",
      "Please use `layer.add_weight` method instead.\n",
      "WARNING:tensorflow:From D:\\Users\\glede\\anaconda3\\envs\\py37\\lib\\site-packages\\tensorflow_core\\python\\ops\\rnn_cell_impl.py:962: calling Zeros.__init__ (from tensorflow.python.ops.init_ops) with dtype is deprecated and will be removed in a future version.\n",
      "Instructions for updating:\n",
      "Call initializer instance with the dtype argument instead of passing it to the constructor\n",
      "\u001b[32m[1019 22:05:34 @registry.py:126]\u001b[0m gen/LSTM/00/FC input: [500, 100]\n",
      "WARNING:tensorflow:From D:\\Users\\glede\\anaconda3\\envs\\py37\\lib\\site-packages\\tensorpack\\models\\fc.py:57: The name tf.layers.Dense is deprecated. Please use tf.compat.v1.layers.Dense instead.\n",
      "\n",
      "WARNING:tensorflow:From D:\\Users\\glede\\anaconda3\\envs\\py37\\lib\\site-packages\\tensorpack\\models\\fc.py:67: Layer.apply (from tensorflow.python.keras.engine.base_layer) is deprecated and will be removed in a future version.\n",
      "Instructions for updating:\n",
      "Please use `layer.__call__` method instead.\n",
      "\u001b[32m[1019 22:05:34 @registry.py:134]\u001b[0m gen/LSTM/00/FC output: [500, 100]\n",
      "\u001b[32m[1019 22:05:34 @registry.py:126]\u001b[0m gen/LSTM/00/FC2_val input: [500, 100]\n",
      "\u001b[32m[1019 22:05:34 @registry.py:134]\u001b[0m gen/LSTM/00/FC2_val output: [500, 6]\n",
      "\u001b[32m[1019 22:05:34 @registry.py:126]\u001b[0m gen/LSTM/00/FC2_prob input: [500, 100]\n",
      "\u001b[32m[1019 22:05:34 @registry.py:134]\u001b[0m gen/LSTM/00/FC2_prob output: [500, 6]\n",
      "\u001b[32m[1019 22:05:34 @registry.py:126]\u001b[0m gen/LSTM/00/FC3 input: [500, 12]\n",
      "\u001b[32m[1019 22:05:34 @registry.py:134]\u001b[0m gen/LSTM/00/FC3 output: [500, 100]\n",
      "\u001b[32m[1019 22:05:34 @graph.py:283]\u001b[0m \u001b[91mCreating cell for gender (in-edges: 0)\n",
      "\u001b[32m[1019 22:05:34 @registry.py:126]\u001b[0m gen/LSTM/01/FC input: [500, 100]\n",
      "\u001b[32m[1019 22:05:34 @registry.py:134]\u001b[0m gen/LSTM/01/FC output: [500, 100]\n",
      "\u001b[32m[1019 22:05:34 @registry.py:126]\u001b[0m gen/LSTM/01/FC2 input: [500, 100]\n",
      "\u001b[32m[1019 22:05:34 @registry.py:134]\u001b[0m gen/LSTM/01/FC2 output: [500, 2]\n",
      "\u001b[32m[1019 22:05:34 @registry.py:126]\u001b[0m gen/LSTM/01/FC3 input: [500, 2]\n",
      "\u001b[32m[1019 22:05:34 @registry.py:134]\u001b[0m gen/LSTM/01/FC3 output: [500, 100]\n",
      "\u001b[32m[1019 22:05:34 @graph.py:283]\u001b[0m \u001b[91mCreating cell for travel_dow (in-edges: 0)\n",
      "\u001b[32m[1019 22:05:34 @registry.py:126]\u001b[0m gen/LSTM/02/FC input: [500, 100]\n",
      "\u001b[32m[1019 22:05:34 @registry.py:134]\u001b[0m gen/LSTM/02/FC output: [500, 100]\n",
      "\u001b[32m[1019 22:05:34 @registry.py:126]\u001b[0m gen/LSTM/02/FC2 input: [500, 100]\n",
      "\u001b[32m[1019 22:05:34 @registry.py:134]\u001b[0m gen/LSTM/02/FC2 output: [500, 7]\n",
      "\u001b[32m[1019 22:05:34 @registry.py:126]\u001b[0m gen/LSTM/02/FC3 input: [500, 7]\n",
      "\u001b[32m[1019 22:05:34 @registry.py:134]\u001b[0m gen/LSTM/02/FC3 output: [500, 100]\n",
      "\u001b[32m[1019 22:05:34 @graph.py:283]\u001b[0m \u001b[91mCreating cell for license (in-edges: 1)\n",
      "\u001b[32m[1019 22:05:34 @registry.py:126]\u001b[0m gen/LSTM/03/FC input: [500, 100]\n",
      "\u001b[32m[1019 22:05:34 @registry.py:134]\u001b[0m gen/LSTM/03/FC output: [500, 100]\n",
      "\u001b[32m[1019 22:05:34 @registry.py:126]\u001b[0m gen/LSTM/03/FC2 input: [500, 100]\n",
      "\u001b[32m[1019 22:05:34 @registry.py:134]\u001b[0m gen/LSTM/03/FC2 output: [500, 2]\n",
      "\u001b[32m[1019 22:05:34 @registry.py:126]\u001b[0m gen/LSTM/03/FC3 input: [500, 2]\n",
      "\u001b[32m[1019 22:05:34 @registry.py:134]\u001b[0m gen/LSTM/03/FC3 output: [500, 100]\n",
      "\u001b[32m[1019 22:05:34 @graph.py:283]\u001b[0m \u001b[91mCreating cell for education_level (in-edges: 1)\n",
      "\u001b[32m[1019 22:05:34 @registry.py:126]\u001b[0m gen/LSTM/04/FC input: [500, 100]\n",
      "\u001b[32m[1019 22:05:34 @registry.py:134]\u001b[0m gen/LSTM/04/FC output: [500, 100]\n",
      "\u001b[32m[1019 22:05:34 @registry.py:126]\u001b[0m gen/LSTM/04/FC2 input: [500, 100]\n",
      "\u001b[32m[1019 22:05:34 @registry.py:134]\u001b[0m gen/LSTM/04/FC2 output: [500, 6]\n",
      "\u001b[32m[1019 22:05:34 @registry.py:126]\u001b[0m gen/LSTM/04/FC3 input: [500, 6]\n",
      "\u001b[32m[1019 22:05:34 @registry.py:134]\u001b[0m gen/LSTM/04/FC3 output: [500, 100]\n",
      "\u001b[32m[1019 22:05:34 @graph.py:283]\u001b[0m \u001b[91mCreating cell for work_status (in-edges: 2)\n",
      "\u001b[32m[1019 22:05:34 @registry.py:126]\u001b[0m gen/LSTM/05/FC_inputs input: [500, 200]\n",
      "\u001b[32m[1019 22:05:34 @registry.py:134]\u001b[0m gen/LSTM/05/FC_inputs output: [500, 100]\n",
      "\u001b[32m[1019 22:05:34 @registry.py:126]\u001b[0m gen/LSTM/05/FC_attentions input: [500, 200]\n",
      "\u001b[32m[1019 22:05:34 @registry.py:134]\u001b[0m gen/LSTM/05/FC_attentions output: [500, 100]\n",
      "\u001b[32m[1019 22:05:34 @registry.py:126]\u001b[0m gen/LSTM/05/FC_lstm_state_0 input: [500, 200]\n",
      "\u001b[32m[1019 22:05:34 @registry.py:134]\u001b[0m gen/LSTM/05/FC_lstm_state_0 output: [500, 100]\n",
      "\u001b[32m[1019 22:05:34 @registry.py:126]\u001b[0m gen/LSTM/05/FC_lstm_state_1 input: [500, 200]\n",
      "\u001b[32m[1019 22:05:34 @registry.py:134]\u001b[0m gen/LSTM/05/FC_lstm_state_1 output: [500, 100]\n",
      "WARNING:tensorflow:From C:\\Users\\glede\\Documents\\EPFL\\PhD\\SynthPop\\code\\modules\\datgan\\graph.py:379: The name tf.nn.rnn_cell.LSTMStateTuple is deprecated. Please use tf.compat.v1.nn.rnn_cell.LSTMStateTuple instead.\n",
      "\n",
      "\u001b[32m[1019 22:05:34 @registry.py:126]\u001b[0m gen/LSTM/06/FC input: [500, 100]\n",
      "\u001b[32m[1019 22:05:34 @registry.py:134]\u001b[0m gen/LSTM/06/FC output: [500, 100]\n",
      "\u001b[32m[1019 22:05:34 @registry.py:126]\u001b[0m gen/LSTM/06/FC2 input: [500, 100]\n",
      "\u001b[32m[1019 22:05:34 @registry.py:134]\u001b[0m gen/LSTM/06/FC2 output: [500, 8]\n",
      "\u001b[32m[1019 22:05:34 @registry.py:126]\u001b[0m gen/LSTM/06/FC3 input: [500, 8]\n"
     ]
    },
    {
     "name": "stdout",
     "output_type": "stream",
     "text": [
      "\u001b[32m[1019 22:05:34 @registry.py:134]\u001b[0m gen/LSTM/06/FC3 output: [500, 100]\n",
      "\u001b[32m[1019 22:05:34 @graph.py:283]\u001b[0m \u001b[91mCreating cell for hh_income (in-edges: 2)\n",
      "\u001b[32m[1019 22:05:34 @registry.py:126]\u001b[0m gen/LSTM/07/FC_inputs input: [500, 200]\n",
      "\u001b[32m[1019 22:05:34 @registry.py:134]\u001b[0m gen/LSTM/07/FC_inputs output: [500, 100]\n",
      "\u001b[32m[1019 22:05:34 @registry.py:126]\u001b[0m gen/LSTM/07/FC_attentions input: [500, 200]\n",
      "\u001b[32m[1019 22:05:34 @registry.py:134]\u001b[0m gen/LSTM/07/FC_attentions output: [500, 100]\n",
      "\u001b[32m[1019 22:05:34 @registry.py:126]\u001b[0m gen/LSTM/07/FC_lstm_state_0 input: [500, 200]\n",
      "\u001b[32m[1019 22:05:34 @registry.py:134]\u001b[0m gen/LSTM/07/FC_lstm_state_0 output: [500, 100]\n",
      "\u001b[32m[1019 22:05:34 @registry.py:126]\u001b[0m gen/LSTM/07/FC_lstm_state_1 input: [500, 200]\n",
      "\u001b[32m[1019 22:05:34 @registry.py:134]\u001b[0m gen/LSTM/07/FC_lstm_state_1 output: [500, 100]\n",
      "\u001b[32m[1019 22:05:34 @registry.py:126]\u001b[0m gen/LSTM/08/FC input: [500, 100]\n",
      "\u001b[32m[1019 22:05:34 @registry.py:134]\u001b[0m gen/LSTM/08/FC output: [500, 100]\n",
      "\u001b[32m[1019 22:05:34 @registry.py:126]\u001b[0m gen/LSTM/08/FC2 input: [500, 100]\n",
      "\u001b[32m[1019 22:05:34 @registry.py:134]\u001b[0m gen/LSTM/08/FC2 output: [500, 7]\n",
      "\u001b[32m[1019 22:05:34 @registry.py:126]\u001b[0m gen/LSTM/08/FC3 input: [500, 7]\n",
      "\u001b[32m[1019 22:05:34 @registry.py:134]\u001b[0m gen/LSTM/08/FC3 output: [500, 100]\n",
      "\u001b[32m[1019 22:05:35 @graph.py:283]\u001b[0m \u001b[91mCreating cell for trip_purpose (in-edges: 1)\n",
      "\u001b[32m[1019 22:05:35 @registry.py:126]\u001b[0m gen/LSTM/09/FC input: [500, 100]\n",
      "\u001b[32m[1019 22:05:35 @registry.py:134]\u001b[0m gen/LSTM/09/FC output: [500, 100]\n",
      "\u001b[32m[1019 22:05:35 @registry.py:126]\u001b[0m gen/LSTM/09/FC2 input: [500, 100]\n",
      "\u001b[32m[1019 22:05:35 @registry.py:134]\u001b[0m gen/LSTM/09/FC2 output: [500, 7]\n",
      "\u001b[32m[1019 22:05:35 @registry.py:126]\u001b[0m gen/LSTM/09/FC3 input: [500, 7]\n",
      "\u001b[32m[1019 22:05:35 @registry.py:134]\u001b[0m gen/LSTM/09/FC3 output: [500, 100]\n",
      "\u001b[32m[1019 22:05:35 @graph.py:283]\u001b[0m \u001b[91mCreating cell for hh_descr (in-edges: 2)\n",
      "\u001b[32m[1019 22:05:35 @registry.py:126]\u001b[0m gen/LSTM/10/FC_inputs input: [500, 200]\n",
      "\u001b[32m[1019 22:05:35 @registry.py:134]\u001b[0m gen/LSTM/10/FC_inputs output: [500, 100]\n",
      "\u001b[32m[1019 22:05:35 @registry.py:126]\u001b[0m gen/LSTM/10/FC_attentions input: [500, 200]\n",
      "\u001b[32m[1019 22:05:35 @registry.py:134]\u001b[0m gen/LSTM/10/FC_attentions output: [500, 100]\n",
      "\u001b[32m[1019 22:05:35 @registry.py:126]\u001b[0m gen/LSTM/10/FC_lstm_state_0 input: [500, 200]\n",
      "\u001b[32m[1019 22:05:35 @registry.py:134]\u001b[0m gen/LSTM/10/FC_lstm_state_0 output: [500, 100]\n",
      "\u001b[32m[1019 22:05:35 @registry.py:126]\u001b[0m gen/LSTM/10/FC_lstm_state_1 input: [500, 200]\n",
      "\u001b[32m[1019 22:05:35 @registry.py:134]\u001b[0m gen/LSTM/10/FC_lstm_state_1 output: [500, 100]\n",
      "\u001b[32m[1019 22:05:35 @registry.py:126]\u001b[0m gen/LSTM/11/FC input: [500, 100]\n",
      "\u001b[32m[1019 22:05:35 @registry.py:134]\u001b[0m gen/LSTM/11/FC output: [500, 100]\n",
      "\u001b[32m[1019 22:05:35 @registry.py:126]\u001b[0m gen/LSTM/11/FC2 input: [500, 100]\n",
      "\u001b[32m[1019 22:05:35 @registry.py:134]\u001b[0m gen/LSTM/11/FC2 output: [500, 3]\n",
      "\u001b[32m[1019 22:05:35 @registry.py:126]\u001b[0m gen/LSTM/11/FC3 input: [500, 3]\n",
      "\u001b[32m[1019 22:05:35 @registry.py:134]\u001b[0m gen/LSTM/11/FC3 output: [500, 100]\n",
      "\u001b[32m[1019 22:05:35 @graph.py:283]\u001b[0m \u001b[91mCreating cell for hh_size (in-edges: 3)\n",
      "\u001b[32m[1019 22:05:35 @registry.py:126]\u001b[0m gen/LSTM/12/FC_inputs input: [500, 300]\n",
      "\u001b[32m[1019 22:05:35 @registry.py:134]\u001b[0m gen/LSTM/12/FC_inputs output: [500, 100]\n",
      "\u001b[32m[1019 22:05:35 @registry.py:126]\u001b[0m gen/LSTM/12/FC_attentions input: [500, 300]\n",
      "\u001b[32m[1019 22:05:35 @registry.py:134]\u001b[0m gen/LSTM/12/FC_attentions output: [500, 100]\n",
      "\u001b[32m[1019 22:05:35 @registry.py:126]\u001b[0m gen/LSTM/12/FC_lstm_state_0 input: [500, 300]\n",
      "\u001b[32m[1019 22:05:35 @registry.py:134]\u001b[0m gen/LSTM/12/FC_lstm_state_0 output: [500, 100]\n",
      "\u001b[32m[1019 22:05:35 @registry.py:126]\u001b[0m gen/LSTM/12/FC_lstm_state_1 input: [500, 300]\n",
      "\u001b[32m[1019 22:05:35 @registry.py:134]\u001b[0m gen/LSTM/12/FC_lstm_state_1 output: [500, 100]\n",
      "\u001b[32m[1019 22:05:35 @registry.py:126]\u001b[0m gen/LSTM/13/FC input: [500, 100]\n",
      "\u001b[32m[1019 22:05:35 @registry.py:134]\u001b[0m gen/LSTM/13/FC output: [500, 100]\n",
      "\u001b[32m[1019 22:05:35 @registry.py:126]\u001b[0m gen/LSTM/13/FC2 input: [500, 100]\n",
      "\u001b[32m[1019 22:05:35 @registry.py:134]\u001b[0m gen/LSTM/13/FC2 output: [500, 8]\n",
      "\u001b[32m[1019 22:05:35 @registry.py:126]\u001b[0m gen/LSTM/13/FC3 input: [500, 8]\n",
      "\u001b[32m[1019 22:05:35 @registry.py:134]\u001b[0m gen/LSTM/13/FC3 output: [500, 100]\n",
      "\u001b[32m[1019 22:05:35 @graph.py:283]\u001b[0m \u001b[91mCreating cell for departure_time (in-edges: 1)\n",
      "\u001b[32m[1019 22:05:35 @registry.py:126]\u001b[0m gen/LSTM/14/FC input: [500, 100]\n",
      "\u001b[32m[1019 22:05:35 @registry.py:134]\u001b[0m gen/LSTM/14/FC output: [500, 100]\n",
      "\u001b[32m[1019 22:05:35 @registry.py:126]\u001b[0m gen/LSTM/14/FC2_val input: [500, 100]\n",
      "\u001b[32m[1019 22:05:35 @registry.py:134]\u001b[0m gen/LSTM/14/FC2_val output: [500, 8]\n",
      "\u001b[32m[1019 22:05:35 @registry.py:126]\u001b[0m gen/LSTM/14/FC2_prob input: [500, 100]\n",
      "\u001b[32m[1019 22:05:35 @registry.py:134]\u001b[0m gen/LSTM/14/FC2_prob output: [500, 8]\n",
      "\u001b[32m[1019 22:05:35 @registry.py:126]\u001b[0m gen/LSTM/14/FC3 input: [500, 16]\n",
      "\u001b[32m[1019 22:05:35 @registry.py:134]\u001b[0m gen/LSTM/14/FC3 output: [500, 100]\n",
      "\u001b[32m[1019 22:05:35 @graph.py:283]\u001b[0m \u001b[91mCreating cell for distance (in-edges: 1)\n",
      "\u001b[32m[1019 22:05:35 @registry.py:126]\u001b[0m gen/LSTM/15/FC input: [500, 100]\n",
      "\u001b[32m[1019 22:05:35 @registry.py:134]\u001b[0m gen/LSTM/15/FC output: [500, 100]\n",
      "\u001b[32m[1019 22:05:35 @registry.py:126]\u001b[0m gen/LSTM/15/FC2_val input: [500, 100]\n",
      "\u001b[32m[1019 22:05:35 @registry.py:134]\u001b[0m gen/LSTM/15/FC2_val output: [500, 10]\n",
      "\u001b[32m[1019 22:05:35 @registry.py:126]\u001b[0m gen/LSTM/15/FC2_prob input: [500, 100]\n",
      "\u001b[32m[1019 22:05:35 @registry.py:134]\u001b[0m gen/LSTM/15/FC2_prob output: [500, 10]\n",
      "\u001b[32m[1019 22:05:35 @registry.py:126]\u001b[0m gen/LSTM/15/FC3 input: [500, 20]\n",
      "\u001b[32m[1019 22:05:35 @registry.py:134]\u001b[0m gen/LSTM/15/FC3 output: [500, 100]\n",
      "\u001b[32m[1019 22:05:35 @graph.py:283]\u001b[0m \u001b[91mCreating cell for hh_vehicles (in-edges: 2)\n",
      "\u001b[32m[1019 22:05:35 @registry.py:126]\u001b[0m gen/LSTM/16/FC_inputs input: [500, 200]\n",
      "\u001b[32m[1019 22:05:35 @registry.py:134]\u001b[0m gen/LSTM/16/FC_inputs output: [500, 100]\n",
      "\u001b[32m[1019 22:05:35 @registry.py:126]\u001b[0m gen/LSTM/16/FC_attentions input: [500, 200]\n",
      "\u001b[32m[1019 22:05:35 @registry.py:134]\u001b[0m gen/LSTM/16/FC_attentions output: [500, 100]\n",
      "\u001b[32m[1019 22:05:35 @registry.py:126]\u001b[0m gen/LSTM/16/FC_lstm_state_0 input: [500, 200]\n",
      "\u001b[32m[1019 22:05:35 @registry.py:134]\u001b[0m gen/LSTM/16/FC_lstm_state_0 output: [500, 100]\n",
      "\u001b[32m[1019 22:05:35 @registry.py:126]\u001b[0m gen/LSTM/16/FC_lstm_state_1 input: [500, 200]\n",
      "\u001b[32m[1019 22:05:35 @registry.py:134]\u001b[0m gen/LSTM/16/FC_lstm_state_1 output: [500, 100]\n",
      "\u001b[32m[1019 22:05:35 @registry.py:126]\u001b[0m gen/LSTM/17/FC input: [500, 100]\n",
      "\u001b[32m[1019 22:05:35 @registry.py:134]\u001b[0m gen/LSTM/17/FC output: [500, 100]\n",
      "\u001b[32m[1019 22:05:35 @registry.py:126]\u001b[0m gen/LSTM/17/FC2 input: [500, 100]\n",
      "\u001b[32m[1019 22:05:35 @registry.py:134]\u001b[0m gen/LSTM/17/FC2 output: [500, 9]\n",
      "\u001b[32m[1019 22:05:35 @registry.py:126]\u001b[0m gen/LSTM/17/FC3 input: [500, 9]\n",
      "\u001b[32m[1019 22:05:35 @registry.py:134]\u001b[0m gen/LSTM/17/FC3 output: [500, 100]\n",
      "\u001b[32m[1019 22:05:35 @graph.py:283]\u001b[0m \u001b[91mCreating cell for hh_bikes (in-edges: 2)\n",
      "\u001b[32m[1019 22:05:35 @registry.py:126]\u001b[0m gen/LSTM/18/FC_inputs input: [500, 200]\n",
      "\u001b[32m[1019 22:05:35 @registry.py:134]\u001b[0m gen/LSTM/18/FC_inputs output: [500, 100]\n",
      "\u001b[32m[1019 22:05:35 @registry.py:126]\u001b[0m gen/LSTM/18/FC_attentions input: [500, 200]\n",
      "\u001b[32m[1019 22:05:35 @registry.py:134]\u001b[0m gen/LSTM/18/FC_attentions output: [500, 100]\n",
      "\u001b[32m[1019 22:05:35 @registry.py:126]\u001b[0m gen/LSTM/18/FC_lstm_state_0 input: [500, 200]\n",
      "\u001b[32m[1019 22:05:35 @registry.py:134]\u001b[0m gen/LSTM/18/FC_lstm_state_0 output: [500, 100]\n",
      "\u001b[32m[1019 22:05:35 @registry.py:126]\u001b[0m gen/LSTM/18/FC_lstm_state_1 input: [500, 200]\n",
      "\u001b[32m[1019 22:05:35 @registry.py:134]\u001b[0m gen/LSTM/18/FC_lstm_state_1 output: [500, 100]\n",
      "\u001b[32m[1019 22:05:35 @registry.py:126]\u001b[0m gen/LSTM/19/FC input: [500, 100]\n",
      "\u001b[32m[1019 22:05:35 @registry.py:134]\u001b[0m gen/LSTM/19/FC output: [500, 100]\n",
      "\u001b[32m[1019 22:05:35 @registry.py:126]\u001b[0m gen/LSTM/19/FC2 input: [500, 100]\n",
      "\u001b[32m[1019 22:05:35 @registry.py:134]\u001b[0m gen/LSTM/19/FC2 output: [500, 8]\n",
      "\u001b[32m[1019 22:05:35 @registry.py:126]\u001b[0m gen/LSTM/19/FC3 input: [500, 8]\n",
      "\u001b[32m[1019 22:05:35 @registry.py:134]\u001b[0m gen/LSTM/19/FC3 output: [500, 100]\n"
     ]
    },
    {
     "name": "stdout",
     "output_type": "stream",
     "text": [
      "\u001b[32m[1019 22:05:35 @graph.py:283]\u001b[0m \u001b[91mCreating cell for choice (in-edges: 7)\n",
      "\u001b[32m[1019 22:05:35 @registry.py:126]\u001b[0m gen/LSTM/20/FC_inputs input: [500, 700]\n",
      "\u001b[32m[1019 22:05:35 @registry.py:134]\u001b[0m gen/LSTM/20/FC_inputs output: [500, 100]\n",
      "\u001b[32m[1019 22:05:35 @registry.py:126]\u001b[0m gen/LSTM/20/FC_attentions input: [500, 700]\n",
      "\u001b[32m[1019 22:05:35 @registry.py:134]\u001b[0m gen/LSTM/20/FC_attentions output: [500, 100]\n",
      "\u001b[32m[1019 22:05:35 @registry.py:126]\u001b[0m gen/LSTM/20/FC_lstm_state_0 input: [500, 700]\n",
      "\u001b[32m[1019 22:05:35 @registry.py:134]\u001b[0m gen/LSTM/20/FC_lstm_state_0 output: [500, 100]\n",
      "\u001b[32m[1019 22:05:35 @registry.py:126]\u001b[0m gen/LSTM/20/FC_lstm_state_1 input: [500, 700]\n",
      "\u001b[32m[1019 22:05:35 @registry.py:134]\u001b[0m gen/LSTM/20/FC_lstm_state_1 output: [500, 100]\n",
      "\u001b[32m[1019 22:05:35 @registry.py:126]\u001b[0m gen/LSTM/21/FC input: [500, 100]\n",
      "\u001b[32m[1019 22:05:35 @registry.py:134]\u001b[0m gen/LSTM/21/FC output: [500, 100]\n",
      "\u001b[32m[1019 22:05:35 @registry.py:126]\u001b[0m gen/LSTM/21/FC2 input: [500, 100]\n",
      "\u001b[32m[1019 22:05:35 @registry.py:134]\u001b[0m gen/LSTM/21/FC2 output: [500, 5]\n",
      "\u001b[32m[1019 22:05:35 @registry.py:126]\u001b[0m gen/LSTM/21/FC3 input: [500, 5]\n",
      "\u001b[32m[1019 22:05:35 @registry.py:134]\u001b[0m gen/LSTM/21/FC3 output: [500, 100]\n",
      "WARNING:tensorflow:From C:\\Users\\glede\\Documents\\EPFL\\PhD\\SynthPop\\code\\modules\\datgan\\graph.py:677: The name tf.random_uniform is deprecated. Please use tf.random.uniform instead.\n",
      "\n",
      "WARNING:tensorflow:From C:\\Users\\glede\\Documents\\EPFL\\PhD\\SynthPop\\code\\modules\\datgan\\graph.py:601: The name tf.log is deprecated. Please use tf.math.log instead.\n",
      "\n",
      "\u001b[32m[1019 22:05:35 @registry.py:126]\u001b[0m discrim/dis_fc0/fc input: [500, 120]\n",
      "\u001b[32m[1019 22:05:36 @registry.py:134]\u001b[0m discrim/dis_fc0/fc output: [500, 100]\n",
      "\u001b[32m[1019 22:05:36 @registry.py:126]\u001b[0m discrim/dis_fc0/fc_diversity input: [500, 100]\n",
      "\u001b[32m[1019 22:05:36 @registry.py:134]\u001b[0m discrim/dis_fc0/fc_diversity output: [500, 100]\n",
      "WARNING:tensorflow:From D:\\Users\\glede\\anaconda3\\envs\\py37\\lib\\site-packages\\tensorpack\\models\\batch_norm.py:204: The name tf.layers.BatchNormalization is deprecated. Please use tf.compat.v1.layers.BatchNormalization instead.\n",
      "\n",
      "WARNING:tensorflow:From D:\\Users\\glede\\anaconda3\\envs\\py37\\lib\\site-packages\\tensorpack\\models\\batch_norm.py:212: The name tf.add_to_collection is deprecated. Please use tf.compat.v1.add_to_collection instead.\n",
      "\n",
      "\u001b[32m[1019 22:05:36 @registry.py:126]\u001b[0m discrim/dis_fc_top input: [500, 110]\n",
      "\u001b[32m[1019 22:05:36 @registry.py:134]\u001b[0m discrim/dis_fc_top output: [500, 1]\n",
      "WARNING:tensorflow:From C:\\Users\\glede\\Documents\\EPFL\\PhD\\SynthPop\\code\\modules\\datgan\\graph.py:103: The name tf.summary.histogram is deprecated. Please use tf.compat.v1.summary.histogram instead.\n",
      "\n",
      "WARNING:tensorflow:From D:\\Users\\glede\\anaconda3\\envs\\py37\\lib\\site-packages\\tensorflow_core\\python\\ops\\nn_impl.py:183: where (from tensorflow.python.ops.array_ops) is deprecated and will be removed in a future version.\n",
      "Instructions for updating:\n",
      "Use tf.where in 2.0, which has the same broadcast rule as np.where\n",
      "WARNING:tensorflow:\n",
      "The TensorFlow contrib module will not be included in TensorFlow 2.0.\n",
      "For more information, please see:\n",
      "  * https://github.com/tensorflow/community/blob/master/rfcs/20180907-contrib-sunset.md\n",
      "  * https://github.com/tensorflow/addons\n",
      "  * https://github.com/tensorflow/io (for I/O related ops)\n",
      "If you depend on functionality not listed there, please file an issue.\n",
      "\n",
      "WARNING:tensorflow:From C:\\Users\\glede\\Documents\\EPFL\\PhD\\SynthPop\\code\\modules\\datgan\\graph.py:704: The name tf.train.AdamOptimizer is deprecated. Please use tf.compat.v1.train.AdamOptimizer instead.\n",
      "\n",
      "\u001b[32m[1019 22:05:39 @model.py:197]\u001b[0m Found an already existing model. Loading it!\n",
      "WARNING:tensorflow:From D:\\Users\\glede\\anaconda3\\envs\\py37\\lib\\site-packages\\tensorpack\\tfutils\\varmanip.py:178: The name tf.gfile.Exists is deprecated. Please use tf.io.gfile.exists instead.\n",
      "\n",
      "\u001b[32m[1019 22:05:39 @logger.py:83]\u001b[0m Existing log file '../output/Chicago/DATGAN_05/logs\\log.log' backuped to '../output/Chicago/DATGAN_05/logs\\log.log.1019-220539'\n",
      "\u001b[32m[1019 22:05:39 @logger.py:90]\u001b[0m Argv: D:\\Users\\glede\\anaconda3\\envs\\py37\\lib\\site-packages\\ipykernel_launcher.py -f C:\\Users\\glede\\AppData\\Roaming\\jupyter\\runtime\\kernel-0faadc98-3eaf-498f-87b2-eba6ba2ee403.json\n",
      "WARNING:tensorflow:From D:\\Users\\glede\\anaconda3\\envs\\py37\\lib\\site-packages\\tensorpack\\callbacks\\saver.py:43: The name tf.gfile.IsDirectory is deprecated. Please use tf.io.gfile.isdir instead.\n",
      "\n",
      "WARNING:tensorflow:From D:\\Users\\glede\\anaconda3\\envs\\py37\\lib\\site-packages\\tensorpack\\tfutils\\common.py:41: The name tf.ConfigProto is deprecated. Please use tf.compat.v1.ConfigProto instead.\n",
      "\n",
      "\u001b[32m[1019 22:05:39 @model_utils.py:67]\u001b[0m \u001b[36mList of Trainable Variables: \n",
      "\u001b[0mname                              shape         #elements\n",
      "--------------------------------  ----------  -----------\n",
      "gen/LSTM/go_age:0                 [1, 100]            100\n",
      "gen/LSTM/lstm_cell/kernel:0       [500, 400]       200000\n",
      "gen/LSTM/lstm_cell/bias:0         [400]               400\n",
      "gen/LSTM/00/FC/W:0                [100, 100]        10000\n",
      "gen/LSTM/00/FC/b:0                [100]               100\n",
      "gen/LSTM/00/FC2_val/W:0           [100, 6]            600\n",
      "gen/LSTM/00/FC2_val/b:0           [6]                   6\n",
      "gen/LSTM/00/FC2_prob/W:0          [100, 6]            600\n",
      "gen/LSTM/00/FC2_prob/b:0          [6]                   6\n",
      "gen/LSTM/00/FC3/W:0               [12, 100]          1200\n",
      "gen/LSTM/00/FC3/b:0               [100]               100\n",
      "gen/LSTM/00/attw:0                [1, 1, 1]             1\n",
      "gen/LSTM/go_gender:0              [1, 100]            100\n",
      "gen/LSTM/01/FC/W:0                [100, 100]        10000\n",
      "gen/LSTM/01/FC/b:0                [100]               100\n",
      "gen/LSTM/01/FC2/W:0               [100, 2]            200\n",
      "gen/LSTM/01/FC2/b:0               [2]                   2\n",
      "gen/LSTM/01/FC3/W:0               [2, 100]            200\n",
      "gen/LSTM/01/FC3/b:0               [100]               100\n",
      "gen/LSTM/01/attw:0                [1, 1, 1]             1\n",
      "gen/LSTM/go_travel_dow:0          [1, 100]            100\n",
      "gen/LSTM/02/FC/W:0                [100, 100]        10000\n",
      "gen/LSTM/02/FC/b:0                [100]               100\n",
      "gen/LSTM/02/FC2/W:0               [100, 7]            700\n",
      "gen/LSTM/02/FC2/b:0               [7]                   7\n",
      "gen/LSTM/02/FC3/W:0               [7, 100]            700\n",
      "gen/LSTM/02/FC3/b:0               [100]               100\n",
      "gen/LSTM/02/attw:0                [1, 1, 1]             1\n",
      "gen/LSTM/03/FC/W:0                [100, 100]        10000\n",
      "gen/LSTM/03/FC/b:0                [100]               100\n",
      "gen/LSTM/03/FC2/W:0               [100, 2]            200\n",
      "gen/LSTM/03/FC2/b:0               [2]                   2\n",
      "gen/LSTM/03/FC3/W:0               [2, 100]            200\n",
      "gen/LSTM/03/FC3/b:0               [100]               100\n",
      "gen/LSTM/03/attw:0                [2, 1, 1]             2\n",
      "gen/LSTM/04/FC/W:0                [100, 100]        10000\n",
      "gen/LSTM/04/FC/b:0                [100]               100\n",
      "gen/LSTM/04/FC2/W:0               [100, 6]            600\n",
      "gen/LSTM/04/FC2/b:0               [6]                   6\n",
      "gen/LSTM/04/FC3/W:0               [6, 100]            600\n",
      "gen/LSTM/04/FC3/b:0               [100]               100\n",
      "gen/LSTM/04/attw:0                [2, 1, 1]             2\n",
      "gen/LSTM/05/FC_inputs/W:0         [200, 100]        20000\n",
      "gen/LSTM/05/FC_inputs/b:0         [100]               100\n",
      "gen/LSTM/05/FC_attentions/W:0     [200, 100]        20000\n",
      "gen/LSTM/05/FC_attentions/b:0     [100]               100\n",
      "gen/LSTM/05/FC_lstm_state_0/W:0   [200, 100]        20000\n",
      "gen/LSTM/05/FC_lstm_state_0/b:0   [100]               100\n",
      "gen/LSTM/05/FC_lstm_state_1/W:0   [200, 100]        20000\n",
      "gen/LSTM/05/FC_lstm_state_1/b:0   [100]               100\n",
      "gen/LSTM/06/FC/W:0                [100, 100]        10000\n",
      "gen/LSTM/06/FC/b:0                [100]               100\n",
      "gen/LSTM/06/FC2/W:0               [100, 8]            800\n",
      "gen/LSTM/06/FC2/b:0               [8]                   8\n",
      "gen/LSTM/06/FC3/W:0               [8, 100]            800\n",
      "gen/LSTM/06/FC3/b:0               [100]               100\n",
      "gen/LSTM/06/attw:0                [4, 1, 1]             4\n",
      "gen/LSTM/07/FC_inputs/W:0         [200, 100]        20000\n",
      "gen/LSTM/07/FC_inputs/b:0         [100]               100\n",
      "gen/LSTM/07/FC_attentions/W:0     [200, 100]        20000\n",
      "gen/LSTM/07/FC_attentions/b:0     [100]               100\n",
      "gen/LSTM/07/FC_lstm_state_0/W:0   [200, 100]        20000\n",
      "gen/LSTM/07/FC_lstm_state_0/b:0   [100]               100\n",
      "gen/LSTM/07/FC_lstm_state_1/W:0   [200, 100]        20000\n",
      "gen/LSTM/07/FC_lstm_state_1/b:0   [100]               100\n",
      "gen/LSTM/08/FC/W:0                [100, 100]        10000\n",
      "gen/LSTM/08/FC/b:0                [100]               100\n",
      "gen/LSTM/08/FC2/W:0               [100, 7]            700\n",
      "gen/LSTM/08/FC2/b:0               [7]                   7\n",
      "gen/LSTM/08/FC3/W:0               [7, 100]            700\n",
      "gen/LSTM/08/FC3/b:0               [100]               100\n",
      "gen/LSTM/08/attw:0                [5, 1, 1]             5\n",
      "gen/LSTM/09/FC/W:0                [100, 100]        10000\n",
      "gen/LSTM/09/FC/b:0                [100]               100\n",
      "gen/LSTM/09/FC2/W:0               [100, 7]            700\n",
      "gen/LSTM/09/FC2/b:0               [7]                   7\n",
      "gen/LSTM/09/FC3/W:0               [7, 100]            700\n",
      "gen/LSTM/09/FC3/b:0               [100]               100\n",
      "gen/LSTM/09/attw:0                [5, 1, 1]             5\n",
      "gen/LSTM/10/FC_inputs/W:0         [200, 100]        20000\n",
      "gen/LSTM/10/FC_inputs/b:0         [100]               100\n",
      "gen/LSTM/10/FC_attentions/W:0     [200, 100]        20000\n",
      "gen/LSTM/10/FC_attentions/b:0     [100]               100\n",
      "gen/LSTM/10/FC_lstm_state_0/W:0   [200, 100]        20000\n",
      "gen/LSTM/10/FC_lstm_state_0/b:0   [100]               100\n",
      "gen/LSTM/10/FC_lstm_state_1/W:0   [200, 100]        20000\n",
      "gen/LSTM/10/FC_lstm_state_1/b:0   [100]               100\n",
      "gen/LSTM/11/FC/W:0                [100, 100]        10000\n",
      "gen/LSTM/11/FC/b:0                [100]               100\n",
      "gen/LSTM/11/FC2/W:0               [100, 3]            300\n",
      "gen/LSTM/11/FC2/b:0               [3]                   3\n",
      "gen/LSTM/11/FC3/W:0               [3, 100]            300\n",
      "gen/LSTM/11/FC3/b:0               [100]               100\n",
      "gen/LSTM/11/attw:0                [6, 1, 1]             6\n",
      "gen/LSTM/12/FC_inputs/W:0         [300, 100]        30000\n",
      "gen/LSTM/12/FC_inputs/b:0         [100]               100\n",
      "gen/LSTM/12/FC_attentions/W:0     [300, 100]        30000\n",
      "gen/LSTM/12/FC_attentions/b:0     [100]               100\n",
      "gen/LSTM/12/FC_lstm_state_0/W:0   [300, 100]        30000\n",
      "gen/LSTM/12/FC_lstm_state_0/b:0   [100]               100\n",
      "gen/LSTM/12/FC_lstm_state_1/W:0   [300, 100]        30000\n",
      "gen/LSTM/12/FC_lstm_state_1/b:0   [100]               100\n",
      "gen/LSTM/13/FC/W:0                [100, 100]        10000\n",
      "gen/LSTM/13/FC/b:0                [100]               100\n",
      "gen/LSTM/13/FC2/W:0               [100, 8]            800\n",
      "gen/LSTM/13/FC2/b:0               [8]                   8\n",
      "gen/LSTM/13/FC3/W:0               [8, 100]            800\n",
      "gen/LSTM/13/FC3/b:0               [100]               100\n",
      "gen/LSTM/13/attw:0                [6, 1, 1]             6\n",
      "gen/LSTM/14/FC/W:0                [100, 100]        10000\n",
      "gen/LSTM/14/FC/b:0                [100]               100\n",
      "gen/LSTM/14/FC2_val/W:0           [100, 8]            800\n",
      "gen/LSTM/14/FC2_val/b:0           [8]                   8\n",
      "gen/LSTM/14/FC2_prob/W:0          [100, 8]            800\n",
      "gen/LSTM/14/FC2_prob/b:0          [8]                   8\n",
      "gen/LSTM/14/FC3/W:0               [16, 100]          1600\n",
      "gen/LSTM/14/FC3/b:0               [100]               100\n",
      "gen/LSTM/14/attw:0                [6, 1, 1]             6\n",
      "gen/LSTM/15/FC/W:0                [100, 100]        10000\n",
      "gen/LSTM/15/FC/b:0                [100]               100\n",
      "gen/LSTM/15/FC2_val/W:0           [100, 10]          1000\n",
      "gen/LSTM/15/FC2_val/b:0           [10]                 10\n",
      "gen/LSTM/15/FC2_prob/W:0          [100, 10]          1000\n",
      "gen/LSTM/15/FC2_prob/b:0          [10]                 10\n",
      "gen/LSTM/15/FC3/W:0               [20, 100]          2000\n",
      "gen/LSTM/15/FC3/b:0               [100]               100\n",
      "gen/LSTM/15/attw:0                [6, 1, 1]             6\n",
      "gen/LSTM/16/FC_inputs/W:0         [200, 100]        20000\n",
      "gen/LSTM/16/FC_inputs/b:0         [100]               100\n",
      "gen/LSTM/16/FC_attentions/W:0     [200, 100]        20000\n",
      "gen/LSTM/16/FC_attentions/b:0     [100]               100\n",
      "gen/LSTM/16/FC_lstm_state_0/W:0   [200, 100]        20000\n",
      "gen/LSTM/16/FC_lstm_state_0/b:0   [100]               100\n",
      "gen/LSTM/16/FC_lstm_state_1/W:0   [200, 100]        20000\n",
      "gen/LSTM/16/FC_lstm_state_1/b:0   [100]               100\n",
      "gen/LSTM/17/FC/W:0                [100, 100]        10000\n",
      "gen/LSTM/17/FC/b:0                [100]               100\n",
      "gen/LSTM/17/FC2/W:0               [100, 9]            900\n",
      "gen/LSTM/17/FC2/b:0               [9]                   9\n",
      "gen/LSTM/17/FC3/W:0               [9, 100]            900\n",
      "gen/LSTM/17/FC3/b:0               [100]               100\n",
      "gen/LSTM/17/attw:0                [7, 1, 1]             7\n",
      "gen/LSTM/18/FC_inputs/W:0         [200, 100]        20000\n",
      "gen/LSTM/18/FC_inputs/b:0         [100]               100\n",
      "gen/LSTM/18/FC_attentions/W:0     [200, 100]        20000\n",
      "gen/LSTM/18/FC_attentions/b:0     [100]               100\n",
      "gen/LSTM/18/FC_lstm_state_0/W:0   [200, 100]        20000\n",
      "gen/LSTM/18/FC_lstm_state_0/b:0   [100]               100\n",
      "gen/LSTM/18/FC_lstm_state_1/W:0   [200, 100]        20000\n",
      "gen/LSTM/18/FC_lstm_state_1/b:0   [100]               100\n",
      "gen/LSTM/19/FC/W:0                [100, 100]        10000\n",
      "gen/LSTM/19/FC/b:0                [100]               100\n",
      "gen/LSTM/19/FC2/W:0               [100, 8]            800\n",
      "gen/LSTM/19/FC2/b:0               [8]                   8\n",
      "gen/LSTM/19/FC3/W:0               [8, 100]            800\n",
      "gen/LSTM/19/FC3/b:0               [100]               100\n",
      "gen/LSTM/19/attw:0                [7, 1, 1]             7\n",
      "gen/LSTM/20/FC_inputs/W:0         [700, 100]        70000\n",
      "gen/LSTM/20/FC_inputs/b:0         [100]               100\n",
      "gen/LSTM/20/FC_attentions/W:0     [700, 100]        70000\n",
      "gen/LSTM/20/FC_attentions/b:0     [100]               100\n",
      "gen/LSTM/20/FC_lstm_state_0/W:0   [700, 100]        70000\n",
      "gen/LSTM/20/FC_lstm_state_0/b:0   [100]               100\n",
      "gen/LSTM/20/FC_lstm_state_1/W:0   [700, 100]        70000\n",
      "gen/LSTM/20/FC_lstm_state_1/b:0   [100]               100\n",
      "gen/LSTM/21/FC/W:0                [100, 100]        10000\n",
      "gen/LSTM/21/FC/b:0                [100]               100\n",
      "gen/LSTM/21/FC2/W:0               [100, 5]            500\n",
      "gen/LSTM/21/FC2/b:0               [5]                   5\n",
      "gen/LSTM/21/FC3/W:0               [5, 100]            500\n",
      "gen/LSTM/21/FC3/b:0               [100]               100\n",
      "gen/LSTM/21/attw:0                [14, 1, 1]           14\n",
      "discrim/dis_fc0/fc/W:0            [120, 100]        12000\n",
      "discrim/dis_fc0/fc/b:0            [100]               100\n",
      "discrim/dis_fc0/fc_diversity/W:0  [100, 100]        10000\n",
      "discrim/dis_fc0/fc_diversity/b:0  [100]               100\n",
      "discrim/dis_fc0/bn/beta:0         [110]               110\n",
      "discrim/dis_fc_top/W:0            [110, 1]            110\n",
      "discrim/dis_fc_top/b:0            [1]                   1\u001b[36m\n",
      "Number of trainable variables: 179\n",
      "Number of parameters (elements): 1203114\n",
      "Storage space needed for all trainable variables: 4.59MB\u001b[0m\n"
     ]
    },
    {
     "name": "stdout",
     "output_type": "stream",
     "text": [
      "\u001b[32m[1019 22:05:39 @base.py:209]\u001b[0m Setup callbacks graph ...\n",
      "WARNING:tensorflow:From D:\\Users\\glede\\anaconda3\\envs\\py37\\lib\\site-packages\\tensorpack\\callbacks\\graph.py:54: The name tf.train.SessionRunArgs is deprecated. Please use tf.estimator.SessionRunArgs instead.\n",
      "\n",
      "WARNING:tensorflow:From D:\\Users\\glede\\anaconda3\\envs\\py37\\lib\\site-packages\\tensorpack\\tfutils\\common.py:75: The name tf.VariableScope is deprecated. Please use tf.compat.v1.VariableScope instead.\n",
      "\n",
      "WARNING:tensorflow:From D:\\Users\\glede\\anaconda3\\envs\\py37\\lib\\site-packages\\tensorpack\\tfutils\\common.py:77: The name tf.train.get_or_create_global_step is deprecated. Please use tf.compat.v1.train.get_or_create_global_step instead.\n",
      "\n",
      "WARNING:tensorflow:From D:\\Users\\glede\\anaconda3\\envs\\py37\\lib\\site-packages\\tensorpack\\callbacks\\steps.py:117: The name tf.assign_add is deprecated. Please use tf.compat.v1.assign_add instead.\n",
      "\n",
      "WARNING:tensorflow:From D:\\Users\\glede\\anaconda3\\envs\\py37\\lib\\site-packages\\tensorpack\\callbacks\\saver.py:55: The name tf.train.Saver is deprecated. Please use tf.compat.v1.train.Saver instead.\n",
      "\n",
      "WARNING:tensorflow:From D:\\Users\\glede\\anaconda3\\envs\\py37\\lib\\site-packages\\tensorpack\\callbacks\\saver.py:59: The name tf.train.SaverDef is deprecated. Please use tf.compat.v1.train.SaverDef instead.\n",
      "\n",
      "\u001b[32m[1019 22:05:40 @summary.py:46]\u001b[0m [MovingAverageSummary] 6 operations in collection 'MOVING_SUMMARY_OPS' will be run with session hooks.\n",
      "\u001b[32m[1019 22:05:40 @summary.py:93]\u001b[0m Summarizing collection 'summaries' of size 9.\n",
      "WARNING:tensorflow:From D:\\Users\\glede\\anaconda3\\envs\\py37\\lib\\site-packages\\tensorpack\\callbacks\\summary.py:94: The name tf.summary.merge_all is deprecated. Please use tf.compat.v1.summary.merge_all instead.\n",
      "\n",
      "\u001b[32m[1019 22:05:40 @graph.py:98]\u001b[0m Applying collection UPDATE_OPS of 4 ops.\n",
      "WARNING:tensorflow:From D:\\Users\\glede\\anaconda3\\envs\\py37\\lib\\site-packages\\tensorpack\\callbacks\\monitor.py:261: The name tf.summary.FileWriter is deprecated. Please use tf.compat.v1.summary.FileWriter instead.\n",
      "\n",
      "WARNING:tensorflow:From D:\\Users\\glede\\anaconda3\\envs\\py37\\lib\\site-packages\\tensorpack\\tfutils\\sessinit.py:120: The name tf.train.NewCheckpointReader is deprecated. Please use tf.compat.v1.train.NewCheckpointReader instead.\n",
      "\n",
      "WARNING:tensorflow:From D:\\Users\\glede\\anaconda3\\envs\\py37\\lib\\site-packages\\tensorpack\\tfutils\\sessinit.py:127: The name tf.global_variables is deprecated. Please use tf.compat.v1.global_variables instead.\n",
      "\n",
      "\u001b[32m[1019 22:05:41 @base.py:230]\u001b[0m Creating the session ...\n",
      "WARNING:tensorflow:From D:\\Users\\glede\\anaconda3\\envs\\py37\\lib\\site-packages\\tensorpack\\tfutils\\sesscreate.py:42: The name tf.Session is deprecated. Please use tf.compat.v1.Session instead.\n",
      "\n",
      "WARNING:tensorflow:From D:\\Users\\glede\\anaconda3\\envs\\py37\\lib\\site-packages\\tensorpack\\tfutils\\sesscreate.py:71: The name tf.global_variables_initializer is deprecated. Please use tf.compat.v1.global_variables_initializer instead.\n",
      "\n",
      "WARNING:tensorflow:From D:\\Users\\glede\\anaconda3\\envs\\py37\\lib\\site-packages\\tensorpack\\tfutils\\sesscreate.py:62: get_backward_walk_ops (from tensorflow.contrib.graph_editor.select) is deprecated and will be removed after 2019-06-06.\n",
      "Instructions for updating:\n",
      "Please use tensorflow.python.ops.op_selector.get_backward_walk_ops.\n",
      "WARNING:tensorflow:From D:\\Users\\glede\\anaconda3\\envs\\py37\\lib\\site-packages\\tensorpack\\tfutils\\sesscreate.py:72: The name tf.local_variables_initializer is deprecated. Please use tf.compat.v1.local_variables_initializer instead.\n",
      "\n",
      "WARNING:tensorflow:From D:\\Users\\glede\\anaconda3\\envs\\py37\\lib\\site-packages\\tensorpack\\tfutils\\sesscreate.py:73: The name tf.tables_initializer is deprecated. Please use tf.compat.v1.tables_initializer instead.\n",
      "\n",
      "WARNING:tensorflow:From D:\\Users\\glede\\anaconda3\\envs\\py37\\lib\\site-packages\\tensorpack\\train\\base.py:254: The name tf.train.MonitoredSession is deprecated. Please use tf.compat.v1.train.MonitoredSession instead.\n",
      "\n",
      "\u001b[32m[1019 22:05:43 @base.py:236]\u001b[0m Initializing the session ...\n",
      "\u001b[32m[1019 22:05:43 @sessinit.py:114]\u001b[0m Restoring checkpoint from ../output/Chicago/DATGAN_05/model\\model-87500 ...\n",
      "INFO:tensorflow:Restoring parameters from ../output/Chicago/DATGAN_05/model\\model-87500\n",
      "\u001b[32m[1019 22:05:43 @base.py:243]\u001b[0m Graph Finalized.\n",
      "WARNING:tensorflow:From D:\\Users\\glede\\anaconda3\\envs\\py37\\lib\\site-packages\\tensorpack\\tfutils\\common.py:89: The name tf.train.global_step is deprecated. Please use tf.compat.v1.train.global_step instead.\n",
      "\n",
      "WARNING:tensorflow:From D:\\Users\\glede\\anaconda3\\envs\\py37\\lib\\site-packages\\tensorpack\\tfutils\\common.py:90: The name tf.get_default_session is deprecated. Please use tf.compat.v1.get_default_session instead.\n",
      "\n",
      "\u001b[32m[1019 22:05:43 @concurrency.py:38]\u001b[0m Starting EnqueueThread QueueInput/input_queue ...\n",
      "\u001b[32m[1019 22:05:43 @steps.py:124]\u001b[0m Start training with global_step=87500\n",
      "\u001b[32m[1019 22:05:44 @monitor.py:347]\u001b[0m Found existing JSON inside ../output/Chicago/DATGAN_05/logs, will append to it.\n",
      "\u001b[32m[1019 22:05:44 @base.py:275]\u001b[0m Start Epoch 501 ...\n"
     ]
    },
    {
     "name": "stderr",
     "output_type": "stream",
     "text": [
      " 95%|###############################################################################2   |167/175[00:08<00:00,28.08it/s]"
     ]
    },
    {
     "name": "stdout",
     "output_type": "stream",
     "text": [
      "WARNING:tensorflow:From D:\\Users\\glede\\anaconda3\\envs\\py37\\lib\\site-packages\\tensorpack\\callbacks\\monitor.py:148: The name tf.Summary is deprecated. Please use tf.compat.v1.Summary instead.\n",
      "\n"
     ]
    },
    {
     "name": "stderr",
     "output_type": "stream",
     "text": [
      "\r",
      "100%|###################################################################################|175/175[00:10<00:00,16.51it/s]"
     ]
    },
    {
     "name": "stdout",
     "output_type": "stream",
     "text": [
      "\u001b[32m[1019 22:05:55 @base.py:285]\u001b[0m Epoch 501 (global_step 87675) finished, time:10.6 seconds.\n",
      "WARNING:tensorflow:From D:\\Users\\glede\\anaconda3\\envs\\py37\\lib\\site-packages\\tensorpack\\callbacks\\saver.py:77: The name tf.train.get_global_step is deprecated. Please use tf.compat.v1.train.get_global_step instead.\n",
      "\n"
     ]
    },
    {
     "name": "stderr",
     "output_type": "stream",
     "text": [
      "\n"
     ]
    },
    {
     "name": "stdout",
     "output_type": "stream",
     "text": [
      "\u001b[32m[1019 22:05:55 @saver.py:79]\u001b[0m Model saved to ../output/Chicago/DATGAN_05/model\\model-87675.\n",
      "\u001b[32m[1019 22:05:55 @monitor.py:467]\u001b[0m GAN_loss/discrim/accuracy_fake: 0.984\n",
      "\u001b[32m[1019 22:05:55 @monitor.py:467]\u001b[0m GAN_loss/discrim/accuracy_real: 0.036\n",
      "\u001b[32m[1019 22:05:55 @monitor.py:467]\u001b[0m GAN_loss/discrim/loss: 0.6472\n",
      "\u001b[32m[1019 22:05:55 @monitor.py:467]\u001b[0m GAN_loss/gen/final-g-loss: 1.0033\n",
      "\u001b[32m[1019 22:05:55 @monitor.py:467]\u001b[0m GAN_loss/gen/klloss: 0.061537\n",
      "\u001b[32m[1019 22:05:55 @monitor.py:467]\u001b[0m GAN_loss/gen/loss: 0.9418\n",
      "\u001b[32m[1019 22:05:55 @monitor.py:467]\u001b[0m QueueInput/queue_size: 50\n",
      "\u001b[32m[1019 22:05:55 @base.py:275]\u001b[0m Start Epoch 502 ...\n"
     ]
    },
    {
     "name": "stderr",
     "output_type": "stream",
     "text": [
      "100%|###################################################################################|175/175[00:06<00:00,28.59it/s]"
     ]
    },
    {
     "name": "stdout",
     "output_type": "stream",
     "text": [
      "\u001b[32m[1019 22:06:01 @base.py:285]\u001b[0m Epoch 502 (global_step 87850) finished, time:6.12 seconds.\n",
      "\u001b[32m[1019 22:06:01 @saver.py:79]\u001b[0m Model saved to ../output/Chicago/DATGAN_05/model\\model-87850.\n",
      "\u001b[32m[1019 22:06:01 @monitor.py:467]\u001b[0m GAN_loss/discrim/accuracy_fake: 0.968\n",
      "\u001b[32m[1019 22:06:01 @monitor.py:467]\u001b[0m GAN_loss/discrim/accuracy_real: 0.058\n",
      "\u001b[32m[1019 22:06:01 @monitor.py:467]\u001b[0m GAN_loss/discrim/loss: 0.64979\n",
      "\u001b[32m[1019 22:06:01 @monitor.py:467]\u001b[0m GAN_loss/gen/final-g-loss: 0.98492\n",
      "\u001b[32m[1019 22:06:01 @monitor.py:467]\u001b[0m GAN_loss/gen/klloss: 0.049165\n",
      "\u001b[32m[1019 22:06:01 @monitor.py:467]\u001b[0m GAN_loss/gen/loss: 0.93576\n",
      "\u001b[32m[1019 22:06:01 @monitor.py:467]\u001b[0m QueueInput/queue_size: 50\n",
      "\u001b[32m[1019 22:06:01 @base.py:275]\u001b[0m Start Epoch 503 ...\n"
     ]
    },
    {
     "name": "stderr",
     "output_type": "stream",
     "text": [
      "\n",
      "100%|###################################################################################|175/175[00:06<00:00,28.90it/s]"
     ]
    },
    {
     "name": "stdout",
     "output_type": "stream",
     "text": [
      "\u001b[32m[1019 22:06:07 @base.py:285]\u001b[0m Epoch 503 (global_step 88025) finished, time:6.06 seconds.\n",
      "\u001b[32m[1019 22:06:08 @saver.py:79]\u001b[0m Model saved to ../output/Chicago/DATGAN_05/model\\model-88025.\n",
      "\u001b[32m[1019 22:06:08 @monitor.py:467]\u001b[0m GAN_loss/discrim/accuracy_fake: 0.984\n",
      "\u001b[32m[1019 22:06:08 @monitor.py:467]\u001b[0m GAN_loss/discrim/accuracy_real: 0.04\n",
      "\u001b[32m[1019 22:06:08 @monitor.py:467]\u001b[0m GAN_loss/discrim/loss: 0.65061\n",
      "\u001b[32m[1019 22:06:08 @monitor.py:467]\u001b[0m GAN_loss/gen/final-g-loss: 1.0282\n",
      "\u001b[32m[1019 22:06:08 @monitor.py:467]\u001b[0m GAN_loss/gen/klloss: 0.086233\n",
      "\u001b[32m[1019 22:06:08 @monitor.py:467]\u001b[0m GAN_loss/gen/loss: 0.94199\n",
      "\u001b[32m[1019 22:06:08 @monitor.py:467]\u001b[0m QueueInput/queue_size: 50\n",
      "\u001b[32m[1019 22:06:08 @base.py:275]\u001b[0m Start Epoch 504 ...\n"
     ]
    },
    {
     "name": "stderr",
     "output_type": "stream",
     "text": [
      "\n",
      "100%|###################################################################################|175/175[00:05<00:00,29.94it/s]"
     ]
    },
    {
     "name": "stdout",
     "output_type": "stream",
     "text": [
      "\u001b[32m[1019 22:06:13 @base.py:285]\u001b[0m Epoch 504 (global_step 88200) finished, time:5.85 seconds.\n"
     ]
    },
    {
     "name": "stderr",
     "output_type": "stream",
     "text": [
      "\n"
     ]
    },
    {
     "name": "stdout",
     "output_type": "stream",
     "text": [
      "\u001b[32m[1019 22:06:14 @saver.py:79]\u001b[0m Model saved to ../output/Chicago/DATGAN_05/model\\model-88200.\n",
      "\u001b[32m[1019 22:06:14 @monitor.py:467]\u001b[0m GAN_loss/discrim/accuracy_fake: 0.96\n",
      "\u001b[32m[1019 22:06:14 @monitor.py:467]\u001b[0m GAN_loss/discrim/accuracy_real: 0.042\n",
      "\u001b[32m[1019 22:06:14 @monitor.py:467]\u001b[0m GAN_loss/discrim/loss: 0.65402\n",
      "\u001b[32m[1019 22:06:14 @monitor.py:467]\u001b[0m GAN_loss/gen/final-g-loss: 0.9807\n",
      "\u001b[32m[1019 22:06:14 @monitor.py:467]\u001b[0m GAN_loss/gen/klloss: 0.051717\n",
      "\u001b[32m[1019 22:06:14 @monitor.py:467]\u001b[0m GAN_loss/gen/loss: 0.92898\n",
      "\u001b[32m[1019 22:06:14 @monitor.py:467]\u001b[0m QueueInput/queue_size: 50\n",
      "\u001b[32m[1019 22:06:14 @base.py:275]\u001b[0m Start Epoch 505 ...\n"
     ]
    },
    {
     "name": "stderr",
     "output_type": "stream",
     "text": [
      "100%|###################################################################################|175/175[00:05<00:00,30.12it/s]"
     ]
    },
    {
     "name": "stdout",
     "output_type": "stream",
     "text": [
      "\u001b[32m[1019 22:06:19 @base.py:285]\u001b[0m Epoch 505 (global_step 88375) finished, time:5.81 seconds.\n",
      "\u001b[32m[1019 22:06:20 @saver.py:79]\u001b[0m Model saved to ../output/Chicago/DATGAN_05/model\\model-88375.\n"
     ]
    },
    {
     "name": "stderr",
     "output_type": "stream",
     "text": [
      "\n"
     ]
    },
    {
     "name": "stdout",
     "output_type": "stream",
     "text": [
      "\u001b[32m[1019 22:06:20 @monitor.py:467]\u001b[0m GAN_loss/discrim/accuracy_fake: 0.97\n",
      "\u001b[32m[1019 22:06:20 @monitor.py:467]\u001b[0m GAN_loss/discrim/accuracy_real: 0.06\n",
      "\u001b[32m[1019 22:06:20 @monitor.py:467]\u001b[0m GAN_loss/discrim/loss: 0.64648\n",
      "\u001b[32m[1019 22:06:20 @monitor.py:467]\u001b[0m GAN_loss/gen/final-g-loss: 0.99488\n",
      "\u001b[32m[1019 22:06:20 @monitor.py:467]\u001b[0m GAN_loss/gen/klloss: 0.050869\n",
      "\u001b[32m[1019 22:06:20 @monitor.py:467]\u001b[0m GAN_loss/gen/loss: 0.94402\n",
      "\u001b[32m[1019 22:06:20 @monitor.py:467]\u001b[0m QueueInput/queue_size: 50\n",
      "\u001b[32m[1019 22:06:20 @base.py:275]\u001b[0m Start Epoch 506 ...\n"
     ]
    },
    {
     "name": "stderr",
     "output_type": "stream",
     "text": [
      "100%|###################################################################################|175/175[00:05<00:00,29.79it/s]"
     ]
    },
    {
     "name": "stdout",
     "output_type": "stream",
     "text": [
      "\u001b[32m[1019 22:06:26 @base.py:285]\u001b[0m Epoch 506 (global_step 88550) finished, time:5.87 seconds.\n"
     ]
    },
    {
     "name": "stderr",
     "output_type": "stream",
     "text": [
      "\n"
     ]
    },
    {
     "name": "stdout",
     "output_type": "stream",
     "text": [
      "\u001b[32m[1019 22:06:26 @saver.py:79]\u001b[0m Model saved to ../output/Chicago/DATGAN_05/model\\model-88550.\n",
      "\u001b[32m[1019 22:06:26 @monitor.py:467]\u001b[0m GAN_loss/discrim/accuracy_fake: 0.964\n",
      "\u001b[32m[1019 22:06:26 @monitor.py:467]\u001b[0m GAN_loss/discrim/accuracy_real: 0.062\n",
      "\u001b[32m[1019 22:06:26 @monitor.py:467]\u001b[0m GAN_loss/discrim/loss: 0.64992\n",
      "\u001b[32m[1019 22:06:26 @monitor.py:467]\u001b[0m GAN_loss/gen/final-g-loss: 0.98822\n",
      "\u001b[32m[1019 22:06:26 @monitor.py:467]\u001b[0m GAN_loss/gen/klloss: 0.055472\n",
      "\u001b[32m[1019 22:06:26 @monitor.py:467]\u001b[0m GAN_loss/gen/loss: 0.93275\n",
      "\u001b[32m[1019 22:06:26 @monitor.py:467]\u001b[0m QueueInput/queue_size: 50\n",
      "\u001b[32m[1019 22:06:26 @base.py:275]\u001b[0m Start Epoch 507 ...\n"
     ]
    },
    {
     "name": "stderr",
     "output_type": "stream",
     "text": [
      "100%|###################################################################################|175/175[00:05<00:00,29.36it/s]"
     ]
    },
    {
     "name": "stdout",
     "output_type": "stream",
     "text": [
      "\u001b[32m[1019 22:06:32 @base.py:285]\u001b[0m Epoch 507 (global_step 88725) finished, time:5.96 seconds.\n",
      "\u001b[32m[1019 22:06:32 @saver.py:79]\u001b[0m Model saved to ../output/Chicago/DATGAN_05/model\\model-88725.\n",
      "\u001b[32m[1019 22:06:32 @monitor.py:467]\u001b[0m GAN_loss/discrim/accuracy_fake: 0.96\n",
      "\u001b[32m[1019 22:06:32 @monitor.py:467]\u001b[0m GAN_loss/discrim/accuracy_real: 0.058\n",
      "\u001b[32m[1019 22:06:32 @monitor.py:467]\u001b[0m GAN_loss/discrim/loss: 0.64853\n",
      "\u001b[32m[1019 22:06:32 @monitor.py:467]\u001b[0m GAN_loss/gen/final-g-loss: 1.0015\n",
      "\u001b[32m[1019 22:06:32 @monitor.py:467]\u001b[0m GAN_loss/gen/klloss: 0.067891\n",
      "\u001b[32m[1019 22:06:32 @monitor.py:467]\u001b[0m GAN_loss/gen/loss: 0.93364\n",
      "\u001b[32m[1019 22:06:32 @monitor.py:467]\u001b[0m QueueInput/queue_size: 50\n",
      "\u001b[32m[1019 22:06:32 @base.py:275]\u001b[0m Start Epoch 508 ...\n"
     ]
    },
    {
     "name": "stderr",
     "output_type": "stream",
     "text": [
      "\n",
      "100%|###################################################################################|175/175[00:05<00:00,29.30it/s]"
     ]
    },
    {
     "name": "stdout",
     "output_type": "stream",
     "text": [
      "\u001b[32m[1019 22:06:38 @base.py:285]\u001b[0m Epoch 508 (global_step 88900) finished, time:5.97 seconds.\n",
      "\u001b[32m[1019 22:06:38 @saver.py:79]\u001b[0m Model saved to ../output/Chicago/DATGAN_05/model\\model-88900.\n",
      "\u001b[32m[1019 22:06:38 @monitor.py:467]\u001b[0m GAN_loss/discrim/accuracy_fake: 0.98\n"
     ]
    },
    {
     "name": "stderr",
     "output_type": "stream",
     "text": [
      "\n"
     ]
    },
    {
     "name": "stdout",
     "output_type": "stream",
     "text": [
      "\u001b[32m[1019 22:06:38 @monitor.py:467]\u001b[0m GAN_loss/discrim/accuracy_real: 0.04\n",
      "\u001b[32m[1019 22:06:38 @monitor.py:467]\u001b[0m GAN_loss/discrim/loss: 0.64775\n",
      "\u001b[32m[1019 22:06:38 @monitor.py:467]\u001b[0m GAN_loss/gen/final-g-loss: 0.99625\n",
      "\u001b[32m[1019 22:06:38 @monitor.py:467]\u001b[0m GAN_loss/gen/klloss: 0.062275\n",
      "\u001b[32m[1019 22:06:38 @monitor.py:467]\u001b[0m GAN_loss/gen/loss: 0.93397\n",
      "\u001b[32m[1019 22:06:38 @monitor.py:467]\u001b[0m QueueInput/queue_size: 50\n",
      "\u001b[32m[1019 22:06:38 @base.py:275]\u001b[0m Start Epoch 509 ...\n"
     ]
    },
    {
     "name": "stderr",
     "output_type": "stream",
     "text": [
      "100%|###################################################################################|175/175[00:05<00:00,30.42it/s]"
     ]
    },
    {
     "name": "stdout",
     "output_type": "stream",
     "text": [
      "\u001b[32m[1019 22:06:44 @base.py:285]\u001b[0m Epoch 509 (global_step 89075) finished, time:5.75 seconds.\n",
      "\u001b[32m[1019 22:06:44 @saver.py:79]\u001b[0m Model saved to ../output/Chicago/DATGAN_05/model\\model-89075.\n",
      "\u001b[32m[1019 22:06:44 @monitor.py:467]\u001b[0m GAN_loss/discrim/accuracy_fake: 0.958\n",
      "\u001b[32m[1019 22:06:44 @monitor.py:467]\u001b[0m GAN_loss/discrim/accuracy_real: 0.046\n",
      "\u001b[32m[1019 22:06:44 @monitor.py:467]\u001b[0m GAN_loss/discrim/loss: 0.65368\n",
      "\u001b[32m[1019 22:06:44 @monitor.py:467]\u001b[0m GAN_loss/gen/final-g-loss: 1.007\n",
      "\u001b[32m[1019 22:06:44 @monitor.py:467]\u001b[0m GAN_loss/gen/klloss: 0.076921\n",
      "\u001b[32m[1019 22:06:44 @monitor.py:467]\u001b[0m GAN_loss/gen/loss: 0.93005\n",
      "\u001b[32m[1019 22:06:44 @monitor.py:467]\u001b[0m QueueInput/queue_size: 50\n",
      "\u001b[32m[1019 22:06:44 @base.py:275]\u001b[0m Start Epoch 510 ...\n"
     ]
    },
    {
     "name": "stderr",
     "output_type": "stream",
     "text": [
      "\n",
      "100%|###################################################################################|175/175[00:05<00:00,30.32it/s]"
     ]
    },
    {
     "name": "stdout",
     "output_type": "stream",
     "text": [
      "\u001b[32m[1019 22:06:50 @base.py:285]\u001b[0m Epoch 510 (global_step 89250) finished, time:5.77 seconds.\n",
      "\u001b[32m[1019 22:06:50 @saver.py:79]\u001b[0m Model saved to ../output/Chicago/DATGAN_05/model\\model-89250.\n"
     ]
    },
    {
     "name": "stderr",
     "output_type": "stream",
     "text": [
      "\n"
     ]
    },
    {
     "name": "stdout",
     "output_type": "stream",
     "text": [
      "\u001b[32m[1019 22:06:50 @monitor.py:467]\u001b[0m GAN_loss/discrim/accuracy_fake: 0.956\n",
      "\u001b[32m[1019 22:06:50 @monitor.py:467]\u001b[0m GAN_loss/discrim/accuracy_real: 0.03\n",
      "\u001b[32m[1019 22:06:50 @monitor.py:467]\u001b[0m GAN_loss/discrim/loss: 0.65032\n",
      "\u001b[32m[1019 22:06:50 @monitor.py:467]\u001b[0m GAN_loss/gen/final-g-loss: 1.0088\n",
      "\u001b[32m[1019 22:06:50 @monitor.py:467]\u001b[0m GAN_loss/gen/klloss: 0.072744\n",
      "\u001b[32m[1019 22:06:50 @monitor.py:467]\u001b[0m GAN_loss/gen/loss: 0.93609\n",
      "\u001b[32m[1019 22:06:50 @monitor.py:467]\u001b[0m QueueInput/queue_size: 50\n",
      "\u001b[32m[1019 22:06:50 @base.py:275]\u001b[0m Start Epoch 511 ...\n"
     ]
    },
    {
     "name": "stderr",
     "output_type": "stream",
     "text": [
      "100%|###################################################################################|175/175[00:05<00:00,30.37it/s]"
     ]
    },
    {
     "name": "stdout",
     "output_type": "stream",
     "text": [
      "\u001b[32m[1019 22:06:56 @base.py:285]\u001b[0m Epoch 511 (global_step 89425) finished, time:5.76 seconds.\n",
      "WARNING:tensorflow:From D:\\Users\\glede\\anaconda3\\envs\\py37\\lib\\site-packages\\tensorflow_core\\python\\training\\saver.py:963: remove_checkpoint (from tensorflow.python.training.checkpoint_management) is deprecated and will be removed in a future version.\n",
      "Instructions for updating:\n",
      "Use standard file APIs to delete files with this prefix.\n",
      "\u001b[32m[1019 22:06:56 @saver.py:79]\u001b[0m Model saved to ../output/Chicago/DATGAN_05/model\\model-89425.\n"
     ]
    },
    {
     "name": "stderr",
     "output_type": "stream",
     "text": [
      "\n"
     ]
    },
    {
     "name": "stdout",
     "output_type": "stream",
     "text": [
      "\u001b[32m[1019 22:06:56 @monitor.py:467]\u001b[0m GAN_loss/discrim/accuracy_fake: 0.972\n",
      "\u001b[32m[1019 22:06:56 @monitor.py:467]\u001b[0m GAN_loss/discrim/accuracy_real: 0.038\n",
      "\u001b[32m[1019 22:06:56 @monitor.py:467]\u001b[0m GAN_loss/discrim/loss: 0.64965\n",
      "\u001b[32m[1019 22:06:56 @monitor.py:467]\u001b[0m GAN_loss/gen/final-g-loss: 0.98685\n",
      "\u001b[32m[1019 22:06:56 @monitor.py:467]\u001b[0m GAN_loss/gen/klloss: 0.051337\n",
      "\u001b[32m[1019 22:06:56 @monitor.py:467]\u001b[0m GAN_loss/gen/loss: 0.93552\n",
      "\u001b[32m[1019 22:06:56 @monitor.py:467]\u001b[0m QueueInput/queue_size: 50\n",
      "\u001b[32m[1019 22:06:56 @base.py:275]\u001b[0m Start Epoch 512 ...\n"
     ]
    },
    {
     "name": "stderr",
     "output_type": "stream",
     "text": [
      "100%|###################################################################################|175/175[00:05<00:00,29.21it/s]"
     ]
    },
    {
     "name": "stdout",
     "output_type": "stream",
     "text": [
      "\u001b[32m[1019 22:07:02 @base.py:285]\u001b[0m Epoch 512 (global_step 89600) finished, time:5.99 seconds.\n",
      "\u001b[32m[1019 22:07:02 @saver.py:79]\u001b[0m Model saved to ../output/Chicago/DATGAN_05/model\\model-89600.\n"
     ]
    },
    {
     "name": "stderr",
     "output_type": "stream",
     "text": [
      "\n"
     ]
    },
    {
     "name": "stdout",
     "output_type": "stream",
     "text": [
      "\u001b[32m[1019 22:07:02 @monitor.py:467]\u001b[0m GAN_loss/discrim/accuracy_fake: 0.976\n",
      "\u001b[32m[1019 22:07:02 @monitor.py:467]\u001b[0m GAN_loss/discrim/accuracy_real: 0.044\n",
      "\u001b[32m[1019 22:07:02 @monitor.py:467]\u001b[0m GAN_loss/discrim/loss: 0.64822\n",
      "\u001b[32m[1019 22:07:02 @monitor.py:467]\u001b[0m GAN_loss/gen/final-g-loss: 0.99732\n",
      "\u001b[32m[1019 22:07:02 @monitor.py:467]\u001b[0m GAN_loss/gen/klloss: 0.05753\n",
      "\u001b[32m[1019 22:07:02 @monitor.py:467]\u001b[0m GAN_loss/gen/loss: 0.93979\n",
      "\u001b[32m[1019 22:07:02 @monitor.py:467]\u001b[0m QueueInput/queue_size: 50\n",
      "\u001b[32m[1019 22:07:02 @base.py:275]\u001b[0m Start Epoch 513 ...\n"
     ]
    },
    {
     "name": "stderr",
     "output_type": "stream",
     "text": [
      "100%|###################################################################################|175/175[00:06<00:00,28.72it/s]"
     ]
    },
    {
     "name": "stdout",
     "output_type": "stream",
     "text": [
      "\u001b[32m[1019 22:07:08 @base.py:285]\u001b[0m Epoch 513 (global_step 89775) finished, time:6.09 seconds.\n",
      "\u001b[32m[1019 22:07:08 @saver.py:79]\u001b[0m Model saved to ../output/Chicago/DATGAN_05/model\\model-89775.\n",
      "\u001b[32m[1019 22:07:08 @monitor.py:467]\u001b[0m GAN_loss/discrim/accuracy_fake: 0.972\n"
     ]
    },
    {
     "name": "stderr",
     "output_type": "stream",
     "text": [
      "\n"
     ]
    },
    {
     "name": "stdout",
     "output_type": "stream",
     "text": [
      "\u001b[32m[1019 22:07:08 @monitor.py:467]\u001b[0m GAN_loss/discrim/accuracy_real: 0.066\n",
      "\u001b[32m[1019 22:07:08 @monitor.py:467]\u001b[0m GAN_loss/discrim/loss: 0.64742\n",
      "\u001b[32m[1019 22:07:08 @monitor.py:467]\u001b[0m GAN_loss/gen/final-g-loss: 1.0078\n",
      "\u001b[32m[1019 22:07:08 @monitor.py:467]\u001b[0m GAN_loss/gen/klloss: 0.073913\n",
      "\u001b[32m[1019 22:07:08 @monitor.py:467]\u001b[0m GAN_loss/gen/loss: 0.93385\n",
      "\u001b[32m[1019 22:07:08 @monitor.py:467]\u001b[0m QueueInput/queue_size: 50\n",
      "\u001b[32m[1019 22:07:08 @base.py:275]\u001b[0m Start Epoch 514 ...\n"
     ]
    },
    {
     "name": "stderr",
     "output_type": "stream",
     "text": [
      "100%|###################################################################################|175/175[00:05<00:00,29.31it/s]"
     ]
    },
    {
     "name": "stdout",
     "output_type": "stream",
     "text": [
      "\u001b[32m[1019 22:07:14 @base.py:285]\u001b[0m Epoch 514 (global_step 89950) finished, time:5.97 seconds.\n",
      "\u001b[32m[1019 22:07:14 @saver.py:79]\u001b[0m Model saved to ../output/Chicago/DATGAN_05/model\\model-89950.\n",
      "\u001b[32m[1019 22:07:14 @monitor.py:467]\u001b[0m GAN_loss/discrim/accuracy_fake: 0.982\n"
     ]
    },
    {
     "name": "stderr",
     "output_type": "stream",
     "text": [
      "\n"
     ]
    },
    {
     "name": "stdout",
     "output_type": "stream",
     "text": [
      "\u001b[32m[1019 22:07:14 @monitor.py:467]\u001b[0m GAN_loss/discrim/accuracy_real: 0.032\n",
      "\u001b[32m[1019 22:07:14 @monitor.py:467]\u001b[0m GAN_loss/discrim/loss: 0.65408\n",
      "\u001b[32m[1019 22:07:14 @monitor.py:467]\u001b[0m GAN_loss/gen/final-g-loss: 1.002\n",
      "\u001b[32m[1019 22:07:14 @monitor.py:467]\u001b[0m GAN_loss/gen/klloss: 0.07212\n",
      "\u001b[32m[1019 22:07:14 @monitor.py:467]\u001b[0m GAN_loss/gen/loss: 0.92989\n",
      "\u001b[32m[1019 22:07:14 @monitor.py:467]\u001b[0m QueueInput/queue_size: 50\n",
      "\u001b[32m[1019 22:07:14 @base.py:275]\u001b[0m Start Epoch 515 ...\n"
     ]
    },
    {
     "name": "stderr",
     "output_type": "stream",
     "text": [
      "100%|###################################################################################|175/175[00:05<00:00,29.60it/s]"
     ]
    },
    {
     "name": "stdout",
     "output_type": "stream",
     "text": [
      "\u001b[32m[1019 22:07:20 @base.py:285]\u001b[0m Epoch 515 (global_step 90125) finished, time:5.91 seconds.\n",
      "\u001b[32m[1019 22:07:20 @saver.py:79]\u001b[0m Model saved to ../output/Chicago/DATGAN_05/model\\model-90125.\n",
      "\u001b[32m[1019 22:07:20 @monitor.py:467]\u001b[0m GAN_loss/discrim/accuracy_fake: 0.966\n",
      "\u001b[32m[1019 22:07:20 @monitor.py:467]\u001b[0m GAN_loss/discrim/accuracy_real: 0.046\n",
      "\u001b[32m[1019 22:07:20 @monitor.py:467]\u001b[0m GAN_loss/discrim/loss: 0.64996\n",
      "\u001b[32m[1019 22:07:20 @monitor.py:467]\u001b[0m GAN_loss/gen/final-g-loss: 0.99617\n",
      "\u001b[32m[1019 22:07:20 @monitor.py:467]\u001b[0m GAN_loss/gen/klloss: 0.062479\n",
      "\u001b[32m[1019 22:07:20 @monitor.py:467]\u001b[0m GAN_loss/gen/loss: 0.93369\n",
      "\u001b[32m[1019 22:07:20 @monitor.py:467]\u001b[0m QueueInput/queue_size: 50\n"
     ]
    },
    {
     "name": "stderr",
     "output_type": "stream",
     "text": [
      "\n"
     ]
    },
    {
     "name": "stdout",
     "output_type": "stream",
     "text": [
      "\u001b[32m[1019 22:07:20 @base.py:275]\u001b[0m Start Epoch 516 ...\n"
     ]
    },
    {
     "name": "stderr",
     "output_type": "stream",
     "text": [
      "100%|###################################################################################|175/175[00:05<00:00,29.88it/s]"
     ]
    },
    {
     "name": "stdout",
     "output_type": "stream",
     "text": [
      "\u001b[32m[1019 22:07:26 @base.py:285]\u001b[0m Epoch 516 (global_step 90300) finished, time:5.86 seconds.\n"
     ]
    },
    {
     "name": "stderr",
     "output_type": "stream",
     "text": [
      "\n"
     ]
    },
    {
     "name": "stdout",
     "output_type": "stream",
     "text": [
      "\u001b[32m[1019 22:07:26 @saver.py:79]\u001b[0m Model saved to ../output/Chicago/DATGAN_05/model\\model-90300.\n",
      "\u001b[32m[1019 22:07:27 @monitor.py:467]\u001b[0m GAN_loss/discrim/accuracy_fake: 0.974\n",
      "\u001b[32m[1019 22:07:27 @monitor.py:467]\u001b[0m GAN_loss/discrim/accuracy_real: 0.044\n",
      "\u001b[32m[1019 22:07:27 @monitor.py:467]\u001b[0m GAN_loss/discrim/loss: 0.64811\n",
      "\u001b[32m[1019 22:07:27 @monitor.py:467]\u001b[0m GAN_loss/gen/final-g-loss: 0.98325\n",
      "\u001b[32m[1019 22:07:27 @monitor.py:467]\u001b[0m GAN_loss/gen/klloss: 0.041935\n",
      "\u001b[32m[1019 22:07:27 @monitor.py:467]\u001b[0m GAN_loss/gen/loss: 0.94132\n",
      "\u001b[32m[1019 22:07:27 @monitor.py:467]\u001b[0m QueueInput/queue_size: 50\n",
      "\u001b[32m[1019 22:07:27 @base.py:275]\u001b[0m Start Epoch 517 ...\n"
     ]
    },
    {
     "name": "stderr",
     "output_type": "stream",
     "text": [
      "100%|###################################################################################|175/175[00:05<00:00,29.38it/s]"
     ]
    },
    {
     "name": "stdout",
     "output_type": "stream",
     "text": [
      "\u001b[32m[1019 22:07:32 @base.py:285]\u001b[0m Epoch 517 (global_step 90475) finished, time:5.96 seconds.\n",
      "\u001b[32m[1019 22:07:33 @saver.py:79]\u001b[0m Model saved to ../output/Chicago/DATGAN_05/model\\model-90475.\n"
     ]
    },
    {
     "name": "stderr",
     "output_type": "stream",
     "text": [
      "\n"
     ]
    },
    {
     "name": "stdout",
     "output_type": "stream",
     "text": [
      "\u001b[32m[1019 22:07:33 @monitor.py:467]\u001b[0m GAN_loss/discrim/accuracy_fake: 0.986\n",
      "\u001b[32m[1019 22:07:33 @monitor.py:467]\u001b[0m GAN_loss/discrim/accuracy_real: 0.056\n",
      "\u001b[32m[1019 22:07:33 @monitor.py:467]\u001b[0m GAN_loss/discrim/loss: 0.64408\n",
      "\u001b[32m[1019 22:07:33 @monitor.py:467]\u001b[0m GAN_loss/gen/final-g-loss: 1.0154\n",
      "\u001b[32m[1019 22:07:33 @monitor.py:467]\u001b[0m GAN_loss/gen/klloss: 0.071787\n",
      "\u001b[32m[1019 22:07:33 @monitor.py:467]\u001b[0m GAN_loss/gen/loss: 0.94366\n",
      "\u001b[32m[1019 22:07:33 @monitor.py:467]\u001b[0m QueueInput/queue_size: 50\n",
      "\u001b[32m[1019 22:07:33 @base.py:275]\u001b[0m Start Epoch 518 ...\n"
     ]
    },
    {
     "name": "stderr",
     "output_type": "stream",
     "text": [
      "100%|###################################################################################|175/175[00:05<00:00,29.64it/s]"
     ]
    },
    {
     "name": "stdout",
     "output_type": "stream",
     "text": [
      "\u001b[32m[1019 22:07:39 @base.py:285]\u001b[0m Epoch 518 (global_step 90650) finished, time:5.91 seconds.\n",
      "\u001b[32m[1019 22:07:39 @saver.py:79]\u001b[0m Model saved to ../output/Chicago/DATGAN_05/model\\model-90650.\n"
     ]
    },
    {
     "name": "stderr",
     "output_type": "stream",
     "text": [
      "\n"
     ]
    },
    {
     "name": "stdout",
     "output_type": "stream",
     "text": [
      "\u001b[32m[1019 22:07:39 @monitor.py:467]\u001b[0m GAN_loss/discrim/accuracy_fake: 0.982\n",
      "\u001b[32m[1019 22:07:39 @monitor.py:467]\u001b[0m GAN_loss/discrim/accuracy_real: 0.044\n",
      "\u001b[32m[1019 22:07:39 @monitor.py:467]\u001b[0m GAN_loss/discrim/loss: 0.6445\n",
      "\u001b[32m[1019 22:07:39 @monitor.py:467]\u001b[0m GAN_loss/gen/final-g-loss: 1.0009\n",
      "\u001b[32m[1019 22:07:39 @monitor.py:467]\u001b[0m GAN_loss/gen/klloss: 0.06404\n",
      "\u001b[32m[1019 22:07:39 @monitor.py:467]\u001b[0m GAN_loss/gen/loss: 0.93686\n",
      "\u001b[32m[1019 22:07:39 @monitor.py:467]\u001b[0m QueueInput/queue_size: 50\n",
      "\u001b[32m[1019 22:07:39 @base.py:275]\u001b[0m Start Epoch 519 ...\n"
     ]
    },
    {
     "name": "stderr",
     "output_type": "stream",
     "text": [
      "100%|###################################################################################|175/175[00:05<00:00,30.17it/s]"
     ]
    },
    {
     "name": "stdout",
     "output_type": "stream",
     "text": [
      "\u001b[32m[1019 22:07:45 @base.py:285]\u001b[0m Epoch 519 (global_step 90825) finished, time:5.8 seconds.\n",
      "\u001b[32m[1019 22:07:45 @saver.py:79]\u001b[0m Model saved to ../output/Chicago/DATGAN_05/model\\model-90825.\n",
      "\u001b[32m[1019 22:07:45 @monitor.py:467]\u001b[0m GAN_loss/discrim/accuracy_fake: 0.964\n",
      "\u001b[32m[1019 22:07:45 @monitor.py:467]\u001b[0m GAN_loss/discrim/accuracy_real: 0.058\n",
      "\u001b[32m[1019 22:07:45 @monitor.py:467]\u001b[0m GAN_loss/discrim/loss: 0.64827\n",
      "\u001b[32m[1019 22:07:45 @monitor.py:467]\u001b[0m GAN_loss/gen/final-g-loss: 0.97291\n",
      "\u001b[32m[1019 22:07:45 @monitor.py:467]\u001b[0m GAN_loss/gen/klloss: 0.040806\n",
      "\u001b[32m[1019 22:07:45 @monitor.py:467]\u001b[0m GAN_loss/gen/loss: 0.93211\n",
      "\u001b[32m[1019 22:07:45 @monitor.py:467]\u001b[0m QueueInput/queue_size: 50\n",
      "\u001b[32m[1019 22:07:45 @base.py:275]\u001b[0m Start Epoch 520 ...\n"
     ]
    },
    {
     "name": "stderr",
     "output_type": "stream",
     "text": [
      "\n",
      "100%|###################################################################################|175/175[00:06<00:00,29.12it/s]"
     ]
    },
    {
     "name": "stdout",
     "output_type": "stream",
     "text": [
      "\u001b[32m[1019 22:07:51 @base.py:285]\u001b[0m Epoch 520 (global_step 91000) finished, time:6.01 seconds.\n",
      "\u001b[32m[1019 22:07:51 @saver.py:79]\u001b[0m Model saved to ../output/Chicago/DATGAN_05/model\\model-91000.\n",
      "\u001b[32m[1019 22:07:51 @monitor.py:467]\u001b[0m GAN_loss/discrim/accuracy_fake: 0.972\n",
      "\u001b[32m[1019 22:07:51 @monitor.py:467]\u001b[0m GAN_loss/discrim/accuracy_real: 0.036\n",
      "\u001b[32m[1019 22:07:51 @monitor.py:467]\u001b[0m GAN_loss/discrim/loss: 0.64913\n",
      "\u001b[32m[1019 22:07:51 @monitor.py:467]\u001b[0m GAN_loss/gen/final-g-loss: 0.97107\n",
      "\u001b[32m[1019 22:07:51 @monitor.py:467]\u001b[0m GAN_loss/gen/klloss: 0.036485\n",
      "\u001b[32m[1019 22:07:51 @monitor.py:467]\u001b[0m GAN_loss/gen/loss: 0.93458\n",
      "\u001b[32m[1019 22:07:51 @monitor.py:467]\u001b[0m QueueInput/queue_size: 50\n",
      "\u001b[32m[1019 22:07:51 @base.py:275]\u001b[0m Start Epoch 521 ...\n"
     ]
    },
    {
     "name": "stderr",
     "output_type": "stream",
     "text": [
      "\n",
      "100%|###################################################################################|175/175[00:05<00:00,29.94it/s]"
     ]
    },
    {
     "name": "stdout",
     "output_type": "stream",
     "text": [
      "\u001b[32m[1019 22:07:57 @base.py:285]\u001b[0m Epoch 521 (global_step 91175) finished, time:5.85 seconds.\n"
     ]
    },
    {
     "name": "stderr",
     "output_type": "stream",
     "text": [
      "\n"
     ]
    },
    {
     "name": "stdout",
     "output_type": "stream",
     "text": [
      "\u001b[32m[1019 22:07:57 @saver.py:79]\u001b[0m Model saved to ../output/Chicago/DATGAN_05/model\\model-91175.\n",
      "\u001b[32m[1019 22:07:57 @monitor.py:467]\u001b[0m GAN_loss/discrim/accuracy_fake: 0.964\n",
      "\u001b[32m[1019 22:07:57 @monitor.py:467]\u001b[0m GAN_loss/discrim/accuracy_real: 0.068\n",
      "\u001b[32m[1019 22:07:57 @monitor.py:467]\u001b[0m GAN_loss/discrim/loss: 0.65289\n",
      "\u001b[32m[1019 22:07:57 @monitor.py:467]\u001b[0m GAN_loss/gen/final-g-loss: 1.0139\n",
      "\u001b[32m[1019 22:07:57 @monitor.py:467]\u001b[0m GAN_loss/gen/klloss: 0.080354\n",
      "\u001b[32m[1019 22:07:57 @monitor.py:467]\u001b[0m GAN_loss/gen/loss: 0.93354\n",
      "\u001b[32m[1019 22:07:57 @monitor.py:467]\u001b[0m QueueInput/queue_size: 50\n",
      "\u001b[32m[1019 22:07:57 @base.py:275]\u001b[0m Start Epoch 522 ...\n"
     ]
    },
    {
     "name": "stderr",
     "output_type": "stream",
     "text": [
      "100%|###################################################################################|175/175[00:05<00:00,29.23it/s]"
     ]
    },
    {
     "name": "stdout",
     "output_type": "stream",
     "text": [
      "\u001b[32m[1019 22:08:03 @base.py:285]\u001b[0m Epoch 522 (global_step 91350) finished, time:5.99 seconds.\n",
      "\u001b[32m[1019 22:08:03 @saver.py:79]\u001b[0m Model saved to ../output/Chicago/DATGAN_05/model\\model-91350.\n",
      "\u001b[32m[1019 22:08:03 @monitor.py:467]\u001b[0m GAN_loss/discrim/accuracy_fake: 0.98\n"
     ]
    },
    {
     "name": "stderr",
     "output_type": "stream",
     "text": [
      "\n"
     ]
    },
    {
     "name": "stdout",
     "output_type": "stream",
     "text": [
      "\u001b[32m[1019 22:08:03 @monitor.py:467]\u001b[0m GAN_loss/discrim/accuracy_real: 0.068\n",
      "\u001b[32m[1019 22:08:03 @monitor.py:467]\u001b[0m GAN_loss/discrim/loss: 0.64823\n",
      "\u001b[32m[1019 22:08:03 @monitor.py:467]\u001b[0m GAN_loss/gen/final-g-loss: 1.0046\n",
      "\u001b[32m[1019 22:08:03 @monitor.py:467]\u001b[0m GAN_loss/gen/klloss: 0.063665\n",
      "\u001b[32m[1019 22:08:03 @monitor.py:467]\u001b[0m GAN_loss/gen/loss: 0.94092\n",
      "\u001b[32m[1019 22:08:03 @monitor.py:467]\u001b[0m QueueInput/queue_size: 50\n",
      "\u001b[32m[1019 22:08:03 @base.py:275]\u001b[0m Start Epoch 523 ...\n"
     ]
    },
    {
     "name": "stderr",
     "output_type": "stream",
     "text": [
      "100%|###################################################################################|175/175[00:05<00:00,29.73it/s]"
     ]
    },
    {
     "name": "stdout",
     "output_type": "stream",
     "text": [
      "\u001b[32m[1019 22:08:09 @base.py:285]\u001b[0m Epoch 523 (global_step 91525) finished, time:5.89 seconds.\n",
      "\u001b[32m[1019 22:08:09 @saver.py:79]\u001b[0m Model saved to ../output/Chicago/DATGAN_05/model\\model-91525.\n"
     ]
    },
    {
     "name": "stderr",
     "output_type": "stream",
     "text": [
      "\n"
     ]
    },
    {
     "name": "stdout",
     "output_type": "stream",
     "text": [
      "\u001b[32m[1019 22:08:09 @monitor.py:467]\u001b[0m GAN_loss/discrim/accuracy_fake: 0.962\n",
      "\u001b[32m[1019 22:08:09 @monitor.py:467]\u001b[0m GAN_loss/discrim/accuracy_real: 0.04\n",
      "\u001b[32m[1019 22:08:09 @monitor.py:467]\u001b[0m GAN_loss/discrim/loss: 0.65491\n",
      "\u001b[32m[1019 22:08:09 @monitor.py:467]\u001b[0m GAN_loss/gen/final-g-loss: 0.99599\n",
      "\u001b[32m[1019 22:08:09 @monitor.py:467]\u001b[0m GAN_loss/gen/klloss: 0.063821\n",
      "\u001b[32m[1019 22:08:09 @monitor.py:467]\u001b[0m GAN_loss/gen/loss: 0.93217\n",
      "\u001b[32m[1019 22:08:09 @monitor.py:467]\u001b[0m QueueInput/queue_size: 50\n",
      "\u001b[32m[1019 22:08:09 @base.py:275]\u001b[0m Start Epoch 524 ...\n"
     ]
    },
    {
     "name": "stderr",
     "output_type": "stream",
     "text": [
      "100%|###################################################################################|175/175[00:05<00:00,29.76it/s]"
     ]
    },
    {
     "name": "stdout",
     "output_type": "stream",
     "text": [
      "\u001b[32m[1019 22:08:15 @base.py:285]\u001b[0m Epoch 524 (global_step 91700) finished, time:5.88 seconds.\n",
      "\u001b[32m[1019 22:08:15 @saver.py:79]\u001b[0m Model saved to ../output/Chicago/DATGAN_05/model\\model-91700.\n"
     ]
    },
    {
     "name": "stderr",
     "output_type": "stream",
     "text": [
      "\n"
     ]
    },
    {
     "name": "stdout",
     "output_type": "stream",
     "text": [
      "\u001b[32m[1019 22:08:15 @monitor.py:467]\u001b[0m GAN_loss/discrim/accuracy_fake: 0.966\n",
      "\u001b[32m[1019 22:08:15 @monitor.py:467]\u001b[0m GAN_loss/discrim/accuracy_real: 0.046\n",
      "\u001b[32m[1019 22:08:15 @monitor.py:467]\u001b[0m GAN_loss/discrim/loss: 0.65111\n",
      "\u001b[32m[1019 22:08:15 @monitor.py:467]\u001b[0m GAN_loss/gen/final-g-loss: 1.0043\n",
      "\u001b[32m[1019 22:08:15 @monitor.py:467]\u001b[0m GAN_loss/gen/klloss: 0.065378\n",
      "\u001b[32m[1019 22:08:15 @monitor.py:467]\u001b[0m GAN_loss/gen/loss: 0.93897\n",
      "\u001b[32m[1019 22:08:15 @monitor.py:467]\u001b[0m QueueInput/queue_size: 50\n",
      "\u001b[32m[1019 22:08:15 @base.py:275]\u001b[0m Start Epoch 525 ...\n"
     ]
    },
    {
     "name": "stderr",
     "output_type": "stream",
     "text": [
      "100%|###################################################################################|175/175[00:05<00:00,29.84it/s]"
     ]
    },
    {
     "name": "stdout",
     "output_type": "stream",
     "text": [
      "\u001b[32m[1019 22:08:21 @base.py:285]\u001b[0m Epoch 525 (global_step 91875) finished, time:5.86 seconds.\n"
     ]
    },
    {
     "name": "stderr",
     "output_type": "stream",
     "text": [
      "\n"
     ]
    },
    {
     "name": "stdout",
     "output_type": "stream",
     "text": [
      "\u001b[32m[1019 22:08:21 @saver.py:79]\u001b[0m Model saved to ../output/Chicago/DATGAN_05/model\\model-91875.\n",
      "\u001b[32m[1019 22:08:21 @monitor.py:467]\u001b[0m GAN_loss/discrim/accuracy_fake: 0.964\n",
      "\u001b[32m[1019 22:08:21 @monitor.py:467]\u001b[0m GAN_loss/discrim/accuracy_real: 0.044\n",
      "\u001b[32m[1019 22:08:21 @monitor.py:467]\u001b[0m GAN_loss/discrim/loss: 0.65339\n",
      "\u001b[32m[1019 22:08:21 @monitor.py:467]\u001b[0m GAN_loss/gen/final-g-loss: 1.0185\n",
      "\u001b[32m[1019 22:08:21 @monitor.py:467]\u001b[0m GAN_loss/gen/klloss: 0.083122\n",
      "\u001b[32m[1019 22:08:21 @monitor.py:467]\u001b[0m GAN_loss/gen/loss: 0.93534\n",
      "\u001b[32m[1019 22:08:21 @monitor.py:467]\u001b[0m QueueInput/queue_size: 50\n",
      "\u001b[32m[1019 22:08:21 @base.py:275]\u001b[0m Start Epoch 526 ...\n"
     ]
    },
    {
     "name": "stderr",
     "output_type": "stream",
     "text": [
      "100%|###################################################################################|175/175[00:05<00:00,29.75it/s]"
     ]
    },
    {
     "name": "stdout",
     "output_type": "stream",
     "text": [
      "\u001b[32m[1019 22:08:27 @base.py:285]\u001b[0m Epoch 526 (global_step 92050) finished, time:5.88 seconds.\n"
     ]
    },
    {
     "name": "stderr",
     "output_type": "stream",
     "text": [
      "\n"
     ]
    },
    {
     "name": "stdout",
     "output_type": "stream",
     "text": [
      "\u001b[32m[1019 22:08:27 @saver.py:79]\u001b[0m Model saved to ../output/Chicago/DATGAN_05/model\\model-92050.\n",
      "\u001b[32m[1019 22:08:27 @monitor.py:467]\u001b[0m GAN_loss/discrim/accuracy_fake: 0.972\n",
      "\u001b[32m[1019 22:08:27 @monitor.py:467]\u001b[0m GAN_loss/discrim/accuracy_real: 0.038\n",
      "\u001b[32m[1019 22:08:27 @monitor.py:467]\u001b[0m GAN_loss/discrim/loss: 0.65286\n",
      "\u001b[32m[1019 22:08:27 @monitor.py:467]\u001b[0m GAN_loss/gen/final-g-loss: 1.0043\n",
      "\u001b[32m[1019 22:08:27 @monitor.py:467]\u001b[0m GAN_loss/gen/klloss: 0.071471\n",
      "\u001b[32m[1019 22:08:27 @monitor.py:467]\u001b[0m GAN_loss/gen/loss: 0.93284\n",
      "\u001b[32m[1019 22:08:27 @monitor.py:467]\u001b[0m QueueInput/queue_size: 50\n",
      "\u001b[32m[1019 22:08:27 @base.py:275]\u001b[0m Start Epoch 527 ...\n"
     ]
    },
    {
     "name": "stderr",
     "output_type": "stream",
     "text": [
      "100%|###################################################################################|175/175[00:06<00:00,29.05it/s]"
     ]
    },
    {
     "name": "stdout",
     "output_type": "stream",
     "text": [
      "\u001b[32m[1019 22:08:33 @base.py:285]\u001b[0m Epoch 527 (global_step 92225) finished, time:6.03 seconds.\n",
      "\u001b[32m[1019 22:08:34 @saver.py:79]\u001b[0m Model saved to ../output/Chicago/DATGAN_05/model\\model-92225.\n"
     ]
    },
    {
     "name": "stderr",
     "output_type": "stream",
     "text": [
      "\n"
     ]
    },
    {
     "name": "stdout",
     "output_type": "stream",
     "text": [
      "\u001b[32m[1019 22:08:34 @monitor.py:467]\u001b[0m GAN_loss/discrim/accuracy_fake: 0.978\n",
      "\u001b[32m[1019 22:08:34 @monitor.py:467]\u001b[0m GAN_loss/discrim/accuracy_real: 0.048\n",
      "\u001b[32m[1019 22:08:34 @monitor.py:467]\u001b[0m GAN_loss/discrim/loss: 0.6474\n",
      "\u001b[32m[1019 22:08:34 @monitor.py:467]\u001b[0m GAN_loss/gen/final-g-loss: 0.99408\n",
      "\u001b[32m[1019 22:08:34 @monitor.py:467]\u001b[0m GAN_loss/gen/klloss: 0.054258\n",
      "\u001b[32m[1019 22:08:34 @monitor.py:467]\u001b[0m GAN_loss/gen/loss: 0.93983\n",
      "\u001b[32m[1019 22:08:34 @monitor.py:467]\u001b[0m QueueInput/queue_size: 50\n",
      "\u001b[32m[1019 22:08:34 @base.py:275]\u001b[0m Start Epoch 528 ...\n"
     ]
    },
    {
     "name": "stderr",
     "output_type": "stream",
     "text": [
      "100%|###################################################################################|175/175[00:05<00:00,29.67it/s]"
     ]
    },
    {
     "name": "stdout",
     "output_type": "stream",
     "text": [
      "\u001b[32m[1019 22:08:40 @base.py:285]\u001b[0m Epoch 528 (global_step 92400) finished, time:5.9 seconds.\n"
     ]
    },
    {
     "name": "stderr",
     "output_type": "stream",
     "text": [
      "\n"
     ]
    },
    {
     "name": "stdout",
     "output_type": "stream",
     "text": [
      "\u001b[32m[1019 22:08:40 @saver.py:79]\u001b[0m Model saved to ../output/Chicago/DATGAN_05/model\\model-92400.\n",
      "\u001b[32m[1019 22:08:40 @monitor.py:467]\u001b[0m GAN_loss/discrim/accuracy_fake: 0.986\n",
      "\u001b[32m[1019 22:08:40 @monitor.py:467]\u001b[0m GAN_loss/discrim/accuracy_real: 0.054\n",
      "\u001b[32m[1019 22:08:40 @monitor.py:467]\u001b[0m GAN_loss/discrim/loss: 0.6453\n",
      "\u001b[32m[1019 22:08:40 @monitor.py:467]\u001b[0m GAN_loss/gen/final-g-loss: 1.0011\n",
      "\u001b[32m[1019 22:08:40 @monitor.py:467]\u001b[0m GAN_loss/gen/klloss: 0.056032\n",
      "\u001b[32m[1019 22:08:40 @monitor.py:467]\u001b[0m GAN_loss/gen/loss: 0.94511\n",
      "\u001b[32m[1019 22:08:40 @monitor.py:467]\u001b[0m QueueInput/queue_size: 50\n",
      "\u001b[32m[1019 22:08:40 @base.py:275]\u001b[0m Start Epoch 529 ...\n"
     ]
    },
    {
     "name": "stderr",
     "output_type": "stream",
     "text": [
      "100%|###################################################################################|175/175[00:06<00:00,29.15it/s]"
     ]
    },
    {
     "name": "stdout",
     "output_type": "stream",
     "text": [
      "\u001b[32m[1019 22:08:46 @base.py:285]\u001b[0m Epoch 529 (global_step 92575) finished, time:6 seconds.\n",
      "\u001b[32m[1019 22:08:46 @saver.py:79]\u001b[0m Model saved to ../output/Chicago/DATGAN_05/model\\model-92575.\n",
      "\u001b[32m[1019 22:08:46 @monitor.py:467]\u001b[0m GAN_loss/discrim/accuracy_fake: 0.97\n"
     ]
    },
    {
     "name": "stderr",
     "output_type": "stream",
     "text": [
      "\n"
     ]
    },
    {
     "name": "stdout",
     "output_type": "stream",
     "text": [
      "\u001b[32m[1019 22:08:46 @monitor.py:467]\u001b[0m GAN_loss/discrim/accuracy_real: 0.048\n",
      "\u001b[32m[1019 22:08:46 @monitor.py:467]\u001b[0m GAN_loss/discrim/loss: 0.64584\n",
      "\u001b[32m[1019 22:08:46 @monitor.py:467]\u001b[0m GAN_loss/gen/final-g-loss: 1.0118\n",
      "\u001b[32m[1019 22:08:46 @monitor.py:467]\u001b[0m GAN_loss/gen/klloss: 0.070556\n",
      "\u001b[32m[1019 22:08:46 @monitor.py:467]\u001b[0m GAN_loss/gen/loss: 0.94121\n",
      "\u001b[32m[1019 22:08:46 @monitor.py:467]\u001b[0m QueueInput/queue_size: 50\n",
      "\u001b[32m[1019 22:08:46 @base.py:275]\u001b[0m Start Epoch 530 ...\n"
     ]
    },
    {
     "name": "stderr",
     "output_type": "stream",
     "text": [
      "100%|###################################################################################|175/175[00:05<00:00,30.16it/s]"
     ]
    },
    {
     "name": "stdout",
     "output_type": "stream",
     "text": [
      "\u001b[32m[1019 22:08:52 @base.py:285]\u001b[0m Epoch 530 (global_step 92750) finished, time:5.8 seconds.\n",
      "\u001b[32m[1019 22:08:52 @saver.py:79]\u001b[0m Model saved to ../output/Chicago/DATGAN_05/model\\model-92750.\n",
      "\u001b[32m[1019 22:08:52 @monitor.py:467]\u001b[0m GAN_loss/discrim/accuracy_fake: 0.974\n"
     ]
    },
    {
     "name": "stderr",
     "output_type": "stream",
     "text": [
      "\n"
     ]
    },
    {
     "name": "stdout",
     "output_type": "stream",
     "text": [
      "\u001b[32m[1019 22:08:52 @monitor.py:467]\u001b[0m GAN_loss/discrim/accuracy_real: 0.048\n",
      "\u001b[32m[1019 22:08:52 @monitor.py:467]\u001b[0m GAN_loss/discrim/loss: 0.65272\n",
      "\u001b[32m[1019 22:08:52 @monitor.py:467]\u001b[0m GAN_loss/gen/final-g-loss: 0.98388\n",
      "\u001b[32m[1019 22:08:52 @monitor.py:467]\u001b[0m GAN_loss/gen/klloss: 0.048828\n",
      "\u001b[32m[1019 22:08:52 @monitor.py:467]\u001b[0m GAN_loss/gen/loss: 0.93506\n",
      "\u001b[32m[1019 22:08:52 @monitor.py:467]\u001b[0m QueueInput/queue_size: 50\n",
      "\u001b[32m[1019 22:08:52 @base.py:275]\u001b[0m Start Epoch 531 ...\n"
     ]
    },
    {
     "name": "stderr",
     "output_type": "stream",
     "text": [
      "100%|###################################################################################|175/175[00:05<00:00,30.27it/s]"
     ]
    },
    {
     "name": "stdout",
     "output_type": "stream",
     "text": [
      "\u001b[32m[1019 22:08:58 @base.py:285]\u001b[0m Epoch 531 (global_step 92925) finished, time:5.78 seconds.\n",
      "\u001b[32m[1019 22:08:58 @saver.py:79]\u001b[0m Model saved to ../output/Chicago/DATGAN_05/model\\model-92925.\n",
      "\u001b[32m[1019 22:08:58 @monitor.py:467]\u001b[0m GAN_loss/discrim/accuracy_fake: 0.974\n"
     ]
    },
    {
     "name": "stderr",
     "output_type": "stream",
     "text": [
      "\n"
     ]
    },
    {
     "name": "stdout",
     "output_type": "stream",
     "text": [
      "\u001b[32m[1019 22:08:58 @monitor.py:467]\u001b[0m GAN_loss/discrim/accuracy_real: 0.042\n",
      "\u001b[32m[1019 22:08:58 @monitor.py:467]\u001b[0m GAN_loss/discrim/loss: 0.65293\n",
      "\u001b[32m[1019 22:08:58 @monitor.py:467]\u001b[0m GAN_loss/gen/final-g-loss: 0.97977\n",
      "\u001b[32m[1019 22:08:58 @monitor.py:467]\u001b[0m GAN_loss/gen/klloss: 0.046371\n",
      "\u001b[32m[1019 22:08:58 @monitor.py:467]\u001b[0m GAN_loss/gen/loss: 0.9334\n",
      "\u001b[32m[1019 22:08:58 @monitor.py:467]\u001b[0m QueueInput/queue_size: 50\n",
      "\u001b[32m[1019 22:08:58 @base.py:275]\u001b[0m Start Epoch 532 ...\n"
     ]
    },
    {
     "name": "stderr",
     "output_type": "stream",
     "text": [
      "100%|###################################################################################|175/175[00:06<00:00,28.96it/s]"
     ]
    },
    {
     "name": "stdout",
     "output_type": "stream",
     "text": [
      "\u001b[32m[1019 22:09:04 @base.py:285]\u001b[0m Epoch 532 (global_step 93100) finished, time:6.04 seconds.\n",
      "\u001b[32m[1019 22:09:04 @saver.py:79]\u001b[0m Model saved to ../output/Chicago/DATGAN_05/model\\model-93100.\n",
      "\u001b[32m[1019 22:09:04 @monitor.py:467]\u001b[0m GAN_loss/discrim/accuracy_fake: 0.98\n"
     ]
    },
    {
     "name": "stderr",
     "output_type": "stream",
     "text": [
      "\n"
     ]
    },
    {
     "name": "stdout",
     "output_type": "stream",
     "text": [
      "\u001b[32m[1019 22:09:04 @monitor.py:467]\u001b[0m GAN_loss/discrim/accuracy_real: 0.06\n",
      "\u001b[32m[1019 22:09:04 @monitor.py:467]\u001b[0m GAN_loss/discrim/loss: 0.64664\n",
      "\u001b[32m[1019 22:09:04 @monitor.py:467]\u001b[0m GAN_loss/gen/final-g-loss: 0.98195\n",
      "\u001b[32m[1019 22:09:04 @monitor.py:467]\u001b[0m GAN_loss/gen/klloss: 0.046238\n",
      "\u001b[32m[1019 22:09:04 @monitor.py:467]\u001b[0m GAN_loss/gen/loss: 0.93571\n",
      "\u001b[32m[1019 22:09:04 @monitor.py:467]\u001b[0m QueueInput/queue_size: 50\n",
      "\u001b[32m[1019 22:09:04 @base.py:275]\u001b[0m Start Epoch 533 ...\n"
     ]
    },
    {
     "name": "stderr",
     "output_type": "stream",
     "text": [
      "100%|###################################################################################|175/175[00:05<00:00,30.08it/s]"
     ]
    },
    {
     "name": "stdout",
     "output_type": "stream",
     "text": [
      "\u001b[32m[1019 22:09:10 @base.py:285]\u001b[0m Epoch 533 (global_step 93275) finished, time:5.82 seconds.\n",
      "\u001b[32m[1019 22:09:10 @saver.py:79]\u001b[0m Model saved to ../output/Chicago/DATGAN_05/model\\model-93275.\n"
     ]
    },
    {
     "name": "stderr",
     "output_type": "stream",
     "text": [
      "\n"
     ]
    },
    {
     "name": "stdout",
     "output_type": "stream",
     "text": [
      "\u001b[32m[1019 22:09:10 @monitor.py:467]\u001b[0m GAN_loss/discrim/accuracy_fake: 0.98\n",
      "\u001b[32m[1019 22:09:10 @monitor.py:467]\u001b[0m GAN_loss/discrim/accuracy_real: 0.04\n",
      "\u001b[32m[1019 22:09:10 @monitor.py:467]\u001b[0m GAN_loss/discrim/loss: 0.64971\n",
      "\u001b[32m[1019 22:09:10 @monitor.py:467]\u001b[0m GAN_loss/gen/final-g-loss: 1.0318\n",
      "\u001b[32m[1019 22:09:10 @monitor.py:467]\u001b[0m GAN_loss/gen/klloss: 0.091762\n",
      "\u001b[32m[1019 22:09:10 @monitor.py:467]\u001b[0m GAN_loss/gen/loss: 0.94005\n",
      "\u001b[32m[1019 22:09:10 @monitor.py:467]\u001b[0m QueueInput/queue_size: 50\n",
      "\u001b[32m[1019 22:09:10 @base.py:275]\u001b[0m Start Epoch 534 ...\n"
     ]
    },
    {
     "name": "stderr",
     "output_type": "stream",
     "text": [
      "100%|###################################################################################|175/175[00:05<00:00,29.75it/s]"
     ]
    },
    {
     "name": "stdout",
     "output_type": "stream",
     "text": [
      "\u001b[32m[1019 22:09:16 @base.py:285]\u001b[0m Epoch 534 (global_step 93450) finished, time:5.88 seconds.\n"
     ]
    },
    {
     "name": "stderr",
     "output_type": "stream",
     "text": [
      "\n"
     ]
    },
    {
     "name": "stdout",
     "output_type": "stream",
     "text": [
      "\u001b[32m[1019 22:09:16 @saver.py:79]\u001b[0m Model saved to ../output/Chicago/DATGAN_05/model\\model-93450.\n",
      "\u001b[32m[1019 22:09:16 @monitor.py:467]\u001b[0m GAN_loss/discrim/accuracy_fake: 0.972\n",
      "\u001b[32m[1019 22:09:16 @monitor.py:467]\u001b[0m GAN_loss/discrim/accuracy_real: 0.038\n",
      "\u001b[32m[1019 22:09:16 @monitor.py:467]\u001b[0m GAN_loss/discrim/loss: 0.64807\n",
      "\u001b[32m[1019 22:09:16 @monitor.py:467]\u001b[0m GAN_loss/gen/final-g-loss: 0.9785\n",
      "\u001b[32m[1019 22:09:16 @monitor.py:467]\u001b[0m GAN_loss/gen/klloss: 0.042742\n",
      "\u001b[32m[1019 22:09:16 @monitor.py:467]\u001b[0m GAN_loss/gen/loss: 0.93576\n",
      "\u001b[32m[1019 22:09:16 @monitor.py:467]\u001b[0m QueueInput/queue_size: 50\n",
      "\u001b[32m[1019 22:09:16 @base.py:275]\u001b[0m Start Epoch 535 ...\n"
     ]
    },
    {
     "name": "stderr",
     "output_type": "stream",
     "text": [
      "100%|###################################################################################|175/175[00:05<00:00,30.11it/s]"
     ]
    },
    {
     "name": "stdout",
     "output_type": "stream",
     "text": [
      "\u001b[32m[1019 22:09:22 @base.py:285]\u001b[0m Epoch 535 (global_step 93625) finished, time:5.81 seconds.\n",
      "\u001b[32m[1019 22:09:22 @saver.py:79]\u001b[0m Model saved to ../output/Chicago/DATGAN_05/model\\model-93625.\n"
     ]
    },
    {
     "name": "stderr",
     "output_type": "stream",
     "text": [
      "\n"
     ]
    },
    {
     "name": "stdout",
     "output_type": "stream",
     "text": [
      "\u001b[32m[1019 22:09:22 @monitor.py:467]\u001b[0m GAN_loss/discrim/accuracy_fake: 0.962\n",
      "\u001b[32m[1019 22:09:22 @monitor.py:467]\u001b[0m GAN_loss/discrim/accuracy_real: 0.036\n",
      "\u001b[32m[1019 22:09:22 @monitor.py:467]\u001b[0m GAN_loss/discrim/loss: 0.65018\n",
      "\u001b[32m[1019 22:09:22 @monitor.py:467]\u001b[0m GAN_loss/gen/final-g-loss: 0.99502\n",
      "\u001b[32m[1019 22:09:22 @monitor.py:467]\u001b[0m GAN_loss/gen/klloss: 0.06055\n",
      "\u001b[32m[1019 22:09:22 @monitor.py:467]\u001b[0m GAN_loss/gen/loss: 0.93447\n",
      "\u001b[32m[1019 22:09:22 @monitor.py:467]\u001b[0m QueueInput/queue_size: 50\n",
      "\u001b[32m[1019 22:09:22 @base.py:275]\u001b[0m Start Epoch 536 ...\n"
     ]
    },
    {
     "name": "stderr",
     "output_type": "stream",
     "text": [
      "100%|###################################################################################|175/175[00:05<00:00,30.04it/s]"
     ]
    },
    {
     "name": "stdout",
     "output_type": "stream",
     "text": [
      "\u001b[32m[1019 22:09:28 @base.py:285]\u001b[0m Epoch 536 (global_step 93800) finished, time:5.83 seconds.\n"
     ]
    },
    {
     "name": "stderr",
     "output_type": "stream",
     "text": [
      "\n"
     ]
    },
    {
     "name": "stdout",
     "output_type": "stream",
     "text": [
      "\u001b[32m[1019 22:09:28 @saver.py:79]\u001b[0m Model saved to ../output/Chicago/DATGAN_05/model\\model-93800.\n",
      "\u001b[32m[1019 22:09:28 @monitor.py:467]\u001b[0m GAN_loss/discrim/accuracy_fake: 0.972\n",
      "\u001b[32m[1019 22:09:28 @monitor.py:467]\u001b[0m GAN_loss/discrim/accuracy_real: 0.066\n",
      "\u001b[32m[1019 22:09:28 @monitor.py:467]\u001b[0m GAN_loss/discrim/loss: 0.64523\n",
      "\u001b[32m[1019 22:09:28 @monitor.py:467]\u001b[0m GAN_loss/gen/final-g-loss: 0.99968\n",
      "\u001b[32m[1019 22:09:28 @monitor.py:467]\u001b[0m GAN_loss/gen/klloss: 0.062658\n",
      "\u001b[32m[1019 22:09:28 @monitor.py:467]\u001b[0m GAN_loss/gen/loss: 0.93702\n",
      "\u001b[32m[1019 22:09:28 @monitor.py:467]\u001b[0m QueueInput/queue_size: 50\n",
      "\u001b[32m[1019 22:09:28 @base.py:275]\u001b[0m Start Epoch 537 ...\n"
     ]
    },
    {
     "name": "stderr",
     "output_type": "stream",
     "text": [
      "100%|###################################################################################|175/175[00:06<00:00,29.13it/s]"
     ]
    },
    {
     "name": "stdout",
     "output_type": "stream",
     "text": [
      "\u001b[32m[1019 22:09:34 @base.py:285]\u001b[0m Epoch 537 (global_step 93975) finished, time:6.01 seconds.\n",
      "\u001b[32m[1019 22:09:34 @saver.py:79]\u001b[0m Model saved to ../output/Chicago/DATGAN_05/model\\model-93975.\n"
     ]
    },
    {
     "name": "stderr",
     "output_type": "stream",
     "text": [
      "\n"
     ]
    },
    {
     "name": "stdout",
     "output_type": "stream",
     "text": [
      "\u001b[32m[1019 22:09:34 @monitor.py:467]\u001b[0m GAN_loss/discrim/accuracy_fake: 0.96\n",
      "\u001b[32m[1019 22:09:34 @monitor.py:467]\u001b[0m GAN_loss/discrim/accuracy_real: 0.052\n",
      "\u001b[32m[1019 22:09:34 @monitor.py:467]\u001b[0m GAN_loss/discrim/loss: 0.64862\n",
      "\u001b[32m[1019 22:09:34 @monitor.py:467]\u001b[0m GAN_loss/gen/final-g-loss: 0.99297\n",
      "\u001b[32m[1019 22:09:34 @monitor.py:467]\u001b[0m GAN_loss/gen/klloss: 0.053265\n",
      "\u001b[32m[1019 22:09:34 @monitor.py:467]\u001b[0m GAN_loss/gen/loss: 0.9397\n",
      "\u001b[32m[1019 22:09:34 @monitor.py:467]\u001b[0m QueueInput/queue_size: 50\n",
      "\u001b[32m[1019 22:09:34 @base.py:275]\u001b[0m Start Epoch 538 ...\n"
     ]
    },
    {
     "name": "stderr",
     "output_type": "stream",
     "text": [
      "100%|###################################################################################|175/175[00:05<00:00,30.12it/s]"
     ]
    },
    {
     "name": "stdout",
     "output_type": "stream",
     "text": [
      "\u001b[32m[1019 22:09:40 @base.py:285]\u001b[0m Epoch 538 (global_step 94150) finished, time:5.81 seconds.\n",
      "\u001b[32m[1019 22:09:40 @saver.py:79]\u001b[0m Model saved to ../output/Chicago/DATGAN_05/model\\model-94150.\n"
     ]
    },
    {
     "name": "stderr",
     "output_type": "stream",
     "text": [
      "\n"
     ]
    },
    {
     "name": "stdout",
     "output_type": "stream",
     "text": [
      "\u001b[32m[1019 22:09:40 @monitor.py:467]\u001b[0m GAN_loss/discrim/accuracy_fake: 0.98\n",
      "\u001b[32m[1019 22:09:40 @monitor.py:467]\u001b[0m GAN_loss/discrim/accuracy_real: 0.06\n",
      "\u001b[32m[1019 22:09:40 @monitor.py:467]\u001b[0m GAN_loss/discrim/loss: 0.64523\n",
      "\u001b[32m[1019 22:09:40 @monitor.py:467]\u001b[0m GAN_loss/gen/final-g-loss: 0.9986\n",
      "\u001b[32m[1019 22:09:40 @monitor.py:467]\u001b[0m GAN_loss/gen/klloss: 0.063052\n",
      "\u001b[32m[1019 22:09:40 @monitor.py:467]\u001b[0m GAN_loss/gen/loss: 0.93555\n",
      "\u001b[32m[1019 22:09:40 @monitor.py:467]\u001b[0m QueueInput/queue_size: 50\n",
      "\u001b[32m[1019 22:09:40 @base.py:275]\u001b[0m Start Epoch 539 ...\n"
     ]
    },
    {
     "name": "stderr",
     "output_type": "stream",
     "text": [
      "100%|###################################################################################|175/175[00:05<00:00,29.22it/s]"
     ]
    },
    {
     "name": "stdout",
     "output_type": "stream",
     "text": [
      "\u001b[32m[1019 22:09:46 @base.py:285]\u001b[0m Epoch 539 (global_step 94325) finished, time:5.99 seconds.\n"
     ]
    },
    {
     "name": "stderr",
     "output_type": "stream",
     "text": [
      "\n"
     ]
    },
    {
     "name": "stdout",
     "output_type": "stream",
     "text": [
      "\u001b[32m[1019 22:09:46 @saver.py:79]\u001b[0m Model saved to ../output/Chicago/DATGAN_05/model\\model-94325.\n",
      "\u001b[32m[1019 22:09:47 @monitor.py:467]\u001b[0m GAN_loss/discrim/accuracy_fake: 0.964\n",
      "\u001b[32m[1019 22:09:47 @monitor.py:467]\u001b[0m GAN_loss/discrim/accuracy_real: 0.05\n",
      "\u001b[32m[1019 22:09:47 @monitor.py:467]\u001b[0m GAN_loss/discrim/loss: 0.64759\n",
      "\u001b[32m[1019 22:09:47 @monitor.py:467]\u001b[0m GAN_loss/gen/final-g-loss: 0.97451\n",
      "\u001b[32m[1019 22:09:47 @monitor.py:467]\u001b[0m GAN_loss/gen/klloss: 0.041293\n",
      "\u001b[32m[1019 22:09:47 @monitor.py:467]\u001b[0m GAN_loss/gen/loss: 0.93322\n",
      "\u001b[32m[1019 22:09:47 @monitor.py:467]\u001b[0m QueueInput/queue_size: 50\n",
      "\u001b[32m[1019 22:09:47 @base.py:275]\u001b[0m Start Epoch 540 ...\n"
     ]
    },
    {
     "name": "stderr",
     "output_type": "stream",
     "text": [
      "100%|###################################################################################|175/175[00:05<00:00,30.01it/s]"
     ]
    },
    {
     "name": "stdout",
     "output_type": "stream",
     "text": [
      "\u001b[32m[1019 22:09:52 @base.py:285]\u001b[0m Epoch 540 (global_step 94500) finished, time:5.83 seconds.\n",
      "\u001b[32m[1019 22:09:52 @saver.py:79]\u001b[0m Model saved to ../output/Chicago/DATGAN_05/model\\model-94500.\n"
     ]
    },
    {
     "name": "stderr",
     "output_type": "stream",
     "text": [
      "\n"
     ]
    },
    {
     "name": "stdout",
     "output_type": "stream",
     "text": [
      "\u001b[32m[1019 22:09:53 @monitor.py:467]\u001b[0m GAN_loss/discrim/accuracy_fake: 0.97\n",
      "\u001b[32m[1019 22:09:53 @monitor.py:467]\u001b[0m GAN_loss/discrim/accuracy_real: 0.066\n",
      "\u001b[32m[1019 22:09:53 @monitor.py:467]\u001b[0m GAN_loss/discrim/loss: 0.64969\n",
      "\u001b[32m[1019 22:09:53 @monitor.py:467]\u001b[0m GAN_loss/gen/final-g-loss: 1.0167\n",
      "\u001b[32m[1019 22:09:53 @monitor.py:467]\u001b[0m GAN_loss/gen/klloss: 0.082201\n",
      "\u001b[32m[1019 22:09:53 @monitor.py:467]\u001b[0m GAN_loss/gen/loss: 0.93445\n",
      "\u001b[32m[1019 22:09:53 @monitor.py:467]\u001b[0m QueueInput/queue_size: 50\n",
      "\u001b[32m[1019 22:09:53 @base.py:275]\u001b[0m Start Epoch 541 ...\n"
     ]
    },
    {
     "name": "stderr",
     "output_type": "stream",
     "text": [
      "100%|###################################################################################|175/175[00:05<00:00,30.38it/s]"
     ]
    },
    {
     "name": "stdout",
     "output_type": "stream",
     "text": [
      "\u001b[32m[1019 22:09:58 @base.py:285]\u001b[0m Epoch 541 (global_step 94675) finished, time:5.76 seconds.\n",
      "\u001b[32m[1019 22:09:58 @saver.py:79]\u001b[0m Model saved to ../output/Chicago/DATGAN_05/model\\model-94675.\n",
      "\u001b[32m[1019 22:09:59 @monitor.py:467]\u001b[0m GAN_loss/discrim/accuracy_fake: 0.974\n",
      "\u001b[32m[1019 22:09:59 @monitor.py:467]\u001b[0m GAN_loss/discrim/accuracy_real: 0.046\n"
     ]
    },
    {
     "name": "stderr",
     "output_type": "stream",
     "text": [
      "\n"
     ]
    },
    {
     "name": "stdout",
     "output_type": "stream",
     "text": [
      "\u001b[32m[1019 22:09:59 @monitor.py:467]\u001b[0m GAN_loss/discrim/loss: 0.65039\n",
      "\u001b[32m[1019 22:09:59 @monitor.py:467]\u001b[0m GAN_loss/gen/final-g-loss: 1.0128\n",
      "\u001b[32m[1019 22:09:59 @monitor.py:467]\u001b[0m GAN_loss/gen/klloss: 0.070638\n",
      "\u001b[32m[1019 22:09:59 @monitor.py:467]\u001b[0m GAN_loss/gen/loss: 0.94217\n",
      "\u001b[32m[1019 22:09:59 @monitor.py:467]\u001b[0m QueueInput/queue_size: 50\n",
      "\u001b[32m[1019 22:09:59 @base.py:275]\u001b[0m Start Epoch 542 ...\n"
     ]
    },
    {
     "name": "stderr",
     "output_type": "stream",
     "text": [
      "100%|###################################################################################|175/175[00:05<00:00,29.52it/s]"
     ]
    },
    {
     "name": "stdout",
     "output_type": "stream",
     "text": [
      "\u001b[32m[1019 22:10:04 @base.py:285]\u001b[0m Epoch 542 (global_step 94850) finished, time:5.93 seconds.\n",
      "\u001b[32m[1019 22:10:05 @saver.py:79]\u001b[0m Model saved to ../output/Chicago/DATGAN_05/model\\model-94850.\n"
     ]
    },
    {
     "name": "stderr",
     "output_type": "stream",
     "text": [
      "\n"
     ]
    },
    {
     "name": "stdout",
     "output_type": "stream",
     "text": [
      "\u001b[32m[1019 22:10:05 @monitor.py:467]\u001b[0m GAN_loss/discrim/accuracy_fake: 0.984\n",
      "\u001b[32m[1019 22:10:05 @monitor.py:467]\u001b[0m GAN_loss/discrim/accuracy_real: 0.06\n",
      "\u001b[32m[1019 22:10:05 @monitor.py:467]\u001b[0m GAN_loss/discrim/loss: 0.64706\n",
      "\u001b[32m[1019 22:10:05 @monitor.py:467]\u001b[0m GAN_loss/gen/final-g-loss: 0.98931\n",
      "\u001b[32m[1019 22:10:05 @monitor.py:467]\u001b[0m GAN_loss/gen/klloss: 0.052954\n",
      "\u001b[32m[1019 22:10:05 @monitor.py:467]\u001b[0m GAN_loss/gen/loss: 0.93636\n",
      "\u001b[32m[1019 22:10:05 @monitor.py:467]\u001b[0m QueueInput/queue_size: 50\n",
      "\u001b[32m[1019 22:10:05 @base.py:275]\u001b[0m Start Epoch 543 ...\n"
     ]
    },
    {
     "name": "stderr",
     "output_type": "stream",
     "text": [
      "100%|###################################################################################|175/175[00:05<00:00,30.28it/s]"
     ]
    },
    {
     "name": "stdout",
     "output_type": "stream",
     "text": [
      "\u001b[32m[1019 22:10:10 @base.py:285]\u001b[0m Epoch 543 (global_step 95025) finished, time:5.78 seconds.\n",
      "\u001b[32m[1019 22:10:11 @saver.py:79]\u001b[0m Model saved to ../output/Chicago/DATGAN_05/model\\model-95025.\n",
      "\u001b[32m[1019 22:10:11 @monitor.py:467]\u001b[0m GAN_loss/discrim/accuracy_fake: 0.974\n"
     ]
    },
    {
     "name": "stderr",
     "output_type": "stream",
     "text": [
      "\n"
     ]
    },
    {
     "name": "stdout",
     "output_type": "stream",
     "text": [
      "\u001b[32m[1019 22:10:11 @monitor.py:467]\u001b[0m GAN_loss/discrim/accuracy_real: 0.046\n",
      "\u001b[32m[1019 22:10:11 @monitor.py:467]\u001b[0m GAN_loss/discrim/loss: 0.65021\n",
      "\u001b[32m[1019 22:10:11 @monitor.py:467]\u001b[0m GAN_loss/gen/final-g-loss: 0.98115\n",
      "\u001b[32m[1019 22:10:11 @monitor.py:467]\u001b[0m GAN_loss/gen/klloss: 0.045439\n",
      "\u001b[32m[1019 22:10:11 @monitor.py:467]\u001b[0m GAN_loss/gen/loss: 0.93572\n",
      "\u001b[32m[1019 22:10:11 @monitor.py:467]\u001b[0m QueueInput/queue_size: 50\n",
      "\u001b[32m[1019 22:10:11 @base.py:275]\u001b[0m Start Epoch 544 ...\n"
     ]
    },
    {
     "name": "stderr",
     "output_type": "stream",
     "text": [
      "100%|###################################################################################|175/175[00:05<00:00,29.89it/s]"
     ]
    },
    {
     "name": "stdout",
     "output_type": "stream",
     "text": [
      "\u001b[32m[1019 22:10:17 @base.py:285]\u001b[0m Epoch 544 (global_step 95200) finished, time:5.86 seconds.\n"
     ]
    },
    {
     "name": "stderr",
     "output_type": "stream",
     "text": [
      "\n"
     ]
    },
    {
     "name": "stdout",
     "output_type": "stream",
     "text": [
      "\u001b[32m[1019 22:10:17 @saver.py:79]\u001b[0m Model saved to ../output/Chicago/DATGAN_05/model\\model-95200.\n",
      "\u001b[32m[1019 22:10:17 @monitor.py:467]\u001b[0m GAN_loss/discrim/accuracy_fake: 0.972\n",
      "\u001b[32m[1019 22:10:17 @monitor.py:467]\u001b[0m GAN_loss/discrim/accuracy_real: 0.04\n",
      "\u001b[32m[1019 22:10:17 @monitor.py:467]\u001b[0m GAN_loss/discrim/loss: 0.65211\n",
      "\u001b[32m[1019 22:10:17 @monitor.py:467]\u001b[0m GAN_loss/gen/final-g-loss: 0.99504\n",
      "\u001b[32m[1019 22:10:17 @monitor.py:467]\u001b[0m GAN_loss/gen/klloss: 0.064534\n",
      "\u001b[32m[1019 22:10:17 @monitor.py:467]\u001b[0m GAN_loss/gen/loss: 0.9305\n",
      "\u001b[32m[1019 22:10:17 @monitor.py:467]\u001b[0m QueueInput/queue_size: 50\n",
      "\u001b[32m[1019 22:10:17 @base.py:275]\u001b[0m Start Epoch 545 ...\n"
     ]
    },
    {
     "name": "stderr",
     "output_type": "stream",
     "text": [
      "100%|###################################################################################|175/175[00:05<00:00,29.96it/s]"
     ]
    },
    {
     "name": "stdout",
     "output_type": "stream",
     "text": [
      "\u001b[32m[1019 22:10:23 @base.py:285]\u001b[0m Epoch 545 (global_step 95375) finished, time:5.84 seconds.\n",
      "\u001b[32m[1019 22:10:23 @saver.py:79]\u001b[0m Model saved to ../output/Chicago/DATGAN_05/model\\model-95375.\n"
     ]
    },
    {
     "name": "stderr",
     "output_type": "stream",
     "text": [
      "\n"
     ]
    },
    {
     "name": "stdout",
     "output_type": "stream",
     "text": [
      "\u001b[32m[1019 22:10:23 @monitor.py:467]\u001b[0m GAN_loss/discrim/accuracy_fake: 0.968\n",
      "\u001b[32m[1019 22:10:23 @monitor.py:467]\u001b[0m GAN_loss/discrim/accuracy_real: 0.056\n",
      "\u001b[32m[1019 22:10:23 @monitor.py:467]\u001b[0m GAN_loss/discrim/loss: 0.65269\n",
      "\u001b[32m[1019 22:10:23 @monitor.py:467]\u001b[0m GAN_loss/gen/final-g-loss: 1.0073\n",
      "\u001b[32m[1019 22:10:23 @monitor.py:467]\u001b[0m GAN_loss/gen/klloss: 0.070441\n",
      "\u001b[32m[1019 22:10:23 @monitor.py:467]\u001b[0m GAN_loss/gen/loss: 0.93684\n",
      "\u001b[32m[1019 22:10:23 @monitor.py:467]\u001b[0m QueueInput/queue_size: 50\n",
      "\u001b[32m[1019 22:10:23 @base.py:275]\u001b[0m Start Epoch 546 ...\n"
     ]
    },
    {
     "name": "stderr",
     "output_type": "stream",
     "text": [
      "100%|###################################################################################|175/175[00:05<00:00,29.37it/s]"
     ]
    },
    {
     "name": "stdout",
     "output_type": "stream",
     "text": [
      "\u001b[32m[1019 22:10:29 @base.py:285]\u001b[0m Epoch 546 (global_step 95550) finished, time:5.96 seconds.\n",
      "\u001b[32m[1019 22:10:29 @saver.py:79]\u001b[0m Model saved to ../output/Chicago/DATGAN_05/model\\model-95550.\n"
     ]
    },
    {
     "name": "stderr",
     "output_type": "stream",
     "text": [
      "\n"
     ]
    },
    {
     "name": "stdout",
     "output_type": "stream",
     "text": [
      "\u001b[32m[1019 22:10:29 @monitor.py:467]\u001b[0m GAN_loss/discrim/accuracy_fake: 0.98\n",
      "\u001b[32m[1019 22:10:29 @monitor.py:467]\u001b[0m GAN_loss/discrim/accuracy_real: 0.068\n",
      "\u001b[32m[1019 22:10:29 @monitor.py:467]\u001b[0m GAN_loss/discrim/loss: 0.64845\n",
      "\u001b[32m[1019 22:10:29 @monitor.py:467]\u001b[0m GAN_loss/gen/final-g-loss: 1.0079\n",
      "\u001b[32m[1019 22:10:29 @monitor.py:467]\u001b[0m GAN_loss/gen/klloss: 0.076522\n",
      "\u001b[32m[1019 22:10:29 @monitor.py:467]\u001b[0m GAN_loss/gen/loss: 0.93135\n",
      "\u001b[32m[1019 22:10:29 @monitor.py:467]\u001b[0m QueueInput/queue_size: 50\n",
      "\u001b[32m[1019 22:10:29 @base.py:275]\u001b[0m Start Epoch 547 ...\n"
     ]
    },
    {
     "name": "stderr",
     "output_type": "stream",
     "text": [
      "100%|###################################################################################|175/175[00:06<00:00,28.41it/s]"
     ]
    },
    {
     "name": "stdout",
     "output_type": "stream",
     "text": [
      "\u001b[32m[1019 22:10:35 @base.py:285]\u001b[0m Epoch 547 (global_step 95725) finished, time:6.16 seconds.\n",
      "\u001b[32m[1019 22:10:35 @saver.py:79]\u001b[0m Model saved to ../output/Chicago/DATGAN_05/model\\model-95725.\n"
     ]
    },
    {
     "name": "stderr",
     "output_type": "stream",
     "text": [
      "\n"
     ]
    },
    {
     "name": "stdout",
     "output_type": "stream",
     "text": [
      "\u001b[32m[1019 22:10:35 @monitor.py:467]\u001b[0m GAN_loss/discrim/accuracy_fake: 0.956\n",
      "\u001b[32m[1019 22:10:35 @monitor.py:467]\u001b[0m GAN_loss/discrim/accuracy_real: 0.052\n",
      "\u001b[32m[1019 22:10:35 @monitor.py:467]\u001b[0m GAN_loss/discrim/loss: 0.65231\n",
      "\u001b[32m[1019 22:10:35 @monitor.py:467]\u001b[0m GAN_loss/gen/final-g-loss: 0.97792\n",
      "\u001b[32m[1019 22:10:35 @monitor.py:467]\u001b[0m GAN_loss/gen/klloss: 0.047373\n",
      "\u001b[32m[1019 22:10:35 @monitor.py:467]\u001b[0m GAN_loss/gen/loss: 0.93055\n",
      "\u001b[32m[1019 22:10:35 @monitor.py:467]\u001b[0m QueueInput/queue_size: 50\n",
      "\u001b[32m[1019 22:10:35 @base.py:275]\u001b[0m Start Epoch 548 ...\n"
     ]
    },
    {
     "name": "stderr",
     "output_type": "stream",
     "text": [
      "100%|###################################################################################|175/175[00:05<00:00,30.03it/s]"
     ]
    },
    {
     "name": "stdout",
     "output_type": "stream",
     "text": [
      "\u001b[32m[1019 22:10:41 @base.py:285]\u001b[0m Epoch 548 (global_step 95900) finished, time:5.83 seconds.\n",
      "\u001b[32m[1019 22:10:41 @saver.py:79]\u001b[0m Model saved to ../output/Chicago/DATGAN_05/model\\model-95900.\n"
     ]
    },
    {
     "name": "stderr",
     "output_type": "stream",
     "text": [
      "\n"
     ]
    },
    {
     "name": "stdout",
     "output_type": "stream",
     "text": [
      "\u001b[32m[1019 22:10:41 @monitor.py:467]\u001b[0m GAN_loss/discrim/accuracy_fake: 0.968\n",
      "\u001b[32m[1019 22:10:41 @monitor.py:467]\u001b[0m GAN_loss/discrim/accuracy_real: 0.042\n",
      "\u001b[32m[1019 22:10:41 @monitor.py:467]\u001b[0m GAN_loss/discrim/loss: 0.65214\n",
      "\u001b[32m[1019 22:10:41 @monitor.py:467]\u001b[0m GAN_loss/gen/final-g-loss: 0.98807\n",
      "\u001b[32m[1019 22:10:41 @monitor.py:467]\u001b[0m GAN_loss/gen/klloss: 0.049179\n",
      "\u001b[32m[1019 22:10:41 @monitor.py:467]\u001b[0m GAN_loss/gen/loss: 0.93889\n",
      "\u001b[32m[1019 22:10:41 @monitor.py:467]\u001b[0m QueueInput/queue_size: 50\n",
      "\u001b[32m[1019 22:10:41 @base.py:275]\u001b[0m Start Epoch 549 ...\n"
     ]
    },
    {
     "name": "stderr",
     "output_type": "stream",
     "text": [
      "100%|###################################################################################|175/175[00:06<00:00,29.10it/s]"
     ]
    },
    {
     "name": "stdout",
     "output_type": "stream",
     "text": [
      "\u001b[32m[1019 22:10:47 @base.py:285]\u001b[0m Epoch 549 (global_step 96075) finished, time:6.02 seconds.\n",
      "\u001b[32m[1019 22:10:47 @saver.py:79]\u001b[0m Model saved to ../output/Chicago/DATGAN_05/model\\model-96075.\n"
     ]
    },
    {
     "name": "stderr",
     "output_type": "stream",
     "text": [
      "\n"
     ]
    },
    {
     "name": "stdout",
     "output_type": "stream",
     "text": [
      "\u001b[32m[1019 22:10:47 @monitor.py:467]\u001b[0m GAN_loss/discrim/accuracy_fake: 0.978\n",
      "\u001b[32m[1019 22:10:47 @monitor.py:467]\u001b[0m GAN_loss/discrim/accuracy_real: 0.056\n",
      "\u001b[32m[1019 22:10:47 @monitor.py:467]\u001b[0m GAN_loss/discrim/loss: 0.64725\n",
      "\u001b[32m[1019 22:10:47 @monitor.py:467]\u001b[0m GAN_loss/gen/final-g-loss: 1.0002\n",
      "\u001b[32m[1019 22:10:47 @monitor.py:467]\u001b[0m GAN_loss/gen/klloss: 0.060318\n",
      "\u001b[32m[1019 22:10:47 @monitor.py:467]\u001b[0m GAN_loss/gen/loss: 0.93988\n",
      "\u001b[32m[1019 22:10:47 @monitor.py:467]\u001b[0m QueueInput/queue_size: 50\n",
      "\u001b[32m[1019 22:10:47 @base.py:275]\u001b[0m Start Epoch 550 ...\n"
     ]
    },
    {
     "name": "stderr",
     "output_type": "stream",
     "text": [
      "100%|###################################################################################|175/175[00:05<00:00,29.38it/s]"
     ]
    },
    {
     "name": "stdout",
     "output_type": "stream",
     "text": [
      "\u001b[32m[1019 22:10:53 @base.py:285]\u001b[0m Epoch 550 (global_step 96250) finished, time:5.96 seconds.\n",
      "\u001b[32m[1019 22:10:53 @saver.py:79]\u001b[0m Model saved to ../output/Chicago/DATGAN_05/model\\model-96250.\n",
      "\u001b[32m[1019 22:10:54 @monitor.py:467]\u001b[0m GAN_loss/discrim/accuracy_fake: 0.976\n"
     ]
    },
    {
     "name": "stderr",
     "output_type": "stream",
     "text": [
      "\n"
     ]
    },
    {
     "name": "stdout",
     "output_type": "stream",
     "text": [
      "\u001b[32m[1019 22:10:54 @monitor.py:467]\u001b[0m GAN_loss/discrim/accuracy_real: 0.052\n",
      "\u001b[32m[1019 22:10:54 @monitor.py:467]\u001b[0m GAN_loss/discrim/loss: 0.64784\n",
      "\u001b[32m[1019 22:10:54 @monitor.py:467]\u001b[0m GAN_loss/gen/final-g-loss: 1.0149\n",
      "\u001b[32m[1019 22:10:54 @monitor.py:467]\u001b[0m GAN_loss/gen/klloss: 0.067705\n",
      "\u001b[32m[1019 22:10:54 @monitor.py:467]\u001b[0m GAN_loss/gen/loss: 0.94724\n",
      "\u001b[32m[1019 22:10:54 @monitor.py:467]\u001b[0m QueueInput/queue_size: 50\n",
      "\u001b[32m[1019 22:10:54 @base.py:275]\u001b[0m Start Epoch 551 ...\n"
     ]
    },
    {
     "name": "stderr",
     "output_type": "stream",
     "text": [
      "100%|###################################################################################|175/175[00:05<00:00,30.33it/s]"
     ]
    },
    {
     "name": "stdout",
     "output_type": "stream",
     "text": [
      "\u001b[32m[1019 22:10:59 @base.py:285]\u001b[0m Epoch 551 (global_step 96425) finished, time:5.77 seconds.\n",
      "\u001b[32m[1019 22:10:59 @saver.py:79]\u001b[0m Model saved to ../output/Chicago/DATGAN_05/model\\model-96425.\n"
     ]
    },
    {
     "name": "stderr",
     "output_type": "stream",
     "text": [
      "\n"
     ]
    },
    {
     "name": "stdout",
     "output_type": "stream",
     "text": [
      "\u001b[32m[1019 22:11:00 @monitor.py:467]\u001b[0m GAN_loss/discrim/accuracy_fake: 0.974\n",
      "\u001b[32m[1019 22:11:00 @monitor.py:467]\u001b[0m GAN_loss/discrim/accuracy_real: 0.028\n",
      "\u001b[32m[1019 22:11:00 @monitor.py:467]\u001b[0m GAN_loss/discrim/loss: 0.6523\n",
      "\u001b[32m[1019 22:11:00 @monitor.py:467]\u001b[0m GAN_loss/gen/final-g-loss: 1.0021\n",
      "\u001b[32m[1019 22:11:00 @monitor.py:467]\u001b[0m GAN_loss/gen/klloss: 0.065756\n",
      "\u001b[32m[1019 22:11:00 @monitor.py:467]\u001b[0m GAN_loss/gen/loss: 0.93632\n",
      "\u001b[32m[1019 22:11:00 @monitor.py:467]\u001b[0m QueueInput/queue_size: 50\n",
      "\u001b[32m[1019 22:11:00 @base.py:275]\u001b[0m Start Epoch 552 ...\n"
     ]
    },
    {
     "name": "stderr",
     "output_type": "stream",
     "text": [
      "100%|###################################################################################|175/175[00:05<00:00,29.30it/s]"
     ]
    },
    {
     "name": "stdout",
     "output_type": "stream",
     "text": [
      "\u001b[32m[1019 22:11:06 @base.py:285]\u001b[0m Epoch 552 (global_step 96600) finished, time:5.97 seconds.\n",
      "\u001b[32m[1019 22:11:06 @saver.py:79]\u001b[0m Model saved to ../output/Chicago/DATGAN_05/model\\model-96600.\n",
      "\u001b[32m[1019 22:11:06 @monitor.py:467]\u001b[0m GAN_loss/discrim/accuracy_fake: 0.964\n"
     ]
    },
    {
     "name": "stderr",
     "output_type": "stream",
     "text": [
      "\n"
     ]
    },
    {
     "name": "stdout",
     "output_type": "stream",
     "text": [
      "\u001b[32m[1019 22:11:06 @monitor.py:467]\u001b[0m GAN_loss/discrim/accuracy_real: 0.064\n",
      "\u001b[32m[1019 22:11:06 @monitor.py:467]\u001b[0m GAN_loss/discrim/loss: 0.64442\n",
      "\u001b[32m[1019 22:11:06 @monitor.py:467]\u001b[0m GAN_loss/gen/final-g-loss: 0.99226\n",
      "\u001b[32m[1019 22:11:06 @monitor.py:467]\u001b[0m GAN_loss/gen/klloss: 0.045799\n",
      "\u001b[32m[1019 22:11:06 @monitor.py:467]\u001b[0m GAN_loss/gen/loss: 0.94646\n",
      "\u001b[32m[1019 22:11:06 @monitor.py:467]\u001b[0m QueueInput/queue_size: 50\n",
      "\u001b[32m[1019 22:11:06 @base.py:275]\u001b[0m Start Epoch 553 ...\n"
     ]
    },
    {
     "name": "stderr",
     "output_type": "stream",
     "text": [
      "100%|###################################################################################|175/175[00:05<00:00,30.05it/s]"
     ]
    },
    {
     "name": "stdout",
     "output_type": "stream",
     "text": [
      "\u001b[32m[1019 22:11:12 @base.py:285]\u001b[0m Epoch 553 (global_step 96775) finished, time:5.83 seconds.\n"
     ]
    },
    {
     "name": "stderr",
     "output_type": "stream",
     "text": [
      "\n"
     ]
    },
    {
     "name": "stdout",
     "output_type": "stream",
     "text": [
      "\u001b[32m[1019 22:11:12 @saver.py:79]\u001b[0m Model saved to ../output/Chicago/DATGAN_05/model\\model-96775.\n",
      "\u001b[32m[1019 22:11:12 @monitor.py:467]\u001b[0m GAN_loss/discrim/accuracy_fake: 0.982\n",
      "\u001b[32m[1019 22:11:12 @monitor.py:467]\u001b[0m GAN_loss/discrim/accuracy_real: 0.044\n",
      "\u001b[32m[1019 22:11:12 @monitor.py:467]\u001b[0m GAN_loss/discrim/loss: 0.6508\n",
      "\u001b[32m[1019 22:11:12 @monitor.py:467]\u001b[0m GAN_loss/gen/final-g-loss: 0.98071\n",
      "\u001b[32m[1019 22:11:12 @monitor.py:467]\u001b[0m GAN_loss/gen/klloss: 0.049664\n",
      "\u001b[32m[1019 22:11:12 @monitor.py:467]\u001b[0m GAN_loss/gen/loss: 0.93104\n",
      "\u001b[32m[1019 22:11:12 @monitor.py:467]\u001b[0m QueueInput/queue_size: 50\n",
      "\u001b[32m[1019 22:11:12 @base.py:275]\u001b[0m Start Epoch 554 ...\n"
     ]
    },
    {
     "name": "stderr",
     "output_type": "stream",
     "text": [
      "100%|###################################################################################|175/175[00:05<00:00,30.03it/s]"
     ]
    },
    {
     "name": "stdout",
     "output_type": "stream",
     "text": [
      "\u001b[32m[1019 22:11:18 @base.py:285]\u001b[0m Epoch 554 (global_step 96950) finished, time:5.83 seconds.\n",
      "\u001b[32m[1019 22:11:18 @saver.py:79]\u001b[0m Model saved to ../output/Chicago/DATGAN_05/model\\model-96950.\n"
     ]
    },
    {
     "name": "stderr",
     "output_type": "stream",
     "text": [
      "\n"
     ]
    },
    {
     "name": "stdout",
     "output_type": "stream",
     "text": [
      "\u001b[32m[1019 22:11:18 @monitor.py:467]\u001b[0m GAN_loss/discrim/accuracy_fake: 0.976\n",
      "\u001b[32m[1019 22:11:18 @monitor.py:467]\u001b[0m GAN_loss/discrim/accuracy_real: 0.052\n",
      "\u001b[32m[1019 22:11:18 @monitor.py:467]\u001b[0m GAN_loss/discrim/loss: 0.64491\n",
      "\u001b[32m[1019 22:11:18 @monitor.py:467]\u001b[0m GAN_loss/gen/final-g-loss: 1.0222\n",
      "\u001b[32m[1019 22:11:18 @monitor.py:467]\u001b[0m GAN_loss/gen/klloss: 0.076074\n",
      "\u001b[32m[1019 22:11:18 @monitor.py:467]\u001b[0m GAN_loss/gen/loss: 0.94608\n",
      "\u001b[32m[1019 22:11:18 @monitor.py:467]\u001b[0m QueueInput/queue_size: 50\n",
      "\u001b[32m[1019 22:11:18 @base.py:275]\u001b[0m Start Epoch 555 ...\n"
     ]
    },
    {
     "name": "stderr",
     "output_type": "stream",
     "text": [
      "100%|###################################################################################|175/175[00:05<00:00,30.32it/s]"
     ]
    },
    {
     "name": "stdout",
     "output_type": "stream",
     "text": [
      "\u001b[32m[1019 22:11:24 @base.py:285]\u001b[0m Epoch 555 (global_step 97125) finished, time:5.77 seconds.\n",
      "\u001b[32m[1019 22:11:24 @saver.py:79]\u001b[0m Model saved to ../output/Chicago/DATGAN_05/model\\model-97125.\n",
      "\u001b[32m[1019 22:11:24 @monitor.py:467]\u001b[0m GAN_loss/discrim/accuracy_fake: 0.984\n"
     ]
    },
    {
     "name": "stderr",
     "output_type": "stream",
     "text": [
      "\n"
     ]
    },
    {
     "name": "stdout",
     "output_type": "stream",
     "text": [
      "\u001b[32m[1019 22:11:24 @monitor.py:467]\u001b[0m GAN_loss/discrim/accuracy_real: 0.056\n",
      "\u001b[32m[1019 22:11:24 @monitor.py:467]\u001b[0m GAN_loss/discrim/loss: 0.64401\n",
      "\u001b[32m[1019 22:11:24 @monitor.py:467]\u001b[0m GAN_loss/gen/final-g-loss: 0.9946\n",
      "\u001b[32m[1019 22:11:24 @monitor.py:467]\u001b[0m GAN_loss/gen/klloss: 0.053966\n",
      "\u001b[32m[1019 22:11:24 @monitor.py:467]\u001b[0m GAN_loss/gen/loss: 0.94064\n",
      "\u001b[32m[1019 22:11:24 @monitor.py:467]\u001b[0m QueueInput/queue_size: 50\n",
      "\u001b[32m[1019 22:11:24 @base.py:275]\u001b[0m Start Epoch 556 ...\n"
     ]
    },
    {
     "name": "stderr",
     "output_type": "stream",
     "text": [
      "100%|###################################################################################|175/175[00:05<00:00,29.71it/s]"
     ]
    },
    {
     "name": "stdout",
     "output_type": "stream",
     "text": [
      "\u001b[32m[1019 22:11:30 @base.py:285]\u001b[0m Epoch 556 (global_step 97300) finished, time:5.89 seconds.\n",
      "\u001b[32m[1019 22:11:30 @saver.py:79]\u001b[0m Model saved to ../output/Chicago/DATGAN_05/model\\model-97300.\n",
      "\u001b[32m[1019 22:11:30 @monitor.py:467]\u001b[0m GAN_loss/discrim/accuracy_fake: 0.97\n"
     ]
    },
    {
     "name": "stderr",
     "output_type": "stream",
     "text": [
      "\n"
     ]
    },
    {
     "name": "stdout",
     "output_type": "stream",
     "text": [
      "\u001b[32m[1019 22:11:30 @monitor.py:467]\u001b[0m GAN_loss/discrim/accuracy_real: 0.046\n",
      "\u001b[32m[1019 22:11:30 @monitor.py:467]\u001b[0m GAN_loss/discrim/loss: 0.64855\n",
      "\u001b[32m[1019 22:11:30 @monitor.py:467]\u001b[0m GAN_loss/gen/final-g-loss: 1.0262\n",
      "\u001b[32m[1019 22:11:30 @monitor.py:467]\u001b[0m GAN_loss/gen/klloss: 0.083194\n",
      "\u001b[32m[1019 22:11:30 @monitor.py:467]\u001b[0m GAN_loss/gen/loss: 0.94298\n",
      "\u001b[32m[1019 22:11:30 @monitor.py:467]\u001b[0m QueueInput/queue_size: 50\n",
      "\u001b[32m[1019 22:11:30 @base.py:275]\u001b[0m Start Epoch 557 ...\n"
     ]
    },
    {
     "name": "stderr",
     "output_type": "stream",
     "text": [
      "100%|###################################################################################|175/175[00:06<00:00,28.28it/s]"
     ]
    },
    {
     "name": "stdout",
     "output_type": "stream",
     "text": [
      "\u001b[32m[1019 22:11:36 @base.py:285]\u001b[0m Epoch 557 (global_step 97475) finished, time:6.19 seconds.\n",
      "\u001b[32m[1019 22:11:36 @saver.py:79]\u001b[0m Model saved to ../output/Chicago/DATGAN_05/model\\model-97475.\n"
     ]
    },
    {
     "name": "stderr",
     "output_type": "stream",
     "text": [
      "\n"
     ]
    },
    {
     "name": "stdout",
     "output_type": "stream",
     "text": [
      "\u001b[32m[1019 22:11:36 @monitor.py:467]\u001b[0m GAN_loss/discrim/accuracy_fake: 0.976\n",
      "\u001b[32m[1019 22:11:36 @monitor.py:467]\u001b[0m GAN_loss/discrim/accuracy_real: 0.054\n",
      "\u001b[32m[1019 22:11:36 @monitor.py:467]\u001b[0m GAN_loss/discrim/loss: 0.64483\n",
      "\u001b[32m[1019 22:11:36 @monitor.py:467]\u001b[0m GAN_loss/gen/final-g-loss: 0.99508\n",
      "\u001b[32m[1019 22:11:36 @monitor.py:467]\u001b[0m GAN_loss/gen/klloss: 0.054036\n",
      "\u001b[32m[1019 22:11:36 @monitor.py:467]\u001b[0m GAN_loss/gen/loss: 0.94105\n",
      "\u001b[32m[1019 22:11:36 @monitor.py:467]\u001b[0m QueueInput/queue_size: 50\n",
      "\u001b[32m[1019 22:11:36 @base.py:275]\u001b[0m Start Epoch 558 ...\n"
     ]
    },
    {
     "name": "stderr",
     "output_type": "stream",
     "text": [
      "100%|###################################################################################|175/175[00:06<00:00,28.87it/s]"
     ]
    },
    {
     "name": "stdout",
     "output_type": "stream",
     "text": [
      "\u001b[32m[1019 22:11:42 @base.py:285]\u001b[0m Epoch 558 (global_step 97650) finished, time:6.06 seconds.\n",
      "\u001b[32m[1019 22:11:42 @saver.py:79]\u001b[0m Model saved to ../output/Chicago/DATGAN_05/model\\model-97650.\n",
      "\u001b[32m[1019 22:11:42 @monitor.py:467]\u001b[0m GAN_loss/discrim/accuracy_fake: 0.964\n"
     ]
    },
    {
     "name": "stderr",
     "output_type": "stream",
     "text": [
      "\n"
     ]
    },
    {
     "name": "stdout",
     "output_type": "stream",
     "text": [
      "\u001b[32m[1019 22:11:42 @monitor.py:467]\u001b[0m GAN_loss/discrim/accuracy_real: 0.058\n",
      "\u001b[32m[1019 22:11:42 @monitor.py:467]\u001b[0m GAN_loss/discrim/loss: 0.65306\n",
      "\u001b[32m[1019 22:11:42 @monitor.py:467]\u001b[0m GAN_loss/gen/final-g-loss: 0.98731\n",
      "\u001b[32m[1019 22:11:42 @monitor.py:467]\u001b[0m GAN_loss/gen/klloss: 0.058551\n",
      "\u001b[32m[1019 22:11:42 @monitor.py:467]\u001b[0m GAN_loss/gen/loss: 0.92876\n",
      "\u001b[32m[1019 22:11:42 @monitor.py:467]\u001b[0m QueueInput/queue_size: 50\n",
      "\u001b[32m[1019 22:11:42 @base.py:275]\u001b[0m Start Epoch 559 ...\n"
     ]
    },
    {
     "name": "stderr",
     "output_type": "stream",
     "text": [
      "100%|###################################################################################|175/175[00:06<00:00,29.07it/s]"
     ]
    },
    {
     "name": "stdout",
     "output_type": "stream",
     "text": [
      "\u001b[32m[1019 22:11:48 @base.py:285]\u001b[0m Epoch 559 (global_step 97825) finished, time:6.02 seconds.\n",
      "\u001b[32m[1019 22:11:49 @saver.py:79]\u001b[0m Model saved to ../output/Chicago/DATGAN_05/model\\model-97825.\n",
      "\u001b[32m[1019 22:11:49 @monitor.py:467]\u001b[0m GAN_loss/discrim/accuracy_fake: 0.978\n",
      "\u001b[32m[1019 22:11:49 @monitor.py:467]\u001b[0m GAN_loss/discrim/accuracy_real: 0.046\n",
      "\u001b[32m[1019 22:11:49 @monitor.py:467]\u001b[0m GAN_loss/discrim/loss: 0.64428\n",
      "\u001b[32m[1019 22:11:49 @monitor.py:467]\u001b[0m GAN_loss/gen/final-g-loss: 0.98984\n",
      "\u001b[32m[1019 22:11:49 @monitor.py:467]\u001b[0m GAN_loss/gen/klloss: 0.043549\n",
      "\u001b[32m[1019 22:11:49 @monitor.py:467]\u001b[0m GAN_loss/gen/loss: 0.94629\n",
      "\u001b[32m[1019 22:11:49 @monitor.py:467]\u001b[0m QueueInput/queue_size: 50\n",
      "\u001b[32m[1019 22:11:49 @base.py:275]\u001b[0m Start Epoch 560 ...\n"
     ]
    },
    {
     "name": "stderr",
     "output_type": "stream",
     "text": [
      "\n",
      "100%|###################################################################################|175/175[00:06<00:00,29.08it/s]"
     ]
    },
    {
     "name": "stdout",
     "output_type": "stream",
     "text": [
      "\u001b[32m[1019 22:11:55 @base.py:285]\u001b[0m Epoch 560 (global_step 98000) finished, time:6.02 seconds.\n",
      "\u001b[32m[1019 22:11:55 @saver.py:79]\u001b[0m Model saved to ../output/Chicago/DATGAN_05/model\\model-98000.\n"
     ]
    },
    {
     "name": "stderr",
     "output_type": "stream",
     "text": [
      "\n"
     ]
    },
    {
     "name": "stdout",
     "output_type": "stream",
     "text": [
      "\u001b[32m[1019 22:11:55 @monitor.py:467]\u001b[0m GAN_loss/discrim/accuracy_fake: 0.978\n",
      "\u001b[32m[1019 22:11:55 @monitor.py:467]\u001b[0m GAN_loss/discrim/accuracy_real: 0.034\n",
      "\u001b[32m[1019 22:11:55 @monitor.py:467]\u001b[0m GAN_loss/discrim/loss: 0.64795\n",
      "\u001b[32m[1019 22:11:55 @monitor.py:467]\u001b[0m GAN_loss/gen/final-g-loss: 0.98468\n",
      "\u001b[32m[1019 22:11:55 @monitor.py:467]\u001b[0m GAN_loss/gen/klloss: 0.042573\n",
      "\u001b[32m[1019 22:11:55 @monitor.py:467]\u001b[0m GAN_loss/gen/loss: 0.94211\n",
      "\u001b[32m[1019 22:11:55 @monitor.py:467]\u001b[0m QueueInput/queue_size: 50\n",
      "\u001b[32m[1019 22:11:55 @base.py:275]\u001b[0m Start Epoch 561 ...\n"
     ]
    },
    {
     "name": "stderr",
     "output_type": "stream",
     "text": [
      "100%|###################################################################################|175/175[00:06<00:00,28.78it/s]"
     ]
    },
    {
     "name": "stdout",
     "output_type": "stream",
     "text": [
      "\u001b[32m[1019 22:12:01 @base.py:285]\u001b[0m Epoch 561 (global_step 98175) finished, time:6.08 seconds.\n",
      "\u001b[32m[1019 22:12:01 @saver.py:79]\u001b[0m Model saved to ../output/Chicago/DATGAN_05/model\\model-98175.\n"
     ]
    },
    {
     "name": "stderr",
     "output_type": "stream",
     "text": [
      "\n"
     ]
    },
    {
     "name": "stdout",
     "output_type": "stream",
     "text": [
      "\u001b[32m[1019 22:12:01 @monitor.py:467]\u001b[0m GAN_loss/discrim/accuracy_fake: 0.97\n",
      "\u001b[32m[1019 22:12:01 @monitor.py:467]\u001b[0m GAN_loss/discrim/accuracy_real: 0.044\n",
      "\u001b[32m[1019 22:12:01 @monitor.py:467]\u001b[0m GAN_loss/discrim/loss: 0.64791\n",
      "\u001b[32m[1019 22:12:01 @monitor.py:467]\u001b[0m GAN_loss/gen/final-g-loss: 0.98714\n",
      "\u001b[32m[1019 22:12:01 @monitor.py:467]\u001b[0m GAN_loss/gen/klloss: 0.05116\n",
      "\u001b[32m[1019 22:12:01 @monitor.py:467]\u001b[0m GAN_loss/gen/loss: 0.93598\n",
      "\u001b[32m[1019 22:12:01 @monitor.py:467]\u001b[0m QueueInput/queue_size: 50\n",
      "\u001b[32m[1019 22:12:01 @base.py:275]\u001b[0m Start Epoch 562 ...\n"
     ]
    },
    {
     "name": "stderr",
     "output_type": "stream",
     "text": [
      "100%|###################################################################################|175/175[00:06<00:00,28.36it/s]"
     ]
    },
    {
     "name": "stdout",
     "output_type": "stream",
     "text": [
      "\u001b[32m[1019 22:12:07 @base.py:285]\u001b[0m Epoch 562 (global_step 98350) finished, time:6.17 seconds.\n",
      "\u001b[32m[1019 22:12:07 @saver.py:79]\u001b[0m Model saved to ../output/Chicago/DATGAN_05/model\\model-98350.\n"
     ]
    },
    {
     "name": "stderr",
     "output_type": "stream",
     "text": [
      "\n"
     ]
    },
    {
     "name": "stdout",
     "output_type": "stream",
     "text": [
      "\u001b[32m[1019 22:12:07 @monitor.py:467]\u001b[0m GAN_loss/discrim/accuracy_fake: 0.964\n",
      "\u001b[32m[1019 22:12:07 @monitor.py:467]\u001b[0m GAN_loss/discrim/accuracy_real: 0.05\n",
      "\u001b[32m[1019 22:12:07 @monitor.py:467]\u001b[0m GAN_loss/discrim/loss: 0.64844\n",
      "\u001b[32m[1019 22:12:07 @monitor.py:467]\u001b[0m GAN_loss/gen/final-g-loss: 0.98128\n",
      "\u001b[32m[1019 22:12:07 @monitor.py:467]\u001b[0m GAN_loss/gen/klloss: 0.046871\n",
      "\u001b[32m[1019 22:12:07 @monitor.py:467]\u001b[0m GAN_loss/gen/loss: 0.93441\n",
      "\u001b[32m[1019 22:12:07 @monitor.py:467]\u001b[0m QueueInput/queue_size: 50\n",
      "\u001b[32m[1019 22:12:07 @base.py:275]\u001b[0m Start Epoch 563 ...\n"
     ]
    },
    {
     "name": "stderr",
     "output_type": "stream",
     "text": [
      "100%|###################################################################################|175/175[00:05<00:00,29.26it/s]"
     ]
    },
    {
     "name": "stdout",
     "output_type": "stream",
     "text": [
      "\u001b[32m[1019 22:12:13 @base.py:285]\u001b[0m Epoch 563 (global_step 98525) finished, time:5.98 seconds.\n",
      "\u001b[32m[1019 22:12:14 @saver.py:79]\u001b[0m Model saved to ../output/Chicago/DATGAN_05/model\\model-98525.\n"
     ]
    },
    {
     "name": "stderr",
     "output_type": "stream",
     "text": [
      "\n"
     ]
    },
    {
     "name": "stdout",
     "output_type": "stream",
     "text": [
      "\u001b[32m[1019 22:12:14 @monitor.py:467]\u001b[0m GAN_loss/discrim/accuracy_fake: 0.966\n",
      "\u001b[32m[1019 22:12:14 @monitor.py:467]\u001b[0m GAN_loss/discrim/accuracy_real: 0.032\n",
      "\u001b[32m[1019 22:12:14 @monitor.py:467]\u001b[0m GAN_loss/discrim/loss: 0.64919\n",
      "\u001b[32m[1019 22:12:14 @monitor.py:467]\u001b[0m GAN_loss/gen/final-g-loss: 1.0052\n",
      "\u001b[32m[1019 22:12:14 @monitor.py:467]\u001b[0m GAN_loss/gen/klloss: 0.061427\n",
      "\u001b[32m[1019 22:12:14 @monitor.py:467]\u001b[0m GAN_loss/gen/loss: 0.94376\n",
      "\u001b[32m[1019 22:12:14 @monitor.py:467]\u001b[0m QueueInput/queue_size: 50\n",
      "\u001b[32m[1019 22:12:14 @base.py:275]\u001b[0m Start Epoch 564 ...\n"
     ]
    },
    {
     "name": "stderr",
     "output_type": "stream",
     "text": [
      "100%|###################################################################################|175/175[00:05<00:00,29.40it/s]"
     ]
    },
    {
     "name": "stdout",
     "output_type": "stream",
     "text": [
      "\u001b[32m[1019 22:12:20 @base.py:285]\u001b[0m Epoch 564 (global_step 98700) finished, time:5.95 seconds.\n",
      "\u001b[32m[1019 22:12:20 @saver.py:79]\u001b[0m Model saved to ../output/Chicago/DATGAN_05/model\\model-98700.\n"
     ]
    },
    {
     "name": "stderr",
     "output_type": "stream",
     "text": [
      "\n"
     ]
    },
    {
     "name": "stdout",
     "output_type": "stream",
     "text": [
      "\u001b[32m[1019 22:12:20 @monitor.py:467]\u001b[0m GAN_loss/discrim/accuracy_fake: 0.968\n",
      "\u001b[32m[1019 22:12:20 @monitor.py:467]\u001b[0m GAN_loss/discrim/accuracy_real: 0.062\n",
      "\u001b[32m[1019 22:12:20 @monitor.py:467]\u001b[0m GAN_loss/discrim/loss: 0.65017\n",
      "\u001b[32m[1019 22:12:20 @monitor.py:467]\u001b[0m GAN_loss/gen/final-g-loss: 0.9817\n",
      "\u001b[32m[1019 22:12:20 @monitor.py:467]\u001b[0m GAN_loss/gen/klloss: 0.040128\n",
      "\u001b[32m[1019 22:12:20 @monitor.py:467]\u001b[0m GAN_loss/gen/loss: 0.94157\n",
      "\u001b[32m[1019 22:12:20 @monitor.py:467]\u001b[0m QueueInput/queue_size: 50\n",
      "\u001b[32m[1019 22:12:20 @base.py:275]\u001b[0m Start Epoch 565 ...\n"
     ]
    },
    {
     "name": "stderr",
     "output_type": "stream",
     "text": [
      "100%|###################################################################################|175/175[00:06<00:00,28.97it/s]"
     ]
    },
    {
     "name": "stdout",
     "output_type": "stream",
     "text": [
      "\u001b[32m[1019 22:12:26 @base.py:285]\u001b[0m Epoch 565 (global_step 98875) finished, time:6.04 seconds.\n",
      "\u001b[32m[1019 22:12:26 @saver.py:79]\u001b[0m Model saved to ../output/Chicago/DATGAN_05/model\\model-98875.\n"
     ]
    },
    {
     "name": "stderr",
     "output_type": "stream",
     "text": [
      "\n"
     ]
    },
    {
     "name": "stdout",
     "output_type": "stream",
     "text": [
      "\u001b[32m[1019 22:12:26 @monitor.py:467]\u001b[0m GAN_loss/discrim/accuracy_fake: 0.966\n",
      "\u001b[32m[1019 22:12:26 @monitor.py:467]\u001b[0m GAN_loss/discrim/accuracy_real: 0.028\n",
      "\u001b[32m[1019 22:12:26 @monitor.py:467]\u001b[0m GAN_loss/discrim/loss: 0.65558\n",
      "\u001b[32m[1019 22:12:26 @monitor.py:467]\u001b[0m GAN_loss/gen/final-g-loss: 0.97441\n",
      "\u001b[32m[1019 22:12:26 @monitor.py:467]\u001b[0m GAN_loss/gen/klloss: 0.041796\n",
      "\u001b[32m[1019 22:12:26 @monitor.py:467]\u001b[0m GAN_loss/gen/loss: 0.93261\n",
      "\u001b[32m[1019 22:12:26 @monitor.py:467]\u001b[0m QueueInput/queue_size: 50\n",
      "\u001b[32m[1019 22:12:26 @base.py:275]\u001b[0m Start Epoch 566 ...\n"
     ]
    },
    {
     "name": "stderr",
     "output_type": "stream",
     "text": [
      "100%|###################################################################################|175/175[00:06<00:00,28.50it/s]"
     ]
    },
    {
     "name": "stdout",
     "output_type": "stream",
     "text": [
      "\u001b[32m[1019 22:12:32 @base.py:285]\u001b[0m Epoch 566 (global_step 99050) finished, time:6.14 seconds.\n",
      "\u001b[32m[1019 22:12:32 @saver.py:79]\u001b[0m Model saved to ../output/Chicago/DATGAN_05/model\\model-99050.\n"
     ]
    },
    {
     "name": "stderr",
     "output_type": "stream",
     "text": [
      "\n"
     ]
    },
    {
     "name": "stdout",
     "output_type": "stream",
     "text": [
      "\u001b[32m[1019 22:12:32 @monitor.py:467]\u001b[0m GAN_loss/discrim/accuracy_fake: 0.966\n",
      "\u001b[32m[1019 22:12:32 @monitor.py:467]\u001b[0m GAN_loss/discrim/accuracy_real: 0.038\n",
      "\u001b[32m[1019 22:12:32 @monitor.py:467]\u001b[0m GAN_loss/discrim/loss: 0.64964\n",
      "\u001b[32m[1019 22:12:32 @monitor.py:467]\u001b[0m GAN_loss/gen/final-g-loss: 0.97093\n",
      "\u001b[32m[1019 22:12:32 @monitor.py:467]\u001b[0m GAN_loss/gen/klloss: 0.040323\n",
      "\u001b[32m[1019 22:12:32 @monitor.py:467]\u001b[0m GAN_loss/gen/loss: 0.93061\n",
      "\u001b[32m[1019 22:12:32 @monitor.py:467]\u001b[0m QueueInput/queue_size: 50\n",
      "\u001b[32m[1019 22:12:32 @base.py:275]\u001b[0m Start Epoch 567 ...\n"
     ]
    },
    {
     "name": "stderr",
     "output_type": "stream",
     "text": [
      "100%|###################################################################################|175/175[00:06<00:00,28.53it/s]"
     ]
    },
    {
     "name": "stdout",
     "output_type": "stream",
     "text": [
      "\u001b[32m[1019 22:12:38 @base.py:285]\u001b[0m Epoch 567 (global_step 99225) finished, time:6.13 seconds.\n",
      "\u001b[32m[1019 22:12:39 @saver.py:79]\u001b[0m Model saved to ../output/Chicago/DATGAN_05/model\\model-99225.\n",
      "\u001b[32m[1019 22:12:39 @monitor.py:467]\u001b[0m GAN_loss/discrim/accuracy_fake: 0.968\n"
     ]
    },
    {
     "name": "stderr",
     "output_type": "stream",
     "text": [
      "\n"
     ]
    },
    {
     "name": "stdout",
     "output_type": "stream",
     "text": [
      "\u001b[32m[1019 22:12:39 @monitor.py:467]\u001b[0m GAN_loss/discrim/accuracy_real: 0.062\n",
      "\u001b[32m[1019 22:12:39 @monitor.py:467]\u001b[0m GAN_loss/discrim/loss: 0.64576\n",
      "\u001b[32m[1019 22:12:39 @monitor.py:467]\u001b[0m GAN_loss/gen/final-g-loss: 1.0201\n",
      "\u001b[32m[1019 22:12:39 @monitor.py:467]\u001b[0m GAN_loss/gen/klloss: 0.076589\n",
      "\u001b[32m[1019 22:12:39 @monitor.py:467]\u001b[0m GAN_loss/gen/loss: 0.94351\n",
      "\u001b[32m[1019 22:12:39 @monitor.py:467]\u001b[0m QueueInput/queue_size: 50\n",
      "\u001b[32m[1019 22:12:39 @base.py:275]\u001b[0m Start Epoch 568 ...\n"
     ]
    },
    {
     "name": "stderr",
     "output_type": "stream",
     "text": [
      "100%|###################################################################################|175/175[00:05<00:00,29.19it/s]"
     ]
    },
    {
     "name": "stdout",
     "output_type": "stream",
     "text": [
      "\u001b[32m[1019 22:12:45 @base.py:285]\u001b[0m Epoch 568 (global_step 99400) finished, time:6 seconds.\n",
      "\u001b[32m[1019 22:12:45 @saver.py:79]\u001b[0m Model saved to ../output/Chicago/DATGAN_05/model\\model-99400.\n"
     ]
    },
    {
     "name": "stderr",
     "output_type": "stream",
     "text": [
      "\n"
     ]
    },
    {
     "name": "stdout",
     "output_type": "stream",
     "text": [
      "\u001b[32m[1019 22:12:45 @monitor.py:467]\u001b[0m GAN_loss/discrim/accuracy_fake: 0.96\n",
      "\u001b[32m[1019 22:12:45 @monitor.py:467]\u001b[0m GAN_loss/discrim/accuracy_real: 0.046\n",
      "\u001b[32m[1019 22:12:45 @monitor.py:467]\u001b[0m GAN_loss/discrim/loss: 0.6551\n",
      "\u001b[32m[1019 22:12:45 @monitor.py:467]\u001b[0m GAN_loss/gen/final-g-loss: 0.9949\n",
      "\u001b[32m[1019 22:12:45 @monitor.py:467]\u001b[0m GAN_loss/gen/klloss: 0.064856\n",
      "\u001b[32m[1019 22:12:45 @monitor.py:467]\u001b[0m GAN_loss/gen/loss: 0.93004\n",
      "\u001b[32m[1019 22:12:45 @monitor.py:467]\u001b[0m QueueInput/queue_size: 50\n",
      "\u001b[32m[1019 22:12:45 @base.py:275]\u001b[0m Start Epoch 569 ...\n"
     ]
    },
    {
     "name": "stderr",
     "output_type": "stream",
     "text": [
      "100%|###################################################################################|175/175[00:05<00:00,29.61it/s]"
     ]
    },
    {
     "name": "stdout",
     "output_type": "stream",
     "text": [
      "\u001b[32m[1019 22:12:51 @base.py:285]\u001b[0m Epoch 569 (global_step 99575) finished, time:5.91 seconds.\n"
     ]
    },
    {
     "name": "stderr",
     "output_type": "stream",
     "text": [
      "\n"
     ]
    },
    {
     "name": "stdout",
     "output_type": "stream",
     "text": [
      "\u001b[32m[1019 22:12:51 @saver.py:79]\u001b[0m Model saved to ../output/Chicago/DATGAN_05/model\\model-99575.\n",
      "\u001b[32m[1019 22:12:51 @monitor.py:467]\u001b[0m GAN_loss/discrim/accuracy_fake: 0.97\n",
      "\u001b[32m[1019 22:12:51 @monitor.py:467]\u001b[0m GAN_loss/discrim/accuracy_real: 0.052\n",
      "\u001b[32m[1019 22:12:51 @monitor.py:467]\u001b[0m GAN_loss/discrim/loss: 0.64722\n",
      "\u001b[32m[1019 22:12:51 @monitor.py:467]\u001b[0m GAN_loss/gen/final-g-loss: 0.99003\n",
      "\u001b[32m[1019 22:12:51 @monitor.py:467]\u001b[0m GAN_loss/gen/klloss: 0.055094\n",
      "\u001b[32m[1019 22:12:51 @monitor.py:467]\u001b[0m GAN_loss/gen/loss: 0.93493\n",
      "\u001b[32m[1019 22:12:51 @monitor.py:467]\u001b[0m QueueInput/queue_size: 50\n",
      "\u001b[32m[1019 22:12:51 @base.py:275]\u001b[0m Start Epoch 570 ...\n"
     ]
    },
    {
     "name": "stderr",
     "output_type": "stream",
     "text": [
      "100%|###################################################################################|175/175[00:06<00:00,29.02it/s]"
     ]
    },
    {
     "name": "stdout",
     "output_type": "stream",
     "text": [
      "\u001b[32m[1019 22:12:57 @base.py:285]\u001b[0m Epoch 570 (global_step 99750) finished, time:6.03 seconds.\n",
      "\u001b[32m[1019 22:12:57 @saver.py:79]\u001b[0m Model saved to ../output/Chicago/DATGAN_05/model\\model-99750.\n",
      "\u001b[32m[1019 22:12:57 @monitor.py:467]\u001b[0m GAN_loss/discrim/accuracy_fake: 0.98\n"
     ]
    },
    {
     "name": "stderr",
     "output_type": "stream",
     "text": [
      "\n"
     ]
    },
    {
     "name": "stdout",
     "output_type": "stream",
     "text": [
      "\u001b[32m[1019 22:12:57 @monitor.py:467]\u001b[0m GAN_loss/discrim/accuracy_real: 0.054\n",
      "\u001b[32m[1019 22:12:57 @monitor.py:467]\u001b[0m GAN_loss/discrim/loss: 0.6427\n",
      "\u001b[32m[1019 22:12:57 @monitor.py:467]\u001b[0m GAN_loss/gen/final-g-loss: 1.0168\n",
      "\u001b[32m[1019 22:12:57 @monitor.py:467]\u001b[0m GAN_loss/gen/klloss: 0.078097\n",
      "\u001b[32m[1019 22:12:57 @monitor.py:467]\u001b[0m GAN_loss/gen/loss: 0.93873\n",
      "\u001b[32m[1019 22:12:57 @monitor.py:467]\u001b[0m QueueInput/queue_size: 50\n",
      "\u001b[32m[1019 22:12:57 @base.py:275]\u001b[0m Start Epoch 571 ...\n"
     ]
    },
    {
     "name": "stderr",
     "output_type": "stream",
     "text": [
      "100%|###################################################################################|175/175[00:06<00:00,29.10it/s]"
     ]
    },
    {
     "name": "stdout",
     "output_type": "stream",
     "text": [
      "\u001b[32m[1019 22:13:03 @base.py:285]\u001b[0m Epoch 571 (global_step 99925) finished, time:6.01 seconds.\n",
      "\u001b[32m[1019 22:13:03 @saver.py:79]\u001b[0m Model saved to ../output/Chicago/DATGAN_05/model\\model-99925.\n",
      "\u001b[32m[1019 22:13:03 @monitor.py:467]\u001b[0m GAN_loss/discrim/accuracy_fake: 0.972\n"
     ]
    },
    {
     "name": "stderr",
     "output_type": "stream",
     "text": [
      "\n"
     ]
    },
    {
     "name": "stdout",
     "output_type": "stream",
     "text": [
      "\u001b[32m[1019 22:13:03 @monitor.py:467]\u001b[0m GAN_loss/discrim/accuracy_real: 0.052\n",
      "\u001b[32m[1019 22:13:03 @monitor.py:467]\u001b[0m GAN_loss/discrim/loss: 0.64815\n",
      "\u001b[32m[1019 22:13:03 @monitor.py:467]\u001b[0m GAN_loss/gen/final-g-loss: 0.98601\n",
      "\u001b[32m[1019 22:13:03 @monitor.py:467]\u001b[0m GAN_loss/gen/klloss: 0.051289\n",
      "\u001b[32m[1019 22:13:03 @monitor.py:467]\u001b[0m GAN_loss/gen/loss: 0.93472\n",
      "\u001b[32m[1019 22:13:03 @monitor.py:467]\u001b[0m QueueInput/queue_size: 50\n",
      "\u001b[32m[1019 22:13:03 @base.py:275]\u001b[0m Start Epoch 572 ...\n"
     ]
    },
    {
     "name": "stderr",
     "output_type": "stream",
     "text": [
      "100%|###################################################################################|175/175[00:05<00:00,29.77it/s]"
     ]
    },
    {
     "name": "stdout",
     "output_type": "stream",
     "text": [
      "\u001b[32m[1019 22:13:09 @base.py:285]\u001b[0m Epoch 572 (global_step 100100) finished, time:5.88 seconds.\n"
     ]
    },
    {
     "name": "stderr",
     "output_type": "stream",
     "text": [
      "\n"
     ]
    },
    {
     "name": "stdout",
     "output_type": "stream",
     "text": [
      "\u001b[32m[1019 22:13:09 @saver.py:79]\u001b[0m Model saved to ../output/Chicago/DATGAN_05/model\\model-100100.\n",
      "\u001b[32m[1019 22:13:09 @monitor.py:467]\u001b[0m GAN_loss/discrim/accuracy_fake: 0.978\n",
      "\u001b[32m[1019 22:13:09 @monitor.py:467]\u001b[0m GAN_loss/discrim/accuracy_real: 0.046\n",
      "\u001b[32m[1019 22:13:09 @monitor.py:467]\u001b[0m GAN_loss/discrim/loss: 0.64835\n",
      "\u001b[32m[1019 22:13:09 @monitor.py:467]\u001b[0m GAN_loss/gen/final-g-loss: 0.9916\n",
      "\u001b[32m[1019 22:13:09 @monitor.py:467]\u001b[0m GAN_loss/gen/klloss: 0.051617\n",
      "\u001b[32m[1019 22:13:09 @monitor.py:467]\u001b[0m GAN_loss/gen/loss: 0.93998\n",
      "\u001b[32m[1019 22:13:09 @monitor.py:467]\u001b[0m QueueInput/queue_size: 50\n",
      "\u001b[32m[1019 22:13:09 @base.py:275]\u001b[0m Start Epoch 573 ...\n"
     ]
    },
    {
     "name": "stderr",
     "output_type": "stream",
     "text": [
      "100%|###################################################################################|175/175[00:06<00:00,29.10it/s]"
     ]
    },
    {
     "name": "stdout",
     "output_type": "stream",
     "text": [
      "\u001b[32m[1019 22:13:16 @base.py:285]\u001b[0m Epoch 573 (global_step 100275) finished, time:6.01 seconds.\n",
      "\u001b[32m[1019 22:13:16 @saver.py:79]\u001b[0m Model saved to ../output/Chicago/DATGAN_05/model\\model-100275.\n",
      "\u001b[32m[1019 22:13:16 @monitor.py:467]\u001b[0m GAN_loss/discrim/accuracy_fake: 0.97\n"
     ]
    },
    {
     "name": "stderr",
     "output_type": "stream",
     "text": [
      "\n"
     ]
    },
    {
     "name": "stdout",
     "output_type": "stream",
     "text": [
      "\u001b[32m[1019 22:13:16 @monitor.py:467]\u001b[0m GAN_loss/discrim/accuracy_real: 0.032\n",
      "\u001b[32m[1019 22:13:16 @monitor.py:467]\u001b[0m GAN_loss/discrim/loss: 0.65615\n",
      "\u001b[32m[1019 22:13:16 @monitor.py:467]\u001b[0m GAN_loss/gen/final-g-loss: 0.99822\n",
      "\u001b[32m[1019 22:13:16 @monitor.py:467]\u001b[0m GAN_loss/gen/klloss: 0.066058\n",
      "\u001b[32m[1019 22:13:16 @monitor.py:467]\u001b[0m GAN_loss/gen/loss: 0.93216\n",
      "\u001b[32m[1019 22:13:16 @monitor.py:467]\u001b[0m QueueInput/queue_size: 50\n",
      "\u001b[32m[1019 22:13:16 @base.py:275]\u001b[0m Start Epoch 574 ...\n"
     ]
    },
    {
     "name": "stderr",
     "output_type": "stream",
     "text": [
      "100%|###################################################################################|175/175[00:06<00:00,29.02it/s]"
     ]
    },
    {
     "name": "stdout",
     "output_type": "stream",
     "text": [
      "\u001b[32m[1019 22:13:22 @base.py:285]\u001b[0m Epoch 574 (global_step 100450) finished, time:6.03 seconds.\n",
      "\u001b[32m[1019 22:13:22 @saver.py:79]\u001b[0m Model saved to ../output/Chicago/DATGAN_05/model\\model-100450.\n",
      "\u001b[32m[1019 22:13:22 @monitor.py:467]\u001b[0m GAN_loss/discrim/accuracy_fake: 0.98\n"
     ]
    },
    {
     "name": "stderr",
     "output_type": "stream",
     "text": [
      "\n"
     ]
    },
    {
     "name": "stdout",
     "output_type": "stream",
     "text": [
      "\u001b[32m[1019 22:13:22 @monitor.py:467]\u001b[0m GAN_loss/discrim/accuracy_real: 0.054\n",
      "\u001b[32m[1019 22:13:22 @monitor.py:467]\u001b[0m GAN_loss/discrim/loss: 0.64859\n",
      "\u001b[32m[1019 22:13:22 @monitor.py:467]\u001b[0m GAN_loss/gen/final-g-loss: 0.98414\n",
      "\u001b[32m[1019 22:13:22 @monitor.py:467]\u001b[0m GAN_loss/gen/klloss: 0.042541\n",
      "\u001b[32m[1019 22:13:22 @monitor.py:467]\u001b[0m GAN_loss/gen/loss: 0.9416\n",
      "\u001b[32m[1019 22:13:22 @monitor.py:467]\u001b[0m QueueInput/queue_size: 50\n",
      "\u001b[32m[1019 22:13:22 @base.py:275]\u001b[0m Start Epoch 575 ...\n"
     ]
    },
    {
     "name": "stderr",
     "output_type": "stream",
     "text": [
      "100%|###################################################################################|175/175[00:06<00:00,29.07it/s]"
     ]
    },
    {
     "name": "stdout",
     "output_type": "stream",
     "text": [
      "\u001b[32m[1019 22:13:28 @base.py:285]\u001b[0m Epoch 575 (global_step 100625) finished, time:6.02 seconds.\n",
      "\u001b[32m[1019 22:13:28 @saver.py:79]\u001b[0m Model saved to ../output/Chicago/DATGAN_05/model\\model-100625.\n"
     ]
    },
    {
     "name": "stderr",
     "output_type": "stream",
     "text": [
      "\n"
     ]
    },
    {
     "name": "stdout",
     "output_type": "stream",
     "text": [
      "\u001b[32m[1019 22:13:28 @monitor.py:467]\u001b[0m GAN_loss/discrim/accuracy_fake: 0.99\n",
      "\u001b[32m[1019 22:13:28 @monitor.py:467]\u001b[0m GAN_loss/discrim/accuracy_real: 0.046\n",
      "\u001b[32m[1019 22:13:28 @monitor.py:467]\u001b[0m GAN_loss/discrim/loss: 0.64559\n",
      "\u001b[32m[1019 22:13:28 @monitor.py:467]\u001b[0m GAN_loss/gen/final-g-loss: 1.0131\n",
      "\u001b[32m[1019 22:13:28 @monitor.py:467]\u001b[0m GAN_loss/gen/klloss: 0.064467\n",
      "\u001b[32m[1019 22:13:28 @monitor.py:467]\u001b[0m GAN_loss/gen/loss: 0.94862\n",
      "\u001b[32m[1019 22:13:28 @monitor.py:467]\u001b[0m QueueInput/queue_size: 50\n",
      "\u001b[32m[1019 22:13:28 @base.py:275]\u001b[0m Start Epoch 576 ...\n"
     ]
    },
    {
     "name": "stderr",
     "output_type": "stream",
     "text": [
      "100%|###################################################################################|175/175[00:06<00:00,28.09it/s]"
     ]
    },
    {
     "name": "stdout",
     "output_type": "stream",
     "text": [
      "\u001b[32m[1019 22:13:34 @base.py:285]\u001b[0m Epoch 576 (global_step 100800) finished, time:6.23 seconds.\n",
      "\u001b[32m[1019 22:13:34 @saver.py:79]\u001b[0m Model saved to ../output/Chicago/DATGAN_05/model\\model-100800.\n"
     ]
    },
    {
     "name": "stderr",
     "output_type": "stream",
     "text": [
      "\n"
     ]
    },
    {
     "name": "stdout",
     "output_type": "stream",
     "text": [
      "\u001b[32m[1019 22:13:35 @monitor.py:467]\u001b[0m GAN_loss/discrim/accuracy_fake: 0.968\n",
      "\u001b[32m[1019 22:13:35 @monitor.py:467]\u001b[0m GAN_loss/discrim/accuracy_real: 0.052\n",
      "\u001b[32m[1019 22:13:35 @monitor.py:467]\u001b[0m GAN_loss/discrim/loss: 0.64489\n",
      "\u001b[32m[1019 22:13:35 @monitor.py:467]\u001b[0m GAN_loss/gen/final-g-loss: 1.0114\n",
      "\u001b[32m[1019 22:13:35 @monitor.py:467]\u001b[0m GAN_loss/gen/klloss: 0.076197\n",
      "\u001b[32m[1019 22:13:35 @monitor.py:467]\u001b[0m GAN_loss/gen/loss: 0.93518\n",
      "\u001b[32m[1019 22:13:35 @monitor.py:467]\u001b[0m QueueInput/queue_size: 50\n",
      "\u001b[32m[1019 22:13:35 @base.py:275]\u001b[0m Start Epoch 577 ...\n"
     ]
    },
    {
     "name": "stderr",
     "output_type": "stream",
     "text": [
      "100%|###################################################################################|175/175[00:06<00:00,28.92it/s]"
     ]
    },
    {
     "name": "stdout",
     "output_type": "stream",
     "text": [
      "\u001b[32m[1019 22:13:41 @base.py:285]\u001b[0m Epoch 577 (global_step 100975) finished, time:6.05 seconds.\n",
      "\u001b[32m[1019 22:13:41 @saver.py:79]\u001b[0m Model saved to ../output/Chicago/DATGAN_05/model\\model-100975.\n"
     ]
    },
    {
     "name": "stderr",
     "output_type": "stream",
     "text": [
      "\n"
     ]
    },
    {
     "name": "stdout",
     "output_type": "stream",
     "text": [
      "\u001b[32m[1019 22:13:41 @monitor.py:467]\u001b[0m GAN_loss/discrim/accuracy_fake: 0.978\n",
      "\u001b[32m[1019 22:13:41 @monitor.py:467]\u001b[0m GAN_loss/discrim/accuracy_real: 0.05\n",
      "\u001b[32m[1019 22:13:41 @monitor.py:467]\u001b[0m GAN_loss/discrim/loss: 0.65302\n",
      "\u001b[32m[1019 22:13:41 @monitor.py:467]\u001b[0m GAN_loss/gen/final-g-loss: 0.98638\n",
      "\u001b[32m[1019 22:13:41 @monitor.py:467]\u001b[0m GAN_loss/gen/klloss: 0.050831\n",
      "\u001b[32m[1019 22:13:41 @monitor.py:467]\u001b[0m GAN_loss/gen/loss: 0.93555\n",
      "\u001b[32m[1019 22:13:41 @monitor.py:467]\u001b[0m QueueInput/queue_size: 50\n",
      "\u001b[32m[1019 22:13:41 @base.py:275]\u001b[0m Start Epoch 578 ...\n"
     ]
    },
    {
     "name": "stderr",
     "output_type": "stream",
     "text": [
      "100%|###################################################################################|175/175[00:06<00:00,28.98it/s]"
     ]
    },
    {
     "name": "stdout",
     "output_type": "stream",
     "text": [
      "\u001b[32m[1019 22:13:47 @base.py:285]\u001b[0m Epoch 578 (global_step 101150) finished, time:6.04 seconds.\n",
      "\u001b[32m[1019 22:13:47 @saver.py:79]\u001b[0m Model saved to ../output/Chicago/DATGAN_05/model\\model-101150.\n"
     ]
    },
    {
     "name": "stderr",
     "output_type": "stream",
     "text": [
      "\n"
     ]
    },
    {
     "name": "stdout",
     "output_type": "stream",
     "text": [
      "\u001b[32m[1019 22:13:47 @monitor.py:467]\u001b[0m GAN_loss/discrim/accuracy_fake: 0.966\n",
      "\u001b[32m[1019 22:13:47 @monitor.py:467]\u001b[0m GAN_loss/discrim/accuracy_real: 0.044\n",
      "\u001b[32m[1019 22:13:47 @monitor.py:467]\u001b[0m GAN_loss/discrim/loss: 0.65054\n",
      "\u001b[32m[1019 22:13:47 @monitor.py:467]\u001b[0m GAN_loss/gen/final-g-loss: 1.0073\n",
      "\u001b[32m[1019 22:13:47 @monitor.py:467]\u001b[0m GAN_loss/gen/klloss: 0.063394\n",
      "\u001b[32m[1019 22:13:47 @monitor.py:467]\u001b[0m GAN_loss/gen/loss: 0.94392\n",
      "\u001b[32m[1019 22:13:47 @monitor.py:467]\u001b[0m QueueInput/queue_size: 50\n",
      "\u001b[32m[1019 22:13:47 @base.py:275]\u001b[0m Start Epoch 579 ...\n"
     ]
    },
    {
     "name": "stderr",
     "output_type": "stream",
     "text": [
      "100%|###################################################################################|175/175[00:06<00:00,29.02it/s]"
     ]
    },
    {
     "name": "stdout",
     "output_type": "stream",
     "text": [
      "\u001b[32m[1019 22:13:53 @base.py:285]\u001b[0m Epoch 579 (global_step 101325) finished, time:6.03 seconds.\n",
      "\u001b[32m[1019 22:13:53 @saver.py:79]\u001b[0m Model saved to ../output/Chicago/DATGAN_05/model\\model-101325.\n",
      "\u001b[32m[1019 22:13:53 @monitor.py:467]\u001b[0m GAN_loss/discrim/accuracy_fake: 0.976\n",
      "\u001b[32m[1019 22:13:53 @monitor.py:467]\u001b[0m GAN_loss/discrim/accuracy_real: 0.056\n",
      "\u001b[32m[1019 22:13:53 @monitor.py:467]\u001b[0m GAN_loss/discrim/loss: 0.64422\n",
      "\u001b[32m[1019 22:13:53 @monitor.py:467]\u001b[0m GAN_loss/gen/final-g-loss: 0.97354\n",
      "\u001b[32m[1019 22:13:53 @monitor.py:467]\u001b[0m GAN_loss/gen/klloss: 0.037251\n",
      "\u001b[32m[1019 22:13:53 @monitor.py:467]\u001b[0m GAN_loss/gen/loss: 0.93629\n",
      "\u001b[32m[1019 22:13:53 @monitor.py:467]\u001b[0m QueueInput/queue_size: 50\n",
      "\u001b[32m[1019 22:13:53 @base.py:275]\u001b[0m Start Epoch 580 ...\n"
     ]
    },
    {
     "name": "stderr",
     "output_type": "stream",
     "text": [
      "\n",
      "100%|###################################################################################|175/175[00:06<00:00,28.16it/s]"
     ]
    },
    {
     "name": "stdout",
     "output_type": "stream",
     "text": [
      "\u001b[32m[1019 22:13:59 @base.py:285]\u001b[0m Epoch 580 (global_step 101500) finished, time:6.21 seconds.\n",
      "\u001b[32m[1019 22:14:00 @saver.py:79]\u001b[0m Model saved to ../output/Chicago/DATGAN_05/model\\model-101500.\n"
     ]
    },
    {
     "name": "stderr",
     "output_type": "stream",
     "text": [
      "\n"
     ]
    },
    {
     "name": "stdout",
     "output_type": "stream",
     "text": [
      "\u001b[32m[1019 22:14:00 @monitor.py:467]\u001b[0m GAN_loss/discrim/accuracy_fake: 0.966\n",
      "\u001b[32m[1019 22:14:00 @monitor.py:467]\u001b[0m GAN_loss/discrim/accuracy_real: 0.05\n",
      "\u001b[32m[1019 22:14:00 @monitor.py:467]\u001b[0m GAN_loss/discrim/loss: 0.65144\n",
      "\u001b[32m[1019 22:14:00 @monitor.py:467]\u001b[0m GAN_loss/gen/final-g-loss: 0.98509\n",
      "\u001b[32m[1019 22:14:00 @monitor.py:467]\u001b[0m GAN_loss/gen/klloss: 0.050977\n",
      "\u001b[32m[1019 22:14:00 @monitor.py:467]\u001b[0m GAN_loss/gen/loss: 0.93411\n",
      "\u001b[32m[1019 22:14:00 @monitor.py:467]\u001b[0m QueueInput/queue_size: 50\n",
      "\u001b[32m[1019 22:14:00 @base.py:275]\u001b[0m Start Epoch 581 ...\n"
     ]
    },
    {
     "name": "stderr",
     "output_type": "stream",
     "text": [
      "100%|###################################################################################|175/175[00:06<00:00,28.33it/s]"
     ]
    },
    {
     "name": "stdout",
     "output_type": "stream",
     "text": [
      "\u001b[32m[1019 22:14:06 @base.py:285]\u001b[0m Epoch 581 (global_step 101675) finished, time:6.18 seconds.\n",
      "\u001b[32m[1019 22:14:06 @saver.py:79]\u001b[0m Model saved to ../output/Chicago/DATGAN_05/model\\model-101675.\n"
     ]
    },
    {
     "name": "stderr",
     "output_type": "stream",
     "text": [
      "\n"
     ]
    },
    {
     "name": "stdout",
     "output_type": "stream",
     "text": [
      "\u001b[32m[1019 22:14:06 @monitor.py:467]\u001b[0m GAN_loss/discrim/accuracy_fake: 0.974\n",
      "\u001b[32m[1019 22:14:06 @monitor.py:467]\u001b[0m GAN_loss/discrim/accuracy_real: 0.062\n",
      "\u001b[32m[1019 22:14:06 @monitor.py:467]\u001b[0m GAN_loss/discrim/loss: 0.64507\n",
      "\u001b[32m[1019 22:14:06 @monitor.py:467]\u001b[0m GAN_loss/gen/final-g-loss: 0.99795\n",
      "\u001b[32m[1019 22:14:06 @monitor.py:467]\u001b[0m GAN_loss/gen/klloss: 0.053153\n",
      "\u001b[32m[1019 22:14:06 @monitor.py:467]\u001b[0m GAN_loss/gen/loss: 0.9448\n",
      "\u001b[32m[1019 22:14:06 @monitor.py:467]\u001b[0m QueueInput/queue_size: 50\n",
      "\u001b[32m[1019 22:14:06 @base.py:275]\u001b[0m Start Epoch 582 ...\n"
     ]
    },
    {
     "name": "stderr",
     "output_type": "stream",
     "text": [
      "100%|###################################################################################|175/175[00:05<00:00,29.69it/s]"
     ]
    },
    {
     "name": "stdout",
     "output_type": "stream",
     "text": [
      "\u001b[32m[1019 22:14:12 @base.py:285]\u001b[0m Epoch 582 (global_step 101850) finished, time:5.89 seconds.\n"
     ]
    },
    {
     "name": "stderr",
     "output_type": "stream",
     "text": [
      "\n"
     ]
    },
    {
     "name": "stdout",
     "output_type": "stream",
     "text": [
      "\u001b[32m[1019 22:14:12 @saver.py:79]\u001b[0m Model saved to ../output/Chicago/DATGAN_05/model\\model-101850.\n",
      "\u001b[32m[1019 22:14:12 @monitor.py:467]\u001b[0m GAN_loss/discrim/accuracy_fake: 0.976\n",
      "\u001b[32m[1019 22:14:12 @monitor.py:467]\u001b[0m GAN_loss/discrim/accuracy_real: 0.032\n",
      "\u001b[32m[1019 22:14:12 @monitor.py:467]\u001b[0m GAN_loss/discrim/loss: 0.64847\n",
      "\u001b[32m[1019 22:14:12 @monitor.py:467]\u001b[0m GAN_loss/gen/final-g-loss: 1.039\n",
      "\u001b[32m[1019 22:14:12 @monitor.py:467]\u001b[0m GAN_loss/gen/klloss: 0.088934\n",
      "\u001b[32m[1019 22:14:12 @monitor.py:467]\u001b[0m GAN_loss/gen/loss: 0.95008\n",
      "\u001b[32m[1019 22:14:12 @monitor.py:467]\u001b[0m QueueInput/queue_size: 50\n",
      "\u001b[32m[1019 22:14:12 @base.py:275]\u001b[0m Start Epoch 583 ...\n"
     ]
    },
    {
     "name": "stderr",
     "output_type": "stream",
     "text": [
      "100%|###################################################################################|175/175[00:05<00:00,29.91it/s]"
     ]
    },
    {
     "name": "stdout",
     "output_type": "stream",
     "text": [
      "\u001b[32m[1019 22:14:18 @base.py:285]\u001b[0m Epoch 583 (global_step 102025) finished, time:5.85 seconds.\n",
      "\u001b[32m[1019 22:14:18 @saver.py:79]\u001b[0m Model saved to ../output/Chicago/DATGAN_05/model\\model-102025.\n"
     ]
    },
    {
     "name": "stderr",
     "output_type": "stream",
     "text": [
      "\n"
     ]
    },
    {
     "name": "stdout",
     "output_type": "stream",
     "text": [
      "\u001b[32m[1019 22:14:18 @monitor.py:467]\u001b[0m GAN_loss/discrim/accuracy_fake: 0.964\n",
      "\u001b[32m[1019 22:14:18 @monitor.py:467]\u001b[0m GAN_loss/discrim/accuracy_real: 0.062\n",
      "\u001b[32m[1019 22:14:18 @monitor.py:467]\u001b[0m GAN_loss/discrim/loss: 0.64897\n",
      "\u001b[32m[1019 22:14:18 @monitor.py:467]\u001b[0m GAN_loss/gen/final-g-loss: 0.97427\n",
      "\u001b[32m[1019 22:14:18 @monitor.py:467]\u001b[0m GAN_loss/gen/klloss: 0.036532\n",
      "\u001b[32m[1019 22:14:18 @monitor.py:467]\u001b[0m GAN_loss/gen/loss: 0.93774\n",
      "\u001b[32m[1019 22:14:18 @monitor.py:467]\u001b[0m QueueInput/queue_size: 50\n",
      "\u001b[32m[1019 22:14:18 @base.py:275]\u001b[0m Start Epoch 584 ...\n"
     ]
    },
    {
     "name": "stderr",
     "output_type": "stream",
     "text": [
      "100%|###################################################################################|175/175[00:05<00:00,30.25it/s]"
     ]
    },
    {
     "name": "stdout",
     "output_type": "stream",
     "text": [
      "\u001b[32m[1019 22:14:24 @base.py:285]\u001b[0m Epoch 584 (global_step 102200) finished, time:5.79 seconds.\n",
      "\u001b[32m[1019 22:14:24 @saver.py:79]\u001b[0m Model saved to ../output/Chicago/DATGAN_05/model\\model-102200.\n"
     ]
    },
    {
     "name": "stderr",
     "output_type": "stream",
     "text": [
      "\n"
     ]
    },
    {
     "name": "stdout",
     "output_type": "stream",
     "text": [
      "\u001b[32m[1019 22:14:24 @monitor.py:467]\u001b[0m GAN_loss/discrim/accuracy_fake: 0.962\n",
      "\u001b[32m[1019 22:14:24 @monitor.py:467]\u001b[0m GAN_loss/discrim/accuracy_real: 0.042\n",
      "\u001b[32m[1019 22:14:24 @monitor.py:467]\u001b[0m GAN_loss/discrim/loss: 0.65156\n",
      "\u001b[32m[1019 22:14:24 @monitor.py:467]\u001b[0m GAN_loss/gen/final-g-loss: 0.99459\n",
      "\u001b[32m[1019 22:14:24 @monitor.py:467]\u001b[0m GAN_loss/gen/klloss: 0.053481\n",
      "\u001b[32m[1019 22:14:24 @monitor.py:467]\u001b[0m GAN_loss/gen/loss: 0.94111\n",
      "\u001b[32m[1019 22:14:24 @monitor.py:467]\u001b[0m QueueInput/queue_size: 50\n",
      "\u001b[32m[1019 22:14:24 @base.py:275]\u001b[0m Start Epoch 585 ...\n"
     ]
    },
    {
     "name": "stderr",
     "output_type": "stream",
     "text": [
      "100%|###################################################################################|175/175[00:05<00:00,30.44it/s]"
     ]
    },
    {
     "name": "stdout",
     "output_type": "stream",
     "text": [
      "\u001b[32m[1019 22:14:30 @base.py:285]\u001b[0m Epoch 585 (global_step 102375) finished, time:5.75 seconds.\n",
      "\u001b[32m[1019 22:14:30 @saver.py:79]\u001b[0m Model saved to ../output/Chicago/DATGAN_05/model\\model-102375.\n"
     ]
    },
    {
     "name": "stderr",
     "output_type": "stream",
     "text": [
      "\n"
     ]
    },
    {
     "name": "stdout",
     "output_type": "stream",
     "text": [
      "\u001b[32m[1019 22:14:30 @monitor.py:467]\u001b[0m GAN_loss/discrim/accuracy_fake: 0.974\n",
      "\u001b[32m[1019 22:14:30 @monitor.py:467]\u001b[0m GAN_loss/discrim/accuracy_real: 0.058\n",
      "\u001b[32m[1019 22:14:30 @monitor.py:467]\u001b[0m GAN_loss/discrim/loss: 0.64815\n",
      "\u001b[32m[1019 22:14:30 @monitor.py:467]\u001b[0m GAN_loss/gen/final-g-loss: 0.99703\n",
      "\u001b[32m[1019 22:14:30 @monitor.py:467]\u001b[0m GAN_loss/gen/klloss: 0.05065\n",
      "\u001b[32m[1019 22:14:30 @monitor.py:467]\u001b[0m GAN_loss/gen/loss: 0.94638\n",
      "\u001b[32m[1019 22:14:30 @monitor.py:467]\u001b[0m QueueInput/queue_size: 50\n",
      "\u001b[32m[1019 22:14:30 @base.py:275]\u001b[0m Start Epoch 586 ...\n"
     ]
    },
    {
     "name": "stderr",
     "output_type": "stream",
     "text": [
      "100%|###################################################################################|175/175[00:05<00:00,29.31it/s]"
     ]
    },
    {
     "name": "stdout",
     "output_type": "stream",
     "text": [
      "\u001b[32m[1019 22:14:36 @base.py:285]\u001b[0m Epoch 586 (global_step 102550) finished, time:5.97 seconds.\n",
      "\u001b[32m[1019 22:14:36 @saver.py:79]\u001b[0m Model saved to ../output/Chicago/DATGAN_05/model\\model-102550.\n"
     ]
    },
    {
     "name": "stderr",
     "output_type": "stream",
     "text": [
      "\n"
     ]
    },
    {
     "name": "stdout",
     "output_type": "stream",
     "text": [
      "\u001b[32m[1019 22:14:36 @monitor.py:467]\u001b[0m GAN_loss/discrim/accuracy_fake: 0.972\n",
      "\u001b[32m[1019 22:14:36 @monitor.py:467]\u001b[0m GAN_loss/discrim/accuracy_real: 0.046\n",
      "\u001b[32m[1019 22:14:36 @monitor.py:467]\u001b[0m GAN_loss/discrim/loss: 0.65145\n",
      "\u001b[32m[1019 22:14:36 @monitor.py:467]\u001b[0m GAN_loss/gen/final-g-loss: 0.99426\n",
      "\u001b[32m[1019 22:14:36 @monitor.py:467]\u001b[0m GAN_loss/gen/klloss: 0.05677\n",
      "\u001b[32m[1019 22:14:36 @monitor.py:467]\u001b[0m GAN_loss/gen/loss: 0.93749\n",
      "\u001b[32m[1019 22:14:36 @monitor.py:467]\u001b[0m QueueInput/queue_size: 50\n",
      "\u001b[32m[1019 22:14:36 @base.py:275]\u001b[0m Start Epoch 587 ...\n"
     ]
    },
    {
     "name": "stderr",
     "output_type": "stream",
     "text": [
      "100%|###################################################################################|175/175[00:05<00:00,30.40it/s]"
     ]
    },
    {
     "name": "stdout",
     "output_type": "stream",
     "text": [
      "\u001b[32m[1019 22:14:42 @base.py:285]\u001b[0m Epoch 587 (global_step 102725) finished, time:5.76 seconds.\n",
      "\u001b[32m[1019 22:14:42 @saver.py:79]\u001b[0m Model saved to ../output/Chicago/DATGAN_05/model\\model-102725.\n"
     ]
    },
    {
     "name": "stderr",
     "output_type": "stream",
     "text": [
      "\n"
     ]
    },
    {
     "name": "stdout",
     "output_type": "stream",
     "text": [
      "\u001b[32m[1019 22:14:42 @monitor.py:467]\u001b[0m GAN_loss/discrim/accuracy_fake: 0.972\n",
      "\u001b[32m[1019 22:14:42 @monitor.py:467]\u001b[0m GAN_loss/discrim/accuracy_real: 0.05\n",
      "\u001b[32m[1019 22:14:42 @monitor.py:467]\u001b[0m GAN_loss/discrim/loss: 0.64798\n",
      "\u001b[32m[1019 22:14:42 @monitor.py:467]\u001b[0m GAN_loss/gen/final-g-loss: 1.0089\n",
      "\u001b[32m[1019 22:14:42 @monitor.py:467]\u001b[0m GAN_loss/gen/klloss: 0.066468\n",
      "\u001b[32m[1019 22:14:42 @monitor.py:467]\u001b[0m GAN_loss/gen/loss: 0.94243\n",
      "\u001b[32m[1019 22:14:42 @monitor.py:467]\u001b[0m QueueInput/queue_size: 50\n",
      "\u001b[32m[1019 22:14:42 @base.py:275]\u001b[0m Start Epoch 588 ...\n"
     ]
    },
    {
     "name": "stderr",
     "output_type": "stream",
     "text": [
      "100%|###################################################################################|175/175[00:05<00:00,30.42it/s]"
     ]
    },
    {
     "name": "stdout",
     "output_type": "stream",
     "text": [
      "\u001b[32m[1019 22:14:48 @base.py:285]\u001b[0m Epoch 588 (global_step 102900) finished, time:5.75 seconds.\n",
      "\u001b[32m[1019 22:14:48 @saver.py:79]\u001b[0m Model saved to ../output/Chicago/DATGAN_05/model\\model-102900.\n",
      "\u001b[32m[1019 22:14:48 @monitor.py:467]\u001b[0m GAN_loss/discrim/accuracy_fake: 0.972\n"
     ]
    },
    {
     "name": "stderr",
     "output_type": "stream",
     "text": [
      "\n"
     ]
    },
    {
     "name": "stdout",
     "output_type": "stream",
     "text": [
      "\u001b[32m[1019 22:14:48 @monitor.py:467]\u001b[0m GAN_loss/discrim/accuracy_real: 0.042\n",
      "\u001b[32m[1019 22:14:48 @monitor.py:467]\u001b[0m GAN_loss/discrim/loss: 0.65372\n",
      "\u001b[32m[1019 22:14:48 @monitor.py:467]\u001b[0m GAN_loss/gen/final-g-loss: 0.98389\n",
      "\u001b[32m[1019 22:14:48 @monitor.py:467]\u001b[0m GAN_loss/gen/klloss: 0.060755\n",
      "\u001b[32m[1019 22:14:48 @monitor.py:467]\u001b[0m GAN_loss/gen/loss: 0.92313\n",
      "\u001b[32m[1019 22:14:48 @monitor.py:467]\u001b[0m QueueInput/queue_size: 50\n",
      "\u001b[32m[1019 22:14:48 @base.py:275]\u001b[0m Start Epoch 589 ...\n"
     ]
    },
    {
     "name": "stderr",
     "output_type": "stream",
     "text": [
      "100%|###################################################################################|175/175[00:05<00:00,29.70it/s]"
     ]
    },
    {
     "name": "stdout",
     "output_type": "stream",
     "text": [
      "\u001b[32m[1019 22:14:54 @base.py:285]\u001b[0m Epoch 589 (global_step 103075) finished, time:5.89 seconds.\n"
     ]
    },
    {
     "name": "stderr",
     "output_type": "stream",
     "text": [
      "\n"
     ]
    },
    {
     "name": "stdout",
     "output_type": "stream",
     "text": [
      "\u001b[32m[1019 22:14:54 @saver.py:79]\u001b[0m Model saved to ../output/Chicago/DATGAN_05/model\\model-103075.\n",
      "\u001b[32m[1019 22:14:54 @monitor.py:467]\u001b[0m GAN_loss/discrim/accuracy_fake: 0.988\n",
      "\u001b[32m[1019 22:14:54 @monitor.py:467]\u001b[0m GAN_loss/discrim/accuracy_real: 0.054\n",
      "\u001b[32m[1019 22:14:54 @monitor.py:467]\u001b[0m GAN_loss/discrim/loss: 0.6455\n",
      "\u001b[32m[1019 22:14:54 @monitor.py:467]\u001b[0m GAN_loss/gen/final-g-loss: 1.0131\n",
      "\u001b[32m[1019 22:14:54 @monitor.py:467]\u001b[0m GAN_loss/gen/klloss: 0.071702\n",
      "\u001b[32m[1019 22:14:54 @monitor.py:467]\u001b[0m GAN_loss/gen/loss: 0.94145\n",
      "\u001b[32m[1019 22:14:54 @monitor.py:467]\u001b[0m QueueInput/queue_size: 50\n",
      "\u001b[32m[1019 22:14:54 @base.py:275]\u001b[0m Start Epoch 590 ...\n"
     ]
    },
    {
     "name": "stderr",
     "output_type": "stream",
     "text": [
      "100%|###################################################################################|175/175[00:06<00:00,28.80it/s]"
     ]
    },
    {
     "name": "stdout",
     "output_type": "stream",
     "text": [
      "\u001b[32m[1019 22:15:00 @base.py:285]\u001b[0m Epoch 590 (global_step 103250) finished, time:6.08 seconds.\n",
      "\u001b[32m[1019 22:15:00 @saver.py:79]\u001b[0m Model saved to ../output/Chicago/DATGAN_05/model\\model-103250.\n"
     ]
    },
    {
     "name": "stderr",
     "output_type": "stream",
     "text": [
      "\n"
     ]
    },
    {
     "name": "stdout",
     "output_type": "stream",
     "text": [
      "\u001b[32m[1019 22:15:01 @monitor.py:467]\u001b[0m GAN_loss/discrim/accuracy_fake: 0.972\n",
      "\u001b[32m[1019 22:15:01 @monitor.py:467]\u001b[0m GAN_loss/discrim/accuracy_real: 0.048\n",
      "\u001b[32m[1019 22:15:01 @monitor.py:467]\u001b[0m GAN_loss/discrim/loss: 0.64865\n",
      "\u001b[32m[1019 22:15:01 @monitor.py:467]\u001b[0m GAN_loss/gen/final-g-loss: 0.99425\n",
      "\u001b[32m[1019 22:15:01 @monitor.py:467]\u001b[0m GAN_loss/gen/klloss: 0.054706\n",
      "\u001b[32m[1019 22:15:01 @monitor.py:467]\u001b[0m GAN_loss/gen/loss: 0.93954\n",
      "\u001b[32m[1019 22:15:01 @monitor.py:467]\u001b[0m QueueInput/queue_size: 50\n",
      "\u001b[32m[1019 22:15:01 @base.py:275]\u001b[0m Start Epoch 591 ...\n"
     ]
    },
    {
     "name": "stderr",
     "output_type": "stream",
     "text": [
      "100%|###################################################################################|175/175[00:05<00:00,29.20it/s]"
     ]
    },
    {
     "name": "stdout",
     "output_type": "stream",
     "text": [
      "\u001b[32m[1019 22:15:07 @base.py:285]\u001b[0m Epoch 591 (global_step 103425) finished, time:5.99 seconds.\n",
      "\u001b[32m[1019 22:15:07 @saver.py:79]\u001b[0m Model saved to ../output/Chicago/DATGAN_05/model\\model-103425.\n",
      "\u001b[32m[1019 22:15:07 @monitor.py:467]\u001b[0m GAN_loss/discrim/accuracy_fake: 0.978\n",
      "\u001b[32m[1019 22:15:07 @monitor.py:467]\u001b[0m GAN_loss/discrim/accuracy_real: 0.046\n",
      "\u001b[32m[1019 22:15:07 @monitor.py:467]\u001b[0m GAN_loss/discrim/loss: 0.64763\n",
      "\u001b[32m[1019 22:15:07 @monitor.py:467]\u001b[0m GAN_loss/gen/final-g-loss: 1.0075\n",
      "\u001b[32m[1019 22:15:07 @monitor.py:467]\u001b[0m GAN_loss/gen/klloss: 0.063031\n"
     ]
    },
    {
     "name": "stderr",
     "output_type": "stream",
     "text": [
      "\n"
     ]
    },
    {
     "name": "stdout",
     "output_type": "stream",
     "text": [
      "\u001b[32m[1019 22:15:07 @monitor.py:467]\u001b[0m GAN_loss/gen/loss: 0.94445\n",
      "\u001b[32m[1019 22:15:07 @monitor.py:467]\u001b[0m QueueInput/queue_size: 50\n",
      "\u001b[32m[1019 22:15:07 @base.py:275]\u001b[0m Start Epoch 592 ...\n"
     ]
    },
    {
     "name": "stderr",
     "output_type": "stream",
     "text": [
      "100%|###################################################################################|175/175[00:06<00:00,29.00it/s]"
     ]
    },
    {
     "name": "stdout",
     "output_type": "stream",
     "text": [
      "\u001b[32m[1019 22:15:13 @base.py:285]\u001b[0m Epoch 592 (global_step 103600) finished, time:6.04 seconds.\n",
      "\u001b[32m[1019 22:15:13 @saver.py:79]\u001b[0m Model saved to ../output/Chicago/DATGAN_05/model\\model-103600.\n",
      "\u001b[32m[1019 22:15:13 @monitor.py:467]\u001b[0m GAN_loss/discrim/accuracy_fake: 0.978\n"
     ]
    },
    {
     "name": "stderr",
     "output_type": "stream",
     "text": [
      "\n"
     ]
    },
    {
     "name": "stdout",
     "output_type": "stream",
     "text": [
      "\u001b[32m[1019 22:15:13 @monitor.py:467]\u001b[0m GAN_loss/discrim/accuracy_real: 0.032\n",
      "\u001b[32m[1019 22:15:13 @monitor.py:467]\u001b[0m GAN_loss/discrim/loss: 0.64792\n",
      "\u001b[32m[1019 22:15:13 @monitor.py:467]\u001b[0m GAN_loss/gen/final-g-loss: 0.9733\n",
      "\u001b[32m[1019 22:15:13 @monitor.py:467]\u001b[0m GAN_loss/gen/klloss: 0.042881\n",
      "\u001b[32m[1019 22:15:13 @monitor.py:467]\u001b[0m GAN_loss/gen/loss: 0.93042\n",
      "\u001b[32m[1019 22:15:13 @monitor.py:467]\u001b[0m QueueInput/queue_size: 50\n",
      "\u001b[32m[1019 22:15:13 @base.py:275]\u001b[0m Start Epoch 593 ...\n"
     ]
    },
    {
     "name": "stderr",
     "output_type": "stream",
     "text": [
      "100%|###################################################################################|175/175[00:06<00:00,29.06it/s]"
     ]
    },
    {
     "name": "stdout",
     "output_type": "stream",
     "text": [
      "\u001b[32m[1019 22:15:19 @base.py:285]\u001b[0m Epoch 593 (global_step 103775) finished, time:6.02 seconds.\n",
      "\u001b[32m[1019 22:15:19 @saver.py:79]\u001b[0m Model saved to ../output/Chicago/DATGAN_05/model\\model-103775.\n"
     ]
    },
    {
     "name": "stderr",
     "output_type": "stream",
     "text": [
      "\n"
     ]
    },
    {
     "name": "stdout",
     "output_type": "stream",
     "text": [
      "\u001b[32m[1019 22:15:19 @monitor.py:467]\u001b[0m GAN_loss/discrim/accuracy_fake: 0.966\n",
      "\u001b[32m[1019 22:15:19 @monitor.py:467]\u001b[0m GAN_loss/discrim/accuracy_real: 0.038\n",
      "\u001b[32m[1019 22:15:19 @monitor.py:467]\u001b[0m GAN_loss/discrim/loss: 0.65606\n",
      "\u001b[32m[1019 22:15:19 @monitor.py:467]\u001b[0m GAN_loss/gen/final-g-loss: 0.98676\n",
      "\u001b[32m[1019 22:15:19 @monitor.py:467]\u001b[0m GAN_loss/gen/klloss: 0.058951\n",
      "\u001b[32m[1019 22:15:19 @monitor.py:467]\u001b[0m GAN_loss/gen/loss: 0.92781\n",
      "\u001b[32m[1019 22:15:19 @monitor.py:467]\u001b[0m QueueInput/queue_size: 50\n",
      "\u001b[32m[1019 22:15:19 @base.py:275]\u001b[0m Start Epoch 594 ...\n"
     ]
    },
    {
     "name": "stderr",
     "output_type": "stream",
     "text": [
      "100%|###################################################################################|175/175[00:05<00:00,29.40it/s]"
     ]
    },
    {
     "name": "stdout",
     "output_type": "stream",
     "text": [
      "\u001b[32m[1019 22:15:25 @base.py:285]\u001b[0m Epoch 594 (global_step 103950) finished, time:5.95 seconds.\n",
      "\u001b[32m[1019 22:15:25 @saver.py:79]\u001b[0m Model saved to ../output/Chicago/DATGAN_05/model\\model-103950.\n"
     ]
    },
    {
     "name": "stderr",
     "output_type": "stream",
     "text": [
      "\n"
     ]
    },
    {
     "name": "stdout",
     "output_type": "stream",
     "text": [
      "\u001b[32m[1019 22:15:25 @monitor.py:467]\u001b[0m GAN_loss/discrim/accuracy_fake: 0.982\n",
      "\u001b[32m[1019 22:15:25 @monitor.py:467]\u001b[0m GAN_loss/discrim/accuracy_real: 0.052\n",
      "\u001b[32m[1019 22:15:25 @monitor.py:467]\u001b[0m GAN_loss/discrim/loss: 0.64561\n",
      "\u001b[32m[1019 22:15:25 @monitor.py:467]\u001b[0m GAN_loss/gen/final-g-loss: 1.0023\n",
      "\u001b[32m[1019 22:15:25 @monitor.py:467]\u001b[0m GAN_loss/gen/klloss: 0.057237\n",
      "\u001b[32m[1019 22:15:25 @monitor.py:467]\u001b[0m GAN_loss/gen/loss: 0.94503\n",
      "\u001b[32m[1019 22:15:25 @monitor.py:467]\u001b[0m QueueInput/queue_size: 50\n",
      "\u001b[32m[1019 22:15:25 @base.py:275]\u001b[0m Start Epoch 595 ...\n"
     ]
    },
    {
     "name": "stderr",
     "output_type": "stream",
     "text": [
      "100%|###################################################################################|175/175[00:05<00:00,30.05it/s]"
     ]
    },
    {
     "name": "stdout",
     "output_type": "stream",
     "text": [
      "\u001b[32m[1019 22:15:31 @base.py:285]\u001b[0m Epoch 595 (global_step 104125) finished, time:5.82 seconds.\n"
     ]
    },
    {
     "name": "stderr",
     "output_type": "stream",
     "text": [
      "\n"
     ]
    },
    {
     "name": "stdout",
     "output_type": "stream",
     "text": [
      "\u001b[32m[1019 22:15:31 @saver.py:79]\u001b[0m Model saved to ../output/Chicago/DATGAN_05/model\\model-104125.\n",
      "\u001b[32m[1019 22:15:31 @monitor.py:467]\u001b[0m GAN_loss/discrim/accuracy_fake: 0.978\n",
      "\u001b[32m[1019 22:15:31 @monitor.py:467]\u001b[0m GAN_loss/discrim/accuracy_real: 0.058\n",
      "\u001b[32m[1019 22:15:31 @monitor.py:467]\u001b[0m GAN_loss/discrim/loss: 0.65383\n",
      "\u001b[32m[1019 22:15:31 @monitor.py:467]\u001b[0m GAN_loss/gen/final-g-loss: 1.0616\n",
      "\u001b[32m[1019 22:15:31 @monitor.py:467]\u001b[0m GAN_loss/gen/klloss: 0.13586\n",
      "\u001b[32m[1019 22:15:31 @monitor.py:467]\u001b[0m GAN_loss/gen/loss: 0.92577\n",
      "\u001b[32m[1019 22:15:31 @monitor.py:467]\u001b[0m QueueInput/queue_size: 50\n",
      "\u001b[32m[1019 22:15:31 @base.py:275]\u001b[0m Start Epoch 596 ...\n"
     ]
    },
    {
     "name": "stderr",
     "output_type": "stream",
     "text": [
      "100%|###################################################################################|175/175[00:05<00:00,29.40it/s]"
     ]
    },
    {
     "name": "stdout",
     "output_type": "stream",
     "text": [
      "\u001b[32m[1019 22:15:37 @base.py:285]\u001b[0m Epoch 596 (global_step 104300) finished, time:5.95 seconds.\n",
      "\u001b[32m[1019 22:15:37 @saver.py:79]\u001b[0m Model saved to ../output/Chicago/DATGAN_05/model\\model-104300.\n"
     ]
    },
    {
     "name": "stderr",
     "output_type": "stream",
     "text": [
      "\n"
     ]
    },
    {
     "name": "stdout",
     "output_type": "stream",
     "text": [
      "\u001b[32m[1019 22:15:37 @monitor.py:467]\u001b[0m GAN_loss/discrim/accuracy_fake: 0.982\n",
      "\u001b[32m[1019 22:15:37 @monitor.py:467]\u001b[0m GAN_loss/discrim/accuracy_real: 0.03\n",
      "\u001b[32m[1019 22:15:37 @monitor.py:467]\u001b[0m GAN_loss/discrim/loss: 0.64814\n",
      "\u001b[32m[1019 22:15:37 @monitor.py:467]\u001b[0m GAN_loss/gen/final-g-loss: 0.98159\n",
      "\u001b[32m[1019 22:15:37 @monitor.py:467]\u001b[0m GAN_loss/gen/klloss: 0.04202\n",
      "\u001b[32m[1019 22:15:37 @monitor.py:467]\u001b[0m GAN_loss/gen/loss: 0.93957\n",
      "\u001b[32m[1019 22:15:37 @monitor.py:467]\u001b[0m QueueInput/queue_size: 50\n",
      "\u001b[32m[1019 22:15:37 @base.py:275]\u001b[0m Start Epoch 597 ...\n"
     ]
    },
    {
     "name": "stderr",
     "output_type": "stream",
     "text": [
      "100%|###################################################################################|175/175[00:05<00:00,30.25it/s]"
     ]
    },
    {
     "name": "stdout",
     "output_type": "stream",
     "text": [
      "\u001b[32m[1019 22:15:43 @base.py:285]\u001b[0m Epoch 597 (global_step 104475) finished, time:5.78 seconds.\n",
      "\u001b[32m[1019 22:15:43 @saver.py:79]\u001b[0m Model saved to ../output/Chicago/DATGAN_05/model\\model-104475.\n"
     ]
    },
    {
     "name": "stderr",
     "output_type": "stream",
     "text": [
      "\n"
     ]
    },
    {
     "name": "stdout",
     "output_type": "stream",
     "text": [
      "\u001b[32m[1019 22:15:43 @monitor.py:467]\u001b[0m GAN_loss/discrim/accuracy_fake: 0.984\n",
      "\u001b[32m[1019 22:15:43 @monitor.py:467]\u001b[0m GAN_loss/discrim/accuracy_real: 0.046\n",
      "\u001b[32m[1019 22:15:43 @monitor.py:467]\u001b[0m GAN_loss/discrim/loss: 0.63752\n",
      "\u001b[32m[1019 22:15:43 @monitor.py:467]\u001b[0m GAN_loss/gen/final-g-loss: 1.0384\n",
      "\u001b[32m[1019 22:15:43 @monitor.py:467]\u001b[0m GAN_loss/gen/klloss: 0.083454\n",
      "\u001b[32m[1019 22:15:43 @monitor.py:467]\u001b[0m GAN_loss/gen/loss: 0.95493\n",
      "\u001b[32m[1019 22:15:43 @monitor.py:467]\u001b[0m QueueInput/queue_size: 50\n",
      "\u001b[32m[1019 22:15:43 @base.py:275]\u001b[0m Start Epoch 598 ...\n"
     ]
    },
    {
     "name": "stderr",
     "output_type": "stream",
     "text": [
      "100%|###################################################################################|175/175[00:05<00:00,29.19it/s]"
     ]
    },
    {
     "name": "stdout",
     "output_type": "stream",
     "text": [
      "\u001b[32m[1019 22:15:49 @base.py:285]\u001b[0m Epoch 598 (global_step 104650) finished, time:6 seconds.\n",
      "\u001b[32m[1019 22:15:50 @saver.py:79]\u001b[0m Model saved to ../output/Chicago/DATGAN_05/model\\model-104650.\n"
     ]
    },
    {
     "name": "stderr",
     "output_type": "stream",
     "text": [
      "\n"
     ]
    },
    {
     "name": "stdout",
     "output_type": "stream",
     "text": [
      "\u001b[32m[1019 22:15:50 @monitor.py:467]\u001b[0m GAN_loss/discrim/accuracy_fake: 0.964\n",
      "\u001b[32m[1019 22:15:50 @monitor.py:467]\u001b[0m GAN_loss/discrim/accuracy_real: 0.062\n",
      "\u001b[32m[1019 22:15:50 @monitor.py:467]\u001b[0m GAN_loss/discrim/loss: 0.64987\n",
      "\u001b[32m[1019 22:15:50 @monitor.py:467]\u001b[0m GAN_loss/gen/final-g-loss: 1.0098\n",
      "\u001b[32m[1019 22:15:50 @monitor.py:467]\u001b[0m GAN_loss/gen/klloss: 0.065495\n",
      "\u001b[32m[1019 22:15:50 @monitor.py:467]\u001b[0m GAN_loss/gen/loss: 0.94432\n",
      "\u001b[32m[1019 22:15:50 @monitor.py:467]\u001b[0m QueueInput/queue_size: 50\n",
      "\u001b[32m[1019 22:15:50 @base.py:275]\u001b[0m Start Epoch 599 ...\n"
     ]
    },
    {
     "name": "stderr",
     "output_type": "stream",
     "text": [
      "100%|###################################################################################|175/175[00:05<00:00,30.07it/s]"
     ]
    },
    {
     "name": "stdout",
     "output_type": "stream",
     "text": [
      "\u001b[32m[1019 22:15:56 @base.py:285]\u001b[0m Epoch 599 (global_step 104825) finished, time:5.82 seconds.\n",
      "\u001b[32m[1019 22:15:56 @saver.py:79]\u001b[0m Model saved to ../output/Chicago/DATGAN_05/model\\model-104825.\n"
     ]
    },
    {
     "name": "stderr",
     "output_type": "stream",
     "text": [
      "\n"
     ]
    },
    {
     "name": "stdout",
     "output_type": "stream",
     "text": [
      "\u001b[32m[1019 22:15:56 @monitor.py:467]\u001b[0m GAN_loss/discrim/accuracy_fake: 0.99\n",
      "\u001b[32m[1019 22:15:56 @monitor.py:467]\u001b[0m GAN_loss/discrim/accuracy_real: 0.054\n",
      "\u001b[32m[1019 22:15:56 @monitor.py:467]\u001b[0m GAN_loss/discrim/loss: 0.6482\n",
      "\u001b[32m[1019 22:15:56 @monitor.py:467]\u001b[0m GAN_loss/gen/final-g-loss: 1.0023\n",
      "\u001b[32m[1019 22:15:56 @monitor.py:467]\u001b[0m GAN_loss/gen/klloss: 0.06175\n",
      "\u001b[32m[1019 22:15:56 @monitor.py:467]\u001b[0m GAN_loss/gen/loss: 0.94054\n",
      "\u001b[32m[1019 22:15:56 @monitor.py:467]\u001b[0m QueueInput/queue_size: 50\n",
      "\u001b[32m[1019 22:15:56 @base.py:275]\u001b[0m Start Epoch 600 ...\n"
     ]
    },
    {
     "name": "stderr",
     "output_type": "stream",
     "text": [
      "100%|###################################################################################|175/175[00:05<00:00,29.28it/s]"
     ]
    },
    {
     "name": "stdout",
     "output_type": "stream",
     "text": [
      "\u001b[32m[1019 22:16:02 @base.py:285]\u001b[0m Epoch 600 (global_step 105000) finished, time:5.98 seconds.\n",
      "\u001b[32m[1019 22:16:02 @saver.py:79]\u001b[0m Model saved to ../output/Chicago/DATGAN_05/model\\model-105000.\n",
      "\u001b[32m[1019 22:16:02 @monitor.py:467]\u001b[0m GAN_loss/discrim/accuracy_fake: 0.988\n"
     ]
    },
    {
     "name": "stderr",
     "output_type": "stream",
     "text": [
      "\n"
     ]
    },
    {
     "name": "stdout",
     "output_type": "stream",
     "text": [
      "\u001b[32m[1019 22:16:02 @monitor.py:467]\u001b[0m GAN_loss/discrim/accuracy_real: 0.046\n",
      "\u001b[32m[1019 22:16:02 @monitor.py:467]\u001b[0m GAN_loss/discrim/loss: 0.65063\n",
      "\u001b[32m[1019 22:16:02 @monitor.py:467]\u001b[0m GAN_loss/gen/final-g-loss: 0.99095\n",
      "\u001b[32m[1019 22:16:02 @monitor.py:467]\u001b[0m GAN_loss/gen/klloss: 0.052436\n",
      "\u001b[32m[1019 22:16:02 @monitor.py:467]\u001b[0m GAN_loss/gen/loss: 0.93851\n",
      "\u001b[32m[1019 22:16:02 @monitor.py:467]\u001b[0m QueueInput/queue_size: 50\n",
      "\u001b[32m[1019 22:16:02 @base.py:275]\u001b[0m Start Epoch 601 ...\n"
     ]
    },
    {
     "name": "stderr",
     "output_type": "stream",
     "text": [
      "100%|###################################################################################|175/175[00:05<00:00,30.12it/s]"
     ]
    },
    {
     "name": "stdout",
     "output_type": "stream",
     "text": [
      "\u001b[32m[1019 22:16:08 @base.py:285]\u001b[0m Epoch 601 (global_step 105175) finished, time:5.81 seconds.\n",
      "\u001b[32m[1019 22:16:08 @saver.py:79]\u001b[0m Model saved to ../output/Chicago/DATGAN_05/model\\model-105175.\n"
     ]
    },
    {
     "name": "stderr",
     "output_type": "stream",
     "text": [
      "\n"
     ]
    },
    {
     "name": "stdout",
     "output_type": "stream",
     "text": [
      "\u001b[32m[1019 22:16:08 @monitor.py:467]\u001b[0m GAN_loss/discrim/accuracy_fake: 0.972\n",
      "\u001b[32m[1019 22:16:08 @monitor.py:467]\u001b[0m GAN_loss/discrim/accuracy_real: 0.068\n",
      "\u001b[32m[1019 22:16:08 @monitor.py:467]\u001b[0m GAN_loss/discrim/loss: 0.65216\n",
      "\u001b[32m[1019 22:16:08 @monitor.py:467]\u001b[0m GAN_loss/gen/final-g-loss: 0.98753\n",
      "\u001b[32m[1019 22:16:08 @monitor.py:467]\u001b[0m GAN_loss/gen/klloss: 0.046029\n",
      "\u001b[32m[1019 22:16:08 @monitor.py:467]\u001b[0m GAN_loss/gen/loss: 0.9415\n",
      "\u001b[32m[1019 22:16:08 @monitor.py:467]\u001b[0m QueueInput/queue_size: 50\n",
      "\u001b[32m[1019 22:16:08 @base.py:275]\u001b[0m Start Epoch 602 ...\n"
     ]
    },
    {
     "name": "stderr",
     "output_type": "stream",
     "text": [
      "100%|###################################################################################|175/175[00:06<00:00,29.02it/s]"
     ]
    },
    {
     "name": "stdout",
     "output_type": "stream",
     "text": [
      "\u001b[32m[1019 22:16:14 @base.py:285]\u001b[0m Epoch 602 (global_step 105350) finished, time:6.03 seconds.\n",
      "\u001b[32m[1019 22:16:14 @saver.py:79]\u001b[0m Model saved to ../output/Chicago/DATGAN_05/model\\model-105350.\n",
      "\u001b[32m[1019 22:16:14 @monitor.py:467]\u001b[0m GAN_loss/discrim/accuracy_fake: 0.974\n"
     ]
    },
    {
     "name": "stderr",
     "output_type": "stream",
     "text": [
      "\n"
     ]
    },
    {
     "name": "stdout",
     "output_type": "stream",
     "text": [
      "\u001b[32m[1019 22:16:14 @monitor.py:467]\u001b[0m GAN_loss/discrim/accuracy_real: 0.046\n",
      "\u001b[32m[1019 22:16:14 @monitor.py:467]\u001b[0m GAN_loss/discrim/loss: 0.64709\n",
      "\u001b[32m[1019 22:16:14 @monitor.py:467]\u001b[0m GAN_loss/gen/final-g-loss: 0.99551\n",
      "\u001b[32m[1019 22:16:14 @monitor.py:467]\u001b[0m GAN_loss/gen/klloss: 0.059363\n",
      "\u001b[32m[1019 22:16:14 @monitor.py:467]\u001b[0m GAN_loss/gen/loss: 0.93615\n",
      "\u001b[32m[1019 22:16:14 @monitor.py:467]\u001b[0m QueueInput/queue_size: 50\n",
      "\u001b[32m[1019 22:16:14 @base.py:275]\u001b[0m Start Epoch 603 ...\n"
     ]
    },
    {
     "name": "stderr",
     "output_type": "stream",
     "text": [
      "100%|###################################################################################|175/175[00:05<00:00,29.20it/s]"
     ]
    },
    {
     "name": "stdout",
     "output_type": "stream",
     "text": [
      "\u001b[32m[1019 22:16:20 @base.py:285]\u001b[0m Epoch 603 (global_step 105525) finished, time:5.99 seconds.\n",
      "\u001b[32m[1019 22:16:20 @saver.py:79]\u001b[0m Model saved to ../output/Chicago/DATGAN_05/model\\model-105525.\n"
     ]
    },
    {
     "name": "stderr",
     "output_type": "stream",
     "text": [
      "\n"
     ]
    },
    {
     "name": "stdout",
     "output_type": "stream",
     "text": [
      "\u001b[32m[1019 22:16:20 @monitor.py:467]\u001b[0m GAN_loss/discrim/accuracy_fake: 0.964\n",
      "\u001b[32m[1019 22:16:20 @monitor.py:467]\u001b[0m GAN_loss/discrim/accuracy_real: 0.044\n",
      "\u001b[32m[1019 22:16:20 @monitor.py:467]\u001b[0m GAN_loss/discrim/loss: 0.65368\n",
      "\u001b[32m[1019 22:16:20 @monitor.py:467]\u001b[0m GAN_loss/gen/final-g-loss: 0.99672\n",
      "\u001b[32m[1019 22:16:20 @monitor.py:467]\u001b[0m GAN_loss/gen/klloss: 0.065207\n",
      "\u001b[32m[1019 22:16:20 @monitor.py:467]\u001b[0m GAN_loss/gen/loss: 0.93151\n",
      "\u001b[32m[1019 22:16:20 @monitor.py:467]\u001b[0m QueueInput/queue_size: 50\n",
      "\u001b[32m[1019 22:16:20 @base.py:275]\u001b[0m Start Epoch 604 ...\n"
     ]
    },
    {
     "name": "stderr",
     "output_type": "stream",
     "text": [
      "100%|###################################################################################|175/175[00:06<00:00,28.38it/s]"
     ]
    },
    {
     "name": "stdout",
     "output_type": "stream",
     "text": [
      "\u001b[32m[1019 22:16:26 @base.py:285]\u001b[0m Epoch 604 (global_step 105700) finished, time:6.17 seconds.\n",
      "\u001b[32m[1019 22:16:27 @saver.py:79]\u001b[0m Model saved to ../output/Chicago/DATGAN_05/model\\model-105700.\n"
     ]
    },
    {
     "name": "stderr",
     "output_type": "stream",
     "text": [
      "\n"
     ]
    },
    {
     "name": "stdout",
     "output_type": "stream",
     "text": [
      "\u001b[32m[1019 22:16:27 @monitor.py:467]\u001b[0m GAN_loss/discrim/accuracy_fake: 0.984\n",
      "\u001b[32m[1019 22:16:27 @monitor.py:467]\u001b[0m GAN_loss/discrim/accuracy_real: 0.04\n",
      "\u001b[32m[1019 22:16:27 @monitor.py:467]\u001b[0m GAN_loss/discrim/loss: 0.64248\n",
      "\u001b[32m[1019 22:16:27 @monitor.py:467]\u001b[0m GAN_loss/gen/final-g-loss: 1.0151\n",
      "\u001b[32m[1019 22:16:27 @monitor.py:467]\u001b[0m GAN_loss/gen/klloss: 0.068628\n",
      "\u001b[32m[1019 22:16:27 @monitor.py:467]\u001b[0m GAN_loss/gen/loss: 0.94646\n",
      "\u001b[32m[1019 22:16:27 @monitor.py:467]\u001b[0m QueueInput/queue_size: 50\n",
      "\u001b[32m[1019 22:16:27 @base.py:275]\u001b[0m Start Epoch 605 ...\n"
     ]
    },
    {
     "name": "stderr",
     "output_type": "stream",
     "text": [
      "100%|###################################################################################|175/175[00:06<00:00,27.39it/s]"
     ]
    },
    {
     "name": "stdout",
     "output_type": "stream",
     "text": [
      "\u001b[32m[1019 22:16:33 @base.py:285]\u001b[0m Epoch 605 (global_step 105875) finished, time:6.39 seconds.\n"
     ]
    },
    {
     "name": "stderr",
     "output_type": "stream",
     "text": [
      "\n"
     ]
    },
    {
     "name": "stdout",
     "output_type": "stream",
     "text": [
      "\u001b[32m[1019 22:16:33 @saver.py:79]\u001b[0m Model saved to ../output/Chicago/DATGAN_05/model\\model-105875.\n",
      "\u001b[32m[1019 22:16:33 @monitor.py:467]\u001b[0m GAN_loss/discrim/accuracy_fake: 0.968\n",
      "\u001b[32m[1019 22:16:33 @monitor.py:467]\u001b[0m GAN_loss/discrim/accuracy_real: 0.044\n",
      "\u001b[32m[1019 22:16:33 @monitor.py:467]\u001b[0m GAN_loss/discrim/loss: 0.65016\n",
      "\u001b[32m[1019 22:16:33 @monitor.py:467]\u001b[0m GAN_loss/gen/final-g-loss: 1.005\n",
      "\u001b[32m[1019 22:16:33 @monitor.py:467]\u001b[0m GAN_loss/gen/klloss: 0.073475\n",
      "\u001b[32m[1019 22:16:33 @monitor.py:467]\u001b[0m GAN_loss/gen/loss: 0.93152\n",
      "\u001b[32m[1019 22:16:33 @monitor.py:467]\u001b[0m QueueInput/queue_size: 50\n",
      "\u001b[32m[1019 22:16:33 @base.py:275]\u001b[0m Start Epoch 606 ...\n"
     ]
    },
    {
     "name": "stderr",
     "output_type": "stream",
     "text": [
      "100%|###################################################################################|175/175[00:05<00:00,29.20it/s]"
     ]
    },
    {
     "name": "stdout",
     "output_type": "stream",
     "text": [
      "\u001b[32m[1019 22:16:39 @base.py:285]\u001b[0m Epoch 606 (global_step 106050) finished, time:6 seconds.\n",
      "\u001b[32m[1019 22:16:39 @saver.py:79]\u001b[0m Model saved to ../output/Chicago/DATGAN_05/model\\model-106050.\n",
      "\u001b[32m[1019 22:16:39 @monitor.py:467]\u001b[0m GAN_loss/discrim/accuracy_fake: 0.964\n"
     ]
    },
    {
     "name": "stderr",
     "output_type": "stream",
     "text": [
      "\n"
     ]
    },
    {
     "name": "stdout",
     "output_type": "stream",
     "text": [
      "\u001b[32m[1019 22:16:39 @monitor.py:467]\u001b[0m GAN_loss/discrim/accuracy_real: 0.046\n",
      "\u001b[32m[1019 22:16:39 @monitor.py:467]\u001b[0m GAN_loss/discrim/loss: 0.65194\n",
      "\u001b[32m[1019 22:16:39 @monitor.py:467]\u001b[0m GAN_loss/gen/final-g-loss: 0.97592\n",
      "\u001b[32m[1019 22:16:39 @monitor.py:467]\u001b[0m GAN_loss/gen/klloss: 0.040961\n",
      "\u001b[32m[1019 22:16:39 @monitor.py:467]\u001b[0m GAN_loss/gen/loss: 0.93496\n",
      "\u001b[32m[1019 22:16:39 @monitor.py:467]\u001b[0m QueueInput/queue_size: 50\n",
      "\u001b[32m[1019 22:16:39 @base.py:275]\u001b[0m Start Epoch 607 ...\n"
     ]
    },
    {
     "name": "stderr",
     "output_type": "stream",
     "text": [
      "100%|###################################################################################|175/175[00:05<00:00,29.68it/s]"
     ]
    },
    {
     "name": "stdout",
     "output_type": "stream",
     "text": [
      "\u001b[32m[1019 22:16:45 @base.py:285]\u001b[0m Epoch 607 (global_step 106225) finished, time:5.9 seconds.\n",
      "\u001b[32m[1019 22:16:45 @saver.py:79]\u001b[0m Model saved to ../output/Chicago/DATGAN_05/model\\model-106225.\n",
      "\u001b[32m[1019 22:16:46 @monitor.py:467]\u001b[0m GAN_loss/discrim/accuracy_fake: 0.976\n"
     ]
    },
    {
     "name": "stderr",
     "output_type": "stream",
     "text": [
      "\n"
     ]
    },
    {
     "name": "stdout",
     "output_type": "stream",
     "text": [
      "\u001b[32m[1019 22:16:46 @monitor.py:467]\u001b[0m GAN_loss/discrim/accuracy_real: 0.05\n",
      "\u001b[32m[1019 22:16:46 @monitor.py:467]\u001b[0m GAN_loss/discrim/loss: 0.65166\n",
      "\u001b[32m[1019 22:16:46 @monitor.py:467]\u001b[0m GAN_loss/gen/final-g-loss: 1.0069\n",
      "\u001b[32m[1019 22:16:46 @monitor.py:467]\u001b[0m GAN_loss/gen/klloss: 0.07055\n",
      "\u001b[32m[1019 22:16:46 @monitor.py:467]\u001b[0m GAN_loss/gen/loss: 0.93638\n",
      "\u001b[32m[1019 22:16:46 @monitor.py:467]\u001b[0m QueueInput/queue_size: 50\n",
      "\u001b[32m[1019 22:16:46 @base.py:275]\u001b[0m Start Epoch 608 ...\n"
     ]
    },
    {
     "name": "stderr",
     "output_type": "stream",
     "text": [
      "100%|###################################################################################|175/175[00:05<00:00,29.70it/s]"
     ]
    },
    {
     "name": "stdout",
     "output_type": "stream",
     "text": [
      "\u001b[32m[1019 22:16:51 @base.py:285]\u001b[0m Epoch 608 (global_step 106400) finished, time:5.89 seconds.\n",
      "\u001b[32m[1019 22:16:52 @saver.py:79]\u001b[0m Model saved to ../output/Chicago/DATGAN_05/model\\model-106400.\n"
     ]
    },
    {
     "name": "stderr",
     "output_type": "stream",
     "text": [
      "\n"
     ]
    },
    {
     "name": "stdout",
     "output_type": "stream",
     "text": [
      "\u001b[32m[1019 22:16:52 @monitor.py:467]\u001b[0m GAN_loss/discrim/accuracy_fake: 0.986\n",
      "\u001b[32m[1019 22:16:52 @monitor.py:467]\u001b[0m GAN_loss/discrim/accuracy_real: 0.038\n",
      "\u001b[32m[1019 22:16:52 @monitor.py:467]\u001b[0m GAN_loss/discrim/loss: 0.64782\n",
      "\u001b[32m[1019 22:16:52 @monitor.py:467]\u001b[0m GAN_loss/gen/final-g-loss: 0.99835\n",
      "\u001b[32m[1019 22:16:52 @monitor.py:467]\u001b[0m GAN_loss/gen/klloss: 0.050516\n",
      "\u001b[32m[1019 22:16:52 @monitor.py:467]\u001b[0m GAN_loss/gen/loss: 0.94783\n",
      "\u001b[32m[1019 22:16:52 @monitor.py:467]\u001b[0m QueueInput/queue_size: 50\n",
      "\u001b[32m[1019 22:16:52 @base.py:275]\u001b[0m Start Epoch 609 ...\n"
     ]
    },
    {
     "name": "stderr",
     "output_type": "stream",
     "text": [
      "100%|###################################################################################|175/175[00:05<00:00,29.67it/s]"
     ]
    },
    {
     "name": "stdout",
     "output_type": "stream",
     "text": [
      "\u001b[32m[1019 22:16:58 @base.py:285]\u001b[0m Epoch 609 (global_step 106575) finished, time:5.9 seconds.\n",
      "\u001b[32m[1019 22:16:58 @saver.py:79]\u001b[0m Model saved to ../output/Chicago/DATGAN_05/model\\model-106575.\n",
      "\u001b[32m[1019 22:16:58 @monitor.py:467]\u001b[0m GAN_loss/discrim/accuracy_fake: 0.968\n"
     ]
    },
    {
     "name": "stderr",
     "output_type": "stream",
     "text": [
      "\n"
     ]
    },
    {
     "name": "stdout",
     "output_type": "stream",
     "text": [
      "\u001b[32m[1019 22:16:58 @monitor.py:467]\u001b[0m GAN_loss/discrim/accuracy_real: 0.05\n",
      "\u001b[32m[1019 22:16:58 @monitor.py:467]\u001b[0m GAN_loss/discrim/loss: 0.64387\n",
      "\u001b[32m[1019 22:16:58 @monitor.py:467]\u001b[0m GAN_loss/gen/final-g-loss: 1.0154\n",
      "\u001b[32m[1019 22:16:58 @monitor.py:467]\u001b[0m GAN_loss/gen/klloss: 0.064774\n",
      "\u001b[32m[1019 22:16:58 @monitor.py:467]\u001b[0m GAN_loss/gen/loss: 0.95059\n",
      "\u001b[32m[1019 22:16:58 @monitor.py:467]\u001b[0m QueueInput/queue_size: 50\n",
      "\u001b[32m[1019 22:16:58 @base.py:275]\u001b[0m Start Epoch 610 ...\n"
     ]
    },
    {
     "name": "stderr",
     "output_type": "stream",
     "text": [
      "100%|###################################################################################|175/175[00:06<00:00,28.88it/s]"
     ]
    },
    {
     "name": "stdout",
     "output_type": "stream",
     "text": [
      "\u001b[32m[1019 22:17:04 @base.py:285]\u001b[0m Epoch 610 (global_step 106750) finished, time:6.06 seconds.\n",
      "\u001b[32m[1019 22:17:04 @saver.py:79]\u001b[0m Model saved to ../output/Chicago/DATGAN_05/model\\model-106750.\n"
     ]
    },
    {
     "name": "stderr",
     "output_type": "stream",
     "text": [
      "\n"
     ]
    },
    {
     "name": "stdout",
     "output_type": "stream",
     "text": [
      "\u001b[32m[1019 22:17:04 @monitor.py:467]\u001b[0m GAN_loss/discrim/accuracy_fake: 0.952\n",
      "\u001b[32m[1019 22:17:04 @monitor.py:467]\u001b[0m GAN_loss/discrim/accuracy_real: 0.056\n",
      "\u001b[32m[1019 22:17:04 @monitor.py:467]\u001b[0m GAN_loss/discrim/loss: 0.64779\n",
      "\u001b[32m[1019 22:17:04 @monitor.py:467]\u001b[0m GAN_loss/gen/final-g-loss: 0.97646\n",
      "\u001b[32m[1019 22:17:04 @monitor.py:467]\u001b[0m GAN_loss/gen/klloss: 0.03937\n",
      "\u001b[32m[1019 22:17:04 @monitor.py:467]\u001b[0m GAN_loss/gen/loss: 0.93709\n",
      "\u001b[32m[1019 22:17:04 @monitor.py:467]\u001b[0m QueueInput/queue_size: 50\n",
      "\u001b[32m[1019 22:17:04 @base.py:275]\u001b[0m Start Epoch 611 ...\n"
     ]
    },
    {
     "name": "stderr",
     "output_type": "stream",
     "text": [
      "100%|###################################################################################|175/175[00:05<00:00,29.55it/s]"
     ]
    },
    {
     "name": "stdout",
     "output_type": "stream",
     "text": [
      "\u001b[32m[1019 22:17:10 @base.py:285]\u001b[0m Epoch 611 (global_step 106925) finished, time:5.92 seconds.\n",
      "\u001b[32m[1019 22:17:10 @saver.py:79]\u001b[0m Model saved to ../output/Chicago/DATGAN_05/model\\model-106925.\n"
     ]
    },
    {
     "name": "stderr",
     "output_type": "stream",
     "text": [
      "\n"
     ]
    },
    {
     "name": "stdout",
     "output_type": "stream",
     "text": [
      "\u001b[32m[1019 22:17:10 @monitor.py:467]\u001b[0m GAN_loss/discrim/accuracy_fake: 0.976\n",
      "\u001b[32m[1019 22:17:10 @monitor.py:467]\u001b[0m GAN_loss/discrim/accuracy_real: 0.05\n",
      "\u001b[32m[1019 22:17:10 @monitor.py:467]\u001b[0m GAN_loss/discrim/loss: 0.64414\n",
      "\u001b[32m[1019 22:17:10 @monitor.py:467]\u001b[0m GAN_loss/gen/final-g-loss: 1.0078\n",
      "\u001b[32m[1019 22:17:10 @monitor.py:467]\u001b[0m GAN_loss/gen/klloss: 0.059731\n",
      "\u001b[32m[1019 22:17:10 @monitor.py:467]\u001b[0m GAN_loss/gen/loss: 0.9481\n",
      "\u001b[32m[1019 22:17:10 @monitor.py:467]\u001b[0m QueueInput/queue_size: 50\n",
      "\u001b[32m[1019 22:17:10 @base.py:275]\u001b[0m Start Epoch 612 ...\n"
     ]
    },
    {
     "name": "stderr",
     "output_type": "stream",
     "text": [
      "100%|###################################################################################|175/175[00:05<00:00,29.65it/s]"
     ]
    },
    {
     "name": "stdout",
     "output_type": "stream",
     "text": [
      "\u001b[32m[1019 22:17:16 @base.py:285]\u001b[0m Epoch 612 (global_step 107100) finished, time:5.9 seconds.\n",
      "\u001b[32m[1019 22:17:16 @saver.py:79]\u001b[0m Model saved to ../output/Chicago/DATGAN_05/model\\model-107100.\n"
     ]
    },
    {
     "name": "stderr",
     "output_type": "stream",
     "text": [
      "\n"
     ]
    },
    {
     "name": "stdout",
     "output_type": "stream",
     "text": [
      "\u001b[32m[1019 22:17:16 @monitor.py:467]\u001b[0m GAN_loss/discrim/accuracy_fake: 0.972\n",
      "\u001b[32m[1019 22:17:16 @monitor.py:467]\u001b[0m GAN_loss/discrim/accuracy_real: 0.054\n",
      "\u001b[32m[1019 22:17:16 @monitor.py:467]\u001b[0m GAN_loss/discrim/loss: 0.64736\n",
      "\u001b[32m[1019 22:17:16 @monitor.py:467]\u001b[0m GAN_loss/gen/final-g-loss: 1.0078\n",
      "\u001b[32m[1019 22:17:16 @monitor.py:467]\u001b[0m GAN_loss/gen/klloss: 0.066364\n",
      "\u001b[32m[1019 22:17:16 @monitor.py:467]\u001b[0m GAN_loss/gen/loss: 0.94142\n",
      "\u001b[32m[1019 22:17:16 @monitor.py:467]\u001b[0m QueueInput/queue_size: 50\n",
      "\u001b[32m[1019 22:17:16 @base.py:275]\u001b[0m Start Epoch 613 ...\n"
     ]
    },
    {
     "name": "stderr",
     "output_type": "stream",
     "text": [
      "100%|###################################################################################|175/175[00:06<00:00,28.50it/s]"
     ]
    },
    {
     "name": "stdout",
     "output_type": "stream",
     "text": [
      "\u001b[32m[1019 22:17:22 @base.py:285]\u001b[0m Epoch 613 (global_step 107275) finished, time:6.14 seconds.\n",
      "\u001b[32m[1019 22:17:22 @saver.py:79]\u001b[0m Model saved to ../output/Chicago/DATGAN_05/model\\model-107275.\n"
     ]
    },
    {
     "name": "stderr",
     "output_type": "stream",
     "text": [
      "\n"
     ]
    },
    {
     "name": "stdout",
     "output_type": "stream",
     "text": [
      "\u001b[32m[1019 22:17:23 @monitor.py:467]\u001b[0m GAN_loss/discrim/accuracy_fake: 0.966\n",
      "\u001b[32m[1019 22:17:23 @monitor.py:467]\u001b[0m GAN_loss/discrim/accuracy_real: 0.05\n",
      "\u001b[32m[1019 22:17:23 @monitor.py:467]\u001b[0m GAN_loss/discrim/loss: 0.64996\n",
      "\u001b[32m[1019 22:17:23 @monitor.py:467]\u001b[0m GAN_loss/gen/final-g-loss: 1.0168\n",
      "\u001b[32m[1019 22:17:23 @monitor.py:467]\u001b[0m GAN_loss/gen/klloss: 0.080909\n",
      "\u001b[32m[1019 22:17:23 @monitor.py:467]\u001b[0m GAN_loss/gen/loss: 0.93589\n",
      "\u001b[32m[1019 22:17:23 @monitor.py:467]\u001b[0m QueueInput/queue_size: 50\n",
      "\u001b[32m[1019 22:17:23 @base.py:275]\u001b[0m Start Epoch 614 ...\n"
     ]
    },
    {
     "name": "stderr",
     "output_type": "stream",
     "text": [
      "100%|###################################################################################|175/175[00:05<00:00,29.67it/s]"
     ]
    },
    {
     "name": "stdout",
     "output_type": "stream",
     "text": [
      "\u001b[32m[1019 22:17:28 @base.py:285]\u001b[0m Epoch 614 (global_step 107450) finished, time:5.9 seconds.\n",
      "\u001b[32m[1019 22:17:29 @saver.py:79]\u001b[0m Model saved to ../output/Chicago/DATGAN_05/model\\model-107450.\n"
     ]
    },
    {
     "name": "stderr",
     "output_type": "stream",
     "text": [
      "\n"
     ]
    },
    {
     "name": "stdout",
     "output_type": "stream",
     "text": [
      "\u001b[32m[1019 22:17:29 @monitor.py:467]\u001b[0m GAN_loss/discrim/accuracy_fake: 0.978\n",
      "\u001b[32m[1019 22:17:29 @monitor.py:467]\u001b[0m GAN_loss/discrim/accuracy_real: 0.04\n",
      "\u001b[32m[1019 22:17:29 @monitor.py:467]\u001b[0m GAN_loss/discrim/loss: 0.64554\n",
      "\u001b[32m[1019 22:17:29 @monitor.py:467]\u001b[0m GAN_loss/gen/final-g-loss: 1.0063\n",
      "\u001b[32m[1019 22:17:29 @monitor.py:467]\u001b[0m GAN_loss/gen/klloss: 0.062342\n",
      "\u001b[32m[1019 22:17:29 @monitor.py:467]\u001b[0m GAN_loss/gen/loss: 0.94399\n",
      "\u001b[32m[1019 22:17:29 @monitor.py:467]\u001b[0m QueueInput/queue_size: 50\n",
      "\u001b[32m[1019 22:17:29 @base.py:275]\u001b[0m Start Epoch 615 ...\n"
     ]
    },
    {
     "name": "stderr",
     "output_type": "stream",
     "text": [
      "100%|###################################################################################|175/175[00:06<00:00,28.66it/s]"
     ]
    },
    {
     "name": "stdout",
     "output_type": "stream",
     "text": [
      "\u001b[32m[1019 22:17:35 @base.py:285]\u001b[0m Epoch 615 (global_step 107625) finished, time:6.11 seconds.\n",
      "\u001b[32m[1019 22:17:35 @saver.py:79]\u001b[0m Model saved to ../output/Chicago/DATGAN_05/model\\model-107625.\n"
     ]
    },
    {
     "name": "stderr",
     "output_type": "stream",
     "text": [
      "\n"
     ]
    },
    {
     "name": "stdout",
     "output_type": "stream",
     "text": [
      "\u001b[32m[1019 22:17:35 @monitor.py:467]\u001b[0m GAN_loss/discrim/accuracy_fake: 0.978\n",
      "\u001b[32m[1019 22:17:35 @monitor.py:467]\u001b[0m GAN_loss/discrim/accuracy_real: 0.054\n",
      "\u001b[32m[1019 22:17:35 @monitor.py:467]\u001b[0m GAN_loss/discrim/loss: 0.63952\n",
      "\u001b[32m[1019 22:17:35 @monitor.py:467]\u001b[0m GAN_loss/gen/final-g-loss: 1.001\n",
      "\u001b[32m[1019 22:17:35 @monitor.py:467]\u001b[0m GAN_loss/gen/klloss: 0.048781\n",
      "\u001b[32m[1019 22:17:35 @monitor.py:467]\u001b[0m GAN_loss/gen/loss: 0.95225\n",
      "\u001b[32m[1019 22:17:35 @monitor.py:467]\u001b[0m QueueInput/queue_size: 50\n",
      "\u001b[32m[1019 22:17:35 @base.py:275]\u001b[0m Start Epoch 616 ...\n"
     ]
    },
    {
     "name": "stderr",
     "output_type": "stream",
     "text": [
      "100%|###################################################################################|175/175[00:05<00:00,29.70it/s]"
     ]
    },
    {
     "name": "stdout",
     "output_type": "stream",
     "text": [
      "\u001b[32m[1019 22:17:41 @base.py:285]\u001b[0m Epoch 616 (global_step 107800) finished, time:5.89 seconds.\n",
      "\u001b[32m[1019 22:17:41 @saver.py:79]\u001b[0m Model saved to ../output/Chicago/DATGAN_05/model\\model-107800.\n"
     ]
    },
    {
     "name": "stderr",
     "output_type": "stream",
     "text": [
      "\n"
     ]
    },
    {
     "name": "stdout",
     "output_type": "stream",
     "text": [
      "\u001b[32m[1019 22:17:41 @monitor.py:467]\u001b[0m GAN_loss/discrim/accuracy_fake: 0.966\n",
      "\u001b[32m[1019 22:17:41 @monitor.py:467]\u001b[0m GAN_loss/discrim/accuracy_real: 0.042\n",
      "\u001b[32m[1019 22:17:41 @monitor.py:467]\u001b[0m GAN_loss/discrim/loss: 0.64632\n",
      "\u001b[32m[1019 22:17:41 @monitor.py:467]\u001b[0m GAN_loss/gen/final-g-loss: 0.99336\n",
      "\u001b[32m[1019 22:17:41 @monitor.py:467]\u001b[0m GAN_loss/gen/klloss: 0.057578\n",
      "\u001b[32m[1019 22:17:41 @monitor.py:467]\u001b[0m GAN_loss/gen/loss: 0.93578\n",
      "\u001b[32m[1019 22:17:41 @monitor.py:467]\u001b[0m QueueInput/queue_size: 50\n",
      "\u001b[32m[1019 22:17:41 @base.py:275]\u001b[0m Start Epoch 617 ...\n"
     ]
    },
    {
     "name": "stderr",
     "output_type": "stream",
     "text": [
      "100%|###################################################################################|175/175[00:05<00:00,29.43it/s]"
     ]
    },
    {
     "name": "stdout",
     "output_type": "stream",
     "text": [
      "\u001b[32m[1019 22:17:47 @base.py:285]\u001b[0m Epoch 617 (global_step 107975) finished, time:5.95 seconds.\n",
      "\u001b[32m[1019 22:17:47 @saver.py:79]\u001b[0m Model saved to ../output/Chicago/DATGAN_05/model\\model-107975.\n"
     ]
    },
    {
     "name": "stderr",
     "output_type": "stream",
     "text": [
      "\n"
     ]
    },
    {
     "name": "stdout",
     "output_type": "stream",
     "text": [
      "\u001b[32m[1019 22:17:47 @monitor.py:467]\u001b[0m GAN_loss/discrim/accuracy_fake: 0.968\n",
      "\u001b[32m[1019 22:17:47 @monitor.py:467]\u001b[0m GAN_loss/discrim/accuracy_real: 0.052\n",
      "\u001b[32m[1019 22:17:47 @monitor.py:467]\u001b[0m GAN_loss/discrim/loss: 0.65049\n",
      "\u001b[32m[1019 22:17:47 @monitor.py:467]\u001b[0m GAN_loss/gen/final-g-loss: 0.99142\n",
      "\u001b[32m[1019 22:17:47 @monitor.py:467]\u001b[0m GAN_loss/gen/klloss: 0.057216\n",
      "\u001b[32m[1019 22:17:47 @monitor.py:467]\u001b[0m GAN_loss/gen/loss: 0.9342\n",
      "\u001b[32m[1019 22:17:47 @monitor.py:467]\u001b[0m QueueInput/queue_size: 50\n",
      "\u001b[32m[1019 22:17:47 @base.py:275]\u001b[0m Start Epoch 618 ...\n"
     ]
    },
    {
     "name": "stderr",
     "output_type": "stream",
     "text": [
      "100%|###################################################################################|175/175[00:06<00:00,29.09it/s]"
     ]
    },
    {
     "name": "stdout",
     "output_type": "stream",
     "text": [
      "\u001b[32m[1019 22:17:53 @base.py:285]\u001b[0m Epoch 618 (global_step 108150) finished, time:6.02 seconds.\n",
      "\u001b[32m[1019 22:17:53 @saver.py:79]\u001b[0m Model saved to ../output/Chicago/DATGAN_05/model\\model-108150.\n"
     ]
    },
    {
     "name": "stderr",
     "output_type": "stream",
     "text": [
      "\n"
     ]
    },
    {
     "name": "stdout",
     "output_type": "stream",
     "text": [
      "\u001b[32m[1019 22:17:53 @monitor.py:467]\u001b[0m GAN_loss/discrim/accuracy_fake: 0.964\n",
      "\u001b[32m[1019 22:17:53 @monitor.py:467]\u001b[0m GAN_loss/discrim/accuracy_real: 0.062\n",
      "\u001b[32m[1019 22:17:53 @monitor.py:467]\u001b[0m GAN_loss/discrim/loss: 0.64512\n",
      "\u001b[32m[1019 22:17:53 @monitor.py:467]\u001b[0m GAN_loss/gen/final-g-loss: 1.0057\n",
      "\u001b[32m[1019 22:17:53 @monitor.py:467]\u001b[0m GAN_loss/gen/klloss: 0.063867\n",
      "\u001b[32m[1019 22:17:53 @monitor.py:467]\u001b[0m GAN_loss/gen/loss: 0.94186\n",
      "\u001b[32m[1019 22:17:53 @monitor.py:467]\u001b[0m QueueInput/queue_size: 50\n",
      "\u001b[32m[1019 22:17:53 @base.py:275]\u001b[0m Start Epoch 619 ...\n"
     ]
    },
    {
     "name": "stderr",
     "output_type": "stream",
     "text": [
      "100%|###################################################################################|175/175[00:05<00:00,29.19it/s]"
     ]
    },
    {
     "name": "stdout",
     "output_type": "stream",
     "text": [
      "\u001b[32m[1019 22:17:59 @base.py:285]\u001b[0m Epoch 619 (global_step 108325) finished, time:6 seconds.\n",
      "\u001b[32m[1019 22:18:00 @saver.py:79]\u001b[0m Model saved to ../output/Chicago/DATGAN_05/model\\model-108325.\n"
     ]
    },
    {
     "name": "stderr",
     "output_type": "stream",
     "text": [
      "\n"
     ]
    },
    {
     "name": "stdout",
     "output_type": "stream",
     "text": [
      "\u001b[32m[1019 22:18:00 @monitor.py:467]\u001b[0m GAN_loss/discrim/accuracy_fake: 0.968\n",
      "\u001b[32m[1019 22:18:00 @monitor.py:467]\u001b[0m GAN_loss/discrim/accuracy_real: 0.05\n",
      "\u001b[32m[1019 22:18:00 @monitor.py:467]\u001b[0m GAN_loss/discrim/loss: 0.65103\n",
      "\u001b[32m[1019 22:18:00 @monitor.py:467]\u001b[0m GAN_loss/gen/final-g-loss: 0.98223\n",
      "\u001b[32m[1019 22:18:00 @monitor.py:467]\u001b[0m GAN_loss/gen/klloss: 0.051399\n",
      "\u001b[32m[1019 22:18:00 @monitor.py:467]\u001b[0m GAN_loss/gen/loss: 0.93084\n",
      "\u001b[32m[1019 22:18:00 @monitor.py:467]\u001b[0m QueueInput/queue_size: 50\n",
      "\u001b[32m[1019 22:18:00 @base.py:275]\u001b[0m Start Epoch 620 ...\n"
     ]
    },
    {
     "name": "stderr",
     "output_type": "stream",
     "text": [
      "100%|###################################################################################|175/175[00:06<00:00,27.76it/s]"
     ]
    },
    {
     "name": "stdout",
     "output_type": "stream",
     "text": [
      "\u001b[32m[1019 22:18:06 @base.py:285]\u001b[0m Epoch 620 (global_step 108500) finished, time:6.31 seconds.\n",
      "\u001b[32m[1019 22:18:06 @saver.py:79]\u001b[0m Model saved to ../output/Chicago/DATGAN_05/model\\model-108500.\n"
     ]
    },
    {
     "name": "stderr",
     "output_type": "stream",
     "text": [
      "\n"
     ]
    },
    {
     "name": "stdout",
     "output_type": "stream",
     "text": [
      "\u001b[32m[1019 22:18:06 @monitor.py:467]\u001b[0m GAN_loss/discrim/accuracy_fake: 0.974\n",
      "\u001b[32m[1019 22:18:06 @monitor.py:467]\u001b[0m GAN_loss/discrim/accuracy_real: 0.042\n",
      "\u001b[32m[1019 22:18:06 @monitor.py:467]\u001b[0m GAN_loss/discrim/loss: 0.64679\n",
      "\u001b[32m[1019 22:18:06 @monitor.py:467]\u001b[0m GAN_loss/gen/final-g-loss: 1.0135\n",
      "\u001b[32m[1019 22:18:06 @monitor.py:467]\u001b[0m GAN_loss/gen/klloss: 0.067272\n",
      "\u001b[32m[1019 22:18:06 @monitor.py:467]\u001b[0m GAN_loss/gen/loss: 0.94621\n",
      "\u001b[32m[1019 22:18:06 @monitor.py:467]\u001b[0m QueueInput/queue_size: 50\n",
      "\u001b[32m[1019 22:18:06 @base.py:275]\u001b[0m Start Epoch 621 ...\n"
     ]
    },
    {
     "name": "stderr",
     "output_type": "stream",
     "text": [
      "100%|###################################################################################|175/175[00:06<00:00,28.68it/s]"
     ]
    },
    {
     "name": "stdout",
     "output_type": "stream",
     "text": [
      "\u001b[32m[1019 22:18:12 @base.py:285]\u001b[0m Epoch 621 (global_step 108675) finished, time:6.1 seconds.\n",
      "\u001b[32m[1019 22:18:12 @saver.py:79]\u001b[0m Model saved to ../output/Chicago/DATGAN_05/model\\model-108675.\n",
      "\u001b[32m[1019 22:18:12 @monitor.py:467]\u001b[0m GAN_loss/discrim/accuracy_fake: 0.96\n"
     ]
    },
    {
     "name": "stderr",
     "output_type": "stream",
     "text": [
      "\n"
     ]
    },
    {
     "name": "stdout",
     "output_type": "stream",
     "text": [
      "\u001b[32m[1019 22:18:12 @monitor.py:467]\u001b[0m GAN_loss/discrim/accuracy_real: 0.068\n",
      "\u001b[32m[1019 22:18:12 @monitor.py:467]\u001b[0m GAN_loss/discrim/loss: 0.65148\n",
      "\u001b[32m[1019 22:18:12 @monitor.py:467]\u001b[0m GAN_loss/gen/final-g-loss: 0.98389\n",
      "\u001b[32m[1019 22:18:12 @monitor.py:467]\u001b[0m GAN_loss/gen/klloss: 0.048359\n",
      "\u001b[32m[1019 22:18:12 @monitor.py:467]\u001b[0m GAN_loss/gen/loss: 0.93553\n",
      "\u001b[32m[1019 22:18:12 @monitor.py:467]\u001b[0m QueueInput/queue_size: 50\n",
      "\u001b[32m[1019 22:18:12 @base.py:275]\u001b[0m Start Epoch 622 ...\n"
     ]
    },
    {
     "name": "stderr",
     "output_type": "stream",
     "text": [
      "100%|###################################################################################|175/175[00:06<00:00,28.78it/s]"
     ]
    },
    {
     "name": "stdout",
     "output_type": "stream",
     "text": [
      "\u001b[32m[1019 22:18:19 @base.py:285]\u001b[0m Epoch 622 (global_step 108850) finished, time:6.08 seconds.\n",
      "\u001b[32m[1019 22:18:19 @saver.py:79]\u001b[0m Model saved to ../output/Chicago/DATGAN_05/model\\model-108850.\n",
      "\u001b[32m[1019 22:18:19 @monitor.py:467]\u001b[0m GAN_loss/discrim/accuracy_fake: 0.966\n"
     ]
    },
    {
     "name": "stderr",
     "output_type": "stream",
     "text": [
      "\n"
     ]
    },
    {
     "name": "stdout",
     "output_type": "stream",
     "text": [
      "\u001b[32m[1019 22:18:19 @monitor.py:467]\u001b[0m GAN_loss/discrim/accuracy_real: 0.056\n",
      "\u001b[32m[1019 22:18:19 @monitor.py:467]\u001b[0m GAN_loss/discrim/loss: 0.6524\n",
      "\u001b[32m[1019 22:18:19 @monitor.py:467]\u001b[0m GAN_loss/gen/final-g-loss: 0.99415\n",
      "\u001b[32m[1019 22:18:19 @monitor.py:467]\u001b[0m GAN_loss/gen/klloss: 0.064853\n",
      "\u001b[32m[1019 22:18:19 @monitor.py:467]\u001b[0m GAN_loss/gen/loss: 0.92929\n",
      "\u001b[32m[1019 22:18:19 @monitor.py:467]\u001b[0m QueueInput/queue_size: 50\n",
      "\u001b[32m[1019 22:18:19 @base.py:275]\u001b[0m Start Epoch 623 ...\n"
     ]
    },
    {
     "name": "stderr",
     "output_type": "stream",
     "text": [
      "100%|###################################################################################|175/175[00:05<00:00,29.41it/s]"
     ]
    },
    {
     "name": "stdout",
     "output_type": "stream",
     "text": [
      "\u001b[32m[1019 22:18:25 @base.py:285]\u001b[0m Epoch 623 (global_step 109025) finished, time:5.95 seconds.\n",
      "\u001b[32m[1019 22:18:25 @saver.py:79]\u001b[0m Model saved to ../output/Chicago/DATGAN_05/model\\model-109025.\n"
     ]
    },
    {
     "name": "stderr",
     "output_type": "stream",
     "text": [
      "\n"
     ]
    },
    {
     "name": "stdout",
     "output_type": "stream",
     "text": [
      "\u001b[32m[1019 22:18:25 @monitor.py:467]\u001b[0m GAN_loss/discrim/accuracy_fake: 0.964\n",
      "\u001b[32m[1019 22:18:25 @monitor.py:467]\u001b[0m GAN_loss/discrim/accuracy_real: 0.038\n",
      "\u001b[32m[1019 22:18:25 @monitor.py:467]\u001b[0m GAN_loss/discrim/loss: 0.65032\n",
      "\u001b[32m[1019 22:18:25 @monitor.py:467]\u001b[0m GAN_loss/gen/final-g-loss: 1.0024\n",
      "\u001b[32m[1019 22:18:25 @monitor.py:467]\u001b[0m GAN_loss/gen/klloss: 0.060188\n",
      "\u001b[32m[1019 22:18:25 @monitor.py:467]\u001b[0m GAN_loss/gen/loss: 0.94223\n",
      "\u001b[32m[1019 22:18:25 @monitor.py:467]\u001b[0m QueueInput/queue_size: 50\n",
      "\u001b[32m[1019 22:18:25 @base.py:275]\u001b[0m Start Epoch 624 ...\n"
     ]
    },
    {
     "name": "stderr",
     "output_type": "stream",
     "text": [
      "100%|###################################################################################|175/175[00:06<00:00,29.08it/s]"
     ]
    },
    {
     "name": "stdout",
     "output_type": "stream",
     "text": [
      "\u001b[32m[1019 22:18:31 @base.py:285]\u001b[0m Epoch 624 (global_step 109200) finished, time:6.02 seconds.\n",
      "\u001b[32m[1019 22:18:31 @saver.py:79]\u001b[0m Model saved to ../output/Chicago/DATGAN_05/model\\model-109200.\n"
     ]
    },
    {
     "name": "stderr",
     "output_type": "stream",
     "text": [
      "\n"
     ]
    },
    {
     "name": "stdout",
     "output_type": "stream",
     "text": [
      "\u001b[32m[1019 22:18:31 @monitor.py:467]\u001b[0m GAN_loss/discrim/accuracy_fake: 0.972\n",
      "\u001b[32m[1019 22:18:31 @monitor.py:467]\u001b[0m GAN_loss/discrim/accuracy_real: 0.052\n",
      "\u001b[32m[1019 22:18:31 @monitor.py:467]\u001b[0m GAN_loss/discrim/loss: 0.64541\n",
      "\u001b[32m[1019 22:18:31 @monitor.py:467]\u001b[0m GAN_loss/gen/final-g-loss: 1.0095\n",
      "\u001b[32m[1019 22:18:31 @monitor.py:467]\u001b[0m GAN_loss/gen/klloss: 0.06545\n",
      "\u001b[32m[1019 22:18:31 @monitor.py:467]\u001b[0m GAN_loss/gen/loss: 0.94405\n",
      "\u001b[32m[1019 22:18:31 @monitor.py:467]\u001b[0m QueueInput/queue_size: 50\n",
      "\u001b[32m[1019 22:18:31 @base.py:275]\u001b[0m Start Epoch 625 ...\n"
     ]
    },
    {
     "name": "stderr",
     "output_type": "stream",
     "text": [
      "100%|###################################################################################|175/175[00:06<00:00,27.59it/s]"
     ]
    },
    {
     "name": "stdout",
     "output_type": "stream",
     "text": [
      "\u001b[32m[1019 22:18:37 @base.py:285]\u001b[0m Epoch 625 (global_step 109375) finished, time:6.34 seconds.\n",
      "\u001b[32m[1019 22:18:38 @saver.py:79]\u001b[0m Model saved to ../output/Chicago/DATGAN_05/model\\model-109375.\n"
     ]
    },
    {
     "name": "stderr",
     "output_type": "stream",
     "text": [
      "\n"
     ]
    },
    {
     "name": "stdout",
     "output_type": "stream",
     "text": [
      "\u001b[32m[1019 22:18:38 @monitor.py:467]\u001b[0m GAN_loss/discrim/accuracy_fake: 0.98\n",
      "\u001b[32m[1019 22:18:38 @monitor.py:467]\u001b[0m GAN_loss/discrim/accuracy_real: 0.048\n",
      "\u001b[32m[1019 22:18:38 @monitor.py:467]\u001b[0m GAN_loss/discrim/loss: 0.64461\n",
      "\u001b[32m[1019 22:18:38 @monitor.py:467]\u001b[0m GAN_loss/gen/final-g-loss: 0.99783\n",
      "\u001b[32m[1019 22:18:38 @monitor.py:467]\u001b[0m GAN_loss/gen/klloss: 0.057256\n",
      "\u001b[32m[1019 22:18:38 @monitor.py:467]\u001b[0m GAN_loss/gen/loss: 0.94057\n",
      "\u001b[32m[1019 22:18:38 @monitor.py:467]\u001b[0m QueueInput/queue_size: 50\n",
      "\u001b[32m[1019 22:18:38 @base.py:275]\u001b[0m Start Epoch 626 ...\n"
     ]
    },
    {
     "name": "stderr",
     "output_type": "stream",
     "text": [
      "100%|###################################################################################|175/175[00:06<00:00,28.76it/s]"
     ]
    },
    {
     "name": "stdout",
     "output_type": "stream",
     "text": [
      "\u001b[32m[1019 22:18:44 @base.py:285]\u001b[0m Epoch 626 (global_step 109550) finished, time:6.08 seconds.\n",
      "\u001b[32m[1019 22:18:44 @saver.py:79]\u001b[0m Model saved to ../output/Chicago/DATGAN_05/model\\model-109550.\n"
     ]
    },
    {
     "name": "stderr",
     "output_type": "stream",
     "text": [
      "\n"
     ]
    },
    {
     "name": "stdout",
     "output_type": "stream",
     "text": [
      "\u001b[32m[1019 22:18:44 @monitor.py:467]\u001b[0m GAN_loss/discrim/accuracy_fake: 0.97\n",
      "\u001b[32m[1019 22:18:44 @monitor.py:467]\u001b[0m GAN_loss/discrim/accuracy_real: 0.064\n",
      "\u001b[32m[1019 22:18:44 @monitor.py:467]\u001b[0m GAN_loss/discrim/loss: 0.64716\n",
      "\u001b[32m[1019 22:18:44 @monitor.py:467]\u001b[0m GAN_loss/gen/final-g-loss: 0.98881\n",
      "\u001b[32m[1019 22:18:44 @monitor.py:467]\u001b[0m GAN_loss/gen/klloss: 0.058054\n",
      "\u001b[32m[1019 22:18:44 @monitor.py:467]\u001b[0m GAN_loss/gen/loss: 0.93076\n",
      "\u001b[32m[1019 22:18:44 @monitor.py:467]\u001b[0m QueueInput/queue_size: 50\n",
      "\u001b[32m[1019 22:18:44 @base.py:275]\u001b[0m Start Epoch 627 ...\n"
     ]
    },
    {
     "name": "stderr",
     "output_type": "stream",
     "text": [
      "100%|###################################################################################|175/175[00:06<00:00,28.62it/s]"
     ]
    },
    {
     "name": "stdout",
     "output_type": "stream",
     "text": [
      "\u001b[32m[1019 22:18:50 @base.py:285]\u001b[0m Epoch 627 (global_step 109725) finished, time:6.12 seconds.\n",
      "\u001b[32m[1019 22:18:50 @saver.py:79]\u001b[0m Model saved to ../output/Chicago/DATGAN_05/model\\model-109725.\n"
     ]
    },
    {
     "name": "stderr",
     "output_type": "stream",
     "text": [
      "\n"
     ]
    },
    {
     "name": "stdout",
     "output_type": "stream",
     "text": [
      "\u001b[32m[1019 22:18:50 @monitor.py:467]\u001b[0m GAN_loss/discrim/accuracy_fake: 0.958\n",
      "\u001b[32m[1019 22:18:50 @monitor.py:467]\u001b[0m GAN_loss/discrim/accuracy_real: 0.05\n",
      "\u001b[32m[1019 22:18:50 @monitor.py:467]\u001b[0m GAN_loss/discrim/loss: 0.64963\n",
      "\u001b[32m[1019 22:18:50 @monitor.py:467]\u001b[0m GAN_loss/gen/final-g-loss: 1.0157\n",
      "\u001b[32m[1019 22:18:50 @monitor.py:467]\u001b[0m GAN_loss/gen/klloss: 0.084316\n",
      "\u001b[32m[1019 22:18:50 @monitor.py:467]\u001b[0m GAN_loss/gen/loss: 0.93142\n",
      "\u001b[32m[1019 22:18:50 @monitor.py:467]\u001b[0m QueueInput/queue_size: 50\n",
      "\u001b[32m[1019 22:18:50 @base.py:275]\u001b[0m Start Epoch 628 ...\n"
     ]
    },
    {
     "name": "stderr",
     "output_type": "stream",
     "text": [
      "100%|###################################################################################|175/175[00:06<00:00,28.87it/s]"
     ]
    },
    {
     "name": "stdout",
     "output_type": "stream",
     "text": [
      "\u001b[32m[1019 22:18:56 @base.py:285]\u001b[0m Epoch 628 (global_step 109900) finished, time:6.06 seconds.\n",
      "\u001b[32m[1019 22:18:56 @saver.py:79]\u001b[0m Model saved to ../output/Chicago/DATGAN_05/model\\model-109900.\n",
      "\u001b[32m[1019 22:18:57 @monitor.py:467]\u001b[0m GAN_loss/discrim/accuracy_fake: 0.972\n"
     ]
    },
    {
     "name": "stderr",
     "output_type": "stream",
     "text": [
      "\n"
     ]
    },
    {
     "name": "stdout",
     "output_type": "stream",
     "text": [
      "\u001b[32m[1019 22:18:57 @monitor.py:467]\u001b[0m GAN_loss/discrim/accuracy_real: 0.038\n",
      "\u001b[32m[1019 22:18:57 @monitor.py:467]\u001b[0m GAN_loss/discrim/loss: 0.64881\n",
      "\u001b[32m[1019 22:18:57 @monitor.py:467]\u001b[0m GAN_loss/gen/final-g-loss: 0.9826\n",
      "\u001b[32m[1019 22:18:57 @monitor.py:467]\u001b[0m GAN_loss/gen/klloss: 0.047637\n",
      "\u001b[32m[1019 22:18:57 @monitor.py:467]\u001b[0m GAN_loss/gen/loss: 0.93497\n",
      "\u001b[32m[1019 22:18:57 @monitor.py:467]\u001b[0m QueueInput/queue_size: 50\n",
      "\u001b[32m[1019 22:18:57 @base.py:275]\u001b[0m Start Epoch 629 ...\n"
     ]
    },
    {
     "name": "stderr",
     "output_type": "stream",
     "text": [
      "100%|###################################################################################|175/175[00:06<00:00,28.49it/s]"
     ]
    },
    {
     "name": "stdout",
     "output_type": "stream",
     "text": [
      "\u001b[32m[1019 22:19:03 @base.py:285]\u001b[0m Epoch 629 (global_step 110075) finished, time:6.14 seconds.\n",
      "\u001b[32m[1019 22:19:03 @saver.py:79]\u001b[0m Model saved to ../output/Chicago/DATGAN_05/model\\model-110075.\n"
     ]
    },
    {
     "name": "stderr",
     "output_type": "stream",
     "text": [
      "\n"
     ]
    },
    {
     "name": "stdout",
     "output_type": "stream",
     "text": [
      "\u001b[32m[1019 22:19:03 @monitor.py:467]\u001b[0m GAN_loss/discrim/accuracy_fake: 0.97\n",
      "\u001b[32m[1019 22:19:03 @monitor.py:467]\u001b[0m GAN_loss/discrim/accuracy_real: 0.044\n",
      "\u001b[32m[1019 22:19:03 @monitor.py:467]\u001b[0m GAN_loss/discrim/loss: 0.64745\n",
      "\u001b[32m[1019 22:19:03 @monitor.py:467]\u001b[0m GAN_loss/gen/final-g-loss: 0.9866\n",
      "\u001b[32m[1019 22:19:03 @monitor.py:467]\u001b[0m GAN_loss/gen/klloss: 0.042736\n",
      "\u001b[32m[1019 22:19:03 @monitor.py:467]\u001b[0m GAN_loss/gen/loss: 0.94386\n",
      "\u001b[32m[1019 22:19:03 @monitor.py:467]\u001b[0m QueueInput/queue_size: 50\n",
      "\u001b[32m[1019 22:19:03 @base.py:275]\u001b[0m Start Epoch 630 ...\n"
     ]
    },
    {
     "name": "stderr",
     "output_type": "stream",
     "text": [
      "100%|###################################################################################|175/175[00:06<00:00,28.60it/s]"
     ]
    },
    {
     "name": "stdout",
     "output_type": "stream",
     "text": [
      "\u001b[32m[1019 22:19:09 @base.py:285]\u001b[0m Epoch 630 (global_step 110250) finished, time:6.12 seconds.\n",
      "\u001b[32m[1019 22:19:09 @saver.py:79]\u001b[0m Model saved to ../output/Chicago/DATGAN_05/model\\model-110250.\n"
     ]
    },
    {
     "name": "stderr",
     "output_type": "stream",
     "text": [
      "\n"
     ]
    },
    {
     "name": "stdout",
     "output_type": "stream",
     "text": [
      "\u001b[32m[1019 22:19:09 @monitor.py:467]\u001b[0m GAN_loss/discrim/accuracy_fake: 0.966\n",
      "\u001b[32m[1019 22:19:09 @monitor.py:467]\u001b[0m GAN_loss/discrim/accuracy_real: 0.054\n",
      "\u001b[32m[1019 22:19:09 @monitor.py:467]\u001b[0m GAN_loss/discrim/loss: 0.64363\n",
      "\u001b[32m[1019 22:19:09 @monitor.py:467]\u001b[0m GAN_loss/gen/final-g-loss: 1.0135\n",
      "\u001b[32m[1019 22:19:09 @monitor.py:467]\u001b[0m GAN_loss/gen/klloss: 0.061702\n",
      "\u001b[32m[1019 22:19:09 @monitor.py:467]\u001b[0m GAN_loss/gen/loss: 0.9518\n",
      "\u001b[32m[1019 22:19:09 @monitor.py:467]\u001b[0m QueueInput/queue_size: 50\n",
      "\u001b[32m[1019 22:19:09 @base.py:275]\u001b[0m Start Epoch 631 ...\n"
     ]
    },
    {
     "name": "stderr",
     "output_type": "stream",
     "text": [
      "100%|###################################################################################|175/175[00:05<00:00,29.65it/s]"
     ]
    },
    {
     "name": "stdout",
     "output_type": "stream",
     "text": [
      "\u001b[32m[1019 22:19:15 @base.py:285]\u001b[0m Epoch 631 (global_step 110425) finished, time:5.9 seconds.\n",
      "\u001b[32m[1019 22:19:15 @saver.py:79]\u001b[0m Model saved to ../output/Chicago/DATGAN_05/model\\model-110425.\n",
      "\u001b[32m[1019 22:19:15 @monitor.py:467]\u001b[0m GAN_loss/discrim/accuracy_fake: 0.97\n"
     ]
    },
    {
     "name": "stderr",
     "output_type": "stream",
     "text": [
      "\n"
     ]
    },
    {
     "name": "stdout",
     "output_type": "stream",
     "text": [
      "\u001b[32m[1019 22:19:15 @monitor.py:467]\u001b[0m GAN_loss/discrim/accuracy_real: 0.052\n",
      "\u001b[32m[1019 22:19:15 @monitor.py:467]\u001b[0m GAN_loss/discrim/loss: 0.64876\n",
      "\u001b[32m[1019 22:19:15 @monitor.py:467]\u001b[0m GAN_loss/gen/final-g-loss: 1.0128\n",
      "\u001b[32m[1019 22:19:15 @monitor.py:467]\u001b[0m GAN_loss/gen/klloss: 0.067039\n",
      "\u001b[32m[1019 22:19:15 @monitor.py:467]\u001b[0m GAN_loss/gen/loss: 0.94576\n",
      "\u001b[32m[1019 22:19:15 @monitor.py:467]\u001b[0m QueueInput/queue_size: 50\n",
      "\u001b[32m[1019 22:19:15 @base.py:275]\u001b[0m Start Epoch 632 ...\n"
     ]
    },
    {
     "name": "stderr",
     "output_type": "stream",
     "text": [
      "100%|###################################################################################|175/175[00:05<00:00,29.32it/s]"
     ]
    },
    {
     "name": "stdout",
     "output_type": "stream",
     "text": [
      "\u001b[32m[1019 22:19:21 @base.py:285]\u001b[0m Epoch 632 (global_step 110600) finished, time:5.97 seconds.\n",
      "\u001b[32m[1019 22:19:21 @saver.py:79]\u001b[0m Model saved to ../output/Chicago/DATGAN_05/model\\model-110600.\n"
     ]
    },
    {
     "name": "stderr",
     "output_type": "stream",
     "text": [
      "\n"
     ]
    },
    {
     "name": "stdout",
     "output_type": "stream",
     "text": [
      "\u001b[32m[1019 22:19:22 @monitor.py:467]\u001b[0m GAN_loss/discrim/accuracy_fake: 0.964\n",
      "\u001b[32m[1019 22:19:22 @monitor.py:467]\u001b[0m GAN_loss/discrim/accuracy_real: 0.062\n",
      "\u001b[32m[1019 22:19:22 @monitor.py:467]\u001b[0m GAN_loss/discrim/loss: 0.65196\n",
      "\u001b[32m[1019 22:19:22 @monitor.py:467]\u001b[0m GAN_loss/gen/final-g-loss: 1.0015\n",
      "\u001b[32m[1019 22:19:22 @monitor.py:467]\u001b[0m GAN_loss/gen/klloss: 0.068261\n",
      "\u001b[32m[1019 22:19:22 @monitor.py:467]\u001b[0m GAN_loss/gen/loss: 0.93323\n",
      "\u001b[32m[1019 22:19:22 @monitor.py:467]\u001b[0m QueueInput/queue_size: 50\n",
      "\u001b[32m[1019 22:19:22 @base.py:275]\u001b[0m Start Epoch 633 ...\n"
     ]
    },
    {
     "name": "stderr",
     "output_type": "stream",
     "text": [
      "100%|###################################################################################|175/175[00:06<00:00,29.13it/s]"
     ]
    },
    {
     "name": "stdout",
     "output_type": "stream",
     "text": [
      "\u001b[32m[1019 22:19:28 @base.py:285]\u001b[0m Epoch 633 (global_step 110775) finished, time:6.01 seconds.\n",
      "\u001b[32m[1019 22:19:28 @saver.py:79]\u001b[0m Model saved to ../output/Chicago/DATGAN_05/model\\model-110775.\n"
     ]
    },
    {
     "name": "stderr",
     "output_type": "stream",
     "text": [
      "\n"
     ]
    },
    {
     "name": "stdout",
     "output_type": "stream",
     "text": [
      "\u001b[32m[1019 22:19:28 @monitor.py:467]\u001b[0m GAN_loss/discrim/accuracy_fake: 0.972\n",
      "\u001b[32m[1019 22:19:28 @monitor.py:467]\u001b[0m GAN_loss/discrim/accuracy_real: 0.042\n",
      "\u001b[32m[1019 22:19:28 @monitor.py:467]\u001b[0m GAN_loss/discrim/loss: 0.6573\n",
      "\u001b[32m[1019 22:19:28 @monitor.py:467]\u001b[0m GAN_loss/gen/final-g-loss: 1.0154\n",
      "\u001b[32m[1019 22:19:28 @monitor.py:467]\u001b[0m GAN_loss/gen/klloss: 0.079506\n",
      "\u001b[32m[1019 22:19:28 @monitor.py:467]\u001b[0m GAN_loss/gen/loss: 0.93585\n",
      "\u001b[32m[1019 22:19:28 @monitor.py:467]\u001b[0m QueueInput/queue_size: 50\n",
      "\u001b[32m[1019 22:19:28 @base.py:275]\u001b[0m Start Epoch 634 ...\n"
     ]
    },
    {
     "name": "stderr",
     "output_type": "stream",
     "text": [
      "100%|###################################################################################|175/175[00:06<00:00,28.61it/s]"
     ]
    },
    {
     "name": "stdout",
     "output_type": "stream",
     "text": [
      "\u001b[32m[1019 22:19:34 @base.py:285]\u001b[0m Epoch 634 (global_step 110950) finished, time:6.12 seconds.\n",
      "\u001b[32m[1019 22:19:34 @saver.py:79]\u001b[0m Model saved to ../output/Chicago/DATGAN_05/model\\model-110950.\n"
     ]
    },
    {
     "name": "stderr",
     "output_type": "stream",
     "text": [
      "\n"
     ]
    },
    {
     "name": "stdout",
     "output_type": "stream",
     "text": [
      "\u001b[32m[1019 22:19:34 @monitor.py:467]\u001b[0m GAN_loss/discrim/accuracy_fake: 0.98\n",
      "\u001b[32m[1019 22:19:34 @monitor.py:467]\u001b[0m GAN_loss/discrim/accuracy_real: 0.054\n",
      "\u001b[32m[1019 22:19:34 @monitor.py:467]\u001b[0m GAN_loss/discrim/loss: 0.64524\n",
      "\u001b[32m[1019 22:19:34 @monitor.py:467]\u001b[0m GAN_loss/gen/final-g-loss: 0.9909\n",
      "\u001b[32m[1019 22:19:34 @monitor.py:467]\u001b[0m GAN_loss/gen/klloss: 0.054958\n",
      "\u001b[32m[1019 22:19:34 @monitor.py:467]\u001b[0m GAN_loss/gen/loss: 0.93594\n",
      "\u001b[32m[1019 22:19:34 @monitor.py:467]\u001b[0m QueueInput/queue_size: 50\n",
      "\u001b[32m[1019 22:19:34 @base.py:275]\u001b[0m Start Epoch 635 ...\n"
     ]
    },
    {
     "name": "stderr",
     "output_type": "stream",
     "text": [
      "100%|###################################################################################|175/175[00:05<00:00,29.38it/s]"
     ]
    },
    {
     "name": "stdout",
     "output_type": "stream",
     "text": [
      "\u001b[32m[1019 22:19:40 @base.py:285]\u001b[0m Epoch 635 (global_step 111125) finished, time:5.96 seconds.\n",
      "\u001b[32m[1019 22:19:40 @saver.py:79]\u001b[0m Model saved to ../output/Chicago/DATGAN_05/model\\model-111125.\n",
      "\u001b[32m[1019 22:19:40 @monitor.py:467]\u001b[0m GAN_loss/discrim/accuracy_fake: 0.966\n"
     ]
    },
    {
     "name": "stderr",
     "output_type": "stream",
     "text": [
      "\n"
     ]
    },
    {
     "name": "stdout",
     "output_type": "stream",
     "text": [
      "\u001b[32m[1019 22:19:40 @monitor.py:467]\u001b[0m GAN_loss/discrim/accuracy_real: 0.036\n",
      "\u001b[32m[1019 22:19:40 @monitor.py:467]\u001b[0m GAN_loss/discrim/loss: 0.65211\n",
      "\u001b[32m[1019 22:19:40 @monitor.py:467]\u001b[0m GAN_loss/gen/final-g-loss: 0.97699\n",
      "\u001b[32m[1019 22:19:40 @monitor.py:467]\u001b[0m GAN_loss/gen/klloss: 0.044162\n",
      "\u001b[32m[1019 22:19:40 @monitor.py:467]\u001b[0m GAN_loss/gen/loss: 0.93283\n",
      "\u001b[32m[1019 22:19:40 @monitor.py:467]\u001b[0m QueueInput/queue_size: 50\n",
      "\u001b[32m[1019 22:19:40 @base.py:275]\u001b[0m Start Epoch 636 ...\n"
     ]
    },
    {
     "name": "stderr",
     "output_type": "stream",
     "text": [
      "100%|###################################################################################|175/175[00:05<00:00,29.72it/s]"
     ]
    },
    {
     "name": "stdout",
     "output_type": "stream",
     "text": [
      "\u001b[32m[1019 22:19:46 @base.py:285]\u001b[0m Epoch 636 (global_step 111300) finished, time:5.89 seconds.\n",
      "\u001b[32m[1019 22:19:46 @saver.py:79]\u001b[0m Model saved to ../output/Chicago/DATGAN_05/model\\model-111300.\n",
      "\u001b[32m[1019 22:19:46 @monitor.py:467]\u001b[0m GAN_loss/discrim/accuracy_fake: 0.972\n"
     ]
    },
    {
     "name": "stderr",
     "output_type": "stream",
     "text": [
      "\n"
     ]
    },
    {
     "name": "stdout",
     "output_type": "stream",
     "text": [
      "\u001b[32m[1019 22:19:46 @monitor.py:467]\u001b[0m GAN_loss/discrim/accuracy_real: 0.058\n",
      "\u001b[32m[1019 22:19:46 @monitor.py:467]\u001b[0m GAN_loss/discrim/loss: 0.64547\n",
      "\u001b[32m[1019 22:19:46 @monitor.py:467]\u001b[0m GAN_loss/gen/final-g-loss: 1.0134\n",
      "\u001b[32m[1019 22:19:46 @monitor.py:467]\u001b[0m GAN_loss/gen/klloss: 0.066626\n",
      "\u001b[32m[1019 22:19:46 @monitor.py:467]\u001b[0m GAN_loss/gen/loss: 0.94682\n",
      "\u001b[32m[1019 22:19:46 @monitor.py:467]\u001b[0m QueueInput/queue_size: 50\n",
      "\u001b[32m[1019 22:19:46 @base.py:275]\u001b[0m Start Epoch 637 ...\n"
     ]
    },
    {
     "name": "stderr",
     "output_type": "stream",
     "text": [
      "100%|###################################################################################|175/175[00:05<00:00,29.80it/s]"
     ]
    },
    {
     "name": "stdout",
     "output_type": "stream",
     "text": [
      "\u001b[32m[1019 22:19:52 @base.py:285]\u001b[0m Epoch 637 (global_step 111475) finished, time:5.87 seconds.\n",
      "\u001b[32m[1019 22:19:52 @saver.py:79]\u001b[0m Model saved to ../output/Chicago/DATGAN_05/model\\model-111475.\n"
     ]
    },
    {
     "name": "stderr",
     "output_type": "stream",
     "text": [
      "\n"
     ]
    },
    {
     "name": "stdout",
     "output_type": "stream",
     "text": [
      "\u001b[32m[1019 22:19:52 @monitor.py:467]\u001b[0m GAN_loss/discrim/accuracy_fake: 0.978\n",
      "\u001b[32m[1019 22:19:52 @monitor.py:467]\u001b[0m GAN_loss/discrim/accuracy_real: 0.046\n",
      "\u001b[32m[1019 22:19:52 @monitor.py:467]\u001b[0m GAN_loss/discrim/loss: 0.65375\n",
      "\u001b[32m[1019 22:19:52 @monitor.py:467]\u001b[0m GAN_loss/gen/final-g-loss: 0.97505\n",
      "\u001b[32m[1019 22:19:52 @monitor.py:467]\u001b[0m GAN_loss/gen/klloss: 0.040836\n",
      "\u001b[32m[1019 22:19:52 @monitor.py:467]\u001b[0m GAN_loss/gen/loss: 0.93422\n",
      "\u001b[32m[1019 22:19:52 @monitor.py:467]\u001b[0m QueueInput/queue_size: 50\n",
      "\u001b[32m[1019 22:19:52 @base.py:275]\u001b[0m Start Epoch 638 ...\n"
     ]
    },
    {
     "name": "stderr",
     "output_type": "stream",
     "text": [
      "100%|###################################################################################|175/175[00:05<00:00,29.80it/s]"
     ]
    },
    {
     "name": "stdout",
     "output_type": "stream",
     "text": [
      "\u001b[32m[1019 22:19:58 @base.py:285]\u001b[0m Epoch 638 (global_step 111650) finished, time:5.87 seconds.\n",
      "\u001b[32m[1019 22:19:58 @saver.py:79]\u001b[0m Model saved to ../output/Chicago/DATGAN_05/model\\model-111650.\n"
     ]
    },
    {
     "name": "stderr",
     "output_type": "stream",
     "text": [
      "\n"
     ]
    },
    {
     "name": "stdout",
     "output_type": "stream",
     "text": [
      "\u001b[32m[1019 22:19:59 @monitor.py:467]\u001b[0m GAN_loss/discrim/accuracy_fake: 0.97\n",
      "\u001b[32m[1019 22:19:59 @monitor.py:467]\u001b[0m GAN_loss/discrim/accuracy_real: 0.044\n",
      "\u001b[32m[1019 22:19:59 @monitor.py:467]\u001b[0m GAN_loss/discrim/loss: 0.65443\n",
      "\u001b[32m[1019 22:19:59 @monitor.py:467]\u001b[0m GAN_loss/gen/final-g-loss: 0.99139\n",
      "\u001b[32m[1019 22:19:59 @monitor.py:467]\u001b[0m GAN_loss/gen/klloss: 0.063839\n",
      "\u001b[32m[1019 22:19:59 @monitor.py:467]\u001b[0m GAN_loss/gen/loss: 0.92755\n",
      "\u001b[32m[1019 22:19:59 @monitor.py:467]\u001b[0m QueueInput/queue_size: 50\n",
      "\u001b[32m[1019 22:19:59 @base.py:275]\u001b[0m Start Epoch 639 ...\n"
     ]
    },
    {
     "name": "stderr",
     "output_type": "stream",
     "text": [
      "100%|###################################################################################|175/175[00:06<00:00,28.76it/s]"
     ]
    },
    {
     "name": "stdout",
     "output_type": "stream",
     "text": [
      "\u001b[32m[1019 22:20:05 @base.py:285]\u001b[0m Epoch 639 (global_step 111825) finished, time:6.09 seconds.\n",
      "\u001b[32m[1019 22:20:05 @saver.py:79]\u001b[0m Model saved to ../output/Chicago/DATGAN_05/model\\model-111825.\n",
      "\u001b[32m[1019 22:20:05 @monitor.py:467]\u001b[0m GAN_loss/discrim/accuracy_fake: 0.976\n"
     ]
    },
    {
     "name": "stderr",
     "output_type": "stream",
     "text": [
      "\n"
     ]
    },
    {
     "name": "stdout",
     "output_type": "stream",
     "text": [
      "\u001b[32m[1019 22:20:05 @monitor.py:467]\u001b[0m GAN_loss/discrim/accuracy_real: 0.056\n",
      "\u001b[32m[1019 22:20:05 @monitor.py:467]\u001b[0m GAN_loss/discrim/loss: 0.64959\n",
      "\u001b[32m[1019 22:20:05 @monitor.py:467]\u001b[0m GAN_loss/gen/final-g-loss: 0.99273\n",
      "\u001b[32m[1019 22:20:05 @monitor.py:467]\u001b[0m GAN_loss/gen/klloss: 0.053611\n",
      "\u001b[32m[1019 22:20:05 @monitor.py:467]\u001b[0m GAN_loss/gen/loss: 0.93912\n",
      "\u001b[32m[1019 22:20:05 @monitor.py:467]\u001b[0m QueueInput/queue_size: 50\n",
      "\u001b[32m[1019 22:20:05 @base.py:275]\u001b[0m Start Epoch 640 ...\n"
     ]
    },
    {
     "name": "stderr",
     "output_type": "stream",
     "text": [
      "100%|###################################################################################|175/175[00:05<00:00,29.69it/s]"
     ]
    },
    {
     "name": "stdout",
     "output_type": "stream",
     "text": [
      "\u001b[32m[1019 22:20:11 @base.py:285]\u001b[0m Epoch 640 (global_step 112000) finished, time:5.89 seconds.\n",
      "\u001b[32m[1019 22:20:11 @saver.py:79]\u001b[0m Model saved to ../output/Chicago/DATGAN_05/model\\model-112000.\n"
     ]
    },
    {
     "name": "stderr",
     "output_type": "stream",
     "text": [
      "\n"
     ]
    },
    {
     "name": "stdout",
     "output_type": "stream",
     "text": [
      "\u001b[32m[1019 22:20:11 @monitor.py:467]\u001b[0m GAN_loss/discrim/accuracy_fake: 0.98\n",
      "\u001b[32m[1019 22:20:11 @monitor.py:467]\u001b[0m GAN_loss/discrim/accuracy_real: 0.038\n",
      "\u001b[32m[1019 22:20:11 @monitor.py:467]\u001b[0m GAN_loss/discrim/loss: 0.64966\n",
      "\u001b[32m[1019 22:20:11 @monitor.py:467]\u001b[0m GAN_loss/gen/final-g-loss: 0.99494\n",
      "\u001b[32m[1019 22:20:11 @monitor.py:467]\u001b[0m GAN_loss/gen/klloss: 0.054554\n",
      "\u001b[32m[1019 22:20:11 @monitor.py:467]\u001b[0m GAN_loss/gen/loss: 0.94039\n",
      "\u001b[32m[1019 22:20:11 @monitor.py:467]\u001b[0m QueueInput/queue_size: 50\n",
      "\u001b[32m[1019 22:20:11 @base.py:275]\u001b[0m Start Epoch 641 ...\n"
     ]
    },
    {
     "name": "stderr",
     "output_type": "stream",
     "text": [
      "100%|###################################################################################|175/175[00:05<00:00,29.74it/s]"
     ]
    },
    {
     "name": "stdout",
     "output_type": "stream",
     "text": [
      "\u001b[32m[1019 22:20:17 @base.py:285]\u001b[0m Epoch 641 (global_step 112175) finished, time:5.88 seconds.\n",
      "\u001b[32m[1019 22:20:17 @saver.py:79]\u001b[0m Model saved to ../output/Chicago/DATGAN_05/model\\model-112175.\n"
     ]
    },
    {
     "name": "stderr",
     "output_type": "stream",
     "text": [
      "\n"
     ]
    },
    {
     "name": "stdout",
     "output_type": "stream",
     "text": [
      "\u001b[32m[1019 22:20:17 @monitor.py:467]\u001b[0m GAN_loss/discrim/accuracy_fake: 0.96\n",
      "\u001b[32m[1019 22:20:17 @monitor.py:467]\u001b[0m GAN_loss/discrim/accuracy_real: 0.042\n",
      "\u001b[32m[1019 22:20:17 @monitor.py:467]\u001b[0m GAN_loss/discrim/loss: 0.64935\n",
      "\u001b[32m[1019 22:20:17 @monitor.py:467]\u001b[0m GAN_loss/gen/final-g-loss: 0.99682\n",
      "\u001b[32m[1019 22:20:17 @monitor.py:467]\u001b[0m GAN_loss/gen/klloss: 0.057149\n",
      "\u001b[32m[1019 22:20:17 @monitor.py:467]\u001b[0m GAN_loss/gen/loss: 0.93967\n",
      "\u001b[32m[1019 22:20:17 @monitor.py:467]\u001b[0m QueueInput/queue_size: 50\n",
      "\u001b[32m[1019 22:20:17 @base.py:275]\u001b[0m Start Epoch 642 ...\n"
     ]
    },
    {
     "name": "stderr",
     "output_type": "stream",
     "text": [
      "100%|###################################################################################|175/175[00:05<00:00,29.79it/s]"
     ]
    },
    {
     "name": "stdout",
     "output_type": "stream",
     "text": [
      "\u001b[32m[1019 22:20:23 @base.py:285]\u001b[0m Epoch 642 (global_step 112350) finished, time:5.87 seconds.\n",
      "\u001b[32m[1019 22:20:23 @saver.py:79]\u001b[0m Model saved to ../output/Chicago/DATGAN_05/model\\model-112350.\n"
     ]
    },
    {
     "name": "stderr",
     "output_type": "stream",
     "text": [
      "\n"
     ]
    },
    {
     "name": "stdout",
     "output_type": "stream",
     "text": [
      "\u001b[32m[1019 22:20:23 @monitor.py:467]\u001b[0m GAN_loss/discrim/accuracy_fake: 0.974\n",
      "\u001b[32m[1019 22:20:23 @monitor.py:467]\u001b[0m GAN_loss/discrim/accuracy_real: 0.052\n",
      "\u001b[32m[1019 22:20:23 @monitor.py:467]\u001b[0m GAN_loss/discrim/loss: 0.64788\n",
      "\u001b[32m[1019 22:20:23 @monitor.py:467]\u001b[0m GAN_loss/gen/final-g-loss: 0.99476\n",
      "\u001b[32m[1019 22:20:23 @monitor.py:467]\u001b[0m GAN_loss/gen/klloss: 0.05514\n",
      "\u001b[32m[1019 22:20:23 @monitor.py:467]\u001b[0m GAN_loss/gen/loss: 0.93962\n",
      "\u001b[32m[1019 22:20:23 @monitor.py:467]\u001b[0m QueueInput/queue_size: 50\n",
      "\u001b[32m[1019 22:20:23 @base.py:275]\u001b[0m Start Epoch 643 ...\n"
     ]
    },
    {
     "name": "stderr",
     "output_type": "stream",
     "text": [
      "100%|###################################################################################|175/175[00:05<00:00,29.43it/s]"
     ]
    },
    {
     "name": "stdout",
     "output_type": "stream",
     "text": [
      "\u001b[32m[1019 22:20:29 @base.py:285]\u001b[0m Epoch 643 (global_step 112525) finished, time:5.95 seconds.\n",
      "\u001b[32m[1019 22:20:29 @saver.py:79]\u001b[0m Model saved to ../output/Chicago/DATGAN_05/model\\model-112525.\n"
     ]
    },
    {
     "name": "stderr",
     "output_type": "stream",
     "text": [
      "\n"
     ]
    },
    {
     "name": "stdout",
     "output_type": "stream",
     "text": [
      "\u001b[32m[1019 22:20:29 @monitor.py:467]\u001b[0m GAN_loss/discrim/accuracy_fake: 0.966\n",
      "\u001b[32m[1019 22:20:29 @monitor.py:467]\u001b[0m GAN_loss/discrim/accuracy_real: 0.054\n",
      "\u001b[32m[1019 22:20:29 @monitor.py:467]\u001b[0m GAN_loss/discrim/loss: 0.64596\n",
      "\u001b[32m[1019 22:20:29 @monitor.py:467]\u001b[0m GAN_loss/gen/final-g-loss: 0.99822\n",
      "\u001b[32m[1019 22:20:29 @monitor.py:467]\u001b[0m GAN_loss/gen/klloss: 0.053585\n",
      "\u001b[32m[1019 22:20:29 @monitor.py:467]\u001b[0m GAN_loss/gen/loss: 0.94464\n",
      "\u001b[32m[1019 22:20:29 @monitor.py:467]\u001b[0m QueueInput/queue_size: 50\n",
      "\u001b[32m[1019 22:20:29 @base.py:275]\u001b[0m Start Epoch 644 ...\n"
     ]
    },
    {
     "name": "stderr",
     "output_type": "stream",
     "text": [
      "100%|###################################################################################|175/175[00:06<00:00,28.70it/s]"
     ]
    },
    {
     "name": "stdout",
     "output_type": "stream",
     "text": [
      "\u001b[32m[1019 22:20:35 @base.py:285]\u001b[0m Epoch 644 (global_step 112700) finished, time:6.1 seconds.\n",
      "\u001b[32m[1019 22:20:35 @saver.py:79]\u001b[0m Model saved to ../output/Chicago/DATGAN_05/model\\model-112700.\n"
     ]
    },
    {
     "name": "stderr",
     "output_type": "stream",
     "text": [
      "\n"
     ]
    },
    {
     "name": "stdout",
     "output_type": "stream",
     "text": [
      "\u001b[32m[1019 22:20:36 @monitor.py:467]\u001b[0m GAN_loss/discrim/accuracy_fake: 0.974\n",
      "\u001b[32m[1019 22:20:36 @monitor.py:467]\u001b[0m GAN_loss/discrim/accuracy_real: 0.056\n",
      "\u001b[32m[1019 22:20:36 @monitor.py:467]\u001b[0m GAN_loss/discrim/loss: 0.64976\n",
      "\u001b[32m[1019 22:20:36 @monitor.py:467]\u001b[0m GAN_loss/gen/final-g-loss: 1.0008\n",
      "\u001b[32m[1019 22:20:36 @monitor.py:467]\u001b[0m GAN_loss/gen/klloss: 0.059586\n",
      "\u001b[32m[1019 22:20:36 @monitor.py:467]\u001b[0m GAN_loss/gen/loss: 0.94121\n",
      "\u001b[32m[1019 22:20:36 @monitor.py:467]\u001b[0m QueueInput/queue_size: 50\n",
      "\u001b[32m[1019 22:20:36 @base.py:275]\u001b[0m Start Epoch 645 ...\n"
     ]
    },
    {
     "name": "stderr",
     "output_type": "stream",
     "text": [
      "100%|###################################################################################|175/175[00:05<00:00,29.49it/s]"
     ]
    },
    {
     "name": "stdout",
     "output_type": "stream",
     "text": [
      "\u001b[32m[1019 22:20:41 @base.py:285]\u001b[0m Epoch 645 (global_step 112875) finished, time:5.94 seconds.\n",
      "\u001b[32m[1019 22:20:42 @saver.py:79]\u001b[0m Model saved to ../output/Chicago/DATGAN_05/model\\model-112875.\n",
      "\u001b[32m[1019 22:20:42 @monitor.py:467]\u001b[0m GAN_loss/discrim/accuracy_fake: 0.976\n"
     ]
    },
    {
     "name": "stderr",
     "output_type": "stream",
     "text": [
      "\n"
     ]
    },
    {
     "name": "stdout",
     "output_type": "stream",
     "text": [
      "\u001b[32m[1019 22:20:42 @monitor.py:467]\u001b[0m GAN_loss/discrim/accuracy_real: 0.06\n",
      "\u001b[32m[1019 22:20:42 @monitor.py:467]\u001b[0m GAN_loss/discrim/loss: 0.64636\n",
      "\u001b[32m[1019 22:20:42 @monitor.py:467]\u001b[0m GAN_loss/gen/final-g-loss: 0.99888\n",
      "\u001b[32m[1019 22:20:42 @monitor.py:467]\u001b[0m GAN_loss/gen/klloss: 0.052845\n",
      "\u001b[32m[1019 22:20:42 @monitor.py:467]\u001b[0m GAN_loss/gen/loss: 0.94604\n",
      "\u001b[32m[1019 22:20:42 @monitor.py:467]\u001b[0m QueueInput/queue_size: 50\n",
      "\u001b[32m[1019 22:20:42 @base.py:275]\u001b[0m Start Epoch 646 ...\n"
     ]
    },
    {
     "name": "stderr",
     "output_type": "stream",
     "text": [
      "100%|###################################################################################|175/175[00:06<00:00,28.97it/s]"
     ]
    },
    {
     "name": "stdout",
     "output_type": "stream",
     "text": [
      "\u001b[32m[1019 22:20:48 @base.py:285]\u001b[0m Epoch 646 (global_step 113050) finished, time:6.04 seconds.\n",
      "\u001b[32m[1019 22:20:48 @saver.py:79]\u001b[0m Model saved to ../output/Chicago/DATGAN_05/model\\model-113050.\n"
     ]
    },
    {
     "name": "stderr",
     "output_type": "stream",
     "text": [
      "\n"
     ]
    },
    {
     "name": "stdout",
     "output_type": "stream",
     "text": [
      "\u001b[32m[1019 22:20:48 @monitor.py:467]\u001b[0m GAN_loss/discrim/accuracy_fake: 0.966\n",
      "\u001b[32m[1019 22:20:48 @monitor.py:467]\u001b[0m GAN_loss/discrim/accuracy_real: 0.05\n",
      "\u001b[32m[1019 22:20:48 @monitor.py:467]\u001b[0m GAN_loss/discrim/loss: 0.6478\n",
      "\u001b[32m[1019 22:20:48 @monitor.py:467]\u001b[0m GAN_loss/gen/final-g-loss: 0.99756\n",
      "\u001b[32m[1019 22:20:48 @monitor.py:467]\u001b[0m GAN_loss/gen/klloss: 0.056466\n",
      "\u001b[32m[1019 22:20:48 @monitor.py:467]\u001b[0m GAN_loss/gen/loss: 0.9411\n",
      "\u001b[32m[1019 22:20:48 @monitor.py:467]\u001b[0m QueueInput/queue_size: 50\n",
      "\u001b[32m[1019 22:20:48 @base.py:275]\u001b[0m Start Epoch 647 ...\n"
     ]
    },
    {
     "name": "stderr",
     "output_type": "stream",
     "text": [
      "100%|###################################################################################|175/175[00:05<00:00,29.20it/s]"
     ]
    },
    {
     "name": "stdout",
     "output_type": "stream",
     "text": [
      "\u001b[32m[1019 22:20:54 @base.py:285]\u001b[0m Epoch 647 (global_step 113225) finished, time:5.99 seconds.\n",
      "\u001b[32m[1019 22:20:54 @saver.py:79]\u001b[0m Model saved to ../output/Chicago/DATGAN_05/model\\model-113225.\n"
     ]
    },
    {
     "name": "stderr",
     "output_type": "stream",
     "text": [
      "\n"
     ]
    },
    {
     "name": "stdout",
     "output_type": "stream",
     "text": [
      "\u001b[32m[1019 22:20:54 @monitor.py:467]\u001b[0m GAN_loss/discrim/accuracy_fake: 0.968\n",
      "\u001b[32m[1019 22:20:54 @monitor.py:467]\u001b[0m GAN_loss/discrim/accuracy_real: 0.04\n",
      "\u001b[32m[1019 22:20:54 @monitor.py:467]\u001b[0m GAN_loss/discrim/loss: 0.64822\n",
      "\u001b[32m[1019 22:20:54 @monitor.py:467]\u001b[0m GAN_loss/gen/final-g-loss: 1.0014\n",
      "\u001b[32m[1019 22:20:54 @monitor.py:467]\u001b[0m GAN_loss/gen/klloss: 0.060508\n",
      "\u001b[32m[1019 22:20:54 @monitor.py:467]\u001b[0m GAN_loss/gen/loss: 0.94093\n",
      "\u001b[32m[1019 22:20:54 @monitor.py:467]\u001b[0m QueueInput/queue_size: 50\n",
      "\u001b[32m[1019 22:20:54 @base.py:275]\u001b[0m Start Epoch 648 ...\n"
     ]
    },
    {
     "name": "stderr",
     "output_type": "stream",
     "text": [
      "100%|###################################################################################|175/175[00:05<00:00,29.37it/s]"
     ]
    },
    {
     "name": "stdout",
     "output_type": "stream",
     "text": [
      "\u001b[32m[1019 22:21:00 @base.py:285]\u001b[0m Epoch 648 (global_step 113400) finished, time:5.96 seconds.\n",
      "\u001b[32m[1019 22:21:00 @saver.py:79]\u001b[0m Model saved to ../output/Chicago/DATGAN_05/model\\model-113400.\n"
     ]
    },
    {
     "name": "stderr",
     "output_type": "stream",
     "text": [
      "\n"
     ]
    },
    {
     "name": "stdout",
     "output_type": "stream",
     "text": [
      "\u001b[32m[1019 22:21:00 @monitor.py:467]\u001b[0m GAN_loss/discrim/accuracy_fake: 0.964\n",
      "\u001b[32m[1019 22:21:00 @monitor.py:467]\u001b[0m GAN_loss/discrim/accuracy_real: 0.048\n",
      "\u001b[32m[1019 22:21:00 @monitor.py:467]\u001b[0m GAN_loss/discrim/loss: 0.65305\n",
      "\u001b[32m[1019 22:21:00 @monitor.py:467]\u001b[0m GAN_loss/gen/final-g-loss: 1.0049\n",
      "\u001b[32m[1019 22:21:00 @monitor.py:467]\u001b[0m GAN_loss/gen/klloss: 0.067015\n",
      "\u001b[32m[1019 22:21:00 @monitor.py:467]\u001b[0m GAN_loss/gen/loss: 0.93792\n",
      "\u001b[32m[1019 22:21:00 @monitor.py:467]\u001b[0m QueueInput/queue_size: 50\n",
      "\u001b[32m[1019 22:21:00 @base.py:275]\u001b[0m Start Epoch 649 ...\n"
     ]
    },
    {
     "name": "stderr",
     "output_type": "stream",
     "text": [
      "100%|###################################################################################|175/175[00:06<00:00,27.54it/s]"
     ]
    },
    {
     "name": "stdout",
     "output_type": "stream",
     "text": [
      "\u001b[32m[1019 22:21:07 @base.py:285]\u001b[0m Epoch 649 (global_step 113575) finished, time:6.36 seconds.\n",
      "\u001b[32m[1019 22:21:07 @saver.py:79]\u001b[0m Model saved to ../output/Chicago/DATGAN_05/model\\model-113575.\n"
     ]
    },
    {
     "name": "stderr",
     "output_type": "stream",
     "text": [
      "\n"
     ]
    },
    {
     "name": "stdout",
     "output_type": "stream",
     "text": [
      "\u001b[32m[1019 22:21:07 @monitor.py:467]\u001b[0m GAN_loss/discrim/accuracy_fake: 0.974\n",
      "\u001b[32m[1019 22:21:07 @monitor.py:467]\u001b[0m GAN_loss/discrim/accuracy_real: 0.054\n",
      "\u001b[32m[1019 22:21:07 @monitor.py:467]\u001b[0m GAN_loss/discrim/loss: 0.65073\n",
      "\u001b[32m[1019 22:21:07 @monitor.py:467]\u001b[0m GAN_loss/gen/final-g-loss: 0.99685\n",
      "\u001b[32m[1019 22:21:07 @monitor.py:467]\u001b[0m GAN_loss/gen/klloss: 0.056227\n",
      "\u001b[32m[1019 22:21:07 @monitor.py:467]\u001b[0m GAN_loss/gen/loss: 0.94063\n",
      "\u001b[32m[1019 22:21:07 @monitor.py:467]\u001b[0m QueueInput/queue_size: 50\n",
      "\u001b[32m[1019 22:21:07 @base.py:275]\u001b[0m Start Epoch 650 ...\n"
     ]
    },
    {
     "name": "stderr",
     "output_type": "stream",
     "text": [
      "100%|###################################################################################|175/175[00:06<00:00,28.74it/s]"
     ]
    },
    {
     "name": "stdout",
     "output_type": "stream",
     "text": [
      "\u001b[32m[1019 22:21:13 @base.py:285]\u001b[0m Epoch 650 (global_step 113750) finished, time:6.09 seconds.\n",
      "\u001b[32m[1019 22:21:13 @saver.py:79]\u001b[0m Model saved to ../output/Chicago/DATGAN_05/model\\model-113750.\n",
      "\u001b[32m[1019 22:21:13 @monitor.py:467]\u001b[0m GAN_loss/discrim/accuracy_fake: 0.976\n"
     ]
    },
    {
     "name": "stderr",
     "output_type": "stream",
     "text": [
      "\n"
     ]
    },
    {
     "name": "stdout",
     "output_type": "stream",
     "text": [
      "\u001b[32m[1019 22:21:13 @monitor.py:467]\u001b[0m GAN_loss/discrim/accuracy_real: 0.038\n",
      "\u001b[32m[1019 22:21:13 @monitor.py:467]\u001b[0m GAN_loss/discrim/loss: 0.6496\n",
      "\u001b[32m[1019 22:21:13 @monitor.py:467]\u001b[0m GAN_loss/gen/final-g-loss: 0.9979\n",
      "\u001b[32m[1019 22:21:13 @monitor.py:467]\u001b[0m GAN_loss/gen/klloss: 0.061606\n",
      "\u001b[32m[1019 22:21:13 @monitor.py:467]\u001b[0m GAN_loss/gen/loss: 0.93629\n",
      "\u001b[32m[1019 22:21:13 @monitor.py:467]\u001b[0m QueueInput/queue_size: 50\n",
      "\u001b[32m[1019 22:21:13 @base.py:275]\u001b[0m Start Epoch 651 ...\n"
     ]
    },
    {
     "name": "stderr",
     "output_type": "stream",
     "text": [
      "100%|###################################################################################|175/175[00:05<00:00,29.22it/s]"
     ]
    },
    {
     "name": "stdout",
     "output_type": "stream",
     "text": [
      "\u001b[32m[1019 22:21:19 @base.py:285]\u001b[0m Epoch 651 (global_step 113925) finished, time:5.99 seconds.\n",
      "\u001b[32m[1019 22:21:19 @saver.py:79]\u001b[0m Model saved to ../output/Chicago/DATGAN_05/model\\model-113925.\n"
     ]
    },
    {
     "name": "stderr",
     "output_type": "stream",
     "text": [
      "\n"
     ]
    },
    {
     "name": "stdout",
     "output_type": "stream",
     "text": [
      "\u001b[32m[1019 22:21:19 @monitor.py:467]\u001b[0m GAN_loss/discrim/accuracy_fake: 0.974\n",
      "\u001b[32m[1019 22:21:19 @monitor.py:467]\u001b[0m GAN_loss/discrim/accuracy_real: 0.054\n",
      "\u001b[32m[1019 22:21:19 @monitor.py:467]\u001b[0m GAN_loss/discrim/loss: 0.65212\n",
      "\u001b[32m[1019 22:21:19 @monitor.py:467]\u001b[0m GAN_loss/gen/final-g-loss: 0.9924\n",
      "\u001b[32m[1019 22:21:19 @monitor.py:467]\u001b[0m GAN_loss/gen/klloss: 0.055694\n",
      "\u001b[32m[1019 22:21:19 @monitor.py:467]\u001b[0m GAN_loss/gen/loss: 0.93671\n",
      "\u001b[32m[1019 22:21:19 @monitor.py:467]\u001b[0m QueueInput/queue_size: 50\n",
      "\u001b[32m[1019 22:21:19 @base.py:275]\u001b[0m Start Epoch 652 ...\n"
     ]
    },
    {
     "name": "stderr",
     "output_type": "stream",
     "text": [
      "100%|###################################################################################|175/175[00:06<00:00,29.02it/s]"
     ]
    },
    {
     "name": "stdout",
     "output_type": "stream",
     "text": [
      "\u001b[32m[1019 22:21:25 @base.py:285]\u001b[0m Epoch 652 (global_step 114100) finished, time:6.03 seconds.\n",
      "\u001b[32m[1019 22:21:25 @saver.py:79]\u001b[0m Model saved to ../output/Chicago/DATGAN_05/model\\model-114100.\n"
     ]
    },
    {
     "name": "stderr",
     "output_type": "stream",
     "text": [
      "\n"
     ]
    },
    {
     "name": "stdout",
     "output_type": "stream",
     "text": [
      "\u001b[32m[1019 22:21:26 @monitor.py:467]\u001b[0m GAN_loss/discrim/accuracy_fake: 0.974\n",
      "\u001b[32m[1019 22:21:26 @monitor.py:467]\u001b[0m GAN_loss/discrim/accuracy_real: 0.044\n",
      "\u001b[32m[1019 22:21:26 @monitor.py:467]\u001b[0m GAN_loss/discrim/loss: 0.64807\n",
      "\u001b[32m[1019 22:21:26 @monitor.py:467]\u001b[0m GAN_loss/gen/final-g-loss: 1.0096\n",
      "\u001b[32m[1019 22:21:26 @monitor.py:467]\u001b[0m GAN_loss/gen/klloss: 0.058466\n",
      "\u001b[32m[1019 22:21:26 @monitor.py:467]\u001b[0m GAN_loss/gen/loss: 0.95118\n",
      "\u001b[32m[1019 22:21:26 @monitor.py:467]\u001b[0m QueueInput/queue_size: 50\n",
      "\u001b[32m[1019 22:21:26 @base.py:275]\u001b[0m Start Epoch 653 ...\n"
     ]
    },
    {
     "name": "stderr",
     "output_type": "stream",
     "text": [
      "100%|###################################################################################|175/175[00:06<00:00,27.86it/s]"
     ]
    },
    {
     "name": "stdout",
     "output_type": "stream",
     "text": [
      "\u001b[32m[1019 22:21:32 @base.py:285]\u001b[0m Epoch 653 (global_step 114275) finished, time:6.28 seconds.\n",
      "\u001b[32m[1019 22:21:32 @saver.py:79]\u001b[0m Model saved to ../output/Chicago/DATGAN_05/model\\model-114275.\n"
     ]
    },
    {
     "name": "stderr",
     "output_type": "stream",
     "text": [
      "\n"
     ]
    },
    {
     "name": "stdout",
     "output_type": "stream",
     "text": [
      "\u001b[32m[1019 22:21:32 @monitor.py:467]\u001b[0m GAN_loss/discrim/accuracy_fake: 0.956\n",
      "\u001b[32m[1019 22:21:32 @monitor.py:467]\u001b[0m GAN_loss/discrim/accuracy_real: 0.054\n",
      "\u001b[32m[1019 22:21:32 @monitor.py:467]\u001b[0m GAN_loss/discrim/loss: 0.65221\n",
      "\u001b[32m[1019 22:21:32 @monitor.py:467]\u001b[0m GAN_loss/gen/final-g-loss: 0.99823\n",
      "\u001b[32m[1019 22:21:32 @monitor.py:467]\u001b[0m GAN_loss/gen/klloss: 0.066972\n",
      "\u001b[32m[1019 22:21:32 @monitor.py:467]\u001b[0m GAN_loss/gen/loss: 0.93126\n",
      "\u001b[32m[1019 22:21:32 @monitor.py:467]\u001b[0m QueueInput/queue_size: 50\n",
      "\u001b[32m[1019 22:21:32 @base.py:275]\u001b[0m Start Epoch 654 ...\n"
     ]
    },
    {
     "name": "stderr",
     "output_type": "stream",
     "text": [
      "100%|###################################################################################|175/175[00:06<00:00,28.13it/s]"
     ]
    },
    {
     "name": "stdout",
     "output_type": "stream",
     "text": [
      "\u001b[32m[1019 22:21:38 @base.py:285]\u001b[0m Epoch 654 (global_step 114450) finished, time:6.22 seconds.\n",
      "\u001b[32m[1019 22:21:38 @saver.py:79]\u001b[0m Model saved to ../output/Chicago/DATGAN_05/model\\model-114450.\n"
     ]
    },
    {
     "name": "stderr",
     "output_type": "stream",
     "text": [
      "\n"
     ]
    },
    {
     "name": "stdout",
     "output_type": "stream",
     "text": [
      "\u001b[32m[1019 22:21:38 @monitor.py:467]\u001b[0m GAN_loss/discrim/accuracy_fake: 0.974\n",
      "\u001b[32m[1019 22:21:38 @monitor.py:467]\u001b[0m GAN_loss/discrim/accuracy_real: 0.052\n",
      "\u001b[32m[1019 22:21:38 @monitor.py:467]\u001b[0m GAN_loss/discrim/loss: 0.64916\n",
      "\u001b[32m[1019 22:21:38 @monitor.py:467]\u001b[0m GAN_loss/gen/final-g-loss: 1.003\n",
      "\u001b[32m[1019 22:21:38 @monitor.py:467]\u001b[0m GAN_loss/gen/klloss: 0.060835\n",
      "\u001b[32m[1019 22:21:38 @monitor.py:467]\u001b[0m GAN_loss/gen/loss: 0.9422\n",
      "\u001b[32m[1019 22:21:38 @monitor.py:467]\u001b[0m QueueInput/queue_size: 50\n",
      "\u001b[32m[1019 22:21:38 @base.py:275]\u001b[0m Start Epoch 655 ...\n"
     ]
    },
    {
     "name": "stderr",
     "output_type": "stream",
     "text": [
      "100%|###################################################################################|175/175[00:06<00:00,28.90it/s]"
     ]
    },
    {
     "name": "stdout",
     "output_type": "stream",
     "text": [
      "\u001b[32m[1019 22:21:45 @base.py:285]\u001b[0m Epoch 655 (global_step 114625) finished, time:6.06 seconds.\n",
      "\u001b[32m[1019 22:21:45 @saver.py:79]\u001b[0m Model saved to ../output/Chicago/DATGAN_05/model\\model-114625.\n",
      "\u001b[32m[1019 22:21:45 @monitor.py:467]\u001b[0m GAN_loss/discrim/accuracy_fake: 0.988\n"
     ]
    },
    {
     "name": "stderr",
     "output_type": "stream",
     "text": [
      "\n"
     ]
    },
    {
     "name": "stdout",
     "output_type": "stream",
     "text": [
      "\u001b[32m[1019 22:21:45 @monitor.py:467]\u001b[0m GAN_loss/discrim/accuracy_real: 0.028\n",
      "\u001b[32m[1019 22:21:45 @monitor.py:467]\u001b[0m GAN_loss/discrim/loss: 0.65007\n",
      "\u001b[32m[1019 22:21:45 @monitor.py:467]\u001b[0m GAN_loss/gen/final-g-loss: 0.99735\n",
      "\u001b[32m[1019 22:21:45 @monitor.py:467]\u001b[0m GAN_loss/gen/klloss: 0.056726\n",
      "\u001b[32m[1019 22:21:45 @monitor.py:467]\u001b[0m GAN_loss/gen/loss: 0.94063\n",
      "\u001b[32m[1019 22:21:45 @monitor.py:467]\u001b[0m QueueInput/queue_size: 50\n",
      "\u001b[32m[1019 22:21:45 @base.py:275]\u001b[0m Start Epoch 656 ...\n"
     ]
    },
    {
     "name": "stderr",
     "output_type": "stream",
     "text": [
      "100%|###################################################################################|175/175[00:05<00:00,29.84it/s]"
     ]
    },
    {
     "name": "stdout",
     "output_type": "stream",
     "text": [
      "\u001b[32m[1019 22:21:51 @base.py:285]\u001b[0m Epoch 656 (global_step 114800) finished, time:5.87 seconds.\n",
      "\u001b[32m[1019 22:21:51 @saver.py:79]\u001b[0m Model saved to ../output/Chicago/DATGAN_05/model\\model-114800.\n"
     ]
    },
    {
     "name": "stderr",
     "output_type": "stream",
     "text": [
      "\n"
     ]
    },
    {
     "name": "stdout",
     "output_type": "stream",
     "text": [
      "\u001b[32m[1019 22:21:51 @monitor.py:467]\u001b[0m GAN_loss/discrim/accuracy_fake: 0.978\n",
      "\u001b[32m[1019 22:21:51 @monitor.py:467]\u001b[0m GAN_loss/discrim/accuracy_real: 0.048\n",
      "\u001b[32m[1019 22:21:51 @monitor.py:467]\u001b[0m GAN_loss/discrim/loss: 0.65163\n",
      "\u001b[32m[1019 22:21:51 @monitor.py:467]\u001b[0m GAN_loss/gen/final-g-loss: 1.0089\n",
      "\u001b[32m[1019 22:21:51 @monitor.py:467]\u001b[0m GAN_loss/gen/klloss: 0.069782\n",
      "\u001b[32m[1019 22:21:51 @monitor.py:467]\u001b[0m GAN_loss/gen/loss: 0.93912\n",
      "\u001b[32m[1019 22:21:51 @monitor.py:467]\u001b[0m QueueInput/queue_size: 50\n",
      "\u001b[32m[1019 22:21:51 @base.py:275]\u001b[0m Start Epoch 657 ...\n"
     ]
    },
    {
     "name": "stderr",
     "output_type": "stream",
     "text": [
      "100%|###################################################################################|175/175[00:05<00:00,29.56it/s]"
     ]
    },
    {
     "name": "stdout",
     "output_type": "stream",
     "text": [
      "\u001b[32m[1019 22:21:57 @base.py:285]\u001b[0m Epoch 657 (global_step 114975) finished, time:5.92 seconds.\n",
      "\u001b[32m[1019 22:21:57 @saver.py:79]\u001b[0m Model saved to ../output/Chicago/DATGAN_05/model\\model-114975.\n"
     ]
    },
    {
     "name": "stderr",
     "output_type": "stream",
     "text": [
      "\n"
     ]
    },
    {
     "name": "stdout",
     "output_type": "stream",
     "text": [
      "\u001b[32m[1019 22:21:57 @monitor.py:467]\u001b[0m GAN_loss/discrim/accuracy_fake: 0.978\n",
      "\u001b[32m[1019 22:21:57 @monitor.py:467]\u001b[0m GAN_loss/discrim/accuracy_real: 0.044\n",
      "\u001b[32m[1019 22:21:57 @monitor.py:467]\u001b[0m GAN_loss/discrim/loss: 0.64991\n",
      "\u001b[32m[1019 22:21:57 @monitor.py:467]\u001b[0m GAN_loss/gen/final-g-loss: 1.0282\n",
      "\u001b[32m[1019 22:21:57 @monitor.py:467]\u001b[0m GAN_loss/gen/klloss: 0.084635\n",
      "\u001b[32m[1019 22:21:57 @monitor.py:467]\u001b[0m GAN_loss/gen/loss: 0.94353\n",
      "\u001b[32m[1019 22:21:57 @monitor.py:467]\u001b[0m QueueInput/queue_size: 50\n",
      "\u001b[32m[1019 22:21:57 @base.py:275]\u001b[0m Start Epoch 658 ...\n"
     ]
    },
    {
     "name": "stderr",
     "output_type": "stream",
     "text": [
      "100%|###################################################################################|175/175[00:06<00:00,28.06it/s]"
     ]
    },
    {
     "name": "stdout",
     "output_type": "stream",
     "text": [
      "\u001b[32m[1019 22:22:03 @base.py:285]\u001b[0m Epoch 658 (global_step 115150) finished, time:6.24 seconds.\n",
      "\u001b[32m[1019 22:22:03 @saver.py:79]\u001b[0m Model saved to ../output/Chicago/DATGAN_05/model\\model-115150.\n",
      "\u001b[32m[1019 22:22:03 @monitor.py:467]\u001b[0m GAN_loss/discrim/accuracy_fake: 0.972\n"
     ]
    },
    {
     "name": "stderr",
     "output_type": "stream",
     "text": [
      "\n"
     ]
    },
    {
     "name": "stdout",
     "output_type": "stream",
     "text": [
      "\u001b[32m[1019 22:22:03 @monitor.py:467]\u001b[0m GAN_loss/discrim/accuracy_real: 0.05\n",
      "\u001b[32m[1019 22:22:03 @monitor.py:467]\u001b[0m GAN_loss/discrim/loss: 0.65532\n",
      "\u001b[32m[1019 22:22:03 @monitor.py:467]\u001b[0m GAN_loss/gen/final-g-loss: 0.99929\n",
      "\u001b[32m[1019 22:22:03 @monitor.py:467]\u001b[0m GAN_loss/gen/klloss: 0.065514\n",
      "\u001b[32m[1019 22:22:03 @monitor.py:467]\u001b[0m GAN_loss/gen/loss: 0.93377\n",
      "\u001b[32m[1019 22:22:03 @monitor.py:467]\u001b[0m QueueInput/queue_size: 50\n",
      "\u001b[32m[1019 22:22:03 @base.py:275]\u001b[0m Start Epoch 659 ...\n"
     ]
    },
    {
     "name": "stderr",
     "output_type": "stream",
     "text": [
      "100%|###################################################################################|175/175[00:05<00:00,29.67it/s]"
     ]
    },
    {
     "name": "stdout",
     "output_type": "stream",
     "text": [
      "\u001b[32m[1019 22:22:09 @base.py:285]\u001b[0m Epoch 659 (global_step 115325) finished, time:5.9 seconds.\n",
      "\u001b[32m[1019 22:22:09 @saver.py:79]\u001b[0m Model saved to ../output/Chicago/DATGAN_05/model\\model-115325.\n"
     ]
    },
    {
     "name": "stderr",
     "output_type": "stream",
     "text": [
      "\n"
     ]
    },
    {
     "name": "stdout",
     "output_type": "stream",
     "text": [
      "\u001b[32m[1019 22:22:10 @monitor.py:467]\u001b[0m GAN_loss/discrim/accuracy_fake: 0.97\n",
      "\u001b[32m[1019 22:22:10 @monitor.py:467]\u001b[0m GAN_loss/discrim/accuracy_real: 0.058\n",
      "\u001b[32m[1019 22:22:10 @monitor.py:467]\u001b[0m GAN_loss/discrim/loss: 0.64738\n",
      "\u001b[32m[1019 22:22:10 @monitor.py:467]\u001b[0m GAN_loss/gen/final-g-loss: 1.0101\n",
      "\u001b[32m[1019 22:22:10 @monitor.py:467]\u001b[0m GAN_loss/gen/klloss: 0.073954\n",
      "\u001b[32m[1019 22:22:10 @monitor.py:467]\u001b[0m GAN_loss/gen/loss: 0.93616\n",
      "\u001b[32m[1019 22:22:10 @monitor.py:467]\u001b[0m QueueInput/queue_size: 50\n",
      "\u001b[32m[1019 22:22:10 @base.py:275]\u001b[0m Start Epoch 660 ...\n"
     ]
    },
    {
     "name": "stderr",
     "output_type": "stream",
     "text": [
      "100%|###################################################################################|175/175[00:05<00:00,29.67it/s]"
     ]
    },
    {
     "name": "stdout",
     "output_type": "stream",
     "text": [
      "\u001b[32m[1019 22:22:15 @base.py:285]\u001b[0m Epoch 660 (global_step 115500) finished, time:5.9 seconds.\n",
      "\u001b[32m[1019 22:22:16 @saver.py:79]\u001b[0m Model saved to ../output/Chicago/DATGAN_05/model\\model-115500.\n"
     ]
    },
    {
     "name": "stderr",
     "output_type": "stream",
     "text": [
      "\n"
     ]
    },
    {
     "name": "stdout",
     "output_type": "stream",
     "text": [
      "\u001b[32m[1019 22:22:16 @monitor.py:467]\u001b[0m GAN_loss/discrim/accuracy_fake: 0.962\n",
      "\u001b[32m[1019 22:22:16 @monitor.py:467]\u001b[0m GAN_loss/discrim/accuracy_real: 0.034\n",
      "\u001b[32m[1019 22:22:16 @monitor.py:467]\u001b[0m GAN_loss/discrim/loss: 0.64804\n",
      "\u001b[32m[1019 22:22:16 @monitor.py:467]\u001b[0m GAN_loss/gen/final-g-loss: 0.9971\n",
      "\u001b[32m[1019 22:22:16 @monitor.py:467]\u001b[0m GAN_loss/gen/klloss: 0.063949\n",
      "\u001b[32m[1019 22:22:16 @monitor.py:467]\u001b[0m GAN_loss/gen/loss: 0.93315\n",
      "\u001b[32m[1019 22:22:16 @monitor.py:467]\u001b[0m QueueInput/queue_size: 50\n",
      "\u001b[32m[1019 22:22:16 @base.py:275]\u001b[0m Start Epoch 661 ...\n"
     ]
    },
    {
     "name": "stderr",
     "output_type": "stream",
     "text": [
      "100%|###################################################################################|175/175[00:06<00:00,28.68it/s]"
     ]
    },
    {
     "name": "stdout",
     "output_type": "stream",
     "text": [
      "\u001b[32m[1019 22:22:22 @base.py:285]\u001b[0m Epoch 661 (global_step 115675) finished, time:6.1 seconds.\n",
      "\u001b[32m[1019 22:22:22 @saver.py:79]\u001b[0m Model saved to ../output/Chicago/DATGAN_05/model\\model-115675.\n"
     ]
    },
    {
     "name": "stderr",
     "output_type": "stream",
     "text": [
      "\n"
     ]
    },
    {
     "name": "stdout",
     "output_type": "stream",
     "text": [
      "\u001b[32m[1019 22:22:22 @monitor.py:467]\u001b[0m GAN_loss/discrim/accuracy_fake: 0.976\n",
      "\u001b[32m[1019 22:22:22 @monitor.py:467]\u001b[0m GAN_loss/discrim/accuracy_real: 0.06\n",
      "\u001b[32m[1019 22:22:22 @monitor.py:467]\u001b[0m GAN_loss/discrim/loss: 0.64691\n",
      "\u001b[32m[1019 22:22:22 @monitor.py:467]\u001b[0m GAN_loss/gen/final-g-loss: 0.99667\n",
      "\u001b[32m[1019 22:22:22 @monitor.py:467]\u001b[0m GAN_loss/gen/klloss: 0.062658\n",
      "\u001b[32m[1019 22:22:22 @monitor.py:467]\u001b[0m GAN_loss/gen/loss: 0.93402\n",
      "\u001b[32m[1019 22:22:22 @monitor.py:467]\u001b[0m QueueInput/queue_size: 50\n",
      "\u001b[32m[1019 22:22:22 @base.py:275]\u001b[0m Start Epoch 662 ...\n"
     ]
    },
    {
     "name": "stderr",
     "output_type": "stream",
     "text": [
      "100%|###################################################################################|175/175[00:06<00:00,28.44it/s]"
     ]
    },
    {
     "name": "stdout",
     "output_type": "stream",
     "text": [
      "\u001b[32m[1019 22:22:28 @base.py:285]\u001b[0m Epoch 662 (global_step 115850) finished, time:6.15 seconds.\n",
      "\u001b[32m[1019 22:22:28 @saver.py:79]\u001b[0m Model saved to ../output/Chicago/DATGAN_05/model\\model-115850.\n"
     ]
    },
    {
     "name": "stderr",
     "output_type": "stream",
     "text": [
      "\n"
     ]
    },
    {
     "name": "stdout",
     "output_type": "stream",
     "text": [
      "\u001b[32m[1019 22:22:28 @monitor.py:467]\u001b[0m GAN_loss/discrim/accuracy_fake: 0.98\n",
      "\u001b[32m[1019 22:22:28 @monitor.py:467]\u001b[0m GAN_loss/discrim/accuracy_real: 0.05\n",
      "\u001b[32m[1019 22:22:28 @monitor.py:467]\u001b[0m GAN_loss/discrim/loss: 0.64965\n",
      "\u001b[32m[1019 22:22:28 @monitor.py:467]\u001b[0m GAN_loss/gen/final-g-loss: 1.0237\n",
      "\u001b[32m[1019 22:22:28 @monitor.py:467]\u001b[0m GAN_loss/gen/klloss: 0.084111\n",
      "\u001b[32m[1019 22:22:28 @monitor.py:467]\u001b[0m GAN_loss/gen/loss: 0.93963\n",
      "\u001b[32m[1019 22:22:28 @monitor.py:467]\u001b[0m QueueInput/queue_size: 50\n",
      "\u001b[32m[1019 22:22:28 @base.py:275]\u001b[0m Start Epoch 663 ...\n"
     ]
    },
    {
     "name": "stderr",
     "output_type": "stream",
     "text": [
      "100%|###################################################################################|175/175[00:06<00:00,26.37it/s]"
     ]
    },
    {
     "name": "stdout",
     "output_type": "stream",
     "text": [
      "\u001b[32m[1019 22:22:35 @base.py:285]\u001b[0m Epoch 663 (global_step 116025) finished, time:6.64 seconds.\n",
      "\u001b[32m[1019 22:22:35 @saver.py:79]\u001b[0m Model saved to ../output/Chicago/DATGAN_05/model\\model-116025.\n"
     ]
    },
    {
     "name": "stderr",
     "output_type": "stream",
     "text": [
      "\n"
     ]
    },
    {
     "name": "stdout",
     "output_type": "stream",
     "text": [
      "\u001b[32m[1019 22:22:35 @monitor.py:467]\u001b[0m GAN_loss/discrim/accuracy_fake: 0.982\n",
      "\u001b[32m[1019 22:22:35 @monitor.py:467]\u001b[0m GAN_loss/discrim/accuracy_real: 0.048\n",
      "\u001b[32m[1019 22:22:35 @monitor.py:467]\u001b[0m GAN_loss/discrim/loss: 0.64662\n",
      "\u001b[32m[1019 22:22:35 @monitor.py:467]\u001b[0m GAN_loss/gen/final-g-loss: 0.98974\n",
      "\u001b[32m[1019 22:22:35 @monitor.py:467]\u001b[0m GAN_loss/gen/klloss: 0.048366\n",
      "\u001b[32m[1019 22:22:35 @monitor.py:467]\u001b[0m GAN_loss/gen/loss: 0.94138\n",
      "\u001b[32m[1019 22:22:35 @monitor.py:467]\u001b[0m QueueInput/queue_size: 50\n",
      "\u001b[32m[1019 22:22:35 @base.py:275]\u001b[0m Start Epoch 664 ...\n"
     ]
    },
    {
     "name": "stderr",
     "output_type": "stream",
     "text": [
      "100%|###################################################################################|175/175[00:06<00:00,27.96it/s]"
     ]
    },
    {
     "name": "stdout",
     "output_type": "stream",
     "text": [
      "\u001b[32m[1019 22:22:41 @base.py:285]\u001b[0m Epoch 664 (global_step 116200) finished, time:6.26 seconds.\n",
      "\u001b[32m[1019 22:22:42 @saver.py:79]\u001b[0m Model saved to ../output/Chicago/DATGAN_05/model\\model-116200.\n"
     ]
    },
    {
     "name": "stderr",
     "output_type": "stream",
     "text": [
      "\n"
     ]
    },
    {
     "name": "stdout",
     "output_type": "stream",
     "text": [
      "\u001b[32m[1019 22:22:42 @monitor.py:467]\u001b[0m GAN_loss/discrim/accuracy_fake: 0.974\n",
      "\u001b[32m[1019 22:22:42 @monitor.py:467]\u001b[0m GAN_loss/discrim/accuracy_real: 0.054\n",
      "\u001b[32m[1019 22:22:42 @monitor.py:467]\u001b[0m GAN_loss/discrim/loss: 0.64726\n",
      "\u001b[32m[1019 22:22:42 @monitor.py:467]\u001b[0m GAN_loss/gen/final-g-loss: 1.0038\n",
      "\u001b[32m[1019 22:22:42 @monitor.py:467]\u001b[0m GAN_loss/gen/klloss: 0.066338\n",
      "\u001b[32m[1019 22:22:42 @monitor.py:467]\u001b[0m GAN_loss/gen/loss: 0.93742\n",
      "\u001b[32m[1019 22:22:42 @monitor.py:467]\u001b[0m QueueInput/queue_size: 50\n",
      "\u001b[32m[1019 22:22:42 @base.py:275]\u001b[0m Start Epoch 665 ...\n"
     ]
    },
    {
     "name": "stderr",
     "output_type": "stream",
     "text": [
      "100%|###################################################################################|175/175[00:06<00:00,28.53it/s]"
     ]
    },
    {
     "name": "stdout",
     "output_type": "stream",
     "text": [
      "\u001b[32m[1019 22:22:48 @base.py:285]\u001b[0m Epoch 665 (global_step 116375) finished, time:6.14 seconds.\n",
      "\u001b[32m[1019 22:22:48 @saver.py:79]\u001b[0m Model saved to ../output/Chicago/DATGAN_05/model\\model-116375.\n"
     ]
    },
    {
     "name": "stderr",
     "output_type": "stream",
     "text": [
      "\n"
     ]
    },
    {
     "name": "stdout",
     "output_type": "stream",
     "text": [
      "\u001b[32m[1019 22:22:48 @monitor.py:467]\u001b[0m GAN_loss/discrim/accuracy_fake: 0.962\n",
      "\u001b[32m[1019 22:22:48 @monitor.py:467]\u001b[0m GAN_loss/discrim/accuracy_real: 0.026\n",
      "\u001b[32m[1019 22:22:48 @monitor.py:467]\u001b[0m GAN_loss/discrim/loss: 0.65266\n",
      "\u001b[32m[1019 22:22:48 @monitor.py:467]\u001b[0m GAN_loss/gen/final-g-loss: 0.98971\n",
      "\u001b[32m[1019 22:22:48 @monitor.py:467]\u001b[0m GAN_loss/gen/klloss: 0.055798\n",
      "\u001b[32m[1019 22:22:48 @monitor.py:467]\u001b[0m GAN_loss/gen/loss: 0.93391\n",
      "\u001b[32m[1019 22:22:48 @monitor.py:467]\u001b[0m QueueInput/queue_size: 50\n",
      "\u001b[32m[1019 22:22:48 @base.py:275]\u001b[0m Start Epoch 666 ...\n"
     ]
    },
    {
     "name": "stderr",
     "output_type": "stream",
     "text": [
      "100%|###################################################################################|175/175[00:06<00:00,27.83it/s]"
     ]
    },
    {
     "name": "stdout",
     "output_type": "stream",
     "text": [
      "\u001b[32m[1019 22:22:54 @base.py:285]\u001b[0m Epoch 666 (global_step 116550) finished, time:6.29 seconds.\n",
      "\u001b[32m[1019 22:22:54 @saver.py:79]\u001b[0m Model saved to ../output/Chicago/DATGAN_05/model\\model-116550.\n"
     ]
    },
    {
     "name": "stderr",
     "output_type": "stream",
     "text": [
      "\n"
     ]
    },
    {
     "name": "stdout",
     "output_type": "stream",
     "text": [
      "\u001b[32m[1019 22:22:55 @monitor.py:467]\u001b[0m GAN_loss/discrim/accuracy_fake: 0.97\n",
      "\u001b[32m[1019 22:22:55 @monitor.py:467]\u001b[0m GAN_loss/discrim/accuracy_real: 0.056\n",
      "\u001b[32m[1019 22:22:55 @monitor.py:467]\u001b[0m GAN_loss/discrim/loss: 0.64597\n",
      "\u001b[32m[1019 22:22:55 @monitor.py:467]\u001b[0m GAN_loss/gen/final-g-loss: 0.99653\n",
      "\u001b[32m[1019 22:22:55 @monitor.py:467]\u001b[0m GAN_loss/gen/klloss: 0.061934\n",
      "\u001b[32m[1019 22:22:55 @monitor.py:467]\u001b[0m GAN_loss/gen/loss: 0.93459\n",
      "\u001b[32m[1019 22:22:55 @monitor.py:467]\u001b[0m QueueInput/queue_size: 50\n",
      "\u001b[32m[1019 22:22:55 @base.py:275]\u001b[0m Start Epoch 667 ...\n"
     ]
    },
    {
     "name": "stderr",
     "output_type": "stream",
     "text": [
      "100%|###################################################################################|175/175[00:06<00:00,28.04it/s]"
     ]
    },
    {
     "name": "stdout",
     "output_type": "stream",
     "text": [
      "\u001b[32m[1019 22:23:01 @base.py:285]\u001b[0m Epoch 667 (global_step 116725) finished, time:6.24 seconds.\n",
      "\u001b[32m[1019 22:23:01 @saver.py:79]\u001b[0m Model saved to ../output/Chicago/DATGAN_05/model\\model-116725.\n"
     ]
    },
    {
     "name": "stderr",
     "output_type": "stream",
     "text": [
      "\n"
     ]
    },
    {
     "name": "stdout",
     "output_type": "stream",
     "text": [
      "\u001b[32m[1019 22:23:01 @monitor.py:467]\u001b[0m GAN_loss/discrim/accuracy_fake: 0.98\n",
      "\u001b[32m[1019 22:23:01 @monitor.py:467]\u001b[0m GAN_loss/discrim/accuracy_real: 0.026\n",
      "\u001b[32m[1019 22:23:01 @monitor.py:467]\u001b[0m GAN_loss/discrim/loss: 0.65276\n",
      "\u001b[32m[1019 22:23:01 @monitor.py:467]\u001b[0m GAN_loss/gen/final-g-loss: 0.99479\n",
      "\u001b[32m[1019 22:23:01 @monitor.py:467]\u001b[0m GAN_loss/gen/klloss: 0.061938\n",
      "\u001b[32m[1019 22:23:01 @monitor.py:467]\u001b[0m GAN_loss/gen/loss: 0.93285\n",
      "\u001b[32m[1019 22:23:01 @monitor.py:467]\u001b[0m QueueInput/queue_size: 50\n",
      "\u001b[32m[1019 22:23:01 @base.py:275]\u001b[0m Start Epoch 668 ...\n"
     ]
    },
    {
     "name": "stderr",
     "output_type": "stream",
     "text": [
      "100%|###################################################################################|175/175[00:06<00:00,26.62it/s]"
     ]
    },
    {
     "name": "stdout",
     "output_type": "stream",
     "text": [
      "\u001b[32m[1019 22:23:08 @base.py:285]\u001b[0m Epoch 668 (global_step 116900) finished, time:6.58 seconds.\n",
      "\u001b[32m[1019 22:23:08 @saver.py:79]\u001b[0m Model saved to ../output/Chicago/DATGAN_05/model\\model-116900.\n"
     ]
    },
    {
     "name": "stderr",
     "output_type": "stream",
     "text": [
      "\n"
     ]
    },
    {
     "name": "stdout",
     "output_type": "stream",
     "text": [
      "\u001b[32m[1019 22:23:08 @monitor.py:467]\u001b[0m GAN_loss/discrim/accuracy_fake: 0.978\n",
      "\u001b[32m[1019 22:23:08 @monitor.py:467]\u001b[0m GAN_loss/discrim/accuracy_real: 0.048\n",
      "\u001b[32m[1019 22:23:08 @monitor.py:467]\u001b[0m GAN_loss/discrim/loss: 0.64444\n",
      "\u001b[32m[1019 22:23:08 @monitor.py:467]\u001b[0m GAN_loss/gen/final-g-loss: 1.0131\n",
      "\u001b[32m[1019 22:23:08 @monitor.py:467]\u001b[0m GAN_loss/gen/klloss: 0.071138\n",
      "\u001b[32m[1019 22:23:08 @monitor.py:467]\u001b[0m GAN_loss/gen/loss: 0.94197\n",
      "\u001b[32m[1019 22:23:08 @monitor.py:467]\u001b[0m QueueInput/queue_size: 50\n",
      "\u001b[32m[1019 22:23:08 @base.py:275]\u001b[0m Start Epoch 669 ...\n"
     ]
    },
    {
     "name": "stderr",
     "output_type": "stream",
     "text": [
      "100%|###################################################################################|175/175[00:06<00:00,29.06it/s]"
     ]
    },
    {
     "name": "stdout",
     "output_type": "stream",
     "text": [
      "\u001b[32m[1019 22:23:14 @base.py:285]\u001b[0m Epoch 669 (global_step 117075) finished, time:6.02 seconds.\n",
      "\u001b[32m[1019 22:23:14 @saver.py:79]\u001b[0m Model saved to ../output/Chicago/DATGAN_05/model\\model-117075.\n"
     ]
    },
    {
     "name": "stderr",
     "output_type": "stream",
     "text": [
      "\n"
     ]
    },
    {
     "name": "stdout",
     "output_type": "stream",
     "text": [
      "\u001b[32m[1019 22:23:14 @monitor.py:467]\u001b[0m GAN_loss/discrim/accuracy_fake: 0.968\n",
      "\u001b[32m[1019 22:23:14 @monitor.py:467]\u001b[0m GAN_loss/discrim/accuracy_real: 0.026\n",
      "\u001b[32m[1019 22:23:14 @monitor.py:467]\u001b[0m GAN_loss/discrim/loss: 0.65476\n",
      "\u001b[32m[1019 22:23:14 @monitor.py:467]\u001b[0m GAN_loss/gen/final-g-loss: 0.96795\n",
      "\u001b[32m[1019 22:23:14 @monitor.py:467]\u001b[0m GAN_loss/gen/klloss: 0.035967\n",
      "\u001b[32m[1019 22:23:14 @monitor.py:467]\u001b[0m GAN_loss/gen/loss: 0.93198\n",
      "\u001b[32m[1019 22:23:14 @monitor.py:467]\u001b[0m QueueInput/queue_size: 50\n",
      "\u001b[32m[1019 22:23:14 @base.py:275]\u001b[0m Start Epoch 670 ...\n"
     ]
    },
    {
     "name": "stderr",
     "output_type": "stream",
     "text": [
      "100%|###################################################################################|175/175[00:06<00:00,29.07it/s]"
     ]
    },
    {
     "name": "stdout",
     "output_type": "stream",
     "text": [
      "\u001b[32m[1019 22:23:20 @base.py:285]\u001b[0m Epoch 670 (global_step 117250) finished, time:6.02 seconds.\n",
      "\u001b[32m[1019 22:23:20 @saver.py:79]\u001b[0m Model saved to ../output/Chicago/DATGAN_05/model\\model-117250.\n"
     ]
    },
    {
     "name": "stderr",
     "output_type": "stream",
     "text": [
      "\n"
     ]
    },
    {
     "name": "stdout",
     "output_type": "stream",
     "text": [
      "\u001b[32m[1019 22:23:20 @monitor.py:467]\u001b[0m GAN_loss/discrim/accuracy_fake: 0.986\n",
      "\u001b[32m[1019 22:23:20 @monitor.py:467]\u001b[0m GAN_loss/discrim/accuracy_real: 0.034\n",
      "\u001b[32m[1019 22:23:20 @monitor.py:467]\u001b[0m GAN_loss/discrim/loss: 0.64341\n",
      "\u001b[32m[1019 22:23:20 @monitor.py:467]\u001b[0m GAN_loss/gen/final-g-loss: 1.0185\n",
      "\u001b[32m[1019 22:23:20 @monitor.py:467]\u001b[0m GAN_loss/gen/klloss: 0.072927\n",
      "\u001b[32m[1019 22:23:20 @monitor.py:467]\u001b[0m GAN_loss/gen/loss: 0.94553\n",
      "\u001b[32m[1019 22:23:20 @monitor.py:467]\u001b[0m QueueInput/queue_size: 50\n",
      "\u001b[32m[1019 22:23:20 @base.py:275]\u001b[0m Start Epoch 671 ...\n"
     ]
    },
    {
     "name": "stderr",
     "output_type": "stream",
     "text": [
      "100%|###################################################################################|175/175[00:06<00:00,29.04it/s]"
     ]
    },
    {
     "name": "stdout",
     "output_type": "stream",
     "text": [
      "\u001b[32m[1019 22:23:26 @base.py:285]\u001b[0m Epoch 671 (global_step 117425) finished, time:6.03 seconds.\n",
      "\u001b[32m[1019 22:23:26 @saver.py:79]\u001b[0m Model saved to ../output/Chicago/DATGAN_05/model\\model-117425.\n"
     ]
    },
    {
     "name": "stderr",
     "output_type": "stream",
     "text": [
      "\n"
     ]
    },
    {
     "name": "stdout",
     "output_type": "stream",
     "text": [
      "\u001b[32m[1019 22:23:26 @monitor.py:467]\u001b[0m GAN_loss/discrim/accuracy_fake: 0.974\n",
      "\u001b[32m[1019 22:23:26 @monitor.py:467]\u001b[0m GAN_loss/discrim/accuracy_real: 0.034\n",
      "\u001b[32m[1019 22:23:26 @monitor.py:467]\u001b[0m GAN_loss/discrim/loss: 0.64996\n",
      "\u001b[32m[1019 22:23:26 @monitor.py:467]\u001b[0m GAN_loss/gen/final-g-loss: 0.98927\n",
      "\u001b[32m[1019 22:23:26 @monitor.py:467]\u001b[0m GAN_loss/gen/klloss: 0.05596\n",
      "\u001b[32m[1019 22:23:26 @monitor.py:467]\u001b[0m GAN_loss/gen/loss: 0.93331\n",
      "\u001b[32m[1019 22:23:26 @monitor.py:467]\u001b[0m QueueInput/queue_size: 50\n",
      "\u001b[32m[1019 22:23:26 @base.py:275]\u001b[0m Start Epoch 672 ...\n"
     ]
    },
    {
     "name": "stderr",
     "output_type": "stream",
     "text": [
      "100%|###################################################################################|175/175[00:06<00:00,28.91it/s]"
     ]
    },
    {
     "name": "stdout",
     "output_type": "stream",
     "text": [
      "\u001b[32m[1019 22:23:33 @base.py:285]\u001b[0m Epoch 672 (global_step 117600) finished, time:6.05 seconds.\n",
      "\u001b[32m[1019 22:23:33 @saver.py:79]\u001b[0m Model saved to ../output/Chicago/DATGAN_05/model\\model-117600.\n"
     ]
    },
    {
     "name": "stderr",
     "output_type": "stream",
     "text": [
      "\n"
     ]
    },
    {
     "name": "stdout",
     "output_type": "stream",
     "text": [
      "\u001b[32m[1019 22:23:33 @monitor.py:467]\u001b[0m GAN_loss/discrim/accuracy_fake: 0.968\n",
      "\u001b[32m[1019 22:23:33 @monitor.py:467]\u001b[0m GAN_loss/discrim/accuracy_real: 0.05\n",
      "\u001b[32m[1019 22:23:33 @monitor.py:467]\u001b[0m GAN_loss/discrim/loss: 0.64674\n",
      "\u001b[32m[1019 22:23:33 @monitor.py:467]\u001b[0m GAN_loss/gen/final-g-loss: 0.97544\n",
      "\u001b[32m[1019 22:23:33 @monitor.py:467]\u001b[0m GAN_loss/gen/klloss: 0.039003\n",
      "\u001b[32m[1019 22:23:33 @monitor.py:467]\u001b[0m GAN_loss/gen/loss: 0.93644\n",
      "\u001b[32m[1019 22:23:33 @monitor.py:467]\u001b[0m QueueInput/queue_size: 50\n",
      "\u001b[32m[1019 22:23:33 @base.py:275]\u001b[0m Start Epoch 673 ...\n"
     ]
    },
    {
     "name": "stderr",
     "output_type": "stream",
     "text": [
      "100%|###################################################################################|175/175[00:06<00:00,28.36it/s]"
     ]
    },
    {
     "name": "stdout",
     "output_type": "stream",
     "text": [
      "\u001b[32m[1019 22:23:39 @base.py:285]\u001b[0m Epoch 673 (global_step 117775) finished, time:6.17 seconds.\n",
      "\u001b[32m[1019 22:23:39 @saver.py:79]\u001b[0m Model saved to ../output/Chicago/DATGAN_05/model\\model-117775.\n"
     ]
    },
    {
     "name": "stderr",
     "output_type": "stream",
     "text": [
      "\n"
     ]
    },
    {
     "name": "stdout",
     "output_type": "stream",
     "text": [
      "\u001b[32m[1019 22:23:39 @monitor.py:467]\u001b[0m GAN_loss/discrim/accuracy_fake: 0.966\n",
      "\u001b[32m[1019 22:23:39 @monitor.py:467]\u001b[0m GAN_loss/discrim/accuracy_real: 0.042\n",
      "\u001b[32m[1019 22:23:39 @monitor.py:467]\u001b[0m GAN_loss/discrim/loss: 0.65011\n",
      "\u001b[32m[1019 22:23:39 @monitor.py:467]\u001b[0m GAN_loss/gen/final-g-loss: 0.98597\n",
      "\u001b[32m[1019 22:23:39 @monitor.py:467]\u001b[0m GAN_loss/gen/klloss: 0.051751\n",
      "\u001b[32m[1019 22:23:39 @monitor.py:467]\u001b[0m GAN_loss/gen/loss: 0.93422\n",
      "\u001b[32m[1019 22:23:39 @monitor.py:467]\u001b[0m QueueInput/queue_size: 50\n",
      "\u001b[32m[1019 22:23:39 @base.py:275]\u001b[0m Start Epoch 674 ...\n"
     ]
    },
    {
     "name": "stderr",
     "output_type": "stream",
     "text": [
      "100%|###################################################################################|175/175[00:05<00:00,29.49it/s]"
     ]
    },
    {
     "name": "stdout",
     "output_type": "stream",
     "text": [
      "\u001b[32m[1019 22:23:45 @base.py:285]\u001b[0m Epoch 674 (global_step 117950) finished, time:5.94 seconds.\n",
      "\u001b[32m[1019 22:23:45 @saver.py:79]\u001b[0m Model saved to ../output/Chicago/DATGAN_05/model\\model-117950.\n",
      "\u001b[32m[1019 22:23:45 @monitor.py:467]\u001b[0m GAN_loss/discrim/accuracy_fake: 0.98\n"
     ]
    },
    {
     "name": "stderr",
     "output_type": "stream",
     "text": [
      "\n"
     ]
    },
    {
     "name": "stdout",
     "output_type": "stream",
     "text": [
      "\u001b[32m[1019 22:23:45 @monitor.py:467]\u001b[0m GAN_loss/discrim/accuracy_real: 0.038\n",
      "\u001b[32m[1019 22:23:45 @monitor.py:467]\u001b[0m GAN_loss/discrim/loss: 0.64358\n",
      "\u001b[32m[1019 22:23:45 @monitor.py:467]\u001b[0m GAN_loss/gen/final-g-loss: 1.0189\n",
      "\u001b[32m[1019 22:23:45 @monitor.py:467]\u001b[0m GAN_loss/gen/klloss: 0.07126\n",
      "\u001b[32m[1019 22:23:45 @monitor.py:467]\u001b[0m GAN_loss/gen/loss: 0.9476\n",
      "\u001b[32m[1019 22:23:45 @monitor.py:467]\u001b[0m QueueInput/queue_size: 50\n",
      "\u001b[32m[1019 22:23:45 @base.py:275]\u001b[0m Start Epoch 675 ...\n"
     ]
    },
    {
     "name": "stderr",
     "output_type": "stream",
     "text": [
      "100%|###################################################################################|175/175[00:05<00:00,29.32it/s]"
     ]
    },
    {
     "name": "stdout",
     "output_type": "stream",
     "text": [
      "\u001b[32m[1019 22:23:51 @base.py:285]\u001b[0m Epoch 675 (global_step 118125) finished, time:5.97 seconds.\n",
      "\u001b[32m[1019 22:23:51 @saver.py:79]\u001b[0m Model saved to ../output/Chicago/DATGAN_05/model\\model-118125.\n"
     ]
    },
    {
     "name": "stderr",
     "output_type": "stream",
     "text": [
      "\n"
     ]
    },
    {
     "name": "stdout",
     "output_type": "stream",
     "text": [
      "\u001b[32m[1019 22:23:51 @monitor.py:467]\u001b[0m GAN_loss/discrim/accuracy_fake: 0.97\n",
      "\u001b[32m[1019 22:23:51 @monitor.py:467]\u001b[0m GAN_loss/discrim/accuracy_real: 0.054\n",
      "\u001b[32m[1019 22:23:51 @monitor.py:467]\u001b[0m GAN_loss/discrim/loss: 0.64989\n",
      "\u001b[32m[1019 22:23:51 @monitor.py:467]\u001b[0m GAN_loss/gen/final-g-loss: 1.0016\n",
      "\u001b[32m[1019 22:23:51 @monitor.py:467]\u001b[0m GAN_loss/gen/klloss: 0.070485\n",
      "\u001b[32m[1019 22:23:51 @monitor.py:467]\u001b[0m GAN_loss/gen/loss: 0.93107\n",
      "\u001b[32m[1019 22:23:51 @monitor.py:467]\u001b[0m QueueInput/queue_size: 50\n",
      "\u001b[32m[1019 22:23:51 @base.py:275]\u001b[0m Start Epoch 676 ...\n"
     ]
    },
    {
     "name": "stderr",
     "output_type": "stream",
     "text": [
      "100%|###################################################################################|175/175[00:05<00:00,29.27it/s]"
     ]
    },
    {
     "name": "stdout",
     "output_type": "stream",
     "text": [
      "\u001b[32m[1019 22:23:57 @base.py:285]\u001b[0m Epoch 676 (global_step 118300) finished, time:5.98 seconds.\n",
      "\u001b[32m[1019 22:23:58 @saver.py:79]\u001b[0m Model saved to ../output/Chicago/DATGAN_05/model\\model-118300.\n"
     ]
    },
    {
     "name": "stderr",
     "output_type": "stream",
     "text": [
      "\n"
     ]
    },
    {
     "name": "stdout",
     "output_type": "stream",
     "text": [
      "\u001b[32m[1019 22:23:58 @monitor.py:467]\u001b[0m GAN_loss/discrim/accuracy_fake: 0.976\n",
      "\u001b[32m[1019 22:23:58 @monitor.py:467]\u001b[0m GAN_loss/discrim/accuracy_real: 0.032\n",
      "\u001b[32m[1019 22:23:58 @monitor.py:467]\u001b[0m GAN_loss/discrim/loss: 0.65349\n",
      "\u001b[32m[1019 22:23:58 @monitor.py:467]\u001b[0m GAN_loss/gen/final-g-loss: 0.98613\n",
      "\u001b[32m[1019 22:23:58 @monitor.py:467]\u001b[0m GAN_loss/gen/klloss: 0.046418\n",
      "\u001b[32m[1019 22:23:58 @monitor.py:467]\u001b[0m GAN_loss/gen/loss: 0.93972\n",
      "\u001b[32m[1019 22:23:58 @monitor.py:467]\u001b[0m QueueInput/queue_size: 50\n",
      "\u001b[32m[1019 22:23:58 @base.py:275]\u001b[0m Start Epoch 677 ...\n"
     ]
    },
    {
     "name": "stderr",
     "output_type": "stream",
     "text": [
      "100%|###################################################################################|175/175[00:06<00:00,28.98it/s]"
     ]
    },
    {
     "name": "stdout",
     "output_type": "stream",
     "text": [
      "\u001b[32m[1019 22:24:04 @base.py:285]\u001b[0m Epoch 677 (global_step 118475) finished, time:6.04 seconds.\n",
      "\u001b[32m[1019 22:24:04 @saver.py:79]\u001b[0m Model saved to ../output/Chicago/DATGAN_05/model\\model-118475.\n"
     ]
    },
    {
     "name": "stderr",
     "output_type": "stream",
     "text": [
      "\n"
     ]
    },
    {
     "name": "stdout",
     "output_type": "stream",
     "text": [
      "\u001b[32m[1019 22:24:04 @monitor.py:467]\u001b[0m GAN_loss/discrim/accuracy_fake: 0.96\n",
      "\u001b[32m[1019 22:24:04 @monitor.py:467]\u001b[0m GAN_loss/discrim/accuracy_real: 0.05\n",
      "\u001b[32m[1019 22:24:04 @monitor.py:467]\u001b[0m GAN_loss/discrim/loss: 0.65354\n",
      "\u001b[32m[1019 22:24:04 @monitor.py:467]\u001b[0m GAN_loss/gen/final-g-loss: 1.0043\n",
      "\u001b[32m[1019 22:24:04 @monitor.py:467]\u001b[0m GAN_loss/gen/klloss: 0.066243\n",
      "\u001b[32m[1019 22:24:04 @monitor.py:467]\u001b[0m GAN_loss/gen/loss: 0.9381\n",
      "\u001b[32m[1019 22:24:04 @monitor.py:467]\u001b[0m QueueInput/queue_size: 50\n",
      "\u001b[32m[1019 22:24:04 @base.py:275]\u001b[0m Start Epoch 678 ...\n"
     ]
    },
    {
     "name": "stderr",
     "output_type": "stream",
     "text": [
      "100%|###################################################################################|175/175[00:06<00:00,28.57it/s]"
     ]
    },
    {
     "name": "stdout",
     "output_type": "stream",
     "text": [
      "\u001b[32m[1019 22:24:10 @base.py:285]\u001b[0m Epoch 678 (global_step 118650) finished, time:6.13 seconds.\n",
      "\u001b[32m[1019 22:24:10 @saver.py:79]\u001b[0m Model saved to ../output/Chicago/DATGAN_05/model\\model-118650.\n"
     ]
    },
    {
     "name": "stderr",
     "output_type": "stream",
     "text": [
      "\n"
     ]
    },
    {
     "name": "stdout",
     "output_type": "stream",
     "text": [
      "\u001b[32m[1019 22:24:10 @monitor.py:467]\u001b[0m GAN_loss/discrim/accuracy_fake: 0.962\n",
      "\u001b[32m[1019 22:24:10 @monitor.py:467]\u001b[0m GAN_loss/discrim/accuracy_real: 0.048\n",
      "\u001b[32m[1019 22:24:10 @monitor.py:467]\u001b[0m GAN_loss/discrim/loss: 0.65133\n",
      "\u001b[32m[1019 22:24:10 @monitor.py:467]\u001b[0m GAN_loss/gen/final-g-loss: 1.0113\n",
      "\u001b[32m[1019 22:24:10 @monitor.py:467]\u001b[0m GAN_loss/gen/klloss: 0.071046\n",
      "\u001b[32m[1019 22:24:10 @monitor.py:467]\u001b[0m GAN_loss/gen/loss: 0.94024\n",
      "\u001b[32m[1019 22:24:10 @monitor.py:467]\u001b[0m QueueInput/queue_size: 50\n",
      "\u001b[32m[1019 22:24:10 @base.py:275]\u001b[0m Start Epoch 679 ...\n"
     ]
    },
    {
     "name": "stderr",
     "output_type": "stream",
     "text": [
      "100%|###################################################################################|175/175[00:05<00:00,29.42it/s]"
     ]
    },
    {
     "name": "stdout",
     "output_type": "stream",
     "text": [
      "\u001b[32m[1019 22:24:16 @base.py:285]\u001b[0m Epoch 679 (global_step 118825) finished, time:5.95 seconds.\n",
      "\u001b[32m[1019 22:24:16 @saver.py:79]\u001b[0m Model saved to ../output/Chicago/DATGAN_05/model\\model-118825.\n"
     ]
    },
    {
     "name": "stderr",
     "output_type": "stream",
     "text": [
      "\n"
     ]
    },
    {
     "name": "stdout",
     "output_type": "stream",
     "text": [
      "\u001b[32m[1019 22:24:16 @monitor.py:467]\u001b[0m GAN_loss/discrim/accuracy_fake: 0.968\n",
      "\u001b[32m[1019 22:24:16 @monitor.py:467]\u001b[0m GAN_loss/discrim/accuracy_real: 0.05\n",
      "\u001b[32m[1019 22:24:16 @monitor.py:467]\u001b[0m GAN_loss/discrim/loss: 0.6465\n",
      "\u001b[32m[1019 22:24:16 @monitor.py:467]\u001b[0m GAN_loss/gen/final-g-loss: 1.0133\n",
      "\u001b[32m[1019 22:24:16 @monitor.py:467]\u001b[0m GAN_loss/gen/klloss: 0.064645\n",
      "\u001b[32m[1019 22:24:16 @monitor.py:467]\u001b[0m GAN_loss/gen/loss: 0.94869\n",
      "\u001b[32m[1019 22:24:16 @monitor.py:467]\u001b[0m QueueInput/queue_size: 50\n",
      "\u001b[32m[1019 22:24:16 @base.py:275]\u001b[0m Start Epoch 680 ...\n"
     ]
    },
    {
     "name": "stderr",
     "output_type": "stream",
     "text": [
      "100%|###################################################################################|175/175[00:05<00:00,29.94it/s]"
     ]
    },
    {
     "name": "stdout",
     "output_type": "stream",
     "text": [
      "\u001b[32m[1019 22:24:22 @base.py:285]\u001b[0m Epoch 680 (global_step 119000) finished, time:5.84 seconds.\n",
      "\u001b[32m[1019 22:24:22 @saver.py:79]\u001b[0m Model saved to ../output/Chicago/DATGAN_05/model\\model-119000.\n"
     ]
    },
    {
     "name": "stderr",
     "output_type": "stream",
     "text": [
      "\n"
     ]
    },
    {
     "name": "stdout",
     "output_type": "stream",
     "text": [
      "\u001b[32m[1019 22:24:22 @monitor.py:467]\u001b[0m GAN_loss/discrim/accuracy_fake: 0.968\n",
      "\u001b[32m[1019 22:24:22 @monitor.py:467]\u001b[0m GAN_loss/discrim/accuracy_real: 0.062\n",
      "\u001b[32m[1019 22:24:22 @monitor.py:467]\u001b[0m GAN_loss/discrim/loss: 0.64721\n",
      "\u001b[32m[1019 22:24:22 @monitor.py:467]\u001b[0m GAN_loss/gen/final-g-loss: 0.98013\n",
      "\u001b[32m[1019 22:24:22 @monitor.py:467]\u001b[0m GAN_loss/gen/klloss: 0.047221\n",
      "\u001b[32m[1019 22:24:22 @monitor.py:467]\u001b[0m GAN_loss/gen/loss: 0.93291\n",
      "\u001b[32m[1019 22:24:22 @monitor.py:467]\u001b[0m QueueInput/queue_size: 50\n",
      "\u001b[32m[1019 22:24:22 @base.py:275]\u001b[0m Start Epoch 681 ...\n"
     ]
    },
    {
     "name": "stderr",
     "output_type": "stream",
     "text": [
      "100%|###################################################################################|175/175[00:05<00:00,29.69it/s]"
     ]
    },
    {
     "name": "stdout",
     "output_type": "stream",
     "text": [
      "\u001b[32m[1019 22:24:28 @base.py:285]\u001b[0m Epoch 681 (global_step 119175) finished, time:5.9 seconds.\n",
      "\u001b[32m[1019 22:24:28 @saver.py:79]\u001b[0m Model saved to ../output/Chicago/DATGAN_05/model\\model-119175.\n",
      "\u001b[32m[1019 22:24:29 @monitor.py:467]\u001b[0m GAN_loss/discrim/accuracy_fake: 0.982\n"
     ]
    },
    {
     "name": "stderr",
     "output_type": "stream",
     "text": [
      "\n"
     ]
    },
    {
     "name": "stdout",
     "output_type": "stream",
     "text": [
      "\u001b[32m[1019 22:24:29 @monitor.py:467]\u001b[0m GAN_loss/discrim/accuracy_real: 0.044\n",
      "\u001b[32m[1019 22:24:29 @monitor.py:467]\u001b[0m GAN_loss/discrim/loss: 0.64794\n",
      "\u001b[32m[1019 22:24:29 @monitor.py:467]\u001b[0m GAN_loss/gen/final-g-loss: 0.99896\n",
      "\u001b[32m[1019 22:24:29 @monitor.py:467]\u001b[0m GAN_loss/gen/klloss: 0.062185\n",
      "\u001b[32m[1019 22:24:29 @monitor.py:467]\u001b[0m GAN_loss/gen/loss: 0.93677\n",
      "\u001b[32m[1019 22:24:29 @monitor.py:467]\u001b[0m QueueInput/queue_size: 50\n",
      "\u001b[32m[1019 22:24:29 @base.py:275]\u001b[0m Start Epoch 682 ...\n"
     ]
    },
    {
     "name": "stderr",
     "output_type": "stream",
     "text": [
      "100%|###################################################################################|175/175[00:06<00:00,28.78it/s]"
     ]
    },
    {
     "name": "stdout",
     "output_type": "stream",
     "text": [
      "\u001b[32m[1019 22:24:35 @base.py:285]\u001b[0m Epoch 682 (global_step 119350) finished, time:6.08 seconds.\n",
      "\u001b[32m[1019 22:24:35 @saver.py:79]\u001b[0m Model saved to ../output/Chicago/DATGAN_05/model\\model-119350.\n"
     ]
    },
    {
     "name": "stderr",
     "output_type": "stream",
     "text": [
      "\n"
     ]
    },
    {
     "name": "stdout",
     "output_type": "stream",
     "text": [
      "\u001b[32m[1019 22:24:35 @monitor.py:467]\u001b[0m GAN_loss/discrim/accuracy_fake: 0.968\n",
      "\u001b[32m[1019 22:24:35 @monitor.py:467]\u001b[0m GAN_loss/discrim/accuracy_real: 0.068\n",
      "\u001b[32m[1019 22:24:35 @monitor.py:467]\u001b[0m GAN_loss/discrim/loss: 0.64572\n",
      "\u001b[32m[1019 22:24:35 @monitor.py:467]\u001b[0m GAN_loss/gen/final-g-loss: 0.99775\n",
      "\u001b[32m[1019 22:24:35 @monitor.py:467]\u001b[0m GAN_loss/gen/klloss: 0.055008\n",
      "\u001b[32m[1019 22:24:35 @monitor.py:467]\u001b[0m GAN_loss/gen/loss: 0.94275\n",
      "\u001b[32m[1019 22:24:35 @monitor.py:467]\u001b[0m QueueInput/queue_size: 50\n",
      "\u001b[32m[1019 22:24:35 @base.py:275]\u001b[0m Start Epoch 683 ...\n"
     ]
    },
    {
     "name": "stderr",
     "output_type": "stream",
     "text": [
      "100%|###################################################################################|175/175[00:05<00:00,29.81it/s]"
     ]
    },
    {
     "name": "stdout",
     "output_type": "stream",
     "text": [
      "\u001b[32m[1019 22:24:41 @base.py:285]\u001b[0m Epoch 683 (global_step 119525) finished, time:5.87 seconds.\n",
      "\u001b[32m[1019 22:24:41 @saver.py:79]\u001b[0m Model saved to ../output/Chicago/DATGAN_05/model\\model-119525.\n",
      "\u001b[32m[1019 22:24:41 @monitor.py:467]\u001b[0m GAN_loss/discrim/accuracy_fake: 0.968\n"
     ]
    },
    {
     "name": "stderr",
     "output_type": "stream",
     "text": [
      "\n"
     ]
    },
    {
     "name": "stdout",
     "output_type": "stream",
     "text": [
      "\u001b[32m[1019 22:24:41 @monitor.py:467]\u001b[0m GAN_loss/discrim/accuracy_real: 0.062\n",
      "\u001b[32m[1019 22:24:41 @monitor.py:467]\u001b[0m GAN_loss/discrim/loss: 0.64732\n",
      "\u001b[32m[1019 22:24:41 @monitor.py:467]\u001b[0m GAN_loss/gen/final-g-loss: 1.0016\n",
      "\u001b[32m[1019 22:24:41 @monitor.py:467]\u001b[0m GAN_loss/gen/klloss: 0.060727\n",
      "\u001b[32m[1019 22:24:41 @monitor.py:467]\u001b[0m GAN_loss/gen/loss: 0.9409\n",
      "\u001b[32m[1019 22:24:41 @monitor.py:467]\u001b[0m QueueInput/queue_size: 50\n",
      "\u001b[32m[1019 22:24:41 @base.py:275]\u001b[0m Start Epoch 684 ...\n"
     ]
    },
    {
     "name": "stderr",
     "output_type": "stream",
     "text": [
      "100%|###################################################################################|175/175[00:05<00:00,29.78it/s]"
     ]
    },
    {
     "name": "stdout",
     "output_type": "stream",
     "text": [
      "\u001b[32m[1019 22:24:47 @base.py:285]\u001b[0m Epoch 684 (global_step 119700) finished, time:5.88 seconds.\n",
      "\u001b[32m[1019 22:24:47 @saver.py:79]\u001b[0m Model saved to ../output/Chicago/DATGAN_05/model\\model-119700.\n"
     ]
    },
    {
     "name": "stderr",
     "output_type": "stream",
     "text": [
      "\n"
     ]
    },
    {
     "name": "stdout",
     "output_type": "stream",
     "text": [
      "\u001b[32m[1019 22:24:47 @monitor.py:467]\u001b[0m GAN_loss/discrim/accuracy_fake: 0.98\n",
      "\u001b[32m[1019 22:24:47 @monitor.py:467]\u001b[0m GAN_loss/discrim/accuracy_real: 0.036\n",
      "\u001b[32m[1019 22:24:47 @monitor.py:467]\u001b[0m GAN_loss/discrim/loss: 0.65219\n",
      "\u001b[32m[1019 22:24:47 @monitor.py:467]\u001b[0m GAN_loss/gen/final-g-loss: 0.98848\n",
      "\u001b[32m[1019 22:24:47 @monitor.py:467]\u001b[0m GAN_loss/gen/klloss: 0.045191\n",
      "\u001b[32m[1019 22:24:47 @monitor.py:467]\u001b[0m GAN_loss/gen/loss: 0.94329\n",
      "\u001b[32m[1019 22:24:47 @monitor.py:467]\u001b[0m QueueInput/queue_size: 50\n",
      "\u001b[32m[1019 22:24:47 @base.py:275]\u001b[0m Start Epoch 685 ...\n"
     ]
    },
    {
     "name": "stderr",
     "output_type": "stream",
     "text": [
      "100%|###################################################################################|175/175[00:05<00:00,29.63it/s]"
     ]
    },
    {
     "name": "stdout",
     "output_type": "stream",
     "text": [
      "\u001b[32m[1019 22:24:53 @base.py:285]\u001b[0m Epoch 685 (global_step 119875) finished, time:5.91 seconds.\n",
      "\u001b[32m[1019 22:24:53 @saver.py:79]\u001b[0m Model saved to ../output/Chicago/DATGAN_05/model\\model-119875.\n"
     ]
    },
    {
     "name": "stderr",
     "output_type": "stream",
     "text": [
      "\n"
     ]
    },
    {
     "name": "stdout",
     "output_type": "stream",
     "text": [
      "\u001b[32m[1019 22:24:53 @monitor.py:467]\u001b[0m GAN_loss/discrim/accuracy_fake: 0.958\n",
      "\u001b[32m[1019 22:24:53 @monitor.py:467]\u001b[0m GAN_loss/discrim/accuracy_real: 0.05\n",
      "\u001b[32m[1019 22:24:53 @monitor.py:467]\u001b[0m GAN_loss/discrim/loss: 0.65015\n",
      "\u001b[32m[1019 22:24:53 @monitor.py:467]\u001b[0m GAN_loss/gen/final-g-loss: 0.98852\n",
      "\u001b[32m[1019 22:24:53 @monitor.py:467]\u001b[0m GAN_loss/gen/klloss: 0.061942\n",
      "\u001b[32m[1019 22:24:53 @monitor.py:467]\u001b[0m GAN_loss/gen/loss: 0.92658\n",
      "\u001b[32m[1019 22:24:53 @monitor.py:467]\u001b[0m QueueInput/queue_size: 50\n",
      "\u001b[32m[1019 22:24:53 @base.py:275]\u001b[0m Start Epoch 686 ...\n"
     ]
    },
    {
     "name": "stderr",
     "output_type": "stream",
     "text": [
      "100%|###################################################################################|175/175[00:05<00:00,30.22it/s]"
     ]
    },
    {
     "name": "stdout",
     "output_type": "stream",
     "text": [
      "\u001b[32m[1019 22:24:59 @base.py:285]\u001b[0m Epoch 686 (global_step 120050) finished, time:5.79 seconds.\n",
      "\u001b[32m[1019 22:24:59 @saver.py:79]\u001b[0m Model saved to ../output/Chicago/DATGAN_05/model\\model-120050.\n"
     ]
    },
    {
     "name": "stderr",
     "output_type": "stream",
     "text": [
      "\n"
     ]
    },
    {
     "name": "stdout",
     "output_type": "stream",
     "text": [
      "\u001b[32m[1019 22:24:59 @monitor.py:467]\u001b[0m GAN_loss/discrim/accuracy_fake: 0.956\n",
      "\u001b[32m[1019 22:24:59 @monitor.py:467]\u001b[0m GAN_loss/discrim/accuracy_real: 0.046\n",
      "\u001b[32m[1019 22:24:59 @monitor.py:467]\u001b[0m GAN_loss/discrim/loss: 0.64872\n",
      "\u001b[32m[1019 22:24:59 @monitor.py:467]\u001b[0m GAN_loss/gen/final-g-loss: 0.97735\n",
      "\u001b[32m[1019 22:24:59 @monitor.py:467]\u001b[0m GAN_loss/gen/klloss: 0.045305\n",
      "\u001b[32m[1019 22:24:59 @monitor.py:467]\u001b[0m GAN_loss/gen/loss: 0.93204\n",
      "\u001b[32m[1019 22:24:59 @monitor.py:467]\u001b[0m QueueInput/queue_size: 50\n",
      "\u001b[32m[1019 22:24:59 @base.py:275]\u001b[0m Start Epoch 687 ...\n"
     ]
    },
    {
     "name": "stderr",
     "output_type": "stream",
     "text": [
      "100%|###################################################################################|175/175[00:05<00:00,29.30it/s]"
     ]
    },
    {
     "name": "stdout",
     "output_type": "stream",
     "text": [
      "\u001b[32m[1019 22:25:05 @base.py:285]\u001b[0m Epoch 687 (global_step 120225) finished, time:5.97 seconds.\n",
      "\u001b[32m[1019 22:25:05 @saver.py:79]\u001b[0m Model saved to ../output/Chicago/DATGAN_05/model\\model-120225.\n"
     ]
    },
    {
     "name": "stderr",
     "output_type": "stream",
     "text": [
      "\n"
     ]
    },
    {
     "name": "stdout",
     "output_type": "stream",
     "text": [
      "\u001b[32m[1019 22:25:05 @monitor.py:467]\u001b[0m GAN_loss/discrim/accuracy_fake: 0.974\n",
      "\u001b[32m[1019 22:25:05 @monitor.py:467]\u001b[0m GAN_loss/discrim/accuracy_real: 0.046\n",
      "\u001b[32m[1019 22:25:05 @monitor.py:467]\u001b[0m GAN_loss/discrim/loss: 0.64996\n",
      "\u001b[32m[1019 22:25:05 @monitor.py:467]\u001b[0m GAN_loss/gen/final-g-loss: 1.0061\n",
      "\u001b[32m[1019 22:25:05 @monitor.py:467]\u001b[0m GAN_loss/gen/klloss: 0.068873\n",
      "\u001b[32m[1019 22:25:05 @monitor.py:467]\u001b[0m GAN_loss/gen/loss: 0.93723\n",
      "\u001b[32m[1019 22:25:05 @monitor.py:467]\u001b[0m QueueInput/queue_size: 50\n",
      "\u001b[32m[1019 22:25:05 @base.py:275]\u001b[0m Start Epoch 688 ...\n"
     ]
    },
    {
     "name": "stderr",
     "output_type": "stream",
     "text": [
      "100%|###################################################################################|175/175[00:05<00:00,30.40it/s]"
     ]
    },
    {
     "name": "stdout",
     "output_type": "stream",
     "text": [
      "\u001b[32m[1019 22:25:11 @base.py:285]\u001b[0m Epoch 688 (global_step 120400) finished, time:5.76 seconds.\n",
      "\u001b[32m[1019 22:25:11 @saver.py:79]\u001b[0m Model saved to ../output/Chicago/DATGAN_05/model\\model-120400.\n",
      "\u001b[32m[1019 22:25:11 @monitor.py:467]\u001b[0m GAN_loss/discrim/accuracy_fake: 0.972\n"
     ]
    },
    {
     "name": "stderr",
     "output_type": "stream",
     "text": [
      "\n"
     ]
    },
    {
     "name": "stdout",
     "output_type": "stream",
     "text": [
      "\u001b[32m[1019 22:25:11 @monitor.py:467]\u001b[0m GAN_loss/discrim/accuracy_real: 0.056\n",
      "\u001b[32m[1019 22:25:11 @monitor.py:467]\u001b[0m GAN_loss/discrim/loss: 0.64465\n",
      "\u001b[32m[1019 22:25:11 @monitor.py:467]\u001b[0m GAN_loss/gen/final-g-loss: 0.99408\n",
      "\u001b[32m[1019 22:25:11 @monitor.py:467]\u001b[0m GAN_loss/gen/klloss: 0.052813\n",
      "\u001b[32m[1019 22:25:11 @monitor.py:467]\u001b[0m GAN_loss/gen/loss: 0.94127\n",
      "\u001b[32m[1019 22:25:11 @monitor.py:467]\u001b[0m QueueInput/queue_size: 50\n",
      "\u001b[32m[1019 22:25:11 @base.py:275]\u001b[0m Start Epoch 689 ...\n"
     ]
    },
    {
     "name": "stderr",
     "output_type": "stream",
     "text": [
      "100%|###################################################################################|175/175[00:05<00:00,30.03it/s]"
     ]
    },
    {
     "name": "stdout",
     "output_type": "stream",
     "text": [
      "\u001b[32m[1019 22:25:17 @base.py:285]\u001b[0m Epoch 689 (global_step 120575) finished, time:5.83 seconds.\n",
      "\u001b[32m[1019 22:25:17 @saver.py:79]\u001b[0m Model saved to ../output/Chicago/DATGAN_05/model\\model-120575.\n"
     ]
    },
    {
     "name": "stderr",
     "output_type": "stream",
     "text": [
      "\n"
     ]
    },
    {
     "name": "stdout",
     "output_type": "stream",
     "text": [
      "\u001b[32m[1019 22:25:17 @monitor.py:467]\u001b[0m GAN_loss/discrim/accuracy_fake: 0.988\n",
      "\u001b[32m[1019 22:25:17 @monitor.py:467]\u001b[0m GAN_loss/discrim/accuracy_real: 0.03\n",
      "\u001b[32m[1019 22:25:17 @monitor.py:467]\u001b[0m GAN_loss/discrim/loss: 0.64848\n",
      "\u001b[32m[1019 22:25:17 @monitor.py:467]\u001b[0m GAN_loss/gen/final-g-loss: 0.99735\n",
      "\u001b[32m[1019 22:25:17 @monitor.py:467]\u001b[0m GAN_loss/gen/klloss: 0.047773\n",
      "\u001b[32m[1019 22:25:17 @monitor.py:467]\u001b[0m GAN_loss/gen/loss: 0.94958\n",
      "\u001b[32m[1019 22:25:17 @monitor.py:467]\u001b[0m QueueInput/queue_size: 50\n",
      "\u001b[32m[1019 22:25:17 @base.py:275]\u001b[0m Start Epoch 690 ...\n"
     ]
    },
    {
     "name": "stderr",
     "output_type": "stream",
     "text": [
      "100%|###################################################################################|175/175[00:05<00:00,29.78it/s]"
     ]
    },
    {
     "name": "stdout",
     "output_type": "stream",
     "text": [
      "\u001b[32m[1019 22:25:23 @base.py:285]\u001b[0m Epoch 690 (global_step 120750) finished, time:5.88 seconds.\n",
      "\u001b[32m[1019 22:25:23 @saver.py:79]\u001b[0m Model saved to ../output/Chicago/DATGAN_05/model\\model-120750.\n",
      "\u001b[32m[1019 22:25:23 @monitor.py:467]\u001b[0m GAN_loss/discrim/accuracy_fake: 0.982\n"
     ]
    },
    {
     "name": "stderr",
     "output_type": "stream",
     "text": [
      "\n"
     ]
    },
    {
     "name": "stdout",
     "output_type": "stream",
     "text": [
      "\u001b[32m[1019 22:25:23 @monitor.py:467]\u001b[0m GAN_loss/discrim/accuracy_real: 0.034\n",
      "\u001b[32m[1019 22:25:23 @monitor.py:467]\u001b[0m GAN_loss/discrim/loss: 0.6456\n",
      "\u001b[32m[1019 22:25:23 @monitor.py:467]\u001b[0m GAN_loss/gen/final-g-loss: 1.0334\n",
      "\u001b[32m[1019 22:25:23 @monitor.py:467]\u001b[0m GAN_loss/gen/klloss: 0.090058\n",
      "\u001b[32m[1019 22:25:23 @monitor.py:467]\u001b[0m GAN_loss/gen/loss: 0.9433\n",
      "\u001b[32m[1019 22:25:23 @monitor.py:467]\u001b[0m QueueInput/queue_size: 50\n",
      "\u001b[32m[1019 22:25:23 @base.py:275]\u001b[0m Start Epoch 691 ...\n"
     ]
    },
    {
     "name": "stderr",
     "output_type": "stream",
     "text": [
      "100%|###################################################################################|175/175[00:05<00:00,29.20it/s]"
     ]
    },
    {
     "name": "stdout",
     "output_type": "stream",
     "text": [
      "\u001b[32m[1019 22:25:29 @base.py:285]\u001b[0m Epoch 691 (global_step 120925) finished, time:5.99 seconds.\n",
      "\u001b[32m[1019 22:25:30 @saver.py:79]\u001b[0m Model saved to ../output/Chicago/DATGAN_05/model\\model-120925.\n"
     ]
    },
    {
     "name": "stderr",
     "output_type": "stream",
     "text": [
      "\n"
     ]
    },
    {
     "name": "stdout",
     "output_type": "stream",
     "text": [
      "\u001b[32m[1019 22:25:30 @monitor.py:467]\u001b[0m GAN_loss/discrim/accuracy_fake: 0.968\n",
      "\u001b[32m[1019 22:25:30 @monitor.py:467]\u001b[0m GAN_loss/discrim/accuracy_real: 0.076\n",
      "\u001b[32m[1019 22:25:30 @monitor.py:467]\u001b[0m GAN_loss/discrim/loss: 0.64983\n",
      "\u001b[32m[1019 22:25:30 @monitor.py:467]\u001b[0m GAN_loss/gen/final-g-loss: 1.0016\n",
      "\u001b[32m[1019 22:25:30 @monitor.py:467]\u001b[0m GAN_loss/gen/klloss: 0.066184\n",
      "\u001b[32m[1019 22:25:30 @monitor.py:467]\u001b[0m GAN_loss/gen/loss: 0.9354\n",
      "\u001b[32m[1019 22:25:30 @monitor.py:467]\u001b[0m QueueInput/queue_size: 50\n",
      "\u001b[32m[1019 22:25:30 @base.py:275]\u001b[0m Start Epoch 692 ...\n"
     ]
    },
    {
     "name": "stderr",
     "output_type": "stream",
     "text": [
      "100%|###################################################################################|175/175[00:05<00:00,29.29it/s]"
     ]
    },
    {
     "name": "stdout",
     "output_type": "stream",
     "text": [
      "\u001b[32m[1019 22:25:36 @base.py:285]\u001b[0m Epoch 692 (global_step 121100) finished, time:5.97 seconds.\n",
      "\u001b[32m[1019 22:25:36 @saver.py:79]\u001b[0m Model saved to ../output/Chicago/DATGAN_05/model\\model-121100.\n"
     ]
    },
    {
     "name": "stderr",
     "output_type": "stream",
     "text": [
      "\n"
     ]
    },
    {
     "name": "stdout",
     "output_type": "stream",
     "text": [
      "\u001b[32m[1019 22:25:36 @monitor.py:467]\u001b[0m GAN_loss/discrim/accuracy_fake: 0.97\n",
      "\u001b[32m[1019 22:25:36 @monitor.py:467]\u001b[0m GAN_loss/discrim/accuracy_real: 0.046\n",
      "\u001b[32m[1019 22:25:36 @monitor.py:467]\u001b[0m GAN_loss/discrim/loss: 0.64746\n",
      "\u001b[32m[1019 22:25:36 @monitor.py:467]\u001b[0m GAN_loss/gen/final-g-loss: 0.98879\n",
      "\u001b[32m[1019 22:25:36 @monitor.py:467]\u001b[0m GAN_loss/gen/klloss: 0.058586\n",
      "\u001b[32m[1019 22:25:36 @monitor.py:467]\u001b[0m GAN_loss/gen/loss: 0.9302\n",
      "\u001b[32m[1019 22:25:36 @monitor.py:467]\u001b[0m QueueInput/queue_size: 50\n",
      "\u001b[32m[1019 22:25:36 @base.py:275]\u001b[0m Start Epoch 693 ...\n"
     ]
    },
    {
     "name": "stderr",
     "output_type": "stream",
     "text": [
      "100%|###################################################################################|175/175[00:05<00:00,29.56it/s]"
     ]
    },
    {
     "name": "stdout",
     "output_type": "stream",
     "text": [
      "\u001b[32m[1019 22:25:42 @base.py:285]\u001b[0m Epoch 693 (global_step 121275) finished, time:5.92 seconds.\n",
      "\u001b[32m[1019 22:25:42 @saver.py:79]\u001b[0m Model saved to ../output/Chicago/DATGAN_05/model\\model-121275.\n"
     ]
    },
    {
     "name": "stderr",
     "output_type": "stream",
     "text": [
      "\n"
     ]
    },
    {
     "name": "stdout",
     "output_type": "stream",
     "text": [
      "\u001b[32m[1019 22:25:42 @monitor.py:467]\u001b[0m GAN_loss/discrim/accuracy_fake: 0.97\n",
      "\u001b[32m[1019 22:25:42 @monitor.py:467]\u001b[0m GAN_loss/discrim/accuracy_real: 0.05\n",
      "\u001b[32m[1019 22:25:42 @monitor.py:467]\u001b[0m GAN_loss/discrim/loss: 0.64593\n",
      "\u001b[32m[1019 22:25:42 @monitor.py:467]\u001b[0m GAN_loss/gen/final-g-loss: 0.99609\n",
      "\u001b[32m[1019 22:25:42 @monitor.py:467]\u001b[0m GAN_loss/gen/klloss: 0.050462\n",
      "\u001b[32m[1019 22:25:42 @monitor.py:467]\u001b[0m GAN_loss/gen/loss: 0.94562\n",
      "\u001b[32m[1019 22:25:42 @monitor.py:467]\u001b[0m QueueInput/queue_size: 50\n",
      "\u001b[32m[1019 22:25:42 @base.py:275]\u001b[0m Start Epoch 694 ...\n"
     ]
    },
    {
     "name": "stderr",
     "output_type": "stream",
     "text": [
      "100%|###################################################################################|175/175[00:06<00:00,27.74it/s]"
     ]
    },
    {
     "name": "stdout",
     "output_type": "stream",
     "text": [
      "\u001b[32m[1019 22:25:48 @base.py:285]\u001b[0m Epoch 694 (global_step 121450) finished, time:6.31 seconds.\n"
     ]
    },
    {
     "name": "stderr",
     "output_type": "stream",
     "text": [
      "\n"
     ]
    },
    {
     "name": "stdout",
     "output_type": "stream",
     "text": [
      "\u001b[32m[1019 22:25:48 @saver.py:79]\u001b[0m Model saved to ../output/Chicago/DATGAN_05/model\\model-121450.\n",
      "\u001b[32m[1019 22:25:49 @monitor.py:467]\u001b[0m GAN_loss/discrim/accuracy_fake: 0.972\n",
      "\u001b[32m[1019 22:25:49 @monitor.py:467]\u001b[0m GAN_loss/discrim/accuracy_real: 0.06\n",
      "\u001b[32m[1019 22:25:49 @monitor.py:467]\u001b[0m GAN_loss/discrim/loss: 0.64735\n",
      "\u001b[32m[1019 22:25:49 @monitor.py:467]\u001b[0m GAN_loss/gen/final-g-loss: 0.98796\n",
      "\u001b[32m[1019 22:25:49 @monitor.py:467]\u001b[0m GAN_loss/gen/klloss: 0.047425\n",
      "\u001b[32m[1019 22:25:49 @monitor.py:467]\u001b[0m GAN_loss/gen/loss: 0.94053\n",
      "\u001b[32m[1019 22:25:49 @monitor.py:467]\u001b[0m QueueInput/queue_size: 50\n",
      "\u001b[32m[1019 22:25:49 @base.py:275]\u001b[0m Start Epoch 695 ...\n"
     ]
    },
    {
     "name": "stderr",
     "output_type": "stream",
     "text": [
      "100%|###################################################################################|175/175[00:05<00:00,29.83it/s]"
     ]
    },
    {
     "name": "stdout",
     "output_type": "stream",
     "text": [
      "\u001b[32m[1019 22:25:54 @base.py:285]\u001b[0m Epoch 695 (global_step 121625) finished, time:5.87 seconds.\n",
      "\u001b[32m[1019 22:25:54 @saver.py:79]\u001b[0m Model saved to ../output/Chicago/DATGAN_05/model\\model-121625.\n"
     ]
    },
    {
     "name": "stderr",
     "output_type": "stream",
     "text": [
      "\n"
     ]
    },
    {
     "name": "stdout",
     "output_type": "stream",
     "text": [
      "\u001b[32m[1019 22:25:55 @monitor.py:467]\u001b[0m GAN_loss/discrim/accuracy_fake: 0.962\n",
      "\u001b[32m[1019 22:25:55 @monitor.py:467]\u001b[0m GAN_loss/discrim/accuracy_real: 0.052\n",
      "\u001b[32m[1019 22:25:55 @monitor.py:467]\u001b[0m GAN_loss/discrim/loss: 0.65393\n",
      "\u001b[32m[1019 22:25:55 @monitor.py:467]\u001b[0m GAN_loss/gen/final-g-loss: 1.0093\n",
      "\u001b[32m[1019 22:25:55 @monitor.py:467]\u001b[0m GAN_loss/gen/klloss: 0.076086\n",
      "\u001b[32m[1019 22:25:55 @monitor.py:467]\u001b[0m GAN_loss/gen/loss: 0.93326\n",
      "\u001b[32m[1019 22:25:55 @monitor.py:467]\u001b[0m QueueInput/queue_size: 50\n",
      "\u001b[32m[1019 22:25:55 @base.py:275]\u001b[0m Start Epoch 696 ...\n"
     ]
    },
    {
     "name": "stderr",
     "output_type": "stream",
     "text": [
      "100%|###################################################################################|175/175[00:05<00:00,30.28it/s]"
     ]
    },
    {
     "name": "stdout",
     "output_type": "stream",
     "text": [
      "\u001b[32m[1019 22:26:00 @base.py:285]\u001b[0m Epoch 696 (global_step 121800) finished, time:5.78 seconds.\n",
      "\u001b[32m[1019 22:26:00 @saver.py:79]\u001b[0m Model saved to ../output/Chicago/DATGAN_05/model\\model-121800.\n"
     ]
    },
    {
     "name": "stderr",
     "output_type": "stream",
     "text": [
      "\n"
     ]
    },
    {
     "name": "stdout",
     "output_type": "stream",
     "text": [
      "\u001b[32m[1019 22:26:01 @monitor.py:467]\u001b[0m GAN_loss/discrim/accuracy_fake: 0.974\n",
      "\u001b[32m[1019 22:26:01 @monitor.py:467]\u001b[0m GAN_loss/discrim/accuracy_real: 0.046\n",
      "\u001b[32m[1019 22:26:01 @monitor.py:467]\u001b[0m GAN_loss/discrim/loss: 0.65385\n",
      "\u001b[32m[1019 22:26:01 @monitor.py:467]\u001b[0m GAN_loss/gen/final-g-loss: 0.9973\n",
      "\u001b[32m[1019 22:26:01 @monitor.py:467]\u001b[0m GAN_loss/gen/klloss: 0.059201\n",
      "\u001b[32m[1019 22:26:01 @monitor.py:467]\u001b[0m GAN_loss/gen/loss: 0.9381\n",
      "\u001b[32m[1019 22:26:01 @monitor.py:467]\u001b[0m QueueInput/queue_size: 50\n",
      "\u001b[32m[1019 22:26:01 @base.py:275]\u001b[0m Start Epoch 697 ...\n"
     ]
    },
    {
     "name": "stderr",
     "output_type": "stream",
     "text": [
      "100%|###################################################################################|175/175[00:05<00:00,29.35it/s]"
     ]
    },
    {
     "name": "stdout",
     "output_type": "stream",
     "text": [
      "\u001b[32m[1019 22:26:07 @base.py:285]\u001b[0m Epoch 697 (global_step 121975) finished, time:5.96 seconds.\n",
      "\u001b[32m[1019 22:26:07 @saver.py:79]\u001b[0m Model saved to ../output/Chicago/DATGAN_05/model\\model-121975.\n"
     ]
    },
    {
     "name": "stderr",
     "output_type": "stream",
     "text": [
      "\n"
     ]
    },
    {
     "name": "stdout",
     "output_type": "stream",
     "text": [
      "\u001b[32m[1019 22:26:07 @monitor.py:467]\u001b[0m GAN_loss/discrim/accuracy_fake: 0.984\n",
      "\u001b[32m[1019 22:26:07 @monitor.py:467]\u001b[0m GAN_loss/discrim/accuracy_real: 0.058\n",
      "\u001b[32m[1019 22:26:07 @monitor.py:467]\u001b[0m GAN_loss/discrim/loss: 0.64589\n",
      "\u001b[32m[1019 22:26:07 @monitor.py:467]\u001b[0m GAN_loss/gen/final-g-loss: 1.0014\n",
      "\u001b[32m[1019 22:26:07 @monitor.py:467]\u001b[0m GAN_loss/gen/klloss: 0.057115\n",
      "\u001b[32m[1019 22:26:07 @monitor.py:467]\u001b[0m GAN_loss/gen/loss: 0.9443\n",
      "\u001b[32m[1019 22:26:07 @monitor.py:467]\u001b[0m QueueInput/queue_size: 50\n",
      "\u001b[32m[1019 22:26:07 @base.py:275]\u001b[0m Start Epoch 698 ...\n"
     ]
    },
    {
     "name": "stderr",
     "output_type": "stream",
     "text": [
      "100%|###################################################################################|175/175[00:05<00:00,30.38it/s]"
     ]
    },
    {
     "name": "stdout",
     "output_type": "stream",
     "text": [
      "\u001b[32m[1019 22:26:13 @base.py:285]\u001b[0m Epoch 698 (global_step 122150) finished, time:5.76 seconds.\n",
      "\u001b[32m[1019 22:26:13 @saver.py:79]\u001b[0m Model saved to ../output/Chicago/DATGAN_05/model\\model-122150.\n"
     ]
    },
    {
     "name": "stderr",
     "output_type": "stream",
     "text": [
      "\n"
     ]
    },
    {
     "name": "stdout",
     "output_type": "stream",
     "text": [
      "\u001b[32m[1019 22:26:13 @monitor.py:467]\u001b[0m GAN_loss/discrim/accuracy_fake: 0.972\n",
      "\u001b[32m[1019 22:26:13 @monitor.py:467]\u001b[0m GAN_loss/discrim/accuracy_real: 0.028\n",
      "\u001b[32m[1019 22:26:13 @monitor.py:467]\u001b[0m GAN_loss/discrim/loss: 0.64905\n",
      "\u001b[32m[1019 22:26:13 @monitor.py:467]\u001b[0m GAN_loss/gen/final-g-loss: 0.99107\n",
      "\u001b[32m[1019 22:26:13 @monitor.py:467]\u001b[0m GAN_loss/gen/klloss: 0.056921\n",
      "\u001b[32m[1019 22:26:13 @monitor.py:467]\u001b[0m GAN_loss/gen/loss: 0.93415\n",
      "\u001b[32m[1019 22:26:13 @monitor.py:467]\u001b[0m QueueInput/queue_size: 50\n",
      "\u001b[32m[1019 22:26:13 @base.py:275]\u001b[0m Start Epoch 699 ...\n"
     ]
    },
    {
     "name": "stderr",
     "output_type": "stream",
     "text": [
      "100%|###################################################################################|175/175[00:05<00:00,29.50it/s]"
     ]
    },
    {
     "name": "stdout",
     "output_type": "stream",
     "text": [
      "\u001b[32m[1019 22:26:19 @base.py:285]\u001b[0m Epoch 699 (global_step 122325) finished, time:5.93 seconds.\n",
      "\u001b[32m[1019 22:26:19 @saver.py:79]\u001b[0m Model saved to ../output/Chicago/DATGAN_05/model\\model-122325.\n"
     ]
    },
    {
     "name": "stderr",
     "output_type": "stream",
     "text": [
      "\n"
     ]
    },
    {
     "name": "stdout",
     "output_type": "stream",
     "text": [
      "\u001b[32m[1019 22:26:19 @monitor.py:467]\u001b[0m GAN_loss/discrim/accuracy_fake: 0.982\n",
      "\u001b[32m[1019 22:26:19 @monitor.py:467]\u001b[0m GAN_loss/discrim/accuracy_real: 0.048\n",
      "\u001b[32m[1019 22:26:19 @monitor.py:467]\u001b[0m GAN_loss/discrim/loss: 0.64372\n",
      "\u001b[32m[1019 22:26:19 @monitor.py:467]\u001b[0m GAN_loss/gen/final-g-loss: 0.99816\n",
      "\u001b[32m[1019 22:26:19 @monitor.py:467]\u001b[0m GAN_loss/gen/klloss: 0.054135\n",
      "\u001b[32m[1019 22:26:19 @monitor.py:467]\u001b[0m GAN_loss/gen/loss: 0.94402\n",
      "\u001b[32m[1019 22:26:19 @monitor.py:467]\u001b[0m QueueInput/queue_size: 50\n",
      "\u001b[32m[1019 22:26:19 @base.py:275]\u001b[0m Start Epoch 700 ...\n"
     ]
    },
    {
     "name": "stderr",
     "output_type": "stream",
     "text": [
      "100%|###################################################################################|175/175[00:05<00:00,29.68it/s]"
     ]
    },
    {
     "name": "stdout",
     "output_type": "stream",
     "text": [
      "\u001b[32m[1019 22:26:25 @base.py:285]\u001b[0m Epoch 700 (global_step 122500) finished, time:5.9 seconds.\n",
      "\u001b[32m[1019 22:26:25 @saver.py:79]\u001b[0m Model saved to ../output/Chicago/DATGAN_05/model\\model-122500.\n"
     ]
    },
    {
     "name": "stderr",
     "output_type": "stream",
     "text": [
      "\n"
     ]
    },
    {
     "name": "stdout",
     "output_type": "stream",
     "text": [
      "\u001b[32m[1019 22:26:25 @monitor.py:467]\u001b[0m GAN_loss/discrim/accuracy_fake: 0.968\n",
      "\u001b[32m[1019 22:26:25 @monitor.py:467]\u001b[0m GAN_loss/discrim/accuracy_real: 0.054\n",
      "\u001b[32m[1019 22:26:25 @monitor.py:467]\u001b[0m GAN_loss/discrim/loss: 0.6467\n",
      "\u001b[32m[1019 22:26:25 @monitor.py:467]\u001b[0m GAN_loss/gen/final-g-loss: 1.0042\n",
      "\u001b[32m[1019 22:26:25 @monitor.py:467]\u001b[0m GAN_loss/gen/klloss: 0.059869\n",
      "\u001b[32m[1019 22:26:25 @monitor.py:467]\u001b[0m GAN_loss/gen/loss: 0.94435\n",
      "\u001b[32m[1019 22:26:25 @monitor.py:467]\u001b[0m QueueInput/queue_size: 50\n",
      "\u001b[32m[1019 22:26:25 @base.py:275]\u001b[0m Start Epoch 701 ...\n"
     ]
    },
    {
     "name": "stderr",
     "output_type": "stream",
     "text": [
      "100%|###################################################################################|175/175[00:05<00:00,29.26it/s]"
     ]
    },
    {
     "name": "stdout",
     "output_type": "stream",
     "text": [
      "\u001b[32m[1019 22:26:31 @base.py:285]\u001b[0m Epoch 701 (global_step 122675) finished, time:5.98 seconds.\n",
      "\u001b[32m[1019 22:26:31 @saver.py:79]\u001b[0m Model saved to ../output/Chicago/DATGAN_05/model\\model-122675.\n"
     ]
    },
    {
     "name": "stderr",
     "output_type": "stream",
     "text": [
      "\n"
     ]
    },
    {
     "name": "stdout",
     "output_type": "stream",
     "text": [
      "\u001b[32m[1019 22:26:31 @monitor.py:467]\u001b[0m GAN_loss/discrim/accuracy_fake: 0.962\n",
      "\u001b[32m[1019 22:26:31 @monitor.py:467]\u001b[0m GAN_loss/discrim/accuracy_real: 0.034\n",
      "\u001b[32m[1019 22:26:31 @monitor.py:467]\u001b[0m GAN_loss/discrim/loss: 0.65597\n",
      "\u001b[32m[1019 22:26:31 @monitor.py:467]\u001b[0m GAN_loss/gen/final-g-loss: 0.9923\n",
      "\u001b[32m[1019 22:26:31 @monitor.py:467]\u001b[0m GAN_loss/gen/klloss: 0.057349\n",
      "\u001b[32m[1019 22:26:31 @monitor.py:467]\u001b[0m GAN_loss/gen/loss: 0.93495\n",
      "\u001b[32m[1019 22:26:31 @monitor.py:467]\u001b[0m QueueInput/queue_size: 50\n",
      "\u001b[32m[1019 22:26:31 @base.py:275]\u001b[0m Start Epoch 702 ...\n"
     ]
    },
    {
     "name": "stderr",
     "output_type": "stream",
     "text": [
      "100%|###################################################################################|175/175[00:05<00:00,29.36it/s]"
     ]
    },
    {
     "name": "stdout",
     "output_type": "stream",
     "text": [
      "\u001b[32m[1019 22:26:37 @base.py:285]\u001b[0m Epoch 702 (global_step 122850) finished, time:5.96 seconds.\n",
      "\u001b[32m[1019 22:26:37 @saver.py:79]\u001b[0m Model saved to ../output/Chicago/DATGAN_05/model\\model-122850.\n"
     ]
    },
    {
     "name": "stderr",
     "output_type": "stream",
     "text": [
      "\n"
     ]
    },
    {
     "name": "stdout",
     "output_type": "stream",
     "text": [
      "\u001b[32m[1019 22:26:37 @monitor.py:467]\u001b[0m GAN_loss/discrim/accuracy_fake: 0.984\n",
      "\u001b[32m[1019 22:26:37 @monitor.py:467]\u001b[0m GAN_loss/discrim/accuracy_real: 0.034\n",
      "\u001b[32m[1019 22:26:37 @monitor.py:467]\u001b[0m GAN_loss/discrim/loss: 0.64715\n",
      "\u001b[32m[1019 22:26:37 @monitor.py:467]\u001b[0m GAN_loss/gen/final-g-loss: 1.0022\n",
      "\u001b[32m[1019 22:26:37 @monitor.py:467]\u001b[0m GAN_loss/gen/klloss: 0.053844\n",
      "\u001b[32m[1019 22:26:37 @monitor.py:467]\u001b[0m GAN_loss/gen/loss: 0.94835\n",
      "\u001b[32m[1019 22:26:37 @monitor.py:467]\u001b[0m QueueInput/queue_size: 50\n",
      "\u001b[32m[1019 22:26:37 @base.py:275]\u001b[0m Start Epoch 703 ...\n"
     ]
    },
    {
     "name": "stderr",
     "output_type": "stream",
     "text": [
      "100%|###################################################################################|175/175[00:05<00:00,30.00it/s]"
     ]
    },
    {
     "name": "stdout",
     "output_type": "stream",
     "text": [
      "\u001b[32m[1019 22:26:43 @base.py:285]\u001b[0m Epoch 703 (global_step 123025) finished, time:5.83 seconds.\n"
     ]
    },
    {
     "name": "stderr",
     "output_type": "stream",
     "text": [
      "\n"
     ]
    },
    {
     "name": "stdout",
     "output_type": "stream",
     "text": [
      "\u001b[32m[1019 22:26:43 @saver.py:79]\u001b[0m Model saved to ../output/Chicago/DATGAN_05/model\\model-123025.\n",
      "\u001b[32m[1019 22:26:43 @monitor.py:467]\u001b[0m GAN_loss/discrim/accuracy_fake: 0.95\n",
      "\u001b[32m[1019 22:26:43 @monitor.py:467]\u001b[0m GAN_loss/discrim/accuracy_real: 0.048\n",
      "\u001b[32m[1019 22:26:43 @monitor.py:467]\u001b[0m GAN_loss/discrim/loss: 0.64808\n",
      "\u001b[32m[1019 22:26:43 @monitor.py:467]\u001b[0m GAN_loss/gen/final-g-loss: 1.0193\n",
      "\u001b[32m[1019 22:26:43 @monitor.py:467]\u001b[0m GAN_loss/gen/klloss: 0.082966\n",
      "\u001b[32m[1019 22:26:43 @monitor.py:467]\u001b[0m GAN_loss/gen/loss: 0.93634\n",
      "\u001b[32m[1019 22:26:43 @monitor.py:467]\u001b[0m QueueInput/queue_size: 50\n",
      "\u001b[32m[1019 22:26:43 @base.py:275]\u001b[0m Start Epoch 704 ...\n"
     ]
    },
    {
     "name": "stderr",
     "output_type": "stream",
     "text": [
      "100%|###################################################################################|175/175[00:05<00:00,29.21it/s]"
     ]
    },
    {
     "name": "stdout",
     "output_type": "stream",
     "text": [
      "\u001b[32m[1019 22:26:49 @base.py:285]\u001b[0m Epoch 704 (global_step 123200) finished, time:5.99 seconds.\n",
      "\u001b[32m[1019 22:26:50 @saver.py:79]\u001b[0m Model saved to ../output/Chicago/DATGAN_05/model\\model-123200.\n"
     ]
    },
    {
     "name": "stderr",
     "output_type": "stream",
     "text": [
      "\n"
     ]
    },
    {
     "name": "stdout",
     "output_type": "stream",
     "text": [
      "\u001b[32m[1019 22:26:50 @monitor.py:467]\u001b[0m GAN_loss/discrim/accuracy_fake: 0.978\n",
      "\u001b[32m[1019 22:26:50 @monitor.py:467]\u001b[0m GAN_loss/discrim/accuracy_real: 0.054\n",
      "\u001b[32m[1019 22:26:50 @monitor.py:467]\u001b[0m GAN_loss/discrim/loss: 0.64442\n",
      "\u001b[32m[1019 22:26:50 @monitor.py:467]\u001b[0m GAN_loss/gen/final-g-loss: 0.99577\n",
      "\u001b[32m[1019 22:26:50 @monitor.py:467]\u001b[0m GAN_loss/gen/klloss: 0.046429\n",
      "\u001b[32m[1019 22:26:50 @monitor.py:467]\u001b[0m GAN_loss/gen/loss: 0.94934\n",
      "\u001b[32m[1019 22:26:50 @monitor.py:467]\u001b[0m QueueInput/queue_size: 50\n",
      "\u001b[32m[1019 22:26:50 @base.py:275]\u001b[0m Start Epoch 705 ...\n"
     ]
    },
    {
     "name": "stderr",
     "output_type": "stream",
     "text": [
      "100%|###################################################################################|175/175[00:05<00:00,29.74it/s]"
     ]
    },
    {
     "name": "stdout",
     "output_type": "stream",
     "text": [
      "\u001b[32m[1019 22:26:56 @base.py:285]\u001b[0m Epoch 705 (global_step 123375) finished, time:5.89 seconds.\n",
      "\u001b[32m[1019 22:26:56 @saver.py:79]\u001b[0m Model saved to ../output/Chicago/DATGAN_05/model\\model-123375.\n"
     ]
    },
    {
     "name": "stderr",
     "output_type": "stream",
     "text": [
      "\n"
     ]
    },
    {
     "name": "stdout",
     "output_type": "stream",
     "text": [
      "\u001b[32m[1019 22:26:56 @monitor.py:467]\u001b[0m GAN_loss/discrim/accuracy_fake: 0.982\n",
      "\u001b[32m[1019 22:26:56 @monitor.py:467]\u001b[0m GAN_loss/discrim/accuracy_real: 0.05\n",
      "\u001b[32m[1019 22:26:56 @monitor.py:467]\u001b[0m GAN_loss/discrim/loss: 0.65186\n",
      "\u001b[32m[1019 22:26:56 @monitor.py:467]\u001b[0m GAN_loss/gen/final-g-loss: 0.98474\n",
      "\u001b[32m[1019 22:26:56 @monitor.py:467]\u001b[0m GAN_loss/gen/klloss: 0.048255\n",
      "\u001b[32m[1019 22:26:56 @monitor.py:467]\u001b[0m GAN_loss/gen/loss: 0.93648\n",
      "\u001b[32m[1019 22:26:56 @monitor.py:467]\u001b[0m QueueInput/queue_size: 50\n",
      "\u001b[32m[1019 22:26:56 @base.py:275]\u001b[0m Start Epoch 706 ...\n"
     ]
    },
    {
     "name": "stderr",
     "output_type": "stream",
     "text": [
      "100%|###################################################################################|175/175[00:05<00:00,29.39it/s]"
     ]
    },
    {
     "name": "stdout",
     "output_type": "stream",
     "text": [
      "\u001b[32m[1019 22:27:02 @base.py:285]\u001b[0m Epoch 706 (global_step 123550) finished, time:5.95 seconds.\n",
      "\u001b[32m[1019 22:27:02 @saver.py:79]\u001b[0m Model saved to ../output/Chicago/DATGAN_05/model\\model-123550.\n"
     ]
    },
    {
     "name": "stderr",
     "output_type": "stream",
     "text": [
      "\n"
     ]
    },
    {
     "name": "stdout",
     "output_type": "stream",
     "text": [
      "\u001b[32m[1019 22:27:02 @monitor.py:467]\u001b[0m GAN_loss/discrim/accuracy_fake: 0.986\n",
      "\u001b[32m[1019 22:27:02 @monitor.py:467]\u001b[0m GAN_loss/discrim/accuracy_real: 0.058\n",
      "\u001b[32m[1019 22:27:02 @monitor.py:467]\u001b[0m GAN_loss/discrim/loss: 0.64825\n",
      "\u001b[32m[1019 22:27:02 @monitor.py:467]\u001b[0m GAN_loss/gen/final-g-loss: 1.013\n",
      "\u001b[32m[1019 22:27:02 @monitor.py:467]\u001b[0m GAN_loss/gen/klloss: 0.079037\n",
      "\u001b[32m[1019 22:27:02 @monitor.py:467]\u001b[0m GAN_loss/gen/loss: 0.93392\n",
      "\u001b[32m[1019 22:27:02 @monitor.py:467]\u001b[0m QueueInput/queue_size: 50\n",
      "\u001b[32m[1019 22:27:02 @base.py:275]\u001b[0m Start Epoch 707 ...\n"
     ]
    },
    {
     "name": "stderr",
     "output_type": "stream",
     "text": [
      "100%|###################################################################################|175/175[00:06<00:00,28.98it/s]"
     ]
    },
    {
     "name": "stdout",
     "output_type": "stream",
     "text": [
      "\u001b[32m[1019 22:27:08 @base.py:285]\u001b[0m Epoch 707 (global_step 123725) finished, time:6.04 seconds.\n",
      "\u001b[32m[1019 22:27:08 @saver.py:79]\u001b[0m Model saved to ../output/Chicago/DATGAN_05/model\\model-123725.\n"
     ]
    },
    {
     "name": "stderr",
     "output_type": "stream",
     "text": [
      "\n"
     ]
    },
    {
     "name": "stdout",
     "output_type": "stream",
     "text": [
      "\u001b[32m[1019 22:27:08 @monitor.py:467]\u001b[0m GAN_loss/discrim/accuracy_fake: 0.962\n",
      "\u001b[32m[1019 22:27:08 @monitor.py:467]\u001b[0m GAN_loss/discrim/accuracy_real: 0.032\n",
      "\u001b[32m[1019 22:27:08 @monitor.py:467]\u001b[0m GAN_loss/discrim/loss: 0.64476\n",
      "\u001b[32m[1019 22:27:08 @monitor.py:467]\u001b[0m GAN_loss/gen/final-g-loss: 1.005\n",
      "\u001b[32m[1019 22:27:08 @monitor.py:467]\u001b[0m GAN_loss/gen/klloss: 0.060119\n",
      "\u001b[32m[1019 22:27:08 @monitor.py:467]\u001b[0m GAN_loss/gen/loss: 0.94486\n",
      "\u001b[32m[1019 22:27:08 @monitor.py:467]\u001b[0m QueueInput/queue_size: 50\n",
      "\u001b[32m[1019 22:27:08 @base.py:275]\u001b[0m Start Epoch 708 ...\n"
     ]
    },
    {
     "name": "stderr",
     "output_type": "stream",
     "text": [
      "100%|###################################################################################|175/175[00:06<00:00,29.04it/s]"
     ]
    },
    {
     "name": "stdout",
     "output_type": "stream",
     "text": [
      "\u001b[32m[1019 22:27:14 @base.py:285]\u001b[0m Epoch 708 (global_step 123900) finished, time:6.03 seconds.\n",
      "\u001b[32m[1019 22:27:14 @saver.py:79]\u001b[0m Model saved to ../output/Chicago/DATGAN_05/model\\model-123900.\n"
     ]
    },
    {
     "name": "stderr",
     "output_type": "stream",
     "text": [
      "\n"
     ]
    },
    {
     "name": "stdout",
     "output_type": "stream",
     "text": [
      "\u001b[32m[1019 22:27:14 @monitor.py:467]\u001b[0m GAN_loss/discrim/accuracy_fake: 0.968\n",
      "\u001b[32m[1019 22:27:14 @monitor.py:467]\u001b[0m GAN_loss/discrim/accuracy_real: 0.066\n",
      "\u001b[32m[1019 22:27:14 @monitor.py:467]\u001b[0m GAN_loss/discrim/loss: 0.65209\n",
      "\u001b[32m[1019 22:27:14 @monitor.py:467]\u001b[0m GAN_loss/gen/final-g-loss: 1.0012\n",
      "\u001b[32m[1019 22:27:14 @monitor.py:467]\u001b[0m GAN_loss/gen/klloss: 0.065223\n",
      "\u001b[32m[1019 22:27:14 @monitor.py:467]\u001b[0m GAN_loss/gen/loss: 0.93595\n",
      "\u001b[32m[1019 22:27:14 @monitor.py:467]\u001b[0m QueueInput/queue_size: 50\n",
      "\u001b[32m[1019 22:27:14 @base.py:275]\u001b[0m Start Epoch 709 ...\n"
     ]
    },
    {
     "name": "stderr",
     "output_type": "stream",
     "text": [
      "100%|###################################################################################|175/175[00:05<00:00,29.77it/s]"
     ]
    },
    {
     "name": "stdout",
     "output_type": "stream",
     "text": [
      "\u001b[32m[1019 22:27:20 @base.py:285]\u001b[0m Epoch 709 (global_step 124075) finished, time:5.88 seconds.\n",
      "\u001b[32m[1019 22:27:20 @saver.py:79]\u001b[0m Model saved to ../output/Chicago/DATGAN_05/model\\model-124075.\n"
     ]
    },
    {
     "name": "stderr",
     "output_type": "stream",
     "text": [
      "\n"
     ]
    },
    {
     "name": "stdout",
     "output_type": "stream",
     "text": [
      "\u001b[32m[1019 22:27:21 @monitor.py:467]\u001b[0m GAN_loss/discrim/accuracy_fake: 0.978\n",
      "\u001b[32m[1019 22:27:21 @monitor.py:467]\u001b[0m GAN_loss/discrim/accuracy_real: 0.05\n",
      "\u001b[32m[1019 22:27:21 @monitor.py:467]\u001b[0m GAN_loss/discrim/loss: 0.65113\n",
      "\u001b[32m[1019 22:27:21 @monitor.py:467]\u001b[0m GAN_loss/gen/final-g-loss: 0.99445\n",
      "\u001b[32m[1019 22:27:21 @monitor.py:467]\u001b[0m GAN_loss/gen/klloss: 0.059297\n",
      "\u001b[32m[1019 22:27:21 @monitor.py:467]\u001b[0m GAN_loss/gen/loss: 0.93515\n",
      "\u001b[32m[1019 22:27:21 @monitor.py:467]\u001b[0m QueueInput/queue_size: 50\n",
      "\u001b[32m[1019 22:27:21 @base.py:275]\u001b[0m Start Epoch 710 ...\n"
     ]
    },
    {
     "name": "stderr",
     "output_type": "stream",
     "text": [
      "100%|###################################################################################|175/175[00:05<00:00,29.58it/s]"
     ]
    },
    {
     "name": "stdout",
     "output_type": "stream",
     "text": [
      "\u001b[32m[1019 22:27:26 @base.py:285]\u001b[0m Epoch 710 (global_step 124250) finished, time:5.92 seconds.\n",
      "\u001b[32m[1019 22:27:27 @saver.py:79]\u001b[0m Model saved to ../output/Chicago/DATGAN_05/model\\model-124250.\n"
     ]
    },
    {
     "name": "stderr",
     "output_type": "stream",
     "text": [
      "\n"
     ]
    },
    {
     "name": "stdout",
     "output_type": "stream",
     "text": [
      "\u001b[32m[1019 22:27:27 @monitor.py:467]\u001b[0m GAN_loss/discrim/accuracy_fake: 0.978\n",
      "\u001b[32m[1019 22:27:27 @monitor.py:467]\u001b[0m GAN_loss/discrim/accuracy_real: 0.04\n",
      "\u001b[32m[1019 22:27:27 @monitor.py:467]\u001b[0m GAN_loss/discrim/loss: 0.65118\n",
      "\u001b[32m[1019 22:27:27 @monitor.py:467]\u001b[0m GAN_loss/gen/final-g-loss: 0.98018\n",
      "\u001b[32m[1019 22:27:27 @monitor.py:467]\u001b[0m GAN_loss/gen/klloss: 0.046629\n",
      "\u001b[32m[1019 22:27:27 @monitor.py:467]\u001b[0m GAN_loss/gen/loss: 0.93356\n",
      "\u001b[32m[1019 22:27:27 @monitor.py:467]\u001b[0m QueueInput/queue_size: 50\n",
      "\u001b[32m[1019 22:27:27 @base.py:275]\u001b[0m Start Epoch 711 ...\n"
     ]
    },
    {
     "name": "stderr",
     "output_type": "stream",
     "text": [
      "100%|###################################################################################|175/175[00:05<00:00,29.89it/s]"
     ]
    },
    {
     "name": "stdout",
     "output_type": "stream",
     "text": [
      "\u001b[32m[1019 22:27:33 @base.py:285]\u001b[0m Epoch 711 (global_step 124425) finished, time:5.86 seconds.\n"
     ]
    },
    {
     "name": "stderr",
     "output_type": "stream",
     "text": [
      "\n"
     ]
    },
    {
     "name": "stdout",
     "output_type": "stream",
     "text": [
      "\u001b[32m[1019 22:27:33 @saver.py:79]\u001b[0m Model saved to ../output/Chicago/DATGAN_05/model\\model-124425.\n",
      "\u001b[32m[1019 22:27:33 @monitor.py:467]\u001b[0m GAN_loss/discrim/accuracy_fake: 0.974\n",
      "\u001b[32m[1019 22:27:33 @monitor.py:467]\u001b[0m GAN_loss/discrim/accuracy_real: 0.046\n",
      "\u001b[32m[1019 22:27:33 @monitor.py:467]\u001b[0m GAN_loss/discrim/loss: 0.65101\n",
      "\u001b[32m[1019 22:27:33 @monitor.py:467]\u001b[0m GAN_loss/gen/final-g-loss: 0.98209\n",
      "\u001b[32m[1019 22:27:33 @monitor.py:467]\u001b[0m GAN_loss/gen/klloss: 0.053954\n",
      "\u001b[32m[1019 22:27:33 @monitor.py:467]\u001b[0m GAN_loss/gen/loss: 0.92814\n",
      "\u001b[32m[1019 22:27:33 @monitor.py:467]\u001b[0m QueueInput/queue_size: 50\n",
      "\u001b[32m[1019 22:27:33 @base.py:275]\u001b[0m Start Epoch 712 ...\n"
     ]
    },
    {
     "name": "stderr",
     "output_type": "stream",
     "text": [
      "100%|###################################################################################|175/175[00:05<00:00,30.17it/s]"
     ]
    },
    {
     "name": "stdout",
     "output_type": "stream",
     "text": [
      "\u001b[32m[1019 22:27:39 @base.py:285]\u001b[0m Epoch 712 (global_step 124600) finished, time:5.8 seconds.\n",
      "\u001b[32m[1019 22:27:39 @saver.py:79]\u001b[0m Model saved to ../output/Chicago/DATGAN_05/model\\model-124600.\n"
     ]
    },
    {
     "name": "stderr",
     "output_type": "stream",
     "text": [
      "\n"
     ]
    },
    {
     "name": "stdout",
     "output_type": "stream",
     "text": [
      "\u001b[32m[1019 22:27:39 @monitor.py:467]\u001b[0m GAN_loss/discrim/accuracy_fake: 0.964\n",
      "\u001b[32m[1019 22:27:39 @monitor.py:467]\u001b[0m GAN_loss/discrim/accuracy_real: 0.048\n",
      "\u001b[32m[1019 22:27:39 @monitor.py:467]\u001b[0m GAN_loss/discrim/loss: 0.6495\n",
      "\u001b[32m[1019 22:27:39 @monitor.py:467]\u001b[0m GAN_loss/gen/final-g-loss: 1.027\n",
      "\u001b[32m[1019 22:27:39 @monitor.py:467]\u001b[0m GAN_loss/gen/klloss: 0.090797\n",
      "\u001b[32m[1019 22:27:39 @monitor.py:467]\u001b[0m GAN_loss/gen/loss: 0.93622\n",
      "\u001b[32m[1019 22:27:39 @monitor.py:467]\u001b[0m QueueInput/queue_size: 50\n",
      "\u001b[32m[1019 22:27:39 @base.py:275]\u001b[0m Start Epoch 713 ...\n"
     ]
    },
    {
     "name": "stderr",
     "output_type": "stream",
     "text": [
      "100%|###################################################################################|175/175[00:05<00:00,30.34it/s]"
     ]
    },
    {
     "name": "stdout",
     "output_type": "stream",
     "text": [
      "\u001b[32m[1019 22:27:45 @base.py:285]\u001b[0m Epoch 713 (global_step 124775) finished, time:5.77 seconds.\n",
      "\u001b[32m[1019 22:27:45 @saver.py:79]\u001b[0m Model saved to ../output/Chicago/DATGAN_05/model\\model-124775.\n"
     ]
    },
    {
     "name": "stderr",
     "output_type": "stream",
     "text": [
      "\n"
     ]
    },
    {
     "name": "stdout",
     "output_type": "stream",
     "text": [
      "\u001b[32m[1019 22:27:45 @monitor.py:467]\u001b[0m GAN_loss/discrim/accuracy_fake: 0.962\n",
      "\u001b[32m[1019 22:27:45 @monitor.py:467]\u001b[0m GAN_loss/discrim/accuracy_real: 0.038\n",
      "\u001b[32m[1019 22:27:45 @monitor.py:467]\u001b[0m GAN_loss/discrim/loss: 0.65699\n",
      "\u001b[32m[1019 22:27:45 @monitor.py:467]\u001b[0m GAN_loss/gen/final-g-loss: 0.99256\n",
      "\u001b[32m[1019 22:27:45 @monitor.py:467]\u001b[0m GAN_loss/gen/klloss: 0.06167\n",
      "\u001b[32m[1019 22:27:45 @monitor.py:467]\u001b[0m GAN_loss/gen/loss: 0.93089\n",
      "\u001b[32m[1019 22:27:45 @monitor.py:467]\u001b[0m QueueInput/queue_size: 50\n",
      "\u001b[32m[1019 22:27:45 @base.py:275]\u001b[0m Start Epoch 714 ...\n"
     ]
    },
    {
     "name": "stderr",
     "output_type": "stream",
     "text": [
      "100%|###################################################################################|175/175[00:05<00:00,29.28it/s]"
     ]
    },
    {
     "name": "stdout",
     "output_type": "stream",
     "text": [
      "\u001b[32m[1019 22:27:51 @base.py:285]\u001b[0m Epoch 714 (global_step 124950) finished, time:5.98 seconds.\n",
      "\u001b[32m[1019 22:27:51 @saver.py:79]\u001b[0m Model saved to ../output/Chicago/DATGAN_05/model\\model-124950.\n"
     ]
    },
    {
     "name": "stderr",
     "output_type": "stream",
     "text": [
      "\n"
     ]
    },
    {
     "name": "stdout",
     "output_type": "stream",
     "text": [
      "\u001b[32m[1019 22:27:51 @monitor.py:467]\u001b[0m GAN_loss/discrim/accuracy_fake: 0.95\n",
      "\u001b[32m[1019 22:27:51 @monitor.py:467]\u001b[0m GAN_loss/discrim/accuracy_real: 0.04\n",
      "\u001b[32m[1019 22:27:51 @monitor.py:467]\u001b[0m GAN_loss/discrim/loss: 0.6575\n",
      "\u001b[32m[1019 22:27:51 @monitor.py:467]\u001b[0m GAN_loss/gen/final-g-loss: 0.98867\n",
      "\u001b[32m[1019 22:27:51 @monitor.py:467]\u001b[0m GAN_loss/gen/klloss: 0.055607\n",
      "\u001b[32m[1019 22:27:51 @monitor.py:467]\u001b[0m GAN_loss/gen/loss: 0.93306\n",
      "\u001b[32m[1019 22:27:51 @monitor.py:467]\u001b[0m QueueInput/queue_size: 50\n",
      "\u001b[32m[1019 22:27:51 @base.py:275]\u001b[0m Start Epoch 715 ...\n"
     ]
    },
    {
     "name": "stderr",
     "output_type": "stream",
     "text": [
      "100%|###################################################################################|175/175[00:05<00:00,29.50it/s]"
     ]
    },
    {
     "name": "stdout",
     "output_type": "stream",
     "text": [
      "\u001b[32m[1019 22:27:57 @base.py:285]\u001b[0m Epoch 715 (global_step 125125) finished, time:5.93 seconds.\n",
      "\u001b[32m[1019 22:27:57 @saver.py:79]\u001b[0m Model saved to ../output/Chicago/DATGAN_05/model\\model-125125.\n",
      "\u001b[32m[1019 22:27:57 @monitor.py:467]\u001b[0m GAN_loss/discrim/accuracy_fake: 0.986\n"
     ]
    },
    {
     "name": "stderr",
     "output_type": "stream",
     "text": [
      "\n"
     ]
    },
    {
     "name": "stdout",
     "output_type": "stream",
     "text": [
      "\u001b[32m[1019 22:27:57 @monitor.py:467]\u001b[0m GAN_loss/discrim/accuracy_real: 0.036\n",
      "\u001b[32m[1019 22:27:57 @monitor.py:467]\u001b[0m GAN_loss/discrim/loss: 0.64635\n",
      "\u001b[32m[1019 22:27:57 @monitor.py:467]\u001b[0m GAN_loss/gen/final-g-loss: 0.98823\n",
      "\u001b[32m[1019 22:27:57 @monitor.py:467]\u001b[0m GAN_loss/gen/klloss: 0.045129\n",
      "\u001b[32m[1019 22:27:57 @monitor.py:467]\u001b[0m GAN_loss/gen/loss: 0.9431\n",
      "\u001b[32m[1019 22:27:57 @monitor.py:467]\u001b[0m QueueInput/queue_size: 50\n",
      "\u001b[32m[1019 22:27:57 @base.py:275]\u001b[0m Start Epoch 716 ...\n"
     ]
    },
    {
     "name": "stderr",
     "output_type": "stream",
     "text": [
      "100%|###################################################################################|175/175[00:05<00:00,29.62it/s]"
     ]
    },
    {
     "name": "stdout",
     "output_type": "stream",
     "text": [
      "\u001b[32m[1019 22:28:03 @base.py:285]\u001b[0m Epoch 716 (global_step 125300) finished, time:5.91 seconds.\n"
     ]
    },
    {
     "name": "stderr",
     "output_type": "stream",
     "text": [
      "\n"
     ]
    },
    {
     "name": "stdout",
     "output_type": "stream",
     "text": [
      "\u001b[32m[1019 22:28:03 @saver.py:79]\u001b[0m Model saved to ../output/Chicago/DATGAN_05/model\\model-125300.\n",
      "\u001b[32m[1019 22:28:03 @monitor.py:467]\u001b[0m GAN_loss/discrim/accuracy_fake: 0.98\n",
      "\u001b[32m[1019 22:28:03 @monitor.py:467]\u001b[0m GAN_loss/discrim/accuracy_real: 0.058\n",
      "\u001b[32m[1019 22:28:03 @monitor.py:467]\u001b[0m GAN_loss/discrim/loss: 0.64464\n",
      "\u001b[32m[1019 22:28:03 @monitor.py:467]\u001b[0m GAN_loss/gen/final-g-loss: 1.0175\n",
      "\u001b[32m[1019 22:28:03 @monitor.py:467]\u001b[0m GAN_loss/gen/klloss: 0.063902\n",
      "\u001b[32m[1019 22:28:03 @monitor.py:467]\u001b[0m GAN_loss/gen/loss: 0.95361\n",
      "\u001b[32m[1019 22:28:03 @monitor.py:467]\u001b[0m QueueInput/queue_size: 50\n",
      "\u001b[32m[1019 22:28:03 @base.py:275]\u001b[0m Start Epoch 717 ...\n"
     ]
    },
    {
     "name": "stderr",
     "output_type": "stream",
     "text": [
      "100%|###################################################################################|175/175[00:06<00:00,29.13it/s]"
     ]
    },
    {
     "name": "stdout",
     "output_type": "stream",
     "text": [
      "\u001b[32m[1019 22:28:09 @base.py:285]\u001b[0m Epoch 717 (global_step 125475) finished, time:6.01 seconds.\n",
      "\u001b[32m[1019 22:28:09 @saver.py:79]\u001b[0m Model saved to ../output/Chicago/DATGAN_05/model\\model-125475.\n",
      "\u001b[32m[1019 22:28:10 @monitor.py:467]\u001b[0m GAN_loss/discrim/accuracy_fake: 0.97\n"
     ]
    },
    {
     "name": "stderr",
     "output_type": "stream",
     "text": [
      "\n"
     ]
    },
    {
     "name": "stdout",
     "output_type": "stream",
     "text": [
      "\u001b[32m[1019 22:28:10 @monitor.py:467]\u001b[0m GAN_loss/discrim/accuracy_real: 0.062\n",
      "\u001b[32m[1019 22:28:10 @monitor.py:467]\u001b[0m GAN_loss/discrim/loss: 0.65041\n",
      "\u001b[32m[1019 22:28:10 @monitor.py:467]\u001b[0m GAN_loss/gen/final-g-loss: 1.0204\n",
      "\u001b[32m[1019 22:28:10 @monitor.py:467]\u001b[0m GAN_loss/gen/klloss: 0.085166\n",
      "\u001b[32m[1019 22:28:10 @monitor.py:467]\u001b[0m GAN_loss/gen/loss: 0.93523\n",
      "\u001b[32m[1019 22:28:10 @monitor.py:467]\u001b[0m QueueInput/queue_size: 50\n",
      "\u001b[32m[1019 22:28:10 @base.py:275]\u001b[0m Start Epoch 718 ...\n"
     ]
    },
    {
     "name": "stderr",
     "output_type": "stream",
     "text": [
      "100%|###################################################################################|175/175[00:05<00:00,29.63it/s]"
     ]
    },
    {
     "name": "stdout",
     "output_type": "stream",
     "text": [
      "\u001b[32m[1019 22:28:15 @base.py:285]\u001b[0m Epoch 718 (global_step 125650) finished, time:5.91 seconds.\n",
      "\u001b[32m[1019 22:28:15 @saver.py:79]\u001b[0m Model saved to ../output/Chicago/DATGAN_05/model\\model-125650.\n"
     ]
    },
    {
     "name": "stderr",
     "output_type": "stream",
     "text": [
      "\n"
     ]
    },
    {
     "name": "stdout",
     "output_type": "stream",
     "text": [
      "\u001b[32m[1019 22:28:16 @monitor.py:467]\u001b[0m GAN_loss/discrim/accuracy_fake: 0.956\n",
      "\u001b[32m[1019 22:28:16 @monitor.py:467]\u001b[0m GAN_loss/discrim/accuracy_real: 0.044\n",
      "\u001b[32m[1019 22:28:16 @monitor.py:467]\u001b[0m GAN_loss/discrim/loss: 0.65266\n",
      "\u001b[32m[1019 22:28:16 @monitor.py:467]\u001b[0m GAN_loss/gen/final-g-loss: 0.98879\n",
      "\u001b[32m[1019 22:28:16 @monitor.py:467]\u001b[0m GAN_loss/gen/klloss: 0.057219\n",
      "\u001b[32m[1019 22:28:16 @monitor.py:467]\u001b[0m GAN_loss/gen/loss: 0.93157\n",
      "\u001b[32m[1019 22:28:16 @monitor.py:467]\u001b[0m QueueInput/queue_size: 50\n",
      "\u001b[32m[1019 22:28:16 @base.py:275]\u001b[0m Start Epoch 719 ...\n"
     ]
    },
    {
     "name": "stderr",
     "output_type": "stream",
     "text": [
      "100%|###################################################################################|175/175[00:05<00:00,29.94it/s]"
     ]
    },
    {
     "name": "stdout",
     "output_type": "stream",
     "text": [
      "\u001b[32m[1019 22:28:21 @base.py:285]\u001b[0m Epoch 719 (global_step 125825) finished, time:5.85 seconds.\n"
     ]
    },
    {
     "name": "stderr",
     "output_type": "stream",
     "text": [
      "\n"
     ]
    },
    {
     "name": "stdout",
     "output_type": "stream",
     "text": [
      "\u001b[32m[1019 22:28:22 @saver.py:79]\u001b[0m Model saved to ../output/Chicago/DATGAN_05/model\\model-125825.\n",
      "\u001b[32m[1019 22:28:22 @monitor.py:467]\u001b[0m GAN_loss/discrim/accuracy_fake: 0.978\n",
      "\u001b[32m[1019 22:28:22 @monitor.py:467]\u001b[0m GAN_loss/discrim/accuracy_real: 0.048\n",
      "\u001b[32m[1019 22:28:22 @monitor.py:467]\u001b[0m GAN_loss/discrim/loss: 0.64636\n",
      "\u001b[32m[1019 22:28:22 @monitor.py:467]\u001b[0m GAN_loss/gen/final-g-loss: 1.0275\n",
      "\u001b[32m[1019 22:28:22 @monitor.py:467]\u001b[0m GAN_loss/gen/klloss: 0.086676\n",
      "\u001b[32m[1019 22:28:22 @monitor.py:467]\u001b[0m GAN_loss/gen/loss: 0.94085\n",
      "\u001b[32m[1019 22:28:22 @monitor.py:467]\u001b[0m QueueInput/queue_size: 50\n",
      "\u001b[32m[1019 22:28:22 @base.py:275]\u001b[0m Start Epoch 720 ...\n"
     ]
    },
    {
     "name": "stderr",
     "output_type": "stream",
     "text": [
      "100%|###################################################################################|175/175[00:05<00:00,30.12it/s]"
     ]
    },
    {
     "name": "stdout",
     "output_type": "stream",
     "text": [
      "\u001b[32m[1019 22:28:28 @base.py:285]\u001b[0m Epoch 720 (global_step 126000) finished, time:5.81 seconds.\n"
     ]
    },
    {
     "name": "stderr",
     "output_type": "stream",
     "text": [
      "\n"
     ]
    },
    {
     "name": "stdout",
     "output_type": "stream",
     "text": [
      "\u001b[32m[1019 22:28:28 @saver.py:79]\u001b[0m Model saved to ../output/Chicago/DATGAN_05/model\\model-126000.\n",
      "\u001b[32m[1019 22:28:28 @monitor.py:467]\u001b[0m GAN_loss/discrim/accuracy_fake: 0.976\n",
      "\u001b[32m[1019 22:28:28 @monitor.py:467]\u001b[0m GAN_loss/discrim/accuracy_real: 0.066\n",
      "\u001b[32m[1019 22:28:28 @monitor.py:467]\u001b[0m GAN_loss/discrim/loss: 0.65065\n",
      "\u001b[32m[1019 22:28:28 @monitor.py:467]\u001b[0m GAN_loss/gen/final-g-loss: 0.98588\n",
      "\u001b[32m[1019 22:28:28 @monitor.py:467]\u001b[0m GAN_loss/gen/klloss: 0.051614\n",
      "\u001b[32m[1019 22:28:28 @monitor.py:467]\u001b[0m GAN_loss/gen/loss: 0.93426\n",
      "\u001b[32m[1019 22:28:28 @monitor.py:467]\u001b[0m QueueInput/queue_size: 50\n",
      "\u001b[32m[1019 22:28:28 @base.py:275]\u001b[0m Start Epoch 721 ...\n"
     ]
    },
    {
     "name": "stderr",
     "output_type": "stream",
     "text": [
      "100%|###################################################################################|175/175[00:06<00:00,28.93it/s]"
     ]
    },
    {
     "name": "stdout",
     "output_type": "stream",
     "text": [
      "\u001b[32m[1019 22:28:34 @base.py:285]\u001b[0m Epoch 721 (global_step 126175) finished, time:6.05 seconds.\n",
      "\u001b[32m[1019 22:28:34 @saver.py:79]\u001b[0m Model saved to ../output/Chicago/DATGAN_05/model\\model-126175.\n"
     ]
    },
    {
     "name": "stderr",
     "output_type": "stream",
     "text": [
      "\n"
     ]
    },
    {
     "name": "stdout",
     "output_type": "stream",
     "text": [
      "\u001b[32m[1019 22:28:34 @monitor.py:467]\u001b[0m GAN_loss/discrim/accuracy_fake: 0.964\n",
      "\u001b[32m[1019 22:28:34 @monitor.py:467]\u001b[0m GAN_loss/discrim/accuracy_real: 0.054\n",
      "\u001b[32m[1019 22:28:34 @monitor.py:467]\u001b[0m GAN_loss/discrim/loss: 0.64816\n",
      "\u001b[32m[1019 22:28:34 @monitor.py:467]\u001b[0m GAN_loss/gen/final-g-loss: 0.98592\n",
      "\u001b[32m[1019 22:28:34 @monitor.py:467]\u001b[0m GAN_loss/gen/klloss: 0.043311\n",
      "\u001b[32m[1019 22:28:34 @monitor.py:467]\u001b[0m GAN_loss/gen/loss: 0.94261\n",
      "\u001b[32m[1019 22:28:34 @monitor.py:467]\u001b[0m QueueInput/queue_size: 50\n",
      "\u001b[32m[1019 22:28:34 @base.py:275]\u001b[0m Start Epoch 722 ...\n"
     ]
    },
    {
     "name": "stderr",
     "output_type": "stream",
     "text": [
      "100%|###################################################################################|175/175[00:05<00:00,29.59it/s]"
     ]
    },
    {
     "name": "stdout",
     "output_type": "stream",
     "text": [
      "\u001b[32m[1019 22:28:40 @base.py:285]\u001b[0m Epoch 722 (global_step 126350) finished, time:5.92 seconds.\n",
      "\u001b[32m[1019 22:28:40 @saver.py:79]\u001b[0m Model saved to ../output/Chicago/DATGAN_05/model\\model-126350.\n"
     ]
    },
    {
     "name": "stderr",
     "output_type": "stream",
     "text": [
      "\n"
     ]
    },
    {
     "name": "stdout",
     "output_type": "stream",
     "text": [
      "\u001b[32m[1019 22:28:40 @monitor.py:467]\u001b[0m GAN_loss/discrim/accuracy_fake: 0.974\n",
      "\u001b[32m[1019 22:28:40 @monitor.py:467]\u001b[0m GAN_loss/discrim/accuracy_real: 0.042\n",
      "\u001b[32m[1019 22:28:40 @monitor.py:467]\u001b[0m GAN_loss/discrim/loss: 0.6539\n",
      "\u001b[32m[1019 22:28:40 @monitor.py:467]\u001b[0m GAN_loss/gen/final-g-loss: 0.99409\n",
      "\u001b[32m[1019 22:28:40 @monitor.py:467]\u001b[0m GAN_loss/gen/klloss: 0.049516\n",
      "\u001b[32m[1019 22:28:40 @monitor.py:467]\u001b[0m GAN_loss/gen/loss: 0.94458\n",
      "\u001b[32m[1019 22:28:40 @monitor.py:467]\u001b[0m QueueInput/queue_size: 50\n",
      "\u001b[32m[1019 22:28:40 @base.py:275]\u001b[0m Start Epoch 723 ...\n"
     ]
    },
    {
     "name": "stderr",
     "output_type": "stream",
     "text": [
      "100%|###################################################################################|175/175[00:05<00:00,29.39it/s]"
     ]
    },
    {
     "name": "stdout",
     "output_type": "stream",
     "text": [
      "\u001b[32m[1019 22:28:46 @base.py:285]\u001b[0m Epoch 723 (global_step 126525) finished, time:5.95 seconds.\n",
      "\u001b[32m[1019 22:28:46 @saver.py:79]\u001b[0m Model saved to ../output/Chicago/DATGAN_05/model\\model-126525.\n",
      "\u001b[32m[1019 22:28:46 @monitor.py:467]\u001b[0m GAN_loss/discrim/accuracy_fake: 0.976\n"
     ]
    },
    {
     "name": "stderr",
     "output_type": "stream",
     "text": [
      "\n"
     ]
    },
    {
     "name": "stdout",
     "output_type": "stream",
     "text": [
      "\u001b[32m[1019 22:28:46 @monitor.py:467]\u001b[0m GAN_loss/discrim/accuracy_real: 0.038\n",
      "\u001b[32m[1019 22:28:46 @monitor.py:467]\u001b[0m GAN_loss/discrim/loss: 0.65345\n",
      "\u001b[32m[1019 22:28:46 @monitor.py:467]\u001b[0m GAN_loss/gen/final-g-loss: 1.0375\n",
      "\u001b[32m[1019 22:28:46 @monitor.py:467]\u001b[0m GAN_loss/gen/klloss: 0.10298\n",
      "\u001b[32m[1019 22:28:46 @monitor.py:467]\u001b[0m GAN_loss/gen/loss: 0.93453\n",
      "\u001b[32m[1019 22:28:46 @monitor.py:467]\u001b[0m QueueInput/queue_size: 50\n",
      "\u001b[32m[1019 22:28:46 @base.py:275]\u001b[0m Start Epoch 724 ...\n"
     ]
    },
    {
     "name": "stderr",
     "output_type": "stream",
     "text": [
      "100%|###################################################################################|175/175[00:05<00:00,30.28it/s]"
     ]
    },
    {
     "name": "stdout",
     "output_type": "stream",
     "text": [
      "\u001b[32m[1019 22:28:52 @base.py:285]\u001b[0m Epoch 724 (global_step 126700) finished, time:5.78 seconds.\n",
      "\u001b[32m[1019 22:28:52 @saver.py:79]\u001b[0m Model saved to ../output/Chicago/DATGAN_05/model\\model-126700.\n"
     ]
    },
    {
     "name": "stderr",
     "output_type": "stream",
     "text": [
      "\n"
     ]
    },
    {
     "name": "stdout",
     "output_type": "stream",
     "text": [
      "\u001b[32m[1019 22:28:52 @monitor.py:467]\u001b[0m GAN_loss/discrim/accuracy_fake: 0.98\n",
      "\u001b[32m[1019 22:28:52 @monitor.py:467]\u001b[0m GAN_loss/discrim/accuracy_real: 0.05\n",
      "\u001b[32m[1019 22:28:52 @monitor.py:467]\u001b[0m GAN_loss/discrim/loss: 0.64981\n",
      "\u001b[32m[1019 22:28:52 @monitor.py:467]\u001b[0m GAN_loss/gen/final-g-loss: 0.99407\n",
      "\u001b[32m[1019 22:28:52 @monitor.py:467]\u001b[0m GAN_loss/gen/klloss: 0.049221\n",
      "\u001b[32m[1019 22:28:52 @monitor.py:467]\u001b[0m GAN_loss/gen/loss: 0.94484\n",
      "\u001b[32m[1019 22:28:52 @monitor.py:467]\u001b[0m QueueInput/queue_size: 50\n",
      "\u001b[32m[1019 22:28:52 @base.py:275]\u001b[0m Start Epoch 725 ...\n"
     ]
    },
    {
     "name": "stderr",
     "output_type": "stream",
     "text": [
      "100%|###################################################################################|175/175[00:05<00:00,29.35it/s]"
     ]
    },
    {
     "name": "stdout",
     "output_type": "stream",
     "text": [
      "\u001b[32m[1019 22:28:58 @base.py:285]\u001b[0m Epoch 725 (global_step 126875) finished, time:5.96 seconds.\n",
      "\u001b[32m[1019 22:28:58 @saver.py:79]\u001b[0m Model saved to ../output/Chicago/DATGAN_05/model\\model-126875.\n"
     ]
    },
    {
     "name": "stderr",
     "output_type": "stream",
     "text": [
      "\n"
     ]
    },
    {
     "name": "stdout",
     "output_type": "stream",
     "text": [
      "\u001b[32m[1019 22:28:59 @monitor.py:467]\u001b[0m GAN_loss/discrim/accuracy_fake: 0.962\n",
      "\u001b[32m[1019 22:28:59 @monitor.py:467]\u001b[0m GAN_loss/discrim/accuracy_real: 0.038\n",
      "\u001b[32m[1019 22:28:59 @monitor.py:467]\u001b[0m GAN_loss/discrim/loss: 0.65552\n",
      "\u001b[32m[1019 22:28:59 @monitor.py:467]\u001b[0m GAN_loss/gen/final-g-loss: 1.0044\n",
      "\u001b[32m[1019 22:28:59 @monitor.py:467]\u001b[0m GAN_loss/gen/klloss: 0.070436\n",
      "\u001b[32m[1019 22:28:59 @monitor.py:467]\u001b[0m GAN_loss/gen/loss: 0.93396\n",
      "\u001b[32m[1019 22:28:59 @monitor.py:467]\u001b[0m QueueInput/queue_size: 50\n",
      "\u001b[32m[1019 22:28:59 @base.py:275]\u001b[0m Start Epoch 726 ...\n"
     ]
    },
    {
     "name": "stderr",
     "output_type": "stream",
     "text": [
      "100%|###################################################################################|175/175[00:06<00:00,28.82it/s]"
     ]
    },
    {
     "name": "stdout",
     "output_type": "stream",
     "text": [
      "\u001b[32m[1019 22:29:05 @base.py:285]\u001b[0m Epoch 726 (global_step 127050) finished, time:6.07 seconds.\n",
      "\u001b[32m[1019 22:29:05 @saver.py:79]\u001b[0m Model saved to ../output/Chicago/DATGAN_05/model\\model-127050.\n"
     ]
    },
    {
     "name": "stderr",
     "output_type": "stream",
     "text": [
      "\n"
     ]
    },
    {
     "name": "stdout",
     "output_type": "stream",
     "text": [
      "\u001b[32m[1019 22:29:05 @monitor.py:467]\u001b[0m GAN_loss/discrim/accuracy_fake: 0.972\n",
      "\u001b[32m[1019 22:29:05 @monitor.py:467]\u001b[0m GAN_loss/discrim/accuracy_real: 0.046\n",
      "\u001b[32m[1019 22:29:05 @monitor.py:467]\u001b[0m GAN_loss/discrim/loss: 0.64665\n",
      "\u001b[32m[1019 22:29:05 @monitor.py:467]\u001b[0m GAN_loss/gen/final-g-loss: 0.98964\n",
      "\u001b[32m[1019 22:29:05 @monitor.py:467]\u001b[0m GAN_loss/gen/klloss: 0.050801\n",
      "\u001b[32m[1019 22:29:05 @monitor.py:467]\u001b[0m GAN_loss/gen/loss: 0.93883\n",
      "\u001b[32m[1019 22:29:05 @monitor.py:467]\u001b[0m QueueInput/queue_size: 50\n",
      "\u001b[32m[1019 22:29:05 @base.py:275]\u001b[0m Start Epoch 727 ...\n"
     ]
    },
    {
     "name": "stderr",
     "output_type": "stream",
     "text": [
      "100%|###################################################################################|175/175[00:05<00:00,29.89it/s]"
     ]
    },
    {
     "name": "stdout",
     "output_type": "stream",
     "text": [
      "\u001b[32m[1019 22:29:11 @base.py:285]\u001b[0m Epoch 727 (global_step 127225) finished, time:5.86 seconds.\n"
     ]
    },
    {
     "name": "stderr",
     "output_type": "stream",
     "text": [
      "\n"
     ]
    },
    {
     "name": "stdout",
     "output_type": "stream",
     "text": [
      "\u001b[32m[1019 22:29:11 @saver.py:79]\u001b[0m Model saved to ../output/Chicago/DATGAN_05/model\\model-127225.\n",
      "\u001b[32m[1019 22:29:11 @monitor.py:467]\u001b[0m GAN_loss/discrim/accuracy_fake: 0.962\n",
      "\u001b[32m[1019 22:29:11 @monitor.py:467]\u001b[0m GAN_loss/discrim/accuracy_real: 0.058\n",
      "\u001b[32m[1019 22:29:11 @monitor.py:467]\u001b[0m GAN_loss/discrim/loss: 0.64885\n",
      "\u001b[32m[1019 22:29:11 @monitor.py:467]\u001b[0m GAN_loss/gen/final-g-loss: 0.98714\n",
      "\u001b[32m[1019 22:29:11 @monitor.py:467]\u001b[0m GAN_loss/gen/klloss: 0.05391\n",
      "\u001b[32m[1019 22:29:11 @monitor.py:467]\u001b[0m GAN_loss/gen/loss: 0.93323\n",
      "\u001b[32m[1019 22:29:11 @monitor.py:467]\u001b[0m QueueInput/queue_size: 50\n",
      "\u001b[32m[1019 22:29:11 @base.py:275]\u001b[0m Start Epoch 728 ...\n"
     ]
    },
    {
     "name": "stderr",
     "output_type": "stream",
     "text": [
      "100%|###################################################################################|175/175[00:06<00:00,28.86it/s]"
     ]
    },
    {
     "name": "stdout",
     "output_type": "stream",
     "text": [
      "\u001b[32m[1019 22:29:17 @base.py:285]\u001b[0m Epoch 728 (global_step 127400) finished, time:6.06 seconds.\n",
      "\u001b[32m[1019 22:29:17 @saver.py:79]\u001b[0m Model saved to ../output/Chicago/DATGAN_05/model\\model-127400.\n"
     ]
    },
    {
     "name": "stderr",
     "output_type": "stream",
     "text": [
      "\n"
     ]
    },
    {
     "name": "stdout",
     "output_type": "stream",
     "text": [
      "\u001b[32m[1019 22:29:17 @monitor.py:467]\u001b[0m GAN_loss/discrim/accuracy_fake: 0.962\n",
      "\u001b[32m[1019 22:29:17 @monitor.py:467]\u001b[0m GAN_loss/discrim/accuracy_real: 0.046\n",
      "\u001b[32m[1019 22:29:17 @monitor.py:467]\u001b[0m GAN_loss/discrim/loss: 0.64726\n",
      "\u001b[32m[1019 22:29:17 @monitor.py:467]\u001b[0m GAN_loss/gen/final-g-loss: 1.0128\n",
      "\u001b[32m[1019 22:29:17 @monitor.py:467]\u001b[0m GAN_loss/gen/klloss: 0.065543\n",
      "\u001b[32m[1019 22:29:17 @monitor.py:467]\u001b[0m GAN_loss/gen/loss: 0.94726\n",
      "\u001b[32m[1019 22:29:17 @monitor.py:467]\u001b[0m QueueInput/queue_size: 50\n",
      "\u001b[32m[1019 22:29:17 @base.py:275]\u001b[0m Start Epoch 729 ...\n"
     ]
    },
    {
     "name": "stderr",
     "output_type": "stream",
     "text": [
      "100%|###################################################################################|175/175[00:06<00:00,28.81it/s]"
     ]
    },
    {
     "name": "stdout",
     "output_type": "stream",
     "text": [
      "\u001b[32m[1019 22:29:23 @base.py:285]\u001b[0m Epoch 729 (global_step 127575) finished, time:6.07 seconds.\n",
      "\u001b[32m[1019 22:29:23 @saver.py:79]\u001b[0m Model saved to ../output/Chicago/DATGAN_05/model\\model-127575.\n",
      "\u001b[32m[1019 22:29:23 @monitor.py:467]\u001b[0m GAN_loss/discrim/accuracy_fake: 0.972\n"
     ]
    },
    {
     "name": "stderr",
     "output_type": "stream",
     "text": [
      "\n"
     ]
    },
    {
     "name": "stdout",
     "output_type": "stream",
     "text": [
      "\u001b[32m[1019 22:29:23 @monitor.py:467]\u001b[0m GAN_loss/discrim/accuracy_real: 0.028\n",
      "\u001b[32m[1019 22:29:23 @monitor.py:467]\u001b[0m GAN_loss/discrim/loss: 0.65013\n",
      "\u001b[32m[1019 22:29:23 @monitor.py:467]\u001b[0m GAN_loss/gen/final-g-loss: 1.0147\n",
      "\u001b[32m[1019 22:29:23 @monitor.py:467]\u001b[0m GAN_loss/gen/klloss: 0.075151\n",
      "\u001b[32m[1019 22:29:23 @monitor.py:467]\u001b[0m GAN_loss/gen/loss: 0.93952\n",
      "\u001b[32m[1019 22:29:23 @monitor.py:467]\u001b[0m QueueInput/queue_size: 50\n",
      "\u001b[32m[1019 22:29:23 @base.py:275]\u001b[0m Start Epoch 730 ...\n"
     ]
    },
    {
     "name": "stderr",
     "output_type": "stream",
     "text": [
      "100%|###################################################################################|175/175[00:05<00:00,30.18it/s]"
     ]
    },
    {
     "name": "stdout",
     "output_type": "stream",
     "text": [
      "\u001b[32m[1019 22:29:29 @base.py:285]\u001b[0m Epoch 730 (global_step 127750) finished, time:5.8 seconds.\n",
      "\u001b[32m[1019 22:29:29 @saver.py:79]\u001b[0m Model saved to ../output/Chicago/DATGAN_05/model\\model-127750.\n"
     ]
    },
    {
     "name": "stderr",
     "output_type": "stream",
     "text": [
      "\n"
     ]
    },
    {
     "name": "stdout",
     "output_type": "stream",
     "text": [
      "\u001b[32m[1019 22:29:30 @monitor.py:467]\u001b[0m GAN_loss/discrim/accuracy_fake: 0.97\n",
      "\u001b[32m[1019 22:29:30 @monitor.py:467]\u001b[0m GAN_loss/discrim/accuracy_real: 0.054\n",
      "\u001b[32m[1019 22:29:30 @monitor.py:467]\u001b[0m GAN_loss/discrim/loss: 0.64527\n",
      "\u001b[32m[1019 22:29:30 @monitor.py:467]\u001b[0m GAN_loss/gen/final-g-loss: 1.0093\n",
      "\u001b[32m[1019 22:29:30 @monitor.py:467]\u001b[0m GAN_loss/gen/klloss: 0.062434\n",
      "\u001b[32m[1019 22:29:30 @monitor.py:467]\u001b[0m GAN_loss/gen/loss: 0.9469\n",
      "\u001b[32m[1019 22:29:30 @monitor.py:467]\u001b[0m QueueInput/queue_size: 50\n",
      "\u001b[32m[1019 22:29:30 @base.py:275]\u001b[0m Start Epoch 731 ...\n"
     ]
    },
    {
     "name": "stderr",
     "output_type": "stream",
     "text": [
      "100%|###################################################################################|175/175[00:06<00:00,28.69it/s]"
     ]
    },
    {
     "name": "stdout",
     "output_type": "stream",
     "text": [
      "\u001b[32m[1019 22:29:36 @base.py:285]\u001b[0m Epoch 731 (global_step 127925) finished, time:6.1 seconds.\n",
      "\u001b[32m[1019 22:29:36 @saver.py:79]\u001b[0m Model saved to ../output/Chicago/DATGAN_05/model\\model-127925.\n"
     ]
    },
    {
     "name": "stderr",
     "output_type": "stream",
     "text": [
      "\n"
     ]
    },
    {
     "name": "stdout",
     "output_type": "stream",
     "text": [
      "\u001b[32m[1019 22:29:36 @monitor.py:467]\u001b[0m GAN_loss/discrim/accuracy_fake: 0.974\n",
      "\u001b[32m[1019 22:29:36 @monitor.py:467]\u001b[0m GAN_loss/discrim/accuracy_real: 0.044\n",
      "\u001b[32m[1019 22:29:36 @monitor.py:467]\u001b[0m GAN_loss/discrim/loss: 0.64999\n",
      "\u001b[32m[1019 22:29:36 @monitor.py:467]\u001b[0m GAN_loss/gen/final-g-loss: 1.0034\n",
      "\u001b[32m[1019 22:29:36 @monitor.py:467]\u001b[0m GAN_loss/gen/klloss: 0.061969\n",
      "\u001b[32m[1019 22:29:36 @monitor.py:467]\u001b[0m GAN_loss/gen/loss: 0.94147\n",
      "\u001b[32m[1019 22:29:36 @monitor.py:467]\u001b[0m QueueInput/queue_size: 50\n",
      "\u001b[32m[1019 22:29:36 @base.py:275]\u001b[0m Start Epoch 732 ...\n"
     ]
    },
    {
     "name": "stderr",
     "output_type": "stream",
     "text": [
      "100%|###################################################################################|175/175[00:05<00:00,29.82it/s]"
     ]
    },
    {
     "name": "stdout",
     "output_type": "stream",
     "text": [
      "\u001b[32m[1019 22:29:42 @base.py:285]\u001b[0m Epoch 732 (global_step 128100) finished, time:5.87 seconds.\n"
     ]
    },
    {
     "name": "stderr",
     "output_type": "stream",
     "text": [
      "\n"
     ]
    },
    {
     "name": "stdout",
     "output_type": "stream",
     "text": [
      "\u001b[32m[1019 22:29:42 @saver.py:79]\u001b[0m Model saved to ../output/Chicago/DATGAN_05/model\\model-128100.\n",
      "\u001b[32m[1019 22:29:42 @monitor.py:467]\u001b[0m GAN_loss/discrim/accuracy_fake: 0.968\n",
      "\u001b[32m[1019 22:29:42 @monitor.py:467]\u001b[0m GAN_loss/discrim/accuracy_real: 0.044\n",
      "\u001b[32m[1019 22:29:42 @monitor.py:467]\u001b[0m GAN_loss/discrim/loss: 0.64886\n",
      "\u001b[32m[1019 22:29:42 @monitor.py:467]\u001b[0m GAN_loss/gen/final-g-loss: 0.97763\n",
      "\u001b[32m[1019 22:29:42 @monitor.py:467]\u001b[0m GAN_loss/gen/klloss: 0.042642\n",
      "\u001b[32m[1019 22:29:42 @monitor.py:467]\u001b[0m GAN_loss/gen/loss: 0.93498\n",
      "\u001b[32m[1019 22:29:42 @monitor.py:467]\u001b[0m QueueInput/queue_size: 50\n",
      "\u001b[32m[1019 22:29:42 @base.py:275]\u001b[0m Start Epoch 733 ...\n"
     ]
    },
    {
     "name": "stderr",
     "output_type": "stream",
     "text": [
      "100%|###################################################################################|175/175[00:05<00:00,29.50it/s]"
     ]
    },
    {
     "name": "stdout",
     "output_type": "stream",
     "text": [
      "\u001b[32m[1019 22:29:48 @base.py:285]\u001b[0m Epoch 733 (global_step 128275) finished, time:5.93 seconds.\n",
      "\u001b[32m[1019 22:29:48 @saver.py:79]\u001b[0m Model saved to ../output/Chicago/DATGAN_05/model\\model-128275.\n"
     ]
    },
    {
     "name": "stderr",
     "output_type": "stream",
     "text": [
      "\n"
     ]
    },
    {
     "name": "stdout",
     "output_type": "stream",
     "text": [
      "\u001b[32m[1019 22:29:48 @monitor.py:467]\u001b[0m GAN_loss/discrim/accuracy_fake: 0.962\n",
      "\u001b[32m[1019 22:29:48 @monitor.py:467]\u001b[0m GAN_loss/discrim/accuracy_real: 0.06\n",
      "\u001b[32m[1019 22:29:48 @monitor.py:467]\u001b[0m GAN_loss/discrim/loss: 0.64784\n",
      "\u001b[32m[1019 22:29:48 @monitor.py:467]\u001b[0m GAN_loss/gen/final-g-loss: 0.98236\n",
      "\u001b[32m[1019 22:29:48 @monitor.py:467]\u001b[0m GAN_loss/gen/klloss: 0.041398\n",
      "\u001b[32m[1019 22:29:48 @monitor.py:467]\u001b[0m GAN_loss/gen/loss: 0.94096\n",
      "\u001b[32m[1019 22:29:48 @monitor.py:467]\u001b[0m QueueInput/queue_size: 50\n",
      "\u001b[32m[1019 22:29:48 @base.py:275]\u001b[0m Start Epoch 734 ...\n"
     ]
    },
    {
     "name": "stderr",
     "output_type": "stream",
     "text": [
      "100%|###################################################################################|175/175[00:05<00:00,29.58it/s]"
     ]
    },
    {
     "name": "stdout",
     "output_type": "stream",
     "text": [
      "\u001b[32m[1019 22:29:54 @base.py:285]\u001b[0m Epoch 734 (global_step 128450) finished, time:5.92 seconds.\n",
      "\u001b[32m[1019 22:29:54 @saver.py:79]\u001b[0m Model saved to ../output/Chicago/DATGAN_05/model\\model-128450.\n"
     ]
    },
    {
     "name": "stderr",
     "output_type": "stream",
     "text": [
      "\n"
     ]
    },
    {
     "name": "stdout",
     "output_type": "stream",
     "text": [
      "\u001b[32m[1019 22:29:54 @monitor.py:467]\u001b[0m GAN_loss/discrim/accuracy_fake: 0.98\n",
      "\u001b[32m[1019 22:29:54 @monitor.py:467]\u001b[0m GAN_loss/discrim/accuracy_real: 0.064\n",
      "\u001b[32m[1019 22:29:54 @monitor.py:467]\u001b[0m GAN_loss/discrim/loss: 0.64825\n",
      "\u001b[32m[1019 22:29:54 @monitor.py:467]\u001b[0m GAN_loss/gen/final-g-loss: 1.0103\n",
      "\u001b[32m[1019 22:29:54 @monitor.py:467]\u001b[0m GAN_loss/gen/klloss: 0.065227\n",
      "\u001b[32m[1019 22:29:54 @monitor.py:467]\u001b[0m GAN_loss/gen/loss: 0.94504\n",
      "\u001b[32m[1019 22:29:54 @monitor.py:467]\u001b[0m QueueInput/queue_size: 50\n",
      "\u001b[32m[1019 22:29:54 @base.py:275]\u001b[0m Start Epoch 735 ...\n"
     ]
    },
    {
     "name": "stderr",
     "output_type": "stream",
     "text": [
      "100%|###################################################################################|175/175[00:05<00:00,29.19it/s]"
     ]
    },
    {
     "name": "stdout",
     "output_type": "stream",
     "text": [
      "\u001b[32m[1019 22:30:00 @base.py:285]\u001b[0m Epoch 735 (global_step 128625) finished, time:6 seconds.\n",
      "\u001b[32m[1019 22:30:00 @saver.py:79]\u001b[0m Model saved to ../output/Chicago/DATGAN_05/model\\model-128625.\n"
     ]
    },
    {
     "name": "stderr",
     "output_type": "stream",
     "text": [
      "\n"
     ]
    },
    {
     "name": "stdout",
     "output_type": "stream",
     "text": [
      "\u001b[32m[1019 22:30:01 @monitor.py:467]\u001b[0m GAN_loss/discrim/accuracy_fake: 0.98\n",
      "\u001b[32m[1019 22:30:01 @monitor.py:467]\u001b[0m GAN_loss/discrim/accuracy_real: 0.056\n",
      "\u001b[32m[1019 22:30:01 @monitor.py:467]\u001b[0m GAN_loss/discrim/loss: 0.64862\n",
      "\u001b[32m[1019 22:30:01 @monitor.py:467]\u001b[0m GAN_loss/gen/final-g-loss: 0.9977\n",
      "\u001b[32m[1019 22:30:01 @monitor.py:467]\u001b[0m GAN_loss/gen/klloss: 0.052538\n",
      "\u001b[32m[1019 22:30:01 @monitor.py:467]\u001b[0m GAN_loss/gen/loss: 0.94516\n",
      "\u001b[32m[1019 22:30:01 @monitor.py:467]\u001b[0m QueueInput/queue_size: 50\n",
      "\u001b[32m[1019 22:30:01 @base.py:275]\u001b[0m Start Epoch 736 ...\n"
     ]
    },
    {
     "name": "stderr",
     "output_type": "stream",
     "text": [
      "100%|###################################################################################|175/175[00:06<00:00,28.37it/s]"
     ]
    },
    {
     "name": "stdout",
     "output_type": "stream",
     "text": [
      "\u001b[32m[1019 22:30:07 @base.py:285]\u001b[0m Epoch 736 (global_step 128800) finished, time:6.17 seconds.\n",
      "\u001b[32m[1019 22:30:07 @saver.py:79]\u001b[0m Model saved to ../output/Chicago/DATGAN_05/model\\model-128800.\n"
     ]
    },
    {
     "name": "stderr",
     "output_type": "stream",
     "text": [
      "\n"
     ]
    },
    {
     "name": "stdout",
     "output_type": "stream",
     "text": [
      "\u001b[32m[1019 22:30:07 @monitor.py:467]\u001b[0m GAN_loss/discrim/accuracy_fake: 0.982\n",
      "\u001b[32m[1019 22:30:07 @monitor.py:467]\u001b[0m GAN_loss/discrim/accuracy_real: 0.038\n",
      "\u001b[32m[1019 22:30:07 @monitor.py:467]\u001b[0m GAN_loss/discrim/loss: 0.65141\n",
      "\u001b[32m[1019 22:30:07 @monitor.py:467]\u001b[0m GAN_loss/gen/final-g-loss: 0.98491\n",
      "\u001b[32m[1019 22:30:07 @monitor.py:467]\u001b[0m GAN_loss/gen/klloss: 0.039224\n",
      "\u001b[32m[1019 22:30:07 @monitor.py:467]\u001b[0m GAN_loss/gen/loss: 0.94568\n",
      "\u001b[32m[1019 22:30:07 @monitor.py:467]\u001b[0m QueueInput/queue_size: 50\n",
      "\u001b[32m[1019 22:30:07 @base.py:275]\u001b[0m Start Epoch 737 ...\n"
     ]
    },
    {
     "name": "stderr",
     "output_type": "stream",
     "text": [
      "100%|###################################################################################|175/175[00:06<00:00,29.10it/s]"
     ]
    },
    {
     "name": "stdout",
     "output_type": "stream",
     "text": [
      "\u001b[32m[1019 22:30:13 @base.py:285]\u001b[0m Epoch 737 (global_step 128975) finished, time:6.01 seconds.\n",
      "\u001b[32m[1019 22:30:13 @saver.py:79]\u001b[0m Model saved to ../output/Chicago/DATGAN_05/model\\model-128975.\n"
     ]
    },
    {
     "name": "stderr",
     "output_type": "stream",
     "text": [
      "\n"
     ]
    },
    {
     "name": "stdout",
     "output_type": "stream",
     "text": [
      "\u001b[32m[1019 22:30:13 @monitor.py:467]\u001b[0m GAN_loss/discrim/accuracy_fake: 0.972\n",
      "\u001b[32m[1019 22:30:13 @monitor.py:467]\u001b[0m GAN_loss/discrim/accuracy_real: 0.042\n",
      "\u001b[32m[1019 22:30:13 @monitor.py:467]\u001b[0m GAN_loss/discrim/loss: 0.65129\n",
      "\u001b[32m[1019 22:30:13 @monitor.py:467]\u001b[0m GAN_loss/gen/final-g-loss: 0.98305\n",
      "\u001b[32m[1019 22:30:13 @monitor.py:467]\u001b[0m GAN_loss/gen/klloss: 0.046923\n",
      "\u001b[32m[1019 22:30:13 @monitor.py:467]\u001b[0m GAN_loss/gen/loss: 0.93613\n",
      "\u001b[32m[1019 22:30:13 @monitor.py:467]\u001b[0m QueueInput/queue_size: 50\n",
      "\u001b[32m[1019 22:30:13 @base.py:275]\u001b[0m Start Epoch 738 ...\n"
     ]
    },
    {
     "name": "stderr",
     "output_type": "stream",
     "text": [
      "100%|###################################################################################|175/175[00:06<00:00,29.16it/s]"
     ]
    },
    {
     "name": "stdout",
     "output_type": "stream",
     "text": [
      "\u001b[32m[1019 22:30:19 @base.py:285]\u001b[0m Epoch 738 (global_step 129150) finished, time:6 seconds.\n",
      "\u001b[32m[1019 22:30:19 @saver.py:79]\u001b[0m Model saved to ../output/Chicago/DATGAN_05/model\\model-129150.\n"
     ]
    },
    {
     "name": "stderr",
     "output_type": "stream",
     "text": [
      "\n"
     ]
    },
    {
     "name": "stdout",
     "output_type": "stream",
     "text": [
      "\u001b[32m[1019 22:30:19 @monitor.py:467]\u001b[0m GAN_loss/discrim/accuracy_fake: 0.97\n",
      "\u001b[32m[1019 22:30:19 @monitor.py:467]\u001b[0m GAN_loss/discrim/accuracy_real: 0.042\n",
      "\u001b[32m[1019 22:30:19 @monitor.py:467]\u001b[0m GAN_loss/discrim/loss: 0.65225\n",
      "\u001b[32m[1019 22:30:19 @monitor.py:467]\u001b[0m GAN_loss/gen/final-g-loss: 1\n",
      "\u001b[32m[1019 22:30:19 @monitor.py:467]\u001b[0m GAN_loss/gen/klloss: 0.065151\n",
      "\u001b[32m[1019 22:30:19 @monitor.py:467]\u001b[0m GAN_loss/gen/loss: 0.93489\n",
      "\u001b[32m[1019 22:30:19 @monitor.py:467]\u001b[0m QueueInput/queue_size: 50\n",
      "\u001b[32m[1019 22:30:19 @base.py:275]\u001b[0m Start Epoch 739 ...\n"
     ]
    },
    {
     "name": "stderr",
     "output_type": "stream",
     "text": [
      "100%|###################################################################################|175/175[00:06<00:00,28.46it/s]"
     ]
    },
    {
     "name": "stdout",
     "output_type": "stream",
     "text": [
      "\u001b[32m[1019 22:30:26 @base.py:285]\u001b[0m Epoch 739 (global_step 129325) finished, time:6.15 seconds.\n",
      "\u001b[32m[1019 22:30:26 @saver.py:79]\u001b[0m Model saved to ../output/Chicago/DATGAN_05/model\\model-129325.\n"
     ]
    },
    {
     "name": "stderr",
     "output_type": "stream",
     "text": [
      "\n"
     ]
    },
    {
     "name": "stdout",
     "output_type": "stream",
     "text": [
      "\u001b[32m[1019 22:30:26 @monitor.py:467]\u001b[0m GAN_loss/discrim/accuracy_fake: 0.972\n",
      "\u001b[32m[1019 22:30:26 @monitor.py:467]\u001b[0m GAN_loss/discrim/accuracy_real: 0.044\n",
      "\u001b[32m[1019 22:30:26 @monitor.py:467]\u001b[0m GAN_loss/discrim/loss: 0.65035\n",
      "\u001b[32m[1019 22:30:26 @monitor.py:467]\u001b[0m GAN_loss/gen/final-g-loss: 1.0077\n",
      "\u001b[32m[1019 22:30:26 @monitor.py:467]\u001b[0m GAN_loss/gen/klloss: 0.067043\n",
      "\u001b[32m[1019 22:30:26 @monitor.py:467]\u001b[0m GAN_loss/gen/loss: 0.94062\n",
      "\u001b[32m[1019 22:30:26 @monitor.py:467]\u001b[0m QueueInput/queue_size: 50\n",
      "\u001b[32m[1019 22:30:26 @base.py:275]\u001b[0m Start Epoch 740 ...\n"
     ]
    },
    {
     "name": "stderr",
     "output_type": "stream",
     "text": [
      "100%|###################################################################################|175/175[00:06<00:00,27.86it/s]"
     ]
    },
    {
     "name": "stdout",
     "output_type": "stream",
     "text": [
      "\u001b[32m[1019 22:30:32 @base.py:285]\u001b[0m Epoch 740 (global_step 129500) finished, time:6.28 seconds.\n",
      "\u001b[32m[1019 22:30:32 @saver.py:79]\u001b[0m Model saved to ../output/Chicago/DATGAN_05/model\\model-129500.\n"
     ]
    },
    {
     "name": "stderr",
     "output_type": "stream",
     "text": [
      "\n"
     ]
    },
    {
     "name": "stdout",
     "output_type": "stream",
     "text": [
      "\u001b[32m[1019 22:30:32 @monitor.py:467]\u001b[0m GAN_loss/discrim/accuracy_fake: 0.976\n",
      "\u001b[32m[1019 22:30:32 @monitor.py:467]\u001b[0m GAN_loss/discrim/accuracy_real: 0.07\n",
      "\u001b[32m[1019 22:30:32 @monitor.py:467]\u001b[0m GAN_loss/discrim/loss: 0.645\n",
      "\u001b[32m[1019 22:30:32 @monitor.py:467]\u001b[0m GAN_loss/gen/final-g-loss: 1.0182\n",
      "\u001b[32m[1019 22:30:32 @monitor.py:467]\u001b[0m GAN_loss/gen/klloss: 0.072428\n",
      "\u001b[32m[1019 22:30:32 @monitor.py:467]\u001b[0m GAN_loss/gen/loss: 0.94573\n",
      "\u001b[32m[1019 22:30:32 @monitor.py:467]\u001b[0m QueueInput/queue_size: 50\n",
      "\u001b[32m[1019 22:30:32 @base.py:275]\u001b[0m Start Epoch 741 ...\n"
     ]
    },
    {
     "name": "stderr",
     "output_type": "stream",
     "text": [
      "100%|###################################################################################|175/175[00:06<00:00,28.39it/s]"
     ]
    },
    {
     "name": "stdout",
     "output_type": "stream",
     "text": [
      "\u001b[32m[1019 22:30:38 @base.py:285]\u001b[0m Epoch 741 (global_step 129675) finished, time:6.17 seconds.\n",
      "\u001b[32m[1019 22:30:39 @saver.py:79]\u001b[0m Model saved to ../output/Chicago/DATGAN_05/model\\model-129675.\n",
      "\u001b[32m[1019 22:30:39 @monitor.py:467]\u001b[0m GAN_loss/discrim/accuracy_fake: 0.968\n"
     ]
    },
    {
     "name": "stderr",
     "output_type": "stream",
     "text": [
      "\n"
     ]
    },
    {
     "name": "stdout",
     "output_type": "stream",
     "text": [
      "\u001b[32m[1019 22:30:39 @monitor.py:467]\u001b[0m GAN_loss/discrim/accuracy_real: 0.048\n",
      "\u001b[32m[1019 22:30:39 @monitor.py:467]\u001b[0m GAN_loss/discrim/loss: 0.65111\n",
      "\u001b[32m[1019 22:30:39 @monitor.py:467]\u001b[0m GAN_loss/gen/final-g-loss: 1.0118\n",
      "\u001b[32m[1019 22:30:39 @monitor.py:467]\u001b[0m GAN_loss/gen/klloss: 0.07577\n",
      "\u001b[32m[1019 22:30:39 @monitor.py:467]\u001b[0m GAN_loss/gen/loss: 0.93603\n",
      "\u001b[32m[1019 22:30:39 @monitor.py:467]\u001b[0m QueueInput/queue_size: 50\n",
      "\u001b[32m[1019 22:30:39 @base.py:275]\u001b[0m Start Epoch 742 ...\n"
     ]
    },
    {
     "name": "stderr",
     "output_type": "stream",
     "text": [
      "100%|###################################################################################|175/175[00:06<00:00,28.65it/s]"
     ]
    },
    {
     "name": "stdout",
     "output_type": "stream",
     "text": [
      "\u001b[32m[1019 22:30:45 @base.py:285]\u001b[0m Epoch 742 (global_step 129850) finished, time:6.11 seconds.\n",
      "\u001b[32m[1019 22:30:45 @saver.py:79]\u001b[0m Model saved to ../output/Chicago/DATGAN_05/model\\model-129850.\n"
     ]
    },
    {
     "name": "stderr",
     "output_type": "stream",
     "text": [
      "\n"
     ]
    },
    {
     "name": "stdout",
     "output_type": "stream",
     "text": [
      "\u001b[32m[1019 22:30:45 @monitor.py:467]\u001b[0m GAN_loss/discrim/accuracy_fake: 0.978\n",
      "\u001b[32m[1019 22:30:45 @monitor.py:467]\u001b[0m GAN_loss/discrim/accuracy_real: 0.052\n",
      "\u001b[32m[1019 22:30:45 @monitor.py:467]\u001b[0m GAN_loss/discrim/loss: 0.65113\n",
      "\u001b[32m[1019 22:30:45 @monitor.py:467]\u001b[0m GAN_loss/gen/final-g-loss: 1.0204\n",
      "\u001b[32m[1019 22:30:45 @monitor.py:467]\u001b[0m GAN_loss/gen/klloss: 0.074405\n",
      "\u001b[32m[1019 22:30:45 @monitor.py:467]\u001b[0m GAN_loss/gen/loss: 0.94602\n",
      "\u001b[32m[1019 22:30:45 @monitor.py:467]\u001b[0m QueueInput/queue_size: 50\n",
      "\u001b[32m[1019 22:30:45 @base.py:275]\u001b[0m Start Epoch 743 ...\n"
     ]
    },
    {
     "name": "stderr",
     "output_type": "stream",
     "text": [
      "100%|###################################################################################|175/175[00:05<00:00,29.29it/s]"
     ]
    },
    {
     "name": "stdout",
     "output_type": "stream",
     "text": [
      "\u001b[32m[1019 22:30:51 @base.py:285]\u001b[0m Epoch 743 (global_step 130025) finished, time:5.98 seconds.\n",
      "\u001b[32m[1019 22:30:51 @saver.py:79]\u001b[0m Model saved to ../output/Chicago/DATGAN_05/model\\model-130025.\n"
     ]
    },
    {
     "name": "stderr",
     "output_type": "stream",
     "text": [
      "\n"
     ]
    },
    {
     "name": "stdout",
     "output_type": "stream",
     "text": [
      "\u001b[32m[1019 22:30:51 @monitor.py:467]\u001b[0m GAN_loss/discrim/accuracy_fake: 0.97\n",
      "\u001b[32m[1019 22:30:51 @monitor.py:467]\u001b[0m GAN_loss/discrim/accuracy_real: 0.056\n",
      "\u001b[32m[1019 22:30:51 @monitor.py:467]\u001b[0m GAN_loss/discrim/loss: 0.64578\n",
      "\u001b[32m[1019 22:30:51 @monitor.py:467]\u001b[0m GAN_loss/gen/final-g-loss: 0.99114\n",
      "\u001b[32m[1019 22:30:51 @monitor.py:467]\u001b[0m GAN_loss/gen/klloss: 0.046553\n",
      "\u001b[32m[1019 22:30:51 @monitor.py:467]\u001b[0m GAN_loss/gen/loss: 0.94459\n",
      "\u001b[32m[1019 22:30:51 @monitor.py:467]\u001b[0m QueueInput/queue_size: 50\n",
      "\u001b[32m[1019 22:30:51 @base.py:275]\u001b[0m Start Epoch 744 ...\n"
     ]
    },
    {
     "name": "stderr",
     "output_type": "stream",
     "text": [
      "100%|###################################################################################|175/175[00:05<00:00,29.84it/s]"
     ]
    },
    {
     "name": "stdout",
     "output_type": "stream",
     "text": [
      "\u001b[32m[1019 22:30:57 @base.py:285]\u001b[0m Epoch 744 (global_step 130200) finished, time:5.86 seconds.\n",
      "\u001b[32m[1019 22:30:57 @saver.py:79]\u001b[0m Model saved to ../output/Chicago/DATGAN_05/model\\model-130200.\n"
     ]
    },
    {
     "name": "stderr",
     "output_type": "stream",
     "text": [
      "\n"
     ]
    },
    {
     "name": "stdout",
     "output_type": "stream",
     "text": [
      "\u001b[32m[1019 22:30:57 @monitor.py:467]\u001b[0m GAN_loss/discrim/accuracy_fake: 0.964\n",
      "\u001b[32m[1019 22:30:57 @monitor.py:467]\u001b[0m GAN_loss/discrim/accuracy_real: 0.056\n",
      "\u001b[32m[1019 22:30:57 @monitor.py:467]\u001b[0m GAN_loss/discrim/loss: 0.65107\n",
      "\u001b[32m[1019 22:30:57 @monitor.py:467]\u001b[0m GAN_loss/gen/final-g-loss: 1.0162\n",
      "\u001b[32m[1019 22:30:57 @monitor.py:467]\u001b[0m GAN_loss/gen/klloss: 0.080172\n",
      "\u001b[32m[1019 22:30:57 @monitor.py:467]\u001b[0m GAN_loss/gen/loss: 0.93606\n",
      "\u001b[32m[1019 22:30:57 @monitor.py:467]\u001b[0m QueueInput/queue_size: 50\n",
      "\u001b[32m[1019 22:30:57 @base.py:275]\u001b[0m Start Epoch 745 ...\n"
     ]
    },
    {
     "name": "stderr",
     "output_type": "stream",
     "text": [
      "100%|###################################################################################|175/175[00:05<00:00,29.36it/s]"
     ]
    },
    {
     "name": "stdout",
     "output_type": "stream",
     "text": [
      "\u001b[32m[1019 22:31:03 @base.py:285]\u001b[0m Epoch 745 (global_step 130375) finished, time:5.96 seconds.\n",
      "\u001b[32m[1019 22:31:03 @saver.py:79]\u001b[0m Model saved to ../output/Chicago/DATGAN_05/model\\model-130375.\n"
     ]
    },
    {
     "name": "stderr",
     "output_type": "stream",
     "text": [
      "\n"
     ]
    },
    {
     "name": "stdout",
     "output_type": "stream",
     "text": [
      "\u001b[32m[1019 22:31:04 @monitor.py:467]\u001b[0m GAN_loss/discrim/accuracy_fake: 0.978\n",
      "\u001b[32m[1019 22:31:04 @monitor.py:467]\u001b[0m GAN_loss/discrim/accuracy_real: 0.05\n",
      "\u001b[32m[1019 22:31:04 @monitor.py:467]\u001b[0m GAN_loss/discrim/loss: 0.65484\n",
      "\u001b[32m[1019 22:31:04 @monitor.py:467]\u001b[0m GAN_loss/gen/final-g-loss: 1.0182\n",
      "\u001b[32m[1019 22:31:04 @monitor.py:467]\u001b[0m GAN_loss/gen/klloss: 0.079089\n",
      "\u001b[32m[1019 22:31:04 @monitor.py:467]\u001b[0m GAN_loss/gen/loss: 0.93908\n",
      "\u001b[32m[1019 22:31:04 @monitor.py:467]\u001b[0m QueueInput/queue_size: 50\n",
      "\u001b[32m[1019 22:31:04 @base.py:275]\u001b[0m Start Epoch 746 ...\n"
     ]
    },
    {
     "name": "stderr",
     "output_type": "stream",
     "text": [
      "100%|###################################################################################|175/175[00:05<00:00,29.56it/s]"
     ]
    },
    {
     "name": "stdout",
     "output_type": "stream",
     "text": [
      "\u001b[32m[1019 22:31:09 @base.py:285]\u001b[0m Epoch 746 (global_step 130550) finished, time:5.92 seconds.\n",
      "\u001b[32m[1019 22:31:10 @saver.py:79]\u001b[0m Model saved to ../output/Chicago/DATGAN_05/model\\model-130550.\n"
     ]
    },
    {
     "name": "stderr",
     "output_type": "stream",
     "text": [
      "\n"
     ]
    },
    {
     "name": "stdout",
     "output_type": "stream",
     "text": [
      "\u001b[32m[1019 22:31:10 @monitor.py:467]\u001b[0m GAN_loss/discrim/accuracy_fake: 0.962\n",
      "\u001b[32m[1019 22:31:10 @monitor.py:467]\u001b[0m GAN_loss/discrim/accuracy_real: 0.042\n",
      "\u001b[32m[1019 22:31:10 @monitor.py:467]\u001b[0m GAN_loss/discrim/loss: 0.65588\n",
      "\u001b[32m[1019 22:31:10 @monitor.py:467]\u001b[0m GAN_loss/gen/final-g-loss: 0.98131\n",
      "\u001b[32m[1019 22:31:10 @monitor.py:467]\u001b[0m GAN_loss/gen/klloss: 0.045783\n",
      "\u001b[32m[1019 22:31:10 @monitor.py:467]\u001b[0m GAN_loss/gen/loss: 0.93553\n",
      "\u001b[32m[1019 22:31:10 @monitor.py:467]\u001b[0m QueueInput/queue_size: 50\n",
      "\u001b[32m[1019 22:31:10 @base.py:275]\u001b[0m Start Epoch 747 ...\n"
     ]
    },
    {
     "name": "stderr",
     "output_type": "stream",
     "text": [
      "100%|###################################################################################|175/175[00:05<00:00,29.81it/s]"
     ]
    },
    {
     "name": "stdout",
     "output_type": "stream",
     "text": [
      "\u001b[32m[1019 22:31:16 @base.py:285]\u001b[0m Epoch 747 (global_step 130725) finished, time:5.87 seconds.\n",
      "\u001b[32m[1019 22:31:16 @saver.py:79]\u001b[0m Model saved to ../output/Chicago/DATGAN_05/model\\model-130725.\n"
     ]
    },
    {
     "name": "stderr",
     "output_type": "stream",
     "text": [
      "\n"
     ]
    },
    {
     "name": "stdout",
     "output_type": "stream",
     "text": [
      "\u001b[32m[1019 22:31:16 @monitor.py:467]\u001b[0m GAN_loss/discrim/accuracy_fake: 0.974\n",
      "\u001b[32m[1019 22:31:16 @monitor.py:467]\u001b[0m GAN_loss/discrim/accuracy_real: 0.038\n",
      "\u001b[32m[1019 22:31:16 @monitor.py:467]\u001b[0m GAN_loss/discrim/loss: 0.65183\n",
      "\u001b[32m[1019 22:31:16 @monitor.py:467]\u001b[0m GAN_loss/gen/final-g-loss: 1.0378\n",
      "\u001b[32m[1019 22:31:16 @monitor.py:467]\u001b[0m GAN_loss/gen/klloss: 0.093785\n",
      "\u001b[32m[1019 22:31:16 @monitor.py:467]\u001b[0m GAN_loss/gen/loss: 0.94402\n",
      "\u001b[32m[1019 22:31:16 @monitor.py:467]\u001b[0m QueueInput/queue_size: 50\n",
      "\u001b[32m[1019 22:31:16 @base.py:275]\u001b[0m Start Epoch 748 ...\n"
     ]
    },
    {
     "name": "stderr",
     "output_type": "stream",
     "text": [
      "100%|###################################################################################|175/175[00:05<00:00,30.14it/s]"
     ]
    },
    {
     "name": "stdout",
     "output_type": "stream",
     "text": [
      "\u001b[32m[1019 22:31:22 @base.py:285]\u001b[0m Epoch 748 (global_step 130900) finished, time:5.81 seconds.\n",
      "\u001b[32m[1019 22:31:22 @saver.py:79]\u001b[0m Model saved to ../output/Chicago/DATGAN_05/model\\model-130900.\n"
     ]
    },
    {
     "name": "stderr",
     "output_type": "stream",
     "text": [
      "\n"
     ]
    },
    {
     "name": "stdout",
     "output_type": "stream",
     "text": [
      "\u001b[32m[1019 22:31:22 @monitor.py:467]\u001b[0m GAN_loss/discrim/accuracy_fake: 0.96\n",
      "\u001b[32m[1019 22:31:22 @monitor.py:467]\u001b[0m GAN_loss/discrim/accuracy_real: 0.054\n",
      "\u001b[32m[1019 22:31:22 @monitor.py:467]\u001b[0m GAN_loss/discrim/loss: 0.64974\n",
      "\u001b[32m[1019 22:31:22 @monitor.py:467]\u001b[0m GAN_loss/gen/final-g-loss: 0.98654\n",
      "\u001b[32m[1019 22:31:22 @monitor.py:467]\u001b[0m GAN_loss/gen/klloss: 0.052767\n",
      "\u001b[32m[1019 22:31:22 @monitor.py:467]\u001b[0m GAN_loss/gen/loss: 0.93377\n",
      "\u001b[32m[1019 22:31:22 @monitor.py:467]\u001b[0m QueueInput/queue_size: 50\n",
      "\u001b[32m[1019 22:31:22 @base.py:275]\u001b[0m Start Epoch 749 ...\n"
     ]
    },
    {
     "name": "stderr",
     "output_type": "stream",
     "text": [
      "100%|###################################################################################|175/175[00:05<00:00,29.62it/s]"
     ]
    },
    {
     "name": "stdout",
     "output_type": "stream",
     "text": [
      "\u001b[32m[1019 22:31:28 @base.py:285]\u001b[0m Epoch 749 (global_step 131075) finished, time:5.91 seconds.\n",
      "\u001b[32m[1019 22:31:28 @saver.py:79]\u001b[0m Model saved to ../output/Chicago/DATGAN_05/model\\model-131075.\n"
     ]
    },
    {
     "name": "stderr",
     "output_type": "stream",
     "text": [
      "\n"
     ]
    },
    {
     "name": "stdout",
     "output_type": "stream",
     "text": [
      "\u001b[32m[1019 22:31:28 @monitor.py:467]\u001b[0m GAN_loss/discrim/accuracy_fake: 0.972\n",
      "\u001b[32m[1019 22:31:28 @monitor.py:467]\u001b[0m GAN_loss/discrim/accuracy_real: 0.048\n",
      "\u001b[32m[1019 22:31:28 @monitor.py:467]\u001b[0m GAN_loss/discrim/loss: 0.65046\n",
      "\u001b[32m[1019 22:31:28 @monitor.py:467]\u001b[0m GAN_loss/gen/final-g-loss: 0.99287\n",
      "\u001b[32m[1019 22:31:28 @monitor.py:467]\u001b[0m GAN_loss/gen/klloss: 0.056016\n",
      "\u001b[32m[1019 22:31:28 @monitor.py:467]\u001b[0m GAN_loss/gen/loss: 0.93685\n",
      "\u001b[32m[1019 22:31:28 @monitor.py:467]\u001b[0m QueueInput/queue_size: 50\n",
      "\u001b[32m[1019 22:31:28 @base.py:275]\u001b[0m Start Epoch 750 ...\n"
     ]
    },
    {
     "name": "stderr",
     "output_type": "stream",
     "text": [
      "100%|###################################################################################|175/175[00:06<00:00,28.67it/s]"
     ]
    },
    {
     "name": "stdout",
     "output_type": "stream",
     "text": [
      "\u001b[32m[1019 22:31:34 @base.py:285]\u001b[0m Epoch 750 (global_step 131250) finished, time:6.1 seconds.\n",
      "\u001b[32m[1019 22:31:34 @saver.py:79]\u001b[0m Model saved to ../output/Chicago/DATGAN_05/model\\model-131250.\n"
     ]
    },
    {
     "name": "stderr",
     "output_type": "stream",
     "text": [
      "\n"
     ]
    },
    {
     "name": "stdout",
     "output_type": "stream",
     "text": [
      "\u001b[32m[1019 22:31:34 @monitor.py:467]\u001b[0m GAN_loss/discrim/accuracy_fake: 0.948\n",
      "\u001b[32m[1019 22:31:34 @monitor.py:467]\u001b[0m GAN_loss/discrim/accuracy_real: 0.066\n",
      "\u001b[32m[1019 22:31:34 @monitor.py:467]\u001b[0m GAN_loss/discrim/loss: 0.64825\n",
      "\u001b[32m[1019 22:31:34 @monitor.py:467]\u001b[0m GAN_loss/gen/final-g-loss: 0.98247\n",
      "\u001b[32m[1019 22:31:34 @monitor.py:467]\u001b[0m GAN_loss/gen/klloss: 0.046191\n",
      "\u001b[32m[1019 22:31:34 @monitor.py:467]\u001b[0m GAN_loss/gen/loss: 0.93628\n",
      "\u001b[32m[1019 22:31:34 @monitor.py:467]\u001b[0m QueueInput/queue_size: 50\n",
      "\u001b[32m[1019 22:31:34 @base.py:275]\u001b[0m Start Epoch 751 ...\n"
     ]
    },
    {
     "name": "stderr",
     "output_type": "stream",
     "text": [
      "100%|###################################################################################|175/175[00:05<00:00,29.68it/s]"
     ]
    },
    {
     "name": "stdout",
     "output_type": "stream",
     "text": [
      "\u001b[32m[1019 22:31:40 @base.py:285]\u001b[0m Epoch 751 (global_step 131425) finished, time:5.9 seconds.\n"
     ]
    },
    {
     "name": "stderr",
     "output_type": "stream",
     "text": [
      "\n"
     ]
    },
    {
     "name": "stdout",
     "output_type": "stream",
     "text": [
      "\u001b[32m[1019 22:31:40 @saver.py:79]\u001b[0m Model saved to ../output/Chicago/DATGAN_05/model\\model-131425.\n",
      "\u001b[32m[1019 22:31:40 @monitor.py:467]\u001b[0m GAN_loss/discrim/accuracy_fake: 0.966\n",
      "\u001b[32m[1019 22:31:40 @monitor.py:467]\u001b[0m GAN_loss/discrim/accuracy_real: 0.05\n",
      "\u001b[32m[1019 22:31:40 @monitor.py:467]\u001b[0m GAN_loss/discrim/loss: 0.65173\n",
      "\u001b[32m[1019 22:31:40 @monitor.py:467]\u001b[0m GAN_loss/gen/final-g-loss: 0.98287\n",
      "\u001b[32m[1019 22:31:40 @monitor.py:467]\u001b[0m GAN_loss/gen/klloss: 0.051926\n",
      "\u001b[32m[1019 22:31:40 @monitor.py:467]\u001b[0m GAN_loss/gen/loss: 0.93094\n",
      "\u001b[32m[1019 22:31:40 @monitor.py:467]\u001b[0m QueueInput/queue_size: 50\n",
      "\u001b[32m[1019 22:31:40 @base.py:275]\u001b[0m Start Epoch 752 ...\n"
     ]
    },
    {
     "name": "stderr",
     "output_type": "stream",
     "text": [
      "100%|###################################################################################|175/175[00:05<00:00,30.18it/s]"
     ]
    },
    {
     "name": "stdout",
     "output_type": "stream",
     "text": [
      "\u001b[32m[1019 22:31:46 @base.py:285]\u001b[0m Epoch 752 (global_step 131600) finished, time:5.8 seconds.\n",
      "\u001b[32m[1019 22:31:46 @saver.py:79]\u001b[0m Model saved to ../output/Chicago/DATGAN_05/model\\model-131600.\n"
     ]
    },
    {
     "name": "stderr",
     "output_type": "stream",
     "text": [
      "\n"
     ]
    },
    {
     "name": "stdout",
     "output_type": "stream",
     "text": [
      "\u001b[32m[1019 22:31:46 @monitor.py:467]\u001b[0m GAN_loss/discrim/accuracy_fake: 0.976\n",
      "\u001b[32m[1019 22:31:46 @monitor.py:467]\u001b[0m GAN_loss/discrim/accuracy_real: 0.064\n",
      "\u001b[32m[1019 22:31:46 @monitor.py:467]\u001b[0m GAN_loss/discrim/loss: 0.65039\n",
      "\u001b[32m[1019 22:31:46 @monitor.py:467]\u001b[0m GAN_loss/gen/final-g-loss: 0.99275\n",
      "\u001b[32m[1019 22:31:46 @monitor.py:467]\u001b[0m GAN_loss/gen/klloss: 0.055232\n",
      "\u001b[32m[1019 22:31:46 @monitor.py:467]\u001b[0m GAN_loss/gen/loss: 0.93752\n",
      "\u001b[32m[1019 22:31:46 @monitor.py:467]\u001b[0m QueueInput/queue_size: 50\n",
      "\u001b[32m[1019 22:31:46 @base.py:275]\u001b[0m Start Epoch 753 ...\n"
     ]
    },
    {
     "name": "stderr",
     "output_type": "stream",
     "text": [
      "100%|###################################################################################|175/175[00:05<00:00,29.86it/s]"
     ]
    },
    {
     "name": "stdout",
     "output_type": "stream",
     "text": [
      "\u001b[32m[1019 22:31:52 @base.py:285]\u001b[0m Epoch 753 (global_step 131775) finished, time:5.86 seconds.\n"
     ]
    },
    {
     "name": "stderr",
     "output_type": "stream",
     "text": [
      "\n"
     ]
    },
    {
     "name": "stdout",
     "output_type": "stream",
     "text": [
      "\u001b[32m[1019 22:31:52 @saver.py:79]\u001b[0m Model saved to ../output/Chicago/DATGAN_05/model\\model-131775.\n",
      "\u001b[32m[1019 22:31:53 @monitor.py:467]\u001b[0m GAN_loss/discrim/accuracy_fake: 0.976\n",
      "\u001b[32m[1019 22:31:53 @monitor.py:467]\u001b[0m GAN_loss/discrim/accuracy_real: 0.032\n",
      "\u001b[32m[1019 22:31:53 @monitor.py:467]\u001b[0m GAN_loss/discrim/loss: 0.64823\n",
      "\u001b[32m[1019 22:31:53 @monitor.py:467]\u001b[0m GAN_loss/gen/final-g-loss: 1.0064\n",
      "\u001b[32m[1019 22:31:53 @monitor.py:467]\u001b[0m GAN_loss/gen/klloss: 0.0675\n",
      "\u001b[32m[1019 22:31:53 @monitor.py:467]\u001b[0m GAN_loss/gen/loss: 0.93891\n",
      "\u001b[32m[1019 22:31:53 @monitor.py:467]\u001b[0m QueueInput/queue_size: 50\n",
      "\u001b[32m[1019 22:31:53 @base.py:275]\u001b[0m Start Epoch 754 ...\n"
     ]
    },
    {
     "name": "stderr",
     "output_type": "stream",
     "text": [
      "100%|###################################################################################|175/175[00:05<00:00,30.41it/s]"
     ]
    },
    {
     "name": "stdout",
     "output_type": "stream",
     "text": [
      "\u001b[32m[1019 22:31:58 @base.py:285]\u001b[0m Epoch 754 (global_step 131950) finished, time:5.76 seconds.\n",
      "\u001b[32m[1019 22:31:58 @saver.py:79]\u001b[0m Model saved to ../output/Chicago/DATGAN_05/model\\model-131950.\n"
     ]
    },
    {
     "name": "stderr",
     "output_type": "stream",
     "text": [
      "\n"
     ]
    },
    {
     "name": "stdout",
     "output_type": "stream",
     "text": [
      "\u001b[32m[1019 22:31:58 @monitor.py:467]\u001b[0m GAN_loss/discrim/accuracy_fake: 0.974\n",
      "\u001b[32m[1019 22:31:59 @monitor.py:467]\u001b[0m GAN_loss/discrim/accuracy_real: 0.042\n",
      "\u001b[32m[1019 22:31:59 @monitor.py:467]\u001b[0m GAN_loss/discrim/loss: 0.64861\n",
      "\u001b[32m[1019 22:31:59 @monitor.py:467]\u001b[0m GAN_loss/gen/final-g-loss: 0.99449\n",
      "\u001b[32m[1019 22:31:59 @monitor.py:467]\u001b[0m GAN_loss/gen/klloss: 0.051592\n",
      "\u001b[32m[1019 22:31:59 @monitor.py:467]\u001b[0m GAN_loss/gen/loss: 0.9429\n",
      "\u001b[32m[1019 22:31:59 @monitor.py:467]\u001b[0m QueueInput/queue_size: 50\n",
      "\u001b[32m[1019 22:31:59 @base.py:275]\u001b[0m Start Epoch 755 ...\n"
     ]
    },
    {
     "name": "stderr",
     "output_type": "stream",
     "text": [
      "100%|###################################################################################|175/175[00:06<00:00,29.05it/s]"
     ]
    },
    {
     "name": "stdout",
     "output_type": "stream",
     "text": [
      "\u001b[32m[1019 22:32:05 @base.py:285]\u001b[0m Epoch 755 (global_step 132125) finished, time:6.03 seconds.\n",
      "\u001b[32m[1019 22:32:05 @saver.py:79]\u001b[0m Model saved to ../output/Chicago/DATGAN_05/model\\model-132125.\n"
     ]
    },
    {
     "name": "stderr",
     "output_type": "stream",
     "text": [
      "\n"
     ]
    },
    {
     "name": "stdout",
     "output_type": "stream",
     "text": [
      "\u001b[32m[1019 22:32:05 @monitor.py:467]\u001b[0m GAN_loss/discrim/accuracy_fake: 0.986\n",
      "\u001b[32m[1019 22:32:05 @monitor.py:467]\u001b[0m GAN_loss/discrim/accuracy_real: 0.056\n",
      "\u001b[32m[1019 22:32:05 @monitor.py:467]\u001b[0m GAN_loss/discrim/loss: 0.64586\n",
      "\u001b[32m[1019 22:32:05 @monitor.py:467]\u001b[0m GAN_loss/gen/final-g-loss: 1.0071\n",
      "\u001b[32m[1019 22:32:05 @monitor.py:467]\u001b[0m GAN_loss/gen/klloss: 0.063099\n",
      "\u001b[32m[1019 22:32:05 @monitor.py:467]\u001b[0m GAN_loss/gen/loss: 0.94403\n",
      "\u001b[32m[1019 22:32:05 @monitor.py:467]\u001b[0m QueueInput/queue_size: 50\n",
      "\u001b[32m[1019 22:32:05 @base.py:275]\u001b[0m Start Epoch 756 ...\n"
     ]
    },
    {
     "name": "stderr",
     "output_type": "stream",
     "text": [
      "100%|###################################################################################|175/175[00:05<00:00,30.05it/s]"
     ]
    },
    {
     "name": "stdout",
     "output_type": "stream",
     "text": [
      "\u001b[32m[1019 22:32:11 @base.py:285]\u001b[0m Epoch 756 (global_step 132300) finished, time:5.82 seconds.\n",
      "\u001b[32m[1019 22:32:11 @saver.py:79]\u001b[0m Model saved to ../output/Chicago/DATGAN_05/model\\model-132300.\n"
     ]
    },
    {
     "name": "stderr",
     "output_type": "stream",
     "text": [
      "\n"
     ]
    },
    {
     "name": "stdout",
     "output_type": "stream",
     "text": [
      "\u001b[32m[1019 22:32:11 @monitor.py:467]\u001b[0m GAN_loss/discrim/accuracy_fake: 0.982\n",
      "\u001b[32m[1019 22:32:11 @monitor.py:467]\u001b[0m GAN_loss/discrim/accuracy_real: 0.05\n",
      "\u001b[32m[1019 22:32:11 @monitor.py:467]\u001b[0m GAN_loss/discrim/loss: 0.6452\n",
      "\u001b[32m[1019 22:32:11 @monitor.py:467]\u001b[0m GAN_loss/gen/final-g-loss: 1.0114\n",
      "\u001b[32m[1019 22:32:11 @monitor.py:467]\u001b[0m GAN_loss/gen/klloss: 0.06497\n",
      "\u001b[32m[1019 22:32:11 @monitor.py:467]\u001b[0m GAN_loss/gen/loss: 0.94641\n",
      "\u001b[32m[1019 22:32:11 @monitor.py:467]\u001b[0m QueueInput/queue_size: 50\n",
      "\u001b[32m[1019 22:32:11 @base.py:275]\u001b[0m Start Epoch 757 ...\n"
     ]
    },
    {
     "name": "stderr",
     "output_type": "stream",
     "text": [
      "100%|###################################################################################|175/175[00:05<00:00,29.57it/s]"
     ]
    },
    {
     "name": "stdout",
     "output_type": "stream",
     "text": [
      "\u001b[32m[1019 22:32:17 @base.py:285]\u001b[0m Epoch 757 (global_step 132475) finished, time:5.92 seconds.\n",
      "\u001b[32m[1019 22:32:17 @saver.py:79]\u001b[0m Model saved to ../output/Chicago/DATGAN_05/model\\model-132475.\n"
     ]
    },
    {
     "name": "stderr",
     "output_type": "stream",
     "text": [
      "\n"
     ]
    },
    {
     "name": "stdout",
     "output_type": "stream",
     "text": [
      "\u001b[32m[1019 22:32:17 @monitor.py:467]\u001b[0m GAN_loss/discrim/accuracy_fake: 0.96\n",
      "\u001b[32m[1019 22:32:17 @monitor.py:467]\u001b[0m GAN_loss/discrim/accuracy_real: 0.04\n",
      "\u001b[32m[1019 22:32:17 @monitor.py:467]\u001b[0m GAN_loss/discrim/loss: 0.65176\n",
      "\u001b[32m[1019 22:32:17 @monitor.py:467]\u001b[0m GAN_loss/gen/final-g-loss: 0.99421\n",
      "\u001b[32m[1019 22:32:17 @monitor.py:467]\u001b[0m GAN_loss/gen/klloss: 0.061379\n",
      "\u001b[32m[1019 22:32:17 @monitor.py:467]\u001b[0m GAN_loss/gen/loss: 0.93283\n",
      "\u001b[32m[1019 22:32:17 @monitor.py:467]\u001b[0m QueueInput/queue_size: 50\n",
      "\u001b[32m[1019 22:32:17 @base.py:275]\u001b[0m Start Epoch 758 ...\n"
     ]
    },
    {
     "name": "stderr",
     "output_type": "stream",
     "text": [
      "100%|###################################################################################|175/175[00:05<00:00,29.80it/s]"
     ]
    },
    {
     "name": "stdout",
     "output_type": "stream",
     "text": [
      "\u001b[32m[1019 22:32:23 @base.py:285]\u001b[0m Epoch 758 (global_step 132650) finished, time:5.87 seconds.\n"
     ]
    },
    {
     "name": "stderr",
     "output_type": "stream",
     "text": [
      "\n"
     ]
    },
    {
     "name": "stdout",
     "output_type": "stream",
     "text": [
      "\u001b[32m[1019 22:32:23 @saver.py:79]\u001b[0m Model saved to ../output/Chicago/DATGAN_05/model\\model-132650.\n",
      "\u001b[32m[1019 22:32:23 @monitor.py:467]\u001b[0m GAN_loss/discrim/accuracy_fake: 0.97\n",
      "\u001b[32m[1019 22:32:23 @monitor.py:467]\u001b[0m GAN_loss/discrim/accuracy_real: 0.056\n",
      "\u001b[32m[1019 22:32:23 @monitor.py:467]\u001b[0m GAN_loss/discrim/loss: 0.65001\n",
      "\u001b[32m[1019 22:32:23 @monitor.py:467]\u001b[0m GAN_loss/gen/final-g-loss: 1.0146\n",
      "\u001b[32m[1019 22:32:23 @monitor.py:467]\u001b[0m GAN_loss/gen/klloss: 0.065649\n",
      "\u001b[32m[1019 22:32:23 @monitor.py:467]\u001b[0m GAN_loss/gen/loss: 0.94895\n",
      "\u001b[32m[1019 22:32:23 @monitor.py:467]\u001b[0m QueueInput/queue_size: 50\n",
      "\u001b[32m[1019 22:32:23 @base.py:275]\u001b[0m Start Epoch 759 ...\n"
     ]
    },
    {
     "name": "stderr",
     "output_type": "stream",
     "text": [
      "100%|###################################################################################|175/175[00:05<00:00,29.37it/s]"
     ]
    },
    {
     "name": "stdout",
     "output_type": "stream",
     "text": [
      "\u001b[32m[1019 22:32:29 @base.py:285]\u001b[0m Epoch 759 (global_step 132825) finished, time:5.96 seconds.\n",
      "\u001b[32m[1019 22:32:29 @saver.py:79]\u001b[0m Model saved to ../output/Chicago/DATGAN_05/model\\model-132825.\n"
     ]
    },
    {
     "name": "stderr",
     "output_type": "stream",
     "text": [
      "\n"
     ]
    },
    {
     "name": "stdout",
     "output_type": "stream",
     "text": [
      "\u001b[32m[1019 22:32:29 @monitor.py:467]\u001b[0m GAN_loss/discrim/accuracy_fake: 0.968\n",
      "\u001b[32m[1019 22:32:29 @monitor.py:467]\u001b[0m GAN_loss/discrim/accuracy_real: 0.048\n",
      "\u001b[32m[1019 22:32:29 @monitor.py:467]\u001b[0m GAN_loss/discrim/loss: 0.64772\n",
      "\u001b[32m[1019 22:32:29 @monitor.py:467]\u001b[0m GAN_loss/gen/final-g-loss: 1.0349\n",
      "\u001b[32m[1019 22:32:29 @monitor.py:467]\u001b[0m GAN_loss/gen/klloss: 0.087097\n",
      "\u001b[32m[1019 22:32:29 @monitor.py:467]\u001b[0m GAN_loss/gen/loss: 0.94777\n",
      "\u001b[32m[1019 22:32:29 @monitor.py:467]\u001b[0m QueueInput/queue_size: 50\n",
      "\u001b[32m[1019 22:32:29 @base.py:275]\u001b[0m Start Epoch 760 ...\n"
     ]
    },
    {
     "name": "stderr",
     "output_type": "stream",
     "text": [
      "100%|###################################################################################|175/175[00:06<00:00,27.89it/s]"
     ]
    },
    {
     "name": "stdout",
     "output_type": "stream",
     "text": [
      "\u001b[32m[1019 22:32:36 @base.py:285]\u001b[0m Epoch 760 (global_step 133000) finished, time:6.28 seconds.\n",
      "\u001b[32m[1019 22:32:36 @saver.py:79]\u001b[0m Model saved to ../output/Chicago/DATGAN_05/model\\model-133000.\n"
     ]
    },
    {
     "name": "stderr",
     "output_type": "stream",
     "text": [
      "\n"
     ]
    },
    {
     "name": "stdout",
     "output_type": "stream",
     "text": [
      "\u001b[32m[1019 22:32:36 @monitor.py:467]\u001b[0m GAN_loss/discrim/accuracy_fake: 0.974\n",
      "\u001b[32m[1019 22:32:36 @monitor.py:467]\u001b[0m GAN_loss/discrim/accuracy_real: 0.05\n",
      "\u001b[32m[1019 22:32:36 @monitor.py:467]\u001b[0m GAN_loss/discrim/loss: 0.64836\n",
      "\u001b[32m[1019 22:32:36 @monitor.py:467]\u001b[0m GAN_loss/gen/final-g-loss: 1.0233\n",
      "\u001b[32m[1019 22:32:36 @monitor.py:467]\u001b[0m GAN_loss/gen/klloss: 0.087539\n",
      "\u001b[32m[1019 22:32:36 @monitor.py:467]\u001b[0m GAN_loss/gen/loss: 0.93581\n",
      "\u001b[32m[1019 22:32:36 @monitor.py:467]\u001b[0m QueueInput/queue_size: 50\n",
      "\u001b[32m[1019 22:32:36 @base.py:275]\u001b[0m Start Epoch 761 ...\n"
     ]
    },
    {
     "name": "stderr",
     "output_type": "stream",
     "text": [
      "100%|###################################################################################|175/175[00:05<00:00,29.71it/s]"
     ]
    },
    {
     "name": "stdout",
     "output_type": "stream",
     "text": [
      "\u001b[32m[1019 22:32:42 @base.py:285]\u001b[0m Epoch 761 (global_step 133175) finished, time:5.89 seconds.\n",
      "\u001b[32m[1019 22:32:42 @saver.py:79]\u001b[0m Model saved to ../output/Chicago/DATGAN_05/model\\model-133175.\n"
     ]
    },
    {
     "name": "stderr",
     "output_type": "stream",
     "text": [
      "\n"
     ]
    },
    {
     "name": "stdout",
     "output_type": "stream",
     "text": [
      "\u001b[32m[1019 22:32:42 @monitor.py:467]\u001b[0m GAN_loss/discrim/accuracy_fake: 0.962\n",
      "\u001b[32m[1019 22:32:42 @monitor.py:467]\u001b[0m GAN_loss/discrim/accuracy_real: 0.042\n",
      "\u001b[32m[1019 22:32:42 @monitor.py:467]\u001b[0m GAN_loss/discrim/loss: 0.65171\n",
      "\u001b[32m[1019 22:32:42 @monitor.py:467]\u001b[0m GAN_loss/gen/final-g-loss: 0.98835\n",
      "\u001b[32m[1019 22:32:42 @monitor.py:467]\u001b[0m GAN_loss/gen/klloss: 0.057316\n",
      "\u001b[32m[1019 22:32:42 @monitor.py:467]\u001b[0m GAN_loss/gen/loss: 0.93104\n",
      "\u001b[32m[1019 22:32:42 @monitor.py:467]\u001b[0m QueueInput/queue_size: 50\n",
      "\u001b[32m[1019 22:32:42 @base.py:275]\u001b[0m Start Epoch 762 ...\n"
     ]
    },
    {
     "name": "stderr",
     "output_type": "stream",
     "text": [
      "100%|###################################################################################|175/175[00:05<00:00,29.92it/s]"
     ]
    },
    {
     "name": "stdout",
     "output_type": "stream",
     "text": [
      "\u001b[32m[1019 22:32:48 @base.py:285]\u001b[0m Epoch 762 (global_step 133350) finished, time:5.85 seconds.\n",
      "\u001b[32m[1019 22:32:48 @saver.py:79]\u001b[0m Model saved to ../output/Chicago/DATGAN_05/model\\model-133350.\n"
     ]
    },
    {
     "name": "stderr",
     "output_type": "stream",
     "text": [
      "\n"
     ]
    },
    {
     "name": "stdout",
     "output_type": "stream",
     "text": [
      "\u001b[32m[1019 22:32:48 @monitor.py:467]\u001b[0m GAN_loss/discrim/accuracy_fake: 0.97\n",
      "\u001b[32m[1019 22:32:48 @monitor.py:467]\u001b[0m GAN_loss/discrim/accuracy_real: 0.07\n",
      "\u001b[32m[1019 22:32:48 @monitor.py:467]\u001b[0m GAN_loss/discrim/loss: 0.64764\n",
      "\u001b[32m[1019 22:32:48 @monitor.py:467]\u001b[0m GAN_loss/gen/final-g-loss: 1.0036\n",
      "\u001b[32m[1019 22:32:48 @monitor.py:467]\u001b[0m GAN_loss/gen/klloss: 0.068278\n",
      "\u001b[32m[1019 22:32:48 @monitor.py:467]\u001b[0m GAN_loss/gen/loss: 0.93533\n",
      "\u001b[32m[1019 22:32:48 @monitor.py:467]\u001b[0m QueueInput/queue_size: 50\n",
      "\u001b[32m[1019 22:32:48 @base.py:275]\u001b[0m Start Epoch 763 ...\n"
     ]
    },
    {
     "name": "stderr",
     "output_type": "stream",
     "text": [
      "100%|###################################################################################|175/175[00:05<00:00,29.44it/s]"
     ]
    },
    {
     "name": "stdout",
     "output_type": "stream",
     "text": [
      "\u001b[32m[1019 22:32:54 @base.py:285]\u001b[0m Epoch 763 (global_step 133525) finished, time:5.95 seconds.\n",
      "\u001b[32m[1019 22:32:54 @saver.py:79]\u001b[0m Model saved to ../output/Chicago/DATGAN_05/model\\model-133525.\n"
     ]
    },
    {
     "name": "stderr",
     "output_type": "stream",
     "text": [
      "\n"
     ]
    },
    {
     "name": "stdout",
     "output_type": "stream",
     "text": [
      "\u001b[32m[1019 22:32:54 @monitor.py:467]\u001b[0m GAN_loss/discrim/accuracy_fake: 0.97\n",
      "\u001b[32m[1019 22:32:54 @monitor.py:467]\u001b[0m GAN_loss/discrim/accuracy_real: 0.048\n",
      "\u001b[32m[1019 22:32:54 @monitor.py:467]\u001b[0m GAN_loss/discrim/loss: 0.64643\n",
      "\u001b[32m[1019 22:32:54 @monitor.py:467]\u001b[0m GAN_loss/gen/final-g-loss: 1.0479\n",
      "\u001b[32m[1019 22:32:54 @monitor.py:467]\u001b[0m GAN_loss/gen/klloss: 0.10637\n",
      "\u001b[32m[1019 22:32:54 @monitor.py:467]\u001b[0m GAN_loss/gen/loss: 0.94155\n",
      "\u001b[32m[1019 22:32:54 @monitor.py:467]\u001b[0m QueueInput/queue_size: 50\n",
      "\u001b[32m[1019 22:32:54 @base.py:275]\u001b[0m Start Epoch 764 ...\n"
     ]
    },
    {
     "name": "stderr",
     "output_type": "stream",
     "text": [
      "100%|###################################################################################|175/175[00:05<00:00,29.23it/s]"
     ]
    },
    {
     "name": "stdout",
     "output_type": "stream",
     "text": [
      "\u001b[32m[1019 22:33:00 @base.py:285]\u001b[0m Epoch 764 (global_step 133700) finished, time:5.99 seconds.\n",
      "\u001b[32m[1019 22:33:00 @saver.py:79]\u001b[0m Model saved to ../output/Chicago/DATGAN_05/model\\model-133700.\n"
     ]
    },
    {
     "name": "stderr",
     "output_type": "stream",
     "text": [
      "\n"
     ]
    },
    {
     "name": "stdout",
     "output_type": "stream",
     "text": [
      "\u001b[32m[1019 22:33:00 @monitor.py:467]\u001b[0m GAN_loss/discrim/accuracy_fake: 0.96\n",
      "\u001b[32m[1019 22:33:00 @monitor.py:467]\u001b[0m GAN_loss/discrim/accuracy_real: 0.064\n",
      "\u001b[32m[1019 22:33:00 @monitor.py:467]\u001b[0m GAN_loss/discrim/loss: 0.65326\n",
      "\u001b[32m[1019 22:33:00 @monitor.py:467]\u001b[0m GAN_loss/gen/final-g-loss: 0.99909\n",
      "\u001b[32m[1019 22:33:00 @monitor.py:467]\u001b[0m GAN_loss/gen/klloss: 0.058145\n",
      "\u001b[32m[1019 22:33:00 @monitor.py:467]\u001b[0m GAN_loss/gen/loss: 0.94095\n",
      "\u001b[32m[1019 22:33:00 @monitor.py:467]\u001b[0m QueueInput/queue_size: 50\n",
      "\u001b[32m[1019 22:33:00 @base.py:275]\u001b[0m Start Epoch 765 ...\n"
     ]
    },
    {
     "name": "stderr",
     "output_type": "stream",
     "text": [
      "100%|###################################################################################|175/175[00:06<00:00,28.53it/s]"
     ]
    },
    {
     "name": "stdout",
     "output_type": "stream",
     "text": [
      "\u001b[32m[1019 22:33:06 @base.py:285]\u001b[0m Epoch 765 (global_step 133875) finished, time:6.13 seconds.\n",
      "\u001b[32m[1019 22:33:07 @saver.py:79]\u001b[0m Model saved to ../output/Chicago/DATGAN_05/model\\model-133875.\n"
     ]
    },
    {
     "name": "stderr",
     "output_type": "stream",
     "text": [
      "\n"
     ]
    },
    {
     "name": "stdout",
     "output_type": "stream",
     "text": [
      "\u001b[32m[1019 22:33:07 @monitor.py:467]\u001b[0m GAN_loss/discrim/accuracy_fake: 0.968\n",
      "\u001b[32m[1019 22:33:07 @monitor.py:467]\u001b[0m GAN_loss/discrim/accuracy_real: 0.052\n",
      "\u001b[32m[1019 22:33:07 @monitor.py:467]\u001b[0m GAN_loss/discrim/loss: 0.65002\n",
      "\u001b[32m[1019 22:33:07 @monitor.py:467]\u001b[0m GAN_loss/gen/final-g-loss: 1.0015\n",
      "\u001b[32m[1019 22:33:07 @monitor.py:467]\u001b[0m GAN_loss/gen/klloss: 0.064449\n",
      "\u001b[32m[1019 22:33:07 @monitor.py:467]\u001b[0m GAN_loss/gen/loss: 0.93705\n",
      "\u001b[32m[1019 22:33:07 @monitor.py:467]\u001b[0m QueueInput/queue_size: 50\n",
      "\u001b[32m[1019 22:33:07 @base.py:275]\u001b[0m Start Epoch 766 ...\n"
     ]
    },
    {
     "name": "stderr",
     "output_type": "stream",
     "text": [
      "100%|###################################################################################|175/175[00:05<00:00,30.29it/s]"
     ]
    },
    {
     "name": "stdout",
     "output_type": "stream",
     "text": [
      "\u001b[32m[1019 22:33:12 @base.py:285]\u001b[0m Epoch 766 (global_step 134050) finished, time:5.78 seconds.\n",
      "\u001b[32m[1019 22:33:13 @saver.py:79]\u001b[0m Model saved to ../output/Chicago/DATGAN_05/model\\model-134050.\n"
     ]
    },
    {
     "name": "stderr",
     "output_type": "stream",
     "text": [
      "\n"
     ]
    },
    {
     "name": "stdout",
     "output_type": "stream",
     "text": [
      "\u001b[32m[1019 22:33:13 @monitor.py:467]\u001b[0m GAN_loss/discrim/accuracy_fake: 0.978\n",
      "\u001b[32m[1019 22:33:13 @monitor.py:467]\u001b[0m GAN_loss/discrim/accuracy_real: 0.046\n",
      "\u001b[32m[1019 22:33:13 @monitor.py:467]\u001b[0m GAN_loss/discrim/loss: 0.64301\n",
      "\u001b[32m[1019 22:33:13 @monitor.py:467]\u001b[0m GAN_loss/gen/final-g-loss: 0.99778\n",
      "\u001b[32m[1019 22:33:13 @monitor.py:467]\u001b[0m GAN_loss/gen/klloss: 0.048783\n",
      "\u001b[32m[1019 22:33:13 @monitor.py:467]\u001b[0m GAN_loss/gen/loss: 0.949\n",
      "\u001b[32m[1019 22:33:13 @monitor.py:467]\u001b[0m QueueInput/queue_size: 50\n",
      "\u001b[32m[1019 22:33:13 @base.py:275]\u001b[0m Start Epoch 767 ...\n"
     ]
    },
    {
     "name": "stderr",
     "output_type": "stream",
     "text": [
      "100%|###################################################################################|175/175[00:05<00:00,30.38it/s]"
     ]
    },
    {
     "name": "stdout",
     "output_type": "stream",
     "text": [
      "\u001b[32m[1019 22:33:18 @base.py:285]\u001b[0m Epoch 767 (global_step 134225) finished, time:5.76 seconds.\n",
      "\u001b[32m[1019 22:33:19 @saver.py:79]\u001b[0m Model saved to ../output/Chicago/DATGAN_05/model\\model-134225.\n"
     ]
    },
    {
     "name": "stderr",
     "output_type": "stream",
     "text": [
      "\n"
     ]
    },
    {
     "name": "stdout",
     "output_type": "stream",
     "text": [
      "\u001b[32m[1019 22:33:19 @monitor.py:467]\u001b[0m GAN_loss/discrim/accuracy_fake: 0.976\n",
      "\u001b[32m[1019 22:33:19 @monitor.py:467]\u001b[0m GAN_loss/discrim/accuracy_real: 0.044\n",
      "\u001b[32m[1019 22:33:19 @monitor.py:467]\u001b[0m GAN_loss/discrim/loss: 0.64782\n",
      "\u001b[32m[1019 22:33:19 @monitor.py:467]\u001b[0m GAN_loss/gen/final-g-loss: 1.0094\n",
      "\u001b[32m[1019 22:33:19 @monitor.py:467]\u001b[0m GAN_loss/gen/klloss: 0.06779\n",
      "\u001b[32m[1019 22:33:19 @monitor.py:467]\u001b[0m GAN_loss/gen/loss: 0.94158\n",
      "\u001b[32m[1019 22:33:19 @monitor.py:467]\u001b[0m QueueInput/queue_size: 50\n",
      "\u001b[32m[1019 22:33:19 @base.py:275]\u001b[0m Start Epoch 768 ...\n"
     ]
    },
    {
     "name": "stderr",
     "output_type": "stream",
     "text": [
      "100%|###################################################################################|175/175[00:05<00:00,30.01it/s]"
     ]
    },
    {
     "name": "stdout",
     "output_type": "stream",
     "text": [
      "\u001b[32m[1019 22:33:25 @base.py:285]\u001b[0m Epoch 768 (global_step 134400) finished, time:5.83 seconds.\n"
     ]
    },
    {
     "name": "stderr",
     "output_type": "stream",
     "text": [
      "\n"
     ]
    },
    {
     "name": "stdout",
     "output_type": "stream",
     "text": [
      "\u001b[32m[1019 22:33:25 @saver.py:79]\u001b[0m Model saved to ../output/Chicago/DATGAN_05/model\\model-134400.\n",
      "\u001b[32m[1019 22:33:25 @monitor.py:467]\u001b[0m GAN_loss/discrim/accuracy_fake: 0.972\n",
      "\u001b[32m[1019 22:33:25 @monitor.py:467]\u001b[0m GAN_loss/discrim/accuracy_real: 0.044\n",
      "\u001b[32m[1019 22:33:25 @monitor.py:467]\u001b[0m GAN_loss/discrim/loss: 0.65095\n",
      "\u001b[32m[1019 22:33:25 @monitor.py:467]\u001b[0m GAN_loss/gen/final-g-loss: 0.98065\n",
      "\u001b[32m[1019 22:33:25 @monitor.py:467]\u001b[0m GAN_loss/gen/klloss: 0.033518\n",
      "\u001b[32m[1019 22:33:25 @monitor.py:467]\u001b[0m GAN_loss/gen/loss: 0.94714\n",
      "\u001b[32m[1019 22:33:25 @monitor.py:467]\u001b[0m QueueInput/queue_size: 50\n",
      "\u001b[32m[1019 22:33:25 @base.py:275]\u001b[0m Start Epoch 769 ...\n"
     ]
    },
    {
     "name": "stderr",
     "output_type": "stream",
     "text": [
      "100%|###################################################################################|175/175[00:05<00:00,29.30it/s]"
     ]
    },
    {
     "name": "stdout",
     "output_type": "stream",
     "text": [
      "\u001b[32m[1019 22:33:31 @base.py:285]\u001b[0m Epoch 769 (global_step 134575) finished, time:5.97 seconds.\n",
      "\u001b[32m[1019 22:33:31 @saver.py:79]\u001b[0m Model saved to ../output/Chicago/DATGAN_05/model\\model-134575.\n"
     ]
    },
    {
     "name": "stderr",
     "output_type": "stream",
     "text": [
      "\n"
     ]
    },
    {
     "name": "stdout",
     "output_type": "stream",
     "text": [
      "\u001b[32m[1019 22:33:31 @monitor.py:467]\u001b[0m GAN_loss/discrim/accuracy_fake: 0.98\n",
      "\u001b[32m[1019 22:33:31 @monitor.py:467]\u001b[0m GAN_loss/discrim/accuracy_real: 0.04\n",
      "\u001b[32m[1019 22:33:31 @monitor.py:467]\u001b[0m GAN_loss/discrim/loss: 0.64689\n",
      "\u001b[32m[1019 22:33:31 @monitor.py:467]\u001b[0m GAN_loss/gen/final-g-loss: 1.0027\n",
      "\u001b[32m[1019 22:33:31 @monitor.py:467]\u001b[0m GAN_loss/gen/klloss: 0.059735\n",
      "\u001b[32m[1019 22:33:31 @monitor.py:467]\u001b[0m GAN_loss/gen/loss: 0.94299\n",
      "\u001b[32m[1019 22:33:31 @monitor.py:467]\u001b[0m QueueInput/queue_size: 50\n",
      "\u001b[32m[1019 22:33:31 @base.py:275]\u001b[0m Start Epoch 770 ...\n"
     ]
    },
    {
     "name": "stderr",
     "output_type": "stream",
     "text": [
      "100%|###################################################################################|175/175[00:06<00:00,28.41it/s]"
     ]
    },
    {
     "name": "stdout",
     "output_type": "stream",
     "text": [
      "\u001b[32m[1019 22:33:37 @base.py:285]\u001b[0m Epoch 770 (global_step 134750) finished, time:6.16 seconds.\n",
      "\u001b[32m[1019 22:33:37 @saver.py:79]\u001b[0m Model saved to ../output/Chicago/DATGAN_05/model\\model-134750.\n"
     ]
    },
    {
     "name": "stderr",
     "output_type": "stream",
     "text": [
      "\n"
     ]
    },
    {
     "name": "stdout",
     "output_type": "stream",
     "text": [
      "\u001b[32m[1019 22:33:37 @monitor.py:467]\u001b[0m GAN_loss/discrim/accuracy_fake: 0.986\n",
      "\u001b[32m[1019 22:33:37 @monitor.py:467]\u001b[0m GAN_loss/discrim/accuracy_real: 0.038\n",
      "\u001b[32m[1019 22:33:37 @monitor.py:467]\u001b[0m GAN_loss/discrim/loss: 0.65444\n",
      "\u001b[32m[1019 22:33:37 @monitor.py:467]\u001b[0m GAN_loss/gen/final-g-loss: 0.98822\n",
      "\u001b[32m[1019 22:33:37 @monitor.py:467]\u001b[0m GAN_loss/gen/klloss: 0.055044\n",
      "\u001b[32m[1019 22:33:37 @monitor.py:467]\u001b[0m GAN_loss/gen/loss: 0.93317\n",
      "\u001b[32m[1019 22:33:37 @monitor.py:467]\u001b[0m QueueInput/queue_size: 50\n",
      "\u001b[32m[1019 22:33:37 @base.py:275]\u001b[0m Start Epoch 771 ...\n"
     ]
    },
    {
     "name": "stderr",
     "output_type": "stream",
     "text": [
      "100%|###################################################################################|175/175[00:05<00:00,29.86it/s]"
     ]
    },
    {
     "name": "stdout",
     "output_type": "stream",
     "text": [
      "\u001b[32m[1019 22:33:43 @base.py:285]\u001b[0m Epoch 771 (global_step 134925) finished, time:5.86 seconds.\n"
     ]
    },
    {
     "name": "stderr",
     "output_type": "stream",
     "text": [
      "\n"
     ]
    },
    {
     "name": "stdout",
     "output_type": "stream",
     "text": [
      "\u001b[32m[1019 22:33:43 @saver.py:79]\u001b[0m Model saved to ../output/Chicago/DATGAN_05/model\\model-134925.\n",
      "\u001b[32m[1019 22:33:43 @monitor.py:467]\u001b[0m GAN_loss/discrim/accuracy_fake: 0.964\n",
      "\u001b[32m[1019 22:33:43 @monitor.py:467]\u001b[0m GAN_loss/discrim/accuracy_real: 0.064\n",
      "\u001b[32m[1019 22:33:43 @monitor.py:467]\u001b[0m GAN_loss/discrim/loss: 0.65282\n",
      "\u001b[32m[1019 22:33:43 @monitor.py:467]\u001b[0m GAN_loss/gen/final-g-loss: 0.98434\n",
      "\u001b[32m[1019 22:33:43 @monitor.py:467]\u001b[0m GAN_loss/gen/klloss: 0.053936\n",
      "\u001b[32m[1019 22:33:43 @monitor.py:467]\u001b[0m GAN_loss/gen/loss: 0.93041\n",
      "\u001b[32m[1019 22:33:43 @monitor.py:467]\u001b[0m QueueInput/queue_size: 50\n",
      "\u001b[32m[1019 22:33:43 @base.py:275]\u001b[0m Start Epoch 772 ...\n"
     ]
    },
    {
     "name": "stderr",
     "output_type": "stream",
     "text": [
      "100%|###################################################################################|175/175[00:05<00:00,29.75it/s]"
     ]
    },
    {
     "name": "stdout",
     "output_type": "stream",
     "text": [
      "\u001b[32m[1019 22:33:49 @base.py:285]\u001b[0m Epoch 772 (global_step 135100) finished, time:5.88 seconds.\n"
     ]
    },
    {
     "name": "stderr",
     "output_type": "stream",
     "text": [
      "\n"
     ]
    },
    {
     "name": "stdout",
     "output_type": "stream",
     "text": [
      "\u001b[32m[1019 22:33:49 @saver.py:79]\u001b[0m Model saved to ../output/Chicago/DATGAN_05/model\\model-135100.\n",
      "\u001b[32m[1019 22:33:50 @monitor.py:467]\u001b[0m GAN_loss/discrim/accuracy_fake: 0.976\n",
      "\u001b[32m[1019 22:33:50 @monitor.py:467]\u001b[0m GAN_loss/discrim/accuracy_real: 0.046\n",
      "\u001b[32m[1019 22:33:50 @monitor.py:467]\u001b[0m GAN_loss/discrim/loss: 0.6511\n",
      "\u001b[32m[1019 22:33:50 @monitor.py:467]\u001b[0m GAN_loss/gen/final-g-loss: 1.0046\n",
      "\u001b[32m[1019 22:33:50 @monitor.py:467]\u001b[0m GAN_loss/gen/klloss: 0.059896\n",
      "\u001b[32m[1019 22:33:50 @monitor.py:467]\u001b[0m GAN_loss/gen/loss: 0.94472\n",
      "\u001b[32m[1019 22:33:50 @monitor.py:467]\u001b[0m QueueInput/queue_size: 50\n",
      "\u001b[32m[1019 22:33:50 @base.py:275]\u001b[0m Start Epoch 773 ...\n"
     ]
    },
    {
     "name": "stderr",
     "output_type": "stream",
     "text": [
      "100%|###################################################################################|175/175[00:06<00:00,29.08it/s]"
     ]
    },
    {
     "name": "stdout",
     "output_type": "stream",
     "text": [
      "\u001b[32m[1019 22:33:56 @base.py:285]\u001b[0m Epoch 773 (global_step 135275) finished, time:6.02 seconds.\n",
      "\u001b[32m[1019 22:33:56 @saver.py:79]\u001b[0m Model saved to ../output/Chicago/DATGAN_05/model\\model-135275.\n"
     ]
    },
    {
     "name": "stderr",
     "output_type": "stream",
     "text": [
      "\n"
     ]
    },
    {
     "name": "stdout",
     "output_type": "stream",
     "text": [
      "\u001b[32m[1019 22:33:56 @monitor.py:467]\u001b[0m GAN_loss/discrim/accuracy_fake: 0.976\n",
      "\u001b[32m[1019 22:33:56 @monitor.py:467]\u001b[0m GAN_loss/discrim/accuracy_real: 0.062\n",
      "\u001b[32m[1019 22:33:56 @monitor.py:467]\u001b[0m GAN_loss/discrim/loss: 0.64454\n",
      "\u001b[32m[1019 22:33:56 @monitor.py:467]\u001b[0m GAN_loss/gen/final-g-loss: 1.0009\n",
      "\u001b[32m[1019 22:33:56 @monitor.py:467]\u001b[0m GAN_loss/gen/klloss: 0.055964\n",
      "\u001b[32m[1019 22:33:56 @monitor.py:467]\u001b[0m GAN_loss/gen/loss: 0.94494\n",
      "\u001b[32m[1019 22:33:56 @monitor.py:467]\u001b[0m QueueInput/queue_size: 50\n",
      "\u001b[32m[1019 22:33:56 @base.py:275]\u001b[0m Start Epoch 774 ...\n"
     ]
    },
    {
     "name": "stderr",
     "output_type": "stream",
     "text": [
      "100%|###################################################################################|175/175[00:05<00:00,29.41it/s]"
     ]
    },
    {
     "name": "stdout",
     "output_type": "stream",
     "text": [
      "\u001b[32m[1019 22:34:02 @base.py:285]\u001b[0m Epoch 774 (global_step 135450) finished, time:5.95 seconds.\n",
      "\u001b[32m[1019 22:34:02 @saver.py:79]\u001b[0m Model saved to ../output/Chicago/DATGAN_05/model\\model-135450.\n"
     ]
    },
    {
     "name": "stderr",
     "output_type": "stream",
     "text": [
      "\n"
     ]
    },
    {
     "name": "stdout",
     "output_type": "stream",
     "text": [
      "\u001b[32m[1019 22:34:02 @monitor.py:467]\u001b[0m GAN_loss/discrim/accuracy_fake: 0.976\n",
      "\u001b[32m[1019 22:34:02 @monitor.py:467]\u001b[0m GAN_loss/discrim/accuracy_real: 0.056\n",
      "\u001b[32m[1019 22:34:02 @monitor.py:467]\u001b[0m GAN_loss/discrim/loss: 0.6482\n",
      "\u001b[32m[1019 22:34:02 @monitor.py:467]\u001b[0m GAN_loss/gen/final-g-loss: 1.0235\n",
      "\u001b[32m[1019 22:34:02 @monitor.py:467]\u001b[0m GAN_loss/gen/klloss: 0.08834\n",
      "\u001b[32m[1019 22:34:02 @monitor.py:467]\u001b[0m GAN_loss/gen/loss: 0.9352\n",
      "\u001b[32m[1019 22:34:02 @monitor.py:467]\u001b[0m QueueInput/queue_size: 50\n",
      "\u001b[32m[1019 22:34:02 @base.py:275]\u001b[0m Start Epoch 775 ...\n"
     ]
    },
    {
     "name": "stderr",
     "output_type": "stream",
     "text": [
      "100%|###################################################################################|175/175[00:06<00:00,29.10it/s]"
     ]
    },
    {
     "name": "stdout",
     "output_type": "stream",
     "text": [
      "\u001b[32m[1019 22:34:08 @base.py:285]\u001b[0m Epoch 775 (global_step 135625) finished, time:6.01 seconds.\n",
      "\u001b[32m[1019 22:34:08 @saver.py:79]\u001b[0m Model saved to ../output/Chicago/DATGAN_05/model\\model-135625.\n"
     ]
    },
    {
     "name": "stderr",
     "output_type": "stream",
     "text": [
      "\n"
     ]
    },
    {
     "name": "stdout",
     "output_type": "stream",
     "text": [
      "\u001b[32m[1019 22:34:08 @monitor.py:467]\u001b[0m GAN_loss/discrim/accuracy_fake: 0.968\n",
      "\u001b[32m[1019 22:34:08 @monitor.py:467]\u001b[0m GAN_loss/discrim/accuracy_real: 0.07\n",
      "\u001b[32m[1019 22:34:08 @monitor.py:467]\u001b[0m GAN_loss/discrim/loss: 0.64511\n",
      "\u001b[32m[1019 22:34:08 @monitor.py:467]\u001b[0m GAN_loss/gen/final-g-loss: 1.0075\n",
      "\u001b[32m[1019 22:34:08 @monitor.py:467]\u001b[0m GAN_loss/gen/klloss: 0.069761\n",
      "\u001b[32m[1019 22:34:08 @monitor.py:467]\u001b[0m GAN_loss/gen/loss: 0.93773\n",
      "\u001b[32m[1019 22:34:08 @monitor.py:467]\u001b[0m QueueInput/queue_size: 50\n",
      "\u001b[32m[1019 22:34:08 @base.py:275]\u001b[0m Start Epoch 776 ...\n"
     ]
    },
    {
     "name": "stderr",
     "output_type": "stream",
     "text": [
      "100%|###################################################################################|175/175[00:05<00:00,29.33it/s]"
     ]
    },
    {
     "name": "stdout",
     "output_type": "stream",
     "text": [
      "\u001b[32m[1019 22:34:14 @base.py:285]\u001b[0m Epoch 776 (global_step 135800) finished, time:5.97 seconds.\n",
      "\u001b[32m[1019 22:34:14 @saver.py:79]\u001b[0m Model saved to ../output/Chicago/DATGAN_05/model\\model-135800.\n"
     ]
    },
    {
     "name": "stderr",
     "output_type": "stream",
     "text": [
      "\n"
     ]
    },
    {
     "name": "stdout",
     "output_type": "stream",
     "text": [
      "\u001b[32m[1019 22:34:14 @monitor.py:467]\u001b[0m GAN_loss/discrim/accuracy_fake: 0.974\n",
      "\u001b[32m[1019 22:34:14 @monitor.py:467]\u001b[0m GAN_loss/discrim/accuracy_real: 0.034\n",
      "\u001b[32m[1019 22:34:14 @monitor.py:467]\u001b[0m GAN_loss/discrim/loss: 0.65022\n",
      "\u001b[32m[1019 22:34:14 @monitor.py:467]\u001b[0m GAN_loss/gen/final-g-loss: 1.0031\n",
      "\u001b[32m[1019 22:34:14 @monitor.py:467]\u001b[0m GAN_loss/gen/klloss: 0.061565\n",
      "\u001b[32m[1019 22:34:14 @monitor.py:467]\u001b[0m GAN_loss/gen/loss: 0.94157\n",
      "\u001b[32m[1019 22:34:14 @monitor.py:467]\u001b[0m QueueInput/queue_size: 50\n",
      "\u001b[32m[1019 22:34:14 @base.py:275]\u001b[0m Start Epoch 777 ...\n"
     ]
    },
    {
     "name": "stderr",
     "output_type": "stream",
     "text": [
      "100%|###################################################################################|175/175[00:05<00:00,29.54it/s]"
     ]
    },
    {
     "name": "stdout",
     "output_type": "stream",
     "text": [
      "\u001b[32m[1019 22:34:20 @base.py:285]\u001b[0m Epoch 777 (global_step 135975) finished, time:5.92 seconds.\n",
      "\u001b[32m[1019 22:34:20 @saver.py:79]\u001b[0m Model saved to ../output/Chicago/DATGAN_05/model\\model-135975.\n"
     ]
    },
    {
     "name": "stderr",
     "output_type": "stream",
     "text": [
      "\n"
     ]
    },
    {
     "name": "stdout",
     "output_type": "stream",
     "text": [
      "\u001b[32m[1019 22:34:21 @monitor.py:467]\u001b[0m GAN_loss/discrim/accuracy_fake: 0.98\n",
      "\u001b[32m[1019 22:34:21 @monitor.py:467]\u001b[0m GAN_loss/discrim/accuracy_real: 0.08\n",
      "\u001b[32m[1019 22:34:21 @monitor.py:467]\u001b[0m GAN_loss/discrim/loss: 0.64511\n",
      "\u001b[32m[1019 22:34:21 @monitor.py:467]\u001b[0m GAN_loss/gen/final-g-loss: 1.0003\n",
      "\u001b[32m[1019 22:34:21 @monitor.py:467]\u001b[0m GAN_loss/gen/klloss: 0.056969\n",
      "\u001b[32m[1019 22:34:21 @monitor.py:467]\u001b[0m GAN_loss/gen/loss: 0.94337\n",
      "\u001b[32m[1019 22:34:21 @monitor.py:467]\u001b[0m QueueInput/queue_size: 50\n",
      "\u001b[32m[1019 22:34:21 @base.py:275]\u001b[0m Start Epoch 778 ...\n"
     ]
    },
    {
     "name": "stderr",
     "output_type": "stream",
     "text": [
      "100%|###################################################################################|175/175[00:05<00:00,30.07it/s]"
     ]
    },
    {
     "name": "stdout",
     "output_type": "stream",
     "text": [
      "\u001b[32m[1019 22:34:26 @base.py:285]\u001b[0m Epoch 778 (global_step 136150) finished, time:5.82 seconds.\n",
      "\u001b[32m[1019 22:34:27 @saver.py:79]\u001b[0m Model saved to ../output/Chicago/DATGAN_05/model\\model-136150.\n"
     ]
    },
    {
     "name": "stderr",
     "output_type": "stream",
     "text": [
      "\n"
     ]
    },
    {
     "name": "stdout",
     "output_type": "stream",
     "text": [
      "\u001b[32m[1019 22:34:27 @monitor.py:467]\u001b[0m GAN_loss/discrim/accuracy_fake: 0.97\n",
      "\u001b[32m[1019 22:34:27 @monitor.py:467]\u001b[0m GAN_loss/discrim/accuracy_real: 0.054\n",
      "\u001b[32m[1019 22:34:27 @monitor.py:467]\u001b[0m GAN_loss/discrim/loss: 0.65658\n",
      "\u001b[32m[1019 22:34:27 @monitor.py:467]\u001b[0m GAN_loss/gen/final-g-loss: 0.98754\n",
      "\u001b[32m[1019 22:34:27 @monitor.py:467]\u001b[0m GAN_loss/gen/klloss: 0.056023\n",
      "\u001b[32m[1019 22:34:27 @monitor.py:467]\u001b[0m GAN_loss/gen/loss: 0.93152\n",
      "\u001b[32m[1019 22:34:27 @monitor.py:467]\u001b[0m QueueInput/queue_size: 50\n",
      "\u001b[32m[1019 22:34:27 @base.py:275]\u001b[0m Start Epoch 779 ...\n"
     ]
    },
    {
     "name": "stderr",
     "output_type": "stream",
     "text": [
      "100%|###################################################################################|175/175[00:06<00:00,28.94it/s]"
     ]
    },
    {
     "name": "stdout",
     "output_type": "stream",
     "text": [
      "\u001b[32m[1019 22:34:33 @base.py:285]\u001b[0m Epoch 779 (global_step 136325) finished, time:6.05 seconds.\n",
      "\u001b[32m[1019 22:34:33 @saver.py:79]\u001b[0m Model saved to ../output/Chicago/DATGAN_05/model\\model-136325.\n"
     ]
    },
    {
     "name": "stderr",
     "output_type": "stream",
     "text": [
      "\n"
     ]
    },
    {
     "name": "stdout",
     "output_type": "stream",
     "text": [
      "\u001b[32m[1019 22:34:33 @monitor.py:467]\u001b[0m GAN_loss/discrim/accuracy_fake: 0.966\n",
      "\u001b[32m[1019 22:34:33 @monitor.py:467]\u001b[0m GAN_loss/discrim/accuracy_real: 0.06\n",
      "\u001b[32m[1019 22:34:33 @monitor.py:467]\u001b[0m GAN_loss/discrim/loss: 0.64933\n",
      "\u001b[32m[1019 22:34:33 @monitor.py:467]\u001b[0m GAN_loss/gen/final-g-loss: 0.99125\n",
      "\u001b[32m[1019 22:34:33 @monitor.py:467]\u001b[0m GAN_loss/gen/klloss: 0.055867\n",
      "\u001b[32m[1019 22:34:33 @monitor.py:467]\u001b[0m GAN_loss/gen/loss: 0.93539\n",
      "\u001b[32m[1019 22:34:33 @monitor.py:467]\u001b[0m QueueInput/queue_size: 50\n",
      "\u001b[32m[1019 22:34:33 @base.py:275]\u001b[0m Start Epoch 780 ...\n"
     ]
    },
    {
     "name": "stderr",
     "output_type": "stream",
     "text": [
      "100%|###################################################################################|175/175[00:06<00:00,29.01it/s]"
     ]
    },
    {
     "name": "stdout",
     "output_type": "stream",
     "text": [
      "\u001b[32m[1019 22:34:39 @base.py:285]\u001b[0m Epoch 780 (global_step 136500) finished, time:6.03 seconds.\n",
      "\u001b[32m[1019 22:34:39 @saver.py:79]\u001b[0m Model saved to ../output/Chicago/DATGAN_05/model\\model-136500.\n"
     ]
    },
    {
     "name": "stderr",
     "output_type": "stream",
     "text": [
      "\n"
     ]
    },
    {
     "name": "stdout",
     "output_type": "stream",
     "text": [
      "\u001b[32m[1019 22:34:39 @monitor.py:467]\u001b[0m GAN_loss/discrim/accuracy_fake: 0.972\n",
      "\u001b[32m[1019 22:34:39 @monitor.py:467]\u001b[0m GAN_loss/discrim/accuracy_real: 0.058\n",
      "\u001b[32m[1019 22:34:39 @monitor.py:467]\u001b[0m GAN_loss/discrim/loss: 0.64638\n",
      "\u001b[32m[1019 22:34:39 @monitor.py:467]\u001b[0m GAN_loss/gen/final-g-loss: 0.9917\n",
      "\u001b[32m[1019 22:34:39 @monitor.py:467]\u001b[0m GAN_loss/gen/klloss: 0.04748\n",
      "\u001b[32m[1019 22:34:39 @monitor.py:467]\u001b[0m GAN_loss/gen/loss: 0.94423\n",
      "\u001b[32m[1019 22:34:39 @monitor.py:467]\u001b[0m QueueInput/queue_size: 50\n",
      "\u001b[32m[1019 22:34:39 @base.py:275]\u001b[0m Start Epoch 781 ...\n"
     ]
    },
    {
     "name": "stderr",
     "output_type": "stream",
     "text": [
      "100%|###################################################################################|175/175[00:05<00:00,29.40it/s]"
     ]
    },
    {
     "name": "stdout",
     "output_type": "stream",
     "text": [
      "\u001b[32m[1019 22:34:45 @base.py:285]\u001b[0m Epoch 781 (global_step 136675) finished, time:5.95 seconds.\n",
      "\u001b[32m[1019 22:34:45 @saver.py:79]\u001b[0m Model saved to ../output/Chicago/DATGAN_05/model\\model-136675.\n"
     ]
    },
    {
     "name": "stderr",
     "output_type": "stream",
     "text": [
      "\n"
     ]
    },
    {
     "name": "stdout",
     "output_type": "stream",
     "text": [
      "\u001b[32m[1019 22:34:45 @monitor.py:467]\u001b[0m GAN_loss/discrim/accuracy_fake: 0.978\n",
      "\u001b[32m[1019 22:34:45 @monitor.py:467]\u001b[0m GAN_loss/discrim/accuracy_real: 0.068\n",
      "\u001b[32m[1019 22:34:45 @monitor.py:467]\u001b[0m GAN_loss/discrim/loss: 0.64908\n",
      "\u001b[32m[1019 22:34:45 @monitor.py:467]\u001b[0m GAN_loss/gen/final-g-loss: 1.002\n",
      "\u001b[32m[1019 22:34:45 @monitor.py:467]\u001b[0m GAN_loss/gen/klloss: 0.05688\n",
      "\u001b[32m[1019 22:34:45 @monitor.py:467]\u001b[0m GAN_loss/gen/loss: 0.94509\n",
      "\u001b[32m[1019 22:34:45 @monitor.py:467]\u001b[0m QueueInput/queue_size: 50\n",
      "\u001b[32m[1019 22:34:45 @base.py:275]\u001b[0m Start Epoch 782 ...\n"
     ]
    },
    {
     "name": "stderr",
     "output_type": "stream",
     "text": [
      "100%|###################################################################################|175/175[00:05<00:00,30.19it/s]"
     ]
    },
    {
     "name": "stdout",
     "output_type": "stream",
     "text": [
      "\u001b[32m[1019 22:34:51 @base.py:285]\u001b[0m Epoch 782 (global_step 136850) finished, time:5.8 seconds.\n",
      "\u001b[32m[1019 22:34:51 @saver.py:79]\u001b[0m Model saved to ../output/Chicago/DATGAN_05/model\\model-136850.\n"
     ]
    },
    {
     "name": "stderr",
     "output_type": "stream",
     "text": [
      "\n"
     ]
    },
    {
     "name": "stdout",
     "output_type": "stream",
     "text": [
      "\u001b[32m[1019 22:34:51 @monitor.py:467]\u001b[0m GAN_loss/discrim/accuracy_fake: 0.968\n",
      "\u001b[32m[1019 22:34:51 @monitor.py:467]\u001b[0m GAN_loss/discrim/accuracy_real: 0.05\n",
      "\u001b[32m[1019 22:34:51 @monitor.py:467]\u001b[0m GAN_loss/discrim/loss: 0.65135\n",
      "\u001b[32m[1019 22:34:51 @monitor.py:467]\u001b[0m GAN_loss/gen/final-g-loss: 1.0115\n",
      "\u001b[32m[1019 22:34:51 @monitor.py:467]\u001b[0m GAN_loss/gen/klloss: 0.074422\n",
      "\u001b[32m[1019 22:34:51 @monitor.py:467]\u001b[0m GAN_loss/gen/loss: 0.93707\n",
      "\u001b[32m[1019 22:34:51 @monitor.py:467]\u001b[0m QueueInput/queue_size: 50\n",
      "\u001b[32m[1019 22:34:51 @base.py:275]\u001b[0m Start Epoch 783 ...\n"
     ]
    },
    {
     "name": "stderr",
     "output_type": "stream",
     "text": [
      "100%|###################################################################################|175/175[00:05<00:00,30.06it/s]"
     ]
    },
    {
     "name": "stdout",
     "output_type": "stream",
     "text": [
      "\u001b[32m[1019 22:34:57 @base.py:285]\u001b[0m Epoch 783 (global_step 137025) finished, time:5.82 seconds.\n"
     ]
    },
    {
     "name": "stderr",
     "output_type": "stream",
     "text": [
      "\n"
     ]
    },
    {
     "name": "stdout",
     "output_type": "stream",
     "text": [
      "\u001b[32m[1019 22:34:57 @saver.py:79]\u001b[0m Model saved to ../output/Chicago/DATGAN_05/model\\model-137025.\n",
      "\u001b[32m[1019 22:34:57 @monitor.py:467]\u001b[0m GAN_loss/discrim/accuracy_fake: 0.98\n",
      "\u001b[32m[1019 22:34:57 @monitor.py:467]\u001b[0m GAN_loss/discrim/accuracy_real: 0.056\n",
      "\u001b[32m[1019 22:34:57 @monitor.py:467]\u001b[0m GAN_loss/discrim/loss: 0.64822\n",
      "\u001b[32m[1019 22:34:57 @monitor.py:467]\u001b[0m GAN_loss/gen/final-g-loss: 0.99617\n",
      "\u001b[32m[1019 22:34:57 @monitor.py:467]\u001b[0m GAN_loss/gen/klloss: 0.04903\n",
      "\u001b[32m[1019 22:34:57 @monitor.py:467]\u001b[0m GAN_loss/gen/loss: 0.94714\n",
      "\u001b[32m[1019 22:34:57 @monitor.py:467]\u001b[0m QueueInput/queue_size: 50\n",
      "\u001b[32m[1019 22:34:57 @base.py:275]\u001b[0m Start Epoch 784 ...\n"
     ]
    },
    {
     "name": "stderr",
     "output_type": "stream",
     "text": [
      "100%|###################################################################################|175/175[00:06<00:00,29.03it/s]"
     ]
    },
    {
     "name": "stdout",
     "output_type": "stream",
     "text": [
      "\u001b[32m[1019 22:35:03 @base.py:285]\u001b[0m Epoch 784 (global_step 137200) finished, time:6.03 seconds.\n",
      "\u001b[32m[1019 22:35:04 @saver.py:79]\u001b[0m Model saved to ../output/Chicago/DATGAN_05/model\\model-137200.\n"
     ]
    },
    {
     "name": "stderr",
     "output_type": "stream",
     "text": [
      "\n"
     ]
    },
    {
     "name": "stdout",
     "output_type": "stream",
     "text": [
      "\u001b[32m[1019 22:35:04 @monitor.py:467]\u001b[0m GAN_loss/discrim/accuracy_fake: 0.972\n",
      "\u001b[32m[1019 22:35:04 @monitor.py:467]\u001b[0m GAN_loss/discrim/accuracy_real: 0.058\n",
      "\u001b[32m[1019 22:35:04 @monitor.py:467]\u001b[0m GAN_loss/discrim/loss: 0.64653\n",
      "\u001b[32m[1019 22:35:04 @monitor.py:467]\u001b[0m GAN_loss/gen/final-g-loss: 0.98688\n",
      "\u001b[32m[1019 22:35:04 @monitor.py:467]\u001b[0m GAN_loss/gen/klloss: 0.045695\n",
      "\u001b[32m[1019 22:35:04 @monitor.py:467]\u001b[0m GAN_loss/gen/loss: 0.94118\n",
      "\u001b[32m[1019 22:35:04 @monitor.py:467]\u001b[0m QueueInput/queue_size: 50\n",
      "\u001b[32m[1019 22:35:04 @base.py:275]\u001b[0m Start Epoch 785 ...\n"
     ]
    },
    {
     "name": "stderr",
     "output_type": "stream",
     "text": [
      "100%|###################################################################################|175/175[00:06<00:00,27.91it/s]"
     ]
    },
    {
     "name": "stdout",
     "output_type": "stream",
     "text": [
      "\u001b[32m[1019 22:35:10 @base.py:285]\u001b[0m Epoch 785 (global_step 137375) finished, time:6.27 seconds.\n",
      "\u001b[32m[1019 22:35:10 @saver.py:79]\u001b[0m Model saved to ../output/Chicago/DATGAN_05/model\\model-137375.\n"
     ]
    },
    {
     "name": "stderr",
     "output_type": "stream",
     "text": [
      "\n"
     ]
    },
    {
     "name": "stdout",
     "output_type": "stream",
     "text": [
      "\u001b[32m[1019 22:35:10 @monitor.py:467]\u001b[0m GAN_loss/discrim/accuracy_fake: 0.982\n",
      "\u001b[32m[1019 22:35:10 @monitor.py:467]\u001b[0m GAN_loss/discrim/accuracy_real: 0.064\n",
      "\u001b[32m[1019 22:35:10 @monitor.py:467]\u001b[0m GAN_loss/discrim/loss: 0.64394\n",
      "\u001b[32m[1019 22:35:10 @monitor.py:467]\u001b[0m GAN_loss/gen/final-g-loss: 0.96908\n",
      "\u001b[32m[1019 22:35:10 @monitor.py:467]\u001b[0m GAN_loss/gen/klloss: 0.029609\n",
      "\u001b[32m[1019 22:35:10 @monitor.py:467]\u001b[0m GAN_loss/gen/loss: 0.93947\n",
      "\u001b[32m[1019 22:35:10 @monitor.py:467]\u001b[0m QueueInput/queue_size: 50\n",
      "\u001b[32m[1019 22:35:10 @base.py:275]\u001b[0m Start Epoch 786 ...\n"
     ]
    },
    {
     "name": "stderr",
     "output_type": "stream",
     "text": [
      "100%|###################################################################################|175/175[00:05<00:00,29.59it/s]"
     ]
    },
    {
     "name": "stdout",
     "output_type": "stream",
     "text": [
      "\u001b[32m[1019 22:35:16 @base.py:285]\u001b[0m Epoch 786 (global_step 137550) finished, time:5.92 seconds.\n",
      "\u001b[32m[1019 22:35:16 @saver.py:79]\u001b[0m Model saved to ../output/Chicago/DATGAN_05/model\\model-137550.\n"
     ]
    },
    {
     "name": "stderr",
     "output_type": "stream",
     "text": [
      "\n"
     ]
    },
    {
     "name": "stdout",
     "output_type": "stream",
     "text": [
      "\u001b[32m[1019 22:35:16 @monitor.py:467]\u001b[0m GAN_loss/discrim/accuracy_fake: 0.976\n",
      "\u001b[32m[1019 22:35:16 @monitor.py:467]\u001b[0m GAN_loss/discrim/accuracy_real: 0.048\n",
      "\u001b[32m[1019 22:35:16 @monitor.py:467]\u001b[0m GAN_loss/discrim/loss: 0.64782\n",
      "\u001b[32m[1019 22:35:16 @monitor.py:467]\u001b[0m GAN_loss/gen/final-g-loss: 1.0237\n",
      "\u001b[32m[1019 22:35:16 @monitor.py:467]\u001b[0m GAN_loss/gen/klloss: 0.077572\n",
      "\u001b[32m[1019 22:35:16 @monitor.py:467]\u001b[0m GAN_loss/gen/loss: 0.94608\n",
      "\u001b[32m[1019 22:35:16 @monitor.py:467]\u001b[0m QueueInput/queue_size: 50\n",
      "\u001b[32m[1019 22:35:16 @base.py:275]\u001b[0m Start Epoch 787 ...\n"
     ]
    },
    {
     "name": "stderr",
     "output_type": "stream",
     "text": [
      "100%|###################################################################################|175/175[00:05<00:00,29.45it/s]"
     ]
    },
    {
     "name": "stdout",
     "output_type": "stream",
     "text": [
      "\u001b[32m[1019 22:35:22 @base.py:285]\u001b[0m Epoch 787 (global_step 137725) finished, time:5.94 seconds.\n",
      "\u001b[32m[1019 22:35:22 @saver.py:79]\u001b[0m Model saved to ../output/Chicago/DATGAN_05/model\\model-137725.\n"
     ]
    },
    {
     "name": "stderr",
     "output_type": "stream",
     "text": [
      "\n"
     ]
    },
    {
     "name": "stdout",
     "output_type": "stream",
     "text": [
      "\u001b[32m[1019 22:35:23 @monitor.py:467]\u001b[0m GAN_loss/discrim/accuracy_fake: 0.972\n",
      "\u001b[32m[1019 22:35:23 @monitor.py:467]\u001b[0m GAN_loss/discrim/accuracy_real: 0.056\n",
      "\u001b[32m[1019 22:35:23 @monitor.py:467]\u001b[0m GAN_loss/discrim/loss: 0.64963\n",
      "\u001b[32m[1019 22:35:23 @monitor.py:467]\u001b[0m GAN_loss/gen/final-g-loss: 1.0239\n",
      "\u001b[32m[1019 22:35:23 @monitor.py:467]\u001b[0m GAN_loss/gen/klloss: 0.08272\n",
      "\u001b[32m[1019 22:35:23 @monitor.py:467]\u001b[0m GAN_loss/gen/loss: 0.94119\n",
      "\u001b[32m[1019 22:35:23 @monitor.py:467]\u001b[0m QueueInput/queue_size: 50\n",
      "\u001b[32m[1019 22:35:23 @base.py:275]\u001b[0m Start Epoch 788 ...\n"
     ]
    },
    {
     "name": "stderr",
     "output_type": "stream",
     "text": [
      "100%|###################################################################################|175/175[00:05<00:00,29.65it/s]"
     ]
    },
    {
     "name": "stdout",
     "output_type": "stream",
     "text": [
      "\u001b[32m[1019 22:35:28 @base.py:285]\u001b[0m Epoch 788 (global_step 137900) finished, time:5.9 seconds.\n",
      "\u001b[32m[1019 22:35:29 @saver.py:79]\u001b[0m Model saved to ../output/Chicago/DATGAN_05/model\\model-137900.\n"
     ]
    },
    {
     "name": "stderr",
     "output_type": "stream",
     "text": [
      "\n"
     ]
    },
    {
     "name": "stdout",
     "output_type": "stream",
     "text": [
      "\u001b[32m[1019 22:35:29 @monitor.py:467]\u001b[0m GAN_loss/discrim/accuracy_fake: 0.968\n",
      "\u001b[32m[1019 22:35:29 @monitor.py:467]\u001b[0m GAN_loss/discrim/accuracy_real: 0.056\n",
      "\u001b[32m[1019 22:35:29 @monitor.py:467]\u001b[0m GAN_loss/discrim/loss: 0.64654\n",
      "\u001b[32m[1019 22:35:29 @monitor.py:467]\u001b[0m GAN_loss/gen/final-g-loss: 1.0064\n",
      "\u001b[32m[1019 22:35:29 @monitor.py:467]\u001b[0m GAN_loss/gen/klloss: 0.056982\n",
      "\u001b[32m[1019 22:35:29 @monitor.py:467]\u001b[0m GAN_loss/gen/loss: 0.9494\n",
      "\u001b[32m[1019 22:35:29 @monitor.py:467]\u001b[0m QueueInput/queue_size: 50\n",
      "\u001b[32m[1019 22:35:29 @base.py:275]\u001b[0m Start Epoch 789 ...\n"
     ]
    },
    {
     "name": "stderr",
     "output_type": "stream",
     "text": [
      "100%|###################################################################################|175/175[00:06<00:00,28.67it/s]"
     ]
    },
    {
     "name": "stdout",
     "output_type": "stream",
     "text": [
      "\u001b[32m[1019 22:35:35 @base.py:285]\u001b[0m Epoch 789 (global_step 138075) finished, time:6.1 seconds.\n",
      "\u001b[32m[1019 22:35:35 @saver.py:79]\u001b[0m Model saved to ../output/Chicago/DATGAN_05/model\\model-138075.\n"
     ]
    },
    {
     "name": "stderr",
     "output_type": "stream",
     "text": [
      "\n"
     ]
    },
    {
     "name": "stdout",
     "output_type": "stream",
     "text": [
      "\u001b[32m[1019 22:35:35 @monitor.py:467]\u001b[0m GAN_loss/discrim/accuracy_fake: 0.97\n",
      "\u001b[32m[1019 22:35:35 @monitor.py:467]\u001b[0m GAN_loss/discrim/accuracy_real: 0.04\n",
      "\u001b[32m[1019 22:35:35 @monitor.py:467]\u001b[0m GAN_loss/discrim/loss: 0.65178\n",
      "\u001b[32m[1019 22:35:35 @monitor.py:467]\u001b[0m GAN_loss/gen/final-g-loss: 1.0358\n",
      "\u001b[32m[1019 22:35:35 @monitor.py:467]\u001b[0m GAN_loss/gen/klloss: 0.082637\n",
      "\u001b[32m[1019 22:35:35 @monitor.py:467]\u001b[0m GAN_loss/gen/loss: 0.95313\n",
      "\u001b[32m[1019 22:35:35 @monitor.py:467]\u001b[0m QueueInput/queue_size: 50\n",
      "\u001b[32m[1019 22:35:35 @base.py:275]\u001b[0m Start Epoch 790 ...\n"
     ]
    },
    {
     "name": "stderr",
     "output_type": "stream",
     "text": [
      "100%|###################################################################################|175/175[00:05<00:00,29.49it/s]"
     ]
    },
    {
     "name": "stdout",
     "output_type": "stream",
     "text": [
      "\u001b[32m[1019 22:35:41 @base.py:285]\u001b[0m Epoch 790 (global_step 138250) finished, time:5.93 seconds.\n",
      "\u001b[32m[1019 22:35:41 @saver.py:79]\u001b[0m Model saved to ../output/Chicago/DATGAN_05/model\\model-138250.\n"
     ]
    },
    {
     "name": "stderr",
     "output_type": "stream",
     "text": [
      "\n"
     ]
    },
    {
     "name": "stdout",
     "output_type": "stream",
     "text": [
      "\u001b[32m[1019 22:35:41 @monitor.py:467]\u001b[0m GAN_loss/discrim/accuracy_fake: 0.958\n",
      "\u001b[32m[1019 22:35:41 @monitor.py:467]\u001b[0m GAN_loss/discrim/accuracy_real: 0.038\n",
      "\u001b[32m[1019 22:35:41 @monitor.py:467]\u001b[0m GAN_loss/discrim/loss: 0.6537\n",
      "\u001b[32m[1019 22:35:41 @monitor.py:467]\u001b[0m GAN_loss/gen/final-g-loss: 0.97192\n",
      "\u001b[32m[1019 22:35:41 @monitor.py:467]\u001b[0m GAN_loss/gen/klloss: 0.036108\n",
      "\u001b[32m[1019 22:35:41 @monitor.py:467]\u001b[0m GAN_loss/gen/loss: 0.93581\n",
      "\u001b[32m[1019 22:35:41 @monitor.py:467]\u001b[0m QueueInput/queue_size: 50\n",
      "\u001b[32m[1019 22:35:41 @base.py:275]\u001b[0m Start Epoch 791 ...\n"
     ]
    },
    {
     "name": "stderr",
     "output_type": "stream",
     "text": [
      "100%|###################################################################################|175/175[00:05<00:00,29.30it/s]"
     ]
    },
    {
     "name": "stdout",
     "output_type": "stream",
     "text": [
      "\u001b[32m[1019 22:35:47 @base.py:285]\u001b[0m Epoch 791 (global_step 138425) finished, time:5.97 seconds.\n",
      "\u001b[32m[1019 22:35:47 @saver.py:79]\u001b[0m Model saved to ../output/Chicago/DATGAN_05/model\\model-138425.\n"
     ]
    },
    {
     "name": "stderr",
     "output_type": "stream",
     "text": [
      "\n"
     ]
    },
    {
     "name": "stdout",
     "output_type": "stream",
     "text": [
      "\u001b[32m[1019 22:35:47 @monitor.py:467]\u001b[0m GAN_loss/discrim/accuracy_fake: 0.968\n",
      "\u001b[32m[1019 22:35:47 @monitor.py:467]\u001b[0m GAN_loss/discrim/accuracy_real: 0.028\n",
      "\u001b[32m[1019 22:35:47 @monitor.py:467]\u001b[0m GAN_loss/discrim/loss: 0.65232\n",
      "\u001b[32m[1019 22:35:47 @monitor.py:467]\u001b[0m GAN_loss/gen/final-g-loss: 0.98938\n",
      "\u001b[32m[1019 22:35:47 @monitor.py:467]\u001b[0m GAN_loss/gen/klloss: 0.046718\n",
      "\u001b[32m[1019 22:35:47 @monitor.py:467]\u001b[0m GAN_loss/gen/loss: 0.94266\n",
      "\u001b[32m[1019 22:35:47 @monitor.py:467]\u001b[0m QueueInput/queue_size: 50\n",
      "\u001b[32m[1019 22:35:47 @base.py:275]\u001b[0m Start Epoch 792 ...\n"
     ]
    },
    {
     "name": "stderr",
     "output_type": "stream",
     "text": [
      "100%|###################################################################################|175/175[00:05<00:00,29.82it/s]"
     ]
    },
    {
     "name": "stdout",
     "output_type": "stream",
     "text": [
      "\u001b[32m[1019 22:35:53 @base.py:285]\u001b[0m Epoch 792 (global_step 138600) finished, time:5.87 seconds.\n",
      "\u001b[32m[1019 22:35:53 @saver.py:79]\u001b[0m Model saved to ../output/Chicago/DATGAN_05/model\\model-138600.\n"
     ]
    },
    {
     "name": "stderr",
     "output_type": "stream",
     "text": [
      "\n"
     ]
    },
    {
     "name": "stdout",
     "output_type": "stream",
     "text": [
      "\u001b[32m[1019 22:35:54 @monitor.py:467]\u001b[0m GAN_loss/discrim/accuracy_fake: 0.984\n",
      "\u001b[32m[1019 22:35:54 @monitor.py:467]\u001b[0m GAN_loss/discrim/accuracy_real: 0.038\n",
      "\u001b[32m[1019 22:35:54 @monitor.py:467]\u001b[0m GAN_loss/discrim/loss: 0.65122\n",
      "\u001b[32m[1019 22:35:54 @monitor.py:467]\u001b[0m GAN_loss/gen/final-g-loss: 1.0229\n",
      "\u001b[32m[1019 22:35:54 @monitor.py:467]\u001b[0m GAN_loss/gen/klloss: 0.081611\n",
      "\u001b[32m[1019 22:35:54 @monitor.py:467]\u001b[0m GAN_loss/gen/loss: 0.94126\n",
      "\u001b[32m[1019 22:35:54 @monitor.py:467]\u001b[0m QueueInput/queue_size: 50\n",
      "\u001b[32m[1019 22:35:54 @base.py:275]\u001b[0m Start Epoch 793 ...\n"
     ]
    },
    {
     "name": "stderr",
     "output_type": "stream",
     "text": [
      "100%|###################################################################################|175/175[00:05<00:00,29.21it/s]"
     ]
    },
    {
     "name": "stdout",
     "output_type": "stream",
     "text": [
      "\u001b[32m[1019 22:36:00 @base.py:285]\u001b[0m Epoch 793 (global_step 138775) finished, time:5.99 seconds.\n",
      "\u001b[32m[1019 22:36:00 @saver.py:79]\u001b[0m Model saved to ../output/Chicago/DATGAN_05/model\\model-138775.\n"
     ]
    },
    {
     "name": "stderr",
     "output_type": "stream",
     "text": [
      "\n"
     ]
    },
    {
     "name": "stdout",
     "output_type": "stream",
     "text": [
      "\u001b[32m[1019 22:36:00 @monitor.py:467]\u001b[0m GAN_loss/discrim/accuracy_fake: 0.97\n",
      "\u001b[32m[1019 22:36:00 @monitor.py:467]\u001b[0m GAN_loss/discrim/accuracy_real: 0.048\n",
      "\u001b[32m[1019 22:36:00 @monitor.py:467]\u001b[0m GAN_loss/discrim/loss: 0.64975\n",
      "\u001b[32m[1019 22:36:00 @monitor.py:467]\u001b[0m GAN_loss/gen/final-g-loss: 0.99665\n",
      "\u001b[32m[1019 22:36:00 @monitor.py:467]\u001b[0m GAN_loss/gen/klloss: 0.049988\n",
      "\u001b[32m[1019 22:36:00 @monitor.py:467]\u001b[0m GAN_loss/gen/loss: 0.94666\n",
      "\u001b[32m[1019 22:36:00 @monitor.py:467]\u001b[0m QueueInput/queue_size: 50\n",
      "\u001b[32m[1019 22:36:00 @base.py:275]\u001b[0m Start Epoch 794 ...\n"
     ]
    },
    {
     "name": "stderr",
     "output_type": "stream",
     "text": [
      "100%|###################################################################################|175/175[00:06<00:00,28.62it/s]"
     ]
    },
    {
     "name": "stdout",
     "output_type": "stream",
     "text": [
      "\u001b[32m[1019 22:36:06 @base.py:285]\u001b[0m Epoch 794 (global_step 138950) finished, time:6.12 seconds.\n",
      "\u001b[32m[1019 22:36:06 @saver.py:79]\u001b[0m Model saved to ../output/Chicago/DATGAN_05/model\\model-138950.\n"
     ]
    },
    {
     "name": "stderr",
     "output_type": "stream",
     "text": [
      "\n"
     ]
    },
    {
     "name": "stdout",
     "output_type": "stream",
     "text": [
      "\u001b[32m[1019 22:36:06 @monitor.py:467]\u001b[0m GAN_loss/discrim/accuracy_fake: 0.976\n",
      "\u001b[32m[1019 22:36:06 @monitor.py:467]\u001b[0m GAN_loss/discrim/accuracy_real: 0.076\n",
      "\u001b[32m[1019 22:36:06 @monitor.py:467]\u001b[0m GAN_loss/discrim/loss: 0.64764\n",
      "\u001b[32m[1019 22:36:06 @monitor.py:467]\u001b[0m GAN_loss/gen/final-g-loss: 0.99616\n",
      "\u001b[32m[1019 22:36:06 @monitor.py:467]\u001b[0m GAN_loss/gen/klloss: 0.056837\n",
      "\u001b[32m[1019 22:36:06 @monitor.py:467]\u001b[0m GAN_loss/gen/loss: 0.93933\n",
      "\u001b[32m[1019 22:36:06 @monitor.py:467]\u001b[0m QueueInput/queue_size: 50\n",
      "\u001b[32m[1019 22:36:06 @base.py:275]\u001b[0m Start Epoch 795 ...\n"
     ]
    },
    {
     "name": "stderr",
     "output_type": "stream",
     "text": [
      "100%|###################################################################################|175/175[00:05<00:00,30.24it/s]"
     ]
    },
    {
     "name": "stdout",
     "output_type": "stream",
     "text": [
      "\u001b[32m[1019 22:36:12 @base.py:285]\u001b[0m Epoch 795 (global_step 139125) finished, time:5.79 seconds.\n",
      "\u001b[32m[1019 22:36:12 @saver.py:79]\u001b[0m Model saved to ../output/Chicago/DATGAN_05/model\\model-139125.\n"
     ]
    },
    {
     "name": "stderr",
     "output_type": "stream",
     "text": [
      "\n"
     ]
    },
    {
     "name": "stdout",
     "output_type": "stream",
     "text": [
      "\u001b[32m[1019 22:36:12 @monitor.py:467]\u001b[0m GAN_loss/discrim/accuracy_fake: 0.962\n",
      "\u001b[32m[1019 22:36:12 @monitor.py:467]\u001b[0m GAN_loss/discrim/accuracy_real: 0.054\n",
      "\u001b[32m[1019 22:36:12 @monitor.py:467]\u001b[0m GAN_loss/discrim/loss: 0.648\n",
      "\u001b[32m[1019 22:36:12 @monitor.py:467]\u001b[0m GAN_loss/gen/final-g-loss: 0.97848\n",
      "\u001b[32m[1019 22:36:12 @monitor.py:467]\u001b[0m GAN_loss/gen/klloss: 0.042466\n",
      "\u001b[32m[1019 22:36:12 @monitor.py:467]\u001b[0m GAN_loss/gen/loss: 0.93601\n",
      "\u001b[32m[1019 22:36:12 @monitor.py:467]\u001b[0m QueueInput/queue_size: 50\n",
      "\u001b[32m[1019 22:36:12 @base.py:275]\u001b[0m Start Epoch 796 ...\n"
     ]
    },
    {
     "name": "stderr",
     "output_type": "stream",
     "text": [
      "100%|###################################################################################|175/175[00:05<00:00,29.88it/s]"
     ]
    },
    {
     "name": "stdout",
     "output_type": "stream",
     "text": [
      "\u001b[32m[1019 22:36:18 @base.py:285]\u001b[0m Epoch 796 (global_step 139300) finished, time:5.86 seconds.\n"
     ]
    },
    {
     "name": "stderr",
     "output_type": "stream",
     "text": [
      "\n"
     ]
    },
    {
     "name": "stdout",
     "output_type": "stream",
     "text": [
      "\u001b[32m[1019 22:36:18 @saver.py:79]\u001b[0m Model saved to ../output/Chicago/DATGAN_05/model\\model-139300.\n",
      "\u001b[32m[1019 22:36:18 @monitor.py:467]\u001b[0m GAN_loss/discrim/accuracy_fake: 0.966\n",
      "\u001b[32m[1019 22:36:18 @monitor.py:467]\u001b[0m GAN_loss/discrim/accuracy_real: 0.064\n",
      "\u001b[32m[1019 22:36:18 @monitor.py:467]\u001b[0m GAN_loss/discrim/loss: 0.65013\n",
      "\u001b[32m[1019 22:36:18 @monitor.py:467]\u001b[0m GAN_loss/gen/final-g-loss: 0.99704\n",
      "\u001b[32m[1019 22:36:18 @monitor.py:467]\u001b[0m GAN_loss/gen/klloss: 0.054847\n",
      "\u001b[32m[1019 22:36:18 @monitor.py:467]\u001b[0m GAN_loss/gen/loss: 0.94219\n",
      "\u001b[32m[1019 22:36:18 @monitor.py:467]\u001b[0m QueueInput/queue_size: 50\n",
      "\u001b[32m[1019 22:36:18 @base.py:275]\u001b[0m Start Epoch 797 ...\n"
     ]
    },
    {
     "name": "stderr",
     "output_type": "stream",
     "text": [
      "100%|###################################################################################|175/175[00:06<00:00,29.06it/s]"
     ]
    },
    {
     "name": "stdout",
     "output_type": "stream",
     "text": [
      "\u001b[32m[1019 22:36:24 @base.py:285]\u001b[0m Epoch 797 (global_step 139475) finished, time:6.02 seconds.\n",
      "\u001b[32m[1019 22:36:24 @saver.py:79]\u001b[0m Model saved to ../output/Chicago/DATGAN_05/model\\model-139475.\n"
     ]
    },
    {
     "name": "stderr",
     "output_type": "stream",
     "text": [
      "\n"
     ]
    },
    {
     "name": "stdout",
     "output_type": "stream",
     "text": [
      "\u001b[32m[1019 22:36:25 @monitor.py:467]\u001b[0m GAN_loss/discrim/accuracy_fake: 0.984\n",
      "\u001b[32m[1019 22:36:25 @monitor.py:467]\u001b[0m GAN_loss/discrim/accuracy_real: 0.046\n",
      "\u001b[32m[1019 22:36:25 @monitor.py:467]\u001b[0m GAN_loss/discrim/loss: 0.65055\n",
      "\u001b[32m[1019 22:36:25 @monitor.py:467]\u001b[0m GAN_loss/gen/final-g-loss: 1.0065\n",
      "\u001b[32m[1019 22:36:25 @monitor.py:467]\u001b[0m GAN_loss/gen/klloss: 0.060936\n",
      "\u001b[32m[1019 22:36:25 @monitor.py:467]\u001b[0m GAN_loss/gen/loss: 0.94561\n",
      "\u001b[32m[1019 22:36:25 @monitor.py:467]\u001b[0m QueueInput/queue_size: 50\n",
      "\u001b[32m[1019 22:36:25 @base.py:275]\u001b[0m Start Epoch 798 ...\n"
     ]
    },
    {
     "name": "stderr",
     "output_type": "stream",
     "text": [
      "100%|###################################################################################|175/175[00:06<00:00,27.12it/s]"
     ]
    },
    {
     "name": "stdout",
     "output_type": "stream",
     "text": [
      "\u001b[32m[1019 22:36:31 @base.py:285]\u001b[0m Epoch 798 (global_step 139650) finished, time:6.45 seconds.\n",
      "\u001b[32m[1019 22:36:31 @saver.py:79]\u001b[0m Model saved to ../output/Chicago/DATGAN_05/model\\model-139650.\n"
     ]
    },
    {
     "name": "stderr",
     "output_type": "stream",
     "text": [
      "\n"
     ]
    },
    {
     "name": "stdout",
     "output_type": "stream",
     "text": [
      "\u001b[32m[1019 22:36:31 @monitor.py:467]\u001b[0m GAN_loss/discrim/accuracy_fake: 0.97\n",
      "\u001b[32m[1019 22:36:31 @monitor.py:467]\u001b[0m GAN_loss/discrim/accuracy_real: 0.038\n",
      "\u001b[32m[1019 22:36:31 @monitor.py:467]\u001b[0m GAN_loss/discrim/loss: 0.65459\n",
      "\u001b[32m[1019 22:36:31 @monitor.py:467]\u001b[0m GAN_loss/gen/final-g-loss: 0.99343\n",
      "\u001b[32m[1019 22:36:31 @monitor.py:467]\u001b[0m GAN_loss/gen/klloss: 0.057096\n",
      "\u001b[32m[1019 22:36:31 @monitor.py:467]\u001b[0m GAN_loss/gen/loss: 0.93634\n",
      "\u001b[32m[1019 22:36:31 @monitor.py:467]\u001b[0m QueueInput/queue_size: 50\n",
      "\u001b[32m[1019 22:36:31 @base.py:275]\u001b[0m Start Epoch 799 ...\n"
     ]
    },
    {
     "name": "stderr",
     "output_type": "stream",
     "text": [
      "100%|###################################################################################|175/175[00:06<00:00,28.30it/s]"
     ]
    },
    {
     "name": "stdout",
     "output_type": "stream",
     "text": [
      "\u001b[32m[1019 22:36:37 @base.py:285]\u001b[0m Epoch 799 (global_step 139825) finished, time:6.18 seconds.\n",
      "\u001b[32m[1019 22:36:37 @saver.py:79]\u001b[0m Model saved to ../output/Chicago/DATGAN_05/model\\model-139825.\n"
     ]
    },
    {
     "name": "stderr",
     "output_type": "stream",
     "text": [
      "\n"
     ]
    },
    {
     "name": "stdout",
     "output_type": "stream",
     "text": [
      "\u001b[32m[1019 22:36:38 @monitor.py:467]\u001b[0m GAN_loss/discrim/accuracy_fake: 0.972\n",
      "\u001b[32m[1019 22:36:38 @monitor.py:467]\u001b[0m GAN_loss/discrim/accuracy_real: 0.04\n",
      "\u001b[32m[1019 22:36:38 @monitor.py:467]\u001b[0m GAN_loss/discrim/loss: 0.65459\n",
      "\u001b[32m[1019 22:36:38 @monitor.py:467]\u001b[0m GAN_loss/gen/final-g-loss: 0.99041\n",
      "\u001b[32m[1019 22:36:38 @monitor.py:467]\u001b[0m GAN_loss/gen/klloss: 0.057321\n",
      "\u001b[32m[1019 22:36:38 @monitor.py:467]\u001b[0m GAN_loss/gen/loss: 0.93308\n",
      "\u001b[32m[1019 22:36:38 @monitor.py:467]\u001b[0m QueueInput/queue_size: 50\n",
      "\u001b[32m[1019 22:36:38 @base.py:275]\u001b[0m Start Epoch 800 ...\n"
     ]
    },
    {
     "name": "stderr",
     "output_type": "stream",
     "text": [
      "100%|###################################################################################|175/175[00:06<00:00,27.68it/s]"
     ]
    },
    {
     "name": "stdout",
     "output_type": "stream",
     "text": [
      "\u001b[32m[1019 22:36:44 @base.py:285]\u001b[0m Epoch 800 (global_step 140000) finished, time:6.32 seconds.\n"
     ]
    },
    {
     "name": "stderr",
     "output_type": "stream",
     "text": [
      "\n"
     ]
    },
    {
     "name": "stdout",
     "output_type": "stream",
     "text": [
      "\u001b[32m[1019 22:36:44 @saver.py:79]\u001b[0m Model saved to ../output/Chicago/DATGAN_05/model\\model-140000.\n",
      "\u001b[32m[1019 22:36:44 @monitor.py:467]\u001b[0m GAN_loss/discrim/accuracy_fake: 0.956\n",
      "\u001b[32m[1019 22:36:44 @monitor.py:467]\u001b[0m GAN_loss/discrim/accuracy_real: 0.052\n",
      "\u001b[32m[1019 22:36:44 @monitor.py:467]\u001b[0m GAN_loss/discrim/loss: 0.65036\n",
      "\u001b[32m[1019 22:36:44 @monitor.py:467]\u001b[0m GAN_loss/gen/final-g-loss: 0.98591\n",
      "\u001b[32m[1019 22:36:44 @monitor.py:467]\u001b[0m GAN_loss/gen/klloss: 0.049767\n",
      "\u001b[32m[1019 22:36:44 @monitor.py:467]\u001b[0m GAN_loss/gen/loss: 0.93614\n",
      "\u001b[32m[1019 22:36:44 @monitor.py:467]\u001b[0m QueueInput/queue_size: 50\n",
      "\u001b[32m[1019 22:36:44 @base.py:275]\u001b[0m Start Epoch 801 ...\n"
     ]
    },
    {
     "name": "stderr",
     "output_type": "stream",
     "text": [
      "100%|###################################################################################|175/175[00:06<00:00,29.07it/s]"
     ]
    },
    {
     "name": "stdout",
     "output_type": "stream",
     "text": [
      "\u001b[32m[1019 22:36:50 @base.py:285]\u001b[0m Epoch 801 (global_step 140175) finished, time:6.02 seconds.\n",
      "\u001b[32m[1019 22:36:50 @saver.py:79]\u001b[0m Model saved to ../output/Chicago/DATGAN_05/model\\model-140175.\n"
     ]
    },
    {
     "name": "stderr",
     "output_type": "stream",
     "text": [
      "\n"
     ]
    },
    {
     "name": "stdout",
     "output_type": "stream",
     "text": [
      "\u001b[32m[1019 22:36:50 @monitor.py:467]\u001b[0m GAN_loss/discrim/accuracy_fake: 0.98\n",
      "\u001b[32m[1019 22:36:50 @monitor.py:467]\u001b[0m GAN_loss/discrim/accuracy_real: 0.06\n",
      "\u001b[32m[1019 22:36:50 @monitor.py:467]\u001b[0m GAN_loss/discrim/loss: 0.64708\n",
      "\u001b[32m[1019 22:36:50 @monitor.py:467]\u001b[0m GAN_loss/gen/final-g-loss: 0.99999\n",
      "\u001b[32m[1019 22:36:50 @monitor.py:467]\u001b[0m GAN_loss/gen/klloss: 0.054163\n",
      "\u001b[32m[1019 22:36:50 @monitor.py:467]\u001b[0m GAN_loss/gen/loss: 0.94582\n",
      "\u001b[32m[1019 22:36:50 @monitor.py:467]\u001b[0m QueueInput/queue_size: 50\n",
      "\u001b[32m[1019 22:36:50 @base.py:275]\u001b[0m Start Epoch 802 ...\n"
     ]
    },
    {
     "name": "stderr",
     "output_type": "stream",
     "text": [
      "100%|###################################################################################|175/175[00:06<00:00,28.45it/s]"
     ]
    },
    {
     "name": "stdout",
     "output_type": "stream",
     "text": [
      "\u001b[32m[1019 22:36:57 @base.py:285]\u001b[0m Epoch 802 (global_step 140350) finished, time:6.15 seconds.\n",
      "\u001b[32m[1019 22:36:57 @saver.py:79]\u001b[0m Model saved to ../output/Chicago/DATGAN_05/model\\model-140350.\n"
     ]
    },
    {
     "name": "stderr",
     "output_type": "stream",
     "text": [
      "\n"
     ]
    },
    {
     "name": "stdout",
     "output_type": "stream",
     "text": [
      "\u001b[32m[1019 22:36:57 @monitor.py:467]\u001b[0m GAN_loss/discrim/accuracy_fake: 0.972\n",
      "\u001b[32m[1019 22:36:57 @monitor.py:467]\u001b[0m GAN_loss/discrim/accuracy_real: 0.06\n",
      "\u001b[32m[1019 22:36:57 @monitor.py:467]\u001b[0m GAN_loss/discrim/loss: 0.64582\n",
      "\u001b[32m[1019 22:36:57 @monitor.py:467]\u001b[0m GAN_loss/gen/final-g-loss: 1.009\n",
      "\u001b[32m[1019 22:36:57 @monitor.py:467]\u001b[0m GAN_loss/gen/klloss: 0.061557\n",
      "\u001b[32m[1019 22:36:57 @monitor.py:467]\u001b[0m GAN_loss/gen/loss: 0.94746\n",
      "\u001b[32m[1019 22:36:57 @monitor.py:467]\u001b[0m QueueInput/queue_size: 50\n",
      "\u001b[32m[1019 22:36:57 @base.py:275]\u001b[0m Start Epoch 803 ...\n"
     ]
    },
    {
     "name": "stderr",
     "output_type": "stream",
     "text": [
      "100%|###################################################################################|175/175[00:06<00:00,27.02it/s]"
     ]
    },
    {
     "name": "stdout",
     "output_type": "stream",
     "text": [
      "\u001b[32m[1019 22:37:03 @base.py:285]\u001b[0m Epoch 803 (global_step 140525) finished, time:6.48 seconds.\n"
     ]
    },
    {
     "name": "stderr",
     "output_type": "stream",
     "text": [
      "\n"
     ]
    },
    {
     "name": "stdout",
     "output_type": "stream",
     "text": [
      "\u001b[32m[1019 22:37:03 @saver.py:79]\u001b[0m Model saved to ../output/Chicago/DATGAN_05/model\\model-140525.\n",
      "\u001b[32m[1019 22:37:04 @monitor.py:467]\u001b[0m GAN_loss/discrim/accuracy_fake: 0.966\n",
      "\u001b[32m[1019 22:37:04 @monitor.py:467]\u001b[0m GAN_loss/discrim/accuracy_real: 0.066\n",
      "\u001b[32m[1019 22:37:04 @monitor.py:467]\u001b[0m GAN_loss/discrim/loss: 0.64734\n",
      "\u001b[32m[1019 22:37:04 @monitor.py:467]\u001b[0m GAN_loss/gen/final-g-loss: 0.98546\n",
      "\u001b[32m[1019 22:37:04 @monitor.py:467]\u001b[0m GAN_loss/gen/klloss: 0.045025\n",
      "\u001b[32m[1019 22:37:04 @monitor.py:467]\u001b[0m GAN_loss/gen/loss: 0.94044\n",
      "\u001b[32m[1019 22:37:04 @monitor.py:467]\u001b[0m QueueInput/queue_size: 50\n",
      "\u001b[32m[1019 22:37:04 @base.py:275]\u001b[0m Start Epoch 804 ...\n"
     ]
    },
    {
     "name": "stderr",
     "output_type": "stream",
     "text": [
      "100%|###################################################################################|175/175[00:06<00:00,28.16it/s]"
     ]
    },
    {
     "name": "stdout",
     "output_type": "stream",
     "text": [
      "\u001b[32m[1019 22:37:10 @base.py:285]\u001b[0m Epoch 804 (global_step 140700) finished, time:6.21 seconds.\n",
      "\u001b[32m[1019 22:37:10 @saver.py:79]\u001b[0m Model saved to ../output/Chicago/DATGAN_05/model\\model-140700.\n"
     ]
    },
    {
     "name": "stderr",
     "output_type": "stream",
     "text": [
      "\n"
     ]
    },
    {
     "name": "stdout",
     "output_type": "stream",
     "text": [
      "\u001b[32m[1019 22:37:10 @monitor.py:467]\u001b[0m GAN_loss/discrim/accuracy_fake: 0.972\n",
      "\u001b[32m[1019 22:37:10 @monitor.py:467]\u001b[0m GAN_loss/discrim/accuracy_real: 0.06\n",
      "\u001b[32m[1019 22:37:10 @monitor.py:467]\u001b[0m GAN_loss/discrim/loss: 0.64872\n",
      "\u001b[32m[1019 22:37:10 @monitor.py:467]\u001b[0m GAN_loss/gen/final-g-loss: 0.9937\n",
      "\u001b[32m[1019 22:37:10 @monitor.py:467]\u001b[0m GAN_loss/gen/klloss: 0.054828\n",
      "\u001b[32m[1019 22:37:10 @monitor.py:467]\u001b[0m GAN_loss/gen/loss: 0.93887\n",
      "\u001b[32m[1019 22:37:10 @monitor.py:467]\u001b[0m QueueInput/queue_size: 50\n",
      "\u001b[32m[1019 22:37:10 @base.py:275]\u001b[0m Start Epoch 805 ...\n"
     ]
    },
    {
     "name": "stderr",
     "output_type": "stream",
     "text": [
      "100%|###################################################################################|175/175[00:06<00:00,27.98it/s]"
     ]
    },
    {
     "name": "stdout",
     "output_type": "stream",
     "text": [
      "\u001b[32m[1019 22:37:16 @base.py:285]\u001b[0m Epoch 805 (global_step 140875) finished, time:6.26 seconds.\n"
     ]
    },
    {
     "name": "stderr",
     "output_type": "stream",
     "text": [
      "\n"
     ]
    },
    {
     "name": "stdout",
     "output_type": "stream",
     "text": [
      "\u001b[32m[1019 22:37:16 @saver.py:79]\u001b[0m Model saved to ../output/Chicago/DATGAN_05/model\\model-140875.\n",
      "\u001b[32m[1019 22:37:16 @monitor.py:467]\u001b[0m GAN_loss/discrim/accuracy_fake: 0.974\n",
      "\u001b[32m[1019 22:37:16 @monitor.py:467]\u001b[0m GAN_loss/discrim/accuracy_real: 0.04\n",
      "\u001b[32m[1019 22:37:16 @monitor.py:467]\u001b[0m GAN_loss/discrim/loss: 0.65175\n",
      "\u001b[32m[1019 22:37:16 @monitor.py:467]\u001b[0m GAN_loss/gen/final-g-loss: 0.98654\n",
      "\u001b[32m[1019 22:37:16 @monitor.py:467]\u001b[0m GAN_loss/gen/klloss: 0.041834\n",
      "\u001b[32m[1019 22:37:16 @monitor.py:467]\u001b[0m GAN_loss/gen/loss: 0.9447\n",
      "\u001b[32m[1019 22:37:16 @monitor.py:467]\u001b[0m QueueInput/queue_size: 50\n",
      "\u001b[32m[1019 22:37:16 @base.py:275]\u001b[0m Start Epoch 806 ...\n"
     ]
    },
    {
     "name": "stderr",
     "output_type": "stream",
     "text": [
      "100%|###################################################################################|175/175[00:06<00:00,28.58it/s]"
     ]
    },
    {
     "name": "stdout",
     "output_type": "stream",
     "text": [
      "\u001b[32m[1019 22:37:23 @base.py:285]\u001b[0m Epoch 806 (global_step 141050) finished, time:6.12 seconds.\n",
      "\u001b[32m[1019 22:37:23 @saver.py:79]\u001b[0m Model saved to ../output/Chicago/DATGAN_05/model\\model-141050.\n"
     ]
    },
    {
     "name": "stderr",
     "output_type": "stream",
     "text": [
      "\n"
     ]
    },
    {
     "name": "stdout",
     "output_type": "stream",
     "text": [
      "\u001b[32m[1019 22:37:23 @monitor.py:467]\u001b[0m GAN_loss/discrim/accuracy_fake: 0.956\n",
      "\u001b[32m[1019 22:37:23 @monitor.py:467]\u001b[0m GAN_loss/discrim/accuracy_real: 0.038\n",
      "\u001b[32m[1019 22:37:23 @monitor.py:467]\u001b[0m GAN_loss/discrim/loss: 0.65253\n",
      "\u001b[32m[1019 22:37:23 @monitor.py:467]\u001b[0m GAN_loss/gen/final-g-loss: 1.0166\n",
      "\u001b[32m[1019 22:37:23 @monitor.py:467]\u001b[0m GAN_loss/gen/klloss: 0.074195\n",
      "\u001b[32m[1019 22:37:23 @monitor.py:467]\u001b[0m GAN_loss/gen/loss: 0.9424\n",
      "\u001b[32m[1019 22:37:23 @monitor.py:467]\u001b[0m QueueInput/queue_size: 50\n",
      "\u001b[32m[1019 22:37:23 @base.py:275]\u001b[0m Start Epoch 807 ...\n"
     ]
    },
    {
     "name": "stderr",
     "output_type": "stream",
     "text": [
      "100%|###################################################################################|175/175[00:06<00:00,29.07it/s]"
     ]
    },
    {
     "name": "stdout",
     "output_type": "stream",
     "text": [
      "\u001b[32m[1019 22:37:29 @base.py:285]\u001b[0m Epoch 807 (global_step 141225) finished, time:6.02 seconds.\n",
      "\u001b[32m[1019 22:37:29 @saver.py:79]\u001b[0m Model saved to ../output/Chicago/DATGAN_05/model\\model-141225.\n"
     ]
    },
    {
     "name": "stderr",
     "output_type": "stream",
     "text": [
      "\n"
     ]
    },
    {
     "name": "stdout",
     "output_type": "stream",
     "text": [
      "\u001b[32m[1019 22:37:29 @monitor.py:467]\u001b[0m GAN_loss/discrim/accuracy_fake: 0.96\n",
      "\u001b[32m[1019 22:37:29 @monitor.py:467]\u001b[0m GAN_loss/discrim/accuracy_real: 0.04\n",
      "\u001b[32m[1019 22:37:29 @monitor.py:467]\u001b[0m GAN_loss/discrim/loss: 0.64683\n",
      "\u001b[32m[1019 22:37:29 @monitor.py:467]\u001b[0m GAN_loss/gen/final-g-loss: 1.0289\n",
      "\u001b[32m[1019 22:37:29 @monitor.py:467]\u001b[0m GAN_loss/gen/klloss: 0.083812\n",
      "\u001b[32m[1019 22:37:29 @monitor.py:467]\u001b[0m GAN_loss/gen/loss: 0.9451\n",
      "\u001b[32m[1019 22:37:29 @monitor.py:467]\u001b[0m QueueInput/queue_size: 50\n",
      "\u001b[32m[1019 22:37:29 @base.py:275]\u001b[0m Start Epoch 808 ...\n"
     ]
    },
    {
     "name": "stderr",
     "output_type": "stream",
     "text": [
      "100%|###################################################################################|175/175[00:06<00:00,29.13it/s]"
     ]
    },
    {
     "name": "stdout",
     "output_type": "stream",
     "text": [
      "\u001b[32m[1019 22:37:35 @base.py:285]\u001b[0m Epoch 808 (global_step 141400) finished, time:6.01 seconds.\n",
      "\u001b[32m[1019 22:37:35 @saver.py:79]\u001b[0m Model saved to ../output/Chicago/DATGAN_05/model\\model-141400.\n"
     ]
    },
    {
     "name": "stderr",
     "output_type": "stream",
     "text": [
      "\n"
     ]
    },
    {
     "name": "stdout",
     "output_type": "stream",
     "text": [
      "\u001b[32m[1019 22:37:35 @monitor.py:467]\u001b[0m GAN_loss/discrim/accuracy_fake: 0.97\n",
      "\u001b[32m[1019 22:37:35 @monitor.py:467]\u001b[0m GAN_loss/discrim/accuracy_real: 0.034\n",
      "\u001b[32m[1019 22:37:35 @monitor.py:467]\u001b[0m GAN_loss/discrim/loss: 0.65015\n",
      "\u001b[32m[1019 22:37:35 @monitor.py:467]\u001b[0m GAN_loss/gen/final-g-loss: 0.99968\n",
      "\u001b[32m[1019 22:37:35 @monitor.py:467]\u001b[0m GAN_loss/gen/klloss: 0.05935\n",
      "\u001b[32m[1019 22:37:35 @monitor.py:467]\u001b[0m GAN_loss/gen/loss: 0.94033\n",
      "\u001b[32m[1019 22:37:35 @monitor.py:467]\u001b[0m QueueInput/queue_size: 50\n",
      "\u001b[32m[1019 22:37:35 @base.py:275]\u001b[0m Start Epoch 809 ...\n"
     ]
    },
    {
     "name": "stderr",
     "output_type": "stream",
     "text": [
      "100%|###################################################################################|175/175[00:06<00:00,29.06it/s]"
     ]
    },
    {
     "name": "stdout",
     "output_type": "stream",
     "text": [
      "\u001b[32m[1019 22:37:41 @base.py:285]\u001b[0m Epoch 809 (global_step 141575) finished, time:6.02 seconds.\n",
      "\u001b[32m[1019 22:37:41 @saver.py:79]\u001b[0m Model saved to ../output/Chicago/DATGAN_05/model\\model-141575.\n"
     ]
    },
    {
     "name": "stderr",
     "output_type": "stream",
     "text": [
      "\n"
     ]
    },
    {
     "name": "stdout",
     "output_type": "stream",
     "text": [
      "\u001b[32m[1019 22:37:42 @monitor.py:467]\u001b[0m GAN_loss/discrim/accuracy_fake: 0.978\n",
      "\u001b[32m[1019 22:37:42 @monitor.py:467]\u001b[0m GAN_loss/discrim/accuracy_real: 0.072\n",
      "\u001b[32m[1019 22:37:42 @monitor.py:467]\u001b[0m GAN_loss/discrim/loss: 0.64443\n",
      "\u001b[32m[1019 22:37:42 @monitor.py:467]\u001b[0m GAN_loss/gen/final-g-loss: 1.0154\n",
      "\u001b[32m[1019 22:37:42 @monitor.py:467]\u001b[0m GAN_loss/gen/klloss: 0.071103\n",
      "\u001b[32m[1019 22:37:42 @monitor.py:467]\u001b[0m GAN_loss/gen/loss: 0.94431\n",
      "\u001b[32m[1019 22:37:42 @monitor.py:467]\u001b[0m QueueInput/queue_size: 50\n",
      "\u001b[32m[1019 22:37:42 @base.py:275]\u001b[0m Start Epoch 810 ...\n"
     ]
    },
    {
     "name": "stderr",
     "output_type": "stream",
     "text": [
      "100%|###################################################################################|175/175[00:06<00:00,29.05it/s]"
     ]
    },
    {
     "name": "stdout",
     "output_type": "stream",
     "text": [
      "\u001b[32m[1019 22:37:48 @base.py:285]\u001b[0m Epoch 810 (global_step 141750) finished, time:6.03 seconds.\n",
      "\u001b[32m[1019 22:37:48 @saver.py:79]\u001b[0m Model saved to ../output/Chicago/DATGAN_05/model\\model-141750.\n"
     ]
    },
    {
     "name": "stderr",
     "output_type": "stream",
     "text": [
      "\n"
     ]
    },
    {
     "name": "stdout",
     "output_type": "stream",
     "text": [
      "\u001b[32m[1019 22:37:48 @monitor.py:467]\u001b[0m GAN_loss/discrim/accuracy_fake: 0.97\n",
      "\u001b[32m[1019 22:37:48 @monitor.py:467]\u001b[0m GAN_loss/discrim/accuracy_real: 0.064\n",
      "\u001b[32m[1019 22:37:48 @monitor.py:467]\u001b[0m GAN_loss/discrim/loss: 0.65145\n",
      "\u001b[32m[1019 22:37:48 @monitor.py:467]\u001b[0m GAN_loss/gen/final-g-loss: 0.98174\n",
      "\u001b[32m[1019 22:37:48 @monitor.py:467]\u001b[0m GAN_loss/gen/klloss: 0.049995\n",
      "\u001b[32m[1019 22:37:48 @monitor.py:467]\u001b[0m GAN_loss/gen/loss: 0.93175\n",
      "\u001b[32m[1019 22:37:48 @monitor.py:467]\u001b[0m QueueInput/queue_size: 50\n",
      "\u001b[32m[1019 22:37:48 @base.py:275]\u001b[0m Start Epoch 811 ...\n"
     ]
    },
    {
     "name": "stderr",
     "output_type": "stream",
     "text": [
      "100%|###################################################################################|175/175[00:06<00:00,29.06it/s]"
     ]
    },
    {
     "name": "stdout",
     "output_type": "stream",
     "text": [
      "\u001b[32m[1019 22:37:54 @base.py:285]\u001b[0m Epoch 811 (global_step 141925) finished, time:6.02 seconds.\n",
      "\u001b[32m[1019 22:37:54 @saver.py:79]\u001b[0m Model saved to ../output/Chicago/DATGAN_05/model\\model-141925.\n"
     ]
    },
    {
     "name": "stderr",
     "output_type": "stream",
     "text": [
      "\n"
     ]
    },
    {
     "name": "stdout",
     "output_type": "stream",
     "text": [
      "\u001b[32m[1019 22:37:54 @monitor.py:467]\u001b[0m GAN_loss/discrim/accuracy_fake: 0.978\n",
      "\u001b[32m[1019 22:37:54 @monitor.py:467]\u001b[0m GAN_loss/discrim/accuracy_real: 0.054\n",
      "\u001b[32m[1019 22:37:54 @monitor.py:467]\u001b[0m GAN_loss/discrim/loss: 0.64752\n",
      "\u001b[32m[1019 22:37:54 @monitor.py:467]\u001b[0m GAN_loss/gen/final-g-loss: 1.0273\n",
      "\u001b[32m[1019 22:37:54 @monitor.py:467]\u001b[0m GAN_loss/gen/klloss: 0.079605\n",
      "\u001b[32m[1019 22:37:54 @monitor.py:467]\u001b[0m GAN_loss/gen/loss: 0.94765\n",
      "\u001b[32m[1019 22:37:54 @monitor.py:467]\u001b[0m QueueInput/queue_size: 50\n",
      "\u001b[32m[1019 22:37:54 @base.py:275]\u001b[0m Start Epoch 812 ...\n"
     ]
    },
    {
     "name": "stderr",
     "output_type": "stream",
     "text": [
      "100%|###################################################################################|175/175[00:06<00:00,29.10it/s]"
     ]
    },
    {
     "name": "stdout",
     "output_type": "stream",
     "text": [
      "\u001b[32m[1019 22:38:00 @base.py:285]\u001b[0m Epoch 812 (global_step 142100) finished, time:6.01 seconds.\n",
      "\u001b[32m[1019 22:38:00 @saver.py:79]\u001b[0m Model saved to ../output/Chicago/DATGAN_05/model\\model-142100.\n"
     ]
    },
    {
     "name": "stderr",
     "output_type": "stream",
     "text": [
      "\n"
     ]
    },
    {
     "name": "stdout",
     "output_type": "stream",
     "text": [
      "\u001b[32m[1019 22:38:00 @monitor.py:467]\u001b[0m GAN_loss/discrim/accuracy_fake: 0.974\n",
      "\u001b[32m[1019 22:38:00 @monitor.py:467]\u001b[0m GAN_loss/discrim/accuracy_real: 0.06\n",
      "\u001b[32m[1019 22:38:00 @monitor.py:467]\u001b[0m GAN_loss/discrim/loss: 0.64856\n",
      "\u001b[32m[1019 22:38:00 @monitor.py:467]\u001b[0m GAN_loss/gen/final-g-loss: 0.99642\n",
      "\u001b[32m[1019 22:38:00 @monitor.py:467]\u001b[0m GAN_loss/gen/klloss: 0.056147\n",
      "\u001b[32m[1019 22:38:00 @monitor.py:467]\u001b[0m GAN_loss/gen/loss: 0.94027\n",
      "\u001b[32m[1019 22:38:00 @monitor.py:467]\u001b[0m QueueInput/queue_size: 50\n",
      "\u001b[32m[1019 22:38:00 @base.py:275]\u001b[0m Start Epoch 813 ...\n"
     ]
    },
    {
     "name": "stderr",
     "output_type": "stream",
     "text": [
      "100%|###################################################################################|175/175[00:06<00:00,28.27it/s]"
     ]
    },
    {
     "name": "stdout",
     "output_type": "stream",
     "text": [
      "\u001b[32m[1019 22:38:07 @base.py:285]\u001b[0m Epoch 813 (global_step 142275) finished, time:6.19 seconds.\n",
      "\u001b[32m[1019 22:38:07 @saver.py:79]\u001b[0m Model saved to ../output/Chicago/DATGAN_05/model\\model-142275.\n"
     ]
    },
    {
     "name": "stderr",
     "output_type": "stream",
     "text": [
      "\n"
     ]
    },
    {
     "name": "stdout",
     "output_type": "stream",
     "text": [
      "\u001b[32m[1019 22:38:07 @monitor.py:467]\u001b[0m GAN_loss/discrim/accuracy_fake: 0.968\n",
      "\u001b[32m[1019 22:38:07 @monitor.py:467]\u001b[0m GAN_loss/discrim/accuracy_real: 0.042\n",
      "\u001b[32m[1019 22:38:07 @monitor.py:467]\u001b[0m GAN_loss/discrim/loss: 0.6523\n",
      "\u001b[32m[1019 22:38:07 @monitor.py:467]\u001b[0m GAN_loss/gen/final-g-loss: 1.003\n",
      "\u001b[32m[1019 22:38:07 @monitor.py:467]\u001b[0m GAN_loss/gen/klloss: 0.067512\n",
      "\u001b[32m[1019 22:38:07 @monitor.py:467]\u001b[0m GAN_loss/gen/loss: 0.93548\n",
      "\u001b[32m[1019 22:38:07 @monitor.py:467]\u001b[0m QueueInput/queue_size: 50\n",
      "\u001b[32m[1019 22:38:07 @base.py:275]\u001b[0m Start Epoch 814 ...\n"
     ]
    },
    {
     "name": "stderr",
     "output_type": "stream",
     "text": [
      "100%|###################################################################################|175/175[00:06<00:00,28.99it/s]"
     ]
    },
    {
     "name": "stdout",
     "output_type": "stream",
     "text": [
      "\u001b[32m[1019 22:38:13 @base.py:285]\u001b[0m Epoch 814 (global_step 142450) finished, time:6.04 seconds.\n",
      "\u001b[32m[1019 22:38:13 @saver.py:79]\u001b[0m Model saved to ../output/Chicago/DATGAN_05/model\\model-142450.\n"
     ]
    },
    {
     "name": "stderr",
     "output_type": "stream",
     "text": [
      "\n"
     ]
    },
    {
     "name": "stdout",
     "output_type": "stream",
     "text": [
      "\u001b[32m[1019 22:38:13 @monitor.py:467]\u001b[0m GAN_loss/discrim/accuracy_fake: 0.968\n",
      "\u001b[32m[1019 22:38:13 @monitor.py:467]\u001b[0m GAN_loss/discrim/accuracy_real: 0.054\n",
      "\u001b[32m[1019 22:38:13 @monitor.py:467]\u001b[0m GAN_loss/discrim/loss: 0.63955\n",
      "\u001b[32m[1019 22:38:13 @monitor.py:467]\u001b[0m GAN_loss/gen/final-g-loss: 1.012\n",
      "\u001b[32m[1019 22:38:13 @monitor.py:467]\u001b[0m GAN_loss/gen/klloss: 0.061254\n",
      "\u001b[32m[1019 22:38:13 @monitor.py:467]\u001b[0m GAN_loss/gen/loss: 0.95074\n",
      "\u001b[32m[1019 22:38:13 @monitor.py:467]\u001b[0m QueueInput/queue_size: 50\n",
      "\u001b[32m[1019 22:38:13 @base.py:275]\u001b[0m Start Epoch 815 ...\n"
     ]
    },
    {
     "name": "stderr",
     "output_type": "stream",
     "text": [
      "100%|###################################################################################|175/175[00:06<00:00,29.05it/s]"
     ]
    },
    {
     "name": "stdout",
     "output_type": "stream",
     "text": [
      "\u001b[32m[1019 22:38:19 @base.py:285]\u001b[0m Epoch 815 (global_step 142625) finished, time:6.02 seconds.\n",
      "\u001b[32m[1019 22:38:19 @saver.py:79]\u001b[0m Model saved to ../output/Chicago/DATGAN_05/model\\model-142625.\n"
     ]
    },
    {
     "name": "stderr",
     "output_type": "stream",
     "text": [
      "\n"
     ]
    },
    {
     "name": "stdout",
     "output_type": "stream",
     "text": [
      "\u001b[32m[1019 22:38:19 @monitor.py:467]\u001b[0m GAN_loss/discrim/accuracy_fake: 0.952\n",
      "\u001b[32m[1019 22:38:19 @monitor.py:467]\u001b[0m GAN_loss/discrim/accuracy_real: 0.044\n",
      "\u001b[32m[1019 22:38:19 @monitor.py:467]\u001b[0m GAN_loss/discrim/loss: 0.65654\n",
      "\u001b[32m[1019 22:38:19 @monitor.py:467]\u001b[0m GAN_loss/gen/final-g-loss: 0.98193\n",
      "\u001b[32m[1019 22:38:19 @monitor.py:467]\u001b[0m GAN_loss/gen/klloss: 0.054707\n",
      "\u001b[32m[1019 22:38:19 @monitor.py:467]\u001b[0m GAN_loss/gen/loss: 0.92723\n",
      "\u001b[32m[1019 22:38:19 @monitor.py:467]\u001b[0m QueueInput/queue_size: 50\n",
      "\u001b[32m[1019 22:38:19 @base.py:275]\u001b[0m Start Epoch 816 ...\n"
     ]
    },
    {
     "name": "stderr",
     "output_type": "stream",
     "text": [
      "100%|###################################################################################|175/175[00:06<00:00,29.07it/s]"
     ]
    },
    {
     "name": "stdout",
     "output_type": "stream",
     "text": [
      "\u001b[32m[1019 22:38:25 @base.py:285]\u001b[0m Epoch 816 (global_step 142800) finished, time:6.02 seconds.\n",
      "\u001b[32m[1019 22:38:25 @saver.py:79]\u001b[0m Model saved to ../output/Chicago/DATGAN_05/model\\model-142800.\n"
     ]
    },
    {
     "name": "stderr",
     "output_type": "stream",
     "text": [
      "\n"
     ]
    },
    {
     "name": "stdout",
     "output_type": "stream",
     "text": [
      "\u001b[32m[1019 22:38:26 @monitor.py:467]\u001b[0m GAN_loss/discrim/accuracy_fake: 0.97\n",
      "\u001b[32m[1019 22:38:26 @monitor.py:467]\u001b[0m GAN_loss/discrim/accuracy_real: 0.036\n",
      "\u001b[32m[1019 22:38:26 @monitor.py:467]\u001b[0m GAN_loss/discrim/loss: 0.65335\n",
      "\u001b[32m[1019 22:38:26 @monitor.py:467]\u001b[0m GAN_loss/gen/final-g-loss: 0.98472\n",
      "\u001b[32m[1019 22:38:26 @monitor.py:467]\u001b[0m GAN_loss/gen/klloss: 0.047323\n",
      "\u001b[32m[1019 22:38:26 @monitor.py:467]\u001b[0m GAN_loss/gen/loss: 0.93739\n",
      "\u001b[32m[1019 22:38:26 @monitor.py:467]\u001b[0m QueueInput/queue_size: 50\n",
      "\u001b[32m[1019 22:38:26 @base.py:275]\u001b[0m Start Epoch 817 ...\n"
     ]
    },
    {
     "name": "stderr",
     "output_type": "stream",
     "text": [
      "100%|###################################################################################|175/175[00:06<00:00,28.72it/s]"
     ]
    },
    {
     "name": "stdout",
     "output_type": "stream",
     "text": [
      "\u001b[32m[1019 22:38:32 @base.py:285]\u001b[0m Epoch 817 (global_step 142975) finished, time:6.09 seconds.\n",
      "\u001b[32m[1019 22:38:32 @saver.py:79]\u001b[0m Model saved to ../output/Chicago/DATGAN_05/model\\model-142975.\n"
     ]
    },
    {
     "name": "stderr",
     "output_type": "stream",
     "text": [
      "\n"
     ]
    },
    {
     "name": "stdout",
     "output_type": "stream",
     "text": [
      "\u001b[32m[1019 22:38:32 @monitor.py:467]\u001b[0m GAN_loss/discrim/accuracy_fake: 0.966\n",
      "\u001b[32m[1019 22:38:32 @monitor.py:467]\u001b[0m GAN_loss/discrim/accuracy_real: 0.046\n",
      "\u001b[32m[1019 22:38:32 @monitor.py:467]\u001b[0m GAN_loss/discrim/loss: 0.65592\n",
      "\u001b[32m[1019 22:38:32 @monitor.py:467]\u001b[0m GAN_loss/gen/final-g-loss: 0.97006\n",
      "\u001b[32m[1019 22:38:32 @monitor.py:467]\u001b[0m GAN_loss/gen/klloss: 0.038251\n",
      "\u001b[32m[1019 22:38:32 @monitor.py:467]\u001b[0m GAN_loss/gen/loss: 0.93181\n",
      "\u001b[32m[1019 22:38:32 @monitor.py:467]\u001b[0m QueueInput/queue_size: 50\n",
      "\u001b[32m[1019 22:38:32 @base.py:275]\u001b[0m Start Epoch 818 ...\n"
     ]
    },
    {
     "name": "stderr",
     "output_type": "stream",
     "text": [
      "100%|###################################################################################|175/175[00:06<00:00,28.57it/s]"
     ]
    },
    {
     "name": "stdout",
     "output_type": "stream",
     "text": [
      "\u001b[32m[1019 22:38:38 @base.py:285]\u001b[0m Epoch 818 (global_step 143150) finished, time:6.13 seconds.\n",
      "\u001b[32m[1019 22:38:38 @saver.py:79]\u001b[0m Model saved to ../output/Chicago/DATGAN_05/model\\model-143150.\n"
     ]
    },
    {
     "name": "stderr",
     "output_type": "stream",
     "text": [
      "\n"
     ]
    },
    {
     "name": "stdout",
     "output_type": "stream",
     "text": [
      "\u001b[32m[1019 22:38:38 @monitor.py:467]\u001b[0m GAN_loss/discrim/accuracy_fake: 0.968\n",
      "\u001b[32m[1019 22:38:38 @monitor.py:467]\u001b[0m GAN_loss/discrim/accuracy_real: 0.048\n",
      "\u001b[32m[1019 22:38:38 @monitor.py:467]\u001b[0m GAN_loss/discrim/loss: 0.64844\n",
      "\u001b[32m[1019 22:38:38 @monitor.py:467]\u001b[0m GAN_loss/gen/final-g-loss: 1.0345\n",
      "\u001b[32m[1019 22:38:38 @monitor.py:467]\u001b[0m GAN_loss/gen/klloss: 0.091882\n",
      "\u001b[32m[1019 22:38:38 @monitor.py:467]\u001b[0m GAN_loss/gen/loss: 0.94266\n",
      "\u001b[32m[1019 22:38:38 @monitor.py:467]\u001b[0m QueueInput/queue_size: 50\n",
      "\u001b[32m[1019 22:38:38 @base.py:275]\u001b[0m Start Epoch 819 ...\n"
     ]
    },
    {
     "name": "stderr",
     "output_type": "stream",
     "text": [
      "100%|###################################################################################|175/175[00:06<00:00,29.10it/s]"
     ]
    },
    {
     "name": "stdout",
     "output_type": "stream",
     "text": [
      "\u001b[32m[1019 22:38:44 @base.py:285]\u001b[0m Epoch 819 (global_step 143325) finished, time:6.01 seconds.\n",
      "\u001b[32m[1019 22:38:44 @saver.py:79]\u001b[0m Model saved to ../output/Chicago/DATGAN_05/model\\model-143325.\n"
     ]
    },
    {
     "name": "stderr",
     "output_type": "stream",
     "text": [
      "\n"
     ]
    },
    {
     "name": "stdout",
     "output_type": "stream",
     "text": [
      "\u001b[32m[1019 22:38:45 @monitor.py:467]\u001b[0m GAN_loss/discrim/accuracy_fake: 0.964\n",
      "\u001b[32m[1019 22:38:45 @monitor.py:467]\u001b[0m GAN_loss/discrim/accuracy_real: 0.052\n",
      "\u001b[32m[1019 22:38:45 @monitor.py:467]\u001b[0m GAN_loss/discrim/loss: 0.6535\n",
      "\u001b[32m[1019 22:38:45 @monitor.py:467]\u001b[0m GAN_loss/gen/final-g-loss: 0.9794\n",
      "\u001b[32m[1019 22:38:45 @monitor.py:467]\u001b[0m GAN_loss/gen/klloss: 0.045715\n",
      "\u001b[32m[1019 22:38:45 @monitor.py:467]\u001b[0m GAN_loss/gen/loss: 0.93369\n",
      "\u001b[32m[1019 22:38:45 @monitor.py:467]\u001b[0m QueueInput/queue_size: 50\n",
      "\u001b[32m[1019 22:38:45 @base.py:275]\u001b[0m Start Epoch 820 ...\n"
     ]
    },
    {
     "name": "stderr",
     "output_type": "stream",
     "text": [
      "100%|###################################################################################|175/175[00:06<00:00,29.07it/s]"
     ]
    },
    {
     "name": "stdout",
     "output_type": "stream",
     "text": [
      "\u001b[32m[1019 22:38:51 @base.py:285]\u001b[0m Epoch 820 (global_step 143500) finished, time:6.02 seconds.\n",
      "\u001b[32m[1019 22:38:51 @saver.py:79]\u001b[0m Model saved to ../output/Chicago/DATGAN_05/model\\model-143500.\n"
     ]
    },
    {
     "name": "stderr",
     "output_type": "stream",
     "text": [
      "\n"
     ]
    },
    {
     "name": "stdout",
     "output_type": "stream",
     "text": [
      "\u001b[32m[1019 22:38:51 @monitor.py:467]\u001b[0m GAN_loss/discrim/accuracy_fake: 0.974\n",
      "\u001b[32m[1019 22:38:51 @monitor.py:467]\u001b[0m GAN_loss/discrim/accuracy_real: 0.038\n",
      "\u001b[32m[1019 22:38:51 @monitor.py:467]\u001b[0m GAN_loss/discrim/loss: 0.64892\n",
      "\u001b[32m[1019 22:38:51 @monitor.py:467]\u001b[0m GAN_loss/gen/final-g-loss: 1.0177\n",
      "\u001b[32m[1019 22:38:51 @monitor.py:467]\u001b[0m GAN_loss/gen/klloss: 0.069657\n",
      "\u001b[32m[1019 22:38:51 @monitor.py:467]\u001b[0m GAN_loss/gen/loss: 0.94809\n",
      "\u001b[32m[1019 22:38:51 @monitor.py:467]\u001b[0m QueueInput/queue_size: 50\n",
      "\u001b[32m[1019 22:38:51 @base.py:275]\u001b[0m Start Epoch 821 ...\n"
     ]
    },
    {
     "name": "stderr",
     "output_type": "stream",
     "text": [
      "100%|###################################################################################|175/175[00:06<00:00,28.91it/s]"
     ]
    },
    {
     "name": "stdout",
     "output_type": "stream",
     "text": [
      "\u001b[32m[1019 22:38:57 @base.py:285]\u001b[0m Epoch 821 (global_step 143675) finished, time:6.05 seconds.\n",
      "\u001b[32m[1019 22:38:57 @saver.py:79]\u001b[0m Model saved to ../output/Chicago/DATGAN_05/model\\model-143675.\n"
     ]
    },
    {
     "name": "stderr",
     "output_type": "stream",
     "text": [
      "\n"
     ]
    },
    {
     "name": "stdout",
     "output_type": "stream",
     "text": [
      "\u001b[32m[1019 22:38:57 @monitor.py:467]\u001b[0m GAN_loss/discrim/accuracy_fake: 0.966\n",
      "\u001b[32m[1019 22:38:57 @monitor.py:467]\u001b[0m GAN_loss/discrim/accuracy_real: 0.044\n",
      "\u001b[32m[1019 22:38:57 @monitor.py:467]\u001b[0m GAN_loss/discrim/loss: 0.64439\n",
      "\u001b[32m[1019 22:38:57 @monitor.py:467]\u001b[0m GAN_loss/gen/final-g-loss: 0.99963\n",
      "\u001b[32m[1019 22:38:57 @monitor.py:467]\u001b[0m GAN_loss/gen/klloss: 0.052775\n",
      "\u001b[32m[1019 22:38:57 @monitor.py:467]\u001b[0m GAN_loss/gen/loss: 0.94686\n",
      "\u001b[32m[1019 22:38:57 @monitor.py:467]\u001b[0m QueueInput/queue_size: 50\n",
      "\u001b[32m[1019 22:38:57 @base.py:275]\u001b[0m Start Epoch 822 ...\n"
     ]
    },
    {
     "name": "stderr",
     "output_type": "stream",
     "text": [
      "100%|###################################################################################|175/175[00:06<00:00,28.46it/s]"
     ]
    },
    {
     "name": "stdout",
     "output_type": "stream",
     "text": [
      "\u001b[32m[1019 22:39:03 @base.py:285]\u001b[0m Epoch 822 (global_step 143850) finished, time:6.15 seconds.\n",
      "\u001b[32m[1019 22:39:03 @saver.py:79]\u001b[0m Model saved to ../output/Chicago/DATGAN_05/model\\model-143850.\n"
     ]
    },
    {
     "name": "stderr",
     "output_type": "stream",
     "text": [
      "\n"
     ]
    },
    {
     "name": "stdout",
     "output_type": "stream",
     "text": [
      "\u001b[32m[1019 22:39:03 @monitor.py:467]\u001b[0m GAN_loss/discrim/accuracy_fake: 0.966\n",
      "\u001b[32m[1019 22:39:03 @monitor.py:467]\u001b[0m GAN_loss/discrim/accuracy_real: 0.042\n",
      "\u001b[32m[1019 22:39:03 @monitor.py:467]\u001b[0m GAN_loss/discrim/loss: 0.64824\n",
      "\u001b[32m[1019 22:39:03 @monitor.py:467]\u001b[0m GAN_loss/gen/final-g-loss: 1.0002\n",
      "\u001b[32m[1019 22:39:03 @monitor.py:467]\u001b[0m GAN_loss/gen/klloss: 0.059853\n",
      "\u001b[32m[1019 22:39:03 @monitor.py:467]\u001b[0m GAN_loss/gen/loss: 0.94036\n",
      "\u001b[32m[1019 22:39:03 @monitor.py:467]\u001b[0m QueueInput/queue_size: 50\n",
      "\u001b[32m[1019 22:39:03 @base.py:275]\u001b[0m Start Epoch 823 ...\n"
     ]
    },
    {
     "name": "stderr",
     "output_type": "stream",
     "text": [
      "100%|###################################################################################|175/175[00:06<00:00,28.89it/s]"
     ]
    },
    {
     "name": "stdout",
     "output_type": "stream",
     "text": [
      "\u001b[32m[1019 22:39:10 @base.py:285]\u001b[0m Epoch 823 (global_step 144025) finished, time:6.06 seconds.\n",
      "\u001b[32m[1019 22:39:10 @saver.py:79]\u001b[0m Model saved to ../output/Chicago/DATGAN_05/model\\model-144025.\n"
     ]
    },
    {
     "name": "stderr",
     "output_type": "stream",
     "text": [
      "\n"
     ]
    },
    {
     "name": "stdout",
     "output_type": "stream",
     "text": [
      "\u001b[32m[1019 22:39:10 @monitor.py:467]\u001b[0m GAN_loss/discrim/accuracy_fake: 0.988\n",
      "\u001b[32m[1019 22:39:10 @monitor.py:467]\u001b[0m GAN_loss/discrim/accuracy_real: 0.04\n",
      "\u001b[32m[1019 22:39:10 @monitor.py:467]\u001b[0m GAN_loss/discrim/loss: 0.64795\n",
      "\u001b[32m[1019 22:39:10 @monitor.py:467]\u001b[0m GAN_loss/gen/final-g-loss: 0.98981\n",
      "\u001b[32m[1019 22:39:10 @monitor.py:467]\u001b[0m GAN_loss/gen/klloss: 0.044339\n",
      "\u001b[32m[1019 22:39:10 @monitor.py:467]\u001b[0m GAN_loss/gen/loss: 0.94547\n",
      "\u001b[32m[1019 22:39:10 @monitor.py:467]\u001b[0m QueueInput/queue_size: 50\n",
      "\u001b[32m[1019 22:39:10 @base.py:275]\u001b[0m Start Epoch 824 ...\n"
     ]
    },
    {
     "name": "stderr",
     "output_type": "stream",
     "text": [
      "100%|###################################################################################|175/175[00:06<00:00,29.15it/s]"
     ]
    },
    {
     "name": "stdout",
     "output_type": "stream",
     "text": [
      "\u001b[32m[1019 22:39:16 @base.py:285]\u001b[0m Epoch 824 (global_step 144200) finished, time:6 seconds.\n",
      "\u001b[32m[1019 22:39:16 @saver.py:79]\u001b[0m Model saved to ../output/Chicago/DATGAN_05/model\\model-144200.\n"
     ]
    },
    {
     "name": "stderr",
     "output_type": "stream",
     "text": [
      "\n"
     ]
    },
    {
     "name": "stdout",
     "output_type": "stream",
     "text": [
      "\u001b[32m[1019 22:39:16 @monitor.py:467]\u001b[0m GAN_loss/discrim/accuracy_fake: 0.982\n",
      "\u001b[32m[1019 22:39:16 @monitor.py:467]\u001b[0m GAN_loss/discrim/accuracy_real: 0.054\n",
      "\u001b[32m[1019 22:39:16 @monitor.py:467]\u001b[0m GAN_loss/discrim/loss: 0.6471\n",
      "\u001b[32m[1019 22:39:16 @monitor.py:467]\u001b[0m GAN_loss/gen/final-g-loss: 1.0006\n",
      "\u001b[32m[1019 22:39:16 @monitor.py:467]\u001b[0m GAN_loss/gen/klloss: 0.057742\n",
      "\u001b[32m[1019 22:39:16 @monitor.py:467]\u001b[0m GAN_loss/gen/loss: 0.94285\n",
      "\u001b[32m[1019 22:39:16 @monitor.py:467]\u001b[0m QueueInput/queue_size: 50\n",
      "\u001b[32m[1019 22:39:16 @base.py:275]\u001b[0m Start Epoch 825 ...\n"
     ]
    },
    {
     "name": "stderr",
     "output_type": "stream",
     "text": [
      "100%|###################################################################################|175/175[00:06<00:00,28.99it/s]"
     ]
    },
    {
     "name": "stdout",
     "output_type": "stream",
     "text": [
      "\u001b[32m[1019 22:39:22 @base.py:285]\u001b[0m Epoch 825 (global_step 144375) finished, time:6.04 seconds.\n",
      "\u001b[32m[1019 22:39:22 @saver.py:79]\u001b[0m Model saved to ../output/Chicago/DATGAN_05/model\\model-144375.\n"
     ]
    },
    {
     "name": "stderr",
     "output_type": "stream",
     "text": [
      "\n"
     ]
    },
    {
     "name": "stdout",
     "output_type": "stream",
     "text": [
      "\u001b[32m[1019 22:39:22 @monitor.py:467]\u001b[0m GAN_loss/discrim/accuracy_fake: 0.98\n",
      "\u001b[32m[1019 22:39:22 @monitor.py:467]\u001b[0m GAN_loss/discrim/accuracy_real: 0.064\n",
      "\u001b[32m[1019 22:39:22 @monitor.py:467]\u001b[0m GAN_loss/discrim/loss: 0.64428\n",
      "\u001b[32m[1019 22:39:22 @monitor.py:467]\u001b[0m GAN_loss/gen/final-g-loss: 1.0427\n",
      "\u001b[32m[1019 22:39:22 @monitor.py:467]\u001b[0m GAN_loss/gen/klloss: 0.10226\n",
      "\u001b[32m[1019 22:39:22 @monitor.py:467]\u001b[0m GAN_loss/gen/loss: 0.94048\n",
      "\u001b[32m[1019 22:39:22 @monitor.py:467]\u001b[0m QueueInput/queue_size: 50\n",
      "\u001b[32m[1019 22:39:22 @base.py:275]\u001b[0m Start Epoch 826 ...\n"
     ]
    },
    {
     "name": "stderr",
     "output_type": "stream",
     "text": [
      "100%|###################################################################################|175/175[00:06<00:00,29.14it/s]"
     ]
    },
    {
     "name": "stdout",
     "output_type": "stream",
     "text": [
      "\u001b[32m[1019 22:39:28 @base.py:285]\u001b[0m Epoch 826 (global_step 144550) finished, time:6.01 seconds.\n",
      "\u001b[32m[1019 22:39:28 @saver.py:79]\u001b[0m Model saved to ../output/Chicago/DATGAN_05/model\\model-144550.\n"
     ]
    },
    {
     "name": "stderr",
     "output_type": "stream",
     "text": [
      "\n"
     ]
    },
    {
     "name": "stdout",
     "output_type": "stream",
     "text": [
      "\u001b[32m[1019 22:39:29 @monitor.py:467]\u001b[0m GAN_loss/discrim/accuracy_fake: 0.978\n",
      "\u001b[32m[1019 22:39:29 @monitor.py:467]\u001b[0m GAN_loss/discrim/accuracy_real: 0.06\n",
      "\u001b[32m[1019 22:39:29 @monitor.py:467]\u001b[0m GAN_loss/discrim/loss: 0.64223\n",
      "\u001b[32m[1019 22:39:29 @monitor.py:467]\u001b[0m GAN_loss/gen/final-g-loss: 1.0163\n",
      "\u001b[32m[1019 22:39:29 @monitor.py:467]\u001b[0m GAN_loss/gen/klloss: 0.062096\n",
      "\u001b[32m[1019 22:39:29 @monitor.py:467]\u001b[0m GAN_loss/gen/loss: 0.95421\n",
      "\u001b[32m[1019 22:39:29 @monitor.py:467]\u001b[0m QueueInput/queue_size: 50\n",
      "\u001b[32m[1019 22:39:29 @base.py:275]\u001b[0m Start Epoch 827 ...\n"
     ]
    },
    {
     "name": "stderr",
     "output_type": "stream",
     "text": [
      "100%|###################################################################################|175/175[00:06<00:00,28.18it/s]"
     ]
    },
    {
     "name": "stdout",
     "output_type": "stream",
     "text": [
      "\u001b[32m[1019 22:39:35 @base.py:285]\u001b[0m Epoch 827 (global_step 144725) finished, time:6.21 seconds.\n",
      "\u001b[32m[1019 22:39:35 @saver.py:79]\u001b[0m Model saved to ../output/Chicago/DATGAN_05/model\\model-144725.\n"
     ]
    },
    {
     "name": "stderr",
     "output_type": "stream",
     "text": [
      "\n"
     ]
    },
    {
     "name": "stdout",
     "output_type": "stream",
     "text": [
      "\u001b[32m[1019 22:39:35 @monitor.py:467]\u001b[0m GAN_loss/discrim/accuracy_fake: 0.972\n",
      "\u001b[32m[1019 22:39:35 @monitor.py:467]\u001b[0m GAN_loss/discrim/accuracy_real: 0.052\n",
      "\u001b[32m[1019 22:39:35 @monitor.py:467]\u001b[0m GAN_loss/discrim/loss: 0.64808\n",
      "\u001b[32m[1019 22:39:35 @monitor.py:467]\u001b[0m GAN_loss/gen/final-g-loss: 0.98834\n",
      "\u001b[32m[1019 22:39:35 @monitor.py:467]\u001b[0m GAN_loss/gen/klloss: 0.044462\n",
      "\u001b[32m[1019 22:39:35 @monitor.py:467]\u001b[0m GAN_loss/gen/loss: 0.94388\n",
      "\u001b[32m[1019 22:39:35 @monitor.py:467]\u001b[0m QueueInput/queue_size: 50\n",
      "\u001b[32m[1019 22:39:35 @base.py:275]\u001b[0m Start Epoch 828 ...\n"
     ]
    },
    {
     "name": "stderr",
     "output_type": "stream",
     "text": [
      "100%|###################################################################################|175/175[00:06<00:00,29.08it/s]"
     ]
    },
    {
     "name": "stdout",
     "output_type": "stream",
     "text": [
      "\u001b[32m[1019 22:39:41 @base.py:285]\u001b[0m Epoch 828 (global_step 144900) finished, time:6.02 seconds.\n",
      "\u001b[32m[1019 22:39:41 @saver.py:79]\u001b[0m Model saved to ../output/Chicago/DATGAN_05/model\\model-144900.\n"
     ]
    },
    {
     "name": "stderr",
     "output_type": "stream",
     "text": [
      "\n"
     ]
    },
    {
     "name": "stdout",
     "output_type": "stream",
     "text": [
      "\u001b[32m[1019 22:39:41 @monitor.py:467]\u001b[0m GAN_loss/discrim/accuracy_fake: 0.97\n",
      "\u001b[32m[1019 22:39:41 @monitor.py:467]\u001b[0m GAN_loss/discrim/accuracy_real: 0.058\n",
      "\u001b[32m[1019 22:39:41 @monitor.py:467]\u001b[0m GAN_loss/discrim/loss: 0.6455\n",
      "\u001b[32m[1019 22:39:41 @monitor.py:467]\u001b[0m GAN_loss/gen/final-g-loss: 1.0078\n",
      "\u001b[32m[1019 22:39:41 @monitor.py:467]\u001b[0m GAN_loss/gen/klloss: 0.062966\n",
      "\u001b[32m[1019 22:39:41 @monitor.py:467]\u001b[0m GAN_loss/gen/loss: 0.9448\n",
      "\u001b[32m[1019 22:39:41 @monitor.py:467]\u001b[0m QueueInput/queue_size: 50\n",
      "\u001b[32m[1019 22:39:41 @base.py:275]\u001b[0m Start Epoch 829 ...\n"
     ]
    },
    {
     "name": "stderr",
     "output_type": "stream",
     "text": [
      "100%|###################################################################################|175/175[00:06<00:00,28.81it/s]"
     ]
    },
    {
     "name": "stdout",
     "output_type": "stream",
     "text": [
      "\u001b[32m[1019 22:39:47 @base.py:285]\u001b[0m Epoch 829 (global_step 145075) finished, time:6.07 seconds.\n",
      "\u001b[32m[1019 22:39:47 @saver.py:79]\u001b[0m Model saved to ../output/Chicago/DATGAN_05/model\\model-145075.\n"
     ]
    },
    {
     "name": "stderr",
     "output_type": "stream",
     "text": [
      "\n"
     ]
    },
    {
     "name": "stdout",
     "output_type": "stream",
     "text": [
      "\u001b[32m[1019 22:39:48 @monitor.py:467]\u001b[0m GAN_loss/discrim/accuracy_fake: 0.962\n",
      "\u001b[32m[1019 22:39:48 @monitor.py:467]\u001b[0m GAN_loss/discrim/accuracy_real: 0.056\n",
      "\u001b[32m[1019 22:39:48 @monitor.py:467]\u001b[0m GAN_loss/discrim/loss: 0.64914\n",
      "\u001b[32m[1019 22:39:48 @monitor.py:467]\u001b[0m GAN_loss/gen/final-g-loss: 0.99579\n",
      "\u001b[32m[1019 22:39:48 @monitor.py:467]\u001b[0m GAN_loss/gen/klloss: 0.054877\n",
      "\u001b[32m[1019 22:39:48 @monitor.py:467]\u001b[0m GAN_loss/gen/loss: 0.94092\n",
      "\u001b[32m[1019 22:39:48 @monitor.py:467]\u001b[0m QueueInput/queue_size: 50\n",
      "\u001b[32m[1019 22:39:48 @base.py:275]\u001b[0m Start Epoch 830 ...\n"
     ]
    },
    {
     "name": "stderr",
     "output_type": "stream",
     "text": [
      "100%|###################################################################################|175/175[00:06<00:00,28.44it/s]"
     ]
    },
    {
     "name": "stdout",
     "output_type": "stream",
     "text": [
      "\u001b[32m[1019 22:39:54 @base.py:285]\u001b[0m Epoch 830 (global_step 145250) finished, time:6.15 seconds.\n",
      "\u001b[32m[1019 22:39:54 @saver.py:79]\u001b[0m Model saved to ../output/Chicago/DATGAN_05/model\\model-145250.\n"
     ]
    },
    {
     "name": "stderr",
     "output_type": "stream",
     "text": [
      "\n"
     ]
    },
    {
     "name": "stdout",
     "output_type": "stream",
     "text": [
      "\u001b[32m[1019 22:39:54 @monitor.py:467]\u001b[0m GAN_loss/discrim/accuracy_fake: 0.966\n",
      "\u001b[32m[1019 22:39:54 @monitor.py:467]\u001b[0m GAN_loss/discrim/accuracy_real: 0.042\n",
      "\u001b[32m[1019 22:39:54 @monitor.py:467]\u001b[0m GAN_loss/discrim/loss: 0.6511\n",
      "\u001b[32m[1019 22:39:54 @monitor.py:467]\u001b[0m GAN_loss/gen/final-g-loss: 0.9955\n",
      "\u001b[32m[1019 22:39:54 @monitor.py:467]\u001b[0m GAN_loss/gen/klloss: 0.053917\n",
      "\u001b[32m[1019 22:39:54 @monitor.py:467]\u001b[0m GAN_loss/gen/loss: 0.94158\n",
      "\u001b[32m[1019 22:39:54 @monitor.py:467]\u001b[0m QueueInput/queue_size: 50\n",
      "\u001b[32m[1019 22:39:54 @base.py:275]\u001b[0m Start Epoch 831 ...\n"
     ]
    },
    {
     "name": "stderr",
     "output_type": "stream",
     "text": [
      "100%|###################################################################################|175/175[00:06<00:00,29.02it/s]"
     ]
    },
    {
     "name": "stdout",
     "output_type": "stream",
     "text": [
      "\u001b[32m[1019 22:40:00 @base.py:285]\u001b[0m Epoch 831 (global_step 145425) finished, time:6.03 seconds.\n",
      "\u001b[32m[1019 22:40:00 @saver.py:79]\u001b[0m Model saved to ../output/Chicago/DATGAN_05/model\\model-145425.\n"
     ]
    },
    {
     "name": "stderr",
     "output_type": "stream",
     "text": [
      "\n"
     ]
    },
    {
     "name": "stdout",
     "output_type": "stream",
     "text": [
      "\u001b[32m[1019 22:40:00 @monitor.py:467]\u001b[0m GAN_loss/discrim/accuracy_fake: 0.972\n",
      "\u001b[32m[1019 22:40:00 @monitor.py:467]\u001b[0m GAN_loss/discrim/accuracy_real: 0.054\n",
      "\u001b[32m[1019 22:40:00 @monitor.py:467]\u001b[0m GAN_loss/discrim/loss: 0.65228\n",
      "\u001b[32m[1019 22:40:00 @monitor.py:467]\u001b[0m GAN_loss/gen/final-g-loss: 0.97949\n",
      "\u001b[32m[1019 22:40:00 @monitor.py:467]\u001b[0m GAN_loss/gen/klloss: 0.041897\n",
      "\u001b[32m[1019 22:40:00 @monitor.py:467]\u001b[0m GAN_loss/gen/loss: 0.93759\n",
      "\u001b[32m[1019 22:40:00 @monitor.py:467]\u001b[0m QueueInput/queue_size: 50\n",
      "\u001b[32m[1019 22:40:00 @base.py:275]\u001b[0m Start Epoch 832 ...\n"
     ]
    },
    {
     "name": "stderr",
     "output_type": "stream",
     "text": [
      "100%|###################################################################################|175/175[00:06<00:00,27.93it/s]"
     ]
    },
    {
     "name": "stdout",
     "output_type": "stream",
     "text": [
      "\u001b[32m[1019 22:40:07 @base.py:285]\u001b[0m Epoch 832 (global_step 145600) finished, time:6.27 seconds.\n"
     ]
    },
    {
     "name": "stderr",
     "output_type": "stream",
     "text": [
      "\n"
     ]
    },
    {
     "name": "stdout",
     "output_type": "stream",
     "text": [
      "\u001b[32m[1019 22:40:07 @saver.py:79]\u001b[0m Model saved to ../output/Chicago/DATGAN_05/model\\model-145600.\n",
      "\u001b[32m[1019 22:40:07 @monitor.py:467]\u001b[0m GAN_loss/discrim/accuracy_fake: 0.974\n",
      "\u001b[32m[1019 22:40:07 @monitor.py:467]\u001b[0m GAN_loss/discrim/accuracy_real: 0.056\n",
      "\u001b[32m[1019 22:40:07 @monitor.py:467]\u001b[0m GAN_loss/discrim/loss: 0.64902\n",
      "\u001b[32m[1019 22:40:07 @monitor.py:467]\u001b[0m GAN_loss/gen/final-g-loss: 1.0167\n",
      "\u001b[32m[1019 22:40:07 @monitor.py:467]\u001b[0m GAN_loss/gen/klloss: 0.075034\n",
      "\u001b[32m[1019 22:40:07 @monitor.py:467]\u001b[0m GAN_loss/gen/loss: 0.9417\n",
      "\u001b[32m[1019 22:40:07 @monitor.py:467]\u001b[0m QueueInput/queue_size: 50\n",
      "\u001b[32m[1019 22:40:07 @base.py:275]\u001b[0m Start Epoch 833 ...\n"
     ]
    },
    {
     "name": "stderr",
     "output_type": "stream",
     "text": [
      "100%|###################################################################################|175/175[00:06<00:00,28.50it/s]"
     ]
    },
    {
     "name": "stdout",
     "output_type": "stream",
     "text": [
      "\u001b[32m[1019 22:40:13 @base.py:285]\u001b[0m Epoch 833 (global_step 145775) finished, time:6.14 seconds.\n",
      "\u001b[32m[1019 22:40:13 @saver.py:79]\u001b[0m Model saved to ../output/Chicago/DATGAN_05/model\\model-145775.\n"
     ]
    },
    {
     "name": "stderr",
     "output_type": "stream",
     "text": [
      "\n"
     ]
    },
    {
     "name": "stdout",
     "output_type": "stream",
     "text": [
      "\u001b[32m[1019 22:40:13 @monitor.py:467]\u001b[0m GAN_loss/discrim/accuracy_fake: 0.966\n",
      "\u001b[32m[1019 22:40:13 @monitor.py:467]\u001b[0m GAN_loss/discrim/accuracy_real: 0.048\n",
      "\u001b[32m[1019 22:40:13 @monitor.py:467]\u001b[0m GAN_loss/discrim/loss: 0.65569\n",
      "\u001b[32m[1019 22:40:13 @monitor.py:467]\u001b[0m GAN_loss/gen/final-g-loss: 0.98166\n",
      "\u001b[32m[1019 22:40:13 @monitor.py:467]\u001b[0m GAN_loss/gen/klloss: 0.051062\n",
      "\u001b[32m[1019 22:40:13 @monitor.py:467]\u001b[0m GAN_loss/gen/loss: 0.93059\n",
      "\u001b[32m[1019 22:40:13 @monitor.py:467]\u001b[0m QueueInput/queue_size: 50\n",
      "\u001b[32m[1019 22:40:13 @base.py:275]\u001b[0m Start Epoch 834 ...\n"
     ]
    },
    {
     "name": "stderr",
     "output_type": "stream",
     "text": [
      "100%|###################################################################################|175/175[00:06<00:00,29.00it/s]"
     ]
    },
    {
     "name": "stdout",
     "output_type": "stream",
     "text": [
      "\u001b[32m[1019 22:40:19 @base.py:285]\u001b[0m Epoch 834 (global_step 145950) finished, time:6.04 seconds.\n",
      "\u001b[32m[1019 22:40:19 @saver.py:79]\u001b[0m Model saved to ../output/Chicago/DATGAN_05/model\\model-145950.\n"
     ]
    },
    {
     "name": "stderr",
     "output_type": "stream",
     "text": [
      "\n"
     ]
    },
    {
     "name": "stdout",
     "output_type": "stream",
     "text": [
      "\u001b[32m[1019 22:40:19 @monitor.py:467]\u001b[0m GAN_loss/discrim/accuracy_fake: 0.964\n",
      "\u001b[32m[1019 22:40:19 @monitor.py:467]\u001b[0m GAN_loss/discrim/accuracy_real: 0.052\n",
      "\u001b[32m[1019 22:40:19 @monitor.py:467]\u001b[0m GAN_loss/discrim/loss: 0.65164\n",
      "\u001b[32m[1019 22:40:19 @monitor.py:467]\u001b[0m GAN_loss/gen/final-g-loss: 1.0089\n",
      "\u001b[32m[1019 22:40:19 @monitor.py:467]\u001b[0m GAN_loss/gen/klloss: 0.063036\n",
      "\u001b[32m[1019 22:40:19 @monitor.py:467]\u001b[0m GAN_loss/gen/loss: 0.94583\n",
      "\u001b[32m[1019 22:40:19 @monitor.py:467]\u001b[0m QueueInput/queue_size: 50\n",
      "\u001b[32m[1019 22:40:19 @base.py:275]\u001b[0m Start Epoch 835 ...\n"
     ]
    },
    {
     "name": "stderr",
     "output_type": "stream",
     "text": [
      "100%|###################################################################################|175/175[00:06<00:00,28.97it/s]"
     ]
    },
    {
     "name": "stdout",
     "output_type": "stream",
     "text": [
      "\u001b[32m[1019 22:40:25 @base.py:285]\u001b[0m Epoch 835 (global_step 146125) finished, time:6.04 seconds.\n",
      "\u001b[32m[1019 22:40:26 @saver.py:79]\u001b[0m Model saved to ../output/Chicago/DATGAN_05/model\\model-146125.\n"
     ]
    },
    {
     "name": "stderr",
     "output_type": "stream",
     "text": [
      "\n"
     ]
    },
    {
     "name": "stdout",
     "output_type": "stream",
     "text": [
      "\u001b[32m[1019 22:40:26 @monitor.py:467]\u001b[0m GAN_loss/discrim/accuracy_fake: 0.96\n",
      "\u001b[32m[1019 22:40:26 @monitor.py:467]\u001b[0m GAN_loss/discrim/accuracy_real: 0.07\n",
      "\u001b[32m[1019 22:40:26 @monitor.py:467]\u001b[0m GAN_loss/discrim/loss: 0.64993\n",
      "\u001b[32m[1019 22:40:26 @monitor.py:467]\u001b[0m GAN_loss/gen/final-g-loss: 1.0029\n",
      "\u001b[32m[1019 22:40:26 @monitor.py:467]\u001b[0m GAN_loss/gen/klloss: 0.054281\n",
      "\u001b[32m[1019 22:40:26 @monitor.py:467]\u001b[0m GAN_loss/gen/loss: 0.94859\n",
      "\u001b[32m[1019 22:40:26 @monitor.py:467]\u001b[0m QueueInput/queue_size: 50\n",
      "\u001b[32m[1019 22:40:26 @base.py:275]\u001b[0m Start Epoch 836 ...\n"
     ]
    },
    {
     "name": "stderr",
     "output_type": "stream",
     "text": [
      "100%|###################################################################################|175/175[00:06<00:00,28.54it/s]"
     ]
    },
    {
     "name": "stdout",
     "output_type": "stream",
     "text": [
      "\u001b[32m[1019 22:40:32 @base.py:285]\u001b[0m Epoch 836 (global_step 146300) finished, time:6.13 seconds.\n",
      "\u001b[32m[1019 22:40:32 @saver.py:79]\u001b[0m Model saved to ../output/Chicago/DATGAN_05/model\\model-146300.\n"
     ]
    },
    {
     "name": "stderr",
     "output_type": "stream",
     "text": [
      "\n"
     ]
    },
    {
     "name": "stdout",
     "output_type": "stream",
     "text": [
      "\u001b[32m[1019 22:40:32 @monitor.py:467]\u001b[0m GAN_loss/discrim/accuracy_fake: 0.962\n",
      "\u001b[32m[1019 22:40:32 @monitor.py:467]\u001b[0m GAN_loss/discrim/accuracy_real: 0.06\n",
      "\u001b[32m[1019 22:40:32 @monitor.py:467]\u001b[0m GAN_loss/discrim/loss: 0.65059\n",
      "\u001b[32m[1019 22:40:32 @monitor.py:467]\u001b[0m GAN_loss/gen/final-g-loss: 0.99231\n",
      "\u001b[32m[1019 22:40:32 @monitor.py:467]\u001b[0m GAN_loss/gen/klloss: 0.055077\n",
      "\u001b[32m[1019 22:40:32 @monitor.py:467]\u001b[0m GAN_loss/gen/loss: 0.93723\n",
      "\u001b[32m[1019 22:40:32 @monitor.py:467]\u001b[0m QueueInput/queue_size: 50\n",
      "\u001b[32m[1019 22:40:32 @base.py:275]\u001b[0m Start Epoch 837 ...\n"
     ]
    },
    {
     "name": "stderr",
     "output_type": "stream",
     "text": [
      "100%|###################################################################################|175/175[00:06<00:00,27.19it/s]"
     ]
    },
    {
     "name": "stdout",
     "output_type": "stream",
     "text": [
      "\u001b[32m[1019 22:40:39 @base.py:285]\u001b[0m Epoch 837 (global_step 146475) finished, time:6.44 seconds.\n",
      "\u001b[32m[1019 22:40:39 @saver.py:79]\u001b[0m Model saved to ../output/Chicago/DATGAN_05/model\\model-146475.\n"
     ]
    },
    {
     "name": "stderr",
     "output_type": "stream",
     "text": [
      "\n"
     ]
    },
    {
     "name": "stdout",
     "output_type": "stream",
     "text": [
      "\u001b[32m[1019 22:40:39 @monitor.py:467]\u001b[0m GAN_loss/discrim/accuracy_fake: 0.96\n",
      "\u001b[32m[1019 22:40:39 @monitor.py:467]\u001b[0m GAN_loss/discrim/accuracy_real: 0.074\n",
      "\u001b[32m[1019 22:40:39 @monitor.py:467]\u001b[0m GAN_loss/discrim/loss: 0.64689\n",
      "\u001b[32m[1019 22:40:39 @monitor.py:467]\u001b[0m GAN_loss/gen/final-g-loss: 1.0163\n",
      "\u001b[32m[1019 22:40:39 @monitor.py:467]\u001b[0m GAN_loss/gen/klloss: 0.07378\n",
      "\u001b[32m[1019 22:40:39 @monitor.py:467]\u001b[0m GAN_loss/gen/loss: 0.94254\n",
      "\u001b[32m[1019 22:40:39 @monitor.py:467]\u001b[0m QueueInput/queue_size: 50\n",
      "\u001b[32m[1019 22:40:39 @base.py:275]\u001b[0m Start Epoch 838 ...\n"
     ]
    },
    {
     "name": "stderr",
     "output_type": "stream",
     "text": [
      "100%|###################################################################################|175/175[00:06<00:00,28.68it/s]"
     ]
    },
    {
     "name": "stdout",
     "output_type": "stream",
     "text": [
      "\u001b[32m[1019 22:40:45 @base.py:285]\u001b[0m Epoch 838 (global_step 146650) finished, time:6.1 seconds.\n",
      "\u001b[32m[1019 22:40:45 @saver.py:79]\u001b[0m Model saved to ../output/Chicago/DATGAN_05/model\\model-146650.\n"
     ]
    },
    {
     "name": "stderr",
     "output_type": "stream",
     "text": [
      "\n"
     ]
    },
    {
     "name": "stdout",
     "output_type": "stream",
     "text": [
      "\u001b[32m[1019 22:40:45 @monitor.py:467]\u001b[0m GAN_loss/discrim/accuracy_fake: 0.968\n",
      "\u001b[32m[1019 22:40:45 @monitor.py:467]\u001b[0m GAN_loss/discrim/accuracy_real: 0.054\n",
      "\u001b[32m[1019 22:40:45 @monitor.py:467]\u001b[0m GAN_loss/discrim/loss: 0.64981\n",
      "\u001b[32m[1019 22:40:45 @monitor.py:467]\u001b[0m GAN_loss/gen/final-g-loss: 1.0111\n",
      "\u001b[32m[1019 22:40:45 @monitor.py:467]\u001b[0m GAN_loss/gen/klloss: 0.065506\n",
      "\u001b[32m[1019 22:40:45 @monitor.py:467]\u001b[0m GAN_loss/gen/loss: 0.94558\n",
      "\u001b[32m[1019 22:40:45 @monitor.py:467]\u001b[0m QueueInput/queue_size: 50\n",
      "\u001b[32m[1019 22:40:45 @base.py:275]\u001b[0m Start Epoch 839 ...\n"
     ]
    },
    {
     "name": "stderr",
     "output_type": "stream",
     "text": [
      "100%|###################################################################################|175/175[00:06<00:00,28.06it/s]"
     ]
    },
    {
     "name": "stdout",
     "output_type": "stream",
     "text": [
      "\u001b[32m[1019 22:40:51 @base.py:285]\u001b[0m Epoch 839 (global_step 146825) finished, time:6.24 seconds.\n",
      "\u001b[32m[1019 22:40:51 @saver.py:79]\u001b[0m Model saved to ../output/Chicago/DATGAN_05/model\\model-146825.\n"
     ]
    },
    {
     "name": "stderr",
     "output_type": "stream",
     "text": [
      "\n"
     ]
    },
    {
     "name": "stdout",
     "output_type": "stream",
     "text": [
      "\u001b[32m[1019 22:40:52 @monitor.py:467]\u001b[0m GAN_loss/discrim/accuracy_fake: 0.948\n",
      "\u001b[32m[1019 22:40:52 @monitor.py:467]\u001b[0m GAN_loss/discrim/accuracy_real: 0.06\n",
      "\u001b[32m[1019 22:40:52 @monitor.py:467]\u001b[0m GAN_loss/discrim/loss: 0.65433\n",
      "\u001b[32m[1019 22:40:52 @monitor.py:467]\u001b[0m GAN_loss/gen/final-g-loss: 0.97871\n",
      "\u001b[32m[1019 22:40:52 @monitor.py:467]\u001b[0m GAN_loss/gen/klloss: 0.047105\n",
      "\u001b[32m[1019 22:40:52 @monitor.py:467]\u001b[0m GAN_loss/gen/loss: 0.9316\n",
      "\u001b[32m[1019 22:40:52 @monitor.py:467]\u001b[0m QueueInput/queue_size: 50\n",
      "\u001b[32m[1019 22:40:52 @base.py:275]\u001b[0m Start Epoch 840 ...\n"
     ]
    },
    {
     "name": "stderr",
     "output_type": "stream",
     "text": [
      "100%|###################################################################################|175/175[00:06<00:00,27.42it/s]"
     ]
    },
    {
     "name": "stdout",
     "output_type": "stream",
     "text": [
      "\u001b[32m[1019 22:40:58 @base.py:285]\u001b[0m Epoch 840 (global_step 147000) finished, time:6.38 seconds.\n",
      "\u001b[32m[1019 22:40:58 @saver.py:79]\u001b[0m Model saved to ../output/Chicago/DATGAN_05/model\\model-147000.\n"
     ]
    },
    {
     "name": "stderr",
     "output_type": "stream",
     "text": [
      "\n"
     ]
    },
    {
     "name": "stdout",
     "output_type": "stream",
     "text": [
      "\u001b[32m[1019 22:40:58 @monitor.py:467]\u001b[0m GAN_loss/discrim/accuracy_fake: 0.972\n",
      "\u001b[32m[1019 22:40:58 @monitor.py:467]\u001b[0m GAN_loss/discrim/accuracy_real: 0.076\n",
      "\u001b[32m[1019 22:40:58 @monitor.py:467]\u001b[0m GAN_loss/discrim/loss: 0.64477\n",
      "\u001b[32m[1019 22:40:58 @monitor.py:467]\u001b[0m GAN_loss/gen/final-g-loss: 1.0228\n",
      "\u001b[32m[1019 22:40:58 @monitor.py:467]\u001b[0m GAN_loss/gen/klloss: 0.080057\n",
      "\u001b[32m[1019 22:40:58 @monitor.py:467]\u001b[0m GAN_loss/gen/loss: 0.94273\n",
      "\u001b[32m[1019 22:40:58 @monitor.py:467]\u001b[0m QueueInput/queue_size: 50\n",
      "\u001b[32m[1019 22:40:58 @base.py:275]\u001b[0m Start Epoch 841 ...\n"
     ]
    },
    {
     "name": "stderr",
     "output_type": "stream",
     "text": [
      "100%|###################################################################################|175/175[00:06<00:00,27.53it/s]"
     ]
    },
    {
     "name": "stdout",
     "output_type": "stream",
     "text": [
      "\u001b[32m[1019 22:41:05 @base.py:285]\u001b[0m Epoch 841 (global_step 147175) finished, time:6.36 seconds.\n",
      "\u001b[32m[1019 22:41:05 @saver.py:79]\u001b[0m Model saved to ../output/Chicago/DATGAN_05/model\\model-147175.\n"
     ]
    },
    {
     "name": "stderr",
     "output_type": "stream",
     "text": [
      "\n"
     ]
    },
    {
     "name": "stdout",
     "output_type": "stream",
     "text": [
      "\u001b[32m[1019 22:41:05 @monitor.py:467]\u001b[0m GAN_loss/discrim/accuracy_fake: 0.968\n",
      "\u001b[32m[1019 22:41:05 @monitor.py:467]\u001b[0m GAN_loss/discrim/accuracy_real: 0.058\n",
      "\u001b[32m[1019 22:41:05 @monitor.py:467]\u001b[0m GAN_loss/discrim/loss: 0.64574\n",
      "\u001b[32m[1019 22:41:05 @monitor.py:467]\u001b[0m GAN_loss/gen/final-g-loss: 1.0121\n",
      "\u001b[32m[1019 22:41:05 @monitor.py:467]\u001b[0m GAN_loss/gen/klloss: 0.063564\n",
      "\u001b[32m[1019 22:41:05 @monitor.py:467]\u001b[0m GAN_loss/gen/loss: 0.94849\n",
      "\u001b[32m[1019 22:41:05 @monitor.py:467]\u001b[0m QueueInput/queue_size: 50\n",
      "\u001b[32m[1019 22:41:05 @base.py:275]\u001b[0m Start Epoch 842 ...\n"
     ]
    },
    {
     "name": "stderr",
     "output_type": "stream",
     "text": [
      "100%|###################################################################################|175/175[00:06<00:00,28.13it/s]"
     ]
    },
    {
     "name": "stdout",
     "output_type": "stream",
     "text": [
      "\u001b[32m[1019 22:41:11 @base.py:285]\u001b[0m Epoch 842 (global_step 147350) finished, time:6.22 seconds.\n",
      "\u001b[32m[1019 22:41:11 @saver.py:79]\u001b[0m Model saved to ../output/Chicago/DATGAN_05/model\\model-147350.\n"
     ]
    },
    {
     "name": "stderr",
     "output_type": "stream",
     "text": [
      "\n"
     ]
    },
    {
     "name": "stdout",
     "output_type": "stream",
     "text": [
      "\u001b[32m[1019 22:41:11 @monitor.py:467]\u001b[0m GAN_loss/discrim/accuracy_fake: 0.972\n",
      "\u001b[32m[1019 22:41:11 @monitor.py:467]\u001b[0m GAN_loss/discrim/accuracy_real: 0.062\n",
      "\u001b[32m[1019 22:41:11 @monitor.py:467]\u001b[0m GAN_loss/discrim/loss: 0.65004\n",
      "\u001b[32m[1019 22:41:11 @monitor.py:467]\u001b[0m GAN_loss/gen/final-g-loss: 1.0021\n",
      "\u001b[32m[1019 22:41:11 @monitor.py:467]\u001b[0m GAN_loss/gen/klloss: 0.05345\n",
      "\u001b[32m[1019 22:41:11 @monitor.py:467]\u001b[0m GAN_loss/gen/loss: 0.94861\n",
      "\u001b[32m[1019 22:41:11 @monitor.py:467]\u001b[0m QueueInput/queue_size: 50\n",
      "\u001b[32m[1019 22:41:11 @base.py:275]\u001b[0m Start Epoch 843 ...\n"
     ]
    },
    {
     "name": "stderr",
     "output_type": "stream",
     "text": [
      "100%|###################################################################################|175/175[00:06<00:00,28.91it/s]"
     ]
    },
    {
     "name": "stdout",
     "output_type": "stream",
     "text": [
      "\u001b[32m[1019 22:41:17 @base.py:285]\u001b[0m Epoch 843 (global_step 147525) finished, time:6.05 seconds.\n",
      "\u001b[32m[1019 22:41:17 @saver.py:79]\u001b[0m Model saved to ../output/Chicago/DATGAN_05/model\\model-147525.\n"
     ]
    },
    {
     "name": "stderr",
     "output_type": "stream",
     "text": [
      "\n"
     ]
    },
    {
     "name": "stdout",
     "output_type": "stream",
     "text": [
      "\u001b[32m[1019 22:41:18 @monitor.py:467]\u001b[0m GAN_loss/discrim/accuracy_fake: 0.982\n",
      "\u001b[32m[1019 22:41:18 @monitor.py:467]\u001b[0m GAN_loss/discrim/accuracy_real: 0.054\n",
      "\u001b[32m[1019 22:41:18 @monitor.py:467]\u001b[0m GAN_loss/discrim/loss: 0.64791\n",
      "\u001b[32m[1019 22:41:18 @monitor.py:467]\u001b[0m GAN_loss/gen/final-g-loss: 0.98361\n",
      "\u001b[32m[1019 22:41:18 @monitor.py:467]\u001b[0m GAN_loss/gen/klloss: 0.03783\n",
      "\u001b[32m[1019 22:41:18 @monitor.py:467]\u001b[0m GAN_loss/gen/loss: 0.94578\n",
      "\u001b[32m[1019 22:41:18 @monitor.py:467]\u001b[0m QueueInput/queue_size: 50\n",
      "\u001b[32m[1019 22:41:18 @base.py:275]\u001b[0m Start Epoch 844 ...\n"
     ]
    },
    {
     "name": "stderr",
     "output_type": "stream",
     "text": [
      "100%|###################################################################################|175/175[00:06<00:00,28.40it/s]"
     ]
    },
    {
     "name": "stdout",
     "output_type": "stream",
     "text": [
      "\u001b[32m[1019 22:41:24 @base.py:285]\u001b[0m Epoch 844 (global_step 147700) finished, time:6.16 seconds.\n",
      "\u001b[32m[1019 22:41:24 @saver.py:79]\u001b[0m Model saved to ../output/Chicago/DATGAN_05/model\\model-147700.\n"
     ]
    },
    {
     "name": "stderr",
     "output_type": "stream",
     "text": [
      "\n"
     ]
    },
    {
     "name": "stdout",
     "output_type": "stream",
     "text": [
      "\u001b[32m[1019 22:41:24 @monitor.py:467]\u001b[0m GAN_loss/discrim/accuracy_fake: 0.978\n",
      "\u001b[32m[1019 22:41:24 @monitor.py:467]\u001b[0m GAN_loss/discrim/accuracy_real: 0.048\n",
      "\u001b[32m[1019 22:41:24 @monitor.py:467]\u001b[0m GAN_loss/discrim/loss: 0.64917\n",
      "\u001b[32m[1019 22:41:24 @monitor.py:467]\u001b[0m GAN_loss/gen/final-g-loss: 1.0031\n",
      "\u001b[32m[1019 22:41:24 @monitor.py:467]\u001b[0m GAN_loss/gen/klloss: 0.052161\n",
      "\u001b[32m[1019 22:41:24 @monitor.py:467]\u001b[0m GAN_loss/gen/loss: 0.95097\n",
      "\u001b[32m[1019 22:41:24 @monitor.py:467]\u001b[0m QueueInput/queue_size: 50\n",
      "\u001b[32m[1019 22:41:24 @base.py:275]\u001b[0m Start Epoch 845 ...\n"
     ]
    },
    {
     "name": "stderr",
     "output_type": "stream",
     "text": [
      "100%|###################################################################################|175/175[00:05<00:00,29.27it/s]"
     ]
    },
    {
     "name": "stdout",
     "output_type": "stream",
     "text": [
      "\u001b[32m[1019 22:41:30 @base.py:285]\u001b[0m Epoch 845 (global_step 147875) finished, time:5.98 seconds.\n",
      "\u001b[32m[1019 22:41:30 @saver.py:79]\u001b[0m Model saved to ../output/Chicago/DATGAN_05/model\\model-147875.\n"
     ]
    },
    {
     "name": "stderr",
     "output_type": "stream",
     "text": [
      "\n"
     ]
    },
    {
     "name": "stdout",
     "output_type": "stream",
     "text": [
      "\u001b[32m[1019 22:41:30 @monitor.py:467]\u001b[0m GAN_loss/discrim/accuracy_fake: 0.974\n",
      "\u001b[32m[1019 22:41:30 @monitor.py:467]\u001b[0m GAN_loss/discrim/accuracy_real: 0.06\n",
      "\u001b[32m[1019 22:41:30 @monitor.py:467]\u001b[0m GAN_loss/discrim/loss: 0.64747\n",
      "\u001b[32m[1019 22:41:30 @monitor.py:467]\u001b[0m GAN_loss/gen/final-g-loss: 0.98071\n",
      "\u001b[32m[1019 22:41:30 @monitor.py:467]\u001b[0m GAN_loss/gen/klloss: 0.042041\n",
      "\u001b[32m[1019 22:41:30 @monitor.py:467]\u001b[0m GAN_loss/gen/loss: 0.93867\n",
      "\u001b[32m[1019 22:41:30 @monitor.py:467]\u001b[0m QueueInput/queue_size: 50\n",
      "\u001b[32m[1019 22:41:30 @base.py:275]\u001b[0m Start Epoch 846 ...\n"
     ]
    },
    {
     "name": "stderr",
     "output_type": "stream",
     "text": [
      "100%|###################################################################################|175/175[00:06<00:00,28.84it/s]"
     ]
    },
    {
     "name": "stdout",
     "output_type": "stream",
     "text": [
      "\u001b[32m[1019 22:41:36 @base.py:285]\u001b[0m Epoch 846 (global_step 148050) finished, time:6.07 seconds.\n",
      "\u001b[32m[1019 22:41:36 @saver.py:79]\u001b[0m Model saved to ../output/Chicago/DATGAN_05/model\\model-148050.\n"
     ]
    },
    {
     "name": "stderr",
     "output_type": "stream",
     "text": [
      "\n"
     ]
    },
    {
     "name": "stdout",
     "output_type": "stream",
     "text": [
      "\u001b[32m[1019 22:41:37 @monitor.py:467]\u001b[0m GAN_loss/discrim/accuracy_fake: 0.97\n",
      "\u001b[32m[1019 22:41:37 @monitor.py:467]\u001b[0m GAN_loss/discrim/accuracy_real: 0.048\n",
      "\u001b[32m[1019 22:41:37 @monitor.py:467]\u001b[0m GAN_loss/discrim/loss: 0.64816\n",
      "\u001b[32m[1019 22:41:37 @monitor.py:467]\u001b[0m GAN_loss/gen/final-g-loss: 0.99221\n",
      "\u001b[32m[1019 22:41:37 @monitor.py:467]\u001b[0m GAN_loss/gen/klloss: 0.051758\n",
      "\u001b[32m[1019 22:41:37 @monitor.py:467]\u001b[0m GAN_loss/gen/loss: 0.94045\n",
      "\u001b[32m[1019 22:41:37 @monitor.py:467]\u001b[0m QueueInput/queue_size: 50\n",
      "\u001b[32m[1019 22:41:37 @base.py:275]\u001b[0m Start Epoch 847 ...\n"
     ]
    },
    {
     "name": "stderr",
     "output_type": "stream",
     "text": [
      "100%|###################################################################################|175/175[00:05<00:00,30.16it/s]"
     ]
    },
    {
     "name": "stdout",
     "output_type": "stream",
     "text": [
      "\u001b[32m[1019 22:41:42 @base.py:285]\u001b[0m Epoch 847 (global_step 148225) finished, time:5.8 seconds.\n",
      "\u001b[32m[1019 22:41:42 @saver.py:79]\u001b[0m Model saved to ../output/Chicago/DATGAN_05/model\\model-148225.\n"
     ]
    },
    {
     "name": "stderr",
     "output_type": "stream",
     "text": [
      "\n"
     ]
    },
    {
     "name": "stdout",
     "output_type": "stream",
     "text": [
      "\u001b[32m[1019 22:41:43 @monitor.py:467]\u001b[0m GAN_loss/discrim/accuracy_fake: 0.972\n",
      "\u001b[32m[1019 22:41:43 @monitor.py:467]\u001b[0m GAN_loss/discrim/accuracy_real: 0.046\n",
      "\u001b[32m[1019 22:41:43 @monitor.py:467]\u001b[0m GAN_loss/discrim/loss: 0.65343\n",
      "\u001b[32m[1019 22:41:43 @monitor.py:467]\u001b[0m GAN_loss/gen/final-g-loss: 1.0038\n",
      "\u001b[32m[1019 22:41:43 @monitor.py:467]\u001b[0m GAN_loss/gen/klloss: 0.065681\n",
      "\u001b[32m[1019 22:41:43 @monitor.py:467]\u001b[0m GAN_loss/gen/loss: 0.93815\n",
      "\u001b[32m[1019 22:41:43 @monitor.py:467]\u001b[0m QueueInput/queue_size: 50\n",
      "\u001b[32m[1019 22:41:43 @base.py:275]\u001b[0m Start Epoch 848 ...\n"
     ]
    },
    {
     "name": "stderr",
     "output_type": "stream",
     "text": [
      "100%|###################################################################################|175/175[00:05<00:00,29.91it/s]"
     ]
    },
    {
     "name": "stdout",
     "output_type": "stream",
     "text": [
      "\u001b[32m[1019 22:41:48 @base.py:285]\u001b[0m Epoch 848 (global_step 148400) finished, time:5.85 seconds.\n"
     ]
    },
    {
     "name": "stderr",
     "output_type": "stream",
     "text": [
      "\n"
     ]
    },
    {
     "name": "stdout",
     "output_type": "stream",
     "text": [
      "\u001b[32m[1019 22:41:49 @saver.py:79]\u001b[0m Model saved to ../output/Chicago/DATGAN_05/model\\model-148400.\n",
      "\u001b[32m[1019 22:41:49 @monitor.py:467]\u001b[0m GAN_loss/discrim/accuracy_fake: 0.968\n",
      "\u001b[32m[1019 22:41:49 @monitor.py:467]\u001b[0m GAN_loss/discrim/accuracy_real: 0.044\n",
      "\u001b[32m[1019 22:41:49 @monitor.py:467]\u001b[0m GAN_loss/discrim/loss: 0.6462\n",
      "\u001b[32m[1019 22:41:49 @monitor.py:467]\u001b[0m GAN_loss/gen/final-g-loss: 1.0238\n",
      "\u001b[32m[1019 22:41:49 @monitor.py:467]\u001b[0m GAN_loss/gen/klloss: 0.06934\n",
      "\u001b[32m[1019 22:41:49 @monitor.py:467]\u001b[0m GAN_loss/gen/loss: 0.95444\n",
      "\u001b[32m[1019 22:41:49 @monitor.py:467]\u001b[0m QueueInput/queue_size: 50\n",
      "\u001b[32m[1019 22:41:49 @base.py:275]\u001b[0m Start Epoch 849 ...\n"
     ]
    },
    {
     "name": "stderr",
     "output_type": "stream",
     "text": [
      "100%|###################################################################################|175/175[00:05<00:00,29.90it/s]"
     ]
    },
    {
     "name": "stdout",
     "output_type": "stream",
     "text": [
      "\u001b[32m[1019 22:41:55 @base.py:285]\u001b[0m Epoch 849 (global_step 148575) finished, time:5.85 seconds.\n"
     ]
    },
    {
     "name": "stderr",
     "output_type": "stream",
     "text": [
      "\n"
     ]
    },
    {
     "name": "stdout",
     "output_type": "stream",
     "text": [
      "\u001b[32m[1019 22:41:55 @saver.py:79]\u001b[0m Model saved to ../output/Chicago/DATGAN_05/model\\model-148575.\n",
      "\u001b[32m[1019 22:41:55 @monitor.py:467]\u001b[0m GAN_loss/discrim/accuracy_fake: 0.954\n",
      "\u001b[32m[1019 22:41:55 @monitor.py:467]\u001b[0m GAN_loss/discrim/accuracy_real: 0.056\n",
      "\u001b[32m[1019 22:41:55 @monitor.py:467]\u001b[0m GAN_loss/discrim/loss: 0.6484\n",
      "\u001b[32m[1019 22:41:55 @monitor.py:467]\u001b[0m GAN_loss/gen/final-g-loss: 1.002\n",
      "\u001b[32m[1019 22:41:55 @monitor.py:467]\u001b[0m GAN_loss/gen/klloss: 0.066719\n",
      "\u001b[32m[1019 22:41:55 @monitor.py:467]\u001b[0m GAN_loss/gen/loss: 0.93531\n",
      "\u001b[32m[1019 22:41:55 @monitor.py:467]\u001b[0m QueueInput/queue_size: 50\n",
      "\u001b[32m[1019 22:41:55 @base.py:275]\u001b[0m Start Epoch 850 ...\n"
     ]
    },
    {
     "name": "stderr",
     "output_type": "stream",
     "text": [
      "100%|###################################################################################|175/175[00:05<00:00,30.15it/s]"
     ]
    },
    {
     "name": "stdout",
     "output_type": "stream",
     "text": [
      "\u001b[32m[1019 22:42:01 @base.py:285]\u001b[0m Epoch 850 (global_step 148750) finished, time:5.8 seconds.\n",
      "\u001b[32m[1019 22:42:01 @saver.py:79]\u001b[0m Model saved to ../output/Chicago/DATGAN_05/model\\model-148750.\n"
     ]
    },
    {
     "name": "stderr",
     "output_type": "stream",
     "text": [
      "\n"
     ]
    },
    {
     "name": "stdout",
     "output_type": "stream",
     "text": [
      "\u001b[32m[1019 22:42:01 @monitor.py:467]\u001b[0m GAN_loss/discrim/accuracy_fake: 0.954\n",
      "\u001b[32m[1019 22:42:01 @monitor.py:467]\u001b[0m GAN_loss/discrim/accuracy_real: 0.048\n",
      "\u001b[32m[1019 22:42:01 @monitor.py:467]\u001b[0m GAN_loss/discrim/loss: 0.65168\n",
      "\u001b[32m[1019 22:42:01 @monitor.py:467]\u001b[0m GAN_loss/gen/final-g-loss: 0.98073\n",
      "\u001b[32m[1019 22:42:01 @monitor.py:467]\u001b[0m GAN_loss/gen/klloss: 0.051104\n",
      "\u001b[32m[1019 22:42:01 @monitor.py:467]\u001b[0m GAN_loss/gen/loss: 0.92962\n",
      "\u001b[32m[1019 22:42:01 @monitor.py:467]\u001b[0m QueueInput/queue_size: 50\n",
      "\u001b[32m[1019 22:42:01 @base.py:275]\u001b[0m Start Epoch 851 ...\n"
     ]
    },
    {
     "name": "stderr",
     "output_type": "stream",
     "text": [
      "100%|###################################################################################|175/175[00:05<00:00,30.31it/s]"
     ]
    },
    {
     "name": "stdout",
     "output_type": "stream",
     "text": [
      "\u001b[32m[1019 22:42:07 @base.py:285]\u001b[0m Epoch 851 (global_step 148925) finished, time:5.77 seconds.\n",
      "\u001b[32m[1019 22:42:07 @saver.py:79]\u001b[0m Model saved to ../output/Chicago/DATGAN_05/model\\model-148925.\n"
     ]
    },
    {
     "name": "stderr",
     "output_type": "stream",
     "text": [
      "\n"
     ]
    },
    {
     "name": "stdout",
     "output_type": "stream",
     "text": [
      "\u001b[32m[1019 22:42:07 @monitor.py:467]\u001b[0m GAN_loss/discrim/accuracy_fake: 0.966\n",
      "\u001b[32m[1019 22:42:07 @monitor.py:467]\u001b[0m GAN_loss/discrim/accuracy_real: 0.062\n",
      "\u001b[32m[1019 22:42:07 @monitor.py:467]\u001b[0m GAN_loss/discrim/loss: 0.64764\n",
      "\u001b[32m[1019 22:42:07 @monitor.py:467]\u001b[0m GAN_loss/gen/final-g-loss: 0.9942\n",
      "\u001b[32m[1019 22:42:07 @monitor.py:467]\u001b[0m GAN_loss/gen/klloss: 0.047528\n",
      "\u001b[32m[1019 22:42:07 @monitor.py:467]\u001b[0m GAN_loss/gen/loss: 0.94668\n",
      "\u001b[32m[1019 22:42:07 @monitor.py:467]\u001b[0m QueueInput/queue_size: 50\n",
      "\u001b[32m[1019 22:42:07 @base.py:275]\u001b[0m Start Epoch 852 ...\n"
     ]
    },
    {
     "name": "stderr",
     "output_type": "stream",
     "text": [
      "100%|###################################################################################|175/175[00:05<00:00,30.06it/s]"
     ]
    },
    {
     "name": "stdout",
     "output_type": "stream",
     "text": [
      "\u001b[32m[1019 22:42:13 @base.py:285]\u001b[0m Epoch 852 (global_step 149100) finished, time:5.82 seconds.\n",
      "\u001b[32m[1019 22:42:13 @saver.py:79]\u001b[0m Model saved to ../output/Chicago/DATGAN_05/model\\model-149100.\n"
     ]
    },
    {
     "name": "stderr",
     "output_type": "stream",
     "text": [
      "\n"
     ]
    },
    {
     "name": "stdout",
     "output_type": "stream",
     "text": [
      "\u001b[32m[1019 22:42:13 @monitor.py:467]\u001b[0m GAN_loss/discrim/accuracy_fake: 0.982\n",
      "\u001b[32m[1019 22:42:13 @monitor.py:467]\u001b[0m GAN_loss/discrim/accuracy_real: 0.052\n",
      "\u001b[32m[1019 22:42:13 @monitor.py:467]\u001b[0m GAN_loss/discrim/loss: 0.64503\n",
      "\u001b[32m[1019 22:42:13 @monitor.py:467]\u001b[0m GAN_loss/gen/final-g-loss: 1.0331\n",
      "\u001b[32m[1019 22:42:13 @monitor.py:467]\u001b[0m GAN_loss/gen/klloss: 0.081836\n",
      "\u001b[32m[1019 22:42:13 @monitor.py:467]\u001b[0m GAN_loss/gen/loss: 0.95128\n",
      "\u001b[32m[1019 22:42:13 @monitor.py:467]\u001b[0m QueueInput/queue_size: 50\n",
      "\u001b[32m[1019 22:42:13 @base.py:275]\u001b[0m Start Epoch 853 ...\n"
     ]
    },
    {
     "name": "stderr",
     "output_type": "stream",
     "text": [
      "100%|###################################################################################|175/175[00:05<00:00,30.04it/s]"
     ]
    },
    {
     "name": "stdout",
     "output_type": "stream",
     "text": [
      "\u001b[32m[1019 22:42:19 @base.py:285]\u001b[0m Epoch 853 (global_step 149275) finished, time:5.83 seconds.\n"
     ]
    },
    {
     "name": "stderr",
     "output_type": "stream",
     "text": [
      "\n"
     ]
    },
    {
     "name": "stdout",
     "output_type": "stream",
     "text": [
      "\u001b[32m[1019 22:42:19 @saver.py:79]\u001b[0m Model saved to ../output/Chicago/DATGAN_05/model\\model-149275.\n",
      "\u001b[32m[1019 22:42:19 @monitor.py:467]\u001b[0m GAN_loss/discrim/accuracy_fake: 0.98\n",
      "\u001b[32m[1019 22:42:19 @monitor.py:467]\u001b[0m GAN_loss/discrim/accuracy_real: 0.05\n",
      "\u001b[32m[1019 22:42:19 @monitor.py:467]\u001b[0m GAN_loss/discrim/loss: 0.65039\n",
      "\u001b[32m[1019 22:42:19 @monitor.py:467]\u001b[0m GAN_loss/gen/final-g-loss: 1.009\n",
      "\u001b[32m[1019 22:42:19 @monitor.py:467]\u001b[0m GAN_loss/gen/klloss: 0.061823\n",
      "\u001b[32m[1019 22:42:19 @monitor.py:467]\u001b[0m GAN_loss/gen/loss: 0.9472\n",
      "\u001b[32m[1019 22:42:19 @monitor.py:467]\u001b[0m QueueInput/queue_size: 50\n",
      "\u001b[32m[1019 22:42:19 @base.py:275]\u001b[0m Start Epoch 854 ...\n"
     ]
    },
    {
     "name": "stderr",
     "output_type": "stream",
     "text": [
      "100%|###################################################################################|175/175[00:05<00:00,30.21it/s]"
     ]
    },
    {
     "name": "stdout",
     "output_type": "stream",
     "text": [
      "\u001b[32m[1019 22:42:25 @base.py:285]\u001b[0m Epoch 854 (global_step 149450) finished, time:5.79 seconds.\n",
      "\u001b[32m[1019 22:42:25 @saver.py:79]\u001b[0m Model saved to ../output/Chicago/DATGAN_05/model\\model-149450.\n"
     ]
    },
    {
     "name": "stderr",
     "output_type": "stream",
     "text": [
      "\n"
     ]
    },
    {
     "name": "stdout",
     "output_type": "stream",
     "text": [
      "\u001b[32m[1019 22:42:25 @monitor.py:467]\u001b[0m GAN_loss/discrim/accuracy_fake: 0.964\n",
      "\u001b[32m[1019 22:42:25 @monitor.py:467]\u001b[0m GAN_loss/discrim/accuracy_real: 0.068\n",
      "\u001b[32m[1019 22:42:25 @monitor.py:467]\u001b[0m GAN_loss/discrim/loss: 0.65071\n",
      "\u001b[32m[1019 22:42:25 @monitor.py:467]\u001b[0m GAN_loss/gen/final-g-loss: 1.0199\n",
      "\u001b[32m[1019 22:42:25 @monitor.py:467]\u001b[0m GAN_loss/gen/klloss: 0.077332\n",
      "\u001b[32m[1019 22:42:25 @monitor.py:467]\u001b[0m GAN_loss/gen/loss: 0.94261\n",
      "\u001b[32m[1019 22:42:25 @monitor.py:467]\u001b[0m QueueInput/queue_size: 50\n",
      "\u001b[32m[1019 22:42:25 @base.py:275]\u001b[0m Start Epoch 855 ...\n"
     ]
    },
    {
     "name": "stderr",
     "output_type": "stream",
     "text": [
      "100%|###################################################################################|175/175[00:05<00:00,30.04it/s]"
     ]
    },
    {
     "name": "stdout",
     "output_type": "stream",
     "text": [
      "\u001b[32m[1019 22:42:31 @base.py:285]\u001b[0m Epoch 855 (global_step 149625) finished, time:5.83 seconds.\n",
      "\u001b[32m[1019 22:42:31 @saver.py:79]\u001b[0m Model saved to ../output/Chicago/DATGAN_05/model\\model-149625.\n"
     ]
    },
    {
     "name": "stderr",
     "output_type": "stream",
     "text": [
      "\n"
     ]
    },
    {
     "name": "stdout",
     "output_type": "stream",
     "text": [
      "\u001b[32m[1019 22:42:31 @monitor.py:467]\u001b[0m GAN_loss/discrim/accuracy_fake: 0.968\n",
      "\u001b[32m[1019 22:42:31 @monitor.py:467]\u001b[0m GAN_loss/discrim/accuracy_real: 0.054\n",
      "\u001b[32m[1019 22:42:31 @monitor.py:467]\u001b[0m GAN_loss/discrim/loss: 0.64672\n",
      "\u001b[32m[1019 22:42:31 @monitor.py:467]\u001b[0m GAN_loss/gen/final-g-loss: 0.99441\n",
      "\u001b[32m[1019 22:42:31 @monitor.py:467]\u001b[0m GAN_loss/gen/klloss: 0.048252\n",
      "\u001b[32m[1019 22:42:31 @monitor.py:467]\u001b[0m GAN_loss/gen/loss: 0.94616\n",
      "\u001b[32m[1019 22:42:31 @monitor.py:467]\u001b[0m QueueInput/queue_size: 50\n",
      "\u001b[32m[1019 22:42:31 @base.py:275]\u001b[0m Start Epoch 856 ...\n"
     ]
    },
    {
     "name": "stderr",
     "output_type": "stream",
     "text": [
      "100%|###################################################################################|175/175[00:05<00:00,29.35it/s]"
     ]
    },
    {
     "name": "stdout",
     "output_type": "stream",
     "text": [
      "\u001b[32m[1019 22:42:37 @base.py:285]\u001b[0m Epoch 856 (global_step 149800) finished, time:5.96 seconds.\n",
      "\u001b[32m[1019 22:42:37 @saver.py:79]\u001b[0m Model saved to ../output/Chicago/DATGAN_05/model\\model-149800.\n"
     ]
    },
    {
     "name": "stderr",
     "output_type": "stream",
     "text": [
      "\n"
     ]
    },
    {
     "name": "stdout",
     "output_type": "stream",
     "text": [
      "\u001b[32m[1019 22:42:37 @monitor.py:467]\u001b[0m GAN_loss/discrim/accuracy_fake: 0.972\n",
      "\u001b[32m[1019 22:42:37 @monitor.py:467]\u001b[0m GAN_loss/discrim/accuracy_real: 0.052\n",
      "\u001b[32m[1019 22:42:37 @monitor.py:467]\u001b[0m GAN_loss/discrim/loss: 0.64938\n",
      "\u001b[32m[1019 22:42:37 @monitor.py:467]\u001b[0m GAN_loss/gen/final-g-loss: 1.0025\n",
      "\u001b[32m[1019 22:42:37 @monitor.py:467]\u001b[0m GAN_loss/gen/klloss: 0.058489\n",
      "\u001b[32m[1019 22:42:37 @monitor.py:467]\u001b[0m GAN_loss/gen/loss: 0.94397\n",
      "\u001b[32m[1019 22:42:37 @monitor.py:467]\u001b[0m QueueInput/queue_size: 50\n",
      "\u001b[32m[1019 22:42:37 @base.py:275]\u001b[0m Start Epoch 857 ...\n"
     ]
    },
    {
     "name": "stderr",
     "output_type": "stream",
     "text": [
      "100%|###################################################################################|175/175[00:05<00:00,30.13it/s]"
     ]
    },
    {
     "name": "stdout",
     "output_type": "stream",
     "text": [
      "\u001b[32m[1019 22:42:43 @base.py:285]\u001b[0m Epoch 857 (global_step 149975) finished, time:5.81 seconds.\n",
      "\u001b[32m[1019 22:42:43 @saver.py:79]\u001b[0m Model saved to ../output/Chicago/DATGAN_05/model\\model-149975.\n"
     ]
    },
    {
     "name": "stderr",
     "output_type": "stream",
     "text": [
      "\n"
     ]
    },
    {
     "name": "stdout",
     "output_type": "stream",
     "text": [
      "\u001b[32m[1019 22:42:43 @monitor.py:467]\u001b[0m GAN_loss/discrim/accuracy_fake: 0.962\n",
      "\u001b[32m[1019 22:42:43 @monitor.py:467]\u001b[0m GAN_loss/discrim/accuracy_real: 0.064\n",
      "\u001b[32m[1019 22:42:43 @monitor.py:467]\u001b[0m GAN_loss/discrim/loss: 0.64503\n",
      "\u001b[32m[1019 22:42:43 @monitor.py:467]\u001b[0m GAN_loss/gen/final-g-loss: 0.98814\n",
      "\u001b[32m[1019 22:42:43 @monitor.py:467]\u001b[0m GAN_loss/gen/klloss: 0.054999\n",
      "\u001b[32m[1019 22:42:43 @monitor.py:467]\u001b[0m GAN_loss/gen/loss: 0.93315\n",
      "\u001b[32m[1019 22:42:43 @monitor.py:467]\u001b[0m QueueInput/queue_size: 50\n",
      "\u001b[32m[1019 22:42:43 @base.py:275]\u001b[0m Start Epoch 858 ...\n"
     ]
    },
    {
     "name": "stderr",
     "output_type": "stream",
     "text": [
      "100%|###################################################################################|175/175[00:05<00:00,29.99it/s]"
     ]
    },
    {
     "name": "stdout",
     "output_type": "stream",
     "text": [
      "\u001b[32m[1019 22:42:49 @base.py:285]\u001b[0m Epoch 858 (global_step 150150) finished, time:5.84 seconds.\n"
     ]
    },
    {
     "name": "stderr",
     "output_type": "stream",
     "text": [
      "\n"
     ]
    },
    {
     "name": "stdout",
     "output_type": "stream",
     "text": [
      "\u001b[32m[1019 22:42:49 @saver.py:79]\u001b[0m Model saved to ../output/Chicago/DATGAN_05/model\\model-150150.\n",
      "\u001b[32m[1019 22:42:49 @monitor.py:467]\u001b[0m GAN_loss/discrim/accuracy_fake: 0.982\n",
      "\u001b[32m[1019 22:42:49 @monitor.py:467]\u001b[0m GAN_loss/discrim/accuracy_real: 0.064\n",
      "\u001b[32m[1019 22:42:49 @monitor.py:467]\u001b[0m GAN_loss/discrim/loss: 0.64371\n",
      "\u001b[32m[1019 22:42:49 @monitor.py:467]\u001b[0m GAN_loss/gen/final-g-loss: 0.98728\n",
      "\u001b[32m[1019 22:42:49 @monitor.py:467]\u001b[0m GAN_loss/gen/klloss: 0.041089\n",
      "\u001b[32m[1019 22:42:49 @monitor.py:467]\u001b[0m GAN_loss/gen/loss: 0.94619\n",
      "\u001b[32m[1019 22:42:49 @monitor.py:467]\u001b[0m QueueInput/queue_size: 50\n",
      "\u001b[32m[1019 22:42:49 @base.py:275]\u001b[0m Start Epoch 859 ...\n"
     ]
    },
    {
     "name": "stderr",
     "output_type": "stream",
     "text": [
      "100%|###################################################################################|175/175[00:05<00:00,30.42it/s]"
     ]
    },
    {
     "name": "stdout",
     "output_type": "stream",
     "text": [
      "\u001b[32m[1019 22:42:55 @base.py:285]\u001b[0m Epoch 859 (global_step 150325) finished, time:5.75 seconds.\n",
      "\u001b[32m[1019 22:42:55 @saver.py:79]\u001b[0m Model saved to ../output/Chicago/DATGAN_05/model\\model-150325.\n"
     ]
    },
    {
     "name": "stderr",
     "output_type": "stream",
     "text": [
      "\n"
     ]
    },
    {
     "name": "stdout",
     "output_type": "stream",
     "text": [
      "\u001b[32m[1019 22:42:55 @monitor.py:467]\u001b[0m GAN_loss/discrim/accuracy_fake: 0.972\n",
      "\u001b[32m[1019 22:42:55 @monitor.py:467]\u001b[0m GAN_loss/discrim/accuracy_real: 0.044\n",
      "\u001b[32m[1019 22:42:55 @monitor.py:467]\u001b[0m GAN_loss/discrim/loss: 0.6454\n",
      "\u001b[32m[1019 22:42:55 @monitor.py:467]\u001b[0m GAN_loss/gen/final-g-loss: 0.9928\n",
      "\u001b[32m[1019 22:42:55 @monitor.py:467]\u001b[0m GAN_loss/gen/klloss: 0.049961\n",
      "\u001b[32m[1019 22:42:55 @monitor.py:467]\u001b[0m GAN_loss/gen/loss: 0.94284\n",
      "\u001b[32m[1019 22:42:55 @monitor.py:467]\u001b[0m QueueInput/queue_size: 50\n",
      "\u001b[32m[1019 22:42:55 @base.py:275]\u001b[0m Start Epoch 860 ...\n"
     ]
    },
    {
     "name": "stderr",
     "output_type": "stream",
     "text": [
      "100%|###################################################################################|175/175[00:05<00:00,30.06it/s]"
     ]
    },
    {
     "name": "stdout",
     "output_type": "stream",
     "text": [
      "\u001b[32m[1019 22:43:01 @base.py:285]\u001b[0m Epoch 860 (global_step 150500) finished, time:5.82 seconds.\n",
      "\u001b[32m[1019 22:43:01 @saver.py:79]\u001b[0m Model saved to ../output/Chicago/DATGAN_05/model\\model-150500.\n"
     ]
    },
    {
     "name": "stderr",
     "output_type": "stream",
     "text": [
      "\n"
     ]
    },
    {
     "name": "stdout",
     "output_type": "stream",
     "text": [
      "\u001b[32m[1019 22:43:02 @monitor.py:467]\u001b[0m GAN_loss/discrim/accuracy_fake: 0.962\n",
      "\u001b[32m[1019 22:43:02 @monitor.py:467]\u001b[0m GAN_loss/discrim/accuracy_real: 0.066\n",
      "\u001b[32m[1019 22:43:02 @monitor.py:467]\u001b[0m GAN_loss/discrim/loss: 0.64849\n",
      "\u001b[32m[1019 22:43:02 @monitor.py:467]\u001b[0m GAN_loss/gen/final-g-loss: 0.98847\n",
      "\u001b[32m[1019 22:43:02 @monitor.py:467]\u001b[0m GAN_loss/gen/klloss: 0.053102\n",
      "\u001b[32m[1019 22:43:02 @monitor.py:467]\u001b[0m GAN_loss/gen/loss: 0.93537\n",
      "\u001b[32m[1019 22:43:02 @monitor.py:467]\u001b[0m QueueInput/queue_size: 50\n",
      "\u001b[32m[1019 22:43:02 @base.py:275]\u001b[0m Start Epoch 861 ...\n"
     ]
    },
    {
     "name": "stderr",
     "output_type": "stream",
     "text": [
      "100%|###################################################################################|175/175[00:05<00:00,29.66it/s]"
     ]
    },
    {
     "name": "stdout",
     "output_type": "stream",
     "text": [
      "\u001b[32m[1019 22:43:07 @base.py:285]\u001b[0m Epoch 861 (global_step 150675) finished, time:5.9 seconds.\n"
     ]
    },
    {
     "name": "stderr",
     "output_type": "stream",
     "text": [
      "\n"
     ]
    },
    {
     "name": "stdout",
     "output_type": "stream",
     "text": [
      "\u001b[32m[1019 22:43:07 @saver.py:79]\u001b[0m Model saved to ../output/Chicago/DATGAN_05/model\\model-150675.\n",
      "\u001b[32m[1019 22:43:08 @monitor.py:467]\u001b[0m GAN_loss/discrim/accuracy_fake: 0.96\n",
      "\u001b[32m[1019 22:43:08 @monitor.py:467]\u001b[0m GAN_loss/discrim/accuracy_real: 0.044\n",
      "\u001b[32m[1019 22:43:08 @monitor.py:467]\u001b[0m GAN_loss/discrim/loss: 0.6507\n",
      "\u001b[32m[1019 22:43:08 @monitor.py:467]\u001b[0m GAN_loss/gen/final-g-loss: 0.9976\n",
      "\u001b[32m[1019 22:43:08 @monitor.py:467]\u001b[0m GAN_loss/gen/klloss: 0.066606\n",
      "\u001b[32m[1019 22:43:08 @monitor.py:467]\u001b[0m GAN_loss/gen/loss: 0.931\n",
      "\u001b[32m[1019 22:43:08 @monitor.py:467]\u001b[0m QueueInput/queue_size: 50\n",
      "\u001b[32m[1019 22:43:08 @base.py:275]\u001b[0m Start Epoch 862 ...\n"
     ]
    },
    {
     "name": "stderr",
     "output_type": "stream",
     "text": [
      "100%|###################################################################################|175/175[00:05<00:00,30.35it/s]"
     ]
    },
    {
     "name": "stdout",
     "output_type": "stream",
     "text": [
      "\u001b[32m[1019 22:43:13 @base.py:285]\u001b[0m Epoch 862 (global_step 150850) finished, time:5.77 seconds.\n",
      "\u001b[32m[1019 22:43:13 @saver.py:79]\u001b[0m Model saved to ../output/Chicago/DATGAN_05/model\\model-150850.\n"
     ]
    },
    {
     "name": "stderr",
     "output_type": "stream",
     "text": [
      "\n"
     ]
    },
    {
     "name": "stdout",
     "output_type": "stream",
     "text": [
      "\u001b[32m[1019 22:43:14 @monitor.py:467]\u001b[0m GAN_loss/discrim/accuracy_fake: 0.956\n",
      "\u001b[32m[1019 22:43:14 @monitor.py:467]\u001b[0m GAN_loss/discrim/accuracy_real: 0.054\n",
      "\u001b[32m[1019 22:43:14 @monitor.py:467]\u001b[0m GAN_loss/discrim/loss: 0.65038\n",
      "\u001b[32m[1019 22:43:14 @monitor.py:467]\u001b[0m GAN_loss/gen/final-g-loss: 1.0024\n",
      "\u001b[32m[1019 22:43:14 @monitor.py:467]\u001b[0m GAN_loss/gen/klloss: 0.058384\n",
      "\u001b[32m[1019 22:43:14 @monitor.py:467]\u001b[0m GAN_loss/gen/loss: 0.94399\n",
      "\u001b[32m[1019 22:43:14 @monitor.py:467]\u001b[0m QueueInput/queue_size: 50\n",
      "\u001b[32m[1019 22:43:14 @base.py:275]\u001b[0m Start Epoch 863 ...\n"
     ]
    },
    {
     "name": "stderr",
     "output_type": "stream",
     "text": [
      "100%|###################################################################################|175/175[00:05<00:00,30.38it/s]"
     ]
    },
    {
     "name": "stdout",
     "output_type": "stream",
     "text": [
      "\u001b[32m[1019 22:43:19 @base.py:285]\u001b[0m Epoch 863 (global_step 151025) finished, time:5.76 seconds.\n",
      "\u001b[32m[1019 22:43:20 @saver.py:79]\u001b[0m Model saved to ../output/Chicago/DATGAN_05/model\\model-151025.\n"
     ]
    },
    {
     "name": "stderr",
     "output_type": "stream",
     "text": [
      "\n"
     ]
    },
    {
     "name": "stdout",
     "output_type": "stream",
     "text": [
      "\u001b[32m[1019 22:43:20 @monitor.py:467]\u001b[0m GAN_loss/discrim/accuracy_fake: 0.96\n",
      "\u001b[32m[1019 22:43:20 @monitor.py:467]\u001b[0m GAN_loss/discrim/accuracy_real: 0.064\n",
      "\u001b[32m[1019 22:43:20 @monitor.py:467]\u001b[0m GAN_loss/discrim/loss: 0.65318\n",
      "\u001b[32m[1019 22:43:20 @monitor.py:467]\u001b[0m GAN_loss/gen/final-g-loss: 0.98127\n",
      "\u001b[32m[1019 22:43:20 @monitor.py:467]\u001b[0m GAN_loss/gen/klloss: 0.048821\n",
      "\u001b[32m[1019 22:43:20 @monitor.py:467]\u001b[0m GAN_loss/gen/loss: 0.93245\n",
      "\u001b[32m[1019 22:43:20 @monitor.py:467]\u001b[0m QueueInput/queue_size: 50\n",
      "\u001b[32m[1019 22:43:20 @base.py:275]\u001b[0m Start Epoch 864 ...\n"
     ]
    },
    {
     "name": "stderr",
     "output_type": "stream",
     "text": [
      "100%|###################################################################################|175/175[00:05<00:00,30.37it/s]"
     ]
    },
    {
     "name": "stdout",
     "output_type": "stream",
     "text": [
      "\u001b[32m[1019 22:43:25 @base.py:285]\u001b[0m Epoch 864 (global_step 151200) finished, time:5.76 seconds.\n",
      "\u001b[32m[1019 22:43:26 @saver.py:79]\u001b[0m Model saved to ../output/Chicago/DATGAN_05/model\\model-151200.\n"
     ]
    },
    {
     "name": "stderr",
     "output_type": "stream",
     "text": [
      "\n"
     ]
    },
    {
     "name": "stdout",
     "output_type": "stream",
     "text": [
      "\u001b[32m[1019 22:43:26 @monitor.py:467]\u001b[0m GAN_loss/discrim/accuracy_fake: 0.972\n",
      "\u001b[32m[1019 22:43:26 @monitor.py:467]\u001b[0m GAN_loss/discrim/accuracy_real: 0.054\n",
      "\u001b[32m[1019 22:43:26 @monitor.py:467]\u001b[0m GAN_loss/discrim/loss: 0.64736\n",
      "\u001b[32m[1019 22:43:26 @monitor.py:467]\u001b[0m GAN_loss/gen/final-g-loss: 1.0176\n",
      "\u001b[32m[1019 22:43:26 @monitor.py:467]\u001b[0m GAN_loss/gen/klloss: 0.072031\n",
      "\u001b[32m[1019 22:43:26 @monitor.py:467]\u001b[0m GAN_loss/gen/loss: 0.94559\n",
      "\u001b[32m[1019 22:43:26 @monitor.py:467]\u001b[0m QueueInput/queue_size: 50\n",
      "\u001b[32m[1019 22:43:26 @base.py:275]\u001b[0m Start Epoch 865 ...\n"
     ]
    },
    {
     "name": "stderr",
     "output_type": "stream",
     "text": [
      "100%|###################################################################################|175/175[00:05<00:00,29.99it/s]"
     ]
    },
    {
     "name": "stdout",
     "output_type": "stream",
     "text": [
      "\u001b[32m[1019 22:43:31 @base.py:285]\u001b[0m Epoch 865 (global_step 151375) finished, time:5.84 seconds.\n",
      "\u001b[32m[1019 22:43:32 @saver.py:79]\u001b[0m Model saved to ../output/Chicago/DATGAN_05/model\\model-151375.\n"
     ]
    },
    {
     "name": "stderr",
     "output_type": "stream",
     "text": [
      "\n"
     ]
    },
    {
     "name": "stdout",
     "output_type": "stream",
     "text": [
      "\u001b[32m[1019 22:43:32 @monitor.py:467]\u001b[0m GAN_loss/discrim/accuracy_fake: 0.97\n",
      "\u001b[32m[1019 22:43:32 @monitor.py:467]\u001b[0m GAN_loss/discrim/accuracy_real: 0.06\n",
      "\u001b[32m[1019 22:43:32 @monitor.py:467]\u001b[0m GAN_loss/discrim/loss: 0.64902\n",
      "\u001b[32m[1019 22:43:32 @monitor.py:467]\u001b[0m GAN_loss/gen/final-g-loss: 0.99271\n",
      "\u001b[32m[1019 22:43:32 @monitor.py:467]\u001b[0m GAN_loss/gen/klloss: 0.049378\n",
      "\u001b[32m[1019 22:43:32 @monitor.py:467]\u001b[0m GAN_loss/gen/loss: 0.94334\n",
      "\u001b[32m[1019 22:43:32 @monitor.py:467]\u001b[0m QueueInput/queue_size: 50\n",
      "\u001b[32m[1019 22:43:32 @base.py:275]\u001b[0m Start Epoch 866 ...\n"
     ]
    },
    {
     "name": "stderr",
     "output_type": "stream",
     "text": [
      "100%|###################################################################################|175/175[00:05<00:00,29.74it/s]"
     ]
    },
    {
     "name": "stdout",
     "output_type": "stream",
     "text": [
      "\u001b[32m[1019 22:43:38 @base.py:285]\u001b[0m Epoch 866 (global_step 151550) finished, time:5.89 seconds.\n"
     ]
    },
    {
     "name": "stderr",
     "output_type": "stream",
     "text": [
      "\n"
     ]
    },
    {
     "name": "stdout",
     "output_type": "stream",
     "text": [
      "\u001b[32m[1019 22:43:38 @saver.py:79]\u001b[0m Model saved to ../output/Chicago/DATGAN_05/model\\model-151550.\n",
      "\u001b[32m[1019 22:43:38 @monitor.py:467]\u001b[0m GAN_loss/discrim/accuracy_fake: 0.982\n",
      "\u001b[32m[1019 22:43:38 @monitor.py:467]\u001b[0m GAN_loss/discrim/accuracy_real: 0.068\n",
      "\u001b[32m[1019 22:43:38 @monitor.py:467]\u001b[0m GAN_loss/discrim/loss: 0.6501\n",
      "\u001b[32m[1019 22:43:38 @monitor.py:467]\u001b[0m GAN_loss/gen/final-g-loss: 0.98627\n",
      "\u001b[32m[1019 22:43:38 @monitor.py:467]\u001b[0m GAN_loss/gen/klloss: 0.047107\n",
      "\u001b[32m[1019 22:43:38 @monitor.py:467]\u001b[0m GAN_loss/gen/loss: 0.93916\n",
      "\u001b[32m[1019 22:43:38 @monitor.py:467]\u001b[0m QueueInput/queue_size: 50\n",
      "\u001b[32m[1019 22:43:38 @base.py:275]\u001b[0m Start Epoch 867 ...\n"
     ]
    },
    {
     "name": "stderr",
     "output_type": "stream",
     "text": [
      "100%|###################################################################################|175/175[00:05<00:00,30.29it/s]"
     ]
    },
    {
     "name": "stdout",
     "output_type": "stream",
     "text": [
      "\u001b[32m[1019 22:43:44 @base.py:285]\u001b[0m Epoch 867 (global_step 151725) finished, time:5.78 seconds.\n",
      "\u001b[32m[1019 22:43:44 @saver.py:79]\u001b[0m Model saved to ../output/Chicago/DATGAN_05/model\\model-151725.\n"
     ]
    },
    {
     "name": "stderr",
     "output_type": "stream",
     "text": [
      "\n"
     ]
    },
    {
     "name": "stdout",
     "output_type": "stream",
     "text": [
      "\u001b[32m[1019 22:43:44 @monitor.py:467]\u001b[0m GAN_loss/discrim/accuracy_fake: 0.976\n",
      "\u001b[32m[1019 22:43:44 @monitor.py:467]\u001b[0m GAN_loss/discrim/accuracy_real: 0.038\n",
      "\u001b[32m[1019 22:43:44 @monitor.py:467]\u001b[0m GAN_loss/discrim/loss: 0.64895\n",
      "\u001b[32m[1019 22:43:44 @monitor.py:467]\u001b[0m GAN_loss/gen/final-g-loss: 1.0056\n",
      "\u001b[32m[1019 22:43:44 @monitor.py:467]\u001b[0m GAN_loss/gen/klloss: 0.054902\n",
      "\u001b[32m[1019 22:43:44 @monitor.py:467]\u001b[0m GAN_loss/gen/loss: 0.95067\n",
      "\u001b[32m[1019 22:43:44 @monitor.py:467]\u001b[0m QueueInput/queue_size: 50\n",
      "\u001b[32m[1019 22:43:44 @base.py:275]\u001b[0m Start Epoch 868 ...\n"
     ]
    },
    {
     "name": "stderr",
     "output_type": "stream",
     "text": [
      "100%|###################################################################################|175/175[00:05<00:00,29.74it/s]"
     ]
    },
    {
     "name": "stdout",
     "output_type": "stream",
     "text": [
      "\u001b[32m[1019 22:43:50 @base.py:285]\u001b[0m Epoch 868 (global_step 151900) finished, time:5.88 seconds.\n"
     ]
    },
    {
     "name": "stderr",
     "output_type": "stream",
     "text": [
      "\n"
     ]
    },
    {
     "name": "stdout",
     "output_type": "stream",
     "text": [
      "\u001b[32m[1019 22:43:50 @saver.py:79]\u001b[0m Model saved to ../output/Chicago/DATGAN_05/model\\model-151900.\n",
      "\u001b[32m[1019 22:43:50 @monitor.py:467]\u001b[0m GAN_loss/discrim/accuracy_fake: 0.98\n",
      "\u001b[32m[1019 22:43:50 @monitor.py:467]\u001b[0m GAN_loss/discrim/accuracy_real: 0.03\n",
      "\u001b[32m[1019 22:43:50 @monitor.py:467]\u001b[0m GAN_loss/discrim/loss: 0.64606\n",
      "\u001b[32m[1019 22:43:50 @monitor.py:467]\u001b[0m GAN_loss/gen/final-g-loss: 0.98828\n",
      "\u001b[32m[1019 22:43:50 @monitor.py:467]\u001b[0m GAN_loss/gen/klloss: 0.041418\n",
      "\u001b[32m[1019 22:43:50 @monitor.py:467]\u001b[0m GAN_loss/gen/loss: 0.94686\n",
      "\u001b[32m[1019 22:43:50 @monitor.py:467]\u001b[0m QueueInput/queue_size: 50\n",
      "\u001b[32m[1019 22:43:50 @base.py:275]\u001b[0m Start Epoch 869 ...\n"
     ]
    },
    {
     "name": "stderr",
     "output_type": "stream",
     "text": [
      "100%|###################################################################################|175/175[00:05<00:00,30.43it/s]"
     ]
    },
    {
     "name": "stdout",
     "output_type": "stream",
     "text": [
      "\u001b[32m[1019 22:43:56 @base.py:285]\u001b[0m Epoch 869 (global_step 152075) finished, time:5.75 seconds.\n",
      "\u001b[32m[1019 22:43:56 @saver.py:79]\u001b[0m Model saved to ../output/Chicago/DATGAN_05/model\\model-152075.\n"
     ]
    },
    {
     "name": "stderr",
     "output_type": "stream",
     "text": [
      "\n"
     ]
    },
    {
     "name": "stdout",
     "output_type": "stream",
     "text": [
      "\u001b[32m[1019 22:43:56 @monitor.py:467]\u001b[0m GAN_loss/discrim/accuracy_fake: 0.956\n",
      "\u001b[32m[1019 22:43:56 @monitor.py:467]\u001b[0m GAN_loss/discrim/accuracy_real: 0.056\n",
      "\u001b[32m[1019 22:43:56 @monitor.py:467]\u001b[0m GAN_loss/discrim/loss: 0.6538\n",
      "\u001b[32m[1019 22:43:56 @monitor.py:467]\u001b[0m GAN_loss/gen/final-g-loss: 1.0545\n",
      "\u001b[32m[1019 22:43:56 @monitor.py:467]\u001b[0m GAN_loss/gen/klloss: 0.12203\n",
      "\u001b[32m[1019 22:43:56 @monitor.py:467]\u001b[0m GAN_loss/gen/loss: 0.93249\n",
      "\u001b[32m[1019 22:43:56 @monitor.py:467]\u001b[0m QueueInput/queue_size: 50\n",
      "\u001b[32m[1019 22:43:56 @base.py:275]\u001b[0m Start Epoch 870 ...\n"
     ]
    },
    {
     "name": "stderr",
     "output_type": "stream",
     "text": [
      "100%|###################################################################################|175/175[00:05<00:00,29.98it/s]"
     ]
    },
    {
     "name": "stdout",
     "output_type": "stream",
     "text": [
      "\u001b[32m[1019 22:44:02 @base.py:285]\u001b[0m Epoch 870 (global_step 152250) finished, time:5.84 seconds.\n",
      "\u001b[32m[1019 22:44:02 @saver.py:79]\u001b[0m Model saved to ../output/Chicago/DATGAN_05/model\\model-152250.\n"
     ]
    },
    {
     "name": "stderr",
     "output_type": "stream",
     "text": [
      "\n"
     ]
    },
    {
     "name": "stdout",
     "output_type": "stream",
     "text": [
      "\u001b[32m[1019 22:44:02 @monitor.py:467]\u001b[0m GAN_loss/discrim/accuracy_fake: 0.978\n",
      "\u001b[32m[1019 22:44:02 @monitor.py:467]\u001b[0m GAN_loss/discrim/accuracy_real: 0.05\n",
      "\u001b[32m[1019 22:44:02 @monitor.py:467]\u001b[0m GAN_loss/discrim/loss: 0.64599\n",
      "\u001b[32m[1019 22:44:02 @monitor.py:467]\u001b[0m GAN_loss/gen/final-g-loss: 0.99292\n",
      "\u001b[32m[1019 22:44:02 @monitor.py:467]\u001b[0m GAN_loss/gen/klloss: 0.045891\n",
      "\u001b[32m[1019 22:44:02 @monitor.py:467]\u001b[0m GAN_loss/gen/loss: 0.94703\n",
      "\u001b[32m[1019 22:44:02 @monitor.py:467]\u001b[0m QueueInput/queue_size: 50\n",
      "\u001b[32m[1019 22:44:02 @base.py:275]\u001b[0m Start Epoch 871 ...\n"
     ]
    },
    {
     "name": "stderr",
     "output_type": "stream",
     "text": [
      "100%|###################################################################################|175/175[00:05<00:00,29.70it/s]"
     ]
    },
    {
     "name": "stdout",
     "output_type": "stream",
     "text": [
      "\u001b[32m[1019 22:44:08 @base.py:285]\u001b[0m Epoch 871 (global_step 152425) finished, time:5.89 seconds.\n"
     ]
    },
    {
     "name": "stderr",
     "output_type": "stream",
     "text": [
      "\n"
     ]
    },
    {
     "name": "stdout",
     "output_type": "stream",
     "text": [
      "\u001b[32m[1019 22:44:08 @saver.py:79]\u001b[0m Model saved to ../output/Chicago/DATGAN_05/model\\model-152425.\n",
      "\u001b[32m[1019 22:44:08 @monitor.py:467]\u001b[0m GAN_loss/discrim/accuracy_fake: 0.984\n",
      "\u001b[32m[1019 22:44:08 @monitor.py:467]\u001b[0m GAN_loss/discrim/accuracy_real: 0.05\n",
      "\u001b[32m[1019 22:44:08 @monitor.py:467]\u001b[0m GAN_loss/discrim/loss: 0.65437\n",
      "\u001b[32m[1019 22:44:08 @monitor.py:467]\u001b[0m GAN_loss/gen/final-g-loss: 1.0186\n",
      "\u001b[32m[1019 22:44:08 @monitor.py:467]\u001b[0m GAN_loss/gen/klloss: 0.074881\n",
      "\u001b[32m[1019 22:44:08 @monitor.py:467]\u001b[0m GAN_loss/gen/loss: 0.94372\n",
      "\u001b[32m[1019 22:44:08 @monitor.py:467]\u001b[0m QueueInput/queue_size: 50\n",
      "\u001b[32m[1019 22:44:08 @base.py:275]\u001b[0m Start Epoch 872 ...\n"
     ]
    },
    {
     "name": "stderr",
     "output_type": "stream",
     "text": [
      "100%|###################################################################################|175/175[00:05<00:00,29.77it/s]"
     ]
    },
    {
     "name": "stdout",
     "output_type": "stream",
     "text": [
      "\u001b[32m[1019 22:44:14 @base.py:285]\u001b[0m Epoch 872 (global_step 152600) finished, time:5.88 seconds.\n"
     ]
    },
    {
     "name": "stderr",
     "output_type": "stream",
     "text": [
      "\n"
     ]
    },
    {
     "name": "stdout",
     "output_type": "stream",
     "text": [
      "\u001b[32m[1019 22:44:14 @saver.py:79]\u001b[0m Model saved to ../output/Chicago/DATGAN_05/model\\model-152600.\n",
      "\u001b[32m[1019 22:44:14 @monitor.py:467]\u001b[0m GAN_loss/discrim/accuracy_fake: 0.97\n",
      "\u001b[32m[1019 22:44:14 @monitor.py:467]\u001b[0m GAN_loss/discrim/accuracy_real: 0.054\n",
      "\u001b[32m[1019 22:44:14 @monitor.py:467]\u001b[0m GAN_loss/discrim/loss: 0.65157\n",
      "\u001b[32m[1019 22:44:14 @monitor.py:467]\u001b[0m GAN_loss/gen/final-g-loss: 1.003\n",
      "\u001b[32m[1019 22:44:14 @monitor.py:467]\u001b[0m GAN_loss/gen/klloss: 0.058116\n",
      "\u001b[32m[1019 22:44:14 @monitor.py:467]\u001b[0m GAN_loss/gen/loss: 0.94488\n",
      "\u001b[32m[1019 22:44:14 @monitor.py:467]\u001b[0m QueueInput/queue_size: 50\n",
      "\u001b[32m[1019 22:44:14 @base.py:275]\u001b[0m Start Epoch 873 ...\n"
     ]
    },
    {
     "name": "stderr",
     "output_type": "stream",
     "text": [
      "100%|###################################################################################|175/175[00:05<00:00,29.37it/s]"
     ]
    },
    {
     "name": "stdout",
     "output_type": "stream",
     "text": [
      "\u001b[32m[1019 22:44:20 @base.py:285]\u001b[0m Epoch 873 (global_step 152775) finished, time:5.96 seconds.\n",
      "\u001b[32m[1019 22:44:20 @saver.py:79]\u001b[0m Model saved to ../output/Chicago/DATGAN_05/model\\model-152775.\n"
     ]
    },
    {
     "name": "stderr",
     "output_type": "stream",
     "text": [
      "\n"
     ]
    },
    {
     "name": "stdout",
     "output_type": "stream",
     "text": [
      "\u001b[32m[1019 22:44:21 @monitor.py:467]\u001b[0m GAN_loss/discrim/accuracy_fake: 0.96\n",
      "\u001b[32m[1019 22:44:21 @monitor.py:467]\u001b[0m GAN_loss/discrim/accuracy_real: 0.046\n",
      "\u001b[32m[1019 22:44:21 @monitor.py:467]\u001b[0m GAN_loss/discrim/loss: 0.64843\n",
      "\u001b[32m[1019 22:44:21 @monitor.py:467]\u001b[0m GAN_loss/gen/final-g-loss: 0.98015\n",
      "\u001b[32m[1019 22:44:21 @monitor.py:467]\u001b[0m GAN_loss/gen/klloss: 0.045694\n",
      "\u001b[32m[1019 22:44:21 @monitor.py:467]\u001b[0m GAN_loss/gen/loss: 0.93446\n",
      "\u001b[32m[1019 22:44:21 @monitor.py:467]\u001b[0m QueueInput/queue_size: 50\n",
      "\u001b[32m[1019 22:44:21 @base.py:275]\u001b[0m Start Epoch 874 ...\n"
     ]
    },
    {
     "name": "stderr",
     "output_type": "stream",
     "text": [
      "100%|###################################################################################|175/175[00:06<00:00,29.13it/s]"
     ]
    },
    {
     "name": "stdout",
     "output_type": "stream",
     "text": [
      "\u001b[32m[1019 22:44:27 @base.py:285]\u001b[0m Epoch 874 (global_step 152950) finished, time:6.01 seconds.\n",
      "\u001b[32m[1019 22:44:27 @saver.py:79]\u001b[0m Model saved to ../output/Chicago/DATGAN_05/model\\model-152950.\n"
     ]
    },
    {
     "name": "stderr",
     "output_type": "stream",
     "text": [
      "\n"
     ]
    },
    {
     "name": "stdout",
     "output_type": "stream",
     "text": [
      "\u001b[32m[1019 22:44:27 @monitor.py:467]\u001b[0m GAN_loss/discrim/accuracy_fake: 0.962\n",
      "\u001b[32m[1019 22:44:27 @monitor.py:467]\u001b[0m GAN_loss/discrim/accuracy_real: 0.054\n",
      "\u001b[32m[1019 22:44:27 @monitor.py:467]\u001b[0m GAN_loss/discrim/loss: 0.6455\n",
      "\u001b[32m[1019 22:44:27 @monitor.py:467]\u001b[0m GAN_loss/gen/final-g-loss: 0.98863\n",
      "\u001b[32m[1019 22:44:27 @monitor.py:467]\u001b[0m GAN_loss/gen/klloss: 0.040915\n",
      "\u001b[32m[1019 22:44:27 @monitor.py:467]\u001b[0m GAN_loss/gen/loss: 0.94771\n",
      "\u001b[32m[1019 22:44:27 @monitor.py:467]\u001b[0m QueueInput/queue_size: 50\n",
      "\u001b[32m[1019 22:44:27 @base.py:275]\u001b[0m Start Epoch 875 ...\n"
     ]
    },
    {
     "name": "stderr",
     "output_type": "stream",
     "text": [
      "100%|###################################################################################|175/175[00:06<00:00,27.50it/s]"
     ]
    },
    {
     "name": "stdout",
     "output_type": "stream",
     "text": [
      "\u001b[32m[1019 22:44:33 @base.py:285]\u001b[0m Epoch 875 (global_step 153125) finished, time:6.37 seconds.\n"
     ]
    },
    {
     "name": "stderr",
     "output_type": "stream",
     "text": [
      "\n"
     ]
    },
    {
     "name": "stdout",
     "output_type": "stream",
     "text": [
      "\u001b[32m[1019 22:44:33 @saver.py:79]\u001b[0m Model saved to ../output/Chicago/DATGAN_05/model\\model-153125.\n",
      "\u001b[32m[1019 22:44:33 @monitor.py:467]\u001b[0m GAN_loss/discrim/accuracy_fake: 0.982\n",
      "\u001b[32m[1019 22:44:33 @monitor.py:467]\u001b[0m GAN_loss/discrim/accuracy_real: 0.06\n",
      "\u001b[32m[1019 22:44:33 @monitor.py:467]\u001b[0m GAN_loss/discrim/loss: 0.64315\n",
      "\u001b[32m[1019 22:44:33 @monitor.py:467]\u001b[0m GAN_loss/gen/final-g-loss: 0.99734\n",
      "\u001b[32m[1019 22:44:33 @monitor.py:467]\u001b[0m GAN_loss/gen/klloss: 0.045923\n",
      "\u001b[32m[1019 22:44:33 @monitor.py:467]\u001b[0m GAN_loss/gen/loss: 0.95142\n",
      "\u001b[32m[1019 22:44:33 @monitor.py:467]\u001b[0m QueueInput/queue_size: 50\n",
      "\u001b[32m[1019 22:44:33 @base.py:275]\u001b[0m Start Epoch 876 ...\n"
     ]
    },
    {
     "name": "stderr",
     "output_type": "stream",
     "text": [
      "100%|###################################################################################|175/175[00:06<00:00,28.44it/s]"
     ]
    },
    {
     "name": "stdout",
     "output_type": "stream",
     "text": [
      "\u001b[32m[1019 22:44:40 @base.py:285]\u001b[0m Epoch 876 (global_step 153300) finished, time:6.15 seconds.\n",
      "\u001b[32m[1019 22:44:40 @saver.py:79]\u001b[0m Model saved to ../output/Chicago/DATGAN_05/model\\model-153300.\n"
     ]
    },
    {
     "name": "stderr",
     "output_type": "stream",
     "text": [
      "\n"
     ]
    },
    {
     "name": "stdout",
     "output_type": "stream",
     "text": [
      "\u001b[32m[1019 22:44:40 @monitor.py:467]\u001b[0m GAN_loss/discrim/accuracy_fake: 0.98\n",
      "\u001b[32m[1019 22:44:40 @monitor.py:467]\u001b[0m GAN_loss/discrim/accuracy_real: 0.072\n",
      "\u001b[32m[1019 22:44:40 @monitor.py:467]\u001b[0m GAN_loss/discrim/loss: 0.64317\n",
      "\u001b[32m[1019 22:44:40 @monitor.py:467]\u001b[0m GAN_loss/gen/final-g-loss: 0.99233\n",
      "\u001b[32m[1019 22:44:40 @monitor.py:467]\u001b[0m GAN_loss/gen/klloss: 0.041377\n",
      "\u001b[32m[1019 22:44:40 @monitor.py:467]\u001b[0m GAN_loss/gen/loss: 0.95095\n",
      "\u001b[32m[1019 22:44:40 @monitor.py:467]\u001b[0m QueueInput/queue_size: 50\n",
      "\u001b[32m[1019 22:44:40 @base.py:275]\u001b[0m Start Epoch 877 ...\n"
     ]
    },
    {
     "name": "stderr",
     "output_type": "stream",
     "text": [
      "100%|###################################################################################|175/175[00:06<00:00,27.97it/s]"
     ]
    },
    {
     "name": "stdout",
     "output_type": "stream",
     "text": [
      "\u001b[32m[1019 22:44:46 @base.py:285]\u001b[0m Epoch 877 (global_step 153475) finished, time:6.26 seconds.\n"
     ]
    },
    {
     "name": "stderr",
     "output_type": "stream",
     "text": [
      "\n"
     ]
    },
    {
     "name": "stdout",
     "output_type": "stream",
     "text": [
      "\u001b[32m[1019 22:44:46 @saver.py:79]\u001b[0m Model saved to ../output/Chicago/DATGAN_05/model\\model-153475.\n",
      "\u001b[32m[1019 22:44:46 @monitor.py:467]\u001b[0m GAN_loss/discrim/accuracy_fake: 0.972\n",
      "\u001b[32m[1019 22:44:46 @monitor.py:467]\u001b[0m GAN_loss/discrim/accuracy_real: 0.034\n",
      "\u001b[32m[1019 22:44:46 @monitor.py:467]\u001b[0m GAN_loss/discrim/loss: 0.65607\n",
      "\u001b[32m[1019 22:44:46 @monitor.py:467]\u001b[0m GAN_loss/gen/final-g-loss: 1.0071\n",
      "\u001b[32m[1019 22:44:46 @monitor.py:467]\u001b[0m GAN_loss/gen/klloss: 0.069553\n",
      "\u001b[32m[1019 22:44:46 @monitor.py:467]\u001b[0m GAN_loss/gen/loss: 0.93757\n",
      "\u001b[32m[1019 22:44:46 @monitor.py:467]\u001b[0m QueueInput/queue_size: 50\n",
      "\u001b[32m[1019 22:44:46 @base.py:275]\u001b[0m Start Epoch 878 ...\n"
     ]
    },
    {
     "name": "stderr",
     "output_type": "stream",
     "text": [
      "100%|###################################################################################|175/175[00:06<00:00,28.94it/s]"
     ]
    },
    {
     "name": "stdout",
     "output_type": "stream",
     "text": [
      "\u001b[32m[1019 22:44:52 @base.py:285]\u001b[0m Epoch 878 (global_step 153650) finished, time:6.05 seconds.\n",
      "\u001b[32m[1019 22:44:53 @saver.py:79]\u001b[0m Model saved to ../output/Chicago/DATGAN_05/model\\model-153650.\n"
     ]
    },
    {
     "name": "stderr",
     "output_type": "stream",
     "text": [
      "\n"
     ]
    },
    {
     "name": "stdout",
     "output_type": "stream",
     "text": [
      "\u001b[32m[1019 22:44:53 @monitor.py:467]\u001b[0m GAN_loss/discrim/accuracy_fake: 0.956\n",
      "\u001b[32m[1019 22:44:53 @monitor.py:467]\u001b[0m GAN_loss/discrim/accuracy_real: 0.086\n",
      "\u001b[32m[1019 22:44:53 @monitor.py:467]\u001b[0m GAN_loss/discrim/loss: 0.64834\n",
      "\u001b[32m[1019 22:44:53 @monitor.py:467]\u001b[0m GAN_loss/gen/final-g-loss: 0.98508\n",
      "\u001b[32m[1019 22:44:53 @monitor.py:467]\u001b[0m GAN_loss/gen/klloss: 0.042591\n",
      "\u001b[32m[1019 22:44:53 @monitor.py:467]\u001b[0m GAN_loss/gen/loss: 0.94249\n",
      "\u001b[32m[1019 22:44:53 @monitor.py:467]\u001b[0m QueueInput/queue_size: 50\n",
      "\u001b[32m[1019 22:44:53 @base.py:275]\u001b[0m Start Epoch 879 ...\n"
     ]
    },
    {
     "name": "stderr",
     "output_type": "stream",
     "text": [
      "100%|###################################################################################|175/175[00:06<00:00,29.02it/s]"
     ]
    },
    {
     "name": "stdout",
     "output_type": "stream",
     "text": [
      "\u001b[32m[1019 22:44:59 @base.py:285]\u001b[0m Epoch 879 (global_step 153825) finished, time:6.03 seconds.\n",
      "\u001b[32m[1019 22:44:59 @saver.py:79]\u001b[0m Model saved to ../output/Chicago/DATGAN_05/model\\model-153825.\n"
     ]
    },
    {
     "name": "stderr",
     "output_type": "stream",
     "text": [
      "\n"
     ]
    },
    {
     "name": "stdout",
     "output_type": "stream",
     "text": [
      "\u001b[32m[1019 22:44:59 @monitor.py:467]\u001b[0m GAN_loss/discrim/accuracy_fake: 0.974\n",
      "\u001b[32m[1019 22:44:59 @monitor.py:467]\u001b[0m GAN_loss/discrim/accuracy_real: 0.07\n",
      "\u001b[32m[1019 22:44:59 @monitor.py:467]\u001b[0m GAN_loss/discrim/loss: 0.64162\n",
      "\u001b[32m[1019 22:44:59 @monitor.py:467]\u001b[0m GAN_loss/gen/final-g-loss: 0.99032\n",
      "\u001b[32m[1019 22:44:59 @monitor.py:467]\u001b[0m GAN_loss/gen/klloss: 0.043658\n",
      "\u001b[32m[1019 22:44:59 @monitor.py:467]\u001b[0m GAN_loss/gen/loss: 0.94666\n",
      "\u001b[32m[1019 22:44:59 @monitor.py:467]\u001b[0m QueueInput/queue_size: 50\n",
      "\u001b[32m[1019 22:44:59 @base.py:275]\u001b[0m Start Epoch 880 ...\n"
     ]
    },
    {
     "name": "stderr",
     "output_type": "stream",
     "text": [
      "100%|###################################################################################|175/175[00:06<00:00,26.90it/s]"
     ]
    },
    {
     "name": "stdout",
     "output_type": "stream",
     "text": [
      "\u001b[32m[1019 22:45:05 @base.py:285]\u001b[0m Epoch 880 (global_step 154000) finished, time:6.51 seconds.\n"
     ]
    },
    {
     "name": "stderr",
     "output_type": "stream",
     "text": [
      "\n"
     ]
    },
    {
     "name": "stdout",
     "output_type": "stream",
     "text": [
      "\u001b[32m[1019 22:45:06 @saver.py:79]\u001b[0m Model saved to ../output/Chicago/DATGAN_05/model\\model-154000.\n",
      "\u001b[32m[1019 22:45:06 @monitor.py:467]\u001b[0m GAN_loss/discrim/accuracy_fake: 0.966\n",
      "\u001b[32m[1019 22:45:06 @monitor.py:467]\u001b[0m GAN_loss/discrim/accuracy_real: 0.056\n",
      "\u001b[32m[1019 22:45:06 @monitor.py:467]\u001b[0m GAN_loss/discrim/loss: 0.64986\n",
      "\u001b[32m[1019 22:45:06 @monitor.py:467]\u001b[0m GAN_loss/gen/final-g-loss: 0.98799\n",
      "\u001b[32m[1019 22:45:06 @monitor.py:467]\u001b[0m GAN_loss/gen/klloss: 0.051679\n",
      "\u001b[32m[1019 22:45:06 @monitor.py:467]\u001b[0m GAN_loss/gen/loss: 0.93631\n",
      "\u001b[32m[1019 22:45:06 @monitor.py:467]\u001b[0m QueueInput/queue_size: 50\n",
      "\u001b[32m[1019 22:45:06 @base.py:275]\u001b[0m Start Epoch 881 ...\n"
     ]
    },
    {
     "name": "stderr",
     "output_type": "stream",
     "text": [
      "100%|###################################################################################|175/175[00:06<00:00,28.75it/s]"
     ]
    },
    {
     "name": "stdout",
     "output_type": "stream",
     "text": [
      "\u001b[32m[1019 22:45:12 @base.py:285]\u001b[0m Epoch 881 (global_step 154175) finished, time:6.09 seconds.\n",
      "\u001b[32m[1019 22:45:12 @saver.py:79]\u001b[0m Model saved to ../output/Chicago/DATGAN_05/model\\model-154175.\n"
     ]
    },
    {
     "name": "stderr",
     "output_type": "stream",
     "text": [
      "\n"
     ]
    },
    {
     "name": "stdout",
     "output_type": "stream",
     "text": [
      "\u001b[32m[1019 22:45:12 @monitor.py:467]\u001b[0m GAN_loss/discrim/accuracy_fake: 0.974\n",
      "\u001b[32m[1019 22:45:12 @monitor.py:467]\u001b[0m GAN_loss/discrim/accuracy_real: 0.032\n",
      "\u001b[32m[1019 22:45:12 @monitor.py:467]\u001b[0m GAN_loss/discrim/loss: 0.65485\n",
      "\u001b[32m[1019 22:45:12 @monitor.py:467]\u001b[0m GAN_loss/gen/final-g-loss: 1.0484\n",
      "\u001b[32m[1019 22:45:12 @monitor.py:467]\u001b[0m GAN_loss/gen/klloss: 0.11156\n",
      "\u001b[32m[1019 22:45:12 @monitor.py:467]\u001b[0m GAN_loss/gen/loss: 0.93683\n",
      "\u001b[32m[1019 22:45:12 @monitor.py:467]\u001b[0m QueueInput/queue_size: 50\n",
      "\u001b[32m[1019 22:45:12 @base.py:275]\u001b[0m Start Epoch 882 ...\n"
     ]
    },
    {
     "name": "stderr",
     "output_type": "stream",
     "text": [
      "100%|###################################################################################|175/175[00:06<00:00,28.90it/s]"
     ]
    },
    {
     "name": "stdout",
     "output_type": "stream",
     "text": [
      "\u001b[32m[1019 22:45:18 @base.py:285]\u001b[0m Epoch 882 (global_step 154350) finished, time:6.06 seconds.\n",
      "\u001b[32m[1019 22:45:18 @saver.py:79]\u001b[0m Model saved to ../output/Chicago/DATGAN_05/model\\model-154350.\n"
     ]
    },
    {
     "name": "stderr",
     "output_type": "stream",
     "text": [
      "\n"
     ]
    },
    {
     "name": "stdout",
     "output_type": "stream",
     "text": [
      "\u001b[32m[1019 22:45:18 @monitor.py:467]\u001b[0m GAN_loss/discrim/accuracy_fake: 0.988\n",
      "\u001b[32m[1019 22:45:18 @monitor.py:467]\u001b[0m GAN_loss/discrim/accuracy_real: 0.06\n",
      "\u001b[32m[1019 22:45:18 @monitor.py:467]\u001b[0m GAN_loss/discrim/loss: 0.64663\n",
      "\u001b[32m[1019 22:45:18 @monitor.py:467]\u001b[0m GAN_loss/gen/final-g-loss: 1.0084\n",
      "\u001b[32m[1019 22:45:18 @monitor.py:467]\u001b[0m GAN_loss/gen/klloss: 0.061736\n",
      "\u001b[32m[1019 22:45:18 @monitor.py:467]\u001b[0m GAN_loss/gen/loss: 0.94665\n",
      "\u001b[32m[1019 22:45:18 @monitor.py:467]\u001b[0m QueueInput/queue_size: 50\n",
      "\u001b[32m[1019 22:45:18 @base.py:275]\u001b[0m Start Epoch 883 ...\n"
     ]
    },
    {
     "name": "stderr",
     "output_type": "stream",
     "text": [
      "100%|###################################################################################|175/175[00:06<00:00,28.92it/s]"
     ]
    },
    {
     "name": "stdout",
     "output_type": "stream",
     "text": [
      "\u001b[32m[1019 22:45:24 @base.py:285]\u001b[0m Epoch 883 (global_step 154525) finished, time:6.05 seconds.\n",
      "\u001b[32m[1019 22:45:25 @saver.py:79]\u001b[0m Model saved to ../output/Chicago/DATGAN_05/model\\model-154525.\n"
     ]
    },
    {
     "name": "stderr",
     "output_type": "stream",
     "text": [
      "\n"
     ]
    },
    {
     "name": "stdout",
     "output_type": "stream",
     "text": [
      "\u001b[32m[1019 22:45:25 @monitor.py:467]\u001b[0m GAN_loss/discrim/accuracy_fake: 0.962\n",
      "\u001b[32m[1019 22:45:25 @monitor.py:467]\u001b[0m GAN_loss/discrim/accuracy_real: 0.074\n",
      "\u001b[32m[1019 22:45:25 @monitor.py:467]\u001b[0m GAN_loss/discrim/loss: 0.64506\n",
      "\u001b[32m[1019 22:45:25 @monitor.py:467]\u001b[0m GAN_loss/gen/final-g-loss: 1.0041\n",
      "\u001b[32m[1019 22:45:25 @monitor.py:467]\u001b[0m GAN_loss/gen/klloss: 0.05888\n",
      "\u001b[32m[1019 22:45:25 @monitor.py:467]\u001b[0m GAN_loss/gen/loss: 0.94527\n",
      "\u001b[32m[1019 22:45:25 @monitor.py:467]\u001b[0m QueueInput/queue_size: 50\n",
      "\u001b[32m[1019 22:45:25 @base.py:275]\u001b[0m Start Epoch 884 ...\n"
     ]
    },
    {
     "name": "stderr",
     "output_type": "stream",
     "text": [
      "100%|###################################################################################|175/175[00:06<00:00,28.48it/s]"
     ]
    },
    {
     "name": "stdout",
     "output_type": "stream",
     "text": [
      "\u001b[32m[1019 22:45:31 @base.py:285]\u001b[0m Epoch 884 (global_step 154700) finished, time:6.15 seconds.\n",
      "\u001b[32m[1019 22:45:31 @saver.py:79]\u001b[0m Model saved to ../output/Chicago/DATGAN_05/model\\model-154700.\n"
     ]
    },
    {
     "name": "stderr",
     "output_type": "stream",
     "text": [
      "\n"
     ]
    },
    {
     "name": "stdout",
     "output_type": "stream",
     "text": [
      "\u001b[32m[1019 22:45:31 @monitor.py:467]\u001b[0m GAN_loss/discrim/accuracy_fake: 0.976\n",
      "\u001b[32m[1019 22:45:31 @monitor.py:467]\u001b[0m GAN_loss/discrim/accuracy_real: 0.076\n",
      "\u001b[32m[1019 22:45:31 @monitor.py:467]\u001b[0m GAN_loss/discrim/loss: 0.64818\n",
      "\u001b[32m[1019 22:45:31 @monitor.py:467]\u001b[0m GAN_loss/gen/final-g-loss: 1.012\n",
      "\u001b[32m[1019 22:45:31 @monitor.py:467]\u001b[0m GAN_loss/gen/klloss: 0.0645\n",
      "\u001b[32m[1019 22:45:31 @monitor.py:467]\u001b[0m GAN_loss/gen/loss: 0.94754\n",
      "\u001b[32m[1019 22:45:31 @monitor.py:467]\u001b[0m QueueInput/queue_size: 50\n",
      "\u001b[32m[1019 22:45:31 @base.py:275]\u001b[0m Start Epoch 885 ...\n"
     ]
    },
    {
     "name": "stderr",
     "output_type": "stream",
     "text": [
      "100%|###################################################################################|175/175[00:06<00:00,27.80it/s]"
     ]
    },
    {
     "name": "stdout",
     "output_type": "stream",
     "text": [
      "\u001b[32m[1019 22:45:37 @base.py:285]\u001b[0m Epoch 885 (global_step 154875) finished, time:6.3 seconds.\n",
      "\u001b[32m[1019 22:45:37 @saver.py:79]\u001b[0m Model saved to ../output/Chicago/DATGAN_05/model\\model-154875.\n"
     ]
    },
    {
     "name": "stderr",
     "output_type": "stream",
     "text": [
      "\n"
     ]
    },
    {
     "name": "stdout",
     "output_type": "stream",
     "text": [
      "\u001b[32m[1019 22:45:38 @monitor.py:467]\u001b[0m GAN_loss/discrim/accuracy_fake: 0.98\n",
      "\u001b[32m[1019 22:45:38 @monitor.py:467]\u001b[0m GAN_loss/discrim/accuracy_real: 0.07\n",
      "\u001b[32m[1019 22:45:38 @monitor.py:467]\u001b[0m GAN_loss/discrim/loss: 0.6481\n",
      "\u001b[32m[1019 22:45:38 @monitor.py:467]\u001b[0m GAN_loss/gen/final-g-loss: 1.0245\n",
      "\u001b[32m[1019 22:45:38 @monitor.py:467]\u001b[0m GAN_loss/gen/klloss: 0.070559\n",
      "\u001b[32m[1019 22:45:38 @monitor.py:467]\u001b[0m GAN_loss/gen/loss: 0.9539\n",
      "\u001b[32m[1019 22:45:38 @monitor.py:467]\u001b[0m QueueInput/queue_size: 50\n",
      "\u001b[32m[1019 22:45:38 @base.py:275]\u001b[0m Start Epoch 886 ...\n"
     ]
    },
    {
     "name": "stderr",
     "output_type": "stream",
     "text": [
      "100%|###################################################################################|175/175[00:06<00:00,28.51it/s]"
     ]
    },
    {
     "name": "stdout",
     "output_type": "stream",
     "text": [
      "\u001b[32m[1019 22:45:44 @base.py:285]\u001b[0m Epoch 886 (global_step 155050) finished, time:6.14 seconds.\n",
      "\u001b[32m[1019 22:45:44 @saver.py:79]\u001b[0m Model saved to ../output/Chicago/DATGAN_05/model\\model-155050.\n"
     ]
    },
    {
     "name": "stderr",
     "output_type": "stream",
     "text": [
      "\n"
     ]
    },
    {
     "name": "stdout",
     "output_type": "stream",
     "text": [
      "\u001b[32m[1019 22:45:44 @monitor.py:467]\u001b[0m GAN_loss/discrim/accuracy_fake: 0.962\n",
      "\u001b[32m[1019 22:45:44 @monitor.py:467]\u001b[0m GAN_loss/discrim/accuracy_real: 0.066\n",
      "\u001b[32m[1019 22:45:44 @monitor.py:467]\u001b[0m GAN_loss/discrim/loss: 0.65061\n",
      "\u001b[32m[1019 22:45:44 @monitor.py:467]\u001b[0m GAN_loss/gen/final-g-loss: 1.0072\n",
      "\u001b[32m[1019 22:45:44 @monitor.py:467]\u001b[0m GAN_loss/gen/klloss: 0.072105\n",
      "\u001b[32m[1019 22:45:44 @monitor.py:467]\u001b[0m GAN_loss/gen/loss: 0.93512\n",
      "\u001b[32m[1019 22:45:44 @monitor.py:467]\u001b[0m QueueInput/queue_size: 50\n",
      "\u001b[32m[1019 22:45:44 @base.py:275]\u001b[0m Start Epoch 887 ...\n"
     ]
    },
    {
     "name": "stderr",
     "output_type": "stream",
     "text": [
      "100%|###################################################################################|175/175[00:06<00:00,28.66it/s]"
     ]
    },
    {
     "name": "stdout",
     "output_type": "stream",
     "text": [
      "\u001b[32m[1019 22:45:50 @base.py:285]\u001b[0m Epoch 887 (global_step 155225) finished, time:6.11 seconds.\n",
      "\u001b[32m[1019 22:45:50 @saver.py:79]\u001b[0m Model saved to ../output/Chicago/DATGAN_05/model\\model-155225.\n"
     ]
    },
    {
     "name": "stderr",
     "output_type": "stream",
     "text": [
      "\n"
     ]
    },
    {
     "name": "stdout",
     "output_type": "stream",
     "text": [
      "\u001b[32m[1019 22:45:50 @monitor.py:467]\u001b[0m GAN_loss/discrim/accuracy_fake: 0.978\n",
      "\u001b[32m[1019 22:45:50 @monitor.py:467]\u001b[0m GAN_loss/discrim/accuracy_real: 0.05\n",
      "\u001b[32m[1019 22:45:50 @monitor.py:467]\u001b[0m GAN_loss/discrim/loss: 0.64646\n",
      "\u001b[32m[1019 22:45:50 @monitor.py:467]\u001b[0m GAN_loss/gen/final-g-loss: 1.0294\n",
      "\u001b[32m[1019 22:45:50 @monitor.py:467]\u001b[0m GAN_loss/gen/klloss: 0.082204\n",
      "\u001b[32m[1019 22:45:50 @monitor.py:467]\u001b[0m GAN_loss/gen/loss: 0.94717\n",
      "\u001b[32m[1019 22:45:50 @monitor.py:467]\u001b[0m QueueInput/queue_size: 50\n",
      "\u001b[32m[1019 22:45:50 @base.py:275]\u001b[0m Start Epoch 888 ...\n"
     ]
    },
    {
     "name": "stderr",
     "output_type": "stream",
     "text": [
      "100%|###################################################################################|175/175[00:06<00:00,28.97it/s]"
     ]
    },
    {
     "name": "stdout",
     "output_type": "stream",
     "text": [
      "\u001b[32m[1019 22:45:56 @base.py:285]\u001b[0m Epoch 888 (global_step 155400) finished, time:6.04 seconds.\n",
      "\u001b[32m[1019 22:45:57 @saver.py:79]\u001b[0m Model saved to ../output/Chicago/DATGAN_05/model\\model-155400.\n"
     ]
    },
    {
     "name": "stderr",
     "output_type": "stream",
     "text": [
      "\n"
     ]
    },
    {
     "name": "stdout",
     "output_type": "stream",
     "text": [
      "\u001b[32m[1019 22:45:57 @monitor.py:467]\u001b[0m GAN_loss/discrim/accuracy_fake: 0.968\n",
      "\u001b[32m[1019 22:45:57 @monitor.py:467]\u001b[0m GAN_loss/discrim/accuracy_real: 0.06\n",
      "\u001b[32m[1019 22:45:57 @monitor.py:467]\u001b[0m GAN_loss/discrim/loss: 0.64644\n",
      "\u001b[32m[1019 22:45:57 @monitor.py:467]\u001b[0m GAN_loss/gen/final-g-loss: 1.0059\n",
      "\u001b[32m[1019 22:45:57 @monitor.py:467]\u001b[0m GAN_loss/gen/klloss: 0.066975\n",
      "\u001b[32m[1019 22:45:57 @monitor.py:467]\u001b[0m GAN_loss/gen/loss: 0.93889\n",
      "\u001b[32m[1019 22:45:57 @monitor.py:467]\u001b[0m QueueInput/queue_size: 50\n",
      "\u001b[32m[1019 22:45:57 @base.py:275]\u001b[0m Start Epoch 889 ...\n"
     ]
    },
    {
     "name": "stderr",
     "output_type": "stream",
     "text": [
      "100%|###################################################################################|175/175[00:06<00:00,27.88it/s]"
     ]
    },
    {
     "name": "stdout",
     "output_type": "stream",
     "text": [
      "\u001b[32m[1019 22:46:03 @base.py:285]\u001b[0m Epoch 889 (global_step 155575) finished, time:6.28 seconds.\n",
      "\u001b[32m[1019 22:46:03 @saver.py:79]\u001b[0m Model saved to ../output/Chicago/DATGAN_05/model\\model-155575.\n"
     ]
    },
    {
     "name": "stderr",
     "output_type": "stream",
     "text": [
      "\n"
     ]
    },
    {
     "name": "stdout",
     "output_type": "stream",
     "text": [
      "\u001b[32m[1019 22:46:03 @monitor.py:467]\u001b[0m GAN_loss/discrim/accuracy_fake: 0.966\n",
      "\u001b[32m[1019 22:46:03 @monitor.py:467]\u001b[0m GAN_loss/discrim/accuracy_real: 0.05\n",
      "\u001b[32m[1019 22:46:03 @monitor.py:467]\u001b[0m GAN_loss/discrim/loss: 0.64455\n",
      "\u001b[32m[1019 22:46:03 @monitor.py:467]\u001b[0m GAN_loss/gen/final-g-loss: 0.99775\n",
      "\u001b[32m[1019 22:46:03 @monitor.py:467]\u001b[0m GAN_loss/gen/klloss: 0.060325\n",
      "\u001b[32m[1019 22:46:03 @monitor.py:467]\u001b[0m GAN_loss/gen/loss: 0.93742\n",
      "\u001b[32m[1019 22:46:03 @monitor.py:467]\u001b[0m QueueInput/queue_size: 50\n",
      "\u001b[32m[1019 22:46:03 @base.py:275]\u001b[0m Start Epoch 890 ...\n"
     ]
    },
    {
     "name": "stderr",
     "output_type": "stream",
     "text": [
      "100%|###################################################################################|175/175[00:06<00:00,28.54it/s]"
     ]
    },
    {
     "name": "stdout",
     "output_type": "stream",
     "text": [
      "\u001b[32m[1019 22:46:09 @base.py:285]\u001b[0m Epoch 890 (global_step 155750) finished, time:6.13 seconds.\n",
      "\u001b[32m[1019 22:46:09 @saver.py:79]\u001b[0m Model saved to ../output/Chicago/DATGAN_05/model\\model-155750.\n"
     ]
    },
    {
     "name": "stderr",
     "output_type": "stream",
     "text": [
      "\n"
     ]
    },
    {
     "name": "stdout",
     "output_type": "stream",
     "text": [
      "\u001b[32m[1019 22:46:10 @monitor.py:467]\u001b[0m GAN_loss/discrim/accuracy_fake: 0.96\n",
      "\u001b[32m[1019 22:46:10 @monitor.py:467]\u001b[0m GAN_loss/discrim/accuracy_real: 0.046\n",
      "\u001b[32m[1019 22:46:10 @monitor.py:467]\u001b[0m GAN_loss/discrim/loss: 0.6523\n",
      "\u001b[32m[1019 22:46:10 @monitor.py:467]\u001b[0m GAN_loss/gen/final-g-loss: 0.98144\n",
      "\u001b[32m[1019 22:46:10 @monitor.py:467]\u001b[0m GAN_loss/gen/klloss: 0.04072\n",
      "\u001b[32m[1019 22:46:10 @monitor.py:467]\u001b[0m GAN_loss/gen/loss: 0.94072\n",
      "\u001b[32m[1019 22:46:10 @monitor.py:467]\u001b[0m QueueInput/queue_size: 50\n",
      "\u001b[32m[1019 22:46:10 @base.py:275]\u001b[0m Start Epoch 891 ...\n"
     ]
    },
    {
     "name": "stderr",
     "output_type": "stream",
     "text": [
      "100%|###################################################################################|175/175[00:05<00:00,29.57it/s]"
     ]
    },
    {
     "name": "stdout",
     "output_type": "stream",
     "text": [
      "\u001b[32m[1019 22:46:16 @base.py:285]\u001b[0m Epoch 891 (global_step 155925) finished, time:5.92 seconds.\n",
      "\u001b[32m[1019 22:46:16 @saver.py:79]\u001b[0m Model saved to ../output/Chicago/DATGAN_05/model\\model-155925.\n"
     ]
    },
    {
     "name": "stderr",
     "output_type": "stream",
     "text": [
      "\n"
     ]
    },
    {
     "name": "stdout",
     "output_type": "stream",
     "text": [
      "\u001b[32m[1019 22:46:16 @monitor.py:467]\u001b[0m GAN_loss/discrim/accuracy_fake: 0.958\n",
      "\u001b[32m[1019 22:46:16 @monitor.py:467]\u001b[0m GAN_loss/discrim/accuracy_real: 0.048\n",
      "\u001b[32m[1019 22:46:16 @monitor.py:467]\u001b[0m GAN_loss/discrim/loss: 0.64907\n",
      "\u001b[32m[1019 22:46:16 @monitor.py:467]\u001b[0m GAN_loss/gen/final-g-loss: 0.99946\n",
      "\u001b[32m[1019 22:46:16 @monitor.py:467]\u001b[0m GAN_loss/gen/klloss: 0.068785\n",
      "\u001b[32m[1019 22:46:16 @monitor.py:467]\u001b[0m GAN_loss/gen/loss: 0.93067\n",
      "\u001b[32m[1019 22:46:16 @monitor.py:467]\u001b[0m QueueInput/queue_size: 50\n",
      "\u001b[32m[1019 22:46:16 @base.py:275]\u001b[0m Start Epoch 892 ...\n"
     ]
    },
    {
     "name": "stderr",
     "output_type": "stream",
     "text": [
      "100%|###################################################################################|175/175[00:05<00:00,29.41it/s]"
     ]
    },
    {
     "name": "stdout",
     "output_type": "stream",
     "text": [
      "\u001b[32m[1019 22:46:22 @base.py:285]\u001b[0m Epoch 892 (global_step 156100) finished, time:5.95 seconds.\n",
      "\u001b[32m[1019 22:46:22 @saver.py:79]\u001b[0m Model saved to ../output/Chicago/DATGAN_05/model\\model-156100.\n"
     ]
    },
    {
     "name": "stderr",
     "output_type": "stream",
     "text": [
      "\n"
     ]
    },
    {
     "name": "stdout",
     "output_type": "stream",
     "text": [
      "\u001b[32m[1019 22:46:22 @monitor.py:467]\u001b[0m GAN_loss/discrim/accuracy_fake: 0.972\n",
      "\u001b[32m[1019 22:46:22 @monitor.py:467]\u001b[0m GAN_loss/discrim/accuracy_real: 0.052\n",
      "\u001b[32m[1019 22:46:22 @monitor.py:467]\u001b[0m GAN_loss/discrim/loss: 0.6517\n",
      "\u001b[32m[1019 22:46:22 @monitor.py:467]\u001b[0m GAN_loss/gen/final-g-loss: 1.0082\n",
      "\u001b[32m[1019 22:46:22 @monitor.py:467]\u001b[0m GAN_loss/gen/klloss: 0.071339\n",
      "\u001b[32m[1019 22:46:22 @monitor.py:467]\u001b[0m GAN_loss/gen/loss: 0.93684\n",
      "\u001b[32m[1019 22:46:22 @monitor.py:467]\u001b[0m QueueInput/queue_size: 50\n",
      "\u001b[32m[1019 22:46:22 @base.py:275]\u001b[0m Start Epoch 893 ...\n"
     ]
    },
    {
     "name": "stderr",
     "output_type": "stream",
     "text": [
      "100%|###################################################################################|175/175[00:05<00:00,29.50it/s]"
     ]
    },
    {
     "name": "stdout",
     "output_type": "stream",
     "text": [
      "\u001b[32m[1019 22:46:28 @base.py:285]\u001b[0m Epoch 893 (global_step 156275) finished, time:5.93 seconds.\n",
      "\u001b[32m[1019 22:46:28 @saver.py:79]\u001b[0m Model saved to ../output/Chicago/DATGAN_05/model\\model-156275.\n"
     ]
    },
    {
     "name": "stderr",
     "output_type": "stream",
     "text": [
      "\n"
     ]
    },
    {
     "name": "stdout",
     "output_type": "stream",
     "text": [
      "\u001b[32m[1019 22:46:28 @monitor.py:467]\u001b[0m GAN_loss/discrim/accuracy_fake: 0.968\n",
      "\u001b[32m[1019 22:46:28 @monitor.py:467]\u001b[0m GAN_loss/discrim/accuracy_real: 0.05\n",
      "\u001b[32m[1019 22:46:28 @monitor.py:467]\u001b[0m GAN_loss/discrim/loss: 0.6533\n",
      "\u001b[32m[1019 22:46:28 @monitor.py:467]\u001b[0m GAN_loss/gen/final-g-loss: 0.98379\n",
      "\u001b[32m[1019 22:46:28 @monitor.py:467]\u001b[0m GAN_loss/gen/klloss: 0.041168\n",
      "\u001b[32m[1019 22:46:28 @monitor.py:467]\u001b[0m GAN_loss/gen/loss: 0.94262\n",
      "\u001b[32m[1019 22:46:28 @monitor.py:467]\u001b[0m QueueInput/queue_size: 50\n",
      "\u001b[32m[1019 22:46:28 @base.py:275]\u001b[0m Start Epoch 894 ...\n"
     ]
    },
    {
     "name": "stderr",
     "output_type": "stream",
     "text": [
      "100%|###################################################################################|175/175[00:06<00:00,27.58it/s]"
     ]
    },
    {
     "name": "stdout",
     "output_type": "stream",
     "text": [
      "\u001b[32m[1019 22:46:34 @base.py:285]\u001b[0m Epoch 894 (global_step 156450) finished, time:6.35 seconds.\n",
      "\u001b[32m[1019 22:46:35 @saver.py:79]\u001b[0m Model saved to ../output/Chicago/DATGAN_05/model\\model-156450.\n"
     ]
    },
    {
     "name": "stderr",
     "output_type": "stream",
     "text": [
      "\n"
     ]
    },
    {
     "name": "stdout",
     "output_type": "stream",
     "text": [
      "\u001b[32m[1019 22:46:35 @monitor.py:467]\u001b[0m GAN_loss/discrim/accuracy_fake: 0.972\n",
      "\u001b[32m[1019 22:46:35 @monitor.py:467]\u001b[0m GAN_loss/discrim/accuracy_real: 0.034\n",
      "\u001b[32m[1019 22:46:35 @monitor.py:467]\u001b[0m GAN_loss/discrim/loss: 0.65286\n",
      "\u001b[32m[1019 22:46:35 @monitor.py:467]\u001b[0m GAN_loss/gen/final-g-loss: 1.0088\n",
      "\u001b[32m[1019 22:46:35 @monitor.py:467]\u001b[0m GAN_loss/gen/klloss: 0.074747\n",
      "\u001b[32m[1019 22:46:35 @monitor.py:467]\u001b[0m GAN_loss/gen/loss: 0.93401\n",
      "\u001b[32m[1019 22:46:35 @monitor.py:467]\u001b[0m QueueInput/queue_size: 50\n",
      "\u001b[32m[1019 22:46:35 @base.py:275]\u001b[0m Start Epoch 895 ...\n"
     ]
    },
    {
     "name": "stderr",
     "output_type": "stream",
     "text": [
      "100%|###################################################################################|175/175[00:05<00:00,29.38it/s]"
     ]
    },
    {
     "name": "stdout",
     "output_type": "stream",
     "text": [
      "\u001b[32m[1019 22:46:41 @base.py:285]\u001b[0m Epoch 895 (global_step 156625) finished, time:5.96 seconds.\n",
      "\u001b[32m[1019 22:46:41 @saver.py:79]\u001b[0m Model saved to ../output/Chicago/DATGAN_05/model\\model-156625.\n"
     ]
    },
    {
     "name": "stderr",
     "output_type": "stream",
     "text": [
      "\n"
     ]
    },
    {
     "name": "stdout",
     "output_type": "stream",
     "text": [
      "\u001b[32m[1019 22:46:41 @monitor.py:467]\u001b[0m GAN_loss/discrim/accuracy_fake: 0.962\n",
      "\u001b[32m[1019 22:46:41 @monitor.py:467]\u001b[0m GAN_loss/discrim/accuracy_real: 0.044\n",
      "\u001b[32m[1019 22:46:41 @monitor.py:467]\u001b[0m GAN_loss/discrim/loss: 0.65631\n",
      "\u001b[32m[1019 22:46:41 @monitor.py:467]\u001b[0m GAN_loss/gen/final-g-loss: 0.98795\n",
      "\u001b[32m[1019 22:46:41 @monitor.py:467]\u001b[0m GAN_loss/gen/klloss: 0.05063\n",
      "\u001b[32m[1019 22:46:41 @monitor.py:467]\u001b[0m GAN_loss/gen/loss: 0.93732\n",
      "\u001b[32m[1019 22:46:41 @monitor.py:467]\u001b[0m QueueInput/queue_size: 50\n",
      "\u001b[32m[1019 22:46:41 @base.py:275]\u001b[0m Start Epoch 896 ...\n"
     ]
    },
    {
     "name": "stderr",
     "output_type": "stream",
     "text": [
      "100%|###################################################################################|175/175[00:05<00:00,29.55it/s]"
     ]
    },
    {
     "name": "stdout",
     "output_type": "stream",
     "text": [
      "\u001b[32m[1019 22:46:47 @base.py:285]\u001b[0m Epoch 896 (global_step 156800) finished, time:5.92 seconds.\n",
      "\u001b[32m[1019 22:46:47 @saver.py:79]\u001b[0m Model saved to ../output/Chicago/DATGAN_05/model\\model-156800.\n"
     ]
    },
    {
     "name": "stderr",
     "output_type": "stream",
     "text": [
      "\n"
     ]
    },
    {
     "name": "stdout",
     "output_type": "stream",
     "text": [
      "\u001b[32m[1019 22:46:47 @monitor.py:467]\u001b[0m GAN_loss/discrim/accuracy_fake: 0.976\n",
      "\u001b[32m[1019 22:46:47 @monitor.py:467]\u001b[0m GAN_loss/discrim/accuracy_real: 0.046\n",
      "\u001b[32m[1019 22:46:47 @monitor.py:467]\u001b[0m GAN_loss/discrim/loss: 0.6466\n",
      "\u001b[32m[1019 22:46:47 @monitor.py:467]\u001b[0m GAN_loss/gen/final-g-loss: 1.0108\n",
      "\u001b[32m[1019 22:46:47 @monitor.py:467]\u001b[0m GAN_loss/gen/klloss: 0.063699\n",
      "\u001b[32m[1019 22:46:47 @monitor.py:467]\u001b[0m GAN_loss/gen/loss: 0.94707\n",
      "\u001b[32m[1019 22:46:47 @monitor.py:467]\u001b[0m QueueInput/queue_size: 50\n",
      "\u001b[32m[1019 22:46:47 @base.py:275]\u001b[0m Start Epoch 897 ...\n"
     ]
    },
    {
     "name": "stderr",
     "output_type": "stream",
     "text": [
      "100%|###################################################################################|175/175[00:05<00:00,29.55it/s]"
     ]
    },
    {
     "name": "stdout",
     "output_type": "stream",
     "text": [
      "\u001b[32m[1019 22:46:53 @base.py:285]\u001b[0m Epoch 897 (global_step 156975) finished, time:5.92 seconds.\n",
      "\u001b[32m[1019 22:46:53 @saver.py:79]\u001b[0m Model saved to ../output/Chicago/DATGAN_05/model\\model-156975.\n"
     ]
    },
    {
     "name": "stderr",
     "output_type": "stream",
     "text": [
      "\n"
     ]
    },
    {
     "name": "stdout",
     "output_type": "stream",
     "text": [
      "\u001b[32m[1019 22:46:53 @monitor.py:467]\u001b[0m GAN_loss/discrim/accuracy_fake: 0.968\n",
      "\u001b[32m[1019 22:46:53 @monitor.py:467]\u001b[0m GAN_loss/discrim/accuracy_real: 0.06\n",
      "\u001b[32m[1019 22:46:53 @monitor.py:467]\u001b[0m GAN_loss/discrim/loss: 0.65504\n",
      "\u001b[32m[1019 22:46:53 @monitor.py:467]\u001b[0m GAN_loss/gen/final-g-loss: 0.99703\n",
      "\u001b[32m[1019 22:46:53 @monitor.py:467]\u001b[0m GAN_loss/gen/klloss: 0.057096\n",
      "\u001b[32m[1019 22:46:53 @monitor.py:467]\u001b[0m GAN_loss/gen/loss: 0.93993\n",
      "\u001b[32m[1019 22:46:53 @monitor.py:467]\u001b[0m QueueInput/queue_size: 50\n",
      "\u001b[32m[1019 22:46:53 @base.py:275]\u001b[0m Start Epoch 898 ...\n"
     ]
    },
    {
     "name": "stderr",
     "output_type": "stream",
     "text": [
      "100%|###################################################################################|175/175[00:05<00:00,29.56it/s]"
     ]
    },
    {
     "name": "stdout",
     "output_type": "stream",
     "text": [
      "\u001b[32m[1019 22:46:59 @base.py:285]\u001b[0m Epoch 898 (global_step 157150) finished, time:5.92 seconds.\n",
      "\u001b[32m[1019 22:46:59 @saver.py:79]\u001b[0m Model saved to ../output/Chicago/DATGAN_05/model\\model-157150.\n"
     ]
    },
    {
     "name": "stderr",
     "output_type": "stream",
     "text": [
      "\n"
     ]
    },
    {
     "name": "stdout",
     "output_type": "stream",
     "text": [
      "\u001b[32m[1019 22:46:59 @monitor.py:467]\u001b[0m GAN_loss/discrim/accuracy_fake: 0.96\n",
      "\u001b[32m[1019 22:46:59 @monitor.py:467]\u001b[0m GAN_loss/discrim/accuracy_real: 0.046\n",
      "\u001b[32m[1019 22:46:59 @monitor.py:467]\u001b[0m GAN_loss/discrim/loss: 0.64609\n",
      "\u001b[32m[1019 22:46:59 @monitor.py:467]\u001b[0m GAN_loss/gen/final-g-loss: 0.99528\n",
      "\u001b[32m[1019 22:46:59 @monitor.py:467]\u001b[0m GAN_loss/gen/klloss: 0.051799\n",
      "\u001b[32m[1019 22:46:59 @monitor.py:467]\u001b[0m GAN_loss/gen/loss: 0.94349\n",
      "\u001b[32m[1019 22:46:59 @monitor.py:467]\u001b[0m QueueInput/queue_size: 50\n",
      "\u001b[32m[1019 22:46:59 @base.py:275]\u001b[0m Start Epoch 899 ...\n"
     ]
    },
    {
     "name": "stderr",
     "output_type": "stream",
     "text": [
      "100%|###################################################################################|175/175[00:06<00:00,27.38it/s]"
     ]
    },
    {
     "name": "stdout",
     "output_type": "stream",
     "text": [
      "\u001b[32m[1019 22:47:06 @base.py:285]\u001b[0m Epoch 899 (global_step 157325) finished, time:6.39 seconds.\n"
     ]
    },
    {
     "name": "stderr",
     "output_type": "stream",
     "text": [
      "\n"
     ]
    },
    {
     "name": "stdout",
     "output_type": "stream",
     "text": [
      "\u001b[32m[1019 22:47:06 @saver.py:79]\u001b[0m Model saved to ../output/Chicago/DATGAN_05/model\\model-157325.\n",
      "\u001b[32m[1019 22:47:06 @monitor.py:467]\u001b[0m GAN_loss/discrim/accuracy_fake: 0.964\n",
      "\u001b[32m[1019 22:47:06 @monitor.py:467]\u001b[0m GAN_loss/discrim/accuracy_real: 0.052\n",
      "\u001b[32m[1019 22:47:06 @monitor.py:467]\u001b[0m GAN_loss/discrim/loss: 0.65019\n",
      "\u001b[32m[1019 22:47:06 @monitor.py:467]\u001b[0m GAN_loss/gen/final-g-loss: 0.97433\n",
      "\u001b[32m[1019 22:47:06 @monitor.py:467]\u001b[0m GAN_loss/gen/klloss: 0.039349\n",
      "\u001b[32m[1019 22:47:06 @monitor.py:467]\u001b[0m GAN_loss/gen/loss: 0.93499\n",
      "\u001b[32m[1019 22:47:06 @monitor.py:467]\u001b[0m QueueInput/queue_size: 50\n",
      "\u001b[32m[1019 22:47:06 @base.py:275]\u001b[0m Start Epoch 900 ...\n"
     ]
    },
    {
     "name": "stderr",
     "output_type": "stream",
     "text": [
      "100%|###################################################################################|175/175[00:05<00:00,29.52it/s]"
     ]
    },
    {
     "name": "stdout",
     "output_type": "stream",
     "text": [
      "\u001b[32m[1019 22:47:12 @base.py:285]\u001b[0m Epoch 900 (global_step 157500) finished, time:5.93 seconds.\n",
      "\u001b[32m[1019 22:47:12 @saver.py:79]\u001b[0m Model saved to ../output/Chicago/DATGAN_05/model\\model-157500.\n"
     ]
    },
    {
     "name": "stderr",
     "output_type": "stream",
     "text": [
      "\n"
     ]
    },
    {
     "name": "stdout",
     "output_type": "stream",
     "text": [
      "\u001b[32m[1019 22:47:12 @monitor.py:467]\u001b[0m GAN_loss/discrim/accuracy_fake: 0.978\n",
      "\u001b[32m[1019 22:47:12 @monitor.py:467]\u001b[0m GAN_loss/discrim/accuracy_real: 0.046\n",
      "\u001b[32m[1019 22:47:12 @monitor.py:467]\u001b[0m GAN_loss/discrim/loss: 0.64143\n",
      "\u001b[32m[1019 22:47:12 @monitor.py:467]\u001b[0m GAN_loss/gen/final-g-loss: 1.0428\n",
      "\u001b[32m[1019 22:47:12 @monitor.py:467]\u001b[0m GAN_loss/gen/klloss: 0.095489\n",
      "\u001b[32m[1019 22:47:12 @monitor.py:467]\u001b[0m GAN_loss/gen/loss: 0.94729\n",
      "\u001b[32m[1019 22:47:12 @monitor.py:467]\u001b[0m QueueInput/queue_size: 50\n",
      "\u001b[32m[1019 22:47:12 @base.py:275]\u001b[0m Start Epoch 901 ...\n"
     ]
    },
    {
     "name": "stderr",
     "output_type": "stream",
     "text": [
      "100%|###################################################################################|175/175[00:05<00:00,29.58it/s]"
     ]
    },
    {
     "name": "stdout",
     "output_type": "stream",
     "text": [
      "\u001b[32m[1019 22:47:18 @base.py:285]\u001b[0m Epoch 901 (global_step 157675) finished, time:5.92 seconds.\n",
      "\u001b[32m[1019 22:47:18 @saver.py:79]\u001b[0m Model saved to ../output/Chicago/DATGAN_05/model\\model-157675.\n"
     ]
    },
    {
     "name": "stderr",
     "output_type": "stream",
     "text": [
      "\n"
     ]
    },
    {
     "name": "stdout",
     "output_type": "stream",
     "text": [
      "\u001b[32m[1019 22:47:18 @monitor.py:467]\u001b[0m GAN_loss/discrim/accuracy_fake: 0.97\n",
      "\u001b[32m[1019 22:47:18 @monitor.py:467]\u001b[0m GAN_loss/discrim/accuracy_real: 0.05\n",
      "\u001b[32m[1019 22:47:18 @monitor.py:467]\u001b[0m GAN_loss/discrim/loss: 0.65113\n",
      "\u001b[32m[1019 22:47:18 @monitor.py:467]\u001b[0m GAN_loss/gen/final-g-loss: 0.99654\n",
      "\u001b[32m[1019 22:47:18 @monitor.py:467]\u001b[0m GAN_loss/gen/klloss: 0.045737\n",
      "\u001b[32m[1019 22:47:18 @monitor.py:467]\u001b[0m GAN_loss/gen/loss: 0.9508\n",
      "\u001b[32m[1019 22:47:18 @monitor.py:467]\u001b[0m QueueInput/queue_size: 50\n",
      "\u001b[32m[1019 22:47:18 @base.py:275]\u001b[0m Start Epoch 902 ...\n"
     ]
    },
    {
     "name": "stderr",
     "output_type": "stream",
     "text": [
      "100%|###################################################################################|175/175[00:05<00:00,29.51it/s]"
     ]
    },
    {
     "name": "stdout",
     "output_type": "stream",
     "text": [
      "\u001b[32m[1019 22:47:24 @base.py:285]\u001b[0m Epoch 902 (global_step 157850) finished, time:5.93 seconds.\n",
      "\u001b[32m[1019 22:47:24 @saver.py:79]\u001b[0m Model saved to ../output/Chicago/DATGAN_05/model\\model-157850.\n"
     ]
    },
    {
     "name": "stderr",
     "output_type": "stream",
     "text": [
      "\n"
     ]
    },
    {
     "name": "stdout",
     "output_type": "stream",
     "text": [
      "\u001b[32m[1019 22:47:25 @monitor.py:467]\u001b[0m GAN_loss/discrim/accuracy_fake: 0.97\n",
      "\u001b[32m[1019 22:47:25 @monitor.py:467]\u001b[0m GAN_loss/discrim/accuracy_real: 0.058\n",
      "\u001b[32m[1019 22:47:25 @monitor.py:467]\u001b[0m GAN_loss/discrim/loss: 0.64923\n",
      "\u001b[32m[1019 22:47:25 @monitor.py:467]\u001b[0m GAN_loss/gen/final-g-loss: 1.0025\n",
      "\u001b[32m[1019 22:47:25 @monitor.py:467]\u001b[0m GAN_loss/gen/klloss: 0.059941\n",
      "\u001b[32m[1019 22:47:25 @monitor.py:467]\u001b[0m GAN_loss/gen/loss: 0.94259\n",
      "\u001b[32m[1019 22:47:25 @monitor.py:467]\u001b[0m QueueInput/queue_size: 50\n",
      "\u001b[32m[1019 22:47:25 @base.py:275]\u001b[0m Start Epoch 903 ...\n"
     ]
    },
    {
     "name": "stderr",
     "output_type": "stream",
     "text": [
      "100%|###################################################################################|175/175[00:05<00:00,29.52it/s]"
     ]
    },
    {
     "name": "stdout",
     "output_type": "stream",
     "text": [
      "\u001b[32m[1019 22:47:31 @base.py:285]\u001b[0m Epoch 903 (global_step 158025) finished, time:5.93 seconds.\n",
      "\u001b[32m[1019 22:47:31 @saver.py:79]\u001b[0m Model saved to ../output/Chicago/DATGAN_05/model\\model-158025.\n"
     ]
    },
    {
     "name": "stderr",
     "output_type": "stream",
     "text": [
      "\n"
     ]
    },
    {
     "name": "stdout",
     "output_type": "stream",
     "text": [
      "\u001b[32m[1019 22:47:31 @monitor.py:467]\u001b[0m GAN_loss/discrim/accuracy_fake: 0.952\n",
      "\u001b[32m[1019 22:47:31 @monitor.py:467]\u001b[0m GAN_loss/discrim/accuracy_real: 0.076\n",
      "\u001b[32m[1019 22:47:31 @monitor.py:467]\u001b[0m GAN_loss/discrim/loss: 0.64947\n",
      "\u001b[32m[1019 22:47:31 @monitor.py:467]\u001b[0m GAN_loss/gen/final-g-loss: 0.98599\n",
      "\u001b[32m[1019 22:47:31 @monitor.py:467]\u001b[0m GAN_loss/gen/klloss: 0.053348\n",
      "\u001b[32m[1019 22:47:31 @monitor.py:467]\u001b[0m GAN_loss/gen/loss: 0.93264\n",
      "\u001b[32m[1019 22:47:31 @monitor.py:467]\u001b[0m QueueInput/queue_size: 50\n",
      "\u001b[32m[1019 22:47:31 @base.py:275]\u001b[0m Start Epoch 904 ...\n"
     ]
    },
    {
     "name": "stderr",
     "output_type": "stream",
     "text": [
      "100%|###################################################################################|175/175[00:06<00:00,27.55it/s]"
     ]
    },
    {
     "name": "stdout",
     "output_type": "stream",
     "text": [
      "\u001b[32m[1019 22:47:37 @base.py:285]\u001b[0m Epoch 904 (global_step 158200) finished, time:6.35 seconds.\n"
     ]
    },
    {
     "name": "stderr",
     "output_type": "stream",
     "text": [
      "\n"
     ]
    },
    {
     "name": "stdout",
     "output_type": "stream",
     "text": [
      "\u001b[32m[1019 22:47:37 @saver.py:79]\u001b[0m Model saved to ../output/Chicago/DATGAN_05/model\\model-158200.\n",
      "\u001b[32m[1019 22:47:37 @monitor.py:467]\u001b[0m GAN_loss/discrim/accuracy_fake: 0.962\n",
      "\u001b[32m[1019 22:47:37 @monitor.py:467]\u001b[0m GAN_loss/discrim/accuracy_real: 0.052\n",
      "\u001b[32m[1019 22:47:37 @monitor.py:467]\u001b[0m GAN_loss/discrim/loss: 0.65313\n",
      "\u001b[32m[1019 22:47:37 @monitor.py:467]\u001b[0m GAN_loss/gen/final-g-loss: 0.97818\n",
      "\u001b[32m[1019 22:47:37 @monitor.py:467]\u001b[0m GAN_loss/gen/klloss: 0.038132\n",
      "\u001b[32m[1019 22:47:37 @monitor.py:467]\u001b[0m GAN_loss/gen/loss: 0.94005\n",
      "\u001b[32m[1019 22:47:37 @monitor.py:467]\u001b[0m QueueInput/queue_size: 50\n",
      "\u001b[32m[1019 22:47:37 @base.py:275]\u001b[0m Start Epoch 905 ...\n"
     ]
    },
    {
     "name": "stderr",
     "output_type": "stream",
     "text": [
      "100%|###################################################################################|175/175[00:05<00:00,29.51it/s]"
     ]
    },
    {
     "name": "stdout",
     "output_type": "stream",
     "text": [
      "\u001b[32m[1019 22:47:43 @base.py:285]\u001b[0m Epoch 905 (global_step 158375) finished, time:5.93 seconds.\n",
      "\u001b[32m[1019 22:47:43 @saver.py:79]\u001b[0m Model saved to ../output/Chicago/DATGAN_05/model\\model-158375.\n"
     ]
    },
    {
     "name": "stderr",
     "output_type": "stream",
     "text": [
      "\n"
     ]
    },
    {
     "name": "stdout",
     "output_type": "stream",
     "text": [
      "\u001b[32m[1019 22:47:44 @monitor.py:467]\u001b[0m GAN_loss/discrim/accuracy_fake: 0.972\n",
      "\u001b[32m[1019 22:47:44 @monitor.py:467]\u001b[0m GAN_loss/discrim/accuracy_real: 0.06\n",
      "\u001b[32m[1019 22:47:44 @monitor.py:467]\u001b[0m GAN_loss/discrim/loss: 0.6465\n",
      "\u001b[32m[1019 22:47:44 @monitor.py:467]\u001b[0m GAN_loss/gen/final-g-loss: 0.99984\n",
      "\u001b[32m[1019 22:47:44 @monitor.py:467]\u001b[0m GAN_loss/gen/klloss: 0.048879\n",
      "\u001b[32m[1019 22:47:44 @monitor.py:467]\u001b[0m GAN_loss/gen/loss: 0.95096\n",
      "\u001b[32m[1019 22:47:44 @monitor.py:467]\u001b[0m QueueInput/queue_size: 50\n",
      "\u001b[32m[1019 22:47:44 @base.py:275]\u001b[0m Start Epoch 906 ...\n"
     ]
    },
    {
     "name": "stderr",
     "output_type": "stream",
     "text": [
      "100%|###################################################################################|175/175[00:05<00:00,29.49it/s]"
     ]
    },
    {
     "name": "stdout",
     "output_type": "stream",
     "text": [
      "\u001b[32m[1019 22:47:50 @base.py:285]\u001b[0m Epoch 906 (global_step 158550) finished, time:5.93 seconds.\n",
      "\u001b[32m[1019 22:47:50 @saver.py:79]\u001b[0m Model saved to ../output/Chicago/DATGAN_05/model\\model-158550.\n"
     ]
    },
    {
     "name": "stderr",
     "output_type": "stream",
     "text": [
      "\n"
     ]
    },
    {
     "name": "stdout",
     "output_type": "stream",
     "text": [
      "\u001b[32m[1019 22:47:50 @monitor.py:467]\u001b[0m GAN_loss/discrim/accuracy_fake: 0.976\n",
      "\u001b[32m[1019 22:47:50 @monitor.py:467]\u001b[0m GAN_loss/discrim/accuracy_real: 0.048\n",
      "\u001b[32m[1019 22:47:50 @monitor.py:467]\u001b[0m GAN_loss/discrim/loss: 0.65436\n",
      "\u001b[32m[1019 22:47:50 @monitor.py:467]\u001b[0m GAN_loss/gen/final-g-loss: 0.96278\n",
      "\u001b[32m[1019 22:47:50 @monitor.py:467]\u001b[0m GAN_loss/gen/klloss: 0.034229\n",
      "\u001b[32m[1019 22:47:50 @monitor.py:467]\u001b[0m GAN_loss/gen/loss: 0.92855\n",
      "\u001b[32m[1019 22:47:50 @monitor.py:467]\u001b[0m QueueInput/queue_size: 50\n",
      "\u001b[32m[1019 22:47:50 @base.py:275]\u001b[0m Start Epoch 907 ...\n"
     ]
    },
    {
     "name": "stderr",
     "output_type": "stream",
     "text": [
      "100%|###################################################################################|175/175[00:05<00:00,29.56it/s]"
     ]
    },
    {
     "name": "stdout",
     "output_type": "stream",
     "text": [
      "\u001b[32m[1019 22:47:56 @base.py:285]\u001b[0m Epoch 907 (global_step 158725) finished, time:5.92 seconds.\n",
      "\u001b[32m[1019 22:47:56 @saver.py:79]\u001b[0m Model saved to ../output/Chicago/DATGAN_05/model\\model-158725.\n"
     ]
    },
    {
     "name": "stderr",
     "output_type": "stream",
     "text": [
      "\n"
     ]
    },
    {
     "name": "stdout",
     "output_type": "stream",
     "text": [
      "\u001b[32m[1019 22:47:56 @monitor.py:467]\u001b[0m GAN_loss/discrim/accuracy_fake: 0.968\n",
      "\u001b[32m[1019 22:47:56 @monitor.py:467]\u001b[0m GAN_loss/discrim/accuracy_real: 0.044\n",
      "\u001b[32m[1019 22:47:56 @monitor.py:467]\u001b[0m GAN_loss/discrim/loss: 0.64645\n",
      "\u001b[32m[1019 22:47:56 @monitor.py:467]\u001b[0m GAN_loss/gen/final-g-loss: 0.98348\n",
      "\u001b[32m[1019 22:47:56 @monitor.py:467]\u001b[0m GAN_loss/gen/klloss: 0.041517\n",
      "\u001b[32m[1019 22:47:56 @monitor.py:467]\u001b[0m GAN_loss/gen/loss: 0.94196\n",
      "\u001b[32m[1019 22:47:56 @monitor.py:467]\u001b[0m QueueInput/queue_size: 50\n",
      "\u001b[32m[1019 22:47:56 @base.py:275]\u001b[0m Start Epoch 908 ...\n"
     ]
    },
    {
     "name": "stderr",
     "output_type": "stream",
     "text": [
      "100%|###################################################################################|175/175[00:06<00:00,28.79it/s]"
     ]
    },
    {
     "name": "stdout",
     "output_type": "stream",
     "text": [
      "\u001b[32m[1019 22:48:02 @base.py:285]\u001b[0m Epoch 908 (global_step 158900) finished, time:6.08 seconds.\n",
      "\u001b[32m[1019 22:48:02 @saver.py:79]\u001b[0m Model saved to ../output/Chicago/DATGAN_05/model\\model-158900.\n"
     ]
    },
    {
     "name": "stderr",
     "output_type": "stream",
     "text": [
      "\n"
     ]
    },
    {
     "name": "stdout",
     "output_type": "stream",
     "text": [
      "\u001b[32m[1019 22:48:02 @monitor.py:467]\u001b[0m GAN_loss/discrim/accuracy_fake: 0.97\n",
      "\u001b[32m[1019 22:48:02 @monitor.py:467]\u001b[0m GAN_loss/discrim/accuracy_real: 0.052\n",
      "\u001b[32m[1019 22:48:02 @monitor.py:467]\u001b[0m GAN_loss/discrim/loss: 0.64827\n",
      "\u001b[32m[1019 22:48:02 @monitor.py:467]\u001b[0m GAN_loss/gen/final-g-loss: 1.0091\n",
      "\u001b[32m[1019 22:48:02 @monitor.py:467]\u001b[0m GAN_loss/gen/klloss: 0.073539\n",
      "\u001b[32m[1019 22:48:02 @monitor.py:467]\u001b[0m GAN_loss/gen/loss: 0.93561\n",
      "\u001b[32m[1019 22:48:02 @monitor.py:467]\u001b[0m QueueInput/queue_size: 50\n",
      "\u001b[32m[1019 22:48:02 @base.py:275]\u001b[0m Start Epoch 909 ...\n"
     ]
    },
    {
     "name": "stderr",
     "output_type": "stream",
     "text": [
      "100%|###################################################################################|175/175[00:06<00:00,28.22it/s]"
     ]
    },
    {
     "name": "stdout",
     "output_type": "stream",
     "text": [
      "\u001b[32m[1019 22:48:09 @base.py:285]\u001b[0m Epoch 909 (global_step 159075) finished, time:6.2 seconds.\n",
      "\u001b[32m[1019 22:48:09 @saver.py:79]\u001b[0m Model saved to ../output/Chicago/DATGAN_05/model\\model-159075.\n"
     ]
    },
    {
     "name": "stderr",
     "output_type": "stream",
     "text": [
      "\n"
     ]
    },
    {
     "name": "stdout",
     "output_type": "stream",
     "text": [
      "\u001b[32m[1019 22:48:09 @monitor.py:467]\u001b[0m GAN_loss/discrim/accuracy_fake: 0.984\n",
      "\u001b[32m[1019 22:48:09 @monitor.py:467]\u001b[0m GAN_loss/discrim/accuracy_real: 0.042\n",
      "\u001b[32m[1019 22:48:09 @monitor.py:467]\u001b[0m GAN_loss/discrim/loss: 0.64738\n",
      "\u001b[32m[1019 22:48:09 @monitor.py:467]\u001b[0m GAN_loss/gen/final-g-loss: 0.99978\n",
      "\u001b[32m[1019 22:48:09 @monitor.py:467]\u001b[0m GAN_loss/gen/klloss: 0.043238\n",
      "\u001b[32m[1019 22:48:09 @monitor.py:467]\u001b[0m GAN_loss/gen/loss: 0.95654\n",
      "\u001b[32m[1019 22:48:09 @monitor.py:467]\u001b[0m QueueInput/queue_size: 50\n",
      "\u001b[32m[1019 22:48:09 @base.py:275]\u001b[0m Start Epoch 910 ...\n"
     ]
    },
    {
     "name": "stderr",
     "output_type": "stream",
     "text": [
      "100%|###################################################################################|175/175[00:05<00:00,29.56it/s]"
     ]
    },
    {
     "name": "stdout",
     "output_type": "stream",
     "text": [
      "\u001b[32m[1019 22:48:15 @base.py:285]\u001b[0m Epoch 910 (global_step 159250) finished, time:5.92 seconds.\n",
      "\u001b[32m[1019 22:48:15 @saver.py:79]\u001b[0m Model saved to ../output/Chicago/DATGAN_05/model\\model-159250.\n"
     ]
    },
    {
     "name": "stderr",
     "output_type": "stream",
     "text": [
      "\n"
     ]
    },
    {
     "name": "stdout",
     "output_type": "stream",
     "text": [
      "\u001b[32m[1019 22:48:15 @monitor.py:467]\u001b[0m GAN_loss/discrim/accuracy_fake: 0.974\n",
      "\u001b[32m[1019 22:48:15 @monitor.py:467]\u001b[0m GAN_loss/discrim/accuracy_real: 0.052\n",
      "\u001b[32m[1019 22:48:15 @monitor.py:467]\u001b[0m GAN_loss/discrim/loss: 0.65044\n",
      "\u001b[32m[1019 22:48:15 @monitor.py:467]\u001b[0m GAN_loss/gen/final-g-loss: 1.0135\n",
      "\u001b[32m[1019 22:48:15 @monitor.py:467]\u001b[0m GAN_loss/gen/klloss: 0.077915\n",
      "\u001b[32m[1019 22:48:15 @monitor.py:467]\u001b[0m GAN_loss/gen/loss: 0.93555\n",
      "\u001b[32m[1019 22:48:15 @monitor.py:467]\u001b[0m QueueInput/queue_size: 50\n",
      "\u001b[32m[1019 22:48:15 @base.py:275]\u001b[0m Start Epoch 911 ...\n"
     ]
    },
    {
     "name": "stderr",
     "output_type": "stream",
     "text": [
      "100%|###################################################################################|175/175[00:05<00:00,29.53it/s]"
     ]
    },
    {
     "name": "stdout",
     "output_type": "stream",
     "text": [
      "\u001b[32m[1019 22:48:21 @base.py:285]\u001b[0m Epoch 911 (global_step 159425) finished, time:5.93 seconds.\n",
      "\u001b[32m[1019 22:48:21 @saver.py:79]\u001b[0m Model saved to ../output/Chicago/DATGAN_05/model\\model-159425.\n"
     ]
    },
    {
     "name": "stderr",
     "output_type": "stream",
     "text": [
      "\n"
     ]
    },
    {
     "name": "stdout",
     "output_type": "stream",
     "text": [
      "\u001b[32m[1019 22:48:21 @monitor.py:467]\u001b[0m GAN_loss/discrim/accuracy_fake: 0.962\n",
      "\u001b[32m[1019 22:48:21 @monitor.py:467]\u001b[0m GAN_loss/discrim/accuracy_real: 0.058\n",
      "\u001b[32m[1019 22:48:21 @monitor.py:467]\u001b[0m GAN_loss/discrim/loss: 0.65147\n",
      "\u001b[32m[1019 22:48:21 @monitor.py:467]\u001b[0m GAN_loss/gen/final-g-loss: 0.97945\n",
      "\u001b[32m[1019 22:48:21 @monitor.py:467]\u001b[0m GAN_loss/gen/klloss: 0.047078\n",
      "\u001b[32m[1019 22:48:21 @monitor.py:467]\u001b[0m GAN_loss/gen/loss: 0.93237\n",
      "\u001b[32m[1019 22:48:21 @monitor.py:467]\u001b[0m QueueInput/queue_size: 50\n",
      "\u001b[32m[1019 22:48:21 @base.py:275]\u001b[0m Start Epoch 912 ...\n"
     ]
    },
    {
     "name": "stderr",
     "output_type": "stream",
     "text": [
      "100%|###################################################################################|175/175[00:05<00:00,29.56it/s]"
     ]
    },
    {
     "name": "stdout",
     "output_type": "stream",
     "text": [
      "\u001b[32m[1019 22:48:27 @base.py:285]\u001b[0m Epoch 912 (global_step 159600) finished, time:5.92 seconds.\n",
      "\u001b[32m[1019 22:48:27 @saver.py:79]\u001b[0m Model saved to ../output/Chicago/DATGAN_05/model\\model-159600.\n"
     ]
    },
    {
     "name": "stderr",
     "output_type": "stream",
     "text": [
      "\n"
     ]
    },
    {
     "name": "stdout",
     "output_type": "stream",
     "text": [
      "\u001b[32m[1019 22:48:27 @monitor.py:467]\u001b[0m GAN_loss/discrim/accuracy_fake: 0.972\n",
      "\u001b[32m[1019 22:48:27 @monitor.py:467]\u001b[0m GAN_loss/discrim/accuracy_real: 0.042\n",
      "\u001b[32m[1019 22:48:27 @monitor.py:467]\u001b[0m GAN_loss/discrim/loss: 0.65603\n",
      "\u001b[32m[1019 22:48:27 @monitor.py:467]\u001b[0m GAN_loss/gen/final-g-loss: 1.0061\n",
      "\u001b[32m[1019 22:48:27 @monitor.py:467]\u001b[0m GAN_loss/gen/klloss: 0.0708\n",
      "\u001b[32m[1019 22:48:27 @monitor.py:467]\u001b[0m GAN_loss/gen/loss: 0.93533\n",
      "\u001b[32m[1019 22:48:27 @monitor.py:467]\u001b[0m QueueInput/queue_size: 50\n",
      "\u001b[32m[1019 22:48:27 @base.py:275]\u001b[0m Start Epoch 913 ...\n"
     ]
    },
    {
     "name": "stderr",
     "output_type": "stream",
     "text": [
      "100%|###################################################################################|175/175[00:06<00:00,27.89it/s]"
     ]
    },
    {
     "name": "stdout",
     "output_type": "stream",
     "text": [
      "\u001b[32m[1019 22:48:34 @base.py:285]\u001b[0m Epoch 913 (global_step 159775) finished, time:6.27 seconds.\n",
      "\u001b[32m[1019 22:48:34 @saver.py:79]\u001b[0m Model saved to ../output/Chicago/DATGAN_05/model\\model-159775.\n"
     ]
    },
    {
     "name": "stderr",
     "output_type": "stream",
     "text": [
      "\n"
     ]
    },
    {
     "name": "stdout",
     "output_type": "stream",
     "text": [
      "\u001b[32m[1019 22:48:34 @monitor.py:467]\u001b[0m GAN_loss/discrim/accuracy_fake: 0.966\n",
      "\u001b[32m[1019 22:48:34 @monitor.py:467]\u001b[0m GAN_loss/discrim/accuracy_real: 0.058\n",
      "\u001b[32m[1019 22:48:34 @monitor.py:467]\u001b[0m GAN_loss/discrim/loss: 0.65171\n",
      "\u001b[32m[1019 22:48:34 @monitor.py:467]\u001b[0m GAN_loss/gen/final-g-loss: 1.0054\n",
      "\u001b[32m[1019 22:48:34 @monitor.py:467]\u001b[0m GAN_loss/gen/klloss: 0.066443\n",
      "\u001b[32m[1019 22:48:34 @monitor.py:467]\u001b[0m GAN_loss/gen/loss: 0.93893\n",
      "\u001b[32m[1019 22:48:34 @monitor.py:467]\u001b[0m QueueInput/queue_size: 50\n",
      "\u001b[32m[1019 22:48:34 @base.py:275]\u001b[0m Start Epoch 914 ...\n"
     ]
    },
    {
     "name": "stderr",
     "output_type": "stream",
     "text": [
      "100%|###################################################################################|175/175[00:06<00:00,28.97it/s]"
     ]
    },
    {
     "name": "stdout",
     "output_type": "stream",
     "text": [
      "\u001b[32m[1019 22:48:40 @base.py:285]\u001b[0m Epoch 914 (global_step 159950) finished, time:6.04 seconds.\n",
      "\u001b[32m[1019 22:48:40 @saver.py:79]\u001b[0m Model saved to ../output/Chicago/DATGAN_05/model\\model-159950.\n"
     ]
    },
    {
     "name": "stderr",
     "output_type": "stream",
     "text": [
      "\n"
     ]
    },
    {
     "name": "stdout",
     "output_type": "stream",
     "text": [
      "\u001b[32m[1019 22:48:40 @monitor.py:467]\u001b[0m GAN_loss/discrim/accuracy_fake: 0.964\n",
      "\u001b[32m[1019 22:48:40 @monitor.py:467]\u001b[0m GAN_loss/discrim/accuracy_real: 0.056\n",
      "\u001b[32m[1019 22:48:40 @monitor.py:467]\u001b[0m GAN_loss/discrim/loss: 0.65387\n",
      "\u001b[32m[1019 22:48:40 @monitor.py:467]\u001b[0m GAN_loss/gen/final-g-loss: 0.98924\n",
      "\u001b[32m[1019 22:48:40 @monitor.py:467]\u001b[0m GAN_loss/gen/klloss: 0.052382\n",
      "\u001b[32m[1019 22:48:40 @monitor.py:467]\u001b[0m GAN_loss/gen/loss: 0.93686\n",
      "\u001b[32m[1019 22:48:40 @monitor.py:467]\u001b[0m QueueInput/queue_size: 50\n",
      "\u001b[32m[1019 22:48:40 @base.py:275]\u001b[0m Start Epoch 915 ...\n"
     ]
    },
    {
     "name": "stderr",
     "output_type": "stream",
     "text": [
      "100%|###################################################################################|175/175[00:05<00:00,29.32it/s]"
     ]
    },
    {
     "name": "stdout",
     "output_type": "stream",
     "text": [
      "\u001b[32m[1019 22:48:46 @base.py:285]\u001b[0m Epoch 915 (global_step 160125) finished, time:5.97 seconds.\n",
      "\u001b[32m[1019 22:48:46 @saver.py:79]\u001b[0m Model saved to ../output/Chicago/DATGAN_05/model\\model-160125.\n"
     ]
    },
    {
     "name": "stderr",
     "output_type": "stream",
     "text": [
      "\n"
     ]
    },
    {
     "name": "stdout",
     "output_type": "stream",
     "text": [
      "\u001b[32m[1019 22:48:46 @monitor.py:467]\u001b[0m GAN_loss/discrim/accuracy_fake: 0.968\n",
      "\u001b[32m[1019 22:48:46 @monitor.py:467]\u001b[0m GAN_loss/discrim/accuracy_real: 0.052\n",
      "\u001b[32m[1019 22:48:46 @monitor.py:467]\u001b[0m GAN_loss/discrim/loss: 0.65047\n",
      "\u001b[32m[1019 22:48:46 @monitor.py:467]\u001b[0m GAN_loss/gen/final-g-loss: 1.0061\n",
      "\u001b[32m[1019 22:48:46 @monitor.py:467]\u001b[0m GAN_loss/gen/klloss: 0.055778\n",
      "\u001b[32m[1019 22:48:46 @monitor.py:467]\u001b[0m GAN_loss/gen/loss: 0.95028\n",
      "\u001b[32m[1019 22:48:46 @monitor.py:467]\u001b[0m QueueInput/queue_size: 50\n",
      "\u001b[32m[1019 22:48:46 @base.py:275]\u001b[0m Start Epoch 916 ...\n"
     ]
    },
    {
     "name": "stderr",
     "output_type": "stream",
     "text": [
      "100%|###################################################################################|175/175[00:05<00:00,29.52it/s]"
     ]
    },
    {
     "name": "stdout",
     "output_type": "stream",
     "text": [
      "\u001b[32m[1019 22:48:52 @base.py:285]\u001b[0m Epoch 916 (global_step 160300) finished, time:5.93 seconds.\n",
      "\u001b[32m[1019 22:48:52 @saver.py:79]\u001b[0m Model saved to ../output/Chicago/DATGAN_05/model\\model-160300.\n"
     ]
    },
    {
     "name": "stderr",
     "output_type": "stream",
     "text": [
      "\n"
     ]
    },
    {
     "name": "stdout",
     "output_type": "stream",
     "text": [
      "\u001b[32m[1019 22:48:53 @monitor.py:467]\u001b[0m GAN_loss/discrim/accuracy_fake: 0.974\n",
      "\u001b[32m[1019 22:48:53 @monitor.py:467]\u001b[0m GAN_loss/discrim/accuracy_real: 0.034\n",
      "\u001b[32m[1019 22:48:53 @monitor.py:467]\u001b[0m GAN_loss/discrim/loss: 0.65351\n",
      "\u001b[32m[1019 22:48:53 @monitor.py:467]\u001b[0m GAN_loss/gen/final-g-loss: 0.9977\n",
      "\u001b[32m[1019 22:48:53 @monitor.py:467]\u001b[0m GAN_loss/gen/klloss: 0.059886\n",
      "\u001b[32m[1019 22:48:53 @monitor.py:467]\u001b[0m GAN_loss/gen/loss: 0.93781\n",
      "\u001b[32m[1019 22:48:53 @monitor.py:467]\u001b[0m QueueInput/queue_size: 50\n",
      "\u001b[32m[1019 22:48:53 @base.py:275]\u001b[0m Start Epoch 917 ...\n"
     ]
    },
    {
     "name": "stderr",
     "output_type": "stream",
     "text": [
      "100%|###################################################################################|175/175[00:05<00:00,29.59it/s]"
     ]
    },
    {
     "name": "stdout",
     "output_type": "stream",
     "text": [
      "\u001b[32m[1019 22:48:58 @base.py:285]\u001b[0m Epoch 917 (global_step 160475) finished, time:5.91 seconds.\n",
      "\u001b[32m[1019 22:48:59 @saver.py:79]\u001b[0m Model saved to ../output/Chicago/DATGAN_05/model\\model-160475.\n"
     ]
    },
    {
     "name": "stderr",
     "output_type": "stream",
     "text": [
      "\n"
     ]
    },
    {
     "name": "stdout",
     "output_type": "stream",
     "text": [
      "\u001b[32m[1019 22:48:59 @monitor.py:467]\u001b[0m GAN_loss/discrim/accuracy_fake: 0.98\n",
      "\u001b[32m[1019 22:48:59 @monitor.py:467]\u001b[0m GAN_loss/discrim/accuracy_real: 0.048\n",
      "\u001b[32m[1019 22:48:59 @monitor.py:467]\u001b[0m GAN_loss/discrim/loss: 0.65434\n",
      "\u001b[32m[1019 22:48:59 @monitor.py:467]\u001b[0m GAN_loss/gen/final-g-loss: 0.99741\n",
      "\u001b[32m[1019 22:48:59 @monitor.py:467]\u001b[0m GAN_loss/gen/klloss: 0.053271\n",
      "\u001b[32m[1019 22:48:59 @monitor.py:467]\u001b[0m GAN_loss/gen/loss: 0.94413\n",
      "\u001b[32m[1019 22:48:59 @monitor.py:467]\u001b[0m QueueInput/queue_size: 50\n",
      "\u001b[32m[1019 22:48:59 @base.py:275]\u001b[0m Start Epoch 918 ...\n"
     ]
    },
    {
     "name": "stderr",
     "output_type": "stream",
     "text": [
      "100%|###################################################################################|175/175[00:06<00:00,27.38it/s]"
     ]
    },
    {
     "name": "stdout",
     "output_type": "stream",
     "text": [
      "\u001b[32m[1019 22:49:05 @base.py:285]\u001b[0m Epoch 918 (global_step 160650) finished, time:6.39 seconds.\n"
     ]
    },
    {
     "name": "stderr",
     "output_type": "stream",
     "text": [
      "\n"
     ]
    },
    {
     "name": "stdout",
     "output_type": "stream",
     "text": [
      "\u001b[32m[1019 22:49:05 @saver.py:79]\u001b[0m Model saved to ../output/Chicago/DATGAN_05/model\\model-160650.\n",
      "\u001b[32m[1019 22:49:05 @monitor.py:467]\u001b[0m GAN_loss/discrim/accuracy_fake: 0.976\n",
      "\u001b[32m[1019 22:49:05 @monitor.py:467]\u001b[0m GAN_loss/discrim/accuracy_real: 0.058\n",
      "\u001b[32m[1019 22:49:05 @monitor.py:467]\u001b[0m GAN_loss/discrim/loss: 0.65366\n",
      "\u001b[32m[1019 22:49:05 @monitor.py:467]\u001b[0m GAN_loss/gen/final-g-loss: 1.0127\n",
      "\u001b[32m[1019 22:49:05 @monitor.py:467]\u001b[0m GAN_loss/gen/klloss: 0.071459\n",
      "\u001b[32m[1019 22:49:05 @monitor.py:467]\u001b[0m GAN_loss/gen/loss: 0.94123\n",
      "\u001b[32m[1019 22:49:05 @monitor.py:467]\u001b[0m QueueInput/queue_size: 50\n",
      "\u001b[32m[1019 22:49:05 @base.py:275]\u001b[0m Start Epoch 919 ...\n"
     ]
    },
    {
     "name": "stderr",
     "output_type": "stream",
     "text": [
      "100%|###################################################################################|175/175[00:06<00:00,27.91it/s]"
     ]
    },
    {
     "name": "stdout",
     "output_type": "stream",
     "text": [
      "\u001b[32m[1019 22:49:12 @base.py:285]\u001b[0m Epoch 919 (global_step 160825) finished, time:6.27 seconds.\n",
      "\u001b[32m[1019 22:49:12 @saver.py:79]\u001b[0m Model saved to ../output/Chicago/DATGAN_05/model\\model-160825.\n"
     ]
    },
    {
     "name": "stderr",
     "output_type": "stream",
     "text": [
      "\n"
     ]
    },
    {
     "name": "stdout",
     "output_type": "stream",
     "text": [
      "\u001b[32m[1019 22:49:12 @monitor.py:467]\u001b[0m GAN_loss/discrim/accuracy_fake: 0.97\n",
      "\u001b[32m[1019 22:49:12 @monitor.py:467]\u001b[0m GAN_loss/discrim/accuracy_real: 0.048\n",
      "\u001b[32m[1019 22:49:12 @monitor.py:467]\u001b[0m GAN_loss/discrim/loss: 0.65011\n",
      "\u001b[32m[1019 22:49:12 @monitor.py:467]\u001b[0m GAN_loss/gen/final-g-loss: 1.0017\n",
      "\u001b[32m[1019 22:49:12 @monitor.py:467]\u001b[0m GAN_loss/gen/klloss: 0.056678\n",
      "\u001b[32m[1019 22:49:12 @monitor.py:467]\u001b[0m GAN_loss/gen/loss: 0.94502\n",
      "\u001b[32m[1019 22:49:12 @monitor.py:467]\u001b[0m QueueInput/queue_size: 50\n",
      "\u001b[32m[1019 22:49:12 @base.py:275]\u001b[0m Start Epoch 920 ...\n"
     ]
    },
    {
     "name": "stderr",
     "output_type": "stream",
     "text": [
      "100%|###################################################################################|175/175[00:05<00:00,29.37it/s]"
     ]
    },
    {
     "name": "stdout",
     "output_type": "stream",
     "text": [
      "\u001b[32m[1019 22:49:18 @base.py:285]\u001b[0m Epoch 920 (global_step 161000) finished, time:5.96 seconds.\n",
      "\u001b[32m[1019 22:49:18 @saver.py:79]\u001b[0m Model saved to ../output/Chicago/DATGAN_05/model\\model-161000.\n"
     ]
    },
    {
     "name": "stderr",
     "output_type": "stream",
     "text": [
      "\n"
     ]
    },
    {
     "name": "stdout",
     "output_type": "stream",
     "text": [
      "\u001b[32m[1019 22:49:18 @monitor.py:467]\u001b[0m GAN_loss/discrim/accuracy_fake: 0.972\n",
      "\u001b[32m[1019 22:49:18 @monitor.py:467]\u001b[0m GAN_loss/discrim/accuracy_real: 0.05\n",
      "\u001b[32m[1019 22:49:18 @monitor.py:467]\u001b[0m GAN_loss/discrim/loss: 0.65413\n",
      "\u001b[32m[1019 22:49:18 @monitor.py:467]\u001b[0m GAN_loss/gen/final-g-loss: 0.99705\n",
      "\u001b[32m[1019 22:49:18 @monitor.py:467]\u001b[0m GAN_loss/gen/klloss: 0.05232\n",
      "\u001b[32m[1019 22:49:18 @monitor.py:467]\u001b[0m GAN_loss/gen/loss: 0.94473\n",
      "\u001b[32m[1019 22:49:18 @monitor.py:467]\u001b[0m QueueInput/queue_size: 50\n",
      "\u001b[32m[1019 22:49:18 @base.py:275]\u001b[0m Start Epoch 921 ...\n"
     ]
    },
    {
     "name": "stderr",
     "output_type": "stream",
     "text": [
      "100%|###################################################################################|175/175[00:05<00:00,29.55it/s]"
     ]
    },
    {
     "name": "stdout",
     "output_type": "stream",
     "text": [
      "\u001b[32m[1019 22:49:24 @base.py:285]\u001b[0m Epoch 921 (global_step 161175) finished, time:5.92 seconds.\n",
      "\u001b[32m[1019 22:49:24 @saver.py:79]\u001b[0m Model saved to ../output/Chicago/DATGAN_05/model\\model-161175.\n"
     ]
    },
    {
     "name": "stderr",
     "output_type": "stream",
     "text": [
      "\n"
     ]
    },
    {
     "name": "stdout",
     "output_type": "stream",
     "text": [
      "\u001b[32m[1019 22:49:24 @monitor.py:467]\u001b[0m GAN_loss/discrim/accuracy_fake: 0.964\n",
      "\u001b[32m[1019 22:49:24 @monitor.py:467]\u001b[0m GAN_loss/discrim/accuracy_real: 0.052\n",
      "\u001b[32m[1019 22:49:24 @monitor.py:467]\u001b[0m GAN_loss/discrim/loss: 0.64919\n",
      "\u001b[32m[1019 22:49:24 @monitor.py:467]\u001b[0m GAN_loss/gen/final-g-loss: 0.98889\n",
      "\u001b[32m[1019 22:49:24 @monitor.py:467]\u001b[0m GAN_loss/gen/klloss: 0.043593\n",
      "\u001b[32m[1019 22:49:24 @monitor.py:467]\u001b[0m GAN_loss/gen/loss: 0.9453\n",
      "\u001b[32m[1019 22:49:24 @monitor.py:467]\u001b[0m QueueInput/queue_size: 50\n",
      "\u001b[32m[1019 22:49:24 @base.py:275]\u001b[0m Start Epoch 922 ...\n"
     ]
    },
    {
     "name": "stderr",
     "output_type": "stream",
     "text": [
      "100%|###################################################################################|175/175[00:05<00:00,29.63it/s]"
     ]
    },
    {
     "name": "stdout",
     "output_type": "stream",
     "text": [
      "\u001b[32m[1019 22:49:30 @base.py:285]\u001b[0m Epoch 922 (global_step 161350) finished, time:5.91 seconds.\n",
      "\u001b[32m[1019 22:49:30 @saver.py:79]\u001b[0m Model saved to ../output/Chicago/DATGAN_05/model\\model-161350.\n"
     ]
    },
    {
     "name": "stderr",
     "output_type": "stream",
     "text": [
      "\n"
     ]
    },
    {
     "name": "stdout",
     "output_type": "stream",
     "text": [
      "\u001b[32m[1019 22:49:30 @monitor.py:467]\u001b[0m GAN_loss/discrim/accuracy_fake: 0.96\n",
      "\u001b[32m[1019 22:49:30 @monitor.py:467]\u001b[0m GAN_loss/discrim/accuracy_real: 0.048\n",
      "\u001b[32m[1019 22:49:31 @monitor.py:467]\u001b[0m GAN_loss/discrim/loss: 0.65277\n",
      "\u001b[32m[1019 22:49:31 @monitor.py:467]\u001b[0m GAN_loss/gen/final-g-loss: 0.98991\n",
      "\u001b[32m[1019 22:49:31 @monitor.py:467]\u001b[0m GAN_loss/gen/klloss: 0.047397\n",
      "\u001b[32m[1019 22:49:31 @monitor.py:467]\u001b[0m GAN_loss/gen/loss: 0.94252\n",
      "\u001b[32m[1019 22:49:31 @monitor.py:467]\u001b[0m QueueInput/queue_size: 50\n",
      "\u001b[32m[1019 22:49:31 @base.py:275]\u001b[0m Start Epoch 923 ...\n"
     ]
    },
    {
     "name": "stderr",
     "output_type": "stream",
     "text": [
      "100%|###################################################################################|175/175[00:06<00:00,27.48it/s]"
     ]
    },
    {
     "name": "stdout",
     "output_type": "stream",
     "text": [
      "\u001b[32m[1019 22:49:37 @base.py:285]\u001b[0m Epoch 923 (global_step 161525) finished, time:6.37 seconds.\n"
     ]
    },
    {
     "name": "stderr",
     "output_type": "stream",
     "text": [
      "\n"
     ]
    },
    {
     "name": "stdout",
     "output_type": "stream",
     "text": [
      "\u001b[32m[1019 22:49:37 @saver.py:79]\u001b[0m Model saved to ../output/Chicago/DATGAN_05/model\\model-161525.\n",
      "\u001b[32m[1019 22:49:37 @monitor.py:467]\u001b[0m GAN_loss/discrim/accuracy_fake: 0.958\n",
      "\u001b[32m[1019 22:49:37 @monitor.py:467]\u001b[0m GAN_loss/discrim/accuracy_real: 0.066\n",
      "\u001b[32m[1019 22:49:37 @monitor.py:467]\u001b[0m GAN_loss/discrim/loss: 0.64117\n",
      "\u001b[32m[1019 22:49:37 @monitor.py:467]\u001b[0m GAN_loss/gen/final-g-loss: 1.0167\n",
      "\u001b[32m[1019 22:49:37 @monitor.py:467]\u001b[0m GAN_loss/gen/klloss: 0.070211\n",
      "\u001b[32m[1019 22:49:37 @monitor.py:467]\u001b[0m GAN_loss/gen/loss: 0.94649\n",
      "\u001b[32m[1019 22:49:37 @monitor.py:467]\u001b[0m QueueInput/queue_size: 50\n",
      "\u001b[32m[1019 22:49:37 @base.py:275]\u001b[0m Start Epoch 924 ...\n"
     ]
    },
    {
     "name": "stderr",
     "output_type": "stream",
     "text": [
      "100%|###################################################################################|175/175[00:05<00:00,29.62it/s]"
     ]
    },
    {
     "name": "stdout",
     "output_type": "stream",
     "text": [
      "\u001b[32m[1019 22:49:43 @base.py:285]\u001b[0m Epoch 924 (global_step 161700) finished, time:5.91 seconds.\n",
      "\u001b[32m[1019 22:49:43 @saver.py:79]\u001b[0m Model saved to ../output/Chicago/DATGAN_05/model\\model-161700.\n"
     ]
    },
    {
     "name": "stderr",
     "output_type": "stream",
     "text": [
      "\n"
     ]
    },
    {
     "name": "stdout",
     "output_type": "stream",
     "text": [
      "\u001b[32m[1019 22:49:43 @monitor.py:467]\u001b[0m GAN_loss/discrim/accuracy_fake: 0.968\n",
      "\u001b[32m[1019 22:49:43 @monitor.py:467]\u001b[0m GAN_loss/discrim/accuracy_real: 0.066\n",
      "\u001b[32m[1019 22:49:43 @monitor.py:467]\u001b[0m GAN_loss/discrim/loss: 0.6495\n",
      "\u001b[32m[1019 22:49:43 @monitor.py:467]\u001b[0m GAN_loss/gen/final-g-loss: 0.97641\n",
      "\u001b[32m[1019 22:49:43 @monitor.py:467]\u001b[0m GAN_loss/gen/klloss: 0.039923\n",
      "\u001b[32m[1019 22:49:43 @monitor.py:467]\u001b[0m GAN_loss/gen/loss: 0.93649\n",
      "\u001b[32m[1019 22:49:43 @monitor.py:467]\u001b[0m QueueInput/queue_size: 50\n",
      "\u001b[32m[1019 22:49:43 @base.py:275]\u001b[0m Start Epoch 925 ...\n"
     ]
    },
    {
     "name": "stderr",
     "output_type": "stream",
     "text": [
      "100%|###################################################################################|175/175[00:05<00:00,29.57it/s]"
     ]
    },
    {
     "name": "stdout",
     "output_type": "stream",
     "text": [
      "\u001b[32m[1019 22:49:49 @base.py:285]\u001b[0m Epoch 925 (global_step 161875) finished, time:5.92 seconds.\n",
      "\u001b[32m[1019 22:49:49 @saver.py:79]\u001b[0m Model saved to ../output/Chicago/DATGAN_05/model\\model-161875.\n"
     ]
    },
    {
     "name": "stderr",
     "output_type": "stream",
     "text": [
      "\n"
     ]
    },
    {
     "name": "stdout",
     "output_type": "stream",
     "text": [
      "\u001b[32m[1019 22:49:49 @monitor.py:467]\u001b[0m GAN_loss/discrim/accuracy_fake: 0.966\n",
      "\u001b[32m[1019 22:49:49 @monitor.py:467]\u001b[0m GAN_loss/discrim/accuracy_real: 0.054\n",
      "\u001b[32m[1019 22:49:49 @monitor.py:467]\u001b[0m GAN_loss/discrim/loss: 0.64852\n",
      "\u001b[32m[1019 22:49:49 @monitor.py:467]\u001b[0m GAN_loss/gen/final-g-loss: 0.99866\n",
      "\u001b[32m[1019 22:49:49 @monitor.py:467]\u001b[0m GAN_loss/gen/klloss: 0.054308\n",
      "\u001b[32m[1019 22:49:49 @monitor.py:467]\u001b[0m GAN_loss/gen/loss: 0.94436\n",
      "\u001b[32m[1019 22:49:49 @monitor.py:467]\u001b[0m QueueInput/queue_size: 50\n",
      "\u001b[32m[1019 22:49:49 @base.py:275]\u001b[0m Start Epoch 926 ...\n"
     ]
    },
    {
     "name": "stderr",
     "output_type": "stream",
     "text": [
      "100%|###################################################################################|175/175[00:05<00:00,29.61it/s]"
     ]
    },
    {
     "name": "stdout",
     "output_type": "stream",
     "text": [
      "\u001b[32m[1019 22:49:55 @base.py:285]\u001b[0m Epoch 926 (global_step 162050) finished, time:5.91 seconds.\n",
      "\u001b[32m[1019 22:49:55 @saver.py:79]\u001b[0m Model saved to ../output/Chicago/DATGAN_05/model\\model-162050.\n"
     ]
    },
    {
     "name": "stderr",
     "output_type": "stream",
     "text": [
      "\n"
     ]
    },
    {
     "name": "stdout",
     "output_type": "stream",
     "text": [
      "\u001b[32m[1019 22:49:56 @monitor.py:467]\u001b[0m GAN_loss/discrim/accuracy_fake: 0.976\n",
      "\u001b[32m[1019 22:49:56 @monitor.py:467]\u001b[0m GAN_loss/discrim/accuracy_real: 0.046\n",
      "\u001b[32m[1019 22:49:56 @monitor.py:467]\u001b[0m GAN_loss/discrim/loss: 0.64755\n",
      "\u001b[32m[1019 22:49:56 @monitor.py:467]\u001b[0m GAN_loss/gen/final-g-loss: 1.0359\n",
      "\u001b[32m[1019 22:49:56 @monitor.py:467]\u001b[0m GAN_loss/gen/klloss: 0.087517\n",
      "\u001b[32m[1019 22:49:56 @monitor.py:467]\u001b[0m GAN_loss/gen/loss: 0.94834\n",
      "\u001b[32m[1019 22:49:56 @monitor.py:467]\u001b[0m QueueInput/queue_size: 50\n",
      "\u001b[32m[1019 22:49:56 @base.py:275]\u001b[0m Start Epoch 927 ...\n"
     ]
    },
    {
     "name": "stderr",
     "output_type": "stream",
     "text": [
      "100%|###################################################################################|175/175[00:06<00:00,28.87it/s]"
     ]
    },
    {
     "name": "stdout",
     "output_type": "stream",
     "text": [
      "\u001b[32m[1019 22:50:02 @base.py:285]\u001b[0m Epoch 927 (global_step 162225) finished, time:6.06 seconds.\n",
      "\u001b[32m[1019 22:50:02 @saver.py:79]\u001b[0m Model saved to ../output/Chicago/DATGAN_05/model\\model-162225.\n"
     ]
    },
    {
     "name": "stderr",
     "output_type": "stream",
     "text": [
      "\n"
     ]
    },
    {
     "name": "stdout",
     "output_type": "stream",
     "text": [
      "\u001b[32m[1019 22:50:02 @monitor.py:467]\u001b[0m GAN_loss/discrim/accuracy_fake: 0.97\n",
      "\u001b[32m[1019 22:50:02 @monitor.py:467]\u001b[0m GAN_loss/discrim/accuracy_real: 0.066\n",
      "\u001b[32m[1019 22:50:02 @monitor.py:467]\u001b[0m GAN_loss/discrim/loss: 0.64524\n",
      "\u001b[32m[1019 22:50:02 @monitor.py:467]\u001b[0m GAN_loss/gen/final-g-loss: 0.99873\n",
      "\u001b[32m[1019 22:50:02 @monitor.py:467]\u001b[0m GAN_loss/gen/klloss: 0.049527\n",
      "\u001b[32m[1019 22:50:02 @monitor.py:467]\u001b[0m GAN_loss/gen/loss: 0.9492\n",
      "\u001b[32m[1019 22:50:02 @monitor.py:467]\u001b[0m QueueInput/queue_size: 50\n",
      "\u001b[32m[1019 22:50:02 @base.py:275]\u001b[0m Start Epoch 928 ...\n"
     ]
    },
    {
     "name": "stderr",
     "output_type": "stream",
     "text": [
      "100%|###################################################################################|175/175[00:06<00:00,28.01it/s]"
     ]
    },
    {
     "name": "stdout",
     "output_type": "stream",
     "text": [
      "\u001b[32m[1019 22:50:08 @base.py:285]\u001b[0m Epoch 928 (global_step 162400) finished, time:6.25 seconds.\n",
      "\u001b[32m[1019 22:50:08 @saver.py:79]\u001b[0m Model saved to ../output/Chicago/DATGAN_05/model\\model-162400.\n"
     ]
    },
    {
     "name": "stderr",
     "output_type": "stream",
     "text": [
      "\n"
     ]
    },
    {
     "name": "stdout",
     "output_type": "stream",
     "text": [
      "\u001b[32m[1019 22:50:08 @monitor.py:467]\u001b[0m GAN_loss/discrim/accuracy_fake: 0.968\n",
      "\u001b[32m[1019 22:50:08 @monitor.py:467]\u001b[0m GAN_loss/discrim/accuracy_real: 0.062\n",
      "\u001b[32m[1019 22:50:08 @monitor.py:467]\u001b[0m GAN_loss/discrim/loss: 0.6482\n",
      "\u001b[32m[1019 22:50:08 @monitor.py:467]\u001b[0m GAN_loss/gen/final-g-loss: 0.99063\n",
      "\u001b[32m[1019 22:50:08 @monitor.py:467]\u001b[0m GAN_loss/gen/klloss: 0.048447\n",
      "\u001b[32m[1019 22:50:08 @monitor.py:467]\u001b[0m GAN_loss/gen/loss: 0.94218\n",
      "\u001b[32m[1019 22:50:08 @monitor.py:467]\u001b[0m QueueInput/queue_size: 50\n",
      "\u001b[32m[1019 22:50:08 @base.py:275]\u001b[0m Start Epoch 929 ...\n"
     ]
    },
    {
     "name": "stderr",
     "output_type": "stream",
     "text": [
      "100%|###################################################################################|175/175[00:05<00:00,29.57it/s]"
     ]
    },
    {
     "name": "stdout",
     "output_type": "stream",
     "text": [
      "\u001b[32m[1019 22:50:14 @base.py:285]\u001b[0m Epoch 929 (global_step 162575) finished, time:5.92 seconds.\n",
      "\u001b[32m[1019 22:50:14 @saver.py:79]\u001b[0m Model saved to ../output/Chicago/DATGAN_05/model\\model-162575.\n"
     ]
    },
    {
     "name": "stderr",
     "output_type": "stream",
     "text": [
      "\n"
     ]
    },
    {
     "name": "stdout",
     "output_type": "stream",
     "text": [
      "\u001b[32m[1019 22:50:15 @monitor.py:467]\u001b[0m GAN_loss/discrim/accuracy_fake: 0.974\n",
      "\u001b[32m[1019 22:50:15 @monitor.py:467]\u001b[0m GAN_loss/discrim/accuracy_real: 0.038\n",
      "\u001b[32m[1019 22:50:15 @monitor.py:467]\u001b[0m GAN_loss/discrim/loss: 0.65496\n",
      "\u001b[32m[1019 22:50:15 @monitor.py:467]\u001b[0m GAN_loss/gen/final-g-loss: 1.0108\n",
      "\u001b[32m[1019 22:50:15 @monitor.py:467]\u001b[0m GAN_loss/gen/klloss: 0.065173\n",
      "\u001b[32m[1019 22:50:15 @monitor.py:467]\u001b[0m GAN_loss/gen/loss: 0.94558\n",
      "\u001b[32m[1019 22:50:15 @monitor.py:467]\u001b[0m QueueInput/queue_size: 50\n",
      "\u001b[32m[1019 22:50:15 @base.py:275]\u001b[0m Start Epoch 930 ...\n"
     ]
    },
    {
     "name": "stderr",
     "output_type": "stream",
     "text": [
      "100%|###################################################################################|175/175[00:05<00:00,29.46it/s]"
     ]
    },
    {
     "name": "stdout",
     "output_type": "stream",
     "text": [
      "\u001b[32m[1019 22:50:21 @base.py:285]\u001b[0m Epoch 930 (global_step 162750) finished, time:5.94 seconds.\n",
      "\u001b[32m[1019 22:50:21 @saver.py:79]\u001b[0m Model saved to ../output/Chicago/DATGAN_05/model\\model-162750.\n"
     ]
    },
    {
     "name": "stderr",
     "output_type": "stream",
     "text": [
      "\n"
     ]
    },
    {
     "name": "stdout",
     "output_type": "stream",
     "text": [
      "\u001b[32m[1019 22:50:21 @monitor.py:467]\u001b[0m GAN_loss/discrim/accuracy_fake: 0.98\n",
      "\u001b[32m[1019 22:50:21 @monitor.py:467]\u001b[0m GAN_loss/discrim/accuracy_real: 0.066\n",
      "\u001b[32m[1019 22:50:21 @monitor.py:467]\u001b[0m GAN_loss/discrim/loss: 0.64705\n",
      "\u001b[32m[1019 22:50:21 @monitor.py:467]\u001b[0m GAN_loss/gen/final-g-loss: 1.0202\n",
      "\u001b[32m[1019 22:50:21 @monitor.py:467]\u001b[0m GAN_loss/gen/klloss: 0.064168\n",
      "\u001b[32m[1019 22:50:21 @monitor.py:467]\u001b[0m GAN_loss/gen/loss: 0.95605\n",
      "\u001b[32m[1019 22:50:21 @monitor.py:467]\u001b[0m QueueInput/queue_size: 50\n",
      "\u001b[32m[1019 22:50:21 @base.py:275]\u001b[0m Start Epoch 931 ...\n"
     ]
    },
    {
     "name": "stderr",
     "output_type": "stream",
     "text": [
      "100%|###################################################################################|175/175[00:05<00:00,29.61it/s]"
     ]
    },
    {
     "name": "stdout",
     "output_type": "stream",
     "text": [
      "\u001b[32m[1019 22:50:27 @base.py:285]\u001b[0m Epoch 931 (global_step 162925) finished, time:5.91 seconds.\n",
      "\u001b[32m[1019 22:50:27 @saver.py:79]\u001b[0m Model saved to ../output/Chicago/DATGAN_05/model\\model-162925.\n"
     ]
    },
    {
     "name": "stderr",
     "output_type": "stream",
     "text": [
      "\n"
     ]
    },
    {
     "name": "stdout",
     "output_type": "stream",
     "text": [
      "\u001b[32m[1019 22:50:27 @monitor.py:467]\u001b[0m GAN_loss/discrim/accuracy_fake: 0.968\n",
      "\u001b[32m[1019 22:50:27 @monitor.py:467]\u001b[0m GAN_loss/discrim/accuracy_real: 0.088\n",
      "\u001b[32m[1019 22:50:27 @monitor.py:467]\u001b[0m GAN_loss/discrim/loss: 0.6434\n",
      "\u001b[32m[1019 22:50:27 @monitor.py:467]\u001b[0m GAN_loss/gen/final-g-loss: 0.99575\n",
      "\u001b[32m[1019 22:50:27 @monitor.py:467]\u001b[0m GAN_loss/gen/klloss: 0.056372\n",
      "\u001b[32m[1019 22:50:27 @monitor.py:467]\u001b[0m GAN_loss/gen/loss: 0.93938\n",
      "\u001b[32m[1019 22:50:27 @monitor.py:467]\u001b[0m QueueInput/queue_size: 50\n",
      "\u001b[32m[1019 22:50:27 @base.py:275]\u001b[0m Start Epoch 932 ...\n"
     ]
    },
    {
     "name": "stderr",
     "output_type": "stream",
     "text": [
      "100%|###################################################################################|175/175[00:06<00:00,28.04it/s]"
     ]
    },
    {
     "name": "stdout",
     "output_type": "stream",
     "text": [
      "\u001b[32m[1019 22:50:33 @base.py:285]\u001b[0m Epoch 932 (global_step 163100) finished, time:6.24 seconds.\n",
      "\u001b[32m[1019 22:50:33 @saver.py:79]\u001b[0m Model saved to ../output/Chicago/DATGAN_05/model\\model-163100.\n"
     ]
    },
    {
     "name": "stderr",
     "output_type": "stream",
     "text": [
      "\n"
     ]
    },
    {
     "name": "stdout",
     "output_type": "stream",
     "text": [
      "\u001b[32m[1019 22:50:34 @monitor.py:467]\u001b[0m GAN_loss/discrim/accuracy_fake: 0.974\n",
      "\u001b[32m[1019 22:50:34 @monitor.py:467]\u001b[0m GAN_loss/discrim/accuracy_real: 0.052\n",
      "\u001b[32m[1019 22:50:34 @monitor.py:467]\u001b[0m GAN_loss/discrim/loss: 0.64632\n",
      "\u001b[32m[1019 22:50:34 @monitor.py:467]\u001b[0m GAN_loss/gen/final-g-loss: 1.0122\n",
      "\u001b[32m[1019 22:50:34 @monitor.py:467]\u001b[0m GAN_loss/gen/klloss: 0.061044\n",
      "\u001b[32m[1019 22:50:34 @monitor.py:467]\u001b[0m GAN_loss/gen/loss: 0.9512\n",
      "\u001b[32m[1019 22:50:34 @monitor.py:467]\u001b[0m QueueInput/queue_size: 50\n",
      "\u001b[32m[1019 22:50:34 @base.py:275]\u001b[0m Start Epoch 933 ...\n"
     ]
    },
    {
     "name": "stderr",
     "output_type": "stream",
     "text": [
      "100%|###################################################################################|175/175[00:06<00:00,28.42it/s]"
     ]
    },
    {
     "name": "stdout",
     "output_type": "stream",
     "text": [
      "\u001b[32m[1019 22:50:40 @base.py:285]\u001b[0m Epoch 933 (global_step 163275) finished, time:6.16 seconds.\n",
      "\u001b[32m[1019 22:50:40 @saver.py:79]\u001b[0m Model saved to ../output/Chicago/DATGAN_05/model\\model-163275.\n"
     ]
    },
    {
     "name": "stderr",
     "output_type": "stream",
     "text": [
      "\n"
     ]
    },
    {
     "name": "stdout",
     "output_type": "stream",
     "text": [
      "\u001b[32m[1019 22:50:40 @monitor.py:467]\u001b[0m GAN_loss/discrim/accuracy_fake: 0.964\n",
      "\u001b[32m[1019 22:50:40 @monitor.py:467]\u001b[0m GAN_loss/discrim/accuracy_real: 0.052\n",
      "\u001b[32m[1019 22:50:40 @monitor.py:467]\u001b[0m GAN_loss/discrim/loss: 0.64844\n",
      "\u001b[32m[1019 22:50:40 @monitor.py:467]\u001b[0m GAN_loss/gen/final-g-loss: 0.98983\n",
      "\u001b[32m[1019 22:50:40 @monitor.py:467]\u001b[0m GAN_loss/gen/klloss: 0.052018\n",
      "\u001b[32m[1019 22:50:40 @monitor.py:467]\u001b[0m GAN_loss/gen/loss: 0.93781\n",
      "\u001b[32m[1019 22:50:40 @monitor.py:467]\u001b[0m QueueInput/queue_size: 50\n",
      "\u001b[32m[1019 22:50:40 @base.py:275]\u001b[0m Start Epoch 934 ...\n"
     ]
    },
    {
     "name": "stderr",
     "output_type": "stream",
     "text": [
      "100%|###################################################################################|175/175[00:05<00:00,29.46it/s]"
     ]
    },
    {
     "name": "stdout",
     "output_type": "stream",
     "text": [
      "\u001b[32m[1019 22:50:46 @base.py:285]\u001b[0m Epoch 934 (global_step 163450) finished, time:5.94 seconds.\n",
      "\u001b[32m[1019 22:50:46 @saver.py:79]\u001b[0m Model saved to ../output/Chicago/DATGAN_05/model\\model-163450.\n"
     ]
    },
    {
     "name": "stderr",
     "output_type": "stream",
     "text": [
      "\n"
     ]
    },
    {
     "name": "stdout",
     "output_type": "stream",
     "text": [
      "\u001b[32m[1019 22:50:46 @monitor.py:467]\u001b[0m GAN_loss/discrim/accuracy_fake: 0.974\n",
      "\u001b[32m[1019 22:50:46 @monitor.py:467]\u001b[0m GAN_loss/discrim/accuracy_real: 0.056\n",
      "\u001b[32m[1019 22:50:46 @monitor.py:467]\u001b[0m GAN_loss/discrim/loss: 0.64729\n",
      "\u001b[32m[1019 22:50:46 @monitor.py:467]\u001b[0m GAN_loss/gen/final-g-loss: 1.0253\n",
      "\u001b[32m[1019 22:50:46 @monitor.py:467]\u001b[0m GAN_loss/gen/klloss: 0.079188\n",
      "\u001b[32m[1019 22:50:46 @monitor.py:467]\u001b[0m GAN_loss/gen/loss: 0.94611\n",
      "\u001b[32m[1019 22:50:46 @monitor.py:467]\u001b[0m QueueInput/queue_size: 50\n",
      "\u001b[32m[1019 22:50:46 @base.py:275]\u001b[0m Start Epoch 935 ...\n"
     ]
    },
    {
     "name": "stderr",
     "output_type": "stream",
     "text": [
      "100%|###################################################################################|175/175[00:05<00:00,29.51it/s]"
     ]
    },
    {
     "name": "stdout",
     "output_type": "stream",
     "text": [
      "\u001b[32m[1019 22:50:52 @base.py:285]\u001b[0m Epoch 935 (global_step 163625) finished, time:5.93 seconds.\n",
      "\u001b[32m[1019 22:50:52 @saver.py:79]\u001b[0m Model saved to ../output/Chicago/DATGAN_05/model\\model-163625.\n"
     ]
    },
    {
     "name": "stderr",
     "output_type": "stream",
     "text": [
      "\n"
     ]
    },
    {
     "name": "stdout",
     "output_type": "stream",
     "text": [
      "\u001b[32m[1019 22:50:52 @monitor.py:467]\u001b[0m GAN_loss/discrim/accuracy_fake: 0.962\n",
      "\u001b[32m[1019 22:50:52 @monitor.py:467]\u001b[0m GAN_loss/discrim/accuracy_real: 0.046\n",
      "\u001b[32m[1019 22:50:52 @monitor.py:467]\u001b[0m GAN_loss/discrim/loss: 0.6449\n",
      "\u001b[32m[1019 22:50:52 @monitor.py:467]\u001b[0m GAN_loss/gen/final-g-loss: 1.0048\n",
      "\u001b[32m[1019 22:50:52 @monitor.py:467]\u001b[0m GAN_loss/gen/klloss: 0.059943\n",
      "\u001b[32m[1019 22:50:52 @monitor.py:467]\u001b[0m GAN_loss/gen/loss: 0.94489\n",
      "\u001b[32m[1019 22:50:52 @monitor.py:467]\u001b[0m QueueInput/queue_size: 50\n",
      "\u001b[32m[1019 22:50:52 @base.py:275]\u001b[0m Start Epoch 936 ...\n"
     ]
    },
    {
     "name": "stderr",
     "output_type": "stream",
     "text": [
      "100%|###################################################################################|175/175[00:06<00:00,29.03it/s]"
     ]
    },
    {
     "name": "stdout",
     "output_type": "stream",
     "text": [
      "\u001b[32m[1019 22:50:58 @base.py:285]\u001b[0m Epoch 936 (global_step 163800) finished, time:6.03 seconds.\n",
      "\u001b[32m[1019 22:50:58 @saver.py:79]\u001b[0m Model saved to ../output/Chicago/DATGAN_05/model\\model-163800.\n"
     ]
    },
    {
     "name": "stderr",
     "output_type": "stream",
     "text": [
      "\n"
     ]
    },
    {
     "name": "stdout",
     "output_type": "stream",
     "text": [
      "\u001b[32m[1019 22:50:59 @monitor.py:467]\u001b[0m GAN_loss/discrim/accuracy_fake: 0.97\n",
      "\u001b[32m[1019 22:50:59 @monitor.py:467]\u001b[0m GAN_loss/discrim/accuracy_real: 0.044\n",
      "\u001b[32m[1019 22:50:59 @monitor.py:467]\u001b[0m GAN_loss/discrim/loss: 0.65459\n",
      "\u001b[32m[1019 22:50:59 @monitor.py:467]\u001b[0m GAN_loss/gen/final-g-loss: 0.993\n",
      "\u001b[32m[1019 22:50:59 @monitor.py:467]\u001b[0m GAN_loss/gen/klloss: 0.05092\n",
      "\u001b[32m[1019 22:50:59 @monitor.py:467]\u001b[0m GAN_loss/gen/loss: 0.94208\n",
      "\u001b[32m[1019 22:50:59 @monitor.py:467]\u001b[0m QueueInput/queue_size: 50\n",
      "\u001b[32m[1019 22:50:59 @base.py:275]\u001b[0m Start Epoch 937 ...\n"
     ]
    },
    {
     "name": "stderr",
     "output_type": "stream",
     "text": [
      "100%|###################################################################################|175/175[00:06<00:00,26.78it/s]"
     ]
    },
    {
     "name": "stdout",
     "output_type": "stream",
     "text": [
      "\u001b[32m[1019 22:51:05 @base.py:285]\u001b[0m Epoch 937 (global_step 163975) finished, time:6.54 seconds.\n",
      "\u001b[32m[1019 22:51:05 @saver.py:79]\u001b[0m Model saved to ../output/Chicago/DATGAN_05/model\\model-163975.\n"
     ]
    },
    {
     "name": "stderr",
     "output_type": "stream",
     "text": [
      "\n"
     ]
    },
    {
     "name": "stdout",
     "output_type": "stream",
     "text": [
      "\u001b[32m[1019 22:51:05 @monitor.py:467]\u001b[0m GAN_loss/discrim/accuracy_fake: 0.962\n",
      "\u001b[32m[1019 22:51:05 @monitor.py:467]\u001b[0m GAN_loss/discrim/accuracy_real: 0.038\n",
      "\u001b[32m[1019 22:51:05 @monitor.py:467]\u001b[0m GAN_loss/discrim/loss: 0.65147\n",
      "\u001b[32m[1019 22:51:05 @monitor.py:467]\u001b[0m GAN_loss/gen/final-g-loss: 0.99374\n",
      "\u001b[32m[1019 22:51:05 @monitor.py:467]\u001b[0m GAN_loss/gen/klloss: 0.056042\n",
      "\u001b[32m[1019 22:51:05 @monitor.py:467]\u001b[0m GAN_loss/gen/loss: 0.9377\n",
      "\u001b[32m[1019 22:51:05 @monitor.py:467]\u001b[0m QueueInput/queue_size: 50\n",
      "\u001b[32m[1019 22:51:05 @base.py:275]\u001b[0m Start Epoch 938 ...\n"
     ]
    },
    {
     "name": "stderr",
     "output_type": "stream",
     "text": [
      "100%|###################################################################################|175/175[00:05<00:00,29.17it/s]"
     ]
    },
    {
     "name": "stdout",
     "output_type": "stream",
     "text": [
      "\u001b[32m[1019 22:51:11 @base.py:285]\u001b[0m Epoch 938 (global_step 164150) finished, time:6 seconds.\n",
      "\u001b[32m[1019 22:51:12 @saver.py:79]\u001b[0m Model saved to ../output/Chicago/DATGAN_05/model\\model-164150.\n"
     ]
    },
    {
     "name": "stderr",
     "output_type": "stream",
     "text": [
      "\n"
     ]
    },
    {
     "name": "stdout",
     "output_type": "stream",
     "text": [
      "\u001b[32m[1019 22:51:12 @monitor.py:467]\u001b[0m GAN_loss/discrim/accuracy_fake: 0.97\n",
      "\u001b[32m[1019 22:51:12 @monitor.py:467]\u001b[0m GAN_loss/discrim/accuracy_real: 0.06\n",
      "\u001b[32m[1019 22:51:12 @monitor.py:467]\u001b[0m GAN_loss/discrim/loss: 0.6485\n",
      "\u001b[32m[1019 22:51:12 @monitor.py:467]\u001b[0m GAN_loss/gen/final-g-loss: 0.9902\n",
      "\u001b[32m[1019 22:51:12 @monitor.py:467]\u001b[0m GAN_loss/gen/klloss: 0.045136\n",
      "\u001b[32m[1019 22:51:12 @monitor.py:467]\u001b[0m GAN_loss/gen/loss: 0.94506\n",
      "\u001b[32m[1019 22:51:12 @monitor.py:467]\u001b[0m QueueInput/queue_size: 50\n",
      "\u001b[32m[1019 22:51:12 @base.py:275]\u001b[0m Start Epoch 939 ...\n"
     ]
    },
    {
     "name": "stderr",
     "output_type": "stream",
     "text": [
      "100%|###################################################################################|175/175[00:06<00:00,28.59it/s]"
     ]
    },
    {
     "name": "stdout",
     "output_type": "stream",
     "text": [
      "\u001b[32m[1019 22:51:18 @base.py:285]\u001b[0m Epoch 939 (global_step 164325) finished, time:6.12 seconds.\n",
      "\u001b[32m[1019 22:51:18 @saver.py:79]\u001b[0m Model saved to ../output/Chicago/DATGAN_05/model\\model-164325.\n"
     ]
    },
    {
     "name": "stderr",
     "output_type": "stream",
     "text": [
      "\n"
     ]
    },
    {
     "name": "stdout",
     "output_type": "stream",
     "text": [
      "\u001b[32m[1019 22:51:18 @monitor.py:467]\u001b[0m GAN_loss/discrim/accuracy_fake: 0.962\n",
      "\u001b[32m[1019 22:51:18 @monitor.py:467]\u001b[0m GAN_loss/discrim/accuracy_real: 0.064\n",
      "\u001b[32m[1019 22:51:18 @monitor.py:467]\u001b[0m GAN_loss/discrim/loss: 0.64955\n",
      "\u001b[32m[1019 22:51:18 @monitor.py:467]\u001b[0m GAN_loss/gen/final-g-loss: 1.0219\n",
      "\u001b[32m[1019 22:51:18 @monitor.py:467]\u001b[0m GAN_loss/gen/klloss: 0.081203\n",
      "\u001b[32m[1019 22:51:18 @monitor.py:467]\u001b[0m GAN_loss/gen/loss: 0.94074\n",
      "\u001b[32m[1019 22:51:18 @monitor.py:467]\u001b[0m QueueInput/queue_size: 50\n",
      "\u001b[32m[1019 22:51:18 @base.py:275]\u001b[0m Start Epoch 940 ...\n"
     ]
    },
    {
     "name": "stderr",
     "output_type": "stream",
     "text": [
      "100%|###################################################################################|175/175[00:05<00:00,29.48it/s]"
     ]
    },
    {
     "name": "stdout",
     "output_type": "stream",
     "text": [
      "\u001b[32m[1019 22:51:24 @base.py:285]\u001b[0m Epoch 940 (global_step 164500) finished, time:5.94 seconds.\n",
      "\u001b[32m[1019 22:51:24 @saver.py:79]\u001b[0m Model saved to ../output/Chicago/DATGAN_05/model\\model-164500.\n"
     ]
    },
    {
     "name": "stderr",
     "output_type": "stream",
     "text": [
      "\n"
     ]
    },
    {
     "name": "stdout",
     "output_type": "stream",
     "text": [
      "\u001b[32m[1019 22:51:24 @monitor.py:467]\u001b[0m GAN_loss/discrim/accuracy_fake: 0.976\n",
      "\u001b[32m[1019 22:51:24 @monitor.py:467]\u001b[0m GAN_loss/discrim/accuracy_real: 0.058\n",
      "\u001b[32m[1019 22:51:24 @monitor.py:467]\u001b[0m GAN_loss/discrim/loss: 0.64523\n",
      "\u001b[32m[1019 22:51:24 @monitor.py:467]\u001b[0m GAN_loss/gen/final-g-loss: 0.99897\n",
      "\u001b[32m[1019 22:51:24 @monitor.py:467]\u001b[0m GAN_loss/gen/klloss: 0.048142\n",
      "\u001b[32m[1019 22:51:24 @monitor.py:467]\u001b[0m GAN_loss/gen/loss: 0.95083\n",
      "\u001b[32m[1019 22:51:24 @monitor.py:467]\u001b[0m QueueInput/queue_size: 50\n",
      "\u001b[32m[1019 22:51:24 @base.py:275]\u001b[0m Start Epoch 941 ...\n"
     ]
    },
    {
     "name": "stderr",
     "output_type": "stream",
     "text": [
      "100%|###################################################################################|175/175[00:05<00:00,29.33it/s]"
     ]
    },
    {
     "name": "stdout",
     "output_type": "stream",
     "text": [
      "\u001b[32m[1019 22:51:30 @base.py:285]\u001b[0m Epoch 941 (global_step 164675) finished, time:5.97 seconds.\n",
      "\u001b[32m[1019 22:51:30 @saver.py:79]\u001b[0m Model saved to ../output/Chicago/DATGAN_05/model\\model-164675.\n"
     ]
    },
    {
     "name": "stderr",
     "output_type": "stream",
     "text": [
      "\n"
     ]
    },
    {
     "name": "stdout",
     "output_type": "stream",
     "text": [
      "\u001b[32m[1019 22:51:30 @monitor.py:467]\u001b[0m GAN_loss/discrim/accuracy_fake: 0.968\n",
      "\u001b[32m[1019 22:51:30 @monitor.py:467]\u001b[0m GAN_loss/discrim/accuracy_real: 0.056\n",
      "\u001b[32m[1019 22:51:30 @monitor.py:467]\u001b[0m GAN_loss/discrim/loss: 0.64836\n",
      "\u001b[32m[1019 22:51:30 @monitor.py:467]\u001b[0m GAN_loss/gen/final-g-loss: 0.99422\n",
      "\u001b[32m[1019 22:51:30 @monitor.py:467]\u001b[0m GAN_loss/gen/klloss: 0.044184\n",
      "\u001b[32m[1019 22:51:30 @monitor.py:467]\u001b[0m GAN_loss/gen/loss: 0.95004\n",
      "\u001b[32m[1019 22:51:30 @monitor.py:467]\u001b[0m QueueInput/queue_size: 50\n",
      "\u001b[32m[1019 22:51:30 @base.py:275]\u001b[0m Start Epoch 942 ...\n"
     ]
    },
    {
     "name": "stderr",
     "output_type": "stream",
     "text": [
      "100%|###################################################################################|175/175[00:06<00:00,27.28it/s]"
     ]
    },
    {
     "name": "stdout",
     "output_type": "stream",
     "text": [
      "\u001b[32m[1019 22:51:37 @base.py:285]\u001b[0m Epoch 942 (global_step 164850) finished, time:6.42 seconds.\n"
     ]
    },
    {
     "name": "stderr",
     "output_type": "stream",
     "text": [
      "\n"
     ]
    },
    {
     "name": "stdout",
     "output_type": "stream",
     "text": [
      "\u001b[32m[1019 22:51:37 @saver.py:79]\u001b[0m Model saved to ../output/Chicago/DATGAN_05/model\\model-164850.\n",
      "\u001b[32m[1019 22:51:37 @monitor.py:467]\u001b[0m GAN_loss/discrim/accuracy_fake: 0.978\n",
      "\u001b[32m[1019 22:51:37 @monitor.py:467]\u001b[0m GAN_loss/discrim/accuracy_real: 0.048\n",
      "\u001b[32m[1019 22:51:37 @monitor.py:467]\u001b[0m GAN_loss/discrim/loss: 0.64626\n",
      "\u001b[32m[1019 22:51:37 @monitor.py:467]\u001b[0m GAN_loss/gen/final-g-loss: 1.0042\n",
      "\u001b[32m[1019 22:51:37 @monitor.py:467]\u001b[0m GAN_loss/gen/klloss: 0.056851\n",
      "\u001b[32m[1019 22:51:37 @monitor.py:467]\u001b[0m GAN_loss/gen/loss: 0.94734\n",
      "\u001b[32m[1019 22:51:37 @monitor.py:467]\u001b[0m QueueInput/queue_size: 50\n",
      "\u001b[32m[1019 22:51:37 @base.py:275]\u001b[0m Start Epoch 943 ...\n"
     ]
    },
    {
     "name": "stderr",
     "output_type": "stream",
     "text": [
      "100%|###################################################################################|175/175[00:05<00:00,29.27it/s]"
     ]
    },
    {
     "name": "stdout",
     "output_type": "stream",
     "text": [
      "\u001b[32m[1019 22:51:43 @base.py:285]\u001b[0m Epoch 943 (global_step 165025) finished, time:5.98 seconds.\n",
      "\u001b[32m[1019 22:51:43 @saver.py:79]\u001b[0m Model saved to ../output/Chicago/DATGAN_05/model\\model-165025.\n"
     ]
    },
    {
     "name": "stderr",
     "output_type": "stream",
     "text": [
      "\n"
     ]
    },
    {
     "name": "stdout",
     "output_type": "stream",
     "text": [
      "\u001b[32m[1019 22:51:43 @monitor.py:467]\u001b[0m GAN_loss/discrim/accuracy_fake: 0.96\n",
      "\u001b[32m[1019 22:51:43 @monitor.py:467]\u001b[0m GAN_loss/discrim/accuracy_real: 0.054\n",
      "\u001b[32m[1019 22:51:43 @monitor.py:467]\u001b[0m GAN_loss/discrim/loss: 0.65207\n",
      "\u001b[32m[1019 22:51:43 @monitor.py:467]\u001b[0m GAN_loss/gen/final-g-loss: 0.9965\n",
      "\u001b[32m[1019 22:51:43 @monitor.py:467]\u001b[0m GAN_loss/gen/klloss: 0.056477\n",
      "\u001b[32m[1019 22:51:43 @monitor.py:467]\u001b[0m GAN_loss/gen/loss: 0.94002\n",
      "\u001b[32m[1019 22:51:43 @monitor.py:467]\u001b[0m QueueInput/queue_size: 50\n",
      "\u001b[32m[1019 22:51:43 @base.py:275]\u001b[0m Start Epoch 944 ...\n"
     ]
    },
    {
     "name": "stderr",
     "output_type": "stream",
     "text": [
      "100%|###################################################################################|175/175[00:06<00:00,28.79it/s]"
     ]
    },
    {
     "name": "stdout",
     "output_type": "stream",
     "text": [
      "\u001b[32m[1019 22:51:49 @base.py:285]\u001b[0m Epoch 944 (global_step 165200) finished, time:6.08 seconds.\n",
      "\u001b[32m[1019 22:51:50 @saver.py:79]\u001b[0m Model saved to ../output/Chicago/DATGAN_05/model\\model-165200.\n"
     ]
    },
    {
     "name": "stderr",
     "output_type": "stream",
     "text": [
      "\n"
     ]
    },
    {
     "name": "stdout",
     "output_type": "stream",
     "text": [
      "\u001b[32m[1019 22:51:50 @monitor.py:467]\u001b[0m GAN_loss/discrim/accuracy_fake: 0.972\n",
      "\u001b[32m[1019 22:51:50 @monitor.py:467]\u001b[0m GAN_loss/discrim/accuracy_real: 0.046\n",
      "\u001b[32m[1019 22:51:50 @monitor.py:467]\u001b[0m GAN_loss/discrim/loss: 0.64848\n",
      "\u001b[32m[1019 22:51:50 @monitor.py:467]\u001b[0m GAN_loss/gen/final-g-loss: 0.99849\n",
      "\u001b[32m[1019 22:51:50 @monitor.py:467]\u001b[0m GAN_loss/gen/klloss: 0.060797\n",
      "\u001b[32m[1019 22:51:50 @monitor.py:467]\u001b[0m GAN_loss/gen/loss: 0.93769\n",
      "\u001b[32m[1019 22:51:50 @monitor.py:467]\u001b[0m QueueInput/queue_size: 50\n",
      "\u001b[32m[1019 22:51:50 @base.py:275]\u001b[0m Start Epoch 945 ...\n"
     ]
    },
    {
     "name": "stderr",
     "output_type": "stream",
     "text": [
      "100%|###################################################################################|175/175[00:06<00:00,28.71it/s]"
     ]
    },
    {
     "name": "stdout",
     "output_type": "stream",
     "text": [
      "\u001b[32m[1019 22:51:56 @base.py:285]\u001b[0m Epoch 945 (global_step 165375) finished, time:6.09 seconds.\n",
      "\u001b[32m[1019 22:51:56 @saver.py:79]\u001b[0m Model saved to ../output/Chicago/DATGAN_05/model\\model-165375.\n"
     ]
    },
    {
     "name": "stderr",
     "output_type": "stream",
     "text": [
      "\n"
     ]
    },
    {
     "name": "stdout",
     "output_type": "stream",
     "text": [
      "\u001b[32m[1019 22:51:56 @monitor.py:467]\u001b[0m GAN_loss/discrim/accuracy_fake: 0.95\n",
      "\u001b[32m[1019 22:51:56 @monitor.py:467]\u001b[0m GAN_loss/discrim/accuracy_real: 0.048\n",
      "\u001b[32m[1019 22:51:56 @monitor.py:467]\u001b[0m GAN_loss/discrim/loss: 0.64531\n",
      "\u001b[32m[1019 22:51:56 @monitor.py:467]\u001b[0m GAN_loss/gen/final-g-loss: 1.0215\n",
      "\u001b[32m[1019 22:51:56 @monitor.py:467]\u001b[0m GAN_loss/gen/klloss: 0.07952\n",
      "\u001b[32m[1019 22:51:56 @monitor.py:467]\u001b[0m GAN_loss/gen/loss: 0.94193\n",
      "\u001b[32m[1019 22:51:56 @monitor.py:467]\u001b[0m QueueInput/queue_size: 50\n",
      "\u001b[32m[1019 22:51:56 @base.py:275]\u001b[0m Start Epoch 946 ...\n"
     ]
    },
    {
     "name": "stderr",
     "output_type": "stream",
     "text": [
      "100%|###################################################################################|175/175[00:06<00:00,28.12it/s]"
     ]
    },
    {
     "name": "stdout",
     "output_type": "stream",
     "text": [
      "\u001b[32m[1019 22:52:02 @base.py:285]\u001b[0m Epoch 946 (global_step 165550) finished, time:6.22 seconds.\n",
      "\u001b[32m[1019 22:52:02 @saver.py:79]\u001b[0m Model saved to ../output/Chicago/DATGAN_05/model\\model-165550.\n"
     ]
    },
    {
     "name": "stderr",
     "output_type": "stream",
     "text": [
      "\n"
     ]
    },
    {
     "name": "stdout",
     "output_type": "stream",
     "text": [
      "\u001b[32m[1019 22:52:03 @monitor.py:467]\u001b[0m GAN_loss/discrim/accuracy_fake: 0.968\n",
      "\u001b[32m[1019 22:52:03 @monitor.py:467]\u001b[0m GAN_loss/discrim/accuracy_real: 0.058\n",
      "\u001b[32m[1019 22:52:03 @monitor.py:467]\u001b[0m GAN_loss/discrim/loss: 0.65412\n",
      "\u001b[32m[1019 22:52:03 @monitor.py:467]\u001b[0m GAN_loss/gen/final-g-loss: 0.9785\n",
      "\u001b[32m[1019 22:52:03 @monitor.py:467]\u001b[0m GAN_loss/gen/klloss: 0.045191\n",
      "\u001b[32m[1019 22:52:03 @monitor.py:467]\u001b[0m GAN_loss/gen/loss: 0.93331\n",
      "\u001b[32m[1019 22:52:03 @monitor.py:467]\u001b[0m QueueInput/queue_size: 50\n",
      "\u001b[32m[1019 22:52:03 @base.py:275]\u001b[0m Start Epoch 947 ...\n"
     ]
    },
    {
     "name": "stderr",
     "output_type": "stream",
     "text": [
      "100%|###################################################################################|175/175[00:06<00:00,27.69it/s]"
     ]
    },
    {
     "name": "stdout",
     "output_type": "stream",
     "text": [
      "\u001b[32m[1019 22:52:09 @base.py:285]\u001b[0m Epoch 947 (global_step 165725) finished, time:6.32 seconds.\n",
      "\u001b[32m[1019 22:52:09 @saver.py:79]\u001b[0m Model saved to ../output/Chicago/DATGAN_05/model\\model-165725.\n"
     ]
    },
    {
     "name": "stderr",
     "output_type": "stream",
     "text": [
      "\n"
     ]
    },
    {
     "name": "stdout",
     "output_type": "stream",
     "text": [
      "\u001b[32m[1019 22:52:09 @monitor.py:467]\u001b[0m GAN_loss/discrim/accuracy_fake: 0.97\n",
      "\u001b[32m[1019 22:52:09 @monitor.py:467]\u001b[0m GAN_loss/discrim/accuracy_real: 0.048\n",
      "\u001b[32m[1019 22:52:09 @monitor.py:467]\u001b[0m GAN_loss/discrim/loss: 0.65228\n",
      "\u001b[32m[1019 22:52:09 @monitor.py:467]\u001b[0m GAN_loss/gen/final-g-loss: 0.99747\n",
      "\u001b[32m[1019 22:52:09 @monitor.py:467]\u001b[0m GAN_loss/gen/klloss: 0.047804\n",
      "\u001b[32m[1019 22:52:09 @monitor.py:467]\u001b[0m GAN_loss/gen/loss: 0.94967\n",
      "\u001b[32m[1019 22:52:09 @monitor.py:467]\u001b[0m QueueInput/queue_size: 50\n",
      "\u001b[32m[1019 22:52:09 @base.py:275]\u001b[0m Start Epoch 948 ...\n"
     ]
    },
    {
     "name": "stderr",
     "output_type": "stream",
     "text": [
      "100%|###################################################################################|175/175[00:05<00:00,29.20it/s]"
     ]
    },
    {
     "name": "stdout",
     "output_type": "stream",
     "text": [
      "\u001b[32m[1019 22:52:15 @base.py:285]\u001b[0m Epoch 948 (global_step 165900) finished, time:5.99 seconds.\n",
      "\u001b[32m[1019 22:52:15 @saver.py:79]\u001b[0m Model saved to ../output/Chicago/DATGAN_05/model\\model-165900.\n"
     ]
    },
    {
     "name": "stderr",
     "output_type": "stream",
     "text": [
      "\n"
     ]
    },
    {
     "name": "stdout",
     "output_type": "stream",
     "text": [
      "\u001b[32m[1019 22:52:15 @monitor.py:467]\u001b[0m GAN_loss/discrim/accuracy_fake: 0.966\n",
      "\u001b[32m[1019 22:52:15 @monitor.py:467]\u001b[0m GAN_loss/discrim/accuracy_real: 0.042\n",
      "\u001b[32m[1019 22:52:15 @monitor.py:467]\u001b[0m GAN_loss/discrim/loss: 0.64474\n",
      "\u001b[32m[1019 22:52:15 @monitor.py:467]\u001b[0m GAN_loss/gen/final-g-loss: 1.0051\n",
      "\u001b[32m[1019 22:52:15 @monitor.py:467]\u001b[0m GAN_loss/gen/klloss: 0.060202\n",
      "\u001b[32m[1019 22:52:15 @monitor.py:467]\u001b[0m GAN_loss/gen/loss: 0.94485\n",
      "\u001b[32m[1019 22:52:15 @monitor.py:467]\u001b[0m QueueInput/queue_size: 50\n",
      "\u001b[32m[1019 22:52:15 @base.py:275]\u001b[0m Start Epoch 949 ...\n"
     ]
    },
    {
     "name": "stderr",
     "output_type": "stream",
     "text": [
      "100%|###################################################################################|175/175[00:05<00:00,29.23it/s]"
     ]
    },
    {
     "name": "stdout",
     "output_type": "stream",
     "text": [
      "\u001b[32m[1019 22:52:21 @base.py:285]\u001b[0m Epoch 949 (global_step 166075) finished, time:5.99 seconds.\n",
      "\u001b[32m[1019 22:52:22 @saver.py:79]\u001b[0m Model saved to ../output/Chicago/DATGAN_05/model\\model-166075.\n"
     ]
    },
    {
     "name": "stderr",
     "output_type": "stream",
     "text": [
      "\n"
     ]
    },
    {
     "name": "stdout",
     "output_type": "stream",
     "text": [
      "\u001b[32m[1019 22:52:22 @monitor.py:467]\u001b[0m GAN_loss/discrim/accuracy_fake: 0.97\n",
      "\u001b[32m[1019 22:52:22 @monitor.py:467]\u001b[0m GAN_loss/discrim/accuracy_real: 0.036\n",
      "\u001b[32m[1019 22:52:22 @monitor.py:467]\u001b[0m GAN_loss/discrim/loss: 0.64692\n",
      "\u001b[32m[1019 22:52:22 @monitor.py:467]\u001b[0m GAN_loss/gen/final-g-loss: 0.98972\n",
      "\u001b[32m[1019 22:52:22 @monitor.py:467]\u001b[0m GAN_loss/gen/klloss: 0.046659\n",
      "\u001b[32m[1019 22:52:22 @monitor.py:467]\u001b[0m GAN_loss/gen/loss: 0.94306\n",
      "\u001b[32m[1019 22:52:22 @monitor.py:467]\u001b[0m QueueInput/queue_size: 50\n",
      "\u001b[32m[1019 22:52:22 @base.py:275]\u001b[0m Start Epoch 950 ...\n"
     ]
    },
    {
     "name": "stderr",
     "output_type": "stream",
     "text": [
      "100%|###################################################################################|175/175[00:05<00:00,29.51it/s]"
     ]
    },
    {
     "name": "stdout",
     "output_type": "stream",
     "text": [
      "\u001b[32m[1019 22:52:28 @base.py:285]\u001b[0m Epoch 950 (global_step 166250) finished, time:5.93 seconds.\n",
      "\u001b[32m[1019 22:52:28 @saver.py:79]\u001b[0m Model saved to ../output/Chicago/DATGAN_05/model\\model-166250.\n"
     ]
    },
    {
     "name": "stderr",
     "output_type": "stream",
     "text": [
      "\n"
     ]
    },
    {
     "name": "stdout",
     "output_type": "stream",
     "text": [
      "\u001b[32m[1019 22:52:28 @monitor.py:467]\u001b[0m GAN_loss/discrim/accuracy_fake: 0.966\n",
      "\u001b[32m[1019 22:52:28 @monitor.py:467]\u001b[0m GAN_loss/discrim/accuracy_real: 0.06\n",
      "\u001b[32m[1019 22:52:28 @monitor.py:467]\u001b[0m GAN_loss/discrim/loss: 0.64762\n",
      "\u001b[32m[1019 22:52:28 @monitor.py:467]\u001b[0m GAN_loss/gen/final-g-loss: 1.0043\n",
      "\u001b[32m[1019 22:52:28 @monitor.py:467]\u001b[0m GAN_loss/gen/klloss: 0.07095\n",
      "\u001b[32m[1019 22:52:28 @monitor.py:467]\u001b[0m GAN_loss/gen/loss: 0.93339\n",
      "\u001b[32m[1019 22:52:28 @monitor.py:467]\u001b[0m QueueInput/queue_size: 50\n",
      "\u001b[32m[1019 22:52:28 @base.py:275]\u001b[0m Start Epoch 951 ...\n"
     ]
    },
    {
     "name": "stderr",
     "output_type": "stream",
     "text": [
      "100%|###################################################################################|175/175[00:06<00:00,27.64it/s]"
     ]
    },
    {
     "name": "stdout",
     "output_type": "stream",
     "text": [
      "\u001b[32m[1019 22:52:34 @base.py:285]\u001b[0m Epoch 951 (global_step 166425) finished, time:6.33 seconds.\n",
      "\u001b[32m[1019 22:52:34 @saver.py:79]\u001b[0m Model saved to ../output/Chicago/DATGAN_05/model\\model-166425.\n"
     ]
    },
    {
     "name": "stderr",
     "output_type": "stream",
     "text": [
      "\n"
     ]
    },
    {
     "name": "stdout",
     "output_type": "stream",
     "text": [
      "\u001b[32m[1019 22:52:34 @monitor.py:467]\u001b[0m GAN_loss/discrim/accuracy_fake: 0.982\n",
      "\u001b[32m[1019 22:52:34 @monitor.py:467]\u001b[0m GAN_loss/discrim/accuracy_real: 0.06\n",
      "\u001b[32m[1019 22:52:34 @monitor.py:467]\u001b[0m GAN_loss/discrim/loss: 0.64892\n",
      "\u001b[32m[1019 22:52:34 @monitor.py:467]\u001b[0m GAN_loss/gen/final-g-loss: 0.99085\n",
      "\u001b[32m[1019 22:52:34 @monitor.py:467]\u001b[0m GAN_loss/gen/klloss: 0.04787\n",
      "\u001b[32m[1019 22:52:34 @monitor.py:467]\u001b[0m GAN_loss/gen/loss: 0.94298\n",
      "\u001b[32m[1019 22:52:34 @monitor.py:467]\u001b[0m QueueInput/queue_size: 50\n",
      "\u001b[32m[1019 22:52:34 @base.py:275]\u001b[0m Start Epoch 952 ...\n"
     ]
    },
    {
     "name": "stderr",
     "output_type": "stream",
     "text": [
      "100%|###################################################################################|175/175[00:05<00:00,29.39it/s]"
     ]
    },
    {
     "name": "stdout",
     "output_type": "stream",
     "text": [
      "\u001b[32m[1019 22:52:40 @base.py:285]\u001b[0m Epoch 952 (global_step 166600) finished, time:5.95 seconds.\n",
      "\u001b[32m[1019 22:52:41 @saver.py:79]\u001b[0m Model saved to ../output/Chicago/DATGAN_05/model\\model-166600.\n"
     ]
    },
    {
     "name": "stderr",
     "output_type": "stream",
     "text": [
      "\n"
     ]
    },
    {
     "name": "stdout",
     "output_type": "stream",
     "text": [
      "\u001b[32m[1019 22:52:41 @monitor.py:467]\u001b[0m GAN_loss/discrim/accuracy_fake: 0.968\n",
      "\u001b[32m[1019 22:52:41 @monitor.py:467]\u001b[0m GAN_loss/discrim/accuracy_real: 0.064\n",
      "\u001b[32m[1019 22:52:41 @monitor.py:467]\u001b[0m GAN_loss/discrim/loss: 0.64973\n",
      "\u001b[32m[1019 22:52:41 @monitor.py:467]\u001b[0m GAN_loss/gen/final-g-loss: 0.99989\n",
      "\u001b[32m[1019 22:52:41 @monitor.py:467]\u001b[0m GAN_loss/gen/klloss: 0.056227\n",
      "\u001b[32m[1019 22:52:41 @monitor.py:467]\u001b[0m GAN_loss/gen/loss: 0.94367\n",
      "\u001b[32m[1019 22:52:41 @monitor.py:467]\u001b[0m QueueInput/queue_size: 50\n",
      "\u001b[32m[1019 22:52:41 @base.py:275]\u001b[0m Start Epoch 953 ...\n"
     ]
    },
    {
     "name": "stderr",
     "output_type": "stream",
     "text": [
      "100%|###################################################################################|175/175[00:05<00:00,29.57it/s]"
     ]
    },
    {
     "name": "stdout",
     "output_type": "stream",
     "text": [
      "\u001b[32m[1019 22:52:47 @base.py:285]\u001b[0m Epoch 953 (global_step 166775) finished, time:5.92 seconds.\n",
      "\u001b[32m[1019 22:52:47 @saver.py:79]\u001b[0m Model saved to ../output/Chicago/DATGAN_05/model\\model-166775.\n"
     ]
    },
    {
     "name": "stderr",
     "output_type": "stream",
     "text": [
      "\n"
     ]
    },
    {
     "name": "stdout",
     "output_type": "stream",
     "text": [
      "\u001b[32m[1019 22:52:47 @monitor.py:467]\u001b[0m GAN_loss/discrim/accuracy_fake: 0.974\n",
      "\u001b[32m[1019 22:52:47 @monitor.py:467]\u001b[0m GAN_loss/discrim/accuracy_real: 0.05\n",
      "\u001b[32m[1019 22:52:47 @monitor.py:467]\u001b[0m GAN_loss/discrim/loss: 0.64756\n",
      "\u001b[32m[1019 22:52:47 @monitor.py:467]\u001b[0m GAN_loss/gen/final-g-loss: 1.0089\n",
      "\u001b[32m[1019 22:52:47 @monitor.py:467]\u001b[0m GAN_loss/gen/klloss: 0.054682\n",
      "\u001b[32m[1019 22:52:47 @monitor.py:467]\u001b[0m GAN_loss/gen/loss: 0.95418\n",
      "\u001b[32m[1019 22:52:47 @monitor.py:467]\u001b[0m QueueInput/queue_size: 50\n",
      "\u001b[32m[1019 22:52:47 @base.py:275]\u001b[0m Start Epoch 954 ...\n"
     ]
    },
    {
     "name": "stderr",
     "output_type": "stream",
     "text": [
      "100%|###################################################################################|175/175[00:05<00:00,29.56it/s]"
     ]
    },
    {
     "name": "stdout",
     "output_type": "stream",
     "text": [
      "\u001b[32m[1019 22:52:53 @base.py:285]\u001b[0m Epoch 954 (global_step 166950) finished, time:5.92 seconds.\n",
      "\u001b[32m[1019 22:52:53 @saver.py:79]\u001b[0m Model saved to ../output/Chicago/DATGAN_05/model\\model-166950.\n"
     ]
    },
    {
     "name": "stderr",
     "output_type": "stream",
     "text": [
      "\n"
     ]
    },
    {
     "name": "stdout",
     "output_type": "stream",
     "text": [
      "\u001b[32m[1019 22:52:53 @monitor.py:467]\u001b[0m GAN_loss/discrim/accuracy_fake: 0.964\n",
      "\u001b[32m[1019 22:52:53 @monitor.py:467]\u001b[0m GAN_loss/discrim/accuracy_real: 0.058\n",
      "\u001b[32m[1019 22:52:53 @monitor.py:467]\u001b[0m GAN_loss/discrim/loss: 0.64641\n",
      "\u001b[32m[1019 22:52:53 @monitor.py:467]\u001b[0m GAN_loss/gen/final-g-loss: 0.99065\n",
      "\u001b[32m[1019 22:52:53 @monitor.py:467]\u001b[0m GAN_loss/gen/klloss: 0.052458\n",
      "\u001b[32m[1019 22:52:53 @monitor.py:467]\u001b[0m GAN_loss/gen/loss: 0.93819\n",
      "\u001b[32m[1019 22:52:53 @monitor.py:467]\u001b[0m QueueInput/queue_size: 50\n",
      "\u001b[32m[1019 22:52:53 @base.py:275]\u001b[0m Start Epoch 955 ...\n"
     ]
    },
    {
     "name": "stderr",
     "output_type": "stream",
     "text": [
      "100%|###################################################################################|175/175[00:05<00:00,29.61it/s]"
     ]
    },
    {
     "name": "stdout",
     "output_type": "stream",
     "text": [
      "\u001b[32m[1019 22:52:59 @base.py:285]\u001b[0m Epoch 955 (global_step 167125) finished, time:5.91 seconds.\n",
      "\u001b[32m[1019 22:52:59 @saver.py:79]\u001b[0m Model saved to ../output/Chicago/DATGAN_05/model\\model-167125.\n"
     ]
    },
    {
     "name": "stderr",
     "output_type": "stream",
     "text": [
      "\n"
     ]
    },
    {
     "name": "stdout",
     "output_type": "stream",
     "text": [
      "\u001b[32m[1019 22:52:59 @monitor.py:467]\u001b[0m GAN_loss/discrim/accuracy_fake: 0.972\n",
      "\u001b[32m[1019 22:52:59 @monitor.py:467]\u001b[0m GAN_loss/discrim/accuracy_real: 0.058\n",
      "\u001b[32m[1019 22:52:59 @monitor.py:467]\u001b[0m GAN_loss/discrim/loss: 0.64651\n",
      "\u001b[32m[1019 22:52:59 @monitor.py:467]\u001b[0m GAN_loss/gen/final-g-loss: 0.99078\n",
      "\u001b[32m[1019 22:52:59 @monitor.py:467]\u001b[0m GAN_loss/gen/klloss: 0.046554\n",
      "\u001b[32m[1019 22:52:59 @monitor.py:467]\u001b[0m GAN_loss/gen/loss: 0.94423\n",
      "\u001b[32m[1019 22:52:59 @monitor.py:467]\u001b[0m QueueInput/queue_size: 50\n",
      "\u001b[32m[1019 22:52:59 @base.py:275]\u001b[0m Start Epoch 956 ...\n"
     ]
    },
    {
     "name": "stderr",
     "output_type": "stream",
     "text": [
      "100%|###################################################################################|175/175[00:06<00:00,27.34it/s]"
     ]
    },
    {
     "name": "stdout",
     "output_type": "stream",
     "text": [
      "\u001b[32m[1019 22:53:06 @base.py:285]\u001b[0m Epoch 956 (global_step 167300) finished, time:6.4 seconds.\n"
     ]
    },
    {
     "name": "stderr",
     "output_type": "stream",
     "text": [
      "\n"
     ]
    },
    {
     "name": "stdout",
     "output_type": "stream",
     "text": [
      "\u001b[32m[1019 22:53:06 @saver.py:79]\u001b[0m Model saved to ../output/Chicago/DATGAN_05/model\\model-167300.\n",
      "\u001b[32m[1019 22:53:06 @monitor.py:467]\u001b[0m GAN_loss/discrim/accuracy_fake: 0.956\n",
      "\u001b[32m[1019 22:53:06 @monitor.py:467]\u001b[0m GAN_loss/discrim/accuracy_real: 0.052\n",
      "\u001b[32m[1019 22:53:06 @monitor.py:467]\u001b[0m GAN_loss/discrim/loss: 0.65402\n",
      "\u001b[32m[1019 22:53:06 @monitor.py:467]\u001b[0m GAN_loss/gen/final-g-loss: 0.99449\n",
      "\u001b[32m[1019 22:53:06 @monitor.py:467]\u001b[0m GAN_loss/gen/klloss: 0.060542\n",
      "\u001b[32m[1019 22:53:06 @monitor.py:467]\u001b[0m GAN_loss/gen/loss: 0.93395\n",
      "\u001b[32m[1019 22:53:06 @monitor.py:467]\u001b[0m QueueInput/queue_size: 50\n",
      "\u001b[32m[1019 22:53:06 @base.py:275]\u001b[0m Start Epoch 957 ...\n"
     ]
    },
    {
     "name": "stderr",
     "output_type": "stream",
     "text": [
      "100%|###################################################################################|175/175[00:05<00:00,29.57it/s]"
     ]
    },
    {
     "name": "stdout",
     "output_type": "stream",
     "text": [
      "\u001b[32m[1019 22:53:12 @base.py:285]\u001b[0m Epoch 957 (global_step 167475) finished, time:5.92 seconds.\n",
      "\u001b[32m[1019 22:53:12 @saver.py:79]\u001b[0m Model saved to ../output/Chicago/DATGAN_05/model\\model-167475.\n"
     ]
    },
    {
     "name": "stderr",
     "output_type": "stream",
     "text": [
      "\n"
     ]
    },
    {
     "name": "stdout",
     "output_type": "stream",
     "text": [
      "\u001b[32m[1019 22:53:12 @monitor.py:467]\u001b[0m GAN_loss/discrim/accuracy_fake: 0.976\n",
      "\u001b[32m[1019 22:53:12 @monitor.py:467]\u001b[0m GAN_loss/discrim/accuracy_real: 0.042\n",
      "\u001b[32m[1019 22:53:12 @monitor.py:467]\u001b[0m GAN_loss/discrim/loss: 0.64521\n",
      "\u001b[32m[1019 22:53:12 @monitor.py:467]\u001b[0m GAN_loss/gen/final-g-loss: 1.0087\n",
      "\u001b[32m[1019 22:53:12 @monitor.py:467]\u001b[0m GAN_loss/gen/klloss: 0.063435\n",
      "\u001b[32m[1019 22:53:12 @monitor.py:467]\u001b[0m GAN_loss/gen/loss: 0.94524\n",
      "\u001b[32m[1019 22:53:12 @monitor.py:467]\u001b[0m QueueInput/queue_size: 50\n",
      "\u001b[32m[1019 22:53:12 @base.py:275]\u001b[0m Start Epoch 958 ...\n"
     ]
    },
    {
     "name": "stderr",
     "output_type": "stream",
     "text": [
      "100%|###################################################################################|175/175[00:05<00:00,29.46it/s]"
     ]
    },
    {
     "name": "stdout",
     "output_type": "stream",
     "text": [
      "\u001b[32m[1019 22:53:18 @base.py:285]\u001b[0m Epoch 958 (global_step 167650) finished, time:5.94 seconds.\n",
      "\u001b[32m[1019 22:53:18 @saver.py:79]\u001b[0m Model saved to ../output/Chicago/DATGAN_05/model\\model-167650.\n"
     ]
    },
    {
     "name": "stderr",
     "output_type": "stream",
     "text": [
      "\n"
     ]
    },
    {
     "name": "stdout",
     "output_type": "stream",
     "text": [
      "\u001b[32m[1019 22:53:18 @monitor.py:467]\u001b[0m GAN_loss/discrim/accuracy_fake: 0.97\n",
      "\u001b[32m[1019 22:53:18 @monitor.py:467]\u001b[0m GAN_loss/discrim/accuracy_real: 0.044\n",
      "\u001b[32m[1019 22:53:18 @monitor.py:467]\u001b[0m GAN_loss/discrim/loss: 0.6504\n",
      "\u001b[32m[1019 22:53:18 @monitor.py:467]\u001b[0m GAN_loss/gen/final-g-loss: 1.0242\n",
      "\u001b[32m[1019 22:53:18 @monitor.py:467]\u001b[0m GAN_loss/gen/klloss: 0.088388\n",
      "\u001b[32m[1019 22:53:18 @monitor.py:467]\u001b[0m GAN_loss/gen/loss: 0.93577\n",
      "\u001b[32m[1019 22:53:18 @monitor.py:467]\u001b[0m QueueInput/queue_size: 50\n",
      "\u001b[32m[1019 22:53:18 @base.py:275]\u001b[0m Start Epoch 959 ...\n"
     ]
    },
    {
     "name": "stderr",
     "output_type": "stream",
     "text": [
      "100%|###################################################################################|175/175[00:05<00:00,29.60it/s]"
     ]
    },
    {
     "name": "stdout",
     "output_type": "stream",
     "text": [
      "\u001b[32m[1019 22:53:24 @base.py:285]\u001b[0m Epoch 959 (global_step 167825) finished, time:5.91 seconds.\n",
      "\u001b[32m[1019 22:53:24 @saver.py:79]\u001b[0m Model saved to ../output/Chicago/DATGAN_05/model\\model-167825.\n"
     ]
    },
    {
     "name": "stderr",
     "output_type": "stream",
     "text": [
      "\n"
     ]
    },
    {
     "name": "stdout",
     "output_type": "stream",
     "text": [
      "\u001b[32m[1019 22:53:24 @monitor.py:467]\u001b[0m GAN_loss/discrim/accuracy_fake: 0.982\n",
      "\u001b[32m[1019 22:53:24 @monitor.py:467]\u001b[0m GAN_loss/discrim/accuracy_real: 0.054\n",
      "\u001b[32m[1019 22:53:24 @monitor.py:467]\u001b[0m GAN_loss/discrim/loss: 0.65124\n",
      "\u001b[32m[1019 22:53:24 @monitor.py:467]\u001b[0m GAN_loss/gen/final-g-loss: 0.99918\n",
      "\u001b[32m[1019 22:53:24 @monitor.py:467]\u001b[0m GAN_loss/gen/klloss: 0.048772\n",
      "\u001b[32m[1019 22:53:24 @monitor.py:467]\u001b[0m GAN_loss/gen/loss: 0.95041\n",
      "\u001b[32m[1019 22:53:24 @monitor.py:467]\u001b[0m QueueInput/queue_size: 50\n",
      "\u001b[32m[1019 22:53:24 @base.py:275]\u001b[0m Start Epoch 960 ...\n"
     ]
    },
    {
     "name": "stderr",
     "output_type": "stream",
     "text": [
      "100%|###################################################################################|175/175[00:06<00:00,28.79it/s]"
     ]
    },
    {
     "name": "stdout",
     "output_type": "stream",
     "text": [
      "\u001b[32m[1019 22:53:31 @base.py:285]\u001b[0m Epoch 960 (global_step 168000) finished, time:6.08 seconds.\n",
      "\u001b[32m[1019 22:53:31 @saver.py:79]\u001b[0m Model saved to ../output/Chicago/DATGAN_05/model\\model-168000.\n"
     ]
    },
    {
     "name": "stderr",
     "output_type": "stream",
     "text": [
      "\n"
     ]
    },
    {
     "name": "stdout",
     "output_type": "stream",
     "text": [
      "\u001b[32m[1019 22:53:31 @monitor.py:467]\u001b[0m GAN_loss/discrim/accuracy_fake: 0.968\n",
      "\u001b[32m[1019 22:53:31 @monitor.py:467]\u001b[0m GAN_loss/discrim/accuracy_real: 0.042\n",
      "\u001b[32m[1019 22:53:31 @monitor.py:467]\u001b[0m GAN_loss/discrim/loss: 0.6512\n",
      "\u001b[32m[1019 22:53:31 @monitor.py:467]\u001b[0m GAN_loss/gen/final-g-loss: 1.0242\n",
      "\u001b[32m[1019 22:53:31 @monitor.py:467]\u001b[0m GAN_loss/gen/klloss: 0.075179\n",
      "\u001b[32m[1019 22:53:31 @monitor.py:467]\u001b[0m GAN_loss/gen/loss: 0.949\n",
      "\u001b[32m[1019 22:53:31 @monitor.py:467]\u001b[0m QueueInput/queue_size: 50\n",
      "\u001b[32m[1019 22:53:31 @base.py:275]\u001b[0m Start Epoch 961 ...\n"
     ]
    },
    {
     "name": "stderr",
     "output_type": "stream",
     "text": [
      "100%|###################################################################################|175/175[00:06<00:00,27.52it/s]"
     ]
    },
    {
     "name": "stdout",
     "output_type": "stream",
     "text": [
      "\u001b[32m[1019 22:53:37 @base.py:285]\u001b[0m Epoch 961 (global_step 168175) finished, time:6.36 seconds.\n"
     ]
    },
    {
     "name": "stderr",
     "output_type": "stream",
     "text": [
      "\n"
     ]
    },
    {
     "name": "stdout",
     "output_type": "stream",
     "text": [
      "\u001b[32m[1019 22:53:37 @saver.py:79]\u001b[0m Model saved to ../output/Chicago/DATGAN_05/model\\model-168175.\n",
      "\u001b[32m[1019 22:53:38 @monitor.py:467]\u001b[0m GAN_loss/discrim/accuracy_fake: 0.966\n",
      "\u001b[32m[1019 22:53:38 @monitor.py:467]\u001b[0m GAN_loss/discrim/accuracy_real: 0.056\n",
      "\u001b[32m[1019 22:53:38 @monitor.py:467]\u001b[0m GAN_loss/discrim/loss: 0.64391\n",
      "\u001b[32m[1019 22:53:38 @monitor.py:467]\u001b[0m GAN_loss/gen/final-g-loss: 0.98472\n",
      "\u001b[32m[1019 22:53:38 @monitor.py:467]\u001b[0m GAN_loss/gen/klloss: 0.033156\n",
      "\u001b[32m[1019 22:53:38 @monitor.py:467]\u001b[0m GAN_loss/gen/loss: 0.95156\n",
      "\u001b[32m[1019 22:53:38 @monitor.py:467]\u001b[0m QueueInput/queue_size: 50\n",
      "\u001b[32m[1019 22:53:38 @base.py:275]\u001b[0m Start Epoch 962 ...\n"
     ]
    },
    {
     "name": "stderr",
     "output_type": "stream",
     "text": [
      "100%|###################################################################################|175/175[00:06<00:00,27.40it/s]"
     ]
    },
    {
     "name": "stdout",
     "output_type": "stream",
     "text": [
      "\u001b[32m[1019 22:53:44 @base.py:285]\u001b[0m Epoch 962 (global_step 168350) finished, time:6.39 seconds.\n"
     ]
    },
    {
     "name": "stderr",
     "output_type": "stream",
     "text": [
      "\n"
     ]
    },
    {
     "name": "stdout",
     "output_type": "stream",
     "text": [
      "\u001b[32m[1019 22:53:44 @saver.py:79]\u001b[0m Model saved to ../output/Chicago/DATGAN_05/model\\model-168350.\n",
      "\u001b[32m[1019 22:53:44 @monitor.py:467]\u001b[0m GAN_loss/discrim/accuracy_fake: 0.952\n",
      "\u001b[32m[1019 22:53:44 @monitor.py:467]\u001b[0m GAN_loss/discrim/accuracy_real: 0.05\n",
      "\u001b[32m[1019 22:53:44 @monitor.py:467]\u001b[0m GAN_loss/discrim/loss: 0.64526\n",
      "\u001b[32m[1019 22:53:44 @monitor.py:467]\u001b[0m GAN_loss/gen/final-g-loss: 1.0021\n",
      "\u001b[32m[1019 22:53:44 @monitor.py:467]\u001b[0m GAN_loss/gen/klloss: 0.060844\n",
      "\u001b[32m[1019 22:53:44 @monitor.py:467]\u001b[0m GAN_loss/gen/loss: 0.94125\n",
      "\u001b[32m[1019 22:53:44 @monitor.py:467]\u001b[0m QueueInput/queue_size: 50\n",
      "\u001b[32m[1019 22:53:44 @base.py:275]\u001b[0m Start Epoch 963 ...\n"
     ]
    },
    {
     "name": "stderr",
     "output_type": "stream",
     "text": [
      "100%|###################################################################################|175/175[00:06<00:00,28.01it/s]"
     ]
    },
    {
     "name": "stdout",
     "output_type": "stream",
     "text": [
      "\u001b[32m[1019 22:53:50 @base.py:285]\u001b[0m Epoch 963 (global_step 168525) finished, time:6.25 seconds.\n",
      "\u001b[32m[1019 22:53:51 @saver.py:79]\u001b[0m Model saved to ../output/Chicago/DATGAN_05/model\\model-168525.\n"
     ]
    },
    {
     "name": "stderr",
     "output_type": "stream",
     "text": [
      "\n"
     ]
    },
    {
     "name": "stdout",
     "output_type": "stream",
     "text": [
      "\u001b[32m[1019 22:53:51 @monitor.py:467]\u001b[0m GAN_loss/discrim/accuracy_fake: 0.968\n",
      "\u001b[32m[1019 22:53:51 @monitor.py:467]\u001b[0m GAN_loss/discrim/accuracy_real: 0.046\n",
      "\u001b[32m[1019 22:53:51 @monitor.py:467]\u001b[0m GAN_loss/discrim/loss: 0.6502\n",
      "\u001b[32m[1019 22:53:51 @monitor.py:467]\u001b[0m GAN_loss/gen/final-g-loss: 1.0005\n",
      "\u001b[32m[1019 22:53:51 @monitor.py:467]\u001b[0m GAN_loss/gen/klloss: 0.061029\n",
      "\u001b[32m[1019 22:53:51 @monitor.py:467]\u001b[0m GAN_loss/gen/loss: 0.93949\n",
      "\u001b[32m[1019 22:53:51 @monitor.py:467]\u001b[0m QueueInput/queue_size: 50\n",
      "\u001b[32m[1019 22:53:51 @base.py:275]\u001b[0m Start Epoch 964 ...\n"
     ]
    },
    {
     "name": "stderr",
     "output_type": "stream",
     "text": [
      "100%|###################################################################################|175/175[00:06<00:00,27.56it/s]"
     ]
    },
    {
     "name": "stdout",
     "output_type": "stream",
     "text": [
      "\u001b[32m[1019 22:53:57 @base.py:285]\u001b[0m Epoch 964 (global_step 168700) finished, time:6.35 seconds.\n",
      "\u001b[32m[1019 22:53:57 @saver.py:79]\u001b[0m Model saved to ../output/Chicago/DATGAN_05/model\\model-168700.\n"
     ]
    },
    {
     "name": "stderr",
     "output_type": "stream",
     "text": [
      "\n"
     ]
    },
    {
     "name": "stdout",
     "output_type": "stream",
     "text": [
      "\u001b[32m[1019 22:53:57 @monitor.py:467]\u001b[0m GAN_loss/discrim/accuracy_fake: 0.962\n",
      "\u001b[32m[1019 22:53:57 @monitor.py:467]\u001b[0m GAN_loss/discrim/accuracy_real: 0.052\n",
      "\u001b[32m[1019 22:53:57 @monitor.py:467]\u001b[0m GAN_loss/discrim/loss: 0.65038\n",
      "\u001b[32m[1019 22:53:57 @monitor.py:467]\u001b[0m GAN_loss/gen/final-g-loss: 0.99883\n",
      "\u001b[32m[1019 22:53:57 @monitor.py:467]\u001b[0m GAN_loss/gen/klloss: 0.055324\n",
      "\u001b[32m[1019 22:53:57 @monitor.py:467]\u001b[0m GAN_loss/gen/loss: 0.9435\n",
      "\u001b[32m[1019 22:53:57 @monitor.py:467]\u001b[0m QueueInput/queue_size: 50\n",
      "\u001b[32m[1019 22:53:57 @base.py:275]\u001b[0m Start Epoch 965 ...\n"
     ]
    },
    {
     "name": "stderr",
     "output_type": "stream",
     "text": [
      "100%|###################################################################################|175/175[00:06<00:00,27.28it/s]"
     ]
    },
    {
     "name": "stdout",
     "output_type": "stream",
     "text": [
      "\u001b[32m[1019 22:54:04 @base.py:285]\u001b[0m Epoch 965 (global_step 168875) finished, time:6.42 seconds.\n",
      "\u001b[32m[1019 22:54:04 @saver.py:79]\u001b[0m Model saved to ../output/Chicago/DATGAN_05/model\\model-168875.\n"
     ]
    },
    {
     "name": "stderr",
     "output_type": "stream",
     "text": [
      "\n"
     ]
    },
    {
     "name": "stdout",
     "output_type": "stream",
     "text": [
      "\u001b[32m[1019 22:54:04 @monitor.py:467]\u001b[0m GAN_loss/discrim/accuracy_fake: 0.972\n",
      "\u001b[32m[1019 22:54:04 @monitor.py:467]\u001b[0m GAN_loss/discrim/accuracy_real: 0.048\n",
      "\u001b[32m[1019 22:54:04 @monitor.py:467]\u001b[0m GAN_loss/discrim/loss: 0.64401\n",
      "\u001b[32m[1019 22:54:04 @monitor.py:467]\u001b[0m GAN_loss/gen/final-g-loss: 1.0022\n",
      "\u001b[32m[1019 22:54:04 @monitor.py:467]\u001b[0m GAN_loss/gen/klloss: 0.047165\n",
      "\u001b[32m[1019 22:54:04 @monitor.py:467]\u001b[0m GAN_loss/gen/loss: 0.955\n",
      "\u001b[32m[1019 22:54:04 @monitor.py:467]\u001b[0m QueueInput/queue_size: 50\n",
      "\u001b[32m[1019 22:54:04 @base.py:275]\u001b[0m Start Epoch 966 ...\n"
     ]
    },
    {
     "name": "stderr",
     "output_type": "stream",
     "text": [
      "100%|###################################################################################|175/175[00:06<00:00,28.56it/s]"
     ]
    },
    {
     "name": "stdout",
     "output_type": "stream",
     "text": [
      "\u001b[32m[1019 22:54:10 @base.py:285]\u001b[0m Epoch 966 (global_step 169050) finished, time:6.13 seconds.\n",
      "\u001b[32m[1019 22:54:10 @saver.py:79]\u001b[0m Model saved to ../output/Chicago/DATGAN_05/model\\model-169050.\n"
     ]
    },
    {
     "name": "stderr",
     "output_type": "stream",
     "text": [
      "\n"
     ]
    },
    {
     "name": "stdout",
     "output_type": "stream",
     "text": [
      "\u001b[32m[1019 22:54:10 @monitor.py:467]\u001b[0m GAN_loss/discrim/accuracy_fake: 0.966\n",
      "\u001b[32m[1019 22:54:10 @monitor.py:467]\u001b[0m GAN_loss/discrim/accuracy_real: 0.056\n",
      "\u001b[32m[1019 22:54:10 @monitor.py:467]\u001b[0m GAN_loss/discrim/loss: 0.65182\n",
      "\u001b[32m[1019 22:54:10 @monitor.py:467]\u001b[0m GAN_loss/gen/final-g-loss: 0.99372\n",
      "\u001b[32m[1019 22:54:10 @monitor.py:467]\u001b[0m GAN_loss/gen/klloss: 0.056545\n",
      "\u001b[32m[1019 22:54:10 @monitor.py:467]\u001b[0m GAN_loss/gen/loss: 0.93718\n",
      "\u001b[32m[1019 22:54:10 @monitor.py:467]\u001b[0m QueueInput/queue_size: 50\n",
      "\u001b[32m[1019 22:54:10 @base.py:275]\u001b[0m Start Epoch 967 ...\n"
     ]
    },
    {
     "name": "stderr",
     "output_type": "stream",
     "text": [
      "100%|###################################################################################|175/175[00:06<00:00,29.02it/s]"
     ]
    },
    {
     "name": "stdout",
     "output_type": "stream",
     "text": [
      "\u001b[32m[1019 22:54:16 @base.py:285]\u001b[0m Epoch 967 (global_step 169225) finished, time:6.03 seconds.\n",
      "\u001b[32m[1019 22:54:17 @saver.py:79]\u001b[0m Model saved to ../output/Chicago/DATGAN_05/model\\model-169225.\n"
     ]
    },
    {
     "name": "stderr",
     "output_type": "stream",
     "text": [
      "\n"
     ]
    },
    {
     "name": "stdout",
     "output_type": "stream",
     "text": [
      "\u001b[32m[1019 22:54:17 @monitor.py:467]\u001b[0m GAN_loss/discrim/accuracy_fake: 0.972\n",
      "\u001b[32m[1019 22:54:17 @monitor.py:467]\u001b[0m GAN_loss/discrim/accuracy_real: 0.056\n",
      "\u001b[32m[1019 22:54:17 @monitor.py:467]\u001b[0m GAN_loss/discrim/loss: 0.64907\n",
      "\u001b[32m[1019 22:54:17 @monitor.py:467]\u001b[0m GAN_loss/gen/final-g-loss: 1.0275\n",
      "\u001b[32m[1019 22:54:17 @monitor.py:467]\u001b[0m GAN_loss/gen/klloss: 0.079552\n",
      "\u001b[32m[1019 22:54:17 @monitor.py:467]\u001b[0m GAN_loss/gen/loss: 0.9479\n",
      "\u001b[32m[1019 22:54:17 @monitor.py:467]\u001b[0m QueueInput/queue_size: 50\n",
      "\u001b[32m[1019 22:54:17 @base.py:275]\u001b[0m Start Epoch 968 ...\n"
     ]
    },
    {
     "name": "stderr",
     "output_type": "stream",
     "text": [
      "100%|###################################################################################|175/175[00:06<00:00,28.98it/s]"
     ]
    },
    {
     "name": "stdout",
     "output_type": "stream",
     "text": [
      "\u001b[32m[1019 22:54:23 @base.py:285]\u001b[0m Epoch 968 (global_step 169400) finished, time:6.04 seconds.\n",
      "\u001b[32m[1019 22:54:23 @saver.py:79]\u001b[0m Model saved to ../output/Chicago/DATGAN_05/model\\model-169400.\n"
     ]
    },
    {
     "name": "stderr",
     "output_type": "stream",
     "text": [
      "\n"
     ]
    },
    {
     "name": "stdout",
     "output_type": "stream",
     "text": [
      "\u001b[32m[1019 22:54:23 @monitor.py:467]\u001b[0m GAN_loss/discrim/accuracy_fake: 0.962\n",
      "\u001b[32m[1019 22:54:23 @monitor.py:467]\u001b[0m GAN_loss/discrim/accuracy_real: 0.07\n",
      "\u001b[32m[1019 22:54:23 @monitor.py:467]\u001b[0m GAN_loss/discrim/loss: 0.64499\n",
      "\u001b[32m[1019 22:54:23 @monitor.py:467]\u001b[0m GAN_loss/gen/final-g-loss: 1.0003\n",
      "\u001b[32m[1019 22:54:23 @monitor.py:467]\u001b[0m GAN_loss/gen/klloss: 0.051732\n",
      "\u001b[32m[1019 22:54:23 @monitor.py:467]\u001b[0m GAN_loss/gen/loss: 0.94853\n",
      "\u001b[32m[1019 22:54:23 @monitor.py:467]\u001b[0m QueueInput/queue_size: 50\n",
      "\u001b[32m[1019 22:54:23 @base.py:275]\u001b[0m Start Epoch 969 ...\n"
     ]
    },
    {
     "name": "stderr",
     "output_type": "stream",
     "text": [
      "100%|###################################################################################|175/175[00:06<00:00,29.02it/s]"
     ]
    },
    {
     "name": "stdout",
     "output_type": "stream",
     "text": [
      "\u001b[32m[1019 22:54:29 @base.py:285]\u001b[0m Epoch 969 (global_step 169575) finished, time:6.03 seconds.\n",
      "\u001b[32m[1019 22:54:29 @saver.py:79]\u001b[0m Model saved to ../output/Chicago/DATGAN_05/model\\model-169575.\n"
     ]
    },
    {
     "name": "stderr",
     "output_type": "stream",
     "text": [
      "\n"
     ]
    },
    {
     "name": "stdout",
     "output_type": "stream",
     "text": [
      "\u001b[32m[1019 22:54:29 @monitor.py:467]\u001b[0m GAN_loss/discrim/accuracy_fake: 0.956\n",
      "\u001b[32m[1019 22:54:29 @monitor.py:467]\u001b[0m GAN_loss/discrim/accuracy_real: 0.038\n",
      "\u001b[32m[1019 22:54:29 @monitor.py:467]\u001b[0m GAN_loss/discrim/loss: 0.64838\n",
      "\u001b[32m[1019 22:54:29 @monitor.py:467]\u001b[0m GAN_loss/gen/final-g-loss: 1.0011\n",
      "\u001b[32m[1019 22:54:29 @monitor.py:467]\u001b[0m GAN_loss/gen/klloss: 0.050493\n",
      "\u001b[32m[1019 22:54:29 @monitor.py:467]\u001b[0m GAN_loss/gen/loss: 0.95057\n",
      "\u001b[32m[1019 22:54:29 @monitor.py:467]\u001b[0m QueueInput/queue_size: 50\n",
      "\u001b[32m[1019 22:54:29 @base.py:275]\u001b[0m Start Epoch 970 ...\n"
     ]
    },
    {
     "name": "stderr",
     "output_type": "stream",
     "text": [
      "100%|###################################################################################|175/175[00:06<00:00,27.32it/s]"
     ]
    },
    {
     "name": "stdout",
     "output_type": "stream",
     "text": [
      "\u001b[32m[1019 22:54:36 @base.py:285]\u001b[0m Epoch 970 (global_step 169750) finished, time:6.41 seconds.\n"
     ]
    },
    {
     "name": "stderr",
     "output_type": "stream",
     "text": [
      "\n"
     ]
    },
    {
     "name": "stdout",
     "output_type": "stream",
     "text": [
      "\u001b[32m[1019 22:54:36 @saver.py:79]\u001b[0m Model saved to ../output/Chicago/DATGAN_05/model\\model-169750.\n",
      "\u001b[32m[1019 22:54:36 @monitor.py:467]\u001b[0m GAN_loss/discrim/accuracy_fake: 0.976\n",
      "\u001b[32m[1019 22:54:36 @monitor.py:467]\u001b[0m GAN_loss/discrim/accuracy_real: 0.064\n",
      "\u001b[32m[1019 22:54:36 @monitor.py:467]\u001b[0m GAN_loss/discrim/loss: 0.64996\n",
      "\u001b[32m[1019 22:54:36 @monitor.py:467]\u001b[0m GAN_loss/gen/final-g-loss: 1.0345\n",
      "\u001b[32m[1019 22:54:36 @monitor.py:467]\u001b[0m GAN_loss/gen/klloss: 0.099365\n",
      "\u001b[32m[1019 22:54:36 @monitor.py:467]\u001b[0m GAN_loss/gen/loss: 0.93514\n",
      "\u001b[32m[1019 22:54:36 @monitor.py:467]\u001b[0m QueueInput/queue_size: 50\n",
      "\u001b[32m[1019 22:54:36 @base.py:275]\u001b[0m Start Epoch 971 ...\n"
     ]
    },
    {
     "name": "stderr",
     "output_type": "stream",
     "text": [
      "100%|###################################################################################|175/175[00:05<00:00,29.34it/s]"
     ]
    },
    {
     "name": "stdout",
     "output_type": "stream",
     "text": [
      "\u001b[32m[1019 22:54:42 @base.py:285]\u001b[0m Epoch 971 (global_step 169925) finished, time:5.97 seconds.\n",
      "\u001b[32m[1019 22:54:42 @saver.py:79]\u001b[0m Model saved to ../output/Chicago/DATGAN_05/model\\model-169925.\n"
     ]
    },
    {
     "name": "stderr",
     "output_type": "stream",
     "text": [
      "\n"
     ]
    },
    {
     "name": "stdout",
     "output_type": "stream",
     "text": [
      "\u001b[32m[1019 22:54:42 @monitor.py:467]\u001b[0m GAN_loss/discrim/accuracy_fake: 0.972\n",
      "\u001b[32m[1019 22:54:42 @monitor.py:467]\u001b[0m GAN_loss/discrim/accuracy_real: 0.052\n",
      "\u001b[32m[1019 22:54:42 @monitor.py:467]\u001b[0m GAN_loss/discrim/loss: 0.64713\n",
      "\u001b[32m[1019 22:54:42 @monitor.py:467]\u001b[0m GAN_loss/gen/final-g-loss: 0.99444\n",
      "\u001b[32m[1019 22:54:42 @monitor.py:467]\u001b[0m GAN_loss/gen/klloss: 0.049504\n",
      "\u001b[32m[1019 22:54:42 @monitor.py:467]\u001b[0m GAN_loss/gen/loss: 0.94493\n",
      "\u001b[32m[1019 22:54:42 @monitor.py:467]\u001b[0m QueueInput/queue_size: 50\n",
      "\u001b[32m[1019 22:54:42 @base.py:275]\u001b[0m Start Epoch 972 ...\n"
     ]
    },
    {
     "name": "stderr",
     "output_type": "stream",
     "text": [
      "100%|###################################################################################|175/175[00:05<00:00,29.35it/s]"
     ]
    },
    {
     "name": "stdout",
     "output_type": "stream",
     "text": [
      "\u001b[32m[1019 22:54:48 @base.py:285]\u001b[0m Epoch 972 (global_step 170100) finished, time:5.96 seconds.\n",
      "\u001b[32m[1019 22:54:48 @saver.py:79]\u001b[0m Model saved to ../output/Chicago/DATGAN_05/model\\model-170100.\n"
     ]
    },
    {
     "name": "stderr",
     "output_type": "stream",
     "text": [
      "\n"
     ]
    },
    {
     "name": "stdout",
     "output_type": "stream",
     "text": [
      "\u001b[32m[1019 22:54:48 @monitor.py:467]\u001b[0m GAN_loss/discrim/accuracy_fake: 0.974\n",
      "\u001b[32m[1019 22:54:48 @monitor.py:467]\u001b[0m GAN_loss/discrim/accuracy_real: 0.046\n",
      "\u001b[32m[1019 22:54:48 @monitor.py:467]\u001b[0m GAN_loss/discrim/loss: 0.65182\n",
      "\u001b[32m[1019 22:54:48 @monitor.py:467]\u001b[0m GAN_loss/gen/final-g-loss: 1.0175\n",
      "\u001b[32m[1019 22:54:48 @monitor.py:467]\u001b[0m GAN_loss/gen/klloss: 0.072354\n",
      "\u001b[32m[1019 22:54:48 @monitor.py:467]\u001b[0m GAN_loss/gen/loss: 0.94514\n",
      "\u001b[32m[1019 22:54:48 @monitor.py:467]\u001b[0m QueueInput/queue_size: 50\n",
      "\u001b[32m[1019 22:54:48 @base.py:275]\u001b[0m Start Epoch 973 ...\n"
     ]
    },
    {
     "name": "stderr",
     "output_type": "stream",
     "text": [
      "100%|###################################################################################|175/175[00:06<00:00,28.43it/s]"
     ]
    },
    {
     "name": "stdout",
     "output_type": "stream",
     "text": [
      "\u001b[32m[1019 22:54:55 @base.py:285]\u001b[0m Epoch 973 (global_step 170275) finished, time:6.16 seconds.\n",
      "\u001b[32m[1019 22:54:55 @saver.py:79]\u001b[0m Model saved to ../output/Chicago/DATGAN_05/model\\model-170275.\n"
     ]
    },
    {
     "name": "stderr",
     "output_type": "stream",
     "text": [
      "\n"
     ]
    },
    {
     "name": "stdout",
     "output_type": "stream",
     "text": [
      "\u001b[32m[1019 22:54:55 @monitor.py:467]\u001b[0m GAN_loss/discrim/accuracy_fake: 0.956\n",
      "\u001b[32m[1019 22:54:55 @monitor.py:467]\u001b[0m GAN_loss/discrim/accuracy_real: 0.054\n",
      "\u001b[32m[1019 22:54:55 @monitor.py:467]\u001b[0m GAN_loss/discrim/loss: 0.65106\n",
      "\u001b[32m[1019 22:54:55 @monitor.py:467]\u001b[0m GAN_loss/gen/final-g-loss: 0.99459\n",
      "\u001b[32m[1019 22:54:55 @monitor.py:467]\u001b[0m GAN_loss/gen/klloss: 0.049955\n",
      "\u001b[32m[1019 22:54:55 @monitor.py:467]\u001b[0m GAN_loss/gen/loss: 0.94464\n",
      "\u001b[32m[1019 22:54:55 @monitor.py:467]\u001b[0m QueueInput/queue_size: 50\n",
      "\u001b[32m[1019 22:54:55 @base.py:275]\u001b[0m Start Epoch 974 ...\n"
     ]
    },
    {
     "name": "stderr",
     "output_type": "stream",
     "text": [
      "100%|###################################################################################|175/175[00:06<00:00,28.71it/s]"
     ]
    },
    {
     "name": "stdout",
     "output_type": "stream",
     "text": [
      "\u001b[32m[1019 22:55:01 @base.py:285]\u001b[0m Epoch 974 (global_step 170450) finished, time:6.1 seconds.\n",
      "\u001b[32m[1019 22:55:01 @saver.py:79]\u001b[0m Model saved to ../output/Chicago/DATGAN_05/model\\model-170450.\n"
     ]
    },
    {
     "name": "stderr",
     "output_type": "stream",
     "text": [
      "\n"
     ]
    },
    {
     "name": "stdout",
     "output_type": "stream",
     "text": [
      "\u001b[32m[1019 22:55:01 @monitor.py:467]\u001b[0m GAN_loss/discrim/accuracy_fake: 0.978\n",
      "\u001b[32m[1019 22:55:01 @monitor.py:467]\u001b[0m GAN_loss/discrim/accuracy_real: 0.054\n",
      "\u001b[32m[1019 22:55:01 @monitor.py:467]\u001b[0m GAN_loss/discrim/loss: 0.6467\n",
      "\u001b[32m[1019 22:55:01 @monitor.py:467]\u001b[0m GAN_loss/gen/final-g-loss: 1.0104\n",
      "\u001b[32m[1019 22:55:01 @monitor.py:467]\u001b[0m GAN_loss/gen/klloss: 0.056126\n",
      "\u001b[32m[1019 22:55:01 @monitor.py:467]\u001b[0m GAN_loss/gen/loss: 0.95423\n",
      "\u001b[32m[1019 22:55:01 @monitor.py:467]\u001b[0m QueueInput/queue_size: 50\n",
      "\u001b[32m[1019 22:55:01 @base.py:275]\u001b[0m Start Epoch 975 ...\n"
     ]
    },
    {
     "name": "stderr",
     "output_type": "stream",
     "text": [
      "100%|###################################################################################|175/175[00:06<00:00,27.98it/s]"
     ]
    },
    {
     "name": "stdout",
     "output_type": "stream",
     "text": [
      "\u001b[32m[1019 22:55:08 @base.py:285]\u001b[0m Epoch 975 (global_step 170625) finished, time:6.25 seconds.\n"
     ]
    },
    {
     "name": "stderr",
     "output_type": "stream",
     "text": [
      "\n"
     ]
    },
    {
     "name": "stdout",
     "output_type": "stream",
     "text": [
      "\u001b[32m[1019 22:55:08 @saver.py:79]\u001b[0m Model saved to ../output/Chicago/DATGAN_05/model\\model-170625.\n",
      "\u001b[32m[1019 22:55:08 @monitor.py:467]\u001b[0m GAN_loss/discrim/accuracy_fake: 0.966\n",
      "\u001b[32m[1019 22:55:08 @monitor.py:467]\u001b[0m GAN_loss/discrim/accuracy_real: 0.062\n",
      "\u001b[32m[1019 22:55:08 @monitor.py:467]\u001b[0m GAN_loss/discrim/loss: 0.64957\n",
      "\u001b[32m[1019 22:55:08 @monitor.py:467]\u001b[0m GAN_loss/gen/final-g-loss: 0.98631\n",
      "\u001b[32m[1019 22:55:08 @monitor.py:467]\u001b[0m GAN_loss/gen/klloss: 0.045615\n",
      "\u001b[32m[1019 22:55:08 @monitor.py:467]\u001b[0m GAN_loss/gen/loss: 0.94069\n",
      "\u001b[32m[1019 22:55:08 @monitor.py:467]\u001b[0m QueueInput/queue_size: 50\n",
      "\u001b[32m[1019 22:55:08 @base.py:275]\u001b[0m Start Epoch 976 ...\n"
     ]
    },
    {
     "name": "stderr",
     "output_type": "stream",
     "text": [
      "100%|###################################################################################|175/175[00:06<00:00,28.74it/s]"
     ]
    },
    {
     "name": "stdout",
     "output_type": "stream",
     "text": [
      "\u001b[32m[1019 22:55:14 @base.py:285]\u001b[0m Epoch 976 (global_step 170800) finished, time:6.09 seconds.\n",
      "\u001b[32m[1019 22:55:14 @saver.py:79]\u001b[0m Model saved to ../output/Chicago/DATGAN_05/model\\model-170800.\n"
     ]
    },
    {
     "name": "stderr",
     "output_type": "stream",
     "text": [
      "\n"
     ]
    },
    {
     "name": "stdout",
     "output_type": "stream",
     "text": [
      "\u001b[32m[1019 22:55:14 @monitor.py:467]\u001b[0m GAN_loss/discrim/accuracy_fake: 0.96\n",
      "\u001b[32m[1019 22:55:14 @monitor.py:467]\u001b[0m GAN_loss/discrim/accuracy_real: 0.05\n",
      "\u001b[32m[1019 22:55:14 @monitor.py:467]\u001b[0m GAN_loss/discrim/loss: 0.65505\n",
      "\u001b[32m[1019 22:55:14 @monitor.py:467]\u001b[0m GAN_loss/gen/final-g-loss: 0.99704\n",
      "\u001b[32m[1019 22:55:14 @monitor.py:467]\u001b[0m GAN_loss/gen/klloss: 0.057362\n",
      "\u001b[32m[1019 22:55:14 @monitor.py:467]\u001b[0m GAN_loss/gen/loss: 0.93968\n",
      "\u001b[32m[1019 22:55:14 @monitor.py:467]\u001b[0m QueueInput/queue_size: 50\n",
      "\u001b[32m[1019 22:55:14 @base.py:275]\u001b[0m Start Epoch 977 ...\n"
     ]
    },
    {
     "name": "stderr",
     "output_type": "stream",
     "text": [
      "100%|###################################################################################|175/175[00:06<00:00,29.08it/s]"
     ]
    },
    {
     "name": "stdout",
     "output_type": "stream",
     "text": [
      "\u001b[32m[1019 22:55:20 @base.py:285]\u001b[0m Epoch 977 (global_step 170975) finished, time:6.02 seconds.\n",
      "\u001b[32m[1019 22:55:20 @saver.py:79]\u001b[0m Model saved to ../output/Chicago/DATGAN_05/model\\model-170975.\n"
     ]
    },
    {
     "name": "stderr",
     "output_type": "stream",
     "text": [
      "\n"
     ]
    },
    {
     "name": "stdout",
     "output_type": "stream",
     "text": [
      "\u001b[32m[1019 22:55:21 @monitor.py:467]\u001b[0m GAN_loss/discrim/accuracy_fake: 0.972\n",
      "\u001b[32m[1019 22:55:21 @monitor.py:467]\u001b[0m GAN_loss/discrim/accuracy_real: 0.052\n",
      "\u001b[32m[1019 22:55:21 @monitor.py:467]\u001b[0m GAN_loss/discrim/loss: 0.65359\n",
      "\u001b[32m[1019 22:55:21 @monitor.py:467]\u001b[0m GAN_loss/gen/final-g-loss: 0.99698\n",
      "\u001b[32m[1019 22:55:21 @monitor.py:467]\u001b[0m GAN_loss/gen/klloss: 0.055324\n",
      "\u001b[32m[1019 22:55:21 @monitor.py:467]\u001b[0m GAN_loss/gen/loss: 0.94165\n",
      "\u001b[32m[1019 22:55:21 @monitor.py:467]\u001b[0m QueueInput/queue_size: 50\n",
      "\u001b[32m[1019 22:55:21 @base.py:275]\u001b[0m Start Epoch 978 ...\n"
     ]
    },
    {
     "name": "stderr",
     "output_type": "stream",
     "text": [
      "100%|###################################################################################|175/175[00:06<00:00,28.80it/s]"
     ]
    },
    {
     "name": "stdout",
     "output_type": "stream",
     "text": [
      "\u001b[32m[1019 22:55:27 @base.py:285]\u001b[0m Epoch 978 (global_step 171150) finished, time:6.08 seconds.\n",
      "\u001b[32m[1019 22:55:27 @saver.py:79]\u001b[0m Model saved to ../output/Chicago/DATGAN_05/model\\model-171150.\n"
     ]
    },
    {
     "name": "stderr",
     "output_type": "stream",
     "text": [
      "\n"
     ]
    },
    {
     "name": "stdout",
     "output_type": "stream",
     "text": [
      "\u001b[32m[1019 22:55:27 @monitor.py:467]\u001b[0m GAN_loss/discrim/accuracy_fake: 0.966\n",
      "\u001b[32m[1019 22:55:27 @monitor.py:467]\u001b[0m GAN_loss/discrim/accuracy_real: 0.046\n",
      "\u001b[32m[1019 22:55:27 @monitor.py:467]\u001b[0m GAN_loss/discrim/loss: 0.64692\n",
      "\u001b[32m[1019 22:55:27 @monitor.py:467]\u001b[0m GAN_loss/gen/final-g-loss: 1.0177\n",
      "\u001b[32m[1019 22:55:27 @monitor.py:467]\u001b[0m GAN_loss/gen/klloss: 0.071657\n",
      "\u001b[32m[1019 22:55:27 @monitor.py:467]\u001b[0m GAN_loss/gen/loss: 0.94603\n",
      "\u001b[32m[1019 22:55:27 @monitor.py:467]\u001b[0m QueueInput/queue_size: 50\n",
      "\u001b[32m[1019 22:55:27 @base.py:275]\u001b[0m Start Epoch 979 ...\n"
     ]
    },
    {
     "name": "stderr",
     "output_type": "stream",
     "text": [
      "100%|###################################################################################|175/175[00:06<00:00,28.11it/s]"
     ]
    },
    {
     "name": "stdout",
     "output_type": "stream",
     "text": [
      "\u001b[32m[1019 22:55:33 @base.py:285]\u001b[0m Epoch 979 (global_step 171325) finished, time:6.23 seconds.\n",
      "\u001b[32m[1019 22:55:33 @saver.py:79]\u001b[0m Model saved to ../output/Chicago/DATGAN_05/model\\model-171325.\n"
     ]
    },
    {
     "name": "stderr",
     "output_type": "stream",
     "text": [
      "\n"
     ]
    },
    {
     "name": "stdout",
     "output_type": "stream",
     "text": [
      "\u001b[32m[1019 22:55:33 @monitor.py:467]\u001b[0m GAN_loss/discrim/accuracy_fake: 0.97\n",
      "\u001b[32m[1019 22:55:33 @monitor.py:467]\u001b[0m GAN_loss/discrim/accuracy_real: 0.042\n",
      "\u001b[32m[1019 22:55:33 @monitor.py:467]\u001b[0m GAN_loss/discrim/loss: 0.65188\n",
      "\u001b[32m[1019 22:55:33 @monitor.py:467]\u001b[0m GAN_loss/gen/final-g-loss: 0.98512\n",
      "\u001b[32m[1019 22:55:33 @monitor.py:467]\u001b[0m GAN_loss/gen/klloss: 0.042385\n",
      "\u001b[32m[1019 22:55:33 @monitor.py:467]\u001b[0m GAN_loss/gen/loss: 0.94273\n",
      "\u001b[32m[1019 22:55:33 @monitor.py:467]\u001b[0m QueueInput/queue_size: 50\n",
      "\u001b[32m[1019 22:55:33 @base.py:275]\u001b[0m Start Epoch 980 ...\n"
     ]
    },
    {
     "name": "stderr",
     "output_type": "stream",
     "text": [
      "100%|###################################################################################|175/175[00:06<00:00,28.06it/s]"
     ]
    },
    {
     "name": "stdout",
     "output_type": "stream",
     "text": [
      "\u001b[32m[1019 22:55:40 @base.py:285]\u001b[0m Epoch 980 (global_step 171500) finished, time:6.24 seconds.\n",
      "\u001b[32m[1019 22:55:40 @saver.py:79]\u001b[0m Model saved to ../output/Chicago/DATGAN_05/model\\model-171500.\n"
     ]
    },
    {
     "name": "stderr",
     "output_type": "stream",
     "text": [
      "\n"
     ]
    },
    {
     "name": "stdout",
     "output_type": "stream",
     "text": [
      "\u001b[32m[1019 22:55:40 @monitor.py:467]\u001b[0m GAN_loss/discrim/accuracy_fake: 0.964\n",
      "\u001b[32m[1019 22:55:40 @monitor.py:467]\u001b[0m GAN_loss/discrim/accuracy_real: 0.054\n",
      "\u001b[32m[1019 22:55:40 @monitor.py:467]\u001b[0m GAN_loss/discrim/loss: 0.6531\n",
      "\u001b[32m[1019 22:55:40 @monitor.py:467]\u001b[0m GAN_loss/gen/final-g-loss: 0.98991\n",
      "\u001b[32m[1019 22:55:40 @monitor.py:467]\u001b[0m GAN_loss/gen/klloss: 0.046787\n",
      "\u001b[32m[1019 22:55:40 @monitor.py:467]\u001b[0m GAN_loss/gen/loss: 0.94312\n",
      "\u001b[32m[1019 22:55:40 @monitor.py:467]\u001b[0m QueueInput/queue_size: 50\n",
      "\u001b[32m[1019 22:55:40 @base.py:275]\u001b[0m Start Epoch 981 ...\n"
     ]
    },
    {
     "name": "stderr",
     "output_type": "stream",
     "text": [
      "100%|###################################################################################|175/175[00:06<00:00,28.83it/s]"
     ]
    },
    {
     "name": "stdout",
     "output_type": "stream",
     "text": [
      "\u001b[32m[1019 22:55:46 @base.py:285]\u001b[0m Epoch 981 (global_step 171675) finished, time:6.07 seconds.\n",
      "\u001b[32m[1019 22:55:46 @saver.py:79]\u001b[0m Model saved to ../output/Chicago/DATGAN_05/model\\model-171675.\n"
     ]
    },
    {
     "name": "stderr",
     "output_type": "stream",
     "text": [
      "\n"
     ]
    },
    {
     "name": "stdout",
     "output_type": "stream",
     "text": [
      "\u001b[32m[1019 22:55:46 @monitor.py:467]\u001b[0m GAN_loss/discrim/accuracy_fake: 0.986\n",
      "\u001b[32m[1019 22:55:46 @monitor.py:467]\u001b[0m GAN_loss/discrim/accuracy_real: 0.052\n",
      "\u001b[32m[1019 22:55:46 @monitor.py:467]\u001b[0m GAN_loss/discrim/loss: 0.64206\n",
      "\u001b[32m[1019 22:55:46 @monitor.py:467]\u001b[0m GAN_loss/gen/final-g-loss: 1.0111\n",
      "\u001b[32m[1019 22:55:46 @monitor.py:467]\u001b[0m GAN_loss/gen/klloss: 0.051672\n",
      "\u001b[32m[1019 22:55:46 @monitor.py:467]\u001b[0m GAN_loss/gen/loss: 0.95942\n",
      "\u001b[32m[1019 22:55:46 @monitor.py:467]\u001b[0m QueueInput/queue_size: 50\n",
      "\u001b[32m[1019 22:55:46 @base.py:275]\u001b[0m Start Epoch 982 ...\n"
     ]
    },
    {
     "name": "stderr",
     "output_type": "stream",
     "text": [
      "100%|###################################################################################|175/175[00:06<00:00,28.34it/s]"
     ]
    },
    {
     "name": "stdout",
     "output_type": "stream",
     "text": [
      "\u001b[32m[1019 22:55:52 @base.py:285]\u001b[0m Epoch 982 (global_step 171850) finished, time:6.18 seconds.\n",
      "\u001b[32m[1019 22:55:53 @saver.py:79]\u001b[0m Model saved to ../output/Chicago/DATGAN_05/model\\model-171850.\n"
     ]
    },
    {
     "name": "stderr",
     "output_type": "stream",
     "text": [
      "\n"
     ]
    },
    {
     "name": "stdout",
     "output_type": "stream",
     "text": [
      "\u001b[32m[1019 22:55:53 @monitor.py:467]\u001b[0m GAN_loss/discrim/accuracy_fake: 0.974\n",
      "\u001b[32m[1019 22:55:53 @monitor.py:467]\u001b[0m GAN_loss/discrim/accuracy_real: 0.036\n",
      "\u001b[32m[1019 22:55:53 @monitor.py:467]\u001b[0m GAN_loss/discrim/loss: 0.64822\n",
      "\u001b[32m[1019 22:55:53 @monitor.py:467]\u001b[0m GAN_loss/gen/final-g-loss: 0.99886\n",
      "\u001b[32m[1019 22:55:53 @monitor.py:467]\u001b[0m GAN_loss/gen/klloss: 0.053024\n",
      "\u001b[32m[1019 22:55:53 @monitor.py:467]\u001b[0m GAN_loss/gen/loss: 0.94583\n",
      "\u001b[32m[1019 22:55:53 @monitor.py:467]\u001b[0m QueueInput/queue_size: 50\n",
      "\u001b[32m[1019 22:55:53 @base.py:275]\u001b[0m Start Epoch 983 ...\n"
     ]
    },
    {
     "name": "stderr",
     "output_type": "stream",
     "text": [
      "100%|###################################################################################|175/175[00:05<00:00,29.86it/s]"
     ]
    },
    {
     "name": "stdout",
     "output_type": "stream",
     "text": [
      "\u001b[32m[1019 22:55:59 @base.py:285]\u001b[0m Epoch 983 (global_step 172025) finished, time:5.86 seconds.\n"
     ]
    },
    {
     "name": "stderr",
     "output_type": "stream",
     "text": [
      "\n"
     ]
    },
    {
     "name": "stdout",
     "output_type": "stream",
     "text": [
      "\u001b[32m[1019 22:55:59 @saver.py:79]\u001b[0m Model saved to ../output/Chicago/DATGAN_05/model\\model-172025.\n",
      "\u001b[32m[1019 22:55:59 @monitor.py:467]\u001b[0m GAN_loss/discrim/accuracy_fake: 0.978\n",
      "\u001b[32m[1019 22:55:59 @monitor.py:467]\u001b[0m GAN_loss/discrim/accuracy_real: 0.052\n",
      "\u001b[32m[1019 22:55:59 @monitor.py:467]\u001b[0m GAN_loss/discrim/loss: 0.64846\n",
      "\u001b[32m[1019 22:55:59 @monitor.py:467]\u001b[0m GAN_loss/gen/final-g-loss: 1.0085\n",
      "\u001b[32m[1019 22:55:59 @monitor.py:467]\u001b[0m GAN_loss/gen/klloss: 0.065535\n",
      "\u001b[32m[1019 22:55:59 @monitor.py:467]\u001b[0m GAN_loss/gen/loss: 0.94294\n",
      "\u001b[32m[1019 22:55:59 @monitor.py:467]\u001b[0m QueueInput/queue_size: 50\n",
      "\u001b[32m[1019 22:55:59 @base.py:275]\u001b[0m Start Epoch 984 ...\n"
     ]
    },
    {
     "name": "stderr",
     "output_type": "stream",
     "text": [
      "100%|###################################################################################|175/175[00:06<00:00,29.03it/s]"
     ]
    },
    {
     "name": "stdout",
     "output_type": "stream",
     "text": [
      "\u001b[32m[1019 22:56:05 @base.py:285]\u001b[0m Epoch 984 (global_step 172200) finished, time:6.03 seconds.\n",
      "\u001b[32m[1019 22:56:05 @saver.py:79]\u001b[0m Model saved to ../output/Chicago/DATGAN_05/model\\model-172200.\n"
     ]
    },
    {
     "name": "stderr",
     "output_type": "stream",
     "text": [
      "\n"
     ]
    },
    {
     "name": "stdout",
     "output_type": "stream",
     "text": [
      "\u001b[32m[1019 22:56:05 @monitor.py:467]\u001b[0m GAN_loss/discrim/accuracy_fake: 0.968\n",
      "\u001b[32m[1019 22:56:05 @monitor.py:467]\u001b[0m GAN_loss/discrim/accuracy_real: 0.03\n",
      "\u001b[32m[1019 22:56:05 @monitor.py:467]\u001b[0m GAN_loss/discrim/loss: 0.64752\n",
      "\u001b[32m[1019 22:56:05 @monitor.py:467]\u001b[0m GAN_loss/gen/final-g-loss: 0.98527\n",
      "\u001b[32m[1019 22:56:05 @monitor.py:467]\u001b[0m GAN_loss/gen/klloss: 0.041975\n",
      "\u001b[32m[1019 22:56:05 @monitor.py:467]\u001b[0m GAN_loss/gen/loss: 0.94329\n",
      "\u001b[32m[1019 22:56:05 @monitor.py:467]\u001b[0m QueueInput/queue_size: 50\n",
      "\u001b[32m[1019 22:56:05 @base.py:275]\u001b[0m Start Epoch 985 ...\n"
     ]
    },
    {
     "name": "stderr",
     "output_type": "stream",
     "text": [
      "100%|###################################################################################|175/175[00:05<00:00,30.00it/s]"
     ]
    },
    {
     "name": "stdout",
     "output_type": "stream",
     "text": [
      "\u001b[32m[1019 22:56:11 @base.py:285]\u001b[0m Epoch 985 (global_step 172375) finished, time:5.83 seconds.\n",
      "\u001b[32m[1019 22:56:11 @saver.py:79]\u001b[0m Model saved to ../output/Chicago/DATGAN_05/model\\model-172375.\n"
     ]
    },
    {
     "name": "stderr",
     "output_type": "stream",
     "text": [
      "\n"
     ]
    },
    {
     "name": "stdout",
     "output_type": "stream",
     "text": [
      "\u001b[32m[1019 22:56:11 @monitor.py:467]\u001b[0m GAN_loss/discrim/accuracy_fake: 0.982\n",
      "\u001b[32m[1019 22:56:11 @monitor.py:467]\u001b[0m GAN_loss/discrim/accuracy_real: 0.04\n",
      "\u001b[32m[1019 22:56:11 @monitor.py:467]\u001b[0m GAN_loss/discrim/loss: 0.64269\n",
      "\u001b[32m[1019 22:56:11 @monitor.py:467]\u001b[0m GAN_loss/gen/final-g-loss: 0.99211\n",
      "\u001b[32m[1019 22:56:11 @monitor.py:467]\u001b[0m GAN_loss/gen/klloss: 0.038651\n",
      "\u001b[32m[1019 22:56:11 @monitor.py:467]\u001b[0m GAN_loss/gen/loss: 0.95346\n",
      "\u001b[32m[1019 22:56:11 @monitor.py:467]\u001b[0m QueueInput/queue_size: 50\n",
      "\u001b[32m[1019 22:56:11 @base.py:275]\u001b[0m Start Epoch 986 ...\n"
     ]
    },
    {
     "name": "stderr",
     "output_type": "stream",
     "text": [
      "100%|###################################################################################|175/175[00:05<00:00,30.80it/s]"
     ]
    },
    {
     "name": "stdout",
     "output_type": "stream",
     "text": [
      "\u001b[32m[1019 22:56:17 @base.py:285]\u001b[0m Epoch 986 (global_step 172550) finished, time:5.68 seconds.\n",
      "\u001b[32m[1019 22:56:17 @saver.py:79]\u001b[0m Model saved to ../output/Chicago/DATGAN_05/model\\model-172550.\n"
     ]
    },
    {
     "name": "stderr",
     "output_type": "stream",
     "text": [
      "\n"
     ]
    },
    {
     "name": "stdout",
     "output_type": "stream",
     "text": [
      "\u001b[32m[1019 22:56:17 @monitor.py:467]\u001b[0m GAN_loss/discrim/accuracy_fake: 0.972\n",
      "\u001b[32m[1019 22:56:17 @monitor.py:467]\u001b[0m GAN_loss/discrim/accuracy_real: 0.048\n",
      "\u001b[32m[1019 22:56:17 @monitor.py:467]\u001b[0m GAN_loss/discrim/loss: 0.65039\n",
      "\u001b[32m[1019 22:56:17 @monitor.py:467]\u001b[0m GAN_loss/gen/final-g-loss: 1.024\n",
      "\u001b[32m[1019 22:56:17 @monitor.py:467]\u001b[0m GAN_loss/gen/klloss: 0.070843\n",
      "\u001b[32m[1019 22:56:17 @monitor.py:467]\u001b[0m GAN_loss/gen/loss: 0.95319\n",
      "\u001b[32m[1019 22:56:17 @monitor.py:467]\u001b[0m QueueInput/queue_size: 50\n",
      "\u001b[32m[1019 22:56:17 @base.py:275]\u001b[0m Start Epoch 987 ...\n"
     ]
    },
    {
     "name": "stderr",
     "output_type": "stream",
     "text": [
      "100%|###################################################################################|175/175[00:05<00:00,30.35it/s]"
     ]
    },
    {
     "name": "stdout",
     "output_type": "stream",
     "text": [
      "\u001b[32m[1019 22:56:23 @base.py:285]\u001b[0m Epoch 987 (global_step 172725) finished, time:5.77 seconds.\n",
      "\u001b[32m[1019 22:56:23 @saver.py:79]\u001b[0m Model saved to ../output/Chicago/DATGAN_05/model\\model-172725.\n"
     ]
    },
    {
     "name": "stderr",
     "output_type": "stream",
     "text": [
      "\n"
     ]
    },
    {
     "name": "stdout",
     "output_type": "stream",
     "text": [
      "\u001b[32m[1019 22:56:23 @monitor.py:467]\u001b[0m GAN_loss/discrim/accuracy_fake: 0.978\n",
      "\u001b[32m[1019 22:56:23 @monitor.py:467]\u001b[0m GAN_loss/discrim/accuracy_real: 0.06\n",
      "\u001b[32m[1019 22:56:23 @monitor.py:467]\u001b[0m GAN_loss/discrim/loss: 0.65302\n",
      "\u001b[32m[1019 22:56:23 @monitor.py:467]\u001b[0m GAN_loss/gen/final-g-loss: 1.0042\n",
      "\u001b[32m[1019 22:56:23 @monitor.py:467]\u001b[0m GAN_loss/gen/klloss: 0.054572\n",
      "\u001b[32m[1019 22:56:23 @monitor.py:467]\u001b[0m GAN_loss/gen/loss: 0.94965\n",
      "\u001b[32m[1019 22:56:23 @monitor.py:467]\u001b[0m QueueInput/queue_size: 50\n",
      "\u001b[32m[1019 22:56:23 @base.py:275]\u001b[0m Start Epoch 988 ...\n"
     ]
    },
    {
     "name": "stderr",
     "output_type": "stream",
     "text": [
      "100%|###################################################################################|175/175[00:05<00:00,30.54it/s]"
     ]
    },
    {
     "name": "stdout",
     "output_type": "stream",
     "text": [
      "\u001b[32m[1019 22:56:29 @base.py:285]\u001b[0m Epoch 988 (global_step 172900) finished, time:5.73 seconds.\n",
      "\u001b[32m[1019 22:56:29 @saver.py:79]\u001b[0m Model saved to ../output/Chicago/DATGAN_05/model\\model-172900.\n"
     ]
    },
    {
     "name": "stderr",
     "output_type": "stream",
     "text": [
      "\n"
     ]
    },
    {
     "name": "stdout",
     "output_type": "stream",
     "text": [
      "\u001b[32m[1019 22:56:29 @monitor.py:467]\u001b[0m GAN_loss/discrim/accuracy_fake: 0.978\n",
      "\u001b[32m[1019 22:56:29 @monitor.py:467]\u001b[0m GAN_loss/discrim/accuracy_real: 0.056\n",
      "\u001b[32m[1019 22:56:29 @monitor.py:467]\u001b[0m GAN_loss/discrim/loss: 0.64471\n",
      "\u001b[32m[1019 22:56:29 @monitor.py:467]\u001b[0m GAN_loss/gen/final-g-loss: 0.99099\n",
      "\u001b[32m[1019 22:56:29 @monitor.py:467]\u001b[0m GAN_loss/gen/klloss: 0.044619\n",
      "\u001b[32m[1019 22:56:29 @monitor.py:467]\u001b[0m GAN_loss/gen/loss: 0.94637\n",
      "\u001b[32m[1019 22:56:29 @monitor.py:467]\u001b[0m QueueInput/queue_size: 50\n",
      "\u001b[32m[1019 22:56:29 @base.py:275]\u001b[0m Start Epoch 989 ...\n"
     ]
    },
    {
     "name": "stderr",
     "output_type": "stream",
     "text": [
      "100%|###################################################################################|175/175[00:06<00:00,28.75it/s]"
     ]
    },
    {
     "name": "stdout",
     "output_type": "stream",
     "text": [
      "\u001b[32m[1019 22:56:35 @base.py:285]\u001b[0m Epoch 989 (global_step 173075) finished, time:6.09 seconds.\n",
      "\u001b[32m[1019 22:56:35 @saver.py:79]\u001b[0m Model saved to ../output/Chicago/DATGAN_05/model\\model-173075.\n"
     ]
    },
    {
     "name": "stderr",
     "output_type": "stream",
     "text": [
      "\n"
     ]
    },
    {
     "name": "stdout",
     "output_type": "stream",
     "text": [
      "\u001b[32m[1019 22:56:36 @monitor.py:467]\u001b[0m GAN_loss/discrim/accuracy_fake: 0.964\n",
      "\u001b[32m[1019 22:56:36 @monitor.py:467]\u001b[0m GAN_loss/discrim/accuracy_real: 0.042\n",
      "\u001b[32m[1019 22:56:36 @monitor.py:467]\u001b[0m GAN_loss/discrim/loss: 0.64966\n",
      "\u001b[32m[1019 22:56:36 @monitor.py:467]\u001b[0m GAN_loss/gen/final-g-loss: 1.0014\n",
      "\u001b[32m[1019 22:56:36 @monitor.py:467]\u001b[0m GAN_loss/gen/klloss: 0.061249\n",
      "\u001b[32m[1019 22:56:36 @monitor.py:467]\u001b[0m GAN_loss/gen/loss: 0.94016\n",
      "\u001b[32m[1019 22:56:36 @monitor.py:467]\u001b[0m QueueInput/queue_size: 50\n",
      "\u001b[32m[1019 22:56:36 @base.py:275]\u001b[0m Start Epoch 990 ...\n"
     ]
    },
    {
     "name": "stderr",
     "output_type": "stream",
     "text": [
      "100%|###################################################################################|175/175[00:05<00:00,30.20it/s]"
     ]
    },
    {
     "name": "stdout",
     "output_type": "stream",
     "text": [
      "\u001b[32m[1019 22:56:41 @base.py:285]\u001b[0m Epoch 990 (global_step 173250) finished, time:5.79 seconds.\n",
      "\u001b[32m[1019 22:56:41 @saver.py:79]\u001b[0m Model saved to ../output/Chicago/DATGAN_05/model\\model-173250.\n"
     ]
    },
    {
     "name": "stderr",
     "output_type": "stream",
     "text": [
      "\n"
     ]
    },
    {
     "name": "stdout",
     "output_type": "stream",
     "text": [
      "\u001b[32m[1019 22:56:42 @monitor.py:467]\u001b[0m GAN_loss/discrim/accuracy_fake: 0.976\n",
      "\u001b[32m[1019 22:56:42 @monitor.py:467]\u001b[0m GAN_loss/discrim/accuracy_real: 0.052\n",
      "\u001b[32m[1019 22:56:42 @monitor.py:467]\u001b[0m GAN_loss/discrim/loss: 0.64464\n",
      "\u001b[32m[1019 22:56:42 @monitor.py:467]\u001b[0m GAN_loss/gen/final-g-loss: 1.0005\n",
      "\u001b[32m[1019 22:56:42 @monitor.py:467]\u001b[0m GAN_loss/gen/klloss: 0.0505\n",
      "\u001b[32m[1019 22:56:42 @monitor.py:467]\u001b[0m GAN_loss/gen/loss: 0.95005\n",
      "\u001b[32m[1019 22:56:42 @monitor.py:467]\u001b[0m QueueInput/queue_size: 50\n",
      "\u001b[32m[1019 22:56:42 @base.py:275]\u001b[0m Start Epoch 991 ...\n"
     ]
    },
    {
     "name": "stderr",
     "output_type": "stream",
     "text": [
      "100%|###################################################################################|175/175[00:05<00:00,30.75it/s]"
     ]
    },
    {
     "name": "stdout",
     "output_type": "stream",
     "text": [
      "\u001b[32m[1019 22:56:47 @base.py:285]\u001b[0m Epoch 991 (global_step 173425) finished, time:5.69 seconds.\n",
      "\u001b[32m[1019 22:56:47 @saver.py:79]\u001b[0m Model saved to ../output/Chicago/DATGAN_05/model\\model-173425.\n"
     ]
    },
    {
     "name": "stderr",
     "output_type": "stream",
     "text": [
      "\n"
     ]
    },
    {
     "name": "stdout",
     "output_type": "stream",
     "text": [
      "\u001b[32m[1019 22:56:48 @monitor.py:467]\u001b[0m GAN_loss/discrim/accuracy_fake: 0.984\n",
      "\u001b[32m[1019 22:56:48 @monitor.py:467]\u001b[0m GAN_loss/discrim/accuracy_real: 0.056\n",
      "\u001b[32m[1019 22:56:48 @monitor.py:467]\u001b[0m GAN_loss/discrim/loss: 0.65299\n",
      "\u001b[32m[1019 22:56:48 @monitor.py:467]\u001b[0m GAN_loss/gen/final-g-loss: 1.0001\n",
      "\u001b[32m[1019 22:56:48 @monitor.py:467]\u001b[0m GAN_loss/gen/klloss: 0.060273\n",
      "\u001b[32m[1019 22:56:48 @monitor.py:467]\u001b[0m GAN_loss/gen/loss: 0.93982\n",
      "\u001b[32m[1019 22:56:48 @monitor.py:467]\u001b[0m QueueInput/queue_size: 50\n",
      "\u001b[32m[1019 22:56:48 @base.py:275]\u001b[0m Start Epoch 992 ...\n"
     ]
    },
    {
     "name": "stderr",
     "output_type": "stream",
     "text": [
      "100%|###################################################################################|175/175[00:05<00:00,30.54it/s]"
     ]
    },
    {
     "name": "stdout",
     "output_type": "stream",
     "text": [
      "\u001b[32m[1019 22:56:53 @base.py:285]\u001b[0m Epoch 992 (global_step 173600) finished, time:5.73 seconds.\n",
      "\u001b[32m[1019 22:56:53 @saver.py:79]\u001b[0m Model saved to ../output/Chicago/DATGAN_05/model\\model-173600.\n"
     ]
    },
    {
     "name": "stderr",
     "output_type": "stream",
     "text": [
      "\n"
     ]
    },
    {
     "name": "stdout",
     "output_type": "stream",
     "text": [
      "\u001b[32m[1019 22:56:54 @monitor.py:467]\u001b[0m GAN_loss/discrim/accuracy_fake: 0.982\n",
      "\u001b[32m[1019 22:56:54 @monitor.py:467]\u001b[0m GAN_loss/discrim/accuracy_real: 0.038\n",
      "\u001b[32m[1019 22:56:54 @monitor.py:467]\u001b[0m GAN_loss/discrim/loss: 0.64953\n",
      "\u001b[32m[1019 22:56:54 @monitor.py:467]\u001b[0m GAN_loss/gen/final-g-loss: 0.98519\n",
      "\u001b[32m[1019 22:56:54 @monitor.py:467]\u001b[0m GAN_loss/gen/klloss: 0.042937\n",
      "\u001b[32m[1019 22:56:54 @monitor.py:467]\u001b[0m GAN_loss/gen/loss: 0.94225\n",
      "\u001b[32m[1019 22:56:54 @monitor.py:467]\u001b[0m QueueInput/queue_size: 50\n",
      "\u001b[32m[1019 22:56:54 @base.py:275]\u001b[0m Start Epoch 993 ...\n"
     ]
    },
    {
     "name": "stderr",
     "output_type": "stream",
     "text": [
      "100%|###################################################################################|175/175[00:05<00:00,30.73it/s]"
     ]
    },
    {
     "name": "stdout",
     "output_type": "stream",
     "text": [
      "\u001b[32m[1019 22:56:59 @base.py:285]\u001b[0m Epoch 993 (global_step 173775) finished, time:5.7 seconds.\n",
      "\u001b[32m[1019 22:56:59 @saver.py:79]\u001b[0m Model saved to ../output/Chicago/DATGAN_05/model\\model-173775.\n"
     ]
    },
    {
     "name": "stderr",
     "output_type": "stream",
     "text": [
      "\n"
     ]
    },
    {
     "name": "stdout",
     "output_type": "stream",
     "text": [
      "\u001b[32m[1019 22:57:00 @monitor.py:467]\u001b[0m GAN_loss/discrim/accuracy_fake: 0.972\n",
      "\u001b[32m[1019 22:57:00 @monitor.py:467]\u001b[0m GAN_loss/discrim/accuracy_real: 0.03\n",
      "\u001b[32m[1019 22:57:00 @monitor.py:467]\u001b[0m GAN_loss/discrim/loss: 0.65544\n",
      "\u001b[32m[1019 22:57:00 @monitor.py:467]\u001b[0m GAN_loss/gen/final-g-loss: 0.99845\n",
      "\u001b[32m[1019 22:57:00 @monitor.py:467]\u001b[0m GAN_loss/gen/klloss: 0.048771\n",
      "\u001b[32m[1019 22:57:00 @monitor.py:467]\u001b[0m GAN_loss/gen/loss: 0.94968\n",
      "\u001b[32m[1019 22:57:00 @monitor.py:467]\u001b[0m QueueInput/queue_size: 50\n",
      "\u001b[32m[1019 22:57:00 @base.py:275]\u001b[0m Start Epoch 994 ...\n"
     ]
    },
    {
     "name": "stderr",
     "output_type": "stream",
     "text": [
      "100%|###################################################################################|175/175[00:06<00:00,29.03it/s]"
     ]
    },
    {
     "name": "stdout",
     "output_type": "stream",
     "text": [
      "\u001b[32m[1019 22:57:06 @base.py:285]\u001b[0m Epoch 994 (global_step 173950) finished, time:6.03 seconds.\n",
      "\u001b[32m[1019 22:57:06 @saver.py:79]\u001b[0m Model saved to ../output/Chicago/DATGAN_05/model\\model-173950.\n"
     ]
    },
    {
     "name": "stderr",
     "output_type": "stream",
     "text": [
      "\n"
     ]
    },
    {
     "name": "stdout",
     "output_type": "stream",
     "text": [
      "\u001b[32m[1019 22:57:06 @monitor.py:467]\u001b[0m GAN_loss/discrim/accuracy_fake: 0.97\n",
      "\u001b[32m[1019 22:57:06 @monitor.py:467]\u001b[0m GAN_loss/discrim/accuracy_real: 0.048\n",
      "\u001b[32m[1019 22:57:06 @monitor.py:467]\u001b[0m GAN_loss/discrim/loss: 0.65181\n",
      "\u001b[32m[1019 22:57:06 @monitor.py:467]\u001b[0m GAN_loss/gen/final-g-loss: 0.98232\n",
      "\u001b[32m[1019 22:57:06 @monitor.py:467]\u001b[0m GAN_loss/gen/klloss: 0.03818\n",
      "\u001b[32m[1019 22:57:06 @monitor.py:467]\u001b[0m GAN_loss/gen/loss: 0.94414\n",
      "\u001b[32m[1019 22:57:06 @monitor.py:467]\u001b[0m QueueInput/queue_size: 50\n",
      "\u001b[32m[1019 22:57:06 @base.py:275]\u001b[0m Start Epoch 995 ...\n"
     ]
    },
    {
     "name": "stderr",
     "output_type": "stream",
     "text": [
      "100%|###################################################################################|175/175[00:05<00:00,30.23it/s]"
     ]
    },
    {
     "name": "stdout",
     "output_type": "stream",
     "text": [
      "\u001b[32m[1019 22:57:12 @base.py:285]\u001b[0m Epoch 995 (global_step 174125) finished, time:5.79 seconds.\n",
      "\u001b[32m[1019 22:57:12 @saver.py:79]\u001b[0m Model saved to ../output/Chicago/DATGAN_05/model\\model-174125.\n"
     ]
    },
    {
     "name": "stderr",
     "output_type": "stream",
     "text": [
      "\n"
     ]
    },
    {
     "name": "stdout",
     "output_type": "stream",
     "text": [
      "\u001b[32m[1019 22:57:12 @monitor.py:467]\u001b[0m GAN_loss/discrim/accuracy_fake: 0.974\n",
      "\u001b[32m[1019 22:57:12 @monitor.py:467]\u001b[0m GAN_loss/discrim/accuracy_real: 0.06\n",
      "\u001b[32m[1019 22:57:12 @monitor.py:467]\u001b[0m GAN_loss/discrim/loss: 0.6468\n",
      "\u001b[32m[1019 22:57:12 @monitor.py:467]\u001b[0m GAN_loss/gen/final-g-loss: 1.0044\n",
      "\u001b[32m[1019 22:57:12 @monitor.py:467]\u001b[0m GAN_loss/gen/klloss: 0.05849\n",
      "\u001b[32m[1019 22:57:12 @monitor.py:467]\u001b[0m GAN_loss/gen/loss: 0.94587\n",
      "\u001b[32m[1019 22:57:12 @monitor.py:467]\u001b[0m QueueInput/queue_size: 50\n",
      "\u001b[32m[1019 22:57:12 @base.py:275]\u001b[0m Start Epoch 996 ...\n"
     ]
    },
    {
     "name": "stderr",
     "output_type": "stream",
     "text": [
      "100%|###################################################################################|175/175[00:05<00:00,30.11it/s]"
     ]
    },
    {
     "name": "stdout",
     "output_type": "stream",
     "text": [
      "\u001b[32m[1019 22:57:18 @base.py:285]\u001b[0m Epoch 996 (global_step 174300) finished, time:5.81 seconds.\n",
      "\u001b[32m[1019 22:57:18 @saver.py:79]\u001b[0m Model saved to ../output/Chicago/DATGAN_05/model\\model-174300.\n"
     ]
    },
    {
     "name": "stderr",
     "output_type": "stream",
     "text": [
      "\n"
     ]
    },
    {
     "name": "stdout",
     "output_type": "stream",
     "text": [
      "\u001b[32m[1019 22:57:18 @monitor.py:467]\u001b[0m GAN_loss/discrim/accuracy_fake: 0.986\n",
      "\u001b[32m[1019 22:57:18 @monitor.py:467]\u001b[0m GAN_loss/discrim/accuracy_real: 0.062\n",
      "\u001b[32m[1019 22:57:18 @monitor.py:467]\u001b[0m GAN_loss/discrim/loss: 0.64831\n",
      "\u001b[32m[1019 22:57:18 @monitor.py:467]\u001b[0m GAN_loss/gen/final-g-loss: 0.99278\n",
      "\u001b[32m[1019 22:57:18 @monitor.py:467]\u001b[0m GAN_loss/gen/klloss: 0.051365\n",
      "\u001b[32m[1019 22:57:18 @monitor.py:467]\u001b[0m GAN_loss/gen/loss: 0.94141\n",
      "\u001b[32m[1019 22:57:18 @monitor.py:467]\u001b[0m QueueInput/queue_size: 50\n",
      "\u001b[32m[1019 22:57:18 @base.py:275]\u001b[0m Start Epoch 997 ...\n"
     ]
    },
    {
     "name": "stderr",
     "output_type": "stream",
     "text": [
      "100%|###################################################################################|175/175[00:05<00:00,30.22it/s]"
     ]
    },
    {
     "name": "stdout",
     "output_type": "stream",
     "text": [
      "\u001b[32m[1019 22:57:24 @base.py:285]\u001b[0m Epoch 997 (global_step 174475) finished, time:5.79 seconds.\n"
     ]
    },
    {
     "name": "stderr",
     "output_type": "stream",
     "text": [
      "\n"
     ]
    },
    {
     "name": "stdout",
     "output_type": "stream",
     "text": [
      "\u001b[32m[1019 22:57:24 @saver.py:79]\u001b[0m Model saved to ../output/Chicago/DATGAN_05/model\\model-174475.\n",
      "\u001b[32m[1019 22:57:24 @monitor.py:467]\u001b[0m GAN_loss/discrim/accuracy_fake: 0.972\n",
      "\u001b[32m[1019 22:57:24 @monitor.py:467]\u001b[0m GAN_loss/discrim/accuracy_real: 0.064\n",
      "\u001b[32m[1019 22:57:24 @monitor.py:467]\u001b[0m GAN_loss/discrim/loss: 0.64675\n",
      "\u001b[32m[1019 22:57:24 @monitor.py:467]\u001b[0m GAN_loss/gen/final-g-loss: 0.98056\n",
      "\u001b[32m[1019 22:57:24 @monitor.py:467]\u001b[0m GAN_loss/gen/klloss: 0.039982\n",
      "\u001b[32m[1019 22:57:24 @monitor.py:467]\u001b[0m GAN_loss/gen/loss: 0.94058\n",
      "\u001b[32m[1019 22:57:24 @monitor.py:467]\u001b[0m QueueInput/queue_size: 50\n",
      "\u001b[32m[1019 22:57:24 @base.py:275]\u001b[0m Start Epoch 998 ...\n"
     ]
    },
    {
     "name": "stderr",
     "output_type": "stream",
     "text": [
      "100%|###################################################################################|175/175[00:05<00:00,29.64it/s]"
     ]
    },
    {
     "name": "stdout",
     "output_type": "stream",
     "text": [
      "\u001b[32m[1019 22:57:30 @base.py:285]\u001b[0m Epoch 998 (global_step 174650) finished, time:5.9 seconds.\n",
      "\u001b[32m[1019 22:57:30 @saver.py:79]\u001b[0m Model saved to ../output/Chicago/DATGAN_05/model\\model-174650.\n"
     ]
    },
    {
     "name": "stderr",
     "output_type": "stream",
     "text": [
      "\n"
     ]
    },
    {
     "name": "stdout",
     "output_type": "stream",
     "text": [
      "\u001b[32m[1019 22:57:30 @monitor.py:467]\u001b[0m GAN_loss/discrim/accuracy_fake: 0.982\n",
      "\u001b[32m[1019 22:57:30 @monitor.py:467]\u001b[0m GAN_loss/discrim/accuracy_real: 0.046\n",
      "\u001b[32m[1019 22:57:30 @monitor.py:467]\u001b[0m GAN_loss/discrim/loss: 0.64306\n",
      "\u001b[32m[1019 22:57:30 @monitor.py:467]\u001b[0m GAN_loss/gen/final-g-loss: 0.99205\n",
      "\u001b[32m[1019 22:57:30 @monitor.py:467]\u001b[0m GAN_loss/gen/klloss: 0.050358\n",
      "\u001b[32m[1019 22:57:30 @monitor.py:467]\u001b[0m GAN_loss/gen/loss: 0.94169\n",
      "\u001b[32m[1019 22:57:30 @monitor.py:467]\u001b[0m QueueInput/queue_size: 50\n",
      "\u001b[32m[1019 22:57:30 @base.py:275]\u001b[0m Start Epoch 999 ...\n"
     ]
    },
    {
     "name": "stderr",
     "output_type": "stream",
     "text": [
      "100%|###################################################################################|175/175[00:06<00:00,29.12it/s]"
     ]
    },
    {
     "name": "stdout",
     "output_type": "stream",
     "text": [
      "\u001b[32m[1019 22:57:36 @base.py:285]\u001b[0m Epoch 999 (global_step 174825) finished, time:6.01 seconds.\n",
      "\u001b[32m[1019 22:57:36 @saver.py:79]\u001b[0m Model saved to ../output/Chicago/DATGAN_05/model\\model-174825.\n"
     ]
    },
    {
     "name": "stderr",
     "output_type": "stream",
     "text": [
      "\n"
     ]
    },
    {
     "name": "stdout",
     "output_type": "stream",
     "text": [
      "\u001b[32m[1019 22:57:37 @monitor.py:467]\u001b[0m GAN_loss/discrim/accuracy_fake: 0.97\n",
      "\u001b[32m[1019 22:57:37 @monitor.py:467]\u001b[0m GAN_loss/discrim/accuracy_real: 0.034\n",
      "\u001b[32m[1019 22:57:37 @monitor.py:467]\u001b[0m GAN_loss/discrim/loss: 0.64867\n",
      "\u001b[32m[1019 22:57:37 @monitor.py:467]\u001b[0m GAN_loss/gen/final-g-loss: 1.0478\n",
      "\u001b[32m[1019 22:57:37 @monitor.py:467]\u001b[0m GAN_loss/gen/klloss: 0.10909\n",
      "\u001b[32m[1019 22:57:37 @monitor.py:467]\u001b[0m GAN_loss/gen/loss: 0.93872\n",
      "\u001b[32m[1019 22:57:37 @monitor.py:467]\u001b[0m QueueInput/queue_size: 50\n",
      "\u001b[32m[1019 22:57:37 @base.py:275]\u001b[0m Start Epoch 1000 ...\n"
     ]
    },
    {
     "name": "stderr",
     "output_type": "stream",
     "text": [
      "100%|###################################################################################|175/175[00:05<00:00,30.94it/s]"
     ]
    },
    {
     "name": "stdout",
     "output_type": "stream",
     "text": [
      "\u001b[32m[1019 22:57:42 @base.py:285]\u001b[0m Epoch 1000 (global_step 175000) finished, time:5.66 seconds.\n",
      "\u001b[32m[1019 22:57:42 @saver.py:79]\u001b[0m Model saved to ../output/Chicago/DATGAN_05/model\\model-175000.\n"
     ]
    },
    {
     "name": "stderr",
     "output_type": "stream",
     "text": [
      "\n"
     ]
    },
    {
     "name": "stdout",
     "output_type": "stream",
     "text": [
      "\u001b[32m[1019 22:57:42 @monitor.py:467]\u001b[0m GAN_loss/discrim/accuracy_fake: 0.966\n",
      "\u001b[32m[1019 22:57:42 @monitor.py:467]\u001b[0m GAN_loss/discrim/accuracy_real: 0.05\n",
      "\u001b[32m[1019 22:57:42 @monitor.py:467]\u001b[0m GAN_loss/discrim/loss: 0.64799\n",
      "\u001b[32m[1019 22:57:42 @monitor.py:467]\u001b[0m GAN_loss/gen/final-g-loss: 0.99005\n",
      "\u001b[32m[1019 22:57:42 @monitor.py:467]\u001b[0m GAN_loss/gen/klloss: 0.048384\n",
      "\u001b[32m[1019 22:57:42 @monitor.py:467]\u001b[0m GAN_loss/gen/loss: 0.94167\n",
      "\u001b[32m[1019 22:57:42 @monitor.py:467]\u001b[0m QueueInput/queue_size: 50\n",
      "\u001b[32m[1019 22:57:42 @base.py:289]\u001b[0m Training has finished!\n",
      "WARNING:tensorflow:From D:\\Users\\glede\\anaconda3\\envs\\py37\\lib\\site-packages\\tensorpack\\predict\\config.py:101: The name tf.train.ChiefSessionCreator is deprecated. Please use tf.compat.v1.train.ChiefSessionCreator instead.\n",
      "\n",
      "\u001b[32m[1019 22:57:42 @graph.py:283]\u001b[0m \u001b[91mCreating cell for age (in-edges: 0)\n",
      "\u001b[32m[1019 22:57:43 @graph.py:283]\u001b[0m \u001b[91mCreating cell for gender (in-edges: 0)\n",
      "\u001b[32m[1019 22:57:43 @graph.py:283]\u001b[0m \u001b[91mCreating cell for travel_dow (in-edges: 0)\n",
      "\u001b[32m[1019 22:57:43 @graph.py:283]\u001b[0m \u001b[91mCreating cell for license (in-edges: 1)\n",
      "\u001b[32m[1019 22:57:43 @graph.py:283]\u001b[0m \u001b[91mCreating cell for education_level (in-edges: 1)\n",
      "\u001b[32m[1019 22:57:43 @graph.py:283]\u001b[0m \u001b[91mCreating cell for work_status (in-edges: 2)\n",
      "\u001b[32m[1019 22:57:43 @graph.py:283]\u001b[0m \u001b[91mCreating cell for hh_income (in-edges: 2)\n",
      "\u001b[32m[1019 22:57:43 @graph.py:283]\u001b[0m \u001b[91mCreating cell for trip_purpose (in-edges: 1)\n",
      "\u001b[32m[1019 22:57:43 @graph.py:283]\u001b[0m \u001b[91mCreating cell for hh_descr (in-edges: 2)\n",
      "\u001b[32m[1019 22:57:43 @graph.py:283]\u001b[0m \u001b[91mCreating cell for hh_size (in-edges: 3)\n",
      "\u001b[32m[1019 22:57:43 @graph.py:283]\u001b[0m \u001b[91mCreating cell for departure_time (in-edges: 1)\n",
      "\u001b[32m[1019 22:57:43 @input_source.py:178]\u001b[0m EnqueueThread QueueInput/input_queue Exited.\n",
      "\u001b[32m[1019 22:57:43 @graph.py:283]\u001b[0m \u001b[91mCreating cell for distance (in-edges: 1)\n",
      "\u001b[32m[1019 22:57:43 @graph.py:283]\u001b[0m \u001b[91mCreating cell for hh_vehicles (in-edges: 2)\n",
      "\u001b[32m[1019 22:57:43 @graph.py:283]\u001b[0m \u001b[91mCreating cell for hh_bikes (in-edges: 2)\n",
      "\u001b[32m[1019 22:57:44 @graph.py:283]\u001b[0m \u001b[91mCreating cell for choice (in-edges: 7)\n",
      "WARNING:tensorflow:From D:\\Users\\glede\\anaconda3\\envs\\py37\\lib\\site-packages\\tensorpack\\tfutils\\collection.py:45: The name tf.get_collection_ref is deprecated. Please use tf.compat.v1.get_collection_ref instead.\n",
      "\n",
      "\u001b[32m[1019 22:57:44 @collection.py:146]\u001b[0m New collections created in tower : tf.GraphKeys.REGULARIZATION_LOSSES\n",
      "\u001b[32m[1019 22:57:44 @collection.py:165]\u001b[0m These collections were modified but restored in : (tf.GraphKeys.SUMMARIES: 0->2)\n",
      "\u001b[32m[1019 22:57:44 @sessinit.py:87]\u001b[0m \u001b[5m\u001b[31mWRN\u001b[0m The following variables are in the checkpoint, but not found in the graph: global_step, optimize/beta1_power, optimize/beta2_power\n",
      "INFO:tensorflow:Graph was finalized.\n",
      "INFO:tensorflow:Running local_init_op.\n",
      "INFO:tensorflow:Done running local_init_op.\n",
      "\u001b[32m[1019 22:57:45 @sessinit.py:114]\u001b[0m Restoring checkpoint from ../output/Chicago/DATGAN_05/model\\model-175000 ...\n",
      "INFO:tensorflow:Restoring parameters from ../output/Chicago/DATGAN_05/model\\model-175000\n"
     ]
    }
   ],
   "source": [
    "test = datgan.fit(df, graph)"
   ]
  },
  {
   "cell_type": "code",
   "execution_count": 12,
   "metadata": {},
   "outputs": [
    {
     "name": "stdout",
     "output_type": "stream",
     "text": [
      "\u001b[32m[1019 22:58:09 @model.py:344]\u001b[0m Model saved successfully.\n"
     ]
    }
   ],
   "source": [
    "datgan.save('trained', force=True)"
   ]
  },
  {
   "cell_type": "code",
   "execution_count": 13,
   "metadata": {},
   "outputs": [],
   "source": [
    "beepy.beep(6)"
   ]
  }
 ],
 "metadata": {
  "kernelspec": {
   "display_name": "Python 3",
   "language": "python",
   "name": "python3"
  },
  "language_info": {
   "codemirror_mode": {
    "name": "ipython",
    "version": 3
   },
   "file_extension": ".py",
   "mimetype": "text/x-python",
   "name": "python",
   "nbconvert_exporter": "python",
   "pygments_lexer": "ipython3",
   "version": "3.7.9"
  }
 },
 "nbformat": 4,
 "nbformat_minor": 2
}
