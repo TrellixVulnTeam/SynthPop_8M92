{
 "cells": [
  {
   "cell_type": "code",
   "execution_count": 1,
   "metadata": {},
   "outputs": [],
   "source": [
    "import os\n",
    "os.chdir('../..')"
   ]
  },
  {
   "cell_type": "code",
   "execution_count": 2,
   "metadata": {},
   "outputs": [
    {
     "name": "stdout",
     "output_type": "stream",
     "text": [
      "3.7.9\n"
     ]
    }
   ],
   "source": [
    "from platform import python_version\n",
    "print(python_version())"
   ]
  },
  {
   "cell_type": "code",
   "execution_count": 3,
   "metadata": {},
   "outputs": [
    {
     "name": "stdout",
     "output_type": "stream",
     "text": [
      "WARNING:tensorflow:From D:\\Users\\glede\\anaconda3\\envs\\py37\\lib\\site-packages\\tensorpack\\callbacks\\hooks.py:17: The name tf.train.SessionRunHook is deprecated. Please use tf.estimator.SessionRunHook instead.\n",
      "\n",
      "WARNING:tensorflow:From D:\\Users\\glede\\anaconda3\\envs\\py37\\lib\\site-packages\\tensorpack\\tfutils\\optimizer.py:18: The name tf.train.Optimizer is deprecated. Please use tf.compat.v1.train.Optimizer instead.\n",
      "\n",
      "WARNING:tensorflow:From D:\\Users\\glede\\anaconda3\\envs\\py37\\lib\\site-packages\\tensorpack\\tfutils\\sesscreate.py:20: The name tf.train.SessionCreator is deprecated. Please use tf.compat.v1.train.SessionCreator instead.\n",
      "\n"
     ]
    }
   ],
   "source": [
    "import numpy as np\n",
    "import pandas as pd\n",
    "\n",
    "import tensorflow as tf\n",
    "\n",
    "import matplotlib.pyplot as plt\n",
    "\n",
    "from modules.datgan.model import DATGAN\n",
    "#from modules.datgan_preLSTM.model import DATGAN\n",
    "\n",
    "#from modules.datgan_no_att.model import DATGAN\n",
    "import networkx as nx\n",
    "\n",
    "# For the Python notebook\n",
    "%matplotlib inline\n",
    "%reload_ext autoreload\n",
    "%autoreload 2"
   ]
  },
  {
   "cell_type": "code",
   "execution_count": 4,
   "metadata": {},
   "outputs": [],
   "source": [
    "dataset = 'Chicago'"
   ]
  },
  {
   "cell_type": "code",
   "execution_count": 5,
   "metadata": {},
   "outputs": [],
   "source": [
    "df = pd.read_csv('../data/{}/data.csv'.format(dataset), index_col=False)"
   ]
  },
  {
   "cell_type": "code",
   "execution_count": 6,
   "metadata": {},
   "outputs": [
    {
     "data": {
      "text/html": [
       "<div>\n",
       "<style scoped>\n",
       "    .dataframe tbody tr th:only-of-type {\n",
       "        vertical-align: middle;\n",
       "    }\n",
       "\n",
       "    .dataframe tbody tr th {\n",
       "        vertical-align: top;\n",
       "    }\n",
       "\n",
       "    .dataframe thead th {\n",
       "        text-align: right;\n",
       "    }\n",
       "</style>\n",
       "<table border=\"1\" class=\"dataframe\">\n",
       "  <thead>\n",
       "    <tr style=\"text-align: right;\">\n",
       "      <th></th>\n",
       "      <th>choice</th>\n",
       "      <th>travel_dow</th>\n",
       "      <th>trip_purpose</th>\n",
       "      <th>distance</th>\n",
       "      <th>hh_vehicles</th>\n",
       "      <th>hh_size</th>\n",
       "      <th>hh_bikes</th>\n",
       "      <th>hh_descr</th>\n",
       "      <th>hh_income</th>\n",
       "      <th>gender</th>\n",
       "      <th>age</th>\n",
       "      <th>license</th>\n",
       "      <th>education_level</th>\n",
       "      <th>work_status</th>\n",
       "      <th>departure_time</th>\n",
       "    </tr>\n",
       "  </thead>\n",
       "  <tbody>\n",
       "    <tr>\n",
       "      <th>0</th>\n",
       "      <td>drive</td>\n",
       "      <td>7</td>\n",
       "      <td>HOME_OTHER</td>\n",
       "      <td>23.42579</td>\n",
       "      <td>2</td>\n",
       "      <td>2</td>\n",
       "      <td>0</td>\n",
       "      <td>2</td>\n",
       "      <td>6</td>\n",
       "      <td>1</td>\n",
       "      <td>66</td>\n",
       "      <td>1.0</td>\n",
       "      <td>6</td>\n",
       "      <td>FTE</td>\n",
       "      <td>9.333333</td>\n",
       "    </tr>\n",
       "    <tr>\n",
       "      <th>1</th>\n",
       "      <td>drive</td>\n",
       "      <td>7</td>\n",
       "      <td>OTHER</td>\n",
       "      <td>1.71259</td>\n",
       "      <td>2</td>\n",
       "      <td>2</td>\n",
       "      <td>0</td>\n",
       "      <td>2</td>\n",
       "      <td>6</td>\n",
       "      <td>1</td>\n",
       "      <td>66</td>\n",
       "      <td>1.0</td>\n",
       "      <td>6</td>\n",
       "      <td>FTE</td>\n",
       "      <td>12.083333</td>\n",
       "    </tr>\n",
       "    <tr>\n",
       "      <th>2</th>\n",
       "      <td>drive</td>\n",
       "      <td>7</td>\n",
       "      <td>HOME_OTHER</td>\n",
       "      <td>21.77887</td>\n",
       "      <td>2</td>\n",
       "      <td>2</td>\n",
       "      <td>0</td>\n",
       "      <td>2</td>\n",
       "      <td>6</td>\n",
       "      <td>1</td>\n",
       "      <td>66</td>\n",
       "      <td>1.0</td>\n",
       "      <td>6</td>\n",
       "      <td>FTE</td>\n",
       "      <td>15.500000</td>\n",
       "    </tr>\n",
       "    <tr>\n",
       "      <th>3</th>\n",
       "      <td>drive</td>\n",
       "      <td>7</td>\n",
       "      <td>SHOPPING</td>\n",
       "      <td>2.02603</td>\n",
       "      <td>2</td>\n",
       "      <td>2</td>\n",
       "      <td>0</td>\n",
       "      <td>2</td>\n",
       "      <td>6</td>\n",
       "      <td>1</td>\n",
       "      <td>66</td>\n",
       "      <td>1.0</td>\n",
       "      <td>6</td>\n",
       "      <td>FTE</td>\n",
       "      <td>17.500000</td>\n",
       "    </tr>\n",
       "    <tr>\n",
       "      <th>4</th>\n",
       "      <td>drive</td>\n",
       "      <td>7</td>\n",
       "      <td>SHOPPING</td>\n",
       "      <td>0.87691</td>\n",
       "      <td>2</td>\n",
       "      <td>2</td>\n",
       "      <td>0</td>\n",
       "      <td>2</td>\n",
       "      <td>6</td>\n",
       "      <td>1</td>\n",
       "      <td>66</td>\n",
       "      <td>1.0</td>\n",
       "      <td>6</td>\n",
       "      <td>FTE</td>\n",
       "      <td>18.250000</td>\n",
       "    </tr>\n",
       "  </tbody>\n",
       "</table>\n",
       "</div>"
      ],
      "text/plain": [
       "  choice  travel_dow trip_purpose  distance  hh_vehicles  hh_size  hh_bikes  \\\n",
       "0  drive           7   HOME_OTHER  23.42579            2        2         0   \n",
       "1  drive           7        OTHER   1.71259            2        2         0   \n",
       "2  drive           7   HOME_OTHER  21.77887            2        2         0   \n",
       "3  drive           7     SHOPPING   2.02603            2        2         0   \n",
       "4  drive           7     SHOPPING   0.87691            2        2         0   \n",
       "\n",
       "   hh_descr  hh_income  gender  age  license  education_level work_status  \\\n",
       "0         2          6       1   66      1.0                6         FTE   \n",
       "1         2          6       1   66      1.0                6         FTE   \n",
       "2         2          6       1   66      1.0                6         FTE   \n",
       "3         2          6       1   66      1.0                6         FTE   \n",
       "4         2          6       1   66      1.0                6         FTE   \n",
       "\n",
       "   departure_time  \n",
       "0        9.333333  \n",
       "1       12.083333  \n",
       "2       15.500000  \n",
       "3       17.500000  \n",
       "4       18.250000  "
      ]
     },
     "execution_count": 6,
     "metadata": {},
     "output_type": "execute_result"
    }
   ],
   "source": [
    "df.head()"
   ]
  },
  {
   "cell_type": "code",
   "execution_count": 7,
   "metadata": {},
   "outputs": [],
   "source": [
    "if dataset is 'Chicago':\n",
    "    continuous_columns = [\"distance\", \"age\", \"departure_time\"]\n",
    "elif dataset is 'LPMC':\n",
    "    continuous_columns = ['start_time_linear', 'age', 'distance', 'dur_walking', 'dur_cycling', 'dur_pt_access', 'dur_pt_rail', 'dur_pt_bus', 'dur_pt_int', 'dur_driving', 'cost_transit', 'cost_driving_fuel', 'driving_traffic_percent']"
   ]
  },
  {
   "cell_type": "code",
   "execution_count": 8,
   "metadata": {},
   "outputs": [],
   "source": [
    "# personalised graph\n",
    "graph = nx.DiGraph()\n",
    "\n",
    "if dataset is 'Chicago':\n",
    "    graph.add_edges_from([\n",
    "        (\"age\", \"license\"),\n",
    "        (\"age\", \"education_level\"),\n",
    "        (\"gender\", \"work_status\"),\n",
    "        (\"education_level\", \"work_status\"),\n",
    "        (\"education_level\", \"hh_income\"),\n",
    "        (\"work_status\", \"hh_income\"),\n",
    "        (\"hh_income\", \"hh_descr\"),\n",
    "        (\"hh_income\", \"hh_size\"),\n",
    "        (\"hh_size\", \"hh_vehicles\"),\n",
    "        (\"hh_size\", \"hh_bikes\"),\n",
    "        (\"work_status\", \"trip_purpose\"),\n",
    "        (\"trip_purpose\", \"departure_time\"),\n",
    "        (\"trip_purpose\", \"distance\"),\n",
    "        (\"travel_dow\", \"choice\"),\n",
    "        (\"distance\", \"choice\"),\n",
    "        (\"departure_time\", \"choice\"),\n",
    "        (\"hh_vehicles\", \"choice\"),\n",
    "        (\"hh_bikes\", \"choice\"),\n",
    "        (\"license\", \"choice\"),\n",
    "        # Non necessary links\n",
    "        (\"education_level\", \"hh_size\"),\n",
    "        (\"work_status\", \"hh_descr\"),\n",
    "        (\"work_status\", \"hh_size\"),\n",
    "        (\"hh_income\", \"hh_bikes\"),\n",
    "        (\"hh_income\", \"hh_vehicles\"),\n",
    "        (\"trip_purpose\", \"choice\")\n",
    "    ])\n",
    "elif dataset is 'LPMC':\n",
    "    graph.add_edges_from([\n",
    "        (\"travel_year\", \"survey_year\"),\n",
    "        (\"travel_date\", \"day_of_week\"),\n",
    "        (\"day_of_week\", \"purpose\"),\n",
    "        (\"purpose\", \"start_time_linear\"),\n",
    "        (\"purpose\", \"cost_driving_con_charge\"),\n",
    "        (\"purpose\", \"distance\"),\n",
    "        (\"day_of_week\", \"driving_traffic_percent\"),\n",
    "        (\"day_of_week\", \"cost_driving_con_charge\"),\n",
    "        (\"start_time_linear\", \"driving_traffic_percent\"),\n",
    "        (\"start_time_linear\", \"cost_driving_con_charge\"),\n",
    "        (\"driving_traffic_percent\", \"cost_driving_con_charge\"),\n",
    "        (\"female\", \"driving_license\"),\n",
    "        (\"age\", \"bus_scale\"),\n",
    "        (\"age\", \"car_ownership\"),\n",
    "        (\"age\", \"driving_license\"),\n",
    "        (\"age\", \"faretype\"),\n",
    "        (\"driving_license\", \"car_ownership\"),\n",
    "        (\"car_ownership\", \"fueltype\"),\n",
    "        (\"fueltype\", \"cost_driving_con_charge\"),\n",
    "        (\"fueltype\", \"cost_driving_fuel\"),\n",
    "        (\"distance\", \"cost_driving_fuel\"),\n",
    "        (\"distance\", \"dur_driving\"),\n",
    "        (\"distance\", \"dur_walking\"),\n",
    "        (\"distance\", \"dur_cycling\"),\n",
    "        (\"distance\", \"dur_pt_access\"),\n",
    "        (\"distance\", \"dur_pt_rail\"),\n",
    "        (\"distance\", \"dur_pt_bus\"),\n",
    "        (\"distance\", \"dur_pt_int\"),\n",
    "        (\"dur_pt_bus\", \"cost_transit\"),\n",
    "        (\"dur_pt_rail\", \"cost_transit\"),\n",
    "        (\"pt_n_interchanges\", \"dur_pt_int\"),\n",
    "        (\"pt_n_interchanges\", \"cost_transit\"),\n",
    "        (\"faretype\", \"cost_transit\"),\n",
    "        (\"bus_scale\", \"cost_transit\"),\n",
    "        (\"car_ownership\", \"travel_mode\"),\n",
    "        (\"age\", \"travel_mode\"),\n",
    "        (\"cost_driving_con_charge\", \"travel_mode\"),\n",
    "        (\"driving_traffic_percent\", \"travel_mode\"),\n",
    "        (\"female\", \"travel_mode\"),\n",
    "        (\"purpose\", \"travel_mode\"),\n",
    "        (\"cost_transit\", \"travel_mode\"),\n",
    "        (\"cost_driving_fuel\", \"travel_mode\"),\n",
    "        (\"dur_driving\", \"travel_mode\"),\n",
    "        (\"dur_walking\", \"travel_mode\"),\n",
    "        (\"dur_cycling\", \"travel_mode\"),\n",
    "        (\"dur_pt_access\", \"travel_mode\"),\n",
    "        (\"dur_pt_rail\", \"travel_mode\"),\n",
    "        (\"dur_pt_bus\", \"travel_mode\"),\n",
    "        (\"dur_pt_int\", \"travel_mode\")\n",
    "    ])\n",
    "    graph.add_node(\"travel_month\")"
   ]
  },
  {
   "cell_type": "code",
   "execution_count": 9,
   "metadata": {},
   "outputs": [],
   "source": [
    "output_folder = '../output/' + dataset + '/DATGAN_tmp2/'"
   ]
  },
  {
   "cell_type": "code",
   "execution_count": 10,
   "metadata": {},
   "outputs": [],
   "source": [
    "datgan = DATGAN(continuous_columns, max_epoch=100, #steps_per_epoch=2000, \n",
    "                batch_size=500, output=output_folder, gpu=0)"
   ]
  },
  {
   "cell_type": "code",
   "execution_count": 11,
   "metadata": {
    "scrolled": true
   },
   "outputs": [
    {
     "name": "stdout",
     "output_type": "stream",
     "text": [
      "\u001b[32m[1012 13:59:03 @model.py:173]\u001b[0m Preprocessing the data!\n",
      "\u001b[32m[1012 13:59:03 @data.py:433]\u001b[0m Encoding continuous variable \"age\"...\n",
      "\u001b[32m[1012 13:59:03 @data.py:292]\u001b[0m   Found 6 peaks!\n",
      "\u001b[32m[1012 13:59:03 @data.py:300]\u001b[0m   Encoding with 6 components.\n",
      "\u001b[32m[1012 14:00:03 @data.py:319]\u001b[0m   Predictions were done on 6 components => FINISHED!\n",
      "\u001b[32m[1012 14:00:03 @data.py:448]\u001b[0m Encoding categorical variable \"gender\"...\n",
      "\u001b[32m[1012 14:00:03 @data.py:448]\u001b[0m Encoding categorical variable \"travel_dow\"...\n",
      "\u001b[32m[1012 14:00:03 @data.py:448]\u001b[0m Encoding categorical variable \"license\"...\n"
     ]
    },
    {
     "name": "stderr",
     "output_type": "stream",
     "text": [
      "D:\\Users\\glede\\anaconda3\\envs\\py37\\lib\\site-packages\\sklearn\\mixture\\_base.py:282: ConvergenceWarning: Initialization 10 did not converge. Try different init parameters, or increase max_iter, tol or check for degenerate data.\n",
      "  ConvergenceWarning,\n"
     ]
    },
    {
     "name": "stdout",
     "output_type": "stream",
     "text": [
      "\u001b[32m[1012 14:00:03 @data.py:448]\u001b[0m Encoding categorical variable \"education_level\"...\n",
      "\u001b[32m[1012 14:00:03 @data.py:448]\u001b[0m Encoding categorical variable \"work_status\"...\n",
      "\u001b[32m[1012 14:00:03 @data.py:448]\u001b[0m Encoding categorical variable \"hh_income\"...\n",
      "\u001b[32m[1012 14:00:03 @data.py:448]\u001b[0m Encoding categorical variable \"trip_purpose\"...\n",
      "\u001b[32m[1012 14:00:03 @data.py:448]\u001b[0m Encoding categorical variable \"hh_descr\"...\n",
      "\u001b[32m[1012 14:00:03 @data.py:448]\u001b[0m Encoding categorical variable \"hh_size\"...\n",
      "\u001b[32m[1012 14:00:04 @data.py:433]\u001b[0m Encoding continuous variable \"departure_time\"...\n",
      "\u001b[32m[1012 14:00:04 @data.py:292]\u001b[0m   Found 8 peaks!\n",
      "\u001b[32m[1012 14:00:04 @data.py:300]\u001b[0m   Encoding with 8 components.\n",
      "\u001b[32m[1012 14:01:23 @data.py:319]\u001b[0m   Predictions were done on 8 components => FINISHED!\n",
      "\u001b[32m[1012 14:01:23 @data.py:433]\u001b[0m Encoding continuous variable \"distance\"...\n",
      "\u001b[32m[1012 14:01:23 @data.py:292]\u001b[0m   Found 0 peaks!\n",
      "\u001b[32m[1012 14:01:23 @data.py:300]\u001b[0m   Encoding with 10 components.\n"
     ]
    },
    {
     "name": "stderr",
     "output_type": "stream",
     "text": [
      "D:\\Users\\glede\\anaconda3\\envs\\py37\\lib\\site-packages\\sklearn\\mixture\\_base.py:282: ConvergenceWarning: Initialization 10 did not converge. Try different init parameters, or increase max_iter, tol or check for degenerate data.\n",
      "  ConvergenceWarning,\n"
     ]
    },
    {
     "name": "stdout",
     "output_type": "stream",
     "text": [
      "\u001b[32m[1012 14:03:01 @data.py:319]\u001b[0m   Predictions were done on 10 components => FINISHED!\n",
      "\u001b[32m[1012 14:03:02 @data.py:448]\u001b[0m Encoding categorical variable \"hh_vehicles\"...\n",
      "\u001b[32m[1012 14:03:02 @data.py:448]\u001b[0m Encoding categorical variable \"hh_bikes\"...\n",
      "\u001b[32m[1012 14:03:02 @data.py:448]\u001b[0m Encoding categorical variable \"choice\"...\n"
     ]
    },
    {
     "name": "stderr",
     "output_type": "stream",
     "text": [
      "D:\\Users\\glede\\anaconda3\\envs\\py37\\lib\\site-packages\\sklearn\\mixture\\_base.py:282: ConvergenceWarning: Initialization 10 did not converge. Try different init parameters, or increase max_iter, tol or check for degenerate data.\n",
      "  ConvergenceWarning,\n"
     ]
    },
    {
     "name": "stdout",
     "output_type": "stream",
     "text": [
      "\u001b[32m[1012 14:03:02 @model.py:187]\u001b[0m Preprocessed data have been saved!\n",
      "WARNING:tensorflow:From D:\\Users\\glede\\anaconda3\\envs\\py37\\lib\\site-packages\\tensorpack\\graph_builder\\model_desc.py:29: The name tf.get_default_graph is deprecated. Please use tf.compat.v1.get_default_graph instead.\n",
      "\n",
      "WARNING:tensorflow:From D:\\Users\\glede\\anaconda3\\envs\\py37\\lib\\site-packages\\tensorpack\\graph_builder\\model_desc.py:39: The name tf.placeholder is deprecated. Please use tf.compat.v1.placeholder instead.\n",
      "\n",
      "WARNING:tensorflow:From D:\\Users\\glede\\anaconda3\\envs\\py37\\lib\\site-packages\\tensorpack\\input_source\\input_source.py:219: The name tf.FIFOQueue is deprecated. Please use tf.queue.FIFOQueue instead.\n",
      "\n",
      "\u001b[32m[1012 14:03:02 @input_source.py:222]\u001b[0m Setting up the queue 'QueueInput/input_queue' for CPU prefetching ...\n",
      "WARNING:tensorflow:From D:\\Users\\glede\\anaconda3\\envs\\py37\\lib\\site-packages\\tensorpack\\tfutils\\summary.py:237: The name tf.get_variable_scope is deprecated. Please use tf.compat.v1.get_variable_scope instead.\n",
      "\n",
      "WARNING:tensorflow:From D:\\Users\\glede\\anaconda3\\envs\\py37\\lib\\site-packages\\tensorpack\\tfutils\\summary.py:27: The name tf.variable_scope is deprecated. Please use tf.compat.v1.variable_scope instead.\n",
      "\n",
      "WARNING:tensorflow:From D:\\Users\\glede\\anaconda3\\envs\\py37\\lib\\site-packages\\tensorpack\\tfutils\\summary.py:254: The name tf.get_variable is deprecated. Please use tf.compat.v1.get_variable instead.\n",
      "\n",
      "WARNING:tensorflow:From D:\\Users\\glede\\anaconda3\\envs\\py37\\lib\\site-packages\\tensorpack\\tfutils\\summary.py:264: The name tf.summary.scalar is deprecated. Please use tf.compat.v1.summary.scalar instead.\n",
      "\n",
      "WARNING:tensorflow:From D:\\Users\\glede\\anaconda3\\envs\\py37\\lib\\site-packages\\tensorpack\\tfutils\\collection.py:105: The name tf.GraphKeys is deprecated. Please use tf.compat.v1.GraphKeys instead.\n",
      "\n",
      "WARNING:tensorflow:From D:\\Users\\glede\\anaconda3\\envs\\py37\\lib\\site-packages\\tensorpack\\tfutils\\collection.py:33: The name tf.get_collection is deprecated. Please use tf.compat.v1.get_collection instead.\n",
      "\n",
      "WARNING:tensorflow:From C:\\Users\\glede\\Documents\\EPFL\\PhD\\SynthPop\\code\\modules\\datgan\\graph.py:602: The name tf.random_normal is deprecated. Please use tf.random.normal instead.\n",
      "\n",
      "WARNING:tensorflow:From C:\\Users\\glede\\Documents\\EPFL\\PhD\\SynthPop\\code\\modules\\datgan\\graph.py:605: The name tf.placeholder_with_default is deprecated. Please use tf.compat.v1.placeholder_with_default instead.\n",
      "\n",
      "WARNING:tensorflow:From C:\\Users\\glede\\Documents\\EPFL\\PhD\\SynthPop\\code\\modules\\datgan\\graph.py:265: LSTMCell.__init__ (from tensorflow.python.ops.rnn_cell_impl) is deprecated and will be removed in a future version.\n",
      "Instructions for updating:\n",
      "This class is equivalent as tf.keras.layers.LSTMCell, and will be replaced by that in Tensorflow 2.0.\n",
      "\u001b[32m[1012 14:03:02 @graph.py:282]\u001b[0m \u001b[91mCreating cell for age (in-edges: 0)\n",
      "WARNING:tensorflow:From D:\\Users\\glede\\anaconda3\\envs\\py37\\lib\\site-packages\\tensorflow_core\\python\\ops\\rnn_cell_impl.py:958: Layer.add_variable (from tensorflow.python.keras.engine.base_layer) is deprecated and will be removed in a future version.\n",
      "Instructions for updating:\n",
      "Please use `layer.add_weight` method instead.\n",
      "WARNING:tensorflow:From D:\\Users\\glede\\anaconda3\\envs\\py37\\lib\\site-packages\\tensorflow_core\\python\\ops\\rnn_cell_impl.py:962: calling Zeros.__init__ (from tensorflow.python.ops.init_ops) with dtype is deprecated and will be removed in a future version.\n",
      "Instructions for updating:\n",
      "Call initializer instance with the dtype argument instead of passing it to the constructor\n",
      "\u001b[32m[1012 14:03:02 @registry.py:126]\u001b[0m gen/LSTM/00/FC input: [500, 100]\n",
      "WARNING:tensorflow:From D:\\Users\\glede\\anaconda3\\envs\\py37\\lib\\site-packages\\tensorpack\\models\\fc.py:57: The name tf.layers.Dense is deprecated. Please use tf.compat.v1.layers.Dense instead.\n",
      "\n",
      "WARNING:tensorflow:From D:\\Users\\glede\\anaconda3\\envs\\py37\\lib\\site-packages\\tensorpack\\models\\fc.py:67: Layer.apply (from tensorflow.python.keras.engine.base_layer) is deprecated and will be removed in a future version.\n",
      "Instructions for updating:\n",
      "Please use `layer.__call__` method instead.\n",
      "\u001b[32m[1012 14:03:02 @registry.py:134]\u001b[0m gen/LSTM/00/FC output: [500, 100]\n",
      "\u001b[32m[1012 14:03:02 @registry.py:126]\u001b[0m gen/LSTM/00/FC2_val input: [500, 100]\n",
      "\u001b[32m[1012 14:03:02 @registry.py:134]\u001b[0m gen/LSTM/00/FC2_val output: [500, 6]\n",
      "\u001b[32m[1012 14:03:02 @registry.py:126]\u001b[0m gen/LSTM/00/FC2_prob input: [500, 100]\n",
      "\u001b[32m[1012 14:03:03 @registry.py:134]\u001b[0m gen/LSTM/00/FC2_prob output: [500, 6]\n",
      "\u001b[32m[1012 14:03:03 @registry.py:126]\u001b[0m gen/LSTM/00/FC3 input: [500, 12]\n",
      "\u001b[32m[1012 14:03:03 @registry.py:134]\u001b[0m gen/LSTM/00/FC3 output: [500, 100]\n",
      "\u001b[32m[1012 14:03:03 @graph.py:282]\u001b[0m \u001b[91mCreating cell for gender (in-edges: 0)\n",
      "\u001b[32m[1012 14:03:03 @registry.py:126]\u001b[0m gen/LSTM/01/FC input: [500, 100]\n",
      "\u001b[32m[1012 14:03:03 @registry.py:134]\u001b[0m gen/LSTM/01/FC output: [500, 100]\n",
      "\u001b[32m[1012 14:03:03 @registry.py:126]\u001b[0m gen/LSTM/01/FC2 input: [500, 100]\n",
      "\u001b[32m[1012 14:03:03 @registry.py:134]\u001b[0m gen/LSTM/01/FC2 output: [500, 2]\n",
      "\u001b[32m[1012 14:03:03 @registry.py:126]\u001b[0m gen/LSTM/01/FC3 input: [500, 2]\n",
      "\u001b[32m[1012 14:03:03 @registry.py:134]\u001b[0m gen/LSTM/01/FC3 output: [500, 100]\n",
      "\u001b[32m[1012 14:03:03 @graph.py:282]\u001b[0m \u001b[91mCreating cell for travel_dow (in-edges: 0)\n",
      "\u001b[32m[1012 14:03:03 @registry.py:126]\u001b[0m gen/LSTM/02/FC input: [500, 100]\n",
      "\u001b[32m[1012 14:03:03 @registry.py:134]\u001b[0m gen/LSTM/02/FC output: [500, 100]\n",
      "\u001b[32m[1012 14:03:03 @registry.py:126]\u001b[0m gen/LSTM/02/FC2 input: [500, 100]\n",
      "\u001b[32m[1012 14:03:03 @registry.py:134]\u001b[0m gen/LSTM/02/FC2 output: [500, 7]\n",
      "\u001b[32m[1012 14:03:03 @registry.py:126]\u001b[0m gen/LSTM/02/FC3 input: [500, 7]\n",
      "\u001b[32m[1012 14:03:03 @registry.py:134]\u001b[0m gen/LSTM/02/FC3 output: [500, 100]\n",
      "\u001b[32m[1012 14:03:03 @graph.py:282]\u001b[0m \u001b[91mCreating cell for license (in-edges: 1)\n",
      "\u001b[32m[1012 14:03:03 @registry.py:126]\u001b[0m gen/LSTM/03/FC input: [500, 100]\n",
      "\u001b[32m[1012 14:03:03 @registry.py:134]\u001b[0m gen/LSTM/03/FC output: [500, 100]\n",
      "\u001b[32m[1012 14:03:03 @registry.py:126]\u001b[0m gen/LSTM/03/FC2 input: [500, 100]\n",
      "\u001b[32m[1012 14:03:03 @registry.py:134]\u001b[0m gen/LSTM/03/FC2 output: [500, 2]\n",
      "\u001b[32m[1012 14:03:03 @registry.py:126]\u001b[0m gen/LSTM/03/FC3 input: [500, 2]\n",
      "\u001b[32m[1012 14:03:03 @registry.py:134]\u001b[0m gen/LSTM/03/FC3 output: [500, 100]\n",
      "\u001b[32m[1012 14:03:03 @graph.py:282]\u001b[0m \u001b[91mCreating cell for education_level (in-edges: 1)\n",
      "\u001b[32m[1012 14:03:03 @registry.py:126]\u001b[0m gen/LSTM/04/FC input: [500, 100]\n",
      "\u001b[32m[1012 14:03:03 @registry.py:134]\u001b[0m gen/LSTM/04/FC output: [500, 100]\n",
      "\u001b[32m[1012 14:03:03 @registry.py:126]\u001b[0m gen/LSTM/04/FC2 input: [500, 100]\n",
      "\u001b[32m[1012 14:03:03 @registry.py:134]\u001b[0m gen/LSTM/04/FC2 output: [500, 6]\n",
      "\u001b[32m[1012 14:03:03 @registry.py:126]\u001b[0m gen/LSTM/04/FC3 input: [500, 6]\n",
      "\u001b[32m[1012 14:03:03 @registry.py:134]\u001b[0m gen/LSTM/04/FC3 output: [500, 100]\n",
      "\u001b[32m[1012 14:03:03 @graph.py:282]\u001b[0m \u001b[91mCreating cell for work_status (in-edges: 2)\n",
      "\u001b[32m[1012 14:03:03 @registry.py:126]\u001b[0m gen/LSTM/05/FC_inputs input: [500, 200]\n",
      "\u001b[32m[1012 14:03:03 @registry.py:134]\u001b[0m gen/LSTM/05/FC_inputs output: [500, 100]\n",
      "\u001b[32m[1012 14:03:03 @registry.py:126]\u001b[0m gen/LSTM/05/FC_attentions input: [500, 200]\n",
      "\u001b[32m[1012 14:03:03 @registry.py:134]\u001b[0m gen/LSTM/05/FC_attentions output: [500, 100]\n",
      "\u001b[32m[1012 14:03:03 @registry.py:126]\u001b[0m gen/LSTM/05/FC_lstm_state_0 input: [500, 200]\n",
      "\u001b[32m[1012 14:03:03 @registry.py:134]\u001b[0m gen/LSTM/05/FC_lstm_state_0 output: [500, 100]\n",
      "\u001b[32m[1012 14:03:03 @registry.py:126]\u001b[0m gen/LSTM/05/FC_lstm_state_1 input: [500, 200]\n",
      "\u001b[32m[1012 14:03:03 @registry.py:134]\u001b[0m gen/LSTM/05/FC_lstm_state_1 output: [500, 100]\n",
      "WARNING:tensorflow:From C:\\Users\\glede\\Documents\\EPFL\\PhD\\SynthPop\\code\\modules\\datgan\\graph.py:378: The name tf.nn.rnn_cell.LSTMStateTuple is deprecated. Please use tf.compat.v1.nn.rnn_cell.LSTMStateTuple instead.\n",
      "\n",
      "\u001b[32m[1012 14:03:03 @registry.py:126]\u001b[0m gen/LSTM/06/FC input: [500, 100]\n",
      "\u001b[32m[1012 14:03:03 @registry.py:134]\u001b[0m gen/LSTM/06/FC output: [500, 100]\n",
      "\u001b[32m[1012 14:03:03 @registry.py:126]\u001b[0m gen/LSTM/06/FC2 input: [500, 100]\n",
      "\u001b[32m[1012 14:03:03 @registry.py:134]\u001b[0m gen/LSTM/06/FC2 output: [500, 8]\n",
      "\u001b[32m[1012 14:03:03 @registry.py:126]\u001b[0m gen/LSTM/06/FC3 input: [500, 8]\n",
      "\u001b[32m[1012 14:03:03 @registry.py:134]\u001b[0m gen/LSTM/06/FC3 output: [500, 100]\n"
     ]
    },
    {
     "name": "stdout",
     "output_type": "stream",
     "text": [
      "\u001b[32m[1012 14:03:03 @graph.py:282]\u001b[0m \u001b[91mCreating cell for hh_income (in-edges: 2)\n",
      "\u001b[32m[1012 14:03:03 @registry.py:126]\u001b[0m gen/LSTM/07/FC_inputs input: [500, 200]\n",
      "\u001b[32m[1012 14:03:03 @registry.py:134]\u001b[0m gen/LSTM/07/FC_inputs output: [500, 100]\n",
      "\u001b[32m[1012 14:03:03 @registry.py:126]\u001b[0m gen/LSTM/07/FC_attentions input: [500, 200]\n",
      "\u001b[32m[1012 14:03:03 @registry.py:134]\u001b[0m gen/LSTM/07/FC_attentions output: [500, 100]\n",
      "\u001b[32m[1012 14:03:03 @registry.py:126]\u001b[0m gen/LSTM/07/FC_lstm_state_0 input: [500, 200]\n",
      "\u001b[32m[1012 14:03:03 @registry.py:134]\u001b[0m gen/LSTM/07/FC_lstm_state_0 output: [500, 100]\n",
      "\u001b[32m[1012 14:03:03 @registry.py:126]\u001b[0m gen/LSTM/07/FC_lstm_state_1 input: [500, 200]\n",
      "\u001b[32m[1012 14:03:03 @registry.py:134]\u001b[0m gen/LSTM/07/FC_lstm_state_1 output: [500, 100]\n",
      "\u001b[32m[1012 14:03:03 @registry.py:126]\u001b[0m gen/LSTM/08/FC input: [500, 100]\n",
      "\u001b[32m[1012 14:03:03 @registry.py:134]\u001b[0m gen/LSTM/08/FC output: [500, 100]\n",
      "\u001b[32m[1012 14:03:03 @registry.py:126]\u001b[0m gen/LSTM/08/FC2 input: [500, 100]\n",
      "\u001b[32m[1012 14:03:03 @registry.py:134]\u001b[0m gen/LSTM/08/FC2 output: [500, 7]\n",
      "\u001b[32m[1012 14:03:03 @registry.py:126]\u001b[0m gen/LSTM/08/FC3 input: [500, 7]\n",
      "\u001b[32m[1012 14:03:03 @registry.py:134]\u001b[0m gen/LSTM/08/FC3 output: [500, 100]\n",
      "\u001b[32m[1012 14:03:03 @graph.py:282]\u001b[0m \u001b[91mCreating cell for trip_purpose (in-edges: 1)\n",
      "\u001b[32m[1012 14:03:03 @registry.py:126]\u001b[0m gen/LSTM/09/FC input: [500, 100]\n",
      "\u001b[32m[1012 14:03:03 @registry.py:134]\u001b[0m gen/LSTM/09/FC output: [500, 100]\n",
      "\u001b[32m[1012 14:03:03 @registry.py:126]\u001b[0m gen/LSTM/09/FC2 input: [500, 100]\n",
      "\u001b[32m[1012 14:03:03 @registry.py:134]\u001b[0m gen/LSTM/09/FC2 output: [500, 7]\n",
      "\u001b[32m[1012 14:03:03 @registry.py:126]\u001b[0m gen/LSTM/09/FC3 input: [500, 7]\n",
      "\u001b[32m[1012 14:03:03 @registry.py:134]\u001b[0m gen/LSTM/09/FC3 output: [500, 100]\n",
      "\u001b[32m[1012 14:03:03 @graph.py:282]\u001b[0m \u001b[91mCreating cell for hh_descr (in-edges: 2)\n",
      "\u001b[32m[1012 14:03:03 @registry.py:126]\u001b[0m gen/LSTM/10/FC_inputs input: [500, 200]\n",
      "\u001b[32m[1012 14:03:03 @registry.py:134]\u001b[0m gen/LSTM/10/FC_inputs output: [500, 100]\n",
      "\u001b[32m[1012 14:03:03 @registry.py:126]\u001b[0m gen/LSTM/10/FC_attentions input: [500, 200]\n",
      "\u001b[32m[1012 14:03:03 @registry.py:134]\u001b[0m gen/LSTM/10/FC_attentions output: [500, 100]\n",
      "\u001b[32m[1012 14:03:03 @registry.py:126]\u001b[0m gen/LSTM/10/FC_lstm_state_0 input: [500, 200]\n",
      "\u001b[32m[1012 14:03:03 @registry.py:134]\u001b[0m gen/LSTM/10/FC_lstm_state_0 output: [500, 100]\n",
      "\u001b[32m[1012 14:03:03 @registry.py:126]\u001b[0m gen/LSTM/10/FC_lstm_state_1 input: [500, 200]\n",
      "\u001b[32m[1012 14:03:03 @registry.py:134]\u001b[0m gen/LSTM/10/FC_lstm_state_1 output: [500, 100]\n",
      "\u001b[32m[1012 14:03:03 @registry.py:126]\u001b[0m gen/LSTM/11/FC input: [500, 100]\n",
      "\u001b[32m[1012 14:03:03 @registry.py:134]\u001b[0m gen/LSTM/11/FC output: [500, 100]\n",
      "\u001b[32m[1012 14:03:03 @registry.py:126]\u001b[0m gen/LSTM/11/FC2 input: [500, 100]\n",
      "\u001b[32m[1012 14:03:03 @registry.py:134]\u001b[0m gen/LSTM/11/FC2 output: [500, 3]\n",
      "\u001b[32m[1012 14:03:03 @registry.py:126]\u001b[0m gen/LSTM/11/FC3 input: [500, 3]\n",
      "\u001b[32m[1012 14:03:03 @registry.py:134]\u001b[0m gen/LSTM/11/FC3 output: [500, 100]\n",
      "\u001b[32m[1012 14:03:03 @graph.py:282]\u001b[0m \u001b[91mCreating cell for hh_size (in-edges: 3)\n",
      "\u001b[32m[1012 14:03:03 @registry.py:126]\u001b[0m gen/LSTM/12/FC_inputs input: [500, 300]\n",
      "\u001b[32m[1012 14:03:03 @registry.py:134]\u001b[0m gen/LSTM/12/FC_inputs output: [500, 100]\n",
      "\u001b[32m[1012 14:03:03 @registry.py:126]\u001b[0m gen/LSTM/12/FC_attentions input: [500, 300]\n",
      "\u001b[32m[1012 14:03:03 @registry.py:134]\u001b[0m gen/LSTM/12/FC_attentions output: [500, 100]\n",
      "\u001b[32m[1012 14:03:03 @registry.py:126]\u001b[0m gen/LSTM/12/FC_lstm_state_0 input: [500, 300]\n",
      "\u001b[32m[1012 14:03:03 @registry.py:134]\u001b[0m gen/LSTM/12/FC_lstm_state_0 output: [500, 100]\n",
      "\u001b[32m[1012 14:03:03 @registry.py:126]\u001b[0m gen/LSTM/12/FC_lstm_state_1 input: [500, 300]\n",
      "\u001b[32m[1012 14:03:03 @registry.py:134]\u001b[0m gen/LSTM/12/FC_lstm_state_1 output: [500, 100]\n",
      "\u001b[32m[1012 14:03:03 @registry.py:126]\u001b[0m gen/LSTM/13/FC input: [500, 100]\n",
      "\u001b[32m[1012 14:03:03 @registry.py:134]\u001b[0m gen/LSTM/13/FC output: [500, 100]\n",
      "\u001b[32m[1012 14:03:03 @registry.py:126]\u001b[0m gen/LSTM/13/FC2 input: [500, 100]\n",
      "\u001b[32m[1012 14:03:03 @registry.py:134]\u001b[0m gen/LSTM/13/FC2 output: [500, 8]\n",
      "\u001b[32m[1012 14:03:03 @registry.py:126]\u001b[0m gen/LSTM/13/FC3 input: [500, 8]\n",
      "\u001b[32m[1012 14:03:03 @registry.py:134]\u001b[0m gen/LSTM/13/FC3 output: [500, 100]\n",
      "\u001b[32m[1012 14:03:03 @graph.py:282]\u001b[0m \u001b[91mCreating cell for departure_time (in-edges: 1)\n",
      "\u001b[32m[1012 14:03:03 @registry.py:126]\u001b[0m gen/LSTM/14/FC input: [500, 100]\n",
      "\u001b[32m[1012 14:03:03 @registry.py:134]\u001b[0m gen/LSTM/14/FC output: [500, 100]\n",
      "\u001b[32m[1012 14:03:03 @registry.py:126]\u001b[0m gen/LSTM/14/FC2_val input: [500, 100]\n",
      "\u001b[32m[1012 14:03:03 @registry.py:134]\u001b[0m gen/LSTM/14/FC2_val output: [500, 8]\n",
      "\u001b[32m[1012 14:03:03 @registry.py:126]\u001b[0m gen/LSTM/14/FC2_prob input: [500, 100]\n",
      "\u001b[32m[1012 14:03:03 @registry.py:134]\u001b[0m gen/LSTM/14/FC2_prob output: [500, 8]\n",
      "\u001b[32m[1012 14:03:03 @registry.py:126]\u001b[0m gen/LSTM/14/FC3 input: [500, 16]\n",
      "\u001b[32m[1012 14:03:03 @registry.py:134]\u001b[0m gen/LSTM/14/FC3 output: [500, 100]\n",
      "\u001b[32m[1012 14:03:03 @graph.py:282]\u001b[0m \u001b[91mCreating cell for distance (in-edges: 1)\n",
      "\u001b[32m[1012 14:03:03 @registry.py:126]\u001b[0m gen/LSTM/15/FC input: [500, 100]\n",
      "\u001b[32m[1012 14:03:03 @registry.py:134]\u001b[0m gen/LSTM/15/FC output: [500, 100]\n",
      "\u001b[32m[1012 14:03:03 @registry.py:126]\u001b[0m gen/LSTM/15/FC2_val input: [500, 100]\n",
      "\u001b[32m[1012 14:03:03 @registry.py:134]\u001b[0m gen/LSTM/15/FC2_val output: [500, 10]\n",
      "\u001b[32m[1012 14:03:03 @registry.py:126]\u001b[0m gen/LSTM/15/FC2_prob input: [500, 100]\n",
      "\u001b[32m[1012 14:03:03 @registry.py:134]\u001b[0m gen/LSTM/15/FC2_prob output: [500, 10]\n",
      "\u001b[32m[1012 14:03:03 @registry.py:126]\u001b[0m gen/LSTM/15/FC3 input: [500, 20]\n",
      "\u001b[32m[1012 14:03:03 @registry.py:134]\u001b[0m gen/LSTM/15/FC3 output: [500, 100]\n",
      "\u001b[32m[1012 14:03:03 @graph.py:282]\u001b[0m \u001b[91mCreating cell for hh_vehicles (in-edges: 2)\n",
      "\u001b[32m[1012 14:03:03 @registry.py:126]\u001b[0m gen/LSTM/16/FC_inputs input: [500, 200]\n",
      "\u001b[32m[1012 14:03:03 @registry.py:134]\u001b[0m gen/LSTM/16/FC_inputs output: [500, 100]\n",
      "\u001b[32m[1012 14:03:03 @registry.py:126]\u001b[0m gen/LSTM/16/FC_attentions input: [500, 200]\n",
      "\u001b[32m[1012 14:03:03 @registry.py:134]\u001b[0m gen/LSTM/16/FC_attentions output: [500, 100]\n",
      "\u001b[32m[1012 14:03:03 @registry.py:126]\u001b[0m gen/LSTM/16/FC_lstm_state_0 input: [500, 200]\n",
      "\u001b[32m[1012 14:03:03 @registry.py:134]\u001b[0m gen/LSTM/16/FC_lstm_state_0 output: [500, 100]\n",
      "\u001b[32m[1012 14:03:03 @registry.py:126]\u001b[0m gen/LSTM/16/FC_lstm_state_1 input: [500, 200]\n",
      "\u001b[32m[1012 14:03:03 @registry.py:134]\u001b[0m gen/LSTM/16/FC_lstm_state_1 output: [500, 100]\n",
      "\u001b[32m[1012 14:03:03 @registry.py:126]\u001b[0m gen/LSTM/17/FC input: [500, 100]\n",
      "\u001b[32m[1012 14:03:03 @registry.py:134]\u001b[0m gen/LSTM/17/FC output: [500, 100]\n",
      "\u001b[32m[1012 14:03:03 @registry.py:126]\u001b[0m gen/LSTM/17/FC2 input: [500, 100]\n",
      "\u001b[32m[1012 14:03:03 @registry.py:134]\u001b[0m gen/LSTM/17/FC2 output: [500, 9]\n",
      "\u001b[32m[1012 14:03:03 @registry.py:126]\u001b[0m gen/LSTM/17/FC3 input: [500, 9]\n",
      "\u001b[32m[1012 14:03:03 @registry.py:134]\u001b[0m gen/LSTM/17/FC3 output: [500, 100]\n",
      "\u001b[32m[1012 14:03:03 @graph.py:282]\u001b[0m \u001b[91mCreating cell for hh_bikes (in-edges: 2)\n",
      "\u001b[32m[1012 14:03:03 @registry.py:126]\u001b[0m gen/LSTM/18/FC_inputs input: [500, 200]\n",
      "\u001b[32m[1012 14:03:03 @registry.py:134]\u001b[0m gen/LSTM/18/FC_inputs output: [500, 100]\n",
      "\u001b[32m[1012 14:03:03 @registry.py:126]\u001b[0m gen/LSTM/18/FC_attentions input: [500, 200]\n",
      "\u001b[32m[1012 14:03:03 @registry.py:134]\u001b[0m gen/LSTM/18/FC_attentions output: [500, 100]\n",
      "\u001b[32m[1012 14:03:03 @registry.py:126]\u001b[0m gen/LSTM/18/FC_lstm_state_0 input: [500, 200]\n",
      "\u001b[32m[1012 14:03:03 @registry.py:134]\u001b[0m gen/LSTM/18/FC_lstm_state_0 output: [500, 100]\n",
      "\u001b[32m[1012 14:03:03 @registry.py:126]\u001b[0m gen/LSTM/18/FC_lstm_state_1 input: [500, 200]\n",
      "\u001b[32m[1012 14:03:04 @registry.py:134]\u001b[0m gen/LSTM/18/FC_lstm_state_1 output: [500, 100]\n",
      "\u001b[32m[1012 14:03:04 @registry.py:126]\u001b[0m gen/LSTM/19/FC input: [500, 100]\n",
      "\u001b[32m[1012 14:03:04 @registry.py:134]\u001b[0m gen/LSTM/19/FC output: [500, 100]\n",
      "\u001b[32m[1012 14:03:04 @registry.py:126]\u001b[0m gen/LSTM/19/FC2 input: [500, 100]\n",
      "\u001b[32m[1012 14:03:04 @registry.py:134]\u001b[0m gen/LSTM/19/FC2 output: [500, 8]\n",
      "\u001b[32m[1012 14:03:04 @registry.py:126]\u001b[0m gen/LSTM/19/FC3 input: [500, 8]\n",
      "\u001b[32m[1012 14:03:04 @registry.py:134]\u001b[0m gen/LSTM/19/FC3 output: [500, 100]\n",
      "\u001b[32m[1012 14:03:04 @graph.py:282]\u001b[0m \u001b[91mCreating cell for choice (in-edges: 7)\n"
     ]
    },
    {
     "name": "stdout",
     "output_type": "stream",
     "text": [
      "\u001b[32m[1012 14:03:04 @registry.py:126]\u001b[0m gen/LSTM/20/FC_inputs input: [500, 700]\n",
      "\u001b[32m[1012 14:03:04 @registry.py:134]\u001b[0m gen/LSTM/20/FC_inputs output: [500, 100]\n",
      "\u001b[32m[1012 14:03:04 @registry.py:126]\u001b[0m gen/LSTM/20/FC_attentions input: [500, 700]\n",
      "\u001b[32m[1012 14:03:04 @registry.py:134]\u001b[0m gen/LSTM/20/FC_attentions output: [500, 100]\n",
      "\u001b[32m[1012 14:03:04 @registry.py:126]\u001b[0m gen/LSTM/20/FC_lstm_state_0 input: [500, 700]\n",
      "\u001b[32m[1012 14:03:04 @registry.py:134]\u001b[0m gen/LSTM/20/FC_lstm_state_0 output: [500, 100]\n",
      "\u001b[32m[1012 14:03:04 @registry.py:126]\u001b[0m gen/LSTM/20/FC_lstm_state_1 input: [500, 700]\n",
      "\u001b[32m[1012 14:03:04 @registry.py:134]\u001b[0m gen/LSTM/20/FC_lstm_state_1 output: [500, 100]\n",
      "\u001b[32m[1012 14:03:04 @registry.py:126]\u001b[0m gen/LSTM/21/FC input: [500, 100]\n",
      "\u001b[32m[1012 14:03:04 @registry.py:134]\u001b[0m gen/LSTM/21/FC output: [500, 100]\n",
      "\u001b[32m[1012 14:03:04 @registry.py:126]\u001b[0m gen/LSTM/21/FC2 input: [500, 100]\n",
      "\u001b[32m[1012 14:03:04 @registry.py:134]\u001b[0m gen/LSTM/21/FC2 output: [500, 5]\n",
      "\u001b[32m[1012 14:03:04 @registry.py:126]\u001b[0m gen/LSTM/21/FC3 input: [500, 5]\n",
      "\u001b[32m[1012 14:03:04 @registry.py:134]\u001b[0m gen/LSTM/21/FC3 output: [500, 100]\n",
      "WARNING:tensorflow:From C:\\Users\\glede\\Documents\\EPFL\\PhD\\SynthPop\\code\\modules\\datgan\\graph.py:659: The name tf.random_uniform is deprecated. Please use tf.random.uniform instead.\n",
      "\n",
      "WARNING:tensorflow:From C:\\Users\\glede\\Documents\\EPFL\\PhD\\SynthPop\\code\\modules\\datgan\\graph.py:590: The name tf.log is deprecated. Please use tf.math.log instead.\n",
      "\n",
      "\u001b[32m[1012 14:03:04 @registry.py:126]\u001b[0m discrim/dis_fc0/fc input: [500, 120]\n",
      "\u001b[32m[1012 14:03:04 @registry.py:134]\u001b[0m discrim/dis_fc0/fc output: [500, 100]\n",
      "\u001b[32m[1012 14:03:04 @registry.py:126]\u001b[0m discrim/dis_fc0/fc_diversity input: [500, 100]\n",
      "\u001b[32m[1012 14:03:04 @registry.py:134]\u001b[0m discrim/dis_fc0/fc_diversity output: [500, 100]\n",
      "WARNING:tensorflow:From D:\\Users\\glede\\anaconda3\\envs\\py37\\lib\\site-packages\\tensorpack\\models\\batch_norm.py:204: The name tf.layers.BatchNormalization is deprecated. Please use tf.compat.v1.layers.BatchNormalization instead.\n",
      "\n",
      "WARNING:tensorflow:From D:\\Users\\glede\\anaconda3\\envs\\py37\\lib\\site-packages\\tensorpack\\models\\batch_norm.py:212: The name tf.add_to_collection is deprecated. Please use tf.compat.v1.add_to_collection instead.\n",
      "\n",
      "\u001b[32m[1012 14:03:04 @registry.py:126]\u001b[0m discrim/dis_fc_top input: [500, 110]\n",
      "\u001b[32m[1012 14:03:04 @registry.py:134]\u001b[0m discrim/dis_fc_top output: [500, 1]\n",
      "WARNING:tensorflow:From C:\\Users\\glede\\Documents\\EPFL\\PhD\\SynthPop\\code\\modules\\datgan\\graph.py:102: The name tf.summary.histogram is deprecated. Please use tf.compat.v1.summary.histogram instead.\n",
      "\n",
      "WARNING:tensorflow:From D:\\Users\\glede\\anaconda3\\envs\\py37\\lib\\site-packages\\tensorflow_core\\python\\ops\\nn_impl.py:183: where (from tensorflow.python.ops.array_ops) is deprecated and will be removed in a future version.\n",
      "Instructions for updating:\n",
      "Use tf.where in 2.0, which has the same broadcast rule as np.where\n",
      "WARNING:tensorflow:\n",
      "The TensorFlow contrib module will not be included in TensorFlow 2.0.\n",
      "For more information, please see:\n",
      "  * https://github.com/tensorflow/community/blob/master/rfcs/20180907-contrib-sunset.md\n",
      "  * https://github.com/tensorflow/addons\n",
      "  * https://github.com/tensorflow/io (for I/O related ops)\n",
      "If you depend on functionality not listed there, please file an issue.\n",
      "\n",
      "WARNING:tensorflow:From C:\\Users\\glede\\Documents\\EPFL\\PhD\\SynthPop\\code\\modules\\datgan\\graph.py:722: The name tf.train.AdamOptimizer is deprecated. Please use tf.compat.v1.train.AdamOptimizer instead.\n",
      "\n",
      "\u001b[32m[1012 14:03:08 @logger.py:90]\u001b[0m Argv: D:\\Users\\glede\\anaconda3\\envs\\py37\\lib\\site-packages\\ipykernel_launcher.py -f C:\\Users\\glede\\AppData\\Roaming\\jupyter\\runtime\\kernel-2becc7c7-58f7-4828-80a9-d00f7bb68cae.json\n",
      "WARNING:tensorflow:From D:\\Users\\glede\\anaconda3\\envs\\py37\\lib\\site-packages\\tensorpack\\callbacks\\saver.py:43: The name tf.gfile.IsDirectory is deprecated. Please use tf.io.gfile.isdir instead.\n",
      "\n",
      "WARNING:tensorflow:From D:\\Users\\glede\\anaconda3\\envs\\py37\\lib\\site-packages\\tensorpack\\callbacks\\saver.py:44: The name tf.gfile.MakeDirs is deprecated. Please use tf.io.gfile.makedirs instead.\n",
      "\n",
      "WARNING:tensorflow:From D:\\Users\\glede\\anaconda3\\envs\\py37\\lib\\site-packages\\tensorpack\\tfutils\\common.py:41: The name tf.ConfigProto is deprecated. Please use tf.compat.v1.ConfigProto instead.\n",
      "\n",
      "\u001b[32m[1012 14:03:08 @model_utils.py:67]\u001b[0m \u001b[36mList of Trainable Variables: \n",
      "\u001b[0mname                              shape         #elements\n",
      "--------------------------------  ----------  -----------\n",
      "gen/LSTM/go_age:0                 [1, 100]            100\n",
      "gen/LSTM/lstm_cell/kernel:0       [500, 400]       200000\n",
      "gen/LSTM/lstm_cell/bias:0         [400]               400\n",
      "gen/LSTM/00/FC/W:0                [100, 100]        10000\n",
      "gen/LSTM/00/FC/b:0                [100]               100\n",
      "gen/LSTM/00/FC2_val/W:0           [100, 6]            600\n",
      "gen/LSTM/00/FC2_val/b:0           [6]                   6\n",
      "gen/LSTM/00/FC2_prob/W:0          [100, 6]            600\n",
      "gen/LSTM/00/FC2_prob/b:0          [6]                   6\n",
      "gen/LSTM/00/FC3/W:0               [12, 100]          1200\n",
      "gen/LSTM/00/FC3/b:0               [100]               100\n",
      "gen/LSTM/00/attw:0                [1, 1, 1]             1\n",
      "gen/LSTM/go_gender:0              [1, 100]            100\n",
      "gen/LSTM/01/FC/W:0                [100, 100]        10000\n",
      "gen/LSTM/01/FC/b:0                [100]               100\n",
      "gen/LSTM/01/FC2/W:0               [100, 2]            200\n",
      "gen/LSTM/01/FC2/b:0               [2]                   2\n",
      "gen/LSTM/01/FC3/W:0               [2, 100]            200\n",
      "gen/LSTM/01/FC3/b:0               [100]               100\n",
      "gen/LSTM/01/attw:0                [1, 1, 1]             1\n",
      "gen/LSTM/go_travel_dow:0          [1, 100]            100\n",
      "gen/LSTM/02/FC/W:0                [100, 100]        10000\n",
      "gen/LSTM/02/FC/b:0                [100]               100\n",
      "gen/LSTM/02/FC2/W:0               [100, 7]            700\n",
      "gen/LSTM/02/FC2/b:0               [7]                   7\n",
      "gen/LSTM/02/FC3/W:0               [7, 100]            700\n",
      "gen/LSTM/02/FC3/b:0               [100]               100\n",
      "gen/LSTM/02/attw:0                [1, 1, 1]             1\n",
      "gen/LSTM/03/FC/W:0                [100, 100]        10000\n",
      "gen/LSTM/03/FC/b:0                [100]               100\n",
      "gen/LSTM/03/FC2/W:0               [100, 2]            200\n",
      "gen/LSTM/03/FC2/b:0               [2]                   2\n",
      "gen/LSTM/03/FC3/W:0               [2, 100]            200\n",
      "gen/LSTM/03/FC3/b:0               [100]               100\n",
      "gen/LSTM/03/attw:0                [2, 1, 1]             2\n",
      "gen/LSTM/04/FC/W:0                [100, 100]        10000\n",
      "gen/LSTM/04/FC/b:0                [100]               100\n",
      "gen/LSTM/04/FC2/W:0               [100, 6]            600\n",
      "gen/LSTM/04/FC2/b:0               [6]                   6\n",
      "gen/LSTM/04/FC3/W:0               [6, 100]            600\n",
      "gen/LSTM/04/FC3/b:0               [100]               100\n",
      "gen/LSTM/04/attw:0                [2, 1, 1]             2\n",
      "gen/LSTM/05/FC_inputs/W:0         [200, 100]        20000\n",
      "gen/LSTM/05/FC_inputs/b:0         [100]               100\n",
      "gen/LSTM/05/FC_attentions/W:0     [200, 100]        20000\n",
      "gen/LSTM/05/FC_attentions/b:0     [100]               100\n",
      "gen/LSTM/05/FC_lstm_state_0/W:0   [200, 100]        20000\n",
      "gen/LSTM/05/FC_lstm_state_0/b:0   [100]               100\n",
      "gen/LSTM/05/FC_lstm_state_1/W:0   [200, 100]        20000\n",
      "gen/LSTM/05/FC_lstm_state_1/b:0   [100]               100\n",
      "gen/LSTM/06/FC/W:0                [100, 100]        10000\n",
      "gen/LSTM/06/FC/b:0                [100]               100\n",
      "gen/LSTM/06/FC2/W:0               [100, 8]            800\n",
      "gen/LSTM/06/FC2/b:0               [8]                   8\n",
      "gen/LSTM/06/FC3/W:0               [8, 100]            800\n",
      "gen/LSTM/06/FC3/b:0               [100]               100\n",
      "gen/LSTM/06/attw:0                [4, 1, 1]             4\n",
      "gen/LSTM/07/FC_inputs/W:0         [200, 100]        20000\n",
      "gen/LSTM/07/FC_inputs/b:0         [100]               100\n",
      "gen/LSTM/07/FC_attentions/W:0     [200, 100]        20000\n",
      "gen/LSTM/07/FC_attentions/b:0     [100]               100\n",
      "gen/LSTM/07/FC_lstm_state_0/W:0   [200, 100]        20000\n",
      "gen/LSTM/07/FC_lstm_state_0/b:0   [100]               100\n",
      "gen/LSTM/07/FC_lstm_state_1/W:0   [200, 100]        20000\n",
      "gen/LSTM/07/FC_lstm_state_1/b:0   [100]               100\n",
      "gen/LSTM/08/FC/W:0                [100, 100]        10000\n",
      "gen/LSTM/08/FC/b:0                [100]               100\n",
      "gen/LSTM/08/FC2/W:0               [100, 7]            700\n",
      "gen/LSTM/08/FC2/b:0               [7]                   7\n",
      "gen/LSTM/08/FC3/W:0               [7, 100]            700\n",
      "gen/LSTM/08/FC3/b:0               [100]               100\n",
      "gen/LSTM/08/attw:0                [5, 1, 1]             5\n",
      "gen/LSTM/09/FC/W:0                [100, 100]        10000\n",
      "gen/LSTM/09/FC/b:0                [100]               100\n",
      "gen/LSTM/09/FC2/W:0               [100, 7]            700\n",
      "gen/LSTM/09/FC2/b:0               [7]                   7\n",
      "gen/LSTM/09/FC3/W:0               [7, 100]            700\n",
      "gen/LSTM/09/FC3/b:0               [100]               100\n",
      "gen/LSTM/09/attw:0                [5, 1, 1]             5\n",
      "gen/LSTM/10/FC_inputs/W:0         [200, 100]        20000\n",
      "gen/LSTM/10/FC_inputs/b:0         [100]               100\n",
      "gen/LSTM/10/FC_attentions/W:0     [200, 100]        20000\n",
      "gen/LSTM/10/FC_attentions/b:0     [100]               100\n",
      "gen/LSTM/10/FC_lstm_state_0/W:0   [200, 100]        20000\n",
      "gen/LSTM/10/FC_lstm_state_0/b:0   [100]               100\n",
      "gen/LSTM/10/FC_lstm_state_1/W:0   [200, 100]        20000\n",
      "gen/LSTM/10/FC_lstm_state_1/b:0   [100]               100\n",
      "gen/LSTM/11/FC/W:0                [100, 100]        10000\n",
      "gen/LSTM/11/FC/b:0                [100]               100\n",
      "gen/LSTM/11/FC2/W:0               [100, 3]            300\n",
      "gen/LSTM/11/FC2/b:0               [3]                   3\n",
      "gen/LSTM/11/FC3/W:0               [3, 100]            300\n",
      "gen/LSTM/11/FC3/b:0               [100]               100\n",
      "gen/LSTM/11/attw:0                [6, 1, 1]             6\n",
      "gen/LSTM/12/FC_inputs/W:0         [300, 100]        30000\n",
      "gen/LSTM/12/FC_inputs/b:0         [100]               100\n",
      "gen/LSTM/12/FC_attentions/W:0     [300, 100]        30000\n",
      "gen/LSTM/12/FC_attentions/b:0     [100]               100\n",
      "gen/LSTM/12/FC_lstm_state_0/W:0   [300, 100]        30000\n",
      "gen/LSTM/12/FC_lstm_state_0/b:0   [100]               100\n",
      "gen/LSTM/12/FC_lstm_state_1/W:0   [300, 100]        30000\n",
      "gen/LSTM/12/FC_lstm_state_1/b:0   [100]               100\n",
      "gen/LSTM/13/FC/W:0                [100, 100]        10000\n",
      "gen/LSTM/13/FC/b:0                [100]               100\n",
      "gen/LSTM/13/FC2/W:0               [100, 8]            800\n",
      "gen/LSTM/13/FC2/b:0               [8]                   8\n",
      "gen/LSTM/13/FC3/W:0               [8, 100]            800\n",
      "gen/LSTM/13/FC3/b:0               [100]               100\n",
      "gen/LSTM/13/attw:0                [6, 1, 1]             6\n",
      "gen/LSTM/14/FC/W:0                [100, 100]        10000\n",
      "gen/LSTM/14/FC/b:0                [100]               100\n",
      "gen/LSTM/14/FC2_val/W:0           [100, 8]            800\n",
      "gen/LSTM/14/FC2_val/b:0           [8]                   8\n",
      "gen/LSTM/14/FC2_prob/W:0          [100, 8]            800\n",
      "gen/LSTM/14/FC2_prob/b:0          [8]                   8\n",
      "gen/LSTM/14/FC3/W:0               [16, 100]          1600\n",
      "gen/LSTM/14/FC3/b:0               [100]               100\n",
      "gen/LSTM/14/attw:0                [6, 1, 1]             6\n",
      "gen/LSTM/15/FC/W:0                [100, 100]        10000\n",
      "gen/LSTM/15/FC/b:0                [100]               100\n",
      "gen/LSTM/15/FC2_val/W:0           [100, 10]          1000\n",
      "gen/LSTM/15/FC2_val/b:0           [10]                 10\n",
      "gen/LSTM/15/FC2_prob/W:0          [100, 10]          1000\n",
      "gen/LSTM/15/FC2_prob/b:0          [10]                 10\n",
      "gen/LSTM/15/FC3/W:0               [20, 100]          2000\n",
      "gen/LSTM/15/FC3/b:0               [100]               100\n",
      "gen/LSTM/15/attw:0                [6, 1, 1]             6\n",
      "gen/LSTM/16/FC_inputs/W:0         [200, 100]        20000\n",
      "gen/LSTM/16/FC_inputs/b:0         [100]               100\n",
      "gen/LSTM/16/FC_attentions/W:0     [200, 100]        20000\n",
      "gen/LSTM/16/FC_attentions/b:0     [100]               100\n",
      "gen/LSTM/16/FC_lstm_state_0/W:0   [200, 100]        20000\n",
      "gen/LSTM/16/FC_lstm_state_0/b:0   [100]               100\n",
      "gen/LSTM/16/FC_lstm_state_1/W:0   [200, 100]        20000\n",
      "gen/LSTM/16/FC_lstm_state_1/b:0   [100]               100\n",
      "gen/LSTM/17/FC/W:0                [100, 100]        10000\n",
      "gen/LSTM/17/FC/b:0                [100]               100\n",
      "gen/LSTM/17/FC2/W:0               [100, 9]            900\n",
      "gen/LSTM/17/FC2/b:0               [9]                   9\n",
      "gen/LSTM/17/FC3/W:0               [9, 100]            900\n",
      "gen/LSTM/17/FC3/b:0               [100]               100\n",
      "gen/LSTM/17/attw:0                [7, 1, 1]             7\n",
      "gen/LSTM/18/FC_inputs/W:0         [200, 100]        20000\n",
      "gen/LSTM/18/FC_inputs/b:0         [100]               100\n",
      "gen/LSTM/18/FC_attentions/W:0     [200, 100]        20000\n",
      "gen/LSTM/18/FC_attentions/b:0     [100]               100\n",
      "gen/LSTM/18/FC_lstm_state_0/W:0   [200, 100]        20000\n",
      "gen/LSTM/18/FC_lstm_state_0/b:0   [100]               100\n",
      "gen/LSTM/18/FC_lstm_state_1/W:0   [200, 100]        20000\n",
      "gen/LSTM/18/FC_lstm_state_1/b:0   [100]               100\n",
      "gen/LSTM/19/FC/W:0                [100, 100]        10000\n",
      "gen/LSTM/19/FC/b:0                [100]               100\n",
      "gen/LSTM/19/FC2/W:0               [100, 8]            800\n",
      "gen/LSTM/19/FC2/b:0               [8]                   8\n",
      "gen/LSTM/19/FC3/W:0               [8, 100]            800\n",
      "gen/LSTM/19/FC3/b:0               [100]               100\n",
      "gen/LSTM/19/attw:0                [7, 1, 1]             7\n",
      "gen/LSTM/20/FC_inputs/W:0         [700, 100]        70000\n",
      "gen/LSTM/20/FC_inputs/b:0         [100]               100\n",
      "gen/LSTM/20/FC_attentions/W:0     [700, 100]        70000\n",
      "gen/LSTM/20/FC_attentions/b:0     [100]               100\n",
      "gen/LSTM/20/FC_lstm_state_0/W:0   [700, 100]        70000\n",
      "gen/LSTM/20/FC_lstm_state_0/b:0   [100]               100\n",
      "gen/LSTM/20/FC_lstm_state_1/W:0   [700, 100]        70000\n",
      "gen/LSTM/20/FC_lstm_state_1/b:0   [100]               100\n",
      "gen/LSTM/21/FC/W:0                [100, 100]        10000\n",
      "gen/LSTM/21/FC/b:0                [100]               100\n",
      "gen/LSTM/21/FC2/W:0               [100, 5]            500\n",
      "gen/LSTM/21/FC2/b:0               [5]                   5\n",
      "gen/LSTM/21/FC3/W:0               [5, 100]            500\n",
      "gen/LSTM/21/FC3/b:0               [100]               100\n",
      "gen/LSTM/21/attw:0                [14, 1, 1]           14\n",
      "discrim/dis_fc0/fc/W:0            [120, 100]        12000\n",
      "discrim/dis_fc0/fc/b:0            [100]               100\n",
      "discrim/dis_fc0/fc_diversity/W:0  [100, 100]        10000\n",
      "discrim/dis_fc0/fc_diversity/b:0  [100]               100\n",
      "discrim/dis_fc0/bn/beta:0         [110]               110\n",
      "discrim/dis_fc_top/W:0            [110, 1]            110\n",
      "discrim/dis_fc_top/b:0            [1]                   1\u001b[36m\n",
      "Number of trainable variables: 179\n",
      "Number of parameters (elements): 1203114\n",
      "Storage space needed for all trainable variables: 4.59MB\u001b[0m\n"
     ]
    },
    {
     "name": "stdout",
     "output_type": "stream",
     "text": [
      "\u001b[32m[1012 14:03:08 @base.py:209]\u001b[0m Setup callbacks graph ...\n",
      "WARNING:tensorflow:From D:\\Users\\glede\\anaconda3\\envs\\py37\\lib\\site-packages\\tensorpack\\callbacks\\graph.py:54: The name tf.train.SessionRunArgs is deprecated. Please use tf.estimator.SessionRunArgs instead.\n",
      "\n",
      "WARNING:tensorflow:From D:\\Users\\glede\\anaconda3\\envs\\py37\\lib\\site-packages\\tensorpack\\tfutils\\common.py:75: The name tf.VariableScope is deprecated. Please use tf.compat.v1.VariableScope instead.\n",
      "\n",
      "WARNING:tensorflow:From D:\\Users\\glede\\anaconda3\\envs\\py37\\lib\\site-packages\\tensorpack\\tfutils\\common.py:77: The name tf.train.get_or_create_global_step is deprecated. Please use tf.compat.v1.train.get_or_create_global_step instead.\n",
      "\n",
      "WARNING:tensorflow:From D:\\Users\\glede\\anaconda3\\envs\\py37\\lib\\site-packages\\tensorpack\\callbacks\\steps.py:117: The name tf.assign_add is deprecated. Please use tf.compat.v1.assign_add instead.\n",
      "\n",
      "WARNING:tensorflow:From D:\\Users\\glede\\anaconda3\\envs\\py37\\lib\\site-packages\\tensorpack\\callbacks\\saver.py:55: The name tf.train.Saver is deprecated. Please use tf.compat.v1.train.Saver instead.\n",
      "\n",
      "WARNING:tensorflow:From D:\\Users\\glede\\anaconda3\\envs\\py37\\lib\\site-packages\\tensorpack\\callbacks\\saver.py:59: The name tf.train.SaverDef is deprecated. Please use tf.compat.v1.train.SaverDef instead.\n",
      "\n",
      "\u001b[32m[1012 14:03:08 @summary.py:46]\u001b[0m [MovingAverageSummary] 6 operations in collection 'MOVING_SUMMARY_OPS' will be run with session hooks.\n",
      "\u001b[32m[1012 14:03:08 @summary.py:93]\u001b[0m Summarizing collection 'summaries' of size 9.\n",
      "WARNING:tensorflow:From D:\\Users\\glede\\anaconda3\\envs\\py37\\lib\\site-packages\\tensorpack\\callbacks\\summary.py:94: The name tf.summary.merge_all is deprecated. Please use tf.compat.v1.summary.merge_all instead.\n",
      "\n",
      "\u001b[32m[1012 14:03:08 @graph.py:98]\u001b[0m Applying collection UPDATE_OPS of 4 ops.\n",
      "WARNING:tensorflow:From D:\\Users\\glede\\anaconda3\\envs\\py37\\lib\\site-packages\\tensorpack\\callbacks\\monitor.py:261: The name tf.summary.FileWriter is deprecated. Please use tf.compat.v1.summary.FileWriter instead.\n",
      "\n",
      "\u001b[32m[1012 14:03:09 @base.py:230]\u001b[0m Creating the session ...\n",
      "WARNING:tensorflow:From D:\\Users\\glede\\anaconda3\\envs\\py37\\lib\\site-packages\\tensorpack\\tfutils\\sesscreate.py:42: The name tf.Session is deprecated. Please use tf.compat.v1.Session instead.\n",
      "\n",
      "WARNING:tensorflow:From D:\\Users\\glede\\anaconda3\\envs\\py37\\lib\\site-packages\\tensorpack\\tfutils\\sesscreate.py:71: The name tf.global_variables_initializer is deprecated. Please use tf.compat.v1.global_variables_initializer instead.\n",
      "\n",
      "WARNING:tensorflow:From D:\\Users\\glede\\anaconda3\\envs\\py37\\lib\\site-packages\\tensorpack\\tfutils\\sesscreate.py:62: get_backward_walk_ops (from tensorflow.contrib.graph_editor.select) is deprecated and will be removed after 2019-06-06.\n",
      "Instructions for updating:\n",
      "Please use tensorflow.python.ops.op_selector.get_backward_walk_ops.\n",
      "WARNING:tensorflow:From D:\\Users\\glede\\anaconda3\\envs\\py37\\lib\\site-packages\\tensorpack\\tfutils\\sesscreate.py:72: The name tf.local_variables_initializer is deprecated. Please use tf.compat.v1.local_variables_initializer instead.\n",
      "\n",
      "WARNING:tensorflow:From D:\\Users\\glede\\anaconda3\\envs\\py37\\lib\\site-packages\\tensorpack\\tfutils\\sesscreate.py:73: The name tf.tables_initializer is deprecated. Please use tf.compat.v1.tables_initializer instead.\n",
      "\n",
      "WARNING:tensorflow:From D:\\Users\\glede\\anaconda3\\envs\\py37\\lib\\site-packages\\tensorpack\\train\\base.py:254: The name tf.train.MonitoredSession is deprecated. Please use tf.compat.v1.train.MonitoredSession instead.\n",
      "\n",
      "\u001b[32m[1012 14:03:10 @base.py:236]\u001b[0m Initializing the session ...\n",
      "\u001b[32m[1012 14:03:10 @base.py:243]\u001b[0m Graph Finalized.\n",
      "WARNING:tensorflow:From D:\\Users\\glede\\anaconda3\\envs\\py37\\lib\\site-packages\\tensorpack\\tfutils\\common.py:89: The name tf.train.global_step is deprecated. Please use tf.compat.v1.train.global_step instead.\n",
      "\n",
      "WARNING:tensorflow:From D:\\Users\\glede\\anaconda3\\envs\\py37\\lib\\site-packages\\tensorpack\\tfutils\\common.py:90: The name tf.get_default_session is deprecated. Please use tf.compat.v1.get_default_session instead.\n",
      "\n",
      "\u001b[32m[1012 14:03:11 @concurrency.py:38]\u001b[0m Starting EnqueueThread QueueInput/input_queue ...\n",
      "WARNING:tensorflow:From D:\\Users\\glede\\anaconda3\\envs\\py37\\lib\\site-packages\\tensorpack\\callbacks\\monitor.py:309: The name tf.gfile.Exists is deprecated. Please use tf.io.gfile.exists instead.\n",
      "\n",
      "\u001b[32m[1012 14:03:11 @base.py:275]\u001b[0m Start Epoch 1 ...\n"
     ]
    },
    {
     "name": "stderr",
     "output_type": "stream",
     "text": [
      " 93%|##########################################################################      |162/175[00:07<00:00,29.73it/s]"
     ]
    },
    {
     "name": "stdout",
     "output_type": "stream",
     "text": [
      "WARNING:tensorflow:From D:\\Users\\glede\\anaconda3\\envs\\py37\\lib\\site-packages\\tensorpack\\callbacks\\monitor.py:148: The name tf.Summary is deprecated. Please use tf.compat.v1.Summary instead.\n",
      "\n"
     ]
    },
    {
     "name": "stderr",
     "output_type": "stream",
     "text": [
      "\r",
      "100%|################################################################################|175/175[00:09<00:00,18.07it/s]"
     ]
    },
    {
     "name": "stdout",
     "output_type": "stream",
     "text": [
      "\u001b[32m[1012 14:03:21 @base.py:285]\u001b[0m Epoch 1 (global_step 175) finished, time:9.69 seconds.\n",
      "WARNING:tensorflow:From D:\\Users\\glede\\anaconda3\\envs\\py37\\lib\\site-packages\\tensorpack\\callbacks\\saver.py:77: The name tf.train.get_global_step is deprecated. Please use tf.compat.v1.train.get_global_step instead.\n",
      "\n"
     ]
    },
    {
     "name": "stderr",
     "output_type": "stream",
     "text": [
      "\n"
     ]
    },
    {
     "name": "stdout",
     "output_type": "stream",
     "text": [
      "\u001b[32m[1012 14:03:21 @saver.py:79]\u001b[0m Model saved to ../output/Chicago/DATGAN_tmp2/model\\model-175.\n",
      "\u001b[32m[1012 14:03:21 @monitor.py:467]\u001b[0m GAN_loss/discrim/accuracy_fake: 0.76\n",
      "\u001b[32m[1012 14:03:21 @monitor.py:467]\u001b[0m GAN_loss/discrim/accuracy_real: 0.39\n",
      "\u001b[32m[1012 14:03:21 @monitor.py:467]\u001b[0m GAN_loss/discrim/loss: 0.6329\n",
      "\u001b[32m[1012 14:03:21 @monitor.py:467]\u001b[0m GAN_loss/gen/final-g-loss: 1.1321\n",
      "\u001b[32m[1012 14:03:21 @monitor.py:467]\u001b[0m GAN_loss/gen/klloss: 0.048948\n",
      "\u001b[32m[1012 14:03:21 @monitor.py:467]\u001b[0m GAN_loss/gen/loss: 1.0832\n",
      "\u001b[32m[1012 14:03:21 @monitor.py:467]\u001b[0m QueueInput/queue_size: 50\n",
      "\u001b[32m[1012 14:03:21 @base.py:275]\u001b[0m Start Epoch 2 ...\n"
     ]
    },
    {
     "name": "stderr",
     "output_type": "stream",
     "text": [
      "100%|################################################################################|175/175[00:05<00:00,32.11it/s]"
     ]
    },
    {
     "name": "stdout",
     "output_type": "stream",
     "text": [
      "\u001b[32m[1012 14:03:27 @base.py:285]\u001b[0m Epoch 2 (global_step 350) finished, time:5.45 seconds.\n",
      "\u001b[32m[1012 14:03:27 @saver.py:79]\u001b[0m Model saved to ../output/Chicago/DATGAN_tmp2/model\\model-350.\n",
      "\u001b[32m[1012 14:03:27 @monitor.py:467]\u001b[0m GAN_loss/discrim/accuracy_fake: 0.858\n",
      "\u001b[32m[1012 14:03:27 @monitor.py:467]\u001b[0m GAN_loss/discrim/accuracy_real: 0.592\n",
      "\u001b[32m[1012 14:03:27 @monitor.py:467]\u001b[0m GAN_loss/discrim/loss: 0.55379\n",
      "\u001b[32m[1012 14:03:27 @monitor.py:467]\u001b[0m GAN_loss/gen/final-g-loss: 1.3038\n",
      "\u001b[32m[1012 14:03:27 @monitor.py:467]\u001b[0m GAN_loss/gen/klloss: 0.066334\n",
      "\u001b[32m[1012 14:03:27 @monitor.py:467]\u001b[0m GAN_loss/gen/loss: 1.2375\n",
      "\u001b[32m[1012 14:03:27 @monitor.py:467]\u001b[0m QueueInput/queue_size: 50\n",
      "\u001b[32m[1012 14:03:27 @base.py:275]\u001b[0m Start Epoch 3 ...\n"
     ]
    },
    {
     "name": "stderr",
     "output_type": "stream",
     "text": [
      "\n",
      "100%|################################################################################|175/175[00:05<00:00,32.06it/s]"
     ]
    },
    {
     "name": "stdout",
     "output_type": "stream",
     "text": [
      "\u001b[32m[1012 14:03:32 @base.py:285]\u001b[0m Epoch 3 (global_step 525) finished, time:5.46 seconds.\n",
      "\u001b[32m[1012 14:03:32 @saver.py:79]\u001b[0m Model saved to ../output/Chicago/DATGAN_tmp2/model\\model-525.\n",
      "\u001b[32m[1012 14:03:32 @monitor.py:467]\u001b[0m GAN_loss/discrim/accuracy_fake: 0.748\n",
      "\u001b[32m[1012 14:03:32 @monitor.py:467]\u001b[0m GAN_loss/discrim/accuracy_real: 0.57\n",
      "\u001b[32m[1012 14:03:32 @monitor.py:467]\u001b[0m GAN_loss/discrim/loss: 0.59689\n",
      "\u001b[32m[1012 14:03:32 @monitor.py:467]\u001b[0m GAN_loss/gen/final-g-loss: 1.1546\n",
      "\u001b[32m[1012 14:03:32 @monitor.py:467]\u001b[0m GAN_loss/gen/klloss: 0.045742\n",
      "\u001b[32m[1012 14:03:32 @monitor.py:467]\u001b[0m GAN_loss/gen/loss: 1.1089\n",
      "\u001b[32m[1012 14:03:32 @monitor.py:467]\u001b[0m QueueInput/queue_size: 50\n",
      "\u001b[32m[1012 14:03:32 @base.py:275]\u001b[0m Start Epoch 4 ...\n"
     ]
    },
    {
     "name": "stderr",
     "output_type": "stream",
     "text": [
      "\n",
      "100%|################################################################################|175/175[00:05<00:00,32.14it/s]"
     ]
    },
    {
     "name": "stdout",
     "output_type": "stream",
     "text": [
      "\u001b[32m[1012 14:03:38 @base.py:285]\u001b[0m Epoch 4 (global_step 700) finished, time:5.45 seconds.\n"
     ]
    },
    {
     "name": "stderr",
     "output_type": "stream",
     "text": [
      "\n"
     ]
    },
    {
     "name": "stdout",
     "output_type": "stream",
     "text": [
      "\u001b[32m[1012 14:03:38 @saver.py:79]\u001b[0m Model saved to ../output/Chicago/DATGAN_tmp2/model\\model-700.\n",
      "\u001b[32m[1012 14:03:38 @monitor.py:467]\u001b[0m GAN_loss/discrim/accuracy_fake: 0.8\n",
      "\u001b[32m[1012 14:03:38 @monitor.py:467]\u001b[0m GAN_loss/discrim/accuracy_real: 0.378\n",
      "\u001b[32m[1012 14:03:38 @monitor.py:467]\u001b[0m GAN_loss/discrim/loss: 0.62909\n",
      "\u001b[32m[1012 14:03:38 @monitor.py:467]\u001b[0m GAN_loss/gen/final-g-loss: 1.1247\n",
      "\u001b[32m[1012 14:03:38 @monitor.py:467]\u001b[0m GAN_loss/gen/klloss: 0.056913\n",
      "\u001b[32m[1012 14:03:38 @monitor.py:467]\u001b[0m GAN_loss/gen/loss: 1.0678\n",
      "\u001b[32m[1012 14:03:38 @monitor.py:467]\u001b[0m QueueInput/queue_size: 50\n",
      "\u001b[32m[1012 14:03:38 @base.py:275]\u001b[0m Start Epoch 5 ...\n"
     ]
    },
    {
     "name": "stderr",
     "output_type": "stream",
     "text": [
      "100%|################################################################################|175/175[00:05<00:00,32.23it/s]"
     ]
    },
    {
     "name": "stdout",
     "output_type": "stream",
     "text": [
      "\u001b[32m[1012 14:03:43 @base.py:285]\u001b[0m Epoch 5 (global_step 875) finished, time:5.43 seconds.\n"
     ]
    },
    {
     "name": "stderr",
     "output_type": "stream",
     "text": [
      "\n"
     ]
    },
    {
     "name": "stdout",
     "output_type": "stream",
     "text": [
      "\u001b[32m[1012 14:03:43 @saver.py:79]\u001b[0m Model saved to ../output/Chicago/DATGAN_tmp2/model\\model-875.\n",
      "\u001b[32m[1012 14:03:43 @monitor.py:467]\u001b[0m GAN_loss/discrim/accuracy_fake: 0.81\n",
      "\u001b[32m[1012 14:03:43 @monitor.py:467]\u001b[0m GAN_loss/discrim/accuracy_real: 0.368\n",
      "\u001b[32m[1012 14:03:43 @monitor.py:467]\u001b[0m GAN_loss/discrim/loss: 0.63412\n",
      "\u001b[32m[1012 14:03:43 @monitor.py:467]\u001b[0m GAN_loss/gen/final-g-loss: 1.1016\n",
      "\u001b[32m[1012 14:03:43 @monitor.py:467]\u001b[0m GAN_loss/gen/klloss: 0.065636\n",
      "\u001b[32m[1012 14:03:43 @monitor.py:467]\u001b[0m GAN_loss/gen/loss: 1.036\n",
      "\u001b[32m[1012 14:03:43 @monitor.py:467]\u001b[0m QueueInput/queue_size: 50\n",
      "\u001b[32m[1012 14:03:43 @base.py:275]\u001b[0m Start Epoch 6 ...\n"
     ]
    },
    {
     "name": "stderr",
     "output_type": "stream",
     "text": [
      "100%|################################################################################|175/175[00:05<00:00,32.24it/s]"
     ]
    },
    {
     "name": "stdout",
     "output_type": "stream",
     "text": [
      "\u001b[32m[1012 14:03:49 @base.py:285]\u001b[0m Epoch 6 (global_step 1050) finished, time:5.43 seconds.\n",
      "\u001b[32m[1012 14:03:49 @saver.py:79]\u001b[0m Model saved to ../output/Chicago/DATGAN_tmp2/model\\model-1050.\n",
      "\u001b[32m[1012 14:03:49 @monitor.py:467]\u001b[0m GAN_loss/discrim/accuracy_fake: 0.82\n",
      "\u001b[32m[1012 14:03:49 @monitor.py:467]\u001b[0m GAN_loss/discrim/accuracy_real: 0.308\n",
      "\u001b[32m[1012 14:03:49 @monitor.py:467]\u001b[0m GAN_loss/discrim/loss: 0.63831\n",
      "\u001b[32m[1012 14:03:49 @monitor.py:467]\u001b[0m GAN_loss/gen/final-g-loss: 1.0916\n",
      "\u001b[32m[1012 14:03:49 @monitor.py:467]\u001b[0m GAN_loss/gen/klloss: 0.081382\n",
      "\u001b[32m[1012 14:03:49 @monitor.py:467]\u001b[0m GAN_loss/gen/loss: 1.0102\n",
      "\u001b[32m[1012 14:03:49 @monitor.py:467]\u001b[0m QueueInput/queue_size: 50\n",
      "\u001b[32m[1012 14:03:49 @base.py:275]\u001b[0m Start Epoch 7 ...\n"
     ]
    },
    {
     "name": "stderr",
     "output_type": "stream",
     "text": [
      "\n",
      "100%|################################################################################|175/175[00:05<00:00,32.11it/s]"
     ]
    },
    {
     "name": "stdout",
     "output_type": "stream",
     "text": [
      "\u001b[32m[1012 14:03:54 @base.py:285]\u001b[0m Epoch 7 (global_step 1225) finished, time:5.45 seconds.\n",
      "\u001b[32m[1012 14:03:54 @saver.py:79]\u001b[0m Model saved to ../output/Chicago/DATGAN_tmp2/model\\model-1225.\n",
      "\u001b[32m[1012 14:03:54 @monitor.py:467]\u001b[0m GAN_loss/discrim/accuracy_fake: 0.866\n",
      "\u001b[32m[1012 14:03:54 @monitor.py:467]\u001b[0m GAN_loss/discrim/accuracy_real: 0.256\n",
      "\u001b[32m[1012 14:03:54 @monitor.py:467]\u001b[0m GAN_loss/discrim/loss: 0.63618\n",
      "\u001b[32m[1012 14:03:54 @monitor.py:467]\u001b[0m GAN_loss/gen/final-g-loss: 1.0942\n",
      "\u001b[32m[1012 14:03:54 @monitor.py:467]\u001b[0m GAN_loss/gen/klloss: 0.048018\n",
      "\u001b[32m[1012 14:03:54 @monitor.py:467]\u001b[0m GAN_loss/gen/loss: 1.0462\n",
      "\u001b[32m[1012 14:03:54 @monitor.py:467]\u001b[0m QueueInput/queue_size: 50\n",
      "\u001b[32m[1012 14:03:54 @base.py:275]\u001b[0m Start Epoch 8 ...\n"
     ]
    },
    {
     "name": "stderr",
     "output_type": "stream",
     "text": [
      "\n",
      "100%|################################################################################|175/175[00:05<00:00,32.14it/s]"
     ]
    },
    {
     "name": "stdout",
     "output_type": "stream",
     "text": [
      "\u001b[32m[1012 14:04:00 @base.py:285]\u001b[0m Epoch 8 (global_step 1400) finished, time:5.45 seconds.\n",
      "\u001b[32m[1012 14:04:00 @saver.py:79]\u001b[0m Model saved to ../output/Chicago/DATGAN_tmp2/model\\model-1400.\n",
      "\u001b[32m[1012 14:04:00 @monitor.py:467]\u001b[0m GAN_loss/discrim/accuracy_fake: 0.872\n",
      "\u001b[32m[1012 14:04:00 @monitor.py:467]\u001b[0m GAN_loss/discrim/accuracy_real: 0.252\n",
      "\u001b[32m[1012 14:04:00 @monitor.py:467]\u001b[0m GAN_loss/discrim/loss: 0.63501\n",
      "\u001b[32m[1012 14:04:00 @monitor.py:467]\u001b[0m GAN_loss/gen/final-g-loss: 1.0708\n",
      "\u001b[32m[1012 14:04:00 @monitor.py:467]\u001b[0m GAN_loss/gen/klloss: 0.07077\n",
      "\u001b[32m[1012 14:04:00 @monitor.py:467]\u001b[0m GAN_loss/gen/loss: 1.0001\n",
      "\u001b[32m[1012 14:04:00 @monitor.py:467]\u001b[0m QueueInput/queue_size: 50\n",
      "\u001b[32m[1012 14:04:00 @base.py:275]\u001b[0m Start Epoch 9 ...\n"
     ]
    },
    {
     "name": "stderr",
     "output_type": "stream",
     "text": [
      "\n",
      "100%|################################################################################|175/175[00:05<00:00,32.10it/s]"
     ]
    },
    {
     "name": "stdout",
     "output_type": "stream",
     "text": [
      "\u001b[32m[1012 14:04:05 @base.py:285]\u001b[0m Epoch 9 (global_step 1575) finished, time:5.45 seconds.\n",
      "\u001b[32m[1012 14:04:05 @saver.py:79]\u001b[0m Model saved to ../output/Chicago/DATGAN_tmp2/model\\model-1575.\n",
      "\u001b[32m[1012 14:04:05 @monitor.py:467]\u001b[0m GAN_loss/discrim/accuracy_fake: 0.868\n",
      "\u001b[32m[1012 14:04:05 @monitor.py:467]\u001b[0m GAN_loss/discrim/accuracy_real: 0.248\n",
      "\u001b[32m[1012 14:04:05 @monitor.py:467]\u001b[0m GAN_loss/discrim/loss: 0.63625\n",
      "\u001b[32m[1012 14:04:05 @monitor.py:467]\u001b[0m GAN_loss/gen/final-g-loss: 1.0753\n",
      "\u001b[32m[1012 14:04:05 @monitor.py:467]\u001b[0m GAN_loss/gen/klloss: 0.06561\n",
      "\u001b[32m[1012 14:04:05 @monitor.py:467]\u001b[0m GAN_loss/gen/loss: 1.0097\n",
      "\u001b[32m[1012 14:04:05 @monitor.py:467]\u001b[0m QueueInput/queue_size: 50\n",
      "\u001b[32m[1012 14:04:05 @base.py:275]\u001b[0m Start Epoch 10 ...\n"
     ]
    },
    {
     "name": "stderr",
     "output_type": "stream",
     "text": [
      "\n",
      "100%|################################################################################|175/175[00:05<00:00,32.17it/s]"
     ]
    },
    {
     "name": "stdout",
     "output_type": "stream",
     "text": [
      "\u001b[32m[1012 14:04:11 @base.py:285]\u001b[0m Epoch 10 (global_step 1750) finished, time:5.44 seconds.\n",
      "\u001b[32m[1012 14:04:11 @saver.py:79]\u001b[0m Model saved to ../output/Chicago/DATGAN_tmp2/model\\model-1750.\n",
      "\u001b[32m[1012 14:04:11 @monitor.py:467]\u001b[0m GAN_loss/discrim/accuracy_fake: 0.904\n",
      "\u001b[32m[1012 14:04:11 @monitor.py:467]\u001b[0m GAN_loss/discrim/accuracy_real: 0.19\n",
      "\u001b[32m[1012 14:04:11 @monitor.py:467]\u001b[0m GAN_loss/discrim/loss: 0.63679\n",
      "\u001b[32m[1012 14:04:11 @monitor.py:467]\u001b[0m GAN_loss/gen/final-g-loss: 1.0557\n",
      "\u001b[32m[1012 14:04:11 @monitor.py:467]\u001b[0m GAN_loss/gen/klloss: 0.068361\n",
      "\u001b[32m[1012 14:04:11 @monitor.py:467]\u001b[0m GAN_loss/gen/loss: 0.9873\n",
      "\u001b[32m[1012 14:04:11 @monitor.py:467]\u001b[0m QueueInput/queue_size: 50\n",
      "\u001b[32m[1012 14:04:11 @base.py:275]\u001b[0m Start Epoch 11 ...\n"
     ]
    },
    {
     "name": "stderr",
     "output_type": "stream",
     "text": [
      "\n",
      "100%|################################################################################|175/175[00:05<00:00,32.12it/s]"
     ]
    },
    {
     "name": "stdout",
     "output_type": "stream",
     "text": [
      "\u001b[32m[1012 14:04:16 @base.py:285]\u001b[0m Epoch 11 (global_step 1925) finished, time:5.45 seconds.\n",
      "WARNING:tensorflow:From D:\\Users\\glede\\anaconda3\\envs\\py37\\lib\\site-packages\\tensorflow_core\\python\\training\\saver.py:963: remove_checkpoint (from tensorflow.python.training.checkpoint_management) is deprecated and will be removed in a future version.\n",
      "Instructions for updating:\n",
      "Use standard file APIs to delete files with this prefix.\n",
      "\u001b[32m[1012 14:04:16 @saver.py:79]\u001b[0m Model saved to ../output/Chicago/DATGAN_tmp2/model\\model-1925.\n",
      "\u001b[32m[1012 14:04:16 @monitor.py:467]\u001b[0m GAN_loss/discrim/accuracy_fake: 0.894\n",
      "\u001b[32m[1012 14:04:16 @monitor.py:467]\u001b[0m GAN_loss/discrim/accuracy_real: 0.148\n",
      "\u001b[32m[1012 14:04:16 @monitor.py:467]\u001b[0m GAN_loss/discrim/loss: 0.65412\n",
      "\u001b[32m[1012 14:04:16 @monitor.py:467]\u001b[0m GAN_loss/gen/final-g-loss: 1.0292\n",
      "\u001b[32m[1012 14:04:16 @monitor.py:467]\u001b[0m GAN_loss/gen/klloss: 0.065221\n",
      "\u001b[32m[1012 14:04:16 @monitor.py:467]\u001b[0m GAN_loss/gen/loss: 0.96399\n",
      "\u001b[32m[1012 14:04:16 @monitor.py:467]\u001b[0m QueueInput/queue_size: 50\n",
      "\u001b[32m[1012 14:04:16 @base.py:275]\u001b[0m Start Epoch 12 ...\n"
     ]
    },
    {
     "name": "stderr",
     "output_type": "stream",
     "text": [
      "\n",
      "100%|################################################################################|175/175[00:05<00:00,32.15it/s]"
     ]
    },
    {
     "name": "stdout",
     "output_type": "stream",
     "text": [
      "\u001b[32m[1012 14:04:22 @base.py:285]\u001b[0m Epoch 12 (global_step 2100) finished, time:5.44 seconds.\n",
      "\u001b[32m[1012 14:04:22 @saver.py:79]\u001b[0m Model saved to ../output/Chicago/DATGAN_tmp2/model\\model-2100.\n",
      "\u001b[32m[1012 14:04:22 @monitor.py:467]\u001b[0m GAN_loss/discrim/accuracy_fake: 0.948\n",
      "\u001b[32m[1012 14:04:22 @monitor.py:467]\u001b[0m GAN_loss/discrim/accuracy_real: 0.14\n",
      "\u001b[32m[1012 14:04:22 @monitor.py:467]\u001b[0m GAN_loss/discrim/loss: 0.64936\n",
      "\u001b[32m[1012 14:04:22 @monitor.py:467]\u001b[0m GAN_loss/gen/final-g-loss: 1.043\n",
      "\u001b[32m[1012 14:04:22 @monitor.py:467]\u001b[0m GAN_loss/gen/klloss: 0.067627\n",
      "\u001b[32m[1012 14:04:22 @monitor.py:467]\u001b[0m GAN_loss/gen/loss: 0.97532\n",
      "\u001b[32m[1012 14:04:22 @monitor.py:467]\u001b[0m QueueInput/queue_size: 50\n",
      "\u001b[32m[1012 14:04:22 @base.py:275]\u001b[0m Start Epoch 13 ...\n"
     ]
    },
    {
     "name": "stderr",
     "output_type": "stream",
     "text": [
      "\n",
      "100%|################################################################################|175/175[00:05<00:00,32.12it/s]"
     ]
    },
    {
     "name": "stdout",
     "output_type": "stream",
     "text": [
      "\u001b[32m[1012 14:04:27 @base.py:285]\u001b[0m Epoch 13 (global_step 2275) finished, time:5.45 seconds.\n",
      "\u001b[32m[1012 14:04:27 @saver.py:79]\u001b[0m Model saved to ../output/Chicago/DATGAN_tmp2/model\\model-2275.\n",
      "\u001b[32m[1012 14:04:28 @monitor.py:467]\u001b[0m GAN_loss/discrim/accuracy_fake: 0.92\n",
      "\u001b[32m[1012 14:04:28 @monitor.py:467]\u001b[0m GAN_loss/discrim/accuracy_real: 0.13\n",
      "\u001b[32m[1012 14:04:28 @monitor.py:467]\u001b[0m GAN_loss/discrim/loss: 0.64878\n",
      "\u001b[32m[1012 14:04:28 @monitor.py:467]\u001b[0m GAN_loss/gen/final-g-loss: 1.067\n",
      "\u001b[32m[1012 14:04:28 @monitor.py:467]\u001b[0m GAN_loss/gen/klloss: 0.09958\n",
      "\u001b[32m[1012 14:04:28 @monitor.py:467]\u001b[0m GAN_loss/gen/loss: 0.96746\n",
      "\u001b[32m[1012 14:04:28 @monitor.py:467]\u001b[0m QueueInput/queue_size: 50\n",
      "\u001b[32m[1012 14:04:28 @base.py:275]\u001b[0m Start Epoch 14 ...\n"
     ]
    },
    {
     "name": "stderr",
     "output_type": "stream",
     "text": [
      "\n",
      "100%|################################################################################|175/175[00:05<00:00,32.13it/s]"
     ]
    },
    {
     "name": "stdout",
     "output_type": "stream",
     "text": [
      "\u001b[32m[1012 14:04:33 @base.py:285]\u001b[0m Epoch 14 (global_step 2450) finished, time:5.45 seconds.\n"
     ]
    },
    {
     "name": "stderr",
     "output_type": "stream",
     "text": [
      "\n"
     ]
    },
    {
     "name": "stdout",
     "output_type": "stream",
     "text": [
      "\u001b[32m[1012 14:04:33 @saver.py:79]\u001b[0m Model saved to ../output/Chicago/DATGAN_tmp2/model\\model-2450.\n",
      "\u001b[32m[1012 14:04:33 @monitor.py:467]\u001b[0m GAN_loss/discrim/accuracy_fake: 0.926\n",
      "\u001b[32m[1012 14:04:33 @monitor.py:467]\u001b[0m GAN_loss/discrim/accuracy_real: 0.152\n",
      "\u001b[32m[1012 14:04:33 @monitor.py:467]\u001b[0m GAN_loss/discrim/loss: 0.64021\n",
      "\u001b[32m[1012 14:04:33 @monitor.py:467]\u001b[0m GAN_loss/gen/final-g-loss: 1.0135\n",
      "\u001b[32m[1012 14:04:33 @monitor.py:467]\u001b[0m GAN_loss/gen/klloss: 0.060827\n",
      "\u001b[32m[1012 14:04:33 @monitor.py:467]\u001b[0m GAN_loss/gen/loss: 0.95264\n",
      "\u001b[32m[1012 14:04:33 @monitor.py:467]\u001b[0m QueueInput/queue_size: 50\n",
      "\u001b[32m[1012 14:04:33 @base.py:275]\u001b[0m Start Epoch 15 ...\n"
     ]
    },
    {
     "name": "stderr",
     "output_type": "stream",
     "text": [
      "100%|################################################################################|175/175[00:05<00:00,32.09it/s]"
     ]
    },
    {
     "name": "stdout",
     "output_type": "stream",
     "text": [
      "\u001b[32m[1012 14:04:39 @base.py:285]\u001b[0m Epoch 15 (global_step 2625) finished, time:5.45 seconds.\n",
      "\u001b[32m[1012 14:04:39 @saver.py:79]\u001b[0m Model saved to ../output/Chicago/DATGAN_tmp2/model\\model-2625.\n",
      "\u001b[32m[1012 14:04:39 @monitor.py:467]\u001b[0m GAN_loss/discrim/accuracy_fake: 0.942\n",
      "\u001b[32m[1012 14:04:39 @monitor.py:467]\u001b[0m GAN_loss/discrim/accuracy_real: 0.116\n",
      "\u001b[32m[1012 14:04:39 @monitor.py:467]\u001b[0m GAN_loss/discrim/loss: 0.6372\n",
      "\u001b[32m[1012 14:04:39 @monitor.py:467]\u001b[0m GAN_loss/gen/final-g-loss: 1.0243\n",
      "\u001b[32m[1012 14:04:39 @monitor.py:467]\u001b[0m GAN_loss/gen/klloss: 0.063471\n",
      "\u001b[32m[1012 14:04:39 @monitor.py:467]\u001b[0m GAN_loss/gen/loss: 0.96085\n",
      "\u001b[32m[1012 14:04:39 @monitor.py:467]\u001b[0m QueueInput/queue_size: 50\n",
      "\u001b[32m[1012 14:04:39 @base.py:275]\u001b[0m Start Epoch 16 ...\n"
     ]
    },
    {
     "name": "stderr",
     "output_type": "stream",
     "text": [
      "\n",
      "100%|################################################################################|175/175[00:05<00:00,32.14it/s]"
     ]
    },
    {
     "name": "stdout",
     "output_type": "stream",
     "text": [
      "\u001b[32m[1012 14:04:44 @base.py:285]\u001b[0m Epoch 16 (global_step 2800) finished, time:5.45 seconds.\n",
      "\u001b[32m[1012 14:04:44 @saver.py:79]\u001b[0m Model saved to ../output/Chicago/DATGAN_tmp2/model\\model-2800.\n",
      "\u001b[32m[1012 14:04:44 @monitor.py:467]\u001b[0m GAN_loss/discrim/accuracy_fake: 0.928\n",
      "\u001b[32m[1012 14:04:44 @monitor.py:467]\u001b[0m GAN_loss/discrim/accuracy_real: 0.14\n",
      "\u001b[32m[1012 14:04:44 @monitor.py:467]\u001b[0m GAN_loss/discrim/loss: 0.64105\n",
      "\u001b[32m[1012 14:04:44 @monitor.py:467]\u001b[0m GAN_loss/gen/final-g-loss: 1.0212\n",
      "\u001b[32m[1012 14:04:44 @monitor.py:467]\u001b[0m GAN_loss/gen/klloss: 0.066531\n",
      "\u001b[32m[1012 14:04:44 @monitor.py:467]\u001b[0m GAN_loss/gen/loss: 0.9547\n",
      "\u001b[32m[1012 14:04:44 @monitor.py:467]\u001b[0m QueueInput/queue_size: 50\n",
      "\u001b[32m[1012 14:04:44 @base.py:275]\u001b[0m Start Epoch 17 ...\n"
     ]
    },
    {
     "name": "stderr",
     "output_type": "stream",
     "text": [
      "\n",
      "100%|################################################################################|175/175[00:05<00:00,32.10it/s]"
     ]
    },
    {
     "name": "stdout",
     "output_type": "stream",
     "text": [
      "\u001b[32m[1012 14:04:50 @base.py:285]\u001b[0m Epoch 17 (global_step 2975) finished, time:5.45 seconds.\n",
      "\u001b[32m[1012 14:04:50 @saver.py:79]\u001b[0m Model saved to ../output/Chicago/DATGAN_tmp2/model\\model-2975.\n",
      "\u001b[32m[1012 14:04:50 @monitor.py:467]\u001b[0m GAN_loss/discrim/accuracy_fake: 0.928\n",
      "\u001b[32m[1012 14:04:50 @monitor.py:467]\u001b[0m GAN_loss/discrim/accuracy_real: 0.134\n",
      "\u001b[32m[1012 14:04:50 @monitor.py:467]\u001b[0m GAN_loss/discrim/loss: 0.64689\n",
      "\u001b[32m[1012 14:04:50 @monitor.py:467]\u001b[0m GAN_loss/gen/final-g-loss: 1.0148\n",
      "\u001b[32m[1012 14:04:50 @monitor.py:467]\u001b[0m GAN_loss/gen/klloss: 0.067445\n",
      "\u001b[32m[1012 14:04:50 @monitor.py:467]\u001b[0m GAN_loss/gen/loss: 0.94737\n",
      "\u001b[32m[1012 14:04:50 @monitor.py:467]\u001b[0m QueueInput/queue_size: 50\n",
      "\u001b[32m[1012 14:04:50 @base.py:275]\u001b[0m Start Epoch 18 ...\n"
     ]
    },
    {
     "name": "stderr",
     "output_type": "stream",
     "text": [
      "\n",
      "100%|################################################################################|175/175[00:05<00:00,32.15it/s]"
     ]
    },
    {
     "name": "stdout",
     "output_type": "stream",
     "text": [
      "\u001b[32m[1012 14:04:55 @base.py:285]\u001b[0m Epoch 18 (global_step 3150) finished, time:5.44 seconds.\n",
      "\u001b[32m[1012 14:04:55 @saver.py:79]\u001b[0m Model saved to ../output/Chicago/DATGAN_tmp2/model\\model-3150.\n",
      "\u001b[32m[1012 14:04:55 @monitor.py:467]\u001b[0m GAN_loss/discrim/accuracy_fake: 0.922\n",
      "\u001b[32m[1012 14:04:55 @monitor.py:467]\u001b[0m GAN_loss/discrim/accuracy_real: 0.11\n",
      "\u001b[32m[1012 14:04:55 @monitor.py:467]\u001b[0m GAN_loss/discrim/loss: 0.64778\n",
      "\u001b[32m[1012 14:04:55 @monitor.py:467]\u001b[0m GAN_loss/gen/final-g-loss: 1.017\n",
      "\u001b[32m[1012 14:04:55 @monitor.py:467]\u001b[0m GAN_loss/gen/klloss: 0.056444\n",
      "\u001b[32m[1012 14:04:55 @monitor.py:467]\u001b[0m GAN_loss/gen/loss: 0.96059\n",
      "\u001b[32m[1012 14:04:55 @monitor.py:467]\u001b[0m QueueInput/queue_size: 50\n",
      "\u001b[32m[1012 14:04:55 @base.py:275]\u001b[0m Start Epoch 19 ...\n"
     ]
    },
    {
     "name": "stderr",
     "output_type": "stream",
     "text": [
      "\n",
      "100%|################################################################################|175/175[00:05<00:00,32.12it/s]"
     ]
    },
    {
     "name": "stdout",
     "output_type": "stream",
     "text": [
      "\u001b[32m[1012 14:05:01 @base.py:285]\u001b[0m Epoch 19 (global_step 3325) finished, time:5.45 seconds.\n",
      "\u001b[32m[1012 14:05:01 @saver.py:79]\u001b[0m Model saved to ../output/Chicago/DATGAN_tmp2/model\\model-3325.\n",
      "\u001b[32m[1012 14:05:01 @monitor.py:467]\u001b[0m GAN_loss/discrim/accuracy_fake: 0.948\n",
      "\u001b[32m[1012 14:05:01 @monitor.py:467]\u001b[0m GAN_loss/discrim/accuracy_real: 0.102\n",
      "\u001b[32m[1012 14:05:01 @monitor.py:467]\u001b[0m GAN_loss/discrim/loss: 0.64801\n",
      "\u001b[32m[1012 14:05:01 @monitor.py:467]\u001b[0m GAN_loss/gen/final-g-loss: 1.0085\n",
      "\u001b[32m[1012 14:05:01 @monitor.py:467]\u001b[0m GAN_loss/gen/klloss: 0.053374\n",
      "\u001b[32m[1012 14:05:01 @monitor.py:467]\u001b[0m GAN_loss/gen/loss: 0.95518\n",
      "\u001b[32m[1012 14:05:01 @monitor.py:467]\u001b[0m QueueInput/queue_size: 50\n",
      "\u001b[32m[1012 14:05:01 @base.py:275]\u001b[0m Start Epoch 20 ...\n"
     ]
    },
    {
     "name": "stderr",
     "output_type": "stream",
     "text": [
      "\n",
      "100%|################################################################################|175/175[00:05<00:00,32.14it/s]"
     ]
    },
    {
     "name": "stdout",
     "output_type": "stream",
     "text": [
      "\u001b[32m[1012 14:05:06 @base.py:285]\u001b[0m Epoch 20 (global_step 3500) finished, time:5.45 seconds.\n",
      "\u001b[32m[1012 14:05:06 @saver.py:79]\u001b[0m Model saved to ../output/Chicago/DATGAN_tmp2/model\\model-3500.\n",
      "\u001b[32m[1012 14:05:06 @monitor.py:467]\u001b[0m GAN_loss/discrim/accuracy_fake: 0.942\n",
      "\u001b[32m[1012 14:05:06 @monitor.py:467]\u001b[0m GAN_loss/discrim/accuracy_real: 0.112\n",
      "\u001b[32m[1012 14:05:06 @monitor.py:467]\u001b[0m GAN_loss/discrim/loss: 0.64198\n",
      "\u001b[32m[1012 14:05:06 @monitor.py:467]\u001b[0m GAN_loss/gen/final-g-loss: 1.0307\n",
      "\u001b[32m[1012 14:05:06 @monitor.py:467]\u001b[0m GAN_loss/gen/klloss: 0.063991\n",
      "\u001b[32m[1012 14:05:06 @monitor.py:467]\u001b[0m GAN_loss/gen/loss: 0.96674\n",
      "\u001b[32m[1012 14:05:06 @monitor.py:467]\u001b[0m QueueInput/queue_size: 50\n",
      "\u001b[32m[1012 14:05:06 @base.py:275]\u001b[0m Start Epoch 21 ...\n"
     ]
    },
    {
     "name": "stderr",
     "output_type": "stream",
     "text": [
      "\n",
      "100%|################################################################################|175/175[00:05<00:00,32.06it/s]"
     ]
    },
    {
     "name": "stdout",
     "output_type": "stream",
     "text": [
      "\u001b[32m[1012 14:05:12 @base.py:285]\u001b[0m Epoch 21 (global_step 3675) finished, time:5.46 seconds.\n",
      "\u001b[32m[1012 14:05:12 @saver.py:79]\u001b[0m Model saved to ../output/Chicago/DATGAN_tmp2/model\\model-3675.\n",
      "\u001b[32m[1012 14:05:12 @monitor.py:467]\u001b[0m GAN_loss/discrim/accuracy_fake: 0.95\n",
      "\u001b[32m[1012 14:05:12 @monitor.py:467]\u001b[0m GAN_loss/discrim/accuracy_real: 0.136\n",
      "\u001b[32m[1012 14:05:12 @monitor.py:467]\u001b[0m GAN_loss/discrim/loss: 0.63804\n",
      "\u001b[32m[1012 14:05:12 @monitor.py:467]\u001b[0m GAN_loss/gen/final-g-loss: 1.0011\n",
      "\u001b[32m[1012 14:05:12 @monitor.py:467]\u001b[0m GAN_loss/gen/klloss: 0.051598\n",
      "\u001b[32m[1012 14:05:12 @monitor.py:467]\u001b[0m GAN_loss/gen/loss: 0.94952\n",
      "\u001b[32m[1012 14:05:12 @monitor.py:467]\u001b[0m QueueInput/queue_size: 50\n",
      "\u001b[32m[1012 14:05:12 @base.py:275]\u001b[0m Start Epoch 22 ...\n"
     ]
    },
    {
     "name": "stderr",
     "output_type": "stream",
     "text": [
      "\n",
      "100%|################################################################################|175/175[00:05<00:00,32.14it/s]"
     ]
    },
    {
     "name": "stdout",
     "output_type": "stream",
     "text": [
      "\u001b[32m[1012 14:05:17 @base.py:285]\u001b[0m Epoch 22 (global_step 3850) finished, time:5.44 seconds.\n",
      "\u001b[32m[1012 14:05:17 @saver.py:79]\u001b[0m Model saved to ../output/Chicago/DATGAN_tmp2/model\\model-3850.\n",
      "\u001b[32m[1012 14:05:17 @monitor.py:467]\u001b[0m GAN_loss/discrim/accuracy_fake: 0.944\n",
      "\u001b[32m[1012 14:05:17 @monitor.py:467]\u001b[0m GAN_loss/discrim/accuracy_real: 0.106\n",
      "\u001b[32m[1012 14:05:17 @monitor.py:467]\u001b[0m GAN_loss/discrim/loss: 0.64559\n",
      "\u001b[32m[1012 14:05:17 @monitor.py:467]\u001b[0m GAN_loss/gen/final-g-loss: 1.0094\n",
      "\u001b[32m[1012 14:05:17 @monitor.py:467]\u001b[0m GAN_loss/gen/klloss: 0.071293\n",
      "\u001b[32m[1012 14:05:17 @monitor.py:467]\u001b[0m GAN_loss/gen/loss: 0.93814\n",
      "\u001b[32m[1012 14:05:17 @monitor.py:467]\u001b[0m QueueInput/queue_size: 50\n",
      "\u001b[32m[1012 14:05:17 @base.py:275]\u001b[0m Start Epoch 23 ...\n"
     ]
    },
    {
     "name": "stderr",
     "output_type": "stream",
     "text": [
      "\n",
      "100%|################################################################################|175/175[00:05<00:00,32.12it/s]"
     ]
    },
    {
     "name": "stdout",
     "output_type": "stream",
     "text": [
      "\u001b[32m[1012 14:05:23 @base.py:285]\u001b[0m Epoch 23 (global_step 4025) finished, time:5.45 seconds.\n",
      "\u001b[32m[1012 14:05:23 @saver.py:79]\u001b[0m Model saved to ../output/Chicago/DATGAN_tmp2/model\\model-4025.\n",
      "\u001b[32m[1012 14:05:23 @monitor.py:467]\u001b[0m GAN_loss/discrim/accuracy_fake: 0.936\n",
      "\u001b[32m[1012 14:05:23 @monitor.py:467]\u001b[0m GAN_loss/discrim/accuracy_real: 0.104\n",
      "\u001b[32m[1012 14:05:23 @monitor.py:467]\u001b[0m GAN_loss/discrim/loss: 0.64966\n",
      "\u001b[32m[1012 14:05:23 @monitor.py:467]\u001b[0m GAN_loss/gen/final-g-loss: 0.99765\n",
      "\u001b[32m[1012 14:05:23 @monitor.py:467]\u001b[0m GAN_loss/gen/klloss: 0.058361\n",
      "\u001b[32m[1012 14:05:23 @monitor.py:467]\u001b[0m GAN_loss/gen/loss: 0.93929\n",
      "\u001b[32m[1012 14:05:23 @monitor.py:467]\u001b[0m QueueInput/queue_size: 50\n",
      "\u001b[32m[1012 14:05:23 @base.py:275]\u001b[0m Start Epoch 24 ...\n"
     ]
    },
    {
     "name": "stderr",
     "output_type": "stream",
     "text": [
      "\n",
      "100%|################################################################################|175/175[00:05<00:00,32.13it/s]"
     ]
    },
    {
     "name": "stdout",
     "output_type": "stream",
     "text": [
      "\u001b[32m[1012 14:05:28 @base.py:285]\u001b[0m Epoch 24 (global_step 4200) finished, time:5.45 seconds.\n",
      "\u001b[32m[1012 14:05:28 @saver.py:79]\u001b[0m Model saved to ../output/Chicago/DATGAN_tmp2/model\\model-4200.\n",
      "\u001b[32m[1012 14:05:28 @monitor.py:467]\u001b[0m GAN_loss/discrim/accuracy_fake: 0.948\n",
      "\u001b[32m[1012 14:05:28 @monitor.py:467]\u001b[0m GAN_loss/discrim/accuracy_real: 0.13\n",
      "\u001b[32m[1012 14:05:28 @monitor.py:467]\u001b[0m GAN_loss/discrim/loss: 0.64259\n",
      "\u001b[32m[1012 14:05:28 @monitor.py:467]\u001b[0m GAN_loss/gen/final-g-loss: 1.0028\n",
      "\u001b[32m[1012 14:05:28 @monitor.py:467]\u001b[0m GAN_loss/gen/klloss: 0.04808\n",
      "\u001b[32m[1012 14:05:28 @monitor.py:467]\u001b[0m GAN_loss/gen/loss: 0.95469\n",
      "\u001b[32m[1012 14:05:28 @monitor.py:467]\u001b[0m QueueInput/queue_size: 50\n",
      "\u001b[32m[1012 14:05:28 @base.py:275]\u001b[0m Start Epoch 25 ...\n"
     ]
    },
    {
     "name": "stderr",
     "output_type": "stream",
     "text": [
      "\n",
      "100%|################################################################################|175/175[00:05<00:00,31.98it/s]"
     ]
    },
    {
     "name": "stdout",
     "output_type": "stream",
     "text": [
      "\u001b[32m[1012 14:05:34 @base.py:285]\u001b[0m Epoch 25 (global_step 4375) finished, time:5.47 seconds.\n",
      "\u001b[32m[1012 14:05:34 @saver.py:79]\u001b[0m Model saved to ../output/Chicago/DATGAN_tmp2/model\\model-4375.\n",
      "\u001b[32m[1012 14:05:34 @monitor.py:467]\u001b[0m GAN_loss/discrim/accuracy_fake: 0.948\n",
      "\u001b[32m[1012 14:05:34 @monitor.py:467]\u001b[0m GAN_loss/discrim/accuracy_real: 0.116\n",
      "\u001b[32m[1012 14:05:34 @monitor.py:467]\u001b[0m GAN_loss/discrim/loss: 0.64769\n",
      "\u001b[32m[1012 14:05:34 @monitor.py:467]\u001b[0m GAN_loss/gen/final-g-loss: 1.047\n",
      "\u001b[32m[1012 14:05:34 @monitor.py:467]\u001b[0m GAN_loss/gen/klloss: 0.094047\n",
      "\u001b[32m[1012 14:05:34 @monitor.py:467]\u001b[0m GAN_loss/gen/loss: 0.95298\n",
      "\u001b[32m[1012 14:05:34 @monitor.py:467]\u001b[0m QueueInput/queue_size: 50\n",
      "\u001b[32m[1012 14:05:34 @base.py:275]\u001b[0m Start Epoch 26 ...\n"
     ]
    },
    {
     "name": "stderr",
     "output_type": "stream",
     "text": [
      "\n",
      "100%|################################################################################|175/175[00:05<00:00,32.15it/s]"
     ]
    },
    {
     "name": "stdout",
     "output_type": "stream",
     "text": [
      "\u001b[32m[1012 14:05:39 @base.py:285]\u001b[0m Epoch 26 (global_step 4550) finished, time:5.44 seconds.\n",
      "\u001b[32m[1012 14:05:40 @saver.py:79]\u001b[0m Model saved to ../output/Chicago/DATGAN_tmp2/model\\model-4550.\n",
      "\u001b[32m[1012 14:05:40 @monitor.py:467]\u001b[0m GAN_loss/discrim/accuracy_fake: 0.94\n",
      "\u001b[32m[1012 14:05:40 @monitor.py:467]\u001b[0m GAN_loss/discrim/accuracy_real: 0.106\n",
      "\u001b[32m[1012 14:05:40 @monitor.py:467]\u001b[0m GAN_loss/discrim/loss: 0.64213\n",
      "\u001b[32m[1012 14:05:40 @monitor.py:467]\u001b[0m GAN_loss/gen/final-g-loss: 1.0147\n",
      "\u001b[32m[1012 14:05:40 @monitor.py:467]\u001b[0m GAN_loss/gen/klloss: 0.065174\n",
      "\u001b[32m[1012 14:05:40 @monitor.py:467]\u001b[0m GAN_loss/gen/loss: 0.94953\n",
      "\u001b[32m[1012 14:05:40 @monitor.py:467]\u001b[0m QueueInput/queue_size: 50\n",
      "\u001b[32m[1012 14:05:40 @base.py:275]\u001b[0m Start Epoch 27 ...\n"
     ]
    },
    {
     "name": "stderr",
     "output_type": "stream",
     "text": [
      "\n",
      "100%|################################################################################|175/175[00:05<00:00,32.12it/s]"
     ]
    },
    {
     "name": "stdout",
     "output_type": "stream",
     "text": [
      "\u001b[32m[1012 14:05:45 @base.py:285]\u001b[0m Epoch 27 (global_step 4725) finished, time:5.45 seconds.\n",
      "\u001b[32m[1012 14:05:45 @saver.py:79]\u001b[0m Model saved to ../output/Chicago/DATGAN_tmp2/model\\model-4725.\n",
      "\u001b[32m[1012 14:05:45 @monitor.py:467]\u001b[0m GAN_loss/discrim/accuracy_fake: 0.92\n",
      "\u001b[32m[1012 14:05:45 @monitor.py:467]\u001b[0m GAN_loss/discrim/accuracy_real: 0.136\n",
      "\u001b[32m[1012 14:05:45 @monitor.py:467]\u001b[0m GAN_loss/discrim/loss: 0.64483\n",
      "\u001b[32m[1012 14:05:45 @monitor.py:467]\u001b[0m GAN_loss/gen/final-g-loss: 0.99943\n",
      "\u001b[32m[1012 14:05:45 @monitor.py:467]\u001b[0m GAN_loss/gen/klloss: 0.060933\n",
      "\u001b[32m[1012 14:05:45 @monitor.py:467]\u001b[0m GAN_loss/gen/loss: 0.9385\n",
      "\u001b[32m[1012 14:05:45 @monitor.py:467]\u001b[0m QueueInput/queue_size: 50\n",
      "\u001b[32m[1012 14:05:45 @base.py:275]\u001b[0m Start Epoch 28 ...\n"
     ]
    },
    {
     "name": "stderr",
     "output_type": "stream",
     "text": [
      "\n",
      "100%|################################################################################|175/175[00:05<00:00,32.14it/s]"
     ]
    },
    {
     "name": "stdout",
     "output_type": "stream",
     "text": [
      "\u001b[32m[1012 14:05:51 @base.py:285]\u001b[0m Epoch 28 (global_step 4900) finished, time:5.45 seconds.\n",
      "\u001b[32m[1012 14:05:51 @saver.py:79]\u001b[0m Model saved to ../output/Chicago/DATGAN_tmp2/model\\model-4900.\n",
      "\u001b[32m[1012 14:05:51 @monitor.py:467]\u001b[0m GAN_loss/discrim/accuracy_fake: 0.928\n",
      "\u001b[32m[1012 14:05:51 @monitor.py:467]\u001b[0m GAN_loss/discrim/accuracy_real: 0.116\n",
      "\u001b[32m[1012 14:05:51 @monitor.py:467]\u001b[0m GAN_loss/discrim/loss: 0.64818\n",
      "\u001b[32m[1012 14:05:51 @monitor.py:467]\u001b[0m GAN_loss/gen/final-g-loss: 1.0033\n",
      "\u001b[32m[1012 14:05:51 @monitor.py:467]\u001b[0m GAN_loss/gen/klloss: 0.064634\n",
      "\u001b[32m[1012 14:05:51 @monitor.py:467]\u001b[0m GAN_loss/gen/loss: 0.93869\n",
      "\u001b[32m[1012 14:05:51 @monitor.py:467]\u001b[0m QueueInput/queue_size: 50\n",
      "\u001b[32m[1012 14:05:51 @base.py:275]\u001b[0m Start Epoch 29 ...\n"
     ]
    },
    {
     "name": "stderr",
     "output_type": "stream",
     "text": [
      "\n",
      "100%|################################################################################|175/175[00:05<00:00,32.13it/s]"
     ]
    },
    {
     "name": "stdout",
     "output_type": "stream",
     "text": [
      "\u001b[32m[1012 14:05:56 @base.py:285]\u001b[0m Epoch 29 (global_step 5075) finished, time:5.45 seconds.\n",
      "\u001b[32m[1012 14:05:56 @saver.py:79]\u001b[0m Model saved to ../output/Chicago/DATGAN_tmp2/model\\model-5075.\n",
      "\u001b[32m[1012 14:05:56 @monitor.py:467]\u001b[0m GAN_loss/discrim/accuracy_fake: 0.936\n",
      "\u001b[32m[1012 14:05:56 @monitor.py:467]\u001b[0m GAN_loss/discrim/accuracy_real: 0.1\n",
      "\u001b[32m[1012 14:05:56 @monitor.py:467]\u001b[0m GAN_loss/discrim/loss: 0.64712\n",
      "\u001b[32m[1012 14:05:56 @monitor.py:467]\u001b[0m GAN_loss/gen/final-g-loss: 1.034\n",
      "\u001b[32m[1012 14:05:56 @monitor.py:467]\u001b[0m GAN_loss/gen/klloss: 0.082262\n",
      "\u001b[32m[1012 14:05:56 @monitor.py:467]\u001b[0m GAN_loss/gen/loss: 0.95171\n",
      "\u001b[32m[1012 14:05:56 @monitor.py:467]\u001b[0m QueueInput/queue_size: 50\n",
      "\u001b[32m[1012 14:05:56 @base.py:275]\u001b[0m Start Epoch 30 ...\n"
     ]
    },
    {
     "name": "stderr",
     "output_type": "stream",
     "text": [
      "\n",
      "100%|################################################################################|175/175[00:05<00:00,32.15it/s]"
     ]
    },
    {
     "name": "stdout",
     "output_type": "stream",
     "text": [
      "\u001b[32m[1012 14:06:02 @base.py:285]\u001b[0m Epoch 30 (global_step 5250) finished, time:5.44 seconds.\n"
     ]
    },
    {
     "name": "stderr",
     "output_type": "stream",
     "text": [
      "\n"
     ]
    },
    {
     "name": "stdout",
     "output_type": "stream",
     "text": [
      "\u001b[32m[1012 14:06:02 @saver.py:79]\u001b[0m Model saved to ../output/Chicago/DATGAN_tmp2/model\\model-5250.\n",
      "\u001b[32m[1012 14:06:02 @monitor.py:467]\u001b[0m GAN_loss/discrim/accuracy_fake: 0.938\n",
      "\u001b[32m[1012 14:06:02 @monitor.py:467]\u001b[0m GAN_loss/discrim/accuracy_real: 0.122\n",
      "\u001b[32m[1012 14:06:02 @monitor.py:467]\u001b[0m GAN_loss/discrim/loss: 0.64446\n",
      "\u001b[32m[1012 14:06:02 @monitor.py:467]\u001b[0m GAN_loss/gen/final-g-loss: 1.0596\n",
      "\u001b[32m[1012 14:06:02 @monitor.py:467]\u001b[0m GAN_loss/gen/klloss: 0.11484\n",
      "\u001b[32m[1012 14:06:02 @monitor.py:467]\u001b[0m GAN_loss/gen/loss: 0.94475\n",
      "\u001b[32m[1012 14:06:02 @monitor.py:467]\u001b[0m QueueInput/queue_size: 50\n",
      "\u001b[32m[1012 14:06:02 @base.py:275]\u001b[0m Start Epoch 31 ...\n"
     ]
    },
    {
     "name": "stderr",
     "output_type": "stream",
     "text": [
      "100%|################################################################################|175/175[00:05<00:00,32.11it/s]"
     ]
    },
    {
     "name": "stdout",
     "output_type": "stream",
     "text": [
      "\u001b[32m[1012 14:06:07 @base.py:285]\u001b[0m Epoch 31 (global_step 5425) finished, time:5.45 seconds.\n",
      "\u001b[32m[1012 14:06:07 @saver.py:79]\u001b[0m Model saved to ../output/Chicago/DATGAN_tmp2/model\\model-5425.\n",
      "\u001b[32m[1012 14:06:07 @monitor.py:467]\u001b[0m GAN_loss/discrim/accuracy_fake: 0.932\n",
      "\u001b[32m[1012 14:06:07 @monitor.py:467]\u001b[0m GAN_loss/discrim/accuracy_real: 0.114\n",
      "\u001b[32m[1012 14:06:07 @monitor.py:467]\u001b[0m GAN_loss/discrim/loss: 0.64335\n",
      "\u001b[32m[1012 14:06:07 @monitor.py:467]\u001b[0m GAN_loss/gen/final-g-loss: 1.0093\n",
      "\u001b[32m[1012 14:06:07 @monitor.py:467]\u001b[0m GAN_loss/gen/klloss: 0.066276\n",
      "\u001b[32m[1012 14:06:07 @monitor.py:467]\u001b[0m GAN_loss/gen/loss: 0.943\n",
      "\u001b[32m[1012 14:06:07 @monitor.py:467]\u001b[0m QueueInput/queue_size: 50\n",
      "\u001b[32m[1012 14:06:07 @base.py:275]\u001b[0m Start Epoch 32 ...\n"
     ]
    },
    {
     "name": "stderr",
     "output_type": "stream",
     "text": [
      "\n",
      "100%|################################################################################|175/175[00:05<00:00,32.15it/s]"
     ]
    },
    {
     "name": "stdout",
     "output_type": "stream",
     "text": [
      "\u001b[32m[1012 14:06:13 @base.py:285]\u001b[0m Epoch 32 (global_step 5600) finished, time:5.44 seconds.\n",
      "\u001b[32m[1012 14:06:13 @saver.py:79]\u001b[0m Model saved to ../output/Chicago/DATGAN_tmp2/model\\model-5600.\n",
      "\u001b[32m[1012 14:06:13 @monitor.py:467]\u001b[0m GAN_loss/discrim/accuracy_fake: 0.922\n",
      "\u001b[32m[1012 14:06:13 @monitor.py:467]\u001b[0m GAN_loss/discrim/accuracy_real: 0.124\n",
      "\u001b[32m[1012 14:06:13 @monitor.py:467]\u001b[0m GAN_loss/discrim/loss: 0.64337\n",
      "\u001b[32m[1012 14:06:13 @monitor.py:467]\u001b[0m GAN_loss/gen/final-g-loss: 1.0038\n",
      "\u001b[32m[1012 14:06:13 @monitor.py:467]\u001b[0m GAN_loss/gen/klloss: 0.061802\n",
      "\u001b[32m[1012 14:06:13 @monitor.py:467]\u001b[0m GAN_loss/gen/loss: 0.94199\n",
      "\u001b[32m[1012 14:06:13 @monitor.py:467]\u001b[0m QueueInput/queue_size: 50\n",
      "\u001b[32m[1012 14:06:13 @base.py:275]\u001b[0m Start Epoch 33 ...\n"
     ]
    },
    {
     "name": "stderr",
     "output_type": "stream",
     "text": [
      "\n",
      "100%|################################################################################|175/175[00:05<00:00,32.10it/s]"
     ]
    },
    {
     "name": "stdout",
     "output_type": "stream",
     "text": [
      "\u001b[32m[1012 14:06:18 @base.py:285]\u001b[0m Epoch 33 (global_step 5775) finished, time:5.45 seconds.\n",
      "\u001b[32m[1012 14:06:18 @saver.py:79]\u001b[0m Model saved to ../output/Chicago/DATGAN_tmp2/model\\model-5775.\n",
      "\u001b[32m[1012 14:06:18 @monitor.py:467]\u001b[0m GAN_loss/discrim/accuracy_fake: 0.944\n",
      "\u001b[32m[1012 14:06:18 @monitor.py:467]\u001b[0m GAN_loss/discrim/accuracy_real: 0.122\n",
      "\u001b[32m[1012 14:06:18 @monitor.py:467]\u001b[0m GAN_loss/discrim/loss: 0.65201\n",
      "\u001b[32m[1012 14:06:18 @monitor.py:467]\u001b[0m GAN_loss/gen/final-g-loss: 1.0085\n",
      "\u001b[32m[1012 14:06:18 @monitor.py:467]\u001b[0m GAN_loss/gen/klloss: 0.066611\n",
      "\u001b[32m[1012 14:06:18 @monitor.py:467]\u001b[0m GAN_loss/gen/loss: 0.94188\n",
      "\u001b[32m[1012 14:06:18 @monitor.py:467]\u001b[0m QueueInput/queue_size: 50\n",
      "\u001b[32m[1012 14:06:18 @base.py:275]\u001b[0m Start Epoch 34 ...\n"
     ]
    },
    {
     "name": "stderr",
     "output_type": "stream",
     "text": [
      "\n",
      "100%|################################################################################|175/175[00:05<00:00,32.16it/s]"
     ]
    },
    {
     "name": "stdout",
     "output_type": "stream",
     "text": [
      "\u001b[32m[1012 14:06:24 @base.py:285]\u001b[0m Epoch 34 (global_step 5950) finished, time:5.44 seconds.\n"
     ]
    },
    {
     "name": "stderr",
     "output_type": "stream",
     "text": [
      "\n"
     ]
    },
    {
     "name": "stdout",
     "output_type": "stream",
     "text": [
      "\u001b[32m[1012 14:06:24 @saver.py:79]\u001b[0m Model saved to ../output/Chicago/DATGAN_tmp2/model\\model-5950.\n",
      "\u001b[32m[1012 14:06:24 @monitor.py:467]\u001b[0m GAN_loss/discrim/accuracy_fake: 0.936\n",
      "\u001b[32m[1012 14:06:24 @monitor.py:467]\u001b[0m GAN_loss/discrim/accuracy_real: 0.09\n",
      "\u001b[32m[1012 14:06:24 @monitor.py:467]\u001b[0m GAN_loss/discrim/loss: 0.65\n",
      "\u001b[32m[1012 14:06:24 @monitor.py:467]\u001b[0m GAN_loss/gen/final-g-loss: 1.0295\n",
      "\u001b[32m[1012 14:06:24 @monitor.py:467]\u001b[0m GAN_loss/gen/klloss: 0.079493\n",
      "\u001b[32m[1012 14:06:24 @monitor.py:467]\u001b[0m GAN_loss/gen/loss: 0.95001\n",
      "\u001b[32m[1012 14:06:24 @monitor.py:467]\u001b[0m QueueInput/queue_size: 50\n",
      "\u001b[32m[1012 14:06:24 @base.py:275]\u001b[0m Start Epoch 35 ...\n"
     ]
    },
    {
     "name": "stderr",
     "output_type": "stream",
     "text": [
      "100%|################################################################################|175/175[00:05<00:00,32.11it/s]"
     ]
    },
    {
     "name": "stdout",
     "output_type": "stream",
     "text": [
      "\u001b[32m[1012 14:06:29 @base.py:285]\u001b[0m Epoch 35 (global_step 6125) finished, time:5.45 seconds.\n",
      "\u001b[32m[1012 14:06:29 @saver.py:79]\u001b[0m Model saved to ../output/Chicago/DATGAN_tmp2/model\\model-6125.\n",
      "\u001b[32m[1012 14:06:29 @monitor.py:467]\u001b[0m GAN_loss/discrim/accuracy_fake: 0.938\n",
      "\u001b[32m[1012 14:06:29 @monitor.py:467]\u001b[0m GAN_loss/discrim/accuracy_real: 0.108\n",
      "\u001b[32m[1012 14:06:29 @monitor.py:467]\u001b[0m GAN_loss/discrim/loss: 0.65297\n",
      "\u001b[32m[1012 14:06:29 @monitor.py:467]\u001b[0m GAN_loss/gen/final-g-loss: 0.99158\n",
      "\u001b[32m[1012 14:06:29 @monitor.py:467]\u001b[0m GAN_loss/gen/klloss: 0.063935\n",
      "\u001b[32m[1012 14:06:29 @monitor.py:467]\u001b[0m GAN_loss/gen/loss: 0.92764\n",
      "\u001b[32m[1012 14:06:29 @monitor.py:467]\u001b[0m QueueInput/queue_size: 50\n",
      "\u001b[32m[1012 14:06:29 @base.py:275]\u001b[0m Start Epoch 36 ...\n"
     ]
    },
    {
     "name": "stderr",
     "output_type": "stream",
     "text": [
      "\n",
      "100%|################################################################################|175/175[00:05<00:00,32.15it/s]"
     ]
    },
    {
     "name": "stdout",
     "output_type": "stream",
     "text": [
      "\u001b[32m[1012 14:06:35 @base.py:285]\u001b[0m Epoch 36 (global_step 6300) finished, time:5.44 seconds.\n",
      "\u001b[32m[1012 14:06:35 @saver.py:79]\u001b[0m Model saved to ../output/Chicago/DATGAN_tmp2/model\\model-6300.\n",
      "\u001b[32m[1012 14:06:35 @monitor.py:467]\u001b[0m GAN_loss/discrim/accuracy_fake: 0.926\n",
      "\u001b[32m[1012 14:06:35 @monitor.py:467]\u001b[0m GAN_loss/discrim/accuracy_real: 0.104\n",
      "\u001b[32m[1012 14:06:35 @monitor.py:467]\u001b[0m GAN_loss/discrim/loss: 0.64394\n",
      "\u001b[32m[1012 14:06:35 @monitor.py:467]\u001b[0m GAN_loss/gen/final-g-loss: 1.0108\n",
      "\u001b[32m[1012 14:06:35 @monitor.py:467]\u001b[0m GAN_loss/gen/klloss: 0.06837\n",
      "\u001b[32m[1012 14:06:35 @monitor.py:467]\u001b[0m GAN_loss/gen/loss: 0.94246\n",
      "\u001b[32m[1012 14:06:35 @monitor.py:467]\u001b[0m QueueInput/queue_size: 50\n",
      "\u001b[32m[1012 14:06:35 @base.py:275]\u001b[0m Start Epoch 37 ...\n"
     ]
    },
    {
     "name": "stderr",
     "output_type": "stream",
     "text": [
      "\n",
      "100%|################################################################################|175/175[00:05<00:00,32.08it/s]"
     ]
    },
    {
     "name": "stdout",
     "output_type": "stream",
     "text": [
      "\u001b[32m[1012 14:06:40 @base.py:285]\u001b[0m Epoch 37 (global_step 6475) finished, time:5.46 seconds.\n",
      "\u001b[32m[1012 14:06:40 @saver.py:79]\u001b[0m Model saved to ../output/Chicago/DATGAN_tmp2/model\\model-6475.\n",
      "\u001b[32m[1012 14:06:41 @monitor.py:467]\u001b[0m GAN_loss/discrim/accuracy_fake: 0.934\n",
      "\u001b[32m[1012 14:06:41 @monitor.py:467]\u001b[0m GAN_loss/discrim/accuracy_real: 0.112\n",
      "\u001b[32m[1012 14:06:41 @monitor.py:467]\u001b[0m GAN_loss/discrim/loss: 0.6496\n",
      "\u001b[32m[1012 14:06:41 @monitor.py:467]\u001b[0m GAN_loss/gen/final-g-loss: 1.0505\n",
      "\u001b[32m[1012 14:06:41 @monitor.py:467]\u001b[0m GAN_loss/gen/klloss: 0.11856\n",
      "\u001b[32m[1012 14:06:41 @monitor.py:467]\u001b[0m GAN_loss/gen/loss: 0.93189\n",
      "\u001b[32m[1012 14:06:41 @monitor.py:467]\u001b[0m QueueInput/queue_size: 50\n",
      "\u001b[32m[1012 14:06:41 @base.py:275]\u001b[0m Start Epoch 38 ...\n"
     ]
    },
    {
     "name": "stderr",
     "output_type": "stream",
     "text": [
      "\n",
      "100%|################################################################################|175/175[00:05<00:00,32.15it/s]"
     ]
    },
    {
     "name": "stdout",
     "output_type": "stream",
     "text": [
      "\u001b[32m[1012 14:06:46 @base.py:285]\u001b[0m Epoch 38 (global_step 6650) finished, time:5.44 seconds.\n"
     ]
    },
    {
     "name": "stderr",
     "output_type": "stream",
     "text": [
      "\n"
     ]
    },
    {
     "name": "stdout",
     "output_type": "stream",
     "text": [
      "\u001b[32m[1012 14:06:46 @saver.py:79]\u001b[0m Model saved to ../output/Chicago/DATGAN_tmp2/model\\model-6650.\n",
      "\u001b[32m[1012 14:06:46 @monitor.py:467]\u001b[0m GAN_loss/discrim/accuracy_fake: 0.952\n",
      "\u001b[32m[1012 14:06:46 @monitor.py:467]\u001b[0m GAN_loss/discrim/accuracy_real: 0.092\n",
      "\u001b[32m[1012 14:06:46 @monitor.py:467]\u001b[0m GAN_loss/discrim/loss: 0.6465\n",
      "\u001b[32m[1012 14:06:46 @monitor.py:467]\u001b[0m GAN_loss/gen/final-g-loss: 1.0104\n",
      "\u001b[32m[1012 14:06:46 @monitor.py:467]\u001b[0m GAN_loss/gen/klloss: 0.059069\n",
      "\u001b[32m[1012 14:06:46 @monitor.py:467]\u001b[0m GAN_loss/gen/loss: 0.9513\n",
      "\u001b[32m[1012 14:06:46 @monitor.py:467]\u001b[0m QueueInput/queue_size: 50\n",
      "\u001b[32m[1012 14:06:46 @base.py:275]\u001b[0m Start Epoch 39 ...\n"
     ]
    },
    {
     "name": "stderr",
     "output_type": "stream",
     "text": [
      "100%|################################################################################|175/175[00:05<00:00,32.10it/s]"
     ]
    },
    {
     "name": "stdout",
     "output_type": "stream",
     "text": [
      "\u001b[32m[1012 14:06:52 @base.py:285]\u001b[0m Epoch 39 (global_step 6825) finished, time:5.45 seconds.\n",
      "\u001b[32m[1012 14:06:52 @saver.py:79]\u001b[0m Model saved to ../output/Chicago/DATGAN_tmp2/model\\model-6825.\n",
      "\u001b[32m[1012 14:06:52 @monitor.py:467]\u001b[0m GAN_loss/discrim/accuracy_fake: 0.898\n",
      "\u001b[32m[1012 14:06:52 @monitor.py:467]\u001b[0m GAN_loss/discrim/accuracy_real: 0.126\n",
      "\u001b[32m[1012 14:06:52 @monitor.py:467]\u001b[0m GAN_loss/discrim/loss: 0.64812\n",
      "\u001b[32m[1012 14:06:52 @monitor.py:467]\u001b[0m GAN_loss/gen/final-g-loss: 0.99839\n",
      "\u001b[32m[1012 14:06:52 @monitor.py:467]\u001b[0m GAN_loss/gen/klloss: 0.067677\n",
      "\u001b[32m[1012 14:06:52 @monitor.py:467]\u001b[0m GAN_loss/gen/loss: 0.93072\n",
      "\u001b[32m[1012 14:06:52 @monitor.py:467]\u001b[0m QueueInput/queue_size: 50\n",
      "\u001b[32m[1012 14:06:52 @base.py:275]\u001b[0m Start Epoch 40 ...\n"
     ]
    },
    {
     "name": "stderr",
     "output_type": "stream",
     "text": [
      "\n",
      "100%|################################################################################|175/175[00:05<00:00,32.11it/s]"
     ]
    },
    {
     "name": "stdout",
     "output_type": "stream",
     "text": [
      "\u001b[32m[1012 14:06:57 @base.py:285]\u001b[0m Epoch 40 (global_step 7000) finished, time:5.45 seconds.\n",
      "\u001b[32m[1012 14:06:57 @saver.py:79]\u001b[0m Model saved to ../output/Chicago/DATGAN_tmp2/model\\model-7000.\n",
      "\u001b[32m[1012 14:06:57 @monitor.py:467]\u001b[0m GAN_loss/discrim/accuracy_fake: 0.94\n",
      "\u001b[32m[1012 14:06:57 @monitor.py:467]\u001b[0m GAN_loss/discrim/accuracy_real: 0.108\n",
      "\u001b[32m[1012 14:06:57 @monitor.py:467]\u001b[0m GAN_loss/discrim/loss: 0.64228\n",
      "\u001b[32m[1012 14:06:57 @monitor.py:467]\u001b[0m GAN_loss/gen/final-g-loss: 1.0275\n",
      "\u001b[32m[1012 14:06:57 @monitor.py:467]\u001b[0m GAN_loss/gen/klloss: 0.076858\n",
      "\u001b[32m[1012 14:06:57 @monitor.py:467]\u001b[0m GAN_loss/gen/loss: 0.95063\n",
      "\u001b[32m[1012 14:06:57 @monitor.py:467]\u001b[0m QueueInput/queue_size: 50\n",
      "\u001b[32m[1012 14:06:57 @base.py:275]\u001b[0m Start Epoch 41 ...\n"
     ]
    },
    {
     "name": "stderr",
     "output_type": "stream",
     "text": [
      "\n",
      "100%|################################################################################|175/175[00:05<00:00,32.10it/s]"
     ]
    },
    {
     "name": "stdout",
     "output_type": "stream",
     "text": [
      "\u001b[32m[1012 14:07:03 @base.py:285]\u001b[0m Epoch 41 (global_step 7175) finished, time:5.45 seconds.\n",
      "\u001b[32m[1012 14:07:03 @saver.py:79]\u001b[0m Model saved to ../output/Chicago/DATGAN_tmp2/model\\model-7175.\n",
      "\u001b[32m[1012 14:07:03 @monitor.py:467]\u001b[0m GAN_loss/discrim/accuracy_fake: 0.948\n",
      "\u001b[32m[1012 14:07:03 @monitor.py:467]\u001b[0m GAN_loss/discrim/accuracy_real: 0.126\n",
      "\u001b[32m[1012 14:07:03 @monitor.py:467]\u001b[0m GAN_loss/discrim/loss: 0.63956\n",
      "\u001b[32m[1012 14:07:03 @monitor.py:467]\u001b[0m GAN_loss/gen/final-g-loss: 0.99546\n",
      "\u001b[32m[1012 14:07:03 @monitor.py:467]\u001b[0m GAN_loss/gen/klloss: 0.047473\n",
      "\u001b[32m[1012 14:07:03 @monitor.py:467]\u001b[0m GAN_loss/gen/loss: 0.94798\n",
      "\u001b[32m[1012 14:07:03 @monitor.py:467]\u001b[0m QueueInput/queue_size: 50\n",
      "\u001b[32m[1012 14:07:03 @base.py:275]\u001b[0m Start Epoch 42 ...\n"
     ]
    },
    {
     "name": "stderr",
     "output_type": "stream",
     "text": [
      "\n",
      "100%|################################################################################|175/175[00:05<00:00,32.13it/s]"
     ]
    },
    {
     "name": "stdout",
     "output_type": "stream",
     "text": [
      "\u001b[32m[1012 14:07:08 @base.py:285]\u001b[0m Epoch 42 (global_step 7350) finished, time:5.45 seconds.\n",
      "\u001b[32m[1012 14:07:08 @saver.py:79]\u001b[0m Model saved to ../output/Chicago/DATGAN_tmp2/model\\model-7350.\n",
      "\u001b[32m[1012 14:07:08 @monitor.py:467]\u001b[0m GAN_loss/discrim/accuracy_fake: 0.952\n",
      "\u001b[32m[1012 14:07:08 @monitor.py:467]\u001b[0m GAN_loss/discrim/accuracy_real: 0.096\n",
      "\u001b[32m[1012 14:07:08 @monitor.py:467]\u001b[0m GAN_loss/discrim/loss: 0.6451\n",
      "\u001b[32m[1012 14:07:08 @monitor.py:467]\u001b[0m GAN_loss/gen/final-g-loss: 1.0042\n",
      "\u001b[32m[1012 14:07:08 @monitor.py:467]\u001b[0m GAN_loss/gen/klloss: 0.051559\n",
      "\u001b[32m[1012 14:07:08 @monitor.py:467]\u001b[0m GAN_loss/gen/loss: 0.9526\n",
      "\u001b[32m[1012 14:07:08 @monitor.py:467]\u001b[0m QueueInput/queue_size: 50\n",
      "\u001b[32m[1012 14:07:08 @base.py:275]\u001b[0m Start Epoch 43 ...\n"
     ]
    },
    {
     "name": "stderr",
     "output_type": "stream",
     "text": [
      "\n",
      "100%|################################################################################|175/175[00:05<00:00,32.10it/s]"
     ]
    },
    {
     "name": "stdout",
     "output_type": "stream",
     "text": [
      "\u001b[32m[1012 14:07:14 @base.py:285]\u001b[0m Epoch 43 (global_step 7525) finished, time:5.45 seconds.\n",
      "\u001b[32m[1012 14:07:14 @saver.py:79]\u001b[0m Model saved to ../output/Chicago/DATGAN_tmp2/model\\model-7525.\n",
      "\u001b[32m[1012 14:07:14 @monitor.py:467]\u001b[0m GAN_loss/discrim/accuracy_fake: 0.946\n",
      "\u001b[32m[1012 14:07:14 @monitor.py:467]\u001b[0m GAN_loss/discrim/accuracy_real: 0.128\n",
      "\u001b[32m[1012 14:07:14 @monitor.py:467]\u001b[0m GAN_loss/discrim/loss: 0.63905\n",
      "\u001b[32m[1012 14:07:14 @monitor.py:467]\u001b[0m GAN_loss/gen/final-g-loss: 0.99574\n",
      "\u001b[32m[1012 14:07:14 @monitor.py:467]\u001b[0m GAN_loss/gen/klloss: 0.048225\n",
      "\u001b[32m[1012 14:07:14 @monitor.py:467]\u001b[0m GAN_loss/gen/loss: 0.94751\n",
      "\u001b[32m[1012 14:07:14 @monitor.py:467]\u001b[0m QueueInput/queue_size: 50\n",
      "\u001b[32m[1012 14:07:14 @base.py:275]\u001b[0m Start Epoch 44 ...\n"
     ]
    },
    {
     "name": "stderr",
     "output_type": "stream",
     "text": [
      "\n",
      "100%|################################################################################|175/175[00:05<00:00,32.13it/s]"
     ]
    },
    {
     "name": "stdout",
     "output_type": "stream",
     "text": [
      "\u001b[32m[1012 14:07:19 @base.py:285]\u001b[0m Epoch 44 (global_step 7700) finished, time:5.45 seconds.\n",
      "\u001b[32m[1012 14:07:19 @saver.py:79]\u001b[0m Model saved to ../output/Chicago/DATGAN_tmp2/model\\model-7700.\n",
      "\u001b[32m[1012 14:07:19 @monitor.py:467]\u001b[0m GAN_loss/discrim/accuracy_fake: 0.912\n",
      "\u001b[32m[1012 14:07:19 @monitor.py:467]\u001b[0m GAN_loss/discrim/accuracy_real: 0.13\n",
      "\u001b[32m[1012 14:07:19 @monitor.py:467]\u001b[0m GAN_loss/discrim/loss: 0.64296\n",
      "\u001b[32m[1012 14:07:19 @monitor.py:467]\u001b[0m GAN_loss/gen/final-g-loss: 1.0054\n",
      "\u001b[32m[1012 14:07:19 @monitor.py:467]\u001b[0m GAN_loss/gen/klloss: 0.059916\n",
      "\u001b[32m[1012 14:07:19 @monitor.py:467]\u001b[0m GAN_loss/gen/loss: 0.94549\n",
      "\u001b[32m[1012 14:07:19 @monitor.py:467]\u001b[0m QueueInput/queue_size: 50\n",
      "\u001b[32m[1012 14:07:19 @base.py:275]\u001b[0m Start Epoch 45 ...\n"
     ]
    },
    {
     "name": "stderr",
     "output_type": "stream",
     "text": [
      "\n",
      "100%|################################################################################|175/175[00:05<00:00,32.11it/s]"
     ]
    },
    {
     "name": "stdout",
     "output_type": "stream",
     "text": [
      "\u001b[32m[1012 14:07:25 @base.py:285]\u001b[0m Epoch 45 (global_step 7875) finished, time:5.45 seconds.\n",
      "\u001b[32m[1012 14:07:25 @saver.py:79]\u001b[0m Model saved to ../output/Chicago/DATGAN_tmp2/model\\model-7875.\n",
      "\u001b[32m[1012 14:07:25 @monitor.py:467]\u001b[0m GAN_loss/discrim/accuracy_fake: 0.922\n",
      "\u001b[32m[1012 14:07:25 @monitor.py:467]\u001b[0m GAN_loss/discrim/accuracy_real: 0.072\n",
      "\u001b[32m[1012 14:07:25 @monitor.py:467]\u001b[0m GAN_loss/discrim/loss: 0.65303\n",
      "\u001b[32m[1012 14:07:25 @monitor.py:467]\u001b[0m GAN_loss/gen/final-g-loss: 0.99093\n",
      "\u001b[32m[1012 14:07:25 @monitor.py:467]\u001b[0m GAN_loss/gen/klloss: 0.058135\n",
      "\u001b[32m[1012 14:07:25 @monitor.py:467]\u001b[0m GAN_loss/gen/loss: 0.93279\n",
      "\u001b[32m[1012 14:07:25 @monitor.py:467]\u001b[0m QueueInput/queue_size: 50\n",
      "\u001b[32m[1012 14:07:25 @base.py:275]\u001b[0m Start Epoch 46 ...\n"
     ]
    },
    {
     "name": "stderr",
     "output_type": "stream",
     "text": [
      "\n",
      "100%|################################################################################|175/175[00:05<00:00,32.17it/s]"
     ]
    },
    {
     "name": "stdout",
     "output_type": "stream",
     "text": [
      "\u001b[32m[1012 14:07:30 @base.py:285]\u001b[0m Epoch 46 (global_step 8050) finished, time:5.44 seconds.\n",
      "\u001b[32m[1012 14:07:30 @saver.py:79]\u001b[0m Model saved to ../output/Chicago/DATGAN_tmp2/model\\model-8050.\n",
      "\u001b[32m[1012 14:07:30 @monitor.py:467]\u001b[0m GAN_loss/discrim/accuracy_fake: 0.944\n",
      "\u001b[32m[1012 14:07:30 @monitor.py:467]\u001b[0m GAN_loss/discrim/accuracy_real: 0.104\n",
      "\u001b[32m[1012 14:07:30 @monitor.py:467]\u001b[0m GAN_loss/discrim/loss: 0.64548\n",
      "\u001b[32m[1012 14:07:30 @monitor.py:467]\u001b[0m GAN_loss/gen/final-g-loss: 1.0147\n",
      "\u001b[32m[1012 14:07:30 @monitor.py:467]\u001b[0m GAN_loss/gen/klloss: 0.068707\n",
      "\u001b[32m[1012 14:07:30 @monitor.py:467]\u001b[0m GAN_loss/gen/loss: 0.94601\n",
      "\u001b[32m[1012 14:07:30 @monitor.py:467]\u001b[0m QueueInput/queue_size: 50\n",
      "\u001b[32m[1012 14:07:30 @base.py:275]\u001b[0m Start Epoch 47 ...\n"
     ]
    },
    {
     "name": "stderr",
     "output_type": "stream",
     "text": [
      "\n",
      "100%|################################################################################|175/175[00:05<00:00,32.02it/s]"
     ]
    },
    {
     "name": "stdout",
     "output_type": "stream",
     "text": [
      "\u001b[32m[1012 14:07:36 @base.py:285]\u001b[0m Epoch 47 (global_step 8225) finished, time:5.47 seconds.\n",
      "\u001b[32m[1012 14:07:36 @saver.py:79]\u001b[0m Model saved to ../output/Chicago/DATGAN_tmp2/model\\model-8225.\n",
      "\u001b[32m[1012 14:07:36 @monitor.py:467]\u001b[0m GAN_loss/discrim/accuracy_fake: 0.92\n",
      "\u001b[32m[1012 14:07:36 @monitor.py:467]\u001b[0m GAN_loss/discrim/accuracy_real: 0.112\n",
      "\u001b[32m[1012 14:07:36 @monitor.py:467]\u001b[0m GAN_loss/discrim/loss: 0.64483\n",
      "\u001b[32m[1012 14:07:36 @monitor.py:467]\u001b[0m GAN_loss/gen/final-g-loss: 1.029\n",
      "\u001b[32m[1012 14:07:36 @monitor.py:467]\u001b[0m GAN_loss/gen/klloss: 0.081185\n",
      "\u001b[32m[1012 14:07:36 @monitor.py:467]\u001b[0m GAN_loss/gen/loss: 0.94779\n",
      "\u001b[32m[1012 14:07:36 @monitor.py:467]\u001b[0m QueueInput/queue_size: 50\n",
      "\u001b[32m[1012 14:07:36 @base.py:275]\u001b[0m Start Epoch 48 ...\n"
     ]
    },
    {
     "name": "stderr",
     "output_type": "stream",
     "text": [
      "\n",
      "100%|################################################################################|175/175[00:05<00:00,32.14it/s]"
     ]
    },
    {
     "name": "stdout",
     "output_type": "stream",
     "text": [
      "\u001b[32m[1012 14:07:41 @base.py:285]\u001b[0m Epoch 48 (global_step 8400) finished, time:5.45 seconds.\n",
      "\u001b[32m[1012 14:07:42 @saver.py:79]\u001b[0m Model saved to ../output/Chicago/DATGAN_tmp2/model\\model-8400.\n",
      "\u001b[32m[1012 14:07:42 @monitor.py:467]\u001b[0m GAN_loss/discrim/accuracy_fake: 0.95\n",
      "\u001b[32m[1012 14:07:42 @monitor.py:467]\u001b[0m GAN_loss/discrim/accuracy_real: 0.126\n",
      "\u001b[32m[1012 14:07:42 @monitor.py:467]\u001b[0m GAN_loss/discrim/loss: 0.64104\n",
      "\u001b[32m[1012 14:07:42 @monitor.py:467]\u001b[0m GAN_loss/gen/final-g-loss: 1.0194\n",
      "\u001b[32m[1012 14:07:42 @monitor.py:467]\u001b[0m GAN_loss/gen/klloss: 0.074832\n",
      "\u001b[32m[1012 14:07:42 @monitor.py:467]\u001b[0m GAN_loss/gen/loss: 0.94461\n",
      "\u001b[32m[1012 14:07:42 @monitor.py:467]\u001b[0m QueueInput/queue_size: 50\n",
      "\u001b[32m[1012 14:07:42 @base.py:275]\u001b[0m Start Epoch 49 ...\n"
     ]
    },
    {
     "name": "stderr",
     "output_type": "stream",
     "text": [
      "\n",
      "100%|################################################################################|175/175[00:05<00:00,32.11it/s]"
     ]
    },
    {
     "name": "stdout",
     "output_type": "stream",
     "text": [
      "\u001b[32m[1012 14:07:47 @base.py:285]\u001b[0m Epoch 49 (global_step 8575) finished, time:5.45 seconds.\n",
      "\u001b[32m[1012 14:07:47 @saver.py:79]\u001b[0m Model saved to ../output/Chicago/DATGAN_tmp2/model\\model-8575.\n",
      "\u001b[32m[1012 14:07:47 @monitor.py:467]\u001b[0m GAN_loss/discrim/accuracy_fake: 0.944\n",
      "\u001b[32m[1012 14:07:47 @monitor.py:467]\u001b[0m GAN_loss/discrim/accuracy_real: 0.116\n",
      "\u001b[32m[1012 14:07:47 @monitor.py:467]\u001b[0m GAN_loss/discrim/loss: 0.64539\n",
      "\u001b[32m[1012 14:07:47 @monitor.py:467]\u001b[0m GAN_loss/gen/final-g-loss: 1.0202\n",
      "\u001b[32m[1012 14:07:47 @monitor.py:467]\u001b[0m GAN_loss/gen/klloss: 0.065338\n",
      "\u001b[32m[1012 14:07:47 @monitor.py:467]\u001b[0m GAN_loss/gen/loss: 0.95484\n",
      "\u001b[32m[1012 14:07:47 @monitor.py:467]\u001b[0m QueueInput/queue_size: 50\n",
      "\u001b[32m[1012 14:07:47 @base.py:275]\u001b[0m Start Epoch 50 ...\n"
     ]
    },
    {
     "name": "stderr",
     "output_type": "stream",
     "text": [
      "\n",
      "100%|################################################################################|175/175[00:05<00:00,32.12it/s]"
     ]
    },
    {
     "name": "stdout",
     "output_type": "stream",
     "text": [
      "\u001b[32m[1012 14:07:53 @base.py:285]\u001b[0m Epoch 50 (global_step 8750) finished, time:5.45 seconds.\n",
      "\u001b[32m[1012 14:07:53 @saver.py:79]\u001b[0m Model saved to ../output/Chicago/DATGAN_tmp2/model\\model-8750.\n",
      "\u001b[32m[1012 14:07:53 @monitor.py:467]\u001b[0m GAN_loss/discrim/accuracy_fake: 0.924\n",
      "\u001b[32m[1012 14:07:53 @monitor.py:467]\u001b[0m GAN_loss/discrim/accuracy_real: 0.106\n",
      "\u001b[32m[1012 14:07:53 @monitor.py:467]\u001b[0m GAN_loss/discrim/loss: 0.64622\n",
      "\u001b[32m[1012 14:07:53 @monitor.py:467]\u001b[0m GAN_loss/gen/final-g-loss: 1.0141\n",
      "\u001b[32m[1012 14:07:53 @monitor.py:467]\u001b[0m GAN_loss/gen/klloss: 0.069038\n",
      "\u001b[32m[1012 14:07:53 @monitor.py:467]\u001b[0m GAN_loss/gen/loss: 0.94506\n",
      "\u001b[32m[1012 14:07:53 @monitor.py:467]\u001b[0m QueueInput/queue_size: 50\n",
      "\u001b[32m[1012 14:07:53 @base.py:275]\u001b[0m Start Epoch 51 ...\n"
     ]
    },
    {
     "name": "stderr",
     "output_type": "stream",
     "text": [
      "\n",
      "100%|################################################################################|175/175[00:05<00:00,32.12it/s]"
     ]
    },
    {
     "name": "stdout",
     "output_type": "stream",
     "text": [
      "\u001b[32m[1012 14:07:58 @base.py:285]\u001b[0m Epoch 51 (global_step 8925) finished, time:5.45 seconds.\n",
      "\u001b[32m[1012 14:07:58 @saver.py:79]\u001b[0m Model saved to ../output/Chicago/DATGAN_tmp2/model\\model-8925.\n",
      "\u001b[32m[1012 14:07:58 @monitor.py:467]\u001b[0m GAN_loss/discrim/accuracy_fake: 0.934\n",
      "\u001b[32m[1012 14:07:58 @monitor.py:467]\u001b[0m GAN_loss/discrim/accuracy_real: 0.076\n",
      "\u001b[32m[1012 14:07:58 @monitor.py:467]\u001b[0m GAN_loss/discrim/loss: 0.65227\n",
      "\u001b[32m[1012 14:07:58 @monitor.py:467]\u001b[0m GAN_loss/gen/final-g-loss: 1.017\n",
      "\u001b[32m[1012 14:07:58 @monitor.py:467]\u001b[0m GAN_loss/gen/klloss: 0.070824\n",
      "\u001b[32m[1012 14:07:58 @monitor.py:467]\u001b[0m GAN_loss/gen/loss: 0.94613\n",
      "\u001b[32m[1012 14:07:58 @monitor.py:467]\u001b[0m QueueInput/queue_size: 50\n",
      "\u001b[32m[1012 14:07:58 @base.py:275]\u001b[0m Start Epoch 52 ...\n"
     ]
    },
    {
     "name": "stderr",
     "output_type": "stream",
     "text": [
      "\n",
      "100%|################################################################################|175/175[00:05<00:00,32.14it/s]"
     ]
    },
    {
     "name": "stdout",
     "output_type": "stream",
     "text": [
      "\u001b[32m[1012 14:08:04 @base.py:285]\u001b[0m Epoch 52 (global_step 9100) finished, time:5.45 seconds.\n",
      "\u001b[32m[1012 14:08:04 @saver.py:79]\u001b[0m Model saved to ../output/Chicago/DATGAN_tmp2/model\\model-9100.\n",
      "\u001b[32m[1012 14:08:04 @monitor.py:467]\u001b[0m GAN_loss/discrim/accuracy_fake: 0.948\n",
      "\u001b[32m[1012 14:08:04 @monitor.py:467]\u001b[0m GAN_loss/discrim/accuracy_real: 0.126\n",
      "\u001b[32m[1012 14:08:04 @monitor.py:467]\u001b[0m GAN_loss/discrim/loss: 0.64451\n",
      "\u001b[32m[1012 14:08:04 @monitor.py:467]\u001b[0m GAN_loss/gen/final-g-loss: 1.0313\n",
      "\u001b[32m[1012 14:08:04 @monitor.py:467]\u001b[0m GAN_loss/gen/klloss: 0.076756\n",
      "\u001b[32m[1012 14:08:04 @monitor.py:467]\u001b[0m GAN_loss/gen/loss: 0.95453\n",
      "\u001b[32m[1012 14:08:04 @monitor.py:467]\u001b[0m QueueInput/queue_size: 50\n",
      "\u001b[32m[1012 14:08:04 @base.py:275]\u001b[0m Start Epoch 53 ...\n"
     ]
    },
    {
     "name": "stderr",
     "output_type": "stream",
     "text": [
      "\n",
      "100%|################################################################################|175/175[00:05<00:00,32.13it/s]"
     ]
    },
    {
     "name": "stdout",
     "output_type": "stream",
     "text": [
      "\u001b[32m[1012 14:08:09 @base.py:285]\u001b[0m Epoch 53 (global_step 9275) finished, time:5.45 seconds.\n"
     ]
    },
    {
     "name": "stderr",
     "output_type": "stream",
     "text": [
      "\n"
     ]
    },
    {
     "name": "stdout",
     "output_type": "stream",
     "text": [
      "\u001b[32m[1012 14:08:09 @saver.py:79]\u001b[0m Model saved to ../output/Chicago/DATGAN_tmp2/model\\model-9275.\n",
      "\u001b[32m[1012 14:08:09 @monitor.py:467]\u001b[0m GAN_loss/discrim/accuracy_fake: 0.952\n",
      "\u001b[32m[1012 14:08:09 @monitor.py:467]\u001b[0m GAN_loss/discrim/accuracy_real: 0.112\n",
      "\u001b[32m[1012 14:08:09 @monitor.py:467]\u001b[0m GAN_loss/discrim/loss: 0.64307\n",
      "\u001b[32m[1012 14:08:09 @monitor.py:467]\u001b[0m GAN_loss/gen/final-g-loss: 1.0377\n",
      "\u001b[32m[1012 14:08:09 @monitor.py:467]\u001b[0m GAN_loss/gen/klloss: 0.067101\n",
      "\u001b[32m[1012 14:08:09 @monitor.py:467]\u001b[0m GAN_loss/gen/loss: 0.97056\n",
      "\u001b[32m[1012 14:08:09 @monitor.py:467]\u001b[0m QueueInput/queue_size: 50\n",
      "\u001b[32m[1012 14:08:09 @base.py:275]\u001b[0m Start Epoch 54 ...\n"
     ]
    },
    {
     "name": "stderr",
     "output_type": "stream",
     "text": [
      "100%|################################################################################|175/175[00:05<00:00,32.14it/s]"
     ]
    },
    {
     "name": "stdout",
     "output_type": "stream",
     "text": [
      "\u001b[32m[1012 14:08:15 @base.py:285]\u001b[0m Epoch 54 (global_step 9450) finished, time:5.45 seconds.\n",
      "\u001b[32m[1012 14:08:15 @saver.py:79]\u001b[0m Model saved to ../output/Chicago/DATGAN_tmp2/model\\model-9450.\n",
      "\u001b[32m[1012 14:08:15 @monitor.py:467]\u001b[0m GAN_loss/discrim/accuracy_fake: 0.944\n",
      "\u001b[32m[1012 14:08:15 @monitor.py:467]\u001b[0m GAN_loss/discrim/accuracy_real: 0.1\n",
      "\u001b[32m[1012 14:08:15 @monitor.py:467]\u001b[0m GAN_loss/discrim/loss: 0.64704\n",
      "\u001b[32m[1012 14:08:15 @monitor.py:467]\u001b[0m GAN_loss/gen/final-g-loss: 1.0306\n",
      "\u001b[32m[1012 14:08:15 @monitor.py:467]\u001b[0m GAN_loss/gen/klloss: 0.074737\n",
      "\u001b[32m[1012 14:08:15 @monitor.py:467]\u001b[0m GAN_loss/gen/loss: 0.95582\n",
      "\u001b[32m[1012 14:08:15 @monitor.py:467]\u001b[0m QueueInput/queue_size: 50\n",
      "\u001b[32m[1012 14:08:15 @base.py:275]\u001b[0m Start Epoch 55 ...\n"
     ]
    },
    {
     "name": "stderr",
     "output_type": "stream",
     "text": [
      "\n",
      "100%|################################################################################|175/175[00:05<00:00,32.08it/s]"
     ]
    },
    {
     "name": "stdout",
     "output_type": "stream",
     "text": [
      "\u001b[32m[1012 14:08:20 @base.py:285]\u001b[0m Epoch 55 (global_step 9625) finished, time:5.46 seconds.\n"
     ]
    },
    {
     "name": "stderr",
     "output_type": "stream",
     "text": [
      "\n"
     ]
    },
    {
     "name": "stdout",
     "output_type": "stream",
     "text": [
      "\u001b[32m[1012 14:08:20 @saver.py:79]\u001b[0m Model saved to ../output/Chicago/DATGAN_tmp2/model\\model-9625.\n",
      "\u001b[32m[1012 14:08:20 @monitor.py:467]\u001b[0m GAN_loss/discrim/accuracy_fake: 0.94\n",
      "\u001b[32m[1012 14:08:20 @monitor.py:467]\u001b[0m GAN_loss/discrim/accuracy_real: 0.106\n",
      "\u001b[32m[1012 14:08:20 @monitor.py:467]\u001b[0m GAN_loss/discrim/loss: 0.64506\n",
      "\u001b[32m[1012 14:08:20 @monitor.py:467]\u001b[0m GAN_loss/gen/final-g-loss: 1.0056\n",
      "\u001b[32m[1012 14:08:20 @monitor.py:467]\u001b[0m GAN_loss/gen/klloss: 0.059512\n",
      "\u001b[32m[1012 14:08:20 @monitor.py:467]\u001b[0m GAN_loss/gen/loss: 0.94614\n",
      "\u001b[32m[1012 14:08:20 @monitor.py:467]\u001b[0m QueueInput/queue_size: 50\n",
      "\u001b[32m[1012 14:08:20 @base.py:275]\u001b[0m Start Epoch 56 ...\n"
     ]
    },
    {
     "name": "stderr",
     "output_type": "stream",
     "text": [
      "100%|################################################################################|175/175[00:05<00:00,32.13it/s]"
     ]
    },
    {
     "name": "stdout",
     "output_type": "stream",
     "text": [
      "\u001b[32m[1012 14:08:26 @base.py:285]\u001b[0m Epoch 56 (global_step 9800) finished, time:5.45 seconds.\n"
     ]
    },
    {
     "name": "stderr",
     "output_type": "stream",
     "text": [
      "\n"
     ]
    },
    {
     "name": "stdout",
     "output_type": "stream",
     "text": [
      "\u001b[32m[1012 14:08:26 @saver.py:79]\u001b[0m Model saved to ../output/Chicago/DATGAN_tmp2/model\\model-9800.\n",
      "\u001b[32m[1012 14:08:26 @monitor.py:467]\u001b[0m GAN_loss/discrim/accuracy_fake: 0.934\n",
      "\u001b[32m[1012 14:08:26 @monitor.py:467]\u001b[0m GAN_loss/discrim/accuracy_real: 0.128\n",
      "\u001b[32m[1012 14:08:26 @monitor.py:467]\u001b[0m GAN_loss/discrim/loss: 0.64163\n",
      "\u001b[32m[1012 14:08:26 @monitor.py:467]\u001b[0m GAN_loss/gen/final-g-loss: 1.0266\n",
      "\u001b[32m[1012 14:08:26 @monitor.py:467]\u001b[0m GAN_loss/gen/klloss: 0.083576\n",
      "\u001b[32m[1012 14:08:26 @monitor.py:467]\u001b[0m GAN_loss/gen/loss: 0.943\n",
      "\u001b[32m[1012 14:08:26 @monitor.py:467]\u001b[0m QueueInput/queue_size: 50\n",
      "\u001b[32m[1012 14:08:26 @base.py:275]\u001b[0m Start Epoch 57 ...\n"
     ]
    },
    {
     "name": "stderr",
     "output_type": "stream",
     "text": [
      "100%|################################################################################|175/175[00:05<00:00,32.12it/s]"
     ]
    },
    {
     "name": "stdout",
     "output_type": "stream",
     "text": [
      "\u001b[32m[1012 14:08:31 @base.py:285]\u001b[0m Epoch 57 (global_step 9975) finished, time:5.45 seconds.\n",
      "\u001b[32m[1012 14:08:31 @saver.py:79]\u001b[0m Model saved to ../output/Chicago/DATGAN_tmp2/model\\model-9975.\n",
      "\u001b[32m[1012 14:08:31 @monitor.py:467]\u001b[0m GAN_loss/discrim/accuracy_fake: 0.934\n",
      "\u001b[32m[1012 14:08:31 @monitor.py:467]\u001b[0m GAN_loss/discrim/accuracy_real: 0.108\n",
      "\u001b[32m[1012 14:08:31 @monitor.py:467]\u001b[0m GAN_loss/discrim/loss: 0.64207\n",
      "\u001b[32m[1012 14:08:31 @monitor.py:467]\u001b[0m GAN_loss/gen/final-g-loss: 1.0362\n",
      "\u001b[32m[1012 14:08:31 @monitor.py:467]\u001b[0m GAN_loss/gen/klloss: 0.087777\n",
      "\u001b[32m[1012 14:08:31 @monitor.py:467]\u001b[0m GAN_loss/gen/loss: 0.9484\n",
      "\u001b[32m[1012 14:08:31 @monitor.py:467]\u001b[0m QueueInput/queue_size: 50\n",
      "\u001b[32m[1012 14:08:31 @base.py:275]\u001b[0m Start Epoch 58 ...\n"
     ]
    },
    {
     "name": "stderr",
     "output_type": "stream",
     "text": [
      "\n",
      "100%|################################################################################|175/175[00:05<00:00,32.15it/s]"
     ]
    },
    {
     "name": "stdout",
     "output_type": "stream",
     "text": [
      "\u001b[32m[1012 14:08:37 @base.py:285]\u001b[0m Epoch 58 (global_step 10150) finished, time:5.44 seconds.\n",
      "\u001b[32m[1012 14:08:37 @saver.py:79]\u001b[0m Model saved to ../output/Chicago/DATGAN_tmp2/model\\model-10150.\n",
      "\u001b[32m[1012 14:08:37 @monitor.py:467]\u001b[0m GAN_loss/discrim/accuracy_fake: 0.938\n",
      "\u001b[32m[1012 14:08:37 @monitor.py:467]\u001b[0m GAN_loss/discrim/accuracy_real: 0.098\n",
      "\u001b[32m[1012 14:08:37 @monitor.py:467]\u001b[0m GAN_loss/discrim/loss: 0.64586\n",
      "\u001b[32m[1012 14:08:37 @monitor.py:467]\u001b[0m GAN_loss/gen/final-g-loss: 1.0112\n",
      "\u001b[32m[1012 14:08:37 @monitor.py:467]\u001b[0m GAN_loss/gen/klloss: 0.070594\n",
      "\u001b[32m[1012 14:08:37 @monitor.py:467]\u001b[0m GAN_loss/gen/loss: 0.94056\n",
      "\u001b[32m[1012 14:08:37 @monitor.py:467]\u001b[0m QueueInput/queue_size: 50\n",
      "\u001b[32m[1012 14:08:37 @base.py:275]\u001b[0m Start Epoch 59 ...\n"
     ]
    },
    {
     "name": "stderr",
     "output_type": "stream",
     "text": [
      "\n",
      "100%|################################################################################|175/175[00:05<00:00,32.09it/s]"
     ]
    },
    {
     "name": "stdout",
     "output_type": "stream",
     "text": [
      "\u001b[32m[1012 14:08:42 @base.py:285]\u001b[0m Epoch 59 (global_step 10325) finished, time:5.45 seconds.\n",
      "\u001b[32m[1012 14:08:43 @saver.py:79]\u001b[0m Model saved to ../output/Chicago/DATGAN_tmp2/model\\model-10325.\n",
      "\u001b[32m[1012 14:08:43 @monitor.py:467]\u001b[0m GAN_loss/discrim/accuracy_fake: 0.946\n",
      "\u001b[32m[1012 14:08:43 @monitor.py:467]\u001b[0m GAN_loss/discrim/accuracy_real: 0.07\n",
      "\u001b[32m[1012 14:08:43 @monitor.py:467]\u001b[0m GAN_loss/discrim/loss: 0.64181\n",
      "\u001b[32m[1012 14:08:43 @monitor.py:467]\u001b[0m GAN_loss/gen/final-g-loss: 1.0142\n",
      "\u001b[32m[1012 14:08:43 @monitor.py:467]\u001b[0m GAN_loss/gen/klloss: 0.064598\n",
      "\u001b[32m[1012 14:08:43 @monitor.py:467]\u001b[0m GAN_loss/gen/loss: 0.94962\n",
      "\u001b[32m[1012 14:08:43 @monitor.py:467]\u001b[0m QueueInput/queue_size: 50\n",
      "\u001b[32m[1012 14:08:43 @base.py:275]\u001b[0m Start Epoch 60 ...\n"
     ]
    },
    {
     "name": "stderr",
     "output_type": "stream",
     "text": [
      "\n",
      "100%|################################################################################|175/175[00:05<00:00,32.14it/s]"
     ]
    },
    {
     "name": "stdout",
     "output_type": "stream",
     "text": [
      "\u001b[32m[1012 14:08:48 @base.py:285]\u001b[0m Epoch 60 (global_step 10500) finished, time:5.44 seconds.\n",
      "\u001b[32m[1012 14:08:48 @saver.py:79]\u001b[0m Model saved to ../output/Chicago/DATGAN_tmp2/model\\model-10500.\n",
      "\u001b[32m[1012 14:08:48 @monitor.py:467]\u001b[0m GAN_loss/discrim/accuracy_fake: 0.936\n",
      "\u001b[32m[1012 14:08:48 @monitor.py:467]\u001b[0m GAN_loss/discrim/accuracy_real: 0.086\n",
      "\u001b[32m[1012 14:08:48 @monitor.py:467]\u001b[0m GAN_loss/discrim/loss: 0.64743\n",
      "\u001b[32m[1012 14:08:48 @monitor.py:467]\u001b[0m GAN_loss/gen/final-g-loss: 1.0103\n",
      "\u001b[32m[1012 14:08:48 @monitor.py:467]\u001b[0m GAN_loss/gen/klloss: 0.074551\n",
      "\u001b[32m[1012 14:08:48 @monitor.py:467]\u001b[0m GAN_loss/gen/loss: 0.93572\n",
      "\u001b[32m[1012 14:08:48 @monitor.py:467]\u001b[0m QueueInput/queue_size: 50\n",
      "\u001b[32m[1012 14:08:48 @base.py:275]\u001b[0m Start Epoch 61 ...\n"
     ]
    },
    {
     "name": "stderr",
     "output_type": "stream",
     "text": [
      "\n",
      "100%|################################################################################|175/175[00:05<00:00,32.11it/s]"
     ]
    },
    {
     "name": "stdout",
     "output_type": "stream",
     "text": [
      "\u001b[32m[1012 14:08:54 @base.py:285]\u001b[0m Epoch 61 (global_step 10675) finished, time:5.45 seconds.\n",
      "\u001b[32m[1012 14:08:54 @saver.py:79]\u001b[0m Model saved to ../output/Chicago/DATGAN_tmp2/model\\model-10675.\n",
      "\u001b[32m[1012 14:08:54 @monitor.py:467]\u001b[0m GAN_loss/discrim/accuracy_fake: 0.942\n",
      "\u001b[32m[1012 14:08:54 @monitor.py:467]\u001b[0m GAN_loss/discrim/accuracy_real: 0.084\n",
      "\u001b[32m[1012 14:08:54 @monitor.py:467]\u001b[0m GAN_loss/discrim/loss: 0.64656\n",
      "\u001b[32m[1012 14:08:54 @monitor.py:467]\u001b[0m GAN_loss/gen/final-g-loss: 0.99421\n",
      "\u001b[32m[1012 14:08:54 @monitor.py:467]\u001b[0m GAN_loss/gen/klloss: 0.052579\n",
      "\u001b[32m[1012 14:08:54 @monitor.py:467]\u001b[0m GAN_loss/gen/loss: 0.94163\n",
      "\u001b[32m[1012 14:08:54 @monitor.py:467]\u001b[0m QueueInput/queue_size: 50\n",
      "\u001b[32m[1012 14:08:54 @base.py:275]\u001b[0m Start Epoch 62 ...\n"
     ]
    },
    {
     "name": "stderr",
     "output_type": "stream",
     "text": [
      "\n",
      "100%|################################################################################|175/175[00:05<00:00,32.14it/s]"
     ]
    },
    {
     "name": "stdout",
     "output_type": "stream",
     "text": [
      "\u001b[32m[1012 14:08:59 @base.py:285]\u001b[0m Epoch 62 (global_step 10850) finished, time:5.45 seconds.\n"
     ]
    },
    {
     "name": "stderr",
     "output_type": "stream",
     "text": [
      "\n"
     ]
    },
    {
     "name": "stdout",
     "output_type": "stream",
     "text": [
      "\u001b[32m[1012 14:08:59 @saver.py:79]\u001b[0m Model saved to ../output/Chicago/DATGAN_tmp2/model\\model-10850.\n",
      "\u001b[32m[1012 14:08:59 @monitor.py:467]\u001b[0m GAN_loss/discrim/accuracy_fake: 0.94\n",
      "\u001b[32m[1012 14:08:59 @monitor.py:467]\u001b[0m GAN_loss/discrim/accuracy_real: 0.102\n",
      "\u001b[32m[1012 14:08:59 @monitor.py:467]\u001b[0m GAN_loss/discrim/loss: 0.64412\n",
      "\u001b[32m[1012 14:08:59 @monitor.py:467]\u001b[0m GAN_loss/gen/final-g-loss: 0.98354\n",
      "\u001b[32m[1012 14:08:59 @monitor.py:467]\u001b[0m GAN_loss/gen/klloss: 0.050511\n",
      "\u001b[32m[1012 14:08:59 @monitor.py:467]\u001b[0m GAN_loss/gen/loss: 0.93303\n",
      "\u001b[32m[1012 14:08:59 @monitor.py:467]\u001b[0m QueueInput/queue_size: 50\n",
      "\u001b[32m[1012 14:08:59 @base.py:275]\u001b[0m Start Epoch 63 ...\n"
     ]
    },
    {
     "name": "stderr",
     "output_type": "stream",
     "text": [
      "100%|################################################################################|175/175[00:05<00:00,32.12it/s]"
     ]
    },
    {
     "name": "stdout",
     "output_type": "stream",
     "text": [
      "\u001b[32m[1012 14:09:05 @base.py:285]\u001b[0m Epoch 63 (global_step 11025) finished, time:5.45 seconds.\n"
     ]
    },
    {
     "name": "stderr",
     "output_type": "stream",
     "text": [
      "\n"
     ]
    },
    {
     "name": "stdout",
     "output_type": "stream",
     "text": [
      "\u001b[32m[1012 14:09:05 @saver.py:79]\u001b[0m Model saved to ../output/Chicago/DATGAN_tmp2/model\\model-11025.\n",
      "\u001b[32m[1012 14:09:05 @monitor.py:467]\u001b[0m GAN_loss/discrim/accuracy_fake: 0.962\n",
      "\u001b[32m[1012 14:09:05 @monitor.py:467]\u001b[0m GAN_loss/discrim/accuracy_real: 0.088\n",
      "\u001b[32m[1012 14:09:05 @monitor.py:467]\u001b[0m GAN_loss/discrim/loss: 0.63945\n",
      "\u001b[32m[1012 14:09:05 @monitor.py:467]\u001b[0m GAN_loss/gen/final-g-loss: 1.0252\n",
      "\u001b[32m[1012 14:09:05 @monitor.py:467]\u001b[0m GAN_loss/gen/klloss: 0.076299\n",
      "\u001b[32m[1012 14:09:05 @monitor.py:467]\u001b[0m GAN_loss/gen/loss: 0.94888\n",
      "\u001b[32m[1012 14:09:05 @monitor.py:467]\u001b[0m QueueInput/queue_size: 50\n",
      "\u001b[32m[1012 14:09:05 @base.py:275]\u001b[0m Start Epoch 64 ...\n"
     ]
    },
    {
     "name": "stderr",
     "output_type": "stream",
     "text": [
      "100%|################################################################################|175/175[00:05<00:00,32.07it/s]"
     ]
    },
    {
     "name": "stdout",
     "output_type": "stream",
     "text": [
      "\u001b[32m[1012 14:09:10 @base.py:285]\u001b[0m Epoch 64 (global_step 11200) finished, time:5.46 seconds.\n"
     ]
    },
    {
     "name": "stderr",
     "output_type": "stream",
     "text": [
      "\n"
     ]
    },
    {
     "name": "stdout",
     "output_type": "stream",
     "text": [
      "\u001b[32m[1012 14:09:10 @saver.py:79]\u001b[0m Model saved to ../output/Chicago/DATGAN_tmp2/model\\model-11200.\n",
      "\u001b[32m[1012 14:09:10 @monitor.py:467]\u001b[0m GAN_loss/discrim/accuracy_fake: 0.924\n",
      "\u001b[32m[1012 14:09:10 @monitor.py:467]\u001b[0m GAN_loss/discrim/accuracy_real: 0.076\n",
      "\u001b[32m[1012 14:09:10 @monitor.py:467]\u001b[0m GAN_loss/discrim/loss: 0.65359\n",
      "\u001b[32m[1012 14:09:10 @monitor.py:467]\u001b[0m GAN_loss/gen/final-g-loss: 1.0545\n",
      "\u001b[32m[1012 14:09:10 @monitor.py:467]\u001b[0m GAN_loss/gen/klloss: 0.11438\n",
      "\u001b[32m[1012 14:09:10 @monitor.py:467]\u001b[0m GAN_loss/gen/loss: 0.94016\n",
      "\u001b[32m[1012 14:09:10 @monitor.py:467]\u001b[0m QueueInput/queue_size: 50\n",
      "\u001b[32m[1012 14:09:10 @base.py:275]\u001b[0m Start Epoch 65 ...\n"
     ]
    },
    {
     "name": "stderr",
     "output_type": "stream",
     "text": [
      "100%|################################################################################|175/175[00:05<00:00,32.15it/s]"
     ]
    },
    {
     "name": "stdout",
     "output_type": "stream",
     "text": [
      "\u001b[32m[1012 14:09:16 @base.py:285]\u001b[0m Epoch 65 (global_step 11375) finished, time:5.44 seconds.\n",
      "\u001b[32m[1012 14:09:16 @saver.py:79]\u001b[0m Model saved to ../output/Chicago/DATGAN_tmp2/model\\model-11375.\n",
      "\u001b[32m[1012 14:09:16 @monitor.py:467]\u001b[0m GAN_loss/discrim/accuracy_fake: 0.95\n",
      "\u001b[32m[1012 14:09:16 @monitor.py:467]\u001b[0m GAN_loss/discrim/accuracy_real: 0.096\n",
      "\u001b[32m[1012 14:09:16 @monitor.py:467]\u001b[0m GAN_loss/discrim/loss: 0.63853\n",
      "\u001b[32m[1012 14:09:16 @monitor.py:467]\u001b[0m GAN_loss/gen/final-g-loss: 1.0094\n",
      "\u001b[32m[1012 14:09:16 @monitor.py:467]\u001b[0m GAN_loss/gen/klloss: 0.053814\n",
      "\u001b[32m[1012 14:09:16 @monitor.py:467]\u001b[0m GAN_loss/gen/loss: 0.95562\n",
      "\u001b[32m[1012 14:09:16 @monitor.py:467]\u001b[0m QueueInput/queue_size: 50\n",
      "\u001b[32m[1012 14:09:16 @base.py:275]\u001b[0m Start Epoch 66 ...\n"
     ]
    },
    {
     "name": "stderr",
     "output_type": "stream",
     "text": [
      "\n",
      "100%|################################################################################|175/175[00:05<00:00,32.10it/s]"
     ]
    },
    {
     "name": "stdout",
     "output_type": "stream",
     "text": [
      "\u001b[32m[1012 14:09:21 @base.py:285]\u001b[0m Epoch 66 (global_step 11550) finished, time:5.45 seconds.\n",
      "\u001b[32m[1012 14:09:21 @saver.py:79]\u001b[0m Model saved to ../output/Chicago/DATGAN_tmp2/model\\model-11550.\n",
      "\u001b[32m[1012 14:09:21 @monitor.py:467]\u001b[0m GAN_loss/discrim/accuracy_fake: 0.938\n",
      "\u001b[32m[1012 14:09:21 @monitor.py:467]\u001b[0m GAN_loss/discrim/accuracy_real: 0.102\n",
      "\u001b[32m[1012 14:09:21 @monitor.py:467]\u001b[0m GAN_loss/discrim/loss: 0.64874\n",
      "\u001b[32m[1012 14:09:21 @monitor.py:467]\u001b[0m GAN_loss/gen/final-g-loss: 1.0043\n",
      "\u001b[32m[1012 14:09:21 @monitor.py:467]\u001b[0m GAN_loss/gen/klloss: 0.065758\n",
      "\u001b[32m[1012 14:09:21 @monitor.py:467]\u001b[0m GAN_loss/gen/loss: 0.93857\n",
      "\u001b[32m[1012 14:09:21 @monitor.py:467]\u001b[0m QueueInput/queue_size: 50\n",
      "\u001b[32m[1012 14:09:21 @base.py:275]\u001b[0m Start Epoch 67 ...\n"
     ]
    },
    {
     "name": "stderr",
     "output_type": "stream",
     "text": [
      "\n",
      "100%|################################################################################|175/175[00:05<00:00,32.13it/s]"
     ]
    },
    {
     "name": "stdout",
     "output_type": "stream",
     "text": [
      "\u001b[32m[1012 14:09:27 @base.py:285]\u001b[0m Epoch 67 (global_step 11725) finished, time:5.45 seconds.\n",
      "\u001b[32m[1012 14:09:27 @saver.py:79]\u001b[0m Model saved to ../output/Chicago/DATGAN_tmp2/model\\model-11725.\n",
      "\u001b[32m[1012 14:09:27 @monitor.py:467]\u001b[0m GAN_loss/discrim/accuracy_fake: 0.936\n",
      "\u001b[32m[1012 14:09:27 @monitor.py:467]\u001b[0m GAN_loss/discrim/accuracy_real: 0.072\n",
      "\u001b[32m[1012 14:09:27 @monitor.py:467]\u001b[0m GAN_loss/discrim/loss: 0.64925\n",
      "\u001b[32m[1012 14:09:27 @monitor.py:467]\u001b[0m GAN_loss/gen/final-g-loss: 1.0117\n",
      "\u001b[32m[1012 14:09:27 @monitor.py:467]\u001b[0m GAN_loss/gen/klloss: 0.07838\n",
      "\u001b[32m[1012 14:09:27 @monitor.py:467]\u001b[0m GAN_loss/gen/loss: 0.93329\n",
      "\u001b[32m[1012 14:09:27 @monitor.py:467]\u001b[0m QueueInput/queue_size: 50\n",
      "\u001b[32m[1012 14:09:27 @base.py:275]\u001b[0m Start Epoch 68 ...\n"
     ]
    },
    {
     "name": "stderr",
     "output_type": "stream",
     "text": [
      "\n",
      "100%|################################################################################|175/175[00:05<00:00,32.01it/s]"
     ]
    },
    {
     "name": "stdout",
     "output_type": "stream",
     "text": [
      "\u001b[32m[1012 14:09:32 @base.py:285]\u001b[0m Epoch 68 (global_step 11900) finished, time:5.47 seconds.\n",
      "\u001b[32m[1012 14:09:33 @saver.py:79]\u001b[0m Model saved to ../output/Chicago/DATGAN_tmp2/model\\model-11900.\n",
      "\u001b[32m[1012 14:09:33 @monitor.py:467]\u001b[0m GAN_loss/discrim/accuracy_fake: 0.936\n",
      "\u001b[32m[1012 14:09:33 @monitor.py:467]\u001b[0m GAN_loss/discrim/accuracy_real: 0.072\n",
      "\u001b[32m[1012 14:09:33 @monitor.py:467]\u001b[0m GAN_loss/discrim/loss: 0.64898\n",
      "\u001b[32m[1012 14:09:33 @monitor.py:467]\u001b[0m GAN_loss/gen/final-g-loss: 1.0268\n",
      "\u001b[32m[1012 14:09:33 @monitor.py:467]\u001b[0m GAN_loss/gen/klloss: 0.085095\n",
      "\u001b[32m[1012 14:09:33 @monitor.py:467]\u001b[0m GAN_loss/gen/loss: 0.9417\n",
      "\u001b[32m[1012 14:09:33 @monitor.py:467]\u001b[0m QueueInput/queue_size: 50\n",
      "\u001b[32m[1012 14:09:33 @base.py:275]\u001b[0m Start Epoch 69 ...\n"
     ]
    },
    {
     "name": "stderr",
     "output_type": "stream",
     "text": [
      "\n",
      "100%|################################################################################|175/175[00:05<00:00,32.19it/s]"
     ]
    },
    {
     "name": "stdout",
     "output_type": "stream",
     "text": [
      "\u001b[32m[1012 14:09:38 @base.py:285]\u001b[0m Epoch 69 (global_step 12075) finished, time:5.44 seconds.\n",
      "\u001b[32m[1012 14:09:38 @saver.py:79]\u001b[0m Model saved to ../output/Chicago/DATGAN_tmp2/model\\model-12075.\n",
      "\u001b[32m[1012 14:09:38 @monitor.py:467]\u001b[0m GAN_loss/discrim/accuracy_fake: 0.948\n",
      "\u001b[32m[1012 14:09:38 @monitor.py:467]\u001b[0m GAN_loss/discrim/accuracy_real: 0.116\n",
      "\u001b[32m[1012 14:09:38 @monitor.py:467]\u001b[0m GAN_loss/discrim/loss: 0.64872\n",
      "\u001b[32m[1012 14:09:38 @monitor.py:467]\u001b[0m GAN_loss/gen/final-g-loss: 1.0018\n",
      "\u001b[32m[1012 14:09:38 @monitor.py:467]\u001b[0m GAN_loss/gen/klloss: 0.070041\n",
      "\u001b[32m[1012 14:09:38 @monitor.py:467]\u001b[0m GAN_loss/gen/loss: 0.9318\n",
      "\u001b[32m[1012 14:09:38 @monitor.py:467]\u001b[0m QueueInput/queue_size: 50\n",
      "\u001b[32m[1012 14:09:38 @base.py:275]\u001b[0m Start Epoch 70 ...\n"
     ]
    },
    {
     "name": "stderr",
     "output_type": "stream",
     "text": [
      "\n",
      "100%|################################################################################|175/175[00:05<00:00,32.12it/s]"
     ]
    },
    {
     "name": "stdout",
     "output_type": "stream",
     "text": [
      "\u001b[32m[1012 14:09:44 @base.py:285]\u001b[0m Epoch 70 (global_step 12250) finished, time:5.45 seconds.\n"
     ]
    },
    {
     "name": "stderr",
     "output_type": "stream",
     "text": [
      "\n"
     ]
    },
    {
     "name": "stdout",
     "output_type": "stream",
     "text": [
      "\u001b[32m[1012 14:09:44 @saver.py:79]\u001b[0m Model saved to ../output/Chicago/DATGAN_tmp2/model\\model-12250.\n",
      "\u001b[32m[1012 14:09:44 @monitor.py:467]\u001b[0m GAN_loss/discrim/accuracy_fake: 0.94\n",
      "\u001b[32m[1012 14:09:44 @monitor.py:467]\u001b[0m GAN_loss/discrim/accuracy_real: 0.086\n",
      "\u001b[32m[1012 14:09:44 @monitor.py:467]\u001b[0m GAN_loss/discrim/loss: 0.64322\n",
      "\u001b[32m[1012 14:09:44 @monitor.py:467]\u001b[0m GAN_loss/gen/final-g-loss: 1.0094\n",
      "\u001b[32m[1012 14:09:44 @monitor.py:467]\u001b[0m GAN_loss/gen/klloss: 0.055487\n",
      "\u001b[32m[1012 14:09:44 @monitor.py:467]\u001b[0m GAN_loss/gen/loss: 0.95391\n",
      "\u001b[32m[1012 14:09:44 @monitor.py:467]\u001b[0m QueueInput/queue_size: 50\n",
      "\u001b[32m[1012 14:09:44 @base.py:275]\u001b[0m Start Epoch 71 ...\n"
     ]
    },
    {
     "name": "stderr",
     "output_type": "stream",
     "text": [
      "100%|################################################################################|175/175[00:05<00:00,32.18it/s]"
     ]
    },
    {
     "name": "stdout",
     "output_type": "stream",
     "text": [
      "\u001b[32m[1012 14:09:49 @base.py:285]\u001b[0m Epoch 71 (global_step 12425) finished, time:5.44 seconds.\n",
      "\u001b[32m[1012 14:09:49 @saver.py:79]\u001b[0m Model saved to ../output/Chicago/DATGAN_tmp2/model\\model-12425.\n",
      "\u001b[32m[1012 14:09:49 @monitor.py:467]\u001b[0m GAN_loss/discrim/accuracy_fake: 0.952\n",
      "\u001b[32m[1012 14:09:49 @monitor.py:467]\u001b[0m GAN_loss/discrim/accuracy_real: 0.082\n",
      "\u001b[32m[1012 14:09:49 @monitor.py:467]\u001b[0m GAN_loss/discrim/loss: 0.64349\n",
      "\u001b[32m[1012 14:09:49 @monitor.py:467]\u001b[0m GAN_loss/gen/final-g-loss: 0.98985\n",
      "\u001b[32m[1012 14:09:49 @monitor.py:467]\u001b[0m GAN_loss/gen/klloss: 0.043391\n",
      "\u001b[32m[1012 14:09:49 @monitor.py:467]\u001b[0m GAN_loss/gen/loss: 0.94646\n",
      "\u001b[32m[1012 14:09:49 @monitor.py:467]\u001b[0m QueueInput/queue_size: 50\n",
      "\u001b[32m[1012 14:09:49 @base.py:275]\u001b[0m Start Epoch 72 ...\n"
     ]
    },
    {
     "name": "stderr",
     "output_type": "stream",
     "text": [
      "\n",
      "100%|################################################################################|175/175[00:05<00:00,32.10it/s]"
     ]
    },
    {
     "name": "stdout",
     "output_type": "stream",
     "text": [
      "\u001b[32m[1012 14:09:55 @base.py:285]\u001b[0m Epoch 72 (global_step 12600) finished, time:5.45 seconds.\n",
      "\u001b[32m[1012 14:09:55 @saver.py:79]\u001b[0m Model saved to ../output/Chicago/DATGAN_tmp2/model\\model-12600.\n",
      "\u001b[32m[1012 14:09:55 @monitor.py:467]\u001b[0m GAN_loss/discrim/accuracy_fake: 0.938\n",
      "\u001b[32m[1012 14:09:55 @monitor.py:467]\u001b[0m GAN_loss/discrim/accuracy_real: 0.072\n",
      "\u001b[32m[1012 14:09:55 @monitor.py:467]\u001b[0m GAN_loss/discrim/loss: 0.65429\n",
      "\u001b[32m[1012 14:09:55 @monitor.py:467]\u001b[0m GAN_loss/gen/final-g-loss: 0.99766\n",
      "\u001b[32m[1012 14:09:55 @monitor.py:467]\u001b[0m GAN_loss/gen/klloss: 0.056469\n",
      "\u001b[32m[1012 14:09:55 @monitor.py:467]\u001b[0m GAN_loss/gen/loss: 0.94119\n",
      "\u001b[32m[1012 14:09:55 @monitor.py:467]\u001b[0m QueueInput/queue_size: 50\n",
      "\u001b[32m[1012 14:09:55 @base.py:275]\u001b[0m Start Epoch 73 ...\n"
     ]
    },
    {
     "name": "stderr",
     "output_type": "stream",
     "text": [
      "\n",
      "100%|################################################################################|175/175[00:05<00:00,32.15it/s]"
     ]
    },
    {
     "name": "stdout",
     "output_type": "stream",
     "text": [
      "\u001b[32m[1012 14:10:00 @base.py:285]\u001b[0m Epoch 73 (global_step 12775) finished, time:5.44 seconds.\n",
      "\u001b[32m[1012 14:10:00 @saver.py:79]\u001b[0m Model saved to ../output/Chicago/DATGAN_tmp2/model\\model-12775.\n",
      "\u001b[32m[1012 14:10:00 @monitor.py:467]\u001b[0m GAN_loss/discrim/accuracy_fake: 0.95\n",
      "\u001b[32m[1012 14:10:00 @monitor.py:467]\u001b[0m GAN_loss/discrim/accuracy_real: 0.088\n",
      "\u001b[32m[1012 14:10:00 @monitor.py:467]\u001b[0m GAN_loss/discrim/loss: 0.64972\n",
      "\u001b[32m[1012 14:10:00 @monitor.py:467]\u001b[0m GAN_loss/gen/final-g-loss: 1.0162\n",
      "\u001b[32m[1012 14:10:00 @monitor.py:467]\u001b[0m GAN_loss/gen/klloss: 0.069568\n",
      "\u001b[32m[1012 14:10:00 @monitor.py:467]\u001b[0m GAN_loss/gen/loss: 0.94661\n",
      "\u001b[32m[1012 14:10:00 @monitor.py:467]\u001b[0m QueueInput/queue_size: 50\n",
      "\u001b[32m[1012 14:10:00 @base.py:275]\u001b[0m Start Epoch 74 ...\n"
     ]
    },
    {
     "name": "stderr",
     "output_type": "stream",
     "text": [
      "\n",
      "100%|################################################################################|175/175[00:05<00:00,32.10it/s]"
     ]
    },
    {
     "name": "stdout",
     "output_type": "stream",
     "text": [
      "\u001b[32m[1012 14:10:06 @base.py:285]\u001b[0m Epoch 74 (global_step 12950) finished, time:5.45 seconds.\n",
      "\u001b[32m[1012 14:10:06 @saver.py:79]\u001b[0m Model saved to ../output/Chicago/DATGAN_tmp2/model\\model-12950.\n",
      "\u001b[32m[1012 14:10:06 @monitor.py:467]\u001b[0m GAN_loss/discrim/accuracy_fake: 0.942\n",
      "\u001b[32m[1012 14:10:06 @monitor.py:467]\u001b[0m GAN_loss/discrim/accuracy_real: 0.1\n",
      "\u001b[32m[1012 14:10:06 @monitor.py:467]\u001b[0m GAN_loss/discrim/loss: 0.64535\n",
      "\u001b[32m[1012 14:10:06 @monitor.py:467]\u001b[0m GAN_loss/gen/final-g-loss: 1.0045\n",
      "\u001b[32m[1012 14:10:06 @monitor.py:467]\u001b[0m GAN_loss/gen/klloss: 0.060456\n",
      "\u001b[32m[1012 14:10:06 @monitor.py:467]\u001b[0m GAN_loss/gen/loss: 0.94403\n",
      "\u001b[32m[1012 14:10:06 @monitor.py:467]\u001b[0m QueueInput/queue_size: 50\n",
      "\u001b[32m[1012 14:10:06 @base.py:275]\u001b[0m Start Epoch 75 ...\n"
     ]
    },
    {
     "name": "stderr",
     "output_type": "stream",
     "text": [
      "\n",
      "100%|################################################################################|175/175[00:05<00:00,32.15it/s]"
     ]
    },
    {
     "name": "stdout",
     "output_type": "stream",
     "text": [
      "\u001b[32m[1012 14:10:11 @base.py:285]\u001b[0m Epoch 75 (global_step 13125) finished, time:5.44 seconds.\n",
      "\u001b[32m[1012 14:10:11 @saver.py:79]\u001b[0m Model saved to ../output/Chicago/DATGAN_tmp2/model\\model-13125.\n",
      "\u001b[32m[1012 14:10:11 @monitor.py:467]\u001b[0m GAN_loss/discrim/accuracy_fake: 0.936\n",
      "\u001b[32m[1012 14:10:11 @monitor.py:467]\u001b[0m GAN_loss/discrim/accuracy_real: 0.116\n",
      "\u001b[32m[1012 14:10:11 @monitor.py:467]\u001b[0m GAN_loss/discrim/loss: 0.65009\n",
      "\u001b[32m[1012 14:10:11 @monitor.py:467]\u001b[0m GAN_loss/gen/final-g-loss: 1.0057\n",
      "\u001b[32m[1012 14:10:11 @monitor.py:467]\u001b[0m GAN_loss/gen/klloss: 0.067611\n",
      "\u001b[32m[1012 14:10:11 @monitor.py:467]\u001b[0m GAN_loss/gen/loss: 0.93809\n",
      "\u001b[32m[1012 14:10:11 @monitor.py:467]\u001b[0m QueueInput/queue_size: 50\n",
      "\u001b[32m[1012 14:10:11 @base.py:275]\u001b[0m Start Epoch 76 ...\n"
     ]
    },
    {
     "name": "stderr",
     "output_type": "stream",
     "text": [
      "\n",
      "100%|################################################################################|175/175[00:05<00:00,32.16it/s]"
     ]
    },
    {
     "name": "stdout",
     "output_type": "stream",
     "text": [
      "\u001b[32m[1012 14:10:17 @base.py:285]\u001b[0m Epoch 76 (global_step 13300) finished, time:5.44 seconds.\n",
      "\u001b[32m[1012 14:10:17 @saver.py:79]\u001b[0m Model saved to ../output/Chicago/DATGAN_tmp2/model\\model-13300.\n",
      "\u001b[32m[1012 14:10:17 @monitor.py:467]\u001b[0m GAN_loss/discrim/accuracy_fake: 0.95\n",
      "\u001b[32m[1012 14:10:17 @monitor.py:467]\u001b[0m GAN_loss/discrim/accuracy_real: 0.098\n",
      "\u001b[32m[1012 14:10:17 @monitor.py:467]\u001b[0m GAN_loss/discrim/loss: 0.64708\n",
      "\u001b[32m[1012 14:10:17 @monitor.py:467]\u001b[0m GAN_loss/gen/final-g-loss: 1.0196\n",
      "\u001b[32m[1012 14:10:17 @monitor.py:467]\u001b[0m GAN_loss/gen/klloss: 0.086641\n",
      "\u001b[32m[1012 14:10:17 @monitor.py:467]\u001b[0m GAN_loss/gen/loss: 0.93292\n",
      "\u001b[32m[1012 14:10:17 @monitor.py:467]\u001b[0m QueueInput/queue_size: 50\n",
      "\u001b[32m[1012 14:10:17 @base.py:275]\u001b[0m Start Epoch 77 ...\n"
     ]
    },
    {
     "name": "stderr",
     "output_type": "stream",
     "text": [
      "\n",
      "100%|################################################################################|175/175[00:05<00:00,32.14it/s]"
     ]
    },
    {
     "name": "stdout",
     "output_type": "stream",
     "text": [
      "\u001b[32m[1012 14:10:22 @base.py:285]\u001b[0m Epoch 77 (global_step 13475) finished, time:5.45 seconds.\n"
     ]
    },
    {
     "name": "stderr",
     "output_type": "stream",
     "text": [
      "\n"
     ]
    },
    {
     "name": "stdout",
     "output_type": "stream",
     "text": [
      "\u001b[32m[1012 14:10:22 @saver.py:79]\u001b[0m Model saved to ../output/Chicago/DATGAN_tmp2/model\\model-13475.\n",
      "\u001b[32m[1012 14:10:22 @monitor.py:467]\u001b[0m GAN_loss/discrim/accuracy_fake: 0.952\n",
      "\u001b[32m[1012 14:10:22 @monitor.py:467]\u001b[0m GAN_loss/discrim/accuracy_real: 0.1\n",
      "\u001b[32m[1012 14:10:22 @monitor.py:467]\u001b[0m GAN_loss/discrim/loss: 0.64498\n",
      "\u001b[32m[1012 14:10:22 @monitor.py:467]\u001b[0m GAN_loss/gen/final-g-loss: 1.0007\n",
      "\u001b[32m[1012 14:10:22 @monitor.py:467]\u001b[0m GAN_loss/gen/klloss: 0.056803\n",
      "\u001b[32m[1012 14:10:22 @monitor.py:467]\u001b[0m GAN_loss/gen/loss: 0.94394\n",
      "\u001b[32m[1012 14:10:22 @monitor.py:467]\u001b[0m QueueInput/queue_size: 50\n",
      "\u001b[32m[1012 14:10:22 @base.py:275]\u001b[0m Start Epoch 78 ...\n"
     ]
    },
    {
     "name": "stderr",
     "output_type": "stream",
     "text": [
      "100%|################################################################################|175/175[00:05<00:00,32.15it/s]"
     ]
    },
    {
     "name": "stdout",
     "output_type": "stream",
     "text": [
      "\u001b[32m[1012 14:10:28 @base.py:285]\u001b[0m Epoch 78 (global_step 13650) finished, time:5.44 seconds.\n",
      "\u001b[32m[1012 14:10:28 @saver.py:79]\u001b[0m Model saved to ../output/Chicago/DATGAN_tmp2/model\\model-13650.\n",
      "\u001b[32m[1012 14:10:28 @monitor.py:467]\u001b[0m GAN_loss/discrim/accuracy_fake: 0.928\n",
      "\u001b[32m[1012 14:10:28 @monitor.py:467]\u001b[0m GAN_loss/discrim/accuracy_real: 0.09\n",
      "\u001b[32m[1012 14:10:28 @monitor.py:467]\u001b[0m GAN_loss/discrim/loss: 0.64459\n",
      "\u001b[32m[1012 14:10:28 @monitor.py:467]\u001b[0m GAN_loss/gen/final-g-loss: 1.0615\n",
      "\u001b[32m[1012 14:10:28 @monitor.py:467]\u001b[0m GAN_loss/gen/klloss: 0.11701\n",
      "\u001b[32m[1012 14:10:28 @monitor.py:467]\u001b[0m GAN_loss/gen/loss: 0.94451\n",
      "\u001b[32m[1012 14:10:28 @monitor.py:467]\u001b[0m QueueInput/queue_size: 50\n",
      "\u001b[32m[1012 14:10:28 @base.py:275]\u001b[0m Start Epoch 79 ...\n"
     ]
    },
    {
     "name": "stderr",
     "output_type": "stream",
     "text": [
      "\n",
      "100%|################################################################################|175/175[00:05<00:00,32.14it/s]"
     ]
    },
    {
     "name": "stdout",
     "output_type": "stream",
     "text": [
      "\u001b[32m[1012 14:10:33 @base.py:285]\u001b[0m Epoch 79 (global_step 13825) finished, time:5.45 seconds.\n",
      "\u001b[32m[1012 14:10:34 @saver.py:79]\u001b[0m Model saved to ../output/Chicago/DATGAN_tmp2/model\\model-13825.\n",
      "\u001b[32m[1012 14:10:34 @monitor.py:467]\u001b[0m GAN_loss/discrim/accuracy_fake: 0.942\n",
      "\u001b[32m[1012 14:10:34 @monitor.py:467]\u001b[0m GAN_loss/discrim/accuracy_real: 0.082\n",
      "\u001b[32m[1012 14:10:34 @monitor.py:467]\u001b[0m GAN_loss/discrim/loss: 0.64489\n",
      "\u001b[32m[1012 14:10:34 @monitor.py:467]\u001b[0m GAN_loss/gen/final-g-loss: 1.0012\n",
      "\u001b[32m[1012 14:10:34 @monitor.py:467]\u001b[0m GAN_loss/gen/klloss: 0.056925\n",
      "\u001b[32m[1012 14:10:34 @monitor.py:467]\u001b[0m GAN_loss/gen/loss: 0.94429\n",
      "\u001b[32m[1012 14:10:34 @monitor.py:467]\u001b[0m QueueInput/queue_size: 50\n",
      "\u001b[32m[1012 14:10:34 @base.py:275]\u001b[0m Start Epoch 80 ...\n"
     ]
    },
    {
     "name": "stderr",
     "output_type": "stream",
     "text": [
      "\n",
      "100%|################################################################################|175/175[00:05<00:00,32.11it/s]"
     ]
    },
    {
     "name": "stdout",
     "output_type": "stream",
     "text": [
      "\u001b[32m[1012 14:10:39 @base.py:285]\u001b[0m Epoch 80 (global_step 14000) finished, time:5.45 seconds.\n",
      "\u001b[32m[1012 14:10:39 @saver.py:79]\u001b[0m Model saved to ../output/Chicago/DATGAN_tmp2/model\\model-14000.\n",
      "\u001b[32m[1012 14:10:39 @monitor.py:467]\u001b[0m GAN_loss/discrim/accuracy_fake: 0.928\n",
      "\u001b[32m[1012 14:10:39 @monitor.py:467]\u001b[0m GAN_loss/discrim/accuracy_real: 0.088\n",
      "\u001b[32m[1012 14:10:39 @monitor.py:467]\u001b[0m GAN_loss/discrim/loss: 0.64391\n",
      "\u001b[32m[1012 14:10:39 @monitor.py:467]\u001b[0m GAN_loss/gen/final-g-loss: 1.0006\n",
      "\u001b[32m[1012 14:10:39 @monitor.py:467]\u001b[0m GAN_loss/gen/klloss: 0.062718\n",
      "\u001b[32m[1012 14:10:39 @monitor.py:467]\u001b[0m GAN_loss/gen/loss: 0.93787\n",
      "\u001b[32m[1012 14:10:39 @monitor.py:467]\u001b[0m QueueInput/queue_size: 50\n",
      "\u001b[32m[1012 14:10:39 @base.py:275]\u001b[0m Start Epoch 81 ...\n"
     ]
    },
    {
     "name": "stderr",
     "output_type": "stream",
     "text": [
      "\n",
      "100%|################################################################################|175/175[00:05<00:00,31.05it/s]"
     ]
    },
    {
     "name": "stdout",
     "output_type": "stream",
     "text": [
      "\u001b[32m[1012 14:10:45 @base.py:285]\u001b[0m Epoch 81 (global_step 14175) finished, time:5.64 seconds.\n",
      "\u001b[32m[1012 14:10:45 @saver.py:79]\u001b[0m Model saved to ../output/Chicago/DATGAN_tmp2/model\\model-14175.\n",
      "\u001b[32m[1012 14:10:45 @monitor.py:467]\u001b[0m GAN_loss/discrim/accuracy_fake: 0.952\n",
      "\u001b[32m[1012 14:10:45 @monitor.py:467]\u001b[0m GAN_loss/discrim/accuracy_real: 0.13\n",
      "\u001b[32m[1012 14:10:45 @monitor.py:467]\u001b[0m GAN_loss/discrim/loss: 0.6458\n",
      "\u001b[32m[1012 14:10:45 @monitor.py:467]\u001b[0m GAN_loss/gen/final-g-loss: 0.99645\n",
      "\u001b[32m[1012 14:10:45 @monitor.py:467]\u001b[0m GAN_loss/gen/klloss: 0.054236\n",
      "\u001b[32m[1012 14:10:45 @monitor.py:467]\u001b[0m GAN_loss/gen/loss: 0.94222\n",
      "\u001b[32m[1012 14:10:45 @monitor.py:467]\u001b[0m QueueInput/queue_size: 50\n",
      "\u001b[32m[1012 14:10:45 @base.py:275]\u001b[0m Start Epoch 82 ...\n"
     ]
    },
    {
     "name": "stderr",
     "output_type": "stream",
     "text": [
      "\n",
      "100%|################################################################################|175/175[00:05<00:00,32.10it/s]"
     ]
    },
    {
     "name": "stdout",
     "output_type": "stream",
     "text": [
      "\u001b[32m[1012 14:10:50 @base.py:285]\u001b[0m Epoch 82 (global_step 14350) finished, time:5.45 seconds.\n",
      "\u001b[32m[1012 14:10:50 @saver.py:79]\u001b[0m Model saved to ../output/Chicago/DATGAN_tmp2/model\\model-14350.\n",
      "\u001b[32m[1012 14:10:50 @monitor.py:467]\u001b[0m GAN_loss/discrim/accuracy_fake: 0.924\n",
      "\u001b[32m[1012 14:10:50 @monitor.py:467]\u001b[0m GAN_loss/discrim/accuracy_real: 0.1\n",
      "\u001b[32m[1012 14:10:50 @monitor.py:467]\u001b[0m GAN_loss/discrim/loss: 0.64626\n",
      "\u001b[32m[1012 14:10:50 @monitor.py:467]\u001b[0m GAN_loss/gen/final-g-loss: 1.0028\n",
      "\u001b[32m[1012 14:10:50 @monitor.py:467]\u001b[0m GAN_loss/gen/klloss: 0.067045\n",
      "\u001b[32m[1012 14:10:50 @monitor.py:467]\u001b[0m GAN_loss/gen/loss: 0.93573\n",
      "\u001b[32m[1012 14:10:50 @monitor.py:467]\u001b[0m QueueInput/queue_size: 50\n",
      "\u001b[32m[1012 14:10:50 @base.py:275]\u001b[0m Start Epoch 83 ...\n"
     ]
    },
    {
     "name": "stderr",
     "output_type": "stream",
     "text": [
      "\n",
      "100%|################################################################################|175/175[00:05<00:00,32.15it/s]"
     ]
    },
    {
     "name": "stdout",
     "output_type": "stream",
     "text": [
      "\u001b[32m[1012 14:10:56 @base.py:285]\u001b[0m Epoch 83 (global_step 14525) finished, time:5.44 seconds.\n",
      "\u001b[32m[1012 14:10:56 @saver.py:79]\u001b[0m Model saved to ../output/Chicago/DATGAN_tmp2/model\\model-14525.\n",
      "\u001b[32m[1012 14:10:56 @monitor.py:467]\u001b[0m GAN_loss/discrim/accuracy_fake: 0.944\n",
      "\u001b[32m[1012 14:10:56 @monitor.py:467]\u001b[0m GAN_loss/discrim/accuracy_real: 0.116\n",
      "\u001b[32m[1012 14:10:56 @monitor.py:467]\u001b[0m GAN_loss/discrim/loss: 0.63867\n",
      "\u001b[32m[1012 14:10:56 @monitor.py:467]\u001b[0m GAN_loss/gen/final-g-loss: 1.0263\n",
      "\u001b[32m[1012 14:10:56 @monitor.py:467]\u001b[0m GAN_loss/gen/klloss: 0.071616\n",
      "\u001b[32m[1012 14:10:56 @monitor.py:467]\u001b[0m GAN_loss/gen/loss: 0.95471\n",
      "\u001b[32m[1012 14:10:56 @monitor.py:467]\u001b[0m QueueInput/queue_size: 50\n",
      "\u001b[32m[1012 14:10:56 @base.py:275]\u001b[0m Start Epoch 84 ...\n"
     ]
    },
    {
     "name": "stderr",
     "output_type": "stream",
     "text": [
      "\n",
      "100%|################################################################################|175/175[00:05<00:00,32.10it/s]"
     ]
    },
    {
     "name": "stdout",
     "output_type": "stream",
     "text": [
      "\u001b[32m[1012 14:11:01 @base.py:285]\u001b[0m Epoch 84 (global_step 14700) finished, time:5.45 seconds.\n",
      "\u001b[32m[1012 14:11:01 @saver.py:79]\u001b[0m Model saved to ../output/Chicago/DATGAN_tmp2/model\\model-14700.\n",
      "\u001b[32m[1012 14:11:02 @monitor.py:467]\u001b[0m GAN_loss/discrim/accuracy_fake: 0.952\n",
      "\u001b[32m[1012 14:11:02 @monitor.py:467]\u001b[0m GAN_loss/discrim/accuracy_real: 0.094\n",
      "\u001b[32m[1012 14:11:02 @monitor.py:467]\u001b[0m GAN_loss/discrim/loss: 0.64405\n",
      "\u001b[32m[1012 14:11:02 @monitor.py:467]\u001b[0m GAN_loss/gen/final-g-loss: 1.0092\n",
      "\u001b[32m[1012 14:11:02 @monitor.py:467]\u001b[0m GAN_loss/gen/klloss: 0.056093\n",
      "\u001b[32m[1012 14:11:02 @monitor.py:467]\u001b[0m GAN_loss/gen/loss: 0.95314\n",
      "\u001b[32m[1012 14:11:02 @monitor.py:467]\u001b[0m QueueInput/queue_size: 50\n",
      "\u001b[32m[1012 14:11:02 @base.py:275]\u001b[0m Start Epoch 85 ...\n"
     ]
    },
    {
     "name": "stderr",
     "output_type": "stream",
     "text": [
      "\n",
      "100%|################################################################################|175/175[00:05<00:00,32.16it/s]"
     ]
    },
    {
     "name": "stdout",
     "output_type": "stream",
     "text": [
      "\u001b[32m[1012 14:11:07 @base.py:285]\u001b[0m Epoch 85 (global_step 14875) finished, time:5.44 seconds.\n"
     ]
    },
    {
     "name": "stderr",
     "output_type": "stream",
     "text": [
      "\n"
     ]
    },
    {
     "name": "stdout",
     "output_type": "stream",
     "text": [
      "\u001b[32m[1012 14:11:07 @saver.py:79]\u001b[0m Model saved to ../output/Chicago/DATGAN_tmp2/model\\model-14875.\n",
      "\u001b[32m[1012 14:11:07 @monitor.py:467]\u001b[0m GAN_loss/discrim/accuracy_fake: 0.932\n",
      "\u001b[32m[1012 14:11:07 @monitor.py:467]\u001b[0m GAN_loss/discrim/accuracy_real: 0.144\n",
      "\u001b[32m[1012 14:11:07 @monitor.py:467]\u001b[0m GAN_loss/discrim/loss: 0.64223\n",
      "\u001b[32m[1012 14:11:07 @monitor.py:467]\u001b[0m GAN_loss/gen/final-g-loss: 0.99983\n",
      "\u001b[32m[1012 14:11:07 @monitor.py:467]\u001b[0m GAN_loss/gen/klloss: 0.059571\n",
      "\u001b[32m[1012 14:11:07 @monitor.py:467]\u001b[0m GAN_loss/gen/loss: 0.94026\n",
      "\u001b[32m[1012 14:11:07 @monitor.py:467]\u001b[0m QueueInput/queue_size: 50\n",
      "\u001b[32m[1012 14:11:07 @base.py:275]\u001b[0m Start Epoch 86 ...\n"
     ]
    },
    {
     "name": "stderr",
     "output_type": "stream",
     "text": [
      "100%|################################################################################|175/175[00:05<00:00,32.10it/s]"
     ]
    },
    {
     "name": "stdout",
     "output_type": "stream",
     "text": [
      "\u001b[32m[1012 14:11:13 @base.py:285]\u001b[0m Epoch 86 (global_step 15050) finished, time:5.45 seconds.\n",
      "\u001b[32m[1012 14:11:13 @saver.py:79]\u001b[0m Model saved to ../output/Chicago/DATGAN_tmp2/model\\model-15050.\n",
      "\u001b[32m[1012 14:11:13 @monitor.py:467]\u001b[0m GAN_loss/discrim/accuracy_fake: 0.922\n",
      "\u001b[32m[1012 14:11:13 @monitor.py:467]\u001b[0m GAN_loss/discrim/accuracy_real: 0.112\n",
      "\u001b[32m[1012 14:11:13 @monitor.py:467]\u001b[0m GAN_loss/discrim/loss: 0.64521\n",
      "\u001b[32m[1012 14:11:13 @monitor.py:467]\u001b[0m GAN_loss/gen/final-g-loss: 0.99679\n",
      "\u001b[32m[1012 14:11:13 @monitor.py:467]\u001b[0m GAN_loss/gen/klloss: 0.054779\n",
      "\u001b[32m[1012 14:11:13 @monitor.py:467]\u001b[0m GAN_loss/gen/loss: 0.94201\n",
      "\u001b[32m[1012 14:11:13 @monitor.py:467]\u001b[0m QueueInput/queue_size: 50\n",
      "\u001b[32m[1012 14:11:13 @base.py:275]\u001b[0m Start Epoch 87 ...\n"
     ]
    },
    {
     "name": "stderr",
     "output_type": "stream",
     "text": [
      "\n",
      "100%|################################################################################|175/175[00:05<00:00,32.10it/s]"
     ]
    },
    {
     "name": "stdout",
     "output_type": "stream",
     "text": [
      "\u001b[32m[1012 14:11:18 @base.py:285]\u001b[0m Epoch 87 (global_step 15225) finished, time:5.45 seconds.\n",
      "\u001b[32m[1012 14:11:18 @saver.py:79]\u001b[0m Model saved to ../output/Chicago/DATGAN_tmp2/model\\model-15225.\n",
      "\u001b[32m[1012 14:11:18 @monitor.py:467]\u001b[0m GAN_loss/discrim/accuracy_fake: 0.948\n",
      "\u001b[32m[1012 14:11:18 @monitor.py:467]\u001b[0m GAN_loss/discrim/accuracy_real: 0.114\n",
      "\u001b[32m[1012 14:11:18 @monitor.py:467]\u001b[0m GAN_loss/discrim/loss: 0.64146\n",
      "\u001b[32m[1012 14:11:18 @monitor.py:467]\u001b[0m GAN_loss/gen/final-g-loss: 1.0279\n",
      "\u001b[32m[1012 14:11:18 @monitor.py:467]\u001b[0m GAN_loss/gen/klloss: 0.065333\n",
      "\u001b[32m[1012 14:11:18 @monitor.py:467]\u001b[0m GAN_loss/gen/loss: 0.96259\n",
      "\u001b[32m[1012 14:11:18 @monitor.py:467]\u001b[0m QueueInput/queue_size: 50\n",
      "\u001b[32m[1012 14:11:18 @base.py:275]\u001b[0m Start Epoch 88 ...\n"
     ]
    },
    {
     "name": "stderr",
     "output_type": "stream",
     "text": [
      "\n",
      "100%|################################################################################|175/175[00:05<00:00,32.01it/s]"
     ]
    },
    {
     "name": "stdout",
     "output_type": "stream",
     "text": [
      "\u001b[32m[1012 14:11:24 @base.py:285]\u001b[0m Epoch 88 (global_step 15400) finished, time:5.47 seconds.\n",
      "\u001b[32m[1012 14:11:24 @saver.py:79]\u001b[0m Model saved to ../output/Chicago/DATGAN_tmp2/model\\model-15400.\n",
      "\u001b[32m[1012 14:11:24 @monitor.py:467]\u001b[0m GAN_loss/discrim/accuracy_fake: 0.946\n",
      "\u001b[32m[1012 14:11:24 @monitor.py:467]\u001b[0m GAN_loss/discrim/accuracy_real: 0.094\n",
      "\u001b[32m[1012 14:11:24 @monitor.py:467]\u001b[0m GAN_loss/discrim/loss: 0.64412\n",
      "\u001b[32m[1012 14:11:24 @monitor.py:467]\u001b[0m GAN_loss/gen/final-g-loss: 1.0138\n",
      "\u001b[32m[1012 14:11:24 @monitor.py:467]\u001b[0m GAN_loss/gen/klloss: 0.066743\n",
      "\u001b[32m[1012 14:11:24 @monitor.py:467]\u001b[0m GAN_loss/gen/loss: 0.94705\n",
      "\u001b[32m[1012 14:11:24 @monitor.py:467]\u001b[0m QueueInput/queue_size: 50\n",
      "\u001b[32m[1012 14:11:24 @base.py:275]\u001b[0m Start Epoch 89 ...\n"
     ]
    },
    {
     "name": "stderr",
     "output_type": "stream",
     "text": [
      "\n",
      "100%|################################################################################|175/175[00:05<00:00,32.00it/s]"
     ]
    },
    {
     "name": "stdout",
     "output_type": "stream",
     "text": [
      "\u001b[32m[1012 14:11:29 @base.py:285]\u001b[0m Epoch 89 (global_step 15575) finished, time:5.47 seconds.\n",
      "\u001b[32m[1012 14:11:29 @saver.py:79]\u001b[0m Model saved to ../output/Chicago/DATGAN_tmp2/model\\model-15575.\n",
      "\u001b[32m[1012 14:11:29 @monitor.py:467]\u001b[0m GAN_loss/discrim/accuracy_fake: 0.936\n",
      "\u001b[32m[1012 14:11:29 @monitor.py:467]\u001b[0m GAN_loss/discrim/accuracy_real: 0.104\n",
      "\u001b[32m[1012 14:11:29 @monitor.py:467]\u001b[0m GAN_loss/discrim/loss: 0.64458\n",
      "\u001b[32m[1012 14:11:29 @monitor.py:467]\u001b[0m GAN_loss/gen/final-g-loss: 1.0089\n",
      "\u001b[32m[1012 14:11:29 @monitor.py:467]\u001b[0m GAN_loss/gen/klloss: 0.065884\n",
      "\u001b[32m[1012 14:11:29 @monitor.py:467]\u001b[0m GAN_loss/gen/loss: 0.94302\n",
      "\u001b[32m[1012 14:11:29 @monitor.py:467]\u001b[0m QueueInput/queue_size: 50\n",
      "\u001b[32m[1012 14:11:29 @base.py:275]\u001b[0m Start Epoch 90 ...\n"
     ]
    },
    {
     "name": "stderr",
     "output_type": "stream",
     "text": [
      "\n",
      "100%|################################################################################|175/175[00:05<00:00,31.81it/s]"
     ]
    },
    {
     "name": "stdout",
     "output_type": "stream",
     "text": [
      "\u001b[32m[1012 14:11:35 @base.py:285]\u001b[0m Epoch 90 (global_step 15750) finished, time:5.5 seconds.\n",
      "\u001b[32m[1012 14:11:35 @saver.py:79]\u001b[0m Model saved to ../output/Chicago/DATGAN_tmp2/model\\model-15750.\n",
      "\u001b[32m[1012 14:11:35 @monitor.py:467]\u001b[0m GAN_loss/discrim/accuracy_fake: 0.948\n",
      "\u001b[32m[1012 14:11:35 @monitor.py:467]\u001b[0m GAN_loss/discrim/accuracy_real: 0.084\n",
      "\u001b[32m[1012 14:11:35 @monitor.py:467]\u001b[0m GAN_loss/discrim/loss: 0.64629\n",
      "\u001b[32m[1012 14:11:35 @monitor.py:467]\u001b[0m GAN_loss/gen/final-g-loss: 1.0097\n",
      "\u001b[32m[1012 14:11:35 @monitor.py:467]\u001b[0m GAN_loss/gen/klloss: 0.058653\n",
      "\u001b[32m[1012 14:11:35 @monitor.py:467]\u001b[0m GAN_loss/gen/loss: 0.95107\n",
      "\u001b[32m[1012 14:11:35 @monitor.py:467]\u001b[0m QueueInput/queue_size: 50\n",
      "\u001b[32m[1012 14:11:35 @base.py:275]\u001b[0m Start Epoch 91 ...\n"
     ]
    },
    {
     "name": "stderr",
     "output_type": "stream",
     "text": [
      "\n",
      "100%|################################################################################|175/175[00:05<00:00,32.03it/s]"
     ]
    },
    {
     "name": "stdout",
     "output_type": "stream",
     "text": [
      "\u001b[32m[1012 14:11:40 @base.py:285]\u001b[0m Epoch 91 (global_step 15925) finished, time:5.46 seconds.\n",
      "\u001b[32m[1012 14:11:40 @saver.py:79]\u001b[0m Model saved to ../output/Chicago/DATGAN_tmp2/model\\model-15925.\n",
      "\u001b[32m[1012 14:11:40 @monitor.py:467]\u001b[0m GAN_loss/discrim/accuracy_fake: 0.946\n",
      "\u001b[32m[1012 14:11:40 @monitor.py:467]\u001b[0m GAN_loss/discrim/accuracy_real: 0.096\n",
      "\u001b[32m[1012 14:11:40 @monitor.py:467]\u001b[0m GAN_loss/discrim/loss: 0.6472\n",
      "\u001b[32m[1012 14:11:40 @monitor.py:467]\u001b[0m GAN_loss/gen/final-g-loss: 1.005\n",
      "\u001b[32m[1012 14:11:40 @monitor.py:467]\u001b[0m GAN_loss/gen/klloss: 0.059721\n",
      "\u001b[32m[1012 14:11:40 @monitor.py:467]\u001b[0m GAN_loss/gen/loss: 0.94525\n",
      "\u001b[32m[1012 14:11:40 @monitor.py:467]\u001b[0m QueueInput/queue_size: 50\n",
      "\u001b[32m[1012 14:11:40 @base.py:275]\u001b[0m Start Epoch 92 ...\n"
     ]
    },
    {
     "name": "stderr",
     "output_type": "stream",
     "text": [
      "\n",
      "100%|################################################################################|175/175[00:05<00:00,31.96it/s]"
     ]
    },
    {
     "name": "stdout",
     "output_type": "stream",
     "text": [
      "\u001b[32m[1012 14:11:46 @base.py:285]\u001b[0m Epoch 92 (global_step 16100) finished, time:5.48 seconds.\n",
      "\u001b[32m[1012 14:11:46 @saver.py:79]\u001b[0m Model saved to ../output/Chicago/DATGAN_tmp2/model\\model-16100.\n",
      "\u001b[32m[1012 14:11:46 @monitor.py:467]\u001b[0m GAN_loss/discrim/accuracy_fake: 0.956\n",
      "\u001b[32m[1012 14:11:46 @monitor.py:467]\u001b[0m GAN_loss/discrim/accuracy_real: 0.116\n",
      "\u001b[32m[1012 14:11:46 @monitor.py:467]\u001b[0m GAN_loss/discrim/loss: 0.64324\n",
      "\u001b[32m[1012 14:11:46 @monitor.py:467]\u001b[0m GAN_loss/gen/final-g-loss: 1.0042\n",
      "\u001b[32m[1012 14:11:46 @monitor.py:467]\u001b[0m GAN_loss/gen/klloss: 0.056111\n",
      "\u001b[32m[1012 14:11:46 @monitor.py:467]\u001b[0m GAN_loss/gen/loss: 0.94805\n",
      "\u001b[32m[1012 14:11:46 @monitor.py:467]\u001b[0m QueueInput/queue_size: 50\n",
      "\u001b[32m[1012 14:11:46 @base.py:275]\u001b[0m Start Epoch 93 ...\n"
     ]
    },
    {
     "name": "stderr",
     "output_type": "stream",
     "text": [
      "\n",
      "100%|################################################################################|175/175[00:05<00:00,32.00it/s]"
     ]
    },
    {
     "name": "stdout",
     "output_type": "stream",
     "text": [
      "\u001b[32m[1012 14:11:52 @base.py:285]\u001b[0m Epoch 93 (global_step 16275) finished, time:5.47 seconds.\n",
      "\u001b[32m[1012 14:11:52 @saver.py:79]\u001b[0m Model saved to ../output/Chicago/DATGAN_tmp2/model\\model-16275.\n",
      "\u001b[32m[1012 14:11:52 @monitor.py:467]\u001b[0m GAN_loss/discrim/accuracy_fake: 0.946\n",
      "\u001b[32m[1012 14:11:52 @monitor.py:467]\u001b[0m GAN_loss/discrim/accuracy_real: 0.08\n",
      "\u001b[32m[1012 14:11:52 @monitor.py:467]\u001b[0m GAN_loss/discrim/loss: 0.64556\n",
      "\u001b[32m[1012 14:11:52 @monitor.py:467]\u001b[0m GAN_loss/gen/final-g-loss: 0.9976\n",
      "\u001b[32m[1012 14:11:52 @monitor.py:467]\u001b[0m GAN_loss/gen/klloss: 0.056018\n",
      "\u001b[32m[1012 14:11:52 @monitor.py:467]\u001b[0m GAN_loss/gen/loss: 0.94158\n",
      "\u001b[32m[1012 14:11:52 @monitor.py:467]\u001b[0m QueueInput/queue_size: 50\n",
      "\u001b[32m[1012 14:11:52 @base.py:275]\u001b[0m Start Epoch 94 ...\n"
     ]
    },
    {
     "name": "stderr",
     "output_type": "stream",
     "text": [
      "\n",
      "100%|################################################################################|175/175[00:05<00:00,31.94it/s]"
     ]
    },
    {
     "name": "stdout",
     "output_type": "stream",
     "text": [
      "\u001b[32m[1012 14:11:57 @base.py:285]\u001b[0m Epoch 94 (global_step 16450) finished, time:5.48 seconds.\n",
      "\u001b[32m[1012 14:11:57 @saver.py:79]\u001b[0m Model saved to ../output/Chicago/DATGAN_tmp2/model\\model-16450.\n",
      "\u001b[32m[1012 14:11:57 @monitor.py:467]\u001b[0m GAN_loss/discrim/accuracy_fake: 0.948\n",
      "\u001b[32m[1012 14:11:57 @monitor.py:467]\u001b[0m GAN_loss/discrim/accuracy_real: 0.102\n",
      "\u001b[32m[1012 14:11:57 @monitor.py:467]\u001b[0m GAN_loss/discrim/loss: 0.64321\n",
      "\u001b[32m[1012 14:11:57 @monitor.py:467]\u001b[0m GAN_loss/gen/final-g-loss: 0.98424\n",
      "\u001b[32m[1012 14:11:57 @monitor.py:467]\u001b[0m GAN_loss/gen/klloss: 0.046237\n",
      "\u001b[32m[1012 14:11:57 @monitor.py:467]\u001b[0m GAN_loss/gen/loss: 0.938\n",
      "\u001b[32m[1012 14:11:57 @monitor.py:467]\u001b[0m QueueInput/queue_size: 50\n",
      "\u001b[32m[1012 14:11:57 @base.py:275]\u001b[0m Start Epoch 95 ...\n"
     ]
    },
    {
     "name": "stderr",
     "output_type": "stream",
     "text": [
      "\n",
      "100%|################################################################################|175/175[00:05<00:00,32.05it/s]"
     ]
    },
    {
     "name": "stdout",
     "output_type": "stream",
     "text": [
      "\u001b[32m[1012 14:12:03 @base.py:285]\u001b[0m Epoch 95 (global_step 16625) finished, time:5.46 seconds.\n",
      "\u001b[32m[1012 14:12:03 @saver.py:79]\u001b[0m Model saved to ../output/Chicago/DATGAN_tmp2/model\\model-16625.\n",
      "\u001b[32m[1012 14:12:03 @monitor.py:467]\u001b[0m GAN_loss/discrim/accuracy_fake: 0.956\n",
      "\u001b[32m[1012 14:12:03 @monitor.py:467]\u001b[0m GAN_loss/discrim/accuracy_real: 0.086\n",
      "\u001b[32m[1012 14:12:03 @monitor.py:467]\u001b[0m GAN_loss/discrim/loss: 0.64159\n",
      "\u001b[32m[1012 14:12:03 @monitor.py:467]\u001b[0m GAN_loss/gen/final-g-loss: 1.0017\n",
      "\u001b[32m[1012 14:12:03 @monitor.py:467]\u001b[0m GAN_loss/gen/klloss: 0.055122\n",
      "\u001b[32m[1012 14:12:03 @monitor.py:467]\u001b[0m GAN_loss/gen/loss: 0.94662\n",
      "\u001b[32m[1012 14:12:03 @monitor.py:467]\u001b[0m QueueInput/queue_size: 50\n",
      "\u001b[32m[1012 14:12:03 @base.py:275]\u001b[0m Start Epoch 96 ...\n"
     ]
    },
    {
     "name": "stderr",
     "output_type": "stream",
     "text": [
      "\n",
      "100%|################################################################################|175/175[00:05<00:00,32.00it/s]"
     ]
    },
    {
     "name": "stdout",
     "output_type": "stream",
     "text": [
      "\u001b[32m[1012 14:12:08 @base.py:285]\u001b[0m Epoch 96 (global_step 16800) finished, time:5.47 seconds.\n",
      "\u001b[32m[1012 14:12:08 @saver.py:79]\u001b[0m Model saved to ../output/Chicago/DATGAN_tmp2/model\\model-16800.\n",
      "\u001b[32m[1012 14:12:08 @monitor.py:467]\u001b[0m GAN_loss/discrim/accuracy_fake: 0.96\n",
      "\u001b[32m[1012 14:12:08 @monitor.py:467]\u001b[0m GAN_loss/discrim/accuracy_real: 0.078\n",
      "\u001b[32m[1012 14:12:08 @monitor.py:467]\u001b[0m GAN_loss/discrim/loss: 0.64409\n",
      "\u001b[32m[1012 14:12:08 @monitor.py:467]\u001b[0m GAN_loss/gen/final-g-loss: 1.0499\n",
      "\u001b[32m[1012 14:12:08 @monitor.py:467]\u001b[0m GAN_loss/gen/klloss: 0.093986\n",
      "\u001b[32m[1012 14:12:08 @monitor.py:467]\u001b[0m GAN_loss/gen/loss: 0.95594\n",
      "\u001b[32m[1012 14:12:08 @monitor.py:467]\u001b[0m QueueInput/queue_size: 50\n",
      "\u001b[32m[1012 14:12:08 @base.py:275]\u001b[0m Start Epoch 97 ...\n"
     ]
    },
    {
     "name": "stderr",
     "output_type": "stream",
     "text": [
      "\n",
      "100%|################################################################################|175/175[00:05<00:00,32.05it/s]"
     ]
    },
    {
     "name": "stdout",
     "output_type": "stream",
     "text": [
      "\u001b[32m[1012 14:12:14 @base.py:285]\u001b[0m Epoch 97 (global_step 16975) finished, time:5.46 seconds.\n",
      "\u001b[32m[1012 14:12:14 @saver.py:79]\u001b[0m Model saved to ../output/Chicago/DATGAN_tmp2/model\\model-16975.\n",
      "\u001b[32m[1012 14:12:14 @monitor.py:467]\u001b[0m GAN_loss/discrim/accuracy_fake: 0.936\n",
      "\u001b[32m[1012 14:12:14 @monitor.py:467]\u001b[0m GAN_loss/discrim/accuracy_real: 0.082\n",
      "\u001b[32m[1012 14:12:14 @monitor.py:467]\u001b[0m GAN_loss/discrim/loss: 0.64594\n",
      "\u001b[32m[1012 14:12:14 @monitor.py:467]\u001b[0m GAN_loss/gen/final-g-loss: 0.98297\n",
      "\u001b[32m[1012 14:12:14 @monitor.py:467]\u001b[0m GAN_loss/gen/klloss: 0.045446\n",
      "\u001b[32m[1012 14:12:14 @monitor.py:467]\u001b[0m GAN_loss/gen/loss: 0.93753\n",
      "\u001b[32m[1012 14:12:14 @monitor.py:467]\u001b[0m QueueInput/queue_size: 50\n",
      "\u001b[32m[1012 14:12:14 @base.py:275]\u001b[0m Start Epoch 98 ...\n"
     ]
    },
    {
     "name": "stderr",
     "output_type": "stream",
     "text": [
      "\n",
      "100%|################################################################################|175/175[00:05<00:00,32.02it/s]"
     ]
    },
    {
     "name": "stdout",
     "output_type": "stream",
     "text": [
      "\u001b[32m[1012 14:12:19 @base.py:285]\u001b[0m Epoch 98 (global_step 17150) finished, time:5.47 seconds.\n",
      "\u001b[32m[1012 14:12:19 @saver.py:79]\u001b[0m Model saved to ../output/Chicago/DATGAN_tmp2/model\\model-17150.\n",
      "\u001b[32m[1012 14:12:19 @monitor.py:467]\u001b[0m GAN_loss/discrim/accuracy_fake: 0.93\n",
      "\u001b[32m[1012 14:12:19 @monitor.py:467]\u001b[0m GAN_loss/discrim/accuracy_real: 0.08\n",
      "\u001b[32m[1012 14:12:20 @monitor.py:467]\u001b[0m GAN_loss/discrim/loss: 0.65018\n",
      "\u001b[32m[1012 14:12:20 @monitor.py:467]\u001b[0m GAN_loss/gen/final-g-loss: 1.0048\n",
      "\u001b[32m[1012 14:12:20 @monitor.py:467]\u001b[0m GAN_loss/gen/klloss: 0.068166\n",
      "\u001b[32m[1012 14:12:20 @monitor.py:467]\u001b[0m GAN_loss/gen/loss: 0.93664\n",
      "\u001b[32m[1012 14:12:20 @monitor.py:467]\u001b[0m QueueInput/queue_size: 50\n",
      "\u001b[32m[1012 14:12:20 @base.py:275]\u001b[0m Start Epoch 99 ...\n"
     ]
    },
    {
     "name": "stderr",
     "output_type": "stream",
     "text": [
      "\n",
      "100%|################################################################################|175/175[00:05<00:00,32.03it/s]"
     ]
    },
    {
     "name": "stdout",
     "output_type": "stream",
     "text": [
      "\u001b[32m[1012 14:12:25 @base.py:285]\u001b[0m Epoch 99 (global_step 17325) finished, time:5.46 seconds.\n",
      "\u001b[32m[1012 14:12:25 @saver.py:79]\u001b[0m Model saved to ../output/Chicago/DATGAN_tmp2/model\\model-17325.\n",
      "\u001b[32m[1012 14:12:25 @monitor.py:467]\u001b[0m GAN_loss/discrim/accuracy_fake: 0.938\n",
      "\u001b[32m[1012 14:12:25 @monitor.py:467]\u001b[0m GAN_loss/discrim/accuracy_real: 0.08\n",
      "\u001b[32m[1012 14:12:25 @monitor.py:467]\u001b[0m GAN_loss/discrim/loss: 0.64967\n",
      "\u001b[32m[1012 14:12:25 @monitor.py:467]\u001b[0m GAN_loss/gen/final-g-loss: 1.0182\n",
      "\u001b[32m[1012 14:12:25 @monitor.py:467]\u001b[0m GAN_loss/gen/klloss: 0.075142\n",
      "\u001b[32m[1012 14:12:25 @monitor.py:467]\u001b[0m GAN_loss/gen/loss: 0.94307\n",
      "\u001b[32m[1012 14:12:25 @monitor.py:467]\u001b[0m QueueInput/queue_size: 50\n",
      "\u001b[32m[1012 14:12:25 @base.py:275]\u001b[0m Start Epoch 100 ...\n"
     ]
    },
    {
     "name": "stderr",
     "output_type": "stream",
     "text": [
      "\n",
      "100%|################################################################################|175/175[00:05<00:00,31.98it/s]"
     ]
    },
    {
     "name": "stdout",
     "output_type": "stream",
     "text": [
      "\u001b[32m[1012 14:12:31 @base.py:285]\u001b[0m Epoch 100 (global_step 17500) finished, time:5.47 seconds.\n",
      "\u001b[32m[1012 14:12:31 @saver.py:79]\u001b[0m Model saved to ../output/Chicago/DATGAN_tmp2/model\\model-17500.\n",
      "\u001b[32m[1012 14:12:31 @monitor.py:467]\u001b[0m GAN_loss/discrim/accuracy_fake: 0.942\n",
      "\u001b[32m[1012 14:12:31 @monitor.py:467]\u001b[0m GAN_loss/discrim/accuracy_real: 0.064\n",
      "\u001b[32m[1012 14:12:31 @monitor.py:467]\u001b[0m GAN_loss/discrim/loss: 0.64507\n",
      "\u001b[32m[1012 14:12:31 @monitor.py:467]\u001b[0m GAN_loss/gen/final-g-loss: 1.0039\n",
      "\u001b[32m[1012 14:12:31 @monitor.py:467]\u001b[0m GAN_loss/gen/klloss: 0.053155\n",
      "\u001b[32m[1012 14:12:31 @monitor.py:467]\u001b[0m GAN_loss/gen/loss: 0.9507\n",
      "\u001b[32m[1012 14:12:31 @monitor.py:467]\u001b[0m QueueInput/queue_size: 50\n",
      "\u001b[32m[1012 14:12:31 @base.py:289]\u001b[0m Training has finished!\n",
      "WARNING:tensorflow:From D:\\Users\\glede\\anaconda3\\envs\\py37\\lib\\site-packages\\tensorpack\\predict\\config.py:101: The name tf.train.ChiefSessionCreator is deprecated. Please use tf.compat.v1.train.ChiefSessionCreator instead.\n",
      "\n",
      "\u001b[32m[1012 14:12:31 @graph.py:282]\u001b[0m \u001b[91mCreating cell for age (in-edges: 0)\n"
     ]
    },
    {
     "name": "stderr",
     "output_type": "stream",
     "text": [
      "\n"
     ]
    },
    {
     "name": "stdout",
     "output_type": "stream",
     "text": [
      "\u001b[32m[1012 14:12:31 @graph.py:282]\u001b[0m \u001b[91mCreating cell for gender (in-edges: 0)\n",
      "\u001b[32m[1012 14:12:31 @graph.py:282]\u001b[0m \u001b[91mCreating cell for travel_dow (in-edges: 0)\n",
      "\u001b[32m[1012 14:12:31 @graph.py:282]\u001b[0m \u001b[91mCreating cell for license (in-edges: 1)\n",
      "\u001b[32m[1012 14:12:31 @graph.py:282]\u001b[0m \u001b[91mCreating cell for education_level (in-edges: 1)\n",
      "\u001b[32m[1012 14:12:31 @graph.py:282]\u001b[0m \u001b[91mCreating cell for work_status (in-edges: 2)\n",
      "\u001b[32m[1012 14:12:31 @graph.py:282]\u001b[0m \u001b[91mCreating cell for hh_income (in-edges: 2)\n",
      "\u001b[32m[1012 14:12:31 @graph.py:282]\u001b[0m \u001b[91mCreating cell for trip_purpose (in-edges: 1)\n",
      "\u001b[32m[1012 14:12:31 @graph.py:282]\u001b[0m \u001b[91mCreating cell for hh_descr (in-edges: 2)\n",
      "\u001b[32m[1012 14:12:31 @graph.py:282]\u001b[0m \u001b[91mCreating cell for hh_size (in-edges: 3)\n",
      "\u001b[32m[1012 14:12:31 @input_source.py:178]\u001b[0m EnqueueThread QueueInput/input_queue Exited.\n",
      "\u001b[32m[1012 14:12:31 @graph.py:282]\u001b[0m \u001b[91mCreating cell for departure_time (in-edges: 1)\n",
      "\u001b[32m[1012 14:12:31 @graph.py:282]\u001b[0m \u001b[91mCreating cell for distance (in-edges: 1)\n",
      "\u001b[32m[1012 14:12:32 @graph.py:282]\u001b[0m \u001b[91mCreating cell for hh_vehicles (in-edges: 2)\n",
      "\u001b[32m[1012 14:12:32 @graph.py:282]\u001b[0m \u001b[91mCreating cell for hh_bikes (in-edges: 2)\n",
      "\u001b[32m[1012 14:12:32 @graph.py:282]\u001b[0m \u001b[91mCreating cell for choice (in-edges: 7)\n",
      "WARNING:tensorflow:From D:\\Users\\glede\\anaconda3\\envs\\py37\\lib\\site-packages\\tensorpack\\tfutils\\collection.py:45: The name tf.get_collection_ref is deprecated. Please use tf.compat.v1.get_collection_ref instead.\n",
      "\n",
      "\u001b[32m[1012 14:12:32 @collection.py:146]\u001b[0m New collections created in tower : tf.GraphKeys.REGULARIZATION_LOSSES\n",
      "\u001b[32m[1012 14:12:32 @collection.py:165]\u001b[0m These collections were modified but restored in : (tf.GraphKeys.SUMMARIES: 0->2)\n",
      "WARNING:tensorflow:From D:\\Users\\glede\\anaconda3\\envs\\py37\\lib\\site-packages\\tensorpack\\tfutils\\sessinit.py:120: The name tf.train.NewCheckpointReader is deprecated. Please use tf.compat.v1.train.NewCheckpointReader instead.\n",
      "\n",
      "WARNING:tensorflow:From D:\\Users\\glede\\anaconda3\\envs\\py37\\lib\\site-packages\\tensorpack\\tfutils\\sessinit.py:127: The name tf.global_variables is deprecated. Please use tf.compat.v1.global_variables instead.\n",
      "\n",
      "\u001b[32m[1012 14:12:32 @sessinit.py:87]\u001b[0m \u001b[5m\u001b[31mWRN\u001b[0m The following variables are in the checkpoint, but not found in the graph: global_step, optimize/beta1_power, optimize/beta2_power\n",
      "INFO:tensorflow:Graph was finalized.\n",
      "INFO:tensorflow:Running local_init_op.\n",
      "INFO:tensorflow:Done running local_init_op.\n",
      "\u001b[32m[1012 14:12:33 @sessinit.py:114]\u001b[0m Restoring checkpoint from ../output/Chicago/DATGAN_tmp2/model\\model-17500 ...\n",
      "INFO:tensorflow:Restoring parameters from ../output/Chicago/DATGAN_tmp2/model\\model-17500\n"
     ]
    }
   ],
   "source": [
    "test = datgan.fit(df, graph)"
   ]
  },
  {
   "cell_type": "code",
   "execution_count": 12,
   "metadata": {},
   "outputs": [
    {
     "name": "stdout",
     "output_type": "stream",
     "text": [
      "\u001b[32m[1012 14:12:41 @model.py:355]\u001b[0m Model saved successfully.\n"
     ]
    }
   ],
   "source": [
    "datgan.save('trained', force=True)"
   ]
  }
 ],
 "metadata": {
  "kernelspec": {
   "display_name": "Python 3",
   "language": "python",
   "name": "python3"
  },
  "language_info": {
   "codemirror_mode": {
    "name": "ipython",
    "version": 3
   },
   "file_extension": ".py",
   "mimetype": "text/x-python",
   "name": "python",
   "nbconvert_exporter": "python",
   "pygments_lexer": "ipython3",
   "version": "3.7.9"
  }
 },
 "nbformat": 4,
 "nbformat_minor": 2
}
