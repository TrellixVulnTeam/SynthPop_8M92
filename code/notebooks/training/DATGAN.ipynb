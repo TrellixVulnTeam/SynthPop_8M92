{
 "cells": [
  {
   "cell_type": "code",
   "execution_count": 1,
   "metadata": {},
   "outputs": [],
   "source": [
    "import os\n",
    "os.chdir('../..')"
   ]
  },
  {
   "cell_type": "code",
   "execution_count": 2,
   "metadata": {},
   "outputs": [
    {
     "name": "stdout",
     "output_type": "stream",
     "text": [
      "3.7.9\n"
     ]
    }
   ],
   "source": [
    "from platform import python_version\n",
    "print(python_version())"
   ]
  },
  {
   "cell_type": "code",
   "execution_count": 3,
   "metadata": {},
   "outputs": [
    {
     "name": "stdout",
     "output_type": "stream",
     "text": [
      "WARNING:tensorflow:From D:\\Users\\glede\\anaconda3\\envs\\py37\\lib\\site-packages\\tensorpack\\callbacks\\hooks.py:17: The name tf.train.SessionRunHook is deprecated. Please use tf.estimator.SessionRunHook instead.\n",
      "\n",
      "WARNING:tensorflow:From D:\\Users\\glede\\anaconda3\\envs\\py37\\lib\\site-packages\\tensorpack\\tfutils\\optimizer.py:18: The name tf.train.Optimizer is deprecated. Please use tf.compat.v1.train.Optimizer instead.\n",
      "\n",
      "WARNING:tensorflow:From D:\\Users\\glede\\anaconda3\\envs\\py37\\lib\\site-packages\\tensorpack\\tfutils\\sesscreate.py:20: The name tf.train.SessionCreator is deprecated. Please use tf.compat.v1.train.SessionCreator instead.\n",
      "\n"
     ]
    }
   ],
   "source": [
    "import numpy as np\n",
    "import pandas as pd\n",
    "\n",
    "import tensorflow as tf\n",
    "\n",
    "import matplotlib.pyplot as plt\n",
    "\n",
    "from modules.datgan_tmp.model import DATGAN\n",
    "#from modules.datgan_preLSTM.model import DATGAN\n",
    "\n",
    "#from modules.datgan_no_att.model import DATGAN\n",
    "import networkx as nx\n",
    "\n",
    "# For the Python notebook\n",
    "%matplotlib inline\n",
    "%reload_ext autoreload\n",
    "%autoreload 2"
   ]
  },
  {
   "cell_type": "code",
   "execution_count": 4,
   "metadata": {},
   "outputs": [],
   "source": [
    "dataset = 'Chicago'"
   ]
  },
  {
   "cell_type": "code",
   "execution_count": 5,
   "metadata": {},
   "outputs": [],
   "source": [
    "df = pd.read_csv('../data/{}/data.csv'.format(dataset), index_col=False)"
   ]
  },
  {
   "cell_type": "code",
   "execution_count": 6,
   "metadata": {},
   "outputs": [
    {
     "data": {
      "text/html": [
       "<div>\n",
       "<style scoped>\n",
       "    .dataframe tbody tr th:only-of-type {\n",
       "        vertical-align: middle;\n",
       "    }\n",
       "\n",
       "    .dataframe tbody tr th {\n",
       "        vertical-align: top;\n",
       "    }\n",
       "\n",
       "    .dataframe thead th {\n",
       "        text-align: right;\n",
       "    }\n",
       "</style>\n",
       "<table border=\"1\" class=\"dataframe\">\n",
       "  <thead>\n",
       "    <tr style=\"text-align: right;\">\n",
       "      <th></th>\n",
       "      <th>choice</th>\n",
       "      <th>travel_dow</th>\n",
       "      <th>trip_purpose</th>\n",
       "      <th>distance</th>\n",
       "      <th>hh_vehicles</th>\n",
       "      <th>hh_size</th>\n",
       "      <th>hh_bikes</th>\n",
       "      <th>hh_descr</th>\n",
       "      <th>hh_income</th>\n",
       "      <th>gender</th>\n",
       "      <th>age</th>\n",
       "      <th>license</th>\n",
       "      <th>education_level</th>\n",
       "      <th>work_status</th>\n",
       "      <th>departure_time</th>\n",
       "    </tr>\n",
       "  </thead>\n",
       "  <tbody>\n",
       "    <tr>\n",
       "      <th>0</th>\n",
       "      <td>drive</td>\n",
       "      <td>7</td>\n",
       "      <td>HOME_OTHER</td>\n",
       "      <td>23.42579</td>\n",
       "      <td>2</td>\n",
       "      <td>2</td>\n",
       "      <td>0</td>\n",
       "      <td>2</td>\n",
       "      <td>6</td>\n",
       "      <td>1</td>\n",
       "      <td>66</td>\n",
       "      <td>1.0</td>\n",
       "      <td>6</td>\n",
       "      <td>FTE</td>\n",
       "      <td>9.333333</td>\n",
       "    </tr>\n",
       "    <tr>\n",
       "      <th>1</th>\n",
       "      <td>drive</td>\n",
       "      <td>7</td>\n",
       "      <td>OTHER</td>\n",
       "      <td>1.71259</td>\n",
       "      <td>2</td>\n",
       "      <td>2</td>\n",
       "      <td>0</td>\n",
       "      <td>2</td>\n",
       "      <td>6</td>\n",
       "      <td>1</td>\n",
       "      <td>66</td>\n",
       "      <td>1.0</td>\n",
       "      <td>6</td>\n",
       "      <td>FTE</td>\n",
       "      <td>12.083333</td>\n",
       "    </tr>\n",
       "    <tr>\n",
       "      <th>2</th>\n",
       "      <td>drive</td>\n",
       "      <td>7</td>\n",
       "      <td>HOME_OTHER</td>\n",
       "      <td>21.77887</td>\n",
       "      <td>2</td>\n",
       "      <td>2</td>\n",
       "      <td>0</td>\n",
       "      <td>2</td>\n",
       "      <td>6</td>\n",
       "      <td>1</td>\n",
       "      <td>66</td>\n",
       "      <td>1.0</td>\n",
       "      <td>6</td>\n",
       "      <td>FTE</td>\n",
       "      <td>15.500000</td>\n",
       "    </tr>\n",
       "    <tr>\n",
       "      <th>3</th>\n",
       "      <td>drive</td>\n",
       "      <td>7</td>\n",
       "      <td>SHOPPING</td>\n",
       "      <td>2.02603</td>\n",
       "      <td>2</td>\n",
       "      <td>2</td>\n",
       "      <td>0</td>\n",
       "      <td>2</td>\n",
       "      <td>6</td>\n",
       "      <td>1</td>\n",
       "      <td>66</td>\n",
       "      <td>1.0</td>\n",
       "      <td>6</td>\n",
       "      <td>FTE</td>\n",
       "      <td>17.500000</td>\n",
       "    </tr>\n",
       "    <tr>\n",
       "      <th>4</th>\n",
       "      <td>drive</td>\n",
       "      <td>7</td>\n",
       "      <td>SHOPPING</td>\n",
       "      <td>0.87691</td>\n",
       "      <td>2</td>\n",
       "      <td>2</td>\n",
       "      <td>0</td>\n",
       "      <td>2</td>\n",
       "      <td>6</td>\n",
       "      <td>1</td>\n",
       "      <td>66</td>\n",
       "      <td>1.0</td>\n",
       "      <td>6</td>\n",
       "      <td>FTE</td>\n",
       "      <td>18.250000</td>\n",
       "    </tr>\n",
       "  </tbody>\n",
       "</table>\n",
       "</div>"
      ],
      "text/plain": [
       "  choice  travel_dow trip_purpose  distance  hh_vehicles  hh_size  hh_bikes  \\\n",
       "0  drive           7   HOME_OTHER  23.42579            2        2         0   \n",
       "1  drive           7        OTHER   1.71259            2        2         0   \n",
       "2  drive           7   HOME_OTHER  21.77887            2        2         0   \n",
       "3  drive           7     SHOPPING   2.02603            2        2         0   \n",
       "4  drive           7     SHOPPING   0.87691            2        2         0   \n",
       "\n",
       "   hh_descr  hh_income  gender  age  license  education_level work_status  \\\n",
       "0         2          6       1   66      1.0                6         FTE   \n",
       "1         2          6       1   66      1.0                6         FTE   \n",
       "2         2          6       1   66      1.0                6         FTE   \n",
       "3         2          6       1   66      1.0                6         FTE   \n",
       "4         2          6       1   66      1.0                6         FTE   \n",
       "\n",
       "   departure_time  \n",
       "0        9.333333  \n",
       "1       12.083333  \n",
       "2       15.500000  \n",
       "3       17.500000  \n",
       "4       18.250000  "
      ]
     },
     "execution_count": 6,
     "metadata": {},
     "output_type": "execute_result"
    }
   ],
   "source": [
    "df.head()"
   ]
  },
  {
   "cell_type": "code",
   "execution_count": 7,
   "metadata": {},
   "outputs": [],
   "source": [
    "if dataset is 'Chicago':\n",
    "    continuous_columns = [\"distance\", \"age\", \"departure_time\"]\n",
    "elif dataset is 'LPMC':\n",
    "    continuous_columns = ['start_time_linear', 'age', 'distance', 'dur_walking', 'dur_cycling', 'dur_pt_access', 'dur_pt_rail', 'dur_pt_bus', 'dur_pt_int', 'dur_driving', 'cost_transit', 'cost_driving_fuel', 'driving_traffic_percent']"
   ]
  },
  {
   "cell_type": "code",
   "execution_count": 8,
   "metadata": {},
   "outputs": [],
   "source": [
    "# personalised graph\n",
    "graph = nx.DiGraph()\n",
    "\n",
    "if dataset is 'Chicago':\n",
    "    graph.add_edges_from([\n",
    "        (\"age\", \"license\"),\n",
    "        (\"age\", \"education_level\"),\n",
    "        (\"gender\", \"work_status\"),\n",
    "        (\"education_level\", \"work_status\"),\n",
    "        (\"education_level\", \"hh_income\"),\n",
    "        (\"work_status\", \"hh_income\"),\n",
    "        (\"hh_income\", \"hh_descr\"),\n",
    "        (\"hh_income\", \"hh_size\"),\n",
    "        (\"hh_size\", \"hh_vehicles\"),\n",
    "        (\"hh_size\", \"hh_bikes\"),\n",
    "        (\"work_status\", \"trip_purpose\"),\n",
    "        (\"trip_purpose\", \"departure_time\"),\n",
    "        (\"trip_purpose\", \"distance\"),\n",
    "        (\"travel_dow\", \"choice\"),\n",
    "        (\"distance\", \"choice\"),\n",
    "        (\"departure_time\", \"choice\"),\n",
    "        (\"hh_vehicles\", \"choice\"),\n",
    "        (\"hh_bikes\", \"choice\"),\n",
    "        (\"license\", \"choice\"),\n",
    "        # Non necessary links\n",
    "        (\"education_level\", \"hh_size\"),\n",
    "        (\"work_status\", \"hh_descr\"),\n",
    "        (\"work_status\", \"hh_size\"),\n",
    "        (\"hh_income\", \"hh_bikes\"),\n",
    "        (\"hh_income\", \"hh_vehicles\"),\n",
    "        (\"trip_purpose\", \"choice\")\n",
    "    ])\n",
    "elif dataset is 'LPMC':\n",
    "    graph.add_edges_from([\n",
    "        (\"travel_year\", \"survey_year\"),\n",
    "        (\"travel_date\", \"day_of_week\"),\n",
    "        (\"day_of_week\", \"purpose\"),\n",
    "        (\"purpose\", \"start_time_linear\"),\n",
    "        (\"purpose\", \"cost_driving_con_charge\"),\n",
    "        (\"purpose\", \"distance\"),\n",
    "        (\"day_of_week\", \"driving_traffic_percent\"),\n",
    "        (\"day_of_week\", \"cost_driving_con_charge\"),\n",
    "        (\"start_time_linear\", \"driving_traffic_percent\"),\n",
    "        (\"start_time_linear\", \"cost_driving_con_charge\"),\n",
    "        (\"driving_traffic_percent\", \"cost_driving_con_charge\"),\n",
    "        (\"female\", \"driving_license\"),\n",
    "        (\"age\", \"bus_scale\"),\n",
    "        (\"age\", \"car_ownership\"),\n",
    "        (\"age\", \"driving_license\"),\n",
    "        (\"age\", \"faretype\"),\n",
    "        (\"driving_license\", \"car_ownership\"),\n",
    "        (\"car_ownership\", \"fueltype\"),\n",
    "        (\"fueltype\", \"cost_driving_con_charge\"),\n",
    "        (\"fueltype\", \"cost_driving_fuel\"),\n",
    "        (\"distance\", \"cost_driving_fuel\"),\n",
    "        (\"distance\", \"dur_driving\"),\n",
    "        (\"distance\", \"dur_walking\"),\n",
    "        (\"distance\", \"dur_cycling\"),\n",
    "        (\"distance\", \"dur_pt_access\"),\n",
    "        (\"distance\", \"dur_pt_rail\"),\n",
    "        (\"distance\", \"dur_pt_bus\"),\n",
    "        (\"distance\", \"dur_pt_int\"),\n",
    "        (\"dur_pt_bus\", \"cost_transit\"),\n",
    "        (\"dur_pt_rail\", \"cost_transit\"),\n",
    "        (\"pt_n_interchanges\", \"dur_pt_int\"),\n",
    "        (\"pt_n_interchanges\", \"cost_transit\"),\n",
    "        (\"faretype\", \"cost_transit\"),\n",
    "        (\"bus_scale\", \"cost_transit\"),\n",
    "        (\"car_ownership\", \"travel_mode\"),\n",
    "        (\"age\", \"travel_mode\"),\n",
    "        (\"cost_driving_con_charge\", \"travel_mode\"),\n",
    "        (\"driving_traffic_percent\", \"travel_mode\"),\n",
    "        (\"female\", \"travel_mode\"),\n",
    "        (\"purpose\", \"travel_mode\"),\n",
    "        (\"cost_transit\", \"travel_mode\"),\n",
    "        (\"cost_driving_fuel\", \"travel_mode\"),\n",
    "        (\"dur_driving\", \"travel_mode\"),\n",
    "        (\"dur_walking\", \"travel_mode\"),\n",
    "        (\"dur_cycling\", \"travel_mode\"),\n",
    "        (\"dur_pt_access\", \"travel_mode\"),\n",
    "        (\"dur_pt_rail\", \"travel_mode\"),\n",
    "        (\"dur_pt_bus\", \"travel_mode\"),\n",
    "        (\"dur_pt_int\", \"travel_mode\")\n",
    "    ])\n",
    "    graph.add_node(\"travel_month\")"
   ]
  },
  {
   "cell_type": "code",
   "execution_count": 9,
   "metadata": {},
   "outputs": [],
   "source": [
    "output_folder = '../output/' + dataset + '/DATGAN_TEST2/'"
   ]
  },
  {
   "cell_type": "code",
   "execution_count": 10,
   "metadata": {},
   "outputs": [],
   "source": [
    "datgan = DATGAN(continuous_columns, max_epoch=100, #steps_per_epoch=2000, \n",
    "                batch_size=500, output=output_folder, gpu=0)"
   ]
  },
  {
   "cell_type": "code",
   "execution_count": 11,
   "metadata": {
    "scrolled": true
   },
   "outputs": [
    {
     "name": "stdout",
     "output_type": "stream",
     "text": [
      "\u001b[32m[1011 14:08:42 @model.py:173]\u001b[0m Preprocessing the data!\n",
      "\u001b[32m[1011 14:08:42 @data.py:444]\u001b[0m Encoding continuous variable \"age\"...\n",
      "\u001b[32m[1011 14:08:42 @data.py:294]\u001b[0m   Found 6 peaks!\n",
      "\u001b[32m[1011 14:08:42 @data.py:302]\u001b[0m   Encoding with 6 components.\n",
      "\u001b[32m[1011 14:09:44 @data.py:321]\u001b[0m   Predictions were done on 6 components => FINISHED!\n",
      "\u001b[32m[1011 14:09:44 @data.py:468]\u001b[0m Encoding categorical variable \"gender\"...\n",
      "\u001b[32m[1011 14:09:44 @data.py:468]\u001b[0m Encoding categorical variable \"travel_dow\"...\n",
      "\u001b[32m[1011 14:09:44 @data.py:468]\u001b[0m Encoding categorical variable \"license\"...\n",
      "\u001b[32m[1011 14:09:44 @data.py:468]\u001b[0m Encoding categorical variable \"education_level\"...\n"
     ]
    },
    {
     "name": "stderr",
     "output_type": "stream",
     "text": [
      "D:\\Users\\glede\\anaconda3\\envs\\py37\\lib\\site-packages\\sklearn\\mixture\\_base.py:282: ConvergenceWarning: Initialization 10 did not converge. Try different init parameters, or increase max_iter, tol or check for degenerate data.\n",
      "  ConvergenceWarning,\n"
     ]
    },
    {
     "name": "stdout",
     "output_type": "stream",
     "text": [
      "\u001b[32m[1011 14:09:44 @data.py:468]\u001b[0m Encoding categorical variable \"work_status\"...\n",
      "\u001b[32m[1011 14:09:44 @data.py:468]\u001b[0m Encoding categorical variable \"hh_income\"...\n",
      "\u001b[32m[1011 14:09:44 @data.py:468]\u001b[0m Encoding categorical variable \"trip_purpose\"...\n",
      "\u001b[32m[1011 14:09:45 @data.py:468]\u001b[0m Encoding categorical variable \"hh_descr\"...\n",
      "\u001b[32m[1011 14:09:45 @data.py:468]\u001b[0m Encoding categorical variable \"hh_size\"...\n",
      "\u001b[32m[1011 14:09:45 @data.py:444]\u001b[0m Encoding continuous variable \"departure_time\"...\n",
      "\u001b[32m[1011 14:09:45 @data.py:294]\u001b[0m   Found 8 peaks!\n",
      "\u001b[32m[1011 14:09:45 @data.py:302]\u001b[0m   Encoding with 8 components.\n",
      "\u001b[32m[1011 14:11:07 @data.py:321]\u001b[0m   Predictions were done on 8 components => FINISHED!\n",
      "\u001b[32m[1011 14:11:07 @data.py:444]\u001b[0m Encoding continuous variable \"distance\"...\n",
      "\u001b[32m[1011 14:11:07 @data.py:294]\u001b[0m   Found 0 peaks!\n",
      "\u001b[32m[1011 14:11:07 @data.py:302]\u001b[0m   Encoding with 10 components.\n"
     ]
    },
    {
     "name": "stderr",
     "output_type": "stream",
     "text": [
      "D:\\Users\\glede\\anaconda3\\envs\\py37\\lib\\site-packages\\sklearn\\mixture\\_base.py:282: ConvergenceWarning: Initialization 10 did not converge. Try different init parameters, or increase max_iter, tol or check for degenerate data.\n",
      "  ConvergenceWarning,\n"
     ]
    },
    {
     "name": "stdout",
     "output_type": "stream",
     "text": [
      "\u001b[32m[1011 14:12:49 @data.py:321]\u001b[0m   Predictions were done on 10 components => FINISHED!\n",
      "\u001b[32m[1011 14:12:49 @data.py:468]\u001b[0m Encoding categorical variable \"hh_vehicles\"...\n",
      "\u001b[32m[1011 14:12:49 @data.py:468]\u001b[0m Encoding categorical variable \"hh_bikes\"...\n",
      "\u001b[32m[1011 14:12:49 @data.py:468]\u001b[0m Encoding categorical variable \"choice\"...\n"
     ]
    },
    {
     "name": "stderr",
     "output_type": "stream",
     "text": [
      "D:\\Users\\glede\\anaconda3\\envs\\py37\\lib\\site-packages\\sklearn\\mixture\\_base.py:282: ConvergenceWarning: Initialization 10 did not converge. Try different init parameters, or increase max_iter, tol or check for degenerate data.\n",
      "  ConvergenceWarning,\n"
     ]
    },
    {
     "name": "stdout",
     "output_type": "stream",
     "text": [
      "\u001b[32m[1011 14:12:49 @model.py:187]\u001b[0m Preprocessed data have been saved!\n",
      "WARNING:tensorflow:From D:\\Users\\glede\\anaconda3\\envs\\py37\\lib\\site-packages\\tensorpack\\graph_builder\\model_desc.py:29: The name tf.get_default_graph is deprecated. Please use tf.compat.v1.get_default_graph instead.\n",
      "\n",
      "WARNING:tensorflow:From D:\\Users\\glede\\anaconda3\\envs\\py37\\lib\\site-packages\\tensorpack\\graph_builder\\model_desc.py:39: The name tf.placeholder is deprecated. Please use tf.compat.v1.placeholder instead.\n",
      "\n",
      "WARNING:tensorflow:From D:\\Users\\glede\\anaconda3\\envs\\py37\\lib\\site-packages\\tensorpack\\input_source\\input_source.py:219: The name tf.FIFOQueue is deprecated. Please use tf.queue.FIFOQueue instead.\n",
      "\n",
      "\u001b[32m[1011 14:12:50 @input_source.py:222]\u001b[0m Setting up the queue 'QueueInput/input_queue' for CPU prefetching ...\n",
      "WARNING:tensorflow:From D:\\Users\\glede\\anaconda3\\envs\\py37\\lib\\site-packages\\tensorpack\\tfutils\\summary.py:237: The name tf.get_variable_scope is deprecated. Please use tf.compat.v1.get_variable_scope instead.\n",
      "\n",
      "WARNING:tensorflow:From D:\\Users\\glede\\anaconda3\\envs\\py37\\lib\\site-packages\\tensorpack\\tfutils\\summary.py:27: The name tf.variable_scope is deprecated. Please use tf.compat.v1.variable_scope instead.\n",
      "\n",
      "WARNING:tensorflow:From D:\\Users\\glede\\anaconda3\\envs\\py37\\lib\\site-packages\\tensorpack\\tfutils\\summary.py:254: The name tf.get_variable is deprecated. Please use tf.compat.v1.get_variable instead.\n",
      "\n",
      "WARNING:tensorflow:From D:\\Users\\glede\\anaconda3\\envs\\py37\\lib\\site-packages\\tensorpack\\tfutils\\summary.py:264: The name tf.summary.scalar is deprecated. Please use tf.compat.v1.summary.scalar instead.\n",
      "\n",
      "WARNING:tensorflow:From D:\\Users\\glede\\anaconda3\\envs\\py37\\lib\\site-packages\\tensorpack\\tfutils\\collection.py:105: The name tf.GraphKeys is deprecated. Please use tf.compat.v1.GraphKeys instead.\n",
      "\n",
      "WARNING:tensorflow:From D:\\Users\\glede\\anaconda3\\envs\\py37\\lib\\site-packages\\tensorpack\\tfutils\\collection.py:33: The name tf.get_collection is deprecated. Please use tf.compat.v1.get_collection instead.\n",
      "\n",
      "WARNING:tensorflow:From C:\\Users\\glede\\Documents\\EPFL\\PhD\\SynthPop\\code\\modules\\datgan_tmp\\graph.py:619: The name tf.random_normal is deprecated. Please use tf.random.normal instead.\n",
      "\n",
      "WARNING:tensorflow:From C:\\Users\\glede\\Documents\\EPFL\\PhD\\SynthPop\\code\\modules\\datgan_tmp\\graph.py:622: The name tf.placeholder_with_default is deprecated. Please use tf.compat.v1.placeholder_with_default instead.\n",
      "\n",
      "WARNING:tensorflow:From C:\\Users\\glede\\Documents\\EPFL\\PhD\\SynthPop\\code\\modules\\datgan_tmp\\graph.py:272: LSTMCell.__init__ (from tensorflow.python.ops.rnn_cell_impl) is deprecated and will be removed in a future version.\n",
      "Instructions for updating:\n",
      "This class is equivalent as tf.keras.layers.LSTMCell, and will be replaced by that in Tensorflow 2.0.\n",
      "\u001b[32m[1011 14:12:50 @graph.py:289]\u001b[0m \u001b[91mCreating cell for age (in-edges: 0)\n",
      "WARNING:tensorflow:From D:\\Users\\glede\\anaconda3\\envs\\py37\\lib\\site-packages\\tensorflow_core\\python\\ops\\rnn_cell_impl.py:958: Layer.add_variable (from tensorflow.python.keras.engine.base_layer) is deprecated and will be removed in a future version.\n",
      "Instructions for updating:\n",
      "Please use `layer.add_weight` method instead.\n",
      "WARNING:tensorflow:From D:\\Users\\glede\\anaconda3\\envs\\py37\\lib\\site-packages\\tensorflow_core\\python\\ops\\rnn_cell_impl.py:962: calling Zeros.__init__ (from tensorflow.python.ops.init_ops) with dtype is deprecated and will be removed in a future version.\n",
      "Instructions for updating:\n",
      "Call initializer instance with the dtype argument instead of passing it to the constructor\n",
      "\u001b[32m[1011 14:12:50 @registry.py:126]\u001b[0m gen/LSTM/00/FC input: [500, 100]\n",
      "WARNING:tensorflow:From D:\\Users\\glede\\anaconda3\\envs\\py37\\lib\\site-packages\\tensorpack\\models\\fc.py:57: The name tf.layers.Dense is deprecated. Please use tf.compat.v1.layers.Dense instead.\n",
      "\n",
      "WARNING:tensorflow:From D:\\Users\\glede\\anaconda3\\envs\\py37\\lib\\site-packages\\tensorpack\\models\\fc.py:67: Layer.apply (from tensorflow.python.keras.engine.base_layer) is deprecated and will be removed in a future version.\n",
      "Instructions for updating:\n",
      "Please use `layer.__call__` method instead.\n",
      "\u001b[32m[1011 14:12:50 @registry.py:134]\u001b[0m gen/LSTM/00/FC output: [500, 100]\n",
      "\u001b[32m[1011 14:12:50 @registry.py:126]\u001b[0m gen/LSTM/00/FC2 input: [500, 100]\n",
      "\u001b[32m[1011 14:12:50 @registry.py:134]\u001b[0m gen/LSTM/00/FC2 output: [500, 1]\n",
      "\u001b[32m[1011 14:12:50 @registry.py:126]\u001b[0m gen/LSTM/01/FC input: [500, 100]\n",
      "\u001b[32m[1011 14:12:50 @registry.py:134]\u001b[0m gen/LSTM/01/FC output: [500, 100]\n",
      "\u001b[32m[1011 14:12:50 @registry.py:126]\u001b[0m gen/LSTM/01/FC2 input: [500, 100]\n",
      "\u001b[32m[1011 14:12:50 @registry.py:134]\u001b[0m gen/LSTM/01/FC2 output: [500, 6]\n",
      "\u001b[32m[1011 14:12:50 @registry.py:126]\u001b[0m gen/LSTM/01/FC3 input: [500, 6]\n",
      "\u001b[32m[1011 14:12:50 @registry.py:134]\u001b[0m gen/LSTM/01/FC3 output: [500, 100]\n",
      "\u001b[32m[1011 14:12:50 @graph.py:289]\u001b[0m \u001b[91mCreating cell for gender (in-edges: 0)\n",
      "\u001b[32m[1011 14:12:50 @registry.py:126]\u001b[0m gen/LSTM/02/FC input: [500, 100]\n",
      "\u001b[32m[1011 14:12:50 @registry.py:134]\u001b[0m gen/LSTM/02/FC output: [500, 100]\n",
      "\u001b[32m[1011 14:12:50 @registry.py:126]\u001b[0m gen/LSTM/02/FC2 input: [500, 100]\n",
      "\u001b[32m[1011 14:12:50 @registry.py:134]\u001b[0m gen/LSTM/02/FC2 output: [500, 2]\n",
      "\u001b[32m[1011 14:12:50 @registry.py:126]\u001b[0m gen/LSTM/02/FC3 input: [500, 2]\n",
      "\u001b[32m[1011 14:12:50 @registry.py:134]\u001b[0m gen/LSTM/02/FC3 output: [500, 100]\n",
      "\u001b[32m[1011 14:12:50 @graph.py:289]\u001b[0m \u001b[91mCreating cell for travel_dow (in-edges: 0)\n",
      "\u001b[32m[1011 14:12:51 @registry.py:126]\u001b[0m gen/LSTM/03/FC input: [500, 100]\n",
      "\u001b[32m[1011 14:12:51 @registry.py:134]\u001b[0m gen/LSTM/03/FC output: [500, 100]\n",
      "\u001b[32m[1011 14:12:51 @registry.py:126]\u001b[0m gen/LSTM/03/FC2 input: [500, 100]\n",
      "\u001b[32m[1011 14:12:51 @registry.py:134]\u001b[0m gen/LSTM/03/FC2 output: [500, 7]\n",
      "\u001b[32m[1011 14:12:51 @registry.py:126]\u001b[0m gen/LSTM/03/FC3 input: [500, 7]\n",
      "\u001b[32m[1011 14:12:51 @registry.py:134]\u001b[0m gen/LSTM/03/FC3 output: [500, 100]\n",
      "\u001b[32m[1011 14:12:51 @graph.py:289]\u001b[0m \u001b[91mCreating cell for license (in-edges: 1)\n",
      "\u001b[32m[1011 14:12:51 @registry.py:126]\u001b[0m gen/LSTM/04/FC input: [500, 100]\n",
      "\u001b[32m[1011 14:12:51 @registry.py:134]\u001b[0m gen/LSTM/04/FC output: [500, 100]\n",
      "\u001b[32m[1011 14:12:51 @registry.py:126]\u001b[0m gen/LSTM/04/FC2 input: [500, 100]\n",
      "\u001b[32m[1011 14:12:51 @registry.py:134]\u001b[0m gen/LSTM/04/FC2 output: [500, 2]\n",
      "\u001b[32m[1011 14:12:51 @registry.py:126]\u001b[0m gen/LSTM/04/FC3 input: [500, 2]\n",
      "\u001b[32m[1011 14:12:51 @registry.py:134]\u001b[0m gen/LSTM/04/FC3 output: [500, 100]\n",
      "\u001b[32m[1011 14:12:51 @graph.py:289]\u001b[0m \u001b[91mCreating cell for education_level (in-edges: 1)\n",
      "\u001b[32m[1011 14:12:51 @registry.py:126]\u001b[0m gen/LSTM/05/FC input: [500, 100]\n",
      "\u001b[32m[1011 14:12:51 @registry.py:134]\u001b[0m gen/LSTM/05/FC output: [500, 100]\n",
      "\u001b[32m[1011 14:12:51 @registry.py:126]\u001b[0m gen/LSTM/05/FC2 input: [500, 100]\n",
      "\u001b[32m[1011 14:12:51 @registry.py:134]\u001b[0m gen/LSTM/05/FC2 output: [500, 6]\n",
      "\u001b[32m[1011 14:12:51 @registry.py:126]\u001b[0m gen/LSTM/05/FC3 input: [500, 6]\n",
      "\u001b[32m[1011 14:12:51 @registry.py:134]\u001b[0m gen/LSTM/05/FC3 output: [500, 100]\n",
      "\u001b[32m[1011 14:12:51 @graph.py:289]\u001b[0m \u001b[91mCreating cell for work_status (in-edges: 2)\n",
      "\u001b[32m[1011 14:12:51 @registry.py:126]\u001b[0m gen/LSTM/06/FC_inputs input: [500, 200]\n",
      "\u001b[32m[1011 14:12:51 @registry.py:134]\u001b[0m gen/LSTM/06/FC_inputs output: [500, 100]\n",
      "\u001b[32m[1011 14:12:51 @registry.py:126]\u001b[0m gen/LSTM/06/FC_attentions input: [500, 200]\n",
      "\u001b[32m[1011 14:12:51 @registry.py:134]\u001b[0m gen/LSTM/06/FC_attentions output: [500, 100]\n",
      "\u001b[32m[1011 14:12:51 @registry.py:126]\u001b[0m gen/LSTM/06/FC_lstm_state_0 input: [500, 200]\n",
      "\u001b[32m[1011 14:12:51 @registry.py:134]\u001b[0m gen/LSTM/06/FC_lstm_state_0 output: [500, 100]\n",
      "\u001b[32m[1011 14:12:51 @registry.py:126]\u001b[0m gen/LSTM/06/FC_lstm_state_1 input: [500, 200]\n",
      "\u001b[32m[1011 14:12:51 @registry.py:134]\u001b[0m gen/LSTM/06/FC_lstm_state_1 output: [500, 100]\n",
      "WARNING:tensorflow:From C:\\Users\\glede\\Documents\\EPFL\\PhD\\SynthPop\\code\\modules\\datgan_tmp\\graph.py:385: The name tf.nn.rnn_cell.LSTMStateTuple is deprecated. Please use tf.compat.v1.nn.rnn_cell.LSTMStateTuple instead.\n",
      "\n",
      "\u001b[32m[1011 14:12:51 @registry.py:126]\u001b[0m gen/LSTM/07/FC input: [500, 100]\n",
      "\u001b[32m[1011 14:12:51 @registry.py:134]\u001b[0m gen/LSTM/07/FC output: [500, 100]\n",
      "\u001b[32m[1011 14:12:51 @registry.py:126]\u001b[0m gen/LSTM/07/FC2 input: [500, 100]\n",
      "\u001b[32m[1011 14:12:51 @registry.py:134]\u001b[0m gen/LSTM/07/FC2 output: [500, 8]\n"
     ]
    },
    {
     "name": "stdout",
     "output_type": "stream",
     "text": [
      "\u001b[32m[1011 14:12:51 @registry.py:126]\u001b[0m gen/LSTM/07/FC3 input: [500, 8]\n",
      "\u001b[32m[1011 14:12:51 @registry.py:134]\u001b[0m gen/LSTM/07/FC3 output: [500, 100]\n",
      "\u001b[32m[1011 14:12:51 @graph.py:289]\u001b[0m \u001b[91mCreating cell for hh_income (in-edges: 2)\n",
      "\u001b[32m[1011 14:12:51 @registry.py:126]\u001b[0m gen/LSTM/08/FC_inputs input: [500, 200]\n",
      "\u001b[32m[1011 14:12:51 @registry.py:134]\u001b[0m gen/LSTM/08/FC_inputs output: [500, 100]\n",
      "\u001b[32m[1011 14:12:51 @registry.py:126]\u001b[0m gen/LSTM/08/FC_attentions input: [500, 200]\n",
      "\u001b[32m[1011 14:12:51 @registry.py:134]\u001b[0m gen/LSTM/08/FC_attentions output: [500, 100]\n",
      "\u001b[32m[1011 14:12:51 @registry.py:126]\u001b[0m gen/LSTM/08/FC_lstm_state_0 input: [500, 200]\n",
      "\u001b[32m[1011 14:12:51 @registry.py:134]\u001b[0m gen/LSTM/08/FC_lstm_state_0 output: [500, 100]\n",
      "\u001b[32m[1011 14:12:51 @registry.py:126]\u001b[0m gen/LSTM/08/FC_lstm_state_1 input: [500, 200]\n",
      "\u001b[32m[1011 14:12:51 @registry.py:134]\u001b[0m gen/LSTM/08/FC_lstm_state_1 output: [500, 100]\n",
      "\u001b[32m[1011 14:12:51 @registry.py:126]\u001b[0m gen/LSTM/09/FC input: [500, 100]\n",
      "\u001b[32m[1011 14:12:51 @registry.py:134]\u001b[0m gen/LSTM/09/FC output: [500, 100]\n",
      "\u001b[32m[1011 14:12:51 @registry.py:126]\u001b[0m gen/LSTM/09/FC2 input: [500, 100]\n",
      "\u001b[32m[1011 14:12:51 @registry.py:134]\u001b[0m gen/LSTM/09/FC2 output: [500, 7]\n",
      "\u001b[32m[1011 14:12:51 @registry.py:126]\u001b[0m gen/LSTM/09/FC3 input: [500, 7]\n",
      "\u001b[32m[1011 14:12:51 @registry.py:134]\u001b[0m gen/LSTM/09/FC3 output: [500, 100]\n",
      "\u001b[32m[1011 14:12:51 @graph.py:289]\u001b[0m \u001b[91mCreating cell for trip_purpose (in-edges: 1)\n",
      "\u001b[32m[1011 14:12:51 @registry.py:126]\u001b[0m gen/LSTM/10/FC input: [500, 100]\n",
      "\u001b[32m[1011 14:12:51 @registry.py:134]\u001b[0m gen/LSTM/10/FC output: [500, 100]\n",
      "\u001b[32m[1011 14:12:51 @registry.py:126]\u001b[0m gen/LSTM/10/FC2 input: [500, 100]\n",
      "\u001b[32m[1011 14:12:51 @registry.py:134]\u001b[0m gen/LSTM/10/FC2 output: [500, 7]\n",
      "\u001b[32m[1011 14:12:51 @registry.py:126]\u001b[0m gen/LSTM/10/FC3 input: [500, 7]\n",
      "\u001b[32m[1011 14:12:51 @registry.py:134]\u001b[0m gen/LSTM/10/FC3 output: [500, 100]\n",
      "\u001b[32m[1011 14:12:51 @graph.py:289]\u001b[0m \u001b[91mCreating cell for hh_descr (in-edges: 2)\n",
      "\u001b[32m[1011 14:12:51 @registry.py:126]\u001b[0m gen/LSTM/11/FC_inputs input: [500, 200]\n",
      "\u001b[32m[1011 14:12:51 @registry.py:134]\u001b[0m gen/LSTM/11/FC_inputs output: [500, 100]\n",
      "\u001b[32m[1011 14:12:51 @registry.py:126]\u001b[0m gen/LSTM/11/FC_attentions input: [500, 200]\n",
      "\u001b[32m[1011 14:12:51 @registry.py:134]\u001b[0m gen/LSTM/11/FC_attentions output: [500, 100]\n",
      "\u001b[32m[1011 14:12:51 @registry.py:126]\u001b[0m gen/LSTM/11/FC_lstm_state_0 input: [500, 200]\n",
      "\u001b[32m[1011 14:12:51 @registry.py:134]\u001b[0m gen/LSTM/11/FC_lstm_state_0 output: [500, 100]\n",
      "\u001b[32m[1011 14:12:51 @registry.py:126]\u001b[0m gen/LSTM/11/FC_lstm_state_1 input: [500, 200]\n",
      "\u001b[32m[1011 14:12:51 @registry.py:134]\u001b[0m gen/LSTM/11/FC_lstm_state_1 output: [500, 100]\n",
      "\u001b[32m[1011 14:12:51 @registry.py:126]\u001b[0m gen/LSTM/12/FC input: [500, 100]\n",
      "\u001b[32m[1011 14:12:51 @registry.py:134]\u001b[0m gen/LSTM/12/FC output: [500, 100]\n",
      "\u001b[32m[1011 14:12:51 @registry.py:126]\u001b[0m gen/LSTM/12/FC2 input: [500, 100]\n",
      "\u001b[32m[1011 14:12:51 @registry.py:134]\u001b[0m gen/LSTM/12/FC2 output: [500, 3]\n",
      "\u001b[32m[1011 14:12:51 @registry.py:126]\u001b[0m gen/LSTM/12/FC3 input: [500, 3]\n",
      "\u001b[32m[1011 14:12:51 @registry.py:134]\u001b[0m gen/LSTM/12/FC3 output: [500, 100]\n",
      "\u001b[32m[1011 14:12:51 @graph.py:289]\u001b[0m \u001b[91mCreating cell for hh_size (in-edges: 3)\n",
      "\u001b[32m[1011 14:12:51 @registry.py:126]\u001b[0m gen/LSTM/13/FC_inputs input: [500, 300]\n",
      "\u001b[32m[1011 14:12:51 @registry.py:134]\u001b[0m gen/LSTM/13/FC_inputs output: [500, 100]\n",
      "\u001b[32m[1011 14:12:51 @registry.py:126]\u001b[0m gen/LSTM/13/FC_attentions input: [500, 300]\n",
      "\u001b[32m[1011 14:12:51 @registry.py:134]\u001b[0m gen/LSTM/13/FC_attentions output: [500, 100]\n",
      "\u001b[32m[1011 14:12:51 @registry.py:126]\u001b[0m gen/LSTM/13/FC_lstm_state_0 input: [500, 300]\n",
      "\u001b[32m[1011 14:12:51 @registry.py:134]\u001b[0m gen/LSTM/13/FC_lstm_state_0 output: [500, 100]\n",
      "\u001b[32m[1011 14:12:51 @registry.py:126]\u001b[0m gen/LSTM/13/FC_lstm_state_1 input: [500, 300]\n",
      "\u001b[32m[1011 14:12:51 @registry.py:134]\u001b[0m gen/LSTM/13/FC_lstm_state_1 output: [500, 100]\n",
      "\u001b[32m[1011 14:12:51 @registry.py:126]\u001b[0m gen/LSTM/14/FC input: [500, 100]\n",
      "\u001b[32m[1011 14:12:51 @registry.py:134]\u001b[0m gen/LSTM/14/FC output: [500, 100]\n",
      "\u001b[32m[1011 14:12:51 @registry.py:126]\u001b[0m gen/LSTM/14/FC2 input: [500, 100]\n",
      "\u001b[32m[1011 14:12:51 @registry.py:134]\u001b[0m gen/LSTM/14/FC2 output: [500, 8]\n",
      "\u001b[32m[1011 14:12:51 @registry.py:126]\u001b[0m gen/LSTM/14/FC3 input: [500, 8]\n",
      "\u001b[32m[1011 14:12:51 @registry.py:134]\u001b[0m gen/LSTM/14/FC3 output: [500, 100]\n",
      "\u001b[32m[1011 14:12:51 @graph.py:289]\u001b[0m \u001b[91mCreating cell for departure_time (in-edges: 1)\n",
      "\u001b[32m[1011 14:12:51 @registry.py:126]\u001b[0m gen/LSTM/15/FC input: [500, 100]\n",
      "\u001b[32m[1011 14:12:51 @registry.py:134]\u001b[0m gen/LSTM/15/FC output: [500, 100]\n",
      "\u001b[32m[1011 14:12:51 @registry.py:126]\u001b[0m gen/LSTM/15/FC2 input: [500, 100]\n",
      "\u001b[32m[1011 14:12:51 @registry.py:134]\u001b[0m gen/LSTM/15/FC2 output: [500, 1]\n",
      "\u001b[32m[1011 14:12:51 @registry.py:126]\u001b[0m gen/LSTM/16/FC input: [500, 100]\n",
      "\u001b[32m[1011 14:12:51 @registry.py:134]\u001b[0m gen/LSTM/16/FC output: [500, 100]\n",
      "\u001b[32m[1011 14:12:51 @registry.py:126]\u001b[0m gen/LSTM/16/FC2 input: [500, 100]\n",
      "\u001b[32m[1011 14:12:51 @registry.py:134]\u001b[0m gen/LSTM/16/FC2 output: [500, 8]\n",
      "\u001b[32m[1011 14:12:51 @registry.py:126]\u001b[0m gen/LSTM/16/FC3 input: [500, 8]\n",
      "\u001b[32m[1011 14:12:51 @registry.py:134]\u001b[0m gen/LSTM/16/FC3 output: [500, 100]\n",
      "\u001b[32m[1011 14:12:51 @graph.py:289]\u001b[0m \u001b[91mCreating cell for distance (in-edges: 1)\n",
      "\u001b[32m[1011 14:12:51 @registry.py:126]\u001b[0m gen/LSTM/17/FC input: [500, 100]\n",
      "\u001b[32m[1011 14:12:51 @registry.py:134]\u001b[0m gen/LSTM/17/FC output: [500, 100]\n",
      "\u001b[32m[1011 14:12:51 @registry.py:126]\u001b[0m gen/LSTM/17/FC2 input: [500, 100]\n",
      "\u001b[32m[1011 14:12:51 @registry.py:134]\u001b[0m gen/LSTM/17/FC2 output: [500, 1]\n",
      "\u001b[32m[1011 14:12:51 @registry.py:126]\u001b[0m gen/LSTM/18/FC input: [500, 100]\n",
      "\u001b[32m[1011 14:12:51 @registry.py:134]\u001b[0m gen/LSTM/18/FC output: [500, 100]\n",
      "\u001b[32m[1011 14:12:51 @registry.py:126]\u001b[0m gen/LSTM/18/FC2 input: [500, 100]\n",
      "\u001b[32m[1011 14:12:51 @registry.py:134]\u001b[0m gen/LSTM/18/FC2 output: [500, 10]\n",
      "\u001b[32m[1011 14:12:51 @registry.py:126]\u001b[0m gen/LSTM/18/FC3 input: [500, 10]\n",
      "\u001b[32m[1011 14:12:51 @registry.py:134]\u001b[0m gen/LSTM/18/FC3 output: [500, 100]\n",
      "\u001b[32m[1011 14:12:51 @graph.py:289]\u001b[0m \u001b[91mCreating cell for hh_vehicles (in-edges: 2)\n",
      "\u001b[32m[1011 14:12:51 @registry.py:126]\u001b[0m gen/LSTM/19/FC_inputs input: [500, 200]\n",
      "\u001b[32m[1011 14:12:51 @registry.py:134]\u001b[0m gen/LSTM/19/FC_inputs output: [500, 100]\n",
      "\u001b[32m[1011 14:12:51 @registry.py:126]\u001b[0m gen/LSTM/19/FC_attentions input: [500, 200]\n",
      "\u001b[32m[1011 14:12:51 @registry.py:134]\u001b[0m gen/LSTM/19/FC_attentions output: [500, 100]\n",
      "\u001b[32m[1011 14:12:51 @registry.py:126]\u001b[0m gen/LSTM/19/FC_lstm_state_0 input: [500, 200]\n",
      "\u001b[32m[1011 14:12:51 @registry.py:134]\u001b[0m gen/LSTM/19/FC_lstm_state_0 output: [500, 100]\n",
      "\u001b[32m[1011 14:12:51 @registry.py:126]\u001b[0m gen/LSTM/19/FC_lstm_state_1 input: [500, 200]\n",
      "\u001b[32m[1011 14:12:51 @registry.py:134]\u001b[0m gen/LSTM/19/FC_lstm_state_1 output: [500, 100]\n",
      "\u001b[32m[1011 14:12:51 @registry.py:126]\u001b[0m gen/LSTM/20/FC input: [500, 100]\n",
      "\u001b[32m[1011 14:12:51 @registry.py:134]\u001b[0m gen/LSTM/20/FC output: [500, 100]\n",
      "\u001b[32m[1011 14:12:51 @registry.py:126]\u001b[0m gen/LSTM/20/FC2 input: [500, 100]\n",
      "\u001b[32m[1011 14:12:51 @registry.py:134]\u001b[0m gen/LSTM/20/FC2 output: [500, 9]\n",
      "\u001b[32m[1011 14:12:51 @registry.py:126]\u001b[0m gen/LSTM/20/FC3 input: [500, 9]\n",
      "\u001b[32m[1011 14:12:51 @registry.py:134]\u001b[0m gen/LSTM/20/FC3 output: [500, 100]\n",
      "\u001b[32m[1011 14:12:51 @graph.py:289]\u001b[0m \u001b[91mCreating cell for hh_bikes (in-edges: 2)\n",
      "\u001b[32m[1011 14:12:51 @registry.py:126]\u001b[0m gen/LSTM/21/FC_inputs input: [500, 200]\n",
      "\u001b[32m[1011 14:12:51 @registry.py:134]\u001b[0m gen/LSTM/21/FC_inputs output: [500, 100]\n",
      "\u001b[32m[1011 14:12:51 @registry.py:126]\u001b[0m gen/LSTM/21/FC_attentions input: [500, 200]\n",
      "\u001b[32m[1011 14:12:51 @registry.py:134]\u001b[0m gen/LSTM/21/FC_attentions output: [500, 100]\n",
      "\u001b[32m[1011 14:12:51 @registry.py:126]\u001b[0m gen/LSTM/21/FC_lstm_state_0 input: [500, 200]\n",
      "\u001b[32m[1011 14:12:51 @registry.py:134]\u001b[0m gen/LSTM/21/FC_lstm_state_0 output: [500, 100]\n",
      "\u001b[32m[1011 14:12:51 @registry.py:126]\u001b[0m gen/LSTM/21/FC_lstm_state_1 input: [500, 200]\n",
      "\u001b[32m[1011 14:12:51 @registry.py:134]\u001b[0m gen/LSTM/21/FC_lstm_state_1 output: [500, 100]\n",
      "\u001b[32m[1011 14:12:51 @registry.py:126]\u001b[0m gen/LSTM/22/FC input: [500, 100]\n",
      "\u001b[32m[1011 14:12:51 @registry.py:134]\u001b[0m gen/LSTM/22/FC output: [500, 100]\n"
     ]
    },
    {
     "name": "stdout",
     "output_type": "stream",
     "text": [
      "\u001b[32m[1011 14:12:51 @registry.py:126]\u001b[0m gen/LSTM/22/FC2 input: [500, 100]\n",
      "\u001b[32m[1011 14:12:52 @registry.py:134]\u001b[0m gen/LSTM/22/FC2 output: [500, 8]\n",
      "\u001b[32m[1011 14:12:52 @registry.py:126]\u001b[0m gen/LSTM/22/FC3 input: [500, 8]\n",
      "\u001b[32m[1011 14:12:52 @registry.py:134]\u001b[0m gen/LSTM/22/FC3 output: [500, 100]\n",
      "\u001b[32m[1011 14:12:52 @graph.py:289]\u001b[0m \u001b[91mCreating cell for choice (in-edges: 7)\n",
      "\u001b[32m[1011 14:12:52 @registry.py:126]\u001b[0m gen/LSTM/23/FC_inputs input: [500, 700]\n",
      "\u001b[32m[1011 14:12:52 @registry.py:134]\u001b[0m gen/LSTM/23/FC_inputs output: [500, 100]\n",
      "\u001b[32m[1011 14:12:52 @registry.py:126]\u001b[0m gen/LSTM/23/FC_attentions input: [500, 700]\n",
      "\u001b[32m[1011 14:12:52 @registry.py:134]\u001b[0m gen/LSTM/23/FC_attentions output: [500, 100]\n",
      "\u001b[32m[1011 14:12:52 @registry.py:126]\u001b[0m gen/LSTM/23/FC_lstm_state_0 input: [500, 700]\n",
      "\u001b[32m[1011 14:12:52 @registry.py:134]\u001b[0m gen/LSTM/23/FC_lstm_state_0 output: [500, 100]\n",
      "\u001b[32m[1011 14:12:52 @registry.py:126]\u001b[0m gen/LSTM/23/FC_lstm_state_1 input: [500, 700]\n",
      "\u001b[32m[1011 14:12:52 @registry.py:134]\u001b[0m gen/LSTM/23/FC_lstm_state_1 output: [500, 100]\n",
      "\u001b[32m[1011 14:12:52 @registry.py:126]\u001b[0m gen/LSTM/24/FC input: [500, 100]\n",
      "\u001b[32m[1011 14:12:52 @registry.py:134]\u001b[0m gen/LSTM/24/FC output: [500, 100]\n",
      "\u001b[32m[1011 14:12:52 @registry.py:126]\u001b[0m gen/LSTM/24/FC2 input: [500, 100]\n",
      "\u001b[32m[1011 14:12:52 @registry.py:134]\u001b[0m gen/LSTM/24/FC2 output: [500, 5]\n",
      "\u001b[32m[1011 14:12:52 @registry.py:126]\u001b[0m gen/LSTM/24/FC3 input: [500, 5]\n",
      "\u001b[32m[1011 14:12:52 @registry.py:134]\u001b[0m gen/LSTM/24/FC3 output: [500, 100]\n",
      "WARNING:tensorflow:From C:\\Users\\glede\\Documents\\EPFL\\PhD\\SynthPop\\code\\modules\\datgan_tmp\\graph.py:691: The name tf.random_uniform is deprecated. Please use tf.random.uniform instead.\n",
      "\n",
      "WARNING:tensorflow:From C:\\Users\\glede\\Documents\\EPFL\\PhD\\SynthPop\\code\\modules\\datgan_tmp\\graph.py:607: The name tf.log is deprecated. Please use tf.math.log instead.\n",
      "\n",
      "\u001b[32m[1011 14:12:52 @registry.py:126]\u001b[0m discrim/dis_fc0/fc input: [500, 99]\n",
      "\u001b[32m[1011 14:12:52 @registry.py:134]\u001b[0m discrim/dis_fc0/fc output: [500, 100]\n",
      "\u001b[32m[1011 14:12:52 @registry.py:126]\u001b[0m discrim/dis_fc0/fc_diversity input: [500, 100]\n",
      "\u001b[32m[1011 14:12:52 @registry.py:134]\u001b[0m discrim/dis_fc0/fc_diversity output: [500, 100]\n",
      "WARNING:tensorflow:From D:\\Users\\glede\\anaconda3\\envs\\py37\\lib\\site-packages\\tensorpack\\models\\batch_norm.py:204: The name tf.layers.BatchNormalization is deprecated. Please use tf.compat.v1.layers.BatchNormalization instead.\n",
      "\n",
      "WARNING:tensorflow:From D:\\Users\\glede\\anaconda3\\envs\\py37\\lib\\site-packages\\tensorpack\\models\\batch_norm.py:212: The name tf.add_to_collection is deprecated. Please use tf.compat.v1.add_to_collection instead.\n",
      "\n",
      "\u001b[32m[1011 14:12:52 @registry.py:126]\u001b[0m discrim/dis_fc_top input: [500, 110]\n",
      "\u001b[32m[1011 14:12:52 @registry.py:134]\u001b[0m discrim/dis_fc_top output: [500, 1]\n",
      "WARNING:tensorflow:From C:\\Users\\glede\\Documents\\EPFL\\PhD\\SynthPop\\code\\modules\\datgan_tmp\\graph.py:102: The name tf.summary.histogram is deprecated. Please use tf.compat.v1.summary.histogram instead.\n",
      "\n",
      "WARNING:tensorflow:From D:\\Users\\glede\\anaconda3\\envs\\py37\\lib\\site-packages\\tensorflow_core\\python\\ops\\nn_impl.py:183: where (from tensorflow.python.ops.array_ops) is deprecated and will be removed in a future version.\n",
      "Instructions for updating:\n",
      "Use tf.where in 2.0, which has the same broadcast rule as np.where\n",
      "WARNING:tensorflow:\n",
      "The TensorFlow contrib module will not be included in TensorFlow 2.0.\n",
      "For more information, please see:\n",
      "  * https://github.com/tensorflow/community/blob/master/rfcs/20180907-contrib-sunset.md\n",
      "  * https://github.com/tensorflow/addons\n",
      "  * https://github.com/tensorflow/io (for I/O related ops)\n",
      "If you depend on functionality not listed there, please file an issue.\n",
      "\n",
      "WARNING:tensorflow:From C:\\Users\\glede\\Documents\\EPFL\\PhD\\SynthPop\\code\\modules\\datgan_tmp\\graph.py:750: The name tf.train.AdamOptimizer is deprecated. Please use tf.compat.v1.train.AdamOptimizer instead.\n",
      "\n",
      "\u001b[32m[1011 14:12:56 @logger.py:90]\u001b[0m Argv: D:\\Users\\glede\\anaconda3\\envs\\py37\\lib\\site-packages\\ipykernel_launcher.py -f C:\\Users\\glede\\AppData\\Roaming\\jupyter\\runtime\\kernel-eeb9e417-4bb8-4462-afd3-b3e1a5313357.json\n",
      "WARNING:tensorflow:From D:\\Users\\glede\\anaconda3\\envs\\py37\\lib\\site-packages\\tensorpack\\callbacks\\saver.py:43: The name tf.gfile.IsDirectory is deprecated. Please use tf.io.gfile.isdir instead.\n",
      "\n",
      "WARNING:tensorflow:From D:\\Users\\glede\\anaconda3\\envs\\py37\\lib\\site-packages\\tensorpack\\callbacks\\saver.py:44: The name tf.gfile.MakeDirs is deprecated. Please use tf.io.gfile.makedirs instead.\n",
      "\n",
      "WARNING:tensorflow:From D:\\Users\\glede\\anaconda3\\envs\\py37\\lib\\site-packages\\tensorpack\\tfutils\\common.py:41: The name tf.ConfigProto is deprecated. Please use tf.compat.v1.ConfigProto instead.\n",
      "\n",
      "\u001b[32m[1011 14:12:56 @model_utils.py:67]\u001b[0m \u001b[36mList of Trainable Variables: \n",
      "\u001b[0mname                              shape         #elements\n",
      "--------------------------------  ----------  -----------\n",
      "gen/LSTM/go_age:0                 [1, 100]            100\n",
      "gen/LSTM/lstm_cell/kernel:0       [500, 400]       200000\n",
      "gen/LSTM/lstm_cell/bias:0         [400]               400\n",
      "gen/LSTM/00/FC/W:0                [100, 100]        10000\n",
      "gen/LSTM/00/FC/b:0                [100]               100\n",
      "gen/LSTM/00/FC2/W:0               [100, 1]            100\n",
      "gen/LSTM/00/FC2/b:0               [1]                   1\n",
      "gen/LSTM/00/attw:0                [1, 1, 1]             1\n",
      "gen/LSTM/01/FC/W:0                [100, 100]        10000\n",
      "gen/LSTM/01/FC/b:0                [100]               100\n",
      "gen/LSTM/01/FC2/W:0               [100, 6]            600\n",
      "gen/LSTM/01/FC2/b:0               [6]                   6\n",
      "gen/LSTM/01/FC3/W:0               [6, 100]            600\n",
      "gen/LSTM/01/FC3/b:0               [100]               100\n",
      "gen/LSTM/01/attw:0                [2, 1, 1]             2\n",
      "gen/LSTM/go_gender:0              [1, 100]            100\n",
      "gen/LSTM/02/FC/W:0                [100, 100]        10000\n",
      "gen/LSTM/02/FC/b:0                [100]               100\n",
      "gen/LSTM/02/FC2/W:0               [100, 2]            200\n",
      "gen/LSTM/02/FC2/b:0               [2]                   2\n",
      "gen/LSTM/02/FC3/W:0               [2, 100]            200\n",
      "gen/LSTM/02/FC3/b:0               [100]               100\n",
      "gen/LSTM/02/attw:0                [1, 1, 1]             1\n",
      "gen/LSTM/go_travel_dow:0          [1, 100]            100\n",
      "gen/LSTM/03/FC/W:0                [100, 100]        10000\n",
      "gen/LSTM/03/FC/b:0                [100]               100\n",
      "gen/LSTM/03/FC2/W:0               [100, 7]            700\n",
      "gen/LSTM/03/FC2/b:0               [7]                   7\n",
      "gen/LSTM/03/FC3/W:0               [7, 100]            700\n",
      "gen/LSTM/03/FC3/b:0               [100]               100\n",
      "gen/LSTM/03/attw:0                [1, 1, 1]             1\n",
      "gen/LSTM/04/FC/W:0                [100, 100]        10000\n",
      "gen/LSTM/04/FC/b:0                [100]               100\n",
      "gen/LSTM/04/FC2/W:0               [100, 2]            200\n",
      "gen/LSTM/04/FC2/b:0               [2]                   2\n",
      "gen/LSTM/04/FC3/W:0               [2, 100]            200\n",
      "gen/LSTM/04/FC3/b:0               [100]               100\n",
      "gen/LSTM/04/attw:0                [3, 1, 1]             3\n",
      "gen/LSTM/05/FC/W:0                [100, 100]        10000\n",
      "gen/LSTM/05/FC/b:0                [100]               100\n",
      "gen/LSTM/05/FC2/W:0               [100, 6]            600\n",
      "gen/LSTM/05/FC2/b:0               [6]                   6\n",
      "gen/LSTM/05/FC3/W:0               [6, 100]            600\n",
      "gen/LSTM/05/FC3/b:0               [100]               100\n",
      "gen/LSTM/05/attw:0                [3, 1, 1]             3\n",
      "gen/LSTM/06/FC_inputs/W:0         [200, 100]        20000\n",
      "gen/LSTM/06/FC_inputs/b:0         [100]               100\n",
      "gen/LSTM/06/FC_attentions/W:0     [200, 100]        20000\n",
      "gen/LSTM/06/FC_attentions/b:0     [100]               100\n",
      "gen/LSTM/06/FC_lstm_state_0/W:0   [200, 100]        20000\n",
      "gen/LSTM/06/FC_lstm_state_0/b:0   [100]               100\n",
      "gen/LSTM/06/FC_lstm_state_1/W:0   [200, 100]        20000\n",
      "gen/LSTM/06/FC_lstm_state_1/b:0   [100]               100\n",
      "gen/LSTM/07/FC/W:0                [100, 100]        10000\n",
      "gen/LSTM/07/FC/b:0                [100]               100\n",
      "gen/LSTM/07/FC2/W:0               [100, 8]            800\n",
      "gen/LSTM/07/FC2/b:0               [8]                   8\n",
      "gen/LSTM/07/FC3/W:0               [8, 100]            800\n",
      "gen/LSTM/07/FC3/b:0               [100]               100\n",
      "gen/LSTM/07/attw:0                [5, 1, 1]             5\n",
      "gen/LSTM/08/FC_inputs/W:0         [200, 100]        20000\n",
      "gen/LSTM/08/FC_inputs/b:0         [100]               100\n",
      "gen/LSTM/08/FC_attentions/W:0     [200, 100]        20000\n",
      "gen/LSTM/08/FC_attentions/b:0     [100]               100\n",
      "gen/LSTM/08/FC_lstm_state_0/W:0   [200, 100]        20000\n",
      "gen/LSTM/08/FC_lstm_state_0/b:0   [100]               100\n",
      "gen/LSTM/08/FC_lstm_state_1/W:0   [200, 100]        20000\n",
      "gen/LSTM/08/FC_lstm_state_1/b:0   [100]               100\n",
      "gen/LSTM/09/FC/W:0                [100, 100]        10000\n",
      "gen/LSTM/09/FC/b:0                [100]               100\n",
      "gen/LSTM/09/FC2/W:0               [100, 7]            700\n",
      "gen/LSTM/09/FC2/b:0               [7]                   7\n",
      "gen/LSTM/09/FC3/W:0               [7, 100]            700\n",
      "gen/LSTM/09/FC3/b:0               [100]               100\n",
      "gen/LSTM/09/attw:0                [6, 1, 1]             6\n",
      "gen/LSTM/10/FC/W:0                [100, 100]        10000\n",
      "gen/LSTM/10/FC/b:0                [100]               100\n",
      "gen/LSTM/10/FC2/W:0               [100, 7]            700\n",
      "gen/LSTM/10/FC2/b:0               [7]                   7\n",
      "gen/LSTM/10/FC3/W:0               [7, 100]            700\n",
      "gen/LSTM/10/FC3/b:0               [100]               100\n",
      "gen/LSTM/10/attw:0                [6, 1, 1]             6\n",
      "gen/LSTM/11/FC_inputs/W:0         [200, 100]        20000\n",
      "gen/LSTM/11/FC_inputs/b:0         [100]               100\n",
      "gen/LSTM/11/FC_attentions/W:0     [200, 100]        20000\n",
      "gen/LSTM/11/FC_attentions/b:0     [100]               100\n",
      "gen/LSTM/11/FC_lstm_state_0/W:0   [200, 100]        20000\n",
      "gen/LSTM/11/FC_lstm_state_0/b:0   [100]               100\n",
      "gen/LSTM/11/FC_lstm_state_1/W:0   [200, 100]        20000\n",
      "gen/LSTM/11/FC_lstm_state_1/b:0   [100]               100\n",
      "gen/LSTM/12/FC/W:0                [100, 100]        10000\n",
      "gen/LSTM/12/FC/b:0                [100]               100\n",
      "gen/LSTM/12/FC2/W:0               [100, 3]            300\n",
      "gen/LSTM/12/FC2/b:0               [3]                   3\n",
      "gen/LSTM/12/FC3/W:0               [3, 100]            300\n",
      "gen/LSTM/12/FC3/b:0               [100]               100\n",
      "gen/LSTM/12/attw:0                [7, 1, 1]             7\n",
      "gen/LSTM/13/FC_inputs/W:0         [300, 100]        30000\n",
      "gen/LSTM/13/FC_inputs/b:0         [100]               100\n",
      "gen/LSTM/13/FC_attentions/W:0     [300, 100]        30000\n",
      "gen/LSTM/13/FC_attentions/b:0     [100]               100\n",
      "gen/LSTM/13/FC_lstm_state_0/W:0   [300, 100]        30000\n",
      "gen/LSTM/13/FC_lstm_state_0/b:0   [100]               100\n",
      "gen/LSTM/13/FC_lstm_state_1/W:0   [300, 100]        30000\n",
      "gen/LSTM/13/FC_lstm_state_1/b:0   [100]               100\n",
      "gen/LSTM/14/FC/W:0                [100, 100]        10000\n",
      "gen/LSTM/14/FC/b:0                [100]               100\n",
      "gen/LSTM/14/FC2/W:0               [100, 8]            800\n",
      "gen/LSTM/14/FC2/b:0               [8]                   8\n",
      "gen/LSTM/14/FC3/W:0               [8, 100]            800\n",
      "gen/LSTM/14/FC3/b:0               [100]               100\n",
      "gen/LSTM/14/attw:0                [7, 1, 1]             7\n",
      "gen/LSTM/15/FC/W:0                [100, 100]        10000\n",
      "gen/LSTM/15/FC/b:0                [100]               100\n",
      "gen/LSTM/15/FC2/W:0               [100, 1]            100\n",
      "gen/LSTM/15/FC2/b:0               [1]                   1\n",
      "gen/LSTM/15/attw:0                [7, 1, 1]             7\n",
      "gen/LSTM/16/FC/W:0                [100, 100]        10000\n",
      "gen/LSTM/16/FC/b:0                [100]               100\n",
      "gen/LSTM/16/FC2/W:0               [100, 8]            800\n",
      "gen/LSTM/16/FC2/b:0               [8]                   8\n",
      "gen/LSTM/16/FC3/W:0               [8, 100]            800\n",
      "gen/LSTM/16/FC3/b:0               [100]               100\n",
      "gen/LSTM/16/attw:0                [8, 1, 1]             8\n",
      "gen/LSTM/17/FC/W:0                [100, 100]        10000\n",
      "gen/LSTM/17/FC/b:0                [100]               100\n",
      "gen/LSTM/17/FC2/W:0               [100, 1]            100\n",
      "gen/LSTM/17/FC2/b:0               [1]                   1\n",
      "gen/LSTM/17/attw:0                [7, 1, 1]             7\n",
      "gen/LSTM/18/FC/W:0                [100, 100]        10000\n",
      "gen/LSTM/18/FC/b:0                [100]               100\n",
      "gen/LSTM/18/FC2/W:0               [100, 10]          1000\n",
      "gen/LSTM/18/FC2/b:0               [10]                 10\n",
      "gen/LSTM/18/FC3/W:0               [10, 100]          1000\n",
      "gen/LSTM/18/FC3/b:0               [100]               100\n",
      "gen/LSTM/18/attw:0                [8, 1, 1]             8\n",
      "gen/LSTM/19/FC_inputs/W:0         [200, 100]        20000\n",
      "gen/LSTM/19/FC_inputs/b:0         [100]               100\n",
      "gen/LSTM/19/FC_attentions/W:0     [200, 100]        20000\n",
      "gen/LSTM/19/FC_attentions/b:0     [100]               100\n",
      "gen/LSTM/19/FC_lstm_state_0/W:0   [200, 100]        20000\n",
      "gen/LSTM/19/FC_lstm_state_0/b:0   [100]               100\n",
      "gen/LSTM/19/FC_lstm_state_1/W:0   [200, 100]        20000\n",
      "gen/LSTM/19/FC_lstm_state_1/b:0   [100]               100\n",
      "gen/LSTM/20/FC/W:0                [100, 100]        10000\n",
      "gen/LSTM/20/FC/b:0                [100]               100\n",
      "gen/LSTM/20/FC2/W:0               [100, 9]            900\n",
      "gen/LSTM/20/FC2/b:0               [9]                   9\n",
      "gen/LSTM/20/FC3/W:0               [9, 100]            900\n",
      "gen/LSTM/20/FC3/b:0               [100]               100\n",
      "gen/LSTM/20/attw:0                [8, 1, 1]             8\n",
      "gen/LSTM/21/FC_inputs/W:0         [200, 100]        20000\n",
      "gen/LSTM/21/FC_inputs/b:0         [100]               100\n",
      "gen/LSTM/21/FC_attentions/W:0     [200, 100]        20000\n",
      "gen/LSTM/21/FC_attentions/b:0     [100]               100\n",
      "gen/LSTM/21/FC_lstm_state_0/W:0   [200, 100]        20000\n",
      "gen/LSTM/21/FC_lstm_state_0/b:0   [100]               100\n",
      "gen/LSTM/21/FC_lstm_state_1/W:0   [200, 100]        20000\n",
      "gen/LSTM/21/FC_lstm_state_1/b:0   [100]               100\n",
      "gen/LSTM/22/FC/W:0                [100, 100]        10000\n",
      "gen/LSTM/22/FC/b:0                [100]               100\n",
      "gen/LSTM/22/FC2/W:0               [100, 8]            800\n",
      "gen/LSTM/22/FC2/b:0               [8]                   8\n",
      "gen/LSTM/22/FC3/W:0               [8, 100]            800\n",
      "gen/LSTM/22/FC3/b:0               [100]               100\n",
      "gen/LSTM/22/attw:0                [8, 1, 1]             8\n",
      "gen/LSTM/23/FC_inputs/W:0         [700, 100]        70000\n",
      "gen/LSTM/23/FC_inputs/b:0         [100]               100\n",
      "gen/LSTM/23/FC_attentions/W:0     [700, 100]        70000\n",
      "gen/LSTM/23/FC_attentions/b:0     [100]               100\n",
      "gen/LSTM/23/FC_lstm_state_0/W:0   [700, 100]        70000\n",
      "gen/LSTM/23/FC_lstm_state_0/b:0   [100]               100\n",
      "gen/LSTM/23/FC_lstm_state_1/W:0   [700, 100]        70000\n",
      "gen/LSTM/23/FC_lstm_state_1/b:0   [100]               100\n",
      "gen/LSTM/24/FC/W:0                [100, 100]        10000\n",
      "gen/LSTM/24/FC/b:0                [100]               100\n",
      "gen/LSTM/24/FC2/W:0               [100, 5]            500\n",
      "gen/LSTM/24/FC2/b:0               [5]                   5\n",
      "gen/LSTM/24/FC3/W:0               [5, 100]            500\n",
      "gen/LSTM/24/FC3/b:0               [100]               100\n",
      "gen/LSTM/24/attw:0                [17, 1, 1]           17\n",
      "discrim/dis_fc0/fc/W:0            [99, 100]          9900\n",
      "discrim/dis_fc0/fc/b:0            [100]               100\n",
      "discrim/dis_fc0/fc_diversity/W:0  [100, 100]        10000\n",
      "discrim/dis_fc0/fc_diversity/b:0  [100]               100\n",
      "discrim/dis_fc0/bn/beta:0         [110]               110\n",
      "discrim/dis_fc_top/W:0            [110, 1]            110\n",
      "discrim/dis_fc_top/b:0            [1]                   1\u001b[36m\n",
      "Number of trainable variables: 188\n",
      "Number of parameters (elements): 1226825\n",
      "Storage space needed for all trainable variables: 4.68MB\u001b[0m\n"
     ]
    },
    {
     "name": "stdout",
     "output_type": "stream",
     "text": [
      "\u001b[32m[1011 14:12:56 @base.py:209]\u001b[0m Setup callbacks graph ...\n",
      "WARNING:tensorflow:From D:\\Users\\glede\\anaconda3\\envs\\py37\\lib\\site-packages\\tensorpack\\callbacks\\graph.py:54: The name tf.train.SessionRunArgs is deprecated. Please use tf.estimator.SessionRunArgs instead.\n",
      "\n",
      "WARNING:tensorflow:From D:\\Users\\glede\\anaconda3\\envs\\py37\\lib\\site-packages\\tensorpack\\tfutils\\common.py:75: The name tf.VariableScope is deprecated. Please use tf.compat.v1.VariableScope instead.\n",
      "\n",
      "WARNING:tensorflow:From D:\\Users\\glede\\anaconda3\\envs\\py37\\lib\\site-packages\\tensorpack\\tfutils\\common.py:77: The name tf.train.get_or_create_global_step is deprecated. Please use tf.compat.v1.train.get_or_create_global_step instead.\n",
      "\n",
      "WARNING:tensorflow:From D:\\Users\\glede\\anaconda3\\envs\\py37\\lib\\site-packages\\tensorpack\\callbacks\\steps.py:117: The name tf.assign_add is deprecated. Please use tf.compat.v1.assign_add instead.\n",
      "\n",
      "WARNING:tensorflow:From D:\\Users\\glede\\anaconda3\\envs\\py37\\lib\\site-packages\\tensorpack\\callbacks\\saver.py:55: The name tf.train.Saver is deprecated. Please use tf.compat.v1.train.Saver instead.\n",
      "\n",
      "WARNING:tensorflow:From D:\\Users\\glede\\anaconda3\\envs\\py37\\lib\\site-packages\\tensorpack\\callbacks\\saver.py:59: The name tf.train.SaverDef is deprecated. Please use tf.compat.v1.train.SaverDef instead.\n",
      "\n",
      "\u001b[32m[1011 14:12:56 @summary.py:46]\u001b[0m [MovingAverageSummary] 6 operations in collection 'MOVING_SUMMARY_OPS' will be run with session hooks.\n",
      "\u001b[32m[1011 14:12:56 @summary.py:93]\u001b[0m Summarizing collection 'summaries' of size 9.\n",
      "WARNING:tensorflow:From D:\\Users\\glede\\anaconda3\\envs\\py37\\lib\\site-packages\\tensorpack\\callbacks\\summary.py:94: The name tf.summary.merge_all is deprecated. Please use tf.compat.v1.summary.merge_all instead.\n",
      "\n",
      "\u001b[32m[1011 14:12:56 @graph.py:98]\u001b[0m Applying collection UPDATE_OPS of 4 ops.\n",
      "WARNING:tensorflow:From D:\\Users\\glede\\anaconda3\\envs\\py37\\lib\\site-packages\\tensorpack\\callbacks\\monitor.py:261: The name tf.summary.FileWriter is deprecated. Please use tf.compat.v1.summary.FileWriter instead.\n",
      "\n",
      "\u001b[32m[1011 14:12:57 @base.py:230]\u001b[0m Creating the session ...\n",
      "WARNING:tensorflow:From D:\\Users\\glede\\anaconda3\\envs\\py37\\lib\\site-packages\\tensorpack\\tfutils\\sesscreate.py:42: The name tf.Session is deprecated. Please use tf.compat.v1.Session instead.\n",
      "\n",
      "WARNING:tensorflow:From D:\\Users\\glede\\anaconda3\\envs\\py37\\lib\\site-packages\\tensorpack\\tfutils\\sesscreate.py:71: The name tf.global_variables_initializer is deprecated. Please use tf.compat.v1.global_variables_initializer instead.\n",
      "\n",
      "WARNING:tensorflow:From D:\\Users\\glede\\anaconda3\\envs\\py37\\lib\\site-packages\\tensorpack\\tfutils\\sesscreate.py:62: get_backward_walk_ops (from tensorflow.contrib.graph_editor.select) is deprecated and will be removed after 2019-06-06.\n",
      "Instructions for updating:\n",
      "Please use tensorflow.python.ops.op_selector.get_backward_walk_ops.\n",
      "WARNING:tensorflow:From D:\\Users\\glede\\anaconda3\\envs\\py37\\lib\\site-packages\\tensorpack\\tfutils\\sesscreate.py:72: The name tf.local_variables_initializer is deprecated. Please use tf.compat.v1.local_variables_initializer instead.\n",
      "\n",
      "WARNING:tensorflow:From D:\\Users\\glede\\anaconda3\\envs\\py37\\lib\\site-packages\\tensorpack\\tfutils\\sesscreate.py:73: The name tf.tables_initializer is deprecated. Please use tf.compat.v1.tables_initializer instead.\n",
      "\n",
      "WARNING:tensorflow:From D:\\Users\\glede\\anaconda3\\envs\\py37\\lib\\site-packages\\tensorpack\\train\\base.py:254: The name tf.train.MonitoredSession is deprecated. Please use tf.compat.v1.train.MonitoredSession instead.\n",
      "\n",
      "\u001b[32m[1011 14:12:59 @base.py:236]\u001b[0m Initializing the session ...\n",
      "\u001b[32m[1011 14:12:59 @base.py:243]\u001b[0m Graph Finalized.\n",
      "WARNING:tensorflow:From D:\\Users\\glede\\anaconda3\\envs\\py37\\lib\\site-packages\\tensorpack\\tfutils\\common.py:89: The name tf.train.global_step is deprecated. Please use tf.compat.v1.train.global_step instead.\n",
      "\n",
      "WARNING:tensorflow:From D:\\Users\\glede\\anaconda3\\envs\\py37\\lib\\site-packages\\tensorpack\\tfutils\\common.py:90: The name tf.get_default_session is deprecated. Please use tf.compat.v1.get_default_session instead.\n",
      "\n",
      "\u001b[32m[1011 14:13:00 @concurrency.py:38]\u001b[0m Starting EnqueueThread QueueInput/input_queue ...\n",
      "WARNING:tensorflow:From D:\\Users\\glede\\anaconda3\\envs\\py37\\lib\\site-packages\\tensorpack\\callbacks\\monitor.py:309: The name tf.gfile.Exists is deprecated. Please use tf.io.gfile.exists instead.\n",
      "\n",
      "\u001b[32m[1011 14:13:00 @base.py:275]\u001b[0m Start Epoch 1 ...\n"
     ]
    },
    {
     "name": "stderr",
     "output_type": "stream",
     "text": [
      " 91%|###########################################################################8       |160/175[00:07<00:00,28.18it/s]"
     ]
    },
    {
     "name": "stdout",
     "output_type": "stream",
     "text": [
      "WARNING:tensorflow:From D:\\Users\\glede\\anaconda3\\envs\\py37\\lib\\site-packages\\tensorpack\\callbacks\\monitor.py:148: The name tf.Summary is deprecated. Please use tf.compat.v1.Summary instead.\n",
      "\n"
     ]
    },
    {
     "name": "stderr",
     "output_type": "stream",
     "text": [
      "\r",
      "100%|###################################################################################|175/175[00:10<00:00,16.75it/s]"
     ]
    },
    {
     "name": "stdout",
     "output_type": "stream",
     "text": [
      "\u001b[32m[1011 14:13:10 @base.py:285]\u001b[0m Epoch 1 (global_step 175) finished, time:10.4 seconds.\n",
      "WARNING:tensorflow:From D:\\Users\\glede\\anaconda3\\envs\\py37\\lib\\site-packages\\tensorpack\\callbacks\\saver.py:77: The name tf.train.get_global_step is deprecated. Please use tf.compat.v1.train.get_global_step instead.\n",
      "\n"
     ]
    },
    {
     "name": "stderr",
     "output_type": "stream",
     "text": [
      "\n"
     ]
    },
    {
     "name": "stdout",
     "output_type": "stream",
     "text": [
      "\u001b[32m[1011 14:13:11 @saver.py:79]\u001b[0m Model saved to ../output/Chicago/DATGAN_TEST2/model\\model-175.\n",
      "\u001b[32m[1011 14:13:11 @monitor.py:467]\u001b[0m GAN_loss/discrim/accuracy_fake: 0.808\n",
      "\u001b[32m[1011 14:13:11 @monitor.py:467]\u001b[0m GAN_loss/discrim/accuracy_real: 0.206\n",
      "\u001b[32m[1011 14:13:11 @monitor.py:467]\u001b[0m GAN_loss/discrim/loss: 0.65666\n",
      "\u001b[32m[1011 14:13:11 @monitor.py:467]\u001b[0m GAN_loss/gen/final-g-loss: 1.0121\n",
      "\u001b[32m[1011 14:13:11 @monitor.py:467]\u001b[0m GAN_loss/gen/klloss: 0.041715\n",
      "\u001b[32m[1011 14:13:11 @monitor.py:467]\u001b[0m GAN_loss/gen/loss: 0.97041\n",
      "\u001b[32m[1011 14:13:11 @monitor.py:467]\u001b[0m QueueInput/queue_size: 50\n",
      "\u001b[32m[1011 14:13:11 @base.py:275]\u001b[0m Start Epoch 2 ...\n"
     ]
    },
    {
     "name": "stderr",
     "output_type": "stream",
     "text": [
      "100%|###################################################################################|175/175[00:05<00:00,30.47it/s]"
     ]
    },
    {
     "name": "stdout",
     "output_type": "stream",
     "text": [
      "\u001b[32m[1011 14:13:17 @base.py:285]\u001b[0m Epoch 2 (global_step 350) finished, time:5.75 seconds.\n",
      "\u001b[32m[1011 14:13:17 @saver.py:79]\u001b[0m Model saved to ../output/Chicago/DATGAN_TEST2/model\\model-350.\n",
      "\u001b[32m[1011 14:13:17 @monitor.py:467]\u001b[0m GAN_loss/discrim/accuracy_fake: 0.924\n",
      "\u001b[32m[1011 14:13:17 @monitor.py:467]\u001b[0m GAN_loss/discrim/accuracy_real: 0.106\n",
      "\u001b[32m[1011 14:13:17 @monitor.py:467]\u001b[0m GAN_loss/discrim/loss: 0.65215\n",
      "\u001b[32m[1011 14:13:17 @monitor.py:467]\u001b[0m GAN_loss/gen/final-g-loss: 0.99974\n",
      "\u001b[32m[1011 14:13:17 @monitor.py:467]\u001b[0m GAN_loss/gen/klloss: 0.043989\n",
      "\u001b[32m[1011 14:13:17 @monitor.py:467]\u001b[0m GAN_loss/gen/loss: 0.95575\n",
      "\u001b[32m[1011 14:13:17 @monitor.py:467]\u001b[0m QueueInput/queue_size: 50\n",
      "\u001b[32m[1011 14:13:17 @base.py:275]\u001b[0m Start Epoch 3 ...\n"
     ]
    },
    {
     "name": "stderr",
     "output_type": "stream",
     "text": [
      "\n",
      "100%|###################################################################################|175/175[00:05<00:00,30.52it/s]"
     ]
    },
    {
     "name": "stdout",
     "output_type": "stream",
     "text": [
      "\u001b[32m[1011 14:13:22 @base.py:285]\u001b[0m Epoch 3 (global_step 525) finished, time:5.73 seconds.\n",
      "\u001b[32m[1011 14:13:23 @saver.py:79]\u001b[0m Model saved to ../output/Chicago/DATGAN_TEST2/model\\model-525.\n",
      "\u001b[32m[1011 14:13:23 @monitor.py:467]\u001b[0m GAN_loss/discrim/accuracy_fake: 0.94\n",
      "\u001b[32m[1011 14:13:23 @monitor.py:467]\u001b[0m GAN_loss/discrim/accuracy_real: 0.196\n",
      "\u001b[32m[1011 14:13:23 @monitor.py:467]\u001b[0m GAN_loss/discrim/loss: 0.63851\n",
      "\u001b[32m[1011 14:13:23 @monitor.py:467]\u001b[0m GAN_loss/gen/final-g-loss: 1.0234\n",
      "\u001b[32m[1011 14:13:23 @monitor.py:467]\u001b[0m GAN_loss/gen/klloss: 0.042586\n",
      "\u001b[32m[1011 14:13:23 @monitor.py:467]\u001b[0m GAN_loss/gen/loss: 0.98079\n",
      "\u001b[32m[1011 14:13:23 @monitor.py:467]\u001b[0m QueueInput/queue_size: 50\n",
      "\u001b[32m[1011 14:13:23 @base.py:275]\u001b[0m Start Epoch 4 ...\n"
     ]
    },
    {
     "name": "stderr",
     "output_type": "stream",
     "text": [
      "\n",
      "100%|###################################################################################|175/175[00:05<00:00,30.19it/s]"
     ]
    },
    {
     "name": "stdout",
     "output_type": "stream",
     "text": [
      "\u001b[32m[1011 14:13:28 @base.py:285]\u001b[0m Epoch 4 (global_step 700) finished, time:5.8 seconds.\n",
      "\u001b[32m[1011 14:13:28 @saver.py:79]\u001b[0m Model saved to ../output/Chicago/DATGAN_TEST2/model\\model-700.\n",
      "\u001b[32m[1011 14:13:28 @monitor.py:467]\u001b[0m GAN_loss/discrim/accuracy_fake: 0.924\n",
      "\u001b[32m[1011 14:13:28 @monitor.py:467]\u001b[0m GAN_loss/discrim/accuracy_real: 0.152\n",
      "\u001b[32m[1011 14:13:28 @monitor.py:467]\u001b[0m GAN_loss/discrim/loss: 0.63848\n",
      "\u001b[32m[1011 14:13:28 @monitor.py:467]\u001b[0m GAN_loss/gen/final-g-loss: 1.0497\n",
      "\u001b[32m[1011 14:13:28 @monitor.py:467]\u001b[0m GAN_loss/gen/klloss: 0.075005\n",
      "\u001b[32m[1011 14:13:28 @monitor.py:467]\u001b[0m GAN_loss/gen/loss: 0.9747\n",
      "\u001b[32m[1011 14:13:28 @monitor.py:467]\u001b[0m QueueInput/queue_size: 50\n",
      "\u001b[32m[1011 14:13:28 @base.py:275]\u001b[0m Start Epoch 5 ...\n"
     ]
    },
    {
     "name": "stderr",
     "output_type": "stream",
     "text": [
      "\n",
      "100%|###################################################################################|175/175[00:05<00:00,30.42it/s]"
     ]
    },
    {
     "name": "stdout",
     "output_type": "stream",
     "text": [
      "\u001b[32m[1011 14:13:34 @base.py:285]\u001b[0m Epoch 5 (global_step 875) finished, time:5.75 seconds.\n",
      "\u001b[32m[1011 14:13:34 @saver.py:79]\u001b[0m Model saved to ../output/Chicago/DATGAN_TEST2/model\\model-875.\n",
      "\u001b[32m[1011 14:13:34 @monitor.py:467]\u001b[0m GAN_loss/discrim/accuracy_fake: 0.924\n",
      "\u001b[32m[1011 14:13:34 @monitor.py:467]\u001b[0m GAN_loss/discrim/accuracy_real: 0.114\n",
      "\u001b[32m[1011 14:13:34 @monitor.py:467]\u001b[0m GAN_loss/discrim/loss: 0.64997\n",
      "\u001b[32m[1011 14:13:34 @monitor.py:467]\u001b[0m GAN_loss/gen/final-g-loss: 1.0046\n",
      "\u001b[32m[1011 14:13:34 @monitor.py:467]\u001b[0m GAN_loss/gen/klloss: 0.045578\n",
      "\u001b[32m[1011 14:13:34 @monitor.py:467]\u001b[0m GAN_loss/gen/loss: 0.95903\n",
      "\u001b[32m[1011 14:13:34 @monitor.py:467]\u001b[0m QueueInput/queue_size: 50\n",
      "\u001b[32m[1011 14:13:34 @base.py:275]\u001b[0m Start Epoch 6 ...\n"
     ]
    },
    {
     "name": "stderr",
     "output_type": "stream",
     "text": [
      "\n",
      "100%|###################################################################################|175/175[00:05<00:00,30.46it/s]"
     ]
    },
    {
     "name": "stdout",
     "output_type": "stream",
     "text": [
      "\u001b[32m[1011 14:13:40 @base.py:285]\u001b[0m Epoch 6 (global_step 1050) finished, time:5.75 seconds.\n",
      "\u001b[32m[1011 14:13:40 @saver.py:79]\u001b[0m Model saved to ../output/Chicago/DATGAN_TEST2/model\\model-1050.\n",
      "\u001b[32m[1011 14:13:40 @monitor.py:467]\u001b[0m GAN_loss/discrim/accuracy_fake: 0.944\n",
      "\u001b[32m[1011 14:13:40 @monitor.py:467]\u001b[0m GAN_loss/discrim/accuracy_real: 0.136\n",
      "\u001b[32m[1011 14:13:40 @monitor.py:467]\u001b[0m GAN_loss/discrim/loss: 0.6484\n",
      "\u001b[32m[1011 14:13:40 @monitor.py:467]\u001b[0m GAN_loss/gen/final-g-loss: 1.0176\n",
      "\u001b[32m[1011 14:13:40 @monitor.py:467]\u001b[0m GAN_loss/gen/klloss: 0.052571\n",
      "\u001b[32m[1011 14:13:40 @monitor.py:467]\u001b[0m GAN_loss/gen/loss: 0.96502\n",
      "\u001b[32m[1011 14:13:40 @monitor.py:467]\u001b[0m QueueInput/queue_size: 50\n",
      "\u001b[32m[1011 14:13:40 @base.py:275]\u001b[0m Start Epoch 7 ...\n"
     ]
    },
    {
     "name": "stderr",
     "output_type": "stream",
     "text": [
      "\n",
      "100%|###################################################################################|175/175[00:05<00:00,30.51it/s]"
     ]
    },
    {
     "name": "stdout",
     "output_type": "stream",
     "text": [
      "\u001b[32m[1011 14:13:46 @base.py:285]\u001b[0m Epoch 7 (global_step 1225) finished, time:5.74 seconds.\n",
      "\u001b[32m[1011 14:13:46 @saver.py:79]\u001b[0m Model saved to ../output/Chicago/DATGAN_TEST2/model\\model-1225.\n",
      "\u001b[32m[1011 14:13:46 @monitor.py:467]\u001b[0m GAN_loss/discrim/accuracy_fake: 0.918\n",
      "\u001b[32m[1011 14:13:46 @monitor.py:467]\u001b[0m GAN_loss/discrim/accuracy_real: 0.144\n",
      "\u001b[32m[1011 14:13:46 @monitor.py:467]\u001b[0m GAN_loss/discrim/loss: 0.65052\n",
      "\u001b[32m[1011 14:13:46 @monitor.py:467]\u001b[0m GAN_loss/gen/final-g-loss: 0.99918\n",
      "\u001b[32m[1011 14:13:46 @monitor.py:467]\u001b[0m GAN_loss/gen/klloss: 0.044764\n",
      "\u001b[32m[1011 14:13:46 @monitor.py:467]\u001b[0m GAN_loss/gen/loss: 0.95442\n",
      "\u001b[32m[1011 14:13:46 @monitor.py:467]\u001b[0m QueueInput/queue_size: 50\n",
      "\u001b[32m[1011 14:13:46 @base.py:275]\u001b[0m Start Epoch 8 ...\n"
     ]
    },
    {
     "name": "stderr",
     "output_type": "stream",
     "text": [
      "\n",
      "100%|###################################################################################|175/175[00:05<00:00,30.55it/s]"
     ]
    },
    {
     "name": "stdout",
     "output_type": "stream",
     "text": [
      "\u001b[32m[1011 14:13:52 @base.py:285]\u001b[0m Epoch 8 (global_step 1400) finished, time:5.73 seconds.\n",
      "\u001b[32m[1011 14:13:52 @saver.py:79]\u001b[0m Model saved to ../output/Chicago/DATGAN_TEST2/model\\model-1400.\n",
      "\u001b[32m[1011 14:13:52 @monitor.py:467]\u001b[0m GAN_loss/discrim/accuracy_fake: 0.94\n",
      "\u001b[32m[1011 14:13:52 @monitor.py:467]\u001b[0m GAN_loss/discrim/accuracy_real: 0.164\n",
      "\u001b[32m[1011 14:13:52 @monitor.py:467]\u001b[0m GAN_loss/discrim/loss: 0.64237\n",
      "\u001b[32m[1011 14:13:52 @monitor.py:467]\u001b[0m GAN_loss/gen/final-g-loss: 1.0053\n",
      "\u001b[32m[1011 14:13:52 @monitor.py:467]\u001b[0m GAN_loss/gen/klloss: 0.048958\n",
      "\u001b[32m[1011 14:13:52 @monitor.py:467]\u001b[0m GAN_loss/gen/loss: 0.95638\n",
      "\u001b[32m[1011 14:13:52 @monitor.py:467]\u001b[0m QueueInput/queue_size: 50\n",
      "\u001b[32m[1011 14:13:52 @base.py:275]\u001b[0m Start Epoch 9 ...\n"
     ]
    },
    {
     "name": "stderr",
     "output_type": "stream",
     "text": [
      "\n",
      "100%|###################################################################################|175/175[00:05<00:00,29.97it/s]"
     ]
    },
    {
     "name": "stdout",
     "output_type": "stream",
     "text": [
      "\u001b[32m[1011 14:13:58 @base.py:285]\u001b[0m Epoch 9 (global_step 1575) finished, time:5.84 seconds.\n"
     ]
    },
    {
     "name": "stderr",
     "output_type": "stream",
     "text": [
      "\n"
     ]
    },
    {
     "name": "stdout",
     "output_type": "stream",
     "text": [
      "\u001b[32m[1011 14:13:58 @saver.py:79]\u001b[0m Model saved to ../output/Chicago/DATGAN_TEST2/model\\model-1575.\n",
      "\u001b[32m[1011 14:13:58 @monitor.py:467]\u001b[0m GAN_loss/discrim/accuracy_fake: 0.926\n",
      "\u001b[32m[1011 14:13:58 @monitor.py:467]\u001b[0m GAN_loss/discrim/accuracy_real: 0.162\n",
      "\u001b[32m[1011 14:13:58 @monitor.py:467]\u001b[0m GAN_loss/discrim/loss: 0.64201\n",
      "\u001b[32m[1011 14:13:58 @monitor.py:467]\u001b[0m GAN_loss/gen/final-g-loss: 1.013\n",
      "\u001b[32m[1011 14:13:58 @monitor.py:467]\u001b[0m GAN_loss/gen/klloss: 0.063013\n",
      "\u001b[32m[1011 14:13:58 @monitor.py:467]\u001b[0m GAN_loss/gen/loss: 0.94998\n",
      "\u001b[32m[1011 14:13:58 @monitor.py:467]\u001b[0m QueueInput/queue_size: 50\n",
      "\u001b[32m[1011 14:13:58 @base.py:275]\u001b[0m Start Epoch 10 ...\n"
     ]
    },
    {
     "name": "stderr",
     "output_type": "stream",
     "text": [
      "100%|###################################################################################|175/175[00:05<00:00,29.40it/s]"
     ]
    },
    {
     "name": "stdout",
     "output_type": "stream",
     "text": [
      "\u001b[32m[1011 14:14:04 @base.py:285]\u001b[0m Epoch 10 (global_step 1750) finished, time:5.95 seconds.\n",
      "\u001b[32m[1011 14:14:04 @saver.py:79]\u001b[0m Model saved to ../output/Chicago/DATGAN_TEST2/model\\model-1750.\n",
      "\u001b[32m[1011 14:14:04 @monitor.py:467]\u001b[0m GAN_loss/discrim/accuracy_fake: 0.916\n",
      "\u001b[32m[1011 14:14:04 @monitor.py:467]\u001b[0m GAN_loss/discrim/accuracy_real: 0.144\n",
      "\u001b[32m[1011 14:14:04 @monitor.py:467]\u001b[0m GAN_loss/discrim/loss: 0.6421\n",
      "\u001b[32m[1011 14:14:04 @monitor.py:467]\u001b[0m GAN_loss/gen/final-g-loss: 1.0064\n",
      "\u001b[32m[1011 14:14:04 @monitor.py:467]\u001b[0m GAN_loss/gen/klloss: 0.040711\n",
      "\u001b[32m[1011 14:14:04 @monitor.py:467]\u001b[0m GAN_loss/gen/loss: 0.96567\n",
      "\u001b[32m[1011 14:14:04 @monitor.py:467]\u001b[0m QueueInput/queue_size: 50\n",
      "\u001b[32m[1011 14:14:04 @base.py:275]\u001b[0m Start Epoch 11 ...\n"
     ]
    },
    {
     "name": "stderr",
     "output_type": "stream",
     "text": [
      "\n",
      "100%|###################################################################################|175/175[00:06<00:00,29.07it/s]"
     ]
    },
    {
     "name": "stdout",
     "output_type": "stream",
     "text": [
      "\u001b[32m[1011 14:14:10 @base.py:285]\u001b[0m Epoch 11 (global_step 1925) finished, time:6.02 seconds.\n",
      "WARNING:tensorflow:From D:\\Users\\glede\\anaconda3\\envs\\py37\\lib\\site-packages\\tensorflow_core\\python\\training\\saver.py:963: remove_checkpoint (from tensorflow.python.training.checkpoint_management) is deprecated and will be removed in a future version.\n",
      "Instructions for updating:\n",
      "Use standard file APIs to delete files with this prefix.\n",
      "\u001b[32m[1011 14:14:10 @saver.py:79]\u001b[0m Model saved to ../output/Chicago/DATGAN_TEST2/model\\model-1925.\n",
      "\u001b[32m[1011 14:14:10 @monitor.py:467]\u001b[0m GAN_loss/discrim/accuracy_fake: 0.91\n",
      "\u001b[32m[1011 14:14:10 @monitor.py:467]\u001b[0m GAN_loss/discrim/accuracy_real: 0.136\n",
      "\u001b[32m[1011 14:14:10 @monitor.py:467]\u001b[0m GAN_loss/discrim/loss: 0.64666\n",
      "\u001b[32m[1011 14:14:10 @monitor.py:467]\u001b[0m GAN_loss/gen/final-g-loss: 0.99685\n",
      "\u001b[32m[1011 14:14:10 @monitor.py:467]\u001b[0m GAN_loss/gen/klloss: 0.033414\n",
      "\u001b[32m[1011 14:14:10 @monitor.py:467]\u001b[0m GAN_loss/gen/loss: 0.96343\n",
      "\u001b[32m[1011 14:14:10 @monitor.py:467]\u001b[0m QueueInput/queue_size: 50\n",
      "\u001b[32m[1011 14:14:10 @base.py:275]\u001b[0m Start Epoch 12 ...\n"
     ]
    },
    {
     "name": "stderr",
     "output_type": "stream",
     "text": [
      "\n",
      "100%|###################################################################################|175/175[00:05<00:00,29.51it/s]"
     ]
    },
    {
     "name": "stdout",
     "output_type": "stream",
     "text": [
      "\u001b[32m[1011 14:14:16 @base.py:285]\u001b[0m Epoch 12 (global_step 2100) finished, time:5.93 seconds.\n",
      "\u001b[32m[1011 14:14:16 @saver.py:79]\u001b[0m Model saved to ../output/Chicago/DATGAN_TEST2/model\\model-2100.\n",
      "\u001b[32m[1011 14:14:16 @monitor.py:467]\u001b[0m GAN_loss/discrim/accuracy_fake: 0.936\n",
      "\u001b[32m[1011 14:14:16 @monitor.py:467]\u001b[0m GAN_loss/discrim/accuracy_real: 0.186\n",
      "\u001b[32m[1011 14:14:16 @monitor.py:467]\u001b[0m GAN_loss/discrim/loss: 0.63542\n",
      "\u001b[32m[1011 14:14:16 @monitor.py:467]\u001b[0m GAN_loss/gen/final-g-loss: 1.0046\n",
      "\u001b[32m[1011 14:14:16 @monitor.py:467]\u001b[0m GAN_loss/gen/klloss: 0.042503\n",
      "\u001b[32m[1011 14:14:16 @monitor.py:467]\u001b[0m GAN_loss/gen/loss: 0.96205\n",
      "\u001b[32m[1011 14:14:16 @monitor.py:467]\u001b[0m QueueInput/queue_size: 50\n",
      "\u001b[32m[1011 14:14:16 @base.py:275]\u001b[0m Start Epoch 13 ...\n"
     ]
    },
    {
     "name": "stderr",
     "output_type": "stream",
     "text": [
      "\n",
      "100%|###################################################################################|175/175[00:05<00:00,30.14it/s]"
     ]
    },
    {
     "name": "stdout",
     "output_type": "stream",
     "text": [
      "\u001b[32m[1011 14:14:22 @base.py:285]\u001b[0m Epoch 13 (global_step 2275) finished, time:5.81 seconds.\n",
      "\u001b[32m[1011 14:14:22 @saver.py:79]\u001b[0m Model saved to ../output/Chicago/DATGAN_TEST2/model\\model-2275.\n",
      "\u001b[32m[1011 14:14:22 @monitor.py:467]\u001b[0m GAN_loss/discrim/accuracy_fake: 0.916\n",
      "\u001b[32m[1011 14:14:22 @monitor.py:467]\u001b[0m GAN_loss/discrim/accuracy_real: 0.152\n",
      "\u001b[32m[1011 14:14:22 @monitor.py:467]\u001b[0m GAN_loss/discrim/loss: 0.64844\n",
      "\u001b[32m[1011 14:14:22 @monitor.py:467]\u001b[0m GAN_loss/gen/final-g-loss: 0.99893\n",
      "\u001b[32m[1011 14:14:22 @monitor.py:467]\u001b[0m GAN_loss/gen/klloss: 0.039508\n",
      "\u001b[32m[1011 14:14:22 @monitor.py:467]\u001b[0m GAN_loss/gen/loss: 0.95942\n",
      "\u001b[32m[1011 14:14:22 @monitor.py:467]\u001b[0m QueueInput/queue_size: 50\n",
      "\u001b[32m[1011 14:14:22 @base.py:275]\u001b[0m Start Epoch 14 ...\n"
     ]
    },
    {
     "name": "stderr",
     "output_type": "stream",
     "text": [
      "\n",
      "100%|###################################################################################|175/175[00:05<00:00,29.71it/s]"
     ]
    },
    {
     "name": "stdout",
     "output_type": "stream",
     "text": [
      "\u001b[32m[1011 14:14:28 @base.py:285]\u001b[0m Epoch 14 (global_step 2450) finished, time:5.89 seconds.\n",
      "\u001b[32m[1011 14:14:28 @saver.py:79]\u001b[0m Model saved to ../output/Chicago/DATGAN_TEST2/model\\model-2450.\n",
      "\u001b[32m[1011 14:14:28 @monitor.py:467]\u001b[0m GAN_loss/discrim/accuracy_fake: 0.91\n",
      "\u001b[32m[1011 14:14:28 @monitor.py:467]\u001b[0m GAN_loss/discrim/accuracy_real: 0.152\n",
      "\u001b[32m[1011 14:14:28 @monitor.py:467]\u001b[0m GAN_loss/discrim/loss: 0.64681\n",
      "\u001b[32m[1011 14:14:28 @monitor.py:467]\u001b[0m GAN_loss/gen/final-g-loss: 0.99558\n",
      "\u001b[32m[1011 14:14:28 @monitor.py:467]\u001b[0m GAN_loss/gen/klloss: 0.047452\n",
      "\u001b[32m[1011 14:14:28 @monitor.py:467]\u001b[0m GAN_loss/gen/loss: 0.94812\n",
      "\u001b[32m[1011 14:14:28 @monitor.py:467]\u001b[0m QueueInput/queue_size: 50\n",
      "\u001b[32m[1011 14:14:28 @base.py:275]\u001b[0m Start Epoch 15 ...\n"
     ]
    },
    {
     "name": "stderr",
     "output_type": "stream",
     "text": [
      "\n",
      "100%|###################################################################################|175/175[00:05<00:00,29.44it/s]"
     ]
    },
    {
     "name": "stdout",
     "output_type": "stream",
     "text": [
      "\u001b[32m[1011 14:14:34 @base.py:285]\u001b[0m Epoch 15 (global_step 2625) finished, time:5.94 seconds.\n",
      "\u001b[32m[1011 14:14:34 @saver.py:79]\u001b[0m Model saved to ../output/Chicago/DATGAN_TEST2/model\\model-2625.\n",
      "\u001b[32m[1011 14:14:34 @monitor.py:467]\u001b[0m GAN_loss/discrim/accuracy_fake: 0.92\n",
      "\u001b[32m[1011 14:14:34 @monitor.py:467]\u001b[0m GAN_loss/discrim/accuracy_real: 0.156\n",
      "\u001b[32m[1011 14:14:34 @monitor.py:467]\u001b[0m GAN_loss/discrim/loss: 0.64511\n",
      "\u001b[32m[1011 14:14:34 @monitor.py:467]\u001b[0m GAN_loss/gen/final-g-loss: 0.99748\n",
      "\u001b[32m[1011 14:14:34 @monitor.py:467]\u001b[0m GAN_loss/gen/klloss: 0.040609\n",
      "\u001b[32m[1011 14:14:34 @monitor.py:467]\u001b[0m GAN_loss/gen/loss: 0.95687\n",
      "\u001b[32m[1011 14:14:34 @monitor.py:467]\u001b[0m QueueInput/queue_size: 50\n",
      "\u001b[32m[1011 14:14:34 @base.py:275]\u001b[0m Start Epoch 16 ...\n"
     ]
    },
    {
     "name": "stderr",
     "output_type": "stream",
     "text": [
      "\n",
      "100%|###################################################################################|175/175[00:05<00:00,30.21it/s]"
     ]
    },
    {
     "name": "stdout",
     "output_type": "stream",
     "text": [
      "\u001b[32m[1011 14:14:40 @base.py:285]\u001b[0m Epoch 16 (global_step 2800) finished, time:5.79 seconds.\n",
      "\u001b[32m[1011 14:14:40 @saver.py:79]\u001b[0m Model saved to ../output/Chicago/DATGAN_TEST2/model\\model-2800.\n",
      "\u001b[32m[1011 14:14:40 @monitor.py:467]\u001b[0m GAN_loss/discrim/accuracy_fake: 0.894\n",
      "\u001b[32m[1011 14:14:40 @monitor.py:467]\u001b[0m GAN_loss/discrim/accuracy_real: 0.2\n",
      "\u001b[32m[1011 14:14:40 @monitor.py:467]\u001b[0m GAN_loss/discrim/loss: 0.63116\n",
      "\u001b[32m[1011 14:14:40 @monitor.py:467]\u001b[0m GAN_loss/gen/final-g-loss: 1.0257\n",
      "\u001b[32m[1011 14:14:40 @monitor.py:467]\u001b[0m GAN_loss/gen/klloss: 0.059876\n",
      "\u001b[32m[1011 14:14:40 @monitor.py:467]\u001b[0m GAN_loss/gen/loss: 0.96581\n",
      "\u001b[32m[1011 14:14:40 @monitor.py:467]\u001b[0m QueueInput/queue_size: 50\n",
      "\u001b[32m[1011 14:14:40 @base.py:275]\u001b[0m Start Epoch 17 ...\n"
     ]
    },
    {
     "name": "stderr",
     "output_type": "stream",
     "text": [
      "\n",
      "100%|###################################################################################|175/175[00:05<00:00,29.93it/s]"
     ]
    },
    {
     "name": "stdout",
     "output_type": "stream",
     "text": [
      "\u001b[32m[1011 14:14:46 @base.py:285]\u001b[0m Epoch 17 (global_step 2975) finished, time:5.85 seconds.\n"
     ]
    },
    {
     "name": "stderr",
     "output_type": "stream",
     "text": [
      "\n"
     ]
    },
    {
     "name": "stdout",
     "output_type": "stream",
     "text": [
      "\u001b[32m[1011 14:14:46 @saver.py:79]\u001b[0m Model saved to ../output/Chicago/DATGAN_TEST2/model\\model-2975.\n",
      "\u001b[32m[1011 14:14:46 @monitor.py:467]\u001b[0m GAN_loss/discrim/accuracy_fake: 0.876\n",
      "\u001b[32m[1011 14:14:46 @monitor.py:467]\u001b[0m GAN_loss/discrim/accuracy_real: 0.238\n",
      "\u001b[32m[1011 14:14:46 @monitor.py:467]\u001b[0m GAN_loss/discrim/loss: 0.64256\n",
      "\u001b[32m[1011 14:14:46 @monitor.py:467]\u001b[0m GAN_loss/gen/final-g-loss: 1.0075\n",
      "\u001b[32m[1011 14:14:46 @monitor.py:467]\u001b[0m GAN_loss/gen/klloss: 0.039511\n",
      "\u001b[32m[1011 14:14:46 @monitor.py:467]\u001b[0m GAN_loss/gen/loss: 0.96797\n",
      "\u001b[32m[1011 14:14:46 @monitor.py:467]\u001b[0m QueueInput/queue_size: 50\n",
      "\u001b[32m[1011 14:14:46 @base.py:275]\u001b[0m Start Epoch 18 ...\n"
     ]
    },
    {
     "name": "stderr",
     "output_type": "stream",
     "text": [
      "100%|###################################################################################|175/175[00:05<00:00,29.28it/s]"
     ]
    },
    {
     "name": "stdout",
     "output_type": "stream",
     "text": [
      "\u001b[32m[1011 14:14:52 @base.py:285]\u001b[0m Epoch 18 (global_step 3150) finished, time:5.98 seconds.\n",
      "\u001b[32m[1011 14:14:52 @saver.py:79]\u001b[0m Model saved to ../output/Chicago/DATGAN_TEST2/model\\model-3150.\n",
      "\u001b[32m[1011 14:14:52 @monitor.py:467]\u001b[0m GAN_loss/discrim/accuracy_fake: 0.886\n",
      "\u001b[32m[1011 14:14:52 @monitor.py:467]\u001b[0m GAN_loss/discrim/accuracy_real: 0.154\n",
      "\u001b[32m[1011 14:14:52 @monitor.py:467]\u001b[0m GAN_loss/discrim/loss: 0.64952\n",
      "\u001b[32m[1011 14:14:52 @monitor.py:467]\u001b[0m GAN_loss/gen/final-g-loss: 0.98054\n",
      "\u001b[32m[1011 14:14:52 @monitor.py:467]\u001b[0m GAN_loss/gen/klloss: 0.0456\n",
      "\u001b[32m[1011 14:14:52 @monitor.py:467]\u001b[0m GAN_loss/gen/loss: 0.93494\n",
      "\u001b[32m[1011 14:14:52 @monitor.py:467]\u001b[0m QueueInput/queue_size: 50\n",
      "\u001b[32m[1011 14:14:52 @base.py:275]\u001b[0m Start Epoch 19 ...\n"
     ]
    },
    {
     "name": "stderr",
     "output_type": "stream",
     "text": [
      "\n",
      "100%|###################################################################################|175/175[00:05<00:00,30.47it/s]"
     ]
    },
    {
     "name": "stdout",
     "output_type": "stream",
     "text": [
      "\u001b[32m[1011 14:14:57 @base.py:285]\u001b[0m Epoch 19 (global_step 3325) finished, time:5.75 seconds.\n",
      "\u001b[32m[1011 14:14:57 @saver.py:79]\u001b[0m Model saved to ../output/Chicago/DATGAN_TEST2/model\\model-3325.\n",
      "\u001b[32m[1011 14:14:57 @monitor.py:467]\u001b[0m GAN_loss/discrim/accuracy_fake: 0.932\n",
      "\u001b[32m[1011 14:14:57 @monitor.py:467]\u001b[0m GAN_loss/discrim/accuracy_real: 0.146\n",
      "\u001b[32m[1011 14:14:57 @monitor.py:467]\u001b[0m GAN_loss/discrim/loss: 0.64454\n",
      "\u001b[32m[1011 14:14:57 @monitor.py:467]\u001b[0m GAN_loss/gen/final-g-loss: 1.0134\n",
      "\u001b[32m[1011 14:14:57 @monitor.py:467]\u001b[0m GAN_loss/gen/klloss: 0.062184\n",
      "\u001b[32m[1011 14:14:57 @monitor.py:467]\u001b[0m GAN_loss/gen/loss: 0.95121\n",
      "\u001b[32m[1011 14:14:57 @monitor.py:467]\u001b[0m QueueInput/queue_size: 50\n",
      "\u001b[32m[1011 14:14:57 @base.py:275]\u001b[0m Start Epoch 20 ...\n"
     ]
    },
    {
     "name": "stderr",
     "output_type": "stream",
     "text": [
      "\n",
      "100%|###################################################################################|175/175[00:05<00:00,30.44it/s]"
     ]
    },
    {
     "name": "stdout",
     "output_type": "stream",
     "text": [
      "\u001b[32m[1011 14:15:03 @base.py:285]\u001b[0m Epoch 20 (global_step 3500) finished, time:5.75 seconds.\n",
      "\u001b[32m[1011 14:15:03 @saver.py:79]\u001b[0m Model saved to ../output/Chicago/DATGAN_TEST2/model\\model-3500.\n",
      "\u001b[32m[1011 14:15:03 @monitor.py:467]\u001b[0m GAN_loss/discrim/accuracy_fake: 0.918\n",
      "\u001b[32m[1011 14:15:03 @monitor.py:467]\u001b[0m GAN_loss/discrim/accuracy_real: 0.146\n",
      "\u001b[32m[1011 14:15:03 @monitor.py:467]\u001b[0m GAN_loss/discrim/loss: 0.6388\n",
      "\u001b[32m[1011 14:15:03 @monitor.py:467]\u001b[0m GAN_loss/gen/final-g-loss: 0.99764\n",
      "\u001b[32m[1011 14:15:03 @monitor.py:467]\u001b[0m GAN_loss/gen/klloss: 0.04651\n",
      "\u001b[32m[1011 14:15:03 @monitor.py:467]\u001b[0m GAN_loss/gen/loss: 0.95113\n",
      "\u001b[32m[1011 14:15:03 @monitor.py:467]\u001b[0m QueueInput/queue_size: 50\n",
      "\u001b[32m[1011 14:15:03 @base.py:275]\u001b[0m Start Epoch 21 ...\n"
     ]
    },
    {
     "name": "stderr",
     "output_type": "stream",
     "text": [
      "\n",
      "100%|###################################################################################|175/175[00:05<00:00,30.43it/s]"
     ]
    },
    {
     "name": "stdout",
     "output_type": "stream",
     "text": [
      "\u001b[32m[1011 14:15:09 @base.py:285]\u001b[0m Epoch 21 (global_step 3675) finished, time:5.75 seconds.\n",
      "\u001b[32m[1011 14:15:09 @saver.py:79]\u001b[0m Model saved to ../output/Chicago/DATGAN_TEST2/model\\model-3675.\n",
      "\u001b[32m[1011 14:15:09 @monitor.py:467]\u001b[0m GAN_loss/discrim/accuracy_fake: 0.942\n",
      "\u001b[32m[1011 14:15:09 @monitor.py:467]\u001b[0m GAN_loss/discrim/accuracy_real: 0.13\n",
      "\u001b[32m[1011 14:15:09 @monitor.py:467]\u001b[0m GAN_loss/discrim/loss: 0.65006\n",
      "\u001b[32m[1011 14:15:09 @monitor.py:467]\u001b[0m GAN_loss/gen/final-g-loss: 0.99\n",
      "\u001b[32m[1011 14:15:09 @monitor.py:467]\u001b[0m GAN_loss/gen/klloss: 0.041633\n",
      "\u001b[32m[1011 14:15:09 @monitor.py:467]\u001b[0m GAN_loss/gen/loss: 0.94836\n",
      "\u001b[32m[1011 14:15:09 @monitor.py:467]\u001b[0m QueueInput/queue_size: 50\n",
      "\u001b[32m[1011 14:15:09 @base.py:275]\u001b[0m Start Epoch 22 ...\n"
     ]
    },
    {
     "name": "stderr",
     "output_type": "stream",
     "text": [
      "\n",
      "100%|###################################################################################|175/175[00:05<00:00,30.50it/s]"
     ]
    },
    {
     "name": "stdout",
     "output_type": "stream",
     "text": [
      "\u001b[32m[1011 14:15:15 @base.py:285]\u001b[0m Epoch 22 (global_step 3850) finished, time:5.74 seconds.\n",
      "\u001b[32m[1011 14:15:15 @saver.py:79]\u001b[0m Model saved to ../output/Chicago/DATGAN_TEST2/model\\model-3850.\n",
      "\u001b[32m[1011 14:15:15 @monitor.py:467]\u001b[0m GAN_loss/discrim/accuracy_fake: 0.938\n",
      "\u001b[32m[1011 14:15:15 @monitor.py:467]\u001b[0m GAN_loss/discrim/accuracy_real: 0.17\n",
      "\u001b[32m[1011 14:15:15 @monitor.py:467]\u001b[0m GAN_loss/discrim/loss: 0.63858\n",
      "\u001b[32m[1011 14:15:15 @monitor.py:467]\u001b[0m GAN_loss/gen/final-g-loss: 0.99083\n",
      "\u001b[32m[1011 14:15:15 @monitor.py:467]\u001b[0m GAN_loss/gen/klloss: 0.03898\n",
      "\u001b[32m[1011 14:15:15 @monitor.py:467]\u001b[0m GAN_loss/gen/loss: 0.95185\n",
      "\u001b[32m[1011 14:15:15 @monitor.py:467]\u001b[0m QueueInput/queue_size: 50\n",
      "\u001b[32m[1011 14:15:15 @base.py:275]\u001b[0m Start Epoch 23 ...\n"
     ]
    },
    {
     "name": "stderr",
     "output_type": "stream",
     "text": [
      "\n",
      "100%|###################################################################################|175/175[00:05<00:00,30.44it/s]"
     ]
    },
    {
     "name": "stdout",
     "output_type": "stream",
     "text": [
      "\u001b[32m[1011 14:15:21 @base.py:285]\u001b[0m Epoch 23 (global_step 4025) finished, time:5.75 seconds.\n",
      "\u001b[32m[1011 14:15:21 @saver.py:79]\u001b[0m Model saved to ../output/Chicago/DATGAN_TEST2/model\\model-4025.\n",
      "\u001b[32m[1011 14:15:21 @monitor.py:467]\u001b[0m GAN_loss/discrim/accuracy_fake: 0.922\n",
      "\u001b[32m[1011 14:15:21 @monitor.py:467]\u001b[0m GAN_loss/discrim/accuracy_real: 0.104\n",
      "\u001b[32m[1011 14:15:21 @monitor.py:467]\u001b[0m GAN_loss/discrim/loss: 0.64582\n",
      "\u001b[32m[1011 14:15:21 @monitor.py:467]\u001b[0m GAN_loss/gen/final-g-loss: 1.0117\n",
      "\u001b[32m[1011 14:15:21 @monitor.py:467]\u001b[0m GAN_loss/gen/klloss: 0.053806\n",
      "\u001b[32m[1011 14:15:21 @monitor.py:467]\u001b[0m GAN_loss/gen/loss: 0.95794\n",
      "\u001b[32m[1011 14:15:21 @monitor.py:467]\u001b[0m QueueInput/queue_size: 50\n",
      "\u001b[32m[1011 14:15:21 @base.py:275]\u001b[0m Start Epoch 24 ...\n"
     ]
    },
    {
     "name": "stderr",
     "output_type": "stream",
     "text": [
      "\n",
      "100%|###################################################################################|175/175[00:05<00:00,30.46it/s]"
     ]
    },
    {
     "name": "stdout",
     "output_type": "stream",
     "text": [
      "\u001b[32m[1011 14:15:27 @base.py:285]\u001b[0m Epoch 24 (global_step 4200) finished, time:5.74 seconds.\n",
      "\u001b[32m[1011 14:15:27 @saver.py:79]\u001b[0m Model saved to ../output/Chicago/DATGAN_TEST2/model\\model-4200.\n",
      "\u001b[32m[1011 14:15:27 @monitor.py:467]\u001b[0m GAN_loss/discrim/accuracy_fake: 0.932\n",
      "\u001b[32m[1011 14:15:27 @monitor.py:467]\u001b[0m GAN_loss/discrim/accuracy_real: 0.14\n",
      "\u001b[32m[1011 14:15:27 @monitor.py:467]\u001b[0m GAN_loss/discrim/loss: 0.64417\n",
      "\u001b[32m[1011 14:15:27 @monitor.py:467]\u001b[0m GAN_loss/gen/final-g-loss: 0.99761\n",
      "\u001b[32m[1011 14:15:27 @monitor.py:467]\u001b[0m GAN_loss/gen/klloss: 0.052469\n",
      "\u001b[32m[1011 14:15:27 @monitor.py:467]\u001b[0m GAN_loss/gen/loss: 0.94514\n",
      "\u001b[32m[1011 14:15:27 @monitor.py:467]\u001b[0m QueueInput/queue_size: 50\n",
      "\u001b[32m[1011 14:15:27 @base.py:275]\u001b[0m Start Epoch 25 ...\n"
     ]
    },
    {
     "name": "stderr",
     "output_type": "stream",
     "text": [
      "\n",
      "100%|###################################################################################|175/175[00:05<00:00,30.43it/s]"
     ]
    },
    {
     "name": "stdout",
     "output_type": "stream",
     "text": [
      "\u001b[32m[1011 14:15:32 @base.py:285]\u001b[0m Epoch 25 (global_step 4375) finished, time:5.75 seconds.\n",
      "\u001b[32m[1011 14:15:33 @saver.py:79]\u001b[0m Model saved to ../output/Chicago/DATGAN_TEST2/model\\model-4375.\n",
      "\u001b[32m[1011 14:15:33 @monitor.py:467]\u001b[0m GAN_loss/discrim/accuracy_fake: 0.912\n",
      "\u001b[32m[1011 14:15:33 @monitor.py:467]\u001b[0m GAN_loss/discrim/accuracy_real: 0.136\n",
      "\u001b[32m[1011 14:15:33 @monitor.py:467]\u001b[0m GAN_loss/discrim/loss: 0.64505\n",
      "\u001b[32m[1011 14:15:33 @monitor.py:467]\u001b[0m GAN_loss/gen/final-g-loss: 0.97442\n",
      "\u001b[32m[1011 14:15:33 @monitor.py:467]\u001b[0m GAN_loss/gen/klloss: 0.035\n",
      "\u001b[32m[1011 14:15:33 @monitor.py:467]\u001b[0m GAN_loss/gen/loss: 0.93942\n",
      "\u001b[32m[1011 14:15:33 @monitor.py:467]\u001b[0m QueueInput/queue_size: 50\n",
      "\u001b[32m[1011 14:15:33 @base.py:275]\u001b[0m Start Epoch 26 ...\n"
     ]
    },
    {
     "name": "stderr",
     "output_type": "stream",
     "text": [
      "\n",
      "100%|###################################################################################|175/175[00:05<00:00,30.48it/s]"
     ]
    },
    {
     "name": "stdout",
     "output_type": "stream",
     "text": [
      "\u001b[32m[1011 14:15:38 @base.py:285]\u001b[0m Epoch 26 (global_step 4550) finished, time:5.74 seconds.\n",
      "\u001b[32m[1011 14:15:38 @saver.py:79]\u001b[0m Model saved to ../output/Chicago/DATGAN_TEST2/model\\model-4550.\n",
      "\u001b[32m[1011 14:15:38 @monitor.py:467]\u001b[0m GAN_loss/discrim/accuracy_fake: 0.906\n",
      "\u001b[32m[1011 14:15:38 @monitor.py:467]\u001b[0m GAN_loss/discrim/accuracy_real: 0.148\n",
      "\u001b[32m[1011 14:15:38 @monitor.py:467]\u001b[0m GAN_loss/discrim/loss: 0.64846\n",
      "\u001b[32m[1011 14:15:38 @monitor.py:467]\u001b[0m GAN_loss/gen/final-g-loss: 0.99598\n",
      "\u001b[32m[1011 14:15:38 @monitor.py:467]\u001b[0m GAN_loss/gen/klloss: 0.055583\n",
      "\u001b[32m[1011 14:15:38 @monitor.py:467]\u001b[0m GAN_loss/gen/loss: 0.94039\n",
      "\u001b[32m[1011 14:15:38 @monitor.py:467]\u001b[0m QueueInput/queue_size: 50\n",
      "\u001b[32m[1011 14:15:38 @base.py:275]\u001b[0m Start Epoch 27 ...\n"
     ]
    },
    {
     "name": "stderr",
     "output_type": "stream",
     "text": [
      "\n",
      "100%|###################################################################################|175/175[00:05<00:00,30.42it/s]"
     ]
    },
    {
     "name": "stdout",
     "output_type": "stream",
     "text": [
      "\u001b[32m[1011 14:15:44 @base.py:285]\u001b[0m Epoch 27 (global_step 4725) finished, time:5.75 seconds.\n",
      "\u001b[32m[1011 14:15:44 @saver.py:79]\u001b[0m Model saved to ../output/Chicago/DATGAN_TEST2/model\\model-4725.\n",
      "\u001b[32m[1011 14:15:44 @monitor.py:467]\u001b[0m GAN_loss/discrim/accuracy_fake: 0.914\n",
      "\u001b[32m[1011 14:15:44 @monitor.py:467]\u001b[0m GAN_loss/discrim/accuracy_real: 0.168\n",
      "\u001b[32m[1011 14:15:44 @monitor.py:467]\u001b[0m GAN_loss/discrim/loss: 0.6468\n",
      "\u001b[32m[1011 14:15:44 @monitor.py:467]\u001b[0m GAN_loss/gen/final-g-loss: 1.0168\n",
      "\u001b[32m[1011 14:15:44 @monitor.py:467]\u001b[0m GAN_loss/gen/klloss: 0.081917\n",
      "\u001b[32m[1011 14:15:44 @monitor.py:467]\u001b[0m GAN_loss/gen/loss: 0.93485\n",
      "\u001b[32m[1011 14:15:44 @monitor.py:467]\u001b[0m QueueInput/queue_size: 50\n",
      "\u001b[32m[1011 14:15:44 @base.py:275]\u001b[0m Start Epoch 28 ...\n"
     ]
    },
    {
     "name": "stderr",
     "output_type": "stream",
     "text": [
      "\n",
      "100%|###################################################################################|175/175[00:05<00:00,30.50it/s]"
     ]
    },
    {
     "name": "stdout",
     "output_type": "stream",
     "text": [
      "\u001b[32m[1011 14:15:50 @base.py:285]\u001b[0m Epoch 28 (global_step 4900) finished, time:5.74 seconds.\n",
      "\u001b[32m[1011 14:15:50 @saver.py:79]\u001b[0m Model saved to ../output/Chicago/DATGAN_TEST2/model\\model-4900.\n",
      "\u001b[32m[1011 14:15:50 @monitor.py:467]\u001b[0m GAN_loss/discrim/accuracy_fake: 0.884\n",
      "\u001b[32m[1011 14:15:50 @monitor.py:467]\u001b[0m GAN_loss/discrim/accuracy_real: 0.144\n",
      "\u001b[32m[1011 14:15:50 @monitor.py:467]\u001b[0m GAN_loss/discrim/loss: 0.64886\n",
      "\u001b[32m[1011 14:15:50 @monitor.py:467]\u001b[0m GAN_loss/gen/final-g-loss: 1.0112\n",
      "\u001b[32m[1011 14:15:50 @monitor.py:467]\u001b[0m GAN_loss/gen/klloss: 0.056489\n",
      "\u001b[32m[1011 14:15:50 @monitor.py:467]\u001b[0m GAN_loss/gen/loss: 0.95476\n",
      "\u001b[32m[1011 14:15:50 @monitor.py:467]\u001b[0m QueueInput/queue_size: 50\n",
      "\u001b[32m[1011 14:15:50 @base.py:275]\u001b[0m Start Epoch 29 ...\n"
     ]
    },
    {
     "name": "stderr",
     "output_type": "stream",
     "text": [
      "\n",
      "100%|###################################################################################|175/175[00:05<00:00,30.45it/s]"
     ]
    },
    {
     "name": "stdout",
     "output_type": "stream",
     "text": [
      "\u001b[32m[1011 14:15:56 @base.py:285]\u001b[0m Epoch 29 (global_step 5075) finished, time:5.75 seconds.\n",
      "\u001b[32m[1011 14:15:56 @saver.py:79]\u001b[0m Model saved to ../output/Chicago/DATGAN_TEST2/model\\model-5075.\n",
      "\u001b[32m[1011 14:15:56 @monitor.py:467]\u001b[0m GAN_loss/discrim/accuracy_fake: 0.916\n",
      "\u001b[32m[1011 14:15:56 @monitor.py:467]\u001b[0m GAN_loss/discrim/accuracy_real: 0.166\n",
      "\u001b[32m[1011 14:15:56 @monitor.py:467]\u001b[0m GAN_loss/discrim/loss: 0.6389\n",
      "\u001b[32m[1011 14:15:56 @monitor.py:467]\u001b[0m GAN_loss/gen/final-g-loss: 1.0039\n",
      "\u001b[32m[1011 14:15:56 @monitor.py:467]\u001b[0m GAN_loss/gen/klloss: 0.051147\n",
      "\u001b[32m[1011 14:15:56 @monitor.py:467]\u001b[0m GAN_loss/gen/loss: 0.95279\n",
      "\u001b[32m[1011 14:15:56 @monitor.py:467]\u001b[0m QueueInput/queue_size: 50\n",
      "\u001b[32m[1011 14:15:56 @base.py:275]\u001b[0m Start Epoch 30 ...\n"
     ]
    },
    {
     "name": "stderr",
     "output_type": "stream",
     "text": [
      "\n",
      "100%|###################################################################################|175/175[00:05<00:00,30.49it/s]"
     ]
    },
    {
     "name": "stdout",
     "output_type": "stream",
     "text": [
      "\u001b[32m[1011 14:16:02 @base.py:285]\u001b[0m Epoch 30 (global_step 5250) finished, time:5.74 seconds.\n",
      "\u001b[32m[1011 14:16:02 @saver.py:79]\u001b[0m Model saved to ../output/Chicago/DATGAN_TEST2/model\\model-5250.\n",
      "\u001b[32m[1011 14:16:02 @monitor.py:467]\u001b[0m GAN_loss/discrim/accuracy_fake: 0.928\n",
      "\u001b[32m[1011 14:16:02 @monitor.py:467]\u001b[0m GAN_loss/discrim/accuracy_real: 0.138\n",
      "\u001b[32m[1011 14:16:02 @monitor.py:467]\u001b[0m GAN_loss/discrim/loss: 0.6426\n",
      "\u001b[32m[1011 14:16:02 @monitor.py:467]\u001b[0m GAN_loss/gen/final-g-loss: 1.0446\n",
      "\u001b[32m[1011 14:16:02 @monitor.py:467]\u001b[0m GAN_loss/gen/klloss: 0.093353\n",
      "\u001b[32m[1011 14:16:02 @monitor.py:467]\u001b[0m GAN_loss/gen/loss: 0.95121\n",
      "\u001b[32m[1011 14:16:02 @monitor.py:467]\u001b[0m QueueInput/queue_size: 50\n",
      "\u001b[32m[1011 14:16:02 @base.py:275]\u001b[0m Start Epoch 31 ...\n"
     ]
    },
    {
     "name": "stderr",
     "output_type": "stream",
     "text": [
      "\n",
      "100%|###################################################################################|175/175[00:05<00:00,30.43it/s]"
     ]
    },
    {
     "name": "stdout",
     "output_type": "stream",
     "text": [
      "\u001b[32m[1011 14:16:08 @base.py:285]\u001b[0m Epoch 31 (global_step 5425) finished, time:5.75 seconds.\n",
      "\u001b[32m[1011 14:16:08 @saver.py:79]\u001b[0m Model saved to ../output/Chicago/DATGAN_TEST2/model\\model-5425.\n",
      "\u001b[32m[1011 14:16:08 @monitor.py:467]\u001b[0m GAN_loss/discrim/accuracy_fake: 0.912\n",
      "\u001b[32m[1011 14:16:08 @monitor.py:467]\u001b[0m GAN_loss/discrim/accuracy_real: 0.134\n",
      "\u001b[32m[1011 14:16:08 @monitor.py:467]\u001b[0m GAN_loss/discrim/loss: 0.64657\n",
      "\u001b[32m[1011 14:16:08 @monitor.py:467]\u001b[0m GAN_loss/gen/final-g-loss: 1.0035\n",
      "\u001b[32m[1011 14:16:08 @monitor.py:467]\u001b[0m GAN_loss/gen/klloss: 0.05825\n",
      "\u001b[32m[1011 14:16:08 @monitor.py:467]\u001b[0m GAN_loss/gen/loss: 0.94523\n",
      "\u001b[32m[1011 14:16:08 @monitor.py:467]\u001b[0m QueueInput/queue_size: 50\n",
      "\u001b[32m[1011 14:16:08 @base.py:275]\u001b[0m Start Epoch 32 ...\n"
     ]
    },
    {
     "name": "stderr",
     "output_type": "stream",
     "text": [
      "\n",
      "100%|###################################################################################|175/175[00:05<00:00,30.49it/s]"
     ]
    },
    {
     "name": "stdout",
     "output_type": "stream",
     "text": [
      "\u001b[32m[1011 14:16:13 @base.py:285]\u001b[0m Epoch 32 (global_step 5600) finished, time:5.74 seconds.\n",
      "\u001b[32m[1011 14:16:13 @saver.py:79]\u001b[0m Model saved to ../output/Chicago/DATGAN_TEST2/model\\model-5600.\n",
      "\u001b[32m[1011 14:16:13 @monitor.py:467]\u001b[0m GAN_loss/discrim/accuracy_fake: 0.928\n",
      "\u001b[32m[1011 14:16:13 @monitor.py:467]\u001b[0m GAN_loss/discrim/accuracy_real: 0.148\n",
      "\u001b[32m[1011 14:16:13 @monitor.py:467]\u001b[0m GAN_loss/discrim/loss: 0.64357\n",
      "\u001b[32m[1011 14:16:13 @monitor.py:467]\u001b[0m GAN_loss/gen/final-g-loss: 1.0006\n",
      "\u001b[32m[1011 14:16:13 @monitor.py:467]\u001b[0m GAN_loss/gen/klloss: 0.052929\n",
      "\u001b[32m[1011 14:16:13 @monitor.py:467]\u001b[0m GAN_loss/gen/loss: 0.94771\n",
      "\u001b[32m[1011 14:16:13 @monitor.py:467]\u001b[0m QueueInput/queue_size: 50\n",
      "\u001b[32m[1011 14:16:13 @base.py:275]\u001b[0m Start Epoch 33 ...\n"
     ]
    },
    {
     "name": "stderr",
     "output_type": "stream",
     "text": [
      "\n",
      "100%|###################################################################################|175/175[00:05<00:00,30.46it/s]"
     ]
    },
    {
     "name": "stdout",
     "output_type": "stream",
     "text": [
      "\u001b[32m[1011 14:16:19 @base.py:285]\u001b[0m Epoch 33 (global_step 5775) finished, time:5.75 seconds.\n",
      "\u001b[32m[1011 14:16:19 @saver.py:79]\u001b[0m Model saved to ../output/Chicago/DATGAN_TEST2/model\\model-5775.\n",
      "\u001b[32m[1011 14:16:19 @monitor.py:467]\u001b[0m GAN_loss/discrim/accuracy_fake: 0.924\n",
      "\u001b[32m[1011 14:16:19 @monitor.py:467]\u001b[0m GAN_loss/discrim/accuracy_real: 0.114\n",
      "\u001b[32m[1011 14:16:19 @monitor.py:467]\u001b[0m GAN_loss/discrim/loss: 0.65372\n",
      "\u001b[32m[1011 14:16:19 @monitor.py:467]\u001b[0m GAN_loss/gen/final-g-loss: 0.99457\n",
      "\u001b[32m[1011 14:16:19 @monitor.py:467]\u001b[0m GAN_loss/gen/klloss: 0.05512\n",
      "\u001b[32m[1011 14:16:19 @monitor.py:467]\u001b[0m GAN_loss/gen/loss: 0.93945\n",
      "\u001b[32m[1011 14:16:19 @monitor.py:467]\u001b[0m QueueInput/queue_size: 50\n",
      "\u001b[32m[1011 14:16:19 @base.py:275]\u001b[0m Start Epoch 34 ...\n"
     ]
    },
    {
     "name": "stderr",
     "output_type": "stream",
     "text": [
      "\n",
      "100%|###################################################################################|175/175[00:05<00:00,30.47it/s]"
     ]
    },
    {
     "name": "stdout",
     "output_type": "stream",
     "text": [
      "\u001b[32m[1011 14:16:25 @base.py:285]\u001b[0m Epoch 34 (global_step 5950) finished, time:5.74 seconds.\n",
      "\u001b[32m[1011 14:16:25 @saver.py:79]\u001b[0m Model saved to ../output/Chicago/DATGAN_TEST2/model\\model-5950.\n",
      "\u001b[32m[1011 14:16:25 @monitor.py:467]\u001b[0m GAN_loss/discrim/accuracy_fake: 0.928\n",
      "\u001b[32m[1011 14:16:25 @monitor.py:467]\u001b[0m GAN_loss/discrim/accuracy_real: 0.148\n",
      "\u001b[32m[1011 14:16:25 @monitor.py:467]\u001b[0m GAN_loss/discrim/loss: 0.63837\n",
      "\u001b[32m[1011 14:16:25 @monitor.py:467]\u001b[0m GAN_loss/gen/final-g-loss: 0.99831\n",
      "\u001b[32m[1011 14:16:25 @monitor.py:467]\u001b[0m GAN_loss/gen/klloss: 0.046422\n",
      "\u001b[32m[1011 14:16:25 @monitor.py:467]\u001b[0m GAN_loss/gen/loss: 0.95189\n",
      "\u001b[32m[1011 14:16:25 @monitor.py:467]\u001b[0m QueueInput/queue_size: 50\n",
      "\u001b[32m[1011 14:16:25 @base.py:275]\u001b[0m Start Epoch 35 ...\n"
     ]
    },
    {
     "name": "stderr",
     "output_type": "stream",
     "text": [
      "\n",
      "100%|###################################################################################|175/175[00:05<00:00,30.44it/s]"
     ]
    },
    {
     "name": "stdout",
     "output_type": "stream",
     "text": [
      "\u001b[32m[1011 14:16:31 @base.py:285]\u001b[0m Epoch 35 (global_step 6125) finished, time:5.75 seconds.\n",
      "\u001b[32m[1011 14:16:31 @saver.py:79]\u001b[0m Model saved to ../output/Chicago/DATGAN_TEST2/model\\model-6125.\n",
      "\u001b[32m[1011 14:16:31 @monitor.py:467]\u001b[0m GAN_loss/discrim/accuracy_fake: 0.932\n",
      "\u001b[32m[1011 14:16:31 @monitor.py:467]\u001b[0m GAN_loss/discrim/accuracy_real: 0.154\n",
      "\u001b[32m[1011 14:16:31 @monitor.py:467]\u001b[0m GAN_loss/discrim/loss: 0.64554\n",
      "\u001b[32m[1011 14:16:31 @monitor.py:467]\u001b[0m GAN_loss/gen/final-g-loss: 1.0035\n",
      "\u001b[32m[1011 14:16:31 @monitor.py:467]\u001b[0m GAN_loss/gen/klloss: 0.044321\n",
      "\u001b[32m[1011 14:16:31 @monitor.py:467]\u001b[0m GAN_loss/gen/loss: 0.95915\n",
      "\u001b[32m[1011 14:16:31 @monitor.py:467]\u001b[0m QueueInput/queue_size: 50\n",
      "\u001b[32m[1011 14:16:31 @base.py:275]\u001b[0m Start Epoch 36 ...\n"
     ]
    },
    {
     "name": "stderr",
     "output_type": "stream",
     "text": [
      "\n",
      "100%|###################################################################################|175/175[00:05<00:00,30.45it/s]"
     ]
    },
    {
     "name": "stdout",
     "output_type": "stream",
     "text": [
      "\u001b[32m[1011 14:16:37 @base.py:285]\u001b[0m Epoch 36 (global_step 6300) finished, time:5.75 seconds.\n",
      "\u001b[32m[1011 14:16:37 @saver.py:79]\u001b[0m Model saved to ../output/Chicago/DATGAN_TEST2/model\\model-6300.\n",
      "\u001b[32m[1011 14:16:37 @monitor.py:467]\u001b[0m GAN_loss/discrim/accuracy_fake: 0.924\n",
      "\u001b[32m[1011 14:16:37 @monitor.py:467]\u001b[0m GAN_loss/discrim/accuracy_real: 0.142\n",
      "\u001b[32m[1011 14:16:37 @monitor.py:467]\u001b[0m GAN_loss/discrim/loss: 0.64581\n",
      "\u001b[32m[1011 14:16:37 @monitor.py:467]\u001b[0m GAN_loss/gen/final-g-loss: 0.98999\n",
      "\u001b[32m[1011 14:16:37 @monitor.py:467]\u001b[0m GAN_loss/gen/klloss: 0.055572\n",
      "\u001b[32m[1011 14:16:37 @monitor.py:467]\u001b[0m GAN_loss/gen/loss: 0.93442\n",
      "\u001b[32m[1011 14:16:37 @monitor.py:467]\u001b[0m QueueInput/queue_size: 50\n",
      "\u001b[32m[1011 14:16:37 @base.py:275]\u001b[0m Start Epoch 37 ...\n"
     ]
    },
    {
     "name": "stderr",
     "output_type": "stream",
     "text": [
      "\n",
      "100%|###################################################################################|175/175[00:05<00:00,30.34it/s]"
     ]
    },
    {
     "name": "stdout",
     "output_type": "stream",
     "text": [
      "\u001b[32m[1011 14:16:43 @base.py:285]\u001b[0m Epoch 37 (global_step 6475) finished, time:5.77 seconds.\n",
      "\u001b[32m[1011 14:16:43 @saver.py:79]\u001b[0m Model saved to ../output/Chicago/DATGAN_TEST2/model\\model-6475.\n",
      "\u001b[32m[1011 14:16:43 @monitor.py:467]\u001b[0m GAN_loss/discrim/accuracy_fake: 0.894\n",
      "\u001b[32m[1011 14:16:43 @monitor.py:467]\u001b[0m GAN_loss/discrim/accuracy_real: 0.14\n",
      "\u001b[32m[1011 14:16:43 @monitor.py:467]\u001b[0m GAN_loss/discrim/loss: 0.65106\n",
      "\u001b[32m[1011 14:16:43 @monitor.py:467]\u001b[0m GAN_loss/gen/final-g-loss: 0.99153\n",
      "\u001b[32m[1011 14:16:43 @monitor.py:467]\u001b[0m GAN_loss/gen/klloss: 0.056084\n",
      "\u001b[32m[1011 14:16:43 @monitor.py:467]\u001b[0m GAN_loss/gen/loss: 0.93544\n",
      "\u001b[32m[1011 14:16:43 @monitor.py:467]\u001b[0m QueueInput/queue_size: 50\n",
      "\u001b[32m[1011 14:16:43 @base.py:275]\u001b[0m Start Epoch 38 ...\n"
     ]
    },
    {
     "name": "stderr",
     "output_type": "stream",
     "text": [
      "\n",
      "100%|###################################################################################|175/175[00:05<00:00,30.43it/s]"
     ]
    },
    {
     "name": "stdout",
     "output_type": "stream",
     "text": [
      "\u001b[32m[1011 14:16:48 @base.py:285]\u001b[0m Epoch 38 (global_step 6650) finished, time:5.75 seconds.\n",
      "\u001b[32m[1011 14:16:49 @saver.py:79]\u001b[0m Model saved to ../output/Chicago/DATGAN_TEST2/model\\model-6650.\n",
      "\u001b[32m[1011 14:16:49 @monitor.py:467]\u001b[0m GAN_loss/discrim/accuracy_fake: 0.93\n",
      "\u001b[32m[1011 14:16:49 @monitor.py:467]\u001b[0m GAN_loss/discrim/accuracy_real: 0.13\n",
      "\u001b[32m[1011 14:16:49 @monitor.py:467]\u001b[0m GAN_loss/discrim/loss: 0.64432\n",
      "\u001b[32m[1011 14:16:49 @monitor.py:467]\u001b[0m GAN_loss/gen/final-g-loss: 0.98493\n",
      "\u001b[32m[1011 14:16:49 @monitor.py:467]\u001b[0m GAN_loss/gen/klloss: 0.033763\n",
      "\u001b[32m[1011 14:16:49 @monitor.py:467]\u001b[0m GAN_loss/gen/loss: 0.95117\n",
      "\u001b[32m[1011 14:16:49 @monitor.py:467]\u001b[0m QueueInput/queue_size: 50\n",
      "\u001b[32m[1011 14:16:49 @base.py:275]\u001b[0m Start Epoch 39 ...\n"
     ]
    },
    {
     "name": "stderr",
     "output_type": "stream",
     "text": [
      "\n",
      "100%|###################################################################################|175/175[00:05<00:00,30.47it/s]"
     ]
    },
    {
     "name": "stdout",
     "output_type": "stream",
     "text": [
      "\u001b[32m[1011 14:16:54 @base.py:285]\u001b[0m Epoch 39 (global_step 6825) finished, time:5.74 seconds.\n",
      "\u001b[32m[1011 14:16:54 @saver.py:79]\u001b[0m Model saved to ../output/Chicago/DATGAN_TEST2/model\\model-6825.\n",
      "\u001b[32m[1011 14:16:54 @monitor.py:467]\u001b[0m GAN_loss/discrim/accuracy_fake: 0.924\n",
      "\u001b[32m[1011 14:16:54 @monitor.py:467]\u001b[0m GAN_loss/discrim/accuracy_real: 0.16\n",
      "\u001b[32m[1011 14:16:54 @monitor.py:467]\u001b[0m GAN_loss/discrim/loss: 0.64349\n",
      "\u001b[32m[1011 14:16:54 @monitor.py:467]\u001b[0m GAN_loss/gen/final-g-loss: 1.0005\n",
      "\u001b[32m[1011 14:16:54 @monitor.py:467]\u001b[0m GAN_loss/gen/klloss: 0.051006\n",
      "\u001b[32m[1011 14:16:54 @monitor.py:467]\u001b[0m GAN_loss/gen/loss: 0.94954\n",
      "\u001b[32m[1011 14:16:54 @monitor.py:467]\u001b[0m QueueInput/queue_size: 50\n",
      "\u001b[32m[1011 14:16:54 @base.py:275]\u001b[0m Start Epoch 40 ...\n"
     ]
    },
    {
     "name": "stderr",
     "output_type": "stream",
     "text": [
      "\n",
      "100%|###################################################################################|175/175[00:05<00:00,30.42it/s]"
     ]
    },
    {
     "name": "stdout",
     "output_type": "stream",
     "text": [
      "\u001b[32m[1011 14:17:00 @base.py:285]\u001b[0m Epoch 40 (global_step 7000) finished, time:5.75 seconds.\n",
      "\u001b[32m[1011 14:17:00 @saver.py:79]\u001b[0m Model saved to ../output/Chicago/DATGAN_TEST2/model\\model-7000.\n",
      "\u001b[32m[1011 14:17:00 @monitor.py:467]\u001b[0m GAN_loss/discrim/accuracy_fake: 0.928\n",
      "\u001b[32m[1011 14:17:00 @monitor.py:467]\u001b[0m GAN_loss/discrim/accuracy_real: 0.14\n",
      "\u001b[32m[1011 14:17:00 @monitor.py:467]\u001b[0m GAN_loss/discrim/loss: 0.6403\n",
      "\u001b[32m[1011 14:17:00 @monitor.py:467]\u001b[0m GAN_loss/gen/final-g-loss: 0.98919\n",
      "\u001b[32m[1011 14:17:00 @monitor.py:467]\u001b[0m GAN_loss/gen/klloss: 0.040316\n",
      "\u001b[32m[1011 14:17:00 @monitor.py:467]\u001b[0m GAN_loss/gen/loss: 0.94887\n",
      "\u001b[32m[1011 14:17:00 @monitor.py:467]\u001b[0m QueueInput/queue_size: 50\n",
      "\u001b[32m[1011 14:17:00 @base.py:275]\u001b[0m Start Epoch 41 ...\n"
     ]
    },
    {
     "name": "stderr",
     "output_type": "stream",
     "text": [
      "\n",
      "100%|###################################################################################|175/175[00:05<00:00,30.45it/s]"
     ]
    },
    {
     "name": "stdout",
     "output_type": "stream",
     "text": [
      "\u001b[32m[1011 14:17:06 @base.py:285]\u001b[0m Epoch 41 (global_step 7175) finished, time:5.75 seconds.\n",
      "\u001b[32m[1011 14:17:06 @saver.py:79]\u001b[0m Model saved to ../output/Chicago/DATGAN_TEST2/model\\model-7175.\n",
      "\u001b[32m[1011 14:17:06 @monitor.py:467]\u001b[0m GAN_loss/discrim/accuracy_fake: 0.916\n",
      "\u001b[32m[1011 14:17:06 @monitor.py:467]\u001b[0m GAN_loss/discrim/accuracy_real: 0.126\n",
      "\u001b[32m[1011 14:17:06 @monitor.py:467]\u001b[0m GAN_loss/discrim/loss: 0.642\n",
      "\u001b[32m[1011 14:17:06 @monitor.py:467]\u001b[0m GAN_loss/gen/final-g-loss: 1.0128\n",
      "\u001b[32m[1011 14:17:06 @monitor.py:467]\u001b[0m GAN_loss/gen/klloss: 0.061013\n",
      "\u001b[32m[1011 14:17:06 @monitor.py:467]\u001b[0m GAN_loss/gen/loss: 0.9518\n",
      "\u001b[32m[1011 14:17:06 @monitor.py:467]\u001b[0m QueueInput/queue_size: 50\n",
      "\u001b[32m[1011 14:17:06 @base.py:275]\u001b[0m Start Epoch 42 ...\n"
     ]
    },
    {
     "name": "stderr",
     "output_type": "stream",
     "text": [
      "\n",
      "100%|###################################################################################|175/175[00:05<00:00,30.45it/s]"
     ]
    },
    {
     "name": "stdout",
     "output_type": "stream",
     "text": [
      "\u001b[32m[1011 14:17:12 @base.py:285]\u001b[0m Epoch 42 (global_step 7350) finished, time:5.75 seconds.\n",
      "\u001b[32m[1011 14:17:12 @saver.py:79]\u001b[0m Model saved to ../output/Chicago/DATGAN_TEST2/model\\model-7350.\n",
      "\u001b[32m[1011 14:17:12 @monitor.py:467]\u001b[0m GAN_loss/discrim/accuracy_fake: 0.934\n",
      "\u001b[32m[1011 14:17:12 @monitor.py:467]\u001b[0m GAN_loss/discrim/accuracy_real: 0.144\n",
      "\u001b[32m[1011 14:17:12 @monitor.py:467]\u001b[0m GAN_loss/discrim/loss: 0.64075\n",
      "\u001b[32m[1011 14:17:12 @monitor.py:467]\u001b[0m GAN_loss/gen/final-g-loss: 1.0069\n",
      "\u001b[32m[1011 14:17:12 @monitor.py:467]\u001b[0m GAN_loss/gen/klloss: 0.062835\n",
      "\u001b[32m[1011 14:17:12 @monitor.py:467]\u001b[0m GAN_loss/gen/loss: 0.94406\n",
      "\u001b[32m[1011 14:17:12 @monitor.py:467]\u001b[0m QueueInput/queue_size: 50\n",
      "\u001b[32m[1011 14:17:12 @base.py:275]\u001b[0m Start Epoch 43 ...\n"
     ]
    },
    {
     "name": "stderr",
     "output_type": "stream",
     "text": [
      "\n",
      "100%|###################################################################################|175/175[00:05<00:00,30.46it/s]"
     ]
    },
    {
     "name": "stdout",
     "output_type": "stream",
     "text": [
      "\u001b[32m[1011 14:17:18 @base.py:285]\u001b[0m Epoch 43 (global_step 7525) finished, time:5.75 seconds.\n",
      "\u001b[32m[1011 14:17:18 @saver.py:79]\u001b[0m Model saved to ../output/Chicago/DATGAN_TEST2/model\\model-7525.\n",
      "\u001b[32m[1011 14:17:18 @monitor.py:467]\u001b[0m GAN_loss/discrim/accuracy_fake: 0.922\n",
      "\u001b[32m[1011 14:17:18 @monitor.py:467]\u001b[0m GAN_loss/discrim/accuracy_real: 0.122\n",
      "\u001b[32m[1011 14:17:18 @monitor.py:467]\u001b[0m GAN_loss/discrim/loss: 0.64626\n",
      "\u001b[32m[1011 14:17:18 @monitor.py:467]\u001b[0m GAN_loss/gen/final-g-loss: 1.0182\n",
      "\u001b[32m[1011 14:17:18 @monitor.py:467]\u001b[0m GAN_loss/gen/klloss: 0.071274\n",
      "\u001b[32m[1011 14:17:18 @monitor.py:467]\u001b[0m GAN_loss/gen/loss: 0.94693\n",
      "\u001b[32m[1011 14:17:18 @monitor.py:467]\u001b[0m QueueInput/queue_size: 50\n",
      "\u001b[32m[1011 14:17:18 @base.py:275]\u001b[0m Start Epoch 44 ...\n"
     ]
    },
    {
     "name": "stderr",
     "output_type": "stream",
     "text": [
      "\n",
      "100%|###################################################################################|175/175[00:05<00:00,30.42it/s]"
     ]
    },
    {
     "name": "stdout",
     "output_type": "stream",
     "text": [
      "\u001b[32m[1011 14:17:24 @base.py:285]\u001b[0m Epoch 44 (global_step 7700) finished, time:5.75 seconds.\n",
      "\u001b[32m[1011 14:17:24 @saver.py:79]\u001b[0m Model saved to ../output/Chicago/DATGAN_TEST2/model\\model-7700.\n",
      "\u001b[32m[1011 14:17:24 @monitor.py:467]\u001b[0m GAN_loss/discrim/accuracy_fake: 0.922\n",
      "\u001b[32m[1011 14:17:24 @monitor.py:467]\u001b[0m GAN_loss/discrim/accuracy_real: 0.112\n",
      "\u001b[32m[1011 14:17:24 @monitor.py:467]\u001b[0m GAN_loss/discrim/loss: 0.64767\n",
      "\u001b[32m[1011 14:17:24 @monitor.py:467]\u001b[0m GAN_loss/gen/final-g-loss: 0.9918\n",
      "\u001b[32m[1011 14:17:24 @monitor.py:467]\u001b[0m GAN_loss/gen/klloss: 0.050135\n",
      "\u001b[32m[1011 14:17:24 @monitor.py:467]\u001b[0m GAN_loss/gen/loss: 0.94166\n",
      "\u001b[32m[1011 14:17:24 @monitor.py:467]\u001b[0m QueueInput/queue_size: 50\n",
      "\u001b[32m[1011 14:17:24 @base.py:275]\u001b[0m Start Epoch 45 ...\n"
     ]
    },
    {
     "name": "stderr",
     "output_type": "stream",
     "text": [
      "\n",
      "100%|###################################################################################|175/175[00:05<00:00,30.48it/s]"
     ]
    },
    {
     "name": "stdout",
     "output_type": "stream",
     "text": [
      "\u001b[32m[1011 14:17:29 @base.py:285]\u001b[0m Epoch 45 (global_step 7875) finished, time:5.74 seconds.\n",
      "\u001b[32m[1011 14:17:29 @saver.py:79]\u001b[0m Model saved to ../output/Chicago/DATGAN_TEST2/model\\model-7875.\n",
      "\u001b[32m[1011 14:17:29 @monitor.py:467]\u001b[0m GAN_loss/discrim/accuracy_fake: 0.92\n",
      "\u001b[32m[1011 14:17:29 @monitor.py:467]\u001b[0m GAN_loss/discrim/accuracy_real: 0.156\n",
      "\u001b[32m[1011 14:17:29 @monitor.py:467]\u001b[0m GAN_loss/discrim/loss: 0.64325\n",
      "\u001b[32m[1011 14:17:29 @monitor.py:467]\u001b[0m GAN_loss/gen/final-g-loss: 0.96978\n",
      "\u001b[32m[1011 14:17:29 @monitor.py:467]\u001b[0m GAN_loss/gen/klloss: 0.034873\n",
      "\u001b[32m[1011 14:17:29 @monitor.py:467]\u001b[0m GAN_loss/gen/loss: 0.93491\n",
      "\u001b[32m[1011 14:17:29 @monitor.py:467]\u001b[0m QueueInput/queue_size: 50\n",
      "\u001b[32m[1011 14:17:29 @base.py:275]\u001b[0m Start Epoch 46 ...\n"
     ]
    },
    {
     "name": "stderr",
     "output_type": "stream",
     "text": [
      "\n",
      "100%|###################################################################################|175/175[00:05<00:00,30.41it/s]"
     ]
    },
    {
     "name": "stdout",
     "output_type": "stream",
     "text": [
      "\u001b[32m[1011 14:17:35 @base.py:285]\u001b[0m Epoch 46 (global_step 8050) finished, time:5.76 seconds.\n",
      "\u001b[32m[1011 14:17:35 @saver.py:79]\u001b[0m Model saved to ../output/Chicago/DATGAN_TEST2/model\\model-8050.\n",
      "\u001b[32m[1011 14:17:35 @monitor.py:467]\u001b[0m GAN_loss/discrim/accuracy_fake: 0.94\n",
      "\u001b[32m[1011 14:17:35 @monitor.py:467]\u001b[0m GAN_loss/discrim/accuracy_real: 0.116\n",
      "\u001b[32m[1011 14:17:35 @monitor.py:467]\u001b[0m GAN_loss/discrim/loss: 0.6471\n",
      "\u001b[32m[1011 14:17:35 @monitor.py:467]\u001b[0m GAN_loss/gen/final-g-loss: 0.98305\n",
      "\u001b[32m[1011 14:17:35 @monitor.py:467]\u001b[0m GAN_loss/gen/klloss: 0.038338\n",
      "\u001b[32m[1011 14:17:35 @monitor.py:467]\u001b[0m GAN_loss/gen/loss: 0.94471\n",
      "\u001b[32m[1011 14:17:35 @monitor.py:467]\u001b[0m QueueInput/queue_size: 50\n",
      "\u001b[32m[1011 14:17:35 @base.py:275]\u001b[0m Start Epoch 47 ...\n"
     ]
    },
    {
     "name": "stderr",
     "output_type": "stream",
     "text": [
      "\n",
      "100%|###################################################################################|175/175[00:05<00:00,30.45it/s]"
     ]
    },
    {
     "name": "stdout",
     "output_type": "stream",
     "text": [
      "\u001b[32m[1011 14:17:41 @base.py:285]\u001b[0m Epoch 47 (global_step 8225) finished, time:5.75 seconds.\n",
      "\u001b[32m[1011 14:17:41 @saver.py:79]\u001b[0m Model saved to ../output/Chicago/DATGAN_TEST2/model\\model-8225.\n",
      "\u001b[32m[1011 14:17:41 @monitor.py:467]\u001b[0m GAN_loss/discrim/accuracy_fake: 0.932\n",
      "\u001b[32m[1011 14:17:41 @monitor.py:467]\u001b[0m GAN_loss/discrim/accuracy_real: 0.122\n",
      "\u001b[32m[1011 14:17:41 @monitor.py:467]\u001b[0m GAN_loss/discrim/loss: 0.64209\n",
      "\u001b[32m[1011 14:17:41 @monitor.py:467]\u001b[0m GAN_loss/gen/final-g-loss: 0.98778\n",
      "\u001b[32m[1011 14:17:41 @monitor.py:467]\u001b[0m GAN_loss/gen/klloss: 0.045281\n",
      "\u001b[32m[1011 14:17:41 @monitor.py:467]\u001b[0m GAN_loss/gen/loss: 0.9425\n",
      "\u001b[32m[1011 14:17:41 @monitor.py:467]\u001b[0m QueueInput/queue_size: 50\n",
      "\u001b[32m[1011 14:17:41 @base.py:275]\u001b[0m Start Epoch 48 ...\n"
     ]
    },
    {
     "name": "stderr",
     "output_type": "stream",
     "text": [
      "\n",
      "100%|###################################################################################|175/175[00:05<00:00,30.40it/s]"
     ]
    },
    {
     "name": "stdout",
     "output_type": "stream",
     "text": [
      "\u001b[32m[1011 14:17:47 @base.py:285]\u001b[0m Epoch 48 (global_step 8400) finished, time:5.76 seconds.\n",
      "\u001b[32m[1011 14:17:47 @saver.py:79]\u001b[0m Model saved to ../output/Chicago/DATGAN_TEST2/model\\model-8400.\n",
      "\u001b[32m[1011 14:17:47 @monitor.py:467]\u001b[0m GAN_loss/discrim/accuracy_fake: 0.926\n",
      "\u001b[32m[1011 14:17:47 @monitor.py:467]\u001b[0m GAN_loss/discrim/accuracy_real: 0.098\n",
      "\u001b[32m[1011 14:17:47 @monitor.py:467]\u001b[0m GAN_loss/discrim/loss: 0.63982\n",
      "\u001b[32m[1011 14:17:47 @monitor.py:467]\u001b[0m GAN_loss/gen/final-g-loss: 1.002\n",
      "\u001b[32m[1011 14:17:47 @monitor.py:467]\u001b[0m GAN_loss/gen/klloss: 0.045869\n",
      "\u001b[32m[1011 14:17:47 @monitor.py:467]\u001b[0m GAN_loss/gen/loss: 0.95609\n",
      "\u001b[32m[1011 14:17:47 @monitor.py:467]\u001b[0m QueueInput/queue_size: 50\n",
      "\u001b[32m[1011 14:17:47 @base.py:275]\u001b[0m Start Epoch 49 ...\n"
     ]
    },
    {
     "name": "stderr",
     "output_type": "stream",
     "text": [
      "\n",
      "100%|###################################################################################|175/175[00:05<00:00,30.46it/s]"
     ]
    },
    {
     "name": "stdout",
     "output_type": "stream",
     "text": [
      "\u001b[32m[1011 14:17:53 @base.py:285]\u001b[0m Epoch 49 (global_step 8575) finished, time:5.75 seconds.\n",
      "\u001b[32m[1011 14:17:53 @saver.py:79]\u001b[0m Model saved to ../output/Chicago/DATGAN_TEST2/model\\model-8575.\n",
      "\u001b[32m[1011 14:17:53 @monitor.py:467]\u001b[0m GAN_loss/discrim/accuracy_fake: 0.942\n",
      "\u001b[32m[1011 14:17:53 @monitor.py:467]\u001b[0m GAN_loss/discrim/accuracy_real: 0.1\n",
      "\u001b[32m[1011 14:17:53 @monitor.py:467]\u001b[0m GAN_loss/discrim/loss: 0.64065\n",
      "\u001b[32m[1011 14:17:53 @monitor.py:467]\u001b[0m GAN_loss/gen/final-g-loss: 0.98082\n",
      "\u001b[32m[1011 14:17:53 @monitor.py:467]\u001b[0m GAN_loss/gen/klloss: 0.033115\n",
      "\u001b[32m[1011 14:17:53 @monitor.py:467]\u001b[0m GAN_loss/gen/loss: 0.94771\n",
      "\u001b[32m[1011 14:17:53 @monitor.py:467]\u001b[0m QueueInput/queue_size: 50\n",
      "\u001b[32m[1011 14:17:53 @base.py:275]\u001b[0m Start Epoch 50 ...\n"
     ]
    },
    {
     "name": "stderr",
     "output_type": "stream",
     "text": [
      "\n",
      "100%|###################################################################################|175/175[00:05<00:00,30.42it/s]"
     ]
    },
    {
     "name": "stdout",
     "output_type": "stream",
     "text": [
      "\u001b[32m[1011 14:17:59 @base.py:285]\u001b[0m Epoch 50 (global_step 8750) finished, time:5.75 seconds.\n",
      "\u001b[32m[1011 14:17:59 @saver.py:79]\u001b[0m Model saved to ../output/Chicago/DATGAN_TEST2/model\\model-8750.\n",
      "\u001b[32m[1011 14:17:59 @monitor.py:467]\u001b[0m GAN_loss/discrim/accuracy_fake: 0.962\n",
      "\u001b[32m[1011 14:17:59 @monitor.py:467]\u001b[0m GAN_loss/discrim/accuracy_real: 0.074\n",
      "\u001b[32m[1011 14:17:59 @monitor.py:467]\u001b[0m GAN_loss/discrim/loss: 0.64575\n",
      "\u001b[32m[1011 14:17:59 @monitor.py:467]\u001b[0m GAN_loss/gen/final-g-loss: 1.0061\n",
      "\u001b[32m[1011 14:17:59 @monitor.py:467]\u001b[0m GAN_loss/gen/klloss: 0.061564\n",
      "\u001b[32m[1011 14:17:59 @monitor.py:467]\u001b[0m GAN_loss/gen/loss: 0.94453\n",
      "\u001b[32m[1011 14:17:59 @monitor.py:467]\u001b[0m QueueInput/queue_size: 50\n",
      "\u001b[32m[1011 14:17:59 @base.py:275]\u001b[0m Start Epoch 51 ...\n"
     ]
    },
    {
     "name": "stderr",
     "output_type": "stream",
     "text": [
      "\n",
      "100%|###################################################################################|175/175[00:05<00:00,30.44it/s]"
     ]
    },
    {
     "name": "stdout",
     "output_type": "stream",
     "text": [
      "\u001b[32m[1011 14:18:04 @base.py:285]\u001b[0m Epoch 51 (global_step 8925) finished, time:5.75 seconds.\n",
      "\u001b[32m[1011 14:18:05 @saver.py:79]\u001b[0m Model saved to ../output/Chicago/DATGAN_TEST2/model\\model-8925.\n",
      "\u001b[32m[1011 14:18:05 @monitor.py:467]\u001b[0m GAN_loss/discrim/accuracy_fake: 0.938\n",
      "\u001b[32m[1011 14:18:05 @monitor.py:467]\u001b[0m GAN_loss/discrim/accuracy_real: 0.116\n",
      "\u001b[32m[1011 14:18:05 @monitor.py:467]\u001b[0m GAN_loss/discrim/loss: 0.64747\n",
      "\u001b[32m[1011 14:18:05 @monitor.py:467]\u001b[0m GAN_loss/gen/final-g-loss: 1.0014\n",
      "\u001b[32m[1011 14:18:05 @monitor.py:467]\u001b[0m GAN_loss/gen/klloss: 0.069556\n",
      "\u001b[32m[1011 14:18:05 @monitor.py:467]\u001b[0m GAN_loss/gen/loss: 0.93186\n",
      "\u001b[32m[1011 14:18:05 @monitor.py:467]\u001b[0m QueueInput/queue_size: 50\n",
      "\u001b[32m[1011 14:18:05 @base.py:275]\u001b[0m Start Epoch 52 ...\n"
     ]
    },
    {
     "name": "stderr",
     "output_type": "stream",
     "text": [
      "\n",
      "100%|###################################################################################|175/175[00:05<00:00,30.45it/s]"
     ]
    },
    {
     "name": "stdout",
     "output_type": "stream",
     "text": [
      "\u001b[32m[1011 14:18:10 @base.py:285]\u001b[0m Epoch 52 (global_step 9100) finished, time:5.75 seconds.\n",
      "\u001b[32m[1011 14:18:10 @saver.py:79]\u001b[0m Model saved to ../output/Chicago/DATGAN_TEST2/model\\model-9100.\n",
      "\u001b[32m[1011 14:18:10 @monitor.py:467]\u001b[0m GAN_loss/discrim/accuracy_fake: 0.932\n",
      "\u001b[32m[1011 14:18:10 @monitor.py:467]\u001b[0m GAN_loss/discrim/accuracy_real: 0.066\n",
      "\u001b[32m[1011 14:18:10 @monitor.py:467]\u001b[0m GAN_loss/discrim/loss: 0.65435\n",
      "\u001b[32m[1011 14:18:10 @monitor.py:467]\u001b[0m GAN_loss/gen/final-g-loss: 1.0029\n",
      "\u001b[32m[1011 14:18:10 @monitor.py:467]\u001b[0m GAN_loss/gen/klloss: 0.071445\n",
      "\u001b[32m[1011 14:18:10 @monitor.py:467]\u001b[0m GAN_loss/gen/loss: 0.93148\n",
      "\u001b[32m[1011 14:18:10 @monitor.py:467]\u001b[0m QueueInput/queue_size: 50\n",
      "\u001b[32m[1011 14:18:10 @base.py:275]\u001b[0m Start Epoch 53 ...\n"
     ]
    },
    {
     "name": "stderr",
     "output_type": "stream",
     "text": [
      "\n",
      "100%|###################################################################################|175/175[00:05<00:00,30.43it/s]"
     ]
    },
    {
     "name": "stdout",
     "output_type": "stream",
     "text": [
      "\u001b[32m[1011 14:18:16 @base.py:285]\u001b[0m Epoch 53 (global_step 9275) finished, time:5.75 seconds.\n",
      "\u001b[32m[1011 14:18:16 @saver.py:79]\u001b[0m Model saved to ../output/Chicago/DATGAN_TEST2/model\\model-9275.\n",
      "\u001b[32m[1011 14:18:16 @monitor.py:467]\u001b[0m GAN_loss/discrim/accuracy_fake: 0.95\n",
      "\u001b[32m[1011 14:18:16 @monitor.py:467]\u001b[0m GAN_loss/discrim/accuracy_real: 0.12\n",
      "\u001b[32m[1011 14:18:16 @monitor.py:467]\u001b[0m GAN_loss/discrim/loss: 0.64156\n",
      "\u001b[32m[1011 14:18:16 @monitor.py:467]\u001b[0m GAN_loss/gen/final-g-loss: 0.98802\n",
      "\u001b[32m[1011 14:18:16 @monitor.py:467]\u001b[0m GAN_loss/gen/klloss: 0.050363\n",
      "\u001b[32m[1011 14:18:16 @monitor.py:467]\u001b[0m GAN_loss/gen/loss: 0.93766\n",
      "\u001b[32m[1011 14:18:16 @monitor.py:467]\u001b[0m QueueInput/queue_size: 50\n",
      "\u001b[32m[1011 14:18:16 @base.py:275]\u001b[0m Start Epoch 54 ...\n"
     ]
    },
    {
     "name": "stderr",
     "output_type": "stream",
     "text": [
      "\n",
      "100%|###################################################################################|175/175[00:05<00:00,30.47it/s]"
     ]
    },
    {
     "name": "stdout",
     "output_type": "stream",
     "text": [
      "\u001b[32m[1011 14:18:22 @base.py:285]\u001b[0m Epoch 54 (global_step 9450) finished, time:5.74 seconds.\n",
      "\u001b[32m[1011 14:18:22 @saver.py:79]\u001b[0m Model saved to ../output/Chicago/DATGAN_TEST2/model\\model-9450.\n",
      "\u001b[32m[1011 14:18:22 @monitor.py:467]\u001b[0m GAN_loss/discrim/accuracy_fake: 0.952\n",
      "\u001b[32m[1011 14:18:22 @monitor.py:467]\u001b[0m GAN_loss/discrim/accuracy_real: 0.08\n",
      "\u001b[32m[1011 14:18:22 @monitor.py:467]\u001b[0m GAN_loss/discrim/loss: 0.64442\n",
      "\u001b[32m[1011 14:18:22 @monitor.py:467]\u001b[0m GAN_loss/gen/final-g-loss: 0.9959\n",
      "\u001b[32m[1011 14:18:22 @monitor.py:467]\u001b[0m GAN_loss/gen/klloss: 0.053402\n",
      "\u001b[32m[1011 14:18:22 @monitor.py:467]\u001b[0m GAN_loss/gen/loss: 0.94249\n",
      "\u001b[32m[1011 14:18:22 @monitor.py:467]\u001b[0m QueueInput/queue_size: 50\n",
      "\u001b[32m[1011 14:18:22 @base.py:275]\u001b[0m Start Epoch 55 ...\n"
     ]
    },
    {
     "name": "stderr",
     "output_type": "stream",
     "text": [
      "\n",
      "100%|###################################################################################|175/175[00:05<00:00,30.43it/s]"
     ]
    },
    {
     "name": "stdout",
     "output_type": "stream",
     "text": [
      "\u001b[32m[1011 14:18:28 @base.py:285]\u001b[0m Epoch 55 (global_step 9625) finished, time:5.75 seconds.\n",
      "\u001b[32m[1011 14:18:28 @saver.py:79]\u001b[0m Model saved to ../output/Chicago/DATGAN_TEST2/model\\model-9625.\n",
      "\u001b[32m[1011 14:18:28 @monitor.py:467]\u001b[0m GAN_loss/discrim/accuracy_fake: 0.934\n",
      "\u001b[32m[1011 14:18:28 @monitor.py:467]\u001b[0m GAN_loss/discrim/accuracy_real: 0.082\n",
      "\u001b[32m[1011 14:18:28 @monitor.py:467]\u001b[0m GAN_loss/discrim/loss: 0.65056\n",
      "\u001b[32m[1011 14:18:28 @monitor.py:467]\u001b[0m GAN_loss/gen/final-g-loss: 0.96706\n",
      "\u001b[32m[1011 14:18:28 @monitor.py:467]\u001b[0m GAN_loss/gen/klloss: 0.037626\n",
      "\u001b[32m[1011 14:18:28 @monitor.py:467]\u001b[0m GAN_loss/gen/loss: 0.92944\n",
      "\u001b[32m[1011 14:18:28 @monitor.py:467]\u001b[0m QueueInput/queue_size: 50\n",
      "\u001b[32m[1011 14:18:28 @base.py:275]\u001b[0m Start Epoch 56 ...\n"
     ]
    },
    {
     "name": "stderr",
     "output_type": "stream",
     "text": [
      "\n",
      "100%|###################################################################################|175/175[00:05<00:00,30.46it/s]"
     ]
    },
    {
     "name": "stdout",
     "output_type": "stream",
     "text": [
      "\u001b[32m[1011 14:18:34 @base.py:285]\u001b[0m Epoch 56 (global_step 9800) finished, time:5.75 seconds.\n",
      "\u001b[32m[1011 14:18:34 @saver.py:79]\u001b[0m Model saved to ../output/Chicago/DATGAN_TEST2/model\\model-9800.\n",
      "\u001b[32m[1011 14:18:34 @monitor.py:467]\u001b[0m GAN_loss/discrim/accuracy_fake: 0.942\n",
      "\u001b[32m[1011 14:18:34 @monitor.py:467]\u001b[0m GAN_loss/discrim/accuracy_real: 0.098\n",
      "\u001b[32m[1011 14:18:34 @monitor.py:467]\u001b[0m GAN_loss/discrim/loss: 0.64263\n",
      "\u001b[32m[1011 14:18:34 @monitor.py:467]\u001b[0m GAN_loss/gen/final-g-loss: 0.99871\n",
      "\u001b[32m[1011 14:18:34 @monitor.py:467]\u001b[0m GAN_loss/gen/klloss: 0.057079\n",
      "\u001b[32m[1011 14:18:34 @monitor.py:467]\u001b[0m GAN_loss/gen/loss: 0.94163\n",
      "\u001b[32m[1011 14:18:34 @monitor.py:467]\u001b[0m QueueInput/queue_size: 50\n",
      "\u001b[32m[1011 14:18:34 @base.py:275]\u001b[0m Start Epoch 57 ...\n"
     ]
    },
    {
     "name": "stderr",
     "output_type": "stream",
     "text": [
      "\n",
      "100%|###################################################################################|175/175[00:05<00:00,30.30it/s]"
     ]
    },
    {
     "name": "stdout",
     "output_type": "stream",
     "text": [
      "\u001b[32m[1011 14:18:40 @base.py:285]\u001b[0m Epoch 57 (global_step 9975) finished, time:5.78 seconds.\n",
      "\u001b[32m[1011 14:18:40 @saver.py:79]\u001b[0m Model saved to ../output/Chicago/DATGAN_TEST2/model\\model-9975.\n",
      "\u001b[32m[1011 14:18:40 @monitor.py:467]\u001b[0m GAN_loss/discrim/accuracy_fake: 0.926\n",
      "\u001b[32m[1011 14:18:40 @monitor.py:467]\u001b[0m GAN_loss/discrim/accuracy_real: 0.094\n",
      "\u001b[32m[1011 14:18:40 @monitor.py:467]\u001b[0m GAN_loss/discrim/loss: 0.64879\n",
      "\u001b[32m[1011 14:18:40 @monitor.py:467]\u001b[0m GAN_loss/gen/final-g-loss: 0.97204\n",
      "\u001b[32m[1011 14:18:40 @monitor.py:467]\u001b[0m GAN_loss/gen/klloss: 0.040599\n",
      "\u001b[32m[1011 14:18:40 @monitor.py:467]\u001b[0m GAN_loss/gen/loss: 0.93144\n",
      "\u001b[32m[1011 14:18:40 @monitor.py:467]\u001b[0m QueueInput/queue_size: 50\n",
      "\u001b[32m[1011 14:18:40 @base.py:275]\u001b[0m Start Epoch 58 ...\n"
     ]
    },
    {
     "name": "stderr",
     "output_type": "stream",
     "text": [
      "\n",
      "100%|###################################################################################|175/175[00:05<00:00,30.38it/s]"
     ]
    },
    {
     "name": "stdout",
     "output_type": "stream",
     "text": [
      "\u001b[32m[1011 14:18:45 @base.py:285]\u001b[0m Epoch 58 (global_step 10150) finished, time:5.76 seconds.\n",
      "\u001b[32m[1011 14:18:46 @saver.py:79]\u001b[0m Model saved to ../output/Chicago/DATGAN_TEST2/model\\model-10150.\n",
      "\u001b[32m[1011 14:18:46 @monitor.py:467]\u001b[0m GAN_loss/discrim/accuracy_fake: 0.942\n",
      "\u001b[32m[1011 14:18:46 @monitor.py:467]\u001b[0m GAN_loss/discrim/accuracy_real: 0.11\n",
      "\u001b[32m[1011 14:18:46 @monitor.py:467]\u001b[0m GAN_loss/discrim/loss: 0.64759\n",
      "\u001b[32m[1011 14:18:46 @monitor.py:467]\u001b[0m GAN_loss/gen/final-g-loss: 0.97523\n",
      "\u001b[32m[1011 14:18:46 @monitor.py:467]\u001b[0m GAN_loss/gen/klloss: 0.047717\n",
      "\u001b[32m[1011 14:18:46 @monitor.py:467]\u001b[0m GAN_loss/gen/loss: 0.92751\n",
      "\u001b[32m[1011 14:18:46 @monitor.py:467]\u001b[0m QueueInput/queue_size: 50\n",
      "\u001b[32m[1011 14:18:46 @base.py:275]\u001b[0m Start Epoch 59 ...\n"
     ]
    },
    {
     "name": "stderr",
     "output_type": "stream",
     "text": [
      "\n",
      "100%|###################################################################################|175/175[00:05<00:00,30.39it/s]"
     ]
    },
    {
     "name": "stdout",
     "output_type": "stream",
     "text": [
      "\u001b[32m[1011 14:18:51 @base.py:285]\u001b[0m Epoch 59 (global_step 10325) finished, time:5.76 seconds.\n",
      "\u001b[32m[1011 14:18:51 @saver.py:79]\u001b[0m Model saved to ../output/Chicago/DATGAN_TEST2/model\\model-10325.\n",
      "\u001b[32m[1011 14:18:51 @monitor.py:467]\u001b[0m GAN_loss/discrim/accuracy_fake: 0.96\n",
      "\u001b[32m[1011 14:18:51 @monitor.py:467]\u001b[0m GAN_loss/discrim/accuracy_real: 0.1\n",
      "\u001b[32m[1011 14:18:51 @monitor.py:467]\u001b[0m GAN_loss/discrim/loss: 0.64602\n",
      "\u001b[32m[1011 14:18:51 @monitor.py:467]\u001b[0m GAN_loss/gen/final-g-loss: 1.0089\n",
      "\u001b[32m[1011 14:18:51 @monitor.py:467]\u001b[0m GAN_loss/gen/klloss: 0.062638\n",
      "\u001b[32m[1011 14:18:51 @monitor.py:467]\u001b[0m GAN_loss/gen/loss: 0.94622\n",
      "\u001b[32m[1011 14:18:51 @monitor.py:467]\u001b[0m QueueInput/queue_size: 50\n",
      "\u001b[32m[1011 14:18:51 @base.py:275]\u001b[0m Start Epoch 60 ...\n"
     ]
    },
    {
     "name": "stderr",
     "output_type": "stream",
     "text": [
      "\n",
      "100%|###################################################################################|175/175[00:05<00:00,30.43it/s]"
     ]
    },
    {
     "name": "stdout",
     "output_type": "stream",
     "text": [
      "\u001b[32m[1011 14:18:57 @base.py:285]\u001b[0m Epoch 60 (global_step 10500) finished, time:5.75 seconds.\n",
      "\u001b[32m[1011 14:18:57 @saver.py:79]\u001b[0m Model saved to ../output/Chicago/DATGAN_TEST2/model\\model-10500.\n",
      "\u001b[32m[1011 14:18:57 @monitor.py:467]\u001b[0m GAN_loss/discrim/accuracy_fake: 0.938\n",
      "\u001b[32m[1011 14:18:57 @monitor.py:467]\u001b[0m GAN_loss/discrim/accuracy_real: 0.086\n",
      "\u001b[32m[1011 14:18:57 @monitor.py:467]\u001b[0m GAN_loss/discrim/loss: 0.65516\n",
      "\u001b[32m[1011 14:18:57 @monitor.py:467]\u001b[0m GAN_loss/gen/final-g-loss: 0.98658\n",
      "\u001b[32m[1011 14:18:57 @monitor.py:467]\u001b[0m GAN_loss/gen/klloss: 0.056897\n",
      "\u001b[32m[1011 14:18:57 @monitor.py:467]\u001b[0m GAN_loss/gen/loss: 0.92968\n",
      "\u001b[32m[1011 14:18:57 @monitor.py:467]\u001b[0m QueueInput/queue_size: 50\n",
      "\u001b[32m[1011 14:18:57 @base.py:275]\u001b[0m Start Epoch 61 ...\n"
     ]
    },
    {
     "name": "stderr",
     "output_type": "stream",
     "text": [
      "\n",
      "100%|###################################################################################|175/175[00:05<00:00,30.39it/s]"
     ]
    },
    {
     "name": "stdout",
     "output_type": "stream",
     "text": [
      "\u001b[32m[1011 14:19:03 @base.py:285]\u001b[0m Epoch 61 (global_step 10675) finished, time:5.76 seconds.\n",
      "\u001b[32m[1011 14:19:03 @saver.py:79]\u001b[0m Model saved to ../output/Chicago/DATGAN_TEST2/model\\model-10675.\n",
      "\u001b[32m[1011 14:19:03 @monitor.py:467]\u001b[0m GAN_loss/discrim/accuracy_fake: 0.952\n",
      "\u001b[32m[1011 14:19:03 @monitor.py:467]\u001b[0m GAN_loss/discrim/accuracy_real: 0.106\n",
      "\u001b[32m[1011 14:19:03 @monitor.py:467]\u001b[0m GAN_loss/discrim/loss: 0.63997\n",
      "\u001b[32m[1011 14:19:03 @monitor.py:467]\u001b[0m GAN_loss/gen/final-g-loss: 0.98664\n",
      "\u001b[32m[1011 14:19:03 @monitor.py:467]\u001b[0m GAN_loss/gen/klloss: 0.041827\n",
      "\u001b[32m[1011 14:19:03 @monitor.py:467]\u001b[0m GAN_loss/gen/loss: 0.94482\n",
      "\u001b[32m[1011 14:19:03 @monitor.py:467]\u001b[0m QueueInput/queue_size: 50\n",
      "\u001b[32m[1011 14:19:03 @base.py:275]\u001b[0m Start Epoch 62 ...\n"
     ]
    },
    {
     "name": "stderr",
     "output_type": "stream",
     "text": [
      "\n",
      "100%|###################################################################################|175/175[00:05<00:00,30.45it/s]"
     ]
    },
    {
     "name": "stdout",
     "output_type": "stream",
     "text": [
      "\u001b[32m[1011 14:19:09 @base.py:285]\u001b[0m Epoch 62 (global_step 10850) finished, time:5.75 seconds.\n",
      "\u001b[32m[1011 14:19:09 @saver.py:79]\u001b[0m Model saved to ../output/Chicago/DATGAN_TEST2/model\\model-10850.\n",
      "\u001b[32m[1011 14:19:09 @monitor.py:467]\u001b[0m GAN_loss/discrim/accuracy_fake: 0.942\n",
      "\u001b[32m[1011 14:19:09 @monitor.py:467]\u001b[0m GAN_loss/discrim/accuracy_real: 0.082\n",
      "\u001b[32m[1011 14:19:09 @monitor.py:467]\u001b[0m GAN_loss/discrim/loss: 0.64437\n",
      "\u001b[32m[1011 14:19:09 @monitor.py:467]\u001b[0m GAN_loss/gen/final-g-loss: 1.0211\n",
      "\u001b[32m[1011 14:19:09 @monitor.py:467]\u001b[0m GAN_loss/gen/klloss: 0.072263\n",
      "\u001b[32m[1011 14:19:09 @monitor.py:467]\u001b[0m GAN_loss/gen/loss: 0.94887\n",
      "\u001b[32m[1011 14:19:09 @monitor.py:467]\u001b[0m QueueInput/queue_size: 50\n",
      "\u001b[32m[1011 14:19:09 @base.py:275]\u001b[0m Start Epoch 63 ...\n"
     ]
    },
    {
     "name": "stderr",
     "output_type": "stream",
     "text": [
      "\n",
      "100%|###################################################################################|175/175[00:05<00:00,30.44it/s]"
     ]
    },
    {
     "name": "stdout",
     "output_type": "stream",
     "text": [
      "\u001b[32m[1011 14:19:15 @base.py:285]\u001b[0m Epoch 63 (global_step 11025) finished, time:5.75 seconds.\n",
      "\u001b[32m[1011 14:19:15 @saver.py:79]\u001b[0m Model saved to ../output/Chicago/DATGAN_TEST2/model\\model-11025.\n",
      "\u001b[32m[1011 14:19:15 @monitor.py:467]\u001b[0m GAN_loss/discrim/accuracy_fake: 0.952\n",
      "\u001b[32m[1011 14:19:15 @monitor.py:467]\u001b[0m GAN_loss/discrim/accuracy_real: 0.11\n",
      "\u001b[32m[1011 14:19:15 @monitor.py:467]\u001b[0m GAN_loss/discrim/loss: 0.6449\n",
      "\u001b[32m[1011 14:19:15 @monitor.py:467]\u001b[0m GAN_loss/gen/final-g-loss: 0.99366\n",
      "\u001b[32m[1011 14:19:15 @monitor.py:467]\u001b[0m GAN_loss/gen/klloss: 0.046313\n",
      "\u001b[32m[1011 14:19:15 @monitor.py:467]\u001b[0m GAN_loss/gen/loss: 0.94735\n",
      "\u001b[32m[1011 14:19:15 @monitor.py:467]\u001b[0m QueueInput/queue_size: 50\n",
      "\u001b[32m[1011 14:19:15 @base.py:275]\u001b[0m Start Epoch 64 ...\n"
     ]
    },
    {
     "name": "stderr",
     "output_type": "stream",
     "text": [
      "\n",
      "100%|###################################################################################|175/175[00:05<00:00,30.47it/s]"
     ]
    },
    {
     "name": "stdout",
     "output_type": "stream",
     "text": [
      "\u001b[32m[1011 14:19:21 @base.py:285]\u001b[0m Epoch 64 (global_step 11200) finished, time:5.74 seconds.\n",
      "\u001b[32m[1011 14:19:21 @saver.py:79]\u001b[0m Model saved to ../output/Chicago/DATGAN_TEST2/model\\model-11200.\n",
      "\u001b[32m[1011 14:19:21 @monitor.py:467]\u001b[0m GAN_loss/discrim/accuracy_fake: 0.964\n",
      "\u001b[32m[1011 14:19:21 @monitor.py:467]\u001b[0m GAN_loss/discrim/accuracy_real: 0.102\n",
      "\u001b[32m[1011 14:19:21 @monitor.py:467]\u001b[0m GAN_loss/discrim/loss: 0.64191\n",
      "\u001b[32m[1011 14:19:21 @monitor.py:467]\u001b[0m GAN_loss/gen/final-g-loss: 0.98936\n",
      "\u001b[32m[1011 14:19:21 @monitor.py:467]\u001b[0m GAN_loss/gen/klloss: 0.044374\n",
      "\u001b[32m[1011 14:19:21 @monitor.py:467]\u001b[0m GAN_loss/gen/loss: 0.94499\n",
      "\u001b[32m[1011 14:19:21 @monitor.py:467]\u001b[0m QueueInput/queue_size: 50\n",
      "\u001b[32m[1011 14:19:21 @base.py:275]\u001b[0m Start Epoch 65 ...\n"
     ]
    },
    {
     "name": "stderr",
     "output_type": "stream",
     "text": [
      "\n",
      "100%|###################################################################################|175/175[00:05<00:00,30.44it/s]"
     ]
    },
    {
     "name": "stdout",
     "output_type": "stream",
     "text": [
      "\u001b[32m[1011 14:19:26 @base.py:285]\u001b[0m Epoch 65 (global_step 11375) finished, time:5.75 seconds.\n",
      "\u001b[32m[1011 14:19:27 @saver.py:79]\u001b[0m Model saved to ../output/Chicago/DATGAN_TEST2/model\\model-11375.\n",
      "\u001b[32m[1011 14:19:27 @monitor.py:467]\u001b[0m GAN_loss/discrim/accuracy_fake: 0.932\n",
      "\u001b[32m[1011 14:19:27 @monitor.py:467]\u001b[0m GAN_loss/discrim/accuracy_real: 0.104\n",
      "\u001b[32m[1011 14:19:27 @monitor.py:467]\u001b[0m GAN_loss/discrim/loss: 0.65085\n",
      "\u001b[32m[1011 14:19:27 @monitor.py:467]\u001b[0m GAN_loss/gen/final-g-loss: 1.0079\n",
      "\u001b[32m[1011 14:19:27 @monitor.py:467]\u001b[0m GAN_loss/gen/klloss: 0.066239\n",
      "\u001b[32m[1011 14:19:27 @monitor.py:467]\u001b[0m GAN_loss/gen/loss: 0.94167\n",
      "\u001b[32m[1011 14:19:27 @monitor.py:467]\u001b[0m QueueInput/queue_size: 50\n",
      "\u001b[32m[1011 14:19:27 @base.py:275]\u001b[0m Start Epoch 66 ...\n"
     ]
    },
    {
     "name": "stderr",
     "output_type": "stream",
     "text": [
      "\n",
      "100%|###################################################################################|175/175[00:05<00:00,30.49it/s]"
     ]
    },
    {
     "name": "stdout",
     "output_type": "stream",
     "text": [
      "\u001b[32m[1011 14:19:32 @base.py:285]\u001b[0m Epoch 66 (global_step 11550) finished, time:5.74 seconds.\n",
      "\u001b[32m[1011 14:19:32 @saver.py:79]\u001b[0m Model saved to ../output/Chicago/DATGAN_TEST2/model\\model-11550.\n",
      "\u001b[32m[1011 14:19:32 @monitor.py:467]\u001b[0m GAN_loss/discrim/accuracy_fake: 0.934\n",
      "\u001b[32m[1011 14:19:32 @monitor.py:467]\u001b[0m GAN_loss/discrim/accuracy_real: 0.116\n",
      "\u001b[32m[1011 14:19:32 @monitor.py:467]\u001b[0m GAN_loss/discrim/loss: 0.64721\n",
      "\u001b[32m[1011 14:19:32 @monitor.py:467]\u001b[0m GAN_loss/gen/final-g-loss: 0.99142\n",
      "\u001b[32m[1011 14:19:32 @monitor.py:467]\u001b[0m GAN_loss/gen/klloss: 0.059297\n",
      "\u001b[32m[1011 14:19:32 @monitor.py:467]\u001b[0m GAN_loss/gen/loss: 0.93212\n",
      "\u001b[32m[1011 14:19:32 @monitor.py:467]\u001b[0m QueueInput/queue_size: 50\n",
      "\u001b[32m[1011 14:19:32 @base.py:275]\u001b[0m Start Epoch 67 ...\n"
     ]
    },
    {
     "name": "stderr",
     "output_type": "stream",
     "text": [
      "\n",
      "100%|###################################################################################|175/175[00:05<00:00,30.43it/s]"
     ]
    },
    {
     "name": "stdout",
     "output_type": "stream",
     "text": [
      "\u001b[32m[1011 14:19:38 @base.py:285]\u001b[0m Epoch 67 (global_step 11725) finished, time:5.75 seconds.\n",
      "\u001b[32m[1011 14:19:38 @saver.py:79]\u001b[0m Model saved to ../output/Chicago/DATGAN_TEST2/model\\model-11725.\n",
      "\u001b[32m[1011 14:19:38 @monitor.py:467]\u001b[0m GAN_loss/discrim/accuracy_fake: 0.934\n",
      "\u001b[32m[1011 14:19:38 @monitor.py:467]\u001b[0m GAN_loss/discrim/accuracy_real: 0.094\n",
      "\u001b[32m[1011 14:19:38 @monitor.py:467]\u001b[0m GAN_loss/discrim/loss: 0.64429\n",
      "\u001b[32m[1011 14:19:38 @monitor.py:467]\u001b[0m GAN_loss/gen/final-g-loss: 1.0093\n",
      "\u001b[32m[1011 14:19:38 @monitor.py:467]\u001b[0m GAN_loss/gen/klloss: 0.064499\n",
      "\u001b[32m[1011 14:19:38 @monitor.py:467]\u001b[0m GAN_loss/gen/loss: 0.94484\n",
      "\u001b[32m[1011 14:19:38 @monitor.py:467]\u001b[0m QueueInput/queue_size: 50\n",
      "\u001b[32m[1011 14:19:38 @base.py:275]\u001b[0m Start Epoch 68 ...\n"
     ]
    },
    {
     "name": "stderr",
     "output_type": "stream",
     "text": [
      "\n",
      "100%|###################################################################################|175/175[00:05<00:00,30.34it/s]"
     ]
    },
    {
     "name": "stdout",
     "output_type": "stream",
     "text": [
      "\u001b[32m[1011 14:19:44 @base.py:285]\u001b[0m Epoch 68 (global_step 11900) finished, time:5.77 seconds.\n",
      "\u001b[32m[1011 14:19:44 @saver.py:79]\u001b[0m Model saved to ../output/Chicago/DATGAN_TEST2/model\\model-11900.\n",
      "\u001b[32m[1011 14:19:44 @monitor.py:467]\u001b[0m GAN_loss/discrim/accuracy_fake: 0.918\n",
      "\u001b[32m[1011 14:19:44 @monitor.py:467]\u001b[0m GAN_loss/discrim/accuracy_real: 0.106\n",
      "\u001b[32m[1011 14:19:44 @monitor.py:467]\u001b[0m GAN_loss/discrim/loss: 0.64568\n",
      "\u001b[32m[1011 14:19:44 @monitor.py:467]\u001b[0m GAN_loss/gen/final-g-loss: 0.99529\n",
      "\u001b[32m[1011 14:19:44 @monitor.py:467]\u001b[0m GAN_loss/gen/klloss: 0.05791\n",
      "\u001b[32m[1011 14:19:44 @monitor.py:467]\u001b[0m GAN_loss/gen/loss: 0.93738\n",
      "\u001b[32m[1011 14:19:44 @monitor.py:467]\u001b[0m QueueInput/queue_size: 50\n",
      "\u001b[32m[1011 14:19:44 @base.py:275]\u001b[0m Start Epoch 69 ...\n"
     ]
    },
    {
     "name": "stderr",
     "output_type": "stream",
     "text": [
      "\n",
      "100%|###################################################################################|175/175[00:05<00:00,30.38it/s]"
     ]
    },
    {
     "name": "stdout",
     "output_type": "stream",
     "text": [
      "\u001b[32m[1011 14:19:50 @base.py:285]\u001b[0m Epoch 69 (global_step 12075) finished, time:5.76 seconds.\n",
      "\u001b[32m[1011 14:19:50 @saver.py:79]\u001b[0m Model saved to ../output/Chicago/DATGAN_TEST2/model\\model-12075.\n",
      "\u001b[32m[1011 14:19:50 @monitor.py:467]\u001b[0m GAN_loss/discrim/accuracy_fake: 0.954\n",
      "\u001b[32m[1011 14:19:50 @monitor.py:467]\u001b[0m GAN_loss/discrim/accuracy_real: 0.088\n",
      "\u001b[32m[1011 14:19:50 @monitor.py:467]\u001b[0m GAN_loss/discrim/loss: 0.64671\n",
      "\u001b[32m[1011 14:19:50 @monitor.py:467]\u001b[0m GAN_loss/gen/final-g-loss: 0.98176\n",
      "\u001b[32m[1011 14:19:50 @monitor.py:467]\u001b[0m GAN_loss/gen/klloss: 0.036308\n",
      "\u001b[32m[1011 14:19:50 @monitor.py:467]\u001b[0m GAN_loss/gen/loss: 0.94545\n",
      "\u001b[32m[1011 14:19:50 @monitor.py:467]\u001b[0m QueueInput/queue_size: 50\n",
      "\u001b[32m[1011 14:19:50 @base.py:275]\u001b[0m Start Epoch 70 ...\n"
     ]
    },
    {
     "name": "stderr",
     "output_type": "stream",
     "text": [
      "\n",
      "100%|###################################################################################|175/175[00:05<00:00,30.30it/s]"
     ]
    },
    {
     "name": "stdout",
     "output_type": "stream",
     "text": [
      "\u001b[32m[1011 14:19:56 @base.py:285]\u001b[0m Epoch 70 (global_step 12250) finished, time:5.78 seconds.\n",
      "\u001b[32m[1011 14:19:56 @saver.py:79]\u001b[0m Model saved to ../output/Chicago/DATGAN_TEST2/model\\model-12250.\n",
      "\u001b[32m[1011 14:19:56 @monitor.py:467]\u001b[0m GAN_loss/discrim/accuracy_fake: 0.946\n",
      "\u001b[32m[1011 14:19:56 @monitor.py:467]\u001b[0m GAN_loss/discrim/accuracy_real: 0.096\n",
      "\u001b[32m[1011 14:19:56 @monitor.py:467]\u001b[0m GAN_loss/discrim/loss: 0.64396\n",
      "\u001b[32m[1011 14:19:56 @monitor.py:467]\u001b[0m GAN_loss/gen/final-g-loss: 1.0072\n",
      "\u001b[32m[1011 14:19:56 @monitor.py:467]\u001b[0m GAN_loss/gen/klloss: 0.057143\n",
      "\u001b[32m[1011 14:19:56 @monitor.py:467]\u001b[0m GAN_loss/gen/loss: 0.95004\n",
      "\u001b[32m[1011 14:19:56 @monitor.py:467]\u001b[0m QueueInput/queue_size: 50\n",
      "\u001b[32m[1011 14:19:56 @base.py:275]\u001b[0m Start Epoch 71 ...\n"
     ]
    },
    {
     "name": "stderr",
     "output_type": "stream",
     "text": [
      "\n",
      "100%|###################################################################################|175/175[00:05<00:00,30.36it/s]"
     ]
    },
    {
     "name": "stdout",
     "output_type": "stream",
     "text": [
      "\u001b[32m[1011 14:20:02 @base.py:285]\u001b[0m Epoch 71 (global_step 12425) finished, time:5.76 seconds.\n",
      "\u001b[32m[1011 14:20:02 @saver.py:79]\u001b[0m Model saved to ../output/Chicago/DATGAN_TEST2/model\\model-12425.\n",
      "\u001b[32m[1011 14:20:02 @monitor.py:467]\u001b[0m GAN_loss/discrim/accuracy_fake: 0.932\n",
      "\u001b[32m[1011 14:20:02 @monitor.py:467]\u001b[0m GAN_loss/discrim/accuracy_real: 0.102\n",
      "\u001b[32m[1011 14:20:02 @monitor.py:467]\u001b[0m GAN_loss/discrim/loss: 0.64484\n",
      "\u001b[32m[1011 14:20:02 @monitor.py:467]\u001b[0m GAN_loss/gen/final-g-loss: 1.0158\n",
      "\u001b[32m[1011 14:20:02 @monitor.py:467]\u001b[0m GAN_loss/gen/klloss: 0.079688\n",
      "\u001b[32m[1011 14:20:02 @monitor.py:467]\u001b[0m GAN_loss/gen/loss: 0.93616\n",
      "\u001b[32m[1011 14:20:02 @monitor.py:467]\u001b[0m QueueInput/queue_size: 50\n",
      "\u001b[32m[1011 14:20:02 @base.py:275]\u001b[0m Start Epoch 72 ...\n"
     ]
    },
    {
     "name": "stderr",
     "output_type": "stream",
     "text": [
      "\n",
      "100%|###################################################################################|175/175[00:05<00:00,29.93it/s]"
     ]
    },
    {
     "name": "stdout",
     "output_type": "stream",
     "text": [
      "\u001b[32m[1011 14:20:08 @base.py:285]\u001b[0m Epoch 72 (global_step 12600) finished, time:5.85 seconds.\n",
      "\u001b[32m[1011 14:20:08 @saver.py:79]\u001b[0m Model saved to ../output/Chicago/DATGAN_TEST2/model\\model-12600.\n",
      "\u001b[32m[1011 14:20:08 @monitor.py:467]\u001b[0m GAN_loss/discrim/accuracy_fake: 0.956\n",
      "\u001b[32m[1011 14:20:08 @monitor.py:467]\u001b[0m GAN_loss/discrim/accuracy_real: 0.106\n",
      "\u001b[32m[1011 14:20:08 @monitor.py:467]\u001b[0m GAN_loss/discrim/loss: 0.64948\n",
      "\u001b[32m[1011 14:20:08 @monitor.py:467]\u001b[0m GAN_loss/gen/final-g-loss: 0.98095\n",
      "\u001b[32m[1011 14:20:08 @monitor.py:467]\u001b[0m GAN_loss/gen/klloss: 0.0479\n",
      "\u001b[32m[1011 14:20:08 @monitor.py:467]\u001b[0m GAN_loss/gen/loss: 0.93305\n",
      "\u001b[32m[1011 14:20:08 @monitor.py:467]\u001b[0m QueueInput/queue_size: 50\n",
      "\u001b[32m[1011 14:20:08 @base.py:275]\u001b[0m Start Epoch 73 ...\n"
     ]
    },
    {
     "name": "stderr",
     "output_type": "stream",
     "text": [
      "\n",
      "100%|###################################################################################|175/175[00:05<00:00,30.24it/s]"
     ]
    },
    {
     "name": "stdout",
     "output_type": "stream",
     "text": [
      "\u001b[32m[1011 14:20:13 @base.py:285]\u001b[0m Epoch 73 (global_step 12775) finished, time:5.79 seconds.\n",
      "\u001b[32m[1011 14:20:14 @saver.py:79]\u001b[0m Model saved to ../output/Chicago/DATGAN_TEST2/model\\model-12775.\n",
      "\u001b[32m[1011 14:20:14 @monitor.py:467]\u001b[0m GAN_loss/discrim/accuracy_fake: 0.934\n",
      "\u001b[32m[1011 14:20:14 @monitor.py:467]\u001b[0m GAN_loss/discrim/accuracy_real: 0.134\n",
      "\u001b[32m[1011 14:20:14 @monitor.py:467]\u001b[0m GAN_loss/discrim/loss: 0.64883\n",
      "\u001b[32m[1011 14:20:14 @monitor.py:467]\u001b[0m GAN_loss/gen/final-g-loss: 0.9826\n",
      "\u001b[32m[1011 14:20:14 @monitor.py:467]\u001b[0m GAN_loss/gen/klloss: 0.04736\n",
      "\u001b[32m[1011 14:20:14 @monitor.py:467]\u001b[0m GAN_loss/gen/loss: 0.93524\n",
      "\u001b[32m[1011 14:20:14 @monitor.py:467]\u001b[0m QueueInput/queue_size: 50\n",
      "\u001b[32m[1011 14:20:14 @base.py:275]\u001b[0m Start Epoch 74 ...\n"
     ]
    },
    {
     "name": "stderr",
     "output_type": "stream",
     "text": [
      "\n",
      "100%|###################################################################################|175/175[00:05<00:00,30.31it/s]"
     ]
    },
    {
     "name": "stdout",
     "output_type": "stream",
     "text": [
      "\u001b[32m[1011 14:20:19 @base.py:285]\u001b[0m Epoch 74 (global_step 12950) finished, time:5.77 seconds.\n",
      "\u001b[32m[1011 14:20:19 @saver.py:79]\u001b[0m Model saved to ../output/Chicago/DATGAN_TEST2/model\\model-12950.\n",
      "\u001b[32m[1011 14:20:19 @monitor.py:467]\u001b[0m GAN_loss/discrim/accuracy_fake: 0.95\n",
      "\u001b[32m[1011 14:20:19 @monitor.py:467]\u001b[0m GAN_loss/discrim/accuracy_real: 0.112\n",
      "\u001b[32m[1011 14:20:19 @monitor.py:467]\u001b[0m GAN_loss/discrim/loss: 0.63734\n",
      "\u001b[32m[1011 14:20:19 @monitor.py:467]\u001b[0m GAN_loss/gen/final-g-loss: 1.0043\n",
      "\u001b[32m[1011 14:20:19 @monitor.py:467]\u001b[0m GAN_loss/gen/klloss: 0.047537\n",
      "\u001b[32m[1011 14:20:19 @monitor.py:467]\u001b[0m GAN_loss/gen/loss: 0.95679\n",
      "\u001b[32m[1011 14:20:19 @monitor.py:467]\u001b[0m QueueInput/queue_size: 50\n",
      "\u001b[32m[1011 14:20:19 @base.py:275]\u001b[0m Start Epoch 75 ...\n"
     ]
    },
    {
     "name": "stderr",
     "output_type": "stream",
     "text": [
      "\n",
      "100%|###################################################################################|175/175[00:05<00:00,30.34it/s]"
     ]
    },
    {
     "name": "stdout",
     "output_type": "stream",
     "text": [
      "\u001b[32m[1011 14:20:25 @base.py:285]\u001b[0m Epoch 75 (global_step 13125) finished, time:5.77 seconds.\n",
      "\u001b[32m[1011 14:20:25 @saver.py:79]\u001b[0m Model saved to ../output/Chicago/DATGAN_TEST2/model\\model-13125.\n",
      "\u001b[32m[1011 14:20:25 @monitor.py:467]\u001b[0m GAN_loss/discrim/accuracy_fake: 0.92\n",
      "\u001b[32m[1011 14:20:25 @monitor.py:467]\u001b[0m GAN_loss/discrim/accuracy_real: 0.114\n",
      "\u001b[32m[1011 14:20:25 @monitor.py:467]\u001b[0m GAN_loss/discrim/loss: 0.64732\n",
      "\u001b[32m[1011 14:20:25 @monitor.py:467]\u001b[0m GAN_loss/gen/final-g-loss: 1.0153\n",
      "\u001b[32m[1011 14:20:25 @monitor.py:467]\u001b[0m GAN_loss/gen/klloss: 0.072066\n",
      "\u001b[32m[1011 14:20:25 @monitor.py:467]\u001b[0m GAN_loss/gen/loss: 0.94324\n",
      "\u001b[32m[1011 14:20:25 @monitor.py:467]\u001b[0m QueueInput/queue_size: 50\n",
      "\u001b[32m[1011 14:20:25 @base.py:275]\u001b[0m Start Epoch 76 ...\n"
     ]
    },
    {
     "name": "stderr",
     "output_type": "stream",
     "text": [
      "\n",
      "100%|###################################################################################|175/175[00:05<00:00,30.31it/s]"
     ]
    },
    {
     "name": "stdout",
     "output_type": "stream",
     "text": [
      "\u001b[32m[1011 14:20:31 @base.py:285]\u001b[0m Epoch 76 (global_step 13300) finished, time:5.77 seconds.\n",
      "\u001b[32m[1011 14:20:31 @saver.py:79]\u001b[0m Model saved to ../output/Chicago/DATGAN_TEST2/model\\model-13300.\n",
      "\u001b[32m[1011 14:20:31 @monitor.py:467]\u001b[0m GAN_loss/discrim/accuracy_fake: 0.916\n",
      "\u001b[32m[1011 14:20:31 @monitor.py:467]\u001b[0m GAN_loss/discrim/accuracy_real: 0.13\n",
      "\u001b[32m[1011 14:20:31 @monitor.py:467]\u001b[0m GAN_loss/discrim/loss: 0.64886\n",
      "\u001b[32m[1011 14:20:31 @monitor.py:467]\u001b[0m GAN_loss/gen/final-g-loss: 0.97921\n",
      "\u001b[32m[1011 14:20:31 @monitor.py:467]\u001b[0m GAN_loss/gen/klloss: 0.056535\n",
      "\u001b[32m[1011 14:20:31 @monitor.py:467]\u001b[0m GAN_loss/gen/loss: 0.92268\n",
      "\u001b[32m[1011 14:20:31 @monitor.py:467]\u001b[0m QueueInput/queue_size: 50\n",
      "\u001b[32m[1011 14:20:31 @base.py:275]\u001b[0m Start Epoch 77 ...\n"
     ]
    },
    {
     "name": "stderr",
     "output_type": "stream",
     "text": [
      "\n",
      "100%|###################################################################################|175/175[00:05<00:00,30.38it/s]"
     ]
    },
    {
     "name": "stdout",
     "output_type": "stream",
     "text": [
      "\u001b[32m[1011 14:20:37 @base.py:285]\u001b[0m Epoch 77 (global_step 13475) finished, time:5.76 seconds.\n",
      "\u001b[32m[1011 14:20:37 @saver.py:79]\u001b[0m Model saved to ../output/Chicago/DATGAN_TEST2/model\\model-13475.\n",
      "\u001b[32m[1011 14:20:37 @monitor.py:467]\u001b[0m GAN_loss/discrim/accuracy_fake: 0.942\n",
      "\u001b[32m[1011 14:20:37 @monitor.py:467]\u001b[0m GAN_loss/discrim/accuracy_real: 0.108\n",
      "\u001b[32m[1011 14:20:37 @monitor.py:467]\u001b[0m GAN_loss/discrim/loss: 0.64361\n",
      "\u001b[32m[1011 14:20:37 @monitor.py:467]\u001b[0m GAN_loss/gen/final-g-loss: 1.0193\n",
      "\u001b[32m[1011 14:20:37 @monitor.py:467]\u001b[0m GAN_loss/gen/klloss: 0.070251\n",
      "\u001b[32m[1011 14:20:37 @monitor.py:467]\u001b[0m GAN_loss/gen/loss: 0.94901\n",
      "\u001b[32m[1011 14:20:37 @monitor.py:467]\u001b[0m QueueInput/queue_size: 50\n",
      "\u001b[32m[1011 14:20:37 @base.py:275]\u001b[0m Start Epoch 78 ...\n"
     ]
    },
    {
     "name": "stderr",
     "output_type": "stream",
     "text": [
      "\n",
      "100%|###################################################################################|175/175[00:05<00:00,30.19it/s]"
     ]
    },
    {
     "name": "stdout",
     "output_type": "stream",
     "text": [
      "\u001b[32m[1011 14:20:43 @base.py:285]\u001b[0m Epoch 78 (global_step 13650) finished, time:5.8 seconds.\n",
      "\u001b[32m[1011 14:20:43 @saver.py:79]\u001b[0m Model saved to ../output/Chicago/DATGAN_TEST2/model\\model-13650.\n",
      "\u001b[32m[1011 14:20:43 @monitor.py:467]\u001b[0m GAN_loss/discrim/accuracy_fake: 0.932\n",
      "\u001b[32m[1011 14:20:43 @monitor.py:467]\u001b[0m GAN_loss/discrim/accuracy_real: 0.116\n",
      "\u001b[32m[1011 14:20:43 @monitor.py:467]\u001b[0m GAN_loss/discrim/loss: 0.65197\n",
      "\u001b[32m[1011 14:20:43 @monitor.py:467]\u001b[0m GAN_loss/gen/final-g-loss: 1.006\n",
      "\u001b[32m[1011 14:20:43 @monitor.py:467]\u001b[0m GAN_loss/gen/klloss: 0.0589\n",
      "\u001b[32m[1011 14:20:43 @monitor.py:467]\u001b[0m GAN_loss/gen/loss: 0.94705\n",
      "\u001b[32m[1011 14:20:43 @monitor.py:467]\u001b[0m QueueInput/queue_size: 50\n",
      "\u001b[32m[1011 14:20:43 @base.py:275]\u001b[0m Start Epoch 79 ...\n"
     ]
    },
    {
     "name": "stderr",
     "output_type": "stream",
     "text": [
      "\n",
      "100%|###################################################################################|175/175[00:05<00:00,30.33it/s]"
     ]
    },
    {
     "name": "stdout",
     "output_type": "stream",
     "text": [
      "\u001b[32m[1011 14:20:49 @base.py:285]\u001b[0m Epoch 79 (global_step 13825) finished, time:5.77 seconds.\n",
      "\u001b[32m[1011 14:20:49 @saver.py:79]\u001b[0m Model saved to ../output/Chicago/DATGAN_TEST2/model\\model-13825.\n",
      "\u001b[32m[1011 14:20:49 @monitor.py:467]\u001b[0m GAN_loss/discrim/accuracy_fake: 0.904\n",
      "\u001b[32m[1011 14:20:49 @monitor.py:467]\u001b[0m GAN_loss/discrim/accuracy_real: 0.14\n",
      "\u001b[32m[1011 14:20:49 @monitor.py:467]\u001b[0m GAN_loss/discrim/loss: 0.64854\n",
      "\u001b[32m[1011 14:20:49 @monitor.py:467]\u001b[0m GAN_loss/gen/final-g-loss: 1.0145\n",
      "\u001b[32m[1011 14:20:49 @monitor.py:467]\u001b[0m GAN_loss/gen/klloss: 0.076872\n",
      "\u001b[32m[1011 14:20:49 @monitor.py:467]\u001b[0m GAN_loss/gen/loss: 0.93764\n",
      "\u001b[32m[1011 14:20:49 @monitor.py:467]\u001b[0m QueueInput/queue_size: 50\n",
      "\u001b[32m[1011 14:20:49 @base.py:275]\u001b[0m Start Epoch 80 ...\n"
     ]
    },
    {
     "name": "stderr",
     "output_type": "stream",
     "text": [
      "\n",
      "100%|###################################################################################|175/175[00:05<00:00,30.33it/s]"
     ]
    },
    {
     "name": "stdout",
     "output_type": "stream",
     "text": [
      "\u001b[32m[1011 14:20:55 @base.py:285]\u001b[0m Epoch 80 (global_step 14000) finished, time:5.77 seconds.\n",
      "\u001b[32m[1011 14:20:55 @saver.py:79]\u001b[0m Model saved to ../output/Chicago/DATGAN_TEST2/model\\model-14000.\n",
      "\u001b[32m[1011 14:20:55 @monitor.py:467]\u001b[0m GAN_loss/discrim/accuracy_fake: 0.91\n",
      "\u001b[32m[1011 14:20:55 @monitor.py:467]\u001b[0m GAN_loss/discrim/accuracy_real: 0.148\n",
      "\u001b[32m[1011 14:20:55 @monitor.py:467]\u001b[0m GAN_loss/discrim/loss: 0.64438\n",
      "\u001b[32m[1011 14:20:55 @monitor.py:467]\u001b[0m GAN_loss/gen/final-g-loss: 1.008\n",
      "\u001b[32m[1011 14:20:55 @monitor.py:467]\u001b[0m GAN_loss/gen/klloss: 0.063678\n",
      "\u001b[32m[1011 14:20:55 @monitor.py:467]\u001b[0m GAN_loss/gen/loss: 0.94428\n",
      "\u001b[32m[1011 14:20:55 @monitor.py:467]\u001b[0m QueueInput/queue_size: 50\n",
      "\u001b[32m[1011 14:20:55 @base.py:275]\u001b[0m Start Epoch 81 ...\n"
     ]
    },
    {
     "name": "stderr",
     "output_type": "stream",
     "text": [
      "\n",
      "100%|###################################################################################|175/175[00:05<00:00,30.36it/s]"
     ]
    },
    {
     "name": "stdout",
     "output_type": "stream",
     "text": [
      "\u001b[32m[1011 14:21:00 @base.py:285]\u001b[0m Epoch 81 (global_step 14175) finished, time:5.77 seconds.\n",
      "\u001b[32m[1011 14:21:01 @saver.py:79]\u001b[0m Model saved to ../output/Chicago/DATGAN_TEST2/model\\model-14175.\n",
      "\u001b[32m[1011 14:21:01 @monitor.py:467]\u001b[0m GAN_loss/discrim/accuracy_fake: 0.93\n",
      "\u001b[32m[1011 14:21:01 @monitor.py:467]\u001b[0m GAN_loss/discrim/accuracy_real: 0.146\n",
      "\u001b[32m[1011 14:21:01 @monitor.py:467]\u001b[0m GAN_loss/discrim/loss: 0.64469\n",
      "\u001b[32m[1011 14:21:01 @monitor.py:467]\u001b[0m GAN_loss/gen/final-g-loss: 1.0128\n",
      "\u001b[32m[1011 14:21:01 @monitor.py:467]\u001b[0m GAN_loss/gen/klloss: 0.058995\n",
      "\u001b[32m[1011 14:21:01 @monitor.py:467]\u001b[0m GAN_loss/gen/loss: 0.95381\n",
      "\u001b[32m[1011 14:21:01 @monitor.py:467]\u001b[0m QueueInput/queue_size: 50\n",
      "\u001b[32m[1011 14:21:01 @base.py:275]\u001b[0m Start Epoch 82 ...\n"
     ]
    },
    {
     "name": "stderr",
     "output_type": "stream",
     "text": [
      "\n",
      "100%|###################################################################################|175/175[00:05<00:00,30.29it/s]"
     ]
    },
    {
     "name": "stdout",
     "output_type": "stream",
     "text": [
      "\u001b[32m[1011 14:21:06 @base.py:285]\u001b[0m Epoch 82 (global_step 14350) finished, time:5.78 seconds.\n",
      "\u001b[32m[1011 14:21:06 @saver.py:79]\u001b[0m Model saved to ../output/Chicago/DATGAN_TEST2/model\\model-14350.\n",
      "\u001b[32m[1011 14:21:06 @monitor.py:467]\u001b[0m GAN_loss/discrim/accuracy_fake: 0.93\n",
      "\u001b[32m[1011 14:21:06 @monitor.py:467]\u001b[0m GAN_loss/discrim/accuracy_real: 0.124\n",
      "\u001b[32m[1011 14:21:06 @monitor.py:467]\u001b[0m GAN_loss/discrim/loss: 0.64307\n",
      "\u001b[32m[1011 14:21:06 @monitor.py:467]\u001b[0m GAN_loss/gen/final-g-loss: 1.0076\n",
      "\u001b[32m[1011 14:21:06 @monitor.py:467]\u001b[0m GAN_loss/gen/klloss: 0.05757\n",
      "\u001b[32m[1011 14:21:06 @monitor.py:467]\u001b[0m GAN_loss/gen/loss: 0.95004\n",
      "\u001b[32m[1011 14:21:06 @monitor.py:467]\u001b[0m QueueInput/queue_size: 50\n",
      "\u001b[32m[1011 14:21:06 @base.py:275]\u001b[0m Start Epoch 83 ...\n"
     ]
    },
    {
     "name": "stderr",
     "output_type": "stream",
     "text": [
      "\n",
      "100%|###################################################################################|175/175[00:05<00:00,30.30it/s]"
     ]
    },
    {
     "name": "stdout",
     "output_type": "stream",
     "text": [
      "\u001b[32m[1011 14:21:12 @base.py:285]\u001b[0m Epoch 83 (global_step 14525) finished, time:5.78 seconds.\n",
      "\u001b[32m[1011 14:21:12 @saver.py:79]\u001b[0m Model saved to ../output/Chicago/DATGAN_TEST2/model\\model-14525.\n",
      "\u001b[32m[1011 14:21:12 @monitor.py:467]\u001b[0m GAN_loss/discrim/accuracy_fake: 0.912\n",
      "\u001b[32m[1011 14:21:12 @monitor.py:467]\u001b[0m GAN_loss/discrim/accuracy_real: 0.142\n",
      "\u001b[32m[1011 14:21:12 @monitor.py:467]\u001b[0m GAN_loss/discrim/loss: 0.63928\n",
      "\u001b[32m[1011 14:21:12 @monitor.py:467]\u001b[0m GAN_loss/gen/final-g-loss: 0.99803\n",
      "\u001b[32m[1011 14:21:12 @monitor.py:467]\u001b[0m GAN_loss/gen/klloss: 0.047127\n",
      "\u001b[32m[1011 14:21:12 @monitor.py:467]\u001b[0m GAN_loss/gen/loss: 0.95091\n",
      "\u001b[32m[1011 14:21:12 @monitor.py:467]\u001b[0m QueueInput/queue_size: 50\n",
      "\u001b[32m[1011 14:21:12 @base.py:275]\u001b[0m Start Epoch 84 ...\n"
     ]
    },
    {
     "name": "stderr",
     "output_type": "stream",
     "text": [
      "\n",
      "100%|###################################################################################|175/175[00:05<00:00,30.35it/s]"
     ]
    },
    {
     "name": "stdout",
     "output_type": "stream",
     "text": [
      "\u001b[32m[1011 14:21:18 @base.py:285]\u001b[0m Epoch 84 (global_step 14700) finished, time:5.77 seconds.\n",
      "\u001b[32m[1011 14:21:18 @saver.py:79]\u001b[0m Model saved to ../output/Chicago/DATGAN_TEST2/model\\model-14700.\n",
      "\u001b[32m[1011 14:21:18 @monitor.py:467]\u001b[0m GAN_loss/discrim/accuracy_fake: 0.936\n",
      "\u001b[32m[1011 14:21:18 @monitor.py:467]\u001b[0m GAN_loss/discrim/accuracy_real: 0.098\n",
      "\u001b[32m[1011 14:21:18 @monitor.py:467]\u001b[0m GAN_loss/discrim/loss: 0.63878\n",
      "\u001b[32m[1011 14:21:18 @monitor.py:467]\u001b[0m GAN_loss/gen/final-g-loss: 1.0258\n",
      "\u001b[32m[1011 14:21:18 @monitor.py:467]\u001b[0m GAN_loss/gen/klloss: 0.065413\n",
      "\u001b[32m[1011 14:21:18 @monitor.py:467]\u001b[0m GAN_loss/gen/loss: 0.96039\n",
      "\u001b[32m[1011 14:21:18 @monitor.py:467]\u001b[0m QueueInput/queue_size: 50\n",
      "\u001b[32m[1011 14:21:18 @base.py:275]\u001b[0m Start Epoch 85 ...\n"
     ]
    },
    {
     "name": "stderr",
     "output_type": "stream",
     "text": [
      "\n",
      "100%|###################################################################################|175/175[00:05<00:00,30.36it/s]"
     ]
    },
    {
     "name": "stdout",
     "output_type": "stream",
     "text": [
      "\u001b[32m[1011 14:21:24 @base.py:285]\u001b[0m Epoch 85 (global_step 14875) finished, time:5.77 seconds.\n",
      "\u001b[32m[1011 14:21:24 @saver.py:79]\u001b[0m Model saved to ../output/Chicago/DATGAN_TEST2/model\\model-14875.\n",
      "\u001b[32m[1011 14:21:24 @monitor.py:467]\u001b[0m GAN_loss/discrim/accuracy_fake: 0.926\n",
      "\u001b[32m[1011 14:21:24 @monitor.py:467]\u001b[0m GAN_loss/discrim/accuracy_real: 0.14\n",
      "\u001b[32m[1011 14:21:24 @monitor.py:467]\u001b[0m GAN_loss/discrim/loss: 0.63759\n",
      "\u001b[32m[1011 14:21:24 @monitor.py:467]\u001b[0m GAN_loss/gen/final-g-loss: 0.99922\n",
      "\u001b[32m[1011 14:21:24 @monitor.py:467]\u001b[0m GAN_loss/gen/klloss: 0.047608\n",
      "\u001b[32m[1011 14:21:24 @monitor.py:467]\u001b[0m GAN_loss/gen/loss: 0.95161\n",
      "\u001b[32m[1011 14:21:24 @monitor.py:467]\u001b[0m QueueInput/queue_size: 50\n",
      "\u001b[32m[1011 14:21:24 @base.py:275]\u001b[0m Start Epoch 86 ...\n"
     ]
    },
    {
     "name": "stderr",
     "output_type": "stream",
     "text": [
      "\n",
      "100%|###################################################################################|175/175[00:05<00:00,30.34it/s]"
     ]
    },
    {
     "name": "stdout",
     "output_type": "stream",
     "text": [
      "\u001b[32m[1011 14:21:30 @base.py:285]\u001b[0m Epoch 86 (global_step 15050) finished, time:5.77 seconds.\n",
      "\u001b[32m[1011 14:21:30 @saver.py:79]\u001b[0m Model saved to ../output/Chicago/DATGAN_TEST2/model\\model-15050.\n",
      "\u001b[32m[1011 14:21:30 @monitor.py:467]\u001b[0m GAN_loss/discrim/accuracy_fake: 0.924\n",
      "\u001b[32m[1011 14:21:30 @monitor.py:467]\u001b[0m GAN_loss/discrim/accuracy_real: 0.13\n",
      "\u001b[32m[1011 14:21:30 @monitor.py:467]\u001b[0m GAN_loss/discrim/loss: 0.64123\n",
      "\u001b[32m[1011 14:21:30 @monitor.py:467]\u001b[0m GAN_loss/gen/final-g-loss: 1.002\n",
      "\u001b[32m[1011 14:21:30 @monitor.py:467]\u001b[0m GAN_loss/gen/klloss: 0.055807\n",
      "\u001b[32m[1011 14:21:30 @monitor.py:467]\u001b[0m GAN_loss/gen/loss: 0.94617\n",
      "\u001b[32m[1011 14:21:30 @monitor.py:467]\u001b[0m QueueInput/queue_size: 50\n",
      "\u001b[32m[1011 14:21:30 @base.py:275]\u001b[0m Start Epoch 87 ...\n"
     ]
    },
    {
     "name": "stderr",
     "output_type": "stream",
     "text": [
      "\n",
      "100%|###################################################################################|175/175[00:05<00:00,30.34it/s]"
     ]
    },
    {
     "name": "stdout",
     "output_type": "stream",
     "text": [
      "\u001b[32m[1011 14:21:36 @base.py:285]\u001b[0m Epoch 87 (global_step 15225) finished, time:5.77 seconds.\n",
      "\u001b[32m[1011 14:21:36 @saver.py:79]\u001b[0m Model saved to ../output/Chicago/DATGAN_TEST2/model\\model-15225.\n",
      "\u001b[32m[1011 14:21:36 @monitor.py:467]\u001b[0m GAN_loss/discrim/accuracy_fake: 0.918\n",
      "\u001b[32m[1011 14:21:36 @monitor.py:467]\u001b[0m GAN_loss/discrim/accuracy_real: 0.154\n",
      "\u001b[32m[1011 14:21:36 @monitor.py:467]\u001b[0m GAN_loss/discrim/loss: 0.63887\n",
      "\u001b[32m[1011 14:21:36 @monitor.py:467]\u001b[0m GAN_loss/gen/final-g-loss: 1.0013\n",
      "\u001b[32m[1011 14:21:36 @monitor.py:467]\u001b[0m GAN_loss/gen/klloss: 0.045175\n",
      "\u001b[32m[1011 14:21:36 @monitor.py:467]\u001b[0m GAN_loss/gen/loss: 0.95611\n",
      "\u001b[32m[1011 14:21:36 @monitor.py:467]\u001b[0m QueueInput/queue_size: 50\n",
      "\u001b[32m[1011 14:21:36 @base.py:275]\u001b[0m Start Epoch 88 ...\n"
     ]
    },
    {
     "name": "stderr",
     "output_type": "stream",
     "text": [
      "\n",
      "100%|###################################################################################|175/175[00:05<00:00,30.38it/s]"
     ]
    },
    {
     "name": "stdout",
     "output_type": "stream",
     "text": [
      "\u001b[32m[1011 14:21:42 @base.py:285]\u001b[0m Epoch 88 (global_step 15400) finished, time:5.76 seconds.\n",
      "\u001b[32m[1011 14:21:42 @saver.py:79]\u001b[0m Model saved to ../output/Chicago/DATGAN_TEST2/model\\model-15400.\n",
      "\u001b[32m[1011 14:21:42 @monitor.py:467]\u001b[0m GAN_loss/discrim/accuracy_fake: 0.88\n",
      "\u001b[32m[1011 14:21:42 @monitor.py:467]\u001b[0m GAN_loss/discrim/accuracy_real: 0.146\n",
      "\u001b[32m[1011 14:21:42 @monitor.py:467]\u001b[0m GAN_loss/discrim/loss: 0.65184\n",
      "\u001b[32m[1011 14:21:42 @monitor.py:467]\u001b[0m GAN_loss/gen/final-g-loss: 1.0121\n",
      "\u001b[32m[1011 14:21:42 @monitor.py:467]\u001b[0m GAN_loss/gen/klloss: 0.072129\n",
      "\u001b[32m[1011 14:21:42 @monitor.py:467]\u001b[0m GAN_loss/gen/loss: 0.93995\n",
      "\u001b[32m[1011 14:21:42 @monitor.py:467]\u001b[0m QueueInput/queue_size: 50\n",
      "\u001b[32m[1011 14:21:42 @base.py:275]\u001b[0m Start Epoch 89 ...\n"
     ]
    },
    {
     "name": "stderr",
     "output_type": "stream",
     "text": [
      "\n",
      "100%|###################################################################################|175/175[00:05<00:00,30.31it/s]"
     ]
    },
    {
     "name": "stdout",
     "output_type": "stream",
     "text": [
      "\u001b[32m[1011 14:21:47 @base.py:285]\u001b[0m Epoch 89 (global_step 15575) finished, time:5.77 seconds.\n",
      "\u001b[32m[1011 14:21:48 @saver.py:79]\u001b[0m Model saved to ../output/Chicago/DATGAN_TEST2/model\\model-15575.\n",
      "\u001b[32m[1011 14:21:48 @monitor.py:467]\u001b[0m GAN_loss/discrim/accuracy_fake: 0.87\n",
      "\u001b[32m[1011 14:21:48 @monitor.py:467]\u001b[0m GAN_loss/discrim/accuracy_real: 0.164\n",
      "\u001b[32m[1011 14:21:48 @monitor.py:467]\u001b[0m GAN_loss/discrim/loss: 0.64197\n",
      "\u001b[32m[1011 14:21:48 @monitor.py:467]\u001b[0m GAN_loss/gen/final-g-loss: 0.98408\n",
      "\u001b[32m[1011 14:21:48 @monitor.py:467]\u001b[0m GAN_loss/gen/klloss: 0.046737\n",
      "\u001b[32m[1011 14:21:48 @monitor.py:467]\u001b[0m GAN_loss/gen/loss: 0.93734\n",
      "\u001b[32m[1011 14:21:48 @monitor.py:467]\u001b[0m QueueInput/queue_size: 50\n",
      "\u001b[32m[1011 14:21:48 @base.py:275]\u001b[0m Start Epoch 90 ...\n"
     ]
    },
    {
     "name": "stderr",
     "output_type": "stream",
     "text": [
      "\n",
      "100%|###################################################################################|175/175[00:05<00:00,30.36it/s]"
     ]
    },
    {
     "name": "stdout",
     "output_type": "stream",
     "text": [
      "\u001b[32m[1011 14:21:53 @base.py:285]\u001b[0m Epoch 90 (global_step 15750) finished, time:5.77 seconds.\n",
      "\u001b[32m[1011 14:21:53 @saver.py:79]\u001b[0m Model saved to ../output/Chicago/DATGAN_TEST2/model\\model-15750.\n",
      "\u001b[32m[1011 14:21:53 @monitor.py:467]\u001b[0m GAN_loss/discrim/accuracy_fake: 0.9\n",
      "\u001b[32m[1011 14:21:53 @monitor.py:467]\u001b[0m GAN_loss/discrim/accuracy_real: 0.14\n",
      "\u001b[32m[1011 14:21:53 @monitor.py:467]\u001b[0m GAN_loss/discrim/loss: 0.64981\n",
      "\u001b[32m[1011 14:21:53 @monitor.py:467]\u001b[0m GAN_loss/gen/final-g-loss: 1.0055\n",
      "\u001b[32m[1011 14:21:53 @monitor.py:467]\u001b[0m GAN_loss/gen/klloss: 0.066562\n",
      "\u001b[32m[1011 14:21:53 @monitor.py:467]\u001b[0m GAN_loss/gen/loss: 0.93894\n",
      "\u001b[32m[1011 14:21:53 @monitor.py:467]\u001b[0m QueueInput/queue_size: 50\n",
      "\u001b[32m[1011 14:21:53 @base.py:275]\u001b[0m Start Epoch 91 ...\n"
     ]
    },
    {
     "name": "stderr",
     "output_type": "stream",
     "text": [
      "\n",
      "100%|###################################################################################|175/175[00:05<00:00,30.32it/s]"
     ]
    },
    {
     "name": "stdout",
     "output_type": "stream",
     "text": [
      "\u001b[32m[1011 14:21:59 @base.py:285]\u001b[0m Epoch 91 (global_step 15925) finished, time:5.77 seconds.\n",
      "\u001b[32m[1011 14:21:59 @saver.py:79]\u001b[0m Model saved to ../output/Chicago/DATGAN_TEST2/model\\model-15925.\n",
      "\u001b[32m[1011 14:21:59 @monitor.py:467]\u001b[0m GAN_loss/discrim/accuracy_fake: 0.894\n",
      "\u001b[32m[1011 14:21:59 @monitor.py:467]\u001b[0m GAN_loss/discrim/accuracy_real: 0.15\n",
      "\u001b[32m[1011 14:21:59 @monitor.py:467]\u001b[0m GAN_loss/discrim/loss: 0.65436\n",
      "\u001b[32m[1011 14:21:59 @monitor.py:467]\u001b[0m GAN_loss/gen/final-g-loss: 0.98953\n",
      "\u001b[32m[1011 14:21:59 @monitor.py:467]\u001b[0m GAN_loss/gen/klloss: 0.049713\n",
      "\u001b[32m[1011 14:21:59 @monitor.py:467]\u001b[0m GAN_loss/gen/loss: 0.93981\n",
      "\u001b[32m[1011 14:21:59 @monitor.py:467]\u001b[0m QueueInput/queue_size: 50\n",
      "\u001b[32m[1011 14:21:59 @base.py:275]\u001b[0m Start Epoch 92 ...\n"
     ]
    },
    {
     "name": "stderr",
     "output_type": "stream",
     "text": [
      "\n",
      "100%|###################################################################################|175/175[00:05<00:00,30.37it/s]"
     ]
    },
    {
     "name": "stdout",
     "output_type": "stream",
     "text": [
      "\u001b[32m[1011 14:22:05 @base.py:285]\u001b[0m Epoch 92 (global_step 16100) finished, time:5.76 seconds.\n",
      "\u001b[32m[1011 14:22:05 @saver.py:79]\u001b[0m Model saved to ../output/Chicago/DATGAN_TEST2/model\\model-16100.\n",
      "\u001b[32m[1011 14:22:05 @monitor.py:467]\u001b[0m GAN_loss/discrim/accuracy_fake: 0.914\n",
      "\u001b[32m[1011 14:22:05 @monitor.py:467]\u001b[0m GAN_loss/discrim/accuracy_real: 0.164\n",
      "\u001b[32m[1011 14:22:05 @monitor.py:467]\u001b[0m GAN_loss/discrim/loss: 0.64335\n",
      "\u001b[32m[1011 14:22:05 @monitor.py:467]\u001b[0m GAN_loss/gen/final-g-loss: 1.0205\n",
      "\u001b[32m[1011 14:22:05 @monitor.py:467]\u001b[0m GAN_loss/gen/klloss: 0.070476\n",
      "\u001b[32m[1011 14:22:05 @monitor.py:467]\u001b[0m GAN_loss/gen/loss: 0.95002\n",
      "\u001b[32m[1011 14:22:05 @monitor.py:467]\u001b[0m QueueInput/queue_size: 50\n",
      "\u001b[32m[1011 14:22:05 @base.py:275]\u001b[0m Start Epoch 93 ...\n"
     ]
    },
    {
     "name": "stderr",
     "output_type": "stream",
     "text": [
      "\n",
      "100%|###################################################################################|175/175[00:05<00:00,30.35it/s]"
     ]
    },
    {
     "name": "stdout",
     "output_type": "stream",
     "text": [
      "\u001b[32m[1011 14:22:11 @base.py:285]\u001b[0m Epoch 93 (global_step 16275) finished, time:5.77 seconds.\n",
      "\u001b[32m[1011 14:22:11 @saver.py:79]\u001b[0m Model saved to ../output/Chicago/DATGAN_TEST2/model\\model-16275.\n",
      "\u001b[32m[1011 14:22:11 @monitor.py:467]\u001b[0m GAN_loss/discrim/accuracy_fake: 0.9\n",
      "\u001b[32m[1011 14:22:11 @monitor.py:467]\u001b[0m GAN_loss/discrim/accuracy_real: 0.154\n",
      "\u001b[32m[1011 14:22:11 @monitor.py:467]\u001b[0m GAN_loss/discrim/loss: 0.64693\n",
      "\u001b[32m[1011 14:22:11 @monitor.py:467]\u001b[0m GAN_loss/gen/final-g-loss: 1.0073\n",
      "\u001b[32m[1011 14:22:11 @monitor.py:467]\u001b[0m GAN_loss/gen/klloss: 0.061449\n",
      "\u001b[32m[1011 14:22:11 @monitor.py:467]\u001b[0m GAN_loss/gen/loss: 0.9459\n",
      "\u001b[32m[1011 14:22:11 @monitor.py:467]\u001b[0m QueueInput/queue_size: 50\n",
      "\u001b[32m[1011 14:22:11 @base.py:275]\u001b[0m Start Epoch 94 ...\n"
     ]
    },
    {
     "name": "stderr",
     "output_type": "stream",
     "text": [
      "\n",
      "100%|###################################################################################|175/175[00:05<00:00,30.37it/s]"
     ]
    },
    {
     "name": "stdout",
     "output_type": "stream",
     "text": [
      "\u001b[32m[1011 14:22:17 @base.py:285]\u001b[0m Epoch 94 (global_step 16450) finished, time:5.76 seconds.\n",
      "\u001b[32m[1011 14:22:17 @saver.py:79]\u001b[0m Model saved to ../output/Chicago/DATGAN_TEST2/model\\model-16450.\n",
      "\u001b[32m[1011 14:22:17 @monitor.py:467]\u001b[0m GAN_loss/discrim/accuracy_fake: 0.908\n",
      "\u001b[32m[1011 14:22:17 @monitor.py:467]\u001b[0m GAN_loss/discrim/accuracy_real: 0.184\n",
      "\u001b[32m[1011 14:22:17 @monitor.py:467]\u001b[0m GAN_loss/discrim/loss: 0.64339\n",
      "\u001b[32m[1011 14:22:17 @monitor.py:467]\u001b[0m GAN_loss/gen/final-g-loss: 0.99392\n",
      "\u001b[32m[1011 14:22:17 @monitor.py:467]\u001b[0m GAN_loss/gen/klloss: 0.050595\n",
      "\u001b[32m[1011 14:22:17 @monitor.py:467]\u001b[0m GAN_loss/gen/loss: 0.94332\n",
      "\u001b[32m[1011 14:22:17 @monitor.py:467]\u001b[0m QueueInput/queue_size: 50\n",
      "\u001b[32m[1011 14:22:17 @base.py:275]\u001b[0m Start Epoch 95 ...\n"
     ]
    },
    {
     "name": "stderr",
     "output_type": "stream",
     "text": [
      "\n",
      "100%|###################################################################################|175/175[00:05<00:00,30.35it/s]"
     ]
    },
    {
     "name": "stdout",
     "output_type": "stream",
     "text": [
      "\u001b[32m[1011 14:22:23 @base.py:285]\u001b[0m Epoch 95 (global_step 16625) finished, time:5.77 seconds.\n",
      "\u001b[32m[1011 14:22:23 @saver.py:79]\u001b[0m Model saved to ../output/Chicago/DATGAN_TEST2/model\\model-16625.\n",
      "\u001b[32m[1011 14:22:23 @monitor.py:467]\u001b[0m GAN_loss/discrim/accuracy_fake: 0.88\n",
      "\u001b[32m[1011 14:22:23 @monitor.py:467]\u001b[0m GAN_loss/discrim/accuracy_real: 0.172\n",
      "\u001b[32m[1011 14:22:23 @monitor.py:467]\u001b[0m GAN_loss/discrim/loss: 0.65386\n",
      "\u001b[32m[1011 14:22:23 @monitor.py:467]\u001b[0m GAN_loss/gen/final-g-loss: 0.99155\n",
      "\u001b[32m[1011 14:22:23 @monitor.py:467]\u001b[0m GAN_loss/gen/klloss: 0.057501\n",
      "\u001b[32m[1011 14:22:23 @monitor.py:467]\u001b[0m GAN_loss/gen/loss: 0.93405\n",
      "\u001b[32m[1011 14:22:23 @monitor.py:467]\u001b[0m QueueInput/queue_size: 50\n",
      "\u001b[32m[1011 14:22:23 @base.py:275]\u001b[0m Start Epoch 96 ...\n"
     ]
    },
    {
     "name": "stderr",
     "output_type": "stream",
     "text": [
      "\n",
      "100%|###################################################################################|175/175[00:05<00:00,30.38it/s]"
     ]
    },
    {
     "name": "stdout",
     "output_type": "stream",
     "text": [
      "\u001b[32m[1011 14:22:29 @base.py:285]\u001b[0m Epoch 96 (global_step 16800) finished, time:5.76 seconds.\n",
      "\u001b[32m[1011 14:22:29 @saver.py:79]\u001b[0m Model saved to ../output/Chicago/DATGAN_TEST2/model\\model-16800.\n",
      "\u001b[32m[1011 14:22:29 @monitor.py:467]\u001b[0m GAN_loss/discrim/accuracy_fake: 0.888\n",
      "\u001b[32m[1011 14:22:29 @monitor.py:467]\u001b[0m GAN_loss/discrim/accuracy_real: 0.164\n",
      "\u001b[32m[1011 14:22:29 @monitor.py:467]\u001b[0m GAN_loss/discrim/loss: 0.6428\n",
      "\u001b[32m[1011 14:22:29 @monitor.py:467]\u001b[0m GAN_loss/gen/final-g-loss: 1.0116\n",
      "\u001b[32m[1011 14:22:29 @monitor.py:467]\u001b[0m GAN_loss/gen/klloss: 0.048547\n",
      "\u001b[32m[1011 14:22:29 @monitor.py:467]\u001b[0m GAN_loss/gen/loss: 0.96305\n",
      "\u001b[32m[1011 14:22:29 @monitor.py:467]\u001b[0m QueueInput/queue_size: 50\n",
      "\u001b[32m[1011 14:22:29 @base.py:275]\u001b[0m Start Epoch 97 ...\n"
     ]
    },
    {
     "name": "stderr",
     "output_type": "stream",
     "text": [
      "\n",
      "100%|###################################################################################|175/175[00:05<00:00,30.34it/s]"
     ]
    },
    {
     "name": "stdout",
     "output_type": "stream",
     "text": [
      "\u001b[32m[1011 14:22:34 @base.py:285]\u001b[0m Epoch 97 (global_step 16975) finished, time:5.77 seconds.\n",
      "\u001b[32m[1011 14:22:35 @saver.py:79]\u001b[0m Model saved to ../output/Chicago/DATGAN_TEST2/model\\model-16975.\n",
      "\u001b[32m[1011 14:22:35 @monitor.py:467]\u001b[0m GAN_loss/discrim/accuracy_fake: 0.892\n",
      "\u001b[32m[1011 14:22:35 @monitor.py:467]\u001b[0m GAN_loss/discrim/accuracy_real: 0.188\n",
      "\u001b[32m[1011 14:22:35 @monitor.py:467]\u001b[0m GAN_loss/discrim/loss: 0.64002\n",
      "\u001b[32m[1011 14:22:35 @monitor.py:467]\u001b[0m GAN_loss/gen/final-g-loss: 1.013\n",
      "\u001b[32m[1011 14:22:35 @monitor.py:467]\u001b[0m GAN_loss/gen/klloss: 0.061225\n",
      "\u001b[32m[1011 14:22:35 @monitor.py:467]\u001b[0m GAN_loss/gen/loss: 0.95179\n",
      "\u001b[32m[1011 14:22:35 @monitor.py:467]\u001b[0m QueueInput/queue_size: 50\n",
      "\u001b[32m[1011 14:22:35 @base.py:275]\u001b[0m Start Epoch 98 ...\n"
     ]
    },
    {
     "name": "stderr",
     "output_type": "stream",
     "text": [
      "\n",
      "100%|###################################################################################|175/175[00:05<00:00,30.29it/s]"
     ]
    },
    {
     "name": "stdout",
     "output_type": "stream",
     "text": [
      "\u001b[32m[1011 14:22:40 @base.py:285]\u001b[0m Epoch 98 (global_step 17150) finished, time:5.78 seconds.\n",
      "\u001b[32m[1011 14:22:40 @saver.py:79]\u001b[0m Model saved to ../output/Chicago/DATGAN_TEST2/model\\model-17150.\n",
      "\u001b[32m[1011 14:22:40 @monitor.py:467]\u001b[0m GAN_loss/discrim/accuracy_fake: 0.928\n",
      "\u001b[32m[1011 14:22:40 @monitor.py:467]\u001b[0m GAN_loss/discrim/accuracy_real: 0.164\n",
      "\u001b[32m[1011 14:22:40 @monitor.py:467]\u001b[0m GAN_loss/discrim/loss: 0.63487\n",
      "\u001b[32m[1011 14:22:40 @monitor.py:467]\u001b[0m GAN_loss/gen/final-g-loss: 1.0279\n",
      "\u001b[32m[1011 14:22:40 @monitor.py:467]\u001b[0m GAN_loss/gen/klloss: 0.046277\n",
      "\u001b[32m[1011 14:22:40 @monitor.py:467]\u001b[0m GAN_loss/gen/loss: 0.98165\n",
      "\u001b[32m[1011 14:22:40 @monitor.py:467]\u001b[0m QueueInput/queue_size: 50\n",
      "\u001b[32m[1011 14:22:40 @base.py:275]\u001b[0m Start Epoch 99 ...\n"
     ]
    },
    {
     "name": "stderr",
     "output_type": "stream",
     "text": [
      "\n",
      "100%|###################################################################################|175/175[00:05<00:00,30.35it/s]"
     ]
    },
    {
     "name": "stdout",
     "output_type": "stream",
     "text": [
      "\u001b[32m[1011 14:22:46 @base.py:285]\u001b[0m Epoch 99 (global_step 17325) finished, time:5.77 seconds.\n",
      "\u001b[32m[1011 14:22:46 @saver.py:79]\u001b[0m Model saved to ../output/Chicago/DATGAN_TEST2/model\\model-17325.\n",
      "\u001b[32m[1011 14:22:46 @monitor.py:467]\u001b[0m GAN_loss/discrim/accuracy_fake: 0.896\n",
      "\u001b[32m[1011 14:22:46 @monitor.py:467]\u001b[0m GAN_loss/discrim/accuracy_real: 0.194\n",
      "\u001b[32m[1011 14:22:46 @monitor.py:467]\u001b[0m GAN_loss/discrim/loss: 0.63876\n",
      "\u001b[32m[1011 14:22:46 @monitor.py:467]\u001b[0m GAN_loss/gen/final-g-loss: 1.0176\n",
      "\u001b[32m[1011 14:22:46 @monitor.py:467]\u001b[0m GAN_loss/gen/klloss: 0.056454\n",
      "\u001b[32m[1011 14:22:46 @monitor.py:467]\u001b[0m GAN_loss/gen/loss: 0.96116\n",
      "\u001b[32m[1011 14:22:46 @monitor.py:467]\u001b[0m QueueInput/queue_size: 50\n",
      "\u001b[32m[1011 14:22:46 @base.py:275]\u001b[0m Start Epoch 100 ...\n"
     ]
    },
    {
     "name": "stderr",
     "output_type": "stream",
     "text": [
      "\n",
      "100%|###################################################################################|175/175[00:05<00:00,30.28it/s]"
     ]
    },
    {
     "name": "stdout",
     "output_type": "stream",
     "text": [
      "\u001b[32m[1011 14:22:52 @base.py:285]\u001b[0m Epoch 100 (global_step 17500) finished, time:5.78 seconds.\n",
      "\u001b[32m[1011 14:22:52 @saver.py:79]\u001b[0m Model saved to ../output/Chicago/DATGAN_TEST2/model\\model-17500.\n",
      "\u001b[32m[1011 14:22:52 @monitor.py:467]\u001b[0m GAN_loss/discrim/accuracy_fake: 0.898\n",
      "\u001b[32m[1011 14:22:52 @monitor.py:467]\u001b[0m GAN_loss/discrim/accuracy_real: 0.156\n",
      "\u001b[32m[1011 14:22:52 @monitor.py:467]\u001b[0m GAN_loss/discrim/loss: 0.63882\n",
      "\u001b[32m[1011 14:22:52 @monitor.py:467]\u001b[0m GAN_loss/gen/final-g-loss: 1.0193\n",
      "\u001b[32m[1011 14:22:52 @monitor.py:467]\u001b[0m GAN_loss/gen/klloss: 0.052127\n",
      "\u001b[32m[1011 14:22:52 @monitor.py:467]\u001b[0m GAN_loss/gen/loss: 0.96718\n",
      "\u001b[32m[1011 14:22:52 @monitor.py:467]\u001b[0m QueueInput/queue_size: 50\n",
      "\u001b[32m[1011 14:22:52 @base.py:289]\u001b[0m Training has finished!\n",
      "WARNING:tensorflow:From D:\\Users\\glede\\anaconda3\\envs\\py37\\lib\\site-packages\\tensorpack\\predict\\config.py:101: The name tf.train.ChiefSessionCreator is deprecated. Please use tf.compat.v1.train.ChiefSessionCreator instead.\n",
      "\n",
      "\u001b[32m[1011 14:22:52 @graph.py:289]\u001b[0m \u001b[91mCreating cell for age (in-edges: 0)\n"
     ]
    },
    {
     "name": "stderr",
     "output_type": "stream",
     "text": [
      "\n"
     ]
    },
    {
     "name": "stdout",
     "output_type": "stream",
     "text": [
      "\u001b[32m[1011 14:22:52 @graph.py:289]\u001b[0m \u001b[91mCreating cell for gender (in-edges: 0)\n",
      "\u001b[32m[1011 14:22:52 @graph.py:289]\u001b[0m \u001b[91mCreating cell for travel_dow (in-edges: 0)\n",
      "\u001b[32m[1011 14:22:52 @graph.py:289]\u001b[0m \u001b[91mCreating cell for license (in-edges: 1)\n",
      "\u001b[32m[1011 14:22:53 @graph.py:289]\u001b[0m \u001b[91mCreating cell for education_level (in-edges: 1)\n",
      "\u001b[32m[1011 14:22:53 @graph.py:289]\u001b[0m \u001b[91mCreating cell for work_status (in-edges: 2)\n",
      "\u001b[32m[1011 14:22:53 @graph.py:289]\u001b[0m \u001b[91mCreating cell for hh_income (in-edges: 2)\n",
      "\u001b[32m[1011 14:22:53 @graph.py:289]\u001b[0m \u001b[91mCreating cell for trip_purpose (in-edges: 1)\n",
      "\u001b[32m[1011 14:22:53 @graph.py:289]\u001b[0m \u001b[91mCreating cell for hh_descr (in-edges: 2)\n",
      "\u001b[32m[1011 14:22:53 @graph.py:289]\u001b[0m \u001b[91mCreating cell for hh_size (in-edges: 3)\n",
      "\u001b[32m[1011 14:22:53 @graph.py:289]\u001b[0m \u001b[91mCreating cell for departure_time (in-edges: 1)\n",
      "\u001b[32m[1011 14:22:53 @graph.py:289]\u001b[0m \u001b[91mCreating cell for distance (in-edges: 1)\n",
      "\u001b[32m[1011 14:22:53 @input_source.py:178]\u001b[0m EnqueueThread QueueInput/input_queue Exited.\n",
      "\u001b[32m[1011 14:22:53 @graph.py:289]\u001b[0m \u001b[91mCreating cell for hh_vehicles (in-edges: 2)\n",
      "\u001b[32m[1011 14:22:53 @graph.py:289]\u001b[0m \u001b[91mCreating cell for hh_bikes (in-edges: 2)\n",
      "\u001b[32m[1011 14:22:53 @graph.py:289]\u001b[0m \u001b[91mCreating cell for choice (in-edges: 7)\n",
      "WARNING:tensorflow:From D:\\Users\\glede\\anaconda3\\envs\\py37\\lib\\site-packages\\tensorpack\\tfutils\\collection.py:45: The name tf.get_collection_ref is deprecated. Please use tf.compat.v1.get_collection_ref instead.\n",
      "\n",
      "\u001b[32m[1011 14:22:54 @collection.py:146]\u001b[0m New collections created in tower : tf.GraphKeys.REGULARIZATION_LOSSES\n",
      "\u001b[32m[1011 14:22:54 @collection.py:165]\u001b[0m These collections were modified but restored in : (tf.GraphKeys.SUMMARIES: 0->2)\n",
      "WARNING:tensorflow:From D:\\Users\\glede\\anaconda3\\envs\\py37\\lib\\site-packages\\tensorpack\\tfutils\\sessinit.py:120: The name tf.train.NewCheckpointReader is deprecated. Please use tf.compat.v1.train.NewCheckpointReader instead.\n",
      "\n",
      "WARNING:tensorflow:From D:\\Users\\glede\\anaconda3\\envs\\py37\\lib\\site-packages\\tensorpack\\tfutils\\sessinit.py:127: The name tf.global_variables is deprecated. Please use tf.compat.v1.global_variables instead.\n",
      "\n",
      "\u001b[32m[1011 14:22:54 @sessinit.py:87]\u001b[0m \u001b[5m\u001b[31mWRN\u001b[0m The following variables are in the checkpoint, but not found in the graph: global_step, optimize/beta1_power, optimize/beta2_power\n",
      "INFO:tensorflow:Graph was finalized.\n",
      "INFO:tensorflow:Running local_init_op.\n",
      "INFO:tensorflow:Done running local_init_op.\n",
      "\u001b[32m[1011 14:22:55 @sessinit.py:114]\u001b[0m Restoring checkpoint from ../output/Chicago/DATGAN_TEST2/model\\model-17500 ...\n",
      "INFO:tensorflow:Restoring parameters from ../output/Chicago/DATGAN_TEST2/model\\model-17500\n"
     ]
    }
   ],
   "source": [
    "test = datgan.fit(df, graph)"
   ]
  },
  {
   "cell_type": "code",
   "execution_count": 13,
   "metadata": {},
   "outputs": [
    {
     "name": "stdout",
     "output_type": "stream",
     "text": [
      "\u001b[32m[1011 14:29:12 @model.py:358]\u001b[0m Model saved successfully.\n"
     ]
    }
   ],
   "source": [
    "datgan.save('trained', force=True)"
   ]
  },
  {
   "cell_type": "code",
   "execution_count": null,
   "metadata": {},
   "outputs": [],
   "source": []
  }
 ],
 "metadata": {
  "kernelspec": {
   "display_name": "Python 3",
   "language": "python",
   "name": "python3"
  },
  "language_info": {
   "codemirror_mode": {
    "name": "ipython",
    "version": 3
   },
   "file_extension": ".py",
   "mimetype": "text/x-python",
   "name": "python",
   "nbconvert_exporter": "python",
   "pygments_lexer": "ipython3",
   "version": "3.7.9"
  }
 },
 "nbformat": 4,
 "nbformat_minor": 2
}
