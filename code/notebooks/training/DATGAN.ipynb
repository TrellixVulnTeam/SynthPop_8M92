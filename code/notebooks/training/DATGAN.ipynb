{
 "cells": [
  {
   "cell_type": "code",
   "execution_count": 1,
   "metadata": {},
   "outputs": [],
   "source": [
    "import os\n",
    "os.chdir('../..')"
   ]
  },
  {
   "cell_type": "code",
   "execution_count": 2,
   "metadata": {},
   "outputs": [
    {
     "name": "stdout",
     "output_type": "stream",
     "text": [
      "3.7.9\n"
     ]
    }
   ],
   "source": [
    "from platform import python_version\n",
    "print(python_version())"
   ]
  },
  {
   "cell_type": "code",
   "execution_count": 3,
   "metadata": {},
   "outputs": [
    {
     "name": "stdout",
     "output_type": "stream",
     "text": [
      "WARNING:tensorflow:From D:\\Users\\glede\\anaconda3\\envs\\py37\\lib\\site-packages\\tensorpack\\callbacks\\hooks.py:17: The name tf.train.SessionRunHook is deprecated. Please use tf.estimator.SessionRunHook instead.\n",
      "\n",
      "WARNING:tensorflow:From D:\\Users\\glede\\anaconda3\\envs\\py37\\lib\\site-packages\\tensorpack\\tfutils\\optimizer.py:18: The name tf.train.Optimizer is deprecated. Please use tf.compat.v1.train.Optimizer instead.\n",
      "\n",
      "WARNING:tensorflow:From D:\\Users\\glede\\anaconda3\\envs\\py37\\lib\\site-packages\\tensorpack\\tfutils\\sesscreate.py:20: The name tf.train.SessionCreator is deprecated. Please use tf.compat.v1.train.SessionCreator instead.\n",
      "\n"
     ]
    }
   ],
   "source": [
    "import numpy as np\n",
    "import pandas as pd\n",
    "\n",
    "import tensorflow as tf\n",
    "\n",
    "import matplotlib.pyplot as plt\n",
    "\n",
    "from modules.datgan_preLSTM2.model import DATGAN\n",
    "#from modules.datgan_no_att.model import DATGAN\n",
    "import networkx as nx\n",
    "\n",
    "# For the Python notebook\n",
    "%matplotlib inline\n",
    "%reload_ext autoreload\n",
    "%autoreload 2"
   ]
  },
  {
   "cell_type": "code",
   "execution_count": 4,
   "metadata": {},
   "outputs": [],
   "source": [
    "dataset = 'Chicago'"
   ]
  },
  {
   "cell_type": "code",
   "execution_count": 5,
   "metadata": {},
   "outputs": [],
   "source": [
    "df = pd.read_csv('../data/{}/data.csv'.format(dataset), index_col=False)"
   ]
  },
  {
   "cell_type": "code",
   "execution_count": 6,
   "metadata": {},
   "outputs": [
    {
     "data": {
      "text/html": [
       "<div>\n",
       "<style scoped>\n",
       "    .dataframe tbody tr th:only-of-type {\n",
       "        vertical-align: middle;\n",
       "    }\n",
       "\n",
       "    .dataframe tbody tr th {\n",
       "        vertical-align: top;\n",
       "    }\n",
       "\n",
       "    .dataframe thead th {\n",
       "        text-align: right;\n",
       "    }\n",
       "</style>\n",
       "<table border=\"1\" class=\"dataframe\">\n",
       "  <thead>\n",
       "    <tr style=\"text-align: right;\">\n",
       "      <th></th>\n",
       "      <th>choice</th>\n",
       "      <th>travel_dow</th>\n",
       "      <th>trip_purpose</th>\n",
       "      <th>distance</th>\n",
       "      <th>hh_vehicles</th>\n",
       "      <th>hh_size</th>\n",
       "      <th>hh_bikes</th>\n",
       "      <th>hh_descr</th>\n",
       "      <th>hh_income</th>\n",
       "      <th>gender</th>\n",
       "      <th>age</th>\n",
       "      <th>license</th>\n",
       "      <th>education_level</th>\n",
       "      <th>work_status</th>\n",
       "      <th>departure_time</th>\n",
       "    </tr>\n",
       "  </thead>\n",
       "  <tbody>\n",
       "    <tr>\n",
       "      <th>0</th>\n",
       "      <td>drive</td>\n",
       "      <td>7</td>\n",
       "      <td>HOME_OTHER</td>\n",
       "      <td>23.42579</td>\n",
       "      <td>2</td>\n",
       "      <td>2</td>\n",
       "      <td>0</td>\n",
       "      <td>2</td>\n",
       "      <td>6</td>\n",
       "      <td>1</td>\n",
       "      <td>66</td>\n",
       "      <td>1.0</td>\n",
       "      <td>6</td>\n",
       "      <td>FTE</td>\n",
       "      <td>9.333333</td>\n",
       "    </tr>\n",
       "    <tr>\n",
       "      <th>1</th>\n",
       "      <td>drive</td>\n",
       "      <td>7</td>\n",
       "      <td>OTHER</td>\n",
       "      <td>1.71259</td>\n",
       "      <td>2</td>\n",
       "      <td>2</td>\n",
       "      <td>0</td>\n",
       "      <td>2</td>\n",
       "      <td>6</td>\n",
       "      <td>1</td>\n",
       "      <td>66</td>\n",
       "      <td>1.0</td>\n",
       "      <td>6</td>\n",
       "      <td>FTE</td>\n",
       "      <td>12.083333</td>\n",
       "    </tr>\n",
       "    <tr>\n",
       "      <th>2</th>\n",
       "      <td>drive</td>\n",
       "      <td>7</td>\n",
       "      <td>HOME_OTHER</td>\n",
       "      <td>21.77887</td>\n",
       "      <td>2</td>\n",
       "      <td>2</td>\n",
       "      <td>0</td>\n",
       "      <td>2</td>\n",
       "      <td>6</td>\n",
       "      <td>1</td>\n",
       "      <td>66</td>\n",
       "      <td>1.0</td>\n",
       "      <td>6</td>\n",
       "      <td>FTE</td>\n",
       "      <td>15.500000</td>\n",
       "    </tr>\n",
       "    <tr>\n",
       "      <th>3</th>\n",
       "      <td>drive</td>\n",
       "      <td>7</td>\n",
       "      <td>SHOPPING</td>\n",
       "      <td>2.02603</td>\n",
       "      <td>2</td>\n",
       "      <td>2</td>\n",
       "      <td>0</td>\n",
       "      <td>2</td>\n",
       "      <td>6</td>\n",
       "      <td>1</td>\n",
       "      <td>66</td>\n",
       "      <td>1.0</td>\n",
       "      <td>6</td>\n",
       "      <td>FTE</td>\n",
       "      <td>17.500000</td>\n",
       "    </tr>\n",
       "    <tr>\n",
       "      <th>4</th>\n",
       "      <td>drive</td>\n",
       "      <td>7</td>\n",
       "      <td>SHOPPING</td>\n",
       "      <td>0.87691</td>\n",
       "      <td>2</td>\n",
       "      <td>2</td>\n",
       "      <td>0</td>\n",
       "      <td>2</td>\n",
       "      <td>6</td>\n",
       "      <td>1</td>\n",
       "      <td>66</td>\n",
       "      <td>1.0</td>\n",
       "      <td>6</td>\n",
       "      <td>FTE</td>\n",
       "      <td>18.250000</td>\n",
       "    </tr>\n",
       "  </tbody>\n",
       "</table>\n",
       "</div>"
      ],
      "text/plain": [
       "  choice  travel_dow trip_purpose  distance  hh_vehicles  hh_size  hh_bikes  \\\n",
       "0  drive           7   HOME_OTHER  23.42579            2        2         0   \n",
       "1  drive           7        OTHER   1.71259            2        2         0   \n",
       "2  drive           7   HOME_OTHER  21.77887            2        2         0   \n",
       "3  drive           7     SHOPPING   2.02603            2        2         0   \n",
       "4  drive           7     SHOPPING   0.87691            2        2         0   \n",
       "\n",
       "   hh_descr  hh_income  gender  age  license  education_level work_status  \\\n",
       "0         2          6       1   66      1.0                6         FTE   \n",
       "1         2          6       1   66      1.0                6         FTE   \n",
       "2         2          6       1   66      1.0                6         FTE   \n",
       "3         2          6       1   66      1.0                6         FTE   \n",
       "4         2          6       1   66      1.0                6         FTE   \n",
       "\n",
       "   departure_time  \n",
       "0        9.333333  \n",
       "1       12.083333  \n",
       "2       15.500000  \n",
       "3       17.500000  \n",
       "4       18.250000  "
      ]
     },
     "execution_count": 6,
     "metadata": {},
     "output_type": "execute_result"
    }
   ],
   "source": [
    "df.head()"
   ]
  },
  {
   "cell_type": "code",
   "execution_count": 7,
   "metadata": {},
   "outputs": [],
   "source": [
    "if dataset is 'Chicago':\n",
    "    continuous_columns = [\"distance\", \"age\", \"departure_time\"]\n",
    "elif dataset is 'LPMC':\n",
    "    continuous_columns = ['start_time_linear', 'age', 'distance', 'dur_walking', 'dur_cycling', 'dur_pt_access', 'dur_pt_rail', 'dur_pt_bus', 'dur_pt_int', 'dur_driving', 'cost_transit', 'cost_driving_fuel', 'driving_traffic_percent']"
   ]
  },
  {
   "cell_type": "code",
   "execution_count": 8,
   "metadata": {},
   "outputs": [],
   "source": [
    "# personalised graph\n",
    "graph = nx.DiGraph()\n",
    "\n",
    "if dataset is 'Chicago':\n",
    "    graph.add_edges_from([\n",
    "        (\"age\", \"license\"),\n",
    "        (\"age\", \"education_level\"),\n",
    "        (\"gender\", \"work_status\"),\n",
    "        (\"education_level\", \"work_status\"),\n",
    "        (\"work_status\", \"hh_income\"),\n",
    "        (\"education_level\", \"hh_income\"),\n",
    "        (\"hh_income\", \"hh_descr\"),\n",
    "        (\"hh_income\", \"hh_size\"),\n",
    "        (\"hh_size\", \"hh_vehicles\"),\n",
    "        (\"hh_size\", \"hh_bikes\"),\n",
    "        (\"work_status\", \"trip_purpose\"),\n",
    "        (\"trip_purpose\", \"departure_time\"),\n",
    "        (\"trip_purpose\", \"distance\"),\n",
    "        (\"travel_dow\", \"choice\"),\n",
    "        (\"distance\", \"choice\"),\n",
    "        (\"departure_time\", \"choice\"),\n",
    "        (\"hh_vehicles\", \"choice\"),\n",
    "        (\"hh_bikes\", \"choice\"),\n",
    "        (\"license\", \"choice\"),\n",
    "        # Non necessary links\n",
    "        (\"education_level\", \"hh_size\"),\n",
    "        (\"work_status\", \"hh_descr\"),\n",
    "        (\"work_status\", \"hh_size\"),\n",
    "        (\"hh_income\", \"hh_bikes\"),\n",
    "        (\"hh_income\", \"hh_vehicles\"),\n",
    "        (\"trip_purpose\", \"choice\")\n",
    "    ])\n",
    "elif dataset is 'LPMC':\n",
    "    graph.add_edges_from([\n",
    "        (\"travel_year\", \"survey_year\"),\n",
    "        (\"travel_date\", \"day_of_week\"),\n",
    "        (\"day_of_week\", \"purpose\"),\n",
    "        (\"purpose\", \"start_time_linear\"),\n",
    "        (\"purpose\", \"cost_driving_con_charge\"),\n",
    "        (\"purpose\", \"distance\"),\n",
    "        (\"day_of_week\", \"driving_traffic_percent\"),\n",
    "        (\"day_of_week\", \"cost_driving_con_charge\"),\n",
    "        (\"start_time_linear\", \"driving_traffic_percent\"),\n",
    "        (\"start_time_linear\", \"cost_driving_con_charge\"),\n",
    "        (\"driving_traffic_percent\", \"cost_driving_con_charge\"),\n",
    "        (\"female\", \"driving_license\"),\n",
    "        (\"age\", \"bus_scale\"),\n",
    "        (\"age\", \"car_ownership\"),\n",
    "        (\"age\", \"driving_license\"),\n",
    "        (\"age\", \"faretype\"),\n",
    "        (\"driving_license\", \"car_ownership\"),\n",
    "        (\"car_ownership\", \"fueltype\"),\n",
    "        (\"fueltype\", \"cost_driving_con_charge\"),\n",
    "        (\"fueltype\", \"cost_driving_fuel\"),\n",
    "        (\"distance\", \"cost_driving_fuel\"),\n",
    "        (\"distance\", \"dur_driving\"),\n",
    "        (\"distance\", \"dur_walking\"),\n",
    "        (\"distance\", \"dur_cycling\"),\n",
    "        (\"distance\", \"dur_pt_access\"),\n",
    "        (\"distance\", \"dur_pt_rail\"),\n",
    "        (\"distance\", \"dur_pt_bus\"),\n",
    "        (\"distance\", \"dur_pt_int\"),\n",
    "        (\"dur_pt_bus\", \"cost_transit\"),\n",
    "        (\"dur_pt_rail\", \"cost_transit\"),\n",
    "        (\"pt_n_interchanges\", \"dur_pt_int\"),\n",
    "        (\"pt_n_interchanges\", \"cost_transit\"),\n",
    "        (\"faretype\", \"cost_transit\"),\n",
    "        (\"bus_scale\", \"cost_transit\"),\n",
    "        (\"car_ownership\", \"travel_mode\"),\n",
    "        (\"age\", \"travel_mode\"),\n",
    "        (\"cost_driving_con_charge\", \"travel_mode\"),\n",
    "        (\"driving_traffic_percent\", \"travel_mode\"),\n",
    "        (\"female\", \"travel_mode\"),\n",
    "        (\"purpose\", \"travel_mode\"),\n",
    "        (\"cost_transit\", \"travel_mode\"),\n",
    "        (\"cost_driving_fuel\", \"travel_mode\"),\n",
    "        (\"dur_driving\", \"travel_mode\"),\n",
    "        (\"dur_walking\", \"travel_mode\"),\n",
    "        (\"dur_cycling\", \"travel_mode\"),\n",
    "        (\"dur_pt_access\", \"travel_mode\"),\n",
    "        (\"dur_pt_rail\", \"travel_mode\"),\n",
    "        (\"dur_pt_bus\", \"travel_mode\"),\n",
    "        (\"dur_pt_int\", \"travel_mode\")\n",
    "    ])\n",
    "    graph.add_node(\"travel_month\")"
   ]
  },
  {
   "cell_type": "code",
   "execution_count": 9,
   "metadata": {},
   "outputs": [],
   "source": [
    "output_folder = '../output/' + dataset + '/DATGAN_TEST/'"
   ]
  },
  {
   "cell_type": "code",
   "execution_count": 10,
   "metadata": {},
   "outputs": [],
   "source": [
    "datgan = DATGAN(continuous_columns, max_epoch=1000, steps_per_epoch=2000, batch_size=200, output=output_folder, gpu=0)"
   ]
  },
  {
   "cell_type": "code",
   "execution_count": null,
   "metadata": {
    "scrolled": true
   },
   "outputs": [
    {
     "name": "stdout",
     "output_type": "stream",
     "text": [
      "\u001b[32m[0924 10:10:38 @model.py:873]\u001b[0m Found an already existing model. Loading it!\n",
      "\u001b[32m[0924 10:10:38 @model.py:885]\u001b[0m Preprocessed data have been loaded!\n",
      "\u001b[32m[0924 10:10:38 @input_source.py:222]\u001b[0m Setting up the queue 'QueueInput_1/input_queue' for CPU prefetching ...\n",
      "WARNING:tensorflow:From C:\\Users\\glede\\Documents\\EPFL\\PhD\\SynthPop\\code\\modules\\datgan_preLSTM2\\model.py:282: LSTMCell.__init__ (from tensorflow.python.ops.rnn_cell_impl) is deprecated and will be removed in a future version.\n",
      "Instructions for updating:\n",
      "This class is equivalent as tf.keras.layers.LSTMCell, and will be replaced by that in Tensorflow 2.0.\n",
      "\u001b[91m-> Creating cell for age (in-edges: 0)\n",
      "WARNING:tensorflow:From D:\\Users\\glede\\anaconda3\\envs\\py37\\lib\\site-packages\\tensorflow_core\\python\\ops\\rnn_cell_impl.py:958: Layer.add_variable (from tensorflow.python.keras.engine.base_layer) is deprecated and will be removed in a future version.\n",
      "Instructions for updating:\n",
      "Please use `layer.add_weight` method instead.\n",
      "WARNING:tensorflow:From D:\\Users\\glede\\anaconda3\\envs\\py37\\lib\\site-packages\\tensorflow_core\\python\\ops\\rnn_cell_impl.py:962: calling Zeros.__init__ (from tensorflow.python.ops.init_ops) with dtype is deprecated and will be removed in a future version.\n",
      "Instructions for updating:\n",
      "Call initializer instance with the dtype argument instead of passing it to the constructor\n",
      "\u001b[32m[0924 10:10:38 @registry.py:126]\u001b[0m gen/LSTM/00/FC input: [200, 100]\n",
      "WARNING:tensorflow:From D:\\Users\\glede\\anaconda3\\envs\\py37\\lib\\site-packages\\tensorpack\\models\\fc.py:57: The name tf.layers.Dense is deprecated. Please use tf.compat.v1.layers.Dense instead.\n",
      "\n",
      "WARNING:tensorflow:From D:\\Users\\glede\\anaconda3\\envs\\py37\\lib\\site-packages\\tensorpack\\models\\fc.py:67: Layer.apply (from tensorflow.python.keras.engine.base_layer) is deprecated and will be removed in a future version.\n",
      "Instructions for updating:\n",
      "Please use `layer.__call__` method instead.\n",
      "\u001b[32m[0924 10:10:38 @registry.py:134]\u001b[0m gen/LSTM/00/FC output: [200, 100]\n",
      "\u001b[32m[0924 10:10:38 @registry.py:126]\u001b[0m gen/LSTM/00/FC2 input: [200, 100]\n",
      "\u001b[32m[0924 10:10:38 @registry.py:134]\u001b[0m gen/LSTM/00/FC2 output: [200, 1]\n",
      "\u001b[32m[0924 10:10:38 @registry.py:126]\u001b[0m gen/LSTM/01/FC input: [200, 100]\n",
      "\u001b[32m[0924 10:10:38 @registry.py:134]\u001b[0m gen/LSTM/01/FC output: [200, 100]\n",
      "\u001b[32m[0924 10:10:38 @registry.py:126]\u001b[0m gen/LSTM/01/FC2 input: [200, 100]\n",
      "\u001b[32m[0924 10:10:38 @registry.py:134]\u001b[0m gen/LSTM/01/FC2 output: [200, 10]\n",
      "\u001b[32m[0924 10:10:38 @registry.py:126]\u001b[0m gen/LSTM/01/FC3 input: [200, 10]\n",
      "\u001b[32m[0924 10:10:38 @registry.py:134]\u001b[0m gen/LSTM/01/FC3 output: [200, 100]\n",
      "\u001b[91m-> Creating cell for gender (in-edges: 0)\n",
      "\u001b[32m[0924 10:10:38 @registry.py:126]\u001b[0m gen/LSTM/02/FC input: [200, 100]\n",
      "\u001b[32m[0924 10:10:38 @registry.py:134]\u001b[0m gen/LSTM/02/FC output: [200, 100]\n",
      "\u001b[32m[0924 10:10:38 @registry.py:126]\u001b[0m gen/LSTM/02/FC2 input: [200, 100]\n",
      "\u001b[32m[0924 10:10:38 @registry.py:134]\u001b[0m gen/LSTM/02/FC2 output: [200, 2]\n",
      "\u001b[32m[0924 10:10:38 @registry.py:126]\u001b[0m gen/LSTM/02/FC3 input: [200, 2]\n",
      "\u001b[32m[0924 10:10:38 @registry.py:134]\u001b[0m gen/LSTM/02/FC3 output: [200, 100]\n",
      "\u001b[91m-> Creating cell for travel_dow (in-edges: 0)\n",
      "\u001b[32m[0924 10:10:38 @registry.py:126]\u001b[0m gen/LSTM/03/FC input: [200, 100]\n",
      "\u001b[32m[0924 10:10:38 @registry.py:134]\u001b[0m gen/LSTM/03/FC output: [200, 100]\n",
      "\u001b[32m[0924 10:10:38 @registry.py:126]\u001b[0m gen/LSTM/03/FC2 input: [200, 100]\n",
      "\u001b[32m[0924 10:10:38 @registry.py:134]\u001b[0m gen/LSTM/03/FC2 output: [200, 7]\n",
      "\u001b[32m[0924 10:10:38 @registry.py:126]\u001b[0m gen/LSTM/03/FC3 input: [200, 7]\n",
      "\u001b[32m[0924 10:10:38 @registry.py:134]\u001b[0m gen/LSTM/03/FC3 output: [200, 100]\n",
      "\u001b[91m-> Creating cell for license (in-edges: 1)\n",
      "\u001b[32m[0924 10:10:38 @registry.py:126]\u001b[0m gen/LSTM/04/FC input: [200, 100]\n",
      "\u001b[32m[0924 10:10:38 @registry.py:134]\u001b[0m gen/LSTM/04/FC output: [200, 100]\n",
      "\u001b[32m[0924 10:10:38 @registry.py:126]\u001b[0m gen/LSTM/04/FC2 input: [200, 100]\n",
      "\u001b[32m[0924 10:10:38 @registry.py:134]\u001b[0m gen/LSTM/04/FC2 output: [200, 2]\n",
      "\u001b[32m[0924 10:10:38 @registry.py:126]\u001b[0m gen/LSTM/04/FC3 input: [200, 2]\n",
      "\u001b[32m[0924 10:10:38 @registry.py:134]\u001b[0m gen/LSTM/04/FC3 output: [200, 100]\n",
      "\u001b[91m-> Creating cell for education_level (in-edges: 1)\n",
      "\u001b[32m[0924 10:10:38 @registry.py:126]\u001b[0m gen/LSTM/05/FC input: [200, 100]\n",
      "\u001b[32m[0924 10:10:38 @registry.py:134]\u001b[0m gen/LSTM/05/FC output: [200, 100]\n",
      "\u001b[32m[0924 10:10:38 @registry.py:126]\u001b[0m gen/LSTM/05/FC2 input: [200, 100]\n",
      "\u001b[32m[0924 10:10:38 @registry.py:134]\u001b[0m gen/LSTM/05/FC2 output: [200, 6]\n",
      "\u001b[32m[0924 10:10:38 @registry.py:126]\u001b[0m gen/LSTM/05/FC3 input: [200, 6]\n",
      "\u001b[32m[0924 10:10:38 @registry.py:134]\u001b[0m gen/LSTM/05/FC3 output: [200, 100]\n",
      "\u001b[91m-> Creating cell for work_status (in-edges: 2)\n",
      "\u001b[32m[0924 10:10:38 @registry.py:126]\u001b[0m gen/LSTM/06/FC_inputs input: [200, 200]\n",
      "\u001b[32m[0924 10:10:38 @registry.py:134]\u001b[0m gen/LSTM/06/FC_inputs output: [200, 100]\n",
      "\u001b[32m[0924 10:10:38 @registry.py:126]\u001b[0m gen/LSTM/06/FC_attentions input: [200, 200]\n",
      "\u001b[32m[0924 10:10:38 @registry.py:134]\u001b[0m gen/LSTM/06/FC_attentions output: [200, 100]\n",
      "\u001b[32m[0924 10:10:38 @registry.py:126]\u001b[0m gen/LSTM/06/FC_lstm_state_0 input: [200, 200]\n",
      "\u001b[32m[0924 10:10:38 @registry.py:134]\u001b[0m gen/LSTM/06/FC_lstm_state_0 output: [200, 100]\n",
      "\u001b[32m[0924 10:10:38 @registry.py:126]\u001b[0m gen/LSTM/06/FC_lstm_state_1 input: [200, 200]\n",
      "\u001b[32m[0924 10:10:38 @registry.py:134]\u001b[0m gen/LSTM/06/FC_lstm_state_1 output: [200, 100]\n",
      "WARNING:tensorflow:From C:\\Users\\glede\\Documents\\EPFL\\PhD\\SynthPop\\code\\modules\\datgan_preLSTM2\\model.py:395: The name tf.nn.rnn_cell.LSTMStateTuple is deprecated. Please use tf.compat.v1.nn.rnn_cell.LSTMStateTuple instead.\n",
      "\n",
      "\u001b[32m[0924 10:10:38 @registry.py:126]\u001b[0m gen/LSTM/07/FC input: [200, 100]\n",
      "\u001b[32m[0924 10:10:38 @registry.py:134]\u001b[0m gen/LSTM/07/FC output: [200, 100]\n",
      "\u001b[32m[0924 10:10:38 @registry.py:126]\u001b[0m gen/LSTM/07/FC2 input: [200, 100]\n",
      "\u001b[32m[0924 10:10:38 @registry.py:134]\u001b[0m gen/LSTM/07/FC2 output: [200, 8]\n",
      "\u001b[32m[0924 10:10:38 @registry.py:126]\u001b[0m gen/LSTM/07/FC3 input: [200, 8]\n",
      "\u001b[32m[0924 10:10:38 @registry.py:134]\u001b[0m gen/LSTM/07/FC3 output: [200, 100]\n",
      "\u001b[91m-> Creating cell for hh_income (in-edges: 2)\n",
      "\u001b[32m[0924 10:10:38 @registry.py:126]\u001b[0m gen/LSTM/08/FC_inputs input: [200, 200]\n",
      "\u001b[32m[0924 10:10:38 @registry.py:134]\u001b[0m gen/LSTM/08/FC_inputs output: [200, 100]\n",
      "\u001b[32m[0924 10:10:38 @registry.py:126]\u001b[0m gen/LSTM/08/FC_attentions input: [200, 200]\n",
      "\u001b[32m[0924 10:10:38 @registry.py:134]\u001b[0m gen/LSTM/08/FC_attentions output: [200, 100]\n",
      "\u001b[32m[0924 10:10:38 @registry.py:126]\u001b[0m gen/LSTM/08/FC_lstm_state_0 input: [200, 200]\n",
      "\u001b[32m[0924 10:10:38 @registry.py:134]\u001b[0m gen/LSTM/08/FC_lstm_state_0 output: [200, 100]\n",
      "\u001b[32m[0924 10:10:38 @registry.py:126]\u001b[0m gen/LSTM/08/FC_lstm_state_1 input: [200, 200]\n",
      "\u001b[32m[0924 10:10:38 @registry.py:134]\u001b[0m gen/LSTM/08/FC_lstm_state_1 output: [200, 100]\n",
      "\u001b[32m[0924 10:10:38 @registry.py:126]\u001b[0m gen/LSTM/09/FC input: [200, 100]\n",
      "\u001b[32m[0924 10:10:38 @registry.py:134]\u001b[0m gen/LSTM/09/FC output: [200, 100]\n",
      "\u001b[32m[0924 10:10:38 @registry.py:126]\u001b[0m gen/LSTM/09/FC2 input: [200, 100]\n",
      "\u001b[32m[0924 10:10:38 @registry.py:134]\u001b[0m gen/LSTM/09/FC2 output: [200, 7]\n",
      "\u001b[32m[0924 10:10:38 @registry.py:126]\u001b[0m gen/LSTM/09/FC3 input: [200, 7]\n",
      "\u001b[32m[0924 10:10:38 @registry.py:134]\u001b[0m gen/LSTM/09/FC3 output: [200, 100]\n",
      "\u001b[91m-> Creating cell for trip_purpose (in-edges: 1)\n",
      "\u001b[32m[0924 10:10:38 @registry.py:126]\u001b[0m gen/LSTM/10/FC input: [200, 100]\n",
      "\u001b[32m[0924 10:10:38 @registry.py:134]\u001b[0m gen/LSTM/10/FC output: [200, 100]\n",
      "\u001b[32m[0924 10:10:38 @registry.py:126]\u001b[0m gen/LSTM/10/FC2 input: [200, 100]\n",
      "\u001b[32m[0924 10:10:38 @registry.py:134]\u001b[0m gen/LSTM/10/FC2 output: [200, 7]\n",
      "\u001b[32m[0924 10:10:38 @registry.py:126]\u001b[0m gen/LSTM/10/FC3 input: [200, 7]\n",
      "\u001b[32m[0924 10:10:38 @registry.py:134]\u001b[0m gen/LSTM/10/FC3 output: [200, 100]\n",
      "\u001b[91m-> Creating cell for hh_descr (in-edges: 2)\n",
      "\u001b[32m[0924 10:10:38 @registry.py:126]\u001b[0m gen/LSTM/11/FC_inputs input: [200, 200]\n",
      "\u001b[32m[0924 10:10:38 @registry.py:134]\u001b[0m gen/LSTM/11/FC_inputs output: [200, 100]\n",
      "\u001b[32m[0924 10:10:38 @registry.py:126]\u001b[0m gen/LSTM/11/FC_attentions input: [200, 200]\n",
      "\u001b[32m[0924 10:10:38 @registry.py:134]\u001b[0m gen/LSTM/11/FC_attentions output: [200, 100]\n",
      "\u001b[32m[0924 10:10:38 @registry.py:126]\u001b[0m gen/LSTM/11/FC_lstm_state_0 input: [200, 200]\n"
     ]
    },
    {
     "name": "stdout",
     "output_type": "stream",
     "text": [
      "\u001b[32m[0924 10:10:39 @registry.py:134]\u001b[0m gen/LSTM/11/FC_lstm_state_0 output: [200, 100]\n",
      "\u001b[32m[0924 10:10:39 @registry.py:126]\u001b[0m gen/LSTM/11/FC_lstm_state_1 input: [200, 200]\n",
      "\u001b[32m[0924 10:10:39 @registry.py:134]\u001b[0m gen/LSTM/11/FC_lstm_state_1 output: [200, 100]\n",
      "\u001b[32m[0924 10:10:39 @registry.py:126]\u001b[0m gen/LSTM/12/FC input: [200, 100]\n",
      "\u001b[32m[0924 10:10:39 @registry.py:134]\u001b[0m gen/LSTM/12/FC output: [200, 100]\n",
      "\u001b[32m[0924 10:10:39 @registry.py:126]\u001b[0m gen/LSTM/12/FC2 input: [200, 100]\n",
      "\u001b[32m[0924 10:10:39 @registry.py:134]\u001b[0m gen/LSTM/12/FC2 output: [200, 3]\n",
      "\u001b[32m[0924 10:10:39 @registry.py:126]\u001b[0m gen/LSTM/12/FC3 input: [200, 3]\n",
      "\u001b[32m[0924 10:10:39 @registry.py:134]\u001b[0m gen/LSTM/12/FC3 output: [200, 100]\n",
      "\u001b[91m-> Creating cell for hh_size (in-edges: 3)\n",
      "\u001b[32m[0924 10:10:39 @registry.py:126]\u001b[0m gen/LSTM/13/FC_inputs input: [200, 300]\n",
      "\u001b[32m[0924 10:10:39 @registry.py:134]\u001b[0m gen/LSTM/13/FC_inputs output: [200, 100]\n",
      "\u001b[32m[0924 10:10:39 @registry.py:126]\u001b[0m gen/LSTM/13/FC_attentions input: [200, 300]\n",
      "\u001b[32m[0924 10:10:39 @registry.py:134]\u001b[0m gen/LSTM/13/FC_attentions output: [200, 100]\n",
      "\u001b[32m[0924 10:10:39 @registry.py:126]\u001b[0m gen/LSTM/13/FC_lstm_state_0 input: [200, 300]\n",
      "\u001b[32m[0924 10:10:39 @registry.py:134]\u001b[0m gen/LSTM/13/FC_lstm_state_0 output: [200, 100]\n",
      "\u001b[32m[0924 10:10:39 @registry.py:126]\u001b[0m gen/LSTM/13/FC_lstm_state_1 input: [200, 300]\n",
      "\u001b[32m[0924 10:10:39 @registry.py:134]\u001b[0m gen/LSTM/13/FC_lstm_state_1 output: [200, 100]\n",
      "\u001b[32m[0924 10:10:39 @registry.py:126]\u001b[0m gen/LSTM/14/FC input: [200, 100]\n",
      "\u001b[32m[0924 10:10:39 @registry.py:134]\u001b[0m gen/LSTM/14/FC output: [200, 100]\n",
      "\u001b[32m[0924 10:10:39 @registry.py:126]\u001b[0m gen/LSTM/14/FC2 input: [200, 100]\n",
      "\u001b[32m[0924 10:10:39 @registry.py:134]\u001b[0m gen/LSTM/14/FC2 output: [200, 8]\n",
      "\u001b[32m[0924 10:10:39 @registry.py:126]\u001b[0m gen/LSTM/14/FC3 input: [200, 8]\n",
      "\u001b[32m[0924 10:10:39 @registry.py:134]\u001b[0m gen/LSTM/14/FC3 output: [200, 100]\n",
      "\u001b[91m-> Creating cell for departure_time (in-edges: 1)\n",
      "\u001b[32m[0924 10:10:39 @registry.py:126]\u001b[0m gen/LSTM/15/FC input: [200, 100]\n",
      "\u001b[32m[0924 10:10:39 @registry.py:134]\u001b[0m gen/LSTM/15/FC output: [200, 100]\n",
      "\u001b[32m[0924 10:10:39 @registry.py:126]\u001b[0m gen/LSTM/15/FC2 input: [200, 100]\n",
      "\u001b[32m[0924 10:10:39 @registry.py:134]\u001b[0m gen/LSTM/15/FC2 output: [200, 1]\n",
      "\u001b[32m[0924 10:10:39 @registry.py:126]\u001b[0m gen/LSTM/16/FC input: [200, 100]\n",
      "\u001b[32m[0924 10:10:39 @registry.py:134]\u001b[0m gen/LSTM/16/FC output: [200, 100]\n",
      "\u001b[32m[0924 10:10:39 @registry.py:126]\u001b[0m gen/LSTM/16/FC2 input: [200, 100]\n",
      "\u001b[32m[0924 10:10:39 @registry.py:134]\u001b[0m gen/LSTM/16/FC2 output: [200, 9]\n",
      "\u001b[32m[0924 10:10:39 @registry.py:126]\u001b[0m gen/LSTM/16/FC3 input: [200, 9]\n",
      "\u001b[32m[0924 10:10:39 @registry.py:134]\u001b[0m gen/LSTM/16/FC3 output: [200, 100]\n",
      "\u001b[91m-> Creating cell for distance (in-edges: 1)\n",
      "\u001b[32m[0924 10:10:39 @registry.py:126]\u001b[0m gen/LSTM/17/FC input: [200, 100]\n",
      "\u001b[32m[0924 10:10:39 @registry.py:134]\u001b[0m gen/LSTM/17/FC output: [200, 100]\n",
      "\u001b[32m[0924 10:10:39 @registry.py:126]\u001b[0m gen/LSTM/17/FC2 input: [200, 100]\n",
      "\u001b[32m[0924 10:10:39 @registry.py:134]\u001b[0m gen/LSTM/17/FC2 output: [200, 1]\n",
      "\u001b[32m[0924 10:10:39 @registry.py:126]\u001b[0m gen/LSTM/18/FC input: [200, 100]\n",
      "\u001b[32m[0924 10:10:39 @registry.py:134]\u001b[0m gen/LSTM/18/FC output: [200, 100]\n",
      "\u001b[32m[0924 10:10:39 @registry.py:126]\u001b[0m gen/LSTM/18/FC2 input: [200, 100]\n",
      "\u001b[32m[0924 10:10:39 @registry.py:134]\u001b[0m gen/LSTM/18/FC2 output: [200, 9]\n",
      "\u001b[32m[0924 10:10:39 @registry.py:126]\u001b[0m gen/LSTM/18/FC3 input: [200, 9]\n",
      "\u001b[32m[0924 10:10:39 @registry.py:134]\u001b[0m gen/LSTM/18/FC3 output: [200, 100]\n",
      "\u001b[91m-> Creating cell for hh_vehicles (in-edges: 2)\n",
      "\u001b[32m[0924 10:10:39 @registry.py:126]\u001b[0m gen/LSTM/19/FC_inputs input: [200, 200]\n",
      "\u001b[32m[0924 10:10:39 @registry.py:134]\u001b[0m gen/LSTM/19/FC_inputs output: [200, 100]\n",
      "\u001b[32m[0924 10:10:39 @registry.py:126]\u001b[0m gen/LSTM/19/FC_attentions input: [200, 200]\n",
      "\u001b[32m[0924 10:10:39 @registry.py:134]\u001b[0m gen/LSTM/19/FC_attentions output: [200, 100]\n",
      "\u001b[32m[0924 10:10:39 @registry.py:126]\u001b[0m gen/LSTM/19/FC_lstm_state_0 input: [200, 200]\n",
      "\u001b[32m[0924 10:10:39 @registry.py:134]\u001b[0m gen/LSTM/19/FC_lstm_state_0 output: [200, 100]\n",
      "\u001b[32m[0924 10:10:39 @registry.py:126]\u001b[0m gen/LSTM/19/FC_lstm_state_1 input: [200, 200]\n",
      "\u001b[32m[0924 10:10:39 @registry.py:134]\u001b[0m gen/LSTM/19/FC_lstm_state_1 output: [200, 100]\n",
      "\u001b[32m[0924 10:10:39 @registry.py:126]\u001b[0m gen/LSTM/20/FC input: [200, 100]\n",
      "\u001b[32m[0924 10:10:39 @registry.py:134]\u001b[0m gen/LSTM/20/FC output: [200, 100]\n",
      "\u001b[32m[0924 10:10:39 @registry.py:126]\u001b[0m gen/LSTM/20/FC2 input: [200, 100]\n",
      "\u001b[32m[0924 10:10:39 @registry.py:134]\u001b[0m gen/LSTM/20/FC2 output: [200, 9]\n",
      "\u001b[32m[0924 10:10:39 @registry.py:126]\u001b[0m gen/LSTM/20/FC3 input: [200, 9]\n",
      "\u001b[32m[0924 10:10:39 @registry.py:134]\u001b[0m gen/LSTM/20/FC3 output: [200, 100]\n",
      "\u001b[91m-> Creating cell for hh_bikes (in-edges: 2)\n",
      "\u001b[32m[0924 10:10:39 @registry.py:126]\u001b[0m gen/LSTM/21/FC_inputs input: [200, 200]\n",
      "\u001b[32m[0924 10:10:39 @registry.py:134]\u001b[0m gen/LSTM/21/FC_inputs output: [200, 100]\n",
      "\u001b[32m[0924 10:10:39 @registry.py:126]\u001b[0m gen/LSTM/21/FC_attentions input: [200, 200]\n",
      "\u001b[32m[0924 10:10:39 @registry.py:134]\u001b[0m gen/LSTM/21/FC_attentions output: [200, 100]\n",
      "\u001b[32m[0924 10:10:39 @registry.py:126]\u001b[0m gen/LSTM/21/FC_lstm_state_0 input: [200, 200]\n",
      "\u001b[32m[0924 10:10:39 @registry.py:134]\u001b[0m gen/LSTM/21/FC_lstm_state_0 output: [200, 100]\n",
      "\u001b[32m[0924 10:10:39 @registry.py:126]\u001b[0m gen/LSTM/21/FC_lstm_state_1 input: [200, 200]\n",
      "\u001b[32m[0924 10:10:39 @registry.py:134]\u001b[0m gen/LSTM/21/FC_lstm_state_1 output: [200, 100]\n",
      "\u001b[32m[0924 10:10:39 @registry.py:126]\u001b[0m gen/LSTM/22/FC input: [200, 100]\n",
      "\u001b[32m[0924 10:10:39 @registry.py:134]\u001b[0m gen/LSTM/22/FC output: [200, 100]\n",
      "\u001b[32m[0924 10:10:39 @registry.py:126]\u001b[0m gen/LSTM/22/FC2 input: [200, 100]\n",
      "\u001b[32m[0924 10:10:39 @registry.py:134]\u001b[0m gen/LSTM/22/FC2 output: [200, 8]\n",
      "\u001b[32m[0924 10:10:39 @registry.py:126]\u001b[0m gen/LSTM/22/FC3 input: [200, 8]\n",
      "\u001b[32m[0924 10:10:39 @registry.py:134]\u001b[0m gen/LSTM/22/FC3 output: [200, 100]\n",
      "\u001b[91m-> Creating cell for choice (in-edges: 7)\n",
      "\u001b[32m[0924 10:10:39 @registry.py:126]\u001b[0m gen/LSTM/23/FC_inputs input: [200, 700]\n",
      "\u001b[32m[0924 10:10:39 @registry.py:134]\u001b[0m gen/LSTM/23/FC_inputs output: [200, 100]\n",
      "\u001b[32m[0924 10:10:39 @registry.py:126]\u001b[0m gen/LSTM/23/FC_attentions input: [200, 700]\n",
      "\u001b[32m[0924 10:10:39 @registry.py:134]\u001b[0m gen/LSTM/23/FC_attentions output: [200, 100]\n",
      "\u001b[32m[0924 10:10:39 @registry.py:126]\u001b[0m gen/LSTM/23/FC_lstm_state_0 input: [200, 700]\n",
      "\u001b[32m[0924 10:10:39 @registry.py:134]\u001b[0m gen/LSTM/23/FC_lstm_state_0 output: [200, 100]\n",
      "\u001b[32m[0924 10:10:39 @registry.py:126]\u001b[0m gen/LSTM/23/FC_lstm_state_1 input: [200, 700]\n",
      "\u001b[32m[0924 10:10:39 @registry.py:134]\u001b[0m gen/LSTM/23/FC_lstm_state_1 output: [200, 100]\n",
      "\u001b[32m[0924 10:10:39 @registry.py:126]\u001b[0m gen/LSTM/24/FC input: [200, 100]\n",
      "\u001b[32m[0924 10:10:39 @registry.py:134]\u001b[0m gen/LSTM/24/FC output: [200, 100]\n",
      "\u001b[32m[0924 10:10:39 @registry.py:126]\u001b[0m gen/LSTM/24/FC2 input: [200, 100]\n",
      "\u001b[32m[0924 10:10:39 @registry.py:134]\u001b[0m gen/LSTM/24/FC2 output: [200, 5]\n",
      "\u001b[32m[0924 10:10:39 @registry.py:126]\u001b[0m gen/LSTM/24/FC3 input: [200, 5]\n",
      "\u001b[32m[0924 10:10:39 @registry.py:134]\u001b[0m gen/LSTM/24/FC3 output: [200, 100]\n",
      "WARNING:tensorflow:From C:\\Users\\glede\\Documents\\EPFL\\PhD\\SynthPop\\code\\modules\\datgan_preLSTM2\\model.py:667: The name tf.random_uniform is deprecated. Please use tf.random.uniform instead.\n",
      "\n",
      "WARNING:tensorflow:From C:\\Users\\glede\\Documents\\EPFL\\PhD\\SynthPop\\code\\modules\\datgan_preLSTM2\\model.py:608: The name tf.log is deprecated. Please use tf.math.log instead.\n",
      "\n",
      "\u001b[32m[0924 10:10:39 @registry.py:126]\u001b[0m discrim/dis_fc0/fc input: [200, 103]\n",
      "\u001b[32m[0924 10:10:39 @registry.py:134]\u001b[0m discrim/dis_fc0/fc output: [200, 100]\n",
      "\u001b[32m[0924 10:10:39 @registry.py:126]\u001b[0m discrim/dis_fc0/fc_diversity input: [200, 100]\n",
      "\u001b[32m[0924 10:10:39 @registry.py:134]\u001b[0m discrim/dis_fc0/fc_diversity output: [200, 100]\n",
      "WARNING:tensorflow:From D:\\Users\\glede\\anaconda3\\envs\\py37\\lib\\site-packages\\tensorpack\\models\\batch_norm.py:204: The name tf.layers.BatchNormalization is deprecated. Please use tf.compat.v1.layers.BatchNormalization instead.\n",
      "\n",
      "WARNING:tensorflow:From D:\\Users\\glede\\anaconda3\\envs\\py37\\lib\\site-packages\\tensorpack\\models\\batch_norm.py:212: The name tf.add_to_collection is deprecated. Please use tf.compat.v1.add_to_collection instead.\n",
      "\n"
     ]
    },
    {
     "name": "stdout",
     "output_type": "stream",
     "text": [
      "\u001b[32m[0924 10:10:39 @registry.py:126]\u001b[0m discrim/dis_fc_top input: [200, 110]\n",
      "\u001b[32m[0924 10:10:39 @registry.py:134]\u001b[0m discrim/dis_fc_top output: [200, 1]\n",
      "WARNING:tensorflow:From C:\\Users\\glede\\Documents\\EPFL\\PhD\\SynthPop\\code\\modules\\datgan_preLSTM2\\model.py:122: The name tf.summary.histogram is deprecated. Please use tf.compat.v1.summary.histogram instead.\n",
      "\n",
      "WARNING:tensorflow:From D:\\Users\\glede\\anaconda3\\envs\\py37\\lib\\site-packages\\tensorflow_core\\python\\ops\\nn_impl.py:183: where (from tensorflow.python.ops.array_ops) is deprecated and will be removed in a future version.\n",
      "Instructions for updating:\n",
      "Use tf.where in 2.0, which has the same broadcast rule as np.where\n",
      "WARNING:tensorflow:\n",
      "The TensorFlow contrib module will not be included in TensorFlow 2.0.\n",
      "For more information, please see:\n",
      "  * https://github.com/tensorflow/community/blob/master/rfcs/20180907-contrib-sunset.md\n",
      "  * https://github.com/tensorflow/addons\n",
      "  * https://github.com/tensorflow/io (for I/O related ops)\n",
      "If you depend on functionality not listed there, please file an issue.\n",
      "\n",
      "WARNING:tensorflow:From C:\\Users\\glede\\Documents\\EPFL\\PhD\\SynthPop\\code\\modules\\datgan_preLSTM2\\model.py:728: The name tf.train.AdamOptimizer is deprecated. Please use tf.compat.v1.train.AdamOptimizer instead.\n",
      "\n",
      "\u001b[32m[0924 10:10:43 @logger.py:83]\u001b[0m Existing log file '../output/Chicago/DATGAN_TEST/logs\\log.log' backuped to '../output/Chicago/DATGAN_TEST/logs\\log.log.0924-101043'\n",
      "\u001b[32m[0924 10:10:43 @logger.py:90]\u001b[0m Argv: D:\\Users\\glede\\anaconda3\\envs\\py37\\lib\\site-packages\\ipykernel_launcher.py -f C:\\Users\\glede\\AppData\\Roaming\\jupyter\\runtime\\kernel-62c97084-4acd-4fef-b001-696bf564690f.json\n",
      "WARNING:tensorflow:From D:\\Users\\glede\\anaconda3\\envs\\py37\\lib\\site-packages\\tensorpack\\callbacks\\saver.py:43: The name tf.gfile.IsDirectory is deprecated. Please use tf.io.gfile.isdir instead.\n",
      "\n",
      "WARNING:tensorflow:From D:\\Users\\glede\\anaconda3\\envs\\py37\\lib\\site-packages\\tensorpack\\tfutils\\common.py:41: The name tf.ConfigProto is deprecated. Please use tf.compat.v1.ConfigProto instead.\n",
      "\n",
      "\u001b[32m[0924 10:10:43 @model_utils.py:67]\u001b[0m \u001b[36mList of Trainable Variables: \n",
      "\u001b[0mname                              shape         #elements\n",
      "--------------------------------  ----------  -----------\n",
      "gen/LSTM/go_age:0                 [1, 100]            100\n",
      "gen/LSTM/lstm_cell/kernel:0       [500, 400]       200000\n",
      "gen/LSTM/lstm_cell/bias:0         [400]               400\n",
      "gen/LSTM/00/FC/W:0                [100, 100]        10000\n",
      "gen/LSTM/00/FC/b:0                [100]               100\n",
      "gen/LSTM/00/FC2/W:0               [100, 1]            100\n",
      "gen/LSTM/00/FC2/b:0               [1]                   1\n",
      "gen/LSTM/00/attw:0                [1, 1, 1]             1\n",
      "gen/LSTM/01/FC/W:0                [100, 100]        10000\n",
      "gen/LSTM/01/FC/b:0                [100]               100\n",
      "gen/LSTM/01/FC2/W:0               [100, 10]          1000\n",
      "gen/LSTM/01/FC2/b:0               [10]                 10\n",
      "gen/LSTM/01/FC3/W:0               [10, 100]          1000\n",
      "gen/LSTM/01/FC3/b:0               [100]               100\n",
      "gen/LSTM/01/attw:0                [2, 1, 1]             2\n",
      "gen/LSTM/go_gender:0              [1, 100]            100\n",
      "gen/LSTM/02/FC/W:0                [100, 100]        10000\n",
      "gen/LSTM/02/FC/b:0                [100]               100\n",
      "gen/LSTM/02/FC2/W:0               [100, 2]            200\n",
      "gen/LSTM/02/FC2/b:0               [2]                   2\n",
      "gen/LSTM/02/FC3/W:0               [2, 100]            200\n",
      "gen/LSTM/02/FC3/b:0               [100]               100\n",
      "gen/LSTM/02/attw:0                [1, 1, 1]             1\n",
      "gen/LSTM/go_travel_dow:0          [1, 100]            100\n",
      "gen/LSTM/03/FC/W:0                [100, 100]        10000\n",
      "gen/LSTM/03/FC/b:0                [100]               100\n",
      "gen/LSTM/03/FC2/W:0               [100, 7]            700\n",
      "gen/LSTM/03/FC2/b:0               [7]                   7\n",
      "gen/LSTM/03/FC3/W:0               [7, 100]            700\n",
      "gen/LSTM/03/FC3/b:0               [100]               100\n",
      "gen/LSTM/03/attw:0                [1, 1, 1]             1\n",
      "gen/LSTM/04/FC/W:0                [100, 100]        10000\n",
      "gen/LSTM/04/FC/b:0                [100]               100\n",
      "gen/LSTM/04/FC2/W:0               [100, 2]            200\n",
      "gen/LSTM/04/FC2/b:0               [2]                   2\n",
      "gen/LSTM/04/FC3/W:0               [2, 100]            200\n",
      "gen/LSTM/04/FC3/b:0               [100]               100\n",
      "gen/LSTM/04/attw:0                [3, 1, 1]             3\n",
      "gen/LSTM/05/FC/W:0                [100, 100]        10000\n",
      "gen/LSTM/05/FC/b:0                [100]               100\n",
      "gen/LSTM/05/FC2/W:0               [100, 6]            600\n",
      "gen/LSTM/05/FC2/b:0               [6]                   6\n",
      "gen/LSTM/05/FC3/W:0               [6, 100]            600\n",
      "gen/LSTM/05/FC3/b:0               [100]               100\n",
      "gen/LSTM/05/attw:0                [3, 1, 1]             3\n",
      "gen/LSTM/06/FC_inputs/W:0         [200, 100]        20000\n",
      "gen/LSTM/06/FC_inputs/b:0         [100]               100\n",
      "gen/LSTM/06/FC_attentions/W:0     [200, 100]        20000\n",
      "gen/LSTM/06/FC_attentions/b:0     [100]               100\n",
      "gen/LSTM/06/FC_lstm_state_0/W:0   [200, 100]        20000\n",
      "gen/LSTM/06/FC_lstm_state_0/b:0   [100]               100\n",
      "gen/LSTM/06/FC_lstm_state_1/W:0   [200, 100]        20000\n",
      "gen/LSTM/06/FC_lstm_state_1/b:0   [100]               100\n",
      "gen/LSTM/07/FC/W:0                [100, 100]        10000\n",
      "gen/LSTM/07/FC/b:0                [100]               100\n",
      "gen/LSTM/07/FC2/W:0               [100, 8]            800\n",
      "gen/LSTM/07/FC2/b:0               [8]                   8\n",
      "gen/LSTM/07/FC3/W:0               [8, 100]            800\n",
      "gen/LSTM/07/FC3/b:0               [100]               100\n",
      "gen/LSTM/07/attw:0                [5, 1, 1]             5\n",
      "gen/LSTM/08/FC_inputs/W:0         [200, 100]        20000\n",
      "gen/LSTM/08/FC_inputs/b:0         [100]               100\n",
      "gen/LSTM/08/FC_attentions/W:0     [200, 100]        20000\n",
      "gen/LSTM/08/FC_attentions/b:0     [100]               100\n",
      "gen/LSTM/08/FC_lstm_state_0/W:0   [200, 100]        20000\n",
      "gen/LSTM/08/FC_lstm_state_0/b:0   [100]               100\n",
      "gen/LSTM/08/FC_lstm_state_1/W:0   [200, 100]        20000\n",
      "gen/LSTM/08/FC_lstm_state_1/b:0   [100]               100\n",
      "gen/LSTM/09/FC/W:0                [100, 100]        10000\n",
      "gen/LSTM/09/FC/b:0                [100]               100\n",
      "gen/LSTM/09/FC2/W:0               [100, 7]            700\n",
      "gen/LSTM/09/FC2/b:0               [7]                   7\n",
      "gen/LSTM/09/FC3/W:0               [7, 100]            700\n",
      "gen/LSTM/09/FC3/b:0               [100]               100\n",
      "gen/LSTM/09/attw:0                [6, 1, 1]             6\n",
      "gen/LSTM/10/FC/W:0                [100, 100]        10000\n",
      "gen/LSTM/10/FC/b:0                [100]               100\n",
      "gen/LSTM/10/FC2/W:0               [100, 7]            700\n",
      "gen/LSTM/10/FC2/b:0               [7]                   7\n",
      "gen/LSTM/10/FC3/W:0               [7, 100]            700\n",
      "gen/LSTM/10/FC3/b:0               [100]               100\n",
      "gen/LSTM/10/attw:0                [6, 1, 1]             6\n",
      "gen/LSTM/11/FC_inputs/W:0         [200, 100]        20000\n",
      "gen/LSTM/11/FC_inputs/b:0         [100]               100\n",
      "gen/LSTM/11/FC_attentions/W:0     [200, 100]        20000\n",
      "gen/LSTM/11/FC_attentions/b:0     [100]               100\n",
      "gen/LSTM/11/FC_lstm_state_0/W:0   [200, 100]        20000\n",
      "gen/LSTM/11/FC_lstm_state_0/b:0   [100]               100\n",
      "gen/LSTM/11/FC_lstm_state_1/W:0   [200, 100]        20000\n",
      "gen/LSTM/11/FC_lstm_state_1/b:0   [100]               100\n",
      "gen/LSTM/12/FC/W:0                [100, 100]        10000\n",
      "gen/LSTM/12/FC/b:0                [100]               100\n",
      "gen/LSTM/12/FC2/W:0               [100, 3]            300\n",
      "gen/LSTM/12/FC2/b:0               [3]                   3\n",
      "gen/LSTM/12/FC3/W:0               [3, 100]            300\n",
      "gen/LSTM/12/FC3/b:0               [100]               100\n",
      "gen/LSTM/12/attw:0                [7, 1, 1]             7\n",
      "gen/LSTM/13/FC_inputs/W:0         [300, 100]        30000\n",
      "gen/LSTM/13/FC_inputs/b:0         [100]               100\n",
      "gen/LSTM/13/FC_attentions/W:0     [300, 100]        30000\n",
      "gen/LSTM/13/FC_attentions/b:0     [100]               100\n",
      "gen/LSTM/13/FC_lstm_state_0/W:0   [300, 100]        30000\n",
      "gen/LSTM/13/FC_lstm_state_0/b:0   [100]               100\n",
      "gen/LSTM/13/FC_lstm_state_1/W:0   [300, 100]        30000\n",
      "gen/LSTM/13/FC_lstm_state_1/b:0   [100]               100\n",
      "gen/LSTM/14/FC/W:0                [100, 100]        10000\n",
      "gen/LSTM/14/FC/b:0                [100]               100\n",
      "gen/LSTM/14/FC2/W:0               [100, 8]            800\n",
      "gen/LSTM/14/FC2/b:0               [8]                   8\n",
      "gen/LSTM/14/FC3/W:0               [8, 100]            800\n",
      "gen/LSTM/14/FC3/b:0               [100]               100\n",
      "gen/LSTM/14/attw:0                [7, 1, 1]             7\n",
      "gen/LSTM/15/FC/W:0                [100, 100]        10000\n",
      "gen/LSTM/15/FC/b:0                [100]               100\n",
      "gen/LSTM/15/FC2/W:0               [100, 1]            100\n",
      "gen/LSTM/15/FC2/b:0               [1]                   1\n",
      "gen/LSTM/15/attw:0                [7, 1, 1]             7\n",
      "gen/LSTM/16/FC/W:0                [100, 100]        10000\n",
      "gen/LSTM/16/FC/b:0                [100]               100\n",
      "gen/LSTM/16/FC2/W:0               [100, 9]            900\n",
      "gen/LSTM/16/FC2/b:0               [9]                   9\n",
      "gen/LSTM/16/FC3/W:0               [9, 100]            900\n",
      "gen/LSTM/16/FC3/b:0               [100]               100\n",
      "gen/LSTM/16/attw:0                [8, 1, 1]             8\n",
      "gen/LSTM/17/FC/W:0                [100, 100]        10000\n",
      "gen/LSTM/17/FC/b:0                [100]               100\n",
      "gen/LSTM/17/FC2/W:0               [100, 1]            100\n",
      "gen/LSTM/17/FC2/b:0               [1]                   1\n",
      "gen/LSTM/17/attw:0                [7, 1, 1]             7\n",
      "gen/LSTM/18/FC/W:0                [100, 100]        10000\n",
      "gen/LSTM/18/FC/b:0                [100]               100\n",
      "gen/LSTM/18/FC2/W:0               [100, 9]            900\n",
      "gen/LSTM/18/FC2/b:0               [9]                   9\n",
      "gen/LSTM/18/FC3/W:0               [9, 100]            900\n",
      "gen/LSTM/18/FC3/b:0               [100]               100\n",
      "gen/LSTM/18/attw:0                [8, 1, 1]             8\n",
      "gen/LSTM/19/FC_inputs/W:0         [200, 100]        20000\n",
      "gen/LSTM/19/FC_inputs/b:0         [100]               100\n",
      "gen/LSTM/19/FC_attentions/W:0     [200, 100]        20000\n",
      "gen/LSTM/19/FC_attentions/b:0     [100]               100\n",
      "gen/LSTM/19/FC_lstm_state_0/W:0   [200, 100]        20000\n",
      "gen/LSTM/19/FC_lstm_state_0/b:0   [100]               100\n",
      "gen/LSTM/19/FC_lstm_state_1/W:0   [200, 100]        20000\n",
      "gen/LSTM/19/FC_lstm_state_1/b:0   [100]               100\n",
      "gen/LSTM/20/FC/W:0                [100, 100]        10000\n",
      "gen/LSTM/20/FC/b:0                [100]               100\n",
      "gen/LSTM/20/FC2/W:0               [100, 9]            900\n",
      "gen/LSTM/20/FC2/b:0               [9]                   9\n",
      "gen/LSTM/20/FC3/W:0               [9, 100]            900\n",
      "gen/LSTM/20/FC3/b:0               [100]               100\n",
      "gen/LSTM/20/attw:0                [8, 1, 1]             8\n",
      "gen/LSTM/21/FC_inputs/W:0         [200, 100]        20000\n",
      "gen/LSTM/21/FC_inputs/b:0         [100]               100\n",
      "gen/LSTM/21/FC_attentions/W:0     [200, 100]        20000\n",
      "gen/LSTM/21/FC_attentions/b:0     [100]               100\n",
      "gen/LSTM/21/FC_lstm_state_0/W:0   [200, 100]        20000\n",
      "gen/LSTM/21/FC_lstm_state_0/b:0   [100]               100\n",
      "gen/LSTM/21/FC_lstm_state_1/W:0   [200, 100]        20000\n",
      "gen/LSTM/21/FC_lstm_state_1/b:0   [100]               100\n",
      "gen/LSTM/22/FC/W:0                [100, 100]        10000\n",
      "gen/LSTM/22/FC/b:0                [100]               100\n",
      "gen/LSTM/22/FC2/W:0               [100, 8]            800\n",
      "gen/LSTM/22/FC2/b:0               [8]                   8\n",
      "gen/LSTM/22/FC3/W:0               [8, 100]            800\n",
      "gen/LSTM/22/FC3/b:0               [100]               100\n",
      "gen/LSTM/22/attw:0                [8, 1, 1]             8\n",
      "gen/LSTM/23/FC_inputs/W:0         [700, 100]        70000\n",
      "gen/LSTM/23/FC_inputs/b:0         [100]               100\n",
      "gen/LSTM/23/FC_attentions/W:0     [700, 100]        70000\n",
      "gen/LSTM/23/FC_attentions/b:0     [100]               100\n",
      "gen/LSTM/23/FC_lstm_state_0/W:0   [700, 100]        70000\n",
      "gen/LSTM/23/FC_lstm_state_0/b:0   [100]               100\n",
      "gen/LSTM/23/FC_lstm_state_1/W:0   [700, 100]        70000\n",
      "gen/LSTM/23/FC_lstm_state_1/b:0   [100]               100\n",
      "gen/LSTM/24/FC/W:0                [100, 100]        10000\n",
      "gen/LSTM/24/FC/b:0                [100]               100\n",
      "gen/LSTM/24/FC2/W:0               [100, 5]            500\n",
      "gen/LSTM/24/FC2/b:0               [5]                   5\n",
      "gen/LSTM/24/FC3/W:0               [5, 100]            500\n",
      "gen/LSTM/24/FC3/b:0               [100]               100\n",
      "gen/LSTM/24/attw:0                [17, 1, 1]           17\n",
      "discrim/dis_fc0/fc/W:0            [103, 100]        10300\n",
      "discrim/dis_fc0/fc/b:0            [100]               100\n",
      "discrim/dis_fc0/fc_diversity/W:0  [100, 100]        10000\n",
      "discrim/dis_fc0/fc_diversity/b:0  [100]               100\n",
      "discrim/dis_fc0/bn/beta:0         [110]               110\n",
      "discrim/dis_fc_top/W:0            [110, 1]            110\n",
      "discrim/dis_fc_top/b:0            [1]                   1\u001b[36m\n",
      "Number of trainable variables: 188\n",
      "Number of parameters (elements): 1228029\n",
      "Storage space needed for all trainable variables: 4.68MB\u001b[0m\n"
     ]
    },
    {
     "name": "stdout",
     "output_type": "stream",
     "text": [
      "\u001b[32m[0924 10:10:43 @base.py:209]\u001b[0m Setup callbacks graph ...\n",
      "WARNING:tensorflow:From D:\\Users\\glede\\anaconda3\\envs\\py37\\lib\\site-packages\\tensorpack\\callbacks\\graph.py:54: The name tf.train.SessionRunArgs is deprecated. Please use tf.estimator.SessionRunArgs instead.\n",
      "\n",
      "WARNING:tensorflow:From D:\\Users\\glede\\anaconda3\\envs\\py37\\lib\\site-packages\\tensorpack\\tfutils\\common.py:75: The name tf.VariableScope is deprecated. Please use tf.compat.v1.VariableScope instead.\n",
      "\n",
      "WARNING:tensorflow:From D:\\Users\\glede\\anaconda3\\envs\\py37\\lib\\site-packages\\tensorpack\\tfutils\\common.py:77: The name tf.train.get_or_create_global_step is deprecated. Please use tf.compat.v1.train.get_or_create_global_step instead.\n",
      "\n",
      "WARNING:tensorflow:From D:\\Users\\glede\\anaconda3\\envs\\py37\\lib\\site-packages\\tensorpack\\callbacks\\steps.py:117: The name tf.assign_add is deprecated. Please use tf.compat.v1.assign_add instead.\n",
      "\n",
      "WARNING:tensorflow:From D:\\Users\\glede\\anaconda3\\envs\\py37\\lib\\site-packages\\tensorpack\\callbacks\\saver.py:55: The name tf.train.Saver is deprecated. Please use tf.compat.v1.train.Saver instead.\n",
      "\n",
      "WARNING:tensorflow:From D:\\Users\\glede\\anaconda3\\envs\\py37\\lib\\site-packages\\tensorpack\\callbacks\\saver.py:59: The name tf.train.SaverDef is deprecated. Please use tf.compat.v1.train.SaverDef instead.\n",
      "\n",
      "\u001b[32m[0924 10:10:44 @summary.py:46]\u001b[0m [MovingAverageSummary] 6 operations in collection 'MOVING_SUMMARY_OPS' will be run with session hooks.\n",
      "\u001b[32m[0924 10:10:44 @summary.py:93]\u001b[0m Summarizing collection 'summaries' of size 10.\n",
      "WARNING:tensorflow:From D:\\Users\\glede\\anaconda3\\envs\\py37\\lib\\site-packages\\tensorpack\\callbacks\\summary.py:94: The name tf.summary.merge_all is deprecated. Please use tf.compat.v1.summary.merge_all instead.\n",
      "\n",
      "\u001b[32m[0924 10:10:44 @graph.py:98]\u001b[0m Applying collection UPDATE_OPS of 4 ops.\n",
      "WARNING:tensorflow:From D:\\Users\\glede\\anaconda3\\envs\\py37\\lib\\site-packages\\tensorpack\\callbacks\\monitor.py:261: The name tf.summary.FileWriter is deprecated. Please use tf.compat.v1.summary.FileWriter instead.\n",
      "\n",
      "WARNING:tensorflow:From D:\\Users\\glede\\anaconda3\\envs\\py37\\lib\\site-packages\\tensorpack\\tfutils\\sessinit.py:120: The name tf.train.NewCheckpointReader is deprecated. Please use tf.compat.v1.train.NewCheckpointReader instead.\n",
      "\n",
      "WARNING:tensorflow:From D:\\Users\\glede\\anaconda3\\envs\\py37\\lib\\site-packages\\tensorpack\\tfutils\\sessinit.py:127: The name tf.global_variables is deprecated. Please use tf.compat.v1.global_variables instead.\n",
      "\n",
      "\u001b[32m[0924 10:10:45 @base.py:230]\u001b[0m Creating the session ...\n",
      "WARNING:tensorflow:From D:\\Users\\glede\\anaconda3\\envs\\py37\\lib\\site-packages\\tensorpack\\tfutils\\sesscreate.py:42: The name tf.Session is deprecated. Please use tf.compat.v1.Session instead.\n",
      "\n",
      "WARNING:tensorflow:From D:\\Users\\glede\\anaconda3\\envs\\py37\\lib\\site-packages\\tensorpack\\tfutils\\sesscreate.py:71: The name tf.global_variables_initializer is deprecated. Please use tf.compat.v1.global_variables_initializer instead.\n",
      "\n",
      "WARNING:tensorflow:From D:\\Users\\glede\\anaconda3\\envs\\py37\\lib\\site-packages\\tensorpack\\tfutils\\sesscreate.py:62: get_backward_walk_ops (from tensorflow.contrib.graph_editor.select) is deprecated and will be removed after 2019-06-06.\n",
      "Instructions for updating:\n",
      "Please use tensorflow.python.ops.op_selector.get_backward_walk_ops.\n",
      "WARNING:tensorflow:From D:\\Users\\glede\\anaconda3\\envs\\py37\\lib\\site-packages\\tensorpack\\tfutils\\sesscreate.py:72: The name tf.local_variables_initializer is deprecated. Please use tf.compat.v1.local_variables_initializer instead.\n",
      "\n",
      "WARNING:tensorflow:From D:\\Users\\glede\\anaconda3\\envs\\py37\\lib\\site-packages\\tensorpack\\tfutils\\sesscreate.py:73: The name tf.tables_initializer is deprecated. Please use tf.compat.v1.tables_initializer instead.\n",
      "\n",
      "WARNING:tensorflow:From D:\\Users\\glede\\anaconda3\\envs\\py37\\lib\\site-packages\\tensorpack\\train\\base.py:254: The name tf.train.MonitoredSession is deprecated. Please use tf.compat.v1.train.MonitoredSession instead.\n",
      "\n",
      "\u001b[32m[0924 10:10:47 @base.py:236]\u001b[0m Initializing the session ...\n",
      "\u001b[32m[0924 10:10:47 @sessinit.py:114]\u001b[0m Restoring checkpoint from ../output/Chicago/DATGAN_TEST/model\\model-20000 ...\n",
      "INFO:tensorflow:Restoring parameters from ../output/Chicago/DATGAN_TEST/model\\model-20000\n",
      "\u001b[32m[0924 10:10:47 @base.py:243]\u001b[0m Graph Finalized.\n",
      "WARNING:tensorflow:From D:\\Users\\glede\\anaconda3\\envs\\py37\\lib\\site-packages\\tensorpack\\tfutils\\common.py:89: The name tf.train.global_step is deprecated. Please use tf.compat.v1.train.global_step instead.\n",
      "\n",
      "WARNING:tensorflow:From D:\\Users\\glede\\anaconda3\\envs\\py37\\lib\\site-packages\\tensorpack\\tfutils\\common.py:90: The name tf.get_default_session is deprecated. Please use tf.compat.v1.get_default_session instead.\n",
      "\n",
      "\u001b[32m[0924 10:10:47 @concurrency.py:38]\u001b[0m Starting EnqueueThread QueueInput_1/input_queue ...\n",
      "\u001b[32m[0924 10:10:47 @steps.py:124]\u001b[0m Start training with global_step=20000\n",
      "\u001b[32m[0924 10:10:48 @monitor.py:347]\u001b[0m Found existing JSON inside ../output/Chicago/DATGAN_TEST/logs, will append to it.\n",
      "\u001b[32m[0924 10:10:48 @base.py:275]\u001b[0m Start Epoch 11 ...\n"
     ]
    },
    {
     "name": "stderr",
     "output_type": "stream",
     "text": [
      "100%|################################################################################7|1995/2000[00:39<00:00,54.61it/s]"
     ]
    },
    {
     "name": "stdout",
     "output_type": "stream",
     "text": [
      "WARNING:tensorflow:From D:\\Users\\glede\\anaconda3\\envs\\py37\\lib\\site-packages\\tensorpack\\callbacks\\monitor.py:148: The name tf.Summary is deprecated. Please use tf.compat.v1.Summary instead.\n",
      "\n"
     ]
    },
    {
     "name": "stderr",
     "output_type": "stream",
     "text": [
      "\r",
      "100%|#################################################################################|2000/2000[00:41<00:00,48.21it/s]"
     ]
    },
    {
     "name": "stdout",
     "output_type": "stream",
     "text": [
      "\u001b[32m[0924 10:11:29 @base.py:285]\u001b[0m Epoch 11 (global_step 22000) finished, time:41.5 seconds.\n",
      "WARNING:tensorflow:From D:\\Users\\glede\\anaconda3\\envs\\py37\\lib\\site-packages\\tensorpack\\callbacks\\saver.py:77: The name tf.train.get_global_step is deprecated. Please use tf.compat.v1.train.get_global_step instead.\n",
      "\n"
     ]
    },
    {
     "name": "stderr",
     "output_type": "stream",
     "text": [
      "\n"
     ]
    },
    {
     "name": "stdout",
     "output_type": "stream",
     "text": [
      "\u001b[32m[0924 10:11:30 @saver.py:79]\u001b[0m Model saved to ../output/Chicago/DATGAN_TEST/model\\model-22000.\n",
      "\u001b[32m[0924 10:11:30 @monitor.py:467]\u001b[0m GAN_loss/discrim/accuracy_fake: 0.87\n",
      "\u001b[32m[0924 10:11:30 @monitor.py:467]\u001b[0m GAN_loss/discrim/accuracy_real: 0.185\n",
      "\u001b[32m[0924 10:11:30 @monitor.py:467]\u001b[0m GAN_loss/discrim/loss: 0.63577\n",
      "\u001b[32m[0924 10:11:30 @monitor.py:467]\u001b[0m GAN_loss/gen/final-g-loss: 1.2317\n",
      "\u001b[32m[0924 10:11:30 @monitor.py:467]\u001b[0m GAN_loss/gen/klloss: 0.21675\n",
      "\u001b[32m[0924 10:11:30 @monitor.py:467]\u001b[0m GAN_loss/gen/loss: 1.0149\n",
      "\u001b[32m[0924 10:11:30 @monitor.py:467]\u001b[0m QueueInput/queue_size: 25\n",
      "\u001b[32m[0924 10:11:30 @monitor.py:467]\u001b[0m QueueInput_1/queue_size: 50\n",
      "\u001b[32m[0924 10:11:30 @base.py:275]\u001b[0m Start Epoch 12 ...\n"
     ]
    },
    {
     "name": "stderr",
     "output_type": "stream",
     "text": [
      "100%|#################################################################################|2000/2000[00:36<00:00,54.35it/s]"
     ]
    },
    {
     "name": "stdout",
     "output_type": "stream",
     "text": [
      "\u001b[32m[0924 10:12:07 @base.py:285]\u001b[0m Epoch 12 (global_step 24000) finished, time:36.8 seconds.\n",
      "\u001b[32m[0924 10:12:07 @saver.py:79]\u001b[0m Model saved to ../output/Chicago/DATGAN_TEST/model\\model-24000.\n",
      "\u001b[32m[0924 10:12:07 @monitor.py:467]\u001b[0m GAN_loss/discrim/accuracy_fake: 0.91\n",
      "\u001b[32m[0924 10:12:07 @monitor.py:467]\u001b[0m GAN_loss/discrim/accuracy_real: 0.255\n",
      "\u001b[32m[0924 10:12:07 @monitor.py:467]\u001b[0m GAN_loss/discrim/loss: 0.62193\n",
      "\u001b[32m[0924 10:12:07 @monitor.py:467]\u001b[0m GAN_loss/gen/final-g-loss: 1.2658\n",
      "\u001b[32m[0924 10:12:07 @monitor.py:467]\u001b[0m GAN_loss/gen/klloss: 0.25507\n",
      "\u001b[32m[0924 10:12:07 @monitor.py:467]\u001b[0m GAN_loss/gen/loss: 1.0108\n",
      "\u001b[32m[0924 10:12:07 @monitor.py:467]\u001b[0m QueueInput/queue_size: 12.5\n",
      "\u001b[32m[0924 10:12:07 @monitor.py:467]\u001b[0m QueueInput_1/queue_size: 50\n",
      "\u001b[32m[0924 10:12:07 @base.py:275]\u001b[0m Start Epoch 13 ...\n"
     ]
    },
    {
     "name": "stderr",
     "output_type": "stream",
     "text": [
      "\n",
      "100%|#################################################################################|2000/2000[00:36<00:00,54.19it/s]"
     ]
    },
    {
     "name": "stdout",
     "output_type": "stream",
     "text": [
      "\u001b[32m[0924 10:12:44 @base.py:285]\u001b[0m Epoch 13 (global_step 26000) finished, time:36.9 seconds.\n",
      "\u001b[32m[0924 10:12:44 @saver.py:79]\u001b[0m Model saved to ../output/Chicago/DATGAN_TEST/model\\model-26000.\n",
      "\u001b[32m[0924 10:12:44 @monitor.py:467]\u001b[0m GAN_loss/discrim/accuracy_fake: 0.865\n",
      "\u001b[32m[0924 10:12:44 @monitor.py:467]\u001b[0m GAN_loss/discrim/accuracy_real: 0.215\n",
      "\u001b[32m[0924 10:12:44 @monitor.py:467]\u001b[0m GAN_loss/discrim/loss: 0.63993\n",
      "\u001b[32m[0924 10:12:44 @monitor.py:467]\u001b[0m GAN_loss/gen/final-g-loss: 1.2042\n",
      "\u001b[32m[0924 10:12:44 @monitor.py:467]\u001b[0m GAN_loss/gen/klloss: 0.20902\n",
      "\u001b[32m[0924 10:12:44 @monitor.py:467]\u001b[0m GAN_loss/gen/loss: 0.99522\n",
      "\u001b[32m[0924 10:12:44 @monitor.py:467]\u001b[0m QueueInput/queue_size: 6.25\n",
      "\u001b[32m[0924 10:12:44 @monitor.py:467]\u001b[0m QueueInput_1/queue_size: 50\n",
      "\u001b[32m[0924 10:12:44 @base.py:275]\u001b[0m Start Epoch 14 ...\n"
     ]
    },
    {
     "name": "stderr",
     "output_type": "stream",
     "text": [
      "\n",
      "100%|#################################################################################|2000/2000[00:36<00:00,54.18it/s]"
     ]
    },
    {
     "name": "stdout",
     "output_type": "stream",
     "text": [
      "\u001b[32m[0924 10:13:21 @base.py:285]\u001b[0m Epoch 14 (global_step 28000) finished, time:36.9 seconds.\n",
      "\u001b[32m[0924 10:13:21 @saver.py:79]\u001b[0m Model saved to ../output/Chicago/DATGAN_TEST/model\\model-28000.\n",
      "\u001b[32m[0924 10:13:21 @monitor.py:467]\u001b[0m GAN_loss/discrim/accuracy_fake: 0.895\n",
      "\u001b[32m[0924 10:13:21 @monitor.py:467]\u001b[0m GAN_loss/discrim/accuracy_real: 0.165\n",
      "\u001b[32m[0924 10:13:21 @monitor.py:467]\u001b[0m GAN_loss/discrim/loss: 0.64192\n",
      "\u001b[32m[0924 10:13:21 @monitor.py:467]\u001b[0m GAN_loss/gen/final-g-loss: 1.2903\n",
      "\u001b[32m[0924 10:13:21 @monitor.py:467]\u001b[0m GAN_loss/gen/klloss: 0.2851\n",
      "\u001b[32m[0924 10:13:21 @monitor.py:467]\u001b[0m GAN_loss/gen/loss: 1.0052\n",
      "\u001b[32m[0924 10:13:21 @monitor.py:467]\u001b[0m QueueInput/queue_size: 3.125\n",
      "\u001b[32m[0924 10:13:21 @monitor.py:467]\u001b[0m QueueInput_1/queue_size: 50\n",
      "\u001b[32m[0924 10:13:21 @base.py:275]\u001b[0m Start Epoch 15 ...\n"
     ]
    },
    {
     "name": "stderr",
     "output_type": "stream",
     "text": [
      "\n",
      "100%|#################################################################################|2000/2000[00:36<00:00,54.41it/s]"
     ]
    },
    {
     "name": "stdout",
     "output_type": "stream",
     "text": [
      "\u001b[32m[0924 10:13:57 @base.py:285]\u001b[0m Epoch 15 (global_step 30000) finished, time:36.8 seconds.\n",
      "\u001b[32m[0924 10:13:57 @saver.py:79]\u001b[0m Model saved to ../output/Chicago/DATGAN_TEST/model\\model-30000.\n",
      "\u001b[32m[0924 10:13:57 @monitor.py:467]\u001b[0m GAN_loss/discrim/accuracy_fake: 0.925\n",
      "\u001b[32m[0924 10:13:57 @monitor.py:467]\u001b[0m GAN_loss/discrim/accuracy_real: 0.165\n",
      "\u001b[32m[0924 10:13:57 @monitor.py:467]\u001b[0m GAN_loss/discrim/loss: 0.63231\n",
      "\u001b[32m[0924 10:13:57 @monitor.py:467]\u001b[0m GAN_loss/gen/final-g-loss: 1.2157\n",
      "\u001b[32m[0924 10:13:57 @monitor.py:467]\u001b[0m GAN_loss/gen/klloss: 0.21276\n",
      "\u001b[32m[0924 10:13:57 @monitor.py:467]\u001b[0m GAN_loss/gen/loss: 1.0029\n",
      "\u001b[32m[0924 10:13:57 @monitor.py:467]\u001b[0m QueueInput/queue_size: 1.5625\n",
      "\u001b[32m[0924 10:13:57 @monitor.py:467]\u001b[0m QueueInput_1/queue_size: 50\n",
      "\u001b[32m[0924 10:13:57 @base.py:275]\u001b[0m Start Epoch 16 ...\n"
     ]
    },
    {
     "name": "stderr",
     "output_type": "stream",
     "text": [
      "\n",
      "100%|#################################################################################|2000/2000[00:36<00:00,54.37it/s]"
     ]
    },
    {
     "name": "stdout",
     "output_type": "stream",
     "text": [
      "\u001b[32m[0924 10:14:34 @base.py:285]\u001b[0m Epoch 16 (global_step 32000) finished, time:36.8 seconds.\n",
      "\u001b[32m[0924 10:14:34 @saver.py:79]\u001b[0m Model saved to ../output/Chicago/DATGAN_TEST/model\\model-32000.\n",
      "\u001b[32m[0924 10:14:34 @monitor.py:467]\u001b[0m GAN_loss/discrim/accuracy_fake: 0.925\n",
      "\u001b[32m[0924 10:14:34 @monitor.py:467]\u001b[0m GAN_loss/discrim/accuracy_real: 0.2\n",
      "\u001b[32m[0924 10:14:34 @monitor.py:467]\u001b[0m GAN_loss/discrim/loss: 0.63575\n",
      "\u001b[32m[0924 10:14:34 @monitor.py:467]\u001b[0m GAN_loss/gen/final-g-loss: 1.1804\n",
      "\u001b[32m[0924 10:14:34 @monitor.py:467]\u001b[0m GAN_loss/gen/klloss: 0.16784\n",
      "\u001b[32m[0924 10:14:34 @monitor.py:467]\u001b[0m GAN_loss/gen/loss: 1.0126\n",
      "\u001b[32m[0924 10:14:34 @monitor.py:467]\u001b[0m QueueInput/queue_size: 0.78125\n",
      "\u001b[32m[0924 10:14:34 @monitor.py:467]\u001b[0m QueueInput_1/queue_size: 50\n",
      "\u001b[32m[0924 10:14:34 @base.py:275]\u001b[0m Start Epoch 17 ...\n"
     ]
    },
    {
     "name": "stderr",
     "output_type": "stream",
     "text": [
      "\n",
      "100%|#################################################################################|2000/2000[00:36<00:00,54.36it/s]"
     ]
    },
    {
     "name": "stdout",
     "output_type": "stream",
     "text": [
      "\u001b[32m[0924 10:15:11 @base.py:285]\u001b[0m Epoch 17 (global_step 34000) finished, time:36.8 seconds.\n",
      "\u001b[32m[0924 10:15:11 @saver.py:79]\u001b[0m Model saved to ../output/Chicago/DATGAN_TEST/model\\model-34000.\n",
      "\u001b[32m[0924 10:15:11 @monitor.py:467]\u001b[0m GAN_loss/discrim/accuracy_fake: 0.85\n",
      "\u001b[32m[0924 10:15:11 @monitor.py:467]\u001b[0m GAN_loss/discrim/accuracy_real: 0.19\n",
      "\u001b[32m[0924 10:15:11 @monitor.py:467]\u001b[0m GAN_loss/discrim/loss: 0.64976\n",
      "\u001b[32m[0924 10:15:11 @monitor.py:467]\u001b[0m GAN_loss/gen/final-g-loss: 1.2895\n",
      "\u001b[32m[0924 10:15:11 @monitor.py:467]\u001b[0m GAN_loss/gen/klloss: 0.30899\n",
      "\u001b[32m[0924 10:15:11 @monitor.py:467]\u001b[0m GAN_loss/gen/loss: 0.98056\n",
      "\u001b[32m[0924 10:15:11 @monitor.py:467]\u001b[0m QueueInput/queue_size: 0.39062\n",
      "\u001b[32m[0924 10:15:11 @monitor.py:467]\u001b[0m QueueInput_1/queue_size: 50\n",
      "\u001b[32m[0924 10:15:11 @base.py:275]\u001b[0m Start Epoch 18 ...\n"
     ]
    },
    {
     "name": "stderr",
     "output_type": "stream",
     "text": [
      "\n",
      "100%|#################################################################################|2000/2000[00:36<00:00,54.34it/s]"
     ]
    },
    {
     "name": "stdout",
     "output_type": "stream",
     "text": [
      "\u001b[32m[0924 10:15:48 @base.py:285]\u001b[0m Epoch 18 (global_step 36000) finished, time:36.8 seconds.\n",
      "\u001b[32m[0924 10:15:48 @saver.py:79]\u001b[0m Model saved to ../output/Chicago/DATGAN_TEST/model\\model-36000.\n",
      "\u001b[32m[0924 10:15:48 @monitor.py:467]\u001b[0m GAN_loss/discrim/accuracy_fake: 0.89\n",
      "\u001b[32m[0924 10:15:48 @monitor.py:467]\u001b[0m GAN_loss/discrim/accuracy_real: 0.155\n",
      "\u001b[32m[0924 10:15:48 @monitor.py:467]\u001b[0m GAN_loss/discrim/loss: 0.63934\n",
      "\u001b[32m[0924 10:15:48 @monitor.py:467]\u001b[0m GAN_loss/gen/final-g-loss: 1.184\n",
      "\u001b[32m[0924 10:15:48 @monitor.py:467]\u001b[0m GAN_loss/gen/klloss: 0.18184\n",
      "\u001b[32m[0924 10:15:48 @monitor.py:467]\u001b[0m GAN_loss/gen/loss: 1.0022\n",
      "\u001b[32m[0924 10:15:48 @monitor.py:467]\u001b[0m QueueInput/queue_size: 0.19531\n",
      "\u001b[32m[0924 10:15:48 @monitor.py:467]\u001b[0m QueueInput_1/queue_size: 50\n",
      "\u001b[32m[0924 10:15:48 @base.py:275]\u001b[0m Start Epoch 19 ...\n"
     ]
    },
    {
     "name": "stderr",
     "output_type": "stream",
     "text": [
      "\n",
      "100%|#################################################################################|2000/2000[00:36<00:00,54.43it/s]"
     ]
    },
    {
     "name": "stdout",
     "output_type": "stream",
     "text": [
      "\u001b[32m[0924 10:16:25 @base.py:285]\u001b[0m Epoch 19 (global_step 38000) finished, time:36.7 seconds.\n",
      "\u001b[32m[0924 10:16:25 @saver.py:79]\u001b[0m Model saved to ../output/Chicago/DATGAN_TEST/model\\model-38000.\n",
      "\u001b[32m[0924 10:16:25 @monitor.py:467]\u001b[0m GAN_loss/discrim/accuracy_fake: 0.895\n",
      "\u001b[32m[0924 10:16:25 @monitor.py:467]\u001b[0m GAN_loss/discrim/accuracy_real: 0.23\n",
      "\u001b[32m[0924 10:16:25 @monitor.py:467]\u001b[0m GAN_loss/discrim/loss: 0.63637\n",
      "\u001b[32m[0924 10:16:25 @monitor.py:467]\u001b[0m GAN_loss/gen/final-g-loss: 1.2206\n",
      "\u001b[32m[0924 10:16:25 @monitor.py:467]\u001b[0m GAN_loss/gen/klloss: 0.22646\n",
      "\u001b[32m[0924 10:16:25 @monitor.py:467]\u001b[0m GAN_loss/gen/loss: 0.99417\n",
      "\u001b[32m[0924 10:16:25 @monitor.py:467]\u001b[0m QueueInput/queue_size: 0.097656\n",
      "\u001b[32m[0924 10:16:25 @monitor.py:467]\u001b[0m QueueInput_1/queue_size: 50\n",
      "\u001b[32m[0924 10:16:25 @base.py:275]\u001b[0m Start Epoch 20 ...\n"
     ]
    },
    {
     "name": "stderr",
     "output_type": "stream",
     "text": [
      "\n",
      "100%|#################################################################################|2000/2000[00:36<00:00,54.37it/s]"
     ]
    },
    {
     "name": "stdout",
     "output_type": "stream",
     "text": [
      "\u001b[32m[0924 10:17:02 @base.py:285]\u001b[0m Epoch 20 (global_step 40000) finished, time:36.8 seconds.\n",
      "\u001b[32m[0924 10:17:02 @saver.py:79]\u001b[0m Model saved to ../output/Chicago/DATGAN_TEST/model\\model-40000.\n",
      "\u001b[32m[0924 10:17:02 @monitor.py:467]\u001b[0m GAN_loss/discrim/accuracy_fake: 0.91\n",
      "\u001b[32m[0924 10:17:02 @monitor.py:467]\u001b[0m GAN_loss/discrim/accuracy_real: 0.135\n",
      "\u001b[32m[0924 10:17:02 @monitor.py:467]\u001b[0m GAN_loss/discrim/loss: 0.64737\n",
      "\u001b[32m[0924 10:17:02 @monitor.py:467]\u001b[0m GAN_loss/gen/final-g-loss: 1.3354\n",
      "\u001b[32m[0924 10:17:02 @monitor.py:467]\u001b[0m GAN_loss/gen/klloss: 0.32572\n",
      "\u001b[32m[0924 10:17:02 @monitor.py:467]\u001b[0m GAN_loss/gen/loss: 1.0096\n",
      "\u001b[32m[0924 10:17:02 @monitor.py:467]\u001b[0m QueueInput/queue_size: 0.048828\n",
      "\u001b[32m[0924 10:17:02 @monitor.py:467]\u001b[0m QueueInput_1/queue_size: 50\n",
      "\u001b[32m[0924 10:17:02 @base.py:275]\u001b[0m Start Epoch 21 ...\n"
     ]
    },
    {
     "name": "stderr",
     "output_type": "stream",
     "text": [
      "\n",
      "100%|#################################################################################|2000/2000[00:36<00:00,54.15it/s]"
     ]
    },
    {
     "name": "stdout",
     "output_type": "stream",
     "text": [
      "\u001b[32m[0924 10:17:39 @base.py:285]\u001b[0m Epoch 21 (global_step 42000) finished, time:36.9 seconds.\n",
      "WARNING:tensorflow:From D:\\Users\\glede\\anaconda3\\envs\\py37\\lib\\site-packages\\tensorflow_core\\python\\training\\saver.py:963: remove_checkpoint (from tensorflow.python.training.checkpoint_management) is deprecated and will be removed in a future version.\n",
      "Instructions for updating:\n",
      "Use standard file APIs to delete files with this prefix.\n",
      "\u001b[32m[0924 10:17:39 @saver.py:79]\u001b[0m Model saved to ../output/Chicago/DATGAN_TEST/model\\model-42000.\n",
      "\u001b[32m[0924 10:17:39 @monitor.py:467]\u001b[0m GAN_loss/discrim/accuracy_fake: 0.935\n",
      "\u001b[32m[0924 10:17:39 @monitor.py:467]\u001b[0m GAN_loss/discrim/accuracy_real: 0.14\n",
      "\u001b[32m[0924 10:17:39 @monitor.py:467]\u001b[0m GAN_loss/discrim/loss: 0.63052\n",
      "\u001b[32m[0924 10:17:39 @monitor.py:467]\u001b[0m GAN_loss/gen/final-g-loss: 1.2042\n",
      "\u001b[32m[0924 10:17:39 @monitor.py:467]\u001b[0m GAN_loss/gen/klloss: 0.15589\n",
      "\u001b[32m[0924 10:17:39 @monitor.py:467]\u001b[0m GAN_loss/gen/loss: 1.0483\n",
      "\u001b[32m[0924 10:17:39 @monitor.py:467]\u001b[0m QueueInput/queue_size: 0.024414\n",
      "\u001b[32m[0924 10:17:39 @monitor.py:467]\u001b[0m QueueInput_1/queue_size: 50\n",
      "\u001b[32m[0924 10:17:39 @base.py:275]\u001b[0m Start Epoch 22 ...\n"
     ]
    },
    {
     "name": "stderr",
     "output_type": "stream",
     "text": [
      "\n",
      "100%|#################################################################################|2000/2000[00:36<00:00,54.38it/s]"
     ]
    },
    {
     "name": "stdout",
     "output_type": "stream",
     "text": [
      "\u001b[32m[0924 10:18:16 @base.py:285]\u001b[0m Epoch 22 (global_step 44000) finished, time:36.8 seconds.\n",
      "\u001b[32m[0924 10:18:16 @saver.py:79]\u001b[0m Model saved to ../output/Chicago/DATGAN_TEST/model\\model-44000.\n",
      "\u001b[32m[0924 10:18:16 @monitor.py:467]\u001b[0m GAN_loss/discrim/accuracy_fake: 0.895\n",
      "\u001b[32m[0924 10:18:16 @monitor.py:467]\u001b[0m GAN_loss/discrim/accuracy_real: 0.16\n",
      "\u001b[32m[0924 10:18:16 @monitor.py:467]\u001b[0m GAN_loss/discrim/loss: 0.65465\n",
      "\u001b[32m[0924 10:18:16 @monitor.py:467]\u001b[0m GAN_loss/gen/final-g-loss: 1.2518\n",
      "\u001b[32m[0924 10:18:16 @monitor.py:467]\u001b[0m GAN_loss/gen/klloss: 0.25214\n",
      "\u001b[32m[0924 10:18:16 @monitor.py:467]\u001b[0m GAN_loss/gen/loss: 0.99963\n",
      "\u001b[32m[0924 10:18:16 @monitor.py:467]\u001b[0m QueueInput/queue_size: 0.012207\n",
      "\u001b[32m[0924 10:18:16 @monitor.py:467]\u001b[0m QueueInput_1/queue_size: 50\n",
      "\u001b[32m[0924 10:18:16 @base.py:275]\u001b[0m Start Epoch 23 ...\n"
     ]
    },
    {
     "name": "stderr",
     "output_type": "stream",
     "text": [
      "\n",
      "100%|#################################################################################|2000/2000[00:36<00:00,54.14it/s]"
     ]
    },
    {
     "name": "stdout",
     "output_type": "stream",
     "text": [
      "\u001b[32m[0924 10:18:53 @base.py:285]\u001b[0m Epoch 23 (global_step 46000) finished, time:36.9 seconds.\n",
      "\u001b[32m[0924 10:18:53 @saver.py:79]\u001b[0m Model saved to ../output/Chicago/DATGAN_TEST/model\\model-46000.\n",
      "\u001b[32m[0924 10:18:53 @monitor.py:467]\u001b[0m GAN_loss/discrim/accuracy_fake: 0.89\n",
      "\u001b[32m[0924 10:18:53 @monitor.py:467]\u001b[0m GAN_loss/discrim/accuracy_real: 0.13\n",
      "\u001b[32m[0924 10:18:53 @monitor.py:467]\u001b[0m GAN_loss/discrim/loss: 0.6486\n",
      "\u001b[32m[0924 10:18:53 @monitor.py:467]\u001b[0m GAN_loss/gen/final-g-loss: 1.2249\n",
      "\u001b[32m[0924 10:18:53 @monitor.py:467]\u001b[0m GAN_loss/gen/klloss: 0.22398\n",
      "\u001b[32m[0924 10:18:53 @monitor.py:467]\u001b[0m GAN_loss/gen/loss: 1.0009\n",
      "\u001b[32m[0924 10:18:53 @monitor.py:467]\u001b[0m QueueInput/queue_size: 0.0061035\n",
      "\u001b[32m[0924 10:18:53 @monitor.py:467]\u001b[0m QueueInput_1/queue_size: 50\n",
      "\u001b[32m[0924 10:18:53 @base.py:275]\u001b[0m Start Epoch 24 ...\n"
     ]
    },
    {
     "name": "stderr",
     "output_type": "stream",
     "text": [
      "\n",
      "100%|#################################################################################|2000/2000[00:36<00:00,54.23it/s]"
     ]
    },
    {
     "name": "stdout",
     "output_type": "stream",
     "text": [
      "\u001b[32m[0924 10:19:30 @base.py:285]\u001b[0m Epoch 24 (global_step 48000) finished, time:36.9 seconds.\n",
      "\u001b[32m[0924 10:19:30 @saver.py:79]\u001b[0m Model saved to ../output/Chicago/DATGAN_TEST/model\\model-48000.\n",
      "\u001b[32m[0924 10:19:30 @monitor.py:467]\u001b[0m GAN_loss/discrim/accuracy_fake: 0.925\n",
      "\u001b[32m[0924 10:19:30 @monitor.py:467]\u001b[0m GAN_loss/discrim/accuracy_real: 0.15\n",
      "\u001b[32m[0924 10:19:30 @monitor.py:467]\u001b[0m GAN_loss/discrim/loss: 0.6482\n",
      "\u001b[32m[0924 10:19:30 @monitor.py:467]\u001b[0m GAN_loss/gen/final-g-loss: 1.2407\n",
      "\u001b[32m[0924 10:19:30 @monitor.py:467]\u001b[0m GAN_loss/gen/klloss: 0.21872\n",
      "\u001b[32m[0924 10:19:30 @monitor.py:467]\u001b[0m GAN_loss/gen/loss: 1.022\n",
      "\u001b[32m[0924 10:19:30 @monitor.py:467]\u001b[0m QueueInput/queue_size: 0.0030518\n",
      "\u001b[32m[0924 10:19:30 @monitor.py:467]\u001b[0m QueueInput_1/queue_size: 50\n",
      "\u001b[32m[0924 10:19:30 @base.py:275]\u001b[0m Start Epoch 25 ...\n"
     ]
    },
    {
     "name": "stderr",
     "output_type": "stream",
     "text": [
      "\n",
      "100%|#################################################################################|2000/2000[00:36<00:00,54.17it/s]"
     ]
    },
    {
     "name": "stdout",
     "output_type": "stream",
     "text": [
      "\u001b[32m[0924 10:20:07 @base.py:285]\u001b[0m Epoch 25 (global_step 50000) finished, time:36.9 seconds.\n",
      "\u001b[32m[0924 10:20:07 @saver.py:79]\u001b[0m Model saved to ../output/Chicago/DATGAN_TEST/model\\model-50000.\n",
      "\u001b[32m[0924 10:20:07 @monitor.py:467]\u001b[0m GAN_loss/discrim/accuracy_fake: 0.935\n",
      "\u001b[32m[0924 10:20:07 @monitor.py:467]\u001b[0m GAN_loss/discrim/accuracy_real: 0.21\n",
      "\u001b[32m[0924 10:20:07 @monitor.py:467]\u001b[0m GAN_loss/discrim/loss: 0.6425\n",
      "\u001b[32m[0924 10:20:07 @monitor.py:467]\u001b[0m GAN_loss/gen/final-g-loss: 1.2998\n",
      "\u001b[32m[0924 10:20:07 @monitor.py:467]\u001b[0m GAN_loss/gen/klloss: 0.27172\n",
      "\u001b[32m[0924 10:20:07 @monitor.py:467]\u001b[0m GAN_loss/gen/loss: 1.0281\n",
      "\u001b[32m[0924 10:20:07 @monitor.py:467]\u001b[0m QueueInput/queue_size: 0.0015259\n",
      "\u001b[32m[0924 10:20:07 @monitor.py:467]\u001b[0m QueueInput_1/queue_size: 50\n",
      "\u001b[32m[0924 10:20:07 @base.py:275]\u001b[0m Start Epoch 26 ...\n"
     ]
    },
    {
     "name": "stderr",
     "output_type": "stream",
     "text": [
      "\n",
      "100%|#################################################################################|2000/2000[00:36<00:00,54.18it/s]"
     ]
    },
    {
     "name": "stdout",
     "output_type": "stream",
     "text": [
      "\u001b[32m[0924 10:20:44 @base.py:285]\u001b[0m Epoch 26 (global_step 52000) finished, time:36.9 seconds.\n",
      "\u001b[32m[0924 10:20:44 @saver.py:79]\u001b[0m Model saved to ../output/Chicago/DATGAN_TEST/model\\model-52000.\n",
      "\u001b[32m[0924 10:20:44 @monitor.py:467]\u001b[0m GAN_loss/discrim/accuracy_fake: 0.935\n",
      "\u001b[32m[0924 10:20:44 @monitor.py:467]\u001b[0m GAN_loss/discrim/accuracy_real: 0.165\n",
      "\u001b[32m[0924 10:20:44 @monitor.py:467]\u001b[0m GAN_loss/discrim/loss: 0.64373\n",
      "\u001b[32m[0924 10:20:44 @monitor.py:467]\u001b[0m GAN_loss/gen/final-g-loss: 1.2251\n",
      "\u001b[32m[0924 10:20:44 @monitor.py:467]\u001b[0m GAN_loss/gen/klloss: 0.21132\n",
      "\u001b[32m[0924 10:20:44 @monitor.py:467]\u001b[0m GAN_loss/gen/loss: 1.0138\n",
      "\u001b[32m[0924 10:20:44 @monitor.py:467]\u001b[0m QueueInput/queue_size: 0.00076294\n",
      "\u001b[32m[0924 10:20:44 @monitor.py:467]\u001b[0m QueueInput_1/queue_size: 50\n",
      "\u001b[32m[0924 10:20:44 @base.py:275]\u001b[0m Start Epoch 27 ...\n"
     ]
    },
    {
     "name": "stderr",
     "output_type": "stream",
     "text": [
      "\n",
      "100%|#################################################################################|2000/2000[00:36<00:00,54.33it/s]"
     ]
    },
    {
     "name": "stdout",
     "output_type": "stream",
     "text": [
      "\u001b[32m[0924 10:21:20 @base.py:285]\u001b[0m Epoch 27 (global_step 54000) finished, time:36.8 seconds.\n",
      "\u001b[32m[0924 10:21:20 @saver.py:79]\u001b[0m Model saved to ../output/Chicago/DATGAN_TEST/model\\model-54000.\n",
      "\u001b[32m[0924 10:21:21 @monitor.py:467]\u001b[0m GAN_loss/discrim/accuracy_fake: 0.915\n",
      "\u001b[32m[0924 10:21:21 @monitor.py:467]\u001b[0m GAN_loss/discrim/accuracy_real: 0.24\n",
      "\u001b[32m[0924 10:21:21 @monitor.py:467]\u001b[0m GAN_loss/discrim/loss: 0.63791\n",
      "\u001b[32m[0924 10:21:21 @monitor.py:467]\u001b[0m GAN_loss/gen/final-g-loss: 1.1722\n",
      "\u001b[32m[0924 10:21:21 @monitor.py:467]\u001b[0m GAN_loss/gen/klloss: 0.15661\n",
      "\u001b[32m[0924 10:21:21 @monitor.py:467]\u001b[0m GAN_loss/gen/loss: 1.0156\n",
      "\u001b[32m[0924 10:21:21 @monitor.py:467]\u001b[0m QueueInput/queue_size: 0.00038147\n",
      "\u001b[32m[0924 10:21:21 @monitor.py:467]\u001b[0m QueueInput_1/queue_size: 50\n",
      "\u001b[32m[0924 10:21:21 @base.py:275]\u001b[0m Start Epoch 28 ...\n"
     ]
    },
    {
     "name": "stderr",
     "output_type": "stream",
     "text": [
      "\n",
      "100%|#################################################################################|2000/2000[00:37<00:00,52.76it/s]"
     ]
    },
    {
     "name": "stdout",
     "output_type": "stream",
     "text": [
      "\u001b[32m[0924 10:21:58 @base.py:285]\u001b[0m Epoch 28 (global_step 56000) finished, time:37.9 seconds.\n",
      "\u001b[32m[0924 10:21:58 @saver.py:79]\u001b[0m Model saved to ../output/Chicago/DATGAN_TEST/model\\model-56000.\n",
      "\u001b[32m[0924 10:21:58 @monitor.py:467]\u001b[0m GAN_loss/discrim/accuracy_fake: 0.91\n",
      "\u001b[32m[0924 10:21:58 @monitor.py:467]\u001b[0m GAN_loss/discrim/accuracy_real: 0.14\n",
      "\u001b[32m[0924 10:21:58 @monitor.py:467]\u001b[0m GAN_loss/discrim/loss: 0.64146\n",
      "\u001b[32m[0924 10:21:58 @monitor.py:467]\u001b[0m GAN_loss/gen/final-g-loss: 1.2664\n",
      "\u001b[32m[0924 10:21:58 @monitor.py:467]\u001b[0m GAN_loss/gen/klloss: 0.24007\n",
      "\u001b[32m[0924 10:21:58 @monitor.py:467]\u001b[0m GAN_loss/gen/loss: 1.0264\n",
      "\u001b[32m[0924 10:21:58 @monitor.py:467]\u001b[0m QueueInput/queue_size: 0.00019073\n",
      "\u001b[32m[0924 10:21:58 @monitor.py:467]\u001b[0m QueueInput_1/queue_size: 50\n",
      "\u001b[32m[0924 10:21:58 @base.py:275]\u001b[0m Start Epoch 29 ...\n"
     ]
    },
    {
     "name": "stderr",
     "output_type": "stream",
     "text": [
      "\n",
      "100%|#################################################################################|2000/2000[00:37<00:00,52.81it/s]"
     ]
    },
    {
     "name": "stdout",
     "output_type": "stream",
     "text": [
      "\u001b[32m[0924 10:22:36 @base.py:285]\u001b[0m Epoch 29 (global_step 58000) finished, time:37.9 seconds.\n",
      "\u001b[32m[0924 10:22:36 @saver.py:79]\u001b[0m Model saved to ../output/Chicago/DATGAN_TEST/model\\model-58000.\n",
      "\u001b[32m[0924 10:22:36 @monitor.py:467]\u001b[0m GAN_loss/discrim/accuracy_fake: 0.885\n",
      "\u001b[32m[0924 10:22:36 @monitor.py:467]\u001b[0m GAN_loss/discrim/accuracy_real: 0.23\n",
      "\u001b[32m[0924 10:22:36 @monitor.py:467]\u001b[0m GAN_loss/discrim/loss: 0.63534\n",
      "\u001b[32m[0924 10:22:36 @monitor.py:467]\u001b[0m GAN_loss/gen/final-g-loss: 1.1838\n",
      "\u001b[32m[0924 10:22:36 @monitor.py:467]\u001b[0m GAN_loss/gen/klloss: 0.15869\n",
      "\u001b[32m[0924 10:22:36 @monitor.py:467]\u001b[0m GAN_loss/gen/loss: 1.0251\n",
      "\u001b[32m[0924 10:22:36 @monitor.py:467]\u001b[0m QueueInput/queue_size: 9.5367e-05\n",
      "\u001b[32m[0924 10:22:36 @monitor.py:467]\u001b[0m QueueInput_1/queue_size: 50\n",
      "\u001b[32m[0924 10:22:36 @base.py:275]\u001b[0m Start Epoch 30 ...\n"
     ]
    },
    {
     "name": "stderr",
     "output_type": "stream",
     "text": [
      "\n",
      "100%|#################################################################################|2000/2000[00:38<00:00,52.55it/s]"
     ]
    },
    {
     "name": "stdout",
     "output_type": "stream",
     "text": [
      "\u001b[32m[0924 10:23:15 @base.py:285]\u001b[0m Epoch 30 (global_step 60000) finished, time:38.1 seconds.\n",
      "\u001b[32m[0924 10:23:15 @saver.py:79]\u001b[0m Model saved to ../output/Chicago/DATGAN_TEST/model\\model-60000.\n",
      "\u001b[32m[0924 10:23:15 @monitor.py:467]\u001b[0m GAN_loss/discrim/accuracy_fake: 0.855\n",
      "\u001b[32m[0924 10:23:15 @monitor.py:467]\u001b[0m GAN_loss/discrim/accuracy_real: 0.16\n",
      "\u001b[32m[0924 10:23:15 @monitor.py:467]\u001b[0m GAN_loss/discrim/loss: 0.64521\n",
      "\u001b[32m[0924 10:23:15 @monitor.py:467]\u001b[0m GAN_loss/gen/final-g-loss: 1.2592\n",
      "\u001b[32m[0924 10:23:15 @monitor.py:467]\u001b[0m GAN_loss/gen/klloss: 0.22138\n",
      "\u001b[32m[0924 10:23:15 @monitor.py:467]\u001b[0m GAN_loss/gen/loss: 1.0378\n",
      "\u001b[32m[0924 10:23:15 @monitor.py:467]\u001b[0m QueueInput/queue_size: 4.7684e-05\n",
      "\u001b[32m[0924 10:23:15 @monitor.py:467]\u001b[0m QueueInput_1/queue_size: 50\n",
      "\u001b[32m[0924 10:23:15 @base.py:275]\u001b[0m Start Epoch 31 ...\n"
     ]
    },
    {
     "name": "stderr",
     "output_type": "stream",
     "text": [
      "\n",
      "100%|#################################################################################|2000/2000[00:37<00:00,52.86it/s]"
     ]
    },
    {
     "name": "stdout",
     "output_type": "stream",
     "text": [
      "\u001b[32m[0924 10:23:52 @base.py:285]\u001b[0m Epoch 31 (global_step 62000) finished, time:37.8 seconds.\n",
      "\u001b[32m[0924 10:23:52 @saver.py:79]\u001b[0m Model saved to ../output/Chicago/DATGAN_TEST/model\\model-62000.\n",
      "\u001b[32m[0924 10:23:52 @monitor.py:467]\u001b[0m GAN_loss/discrim/accuracy_fake: 0.87\n",
      "\u001b[32m[0924 10:23:52 @monitor.py:467]\u001b[0m GAN_loss/discrim/accuracy_real: 0.205\n",
      "\u001b[32m[0924 10:23:52 @monitor.py:467]\u001b[0m GAN_loss/discrim/loss: 0.63219\n",
      "\u001b[32m[0924 10:23:52 @monitor.py:467]\u001b[0m GAN_loss/gen/final-g-loss: 1.2705\n",
      "\u001b[32m[0924 10:23:52 @monitor.py:467]\u001b[0m GAN_loss/gen/klloss: 0.23176\n",
      "\u001b[32m[0924 10:23:52 @monitor.py:467]\u001b[0m GAN_loss/gen/loss: 1.0387\n",
      "\u001b[32m[0924 10:23:52 @monitor.py:467]\u001b[0m QueueInput/queue_size: 2.3842e-05\n",
      "\u001b[32m[0924 10:23:52 @monitor.py:467]\u001b[0m QueueInput_1/queue_size: 50\n",
      "\u001b[32m[0924 10:23:52 @base.py:275]\u001b[0m Start Epoch 32 ...\n"
     ]
    },
    {
     "name": "stderr",
     "output_type": "stream",
     "text": [
      "\n",
      "100%|#################################################################################|2000/2000[00:37<00:00,53.64it/s]"
     ]
    },
    {
     "name": "stdout",
     "output_type": "stream",
     "text": [
      "\u001b[32m[0924 10:24:30 @base.py:285]\u001b[0m Epoch 32 (global_step 64000) finished, time:37.3 seconds.\n",
      "\u001b[32m[0924 10:24:30 @saver.py:79]\u001b[0m Model saved to ../output/Chicago/DATGAN_TEST/model\\model-64000.\n",
      "\u001b[32m[0924 10:24:30 @monitor.py:467]\u001b[0m GAN_loss/discrim/accuracy_fake: 0.935\n",
      "\u001b[32m[0924 10:24:30 @monitor.py:467]\u001b[0m GAN_loss/discrim/accuracy_real: 0.22\n",
      "\u001b[32m[0924 10:24:30 @monitor.py:467]\u001b[0m GAN_loss/discrim/loss: 0.62582\n",
      "\u001b[32m[0924 10:24:30 @monitor.py:467]\u001b[0m GAN_loss/gen/final-g-loss: 1.3262\n",
      "\u001b[32m[0924 10:24:30 @monitor.py:467]\u001b[0m GAN_loss/gen/klloss: 0.2874\n",
      "\u001b[32m[0924 10:24:30 @monitor.py:467]\u001b[0m GAN_loss/gen/loss: 1.0388\n",
      "\u001b[32m[0924 10:24:30 @monitor.py:467]\u001b[0m QueueInput/queue_size: 1.1921e-05\n",
      "\u001b[32m[0924 10:24:30 @monitor.py:467]\u001b[0m QueueInput_1/queue_size: 50\n",
      "\u001b[32m[0924 10:24:30 @base.py:275]\u001b[0m Start Epoch 33 ...\n"
     ]
    },
    {
     "name": "stderr",
     "output_type": "stream",
     "text": [
      "\n",
      "100%|#################################################################################|2000/2000[00:37<00:00,53.96it/s]"
     ]
    },
    {
     "name": "stdout",
     "output_type": "stream",
     "text": [
      "\u001b[32m[0924 10:25:07 @base.py:285]\u001b[0m Epoch 33 (global_step 66000) finished, time:37.1 seconds.\n"
     ]
    },
    {
     "name": "stderr",
     "output_type": "stream",
     "text": [
      "\n"
     ]
    },
    {
     "name": "stdout",
     "output_type": "stream",
     "text": [
      "\u001b[32m[0924 10:25:07 @saver.py:79]\u001b[0m Model saved to ../output/Chicago/DATGAN_TEST/model\\model-66000.\n",
      "\u001b[32m[0924 10:25:07 @monitor.py:467]\u001b[0m GAN_loss/discrim/accuracy_fake: 0.895\n",
      "\u001b[32m[0924 10:25:07 @monitor.py:467]\u001b[0m GAN_loss/discrim/accuracy_real: 0.185\n",
      "\u001b[32m[0924 10:25:07 @monitor.py:467]\u001b[0m GAN_loss/discrim/loss: 0.63466\n",
      "\u001b[32m[0924 10:25:07 @monitor.py:467]\u001b[0m GAN_loss/gen/final-g-loss: 1.2116\n",
      "\u001b[32m[0924 10:25:07 @monitor.py:467]\u001b[0m GAN_loss/gen/klloss: 0.18029\n",
      "\u001b[32m[0924 10:25:07 @monitor.py:467]\u001b[0m GAN_loss/gen/loss: 1.0313\n",
      "\u001b[32m[0924 10:25:07 @monitor.py:467]\u001b[0m QueueInput/queue_size: 5.9605e-06\n",
      "\u001b[32m[0924 10:25:07 @monitor.py:467]\u001b[0m QueueInput_1/queue_size: 50\n",
      "\u001b[32m[0924 10:25:07 @base.py:275]\u001b[0m Start Epoch 34 ...\n"
     ]
    },
    {
     "name": "stderr",
     "output_type": "stream",
     "text": [
      "100%|#################################################################################|2000/2000[00:37<00:00,53.77it/s]"
     ]
    },
    {
     "name": "stdout",
     "output_type": "stream",
     "text": [
      "\u001b[32m[0924 10:25:44 @base.py:285]\u001b[0m Epoch 34 (global_step 68000) finished, time:37.2 seconds.\n",
      "\u001b[32m[0924 10:25:44 @saver.py:79]\u001b[0m Model saved to ../output/Chicago/DATGAN_TEST/model\\model-68000.\n",
      "\u001b[32m[0924 10:25:44 @monitor.py:467]\u001b[0m GAN_loss/discrim/accuracy_fake: 0.9\n",
      "\u001b[32m[0924 10:25:44 @monitor.py:467]\u001b[0m GAN_loss/discrim/accuracy_real: 0.15\n",
      "\u001b[32m[0924 10:25:44 @monitor.py:467]\u001b[0m GAN_loss/discrim/loss: 0.63833\n",
      "\u001b[32m[0924 10:25:44 @monitor.py:467]\u001b[0m GAN_loss/gen/final-g-loss: 1.2279\n",
      "\u001b[32m[0924 10:25:44 @monitor.py:467]\u001b[0m GAN_loss/gen/klloss: 0.16304\n",
      "\u001b[32m[0924 10:25:44 @monitor.py:467]\u001b[0m GAN_loss/gen/loss: 1.0649\n",
      "\u001b[32m[0924 10:25:44 @monitor.py:467]\u001b[0m QueueInput/queue_size: 2.9802e-06\n",
      "\u001b[32m[0924 10:25:44 @monitor.py:467]\u001b[0m QueueInput_1/queue_size: 50\n",
      "\u001b[32m[0924 10:25:44 @base.py:275]\u001b[0m Start Epoch 35 ...\n"
     ]
    },
    {
     "name": "stderr",
     "output_type": "stream",
     "text": [
      "\n",
      "100%|#################################################################################|2000/2000[00:36<00:00,54.16it/s]"
     ]
    },
    {
     "name": "stdout",
     "output_type": "stream",
     "text": [
      "\u001b[32m[0924 10:26:21 @base.py:285]\u001b[0m Epoch 35 (global_step 70000) finished, time:36.9 seconds.\n",
      "\u001b[32m[0924 10:26:21 @saver.py:79]\u001b[0m Model saved to ../output/Chicago/DATGAN_TEST/model\\model-70000.\n",
      "\u001b[32m[0924 10:26:21 @monitor.py:467]\u001b[0m GAN_loss/discrim/accuracy_fake: 0.925\n",
      "\u001b[32m[0924 10:26:21 @monitor.py:467]\u001b[0m GAN_loss/discrim/accuracy_real: 0.145\n",
      "\u001b[32m[0924 10:26:21 @monitor.py:467]\u001b[0m GAN_loss/discrim/loss: 0.63132\n",
      "\u001b[32m[0924 10:26:21 @monitor.py:467]\u001b[0m GAN_loss/gen/final-g-loss: 1.2563\n",
      "\u001b[32m[0924 10:26:21 @monitor.py:467]\u001b[0m GAN_loss/gen/klloss: 0.19548\n",
      "\u001b[32m[0924 10:26:21 @monitor.py:467]\u001b[0m GAN_loss/gen/loss: 1.0609\n",
      "\u001b[32m[0924 10:26:21 @monitor.py:467]\u001b[0m QueueInput/queue_size: 1.4901e-06\n",
      "\u001b[32m[0924 10:26:21 @monitor.py:467]\u001b[0m QueueInput_1/queue_size: 50\n",
      "\u001b[32m[0924 10:26:21 @base.py:275]\u001b[0m Start Epoch 36 ...\n"
     ]
    },
    {
     "name": "stderr",
     "output_type": "stream",
     "text": [
      "\n",
      "100%|#################################################################################|2000/2000[00:37<00:00,52.97it/s]"
     ]
    },
    {
     "name": "stdout",
     "output_type": "stream",
     "text": [
      "\u001b[32m[0924 10:26:59 @base.py:285]\u001b[0m Epoch 36 (global_step 72000) finished, time:37.8 seconds.\n",
      "\u001b[32m[0924 10:26:59 @saver.py:79]\u001b[0m Model saved to ../output/Chicago/DATGAN_TEST/model\\model-72000.\n",
      "\u001b[32m[0924 10:26:59 @monitor.py:467]\u001b[0m GAN_loss/discrim/accuracy_fake: 0.91\n",
      "\u001b[32m[0924 10:26:59 @monitor.py:467]\u001b[0m GAN_loss/discrim/accuracy_real: 0.17\n",
      "\u001b[32m[0924 10:26:59 @monitor.py:467]\u001b[0m GAN_loss/discrim/loss: 0.64915\n",
      "\u001b[32m[0924 10:26:59 @monitor.py:467]\u001b[0m GAN_loss/gen/final-g-loss: 1.2927\n",
      "\u001b[32m[0924 10:26:59 @monitor.py:467]\u001b[0m GAN_loss/gen/klloss: 0.28054\n",
      "\u001b[32m[0924 10:26:59 @monitor.py:467]\u001b[0m GAN_loss/gen/loss: 1.0122\n",
      "\u001b[32m[0924 10:26:59 @monitor.py:467]\u001b[0m QueueInput/queue_size: 7.4506e-07\n",
      "\u001b[32m[0924 10:26:59 @monitor.py:467]\u001b[0m QueueInput_1/queue_size: 50\n",
      "\u001b[32m[0924 10:26:59 @base.py:275]\u001b[0m Start Epoch 37 ...\n"
     ]
    },
    {
     "name": "stderr",
     "output_type": "stream",
     "text": [
      "\n",
      "100%|#################################################################################|2000/2000[00:39<00:00,50.74it/s]"
     ]
    },
    {
     "name": "stdout",
     "output_type": "stream",
     "text": [
      "\u001b[32m[0924 10:27:39 @base.py:285]\u001b[0m Epoch 37 (global_step 74000) finished, time:39.4 seconds.\n",
      "\u001b[32m[0924 10:27:39 @saver.py:79]\u001b[0m Model saved to ../output/Chicago/DATGAN_TEST/model\\model-74000.\n",
      "\u001b[32m[0924 10:27:39 @monitor.py:467]\u001b[0m GAN_loss/discrim/accuracy_fake: 0.89\n",
      "\u001b[32m[0924 10:27:39 @monitor.py:467]\u001b[0m GAN_loss/discrim/accuracy_real: 0.185\n",
      "\u001b[32m[0924 10:27:39 @monitor.py:467]\u001b[0m GAN_loss/discrim/loss: 0.64314\n",
      "\u001b[32m[0924 10:27:39 @monitor.py:467]\u001b[0m GAN_loss/gen/final-g-loss: 1.2489\n",
      "\u001b[32m[0924 10:27:39 @monitor.py:467]\u001b[0m GAN_loss/gen/klloss: 0.22068\n",
      "\u001b[32m[0924 10:27:39 @monitor.py:467]\u001b[0m GAN_loss/gen/loss: 1.0282\n",
      "\u001b[32m[0924 10:27:39 @monitor.py:467]\u001b[0m QueueInput/queue_size: 3.7253e-07\n",
      "\u001b[32m[0924 10:27:39 @monitor.py:467]\u001b[0m QueueInput_1/queue_size: 50\n",
      "\u001b[32m[0924 10:27:39 @base.py:275]\u001b[0m Start Epoch 38 ...\n"
     ]
    },
    {
     "name": "stderr",
     "output_type": "stream",
     "text": [
      "\n",
      "100%|#################################################################################|2000/2000[00:37<00:00,53.68it/s]"
     ]
    },
    {
     "name": "stdout",
     "output_type": "stream",
     "text": [
      "\u001b[32m[0924 10:28:16 @base.py:285]\u001b[0m Epoch 38 (global_step 76000) finished, time:37.3 seconds.\n",
      "\u001b[32m[0924 10:28:16 @saver.py:79]\u001b[0m Model saved to ../output/Chicago/DATGAN_TEST/model\\model-76000.\n",
      "\u001b[32m[0924 10:28:16 @monitor.py:467]\u001b[0m GAN_loss/discrim/accuracy_fake: 0.905\n",
      "\u001b[32m[0924 10:28:16 @monitor.py:467]\u001b[0m GAN_loss/discrim/accuracy_real: 0.16\n",
      "\u001b[32m[0924 10:28:16 @monitor.py:467]\u001b[0m GAN_loss/discrim/loss: 0.64193\n",
      "\u001b[32m[0924 10:28:16 @monitor.py:467]\u001b[0m GAN_loss/gen/final-g-loss: 1.2488\n",
      "\u001b[32m[0924 10:28:16 @monitor.py:467]\u001b[0m GAN_loss/gen/klloss: 0.21332\n",
      "\u001b[32m[0924 10:28:16 @monitor.py:467]\u001b[0m GAN_loss/gen/loss: 1.0355\n",
      "\u001b[32m[0924 10:28:16 @monitor.py:467]\u001b[0m QueueInput/queue_size: 1.8626e-07\n",
      "\u001b[32m[0924 10:28:16 @monitor.py:467]\u001b[0m QueueInput_1/queue_size: 50\n",
      "\u001b[32m[0924 10:28:16 @base.py:275]\u001b[0m Start Epoch 39 ...\n"
     ]
    },
    {
     "name": "stderr",
     "output_type": "stream",
     "text": [
      "\n",
      "100%|#################################################################################|2000/2000[00:37<00:00,53.91it/s]"
     ]
    },
    {
     "name": "stdout",
     "output_type": "stream",
     "text": [
      "\u001b[32m[0924 10:28:53 @base.py:285]\u001b[0m Epoch 39 (global_step 78000) finished, time:37.1 seconds.\n",
      "\u001b[32m[0924 10:28:53 @saver.py:79]\u001b[0m Model saved to ../output/Chicago/DATGAN_TEST/model\\model-78000.\n",
      "\u001b[32m[0924 10:28:53 @monitor.py:467]\u001b[0m GAN_loss/discrim/accuracy_fake: 0.94\n",
      "\u001b[32m[0924 10:28:53 @monitor.py:467]\u001b[0m GAN_loss/discrim/accuracy_real: 0.17\n",
      "\u001b[32m[0924 10:28:53 @monitor.py:467]\u001b[0m GAN_loss/discrim/loss: 0.63712\n",
      "\u001b[32m[0924 10:28:53 @monitor.py:467]\u001b[0m GAN_loss/gen/final-g-loss: 1.2283\n",
      "\u001b[32m[0924 10:28:53 @monitor.py:467]\u001b[0m GAN_loss/gen/klloss: 0.18\n",
      "\u001b[32m[0924 10:28:53 @monitor.py:467]\u001b[0m GAN_loss/gen/loss: 1.0483\n",
      "\u001b[32m[0924 10:28:53 @monitor.py:467]\u001b[0m QueueInput/queue_size: 9.3132e-08\n",
      "\u001b[32m[0924 10:28:53 @monitor.py:467]\u001b[0m QueueInput_1/queue_size: 50\n",
      "\u001b[32m[0924 10:28:53 @base.py:275]\u001b[0m Start Epoch 40 ...\n"
     ]
    },
    {
     "name": "stderr",
     "output_type": "stream",
     "text": [
      "\n",
      "100%|#################################################################################|2000/2000[00:36<00:00,54.06it/s]"
     ]
    },
    {
     "name": "stdout",
     "output_type": "stream",
     "text": [
      "\u001b[32m[0924 10:29:30 @base.py:285]\u001b[0m Epoch 40 (global_step 80000) finished, time:37 seconds.\n",
      "\u001b[32m[0924 10:29:30 @saver.py:79]\u001b[0m Model saved to ../output/Chicago/DATGAN_TEST/model\\model-80000.\n",
      "\u001b[32m[0924 10:29:30 @monitor.py:467]\u001b[0m GAN_loss/discrim/accuracy_fake: 0.885\n",
      "\u001b[32m[0924 10:29:30 @monitor.py:467]\u001b[0m GAN_loss/discrim/accuracy_real: 0.125\n",
      "\u001b[32m[0924 10:29:30 @monitor.py:467]\u001b[0m GAN_loss/discrim/loss: 0.65098\n",
      "\u001b[32m[0924 10:29:30 @monitor.py:467]\u001b[0m GAN_loss/gen/final-g-loss: 1.221\n",
      "\u001b[32m[0924 10:29:30 @monitor.py:467]\u001b[0m GAN_loss/gen/klloss: 0.20605\n",
      "\u001b[32m[0924 10:29:30 @monitor.py:467]\u001b[0m GAN_loss/gen/loss: 1.015\n",
      "\u001b[32m[0924 10:29:30 @monitor.py:467]\u001b[0m QueueInput/queue_size: 4.6566e-08\n",
      "\u001b[32m[0924 10:29:30 @monitor.py:467]\u001b[0m QueueInput_1/queue_size: 50\n",
      "\u001b[32m[0924 10:29:30 @base.py:275]\u001b[0m Start Epoch 41 ...\n"
     ]
    },
    {
     "name": "stderr",
     "output_type": "stream",
     "text": [
      "\n",
      "100%|#################################################################################|2000/2000[00:37<00:00,53.96it/s]"
     ]
    },
    {
     "name": "stdout",
     "output_type": "stream",
     "text": [
      "\u001b[32m[0924 10:30:07 @base.py:285]\u001b[0m Epoch 41 (global_step 82000) finished, time:37.1 seconds.\n"
     ]
    },
    {
     "name": "stderr",
     "output_type": "stream",
     "text": [
      "\n"
     ]
    },
    {
     "name": "stdout",
     "output_type": "stream",
     "text": [
      "\u001b[32m[0924 10:30:07 @saver.py:79]\u001b[0m Model saved to ../output/Chicago/DATGAN_TEST/model\\model-82000.\n",
      "\u001b[32m[0924 10:30:07 @monitor.py:467]\u001b[0m GAN_loss/discrim/accuracy_fake: 0.905\n",
      "\u001b[32m[0924 10:30:07 @monitor.py:467]\u001b[0m GAN_loss/discrim/accuracy_real: 0.165\n",
      "\u001b[32m[0924 10:30:07 @monitor.py:467]\u001b[0m GAN_loss/discrim/loss: 0.64073\n",
      "\u001b[32m[0924 10:30:07 @monitor.py:467]\u001b[0m GAN_loss/gen/final-g-loss: 1.3189\n",
      "\u001b[32m[0924 10:30:07 @monitor.py:467]\u001b[0m GAN_loss/gen/klloss: 0.2836\n",
      "\u001b[32m[0924 10:30:07 @monitor.py:467]\u001b[0m GAN_loss/gen/loss: 1.0353\n",
      "\u001b[32m[0924 10:30:07 @monitor.py:467]\u001b[0m QueueInput/queue_size: 2.3283e-08\n",
      "\u001b[32m[0924 10:30:07 @monitor.py:467]\u001b[0m QueueInput_1/queue_size: 50\n",
      "\u001b[32m[0924 10:30:07 @base.py:275]\u001b[0m Start Epoch 42 ...\n"
     ]
    },
    {
     "name": "stderr",
     "output_type": "stream",
     "text": [
      "100%|#################################################################################|2000/2000[00:37<00:00,53.97it/s]"
     ]
    },
    {
     "name": "stdout",
     "output_type": "stream",
     "text": [
      "\u001b[32m[0924 10:30:44 @base.py:285]\u001b[0m Epoch 42 (global_step 84000) finished, time:37.1 seconds.\n"
     ]
    },
    {
     "name": "stderr",
     "output_type": "stream",
     "text": [
      "\n"
     ]
    },
    {
     "name": "stdout",
     "output_type": "stream",
     "text": [
      "\u001b[32m[0924 10:30:45 @saver.py:79]\u001b[0m Model saved to ../output/Chicago/DATGAN_TEST/model\\model-84000.\n",
      "\u001b[32m[0924 10:30:45 @monitor.py:467]\u001b[0m GAN_loss/discrim/accuracy_fake: 0.91\n",
      "\u001b[32m[0924 10:30:45 @monitor.py:467]\u001b[0m GAN_loss/discrim/accuracy_real: 0.22\n",
      "\u001b[32m[0924 10:30:45 @monitor.py:467]\u001b[0m GAN_loss/discrim/loss: 0.64374\n",
      "\u001b[32m[0924 10:30:45 @monitor.py:467]\u001b[0m GAN_loss/gen/final-g-loss: 1.2075\n",
      "\u001b[32m[0924 10:30:45 @monitor.py:467]\u001b[0m GAN_loss/gen/klloss: 0.1886\n",
      "\u001b[32m[0924 10:30:45 @monitor.py:467]\u001b[0m GAN_loss/gen/loss: 1.0189\n",
      "\u001b[32m[0924 10:30:45 @monitor.py:467]\u001b[0m QueueInput/queue_size: 1.1642e-08\n",
      "\u001b[32m[0924 10:30:45 @monitor.py:467]\u001b[0m QueueInput_1/queue_size: 50\n",
      "\u001b[32m[0924 10:30:45 @base.py:275]\u001b[0m Start Epoch 43 ...\n"
     ]
    },
    {
     "name": "stderr",
     "output_type": "stream",
     "text": [
      "100%|#################################################################################|2000/2000[00:37<00:00,54.05it/s]"
     ]
    },
    {
     "name": "stdout",
     "output_type": "stream",
     "text": [
      "\u001b[32m[0924 10:31:22 @base.py:285]\u001b[0m Epoch 43 (global_step 86000) finished, time:37 seconds.\n",
      "\u001b[32m[0924 10:31:22 @saver.py:79]\u001b[0m Model saved to ../output/Chicago/DATGAN_TEST/model\\model-86000.\n",
      "\u001b[32m[0924 10:31:22 @monitor.py:467]\u001b[0m GAN_loss/discrim/accuracy_fake: 0.91\n",
      "\u001b[32m[0924 10:31:22 @monitor.py:467]\u001b[0m GAN_loss/discrim/accuracy_real: 0.165\n",
      "\u001b[32m[0924 10:31:22 @monitor.py:467]\u001b[0m GAN_loss/discrim/loss: 0.64273\n",
      "\u001b[32m[0924 10:31:22 @monitor.py:467]\u001b[0m GAN_loss/gen/final-g-loss: 1.3555\n",
      "\u001b[32m[0924 10:31:22 @monitor.py:467]\u001b[0m GAN_loss/gen/klloss: 0.33847\n",
      "\u001b[32m[0924 10:31:22 @monitor.py:467]\u001b[0m GAN_loss/gen/loss: 1.017\n",
      "\u001b[32m[0924 10:31:22 @monitor.py:467]\u001b[0m QueueInput/queue_size: 5.8208e-09\n",
      "\u001b[32m[0924 10:31:22 @monitor.py:467]\u001b[0m QueueInput_1/queue_size: 50\n",
      "\u001b[32m[0924 10:31:22 @base.py:275]\u001b[0m Start Epoch 44 ...\n"
     ]
    },
    {
     "name": "stderr",
     "output_type": "stream",
     "text": [
      "\n",
      "100%|#################################################################################|2000/2000[00:36<00:00,54.07it/s]"
     ]
    },
    {
     "name": "stdout",
     "output_type": "stream",
     "text": [
      "\u001b[32m[0924 10:31:59 @base.py:285]\u001b[0m Epoch 44 (global_step 88000) finished, time:37 seconds.\n",
      "\u001b[32m[0924 10:31:59 @saver.py:79]\u001b[0m Model saved to ../output/Chicago/DATGAN_TEST/model\\model-88000.\n",
      "\u001b[32m[0924 10:31:59 @monitor.py:467]\u001b[0m GAN_loss/discrim/accuracy_fake: 0.89\n",
      "\u001b[32m[0924 10:31:59 @monitor.py:467]\u001b[0m GAN_loss/discrim/accuracy_real: 0.14\n",
      "\u001b[32m[0924 10:31:59 @monitor.py:467]\u001b[0m GAN_loss/discrim/loss: 0.64877\n",
      "\u001b[32m[0924 10:31:59 @monitor.py:467]\u001b[0m GAN_loss/gen/final-g-loss: 1.2116\n",
      "\u001b[32m[0924 10:31:59 @monitor.py:467]\u001b[0m GAN_loss/gen/klloss: 0.2007\n",
      "\u001b[32m[0924 10:31:59 @monitor.py:467]\u001b[0m GAN_loss/gen/loss: 1.0109\n",
      "\u001b[32m[0924 10:31:59 @monitor.py:467]\u001b[0m QueueInput/queue_size: 2.9104e-09\n",
      "\u001b[32m[0924 10:31:59 @monitor.py:467]\u001b[0m QueueInput_1/queue_size: 50\n",
      "\u001b[32m[0924 10:31:59 @base.py:275]\u001b[0m Start Epoch 45 ...\n"
     ]
    },
    {
     "name": "stderr",
     "output_type": "stream",
     "text": [
      "\n",
      "100%|#################################################################################|2000/2000[00:36<00:00,54.07it/s]"
     ]
    },
    {
     "name": "stdout",
     "output_type": "stream",
     "text": [
      "\u001b[32m[0924 10:32:36 @base.py:285]\u001b[0m Epoch 45 (global_step 90000) finished, time:37 seconds.\n",
      "\u001b[32m[0924 10:32:36 @saver.py:79]\u001b[0m Model saved to ../output/Chicago/DATGAN_TEST/model\\model-90000.\n",
      "\u001b[32m[0924 10:32:36 @monitor.py:467]\u001b[0m GAN_loss/discrim/accuracy_fake: 0.905\n",
      "\u001b[32m[0924 10:32:36 @monitor.py:467]\u001b[0m GAN_loss/discrim/accuracy_real: 0.175\n",
      "\u001b[32m[0924 10:32:36 @monitor.py:467]\u001b[0m GAN_loss/discrim/loss: 0.64498\n",
      "\u001b[32m[0924 10:32:36 @monitor.py:467]\u001b[0m GAN_loss/gen/final-g-loss: 1.2329\n",
      "\u001b[32m[0924 10:32:36 @monitor.py:467]\u001b[0m GAN_loss/gen/klloss: 0.19933\n",
      "\u001b[32m[0924 10:32:36 @monitor.py:467]\u001b[0m GAN_loss/gen/loss: 1.0336\n",
      "\u001b[32m[0924 10:32:36 @monitor.py:467]\u001b[0m QueueInput/queue_size: 1.4552e-09\n",
      "\u001b[32m[0924 10:32:36 @monitor.py:467]\u001b[0m QueueInput_1/queue_size: 50\n",
      "\u001b[32m[0924 10:32:36 @base.py:275]\u001b[0m Start Epoch 46 ...\n"
     ]
    },
    {
     "name": "stderr",
     "output_type": "stream",
     "text": [
      "\n",
      "100%|#################################################################################|2000/2000[00:36<00:00,54.36it/s]"
     ]
    },
    {
     "name": "stdout",
     "output_type": "stream",
     "text": [
      "\u001b[32m[0924 10:33:13 @base.py:285]\u001b[0m Epoch 46 (global_step 92000) finished, time:36.8 seconds.\n",
      "\u001b[32m[0924 10:33:13 @saver.py:79]\u001b[0m Model saved to ../output/Chicago/DATGAN_TEST/model\\model-92000.\n",
      "\u001b[32m[0924 10:33:13 @monitor.py:467]\u001b[0m GAN_loss/discrim/accuracy_fake: 0.91\n",
      "\u001b[32m[0924 10:33:13 @monitor.py:467]\u001b[0m GAN_loss/discrim/accuracy_real: 0.175\n",
      "\u001b[32m[0924 10:33:13 @monitor.py:467]\u001b[0m GAN_loss/discrim/loss: 0.64133\n",
      "\u001b[32m[0924 10:33:13 @monitor.py:467]\u001b[0m GAN_loss/gen/final-g-loss: 1.2738\n",
      "\u001b[32m[0924 10:33:13 @monitor.py:467]\u001b[0m GAN_loss/gen/klloss: 0.23115\n",
      "\u001b[32m[0924 10:33:13 @monitor.py:467]\u001b[0m GAN_loss/gen/loss: 1.0427\n",
      "\u001b[32m[0924 10:33:13 @monitor.py:467]\u001b[0m QueueInput/queue_size: 7.276e-10\n",
      "\u001b[32m[0924 10:33:13 @monitor.py:467]\u001b[0m QueueInput_1/queue_size: 50\n",
      "\u001b[32m[0924 10:33:13 @base.py:275]\u001b[0m Start Epoch 47 ...\n"
     ]
    },
    {
     "name": "stderr",
     "output_type": "stream",
     "text": [
      "\n",
      "100%|#################################################################################|2000/2000[00:36<00:00,54.37it/s]"
     ]
    },
    {
     "name": "stdout",
     "output_type": "stream",
     "text": [
      "\u001b[32m[0924 10:33:49 @base.py:285]\u001b[0m Epoch 47 (global_step 94000) finished, time:36.8 seconds.\n",
      "\u001b[32m[0924 10:33:49 @saver.py:79]\u001b[0m Model saved to ../output/Chicago/DATGAN_TEST/model\\model-94000.\n",
      "\u001b[32m[0924 10:33:49 @monitor.py:467]\u001b[0m GAN_loss/discrim/accuracy_fake: 0.865\n",
      "\u001b[32m[0924 10:33:49 @monitor.py:467]\u001b[0m GAN_loss/discrim/accuracy_real: 0.18\n",
      "\u001b[32m[0924 10:33:49 @monitor.py:467]\u001b[0m GAN_loss/discrim/loss: 0.6439\n",
      "\u001b[32m[0924 10:33:49 @monitor.py:467]\u001b[0m GAN_loss/gen/final-g-loss: 1.2566\n",
      "\u001b[32m[0924 10:33:49 @monitor.py:467]\u001b[0m GAN_loss/gen/klloss: 0.2313\n",
      "\u001b[32m[0924 10:33:49 @monitor.py:467]\u001b[0m GAN_loss/gen/loss: 1.0253\n",
      "\u001b[32m[0924 10:33:49 @monitor.py:467]\u001b[0m QueueInput/queue_size: 3.638e-10\n",
      "\u001b[32m[0924 10:33:49 @monitor.py:467]\u001b[0m QueueInput_1/queue_size: 50\n",
      "\u001b[32m[0924 10:33:49 @base.py:275]\u001b[0m Start Epoch 48 ...\n"
     ]
    },
    {
     "name": "stderr",
     "output_type": "stream",
     "text": [
      "\n",
      "100%|#################################################################################|2000/2000[00:36<00:00,54.17it/s]"
     ]
    },
    {
     "name": "stdout",
     "output_type": "stream",
     "text": [
      "\u001b[32m[0924 10:34:26 @base.py:285]\u001b[0m Epoch 48 (global_step 96000) finished, time:36.9 seconds.\n",
      "\u001b[32m[0924 10:34:26 @saver.py:79]\u001b[0m Model saved to ../output/Chicago/DATGAN_TEST/model\\model-96000.\n",
      "\u001b[32m[0924 10:34:26 @monitor.py:467]\u001b[0m GAN_loss/discrim/accuracy_fake: 0.91\n",
      "\u001b[32m[0924 10:34:26 @monitor.py:467]\u001b[0m GAN_loss/discrim/accuracy_real: 0.17\n",
      "\u001b[32m[0924 10:34:26 @monitor.py:467]\u001b[0m GAN_loss/discrim/loss: 0.63823\n",
      "\u001b[32m[0924 10:34:26 @monitor.py:467]\u001b[0m GAN_loss/gen/final-g-loss: 1.372\n",
      "\u001b[32m[0924 10:34:26 @monitor.py:467]\u001b[0m GAN_loss/gen/klloss: 0.31764\n",
      "\u001b[32m[0924 10:34:26 @monitor.py:467]\u001b[0m GAN_loss/gen/loss: 1.0544\n",
      "\u001b[32m[0924 10:34:26 @monitor.py:467]\u001b[0m QueueInput/queue_size: 1.819e-10\n",
      "\u001b[32m[0924 10:34:26 @monitor.py:467]\u001b[0m QueueInput_1/queue_size: 50\n",
      "\u001b[32m[0924 10:34:26 @base.py:275]\u001b[0m Start Epoch 49 ...\n"
     ]
    },
    {
     "name": "stderr",
     "output_type": "stream",
     "text": [
      "\n",
      "100%|#################################################################################|2000/2000[00:36<00:00,54.23it/s]"
     ]
    },
    {
     "name": "stdout",
     "output_type": "stream",
     "text": [
      "\u001b[32m[0924 10:35:03 @base.py:285]\u001b[0m Epoch 49 (global_step 98000) finished, time:36.9 seconds.\n",
      "\u001b[32m[0924 10:35:03 @saver.py:79]\u001b[0m Model saved to ../output/Chicago/DATGAN_TEST/model\\model-98000.\n",
      "\u001b[32m[0924 10:35:03 @monitor.py:467]\u001b[0m GAN_loss/discrim/accuracy_fake: 0.915\n",
      "\u001b[32m[0924 10:35:03 @monitor.py:467]\u001b[0m GAN_loss/discrim/accuracy_real: 0.12\n",
      "\u001b[32m[0924 10:35:03 @monitor.py:467]\u001b[0m GAN_loss/discrim/loss: 0.64267\n",
      "\u001b[32m[0924 10:35:03 @monitor.py:467]\u001b[0m GAN_loss/gen/final-g-loss: 1.261\n",
      "\u001b[32m[0924 10:35:03 @monitor.py:467]\u001b[0m GAN_loss/gen/klloss: 0.2064\n",
      "\u001b[32m[0924 10:35:03 @monitor.py:467]\u001b[0m GAN_loss/gen/loss: 1.0546\n",
      "\u001b[32m[0924 10:35:03 @monitor.py:467]\u001b[0m QueueInput/queue_size: 9.0949e-11\n",
      "\u001b[32m[0924 10:35:03 @monitor.py:467]\u001b[0m QueueInput_1/queue_size: 50\n",
      "\u001b[32m[0924 10:35:03 @base.py:275]\u001b[0m Start Epoch 50 ...\n"
     ]
    },
    {
     "name": "stderr",
     "output_type": "stream",
     "text": [
      "\n",
      "100%|#################################################################################|2000/2000[00:36<00:00,54.23it/s]"
     ]
    },
    {
     "name": "stdout",
     "output_type": "stream",
     "text": [
      "\u001b[32m[0924 10:35:40 @base.py:285]\u001b[0m Epoch 50 (global_step 100000) finished, time:36.9 seconds.\n",
      "\u001b[32m[0924 10:35:40 @saver.py:79]\u001b[0m Model saved to ../output/Chicago/DATGAN_TEST/model\\model-100000.\n",
      "\u001b[32m[0924 10:35:40 @monitor.py:467]\u001b[0m GAN_loss/discrim/accuracy_fake: 0.94\n",
      "\u001b[32m[0924 10:35:40 @monitor.py:467]\u001b[0m GAN_loss/discrim/accuracy_real: 0.16\n",
      "\u001b[32m[0924 10:35:40 @monitor.py:467]\u001b[0m GAN_loss/discrim/loss: 0.64421\n",
      "\u001b[32m[0924 10:35:40 @monitor.py:467]\u001b[0m GAN_loss/gen/final-g-loss: 1.2453\n",
      "\u001b[32m[0924 10:35:40 @monitor.py:467]\u001b[0m GAN_loss/gen/klloss: 0.2024\n",
      "\u001b[32m[0924 10:35:40 @monitor.py:467]\u001b[0m GAN_loss/gen/loss: 1.0429\n",
      "\u001b[32m[0924 10:35:40 @monitor.py:467]\u001b[0m QueueInput/queue_size: 4.5475e-11\n",
      "\u001b[32m[0924 10:35:40 @monitor.py:467]\u001b[0m QueueInput_1/queue_size: 50\n",
      "\u001b[32m[0924 10:35:40 @base.py:275]\u001b[0m Start Epoch 51 ...\n"
     ]
    },
    {
     "name": "stderr",
     "output_type": "stream",
     "text": [
      "\n",
      "100%|#################################################################################|2000/2000[00:36<00:00,54.10it/s]"
     ]
    },
    {
     "name": "stdout",
     "output_type": "stream",
     "text": [
      "\u001b[32m[0924 10:36:17 @base.py:285]\u001b[0m Epoch 51 (global_step 102000) finished, time:37 seconds.\n",
      "\u001b[32m[0924 10:36:17 @saver.py:79]\u001b[0m Model saved to ../output/Chicago/DATGAN_TEST/model\\model-102000.\n",
      "\u001b[32m[0924 10:36:17 @monitor.py:467]\u001b[0m GAN_loss/discrim/accuracy_fake: 0.91\n",
      "\u001b[32m[0924 10:36:17 @monitor.py:467]\u001b[0m GAN_loss/discrim/accuracy_real: 0.175\n",
      "\u001b[32m[0924 10:36:17 @monitor.py:467]\u001b[0m GAN_loss/discrim/loss: 0.64044\n",
      "\u001b[32m[0924 10:36:17 @monitor.py:467]\u001b[0m GAN_loss/gen/final-g-loss: 1.1517\n",
      "\u001b[32m[0924 10:36:17 @monitor.py:467]\u001b[0m GAN_loss/gen/klloss: 0.1247\n",
      "\u001b[32m[0924 10:36:17 @monitor.py:467]\u001b[0m GAN_loss/gen/loss: 1.027\n",
      "\u001b[32m[0924 10:36:17 @monitor.py:467]\u001b[0m QueueInput/queue_size: 2.2737e-11\n",
      "\u001b[32m[0924 10:36:17 @monitor.py:467]\u001b[0m QueueInput_1/queue_size: 50\n",
      "\u001b[32m[0924 10:36:17 @base.py:275]\u001b[0m Start Epoch 52 ...\n"
     ]
    },
    {
     "name": "stderr",
     "output_type": "stream",
     "text": [
      "\n",
      "100%|#################################################################################|2000/2000[00:36<00:00,54.14it/s]"
     ]
    },
    {
     "name": "stdout",
     "output_type": "stream",
     "text": [
      "\u001b[32m[0924 10:36:54 @base.py:285]\u001b[0m Epoch 52 (global_step 104000) finished, time:36.9 seconds.\n",
      "\u001b[32m[0924 10:36:54 @saver.py:79]\u001b[0m Model saved to ../output/Chicago/DATGAN_TEST/model\\model-104000.\n",
      "\u001b[32m[0924 10:36:54 @monitor.py:467]\u001b[0m GAN_loss/discrim/accuracy_fake: 0.91\n",
      "\u001b[32m[0924 10:36:54 @monitor.py:467]\u001b[0m GAN_loss/discrim/accuracy_real: 0.175\n",
      "\u001b[32m[0924 10:36:54 @monitor.py:467]\u001b[0m GAN_loss/discrim/loss: 0.63202\n",
      "\u001b[32m[0924 10:36:54 @monitor.py:467]\u001b[0m GAN_loss/gen/final-g-loss: 1.3\n",
      "\u001b[32m[0924 10:36:54 @monitor.py:467]\u001b[0m GAN_loss/gen/klloss: 0.24562\n",
      "\u001b[32m[0924 10:36:54 @monitor.py:467]\u001b[0m GAN_loss/gen/loss: 1.0544\n",
      "\u001b[32m[0924 10:36:54 @monitor.py:467]\u001b[0m QueueInput/queue_size: 1.1369e-11\n",
      "\u001b[32m[0924 10:36:54 @monitor.py:467]\u001b[0m QueueInput_1/queue_size: 50\n",
      "\u001b[32m[0924 10:36:54 @base.py:275]\u001b[0m Start Epoch 53 ...\n"
     ]
    },
    {
     "name": "stderr",
     "output_type": "stream",
     "text": [
      "\n",
      "100%|#################################################################################|2000/2000[00:36<00:00,54.18it/s]"
     ]
    },
    {
     "name": "stdout",
     "output_type": "stream",
     "text": [
      "\u001b[32m[0924 10:37:31 @base.py:285]\u001b[0m Epoch 53 (global_step 106000) finished, time:36.9 seconds.\n",
      "\u001b[32m[0924 10:37:31 @saver.py:79]\u001b[0m Model saved to ../output/Chicago/DATGAN_TEST/model\\model-106000.\n",
      "\u001b[32m[0924 10:37:31 @monitor.py:467]\u001b[0m GAN_loss/discrim/accuracy_fake: 0.87\n",
      "\u001b[32m[0924 10:37:31 @monitor.py:467]\u001b[0m GAN_loss/discrim/accuracy_real: 0.12\n",
      "\u001b[32m[0924 10:37:31 @monitor.py:467]\u001b[0m GAN_loss/discrim/loss: 0.63891\n",
      "\u001b[32m[0924 10:37:31 @monitor.py:467]\u001b[0m GAN_loss/gen/final-g-loss: 1.2217\n",
      "\u001b[32m[0924 10:37:31 @monitor.py:467]\u001b[0m GAN_loss/gen/klloss: 0.17204\n",
      "\u001b[32m[0924 10:37:31 @monitor.py:467]\u001b[0m GAN_loss/gen/loss: 1.0496\n",
      "\u001b[32m[0924 10:37:32 @monitor.py:467]\u001b[0m QueueInput/queue_size: 5.6843e-12\n",
      "\u001b[32m[0924 10:37:32 @monitor.py:467]\u001b[0m QueueInput_1/queue_size: 50\n",
      "\u001b[32m[0924 10:37:32 @base.py:275]\u001b[0m Start Epoch 54 ...\n"
     ]
    },
    {
     "name": "stderr",
     "output_type": "stream",
     "text": [
      "\n",
      "100%|#################################################################################|2000/2000[00:37<00:00,53.98it/s]"
     ]
    },
    {
     "name": "stdout",
     "output_type": "stream",
     "text": [
      "\u001b[32m[0924 10:38:09 @base.py:285]\u001b[0m Epoch 54 (global_step 108000) finished, time:37.1 seconds.\n",
      "\u001b[32m[0924 10:38:09 @saver.py:79]\u001b[0m Model saved to ../output/Chicago/DATGAN_TEST/model\\model-108000.\n",
      "\u001b[32m[0924 10:38:09 @monitor.py:467]\u001b[0m GAN_loss/discrim/accuracy_fake: 0.905\n",
      "\u001b[32m[0924 10:38:09 @monitor.py:467]\u001b[0m GAN_loss/discrim/accuracy_real: 0.22\n",
      "\u001b[32m[0924 10:38:09 @monitor.py:467]\u001b[0m GAN_loss/discrim/loss: 0.63643\n",
      "\u001b[32m[0924 10:38:09 @monitor.py:467]\u001b[0m GAN_loss/gen/final-g-loss: 1.327\n",
      "\u001b[32m[0924 10:38:09 @monitor.py:467]\u001b[0m GAN_loss/gen/klloss: 0.28286\n",
      "\u001b[32m[0924 10:38:09 @monitor.py:467]\u001b[0m GAN_loss/gen/loss: 1.0442\n",
      "\u001b[32m[0924 10:38:09 @monitor.py:467]\u001b[0m QueueInput/queue_size: 2.8422e-12\n",
      "\u001b[32m[0924 10:38:09 @monitor.py:467]\u001b[0m QueueInput_1/queue_size: 50\n",
      "\u001b[32m[0924 10:38:09 @base.py:275]\u001b[0m Start Epoch 55 ...\n"
     ]
    },
    {
     "name": "stderr",
     "output_type": "stream",
     "text": [
      "\n",
      "100%|#################################################################################|2000/2000[00:37<00:00,53.98it/s]"
     ]
    },
    {
     "name": "stdout",
     "output_type": "stream",
     "text": [
      "\u001b[32m[0924 10:38:46 @base.py:285]\u001b[0m Epoch 55 (global_step 110000) finished, time:37.1 seconds.\n"
     ]
    },
    {
     "name": "stderr",
     "output_type": "stream",
     "text": [
      "\n"
     ]
    },
    {
     "name": "stdout",
     "output_type": "stream",
     "text": [
      "\u001b[32m[0924 10:38:46 @saver.py:79]\u001b[0m Model saved to ../output/Chicago/DATGAN_TEST/model\\model-110000.\n",
      "\u001b[32m[0924 10:38:46 @monitor.py:467]\u001b[0m GAN_loss/discrim/accuracy_fake: 0.925\n",
      "\u001b[32m[0924 10:38:46 @monitor.py:467]\u001b[0m GAN_loss/discrim/accuracy_real: 0.185\n",
      "\u001b[32m[0924 10:38:46 @monitor.py:467]\u001b[0m GAN_loss/discrim/loss: 0.62482\n",
      "\u001b[32m[0924 10:38:46 @monitor.py:467]\u001b[0m GAN_loss/gen/final-g-loss: 1.3061\n",
      "\u001b[32m[0924 10:38:46 @monitor.py:467]\u001b[0m GAN_loss/gen/klloss: 0.24085\n",
      "\u001b[32m[0924 10:38:46 @monitor.py:467]\u001b[0m GAN_loss/gen/loss: 1.0653\n",
      "\u001b[32m[0924 10:38:46 @monitor.py:467]\u001b[0m QueueInput/queue_size: 1.4211e-12\n",
      "\u001b[32m[0924 10:38:46 @monitor.py:467]\u001b[0m QueueInput_1/queue_size: 50\n",
      "\u001b[32m[0924 10:38:46 @base.py:275]\u001b[0m Start Epoch 56 ...\n"
     ]
    },
    {
     "name": "stderr",
     "output_type": "stream",
     "text": [
      "100%|#################################################################################|2000/2000[00:37<00:00,54.02it/s]"
     ]
    },
    {
     "name": "stdout",
     "output_type": "stream",
     "text": [
      "\u001b[32m[0924 10:39:23 @base.py:285]\u001b[0m Epoch 56 (global_step 112000) finished, time:37 seconds.\n",
      "\u001b[32m[0924 10:39:23 @saver.py:79]\u001b[0m Model saved to ../output/Chicago/DATGAN_TEST/model\\model-112000.\n",
      "\u001b[32m[0924 10:39:23 @monitor.py:467]\u001b[0m GAN_loss/discrim/accuracy_fake: 0.865\n",
      "\u001b[32m[0924 10:39:23 @monitor.py:467]\u001b[0m GAN_loss/discrim/accuracy_real: 0.165\n",
      "\u001b[32m[0924 10:39:23 @monitor.py:467]\u001b[0m GAN_loss/discrim/loss: 0.65087\n",
      "\u001b[32m[0924 10:39:23 @monitor.py:467]\u001b[0m GAN_loss/gen/final-g-loss: 1.2496\n",
      "\u001b[32m[0924 10:39:23 @monitor.py:467]\u001b[0m GAN_loss/gen/klloss: 0.21567\n",
      "\u001b[32m[0924 10:39:23 @monitor.py:467]\u001b[0m GAN_loss/gen/loss: 1.0339\n",
      "\u001b[32m[0924 10:39:23 @monitor.py:467]\u001b[0m QueueInput/queue_size: 7.1054e-13\n",
      "\u001b[32m[0924 10:39:23 @monitor.py:467]\u001b[0m QueueInput_1/queue_size: 50\n",
      "\u001b[32m[0924 10:39:23 @base.py:275]\u001b[0m Start Epoch 57 ...\n"
     ]
    },
    {
     "name": "stderr",
     "output_type": "stream",
     "text": [
      "\n",
      "100%|#################################################################################|2000/2000[00:37<00:00,54.05it/s]"
     ]
    },
    {
     "name": "stdout",
     "output_type": "stream",
     "text": [
      "\u001b[32m[0924 10:40:00 @base.py:285]\u001b[0m Epoch 57 (global_step 114000) finished, time:37 seconds.\n",
      "\u001b[32m[0924 10:40:00 @saver.py:79]\u001b[0m Model saved to ../output/Chicago/DATGAN_TEST/model\\model-114000.\n",
      "\u001b[32m[0924 10:40:00 @monitor.py:467]\u001b[0m GAN_loss/discrim/accuracy_fake: 0.945\n",
      "\u001b[32m[0924 10:40:00 @monitor.py:467]\u001b[0m GAN_loss/discrim/accuracy_real: 0.17\n",
      "\u001b[32m[0924 10:40:00 @monitor.py:467]\u001b[0m GAN_loss/discrim/loss: 0.63925\n",
      "\u001b[32m[0924 10:40:00 @monitor.py:467]\u001b[0m GAN_loss/gen/final-g-loss: 1.3366\n",
      "\u001b[32m[0924 10:40:00 @monitor.py:467]\u001b[0m GAN_loss/gen/klloss: 0.30331\n",
      "\u001b[32m[0924 10:40:00 @monitor.py:467]\u001b[0m GAN_loss/gen/loss: 1.0333\n",
      "\u001b[32m[0924 10:40:00 @monitor.py:467]\u001b[0m QueueInput/queue_size: 3.5527e-13\n",
      "\u001b[32m[0924 10:40:00 @monitor.py:467]\u001b[0m QueueInput_1/queue_size: 50\n",
      "\u001b[32m[0924 10:40:00 @base.py:275]\u001b[0m Start Epoch 58 ...\n"
     ]
    },
    {
     "name": "stderr",
     "output_type": "stream",
     "text": [
      "\n",
      "100%|#################################################################################|2000/2000[00:36<00:00,54.26it/s]"
     ]
    },
    {
     "name": "stdout",
     "output_type": "stream",
     "text": [
      "\u001b[32m[0924 10:40:37 @base.py:285]\u001b[0m Epoch 58 (global_step 116000) finished, time:36.9 seconds.\n",
      "\u001b[32m[0924 10:40:37 @saver.py:79]\u001b[0m Model saved to ../output/Chicago/DATGAN_TEST/model\\model-116000.\n",
      "\u001b[32m[0924 10:40:37 @monitor.py:467]\u001b[0m GAN_loss/discrim/accuracy_fake: 0.905\n",
      "\u001b[32m[0924 10:40:37 @monitor.py:467]\u001b[0m GAN_loss/discrim/accuracy_real: 0.14\n",
      "\u001b[32m[0924 10:40:37 @monitor.py:467]\u001b[0m GAN_loss/discrim/loss: 0.63872\n",
      "\u001b[32m[0924 10:40:37 @monitor.py:467]\u001b[0m GAN_loss/gen/final-g-loss: 1.2543\n",
      "\u001b[32m[0924 10:40:37 @monitor.py:467]\u001b[0m GAN_loss/gen/klloss: 0.1937\n",
      "\u001b[32m[0924 10:40:37 @monitor.py:467]\u001b[0m GAN_loss/gen/loss: 1.0606\n",
      "\u001b[32m[0924 10:40:37 @monitor.py:467]\u001b[0m QueueInput/queue_size: 1.7764e-13\n",
      "\u001b[32m[0924 10:40:37 @monitor.py:467]\u001b[0m QueueInput_1/queue_size: 50\n",
      "\u001b[32m[0924 10:40:37 @base.py:275]\u001b[0m Start Epoch 59 ...\n"
     ]
    },
    {
     "name": "stderr",
     "output_type": "stream",
     "text": [
      "\n",
      "100%|#################################################################################|2000/2000[00:36<00:00,54.17it/s]"
     ]
    },
    {
     "name": "stdout",
     "output_type": "stream",
     "text": [
      "\u001b[32m[0924 10:41:14 @base.py:285]\u001b[0m Epoch 59 (global_step 118000) finished, time:36.9 seconds.\n",
      "\u001b[32m[0924 10:41:14 @saver.py:79]\u001b[0m Model saved to ../output/Chicago/DATGAN_TEST/model\\model-118000.\n",
      "\u001b[32m[0924 10:41:14 @monitor.py:467]\u001b[0m GAN_loss/discrim/accuracy_fake: 0.92\n",
      "\u001b[32m[0924 10:41:14 @monitor.py:467]\u001b[0m GAN_loss/discrim/accuracy_real: 0.175\n",
      "\u001b[32m[0924 10:41:14 @monitor.py:467]\u001b[0m GAN_loss/discrim/loss: 0.64051\n",
      "\u001b[32m[0924 10:41:14 @monitor.py:467]\u001b[0m GAN_loss/gen/final-g-loss: 1.2582\n",
      "\u001b[32m[0924 10:41:14 @monitor.py:467]\u001b[0m GAN_loss/gen/klloss: 0.20724\n",
      "\u001b[32m[0924 10:41:14 @monitor.py:467]\u001b[0m GAN_loss/gen/loss: 1.051\n",
      "\u001b[32m[0924 10:41:14 @monitor.py:467]\u001b[0m QueueInput/queue_size: 8.8818e-14\n",
      "\u001b[32m[0924 10:41:14 @monitor.py:467]\u001b[0m QueueInput_1/queue_size: 50\n",
      "\u001b[32m[0924 10:41:14 @base.py:275]\u001b[0m Start Epoch 60 ...\n"
     ]
    },
    {
     "name": "stderr",
     "output_type": "stream",
     "text": [
      "\n",
      "100%|#################################################################################|2000/2000[00:36<00:00,54.29it/s]"
     ]
    },
    {
     "name": "stdout",
     "output_type": "stream",
     "text": [
      "\u001b[32m[0924 10:41:51 @base.py:285]\u001b[0m Epoch 60 (global_step 120000) finished, time:36.8 seconds.\n",
      "\u001b[32m[0924 10:41:51 @saver.py:79]\u001b[0m Model saved to ../output/Chicago/DATGAN_TEST/model\\model-120000.\n",
      "\u001b[32m[0924 10:41:51 @monitor.py:467]\u001b[0m GAN_loss/discrim/accuracy_fake: 0.91\n",
      "\u001b[32m[0924 10:41:51 @monitor.py:467]\u001b[0m GAN_loss/discrim/accuracy_real: 0.165\n",
      "\u001b[32m[0924 10:41:51 @monitor.py:467]\u001b[0m GAN_loss/discrim/loss: 0.64576\n",
      "\u001b[32m[0924 10:41:51 @monitor.py:467]\u001b[0m GAN_loss/gen/final-g-loss: 1.2691\n",
      "\u001b[32m[0924 10:41:51 @monitor.py:467]\u001b[0m GAN_loss/gen/klloss: 0.22183\n",
      "\u001b[32m[0924 10:41:51 @monitor.py:467]\u001b[0m GAN_loss/gen/loss: 1.0473\n",
      "\u001b[32m[0924 10:41:51 @monitor.py:467]\u001b[0m QueueInput/queue_size: 4.4409e-14\n",
      "\u001b[32m[0924 10:41:51 @monitor.py:467]\u001b[0m QueueInput_1/queue_size: 50\n",
      "\u001b[32m[0924 10:41:51 @base.py:275]\u001b[0m Start Epoch 61 ...\n"
     ]
    },
    {
     "name": "stderr",
     "output_type": "stream",
     "text": [
      "\n",
      "100%|#################################################################################|2000/2000[00:37<00:00,53.01it/s]"
     ]
    },
    {
     "name": "stdout",
     "output_type": "stream",
     "text": [
      "\u001b[32m[0924 10:42:29 @base.py:285]\u001b[0m Epoch 61 (global_step 122000) finished, time:37.7 seconds.\n"
     ]
    },
    {
     "name": "stderr",
     "output_type": "stream",
     "text": [
      "\n"
     ]
    },
    {
     "name": "stdout",
     "output_type": "stream",
     "text": [
      "\u001b[32m[0924 10:42:29 @saver.py:79]\u001b[0m Model saved to ../output/Chicago/DATGAN_TEST/model\\model-122000.\n",
      "\u001b[32m[0924 10:42:29 @monitor.py:467]\u001b[0m GAN_loss/discrim/accuracy_fake: 0.875\n",
      "\u001b[32m[0924 10:42:29 @monitor.py:467]\u001b[0m GAN_loss/discrim/accuracy_real: 0.13\n",
      "\u001b[32m[0924 10:42:29 @monitor.py:467]\u001b[0m GAN_loss/discrim/loss: 0.65594\n",
      "\u001b[32m[0924 10:42:29 @monitor.py:467]\u001b[0m GAN_loss/gen/final-g-loss: 1.2958\n",
      "\u001b[32m[0924 10:42:29 @monitor.py:467]\u001b[0m GAN_loss/gen/klloss: 0.25843\n",
      "\u001b[32m[0924 10:42:29 @monitor.py:467]\u001b[0m GAN_loss/gen/loss: 1.0374\n",
      "\u001b[32m[0924 10:42:29 @monitor.py:467]\u001b[0m QueueInput/queue_size: 2.2204e-14\n",
      "\u001b[32m[0924 10:42:29 @monitor.py:467]\u001b[0m QueueInput_1/queue_size: 50\n",
      "\u001b[32m[0924 10:42:29 @base.py:275]\u001b[0m Start Epoch 62 ...\n"
     ]
    },
    {
     "name": "stderr",
     "output_type": "stream",
     "text": [
      "100%|#################################################################################|2000/2000[00:38<00:00,52.61it/s]"
     ]
    },
    {
     "name": "stdout",
     "output_type": "stream",
     "text": [
      "\u001b[32m[0924 10:43:07 @base.py:285]\u001b[0m Epoch 62 (global_step 124000) finished, time:38 seconds.\n",
      "\u001b[32m[0924 10:43:07 @saver.py:79]\u001b[0m Model saved to ../output/Chicago/DATGAN_TEST/model\\model-124000.\n",
      "\u001b[32m[0924 10:43:07 @monitor.py:467]\u001b[0m GAN_loss/discrim/accuracy_fake: 0.93\n",
      "\u001b[32m[0924 10:43:07 @monitor.py:467]\u001b[0m GAN_loss/discrim/accuracy_real: 0.195\n",
      "\u001b[32m[0924 10:43:07 @monitor.py:467]\u001b[0m GAN_loss/discrim/loss: 0.63095\n",
      "\u001b[32m[0924 10:43:07 @monitor.py:467]\u001b[0m GAN_loss/gen/final-g-loss: 1.3122\n",
      "\u001b[32m[0924 10:43:07 @monitor.py:467]\u001b[0m GAN_loss/gen/klloss: 0.25474\n",
      "\u001b[32m[0924 10:43:07 @monitor.py:467]\u001b[0m GAN_loss/gen/loss: 1.0574\n",
      "\u001b[32m[0924 10:43:07 @monitor.py:467]\u001b[0m QueueInput/queue_size: 1.1102e-14\n",
      "\u001b[32m[0924 10:43:07 @monitor.py:467]\u001b[0m QueueInput_1/queue_size: 50\n",
      "\u001b[32m[0924 10:43:07 @base.py:275]\u001b[0m Start Epoch 63 ...\n"
     ]
    },
    {
     "name": "stderr",
     "output_type": "stream",
     "text": [
      "\n",
      "100%|#################################################################################|2000/2000[00:37<00:00,53.32it/s]"
     ]
    },
    {
     "name": "stdout",
     "output_type": "stream",
     "text": [
      "\u001b[32m[0924 10:43:44 @base.py:285]\u001b[0m Epoch 63 (global_step 126000) finished, time:37.5 seconds.\n",
      "\u001b[32m[0924 10:43:44 @saver.py:79]\u001b[0m Model saved to ../output/Chicago/DATGAN_TEST/model\\model-126000.\n",
      "\u001b[32m[0924 10:43:44 @monitor.py:467]\u001b[0m GAN_loss/discrim/accuracy_fake: 0.9\n",
      "\u001b[32m[0924 10:43:44 @monitor.py:467]\u001b[0m GAN_loss/discrim/accuracy_real: 0.205\n",
      "\u001b[32m[0924 10:43:44 @monitor.py:467]\u001b[0m GAN_loss/discrim/loss: 0.63424\n",
      "\u001b[32m[0924 10:43:44 @monitor.py:467]\u001b[0m GAN_loss/gen/final-g-loss: 1.2301\n",
      "\u001b[32m[0924 10:43:44 @monitor.py:467]\u001b[0m GAN_loss/gen/klloss: 0.1666\n",
      "\u001b[32m[0924 10:43:44 @monitor.py:467]\u001b[0m GAN_loss/gen/loss: 1.0635\n",
      "\u001b[32m[0924 10:43:44 @monitor.py:467]\u001b[0m QueueInput/queue_size: 5.5511e-15\n",
      "\u001b[32m[0924 10:43:44 @monitor.py:467]\u001b[0m QueueInput_1/queue_size: 50\n",
      "\u001b[32m[0924 10:43:44 @base.py:275]\u001b[0m Start Epoch 64 ...\n"
     ]
    },
    {
     "name": "stderr",
     "output_type": "stream",
     "text": [
      "\n",
      "100%|#################################################################################|2000/2000[00:37<00:00,53.76it/s]"
     ]
    },
    {
     "name": "stdout",
     "output_type": "stream",
     "text": [
      "\u001b[32m[0924 10:44:22 @base.py:285]\u001b[0m Epoch 64 (global_step 128000) finished, time:37.2 seconds.\n",
      "\u001b[32m[0924 10:44:22 @saver.py:79]\u001b[0m Model saved to ../output/Chicago/DATGAN_TEST/model\\model-128000.\n",
      "\u001b[32m[0924 10:44:22 @monitor.py:467]\u001b[0m GAN_loss/discrim/accuracy_fake: 0.9\n",
      "\u001b[32m[0924 10:44:22 @monitor.py:467]\u001b[0m GAN_loss/discrim/accuracy_real: 0.18\n",
      "\u001b[32m[0924 10:44:22 @monitor.py:467]\u001b[0m GAN_loss/discrim/loss: 0.63896\n",
      "\u001b[32m[0924 10:44:22 @monitor.py:467]\u001b[0m GAN_loss/gen/final-g-loss: 1.299\n",
      "\u001b[32m[0924 10:44:22 @monitor.py:467]\u001b[0m GAN_loss/gen/klloss: 0.23557\n",
      "\u001b[32m[0924 10:44:22 @monitor.py:467]\u001b[0m GAN_loss/gen/loss: 1.0634\n",
      "\u001b[32m[0924 10:44:22 @monitor.py:467]\u001b[0m QueueInput/queue_size: 2.7756e-15\n",
      "\u001b[32m[0924 10:44:22 @monitor.py:467]\u001b[0m QueueInput_1/queue_size: 50\n",
      "\u001b[32m[0924 10:44:22 @base.py:275]\u001b[0m Start Epoch 65 ...\n"
     ]
    },
    {
     "name": "stderr",
     "output_type": "stream",
     "text": [
      "\n",
      "100%|#################################################################################|2000/2000[00:36<00:00,54.13it/s]"
     ]
    },
    {
     "name": "stdout",
     "output_type": "stream",
     "text": [
      "\u001b[32m[0924 10:44:59 @base.py:285]\u001b[0m Epoch 65 (global_step 130000) finished, time:36.9 seconds.\n",
      "\u001b[32m[0924 10:44:59 @saver.py:79]\u001b[0m Model saved to ../output/Chicago/DATGAN_TEST/model\\model-130000.\n",
      "\u001b[32m[0924 10:44:59 @monitor.py:467]\u001b[0m GAN_loss/discrim/accuracy_fake: 0.925\n",
      "\u001b[32m[0924 10:44:59 @monitor.py:467]\u001b[0m GAN_loss/discrim/accuracy_real: 0.17\n",
      "\u001b[32m[0924 10:44:59 @monitor.py:467]\u001b[0m GAN_loss/discrim/loss: 0.63993\n",
      "\u001b[32m[0924 10:44:59 @monitor.py:467]\u001b[0m GAN_loss/gen/final-g-loss: 1.2995\n",
      "\u001b[32m[0924 10:44:59 @monitor.py:467]\u001b[0m GAN_loss/gen/klloss: 0.238\n",
      "\u001b[32m[0924 10:44:59 @monitor.py:467]\u001b[0m GAN_loss/gen/loss: 1.0615\n",
      "\u001b[32m[0924 10:44:59 @monitor.py:467]\u001b[0m QueueInput/queue_size: 1.3878e-15\n",
      "\u001b[32m[0924 10:44:59 @monitor.py:467]\u001b[0m QueueInput_1/queue_size: 50\n",
      "\u001b[32m[0924 10:44:59 @base.py:275]\u001b[0m Start Epoch 66 ...\n"
     ]
    },
    {
     "name": "stderr",
     "output_type": "stream",
     "text": [
      "\n",
      "100%|#################################################################################|2000/2000[00:36<00:00,54.08it/s]"
     ]
    },
    {
     "name": "stdout",
     "output_type": "stream",
     "text": [
      "\u001b[32m[0924 10:45:36 @base.py:285]\u001b[0m Epoch 66 (global_step 132000) finished, time:37 seconds.\n",
      "\u001b[32m[0924 10:45:36 @saver.py:79]\u001b[0m Model saved to ../output/Chicago/DATGAN_TEST/model\\model-132000.\n",
      "\u001b[32m[0924 10:45:36 @monitor.py:467]\u001b[0m GAN_loss/discrim/accuracy_fake: 0.93\n",
      "\u001b[32m[0924 10:45:36 @monitor.py:467]\u001b[0m GAN_loss/discrim/accuracy_real: 0.17\n",
      "\u001b[32m[0924 10:45:36 @monitor.py:467]\u001b[0m GAN_loss/discrim/loss: 0.64402\n",
      "\u001b[32m[0924 10:45:36 @monitor.py:467]\u001b[0m GAN_loss/gen/final-g-loss: 1.2124\n",
      "\u001b[32m[0924 10:45:36 @monitor.py:467]\u001b[0m GAN_loss/gen/klloss: 0.15509\n",
      "\u001b[32m[0924 10:45:36 @monitor.py:467]\u001b[0m GAN_loss/gen/loss: 1.0573\n",
      "\u001b[32m[0924 10:45:36 @monitor.py:467]\u001b[0m QueueInput/queue_size: 6.9389e-16\n",
      "\u001b[32m[0924 10:45:36 @monitor.py:467]\u001b[0m QueueInput_1/queue_size: 50\n",
      "\u001b[32m[0924 10:45:36 @base.py:275]\u001b[0m Start Epoch 67 ...\n"
     ]
    },
    {
     "name": "stderr",
     "output_type": "stream",
     "text": [
      "\n",
      "100%|#################################################################################|2000/2000[00:37<00:00,53.61it/s]"
     ]
    },
    {
     "name": "stdout",
     "output_type": "stream",
     "text": [
      "\u001b[32m[0924 10:46:13 @base.py:285]\u001b[0m Epoch 67 (global_step 134000) finished, time:37.3 seconds.\n",
      "\u001b[32m[0924 10:46:13 @saver.py:79]\u001b[0m Model saved to ../output/Chicago/DATGAN_TEST/model\\model-134000.\n",
      "\u001b[32m[0924 10:46:13 @monitor.py:467]\u001b[0m GAN_loss/discrim/accuracy_fake: 0.935\n",
      "\u001b[32m[0924 10:46:13 @monitor.py:467]\u001b[0m GAN_loss/discrim/accuracy_real: 0.135\n",
      "\u001b[32m[0924 10:46:13 @monitor.py:467]\u001b[0m GAN_loss/discrim/loss: 0.63347\n",
      "\u001b[32m[0924 10:46:13 @monitor.py:467]\u001b[0m GAN_loss/gen/final-g-loss: 1.2907\n",
      "\u001b[32m[0924 10:46:13 @monitor.py:467]\u001b[0m GAN_loss/gen/klloss: 0.21135\n",
      "\u001b[32m[0924 10:46:13 @monitor.py:467]\u001b[0m GAN_loss/gen/loss: 1.0794\n",
      "\u001b[32m[0924 10:46:13 @monitor.py:467]\u001b[0m QueueInput/queue_size: 3.4694e-16\n",
      "\u001b[32m[0924 10:46:13 @monitor.py:467]\u001b[0m QueueInput_1/queue_size: 50\n",
      "\u001b[32m[0924 10:46:13 @base.py:275]\u001b[0m Start Epoch 68 ...\n"
     ]
    },
    {
     "name": "stderr",
     "output_type": "stream",
     "text": [
      "\n",
      "100%|#################################################################################|2000/2000[00:37<00:00,54.00it/s]"
     ]
    },
    {
     "name": "stdout",
     "output_type": "stream",
     "text": [
      "\u001b[32m[0924 10:46:50 @base.py:285]\u001b[0m Epoch 68 (global_step 136000) finished, time:37 seconds.\n"
     ]
    },
    {
     "name": "stderr",
     "output_type": "stream",
     "text": [
      "\n"
     ]
    },
    {
     "name": "stdout",
     "output_type": "stream",
     "text": [
      "\u001b[32m[0924 10:46:50 @saver.py:79]\u001b[0m Model saved to ../output/Chicago/DATGAN_TEST/model\\model-136000.\n",
      "\u001b[32m[0924 10:46:50 @monitor.py:467]\u001b[0m GAN_loss/discrim/accuracy_fake: 0.92\n",
      "\u001b[32m[0924 10:46:50 @monitor.py:467]\u001b[0m GAN_loss/discrim/accuracy_real: 0.155\n",
      "\u001b[32m[0924 10:46:50 @monitor.py:467]\u001b[0m GAN_loss/discrim/loss: 0.63906\n",
      "\u001b[32m[0924 10:46:50 @monitor.py:467]\u001b[0m GAN_loss/gen/final-g-loss: 1.3355\n",
      "\u001b[32m[0924 10:46:50 @monitor.py:467]\u001b[0m GAN_loss/gen/klloss: 0.27061\n",
      "\u001b[32m[0924 10:46:50 @monitor.py:467]\u001b[0m GAN_loss/gen/loss: 1.0649\n",
      "\u001b[32m[0924 10:46:50 @monitor.py:467]\u001b[0m QueueInput/queue_size: 1.7347e-16\n",
      "\u001b[32m[0924 10:46:50 @monitor.py:467]\u001b[0m QueueInput_1/queue_size: 50\n",
      "\u001b[32m[0924 10:46:50 @base.py:275]\u001b[0m Start Epoch 69 ...\n"
     ]
    },
    {
     "name": "stderr",
     "output_type": "stream",
     "text": [
      "100%|#################################################################################|2000/2000[00:37<00:00,53.92it/s]"
     ]
    },
    {
     "name": "stdout",
     "output_type": "stream",
     "text": [
      "\u001b[32m[0924 10:47:27 @base.py:285]\u001b[0m Epoch 69 (global_step 138000) finished, time:37.1 seconds.\n",
      "\u001b[32m[0924 10:47:27 @saver.py:79]\u001b[0m Model saved to ../output/Chicago/DATGAN_TEST/model\\model-138000.\n",
      "\u001b[32m[0924 10:47:27 @monitor.py:467]\u001b[0m GAN_loss/discrim/accuracy_fake: 0.88\n"
     ]
    },
    {
     "name": "stderr",
     "output_type": "stream",
     "text": [
      "\n"
     ]
    },
    {
     "name": "stdout",
     "output_type": "stream",
     "text": [
      "\u001b[32m[0924 10:47:27 @monitor.py:467]\u001b[0m GAN_loss/discrim/accuracy_real: 0.145\n",
      "\u001b[32m[0924 10:47:27 @monitor.py:467]\u001b[0m GAN_loss/discrim/loss: 0.6562\n",
      "\u001b[32m[0924 10:47:27 @monitor.py:467]\u001b[0m GAN_loss/gen/final-g-loss: 1.3568\n",
      "\u001b[32m[0924 10:47:27 @monitor.py:467]\u001b[0m GAN_loss/gen/klloss: 0.31805\n",
      "\u001b[32m[0924 10:47:27 @monitor.py:467]\u001b[0m GAN_loss/gen/loss: 1.0387\n",
      "\u001b[32m[0924 10:47:27 @monitor.py:467]\u001b[0m QueueInput/queue_size: 8.6736e-17\n",
      "\u001b[32m[0924 10:47:27 @monitor.py:467]\u001b[0m QueueInput_1/queue_size: 50\n",
      "\u001b[32m[0924 10:47:27 @base.py:275]\u001b[0m Start Epoch 70 ...\n"
     ]
    },
    {
     "name": "stderr",
     "output_type": "stream",
     "text": [
      "100%|#################################################################################|2000/2000[00:37<00:00,54.01it/s]"
     ]
    },
    {
     "name": "stdout",
     "output_type": "stream",
     "text": [
      "\u001b[32m[0924 10:48:04 @base.py:285]\u001b[0m Epoch 70 (global_step 140000) finished, time:37 seconds.\n",
      "\u001b[32m[0924 10:48:05 @saver.py:79]\u001b[0m Model saved to ../output/Chicago/DATGAN_TEST/model\\model-140000.\n",
      "\u001b[32m[0924 10:48:05 @monitor.py:467]\u001b[0m GAN_loss/discrim/accuracy_fake: 0.87\n",
      "\u001b[32m[0924 10:48:05 @monitor.py:467]\u001b[0m GAN_loss/discrim/accuracy_real: 0.185\n",
      "\u001b[32m[0924 10:48:05 @monitor.py:467]\u001b[0m GAN_loss/discrim/loss: 0.6518\n",
      "\u001b[32m[0924 10:48:05 @monitor.py:467]\u001b[0m GAN_loss/gen/final-g-loss: 1.3157\n",
      "\u001b[32m[0924 10:48:05 @monitor.py:467]\u001b[0m GAN_loss/gen/klloss: 0.27384\n",
      "\u001b[32m[0924 10:48:05 @monitor.py:467]\u001b[0m GAN_loss/gen/loss: 1.0418\n",
      "\u001b[32m[0924 10:48:05 @monitor.py:467]\u001b[0m QueueInput/queue_size: 4.3368e-17\n",
      "\u001b[32m[0924 10:48:05 @monitor.py:467]\u001b[0m QueueInput_1/queue_size: 50\n",
      "\u001b[32m[0924 10:48:05 @base.py:275]\u001b[0m Start Epoch 71 ...\n"
     ]
    },
    {
     "name": "stderr",
     "output_type": "stream",
     "text": [
      "\n",
      "100%|#################################################################################|2000/2000[00:37<00:00,53.46it/s]"
     ]
    },
    {
     "name": "stdout",
     "output_type": "stream",
     "text": [
      "\u001b[32m[0924 10:48:42 @base.py:285]\u001b[0m Epoch 71 (global_step 142000) finished, time:37.4 seconds.\n",
      "\u001b[32m[0924 10:48:42 @saver.py:79]\u001b[0m Model saved to ../output/Chicago/DATGAN_TEST/model\\model-142000.\n",
      "\u001b[32m[0924 10:48:42 @monitor.py:467]\u001b[0m GAN_loss/discrim/accuracy_fake: 0.935\n",
      "\u001b[32m[0924 10:48:42 @monitor.py:467]\u001b[0m GAN_loss/discrim/accuracy_real: 0.16\n",
      "\u001b[32m[0924 10:48:42 @monitor.py:467]\u001b[0m GAN_loss/discrim/loss: 0.64534\n",
      "\u001b[32m[0924 10:48:42 @monitor.py:467]\u001b[0m GAN_loss/gen/final-g-loss: 1.3939\n",
      "\u001b[32m[0924 10:48:42 @monitor.py:467]\u001b[0m GAN_loss/gen/klloss: 0.33006\n",
      "\u001b[32m[0924 10:48:42 @monitor.py:467]\u001b[0m GAN_loss/gen/loss: 1.0639\n",
      "\u001b[32m[0924 10:48:42 @monitor.py:467]\u001b[0m QueueInput/queue_size: 2.1684e-17\n",
      "\u001b[32m[0924 10:48:42 @monitor.py:467]\u001b[0m QueueInput_1/queue_size: 50\n",
      "\u001b[32m[0924 10:48:42 @base.py:275]\u001b[0m Start Epoch 72 ...\n"
     ]
    },
    {
     "name": "stderr",
     "output_type": "stream",
     "text": [
      "\n",
      "100%|#################################################################################|2000/2000[00:37<00:00,53.67it/s]"
     ]
    },
    {
     "name": "stdout",
     "output_type": "stream",
     "text": [
      "\u001b[32m[0924 10:49:19 @base.py:285]\u001b[0m Epoch 72 (global_step 144000) finished, time:37.3 seconds.\n",
      "\u001b[32m[0924 10:49:19 @saver.py:79]\u001b[0m Model saved to ../output/Chicago/DATGAN_TEST/model\\model-144000.\n",
      "\u001b[32m[0924 10:49:19 @monitor.py:467]\u001b[0m GAN_loss/discrim/accuracy_fake: 0.945\n",
      "\u001b[32m[0924 10:49:19 @monitor.py:467]\u001b[0m GAN_loss/discrim/accuracy_real: 0.135\n",
      "\u001b[32m[0924 10:49:19 @monitor.py:467]\u001b[0m GAN_loss/discrim/loss: 0.63706\n",
      "\u001b[32m[0924 10:49:19 @monitor.py:467]\u001b[0m GAN_loss/gen/final-g-loss: 1.3063\n",
      "\u001b[32m[0924 10:49:19 @monitor.py:467]\u001b[0m GAN_loss/gen/klloss: 0.23391\n",
      "\u001b[32m[0924 10:49:19 @monitor.py:467]\u001b[0m GAN_loss/gen/loss: 1.0724\n",
      "\u001b[32m[0924 10:49:19 @monitor.py:467]\u001b[0m QueueInput/queue_size: 1.0842e-17\n",
      "\u001b[32m[0924 10:49:19 @monitor.py:467]\u001b[0m QueueInput_1/queue_size: 50\n",
      "\u001b[32m[0924 10:49:19 @base.py:275]\u001b[0m Start Epoch 73 ...\n"
     ]
    },
    {
     "name": "stderr",
     "output_type": "stream",
     "text": [
      "\n",
      "100%|#################################################################################|2000/2000[00:37<00:00,54.01it/s]"
     ]
    },
    {
     "name": "stdout",
     "output_type": "stream",
     "text": [
      "\u001b[32m[0924 10:49:56 @base.py:285]\u001b[0m Epoch 73 (global_step 146000) finished, time:37 seconds.\n",
      "\u001b[32m[0924 10:49:56 @saver.py:79]\u001b[0m Model saved to ../output/Chicago/DATGAN_TEST/model\\model-146000.\n",
      "\u001b[32m[0924 10:49:57 @monitor.py:467]\u001b[0m GAN_loss/discrim/accuracy_fake: 0.915\n",
      "\u001b[32m[0924 10:49:57 @monitor.py:467]\u001b[0m GAN_loss/discrim/accuracy_real: 0.15\n",
      "\u001b[32m[0924 10:49:57 @monitor.py:467]\u001b[0m GAN_loss/discrim/loss: 0.64177\n",
      "\u001b[32m[0924 10:49:57 @monitor.py:467]\u001b[0m GAN_loss/gen/final-g-loss: 1.3385\n",
      "\u001b[32m[0924 10:49:57 @monitor.py:467]\u001b[0m GAN_loss/gen/klloss: 0.27389\n",
      "\u001b[32m[0924 10:49:57 @monitor.py:467]\u001b[0m GAN_loss/gen/loss: 1.0646\n",
      "\u001b[32m[0924 10:49:57 @monitor.py:467]\u001b[0m QueueInput/queue_size: 5.421e-18\n",
      "\u001b[32m[0924 10:49:57 @monitor.py:467]\u001b[0m QueueInput_1/queue_size: 50\n",
      "\u001b[32m[0924 10:49:57 @base.py:275]\u001b[0m Start Epoch 74 ...\n"
     ]
    },
    {
     "name": "stderr",
     "output_type": "stream",
     "text": [
      "\n",
      "100%|#################################################################################|2000/2000[00:37<00:00,53.99it/s]"
     ]
    },
    {
     "name": "stdout",
     "output_type": "stream",
     "text": [
      "\u001b[32m[0924 10:50:34 @base.py:285]\u001b[0m Epoch 74 (global_step 148000) finished, time:37 seconds.\n",
      "\u001b[32m[0924 10:50:34 @saver.py:79]\u001b[0m Model saved to ../output/Chicago/DATGAN_TEST/model\\model-148000.\n",
      "\u001b[32m[0924 10:50:34 @monitor.py:467]\u001b[0m GAN_loss/discrim/accuracy_fake: 0.895\n",
      "\u001b[32m[0924 10:50:34 @monitor.py:467]\u001b[0m GAN_loss/discrim/accuracy_real: 0.16\n",
      "\u001b[32m[0924 10:50:34 @monitor.py:467]\u001b[0m GAN_loss/discrim/loss: 0.64785\n",
      "\u001b[32m[0924 10:50:34 @monitor.py:467]\u001b[0m GAN_loss/gen/final-g-loss: 1.2762\n",
      "\u001b[32m[0924 10:50:34 @monitor.py:467]\u001b[0m GAN_loss/gen/klloss: 0.22371\n",
      "\u001b[32m[0924 10:50:34 @monitor.py:467]\u001b[0m GAN_loss/gen/loss: 1.0524\n",
      "\u001b[32m[0924 10:50:34 @monitor.py:467]\u001b[0m QueueInput/queue_size: 2.7105e-18\n",
      "\u001b[32m[0924 10:50:34 @monitor.py:467]\u001b[0m QueueInput_1/queue_size: 50\n",
      "\u001b[32m[0924 10:50:34 @base.py:275]\u001b[0m Start Epoch 75 ...\n"
     ]
    },
    {
     "name": "stderr",
     "output_type": "stream",
     "text": [
      "\n",
      "100%|#################################################################################|2000/2000[00:37<00:00,53.45it/s]"
     ]
    },
    {
     "name": "stdout",
     "output_type": "stream",
     "text": [
      "\u001b[32m[0924 10:51:11 @base.py:285]\u001b[0m Epoch 75 (global_step 150000) finished, time:37.4 seconds.\n",
      "\u001b[32m[0924 10:51:11 @saver.py:79]\u001b[0m Model saved to ../output/Chicago/DATGAN_TEST/model\\model-150000.\n",
      "\u001b[32m[0924 10:51:11 @monitor.py:467]\u001b[0m GAN_loss/discrim/accuracy_fake: 0.89\n",
      "\u001b[32m[0924 10:51:11 @monitor.py:467]\u001b[0m GAN_loss/discrim/accuracy_real: 0.195\n",
      "\u001b[32m[0924 10:51:11 @monitor.py:467]\u001b[0m GAN_loss/discrim/loss: 0.6382\n",
      "\u001b[32m[0924 10:51:11 @monitor.py:467]\u001b[0m GAN_loss/gen/final-g-loss: 1.278\n",
      "\u001b[32m[0924 10:51:11 @monitor.py:467]\u001b[0m GAN_loss/gen/klloss: 0.20755\n",
      "\u001b[32m[0924 10:51:11 @monitor.py:467]\u001b[0m GAN_loss/gen/loss: 1.0704\n",
      "\u001b[32m[0924 10:51:11 @monitor.py:467]\u001b[0m QueueInput/queue_size: 1.3553e-18\n",
      "\u001b[32m[0924 10:51:11 @monitor.py:467]\u001b[0m QueueInput_1/queue_size: 50\n",
      "\u001b[32m[0924 10:51:11 @base.py:275]\u001b[0m Start Epoch 76 ...\n"
     ]
    },
    {
     "name": "stderr",
     "output_type": "stream",
     "text": [
      "\n",
      "100%|#################################################################################|2000/2000[00:37<00:00,53.59it/s]"
     ]
    },
    {
     "name": "stdout",
     "output_type": "stream",
     "text": [
      "\u001b[32m[0924 10:51:48 @base.py:285]\u001b[0m Epoch 76 (global_step 152000) finished, time:37.3 seconds.\n",
      "\u001b[32m[0924 10:51:49 @saver.py:79]\u001b[0m Model saved to ../output/Chicago/DATGAN_TEST/model\\model-152000.\n",
      "\u001b[32m[0924 10:51:49 @monitor.py:467]\u001b[0m GAN_loss/discrim/accuracy_fake: 0.935\n",
      "\u001b[32m[0924 10:51:49 @monitor.py:467]\u001b[0m GAN_loss/discrim/accuracy_real: 0.155\n",
      "\u001b[32m[0924 10:51:49 @monitor.py:467]\u001b[0m GAN_loss/discrim/loss: 0.64575\n",
      "\u001b[32m[0924 10:51:49 @monitor.py:467]\u001b[0m GAN_loss/gen/final-g-loss: 1.2126\n",
      "\u001b[32m[0924 10:51:49 @monitor.py:467]\u001b[0m GAN_loss/gen/klloss: 0.14106\n",
      "\u001b[32m[0924 10:51:49 @monitor.py:467]\u001b[0m GAN_loss/gen/loss: 1.0715\n",
      "\u001b[32m[0924 10:51:49 @monitor.py:467]\u001b[0m QueueInput/queue_size: 6.7763e-19\n",
      "\u001b[32m[0924 10:51:49 @monitor.py:467]\u001b[0m QueueInput_1/queue_size: 50\n",
      "\u001b[32m[0924 10:51:49 @base.py:275]\u001b[0m Start Epoch 77 ...\n"
     ]
    },
    {
     "name": "stderr",
     "output_type": "stream",
     "text": [
      "\n",
      "100%|#################################################################################|2000/2000[00:37<00:00,53.51it/s]"
     ]
    },
    {
     "name": "stdout",
     "output_type": "stream",
     "text": [
      "\u001b[32m[0924 10:52:26 @base.py:285]\u001b[0m Epoch 77 (global_step 154000) finished, time:37.4 seconds.\n",
      "\u001b[32m[0924 10:52:26 @saver.py:79]\u001b[0m Model saved to ../output/Chicago/DATGAN_TEST/model\\model-154000.\n",
      "\u001b[32m[0924 10:52:26 @monitor.py:467]\u001b[0m GAN_loss/discrim/accuracy_fake: 0.885\n"
     ]
    },
    {
     "name": "stderr",
     "output_type": "stream",
     "text": [
      "\n"
     ]
    },
    {
     "name": "stdout",
     "output_type": "stream",
     "text": [
      "\u001b[32m[0924 10:52:26 @monitor.py:467]\u001b[0m GAN_loss/discrim/accuracy_real: 0.2\n",
      "\u001b[32m[0924 10:52:26 @monitor.py:467]\u001b[0m GAN_loss/discrim/loss: 0.64513\n",
      "\u001b[32m[0924 10:52:26 @monitor.py:467]\u001b[0m GAN_loss/gen/final-g-loss: 1.2411\n",
      "\u001b[32m[0924 10:52:26 @monitor.py:467]\u001b[0m GAN_loss/gen/klloss: 0.17665\n",
      "\u001b[32m[0924 10:52:26 @monitor.py:467]\u001b[0m GAN_loss/gen/loss: 1.0645\n",
      "\u001b[32m[0924 10:52:26 @monitor.py:467]\u001b[0m QueueInput/queue_size: 3.3881e-19\n",
      "\u001b[32m[0924 10:52:26 @monitor.py:467]\u001b[0m QueueInput_1/queue_size: 50\n",
      "\u001b[32m[0924 10:52:26 @base.py:275]\u001b[0m Start Epoch 78 ...\n"
     ]
    },
    {
     "name": "stderr",
     "output_type": "stream",
     "text": [
      "100%|#################################################################################|2000/2000[00:37<00:00,53.72it/s]"
     ]
    },
    {
     "name": "stdout",
     "output_type": "stream",
     "text": [
      "\u001b[32m[0924 10:53:03 @base.py:285]\u001b[0m Epoch 78 (global_step 156000) finished, time:37.2 seconds.\n",
      "\u001b[32m[0924 10:53:03 @saver.py:79]\u001b[0m Model saved to ../output/Chicago/DATGAN_TEST/model\\model-156000.\n",
      "\u001b[32m[0924 10:53:03 @monitor.py:467]\u001b[0m GAN_loss/discrim/accuracy_fake: 0.925\n",
      "\u001b[32m[0924 10:53:03 @monitor.py:467]\u001b[0m GAN_loss/discrim/accuracy_real: 0.165\n",
      "\u001b[32m[0924 10:53:03 @monitor.py:467]\u001b[0m GAN_loss/discrim/loss: 0.65048\n",
      "\u001b[32m[0924 10:53:03 @monitor.py:467]\u001b[0m GAN_loss/gen/final-g-loss: 1.3541\n",
      "\u001b[32m[0924 10:53:03 @monitor.py:467]\u001b[0m GAN_loss/gen/klloss: 0.29535\n",
      "\u001b[32m[0924 10:53:03 @monitor.py:467]\u001b[0m GAN_loss/gen/loss: 1.0587\n",
      "\u001b[32m[0924 10:53:03 @monitor.py:467]\u001b[0m QueueInput/queue_size: 1.6941e-19\n",
      "\u001b[32m[0924 10:53:03 @monitor.py:467]\u001b[0m QueueInput_1/queue_size: 50\n",
      "\u001b[32m[0924 10:53:03 @base.py:275]\u001b[0m Start Epoch 79 ...\n"
     ]
    },
    {
     "name": "stderr",
     "output_type": "stream",
     "text": [
      "\n",
      "100%|#################################################################################|2000/2000[00:37<00:00,53.76it/s]"
     ]
    },
    {
     "name": "stdout",
     "output_type": "stream",
     "text": [
      "\u001b[32m[0924 10:53:41 @base.py:285]\u001b[0m Epoch 79 (global_step 158000) finished, time:37.2 seconds.\n",
      "\u001b[32m[0924 10:53:41 @saver.py:79]\u001b[0m Model saved to ../output/Chicago/DATGAN_TEST/model\\model-158000.\n",
      "\u001b[32m[0924 10:53:41 @monitor.py:467]\u001b[0m GAN_loss/discrim/accuracy_fake: 0.895\n",
      "\u001b[32m[0924 10:53:41 @monitor.py:467]\u001b[0m GAN_loss/discrim/accuracy_real: 0.155\n",
      "\u001b[32m[0924 10:53:41 @monitor.py:467]\u001b[0m GAN_loss/discrim/loss: 0.64554\n",
      "\u001b[32m[0924 10:53:41 @monitor.py:467]\u001b[0m GAN_loss/gen/final-g-loss: 1.2293\n",
      "\u001b[32m[0924 10:53:41 @monitor.py:467]\u001b[0m GAN_loss/gen/klloss: 0.16727\n",
      "\u001b[32m[0924 10:53:41 @monitor.py:467]\u001b[0m GAN_loss/gen/loss: 1.0621\n",
      "\u001b[32m[0924 10:53:41 @monitor.py:467]\u001b[0m QueueInput/queue_size: 8.4703e-20\n",
      "\u001b[32m[0924 10:53:41 @monitor.py:467]\u001b[0m QueueInput_1/queue_size: 50\n",
      "\u001b[32m[0924 10:53:41 @base.py:275]\u001b[0m Start Epoch 80 ...\n"
     ]
    },
    {
     "name": "stderr",
     "output_type": "stream",
     "text": [
      "\n",
      "100%|#################################################################################|2000/2000[00:36<00:00,54.13it/s]"
     ]
    },
    {
     "name": "stdout",
     "output_type": "stream",
     "text": [
      "\u001b[32m[0924 10:54:18 @base.py:285]\u001b[0m Epoch 80 (global_step 160000) finished, time:36.9 seconds.\n",
      "\u001b[32m[0924 10:54:18 @saver.py:79]\u001b[0m Model saved to ../output/Chicago/DATGAN_TEST/model\\model-160000.\n",
      "\u001b[32m[0924 10:54:18 @monitor.py:467]\u001b[0m GAN_loss/discrim/accuracy_fake: 0.945\n",
      "\u001b[32m[0924 10:54:18 @monitor.py:467]\u001b[0m GAN_loss/discrim/accuracy_real: 0.115\n",
      "\u001b[32m[0924 10:54:18 @monitor.py:467]\u001b[0m GAN_loss/discrim/loss: 0.6428\n",
      "\u001b[32m[0924 10:54:18 @monitor.py:467]\u001b[0m GAN_loss/gen/final-g-loss: 1.2184\n",
      "\u001b[32m[0924 10:54:18 @monitor.py:467]\u001b[0m GAN_loss/gen/klloss: 0.13126\n",
      "\u001b[32m[0924 10:54:18 @monitor.py:467]\u001b[0m GAN_loss/gen/loss: 1.0871\n",
      "\u001b[32m[0924 10:54:18 @monitor.py:467]\u001b[0m QueueInput/queue_size: 4.2352e-20\n",
      "\u001b[32m[0924 10:54:18 @monitor.py:467]\u001b[0m QueueInput_1/queue_size: 50\n",
      "\u001b[32m[0924 10:54:18 @base.py:275]\u001b[0m Start Epoch 81 ...\n"
     ]
    },
    {
     "name": "stderr",
     "output_type": "stream",
     "text": [
      "\n",
      "100%|#################################################################################|2000/2000[00:37<00:00,53.82it/s]"
     ]
    },
    {
     "name": "stdout",
     "output_type": "stream",
     "text": [
      "\u001b[32m[0924 10:54:55 @base.py:285]\u001b[0m Epoch 81 (global_step 162000) finished, time:37.2 seconds.\n",
      "\u001b[32m[0924 10:54:55 @saver.py:79]\u001b[0m Model saved to ../output/Chicago/DATGAN_TEST/model\\model-162000.\n",
      "\u001b[32m[0924 10:54:55 @monitor.py:467]\u001b[0m GAN_loss/discrim/accuracy_fake: 0.96\n",
      "\u001b[32m[0924 10:54:55 @monitor.py:467]\u001b[0m GAN_loss/discrim/accuracy_real: 0.145\n",
      "\u001b[32m[0924 10:54:55 @monitor.py:467]\u001b[0m GAN_loss/discrim/loss: 0.62396\n",
      "\u001b[32m[0924 10:54:55 @monitor.py:467]\u001b[0m GAN_loss/gen/final-g-loss: 1.3848\n",
      "\u001b[32m[0924 10:54:55 @monitor.py:467]\u001b[0m GAN_loss/gen/klloss: 0.29317\n",
      "\u001b[32m[0924 10:54:55 @monitor.py:467]\u001b[0m GAN_loss/gen/loss: 1.0916\n",
      "\u001b[32m[0924 10:54:55 @monitor.py:467]\u001b[0m QueueInput/queue_size: 2.1176e-20\n",
      "\u001b[32m[0924 10:54:55 @monitor.py:467]\u001b[0m QueueInput_1/queue_size: 50\n",
      "\u001b[32m[0924 10:54:55 @base.py:275]\u001b[0m Start Epoch 82 ...\n"
     ]
    },
    {
     "name": "stderr",
     "output_type": "stream",
     "text": [
      "\n",
      "100%|#################################################################################|2000/2000[00:37<00:00,53.31it/s]"
     ]
    },
    {
     "name": "stdout",
     "output_type": "stream",
     "text": [
      "\u001b[32m[0924 10:55:32 @base.py:285]\u001b[0m Epoch 82 (global_step 164000) finished, time:37.5 seconds.\n",
      "\u001b[32m[0924 10:55:32 @saver.py:79]\u001b[0m Model saved to ../output/Chicago/DATGAN_TEST/model\\model-164000.\n",
      "\u001b[32m[0924 10:55:33 @monitor.py:467]\u001b[0m GAN_loss/discrim/accuracy_fake: 0.925\n",
      "\u001b[32m[0924 10:55:33 @monitor.py:467]\u001b[0m GAN_loss/discrim/accuracy_real: 0.145\n",
      "\u001b[32m[0924 10:55:33 @monitor.py:467]\u001b[0m GAN_loss/discrim/loss: 0.64593\n",
      "\u001b[32m[0924 10:55:33 @monitor.py:467]\u001b[0m GAN_loss/gen/final-g-loss: 1.3227\n",
      "\u001b[32m[0924 10:55:33 @monitor.py:467]\u001b[0m GAN_loss/gen/klloss: 0.24888\n",
      "\u001b[32m[0924 10:55:33 @monitor.py:467]\u001b[0m GAN_loss/gen/loss: 1.0738\n",
      "\u001b[32m[0924 10:55:33 @monitor.py:467]\u001b[0m QueueInput/queue_size: 1.0588e-20\n",
      "\u001b[32m[0924 10:55:33 @monitor.py:467]\u001b[0m QueueInput_1/queue_size: 50\n",
      "\u001b[32m[0924 10:55:33 @base.py:275]\u001b[0m Start Epoch 83 ...\n"
     ]
    },
    {
     "name": "stderr",
     "output_type": "stream",
     "text": [
      "\n",
      "100%|#################################################################################|2000/2000[00:37<00:00,53.24it/s]"
     ]
    },
    {
     "name": "stdout",
     "output_type": "stream",
     "text": [
      "\u001b[32m[0924 10:56:10 @base.py:285]\u001b[0m Epoch 83 (global_step 166000) finished, time:37.6 seconds.\n",
      "\u001b[32m[0924 10:56:10 @saver.py:79]\u001b[0m Model saved to ../output/Chicago/DATGAN_TEST/model\\model-166000.\n",
      "\u001b[32m[0924 10:56:10 @monitor.py:467]\u001b[0m GAN_loss/discrim/accuracy_fake: 0.945\n",
      "\u001b[32m[0924 10:56:10 @monitor.py:467]\u001b[0m GAN_loss/discrim/accuracy_real: 0.18\n",
      "\u001b[32m[0924 10:56:10 @monitor.py:467]\u001b[0m GAN_loss/discrim/loss: 0.63334\n",
      "\u001b[32m[0924 10:56:10 @monitor.py:467]\u001b[0m GAN_loss/gen/final-g-loss: 1.2473\n",
      "\u001b[32m[0924 10:56:10 @monitor.py:467]\u001b[0m GAN_loss/gen/klloss: 0.16937\n",
      "\u001b[32m[0924 10:56:10 @monitor.py:467]\u001b[0m GAN_loss/gen/loss: 1.078\n",
      "\u001b[32m[0924 10:56:10 @monitor.py:467]\u001b[0m QueueInput/queue_size: 5.294e-21\n",
      "\u001b[32m[0924 10:56:10 @monitor.py:467]\u001b[0m QueueInput_1/queue_size: 50\n",
      "\u001b[32m[0924 10:56:10 @base.py:275]\u001b[0m Start Epoch 84 ...\n"
     ]
    },
    {
     "name": "stderr",
     "output_type": "stream",
     "text": [
      "\n",
      "100%|#################################################################################|2000/2000[00:37<00:00,53.55it/s]"
     ]
    },
    {
     "name": "stdout",
     "output_type": "stream",
     "text": [
      "\u001b[32m[0924 10:56:48 @base.py:285]\u001b[0m Epoch 84 (global_step 168000) finished, time:37.3 seconds.\n",
      "\u001b[32m[0924 10:56:48 @saver.py:79]\u001b[0m Model saved to ../output/Chicago/DATGAN_TEST/model\\model-168000.\n",
      "\u001b[32m[0924 10:56:48 @monitor.py:467]\u001b[0m GAN_loss/discrim/accuracy_fake: 0.91\n",
      "\u001b[32m[0924 10:56:48 @monitor.py:467]\u001b[0m GAN_loss/discrim/accuracy_real: 0.11\n",
      "\u001b[32m[0924 10:56:48 @monitor.py:467]\u001b[0m GAN_loss/discrim/loss: 0.64618\n",
      "\u001b[32m[0924 10:56:48 @monitor.py:467]\u001b[0m GAN_loss/gen/final-g-loss: 1.2263\n",
      "\u001b[32m[0924 10:56:48 @monitor.py:467]\u001b[0m GAN_loss/gen/klloss: 0.16742\n",
      "\u001b[32m[0924 10:56:48 @monitor.py:467]\u001b[0m GAN_loss/gen/loss: 1.0589\n",
      "\u001b[32m[0924 10:56:48 @monitor.py:467]\u001b[0m QueueInput/queue_size: 2.647e-21\n",
      "\u001b[32m[0924 10:56:48 @monitor.py:467]\u001b[0m QueueInput_1/queue_size: 50\n",
      "\u001b[32m[0924 10:56:48 @base.py:275]\u001b[0m Start Epoch 85 ...\n"
     ]
    },
    {
     "name": "stderr",
     "output_type": "stream",
     "text": [
      "\n",
      "100%|#################################################################################|2000/2000[00:37<00:00,53.43it/s]"
     ]
    },
    {
     "name": "stdout",
     "output_type": "stream",
     "text": [
      "\u001b[32m[0924 10:57:25 @base.py:285]\u001b[0m Epoch 85 (global_step 170000) finished, time:37.4 seconds.\n",
      "\u001b[32m[0924 10:57:25 @saver.py:79]\u001b[0m Model saved to ../output/Chicago/DATGAN_TEST/model\\model-170000.\n",
      "\u001b[32m[0924 10:57:25 @monitor.py:467]\u001b[0m GAN_loss/discrim/accuracy_fake: 0.92\n",
      "\u001b[32m[0924 10:57:25 @monitor.py:467]\u001b[0m GAN_loss/discrim/accuracy_real: 0.145\n",
      "\u001b[32m[0924 10:57:25 @monitor.py:467]\u001b[0m GAN_loss/discrim/loss: 0.64588\n",
      "\u001b[32m[0924 10:57:25 @monitor.py:467]\u001b[0m GAN_loss/gen/final-g-loss: 1.3476\n",
      "\u001b[32m[0924 10:57:25 @monitor.py:467]\u001b[0m GAN_loss/gen/klloss: 0.27131\n",
      "\u001b[32m[0924 10:57:25 @monitor.py:467]\u001b[0m GAN_loss/gen/loss: 1.0762\n",
      "\u001b[32m[0924 10:57:25 @monitor.py:467]\u001b[0m QueueInput/queue_size: 1.3235e-21\n",
      "\u001b[32m[0924 10:57:25 @monitor.py:467]\u001b[0m QueueInput_1/queue_size: 50\n",
      "\u001b[32m[0924 10:57:25 @base.py:275]\u001b[0m Start Epoch 86 ...\n"
     ]
    },
    {
     "name": "stderr",
     "output_type": "stream",
     "text": [
      "\n",
      "100%|#################################################################################|2000/2000[00:37<00:00,53.23it/s]"
     ]
    },
    {
     "name": "stdout",
     "output_type": "stream",
     "text": [
      "\u001b[32m[0924 10:58:03 @base.py:285]\u001b[0m Epoch 86 (global_step 172000) finished, time:37.6 seconds.\n",
      "\u001b[32m[0924 10:58:03 @saver.py:79]\u001b[0m Model saved to ../output/Chicago/DATGAN_TEST/model\\model-172000.\n",
      "\u001b[32m[0924 10:58:03 @monitor.py:467]\u001b[0m GAN_loss/discrim/accuracy_fake: 0.92\n",
      "\u001b[32m[0924 10:58:03 @monitor.py:467]\u001b[0m GAN_loss/discrim/accuracy_real: 0.16\n",
      "\u001b[32m[0924 10:58:03 @monitor.py:467]\u001b[0m GAN_loss/discrim/loss: 0.64964\n",
      "\u001b[32m[0924 10:58:03 @monitor.py:467]\u001b[0m GAN_loss/gen/final-g-loss: 1.2546\n",
      "\u001b[32m[0924 10:58:03 @monitor.py:467]\u001b[0m GAN_loss/gen/klloss: 0.21856\n",
      "\u001b[32m[0924 10:58:03 @monitor.py:467]\u001b[0m GAN_loss/gen/loss: 1.036\n",
      "\u001b[32m[0924 10:58:03 @monitor.py:467]\u001b[0m QueueInput/queue_size: 6.6174e-22\n",
      "\u001b[32m[0924 10:58:03 @monitor.py:467]\u001b[0m QueueInput_1/queue_size: 50\n",
      "\u001b[32m[0924 10:58:03 @base.py:275]\u001b[0m Start Epoch 87 ...\n"
     ]
    },
    {
     "name": "stderr",
     "output_type": "stream",
     "text": [
      "\n",
      "100%|#################################################################################|2000/2000[00:37<00:00,53.00it/s]"
     ]
    },
    {
     "name": "stdout",
     "output_type": "stream",
     "text": [
      "\u001b[32m[0924 10:58:41 @base.py:285]\u001b[0m Epoch 87 (global_step 174000) finished, time:37.7 seconds.\n",
      "\u001b[32m[0924 10:58:41 @saver.py:79]\u001b[0m Model saved to ../output/Chicago/DATGAN_TEST/model\\model-174000.\n",
      "\u001b[32m[0924 10:58:41 @monitor.py:467]\u001b[0m GAN_loss/discrim/accuracy_fake: 0.9\n",
      "\u001b[32m[0924 10:58:41 @monitor.py:467]\u001b[0m GAN_loss/discrim/accuracy_real: 0.17\n",
      "\u001b[32m[0924 10:58:41 @monitor.py:467]\u001b[0m GAN_loss/discrim/loss: 0.64851\n",
      "\u001b[32m[0924 10:58:41 @monitor.py:467]\u001b[0m GAN_loss/gen/final-g-loss: 1.3338\n",
      "\u001b[32m[0924 10:58:41 @monitor.py:467]\u001b[0m GAN_loss/gen/klloss: 0.25983\n",
      "\u001b[32m[0924 10:58:41 @monitor.py:467]\u001b[0m GAN_loss/gen/loss: 1.0739\n",
      "\u001b[32m[0924 10:58:41 @monitor.py:467]\u001b[0m QueueInput/queue_size: 3.3087e-22\n",
      "\u001b[32m[0924 10:58:41 @monitor.py:467]\u001b[0m QueueInput_1/queue_size: 50\n",
      "\u001b[32m[0924 10:58:41 @base.py:275]\u001b[0m Start Epoch 88 ...\n"
     ]
    },
    {
     "name": "stderr",
     "output_type": "stream",
     "text": [
      "\n",
      "100%|#################################################################################|2000/2000[00:37<00:00,53.34it/s]"
     ]
    },
    {
     "name": "stdout",
     "output_type": "stream",
     "text": [
      "\u001b[32m[0924 10:59:18 @base.py:285]\u001b[0m Epoch 88 (global_step 176000) finished, time:37.5 seconds.\n",
      "\u001b[32m[0924 10:59:18 @saver.py:79]\u001b[0m Model saved to ../output/Chicago/DATGAN_TEST/model\\model-176000.\n",
      "\u001b[32m[0924 10:59:18 @monitor.py:467]\u001b[0m GAN_loss/discrim/accuracy_fake: 0.89\n",
      "\u001b[32m[0924 10:59:18 @monitor.py:467]\u001b[0m GAN_loss/discrim/accuracy_real: 0.13\n",
      "\u001b[32m[0924 10:59:18 @monitor.py:467]\u001b[0m GAN_loss/discrim/loss: 0.6364\n",
      "\u001b[32m[0924 10:59:18 @monitor.py:467]\u001b[0m GAN_loss/gen/final-g-loss: 1.2401\n",
      "\u001b[32m[0924 10:59:18 @monitor.py:467]\u001b[0m GAN_loss/gen/klloss: 0.13243\n",
      "\u001b[32m[0924 10:59:18 @monitor.py:467]\u001b[0m GAN_loss/gen/loss: 1.1077\n",
      "\u001b[32m[0924 10:59:18 @monitor.py:467]\u001b[0m QueueInput/queue_size: 1.6544e-22\n",
      "\u001b[32m[0924 10:59:18 @monitor.py:467]\u001b[0m QueueInput_1/queue_size: 50\n",
      "\u001b[32m[0924 10:59:18 @base.py:275]\u001b[0m Start Epoch 89 ...\n"
     ]
    },
    {
     "name": "stderr",
     "output_type": "stream",
     "text": [
      "\n",
      "100%|#################################################################################|2000/2000[00:37<00:00,53.90it/s]"
     ]
    },
    {
     "name": "stdout",
     "output_type": "stream",
     "text": [
      "\u001b[32m[0924 10:59:55 @base.py:285]\u001b[0m Epoch 89 (global_step 178000) finished, time:37.1 seconds.\n",
      "\u001b[32m[0924 10:59:55 @saver.py:79]\u001b[0m Model saved to ../output/Chicago/DATGAN_TEST/model\\model-178000.\n",
      "\u001b[32m[0924 10:59:55 @monitor.py:467]\u001b[0m GAN_loss/discrim/accuracy_fake: 0.92\n",
      "\u001b[32m[0924 10:59:55 @monitor.py:467]\u001b[0m GAN_loss/discrim/accuracy_real: 0.145\n",
      "\u001b[32m[0924 10:59:55 @monitor.py:467]\u001b[0m GAN_loss/discrim/loss: 0.64573\n",
      "\u001b[32m[0924 10:59:55 @monitor.py:467]\u001b[0m GAN_loss/gen/final-g-loss: 1.2539\n",
      "\u001b[32m[0924 10:59:55 @monitor.py:467]\u001b[0m GAN_loss/gen/klloss: 0.18228\n",
      "\u001b[32m[0924 10:59:55 @monitor.py:467]\u001b[0m GAN_loss/gen/loss: 1.0716\n",
      "\u001b[32m[0924 10:59:55 @monitor.py:467]\u001b[0m QueueInput/queue_size: 8.2718e-23\n",
      "\u001b[32m[0924 10:59:55 @monitor.py:467]\u001b[0m QueueInput_1/queue_size: 50\n",
      "\u001b[32m[0924 10:59:55 @base.py:275]\u001b[0m Start Epoch 90 ...\n"
     ]
    },
    {
     "name": "stderr",
     "output_type": "stream",
     "text": [
      "\n",
      "100%|#################################################################################|2000/2000[00:37<00:00,53.56it/s]"
     ]
    },
    {
     "name": "stdout",
     "output_type": "stream",
     "text": [
      "\u001b[32m[0924 11:00:33 @base.py:285]\u001b[0m Epoch 90 (global_step 180000) finished, time:37.3 seconds.\n",
      "\u001b[32m[0924 11:00:33 @saver.py:79]\u001b[0m Model saved to ../output/Chicago/DATGAN_TEST/model\\model-180000.\n",
      "\u001b[32m[0924 11:00:33 @monitor.py:467]\u001b[0m GAN_loss/discrim/accuracy_fake: 0.9\n",
      "\u001b[32m[0924 11:00:33 @monitor.py:467]\u001b[0m GAN_loss/discrim/accuracy_real: 0.16\n",
      "\u001b[32m[0924 11:00:33 @monitor.py:467]\u001b[0m GAN_loss/discrim/loss: 0.64697\n",
      "\u001b[32m[0924 11:00:33 @monitor.py:467]\u001b[0m GAN_loss/gen/final-g-loss: 1.3448\n",
      "\u001b[32m[0924 11:00:33 @monitor.py:467]\u001b[0m GAN_loss/gen/klloss: 0.26023\n",
      "\u001b[32m[0924 11:00:33 @monitor.py:467]\u001b[0m GAN_loss/gen/loss: 1.0846\n",
      "\u001b[32m[0924 11:00:33 @monitor.py:467]\u001b[0m QueueInput/queue_size: 4.1359e-23\n",
      "\u001b[32m[0924 11:00:33 @monitor.py:467]\u001b[0m QueueInput_1/queue_size: 50\n",
      "\u001b[32m[0924 11:00:33 @base.py:275]\u001b[0m Start Epoch 91 ...\n"
     ]
    },
    {
     "name": "stderr",
     "output_type": "stream",
     "text": [
      "\n",
      "100%|#################################################################################|2000/2000[00:37<00:00,53.95it/s]"
     ]
    },
    {
     "name": "stdout",
     "output_type": "stream",
     "text": [
      "\u001b[32m[0924 11:01:10 @base.py:285]\u001b[0m Epoch 91 (global_step 182000) finished, time:37.1 seconds.\n",
      "\u001b[32m[0924 11:01:10 @saver.py:79]\u001b[0m Model saved to ../output/Chicago/DATGAN_TEST/model\\model-182000.\n"
     ]
    },
    {
     "name": "stderr",
     "output_type": "stream",
     "text": [
      "\n"
     ]
    },
    {
     "name": "stdout",
     "output_type": "stream",
     "text": [
      "\u001b[32m[0924 11:01:10 @monitor.py:467]\u001b[0m GAN_loss/discrim/accuracy_fake: 0.9\n",
      "\u001b[32m[0924 11:01:10 @monitor.py:467]\u001b[0m GAN_loss/discrim/accuracy_real: 0.13\n",
      "\u001b[32m[0924 11:01:10 @monitor.py:467]\u001b[0m GAN_loss/discrim/loss: 0.64469\n",
      "\u001b[32m[0924 11:01:10 @monitor.py:467]\u001b[0m GAN_loss/gen/final-g-loss: 1.2545\n",
      "\u001b[32m[0924 11:01:10 @monitor.py:467]\u001b[0m GAN_loss/gen/klloss: 0.19514\n",
      "\u001b[32m[0924 11:01:10 @monitor.py:467]\u001b[0m GAN_loss/gen/loss: 1.0594\n",
      "\u001b[32m[0924 11:01:10 @monitor.py:467]\u001b[0m QueueInput/queue_size: 2.068e-23\n",
      "\u001b[32m[0924 11:01:10 @monitor.py:467]\u001b[0m QueueInput_1/queue_size: 50\n",
      "\u001b[32m[0924 11:01:10 @base.py:275]\u001b[0m Start Epoch 92 ...\n"
     ]
    },
    {
     "name": "stderr",
     "output_type": "stream",
     "text": [
      "100%|#################################################################################|2000/2000[00:37<00:00,54.00it/s]"
     ]
    },
    {
     "name": "stdout",
     "output_type": "stream",
     "text": [
      "\u001b[32m[0924 11:01:47 @base.py:285]\u001b[0m Epoch 92 (global_step 184000) finished, time:37 seconds.\n",
      "\u001b[32m[0924 11:01:47 @saver.py:79]\u001b[0m Model saved to ../output/Chicago/DATGAN_TEST/model\\model-184000.\n",
      "\u001b[32m[0924 11:01:47 @monitor.py:467]\u001b[0m GAN_loss/discrim/accuracy_fake: 0.895\n",
      "\u001b[32m[0924 11:01:47 @monitor.py:467]\u001b[0m GAN_loss/discrim/accuracy_real: 0.185\n",
      "\u001b[32m[0924 11:01:47 @monitor.py:467]\u001b[0m GAN_loss/discrim/loss: 0.64101\n",
      "\u001b[32m[0924 11:01:47 @monitor.py:467]\u001b[0m GAN_loss/gen/final-g-loss: 1.2791\n",
      "\u001b[32m[0924 11:01:47 @monitor.py:467]\u001b[0m GAN_loss/gen/klloss: 0.20311\n",
      "\u001b[32m[0924 11:01:47 @monitor.py:467]\u001b[0m GAN_loss/gen/loss: 1.076\n",
      "\u001b[32m[0924 11:01:47 @monitor.py:467]\u001b[0m QueueInput/queue_size: 1.034e-23\n",
      "\u001b[32m[0924 11:01:47 @monitor.py:467]\u001b[0m QueueInput_1/queue_size: 50\n",
      "\u001b[32m[0924 11:01:47 @base.py:275]\u001b[0m Start Epoch 93 ...\n"
     ]
    },
    {
     "name": "stderr",
     "output_type": "stream",
     "text": [
      "\n",
      "100%|#################################################################################|2000/2000[00:36<00:00,54.19it/s]"
     ]
    },
    {
     "name": "stdout",
     "output_type": "stream",
     "text": [
      "\u001b[32m[0924 11:02:24 @base.py:285]\u001b[0m Epoch 93 (global_step 186000) finished, time:36.9 seconds.\n",
      "\u001b[32m[0924 11:02:24 @saver.py:79]\u001b[0m Model saved to ../output/Chicago/DATGAN_TEST/model\\model-186000.\n",
      "\u001b[32m[0924 11:02:24 @monitor.py:467]\u001b[0m GAN_loss/discrim/accuracy_fake: 0.925\n",
      "\u001b[32m[0924 11:02:24 @monitor.py:467]\u001b[0m GAN_loss/discrim/accuracy_real: 0.095\n",
      "\u001b[32m[0924 11:02:24 @monitor.py:467]\u001b[0m GAN_loss/discrim/loss: 0.64698\n",
      "\u001b[32m[0924 11:02:24 @monitor.py:467]\u001b[0m GAN_loss/gen/final-g-loss: 1.292\n",
      "\u001b[32m[0924 11:02:24 @monitor.py:467]\u001b[0m GAN_loss/gen/klloss: 0.20857\n",
      "\u001b[32m[0924 11:02:24 @monitor.py:467]\u001b[0m GAN_loss/gen/loss: 1.0834\n",
      "\u001b[32m[0924 11:02:24 @monitor.py:467]\u001b[0m QueueInput/queue_size: 5.1699e-24\n",
      "\u001b[32m[0924 11:02:24 @monitor.py:467]\u001b[0m QueueInput_1/queue_size: 50\n",
      "\u001b[32m[0924 11:02:24 @base.py:275]\u001b[0m Start Epoch 94 ...\n"
     ]
    },
    {
     "name": "stderr",
     "output_type": "stream",
     "text": [
      "\n",
      "100%|#################################################################################|2000/2000[00:37<00:00,53.73it/s]"
     ]
    },
    {
     "name": "stdout",
     "output_type": "stream",
     "text": [
      "\u001b[32m[0924 11:03:01 @base.py:285]\u001b[0m Epoch 94 (global_step 188000) finished, time:37.2 seconds.\n",
      "\u001b[32m[0924 11:03:01 @saver.py:79]\u001b[0m Model saved to ../output/Chicago/DATGAN_TEST/model\\model-188000.\n",
      "\u001b[32m[0924 11:03:01 @monitor.py:467]\u001b[0m GAN_loss/discrim/accuracy_fake: 0.88\n",
      "\u001b[32m[0924 11:03:01 @monitor.py:467]\u001b[0m GAN_loss/discrim/accuracy_real: 0.155\n",
      "\u001b[32m[0924 11:03:01 @monitor.py:467]\u001b[0m GAN_loss/discrim/loss: 0.64551\n",
      "\u001b[32m[0924 11:03:01 @monitor.py:467]\u001b[0m GAN_loss/gen/final-g-loss: 1.2638\n",
      "\u001b[32m[0924 11:03:01 @monitor.py:467]\u001b[0m GAN_loss/gen/klloss: 0.18189\n",
      "\u001b[32m[0924 11:03:01 @monitor.py:467]\u001b[0m GAN_loss/gen/loss: 1.0819\n",
      "\u001b[32m[0924 11:03:01 @monitor.py:467]\u001b[0m QueueInput/queue_size: 2.5849e-24\n",
      "\u001b[32m[0924 11:03:01 @monitor.py:467]\u001b[0m QueueInput_1/queue_size: 50\n",
      "\u001b[32m[0924 11:03:01 @base.py:275]\u001b[0m Start Epoch 95 ...\n"
     ]
    },
    {
     "name": "stderr",
     "output_type": "stream",
     "text": [
      "\n",
      "100%|#################################################################################|2000/2000[00:37<00:00,53.83it/s]"
     ]
    },
    {
     "name": "stdout",
     "output_type": "stream",
     "text": [
      "\u001b[32m[0924 11:03:39 @base.py:285]\u001b[0m Epoch 95 (global_step 190000) finished, time:37.2 seconds.\n",
      "\u001b[32m[0924 11:03:39 @saver.py:79]\u001b[0m Model saved to ../output/Chicago/DATGAN_TEST/model\\model-190000.\n",
      "\u001b[32m[0924 11:03:39 @monitor.py:467]\u001b[0m GAN_loss/discrim/accuracy_fake: 0.92\n",
      "\u001b[32m[0924 11:03:39 @monitor.py:467]\u001b[0m GAN_loss/discrim/accuracy_real: 0.125\n",
      "\u001b[32m[0924 11:03:39 @monitor.py:467]\u001b[0m GAN_loss/discrim/loss: 0.64205\n",
      "\u001b[32m[0924 11:03:39 @monitor.py:467]\u001b[0m GAN_loss/gen/final-g-loss: 1.3362\n",
      "\u001b[32m[0924 11:03:39 @monitor.py:467]\u001b[0m GAN_loss/gen/klloss: 0.23661\n",
      "\u001b[32m[0924 11:03:39 @monitor.py:467]\u001b[0m GAN_loss/gen/loss: 1.0996\n",
      "\u001b[32m[0924 11:03:39 @monitor.py:467]\u001b[0m QueueInput/queue_size: 1.2925e-24\n",
      "\u001b[32m[0924 11:03:39 @monitor.py:467]\u001b[0m QueueInput_1/queue_size: 50\n",
      "\u001b[32m[0924 11:03:39 @base.py:275]\u001b[0m Start Epoch 96 ...\n"
     ]
    },
    {
     "name": "stderr",
     "output_type": "stream",
     "text": [
      "\n",
      "100%|#################################################################################|2000/2000[00:37<00:00,53.66it/s]"
     ]
    },
    {
     "name": "stdout",
     "output_type": "stream",
     "text": [
      "\u001b[32m[0924 11:04:16 @base.py:285]\u001b[0m Epoch 96 (global_step 192000) finished, time:37.3 seconds.\n",
      "\u001b[32m[0924 11:04:16 @saver.py:79]\u001b[0m Model saved to ../output/Chicago/DATGAN_TEST/model\\model-192000.\n",
      "\u001b[32m[0924 11:04:16 @monitor.py:467]\u001b[0m GAN_loss/discrim/accuracy_fake: 0.88\n",
      "\u001b[32m[0924 11:04:16 @monitor.py:467]\u001b[0m GAN_loss/discrim/accuracy_real: 0.185\n",
      "\u001b[32m[0924 11:04:16 @monitor.py:467]\u001b[0m GAN_loss/discrim/loss: 0.64213\n",
      "\u001b[32m[0924 11:04:16 @monitor.py:467]\u001b[0m GAN_loss/gen/final-g-loss: 1.344\n",
      "\u001b[32m[0924 11:04:16 @monitor.py:467]\u001b[0m GAN_loss/gen/klloss: 0.26113\n",
      "\u001b[32m[0924 11:04:16 @monitor.py:467]\u001b[0m GAN_loss/gen/loss: 1.0829\n",
      "\u001b[32m[0924 11:04:16 @monitor.py:467]\u001b[0m QueueInput/queue_size: 6.4623e-25\n",
      "\u001b[32m[0924 11:04:16 @monitor.py:467]\u001b[0m QueueInput_1/queue_size: 50\n",
      "\u001b[32m[0924 11:04:16 @base.py:275]\u001b[0m Start Epoch 97 ...\n"
     ]
    },
    {
     "name": "stderr",
     "output_type": "stream",
     "text": [
      "\n",
      "100%|#################################################################################|2000/2000[00:37<00:00,53.71it/s]"
     ]
    },
    {
     "name": "stdout",
     "output_type": "stream",
     "text": [
      "\u001b[32m[0924 11:04:53 @base.py:285]\u001b[0m Epoch 97 (global_step 194000) finished, time:37.2 seconds.\n",
      "\u001b[32m[0924 11:04:53 @saver.py:79]\u001b[0m Model saved to ../output/Chicago/DATGAN_TEST/model\\model-194000.\n",
      "\u001b[32m[0924 11:04:53 @monitor.py:467]\u001b[0m GAN_loss/discrim/accuracy_fake: 0.89\n",
      "\u001b[32m[0924 11:04:53 @monitor.py:467]\u001b[0m GAN_loss/discrim/accuracy_real: 0.145\n",
      "\u001b[32m[0924 11:04:53 @monitor.py:467]\u001b[0m GAN_loss/discrim/loss: 0.6428\n",
      "\u001b[32m[0924 11:04:53 @monitor.py:467]\u001b[0m GAN_loss/gen/final-g-loss: 1.2982\n",
      "\u001b[32m[0924 11:04:53 @monitor.py:467]\u001b[0m GAN_loss/gen/klloss: 0.22664\n",
      "\u001b[32m[0924 11:04:53 @monitor.py:467]\u001b[0m GAN_loss/gen/loss: 1.0715\n",
      "\u001b[32m[0924 11:04:53 @monitor.py:467]\u001b[0m QueueInput/queue_size: 3.2312e-25\n",
      "\u001b[32m[0924 11:04:53 @monitor.py:467]\u001b[0m QueueInput_1/queue_size: 50\n",
      "\u001b[32m[0924 11:04:53 @base.py:275]\u001b[0m Start Epoch 98 ...\n"
     ]
    },
    {
     "name": "stderr",
     "output_type": "stream",
     "text": [
      "\n",
      "100%|#################################################################################|2000/2000[00:37<00:00,53.23it/s]"
     ]
    },
    {
     "name": "stdout",
     "output_type": "stream",
     "text": [
      "\u001b[32m[0924 11:05:31 @base.py:285]\u001b[0m Epoch 98 (global_step 196000) finished, time:37.6 seconds.\n",
      "\u001b[32m[0924 11:05:31 @saver.py:79]\u001b[0m Model saved to ../output/Chicago/DATGAN_TEST/model\\model-196000.\n",
      "\u001b[32m[0924 11:05:31 @monitor.py:467]\u001b[0m GAN_loss/discrim/accuracy_fake: 0.93\n",
      "\u001b[32m[0924 11:05:31 @monitor.py:467]\u001b[0m GAN_loss/discrim/accuracy_real: 0.145\n",
      "\u001b[32m[0924 11:05:31 @monitor.py:467]\u001b[0m GAN_loss/discrim/loss: 0.63695\n",
      "\u001b[32m[0924 11:05:31 @monitor.py:467]\u001b[0m GAN_loss/gen/final-g-loss: 1.3386\n",
      "\u001b[32m[0924 11:05:31 @monitor.py:467]\u001b[0m GAN_loss/gen/klloss: 0.24861\n",
      "\u001b[32m[0924 11:05:31 @monitor.py:467]\u001b[0m GAN_loss/gen/loss: 1.09\n",
      "\u001b[32m[0924 11:05:31 @monitor.py:467]\u001b[0m QueueInput/queue_size: 1.6156e-25\n",
      "\u001b[32m[0924 11:05:31 @monitor.py:467]\u001b[0m QueueInput_1/queue_size: 50\n",
      "\u001b[32m[0924 11:05:31 @base.py:275]\u001b[0m Start Epoch 99 ...\n"
     ]
    },
    {
     "name": "stderr",
     "output_type": "stream",
     "text": [
      "\n",
      "100%|#################################################################################|2000/2000[00:37<00:00,53.33it/s]"
     ]
    },
    {
     "name": "stdout",
     "output_type": "stream",
     "text": [
      "\u001b[32m[0924 11:06:09 @base.py:285]\u001b[0m Epoch 99 (global_step 198000) finished, time:37.5 seconds.\n",
      "\u001b[32m[0924 11:06:09 @saver.py:79]\u001b[0m Model saved to ../output/Chicago/DATGAN_TEST/model\\model-198000.\n",
      "\u001b[32m[0924 11:06:09 @monitor.py:467]\u001b[0m GAN_loss/discrim/accuracy_fake: 0.92\n",
      "\u001b[32m[0924 11:06:09 @monitor.py:467]\u001b[0m GAN_loss/discrim/accuracy_real: 0.125\n",
      "\u001b[32m[0924 11:06:09 @monitor.py:467]\u001b[0m GAN_loss/discrim/loss: 0.64452\n",
      "\u001b[32m[0924 11:06:09 @monitor.py:467]\u001b[0m GAN_loss/gen/final-g-loss: 1.3012\n",
      "\u001b[32m[0924 11:06:09 @monitor.py:467]\u001b[0m GAN_loss/gen/klloss: 0.20269\n",
      "\u001b[32m[0924 11:06:09 @monitor.py:467]\u001b[0m GAN_loss/gen/loss: 1.0985\n",
      "\u001b[32m[0924 11:06:09 @monitor.py:467]\u001b[0m QueueInput/queue_size: 8.0779e-26\n",
      "\u001b[32m[0924 11:06:09 @monitor.py:467]\u001b[0m QueueInput_1/queue_size: 50\n",
      "\u001b[32m[0924 11:06:09 @base.py:275]\u001b[0m Start Epoch 100 ...\n"
     ]
    },
    {
     "name": "stderr",
     "output_type": "stream",
     "text": [
      "\n",
      "100%|#################################################################################|2000/2000[00:37<00:00,53.92it/s]"
     ]
    },
    {
     "name": "stdout",
     "output_type": "stream",
     "text": [
      "\u001b[32m[0924 11:06:46 @base.py:285]\u001b[0m Epoch 100 (global_step 200000) finished, time:37.1 seconds.\n",
      "\u001b[32m[0924 11:06:46 @saver.py:79]\u001b[0m Model saved to ../output/Chicago/DATGAN_TEST/model\\model-200000.\n",
      "\u001b[32m[0924 11:06:46 @monitor.py:467]\u001b[0m GAN_loss/discrim/accuracy_fake: 0.915\n",
      "\u001b[32m[0924 11:06:46 @monitor.py:467]\u001b[0m GAN_loss/discrim/accuracy_real: 0.105\n",
      "\u001b[32m[0924 11:06:46 @monitor.py:467]\u001b[0m GAN_loss/discrim/loss: 0.6571\n",
      "\u001b[32m[0924 11:06:46 @monitor.py:467]\u001b[0m GAN_loss/gen/final-g-loss: 1.282\n",
      "\u001b[32m[0924 11:06:46 @monitor.py:467]\u001b[0m GAN_loss/gen/klloss: 0.20077\n",
      "\u001b[32m[0924 11:06:46 @monitor.py:467]\u001b[0m GAN_loss/gen/loss: 1.0813\n",
      "\u001b[32m[0924 11:06:46 @monitor.py:467]\u001b[0m QueueInput/queue_size: 4.039e-26\n",
      "\u001b[32m[0924 11:06:46 @monitor.py:467]\u001b[0m QueueInput_1/queue_size: 50\n",
      "\u001b[32m[0924 11:06:46 @base.py:275]\u001b[0m Start Epoch 101 ...\n"
     ]
    },
    {
     "name": "stderr",
     "output_type": "stream",
     "text": [
      "\n",
      "100%|#################################################################################|2000/2000[00:37<00:00,53.39it/s]"
     ]
    },
    {
     "name": "stdout",
     "output_type": "stream",
     "text": [
      "\u001b[32m[0924 11:07:23 @base.py:285]\u001b[0m Epoch 101 (global_step 202000) finished, time:37.5 seconds.\n",
      "\u001b[32m[0924 11:07:23 @saver.py:79]\u001b[0m Model saved to ../output/Chicago/DATGAN_TEST/model\\model-202000.\n",
      "\u001b[32m[0924 11:07:23 @monitor.py:467]\u001b[0m GAN_loss/discrim/accuracy_fake: 0.94\n",
      "\u001b[32m[0924 11:07:23 @monitor.py:467]\u001b[0m GAN_loss/discrim/accuracy_real: 0.15\n",
      "\u001b[32m[0924 11:07:23 @monitor.py:467]\u001b[0m GAN_loss/discrim/loss: 0.63626\n",
      "\u001b[32m[0924 11:07:23 @monitor.py:467]\u001b[0m GAN_loss/gen/final-g-loss: 1.3151\n",
      "\u001b[32m[0924 11:07:23 @monitor.py:467]\u001b[0m GAN_loss/gen/klloss: 0.21194\n",
      "\u001b[32m[0924 11:07:23 @monitor.py:467]\u001b[0m GAN_loss/gen/loss: 1.1032\n",
      "\u001b[32m[0924 11:07:23 @monitor.py:467]\u001b[0m QueueInput/queue_size: 2.0195e-26\n",
      "\u001b[32m[0924 11:07:23 @monitor.py:467]\u001b[0m QueueInput_1/queue_size: 50\n",
      "\u001b[32m[0924 11:07:23 @base.py:275]\u001b[0m Start Epoch 102 ...\n"
     ]
    },
    {
     "name": "stderr",
     "output_type": "stream",
     "text": [
      "\n",
      "100%|#################################################################################|2000/2000[00:37<00:00,53.45it/s]"
     ]
    },
    {
     "name": "stdout",
     "output_type": "stream",
     "text": [
      "\u001b[32m[0924 11:08:01 @base.py:285]\u001b[0m Epoch 102 (global_step 204000) finished, time:37.4 seconds.\n",
      "\u001b[32m[0924 11:08:01 @saver.py:79]\u001b[0m Model saved to ../output/Chicago/DATGAN_TEST/model\\model-204000.\n",
      "\u001b[32m[0924 11:08:01 @monitor.py:467]\u001b[0m GAN_loss/discrim/accuracy_fake: 0.895\n",
      "\u001b[32m[0924 11:08:01 @monitor.py:467]\u001b[0m GAN_loss/discrim/accuracy_real: 0.16\n",
      "\u001b[32m[0924 11:08:01 @monitor.py:467]\u001b[0m GAN_loss/discrim/loss: 0.64227\n",
      "\u001b[32m[0924 11:08:01 @monitor.py:467]\u001b[0m GAN_loss/gen/final-g-loss: 1.3278\n",
      "\u001b[32m[0924 11:08:01 @monitor.py:467]\u001b[0m GAN_loss/gen/klloss: 0.24757\n",
      "\u001b[32m[0924 11:08:01 @monitor.py:467]\u001b[0m GAN_loss/gen/loss: 1.0802\n",
      "\u001b[32m[0924 11:08:01 @monitor.py:467]\u001b[0m QueueInput/queue_size: 1.0097e-26\n",
      "\u001b[32m[0924 11:08:01 @monitor.py:467]\u001b[0m QueueInput_1/queue_size: 50\n",
      "\u001b[32m[0924 11:08:01 @base.py:275]\u001b[0m Start Epoch 103 ...\n"
     ]
    },
    {
     "name": "stderr",
     "output_type": "stream",
     "text": [
      "\n",
      "100%|#################################################################################|2000/2000[00:37<00:00,53.74it/s]"
     ]
    },
    {
     "name": "stdout",
     "output_type": "stream",
     "text": [
      "\u001b[32m[0924 11:08:38 @base.py:285]\u001b[0m Epoch 103 (global_step 206000) finished, time:37.2 seconds.\n",
      "\u001b[32m[0924 11:08:38 @saver.py:79]\u001b[0m Model saved to ../output/Chicago/DATGAN_TEST/model\\model-206000.\n",
      "\u001b[32m[0924 11:08:38 @monitor.py:467]\u001b[0m GAN_loss/discrim/accuracy_fake: 0.915\n",
      "\u001b[32m[0924 11:08:38 @monitor.py:467]\u001b[0m GAN_loss/discrim/accuracy_real: 0.15\n",
      "\u001b[32m[0924 11:08:38 @monitor.py:467]\u001b[0m GAN_loss/discrim/loss: 0.65069\n",
      "\u001b[32m[0924 11:08:38 @monitor.py:467]\u001b[0m GAN_loss/gen/final-g-loss: 1.2274\n",
      "\u001b[32m[0924 11:08:38 @monitor.py:467]\u001b[0m GAN_loss/gen/klloss: 0.15386\n",
      "\u001b[32m[0924 11:08:38 @monitor.py:467]\u001b[0m GAN_loss/gen/loss: 1.0736\n",
      "\u001b[32m[0924 11:08:38 @monitor.py:467]\u001b[0m QueueInput/queue_size: 5.0487e-27\n",
      "\u001b[32m[0924 11:08:38 @monitor.py:467]\u001b[0m QueueInput_1/queue_size: 50\n",
      "\u001b[32m[0924 11:08:38 @base.py:275]\u001b[0m Start Epoch 104 ...\n"
     ]
    },
    {
     "name": "stderr",
     "output_type": "stream",
     "text": [
      "\n",
      "100%|#################################################################################|2000/2000[00:37<00:00,53.55it/s]"
     ]
    },
    {
     "name": "stdout",
     "output_type": "stream",
     "text": [
      "\u001b[32m[0924 11:09:16 @base.py:285]\u001b[0m Epoch 104 (global_step 208000) finished, time:37.4 seconds.\n"
     ]
    },
    {
     "name": "stderr",
     "output_type": "stream",
     "text": [
      "\n"
     ]
    },
    {
     "name": "stdout",
     "output_type": "stream",
     "text": [
      "\u001b[32m[0924 11:09:16 @saver.py:79]\u001b[0m Model saved to ../output/Chicago/DATGAN_TEST/model\\model-208000.\n",
      "\u001b[32m[0924 11:09:16 @monitor.py:467]\u001b[0m GAN_loss/discrim/accuracy_fake: 0.94\n",
      "\u001b[32m[0924 11:09:16 @monitor.py:467]\u001b[0m GAN_loss/discrim/accuracy_real: 0.195\n",
      "\u001b[32m[0924 11:09:16 @monitor.py:467]\u001b[0m GAN_loss/discrim/loss: 0.64145\n",
      "\u001b[32m[0924 11:09:16 @monitor.py:467]\u001b[0m GAN_loss/gen/final-g-loss: 1.3148\n",
      "\u001b[32m[0924 11:09:16 @monitor.py:467]\u001b[0m GAN_loss/gen/klloss: 0.22011\n",
      "\u001b[32m[0924 11:09:16 @monitor.py:467]\u001b[0m GAN_loss/gen/loss: 1.0947\n",
      "\u001b[32m[0924 11:09:16 @monitor.py:467]\u001b[0m QueueInput/queue_size: 2.5244e-27\n",
      "\u001b[32m[0924 11:09:16 @monitor.py:467]\u001b[0m QueueInput_1/queue_size: 50\n",
      "\u001b[32m[0924 11:09:16 @base.py:275]\u001b[0m Start Epoch 105 ...\n"
     ]
    },
    {
     "name": "stderr",
     "output_type": "stream",
     "text": [
      "100%|#################################################################################|2000/2000[00:37<00:00,53.69it/s]"
     ]
    },
    {
     "name": "stdout",
     "output_type": "stream",
     "text": [
      "\u001b[32m[0924 11:09:53 @base.py:285]\u001b[0m Epoch 105 (global_step 210000) finished, time:37.3 seconds.\n",
      "\u001b[32m[0924 11:09:53 @saver.py:79]\u001b[0m Model saved to ../output/Chicago/DATGAN_TEST/model\\model-210000.\n",
      "\u001b[32m[0924 11:09:53 @monitor.py:467]\u001b[0m GAN_loss/discrim/accuracy_fake: 0.935\n",
      "\u001b[32m[0924 11:09:53 @monitor.py:467]\u001b[0m GAN_loss/discrim/accuracy_real: 0.155\n",
      "\u001b[32m[0924 11:09:53 @monitor.py:467]\u001b[0m GAN_loss/discrim/loss: 0.63895\n",
      "\u001b[32m[0924 11:09:53 @monitor.py:467]\u001b[0m GAN_loss/gen/final-g-loss: 1.3066\n",
      "\u001b[32m[0924 11:09:53 @monitor.py:467]\u001b[0m GAN_loss/gen/klloss: 0.20938\n",
      "\u001b[32m[0924 11:09:53 @monitor.py:467]\u001b[0m GAN_loss/gen/loss: 1.0972\n",
      "\u001b[32m[0924 11:09:53 @monitor.py:467]\u001b[0m QueueInput/queue_size: 1.2622e-27\n",
      "\u001b[32m[0924 11:09:53 @monitor.py:467]\u001b[0m QueueInput_1/queue_size: 50\n",
      "\u001b[32m[0924 11:09:53 @base.py:275]\u001b[0m Start Epoch 106 ...\n"
     ]
    },
    {
     "name": "stderr",
     "output_type": "stream",
     "text": [
      "\n",
      "100%|#################################################################################|2000/2000[00:37<00:00,53.61it/s]"
     ]
    },
    {
     "name": "stdout",
     "output_type": "stream",
     "text": [
      "\u001b[32m[0924 11:10:30 @base.py:285]\u001b[0m Epoch 106 (global_step 212000) finished, time:37.3 seconds.\n",
      "\u001b[32m[0924 11:10:30 @saver.py:79]\u001b[0m Model saved to ../output/Chicago/DATGAN_TEST/model\\model-212000.\n"
     ]
    },
    {
     "name": "stderr",
     "output_type": "stream",
     "text": [
      "\n"
     ]
    },
    {
     "name": "stdout",
     "output_type": "stream",
     "text": [
      "\u001b[32m[0924 11:10:30 @monitor.py:467]\u001b[0m GAN_loss/discrim/accuracy_fake: 0.905\n",
      "\u001b[32m[0924 11:10:30 @monitor.py:467]\u001b[0m GAN_loss/discrim/accuracy_real: 0.165\n",
      "\u001b[32m[0924 11:10:30 @monitor.py:467]\u001b[0m GAN_loss/discrim/loss: 0.6454\n",
      "\u001b[32m[0924 11:10:30 @monitor.py:467]\u001b[0m GAN_loss/gen/final-g-loss: 1.2671\n",
      "\u001b[32m[0924 11:10:30 @monitor.py:467]\u001b[0m GAN_loss/gen/klloss: 0.1729\n",
      "\u001b[32m[0924 11:10:30 @monitor.py:467]\u001b[0m GAN_loss/gen/loss: 1.0942\n",
      "\u001b[32m[0924 11:10:30 @monitor.py:467]\u001b[0m QueueInput/queue_size: 6.3109e-28\n",
      "\u001b[32m[0924 11:10:30 @monitor.py:467]\u001b[0m QueueInput_1/queue_size: 50\n",
      "\u001b[32m[0924 11:10:30 @base.py:275]\u001b[0m Start Epoch 107 ...\n"
     ]
    },
    {
     "name": "stderr",
     "output_type": "stream",
     "text": [
      "100%|#################################################################################|2000/2000[00:37<00:00,53.55it/s]"
     ]
    },
    {
     "name": "stdout",
     "output_type": "stream",
     "text": [
      "\u001b[32m[0924 11:11:08 @base.py:285]\u001b[0m Epoch 107 (global_step 214000) finished, time:37.3 seconds.\n",
      "\u001b[32m[0924 11:11:08 @saver.py:79]\u001b[0m Model saved to ../output/Chicago/DATGAN_TEST/model\\model-214000.\n",
      "\u001b[32m[0924 11:11:08 @monitor.py:467]\u001b[0m GAN_loss/discrim/accuracy_fake: 0.885\n",
      "\u001b[32m[0924 11:11:08 @monitor.py:467]\u001b[0m GAN_loss/discrim/accuracy_real: 0.165\n",
      "\u001b[32m[0924 11:11:08 @monitor.py:467]\u001b[0m GAN_loss/discrim/loss: 0.64187\n",
      "\u001b[32m[0924 11:11:08 @monitor.py:467]\u001b[0m GAN_loss/gen/final-g-loss: 1.3361\n",
      "\u001b[32m[0924 11:11:08 @monitor.py:467]\u001b[0m GAN_loss/gen/klloss: 0.25187\n",
      "\u001b[32m[0924 11:11:08 @monitor.py:467]\u001b[0m GAN_loss/gen/loss: 1.0842\n",
      "\u001b[32m[0924 11:11:08 @monitor.py:467]\u001b[0m QueueInput/queue_size: 3.1554e-28\n",
      "\u001b[32m[0924 11:11:08 @monitor.py:467]\u001b[0m QueueInput_1/queue_size: 50\n",
      "\u001b[32m[0924 11:11:08 @base.py:275]\u001b[0m Start Epoch 108 ...\n"
     ]
    },
    {
     "name": "stderr",
     "output_type": "stream",
     "text": [
      "\n",
      "100%|#################################################################################|2000/2000[00:37<00:00,53.86it/s]"
     ]
    },
    {
     "name": "stdout",
     "output_type": "stream",
     "text": [
      "\u001b[32m[0924 11:11:45 @base.py:285]\u001b[0m Epoch 108 (global_step 216000) finished, time:37.1 seconds.\n"
     ]
    },
    {
     "name": "stderr",
     "output_type": "stream",
     "text": [
      "\n"
     ]
    },
    {
     "name": "stdout",
     "output_type": "stream",
     "text": [
      "\u001b[32m[0924 11:11:45 @saver.py:79]\u001b[0m Model saved to ../output/Chicago/DATGAN_TEST/model\\model-216000.\n",
      "\u001b[32m[0924 11:11:45 @monitor.py:467]\u001b[0m GAN_loss/discrim/accuracy_fake: 0.915\n",
      "\u001b[32m[0924 11:11:45 @monitor.py:467]\u001b[0m GAN_loss/discrim/accuracy_real: 0.1\n",
      "\u001b[32m[0924 11:11:45 @monitor.py:467]\u001b[0m GAN_loss/discrim/loss: 0.64296\n",
      "\u001b[32m[0924 11:11:45 @monitor.py:467]\u001b[0m GAN_loss/gen/final-g-loss: 1.2947\n",
      "\u001b[32m[0924 11:11:45 @monitor.py:467]\u001b[0m GAN_loss/gen/klloss: 0.18235\n",
      "\u001b[32m[0924 11:11:45 @monitor.py:467]\u001b[0m GAN_loss/gen/loss: 1.1123\n",
      "\u001b[32m[0924 11:11:45 @monitor.py:467]\u001b[0m QueueInput/queue_size: 1.5777e-28\n",
      "\u001b[32m[0924 11:11:45 @monitor.py:467]\u001b[0m QueueInput_1/queue_size: 50\n",
      "\u001b[32m[0924 11:11:45 @base.py:275]\u001b[0m Start Epoch 109 ...\n"
     ]
    },
    {
     "name": "stderr",
     "output_type": "stream",
     "text": [
      "100%|#################################################################################|2000/2000[00:37<00:00,53.74it/s]"
     ]
    },
    {
     "name": "stdout",
     "output_type": "stream",
     "text": [
      "\u001b[32m[0924 11:12:22 @base.py:285]\u001b[0m Epoch 109 (global_step 218000) finished, time:37.2 seconds.\n",
      "\u001b[32m[0924 11:12:22 @saver.py:79]\u001b[0m Model saved to ../output/Chicago/DATGAN_TEST/model\\model-218000.\n",
      "\u001b[32m[0924 11:12:22 @monitor.py:467]\u001b[0m GAN_loss/discrim/accuracy_fake: 0.91\n",
      "\u001b[32m[0924 11:12:22 @monitor.py:467]\u001b[0m GAN_loss/discrim/accuracy_real: 0.13\n",
      "\u001b[32m[0924 11:12:22 @monitor.py:467]\u001b[0m GAN_loss/discrim/loss: 0.63585\n",
      "\u001b[32m[0924 11:12:22 @monitor.py:467]\u001b[0m GAN_loss/gen/final-g-loss: 1.2937\n",
      "\u001b[32m[0924 11:12:22 @monitor.py:467]\u001b[0m GAN_loss/gen/klloss: 0.19759\n",
      "\u001b[32m[0924 11:12:22 @monitor.py:467]\u001b[0m GAN_loss/gen/loss: 1.0961\n",
      "\u001b[32m[0924 11:12:22 @monitor.py:467]\u001b[0m QueueInput/queue_size: 7.8886e-29\n",
      "\u001b[32m[0924 11:12:22 @monitor.py:467]\u001b[0m QueueInput_1/queue_size: 50\n",
      "\u001b[32m[0924 11:12:22 @base.py:275]\u001b[0m Start Epoch 110 ...\n"
     ]
    },
    {
     "name": "stderr",
     "output_type": "stream",
     "text": [
      "\n",
      "100%|#################################################################################|2000/2000[00:37<00:00,53.41it/s]"
     ]
    },
    {
     "name": "stdout",
     "output_type": "stream",
     "text": [
      "\u001b[32m[0924 11:13:00 @base.py:285]\u001b[0m Epoch 110 (global_step 220000) finished, time:37.4 seconds.\n",
      "\u001b[32m[0924 11:13:00 @saver.py:79]\u001b[0m Model saved to ../output/Chicago/DATGAN_TEST/model\\model-220000.\n",
      "\u001b[32m[0924 11:13:00 @monitor.py:467]\u001b[0m GAN_loss/discrim/accuracy_fake: 0.885\n",
      "\u001b[32m[0924 11:13:00 @monitor.py:467]\u001b[0m GAN_loss/discrim/accuracy_real: 0.165\n",
      "\u001b[32m[0924 11:13:00 @monitor.py:467]\u001b[0m GAN_loss/discrim/loss: 0.65054\n",
      "\u001b[32m[0924 11:13:00 @monitor.py:467]\u001b[0m GAN_loss/gen/final-g-loss: 1.3588\n",
      "\u001b[32m[0924 11:13:00 @monitor.py:467]\u001b[0m GAN_loss/gen/klloss: 0.29432\n",
      "\u001b[32m[0924 11:13:00 @monitor.py:467]\u001b[0m GAN_loss/gen/loss: 1.0645\n",
      "\u001b[32m[0924 11:13:00 @monitor.py:467]\u001b[0m QueueInput/queue_size: 3.9443e-29\n",
      "\u001b[32m[0924 11:13:00 @monitor.py:467]\u001b[0m QueueInput_1/queue_size: 50\n",
      "\u001b[32m[0924 11:13:00 @base.py:275]\u001b[0m Start Epoch 111 ...\n"
     ]
    },
    {
     "name": "stderr",
     "output_type": "stream",
     "text": [
      "\n",
      "100%|#################################################################################|2000/2000[00:37<00:00,53.80it/s]"
     ]
    },
    {
     "name": "stdout",
     "output_type": "stream",
     "text": [
      "\u001b[32m[0924 11:13:37 @base.py:285]\u001b[0m Epoch 111 (global_step 222000) finished, time:37.2 seconds.\n",
      "\u001b[32m[0924 11:13:37 @saver.py:79]\u001b[0m Model saved to ../output/Chicago/DATGAN_TEST/model\\model-222000.\n",
      "\u001b[32m[0924 11:13:37 @monitor.py:467]\u001b[0m GAN_loss/discrim/accuracy_fake: 0.89\n",
      "\u001b[32m[0924 11:13:37 @monitor.py:467]\u001b[0m GAN_loss/discrim/accuracy_real: 0.175\n",
      "\u001b[32m[0924 11:13:37 @monitor.py:467]\u001b[0m GAN_loss/discrim/loss: 0.63454\n",
      "\u001b[32m[0924 11:13:37 @monitor.py:467]\u001b[0m GAN_loss/gen/final-g-loss: 1.3332\n",
      "\u001b[32m[0924 11:13:37 @monitor.py:467]\u001b[0m GAN_loss/gen/klloss: 0.226\n",
      "\u001b[32m[0924 11:13:37 @monitor.py:467]\u001b[0m GAN_loss/gen/loss: 1.1072\n",
      "\u001b[32m[0924 11:13:37 @monitor.py:467]\u001b[0m QueueInput/queue_size: 1.9722e-29\n",
      "\u001b[32m[0924 11:13:37 @monitor.py:467]\u001b[0m QueueInput_1/queue_size: 50\n",
      "\u001b[32m[0924 11:13:37 @base.py:275]\u001b[0m Start Epoch 112 ...\n"
     ]
    },
    {
     "name": "stderr",
     "output_type": "stream",
     "text": [
      "\n",
      "100%|#################################################################################|2000/2000[00:37<00:00,53.60it/s]"
     ]
    },
    {
     "name": "stdout",
     "output_type": "stream",
     "text": [
      "\u001b[32m[0924 11:14:14 @base.py:285]\u001b[0m Epoch 112 (global_step 224000) finished, time:37.3 seconds.\n",
      "\u001b[32m[0924 11:14:15 @saver.py:79]\u001b[0m Model saved to ../output/Chicago/DATGAN_TEST/model\\model-224000.\n",
      "\u001b[32m[0924 11:14:15 @monitor.py:467]\u001b[0m GAN_loss/discrim/accuracy_fake: 0.875\n",
      "\u001b[32m[0924 11:14:15 @monitor.py:467]\u001b[0m GAN_loss/discrim/accuracy_real: 0.195\n",
      "\u001b[32m[0924 11:14:15 @monitor.py:467]\u001b[0m GAN_loss/discrim/loss: 0.63878\n",
      "\u001b[32m[0924 11:14:15 @monitor.py:467]\u001b[0m GAN_loss/gen/final-g-loss: 1.3318\n",
      "\u001b[32m[0924 11:14:15 @monitor.py:467]\u001b[0m GAN_loss/gen/klloss: 0.23661\n",
      "\u001b[32m[0924 11:14:15 @monitor.py:467]\u001b[0m GAN_loss/gen/loss: 1.0952\n",
      "\u001b[32m[0924 11:14:15 @monitor.py:467]\u001b[0m QueueInput/queue_size: 9.8608e-30\n",
      "\u001b[32m[0924 11:14:15 @monitor.py:467]\u001b[0m QueueInput_1/queue_size: 50\n",
      "\u001b[32m[0924 11:14:15 @base.py:275]\u001b[0m Start Epoch 113 ...\n"
     ]
    },
    {
     "name": "stderr",
     "output_type": "stream",
     "text": [
      "\n",
      "100%|#################################################################################|2000/2000[00:37<00:00,53.71it/s]"
     ]
    },
    {
     "name": "stdout",
     "output_type": "stream",
     "text": [
      "\u001b[32m[0924 11:14:52 @base.py:285]\u001b[0m Epoch 113 (global_step 226000) finished, time:37.2 seconds.\n",
      "\u001b[32m[0924 11:14:52 @saver.py:79]\u001b[0m Model saved to ../output/Chicago/DATGAN_TEST/model\\model-226000.\n",
      "\u001b[32m[0924 11:14:52 @monitor.py:467]\u001b[0m GAN_loss/discrim/accuracy_fake: 0.925\n",
      "\u001b[32m[0924 11:14:52 @monitor.py:467]\u001b[0m GAN_loss/discrim/accuracy_real: 0.165\n",
      "\u001b[32m[0924 11:14:52 @monitor.py:467]\u001b[0m GAN_loss/discrim/loss: 0.63601\n",
      "\u001b[32m[0924 11:14:52 @monitor.py:467]\u001b[0m GAN_loss/gen/final-g-loss: 1.3405\n",
      "\u001b[32m[0924 11:14:52 @monitor.py:467]\u001b[0m GAN_loss/gen/klloss: 0.22403\n",
      "\u001b[32m[0924 11:14:52 @monitor.py:467]\u001b[0m GAN_loss/gen/loss: 1.1165\n",
      "\u001b[32m[0924 11:14:52 @monitor.py:467]\u001b[0m QueueInput/queue_size: 4.9304e-30\n",
      "\u001b[32m[0924 11:14:52 @monitor.py:467]\u001b[0m QueueInput_1/queue_size: 50\n",
      "\u001b[32m[0924 11:14:52 @base.py:275]\u001b[0m Start Epoch 114 ...\n"
     ]
    },
    {
     "name": "stderr",
     "output_type": "stream",
     "text": [
      "\n",
      "100%|#################################################################################|2000/2000[00:36<00:00,54.12it/s]"
     ]
    },
    {
     "name": "stdout",
     "output_type": "stream",
     "text": [
      "\u001b[32m[0924 11:15:29 @base.py:285]\u001b[0m Epoch 114 (global_step 228000) finished, time:37 seconds.\n",
      "\u001b[32m[0924 11:15:29 @saver.py:79]\u001b[0m Model saved to ../output/Chicago/DATGAN_TEST/model\\model-228000.\n",
      "\u001b[32m[0924 11:15:29 @monitor.py:467]\u001b[0m GAN_loss/discrim/accuracy_fake: 0.925\n",
      "\u001b[32m[0924 11:15:29 @monitor.py:467]\u001b[0m GAN_loss/discrim/accuracy_real: 0.17\n",
      "\u001b[32m[0924 11:15:29 @monitor.py:467]\u001b[0m GAN_loss/discrim/loss: 0.63859\n",
      "\u001b[32m[0924 11:15:29 @monitor.py:467]\u001b[0m GAN_loss/gen/final-g-loss: 1.2833\n",
      "\u001b[32m[0924 11:15:29 @monitor.py:467]\u001b[0m GAN_loss/gen/klloss: 0.18687\n",
      "\u001b[32m[0924 11:15:29 @monitor.py:467]\u001b[0m GAN_loss/gen/loss: 1.0964\n",
      "\u001b[32m[0924 11:15:29 @monitor.py:467]\u001b[0m QueueInput/queue_size: 2.4652e-30\n",
      "\u001b[32m[0924 11:15:29 @monitor.py:467]\u001b[0m QueueInput_1/queue_size: 50\n",
      "\u001b[32m[0924 11:15:29 @base.py:275]\u001b[0m Start Epoch 115 ...\n"
     ]
    },
    {
     "name": "stderr",
     "output_type": "stream",
     "text": [
      "\n",
      "100%|#################################################################################|2000/2000[00:37<00:00,53.98it/s]"
     ]
    },
    {
     "name": "stdout",
     "output_type": "stream",
     "text": [
      "\u001b[32m[0924 11:16:06 @base.py:285]\u001b[0m Epoch 115 (global_step 230000) finished, time:37 seconds.\n"
     ]
    },
    {
     "name": "stderr",
     "output_type": "stream",
     "text": [
      "\n"
     ]
    },
    {
     "name": "stdout",
     "output_type": "stream",
     "text": [
      "\u001b[32m[0924 11:16:06 @saver.py:79]\u001b[0m Model saved to ../output/Chicago/DATGAN_TEST/model\\model-230000.\n",
      "\u001b[32m[0924 11:16:06 @monitor.py:467]\u001b[0m GAN_loss/discrim/accuracy_fake: 0.915\n",
      "\u001b[32m[0924 11:16:06 @monitor.py:467]\u001b[0m GAN_loss/discrim/accuracy_real: 0.135\n",
      "\u001b[32m[0924 11:16:06 @monitor.py:467]\u001b[0m GAN_loss/discrim/loss: 0.64278\n",
      "\u001b[32m[0924 11:16:06 @monitor.py:467]\u001b[0m GAN_loss/gen/final-g-loss: 1.3342\n",
      "\u001b[32m[0924 11:16:06 @monitor.py:467]\u001b[0m GAN_loss/gen/klloss: 0.24294\n",
      "\u001b[32m[0924 11:16:06 @monitor.py:467]\u001b[0m GAN_loss/gen/loss: 1.0913\n",
      "\u001b[32m[0924 11:16:06 @monitor.py:467]\u001b[0m QueueInput/queue_size: 1.2326e-30\n",
      "\u001b[32m[0924 11:16:06 @monitor.py:467]\u001b[0m QueueInput_1/queue_size: 50\n",
      "\u001b[32m[0924 11:16:06 @base.py:275]\u001b[0m Start Epoch 116 ...\n"
     ]
    },
    {
     "name": "stderr",
     "output_type": "stream",
     "text": [
      "100%|#################################################################################|2000/2000[00:36<00:00,54.09it/s]"
     ]
    },
    {
     "name": "stdout",
     "output_type": "stream",
     "text": [
      "\u001b[32m[0924 11:16:43 @base.py:285]\u001b[0m Epoch 116 (global_step 232000) finished, time:37 seconds.\n",
      "\u001b[32m[0924 11:16:43 @saver.py:79]\u001b[0m Model saved to ../output/Chicago/DATGAN_TEST/model\\model-232000.\n",
      "\u001b[32m[0924 11:16:43 @monitor.py:467]\u001b[0m GAN_loss/discrim/accuracy_fake: 0.87\n",
      "\u001b[32m[0924 11:16:43 @monitor.py:467]\u001b[0m GAN_loss/discrim/accuracy_real: 0.15\n",
      "\u001b[32m[0924 11:16:43 @monitor.py:467]\u001b[0m GAN_loss/discrim/loss: 0.66634\n",
      "\u001b[32m[0924 11:16:43 @monitor.py:467]\u001b[0m GAN_loss/gen/final-g-loss: 1.2585\n",
      "\u001b[32m[0924 11:16:43 @monitor.py:467]\u001b[0m GAN_loss/gen/klloss: 0.18485\n",
      "\u001b[32m[0924 11:16:43 @monitor.py:467]\u001b[0m GAN_loss/gen/loss: 1.0737\n",
      "\u001b[32m[0924 11:16:43 @monitor.py:467]\u001b[0m QueueInput/queue_size: 6.163e-31\n",
      "\u001b[32m[0924 11:16:43 @monitor.py:467]\u001b[0m QueueInput_1/queue_size: 50\n",
      "\u001b[32m[0924 11:16:43 @base.py:275]\u001b[0m Start Epoch 117 ...\n"
     ]
    },
    {
     "name": "stderr",
     "output_type": "stream",
     "text": [
      "\n",
      "100%|#################################################################################|2000/2000[00:37<00:00,53.23it/s]"
     ]
    },
    {
     "name": "stdout",
     "output_type": "stream",
     "text": [
      "\u001b[32m[0924 11:17:21 @base.py:285]\u001b[0m Epoch 117 (global_step 234000) finished, time:37.6 seconds.\n",
      "\u001b[32m[0924 11:17:21 @saver.py:79]\u001b[0m Model saved to ../output/Chicago/DATGAN_TEST/model\\model-234000.\n",
      "\u001b[32m[0924 11:17:21 @monitor.py:467]\u001b[0m GAN_loss/discrim/accuracy_fake: 0.915\n",
      "\u001b[32m[0924 11:17:21 @monitor.py:467]\u001b[0m GAN_loss/discrim/accuracy_real: 0.14\n",
      "\u001b[32m[0924 11:17:21 @monitor.py:467]\u001b[0m GAN_loss/discrim/loss: 0.64187\n",
      "\u001b[32m[0924 11:17:21 @monitor.py:467]\u001b[0m GAN_loss/gen/final-g-loss: 1.3357\n",
      "\u001b[32m[0924 11:17:21 @monitor.py:467]\u001b[0m GAN_loss/gen/klloss: 0.23869\n",
      "\u001b[32m[0924 11:17:21 @monitor.py:467]\u001b[0m GAN_loss/gen/loss: 1.097\n",
      "\u001b[32m[0924 11:17:21 @monitor.py:467]\u001b[0m QueueInput/queue_size: 3.0815e-31\n",
      "\u001b[32m[0924 11:17:21 @monitor.py:467]\u001b[0m QueueInput_1/queue_size: 50\n",
      "\u001b[32m[0924 11:17:21 @base.py:275]\u001b[0m Start Epoch 118 ...\n"
     ]
    },
    {
     "name": "stderr",
     "output_type": "stream",
     "text": [
      "\n",
      "100%|#################################################################################|2000/2000[00:37<00:00,52.87it/s]"
     ]
    },
    {
     "name": "stdout",
     "output_type": "stream",
     "text": [
      "\u001b[32m[0924 11:17:59 @base.py:285]\u001b[0m Epoch 118 (global_step 236000) finished, time:37.8 seconds.\n",
      "\u001b[32m[0924 11:17:59 @saver.py:79]\u001b[0m Model saved to ../output/Chicago/DATGAN_TEST/model\\model-236000.\n",
      "\u001b[32m[0924 11:17:59 @monitor.py:467]\u001b[0m GAN_loss/discrim/accuracy_fake: 0.895\n",
      "\u001b[32m[0924 11:17:59 @monitor.py:467]\u001b[0m GAN_loss/discrim/accuracy_real: 0.18\n",
      "\u001b[32m[0924 11:17:59 @monitor.py:467]\u001b[0m GAN_loss/discrim/loss: 0.64563\n",
      "\u001b[32m[0924 11:17:59 @monitor.py:467]\u001b[0m GAN_loss/gen/final-g-loss: 1.3514\n",
      "\u001b[32m[0924 11:17:59 @monitor.py:467]\u001b[0m GAN_loss/gen/klloss: 0.23957\n",
      "\u001b[32m[0924 11:17:59 @monitor.py:467]\u001b[0m GAN_loss/gen/loss: 1.1118\n",
      "\u001b[32m[0924 11:17:59 @monitor.py:467]\u001b[0m QueueInput/queue_size: 1.5407e-31\n",
      "\u001b[32m[0924 11:17:59 @monitor.py:467]\u001b[0m QueueInput_1/queue_size: 50\n",
      "\u001b[32m[0924 11:17:59 @base.py:275]\u001b[0m Start Epoch 119 ...\n"
     ]
    },
    {
     "name": "stderr",
     "output_type": "stream",
     "text": [
      "\n",
      "100%|#################################################################################|2000/2000[00:36<00:00,54.09it/s]"
     ]
    },
    {
     "name": "stdout",
     "output_type": "stream",
     "text": [
      "\u001b[32m[0924 11:18:36 @base.py:285]\u001b[0m Epoch 119 (global_step 238000) finished, time:37 seconds.\n",
      "\u001b[32m[0924 11:18:36 @saver.py:79]\u001b[0m Model saved to ../output/Chicago/DATGAN_TEST/model\\model-238000.\n",
      "\u001b[32m[0924 11:18:36 @monitor.py:467]\u001b[0m GAN_loss/discrim/accuracy_fake: 0.92\n",
      "\u001b[32m[0924 11:18:36 @monitor.py:467]\u001b[0m GAN_loss/discrim/accuracy_real: 0.16\n",
      "\u001b[32m[0924 11:18:36 @monitor.py:467]\u001b[0m GAN_loss/discrim/loss: 0.63721\n",
      "\u001b[32m[0924 11:18:36 @monitor.py:467]\u001b[0m GAN_loss/gen/final-g-loss: 1.3201\n",
      "\u001b[32m[0924 11:18:36 @monitor.py:467]\u001b[0m GAN_loss/gen/klloss: 0.21262\n",
      "\u001b[32m[0924 11:18:36 @monitor.py:467]\u001b[0m GAN_loss/gen/loss: 1.1075\n",
      "\u001b[32m[0924 11:18:36 @monitor.py:467]\u001b[0m QueueInput/queue_size: 7.7037e-32\n",
      "\u001b[32m[0924 11:18:36 @monitor.py:467]\u001b[0m QueueInput_1/queue_size: 50\n",
      "\u001b[32m[0924 11:18:36 @base.py:275]\u001b[0m Start Epoch 120 ...\n"
     ]
    },
    {
     "name": "stderr",
     "output_type": "stream",
     "text": [
      "\n",
      "100%|#################################################################################|2000/2000[00:37<00:00,53.85it/s]"
     ]
    },
    {
     "name": "stdout",
     "output_type": "stream",
     "text": [
      "\u001b[32m[0924 11:19:13 @base.py:285]\u001b[0m Epoch 120 (global_step 240000) finished, time:37.1 seconds.\n",
      "\u001b[32m[0924 11:19:13 @saver.py:79]\u001b[0m Model saved to ../output/Chicago/DATGAN_TEST/model\\model-240000.\n",
      "\u001b[32m[0924 11:19:13 @monitor.py:467]\u001b[0m GAN_loss/discrim/accuracy_fake: 0.9\n",
      "\u001b[32m[0924 11:19:13 @monitor.py:467]\u001b[0m GAN_loss/discrim/accuracy_real: 0.155\n",
      "\u001b[32m[0924 11:19:13 @monitor.py:467]\u001b[0m GAN_loss/discrim/loss: 0.64786\n",
      "\u001b[32m[0924 11:19:13 @monitor.py:467]\u001b[0m GAN_loss/gen/final-g-loss: 1.2718\n",
      "\u001b[32m[0924 11:19:13 @monitor.py:467]\u001b[0m GAN_loss/gen/klloss: 0.16913\n",
      "\u001b[32m[0924 11:19:13 @monitor.py:467]\u001b[0m GAN_loss/gen/loss: 1.1027\n",
      "\u001b[32m[0924 11:19:13 @monitor.py:467]\u001b[0m QueueInput/queue_size: 3.8519e-32\n",
      "\u001b[32m[0924 11:19:13 @monitor.py:467]\u001b[0m QueueInput_1/queue_size: 50\n",
      "\u001b[32m[0924 11:19:13 @base.py:275]\u001b[0m Start Epoch 121 ...\n"
     ]
    },
    {
     "name": "stderr",
     "output_type": "stream",
     "text": [
      "\n",
      "100%|#################################################################################|2000/2000[00:37<00:00,53.94it/s]"
     ]
    },
    {
     "name": "stdout",
     "output_type": "stream",
     "text": [
      "\u001b[32m[0924 11:19:50 @base.py:285]\u001b[0m Epoch 121 (global_step 242000) finished, time:37.1 seconds.\n",
      "\u001b[32m[0924 11:19:50 @saver.py:79]\u001b[0m Model saved to ../output/Chicago/DATGAN_TEST/model\\model-242000.\n",
      "\u001b[32m[0924 11:19:50 @monitor.py:467]\u001b[0m GAN_loss/discrim/accuracy_fake: 0.92\n",
      "\u001b[32m[0924 11:19:50 @monitor.py:467]\u001b[0m GAN_loss/discrim/accuracy_real: 0.13\n",
      "\u001b[32m[0924 11:19:50 @monitor.py:467]\u001b[0m GAN_loss/discrim/loss: 0.64309\n",
      "\u001b[32m[0924 11:19:50 @monitor.py:467]\u001b[0m GAN_loss/gen/final-g-loss: 1.3883\n",
      "\u001b[32m[0924 11:19:50 @monitor.py:467]\u001b[0m GAN_loss/gen/klloss: 0.26625\n",
      "\u001b[32m[0924 11:19:50 @monitor.py:467]\u001b[0m GAN_loss/gen/loss: 1.1221\n",
      "\u001b[32m[0924 11:19:50 @monitor.py:467]\u001b[0m QueueInput/queue_size: 1.9259e-32\n",
      "\u001b[32m[0924 11:19:50 @monitor.py:467]\u001b[0m QueueInput_1/queue_size: 50\n",
      "\u001b[32m[0924 11:19:50 @base.py:275]\u001b[0m Start Epoch 122 ...\n"
     ]
    },
    {
     "name": "stderr",
     "output_type": "stream",
     "text": [
      "\n",
      "100%|#################################################################################|2000/2000[00:37<00:00,53.98it/s]"
     ]
    },
    {
     "name": "stdout",
     "output_type": "stream",
     "text": [
      "\u001b[32m[0924 11:20:27 @base.py:285]\u001b[0m Epoch 122 (global_step 244000) finished, time:37 seconds.\n",
      "\u001b[32m[0924 11:20:27 @saver.py:79]\u001b[0m Model saved to ../output/Chicago/DATGAN_TEST/model\\model-244000.\n",
      "\u001b[32m[0924 11:20:27 @monitor.py:467]\u001b[0m GAN_loss/discrim/accuracy_fake: 0.895\n",
      "\u001b[32m[0924 11:20:27 @monitor.py:467]\u001b[0m GAN_loss/discrim/accuracy_real: 0.125\n",
      "\u001b[32m[0924 11:20:27 @monitor.py:467]\u001b[0m GAN_loss/discrim/loss: 0.6464\n",
      "\u001b[32m[0924 11:20:27 @monitor.py:467]\u001b[0m GAN_loss/gen/final-g-loss: 1.3383\n",
      "\u001b[32m[0924 11:20:27 @monitor.py:467]\u001b[0m GAN_loss/gen/klloss: 0.22403\n",
      "\u001b[32m[0924 11:20:27 @monitor.py:467]\u001b[0m GAN_loss/gen/loss: 1.1143\n",
      "\u001b[32m[0924 11:20:27 @monitor.py:467]\u001b[0m QueueInput/queue_size: 9.6296e-33\n",
      "\u001b[32m[0924 11:20:27 @monitor.py:467]\u001b[0m QueueInput_1/queue_size: 50\n",
      "\u001b[32m[0924 11:20:27 @base.py:275]\u001b[0m Start Epoch 123 ...\n"
     ]
    },
    {
     "name": "stderr",
     "output_type": "stream",
     "text": [
      "\n",
      "100%|#################################################################################|2000/2000[00:37<00:00,54.03it/s]"
     ]
    },
    {
     "name": "stdout",
     "output_type": "stream",
     "text": [
      "\u001b[32m[0924 11:21:04 @base.py:285]\u001b[0m Epoch 123 (global_step 246000) finished, time:37 seconds.\n",
      "\u001b[32m[0924 11:21:04 @saver.py:79]\u001b[0m Model saved to ../output/Chicago/DATGAN_TEST/model\\model-246000.\n",
      "\u001b[32m[0924 11:21:04 @monitor.py:467]\u001b[0m GAN_loss/discrim/accuracy_fake: 0.91\n"
     ]
    },
    {
     "name": "stderr",
     "output_type": "stream",
     "text": [
      "\n"
     ]
    },
    {
     "name": "stdout",
     "output_type": "stream",
     "text": [
      "\u001b[32m[0924 11:21:04 @monitor.py:467]\u001b[0m GAN_loss/discrim/accuracy_real: 0.15\n",
      "\u001b[32m[0924 11:21:04 @monitor.py:467]\u001b[0m GAN_loss/discrim/loss: 0.65727\n",
      "\u001b[32m[0924 11:21:04 @monitor.py:467]\u001b[0m GAN_loss/gen/final-g-loss: 1.297\n",
      "\u001b[32m[0924 11:21:04 @monitor.py:467]\u001b[0m GAN_loss/gen/klloss: 0.22269\n",
      "\u001b[32m[0924 11:21:04 @monitor.py:467]\u001b[0m GAN_loss/gen/loss: 1.0743\n",
      "\u001b[32m[0924 11:21:04 @monitor.py:467]\u001b[0m QueueInput/queue_size: 4.8148e-33\n",
      "\u001b[32m[0924 11:21:04 @monitor.py:467]\u001b[0m QueueInput_1/queue_size: 50\n",
      "\u001b[32m[0924 11:21:04 @base.py:275]\u001b[0m Start Epoch 124 ...\n"
     ]
    },
    {
     "name": "stderr",
     "output_type": "stream",
     "text": [
      "100%|#################################################################################|2000/2000[00:36<00:00,54.15it/s]"
     ]
    },
    {
     "name": "stdout",
     "output_type": "stream",
     "text": [
      "\u001b[32m[0924 11:21:41 @base.py:285]\u001b[0m Epoch 124 (global_step 248000) finished, time:36.9 seconds.\n",
      "\u001b[32m[0924 11:21:41 @saver.py:79]\u001b[0m Model saved to ../output/Chicago/DATGAN_TEST/model\\model-248000.\n",
      "\u001b[32m[0924 11:21:41 @monitor.py:467]\u001b[0m GAN_loss/discrim/accuracy_fake: 0.9\n",
      "\u001b[32m[0924 11:21:41 @monitor.py:467]\u001b[0m GAN_loss/discrim/accuracy_real: 0.17\n",
      "\u001b[32m[0924 11:21:41 @monitor.py:467]\u001b[0m GAN_loss/discrim/loss: 0.64535\n",
      "\u001b[32m[0924 11:21:41 @monitor.py:467]\u001b[0m GAN_loss/gen/final-g-loss: 1.3939\n",
      "\u001b[32m[0924 11:21:41 @monitor.py:467]\u001b[0m GAN_loss/gen/klloss: 0.28092\n",
      "\u001b[32m[0924 11:21:41 @monitor.py:467]\u001b[0m GAN_loss/gen/loss: 1.113\n",
      "\u001b[32m[0924 11:21:41 @monitor.py:467]\u001b[0m QueueInput/queue_size: 2.4074e-33\n",
      "\u001b[32m[0924 11:21:41 @monitor.py:467]\u001b[0m QueueInput_1/queue_size: 50\n",
      "\u001b[32m[0924 11:21:41 @base.py:275]\u001b[0m Start Epoch 125 ...\n"
     ]
    },
    {
     "name": "stderr",
     "output_type": "stream",
     "text": [
      "\n",
      "100%|#################################################################################|2000/2000[00:36<00:00,54.31it/s]"
     ]
    },
    {
     "name": "stdout",
     "output_type": "stream",
     "text": [
      "\u001b[32m[0924 11:22:18 @base.py:285]\u001b[0m Epoch 125 (global_step 250000) finished, time:36.8 seconds.\n",
      "\u001b[32m[0924 11:22:18 @saver.py:79]\u001b[0m Model saved to ../output/Chicago/DATGAN_TEST/model\\model-250000.\n",
      "\u001b[32m[0924 11:22:18 @monitor.py:467]\u001b[0m GAN_loss/discrim/accuracy_fake: 0.905\n",
      "\u001b[32m[0924 11:22:18 @monitor.py:467]\u001b[0m GAN_loss/discrim/accuracy_real: 0.13\n",
      "\u001b[32m[0924 11:22:18 @monitor.py:467]\u001b[0m GAN_loss/discrim/loss: 0.64241\n",
      "\u001b[32m[0924 11:22:18 @monitor.py:467]\u001b[0m GAN_loss/gen/final-g-loss: 1.3584\n",
      "\u001b[32m[0924 11:22:18 @monitor.py:467]\u001b[0m GAN_loss/gen/klloss: 0.2618\n",
      "\u001b[32m[0924 11:22:18 @monitor.py:467]\u001b[0m GAN_loss/gen/loss: 1.0966\n",
      "\u001b[32m[0924 11:22:18 @monitor.py:467]\u001b[0m QueueInput/queue_size: 1.2037e-33\n",
      "\u001b[32m[0924 11:22:18 @monitor.py:467]\u001b[0m QueueInput_1/queue_size: 50\n",
      "\u001b[32m[0924 11:22:18 @base.py:275]\u001b[0m Start Epoch 126 ...\n"
     ]
    },
    {
     "name": "stderr",
     "output_type": "stream",
     "text": [
      "\n",
      "100%|#################################################################################|2000/2000[00:37<00:00,54.03it/s]"
     ]
    },
    {
     "name": "stdout",
     "output_type": "stream",
     "text": [
      "\u001b[32m[0924 11:22:55 @base.py:285]\u001b[0m Epoch 126 (global_step 252000) finished, time:37 seconds.\n",
      "\u001b[32m[0924 11:22:56 @saver.py:79]\u001b[0m Model saved to ../output/Chicago/DATGAN_TEST/model\\model-252000.\n"
     ]
    },
    {
     "name": "stderr",
     "output_type": "stream",
     "text": [
      "\n"
     ]
    },
    {
     "name": "stdout",
     "output_type": "stream",
     "text": [
      "\u001b[32m[0924 11:22:56 @monitor.py:467]\u001b[0m GAN_loss/discrim/accuracy_fake: 0.915\n",
      "\u001b[32m[0924 11:22:56 @monitor.py:467]\u001b[0m GAN_loss/discrim/accuracy_real: 0.1\n",
      "\u001b[32m[0924 11:22:56 @monitor.py:467]\u001b[0m GAN_loss/discrim/loss: 0.65258\n",
      "\u001b[32m[0924 11:22:56 @monitor.py:467]\u001b[0m GAN_loss/gen/final-g-loss: 1.3414\n",
      "\u001b[32m[0924 11:22:56 @monitor.py:467]\u001b[0m GAN_loss/gen/klloss: 0.22463\n",
      "\u001b[32m[0924 11:22:56 @monitor.py:467]\u001b[0m GAN_loss/gen/loss: 1.1168\n",
      "\u001b[32m[0924 11:22:56 @monitor.py:467]\u001b[0m QueueInput/queue_size: 6.0185e-34\n",
      "\u001b[32m[0924 11:22:56 @monitor.py:467]\u001b[0m QueueInput_1/queue_size: 50\n",
      "\u001b[32m[0924 11:22:56 @base.py:275]\u001b[0m Start Epoch 127 ...\n"
     ]
    },
    {
     "name": "stderr",
     "output_type": "stream",
     "text": [
      "100%|#################################################################################|2000/2000[00:37<00:00,54.04it/s]"
     ]
    },
    {
     "name": "stdout",
     "output_type": "stream",
     "text": [
      "\u001b[32m[0924 11:23:33 @base.py:285]\u001b[0m Epoch 127 (global_step 254000) finished, time:37 seconds.\n",
      "\u001b[32m[0924 11:23:33 @saver.py:79]\u001b[0m Model saved to ../output/Chicago/DATGAN_TEST/model\\model-254000.\n",
      "\u001b[32m[0924 11:23:33 @monitor.py:467]\u001b[0m GAN_loss/discrim/accuracy_fake: 0.925\n",
      "\u001b[32m[0924 11:23:33 @monitor.py:467]\u001b[0m GAN_loss/discrim/accuracy_real: 0.155\n",
      "\u001b[32m[0924 11:23:33 @monitor.py:467]\u001b[0m GAN_loss/discrim/loss: 0.63235\n",
      "\u001b[32m[0924 11:23:33 @monitor.py:467]\u001b[0m GAN_loss/gen/final-g-loss: 1.3113\n",
      "\u001b[32m[0924 11:23:33 @monitor.py:467]\u001b[0m GAN_loss/gen/klloss: 0.19491\n",
      "\u001b[32m[0924 11:23:33 @monitor.py:467]\u001b[0m GAN_loss/gen/loss: 1.1163\n",
      "\u001b[32m[0924 11:23:33 @monitor.py:467]\u001b[0m QueueInput/queue_size: 3.0093e-34\n",
      "\u001b[32m[0924 11:23:33 @monitor.py:467]\u001b[0m QueueInput_1/queue_size: 50\n",
      "\u001b[32m[0924 11:23:33 @base.py:275]\u001b[0m Start Epoch 128 ...\n"
     ]
    },
    {
     "name": "stderr",
     "output_type": "stream",
     "text": [
      "\n",
      "100%|#################################################################################|2000/2000[00:36<00:00,54.29it/s]"
     ]
    },
    {
     "name": "stdout",
     "output_type": "stream",
     "text": [
      "\u001b[32m[0924 11:24:09 @base.py:285]\u001b[0m Epoch 128 (global_step 256000) finished, time:36.8 seconds.\n",
      "\u001b[32m[0924 11:24:10 @saver.py:79]\u001b[0m Model saved to ../output/Chicago/DATGAN_TEST/model\\model-256000.\n",
      "\u001b[32m[0924 11:24:10 @monitor.py:467]\u001b[0m GAN_loss/discrim/accuracy_fake: 0.92\n",
      "\u001b[32m[0924 11:24:10 @monitor.py:467]\u001b[0m GAN_loss/discrim/accuracy_real: 0.16\n",
      "\u001b[32m[0924 11:24:10 @monitor.py:467]\u001b[0m GAN_loss/discrim/loss: 0.64897\n",
      "\u001b[32m[0924 11:24:10 @monitor.py:467]\u001b[0m GAN_loss/gen/final-g-loss: 1.262\n",
      "\u001b[32m[0924 11:24:10 @monitor.py:467]\u001b[0m GAN_loss/gen/klloss: 0.16551\n",
      "\u001b[32m[0924 11:24:10 @monitor.py:467]\u001b[0m GAN_loss/gen/loss: 1.0965\n",
      "\u001b[32m[0924 11:24:10 @monitor.py:467]\u001b[0m QueueInput/queue_size: 1.5046e-34\n",
      "\u001b[32m[0924 11:24:10 @monitor.py:467]\u001b[0m QueueInput_1/queue_size: 50\n",
      "\u001b[32m[0924 11:24:10 @base.py:275]\u001b[0m Start Epoch 129 ...\n"
     ]
    },
    {
     "name": "stderr",
     "output_type": "stream",
     "text": [
      "\n",
      "100%|#################################################################################|2000/2000[00:36<00:00,54.25it/s]"
     ]
    },
    {
     "name": "stdout",
     "output_type": "stream",
     "text": [
      "\u001b[32m[0924 11:24:46 @base.py:285]\u001b[0m Epoch 129 (global_step 258000) finished, time:36.9 seconds.\n",
      "\u001b[32m[0924 11:24:47 @saver.py:79]\u001b[0m Model saved to ../output/Chicago/DATGAN_TEST/model\\model-258000.\n",
      "\u001b[32m[0924 11:24:47 @monitor.py:467]\u001b[0m GAN_loss/discrim/accuracy_fake: 0.92\n",
      "\u001b[32m[0924 11:24:47 @monitor.py:467]\u001b[0m GAN_loss/discrim/accuracy_real: 0.185\n",
      "\u001b[32m[0924 11:24:47 @monitor.py:467]\u001b[0m GAN_loss/discrim/loss: 0.64016\n",
      "\u001b[32m[0924 11:24:47 @monitor.py:467]\u001b[0m GAN_loss/gen/final-g-loss: 1.3468\n",
      "\u001b[32m[0924 11:24:47 @monitor.py:467]\u001b[0m GAN_loss/gen/klloss: 0.22453\n",
      "\u001b[32m[0924 11:24:47 @monitor.py:467]\u001b[0m GAN_loss/gen/loss: 1.1223\n",
      "\u001b[32m[0924 11:24:47 @monitor.py:467]\u001b[0m QueueInput/queue_size: 7.5232e-35\n",
      "\u001b[32m[0924 11:24:47 @monitor.py:467]\u001b[0m QueueInput_1/queue_size: 50\n",
      "\u001b[32m[0924 11:24:47 @base.py:275]\u001b[0m Start Epoch 130 ...\n"
     ]
    },
    {
     "name": "stderr",
     "output_type": "stream",
     "text": [
      "\n",
      "100%|#################################################################################|2000/2000[00:37<00:00,54.00it/s]"
     ]
    },
    {
     "name": "stdout",
     "output_type": "stream",
     "text": [
      "\u001b[32m[0924 11:25:24 @base.py:285]\u001b[0m Epoch 130 (global_step 260000) finished, time:37 seconds.\n",
      "\u001b[32m[0924 11:25:24 @saver.py:79]\u001b[0m Model saved to ../output/Chicago/DATGAN_TEST/model\\model-260000.\n",
      "\u001b[32m[0924 11:25:24 @monitor.py:467]\u001b[0m GAN_loss/discrim/accuracy_fake: 0.915\n"
     ]
    },
    {
     "name": "stderr",
     "output_type": "stream",
     "text": [
      "\n"
     ]
    },
    {
     "name": "stdout",
     "output_type": "stream",
     "text": [
      "\u001b[32m[0924 11:25:24 @monitor.py:467]\u001b[0m GAN_loss/discrim/accuracy_real: 0.11\n",
      "\u001b[32m[0924 11:25:24 @monitor.py:467]\u001b[0m GAN_loss/discrim/loss: 0.64498\n",
      "\u001b[32m[0924 11:25:24 @monitor.py:467]\u001b[0m GAN_loss/gen/final-g-loss: 1.3153\n",
      "\u001b[32m[0924 11:25:24 @monitor.py:467]\u001b[0m GAN_loss/gen/klloss: 0.1943\n",
      "\u001b[32m[0924 11:25:24 @monitor.py:467]\u001b[0m GAN_loss/gen/loss: 1.121\n",
      "\u001b[32m[0924 11:25:24 @monitor.py:467]\u001b[0m QueueInput/queue_size: 3.7616e-35\n",
      "\u001b[32m[0924 11:25:24 @monitor.py:467]\u001b[0m QueueInput_1/queue_size: 50\n",
      "\u001b[32m[0924 11:25:24 @base.py:275]\u001b[0m Start Epoch 131 ...\n"
     ]
    },
    {
     "name": "stderr",
     "output_type": "stream",
     "text": [
      "100%|#################################################################################|2000/2000[00:36<00:00,54.22it/s]"
     ]
    },
    {
     "name": "stdout",
     "output_type": "stream",
     "text": [
      "\u001b[32m[0924 11:26:01 @base.py:285]\u001b[0m Epoch 131 (global_step 262000) finished, time:36.9 seconds.\n",
      "\u001b[32m[0924 11:26:01 @saver.py:79]\u001b[0m Model saved to ../output/Chicago/DATGAN_TEST/model\\model-262000.\n",
      "\u001b[32m[0924 11:26:01 @monitor.py:467]\u001b[0m GAN_loss/discrim/accuracy_fake: 0.92\n",
      "\u001b[32m[0924 11:26:01 @monitor.py:467]\u001b[0m GAN_loss/discrim/accuracy_real: 0.12\n",
      "\u001b[32m[0924 11:26:01 @monitor.py:467]\u001b[0m GAN_loss/discrim/loss: 0.6496\n",
      "\u001b[32m[0924 11:26:01 @monitor.py:467]\u001b[0m GAN_loss/gen/final-g-loss: 1.3052\n",
      "\u001b[32m[0924 11:26:01 @monitor.py:467]\u001b[0m GAN_loss/gen/klloss: 0.18969\n",
      "\u001b[32m[0924 11:26:01 @monitor.py:467]\u001b[0m GAN_loss/gen/loss: 1.1155\n",
      "\u001b[32m[0924 11:26:01 @monitor.py:467]\u001b[0m QueueInput/queue_size: 1.8808e-35\n",
      "\u001b[32m[0924 11:26:01 @monitor.py:467]\u001b[0m QueueInput_1/queue_size: 50\n",
      "\u001b[32m[0924 11:26:01 @base.py:275]\u001b[0m Start Epoch 132 ...\n"
     ]
    },
    {
     "name": "stderr",
     "output_type": "stream",
     "text": [
      "\n",
      "100%|#################################################################################|2000/2000[00:36<00:00,54.23it/s]"
     ]
    },
    {
     "name": "stdout",
     "output_type": "stream",
     "text": [
      "\u001b[32m[0924 11:26:38 @base.py:285]\u001b[0m Epoch 132 (global_step 264000) finished, time:36.9 seconds.\n",
      "\u001b[32m[0924 11:26:38 @saver.py:79]\u001b[0m Model saved to ../output/Chicago/DATGAN_TEST/model\\model-264000.\n",
      "\u001b[32m[0924 11:26:38 @monitor.py:467]\u001b[0m GAN_loss/discrim/accuracy_fake: 0.93\n",
      "\u001b[32m[0924 11:26:38 @monitor.py:467]\u001b[0m GAN_loss/discrim/accuracy_real: 0.18\n",
      "\u001b[32m[0924 11:26:38 @monitor.py:467]\u001b[0m GAN_loss/discrim/loss: 0.64166\n",
      "\u001b[32m[0924 11:26:38 @monitor.py:467]\u001b[0m GAN_loss/gen/final-g-loss: 1.3107\n",
      "\u001b[32m[0924 11:26:38 @monitor.py:467]\u001b[0m GAN_loss/gen/klloss: 0.20046\n",
      "\u001b[32m[0924 11:26:38 @monitor.py:467]\u001b[0m GAN_loss/gen/loss: 1.1102\n",
      "\u001b[32m[0924 11:26:38 @monitor.py:467]\u001b[0m QueueInput/queue_size: 9.404e-36\n",
      "\u001b[32m[0924 11:26:38 @monitor.py:467]\u001b[0m QueueInput_1/queue_size: 50\n",
      "\u001b[32m[0924 11:26:38 @base.py:275]\u001b[0m Start Epoch 133 ...\n"
     ]
    },
    {
     "name": "stderr",
     "output_type": "stream",
     "text": [
      "\n",
      "100%|#################################################################################|2000/2000[00:36<00:00,54.27it/s]"
     ]
    },
    {
     "name": "stdout",
     "output_type": "stream",
     "text": [
      "\u001b[32m[0924 11:27:15 @base.py:285]\u001b[0m Epoch 133 (global_step 266000) finished, time:36.9 seconds.\n",
      "\u001b[32m[0924 11:27:15 @saver.py:79]\u001b[0m Model saved to ../output/Chicago/DATGAN_TEST/model\\model-266000.\n",
      "\u001b[32m[0924 11:27:15 @monitor.py:467]\u001b[0m GAN_loss/discrim/accuracy_fake: 0.89\n",
      "\u001b[32m[0924 11:27:15 @monitor.py:467]\u001b[0m GAN_loss/discrim/accuracy_real: 0.15\n",
      "\u001b[32m[0924 11:27:15 @monitor.py:467]\u001b[0m GAN_loss/discrim/loss: 0.6519\n",
      "\u001b[32m[0924 11:27:15 @monitor.py:467]\u001b[0m GAN_loss/gen/final-g-loss: 1.3388\n",
      "\u001b[32m[0924 11:27:15 @monitor.py:467]\u001b[0m GAN_loss/gen/klloss: 0.24638\n",
      "\u001b[32m[0924 11:27:15 @monitor.py:467]\u001b[0m GAN_loss/gen/loss: 1.0924\n",
      "\u001b[32m[0924 11:27:15 @monitor.py:467]\u001b[0m QueueInput/queue_size: 4.702e-36\n",
      "\u001b[32m[0924 11:27:15 @monitor.py:467]\u001b[0m QueueInput_1/queue_size: 50\n",
      "\u001b[32m[0924 11:27:15 @base.py:275]\u001b[0m Start Epoch 134 ...\n"
     ]
    },
    {
     "name": "stderr",
     "output_type": "stream",
     "text": [
      "\n",
      "100%|#################################################################################|2000/2000[00:36<00:00,54.18it/s]"
     ]
    },
    {
     "name": "stdout",
     "output_type": "stream",
     "text": [
      "\u001b[32m[0924 11:27:52 @base.py:285]\u001b[0m Epoch 134 (global_step 268000) finished, time:36.9 seconds.\n",
      "\u001b[32m[0924 11:27:52 @saver.py:79]\u001b[0m Model saved to ../output/Chicago/DATGAN_TEST/model\\model-268000.\n",
      "\u001b[32m[0924 11:27:52 @monitor.py:467]\u001b[0m GAN_loss/discrim/accuracy_fake: 0.89\n",
      "\u001b[32m[0924 11:27:52 @monitor.py:467]\u001b[0m GAN_loss/discrim/accuracy_real: 0.13\n",
      "\u001b[32m[0924 11:27:52 @monitor.py:467]\u001b[0m GAN_loss/discrim/loss: 0.64632\n",
      "\u001b[32m[0924 11:27:52 @monitor.py:467]\u001b[0m GAN_loss/gen/final-g-loss: 1.3289\n",
      "\u001b[32m[0924 11:27:52 @monitor.py:467]\u001b[0m GAN_loss/gen/klloss: 0.22011\n",
      "\u001b[32m[0924 11:27:52 @monitor.py:467]\u001b[0m GAN_loss/gen/loss: 1.1088\n",
      "\u001b[32m[0924 11:27:52 @monitor.py:467]\u001b[0m QueueInput/queue_size: 2.351e-36\n",
      "\u001b[32m[0924 11:27:52 @monitor.py:467]\u001b[0m QueueInput_1/queue_size: 50\n",
      "\u001b[32m[0924 11:27:52 @base.py:275]\u001b[0m Start Epoch 135 ...\n"
     ]
    },
    {
     "name": "stderr",
     "output_type": "stream",
     "text": [
      "\n",
      "100%|#################################################################################|2000/2000[00:36<00:00,54.54it/s]"
     ]
    },
    {
     "name": "stdout",
     "output_type": "stream",
     "text": [
      "\u001b[32m[0924 11:28:28 @base.py:285]\u001b[0m Epoch 135 (global_step 270000) finished, time:36.7 seconds.\n",
      "\u001b[32m[0924 11:28:28 @saver.py:79]\u001b[0m Model saved to ../output/Chicago/DATGAN_TEST/model\\model-270000.\n",
      "\u001b[32m[0924 11:28:28 @monitor.py:467]\u001b[0m GAN_loss/discrim/accuracy_fake: 0.885\n",
      "\u001b[32m[0924 11:28:28 @monitor.py:467]\u001b[0m GAN_loss/discrim/accuracy_real: 0.195\n",
      "\u001b[32m[0924 11:28:28 @monitor.py:467]\u001b[0m GAN_loss/discrim/loss: 0.63959\n",
      "\u001b[32m[0924 11:28:28 @monitor.py:467]\u001b[0m GAN_loss/gen/final-g-loss: 1.327\n",
      "\u001b[32m[0924 11:28:28 @monitor.py:467]\u001b[0m GAN_loss/gen/klloss: 0.2171\n",
      "\u001b[32m[0924 11:28:28 @monitor.py:467]\u001b[0m GAN_loss/gen/loss: 1.1099\n",
      "\u001b[32m[0924 11:28:28 @monitor.py:467]\u001b[0m QueueInput/queue_size: 1.1755e-36\n",
      "\u001b[32m[0924 11:28:28 @monitor.py:467]\u001b[0m QueueInput_1/queue_size: 50\n",
      "\u001b[32m[0924 11:28:28 @base.py:275]\u001b[0m Start Epoch 136 ...\n"
     ]
    },
    {
     "name": "stderr",
     "output_type": "stream",
     "text": [
      "\n",
      "100%|#################################################################################|2000/2000[00:36<00:00,54.13it/s]"
     ]
    },
    {
     "name": "stdout",
     "output_type": "stream",
     "text": [
      "\u001b[32m[0924 11:29:05 @base.py:285]\u001b[0m Epoch 136 (global_step 272000) finished, time:36.9 seconds.\n",
      "\u001b[32m[0924 11:29:05 @saver.py:79]\u001b[0m Model saved to ../output/Chicago/DATGAN_TEST/model\\model-272000.\n",
      "\u001b[32m[0924 11:29:05 @monitor.py:467]\u001b[0m GAN_loss/discrim/accuracy_fake: 0.925\n",
      "\u001b[32m[0924 11:29:05 @monitor.py:467]\u001b[0m GAN_loss/discrim/accuracy_real: 0.13\n",
      "\u001b[32m[0924 11:29:05 @monitor.py:467]\u001b[0m GAN_loss/discrim/loss: 0.63956\n",
      "\u001b[32m[0924 11:29:05 @monitor.py:467]\u001b[0m GAN_loss/gen/final-g-loss: 1.2574\n",
      "\u001b[32m[0924 11:29:05 @monitor.py:467]\u001b[0m GAN_loss/gen/klloss: 0.13188\n",
      "\u001b[32m[0924 11:29:05 @monitor.py:467]\u001b[0m GAN_loss/gen/loss: 1.1255\n",
      "\u001b[32m[0924 11:29:05 @monitor.py:467]\u001b[0m QueueInput/queue_size: 5.8775e-37\n",
      "\u001b[32m[0924 11:29:05 @monitor.py:467]\u001b[0m QueueInput_1/queue_size: 50\n",
      "\u001b[32m[0924 11:29:05 @base.py:275]\u001b[0m Start Epoch 137 ...\n"
     ]
    },
    {
     "name": "stderr",
     "output_type": "stream",
     "text": [
      "\n",
      "100%|#################################################################################|2000/2000[00:36<00:00,54.21it/s]"
     ]
    },
    {
     "name": "stdout",
     "output_type": "stream",
     "text": [
      "\u001b[32m[0924 11:29:42 @base.py:285]\u001b[0m Epoch 137 (global_step 274000) finished, time:36.9 seconds.\n",
      "\u001b[32m[0924 11:29:42 @saver.py:79]\u001b[0m Model saved to ../output/Chicago/DATGAN_TEST/model\\model-274000.\n",
      "\u001b[32m[0924 11:29:42 @monitor.py:467]\u001b[0m GAN_loss/discrim/accuracy_fake: 0.895\n",
      "\u001b[32m[0924 11:29:42 @monitor.py:467]\u001b[0m GAN_loss/discrim/accuracy_real: 0.165\n",
      "\u001b[32m[0924 11:29:42 @monitor.py:467]\u001b[0m GAN_loss/discrim/loss: 0.63462\n",
      "\u001b[32m[0924 11:29:42 @monitor.py:467]\u001b[0m GAN_loss/gen/final-g-loss: 1.3491\n",
      "\u001b[32m[0924 11:29:42 @monitor.py:467]\u001b[0m GAN_loss/gen/klloss: 0.22842\n",
      "\u001b[32m[0924 11:29:42 @monitor.py:467]\u001b[0m GAN_loss/gen/loss: 1.1207\n",
      "\u001b[32m[0924 11:29:42 @monitor.py:467]\u001b[0m QueueInput/queue_size: 2.9387e-37\n",
      "\u001b[32m[0924 11:29:42 @monitor.py:467]\u001b[0m QueueInput_1/queue_size: 50\n",
      "\u001b[32m[0924 11:29:42 @base.py:275]\u001b[0m Start Epoch 138 ...\n"
     ]
    },
    {
     "name": "stderr",
     "output_type": "stream",
     "text": [
      "\n",
      "100%|#################################################################################|2000/2000[00:36<00:00,54.07it/s]"
     ]
    },
    {
     "name": "stdout",
     "output_type": "stream",
     "text": [
      "\u001b[32m[0924 11:30:19 @base.py:285]\u001b[0m Epoch 138 (global_step 276000) finished, time:37 seconds.\n",
      "\u001b[32m[0924 11:30:20 @saver.py:79]\u001b[0m Model saved to ../output/Chicago/DATGAN_TEST/model\\model-276000.\n",
      "\u001b[32m[0924 11:30:20 @monitor.py:467]\u001b[0m GAN_loss/discrim/accuracy_fake: 0.915\n",
      "\u001b[32m[0924 11:30:20 @monitor.py:467]\u001b[0m GAN_loss/discrim/accuracy_real: 0.18\n",
      "\u001b[32m[0924 11:30:20 @monitor.py:467]\u001b[0m GAN_loss/discrim/loss: 0.64149\n",
      "\u001b[32m[0924 11:30:20 @monitor.py:467]\u001b[0m GAN_loss/gen/final-g-loss: 1.3087\n",
      "\u001b[32m[0924 11:30:20 @monitor.py:467]\u001b[0m GAN_loss/gen/klloss: 0.19751\n",
      "\u001b[32m[0924 11:30:20 @monitor.py:467]\u001b[0m GAN_loss/gen/loss: 1.1112\n",
      "\u001b[32m[0924 11:30:20 @monitor.py:467]\u001b[0m QueueInput/queue_size: 1.4694e-37\n",
      "\u001b[32m[0924 11:30:20 @monitor.py:467]\u001b[0m QueueInput_1/queue_size: 50\n",
      "\u001b[32m[0924 11:30:20 @base.py:275]\u001b[0m Start Epoch 139 ...\n"
     ]
    },
    {
     "name": "stderr",
     "output_type": "stream",
     "text": [
      "\n",
      "100%|#################################################################################|2000/2000[00:36<00:00,54.08it/s]"
     ]
    },
    {
     "name": "stdout",
     "output_type": "stream",
     "text": [
      "\u001b[32m[0924 11:30:57 @base.py:285]\u001b[0m Epoch 139 (global_step 278000) finished, time:37 seconds.\n",
      "\u001b[32m[0924 11:30:57 @saver.py:79]\u001b[0m Model saved to ../output/Chicago/DATGAN_TEST/model\\model-278000.\n",
      "\u001b[32m[0924 11:30:57 @monitor.py:467]\u001b[0m GAN_loss/discrim/accuracy_fake: 0.92\n",
      "\u001b[32m[0924 11:30:57 @monitor.py:467]\u001b[0m GAN_loss/discrim/accuracy_real: 0.1\n",
      "\u001b[32m[0924 11:30:57 @monitor.py:467]\u001b[0m GAN_loss/discrim/loss: 0.65003\n",
      "\u001b[32m[0924 11:30:57 @monitor.py:467]\u001b[0m GAN_loss/gen/final-g-loss: 1.3211\n",
      "\u001b[32m[0924 11:30:57 @monitor.py:467]\u001b[0m GAN_loss/gen/klloss: 0.22\n",
      "\u001b[32m[0924 11:30:57 @monitor.py:467]\u001b[0m GAN_loss/gen/loss: 1.101\n",
      "\u001b[32m[0924 11:30:57 @monitor.py:467]\u001b[0m QueueInput/queue_size: 7.3468e-38\n",
      "\u001b[32m[0924 11:30:57 @monitor.py:467]\u001b[0m QueueInput_1/queue_size: 50\n",
      "\u001b[32m[0924 11:30:57 @base.py:275]\u001b[0m Start Epoch 140 ...\n"
     ]
    },
    {
     "name": "stderr",
     "output_type": "stream",
     "text": [
      "\n",
      "100%|#################################################################################|2000/2000[00:37<00:00,54.00it/s]"
     ]
    },
    {
     "name": "stdout",
     "output_type": "stream",
     "text": [
      "\u001b[32m[0924 11:31:34 @base.py:285]\u001b[0m Epoch 140 (global_step 280000) finished, time:37 seconds.\n"
     ]
    },
    {
     "name": "stderr",
     "output_type": "stream",
     "text": [
      "\n"
     ]
    },
    {
     "name": "stdout",
     "output_type": "stream",
     "text": [
      "\u001b[32m[0924 11:31:34 @saver.py:79]\u001b[0m Model saved to ../output/Chicago/DATGAN_TEST/model\\model-280000.\n",
      "\u001b[32m[0924 11:31:34 @monitor.py:467]\u001b[0m GAN_loss/discrim/accuracy_fake: 0.895\n",
      "\u001b[32m[0924 11:31:34 @monitor.py:467]\u001b[0m GAN_loss/discrim/accuracy_real: 0.155\n",
      "\u001b[32m[0924 11:31:34 @monitor.py:467]\u001b[0m GAN_loss/discrim/loss: 0.63791\n",
      "\u001b[32m[0924 11:31:34 @monitor.py:467]\u001b[0m GAN_loss/gen/final-g-loss: 1.3539\n",
      "\u001b[32m[0924 11:31:34 @monitor.py:467]\u001b[0m GAN_loss/gen/klloss: 0.21735\n",
      "\u001b[32m[0924 11:31:34 @monitor.py:467]\u001b[0m GAN_loss/gen/loss: 1.1365\n",
      "\u001b[32m[0924 11:31:34 @monitor.py:467]\u001b[0m QueueInput/queue_size: 3.6734e-38\n",
      "\u001b[32m[0924 11:31:34 @monitor.py:467]\u001b[0m QueueInput_1/queue_size: 50\n",
      "\u001b[32m[0924 11:31:34 @base.py:275]\u001b[0m Start Epoch 141 ...\n"
     ]
    },
    {
     "name": "stderr",
     "output_type": "stream",
     "text": [
      "100%|#################################################################################|2000/2000[00:37<00:00,53.74it/s]"
     ]
    },
    {
     "name": "stdout",
     "output_type": "stream",
     "text": [
      "\u001b[32m[0924 11:32:11 @base.py:285]\u001b[0m Epoch 141 (global_step 282000) finished, time:37.2 seconds.\n",
      "\u001b[32m[0924 11:32:11 @saver.py:79]\u001b[0m Model saved to ../output/Chicago/DATGAN_TEST/model\\model-282000.\n",
      "\u001b[32m[0924 11:32:11 @monitor.py:467]\u001b[0m GAN_loss/discrim/accuracy_fake: 0.9\n",
      "\u001b[32m[0924 11:32:11 @monitor.py:467]\u001b[0m GAN_loss/discrim/accuracy_real: 0.11\n",
      "\u001b[32m[0924 11:32:11 @monitor.py:467]\u001b[0m GAN_loss/discrim/loss: 0.64799\n",
      "\u001b[32m[0924 11:32:11 @monitor.py:467]\u001b[0m GAN_loss/gen/final-g-loss: 1.2352\n",
      "\u001b[32m[0924 11:32:11 @monitor.py:467]\u001b[0m GAN_loss/gen/klloss: 0.13718\n",
      "\u001b[32m[0924 11:32:11 @monitor.py:467]\u001b[0m GAN_loss/gen/loss: 1.0981\n",
      "\u001b[32m[0924 11:32:11 @monitor.py:467]\u001b[0m QueueInput/queue_size: 1.8367e-38\n",
      "\u001b[32m[0924 11:32:11 @monitor.py:467]\u001b[0m QueueInput_1/queue_size: 50\n",
      "\u001b[32m[0924 11:32:11 @base.py:275]\u001b[0m Start Epoch 142 ...\n"
     ]
    },
    {
     "name": "stderr",
     "output_type": "stream",
     "text": [
      "\n",
      "100%|#################################################################################|2000/2000[00:37<00:00,53.99it/s]"
     ]
    },
    {
     "name": "stdout",
     "output_type": "stream",
     "text": [
      "\u001b[32m[0924 11:32:48 @base.py:285]\u001b[0m Epoch 142 (global_step 284000) finished, time:37 seconds.\n",
      "\u001b[32m[0924 11:32:48 @saver.py:79]\u001b[0m Model saved to ../output/Chicago/DATGAN_TEST/model\\model-284000.\n",
      "\u001b[32m[0924 11:32:48 @monitor.py:467]\u001b[0m GAN_loss/discrim/accuracy_fake: 0.94\n",
      "\u001b[32m[0924 11:32:48 @monitor.py:467]\u001b[0m GAN_loss/discrim/accuracy_real: 0.18\n",
      "\u001b[32m[0924 11:32:48 @monitor.py:467]\u001b[0m GAN_loss/discrim/loss: 0.64041\n",
      "\u001b[32m[0924 11:32:48 @monitor.py:467]\u001b[0m GAN_loss/gen/final-g-loss: 1.2895\n",
      "\u001b[32m[0924 11:32:48 @monitor.py:467]\u001b[0m GAN_loss/gen/klloss: 0.17402\n",
      "\u001b[32m[0924 11:32:48 @monitor.py:467]\u001b[0m GAN_loss/gen/loss: 1.1155\n",
      "\u001b[32m[0924 11:32:48 @monitor.py:467]\u001b[0m QueueInput/queue_size: 1.8367e-38\n",
      "\u001b[32m[0924 11:32:48 @monitor.py:467]\u001b[0m QueueInput_1/queue_size: 50\n",
      "\u001b[32m[0924 11:32:48 @base.py:275]\u001b[0m Start Epoch 143 ...\n"
     ]
    },
    {
     "name": "stderr",
     "output_type": "stream",
     "text": [
      "\n",
      "100%|#################################################################################|2000/2000[00:37<00:00,53.83it/s]"
     ]
    },
    {
     "name": "stdout",
     "output_type": "stream",
     "text": [
      "\u001b[32m[0924 11:33:25 @base.py:285]\u001b[0m Epoch 143 (global_step 286000) finished, time:37.2 seconds.\n",
      "\u001b[32m[0924 11:33:26 @saver.py:79]\u001b[0m Model saved to ../output/Chicago/DATGAN_TEST/model\\model-286000.\n",
      "\u001b[32m[0924 11:33:26 @monitor.py:467]\u001b[0m GAN_loss/discrim/accuracy_fake: 0.895\n",
      "\u001b[32m[0924 11:33:26 @monitor.py:467]\u001b[0m GAN_loss/discrim/accuracy_real: 0.16\n",
      "\u001b[32m[0924 11:33:26 @monitor.py:467]\u001b[0m GAN_loss/discrim/loss: 0.65208\n",
      "\u001b[32m[0924 11:33:26 @monitor.py:467]\u001b[0m GAN_loss/gen/final-g-loss: 1.2492\n",
      "\u001b[32m[0924 11:33:26 @monitor.py:467]\u001b[0m GAN_loss/gen/klloss: 0.14398\n",
      "\u001b[32m[0924 11:33:26 @monitor.py:467]\u001b[0m GAN_loss/gen/loss: 1.1052\n",
      "\u001b[32m[0924 11:33:26 @monitor.py:467]\u001b[0m QueueInput/queue_size: 1.8367e-38\n",
      "\u001b[32m[0924 11:33:26 @monitor.py:467]\u001b[0m QueueInput_1/queue_size: 50\n",
      "\u001b[32m[0924 11:33:26 @base.py:275]\u001b[0m Start Epoch 144 ...\n"
     ]
    },
    {
     "name": "stderr",
     "output_type": "stream",
     "text": [
      "\n",
      "100%|#################################################################################|2000/2000[00:37<00:00,53.87it/s]"
     ]
    },
    {
     "name": "stdout",
     "output_type": "stream",
     "text": [
      "\u001b[32m[0924 11:34:03 @base.py:285]\u001b[0m Epoch 144 (global_step 288000) finished, time:37.1 seconds.\n",
      "\u001b[32m[0924 11:34:03 @saver.py:79]\u001b[0m Model saved to ../output/Chicago/DATGAN_TEST/model\\model-288000.\n",
      "\u001b[32m[0924 11:34:03 @monitor.py:467]\u001b[0m GAN_loss/discrim/accuracy_fake: 0.91\n",
      "\u001b[32m[0924 11:34:03 @monitor.py:467]\u001b[0m GAN_loss/discrim/accuracy_real: 0.17\n",
      "\u001b[32m[0924 11:34:03 @monitor.py:467]\u001b[0m GAN_loss/discrim/loss: 0.64124\n",
      "\u001b[32m[0924 11:34:03 @monitor.py:467]\u001b[0m GAN_loss/gen/final-g-loss: 1.3513\n",
      "\u001b[32m[0924 11:34:03 @monitor.py:467]\u001b[0m GAN_loss/gen/klloss: 0.24913\n",
      "\u001b[32m[0924 11:34:03 @monitor.py:467]\u001b[0m GAN_loss/gen/loss: 1.1022\n",
      "\u001b[32m[0924 11:34:03 @monitor.py:467]\u001b[0m QueueInput/queue_size: 1.8367e-38\n",
      "\u001b[32m[0924 11:34:03 @monitor.py:467]\u001b[0m QueueInput_1/queue_size: 50\n",
      "\u001b[32m[0924 11:34:03 @base.py:275]\u001b[0m Start Epoch 145 ...\n"
     ]
    },
    {
     "name": "stderr",
     "output_type": "stream",
     "text": [
      "\n",
      "100%|#################################################################################|2000/2000[00:37<00:00,53.94it/s]"
     ]
    },
    {
     "name": "stdout",
     "output_type": "stream",
     "text": [
      "\u001b[32m[0924 11:34:40 @base.py:285]\u001b[0m Epoch 145 (global_step 290000) finished, time:37.1 seconds.\n"
     ]
    },
    {
     "name": "stderr",
     "output_type": "stream",
     "text": [
      "\n"
     ]
    },
    {
     "name": "stdout",
     "output_type": "stream",
     "text": [
      "\u001b[32m[0924 11:34:40 @saver.py:79]\u001b[0m Model saved to ../output/Chicago/DATGAN_TEST/model\\model-290000.\n",
      "\u001b[32m[0924 11:34:40 @monitor.py:467]\u001b[0m GAN_loss/discrim/accuracy_fake: 0.89\n",
      "\u001b[32m[0924 11:34:40 @monitor.py:467]\u001b[0m GAN_loss/discrim/accuracy_real: 0.185\n",
      "\u001b[32m[0924 11:34:40 @monitor.py:467]\u001b[0m GAN_loss/discrim/loss: 0.6385\n",
      "\u001b[32m[0924 11:34:40 @monitor.py:467]\u001b[0m GAN_loss/gen/final-g-loss: 1.3489\n",
      "\u001b[32m[0924 11:34:40 @monitor.py:467]\u001b[0m GAN_loss/gen/klloss: 0.23084\n",
      "\u001b[32m[0924 11:34:40 @monitor.py:467]\u001b[0m GAN_loss/gen/loss: 1.118\n",
      "\u001b[32m[0924 11:34:40 @monitor.py:467]\u001b[0m QueueInput/queue_size: 1.8367e-38\n",
      "\u001b[32m[0924 11:34:40 @monitor.py:467]\u001b[0m QueueInput_1/queue_size: 50\n",
      "\u001b[32m[0924 11:34:40 @base.py:275]\u001b[0m Start Epoch 146 ...\n"
     ]
    },
    {
     "name": "stderr",
     "output_type": "stream",
     "text": [
      "100%|#################################################################################|2000/2000[00:37<00:00,53.94it/s]"
     ]
    },
    {
     "name": "stdout",
     "output_type": "stream",
     "text": [
      "\u001b[32m[0924 11:35:17 @base.py:285]\u001b[0m Epoch 146 (global_step 292000) finished, time:37.1 seconds.\n"
     ]
    },
    {
     "name": "stderr",
     "output_type": "stream",
     "text": [
      "\n"
     ]
    },
    {
     "name": "stdout",
     "output_type": "stream",
     "text": [
      "\u001b[32m[0924 11:35:17 @saver.py:79]\u001b[0m Model saved to ../output/Chicago/DATGAN_TEST/model\\model-292000.\n",
      "\u001b[32m[0924 11:35:17 @monitor.py:467]\u001b[0m GAN_loss/discrim/accuracy_fake: 0.92\n",
      "\u001b[32m[0924 11:35:17 @monitor.py:467]\u001b[0m GAN_loss/discrim/accuracy_real: 0.145\n",
      "\u001b[32m[0924 11:35:17 @monitor.py:467]\u001b[0m GAN_loss/discrim/loss: 0.64751\n",
      "\u001b[32m[0924 11:35:17 @monitor.py:467]\u001b[0m GAN_loss/gen/final-g-loss: 1.3231\n",
      "\u001b[32m[0924 11:35:17 @monitor.py:467]\u001b[0m GAN_loss/gen/klloss: 0.20388\n",
      "\u001b[32m[0924 11:35:17 @monitor.py:467]\u001b[0m GAN_loss/gen/loss: 1.1192\n",
      "\u001b[32m[0924 11:35:17 @monitor.py:467]\u001b[0m QueueInput/queue_size: 1.8367e-38\n",
      "\u001b[32m[0924 11:35:17 @monitor.py:467]\u001b[0m QueueInput_1/queue_size: 50\n",
      "\u001b[32m[0924 11:35:17 @base.py:275]\u001b[0m Start Epoch 147 ...\n"
     ]
    },
    {
     "name": "stderr",
     "output_type": "stream",
     "text": [
      "100%|#################################################################################|2000/2000[00:37<00:00,53.98it/s]"
     ]
    },
    {
     "name": "stdout",
     "output_type": "stream",
     "text": [
      "\u001b[32m[0924 11:35:54 @base.py:285]\u001b[0m Epoch 147 (global_step 294000) finished, time:37.1 seconds.\n",
      "\u001b[32m[0924 11:35:54 @saver.py:79]\u001b[0m Model saved to ../output/Chicago/DATGAN_TEST/model\\model-294000.\n",
      "\u001b[32m[0924 11:35:54 @monitor.py:467]\u001b[0m GAN_loss/discrim/accuracy_fake: 0.92\n",
      "\u001b[32m[0924 11:35:54 @monitor.py:467]\u001b[0m GAN_loss/discrim/accuracy_real: 0.15\n",
      "\u001b[32m[0924 11:35:54 @monitor.py:467]\u001b[0m GAN_loss/discrim/loss: 0.64799\n",
      "\u001b[32m[0924 11:35:54 @monitor.py:467]\u001b[0m GAN_loss/gen/final-g-loss: 1.3617\n",
      "\u001b[32m[0924 11:35:54 @monitor.py:467]\u001b[0m GAN_loss/gen/klloss: 0.23749\n",
      "\u001b[32m[0924 11:35:54 @monitor.py:467]\u001b[0m GAN_loss/gen/loss: 1.1243\n",
      "\u001b[32m[0924 11:35:54 @monitor.py:467]\u001b[0m QueueInput/queue_size: 1.8367e-38\n",
      "\u001b[32m[0924 11:35:54 @monitor.py:467]\u001b[0m QueueInput_1/queue_size: 50\n",
      "\u001b[32m[0924 11:35:54 @base.py:275]\u001b[0m Start Epoch 148 ...\n"
     ]
    },
    {
     "name": "stderr",
     "output_type": "stream",
     "text": [
      "\n",
      "100%|#################################################################################|2000/2000[00:37<00:00,54.03it/s]"
     ]
    },
    {
     "name": "stdout",
     "output_type": "stream",
     "text": [
      "\u001b[32m[0924 11:36:31 @base.py:285]\u001b[0m Epoch 148 (global_step 296000) finished, time:37 seconds.\n",
      "\u001b[32m[0924 11:36:31 @saver.py:79]\u001b[0m Model saved to ../output/Chicago/DATGAN_TEST/model\\model-296000.\n",
      "\u001b[32m[0924 11:36:31 @monitor.py:467]\u001b[0m GAN_loss/discrim/accuracy_fake: 0.885\n",
      "\u001b[32m[0924 11:36:31 @monitor.py:467]\u001b[0m GAN_loss/discrim/accuracy_real: 0.185\n",
      "\u001b[32m[0924 11:36:31 @monitor.py:467]\u001b[0m GAN_loss/discrim/loss: 0.65088\n",
      "\u001b[32m[0924 11:36:31 @monitor.py:467]\u001b[0m GAN_loss/gen/final-g-loss: 1.3421\n",
      "\u001b[32m[0924 11:36:31 @monitor.py:467]\u001b[0m GAN_loss/gen/klloss: 0.23975\n",
      "\u001b[32m[0924 11:36:31 @monitor.py:467]\u001b[0m GAN_loss/gen/loss: 1.1024\n",
      "\u001b[32m[0924 11:36:31 @monitor.py:467]\u001b[0m QueueInput/queue_size: 1.8367e-38\n",
      "\u001b[32m[0924 11:36:31 @monitor.py:467]\u001b[0m QueueInput_1/queue_size: 50\n",
      "\u001b[32m[0924 11:36:31 @base.py:275]\u001b[0m Start Epoch 149 ...\n"
     ]
    },
    {
     "name": "stderr",
     "output_type": "stream",
     "text": [
      "\n",
      "100%|#################################################################################|2000/2000[00:36<00:00,54.08it/s]"
     ]
    },
    {
     "name": "stdout",
     "output_type": "stream",
     "text": [
      "\u001b[32m[0924 11:37:08 @base.py:285]\u001b[0m Epoch 149 (global_step 298000) finished, time:37 seconds.\n",
      "\u001b[32m[0924 11:37:08 @saver.py:79]\u001b[0m Model saved to ../output/Chicago/DATGAN_TEST/model\\model-298000.\n",
      "\u001b[32m[0924 11:37:09 @monitor.py:467]\u001b[0m GAN_loss/discrim/accuracy_fake: 0.92\n",
      "\u001b[32m[0924 11:37:09 @monitor.py:467]\u001b[0m GAN_loss/discrim/accuracy_real: 0.185\n",
      "\u001b[32m[0924 11:37:09 @monitor.py:467]\u001b[0m GAN_loss/discrim/loss: 0.64099\n",
      "\u001b[32m[0924 11:37:09 @monitor.py:467]\u001b[0m GAN_loss/gen/final-g-loss: 1.2988\n",
      "\u001b[32m[0924 11:37:09 @monitor.py:467]\u001b[0m GAN_loss/gen/klloss: 0.1736\n",
      "\u001b[32m[0924 11:37:09 @monitor.py:467]\u001b[0m GAN_loss/gen/loss: 1.1252\n",
      "\u001b[32m[0924 11:37:09 @monitor.py:467]\u001b[0m QueueInput/queue_size: 1.8367e-38\n",
      "\u001b[32m[0924 11:37:09 @monitor.py:467]\u001b[0m QueueInput_1/queue_size: 50\n",
      "\u001b[32m[0924 11:37:09 @base.py:275]\u001b[0m Start Epoch 150 ...\n"
     ]
    },
    {
     "name": "stderr",
     "output_type": "stream",
     "text": [
      "\n",
      "100%|#################################################################################|2000/2000[00:37<00:00,53.98it/s]"
     ]
    },
    {
     "name": "stdout",
     "output_type": "stream",
     "text": [
      "\u001b[32m[0924 11:37:46 @base.py:285]\u001b[0m Epoch 150 (global_step 300000) finished, time:37.1 seconds.\n",
      "\u001b[32m[0924 11:37:46 @saver.py:79]\u001b[0m Model saved to ../output/Chicago/DATGAN_TEST/model\\model-300000.\n"
     ]
    },
    {
     "name": "stderr",
     "output_type": "stream",
     "text": [
      "\n"
     ]
    },
    {
     "name": "stdout",
     "output_type": "stream",
     "text": [
      "\u001b[32m[0924 11:37:46 @monitor.py:467]\u001b[0m GAN_loss/discrim/accuracy_fake: 0.925\n",
      "\u001b[32m[0924 11:37:46 @monitor.py:467]\u001b[0m GAN_loss/discrim/accuracy_real: 0.125\n",
      "\u001b[32m[0924 11:37:46 @monitor.py:467]\u001b[0m GAN_loss/discrim/loss: 0.63965\n",
      "\u001b[32m[0924 11:37:46 @monitor.py:467]\u001b[0m GAN_loss/gen/final-g-loss: 1.3643\n",
      "\u001b[32m[0924 11:37:46 @monitor.py:467]\u001b[0m GAN_loss/gen/klloss: 0.22234\n",
      "\u001b[32m[0924 11:37:46 @monitor.py:467]\u001b[0m GAN_loss/gen/loss: 1.1419\n",
      "\u001b[32m[0924 11:37:46 @monitor.py:467]\u001b[0m QueueInput/queue_size: 1.8367e-38\n",
      "\u001b[32m[0924 11:37:46 @monitor.py:467]\u001b[0m QueueInput_1/queue_size: 50\n",
      "\u001b[32m[0924 11:37:46 @base.py:275]\u001b[0m Start Epoch 151 ...\n"
     ]
    },
    {
     "name": "stderr",
     "output_type": "stream",
     "text": [
      "100%|#################################################################################|2000/2000[00:36<00:00,54.08it/s]"
     ]
    },
    {
     "name": "stdout",
     "output_type": "stream",
     "text": [
      "\u001b[32m[0924 11:38:23 @base.py:285]\u001b[0m Epoch 151 (global_step 302000) finished, time:37 seconds.\n",
      "\u001b[32m[0924 11:38:23 @saver.py:79]\u001b[0m Model saved to ../output/Chicago/DATGAN_TEST/model\\model-302000.\n",
      "\u001b[32m[0924 11:38:23 @monitor.py:467]\u001b[0m GAN_loss/discrim/accuracy_fake: 0.91\n",
      "\u001b[32m[0924 11:38:23 @monitor.py:467]\u001b[0m GAN_loss/discrim/accuracy_real: 0.175\n",
      "\u001b[32m[0924 11:38:23 @monitor.py:467]\u001b[0m GAN_loss/discrim/loss: 0.64147\n",
      "\u001b[32m[0924 11:38:23 @monitor.py:467]\u001b[0m GAN_loss/gen/final-g-loss: 1.3448\n",
      "\u001b[32m[0924 11:38:23 @monitor.py:467]\u001b[0m GAN_loss/gen/klloss: 0.23393\n",
      "\u001b[32m[0924 11:38:23 @monitor.py:467]\u001b[0m GAN_loss/gen/loss: 1.1109\n",
      "\u001b[32m[0924 11:38:23 @monitor.py:467]\u001b[0m QueueInput/queue_size: 1.8367e-38\n",
      "\u001b[32m[0924 11:38:23 @monitor.py:467]\u001b[0m QueueInput_1/queue_size: 50\n",
      "\u001b[32m[0924 11:38:23 @base.py:275]\u001b[0m Start Epoch 152 ...\n"
     ]
    },
    {
     "name": "stderr",
     "output_type": "stream",
     "text": [
      "\n",
      "100%|#################################################################################|2000/2000[00:37<00:00,53.84it/s]"
     ]
    },
    {
     "name": "stdout",
     "output_type": "stream",
     "text": [
      "\u001b[32m[0924 11:39:00 @base.py:285]\u001b[0m Epoch 152 (global_step 304000) finished, time:37.1 seconds.\n",
      "\u001b[32m[0924 11:39:00 @saver.py:79]\u001b[0m Model saved to ../output/Chicago/DATGAN_TEST/model\\model-304000.\n",
      "\u001b[32m[0924 11:39:00 @monitor.py:467]\u001b[0m GAN_loss/discrim/accuracy_fake: 0.915\n",
      "\u001b[32m[0924 11:39:00 @monitor.py:467]\u001b[0m GAN_loss/discrim/accuracy_real: 0.115\n",
      "\u001b[32m[0924 11:39:00 @monitor.py:467]\u001b[0m GAN_loss/discrim/loss: 0.6464\n",
      "\u001b[32m[0924 11:39:00 @monitor.py:467]\u001b[0m GAN_loss/gen/final-g-loss: 1.27\n",
      "\u001b[32m[0924 11:39:00 @monitor.py:467]\u001b[0m GAN_loss/gen/klloss: 0.15462\n",
      "\u001b[32m[0924 11:39:00 @monitor.py:467]\u001b[0m GAN_loss/gen/loss: 1.1154\n",
      "\u001b[32m[0924 11:39:00 @monitor.py:467]\u001b[0m QueueInput/queue_size: 1.8367e-38\n",
      "\u001b[32m[0924 11:39:00 @monitor.py:467]\u001b[0m QueueInput_1/queue_size: 50\n",
      "\u001b[32m[0924 11:39:00 @base.py:275]\u001b[0m Start Epoch 153 ...\n"
     ]
    },
    {
     "name": "stderr",
     "output_type": "stream",
     "text": [
      "\n",
      "100%|#################################################################################|2000/2000[00:36<00:00,54.07it/s]"
     ]
    },
    {
     "name": "stdout",
     "output_type": "stream",
     "text": [
      "\u001b[32m[0924 11:39:37 @base.py:285]\u001b[0m Epoch 153 (global_step 306000) finished, time:37 seconds.\n",
      "\u001b[32m[0924 11:39:37 @saver.py:79]\u001b[0m Model saved to ../output/Chicago/DATGAN_TEST/model\\model-306000.\n",
      "\u001b[32m[0924 11:39:37 @monitor.py:467]\u001b[0m GAN_loss/discrim/accuracy_fake: 0.89\n",
      "\u001b[32m[0924 11:39:37 @monitor.py:467]\u001b[0m GAN_loss/discrim/accuracy_real: 0.155\n",
      "\u001b[32m[0924 11:39:37 @monitor.py:467]\u001b[0m GAN_loss/discrim/loss: 0.65204\n",
      "\u001b[32m[0924 11:39:37 @monitor.py:467]\u001b[0m GAN_loss/gen/final-g-loss: 1.4194\n",
      "\u001b[32m[0924 11:39:37 @monitor.py:467]\u001b[0m GAN_loss/gen/klloss: 0.32322\n",
      "\u001b[32m[0924 11:39:37 @monitor.py:467]\u001b[0m GAN_loss/gen/loss: 1.0962\n",
      "\u001b[32m[0924 11:39:37 @monitor.py:467]\u001b[0m QueueInput/queue_size: 1.8367e-38\n",
      "\u001b[32m[0924 11:39:37 @monitor.py:467]\u001b[0m QueueInput_1/queue_size: 50\n",
      "\u001b[32m[0924 11:39:37 @base.py:275]\u001b[0m Start Epoch 154 ...\n"
     ]
    },
    {
     "name": "stderr",
     "output_type": "stream",
     "text": [
      "\n",
      "100%|#################################################################################|2000/2000[00:37<00:00,54.02it/s]"
     ]
    },
    {
     "name": "stdout",
     "output_type": "stream",
     "text": [
      "\u001b[32m[0924 11:40:14 @base.py:285]\u001b[0m Epoch 154 (global_step 308000) finished, time:37 seconds.\n",
      "\u001b[32m[0924 11:40:14 @saver.py:79]\u001b[0m Model saved to ../output/Chicago/DATGAN_TEST/model\\model-308000.\n",
      "\u001b[32m[0924 11:40:14 @monitor.py:467]\u001b[0m GAN_loss/discrim/accuracy_fake: 0.92\n",
      "\u001b[32m[0924 11:40:14 @monitor.py:467]\u001b[0m GAN_loss/discrim/accuracy_real: 0.175\n",
      "\u001b[32m[0924 11:40:14 @monitor.py:467]\u001b[0m GAN_loss/discrim/loss: 0.64368\n",
      "\u001b[32m[0924 11:40:14 @monitor.py:467]\u001b[0m GAN_loss/gen/final-g-loss: 1.3941\n",
      "\u001b[32m[0924 11:40:14 @monitor.py:467]\u001b[0m GAN_loss/gen/klloss: 0.29\n",
      "\u001b[32m[0924 11:40:14 @monitor.py:467]\u001b[0m GAN_loss/gen/loss: 1.1041\n",
      "\u001b[32m[0924 11:40:14 @monitor.py:467]\u001b[0m QueueInput/queue_size: 1.8367e-38\n",
      "\u001b[32m[0924 11:40:14 @monitor.py:467]\u001b[0m QueueInput_1/queue_size: 50\n",
      "\u001b[32m[0924 11:40:14 @base.py:275]\u001b[0m Start Epoch 155 ...\n"
     ]
    },
    {
     "name": "stderr",
     "output_type": "stream",
     "text": [
      "\n",
      "100%|#################################################################################|2000/2000[00:37<00:00,53.99it/s]"
     ]
    },
    {
     "name": "stdout",
     "output_type": "stream",
     "text": [
      "\u001b[32m[0924 11:40:51 @base.py:285]\u001b[0m Epoch 155 (global_step 310000) finished, time:37 seconds.\n"
     ]
    },
    {
     "name": "stderr",
     "output_type": "stream",
     "text": [
      "\n"
     ]
    },
    {
     "name": "stdout",
     "output_type": "stream",
     "text": [
      "\u001b[32m[0924 11:40:51 @saver.py:79]\u001b[0m Model saved to ../output/Chicago/DATGAN_TEST/model\\model-310000.\n",
      "\u001b[32m[0924 11:40:51 @monitor.py:467]\u001b[0m GAN_loss/discrim/accuracy_fake: 0.95\n",
      "\u001b[32m[0924 11:40:51 @monitor.py:467]\u001b[0m GAN_loss/discrim/accuracy_real: 0.16\n",
      "\u001b[32m[0924 11:40:51 @monitor.py:467]\u001b[0m GAN_loss/discrim/loss: 0.63401\n",
      "\u001b[32m[0924 11:40:51 @monitor.py:467]\u001b[0m GAN_loss/gen/final-g-loss: 1.3412\n",
      "\u001b[32m[0924 11:40:51 @monitor.py:467]\u001b[0m GAN_loss/gen/klloss: 0.19568\n",
      "\u001b[32m[0924 11:40:51 @monitor.py:467]\u001b[0m GAN_loss/gen/loss: 1.1455\n",
      "\u001b[32m[0924 11:40:51 @monitor.py:467]\u001b[0m QueueInput/queue_size: 1.8367e-38\n",
      "\u001b[32m[0924 11:40:51 @monitor.py:467]\u001b[0m QueueInput_1/queue_size: 50\n",
      "\u001b[32m[0924 11:40:51 @base.py:275]\u001b[0m Start Epoch 156 ...\n"
     ]
    },
    {
     "name": "stderr",
     "output_type": "stream",
     "text": [
      "100%|#################################################################################|2000/2000[00:37<00:00,53.92it/s]"
     ]
    },
    {
     "name": "stdout",
     "output_type": "stream",
     "text": [
      "\u001b[32m[0924 11:41:29 @base.py:285]\u001b[0m Epoch 156 (global_step 312000) finished, time:37.1 seconds.\n"
     ]
    },
    {
     "name": "stderr",
     "output_type": "stream",
     "text": [
      "\n"
     ]
    },
    {
     "name": "stdout",
     "output_type": "stream",
     "text": [
      "\u001b[32m[0924 11:41:29 @saver.py:79]\u001b[0m Model saved to ../output/Chicago/DATGAN_TEST/model\\model-312000.\n",
      "\u001b[32m[0924 11:41:29 @monitor.py:467]\u001b[0m GAN_loss/discrim/accuracy_fake: 0.88\n",
      "\u001b[32m[0924 11:41:29 @monitor.py:467]\u001b[0m GAN_loss/discrim/accuracy_real: 0.185\n",
      "\u001b[32m[0924 11:41:29 @monitor.py:467]\u001b[0m GAN_loss/discrim/loss: 0.65473\n",
      "\u001b[32m[0924 11:41:29 @monitor.py:467]\u001b[0m GAN_loss/gen/final-g-loss: 1.3188\n",
      "\u001b[32m[0924 11:41:29 @monitor.py:467]\u001b[0m GAN_loss/gen/klloss: 0.2173\n",
      "\u001b[32m[0924 11:41:29 @monitor.py:467]\u001b[0m GAN_loss/gen/loss: 1.1015\n",
      "\u001b[32m[0924 11:41:29 @monitor.py:467]\u001b[0m QueueInput/queue_size: 1.8367e-38\n",
      "\u001b[32m[0924 11:41:29 @monitor.py:467]\u001b[0m QueueInput_1/queue_size: 50\n",
      "\u001b[32m[0924 11:41:29 @base.py:275]\u001b[0m Start Epoch 157 ...\n"
     ]
    },
    {
     "name": "stderr",
     "output_type": "stream",
     "text": [
      "100%|#################################################################################|2000/2000[00:37<00:00,53.94it/s]"
     ]
    },
    {
     "name": "stdout",
     "output_type": "stream",
     "text": [
      "\u001b[32m[0924 11:42:06 @base.py:285]\u001b[0m Epoch 157 (global_step 314000) finished, time:37.1 seconds.\n",
      "\u001b[32m[0924 11:42:06 @saver.py:79]\u001b[0m Model saved to ../output/Chicago/DATGAN_TEST/model\\model-314000.\n",
      "\u001b[32m[0924 11:42:06 @monitor.py:467]\u001b[0m GAN_loss/discrim/accuracy_fake: 0.905\n",
      "\u001b[32m[0924 11:42:06 @monitor.py:467]\u001b[0m GAN_loss/discrim/accuracy_real: 0.235\n",
      "\u001b[32m[0924 11:42:06 @monitor.py:467]\u001b[0m GAN_loss/discrim/loss: 0.63904\n",
      "\u001b[32m[0924 11:42:06 @monitor.py:467]\u001b[0m GAN_loss/gen/final-g-loss: 1.3522\n",
      "\u001b[32m[0924 11:42:06 @monitor.py:467]\u001b[0m GAN_loss/gen/klloss: 0.23779\n",
      "\u001b[32m[0924 11:42:06 @monitor.py:467]\u001b[0m GAN_loss/gen/loss: 1.1144\n",
      "\u001b[32m[0924 11:42:06 @monitor.py:467]\u001b[0m QueueInput/queue_size: 1.8367e-38\n",
      "\u001b[32m[0924 11:42:06 @monitor.py:467]\u001b[0m QueueInput_1/queue_size: 50\n",
      "\u001b[32m[0924 11:42:06 @base.py:275]\u001b[0m Start Epoch 158 ...\n"
     ]
    },
    {
     "name": "stderr",
     "output_type": "stream",
     "text": [
      "\n",
      "100%|#################################################################################|2000/2000[00:37<00:00,53.92it/s]"
     ]
    },
    {
     "name": "stdout",
     "output_type": "stream",
     "text": [
      "\u001b[32m[0924 11:42:43 @base.py:285]\u001b[0m Epoch 158 (global_step 316000) finished, time:37.1 seconds.\n"
     ]
    },
    {
     "name": "stderr",
     "output_type": "stream",
     "text": [
      "\n"
     ]
    },
    {
     "name": "stdout",
     "output_type": "stream",
     "text": [
      "\u001b[32m[0924 11:42:43 @saver.py:79]\u001b[0m Model saved to ../output/Chicago/DATGAN_TEST/model\\model-316000.\n",
      "\u001b[32m[0924 11:42:43 @monitor.py:467]\u001b[0m GAN_loss/discrim/accuracy_fake: 0.88\n",
      "\u001b[32m[0924 11:42:43 @monitor.py:467]\u001b[0m GAN_loss/discrim/accuracy_real: 0.14\n",
      "\u001b[32m[0924 11:42:43 @monitor.py:467]\u001b[0m GAN_loss/discrim/loss: 0.65782\n",
      "\u001b[32m[0924 11:42:43 @monitor.py:467]\u001b[0m GAN_loss/gen/final-g-loss: 1.2678\n",
      "\u001b[32m[0924 11:42:43 @monitor.py:467]\u001b[0m GAN_loss/gen/klloss: 0.15032\n",
      "\u001b[32m[0924 11:42:43 @monitor.py:467]\u001b[0m GAN_loss/gen/loss: 1.1175\n",
      "\u001b[32m[0924 11:42:43 @monitor.py:467]\u001b[0m QueueInput/queue_size: 1.8367e-38\n",
      "\u001b[32m[0924 11:42:43 @monitor.py:467]\u001b[0m QueueInput_1/queue_size: 50\n",
      "\u001b[32m[0924 11:42:43 @base.py:275]\u001b[0m Start Epoch 159 ...\n"
     ]
    },
    {
     "name": "stderr",
     "output_type": "stream",
     "text": [
      "100%|#################################################################################|2000/2000[00:37<00:00,53.90it/s]"
     ]
    },
    {
     "name": "stdout",
     "output_type": "stream",
     "text": [
      "\u001b[32m[0924 11:43:20 @base.py:285]\u001b[0m Epoch 159 (global_step 318000) finished, time:37.1 seconds.\n"
     ]
    },
    {
     "name": "stderr",
     "output_type": "stream",
     "text": [
      "\n"
     ]
    },
    {
     "name": "stdout",
     "output_type": "stream",
     "text": [
      "\u001b[32m[0924 11:43:20 @saver.py:79]\u001b[0m Model saved to ../output/Chicago/DATGAN_TEST/model\\model-318000.\n",
      "\u001b[32m[0924 11:43:20 @monitor.py:467]\u001b[0m GAN_loss/discrim/accuracy_fake: 0.88\n",
      "\u001b[32m[0924 11:43:20 @monitor.py:467]\u001b[0m GAN_loss/discrim/accuracy_real: 0.205\n",
      "\u001b[32m[0924 11:43:20 @monitor.py:467]\u001b[0m GAN_loss/discrim/loss: 0.64991\n",
      "\u001b[32m[0924 11:43:20 @monitor.py:467]\u001b[0m GAN_loss/gen/final-g-loss: 1.3635\n",
      "\u001b[32m[0924 11:43:20 @monitor.py:467]\u001b[0m GAN_loss/gen/klloss: 0.25295\n",
      "\u001b[32m[0924 11:43:20 @monitor.py:467]\u001b[0m GAN_loss/gen/loss: 1.1105\n",
      "\u001b[32m[0924 11:43:20 @monitor.py:467]\u001b[0m QueueInput/queue_size: 1.8367e-38\n",
      "\u001b[32m[0924 11:43:20 @monitor.py:467]\u001b[0m QueueInput_1/queue_size: 50\n",
      "\u001b[32m[0924 11:43:20 @base.py:275]\u001b[0m Start Epoch 160 ...\n"
     ]
    },
    {
     "name": "stderr",
     "output_type": "stream",
     "text": [
      "100%|#################################################################################|2000/2000[00:36<00:00,54.26it/s]"
     ]
    },
    {
     "name": "stdout",
     "output_type": "stream",
     "text": [
      "\u001b[32m[0924 11:43:57 @base.py:285]\u001b[0m Epoch 160 (global_step 320000) finished, time:36.9 seconds.\n",
      "\u001b[32m[0924 11:43:57 @saver.py:79]\u001b[0m Model saved to ../output/Chicago/DATGAN_TEST/model\\model-320000.\n",
      "\u001b[32m[0924 11:43:57 @monitor.py:467]\u001b[0m GAN_loss/discrim/accuracy_fake: 0.905\n",
      "\u001b[32m[0924 11:43:57 @monitor.py:467]\u001b[0m GAN_loss/discrim/accuracy_real: 0.165\n",
      "\u001b[32m[0924 11:43:57 @monitor.py:467]\u001b[0m GAN_loss/discrim/loss: 0.63861\n",
      "\u001b[32m[0924 11:43:57 @monitor.py:467]\u001b[0m GAN_loss/gen/final-g-loss: 1.4489\n",
      "\u001b[32m[0924 11:43:57 @monitor.py:467]\u001b[0m GAN_loss/gen/klloss: 0.33551\n",
      "\u001b[32m[0924 11:43:57 @monitor.py:467]\u001b[0m GAN_loss/gen/loss: 1.1133\n",
      "\u001b[32m[0924 11:43:57 @monitor.py:467]\u001b[0m QueueInput/queue_size: 1.8367e-38\n",
      "\u001b[32m[0924 11:43:57 @monitor.py:467]\u001b[0m QueueInput_1/queue_size: 50\n",
      "\u001b[32m[0924 11:43:57 @base.py:275]\u001b[0m Start Epoch 161 ...\n"
     ]
    },
    {
     "name": "stderr",
     "output_type": "stream",
     "text": [
      "\n",
      "100%|#################################################################################|2000/2000[00:36<00:00,54.25it/s]"
     ]
    },
    {
     "name": "stdout",
     "output_type": "stream",
     "text": [
      "\u001b[32m[0924 11:44:34 @base.py:285]\u001b[0m Epoch 161 (global_step 322000) finished, time:36.9 seconds.\n",
      "\u001b[32m[0924 11:44:34 @saver.py:79]\u001b[0m Model saved to ../output/Chicago/DATGAN_TEST/model\\model-322000.\n",
      "\u001b[32m[0924 11:44:34 @monitor.py:467]\u001b[0m GAN_loss/discrim/accuracy_fake: 0.95\n",
      "\u001b[32m[0924 11:44:34 @monitor.py:467]\u001b[0m GAN_loss/discrim/accuracy_real: 0.135\n",
      "\u001b[32m[0924 11:44:34 @monitor.py:467]\u001b[0m GAN_loss/discrim/loss: 0.62593\n",
      "\u001b[32m[0924 11:44:34 @monitor.py:467]\u001b[0m GAN_loss/gen/final-g-loss: 1.3193\n",
      "\u001b[32m[0924 11:44:34 @monitor.py:467]\u001b[0m GAN_loss/gen/klloss: 0.17012\n",
      "\u001b[32m[0924 11:44:34 @monitor.py:467]\u001b[0m GAN_loss/gen/loss: 1.1491\n",
      "\u001b[32m[0924 11:44:34 @monitor.py:467]\u001b[0m QueueInput/queue_size: 1.8367e-38\n",
      "\u001b[32m[0924 11:44:34 @monitor.py:467]\u001b[0m QueueInput_1/queue_size: 50\n",
      "\u001b[32m[0924 11:44:34 @base.py:275]\u001b[0m Start Epoch 162 ...\n"
     ]
    },
    {
     "name": "stderr",
     "output_type": "stream",
     "text": [
      "\n",
      "100%|#################################################################################|2000/2000[00:36<00:00,54.17it/s]"
     ]
    },
    {
     "name": "stdout",
     "output_type": "stream",
     "text": [
      "\u001b[32m[0924 11:45:11 @base.py:285]\u001b[0m Epoch 162 (global_step 324000) finished, time:36.9 seconds.\n",
      "\u001b[32m[0924 11:45:11 @saver.py:79]\u001b[0m Model saved to ../output/Chicago/DATGAN_TEST/model\\model-324000.\n",
      "\u001b[32m[0924 11:45:11 @monitor.py:467]\u001b[0m GAN_loss/discrim/accuracy_fake: 0.885\n",
      "\u001b[32m[0924 11:45:11 @monitor.py:467]\u001b[0m GAN_loss/discrim/accuracy_real: 0.195\n",
      "\u001b[32m[0924 11:45:11 @monitor.py:467]\u001b[0m GAN_loss/discrim/loss: 0.64463\n",
      "\u001b[32m[0924 11:45:11 @monitor.py:467]\u001b[0m GAN_loss/gen/final-g-loss: 1.3192\n",
      "\u001b[32m[0924 11:45:11 @monitor.py:467]\u001b[0m GAN_loss/gen/klloss: 0.2067\n",
      "\u001b[32m[0924 11:45:11 @monitor.py:467]\u001b[0m GAN_loss/gen/loss: 1.1125\n",
      "\u001b[32m[0924 11:45:11 @monitor.py:467]\u001b[0m QueueInput/queue_size: 1.8367e-38\n",
      "\u001b[32m[0924 11:45:11 @monitor.py:467]\u001b[0m QueueInput_1/queue_size: 50\n",
      "\u001b[32m[0924 11:45:11 @base.py:275]\u001b[0m Start Epoch 163 ...\n"
     ]
    },
    {
     "name": "stderr",
     "output_type": "stream",
     "text": [
      "\n",
      "100%|#################################################################################|2000/2000[00:37<00:00,53.58it/s]"
     ]
    },
    {
     "name": "stdout",
     "output_type": "stream",
     "text": [
      "\u001b[32m[0924 11:45:49 @base.py:285]\u001b[0m Epoch 163 (global_step 326000) finished, time:37.3 seconds.\n"
     ]
    },
    {
     "name": "stderr",
     "output_type": "stream",
     "text": [
      "\n"
     ]
    },
    {
     "name": "stdout",
     "output_type": "stream",
     "text": [
      "\u001b[32m[0924 11:45:49 @saver.py:79]\u001b[0m Model saved to ../output/Chicago/DATGAN_TEST/model\\model-326000.\n",
      "\u001b[32m[0924 11:45:49 @monitor.py:467]\u001b[0m GAN_loss/discrim/accuracy_fake: 0.9\n",
      "\u001b[32m[0924 11:45:49 @monitor.py:467]\u001b[0m GAN_loss/discrim/accuracy_real: 0.125\n",
      "\u001b[32m[0924 11:45:49 @monitor.py:467]\u001b[0m GAN_loss/discrim/loss: 0.66637\n",
      "\u001b[32m[0924 11:45:49 @monitor.py:467]\u001b[0m GAN_loss/gen/final-g-loss: 1.3173\n",
      "\u001b[32m[0924 11:45:49 @monitor.py:467]\u001b[0m GAN_loss/gen/klloss: 0.22288\n",
      "\u001b[32m[0924 11:45:49 @monitor.py:467]\u001b[0m GAN_loss/gen/loss: 1.0944\n",
      "\u001b[32m[0924 11:45:49 @monitor.py:467]\u001b[0m QueueInput/queue_size: 1.8367e-38\n",
      "\u001b[32m[0924 11:45:49 @monitor.py:467]\u001b[0m QueueInput_1/queue_size: 50\n",
      "\u001b[32m[0924 11:45:49 @base.py:275]\u001b[0m Start Epoch 164 ...\n"
     ]
    },
    {
     "name": "stderr",
     "output_type": "stream",
     "text": [
      "100%|#################################################################################|2000/2000[00:37<00:00,53.92it/s]"
     ]
    },
    {
     "name": "stdout",
     "output_type": "stream",
     "text": [
      "\u001b[32m[0924 11:46:26 @base.py:285]\u001b[0m Epoch 164 (global_step 328000) finished, time:37.1 seconds.\n"
     ]
    },
    {
     "name": "stderr",
     "output_type": "stream",
     "text": [
      "\n"
     ]
    },
    {
     "name": "stdout",
     "output_type": "stream",
     "text": [
      "\u001b[32m[0924 11:46:26 @saver.py:79]\u001b[0m Model saved to ../output/Chicago/DATGAN_TEST/model\\model-328000.\n",
      "\u001b[32m[0924 11:46:26 @monitor.py:467]\u001b[0m GAN_loss/discrim/accuracy_fake: 0.91\n",
      "\u001b[32m[0924 11:46:26 @monitor.py:467]\u001b[0m GAN_loss/discrim/accuracy_real: 0.14\n",
      "\u001b[32m[0924 11:46:26 @monitor.py:467]\u001b[0m GAN_loss/discrim/loss: 0.64993\n",
      "\u001b[32m[0924 11:46:26 @monitor.py:467]\u001b[0m GAN_loss/gen/final-g-loss: 1.3432\n",
      "\u001b[32m[0924 11:46:26 @monitor.py:467]\u001b[0m GAN_loss/gen/klloss: 0.22304\n",
      "\u001b[32m[0924 11:46:26 @monitor.py:467]\u001b[0m GAN_loss/gen/loss: 1.1202\n",
      "\u001b[32m[0924 11:46:26 @monitor.py:467]\u001b[0m QueueInput/queue_size: 1.8367e-38\n",
      "\u001b[32m[0924 11:46:26 @monitor.py:467]\u001b[0m QueueInput_1/queue_size: 50\n",
      "\u001b[32m[0924 11:46:26 @base.py:275]\u001b[0m Start Epoch 165 ...\n"
     ]
    },
    {
     "name": "stderr",
     "output_type": "stream",
     "text": [
      "100%|#################################################################################|2000/2000[00:37<00:00,53.47it/s]"
     ]
    },
    {
     "name": "stdout",
     "output_type": "stream",
     "text": [
      "\u001b[32m[0924 11:47:03 @base.py:285]\u001b[0m Epoch 165 (global_step 330000) finished, time:37.4 seconds.\n",
      "\u001b[32m[0924 11:47:03 @saver.py:79]\u001b[0m Model saved to ../output/Chicago/DATGAN_TEST/model\\model-330000.\n",
      "\u001b[32m[0924 11:47:03 @monitor.py:467]\u001b[0m GAN_loss/discrim/accuracy_fake: 0.91\n",
      "\u001b[32m[0924 11:47:03 @monitor.py:467]\u001b[0m GAN_loss/discrim/accuracy_real: 0.215\n",
      "\u001b[32m[0924 11:47:03 @monitor.py:467]\u001b[0m GAN_loss/discrim/loss: 0.63836\n",
      "\u001b[32m[0924 11:47:03 @monitor.py:467]\u001b[0m GAN_loss/gen/final-g-loss: 1.3633\n",
      "\u001b[32m[0924 11:47:03 @monitor.py:467]\u001b[0m GAN_loss/gen/klloss: 0.22042\n",
      "\u001b[32m[0924 11:47:03 @monitor.py:467]\u001b[0m GAN_loss/gen/loss: 1.1428\n",
      "\u001b[32m[0924 11:47:03 @monitor.py:467]\u001b[0m QueueInput/queue_size: 1.8367e-38\n",
      "\u001b[32m[0924 11:47:03 @monitor.py:467]\u001b[0m QueueInput_1/queue_size: 50\n",
      "\u001b[32m[0924 11:47:03 @base.py:275]\u001b[0m Start Epoch 166 ...\n"
     ]
    },
    {
     "name": "stderr",
     "output_type": "stream",
     "text": [
      "\n",
      "100%|#################################################################################|2000/2000[00:37<00:00,52.98it/s]"
     ]
    },
    {
     "name": "stdout",
     "output_type": "stream",
     "text": [
      "\u001b[32m[0924 11:47:41 @base.py:285]\u001b[0m Epoch 166 (global_step 332000) finished, time:37.8 seconds.\n",
      "\u001b[32m[0924 11:47:41 @saver.py:79]\u001b[0m Model saved to ../output/Chicago/DATGAN_TEST/model\\model-332000.\n",
      "\u001b[32m[0924 11:47:41 @monitor.py:467]\u001b[0m GAN_loss/discrim/accuracy_fake: 0.905\n",
      "\u001b[32m[0924 11:47:41 @monitor.py:467]\u001b[0m GAN_loss/discrim/accuracy_real: 0.215\n",
      "\u001b[32m[0924 11:47:41 @monitor.py:467]\u001b[0m GAN_loss/discrim/loss: 0.63883\n",
      "\u001b[32m[0924 11:47:41 @monitor.py:467]\u001b[0m GAN_loss/gen/final-g-loss: 1.2714\n",
      "\u001b[32m[0924 11:47:41 @monitor.py:467]\u001b[0m GAN_loss/gen/klloss: 0.15489\n",
      "\u001b[32m[0924 11:47:41 @monitor.py:467]\u001b[0m GAN_loss/gen/loss: 1.1165\n",
      "\u001b[32m[0924 11:47:41 @monitor.py:467]\u001b[0m QueueInput/queue_size: 1.8367e-38\n",
      "\u001b[32m[0924 11:47:41 @monitor.py:467]\u001b[0m QueueInput_1/queue_size: 50\n",
      "\u001b[32m[0924 11:47:41 @base.py:275]\u001b[0m Start Epoch 167 ...\n"
     ]
    },
    {
     "name": "stderr",
     "output_type": "stream",
     "text": [
      "\n",
      "100%|#################################################################################|2000/2000[00:38<00:00,52.63it/s]"
     ]
    },
    {
     "name": "stdout",
     "output_type": "stream",
     "text": [
      "\u001b[32m[0924 11:48:19 @base.py:285]\u001b[0m Epoch 167 (global_step 334000) finished, time:38 seconds.\n",
      "\u001b[32m[0924 11:48:19 @saver.py:79]\u001b[0m Model saved to ../output/Chicago/DATGAN_TEST/model\\model-334000.\n",
      "\u001b[32m[0924 11:48:19 @monitor.py:467]\u001b[0m GAN_loss/discrim/accuracy_fake: 0.9\n",
      "\u001b[32m[0924 11:48:19 @monitor.py:467]\u001b[0m GAN_loss/discrim/accuracy_real: 0.16\n",
      "\u001b[32m[0924 11:48:19 @monitor.py:467]\u001b[0m GAN_loss/discrim/loss: 0.63866\n",
      "\u001b[32m[0924 11:48:19 @monitor.py:467]\u001b[0m GAN_loss/gen/final-g-loss: 1.353\n",
      "\u001b[32m[0924 11:48:19 @monitor.py:467]\u001b[0m GAN_loss/gen/klloss: 0.20785\n",
      "\u001b[32m[0924 11:48:19 @monitor.py:467]\u001b[0m GAN_loss/gen/loss: 1.1451\n",
      "\u001b[32m[0924 11:48:19 @monitor.py:467]\u001b[0m QueueInput/queue_size: 1.8367e-38\n",
      "\u001b[32m[0924 11:48:19 @monitor.py:467]\u001b[0m QueueInput_1/queue_size: 50\n",
      "\u001b[32m[0924 11:48:19 @base.py:275]\u001b[0m Start Epoch 168 ...\n"
     ]
    },
    {
     "name": "stderr",
     "output_type": "stream",
     "text": [
      "\n",
      "100%|#################################################################################|2000/2000[00:38<00:00,51.58it/s]"
     ]
    },
    {
     "name": "stdout",
     "output_type": "stream",
     "text": [
      "\u001b[32m[0924 11:48:58 @base.py:285]\u001b[0m Epoch 168 (global_step 336000) finished, time:38.8 seconds.\n",
      "\u001b[32m[0924 11:48:58 @saver.py:79]\u001b[0m Model saved to ../output/Chicago/DATGAN_TEST/model\\model-336000.\n",
      "\u001b[32m[0924 11:48:58 @monitor.py:467]\u001b[0m GAN_loss/discrim/accuracy_fake: 0.92\n",
      "\u001b[32m[0924 11:48:58 @monitor.py:467]\u001b[0m GAN_loss/discrim/accuracy_real: 0.21\n",
      "\u001b[32m[0924 11:48:58 @monitor.py:467]\u001b[0m GAN_loss/discrim/loss: 0.6425\n",
      "\u001b[32m[0924 11:48:58 @monitor.py:467]\u001b[0m GAN_loss/gen/final-g-loss: 1.2347\n",
      "\u001b[32m[0924 11:48:58 @monitor.py:467]\u001b[0m GAN_loss/gen/klloss: 0.12067\n",
      "\u001b[32m[0924 11:48:58 @monitor.py:467]\u001b[0m GAN_loss/gen/loss: 1.1141\n",
      "\u001b[32m[0924 11:48:58 @monitor.py:467]\u001b[0m QueueInput/queue_size: 1.8367e-38\n",
      "\u001b[32m[0924 11:48:58 @monitor.py:467]\u001b[0m QueueInput_1/queue_size: 50\n",
      "\u001b[32m[0924 11:48:58 @base.py:275]\u001b[0m Start Epoch 169 ...\n"
     ]
    },
    {
     "name": "stderr",
     "output_type": "stream",
     "text": [
      "\n",
      "100%|#################################################################################|2000/2000[00:37<00:00,52.82it/s]"
     ]
    },
    {
     "name": "stdout",
     "output_type": "stream",
     "text": [
      "\u001b[32m[0924 11:49:36 @base.py:285]\u001b[0m Epoch 169 (global_step 338000) finished, time:37.9 seconds.\n",
      "\u001b[32m[0924 11:49:36 @saver.py:79]\u001b[0m Model saved to ../output/Chicago/DATGAN_TEST/model\\model-338000.\n",
      "\u001b[32m[0924 11:49:36 @monitor.py:467]\u001b[0m GAN_loss/discrim/accuracy_fake: 0.885\n",
      "\u001b[32m[0924 11:49:36 @monitor.py:467]\u001b[0m GAN_loss/discrim/accuracy_real: 0.145\n",
      "\u001b[32m[0924 11:49:36 @monitor.py:467]\u001b[0m GAN_loss/discrim/loss: 0.65548\n",
      "\u001b[32m[0924 11:49:36 @monitor.py:467]\u001b[0m GAN_loss/gen/final-g-loss: 1.2412\n",
      "\u001b[32m[0924 11:49:36 @monitor.py:467]\u001b[0m GAN_loss/gen/klloss: 0.13342\n",
      "\u001b[32m[0924 11:49:36 @monitor.py:467]\u001b[0m GAN_loss/gen/loss: 1.1078\n",
      "\u001b[32m[0924 11:49:36 @monitor.py:467]\u001b[0m QueueInput/queue_size: 1.8367e-38\n",
      "\u001b[32m[0924 11:49:36 @monitor.py:467]\u001b[0m QueueInput_1/queue_size: 50\n",
      "\u001b[32m[0924 11:49:36 @base.py:275]\u001b[0m Start Epoch 170 ...\n"
     ]
    },
    {
     "name": "stderr",
     "output_type": "stream",
     "text": [
      "\n",
      "100%|#################################################################################|2000/2000[00:37<00:00,52.98it/s]"
     ]
    },
    {
     "name": "stdout",
     "output_type": "stream",
     "text": [
      "\u001b[32m[0924 11:50:14 @base.py:285]\u001b[0m Epoch 170 (global_step 340000) finished, time:37.8 seconds.\n",
      "\u001b[32m[0924 11:50:14 @saver.py:79]\u001b[0m Model saved to ../output/Chicago/DATGAN_TEST/model\\model-340000.\n",
      "\u001b[32m[0924 11:50:14 @monitor.py:467]\u001b[0m GAN_loss/discrim/accuracy_fake: 0.925\n",
      "\u001b[32m[0924 11:50:14 @monitor.py:467]\u001b[0m GAN_loss/discrim/accuracy_real: 0.18\n",
      "\u001b[32m[0924 11:50:14 @monitor.py:467]\u001b[0m GAN_loss/discrim/loss: 0.63839\n",
      "\u001b[32m[0924 11:50:14 @monitor.py:467]\u001b[0m GAN_loss/gen/final-g-loss: 1.2956\n",
      "\u001b[32m[0924 11:50:14 @monitor.py:467]\u001b[0m GAN_loss/gen/klloss: 0.16281\n",
      "\u001b[32m[0924 11:50:14 @monitor.py:467]\u001b[0m GAN_loss/gen/loss: 1.1328\n",
      "\u001b[32m[0924 11:50:14 @monitor.py:467]\u001b[0m QueueInput/queue_size: 1.8367e-38\n",
      "\u001b[32m[0924 11:50:14 @monitor.py:467]\u001b[0m QueueInput_1/queue_size: 50\n",
      "\u001b[32m[0924 11:50:14 @base.py:275]\u001b[0m Start Epoch 171 ...\n"
     ]
    },
    {
     "name": "stderr",
     "output_type": "stream",
     "text": [
      "\n",
      "100%|#################################################################################|2000/2000[00:37<00:00,53.18it/s]"
     ]
    },
    {
     "name": "stdout",
     "output_type": "stream",
     "text": [
      "\u001b[32m[0924 11:50:52 @base.py:285]\u001b[0m Epoch 171 (global_step 342000) finished, time:37.6 seconds.\n",
      "\u001b[32m[0924 11:50:52 @saver.py:79]\u001b[0m Model saved to ../output/Chicago/DATGAN_TEST/model\\model-342000.\n",
      "\u001b[32m[0924 11:50:52 @monitor.py:467]\u001b[0m GAN_loss/discrim/accuracy_fake: 0.945\n",
      "\u001b[32m[0924 11:50:52 @monitor.py:467]\u001b[0m GAN_loss/discrim/accuracy_real: 0.175\n",
      "\u001b[32m[0924 11:50:52 @monitor.py:467]\u001b[0m GAN_loss/discrim/loss: 0.63814\n",
      "\u001b[32m[0924 11:50:52 @monitor.py:467]\u001b[0m GAN_loss/gen/final-g-loss: 1.3667\n",
      "\u001b[32m[0924 11:50:52 @monitor.py:467]\u001b[0m GAN_loss/gen/klloss: 0.22823\n",
      "\u001b[32m[0924 11:50:52 @monitor.py:467]\u001b[0m GAN_loss/gen/loss: 1.1385\n",
      "\u001b[32m[0924 11:50:52 @monitor.py:467]\u001b[0m QueueInput/queue_size: 1.8367e-38\n",
      "\u001b[32m[0924 11:50:52 @monitor.py:467]\u001b[0m QueueInput_1/queue_size: 50\n",
      "\u001b[32m[0924 11:50:52 @base.py:275]\u001b[0m Start Epoch 172 ...\n"
     ]
    },
    {
     "name": "stderr",
     "output_type": "stream",
     "text": [
      "\n",
      "100%|#################################################################################|2000/2000[00:38<00:00,52.63it/s]"
     ]
    },
    {
     "name": "stdout",
     "output_type": "stream",
     "text": [
      "\u001b[32m[0924 11:51:30 @base.py:285]\u001b[0m Epoch 172 (global_step 344000) finished, time:38 seconds.\n",
      "\u001b[32m[0924 11:51:30 @saver.py:79]\u001b[0m Model saved to ../output/Chicago/DATGAN_TEST/model\\model-344000.\n",
      "\u001b[32m[0924 11:51:30 @monitor.py:467]\u001b[0m GAN_loss/discrim/accuracy_fake: 0.91\n",
      "\u001b[32m[0924 11:51:30 @monitor.py:467]\u001b[0m GAN_loss/discrim/accuracy_real: 0.175\n",
      "\u001b[32m[0924 11:51:30 @monitor.py:467]\u001b[0m GAN_loss/discrim/loss: 0.64343\n",
      "\u001b[32m[0924 11:51:30 @monitor.py:467]\u001b[0m GAN_loss/gen/final-g-loss: 1.3956\n",
      "\u001b[32m[0924 11:51:30 @monitor.py:467]\u001b[0m GAN_loss/gen/klloss: 0.26846\n",
      "\u001b[32m[0924 11:51:30 @monitor.py:467]\u001b[0m GAN_loss/gen/loss: 1.1272\n",
      "\u001b[32m[0924 11:51:30 @monitor.py:467]\u001b[0m QueueInput/queue_size: 1.8367e-38\n",
      "\u001b[32m[0924 11:51:30 @monitor.py:467]\u001b[0m QueueInput_1/queue_size: 50\n",
      "\u001b[32m[0924 11:51:30 @base.py:275]\u001b[0m Start Epoch 173 ...\n"
     ]
    },
    {
     "name": "stderr",
     "output_type": "stream",
     "text": [
      "\n",
      "100%|#################################################################################|2000/2000[00:37<00:00,53.11it/s]"
     ]
    },
    {
     "name": "stdout",
     "output_type": "stream",
     "text": [
      "\u001b[32m[0924 11:52:08 @base.py:285]\u001b[0m Epoch 173 (global_step 346000) finished, time:37.7 seconds.\n",
      "\u001b[32m[0924 11:52:08 @saver.py:79]\u001b[0m Model saved to ../output/Chicago/DATGAN_TEST/model\\model-346000.\n",
      "\u001b[32m[0924 11:52:08 @monitor.py:467]\u001b[0m GAN_loss/discrim/accuracy_fake: 0.935\n",
      "\u001b[32m[0924 11:52:08 @monitor.py:467]\u001b[0m GAN_loss/discrim/accuracy_real: 0.09\n",
      "\u001b[32m[0924 11:52:08 @monitor.py:467]\u001b[0m GAN_loss/discrim/loss: 0.65499\n",
      "\u001b[32m[0924 11:52:08 @monitor.py:467]\u001b[0m GAN_loss/gen/final-g-loss: 1.4816\n",
      "\u001b[32m[0924 11:52:08 @monitor.py:467]\u001b[0m GAN_loss/gen/klloss: 0.35547\n",
      "\u001b[32m[0924 11:52:08 @monitor.py:467]\u001b[0m GAN_loss/gen/loss: 1.1261\n",
      "\u001b[32m[0924 11:52:08 @monitor.py:467]\u001b[0m QueueInput/queue_size: 1.8367e-38\n",
      "\u001b[32m[0924 11:52:08 @monitor.py:467]\u001b[0m QueueInput_1/queue_size: 50\n",
      "\u001b[32m[0924 11:52:08 @base.py:275]\u001b[0m Start Epoch 174 ...\n"
     ]
    },
    {
     "name": "stderr",
     "output_type": "stream",
     "text": [
      "\n",
      "100%|#################################################################################|2000/2000[00:37<00:00,53.84it/s]"
     ]
    },
    {
     "name": "stdout",
     "output_type": "stream",
     "text": [
      "\u001b[32m[0924 11:52:45 @base.py:285]\u001b[0m Epoch 174 (global_step 348000) finished, time:37.1 seconds.\n",
      "\u001b[32m[0924 11:52:45 @saver.py:79]\u001b[0m Model saved to ../output/Chicago/DATGAN_TEST/model\\model-348000.\n",
      "\u001b[32m[0924 11:52:45 @monitor.py:467]\u001b[0m GAN_loss/discrim/accuracy_fake: 0.875\n",
      "\u001b[32m[0924 11:52:45 @monitor.py:467]\u001b[0m GAN_loss/discrim/accuracy_real: 0.2\n",
      "\u001b[32m[0924 11:52:45 @monitor.py:467]\u001b[0m GAN_loss/discrim/loss: 0.65905\n",
      "\u001b[32m[0924 11:52:45 @monitor.py:467]\u001b[0m GAN_loss/gen/final-g-loss: 1.3004\n",
      "\u001b[32m[0924 11:52:45 @monitor.py:467]\u001b[0m GAN_loss/gen/klloss: 0.20639\n",
      "\u001b[32m[0924 11:52:45 @monitor.py:467]\u001b[0m GAN_loss/gen/loss: 1.0941\n",
      "\u001b[32m[0924 11:52:45 @monitor.py:467]\u001b[0m QueueInput/queue_size: 1.8367e-38\n",
      "\u001b[32m[0924 11:52:45 @monitor.py:467]\u001b[0m QueueInput_1/queue_size: 50\n",
      "\u001b[32m[0924 11:52:45 @base.py:275]\u001b[0m Start Epoch 175 ...\n"
     ]
    },
    {
     "name": "stderr",
     "output_type": "stream",
     "text": [
      "\n",
      "100%|#################################################################################|2000/2000[00:37<00:00,53.81it/s]"
     ]
    },
    {
     "name": "stdout",
     "output_type": "stream",
     "text": [
      "\u001b[32m[0924 11:53:22 @base.py:285]\u001b[0m Epoch 175 (global_step 350000) finished, time:37.2 seconds.\n",
      "\u001b[32m[0924 11:53:22 @saver.py:79]\u001b[0m Model saved to ../output/Chicago/DATGAN_TEST/model\\model-350000.\n",
      "\u001b[32m[0924 11:53:22 @monitor.py:467]\u001b[0m GAN_loss/discrim/accuracy_fake: 0.86\n",
      "\u001b[32m[0924 11:53:22 @monitor.py:467]\u001b[0m GAN_loss/discrim/accuracy_real: 0.205\n",
      "\u001b[32m[0924 11:53:22 @monitor.py:467]\u001b[0m GAN_loss/discrim/loss: 0.64312\n",
      "\u001b[32m[0924 11:53:22 @monitor.py:467]\u001b[0m GAN_loss/gen/final-g-loss: 1.2894\n",
      "\u001b[32m[0924 11:53:22 @monitor.py:467]\u001b[0m GAN_loss/gen/klloss: 0.17579\n",
      "\u001b[32m[0924 11:53:22 @monitor.py:467]\u001b[0m GAN_loss/gen/loss: 1.1136\n",
      "\u001b[32m[0924 11:53:22 @monitor.py:467]\u001b[0m QueueInput/queue_size: 1.8367e-38\n",
      "\u001b[32m[0924 11:53:22 @monitor.py:467]\u001b[0m QueueInput_1/queue_size: 50\n",
      "\u001b[32m[0924 11:53:22 @base.py:275]\u001b[0m Start Epoch 176 ...\n"
     ]
    },
    {
     "name": "stderr",
     "output_type": "stream",
     "text": [
      "\n",
      "100%|#################################################################################|2000/2000[00:37<00:00,53.77it/s]"
     ]
    },
    {
     "name": "stdout",
     "output_type": "stream",
     "text": [
      "\u001b[32m[0924 11:53:59 @base.py:285]\u001b[0m Epoch 176 (global_step 352000) finished, time:37.2 seconds.\n",
      "\u001b[32m[0924 11:53:59 @saver.py:79]\u001b[0m Model saved to ../output/Chicago/DATGAN_TEST/model\\model-352000.\n",
      "\u001b[32m[0924 11:54:00 @monitor.py:467]\u001b[0m GAN_loss/discrim/accuracy_fake: 0.94\n",
      "\u001b[32m[0924 11:54:00 @monitor.py:467]\u001b[0m GAN_loss/discrim/accuracy_real: 0.16\n",
      "\u001b[32m[0924 11:54:00 @monitor.py:467]\u001b[0m GAN_loss/discrim/loss: 0.63637\n",
      "\u001b[32m[0924 11:54:00 @monitor.py:467]\u001b[0m GAN_loss/gen/final-g-loss: 1.3956\n",
      "\u001b[32m[0924 11:54:00 @monitor.py:467]\u001b[0m GAN_loss/gen/klloss: 0.25349\n",
      "\u001b[32m[0924 11:54:00 @monitor.py:467]\u001b[0m GAN_loss/gen/loss: 1.1421\n",
      "\u001b[32m[0924 11:54:00 @monitor.py:467]\u001b[0m QueueInput/queue_size: 1.8367e-38\n",
      "\u001b[32m[0924 11:54:00 @monitor.py:467]\u001b[0m QueueInput_1/queue_size: 50\n",
      "\u001b[32m[0924 11:54:00 @base.py:275]\u001b[0m Start Epoch 177 ...\n"
     ]
    },
    {
     "name": "stderr",
     "output_type": "stream",
     "text": [
      "\n",
      "100%|#################################################################################|2000/2000[00:37<00:00,53.83it/s]"
     ]
    },
    {
     "name": "stdout",
     "output_type": "stream",
     "text": [
      "\u001b[32m[0924 11:54:37 @base.py:285]\u001b[0m Epoch 177 (global_step 354000) finished, time:37.2 seconds.\n",
      "\u001b[32m[0924 11:54:37 @saver.py:79]\u001b[0m Model saved to ../output/Chicago/DATGAN_TEST/model\\model-354000.\n",
      "\u001b[32m[0924 11:54:37 @monitor.py:467]\u001b[0m GAN_loss/discrim/accuracy_fake: 0.885\n",
      "\u001b[32m[0924 11:54:37 @monitor.py:467]\u001b[0m GAN_loss/discrim/accuracy_real: 0.205\n",
      "\u001b[32m[0924 11:54:37 @monitor.py:467]\u001b[0m GAN_loss/discrim/loss: 0.6309\n",
      "\u001b[32m[0924 11:54:37 @monitor.py:467]\u001b[0m GAN_loss/gen/final-g-loss: 1.3463\n",
      "\u001b[32m[0924 11:54:37 @monitor.py:467]\u001b[0m GAN_loss/gen/klloss: 0.21801\n",
      "\u001b[32m[0924 11:54:37 @monitor.py:467]\u001b[0m GAN_loss/gen/loss: 1.1282\n",
      "\u001b[32m[0924 11:54:37 @monitor.py:467]\u001b[0m QueueInput/queue_size: 1.8367e-38\n",
      "\u001b[32m[0924 11:54:37 @monitor.py:467]\u001b[0m QueueInput_1/queue_size: 50\n",
      "\u001b[32m[0924 11:54:37 @base.py:275]\u001b[0m Start Epoch 178 ...\n"
     ]
    },
    {
     "name": "stderr",
     "output_type": "stream",
     "text": [
      "\n",
      "100%|#################################################################################|2000/2000[00:37<00:00,54.00it/s]"
     ]
    },
    {
     "name": "stdout",
     "output_type": "stream",
     "text": [
      "\u001b[32m[0924 11:55:14 @base.py:285]\u001b[0m Epoch 178 (global_step 356000) finished, time:37 seconds.\n",
      "\u001b[32m[0924 11:55:14 @saver.py:79]\u001b[0m Model saved to ../output/Chicago/DATGAN_TEST/model\\model-356000.\n",
      "\u001b[32m[0924 11:55:14 @monitor.py:467]\u001b[0m GAN_loss/discrim/accuracy_fake: 0.88\n",
      "\u001b[32m[0924 11:55:14 @monitor.py:467]\u001b[0m GAN_loss/discrim/accuracy_real: 0.155\n",
      "\u001b[32m[0924 11:55:14 @monitor.py:467]\u001b[0m GAN_loss/discrim/loss: 0.64538\n",
      "\u001b[32m[0924 11:55:14 @monitor.py:467]\u001b[0m GAN_loss/gen/final-g-loss: 1.2576\n",
      "\u001b[32m[0924 11:55:14 @monitor.py:467]\u001b[0m GAN_loss/gen/klloss: 0.14286\n",
      "\u001b[32m[0924 11:55:14 @monitor.py:467]\u001b[0m GAN_loss/gen/loss: 1.1147\n",
      "\u001b[32m[0924 11:55:14 @monitor.py:467]\u001b[0m QueueInput/queue_size: 1.8367e-38\n",
      "\u001b[32m[0924 11:55:14 @monitor.py:467]\u001b[0m QueueInput_1/queue_size: 50\n",
      "\u001b[32m[0924 11:55:14 @base.py:275]\u001b[0m Start Epoch 179 ...\n"
     ]
    },
    {
     "name": "stderr",
     "output_type": "stream",
     "text": [
      "\n",
      "100%|#################################################################################|2000/2000[00:37<00:00,53.77it/s]"
     ]
    },
    {
     "name": "stdout",
     "output_type": "stream",
     "text": [
      "\u001b[32m[0924 11:55:51 @base.py:285]\u001b[0m Epoch 179 (global_step 358000) finished, time:37.2 seconds.\n",
      "\u001b[32m[0924 11:55:51 @saver.py:79]\u001b[0m Model saved to ../output/Chicago/DATGAN_TEST/model\\model-358000.\n",
      "\u001b[32m[0924 11:55:51 @monitor.py:467]\u001b[0m GAN_loss/discrim/accuracy_fake: 0.895\n",
      "\u001b[32m[0924 11:55:51 @monitor.py:467]\u001b[0m GAN_loss/discrim/accuracy_real: 0.14\n",
      "\u001b[32m[0924 11:55:51 @monitor.py:467]\u001b[0m GAN_loss/discrim/loss: 0.65477\n",
      "\u001b[32m[0924 11:55:51 @monitor.py:467]\u001b[0m GAN_loss/gen/final-g-loss: 1.3385\n",
      "\u001b[32m[0924 11:55:51 @monitor.py:467]\u001b[0m GAN_loss/gen/klloss: 0.22134\n",
      "\u001b[32m[0924 11:55:51 @monitor.py:467]\u001b[0m GAN_loss/gen/loss: 1.1171\n",
      "\u001b[32m[0924 11:55:51 @monitor.py:467]\u001b[0m QueueInput/queue_size: 1.8367e-38\n",
      "\u001b[32m[0924 11:55:51 @monitor.py:467]\u001b[0m QueueInput_1/queue_size: 50\n",
      "\u001b[32m[0924 11:55:51 @base.py:275]\u001b[0m Start Epoch 180 ...\n"
     ]
    },
    {
     "name": "stderr",
     "output_type": "stream",
     "text": [
      "\n",
      "100%|#################################################################################|2000/2000[00:37<00:00,53.88it/s]"
     ]
    },
    {
     "name": "stdout",
     "output_type": "stream",
     "text": [
      "\u001b[32m[0924 11:56:28 @base.py:285]\u001b[0m Epoch 180 (global_step 360000) finished, time:37.1 seconds.\n"
     ]
    },
    {
     "name": "stderr",
     "output_type": "stream",
     "text": [
      "\n"
     ]
    },
    {
     "name": "stdout",
     "output_type": "stream",
     "text": [
      "\u001b[32m[0924 11:56:28 @saver.py:79]\u001b[0m Model saved to ../output/Chicago/DATGAN_TEST/model\\model-360000.\n",
      "\u001b[32m[0924 11:56:28 @monitor.py:467]\u001b[0m GAN_loss/discrim/accuracy_fake: 0.94\n",
      "\u001b[32m[0924 11:56:28 @monitor.py:467]\u001b[0m GAN_loss/discrim/accuracy_real: 0.13\n",
      "\u001b[32m[0924 11:56:28 @monitor.py:467]\u001b[0m GAN_loss/discrim/loss: 0.63627\n",
      "\u001b[32m[0924 11:56:28 @monitor.py:467]\u001b[0m GAN_loss/gen/final-g-loss: 1.4103\n",
      "\u001b[32m[0924 11:56:28 @monitor.py:467]\u001b[0m GAN_loss/gen/klloss: 0.27856\n",
      "\u001b[32m[0924 11:56:28 @monitor.py:467]\u001b[0m GAN_loss/gen/loss: 1.1318\n",
      "\u001b[32m[0924 11:56:28 @monitor.py:467]\u001b[0m QueueInput/queue_size: 1.8367e-38\n",
      "\u001b[32m[0924 11:56:28 @monitor.py:467]\u001b[0m QueueInput_1/queue_size: 50\n",
      "\u001b[32m[0924 11:56:28 @base.py:275]\u001b[0m Start Epoch 181 ...\n"
     ]
    },
    {
     "name": "stderr",
     "output_type": "stream",
     "text": [
      "100%|#################################################################################|2000/2000[00:37<00:00,53.93it/s]"
     ]
    },
    {
     "name": "stdout",
     "output_type": "stream",
     "text": [
      "\u001b[32m[0924 11:57:06 @base.py:285]\u001b[0m Epoch 181 (global_step 362000) finished, time:37.1 seconds.\n",
      "\u001b[32m[0924 11:57:06 @saver.py:79]\u001b[0m Model saved to ../output/Chicago/DATGAN_TEST/model\\model-362000.\n",
      "\u001b[32m[0924 11:57:06 @monitor.py:467]\u001b[0m GAN_loss/discrim/accuracy_fake: 0.905\n",
      "\u001b[32m[0924 11:57:06 @monitor.py:467]\u001b[0m GAN_loss/discrim/accuracy_real: 0.16\n",
      "\u001b[32m[0924 11:57:06 @monitor.py:467]\u001b[0m GAN_loss/discrim/loss: 0.6483\n",
      "\u001b[32m[0924 11:57:06 @monitor.py:467]\u001b[0m GAN_loss/gen/final-g-loss: 1.3386\n",
      "\u001b[32m[0924 11:57:06 @monitor.py:467]\u001b[0m GAN_loss/gen/klloss: 0.21882\n",
      "\u001b[32m[0924 11:57:06 @monitor.py:467]\u001b[0m GAN_loss/gen/loss: 1.1197\n",
      "\u001b[32m[0924 11:57:06 @monitor.py:467]\u001b[0m QueueInput/queue_size: 1.8367e-38\n",
      "\u001b[32m[0924 11:57:06 @monitor.py:467]\u001b[0m QueueInput_1/queue_size: 50\n",
      "\u001b[32m[0924 11:57:06 @base.py:275]\u001b[0m Start Epoch 182 ...\n"
     ]
    },
    {
     "name": "stderr",
     "output_type": "stream",
     "text": [
      "\n",
      "100%|#################################################################################|2000/2000[00:37<00:00,53.95it/s]"
     ]
    },
    {
     "name": "stdout",
     "output_type": "stream",
     "text": [
      "\u001b[32m[0924 11:57:43 @base.py:285]\u001b[0m Epoch 182 (global_step 364000) finished, time:37.1 seconds.\n",
      "\u001b[32m[0924 11:57:43 @saver.py:79]\u001b[0m Model saved to ../output/Chicago/DATGAN_TEST/model\\model-364000.\n",
      "\u001b[32m[0924 11:57:43 @monitor.py:467]\u001b[0m GAN_loss/discrim/accuracy_fake: 0.93\n",
      "\u001b[32m[0924 11:57:43 @monitor.py:467]\u001b[0m GAN_loss/discrim/accuracy_real: 0.19\n",
      "\u001b[32m[0924 11:57:43 @monitor.py:467]\u001b[0m GAN_loss/discrim/loss: 0.64074\n",
      "\u001b[32m[0924 11:57:43 @monitor.py:467]\u001b[0m GAN_loss/gen/final-g-loss: 1.3854\n",
      "\u001b[32m[0924 11:57:43 @monitor.py:467]\u001b[0m GAN_loss/gen/klloss: 0.2539\n",
      "\u001b[32m[0924 11:57:43 @monitor.py:467]\u001b[0m GAN_loss/gen/loss: 1.1315\n",
      "\u001b[32m[0924 11:57:43 @monitor.py:467]\u001b[0m QueueInput/queue_size: 1.8367e-38\n",
      "\u001b[32m[0924 11:57:43 @monitor.py:467]\u001b[0m QueueInput_1/queue_size: 50\n",
      "\u001b[32m[0924 11:57:43 @base.py:275]\u001b[0m Start Epoch 183 ...\n"
     ]
    },
    {
     "name": "stderr",
     "output_type": "stream",
     "text": [
      "\n",
      "100%|#################################################################################|2000/2000[00:37<00:00,53.87it/s]"
     ]
    },
    {
     "name": "stdout",
     "output_type": "stream",
     "text": [
      "\u001b[32m[0924 11:58:20 @base.py:285]\u001b[0m Epoch 183 (global_step 366000) finished, time:37.1 seconds.\n",
      "\u001b[32m[0924 11:58:20 @saver.py:79]\u001b[0m Model saved to ../output/Chicago/DATGAN_TEST/model\\model-366000.\n",
      "\u001b[32m[0924 11:58:20 @monitor.py:467]\u001b[0m GAN_loss/discrim/accuracy_fake: 0.935\n",
      "\u001b[32m[0924 11:58:20 @monitor.py:467]\u001b[0m GAN_loss/discrim/accuracy_real: 0.175\n",
      "\u001b[32m[0924 11:58:20 @monitor.py:467]\u001b[0m GAN_loss/discrim/loss: 0.63724\n",
      "\u001b[32m[0924 11:58:20 @monitor.py:467]\u001b[0m GAN_loss/gen/final-g-loss: 1.3069\n",
      "\u001b[32m[0924 11:58:20 @monitor.py:467]\u001b[0m GAN_loss/gen/klloss: 0.18972\n",
      "\u001b[32m[0924 11:58:20 @monitor.py:467]\u001b[0m GAN_loss/gen/loss: 1.1172\n",
      "\u001b[32m[0924 11:58:20 @monitor.py:467]\u001b[0m QueueInput/queue_size: 1.8367e-38\n",
      "\u001b[32m[0924 11:58:20 @monitor.py:467]\u001b[0m QueueInput_1/queue_size: 50\n",
      "\u001b[32m[0924 11:58:20 @base.py:275]\u001b[0m Start Epoch 184 ...\n"
     ]
    },
    {
     "name": "stderr",
     "output_type": "stream",
     "text": [
      "\n",
      "100%|#################################################################################|2000/2000[00:37<00:00,53.93it/s]"
     ]
    },
    {
     "name": "stdout",
     "output_type": "stream",
     "text": [
      "\u001b[32m[0924 11:58:57 @base.py:285]\u001b[0m Epoch 184 (global_step 368000) finished, time:37.1 seconds.\n",
      "\u001b[32m[0924 11:58:57 @saver.py:79]\u001b[0m Model saved to ../output/Chicago/DATGAN_TEST/model\\model-368000.\n",
      "\u001b[32m[0924 11:58:57 @monitor.py:467]\u001b[0m GAN_loss/discrim/accuracy_fake: 0.94\n",
      "\u001b[32m[0924 11:58:57 @monitor.py:467]\u001b[0m GAN_loss/discrim/accuracy_real: 0.18\n",
      "\u001b[32m[0924 11:58:57 @monitor.py:467]\u001b[0m GAN_loss/discrim/loss: 0.64082\n",
      "\u001b[32m[0924 11:58:57 @monitor.py:467]\u001b[0m GAN_loss/gen/final-g-loss: 1.3863\n",
      "\u001b[32m[0924 11:58:57 @monitor.py:467]\u001b[0m GAN_loss/gen/klloss: 0.27401\n",
      "\u001b[32m[0924 11:58:57 @monitor.py:467]\u001b[0m GAN_loss/gen/loss: 1.1123\n",
      "\u001b[32m[0924 11:58:57 @monitor.py:467]\u001b[0m QueueInput/queue_size: 1.8367e-38\n",
      "\u001b[32m[0924 11:58:57 @monitor.py:467]\u001b[0m QueueInput_1/queue_size: 50\n",
      "\u001b[32m[0924 11:58:57 @base.py:275]\u001b[0m Start Epoch 185 ...\n"
     ]
    },
    {
     "name": "stderr",
     "output_type": "stream",
     "text": [
      "\n",
      "100%|#################################################################################|2000/2000[00:37<00:00,53.97it/s]"
     ]
    },
    {
     "name": "stdout",
     "output_type": "stream",
     "text": [
      "\u001b[32m[0924 11:59:34 @base.py:285]\u001b[0m Epoch 185 (global_step 370000) finished, time:37.1 seconds.\n",
      "\u001b[32m[0924 11:59:34 @saver.py:79]\u001b[0m Model saved to ../output/Chicago/DATGAN_TEST/model\\model-370000.\n",
      "\u001b[32m[0924 11:59:34 @monitor.py:467]\u001b[0m GAN_loss/discrim/accuracy_fake: 0.875\n",
      "\u001b[32m[0924 11:59:34 @monitor.py:467]\u001b[0m GAN_loss/discrim/accuracy_real: 0.18\n",
      "\u001b[32m[0924 11:59:34 @monitor.py:467]\u001b[0m GAN_loss/discrim/loss: 0.65538\n",
      "\u001b[32m[0924 11:59:34 @monitor.py:467]\u001b[0m GAN_loss/gen/final-g-loss: 1.2806\n",
      "\u001b[32m[0924 11:59:34 @monitor.py:467]\u001b[0m GAN_loss/gen/klloss: 0.17288\n",
      "\u001b[32m[0924 11:59:34 @monitor.py:467]\u001b[0m GAN_loss/gen/loss: 1.1077\n",
      "\u001b[32m[0924 11:59:34 @monitor.py:467]\u001b[0m QueueInput/queue_size: 1.8367e-38\n",
      "\u001b[32m[0924 11:59:34 @monitor.py:467]\u001b[0m QueueInput_1/queue_size: 50\n",
      "\u001b[32m[0924 11:59:34 @base.py:275]\u001b[0m Start Epoch 186 ...\n"
     ]
    },
    {
     "name": "stderr",
     "output_type": "stream",
     "text": [
      "\n",
      "100%|#################################################################################|2000/2000[00:37<00:00,53.70it/s]"
     ]
    },
    {
     "name": "stdout",
     "output_type": "stream",
     "text": [
      "\u001b[32m[0924 12:00:12 @base.py:285]\u001b[0m Epoch 186 (global_step 372000) finished, time:37.2 seconds.\n",
      "\u001b[32m[0924 12:00:12 @saver.py:79]\u001b[0m Model saved to ../output/Chicago/DATGAN_TEST/model\\model-372000.\n",
      "\u001b[32m[0924 12:00:12 @monitor.py:467]\u001b[0m GAN_loss/discrim/accuracy_fake: 0.925\n",
      "\u001b[32m[0924 12:00:12 @monitor.py:467]\u001b[0m GAN_loss/discrim/accuracy_real: 0.12\n",
      "\u001b[32m[0924 12:00:12 @monitor.py:467]\u001b[0m GAN_loss/discrim/loss: 0.65393\n",
      "\u001b[32m[0924 12:00:12 @monitor.py:467]\u001b[0m GAN_loss/gen/final-g-loss: 1.2596\n",
      "\u001b[32m[0924 12:00:12 @monitor.py:467]\u001b[0m GAN_loss/gen/klloss: 0.14852\n",
      "\u001b[32m[0924 12:00:12 @monitor.py:467]\u001b[0m GAN_loss/gen/loss: 1.1111\n",
      "\u001b[32m[0924 12:00:12 @monitor.py:467]\u001b[0m QueueInput/queue_size: 1.8367e-38\n",
      "\u001b[32m[0924 12:00:12 @monitor.py:467]\u001b[0m QueueInput_1/queue_size: 50\n",
      "\u001b[32m[0924 12:00:12 @base.py:275]\u001b[0m Start Epoch 187 ...\n"
     ]
    },
    {
     "name": "stderr",
     "output_type": "stream",
     "text": [
      "\n",
      "100%|#################################################################################|2000/2000[00:36<00:00,54.26it/s]"
     ]
    },
    {
     "name": "stdout",
     "output_type": "stream",
     "text": [
      "\u001b[32m[0924 12:00:49 @base.py:285]\u001b[0m Epoch 187 (global_step 374000) finished, time:36.9 seconds.\n",
      "\u001b[32m[0924 12:00:49 @saver.py:79]\u001b[0m Model saved to ../output/Chicago/DATGAN_TEST/model\\model-374000.\n",
      "\u001b[32m[0924 12:00:49 @monitor.py:467]\u001b[0m GAN_loss/discrim/accuracy_fake: 0.87\n",
      "\u001b[32m[0924 12:00:49 @monitor.py:467]\u001b[0m GAN_loss/discrim/accuracy_real: 0.13\n",
      "\u001b[32m[0924 12:00:49 @monitor.py:467]\u001b[0m GAN_loss/discrim/loss: 0.66004\n",
      "\u001b[32m[0924 12:00:49 @monitor.py:467]\u001b[0m GAN_loss/gen/final-g-loss: 1.389\n",
      "\u001b[32m[0924 12:00:49 @monitor.py:467]\u001b[0m GAN_loss/gen/klloss: 0.30217\n",
      "\u001b[32m[0924 12:00:49 @monitor.py:467]\u001b[0m GAN_loss/gen/loss: 1.0868\n",
      "\u001b[32m[0924 12:00:49 @monitor.py:467]\u001b[0m QueueInput/queue_size: 1.8367e-38\n",
      "\u001b[32m[0924 12:00:49 @monitor.py:467]\u001b[0m QueueInput_1/queue_size: 50\n",
      "\u001b[32m[0924 12:00:49 @base.py:275]\u001b[0m Start Epoch 188 ...\n"
     ]
    },
    {
     "name": "stderr",
     "output_type": "stream",
     "text": [
      "\n",
      "100%|#################################################################################|2000/2000[00:37<00:00,53.94it/s]"
     ]
    },
    {
     "name": "stdout",
     "output_type": "stream",
     "text": [
      "\u001b[32m[0924 12:01:26 @base.py:285]\u001b[0m Epoch 188 (global_step 376000) finished, time:37.1 seconds.\n",
      "\u001b[32m[0924 12:01:26 @saver.py:79]\u001b[0m Model saved to ../output/Chicago/DATGAN_TEST/model\\model-376000.\n",
      "\u001b[32m[0924 12:01:26 @monitor.py:467]\u001b[0m GAN_loss/discrim/accuracy_fake: 0.915\n",
      "\u001b[32m[0924 12:01:26 @monitor.py:467]\u001b[0m GAN_loss/discrim/accuracy_real: 0.18\n",
      "\u001b[32m[0924 12:01:26 @monitor.py:467]\u001b[0m GAN_loss/discrim/loss: 0.64105\n",
      "\u001b[32m[0924 12:01:26 @monitor.py:467]\u001b[0m GAN_loss/gen/final-g-loss: 1.392\n",
      "\u001b[32m[0924 12:01:26 @monitor.py:467]\u001b[0m GAN_loss/gen/klloss: 0.25158\n",
      "\u001b[32m[0924 12:01:26 @monitor.py:467]\u001b[0m GAN_loss/gen/loss: 1.1404\n",
      "\u001b[32m[0924 12:01:26 @monitor.py:467]\u001b[0m QueueInput/queue_size: 1.8367e-38\n",
      "\u001b[32m[0924 12:01:26 @monitor.py:467]\u001b[0m QueueInput_1/queue_size: 50\n",
      "\u001b[32m[0924 12:01:26 @base.py:275]\u001b[0m Start Epoch 189 ...\n"
     ]
    },
    {
     "name": "stderr",
     "output_type": "stream",
     "text": [
      "\n",
      "100%|#################################################################################|2000/2000[00:37<00:00,53.96it/s]"
     ]
    },
    {
     "name": "stdout",
     "output_type": "stream",
     "text": [
      "\u001b[32m[0924 12:02:03 @base.py:285]\u001b[0m Epoch 189 (global_step 378000) finished, time:37.1 seconds.\n"
     ]
    },
    {
     "name": "stderr",
     "output_type": "stream",
     "text": [
      "\n"
     ]
    },
    {
     "name": "stdout",
     "output_type": "stream",
     "text": [
      "\u001b[32m[0924 12:02:03 @saver.py:79]\u001b[0m Model saved to ../output/Chicago/DATGAN_TEST/model\\model-378000.\n",
      "\u001b[32m[0924 12:02:03 @monitor.py:467]\u001b[0m GAN_loss/discrim/accuracy_fake: 0.91\n",
      "\u001b[32m[0924 12:02:03 @monitor.py:467]\u001b[0m GAN_loss/discrim/accuracy_real: 0.2\n",
      "\u001b[32m[0924 12:02:03 @monitor.py:467]\u001b[0m GAN_loss/discrim/loss: 0.64778\n",
      "\u001b[32m[0924 12:02:03 @monitor.py:467]\u001b[0m GAN_loss/gen/final-g-loss: 1.3746\n",
      "\u001b[32m[0924 12:02:03 @monitor.py:467]\u001b[0m GAN_loss/gen/klloss: 0.25776\n",
      "\u001b[32m[0924 12:02:03 @monitor.py:467]\u001b[0m GAN_loss/gen/loss: 1.1168\n",
      "\u001b[32m[0924 12:02:03 @monitor.py:467]\u001b[0m QueueInput/queue_size: 1.8367e-38\n",
      "\u001b[32m[0924 12:02:03 @monitor.py:467]\u001b[0m QueueInput_1/queue_size: 50\n",
      "\u001b[32m[0924 12:02:03 @base.py:275]\u001b[0m Start Epoch 190 ...\n"
     ]
    },
    {
     "name": "stderr",
     "output_type": "stream",
     "text": [
      "100%|#################################################################################|2000/2000[00:36<00:00,54.07it/s]"
     ]
    },
    {
     "name": "stdout",
     "output_type": "stream",
     "text": [
      "\u001b[32m[0924 12:02:40 @base.py:285]\u001b[0m Epoch 190 (global_step 380000) finished, time:37 seconds.\n",
      "\u001b[32m[0924 12:02:40 @saver.py:79]\u001b[0m Model saved to ../output/Chicago/DATGAN_TEST/model\\model-380000.\n",
      "\u001b[32m[0924 12:02:40 @monitor.py:467]\u001b[0m GAN_loss/discrim/accuracy_fake: 0.9\n",
      "\u001b[32m[0924 12:02:40 @monitor.py:467]\u001b[0m GAN_loss/discrim/accuracy_real: 0.175\n",
      "\u001b[32m[0924 12:02:40 @monitor.py:467]\u001b[0m GAN_loss/discrim/loss: 0.63262\n",
      "\u001b[32m[0924 12:02:40 @monitor.py:467]\u001b[0m GAN_loss/gen/final-g-loss: 1.3075\n",
      "\u001b[32m[0924 12:02:40 @monitor.py:467]\u001b[0m GAN_loss/gen/klloss: 0.18131\n",
      "\u001b[32m[0924 12:02:40 @monitor.py:467]\u001b[0m GAN_loss/gen/loss: 1.1262\n",
      "\u001b[32m[0924 12:02:40 @monitor.py:467]\u001b[0m QueueInput/queue_size: 1.8367e-38\n",
      "\u001b[32m[0924 12:02:40 @monitor.py:467]\u001b[0m QueueInput_1/queue_size: 50\n",
      "\u001b[32m[0924 12:02:40 @base.py:275]\u001b[0m Start Epoch 191 ...\n"
     ]
    },
    {
     "name": "stderr",
     "output_type": "stream",
     "text": [
      "\n",
      "100%|#################################################################################|2000/2000[00:37<00:00,53.72it/s]"
     ]
    },
    {
     "name": "stdout",
     "output_type": "stream",
     "text": [
      "\u001b[32m[0924 12:03:17 @base.py:285]\u001b[0m Epoch 191 (global_step 382000) finished, time:37.2 seconds.\n",
      "\u001b[32m[0924 12:03:18 @saver.py:79]\u001b[0m Model saved to ../output/Chicago/DATGAN_TEST/model\\model-382000.\n",
      "\u001b[32m[0924 12:03:18 @monitor.py:467]\u001b[0m GAN_loss/discrim/accuracy_fake: 0.93\n",
      "\u001b[32m[0924 12:03:18 @monitor.py:467]\u001b[0m GAN_loss/discrim/accuracy_real: 0.095\n",
      "\u001b[32m[0924 12:03:18 @monitor.py:467]\u001b[0m GAN_loss/discrim/loss: 0.64263\n",
      "\u001b[32m[0924 12:03:18 @monitor.py:467]\u001b[0m GAN_loss/gen/final-g-loss: 1.394\n",
      "\u001b[32m[0924 12:03:18 @monitor.py:467]\u001b[0m GAN_loss/gen/klloss: 0.23012\n",
      "\u001b[32m[0924 12:03:18 @monitor.py:467]\u001b[0m GAN_loss/gen/loss: 1.1639\n",
      "\u001b[32m[0924 12:03:18 @monitor.py:467]\u001b[0m QueueInput/queue_size: 1.8367e-38\n",
      "\u001b[32m[0924 12:03:18 @monitor.py:467]\u001b[0m QueueInput_1/queue_size: 50\n",
      "\u001b[32m[0924 12:03:18 @base.py:275]\u001b[0m Start Epoch 192 ...\n"
     ]
    },
    {
     "name": "stderr",
     "output_type": "stream",
     "text": [
      "\n",
      "100%|#################################################################################|2000/2000[00:37<00:00,53.94it/s]"
     ]
    },
    {
     "name": "stdout",
     "output_type": "stream",
     "text": [
      "\u001b[32m[0924 12:03:55 @base.py:285]\u001b[0m Epoch 192 (global_step 384000) finished, time:37.1 seconds.\n"
     ]
    },
    {
     "name": "stderr",
     "output_type": "stream",
     "text": [
      "\n"
     ]
    },
    {
     "name": "stdout",
     "output_type": "stream",
     "text": [
      "\u001b[32m[0924 12:03:55 @saver.py:79]\u001b[0m Model saved to ../output/Chicago/DATGAN_TEST/model\\model-384000.\n",
      "\u001b[32m[0924 12:03:55 @monitor.py:467]\u001b[0m GAN_loss/discrim/accuracy_fake: 0.93\n",
      "\u001b[32m[0924 12:03:55 @monitor.py:467]\u001b[0m GAN_loss/discrim/accuracy_real: 0.145\n",
      "\u001b[32m[0924 12:03:55 @monitor.py:467]\u001b[0m GAN_loss/discrim/loss: 0.64284\n",
      "\u001b[32m[0924 12:03:55 @monitor.py:467]\u001b[0m GAN_loss/gen/final-g-loss: 1.3008\n",
      "\u001b[32m[0924 12:03:55 @monitor.py:467]\u001b[0m GAN_loss/gen/klloss: 0.1891\n",
      "\u001b[32m[0924 12:03:55 @monitor.py:467]\u001b[0m GAN_loss/gen/loss: 1.1117\n",
      "\u001b[32m[0924 12:03:55 @monitor.py:467]\u001b[0m QueueInput/queue_size: 1.8367e-38\n",
      "\u001b[32m[0924 12:03:55 @monitor.py:467]\u001b[0m QueueInput_1/queue_size: 50\n",
      "\u001b[32m[0924 12:03:55 @base.py:275]\u001b[0m Start Epoch 193 ...\n"
     ]
    },
    {
     "name": "stderr",
     "output_type": "stream",
     "text": [
      "100%|#################################################################################|2000/2000[00:37<00:00,53.89it/s]"
     ]
    },
    {
     "name": "stdout",
     "output_type": "stream",
     "text": [
      "\u001b[32m[0924 12:04:32 @base.py:285]\u001b[0m Epoch 193 (global_step 386000) finished, time:37.1 seconds.\n",
      "\u001b[32m[0924 12:04:32 @saver.py:79]\u001b[0m Model saved to ../output/Chicago/DATGAN_TEST/model\\model-386000.\n",
      "\u001b[32m[0924 12:04:32 @monitor.py:467]\u001b[0m GAN_loss/discrim/accuracy_fake: 0.9\n",
      "\u001b[32m[0924 12:04:32 @monitor.py:467]\u001b[0m GAN_loss/discrim/accuracy_real: 0.14\n",
      "\u001b[32m[0924 12:04:32 @monitor.py:467]\u001b[0m GAN_loss/discrim/loss: 0.63564\n",
      "\u001b[32m[0924 12:04:32 @monitor.py:467]\u001b[0m GAN_loss/gen/final-g-loss: 1.3533\n",
      "\u001b[32m[0924 12:04:32 @monitor.py:467]\u001b[0m GAN_loss/gen/klloss: 0.21976\n",
      "\u001b[32m[0924 12:04:32 @monitor.py:467]\u001b[0m GAN_loss/gen/loss: 1.1336\n",
      "\u001b[32m[0924 12:04:32 @monitor.py:467]\u001b[0m QueueInput/queue_size: 1.8367e-38\n",
      "\u001b[32m[0924 12:04:32 @monitor.py:467]\u001b[0m QueueInput_1/queue_size: 50\n",
      "\u001b[32m[0924 12:04:32 @base.py:275]\u001b[0m Start Epoch 194 ...\n"
     ]
    },
    {
     "name": "stderr",
     "output_type": "stream",
     "text": [
      "\n",
      "100%|#################################################################################|2000/2000[00:37<00:00,53.92it/s]"
     ]
    },
    {
     "name": "stdout",
     "output_type": "stream",
     "text": [
      "\u001b[32m[0924 12:05:09 @base.py:285]\u001b[0m Epoch 194 (global_step 388000) finished, time:37.1 seconds.\n"
     ]
    },
    {
     "name": "stderr",
     "output_type": "stream",
     "text": [
      "\n"
     ]
    },
    {
     "name": "stdout",
     "output_type": "stream",
     "text": [
      "\u001b[32m[0924 12:05:09 @saver.py:79]\u001b[0m Model saved to ../output/Chicago/DATGAN_TEST/model\\model-388000.\n",
      "\u001b[32m[0924 12:05:09 @monitor.py:467]\u001b[0m GAN_loss/discrim/accuracy_fake: 0.905\n",
      "\u001b[32m[0924 12:05:09 @monitor.py:467]\u001b[0m GAN_loss/discrim/accuracy_real: 0.155\n",
      "\u001b[32m[0924 12:05:09 @monitor.py:467]\u001b[0m GAN_loss/discrim/loss: 0.65179\n",
      "\u001b[32m[0924 12:05:09 @monitor.py:467]\u001b[0m GAN_loss/gen/final-g-loss: 1.4421\n",
      "\u001b[32m[0924 12:05:09 @monitor.py:467]\u001b[0m GAN_loss/gen/klloss: 0.32625\n",
      "\u001b[32m[0924 12:05:09 @monitor.py:467]\u001b[0m GAN_loss/gen/loss: 1.1159\n",
      "\u001b[32m[0924 12:05:09 @monitor.py:467]\u001b[0m QueueInput/queue_size: 1.8367e-38\n",
      "\u001b[32m[0924 12:05:09 @monitor.py:467]\u001b[0m QueueInput_1/queue_size: 50\n",
      "\u001b[32m[0924 12:05:09 @base.py:275]\u001b[0m Start Epoch 195 ...\n"
     ]
    },
    {
     "name": "stderr",
     "output_type": "stream",
     "text": [
      "100%|#################################################################################|2000/2000[00:37<00:00,53.88it/s]"
     ]
    },
    {
     "name": "stdout",
     "output_type": "stream",
     "text": [
      "\u001b[32m[0924 12:05:46 @base.py:285]\u001b[0m Epoch 195 (global_step 390000) finished, time:37.1 seconds.\n",
      "\u001b[32m[0924 12:05:46 @saver.py:79]\u001b[0m Model saved to ../output/Chicago/DATGAN_TEST/model\\model-390000.\n",
      "\u001b[32m[0924 12:05:46 @monitor.py:467]\u001b[0m GAN_loss/discrim/accuracy_fake: 0.93\n"
     ]
    },
    {
     "name": "stderr",
     "output_type": "stream",
     "text": [
      "\n"
     ]
    },
    {
     "name": "stdout",
     "output_type": "stream",
     "text": [
      "\u001b[32m[0924 12:05:46 @monitor.py:467]\u001b[0m GAN_loss/discrim/accuracy_real: 0.155\n",
      "\u001b[32m[0924 12:05:46 @monitor.py:467]\u001b[0m GAN_loss/discrim/loss: 0.63935\n",
      "\u001b[32m[0924 12:05:46 @monitor.py:467]\u001b[0m GAN_loss/gen/final-g-loss: 1.3227\n",
      "\u001b[32m[0924 12:05:46 @monitor.py:467]\u001b[0m GAN_loss/gen/klloss: 0.19212\n",
      "\u001b[32m[0924 12:05:46 @monitor.py:467]\u001b[0m GAN_loss/gen/loss: 1.1305\n",
      "\u001b[32m[0924 12:05:46 @monitor.py:467]\u001b[0m QueueInput/queue_size: 1.8367e-38\n",
      "\u001b[32m[0924 12:05:46 @monitor.py:467]\u001b[0m QueueInput_1/queue_size: 50\n",
      "\u001b[32m[0924 12:05:46 @base.py:275]\u001b[0m Start Epoch 196 ...\n"
     ]
    },
    {
     "name": "stderr",
     "output_type": "stream",
     "text": [
      "100%|#################################################################################|2000/2000[00:37<00:00,53.99it/s]"
     ]
    },
    {
     "name": "stdout",
     "output_type": "stream",
     "text": [
      "\u001b[32m[0924 12:06:24 @base.py:285]\u001b[0m Epoch 196 (global_step 392000) finished, time:37 seconds.\n",
      "\u001b[32m[0924 12:06:24 @saver.py:79]\u001b[0m Model saved to ../output/Chicago/DATGAN_TEST/model\\model-392000.\n",
      "\u001b[32m[0924 12:06:24 @monitor.py:467]\u001b[0m GAN_loss/discrim/accuracy_fake: 0.955\n",
      "\u001b[32m[0924 12:06:24 @monitor.py:467]\u001b[0m GAN_loss/discrim/accuracy_real: 0.16\n",
      "\u001b[32m[0924 12:06:24 @monitor.py:467]\u001b[0m GAN_loss/discrim/loss: 0.6401\n",
      "\u001b[32m[0924 12:06:24 @monitor.py:467]\u001b[0m GAN_loss/gen/final-g-loss: 1.3068\n",
      "\u001b[32m[0924 12:06:24 @monitor.py:467]\u001b[0m GAN_loss/gen/klloss: 0.20101\n",
      "\u001b[32m[0924 12:06:24 @monitor.py:467]\u001b[0m GAN_loss/gen/loss: 1.1058\n",
      "\u001b[32m[0924 12:06:24 @monitor.py:467]\u001b[0m QueueInput/queue_size: 1.8367e-38\n",
      "\u001b[32m[0924 12:06:24 @monitor.py:467]\u001b[0m QueueInput_1/queue_size: 50\n",
      "\u001b[32m[0924 12:06:24 @base.py:275]\u001b[0m Start Epoch 197 ...\n"
     ]
    },
    {
     "name": "stderr",
     "output_type": "stream",
     "text": [
      "\n",
      "100%|#################################################################################|2000/2000[00:37<00:00,53.96it/s]"
     ]
    },
    {
     "name": "stdout",
     "output_type": "stream",
     "text": [
      "\u001b[32m[0924 12:07:01 @base.py:285]\u001b[0m Epoch 197 (global_step 394000) finished, time:37.1 seconds.\n",
      "\u001b[32m[0924 12:07:01 @saver.py:79]\u001b[0m Model saved to ../output/Chicago/DATGAN_TEST/model\\model-394000.\n",
      "\u001b[32m[0924 12:07:01 @monitor.py:467]\u001b[0m GAN_loss/discrim/accuracy_fake: 0.91\n",
      "\u001b[32m[0924 12:07:01 @monitor.py:467]\u001b[0m GAN_loss/discrim/accuracy_real: 0.1\n",
      "\u001b[32m[0924 12:07:01 @monitor.py:467]\u001b[0m GAN_loss/discrim/loss: 0.63505\n",
      "\u001b[32m[0924 12:07:01 @monitor.py:467]\u001b[0m GAN_loss/gen/final-g-loss: 1.2843\n",
      "\u001b[32m[0924 12:07:01 @monitor.py:467]\u001b[0m GAN_loss/gen/klloss: 0.1611\n",
      "\u001b[32m[0924 12:07:01 @monitor.py:467]\u001b[0m GAN_loss/gen/loss: 1.1232\n",
      "\u001b[32m[0924 12:07:01 @monitor.py:467]\u001b[0m QueueInput/queue_size: 1.8367e-38\n",
      "\u001b[32m[0924 12:07:01 @monitor.py:467]\u001b[0m QueueInput_1/queue_size: 50\n",
      "\u001b[32m[0924 12:07:01 @base.py:275]\u001b[0m Start Epoch 198 ...\n"
     ]
    },
    {
     "name": "stderr",
     "output_type": "stream",
     "text": [
      "\n",
      "100%|#################################################################################|2000/2000[00:37<00:00,53.83it/s]"
     ]
    },
    {
     "name": "stdout",
     "output_type": "stream",
     "text": [
      "\u001b[32m[0924 12:07:38 @base.py:285]\u001b[0m Epoch 198 (global_step 396000) finished, time:37.2 seconds.\n",
      "\u001b[32m[0924 12:07:38 @saver.py:79]\u001b[0m Model saved to ../output/Chicago/DATGAN_TEST/model\\model-396000.\n",
      "\u001b[32m[0924 12:07:38 @monitor.py:467]\u001b[0m GAN_loss/discrim/accuracy_fake: 0.9\n",
      "\u001b[32m[0924 12:07:38 @monitor.py:467]\u001b[0m GAN_loss/discrim/accuracy_real: 0.135\n",
      "\u001b[32m[0924 12:07:38 @monitor.py:467]\u001b[0m GAN_loss/discrim/loss: 0.64515\n",
      "\u001b[32m[0924 12:07:38 @monitor.py:467]\u001b[0m GAN_loss/gen/final-g-loss: 1.2786\n",
      "\u001b[32m[0924 12:07:38 @monitor.py:467]\u001b[0m GAN_loss/gen/klloss: 0.17099\n",
      "\u001b[32m[0924 12:07:38 @monitor.py:467]\u001b[0m GAN_loss/gen/loss: 1.1076\n",
      "\u001b[32m[0924 12:07:38 @monitor.py:467]\u001b[0m QueueInput/queue_size: 1.8367e-38\n",
      "\u001b[32m[0924 12:07:38 @monitor.py:467]\u001b[0m QueueInput_1/queue_size: 50\n",
      "\u001b[32m[0924 12:07:38 @base.py:275]\u001b[0m Start Epoch 199 ...\n"
     ]
    },
    {
     "name": "stderr",
     "output_type": "stream",
     "text": [
      "\n",
      "100%|#################################################################################|2000/2000[00:37<00:00,54.04it/s]"
     ]
    },
    {
     "name": "stdout",
     "output_type": "stream",
     "text": [
      "\u001b[32m[0924 12:08:15 @base.py:285]\u001b[0m Epoch 199 (global_step 398000) finished, time:37 seconds.\n",
      "\u001b[32m[0924 12:08:15 @saver.py:79]\u001b[0m Model saved to ../output/Chicago/DATGAN_TEST/model\\model-398000.\n",
      "\u001b[32m[0924 12:08:15 @monitor.py:467]\u001b[0m GAN_loss/discrim/accuracy_fake: 0.875\n",
      "\u001b[32m[0924 12:08:15 @monitor.py:467]\u001b[0m GAN_loss/discrim/accuracy_real: 0.14\n",
      "\u001b[32m[0924 12:08:15 @monitor.py:467]\u001b[0m GAN_loss/discrim/loss: 0.65971\n",
      "\u001b[32m[0924 12:08:15 @monitor.py:467]\u001b[0m GAN_loss/gen/final-g-loss: 1.3098\n",
      "\u001b[32m[0924 12:08:15 @monitor.py:467]\u001b[0m GAN_loss/gen/klloss: 0.20807\n",
      "\u001b[32m[0924 12:08:15 @monitor.py:467]\u001b[0m GAN_loss/gen/loss: 1.1017\n",
      "\u001b[32m[0924 12:08:15 @monitor.py:467]\u001b[0m QueueInput/queue_size: 1.8367e-38\n",
      "\u001b[32m[0924 12:08:15 @monitor.py:467]\u001b[0m QueueInput_1/queue_size: 50\n",
      "\u001b[32m[0924 12:08:15 @base.py:275]\u001b[0m Start Epoch 200 ...\n"
     ]
    },
    {
     "name": "stderr",
     "output_type": "stream",
     "text": [
      "\n",
      "100%|#################################################################################|2000/2000[00:37<00:00,53.98it/s]"
     ]
    },
    {
     "name": "stdout",
     "output_type": "stream",
     "text": [
      "\u001b[32m[0924 12:08:52 @base.py:285]\u001b[0m Epoch 200 (global_step 400000) finished, time:37.1 seconds.\n"
     ]
    },
    {
     "name": "stderr",
     "output_type": "stream",
     "text": [
      "\n"
     ]
    },
    {
     "name": "stdout",
     "output_type": "stream",
     "text": [
      "\u001b[32m[0924 12:08:52 @saver.py:79]\u001b[0m Model saved to ../output/Chicago/DATGAN_TEST/model\\model-400000.\n",
      "\u001b[32m[0924 12:08:52 @monitor.py:467]\u001b[0m GAN_loss/discrim/accuracy_fake: 0.9\n",
      "\u001b[32m[0924 12:08:52 @monitor.py:467]\u001b[0m GAN_loss/discrim/accuracy_real: 0.16\n",
      "\u001b[32m[0924 12:08:52 @monitor.py:467]\u001b[0m GAN_loss/discrim/loss: 0.63574\n",
      "\u001b[32m[0924 12:08:52 @monitor.py:467]\u001b[0m GAN_loss/gen/final-g-loss: 1.4551\n",
      "\u001b[32m[0924 12:08:52 @monitor.py:467]\u001b[0m GAN_loss/gen/klloss: 0.32262\n",
      "\u001b[32m[0924 12:08:52 @monitor.py:467]\u001b[0m GAN_loss/gen/loss: 1.1325\n",
      "\u001b[32m[0924 12:08:52 @monitor.py:467]\u001b[0m QueueInput/queue_size: 1.8367e-38\n",
      "\u001b[32m[0924 12:08:52 @monitor.py:467]\u001b[0m QueueInput_1/queue_size: 50\n",
      "\u001b[32m[0924 12:08:52 @base.py:275]\u001b[0m Start Epoch 201 ...\n"
     ]
    },
    {
     "name": "stderr",
     "output_type": "stream",
     "text": [
      "100%|#################################################################################|2000/2000[00:36<00:00,54.07it/s]"
     ]
    },
    {
     "name": "stdout",
     "output_type": "stream",
     "text": [
      "\u001b[32m[0924 12:09:29 @base.py:285]\u001b[0m Epoch 201 (global_step 402000) finished, time:37 seconds.\n",
      "\u001b[32m[0924 12:09:29 @saver.py:79]\u001b[0m Model saved to ../output/Chicago/DATGAN_TEST/model\\model-402000.\n",
      "\u001b[32m[0924 12:09:29 @monitor.py:467]\u001b[0m GAN_loss/discrim/accuracy_fake: 0.94\n",
      "\u001b[32m[0924 12:09:29 @monitor.py:467]\u001b[0m GAN_loss/discrim/accuracy_real: 0.14\n",
      "\u001b[32m[0924 12:09:29 @monitor.py:467]\u001b[0m GAN_loss/discrim/loss: 0.63553\n",
      "\u001b[32m[0924 12:09:29 @monitor.py:467]\u001b[0m GAN_loss/gen/final-g-loss: 1.3902\n",
      "\u001b[32m[0924 12:09:29 @monitor.py:467]\u001b[0m GAN_loss/gen/klloss: 0.24301\n",
      "\u001b[32m[0924 12:09:29 @monitor.py:467]\u001b[0m GAN_loss/gen/loss: 1.1472\n",
      "\u001b[32m[0924 12:09:29 @monitor.py:467]\u001b[0m QueueInput/queue_size: 1.8367e-38\n",
      "\u001b[32m[0924 12:09:29 @monitor.py:467]\u001b[0m QueueInput_1/queue_size: 50\n",
      "\u001b[32m[0924 12:09:29 @base.py:275]\u001b[0m Start Epoch 202 ...\n"
     ]
    },
    {
     "name": "stderr",
     "output_type": "stream",
     "text": [
      "\n",
      "100%|#################################################################################|2000/2000[00:37<00:00,53.89it/s]"
     ]
    },
    {
     "name": "stdout",
     "output_type": "stream",
     "text": [
      "\u001b[32m[0924 12:10:07 @base.py:285]\u001b[0m Epoch 202 (global_step 404000) finished, time:37.1 seconds.\n"
     ]
    },
    {
     "name": "stderr",
     "output_type": "stream",
     "text": [
      "\n"
     ]
    },
    {
     "name": "stdout",
     "output_type": "stream",
     "text": [
      "\u001b[32m[0924 12:10:07 @saver.py:79]\u001b[0m Model saved to ../output/Chicago/DATGAN_TEST/model\\model-404000.\n",
      "\u001b[32m[0924 12:10:07 @monitor.py:467]\u001b[0m GAN_loss/discrim/accuracy_fake: 0.915\n",
      "\u001b[32m[0924 12:10:07 @monitor.py:467]\u001b[0m GAN_loss/discrim/accuracy_real: 0.155\n",
      "\u001b[32m[0924 12:10:07 @monitor.py:467]\u001b[0m GAN_loss/discrim/loss: 0.64932\n",
      "\u001b[32m[0924 12:10:07 @monitor.py:467]\u001b[0m GAN_loss/gen/final-g-loss: 1.363\n",
      "\u001b[32m[0924 12:10:07 @monitor.py:467]\u001b[0m GAN_loss/gen/klloss: 0.24776\n",
      "\u001b[32m[0924 12:10:07 @monitor.py:467]\u001b[0m GAN_loss/gen/loss: 1.1153\n",
      "\u001b[32m[0924 12:10:07 @monitor.py:467]\u001b[0m QueueInput/queue_size: 1.8367e-38\n",
      "\u001b[32m[0924 12:10:07 @monitor.py:467]\u001b[0m QueueInput_1/queue_size: 50\n",
      "\u001b[32m[0924 12:10:07 @base.py:275]\u001b[0m Start Epoch 203 ...\n"
     ]
    },
    {
     "name": "stderr",
     "output_type": "stream",
     "text": [
      "100%|#################################################################################|2000/2000[00:36<00:00,54.07it/s]"
     ]
    },
    {
     "name": "stdout",
     "output_type": "stream",
     "text": [
      "\u001b[32m[0924 12:10:44 @base.py:285]\u001b[0m Epoch 203 (global_step 406000) finished, time:37 seconds.\n",
      "\u001b[32m[0924 12:10:44 @saver.py:79]\u001b[0m Model saved to ../output/Chicago/DATGAN_TEST/model\\model-406000.\n",
      "\u001b[32m[0924 12:10:44 @monitor.py:467]\u001b[0m GAN_loss/discrim/accuracy_fake: 0.915\n",
      "\u001b[32m[0924 12:10:44 @monitor.py:467]\u001b[0m GAN_loss/discrim/accuracy_real: 0.14\n",
      "\u001b[32m[0924 12:10:44 @monitor.py:467]\u001b[0m GAN_loss/discrim/loss: 0.64775\n",
      "\u001b[32m[0924 12:10:44 @monitor.py:467]\u001b[0m GAN_loss/gen/final-g-loss: 1.2374\n",
      "\u001b[32m[0924 12:10:44 @monitor.py:467]\u001b[0m GAN_loss/gen/klloss: 0.11449\n",
      "\u001b[32m[0924 12:10:44 @monitor.py:467]\u001b[0m GAN_loss/gen/loss: 1.1229\n",
      "\u001b[32m[0924 12:10:44 @monitor.py:467]\u001b[0m QueueInput/queue_size: 1.8367e-38\n",
      "\u001b[32m[0924 12:10:44 @monitor.py:467]\u001b[0m QueueInput_1/queue_size: 50\n",
      "\u001b[32m[0924 12:10:44 @base.py:275]\u001b[0m Start Epoch 204 ...\n"
     ]
    },
    {
     "name": "stderr",
     "output_type": "stream",
     "text": [
      "\n",
      "100%|#################################################################################|2000/2000[00:37<00:00,53.86it/s]"
     ]
    },
    {
     "name": "stdout",
     "output_type": "stream",
     "text": [
      "\u001b[32m[0924 12:11:21 @base.py:285]\u001b[0m Epoch 204 (global_step 408000) finished, time:37.1 seconds.\n",
      "\u001b[32m[0924 12:11:21 @saver.py:79]\u001b[0m Model saved to ../output/Chicago/DATGAN_TEST/model\\model-408000.\n"
     ]
    },
    {
     "name": "stderr",
     "output_type": "stream",
     "text": [
      "\n"
     ]
    },
    {
     "name": "stdout",
     "output_type": "stream",
     "text": [
      "\u001b[32m[0924 12:11:21 @monitor.py:467]\u001b[0m GAN_loss/discrim/accuracy_fake: 0.915\n",
      "\u001b[32m[0924 12:11:21 @monitor.py:467]\u001b[0m GAN_loss/discrim/accuracy_real: 0.145\n",
      "\u001b[32m[0924 12:11:21 @monitor.py:467]\u001b[0m GAN_loss/discrim/loss: 0.64428\n",
      "\u001b[32m[0924 12:11:21 @monitor.py:467]\u001b[0m GAN_loss/gen/final-g-loss: 1.3202\n",
      "\u001b[32m[0924 12:11:21 @monitor.py:467]\u001b[0m GAN_loss/gen/klloss: 0.18731\n",
      "\u001b[32m[0924 12:11:21 @monitor.py:467]\u001b[0m GAN_loss/gen/loss: 1.1329\n",
      "\u001b[32m[0924 12:11:21 @monitor.py:467]\u001b[0m QueueInput/queue_size: 1.8367e-38\n",
      "\u001b[32m[0924 12:11:21 @monitor.py:467]\u001b[0m QueueInput_1/queue_size: 50\n",
      "\u001b[32m[0924 12:11:21 @base.py:275]\u001b[0m Start Epoch 205 ...\n"
     ]
    },
    {
     "name": "stderr",
     "output_type": "stream",
     "text": [
      "100%|#################################################################################|2000/2000[00:37<00:00,53.82it/s]"
     ]
    },
    {
     "name": "stdout",
     "output_type": "stream",
     "text": [
      "\u001b[32m[0924 12:11:58 @base.py:285]\u001b[0m Epoch 205 (global_step 410000) finished, time:37.2 seconds.\n",
      "\u001b[32m[0924 12:11:58 @saver.py:79]\u001b[0m Model saved to ../output/Chicago/DATGAN_TEST/model\\model-410000.\n",
      "\u001b[32m[0924 12:11:58 @monitor.py:467]\u001b[0m GAN_loss/discrim/accuracy_fake: 0.905\n",
      "\u001b[32m[0924 12:11:58 @monitor.py:467]\u001b[0m GAN_loss/discrim/accuracy_real: 0.15\n",
      "\u001b[32m[0924 12:11:58 @monitor.py:467]\u001b[0m GAN_loss/discrim/loss: 0.64859\n",
      "\u001b[32m[0924 12:11:58 @monitor.py:467]\u001b[0m GAN_loss/gen/final-g-loss: 1.2623\n",
      "\u001b[32m[0924 12:11:58 @monitor.py:467]\u001b[0m GAN_loss/gen/klloss: 0.14746\n",
      "\u001b[32m[0924 12:11:58 @monitor.py:467]\u001b[0m GAN_loss/gen/loss: 1.1148\n",
      "\u001b[32m[0924 12:11:58 @monitor.py:467]\u001b[0m QueueInput/queue_size: 1.8367e-38\n",
      "\u001b[32m[0924 12:11:58 @monitor.py:467]\u001b[0m QueueInput_1/queue_size: 50\n",
      "\u001b[32m[0924 12:11:58 @base.py:275]\u001b[0m Start Epoch 206 ...\n"
     ]
    },
    {
     "name": "stderr",
     "output_type": "stream",
     "text": [
      "\n",
      "100%|#################################################################################|2000/2000[00:37<00:00,53.94it/s]"
     ]
    },
    {
     "name": "stdout",
     "output_type": "stream",
     "text": [
      "\u001b[32m[0924 12:12:35 @base.py:285]\u001b[0m Epoch 206 (global_step 412000) finished, time:37.1 seconds.\n",
      "\u001b[32m[0924 12:12:36 @saver.py:79]\u001b[0m Model saved to ../output/Chicago/DATGAN_TEST/model\\model-412000.\n",
      "\u001b[32m[0924 12:12:36 @monitor.py:467]\u001b[0m GAN_loss/discrim/accuracy_fake: 0.94\n"
     ]
    },
    {
     "name": "stderr",
     "output_type": "stream",
     "text": [
      "\n"
     ]
    },
    {
     "name": "stdout",
     "output_type": "stream",
     "text": [
      "\u001b[32m[0924 12:12:36 @monitor.py:467]\u001b[0m GAN_loss/discrim/accuracy_real: 0.19\n",
      "\u001b[32m[0924 12:12:36 @monitor.py:467]\u001b[0m GAN_loss/discrim/loss: 0.63748\n",
      "\u001b[32m[0924 12:12:36 @monitor.py:467]\u001b[0m GAN_loss/gen/final-g-loss: 1.3858\n",
      "\u001b[32m[0924 12:12:36 @monitor.py:467]\u001b[0m GAN_loss/gen/klloss: 0.24391\n",
      "\u001b[32m[0924 12:12:36 @monitor.py:467]\u001b[0m GAN_loss/gen/loss: 1.1419\n",
      "\u001b[32m[0924 12:12:36 @monitor.py:467]\u001b[0m QueueInput/queue_size: 1.8367e-38\n",
      "\u001b[32m[0924 12:12:36 @monitor.py:467]\u001b[0m QueueInput_1/queue_size: 50\n",
      "\u001b[32m[0924 12:12:36 @base.py:275]\u001b[0m Start Epoch 207 ...\n"
     ]
    },
    {
     "name": "stderr",
     "output_type": "stream",
     "text": [
      "100%|#################################################################################|2000/2000[00:36<00:00,54.25it/s]"
     ]
    },
    {
     "name": "stdout",
     "output_type": "stream",
     "text": [
      "\u001b[32m[0924 12:13:12 @base.py:285]\u001b[0m Epoch 207 (global_step 414000) finished, time:36.9 seconds.\n",
      "\u001b[32m[0924 12:13:12 @saver.py:79]\u001b[0m Model saved to ../output/Chicago/DATGAN_TEST/model\\model-414000.\n",
      "\u001b[32m[0924 12:13:13 @monitor.py:467]\u001b[0m GAN_loss/discrim/accuracy_fake: 0.9\n",
      "\u001b[32m[0924 12:13:13 @monitor.py:467]\u001b[0m GAN_loss/discrim/accuracy_real: 0.145\n",
      "\u001b[32m[0924 12:13:13 @monitor.py:467]\u001b[0m GAN_loss/discrim/loss: 0.65294\n",
      "\u001b[32m[0924 12:13:13 @monitor.py:467]\u001b[0m GAN_loss/gen/final-g-loss: 1.3919\n",
      "\u001b[32m[0924 12:13:13 @monitor.py:467]\u001b[0m GAN_loss/gen/klloss: 0.27341\n",
      "\u001b[32m[0924 12:13:13 @monitor.py:467]\u001b[0m GAN_loss/gen/loss: 1.1185\n",
      "\u001b[32m[0924 12:13:13 @monitor.py:467]\u001b[0m QueueInput/queue_size: 1.8367e-38\n",
      "\u001b[32m[0924 12:13:13 @monitor.py:467]\u001b[0m QueueInput_1/queue_size: 50\n",
      "\u001b[32m[0924 12:13:13 @base.py:275]\u001b[0m Start Epoch 208 ...\n"
     ]
    },
    {
     "name": "stderr",
     "output_type": "stream",
     "text": [
      "\n",
      "100%|#################################################################################|2000/2000[00:37<00:00,53.94it/s]"
     ]
    },
    {
     "name": "stdout",
     "output_type": "stream",
     "text": [
      "\u001b[32m[0924 12:13:50 @base.py:285]\u001b[0m Epoch 208 (global_step 416000) finished, time:37.1 seconds.\n"
     ]
    },
    {
     "name": "stderr",
     "output_type": "stream",
     "text": [
      "\n"
     ]
    },
    {
     "name": "stdout",
     "output_type": "stream",
     "text": [
      "\u001b[32m[0924 12:13:50 @saver.py:79]\u001b[0m Model saved to ../output/Chicago/DATGAN_TEST/model\\model-416000.\n",
      "\u001b[32m[0924 12:13:50 @monitor.py:467]\u001b[0m GAN_loss/discrim/accuracy_fake: 0.905\n",
      "\u001b[32m[0924 12:13:50 @monitor.py:467]\u001b[0m GAN_loss/discrim/accuracy_real: 0.215\n",
      "\u001b[32m[0924 12:13:50 @monitor.py:467]\u001b[0m GAN_loss/discrim/loss: 0.63371\n",
      "\u001b[32m[0924 12:13:50 @monitor.py:467]\u001b[0m GAN_loss/gen/final-g-loss: 1.4733\n",
      "\u001b[32m[0924 12:13:50 @monitor.py:467]\u001b[0m GAN_loss/gen/klloss: 0.35417\n",
      "\u001b[32m[0924 12:13:50 @monitor.py:467]\u001b[0m GAN_loss/gen/loss: 1.1191\n",
      "\u001b[32m[0924 12:13:50 @monitor.py:467]\u001b[0m QueueInput/queue_size: 1.8367e-38\n",
      "\u001b[32m[0924 12:13:50 @monitor.py:467]\u001b[0m QueueInput_1/queue_size: 50\n",
      "\u001b[32m[0924 12:13:50 @base.py:275]\u001b[0m Start Epoch 209 ...\n"
     ]
    },
    {
     "name": "stderr",
     "output_type": "stream",
     "text": [
      "100%|#################################################################################|2000/2000[00:37<00:00,54.01it/s]"
     ]
    },
    {
     "name": "stdout",
     "output_type": "stream",
     "text": [
      "\u001b[32m[0924 12:14:27 @base.py:285]\u001b[0m Epoch 209 (global_step 418000) finished, time:37 seconds.\n",
      "\u001b[32m[0924 12:14:27 @saver.py:79]\u001b[0m Model saved to ../output/Chicago/DATGAN_TEST/model\\model-418000.\n"
     ]
    },
    {
     "name": "stderr",
     "output_type": "stream",
     "text": [
      "\n"
     ]
    },
    {
     "name": "stdout",
     "output_type": "stream",
     "text": [
      "\u001b[32m[0924 12:14:27 @monitor.py:467]\u001b[0m GAN_loss/discrim/accuracy_fake: 0.89\n",
      "\u001b[32m[0924 12:14:27 @monitor.py:467]\u001b[0m GAN_loss/discrim/accuracy_real: 0.15\n",
      "\u001b[32m[0924 12:14:27 @monitor.py:467]\u001b[0m GAN_loss/discrim/loss: 0.65142\n",
      "\u001b[32m[0924 12:14:27 @monitor.py:467]\u001b[0m GAN_loss/gen/final-g-loss: 1.2906\n",
      "\u001b[32m[0924 12:14:27 @monitor.py:467]\u001b[0m GAN_loss/gen/klloss: 0.18471\n",
      "\u001b[32m[0924 12:14:27 @monitor.py:467]\u001b[0m GAN_loss/gen/loss: 1.1059\n",
      "\u001b[32m[0924 12:14:27 @monitor.py:467]\u001b[0m QueueInput/queue_size: 1.8367e-38\n",
      "\u001b[32m[0924 12:14:27 @monitor.py:467]\u001b[0m QueueInput_1/queue_size: 50\n",
      "\u001b[32m[0924 12:14:27 @base.py:275]\u001b[0m Start Epoch 210 ...\n"
     ]
    },
    {
     "name": "stderr",
     "output_type": "stream",
     "text": [
      "100%|#################################################################################|2000/2000[00:37<00:00,53.90it/s]"
     ]
    },
    {
     "name": "stdout",
     "output_type": "stream",
     "text": [
      "\u001b[32m[0924 12:15:04 @base.py:285]\u001b[0m Epoch 210 (global_step 420000) finished, time:37.1 seconds.\n"
     ]
    },
    {
     "name": "stderr",
     "output_type": "stream",
     "text": [
      "\n"
     ]
    },
    {
     "name": "stdout",
     "output_type": "stream",
     "text": [
      "\u001b[32m[0924 12:15:04 @saver.py:79]\u001b[0m Model saved to ../output/Chicago/DATGAN_TEST/model\\model-420000.\n",
      "\u001b[32m[0924 12:15:04 @monitor.py:467]\u001b[0m GAN_loss/discrim/accuracy_fake: 0.87\n",
      "\u001b[32m[0924 12:15:04 @monitor.py:467]\u001b[0m GAN_loss/discrim/accuracy_real: 0.16\n",
      "\u001b[32m[0924 12:15:04 @monitor.py:467]\u001b[0m GAN_loss/discrim/loss: 0.64683\n",
      "\u001b[32m[0924 12:15:04 @monitor.py:467]\u001b[0m GAN_loss/gen/final-g-loss: 1.2624\n",
      "\u001b[32m[0924 12:15:04 @monitor.py:467]\u001b[0m GAN_loss/gen/klloss: 0.16256\n",
      "\u001b[32m[0924 12:15:04 @monitor.py:467]\u001b[0m GAN_loss/gen/loss: 1.0998\n",
      "\u001b[32m[0924 12:15:04 @monitor.py:467]\u001b[0m QueueInput/queue_size: 1.8367e-38\n",
      "\u001b[32m[0924 12:15:04 @monitor.py:467]\u001b[0m QueueInput_1/queue_size: 50\n",
      "\u001b[32m[0924 12:15:04 @base.py:275]\u001b[0m Start Epoch 211 ...\n"
     ]
    },
    {
     "name": "stderr",
     "output_type": "stream",
     "text": [
      "100%|#################################################################################|2000/2000[00:36<00:00,54.23it/s]"
     ]
    },
    {
     "name": "stdout",
     "output_type": "stream",
     "text": [
      "\u001b[32m[0924 12:15:41 @base.py:285]\u001b[0m Epoch 211 (global_step 422000) finished, time:36.9 seconds.\n",
      "\u001b[32m[0924 12:15:41 @saver.py:79]\u001b[0m Model saved to ../output/Chicago/DATGAN_TEST/model\\model-422000.\n",
      "\u001b[32m[0924 12:15:41 @monitor.py:467]\u001b[0m GAN_loss/discrim/accuracy_fake: 0.895\n",
      "\u001b[32m[0924 12:15:41 @monitor.py:467]\u001b[0m GAN_loss/discrim/accuracy_real: 0.155\n",
      "\u001b[32m[0924 12:15:41 @monitor.py:467]\u001b[0m GAN_loss/discrim/loss: 0.65048\n",
      "\u001b[32m[0924 12:15:41 @monitor.py:467]\u001b[0m GAN_loss/gen/final-g-loss: 1.2863\n",
      "\u001b[32m[0924 12:15:41 @monitor.py:467]\u001b[0m GAN_loss/gen/klloss: 0.17196\n",
      "\u001b[32m[0924 12:15:41 @monitor.py:467]\u001b[0m GAN_loss/gen/loss: 1.1144\n",
      "\u001b[32m[0924 12:15:41 @monitor.py:467]\u001b[0m QueueInput/queue_size: 1.8367e-38\n",
      "\u001b[32m[0924 12:15:41 @monitor.py:467]\u001b[0m QueueInput_1/queue_size: 50\n",
      "\u001b[32m[0924 12:15:41 @base.py:275]\u001b[0m Start Epoch 212 ...\n"
     ]
    },
    {
     "name": "stderr",
     "output_type": "stream",
     "text": [
      "\n",
      "100%|#################################################################################|2000/2000[00:36<00:00,54.18it/s]"
     ]
    },
    {
     "name": "stdout",
     "output_type": "stream",
     "text": [
      "\u001b[32m[0924 12:16:18 @base.py:285]\u001b[0m Epoch 212 (global_step 424000) finished, time:36.9 seconds.\n",
      "\u001b[32m[0924 12:16:18 @saver.py:79]\u001b[0m Model saved to ../output/Chicago/DATGAN_TEST/model\\model-424000.\n",
      "\u001b[32m[0924 12:16:18 @monitor.py:467]\u001b[0m GAN_loss/discrim/accuracy_fake: 0.915\n",
      "\u001b[32m[0924 12:16:18 @monitor.py:467]\u001b[0m GAN_loss/discrim/accuracy_real: 0.13\n",
      "\u001b[32m[0924 12:16:18 @monitor.py:467]\u001b[0m GAN_loss/discrim/loss: 0.64284\n",
      "\u001b[32m[0924 12:16:18 @monitor.py:467]\u001b[0m GAN_loss/gen/final-g-loss: 1.2887\n",
      "\u001b[32m[0924 12:16:18 @monitor.py:467]\u001b[0m GAN_loss/gen/klloss: 0.15394\n",
      "\u001b[32m[0924 12:16:18 @monitor.py:467]\u001b[0m GAN_loss/gen/loss: 1.1348\n",
      "\u001b[32m[0924 12:16:18 @monitor.py:467]\u001b[0m QueueInput/queue_size: 1.8367e-38\n",
      "\u001b[32m[0924 12:16:18 @monitor.py:467]\u001b[0m QueueInput_1/queue_size: 50\n",
      "\u001b[32m[0924 12:16:18 @base.py:275]\u001b[0m Start Epoch 213 ...\n"
     ]
    },
    {
     "name": "stderr",
     "output_type": "stream",
     "text": [
      "\n",
      "100%|#################################################################################|2000/2000[00:37<00:00,54.02it/s]"
     ]
    },
    {
     "name": "stdout",
     "output_type": "stream",
     "text": [
      "\u001b[32m[0924 12:16:55 @base.py:285]\u001b[0m Epoch 213 (global_step 426000) finished, time:37 seconds.\n",
      "\u001b[32m[0924 12:16:55 @saver.py:79]\u001b[0m Model saved to ../output/Chicago/DATGAN_TEST/model\\model-426000.\n",
      "\u001b[32m[0924 12:16:55 @monitor.py:467]\u001b[0m GAN_loss/discrim/accuracy_fake: 0.945\n",
      "\u001b[32m[0924 12:16:55 @monitor.py:467]\u001b[0m GAN_loss/discrim/accuracy_real: 0.165\n",
      "\u001b[32m[0924 12:16:55 @monitor.py:467]\u001b[0m GAN_loss/discrim/loss: 0.63307\n",
      "\u001b[32m[0924 12:16:55 @monitor.py:467]\u001b[0m GAN_loss/gen/final-g-loss: 1.3458\n",
      "\u001b[32m[0924 12:16:55 @monitor.py:467]\u001b[0m GAN_loss/gen/klloss: 0.19003\n",
      "\u001b[32m[0924 12:16:55 @monitor.py:467]\u001b[0m GAN_loss/gen/loss: 1.1558\n",
      "\u001b[32m[0924 12:16:55 @monitor.py:467]\u001b[0m QueueInput/queue_size: 1.8367e-38\n",
      "\u001b[32m[0924 12:16:55 @monitor.py:467]\u001b[0m QueueInput_1/queue_size: 50\n",
      "\u001b[32m[0924 12:16:55 @base.py:275]\u001b[0m Start Epoch 214 ...\n"
     ]
    },
    {
     "name": "stderr",
     "output_type": "stream",
     "text": [
      "\n",
      "100%|#################################################################################|2000/2000[00:37<00:00,53.85it/s]"
     ]
    },
    {
     "name": "stdout",
     "output_type": "stream",
     "text": [
      "\u001b[32m[0924 12:17:32 @base.py:285]\u001b[0m Epoch 214 (global_step 428000) finished, time:37.1 seconds.\n",
      "\u001b[32m[0924 12:17:32 @saver.py:79]\u001b[0m Model saved to ../output/Chicago/DATGAN_TEST/model\\model-428000.\n",
      "\u001b[32m[0924 12:17:33 @monitor.py:467]\u001b[0m GAN_loss/discrim/accuracy_fake: 0.87\n",
      "\u001b[32m[0924 12:17:33 @monitor.py:467]\u001b[0m GAN_loss/discrim/accuracy_real: 0.205\n",
      "\u001b[32m[0924 12:17:33 @monitor.py:467]\u001b[0m GAN_loss/discrim/loss: 0.64286\n",
      "\u001b[32m[0924 12:17:33 @monitor.py:467]\u001b[0m GAN_loss/gen/final-g-loss: 1.3428\n",
      "\u001b[32m[0924 12:17:33 @monitor.py:467]\u001b[0m GAN_loss/gen/klloss: 0.22085\n",
      "\u001b[32m[0924 12:17:33 @monitor.py:467]\u001b[0m GAN_loss/gen/loss: 1.122\n",
      "\u001b[32m[0924 12:17:33 @monitor.py:467]\u001b[0m QueueInput/queue_size: 1.8367e-38\n",
      "\u001b[32m[0924 12:17:33 @monitor.py:467]\u001b[0m QueueInput_1/queue_size: 50\n",
      "\u001b[32m[0924 12:17:33 @base.py:275]\u001b[0m Start Epoch 215 ...\n"
     ]
    },
    {
     "name": "stderr",
     "output_type": "stream",
     "text": [
      "\n",
      "100%|#################################################################################|2000/2000[00:37<00:00,54.02it/s]"
     ]
    },
    {
     "name": "stdout",
     "output_type": "stream",
     "text": [
      "\u001b[32m[0924 12:18:10 @base.py:285]\u001b[0m Epoch 215 (global_step 430000) finished, time:37 seconds.\n",
      "\u001b[32m[0924 12:18:10 @saver.py:79]\u001b[0m Model saved to ../output/Chicago/DATGAN_TEST/model\\model-430000.\n",
      "\u001b[32m[0924 12:18:10 @monitor.py:467]\u001b[0m GAN_loss/discrim/accuracy_fake: 0.915\n"
     ]
    },
    {
     "name": "stderr",
     "output_type": "stream",
     "text": [
      "\n"
     ]
    },
    {
     "name": "stdout",
     "output_type": "stream",
     "text": [
      "\u001b[32m[0924 12:18:10 @monitor.py:467]\u001b[0m GAN_loss/discrim/accuracy_real: 0.135\n",
      "\u001b[32m[0924 12:18:10 @monitor.py:467]\u001b[0m GAN_loss/discrim/loss: 0.64012\n",
      "\u001b[32m[0924 12:18:10 @monitor.py:467]\u001b[0m GAN_loss/gen/final-g-loss: 1.4002\n",
      "\u001b[32m[0924 12:18:10 @monitor.py:467]\u001b[0m GAN_loss/gen/klloss: 0.27732\n",
      "\u001b[32m[0924 12:18:10 @monitor.py:467]\u001b[0m GAN_loss/gen/loss: 1.1228\n",
      "\u001b[32m[0924 12:18:10 @monitor.py:467]\u001b[0m QueueInput/queue_size: 1.8367e-38\n",
      "\u001b[32m[0924 12:18:10 @monitor.py:467]\u001b[0m QueueInput_1/queue_size: 50\n",
      "\u001b[32m[0924 12:18:10 @base.py:275]\u001b[0m Start Epoch 216 ...\n"
     ]
    },
    {
     "name": "stderr",
     "output_type": "stream",
     "text": [
      "100%|#################################################################################|2000/2000[00:37<00:00,53.81it/s]"
     ]
    },
    {
     "name": "stdout",
     "output_type": "stream",
     "text": [
      "\u001b[32m[0924 12:18:47 @base.py:285]\u001b[0m Epoch 216 (global_step 432000) finished, time:37.2 seconds.\n",
      "\u001b[32m[0924 12:18:47 @saver.py:79]\u001b[0m Model saved to ../output/Chicago/DATGAN_TEST/model\\model-432000.\n",
      "\u001b[32m[0924 12:18:47 @monitor.py:467]\u001b[0m GAN_loss/discrim/accuracy_fake: 0.885\n",
      "\u001b[32m[0924 12:18:47 @monitor.py:467]\u001b[0m GAN_loss/discrim/accuracy_real: 0.15\n",
      "\u001b[32m[0924 12:18:47 @monitor.py:467]\u001b[0m GAN_loss/discrim/loss: 0.6372\n",
      "\u001b[32m[0924 12:18:47 @monitor.py:467]\u001b[0m GAN_loss/gen/final-g-loss: 1.3233\n",
      "\u001b[32m[0924 12:18:47 @monitor.py:467]\u001b[0m GAN_loss/gen/klloss: 0.18075\n",
      "\u001b[32m[0924 12:18:47 @monitor.py:467]\u001b[0m GAN_loss/gen/loss: 1.1426\n",
      "\u001b[32m[0924 12:18:47 @monitor.py:467]\u001b[0m QueueInput/queue_size: 1.8367e-38\n",
      "\u001b[32m[0924 12:18:47 @monitor.py:467]\u001b[0m QueueInput_1/queue_size: 50\n",
      "\u001b[32m[0924 12:18:47 @base.py:275]\u001b[0m Start Epoch 217 ...\n"
     ]
    },
    {
     "name": "stderr",
     "output_type": "stream",
     "text": [
      "\n",
      "100%|#################################################################################|2000/2000[00:37<00:00,54.03it/s]"
     ]
    },
    {
     "name": "stdout",
     "output_type": "stream",
     "text": [
      "\u001b[32m[0924 12:19:24 @base.py:285]\u001b[0m Epoch 217 (global_step 434000) finished, time:37 seconds.\n",
      "\u001b[32m[0924 12:19:24 @saver.py:79]\u001b[0m Model saved to ../output/Chicago/DATGAN_TEST/model\\model-434000.\n",
      "\u001b[32m[0924 12:19:24 @monitor.py:467]\u001b[0m GAN_loss/discrim/accuracy_fake: 0.915\n",
      "\u001b[32m[0924 12:19:24 @monitor.py:467]\u001b[0m GAN_loss/discrim/accuracy_real: 0.14\n",
      "\u001b[32m[0924 12:19:24 @monitor.py:467]\u001b[0m GAN_loss/discrim/loss: 0.64439\n",
      "\u001b[32m[0924 12:19:24 @monitor.py:467]\u001b[0m GAN_loss/gen/final-g-loss: 1.3143\n",
      "\u001b[32m[0924 12:19:24 @monitor.py:467]\u001b[0m GAN_loss/gen/klloss: 0.18133\n",
      "\u001b[32m[0924 12:19:24 @monitor.py:467]\u001b[0m GAN_loss/gen/loss: 1.133\n",
      "\u001b[32m[0924 12:19:24 @monitor.py:467]\u001b[0m QueueInput/queue_size: 1.8367e-38\n",
      "\u001b[32m[0924 12:19:24 @monitor.py:467]\u001b[0m QueueInput_1/queue_size: 50\n",
      "\u001b[32m[0924 12:19:24 @base.py:275]\u001b[0m Start Epoch 218 ...\n"
     ]
    },
    {
     "name": "stderr",
     "output_type": "stream",
     "text": [
      "\n",
      "100%|#################################################################################|2000/2000[00:37<00:00,53.97it/s]"
     ]
    },
    {
     "name": "stdout",
     "output_type": "stream",
     "text": [
      "\u001b[32m[0924 12:20:01 @base.py:285]\u001b[0m Epoch 218 (global_step 436000) finished, time:37.1 seconds.\n"
     ]
    },
    {
     "name": "stderr",
     "output_type": "stream",
     "text": [
      "\n"
     ]
    },
    {
     "name": "stdout",
     "output_type": "stream",
     "text": [
      "\u001b[32m[0924 12:20:01 @saver.py:79]\u001b[0m Model saved to ../output/Chicago/DATGAN_TEST/model\\model-436000.\n",
      "\u001b[32m[0924 12:20:01 @monitor.py:467]\u001b[0m GAN_loss/discrim/accuracy_fake: 0.94\n",
      "\u001b[32m[0924 12:20:01 @monitor.py:467]\u001b[0m GAN_loss/discrim/accuracy_real: 0.195\n",
      "\u001b[32m[0924 12:20:01 @monitor.py:467]\u001b[0m GAN_loss/discrim/loss: 0.63959\n",
      "\u001b[32m[0924 12:20:01 @monitor.py:467]\u001b[0m GAN_loss/gen/final-g-loss: 1.3958\n",
      "\u001b[32m[0924 12:20:01 @monitor.py:467]\u001b[0m GAN_loss/gen/klloss: 0.24815\n",
      "\u001b[32m[0924 12:20:01 @monitor.py:467]\u001b[0m GAN_loss/gen/loss: 1.1477\n",
      "\u001b[32m[0924 12:20:01 @monitor.py:467]\u001b[0m QueueInput/queue_size: 1.8367e-38\n",
      "\u001b[32m[0924 12:20:01 @monitor.py:467]\u001b[0m QueueInput_1/queue_size: 50\n",
      "\u001b[32m[0924 12:20:01 @base.py:275]\u001b[0m Start Epoch 219 ...\n"
     ]
    },
    {
     "name": "stderr",
     "output_type": "stream",
     "text": [
      "100%|#################################################################################|2000/2000[00:36<00:00,54.08it/s]"
     ]
    },
    {
     "name": "stdout",
     "output_type": "stream",
     "text": [
      "\u001b[32m[0924 12:20:38 @base.py:285]\u001b[0m Epoch 219 (global_step 438000) finished, time:37 seconds.\n",
      "\u001b[32m[0924 12:20:38 @saver.py:79]\u001b[0m Model saved to ../output/Chicago/DATGAN_TEST/model\\model-438000.\n",
      "\u001b[32m[0924 12:20:38 @monitor.py:467]\u001b[0m GAN_loss/discrim/accuracy_fake: 0.93\n",
      "\u001b[32m[0924 12:20:38 @monitor.py:467]\u001b[0m GAN_loss/discrim/accuracy_real: 0.18\n",
      "\u001b[32m[0924 12:20:38 @monitor.py:467]\u001b[0m GAN_loss/discrim/loss: 0.64426\n",
      "\u001b[32m[0924 12:20:38 @monitor.py:467]\u001b[0m GAN_loss/gen/final-g-loss: 1.2928\n",
      "\u001b[32m[0924 12:20:38 @monitor.py:467]\u001b[0m GAN_loss/gen/klloss: 0.15851\n",
      "\u001b[32m[0924 12:20:38 @monitor.py:467]\u001b[0m GAN_loss/gen/loss: 1.1343\n",
      "\u001b[32m[0924 12:20:38 @monitor.py:467]\u001b[0m QueueInput/queue_size: 1.8367e-38\n",
      "\u001b[32m[0924 12:20:38 @monitor.py:467]\u001b[0m QueueInput_1/queue_size: 50\n",
      "\u001b[32m[0924 12:20:38 @base.py:275]\u001b[0m Start Epoch 220 ...\n"
     ]
    },
    {
     "name": "stderr",
     "output_type": "stream",
     "text": [
      "\n",
      "100%|#################################################################################|2000/2000[00:36<00:00,54.20it/s]"
     ]
    },
    {
     "name": "stdout",
     "output_type": "stream",
     "text": [
      "\u001b[32m[0924 12:21:15 @base.py:285]\u001b[0m Epoch 220 (global_step 440000) finished, time:36.9 seconds.\n",
      "\u001b[32m[0924 12:21:15 @saver.py:79]\u001b[0m Model saved to ../output/Chicago/DATGAN_TEST/model\\model-440000.\n",
      "\u001b[32m[0924 12:21:15 @monitor.py:467]\u001b[0m GAN_loss/discrim/accuracy_fake: 0.91\n",
      "\u001b[32m[0924 12:21:15 @monitor.py:467]\u001b[0m GAN_loss/discrim/accuracy_real: 0.13\n",
      "\u001b[32m[0924 12:21:15 @monitor.py:467]\u001b[0m GAN_loss/discrim/loss: 0.64393\n",
      "\u001b[32m[0924 12:21:15 @monitor.py:467]\u001b[0m GAN_loss/gen/final-g-loss: 1.3374\n",
      "\u001b[32m[0924 12:21:15 @monitor.py:467]\u001b[0m GAN_loss/gen/klloss: 0.20542\n",
      "\u001b[32m[0924 12:21:15 @monitor.py:467]\u001b[0m GAN_loss/gen/loss: 1.132\n",
      "\u001b[32m[0924 12:21:15 @monitor.py:467]\u001b[0m QueueInput/queue_size: 1.8367e-38\n",
      "\u001b[32m[0924 12:21:15 @monitor.py:467]\u001b[0m QueueInput_1/queue_size: 50\n",
      "\u001b[32m[0924 12:21:15 @base.py:275]\u001b[0m Start Epoch 221 ...\n"
     ]
    },
    {
     "name": "stderr",
     "output_type": "stream",
     "text": [
      "\n",
      "100%|#################################################################################|2000/2000[00:37<00:00,53.94it/s]"
     ]
    },
    {
     "name": "stdout",
     "output_type": "stream",
     "text": [
      "\u001b[32m[0924 12:21:52 @base.py:285]\u001b[0m Epoch 221 (global_step 442000) finished, time:37.1 seconds.\n",
      "\u001b[32m[0924 12:21:53 @saver.py:79]\u001b[0m Model saved to ../output/Chicago/DATGAN_TEST/model\\model-442000.\n",
      "\u001b[32m[0924 12:21:53 @monitor.py:467]\u001b[0m GAN_loss/discrim/accuracy_fake: 0.91\n"
     ]
    },
    {
     "name": "stderr",
     "output_type": "stream",
     "text": [
      "\n"
     ]
    },
    {
     "name": "stdout",
     "output_type": "stream",
     "text": [
      "\u001b[32m[0924 12:21:53 @monitor.py:467]\u001b[0m GAN_loss/discrim/accuracy_real: 0.145\n",
      "\u001b[32m[0924 12:21:53 @monitor.py:467]\u001b[0m GAN_loss/discrim/loss: 0.65165\n",
      "\u001b[32m[0924 12:21:53 @monitor.py:467]\u001b[0m GAN_loss/gen/final-g-loss: 1.2829\n",
      "\u001b[32m[0924 12:21:53 @monitor.py:467]\u001b[0m GAN_loss/gen/klloss: 0.15799\n",
      "\u001b[32m[0924 12:21:53 @monitor.py:467]\u001b[0m GAN_loss/gen/loss: 1.1249\n",
      "\u001b[32m[0924 12:21:53 @monitor.py:467]\u001b[0m QueueInput/queue_size: 1.8367e-38\n",
      "\u001b[32m[0924 12:21:53 @monitor.py:467]\u001b[0m QueueInput_1/queue_size: 50\n",
      "\u001b[32m[0924 12:21:53 @base.py:275]\u001b[0m Start Epoch 222 ...\n"
     ]
    },
    {
     "name": "stderr",
     "output_type": "stream",
     "text": [
      "100%|#################################################################################|2000/2000[00:37<00:00,53.98it/s]"
     ]
    },
    {
     "name": "stdout",
     "output_type": "stream",
     "text": [
      "\u001b[32m[0924 12:22:30 @base.py:285]\u001b[0m Epoch 222 (global_step 444000) finished, time:37.1 seconds.\n"
     ]
    },
    {
     "name": "stderr",
     "output_type": "stream",
     "text": [
      "\n"
     ]
    },
    {
     "name": "stdout",
     "output_type": "stream",
     "text": [
      "\u001b[32m[0924 12:22:30 @saver.py:79]\u001b[0m Model saved to ../output/Chicago/DATGAN_TEST/model\\model-444000.\n",
      "\u001b[32m[0924 12:22:30 @monitor.py:467]\u001b[0m GAN_loss/discrim/accuracy_fake: 0.905\n",
      "\u001b[32m[0924 12:22:30 @monitor.py:467]\u001b[0m GAN_loss/discrim/accuracy_real: 0.18\n",
      "\u001b[32m[0924 12:22:30 @monitor.py:467]\u001b[0m GAN_loss/discrim/loss: 0.65055\n",
      "\u001b[32m[0924 12:22:30 @monitor.py:467]\u001b[0m GAN_loss/gen/final-g-loss: 1.3359\n",
      "\u001b[32m[0924 12:22:30 @monitor.py:467]\u001b[0m GAN_loss/gen/klloss: 0.22193\n",
      "\u001b[32m[0924 12:22:30 @monitor.py:467]\u001b[0m GAN_loss/gen/loss: 1.114\n",
      "\u001b[32m[0924 12:22:30 @monitor.py:467]\u001b[0m QueueInput/queue_size: 1.8367e-38\n",
      "\u001b[32m[0924 12:22:30 @monitor.py:467]\u001b[0m QueueInput_1/queue_size: 50\n",
      "\u001b[32m[0924 12:22:30 @base.py:275]\u001b[0m Start Epoch 223 ...\n"
     ]
    },
    {
     "name": "stderr",
     "output_type": "stream",
     "text": [
      "100%|#################################################################################|2000/2000[00:36<00:00,54.06it/s]"
     ]
    },
    {
     "name": "stdout",
     "output_type": "stream",
     "text": [
      "\u001b[32m[0924 12:23:07 @base.py:285]\u001b[0m Epoch 223 (global_step 446000) finished, time:37 seconds.\n",
      "\u001b[32m[0924 12:23:07 @saver.py:79]\u001b[0m Model saved to ../output/Chicago/DATGAN_TEST/model\\model-446000.\n",
      "\u001b[32m[0924 12:23:07 @monitor.py:467]\u001b[0m GAN_loss/discrim/accuracy_fake: 0.9\n",
      "\u001b[32m[0924 12:23:07 @monitor.py:467]\u001b[0m GAN_loss/discrim/accuracy_real: 0.165\n",
      "\u001b[32m[0924 12:23:07 @monitor.py:467]\u001b[0m GAN_loss/discrim/loss: 0.65206\n",
      "\u001b[32m[0924 12:23:07 @monitor.py:467]\u001b[0m GAN_loss/gen/final-g-loss: 1.3033\n",
      "\u001b[32m[0924 12:23:07 @monitor.py:467]\u001b[0m GAN_loss/gen/klloss: 0.17807\n",
      "\u001b[32m[0924 12:23:07 @monitor.py:467]\u001b[0m GAN_loss/gen/loss: 1.1252\n",
      "\u001b[32m[0924 12:23:07 @monitor.py:467]\u001b[0m QueueInput/queue_size: 1.8367e-38\n",
      "\u001b[32m[0924 12:23:07 @monitor.py:467]\u001b[0m QueueInput_1/queue_size: 50\n",
      "\u001b[32m[0924 12:23:07 @base.py:275]\u001b[0m Start Epoch 224 ...\n"
     ]
    },
    {
     "name": "stderr",
     "output_type": "stream",
     "text": [
      "\n",
      "100%|#################################################################################|2000/2000[00:37<00:00,53.98it/s]"
     ]
    },
    {
     "name": "stdout",
     "output_type": "stream",
     "text": [
      "\u001b[32m[0924 12:23:44 @base.py:285]\u001b[0m Epoch 224 (global_step 448000) finished, time:37.1 seconds.\n"
     ]
    },
    {
     "name": "stderr",
     "output_type": "stream",
     "text": [
      "\n"
     ]
    },
    {
     "name": "stdout",
     "output_type": "stream",
     "text": [
      "\u001b[32m[0924 12:23:44 @saver.py:79]\u001b[0m Model saved to ../output/Chicago/DATGAN_TEST/model\\model-448000.\n",
      "\u001b[32m[0924 12:23:44 @monitor.py:467]\u001b[0m GAN_loss/discrim/accuracy_fake: 0.935\n",
      "\u001b[32m[0924 12:23:44 @monitor.py:467]\u001b[0m GAN_loss/discrim/accuracy_real: 0.145\n",
      "\u001b[32m[0924 12:23:44 @monitor.py:467]\u001b[0m GAN_loss/discrim/loss: 0.6367\n",
      "\u001b[32m[0924 12:23:44 @monitor.py:467]\u001b[0m GAN_loss/gen/final-g-loss: 1.2778\n",
      "\u001b[32m[0924 12:23:44 @monitor.py:467]\u001b[0m GAN_loss/gen/klloss: 0.14003\n",
      "\u001b[32m[0924 12:23:44 @monitor.py:467]\u001b[0m GAN_loss/gen/loss: 1.1378\n",
      "\u001b[32m[0924 12:23:44 @monitor.py:467]\u001b[0m QueueInput/queue_size: 1.8367e-38\n",
      "\u001b[32m[0924 12:23:44 @monitor.py:467]\u001b[0m QueueInput_1/queue_size: 50\n",
      "\u001b[32m[0924 12:23:44 @base.py:275]\u001b[0m Start Epoch 225 ...\n"
     ]
    },
    {
     "name": "stderr",
     "output_type": "stream",
     "text": [
      "100%|#################################################################################|2000/2000[00:37<00:00,53.92it/s]"
     ]
    },
    {
     "name": "stdout",
     "output_type": "stream",
     "text": [
      "\u001b[32m[0924 12:24:21 @base.py:285]\u001b[0m Epoch 225 (global_step 450000) finished, time:37.1 seconds.\n"
     ]
    },
    {
     "name": "stderr",
     "output_type": "stream",
     "text": [
      "\n"
     ]
    },
    {
     "name": "stdout",
     "output_type": "stream",
     "text": [
      "\u001b[32m[0924 12:24:21 @saver.py:79]\u001b[0m Model saved to ../output/Chicago/DATGAN_TEST/model\\model-450000.\n",
      "\u001b[32m[0924 12:24:21 @monitor.py:467]\u001b[0m GAN_loss/discrim/accuracy_fake: 0.895\n",
      "\u001b[32m[0924 12:24:21 @monitor.py:467]\u001b[0m GAN_loss/discrim/accuracy_real: 0.13\n",
      "\u001b[32m[0924 12:24:21 @monitor.py:467]\u001b[0m GAN_loss/discrim/loss: 0.65161\n",
      "\u001b[32m[0924 12:24:21 @monitor.py:467]\u001b[0m GAN_loss/gen/final-g-loss: 1.384\n",
      "\u001b[32m[0924 12:24:21 @monitor.py:467]\u001b[0m GAN_loss/gen/klloss: 0.26343\n",
      "\u001b[32m[0924 12:24:21 @monitor.py:467]\u001b[0m GAN_loss/gen/loss: 1.1205\n",
      "\u001b[32m[0924 12:24:21 @monitor.py:467]\u001b[0m QueueInput/queue_size: 1.8367e-38\n",
      "\u001b[32m[0924 12:24:21 @monitor.py:467]\u001b[0m QueueInput_1/queue_size: 50\n",
      "\u001b[32m[0924 12:24:21 @base.py:275]\u001b[0m Start Epoch 226 ...\n"
     ]
    },
    {
     "name": "stderr",
     "output_type": "stream",
     "text": [
      "100%|#################################################################################|2000/2000[00:37<00:00,53.83it/s]"
     ]
    },
    {
     "name": "stdout",
     "output_type": "stream",
     "text": [
      "\u001b[32m[0924 12:24:58 @base.py:285]\u001b[0m Epoch 226 (global_step 452000) finished, time:37.2 seconds.\n",
      "\u001b[32m[0924 12:24:59 @saver.py:79]\u001b[0m Model saved to ../output/Chicago/DATGAN_TEST/model\\model-452000.\n",
      "\u001b[32m[0924 12:24:59 @monitor.py:467]\u001b[0m GAN_loss/discrim/accuracy_fake: 0.945\n",
      "\u001b[32m[0924 12:24:59 @monitor.py:467]\u001b[0m GAN_loss/discrim/accuracy_real: 0.1\n",
      "\u001b[32m[0924 12:24:59 @monitor.py:467]\u001b[0m GAN_loss/discrim/loss: 0.64264\n",
      "\u001b[32m[0924 12:24:59 @monitor.py:467]\u001b[0m GAN_loss/gen/final-g-loss: 1.4093\n",
      "\u001b[32m[0924 12:24:59 @monitor.py:467]\u001b[0m GAN_loss/gen/klloss: 0.25953\n",
      "\u001b[32m[0924 12:24:59 @monitor.py:467]\u001b[0m GAN_loss/gen/loss: 1.1498\n",
      "\u001b[32m[0924 12:24:59 @monitor.py:467]\u001b[0m QueueInput/queue_size: 1.8367e-38\n",
      "\u001b[32m[0924 12:24:59 @monitor.py:467]\u001b[0m QueueInput_1/queue_size: 50\n",
      "\u001b[32m[0924 12:24:59 @base.py:275]\u001b[0m Start Epoch 227 ...\n"
     ]
    },
    {
     "name": "stderr",
     "output_type": "stream",
     "text": [
      "\n",
      "100%|#################################################################################|2000/2000[00:36<00:00,54.06it/s]"
     ]
    },
    {
     "name": "stdout",
     "output_type": "stream",
     "text": [
      "\u001b[32m[0924 12:25:36 @base.py:285]\u001b[0m Epoch 227 (global_step 454000) finished, time:37 seconds.\n",
      "\u001b[32m[0924 12:25:36 @saver.py:79]\u001b[0m Model saved to ../output/Chicago/DATGAN_TEST/model\\model-454000.\n",
      "\u001b[32m[0924 12:25:36 @monitor.py:467]\u001b[0m GAN_loss/discrim/accuracy_fake: 0.94\n",
      "\u001b[32m[0924 12:25:36 @monitor.py:467]\u001b[0m GAN_loss/discrim/accuracy_real: 0.105\n",
      "\u001b[32m[0924 12:25:36 @monitor.py:467]\u001b[0m GAN_loss/discrim/loss: 0.6436\n",
      "\u001b[32m[0924 12:25:36 @monitor.py:467]\u001b[0m GAN_loss/gen/final-g-loss: 1.3734\n",
      "\u001b[32m[0924 12:25:36 @monitor.py:467]\u001b[0m GAN_loss/gen/klloss: 0.21941\n",
      "\u001b[32m[0924 12:25:36 @monitor.py:467]\u001b[0m GAN_loss/gen/loss: 1.154\n",
      "\u001b[32m[0924 12:25:36 @monitor.py:467]\u001b[0m QueueInput/queue_size: 1.8367e-38\n",
      "\u001b[32m[0924 12:25:36 @monitor.py:467]\u001b[0m QueueInput_1/queue_size: 50\n",
      "\u001b[32m[0924 12:25:36 @base.py:275]\u001b[0m Start Epoch 228 ...\n"
     ]
    },
    {
     "name": "stderr",
     "output_type": "stream",
     "text": [
      "\n",
      "100%|#################################################################################|2000/2000[00:37<00:00,53.83it/s]"
     ]
    },
    {
     "name": "stdout",
     "output_type": "stream",
     "text": [
      "\u001b[32m[0924 12:26:13 @base.py:285]\u001b[0m Epoch 228 (global_step 456000) finished, time:37.2 seconds.\n",
      "\u001b[32m[0924 12:26:13 @saver.py:79]\u001b[0m Model saved to ../output/Chicago/DATGAN_TEST/model\\model-456000.\n",
      "\u001b[32m[0924 12:26:13 @monitor.py:467]\u001b[0m GAN_loss/discrim/accuracy_fake: 0.945\n",
      "\u001b[32m[0924 12:26:13 @monitor.py:467]\u001b[0m GAN_loss/discrim/accuracy_real: 0.185\n",
      "\u001b[32m[0924 12:26:13 @monitor.py:467]\u001b[0m GAN_loss/discrim/loss: 0.63143\n",
      "\u001b[32m[0924 12:26:13 @monitor.py:467]\u001b[0m GAN_loss/gen/final-g-loss: 1.4562\n",
      "\u001b[32m[0924 12:26:13 @monitor.py:467]\u001b[0m GAN_loss/gen/klloss: 0.31053\n",
      "\u001b[32m[0924 12:26:13 @monitor.py:467]\u001b[0m GAN_loss/gen/loss: 1.1457\n",
      "\u001b[32m[0924 12:26:13 @monitor.py:467]\u001b[0m QueueInput/queue_size: 1.8367e-38\n",
      "\u001b[32m[0924 12:26:13 @monitor.py:467]\u001b[0m QueueInput_1/queue_size: 50\n",
      "\u001b[32m[0924 12:26:13 @base.py:275]\u001b[0m Start Epoch 229 ...\n"
     ]
    },
    {
     "name": "stderr",
     "output_type": "stream",
     "text": [
      "\n",
      "100%|#################################################################################|2000/2000[00:36<00:00,54.20it/s]"
     ]
    },
    {
     "name": "stdout",
     "output_type": "stream",
     "text": [
      "\u001b[32m[0924 12:26:50 @base.py:285]\u001b[0m Epoch 229 (global_step 458000) finished, time:36.9 seconds.\n",
      "\u001b[32m[0924 12:26:50 @saver.py:79]\u001b[0m Model saved to ../output/Chicago/DATGAN_TEST/model\\model-458000.\n",
      "\u001b[32m[0924 12:26:50 @monitor.py:467]\u001b[0m GAN_loss/discrim/accuracy_fake: 0.895\n",
      "\u001b[32m[0924 12:26:50 @monitor.py:467]\u001b[0m GAN_loss/discrim/accuracy_real: 0.18\n",
      "\u001b[32m[0924 12:26:50 @monitor.py:467]\u001b[0m GAN_loss/discrim/loss: 0.6429\n",
      "\u001b[32m[0924 12:26:50 @monitor.py:467]\u001b[0m GAN_loss/gen/final-g-loss: 1.2735\n",
      "\u001b[32m[0924 12:26:50 @monitor.py:467]\u001b[0m GAN_loss/gen/klloss: 0.15831\n",
      "\u001b[32m[0924 12:26:50 @monitor.py:467]\u001b[0m GAN_loss/gen/loss: 1.1151\n",
      "\u001b[32m[0924 12:26:50 @monitor.py:467]\u001b[0m QueueInput/queue_size: 1.8367e-38\n",
      "\u001b[32m[0924 12:26:50 @monitor.py:467]\u001b[0m QueueInput_1/queue_size: 50\n",
      "\u001b[32m[0924 12:26:50 @base.py:275]\u001b[0m Start Epoch 230 ...\n"
     ]
    },
    {
     "name": "stderr",
     "output_type": "stream",
     "text": [
      "\n",
      "100%|#################################################################################|2000/2000[00:37<00:00,53.63it/s]"
     ]
    },
    {
     "name": "stdout",
     "output_type": "stream",
     "text": [
      "\u001b[32m[0924 12:27:27 @base.py:285]\u001b[0m Epoch 230 (global_step 460000) finished, time:37.3 seconds.\n",
      "\u001b[32m[0924 12:27:27 @saver.py:79]\u001b[0m Model saved to ../output/Chicago/DATGAN_TEST/model\\model-460000.\n"
     ]
    },
    {
     "name": "stderr",
     "output_type": "stream",
     "text": [
      "\n"
     ]
    },
    {
     "name": "stdout",
     "output_type": "stream",
     "text": [
      "\u001b[32m[0924 12:27:27 @monitor.py:467]\u001b[0m GAN_loss/discrim/accuracy_fake: 0.875\n",
      "\u001b[32m[0924 12:27:27 @monitor.py:467]\u001b[0m GAN_loss/discrim/accuracy_real: 0.13\n",
      "\u001b[32m[0924 12:27:27 @monitor.py:467]\u001b[0m GAN_loss/discrim/loss: 0.65873\n",
      "\u001b[32m[0924 12:27:27 @monitor.py:467]\u001b[0m GAN_loss/gen/final-g-loss: 1.2805\n",
      "\u001b[32m[0924 12:27:27 @monitor.py:467]\u001b[0m GAN_loss/gen/klloss: 0.16662\n",
      "\u001b[32m[0924 12:27:27 @monitor.py:467]\u001b[0m GAN_loss/gen/loss: 1.1139\n",
      "\u001b[32m[0924 12:27:27 @monitor.py:467]\u001b[0m QueueInput/queue_size: 1.8367e-38\n",
      "\u001b[32m[0924 12:27:27 @monitor.py:467]\u001b[0m QueueInput_1/queue_size: 50\n",
      "\u001b[32m[0924 12:27:27 @base.py:275]\u001b[0m Start Epoch 231 ...\n"
     ]
    },
    {
     "name": "stderr",
     "output_type": "stream",
     "text": [
      "100%|#################################################################################|2000/2000[00:36<00:00,54.25it/s]"
     ]
    },
    {
     "name": "stdout",
     "output_type": "stream",
     "text": [
      "\u001b[32m[0924 12:28:04 @base.py:285]\u001b[0m Epoch 231 (global_step 462000) finished, time:36.9 seconds.\n",
      "\u001b[32m[0924 12:28:04 @saver.py:79]\u001b[0m Model saved to ../output/Chicago/DATGAN_TEST/model\\model-462000.\n",
      "\u001b[32m[0924 12:28:04 @monitor.py:467]\u001b[0m GAN_loss/discrim/accuracy_fake: 0.92\n",
      "\u001b[32m[0924 12:28:04 @monitor.py:467]\u001b[0m GAN_loss/discrim/accuracy_real: 0.17\n",
      "\u001b[32m[0924 12:28:04 @monitor.py:467]\u001b[0m GAN_loss/discrim/loss: 0.64679\n",
      "\u001b[32m[0924 12:28:04 @monitor.py:467]\u001b[0m GAN_loss/gen/final-g-loss: 1.3929\n",
      "\u001b[32m[0924 12:28:04 @monitor.py:467]\u001b[0m GAN_loss/gen/klloss: 0.27667\n",
      "\u001b[32m[0924 12:28:04 @monitor.py:467]\u001b[0m GAN_loss/gen/loss: 1.1162\n",
      "\u001b[32m[0924 12:28:04 @monitor.py:467]\u001b[0m QueueInput/queue_size: 1.8367e-38\n",
      "\u001b[32m[0924 12:28:04 @monitor.py:467]\u001b[0m QueueInput_1/queue_size: 50\n",
      "\u001b[32m[0924 12:28:04 @base.py:275]\u001b[0m Start Epoch 232 ...\n"
     ]
    },
    {
     "name": "stderr",
     "output_type": "stream",
     "text": [
      "\n",
      "100%|#################################################################################|2000/2000[00:36<00:00,54.17it/s]"
     ]
    },
    {
     "name": "stdout",
     "output_type": "stream",
     "text": [
      "\u001b[32m[0924 12:28:41 @base.py:285]\u001b[0m Epoch 232 (global_step 464000) finished, time:36.9 seconds.\n",
      "\u001b[32m[0924 12:28:41 @saver.py:79]\u001b[0m Model saved to ../output/Chicago/DATGAN_TEST/model\\model-464000.\n",
      "\u001b[32m[0924 12:28:41 @monitor.py:467]\u001b[0m GAN_loss/discrim/accuracy_fake: 0.92\n",
      "\u001b[32m[0924 12:28:41 @monitor.py:467]\u001b[0m GAN_loss/discrim/accuracy_real: 0.175\n",
      "\u001b[32m[0924 12:28:41 @monitor.py:467]\u001b[0m GAN_loss/discrim/loss: 0.64138\n",
      "\u001b[32m[0924 12:28:41 @monitor.py:467]\u001b[0m GAN_loss/gen/final-g-loss: 1.3477\n",
      "\u001b[32m[0924 12:28:41 @monitor.py:467]\u001b[0m GAN_loss/gen/klloss: 0.20672\n",
      "\u001b[32m[0924 12:28:41 @monitor.py:467]\u001b[0m GAN_loss/gen/loss: 1.141\n",
      "\u001b[32m[0924 12:28:41 @monitor.py:467]\u001b[0m QueueInput/queue_size: 1.8367e-38\n",
      "\u001b[32m[0924 12:28:41 @monitor.py:467]\u001b[0m QueueInput_1/queue_size: 50\n",
      "\u001b[32m[0924 12:28:41 @base.py:275]\u001b[0m Start Epoch 233 ...\n"
     ]
    },
    {
     "name": "stderr",
     "output_type": "stream",
     "text": [
      "\n",
      "100%|#################################################################################|2000/2000[00:36<00:00,54.07it/s]"
     ]
    },
    {
     "name": "stdout",
     "output_type": "stream",
     "text": [
      "\u001b[32m[0924 12:29:18 @base.py:285]\u001b[0m Epoch 233 (global_step 466000) finished, time:37 seconds.\n",
      "\u001b[32m[0924 12:29:19 @saver.py:79]\u001b[0m Model saved to ../output/Chicago/DATGAN_TEST/model\\model-466000.\n",
      "\u001b[32m[0924 12:29:19 @monitor.py:467]\u001b[0m GAN_loss/discrim/accuracy_fake: 0.91\n",
      "\u001b[32m[0924 12:29:19 @monitor.py:467]\u001b[0m GAN_loss/discrim/accuracy_real: 0.15\n",
      "\u001b[32m[0924 12:29:19 @monitor.py:467]\u001b[0m GAN_loss/discrim/loss: 0.64712\n",
      "\u001b[32m[0924 12:29:19 @monitor.py:467]\u001b[0m GAN_loss/gen/final-g-loss: 1.328\n",
      "\u001b[32m[0924 12:29:19 @monitor.py:467]\u001b[0m GAN_loss/gen/klloss: 0.17676\n",
      "\u001b[32m[0924 12:29:19 @monitor.py:467]\u001b[0m GAN_loss/gen/loss: 1.1512\n",
      "\u001b[32m[0924 12:29:19 @monitor.py:467]\u001b[0m QueueInput/queue_size: 1.8367e-38\n",
      "\u001b[32m[0924 12:29:19 @monitor.py:467]\u001b[0m QueueInput_1/queue_size: 50\n",
      "\u001b[32m[0924 12:29:19 @base.py:275]\u001b[0m Start Epoch 234 ...\n"
     ]
    },
    {
     "name": "stderr",
     "output_type": "stream",
     "text": [
      "\n",
      "100%|#################################################################################|2000/2000[00:37<00:00,53.92it/s]"
     ]
    },
    {
     "name": "stdout",
     "output_type": "stream",
     "text": [
      "\u001b[32m[0924 12:29:56 @base.py:285]\u001b[0m Epoch 234 (global_step 468000) finished, time:37.1 seconds.\n"
     ]
    },
    {
     "name": "stderr",
     "output_type": "stream",
     "text": [
      "\n"
     ]
    },
    {
     "name": "stdout",
     "output_type": "stream",
     "text": [
      "\u001b[32m[0924 12:29:56 @saver.py:79]\u001b[0m Model saved to ../output/Chicago/DATGAN_TEST/model\\model-468000.\n",
      "\u001b[32m[0924 12:29:56 @monitor.py:467]\u001b[0m GAN_loss/discrim/accuracy_fake: 0.91\n",
      "\u001b[32m[0924 12:29:56 @monitor.py:467]\u001b[0m GAN_loss/discrim/accuracy_real: 0.195\n",
      "\u001b[32m[0924 12:29:56 @monitor.py:467]\u001b[0m GAN_loss/discrim/loss: 0.63563\n",
      "\u001b[32m[0924 12:29:56 @monitor.py:467]\u001b[0m GAN_loss/gen/final-g-loss: 1.3646\n",
      "\u001b[32m[0924 12:29:56 @monitor.py:467]\u001b[0m GAN_loss/gen/klloss: 0.23063\n",
      "\u001b[32m[0924 12:29:56 @monitor.py:467]\u001b[0m GAN_loss/gen/loss: 1.134\n",
      "\u001b[32m[0924 12:29:56 @monitor.py:467]\u001b[0m QueueInput/queue_size: 1.8367e-38\n",
      "\u001b[32m[0924 12:29:56 @monitor.py:467]\u001b[0m QueueInput_1/queue_size: 50\n",
      "\u001b[32m[0924 12:29:56 @base.py:275]\u001b[0m Start Epoch 235 ...\n"
     ]
    },
    {
     "name": "stderr",
     "output_type": "stream",
     "text": [
      "100%|#################################################################################|2000/2000[00:36<00:00,54.17it/s]"
     ]
    },
    {
     "name": "stdout",
     "output_type": "stream",
     "text": [
      "\u001b[32m[0924 12:30:33 @base.py:285]\u001b[0m Epoch 235 (global_step 470000) finished, time:36.9 seconds.\n",
      "\u001b[32m[0924 12:30:33 @saver.py:79]\u001b[0m Model saved to ../output/Chicago/DATGAN_TEST/model\\model-470000.\n",
      "\u001b[32m[0924 12:30:33 @monitor.py:467]\u001b[0m GAN_loss/discrim/accuracy_fake: 0.89\n",
      "\u001b[32m[0924 12:30:33 @monitor.py:467]\u001b[0m GAN_loss/discrim/accuracy_real: 0.165\n",
      "\u001b[32m[0924 12:30:33 @monitor.py:467]\u001b[0m GAN_loss/discrim/loss: 0.64643\n",
      "\u001b[32m[0924 12:30:33 @monitor.py:467]\u001b[0m GAN_loss/gen/final-g-loss: 1.3274\n",
      "\u001b[32m[0924 12:30:33 @monitor.py:467]\u001b[0m GAN_loss/gen/klloss: 0.20428\n",
      "\u001b[32m[0924 12:30:33 @monitor.py:467]\u001b[0m GAN_loss/gen/loss: 1.1231\n",
      "\u001b[32m[0924 12:30:33 @monitor.py:467]\u001b[0m QueueInput/queue_size: 1.8367e-38\n",
      "\u001b[32m[0924 12:30:33 @monitor.py:467]\u001b[0m QueueInput_1/queue_size: 50\n",
      "\u001b[32m[0924 12:30:33 @base.py:275]\u001b[0m Start Epoch 236 ...\n"
     ]
    },
    {
     "name": "stderr",
     "output_type": "stream",
     "text": [
      "\n",
      "100%|#################################################################################|2000/2000[00:36<00:00,54.18it/s]"
     ]
    },
    {
     "name": "stdout",
     "output_type": "stream",
     "text": [
      "\u001b[32m[0924 12:31:10 @base.py:285]\u001b[0m Epoch 236 (global_step 472000) finished, time:36.9 seconds.\n",
      "\u001b[32m[0924 12:31:10 @saver.py:79]\u001b[0m Model saved to ../output/Chicago/DATGAN_TEST/model\\model-472000.\n",
      "\u001b[32m[0924 12:31:10 @monitor.py:467]\u001b[0m GAN_loss/discrim/accuracy_fake: 0.91\n",
      "\u001b[32m[0924 12:31:10 @monitor.py:467]\u001b[0m GAN_loss/discrim/accuracy_real: 0.135\n",
      "\u001b[32m[0924 12:31:10 @monitor.py:467]\u001b[0m GAN_loss/discrim/loss: 0.64757\n",
      "\u001b[32m[0924 12:31:10 @monitor.py:467]\u001b[0m GAN_loss/gen/final-g-loss: 1.3782\n",
      "\u001b[32m[0924 12:31:10 @monitor.py:467]\u001b[0m GAN_loss/gen/klloss: 0.2571\n",
      "\u001b[32m[0924 12:31:10 @monitor.py:467]\u001b[0m GAN_loss/gen/loss: 1.1211\n",
      "\u001b[32m[0924 12:31:10 @monitor.py:467]\u001b[0m QueueInput/queue_size: 1.8367e-38\n",
      "\u001b[32m[0924 12:31:10 @monitor.py:467]\u001b[0m QueueInput_1/queue_size: 50\n",
      "\u001b[32m[0924 12:31:10 @base.py:275]\u001b[0m Start Epoch 237 ...\n"
     ]
    },
    {
     "name": "stderr",
     "output_type": "stream",
     "text": [
      "\n",
      "100%|#################################################################################|2000/2000[00:36<00:00,54.05it/s]"
     ]
    },
    {
     "name": "stdout",
     "output_type": "stream",
     "text": [
      "\u001b[32m[0924 12:31:47 @base.py:285]\u001b[0m Epoch 237 (global_step 474000) finished, time:37 seconds.\n",
      "\u001b[32m[0924 12:31:47 @saver.py:79]\u001b[0m Model saved to ../output/Chicago/DATGAN_TEST/model\\model-474000.\n",
      "\u001b[32m[0924 12:31:47 @monitor.py:467]\u001b[0m GAN_loss/discrim/accuracy_fake: 0.895\n",
      "\u001b[32m[0924 12:31:47 @monitor.py:467]\u001b[0m GAN_loss/discrim/accuracy_real: 0.16\n",
      "\u001b[32m[0924 12:31:47 @monitor.py:467]\u001b[0m GAN_loss/discrim/loss: 0.65472\n",
      "\u001b[32m[0924 12:31:47 @monitor.py:467]\u001b[0m GAN_loss/gen/final-g-loss: 1.283\n",
      "\u001b[32m[0924 12:31:47 @monitor.py:467]\u001b[0m GAN_loss/gen/klloss: 0.17771\n",
      "\u001b[32m[0924 12:31:47 @monitor.py:467]\u001b[0m GAN_loss/gen/loss: 1.1053\n",
      "\u001b[32m[0924 12:31:47 @monitor.py:467]\u001b[0m QueueInput/queue_size: 1.8367e-38\n",
      "\u001b[32m[0924 12:31:47 @monitor.py:467]\u001b[0m QueueInput_1/queue_size: 50\n",
      "\u001b[32m[0924 12:31:47 @base.py:275]\u001b[0m Start Epoch 238 ...\n"
     ]
    },
    {
     "name": "stderr",
     "output_type": "stream",
     "text": [
      "\n",
      "100%|#################################################################################|2000/2000[00:37<00:00,54.05it/s]"
     ]
    },
    {
     "name": "stdout",
     "output_type": "stream",
     "text": [
      "\u001b[32m[0924 12:32:24 @base.py:285]\u001b[0m Epoch 238 (global_step 476000) finished, time:37 seconds.\n",
      "\u001b[32m[0924 12:32:24 @saver.py:79]\u001b[0m Model saved to ../output/Chicago/DATGAN_TEST/model\\model-476000.\n",
      "\u001b[32m[0924 12:32:24 @monitor.py:467]\u001b[0m GAN_loss/discrim/accuracy_fake: 0.91\n",
      "\u001b[32m[0924 12:32:24 @monitor.py:467]\u001b[0m GAN_loss/discrim/accuracy_real: 0.15\n",
      "\u001b[32m[0924 12:32:24 @monitor.py:467]\u001b[0m GAN_loss/discrim/loss: 0.64579\n",
      "\u001b[32m[0924 12:32:24 @monitor.py:467]\u001b[0m GAN_loss/gen/final-g-loss: 1.3446\n",
      "\u001b[32m[0924 12:32:24 @monitor.py:467]\u001b[0m GAN_loss/gen/klloss: 0.21009\n",
      "\u001b[32m[0924 12:32:24 @monitor.py:467]\u001b[0m GAN_loss/gen/loss: 1.1345\n",
      "\u001b[32m[0924 12:32:24 @monitor.py:467]\u001b[0m QueueInput/queue_size: 1.8367e-38\n",
      "\u001b[32m[0924 12:32:24 @monitor.py:467]\u001b[0m QueueInput_1/queue_size: 50\n",
      "\u001b[32m[0924 12:32:24 @base.py:275]\u001b[0m Start Epoch 239 ...\n"
     ]
    },
    {
     "name": "stderr",
     "output_type": "stream",
     "text": [
      "\n",
      "100%|#################################################################################|2000/2000[00:37<00:00,54.00it/s]"
     ]
    },
    {
     "name": "stdout",
     "output_type": "stream",
     "text": [
      "\u001b[32m[0924 12:33:01 @base.py:285]\u001b[0m Epoch 239 (global_step 478000) finished, time:37 seconds.\n",
      "\u001b[32m[0924 12:33:01 @saver.py:79]\u001b[0m Model saved to ../output/Chicago/DATGAN_TEST/model\\model-478000.\n"
     ]
    },
    {
     "name": "stderr",
     "output_type": "stream",
     "text": [
      "\n"
     ]
    },
    {
     "name": "stdout",
     "output_type": "stream",
     "text": [
      "\u001b[32m[0924 12:33:01 @monitor.py:467]\u001b[0m GAN_loss/discrim/accuracy_fake: 0.895\n",
      "\u001b[32m[0924 12:33:01 @monitor.py:467]\u001b[0m GAN_loss/discrim/accuracy_real: 0.14\n",
      "\u001b[32m[0924 12:33:01 @monitor.py:467]\u001b[0m GAN_loss/discrim/loss: 0.65394\n",
      "\u001b[32m[0924 12:33:01 @monitor.py:467]\u001b[0m GAN_loss/gen/final-g-loss: 1.274\n",
      "\u001b[32m[0924 12:33:01 @monitor.py:467]\u001b[0m GAN_loss/gen/klloss: 0.16466\n",
      "\u001b[32m[0924 12:33:01 @monitor.py:467]\u001b[0m GAN_loss/gen/loss: 1.1093\n",
      "\u001b[32m[0924 12:33:01 @monitor.py:467]\u001b[0m QueueInput/queue_size: 1.8367e-38\n",
      "\u001b[32m[0924 12:33:01 @monitor.py:467]\u001b[0m QueueInput_1/queue_size: 50\n",
      "\u001b[32m[0924 12:33:01 @base.py:275]\u001b[0m Start Epoch 240 ...\n"
     ]
    },
    {
     "name": "stderr",
     "output_type": "stream",
     "text": [
      "100%|#################################################################################|2000/2000[00:36<00:00,54.09it/s]"
     ]
    },
    {
     "name": "stdout",
     "output_type": "stream",
     "text": [
      "\u001b[32m[0924 12:33:38 @base.py:285]\u001b[0m Epoch 240 (global_step 480000) finished, time:37 seconds.\n",
      "\u001b[32m[0924 12:33:38 @saver.py:79]\u001b[0m Model saved to ../output/Chicago/DATGAN_TEST/model\\model-480000.\n",
      "\u001b[32m[0924 12:33:38 @monitor.py:467]\u001b[0m GAN_loss/discrim/accuracy_fake: 0.905\n",
      "\u001b[32m[0924 12:33:38 @monitor.py:467]\u001b[0m GAN_loss/discrim/accuracy_real: 0.125\n",
      "\u001b[32m[0924 12:33:38 @monitor.py:467]\u001b[0m GAN_loss/discrim/loss: 0.65843\n",
      "\u001b[32m[0924 12:33:38 @monitor.py:467]\u001b[0m GAN_loss/gen/final-g-loss: 1.3888\n",
      "\u001b[32m[0924 12:33:38 @monitor.py:467]\u001b[0m GAN_loss/gen/klloss: 0.25762\n",
      "\u001b[32m[0924 12:33:38 @monitor.py:467]\u001b[0m GAN_loss/gen/loss: 1.1311\n",
      "\u001b[32m[0924 12:33:38 @monitor.py:467]\u001b[0m QueueInput/queue_size: 1.8367e-38\n",
      "\u001b[32m[0924 12:33:38 @monitor.py:467]\u001b[0m QueueInput_1/queue_size: 50\n",
      "\u001b[32m[0924 12:33:38 @base.py:275]\u001b[0m Start Epoch 241 ...\n"
     ]
    },
    {
     "name": "stderr",
     "output_type": "stream",
     "text": [
      "\n",
      "100%|#################################################################################|2000/2000[00:36<00:00,54.06it/s]"
     ]
    },
    {
     "name": "stdout",
     "output_type": "stream",
     "text": [
      "\u001b[32m[0924 12:34:15 @base.py:285]\u001b[0m Epoch 241 (global_step 482000) finished, time:37 seconds.\n",
      "\u001b[32m[0924 12:34:15 @saver.py:79]\u001b[0m Model saved to ../output/Chicago/DATGAN_TEST/model\\model-482000.\n",
      "\u001b[32m[0924 12:34:16 @monitor.py:467]\u001b[0m GAN_loss/discrim/accuracy_fake: 0.915\n",
      "\u001b[32m[0924 12:34:16 @monitor.py:467]\u001b[0m GAN_loss/discrim/accuracy_real: 0.09\n",
      "\u001b[32m[0924 12:34:16 @monitor.py:467]\u001b[0m GAN_loss/discrim/loss: 0.65717\n",
      "\u001b[32m[0924 12:34:16 @monitor.py:467]\u001b[0m GAN_loss/gen/final-g-loss: 1.3551\n",
      "\u001b[32m[0924 12:34:16 @monitor.py:467]\u001b[0m GAN_loss/gen/klloss: 0.22249\n",
      "\u001b[32m[0924 12:34:16 @monitor.py:467]\u001b[0m GAN_loss/gen/loss: 1.1326\n",
      "\u001b[32m[0924 12:34:16 @monitor.py:467]\u001b[0m QueueInput/queue_size: 1.8367e-38\n",
      "\u001b[32m[0924 12:34:16 @monitor.py:467]\u001b[0m QueueInput_1/queue_size: 50\n",
      "\u001b[32m[0924 12:34:16 @base.py:275]\u001b[0m Start Epoch 242 ...\n"
     ]
    },
    {
     "name": "stderr",
     "output_type": "stream",
     "text": [
      "\n",
      "100%|#################################################################################|2000/2000[00:37<00:00,53.86it/s]"
     ]
    },
    {
     "name": "stdout",
     "output_type": "stream",
     "text": [
      "\u001b[32m[0924 12:34:53 @base.py:285]\u001b[0m Epoch 242 (global_step 484000) finished, time:37.1 seconds.\n",
      "\u001b[32m[0924 12:34:53 @saver.py:79]\u001b[0m Model saved to ../output/Chicago/DATGAN_TEST/model\\model-484000.\n",
      "\u001b[32m[0924 12:34:53 @monitor.py:467]\u001b[0m GAN_loss/discrim/accuracy_fake: 0.93\n",
      "\u001b[32m[0924 12:34:53 @monitor.py:467]\u001b[0m GAN_loss/discrim/accuracy_real: 0.125\n",
      "\u001b[32m[0924 12:34:53 @monitor.py:467]\u001b[0m GAN_loss/discrim/loss: 0.64493\n",
      "\u001b[32m[0924 12:34:53 @monitor.py:467]\u001b[0m GAN_loss/gen/final-g-loss: 1.3953\n",
      "\u001b[32m[0924 12:34:53 @monitor.py:467]\u001b[0m GAN_loss/gen/klloss: 0.26146\n",
      "\u001b[32m[0924 12:34:53 @monitor.py:467]\u001b[0m GAN_loss/gen/loss: 1.1338\n",
      "\u001b[32m[0924 12:34:53 @monitor.py:467]\u001b[0m QueueInput/queue_size: 1.8367e-38\n",
      "\u001b[32m[0924 12:34:53 @monitor.py:467]\u001b[0m QueueInput_1/queue_size: 50\n",
      "\u001b[32m[0924 12:34:53 @base.py:275]\u001b[0m Start Epoch 243 ...\n"
     ]
    },
    {
     "name": "stderr",
     "output_type": "stream",
     "text": [
      "\n",
      "100%|#################################################################################|2000/2000[00:37<00:00,53.95it/s]"
     ]
    },
    {
     "name": "stdout",
     "output_type": "stream",
     "text": [
      "\u001b[32m[0924 12:35:30 @base.py:285]\u001b[0m Epoch 243 (global_step 486000) finished, time:37.1 seconds.\n"
     ]
    },
    {
     "name": "stderr",
     "output_type": "stream",
     "text": [
      "\n"
     ]
    },
    {
     "name": "stdout",
     "output_type": "stream",
     "text": [
      "\u001b[32m[0924 12:35:30 @saver.py:79]\u001b[0m Model saved to ../output/Chicago/DATGAN_TEST/model\\model-486000.\n",
      "\u001b[32m[0924 12:35:30 @monitor.py:467]\u001b[0m GAN_loss/discrim/accuracy_fake: 0.89\n",
      "\u001b[32m[0924 12:35:30 @monitor.py:467]\u001b[0m GAN_loss/discrim/accuracy_real: 0.115\n",
      "\u001b[32m[0924 12:35:30 @monitor.py:467]\u001b[0m GAN_loss/discrim/loss: 0.65017\n",
      "\u001b[32m[0924 12:35:30 @monitor.py:467]\u001b[0m GAN_loss/gen/final-g-loss: 1.3601\n",
      "\u001b[32m[0924 12:35:30 @monitor.py:467]\u001b[0m GAN_loss/gen/klloss: 0.23444\n",
      "\u001b[32m[0924 12:35:30 @monitor.py:467]\u001b[0m GAN_loss/gen/loss: 1.1257\n",
      "\u001b[32m[0924 12:35:30 @monitor.py:467]\u001b[0m QueueInput/queue_size: 1.8367e-38\n",
      "\u001b[32m[0924 12:35:30 @monitor.py:467]\u001b[0m QueueInput_1/queue_size: 50\n",
      "\u001b[32m[0924 12:35:30 @base.py:275]\u001b[0m Start Epoch 244 ...\n"
     ]
    },
    {
     "name": "stderr",
     "output_type": "stream",
     "text": [
      "100%|#################################################################################|2000/2000[00:37<00:00,54.01it/s]"
     ]
    },
    {
     "name": "stdout",
     "output_type": "stream",
     "text": [
      "\u001b[32m[0924 12:36:07 @base.py:285]\u001b[0m Epoch 244 (global_step 488000) finished, time:37 seconds.\n",
      "\u001b[32m[0924 12:36:07 @saver.py:79]\u001b[0m Model saved to ../output/Chicago/DATGAN_TEST/model\\model-488000.\n",
      "\u001b[32m[0924 12:36:07 @monitor.py:467]\u001b[0m GAN_loss/discrim/accuracy_fake: 0.925\n",
      "\u001b[32m[0924 12:36:07 @monitor.py:467]\u001b[0m GAN_loss/discrim/accuracy_real: 0.165\n",
      "\u001b[32m[0924 12:36:07 @monitor.py:467]\u001b[0m GAN_loss/discrim/loss: 0.63849\n",
      "\u001b[32m[0924 12:36:07 @monitor.py:467]\u001b[0m GAN_loss/gen/final-g-loss: 1.3941\n",
      "\u001b[32m[0924 12:36:07 @monitor.py:467]\u001b[0m GAN_loss/gen/klloss: 0.24988\n",
      "\u001b[32m[0924 12:36:07 @monitor.py:467]\u001b[0m GAN_loss/gen/loss: 1.1442\n",
      "\u001b[32m[0924 12:36:07 @monitor.py:467]\u001b[0m QueueInput/queue_size: 1.8367e-38\n",
      "\u001b[32m[0924 12:36:07 @monitor.py:467]\u001b[0m QueueInput_1/queue_size: 50\n",
      "\u001b[32m[0924 12:36:07 @base.py:275]\u001b[0m Start Epoch 245 ...\n"
     ]
    },
    {
     "name": "stderr",
     "output_type": "stream",
     "text": [
      "\n",
      "100%|#################################################################################|2000/2000[00:37<00:00,54.05it/s]"
     ]
    },
    {
     "name": "stdout",
     "output_type": "stream",
     "text": [
      "\u001b[32m[0924 12:36:44 @base.py:285]\u001b[0m Epoch 245 (global_step 490000) finished, time:37 seconds.\n",
      "\u001b[32m[0924 12:36:44 @saver.py:79]\u001b[0m Model saved to ../output/Chicago/DATGAN_TEST/model\\model-490000.\n",
      "\u001b[32m[0924 12:36:44 @monitor.py:467]\u001b[0m GAN_loss/discrim/accuracy_fake: 0.89\n",
      "\u001b[32m[0924 12:36:44 @monitor.py:467]\u001b[0m GAN_loss/discrim/accuracy_real: 0.15\n",
      "\u001b[32m[0924 12:36:44 @monitor.py:467]\u001b[0m GAN_loss/discrim/loss: 0.64463\n",
      "\u001b[32m[0924 12:36:44 @monitor.py:467]\u001b[0m GAN_loss/gen/final-g-loss: 1.4182\n",
      "\u001b[32m[0924 12:36:44 @monitor.py:467]\u001b[0m GAN_loss/gen/klloss: 0.28181\n",
      "\u001b[32m[0924 12:36:44 @monitor.py:467]\u001b[0m GAN_loss/gen/loss: 1.1364\n",
      "\u001b[32m[0924 12:36:44 @monitor.py:467]\u001b[0m QueueInput/queue_size: 1.8367e-38\n",
      "\u001b[32m[0924 12:36:44 @monitor.py:467]\u001b[0m QueueInput_1/queue_size: 50\n",
      "\u001b[32m[0924 12:36:44 @base.py:275]\u001b[0m Start Epoch 246 ...\n"
     ]
    },
    {
     "name": "stderr",
     "output_type": "stream",
     "text": [
      "\n",
      "100%|#################################################################################|2000/2000[00:37<00:00,53.97it/s]"
     ]
    },
    {
     "name": "stdout",
     "output_type": "stream",
     "text": [
      "\u001b[32m[0924 12:37:21 @base.py:285]\u001b[0m Epoch 246 (global_step 492000) finished, time:37.1 seconds.\n",
      "\u001b[32m[0924 12:37:21 @saver.py:79]\u001b[0m Model saved to ../output/Chicago/DATGAN_TEST/model\\model-492000.\n",
      "\u001b[32m[0924 12:37:21 @monitor.py:467]\u001b[0m GAN_loss/discrim/accuracy_fake: 0.9\n"
     ]
    },
    {
     "name": "stderr",
     "output_type": "stream",
     "text": [
      "\n"
     ]
    },
    {
     "name": "stdout",
     "output_type": "stream",
     "text": [
      "\u001b[32m[0924 12:37:21 @monitor.py:467]\u001b[0m GAN_loss/discrim/accuracy_real: 0.09\n",
      "\u001b[32m[0924 12:37:21 @monitor.py:467]\u001b[0m GAN_loss/discrim/loss: 0.6498\n",
      "\u001b[32m[0924 12:37:21 @monitor.py:467]\u001b[0m GAN_loss/gen/final-g-loss: 1.3894\n",
      "\u001b[32m[0924 12:37:21 @monitor.py:467]\u001b[0m GAN_loss/gen/klloss: 0.24618\n",
      "\u001b[32m[0924 12:37:21 @monitor.py:467]\u001b[0m GAN_loss/gen/loss: 1.1432\n",
      "\u001b[32m[0924 12:37:21 @monitor.py:467]\u001b[0m QueueInput/queue_size: 1.8367e-38\n",
      "\u001b[32m[0924 12:37:21 @monitor.py:467]\u001b[0m QueueInput_1/queue_size: 50\n",
      "\u001b[32m[0924 12:37:21 @base.py:275]\u001b[0m Start Epoch 247 ...\n"
     ]
    },
    {
     "name": "stderr",
     "output_type": "stream",
     "text": [
      "100%|#################################################################################|2000/2000[00:37<00:00,53.82it/s]"
     ]
    },
    {
     "name": "stdout",
     "output_type": "stream",
     "text": [
      "\u001b[32m[0924 12:37:59 @base.py:285]\u001b[0m Epoch 247 (global_step 494000) finished, time:37.2 seconds.\n",
      "\u001b[32m[0924 12:37:59 @saver.py:79]\u001b[0m Model saved to ../output/Chicago/DATGAN_TEST/model\\model-494000.\n",
      "\u001b[32m[0924 12:37:59 @monitor.py:467]\u001b[0m GAN_loss/discrim/accuracy_fake: 0.92\n",
      "\u001b[32m[0924 12:37:59 @monitor.py:467]\u001b[0m GAN_loss/discrim/accuracy_real: 0.15\n",
      "\u001b[32m[0924 12:37:59 @monitor.py:467]\u001b[0m GAN_loss/discrim/loss: 0.64646\n",
      "\u001b[32m[0924 12:37:59 @monitor.py:467]\u001b[0m GAN_loss/gen/final-g-loss: 1.3276\n",
      "\u001b[32m[0924 12:37:59 @monitor.py:467]\u001b[0m GAN_loss/gen/klloss: 0.19628\n",
      "\u001b[32m[0924 12:37:59 @monitor.py:467]\u001b[0m GAN_loss/gen/loss: 1.1313\n",
      "\u001b[32m[0924 12:37:59 @monitor.py:467]\u001b[0m QueueInput/queue_size: 1.8367e-38\n",
      "\u001b[32m[0924 12:37:59 @monitor.py:467]\u001b[0m QueueInput_1/queue_size: 50\n",
      "\u001b[32m[0924 12:37:59 @base.py:275]\u001b[0m Start Epoch 248 ...\n"
     ]
    },
    {
     "name": "stderr",
     "output_type": "stream",
     "text": [
      "\n",
      "100%|#################################################################################|2000/2000[00:37<00:00,53.96it/s]"
     ]
    },
    {
     "name": "stdout",
     "output_type": "stream",
     "text": [
      "\u001b[32m[0924 12:38:36 @base.py:285]\u001b[0m Epoch 248 (global_step 496000) finished, time:37.1 seconds.\n",
      "\u001b[32m[0924 12:38:36 @saver.py:79]\u001b[0m Model saved to ../output/Chicago/DATGAN_TEST/model\\model-496000.\n",
      "\u001b[32m[0924 12:38:36 @monitor.py:467]\u001b[0m GAN_loss/discrim/accuracy_fake: 0.915\n"
     ]
    },
    {
     "name": "stderr",
     "output_type": "stream",
     "text": [
      "\n"
     ]
    },
    {
     "name": "stdout",
     "output_type": "stream",
     "text": [
      "\u001b[32m[0924 12:38:36 @monitor.py:467]\u001b[0m GAN_loss/discrim/accuracy_real: 0.145\n",
      "\u001b[32m[0924 12:38:36 @monitor.py:467]\u001b[0m GAN_loss/discrim/loss: 0.64205\n",
      "\u001b[32m[0924 12:38:36 @monitor.py:467]\u001b[0m GAN_loss/gen/final-g-loss: 1.3682\n",
      "\u001b[32m[0924 12:38:36 @monitor.py:467]\u001b[0m GAN_loss/gen/klloss: 0.2432\n",
      "\u001b[32m[0924 12:38:36 @monitor.py:467]\u001b[0m GAN_loss/gen/loss: 1.125\n",
      "\u001b[32m[0924 12:38:36 @monitor.py:467]\u001b[0m QueueInput/queue_size: 1.8367e-38\n",
      "\u001b[32m[0924 12:38:36 @monitor.py:467]\u001b[0m QueueInput_1/queue_size: 50\n",
      "\u001b[32m[0924 12:38:36 @base.py:275]\u001b[0m Start Epoch 249 ...\n"
     ]
    },
    {
     "name": "stderr",
     "output_type": "stream",
     "text": [
      "100%|#################################################################################|2000/2000[00:37<00:00,53.98it/s]"
     ]
    },
    {
     "name": "stdout",
     "output_type": "stream",
     "text": [
      "\u001b[32m[0924 12:39:13 @base.py:285]\u001b[0m Epoch 249 (global_step 498000) finished, time:37.1 seconds.\n",
      "\u001b[32m[0924 12:39:13 @saver.py:79]\u001b[0m Model saved to ../output/Chicago/DATGAN_TEST/model\\model-498000.\n"
     ]
    },
    {
     "name": "stderr",
     "output_type": "stream",
     "text": [
      "\n"
     ]
    },
    {
     "name": "stdout",
     "output_type": "stream",
     "text": [
      "\u001b[32m[0924 12:39:13 @monitor.py:467]\u001b[0m GAN_loss/discrim/accuracy_fake: 0.93\n",
      "\u001b[32m[0924 12:39:13 @monitor.py:467]\u001b[0m GAN_loss/discrim/accuracy_real: 0.18\n",
      "\u001b[32m[0924 12:39:13 @monitor.py:467]\u001b[0m GAN_loss/discrim/loss: 0.62861\n",
      "\u001b[32m[0924 12:39:13 @monitor.py:467]\u001b[0m GAN_loss/gen/final-g-loss: 1.4432\n",
      "\u001b[32m[0924 12:39:13 @monitor.py:467]\u001b[0m GAN_loss/gen/klloss: 0.28717\n",
      "\u001b[32m[0924 12:39:13 @monitor.py:467]\u001b[0m GAN_loss/gen/loss: 1.156\n",
      "\u001b[32m[0924 12:39:13 @monitor.py:467]\u001b[0m QueueInput/queue_size: 1.8367e-38\n",
      "\u001b[32m[0924 12:39:13 @monitor.py:467]\u001b[0m QueueInput_1/queue_size: 50\n",
      "\u001b[32m[0924 12:39:13 @base.py:275]\u001b[0m Start Epoch 250 ...\n"
     ]
    },
    {
     "name": "stderr",
     "output_type": "stream",
     "text": [
      "100%|#################################################################################|2000/2000[00:37<00:00,53.86it/s]"
     ]
    },
    {
     "name": "stdout",
     "output_type": "stream",
     "text": [
      "\u001b[32m[0924 12:39:50 @base.py:285]\u001b[0m Epoch 250 (global_step 500000) finished, time:37.1 seconds.\n",
      "\u001b[32m[0924 12:39:50 @saver.py:79]\u001b[0m Model saved to ../output/Chicago/DATGAN_TEST/model\\model-500000.\n",
      "\u001b[32m[0924 12:39:50 @monitor.py:467]\u001b[0m GAN_loss/discrim/accuracy_fake: 0.93\n",
      "\u001b[32m[0924 12:39:50 @monitor.py:467]\u001b[0m GAN_loss/discrim/accuracy_real: 0.125\n",
      "\u001b[32m[0924 12:39:50 @monitor.py:467]\u001b[0m GAN_loss/discrim/loss: 0.64866\n",
      "\u001b[32m[0924 12:39:50 @monitor.py:467]\u001b[0m GAN_loss/gen/final-g-loss: 1.3963\n",
      "\u001b[32m[0924 12:39:50 @monitor.py:467]\u001b[0m GAN_loss/gen/klloss: 0.26154\n",
      "\u001b[32m[0924 12:39:50 @monitor.py:467]\u001b[0m GAN_loss/gen/loss: 1.1348\n",
      "\u001b[32m[0924 12:39:50 @monitor.py:467]\u001b[0m QueueInput/queue_size: 1.8367e-38\n",
      "\u001b[32m[0924 12:39:50 @monitor.py:467]\u001b[0m QueueInput_1/queue_size: 50\n",
      "\u001b[32m[0924 12:39:50 @base.py:275]\u001b[0m Start Epoch 251 ...\n"
     ]
    },
    {
     "name": "stderr",
     "output_type": "stream",
     "text": [
      "\n",
      "100%|#################################################################################|2000/2000[00:36<00:00,54.25it/s]"
     ]
    },
    {
     "name": "stdout",
     "output_type": "stream",
     "text": [
      "\u001b[32m[0924 12:40:27 @base.py:285]\u001b[0m Epoch 251 (global_step 502000) finished, time:36.9 seconds.\n",
      "\u001b[32m[0924 12:40:27 @saver.py:79]\u001b[0m Model saved to ../output/Chicago/DATGAN_TEST/model\\model-502000.\n",
      "\u001b[32m[0924 12:40:27 @monitor.py:467]\u001b[0m GAN_loss/discrim/accuracy_fake: 0.915\n",
      "\u001b[32m[0924 12:40:27 @monitor.py:467]\u001b[0m GAN_loss/discrim/accuracy_real: 0.195\n",
      "\u001b[32m[0924 12:40:27 @monitor.py:467]\u001b[0m GAN_loss/discrim/loss: 0.64474\n",
      "\u001b[32m[0924 12:40:27 @monitor.py:467]\u001b[0m GAN_loss/gen/final-g-loss: 1.2625\n",
      "\u001b[32m[0924 12:40:27 @monitor.py:467]\u001b[0m GAN_loss/gen/klloss: 0.14484\n",
      "\u001b[32m[0924 12:40:27 @monitor.py:467]\u001b[0m GAN_loss/gen/loss: 1.1177\n",
      "\u001b[32m[0924 12:40:27 @monitor.py:467]\u001b[0m QueueInput/queue_size: 1.8367e-38\n",
      "\u001b[32m[0924 12:40:27 @monitor.py:467]\u001b[0m QueueInput_1/queue_size: 50\n",
      "\u001b[32m[0924 12:40:27 @base.py:275]\u001b[0m Start Epoch 252 ...\n"
     ]
    },
    {
     "name": "stderr",
     "output_type": "stream",
     "text": [
      "\n",
      "100%|#################################################################################|2000/2000[00:36<00:00,54.11it/s]"
     ]
    },
    {
     "name": "stdout",
     "output_type": "stream",
     "text": [
      "\u001b[32m[0924 12:41:04 @base.py:285]\u001b[0m Epoch 252 (global_step 504000) finished, time:37 seconds.\n",
      "\u001b[32m[0924 12:41:04 @saver.py:79]\u001b[0m Model saved to ../output/Chicago/DATGAN_TEST/model\\model-504000.\n",
      "\u001b[32m[0924 12:41:04 @monitor.py:467]\u001b[0m GAN_loss/discrim/accuracy_fake: 0.915\n",
      "\u001b[32m[0924 12:41:04 @monitor.py:467]\u001b[0m GAN_loss/discrim/accuracy_real: 0.125\n",
      "\u001b[32m[0924 12:41:04 @monitor.py:467]\u001b[0m GAN_loss/discrim/loss: 0.64725\n",
      "\u001b[32m[0924 12:41:04 @monitor.py:467]\u001b[0m GAN_loss/gen/final-g-loss: 1.367\n",
      "\u001b[32m[0924 12:41:04 @monitor.py:467]\u001b[0m GAN_loss/gen/klloss: 0.23861\n",
      "\u001b[32m[0924 12:41:04 @monitor.py:467]\u001b[0m GAN_loss/gen/loss: 1.1284\n",
      "\u001b[32m[0924 12:41:04 @monitor.py:467]\u001b[0m QueueInput/queue_size: 1.8367e-38\n",
      "\u001b[32m[0924 12:41:04 @monitor.py:467]\u001b[0m QueueInput_1/queue_size: 50\n",
      "\u001b[32m[0924 12:41:04 @base.py:275]\u001b[0m Start Epoch 253 ...\n"
     ]
    },
    {
     "name": "stderr",
     "output_type": "stream",
     "text": [
      "\n",
      "100%|#################################################################################|2000/2000[00:37<00:00,53.94it/s]"
     ]
    },
    {
     "name": "stdout",
     "output_type": "stream",
     "text": [
      "\u001b[32m[0924 12:41:42 @base.py:285]\u001b[0m Epoch 253 (global_step 506000) finished, time:37.1 seconds.\n",
      "\u001b[32m[0924 12:41:42 @saver.py:79]\u001b[0m Model saved to ../output/Chicago/DATGAN_TEST/model\\model-506000.\n",
      "\u001b[32m[0924 12:41:42 @monitor.py:467]\u001b[0m GAN_loss/discrim/accuracy_fake: 0.89\n",
      "\u001b[32m[0924 12:41:42 @monitor.py:467]\u001b[0m GAN_loss/discrim/accuracy_real: 0.195\n",
      "\u001b[32m[0924 12:41:42 @monitor.py:467]\u001b[0m GAN_loss/discrim/loss: 0.64153\n",
      "\u001b[32m[0924 12:41:42 @monitor.py:467]\u001b[0m GAN_loss/gen/final-g-loss: 1.4094\n",
      "\u001b[32m[0924 12:41:42 @monitor.py:467]\u001b[0m GAN_loss/gen/klloss: 0.2782\n",
      "\u001b[32m[0924 12:41:42 @monitor.py:467]\u001b[0m GAN_loss/gen/loss: 1.1312\n",
      "\u001b[32m[0924 12:41:42 @monitor.py:467]\u001b[0m QueueInput/queue_size: 1.8367e-38\n",
      "\u001b[32m[0924 12:41:42 @monitor.py:467]\u001b[0m QueueInput_1/queue_size: 50\n",
      "\u001b[32m[0924 12:41:42 @base.py:275]\u001b[0m Start Epoch 254 ...\n"
     ]
    },
    {
     "name": "stderr",
     "output_type": "stream",
     "text": [
      "\n",
      "100%|#################################################################################|2000/2000[00:37<00:00,54.01it/s]"
     ]
    },
    {
     "name": "stdout",
     "output_type": "stream",
     "text": [
      "\u001b[32m[0924 12:42:19 @base.py:285]\u001b[0m Epoch 254 (global_step 508000) finished, time:37 seconds.\n",
      "\u001b[32m[0924 12:42:19 @saver.py:79]\u001b[0m Model saved to ../output/Chicago/DATGAN_TEST/model\\model-508000.\n",
      "\u001b[32m[0924 12:42:19 @monitor.py:467]\u001b[0m GAN_loss/discrim/accuracy_fake: 0.9\n",
      "\u001b[32m[0924 12:42:19 @monitor.py:467]\u001b[0m GAN_loss/discrim/accuracy_real: 0.185\n",
      "\u001b[32m[0924 12:42:19 @monitor.py:467]\u001b[0m GAN_loss/discrim/loss: 0.64596\n",
      "\u001b[32m[0924 12:42:19 @monitor.py:467]\u001b[0m GAN_loss/gen/final-g-loss: 1.2997\n",
      "\u001b[32m[0924 12:42:19 @monitor.py:467]\u001b[0m GAN_loss/gen/klloss: 0.16253\n",
      "\u001b[32m[0924 12:42:19 @monitor.py:467]\u001b[0m GAN_loss/gen/loss: 1.1372\n",
      "\u001b[32m[0924 12:42:19 @monitor.py:467]\u001b[0m QueueInput/queue_size: 1.8367e-38\n",
      "\u001b[32m[0924 12:42:19 @monitor.py:467]\u001b[0m QueueInput_1/queue_size: 50\n",
      "\u001b[32m[0924 12:42:19 @base.py:275]\u001b[0m Start Epoch 255 ...\n"
     ]
    },
    {
     "name": "stderr",
     "output_type": "stream",
     "text": [
      "\n",
      "100%|#################################################################################|2000/2000[00:36<00:00,54.16it/s]"
     ]
    },
    {
     "name": "stdout",
     "output_type": "stream",
     "text": [
      "\u001b[32m[0924 12:42:56 @base.py:285]\u001b[0m Epoch 255 (global_step 510000) finished, time:36.9 seconds.\n",
      "\u001b[32m[0924 12:42:56 @saver.py:79]\u001b[0m Model saved to ../output/Chicago/DATGAN_TEST/model\\model-510000.\n",
      "\u001b[32m[0924 12:42:56 @monitor.py:467]\u001b[0m GAN_loss/discrim/accuracy_fake: 0.935\n",
      "\u001b[32m[0924 12:42:56 @monitor.py:467]\u001b[0m GAN_loss/discrim/accuracy_real: 0.19\n",
      "\u001b[32m[0924 12:42:56 @monitor.py:467]\u001b[0m GAN_loss/discrim/loss: 0.63206\n",
      "\u001b[32m[0924 12:42:56 @monitor.py:467]\u001b[0m GAN_loss/gen/final-g-loss: 1.3035\n",
      "\u001b[32m[0924 12:42:56 @monitor.py:467]\u001b[0m GAN_loss/gen/klloss: 0.14647\n",
      "\u001b[32m[0924 12:42:56 @monitor.py:467]\u001b[0m GAN_loss/gen/loss: 1.1571\n",
      "\u001b[32m[0924 12:42:56 @monitor.py:467]\u001b[0m QueueInput/queue_size: 1.8367e-38\n",
      "\u001b[32m[0924 12:42:56 @monitor.py:467]\u001b[0m QueueInput_1/queue_size: 50\n",
      "\u001b[32m[0924 12:42:56 @base.py:275]\u001b[0m Start Epoch 256 ...\n"
     ]
    },
    {
     "name": "stderr",
     "output_type": "stream",
     "text": [
      "\n",
      "100%|#################################################################################|2000/2000[00:37<00:00,54.00it/s]"
     ]
    },
    {
     "name": "stdout",
     "output_type": "stream",
     "text": [
      "\u001b[32m[0924 12:43:33 @base.py:285]\u001b[0m Epoch 256 (global_step 512000) finished, time:37 seconds.\n",
      "\u001b[32m[0924 12:43:33 @saver.py:79]\u001b[0m Model saved to ../output/Chicago/DATGAN_TEST/model\\model-512000.\n",
      "\u001b[32m[0924 12:43:33 @monitor.py:467]\u001b[0m GAN_loss/discrim/accuracy_fake: 0.915\n",
      "\u001b[32m[0924 12:43:33 @monitor.py:467]\u001b[0m GAN_loss/discrim/accuracy_real: 0.16\n",
      "\u001b[32m[0924 12:43:33 @monitor.py:467]\u001b[0m GAN_loss/discrim/loss: 0.63953\n",
      "\u001b[32m[0924 12:43:33 @monitor.py:467]\u001b[0m GAN_loss/gen/final-g-loss: 1.3603\n",
      "\u001b[32m[0924 12:43:33 @monitor.py:467]\u001b[0m GAN_loss/gen/klloss: 0.21494\n",
      "\u001b[32m[0924 12:43:33 @monitor.py:467]\u001b[0m GAN_loss/gen/loss: 1.1453\n",
      "\u001b[32m[0924 12:43:33 @monitor.py:467]\u001b[0m QueueInput/queue_size: 1.8367e-38\n",
      "\u001b[32m[0924 12:43:33 @monitor.py:467]\u001b[0m QueueInput_1/queue_size: 50\n",
      "\u001b[32m[0924 12:43:33 @base.py:275]\u001b[0m Start Epoch 257 ...\n"
     ]
    },
    {
     "name": "stderr",
     "output_type": "stream",
     "text": [
      "\n",
      "100%|#################################################################################|2000/2000[00:37<00:00,54.02it/s]"
     ]
    },
    {
     "name": "stdout",
     "output_type": "stream",
     "text": [
      "\u001b[32m[0924 12:44:10 @base.py:285]\u001b[0m Epoch 257 (global_step 514000) finished, time:37 seconds.\n",
      "\u001b[32m[0924 12:44:10 @saver.py:79]\u001b[0m Model saved to ../output/Chicago/DATGAN_TEST/model\\model-514000.\n",
      "\u001b[32m[0924 12:44:10 @monitor.py:467]\u001b[0m GAN_loss/discrim/accuracy_fake: 0.895\n",
      "\u001b[32m[0924 12:44:10 @monitor.py:467]\u001b[0m GAN_loss/discrim/accuracy_real: 0.155\n",
      "\u001b[32m[0924 12:44:10 @monitor.py:467]\u001b[0m GAN_loss/discrim/loss: 0.64671\n",
      "\u001b[32m[0924 12:44:10 @monitor.py:467]\u001b[0m GAN_loss/gen/final-g-loss: 1.3901\n",
      "\u001b[32m[0924 12:44:10 @monitor.py:467]\u001b[0m GAN_loss/gen/klloss: 0.24838\n",
      "\u001b[32m[0924 12:44:10 @monitor.py:467]\u001b[0m GAN_loss/gen/loss: 1.1417\n",
      "\u001b[32m[0924 12:44:10 @monitor.py:467]\u001b[0m QueueInput/queue_size: 1.8367e-38\n",
      "\u001b[32m[0924 12:44:10 @monitor.py:467]\u001b[0m QueueInput_1/queue_size: 50\n",
      "\u001b[32m[0924 12:44:10 @base.py:275]\u001b[0m Start Epoch 258 ...\n"
     ]
    },
    {
     "name": "stderr",
     "output_type": "stream",
     "text": [
      "\n",
      "100%|#################################################################################|2000/2000[00:36<00:00,54.10it/s]"
     ]
    },
    {
     "name": "stdout",
     "output_type": "stream",
     "text": [
      "\u001b[32m[0924 12:44:47 @base.py:285]\u001b[0m Epoch 258 (global_step 516000) finished, time:37 seconds.\n",
      "\u001b[32m[0924 12:44:47 @saver.py:79]\u001b[0m Model saved to ../output/Chicago/DATGAN_TEST/model\\model-516000.\n",
      "\u001b[32m[0924 12:44:47 @monitor.py:467]\u001b[0m GAN_loss/discrim/accuracy_fake: 0.925\n",
      "\u001b[32m[0924 12:44:47 @monitor.py:467]\u001b[0m GAN_loss/discrim/accuracy_real: 0.16\n",
      "\u001b[32m[0924 12:44:47 @monitor.py:467]\u001b[0m GAN_loss/discrim/loss: 0.64363\n",
      "\u001b[32m[0924 12:44:47 @monitor.py:467]\u001b[0m GAN_loss/gen/final-g-loss: 1.3848\n",
      "\u001b[32m[0924 12:44:47 @monitor.py:467]\u001b[0m GAN_loss/gen/klloss: 0.25007\n",
      "\u001b[32m[0924 12:44:47 @monitor.py:467]\u001b[0m GAN_loss/gen/loss: 1.1348\n",
      "\u001b[32m[0924 12:44:47 @monitor.py:467]\u001b[0m QueueInput/queue_size: 1.8367e-38\n",
      "\u001b[32m[0924 12:44:47 @monitor.py:467]\u001b[0m QueueInput_1/queue_size: 50\n",
      "\u001b[32m[0924 12:44:47 @base.py:275]\u001b[0m Start Epoch 259 ...\n"
     ]
    },
    {
     "name": "stderr",
     "output_type": "stream",
     "text": [
      "\n",
      "100%|#################################################################################|2000/2000[00:36<00:00,54.18it/s]"
     ]
    },
    {
     "name": "stdout",
     "output_type": "stream",
     "text": [
      "\u001b[32m[0924 12:45:24 @base.py:285]\u001b[0m Epoch 259 (global_step 518000) finished, time:36.9 seconds.\n",
      "\u001b[32m[0924 12:45:24 @saver.py:79]\u001b[0m Model saved to ../output/Chicago/DATGAN_TEST/model\\model-518000.\n",
      "\u001b[32m[0924 12:45:24 @monitor.py:467]\u001b[0m GAN_loss/discrim/accuracy_fake: 0.89\n",
      "\u001b[32m[0924 12:45:24 @monitor.py:467]\u001b[0m GAN_loss/discrim/accuracy_real: 0.16\n",
      "\u001b[32m[0924 12:45:24 @monitor.py:467]\u001b[0m GAN_loss/discrim/loss: 0.63832\n",
      "\u001b[32m[0924 12:45:24 @monitor.py:467]\u001b[0m GAN_loss/gen/final-g-loss: 1.3098\n",
      "\u001b[32m[0924 12:45:24 @monitor.py:467]\u001b[0m GAN_loss/gen/klloss: 0.17725\n",
      "\u001b[32m[0924 12:45:24 @monitor.py:467]\u001b[0m GAN_loss/gen/loss: 1.1326\n",
      "\u001b[32m[0924 12:45:24 @monitor.py:467]\u001b[0m QueueInput/queue_size: 1.8367e-38\n",
      "\u001b[32m[0924 12:45:24 @monitor.py:467]\u001b[0m QueueInput_1/queue_size: 50\n",
      "\u001b[32m[0924 12:45:24 @base.py:275]\u001b[0m Start Epoch 260 ...\n"
     ]
    },
    {
     "name": "stderr",
     "output_type": "stream",
     "text": [
      "\n",
      "100%|#################################################################################|2000/2000[00:37<00:00,53.98it/s]"
     ]
    },
    {
     "name": "stdout",
     "output_type": "stream",
     "text": [
      "\u001b[32m[0924 12:46:01 @base.py:285]\u001b[0m Epoch 260 (global_step 520000) finished, time:37 seconds.\n",
      "\u001b[32m[0924 12:46:01 @saver.py:79]\u001b[0m Model saved to ../output/Chicago/DATGAN_TEST/model\\model-520000.\n",
      "\u001b[32m[0924 12:46:01 @monitor.py:467]\u001b[0m GAN_loss/discrim/accuracy_fake: 0.85\n"
     ]
    },
    {
     "name": "stderr",
     "output_type": "stream",
     "text": [
      "\n"
     ]
    },
    {
     "name": "stdout",
     "output_type": "stream",
     "text": [
      "\u001b[32m[0924 12:46:01 @monitor.py:467]\u001b[0m GAN_loss/discrim/accuracy_real: 0.135\n",
      "\u001b[32m[0924 12:46:01 @monitor.py:467]\u001b[0m GAN_loss/discrim/loss: 0.65347\n",
      "\u001b[32m[0924 12:46:01 @monitor.py:467]\u001b[0m GAN_loss/gen/final-g-loss: 1.364\n",
      "\u001b[32m[0924 12:46:01 @monitor.py:467]\u001b[0m GAN_loss/gen/klloss: 0.24549\n",
      "\u001b[32m[0924 12:46:01 @monitor.py:467]\u001b[0m GAN_loss/gen/loss: 1.1185\n",
      "\u001b[32m[0924 12:46:01 @monitor.py:467]\u001b[0m QueueInput/queue_size: 1.8367e-38\n",
      "\u001b[32m[0924 12:46:01 @monitor.py:467]\u001b[0m QueueInput_1/queue_size: 50\n",
      "\u001b[32m[0924 12:46:01 @base.py:275]\u001b[0m Start Epoch 261 ...\n"
     ]
    },
    {
     "name": "stderr",
     "output_type": "stream",
     "text": [
      "100%|#################################################################################|2000/2000[00:36<00:00,54.11it/s]"
     ]
    },
    {
     "name": "stdout",
     "output_type": "stream",
     "text": [
      "\u001b[32m[0924 12:46:38 @base.py:285]\u001b[0m Epoch 261 (global_step 522000) finished, time:37 seconds.\n",
      "\u001b[32m[0924 12:46:39 @saver.py:79]\u001b[0m Model saved to ../output/Chicago/DATGAN_TEST/model\\model-522000.\n",
      "\u001b[32m[0924 12:46:39 @monitor.py:467]\u001b[0m GAN_loss/discrim/accuracy_fake: 0.92\n",
      "\u001b[32m[0924 12:46:39 @monitor.py:467]\u001b[0m GAN_loss/discrim/accuracy_real: 0.16\n",
      "\u001b[32m[0924 12:46:39 @monitor.py:467]\u001b[0m GAN_loss/discrim/loss: 0.63868\n",
      "\u001b[32m[0924 12:46:39 @monitor.py:467]\u001b[0m GAN_loss/gen/final-g-loss: 1.3512\n",
      "\u001b[32m[0924 12:46:39 @monitor.py:467]\u001b[0m GAN_loss/gen/klloss: 0.21376\n",
      "\u001b[32m[0924 12:46:39 @monitor.py:467]\u001b[0m GAN_loss/gen/loss: 1.1374\n",
      "\u001b[32m[0924 12:46:39 @monitor.py:467]\u001b[0m QueueInput/queue_size: 1.8367e-38\n",
      "\u001b[32m[0924 12:46:39 @monitor.py:467]\u001b[0m QueueInput_1/queue_size: 50\n",
      "\u001b[32m[0924 12:46:39 @base.py:275]\u001b[0m Start Epoch 262 ...\n"
     ]
    },
    {
     "name": "stderr",
     "output_type": "stream",
     "text": [
      "\n",
      "100%|#################################################################################|2000/2000[00:37<00:00,54.05it/s]"
     ]
    },
    {
     "name": "stdout",
     "output_type": "stream",
     "text": [
      "\u001b[32m[0924 12:47:16 @base.py:285]\u001b[0m Epoch 262 (global_step 524000) finished, time:37 seconds.\n",
      "\u001b[32m[0924 12:47:16 @saver.py:79]\u001b[0m Model saved to ../output/Chicago/DATGAN_TEST/model\\model-524000.\n",
      "\u001b[32m[0924 12:47:16 @monitor.py:467]\u001b[0m GAN_loss/discrim/accuracy_fake: 0.9\n",
      "\u001b[32m[0924 12:47:16 @monitor.py:467]\u001b[0m GAN_loss/discrim/accuracy_real: 0.19\n",
      "\u001b[32m[0924 12:47:16 @monitor.py:467]\u001b[0m GAN_loss/discrim/loss: 0.63287\n",
      "\u001b[32m[0924 12:47:16 @monitor.py:467]\u001b[0m GAN_loss/gen/final-g-loss: 1.3003\n",
      "\u001b[32m[0924 12:47:16 @monitor.py:467]\u001b[0m GAN_loss/gen/klloss: 0.16521\n",
      "\u001b[32m[0924 12:47:16 @monitor.py:467]\u001b[0m GAN_loss/gen/loss: 1.1351\n",
      "\u001b[32m[0924 12:47:16 @monitor.py:467]\u001b[0m QueueInput/queue_size: 1.8367e-38\n",
      "\u001b[32m[0924 12:47:16 @monitor.py:467]\u001b[0m QueueInput_1/queue_size: 50\n",
      "\u001b[32m[0924 12:47:16 @base.py:275]\u001b[0m Start Epoch 263 ...\n"
     ]
    },
    {
     "name": "stderr",
     "output_type": "stream",
     "text": [
      "\n",
      "100%|#################################################################################|2000/2000[00:37<00:00,53.88it/s]"
     ]
    },
    {
     "name": "stdout",
     "output_type": "stream",
     "text": [
      "\u001b[32m[0924 12:47:53 @base.py:285]\u001b[0m Epoch 263 (global_step 526000) finished, time:37.1 seconds.\n",
      "\u001b[32m[0924 12:47:53 @saver.py:79]\u001b[0m Model saved to ../output/Chicago/DATGAN_TEST/model\\model-526000.\n",
      "\u001b[32m[0924 12:47:53 @monitor.py:467]\u001b[0m GAN_loss/discrim/accuracy_fake: 0.925\n",
      "\u001b[32m[0924 12:47:53 @monitor.py:467]\u001b[0m GAN_loss/discrim/accuracy_real: 0.105\n",
      "\u001b[32m[0924 12:47:53 @monitor.py:467]\u001b[0m GAN_loss/discrim/loss: 0.6446\n",
      "\u001b[32m[0924 12:47:53 @monitor.py:467]\u001b[0m GAN_loss/gen/final-g-loss: 1.3591\n",
      "\u001b[32m[0924 12:47:53 @monitor.py:467]\u001b[0m GAN_loss/gen/klloss: 0.21577\n",
      "\u001b[32m[0924 12:47:53 @monitor.py:467]\u001b[0m GAN_loss/gen/loss: 1.1433\n",
      "\u001b[32m[0924 12:47:53 @monitor.py:467]\u001b[0m QueueInput/queue_size: 1.8367e-38\n",
      "\u001b[32m[0924 12:47:53 @monitor.py:467]\u001b[0m QueueInput_1/queue_size: 50\n",
      "\u001b[32m[0924 12:47:53 @base.py:275]\u001b[0m Start Epoch 264 ...\n"
     ]
    },
    {
     "name": "stderr",
     "output_type": "stream",
     "text": [
      "\n",
      "100%|#################################################################################|2000/2000[00:37<00:00,53.99it/s]"
     ]
    },
    {
     "name": "stdout",
     "output_type": "stream",
     "text": [
      "\u001b[32m[0924 12:48:30 @base.py:285]\u001b[0m Epoch 264 (global_step 528000) finished, time:37 seconds.\n"
     ]
    },
    {
     "name": "stderr",
     "output_type": "stream",
     "text": [
      "\n"
     ]
    },
    {
     "name": "stdout",
     "output_type": "stream",
     "text": [
      "\u001b[32m[0924 12:48:30 @saver.py:79]\u001b[0m Model saved to ../output/Chicago/DATGAN_TEST/model\\model-528000.\n",
      "\u001b[32m[0924 12:48:30 @monitor.py:467]\u001b[0m GAN_loss/discrim/accuracy_fake: 0.935\n",
      "\u001b[32m[0924 12:48:30 @monitor.py:467]\u001b[0m GAN_loss/discrim/accuracy_real: 0.14\n",
      "\u001b[32m[0924 12:48:30 @monitor.py:467]\u001b[0m GAN_loss/discrim/loss: 0.64975\n",
      "\u001b[32m[0924 12:48:30 @monitor.py:467]\u001b[0m GAN_loss/gen/final-g-loss: 1.274\n",
      "\u001b[32m[0924 12:48:30 @monitor.py:467]\u001b[0m GAN_loss/gen/klloss: 0.14735\n",
      "\u001b[32m[0924 12:48:30 @monitor.py:467]\u001b[0m GAN_loss/gen/loss: 1.1267\n",
      "\u001b[32m[0924 12:48:30 @monitor.py:467]\u001b[0m QueueInput/queue_size: 1.8367e-38\n",
      "\u001b[32m[0924 12:48:30 @monitor.py:467]\u001b[0m QueueInput_1/queue_size: 50\n",
      "\u001b[32m[0924 12:48:30 @base.py:275]\u001b[0m Start Epoch 265 ...\n"
     ]
    },
    {
     "name": "stderr",
     "output_type": "stream",
     "text": [
      "100%|#################################################################################|2000/2000[00:37<00:00,53.99it/s]"
     ]
    },
    {
     "name": "stdout",
     "output_type": "stream",
     "text": [
      "\u001b[32m[0924 12:49:07 @base.py:285]\u001b[0m Epoch 265 (global_step 530000) finished, time:37 seconds.\n",
      "\u001b[32m[0924 12:49:07 @saver.py:79]\u001b[0m Model saved to ../output/Chicago/DATGAN_TEST/model\\model-530000.\n",
      "\u001b[32m[0924 12:49:07 @monitor.py:467]\u001b[0m GAN_loss/discrim/accuracy_fake: 0.925\n",
      "\u001b[32m[0924 12:49:07 @monitor.py:467]\u001b[0m GAN_loss/discrim/accuracy_real: 0.125\n",
      "\u001b[32m[0924 12:49:07 @monitor.py:467]\u001b[0m GAN_loss/discrim/loss: 0.6459\n",
      "\u001b[32m[0924 12:49:07 @monitor.py:467]\u001b[0m GAN_loss/gen/final-g-loss: 1.3553\n",
      "\u001b[32m[0924 12:49:07 @monitor.py:467]\u001b[0m GAN_loss/gen/klloss: 0.20963\n",
      "\u001b[32m[0924 12:49:07 @monitor.py:467]\u001b[0m GAN_loss/gen/loss: 1.1457\n",
      "\u001b[32m[0924 12:49:07 @monitor.py:467]\u001b[0m QueueInput/queue_size: 1.8367e-38\n",
      "\u001b[32m[0924 12:49:07 @monitor.py:467]\u001b[0m QueueInput_1/queue_size: 50\n",
      "\u001b[32m[0924 12:49:07 @base.py:275]\u001b[0m Start Epoch 266 ...\n"
     ]
    },
    {
     "name": "stderr",
     "output_type": "stream",
     "text": [
      "\n",
      "100%|#################################################################################|2000/2000[00:36<00:00,54.09it/s]"
     ]
    },
    {
     "name": "stdout",
     "output_type": "stream",
     "text": [
      "\u001b[32m[0924 12:49:44 @base.py:285]\u001b[0m Epoch 266 (global_step 532000) finished, time:37 seconds.\n",
      "\u001b[32m[0924 12:49:44 @saver.py:79]\u001b[0m Model saved to ../output/Chicago/DATGAN_TEST/model\\model-532000.\n",
      "\u001b[32m[0924 12:49:44 @monitor.py:467]\u001b[0m GAN_loss/discrim/accuracy_fake: 0.92\n",
      "\u001b[32m[0924 12:49:44 @monitor.py:467]\u001b[0m GAN_loss/discrim/accuracy_real: 0.135\n",
      "\u001b[32m[0924 12:49:44 @monitor.py:467]\u001b[0m GAN_loss/discrim/loss: 0.63719\n",
      "\u001b[32m[0924 12:49:44 @monitor.py:467]\u001b[0m GAN_loss/gen/final-g-loss: 1.3783\n",
      "\u001b[32m[0924 12:49:44 @monitor.py:467]\u001b[0m GAN_loss/gen/klloss: 0.20995\n",
      "\u001b[32m[0924 12:49:44 @monitor.py:467]\u001b[0m GAN_loss/gen/loss: 1.1684\n",
      "\u001b[32m[0924 12:49:44 @monitor.py:467]\u001b[0m QueueInput/queue_size: 1.8367e-38\n",
      "\u001b[32m[0924 12:49:44 @monitor.py:467]\u001b[0m QueueInput_1/queue_size: 50\n",
      "\u001b[32m[0924 12:49:44 @base.py:275]\u001b[0m Start Epoch 267 ...\n"
     ]
    },
    {
     "name": "stderr",
     "output_type": "stream",
     "text": [
      "\n",
      "100%|#################################################################################|2000/2000[00:37<00:00,53.82it/s]"
     ]
    },
    {
     "name": "stdout",
     "output_type": "stream",
     "text": [
      "\u001b[32m[0924 12:50:22 @base.py:285]\u001b[0m Epoch 267 (global_step 534000) finished, time:37.2 seconds.\n",
      "\u001b[32m[0924 12:50:22 @saver.py:79]\u001b[0m Model saved to ../output/Chicago/DATGAN_TEST/model\\model-534000.\n",
      "\u001b[32m[0924 12:50:22 @monitor.py:467]\u001b[0m GAN_loss/discrim/accuracy_fake: 0.92\n"
     ]
    },
    {
     "name": "stderr",
     "output_type": "stream",
     "text": [
      "\n"
     ]
    },
    {
     "name": "stdout",
     "output_type": "stream",
     "text": [
      "\u001b[32m[0924 12:50:22 @monitor.py:467]\u001b[0m GAN_loss/discrim/accuracy_real: 0.19\n",
      "\u001b[32m[0924 12:50:22 @monitor.py:467]\u001b[0m GAN_loss/discrim/loss: 0.63728\n",
      "\u001b[32m[0924 12:50:22 @monitor.py:467]\u001b[0m GAN_loss/gen/final-g-loss: 1.4134\n",
      "\u001b[32m[0924 12:50:22 @monitor.py:467]\u001b[0m GAN_loss/gen/klloss: 0.26021\n",
      "\u001b[32m[0924 12:50:22 @monitor.py:467]\u001b[0m GAN_loss/gen/loss: 1.1532\n",
      "\u001b[32m[0924 12:50:22 @monitor.py:467]\u001b[0m QueueInput/queue_size: 1.8367e-38\n",
      "\u001b[32m[0924 12:50:22 @monitor.py:467]\u001b[0m QueueInput_1/queue_size: 50\n",
      "\u001b[32m[0924 12:50:22 @base.py:275]\u001b[0m Start Epoch 268 ...\n"
     ]
    },
    {
     "name": "stderr",
     "output_type": "stream",
     "text": [
      "100%|#################################################################################|2000/2000[00:36<00:00,54.07it/s]"
     ]
    },
    {
     "name": "stdout",
     "output_type": "stream",
     "text": [
      "\u001b[32m[0924 12:50:59 @base.py:285]\u001b[0m Epoch 268 (global_step 536000) finished, time:37 seconds.\n",
      "\u001b[32m[0924 12:50:59 @saver.py:79]\u001b[0m Model saved to ../output/Chicago/DATGAN_TEST/model\\model-536000.\n",
      "\u001b[32m[0924 12:50:59 @monitor.py:467]\u001b[0m GAN_loss/discrim/accuracy_fake: 0.9\n",
      "\u001b[32m[0924 12:50:59 @monitor.py:467]\u001b[0m GAN_loss/discrim/accuracy_real: 0.125\n",
      "\u001b[32m[0924 12:50:59 @monitor.py:467]\u001b[0m GAN_loss/discrim/loss: 0.64835\n",
      "\u001b[32m[0924 12:50:59 @monitor.py:467]\u001b[0m GAN_loss/gen/final-g-loss: 1.4171\n",
      "\u001b[32m[0924 12:50:59 @monitor.py:467]\u001b[0m GAN_loss/gen/klloss: 0.26159\n",
      "\u001b[32m[0924 12:50:59 @monitor.py:467]\u001b[0m GAN_loss/gen/loss: 1.1555\n",
      "\u001b[32m[0924 12:50:59 @monitor.py:467]\u001b[0m QueueInput/queue_size: 1.8367e-38\n",
      "\u001b[32m[0924 12:50:59 @monitor.py:467]\u001b[0m QueueInput_1/queue_size: 50\n",
      "\u001b[32m[0924 12:50:59 @base.py:275]\u001b[0m Start Epoch 269 ...\n"
     ]
    },
    {
     "name": "stderr",
     "output_type": "stream",
     "text": [
      "\n",
      "100%|#################################################################################|2000/2000[00:37<00:00,53.95it/s]"
     ]
    },
    {
     "name": "stdout",
     "output_type": "stream",
     "text": [
      "\u001b[32m[0924 12:51:36 @base.py:285]\u001b[0m Epoch 269 (global_step 538000) finished, time:37.1 seconds.\n",
      "\u001b[32m[0924 12:51:36 @saver.py:79]\u001b[0m Model saved to ../output/Chicago/DATGAN_TEST/model\\model-538000.\n"
     ]
    },
    {
     "name": "stderr",
     "output_type": "stream",
     "text": [
      "\n"
     ]
    },
    {
     "name": "stdout",
     "output_type": "stream",
     "text": [
      "\u001b[32m[0924 12:51:36 @monitor.py:467]\u001b[0m GAN_loss/discrim/accuracy_fake: 0.905\n",
      "\u001b[32m[0924 12:51:36 @monitor.py:467]\u001b[0m GAN_loss/discrim/accuracy_real: 0.175\n",
      "\u001b[32m[0924 12:51:36 @monitor.py:467]\u001b[0m GAN_loss/discrim/loss: 0.64051\n",
      "\u001b[32m[0924 12:51:36 @monitor.py:467]\u001b[0m GAN_loss/gen/final-g-loss: 1.363\n",
      "\u001b[32m[0924 12:51:36 @monitor.py:467]\u001b[0m GAN_loss/gen/klloss: 0.20991\n",
      "\u001b[32m[0924 12:51:36 @monitor.py:467]\u001b[0m GAN_loss/gen/loss: 1.153\n",
      "\u001b[32m[0924 12:51:36 @monitor.py:467]\u001b[0m QueueInput/queue_size: 1.8367e-38\n",
      "\u001b[32m[0924 12:51:36 @monitor.py:467]\u001b[0m QueueInput_1/queue_size: 50\n",
      "\u001b[32m[0924 12:51:36 @base.py:275]\u001b[0m Start Epoch 270 ...\n"
     ]
    },
    {
     "name": "stderr",
     "output_type": "stream",
     "text": [
      "100%|#################################################################################|2000/2000[00:37<00:00,53.83it/s]"
     ]
    },
    {
     "name": "stdout",
     "output_type": "stream",
     "text": [
      "\u001b[32m[0924 12:52:13 @base.py:285]\u001b[0m Epoch 270 (global_step 540000) finished, time:37.2 seconds.\n",
      "\u001b[32m[0924 12:52:13 @saver.py:79]\u001b[0m Model saved to ../output/Chicago/DATGAN_TEST/model\\model-540000.\n",
      "\u001b[32m[0924 12:52:13 @monitor.py:467]\u001b[0m GAN_loss/discrim/accuracy_fake: 0.905\n",
      "\u001b[32m[0924 12:52:13 @monitor.py:467]\u001b[0m GAN_loss/discrim/accuracy_real: 0.17\n",
      "\u001b[32m[0924 12:52:13 @monitor.py:467]\u001b[0m GAN_loss/discrim/loss: 0.6402\n",
      "\u001b[32m[0924 12:52:13 @monitor.py:467]\u001b[0m GAN_loss/gen/final-g-loss: 1.2842\n",
      "\u001b[32m[0924 12:52:13 @monitor.py:467]\u001b[0m GAN_loss/gen/klloss: 0.13994\n",
      "\u001b[32m[0924 12:52:13 @monitor.py:467]\u001b[0m GAN_loss/gen/loss: 1.1443\n",
      "\u001b[32m[0924 12:52:13 @monitor.py:467]\u001b[0m QueueInput/queue_size: 1.8367e-38\n",
      "\u001b[32m[0924 12:52:13 @monitor.py:467]\u001b[0m QueueInput_1/queue_size: 50\n",
      "\u001b[32m[0924 12:52:13 @base.py:275]\u001b[0m Start Epoch 271 ...\n"
     ]
    },
    {
     "name": "stderr",
     "output_type": "stream",
     "text": [
      "\n",
      "100%|#################################################################################|2000/2000[00:37<00:00,53.99it/s]"
     ]
    },
    {
     "name": "stdout",
     "output_type": "stream",
     "text": [
      "\u001b[32m[0924 12:52:50 @base.py:285]\u001b[0m Epoch 271 (global_step 542000) finished, time:37 seconds.\n",
      "\u001b[32m[0924 12:52:50 @saver.py:79]\u001b[0m Model saved to ../output/Chicago/DATGAN_TEST/model\\model-542000.\n",
      "\u001b[32m[0924 12:52:50 @monitor.py:467]\u001b[0m GAN_loss/discrim/accuracy_fake: 0.91\n",
      "\u001b[32m[0924 12:52:50 @monitor.py:467]\u001b[0m GAN_loss/discrim/accuracy_real: 0.125\n",
      "\u001b[32m[0924 12:52:50 @monitor.py:467]\u001b[0m GAN_loss/discrim/loss: 0.65008\n",
      "\u001b[32m[0924 12:52:50 @monitor.py:467]\u001b[0m GAN_loss/gen/final-g-loss: 1.4442\n",
      "\u001b[32m[0924 12:52:50 @monitor.py:467]\u001b[0m GAN_loss/gen/klloss: 0.29693\n",
      "\u001b[32m[0924 12:52:50 @monitor.py:467]\u001b[0m GAN_loss/gen/loss: 1.1473\n",
      "\u001b[32m[0924 12:52:50 @monitor.py:467]\u001b[0m QueueInput/queue_size: 1.8367e-38\n",
      "\u001b[32m[0924 12:52:50 @monitor.py:467]\u001b[0m QueueInput_1/queue_size: 50\n",
      "\u001b[32m[0924 12:52:50 @base.py:275]\u001b[0m Start Epoch 272 ...\n"
     ]
    },
    {
     "name": "stderr",
     "output_type": "stream",
     "text": [
      "\n",
      "100%|#################################################################################|2000/2000[00:36<00:00,54.26it/s]"
     ]
    },
    {
     "name": "stdout",
     "output_type": "stream",
     "text": [
      "\u001b[32m[0924 12:53:27 @base.py:285]\u001b[0m Epoch 272 (global_step 544000) finished, time:36.9 seconds.\n",
      "\u001b[32m[0924 12:53:27 @saver.py:79]\u001b[0m Model saved to ../output/Chicago/DATGAN_TEST/model\\model-544000.\n",
      "\u001b[32m[0924 12:53:27 @monitor.py:467]\u001b[0m GAN_loss/discrim/accuracy_fake: 0.935\n",
      "\u001b[32m[0924 12:53:27 @monitor.py:467]\u001b[0m GAN_loss/discrim/accuracy_real: 0.13\n",
      "\u001b[32m[0924 12:53:27 @monitor.py:467]\u001b[0m GAN_loss/discrim/loss: 0.63426\n",
      "\u001b[32m[0924 12:53:27 @monitor.py:467]\u001b[0m GAN_loss/gen/final-g-loss: 1.3326\n",
      "\u001b[32m[0924 12:53:27 @monitor.py:467]\u001b[0m GAN_loss/gen/klloss: 0.19519\n",
      "\u001b[32m[0924 12:53:27 @monitor.py:467]\u001b[0m GAN_loss/gen/loss: 1.1374\n",
      "\u001b[32m[0924 12:53:27 @monitor.py:467]\u001b[0m QueueInput/queue_size: 1.8367e-38\n",
      "\u001b[32m[0924 12:53:27 @monitor.py:467]\u001b[0m QueueInput_1/queue_size: 50\n",
      "\u001b[32m[0924 12:53:27 @base.py:275]\u001b[0m Start Epoch 273 ...\n"
     ]
    },
    {
     "name": "stderr",
     "output_type": "stream",
     "text": [
      "\n",
      "100%|#################################################################################|2000/2000[00:37<00:00,53.93it/s]"
     ]
    },
    {
     "name": "stdout",
     "output_type": "stream",
     "text": [
      "\u001b[32m[0924 12:54:05 @base.py:285]\u001b[0m Epoch 273 (global_step 546000) finished, time:37.1 seconds.\n",
      "\u001b[32m[0924 12:54:05 @saver.py:79]\u001b[0m Model saved to ../output/Chicago/DATGAN_TEST/model\\model-546000.\n",
      "\u001b[32m[0924 12:54:05 @monitor.py:467]\u001b[0m GAN_loss/discrim/accuracy_fake: 0.935\n",
      "\u001b[32m[0924 12:54:05 @monitor.py:467]\u001b[0m GAN_loss/discrim/accuracy_real: 0.165\n",
      "\u001b[32m[0924 12:54:05 @monitor.py:467]\u001b[0m GAN_loss/discrim/loss: 0.64225\n",
      "\u001b[32m[0924 12:54:05 @monitor.py:467]\u001b[0m GAN_loss/gen/final-g-loss: 1.3867\n",
      "\u001b[32m[0924 12:54:05 @monitor.py:467]\u001b[0m GAN_loss/gen/klloss: 0.2307\n",
      "\u001b[32m[0924 12:54:05 @monitor.py:467]\u001b[0m GAN_loss/gen/loss: 1.156\n",
      "\u001b[32m[0924 12:54:05 @monitor.py:467]\u001b[0m QueueInput/queue_size: 1.8367e-38\n",
      "\u001b[32m[0924 12:54:05 @monitor.py:467]\u001b[0m QueueInput_1/queue_size: 50\n",
      "\u001b[32m[0924 12:54:05 @base.py:275]\u001b[0m Start Epoch 274 ...\n"
     ]
    },
    {
     "name": "stderr",
     "output_type": "stream",
     "text": [
      "\n",
      "100%|#################################################################################|2000/2000[00:37<00:00,53.95it/s]"
     ]
    },
    {
     "name": "stdout",
     "output_type": "stream",
     "text": [
      "\u001b[32m[0924 12:54:42 @base.py:285]\u001b[0m Epoch 274 (global_step 548000) finished, time:37.1 seconds.\n"
     ]
    },
    {
     "name": "stderr",
     "output_type": "stream",
     "text": [
      "\n"
     ]
    },
    {
     "name": "stdout",
     "output_type": "stream",
     "text": [
      "\u001b[32m[0924 12:54:42 @saver.py:79]\u001b[0m Model saved to ../output/Chicago/DATGAN_TEST/model\\model-548000.\n",
      "\u001b[32m[0924 12:54:42 @monitor.py:467]\u001b[0m GAN_loss/discrim/accuracy_fake: 0.92\n",
      "\u001b[32m[0924 12:54:42 @monitor.py:467]\u001b[0m GAN_loss/discrim/accuracy_real: 0.225\n",
      "\u001b[32m[0924 12:54:42 @monitor.py:467]\u001b[0m GAN_loss/discrim/loss: 0.6341\n",
      "\u001b[32m[0924 12:54:42 @monitor.py:467]\u001b[0m GAN_loss/gen/final-g-loss: 1.3179\n",
      "\u001b[32m[0924 12:54:42 @monitor.py:467]\u001b[0m GAN_loss/gen/klloss: 0.16754\n",
      "\u001b[32m[0924 12:54:42 @monitor.py:467]\u001b[0m GAN_loss/gen/loss: 1.1504\n",
      "\u001b[32m[0924 12:54:42 @monitor.py:467]\u001b[0m QueueInput/queue_size: 1.8367e-38\n",
      "\u001b[32m[0924 12:54:42 @monitor.py:467]\u001b[0m QueueInput_1/queue_size: 50\n",
      "\u001b[32m[0924 12:54:42 @base.py:275]\u001b[0m Start Epoch 275 ...\n"
     ]
    },
    {
     "name": "stderr",
     "output_type": "stream",
     "text": [
      "100%|#################################################################################|2000/2000[00:37<00:00,53.77it/s]"
     ]
    },
    {
     "name": "stdout",
     "output_type": "stream",
     "text": [
      "\u001b[32m[0924 12:55:19 @base.py:285]\u001b[0m Epoch 275 (global_step 550000) finished, time:37.2 seconds.\n",
      "\u001b[32m[0924 12:55:19 @saver.py:79]\u001b[0m Model saved to ../output/Chicago/DATGAN_TEST/model\\model-550000.\n",
      "\u001b[32m[0924 12:55:19 @monitor.py:467]\u001b[0m GAN_loss/discrim/accuracy_fake: 0.925\n",
      "\u001b[32m[0924 12:55:19 @monitor.py:467]\u001b[0m GAN_loss/discrim/accuracy_real: 0.2\n",
      "\u001b[32m[0924 12:55:19 @monitor.py:467]\u001b[0m GAN_loss/discrim/loss: 0.63667\n",
      "\u001b[32m[0924 12:55:19 @monitor.py:467]\u001b[0m GAN_loss/gen/final-g-loss: 1.4269\n",
      "\u001b[32m[0924 12:55:19 @monitor.py:467]\u001b[0m GAN_loss/gen/klloss: 0.26979\n",
      "\u001b[32m[0924 12:55:19 @monitor.py:467]\u001b[0m GAN_loss/gen/loss: 1.1571\n",
      "\u001b[32m[0924 12:55:19 @monitor.py:467]\u001b[0m QueueInput/queue_size: 1.8367e-38\n",
      "\u001b[32m[0924 12:55:19 @monitor.py:467]\u001b[0m QueueInput_1/queue_size: 50\n",
      "\u001b[32m[0924 12:55:19 @base.py:275]\u001b[0m Start Epoch 276 ...\n"
     ]
    },
    {
     "name": "stderr",
     "output_type": "stream",
     "text": [
      "\n",
      "100%|#################################################################################|2000/2000[00:36<00:00,54.21it/s]"
     ]
    },
    {
     "name": "stdout",
     "output_type": "stream",
     "text": [
      "\u001b[32m[0924 12:55:56 @base.py:285]\u001b[0m Epoch 276 (global_step 552000) finished, time:36.9 seconds.\n",
      "\u001b[32m[0924 12:55:56 @saver.py:79]\u001b[0m Model saved to ../output/Chicago/DATGAN_TEST/model\\model-552000.\n",
      "\u001b[32m[0924 12:55:56 @monitor.py:467]\u001b[0m GAN_loss/discrim/accuracy_fake: 0.895\n",
      "\u001b[32m[0924 12:55:56 @monitor.py:467]\u001b[0m GAN_loss/discrim/accuracy_real: 0.155\n",
      "\u001b[32m[0924 12:55:56 @monitor.py:467]\u001b[0m GAN_loss/discrim/loss: 0.64074\n",
      "\u001b[32m[0924 12:55:56 @monitor.py:467]\u001b[0m GAN_loss/gen/final-g-loss: 1.3604\n",
      "\u001b[32m[0924 12:55:56 @monitor.py:467]\u001b[0m GAN_loss/gen/klloss: 0.21812\n",
      "\u001b[32m[0924 12:55:56 @monitor.py:467]\u001b[0m GAN_loss/gen/loss: 1.1423\n",
      "\u001b[32m[0924 12:55:56 @monitor.py:467]\u001b[0m QueueInput/queue_size: 1.8367e-38\n",
      "\u001b[32m[0924 12:55:56 @monitor.py:467]\u001b[0m QueueInput_1/queue_size: 50\n",
      "\u001b[32m[0924 12:55:56 @base.py:275]\u001b[0m Start Epoch 277 ...\n"
     ]
    },
    {
     "name": "stderr",
     "output_type": "stream",
     "text": [
      "\n",
      "100%|#################################################################################|2000/2000[00:36<00:00,54.08it/s]"
     ]
    },
    {
     "name": "stdout",
     "output_type": "stream",
     "text": [
      "\u001b[32m[0924 12:56:33 @base.py:285]\u001b[0m Epoch 277 (global_step 554000) finished, time:37 seconds.\n",
      "\u001b[32m[0924 12:56:33 @saver.py:79]\u001b[0m Model saved to ../output/Chicago/DATGAN_TEST/model\\model-554000.\n",
      "\u001b[32m[0924 12:56:33 @monitor.py:467]\u001b[0m GAN_loss/discrim/accuracy_fake: 0.935\n",
      "\u001b[32m[0924 12:56:33 @monitor.py:467]\u001b[0m GAN_loss/discrim/accuracy_real: 0.155\n",
      "\u001b[32m[0924 12:56:33 @monitor.py:467]\u001b[0m GAN_loss/discrim/loss: 0.64358\n",
      "\u001b[32m[0924 12:56:33 @monitor.py:467]\u001b[0m GAN_loss/gen/final-g-loss: 1.3498\n",
      "\u001b[32m[0924 12:56:33 @monitor.py:467]\u001b[0m GAN_loss/gen/klloss: 0.21093\n",
      "\u001b[32m[0924 12:56:33 @monitor.py:467]\u001b[0m GAN_loss/gen/loss: 1.1389\n",
      "\u001b[32m[0924 12:56:33 @monitor.py:467]\u001b[0m QueueInput/queue_size: 1.8367e-38\n",
      "\u001b[32m[0924 12:56:33 @monitor.py:467]\u001b[0m QueueInput_1/queue_size: 50\n",
      "\u001b[32m[0924 12:56:33 @base.py:275]\u001b[0m Start Epoch 278 ...\n"
     ]
    },
    {
     "name": "stderr",
     "output_type": "stream",
     "text": [
      "\n",
      "100%|#################################################################################|2000/2000[00:37<00:00,53.96it/s]"
     ]
    },
    {
     "name": "stdout",
     "output_type": "stream",
     "text": [
      "\u001b[32m[0924 12:57:10 @base.py:285]\u001b[0m Epoch 278 (global_step 556000) finished, time:37.1 seconds.\n",
      "\u001b[32m[0924 12:57:10 @saver.py:79]\u001b[0m Model saved to ../output/Chicago/DATGAN_TEST/model\\model-556000.\n"
     ]
    },
    {
     "name": "stderr",
     "output_type": "stream",
     "text": [
      "\n"
     ]
    },
    {
     "name": "stdout",
     "output_type": "stream",
     "text": [
      "\u001b[32m[0924 12:57:11 @monitor.py:467]\u001b[0m GAN_loss/discrim/accuracy_fake: 0.92\n",
      "\u001b[32m[0924 12:57:11 @monitor.py:467]\u001b[0m GAN_loss/discrim/accuracy_real: 0.16\n",
      "\u001b[32m[0924 12:57:11 @monitor.py:467]\u001b[0m GAN_loss/discrim/loss: 0.64511\n",
      "\u001b[32m[0924 12:57:11 @monitor.py:467]\u001b[0m GAN_loss/gen/final-g-loss: 1.3909\n",
      "\u001b[32m[0924 12:57:11 @monitor.py:467]\u001b[0m GAN_loss/gen/klloss: 0.24847\n",
      "\u001b[32m[0924 12:57:11 @monitor.py:467]\u001b[0m GAN_loss/gen/loss: 1.1425\n",
      "\u001b[32m[0924 12:57:11 @monitor.py:467]\u001b[0m QueueInput/queue_size: 1.8367e-38\n",
      "\u001b[32m[0924 12:57:11 @monitor.py:467]\u001b[0m QueueInput_1/queue_size: 50\n",
      "\u001b[32m[0924 12:57:11 @base.py:275]\u001b[0m Start Epoch 279 ...\n"
     ]
    },
    {
     "name": "stderr",
     "output_type": "stream",
     "text": [
      "100%|#################################################################################|2000/2000[00:37<00:00,53.98it/s]"
     ]
    },
    {
     "name": "stdout",
     "output_type": "stream",
     "text": [
      "\u001b[32m[0924 12:57:48 @base.py:285]\u001b[0m Epoch 279 (global_step 558000) finished, time:37 seconds.\n"
     ]
    },
    {
     "name": "stderr",
     "output_type": "stream",
     "text": [
      "\n"
     ]
    },
    {
     "name": "stdout",
     "output_type": "stream",
     "text": [
      "\u001b[32m[0924 12:57:48 @saver.py:79]\u001b[0m Model saved to ../output/Chicago/DATGAN_TEST/model\\model-558000.\n",
      "\u001b[32m[0924 12:57:48 @monitor.py:467]\u001b[0m GAN_loss/discrim/accuracy_fake: 0.93\n",
      "\u001b[32m[0924 12:57:48 @monitor.py:467]\u001b[0m GAN_loss/discrim/accuracy_real: 0.15\n",
      "\u001b[32m[0924 12:57:48 @monitor.py:467]\u001b[0m GAN_loss/discrim/loss: 0.64847\n",
      "\u001b[32m[0924 12:57:48 @monitor.py:467]\u001b[0m GAN_loss/gen/final-g-loss: 1.3739\n",
      "\u001b[32m[0924 12:57:48 @monitor.py:467]\u001b[0m GAN_loss/gen/klloss: 0.23125\n",
      "\u001b[32m[0924 12:57:48 @monitor.py:467]\u001b[0m GAN_loss/gen/loss: 1.1427\n",
      "\u001b[32m[0924 12:57:48 @monitor.py:467]\u001b[0m QueueInput/queue_size: 1.8367e-38\n",
      "\u001b[32m[0924 12:57:48 @monitor.py:467]\u001b[0m QueueInput_1/queue_size: 50\n",
      "\u001b[32m[0924 12:57:48 @base.py:275]\u001b[0m Start Epoch 280 ...\n"
     ]
    },
    {
     "name": "stderr",
     "output_type": "stream",
     "text": [
      "100%|#################################################################################|2000/2000[00:37<00:00,53.98it/s]"
     ]
    },
    {
     "name": "stdout",
     "output_type": "stream",
     "text": [
      "\u001b[32m[0924 12:58:25 @base.py:285]\u001b[0m Epoch 280 (global_step 560000) finished, time:37.1 seconds.\n"
     ]
    },
    {
     "name": "stderr",
     "output_type": "stream",
     "text": [
      "\n"
     ]
    },
    {
     "name": "stdout",
     "output_type": "stream",
     "text": [
      "\u001b[32m[0924 12:58:25 @saver.py:79]\u001b[0m Model saved to ../output/Chicago/DATGAN_TEST/model\\model-560000.\n",
      "\u001b[32m[0924 12:58:25 @monitor.py:467]\u001b[0m GAN_loss/discrim/accuracy_fake: 0.92\n",
      "\u001b[32m[0924 12:58:25 @monitor.py:467]\u001b[0m GAN_loss/discrim/accuracy_real: 0.18\n",
      "\u001b[32m[0924 12:58:25 @monitor.py:467]\u001b[0m GAN_loss/discrim/loss: 0.63779\n",
      "\u001b[32m[0924 12:58:25 @monitor.py:467]\u001b[0m GAN_loss/gen/final-g-loss: 1.3663\n",
      "\u001b[32m[0924 12:58:25 @monitor.py:467]\u001b[0m GAN_loss/gen/klloss: 0.23207\n",
      "\u001b[32m[0924 12:58:25 @monitor.py:467]\u001b[0m GAN_loss/gen/loss: 1.1342\n",
      "\u001b[32m[0924 12:58:25 @monitor.py:467]\u001b[0m QueueInput/queue_size: 1.8367e-38\n",
      "\u001b[32m[0924 12:58:25 @monitor.py:467]\u001b[0m QueueInput_1/queue_size: 50\n",
      "\u001b[32m[0924 12:58:25 @base.py:275]\u001b[0m Start Epoch 281 ...\n"
     ]
    },
    {
     "name": "stderr",
     "output_type": "stream",
     "text": [
      "100%|#################################################################################|2000/2000[00:36<00:00,54.10it/s]"
     ]
    },
    {
     "name": "stdout",
     "output_type": "stream",
     "text": [
      "\u001b[32m[0924 12:59:02 @base.py:285]\u001b[0m Epoch 281 (global_step 562000) finished, time:37 seconds.\n",
      "\u001b[32m[0924 12:59:02 @saver.py:79]\u001b[0m Model saved to ../output/Chicago/DATGAN_TEST/model\\model-562000.\n",
      "\u001b[32m[0924 12:59:02 @monitor.py:467]\u001b[0m GAN_loss/discrim/accuracy_fake: 0.92\n"
     ]
    },
    {
     "name": "stderr",
     "output_type": "stream",
     "text": [
      "\n"
     ]
    },
    {
     "name": "stdout",
     "output_type": "stream",
     "text": [
      "\u001b[32m[0924 12:59:02 @monitor.py:467]\u001b[0m GAN_loss/discrim/accuracy_real: 0.155\n",
      "\u001b[32m[0924 12:59:02 @monitor.py:467]\u001b[0m GAN_loss/discrim/loss: 0.65065\n",
      "\u001b[32m[0924 12:59:02 @monitor.py:467]\u001b[0m GAN_loss/gen/final-g-loss: 1.3944\n",
      "\u001b[32m[0924 12:59:02 @monitor.py:467]\u001b[0m GAN_loss/gen/klloss: 0.25274\n",
      "\u001b[32m[0924 12:59:02 @monitor.py:467]\u001b[0m GAN_loss/gen/loss: 1.1417\n",
      "\u001b[32m[0924 12:59:02 @monitor.py:467]\u001b[0m QueueInput/queue_size: 1.8367e-38\n",
      "\u001b[32m[0924 12:59:02 @monitor.py:467]\u001b[0m QueueInput_1/queue_size: 50\n",
      "\u001b[32m[0924 12:59:02 @base.py:275]\u001b[0m Start Epoch 282 ...\n"
     ]
    },
    {
     "name": "stderr",
     "output_type": "stream",
     "text": [
      "100%|#################################################################################|2000/2000[00:36<00:00,54.08it/s]"
     ]
    },
    {
     "name": "stdout",
     "output_type": "stream",
     "text": [
      "\u001b[32m[0924 12:59:39 @base.py:285]\u001b[0m Epoch 282 (global_step 564000) finished, time:37 seconds.\n",
      "\u001b[32m[0924 12:59:39 @saver.py:79]\u001b[0m Model saved to ../output/Chicago/DATGAN_TEST/model\\model-564000.\n",
      "\u001b[32m[0924 12:59:39 @monitor.py:467]\u001b[0m GAN_loss/discrim/accuracy_fake: 0.94\n",
      "\u001b[32m[0924 12:59:39 @monitor.py:467]\u001b[0m GAN_loss/discrim/accuracy_real: 0.16\n",
      "\u001b[32m[0924 12:59:39 @monitor.py:467]\u001b[0m GAN_loss/discrim/loss: 0.63925\n",
      "\u001b[32m[0924 12:59:39 @monitor.py:467]\u001b[0m GAN_loss/gen/final-g-loss: 1.4044\n",
      "\u001b[32m[0924 12:59:39 @monitor.py:467]\u001b[0m GAN_loss/gen/klloss: 0.24582\n",
      "\u001b[32m[0924 12:59:39 @monitor.py:467]\u001b[0m GAN_loss/gen/loss: 1.1586\n",
      "\u001b[32m[0924 12:59:39 @monitor.py:467]\u001b[0m QueueInput/queue_size: 1.8367e-38\n",
      "\u001b[32m[0924 12:59:39 @monitor.py:467]\u001b[0m QueueInput_1/queue_size: 50\n",
      "\u001b[32m[0924 12:59:39 @base.py:275]\u001b[0m Start Epoch 283 ...\n"
     ]
    },
    {
     "name": "stderr",
     "output_type": "stream",
     "text": [
      "\n",
      "100%|#################################################################################|2000/2000[00:37<00:00,53.55it/s]"
     ]
    },
    {
     "name": "stdout",
     "output_type": "stream",
     "text": [
      "\u001b[32m[0924 13:00:16 @base.py:285]\u001b[0m Epoch 283 (global_step 566000) finished, time:37.3 seconds.\n",
      "\u001b[32m[0924 13:00:17 @saver.py:79]\u001b[0m Model saved to ../output/Chicago/DATGAN_TEST/model\\model-566000.\n",
      "\u001b[32m[0924 13:00:17 @monitor.py:467]\u001b[0m GAN_loss/discrim/accuracy_fake: 0.915\n",
      "\u001b[32m[0924 13:00:17 @monitor.py:467]\u001b[0m GAN_loss/discrim/accuracy_real: 0.145\n",
      "\u001b[32m[0924 13:00:17 @monitor.py:467]\u001b[0m GAN_loss/discrim/loss: 0.63821\n",
      "\u001b[32m[0924 13:00:17 @monitor.py:467]\u001b[0m GAN_loss/gen/final-g-loss: 1.2988\n",
      "\u001b[32m[0924 13:00:17 @monitor.py:467]\u001b[0m GAN_loss/gen/klloss: 0.17098\n",
      "\u001b[32m[0924 13:00:17 @monitor.py:467]\u001b[0m GAN_loss/gen/loss: 1.1278\n",
      "\u001b[32m[0924 13:00:17 @monitor.py:467]\u001b[0m QueueInput/queue_size: 1.8367e-38\n",
      "\u001b[32m[0924 13:00:17 @monitor.py:467]\u001b[0m QueueInput_1/queue_size: 50\n",
      "\u001b[32m[0924 13:00:17 @base.py:275]\u001b[0m Start Epoch 284 ...\n"
     ]
    },
    {
     "name": "stderr",
     "output_type": "stream",
     "text": [
      "\n",
      "100%|#################################################################################|2000/2000[00:37<00:00,53.82it/s]"
     ]
    },
    {
     "name": "stdout",
     "output_type": "stream",
     "text": [
      "\u001b[32m[0924 13:00:54 @base.py:285]\u001b[0m Epoch 284 (global_step 568000) finished, time:37.2 seconds.\n",
      "\u001b[32m[0924 13:00:54 @saver.py:79]\u001b[0m Model saved to ../output/Chicago/DATGAN_TEST/model\\model-568000.\n",
      "\u001b[32m[0924 13:00:54 @monitor.py:467]\u001b[0m GAN_loss/discrim/accuracy_fake: 0.88\n",
      "\u001b[32m[0924 13:00:54 @monitor.py:467]\u001b[0m GAN_loss/discrim/accuracy_real: 0.16\n",
      "\u001b[32m[0924 13:00:54 @monitor.py:467]\u001b[0m GAN_loss/discrim/loss: 0.65172\n",
      "\u001b[32m[0924 13:00:54 @monitor.py:467]\u001b[0m GAN_loss/gen/final-g-loss: 1.2925\n",
      "\u001b[32m[0924 13:00:54 @monitor.py:467]\u001b[0m GAN_loss/gen/klloss: 0.17065\n",
      "\u001b[32m[0924 13:00:54 @monitor.py:467]\u001b[0m GAN_loss/gen/loss: 1.1219\n",
      "\u001b[32m[0924 13:00:54 @monitor.py:467]\u001b[0m QueueInput/queue_size: 1.8367e-38\n",
      "\u001b[32m[0924 13:00:54 @monitor.py:467]\u001b[0m QueueInput_1/queue_size: 50\n",
      "\u001b[32m[0924 13:00:54 @base.py:275]\u001b[0m Start Epoch 285 ...\n"
     ]
    },
    {
     "name": "stderr",
     "output_type": "stream",
     "text": [
      "\n",
      "100%|#################################################################################|2000/2000[00:37<00:00,53.88it/s]"
     ]
    },
    {
     "name": "stdout",
     "output_type": "stream",
     "text": [
      "\u001b[32m[0924 13:01:31 @base.py:285]\u001b[0m Epoch 285 (global_step 570000) finished, time:37.1 seconds.\n",
      "\u001b[32m[0924 13:01:31 @saver.py:79]\u001b[0m Model saved to ../output/Chicago/DATGAN_TEST/model\\model-570000.\n",
      "\u001b[32m[0924 13:01:31 @monitor.py:467]\u001b[0m GAN_loss/discrim/accuracy_fake: 0.925\n",
      "\u001b[32m[0924 13:01:31 @monitor.py:467]\u001b[0m GAN_loss/discrim/accuracy_real: 0.195\n",
      "\u001b[32m[0924 13:01:31 @monitor.py:467]\u001b[0m GAN_loss/discrim/loss: 0.63557\n",
      "\u001b[32m[0924 13:01:31 @monitor.py:467]\u001b[0m GAN_loss/gen/final-g-loss: 1.3429\n",
      "\u001b[32m[0924 13:01:31 @monitor.py:467]\u001b[0m GAN_loss/gen/klloss: 0.20216\n",
      "\u001b[32m[0924 13:01:31 @monitor.py:467]\u001b[0m GAN_loss/gen/loss: 1.1408\n",
      "\u001b[32m[0924 13:01:31 @monitor.py:467]\u001b[0m QueueInput/queue_size: 1.8367e-38\n",
      "\u001b[32m[0924 13:01:31 @monitor.py:467]\u001b[0m QueueInput_1/queue_size: 50\n",
      "\u001b[32m[0924 13:01:31 @base.py:275]\u001b[0m Start Epoch 286 ...\n"
     ]
    },
    {
     "name": "stderr",
     "output_type": "stream",
     "text": [
      "\n",
      "100%|#################################################################################|2000/2000[00:37<00:00,54.05it/s]"
     ]
    },
    {
     "name": "stdout",
     "output_type": "stream",
     "text": [
      "\u001b[32m[0924 13:02:08 @base.py:285]\u001b[0m Epoch 286 (global_step 572000) finished, time:37 seconds.\n",
      "\u001b[32m[0924 13:02:08 @saver.py:79]\u001b[0m Model saved to ../output/Chicago/DATGAN_TEST/model\\model-572000.\n",
      "\u001b[32m[0924 13:02:08 @monitor.py:467]\u001b[0m GAN_loss/discrim/accuracy_fake: 0.88\n",
      "\u001b[32m[0924 13:02:08 @monitor.py:467]\u001b[0m GAN_loss/discrim/accuracy_real: 0.18\n",
      "\u001b[32m[0924 13:02:08 @monitor.py:467]\u001b[0m GAN_loss/discrim/loss: 0.64837\n",
      "\u001b[32m[0924 13:02:08 @monitor.py:467]\u001b[0m GAN_loss/gen/final-g-loss: 1.2959\n",
      "\u001b[32m[0924 13:02:08 @monitor.py:467]\u001b[0m GAN_loss/gen/klloss: 0.14973\n",
      "\u001b[32m[0924 13:02:08 @monitor.py:467]\u001b[0m GAN_loss/gen/loss: 1.1462\n",
      "\u001b[32m[0924 13:02:08 @monitor.py:467]\u001b[0m QueueInput/queue_size: 1.8367e-38\n",
      "\u001b[32m[0924 13:02:08 @monitor.py:467]\u001b[0m QueueInput_1/queue_size: 50\n",
      "\u001b[32m[0924 13:02:08 @base.py:275]\u001b[0m Start Epoch 287 ...\n"
     ]
    },
    {
     "name": "stderr",
     "output_type": "stream",
     "text": [
      "\n",
      "100%|#################################################################################|2000/2000[00:37<00:00,53.64it/s]"
     ]
    },
    {
     "name": "stdout",
     "output_type": "stream",
     "text": [
      "\u001b[32m[0924 13:02:46 @base.py:285]\u001b[0m Epoch 287 (global_step 574000) finished, time:37.3 seconds.\n",
      "\u001b[32m[0924 13:02:46 @saver.py:79]\u001b[0m Model saved to ../output/Chicago/DATGAN_TEST/model\\model-574000.\n",
      "\u001b[32m[0924 13:02:46 @monitor.py:467]\u001b[0m GAN_loss/discrim/accuracy_fake: 0.92\n",
      "\u001b[32m[0924 13:02:46 @monitor.py:467]\u001b[0m GAN_loss/discrim/accuracy_real: 0.135\n",
      "\u001b[32m[0924 13:02:46 @monitor.py:467]\u001b[0m GAN_loss/discrim/loss: 0.63581\n",
      "\u001b[32m[0924 13:02:46 @monitor.py:467]\u001b[0m GAN_loss/gen/final-g-loss: 1.3591\n",
      "\u001b[32m[0924 13:02:46 @monitor.py:467]\u001b[0m GAN_loss/gen/klloss: 0.20625\n",
      "\u001b[32m[0924 13:02:46 @monitor.py:467]\u001b[0m GAN_loss/gen/loss: 1.1528\n",
      "\u001b[32m[0924 13:02:46 @monitor.py:467]\u001b[0m QueueInput/queue_size: 1.8367e-38\n",
      "\u001b[32m[0924 13:02:46 @monitor.py:467]\u001b[0m QueueInput_1/queue_size: 50\n",
      "\u001b[32m[0924 13:02:46 @base.py:275]\u001b[0m Start Epoch 288 ...\n"
     ]
    },
    {
     "name": "stderr",
     "output_type": "stream",
     "text": [
      "\n",
      "100%|#################################################################################|2000/2000[00:36<00:00,54.07it/s]"
     ]
    },
    {
     "name": "stdout",
     "output_type": "stream",
     "text": [
      "\u001b[32m[0924 13:03:23 @base.py:285]\u001b[0m Epoch 288 (global_step 576000) finished, time:37 seconds.\n",
      "\u001b[32m[0924 13:03:23 @saver.py:79]\u001b[0m Model saved to ../output/Chicago/DATGAN_TEST/model\\model-576000.\n",
      "\u001b[32m[0924 13:03:23 @monitor.py:467]\u001b[0m GAN_loss/discrim/accuracy_fake: 0.905\n",
      "\u001b[32m[0924 13:03:23 @monitor.py:467]\u001b[0m GAN_loss/discrim/accuracy_real: 0.165\n",
      "\u001b[32m[0924 13:03:23 @monitor.py:467]\u001b[0m GAN_loss/discrim/loss: 0.65052\n",
      "\u001b[32m[0924 13:03:23 @monitor.py:467]\u001b[0m GAN_loss/gen/final-g-loss: 1.3927\n",
      "\u001b[32m[0924 13:03:23 @monitor.py:467]\u001b[0m GAN_loss/gen/klloss: 0.2591\n",
      "\u001b[32m[0924 13:03:23 @monitor.py:467]\u001b[0m GAN_loss/gen/loss: 1.1336\n",
      "\u001b[32m[0924 13:03:23 @monitor.py:467]\u001b[0m QueueInput/queue_size: 1.8367e-38\n",
      "\u001b[32m[0924 13:03:23 @monitor.py:467]\u001b[0m QueueInput_1/queue_size: 50\n",
      "\u001b[32m[0924 13:03:23 @base.py:275]\u001b[0m Start Epoch 289 ...\n"
     ]
    },
    {
     "name": "stderr",
     "output_type": "stream",
     "text": [
      "\n",
      "100%|#################################################################################|2000/2000[00:37<00:00,53.85it/s]"
     ]
    },
    {
     "name": "stdout",
     "output_type": "stream",
     "text": [
      "\u001b[32m[0924 13:04:00 @base.py:285]\u001b[0m Epoch 289 (global_step 578000) finished, time:37.1 seconds.\n",
      "\u001b[32m[0924 13:04:00 @saver.py:79]\u001b[0m Model saved to ../output/Chicago/DATGAN_TEST/model\\model-578000.\n",
      "\u001b[32m[0924 13:04:00 @monitor.py:467]\u001b[0m GAN_loss/discrim/accuracy_fake: 0.955\n",
      "\u001b[32m[0924 13:04:00 @monitor.py:467]\u001b[0m GAN_loss/discrim/accuracy_real: 0.15\n",
      "\u001b[32m[0924 13:04:00 @monitor.py:467]\u001b[0m GAN_loss/discrim/loss: 0.63591\n",
      "\u001b[32m[0924 13:04:00 @monitor.py:467]\u001b[0m GAN_loss/gen/final-g-loss: 1.4208\n",
      "\u001b[32m[0924 13:04:00 @monitor.py:467]\u001b[0m GAN_loss/gen/klloss: 0.25881\n",
      "\u001b[32m[0924 13:04:00 @monitor.py:467]\u001b[0m GAN_loss/gen/loss: 1.162\n",
      "\u001b[32m[0924 13:04:00 @monitor.py:467]\u001b[0m QueueInput/queue_size: 1.8367e-38\n",
      "\u001b[32m[0924 13:04:00 @monitor.py:467]\u001b[0m QueueInput_1/queue_size: 50\n",
      "\u001b[32m[0924 13:04:00 @base.py:275]\u001b[0m Start Epoch 290 ...\n"
     ]
    },
    {
     "name": "stderr",
     "output_type": "stream",
     "text": [
      "\n",
      "100%|#################################################################################|2000/2000[00:37<00:00,53.86it/s]"
     ]
    },
    {
     "name": "stdout",
     "output_type": "stream",
     "text": [
      "\u001b[32m[0924 13:04:37 @base.py:285]\u001b[0m Epoch 290 (global_step 580000) finished, time:37.1 seconds.\n",
      "\u001b[32m[0924 13:04:37 @saver.py:79]\u001b[0m Model saved to ../output/Chicago/DATGAN_TEST/model\\model-580000.\n",
      "\u001b[32m[0924 13:04:37 @monitor.py:467]\u001b[0m GAN_loss/discrim/accuracy_fake: 0.945\n",
      "\u001b[32m[0924 13:04:37 @monitor.py:467]\u001b[0m GAN_loss/discrim/accuracy_real: 0.14\n",
      "\u001b[32m[0924 13:04:37 @monitor.py:467]\u001b[0m GAN_loss/discrim/loss: 0.64917\n",
      "\u001b[32m[0924 13:04:37 @monitor.py:467]\u001b[0m GAN_loss/gen/final-g-loss: 1.3026\n",
      "\u001b[32m[0924 13:04:37 @monitor.py:467]\u001b[0m GAN_loss/gen/klloss: 0.16665\n",
      "\u001b[32m[0924 13:04:37 @monitor.py:467]\u001b[0m GAN_loss/gen/loss: 1.1359\n",
      "\u001b[32m[0924 13:04:37 @monitor.py:467]\u001b[0m QueueInput/queue_size: 1.8367e-38\n",
      "\u001b[32m[0924 13:04:37 @monitor.py:467]\u001b[0m QueueInput_1/queue_size: 50\n",
      "\u001b[32m[0924 13:04:37 @base.py:275]\u001b[0m Start Epoch 291 ...\n"
     ]
    },
    {
     "name": "stderr",
     "output_type": "stream",
     "text": [
      "\n",
      "100%|#################################################################################|2000/2000[00:37<00:00,53.90it/s]"
     ]
    },
    {
     "name": "stdout",
     "output_type": "stream",
     "text": [
      "\u001b[32m[0924 13:05:14 @base.py:285]\u001b[0m Epoch 291 (global_step 582000) finished, time:37.1 seconds.\n",
      "\u001b[32m[0924 13:05:15 @saver.py:79]\u001b[0m Model saved to ../output/Chicago/DATGAN_TEST/model\\model-582000.\n",
      "\u001b[32m[0924 13:05:15 @monitor.py:467]\u001b[0m GAN_loss/discrim/accuracy_fake: 0.905\n",
      "\u001b[32m[0924 13:05:15 @monitor.py:467]\u001b[0m GAN_loss/discrim/accuracy_real: 0.15\n",
      "\u001b[32m[0924 13:05:15 @monitor.py:467]\u001b[0m GAN_loss/discrim/loss: 0.65011\n",
      "\u001b[32m[0924 13:05:15 @monitor.py:467]\u001b[0m GAN_loss/gen/final-g-loss: 1.3065\n",
      "\u001b[32m[0924 13:05:15 @monitor.py:467]\u001b[0m GAN_loss/gen/klloss: 0.18673\n",
      "\u001b[32m[0924 13:05:15 @monitor.py:467]\u001b[0m GAN_loss/gen/loss: 1.1198\n",
      "\u001b[32m[0924 13:05:15 @monitor.py:467]\u001b[0m QueueInput/queue_size: 1.8367e-38\n",
      "\u001b[32m[0924 13:05:15 @monitor.py:467]\u001b[0m QueueInput_1/queue_size: 50\n",
      "\u001b[32m[0924 13:05:15 @base.py:275]\u001b[0m Start Epoch 292 ...\n"
     ]
    },
    {
     "name": "stderr",
     "output_type": "stream",
     "text": [
      "\n",
      "100%|#################################################################################|2000/2000[00:37<00:00,53.80it/s]"
     ]
    },
    {
     "name": "stdout",
     "output_type": "stream",
     "text": [
      "\u001b[32m[0924 13:05:52 @base.py:285]\u001b[0m Epoch 292 (global_step 584000) finished, time:37.2 seconds.\n",
      "\u001b[32m[0924 13:05:52 @saver.py:79]\u001b[0m Model saved to ../output/Chicago/DATGAN_TEST/model\\model-584000.\n",
      "\u001b[32m[0924 13:05:52 @monitor.py:467]\u001b[0m GAN_loss/discrim/accuracy_fake: 0.92\n",
      "\u001b[32m[0924 13:05:52 @monitor.py:467]\u001b[0m GAN_loss/discrim/accuracy_real: 0.17\n",
      "\u001b[32m[0924 13:05:52 @monitor.py:467]\u001b[0m GAN_loss/discrim/loss: 0.64144\n",
      "\u001b[32m[0924 13:05:52 @monitor.py:467]\u001b[0m GAN_loss/gen/final-g-loss: 1.5254\n",
      "\u001b[32m[0924 13:05:52 @monitor.py:467]\u001b[0m GAN_loss/gen/klloss: 0.39473\n",
      "\u001b[32m[0924 13:05:52 @monitor.py:467]\u001b[0m GAN_loss/gen/loss: 1.1307\n",
      "\u001b[32m[0924 13:05:52 @monitor.py:467]\u001b[0m QueueInput/queue_size: 1.8367e-38\n",
      "\u001b[32m[0924 13:05:52 @monitor.py:467]\u001b[0m QueueInput_1/queue_size: 50\n",
      "\u001b[32m[0924 13:05:52 @base.py:275]\u001b[0m Start Epoch 293 ...\n"
     ]
    },
    {
     "name": "stderr",
     "output_type": "stream",
     "text": [
      "\n",
      "100%|#################################################################################|2000/2000[00:37<00:00,53.81it/s]"
     ]
    },
    {
     "name": "stdout",
     "output_type": "stream",
     "text": [
      "\u001b[32m[0924 13:06:29 @base.py:285]\u001b[0m Epoch 293 (global_step 586000) finished, time:37.2 seconds.\n",
      "\u001b[32m[0924 13:06:29 @saver.py:79]\u001b[0m Model saved to ../output/Chicago/DATGAN_TEST/model\\model-586000.\n",
      "\u001b[32m[0924 13:06:29 @monitor.py:467]\u001b[0m GAN_loss/discrim/accuracy_fake: 0.88\n",
      "\u001b[32m[0924 13:06:29 @monitor.py:467]\u001b[0m GAN_loss/discrim/accuracy_real: 0.18\n",
      "\u001b[32m[0924 13:06:29 @monitor.py:467]\u001b[0m GAN_loss/discrim/loss: 0.64902\n",
      "\u001b[32m[0924 13:06:29 @monitor.py:467]\u001b[0m GAN_loss/gen/final-g-loss: 1.4536\n",
      "\u001b[32m[0924 13:06:29 @monitor.py:467]\u001b[0m GAN_loss/gen/klloss: 0.34024\n",
      "\u001b[32m[0924 13:06:29 @monitor.py:467]\u001b[0m GAN_loss/gen/loss: 1.1134\n",
      "\u001b[32m[0924 13:06:29 @monitor.py:467]\u001b[0m QueueInput/queue_size: 1.8367e-38\n",
      "\u001b[32m[0924 13:06:29 @monitor.py:467]\u001b[0m QueueInput_1/queue_size: 50\n",
      "\u001b[32m[0924 13:06:29 @base.py:275]\u001b[0m Start Epoch 294 ...\n"
     ]
    },
    {
     "name": "stderr",
     "output_type": "stream",
     "text": [
      "\n",
      "100%|#################################################################################|2000/2000[00:36<00:00,54.10it/s]"
     ]
    },
    {
     "name": "stdout",
     "output_type": "stream",
     "text": [
      "\u001b[32m[0924 13:07:06 @base.py:285]\u001b[0m Epoch 294 (global_step 588000) finished, time:37 seconds.\n",
      "\u001b[32m[0924 13:07:06 @saver.py:79]\u001b[0m Model saved to ../output/Chicago/DATGAN_TEST/model\\model-588000.\n",
      "\u001b[32m[0924 13:07:06 @monitor.py:467]\u001b[0m GAN_loss/discrim/accuracy_fake: 0.885\n",
      "\u001b[32m[0924 13:07:06 @monitor.py:467]\u001b[0m GAN_loss/discrim/accuracy_real: 0.16\n",
      "\u001b[32m[0924 13:07:06 @monitor.py:467]\u001b[0m GAN_loss/discrim/loss: 0.6665\n",
      "\u001b[32m[0924 13:07:06 @monitor.py:467]\u001b[0m GAN_loss/gen/final-g-loss: 1.4375\n",
      "\u001b[32m[0924 13:07:06 @monitor.py:467]\u001b[0m GAN_loss/gen/klloss: 0.30145\n",
      "\u001b[32m[0924 13:07:06 @monitor.py:467]\u001b[0m GAN_loss/gen/loss: 1.1361\n",
      "\u001b[32m[0924 13:07:06 @monitor.py:467]\u001b[0m QueueInput/queue_size: 1.8367e-38\n",
      "\u001b[32m[0924 13:07:06 @monitor.py:467]\u001b[0m QueueInput_1/queue_size: 50\n",
      "\u001b[32m[0924 13:07:06 @base.py:275]\u001b[0m Start Epoch 295 ...\n"
     ]
    },
    {
     "name": "stderr",
     "output_type": "stream",
     "text": [
      "\n",
      "100%|#################################################################################|2000/2000[00:37<00:00,53.92it/s]"
     ]
    },
    {
     "name": "stdout",
     "output_type": "stream",
     "text": [
      "\u001b[32m[0924 13:07:43 @base.py:285]\u001b[0m Epoch 295 (global_step 590000) finished, time:37.1 seconds.\n",
      "\u001b[32m[0924 13:07:44 @saver.py:79]\u001b[0m Model saved to ../output/Chicago/DATGAN_TEST/model\\model-590000.\n",
      "\u001b[32m[0924 13:07:44 @monitor.py:467]\u001b[0m GAN_loss/discrim/accuracy_fake: 0.905\n",
      "\u001b[32m[0924 13:07:44 @monitor.py:467]\u001b[0m GAN_loss/discrim/accuracy_real: 0.125\n",
      "\u001b[32m[0924 13:07:44 @monitor.py:467]\u001b[0m GAN_loss/discrim/loss: 0.6417\n",
      "\u001b[32m[0924 13:07:44 @monitor.py:467]\u001b[0m GAN_loss/gen/final-g-loss: 1.3733\n",
      "\u001b[32m[0924 13:07:44 @monitor.py:467]\u001b[0m GAN_loss/gen/klloss: 0.22166\n",
      "\u001b[32m[0924 13:07:44 @monitor.py:467]\u001b[0m GAN_loss/gen/loss: 1.1516\n",
      "\u001b[32m[0924 13:07:44 @monitor.py:467]\u001b[0m QueueInput/queue_size: 1.8367e-38\n",
      "\u001b[32m[0924 13:07:44 @monitor.py:467]\u001b[0m QueueInput_1/queue_size: 50\n",
      "\u001b[32m[0924 13:07:44 @base.py:275]\u001b[0m Start Epoch 296 ...\n"
     ]
    },
    {
     "name": "stderr",
     "output_type": "stream",
     "text": [
      "\n",
      "100%|#################################################################################|2000/2000[00:37<00:00,53.97it/s]"
     ]
    },
    {
     "name": "stdout",
     "output_type": "stream",
     "text": [
      "\u001b[32m[0924 13:08:21 @base.py:285]\u001b[0m Epoch 296 (global_step 592000) finished, time:37.1 seconds.\n"
     ]
    },
    {
     "name": "stderr",
     "output_type": "stream",
     "text": [
      "\n"
     ]
    },
    {
     "name": "stdout",
     "output_type": "stream",
     "text": [
      "\u001b[32m[0924 13:08:21 @saver.py:79]\u001b[0m Model saved to ../output/Chicago/DATGAN_TEST/model\\model-592000.\n",
      "\u001b[32m[0924 13:08:21 @monitor.py:467]\u001b[0m GAN_loss/discrim/accuracy_fake: 0.885\n",
      "\u001b[32m[0924 13:08:21 @monitor.py:467]\u001b[0m GAN_loss/discrim/accuracy_real: 0.165\n",
      "\u001b[32m[0924 13:08:21 @monitor.py:467]\u001b[0m GAN_loss/discrim/loss: 0.64319\n",
      "\u001b[32m[0924 13:08:21 @monitor.py:467]\u001b[0m GAN_loss/gen/final-g-loss: 1.3361\n",
      "\u001b[32m[0924 13:08:21 @monitor.py:467]\u001b[0m GAN_loss/gen/klloss: 0.20149\n",
      "\u001b[32m[0924 13:08:21 @monitor.py:467]\u001b[0m GAN_loss/gen/loss: 1.1346\n",
      "\u001b[32m[0924 13:08:21 @monitor.py:467]\u001b[0m QueueInput/queue_size: 1.8367e-38\n",
      "\u001b[32m[0924 13:08:21 @monitor.py:467]\u001b[0m QueueInput_1/queue_size: 50\n",
      "\u001b[32m[0924 13:08:21 @base.py:275]\u001b[0m Start Epoch 297 ...\n"
     ]
    },
    {
     "name": "stderr",
     "output_type": "stream",
     "text": [
      "100%|#################################################################################|2000/2000[00:37<00:00,53.82it/s]"
     ]
    },
    {
     "name": "stdout",
     "output_type": "stream",
     "text": [
      "\u001b[32m[0924 13:08:58 @base.py:285]\u001b[0m Epoch 297 (global_step 594000) finished, time:37.2 seconds.\n",
      "\u001b[32m[0924 13:08:58 @saver.py:79]\u001b[0m Model saved to ../output/Chicago/DATGAN_TEST/model\\model-594000.\n",
      "\u001b[32m[0924 13:08:58 @monitor.py:467]\u001b[0m GAN_loss/discrim/accuracy_fake: 0.95\n",
      "\u001b[32m[0924 13:08:58 @monitor.py:467]\u001b[0m GAN_loss/discrim/accuracy_real: 0.145\n",
      "\u001b[32m[0924 13:08:58 @monitor.py:467]\u001b[0m GAN_loss/discrim/loss: 0.64622\n",
      "\u001b[32m[0924 13:08:58 @monitor.py:467]\u001b[0m GAN_loss/gen/final-g-loss: 1.3669\n",
      "\u001b[32m[0924 13:08:58 @monitor.py:467]\u001b[0m GAN_loss/gen/klloss: 0.22502\n",
      "\u001b[32m[0924 13:08:58 @monitor.py:467]\u001b[0m GAN_loss/gen/loss: 1.1419\n",
      "\u001b[32m[0924 13:08:58 @monitor.py:467]\u001b[0m QueueInput/queue_size: 1.8367e-38\n",
      "\u001b[32m[0924 13:08:58 @monitor.py:467]\u001b[0m QueueInput_1/queue_size: 50\n",
      "\u001b[32m[0924 13:08:58 @base.py:275]\u001b[0m Start Epoch 298 ...\n"
     ]
    },
    {
     "name": "stderr",
     "output_type": "stream",
     "text": [
      "\n",
      "100%|#################################################################################|2000/2000[00:37<00:00,53.88it/s]"
     ]
    },
    {
     "name": "stdout",
     "output_type": "stream",
     "text": [
      "\u001b[32m[0924 13:09:35 @base.py:285]\u001b[0m Epoch 298 (global_step 596000) finished, time:37.1 seconds.\n",
      "\u001b[32m[0924 13:09:35 @saver.py:79]\u001b[0m Model saved to ../output/Chicago/DATGAN_TEST/model\\model-596000.\n",
      "\u001b[32m[0924 13:09:35 @monitor.py:467]\u001b[0m GAN_loss/discrim/accuracy_fake: 0.91\n",
      "\u001b[32m[0924 13:09:35 @monitor.py:467]\u001b[0m GAN_loss/discrim/accuracy_real: 0.205\n",
      "\u001b[32m[0924 13:09:35 @monitor.py:467]\u001b[0m GAN_loss/discrim/loss: 0.63522\n",
      "\u001b[32m[0924 13:09:35 @monitor.py:467]\u001b[0m GAN_loss/gen/final-g-loss: 1.3656\n",
      "\u001b[32m[0924 13:09:35 @monitor.py:467]\u001b[0m GAN_loss/gen/klloss: 0.2148\n",
      "\u001b[32m[0924 13:09:35 @monitor.py:467]\u001b[0m GAN_loss/gen/loss: 1.1508\n",
      "\u001b[32m[0924 13:09:35 @monitor.py:467]\u001b[0m QueueInput/queue_size: 1.8367e-38\n",
      "\u001b[32m[0924 13:09:35 @monitor.py:467]\u001b[0m QueueInput_1/queue_size: 50\n",
      "\u001b[32m[0924 13:09:35 @base.py:275]\u001b[0m Start Epoch 299 ...\n"
     ]
    },
    {
     "name": "stderr",
     "output_type": "stream",
     "text": [
      "\n",
      "100%|#################################################################################|2000/2000[00:37<00:00,53.94it/s]"
     ]
    },
    {
     "name": "stdout",
     "output_type": "stream",
     "text": [
      "\u001b[32m[0924 13:10:12 @base.py:285]\u001b[0m Epoch 299 (global_step 598000) finished, time:37.1 seconds.\n"
     ]
    },
    {
     "name": "stderr",
     "output_type": "stream",
     "text": [
      "\n"
     ]
    },
    {
     "name": "stdout",
     "output_type": "stream",
     "text": [
      "\u001b[32m[0924 13:10:12 @saver.py:79]\u001b[0m Model saved to ../output/Chicago/DATGAN_TEST/model\\model-598000.\n",
      "\u001b[32m[0924 13:10:13 @monitor.py:467]\u001b[0m GAN_loss/discrim/accuracy_fake: 0.945\n",
      "\u001b[32m[0924 13:10:13 @monitor.py:467]\u001b[0m GAN_loss/discrim/accuracy_real: 0.13\n",
      "\u001b[32m[0924 13:10:13 @monitor.py:467]\u001b[0m GAN_loss/discrim/loss: 0.63804\n",
      "\u001b[32m[0924 13:10:13 @monitor.py:467]\u001b[0m GAN_loss/gen/final-g-loss: 1.3298\n",
      "\u001b[32m[0924 13:10:13 @monitor.py:467]\u001b[0m GAN_loss/gen/klloss: 0.17614\n",
      "\u001b[32m[0924 13:10:13 @monitor.py:467]\u001b[0m GAN_loss/gen/loss: 1.1537\n",
      "\u001b[32m[0924 13:10:13 @monitor.py:467]\u001b[0m QueueInput/queue_size: 1.8367e-38\n",
      "\u001b[32m[0924 13:10:13 @monitor.py:467]\u001b[0m QueueInput_1/queue_size: 50\n",
      "\u001b[32m[0924 13:10:13 @base.py:275]\u001b[0m Start Epoch 300 ...\n"
     ]
    },
    {
     "name": "stderr",
     "output_type": "stream",
     "text": [
      "100%|#################################################################################|2000/2000[00:37<00:00,53.92it/s]"
     ]
    },
    {
     "name": "stdout",
     "output_type": "stream",
     "text": [
      "\u001b[32m[0924 13:10:50 @base.py:285]\u001b[0m Epoch 300 (global_step 600000) finished, time:37.1 seconds.\n",
      "\u001b[32m[0924 13:10:50 @saver.py:79]\u001b[0m Model saved to ../output/Chicago/DATGAN_TEST/model\\model-600000.\n",
      "\u001b[32m[0924 13:10:50 @monitor.py:467]\u001b[0m GAN_loss/discrim/accuracy_fake: 0.9\n",
      "\u001b[32m[0924 13:10:50 @monitor.py:467]\u001b[0m GAN_loss/discrim/accuracy_real: 0.12\n",
      "\u001b[32m[0924 13:10:50 @monitor.py:467]\u001b[0m GAN_loss/discrim/loss: 0.65319\n",
      "\u001b[32m[0924 13:10:50 @monitor.py:467]\u001b[0m GAN_loss/gen/final-g-loss: 1.4752\n",
      "\u001b[32m[0924 13:10:50 @monitor.py:467]\u001b[0m GAN_loss/gen/klloss: 0.34268\n",
      "\u001b[32m[0924 13:10:50 @monitor.py:467]\u001b[0m GAN_loss/gen/loss: 1.1325\n",
      "\u001b[32m[0924 13:10:50 @monitor.py:467]\u001b[0m QueueInput/queue_size: 1.8367e-38\n",
      "\u001b[32m[0924 13:10:50 @monitor.py:467]\u001b[0m QueueInput_1/queue_size: 50\n",
      "\u001b[32m[0924 13:10:50 @base.py:275]\u001b[0m Start Epoch 301 ...\n"
     ]
    },
    {
     "name": "stderr",
     "output_type": "stream",
     "text": [
      "\n",
      "100%|#################################################################################|2000/2000[00:37<00:00,53.88it/s]"
     ]
    },
    {
     "name": "stdout",
     "output_type": "stream",
     "text": [
      "\u001b[32m[0924 13:11:27 @base.py:285]\u001b[0m Epoch 301 (global_step 602000) finished, time:37.1 seconds.\n"
     ]
    },
    {
     "name": "stderr",
     "output_type": "stream",
     "text": [
      "\n"
     ]
    },
    {
     "name": "stdout",
     "output_type": "stream",
     "text": [
      "\u001b[32m[0924 13:11:27 @saver.py:79]\u001b[0m Model saved to ../output/Chicago/DATGAN_TEST/model\\model-602000.\n",
      "\u001b[32m[0924 13:11:27 @monitor.py:467]\u001b[0m GAN_loss/discrim/accuracy_fake: 0.9\n",
      "\u001b[32m[0924 13:11:27 @monitor.py:467]\u001b[0m GAN_loss/discrim/accuracy_real: 0.165\n",
      "\u001b[32m[0924 13:11:27 @monitor.py:467]\u001b[0m GAN_loss/discrim/loss: 0.65486\n",
      "\u001b[32m[0924 13:11:27 @monitor.py:467]\u001b[0m GAN_loss/gen/final-g-loss: 1.3535\n",
      "\u001b[32m[0924 13:11:27 @monitor.py:467]\u001b[0m GAN_loss/gen/klloss: 0.23439\n",
      "\u001b[32m[0924 13:11:27 @monitor.py:467]\u001b[0m GAN_loss/gen/loss: 1.1191\n",
      "\u001b[32m[0924 13:11:27 @monitor.py:467]\u001b[0m QueueInput/queue_size: 1.8367e-38\n",
      "\u001b[32m[0924 13:11:27 @monitor.py:467]\u001b[0m QueueInput_1/queue_size: 50\n",
      "\u001b[32m[0924 13:11:27 @base.py:275]\u001b[0m Start Epoch 302 ...\n"
     ]
    },
    {
     "name": "stderr",
     "output_type": "stream",
     "text": [
      "100%|#################################################################################|2000/2000[00:37<00:00,53.81it/s]"
     ]
    },
    {
     "name": "stdout",
     "output_type": "stream",
     "text": [
      "\u001b[32m[0924 13:12:04 @base.py:285]\u001b[0m Epoch 302 (global_step 604000) finished, time:37.2 seconds.\n",
      "\u001b[32m[0924 13:12:04 @saver.py:79]\u001b[0m Model saved to ../output/Chicago/DATGAN_TEST/model\\model-604000.\n",
      "\u001b[32m[0924 13:12:04 @monitor.py:467]\u001b[0m GAN_loss/discrim/accuracy_fake: 0.915\n",
      "\u001b[32m[0924 13:12:04 @monitor.py:467]\u001b[0m GAN_loss/discrim/accuracy_real: 0.165\n",
      "\u001b[32m[0924 13:12:04 @monitor.py:467]\u001b[0m GAN_loss/discrim/loss: 0.63657\n",
      "\u001b[32m[0924 13:12:04 @monitor.py:467]\u001b[0m GAN_loss/gen/final-g-loss: 1.331\n",
      "\u001b[32m[0924 13:12:04 @monitor.py:467]\u001b[0m GAN_loss/gen/klloss: 0.17\n",
      "\u001b[32m[0924 13:12:04 @monitor.py:467]\u001b[0m GAN_loss/gen/loss: 1.161\n",
      "\u001b[32m[0924 13:12:04 @monitor.py:467]\u001b[0m QueueInput/queue_size: 1.8367e-38\n",
      "\u001b[32m[0924 13:12:04 @monitor.py:467]\u001b[0m QueueInput_1/queue_size: 50\n",
      "\u001b[32m[0924 13:12:04 @base.py:275]\u001b[0m Start Epoch 303 ...\n"
     ]
    },
    {
     "name": "stderr",
     "output_type": "stream",
     "text": [
      "\n",
      "100%|#################################################################################|2000/2000[00:37<00:00,53.98it/s]"
     ]
    },
    {
     "name": "stdout",
     "output_type": "stream",
     "text": [
      "\u001b[32m[0924 13:12:41 @base.py:285]\u001b[0m Epoch 303 (global_step 606000) finished, time:37.1 seconds.\n",
      "\u001b[32m[0924 13:12:41 @saver.py:79]\u001b[0m Model saved to ../output/Chicago/DATGAN_TEST/model\\model-606000.\n",
      "\u001b[32m[0924 13:12:42 @monitor.py:467]\u001b[0m GAN_loss/discrim/accuracy_fake: 0.94\n",
      "\u001b[32m[0924 13:12:42 @monitor.py:467]\u001b[0m GAN_loss/discrim/accuracy_real: 0.15\n",
      "\u001b[32m[0924 13:12:42 @monitor.py:467]\u001b[0m GAN_loss/discrim/loss: 0.64456\n",
      "\u001b[32m[0924 13:12:42 @monitor.py:467]\u001b[0m GAN_loss/gen/final-g-loss: 1.3764\n",
      "\u001b[32m[0924 13:12:42 @monitor.py:467]\u001b[0m GAN_loss/gen/klloss: 0.22923\n",
      "\u001b[32m[0924 13:12:42 @monitor.py:467]\u001b[0m GAN_loss/gen/loss: 1.1472\n",
      "\u001b[32m[0924 13:12:42 @monitor.py:467]\u001b[0m QueueInput/queue_size: 1.8367e-38\n",
      "\u001b[32m[0924 13:12:42 @monitor.py:467]\u001b[0m QueueInput_1/queue_size: 50\n",
      "\u001b[32m[0924 13:12:42 @base.py:275]\u001b[0m Start Epoch 304 ...\n"
     ]
    },
    {
     "name": "stderr",
     "output_type": "stream",
     "text": [
      "\n",
      "100%|#################################################################################|2000/2000[00:37<00:00,53.13it/s]"
     ]
    },
    {
     "name": "stdout",
     "output_type": "stream",
     "text": [
      "\u001b[32m[0924 13:13:19 @base.py:285]\u001b[0m Epoch 304 (global_step 608000) finished, time:37.6 seconds.\n",
      "\u001b[32m[0924 13:13:19 @saver.py:79]\u001b[0m Model saved to ../output/Chicago/DATGAN_TEST/model\\model-608000.\n"
     ]
    },
    {
     "name": "stderr",
     "output_type": "stream",
     "text": [
      "\n"
     ]
    },
    {
     "name": "stdout",
     "output_type": "stream",
     "text": [
      "\u001b[32m[0924 13:13:19 @monitor.py:467]\u001b[0m GAN_loss/discrim/accuracy_fake: 0.945\n",
      "\u001b[32m[0924 13:13:19 @monitor.py:467]\u001b[0m GAN_loss/discrim/accuracy_real: 0.15\n",
      "\u001b[32m[0924 13:13:19 @monitor.py:467]\u001b[0m GAN_loss/discrim/loss: 0.6372\n",
      "\u001b[32m[0924 13:13:19 @monitor.py:467]\u001b[0m GAN_loss/gen/final-g-loss: 1.4141\n",
      "\u001b[32m[0924 13:13:19 @monitor.py:467]\u001b[0m GAN_loss/gen/klloss: 0.24921\n",
      "\u001b[32m[0924 13:13:19 @monitor.py:467]\u001b[0m GAN_loss/gen/loss: 1.1649\n",
      "\u001b[32m[0924 13:13:19 @monitor.py:467]\u001b[0m QueueInput/queue_size: 1.8367e-38\n",
      "\u001b[32m[0924 13:13:19 @monitor.py:467]\u001b[0m QueueInput_1/queue_size: 50\n",
      "\u001b[32m[0924 13:13:19 @base.py:275]\u001b[0m Start Epoch 305 ...\n"
     ]
    },
    {
     "name": "stderr",
     "output_type": "stream",
     "text": [
      "  9%|#######7                                                                          |189/2000[00:03<00:34,53.03it/s]"
     ]
    }
   ],
   "source": [
    "datgan.fit(df, graph)"
   ]
  },
  {
   "cell_type": "code",
   "execution_count": null,
   "metadata": {},
   "outputs": [],
   "source": [
    "datgan.save('trained', force=True)"
   ]
  },
  {
   "cell_type": "code",
   "execution_count": null,
   "metadata": {},
   "outputs": [],
   "source": []
  }
 ],
 "metadata": {
  "kernelspec": {
   "display_name": "Python 3",
   "language": "python",
   "name": "python3"
  },
  "language_info": {
   "codemirror_mode": {
    "name": "ipython",
    "version": 3
   },
   "file_extension": ".py",
   "mimetype": "text/x-python",
   "name": "python",
   "nbconvert_exporter": "python",
   "pygments_lexer": "ipython3",
   "version": "3.7.9"
  }
 },
 "nbformat": 4,
 "nbformat_minor": 2
}
