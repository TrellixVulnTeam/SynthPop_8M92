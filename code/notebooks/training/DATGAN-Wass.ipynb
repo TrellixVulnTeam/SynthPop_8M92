{
 "cells": [
  {
   "cell_type": "code",
   "execution_count": 1,
   "metadata": {},
   "outputs": [],
   "source": [
    "import os\n",
    "os.chdir('../..')"
   ]
  },
  {
   "cell_type": "code",
   "execution_count": 2,
   "metadata": {},
   "outputs": [
    {
     "name": "stdout",
     "output_type": "stream",
     "text": [
      "3.7.9\n"
     ]
    }
   ],
   "source": [
    "from platform import python_version\n",
    "print(python_version())"
   ]
  },
  {
   "cell_type": "code",
   "execution_count": 3,
   "metadata": {},
   "outputs": [
    {
     "name": "stdout",
     "output_type": "stream",
     "text": [
      "WARNING:tensorflow:From D:\\Users\\glede\\anaconda3\\envs\\py37\\lib\\site-packages\\tensorpack\\callbacks\\hooks.py:17: The name tf.train.SessionRunHook is deprecated. Please use tf.estimator.SessionRunHook instead.\n",
      "\n",
      "WARNING:tensorflow:From D:\\Users\\glede\\anaconda3\\envs\\py37\\lib\\site-packages\\tensorpack\\tfutils\\optimizer.py:18: The name tf.train.Optimizer is deprecated. Please use tf.compat.v1.train.Optimizer instead.\n",
      "\n",
      "WARNING:tensorflow:From D:\\Users\\glede\\anaconda3\\envs\\py37\\lib\\site-packages\\tensorpack\\tfutils\\sesscreate.py:20: The name tf.train.SessionCreator is deprecated. Please use tf.compat.v1.train.SessionCreator instead.\n",
      "\n"
     ]
    }
   ],
   "source": [
    "import numpy as np\n",
    "import pandas as pd\n",
    "\n",
    "import tensorflow as tf\n",
    "\n",
    "import matplotlib.pyplot as plt\n",
    "\n",
    "from modules.datgan_wass.model import DATGAN\n",
    "#from modules.datgan_preLSTM.model import DATGAN\n",
    "\n",
    "#from modules.datgan_no_att.model import DATGAN\n",
    "import networkx as nx\n",
    "import json\n",
    "import beepy\n",
    "\n",
    "# For the Python notebook\n",
    "%matplotlib inline\n",
    "%reload_ext autoreload\n",
    "%autoreload 2"
   ]
  },
  {
   "cell_type": "code",
   "execution_count": 4,
   "metadata": {},
   "outputs": [],
   "source": [
    "dataset = 'Chicago'"
   ]
  },
  {
   "cell_type": "code",
   "execution_count": 5,
   "metadata": {},
   "outputs": [],
   "source": [
    "df = pd.read_csv('../data/{}/data.csv'.format(dataset), index_col=False)"
   ]
  },
  {
   "cell_type": "code",
   "execution_count": 6,
   "metadata": {},
   "outputs": [
    {
     "data": {
      "text/html": [
       "<div>\n",
       "<style scoped>\n",
       "    .dataframe tbody tr th:only-of-type {\n",
       "        vertical-align: middle;\n",
       "    }\n",
       "\n",
       "    .dataframe tbody tr th {\n",
       "        vertical-align: top;\n",
       "    }\n",
       "\n",
       "    .dataframe thead th {\n",
       "        text-align: right;\n",
       "    }\n",
       "</style>\n",
       "<table border=\"1\" class=\"dataframe\">\n",
       "  <thead>\n",
       "    <tr style=\"text-align: right;\">\n",
       "      <th></th>\n",
       "      <th>choice</th>\n",
       "      <th>travel_dow</th>\n",
       "      <th>trip_purpose</th>\n",
       "      <th>distance</th>\n",
       "      <th>hh_vehicles</th>\n",
       "      <th>hh_size</th>\n",
       "      <th>hh_bikes</th>\n",
       "      <th>hh_descr</th>\n",
       "      <th>hh_income</th>\n",
       "      <th>gender</th>\n",
       "      <th>age</th>\n",
       "      <th>license</th>\n",
       "      <th>education_level</th>\n",
       "      <th>work_status</th>\n",
       "      <th>departure_time</th>\n",
       "    </tr>\n",
       "  </thead>\n",
       "  <tbody>\n",
       "    <tr>\n",
       "      <th>0</th>\n",
       "      <td>drive</td>\n",
       "      <td>7</td>\n",
       "      <td>HOME_OTHER</td>\n",
       "      <td>23.42579</td>\n",
       "      <td>2</td>\n",
       "      <td>2</td>\n",
       "      <td>0</td>\n",
       "      <td>2</td>\n",
       "      <td>6</td>\n",
       "      <td>1</td>\n",
       "      <td>66</td>\n",
       "      <td>1.0</td>\n",
       "      <td>6</td>\n",
       "      <td>FTE</td>\n",
       "      <td>9.333333</td>\n",
       "    </tr>\n",
       "    <tr>\n",
       "      <th>1</th>\n",
       "      <td>drive</td>\n",
       "      <td>7</td>\n",
       "      <td>OTHER</td>\n",
       "      <td>1.71259</td>\n",
       "      <td>2</td>\n",
       "      <td>2</td>\n",
       "      <td>0</td>\n",
       "      <td>2</td>\n",
       "      <td>6</td>\n",
       "      <td>1</td>\n",
       "      <td>66</td>\n",
       "      <td>1.0</td>\n",
       "      <td>6</td>\n",
       "      <td>FTE</td>\n",
       "      <td>12.083333</td>\n",
       "    </tr>\n",
       "    <tr>\n",
       "      <th>2</th>\n",
       "      <td>drive</td>\n",
       "      <td>7</td>\n",
       "      <td>HOME_OTHER</td>\n",
       "      <td>21.77887</td>\n",
       "      <td>2</td>\n",
       "      <td>2</td>\n",
       "      <td>0</td>\n",
       "      <td>2</td>\n",
       "      <td>6</td>\n",
       "      <td>1</td>\n",
       "      <td>66</td>\n",
       "      <td>1.0</td>\n",
       "      <td>6</td>\n",
       "      <td>FTE</td>\n",
       "      <td>15.500000</td>\n",
       "    </tr>\n",
       "    <tr>\n",
       "      <th>3</th>\n",
       "      <td>drive</td>\n",
       "      <td>7</td>\n",
       "      <td>SHOPPING</td>\n",
       "      <td>2.02603</td>\n",
       "      <td>2</td>\n",
       "      <td>2</td>\n",
       "      <td>0</td>\n",
       "      <td>2</td>\n",
       "      <td>6</td>\n",
       "      <td>1</td>\n",
       "      <td>66</td>\n",
       "      <td>1.0</td>\n",
       "      <td>6</td>\n",
       "      <td>FTE</td>\n",
       "      <td>17.500000</td>\n",
       "    </tr>\n",
       "    <tr>\n",
       "      <th>4</th>\n",
       "      <td>drive</td>\n",
       "      <td>7</td>\n",
       "      <td>SHOPPING</td>\n",
       "      <td>0.87691</td>\n",
       "      <td>2</td>\n",
       "      <td>2</td>\n",
       "      <td>0</td>\n",
       "      <td>2</td>\n",
       "      <td>6</td>\n",
       "      <td>1</td>\n",
       "      <td>66</td>\n",
       "      <td>1.0</td>\n",
       "      <td>6</td>\n",
       "      <td>FTE</td>\n",
       "      <td>18.250000</td>\n",
       "    </tr>\n",
       "  </tbody>\n",
       "</table>\n",
       "</div>"
      ],
      "text/plain": [
       "  choice  travel_dow trip_purpose  distance  hh_vehicles  hh_size  hh_bikes  \\\n",
       "0  drive           7   HOME_OTHER  23.42579            2        2         0   \n",
       "1  drive           7        OTHER   1.71259            2        2         0   \n",
       "2  drive           7   HOME_OTHER  21.77887            2        2         0   \n",
       "3  drive           7     SHOPPING   2.02603            2        2         0   \n",
       "4  drive           7     SHOPPING   0.87691            2        2         0   \n",
       "\n",
       "   hh_descr  hh_income  gender  age  license  education_level work_status  \\\n",
       "0         2          6       1   66      1.0                6         FTE   \n",
       "1         2          6       1   66      1.0                6         FTE   \n",
       "2         2          6       1   66      1.0                6         FTE   \n",
       "3         2          6       1   66      1.0                6         FTE   \n",
       "4         2          6       1   66      1.0                6         FTE   \n",
       "\n",
       "   departure_time  \n",
       "0        9.333333  \n",
       "1       12.083333  \n",
       "2       15.500000  \n",
       "3       17.500000  \n",
       "4       18.250000  "
      ]
     },
     "execution_count": 6,
     "metadata": {},
     "output_type": "execute_result"
    }
   ],
   "source": [
    "df.head()"
   ]
  },
  {
   "cell_type": "code",
   "execution_count": 7,
   "metadata": {},
   "outputs": [],
   "source": [
    "if dataset is 'Chicago':\n",
    "    continuous_columns = [\"distance\", \"age\", \"departure_time\"]\n",
    "elif dataset is 'LPMC':\n",
    "    continuous_columns = ['start_time_linear', 'age', 'distance', 'dur_walking', 'dur_cycling', 'dur_pt_access', 'dur_pt_rail', 'dur_pt_bus', 'dur_pt_int', 'dur_driving', 'cost_transit', 'cost_driving_fuel', 'driving_traffic_percent']"
   ]
  },
  {
   "cell_type": "code",
   "execution_count": 8,
   "metadata": {},
   "outputs": [],
   "source": [
    "# personalised graph\n",
    "graph = nx.DiGraph()\n",
    "\n",
    "if dataset is 'Chicago':\n",
    "    graph.add_edges_from([\n",
    "        (\"age\", \"license\"),\n",
    "        (\"age\", \"education_level\"),\n",
    "        (\"gender\", \"work_status\"),\n",
    "        (\"education_level\", \"work_status\"),\n",
    "        (\"education_level\", \"hh_income\"),\n",
    "        (\"work_status\", \"hh_income\"),\n",
    "        (\"hh_income\", \"hh_descr\"),\n",
    "        (\"hh_income\", \"hh_size\"),\n",
    "        (\"hh_size\", \"hh_vehicles\"),\n",
    "        (\"hh_size\", \"hh_bikes\"),\n",
    "        (\"work_status\", \"trip_purpose\"),\n",
    "        (\"trip_purpose\", \"departure_time\"),\n",
    "        (\"trip_purpose\", \"distance\"),\n",
    "        (\"travel_dow\", \"choice\"),\n",
    "        (\"distance\", \"choice\"),\n",
    "        (\"departure_time\", \"choice\"),\n",
    "        (\"hh_vehicles\", \"choice\"),\n",
    "        (\"hh_bikes\", \"choice\"),\n",
    "        (\"license\", \"choice\"),\n",
    "        # Non necessary links\n",
    "        (\"education_level\", \"hh_size\"),\n",
    "        (\"work_status\", \"hh_descr\"),\n",
    "        (\"work_status\", \"hh_size\"),\n",
    "        (\"hh_income\", \"hh_bikes\"),\n",
    "        (\"hh_income\", \"hh_vehicles\"),\n",
    "        (\"trip_purpose\", \"choice\")\n",
    "    ])\n",
    "elif dataset is 'LPMC':\n",
    "    graph.add_edges_from([\n",
    "        (\"travel_year\", \"survey_year\"),\n",
    "        (\"travel_date\", \"day_of_week\"),\n",
    "        (\"day_of_week\", \"purpose\"),\n",
    "        (\"purpose\", \"start_time_linear\"),\n",
    "        (\"purpose\", \"cost_driving_con_charge\"),\n",
    "        (\"purpose\", \"distance\"),\n",
    "        (\"day_of_week\", \"driving_traffic_percent\"),\n",
    "        (\"day_of_week\", \"cost_driving_con_charge\"),\n",
    "        (\"start_time_linear\", \"driving_traffic_percent\"),\n",
    "        (\"start_time_linear\", \"cost_driving_con_charge\"),\n",
    "        (\"driving_traffic_percent\", \"cost_driving_con_charge\"),\n",
    "        (\"female\", \"driving_license\"),\n",
    "        (\"age\", \"bus_scale\"),\n",
    "        (\"age\", \"car_ownership\"),\n",
    "        (\"age\", \"driving_license\"),\n",
    "        (\"age\", \"faretype\"),\n",
    "        (\"driving_license\", \"car_ownership\"),\n",
    "        (\"car_ownership\", \"fueltype\"),\n",
    "        (\"fueltype\", \"cost_driving_con_charge\"),\n",
    "        (\"fueltype\", \"cost_driving_fuel\"),\n",
    "        (\"distance\", \"cost_driving_fuel\"),\n",
    "        (\"distance\", \"dur_driving\"),\n",
    "        (\"distance\", \"dur_walking\"),\n",
    "        (\"distance\", \"dur_cycling\"),\n",
    "        (\"distance\", \"dur_pt_access\"),\n",
    "        (\"distance\", \"dur_pt_rail\"),\n",
    "        (\"distance\", \"dur_pt_bus\"),\n",
    "        (\"distance\", \"dur_pt_int\"),\n",
    "        (\"dur_pt_bus\", \"cost_transit\"),\n",
    "        (\"dur_pt_rail\", \"cost_transit\"),\n",
    "        (\"pt_n_interchanges\", \"dur_pt_int\"),\n",
    "        (\"pt_n_interchanges\", \"cost_transit\"),\n",
    "        (\"faretype\", \"cost_transit\"),\n",
    "        (\"bus_scale\", \"cost_transit\"),\n",
    "        (\"car_ownership\", \"travel_mode\"),\n",
    "        (\"age\", \"travel_mode\"),\n",
    "        (\"cost_driving_con_charge\", \"travel_mode\"),\n",
    "        (\"driving_traffic_percent\", \"travel_mode\"),\n",
    "        (\"female\", \"travel_mode\"),\n",
    "        (\"purpose\", \"travel_mode\"),\n",
    "        (\"cost_transit\", \"travel_mode\"),\n",
    "        (\"cost_driving_fuel\", \"travel_mode\"),\n",
    "        (\"dur_driving\", \"travel_mode\"),\n",
    "        (\"dur_walking\", \"travel_mode\"),\n",
    "        (\"dur_cycling\", \"travel_mode\"),\n",
    "        (\"dur_pt_access\", \"travel_mode\"),\n",
    "        (\"dur_pt_rail\", \"travel_mode\"),\n",
    "        (\"dur_pt_bus\", \"travel_mode\"),\n",
    "        (\"dur_pt_int\", \"travel_mode\")\n",
    "    ])\n",
    "    graph.add_node(\"travel_month\")"
   ]
  },
  {
   "cell_type": "code",
   "execution_count": 9,
   "metadata": {},
   "outputs": [],
   "source": [
    "output_folder = '../output/' + dataset + '/DATGAN_wass01/'"
   ]
  },
  {
   "cell_type": "code",
   "execution_count": 10,
   "metadata": {},
   "outputs": [],
   "source": [
    "datgan = DATGAN(continuous_columns, max_epoch=100, batch_size=500, output=output_folder, gpu=0)"
   ]
  },
  {
   "cell_type": "code",
   "execution_count": 11,
   "metadata": {
    "scrolled": false
   },
   "outputs": [
    {
     "name": "stdout",
     "output_type": "stream",
     "text": [
      "\u001b[32m[1019 15:10:08 @model.py:157]\u001b[0m Found preprocessed data\n",
      "\u001b[32m[1019 15:10:08 @model.py:165]\u001b[0m Preprocessed data have been loaded!\n",
      "WARNING:tensorflow:From D:\\Users\\glede\\anaconda3\\envs\\py37\\lib\\site-packages\\tensorpack\\graph_builder\\model_desc.py:29: The name tf.get_default_graph is deprecated. Please use tf.compat.v1.get_default_graph instead.\n",
      "\n",
      "WARNING:tensorflow:From D:\\Users\\glede\\anaconda3\\envs\\py37\\lib\\site-packages\\tensorpack\\graph_builder\\model_desc.py:39: The name tf.placeholder is deprecated. Please use tf.compat.v1.placeholder instead.\n",
      "\n",
      "WARNING:tensorflow:From D:\\Users\\glede\\anaconda3\\envs\\py37\\lib\\site-packages\\tensorpack\\input_source\\input_source.py:219: The name tf.FIFOQueue is deprecated. Please use tf.queue.FIFOQueue instead.\n",
      "\n",
      "\u001b[32m[1019 15:10:08 @input_source.py:222]\u001b[0m Setting up the queue 'QueueInput/input_queue' for CPU prefetching ...\n",
      "WARNING:tensorflow:From D:\\Users\\glede\\anaconda3\\envs\\py37\\lib\\site-packages\\tensorpack\\tfutils\\summary.py:237: The name tf.get_variable_scope is deprecated. Please use tf.compat.v1.get_variable_scope instead.\n",
      "\n",
      "WARNING:tensorflow:From D:\\Users\\glede\\anaconda3\\envs\\py37\\lib\\site-packages\\tensorpack\\tfutils\\summary.py:27: The name tf.variable_scope is deprecated. Please use tf.compat.v1.variable_scope instead.\n",
      "\n",
      "WARNING:tensorflow:From D:\\Users\\glede\\anaconda3\\envs\\py37\\lib\\site-packages\\tensorpack\\tfutils\\summary.py:254: The name tf.get_variable is deprecated. Please use tf.compat.v1.get_variable instead.\n",
      "\n",
      "WARNING:tensorflow:From D:\\Users\\glede\\anaconda3\\envs\\py37\\lib\\site-packages\\tensorpack\\tfutils\\summary.py:264: The name tf.summary.scalar is deprecated. Please use tf.compat.v1.summary.scalar instead.\n",
      "\n",
      "WARNING:tensorflow:From D:\\Users\\glede\\anaconda3\\envs\\py37\\lib\\site-packages\\tensorpack\\tfutils\\collection.py:105: The name tf.GraphKeys is deprecated. Please use tf.compat.v1.GraphKeys instead.\n",
      "\n",
      "WARNING:tensorflow:From D:\\Users\\glede\\anaconda3\\envs\\py37\\lib\\site-packages\\tensorpack\\tfutils\\collection.py:33: The name tf.get_collection is deprecated. Please use tf.compat.v1.get_collection instead.\n",
      "\n",
      "WARNING:tensorflow:From C:\\Users\\glede\\Documents\\EPFL\\PhD\\SynthPop\\code\\modules\\datgan_wass\\graph.py:604: The name tf.random_normal is deprecated. Please use tf.random.normal instead.\n",
      "\n",
      "WARNING:tensorflow:From C:\\Users\\glede\\Documents\\EPFL\\PhD\\SynthPop\\code\\modules\\datgan_wass\\graph.py:607: The name tf.placeholder_with_default is deprecated. Please use tf.compat.v1.placeholder_with_default instead.\n",
      "\n",
      "WARNING:tensorflow:From C:\\Users\\glede\\Documents\\EPFL\\PhD\\SynthPop\\code\\modules\\datgan_wass\\graph.py:257: LSTMCell.__init__ (from tensorflow.python.ops.rnn_cell_impl) is deprecated and will be removed in a future version.\n",
      "Instructions for updating:\n",
      "This class is equivalent as tf.keras.layers.LSTMCell, and will be replaced by that in Tensorflow 2.0.\n",
      "\u001b[32m[1019 15:10:08 @graph.py:274]\u001b[0m \u001b[91mCreating cell for age (in-edges: 0)\n",
      "WARNING:tensorflow:From D:\\Users\\glede\\anaconda3\\envs\\py37\\lib\\site-packages\\tensorflow_core\\python\\ops\\rnn_cell_impl.py:958: Layer.add_variable (from tensorflow.python.keras.engine.base_layer) is deprecated and will be removed in a future version.\n",
      "Instructions for updating:\n",
      "Please use `layer.add_weight` method instead.\n",
      "WARNING:tensorflow:From D:\\Users\\glede\\anaconda3\\envs\\py37\\lib\\site-packages\\tensorflow_core\\python\\ops\\rnn_cell_impl.py:962: calling Zeros.__init__ (from tensorflow.python.ops.init_ops) with dtype is deprecated and will be removed in a future version.\n",
      "Instructions for updating:\n",
      "Call initializer instance with the dtype argument instead of passing it to the constructor\n",
      "\u001b[32m[1019 15:10:08 @registry.py:126]\u001b[0m gen/LSTM/00/FC input: [500, 100]\n",
      "WARNING:tensorflow:From D:\\Users\\glede\\anaconda3\\envs\\py37\\lib\\site-packages\\tensorpack\\models\\fc.py:57: The name tf.layers.Dense is deprecated. Please use tf.compat.v1.layers.Dense instead.\n",
      "\n",
      "WARNING:tensorflow:From D:\\Users\\glede\\anaconda3\\envs\\py37\\lib\\site-packages\\tensorpack\\models\\fc.py:67: Layer.apply (from tensorflow.python.keras.engine.base_layer) is deprecated and will be removed in a future version.\n",
      "Instructions for updating:\n",
      "Please use `layer.__call__` method instead.\n",
      "\u001b[32m[1019 15:10:08 @registry.py:134]\u001b[0m gen/LSTM/00/FC output: [500, 100]\n",
      "\u001b[32m[1019 15:10:08 @registry.py:126]\u001b[0m gen/LSTM/00/FC2_val input: [500, 100]\n",
      "\u001b[32m[1019 15:10:08 @registry.py:134]\u001b[0m gen/LSTM/00/FC2_val output: [500, 6]\n",
      "\u001b[32m[1019 15:10:08 @registry.py:126]\u001b[0m gen/LSTM/00/FC2_prob input: [500, 100]\n",
      "\u001b[32m[1019 15:10:08 @registry.py:134]\u001b[0m gen/LSTM/00/FC2_prob output: [500, 6]\n",
      "\u001b[32m[1019 15:10:08 @registry.py:126]\u001b[0m gen/LSTM/00/FC3 input: [500, 12]\n",
      "\u001b[32m[1019 15:10:08 @registry.py:134]\u001b[0m gen/LSTM/00/FC3 output: [500, 100]\n",
      "\u001b[32m[1019 15:10:08 @graph.py:274]\u001b[0m \u001b[91mCreating cell for gender (in-edges: 0)\n",
      "\u001b[32m[1019 15:10:08 @registry.py:126]\u001b[0m gen/LSTM/01/FC input: [500, 100]\n",
      "\u001b[32m[1019 15:10:08 @registry.py:134]\u001b[0m gen/LSTM/01/FC output: [500, 100]\n",
      "\u001b[32m[1019 15:10:08 @registry.py:126]\u001b[0m gen/LSTM/01/FC2 input: [500, 100]\n",
      "\u001b[32m[1019 15:10:08 @registry.py:134]\u001b[0m gen/LSTM/01/FC2 output: [500, 2]\n",
      "\u001b[32m[1019 15:10:08 @registry.py:126]\u001b[0m gen/LSTM/01/FC3 input: [500, 2]\n",
      "\u001b[32m[1019 15:10:08 @registry.py:134]\u001b[0m gen/LSTM/01/FC3 output: [500, 100]\n",
      "\u001b[32m[1019 15:10:08 @graph.py:274]\u001b[0m \u001b[91mCreating cell for travel_dow (in-edges: 0)\n",
      "\u001b[32m[1019 15:10:08 @registry.py:126]\u001b[0m gen/LSTM/02/FC input: [500, 100]\n",
      "\u001b[32m[1019 15:10:08 @registry.py:134]\u001b[0m gen/LSTM/02/FC output: [500, 100]\n",
      "\u001b[32m[1019 15:10:08 @registry.py:126]\u001b[0m gen/LSTM/02/FC2 input: [500, 100]\n",
      "\u001b[32m[1019 15:10:08 @registry.py:134]\u001b[0m gen/LSTM/02/FC2 output: [500, 7]\n",
      "\u001b[32m[1019 15:10:08 @registry.py:126]\u001b[0m gen/LSTM/02/FC3 input: [500, 7]\n",
      "\u001b[32m[1019 15:10:08 @registry.py:134]\u001b[0m gen/LSTM/02/FC3 output: [500, 100]\n",
      "\u001b[32m[1019 15:10:08 @graph.py:274]\u001b[0m \u001b[91mCreating cell for license (in-edges: 1)\n",
      "\u001b[32m[1019 15:10:08 @registry.py:126]\u001b[0m gen/LSTM/03/FC input: [500, 100]\n",
      "\u001b[32m[1019 15:10:08 @registry.py:134]\u001b[0m gen/LSTM/03/FC output: [500, 100]\n",
      "\u001b[32m[1019 15:10:08 @registry.py:126]\u001b[0m gen/LSTM/03/FC2 input: [500, 100]\n",
      "\u001b[32m[1019 15:10:08 @registry.py:134]\u001b[0m gen/LSTM/03/FC2 output: [500, 2]\n",
      "\u001b[32m[1019 15:10:08 @registry.py:126]\u001b[0m gen/LSTM/03/FC3 input: [500, 2]\n",
      "\u001b[32m[1019 15:10:08 @registry.py:134]\u001b[0m gen/LSTM/03/FC3 output: [500, 100]\n",
      "\u001b[32m[1019 15:10:08 @graph.py:274]\u001b[0m \u001b[91mCreating cell for education_level (in-edges: 1)\n",
      "\u001b[32m[1019 15:10:08 @registry.py:126]\u001b[0m gen/LSTM/04/FC input: [500, 100]\n",
      "\u001b[32m[1019 15:10:08 @registry.py:134]\u001b[0m gen/LSTM/04/FC output: [500, 100]\n",
      "\u001b[32m[1019 15:10:08 @registry.py:126]\u001b[0m gen/LSTM/04/FC2 input: [500, 100]\n",
      "\u001b[32m[1019 15:10:08 @registry.py:134]\u001b[0m gen/LSTM/04/FC2 output: [500, 6]\n",
      "\u001b[32m[1019 15:10:08 @registry.py:126]\u001b[0m gen/LSTM/04/FC3 input: [500, 6]\n",
      "\u001b[32m[1019 15:10:08 @registry.py:134]\u001b[0m gen/LSTM/04/FC3 output: [500, 100]\n",
      "\u001b[32m[1019 15:10:08 @graph.py:274]\u001b[0m \u001b[91mCreating cell for work_status (in-edges: 2)\n",
      "\u001b[32m[1019 15:10:08 @registry.py:126]\u001b[0m gen/LSTM/05/FC_inputs input: [500, 200]\n",
      "\u001b[32m[1019 15:10:08 @registry.py:134]\u001b[0m gen/LSTM/05/FC_inputs output: [500, 100]\n",
      "\u001b[32m[1019 15:10:08 @registry.py:126]\u001b[0m gen/LSTM/05/FC_attentions input: [500, 200]\n",
      "\u001b[32m[1019 15:10:08 @registry.py:134]\u001b[0m gen/LSTM/05/FC_attentions output: [500, 100]\n",
      "\u001b[32m[1019 15:10:08 @registry.py:126]\u001b[0m gen/LSTM/05/FC_lstm_state_0 input: [500, 200]\n",
      "\u001b[32m[1019 15:10:08 @registry.py:134]\u001b[0m gen/LSTM/05/FC_lstm_state_0 output: [500, 100]\n",
      "\u001b[32m[1019 15:10:08 @registry.py:126]\u001b[0m gen/LSTM/05/FC_lstm_state_1 input: [500, 200]\n",
      "\u001b[32m[1019 15:10:08 @registry.py:134]\u001b[0m gen/LSTM/05/FC_lstm_state_1 output: [500, 100]\n",
      "WARNING:tensorflow:From C:\\Users\\glede\\Documents\\EPFL\\PhD\\SynthPop\\code\\modules\\datgan_wass\\graph.py:370: The name tf.nn.rnn_cell.LSTMStateTuple is deprecated. Please use tf.compat.v1.nn.rnn_cell.LSTMStateTuple instead.\n",
      "\n",
      "\u001b[32m[1019 15:10:08 @registry.py:126]\u001b[0m gen/LSTM/06/FC input: [500, 100]\n",
      "\u001b[32m[1019 15:10:08 @registry.py:134]\u001b[0m gen/LSTM/06/FC output: [500, 100]\n",
      "\u001b[32m[1019 15:10:08 @registry.py:126]\u001b[0m gen/LSTM/06/FC2 input: [500, 100]\n",
      "\u001b[32m[1019 15:10:08 @registry.py:134]\u001b[0m gen/LSTM/06/FC2 output: [500, 8]\n",
      "\u001b[32m[1019 15:10:08 @registry.py:126]\u001b[0m gen/LSTM/06/FC3 input: [500, 8]\n"
     ]
    },
    {
     "name": "stdout",
     "output_type": "stream",
     "text": [
      "\u001b[32m[1019 15:10:09 @registry.py:134]\u001b[0m gen/LSTM/06/FC3 output: [500, 100]\n",
      "\u001b[32m[1019 15:10:09 @graph.py:274]\u001b[0m \u001b[91mCreating cell for hh_income (in-edges: 2)\n",
      "\u001b[32m[1019 15:10:09 @registry.py:126]\u001b[0m gen/LSTM/07/FC_inputs input: [500, 200]\n",
      "\u001b[32m[1019 15:10:09 @registry.py:134]\u001b[0m gen/LSTM/07/FC_inputs output: [500, 100]\n",
      "\u001b[32m[1019 15:10:09 @registry.py:126]\u001b[0m gen/LSTM/07/FC_attentions input: [500, 200]\n",
      "\u001b[32m[1019 15:10:09 @registry.py:134]\u001b[0m gen/LSTM/07/FC_attentions output: [500, 100]\n",
      "\u001b[32m[1019 15:10:09 @registry.py:126]\u001b[0m gen/LSTM/07/FC_lstm_state_0 input: [500, 200]\n",
      "\u001b[32m[1019 15:10:09 @registry.py:134]\u001b[0m gen/LSTM/07/FC_lstm_state_0 output: [500, 100]\n",
      "\u001b[32m[1019 15:10:09 @registry.py:126]\u001b[0m gen/LSTM/07/FC_lstm_state_1 input: [500, 200]\n",
      "\u001b[32m[1019 15:10:09 @registry.py:134]\u001b[0m gen/LSTM/07/FC_lstm_state_1 output: [500, 100]\n",
      "\u001b[32m[1019 15:10:09 @registry.py:126]\u001b[0m gen/LSTM/08/FC input: [500, 100]\n",
      "\u001b[32m[1019 15:10:09 @registry.py:134]\u001b[0m gen/LSTM/08/FC output: [500, 100]\n",
      "\u001b[32m[1019 15:10:09 @registry.py:126]\u001b[0m gen/LSTM/08/FC2 input: [500, 100]\n",
      "\u001b[32m[1019 15:10:09 @registry.py:134]\u001b[0m gen/LSTM/08/FC2 output: [500, 7]\n",
      "\u001b[32m[1019 15:10:09 @registry.py:126]\u001b[0m gen/LSTM/08/FC3 input: [500, 7]\n",
      "\u001b[32m[1019 15:10:09 @registry.py:134]\u001b[0m gen/LSTM/08/FC3 output: [500, 100]\n",
      "\u001b[32m[1019 15:10:09 @graph.py:274]\u001b[0m \u001b[91mCreating cell for trip_purpose (in-edges: 1)\n",
      "\u001b[32m[1019 15:10:09 @registry.py:126]\u001b[0m gen/LSTM/09/FC input: [500, 100]\n",
      "\u001b[32m[1019 15:10:09 @registry.py:134]\u001b[0m gen/LSTM/09/FC output: [500, 100]\n",
      "\u001b[32m[1019 15:10:09 @registry.py:126]\u001b[0m gen/LSTM/09/FC2 input: [500, 100]\n",
      "\u001b[32m[1019 15:10:09 @registry.py:134]\u001b[0m gen/LSTM/09/FC2 output: [500, 7]\n",
      "\u001b[32m[1019 15:10:09 @registry.py:126]\u001b[0m gen/LSTM/09/FC3 input: [500, 7]\n",
      "\u001b[32m[1019 15:10:09 @registry.py:134]\u001b[0m gen/LSTM/09/FC3 output: [500, 100]\n",
      "\u001b[32m[1019 15:10:09 @graph.py:274]\u001b[0m \u001b[91mCreating cell for hh_descr (in-edges: 2)\n",
      "\u001b[32m[1019 15:10:09 @registry.py:126]\u001b[0m gen/LSTM/10/FC_inputs input: [500, 200]\n",
      "\u001b[32m[1019 15:10:09 @registry.py:134]\u001b[0m gen/LSTM/10/FC_inputs output: [500, 100]\n",
      "\u001b[32m[1019 15:10:09 @registry.py:126]\u001b[0m gen/LSTM/10/FC_attentions input: [500, 200]\n",
      "\u001b[32m[1019 15:10:09 @registry.py:134]\u001b[0m gen/LSTM/10/FC_attentions output: [500, 100]\n",
      "\u001b[32m[1019 15:10:09 @registry.py:126]\u001b[0m gen/LSTM/10/FC_lstm_state_0 input: [500, 200]\n",
      "\u001b[32m[1019 15:10:09 @registry.py:134]\u001b[0m gen/LSTM/10/FC_lstm_state_0 output: [500, 100]\n",
      "\u001b[32m[1019 15:10:09 @registry.py:126]\u001b[0m gen/LSTM/10/FC_lstm_state_1 input: [500, 200]\n",
      "\u001b[32m[1019 15:10:09 @registry.py:134]\u001b[0m gen/LSTM/10/FC_lstm_state_1 output: [500, 100]\n",
      "\u001b[32m[1019 15:10:09 @registry.py:126]\u001b[0m gen/LSTM/11/FC input: [500, 100]\n",
      "\u001b[32m[1019 15:10:09 @registry.py:134]\u001b[0m gen/LSTM/11/FC output: [500, 100]\n",
      "\u001b[32m[1019 15:10:09 @registry.py:126]\u001b[0m gen/LSTM/11/FC2 input: [500, 100]\n",
      "\u001b[32m[1019 15:10:09 @registry.py:134]\u001b[0m gen/LSTM/11/FC2 output: [500, 3]\n",
      "\u001b[32m[1019 15:10:09 @registry.py:126]\u001b[0m gen/LSTM/11/FC3 input: [500, 3]\n",
      "\u001b[32m[1019 15:10:09 @registry.py:134]\u001b[0m gen/LSTM/11/FC3 output: [500, 100]\n",
      "\u001b[32m[1019 15:10:09 @graph.py:274]\u001b[0m \u001b[91mCreating cell for hh_size (in-edges: 3)\n",
      "\u001b[32m[1019 15:10:09 @registry.py:126]\u001b[0m gen/LSTM/12/FC_inputs input: [500, 300]\n",
      "\u001b[32m[1019 15:10:09 @registry.py:134]\u001b[0m gen/LSTM/12/FC_inputs output: [500, 100]\n",
      "\u001b[32m[1019 15:10:09 @registry.py:126]\u001b[0m gen/LSTM/12/FC_attentions input: [500, 300]\n",
      "\u001b[32m[1019 15:10:09 @registry.py:134]\u001b[0m gen/LSTM/12/FC_attentions output: [500, 100]\n",
      "\u001b[32m[1019 15:10:09 @registry.py:126]\u001b[0m gen/LSTM/12/FC_lstm_state_0 input: [500, 300]\n",
      "\u001b[32m[1019 15:10:09 @registry.py:134]\u001b[0m gen/LSTM/12/FC_lstm_state_0 output: [500, 100]\n",
      "\u001b[32m[1019 15:10:09 @registry.py:126]\u001b[0m gen/LSTM/12/FC_lstm_state_1 input: [500, 300]\n",
      "\u001b[32m[1019 15:10:09 @registry.py:134]\u001b[0m gen/LSTM/12/FC_lstm_state_1 output: [500, 100]\n",
      "\u001b[32m[1019 15:10:09 @registry.py:126]\u001b[0m gen/LSTM/13/FC input: [500, 100]\n",
      "\u001b[32m[1019 15:10:09 @registry.py:134]\u001b[0m gen/LSTM/13/FC output: [500, 100]\n",
      "\u001b[32m[1019 15:10:09 @registry.py:126]\u001b[0m gen/LSTM/13/FC2 input: [500, 100]\n",
      "\u001b[32m[1019 15:10:09 @registry.py:134]\u001b[0m gen/LSTM/13/FC2 output: [500, 8]\n",
      "\u001b[32m[1019 15:10:09 @registry.py:126]\u001b[0m gen/LSTM/13/FC3 input: [500, 8]\n",
      "\u001b[32m[1019 15:10:09 @registry.py:134]\u001b[0m gen/LSTM/13/FC3 output: [500, 100]\n",
      "\u001b[32m[1019 15:10:09 @graph.py:274]\u001b[0m \u001b[91mCreating cell for departure_time (in-edges: 1)\n",
      "\u001b[32m[1019 15:10:09 @registry.py:126]\u001b[0m gen/LSTM/14/FC input: [500, 100]\n",
      "\u001b[32m[1019 15:10:09 @registry.py:134]\u001b[0m gen/LSTM/14/FC output: [500, 100]\n",
      "\u001b[32m[1019 15:10:09 @registry.py:126]\u001b[0m gen/LSTM/14/FC2_val input: [500, 100]\n",
      "\u001b[32m[1019 15:10:09 @registry.py:134]\u001b[0m gen/LSTM/14/FC2_val output: [500, 8]\n",
      "\u001b[32m[1019 15:10:09 @registry.py:126]\u001b[0m gen/LSTM/14/FC2_prob input: [500, 100]\n",
      "\u001b[32m[1019 15:10:09 @registry.py:134]\u001b[0m gen/LSTM/14/FC2_prob output: [500, 8]\n",
      "\u001b[32m[1019 15:10:09 @registry.py:126]\u001b[0m gen/LSTM/14/FC3 input: [500, 16]\n",
      "\u001b[32m[1019 15:10:09 @registry.py:134]\u001b[0m gen/LSTM/14/FC3 output: [500, 100]\n",
      "\u001b[32m[1019 15:10:09 @graph.py:274]\u001b[0m \u001b[91mCreating cell for distance (in-edges: 1)\n",
      "\u001b[32m[1019 15:10:09 @registry.py:126]\u001b[0m gen/LSTM/15/FC input: [500, 100]\n",
      "\u001b[32m[1019 15:10:09 @registry.py:134]\u001b[0m gen/LSTM/15/FC output: [500, 100]\n",
      "\u001b[32m[1019 15:10:09 @registry.py:126]\u001b[0m gen/LSTM/15/FC2_val input: [500, 100]\n",
      "\u001b[32m[1019 15:10:09 @registry.py:134]\u001b[0m gen/LSTM/15/FC2_val output: [500, 10]\n",
      "\u001b[32m[1019 15:10:09 @registry.py:126]\u001b[0m gen/LSTM/15/FC2_prob input: [500, 100]\n",
      "\u001b[32m[1019 15:10:09 @registry.py:134]\u001b[0m gen/LSTM/15/FC2_prob output: [500, 10]\n",
      "\u001b[32m[1019 15:10:09 @registry.py:126]\u001b[0m gen/LSTM/15/FC3 input: [500, 20]\n",
      "\u001b[32m[1019 15:10:09 @registry.py:134]\u001b[0m gen/LSTM/15/FC3 output: [500, 100]\n",
      "\u001b[32m[1019 15:10:09 @graph.py:274]\u001b[0m \u001b[91mCreating cell for hh_vehicles (in-edges: 2)\n",
      "\u001b[32m[1019 15:10:09 @registry.py:126]\u001b[0m gen/LSTM/16/FC_inputs input: [500, 200]\n",
      "\u001b[32m[1019 15:10:09 @registry.py:134]\u001b[0m gen/LSTM/16/FC_inputs output: [500, 100]\n",
      "\u001b[32m[1019 15:10:09 @registry.py:126]\u001b[0m gen/LSTM/16/FC_attentions input: [500, 200]\n",
      "\u001b[32m[1019 15:10:09 @registry.py:134]\u001b[0m gen/LSTM/16/FC_attentions output: [500, 100]\n",
      "\u001b[32m[1019 15:10:09 @registry.py:126]\u001b[0m gen/LSTM/16/FC_lstm_state_0 input: [500, 200]\n",
      "\u001b[32m[1019 15:10:09 @registry.py:134]\u001b[0m gen/LSTM/16/FC_lstm_state_0 output: [500, 100]\n",
      "\u001b[32m[1019 15:10:09 @registry.py:126]\u001b[0m gen/LSTM/16/FC_lstm_state_1 input: [500, 200]\n",
      "\u001b[32m[1019 15:10:09 @registry.py:134]\u001b[0m gen/LSTM/16/FC_lstm_state_1 output: [500, 100]\n",
      "\u001b[32m[1019 15:10:09 @registry.py:126]\u001b[0m gen/LSTM/17/FC input: [500, 100]\n",
      "\u001b[32m[1019 15:10:09 @registry.py:134]\u001b[0m gen/LSTM/17/FC output: [500, 100]\n",
      "\u001b[32m[1019 15:10:09 @registry.py:126]\u001b[0m gen/LSTM/17/FC2 input: [500, 100]\n",
      "\u001b[32m[1019 15:10:09 @registry.py:134]\u001b[0m gen/LSTM/17/FC2 output: [500, 9]\n",
      "\u001b[32m[1019 15:10:09 @registry.py:126]\u001b[0m gen/LSTM/17/FC3 input: [500, 9]\n",
      "\u001b[32m[1019 15:10:09 @registry.py:134]\u001b[0m gen/LSTM/17/FC3 output: [500, 100]\n",
      "\u001b[32m[1019 15:10:09 @graph.py:274]\u001b[0m \u001b[91mCreating cell for hh_bikes (in-edges: 2)\n",
      "\u001b[32m[1019 15:10:09 @registry.py:126]\u001b[0m gen/LSTM/18/FC_inputs input: [500, 200]\n",
      "\u001b[32m[1019 15:10:09 @registry.py:134]\u001b[0m gen/LSTM/18/FC_inputs output: [500, 100]\n",
      "\u001b[32m[1019 15:10:09 @registry.py:126]\u001b[0m gen/LSTM/18/FC_attentions input: [500, 200]\n",
      "\u001b[32m[1019 15:10:09 @registry.py:134]\u001b[0m gen/LSTM/18/FC_attentions output: [500, 100]\n",
      "\u001b[32m[1019 15:10:09 @registry.py:126]\u001b[0m gen/LSTM/18/FC_lstm_state_0 input: [500, 200]\n",
      "\u001b[32m[1019 15:10:09 @registry.py:134]\u001b[0m gen/LSTM/18/FC_lstm_state_0 output: [500, 100]\n",
      "\u001b[32m[1019 15:10:09 @registry.py:126]\u001b[0m gen/LSTM/18/FC_lstm_state_1 input: [500, 200]\n",
      "\u001b[32m[1019 15:10:09 @registry.py:134]\u001b[0m gen/LSTM/18/FC_lstm_state_1 output: [500, 100]\n",
      "\u001b[32m[1019 15:10:09 @registry.py:126]\u001b[0m gen/LSTM/19/FC input: [500, 100]\n",
      "\u001b[32m[1019 15:10:09 @registry.py:134]\u001b[0m gen/LSTM/19/FC output: [500, 100]\n",
      "\u001b[32m[1019 15:10:09 @registry.py:126]\u001b[0m gen/LSTM/19/FC2 input: [500, 100]\n",
      "\u001b[32m[1019 15:10:09 @registry.py:134]\u001b[0m gen/LSTM/19/FC2 output: [500, 8]\n",
      "\u001b[32m[1019 15:10:09 @registry.py:126]\u001b[0m gen/LSTM/19/FC3 input: [500, 8]\n",
      "\u001b[32m[1019 15:10:09 @registry.py:134]\u001b[0m gen/LSTM/19/FC3 output: [500, 100]\n"
     ]
    },
    {
     "name": "stdout",
     "output_type": "stream",
     "text": [
      "\u001b[32m[1019 15:10:09 @graph.py:274]\u001b[0m \u001b[91mCreating cell for choice (in-edges: 7)\n",
      "\u001b[32m[1019 15:10:09 @registry.py:126]\u001b[0m gen/LSTM/20/FC_inputs input: [500, 700]\n",
      "\u001b[32m[1019 15:10:09 @registry.py:134]\u001b[0m gen/LSTM/20/FC_inputs output: [500, 100]\n",
      "\u001b[32m[1019 15:10:09 @registry.py:126]\u001b[0m gen/LSTM/20/FC_attentions input: [500, 700]\n",
      "\u001b[32m[1019 15:10:09 @registry.py:134]\u001b[0m gen/LSTM/20/FC_attentions output: [500, 100]\n",
      "\u001b[32m[1019 15:10:09 @registry.py:126]\u001b[0m gen/LSTM/20/FC_lstm_state_0 input: [500, 700]\n",
      "\u001b[32m[1019 15:10:09 @registry.py:134]\u001b[0m gen/LSTM/20/FC_lstm_state_0 output: [500, 100]\n",
      "\u001b[32m[1019 15:10:09 @registry.py:126]\u001b[0m gen/LSTM/20/FC_lstm_state_1 input: [500, 700]\n",
      "\u001b[32m[1019 15:10:09 @registry.py:134]\u001b[0m gen/LSTM/20/FC_lstm_state_1 output: [500, 100]\n",
      "\u001b[32m[1019 15:10:09 @registry.py:126]\u001b[0m gen/LSTM/21/FC input: [500, 100]\n",
      "\u001b[32m[1019 15:10:09 @registry.py:134]\u001b[0m gen/LSTM/21/FC output: [500, 100]\n",
      "\u001b[32m[1019 15:10:09 @registry.py:126]\u001b[0m gen/LSTM/21/FC2 input: [500, 100]\n",
      "\u001b[32m[1019 15:10:09 @registry.py:134]\u001b[0m gen/LSTM/21/FC2 output: [500, 5]\n",
      "\u001b[32m[1019 15:10:09 @registry.py:126]\u001b[0m gen/LSTM/21/FC3 input: [500, 5]\n",
      "\u001b[32m[1019 15:10:09 @registry.py:134]\u001b[0m gen/LSTM/21/FC3 output: [500, 100]\n",
      "WARNING:tensorflow:From C:\\Users\\glede\\Documents\\EPFL\\PhD\\SynthPop\\code\\modules\\datgan_wass\\graph.py:631: The name tf.random_uniform is deprecated. Please use tf.random.uniform instead.\n",
      "\n",
      "\u001b[32m[1019 15:10:09 @registry.py:126]\u001b[0m discrim/dis_fc0/fc input: [500, 120]\n",
      "\u001b[32m[1019 15:10:09 @registry.py:134]\u001b[0m discrim/dis_fc0/fc output: [500, 100]\n",
      "\u001b[32m[1019 15:10:09 @registry.py:126]\u001b[0m discrim/dis_fc0/fc_diversity input: [500, 100]\n",
      "\u001b[32m[1019 15:10:10 @registry.py:134]\u001b[0m discrim/dis_fc0/fc_diversity output: [500, 100]\n",
      "\u001b[32m[1019 15:10:10 @registry.py:126]\u001b[0m discrim/dis_fc_top input: [500, 110]\n",
      "\u001b[32m[1019 15:10:10 @registry.py:134]\u001b[0m discrim/dis_fc_top output: [500, 1]\n",
      "\u001b[32m[1019 15:10:10 @registry.py:126]\u001b[0m dis_fc0/fc input: [500, 120]\n",
      "\u001b[32m[1019 15:10:10 @registry.py:134]\u001b[0m dis_fc0/fc output: [500, 100]\n",
      "\u001b[32m[1019 15:10:10 @registry.py:126]\u001b[0m dis_fc0/fc_diversity input: [500, 100]\n",
      "\u001b[32m[1019 15:10:10 @registry.py:134]\u001b[0m dis_fc0/fc_diversity output: [500, 100]\n",
      "\u001b[32m[1019 15:10:10 @registry.py:126]\u001b[0m dis_fc_top input: [500, 110]\n",
      "\u001b[32m[1019 15:10:10 @registry.py:134]\u001b[0m dis_fc_top output: [500, 1]\n",
      "WARNING:tensorflow:\n",
      "The TensorFlow contrib module will not be included in TensorFlow 2.0.\n",
      "For more information, please see:\n",
      "  * https://github.com/tensorflow/community/blob/master/rfcs/20180907-contrib-sunset.md\n",
      "  * https://github.com/tensorflow/addons\n",
      "  * https://github.com/tensorflow/io (for I/O related ops)\n",
      "If you depend on functionality not listed there, please file an issue.\n",
      "\n",
      "WARNING:tensorflow:From D:\\Users\\glede\\anaconda3\\envs\\py37\\lib\\site-packages\\tensorpack\\tfutils\\summary.py:269: The name tf.add_to_collection is deprecated. Please use tf.compat.v1.add_to_collection instead.\n",
      "\n",
      "WARNING:tensorflow:From C:\\Users\\glede\\Documents\\EPFL\\PhD\\SynthPop\\code\\modules\\datgan_wass\\graph.py:694: The name tf.train.AdamOptimizer is deprecated. Please use tf.compat.v1.train.AdamOptimizer instead.\n",
      "\n",
      "\u001b[32m[1019 15:10:13 @logger.py:90]\u001b[0m Argv: D:\\Users\\glede\\anaconda3\\envs\\py37\\lib\\site-packages\\ipykernel_launcher.py -f C:\\Users\\glede\\AppData\\Roaming\\jupyter\\runtime\\kernel-928d7b14-6eb8-49f7-ac9b-18567fab4a66.json\n",
      "WARNING:tensorflow:From D:\\Users\\glede\\anaconda3\\envs\\py37\\lib\\site-packages\\tensorpack\\callbacks\\saver.py:43: The name tf.gfile.IsDirectory is deprecated. Please use tf.io.gfile.isdir instead.\n",
      "\n",
      "WARNING:tensorflow:From D:\\Users\\glede\\anaconda3\\envs\\py37\\lib\\site-packages\\tensorpack\\callbacks\\saver.py:44: The name tf.gfile.MakeDirs is deprecated. Please use tf.io.gfile.makedirs instead.\n",
      "\n",
      "WARNING:tensorflow:From D:\\Users\\glede\\anaconda3\\envs\\py37\\lib\\site-packages\\tensorpack\\tfutils\\common.py:41: The name tf.ConfigProto is deprecated. Please use tf.compat.v1.ConfigProto instead.\n",
      "\n",
      "\u001b[32m[1019 15:10:13 @model_utils.py:67]\u001b[0m \u001b[36mList of Trainable Variables: \n",
      "\u001b[0mname                              shape         #elements\n",
      "--------------------------------  ----------  -----------\n",
      "gen/LSTM/go_age:0                 [1, 100]            100\n",
      "gen/LSTM/lstm_cell/kernel:0       [500, 400]       200000\n",
      "gen/LSTM/lstm_cell/bias:0         [400]               400\n",
      "gen/LSTM/00/FC/W:0                [100, 100]        10000\n",
      "gen/LSTM/00/FC/b:0                [100]               100\n",
      "gen/LSTM/00/FC2_val/W:0           [100, 6]            600\n",
      "gen/LSTM/00/FC2_val/b:0           [6]                   6\n",
      "gen/LSTM/00/FC2_prob/W:0          [100, 6]            600\n",
      "gen/LSTM/00/FC2_prob/b:0          [6]                   6\n",
      "gen/LSTM/00/FC3/W:0               [12, 100]          1200\n",
      "gen/LSTM/00/FC3/b:0               [100]               100\n",
      "gen/LSTM/00/attw:0                [1, 1, 1]             1\n",
      "gen/LSTM/go_gender:0              [1, 100]            100\n",
      "gen/LSTM/01/FC/W:0                [100, 100]        10000\n",
      "gen/LSTM/01/FC/b:0                [100]               100\n",
      "gen/LSTM/01/FC2/W:0               [100, 2]            200\n",
      "gen/LSTM/01/FC2/b:0               [2]                   2\n",
      "gen/LSTM/01/FC3/W:0               [2, 100]            200\n",
      "gen/LSTM/01/FC3/b:0               [100]               100\n",
      "gen/LSTM/01/attw:0                [1, 1, 1]             1\n",
      "gen/LSTM/go_travel_dow:0          [1, 100]            100\n",
      "gen/LSTM/02/FC/W:0                [100, 100]        10000\n",
      "gen/LSTM/02/FC/b:0                [100]               100\n",
      "gen/LSTM/02/FC2/W:0               [100, 7]            700\n",
      "gen/LSTM/02/FC2/b:0               [7]                   7\n",
      "gen/LSTM/02/FC3/W:0               [7, 100]            700\n",
      "gen/LSTM/02/FC3/b:0               [100]               100\n",
      "gen/LSTM/02/attw:0                [1, 1, 1]             1\n",
      "gen/LSTM/03/FC/W:0                [100, 100]        10000\n",
      "gen/LSTM/03/FC/b:0                [100]               100\n",
      "gen/LSTM/03/FC2/W:0               [100, 2]            200\n",
      "gen/LSTM/03/FC2/b:0               [2]                   2\n",
      "gen/LSTM/03/FC3/W:0               [2, 100]            200\n",
      "gen/LSTM/03/FC3/b:0               [100]               100\n",
      "gen/LSTM/03/attw:0                [2, 1, 1]             2\n",
      "gen/LSTM/04/FC/W:0                [100, 100]        10000\n",
      "gen/LSTM/04/FC/b:0                [100]               100\n",
      "gen/LSTM/04/FC2/W:0               [100, 6]            600\n",
      "gen/LSTM/04/FC2/b:0               [6]                   6\n",
      "gen/LSTM/04/FC3/W:0               [6, 100]            600\n",
      "gen/LSTM/04/FC3/b:0               [100]               100\n",
      "gen/LSTM/04/attw:0                [2, 1, 1]             2\n",
      "gen/LSTM/05/FC_inputs/W:0         [200, 100]        20000\n",
      "gen/LSTM/05/FC_inputs/b:0         [100]               100\n",
      "gen/LSTM/05/FC_attentions/W:0     [200, 100]        20000\n",
      "gen/LSTM/05/FC_attentions/b:0     [100]               100\n",
      "gen/LSTM/05/FC_lstm_state_0/W:0   [200, 100]        20000\n",
      "gen/LSTM/05/FC_lstm_state_0/b:0   [100]               100\n",
      "gen/LSTM/05/FC_lstm_state_1/W:0   [200, 100]        20000\n",
      "gen/LSTM/05/FC_lstm_state_1/b:0   [100]               100\n",
      "gen/LSTM/06/FC/W:0                [100, 100]        10000\n",
      "gen/LSTM/06/FC/b:0                [100]               100\n",
      "gen/LSTM/06/FC2/W:0               [100, 8]            800\n",
      "gen/LSTM/06/FC2/b:0               [8]                   8\n",
      "gen/LSTM/06/FC3/W:0               [8, 100]            800\n",
      "gen/LSTM/06/FC3/b:0               [100]               100\n",
      "gen/LSTM/06/attw:0                [4, 1, 1]             4\n",
      "gen/LSTM/07/FC_inputs/W:0         [200, 100]        20000\n",
      "gen/LSTM/07/FC_inputs/b:0         [100]               100\n",
      "gen/LSTM/07/FC_attentions/W:0     [200, 100]        20000\n",
      "gen/LSTM/07/FC_attentions/b:0     [100]               100\n",
      "gen/LSTM/07/FC_lstm_state_0/W:0   [200, 100]        20000\n",
      "gen/LSTM/07/FC_lstm_state_0/b:0   [100]               100\n",
      "gen/LSTM/07/FC_lstm_state_1/W:0   [200, 100]        20000\n",
      "gen/LSTM/07/FC_lstm_state_1/b:0   [100]               100\n",
      "gen/LSTM/08/FC/W:0                [100, 100]        10000\n",
      "gen/LSTM/08/FC/b:0                [100]               100\n",
      "gen/LSTM/08/FC2/W:0               [100, 7]            700\n",
      "gen/LSTM/08/FC2/b:0               [7]                   7\n",
      "gen/LSTM/08/FC3/W:0               [7, 100]            700\n",
      "gen/LSTM/08/FC3/b:0               [100]               100\n",
      "gen/LSTM/08/attw:0                [5, 1, 1]             5\n",
      "gen/LSTM/09/FC/W:0                [100, 100]        10000\n",
      "gen/LSTM/09/FC/b:0                [100]               100\n",
      "gen/LSTM/09/FC2/W:0               [100, 7]            700\n",
      "gen/LSTM/09/FC2/b:0               [7]                   7\n",
      "gen/LSTM/09/FC3/W:0               [7, 100]            700\n",
      "gen/LSTM/09/FC3/b:0               [100]               100\n",
      "gen/LSTM/09/attw:0                [5, 1, 1]             5\n",
      "gen/LSTM/10/FC_inputs/W:0         [200, 100]        20000\n",
      "gen/LSTM/10/FC_inputs/b:0         [100]               100\n",
      "gen/LSTM/10/FC_attentions/W:0     [200, 100]        20000\n",
      "gen/LSTM/10/FC_attentions/b:0     [100]               100\n",
      "gen/LSTM/10/FC_lstm_state_0/W:0   [200, 100]        20000\n",
      "gen/LSTM/10/FC_lstm_state_0/b:0   [100]               100\n",
      "gen/LSTM/10/FC_lstm_state_1/W:0   [200, 100]        20000\n",
      "gen/LSTM/10/FC_lstm_state_1/b:0   [100]               100\n",
      "gen/LSTM/11/FC/W:0                [100, 100]        10000\n",
      "gen/LSTM/11/FC/b:0                [100]               100\n",
      "gen/LSTM/11/FC2/W:0               [100, 3]            300\n",
      "gen/LSTM/11/FC2/b:0               [3]                   3\n",
      "gen/LSTM/11/FC3/W:0               [3, 100]            300\n",
      "gen/LSTM/11/FC3/b:0               [100]               100\n",
      "gen/LSTM/11/attw:0                [6, 1, 1]             6\n",
      "gen/LSTM/12/FC_inputs/W:0         [300, 100]        30000\n",
      "gen/LSTM/12/FC_inputs/b:0         [100]               100\n",
      "gen/LSTM/12/FC_attentions/W:0     [300, 100]        30000\n",
      "gen/LSTM/12/FC_attentions/b:0     [100]               100\n",
      "gen/LSTM/12/FC_lstm_state_0/W:0   [300, 100]        30000\n",
      "gen/LSTM/12/FC_lstm_state_0/b:0   [100]               100\n",
      "gen/LSTM/12/FC_lstm_state_1/W:0   [300, 100]        30000\n",
      "gen/LSTM/12/FC_lstm_state_1/b:0   [100]               100\n",
      "gen/LSTM/13/FC/W:0                [100, 100]        10000\n",
      "gen/LSTM/13/FC/b:0                [100]               100\n",
      "gen/LSTM/13/FC2/W:0               [100, 8]            800\n",
      "gen/LSTM/13/FC2/b:0               [8]                   8\n",
      "gen/LSTM/13/FC3/W:0               [8, 100]            800\n",
      "gen/LSTM/13/FC3/b:0               [100]               100\n",
      "gen/LSTM/13/attw:0                [6, 1, 1]             6\n",
      "gen/LSTM/14/FC/W:0                [100, 100]        10000\n",
      "gen/LSTM/14/FC/b:0                [100]               100\n",
      "gen/LSTM/14/FC2_val/W:0           [100, 8]            800\n",
      "gen/LSTM/14/FC2_val/b:0           [8]                   8\n",
      "gen/LSTM/14/FC2_prob/W:0          [100, 8]            800\n",
      "gen/LSTM/14/FC2_prob/b:0          [8]                   8\n",
      "gen/LSTM/14/FC3/W:0               [16, 100]          1600\n",
      "gen/LSTM/14/FC3/b:0               [100]               100\n",
      "gen/LSTM/14/attw:0                [6, 1, 1]             6\n",
      "gen/LSTM/15/FC/W:0                [100, 100]        10000\n",
      "gen/LSTM/15/FC/b:0                [100]               100\n",
      "gen/LSTM/15/FC2_val/W:0           [100, 10]          1000\n",
      "gen/LSTM/15/FC2_val/b:0           [10]                 10\n",
      "gen/LSTM/15/FC2_prob/W:0          [100, 10]          1000\n",
      "gen/LSTM/15/FC2_prob/b:0          [10]                 10\n",
      "gen/LSTM/15/FC3/W:0               [20, 100]          2000\n",
      "gen/LSTM/15/FC3/b:0               [100]               100\n",
      "gen/LSTM/15/attw:0                [6, 1, 1]             6\n",
      "gen/LSTM/16/FC_inputs/W:0         [200, 100]        20000\n",
      "gen/LSTM/16/FC_inputs/b:0         [100]               100\n",
      "gen/LSTM/16/FC_attentions/W:0     [200, 100]        20000\n",
      "gen/LSTM/16/FC_attentions/b:0     [100]               100\n",
      "gen/LSTM/16/FC_lstm_state_0/W:0   [200, 100]        20000\n",
      "gen/LSTM/16/FC_lstm_state_0/b:0   [100]               100\n",
      "gen/LSTM/16/FC_lstm_state_1/W:0   [200, 100]        20000\n",
      "gen/LSTM/16/FC_lstm_state_1/b:0   [100]               100\n",
      "gen/LSTM/17/FC/W:0                [100, 100]        10000\n",
      "gen/LSTM/17/FC/b:0                [100]               100\n",
      "gen/LSTM/17/FC2/W:0               [100, 9]            900\n",
      "gen/LSTM/17/FC2/b:0               [9]                   9\n",
      "gen/LSTM/17/FC3/W:0               [9, 100]            900\n",
      "gen/LSTM/17/FC3/b:0               [100]               100\n",
      "gen/LSTM/17/attw:0                [7, 1, 1]             7\n",
      "gen/LSTM/18/FC_inputs/W:0         [200, 100]        20000\n",
      "gen/LSTM/18/FC_inputs/b:0         [100]               100\n",
      "gen/LSTM/18/FC_attentions/W:0     [200, 100]        20000\n",
      "gen/LSTM/18/FC_attentions/b:0     [100]               100\n",
      "gen/LSTM/18/FC_lstm_state_0/W:0   [200, 100]        20000\n",
      "gen/LSTM/18/FC_lstm_state_0/b:0   [100]               100\n",
      "gen/LSTM/18/FC_lstm_state_1/W:0   [200, 100]        20000\n",
      "gen/LSTM/18/FC_lstm_state_1/b:0   [100]               100\n",
      "gen/LSTM/19/FC/W:0                [100, 100]        10000\n",
      "gen/LSTM/19/FC/b:0                [100]               100\n",
      "gen/LSTM/19/FC2/W:0               [100, 8]            800\n",
      "gen/LSTM/19/FC2/b:0               [8]                   8\n",
      "gen/LSTM/19/FC3/W:0               [8, 100]            800\n",
      "gen/LSTM/19/FC3/b:0               [100]               100\n",
      "gen/LSTM/19/attw:0                [7, 1, 1]             7\n",
      "gen/LSTM/20/FC_inputs/W:0         [700, 100]        70000\n",
      "gen/LSTM/20/FC_inputs/b:0         [100]               100\n",
      "gen/LSTM/20/FC_attentions/W:0     [700, 100]        70000\n",
      "gen/LSTM/20/FC_attentions/b:0     [100]               100\n",
      "gen/LSTM/20/FC_lstm_state_0/W:0   [700, 100]        70000\n",
      "gen/LSTM/20/FC_lstm_state_0/b:0   [100]               100\n",
      "gen/LSTM/20/FC_lstm_state_1/W:0   [700, 100]        70000\n",
      "gen/LSTM/20/FC_lstm_state_1/b:0   [100]               100\n",
      "gen/LSTM/21/FC/W:0                [100, 100]        10000\n",
      "gen/LSTM/21/FC/b:0                [100]               100\n",
      "gen/LSTM/21/FC2/W:0               [100, 5]            500\n",
      "gen/LSTM/21/FC2/b:0               [5]                   5\n",
      "gen/LSTM/21/FC3/W:0               [5, 100]            500\n",
      "gen/LSTM/21/FC3/b:0               [100]               100\n",
      "gen/LSTM/21/attw:0                [14, 1, 1]           14\n",
      "discrim/dis_fc0/fc/W:0            [120, 100]        12000\n",
      "discrim/dis_fc0/fc/b:0            [100]               100\n",
      "discrim/dis_fc0/fc_diversity/W:0  [100, 100]        10000\n",
      "discrim/dis_fc0/fc_diversity/b:0  [100]               100\n",
      "discrim/dis_fc0/ln/beta:0         [110]               110\n",
      "discrim/dis_fc0/ln/gamma:0        [110]               110\n",
      "discrim/dis_fc_top/W:0            [110, 1]            110\n",
      "discrim/dis_fc_top/b:0            [1]                   1\n",
      "dis_fc0/fc/W:0                    [120, 100]        12000\n",
      "dis_fc0/fc/b:0                    [100]               100\n",
      "dis_fc0/fc_diversity/W:0          [100, 100]        10000\n",
      "dis_fc0/fc_diversity/b:0          [100]               100\n",
      "dis_fc0/ln/beta:0                 [110]               110\n",
      "dis_fc0/ln/gamma:0                [110]               110\n",
      "dis_fc_top/W:0                    [110, 1]            110\n",
      "dis_fc_top/b:0                    [1]                   1\u001b[36m\n",
      "Number of trainable variables: 188\n",
      "Number of parameters (elements): 1225755\n",
      "Storage space needed for all trainable variables: 4.68MB\u001b[0m\n"
     ]
    },
    {
     "name": "stdout",
     "output_type": "stream",
     "text": [
      "\u001b[32m[1019 15:10:13 @base.py:209]\u001b[0m Setup callbacks graph ...\n",
      "WARNING:tensorflow:From D:\\Users\\glede\\anaconda3\\envs\\py37\\lib\\site-packages\\tensorpack\\callbacks\\graph.py:54: The name tf.train.SessionRunArgs is deprecated. Please use tf.estimator.SessionRunArgs instead.\n",
      "\n",
      "WARNING:tensorflow:From D:\\Users\\glede\\anaconda3\\envs\\py37\\lib\\site-packages\\tensorpack\\tfutils\\common.py:75: The name tf.VariableScope is deprecated. Please use tf.compat.v1.VariableScope instead.\n",
      "\n",
      "WARNING:tensorflow:From D:\\Users\\glede\\anaconda3\\envs\\py37\\lib\\site-packages\\tensorpack\\tfutils\\common.py:77: The name tf.train.get_or_create_global_step is deprecated. Please use tf.compat.v1.train.get_or_create_global_step instead.\n",
      "\n",
      "WARNING:tensorflow:From D:\\Users\\glede\\anaconda3\\envs\\py37\\lib\\site-packages\\tensorpack\\callbacks\\steps.py:117: The name tf.assign_add is deprecated. Please use tf.compat.v1.assign_add instead.\n",
      "\n",
      "WARNING:tensorflow:From D:\\Users\\glede\\anaconda3\\envs\\py37\\lib\\site-packages\\tensorpack\\callbacks\\saver.py:55: The name tf.train.Saver is deprecated. Please use tf.compat.v1.train.Saver instead.\n",
      "\n",
      "WARNING:tensorflow:From D:\\Users\\glede\\anaconda3\\envs\\py37\\lib\\site-packages\\tensorpack\\callbacks\\saver.py:59: The name tf.train.SaverDef is deprecated. Please use tf.compat.v1.train.SaverDef instead.\n",
      "\n",
      "\u001b[32m[1019 15:10:13 @summary.py:46]\u001b[0m [MovingAverageSummary] 4 operations in collection 'MOVING_SUMMARY_OPS' will be run with session hooks.\n",
      "\u001b[32m[1019 15:10:13 @summary.py:93]\u001b[0m Summarizing collection 'summaries' of size 5.\n",
      "WARNING:tensorflow:From D:\\Users\\glede\\anaconda3\\envs\\py37\\lib\\site-packages\\tensorpack\\callbacks\\summary.py:94: The name tf.summary.merge_all is deprecated. Please use tf.compat.v1.summary.merge_all instead.\n",
      "\n",
      "WARNING:tensorflow:From D:\\Users\\glede\\anaconda3\\envs\\py37\\lib\\site-packages\\tensorpack\\callbacks\\monitor.py:261: The name tf.summary.FileWriter is deprecated. Please use tf.compat.v1.summary.FileWriter instead.\n",
      "\n",
      "\u001b[32m[1019 15:10:14 @base.py:230]\u001b[0m Creating the session ...\n",
      "WARNING:tensorflow:From D:\\Users\\glede\\anaconda3\\envs\\py37\\lib\\site-packages\\tensorpack\\tfutils\\sesscreate.py:42: The name tf.Session is deprecated. Please use tf.compat.v1.Session instead.\n",
      "\n",
      "WARNING:tensorflow:From D:\\Users\\glede\\anaconda3\\envs\\py37\\lib\\site-packages\\tensorpack\\tfutils\\sesscreate.py:71: The name tf.global_variables_initializer is deprecated. Please use tf.compat.v1.global_variables_initializer instead.\n",
      "\n",
      "WARNING:tensorflow:From D:\\Users\\glede\\anaconda3\\envs\\py37\\lib\\site-packages\\tensorpack\\tfutils\\sesscreate.py:62: get_backward_walk_ops (from tensorflow.contrib.graph_editor.select) is deprecated and will be removed after 2019-06-06.\n",
      "Instructions for updating:\n",
      "Please use tensorflow.python.ops.op_selector.get_backward_walk_ops.\n",
      "WARNING:tensorflow:From D:\\Users\\glede\\anaconda3\\envs\\py37\\lib\\site-packages\\tensorpack\\tfutils\\sesscreate.py:72: The name tf.local_variables_initializer is deprecated. Please use tf.compat.v1.local_variables_initializer instead.\n",
      "\n",
      "WARNING:tensorflow:From D:\\Users\\glede\\anaconda3\\envs\\py37\\lib\\site-packages\\tensorpack\\tfutils\\sesscreate.py:73: The name tf.tables_initializer is deprecated. Please use tf.compat.v1.tables_initializer instead.\n",
      "\n",
      "WARNING:tensorflow:From D:\\Users\\glede\\anaconda3\\envs\\py37\\lib\\site-packages\\tensorpack\\train\\base.py:254: The name tf.train.MonitoredSession is deprecated. Please use tf.compat.v1.train.MonitoredSession instead.\n",
      "\n",
      "\u001b[32m[1019 15:10:16 @base.py:236]\u001b[0m Initializing the session ...\n",
      "\u001b[32m[1019 15:10:16 @base.py:243]\u001b[0m Graph Finalized.\n",
      "WARNING:tensorflow:From D:\\Users\\glede\\anaconda3\\envs\\py37\\lib\\site-packages\\tensorpack\\tfutils\\common.py:89: The name tf.train.global_step is deprecated. Please use tf.compat.v1.train.global_step instead.\n",
      "\n",
      "WARNING:tensorflow:From D:\\Users\\glede\\anaconda3\\envs\\py37\\lib\\site-packages\\tensorpack\\tfutils\\common.py:90: The name tf.get_default_session is deprecated. Please use tf.compat.v1.get_default_session instead.\n",
      "\n",
      "\u001b[32m[1019 15:10:16 @concurrency.py:38]\u001b[0m Starting EnqueueThread QueueInput/input_queue ...\n",
      "WARNING:tensorflow:From D:\\Users\\glede\\anaconda3\\envs\\py37\\lib\\site-packages\\tensorpack\\callbacks\\monitor.py:309: The name tf.gfile.Exists is deprecated. Please use tf.io.gfile.exists instead.\n",
      "\n",
      "\u001b[32m[1019 15:10:16 @base.py:275]\u001b[0m Start Epoch 1 ...\n"
     ]
    },
    {
     "name": "stderr",
     "output_type": "stream",
     "text": [
      " 95%|###############################################################################2   |167/175[00:07<00:00,33.32it/s]"
     ]
    },
    {
     "name": "stdout",
     "output_type": "stream",
     "text": [
      "WARNING:tensorflow:From D:\\Users\\glede\\anaconda3\\envs\\py37\\lib\\site-packages\\tensorpack\\callbacks\\monitor.py:148: The name tf.Summary is deprecated. Please use tf.compat.v1.Summary instead.\n",
      "\n"
     ]
    },
    {
     "name": "stderr",
     "output_type": "stream",
     "text": [
      "\r",
      "100%|###################################################################################|175/175[00:08<00:00,21.47it/s]"
     ]
    },
    {
     "name": "stdout",
     "output_type": "stream",
     "text": [
      "\u001b[32m[1019 15:10:24 @base.py:285]\u001b[0m Epoch 1 (global_step 218) finished, time:8.15 seconds.\n",
      "WARNING:tensorflow:From D:\\Users\\glede\\anaconda3\\envs\\py37\\lib\\site-packages\\tensorpack\\callbacks\\saver.py:77: The name tf.train.get_global_step is deprecated. Please use tf.compat.v1.train.get_global_step instead.\n",
      "\n"
     ]
    },
    {
     "name": "stderr",
     "output_type": "stream",
     "text": [
      "\n"
     ]
    },
    {
     "name": "stdout",
     "output_type": "stream",
     "text": [
      "\u001b[32m[1019 15:10:25 @saver.py:79]\u001b[0m Model saved to ../output/Chicago/DATGAN_wass01/model\\model-218.\n",
      "\u001b[32m[1019 15:10:25 @monitor.py:467]\u001b[0m GAN_loss/discrim/discr_loss: -27.896\n",
      "\u001b[32m[1019 15:10:25 @monitor.py:467]\u001b[0m GAN_loss/discrim/gp_loss: 0.1441\n",
      "\u001b[32m[1019 15:10:25 @monitor.py:467]\u001b[0m GAN_loss/discrim/wgan_d_loss: -29.339\n",
      "\u001b[32m[1019 15:10:25 @monitor.py:467]\u001b[0m GAN_loss/gen/g_loss: 6.3341\n",
      "\u001b[32m[1019 15:10:25 @monitor.py:467]\u001b[0m QueueInput/queue_size: 50\n",
      "\u001b[32m[1019 15:10:25 @base.py:275]\u001b[0m Start Epoch 2 ...\n"
     ]
    },
    {
     "name": "stderr",
     "output_type": "stream",
     "text": [
      "100%|###################################################################################|175/175[00:05<00:00,34.38it/s]"
     ]
    },
    {
     "name": "stdout",
     "output_type": "stream",
     "text": [
      "\u001b[32m[1019 15:10:30 @base.py:285]\u001b[0m Epoch 2 (global_step 437) finished, time:5.09 seconds.\n",
      "\u001b[32m[1019 15:10:30 @saver.py:79]\u001b[0m Model saved to ../output/Chicago/DATGAN_wass01/model\\model-437.\n",
      "\u001b[32m[1019 15:10:30 @monitor.py:467]\u001b[0m GAN_loss/discrim/discr_loss: -54.33\n",
      "\u001b[32m[1019 15:10:30 @monitor.py:467]\u001b[0m GAN_loss/discrim/gp_loss: 0.13679\n",
      "\u001b[32m[1019 15:10:30 @monitor.py:467]\u001b[0m GAN_loss/discrim/wgan_d_loss: -55.702\n",
      "\u001b[32m[1019 15:10:30 @monitor.py:467]\u001b[0m GAN_loss/gen/g_loss: 9.6266\n",
      "\u001b[32m[1019 15:10:30 @monitor.py:467]\u001b[0m QueueInput/queue_size: 50\n",
      "\u001b[32m[1019 15:10:30 @base.py:275]\u001b[0m Start Epoch 3 ...\n"
     ]
    },
    {
     "name": "stderr",
     "output_type": "stream",
     "text": [
      "\n",
      "100%|###################################################################################|175/175[00:06<00:00,25.94it/s]"
     ]
    },
    {
     "name": "stdout",
     "output_type": "stream",
     "text": [
      "\u001b[32m[1019 15:10:37 @base.py:285]\u001b[0m Epoch 3 (global_step 656) finished, time:6.75 seconds.\n",
      "\u001b[32m[1019 15:10:37 @saver.py:79]\u001b[0m Model saved to ../output/Chicago/DATGAN_wass01/model\\model-656.\n",
      "\u001b[32m[1019 15:10:37 @monitor.py:467]\u001b[0m GAN_loss/discrim/discr_loss: -76.029\n",
      "\u001b[32m[1019 15:10:37 @monitor.py:467]\u001b[0m GAN_loss/discrim/gp_loss: 0.15088\n",
      "\u001b[32m[1019 15:10:37 @monitor.py:467]\u001b[0m GAN_loss/discrim/wgan_d_loss: -77.542\n",
      "\u001b[32m[1019 15:10:37 @monitor.py:467]\u001b[0m GAN_loss/gen/g_loss: 12.209\n",
      "\u001b[32m[1019 15:10:37 @monitor.py:467]\u001b[0m QueueInput/queue_size: 50\n",
      "\u001b[32m[1019 15:10:37 @base.py:275]\u001b[0m Start Epoch 4 ...\n"
     ]
    },
    {
     "name": "stderr",
     "output_type": "stream",
     "text": [
      "\n",
      "100%|###################################################################################|175/175[00:05<00:00,34.47it/s]"
     ]
    },
    {
     "name": "stdout",
     "output_type": "stream",
     "text": [
      "\u001b[32m[1019 15:10:42 @base.py:285]\u001b[0m Epoch 4 (global_step 874) finished, time:5.08 seconds.\n",
      "\u001b[32m[1019 15:10:42 @saver.py:79]\u001b[0m Model saved to ../output/Chicago/DATGAN_wass01/model\\model-874.\n",
      "\u001b[32m[1019 15:10:42 @monitor.py:467]\u001b[0m GAN_loss/discrim/discr_loss: -90.091\n",
      "\u001b[32m[1019 15:10:42 @monitor.py:467]\u001b[0m GAN_loss/discrim/gp_loss: 0.15272\n",
      "\u001b[32m[1019 15:10:42 @monitor.py:467]\u001b[0m GAN_loss/discrim/wgan_d_loss: -91.623\n",
      "\u001b[32m[1019 15:10:42 @monitor.py:467]\u001b[0m GAN_loss/gen/g_loss: 11.601\n",
      "\u001b[32m[1019 15:10:42 @monitor.py:467]\u001b[0m QueueInput/queue_size: 50\n",
      "\u001b[32m[1019 15:10:42 @base.py:275]\u001b[0m Start Epoch 5 ...\n"
     ]
    },
    {
     "name": "stderr",
     "output_type": "stream",
     "text": [
      "\n",
      "100%|###################################################################################|175/175[00:05<00:00,34.34it/s]"
     ]
    },
    {
     "name": "stdout",
     "output_type": "stream",
     "text": [
      "\u001b[32m[1019 15:10:47 @base.py:285]\u001b[0m Epoch 5 (global_step 1093) finished, time:5.1 seconds.\n",
      "\u001b[32m[1019 15:10:47 @saver.py:79]\u001b[0m Model saved to ../output/Chicago/DATGAN_wass01/model\\model-1093.\n",
      "\u001b[32m[1019 15:10:47 @monitor.py:467]\u001b[0m GAN_loss/discrim/discr_loss: -101.31\n",
      "\u001b[32m[1019 15:10:47 @monitor.py:467]\u001b[0m GAN_loss/discrim/gp_loss: 0.14148\n",
      "\u001b[32m[1019 15:10:47 @monitor.py:467]\u001b[0m GAN_loss/discrim/wgan_d_loss: -102.73\n",
      "\u001b[32m[1019 15:10:47 @monitor.py:467]\u001b[0m GAN_loss/gen/g_loss: -0.1414\n",
      "\u001b[32m[1019 15:10:47 @monitor.py:467]\u001b[0m QueueInput/queue_size: 50\n",
      "\u001b[32m[1019 15:10:47 @base.py:275]\u001b[0m Start Epoch 6 ...\n"
     ]
    },
    {
     "name": "stderr",
     "output_type": "stream",
     "text": [
      "\n",
      "100%|###################################################################################|175/175[00:05<00:00,34.38it/s]"
     ]
    },
    {
     "name": "stdout",
     "output_type": "stream",
     "text": [
      "\u001b[32m[1019 15:10:52 @base.py:285]\u001b[0m Epoch 6 (global_step 1312) finished, time:5.09 seconds.\n",
      "\u001b[32m[1019 15:10:52 @saver.py:79]\u001b[0m Model saved to ../output/Chicago/DATGAN_wass01/model\\model-1312.\n",
      "\u001b[32m[1019 15:10:52 @monitor.py:467]\u001b[0m GAN_loss/discrim/discr_loss: -116.22\n",
      "\u001b[32m[1019 15:10:52 @monitor.py:467]\u001b[0m GAN_loss/discrim/gp_loss: 0.15663\n",
      "\u001b[32m[1019 15:10:52 @monitor.py:467]\u001b[0m GAN_loss/discrim/wgan_d_loss: -117.79\n",
      "\u001b[32m[1019 15:10:52 @monitor.py:467]\u001b[0m GAN_loss/gen/g_loss: -4.8167\n",
      "\u001b[32m[1019 15:10:52 @monitor.py:467]\u001b[0m QueueInput/queue_size: 50\n",
      "\u001b[32m[1019 15:10:52 @base.py:275]\u001b[0m Start Epoch 7 ...\n"
     ]
    },
    {
     "name": "stderr",
     "output_type": "stream",
     "text": [
      "\n",
      "100%|###################################################################################|175/175[00:05<00:00,34.34it/s]"
     ]
    },
    {
     "name": "stdout",
     "output_type": "stream",
     "text": [
      "\u001b[32m[1019 15:10:57 @base.py:285]\u001b[0m Epoch 7 (global_step 1531) finished, time:5.1 seconds.\n",
      "\u001b[32m[1019 15:10:57 @saver.py:79]\u001b[0m Model saved to ../output/Chicago/DATGAN_wass01/model\\model-1531.\n",
      "\u001b[32m[1019 15:10:57 @monitor.py:467]\u001b[0m GAN_loss/discrim/discr_loss: -150.19\n",
      "\u001b[32m[1019 15:10:57 @monitor.py:467]\u001b[0m GAN_loss/discrim/gp_loss: 0.14653\n",
      "\u001b[32m[1019 15:10:57 @monitor.py:467]\u001b[0m GAN_loss/discrim/wgan_d_loss: -151.66\n",
      "\u001b[32m[1019 15:10:57 @monitor.py:467]\u001b[0m GAN_loss/gen/g_loss: 6.8317\n",
      "\u001b[32m[1019 15:10:57 @monitor.py:467]\u001b[0m QueueInput/queue_size: 50\n",
      "\u001b[32m[1019 15:10:57 @base.py:275]\u001b[0m Start Epoch 8 ...\n"
     ]
    },
    {
     "name": "stderr",
     "output_type": "stream",
     "text": [
      "\n",
      "100%|###################################################################################|175/175[00:05<00:00,34.28it/s]"
     ]
    },
    {
     "name": "stdout",
     "output_type": "stream",
     "text": [
      "\u001b[32m[1019 15:11:03 @base.py:285]\u001b[0m Epoch 8 (global_step 1749) finished, time:5.1 seconds.\n",
      "\u001b[32m[1019 15:11:03 @saver.py:79]\u001b[0m Model saved to ../output/Chicago/DATGAN_wass01/model\\model-1749.\n",
      "\u001b[32m[1019 15:11:03 @monitor.py:467]\u001b[0m GAN_loss/discrim/discr_loss: -159.1\n",
      "\u001b[32m[1019 15:11:03 @monitor.py:467]\u001b[0m GAN_loss/discrim/gp_loss: 0.16334\n",
      "\u001b[32m[1019 15:11:03 @monitor.py:467]\u001b[0m GAN_loss/discrim/wgan_d_loss: -160.74\n",
      "\u001b[32m[1019 15:11:03 @monitor.py:467]\u001b[0m GAN_loss/gen/g_loss: -7.1138\n",
      "\u001b[32m[1019 15:11:03 @monitor.py:467]\u001b[0m QueueInput/queue_size: 50\n",
      "\u001b[32m[1019 15:11:03 @base.py:275]\u001b[0m Start Epoch 9 ...\n"
     ]
    },
    {
     "name": "stderr",
     "output_type": "stream",
     "text": [
      "\n",
      "100%|###################################################################################|175/175[00:05<00:00,34.03it/s]"
     ]
    },
    {
     "name": "stdout",
     "output_type": "stream",
     "text": [
      "\u001b[32m[1019 15:11:08 @base.py:285]\u001b[0m Epoch 9 (global_step 1968) finished, time:5.14 seconds.\n",
      "\u001b[32m[1019 15:11:08 @saver.py:79]\u001b[0m Model saved to ../output/Chicago/DATGAN_wass01/model\\model-1968.\n",
      "\u001b[32m[1019 15:11:08 @monitor.py:467]\u001b[0m GAN_loss/discrim/discr_loss: -194.72\n",
      "\u001b[32m[1019 15:11:08 @monitor.py:467]\u001b[0m GAN_loss/discrim/gp_loss: 0.14682\n",
      "\u001b[32m[1019 15:11:08 @monitor.py:467]\u001b[0m GAN_loss/discrim/wgan_d_loss: -196.2\n",
      "\u001b[32m[1019 15:11:08 @monitor.py:467]\u001b[0m GAN_loss/gen/g_loss: 2.0909\n",
      "\u001b[32m[1019 15:11:08 @monitor.py:467]\u001b[0m QueueInput/queue_size: 50\n",
      "\u001b[32m[1019 15:11:08 @base.py:275]\u001b[0m Start Epoch 10 ...\n"
     ]
    },
    {
     "name": "stderr",
     "output_type": "stream",
     "text": [
      "\n",
      "100%|###################################################################################|175/175[00:05<00:00,34.31it/s]"
     ]
    },
    {
     "name": "stdout",
     "output_type": "stream",
     "text": [
      "\u001b[32m[1019 15:11:13 @base.py:285]\u001b[0m Epoch 10 (global_step 2187) finished, time:5.1 seconds.\n",
      "\u001b[32m[1019 15:11:13 @saver.py:79]\u001b[0m Model saved to ../output/Chicago/DATGAN_wass01/model\\model-2187.\n",
      "\u001b[32m[1019 15:11:13 @monitor.py:467]\u001b[0m GAN_loss/discrim/discr_loss: -217.63\n",
      "\u001b[32m[1019 15:11:13 @monitor.py:467]\u001b[0m GAN_loss/discrim/gp_loss: 0.16584\n",
      "\u001b[32m[1019 15:11:13 @monitor.py:467]\u001b[0m GAN_loss/discrim/wgan_d_loss: -219.3\n",
      "\u001b[32m[1019 15:11:13 @monitor.py:467]\u001b[0m GAN_loss/gen/g_loss: -12.288\n",
      "\u001b[32m[1019 15:11:13 @monitor.py:467]\u001b[0m QueueInput/queue_size: 50\n",
      "\u001b[32m[1019 15:11:13 @base.py:275]\u001b[0m Start Epoch 11 ...\n"
     ]
    },
    {
     "name": "stderr",
     "output_type": "stream",
     "text": [
      "\n",
      "100%|###################################################################################|175/175[00:05<00:00,34.59it/s]"
     ]
    },
    {
     "name": "stdout",
     "output_type": "stream",
     "text": [
      "\u001b[32m[1019 15:11:18 @base.py:285]\u001b[0m Epoch 11 (global_step 2406) finished, time:5.06 seconds.\n",
      "WARNING:tensorflow:From D:\\Users\\glede\\anaconda3\\envs\\py37\\lib\\site-packages\\tensorflow_core\\python\\training\\saver.py:963: remove_checkpoint (from tensorflow.python.training.checkpoint_management) is deprecated and will be removed in a future version.\n",
      "Instructions for updating:\n",
      "Use standard file APIs to delete files with this prefix.\n",
      "\u001b[32m[1019 15:11:18 @saver.py:79]\u001b[0m Model saved to ../output/Chicago/DATGAN_wass01/model\\model-2406.\n",
      "\u001b[32m[1019 15:11:18 @monitor.py:467]\u001b[0m GAN_loss/discrim/discr_loss: -231.66\n",
      "\u001b[32m[1019 15:11:18 @monitor.py:467]\u001b[0m GAN_loss/discrim/gp_loss: 0.16013\n",
      "\u001b[32m[1019 15:11:18 @monitor.py:467]\u001b[0m GAN_loss/discrim/wgan_d_loss: -233.27\n",
      "\u001b[32m[1019 15:11:18 @monitor.py:467]\u001b[0m GAN_loss/gen/g_loss: -26.121\n",
      "\u001b[32m[1019 15:11:18 @monitor.py:467]\u001b[0m QueueInput/queue_size: 50\n",
      "\u001b[32m[1019 15:11:18 @base.py:275]\u001b[0m Start Epoch 12 ...\n"
     ]
    },
    {
     "name": "stderr",
     "output_type": "stream",
     "text": [
      "\n",
      "100%|###################################################################################|175/175[00:05<00:00,34.58it/s]"
     ]
    },
    {
     "name": "stdout",
     "output_type": "stream",
     "text": [
      "\u001b[32m[1019 15:11:23 @base.py:285]\u001b[0m Epoch 12 (global_step 2624) finished, time:5.06 seconds.\n",
      "\u001b[32m[1019 15:11:23 @saver.py:79]\u001b[0m Model saved to ../output/Chicago/DATGAN_wass01/model\\model-2624.\n",
      "\u001b[32m[1019 15:11:23 @monitor.py:467]\u001b[0m GAN_loss/discrim/discr_loss: -257.02\n",
      "\u001b[32m[1019 15:11:23 @monitor.py:467]\u001b[0m GAN_loss/discrim/gp_loss: 0.15292\n",
      "\u001b[32m[1019 15:11:23 @monitor.py:467]\u001b[0m GAN_loss/discrim/wgan_d_loss: -258.56\n",
      "\u001b[32m[1019 15:11:23 @monitor.py:467]\u001b[0m GAN_loss/gen/g_loss: -27.73\n",
      "\u001b[32m[1019 15:11:23 @monitor.py:467]\u001b[0m QueueInput/queue_size: 50\n",
      "\u001b[32m[1019 15:11:23 @base.py:275]\u001b[0m Start Epoch 13 ...\n"
     ]
    },
    {
     "name": "stderr",
     "output_type": "stream",
     "text": [
      "\n",
      "100%|###################################################################################|175/175[00:05<00:00,34.56it/s]"
     ]
    },
    {
     "name": "stdout",
     "output_type": "stream",
     "text": [
      "\u001b[32m[1019 15:11:28 @base.py:285]\u001b[0m Epoch 13 (global_step 2843) finished, time:5.06 seconds.\n",
      "\u001b[32m[1019 15:11:28 @saver.py:79]\u001b[0m Model saved to ../output/Chicago/DATGAN_wass01/model\\model-2843.\n",
      "\u001b[32m[1019 15:11:28 @monitor.py:467]\u001b[0m GAN_loss/discrim/discr_loss: -235.53\n",
      "\u001b[32m[1019 15:11:28 @monitor.py:467]\u001b[0m GAN_loss/discrim/gp_loss: 0.14873\n",
      "\u001b[32m[1019 15:11:28 @monitor.py:467]\u001b[0m GAN_loss/discrim/wgan_d_loss: -237.03\n",
      "\u001b[32m[1019 15:11:28 @monitor.py:467]\u001b[0m GAN_loss/gen/g_loss: -43.815\n",
      "\u001b[32m[1019 15:11:28 @monitor.py:467]\u001b[0m QueueInput/queue_size: 50\n",
      "\u001b[32m[1019 15:11:28 @base.py:275]\u001b[0m Start Epoch 14 ...\n"
     ]
    },
    {
     "name": "stderr",
     "output_type": "stream",
     "text": [
      "\n",
      "100%|###################################################################################|175/175[00:05<00:00,34.52it/s]"
     ]
    },
    {
     "name": "stdout",
     "output_type": "stream",
     "text": [
      "\u001b[32m[1019 15:11:34 @base.py:285]\u001b[0m Epoch 14 (global_step 3062) finished, time:5.07 seconds.\n",
      "\u001b[32m[1019 15:11:34 @saver.py:79]\u001b[0m Model saved to ../output/Chicago/DATGAN_wass01/model\\model-3062.\n",
      "\u001b[32m[1019 15:11:34 @monitor.py:467]\u001b[0m GAN_loss/discrim/discr_loss: -259.34\n",
      "\u001b[32m[1019 15:11:34 @monitor.py:467]\u001b[0m GAN_loss/discrim/gp_loss: 0.1548\n",
      "\u001b[32m[1019 15:11:34 @monitor.py:467]\u001b[0m GAN_loss/discrim/wgan_d_loss: -260.9\n",
      "\u001b[32m[1019 15:11:34 @monitor.py:467]\u001b[0m GAN_loss/gen/g_loss: -60.799\n",
      "\u001b[32m[1019 15:11:34 @monitor.py:467]\u001b[0m QueueInput/queue_size: 50\n",
      "\u001b[32m[1019 15:11:34 @base.py:275]\u001b[0m Start Epoch 15 ...\n"
     ]
    },
    {
     "name": "stderr",
     "output_type": "stream",
     "text": [
      "\n",
      "100%|###################################################################################|175/175[00:05<00:00,34.59it/s]"
     ]
    },
    {
     "name": "stdout",
     "output_type": "stream",
     "text": [
      "\u001b[32m[1019 15:11:39 @base.py:285]\u001b[0m Epoch 15 (global_step 3281) finished, time:5.06 seconds.\n",
      "\u001b[32m[1019 15:11:39 @saver.py:79]\u001b[0m Model saved to ../output/Chicago/DATGAN_wass01/model\\model-3281.\n",
      "\u001b[32m[1019 15:11:39 @monitor.py:467]\u001b[0m GAN_loss/discrim/discr_loss: -296.36\n",
      "\u001b[32m[1019 15:11:39 @monitor.py:467]\u001b[0m GAN_loss/discrim/gp_loss: 0.14482\n",
      "\u001b[32m[1019 15:11:39 @monitor.py:467]\u001b[0m GAN_loss/discrim/wgan_d_loss: -297.81\n",
      "\u001b[32m[1019 15:11:39 @monitor.py:467]\u001b[0m GAN_loss/gen/g_loss: -49.71\n",
      "\u001b[32m[1019 15:11:39 @monitor.py:467]\u001b[0m QueueInput/queue_size: 50\n",
      "\u001b[32m[1019 15:11:39 @base.py:275]\u001b[0m Start Epoch 16 ...\n"
     ]
    },
    {
     "name": "stderr",
     "output_type": "stream",
     "text": [
      "\n",
      "100%|###################################################################################|175/175[00:05<00:00,34.71it/s]"
     ]
    },
    {
     "name": "stdout",
     "output_type": "stream",
     "text": [
      "\u001b[32m[1019 15:11:44 @base.py:285]\u001b[0m Epoch 16 (global_step 3499) finished, time:5.04 seconds.\n",
      "\u001b[32m[1019 15:11:44 @saver.py:79]\u001b[0m Model saved to ../output/Chicago/DATGAN_wass01/model\\model-3499.\n",
      "\u001b[32m[1019 15:11:44 @monitor.py:467]\u001b[0m GAN_loss/discrim/discr_loss: -299.75\n",
      "\u001b[32m[1019 15:11:44 @monitor.py:467]\u001b[0m GAN_loss/discrim/gp_loss: 0.1549\n",
      "\u001b[32m[1019 15:11:44 @monitor.py:467]\u001b[0m GAN_loss/discrim/wgan_d_loss: -301.32\n",
      "\u001b[32m[1019 15:11:44 @monitor.py:467]\u001b[0m GAN_loss/gen/g_loss: -115.5\n",
      "\u001b[32m[1019 15:11:44 @monitor.py:467]\u001b[0m QueueInput/queue_size: 50\n",
      "\u001b[32m[1019 15:11:44 @base.py:275]\u001b[0m Start Epoch 17 ...\n"
     ]
    },
    {
     "name": "stderr",
     "output_type": "stream",
     "text": [
      "\n",
      "100%|###################################################################################|175/175[00:05<00:00,34.55it/s]"
     ]
    },
    {
     "name": "stdout",
     "output_type": "stream",
     "text": [
      "\u001b[32m[1019 15:11:49 @base.py:285]\u001b[0m Epoch 17 (global_step 3718) finished, time:5.07 seconds.\n",
      "\u001b[32m[1019 15:11:49 @saver.py:79]\u001b[0m Model saved to ../output/Chicago/DATGAN_wass01/model\\model-3718.\n",
      "\u001b[32m[1019 15:11:49 @monitor.py:467]\u001b[0m GAN_loss/discrim/discr_loss: -331.99\n",
      "\u001b[32m[1019 15:11:49 @monitor.py:467]\u001b[0m GAN_loss/discrim/gp_loss: 0.14743\n",
      "\u001b[32m[1019 15:11:49 @monitor.py:467]\u001b[0m GAN_loss/discrim/wgan_d_loss: -333.48\n",
      "\u001b[32m[1019 15:11:49 @monitor.py:467]\u001b[0m GAN_loss/gen/g_loss: -96.076\n",
      "\u001b[32m[1019 15:11:49 @monitor.py:467]\u001b[0m QueueInput/queue_size: 50\n",
      "\u001b[32m[1019 15:11:49 @base.py:275]\u001b[0m Start Epoch 18 ...\n"
     ]
    },
    {
     "name": "stderr",
     "output_type": "stream",
     "text": [
      "\n",
      "100%|###################################################################################|175/175[00:05<00:00,34.52it/s]"
     ]
    },
    {
     "name": "stdout",
     "output_type": "stream",
     "text": [
      "\u001b[32m[1019 15:11:54 @base.py:285]\u001b[0m Epoch 18 (global_step 3937) finished, time:5.07 seconds.\n",
      "\u001b[32m[1019 15:11:54 @saver.py:79]\u001b[0m Model saved to ../output/Chicago/DATGAN_wass01/model\\model-3937.\n",
      "\u001b[32m[1019 15:11:54 @monitor.py:467]\u001b[0m GAN_loss/discrim/discr_loss: -382.33\n",
      "\u001b[32m[1019 15:11:54 @monitor.py:467]\u001b[0m GAN_loss/discrim/gp_loss: 0.16022\n",
      "\u001b[32m[1019 15:11:54 @monitor.py:467]\u001b[0m GAN_loss/discrim/wgan_d_loss: -383.94\n",
      "\u001b[32m[1019 15:11:54 @monitor.py:467]\u001b[0m GAN_loss/gen/g_loss: -122.19\n",
      "\u001b[32m[1019 15:11:54 @monitor.py:467]\u001b[0m QueueInput/queue_size: 50\n",
      "\u001b[32m[1019 15:11:54 @base.py:275]\u001b[0m Start Epoch 19 ...\n"
     ]
    },
    {
     "name": "stderr",
     "output_type": "stream",
     "text": [
      "\n",
      "100%|###################################################################################|175/175[00:05<00:00,34.59it/s]"
     ]
    },
    {
     "name": "stdout",
     "output_type": "stream",
     "text": [
      "\u001b[32m[1019 15:11:59 @base.py:285]\u001b[0m Epoch 19 (global_step 4156) finished, time:5.06 seconds.\n",
      "\u001b[32m[1019 15:11:59 @saver.py:79]\u001b[0m Model saved to ../output/Chicago/DATGAN_wass01/model\\model-4156.\n",
      "\u001b[32m[1019 15:11:59 @monitor.py:467]\u001b[0m GAN_loss/discrim/discr_loss: -485.33\n",
      "\u001b[32m[1019 15:11:59 @monitor.py:467]\u001b[0m GAN_loss/discrim/gp_loss: 0.16119\n",
      "\u001b[32m[1019 15:11:59 @monitor.py:467]\u001b[0m GAN_loss/discrim/wgan_d_loss: -486.96\n",
      "\u001b[32m[1019 15:11:59 @monitor.py:467]\u001b[0m GAN_loss/gen/g_loss: -64.865\n",
      "\u001b[32m[1019 15:11:59 @monitor.py:467]\u001b[0m QueueInput/queue_size: 50\n",
      "\u001b[32m[1019 15:11:59 @base.py:275]\u001b[0m Start Epoch 20 ...\n"
     ]
    },
    {
     "name": "stderr",
     "output_type": "stream",
     "text": [
      "\n",
      "100%|###################################################################################|175/175[00:05<00:00,34.73it/s]"
     ]
    },
    {
     "name": "stdout",
     "output_type": "stream",
     "text": [
      "\u001b[32m[1019 15:12:04 @base.py:285]\u001b[0m Epoch 20 (global_step 4374) finished, time:5.04 seconds.\n",
      "\u001b[32m[1019 15:12:04 @saver.py:79]\u001b[0m Model saved to ../output/Chicago/DATGAN_wass01/model\\model-4374.\n",
      "\u001b[32m[1019 15:12:04 @monitor.py:467]\u001b[0m GAN_loss/discrim/discr_loss: -381.62\n",
      "\u001b[32m[1019 15:12:04 @monitor.py:467]\u001b[0m GAN_loss/discrim/gp_loss: 0.14904\n",
      "\u001b[32m[1019 15:12:04 @monitor.py:467]\u001b[0m GAN_loss/discrim/wgan_d_loss: -383.12\n",
      "\u001b[32m[1019 15:12:04 @monitor.py:467]\u001b[0m GAN_loss/gen/g_loss: -136.37\n",
      "\u001b[32m[1019 15:12:04 @monitor.py:467]\u001b[0m QueueInput/queue_size: 50\n",
      "\u001b[32m[1019 15:12:04 @base.py:275]\u001b[0m Start Epoch 21 ...\n"
     ]
    },
    {
     "name": "stderr",
     "output_type": "stream",
     "text": [
      "\n",
      "100%|###################################################################################|175/175[00:05<00:00,34.54it/s]"
     ]
    },
    {
     "name": "stdout",
     "output_type": "stream",
     "text": [
      "\u001b[32m[1019 15:12:09 @base.py:285]\u001b[0m Epoch 21 (global_step 4593) finished, time:5.07 seconds.\n",
      "\u001b[32m[1019 15:12:10 @saver.py:79]\u001b[0m Model saved to ../output/Chicago/DATGAN_wass01/model\\model-4593.\n",
      "\u001b[32m[1019 15:12:10 @monitor.py:467]\u001b[0m GAN_loss/discrim/discr_loss: -451.2\n",
      "\u001b[32m[1019 15:12:10 @monitor.py:467]\u001b[0m GAN_loss/discrim/gp_loss: 0.15032\n",
      "\u001b[32m[1019 15:12:10 @monitor.py:467]\u001b[0m GAN_loss/discrim/wgan_d_loss: -452.72\n",
      "\u001b[32m[1019 15:12:10 @monitor.py:467]\u001b[0m GAN_loss/gen/g_loss: -64.443\n",
      "\u001b[32m[1019 15:12:10 @monitor.py:467]\u001b[0m QueueInput/queue_size: 50\n",
      "\u001b[32m[1019 15:12:10 @base.py:275]\u001b[0m Start Epoch 22 ...\n"
     ]
    },
    {
     "name": "stderr",
     "output_type": "stream",
     "text": [
      "\n",
      "100%|###################################################################################|175/175[00:05<00:00,34.47it/s]"
     ]
    },
    {
     "name": "stdout",
     "output_type": "stream",
     "text": [
      "\u001b[32m[1019 15:12:15 @base.py:285]\u001b[0m Epoch 22 (global_step 4812) finished, time:5.08 seconds.\n",
      "\u001b[32m[1019 15:12:15 @saver.py:79]\u001b[0m Model saved to ../output/Chicago/DATGAN_wass01/model\\model-4812.\n",
      "\u001b[32m[1019 15:12:15 @monitor.py:467]\u001b[0m GAN_loss/discrim/discr_loss: -492.26\n",
      "\u001b[32m[1019 15:12:15 @monitor.py:467]\u001b[0m GAN_loss/discrim/gp_loss: 0.15695\n",
      "\u001b[32m[1019 15:12:15 @monitor.py:467]\u001b[0m GAN_loss/discrim/wgan_d_loss: -493.85\n",
      "\u001b[32m[1019 15:12:15 @monitor.py:467]\u001b[0m GAN_loss/gen/g_loss: -107.38\n",
      "\u001b[32m[1019 15:12:15 @monitor.py:467]\u001b[0m QueueInput/queue_size: 50\n",
      "\u001b[32m[1019 15:12:15 @base.py:275]\u001b[0m Start Epoch 23 ...\n"
     ]
    },
    {
     "name": "stderr",
     "output_type": "stream",
     "text": [
      "\n",
      "100%|###################################################################################|175/175[00:05<00:00,34.59it/s]"
     ]
    },
    {
     "name": "stdout",
     "output_type": "stream",
     "text": [
      "\u001b[32m[1019 15:12:20 @base.py:285]\u001b[0m Epoch 23 (global_step 5031) finished, time:5.06 seconds.\n",
      "\u001b[32m[1019 15:12:20 @saver.py:79]\u001b[0m Model saved to ../output/Chicago/DATGAN_wass01/model\\model-5031.\n",
      "\u001b[32m[1019 15:12:20 @monitor.py:467]\u001b[0m GAN_loss/discrim/discr_loss: -475.75\n",
      "\u001b[32m[1019 15:12:20 @monitor.py:467]\u001b[0m GAN_loss/discrim/gp_loss: 0.15206\n",
      "\u001b[32m[1019 15:12:20 @monitor.py:467]\u001b[0m GAN_loss/discrim/wgan_d_loss: -477.29\n",
      "\u001b[32m[1019 15:12:20 @monitor.py:467]\u001b[0m GAN_loss/gen/g_loss: -126.44\n",
      "\u001b[32m[1019 15:12:20 @monitor.py:467]\u001b[0m QueueInput/queue_size: 50\n",
      "\u001b[32m[1019 15:12:20 @base.py:275]\u001b[0m Start Epoch 24 ...\n"
     ]
    },
    {
     "name": "stderr",
     "output_type": "stream",
     "text": [
      "\n",
      "100%|###################################################################################|175/175[00:05<00:00,34.69it/s]"
     ]
    },
    {
     "name": "stdout",
     "output_type": "stream",
     "text": [
      "\u001b[32m[1019 15:12:25 @base.py:285]\u001b[0m Epoch 24 (global_step 5249) finished, time:5.05 seconds.\n",
      "\u001b[32m[1019 15:12:25 @saver.py:79]\u001b[0m Model saved to ../output/Chicago/DATGAN_wass01/model\\model-5249.\n",
      "\u001b[32m[1019 15:12:25 @monitor.py:467]\u001b[0m GAN_loss/discrim/discr_loss: -512.61\n",
      "\u001b[32m[1019 15:12:25 @monitor.py:467]\u001b[0m GAN_loss/discrim/gp_loss: 0.14884\n",
      "\u001b[32m[1019 15:12:25 @monitor.py:467]\u001b[0m GAN_loss/discrim/wgan_d_loss: -514.12\n",
      "\u001b[32m[1019 15:12:25 @monitor.py:467]\u001b[0m GAN_loss/gen/g_loss: -179.38\n",
      "\u001b[32m[1019 15:12:25 @monitor.py:467]\u001b[0m QueueInput/queue_size: 50\n",
      "\u001b[32m[1019 15:12:25 @base.py:275]\u001b[0m Start Epoch 25 ...\n"
     ]
    },
    {
     "name": "stderr",
     "output_type": "stream",
     "text": [
      "\n",
      "100%|###################################################################################|175/175[00:05<00:00,34.56it/s]"
     ]
    },
    {
     "name": "stdout",
     "output_type": "stream",
     "text": [
      "\u001b[32m[1019 15:12:30 @base.py:285]\u001b[0m Epoch 25 (global_step 5468) finished, time:5.06 seconds.\n",
      "\u001b[32m[1019 15:12:30 @saver.py:79]\u001b[0m Model saved to ../output/Chicago/DATGAN_wass01/model\\model-5468.\n",
      "\u001b[32m[1019 15:12:30 @monitor.py:467]\u001b[0m GAN_loss/discrim/discr_loss: -510.85\n",
      "\u001b[32m[1019 15:12:30 @monitor.py:467]\u001b[0m GAN_loss/discrim/gp_loss: 0.15741\n",
      "\u001b[32m[1019 15:12:30 @monitor.py:467]\u001b[0m GAN_loss/discrim/wgan_d_loss: -512.44\n",
      "\u001b[32m[1019 15:12:30 @monitor.py:467]\u001b[0m GAN_loss/gen/g_loss: -254.62\n",
      "\u001b[32m[1019 15:12:30 @monitor.py:467]\u001b[0m QueueInput/queue_size: 50\n",
      "\u001b[32m[1019 15:12:30 @base.py:275]\u001b[0m Start Epoch 26 ...\n"
     ]
    },
    {
     "name": "stderr",
     "output_type": "stream",
     "text": [
      "\n",
      "100%|###################################################################################|175/175[00:05<00:00,34.53it/s]"
     ]
    },
    {
     "name": "stdout",
     "output_type": "stream",
     "text": [
      "\u001b[32m[1019 15:12:35 @base.py:285]\u001b[0m Epoch 26 (global_step 5687) finished, time:5.07 seconds.\n",
      "\u001b[32m[1019 15:12:35 @saver.py:79]\u001b[0m Model saved to ../output/Chicago/DATGAN_wass01/model\\model-5687.\n",
      "\u001b[32m[1019 15:12:35 @monitor.py:467]\u001b[0m GAN_loss/discrim/discr_loss: -608.17\n",
      "\u001b[32m[1019 15:12:35 @monitor.py:467]\u001b[0m GAN_loss/discrim/gp_loss: 0.14266\n",
      "\u001b[32m[1019 15:12:35 @monitor.py:467]\u001b[0m GAN_loss/discrim/wgan_d_loss: -609.62\n",
      "\u001b[32m[1019 15:12:35 @monitor.py:467]\u001b[0m GAN_loss/gen/g_loss: -196.17\n",
      "\u001b[32m[1019 15:12:35 @monitor.py:467]\u001b[0m QueueInput/queue_size: 50\n",
      "\u001b[32m[1019 15:12:35 @base.py:275]\u001b[0m Start Epoch 27 ...\n"
     ]
    },
    {
     "name": "stderr",
     "output_type": "stream",
     "text": [
      "\n",
      "100%|###################################################################################|175/175[00:05<00:00,34.58it/s]"
     ]
    },
    {
     "name": "stdout",
     "output_type": "stream",
     "text": [
      "\u001b[32m[1019 15:12:40 @base.py:285]\u001b[0m Epoch 27 (global_step 5906) finished, time:5.06 seconds.\n",
      "\u001b[32m[1019 15:12:40 @saver.py:79]\u001b[0m Model saved to ../output/Chicago/DATGAN_wass01/model\\model-5906.\n",
      "\u001b[32m[1019 15:12:40 @monitor.py:467]\u001b[0m GAN_loss/discrim/discr_loss: -661.17\n",
      "\u001b[32m[1019 15:12:40 @monitor.py:467]\u001b[0m GAN_loss/discrim/gp_loss: 0.15555\n",
      "\u001b[32m[1019 15:12:40 @monitor.py:467]\u001b[0m GAN_loss/discrim/wgan_d_loss: -662.75\n",
      "\u001b[32m[1019 15:12:40 @monitor.py:467]\u001b[0m GAN_loss/gen/g_loss: -239.3\n",
      "\u001b[32m[1019 15:12:40 @monitor.py:467]\u001b[0m QueueInput/queue_size: 50\n",
      "\u001b[32m[1019 15:12:40 @base.py:275]\u001b[0m Start Epoch 28 ...\n"
     ]
    },
    {
     "name": "stderr",
     "output_type": "stream",
     "text": [
      "\n",
      "100%|###################################################################################|175/175[00:05<00:00,34.74it/s]"
     ]
    },
    {
     "name": "stdout",
     "output_type": "stream",
     "text": [
      "\u001b[32m[1019 15:12:45 @base.py:285]\u001b[0m Epoch 28 (global_step 6124) finished, time:5.04 seconds.\n",
      "\u001b[32m[1019 15:12:46 @saver.py:79]\u001b[0m Model saved to ../output/Chicago/DATGAN_wass01/model\\model-6124.\n",
      "\u001b[32m[1019 15:12:46 @monitor.py:467]\u001b[0m GAN_loss/discrim/discr_loss: -643.77\n",
      "\u001b[32m[1019 15:12:46 @monitor.py:467]\u001b[0m GAN_loss/discrim/gp_loss: 0.14492\n",
      "\u001b[32m[1019 15:12:46 @monitor.py:467]\u001b[0m GAN_loss/discrim/wgan_d_loss: -645.24\n",
      "\u001b[32m[1019 15:12:46 @monitor.py:467]\u001b[0m GAN_loss/gen/g_loss: -214.47\n",
      "\u001b[32m[1019 15:12:46 @monitor.py:467]\u001b[0m QueueInput/queue_size: 50\n",
      "\u001b[32m[1019 15:12:46 @base.py:275]\u001b[0m Start Epoch 29 ...\n"
     ]
    },
    {
     "name": "stderr",
     "output_type": "stream",
     "text": [
      "\n",
      "100%|###################################################################################|175/175[00:05<00:00,34.53it/s]"
     ]
    },
    {
     "name": "stdout",
     "output_type": "stream",
     "text": [
      "\u001b[32m[1019 15:12:51 @base.py:285]\u001b[0m Epoch 29 (global_step 6343) finished, time:5.07 seconds.\n",
      "\u001b[32m[1019 15:12:51 @saver.py:79]\u001b[0m Model saved to ../output/Chicago/DATGAN_wass01/model\\model-6343.\n",
      "\u001b[32m[1019 15:12:51 @monitor.py:467]\u001b[0m GAN_loss/discrim/discr_loss: -670.84\n",
      "\u001b[32m[1019 15:12:51 @monitor.py:467]\u001b[0m GAN_loss/discrim/gp_loss: 0.15891\n",
      "\u001b[32m[1019 15:12:51 @monitor.py:467]\u001b[0m GAN_loss/discrim/wgan_d_loss: -672.45\n",
      "\u001b[32m[1019 15:12:51 @monitor.py:467]\u001b[0m GAN_loss/gen/g_loss: -239.94\n",
      "\u001b[32m[1019 15:12:51 @monitor.py:467]\u001b[0m QueueInput/queue_size: 50\n",
      "\u001b[32m[1019 15:12:51 @base.py:275]\u001b[0m Start Epoch 30 ...\n"
     ]
    },
    {
     "name": "stderr",
     "output_type": "stream",
     "text": [
      "\n",
      "100%|###################################################################################|175/175[00:05<00:00,34.54it/s]"
     ]
    },
    {
     "name": "stdout",
     "output_type": "stream",
     "text": [
      "\u001b[32m[1019 15:12:56 @base.py:285]\u001b[0m Epoch 30 (global_step 6562) finished, time:5.07 seconds.\n",
      "\u001b[32m[1019 15:12:56 @saver.py:79]\u001b[0m Model saved to ../output/Chicago/DATGAN_wass01/model\\model-6562.\n",
      "\u001b[32m[1019 15:12:56 @monitor.py:467]\u001b[0m GAN_loss/discrim/discr_loss: -713.21\n",
      "\u001b[32m[1019 15:12:56 @monitor.py:467]\u001b[0m GAN_loss/discrim/gp_loss: 0.15252\n",
      "\u001b[32m[1019 15:12:56 @monitor.py:467]\u001b[0m GAN_loss/discrim/wgan_d_loss: -714.76\n",
      "\u001b[32m[1019 15:12:56 @monitor.py:467]\u001b[0m GAN_loss/gen/g_loss: -253.41\n",
      "\u001b[32m[1019 15:12:56 @monitor.py:467]\u001b[0m QueueInput/queue_size: 50\n",
      "\u001b[32m[1019 15:12:56 @base.py:275]\u001b[0m Start Epoch 31 ...\n"
     ]
    },
    {
     "name": "stderr",
     "output_type": "stream",
     "text": [
      "\n",
      "100%|###################################################################################|175/175[00:05<00:00,34.56it/s]"
     ]
    },
    {
     "name": "stdout",
     "output_type": "stream",
     "text": [
      "\u001b[32m[1019 15:13:01 @base.py:285]\u001b[0m Epoch 31 (global_step 6781) finished, time:5.06 seconds.\n",
      "\u001b[32m[1019 15:13:01 @saver.py:79]\u001b[0m Model saved to ../output/Chicago/DATGAN_wass01/model\\model-6781.\n",
      "\u001b[32m[1019 15:13:01 @monitor.py:467]\u001b[0m GAN_loss/discrim/discr_loss: -685.33\n",
      "\u001b[32m[1019 15:13:01 @monitor.py:467]\u001b[0m GAN_loss/discrim/gp_loss: 0.15246\n",
      "\u001b[32m[1019 15:13:01 @monitor.py:467]\u001b[0m GAN_loss/discrim/wgan_d_loss: -686.88\n",
      "\u001b[32m[1019 15:13:01 @monitor.py:467]\u001b[0m GAN_loss/gen/g_loss: -401.21\n",
      "\u001b[32m[1019 15:13:01 @monitor.py:467]\u001b[0m QueueInput/queue_size: 50\n",
      "\u001b[32m[1019 15:13:01 @base.py:275]\u001b[0m Start Epoch 32 ...\n"
     ]
    },
    {
     "name": "stderr",
     "output_type": "stream",
     "text": [
      "\n",
      "100%|###################################################################################|175/175[00:05<00:00,34.75it/s]"
     ]
    },
    {
     "name": "stdout",
     "output_type": "stream",
     "text": [
      "\u001b[32m[1019 15:13:06 @base.py:285]\u001b[0m Epoch 32 (global_step 6999) finished, time:5.04 seconds.\n",
      "\u001b[32m[1019 15:13:06 @saver.py:79]\u001b[0m Model saved to ../output/Chicago/DATGAN_wass01/model\\model-6999.\n",
      "\u001b[32m[1019 15:13:06 @monitor.py:467]\u001b[0m GAN_loss/discrim/discr_loss: -958.92\n",
      "\u001b[32m[1019 15:13:06 @monitor.py:467]\u001b[0m GAN_loss/discrim/gp_loss: 0.16719\n",
      "\u001b[32m[1019 15:13:06 @monitor.py:467]\u001b[0m GAN_loss/discrim/wgan_d_loss: -960.62\n",
      "\u001b[32m[1019 15:13:06 @monitor.py:467]\u001b[0m GAN_loss/gen/g_loss: -252.97\n",
      "\u001b[32m[1019 15:13:06 @monitor.py:467]\u001b[0m QueueInput/queue_size: 50\n",
      "\u001b[32m[1019 15:13:06 @base.py:275]\u001b[0m Start Epoch 33 ...\n"
     ]
    },
    {
     "name": "stderr",
     "output_type": "stream",
     "text": [
      "\n",
      "100%|###################################################################################|175/175[00:05<00:00,34.51it/s]"
     ]
    },
    {
     "name": "stdout",
     "output_type": "stream",
     "text": [
      "\u001b[32m[1019 15:13:11 @base.py:285]\u001b[0m Epoch 33 (global_step 7218) finished, time:5.07 seconds.\n",
      "\u001b[32m[1019 15:13:11 @saver.py:79]\u001b[0m Model saved to ../output/Chicago/DATGAN_wass01/model\\model-7218.\n",
      "\u001b[32m[1019 15:13:11 @monitor.py:467]\u001b[0m GAN_loss/discrim/discr_loss: -917.78\n",
      "\u001b[32m[1019 15:13:11 @monitor.py:467]\u001b[0m GAN_loss/discrim/gp_loss: 0.1561\n",
      "\u001b[32m[1019 15:13:11 @monitor.py:467]\u001b[0m GAN_loss/discrim/wgan_d_loss: -919.37\n",
      "\u001b[32m[1019 15:13:11 @monitor.py:467]\u001b[0m GAN_loss/gen/g_loss: -316.63\n",
      "\u001b[32m[1019 15:13:11 @monitor.py:467]\u001b[0m QueueInput/queue_size: 50\n",
      "\u001b[32m[1019 15:13:11 @base.py:275]\u001b[0m Start Epoch 34 ...\n"
     ]
    },
    {
     "name": "stderr",
     "output_type": "stream",
     "text": [
      "\n",
      "100%|###################################################################################|175/175[00:05<00:00,34.55it/s]"
     ]
    },
    {
     "name": "stdout",
     "output_type": "stream",
     "text": [
      "\u001b[32m[1019 15:13:16 @base.py:285]\u001b[0m Epoch 34 (global_step 7437) finished, time:5.07 seconds.\n",
      "\u001b[32m[1019 15:13:16 @saver.py:79]\u001b[0m Model saved to ../output/Chicago/DATGAN_wass01/model\\model-7437.\n",
      "\u001b[32m[1019 15:13:16 @monitor.py:467]\u001b[0m GAN_loss/discrim/discr_loss: -980.58\n",
      "\u001b[32m[1019 15:13:16 @monitor.py:467]\u001b[0m GAN_loss/discrim/gp_loss: 0.14535\n",
      "\u001b[32m[1019 15:13:16 @monitor.py:467]\u001b[0m GAN_loss/discrim/wgan_d_loss: -982.07\n",
      "\u001b[32m[1019 15:13:16 @monitor.py:467]\u001b[0m GAN_loss/gen/g_loss: -303.49\n",
      "\u001b[32m[1019 15:13:16 @monitor.py:467]\u001b[0m QueueInput/queue_size: 50\n",
      "\u001b[32m[1019 15:13:16 @base.py:275]\u001b[0m Start Epoch 35 ...\n"
     ]
    },
    {
     "name": "stderr",
     "output_type": "stream",
     "text": [
      "\n",
      "100%|###################################################################################|175/175[00:05<00:00,34.58it/s]"
     ]
    },
    {
     "name": "stdout",
     "output_type": "stream",
     "text": [
      "\u001b[32m[1019 15:13:21 @base.py:285]\u001b[0m Epoch 35 (global_step 7656) finished, time:5.06 seconds.\n",
      "\u001b[32m[1019 15:13:22 @saver.py:79]\u001b[0m Model saved to ../output/Chicago/DATGAN_wass01/model\\model-7656.\n",
      "\u001b[32m[1019 15:13:22 @monitor.py:467]\u001b[0m GAN_loss/discrim/discr_loss: -1020.9\n",
      "\u001b[32m[1019 15:13:22 @monitor.py:467]\u001b[0m GAN_loss/discrim/gp_loss: 0.16558\n",
      "\u001b[32m[1019 15:13:22 @monitor.py:467]\u001b[0m GAN_loss/discrim/wgan_d_loss: -1022.6\n",
      "\u001b[32m[1019 15:13:22 @monitor.py:467]\u001b[0m GAN_loss/gen/g_loss: -426.21\n",
      "\u001b[32m[1019 15:13:22 @monitor.py:467]\u001b[0m QueueInput/queue_size: 50\n",
      "\u001b[32m[1019 15:13:22 @base.py:275]\u001b[0m Start Epoch 36 ...\n"
     ]
    },
    {
     "name": "stderr",
     "output_type": "stream",
     "text": [
      "\n",
      "100%|###################################################################################|175/175[00:05<00:00,34.76it/s]"
     ]
    },
    {
     "name": "stdout",
     "output_type": "stream",
     "text": [
      "\u001b[32m[1019 15:13:27 @base.py:285]\u001b[0m Epoch 36 (global_step 7874) finished, time:5.03 seconds.\n",
      "\u001b[32m[1019 15:13:27 @saver.py:79]\u001b[0m Model saved to ../output/Chicago/DATGAN_wass01/model\\model-7874.\n",
      "\u001b[32m[1019 15:13:27 @monitor.py:467]\u001b[0m GAN_loss/discrim/discr_loss: -931.06\n",
      "\u001b[32m[1019 15:13:27 @monitor.py:467]\u001b[0m GAN_loss/discrim/gp_loss: 0.15808\n",
      "\u001b[32m[1019 15:13:27 @monitor.py:467]\u001b[0m GAN_loss/discrim/wgan_d_loss: -932.67\n",
      "\u001b[32m[1019 15:13:27 @monitor.py:467]\u001b[0m GAN_loss/gen/g_loss: -500.51\n",
      "\u001b[32m[1019 15:13:27 @monitor.py:467]\u001b[0m QueueInput/queue_size: 50\n",
      "\u001b[32m[1019 15:13:27 @base.py:275]\u001b[0m Start Epoch 37 ...\n"
     ]
    },
    {
     "name": "stderr",
     "output_type": "stream",
     "text": [
      "\n",
      "100%|###################################################################################|175/175[00:05<00:00,34.53it/s]"
     ]
    },
    {
     "name": "stdout",
     "output_type": "stream",
     "text": [
      "\u001b[32m[1019 15:13:32 @base.py:285]\u001b[0m Epoch 37 (global_step 8093) finished, time:5.07 seconds.\n",
      "\u001b[32m[1019 15:13:32 @saver.py:79]\u001b[0m Model saved to ../output/Chicago/DATGAN_wass01/model\\model-8093.\n",
      "\u001b[32m[1019 15:13:32 @monitor.py:467]\u001b[0m GAN_loss/discrim/discr_loss: -964.51\n",
      "\u001b[32m[1019 15:13:32 @monitor.py:467]\u001b[0m GAN_loss/discrim/gp_loss: 0.15539\n",
      "\u001b[32m[1019 15:13:32 @monitor.py:467]\u001b[0m GAN_loss/discrim/wgan_d_loss: -966.1\n",
      "\u001b[32m[1019 15:13:32 @monitor.py:467]\u001b[0m GAN_loss/gen/g_loss: -427.78\n",
      "\u001b[32m[1019 15:13:32 @monitor.py:467]\u001b[0m QueueInput/queue_size: 50\n",
      "\u001b[32m[1019 15:13:32 @base.py:275]\u001b[0m Start Epoch 38 ...\n"
     ]
    },
    {
     "name": "stderr",
     "output_type": "stream",
     "text": [
      "\n",
      "100%|###################################################################################|175/175[00:05<00:00,34.57it/s]"
     ]
    },
    {
     "name": "stdout",
     "output_type": "stream",
     "text": [
      "\u001b[32m[1019 15:13:37 @base.py:285]\u001b[0m Epoch 38 (global_step 8312) finished, time:5.06 seconds.\n",
      "\u001b[32m[1019 15:13:37 @saver.py:79]\u001b[0m Model saved to ../output/Chicago/DATGAN_wass01/model\\model-8312.\n",
      "\u001b[32m[1019 15:13:37 @monitor.py:467]\u001b[0m GAN_loss/discrim/discr_loss: -966.87\n",
      "\u001b[32m[1019 15:13:37 @monitor.py:467]\u001b[0m GAN_loss/discrim/gp_loss: 0.16293\n",
      "\u001b[32m[1019 15:13:37 @monitor.py:467]\u001b[0m GAN_loss/discrim/wgan_d_loss: -968.54\n",
      "\u001b[32m[1019 15:13:37 @monitor.py:467]\u001b[0m GAN_loss/gen/g_loss: -547\n",
      "\u001b[32m[1019 15:13:37 @monitor.py:467]\u001b[0m QueueInput/queue_size: 50\n",
      "\u001b[32m[1019 15:13:37 @base.py:275]\u001b[0m Start Epoch 39 ...\n"
     ]
    },
    {
     "name": "stderr",
     "output_type": "stream",
     "text": [
      "\n",
      "100%|###################################################################################|175/175[00:05<00:00,34.59it/s]"
     ]
    },
    {
     "name": "stdout",
     "output_type": "stream",
     "text": [
      "\u001b[32m[1019 15:13:42 @base.py:285]\u001b[0m Epoch 39 (global_step 8531) finished, time:5.06 seconds.\n",
      "\u001b[32m[1019 15:13:42 @saver.py:79]\u001b[0m Model saved to ../output/Chicago/DATGAN_wass01/model\\model-8531.\n",
      "\u001b[32m[1019 15:13:42 @monitor.py:467]\u001b[0m GAN_loss/discrim/discr_loss: -1077.1\n",
      "\u001b[32m[1019 15:13:42 @monitor.py:467]\u001b[0m GAN_loss/discrim/gp_loss: 0.16566\n",
      "\u001b[32m[1019 15:13:42 @monitor.py:467]\u001b[0m GAN_loss/discrim/wgan_d_loss: -1078.8\n",
      "\u001b[32m[1019 15:13:42 @monitor.py:467]\u001b[0m GAN_loss/gen/g_loss: -446.91\n",
      "\u001b[32m[1019 15:13:42 @monitor.py:467]\u001b[0m QueueInput/queue_size: 50\n",
      "\u001b[32m[1019 15:13:42 @base.py:275]\u001b[0m Start Epoch 40 ...\n"
     ]
    },
    {
     "name": "stderr",
     "output_type": "stream",
     "text": [
      "\n",
      "100%|###################################################################################|175/175[00:05<00:00,34.76it/s]"
     ]
    },
    {
     "name": "stdout",
     "output_type": "stream",
     "text": [
      "\u001b[32m[1019 15:13:47 @base.py:285]\u001b[0m Epoch 40 (global_step 8749) finished, time:5.04 seconds.\n",
      "\u001b[32m[1019 15:13:47 @saver.py:79]\u001b[0m Model saved to ../output/Chicago/DATGAN_wass01/model\\model-8749.\n",
      "\u001b[32m[1019 15:13:47 @monitor.py:467]\u001b[0m GAN_loss/discrim/discr_loss: -1104.2\n",
      "\u001b[32m[1019 15:13:47 @monitor.py:467]\u001b[0m GAN_loss/discrim/gp_loss: 0.1604\n",
      "\u001b[32m[1019 15:13:47 @monitor.py:467]\u001b[0m GAN_loss/discrim/wgan_d_loss: -1105.9\n",
      "\u001b[32m[1019 15:13:47 @monitor.py:467]\u001b[0m GAN_loss/gen/g_loss: -772.94\n",
      "\u001b[32m[1019 15:13:47 @monitor.py:467]\u001b[0m QueueInput/queue_size: 50\n",
      "\u001b[32m[1019 15:13:47 @base.py:275]\u001b[0m Start Epoch 41 ...\n"
     ]
    },
    {
     "name": "stderr",
     "output_type": "stream",
     "text": [
      "\n",
      "100%|###################################################################################|175/175[00:05<00:00,34.50it/s]"
     ]
    },
    {
     "name": "stdout",
     "output_type": "stream",
     "text": [
      "\u001b[32m[1019 15:13:52 @base.py:285]\u001b[0m Epoch 41 (global_step 8968) finished, time:5.07 seconds.\n",
      "\u001b[32m[1019 15:13:52 @saver.py:79]\u001b[0m Model saved to ../output/Chicago/DATGAN_wass01/model\\model-8968.\n",
      "\u001b[32m[1019 15:13:52 @monitor.py:467]\u001b[0m GAN_loss/discrim/discr_loss: -1221.6\n",
      "\u001b[32m[1019 15:13:52 @monitor.py:467]\u001b[0m GAN_loss/discrim/gp_loss: 0.1531\n",
      "\u001b[32m[1019 15:13:52 @monitor.py:467]\u001b[0m GAN_loss/discrim/wgan_d_loss: -1223.2\n",
      "\u001b[32m[1019 15:13:52 @monitor.py:467]\u001b[0m GAN_loss/gen/g_loss: -449.75\n",
      "\u001b[32m[1019 15:13:52 @monitor.py:467]\u001b[0m QueueInput/queue_size: 50\n",
      "\u001b[32m[1019 15:13:52 @base.py:275]\u001b[0m Start Epoch 42 ...\n"
     ]
    },
    {
     "name": "stderr",
     "output_type": "stream",
     "text": [
      "\n",
      "100%|###################################################################################|175/175[00:05<00:00,34.56it/s]"
     ]
    },
    {
     "name": "stdout",
     "output_type": "stream",
     "text": [
      "\u001b[32m[1019 15:13:57 @base.py:285]\u001b[0m Epoch 42 (global_step 9187) finished, time:5.06 seconds.\n",
      "\u001b[32m[1019 15:13:57 @saver.py:79]\u001b[0m Model saved to ../output/Chicago/DATGAN_wass01/model\\model-9187.\n",
      "\u001b[32m[1019 15:13:58 @monitor.py:467]\u001b[0m GAN_loss/discrim/discr_loss: -1389.4\n",
      "\u001b[32m[1019 15:13:58 @monitor.py:467]\u001b[0m GAN_loss/discrim/gp_loss: 0.15212\n",
      "\u001b[32m[1019 15:13:58 @monitor.py:467]\u001b[0m GAN_loss/discrim/wgan_d_loss: -1390.9\n",
      "\u001b[32m[1019 15:13:58 @monitor.py:467]\u001b[0m GAN_loss/gen/g_loss: -516.3\n",
      "\u001b[32m[1019 15:13:58 @monitor.py:467]\u001b[0m QueueInput/queue_size: 50\n",
      "\u001b[32m[1019 15:13:58 @base.py:275]\u001b[0m Start Epoch 43 ...\n"
     ]
    },
    {
     "name": "stderr",
     "output_type": "stream",
     "text": [
      "\n",
      "100%|###################################################################################|175/175[00:05<00:00,34.60it/s]"
     ]
    },
    {
     "name": "stdout",
     "output_type": "stream",
     "text": [
      "\u001b[32m[1019 15:14:03 @base.py:285]\u001b[0m Epoch 43 (global_step 9406) finished, time:5.06 seconds.\n",
      "\u001b[32m[1019 15:14:03 @saver.py:79]\u001b[0m Model saved to ../output/Chicago/DATGAN_wass01/model\\model-9406.\n",
      "\u001b[32m[1019 15:14:03 @monitor.py:467]\u001b[0m GAN_loss/discrim/discr_loss: -1442.3\n",
      "\u001b[32m[1019 15:14:03 @monitor.py:467]\u001b[0m GAN_loss/discrim/gp_loss: 0.14976\n",
      "\u001b[32m[1019 15:14:03 @monitor.py:467]\u001b[0m GAN_loss/discrim/wgan_d_loss: -1443.9\n",
      "\u001b[32m[1019 15:14:03 @monitor.py:467]\u001b[0m GAN_loss/gen/g_loss: -475.94\n",
      "\u001b[32m[1019 15:14:03 @monitor.py:467]\u001b[0m QueueInput/queue_size: 50\n",
      "\u001b[32m[1019 15:14:03 @base.py:275]\u001b[0m Start Epoch 44 ...\n"
     ]
    },
    {
     "name": "stderr",
     "output_type": "stream",
     "text": [
      "\n",
      "100%|###################################################################################|175/175[00:05<00:00,34.71it/s]"
     ]
    },
    {
     "name": "stdout",
     "output_type": "stream",
     "text": [
      "\u001b[32m[1019 15:14:08 @base.py:285]\u001b[0m Epoch 44 (global_step 9624) finished, time:5.04 seconds.\n",
      "\u001b[32m[1019 15:14:08 @saver.py:79]\u001b[0m Model saved to ../output/Chicago/DATGAN_wass01/model\\model-9624.\n",
      "\u001b[32m[1019 15:14:08 @monitor.py:467]\u001b[0m GAN_loss/discrim/discr_loss: -1284.7\n",
      "\u001b[32m[1019 15:14:08 @monitor.py:467]\u001b[0m GAN_loss/discrim/gp_loss: 0.15928\n",
      "\u001b[32m[1019 15:14:08 @monitor.py:467]\u001b[0m GAN_loss/discrim/wgan_d_loss: -1286.3\n",
      "\u001b[32m[1019 15:14:08 @monitor.py:467]\u001b[0m GAN_loss/gen/g_loss: -499\n",
      "\u001b[32m[1019 15:14:08 @monitor.py:467]\u001b[0m QueueInput/queue_size: 50\n",
      "\u001b[32m[1019 15:14:08 @base.py:275]\u001b[0m Start Epoch 45 ...\n"
     ]
    },
    {
     "name": "stderr",
     "output_type": "stream",
     "text": [
      "\n",
      "100%|###################################################################################|175/175[00:05<00:00,34.53it/s]"
     ]
    },
    {
     "name": "stdout",
     "output_type": "stream",
     "text": [
      "\u001b[32m[1019 15:14:13 @base.py:285]\u001b[0m Epoch 45 (global_step 9843) finished, time:5.07 seconds.\n",
      "\u001b[32m[1019 15:14:13 @saver.py:79]\u001b[0m Model saved to ../output/Chicago/DATGAN_wass01/model\\model-9843.\n",
      "\u001b[32m[1019 15:14:13 @monitor.py:467]\u001b[0m GAN_loss/discrim/discr_loss: -1720.1\n",
      "\u001b[32m[1019 15:14:13 @monitor.py:467]\u001b[0m GAN_loss/discrim/gp_loss: 0.15948\n",
      "\u001b[32m[1019 15:14:13 @monitor.py:467]\u001b[0m GAN_loss/discrim/wgan_d_loss: -1721.7\n",
      "\u001b[32m[1019 15:14:13 @monitor.py:467]\u001b[0m GAN_loss/gen/g_loss: -413.62\n",
      "\u001b[32m[1019 15:14:13 @monitor.py:467]\u001b[0m QueueInput/queue_size: 50\n",
      "\u001b[32m[1019 15:14:13 @base.py:275]\u001b[0m Start Epoch 46 ...\n"
     ]
    },
    {
     "name": "stderr",
     "output_type": "stream",
     "text": [
      "\n",
      "100%|###################################################################################|175/175[00:05<00:00,34.50it/s]"
     ]
    },
    {
     "name": "stdout",
     "output_type": "stream",
     "text": [
      "\u001b[32m[1019 15:14:18 @base.py:285]\u001b[0m Epoch 46 (global_step 10062) finished, time:5.07 seconds.\n",
      "\u001b[32m[1019 15:14:18 @saver.py:79]\u001b[0m Model saved to ../output/Chicago/DATGAN_wass01/model\\model-10062.\n",
      "\u001b[32m[1019 15:14:18 @monitor.py:467]\u001b[0m GAN_loss/discrim/discr_loss: -1389.2\n",
      "\u001b[32m[1019 15:14:18 @monitor.py:467]\u001b[0m GAN_loss/discrim/gp_loss: 0.16946\n",
      "\u001b[32m[1019 15:14:18 @monitor.py:467]\u001b[0m GAN_loss/discrim/wgan_d_loss: -1391\n",
      "\u001b[32m[1019 15:14:18 @monitor.py:467]\u001b[0m GAN_loss/gen/g_loss: -953.49\n",
      "\u001b[32m[1019 15:14:18 @monitor.py:467]\u001b[0m QueueInput/queue_size: 50\n",
      "\u001b[32m[1019 15:14:18 @base.py:275]\u001b[0m Start Epoch 47 ...\n"
     ]
    },
    {
     "name": "stderr",
     "output_type": "stream",
     "text": [
      "\n",
      "100%|###################################################################################|175/175[00:05<00:00,34.61it/s]"
     ]
    },
    {
     "name": "stdout",
     "output_type": "stream",
     "text": [
      "\u001b[32m[1019 15:14:23 @base.py:285]\u001b[0m Epoch 47 (global_step 10281) finished, time:5.06 seconds.\n",
      "\u001b[32m[1019 15:14:23 @saver.py:79]\u001b[0m Model saved to ../output/Chicago/DATGAN_wass01/model\\model-10281.\n",
      "\u001b[32m[1019 15:14:23 @monitor.py:467]\u001b[0m GAN_loss/discrim/discr_loss: -1829.5\n",
      "\u001b[32m[1019 15:14:23 @monitor.py:467]\u001b[0m GAN_loss/discrim/gp_loss: 0.14364\n",
      "\u001b[32m[1019 15:14:23 @monitor.py:467]\u001b[0m GAN_loss/discrim/wgan_d_loss: -1831\n",
      "\u001b[32m[1019 15:14:23 @monitor.py:467]\u001b[0m GAN_loss/gen/g_loss: -278\n",
      "\u001b[32m[1019 15:14:23 @monitor.py:467]\u001b[0m QueueInput/queue_size: 50\n",
      "\u001b[32m[1019 15:14:23 @base.py:275]\u001b[0m Start Epoch 48 ...\n"
     ]
    },
    {
     "name": "stderr",
     "output_type": "stream",
     "text": [
      "\n",
      "100%|###################################################################################|175/175[00:05<00:00,34.71it/s]"
     ]
    },
    {
     "name": "stdout",
     "output_type": "stream",
     "text": [
      "\u001b[32m[1019 15:14:28 @base.py:285]\u001b[0m Epoch 48 (global_step 10499) finished, time:5.04 seconds.\n",
      "\u001b[32m[1019 15:14:28 @saver.py:79]\u001b[0m Model saved to ../output/Chicago/DATGAN_wass01/model\\model-10499.\n",
      "\u001b[32m[1019 15:14:28 @monitor.py:467]\u001b[0m GAN_loss/discrim/discr_loss: -1247.6\n",
      "\u001b[32m[1019 15:14:28 @monitor.py:467]\u001b[0m GAN_loss/discrim/gp_loss: 0.16148\n",
      "\u001b[32m[1019 15:14:28 @monitor.py:467]\u001b[0m GAN_loss/discrim/wgan_d_loss: -1249.3\n",
      "\u001b[32m[1019 15:14:28 @monitor.py:467]\u001b[0m GAN_loss/gen/g_loss: -1050.5\n",
      "\u001b[32m[1019 15:14:28 @monitor.py:467]\u001b[0m QueueInput/queue_size: 50\n",
      "\u001b[32m[1019 15:14:28 @base.py:275]\u001b[0m Start Epoch 49 ...\n"
     ]
    },
    {
     "name": "stderr",
     "output_type": "stream",
     "text": [
      "\n",
      "100%|###################################################################################|175/175[00:05<00:00,34.57it/s]"
     ]
    },
    {
     "name": "stdout",
     "output_type": "stream",
     "text": [
      "\u001b[32m[1019 15:14:33 @base.py:285]\u001b[0m Epoch 49 (global_step 10718) finished, time:5.06 seconds.\n",
      "\u001b[32m[1019 15:14:33 @saver.py:79]\u001b[0m Model saved to ../output/Chicago/DATGAN_wass01/model\\model-10718.\n",
      "\u001b[32m[1019 15:14:33 @monitor.py:467]\u001b[0m GAN_loss/discrim/discr_loss: -1662.6\n",
      "\u001b[32m[1019 15:14:33 @monitor.py:467]\u001b[0m GAN_loss/discrim/gp_loss: 0.14701\n",
      "\u001b[32m[1019 15:14:33 @monitor.py:467]\u001b[0m GAN_loss/discrim/wgan_d_loss: -1664.1\n",
      "\u001b[32m[1019 15:14:33 @monitor.py:467]\u001b[0m GAN_loss/gen/g_loss: -959.32\n",
      "\u001b[32m[1019 15:14:33 @monitor.py:467]\u001b[0m QueueInput/queue_size: 50\n",
      "\u001b[32m[1019 15:14:33 @base.py:275]\u001b[0m Start Epoch 50 ...\n"
     ]
    },
    {
     "name": "stderr",
     "output_type": "stream",
     "text": [
      "\n",
      "100%|###################################################################################|175/175[00:05<00:00,34.51it/s]"
     ]
    },
    {
     "name": "stdout",
     "output_type": "stream",
     "text": [
      "\u001b[32m[1019 15:14:39 @base.py:285]\u001b[0m Epoch 50 (global_step 10937) finished, time:5.07 seconds.\n",
      "\u001b[32m[1019 15:14:39 @saver.py:79]\u001b[0m Model saved to ../output/Chicago/DATGAN_wass01/model\\model-10937.\n",
      "\u001b[32m[1019 15:14:39 @monitor.py:467]\u001b[0m GAN_loss/discrim/discr_loss: -1817.1\n",
      "\u001b[32m[1019 15:14:39 @monitor.py:467]\u001b[0m GAN_loss/discrim/gp_loss: 0.15426\n",
      "\u001b[32m[1019 15:14:39 @monitor.py:467]\u001b[0m GAN_loss/discrim/wgan_d_loss: -1818.7\n",
      "\u001b[32m[1019 15:14:39 @monitor.py:467]\u001b[0m GAN_loss/gen/g_loss: -554.18\n",
      "\u001b[32m[1019 15:14:39 @monitor.py:467]\u001b[0m QueueInput/queue_size: 50\n",
      "\u001b[32m[1019 15:14:39 @base.py:275]\u001b[0m Start Epoch 51 ...\n"
     ]
    },
    {
     "name": "stderr",
     "output_type": "stream",
     "text": [
      "\n",
      "100%|###################################################################################|175/175[00:05<00:00,34.60it/s]"
     ]
    },
    {
     "name": "stdout",
     "output_type": "stream",
     "text": [
      "\u001b[32m[1019 15:14:44 @base.py:285]\u001b[0m Epoch 51 (global_step 11156) finished, time:5.06 seconds.\n",
      "\u001b[32m[1019 15:14:44 @saver.py:79]\u001b[0m Model saved to ../output/Chicago/DATGAN_wass01/model\\model-11156.\n",
      "\u001b[32m[1019 15:14:44 @monitor.py:467]\u001b[0m GAN_loss/discrim/discr_loss: -1712.9\n",
      "\u001b[32m[1019 15:14:44 @monitor.py:467]\u001b[0m GAN_loss/discrim/gp_loss: 0.15559\n",
      "\u001b[32m[1019 15:14:44 @monitor.py:467]\u001b[0m GAN_loss/discrim/wgan_d_loss: -1714.5\n",
      "\u001b[32m[1019 15:14:44 @monitor.py:467]\u001b[0m GAN_loss/gen/g_loss: -798.98\n",
      "\u001b[32m[1019 15:14:44 @monitor.py:467]\u001b[0m QueueInput/queue_size: 50\n",
      "\u001b[32m[1019 15:14:44 @base.py:275]\u001b[0m Start Epoch 52 ...\n"
     ]
    },
    {
     "name": "stderr",
     "output_type": "stream",
     "text": [
      "\n",
      "100%|###################################################################################|175/175[00:05<00:00,34.72it/s]"
     ]
    },
    {
     "name": "stdout",
     "output_type": "stream",
     "text": [
      "\u001b[32m[1019 15:14:49 @base.py:285]\u001b[0m Epoch 52 (global_step 11374) finished, time:5.04 seconds.\n",
      "\u001b[32m[1019 15:14:49 @saver.py:79]\u001b[0m Model saved to ../output/Chicago/DATGAN_wass01/model\\model-11374.\n",
      "\u001b[32m[1019 15:14:49 @monitor.py:467]\u001b[0m GAN_loss/discrim/discr_loss: -2018.4\n",
      "\u001b[32m[1019 15:14:49 @monitor.py:467]\u001b[0m GAN_loss/discrim/gp_loss: 0.14982\n",
      "\u001b[32m[1019 15:14:49 @monitor.py:467]\u001b[0m GAN_loss/discrim/wgan_d_loss: -2019.9\n",
      "\u001b[32m[1019 15:14:49 @monitor.py:467]\u001b[0m GAN_loss/gen/g_loss: -751.45\n",
      "\u001b[32m[1019 15:14:49 @monitor.py:467]\u001b[0m QueueInput/queue_size: 50\n",
      "\u001b[32m[1019 15:14:49 @base.py:275]\u001b[0m Start Epoch 53 ...\n"
     ]
    },
    {
     "name": "stderr",
     "output_type": "stream",
     "text": [
      "\n",
      "100%|###################################################################################|175/175[00:05<00:00,34.55it/s]"
     ]
    },
    {
     "name": "stdout",
     "output_type": "stream",
     "text": [
      "\u001b[32m[1019 15:14:54 @base.py:285]\u001b[0m Epoch 53 (global_step 11593) finished, time:5.07 seconds.\n",
      "\u001b[32m[1019 15:14:54 @saver.py:79]\u001b[0m Model saved to ../output/Chicago/DATGAN_wass01/model\\model-11593.\n",
      "\u001b[32m[1019 15:14:54 @monitor.py:467]\u001b[0m GAN_loss/discrim/discr_loss: -1838.8\n",
      "\u001b[32m[1019 15:14:54 @monitor.py:467]\u001b[0m GAN_loss/discrim/gp_loss: 0.14772\n",
      "\u001b[32m[1019 15:14:54 @monitor.py:467]\u001b[0m GAN_loss/discrim/wgan_d_loss: -1840.4\n",
      "\u001b[32m[1019 15:14:54 @monitor.py:467]\u001b[0m GAN_loss/gen/g_loss: -774.49\n",
      "\u001b[32m[1019 15:14:54 @monitor.py:467]\u001b[0m QueueInput/queue_size: 50\n",
      "\u001b[32m[1019 15:14:54 @base.py:275]\u001b[0m Start Epoch 54 ...\n"
     ]
    },
    {
     "name": "stderr",
     "output_type": "stream",
     "text": [
      "\n",
      "100%|###################################################################################|175/175[00:05<00:00,34.53it/s]"
     ]
    },
    {
     "name": "stdout",
     "output_type": "stream",
     "text": [
      "\u001b[32m[1019 15:14:59 @base.py:285]\u001b[0m Epoch 54 (global_step 11812) finished, time:5.07 seconds.\n",
      "\u001b[32m[1019 15:14:59 @saver.py:79]\u001b[0m Model saved to ../output/Chicago/DATGAN_wass01/model\\model-11812.\n",
      "\u001b[32m[1019 15:14:59 @monitor.py:467]\u001b[0m GAN_loss/discrim/discr_loss: -1835.6\n",
      "\u001b[32m[1019 15:14:59 @monitor.py:467]\u001b[0m GAN_loss/discrim/gp_loss: 0.15996\n",
      "\u001b[32m[1019 15:14:59 @monitor.py:467]\u001b[0m GAN_loss/discrim/wgan_d_loss: -1837.3\n",
      "\u001b[32m[1019 15:14:59 @monitor.py:467]\u001b[0m GAN_loss/gen/g_loss: -1032.1\n",
      "\u001b[32m[1019 15:14:59 @monitor.py:467]\u001b[0m QueueInput/queue_size: 50\n",
      "\u001b[32m[1019 15:14:59 @base.py:275]\u001b[0m Start Epoch 55 ...\n"
     ]
    },
    {
     "name": "stderr",
     "output_type": "stream",
     "text": [
      "\n",
      "100%|###################################################################################|175/175[00:05<00:00,34.60it/s]"
     ]
    },
    {
     "name": "stdout",
     "output_type": "stream",
     "text": [
      "\u001b[32m[1019 15:15:04 @base.py:285]\u001b[0m Epoch 55 (global_step 12031) finished, time:5.06 seconds.\n",
      "\u001b[32m[1019 15:15:04 @saver.py:79]\u001b[0m Model saved to ../output/Chicago/DATGAN_wass01/model\\model-12031.\n",
      "\u001b[32m[1019 15:15:04 @monitor.py:467]\u001b[0m GAN_loss/discrim/discr_loss: -1773.7\n",
      "\u001b[32m[1019 15:15:04 @monitor.py:467]\u001b[0m GAN_loss/discrim/gp_loss: 0.1628\n",
      "\u001b[32m[1019 15:15:04 @monitor.py:467]\u001b[0m GAN_loss/discrim/wgan_d_loss: -1775.4\n",
      "\u001b[32m[1019 15:15:04 @monitor.py:467]\u001b[0m GAN_loss/gen/g_loss: -745.35\n",
      "\u001b[32m[1019 15:15:04 @monitor.py:467]\u001b[0m QueueInput/queue_size: 50\n",
      "\u001b[32m[1019 15:15:04 @base.py:275]\u001b[0m Start Epoch 56 ...\n"
     ]
    },
    {
     "name": "stderr",
     "output_type": "stream",
     "text": [
      "\n",
      "100%|###################################################################################|175/175[00:05<00:00,34.73it/s]"
     ]
    },
    {
     "name": "stdout",
     "output_type": "stream",
     "text": [
      "\u001b[32m[1019 15:15:09 @base.py:285]\u001b[0m Epoch 56 (global_step 12249) finished, time:5.04 seconds.\n",
      "\u001b[32m[1019 15:15:09 @saver.py:79]\u001b[0m Model saved to ../output/Chicago/DATGAN_wass01/model\\model-12249.\n",
      "\u001b[32m[1019 15:15:09 @monitor.py:467]\u001b[0m GAN_loss/discrim/discr_loss: -1951.9\n",
      "\u001b[32m[1019 15:15:09 @monitor.py:467]\u001b[0m GAN_loss/discrim/gp_loss: 0.14479\n",
      "\u001b[32m[1019 15:15:09 @monitor.py:467]\u001b[0m GAN_loss/discrim/wgan_d_loss: -1953.4\n",
      "\u001b[32m[1019 15:15:09 @monitor.py:467]\u001b[0m GAN_loss/gen/g_loss: -1150.8\n",
      "\u001b[32m[1019 15:15:09 @monitor.py:467]\u001b[0m QueueInput/queue_size: 50\n",
      "\u001b[32m[1019 15:15:09 @base.py:275]\u001b[0m Start Epoch 57 ...\n"
     ]
    },
    {
     "name": "stderr",
     "output_type": "stream",
     "text": [
      "\n",
      "100%|###################################################################################|175/175[00:05<00:00,34.55it/s]"
     ]
    },
    {
     "name": "stdout",
     "output_type": "stream",
     "text": [
      "\u001b[32m[1019 15:15:15 @base.py:285]\u001b[0m Epoch 57 (global_step 12468) finished, time:5.07 seconds.\n",
      "\u001b[32m[1019 15:15:15 @saver.py:79]\u001b[0m Model saved to ../output/Chicago/DATGAN_wass01/model\\model-12468.\n",
      "\u001b[32m[1019 15:15:15 @monitor.py:467]\u001b[0m GAN_loss/discrim/discr_loss: -2230.8\n",
      "\u001b[32m[1019 15:15:15 @monitor.py:467]\u001b[0m GAN_loss/discrim/gp_loss: 0.14926\n",
      "\u001b[32m[1019 15:15:15 @monitor.py:467]\u001b[0m GAN_loss/discrim/wgan_d_loss: -2232.3\n",
      "\u001b[32m[1019 15:15:15 @monitor.py:467]\u001b[0m GAN_loss/gen/g_loss: -875.43\n",
      "\u001b[32m[1019 15:15:15 @monitor.py:467]\u001b[0m QueueInput/queue_size: 50\n",
      "\u001b[32m[1019 15:15:15 @base.py:275]\u001b[0m Start Epoch 58 ...\n"
     ]
    },
    {
     "name": "stderr",
     "output_type": "stream",
     "text": [
      "\n",
      "100%|###################################################################################|175/175[00:05<00:00,34.55it/s]"
     ]
    },
    {
     "name": "stdout",
     "output_type": "stream",
     "text": [
      "\u001b[32m[1019 15:15:20 @base.py:285]\u001b[0m Epoch 58 (global_step 12687) finished, time:5.07 seconds.\n",
      "\u001b[32m[1019 15:15:20 @saver.py:79]\u001b[0m Model saved to ../output/Chicago/DATGAN_wass01/model\\model-12687.\n",
      "\u001b[32m[1019 15:15:20 @monitor.py:467]\u001b[0m GAN_loss/discrim/discr_loss: -2269.4\n",
      "\u001b[32m[1019 15:15:20 @monitor.py:467]\u001b[0m GAN_loss/discrim/gp_loss: 0.1546\n",
      "\u001b[32m[1019 15:15:20 @monitor.py:467]\u001b[0m GAN_loss/discrim/wgan_d_loss: -2271.1\n",
      "\u001b[32m[1019 15:15:20 @monitor.py:467]\u001b[0m GAN_loss/gen/g_loss: -915.43\n",
      "\u001b[32m[1019 15:15:20 @monitor.py:467]\u001b[0m QueueInput/queue_size: 50\n",
      "\u001b[32m[1019 15:15:20 @base.py:275]\u001b[0m Start Epoch 59 ...\n"
     ]
    },
    {
     "name": "stderr",
     "output_type": "stream",
     "text": [
      "\n",
      "100%|###################################################################################|175/175[00:05<00:00,34.57it/s]"
     ]
    },
    {
     "name": "stdout",
     "output_type": "stream",
     "text": [
      "\u001b[32m[1019 15:15:25 @base.py:285]\u001b[0m Epoch 59 (global_step 12906) finished, time:5.06 seconds.\n",
      "\u001b[32m[1019 15:15:25 @saver.py:79]\u001b[0m Model saved to ../output/Chicago/DATGAN_wass01/model\\model-12906.\n",
      "\u001b[32m[1019 15:15:25 @monitor.py:467]\u001b[0m GAN_loss/discrim/discr_loss: -2086.8\n",
      "\u001b[32m[1019 15:15:25 @monitor.py:467]\u001b[0m GAN_loss/discrim/gp_loss: 0.14018\n",
      "\u001b[32m[1019 15:15:25 @monitor.py:467]\u001b[0m GAN_loss/discrim/wgan_d_loss: -2088.3\n",
      "\u001b[32m[1019 15:15:25 @monitor.py:467]\u001b[0m GAN_loss/gen/g_loss: -1397.9\n",
      "\u001b[32m[1019 15:15:25 @monitor.py:467]\u001b[0m QueueInput/queue_size: 50\n",
      "\u001b[32m[1019 15:15:25 @base.py:275]\u001b[0m Start Epoch 60 ...\n"
     ]
    },
    {
     "name": "stderr",
     "output_type": "stream",
     "text": [
      "\n",
      "100%|###################################################################################|175/175[00:05<00:00,34.74it/s]"
     ]
    },
    {
     "name": "stdout",
     "output_type": "stream",
     "text": [
      "\u001b[32m[1019 15:15:30 @base.py:285]\u001b[0m Epoch 60 (global_step 13124) finished, time:5.04 seconds.\n",
      "\u001b[32m[1019 15:15:30 @saver.py:79]\u001b[0m Model saved to ../output/Chicago/DATGAN_wass01/model\\model-13124.\n",
      "\u001b[32m[1019 15:15:30 @monitor.py:467]\u001b[0m GAN_loss/discrim/discr_loss: -2114.1\n",
      "\u001b[32m[1019 15:15:30 @monitor.py:467]\u001b[0m GAN_loss/discrim/gp_loss: 0.15463\n",
      "\u001b[32m[1019 15:15:30 @monitor.py:467]\u001b[0m GAN_loss/discrim/wgan_d_loss: -2115.7\n",
      "\u001b[32m[1019 15:15:30 @monitor.py:467]\u001b[0m GAN_loss/gen/g_loss: -1153.8\n",
      "\u001b[32m[1019 15:15:30 @monitor.py:467]\u001b[0m QueueInput/queue_size: 50\n",
      "\u001b[32m[1019 15:15:30 @base.py:275]\u001b[0m Start Epoch 61 ...\n"
     ]
    },
    {
     "name": "stderr",
     "output_type": "stream",
     "text": [
      "\n",
      "100%|###################################################################################|175/175[00:05<00:00,34.52it/s]"
     ]
    },
    {
     "name": "stdout",
     "output_type": "stream",
     "text": [
      "\u001b[32m[1019 15:15:35 @base.py:285]\u001b[0m Epoch 61 (global_step 13343) finished, time:5.07 seconds.\n",
      "\u001b[32m[1019 15:15:35 @saver.py:79]\u001b[0m Model saved to ../output/Chicago/DATGAN_wass01/model\\model-13343.\n",
      "\u001b[32m[1019 15:15:35 @monitor.py:467]\u001b[0m GAN_loss/discrim/discr_loss: -2802.5\n",
      "\u001b[32m[1019 15:15:35 @monitor.py:467]\u001b[0m GAN_loss/discrim/gp_loss: 0.15786\n",
      "\u001b[32m[1019 15:15:35 @monitor.py:467]\u001b[0m GAN_loss/discrim/wgan_d_loss: -2804.2\n",
      "\u001b[32m[1019 15:15:35 @monitor.py:467]\u001b[0m GAN_loss/gen/g_loss: -640.42\n",
      "\u001b[32m[1019 15:15:35 @monitor.py:467]\u001b[0m QueueInput/queue_size: 50\n",
      "\u001b[32m[1019 15:15:35 @base.py:275]\u001b[0m Start Epoch 62 ...\n"
     ]
    },
    {
     "name": "stderr",
     "output_type": "stream",
     "text": [
      "\n",
      "100%|###################################################################################|175/175[00:05<00:00,34.54it/s]"
     ]
    },
    {
     "name": "stdout",
     "output_type": "stream",
     "text": [
      "\u001b[32m[1019 15:15:40 @base.py:285]\u001b[0m Epoch 62 (global_step 13562) finished, time:5.07 seconds.\n",
      "\u001b[32m[1019 15:15:40 @saver.py:79]\u001b[0m Model saved to ../output/Chicago/DATGAN_wass01/model\\model-13562.\n",
      "\u001b[32m[1019 15:15:40 @monitor.py:467]\u001b[0m GAN_loss/discrim/discr_loss: -1990.4\n",
      "\u001b[32m[1019 15:15:40 @monitor.py:467]\u001b[0m GAN_loss/discrim/gp_loss: 0.16186\n",
      "\u001b[32m[1019 15:15:40 @monitor.py:467]\u001b[0m GAN_loss/discrim/wgan_d_loss: -1992.1\n",
      "\u001b[32m[1019 15:15:40 @monitor.py:467]\u001b[0m GAN_loss/gen/g_loss: -1386.1\n",
      "\u001b[32m[1019 15:15:40 @monitor.py:467]\u001b[0m QueueInput/queue_size: 50\n",
      "\u001b[32m[1019 15:15:40 @base.py:275]\u001b[0m Start Epoch 63 ...\n"
     ]
    },
    {
     "name": "stderr",
     "output_type": "stream",
     "text": [
      "\n",
      "100%|###################################################################################|175/175[00:05<00:00,34.59it/s]"
     ]
    },
    {
     "name": "stdout",
     "output_type": "stream",
     "text": [
      "\u001b[32m[1019 15:15:45 @base.py:285]\u001b[0m Epoch 63 (global_step 13781) finished, time:5.06 seconds.\n",
      "\u001b[32m[1019 15:15:45 @saver.py:79]\u001b[0m Model saved to ../output/Chicago/DATGAN_wass01/model\\model-13781.\n",
      "\u001b[32m[1019 15:15:45 @monitor.py:467]\u001b[0m GAN_loss/discrim/discr_loss: -2436.3\n",
      "\u001b[32m[1019 15:15:45 @monitor.py:467]\u001b[0m GAN_loss/discrim/gp_loss: 0.15763\n",
      "\u001b[32m[1019 15:15:45 @monitor.py:467]\u001b[0m GAN_loss/discrim/wgan_d_loss: -2438\n",
      "\u001b[32m[1019 15:15:45 @monitor.py:467]\u001b[0m GAN_loss/gen/g_loss: -1517.9\n",
      "\u001b[32m[1019 15:15:45 @monitor.py:467]\u001b[0m QueueInput/queue_size: 50\n",
      "\u001b[32m[1019 15:15:45 @base.py:275]\u001b[0m Start Epoch 64 ...\n"
     ]
    },
    {
     "name": "stderr",
     "output_type": "stream",
     "text": [
      "\n",
      "100%|###################################################################################|175/175[00:05<00:00,34.74it/s]"
     ]
    },
    {
     "name": "stdout",
     "output_type": "stream",
     "text": [
      "\u001b[32m[1019 15:15:51 @base.py:285]\u001b[0m Epoch 64 (global_step 13999) finished, time:5.04 seconds.\n",
      "\u001b[32m[1019 15:15:51 @saver.py:79]\u001b[0m Model saved to ../output/Chicago/DATGAN_wass01/model\\model-13999.\n",
      "\u001b[32m[1019 15:15:51 @monitor.py:467]\u001b[0m GAN_loss/discrim/discr_loss: -2103.3\n",
      "\u001b[32m[1019 15:15:51 @monitor.py:467]\u001b[0m GAN_loss/discrim/gp_loss: 0.14519\n",
      "\u001b[32m[1019 15:15:51 @monitor.py:467]\u001b[0m GAN_loss/discrim/wgan_d_loss: -2104.8\n",
      "\u001b[32m[1019 15:15:51 @monitor.py:467]\u001b[0m GAN_loss/gen/g_loss: -1338.8\n",
      "\u001b[32m[1019 15:15:51 @monitor.py:467]\u001b[0m QueueInput/queue_size: 50\n",
      "\u001b[32m[1019 15:15:51 @base.py:275]\u001b[0m Start Epoch 65 ...\n"
     ]
    },
    {
     "name": "stderr",
     "output_type": "stream",
     "text": [
      "\n",
      "100%|###################################################################################|175/175[00:05<00:00,34.52it/s]"
     ]
    },
    {
     "name": "stdout",
     "output_type": "stream",
     "text": [
      "\u001b[32m[1019 15:15:56 @base.py:285]\u001b[0m Epoch 65 (global_step 14218) finished, time:5.07 seconds.\n",
      "\u001b[32m[1019 15:15:56 @saver.py:79]\u001b[0m Model saved to ../output/Chicago/DATGAN_wass01/model\\model-14218.\n",
      "\u001b[32m[1019 15:15:56 @monitor.py:467]\u001b[0m GAN_loss/discrim/discr_loss: -2355.8\n",
      "\u001b[32m[1019 15:15:56 @monitor.py:467]\u001b[0m GAN_loss/discrim/gp_loss: 0.14486\n",
      "\u001b[32m[1019 15:15:56 @monitor.py:467]\u001b[0m GAN_loss/discrim/wgan_d_loss: -2357.3\n",
      "\u001b[32m[1019 15:15:56 @monitor.py:467]\u001b[0m GAN_loss/gen/g_loss: -1352.4\n",
      "\u001b[32m[1019 15:15:56 @monitor.py:467]\u001b[0m QueueInput/queue_size: 50\n",
      "\u001b[32m[1019 15:15:56 @base.py:275]\u001b[0m Start Epoch 66 ...\n"
     ]
    },
    {
     "name": "stderr",
     "output_type": "stream",
     "text": [
      "\n",
      "100%|###################################################################################|175/175[00:05<00:00,34.55it/s]"
     ]
    },
    {
     "name": "stdout",
     "output_type": "stream",
     "text": [
      "\u001b[32m[1019 15:16:01 @base.py:285]\u001b[0m Epoch 66 (global_step 14437) finished, time:5.07 seconds.\n",
      "\u001b[32m[1019 15:16:01 @saver.py:79]\u001b[0m Model saved to ../output/Chicago/DATGAN_wass01/model\\model-14437.\n",
      "\u001b[32m[1019 15:16:01 @monitor.py:467]\u001b[0m GAN_loss/discrim/discr_loss: -2332.6\n",
      "\u001b[32m[1019 15:16:01 @monitor.py:467]\u001b[0m GAN_loss/discrim/gp_loss: 0.15133\n",
      "\u001b[32m[1019 15:16:01 @monitor.py:467]\u001b[0m GAN_loss/discrim/wgan_d_loss: -2334.2\n",
      "\u001b[32m[1019 15:16:01 @monitor.py:467]\u001b[0m GAN_loss/gen/g_loss: -1206.5\n",
      "\u001b[32m[1019 15:16:01 @monitor.py:467]\u001b[0m QueueInput/queue_size: 50\n",
      "\u001b[32m[1019 15:16:01 @base.py:275]\u001b[0m Start Epoch 67 ...\n"
     ]
    },
    {
     "name": "stderr",
     "output_type": "stream",
     "text": [
      "\n",
      "100%|###################################################################################|175/175[00:05<00:00,34.57it/s]"
     ]
    },
    {
     "name": "stdout",
     "output_type": "stream",
     "text": [
      "\u001b[32m[1019 15:16:06 @base.py:285]\u001b[0m Epoch 67 (global_step 14656) finished, time:5.06 seconds.\n",
      "\u001b[32m[1019 15:16:06 @saver.py:79]\u001b[0m Model saved to ../output/Chicago/DATGAN_wass01/model\\model-14656.\n",
      "\u001b[32m[1019 15:16:06 @monitor.py:467]\u001b[0m GAN_loss/discrim/discr_loss: -2829.3\n",
      "\u001b[32m[1019 15:16:06 @monitor.py:467]\u001b[0m GAN_loss/discrim/gp_loss: 0.15809\n",
      "\u001b[32m[1019 15:16:06 @monitor.py:467]\u001b[0m GAN_loss/discrim/wgan_d_loss: -2831\n",
      "\u001b[32m[1019 15:16:06 @monitor.py:467]\u001b[0m GAN_loss/gen/g_loss: -919.34\n",
      "\u001b[32m[1019 15:16:06 @monitor.py:467]\u001b[0m QueueInput/queue_size: 50\n",
      "\u001b[32m[1019 15:16:06 @base.py:275]\u001b[0m Start Epoch 68 ...\n"
     ]
    },
    {
     "name": "stderr",
     "output_type": "stream",
     "text": [
      "\n",
      "100%|###################################################################################|175/175[00:05<00:00,34.73it/s]"
     ]
    },
    {
     "name": "stdout",
     "output_type": "stream",
     "text": [
      "\u001b[32m[1019 15:16:11 @base.py:285]\u001b[0m Epoch 68 (global_step 14874) finished, time:5.04 seconds.\n",
      "\u001b[32m[1019 15:16:11 @saver.py:79]\u001b[0m Model saved to ../output/Chicago/DATGAN_wass01/model\\model-14874.\n",
      "\u001b[32m[1019 15:16:11 @monitor.py:467]\u001b[0m GAN_loss/discrim/discr_loss: -2834.2\n",
      "\u001b[32m[1019 15:16:11 @monitor.py:467]\u001b[0m GAN_loss/discrim/gp_loss: 0.15282\n",
      "\u001b[32m[1019 15:16:11 @monitor.py:467]\u001b[0m GAN_loss/discrim/wgan_d_loss: -2835.9\n",
      "\u001b[32m[1019 15:16:11 @monitor.py:467]\u001b[0m GAN_loss/gen/g_loss: -1688.3\n",
      "\u001b[32m[1019 15:16:11 @monitor.py:467]\u001b[0m QueueInput/queue_size: 50\n",
      "\u001b[32m[1019 15:16:11 @base.py:275]\u001b[0m Start Epoch 69 ...\n"
     ]
    },
    {
     "name": "stderr",
     "output_type": "stream",
     "text": [
      "\n",
      "100%|###################################################################################|175/175[00:05<00:00,34.54it/s]"
     ]
    },
    {
     "name": "stdout",
     "output_type": "stream",
     "text": [
      "\u001b[32m[1019 15:16:16 @base.py:285]\u001b[0m Epoch 69 (global_step 15093) finished, time:5.07 seconds.\n",
      "\u001b[32m[1019 15:16:16 @saver.py:79]\u001b[0m Model saved to ../output/Chicago/DATGAN_wass01/model\\model-15093.\n",
      "\u001b[32m[1019 15:16:16 @monitor.py:467]\u001b[0m GAN_loss/discrim/discr_loss: -2107.5\n",
      "\u001b[32m[1019 15:16:16 @monitor.py:467]\u001b[0m GAN_loss/discrim/gp_loss: 0.15122\n",
      "\u001b[32m[1019 15:16:16 @monitor.py:467]\u001b[0m GAN_loss/discrim/wgan_d_loss: -2109.1\n",
      "\u001b[32m[1019 15:16:16 @monitor.py:467]\u001b[0m GAN_loss/gen/g_loss: -1571.3\n",
      "\u001b[32m[1019 15:16:16 @monitor.py:467]\u001b[0m QueueInput/queue_size: 50\n",
      "\u001b[32m[1019 15:16:16 @base.py:275]\u001b[0m Start Epoch 70 ...\n"
     ]
    },
    {
     "name": "stderr",
     "output_type": "stream",
     "text": [
      "\n",
      "100%|###################################################################################|175/175[00:05<00:00,34.52it/s]"
     ]
    },
    {
     "name": "stdout",
     "output_type": "stream",
     "text": [
      "\u001b[32m[1019 15:16:21 @base.py:285]\u001b[0m Epoch 70 (global_step 15312) finished, time:5.07 seconds.\n",
      "\u001b[32m[1019 15:16:21 @saver.py:79]\u001b[0m Model saved to ../output/Chicago/DATGAN_wass01/model\\model-15312.\n",
      "\u001b[32m[1019 15:16:21 @monitor.py:467]\u001b[0m GAN_loss/discrim/discr_loss: -2841.1\n",
      "\u001b[32m[1019 15:16:21 @monitor.py:467]\u001b[0m GAN_loss/discrim/gp_loss: 0.15583\n",
      "\u001b[32m[1019 15:16:21 @monitor.py:467]\u001b[0m GAN_loss/discrim/wgan_d_loss: -2842.8\n",
      "\u001b[32m[1019 15:16:21 @monitor.py:467]\u001b[0m GAN_loss/gen/g_loss: -1954.5\n",
      "\u001b[32m[1019 15:16:21 @monitor.py:467]\u001b[0m QueueInput/queue_size: 50\n",
      "\u001b[32m[1019 15:16:21 @base.py:275]\u001b[0m Start Epoch 71 ...\n"
     ]
    },
    {
     "name": "stderr",
     "output_type": "stream",
     "text": [
      "\n",
      "100%|###################################################################################|175/175[00:05<00:00,34.55it/s]"
     ]
    },
    {
     "name": "stdout",
     "output_type": "stream",
     "text": [
      "\u001b[32m[1019 15:16:27 @base.py:285]\u001b[0m Epoch 71 (global_step 15531) finished, time:5.07 seconds.\n",
      "\u001b[32m[1019 15:16:27 @saver.py:79]\u001b[0m Model saved to ../output/Chicago/DATGAN_wass01/model\\model-15531.\n",
      "\u001b[32m[1019 15:16:27 @monitor.py:467]\u001b[0m GAN_loss/discrim/discr_loss: -3407.4\n",
      "\u001b[32m[1019 15:16:27 @monitor.py:467]\u001b[0m GAN_loss/discrim/gp_loss: 0.15825\n",
      "\u001b[32m[1019 15:16:27 @monitor.py:467]\u001b[0m GAN_loss/discrim/wgan_d_loss: -3409.1\n",
      "\u001b[32m[1019 15:16:27 @monitor.py:467]\u001b[0m GAN_loss/gen/g_loss: -1148\n",
      "\u001b[32m[1019 15:16:27 @monitor.py:467]\u001b[0m QueueInput/queue_size: 50\n",
      "\u001b[32m[1019 15:16:27 @base.py:275]\u001b[0m Start Epoch 72 ...\n"
     ]
    },
    {
     "name": "stderr",
     "output_type": "stream",
     "text": [
      "\n",
      "100%|###################################################################################|175/175[00:05<00:00,34.73it/s]"
     ]
    },
    {
     "name": "stdout",
     "output_type": "stream",
     "text": [
      "\u001b[32m[1019 15:16:32 @base.py:285]\u001b[0m Epoch 72 (global_step 15749) finished, time:5.04 seconds.\n",
      "\u001b[32m[1019 15:16:32 @saver.py:79]\u001b[0m Model saved to ../output/Chicago/DATGAN_wass01/model\\model-15749.\n",
      "\u001b[32m[1019 15:16:32 @monitor.py:467]\u001b[0m GAN_loss/discrim/discr_loss: -3200.8\n",
      "\u001b[32m[1019 15:16:32 @monitor.py:467]\u001b[0m GAN_loss/discrim/gp_loss: 0.15461\n",
      "\u001b[32m[1019 15:16:32 @monitor.py:467]\u001b[0m GAN_loss/discrim/wgan_d_loss: -3202.5\n",
      "\u001b[32m[1019 15:16:32 @monitor.py:467]\u001b[0m GAN_loss/gen/g_loss: -1854.2\n",
      "\u001b[32m[1019 15:16:32 @monitor.py:467]\u001b[0m QueueInput/queue_size: 50\n",
      "\u001b[32m[1019 15:16:32 @base.py:275]\u001b[0m Start Epoch 73 ...\n"
     ]
    },
    {
     "name": "stderr",
     "output_type": "stream",
     "text": [
      "\n",
      "100%|###################################################################################|175/175[00:05<00:00,34.51it/s]"
     ]
    },
    {
     "name": "stdout",
     "output_type": "stream",
     "text": [
      "\u001b[32m[1019 15:16:37 @base.py:285]\u001b[0m Epoch 73 (global_step 15968) finished, time:5.07 seconds.\n",
      "\u001b[32m[1019 15:16:37 @saver.py:79]\u001b[0m Model saved to ../output/Chicago/DATGAN_wass01/model\\model-15968.\n",
      "\u001b[32m[1019 15:16:37 @monitor.py:467]\u001b[0m GAN_loss/discrim/discr_loss: -3304.5\n",
      "\u001b[32m[1019 15:16:37 @monitor.py:467]\u001b[0m GAN_loss/discrim/gp_loss: 0.15854\n",
      "\u001b[32m[1019 15:16:37 @monitor.py:467]\u001b[0m GAN_loss/discrim/wgan_d_loss: -3306.2\n",
      "\u001b[32m[1019 15:16:37 @monitor.py:467]\u001b[0m GAN_loss/gen/g_loss: -1926.1\n",
      "\u001b[32m[1019 15:16:37 @monitor.py:467]\u001b[0m QueueInput/queue_size: 50\n",
      "\u001b[32m[1019 15:16:37 @base.py:275]\u001b[0m Start Epoch 74 ...\n"
     ]
    },
    {
     "name": "stderr",
     "output_type": "stream",
     "text": [
      "\n",
      "100%|###################################################################################|175/175[00:05<00:00,34.53it/s]"
     ]
    },
    {
     "name": "stdout",
     "output_type": "stream",
     "text": [
      "\u001b[32m[1019 15:16:42 @base.py:285]\u001b[0m Epoch 74 (global_step 16187) finished, time:5.07 seconds.\n",
      "\u001b[32m[1019 15:16:42 @saver.py:79]\u001b[0m Model saved to ../output/Chicago/DATGAN_wass01/model\\model-16187.\n",
      "\u001b[32m[1019 15:16:42 @monitor.py:467]\u001b[0m GAN_loss/discrim/discr_loss: -3035\n",
      "\u001b[32m[1019 15:16:42 @monitor.py:467]\u001b[0m GAN_loss/discrim/gp_loss: 0.16087\n",
      "\u001b[32m[1019 15:16:42 @monitor.py:467]\u001b[0m GAN_loss/discrim/wgan_d_loss: -3036.7\n",
      "\u001b[32m[1019 15:16:42 @monitor.py:467]\u001b[0m GAN_loss/gen/g_loss: -2147.8\n",
      "\u001b[32m[1019 15:16:42 @monitor.py:467]\u001b[0m QueueInput/queue_size: 50\n",
      "\u001b[32m[1019 15:16:42 @base.py:275]\u001b[0m Start Epoch 75 ...\n"
     ]
    },
    {
     "name": "stderr",
     "output_type": "stream",
     "text": [
      "\n",
      "100%|###################################################################################|175/175[00:05<00:00,34.61it/s]"
     ]
    },
    {
     "name": "stdout",
     "output_type": "stream",
     "text": [
      "\u001b[32m[1019 15:16:47 @base.py:285]\u001b[0m Epoch 75 (global_step 16406) finished, time:5.06 seconds.\n",
      "\u001b[32m[1019 15:16:47 @saver.py:79]\u001b[0m Model saved to ../output/Chicago/DATGAN_wass01/model\\model-16406.\n",
      "\u001b[32m[1019 15:16:47 @monitor.py:467]\u001b[0m GAN_loss/discrim/discr_loss: -3368.3\n",
      "\u001b[32m[1019 15:16:47 @monitor.py:467]\u001b[0m GAN_loss/discrim/gp_loss: 0.15068\n",
      "\u001b[32m[1019 15:16:47 @monitor.py:467]\u001b[0m GAN_loss/discrim/wgan_d_loss: -3369.9\n",
      "\u001b[32m[1019 15:16:47 @monitor.py:467]\u001b[0m GAN_loss/gen/g_loss: -1826.7\n",
      "\u001b[32m[1019 15:16:47 @monitor.py:467]\u001b[0m QueueInput/queue_size: 50\n",
      "\u001b[32m[1019 15:16:47 @base.py:275]\u001b[0m Start Epoch 76 ...\n"
     ]
    },
    {
     "name": "stderr",
     "output_type": "stream",
     "text": [
      "\n",
      "100%|###################################################################################|175/175[00:05<00:00,34.73it/s]"
     ]
    },
    {
     "name": "stdout",
     "output_type": "stream",
     "text": [
      "\u001b[32m[1019 15:16:52 @base.py:285]\u001b[0m Epoch 76 (global_step 16624) finished, time:5.04 seconds.\n",
      "\u001b[32m[1019 15:16:52 @saver.py:79]\u001b[0m Model saved to ../output/Chicago/DATGAN_wass01/model\\model-16624.\n",
      "\u001b[32m[1019 15:16:52 @monitor.py:467]\u001b[0m GAN_loss/discrim/discr_loss: -3311.9\n",
      "\u001b[32m[1019 15:16:52 @monitor.py:467]\u001b[0m GAN_loss/discrim/gp_loss: 0.15658\n",
      "\u001b[32m[1019 15:16:52 @monitor.py:467]\u001b[0m GAN_loss/discrim/wgan_d_loss: -3313.5\n",
      "\u001b[32m[1019 15:16:52 @monitor.py:467]\u001b[0m GAN_loss/gen/g_loss: -1918.5\n",
      "\u001b[32m[1019 15:16:52 @monitor.py:467]\u001b[0m QueueInput/queue_size: 50\n",
      "\u001b[32m[1019 15:16:52 @base.py:275]\u001b[0m Start Epoch 77 ...\n"
     ]
    },
    {
     "name": "stderr",
     "output_type": "stream",
     "text": [
      "\n",
      "100%|###################################################################################|175/175[00:05<00:00,34.56it/s]"
     ]
    },
    {
     "name": "stdout",
     "output_type": "stream",
     "text": [
      "\u001b[32m[1019 15:16:57 @base.py:285]\u001b[0m Epoch 77 (global_step 16843) finished, time:5.06 seconds.\n",
      "\u001b[32m[1019 15:16:57 @saver.py:79]\u001b[0m Model saved to ../output/Chicago/DATGAN_wass01/model\\model-16843.\n",
      "\u001b[32m[1019 15:16:57 @monitor.py:467]\u001b[0m GAN_loss/discrim/discr_loss: -3456.1\n",
      "\u001b[32m[1019 15:16:57 @monitor.py:467]\u001b[0m GAN_loss/discrim/gp_loss: 0.14729\n",
      "\u001b[32m[1019 15:16:57 @monitor.py:467]\u001b[0m GAN_loss/discrim/wgan_d_loss: -3457.7\n",
      "\u001b[32m[1019 15:16:57 @monitor.py:467]\u001b[0m GAN_loss/gen/g_loss: -2087.4\n",
      "\u001b[32m[1019 15:16:57 @monitor.py:467]\u001b[0m QueueInput/queue_size: 50\n",
      "\u001b[32m[1019 15:16:57 @base.py:275]\u001b[0m Start Epoch 78 ...\n"
     ]
    },
    {
     "name": "stderr",
     "output_type": "stream",
     "text": [
      "\n",
      "100%|###################################################################################|175/175[00:05<00:00,34.52it/s]"
     ]
    },
    {
     "name": "stdout",
     "output_type": "stream",
     "text": [
      "\u001b[32m[1019 15:17:03 @base.py:285]\u001b[0m Epoch 78 (global_step 17062) finished, time:5.07 seconds.\n",
      "\u001b[32m[1019 15:17:03 @saver.py:79]\u001b[0m Model saved to ../output/Chicago/DATGAN_wass01/model\\model-17062.\n",
      "\u001b[32m[1019 15:17:03 @monitor.py:467]\u001b[0m GAN_loss/discrim/discr_loss: -3602.6\n",
      "\u001b[32m[1019 15:17:03 @monitor.py:467]\u001b[0m GAN_loss/discrim/gp_loss: 0.15269\n",
      "\u001b[32m[1019 15:17:03 @monitor.py:467]\u001b[0m GAN_loss/discrim/wgan_d_loss: -3604.3\n",
      "\u001b[32m[1019 15:17:03 @monitor.py:467]\u001b[0m GAN_loss/gen/g_loss: -2630.2\n",
      "\u001b[32m[1019 15:17:03 @monitor.py:467]\u001b[0m QueueInput/queue_size: 50\n",
      "\u001b[32m[1019 15:17:03 @base.py:275]\u001b[0m Start Epoch 79 ...\n"
     ]
    },
    {
     "name": "stderr",
     "output_type": "stream",
     "text": [
      "\n",
      "100%|###################################################################################|175/175[00:05<00:00,34.60it/s]"
     ]
    },
    {
     "name": "stdout",
     "output_type": "stream",
     "text": [
      "\u001b[32m[1019 15:17:08 @base.py:285]\u001b[0m Epoch 79 (global_step 17281) finished, time:5.06 seconds.\n",
      "\u001b[32m[1019 15:17:08 @saver.py:79]\u001b[0m Model saved to ../output/Chicago/DATGAN_wass01/model\\model-17281.\n",
      "\u001b[32m[1019 15:17:08 @monitor.py:467]\u001b[0m GAN_loss/discrim/discr_loss: -3055.5\n",
      "\u001b[32m[1019 15:17:08 @monitor.py:467]\u001b[0m GAN_loss/discrim/gp_loss: 0.14215\n",
      "\u001b[32m[1019 15:17:08 @monitor.py:467]\u001b[0m GAN_loss/discrim/wgan_d_loss: -3057.1\n",
      "\u001b[32m[1019 15:17:08 @monitor.py:467]\u001b[0m GAN_loss/gen/g_loss: -2265.3\n",
      "\u001b[32m[1019 15:17:08 @monitor.py:467]\u001b[0m QueueInput/queue_size: 50\n",
      "\u001b[32m[1019 15:17:08 @base.py:275]\u001b[0m Start Epoch 80 ...\n"
     ]
    },
    {
     "name": "stderr",
     "output_type": "stream",
     "text": [
      "\n",
      "100%|###################################################################################|175/175[00:05<00:00,34.71it/s]"
     ]
    },
    {
     "name": "stdout",
     "output_type": "stream",
     "text": [
      "\u001b[32m[1019 15:17:13 @base.py:285]\u001b[0m Epoch 80 (global_step 17499) finished, time:5.04 seconds.\n",
      "\u001b[32m[1019 15:17:13 @saver.py:79]\u001b[0m Model saved to ../output/Chicago/DATGAN_wass01/model\\model-17499.\n",
      "\u001b[32m[1019 15:17:13 @monitor.py:467]\u001b[0m GAN_loss/discrim/discr_loss: -3097.3\n",
      "\u001b[32m[1019 15:17:13 @monitor.py:467]\u001b[0m GAN_loss/discrim/gp_loss: 0.16197\n",
      "\u001b[32m[1019 15:17:13 @monitor.py:467]\u001b[0m GAN_loss/discrim/wgan_d_loss: -3099\n",
      "\u001b[32m[1019 15:17:13 @monitor.py:467]\u001b[0m GAN_loss/gen/g_loss: -3090.5\n",
      "\u001b[32m[1019 15:17:13 @monitor.py:467]\u001b[0m QueueInput/queue_size: 50\n",
      "\u001b[32m[1019 15:17:13 @base.py:275]\u001b[0m Start Epoch 81 ...\n"
     ]
    },
    {
     "name": "stderr",
     "output_type": "stream",
     "text": [
      "\n",
      "100%|###################################################################################|175/175[00:05<00:00,34.54it/s]"
     ]
    },
    {
     "name": "stdout",
     "output_type": "stream",
     "text": [
      "\u001b[32m[1019 15:17:18 @base.py:285]\u001b[0m Epoch 81 (global_step 17718) finished, time:5.07 seconds.\n",
      "\u001b[32m[1019 15:17:18 @saver.py:79]\u001b[0m Model saved to ../output/Chicago/DATGAN_wass01/model\\model-17718.\n",
      "\u001b[32m[1019 15:17:18 @monitor.py:467]\u001b[0m GAN_loss/discrim/discr_loss: -3898.3\n",
      "\u001b[32m[1019 15:17:18 @monitor.py:467]\u001b[0m GAN_loss/discrim/gp_loss: 0.15268\n",
      "\u001b[32m[1019 15:17:18 @monitor.py:467]\u001b[0m GAN_loss/discrim/wgan_d_loss: -3900\n",
      "\u001b[32m[1019 15:17:18 @monitor.py:467]\u001b[0m GAN_loss/gen/g_loss: -2041.3\n",
      "\u001b[32m[1019 15:17:18 @monitor.py:467]\u001b[0m QueueInput/queue_size: 50\n",
      "\u001b[32m[1019 15:17:18 @base.py:275]\u001b[0m Start Epoch 82 ...\n"
     ]
    },
    {
     "name": "stderr",
     "output_type": "stream",
     "text": [
      "\n",
      "100%|###################################################################################|175/175[00:05<00:00,34.50it/s]"
     ]
    },
    {
     "name": "stdout",
     "output_type": "stream",
     "text": [
      "\u001b[32m[1019 15:17:23 @base.py:285]\u001b[0m Epoch 82 (global_step 17937) finished, time:5.07 seconds.\n",
      "\u001b[32m[1019 15:17:23 @saver.py:79]\u001b[0m Model saved to ../output/Chicago/DATGAN_wass01/model\\model-17937.\n",
      "\u001b[32m[1019 15:17:23 @monitor.py:467]\u001b[0m GAN_loss/discrim/discr_loss: -2309.8\n",
      "\u001b[32m[1019 15:17:23 @monitor.py:467]\u001b[0m GAN_loss/discrim/gp_loss: 0.15197\n",
      "\u001b[32m[1019 15:17:23 @monitor.py:467]\u001b[0m GAN_loss/discrim/wgan_d_loss: -2311.5\n",
      "\u001b[32m[1019 15:17:23 @monitor.py:467]\u001b[0m GAN_loss/gen/g_loss: -2724.4\n",
      "\u001b[32m[1019 15:17:23 @monitor.py:467]\u001b[0m QueueInput/queue_size: 50\n",
      "\u001b[32m[1019 15:17:23 @base.py:275]\u001b[0m Start Epoch 83 ...\n"
     ]
    },
    {
     "name": "stderr",
     "output_type": "stream",
     "text": [
      "\n",
      "100%|###################################################################################|175/175[00:05<00:00,34.57it/s]"
     ]
    },
    {
     "name": "stdout",
     "output_type": "stream",
     "text": [
      "\u001b[32m[1019 15:17:28 @base.py:285]\u001b[0m Epoch 83 (global_step 18156) finished, time:5.06 seconds.\n",
      "\u001b[32m[1019 15:17:28 @saver.py:79]\u001b[0m Model saved to ../output/Chicago/DATGAN_wass01/model\\model-18156.\n",
      "\u001b[32m[1019 15:17:28 @monitor.py:467]\u001b[0m GAN_loss/discrim/discr_loss: -3894.9\n",
      "\u001b[32m[1019 15:17:28 @monitor.py:467]\u001b[0m GAN_loss/discrim/gp_loss: 0.16136\n",
      "\u001b[32m[1019 15:17:28 @monitor.py:467]\u001b[0m GAN_loss/discrim/wgan_d_loss: -3896.7\n",
      "\u001b[32m[1019 15:17:28 @monitor.py:467]\u001b[0m GAN_loss/gen/g_loss: -2248.9\n",
      "\u001b[32m[1019 15:17:28 @monitor.py:467]\u001b[0m QueueInput/queue_size: 50\n",
      "\u001b[32m[1019 15:17:28 @base.py:275]\u001b[0m Start Epoch 84 ...\n"
     ]
    },
    {
     "name": "stderr",
     "output_type": "stream",
     "text": [
      "\n",
      "100%|###################################################################################|175/175[00:05<00:00,34.71it/s]"
     ]
    },
    {
     "name": "stdout",
     "output_type": "stream",
     "text": [
      "\u001b[32m[1019 15:17:33 @base.py:285]\u001b[0m Epoch 84 (global_step 18374) finished, time:5.04 seconds.\n",
      "\u001b[32m[1019 15:17:34 @saver.py:79]\u001b[0m Model saved to ../output/Chicago/DATGAN_wass01/model\\model-18374.\n",
      "\u001b[32m[1019 15:17:34 @monitor.py:467]\u001b[0m GAN_loss/discrim/discr_loss: -3620.3\n",
      "\u001b[32m[1019 15:17:34 @monitor.py:467]\u001b[0m GAN_loss/discrim/gp_loss: 0.15733\n",
      "\u001b[32m[1019 15:17:34 @monitor.py:467]\u001b[0m GAN_loss/discrim/wgan_d_loss: -3622.1\n",
      "\u001b[32m[1019 15:17:34 @monitor.py:467]\u001b[0m GAN_loss/gen/g_loss: -2253\n",
      "\u001b[32m[1019 15:17:34 @monitor.py:467]\u001b[0m QueueInput/queue_size: 50\n",
      "\u001b[32m[1019 15:17:34 @base.py:275]\u001b[0m Start Epoch 85 ...\n"
     ]
    },
    {
     "name": "stderr",
     "output_type": "stream",
     "text": [
      "\n",
      "100%|###################################################################################|175/175[00:05<00:00,34.53it/s]"
     ]
    },
    {
     "name": "stdout",
     "output_type": "stream",
     "text": [
      "\u001b[32m[1019 15:17:39 @base.py:285]\u001b[0m Epoch 85 (global_step 18593) finished, time:5.07 seconds.\n",
      "\u001b[32m[1019 15:17:39 @saver.py:79]\u001b[0m Model saved to ../output/Chicago/DATGAN_wass01/model\\model-18593.\n",
      "\u001b[32m[1019 15:17:39 @monitor.py:467]\u001b[0m GAN_loss/discrim/discr_loss: -3702.3\n",
      "\u001b[32m[1019 15:17:39 @monitor.py:467]\u001b[0m GAN_loss/discrim/gp_loss: 0.15677\n",
      "\u001b[32m[1019 15:17:39 @monitor.py:467]\u001b[0m GAN_loss/discrim/wgan_d_loss: -3704\n",
      "\u001b[32m[1019 15:17:39 @monitor.py:467]\u001b[0m GAN_loss/gen/g_loss: -2467.1\n",
      "\u001b[32m[1019 15:17:39 @monitor.py:467]\u001b[0m QueueInput/queue_size: 50\n",
      "\u001b[32m[1019 15:17:39 @base.py:275]\u001b[0m Start Epoch 86 ...\n"
     ]
    },
    {
     "name": "stderr",
     "output_type": "stream",
     "text": [
      "\n",
      "100%|###################################################################################|175/175[00:05<00:00,34.49it/s]"
     ]
    },
    {
     "name": "stdout",
     "output_type": "stream",
     "text": [
      "\u001b[32m[1019 15:17:44 @base.py:285]\u001b[0m Epoch 86 (global_step 18812) finished, time:5.07 seconds.\n",
      "\u001b[32m[1019 15:17:44 @saver.py:79]\u001b[0m Model saved to ../output/Chicago/DATGAN_wass01/model\\model-18812.\n",
      "\u001b[32m[1019 15:17:44 @monitor.py:467]\u001b[0m GAN_loss/discrim/discr_loss: -3517.1\n",
      "\u001b[32m[1019 15:17:44 @monitor.py:467]\u001b[0m GAN_loss/discrim/gp_loss: 0.16035\n",
      "\u001b[32m[1019 15:17:44 @monitor.py:467]\u001b[0m GAN_loss/discrim/wgan_d_loss: -3518.9\n",
      "\u001b[32m[1019 15:17:44 @monitor.py:467]\u001b[0m GAN_loss/gen/g_loss: -3241.8\n",
      "\u001b[32m[1019 15:17:44 @monitor.py:467]\u001b[0m QueueInput/queue_size: 50\n",
      "\u001b[32m[1019 15:17:44 @base.py:275]\u001b[0m Start Epoch 87 ...\n"
     ]
    },
    {
     "name": "stderr",
     "output_type": "stream",
     "text": [
      "\n",
      "100%|###################################################################################|175/175[00:05<00:00,34.61it/s]"
     ]
    },
    {
     "name": "stdout",
     "output_type": "stream",
     "text": [
      "\u001b[32m[1019 15:17:49 @base.py:285]\u001b[0m Epoch 87 (global_step 19031) finished, time:5.06 seconds.\n",
      "\u001b[32m[1019 15:17:49 @saver.py:79]\u001b[0m Model saved to ../output/Chicago/DATGAN_wass01/model\\model-19031.\n",
      "\u001b[32m[1019 15:17:49 @monitor.py:467]\u001b[0m GAN_loss/discrim/discr_loss: -3979.2\n",
      "\u001b[32m[1019 15:17:49 @monitor.py:467]\u001b[0m GAN_loss/discrim/gp_loss: 0.15604\n",
      "\u001b[32m[1019 15:17:49 @monitor.py:467]\u001b[0m GAN_loss/discrim/wgan_d_loss: -3980.9\n",
      "\u001b[32m[1019 15:17:49 @monitor.py:467]\u001b[0m GAN_loss/gen/g_loss: -1718.5\n",
      "\u001b[32m[1019 15:17:49 @monitor.py:467]\u001b[0m QueueInput/queue_size: 50\n",
      "\u001b[32m[1019 15:17:49 @base.py:275]\u001b[0m Start Epoch 88 ...\n"
     ]
    },
    {
     "name": "stderr",
     "output_type": "stream",
     "text": [
      "\n",
      "100%|###################################################################################|175/175[00:05<00:00,34.71it/s]"
     ]
    },
    {
     "name": "stdout",
     "output_type": "stream",
     "text": [
      "\u001b[32m[1019 15:17:54 @base.py:285]\u001b[0m Epoch 88 (global_step 19249) finished, time:5.04 seconds.\n",
      "\u001b[32m[1019 15:17:54 @saver.py:79]\u001b[0m Model saved to ../output/Chicago/DATGAN_wass01/model\\model-19249.\n",
      "\u001b[32m[1019 15:17:54 @monitor.py:467]\u001b[0m GAN_loss/discrim/discr_loss: -4342.7\n",
      "\u001b[32m[1019 15:17:54 @monitor.py:467]\u001b[0m GAN_loss/discrim/gp_loss: 0.15215\n",
      "\u001b[32m[1019 15:17:54 @monitor.py:467]\u001b[0m GAN_loss/discrim/wgan_d_loss: -4344.4\n",
      "\u001b[32m[1019 15:17:54 @monitor.py:467]\u001b[0m GAN_loss/gen/g_loss: -2344.6\n",
      "\u001b[32m[1019 15:17:54 @monitor.py:467]\u001b[0m QueueInput/queue_size: 50\n",
      "\u001b[32m[1019 15:17:54 @base.py:275]\u001b[0m Start Epoch 89 ...\n"
     ]
    },
    {
     "name": "stderr",
     "output_type": "stream",
     "text": [
      "\n",
      "100%|###################################################################################|175/175[00:05<00:00,34.55it/s]"
     ]
    },
    {
     "name": "stdout",
     "output_type": "stream",
     "text": [
      "\u001b[32m[1019 15:17:59 @base.py:285]\u001b[0m Epoch 89 (global_step 19468) finished, time:5.07 seconds.\n",
      "\u001b[32m[1019 15:17:59 @saver.py:79]\u001b[0m Model saved to ../output/Chicago/DATGAN_wass01/model\\model-19468.\n",
      "\u001b[32m[1019 15:17:59 @monitor.py:467]\u001b[0m GAN_loss/discrim/discr_loss: -4136.3\n",
      "\u001b[32m[1019 15:17:59 @monitor.py:467]\u001b[0m GAN_loss/discrim/gp_loss: 0.15316\n",
      "\u001b[32m[1019 15:17:59 @monitor.py:467]\u001b[0m GAN_loss/discrim/wgan_d_loss: -4138\n",
      "\u001b[32m[1019 15:17:59 @monitor.py:467]\u001b[0m GAN_loss/gen/g_loss: -2231.7\n",
      "\u001b[32m[1019 15:17:59 @monitor.py:467]\u001b[0m QueueInput/queue_size: 50\n",
      "\u001b[32m[1019 15:17:59 @base.py:275]\u001b[0m Start Epoch 90 ...\n"
     ]
    },
    {
     "name": "stderr",
     "output_type": "stream",
     "text": [
      "\n",
      "100%|###################################################################################|175/175[00:05<00:00,34.54it/s]"
     ]
    },
    {
     "name": "stdout",
     "output_type": "stream",
     "text": [
      "\u001b[32m[1019 15:18:04 @base.py:285]\u001b[0m Epoch 90 (global_step 19687) finished, time:5.07 seconds.\n",
      "\u001b[32m[1019 15:18:04 @saver.py:79]\u001b[0m Model saved to ../output/Chicago/DATGAN_wass01/model\\model-19687.\n",
      "\u001b[32m[1019 15:18:04 @monitor.py:467]\u001b[0m GAN_loss/discrim/discr_loss: -3579.4\n",
      "\u001b[32m[1019 15:18:04 @monitor.py:467]\u001b[0m GAN_loss/discrim/gp_loss: 0.15226\n",
      "\u001b[32m[1019 15:18:04 @monitor.py:467]\u001b[0m GAN_loss/discrim/wgan_d_loss: -3581.1\n",
      "\u001b[32m[1019 15:18:04 @monitor.py:467]\u001b[0m GAN_loss/gen/g_loss: -3120.7\n",
      "\u001b[32m[1019 15:18:04 @monitor.py:467]\u001b[0m QueueInput/queue_size: 50\n",
      "\u001b[32m[1019 15:18:04 @base.py:275]\u001b[0m Start Epoch 91 ...\n"
     ]
    },
    {
     "name": "stderr",
     "output_type": "stream",
     "text": [
      "\n",
      "100%|###################################################################################|175/175[00:05<00:00,34.59it/s]"
     ]
    },
    {
     "name": "stdout",
     "output_type": "stream",
     "text": [
      "\u001b[32m[1019 15:18:09 @base.py:285]\u001b[0m Epoch 91 (global_step 19906) finished, time:5.06 seconds.\n",
      "\u001b[32m[1019 15:18:10 @saver.py:79]\u001b[0m Model saved to ../output/Chicago/DATGAN_wass01/model\\model-19906.\n",
      "\u001b[32m[1019 15:18:10 @monitor.py:467]\u001b[0m GAN_loss/discrim/discr_loss: -4051.3\n",
      "\u001b[32m[1019 15:18:10 @monitor.py:467]\u001b[0m GAN_loss/discrim/gp_loss: 0.1499\n",
      "\u001b[32m[1019 15:18:10 @monitor.py:467]\u001b[0m GAN_loss/discrim/wgan_d_loss: -4052.9\n",
      "\u001b[32m[1019 15:18:10 @monitor.py:467]\u001b[0m GAN_loss/gen/g_loss: -2897.9\n",
      "\u001b[32m[1019 15:18:10 @monitor.py:467]\u001b[0m QueueInput/queue_size: 50\n",
      "\u001b[32m[1019 15:18:10 @base.py:275]\u001b[0m Start Epoch 92 ...\n"
     ]
    },
    {
     "name": "stderr",
     "output_type": "stream",
     "text": [
      "\n",
      "100%|###################################################################################|175/175[00:05<00:00,34.75it/s]"
     ]
    },
    {
     "name": "stdout",
     "output_type": "stream",
     "text": [
      "\u001b[32m[1019 15:18:15 @base.py:285]\u001b[0m Epoch 92 (global_step 20124) finished, time:5.04 seconds.\n",
      "\u001b[32m[1019 15:18:15 @saver.py:79]\u001b[0m Model saved to ../output/Chicago/DATGAN_wass01/model\\model-20124.\n",
      "\u001b[32m[1019 15:18:15 @monitor.py:467]\u001b[0m GAN_loss/discrim/discr_loss: -4280.2\n",
      "\u001b[32m[1019 15:18:15 @monitor.py:467]\u001b[0m GAN_loss/discrim/gp_loss: 0.15088\n",
      "\u001b[32m[1019 15:18:15 @monitor.py:467]\u001b[0m GAN_loss/discrim/wgan_d_loss: -4281.9\n",
      "\u001b[32m[1019 15:18:15 @monitor.py:467]\u001b[0m GAN_loss/gen/g_loss: -2389.2\n",
      "\u001b[32m[1019 15:18:15 @monitor.py:467]\u001b[0m QueueInput/queue_size: 50\n",
      "\u001b[32m[1019 15:18:15 @base.py:275]\u001b[0m Start Epoch 93 ...\n"
     ]
    },
    {
     "name": "stderr",
     "output_type": "stream",
     "text": [
      "\n",
      "100%|###################################################################################|175/175[00:05<00:00,34.51it/s]"
     ]
    },
    {
     "name": "stdout",
     "output_type": "stream",
     "text": [
      "\u001b[32m[1019 15:18:20 @base.py:285]\u001b[0m Epoch 93 (global_step 20343) finished, time:5.07 seconds.\n",
      "\u001b[32m[1019 15:18:20 @saver.py:79]\u001b[0m Model saved to ../output/Chicago/DATGAN_wass01/model\\model-20343.\n",
      "\u001b[32m[1019 15:18:20 @monitor.py:467]\u001b[0m GAN_loss/discrim/discr_loss: -4689.3\n",
      "\u001b[32m[1019 15:18:20 @monitor.py:467]\u001b[0m GAN_loss/discrim/gp_loss: 0.16287\n",
      "\u001b[32m[1019 15:18:20 @monitor.py:467]\u001b[0m GAN_loss/discrim/wgan_d_loss: -4691.1\n",
      "\u001b[32m[1019 15:18:20 @monitor.py:467]\u001b[0m GAN_loss/gen/g_loss: -2648.2\n",
      "\u001b[32m[1019 15:18:20 @monitor.py:467]\u001b[0m QueueInput/queue_size: 50\n",
      "\u001b[32m[1019 15:18:20 @base.py:275]\u001b[0m Start Epoch 94 ...\n"
     ]
    },
    {
     "name": "stderr",
     "output_type": "stream",
     "text": [
      "\n",
      "100%|###################################################################################|175/175[00:05<00:00,34.50it/s]"
     ]
    },
    {
     "name": "stdout",
     "output_type": "stream",
     "text": [
      "\u001b[32m[1019 15:18:25 @base.py:285]\u001b[0m Epoch 94 (global_step 20562) finished, time:5.07 seconds.\n",
      "\u001b[32m[1019 15:18:25 @saver.py:79]\u001b[0m Model saved to ../output/Chicago/DATGAN_wass01/model\\model-20562.\n",
      "\u001b[32m[1019 15:18:25 @monitor.py:467]\u001b[0m GAN_loss/discrim/discr_loss: -5483.8\n",
      "\u001b[32m[1019 15:18:25 @monitor.py:467]\u001b[0m GAN_loss/discrim/gp_loss: 0.16113\n",
      "\u001b[32m[1019 15:18:25 @monitor.py:467]\u001b[0m GAN_loss/discrim/wgan_d_loss: -5485.6\n",
      "\u001b[32m[1019 15:18:25 @monitor.py:467]\u001b[0m GAN_loss/gen/g_loss: -2228.1\n",
      "\u001b[32m[1019 15:18:25 @monitor.py:467]\u001b[0m QueueInput/queue_size: 50\n",
      "\u001b[32m[1019 15:18:25 @base.py:275]\u001b[0m Start Epoch 95 ...\n"
     ]
    },
    {
     "name": "stderr",
     "output_type": "stream",
     "text": [
      "\n",
      "100%|###################################################################################|175/175[00:05<00:00,34.58it/s]"
     ]
    },
    {
     "name": "stdout",
     "output_type": "stream",
     "text": [
      "\u001b[32m[1019 15:18:30 @base.py:285]\u001b[0m Epoch 95 (global_step 20781) finished, time:5.06 seconds.\n",
      "\u001b[32m[1019 15:18:30 @saver.py:79]\u001b[0m Model saved to ../output/Chicago/DATGAN_wass01/model\\model-20781.\n",
      "\u001b[32m[1019 15:18:30 @monitor.py:467]\u001b[0m GAN_loss/discrim/discr_loss: -5458.5\n",
      "\u001b[32m[1019 15:18:30 @monitor.py:467]\u001b[0m GAN_loss/discrim/gp_loss: 0.15637\n",
      "\u001b[32m[1019 15:18:30 @monitor.py:467]\u001b[0m GAN_loss/discrim/wgan_d_loss: -5460.3\n",
      "\u001b[32m[1019 15:18:30 @monitor.py:467]\u001b[0m GAN_loss/gen/g_loss: -2890.6\n",
      "\u001b[32m[1019 15:18:30 @monitor.py:467]\u001b[0m QueueInput/queue_size: 50\n",
      "\u001b[32m[1019 15:18:30 @base.py:275]\u001b[0m Start Epoch 96 ...\n"
     ]
    },
    {
     "name": "stderr",
     "output_type": "stream",
     "text": [
      "\n",
      "100%|###################################################################################|175/175[00:05<00:00,34.74it/s]"
     ]
    },
    {
     "name": "stdout",
     "output_type": "stream",
     "text": [
      "\u001b[32m[1019 15:18:35 @base.py:285]\u001b[0m Epoch 96 (global_step 20999) finished, time:5.04 seconds.\n",
      "\u001b[32m[1019 15:18:35 @saver.py:79]\u001b[0m Model saved to ../output/Chicago/DATGAN_wass01/model\\model-20999.\n",
      "\u001b[32m[1019 15:18:35 @monitor.py:467]\u001b[0m GAN_loss/discrim/discr_loss: -5777.7\n",
      "\u001b[32m[1019 15:18:35 @monitor.py:467]\u001b[0m GAN_loss/discrim/gp_loss: 0.15714\n",
      "\u001b[32m[1019 15:18:35 @monitor.py:467]\u001b[0m GAN_loss/discrim/wgan_d_loss: -5779.4\n",
      "\u001b[32m[1019 15:18:35 @monitor.py:467]\u001b[0m GAN_loss/gen/g_loss: -2660.6\n",
      "\u001b[32m[1019 15:18:35 @monitor.py:467]\u001b[0m QueueInput/queue_size: 50\n",
      "\u001b[32m[1019 15:18:35 @base.py:275]\u001b[0m Start Epoch 97 ...\n"
     ]
    },
    {
     "name": "stderr",
     "output_type": "stream",
     "text": [
      "\n",
      "100%|###################################################################################|175/175[00:05<00:00,34.53it/s]"
     ]
    },
    {
     "name": "stdout",
     "output_type": "stream",
     "text": [
      "\u001b[32m[1019 15:18:40 @base.py:285]\u001b[0m Epoch 97 (global_step 21218) finished, time:5.07 seconds.\n",
      "\u001b[32m[1019 15:18:40 @saver.py:79]\u001b[0m Model saved to ../output/Chicago/DATGAN_wass01/model\\model-21218.\n",
      "\u001b[32m[1019 15:18:40 @monitor.py:467]\u001b[0m GAN_loss/discrim/discr_loss: -4655.9\n",
      "\u001b[32m[1019 15:18:40 @monitor.py:467]\u001b[0m GAN_loss/discrim/gp_loss: 0.14862\n",
      "\u001b[32m[1019 15:18:40 @monitor.py:467]\u001b[0m GAN_loss/discrim/wgan_d_loss: -4657.6\n",
      "\u001b[32m[1019 15:18:40 @monitor.py:467]\u001b[0m GAN_loss/gen/g_loss: -3431.4\n",
      "\u001b[32m[1019 15:18:40 @monitor.py:467]\u001b[0m QueueInput/queue_size: 50\n",
      "\u001b[32m[1019 15:18:40 @base.py:275]\u001b[0m Start Epoch 98 ...\n"
     ]
    },
    {
     "name": "stderr",
     "output_type": "stream",
     "text": [
      "\n",
      "100%|###################################################################################|175/175[00:05<00:00,34.54it/s]"
     ]
    },
    {
     "name": "stdout",
     "output_type": "stream",
     "text": [
      "\u001b[32m[1019 15:18:46 @base.py:285]\u001b[0m Epoch 98 (global_step 21437) finished, time:5.07 seconds.\n",
      "\u001b[32m[1019 15:18:46 @saver.py:79]\u001b[0m Model saved to ../output/Chicago/DATGAN_wass01/model\\model-21437.\n",
      "\u001b[32m[1019 15:18:46 @monitor.py:467]\u001b[0m GAN_loss/discrim/discr_loss: -5247.8\n",
      "\u001b[32m[1019 15:18:46 @monitor.py:467]\u001b[0m GAN_loss/discrim/gp_loss: 0.14362\n",
      "\u001b[32m[1019 15:18:46 @monitor.py:467]\u001b[0m GAN_loss/discrim/wgan_d_loss: -5249.4\n",
      "\u001b[32m[1019 15:18:46 @monitor.py:467]\u001b[0m GAN_loss/gen/g_loss: -3140.2\n",
      "\u001b[32m[1019 15:18:46 @monitor.py:467]\u001b[0m QueueInput/queue_size: 50\n",
      "\u001b[32m[1019 15:18:46 @base.py:275]\u001b[0m Start Epoch 99 ...\n"
     ]
    },
    {
     "name": "stderr",
     "output_type": "stream",
     "text": [
      "\n",
      "100%|###################################################################################|175/175[00:05<00:00,34.58it/s]"
     ]
    },
    {
     "name": "stdout",
     "output_type": "stream",
     "text": [
      "\u001b[32m[1019 15:18:51 @base.py:285]\u001b[0m Epoch 99 (global_step 21656) finished, time:5.06 seconds.\n",
      "\u001b[32m[1019 15:18:51 @saver.py:79]\u001b[0m Model saved to ../output/Chicago/DATGAN_wass01/model\\model-21656.\n",
      "\u001b[32m[1019 15:18:51 @monitor.py:467]\u001b[0m GAN_loss/discrim/discr_loss: -4352.8\n",
      "\u001b[32m[1019 15:18:51 @monitor.py:467]\u001b[0m GAN_loss/discrim/gp_loss: 0.14689\n",
      "\u001b[32m[1019 15:18:51 @monitor.py:467]\u001b[0m GAN_loss/discrim/wgan_d_loss: -4354.5\n",
      "\u001b[32m[1019 15:18:51 @monitor.py:467]\u001b[0m GAN_loss/gen/g_loss: -3899.1\n",
      "\u001b[32m[1019 15:18:51 @monitor.py:467]\u001b[0m QueueInput/queue_size: 50\n",
      "\u001b[32m[1019 15:18:51 @base.py:275]\u001b[0m Start Epoch 100 ...\n"
     ]
    },
    {
     "name": "stderr",
     "output_type": "stream",
     "text": [
      "\n",
      "100%|###################################################################################|175/175[00:05<00:00,34.74it/s]"
     ]
    },
    {
     "name": "stdout",
     "output_type": "stream",
     "text": [
      "\u001b[32m[1019 15:18:56 @base.py:285]\u001b[0m Epoch 100 (global_step 21874) finished, time:5.04 seconds.\n",
      "\u001b[32m[1019 15:18:56 @saver.py:79]\u001b[0m Model saved to ../output/Chicago/DATGAN_wass01/model\\model-21874.\n",
      "\u001b[32m[1019 15:18:56 @monitor.py:467]\u001b[0m GAN_loss/discrim/discr_loss: -5612.6\n",
      "\u001b[32m[1019 15:18:56 @monitor.py:467]\u001b[0m GAN_loss/discrim/gp_loss: 0.16113\n",
      "\u001b[32m[1019 15:18:56 @monitor.py:467]\u001b[0m GAN_loss/discrim/wgan_d_loss: -5614.5\n",
      "\u001b[32m[1019 15:18:56 @monitor.py:467]\u001b[0m GAN_loss/gen/g_loss: -3365.7\n",
      "\u001b[32m[1019 15:18:56 @monitor.py:467]\u001b[0m QueueInput/queue_size: 50\n",
      "\u001b[32m[1019 15:18:56 @base.py:289]\u001b[0m Training has finished!\n",
      "WARNING:tensorflow:From D:\\Users\\glede\\anaconda3\\envs\\py37\\lib\\site-packages\\tensorpack\\predict\\config.py:101: The name tf.train.ChiefSessionCreator is deprecated. Please use tf.compat.v1.train.ChiefSessionCreator instead.\n",
      "\n",
      "\u001b[32m[1019 15:18:56 @graph.py:274]\u001b[0m \u001b[91mCreating cell for age (in-edges: 0)\n"
     ]
    },
    {
     "name": "stderr",
     "output_type": "stream",
     "text": [
      "\n"
     ]
    },
    {
     "name": "stdout",
     "output_type": "stream",
     "text": [
      "\u001b[32m[1019 15:18:56 @graph.py:274]\u001b[0m \u001b[91mCreating cell for gender (in-edges: 0)\n",
      "\u001b[32m[1019 15:18:56 @graph.py:274]\u001b[0m \u001b[91mCreating cell for travel_dow (in-edges: 0)\n",
      "\u001b[32m[1019 15:18:56 @graph.py:274]\u001b[0m \u001b[91mCreating cell for license (in-edges: 1)\n",
      "\u001b[32m[1019 15:18:56 @graph.py:274]\u001b[0m \u001b[91mCreating cell for education_level (in-edges: 1)\n",
      "\u001b[32m[1019 15:18:56 @graph.py:274]\u001b[0m \u001b[91mCreating cell for work_status (in-edges: 2)\n",
      "\u001b[32m[1019 15:18:56 @graph.py:274]\u001b[0m \u001b[91mCreating cell for hh_income (in-edges: 2)\n",
      "\u001b[32m[1019 15:18:56 @graph.py:274]\u001b[0m \u001b[91mCreating cell for trip_purpose (in-edges: 1)\n",
      "\u001b[32m[1019 15:18:56 @graph.py:274]\u001b[0m \u001b[91mCreating cell for hh_descr (in-edges: 2)\n",
      "\u001b[32m[1019 15:18:57 @graph.py:274]\u001b[0m \u001b[91mCreating cell for hh_size (in-edges: 3)\n",
      "\u001b[32m[1019 15:18:57 @graph.py:274]\u001b[0m \u001b[91mCreating cell for departure_time (in-edges: 1)\n",
      "\u001b[32m[1019 15:18:57 @input_source.py:178]\u001b[0m EnqueueThread QueueInput/input_queue Exited.\n",
      "\u001b[32m[1019 15:18:57 @graph.py:274]\u001b[0m \u001b[91mCreating cell for distance (in-edges: 1)\n",
      "\u001b[32m[1019 15:18:57 @graph.py:274]\u001b[0m \u001b[91mCreating cell for hh_vehicles (in-edges: 2)\n",
      "\u001b[32m[1019 15:18:57 @graph.py:274]\u001b[0m \u001b[91mCreating cell for hh_bikes (in-edges: 2)\n",
      "\u001b[32m[1019 15:18:57 @graph.py:274]\u001b[0m \u001b[91mCreating cell for choice (in-edges: 7)\n",
      "\u001b[32m[1019 15:18:57 @collection.py:146]\u001b[0m New collections created in tower : tf.GraphKeys.REGULARIZATION_LOSSES\n",
      "WARNING:tensorflow:From D:\\Users\\glede\\anaconda3\\envs\\py37\\lib\\site-packages\\tensorpack\\tfutils\\collection.py:45: The name tf.get_collection_ref is deprecated. Please use tf.compat.v1.get_collection_ref instead.\n",
      "\n",
      "WARNING:tensorflow:From D:\\Users\\glede\\anaconda3\\envs\\py37\\lib\\site-packages\\tensorpack\\tfutils\\sessinit.py:120: The name tf.train.NewCheckpointReader is deprecated. Please use tf.compat.v1.train.NewCheckpointReader instead.\n",
      "\n",
      "WARNING:tensorflow:From D:\\Users\\glede\\anaconda3\\envs\\py37\\lib\\site-packages\\tensorpack\\tfutils\\sessinit.py:127: The name tf.global_variables is deprecated. Please use tf.compat.v1.global_variables instead.\n",
      "\n",
      "\u001b[32m[1019 15:18:57 @sessinit.py:87]\u001b[0m \u001b[5m\u001b[31mWRN\u001b[0m The following variables are in the checkpoint, but not found in the graph: global_step, optimize/beta1_power, optimize/beta2_power\n",
      "WARNING:tensorflow:From D:\\Users\\glede\\anaconda3\\envs\\py37\\lib\\site-packages\\tensorflow_core\\python\\ops\\array_ops.py:1475: where (from tensorflow.python.ops.array_ops) is deprecated and will be removed in a future version.\n",
      "Instructions for updating:\n",
      "Use tf.where in 2.0, which has the same broadcast rule as np.where\n",
      "INFO:tensorflow:Graph was finalized.\n",
      "INFO:tensorflow:Running local_init_op.\n",
      "INFO:tensorflow:Done running local_init_op.\n",
      "\u001b[32m[1019 15:18:58 @sessinit.py:114]\u001b[0m Restoring checkpoint from ../output/Chicago/DATGAN_wass01/model\\model-21874 ...\n",
      "INFO:tensorflow:Restoring parameters from ../output/Chicago/DATGAN_wass01/model\\model-21874\n"
     ]
    }
   ],
   "source": [
    "test = datgan.fit(df, graph)"
   ]
  },
  {
   "cell_type": "code",
   "execution_count": 12,
   "metadata": {},
   "outputs": [
    {
     "name": "stdout",
     "output_type": "stream",
     "text": [
      "\u001b[32m[1019 15:19:06 @model.py:351]\u001b[0m Model saved successfully.\n"
     ]
    }
   ],
   "source": [
    "datgan.save('trained', force=True)"
   ]
  },
  {
   "cell_type": "code",
   "execution_count": 13,
   "metadata": {},
   "outputs": [],
   "source": [
    "beepy.beep(6)"
   ]
  }
 ],
 "metadata": {
  "kernelspec": {
   "display_name": "Python 3",
   "language": "python",
   "name": "python3"
  },
  "language_info": {
   "codemirror_mode": {
    "name": "ipython",
    "version": 3
   },
   "file_extension": ".py",
   "mimetype": "text/x-python",
   "name": "python",
   "nbconvert_exporter": "python",
   "pygments_lexer": "ipython3",
   "version": "3.7.9"
  }
 },
 "nbformat": 4,
 "nbformat_minor": 2
}
