{
 "cells": [
  {
   "cell_type": "code",
   "execution_count": 1,
   "metadata": {},
   "outputs": [],
   "source": [
    "import os\n",
    "os.chdir('../..')"
   ]
  },
  {
   "cell_type": "code",
   "execution_count": 2,
   "metadata": {},
   "outputs": [],
   "source": [
    "from platform import python_version\n",
    "print(python_version())"
   ]
  },
  {
   "cell_type": "code",
   "execution_count": 3,
   "metadata": {},
   "outputs": [
    {
     "name": "stdout",
     "output_type": "stream",
     "text": [
      "WARNING:tensorflow:From D:\\Users\\glede\\anaconda3\\envs\\py37\\lib\\site-packages\\tensorpack\\callbacks\\hooks.py:17: The name tf.train.SessionRunHook is deprecated. Please use tf.estimator.SessionRunHook instead.\n",
      "\n",
      "WARNING:tensorflow:From D:\\Users\\glede\\anaconda3\\envs\\py37\\lib\\site-packages\\tensorpack\\tfutils\\optimizer.py:18: The name tf.train.Optimizer is deprecated. Please use tf.compat.v1.train.Optimizer instead.\n",
      "\n",
      "WARNING:tensorflow:From D:\\Users\\glede\\anaconda3\\envs\\py37\\lib\\site-packages\\tensorpack\\tfutils\\sesscreate.py:20: The name tf.train.SessionCreator is deprecated. Please use tf.compat.v1.train.SessionCreator instead.\n",
      "\n"
     ]
    }
   ],
   "source": [
    "import numpy as np\n",
    "import pandas as pd\n",
    "\n",
    "from tgan.model import TGANModel\n",
    "\n",
    "# For the Python notebook\n",
    "%matplotlib inline\n",
    "%reload_ext autoreload\n",
    "%autoreload 2"
   ]
  },
  {
   "cell_type": "code",
   "execution_count": 4,
   "metadata": {},
   "outputs": [],
   "source": [
    "dataset = 'Chicago'"
   ]
  },
  {
   "cell_type": "code",
   "execution_count": 5,
   "metadata": {},
   "outputs": [],
   "source": [
    "df = pd.read_csv('../data/{}/data.csv'.format(dataset), index_col=False)"
   ]
  },
  {
   "cell_type": "code",
   "execution_count": 6,
   "metadata": {},
   "outputs": [
    {
     "data": {
      "text/plain": [
       "15"
      ]
     },
     "execution_count": 6,
     "metadata": {},
     "output_type": "execute_result"
    }
   ],
   "source": [
    "len(df.columns)"
   ]
  },
  {
   "cell_type": "code",
   "execution_count": 7,
   "metadata": {},
   "outputs": [
    {
     "data": {
      "text/html": [
       "<div>\n",
       "<style scoped>\n",
       "    .dataframe tbody tr th:only-of-type {\n",
       "        vertical-align: middle;\n",
       "    }\n",
       "\n",
       "    .dataframe tbody tr th {\n",
       "        vertical-align: top;\n",
       "    }\n",
       "\n",
       "    .dataframe thead th {\n",
       "        text-align: right;\n",
       "    }\n",
       "</style>\n",
       "<table border=\"1\" class=\"dataframe\">\n",
       "  <thead>\n",
       "    <tr style=\"text-align: right;\">\n",
       "      <th></th>\n",
       "      <th>choice</th>\n",
       "      <th>travel_dow</th>\n",
       "      <th>trip_purpose</th>\n",
       "      <th>distance</th>\n",
       "      <th>hh_vehicles</th>\n",
       "      <th>hh_size</th>\n",
       "      <th>hh_bikes</th>\n",
       "      <th>hh_descr</th>\n",
       "      <th>hh_income</th>\n",
       "      <th>gender</th>\n",
       "      <th>age</th>\n",
       "      <th>license</th>\n",
       "      <th>education_level</th>\n",
       "      <th>work_status</th>\n",
       "      <th>departure_time</th>\n",
       "    </tr>\n",
       "  </thead>\n",
       "  <tbody>\n",
       "    <tr>\n",
       "      <th>0</th>\n",
       "      <td>drive</td>\n",
       "      <td>7</td>\n",
       "      <td>HOME_OTHER</td>\n",
       "      <td>23.42579</td>\n",
       "      <td>2</td>\n",
       "      <td>2</td>\n",
       "      <td>0</td>\n",
       "      <td>2</td>\n",
       "      <td>6</td>\n",
       "      <td>1</td>\n",
       "      <td>66</td>\n",
       "      <td>1.0</td>\n",
       "      <td>6</td>\n",
       "      <td>FTE</td>\n",
       "      <td>9.333333</td>\n",
       "    </tr>\n",
       "    <tr>\n",
       "      <th>1</th>\n",
       "      <td>drive</td>\n",
       "      <td>7</td>\n",
       "      <td>OTHER</td>\n",
       "      <td>1.71259</td>\n",
       "      <td>2</td>\n",
       "      <td>2</td>\n",
       "      <td>0</td>\n",
       "      <td>2</td>\n",
       "      <td>6</td>\n",
       "      <td>1</td>\n",
       "      <td>66</td>\n",
       "      <td>1.0</td>\n",
       "      <td>6</td>\n",
       "      <td>FTE</td>\n",
       "      <td>12.083333</td>\n",
       "    </tr>\n",
       "    <tr>\n",
       "      <th>2</th>\n",
       "      <td>drive</td>\n",
       "      <td>7</td>\n",
       "      <td>HOME_OTHER</td>\n",
       "      <td>21.77887</td>\n",
       "      <td>2</td>\n",
       "      <td>2</td>\n",
       "      <td>0</td>\n",
       "      <td>2</td>\n",
       "      <td>6</td>\n",
       "      <td>1</td>\n",
       "      <td>66</td>\n",
       "      <td>1.0</td>\n",
       "      <td>6</td>\n",
       "      <td>FTE</td>\n",
       "      <td>15.500000</td>\n",
       "    </tr>\n",
       "    <tr>\n",
       "      <th>3</th>\n",
       "      <td>drive</td>\n",
       "      <td>7</td>\n",
       "      <td>SHOPPING</td>\n",
       "      <td>2.02603</td>\n",
       "      <td>2</td>\n",
       "      <td>2</td>\n",
       "      <td>0</td>\n",
       "      <td>2</td>\n",
       "      <td>6</td>\n",
       "      <td>1</td>\n",
       "      <td>66</td>\n",
       "      <td>1.0</td>\n",
       "      <td>6</td>\n",
       "      <td>FTE</td>\n",
       "      <td>17.500000</td>\n",
       "    </tr>\n",
       "    <tr>\n",
       "      <th>4</th>\n",
       "      <td>drive</td>\n",
       "      <td>7</td>\n",
       "      <td>SHOPPING</td>\n",
       "      <td>0.87691</td>\n",
       "      <td>2</td>\n",
       "      <td>2</td>\n",
       "      <td>0</td>\n",
       "      <td>2</td>\n",
       "      <td>6</td>\n",
       "      <td>1</td>\n",
       "      <td>66</td>\n",
       "      <td>1.0</td>\n",
       "      <td>6</td>\n",
       "      <td>FTE</td>\n",
       "      <td>18.250000</td>\n",
       "    </tr>\n",
       "  </tbody>\n",
       "</table>\n",
       "</div>"
      ],
      "text/plain": [
       "  choice  travel_dow trip_purpose  distance  hh_vehicles  hh_size  hh_bikes  \\\n",
       "0  drive           7   HOME_OTHER  23.42579            2        2         0   \n",
       "1  drive           7        OTHER   1.71259            2        2         0   \n",
       "2  drive           7   HOME_OTHER  21.77887            2        2         0   \n",
       "3  drive           7     SHOPPING   2.02603            2        2         0   \n",
       "4  drive           7     SHOPPING   0.87691            2        2         0   \n",
       "\n",
       "   hh_descr  hh_income  gender  age  license  education_level work_status  \\\n",
       "0         2          6       1   66      1.0                6         FTE   \n",
       "1         2          6       1   66      1.0                6         FTE   \n",
       "2         2          6       1   66      1.0                6         FTE   \n",
       "3         2          6       1   66      1.0                6         FTE   \n",
       "4         2          6       1   66      1.0                6         FTE   \n",
       "\n",
       "   departure_time  \n",
       "0        9.333333  \n",
       "1       12.083333  \n",
       "2       15.500000  \n",
       "3       17.500000  \n",
       "4       18.250000  "
      ]
     },
     "execution_count": 7,
     "metadata": {},
     "output_type": "execute_result"
    }
   ],
   "source": [
    "df.head()"
   ]
  },
  {
   "cell_type": "code",
   "execution_count": 8,
   "metadata": {},
   "outputs": [
    {
     "data": {
      "text/plain": [
       "Index(['choice', 'travel_dow', 'trip_purpose', 'distance', 'hh_vehicles',\n",
       "       'hh_size', 'hh_bikes', 'hh_descr', 'hh_income', 'gender', 'age',\n",
       "       'license', 'education_level', 'work_status', 'departure_time'],\n",
       "      dtype='object')"
      ]
     },
     "execution_count": 8,
     "metadata": {},
     "output_type": "execute_result"
    }
   ],
   "source": [
    "df.columns"
   ]
  },
  {
   "cell_type": "code",
   "execution_count": 9,
   "metadata": {},
   "outputs": [
    {
     "name": "stdout",
     "output_type": "stream",
     "text": [
      "3 - distance: 44388\n",
      "10 - age: 97\n",
      "14 - departure_time: 1267\n"
     ]
    }
   ],
   "source": [
    "for j,i in enumerate(df.columns):\n",
    "    if len(df[i].unique()) > 10:\n",
    "        print('{} - {}: {}'.format(j, i, len(df[i].unique())))"
   ]
  },
  {
   "cell_type": "code",
   "execution_count": 10,
   "metadata": {},
   "outputs": [],
   "source": [
    "if dataset is 'Chicago':\n",
    "    continuous_columns = [3, 10, 14]\n",
    "elif dataset is 'LPMC':\n",
    "    continuous_columns = [10, 11, 15, 16, 17, 18, 19, 20, 21, 23, 24, 25, 27]"
   ]
  },
  {
   "cell_type": "code",
   "execution_count": 11,
   "metadata": {},
   "outputs": [],
   "source": [
    "output_folder = '../output/' + dataset + '/TGAN/'"
   ]
  },
  {
   "cell_type": "code",
   "execution_count": 12,
   "metadata": {},
   "outputs": [],
   "source": [
    "tgan = TGANModel(continuous_columns, max_epoch=1000, steps_per_epoch=2000, batch_size=200, output=output_folder, gpu=0)"
   ]
  },
  {
   "cell_type": "code",
   "execution_count": 13,
   "metadata": {
    "scrolled": true
   },
   "outputs": [
    {
     "name": "stdout",
     "output_type": "stream",
     "text": [
      "WARNING:tensorflow:From D:\\Users\\glede\\anaconda3\\envs\\py37\\lib\\site-packages\\tensorpack\\graph_builder\\model_desc.py:29: The name tf.get_default_graph is deprecated. Please use tf.compat.v1.get_default_graph instead.\n",
      "\n",
      "WARNING:tensorflow:From D:\\Users\\glede\\anaconda3\\envs\\py37\\lib\\site-packages\\tensorpack\\graph_builder\\model_desc.py:39: The name tf.placeholder is deprecated. Please use tf.compat.v1.placeholder instead.\n",
      "\n",
      "WARNING:tensorflow:From D:\\Users\\glede\\anaconda3\\envs\\py37\\lib\\site-packages\\tensorpack\\input_source\\input_source.py:219: The name tf.FIFOQueue is deprecated. Please use tf.queue.FIFOQueue instead.\n",
      "\n",
      "\u001b[32m[0929 15:49:54 @input_source.py:222]\u001b[0m Setting up the queue 'QueueInput/input_queue' for CPU prefetching ...\n",
      "WARNING:tensorflow:From D:\\Users\\glede\\anaconda3\\envs\\py37\\lib\\site-packages\\tensorpack\\tfutils\\summary.py:237: The name tf.get_variable_scope is deprecated. Please use tf.compat.v1.get_variable_scope instead.\n",
      "\n",
      "WARNING:tensorflow:From D:\\Users\\glede\\anaconda3\\envs\\py37\\lib\\site-packages\\tensorpack\\tfutils\\summary.py:27: The name tf.variable_scope is deprecated. Please use tf.compat.v1.variable_scope instead.\n",
      "\n",
      "WARNING:tensorflow:From D:\\Users\\glede\\anaconda3\\envs\\py37\\lib\\site-packages\\tensorpack\\tfutils\\summary.py:254: The name tf.get_variable is deprecated. Please use tf.compat.v1.get_variable instead.\n",
      "\n",
      "WARNING:tensorflow:From D:\\Users\\glede\\anaconda3\\envs\\py37\\lib\\site-packages\\tensorpack\\tfutils\\summary.py:264: The name tf.summary.scalar is deprecated. Please use tf.compat.v1.summary.scalar instead.\n",
      "\n",
      "WARNING:tensorflow:From D:\\Users\\glede\\anaconda3\\envs\\py37\\lib\\site-packages\\tensorpack\\tfutils\\collection.py:105: The name tf.GraphKeys is deprecated. Please use tf.compat.v1.GraphKeys instead.\n",
      "\n",
      "WARNING:tensorflow:From D:\\Users\\glede\\anaconda3\\envs\\py37\\lib\\site-packages\\tensorpack\\tfutils\\collection.py:33: The name tf.get_collection is deprecated. Please use tf.compat.v1.get_collection instead.\n",
      "\n",
      "WARNING:tensorflow:From D:\\Users\\glede\\anaconda3\\envs\\py37\\lib\\site-packages\\tgan\\model.py:455: The name tf.random_normal is deprecated. Please use tf.random.normal instead.\n",
      "\n",
      "WARNING:tensorflow:From D:\\Users\\glede\\anaconda3\\envs\\py37\\lib\\site-packages\\tgan\\model.py:458: The name tf.placeholder_with_default is deprecated. Please use tf.compat.v1.placeholder_with_default instead.\n",
      "\n",
      "WARNING:tensorflow:From D:\\Users\\glede\\anaconda3\\envs\\py37\\lib\\site-packages\\tgan\\model.py:259: LSTMCell.__init__ (from tensorflow.python.ops.rnn_cell_impl) is deprecated and will be removed in a future version.\n",
      "Instructions for updating:\n",
      "This class is equivalent as tf.keras.layers.LSTMCell, and will be replaced by that in Tensorflow 2.0.\n",
      "WARNING:tensorflow:From D:\\Users\\glede\\anaconda3\\envs\\py37\\lib\\site-packages\\tensorflow_core\\python\\ops\\rnn_cell_impl.py:958: Layer.add_variable (from tensorflow.python.keras.engine.base_layer) is deprecated and will be removed in a future version.\n",
      "Instructions for updating:\n",
      "Please use `layer.add_weight` method instead.\n",
      "WARNING:tensorflow:From D:\\Users\\glede\\anaconda3\\envs\\py37\\lib\\site-packages\\tensorflow_core\\python\\ops\\rnn_cell_impl.py:962: calling Zeros.__init__ (from tensorflow.python.ops.init_ops) with dtype is deprecated and will be removed in a future version.\n",
      "Instructions for updating:\n",
      "Call initializer instance with the dtype argument instead of passing it to the constructor\n",
      "\u001b[32m[0929 15:49:54 @registry.py:126]\u001b[0m gen/LSTM/00/FC input: [200, 100]\n",
      "WARNING:tensorflow:From D:\\Users\\glede\\anaconda3\\envs\\py37\\lib\\site-packages\\tensorpack\\models\\fc.py:57: The name tf.layers.Dense is deprecated. Please use tf.compat.v1.layers.Dense instead.\n",
      "\n",
      "WARNING:tensorflow:From D:\\Users\\glede\\anaconda3\\envs\\py37\\lib\\site-packages\\tensorpack\\models\\fc.py:67: Layer.apply (from tensorflow.python.keras.engine.base_layer) is deprecated and will be removed in a future version.\n",
      "Instructions for updating:\n",
      "Please use `layer.__call__` method instead.\n",
      "\u001b[32m[0929 15:49:54 @registry.py:134]\u001b[0m gen/LSTM/00/FC output: [200, 100]\n",
      "\u001b[32m[0929 15:49:54 @registry.py:126]\u001b[0m gen/LSTM/00/FC2 input: [200, 100]\n",
      "\u001b[32m[0929 15:49:54 @registry.py:134]\u001b[0m gen/LSTM/00/FC2 output: [200, 5]\n",
      "\u001b[32m[0929 15:49:54 @registry.py:126]\u001b[0m gen/LSTM/00/FC3 input: [200, 5]\n",
      "\u001b[32m[0929 15:49:54 @registry.py:134]\u001b[0m gen/LSTM/00/FC3 output: [200, 100]\n",
      "\u001b[32m[0929 15:49:54 @registry.py:126]\u001b[0m gen/LSTM/01/FC input: [200, 100]\n",
      "\u001b[32m[0929 15:49:54 @registry.py:134]\u001b[0m gen/LSTM/01/FC output: [200, 100]\n",
      "\u001b[32m[0929 15:49:54 @registry.py:126]\u001b[0m gen/LSTM/01/FC2 input: [200, 100]\n",
      "\u001b[32m[0929 15:49:54 @registry.py:134]\u001b[0m gen/LSTM/01/FC2 output: [200, 7]\n",
      "\u001b[32m[0929 15:49:54 @registry.py:126]\u001b[0m gen/LSTM/01/FC3 input: [200, 7]\n",
      "\u001b[32m[0929 15:49:54 @registry.py:134]\u001b[0m gen/LSTM/01/FC3 output: [200, 100]\n",
      "\u001b[32m[0929 15:49:54 @registry.py:126]\u001b[0m gen/LSTM/02/FC input: [200, 100]\n",
      "\u001b[32m[0929 15:49:54 @registry.py:134]\u001b[0m gen/LSTM/02/FC output: [200, 100]\n",
      "\u001b[32m[0929 15:49:54 @registry.py:126]\u001b[0m gen/LSTM/02/FC2 input: [200, 100]\n",
      "\u001b[32m[0929 15:49:54 @registry.py:134]\u001b[0m gen/LSTM/02/FC2 output: [200, 7]\n",
      "\u001b[32m[0929 15:49:54 @registry.py:126]\u001b[0m gen/LSTM/02/FC3 input: [200, 7]\n",
      "\u001b[32m[0929 15:49:54 @registry.py:134]\u001b[0m gen/LSTM/02/FC3 output: [200, 100]\n",
      "\u001b[32m[0929 15:49:54 @registry.py:126]\u001b[0m gen/LSTM/03/FC input: [200, 100]\n",
      "\u001b[32m[0929 15:49:54 @registry.py:134]\u001b[0m gen/LSTM/03/FC output: [200, 100]\n",
      "\u001b[32m[0929 15:49:54 @registry.py:126]\u001b[0m gen/LSTM/03/FC2 input: [200, 100]\n",
      "\u001b[32m[0929 15:49:54 @registry.py:134]\u001b[0m gen/LSTM/03/FC2 output: [200, 1]\n",
      "\u001b[32m[0929 15:49:54 @registry.py:126]\u001b[0m gen/LSTM/04/FC input: [200, 100]\n",
      "\u001b[32m[0929 15:49:54 @registry.py:134]\u001b[0m gen/LSTM/04/FC output: [200, 100]\n",
      "\u001b[32m[0929 15:49:54 @registry.py:126]\u001b[0m gen/LSTM/04/FC2 input: [200, 100]\n",
      "\u001b[32m[0929 15:49:54 @registry.py:134]\u001b[0m gen/LSTM/04/FC2 output: [200, 5]\n",
      "\u001b[32m[0929 15:49:54 @registry.py:126]\u001b[0m gen/LSTM/04/FC3 input: [200, 5]\n",
      "\u001b[32m[0929 15:49:54 @registry.py:134]\u001b[0m gen/LSTM/04/FC3 output: [200, 100]\n",
      "\u001b[32m[0929 15:49:54 @registry.py:126]\u001b[0m gen/LSTM/05/FC input: [200, 100]\n",
      "\u001b[32m[0929 15:49:54 @registry.py:134]\u001b[0m gen/LSTM/05/FC output: [200, 100]\n",
      "\u001b[32m[0929 15:49:54 @registry.py:126]\u001b[0m gen/LSTM/05/FC2 input: [200, 100]\n",
      "\u001b[32m[0929 15:49:54 @registry.py:134]\u001b[0m gen/LSTM/05/FC2 output: [200, 9]\n",
      "\u001b[32m[0929 15:49:54 @registry.py:126]\u001b[0m gen/LSTM/05/FC3 input: [200, 9]\n",
      "\u001b[32m[0929 15:49:54 @registry.py:134]\u001b[0m gen/LSTM/05/FC3 output: [200, 100]\n",
      "\u001b[32m[0929 15:49:54 @registry.py:126]\u001b[0m gen/LSTM/06/FC input: [200, 100]\n",
      "\u001b[32m[0929 15:49:54 @registry.py:134]\u001b[0m gen/LSTM/06/FC output: [200, 100]\n",
      "\u001b[32m[0929 15:49:54 @registry.py:126]\u001b[0m gen/LSTM/06/FC2 input: [200, 100]\n",
      "\u001b[32m[0929 15:49:54 @registry.py:134]\u001b[0m gen/LSTM/06/FC2 output: [200, 8]\n",
      "\u001b[32m[0929 15:49:54 @registry.py:126]\u001b[0m gen/LSTM/06/FC3 input: [200, 8]\n",
      "\u001b[32m[0929 15:49:54 @registry.py:134]\u001b[0m gen/LSTM/06/FC3 output: [200, 100]\n",
      "\u001b[32m[0929 15:49:54 @registry.py:126]\u001b[0m gen/LSTM/07/FC input: [200, 100]\n",
      "\u001b[32m[0929 15:49:54 @registry.py:134]\u001b[0m gen/LSTM/07/FC output: [200, 100]\n",
      "\u001b[32m[0929 15:49:54 @registry.py:126]\u001b[0m gen/LSTM/07/FC2 input: [200, 100]\n",
      "\u001b[32m[0929 15:49:54 @registry.py:134]\u001b[0m gen/LSTM/07/FC2 output: [200, 8]\n",
      "\u001b[32m[0929 15:49:54 @registry.py:126]\u001b[0m gen/LSTM/07/FC3 input: [200, 8]\n",
      "\u001b[32m[0929 15:49:54 @registry.py:134]\u001b[0m gen/LSTM/07/FC3 output: [200, 100]\n",
      "\u001b[32m[0929 15:49:54 @registry.py:126]\u001b[0m gen/LSTM/08/FC input: [200, 100]\n",
      "\u001b[32m[0929 15:49:54 @registry.py:134]\u001b[0m gen/LSTM/08/FC output: [200, 100]\n",
      "\u001b[32m[0929 15:49:54 @registry.py:126]\u001b[0m gen/LSTM/08/FC2 input: [200, 100]\n",
      "\u001b[32m[0929 15:49:54 @registry.py:134]\u001b[0m gen/LSTM/08/FC2 output: [200, 3]\n",
      "\u001b[32m[0929 15:49:54 @registry.py:126]\u001b[0m gen/LSTM/08/FC3 input: [200, 3]\n",
      "\u001b[32m[0929 15:49:54 @registry.py:134]\u001b[0m gen/LSTM/08/FC3 output: [200, 100]\n",
      "\u001b[32m[0929 15:49:54 @registry.py:126]\u001b[0m gen/LSTM/09/FC input: [200, 100]\n",
      "\u001b[32m[0929 15:49:55 @registry.py:134]\u001b[0m gen/LSTM/09/FC output: [200, 100]\n",
      "\u001b[32m[0929 15:49:55 @registry.py:126]\u001b[0m gen/LSTM/09/FC2 input: [200, 100]\n",
      "\u001b[32m[0929 15:49:55 @registry.py:134]\u001b[0m gen/LSTM/09/FC2 output: [200, 7]\n",
      "\u001b[32m[0929 15:49:55 @registry.py:126]\u001b[0m gen/LSTM/09/FC3 input: [200, 7]\n",
      "\u001b[32m[0929 15:49:55 @registry.py:134]\u001b[0m gen/LSTM/09/FC3 output: [200, 100]\n"
     ]
    },
    {
     "name": "stdout",
     "output_type": "stream",
     "text": [
      "\u001b[32m[0929 15:49:55 @registry.py:126]\u001b[0m gen/LSTM/10/FC input: [200, 100]\n",
      "\u001b[32m[0929 15:49:55 @registry.py:134]\u001b[0m gen/LSTM/10/FC output: [200, 100]\n",
      "\u001b[32m[0929 15:49:55 @registry.py:126]\u001b[0m gen/LSTM/10/FC2 input: [200, 100]\n",
      "\u001b[32m[0929 15:49:55 @registry.py:134]\u001b[0m gen/LSTM/10/FC2 output: [200, 2]\n",
      "\u001b[32m[0929 15:49:55 @registry.py:126]\u001b[0m gen/LSTM/10/FC3 input: [200, 2]\n",
      "\u001b[32m[0929 15:49:55 @registry.py:134]\u001b[0m gen/LSTM/10/FC3 output: [200, 100]\n",
      "\u001b[32m[0929 15:49:55 @registry.py:126]\u001b[0m gen/LSTM/11/FC input: [200, 100]\n",
      "\u001b[32m[0929 15:49:55 @registry.py:134]\u001b[0m gen/LSTM/11/FC output: [200, 100]\n",
      "\u001b[32m[0929 15:49:55 @registry.py:126]\u001b[0m gen/LSTM/11/FC2 input: [200, 100]\n",
      "\u001b[32m[0929 15:49:55 @registry.py:134]\u001b[0m gen/LSTM/11/FC2 output: [200, 1]\n",
      "\u001b[32m[0929 15:49:55 @registry.py:126]\u001b[0m gen/LSTM/12/FC input: [200, 100]\n",
      "\u001b[32m[0929 15:49:55 @registry.py:134]\u001b[0m gen/LSTM/12/FC output: [200, 100]\n",
      "\u001b[32m[0929 15:49:55 @registry.py:126]\u001b[0m gen/LSTM/12/FC2 input: [200, 100]\n",
      "\u001b[32m[0929 15:49:55 @registry.py:134]\u001b[0m gen/LSTM/12/FC2 output: [200, 5]\n",
      "\u001b[32m[0929 15:49:55 @registry.py:126]\u001b[0m gen/LSTM/12/FC3 input: [200, 5]\n",
      "\u001b[32m[0929 15:49:55 @registry.py:134]\u001b[0m gen/LSTM/12/FC3 output: [200, 100]\n",
      "\u001b[32m[0929 15:49:55 @registry.py:126]\u001b[0m gen/LSTM/13/FC input: [200, 100]\n",
      "\u001b[32m[0929 15:49:55 @registry.py:134]\u001b[0m gen/LSTM/13/FC output: [200, 100]\n",
      "\u001b[32m[0929 15:49:55 @registry.py:126]\u001b[0m gen/LSTM/13/FC2 input: [200, 100]\n",
      "\u001b[32m[0929 15:49:55 @registry.py:134]\u001b[0m gen/LSTM/13/FC2 output: [200, 2]\n",
      "\u001b[32m[0929 15:49:55 @registry.py:126]\u001b[0m gen/LSTM/13/FC3 input: [200, 2]\n",
      "\u001b[32m[0929 15:49:55 @registry.py:134]\u001b[0m gen/LSTM/13/FC3 output: [200, 100]\n",
      "\u001b[32m[0929 15:49:55 @registry.py:126]\u001b[0m gen/LSTM/14/FC input: [200, 100]\n",
      "\u001b[32m[0929 15:49:55 @registry.py:134]\u001b[0m gen/LSTM/14/FC output: [200, 100]\n",
      "\u001b[32m[0929 15:49:55 @registry.py:126]\u001b[0m gen/LSTM/14/FC2 input: [200, 100]\n",
      "\u001b[32m[0929 15:49:55 @registry.py:134]\u001b[0m gen/LSTM/14/FC2 output: [200, 6]\n",
      "\u001b[32m[0929 15:49:55 @registry.py:126]\u001b[0m gen/LSTM/14/FC3 input: [200, 6]\n",
      "\u001b[32m[0929 15:49:55 @registry.py:134]\u001b[0m gen/LSTM/14/FC3 output: [200, 100]\n",
      "\u001b[32m[0929 15:49:55 @registry.py:126]\u001b[0m gen/LSTM/15/FC input: [200, 100]\n",
      "\u001b[32m[0929 15:49:55 @registry.py:134]\u001b[0m gen/LSTM/15/FC output: [200, 100]\n",
      "\u001b[32m[0929 15:49:55 @registry.py:126]\u001b[0m gen/LSTM/15/FC2 input: [200, 100]\n",
      "\u001b[32m[0929 15:49:55 @registry.py:134]\u001b[0m gen/LSTM/15/FC2 output: [200, 8]\n",
      "\u001b[32m[0929 15:49:55 @registry.py:126]\u001b[0m gen/LSTM/15/FC3 input: [200, 8]\n",
      "\u001b[32m[0929 15:49:55 @registry.py:134]\u001b[0m gen/LSTM/15/FC3 output: [200, 100]\n",
      "\u001b[32m[0929 15:49:55 @registry.py:126]\u001b[0m gen/LSTM/16/FC input: [200, 100]\n",
      "\u001b[32m[0929 15:49:55 @registry.py:134]\u001b[0m gen/LSTM/16/FC output: [200, 100]\n",
      "\u001b[32m[0929 15:49:55 @registry.py:126]\u001b[0m gen/LSTM/16/FC2 input: [200, 100]\n",
      "\u001b[32m[0929 15:49:55 @registry.py:134]\u001b[0m gen/LSTM/16/FC2 output: [200, 1]\n",
      "\u001b[32m[0929 15:49:55 @registry.py:126]\u001b[0m gen/LSTM/17/FC input: [200, 100]\n",
      "\u001b[32m[0929 15:49:55 @registry.py:134]\u001b[0m gen/LSTM/17/FC output: [200, 100]\n",
      "\u001b[32m[0929 15:49:55 @registry.py:126]\u001b[0m gen/LSTM/17/FC2 input: [200, 100]\n",
      "\u001b[32m[0929 15:49:55 @registry.py:134]\u001b[0m gen/LSTM/17/FC2 output: [200, 5]\n",
      "\u001b[32m[0929 15:49:55 @registry.py:126]\u001b[0m gen/LSTM/17/FC3 input: [200, 5]\n",
      "\u001b[32m[0929 15:49:55 @registry.py:134]\u001b[0m gen/LSTM/17/FC3 output: [200, 100]\n",
      "WARNING:tensorflow:From D:\\Users\\glede\\anaconda3\\envs\\py37\\lib\\site-packages\\tgan\\model.py:494: The name tf.random_uniform is deprecated. Please use tf.random.uniform instead.\n",
      "\n",
      "WARNING:tensorflow:From D:\\Users\\glede\\anaconda3\\envs\\py37\\lib\\site-packages\\tgan\\model.py:443: The name tf.log is deprecated. Please use tf.math.log instead.\n",
      "\n",
      "\u001b[32m[0929 15:49:55 @registry.py:126]\u001b[0m discrim/dis_fc0/fc input: [200, 90]\n",
      "\u001b[32m[0929 15:49:55 @registry.py:134]\u001b[0m discrim/dis_fc0/fc output: [200, 100]\n",
      "\u001b[32m[0929 15:49:55 @registry.py:126]\u001b[0m discrim/dis_fc0/fc_diversity input: [200, 100]\n",
      "\u001b[32m[0929 15:49:55 @registry.py:134]\u001b[0m discrim/dis_fc0/fc_diversity output: [200, 100]\n",
      "WARNING:tensorflow:From D:\\Users\\glede\\anaconda3\\envs\\py37\\lib\\site-packages\\tensorpack\\models\\batch_norm.py:204: The name tf.layers.BatchNormalization is deprecated. Please use tf.compat.v1.layers.BatchNormalization instead.\n",
      "\n",
      "WARNING:tensorflow:From D:\\Users\\glede\\anaconda3\\envs\\py37\\lib\\site-packages\\tensorpack\\models\\batch_norm.py:212: The name tf.add_to_collection is deprecated. Please use tf.compat.v1.add_to_collection instead.\n",
      "\n",
      "\u001b[32m[0929 15:49:55 @registry.py:126]\u001b[0m discrim/dis_fc_top input: [200, 110]\n",
      "\u001b[32m[0929 15:49:55 @registry.py:134]\u001b[0m discrim/dis_fc_top output: [200, 1]\n",
      "WARNING:tensorflow:From D:\\Users\\glede\\anaconda3\\envs\\py37\\lib\\site-packages\\tgan\\model.py:118: The name tf.summary.histogram is deprecated. Please use tf.compat.v1.summary.histogram instead.\n",
      "\n",
      "WARNING:tensorflow:From D:\\Users\\glede\\anaconda3\\envs\\py37\\lib\\site-packages\\tensorflow_core\\python\\ops\\nn_impl.py:183: where (from tensorflow.python.ops.array_ops) is deprecated and will be removed in a future version.\n",
      "Instructions for updating:\n",
      "Use tf.where in 2.0, which has the same broadcast rule as np.where\n",
      "WARNING:tensorflow:\n",
      "The TensorFlow contrib module will not be included in TensorFlow 2.0.\n",
      "For more information, please see:\n",
      "  * https://github.com/tensorflow/community/blob/master/rfcs/20180907-contrib-sunset.md\n",
      "  * https://github.com/tensorflow/addons\n",
      "  * https://github.com/tensorflow/io (for I/O related ops)\n",
      "If you depend on functionality not listed there, please file an issue.\n",
      "\n",
      "WARNING:tensorflow:From D:\\Users\\glede\\anaconda3\\envs\\py37\\lib\\site-packages\\tgan\\model.py:551: The name tf.train.AdamOptimizer is deprecated. Please use tf.compat.v1.train.AdamOptimizer instead.\n",
      "\n",
      "\u001b[32m[0929 15:49:58 @logger.py:90]\u001b[0m Argv: D:\\Users\\glede\\anaconda3\\envs\\py37\\lib\\site-packages\\ipykernel_launcher.py -f C:\\Users\\glede\\AppData\\Roaming\\jupyter\\runtime\\kernel-2e0c7413-b01b-4313-88b7-5608b5dd51a6.json\n",
      "WARNING:tensorflow:From D:\\Users\\glede\\anaconda3\\envs\\py37\\lib\\site-packages\\tensorpack\\callbacks\\saver.py:43: The name tf.gfile.IsDirectory is deprecated. Please use tf.io.gfile.isdir instead.\n",
      "\n",
      "WARNING:tensorflow:From D:\\Users\\glede\\anaconda3\\envs\\py37\\lib\\site-packages\\tensorpack\\callbacks\\saver.py:44: The name tf.gfile.MakeDirs is deprecated. Please use tf.io.gfile.makedirs instead.\n",
      "\n",
      "WARNING:tensorflow:From D:\\Users\\glede\\anaconda3\\envs\\py37\\lib\\site-packages\\tensorpack\\tfutils\\common.py:41: The name tf.ConfigProto is deprecated. Please use tf.compat.v1.ConfigProto instead.\n",
      "\n",
      "\u001b[32m[0929 15:49:58 @model_utils.py:67]\u001b[0m \u001b[36mList of Trainable Variables: \n",
      "\u001b[0mname                              shape         #elements\n",
      "--------------------------------  ----------  -----------\n",
      "gen/LSTM/go:0                     [1, 100]            100\n",
      "gen/LSTM/lstm_cell/kernel:0       [500, 400]       200000\n",
      "gen/LSTM/lstm_cell/bias:0         [400]               400\n",
      "gen/LSTM/00/FC/W:0                [100, 100]        10000\n",
      "gen/LSTM/00/FC/b:0                [100]               100\n",
      "gen/LSTM/00/FC2/W:0               [100, 5]            500\n",
      "gen/LSTM/00/FC2/b:0               [5]                   5\n",
      "gen/LSTM/00/FC3/W:0               [5, 100]            500\n",
      "gen/LSTM/00/FC3/b:0               [100]               100\n",
      "gen/LSTM/00/attw:0                [1, 1, 1]             1\n",
      "gen/LSTM/01/FC/W:0                [100, 100]        10000\n",
      "gen/LSTM/01/FC/b:0                [100]               100\n",
      "gen/LSTM/01/FC2/W:0               [100, 7]            700\n",
      "gen/LSTM/01/FC2/b:0               [7]                   7\n",
      "gen/LSTM/01/FC3/W:0               [7, 100]            700\n",
      "gen/LSTM/01/FC3/b:0               [100]               100\n",
      "gen/LSTM/01/attw:0                [2, 1, 1]             2\n",
      "gen/LSTM/02/FC/W:0                [100, 100]        10000\n",
      "gen/LSTM/02/FC/b:0                [100]               100\n",
      "gen/LSTM/02/FC2/W:0               [100, 7]            700\n",
      "gen/LSTM/02/FC2/b:0               [7]                   7\n",
      "gen/LSTM/02/FC3/W:0               [7, 100]            700\n",
      "gen/LSTM/02/FC3/b:0               [100]               100\n",
      "gen/LSTM/02/attw:0                [3, 1, 1]             3\n",
      "gen/LSTM/03/FC/W:0                [100, 100]        10000\n",
      "gen/LSTM/03/FC/b:0                [100]               100\n",
      "gen/LSTM/03/FC2/W:0               [100, 1]            100\n",
      "gen/LSTM/03/FC2/b:0               [1]                   1\n",
      "gen/LSTM/03/attw:0                [4, 1, 1]             4\n",
      "gen/LSTM/04/FC/W:0                [100, 100]        10000\n",
      "gen/LSTM/04/FC/b:0                [100]               100\n",
      "gen/LSTM/04/FC2/W:0               [100, 5]            500\n",
      "gen/LSTM/04/FC2/b:0               [5]                   5\n",
      "gen/LSTM/04/FC3/W:0               [5, 100]            500\n",
      "gen/LSTM/04/FC3/b:0               [100]               100\n",
      "gen/LSTM/04/attw:0                [5, 1, 1]             5\n",
      "gen/LSTM/05/FC/W:0                [100, 100]        10000\n",
      "gen/LSTM/05/FC/b:0                [100]               100\n",
      "gen/LSTM/05/FC2/W:0               [100, 9]            900\n",
      "gen/LSTM/05/FC2/b:0               [9]                   9\n",
      "gen/LSTM/05/FC3/W:0               [9, 100]            900\n",
      "gen/LSTM/05/FC3/b:0               [100]               100\n",
      "gen/LSTM/05/attw:0                [6, 1, 1]             6\n",
      "gen/LSTM/06/FC/W:0                [100, 100]        10000\n",
      "gen/LSTM/06/FC/b:0                [100]               100\n",
      "gen/LSTM/06/FC2/W:0               [100, 8]            800\n",
      "gen/LSTM/06/FC2/b:0               [8]                   8\n",
      "gen/LSTM/06/FC3/W:0               [8, 100]            800\n",
      "gen/LSTM/06/FC3/b:0               [100]               100\n",
      "gen/LSTM/06/attw:0                [7, 1, 1]             7\n",
      "gen/LSTM/07/FC/W:0                [100, 100]        10000\n",
      "gen/LSTM/07/FC/b:0                [100]               100\n",
      "gen/LSTM/07/FC2/W:0               [100, 8]            800\n",
      "gen/LSTM/07/FC2/b:0               [8]                   8\n",
      "gen/LSTM/07/FC3/W:0               [8, 100]            800\n",
      "gen/LSTM/07/FC3/b:0               [100]               100\n",
      "gen/LSTM/07/attw:0                [8, 1, 1]             8\n",
      "gen/LSTM/08/FC/W:0                [100, 100]        10000\n",
      "gen/LSTM/08/FC/b:0                [100]               100\n",
      "gen/LSTM/08/FC2/W:0               [100, 3]            300\n",
      "gen/LSTM/08/FC2/b:0               [3]                   3\n",
      "gen/LSTM/08/FC3/W:0               [3, 100]            300\n",
      "gen/LSTM/08/FC3/b:0               [100]               100\n",
      "gen/LSTM/08/attw:0                [9, 1, 1]             9\n",
      "gen/LSTM/09/FC/W:0                [100, 100]        10000\n",
      "gen/LSTM/09/FC/b:0                [100]               100\n",
      "gen/LSTM/09/FC2/W:0               [100, 7]            700\n",
      "gen/LSTM/09/FC2/b:0               [7]                   7\n",
      "gen/LSTM/09/FC3/W:0               [7, 100]            700\n",
      "gen/LSTM/09/FC3/b:0               [100]               100\n",
      "gen/LSTM/09/attw:0                [10, 1, 1]           10\n",
      "gen/LSTM/10/FC/W:0                [100, 100]        10000\n",
      "gen/LSTM/10/FC/b:0                [100]               100\n",
      "gen/LSTM/10/FC2/W:0               [100, 2]            200\n",
      "gen/LSTM/10/FC2/b:0               [2]                   2\n",
      "gen/LSTM/10/FC3/W:0               [2, 100]            200\n",
      "gen/LSTM/10/FC3/b:0               [100]               100\n",
      "gen/LSTM/10/attw:0                [11, 1, 1]           11\n",
      "gen/LSTM/11/FC/W:0                [100, 100]        10000\n",
      "gen/LSTM/11/FC/b:0                [100]               100\n",
      "gen/LSTM/11/FC2/W:0               [100, 1]            100\n",
      "gen/LSTM/11/FC2/b:0               [1]                   1\n",
      "gen/LSTM/11/attw:0                [12, 1, 1]           12\n",
      "gen/LSTM/12/FC/W:0                [100, 100]        10000\n",
      "gen/LSTM/12/FC/b:0                [100]               100\n",
      "gen/LSTM/12/FC2/W:0               [100, 5]            500\n",
      "gen/LSTM/12/FC2/b:0               [5]                   5\n",
      "gen/LSTM/12/FC3/W:0               [5, 100]            500\n",
      "gen/LSTM/12/FC3/b:0               [100]               100\n",
      "gen/LSTM/12/attw:0                [13, 1, 1]           13\n",
      "gen/LSTM/13/FC/W:0                [100, 100]        10000\n",
      "gen/LSTM/13/FC/b:0                [100]               100\n",
      "gen/LSTM/13/FC2/W:0               [100, 2]            200\n",
      "gen/LSTM/13/FC2/b:0               [2]                   2\n",
      "gen/LSTM/13/FC3/W:0               [2, 100]            200\n",
      "gen/LSTM/13/FC3/b:0               [100]               100\n",
      "gen/LSTM/13/attw:0                [14, 1, 1]           14\n",
      "gen/LSTM/14/FC/W:0                [100, 100]        10000\n",
      "gen/LSTM/14/FC/b:0                [100]               100\n",
      "gen/LSTM/14/FC2/W:0               [100, 6]            600\n",
      "gen/LSTM/14/FC2/b:0               [6]                   6\n",
      "gen/LSTM/14/FC3/W:0               [6, 100]            600\n",
      "gen/LSTM/14/FC3/b:0               [100]               100\n",
      "gen/LSTM/14/attw:0                [15, 1, 1]           15\n",
      "gen/LSTM/15/FC/W:0                [100, 100]        10000\n",
      "gen/LSTM/15/FC/b:0                [100]               100\n",
      "gen/LSTM/15/FC2/W:0               [100, 8]            800\n",
      "gen/LSTM/15/FC2/b:0               [8]                   8\n",
      "gen/LSTM/15/FC3/W:0               [8, 100]            800\n",
      "gen/LSTM/15/FC3/b:0               [100]               100\n",
      "gen/LSTM/15/attw:0                [16, 1, 1]           16\n",
      "gen/LSTM/16/FC/W:0                [100, 100]        10000\n",
      "gen/LSTM/16/FC/b:0                [100]               100\n",
      "gen/LSTM/16/FC2/W:0               [100, 1]            100\n",
      "gen/LSTM/16/FC2/b:0               [1]                   1\n",
      "gen/LSTM/16/attw:0                [17, 1, 1]           17\n",
      "gen/LSTM/17/FC/W:0                [100, 100]        10000\n",
      "gen/LSTM/17/FC/b:0                [100]               100\n",
      "gen/LSTM/17/FC2/W:0               [100, 5]            500\n",
      "gen/LSTM/17/FC2/b:0               [5]                   5\n",
      "gen/LSTM/17/FC3/W:0               [5, 100]            500\n",
      "gen/LSTM/17/FC3/b:0               [100]               100\n",
      "gen/LSTM/17/attw:0                [18, 1, 1]           18\n",
      "discrim/dis_fc0/fc/W:0            [90, 100]          9000\n",
      "discrim/dis_fc0/fc/b:0            [100]               100\n",
      "discrim/dis_fc0/fc_diversity/W:0  [100, 100]        10000\n",
      "discrim/dis_fc0/fc_diversity/b:0  [100]               100\n",
      "discrim/dis_fc0/bn/beta:0         [110]               110\n",
      "discrim/dis_fc_top/W:0            [110, 1]            110\n",
      "discrim/dis_fc_top/b:0            [1]                   1\u001b[36m\n",
      "Number of trainable variables: 130\n",
      "Number of parameters (elements): 421182\n",
      "Storage space needed for all trainable variables: 1.61MB\u001b[0m\n"
     ]
    },
    {
     "name": "stdout",
     "output_type": "stream",
     "text": [
      "\u001b[32m[0929 15:49:58 @base.py:209]\u001b[0m Setup callbacks graph ...\n",
      "WARNING:tensorflow:From D:\\Users\\glede\\anaconda3\\envs\\py37\\lib\\site-packages\\tensorpack\\callbacks\\graph.py:54: The name tf.train.SessionRunArgs is deprecated. Please use tf.estimator.SessionRunArgs instead.\n",
      "\n",
      "WARNING:tensorflow:From D:\\Users\\glede\\anaconda3\\envs\\py37\\lib\\site-packages\\tensorpack\\tfutils\\common.py:75: The name tf.VariableScope is deprecated. Please use tf.compat.v1.VariableScope instead.\n",
      "\n",
      "WARNING:tensorflow:From D:\\Users\\glede\\anaconda3\\envs\\py37\\lib\\site-packages\\tensorpack\\tfutils\\common.py:77: The name tf.train.get_or_create_global_step is deprecated. Please use tf.compat.v1.train.get_or_create_global_step instead.\n",
      "\n",
      "WARNING:tensorflow:From D:\\Users\\glede\\anaconda3\\envs\\py37\\lib\\site-packages\\tensorpack\\callbacks\\steps.py:117: The name tf.assign_add is deprecated. Please use tf.compat.v1.assign_add instead.\n",
      "\n",
      "WARNING:tensorflow:From D:\\Users\\glede\\anaconda3\\envs\\py37\\lib\\site-packages\\tensorpack\\callbacks\\saver.py:55: The name tf.train.Saver is deprecated. Please use tf.compat.v1.train.Saver instead.\n",
      "\n",
      "WARNING:tensorflow:From D:\\Users\\glede\\anaconda3\\envs\\py37\\lib\\site-packages\\tensorpack\\callbacks\\saver.py:59: The name tf.train.SaverDef is deprecated. Please use tf.compat.v1.train.SaverDef instead.\n",
      "\n",
      "\u001b[32m[0929 15:49:58 @summary.py:46]\u001b[0m [MovingAverageSummary] 6 operations in collection 'MOVING_SUMMARY_OPS' will be run with session hooks.\n",
      "\u001b[32m[0929 15:49:58 @summary.py:93]\u001b[0m Summarizing collection 'summaries' of size 9.\n",
      "WARNING:tensorflow:From D:\\Users\\glede\\anaconda3\\envs\\py37\\lib\\site-packages\\tensorpack\\callbacks\\summary.py:94: The name tf.summary.merge_all is deprecated. Please use tf.compat.v1.summary.merge_all instead.\n",
      "\n",
      "\u001b[32m[0929 15:49:58 @graph.py:98]\u001b[0m Applying collection UPDATE_OPS of 4 ops.\n",
      "WARNING:tensorflow:From D:\\Users\\glede\\anaconda3\\envs\\py37\\lib\\site-packages\\tensorpack\\callbacks\\monitor.py:261: The name tf.summary.FileWriter is deprecated. Please use tf.compat.v1.summary.FileWriter instead.\n",
      "\n",
      "\u001b[32m[0929 15:49:59 @base.py:230]\u001b[0m Creating the session ...\n",
      "WARNING:tensorflow:From D:\\Users\\glede\\anaconda3\\envs\\py37\\lib\\site-packages\\tensorpack\\tfutils\\sesscreate.py:42: The name tf.Session is deprecated. Please use tf.compat.v1.Session instead.\n",
      "\n",
      "WARNING:tensorflow:From D:\\Users\\glede\\anaconda3\\envs\\py37\\lib\\site-packages\\tensorpack\\tfutils\\sesscreate.py:71: The name tf.global_variables_initializer is deprecated. Please use tf.compat.v1.global_variables_initializer instead.\n",
      "\n",
      "WARNING:tensorflow:From D:\\Users\\glede\\anaconda3\\envs\\py37\\lib\\site-packages\\tensorpack\\tfutils\\sesscreate.py:62: get_backward_walk_ops (from tensorflow.contrib.graph_editor.select) is deprecated and will be removed after 2019-06-06.\n",
      "Instructions for updating:\n",
      "Please use tensorflow.python.ops.op_selector.get_backward_walk_ops.\n",
      "WARNING:tensorflow:From D:\\Users\\glede\\anaconda3\\envs\\py37\\lib\\site-packages\\tensorpack\\tfutils\\sesscreate.py:72: The name tf.local_variables_initializer is deprecated. Please use tf.compat.v1.local_variables_initializer instead.\n",
      "\n",
      "WARNING:tensorflow:From D:\\Users\\glede\\anaconda3\\envs\\py37\\lib\\site-packages\\tensorpack\\tfutils\\sesscreate.py:73: The name tf.tables_initializer is deprecated. Please use tf.compat.v1.tables_initializer instead.\n",
      "\n",
      "WARNING:tensorflow:From D:\\Users\\glede\\anaconda3\\envs\\py37\\lib\\site-packages\\tensorpack\\train\\base.py:254: The name tf.train.MonitoredSession is deprecated. Please use tf.compat.v1.train.MonitoredSession instead.\n",
      "\n",
      "\u001b[32m[0929 15:50:01 @base.py:236]\u001b[0m Initializing the session ...\n",
      "\u001b[32m[0929 15:50:01 @base.py:243]\u001b[0m Graph Finalized.\n",
      "WARNING:tensorflow:From D:\\Users\\glede\\anaconda3\\envs\\py37\\lib\\site-packages\\tensorpack\\tfutils\\common.py:89: The name tf.train.global_step is deprecated. Please use tf.compat.v1.train.global_step instead.\n",
      "\n",
      "WARNING:tensorflow:From D:\\Users\\glede\\anaconda3\\envs\\py37\\lib\\site-packages\\tensorpack\\tfutils\\common.py:90: The name tf.get_default_session is deprecated. Please use tf.compat.v1.get_default_session instead.\n",
      "\n",
      "\u001b[32m[0929 15:50:01 @concurrency.py:38]\u001b[0m Starting EnqueueThread QueueInput/input_queue ...\n",
      "WARNING:tensorflow:From D:\\Users\\glede\\anaconda3\\envs\\py37\\lib\\site-packages\\tensorpack\\callbacks\\monitor.py:309: The name tf.gfile.Exists is deprecated. Please use tf.io.gfile.exists instead.\n",
      "\n",
      "\u001b[32m[0929 15:50:01 @base.py:275]\u001b[0m Start Epoch 1 ...\n"
     ]
    },
    {
     "name": "stderr",
     "output_type": "stream",
     "text": [
      " 99%|################################################################################1|1980/2000[00:32<00:00,64.57it/s]"
     ]
    },
    {
     "name": "stdout",
     "output_type": "stream",
     "text": [
      "WARNING:tensorflow:From D:\\Users\\glede\\anaconda3\\envs\\py37\\lib\\site-packages\\tensorpack\\callbacks\\monitor.py:148: The name tf.Summary is deprecated. Please use tf.compat.v1.Summary instead.\n",
      "\n"
     ]
    },
    {
     "name": "stderr",
     "output_type": "stream",
     "text": [
      "\r",
      "100%|#################################################################################|2000/2000[00:34<00:00,58.14it/s]"
     ]
    },
    {
     "name": "stdout",
     "output_type": "stream",
     "text": [
      "\u001b[32m[0929 15:50:36 @base.py:285]\u001b[0m Epoch 1 (global_step 2000) finished, time:34.4 seconds.\n",
      "WARNING:tensorflow:From D:\\Users\\glede\\anaconda3\\envs\\py37\\lib\\site-packages\\tensorpack\\callbacks\\saver.py:77: The name tf.train.get_global_step is deprecated. Please use tf.compat.v1.train.get_global_step instead.\n",
      "\n"
     ]
    },
    {
     "name": "stderr",
     "output_type": "stream",
     "text": [
      "\n"
     ]
    },
    {
     "name": "stdout",
     "output_type": "stream",
     "text": [
      "\u001b[32m[0929 15:50:36 @saver.py:79]\u001b[0m Model saved to ../output/Chicago/TGAN2/model\\model-2000.\n",
      "\u001b[32m[0929 15:50:36 @monitor.py:467]\u001b[0m GAN_loss/discrim/accuracy_fake: 0.94\n",
      "\u001b[32m[0929 15:50:36 @monitor.py:467]\u001b[0m GAN_loss/discrim/accuracy_real: 0.165\n",
      "\u001b[32m[0929 15:50:36 @monitor.py:467]\u001b[0m GAN_loss/discrim/loss: 0.6319\n",
      "\u001b[32m[0929 15:50:36 @monitor.py:467]\u001b[0m GAN_loss/gen/final-g-loss: 1.1236\n",
      "\u001b[32m[0929 15:50:36 @monitor.py:467]\u001b[0m GAN_loss/gen/klloss: 0.13469\n",
      "\u001b[32m[0929 15:50:36 @monitor.py:467]\u001b[0m GAN_loss/gen/loss: 0.98893\n",
      "\u001b[32m[0929 15:50:36 @monitor.py:467]\u001b[0m QueueInput/queue_size: 50\n",
      "\u001b[32m[0929 15:50:36 @base.py:275]\u001b[0m Start Epoch 2 ...\n"
     ]
    },
    {
     "name": "stderr",
     "output_type": "stream",
     "text": [
      "100%|#################################################################################|2000/2000[00:31<00:00,64.19it/s]"
     ]
    },
    {
     "name": "stdout",
     "output_type": "stream",
     "text": [
      "\u001b[32m[0929 15:51:07 @base.py:285]\u001b[0m Epoch 2 (global_step 4000) finished, time:31.2 seconds.\n",
      "\u001b[32m[0929 15:51:07 @saver.py:79]\u001b[0m Model saved to ../output/Chicago/TGAN2/model\\model-4000.\n",
      "\u001b[32m[0929 15:51:07 @monitor.py:467]\u001b[0m GAN_loss/discrim/accuracy_fake: 0.935\n",
      "\u001b[32m[0929 15:51:07 @monitor.py:467]\u001b[0m GAN_loss/discrim/accuracy_real: 0.21\n",
      "\u001b[32m[0929 15:51:07 @monitor.py:467]\u001b[0m GAN_loss/discrim/loss: 0.63961\n",
      "\u001b[32m[0929 15:51:07 @monitor.py:467]\u001b[0m GAN_loss/gen/final-g-loss: 1.0697\n",
      "\u001b[32m[0929 15:51:07 @monitor.py:467]\u001b[0m GAN_loss/gen/klloss: 0.10606\n",
      "\u001b[32m[0929 15:51:07 @monitor.py:467]\u001b[0m GAN_loss/gen/loss: 0.96365\n",
      "\u001b[32m[0929 15:51:07 @monitor.py:467]\u001b[0m QueueInput/queue_size: 50\n",
      "\u001b[32m[0929 15:51:07 @base.py:275]\u001b[0m Start Epoch 3 ...\n"
     ]
    },
    {
     "name": "stderr",
     "output_type": "stream",
     "text": [
      "\n",
      "100%|#################################################################################|2000/2000[00:31<00:00,63.94it/s]"
     ]
    },
    {
     "name": "stdout",
     "output_type": "stream",
     "text": [
      "\u001b[32m[0929 15:51:38 @base.py:285]\u001b[0m Epoch 3 (global_step 6000) finished, time:31.3 seconds.\n",
      "\u001b[32m[0929 15:51:38 @saver.py:79]\u001b[0m Model saved to ../output/Chicago/TGAN2/model\\model-6000.\n",
      "\u001b[32m[0929 15:51:38 @monitor.py:467]\u001b[0m GAN_loss/discrim/accuracy_fake: 0.875\n",
      "\u001b[32m[0929 15:51:38 @monitor.py:467]\u001b[0m GAN_loss/discrim/accuracy_real: 0.22\n",
      "\u001b[32m[0929 15:51:38 @monitor.py:467]\u001b[0m GAN_loss/discrim/loss: 0.64653\n",
      "\u001b[32m[0929 15:51:38 @monitor.py:467]\u001b[0m GAN_loss/gen/final-g-loss: 1.0125\n",
      "\u001b[32m[0929 15:51:38 @monitor.py:467]\u001b[0m GAN_loss/gen/klloss: 0.056034\n",
      "\u001b[32m[0929 15:51:38 @monitor.py:467]\u001b[0m GAN_loss/gen/loss: 0.95645\n",
      "\u001b[32m[0929 15:51:38 @monitor.py:467]\u001b[0m QueueInput/queue_size: 50\n",
      "\u001b[32m[0929 15:51:38 @base.py:275]\u001b[0m Start Epoch 4 ...\n"
     ]
    },
    {
     "name": "stderr",
     "output_type": "stream",
     "text": [
      "\n",
      "100%|#################################################################################|2000/2000[00:30<00:00,64.67it/s]"
     ]
    },
    {
     "name": "stdout",
     "output_type": "stream",
     "text": [
      "\u001b[32m[0929 15:52:09 @base.py:285]\u001b[0m Epoch 4 (global_step 8000) finished, time:30.9 seconds.\n",
      "\u001b[32m[0929 15:52:09 @saver.py:79]\u001b[0m Model saved to ../output/Chicago/TGAN2/model\\model-8000.\n",
      "\u001b[32m[0929 15:52:09 @monitor.py:467]\u001b[0m GAN_loss/discrim/accuracy_fake: 0.92\n",
      "\u001b[32m[0929 15:52:09 @monitor.py:467]\u001b[0m GAN_loss/discrim/accuracy_real: 0.225\n",
      "\u001b[32m[0929 15:52:09 @monitor.py:467]\u001b[0m GAN_loss/discrim/loss: 0.64103\n",
      "\u001b[32m[0929 15:52:09 @monitor.py:467]\u001b[0m GAN_loss/gen/final-g-loss: 1.1036\n",
      "\u001b[32m[0929 15:52:09 @monitor.py:467]\u001b[0m GAN_loss/gen/klloss: 0.11891\n",
      "\u001b[32m[0929 15:52:09 @monitor.py:467]\u001b[0m GAN_loss/gen/loss: 0.98465\n",
      "\u001b[32m[0929 15:52:09 @monitor.py:467]\u001b[0m QueueInput/queue_size: 50\n",
      "\u001b[32m[0929 15:52:09 @base.py:275]\u001b[0m Start Epoch 5 ...\n"
     ]
    },
    {
     "name": "stderr",
     "output_type": "stream",
     "text": [
      "\n",
      "100%|#################################################################################|2000/2000[00:30<00:00,64.62it/s]"
     ]
    },
    {
     "name": "stdout",
     "output_type": "stream",
     "text": [
      "\u001b[32m[0929 15:52:40 @base.py:285]\u001b[0m Epoch 5 (global_step 10000) finished, time:30.9 seconds.\n",
      "\u001b[32m[0929 15:52:40 @saver.py:79]\u001b[0m Model saved to ../output/Chicago/TGAN2/model\\model-10000.\n",
      "\u001b[32m[0929 15:52:40 @monitor.py:467]\u001b[0m GAN_loss/discrim/accuracy_fake: 0.825\n",
      "\u001b[32m[0929 15:52:40 @monitor.py:467]\u001b[0m GAN_loss/discrim/accuracy_real: 0.265\n",
      "\u001b[32m[0929 15:52:40 @monitor.py:467]\u001b[0m GAN_loss/discrim/loss: 0.63957\n",
      "\u001b[32m[0929 15:52:40 @monitor.py:467]\u001b[0m GAN_loss/gen/final-g-loss: 1.056\n",
      "\u001b[32m[0929 15:52:40 @monitor.py:467]\u001b[0m GAN_loss/gen/klloss: 0.12187\n",
      "\u001b[32m[0929 15:52:40 @monitor.py:467]\u001b[0m GAN_loss/gen/loss: 0.9341\n",
      "\u001b[32m[0929 15:52:40 @monitor.py:467]\u001b[0m QueueInput/queue_size: 50\n",
      "\u001b[32m[0929 15:52:40 @base.py:275]\u001b[0m Start Epoch 6 ...\n"
     ]
    },
    {
     "name": "stderr",
     "output_type": "stream",
     "text": [
      "\n",
      "100%|#################################################################################|2000/2000[00:30<00:00,64.73it/s]"
     ]
    },
    {
     "name": "stdout",
     "output_type": "stream",
     "text": [
      "\u001b[32m[0929 15:53:11 @base.py:285]\u001b[0m Epoch 6 (global_step 12000) finished, time:30.9 seconds.\n",
      "\u001b[32m[0929 15:53:11 @saver.py:79]\u001b[0m Model saved to ../output/Chicago/TGAN2/model\\model-12000.\n",
      "\u001b[32m[0929 15:53:11 @monitor.py:467]\u001b[0m GAN_loss/discrim/accuracy_fake: 0.855\n",
      "\u001b[32m[0929 15:53:11 @monitor.py:467]\u001b[0m GAN_loss/discrim/accuracy_real: 0.195\n",
      "\u001b[32m[0929 15:53:11 @monitor.py:467]\u001b[0m GAN_loss/discrim/loss: 0.6441\n",
      "\u001b[32m[0929 15:53:11 @monitor.py:467]\u001b[0m GAN_loss/gen/final-g-loss: 1.1055\n",
      "\u001b[32m[0929 15:53:11 @monitor.py:467]\u001b[0m GAN_loss/gen/klloss: 0.13137\n",
      "\u001b[32m[0929 15:53:11 @monitor.py:467]\u001b[0m GAN_loss/gen/loss: 0.97409\n",
      "\u001b[32m[0929 15:53:11 @monitor.py:467]\u001b[0m QueueInput/queue_size: 50\n",
      "\u001b[32m[0929 15:53:11 @base.py:275]\u001b[0m Start Epoch 7 ...\n"
     ]
    },
    {
     "name": "stderr",
     "output_type": "stream",
     "text": [
      "\n",
      "100%|#################################################################################|2000/2000[00:30<00:00,64.65it/s]"
     ]
    },
    {
     "name": "stdout",
     "output_type": "stream",
     "text": [
      "\u001b[32m[0929 15:53:42 @base.py:285]\u001b[0m Epoch 7 (global_step 14000) finished, time:30.9 seconds.\n",
      "\u001b[32m[0929 15:53:42 @saver.py:79]\u001b[0m Model saved to ../output/Chicago/TGAN2/model\\model-14000.\n",
      "\u001b[32m[0929 15:53:42 @monitor.py:467]\u001b[0m GAN_loss/discrim/accuracy_fake: 0.875\n",
      "\u001b[32m[0929 15:53:42 @monitor.py:467]\u001b[0m GAN_loss/discrim/accuracy_real: 0.24\n",
      "\u001b[32m[0929 15:53:42 @monitor.py:467]\u001b[0m GAN_loss/discrim/loss: 0.64838\n",
      "\u001b[32m[0929 15:53:42 @monitor.py:467]\u001b[0m GAN_loss/gen/final-g-loss: 1.0758\n",
      "\u001b[32m[0929 15:53:42 @monitor.py:467]\u001b[0m GAN_loss/gen/klloss: 0.12586\n",
      "\u001b[32m[0929 15:53:42 @monitor.py:467]\u001b[0m GAN_loss/gen/loss: 0.94999\n",
      "\u001b[32m[0929 15:53:42 @monitor.py:467]\u001b[0m QueueInput/queue_size: 50\n",
      "\u001b[32m[0929 15:53:42 @base.py:275]\u001b[0m Start Epoch 8 ...\n"
     ]
    },
    {
     "name": "stderr",
     "output_type": "stream",
     "text": [
      "\n",
      "100%|#################################################################################|2000/2000[00:31<00:00,64.51it/s]"
     ]
    },
    {
     "name": "stdout",
     "output_type": "stream",
     "text": [
      "\u001b[32m[0929 15:54:13 @base.py:285]\u001b[0m Epoch 8 (global_step 16000) finished, time:31 seconds.\n",
      "\u001b[32m[0929 15:54:13 @saver.py:79]\u001b[0m Model saved to ../output/Chicago/TGAN2/model\\model-16000.\n",
      "\u001b[32m[0929 15:54:13 @monitor.py:467]\u001b[0m GAN_loss/discrim/accuracy_fake: 0.85\n",
      "\u001b[32m[0929 15:54:13 @monitor.py:467]\u001b[0m GAN_loss/discrim/accuracy_real: 0.245\n",
      "\u001b[32m[0929 15:54:13 @monitor.py:467]\u001b[0m GAN_loss/discrim/loss: 0.63339\n",
      "\u001b[32m[0929 15:54:13 @monitor.py:467]\u001b[0m GAN_loss/gen/final-g-loss: 1.0633\n",
      "\u001b[32m[0929 15:54:13 @monitor.py:467]\u001b[0m GAN_loss/gen/klloss: 0.097328\n",
      "\u001b[32m[0929 15:54:13 @monitor.py:467]\u001b[0m GAN_loss/gen/loss: 0.96596\n",
      "\u001b[32m[0929 15:54:13 @monitor.py:467]\u001b[0m QueueInput/queue_size: 50\n",
      "\u001b[32m[0929 15:54:13 @base.py:275]\u001b[0m Start Epoch 9 ...\n"
     ]
    },
    {
     "name": "stderr",
     "output_type": "stream",
     "text": [
      "\n",
      "100%|#################################################################################|2000/2000[00:30<00:00,64.70it/s]"
     ]
    },
    {
     "name": "stdout",
     "output_type": "stream",
     "text": [
      "\u001b[32m[0929 15:54:44 @base.py:285]\u001b[0m Epoch 9 (global_step 18000) finished, time:30.9 seconds.\n",
      "\u001b[32m[0929 15:54:44 @saver.py:79]\u001b[0m Model saved to ../output/Chicago/TGAN2/model\\model-18000.\n",
      "\u001b[32m[0929 15:54:44 @monitor.py:467]\u001b[0m GAN_loss/discrim/accuracy_fake: 0.88\n",
      "\u001b[32m[0929 15:54:44 @monitor.py:467]\u001b[0m GAN_loss/discrim/accuracy_real: 0.285\n",
      "\u001b[32m[0929 15:54:44 @monitor.py:467]\u001b[0m GAN_loss/discrim/loss: 0.63755\n",
      "\u001b[32m[0929 15:54:44 @monitor.py:467]\u001b[0m GAN_loss/gen/final-g-loss: 1.0702\n",
      "\u001b[32m[0929 15:54:44 @monitor.py:467]\u001b[0m GAN_loss/gen/klloss: 0.092641\n",
      "\u001b[32m[0929 15:54:44 @monitor.py:467]\u001b[0m GAN_loss/gen/loss: 0.97759\n",
      "\u001b[32m[0929 15:54:44 @monitor.py:467]\u001b[0m QueueInput/queue_size: 50\n",
      "\u001b[32m[0929 15:54:44 @base.py:275]\u001b[0m Start Epoch 10 ...\n"
     ]
    },
    {
     "name": "stderr",
     "output_type": "stream",
     "text": [
      "\n",
      "100%|#################################################################################|2000/2000[00:30<00:00,64.65it/s]"
     ]
    },
    {
     "name": "stdout",
     "output_type": "stream",
     "text": [
      "\u001b[32m[0929 15:55:15 @base.py:285]\u001b[0m Epoch 10 (global_step 20000) finished, time:30.9 seconds.\n",
      "\u001b[32m[0929 15:55:15 @saver.py:79]\u001b[0m Model saved to ../output/Chicago/TGAN2/model\\model-20000.\n",
      "\u001b[32m[0929 15:55:15 @monitor.py:467]\u001b[0m GAN_loss/discrim/accuracy_fake: 0.86\n",
      "\u001b[32m[0929 15:55:15 @monitor.py:467]\u001b[0m GAN_loss/discrim/accuracy_real: 0.225\n",
      "\u001b[32m[0929 15:55:15 @monitor.py:467]\u001b[0m GAN_loss/discrim/loss: 0.64084\n",
      "\u001b[32m[0929 15:55:15 @monitor.py:467]\u001b[0m GAN_loss/gen/final-g-loss: 1.1171\n",
      "\u001b[32m[0929 15:55:15 @monitor.py:467]\u001b[0m GAN_loss/gen/klloss: 0.15368\n",
      "\u001b[32m[0929 15:55:15 @monitor.py:467]\u001b[0m GAN_loss/gen/loss: 0.96345\n",
      "\u001b[32m[0929 15:55:15 @monitor.py:467]\u001b[0m QueueInput/queue_size: 50\n",
      "\u001b[32m[0929 15:55:15 @base.py:289]\u001b[0m Training has finished!\n",
      "WARNING:tensorflow:From D:\\Users\\glede\\anaconda3\\envs\\py37\\lib\\site-packages\\tensorpack\\predict\\config.py:101: The name tf.train.ChiefSessionCreator is deprecated. Please use tf.compat.v1.train.ChiefSessionCreator instead.\n",
      "\n"
     ]
    },
    {
     "name": "stderr",
     "output_type": "stream",
     "text": [
      "\n"
     ]
    },
    {
     "name": "stdout",
     "output_type": "stream",
     "text": [
      "\u001b[32m[0929 15:55:16 @input_source.py:178]\u001b[0m EnqueueThread QueueInput/input_queue Exited.\n",
      "WARNING:tensorflow:From D:\\Users\\glede\\anaconda3\\envs\\py37\\lib\\site-packages\\tensorpack\\tfutils\\collection.py:45: The name tf.get_collection_ref is deprecated. Please use tf.compat.v1.get_collection_ref instead.\n",
      "\n",
      "\u001b[32m[0929 15:55:16 @collection.py:146]\u001b[0m New collections created in tower : tf.GraphKeys.REGULARIZATION_LOSSES\n",
      "\u001b[32m[0929 15:55:16 @collection.py:165]\u001b[0m These collections were modified but restored in : (tf.GraphKeys.SUMMARIES: 0->2)\n",
      "WARNING:tensorflow:From D:\\Users\\glede\\anaconda3\\envs\\py37\\lib\\site-packages\\tensorpack\\tfutils\\sessinit.py:120: The name tf.train.NewCheckpointReader is deprecated. Please use tf.compat.v1.train.NewCheckpointReader instead.\n",
      "\n",
      "WARNING:tensorflow:From D:\\Users\\glede\\anaconda3\\envs\\py37\\lib\\site-packages\\tensorpack\\tfutils\\sessinit.py:127: The name tf.global_variables is deprecated. Please use tf.compat.v1.global_variables instead.\n",
      "\n",
      "\u001b[32m[0929 15:55:16 @sessinit.py:87]\u001b[0m \u001b[5m\u001b[31mWRN\u001b[0m The following variables are in the checkpoint, but not found in the graph: global_step, optimize/beta1_power, optimize/beta2_power\n",
      "INFO:tensorflow:Graph was finalized.\n",
      "INFO:tensorflow:Running local_init_op.\n",
      "INFO:tensorflow:Done running local_init_op.\n",
      "\u001b[32m[0929 15:55:17 @sessinit.py:114]\u001b[0m Restoring checkpoint from ../output/Chicago/TGAN2/model\\model-20000 ...\n",
      "INFO:tensorflow:Restoring parameters from ../output/Chicago/TGAN2/model\\model-20000\n"
     ]
    }
   ],
   "source": [
    "tgan.fit(df)"
   ]
  },
  {
   "cell_type": "code",
   "execution_count": 14,
   "metadata": {},
   "outputs": [
    {
     "name": "stdout",
     "output_type": "stream",
     "text": [
      "\u001b[32m[0929 15:55:19 @model.py:813]\u001b[0m Model saved successfully.\n"
     ]
    }
   ],
   "source": [
    "tgan.save(output_folder + 'trained', force=True)"
   ]
  },
  {
   "cell_type": "code",
   "execution_count": null,
   "metadata": {},
   "outputs": [],
   "source": []
  }
 ],
 "metadata": {
  "kernelspec": {
   "display_name": "Python 3",
   "language": "python",
   "name": "python3"
  },
  "language_info": {
   "codemirror_mode": {
    "name": "ipython",
    "version": 3
   },
   "file_extension": ".py",
   "mimetype": "text/x-python",
   "name": "python",
   "nbconvert_exporter": "python",
   "pygments_lexer": "ipython3",
   "version": "3.7.9"
  }
 },
 "nbformat": 4,
 "nbformat_minor": 2
}
