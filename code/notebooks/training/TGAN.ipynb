{
 "cells": [
  {
   "cell_type": "code",
   "execution_count": 1,
   "metadata": {},
   "outputs": [],
   "source": [
    "import os\n",
    "os.chdir('../..')"
   ]
  },
  {
   "cell_type": "code",
   "execution_count": 2,
   "metadata": {},
   "outputs": [
    {
     "name": "stdout",
     "output_type": "stream",
     "text": [
      "3.7.9\n"
     ]
    }
   ],
   "source": [
    "from platform import python_version\n",
    "print(python_version())"
   ]
  },
  {
   "cell_type": "code",
   "execution_count": 3,
   "metadata": {},
   "outputs": [
    {
     "name": "stdout",
     "output_type": "stream",
     "text": [
      "WARNING:tensorflow:From D:\\Users\\glede\\anaconda3\\envs\\py37\\lib\\site-packages\\tensorpack\\callbacks\\hooks.py:17: The name tf.train.SessionRunHook is deprecated. Please use tf.estimator.SessionRunHook instead.\n",
      "\n",
      "WARNING:tensorflow:From D:\\Users\\glede\\anaconda3\\envs\\py37\\lib\\site-packages\\tensorpack\\tfutils\\optimizer.py:18: The name tf.train.Optimizer is deprecated. Please use tf.compat.v1.train.Optimizer instead.\n",
      "\n",
      "WARNING:tensorflow:From D:\\Users\\glede\\anaconda3\\envs\\py37\\lib\\site-packages\\tensorpack\\tfutils\\sesscreate.py:20: The name tf.train.SessionCreator is deprecated. Please use tf.compat.v1.train.SessionCreator instead.\n",
      "\n"
     ]
    }
   ],
   "source": [
    "import numpy as np\n",
    "import pandas as pd\n",
    "\n",
    "from tgan.model import TGANModel\n",
    "\n",
    "# For the Python notebook\n",
    "%matplotlib inline\n",
    "%reload_ext autoreload\n",
    "%autoreload 2"
   ]
  },
  {
   "cell_type": "code",
   "execution_count": 4,
   "metadata": {},
   "outputs": [],
   "source": [
    "dataset = 'Chicago'"
   ]
  },
  {
   "cell_type": "code",
   "execution_count": 5,
   "metadata": {},
   "outputs": [],
   "source": [
    "df = pd.read_csv('../data/{}/data.csv'.format(dataset), index_col=False)"
   ]
  },
  {
   "cell_type": "code",
   "execution_count": 6,
   "metadata": {},
   "outputs": [
    {
     "data": {
      "text/plain": [
       "15"
      ]
     },
     "execution_count": 6,
     "metadata": {},
     "output_type": "execute_result"
    }
   ],
   "source": [
    "len(df.columns)"
   ]
  },
  {
   "cell_type": "code",
   "execution_count": 7,
   "metadata": {},
   "outputs": [
    {
     "data": {
      "text/html": [
       "<div>\n",
       "<style scoped>\n",
       "    .dataframe tbody tr th:only-of-type {\n",
       "        vertical-align: middle;\n",
       "    }\n",
       "\n",
       "    .dataframe tbody tr th {\n",
       "        vertical-align: top;\n",
       "    }\n",
       "\n",
       "    .dataframe thead th {\n",
       "        text-align: right;\n",
       "    }\n",
       "</style>\n",
       "<table border=\"1\" class=\"dataframe\">\n",
       "  <thead>\n",
       "    <tr style=\"text-align: right;\">\n",
       "      <th></th>\n",
       "      <th>choice</th>\n",
       "      <th>travel_dow</th>\n",
       "      <th>trip_purpose</th>\n",
       "      <th>distance</th>\n",
       "      <th>hh_vehicles</th>\n",
       "      <th>hh_size</th>\n",
       "      <th>hh_bikes</th>\n",
       "      <th>hh_descr</th>\n",
       "      <th>hh_income</th>\n",
       "      <th>gender</th>\n",
       "      <th>age</th>\n",
       "      <th>license</th>\n",
       "      <th>education_level</th>\n",
       "      <th>work_status</th>\n",
       "      <th>departure_time</th>\n",
       "    </tr>\n",
       "  </thead>\n",
       "  <tbody>\n",
       "    <tr>\n",
       "      <th>0</th>\n",
       "      <td>drive</td>\n",
       "      <td>7</td>\n",
       "      <td>HOME_OTHER</td>\n",
       "      <td>23.42579</td>\n",
       "      <td>2</td>\n",
       "      <td>2</td>\n",
       "      <td>0</td>\n",
       "      <td>2</td>\n",
       "      <td>6</td>\n",
       "      <td>1</td>\n",
       "      <td>66</td>\n",
       "      <td>1.0</td>\n",
       "      <td>6</td>\n",
       "      <td>FTE</td>\n",
       "      <td>9.333333</td>\n",
       "    </tr>\n",
       "    <tr>\n",
       "      <th>1</th>\n",
       "      <td>drive</td>\n",
       "      <td>7</td>\n",
       "      <td>OTHER</td>\n",
       "      <td>1.71259</td>\n",
       "      <td>2</td>\n",
       "      <td>2</td>\n",
       "      <td>0</td>\n",
       "      <td>2</td>\n",
       "      <td>6</td>\n",
       "      <td>1</td>\n",
       "      <td>66</td>\n",
       "      <td>1.0</td>\n",
       "      <td>6</td>\n",
       "      <td>FTE</td>\n",
       "      <td>12.083333</td>\n",
       "    </tr>\n",
       "    <tr>\n",
       "      <th>2</th>\n",
       "      <td>drive</td>\n",
       "      <td>7</td>\n",
       "      <td>HOME_OTHER</td>\n",
       "      <td>21.77887</td>\n",
       "      <td>2</td>\n",
       "      <td>2</td>\n",
       "      <td>0</td>\n",
       "      <td>2</td>\n",
       "      <td>6</td>\n",
       "      <td>1</td>\n",
       "      <td>66</td>\n",
       "      <td>1.0</td>\n",
       "      <td>6</td>\n",
       "      <td>FTE</td>\n",
       "      <td>15.500000</td>\n",
       "    </tr>\n",
       "    <tr>\n",
       "      <th>3</th>\n",
       "      <td>drive</td>\n",
       "      <td>7</td>\n",
       "      <td>SHOPPING</td>\n",
       "      <td>2.02603</td>\n",
       "      <td>2</td>\n",
       "      <td>2</td>\n",
       "      <td>0</td>\n",
       "      <td>2</td>\n",
       "      <td>6</td>\n",
       "      <td>1</td>\n",
       "      <td>66</td>\n",
       "      <td>1.0</td>\n",
       "      <td>6</td>\n",
       "      <td>FTE</td>\n",
       "      <td>17.500000</td>\n",
       "    </tr>\n",
       "    <tr>\n",
       "      <th>4</th>\n",
       "      <td>drive</td>\n",
       "      <td>7</td>\n",
       "      <td>SHOPPING</td>\n",
       "      <td>0.87691</td>\n",
       "      <td>2</td>\n",
       "      <td>2</td>\n",
       "      <td>0</td>\n",
       "      <td>2</td>\n",
       "      <td>6</td>\n",
       "      <td>1</td>\n",
       "      <td>66</td>\n",
       "      <td>1.0</td>\n",
       "      <td>6</td>\n",
       "      <td>FTE</td>\n",
       "      <td>18.250000</td>\n",
       "    </tr>\n",
       "  </tbody>\n",
       "</table>\n",
       "</div>"
      ],
      "text/plain": [
       "  choice  travel_dow trip_purpose  distance  hh_vehicles  hh_size  hh_bikes  \\\n",
       "0  drive           7   HOME_OTHER  23.42579            2        2         0   \n",
       "1  drive           7        OTHER   1.71259            2        2         0   \n",
       "2  drive           7   HOME_OTHER  21.77887            2        2         0   \n",
       "3  drive           7     SHOPPING   2.02603            2        2         0   \n",
       "4  drive           7     SHOPPING   0.87691            2        2         0   \n",
       "\n",
       "   hh_descr  hh_income  gender  age  license  education_level work_status  \\\n",
       "0         2          6       1   66      1.0                6         FTE   \n",
       "1         2          6       1   66      1.0                6         FTE   \n",
       "2         2          6       1   66      1.0                6         FTE   \n",
       "3         2          6       1   66      1.0                6         FTE   \n",
       "4         2          6       1   66      1.0                6         FTE   \n",
       "\n",
       "   departure_time  \n",
       "0        9.333333  \n",
       "1       12.083333  \n",
       "2       15.500000  \n",
       "3       17.500000  \n",
       "4       18.250000  "
      ]
     },
     "execution_count": 7,
     "metadata": {},
     "output_type": "execute_result"
    }
   ],
   "source": [
    "df.head()"
   ]
  },
  {
   "cell_type": "code",
   "execution_count": 8,
   "metadata": {},
   "outputs": [
    {
     "data": {
      "text/plain": [
       "Index(['choice', 'travel_dow', 'trip_purpose', 'distance', 'hh_vehicles',\n",
       "       'hh_size', 'hh_bikes', 'hh_descr', 'hh_income', 'gender', 'age',\n",
       "       'license', 'education_level', 'work_status', 'departure_time'],\n",
       "      dtype='object')"
      ]
     },
     "execution_count": 8,
     "metadata": {},
     "output_type": "execute_result"
    }
   ],
   "source": [
    "df.columns"
   ]
  },
  {
   "cell_type": "code",
   "execution_count": 9,
   "metadata": {},
   "outputs": [
    {
     "name": "stdout",
     "output_type": "stream",
     "text": [
      "3 - distance: 44388\n",
      "10 - age: 97\n",
      "14 - departure_time: 1267\n"
     ]
    }
   ],
   "source": [
    "for j,i in enumerate(df.columns):\n",
    "    if len(df[i].unique()) > 10:\n",
    "        print('{} - {}: {}'.format(j, i, len(df[i].unique())))"
   ]
  },
  {
   "cell_type": "code",
   "execution_count": 10,
   "metadata": {},
   "outputs": [],
   "source": [
    "if dataset is 'Chicago':\n",
    "    continuous_columns = [3, 10, 14]\n",
    "elif dataset is 'LPMC':\n",
    "    continuous_columns = [10, 11, 15, 16, 17, 18, 19, 20, 21, 23, 24, 25, 27]"
   ]
  },
  {
   "cell_type": "code",
   "execution_count": 11,
   "metadata": {},
   "outputs": [],
   "source": [
    "output_folder = '../output/' + dataset + '/TGAN/'"
   ]
  },
  {
   "cell_type": "code",
   "execution_count": 12,
   "metadata": {},
   "outputs": [],
   "source": [
    "tgan = TGANModel(continuous_columns, max_epoch=100, steps_per_epoch=175, batch_size=500, output=output_folder, gpu=0)"
   ]
  },
  {
   "cell_type": "code",
   "execution_count": 13,
   "metadata": {
    "scrolled": true
   },
   "outputs": [
    {
     "name": "stdout",
     "output_type": "stream",
     "text": [
      "WARNING:tensorflow:From D:\\Users\\glede\\anaconda3\\envs\\py37\\lib\\site-packages\\tensorpack\\graph_builder\\model_desc.py:29: The name tf.get_default_graph is deprecated. Please use tf.compat.v1.get_default_graph instead.\n",
      "\n",
      "WARNING:tensorflow:From D:\\Users\\glede\\anaconda3\\envs\\py37\\lib\\site-packages\\tensorpack\\graph_builder\\model_desc.py:39: The name tf.placeholder is deprecated. Please use tf.compat.v1.placeholder instead.\n",
      "\n",
      "WARNING:tensorflow:From D:\\Users\\glede\\anaconda3\\envs\\py37\\lib\\site-packages\\tensorpack\\input_source\\input_source.py:219: The name tf.FIFOQueue is deprecated. Please use tf.queue.FIFOQueue instead.\n",
      "\n",
      "\u001b[32m[1005 17:13:48 @input_source.py:222]\u001b[0m Setting up the queue 'QueueInput/input_queue' for CPU prefetching ...\n",
      "WARNING:tensorflow:From D:\\Users\\glede\\anaconda3\\envs\\py37\\lib\\site-packages\\tensorpack\\tfutils\\summary.py:237: The name tf.get_variable_scope is deprecated. Please use tf.compat.v1.get_variable_scope instead.\n",
      "\n",
      "WARNING:tensorflow:From D:\\Users\\glede\\anaconda3\\envs\\py37\\lib\\site-packages\\tensorpack\\tfutils\\summary.py:27: The name tf.variable_scope is deprecated. Please use tf.compat.v1.variable_scope instead.\n",
      "\n",
      "WARNING:tensorflow:From D:\\Users\\glede\\anaconda3\\envs\\py37\\lib\\site-packages\\tensorpack\\tfutils\\summary.py:254: The name tf.get_variable is deprecated. Please use tf.compat.v1.get_variable instead.\n",
      "\n",
      "WARNING:tensorflow:From D:\\Users\\glede\\anaconda3\\envs\\py37\\lib\\site-packages\\tensorpack\\tfutils\\summary.py:264: The name tf.summary.scalar is deprecated. Please use tf.compat.v1.summary.scalar instead.\n",
      "\n",
      "WARNING:tensorflow:From D:\\Users\\glede\\anaconda3\\envs\\py37\\lib\\site-packages\\tensorpack\\tfutils\\collection.py:105: The name tf.GraphKeys is deprecated. Please use tf.compat.v1.GraphKeys instead.\n",
      "\n",
      "WARNING:tensorflow:From D:\\Users\\glede\\anaconda3\\envs\\py37\\lib\\site-packages\\tensorpack\\tfutils\\collection.py:33: The name tf.get_collection is deprecated. Please use tf.compat.v1.get_collection instead.\n",
      "\n",
      "WARNING:tensorflow:From D:\\Users\\glede\\anaconda3\\envs\\py37\\lib\\site-packages\\tgan\\model.py:455: The name tf.random_normal is deprecated. Please use tf.random.normal instead.\n",
      "\n",
      "WARNING:tensorflow:From D:\\Users\\glede\\anaconda3\\envs\\py37\\lib\\site-packages\\tgan\\model.py:458: The name tf.placeholder_with_default is deprecated. Please use tf.compat.v1.placeholder_with_default instead.\n",
      "\n",
      "WARNING:tensorflow:From D:\\Users\\glede\\anaconda3\\envs\\py37\\lib\\site-packages\\tgan\\model.py:259: LSTMCell.__init__ (from tensorflow.python.ops.rnn_cell_impl) is deprecated and will be removed in a future version.\n",
      "Instructions for updating:\n",
      "This class is equivalent as tf.keras.layers.LSTMCell, and will be replaced by that in Tensorflow 2.0.\n",
      "WARNING:tensorflow:From D:\\Users\\glede\\anaconda3\\envs\\py37\\lib\\site-packages\\tensorflow_core\\python\\ops\\rnn_cell_impl.py:958: Layer.add_variable (from tensorflow.python.keras.engine.base_layer) is deprecated and will be removed in a future version.\n",
      "Instructions for updating:\n",
      "Please use `layer.add_weight` method instead.\n",
      "WARNING:tensorflow:From D:\\Users\\glede\\anaconda3\\envs\\py37\\lib\\site-packages\\tensorflow_core\\python\\ops\\rnn_cell_impl.py:962: calling Zeros.__init__ (from tensorflow.python.ops.init_ops) with dtype is deprecated and will be removed in a future version.\n",
      "Instructions for updating:\n",
      "Call initializer instance with the dtype argument instead of passing it to the constructor\n",
      "\u001b[32m[1005 17:13:48 @registry.py:126]\u001b[0m gen/LSTM/00/FC input: [500, 100]\n",
      "WARNING:tensorflow:From D:\\Users\\glede\\anaconda3\\envs\\py37\\lib\\site-packages\\tensorpack\\models\\fc.py:57: The name tf.layers.Dense is deprecated. Please use tf.compat.v1.layers.Dense instead.\n",
      "\n",
      "WARNING:tensorflow:From D:\\Users\\glede\\anaconda3\\envs\\py37\\lib\\site-packages\\tensorpack\\models\\fc.py:67: Layer.apply (from tensorflow.python.keras.engine.base_layer) is deprecated and will be removed in a future version.\n",
      "Instructions for updating:\n",
      "Please use `layer.__call__` method instead.\n",
      "\u001b[32m[1005 17:13:48 @registry.py:134]\u001b[0m gen/LSTM/00/FC output: [500, 100]\n",
      "\u001b[32m[1005 17:13:48 @registry.py:126]\u001b[0m gen/LSTM/00/FC2 input: [500, 100]\n",
      "\u001b[32m[1005 17:13:48 @registry.py:134]\u001b[0m gen/LSTM/00/FC2 output: [500, 5]\n",
      "\u001b[32m[1005 17:13:48 @registry.py:126]\u001b[0m gen/LSTM/00/FC3 input: [500, 5]\n",
      "\u001b[32m[1005 17:13:48 @registry.py:134]\u001b[0m gen/LSTM/00/FC3 output: [500, 100]\n",
      "\u001b[32m[1005 17:13:48 @registry.py:126]\u001b[0m gen/LSTM/01/FC input: [500, 100]\n",
      "\u001b[32m[1005 17:13:48 @registry.py:134]\u001b[0m gen/LSTM/01/FC output: [500, 100]\n",
      "\u001b[32m[1005 17:13:48 @registry.py:126]\u001b[0m gen/LSTM/01/FC2 input: [500, 100]\n",
      "\u001b[32m[1005 17:13:48 @registry.py:134]\u001b[0m gen/LSTM/01/FC2 output: [500, 7]\n",
      "\u001b[32m[1005 17:13:48 @registry.py:126]\u001b[0m gen/LSTM/01/FC3 input: [500, 7]\n",
      "\u001b[32m[1005 17:13:48 @registry.py:134]\u001b[0m gen/LSTM/01/FC3 output: [500, 100]\n",
      "\u001b[32m[1005 17:13:48 @registry.py:126]\u001b[0m gen/LSTM/02/FC input: [500, 100]\n",
      "\u001b[32m[1005 17:13:48 @registry.py:134]\u001b[0m gen/LSTM/02/FC output: [500, 100]\n",
      "\u001b[32m[1005 17:13:48 @registry.py:126]\u001b[0m gen/LSTM/02/FC2 input: [500, 100]\n",
      "\u001b[32m[1005 17:13:48 @registry.py:134]\u001b[0m gen/LSTM/02/FC2 output: [500, 7]\n",
      "\u001b[32m[1005 17:13:48 @registry.py:126]\u001b[0m gen/LSTM/02/FC3 input: [500, 7]\n",
      "\u001b[32m[1005 17:13:48 @registry.py:134]\u001b[0m gen/LSTM/02/FC3 output: [500, 100]\n",
      "\u001b[32m[1005 17:13:48 @registry.py:126]\u001b[0m gen/LSTM/03/FC input: [500, 100]\n",
      "\u001b[32m[1005 17:13:48 @registry.py:134]\u001b[0m gen/LSTM/03/FC output: [500, 100]\n",
      "\u001b[32m[1005 17:13:48 @registry.py:126]\u001b[0m gen/LSTM/03/FC2 input: [500, 100]\n",
      "\u001b[32m[1005 17:13:48 @registry.py:134]\u001b[0m gen/LSTM/03/FC2 output: [500, 1]\n",
      "\u001b[32m[1005 17:13:49 @registry.py:126]\u001b[0m gen/LSTM/04/FC input: [500, 100]\n",
      "\u001b[32m[1005 17:13:49 @registry.py:134]\u001b[0m gen/LSTM/04/FC output: [500, 100]\n",
      "\u001b[32m[1005 17:13:49 @registry.py:126]\u001b[0m gen/LSTM/04/FC2 input: [500, 100]\n",
      "\u001b[32m[1005 17:13:49 @registry.py:134]\u001b[0m gen/LSTM/04/FC2 output: [500, 5]\n",
      "\u001b[32m[1005 17:13:49 @registry.py:126]\u001b[0m gen/LSTM/04/FC3 input: [500, 5]\n",
      "\u001b[32m[1005 17:13:49 @registry.py:134]\u001b[0m gen/LSTM/04/FC3 output: [500, 100]\n",
      "\u001b[32m[1005 17:13:49 @registry.py:126]\u001b[0m gen/LSTM/05/FC input: [500, 100]\n",
      "\u001b[32m[1005 17:13:49 @registry.py:134]\u001b[0m gen/LSTM/05/FC output: [500, 100]\n",
      "\u001b[32m[1005 17:13:49 @registry.py:126]\u001b[0m gen/LSTM/05/FC2 input: [500, 100]\n",
      "\u001b[32m[1005 17:13:49 @registry.py:134]\u001b[0m gen/LSTM/05/FC2 output: [500, 9]\n",
      "\u001b[32m[1005 17:13:49 @registry.py:126]\u001b[0m gen/LSTM/05/FC3 input: [500, 9]\n",
      "\u001b[32m[1005 17:13:49 @registry.py:134]\u001b[0m gen/LSTM/05/FC3 output: [500, 100]\n",
      "\u001b[32m[1005 17:13:49 @registry.py:126]\u001b[0m gen/LSTM/06/FC input: [500, 100]\n",
      "\u001b[32m[1005 17:13:49 @registry.py:134]\u001b[0m gen/LSTM/06/FC output: [500, 100]\n",
      "\u001b[32m[1005 17:13:49 @registry.py:126]\u001b[0m gen/LSTM/06/FC2 input: [500, 100]\n",
      "\u001b[32m[1005 17:13:49 @registry.py:134]\u001b[0m gen/LSTM/06/FC2 output: [500, 8]\n",
      "\u001b[32m[1005 17:13:49 @registry.py:126]\u001b[0m gen/LSTM/06/FC3 input: [500, 8]\n",
      "\u001b[32m[1005 17:13:49 @registry.py:134]\u001b[0m gen/LSTM/06/FC3 output: [500, 100]\n",
      "\u001b[32m[1005 17:13:49 @registry.py:126]\u001b[0m gen/LSTM/07/FC input: [500, 100]\n",
      "\u001b[32m[1005 17:13:49 @registry.py:134]\u001b[0m gen/LSTM/07/FC output: [500, 100]\n",
      "\u001b[32m[1005 17:13:49 @registry.py:126]\u001b[0m gen/LSTM/07/FC2 input: [500, 100]\n",
      "\u001b[32m[1005 17:13:49 @registry.py:134]\u001b[0m gen/LSTM/07/FC2 output: [500, 8]\n",
      "\u001b[32m[1005 17:13:49 @registry.py:126]\u001b[0m gen/LSTM/07/FC3 input: [500, 8]\n",
      "\u001b[32m[1005 17:13:49 @registry.py:134]\u001b[0m gen/LSTM/07/FC3 output: [500, 100]\n",
      "\u001b[32m[1005 17:13:49 @registry.py:126]\u001b[0m gen/LSTM/08/FC input: [500, 100]\n",
      "\u001b[32m[1005 17:13:49 @registry.py:134]\u001b[0m gen/LSTM/08/FC output: [500, 100]\n",
      "\u001b[32m[1005 17:13:49 @registry.py:126]\u001b[0m gen/LSTM/08/FC2 input: [500, 100]\n",
      "\u001b[32m[1005 17:13:49 @registry.py:134]\u001b[0m gen/LSTM/08/FC2 output: [500, 3]\n",
      "\u001b[32m[1005 17:13:49 @registry.py:126]\u001b[0m gen/LSTM/08/FC3 input: [500, 3]\n",
      "\u001b[32m[1005 17:13:49 @registry.py:134]\u001b[0m gen/LSTM/08/FC3 output: [500, 100]\n",
      "\u001b[32m[1005 17:13:49 @registry.py:126]\u001b[0m gen/LSTM/09/FC input: [500, 100]\n",
      "\u001b[32m[1005 17:13:49 @registry.py:134]\u001b[0m gen/LSTM/09/FC output: [500, 100]\n",
      "\u001b[32m[1005 17:13:49 @registry.py:126]\u001b[0m gen/LSTM/09/FC2 input: [500, 100]\n",
      "\u001b[32m[1005 17:13:49 @registry.py:134]\u001b[0m gen/LSTM/09/FC2 output: [500, 7]\n",
      "\u001b[32m[1005 17:13:49 @registry.py:126]\u001b[0m gen/LSTM/09/FC3 input: [500, 7]\n",
      "\u001b[32m[1005 17:13:49 @registry.py:134]\u001b[0m gen/LSTM/09/FC3 output: [500, 100]\n"
     ]
    },
    {
     "name": "stdout",
     "output_type": "stream",
     "text": [
      "\u001b[32m[1005 17:13:49 @registry.py:126]\u001b[0m gen/LSTM/10/FC input: [500, 100]\n",
      "\u001b[32m[1005 17:13:49 @registry.py:134]\u001b[0m gen/LSTM/10/FC output: [500, 100]\n",
      "\u001b[32m[1005 17:13:49 @registry.py:126]\u001b[0m gen/LSTM/10/FC2 input: [500, 100]\n",
      "\u001b[32m[1005 17:13:49 @registry.py:134]\u001b[0m gen/LSTM/10/FC2 output: [500, 2]\n",
      "\u001b[32m[1005 17:13:49 @registry.py:126]\u001b[0m gen/LSTM/10/FC3 input: [500, 2]\n",
      "\u001b[32m[1005 17:13:49 @registry.py:134]\u001b[0m gen/LSTM/10/FC3 output: [500, 100]\n",
      "\u001b[32m[1005 17:13:49 @registry.py:126]\u001b[0m gen/LSTM/11/FC input: [500, 100]\n",
      "\u001b[32m[1005 17:13:49 @registry.py:134]\u001b[0m gen/LSTM/11/FC output: [500, 100]\n",
      "\u001b[32m[1005 17:13:49 @registry.py:126]\u001b[0m gen/LSTM/11/FC2 input: [500, 100]\n",
      "\u001b[32m[1005 17:13:49 @registry.py:134]\u001b[0m gen/LSTM/11/FC2 output: [500, 1]\n",
      "\u001b[32m[1005 17:13:49 @registry.py:126]\u001b[0m gen/LSTM/12/FC input: [500, 100]\n",
      "\u001b[32m[1005 17:13:49 @registry.py:134]\u001b[0m gen/LSTM/12/FC output: [500, 100]\n",
      "\u001b[32m[1005 17:13:49 @registry.py:126]\u001b[0m gen/LSTM/12/FC2 input: [500, 100]\n",
      "\u001b[32m[1005 17:13:49 @registry.py:134]\u001b[0m gen/LSTM/12/FC2 output: [500, 5]\n",
      "\u001b[32m[1005 17:13:49 @registry.py:126]\u001b[0m gen/LSTM/12/FC3 input: [500, 5]\n",
      "\u001b[32m[1005 17:13:49 @registry.py:134]\u001b[0m gen/LSTM/12/FC3 output: [500, 100]\n",
      "\u001b[32m[1005 17:13:49 @registry.py:126]\u001b[0m gen/LSTM/13/FC input: [500, 100]\n",
      "\u001b[32m[1005 17:13:49 @registry.py:134]\u001b[0m gen/LSTM/13/FC output: [500, 100]\n",
      "\u001b[32m[1005 17:13:49 @registry.py:126]\u001b[0m gen/LSTM/13/FC2 input: [500, 100]\n",
      "\u001b[32m[1005 17:13:49 @registry.py:134]\u001b[0m gen/LSTM/13/FC2 output: [500, 2]\n",
      "\u001b[32m[1005 17:13:49 @registry.py:126]\u001b[0m gen/LSTM/13/FC3 input: [500, 2]\n",
      "\u001b[32m[1005 17:13:49 @registry.py:134]\u001b[0m gen/LSTM/13/FC3 output: [500, 100]\n",
      "\u001b[32m[1005 17:13:49 @registry.py:126]\u001b[0m gen/LSTM/14/FC input: [500, 100]\n",
      "\u001b[32m[1005 17:13:49 @registry.py:134]\u001b[0m gen/LSTM/14/FC output: [500, 100]\n",
      "\u001b[32m[1005 17:13:49 @registry.py:126]\u001b[0m gen/LSTM/14/FC2 input: [500, 100]\n",
      "\u001b[32m[1005 17:13:49 @registry.py:134]\u001b[0m gen/LSTM/14/FC2 output: [500, 6]\n",
      "\u001b[32m[1005 17:13:49 @registry.py:126]\u001b[0m gen/LSTM/14/FC3 input: [500, 6]\n",
      "\u001b[32m[1005 17:13:49 @registry.py:134]\u001b[0m gen/LSTM/14/FC3 output: [500, 100]\n",
      "\u001b[32m[1005 17:13:49 @registry.py:126]\u001b[0m gen/LSTM/15/FC input: [500, 100]\n",
      "\u001b[32m[1005 17:13:49 @registry.py:134]\u001b[0m gen/LSTM/15/FC output: [500, 100]\n",
      "\u001b[32m[1005 17:13:49 @registry.py:126]\u001b[0m gen/LSTM/15/FC2 input: [500, 100]\n",
      "\u001b[32m[1005 17:13:49 @registry.py:134]\u001b[0m gen/LSTM/15/FC2 output: [500, 8]\n",
      "\u001b[32m[1005 17:13:49 @registry.py:126]\u001b[0m gen/LSTM/15/FC3 input: [500, 8]\n",
      "\u001b[32m[1005 17:13:49 @registry.py:134]\u001b[0m gen/LSTM/15/FC3 output: [500, 100]\n",
      "\u001b[32m[1005 17:13:49 @registry.py:126]\u001b[0m gen/LSTM/16/FC input: [500, 100]\n",
      "\u001b[32m[1005 17:13:49 @registry.py:134]\u001b[0m gen/LSTM/16/FC output: [500, 100]\n",
      "\u001b[32m[1005 17:13:49 @registry.py:126]\u001b[0m gen/LSTM/16/FC2 input: [500, 100]\n",
      "\u001b[32m[1005 17:13:49 @registry.py:134]\u001b[0m gen/LSTM/16/FC2 output: [500, 1]\n",
      "\u001b[32m[1005 17:13:49 @registry.py:126]\u001b[0m gen/LSTM/17/FC input: [500, 100]\n",
      "\u001b[32m[1005 17:13:49 @registry.py:134]\u001b[0m gen/LSTM/17/FC output: [500, 100]\n",
      "\u001b[32m[1005 17:13:49 @registry.py:126]\u001b[0m gen/LSTM/17/FC2 input: [500, 100]\n",
      "\u001b[32m[1005 17:13:49 @registry.py:134]\u001b[0m gen/LSTM/17/FC2 output: [500, 5]\n",
      "\u001b[32m[1005 17:13:49 @registry.py:126]\u001b[0m gen/LSTM/17/FC3 input: [500, 5]\n",
      "\u001b[32m[1005 17:13:49 @registry.py:134]\u001b[0m gen/LSTM/17/FC3 output: [500, 100]\n",
      "WARNING:tensorflow:From D:\\Users\\glede\\anaconda3\\envs\\py37\\lib\\site-packages\\tgan\\model.py:494: The name tf.random_uniform is deprecated. Please use tf.random.uniform instead.\n",
      "\n",
      "WARNING:tensorflow:From D:\\Users\\glede\\anaconda3\\envs\\py37\\lib\\site-packages\\tgan\\model.py:443: The name tf.log is deprecated. Please use tf.math.log instead.\n",
      "\n",
      "\u001b[32m[1005 17:13:49 @registry.py:126]\u001b[0m discrim/dis_fc0/fc input: [500, 90]\n",
      "\u001b[32m[1005 17:13:49 @registry.py:134]\u001b[0m discrim/dis_fc0/fc output: [500, 100]\n",
      "\u001b[32m[1005 17:13:49 @registry.py:126]\u001b[0m discrim/dis_fc0/fc_diversity input: [500, 100]\n",
      "\u001b[32m[1005 17:13:49 @registry.py:134]\u001b[0m discrim/dis_fc0/fc_diversity output: [500, 100]\n",
      "WARNING:tensorflow:From D:\\Users\\glede\\anaconda3\\envs\\py37\\lib\\site-packages\\tensorpack\\models\\batch_norm.py:204: The name tf.layers.BatchNormalization is deprecated. Please use tf.compat.v1.layers.BatchNormalization instead.\n",
      "\n",
      "WARNING:tensorflow:From D:\\Users\\glede\\anaconda3\\envs\\py37\\lib\\site-packages\\tensorpack\\models\\batch_norm.py:212: The name tf.add_to_collection is deprecated. Please use tf.compat.v1.add_to_collection instead.\n",
      "\n",
      "\u001b[32m[1005 17:13:49 @registry.py:126]\u001b[0m discrim/dis_fc_top input: [500, 110]\n",
      "\u001b[32m[1005 17:13:50 @registry.py:134]\u001b[0m discrim/dis_fc_top output: [500, 1]\n",
      "WARNING:tensorflow:From D:\\Users\\glede\\anaconda3\\envs\\py37\\lib\\site-packages\\tgan\\model.py:118: The name tf.summary.histogram is deprecated. Please use tf.compat.v1.summary.histogram instead.\n",
      "\n",
      "WARNING:tensorflow:From D:\\Users\\glede\\anaconda3\\envs\\py37\\lib\\site-packages\\tensorflow_core\\python\\ops\\nn_impl.py:183: where (from tensorflow.python.ops.array_ops) is deprecated and will be removed in a future version.\n",
      "Instructions for updating:\n",
      "Use tf.where in 2.0, which has the same broadcast rule as np.where\n",
      "WARNING:tensorflow:\n",
      "The TensorFlow contrib module will not be included in TensorFlow 2.0.\n",
      "For more information, please see:\n",
      "  * https://github.com/tensorflow/community/blob/master/rfcs/20180907-contrib-sunset.md\n",
      "  * https://github.com/tensorflow/addons\n",
      "  * https://github.com/tensorflow/io (for I/O related ops)\n",
      "If you depend on functionality not listed there, please file an issue.\n",
      "\n",
      "WARNING:tensorflow:From D:\\Users\\glede\\anaconda3\\envs\\py37\\lib\\site-packages\\tgan\\model.py:551: The name tf.train.AdamOptimizer is deprecated. Please use tf.compat.v1.train.AdamOptimizer instead.\n",
      "\n",
      "\u001b[32m[1005 17:13:53 @logger.py:90]\u001b[0m Argv: D:\\Users\\glede\\anaconda3\\envs\\py37\\lib\\site-packages\\ipykernel_launcher.py -f C:\\Users\\glede\\AppData\\Roaming\\jupyter\\runtime\\kernel-d3f6b264-8c31-4b47-811b-656a1c5068db.json\n",
      "WARNING:tensorflow:From D:\\Users\\glede\\anaconda3\\envs\\py37\\lib\\site-packages\\tensorpack\\callbacks\\saver.py:43: The name tf.gfile.IsDirectory is deprecated. Please use tf.io.gfile.isdir instead.\n",
      "\n",
      "WARNING:tensorflow:From D:\\Users\\glede\\anaconda3\\envs\\py37\\lib\\site-packages\\tensorpack\\callbacks\\saver.py:44: The name tf.gfile.MakeDirs is deprecated. Please use tf.io.gfile.makedirs instead.\n",
      "\n",
      "WARNING:tensorflow:From D:\\Users\\glede\\anaconda3\\envs\\py37\\lib\\site-packages\\tensorpack\\tfutils\\common.py:41: The name tf.ConfigProto is deprecated. Please use tf.compat.v1.ConfigProto instead.\n",
      "\n",
      "\u001b[32m[1005 17:13:53 @model_utils.py:67]\u001b[0m \u001b[36mList of Trainable Variables: \n",
      "\u001b[0mname                              shape         #elements\n",
      "--------------------------------  ----------  -----------\n",
      "gen/LSTM/go:0                     [1, 100]            100\n",
      "gen/LSTM/lstm_cell/kernel:0       [500, 400]       200000\n",
      "gen/LSTM/lstm_cell/bias:0         [400]               400\n",
      "gen/LSTM/00/FC/W:0                [100, 100]        10000\n",
      "gen/LSTM/00/FC/b:0                [100]               100\n",
      "gen/LSTM/00/FC2/W:0               [100, 5]            500\n",
      "gen/LSTM/00/FC2/b:0               [5]                   5\n",
      "gen/LSTM/00/FC3/W:0               [5, 100]            500\n",
      "gen/LSTM/00/FC3/b:0               [100]               100\n",
      "gen/LSTM/00/attw:0                [1, 1, 1]             1\n",
      "gen/LSTM/01/FC/W:0                [100, 100]        10000\n",
      "gen/LSTM/01/FC/b:0                [100]               100\n",
      "gen/LSTM/01/FC2/W:0               [100, 7]            700\n",
      "gen/LSTM/01/FC2/b:0               [7]                   7\n",
      "gen/LSTM/01/FC3/W:0               [7, 100]            700\n",
      "gen/LSTM/01/FC3/b:0               [100]               100\n",
      "gen/LSTM/01/attw:0                [2, 1, 1]             2\n",
      "gen/LSTM/02/FC/W:0                [100, 100]        10000\n",
      "gen/LSTM/02/FC/b:0                [100]               100\n",
      "gen/LSTM/02/FC2/W:0               [100, 7]            700\n",
      "gen/LSTM/02/FC2/b:0               [7]                   7\n",
      "gen/LSTM/02/FC3/W:0               [7, 100]            700\n",
      "gen/LSTM/02/FC3/b:0               [100]               100\n",
      "gen/LSTM/02/attw:0                [3, 1, 1]             3\n",
      "gen/LSTM/03/FC/W:0                [100, 100]        10000\n",
      "gen/LSTM/03/FC/b:0                [100]               100\n",
      "gen/LSTM/03/FC2/W:0               [100, 1]            100\n",
      "gen/LSTM/03/FC2/b:0               [1]                   1\n",
      "gen/LSTM/03/attw:0                [4, 1, 1]             4\n",
      "gen/LSTM/04/FC/W:0                [100, 100]        10000\n",
      "gen/LSTM/04/FC/b:0                [100]               100\n",
      "gen/LSTM/04/FC2/W:0               [100, 5]            500\n",
      "gen/LSTM/04/FC2/b:0               [5]                   5\n",
      "gen/LSTM/04/FC3/W:0               [5, 100]            500\n",
      "gen/LSTM/04/FC3/b:0               [100]               100\n",
      "gen/LSTM/04/attw:0                [5, 1, 1]             5\n",
      "gen/LSTM/05/FC/W:0                [100, 100]        10000\n",
      "gen/LSTM/05/FC/b:0                [100]               100\n",
      "gen/LSTM/05/FC2/W:0               [100, 9]            900\n",
      "gen/LSTM/05/FC2/b:0               [9]                   9\n",
      "gen/LSTM/05/FC3/W:0               [9, 100]            900\n",
      "gen/LSTM/05/FC3/b:0               [100]               100\n",
      "gen/LSTM/05/attw:0                [6, 1, 1]             6\n",
      "gen/LSTM/06/FC/W:0                [100, 100]        10000\n",
      "gen/LSTM/06/FC/b:0                [100]               100\n",
      "gen/LSTM/06/FC2/W:0               [100, 8]            800\n",
      "gen/LSTM/06/FC2/b:0               [8]                   8\n",
      "gen/LSTM/06/FC3/W:0               [8, 100]            800\n",
      "gen/LSTM/06/FC3/b:0               [100]               100\n",
      "gen/LSTM/06/attw:0                [7, 1, 1]             7\n",
      "gen/LSTM/07/FC/W:0                [100, 100]        10000\n",
      "gen/LSTM/07/FC/b:0                [100]               100\n",
      "gen/LSTM/07/FC2/W:0               [100, 8]            800\n",
      "gen/LSTM/07/FC2/b:0               [8]                   8\n",
      "gen/LSTM/07/FC3/W:0               [8, 100]            800\n",
      "gen/LSTM/07/FC3/b:0               [100]               100\n",
      "gen/LSTM/07/attw:0                [8, 1, 1]             8\n",
      "gen/LSTM/08/FC/W:0                [100, 100]        10000\n",
      "gen/LSTM/08/FC/b:0                [100]               100\n",
      "gen/LSTM/08/FC2/W:0               [100, 3]            300\n",
      "gen/LSTM/08/FC2/b:0               [3]                   3\n",
      "gen/LSTM/08/FC3/W:0               [3, 100]            300\n",
      "gen/LSTM/08/FC3/b:0               [100]               100\n",
      "gen/LSTM/08/attw:0                [9, 1, 1]             9\n",
      "gen/LSTM/09/FC/W:0                [100, 100]        10000\n",
      "gen/LSTM/09/FC/b:0                [100]               100\n",
      "gen/LSTM/09/FC2/W:0               [100, 7]            700\n",
      "gen/LSTM/09/FC2/b:0               [7]                   7\n",
      "gen/LSTM/09/FC3/W:0               [7, 100]            700\n",
      "gen/LSTM/09/FC3/b:0               [100]               100\n",
      "gen/LSTM/09/attw:0                [10, 1, 1]           10\n",
      "gen/LSTM/10/FC/W:0                [100, 100]        10000\n",
      "gen/LSTM/10/FC/b:0                [100]               100\n",
      "gen/LSTM/10/FC2/W:0               [100, 2]            200\n",
      "gen/LSTM/10/FC2/b:0               [2]                   2\n",
      "gen/LSTM/10/FC3/W:0               [2, 100]            200\n",
      "gen/LSTM/10/FC3/b:0               [100]               100\n",
      "gen/LSTM/10/attw:0                [11, 1, 1]           11\n",
      "gen/LSTM/11/FC/W:0                [100, 100]        10000\n",
      "gen/LSTM/11/FC/b:0                [100]               100\n",
      "gen/LSTM/11/FC2/W:0               [100, 1]            100\n",
      "gen/LSTM/11/FC2/b:0               [1]                   1\n",
      "gen/LSTM/11/attw:0                [12, 1, 1]           12\n",
      "gen/LSTM/12/FC/W:0                [100, 100]        10000\n",
      "gen/LSTM/12/FC/b:0                [100]               100\n",
      "gen/LSTM/12/FC2/W:0               [100, 5]            500\n",
      "gen/LSTM/12/FC2/b:0               [5]                   5\n",
      "gen/LSTM/12/FC3/W:0               [5, 100]            500\n",
      "gen/LSTM/12/FC3/b:0               [100]               100\n",
      "gen/LSTM/12/attw:0                [13, 1, 1]           13\n",
      "gen/LSTM/13/FC/W:0                [100, 100]        10000\n",
      "gen/LSTM/13/FC/b:0                [100]               100\n",
      "gen/LSTM/13/FC2/W:0               [100, 2]            200\n",
      "gen/LSTM/13/FC2/b:0               [2]                   2\n",
      "gen/LSTM/13/FC3/W:0               [2, 100]            200\n",
      "gen/LSTM/13/FC3/b:0               [100]               100\n",
      "gen/LSTM/13/attw:0                [14, 1, 1]           14\n",
      "gen/LSTM/14/FC/W:0                [100, 100]        10000\n",
      "gen/LSTM/14/FC/b:0                [100]               100\n",
      "gen/LSTM/14/FC2/W:0               [100, 6]            600\n",
      "gen/LSTM/14/FC2/b:0               [6]                   6\n",
      "gen/LSTM/14/FC3/W:0               [6, 100]            600\n",
      "gen/LSTM/14/FC3/b:0               [100]               100\n",
      "gen/LSTM/14/attw:0                [15, 1, 1]           15\n",
      "gen/LSTM/15/FC/W:0                [100, 100]        10000\n",
      "gen/LSTM/15/FC/b:0                [100]               100\n",
      "gen/LSTM/15/FC2/W:0               [100, 8]            800\n",
      "gen/LSTM/15/FC2/b:0               [8]                   8\n",
      "gen/LSTM/15/FC3/W:0               [8, 100]            800\n",
      "gen/LSTM/15/FC3/b:0               [100]               100\n",
      "gen/LSTM/15/attw:0                [16, 1, 1]           16\n",
      "gen/LSTM/16/FC/W:0                [100, 100]        10000\n",
      "gen/LSTM/16/FC/b:0                [100]               100\n",
      "gen/LSTM/16/FC2/W:0               [100, 1]            100\n",
      "gen/LSTM/16/FC2/b:0               [1]                   1\n",
      "gen/LSTM/16/attw:0                [17, 1, 1]           17\n",
      "gen/LSTM/17/FC/W:0                [100, 100]        10000\n",
      "gen/LSTM/17/FC/b:0                [100]               100\n",
      "gen/LSTM/17/FC2/W:0               [100, 5]            500\n",
      "gen/LSTM/17/FC2/b:0               [5]                   5\n",
      "gen/LSTM/17/FC3/W:0               [5, 100]            500\n",
      "gen/LSTM/17/FC3/b:0               [100]               100\n",
      "gen/LSTM/17/attw:0                [18, 1, 1]           18\n",
      "discrim/dis_fc0/fc/W:0            [90, 100]          9000\n",
      "discrim/dis_fc0/fc/b:0            [100]               100\n",
      "discrim/dis_fc0/fc_diversity/W:0  [100, 100]        10000\n",
      "discrim/dis_fc0/fc_diversity/b:0  [100]               100\n",
      "discrim/dis_fc0/bn/beta:0         [110]               110\n",
      "discrim/dis_fc_top/W:0            [110, 1]            110\n",
      "discrim/dis_fc_top/b:0            [1]                   1\u001b[36m\n",
      "Number of trainable variables: 130\n",
      "Number of parameters (elements): 421182\n",
      "Storage space needed for all trainable variables: 1.61MB\u001b[0m\n"
     ]
    },
    {
     "name": "stdout",
     "output_type": "stream",
     "text": [
      "\u001b[32m[1005 17:13:53 @base.py:209]\u001b[0m Setup callbacks graph ...\n",
      "WARNING:tensorflow:From D:\\Users\\glede\\anaconda3\\envs\\py37\\lib\\site-packages\\tensorpack\\callbacks\\graph.py:54: The name tf.train.SessionRunArgs is deprecated. Please use tf.estimator.SessionRunArgs instead.\n",
      "\n",
      "WARNING:tensorflow:From D:\\Users\\glede\\anaconda3\\envs\\py37\\lib\\site-packages\\tensorpack\\tfutils\\common.py:75: The name tf.VariableScope is deprecated. Please use tf.compat.v1.VariableScope instead.\n",
      "\n",
      "WARNING:tensorflow:From D:\\Users\\glede\\anaconda3\\envs\\py37\\lib\\site-packages\\tensorpack\\tfutils\\common.py:77: The name tf.train.get_or_create_global_step is deprecated. Please use tf.compat.v1.train.get_or_create_global_step instead.\n",
      "\n",
      "WARNING:tensorflow:From D:\\Users\\glede\\anaconda3\\envs\\py37\\lib\\site-packages\\tensorpack\\callbacks\\steps.py:117: The name tf.assign_add is deprecated. Please use tf.compat.v1.assign_add instead.\n",
      "\n",
      "WARNING:tensorflow:From D:\\Users\\glede\\anaconda3\\envs\\py37\\lib\\site-packages\\tensorpack\\callbacks\\saver.py:55: The name tf.train.Saver is deprecated. Please use tf.compat.v1.train.Saver instead.\n",
      "\n",
      "WARNING:tensorflow:From D:\\Users\\glede\\anaconda3\\envs\\py37\\lib\\site-packages\\tensorpack\\callbacks\\saver.py:59: The name tf.train.SaverDef is deprecated. Please use tf.compat.v1.train.SaverDef instead.\n",
      "\n",
      "\u001b[32m[1005 17:13:53 @summary.py:46]\u001b[0m [MovingAverageSummary] 6 operations in collection 'MOVING_SUMMARY_OPS' will be run with session hooks.\n",
      "\u001b[32m[1005 17:13:53 @summary.py:93]\u001b[0m Summarizing collection 'summaries' of size 9.\n",
      "WARNING:tensorflow:From D:\\Users\\glede\\anaconda3\\envs\\py37\\lib\\site-packages\\tensorpack\\callbacks\\summary.py:94: The name tf.summary.merge_all is deprecated. Please use tf.compat.v1.summary.merge_all instead.\n",
      "\n",
      "\u001b[32m[1005 17:13:53 @graph.py:98]\u001b[0m Applying collection UPDATE_OPS of 4 ops.\n",
      "WARNING:tensorflow:From D:\\Users\\glede\\anaconda3\\envs\\py37\\lib\\site-packages\\tensorpack\\callbacks\\monitor.py:261: The name tf.summary.FileWriter is deprecated. Please use tf.compat.v1.summary.FileWriter instead.\n",
      "\n",
      "\u001b[32m[1005 17:13:54 @base.py:230]\u001b[0m Creating the session ...\n",
      "WARNING:tensorflow:From D:\\Users\\glede\\anaconda3\\envs\\py37\\lib\\site-packages\\tensorpack\\tfutils\\sesscreate.py:42: The name tf.Session is deprecated. Please use tf.compat.v1.Session instead.\n",
      "\n",
      "WARNING:tensorflow:From D:\\Users\\glede\\anaconda3\\envs\\py37\\lib\\site-packages\\tensorpack\\tfutils\\sesscreate.py:71: The name tf.global_variables_initializer is deprecated. Please use tf.compat.v1.global_variables_initializer instead.\n",
      "\n",
      "WARNING:tensorflow:From D:\\Users\\glede\\anaconda3\\envs\\py37\\lib\\site-packages\\tensorpack\\tfutils\\sesscreate.py:62: get_backward_walk_ops (from tensorflow.contrib.graph_editor.select) is deprecated and will be removed after 2019-06-06.\n",
      "Instructions for updating:\n",
      "Please use tensorflow.python.ops.op_selector.get_backward_walk_ops.\n",
      "WARNING:tensorflow:From D:\\Users\\glede\\anaconda3\\envs\\py37\\lib\\site-packages\\tensorpack\\tfutils\\sesscreate.py:72: The name tf.local_variables_initializer is deprecated. Please use tf.compat.v1.local_variables_initializer instead.\n",
      "\n",
      "WARNING:tensorflow:From D:\\Users\\glede\\anaconda3\\envs\\py37\\lib\\site-packages\\tensorpack\\tfutils\\sesscreate.py:73: The name tf.tables_initializer is deprecated. Please use tf.compat.v1.tables_initializer instead.\n",
      "\n",
      "WARNING:tensorflow:From D:\\Users\\glede\\anaconda3\\envs\\py37\\lib\\site-packages\\tensorpack\\train\\base.py:254: The name tf.train.MonitoredSession is deprecated. Please use tf.compat.v1.train.MonitoredSession instead.\n",
      "\n",
      "\u001b[32m[1005 17:13:55 @base.py:236]\u001b[0m Initializing the session ...\n",
      "\u001b[32m[1005 17:13:55 @base.py:243]\u001b[0m Graph Finalized.\n",
      "WARNING:tensorflow:From D:\\Users\\glede\\anaconda3\\envs\\py37\\lib\\site-packages\\tensorpack\\tfutils\\common.py:89: The name tf.train.global_step is deprecated. Please use tf.compat.v1.train.global_step instead.\n",
      "\n",
      "WARNING:tensorflow:From D:\\Users\\glede\\anaconda3\\envs\\py37\\lib\\site-packages\\tensorpack\\tfutils\\common.py:90: The name tf.get_default_session is deprecated. Please use tf.compat.v1.get_default_session instead.\n",
      "\n",
      "\u001b[32m[1005 17:13:55 @concurrency.py:38]\u001b[0m Starting EnqueueThread QueueInput/input_queue ...\n",
      "WARNING:tensorflow:From D:\\Users\\glede\\anaconda3\\envs\\py37\\lib\\site-packages\\tensorpack\\callbacks\\monitor.py:309: The name tf.gfile.Exists is deprecated. Please use tf.io.gfile.exists instead.\n",
      "\n",
      "\u001b[32m[1005 17:13:56 @base.py:275]\u001b[0m Start Epoch 1 ...\n"
     ]
    },
    {
     "name": "stderr",
     "output_type": "stream",
     "text": [
      " 93%|#############################################################################3     |163/175[00:06<00:00,30.39it/s]"
     ]
    },
    {
     "name": "stdout",
     "output_type": "stream",
     "text": [
      "WARNING:tensorflow:From D:\\Users\\glede\\anaconda3\\envs\\py37\\lib\\site-packages\\tensorpack\\callbacks\\monitor.py:148: The name tf.Summary is deprecated. Please use tf.compat.v1.Summary instead.\n",
      "\n"
     ]
    },
    {
     "name": "stderr",
     "output_type": "stream",
     "text": [
      "\r",
      "100%|###################################################################################|175/175[00:08<00:00,20.26it/s]"
     ]
    },
    {
     "name": "stdout",
     "output_type": "stream",
     "text": [
      "\u001b[32m[1005 17:14:04 @base.py:285]\u001b[0m Epoch 1 (global_step 175) finished, time:8.64 seconds.\n",
      "WARNING:tensorflow:From D:\\Users\\glede\\anaconda3\\envs\\py37\\lib\\site-packages\\tensorpack\\callbacks\\saver.py:77: The name tf.train.get_global_step is deprecated. Please use tf.compat.v1.train.get_global_step instead.\n",
      "\n"
     ]
    },
    {
     "name": "stderr",
     "output_type": "stream",
     "text": [
      "\n"
     ]
    },
    {
     "name": "stdout",
     "output_type": "stream",
     "text": [
      "\u001b[32m[1005 17:14:05 @saver.py:79]\u001b[0m Model saved to ../output/Chicago/TGAN/model\\model-175.\n",
      "\u001b[32m[1005 17:14:05 @monitor.py:467]\u001b[0m GAN_loss/discrim/accuracy_fake: 0.87\n",
      "\u001b[32m[1005 17:14:05 @monitor.py:467]\u001b[0m GAN_loss/discrim/accuracy_real: 0.176\n",
      "\u001b[32m[1005 17:14:05 @monitor.py:467]\u001b[0m GAN_loss/discrim/loss: 0.6564\n",
      "\u001b[32m[1005 17:14:05 @monitor.py:467]\u001b[0m GAN_loss/gen/final-g-loss: 0.95958\n",
      "\u001b[32m[1005 17:14:05 @monitor.py:467]\u001b[0m GAN_loss/gen/klloss: 0.025223\n",
      "\u001b[32m[1005 17:14:05 @monitor.py:467]\u001b[0m GAN_loss/gen/loss: 0.93436\n",
      "\u001b[32m[1005 17:14:05 @monitor.py:467]\u001b[0m QueueInput/queue_size: 50\n",
      "\u001b[32m[1005 17:14:05 @base.py:275]\u001b[0m Start Epoch 2 ...\n"
     ]
    },
    {
     "name": "stderr",
     "output_type": "stream",
     "text": [
      "100%|###################################################################################|175/175[00:05<00:00,34.20it/s]"
     ]
    },
    {
     "name": "stdout",
     "output_type": "stream",
     "text": [
      "\u001b[32m[1005 17:14:10 @base.py:285]\u001b[0m Epoch 2 (global_step 350) finished, time:5.12 seconds.\n",
      "\u001b[32m[1005 17:14:10 @saver.py:79]\u001b[0m Model saved to ../output/Chicago/TGAN/model\\model-350.\n",
      "\u001b[32m[1005 17:14:10 @monitor.py:467]\u001b[0m GAN_loss/discrim/accuracy_fake: 0.988\n",
      "\u001b[32m[1005 17:14:10 @monitor.py:467]\u001b[0m GAN_loss/discrim/accuracy_real: 0.046\n",
      "\u001b[32m[1005 17:14:10 @monitor.py:467]\u001b[0m GAN_loss/discrim/loss: 0.65214\n",
      "\u001b[32m[1005 17:14:10 @monitor.py:467]\u001b[0m GAN_loss/gen/final-g-loss: 0.98075\n",
      "\u001b[32m[1005 17:14:10 @monitor.py:467]\u001b[0m GAN_loss/gen/klloss: 0.053323\n",
      "\u001b[32m[1005 17:14:10 @monitor.py:467]\u001b[0m GAN_loss/gen/loss: 0.92743\n",
      "\u001b[32m[1005 17:14:10 @monitor.py:467]\u001b[0m QueueInput/queue_size: 50\n",
      "\u001b[32m[1005 17:14:10 @base.py:275]\u001b[0m Start Epoch 3 ...\n"
     ]
    },
    {
     "name": "stderr",
     "output_type": "stream",
     "text": [
      "\n",
      "100%|###################################################################################|175/175[00:05<00:00,34.24it/s]"
     ]
    },
    {
     "name": "stdout",
     "output_type": "stream",
     "text": [
      "\u001b[32m[1005 17:14:15 @base.py:285]\u001b[0m Epoch 3 (global_step 525) finished, time:5.11 seconds.\n",
      "\u001b[32m[1005 17:14:15 @saver.py:79]\u001b[0m Model saved to ../output/Chicago/TGAN/model\\model-525.\n",
      "\u001b[32m[1005 17:14:15 @monitor.py:467]\u001b[0m GAN_loss/discrim/accuracy_fake: 0.942\n",
      "\u001b[32m[1005 17:14:15 @monitor.py:467]\u001b[0m GAN_loss/discrim/accuracy_real: 0.122\n",
      "\u001b[32m[1005 17:14:15 @monitor.py:467]\u001b[0m GAN_loss/discrim/loss: 0.64028\n",
      "\u001b[32m[1005 17:14:15 @monitor.py:467]\u001b[0m GAN_loss/gen/final-g-loss: 0.99372\n",
      "\u001b[32m[1005 17:14:15 @monitor.py:467]\u001b[0m GAN_loss/gen/klloss: 0.049226\n",
      "\u001b[32m[1005 17:14:15 @monitor.py:467]\u001b[0m GAN_loss/gen/loss: 0.94449\n",
      "\u001b[32m[1005 17:14:15 @monitor.py:467]\u001b[0m QueueInput/queue_size: 50\n",
      "\u001b[32m[1005 17:14:15 @base.py:275]\u001b[0m Start Epoch 4 ...\n"
     ]
    },
    {
     "name": "stderr",
     "output_type": "stream",
     "text": [
      "\n",
      "100%|###################################################################################|175/175[00:05<00:00,33.81it/s]"
     ]
    },
    {
     "name": "stdout",
     "output_type": "stream",
     "text": [
      "\u001b[32m[1005 17:14:20 @base.py:285]\u001b[0m Epoch 4 (global_step 700) finished, time:5.18 seconds.\n",
      "\u001b[32m[1005 17:14:20 @saver.py:79]\u001b[0m Model saved to ../output/Chicago/TGAN/model\\model-700.\n",
      "\u001b[32m[1005 17:14:20 @monitor.py:467]\u001b[0m GAN_loss/discrim/accuracy_fake: 0.93\n",
      "\u001b[32m[1005 17:14:20 @monitor.py:467]\u001b[0m GAN_loss/discrim/accuracy_real: 0.168\n",
      "\u001b[32m[1005 17:14:20 @monitor.py:467]\u001b[0m GAN_loss/discrim/loss: 0.64582\n",
      "\u001b[32m[1005 17:14:20 @monitor.py:467]\u001b[0m GAN_loss/gen/final-g-loss: 0.99514\n",
      "\u001b[32m[1005 17:14:20 @monitor.py:467]\u001b[0m GAN_loss/gen/klloss: 0.05209\n",
      "\u001b[32m[1005 17:14:20 @monitor.py:467]\u001b[0m GAN_loss/gen/loss: 0.94305\n",
      "\u001b[32m[1005 17:14:20 @monitor.py:467]\u001b[0m QueueInput/queue_size: 50\n",
      "\u001b[32m[1005 17:14:20 @base.py:275]\u001b[0m Start Epoch 5 ...\n"
     ]
    },
    {
     "name": "stderr",
     "output_type": "stream",
     "text": [
      "\n",
      "100%|###################################################################################|175/175[00:05<00:00,33.61it/s]"
     ]
    },
    {
     "name": "stdout",
     "output_type": "stream",
     "text": [
      "\u001b[32m[1005 17:14:25 @base.py:285]\u001b[0m Epoch 5 (global_step 875) finished, time:5.21 seconds.\n",
      "\u001b[32m[1005 17:14:25 @saver.py:79]\u001b[0m Model saved to ../output/Chicago/TGAN/model\\model-875.\n",
      "\u001b[32m[1005 17:14:25 @monitor.py:467]\u001b[0m GAN_loss/discrim/accuracy_fake: 0.944\n",
      "\u001b[32m[1005 17:14:25 @monitor.py:467]\u001b[0m GAN_loss/discrim/accuracy_real: 0.17\n",
      "\u001b[32m[1005 17:14:25 @monitor.py:467]\u001b[0m GAN_loss/discrim/loss: 0.6371\n",
      "\u001b[32m[1005 17:14:25 @monitor.py:467]\u001b[0m GAN_loss/gen/final-g-loss: 1.044\n",
      "\u001b[32m[1005 17:14:25 @monitor.py:467]\u001b[0m GAN_loss/gen/klloss: 0.074966\n",
      "\u001b[32m[1005 17:14:25 @monitor.py:467]\u001b[0m GAN_loss/gen/loss: 0.96905\n",
      "\u001b[32m[1005 17:14:25 @monitor.py:467]\u001b[0m QueueInput/queue_size: 50\n",
      "\u001b[32m[1005 17:14:25 @base.py:275]\u001b[0m Start Epoch 6 ...\n"
     ]
    },
    {
     "name": "stderr",
     "output_type": "stream",
     "text": [
      "\n",
      "100%|###################################################################################|175/175[00:05<00:00,34.13it/s]"
     ]
    },
    {
     "name": "stdout",
     "output_type": "stream",
     "text": [
      "\u001b[32m[1005 17:14:31 @base.py:285]\u001b[0m Epoch 6 (global_step 1050) finished, time:5.13 seconds.\n",
      "\u001b[32m[1005 17:14:31 @saver.py:79]\u001b[0m Model saved to ../output/Chicago/TGAN/model\\model-1050.\n",
      "\u001b[32m[1005 17:14:31 @monitor.py:467]\u001b[0m GAN_loss/discrim/accuracy_fake: 0.916\n",
      "\u001b[32m[1005 17:14:31 @monitor.py:467]\u001b[0m GAN_loss/discrim/accuracy_real: 0.182\n",
      "\u001b[32m[1005 17:14:31 @monitor.py:467]\u001b[0m GAN_loss/discrim/loss: 0.64336\n",
      "\u001b[32m[1005 17:14:31 @monitor.py:467]\u001b[0m GAN_loss/gen/final-g-loss: 1.0022\n",
      "\u001b[32m[1005 17:14:31 @monitor.py:467]\u001b[0m GAN_loss/gen/klloss: 0.054765\n",
      "\u001b[32m[1005 17:14:31 @monitor.py:467]\u001b[0m GAN_loss/gen/loss: 0.9474\n",
      "\u001b[32m[1005 17:14:31 @monitor.py:467]\u001b[0m QueueInput/queue_size: 50\n",
      "\u001b[32m[1005 17:14:31 @base.py:275]\u001b[0m Start Epoch 7 ...\n"
     ]
    },
    {
     "name": "stderr",
     "output_type": "stream",
     "text": [
      "\n",
      "100%|###################################################################################|175/175[00:05<00:00,34.27it/s]"
     ]
    },
    {
     "name": "stdout",
     "output_type": "stream",
     "text": [
      "\u001b[32m[1005 17:14:36 @base.py:285]\u001b[0m Epoch 7 (global_step 1225) finished, time:5.11 seconds.\n",
      "\u001b[32m[1005 17:14:36 @saver.py:79]\u001b[0m Model saved to ../output/Chicago/TGAN/model\\model-1225.\n",
      "\u001b[32m[1005 17:14:36 @monitor.py:467]\u001b[0m GAN_loss/discrim/accuracy_fake: 0.916\n",
      "\u001b[32m[1005 17:14:36 @monitor.py:467]\u001b[0m GAN_loss/discrim/accuracy_real: 0.172\n",
      "\u001b[32m[1005 17:14:36 @monitor.py:467]\u001b[0m GAN_loss/discrim/loss: 0.64138\n",
      "\u001b[32m[1005 17:14:36 @monitor.py:467]\u001b[0m GAN_loss/gen/final-g-loss: 1.0037\n",
      "\u001b[32m[1005 17:14:36 @monitor.py:467]\u001b[0m GAN_loss/gen/klloss: 0.049148\n",
      "\u001b[32m[1005 17:14:36 @monitor.py:467]\u001b[0m GAN_loss/gen/loss: 0.95453\n",
      "\u001b[32m[1005 17:14:36 @monitor.py:467]\u001b[0m QueueInput/queue_size: 50\n",
      "\u001b[32m[1005 17:14:36 @base.py:275]\u001b[0m Start Epoch 8 ...\n"
     ]
    },
    {
     "name": "stderr",
     "output_type": "stream",
     "text": [
      "\n",
      "100%|###################################################################################|175/175[00:05<00:00,34.23it/s]"
     ]
    },
    {
     "name": "stdout",
     "output_type": "stream",
     "text": [
      "\u001b[32m[1005 17:14:41 @base.py:285]\u001b[0m Epoch 8 (global_step 1400) finished, time:5.11 seconds.\n",
      "\u001b[32m[1005 17:14:41 @saver.py:79]\u001b[0m Model saved to ../output/Chicago/TGAN/model\\model-1400.\n",
      "\u001b[32m[1005 17:14:41 @monitor.py:467]\u001b[0m GAN_loss/discrim/accuracy_fake: 0.886\n",
      "\u001b[32m[1005 17:14:41 @monitor.py:467]\u001b[0m GAN_loss/discrim/accuracy_real: 0.19\n",
      "\u001b[32m[1005 17:14:41 @monitor.py:467]\u001b[0m GAN_loss/discrim/loss: 0.65189\n",
      "\u001b[32m[1005 17:14:41 @monitor.py:467]\u001b[0m GAN_loss/gen/final-g-loss: 1.0025\n",
      "\u001b[32m[1005 17:14:41 @monitor.py:467]\u001b[0m GAN_loss/gen/klloss: 0.063513\n",
      "\u001b[32m[1005 17:14:41 @monitor.py:467]\u001b[0m GAN_loss/gen/loss: 0.93903\n",
      "\u001b[32m[1005 17:14:41 @monitor.py:467]\u001b[0m QueueInput/queue_size: 50\n",
      "\u001b[32m[1005 17:14:41 @base.py:275]\u001b[0m Start Epoch 9 ...\n"
     ]
    },
    {
     "name": "stderr",
     "output_type": "stream",
     "text": [
      "\n",
      "100%|###################################################################################|175/175[00:05<00:00,34.25it/s]"
     ]
    },
    {
     "name": "stdout",
     "output_type": "stream",
     "text": [
      "\u001b[32m[1005 17:14:46 @base.py:285]\u001b[0m Epoch 9 (global_step 1575) finished, time:5.11 seconds.\n",
      "\u001b[32m[1005 17:14:46 @saver.py:79]\u001b[0m Model saved to ../output/Chicago/TGAN/model\\model-1575.\n",
      "\u001b[32m[1005 17:14:46 @monitor.py:467]\u001b[0m GAN_loss/discrim/accuracy_fake: 0.902\n",
      "\u001b[32m[1005 17:14:46 @monitor.py:467]\u001b[0m GAN_loss/discrim/accuracy_real: 0.174\n",
      "\u001b[32m[1005 17:14:46 @monitor.py:467]\u001b[0m GAN_loss/discrim/loss: 0.63714\n",
      "\u001b[32m[1005 17:14:46 @monitor.py:467]\u001b[0m GAN_loss/gen/final-g-loss: 1.0191\n",
      "\u001b[32m[1005 17:14:46 @monitor.py:467]\u001b[0m GAN_loss/gen/klloss: 0.051278\n",
      "\u001b[32m[1005 17:14:46 @monitor.py:467]\u001b[0m GAN_loss/gen/loss: 0.96785\n",
      "\u001b[32m[1005 17:14:46 @monitor.py:467]\u001b[0m QueueInput/queue_size: 50\n",
      "\u001b[32m[1005 17:14:46 @base.py:275]\u001b[0m Start Epoch 10 ...\n"
     ]
    },
    {
     "name": "stderr",
     "output_type": "stream",
     "text": [
      "\n",
      "100%|###################################################################################|175/175[00:05<00:00,34.20it/s]"
     ]
    },
    {
     "name": "stdout",
     "output_type": "stream",
     "text": [
      "\u001b[32m[1005 17:14:51 @base.py:285]\u001b[0m Epoch 10 (global_step 1750) finished, time:5.12 seconds.\n",
      "\u001b[32m[1005 17:14:51 @saver.py:79]\u001b[0m Model saved to ../output/Chicago/TGAN/model\\model-1750.\n",
      "\u001b[32m[1005 17:14:51 @monitor.py:467]\u001b[0m GAN_loss/discrim/accuracy_fake: 0.906\n",
      "\u001b[32m[1005 17:14:51 @monitor.py:467]\u001b[0m GAN_loss/discrim/accuracy_real: 0.206\n",
      "\u001b[32m[1005 17:14:51 @monitor.py:467]\u001b[0m GAN_loss/discrim/loss: 0.64032\n",
      "\u001b[32m[1005 17:14:51 @monitor.py:467]\u001b[0m GAN_loss/gen/final-g-loss: 1.0281\n",
      "\u001b[32m[1005 17:14:51 @monitor.py:467]\u001b[0m GAN_loss/gen/klloss: 0.070118\n",
      "\u001b[32m[1005 17:14:51 @monitor.py:467]\u001b[0m GAN_loss/gen/loss: 0.95795\n",
      "\u001b[32m[1005 17:14:51 @monitor.py:467]\u001b[0m QueueInput/queue_size: 50\n",
      "\u001b[32m[1005 17:14:51 @base.py:275]\u001b[0m Start Epoch 11 ...\n"
     ]
    },
    {
     "name": "stderr",
     "output_type": "stream",
     "text": [
      "\n",
      "100%|###################################################################################|175/175[00:05<00:00,34.27it/s]"
     ]
    },
    {
     "name": "stdout",
     "output_type": "stream",
     "text": [
      "\u001b[32m[1005 17:14:56 @base.py:285]\u001b[0m Epoch 11 (global_step 1925) finished, time:5.11 seconds.\n",
      "WARNING:tensorflow:From D:\\Users\\glede\\anaconda3\\envs\\py37\\lib\\site-packages\\tensorflow_core\\python\\training\\saver.py:963: remove_checkpoint (from tensorflow.python.training.checkpoint_management) is deprecated and will be removed in a future version.\n",
      "Instructions for updating:\n",
      "Use standard file APIs to delete files with this prefix.\n",
      "\u001b[32m[1005 17:14:56 @saver.py:79]\u001b[0m Model saved to ../output/Chicago/TGAN/model\\model-1925.\n",
      "\u001b[32m[1005 17:14:56 @monitor.py:467]\u001b[0m GAN_loss/discrim/accuracy_fake: 0.902\n",
      "\u001b[32m[1005 17:14:56 @monitor.py:467]\u001b[0m GAN_loss/discrim/accuracy_real: 0.162\n",
      "\u001b[32m[1005 17:14:56 @monitor.py:467]\u001b[0m GAN_loss/discrim/loss: 0.64802\n",
      "\u001b[32m[1005 17:14:56 @monitor.py:467]\u001b[0m GAN_loss/gen/final-g-loss: 1.0054\n",
      "\u001b[32m[1005 17:14:56 @monitor.py:467]\u001b[0m GAN_loss/gen/klloss: 0.054188\n",
      "\u001b[32m[1005 17:14:56 @monitor.py:467]\u001b[0m GAN_loss/gen/loss: 0.95121\n",
      "\u001b[32m[1005 17:14:56 @monitor.py:467]\u001b[0m QueueInput/queue_size: 50\n",
      "\u001b[32m[1005 17:14:56 @base.py:275]\u001b[0m Start Epoch 12 ...\n"
     ]
    },
    {
     "name": "stderr",
     "output_type": "stream",
     "text": [
      "\n",
      "100%|###################################################################################|175/175[00:05<00:00,34.22it/s]"
     ]
    },
    {
     "name": "stdout",
     "output_type": "stream",
     "text": [
      "\u001b[32m[1005 17:15:02 @base.py:285]\u001b[0m Epoch 12 (global_step 2100) finished, time:5.11 seconds.\n",
      "\u001b[32m[1005 17:15:02 @saver.py:79]\u001b[0m Model saved to ../output/Chicago/TGAN/model\\model-2100.\n",
      "\u001b[32m[1005 17:15:02 @monitor.py:467]\u001b[0m GAN_loss/discrim/accuracy_fake: 0.908\n",
      "\u001b[32m[1005 17:15:02 @monitor.py:467]\u001b[0m GAN_loss/discrim/accuracy_real: 0.2\n",
      "\u001b[32m[1005 17:15:02 @monitor.py:467]\u001b[0m GAN_loss/discrim/loss: 0.63785\n",
      "\u001b[32m[1005 17:15:02 @monitor.py:467]\u001b[0m GAN_loss/gen/final-g-loss: 0.99744\n",
      "\u001b[32m[1005 17:15:02 @monitor.py:467]\u001b[0m GAN_loss/gen/klloss: 0.038667\n",
      "\u001b[32m[1005 17:15:02 @monitor.py:467]\u001b[0m GAN_loss/gen/loss: 0.95878\n",
      "\u001b[32m[1005 17:15:02 @monitor.py:467]\u001b[0m QueueInput/queue_size: 50\n",
      "\u001b[32m[1005 17:15:02 @base.py:275]\u001b[0m Start Epoch 13 ...\n"
     ]
    },
    {
     "name": "stderr",
     "output_type": "stream",
     "text": [
      "\n",
      "100%|###################################################################################|175/175[00:05<00:00,34.23it/s]"
     ]
    },
    {
     "name": "stdout",
     "output_type": "stream",
     "text": [
      "\u001b[32m[1005 17:15:07 @base.py:285]\u001b[0m Epoch 13 (global_step 2275) finished, time:5.11 seconds.\n",
      "\u001b[32m[1005 17:15:07 @saver.py:79]\u001b[0m Model saved to ../output/Chicago/TGAN/model\\model-2275.\n",
      "\u001b[32m[1005 17:15:07 @monitor.py:467]\u001b[0m GAN_loss/discrim/accuracy_fake: 0.91\n",
      "\u001b[32m[1005 17:15:07 @monitor.py:467]\u001b[0m GAN_loss/discrim/accuracy_real: 0.198\n",
      "\u001b[32m[1005 17:15:07 @monitor.py:467]\u001b[0m GAN_loss/discrim/loss: 0.63853\n",
      "\u001b[32m[1005 17:15:07 @monitor.py:467]\u001b[0m GAN_loss/gen/final-g-loss: 1.0199\n",
      "\u001b[32m[1005 17:15:07 @monitor.py:467]\u001b[0m GAN_loss/gen/klloss: 0.040336\n",
      "\u001b[32m[1005 17:15:07 @monitor.py:467]\u001b[0m GAN_loss/gen/loss: 0.97957\n",
      "\u001b[32m[1005 17:15:07 @monitor.py:467]\u001b[0m QueueInput/queue_size: 50\n",
      "\u001b[32m[1005 17:15:07 @base.py:275]\u001b[0m Start Epoch 14 ...\n"
     ]
    },
    {
     "name": "stderr",
     "output_type": "stream",
     "text": [
      "\n",
      "100%|###################################################################################|175/175[00:05<00:00,34.24it/s]"
     ]
    },
    {
     "name": "stdout",
     "output_type": "stream",
     "text": [
      "\u001b[32m[1005 17:15:12 @base.py:285]\u001b[0m Epoch 14 (global_step 2450) finished, time:5.11 seconds.\n",
      "\u001b[32m[1005 17:15:12 @saver.py:79]\u001b[0m Model saved to ../output/Chicago/TGAN/model\\model-2450.\n",
      "\u001b[32m[1005 17:15:12 @monitor.py:467]\u001b[0m GAN_loss/discrim/accuracy_fake: 0.89\n",
      "\u001b[32m[1005 17:15:12 @monitor.py:467]\u001b[0m GAN_loss/discrim/accuracy_real: 0.208\n",
      "\u001b[32m[1005 17:15:12 @monitor.py:467]\u001b[0m GAN_loss/discrim/loss: 0.63668\n",
      "\u001b[32m[1005 17:15:12 @monitor.py:467]\u001b[0m GAN_loss/gen/final-g-loss: 1.0161\n",
      "\u001b[32m[1005 17:15:12 @monitor.py:467]\u001b[0m GAN_loss/gen/klloss: 0.065245\n",
      "\u001b[32m[1005 17:15:12 @monitor.py:467]\u001b[0m GAN_loss/gen/loss: 0.95082\n",
      "\u001b[32m[1005 17:15:12 @monitor.py:467]\u001b[0m QueueInput/queue_size: 50\n",
      "\u001b[32m[1005 17:15:12 @base.py:275]\u001b[0m Start Epoch 15 ...\n"
     ]
    },
    {
     "name": "stderr",
     "output_type": "stream",
     "text": [
      "\n",
      "100%|###################################################################################|175/175[00:05<00:00,34.26it/s]"
     ]
    },
    {
     "name": "stdout",
     "output_type": "stream",
     "text": [
      "\u001b[32m[1005 17:15:17 @base.py:285]\u001b[0m Epoch 15 (global_step 2625) finished, time:5.11 seconds.\n",
      "\u001b[32m[1005 17:15:17 @saver.py:79]\u001b[0m Model saved to ../output/Chicago/TGAN/model\\model-2625.\n",
      "\u001b[32m[1005 17:15:17 @monitor.py:467]\u001b[0m GAN_loss/discrim/accuracy_fake: 0.878\n",
      "\u001b[32m[1005 17:15:17 @monitor.py:467]\u001b[0m GAN_loss/discrim/accuracy_real: 0.206\n",
      "\u001b[32m[1005 17:15:17 @monitor.py:467]\u001b[0m GAN_loss/discrim/loss: 0.64418\n",
      "\u001b[32m[1005 17:15:17 @monitor.py:467]\u001b[0m GAN_loss/gen/final-g-loss: 1.0173\n",
      "\u001b[32m[1005 17:15:17 @monitor.py:467]\u001b[0m GAN_loss/gen/klloss: 0.060507\n",
      "\u001b[32m[1005 17:15:17 @monitor.py:467]\u001b[0m GAN_loss/gen/loss: 0.95679\n",
      "\u001b[32m[1005 17:15:17 @monitor.py:467]\u001b[0m QueueInput/queue_size: 50\n",
      "\u001b[32m[1005 17:15:17 @base.py:275]\u001b[0m Start Epoch 16 ...\n"
     ]
    },
    {
     "name": "stderr",
     "output_type": "stream",
     "text": [
      "\n",
      "100%|###################################################################################|175/175[00:05<00:00,34.04it/s]"
     ]
    },
    {
     "name": "stdout",
     "output_type": "stream",
     "text": [
      "\u001b[32m[1005 17:15:22 @base.py:285]\u001b[0m Epoch 16 (global_step 2800) finished, time:5.14 seconds.\n",
      "\u001b[32m[1005 17:15:22 @saver.py:79]\u001b[0m Model saved to ../output/Chicago/TGAN/model\\model-2800.\n",
      "\u001b[32m[1005 17:15:22 @monitor.py:467]\u001b[0m GAN_loss/discrim/accuracy_fake: 0.88\n",
      "\u001b[32m[1005 17:15:22 @monitor.py:467]\u001b[0m GAN_loss/discrim/accuracy_real: 0.204\n",
      "\u001b[32m[1005 17:15:22 @monitor.py:467]\u001b[0m GAN_loss/discrim/loss: 0.64176\n",
      "\u001b[32m[1005 17:15:22 @monitor.py:467]\u001b[0m GAN_loss/gen/final-g-loss: 1.0159\n",
      "\u001b[32m[1005 17:15:22 @monitor.py:467]\u001b[0m GAN_loss/gen/klloss: 0.059708\n",
      "\u001b[32m[1005 17:15:22 @monitor.py:467]\u001b[0m GAN_loss/gen/loss: 0.95619\n",
      "\u001b[32m[1005 17:15:22 @monitor.py:467]\u001b[0m QueueInput/queue_size: 50\n",
      "\u001b[32m[1005 17:15:22 @base.py:275]\u001b[0m Start Epoch 17 ...\n"
     ]
    },
    {
     "name": "stderr",
     "output_type": "stream",
     "text": [
      "\n",
      "100%|###################################################################################|175/175[00:05<00:00,34.15it/s]"
     ]
    },
    {
     "name": "stdout",
     "output_type": "stream",
     "text": [
      "\u001b[32m[1005 17:15:28 @base.py:285]\u001b[0m Epoch 17 (global_step 2975) finished, time:5.13 seconds.\n",
      "\u001b[32m[1005 17:15:28 @saver.py:79]\u001b[0m Model saved to ../output/Chicago/TGAN/model\\model-2975.\n",
      "\u001b[32m[1005 17:15:28 @monitor.py:467]\u001b[0m GAN_loss/discrim/accuracy_fake: 0.908\n",
      "\u001b[32m[1005 17:15:28 @monitor.py:467]\u001b[0m GAN_loss/discrim/accuracy_real: 0.198\n",
      "\u001b[32m[1005 17:15:28 @monitor.py:467]\u001b[0m GAN_loss/discrim/loss: 0.63455\n",
      "\u001b[32m[1005 17:15:28 @monitor.py:467]\u001b[0m GAN_loss/gen/final-g-loss: 1.0163\n",
      "\u001b[32m[1005 17:15:28 @monitor.py:467]\u001b[0m GAN_loss/gen/klloss: 0.05847\n",
      "\u001b[32m[1005 17:15:28 @monitor.py:467]\u001b[0m GAN_loss/gen/loss: 0.95784\n",
      "\u001b[32m[1005 17:15:28 @monitor.py:467]\u001b[0m QueueInput/queue_size: 50\n",
      "\u001b[32m[1005 17:15:28 @base.py:275]\u001b[0m Start Epoch 18 ...\n"
     ]
    },
    {
     "name": "stderr",
     "output_type": "stream",
     "text": [
      "\n",
      "100%|###################################################################################|175/175[00:05<00:00,32.86it/s]"
     ]
    },
    {
     "name": "stdout",
     "output_type": "stream",
     "text": [
      "\u001b[32m[1005 17:15:33 @base.py:285]\u001b[0m Epoch 18 (global_step 3150) finished, time:5.33 seconds.\n"
     ]
    },
    {
     "name": "stderr",
     "output_type": "stream",
     "text": [
      "\n"
     ]
    },
    {
     "name": "stdout",
     "output_type": "stream",
     "text": [
      "\u001b[32m[1005 17:15:33 @saver.py:79]\u001b[0m Model saved to ../output/Chicago/TGAN/model\\model-3150.\n",
      "\u001b[32m[1005 17:15:33 @monitor.py:467]\u001b[0m GAN_loss/discrim/accuracy_fake: 0.888\n",
      "\u001b[32m[1005 17:15:33 @monitor.py:467]\u001b[0m GAN_loss/discrim/accuracy_real: 0.238\n",
      "\u001b[32m[1005 17:15:33 @monitor.py:467]\u001b[0m GAN_loss/discrim/loss: 0.63471\n",
      "\u001b[32m[1005 17:15:33 @monitor.py:467]\u001b[0m GAN_loss/gen/final-g-loss: 1.0058\n",
      "\u001b[32m[1005 17:15:33 @monitor.py:467]\u001b[0m GAN_loss/gen/klloss: 0.045661\n",
      "\u001b[32m[1005 17:15:33 @monitor.py:467]\u001b[0m GAN_loss/gen/loss: 0.96019\n",
      "\u001b[32m[1005 17:15:33 @monitor.py:467]\u001b[0m QueueInput/queue_size: 50\n",
      "\u001b[32m[1005 17:15:33 @base.py:275]\u001b[0m Start Epoch 19 ...\n"
     ]
    },
    {
     "name": "stderr",
     "output_type": "stream",
     "text": [
      "100%|###################################################################################|175/175[00:05<00:00,30.65it/s]"
     ]
    },
    {
     "name": "stdout",
     "output_type": "stream",
     "text": [
      "\u001b[32m[1005 17:15:39 @base.py:285]\u001b[0m Epoch 19 (global_step 3325) finished, time:5.71 seconds.\n",
      "\u001b[32m[1005 17:15:39 @saver.py:79]\u001b[0m Model saved to ../output/Chicago/TGAN/model\\model-3325.\n",
      "\u001b[32m[1005 17:15:39 @monitor.py:467]\u001b[0m GAN_loss/discrim/accuracy_fake: 0.884\n",
      "\u001b[32m[1005 17:15:39 @monitor.py:467]\u001b[0m GAN_loss/discrim/accuracy_real: 0.242\n",
      "\u001b[32m[1005 17:15:39 @monitor.py:467]\u001b[0m GAN_loss/discrim/loss: 0.63624\n",
      "\u001b[32m[1005 17:15:39 @monitor.py:467]\u001b[0m GAN_loss/gen/final-g-loss: 1.0143\n",
      "\u001b[32m[1005 17:15:39 @monitor.py:467]\u001b[0m GAN_loss/gen/klloss: 0.038699\n",
      "\u001b[32m[1005 17:15:39 @monitor.py:467]\u001b[0m GAN_loss/gen/loss: 0.97558\n",
      "\u001b[32m[1005 17:15:39 @monitor.py:467]\u001b[0m QueueInput/queue_size: 50\n",
      "\u001b[32m[1005 17:15:39 @base.py:275]\u001b[0m Start Epoch 20 ...\n"
     ]
    },
    {
     "name": "stderr",
     "output_type": "stream",
     "text": [
      "\n",
      "100%|###################################################################################|175/175[00:05<00:00,31.24it/s]"
     ]
    },
    {
     "name": "stdout",
     "output_type": "stream",
     "text": [
      "\u001b[32m[1005 17:15:44 @base.py:285]\u001b[0m Epoch 20 (global_step 3500) finished, time:5.6 seconds.\n",
      "\u001b[32m[1005 17:15:44 @saver.py:79]\u001b[0m Model saved to ../output/Chicago/TGAN/model\\model-3500.\n",
      "\u001b[32m[1005 17:15:44 @monitor.py:467]\u001b[0m GAN_loss/discrim/accuracy_fake: 0.868\n",
      "\u001b[32m[1005 17:15:44 @monitor.py:467]\u001b[0m GAN_loss/discrim/accuracy_real: 0.248\n",
      "\u001b[32m[1005 17:15:44 @monitor.py:467]\u001b[0m GAN_loss/discrim/loss: 0.64434\n",
      "\u001b[32m[1005 17:15:44 @monitor.py:467]\u001b[0m GAN_loss/gen/final-g-loss: 1.0159\n",
      "\u001b[32m[1005 17:15:44 @monitor.py:467]\u001b[0m GAN_loss/gen/klloss: 0.069639\n",
      "\u001b[32m[1005 17:15:44 @monitor.py:467]\u001b[0m GAN_loss/gen/loss: 0.94626\n",
      "\u001b[32m[1005 17:15:44 @monitor.py:467]\u001b[0m QueueInput/queue_size: 50\n",
      "\u001b[32m[1005 17:15:44 @base.py:275]\u001b[0m Start Epoch 21 ...\n"
     ]
    },
    {
     "name": "stderr",
     "output_type": "stream",
     "text": [
      "\n",
      "100%|###################################################################################|175/175[00:05<00:00,31.27it/s]"
     ]
    },
    {
     "name": "stdout",
     "output_type": "stream",
     "text": [
      "\u001b[32m[1005 17:15:50 @base.py:285]\u001b[0m Epoch 21 (global_step 3675) finished, time:5.6 seconds.\n",
      "\u001b[32m[1005 17:15:50 @saver.py:79]\u001b[0m Model saved to ../output/Chicago/TGAN/model\\model-3675.\n",
      "\u001b[32m[1005 17:15:50 @monitor.py:467]\u001b[0m GAN_loss/discrim/accuracy_fake: 0.882\n",
      "\u001b[32m[1005 17:15:50 @monitor.py:467]\u001b[0m GAN_loss/discrim/accuracy_real: 0.226\n",
      "\u001b[32m[1005 17:15:50 @monitor.py:467]\u001b[0m GAN_loss/discrim/loss: 0.63546\n",
      "\u001b[32m[1005 17:15:50 @monitor.py:467]\u001b[0m GAN_loss/gen/final-g-loss: 1.0426\n",
      "\u001b[32m[1005 17:15:50 @monitor.py:467]\u001b[0m GAN_loss/gen/klloss: 0.061739\n",
      "\u001b[32m[1005 17:15:50 @monitor.py:467]\u001b[0m GAN_loss/gen/loss: 0.9809\n",
      "\u001b[32m[1005 17:15:50 @monitor.py:467]\u001b[0m QueueInput/queue_size: 50\n",
      "\u001b[32m[1005 17:15:50 @base.py:275]\u001b[0m Start Epoch 22 ...\n"
     ]
    },
    {
     "name": "stderr",
     "output_type": "stream",
     "text": [
      "\n",
      "100%|###################################################################################|175/175[00:05<00:00,31.28it/s]"
     ]
    },
    {
     "name": "stdout",
     "output_type": "stream",
     "text": [
      "\u001b[32m[1005 17:15:56 @base.py:285]\u001b[0m Epoch 22 (global_step 3850) finished, time:5.59 seconds.\n",
      "\u001b[32m[1005 17:15:56 @saver.py:79]\u001b[0m Model saved to ../output/Chicago/TGAN/model\\model-3850.\n",
      "\u001b[32m[1005 17:15:56 @monitor.py:467]\u001b[0m GAN_loss/discrim/accuracy_fake: 0.878\n",
      "\u001b[32m[1005 17:15:56 @monitor.py:467]\u001b[0m GAN_loss/discrim/accuracy_real: 0.222\n",
      "\u001b[32m[1005 17:15:56 @monitor.py:467]\u001b[0m GAN_loss/discrim/loss: 0.63705\n",
      "\u001b[32m[1005 17:15:56 @monitor.py:467]\u001b[0m GAN_loss/gen/final-g-loss: 1.1156\n",
      "\u001b[32m[1005 17:15:56 @monitor.py:467]\u001b[0m GAN_loss/gen/klloss: 0.14081\n",
      "\u001b[32m[1005 17:15:56 @monitor.py:467]\u001b[0m GAN_loss/gen/loss: 0.9748\n",
      "\u001b[32m[1005 17:15:56 @monitor.py:467]\u001b[0m QueueInput/queue_size: 50\n",
      "\u001b[32m[1005 17:15:56 @base.py:275]\u001b[0m Start Epoch 23 ...\n"
     ]
    },
    {
     "name": "stderr",
     "output_type": "stream",
     "text": [
      "\n",
      "100%|###################################################################################|175/175[00:05<00:00,31.88it/s]"
     ]
    },
    {
     "name": "stdout",
     "output_type": "stream",
     "text": [
      "\u001b[32m[1005 17:16:01 @base.py:285]\u001b[0m Epoch 23 (global_step 4025) finished, time:5.49 seconds.\n",
      "\u001b[32m[1005 17:16:01 @saver.py:79]\u001b[0m Model saved to ../output/Chicago/TGAN/model\\model-4025.\n",
      "\u001b[32m[1005 17:16:01 @monitor.py:467]\u001b[0m GAN_loss/discrim/accuracy_fake: 0.884\n",
      "\u001b[32m[1005 17:16:01 @monitor.py:467]\u001b[0m GAN_loss/discrim/accuracy_real: 0.226\n",
      "\u001b[32m[1005 17:16:01 @monitor.py:467]\u001b[0m GAN_loss/discrim/loss: 0.63727\n",
      "\u001b[32m[1005 17:16:01 @monitor.py:467]\u001b[0m GAN_loss/gen/final-g-loss: 1.0287\n",
      "\u001b[32m[1005 17:16:01 @monitor.py:467]\u001b[0m GAN_loss/gen/klloss: 0.058839\n",
      "\u001b[32m[1005 17:16:01 @monitor.py:467]\u001b[0m GAN_loss/gen/loss: 0.96985\n",
      "\u001b[32m[1005 17:16:01 @monitor.py:467]\u001b[0m QueueInput/queue_size: 50\n",
      "\u001b[32m[1005 17:16:01 @base.py:275]\u001b[0m Start Epoch 24 ...\n"
     ]
    },
    {
     "name": "stderr",
     "output_type": "stream",
     "text": [
      "\n",
      "100%|###################################################################################|175/175[00:05<00:00,32.12it/s]"
     ]
    },
    {
     "name": "stdout",
     "output_type": "stream",
     "text": [
      "\u001b[32m[1005 17:16:07 @base.py:285]\u001b[0m Epoch 24 (global_step 4200) finished, time:5.45 seconds.\n",
      "\u001b[32m[1005 17:16:07 @saver.py:79]\u001b[0m Model saved to ../output/Chicago/TGAN/model\\model-4200.\n",
      "\u001b[32m[1005 17:16:07 @monitor.py:467]\u001b[0m GAN_loss/discrim/accuracy_fake: 0.87\n",
      "\u001b[32m[1005 17:16:07 @monitor.py:467]\u001b[0m GAN_loss/discrim/accuracy_real: 0.236\n",
      "\u001b[32m[1005 17:16:07 @monitor.py:467]\u001b[0m GAN_loss/discrim/loss: 0.63939\n",
      "\u001b[32m[1005 17:16:07 @monitor.py:467]\u001b[0m GAN_loss/gen/final-g-loss: 1.0389\n",
      "\u001b[32m[1005 17:16:07 @monitor.py:467]\u001b[0m GAN_loss/gen/klloss: 0.064474\n",
      "\u001b[32m[1005 17:16:07 @monitor.py:467]\u001b[0m GAN_loss/gen/loss: 0.97443\n",
      "\u001b[32m[1005 17:16:07 @monitor.py:467]\u001b[0m QueueInput/queue_size: 50\n",
      "\u001b[32m[1005 17:16:07 @base.py:275]\u001b[0m Start Epoch 25 ...\n"
     ]
    },
    {
     "name": "stderr",
     "output_type": "stream",
     "text": [
      "\n",
      "100%|###################################################################################|175/175[00:05<00:00,31.03it/s]"
     ]
    },
    {
     "name": "stdout",
     "output_type": "stream",
     "text": [
      "\u001b[32m[1005 17:16:13 @base.py:285]\u001b[0m Epoch 25 (global_step 4375) finished, time:5.64 seconds.\n",
      "\u001b[32m[1005 17:16:13 @saver.py:79]\u001b[0m Model saved to ../output/Chicago/TGAN/model\\model-4375.\n",
      "\u001b[32m[1005 17:16:13 @monitor.py:467]\u001b[0m GAN_loss/discrim/accuracy_fake: 0.876\n",
      "\u001b[32m[1005 17:16:13 @monitor.py:467]\u001b[0m GAN_loss/discrim/accuracy_real: 0.23\n",
      "\u001b[32m[1005 17:16:13 @monitor.py:467]\u001b[0m GAN_loss/discrim/loss: 0.63764\n",
      "\u001b[32m[1005 17:16:13 @monitor.py:467]\u001b[0m GAN_loss/gen/final-g-loss: 1.047\n",
      "\u001b[32m[1005 17:16:13 @monitor.py:467]\u001b[0m GAN_loss/gen/klloss: 0.070266\n",
      "\u001b[32m[1005 17:16:13 @monitor.py:467]\u001b[0m GAN_loss/gen/loss: 0.97675\n",
      "\u001b[32m[1005 17:16:13 @monitor.py:467]\u001b[0m QueueInput/queue_size: 50\n",
      "\u001b[32m[1005 17:16:13 @base.py:275]\u001b[0m Start Epoch 26 ...\n"
     ]
    },
    {
     "name": "stderr",
     "output_type": "stream",
     "text": [
      "\n",
      "100%|###################################################################################|175/175[00:05<00:00,33.30it/s]"
     ]
    },
    {
     "name": "stdout",
     "output_type": "stream",
     "text": [
      "\u001b[32m[1005 17:16:18 @base.py:285]\u001b[0m Epoch 26 (global_step 4550) finished, time:5.26 seconds.\n",
      "\u001b[32m[1005 17:16:18 @saver.py:79]\u001b[0m Model saved to ../output/Chicago/TGAN/model\\model-4550.\n",
      "\u001b[32m[1005 17:16:18 @monitor.py:467]\u001b[0m GAN_loss/discrim/accuracy_fake: 0.89\n",
      "\u001b[32m[1005 17:16:18 @monitor.py:467]\u001b[0m GAN_loss/discrim/accuracy_real: 0.248\n",
      "\u001b[32m[1005 17:16:18 @monitor.py:467]\u001b[0m GAN_loss/discrim/loss: 0.63748\n",
      "\u001b[32m[1005 17:16:18 @monitor.py:467]\u001b[0m GAN_loss/gen/final-g-loss: 1.0495\n",
      "\u001b[32m[1005 17:16:18 @monitor.py:467]\u001b[0m GAN_loss/gen/klloss: 0.087697\n",
      "\u001b[32m[1005 17:16:18 @monitor.py:467]\u001b[0m GAN_loss/gen/loss: 0.96178\n",
      "\u001b[32m[1005 17:16:18 @monitor.py:467]\u001b[0m QueueInput/queue_size: 50\n",
      "\u001b[32m[1005 17:16:18 @base.py:275]\u001b[0m Start Epoch 27 ...\n"
     ]
    },
    {
     "name": "stderr",
     "output_type": "stream",
     "text": [
      "\n",
      "100%|###################################################################################|175/175[00:05<00:00,33.95it/s]"
     ]
    },
    {
     "name": "stdout",
     "output_type": "stream",
     "text": [
      "\u001b[32m[1005 17:16:23 @base.py:285]\u001b[0m Epoch 27 (global_step 4725) finished, time:5.15 seconds.\n",
      "\u001b[32m[1005 17:16:23 @saver.py:79]\u001b[0m Model saved to ../output/Chicago/TGAN/model\\model-4725.\n",
      "\u001b[32m[1005 17:16:23 @monitor.py:467]\u001b[0m GAN_loss/discrim/accuracy_fake: 0.888\n",
      "\u001b[32m[1005 17:16:23 @monitor.py:467]\u001b[0m GAN_loss/discrim/accuracy_real: 0.246\n",
      "\u001b[32m[1005 17:16:23 @monitor.py:467]\u001b[0m GAN_loss/discrim/loss: 0.63173\n",
      "\u001b[32m[1005 17:16:23 @monitor.py:467]\u001b[0m GAN_loss/gen/final-g-loss: 1.0497\n",
      "\u001b[32m[1005 17:16:23 @monitor.py:467]\u001b[0m GAN_loss/gen/klloss: 0.064336\n",
      "\u001b[32m[1005 17:16:23 @monitor.py:467]\u001b[0m GAN_loss/gen/loss: 0.98539\n",
      "\u001b[32m[1005 17:16:23 @monitor.py:467]\u001b[0m QueueInput/queue_size: 50\n",
      "\u001b[32m[1005 17:16:23 @base.py:275]\u001b[0m Start Epoch 28 ...\n"
     ]
    },
    {
     "name": "stderr",
     "output_type": "stream",
     "text": [
      "\n",
      "100%|###################################################################################|175/175[00:05<00:00,32.83it/s]"
     ]
    },
    {
     "name": "stdout",
     "output_type": "stream",
     "text": [
      "\u001b[32m[1005 17:16:28 @base.py:285]\u001b[0m Epoch 28 (global_step 4900) finished, time:5.33 seconds.\n",
      "\u001b[32m[1005 17:16:29 @saver.py:79]\u001b[0m Model saved to ../output/Chicago/TGAN/model\\model-4900.\n",
      "\u001b[32m[1005 17:16:29 @monitor.py:467]\u001b[0m GAN_loss/discrim/accuracy_fake: 0.884\n",
      "\u001b[32m[1005 17:16:29 @monitor.py:467]\u001b[0m GAN_loss/discrim/accuracy_real: 0.212\n",
      "\u001b[32m[1005 17:16:29 @monitor.py:467]\u001b[0m GAN_loss/discrim/loss: 0.63885\n",
      "\u001b[32m[1005 17:16:29 @monitor.py:467]\u001b[0m GAN_loss/gen/final-g-loss: 1.0589\n",
      "\u001b[32m[1005 17:16:29 @monitor.py:467]\u001b[0m GAN_loss/gen/klloss: 0.087462\n",
      "\u001b[32m[1005 17:16:29 @monitor.py:467]\u001b[0m GAN_loss/gen/loss: 0.97143\n",
      "\u001b[32m[1005 17:16:29 @monitor.py:467]\u001b[0m QueueInput/queue_size: 50\n",
      "\u001b[32m[1005 17:16:29 @base.py:275]\u001b[0m Start Epoch 29 ...\n"
     ]
    },
    {
     "name": "stderr",
     "output_type": "stream",
     "text": [
      "\n",
      "100%|###################################################################################|175/175[00:05<00:00,32.41it/s]"
     ]
    },
    {
     "name": "stdout",
     "output_type": "stream",
     "text": [
      "\u001b[32m[1005 17:16:34 @base.py:285]\u001b[0m Epoch 29 (global_step 5075) finished, time:5.4 seconds.\n",
      "\u001b[32m[1005 17:16:34 @saver.py:79]\u001b[0m Model saved to ../output/Chicago/TGAN/model\\model-5075.\n",
      "\u001b[32m[1005 17:16:34 @monitor.py:467]\u001b[0m GAN_loss/discrim/accuracy_fake: 0.856\n",
      "\u001b[32m[1005 17:16:34 @monitor.py:467]\u001b[0m GAN_loss/discrim/accuracy_real: 0.222\n",
      "\u001b[32m[1005 17:16:34 @monitor.py:467]\u001b[0m GAN_loss/discrim/loss: 0.64827\n",
      "\u001b[32m[1005 17:16:34 @monitor.py:467]\u001b[0m GAN_loss/gen/final-g-loss: 1.0045\n",
      "\u001b[32m[1005 17:16:34 @monitor.py:467]\u001b[0m GAN_loss/gen/klloss: 0.052502\n",
      "\u001b[32m[1005 17:16:34 @monitor.py:467]\u001b[0m GAN_loss/gen/loss: 0.95201\n",
      "\u001b[32m[1005 17:16:34 @monitor.py:467]\u001b[0m QueueInput/queue_size: 50\n",
      "\u001b[32m[1005 17:16:34 @base.py:275]\u001b[0m Start Epoch 30 ...\n"
     ]
    },
    {
     "name": "stderr",
     "output_type": "stream",
     "text": [
      "\n",
      "100%|###################################################################################|175/175[00:05<00:00,33.87it/s]"
     ]
    },
    {
     "name": "stdout",
     "output_type": "stream",
     "text": [
      "\u001b[32m[1005 17:16:39 @base.py:285]\u001b[0m Epoch 30 (global_step 5250) finished, time:5.17 seconds.\n",
      "\u001b[32m[1005 17:16:39 @saver.py:79]\u001b[0m Model saved to ../output/Chicago/TGAN/model\\model-5250.\n",
      "\u001b[32m[1005 17:16:39 @monitor.py:467]\u001b[0m GAN_loss/discrim/accuracy_fake: 0.884\n",
      "\u001b[32m[1005 17:16:39 @monitor.py:467]\u001b[0m GAN_loss/discrim/accuracy_real: 0.216\n",
      "\u001b[32m[1005 17:16:39 @monitor.py:467]\u001b[0m GAN_loss/discrim/loss: 0.63874\n",
      "\u001b[32m[1005 17:16:39 @monitor.py:467]\u001b[0m GAN_loss/gen/final-g-loss: 1.0496\n",
      "\u001b[32m[1005 17:16:39 @monitor.py:467]\u001b[0m GAN_loss/gen/klloss: 0.069816\n",
      "\u001b[32m[1005 17:16:39 @monitor.py:467]\u001b[0m GAN_loss/gen/loss: 0.97976\n",
      "\u001b[32m[1005 17:16:39 @monitor.py:467]\u001b[0m QueueInput/queue_size: 50\n",
      "\u001b[32m[1005 17:16:39 @base.py:275]\u001b[0m Start Epoch 31 ...\n"
     ]
    },
    {
     "name": "stderr",
     "output_type": "stream",
     "text": [
      "\n",
      "100%|###################################################################################|175/175[00:05<00:00,33.61it/s]"
     ]
    },
    {
     "name": "stdout",
     "output_type": "stream",
     "text": [
      "\u001b[32m[1005 17:16:44 @base.py:285]\u001b[0m Epoch 31 (global_step 5425) finished, time:5.21 seconds.\n",
      "\u001b[32m[1005 17:16:45 @saver.py:79]\u001b[0m Model saved to ../output/Chicago/TGAN/model\\model-5425.\n",
      "\u001b[32m[1005 17:16:45 @monitor.py:467]\u001b[0m GAN_loss/discrim/accuracy_fake: 0.884\n",
      "\u001b[32m[1005 17:16:45 @monitor.py:467]\u001b[0m GAN_loss/discrim/accuracy_real: 0.248\n",
      "\u001b[32m[1005 17:16:45 @monitor.py:467]\u001b[0m GAN_loss/discrim/loss: 0.6272\n",
      "\u001b[32m[1005 17:16:45 @monitor.py:467]\u001b[0m GAN_loss/gen/final-g-loss: 1.0377\n",
      "\u001b[32m[1005 17:16:45 @monitor.py:467]\u001b[0m GAN_loss/gen/klloss: 0.04814\n",
      "\u001b[32m[1005 17:16:45 @monitor.py:467]\u001b[0m GAN_loss/gen/loss: 0.98951\n",
      "\u001b[32m[1005 17:16:45 @monitor.py:467]\u001b[0m QueueInput/queue_size: 50\n",
      "\u001b[32m[1005 17:16:45 @base.py:275]\u001b[0m Start Epoch 32 ...\n"
     ]
    },
    {
     "name": "stderr",
     "output_type": "stream",
     "text": [
      "\n",
      "100%|###################################################################################|175/175[00:05<00:00,34.12it/s]"
     ]
    },
    {
     "name": "stdout",
     "output_type": "stream",
     "text": [
      "\u001b[32m[1005 17:16:50 @base.py:285]\u001b[0m Epoch 32 (global_step 5600) finished, time:5.13 seconds.\n",
      "\u001b[32m[1005 17:16:50 @saver.py:79]\u001b[0m Model saved to ../output/Chicago/TGAN/model\\model-5600.\n",
      "\u001b[32m[1005 17:16:50 @monitor.py:467]\u001b[0m GAN_loss/discrim/accuracy_fake: 0.914\n",
      "\u001b[32m[1005 17:16:50 @monitor.py:467]\u001b[0m GAN_loss/discrim/accuracy_real: 0.256\n",
      "\u001b[32m[1005 17:16:50 @monitor.py:467]\u001b[0m GAN_loss/discrim/loss: 0.62908\n",
      "\u001b[32m[1005 17:16:50 @monitor.py:467]\u001b[0m GAN_loss/gen/final-g-loss: 1.0346\n",
      "\u001b[32m[1005 17:16:50 @monitor.py:467]\u001b[0m GAN_loss/gen/klloss: 0.046829\n",
      "\u001b[32m[1005 17:16:50 @monitor.py:467]\u001b[0m GAN_loss/gen/loss: 0.98781\n",
      "\u001b[32m[1005 17:16:50 @monitor.py:467]\u001b[0m QueueInput/queue_size: 50\n",
      "\u001b[32m[1005 17:16:50 @base.py:275]\u001b[0m Start Epoch 33 ...\n"
     ]
    },
    {
     "name": "stderr",
     "output_type": "stream",
     "text": [
      "\n",
      "100%|###################################################################################|175/175[00:05<00:00,34.13it/s]"
     ]
    },
    {
     "name": "stdout",
     "output_type": "stream",
     "text": [
      "\u001b[32m[1005 17:16:55 @base.py:285]\u001b[0m Epoch 33 (global_step 5775) finished, time:5.13 seconds.\n",
      "\u001b[32m[1005 17:16:55 @saver.py:79]\u001b[0m Model saved to ../output/Chicago/TGAN/model\\model-5775.\n",
      "\u001b[32m[1005 17:16:55 @monitor.py:467]\u001b[0m GAN_loss/discrim/accuracy_fake: 0.906\n",
      "\u001b[32m[1005 17:16:55 @monitor.py:467]\u001b[0m GAN_loss/discrim/accuracy_real: 0.202\n",
      "\u001b[32m[1005 17:16:55 @monitor.py:467]\u001b[0m GAN_loss/discrim/loss: 0.63129\n",
      "\u001b[32m[1005 17:16:55 @monitor.py:467]\u001b[0m GAN_loss/gen/final-g-loss: 1.0552\n",
      "\u001b[32m[1005 17:16:55 @monitor.py:467]\u001b[0m GAN_loss/gen/klloss: 0.064429\n",
      "\u001b[32m[1005 17:16:55 @monitor.py:467]\u001b[0m GAN_loss/gen/loss: 0.99076\n",
      "\u001b[32m[1005 17:16:55 @monitor.py:467]\u001b[0m QueueInput/queue_size: 50\n",
      "\u001b[32m[1005 17:16:55 @base.py:275]\u001b[0m Start Epoch 34 ...\n"
     ]
    },
    {
     "name": "stderr",
     "output_type": "stream",
     "text": [
      "\n",
      "100%|###################################################################################|175/175[00:05<00:00,34.15it/s]"
     ]
    },
    {
     "name": "stdout",
     "output_type": "stream",
     "text": [
      "\u001b[32m[1005 17:17:00 @base.py:285]\u001b[0m Epoch 34 (global_step 5950) finished, time:5.13 seconds.\n",
      "\u001b[32m[1005 17:17:00 @saver.py:79]\u001b[0m Model saved to ../output/Chicago/TGAN/model\\model-5950.\n",
      "\u001b[32m[1005 17:17:00 @monitor.py:467]\u001b[0m GAN_loss/discrim/accuracy_fake: 0.9\n",
      "\u001b[32m[1005 17:17:00 @monitor.py:467]\u001b[0m GAN_loss/discrim/accuracy_real: 0.188\n",
      "\u001b[32m[1005 17:17:00 @monitor.py:467]\u001b[0m GAN_loss/discrim/loss: 0.63809\n",
      "\u001b[32m[1005 17:17:00 @monitor.py:467]\u001b[0m GAN_loss/gen/final-g-loss: 1.019\n",
      "\u001b[32m[1005 17:17:00 @monitor.py:467]\u001b[0m GAN_loss/gen/klloss: 0.046747\n",
      "\u001b[32m[1005 17:17:00 @monitor.py:467]\u001b[0m GAN_loss/gen/loss: 0.97229\n",
      "\u001b[32m[1005 17:17:00 @monitor.py:467]\u001b[0m QueueInput/queue_size: 50\n",
      "\u001b[32m[1005 17:17:00 @base.py:275]\u001b[0m Start Epoch 35 ...\n"
     ]
    },
    {
     "name": "stderr",
     "output_type": "stream",
     "text": [
      "\n",
      "100%|###################################################################################|175/175[00:05<00:00,34.13it/s]"
     ]
    },
    {
     "name": "stdout",
     "output_type": "stream",
     "text": [
      "\u001b[32m[1005 17:17:05 @base.py:285]\u001b[0m Epoch 35 (global_step 6125) finished, time:5.13 seconds.\n",
      "\u001b[32m[1005 17:17:05 @saver.py:79]\u001b[0m Model saved to ../output/Chicago/TGAN/model\\model-6125.\n",
      "\u001b[32m[1005 17:17:05 @monitor.py:467]\u001b[0m GAN_loss/discrim/accuracy_fake: 0.874\n",
      "\u001b[32m[1005 17:17:05 @monitor.py:467]\u001b[0m GAN_loss/discrim/accuracy_real: 0.246\n",
      "\u001b[32m[1005 17:17:05 @monitor.py:467]\u001b[0m GAN_loss/discrim/loss: 0.63327\n",
      "\u001b[32m[1005 17:17:05 @monitor.py:467]\u001b[0m GAN_loss/gen/final-g-loss: 1.0034\n",
      "\u001b[32m[1005 17:17:05 @monitor.py:467]\u001b[0m GAN_loss/gen/klloss: 0.042871\n",
      "\u001b[32m[1005 17:17:05 @monitor.py:467]\u001b[0m GAN_loss/gen/loss: 0.9605\n",
      "\u001b[32m[1005 17:17:05 @monitor.py:467]\u001b[0m QueueInput/queue_size: 50\n",
      "\u001b[32m[1005 17:17:05 @base.py:275]\u001b[0m Start Epoch 36 ...\n"
     ]
    },
    {
     "name": "stderr",
     "output_type": "stream",
     "text": [
      "\n",
      "100%|###################################################################################|175/175[00:05<00:00,34.13it/s]"
     ]
    },
    {
     "name": "stdout",
     "output_type": "stream",
     "text": [
      "\u001b[32m[1005 17:17:10 @base.py:285]\u001b[0m Epoch 36 (global_step 6300) finished, time:5.13 seconds.\n",
      "\u001b[32m[1005 17:17:11 @saver.py:79]\u001b[0m Model saved to ../output/Chicago/TGAN/model\\model-6300.\n",
      "\u001b[32m[1005 17:17:11 @monitor.py:467]\u001b[0m GAN_loss/discrim/accuracy_fake: 0.898\n",
      "\u001b[32m[1005 17:17:11 @monitor.py:467]\u001b[0m GAN_loss/discrim/accuracy_real: 0.192\n",
      "\u001b[32m[1005 17:17:11 @monitor.py:467]\u001b[0m GAN_loss/discrim/loss: 0.63239\n",
      "\u001b[32m[1005 17:17:11 @monitor.py:467]\u001b[0m GAN_loss/gen/final-g-loss: 1.032\n",
      "\u001b[32m[1005 17:17:11 @monitor.py:467]\u001b[0m GAN_loss/gen/klloss: 0.056133\n",
      "\u001b[32m[1005 17:17:11 @monitor.py:467]\u001b[0m GAN_loss/gen/loss: 0.97584\n",
      "\u001b[32m[1005 17:17:11 @monitor.py:467]\u001b[0m QueueInput/queue_size: 50\n",
      "\u001b[32m[1005 17:17:11 @base.py:275]\u001b[0m Start Epoch 37 ...\n"
     ]
    },
    {
     "name": "stderr",
     "output_type": "stream",
     "text": [
      "\n",
      "100%|###################################################################################|175/175[00:05<00:00,34.14it/s]"
     ]
    },
    {
     "name": "stdout",
     "output_type": "stream",
     "text": [
      "\u001b[32m[1005 17:17:16 @base.py:285]\u001b[0m Epoch 37 (global_step 6475) finished, time:5.13 seconds.\n",
      "\u001b[32m[1005 17:17:16 @saver.py:79]\u001b[0m Model saved to ../output/Chicago/TGAN/model\\model-6475.\n",
      "\u001b[32m[1005 17:17:16 @monitor.py:467]\u001b[0m GAN_loss/discrim/accuracy_fake: 0.894\n",
      "\u001b[32m[1005 17:17:16 @monitor.py:467]\u001b[0m GAN_loss/discrim/accuracy_real: 0.19\n",
      "\u001b[32m[1005 17:17:16 @monitor.py:467]\u001b[0m GAN_loss/discrim/loss: 0.64118\n",
      "\u001b[32m[1005 17:17:16 @monitor.py:467]\u001b[0m GAN_loss/gen/final-g-loss: 1.0288\n",
      "\u001b[32m[1005 17:17:16 @monitor.py:467]\u001b[0m GAN_loss/gen/klloss: 0.052992\n",
      "\u001b[32m[1005 17:17:16 @monitor.py:467]\u001b[0m GAN_loss/gen/loss: 0.97582\n",
      "\u001b[32m[1005 17:17:16 @monitor.py:467]\u001b[0m QueueInput/queue_size: 50\n",
      "\u001b[32m[1005 17:17:16 @base.py:275]\u001b[0m Start Epoch 38 ...\n"
     ]
    },
    {
     "name": "stderr",
     "output_type": "stream",
     "text": [
      "\n",
      "100%|###################################################################################|175/175[00:05<00:00,34.10it/s]"
     ]
    },
    {
     "name": "stdout",
     "output_type": "stream",
     "text": [
      "\u001b[32m[1005 17:17:21 @base.py:285]\u001b[0m Epoch 38 (global_step 6650) finished, time:5.13 seconds.\n",
      "\u001b[32m[1005 17:17:21 @saver.py:79]\u001b[0m Model saved to ../output/Chicago/TGAN/model\\model-6650.\n",
      "\u001b[32m[1005 17:17:21 @monitor.py:467]\u001b[0m GAN_loss/discrim/accuracy_fake: 0.868\n",
      "\u001b[32m[1005 17:17:21 @monitor.py:467]\u001b[0m GAN_loss/discrim/accuracy_real: 0.228\n",
      "\u001b[32m[1005 17:17:21 @monitor.py:467]\u001b[0m GAN_loss/discrim/loss: 0.64644\n",
      "\u001b[32m[1005 17:17:21 @monitor.py:467]\u001b[0m GAN_loss/gen/final-g-loss: 1.0159\n",
      "\u001b[32m[1005 17:17:21 @monitor.py:467]\u001b[0m GAN_loss/gen/klloss: 0.060644\n",
      "\u001b[32m[1005 17:17:21 @monitor.py:467]\u001b[0m GAN_loss/gen/loss: 0.9553\n",
      "\u001b[32m[1005 17:17:21 @monitor.py:467]\u001b[0m QueueInput/queue_size: 50\n",
      "\u001b[32m[1005 17:17:21 @base.py:275]\u001b[0m Start Epoch 39 ...\n"
     ]
    },
    {
     "name": "stderr",
     "output_type": "stream",
     "text": [
      "\n",
      "100%|###################################################################################|175/175[00:05<00:00,34.16it/s]"
     ]
    },
    {
     "name": "stdout",
     "output_type": "stream",
     "text": [
      "\u001b[32m[1005 17:17:26 @base.py:285]\u001b[0m Epoch 39 (global_step 6825) finished, time:5.12 seconds.\n",
      "\u001b[32m[1005 17:17:26 @saver.py:79]\u001b[0m Model saved to ../output/Chicago/TGAN/model\\model-6825.\n",
      "\u001b[32m[1005 17:17:26 @monitor.py:467]\u001b[0m GAN_loss/discrim/accuracy_fake: 0.878\n",
      "\u001b[32m[1005 17:17:26 @monitor.py:467]\u001b[0m GAN_loss/discrim/accuracy_real: 0.21\n",
      "\u001b[32m[1005 17:17:26 @monitor.py:467]\u001b[0m GAN_loss/discrim/loss: 0.63758\n",
      "\u001b[32m[1005 17:17:26 @monitor.py:467]\u001b[0m GAN_loss/gen/final-g-loss: 1.0166\n",
      "\u001b[32m[1005 17:17:26 @monitor.py:467]\u001b[0m GAN_loss/gen/klloss: 0.053636\n",
      "\u001b[32m[1005 17:17:26 @monitor.py:467]\u001b[0m GAN_loss/gen/loss: 0.963\n",
      "\u001b[32m[1005 17:17:26 @monitor.py:467]\u001b[0m QueueInput/queue_size: 50\n",
      "\u001b[32m[1005 17:17:26 @base.py:275]\u001b[0m Start Epoch 40 ...\n"
     ]
    },
    {
     "name": "stderr",
     "output_type": "stream",
     "text": [
      "\n",
      "100%|###################################################################################|175/175[00:05<00:00,34.16it/s]"
     ]
    },
    {
     "name": "stdout",
     "output_type": "stream",
     "text": [
      "\u001b[32m[1005 17:17:31 @base.py:285]\u001b[0m Epoch 40 (global_step 7000) finished, time:5.12 seconds.\n",
      "\u001b[32m[1005 17:17:31 @saver.py:79]\u001b[0m Model saved to ../output/Chicago/TGAN/model\\model-7000.\n",
      "\u001b[32m[1005 17:17:31 @monitor.py:467]\u001b[0m GAN_loss/discrim/accuracy_fake: 0.868\n",
      "\u001b[32m[1005 17:17:31 @monitor.py:467]\u001b[0m GAN_loss/discrim/accuracy_real: 0.212\n",
      "\u001b[32m[1005 17:17:31 @monitor.py:467]\u001b[0m GAN_loss/discrim/loss: 0.63453\n",
      "\u001b[32m[1005 17:17:31 @monitor.py:467]\u001b[0m GAN_loss/gen/final-g-loss: 1.0133\n",
      "\u001b[32m[1005 17:17:31 @monitor.py:467]\u001b[0m GAN_loss/gen/klloss: 0.052305\n",
      "\u001b[32m[1005 17:17:31 @monitor.py:467]\u001b[0m GAN_loss/gen/loss: 0.96104\n",
      "\u001b[32m[1005 17:17:31 @monitor.py:467]\u001b[0m QueueInput/queue_size: 50\n",
      "\u001b[32m[1005 17:17:31 @base.py:275]\u001b[0m Start Epoch 41 ...\n"
     ]
    },
    {
     "name": "stderr",
     "output_type": "stream",
     "text": [
      "\n",
      "100%|###################################################################################|175/175[00:05<00:00,34.13it/s]"
     ]
    },
    {
     "name": "stdout",
     "output_type": "stream",
     "text": [
      "\u001b[32m[1005 17:17:36 @base.py:285]\u001b[0m Epoch 41 (global_step 7175) finished, time:5.13 seconds.\n",
      "\u001b[32m[1005 17:17:37 @saver.py:79]\u001b[0m Model saved to ../output/Chicago/TGAN/model\\model-7175.\n",
      "\u001b[32m[1005 17:17:37 @monitor.py:467]\u001b[0m GAN_loss/discrim/accuracy_fake: 0.88\n",
      "\u001b[32m[1005 17:17:37 @monitor.py:467]\u001b[0m GAN_loss/discrim/accuracy_real: 0.212\n",
      "\u001b[32m[1005 17:17:37 @monitor.py:467]\u001b[0m GAN_loss/discrim/loss: 0.63667\n",
      "\u001b[32m[1005 17:17:37 @monitor.py:467]\u001b[0m GAN_loss/gen/final-g-loss: 1.0368\n",
      "\u001b[32m[1005 17:17:37 @monitor.py:467]\u001b[0m GAN_loss/gen/klloss: 0.073047\n",
      "\u001b[32m[1005 17:17:37 @monitor.py:467]\u001b[0m GAN_loss/gen/loss: 0.96374\n",
      "\u001b[32m[1005 17:17:37 @monitor.py:467]\u001b[0m QueueInput/queue_size: 50\n",
      "\u001b[32m[1005 17:17:37 @base.py:275]\u001b[0m Start Epoch 42 ...\n"
     ]
    },
    {
     "name": "stderr",
     "output_type": "stream",
     "text": [
      "\n",
      "100%|###################################################################################|175/175[00:05<00:00,34.14it/s]"
     ]
    },
    {
     "name": "stdout",
     "output_type": "stream",
     "text": [
      "\u001b[32m[1005 17:17:42 @base.py:285]\u001b[0m Epoch 42 (global_step 7350) finished, time:5.13 seconds.\n",
      "\u001b[32m[1005 17:17:42 @saver.py:79]\u001b[0m Model saved to ../output/Chicago/TGAN/model\\model-7350.\n",
      "\u001b[32m[1005 17:17:42 @monitor.py:467]\u001b[0m GAN_loss/discrim/accuracy_fake: 0.874\n",
      "\u001b[32m[1005 17:17:42 @monitor.py:467]\u001b[0m GAN_loss/discrim/accuracy_real: 0.208\n",
      "\u001b[32m[1005 17:17:42 @monitor.py:467]\u001b[0m GAN_loss/discrim/loss: 0.64539\n",
      "\u001b[32m[1005 17:17:42 @monitor.py:467]\u001b[0m GAN_loss/gen/final-g-loss: 1.036\n",
      "\u001b[32m[1005 17:17:42 @monitor.py:467]\u001b[0m GAN_loss/gen/klloss: 0.072628\n",
      "\u001b[32m[1005 17:17:42 @monitor.py:467]\u001b[0m GAN_loss/gen/loss: 0.9634\n",
      "\u001b[32m[1005 17:17:42 @monitor.py:467]\u001b[0m QueueInput/queue_size: 50\n",
      "\u001b[32m[1005 17:17:42 @base.py:275]\u001b[0m Start Epoch 43 ...\n"
     ]
    },
    {
     "name": "stderr",
     "output_type": "stream",
     "text": [
      "\n",
      "100%|###################################################################################|175/175[00:05<00:00,34.13it/s]"
     ]
    },
    {
     "name": "stdout",
     "output_type": "stream",
     "text": [
      "\u001b[32m[1005 17:17:47 @base.py:285]\u001b[0m Epoch 43 (global_step 7525) finished, time:5.13 seconds.\n",
      "\u001b[32m[1005 17:17:47 @saver.py:79]\u001b[0m Model saved to ../output/Chicago/TGAN/model\\model-7525.\n",
      "\u001b[32m[1005 17:17:47 @monitor.py:467]\u001b[0m GAN_loss/discrim/accuracy_fake: 0.87\n",
      "\u001b[32m[1005 17:17:47 @monitor.py:467]\u001b[0m GAN_loss/discrim/accuracy_real: 0.206\n",
      "\u001b[32m[1005 17:17:47 @monitor.py:467]\u001b[0m GAN_loss/discrim/loss: 0.63621\n",
      "\u001b[32m[1005 17:17:47 @monitor.py:467]\u001b[0m GAN_loss/gen/final-g-loss: 1.0061\n",
      "\u001b[32m[1005 17:17:47 @monitor.py:467]\u001b[0m GAN_loss/gen/klloss: 0.050819\n",
      "\u001b[32m[1005 17:17:47 @monitor.py:467]\u001b[0m GAN_loss/gen/loss: 0.95529\n",
      "\u001b[32m[1005 17:17:47 @monitor.py:467]\u001b[0m QueueInput/queue_size: 50\n",
      "\u001b[32m[1005 17:17:47 @base.py:275]\u001b[0m Start Epoch 44 ...\n"
     ]
    },
    {
     "name": "stderr",
     "output_type": "stream",
     "text": [
      "\n",
      "100%|###################################################################################|175/175[00:05<00:00,34.14it/s]"
     ]
    },
    {
     "name": "stdout",
     "output_type": "stream",
     "text": [
      "\u001b[32m[1005 17:17:52 @base.py:285]\u001b[0m Epoch 44 (global_step 7700) finished, time:5.13 seconds.\n",
      "\u001b[32m[1005 17:17:52 @saver.py:79]\u001b[0m Model saved to ../output/Chicago/TGAN/model\\model-7700.\n",
      "\u001b[32m[1005 17:17:52 @monitor.py:467]\u001b[0m GAN_loss/discrim/accuracy_fake: 0.896\n",
      "\u001b[32m[1005 17:17:52 @monitor.py:467]\u001b[0m GAN_loss/discrim/accuracy_real: 0.236\n",
      "\u001b[32m[1005 17:17:52 @monitor.py:467]\u001b[0m GAN_loss/discrim/loss: 0.6356\n",
      "\u001b[32m[1005 17:17:52 @monitor.py:467]\u001b[0m GAN_loss/gen/final-g-loss: 0.99161\n",
      "\u001b[32m[1005 17:17:52 @monitor.py:467]\u001b[0m GAN_loss/gen/klloss: 0.030365\n",
      "\u001b[32m[1005 17:17:52 @monitor.py:467]\u001b[0m GAN_loss/gen/loss: 0.96124\n",
      "\u001b[32m[1005 17:17:52 @monitor.py:467]\u001b[0m QueueInput/queue_size: 50\n",
      "\u001b[32m[1005 17:17:52 @base.py:275]\u001b[0m Start Epoch 45 ...\n"
     ]
    },
    {
     "name": "stderr",
     "output_type": "stream",
     "text": [
      "\n",
      "100%|###################################################################################|175/175[00:05<00:00,34.11it/s]"
     ]
    },
    {
     "name": "stdout",
     "output_type": "stream",
     "text": [
      "\u001b[32m[1005 17:17:57 @base.py:285]\u001b[0m Epoch 45 (global_step 7875) finished, time:5.13 seconds.\n",
      "\u001b[32m[1005 17:17:57 @saver.py:79]\u001b[0m Model saved to ../output/Chicago/TGAN/model\\model-7875.\n",
      "\u001b[32m[1005 17:17:57 @monitor.py:467]\u001b[0m GAN_loss/discrim/accuracy_fake: 0.9\n",
      "\u001b[32m[1005 17:17:57 @monitor.py:467]\u001b[0m GAN_loss/discrim/accuracy_real: 0.194\n",
      "\u001b[32m[1005 17:17:57 @monitor.py:467]\u001b[0m GAN_loss/discrim/loss: 0.64424\n",
      "\u001b[32m[1005 17:17:57 @monitor.py:467]\u001b[0m GAN_loss/gen/final-g-loss: 1.02\n",
      "\u001b[32m[1005 17:17:57 @monitor.py:467]\u001b[0m GAN_loss/gen/klloss: 0.059768\n",
      "\u001b[32m[1005 17:17:57 @monitor.py:467]\u001b[0m GAN_loss/gen/loss: 0.96025\n",
      "\u001b[32m[1005 17:17:57 @monitor.py:467]\u001b[0m QueueInput/queue_size: 50\n",
      "\u001b[32m[1005 17:17:57 @base.py:275]\u001b[0m Start Epoch 46 ...\n"
     ]
    },
    {
     "name": "stderr",
     "output_type": "stream",
     "text": [
      "\n",
      "100%|###################################################################################|175/175[00:05<00:00,34.14it/s]"
     ]
    },
    {
     "name": "stdout",
     "output_type": "stream",
     "text": [
      "\u001b[32m[1005 17:18:02 @base.py:285]\u001b[0m Epoch 46 (global_step 8050) finished, time:5.13 seconds.\n",
      "\u001b[32m[1005 17:18:03 @saver.py:79]\u001b[0m Model saved to ../output/Chicago/TGAN/model\\model-8050.\n",
      "\u001b[32m[1005 17:18:03 @monitor.py:467]\u001b[0m GAN_loss/discrim/accuracy_fake: 0.91\n",
      "\u001b[32m[1005 17:18:03 @monitor.py:467]\u001b[0m GAN_loss/discrim/accuracy_real: 0.206\n",
      "\u001b[32m[1005 17:18:03 @monitor.py:467]\u001b[0m GAN_loss/discrim/loss: 0.63\n",
      "\u001b[32m[1005 17:18:03 @monitor.py:467]\u001b[0m GAN_loss/gen/final-g-loss: 1.011\n",
      "\u001b[32m[1005 17:18:03 @monitor.py:467]\u001b[0m GAN_loss/gen/klloss: 0.034924\n",
      "\u001b[32m[1005 17:18:03 @monitor.py:467]\u001b[0m GAN_loss/gen/loss: 0.97604\n",
      "\u001b[32m[1005 17:18:03 @monitor.py:467]\u001b[0m QueueInput/queue_size: 50\n",
      "\u001b[32m[1005 17:18:03 @base.py:275]\u001b[0m Start Epoch 47 ...\n"
     ]
    },
    {
     "name": "stderr",
     "output_type": "stream",
     "text": [
      "\n",
      "100%|###################################################################################|175/175[00:05<00:00,34.14it/s]"
     ]
    },
    {
     "name": "stdout",
     "output_type": "stream",
     "text": [
      "\u001b[32m[1005 17:18:08 @base.py:285]\u001b[0m Epoch 47 (global_step 8225) finished, time:5.13 seconds.\n",
      "\u001b[32m[1005 17:18:08 @saver.py:79]\u001b[0m Model saved to ../output/Chicago/TGAN/model\\model-8225.\n",
      "\u001b[32m[1005 17:18:08 @monitor.py:467]\u001b[0m GAN_loss/discrim/accuracy_fake: 0.878\n",
      "\u001b[32m[1005 17:18:08 @monitor.py:467]\u001b[0m GAN_loss/discrim/accuracy_real: 0.184\n",
      "\u001b[32m[1005 17:18:08 @monitor.py:467]\u001b[0m GAN_loss/discrim/loss: 0.65108\n",
      "\u001b[32m[1005 17:18:08 @monitor.py:467]\u001b[0m GAN_loss/gen/final-g-loss: 0.98628\n",
      "\u001b[32m[1005 17:18:08 @monitor.py:467]\u001b[0m GAN_loss/gen/klloss: 0.051596\n",
      "\u001b[32m[1005 17:18:08 @monitor.py:467]\u001b[0m GAN_loss/gen/loss: 0.93468\n",
      "\u001b[32m[1005 17:18:08 @monitor.py:467]\u001b[0m QueueInput/queue_size: 50\n",
      "\u001b[32m[1005 17:18:08 @base.py:275]\u001b[0m Start Epoch 48 ...\n"
     ]
    },
    {
     "name": "stderr",
     "output_type": "stream",
     "text": [
      "\n",
      "100%|###################################################################################|175/175[00:05<00:00,34.15it/s]"
     ]
    },
    {
     "name": "stdout",
     "output_type": "stream",
     "text": [
      "\u001b[32m[1005 17:18:13 @base.py:285]\u001b[0m Epoch 48 (global_step 8400) finished, time:5.13 seconds.\n",
      "\u001b[32m[1005 17:18:13 @saver.py:79]\u001b[0m Model saved to ../output/Chicago/TGAN/model\\model-8400.\n",
      "\u001b[32m[1005 17:18:13 @monitor.py:467]\u001b[0m GAN_loss/discrim/accuracy_fake: 0.878\n",
      "\u001b[32m[1005 17:18:13 @monitor.py:467]\u001b[0m GAN_loss/discrim/accuracy_real: 0.208\n",
      "\u001b[32m[1005 17:18:13 @monitor.py:467]\u001b[0m GAN_loss/discrim/loss: 0.6397\n",
      "\u001b[32m[1005 17:18:13 @monitor.py:467]\u001b[0m GAN_loss/gen/final-g-loss: 1.0292\n",
      "\u001b[32m[1005 17:18:13 @monitor.py:467]\u001b[0m GAN_loss/gen/klloss: 0.075443\n",
      "\u001b[32m[1005 17:18:13 @monitor.py:467]\u001b[0m GAN_loss/gen/loss: 0.95373\n",
      "\u001b[32m[1005 17:18:13 @monitor.py:467]\u001b[0m QueueInput/queue_size: 50\n",
      "\u001b[32m[1005 17:18:13 @base.py:275]\u001b[0m Start Epoch 49 ...\n"
     ]
    },
    {
     "name": "stderr",
     "output_type": "stream",
     "text": [
      "\n",
      "100%|###################################################################################|175/175[00:05<00:00,34.15it/s]"
     ]
    },
    {
     "name": "stdout",
     "output_type": "stream",
     "text": [
      "\u001b[32m[1005 17:18:18 @base.py:285]\u001b[0m Epoch 49 (global_step 8575) finished, time:5.13 seconds.\n",
      "\u001b[32m[1005 17:18:18 @saver.py:79]\u001b[0m Model saved to ../output/Chicago/TGAN/model\\model-8575.\n",
      "\u001b[32m[1005 17:18:18 @monitor.py:467]\u001b[0m GAN_loss/discrim/accuracy_fake: 0.902\n",
      "\u001b[32m[1005 17:18:18 @monitor.py:467]\u001b[0m GAN_loss/discrim/accuracy_real: 0.172\n",
      "\u001b[32m[1005 17:18:18 @monitor.py:467]\u001b[0m GAN_loss/discrim/loss: 0.63784\n",
      "\u001b[32m[1005 17:18:18 @monitor.py:467]\u001b[0m GAN_loss/gen/final-g-loss: 1.0215\n",
      "\u001b[32m[1005 17:18:18 @monitor.py:467]\u001b[0m GAN_loss/gen/klloss: 0.067551\n",
      "\u001b[32m[1005 17:18:18 @monitor.py:467]\u001b[0m GAN_loss/gen/loss: 0.95399\n",
      "\u001b[32m[1005 17:18:18 @monitor.py:467]\u001b[0m QueueInput/queue_size: 50\n",
      "\u001b[32m[1005 17:18:18 @base.py:275]\u001b[0m Start Epoch 50 ...\n"
     ]
    },
    {
     "name": "stderr",
     "output_type": "stream",
     "text": [
      "\n",
      "100%|###################################################################################|175/175[00:05<00:00,33.73it/s]"
     ]
    },
    {
     "name": "stdout",
     "output_type": "stream",
     "text": [
      "\u001b[32m[1005 17:18:23 @base.py:285]\u001b[0m Epoch 50 (global_step 8750) finished, time:5.19 seconds.\n",
      "\u001b[32m[1005 17:18:23 @saver.py:79]\u001b[0m Model saved to ../output/Chicago/TGAN/model\\model-8750.\n",
      "\u001b[32m[1005 17:18:23 @monitor.py:467]\u001b[0m GAN_loss/discrim/accuracy_fake: 0.886\n",
      "\u001b[32m[1005 17:18:23 @monitor.py:467]\u001b[0m GAN_loss/discrim/accuracy_real: 0.164\n",
      "\u001b[32m[1005 17:18:23 @monitor.py:467]\u001b[0m GAN_loss/discrim/loss: 0.64883\n",
      "\u001b[32m[1005 17:18:23 @monitor.py:467]\u001b[0m GAN_loss/gen/final-g-loss: 0.99246\n",
      "\u001b[32m[1005 17:18:23 @monitor.py:467]\u001b[0m GAN_loss/gen/klloss: 0.057529\n",
      "\u001b[32m[1005 17:18:23 @monitor.py:467]\u001b[0m GAN_loss/gen/loss: 0.93493\n",
      "\u001b[32m[1005 17:18:23 @monitor.py:467]\u001b[0m QueueInput/queue_size: 50\n",
      "\u001b[32m[1005 17:18:23 @base.py:275]\u001b[0m Start Epoch 51 ...\n"
     ]
    },
    {
     "name": "stderr",
     "output_type": "stream",
     "text": [
      "\n",
      "100%|###################################################################################|175/175[00:05<00:00,33.43it/s]"
     ]
    },
    {
     "name": "stdout",
     "output_type": "stream",
     "text": [
      "\u001b[32m[1005 17:18:29 @base.py:285]\u001b[0m Epoch 51 (global_step 8925) finished, time:5.24 seconds.\n",
      "\u001b[32m[1005 17:18:29 @saver.py:79]\u001b[0m Model saved to ../output/Chicago/TGAN/model\\model-8925.\n",
      "\u001b[32m[1005 17:18:29 @monitor.py:467]\u001b[0m GAN_loss/discrim/accuracy_fake: 0.902\n",
      "\u001b[32m[1005 17:18:29 @monitor.py:467]\u001b[0m GAN_loss/discrim/accuracy_real: 0.168\n",
      "\u001b[32m[1005 17:18:29 @monitor.py:467]\u001b[0m GAN_loss/discrim/loss: 0.63793\n",
      "\u001b[32m[1005 17:18:29 @monitor.py:467]\u001b[0m GAN_loss/gen/final-g-loss: 1.0013\n",
      "\u001b[32m[1005 17:18:29 @monitor.py:467]\u001b[0m GAN_loss/gen/klloss: 0.045854\n",
      "\u001b[32m[1005 17:18:29 @monitor.py:467]\u001b[0m GAN_loss/gen/loss: 0.95549\n",
      "\u001b[32m[1005 17:18:29 @monitor.py:467]\u001b[0m QueueInput/queue_size: 50\n",
      "\u001b[32m[1005 17:18:29 @base.py:275]\u001b[0m Start Epoch 52 ...\n"
     ]
    },
    {
     "name": "stderr",
     "output_type": "stream",
     "text": [
      "\n",
      "100%|###################################################################################|175/175[00:05<00:00,33.00it/s]"
     ]
    },
    {
     "name": "stdout",
     "output_type": "stream",
     "text": [
      "\u001b[32m[1005 17:18:34 @base.py:285]\u001b[0m Epoch 52 (global_step 9100) finished, time:5.3 seconds.\n",
      "\u001b[32m[1005 17:18:34 @saver.py:79]\u001b[0m Model saved to ../output/Chicago/TGAN/model\\model-9100.\n"
     ]
    },
    {
     "name": "stderr",
     "output_type": "stream",
     "text": [
      "\n"
     ]
    },
    {
     "name": "stdout",
     "output_type": "stream",
     "text": [
      "\u001b[32m[1005 17:18:34 @monitor.py:467]\u001b[0m GAN_loss/discrim/accuracy_fake: 0.932\n",
      "\u001b[32m[1005 17:18:34 @monitor.py:467]\u001b[0m GAN_loss/discrim/accuracy_real: 0.154\n",
      "\u001b[32m[1005 17:18:34 @monitor.py:467]\u001b[0m GAN_loss/discrim/loss: 0.63976\n",
      "\u001b[32m[1005 17:18:34 @monitor.py:467]\u001b[0m GAN_loss/gen/final-g-loss: 1.0253\n",
      "\u001b[32m[1005 17:18:34 @monitor.py:467]\u001b[0m GAN_loss/gen/klloss: 0.070539\n",
      "\u001b[32m[1005 17:18:34 @monitor.py:467]\u001b[0m GAN_loss/gen/loss: 0.95476\n",
      "\u001b[32m[1005 17:18:34 @monitor.py:467]\u001b[0m QueueInput/queue_size: 50\n",
      "\u001b[32m[1005 17:18:34 @base.py:275]\u001b[0m Start Epoch 53 ...\n"
     ]
    },
    {
     "name": "stderr",
     "output_type": "stream",
     "text": [
      "100%|###################################################################################|175/175[00:05<00:00,33.39it/s]"
     ]
    },
    {
     "name": "stdout",
     "output_type": "stream",
     "text": [
      "\u001b[32m[1005 17:18:39 @base.py:285]\u001b[0m Epoch 53 (global_step 9275) finished, time:5.24 seconds.\n",
      "\u001b[32m[1005 17:18:39 @saver.py:79]\u001b[0m Model saved to ../output/Chicago/TGAN/model\\model-9275.\n",
      "\u001b[32m[1005 17:18:39 @monitor.py:467]\u001b[0m GAN_loss/discrim/accuracy_fake: 0.92\n",
      "\u001b[32m[1005 17:18:39 @monitor.py:467]\u001b[0m GAN_loss/discrim/accuracy_real: 0.168\n"
     ]
    },
    {
     "name": "stderr",
     "output_type": "stream",
     "text": [
      "\n"
     ]
    },
    {
     "name": "stdout",
     "output_type": "stream",
     "text": [
      "\u001b[32m[1005 17:18:39 @monitor.py:467]\u001b[0m GAN_loss/discrim/loss: 0.64118\n",
      "\u001b[32m[1005 17:18:39 @monitor.py:467]\u001b[0m GAN_loss/gen/final-g-loss: 0.99106\n",
      "\u001b[32m[1005 17:18:39 @monitor.py:467]\u001b[0m GAN_loss/gen/klloss: 0.043881\n",
      "\u001b[32m[1005 17:18:39 @monitor.py:467]\u001b[0m GAN_loss/gen/loss: 0.94718\n",
      "\u001b[32m[1005 17:18:39 @monitor.py:467]\u001b[0m QueueInput/queue_size: 50\n",
      "\u001b[32m[1005 17:18:39 @base.py:275]\u001b[0m Start Epoch 54 ...\n"
     ]
    },
    {
     "name": "stderr",
     "output_type": "stream",
     "text": [
      "100%|###################################################################################|175/175[00:05<00:00,33.87it/s]"
     ]
    },
    {
     "name": "stdout",
     "output_type": "stream",
     "text": [
      "\u001b[32m[1005 17:18:45 @base.py:285]\u001b[0m Epoch 54 (global_step 9450) finished, time:5.17 seconds.\n",
      "\u001b[32m[1005 17:18:45 @saver.py:79]\u001b[0m Model saved to ../output/Chicago/TGAN/model\\model-9450.\n",
      "\u001b[32m[1005 17:18:45 @monitor.py:467]\u001b[0m GAN_loss/discrim/accuracy_fake: 0.908\n",
      "\u001b[32m[1005 17:18:45 @monitor.py:467]\u001b[0m GAN_loss/discrim/accuracy_real: 0.156\n",
      "\u001b[32m[1005 17:18:45 @monitor.py:467]\u001b[0m GAN_loss/discrim/loss: 0.64713\n",
      "\u001b[32m[1005 17:18:45 @monitor.py:467]\u001b[0m GAN_loss/gen/final-g-loss: 0.99826\n",
      "\u001b[32m[1005 17:18:45 @monitor.py:467]\u001b[0m GAN_loss/gen/klloss: 0.046715\n",
      "\u001b[32m[1005 17:18:45 @monitor.py:467]\u001b[0m GAN_loss/gen/loss: 0.95154\n",
      "\u001b[32m[1005 17:18:45 @monitor.py:467]\u001b[0m QueueInput/queue_size: 50\n",
      "\u001b[32m[1005 17:18:45 @base.py:275]\u001b[0m Start Epoch 55 ...\n"
     ]
    },
    {
     "name": "stderr",
     "output_type": "stream",
     "text": [
      "\n",
      "100%|###################################################################################|175/175[00:05<00:00,32.07it/s]"
     ]
    },
    {
     "name": "stdout",
     "output_type": "stream",
     "text": [
      "\u001b[32m[1005 17:18:50 @base.py:285]\u001b[0m Epoch 55 (global_step 9625) finished, time:5.46 seconds.\n",
      "\u001b[32m[1005 17:18:50 @saver.py:79]\u001b[0m Model saved to ../output/Chicago/TGAN/model\\model-9625.\n",
      "\u001b[32m[1005 17:18:50 @monitor.py:467]\u001b[0m GAN_loss/discrim/accuracy_fake: 0.922\n",
      "\u001b[32m[1005 17:18:50 @monitor.py:467]\u001b[0m GAN_loss/discrim/accuracy_real: 0.142\n",
      "\u001b[32m[1005 17:18:50 @monitor.py:467]\u001b[0m GAN_loss/discrim/loss: 0.64916\n",
      "\u001b[32m[1005 17:18:50 @monitor.py:467]\u001b[0m GAN_loss/gen/final-g-loss: 1.0073\n",
      "\u001b[32m[1005 17:18:50 @monitor.py:467]\u001b[0m GAN_loss/gen/klloss: 0.054493\n",
      "\u001b[32m[1005 17:18:50 @monitor.py:467]\u001b[0m GAN_loss/gen/loss: 0.95286\n",
      "\u001b[32m[1005 17:18:50 @monitor.py:467]\u001b[0m QueueInput/queue_size: 50\n",
      "\u001b[32m[1005 17:18:50 @base.py:275]\u001b[0m Start Epoch 56 ...\n"
     ]
    },
    {
     "name": "stderr",
     "output_type": "stream",
     "text": [
      "\n",
      "100%|###################################################################################|175/175[00:05<00:00,33.38it/s]"
     ]
    },
    {
     "name": "stdout",
     "output_type": "stream",
     "text": [
      "\u001b[32m[1005 17:18:55 @base.py:285]\u001b[0m Epoch 56 (global_step 9800) finished, time:5.24 seconds.\n"
     ]
    },
    {
     "name": "stderr",
     "output_type": "stream",
     "text": [
      "\n"
     ]
    },
    {
     "name": "stdout",
     "output_type": "stream",
     "text": [
      "\u001b[32m[1005 17:18:55 @saver.py:79]\u001b[0m Model saved to ../output/Chicago/TGAN/model\\model-9800.\n",
      "\u001b[32m[1005 17:18:56 @monitor.py:467]\u001b[0m GAN_loss/discrim/accuracy_fake: 0.918\n",
      "\u001b[32m[1005 17:18:56 @monitor.py:467]\u001b[0m GAN_loss/discrim/accuracy_real: 0.136\n",
      "\u001b[32m[1005 17:18:56 @monitor.py:467]\u001b[0m GAN_loss/discrim/loss: 0.64416\n",
      "\u001b[32m[1005 17:18:56 @monitor.py:467]\u001b[0m GAN_loss/gen/final-g-loss: 0.99253\n",
      "\u001b[32m[1005 17:18:56 @monitor.py:467]\u001b[0m GAN_loss/gen/klloss: 0.041343\n",
      "\u001b[32m[1005 17:18:56 @monitor.py:467]\u001b[0m GAN_loss/gen/loss: 0.95119\n",
      "\u001b[32m[1005 17:18:56 @monitor.py:467]\u001b[0m QueueInput/queue_size: 50\n",
      "\u001b[32m[1005 17:18:56 @base.py:275]\u001b[0m Start Epoch 57 ...\n"
     ]
    },
    {
     "name": "stderr",
     "output_type": "stream",
     "text": [
      "100%|###################################################################################|175/175[00:05<00:00,34.12it/s]"
     ]
    },
    {
     "name": "stdout",
     "output_type": "stream",
     "text": [
      "\u001b[32m[1005 17:19:01 @base.py:285]\u001b[0m Epoch 57 (global_step 9975) finished, time:5.13 seconds.\n",
      "\u001b[32m[1005 17:19:01 @saver.py:79]\u001b[0m Model saved to ../output/Chicago/TGAN/model\\model-9975.\n",
      "\u001b[32m[1005 17:19:01 @monitor.py:467]\u001b[0m GAN_loss/discrim/accuracy_fake: 0.906\n",
      "\u001b[32m[1005 17:19:01 @monitor.py:467]\u001b[0m GAN_loss/discrim/accuracy_real: 0.136\n",
      "\u001b[32m[1005 17:19:01 @monitor.py:467]\u001b[0m GAN_loss/discrim/loss: 0.64083\n",
      "\u001b[32m[1005 17:19:01 @monitor.py:467]\u001b[0m GAN_loss/gen/final-g-loss: 1.0074\n",
      "\u001b[32m[1005 17:19:01 @monitor.py:467]\u001b[0m GAN_loss/gen/klloss: 0.051365\n",
      "\u001b[32m[1005 17:19:01 @monitor.py:467]\u001b[0m GAN_loss/gen/loss: 0.95608\n",
      "\u001b[32m[1005 17:19:01 @monitor.py:467]\u001b[0m QueueInput/queue_size: 50\n",
      "\u001b[32m[1005 17:19:01 @base.py:275]\u001b[0m Start Epoch 58 ...\n"
     ]
    },
    {
     "name": "stderr",
     "output_type": "stream",
     "text": [
      "\n",
      "100%|###################################################################################|175/175[00:05<00:00,32.93it/s]"
     ]
    },
    {
     "name": "stdout",
     "output_type": "stream",
     "text": [
      "\u001b[32m[1005 17:19:06 @base.py:285]\u001b[0m Epoch 58 (global_step 10150) finished, time:5.31 seconds.\n",
      "\u001b[32m[1005 17:19:06 @saver.py:79]\u001b[0m Model saved to ../output/Chicago/TGAN/model\\model-10150.\n",
      "\u001b[32m[1005 17:19:06 @monitor.py:467]\u001b[0m GAN_loss/discrim/accuracy_fake: 0.912\n",
      "\u001b[32m[1005 17:19:06 @monitor.py:467]\u001b[0m GAN_loss/discrim/accuracy_real: 0.17\n",
      "\u001b[32m[1005 17:19:06 @monitor.py:467]\u001b[0m GAN_loss/discrim/loss: 0.63813\n",
      "\u001b[32m[1005 17:19:06 @monitor.py:467]\u001b[0m GAN_loss/gen/final-g-loss: 1.016\n",
      "\u001b[32m[1005 17:19:06 @monitor.py:467]\u001b[0m GAN_loss/gen/klloss: 0.067549\n",
      "\u001b[32m[1005 17:19:06 @monitor.py:467]\u001b[0m GAN_loss/gen/loss: 0.9484\n",
      "\u001b[32m[1005 17:19:06 @monitor.py:467]\u001b[0m QueueInput/queue_size: 50\n",
      "\u001b[32m[1005 17:19:06 @base.py:275]\u001b[0m Start Epoch 59 ...\n"
     ]
    },
    {
     "name": "stderr",
     "output_type": "stream",
     "text": [
      "\n",
      "100%|###################################################################################|175/175[00:05<00:00,32.74it/s]"
     ]
    },
    {
     "name": "stdout",
     "output_type": "stream",
     "text": [
      "\u001b[32m[1005 17:19:11 @base.py:285]\u001b[0m Epoch 59 (global_step 10325) finished, time:5.35 seconds.\n"
     ]
    },
    {
     "name": "stderr",
     "output_type": "stream",
     "text": [
      "\n"
     ]
    },
    {
     "name": "stdout",
     "output_type": "stream",
     "text": [
      "\u001b[32m[1005 17:19:12 @saver.py:79]\u001b[0m Model saved to ../output/Chicago/TGAN/model\\model-10325.\n",
      "\u001b[32m[1005 17:19:12 @monitor.py:467]\u001b[0m GAN_loss/discrim/accuracy_fake: 0.928\n",
      "\u001b[32m[1005 17:19:12 @monitor.py:467]\u001b[0m GAN_loss/discrim/accuracy_real: 0.154\n",
      "\u001b[32m[1005 17:19:12 @monitor.py:467]\u001b[0m GAN_loss/discrim/loss: 0.64035\n",
      "\u001b[32m[1005 17:19:12 @monitor.py:467]\u001b[0m GAN_loss/gen/final-g-loss: 1.0172\n",
      "\u001b[32m[1005 17:19:12 @monitor.py:467]\u001b[0m GAN_loss/gen/klloss: 0.073186\n",
      "\u001b[32m[1005 17:19:12 @monitor.py:467]\u001b[0m GAN_loss/gen/loss: 0.94403\n",
      "\u001b[32m[1005 17:19:12 @monitor.py:467]\u001b[0m QueueInput/queue_size: 50\n",
      "\u001b[32m[1005 17:19:12 @base.py:275]\u001b[0m Start Epoch 60 ...\n"
     ]
    },
    {
     "name": "stderr",
     "output_type": "stream",
     "text": [
      "100%|###################################################################################|175/175[00:05<00:00,33.59it/s]"
     ]
    },
    {
     "name": "stdout",
     "output_type": "stream",
     "text": [
      "\u001b[32m[1005 17:19:17 @base.py:285]\u001b[0m Epoch 60 (global_step 10500) finished, time:5.21 seconds.\n"
     ]
    },
    {
     "name": "stderr",
     "output_type": "stream",
     "text": [
      "\n"
     ]
    },
    {
     "name": "stdout",
     "output_type": "stream",
     "text": [
      "\u001b[32m[1005 17:19:17 @saver.py:79]\u001b[0m Model saved to ../output/Chicago/TGAN/model\\model-10500.\n",
      "\u001b[32m[1005 17:19:17 @monitor.py:467]\u001b[0m GAN_loss/discrim/accuracy_fake: 0.906\n",
      "\u001b[32m[1005 17:19:17 @monitor.py:467]\u001b[0m GAN_loss/discrim/accuracy_real: 0.156\n",
      "\u001b[32m[1005 17:19:17 @monitor.py:467]\u001b[0m GAN_loss/discrim/loss: 0.64187\n",
      "\u001b[32m[1005 17:19:17 @monitor.py:467]\u001b[0m GAN_loss/gen/final-g-loss: 1.0213\n",
      "\u001b[32m[1005 17:19:17 @monitor.py:467]\u001b[0m GAN_loss/gen/klloss: 0.079879\n",
      "\u001b[32m[1005 17:19:17 @monitor.py:467]\u001b[0m GAN_loss/gen/loss: 0.94141\n",
      "\u001b[32m[1005 17:19:17 @monitor.py:467]\u001b[0m QueueInput/queue_size: 50\n",
      "\u001b[32m[1005 17:19:17 @base.py:275]\u001b[0m Start Epoch 61 ...\n"
     ]
    },
    {
     "name": "stderr",
     "output_type": "stream",
     "text": [
      "100%|###################################################################################|175/175[00:05<00:00,33.80it/s]"
     ]
    },
    {
     "name": "stdout",
     "output_type": "stream",
     "text": [
      "\u001b[32m[1005 17:19:22 @base.py:285]\u001b[0m Epoch 61 (global_step 10675) finished, time:5.18 seconds.\n",
      "\u001b[32m[1005 17:19:22 @saver.py:79]\u001b[0m Model saved to ../output/Chicago/TGAN/model\\model-10675.\n",
      "\u001b[32m[1005 17:19:22 @monitor.py:467]\u001b[0m GAN_loss/discrim/accuracy_fake: 0.904\n",
      "\u001b[32m[1005 17:19:22 @monitor.py:467]\u001b[0m GAN_loss/discrim/accuracy_real: 0.156\n",
      "\u001b[32m[1005 17:19:22 @monitor.py:467]\u001b[0m GAN_loss/discrim/loss: 0.64058\n",
      "\u001b[32m[1005 17:19:22 @monitor.py:467]\u001b[0m GAN_loss/gen/final-g-loss: 0.9808\n",
      "\u001b[32m[1005 17:19:22 @monitor.py:467]\u001b[0m GAN_loss/gen/klloss: 0.041393\n",
      "\u001b[32m[1005 17:19:22 @monitor.py:467]\u001b[0m GAN_loss/gen/loss: 0.9394\n",
      "\u001b[32m[1005 17:19:22 @monitor.py:467]\u001b[0m QueueInput/queue_size: 50\n",
      "\u001b[32m[1005 17:19:22 @base.py:275]\u001b[0m Start Epoch 62 ...\n"
     ]
    },
    {
     "name": "stderr",
     "output_type": "stream",
     "text": [
      "\n",
      "100%|###################################################################################|175/175[00:05<00:00,33.36it/s]"
     ]
    },
    {
     "name": "stdout",
     "output_type": "stream",
     "text": [
      "\u001b[32m[1005 17:19:27 @base.py:285]\u001b[0m Epoch 62 (global_step 10850) finished, time:5.25 seconds.\n"
     ]
    },
    {
     "name": "stderr",
     "output_type": "stream",
     "text": [
      "\n"
     ]
    },
    {
     "name": "stdout",
     "output_type": "stream",
     "text": [
      "\u001b[32m[1005 17:19:27 @saver.py:79]\u001b[0m Model saved to ../output/Chicago/TGAN/model\\model-10850.\n",
      "\u001b[32m[1005 17:19:27 @monitor.py:467]\u001b[0m GAN_loss/discrim/accuracy_fake: 0.91\n",
      "\u001b[32m[1005 17:19:27 @monitor.py:467]\u001b[0m GAN_loss/discrim/accuracy_real: 0.152\n",
      "\u001b[32m[1005 17:19:27 @monitor.py:467]\u001b[0m GAN_loss/discrim/loss: 0.64478\n",
      "\u001b[32m[1005 17:19:27 @monitor.py:467]\u001b[0m GAN_loss/gen/final-g-loss: 0.99547\n",
      "\u001b[32m[1005 17:19:27 @monitor.py:467]\u001b[0m GAN_loss/gen/klloss: 0.050318\n",
      "\u001b[32m[1005 17:19:27 @monitor.py:467]\u001b[0m GAN_loss/gen/loss: 0.94515\n",
      "\u001b[32m[1005 17:19:27 @monitor.py:467]\u001b[0m QueueInput/queue_size: 50\n",
      "\u001b[32m[1005 17:19:27 @base.py:275]\u001b[0m Start Epoch 63 ...\n"
     ]
    },
    {
     "name": "stderr",
     "output_type": "stream",
     "text": [
      "100%|###################################################################################|175/175[00:05<00:00,33.18it/s]"
     ]
    },
    {
     "name": "stdout",
     "output_type": "stream",
     "text": [
      "\u001b[32m[1005 17:19:33 @base.py:285]\u001b[0m Epoch 63 (global_step 11025) finished, time:5.27 seconds.\n",
      "\u001b[32m[1005 17:19:33 @saver.py:79]\u001b[0m Model saved to ../output/Chicago/TGAN/model\\model-11025.\n",
      "\u001b[32m[1005 17:19:33 @monitor.py:467]\u001b[0m GAN_loss/discrim/accuracy_fake: 0.916\n",
      "\u001b[32m[1005 17:19:33 @monitor.py:467]\u001b[0m GAN_loss/discrim/accuracy_real: 0.13\n",
      "\u001b[32m[1005 17:19:33 @monitor.py:467]\u001b[0m GAN_loss/discrim/loss: 0.64663\n",
      "\u001b[32m[1005 17:19:33 @monitor.py:467]\u001b[0m GAN_loss/gen/final-g-loss: 0.99482\n",
      "\u001b[32m[1005 17:19:33 @monitor.py:467]\u001b[0m GAN_loss/gen/klloss: 0.045813\n",
      "\u001b[32m[1005 17:19:33 @monitor.py:467]\u001b[0m GAN_loss/gen/loss: 0.94901\n",
      "\u001b[32m[1005 17:19:33 @monitor.py:467]\u001b[0m QueueInput/queue_size: 50\n",
      "\u001b[32m[1005 17:19:33 @base.py:275]\u001b[0m Start Epoch 64 ...\n"
     ]
    },
    {
     "name": "stderr",
     "output_type": "stream",
     "text": [
      "\n",
      "100%|###################################################################################|175/175[00:05<00:00,33.91it/s]"
     ]
    },
    {
     "name": "stdout",
     "output_type": "stream",
     "text": [
      "\u001b[32m[1005 17:19:38 @base.py:285]\u001b[0m Epoch 64 (global_step 11200) finished, time:5.16 seconds.\n",
      "\u001b[32m[1005 17:19:38 @saver.py:79]\u001b[0m Model saved to ../output/Chicago/TGAN/model\\model-11200.\n",
      "\u001b[32m[1005 17:19:38 @monitor.py:467]\u001b[0m GAN_loss/discrim/accuracy_fake: 0.89\n",
      "\u001b[32m[1005 17:19:38 @monitor.py:467]\u001b[0m GAN_loss/discrim/accuracy_real: 0.152\n",
      "\u001b[32m[1005 17:19:38 @monitor.py:467]\u001b[0m GAN_loss/discrim/loss: 0.64193\n",
      "\u001b[32m[1005 17:19:38 @monitor.py:467]\u001b[0m GAN_loss/gen/final-g-loss: 1.0018\n",
      "\u001b[32m[1005 17:19:38 @monitor.py:467]\u001b[0m GAN_loss/gen/klloss: 0.053663\n",
      "\u001b[32m[1005 17:19:38 @monitor.py:467]\u001b[0m GAN_loss/gen/loss: 0.94813\n",
      "\u001b[32m[1005 17:19:38 @monitor.py:467]\u001b[0m QueueInput/queue_size: 50\n",
      "\u001b[32m[1005 17:19:38 @base.py:275]\u001b[0m Start Epoch 65 ...\n"
     ]
    },
    {
     "name": "stderr",
     "output_type": "stream",
     "text": [
      "\n",
      "100%|###################################################################################|175/175[00:05<00:00,34.13it/s]"
     ]
    },
    {
     "name": "stdout",
     "output_type": "stream",
     "text": [
      "\u001b[32m[1005 17:19:43 @base.py:285]\u001b[0m Epoch 65 (global_step 11375) finished, time:5.13 seconds.\n",
      "\u001b[32m[1005 17:19:43 @saver.py:79]\u001b[0m Model saved to ../output/Chicago/TGAN/model\\model-11375.\n",
      "\u001b[32m[1005 17:19:43 @monitor.py:467]\u001b[0m GAN_loss/discrim/accuracy_fake: 0.912\n",
      "\u001b[32m[1005 17:19:43 @monitor.py:467]\u001b[0m GAN_loss/discrim/accuracy_real: 0.162\n",
      "\u001b[32m[1005 17:19:43 @monitor.py:467]\u001b[0m GAN_loss/discrim/loss: 0.63802\n",
      "\u001b[32m[1005 17:19:43 @monitor.py:467]\u001b[0m GAN_loss/gen/final-g-loss: 0.99622\n",
      "\u001b[32m[1005 17:19:43 @monitor.py:467]\u001b[0m GAN_loss/gen/klloss: 0.038341\n",
      "\u001b[32m[1005 17:19:43 @monitor.py:467]\u001b[0m GAN_loss/gen/loss: 0.95788\n",
      "\u001b[32m[1005 17:19:43 @monitor.py:467]\u001b[0m QueueInput/queue_size: 50\n",
      "\u001b[32m[1005 17:19:43 @base.py:275]\u001b[0m Start Epoch 66 ...\n"
     ]
    },
    {
     "name": "stderr",
     "output_type": "stream",
     "text": [
      "\n",
      "100%|###################################################################################|175/175[00:05<00:00,34.12it/s]"
     ]
    },
    {
     "name": "stdout",
     "output_type": "stream",
     "text": [
      "\u001b[32m[1005 17:19:48 @base.py:285]\u001b[0m Epoch 66 (global_step 11550) finished, time:5.13 seconds.\n",
      "\u001b[32m[1005 17:19:48 @saver.py:79]\u001b[0m Model saved to ../output/Chicago/TGAN/model\\model-11550.\n",
      "\u001b[32m[1005 17:19:48 @monitor.py:467]\u001b[0m GAN_loss/discrim/accuracy_fake: 0.9\n",
      "\u001b[32m[1005 17:19:48 @monitor.py:467]\u001b[0m GAN_loss/discrim/accuracy_real: 0.148\n",
      "\u001b[32m[1005 17:19:48 @monitor.py:467]\u001b[0m GAN_loss/discrim/loss: 0.64755\n",
      "\u001b[32m[1005 17:19:48 @monitor.py:467]\u001b[0m GAN_loss/gen/final-g-loss: 1.0086\n",
      "\u001b[32m[1005 17:19:48 @monitor.py:467]\u001b[0m GAN_loss/gen/klloss: 0.063275\n",
      "\u001b[32m[1005 17:19:48 @monitor.py:467]\u001b[0m GAN_loss/gen/loss: 0.94532\n",
      "\u001b[32m[1005 17:19:48 @monitor.py:467]\u001b[0m QueueInput/queue_size: 50\n",
      "\u001b[32m[1005 17:19:48 @base.py:275]\u001b[0m Start Epoch 67 ...\n"
     ]
    },
    {
     "name": "stderr",
     "output_type": "stream",
     "text": [
      "\n",
      "100%|###################################################################################|175/175[00:05<00:00,34.14it/s]"
     ]
    },
    {
     "name": "stdout",
     "output_type": "stream",
     "text": [
      "\u001b[32m[1005 17:19:54 @base.py:285]\u001b[0m Epoch 67 (global_step 11725) finished, time:5.13 seconds.\n",
      "\u001b[32m[1005 17:19:54 @saver.py:79]\u001b[0m Model saved to ../output/Chicago/TGAN/model\\model-11725.\n",
      "\u001b[32m[1005 17:19:54 @monitor.py:467]\u001b[0m GAN_loss/discrim/accuracy_fake: 0.92\n",
      "\u001b[32m[1005 17:19:54 @monitor.py:467]\u001b[0m GAN_loss/discrim/accuracy_real: 0.138\n",
      "\u001b[32m[1005 17:19:54 @monitor.py:467]\u001b[0m GAN_loss/discrim/loss: 0.64007\n",
      "\u001b[32m[1005 17:19:54 @monitor.py:467]\u001b[0m GAN_loss/gen/final-g-loss: 0.99446\n",
      "\u001b[32m[1005 17:19:54 @monitor.py:467]\u001b[0m GAN_loss/gen/klloss: 0.038111\n",
      "\u001b[32m[1005 17:19:54 @monitor.py:467]\u001b[0m GAN_loss/gen/loss: 0.95635\n",
      "\u001b[32m[1005 17:19:54 @monitor.py:467]\u001b[0m QueueInput/queue_size: 50\n",
      "\u001b[32m[1005 17:19:54 @base.py:275]\u001b[0m Start Epoch 68 ...\n"
     ]
    },
    {
     "name": "stderr",
     "output_type": "stream",
     "text": [
      "\n",
      "100%|###################################################################################|175/175[00:05<00:00,34.08it/s]"
     ]
    },
    {
     "name": "stdout",
     "output_type": "stream",
     "text": [
      "\u001b[32m[1005 17:19:59 @base.py:285]\u001b[0m Epoch 68 (global_step 11900) finished, time:5.14 seconds.\n",
      "\u001b[32m[1005 17:19:59 @saver.py:79]\u001b[0m Model saved to ../output/Chicago/TGAN/model\\model-11900.\n",
      "\u001b[32m[1005 17:19:59 @monitor.py:467]\u001b[0m GAN_loss/discrim/accuracy_fake: 0.92\n",
      "\u001b[32m[1005 17:19:59 @monitor.py:467]\u001b[0m GAN_loss/discrim/accuracy_real: 0.156\n",
      "\u001b[32m[1005 17:19:59 @monitor.py:467]\u001b[0m GAN_loss/discrim/loss: 0.63587\n",
      "\u001b[32m[1005 17:19:59 @monitor.py:467]\u001b[0m GAN_loss/gen/final-g-loss: 1.0104\n",
      "\u001b[32m[1005 17:19:59 @monitor.py:467]\u001b[0m GAN_loss/gen/klloss: 0.06317\n",
      "\u001b[32m[1005 17:19:59 @monitor.py:467]\u001b[0m GAN_loss/gen/loss: 0.9472\n",
      "\u001b[32m[1005 17:19:59 @monitor.py:467]\u001b[0m QueueInput/queue_size: 50\n",
      "\u001b[32m[1005 17:19:59 @base.py:275]\u001b[0m Start Epoch 69 ...\n"
     ]
    },
    {
     "name": "stderr",
     "output_type": "stream",
     "text": [
      "\n",
      "100%|###################################################################################|175/175[00:05<00:00,34.12it/s]"
     ]
    },
    {
     "name": "stdout",
     "output_type": "stream",
     "text": [
      "\u001b[32m[1005 17:20:04 @base.py:285]\u001b[0m Epoch 69 (global_step 12075) finished, time:5.13 seconds.\n",
      "\u001b[32m[1005 17:20:04 @saver.py:79]\u001b[0m Model saved to ../output/Chicago/TGAN/model\\model-12075.\n",
      "\u001b[32m[1005 17:20:04 @monitor.py:467]\u001b[0m GAN_loss/discrim/accuracy_fake: 0.924\n",
      "\u001b[32m[1005 17:20:04 @monitor.py:467]\u001b[0m GAN_loss/discrim/accuracy_real: 0.158\n",
      "\u001b[32m[1005 17:20:04 @monitor.py:467]\u001b[0m GAN_loss/discrim/loss: 0.64117\n",
      "\u001b[32m[1005 17:20:04 @monitor.py:467]\u001b[0m GAN_loss/gen/final-g-loss: 1.0034\n",
      "\u001b[32m[1005 17:20:04 @monitor.py:467]\u001b[0m GAN_loss/gen/klloss: 0.049767\n",
      "\u001b[32m[1005 17:20:04 @monitor.py:467]\u001b[0m GAN_loss/gen/loss: 0.95366\n",
      "\u001b[32m[1005 17:20:04 @monitor.py:467]\u001b[0m QueueInput/queue_size: 50\n",
      "\u001b[32m[1005 17:20:04 @base.py:275]\u001b[0m Start Epoch 70 ...\n"
     ]
    },
    {
     "name": "stderr",
     "output_type": "stream",
     "text": [
      "\n",
      "100%|###################################################################################|175/175[00:05<00:00,34.12it/s]"
     ]
    },
    {
     "name": "stdout",
     "output_type": "stream",
     "text": [
      "\u001b[32m[1005 17:20:09 @base.py:285]\u001b[0m Epoch 70 (global_step 12250) finished, time:5.13 seconds.\n",
      "\u001b[32m[1005 17:20:09 @saver.py:79]\u001b[0m Model saved to ../output/Chicago/TGAN/model\\model-12250.\n",
      "\u001b[32m[1005 17:20:09 @monitor.py:467]\u001b[0m GAN_loss/discrim/accuracy_fake: 0.892\n",
      "\u001b[32m[1005 17:20:09 @monitor.py:467]\u001b[0m GAN_loss/discrim/accuracy_real: 0.148\n",
      "\u001b[32m[1005 17:20:09 @monitor.py:467]\u001b[0m GAN_loss/discrim/loss: 0.64294\n",
      "\u001b[32m[1005 17:20:09 @monitor.py:467]\u001b[0m GAN_loss/gen/final-g-loss: 0.98654\n",
      "\u001b[32m[1005 17:20:09 @monitor.py:467]\u001b[0m GAN_loss/gen/klloss: 0.04194\n",
      "\u001b[32m[1005 17:20:09 @monitor.py:467]\u001b[0m GAN_loss/gen/loss: 0.9446\n",
      "\u001b[32m[1005 17:20:09 @monitor.py:467]\u001b[0m QueueInput/queue_size: 50\n",
      "\u001b[32m[1005 17:20:09 @base.py:275]\u001b[0m Start Epoch 71 ...\n"
     ]
    },
    {
     "name": "stderr",
     "output_type": "stream",
     "text": [
      "\n",
      "100%|###################################################################################|175/175[00:05<00:00,34.13it/s]"
     ]
    },
    {
     "name": "stdout",
     "output_type": "stream",
     "text": [
      "\u001b[32m[1005 17:20:14 @base.py:285]\u001b[0m Epoch 71 (global_step 12425) finished, time:5.13 seconds.\n",
      "\u001b[32m[1005 17:20:14 @saver.py:79]\u001b[0m Model saved to ../output/Chicago/TGAN/model\\model-12425.\n",
      "\u001b[32m[1005 17:20:14 @monitor.py:467]\u001b[0m GAN_loss/discrim/accuracy_fake: 0.912\n",
      "\u001b[32m[1005 17:20:14 @monitor.py:467]\u001b[0m GAN_loss/discrim/accuracy_real: 0.156\n",
      "\u001b[32m[1005 17:20:14 @monitor.py:467]\u001b[0m GAN_loss/discrim/loss: 0.64781\n",
      "\u001b[32m[1005 17:20:14 @monitor.py:467]\u001b[0m GAN_loss/gen/final-g-loss: 1.0138\n",
      "\u001b[32m[1005 17:20:14 @monitor.py:467]\u001b[0m GAN_loss/gen/klloss: 0.069135\n",
      "\u001b[32m[1005 17:20:14 @monitor.py:467]\u001b[0m GAN_loss/gen/loss: 0.94467\n",
      "\u001b[32m[1005 17:20:14 @monitor.py:467]\u001b[0m QueueInput/queue_size: 50\n",
      "\u001b[32m[1005 17:20:14 @base.py:275]\u001b[0m Start Epoch 72 ...\n"
     ]
    },
    {
     "name": "stderr",
     "output_type": "stream",
     "text": [
      "\n",
      "100%|###################################################################################|175/175[00:05<00:00,34.15it/s]"
     ]
    },
    {
     "name": "stdout",
     "output_type": "stream",
     "text": [
      "\u001b[32m[1005 17:20:20 @base.py:285]\u001b[0m Epoch 72 (global_step 12600) finished, time:5.13 seconds.\n",
      "\u001b[32m[1005 17:20:20 @saver.py:79]\u001b[0m Model saved to ../output/Chicago/TGAN/model\\model-12600.\n",
      "\u001b[32m[1005 17:20:20 @monitor.py:467]\u001b[0m GAN_loss/discrim/accuracy_fake: 0.9\n",
      "\u001b[32m[1005 17:20:20 @monitor.py:467]\u001b[0m GAN_loss/discrim/accuracy_real: 0.176\n",
      "\u001b[32m[1005 17:20:20 @monitor.py:467]\u001b[0m GAN_loss/discrim/loss: 0.64358\n",
      "\u001b[32m[1005 17:20:20 @monitor.py:467]\u001b[0m GAN_loss/gen/final-g-loss: 1.0129\n",
      "\u001b[32m[1005 17:20:20 @monitor.py:467]\u001b[0m GAN_loss/gen/klloss: 0.066992\n",
      "\u001b[32m[1005 17:20:20 @monitor.py:467]\u001b[0m GAN_loss/gen/loss: 0.94593\n",
      "\u001b[32m[1005 17:20:20 @monitor.py:467]\u001b[0m QueueInput/queue_size: 50\n",
      "\u001b[32m[1005 17:20:20 @base.py:275]\u001b[0m Start Epoch 73 ...\n"
     ]
    },
    {
     "name": "stderr",
     "output_type": "stream",
     "text": [
      "\n",
      "100%|###################################################################################|175/175[00:05<00:00,34.12it/s]"
     ]
    },
    {
     "name": "stdout",
     "output_type": "stream",
     "text": [
      "\u001b[32m[1005 17:20:25 @base.py:285]\u001b[0m Epoch 73 (global_step 12775) finished, time:5.13 seconds.\n",
      "\u001b[32m[1005 17:20:25 @saver.py:79]\u001b[0m Model saved to ../output/Chicago/TGAN/model\\model-12775.\n",
      "\u001b[32m[1005 17:20:25 @monitor.py:467]\u001b[0m GAN_loss/discrim/accuracy_fake: 0.928\n",
      "\u001b[32m[1005 17:20:25 @monitor.py:467]\u001b[0m GAN_loss/discrim/accuracy_real: 0.168\n",
      "\u001b[32m[1005 17:20:25 @monitor.py:467]\u001b[0m GAN_loss/discrim/loss: 0.645\n",
      "\u001b[32m[1005 17:20:25 @monitor.py:467]\u001b[0m GAN_loss/gen/final-g-loss: 1.008\n",
      "\u001b[32m[1005 17:20:25 @monitor.py:467]\u001b[0m GAN_loss/gen/klloss: 0.050439\n",
      "\u001b[32m[1005 17:20:25 @monitor.py:467]\u001b[0m GAN_loss/gen/loss: 0.95755\n",
      "\u001b[32m[1005 17:20:25 @monitor.py:467]\u001b[0m QueueInput/queue_size: 50\n",
      "\u001b[32m[1005 17:20:25 @base.py:275]\u001b[0m Start Epoch 74 ...\n"
     ]
    },
    {
     "name": "stderr",
     "output_type": "stream",
     "text": [
      "\n",
      "100%|###################################################################################|175/175[00:05<00:00,34.13it/s]"
     ]
    },
    {
     "name": "stdout",
     "output_type": "stream",
     "text": [
      "\u001b[32m[1005 17:20:30 @base.py:285]\u001b[0m Epoch 74 (global_step 12950) finished, time:5.13 seconds.\n",
      "\u001b[32m[1005 17:20:30 @saver.py:79]\u001b[0m Model saved to ../output/Chicago/TGAN/model\\model-12950.\n",
      "\u001b[32m[1005 17:20:30 @monitor.py:467]\u001b[0m GAN_loss/discrim/accuracy_fake: 0.928\n",
      "\u001b[32m[1005 17:20:30 @monitor.py:467]\u001b[0m GAN_loss/discrim/accuracy_real: 0.15\n",
      "\u001b[32m[1005 17:20:30 @monitor.py:467]\u001b[0m GAN_loss/discrim/loss: 0.64129\n",
      "\u001b[32m[1005 17:20:30 @monitor.py:467]\u001b[0m GAN_loss/gen/final-g-loss: 1.0147\n",
      "\u001b[32m[1005 17:20:30 @monitor.py:467]\u001b[0m GAN_loss/gen/klloss: 0.06433\n",
      "\u001b[32m[1005 17:20:30 @monitor.py:467]\u001b[0m GAN_loss/gen/loss: 0.95041\n",
      "\u001b[32m[1005 17:20:30 @monitor.py:467]\u001b[0m QueueInput/queue_size: 50\n",
      "\u001b[32m[1005 17:20:30 @base.py:275]\u001b[0m Start Epoch 75 ...\n"
     ]
    },
    {
     "name": "stderr",
     "output_type": "stream",
     "text": [
      "\n",
      "100%|###################################################################################|175/175[00:05<00:00,34.14it/s]"
     ]
    },
    {
     "name": "stdout",
     "output_type": "stream",
     "text": [
      "\u001b[32m[1005 17:20:35 @base.py:285]\u001b[0m Epoch 75 (global_step 13125) finished, time:5.13 seconds.\n",
      "\u001b[32m[1005 17:20:35 @saver.py:79]\u001b[0m Model saved to ../output/Chicago/TGAN/model\\model-13125.\n",
      "\u001b[32m[1005 17:20:35 @monitor.py:467]\u001b[0m GAN_loss/discrim/accuracy_fake: 0.92\n",
      "\u001b[32m[1005 17:20:35 @monitor.py:467]\u001b[0m GAN_loss/discrim/accuracy_real: 0.154\n",
      "\u001b[32m[1005 17:20:35 @monitor.py:467]\u001b[0m GAN_loss/discrim/loss: 0.6395\n",
      "\u001b[32m[1005 17:20:35 @monitor.py:467]\u001b[0m GAN_loss/gen/final-g-loss: 0.99373\n",
      "\u001b[32m[1005 17:20:35 @monitor.py:467]\u001b[0m GAN_loss/gen/klloss: 0.045032\n",
      "\u001b[32m[1005 17:20:35 @monitor.py:467]\u001b[0m GAN_loss/gen/loss: 0.9487\n",
      "\u001b[32m[1005 17:20:35 @monitor.py:467]\u001b[0m QueueInput/queue_size: 50\n",
      "\u001b[32m[1005 17:20:35 @base.py:275]\u001b[0m Start Epoch 76 ...\n"
     ]
    },
    {
     "name": "stderr",
     "output_type": "stream",
     "text": [
      "\n",
      "100%|###################################################################################|175/175[00:05<00:00,34.13it/s]"
     ]
    },
    {
     "name": "stdout",
     "output_type": "stream",
     "text": [
      "\u001b[32m[1005 17:20:40 @base.py:285]\u001b[0m Epoch 76 (global_step 13300) finished, time:5.13 seconds.\n",
      "\u001b[32m[1005 17:20:40 @saver.py:79]\u001b[0m Model saved to ../output/Chicago/TGAN/model\\model-13300.\n",
      "\u001b[32m[1005 17:20:40 @monitor.py:467]\u001b[0m GAN_loss/discrim/accuracy_fake: 0.906\n",
      "\u001b[32m[1005 17:20:40 @monitor.py:467]\u001b[0m GAN_loss/discrim/accuracy_real: 0.128\n",
      "\u001b[32m[1005 17:20:40 @monitor.py:467]\u001b[0m GAN_loss/discrim/loss: 0.64612\n",
      "\u001b[32m[1005 17:20:40 @monitor.py:467]\u001b[0m GAN_loss/gen/final-g-loss: 1.002\n",
      "\u001b[32m[1005 17:20:40 @monitor.py:467]\u001b[0m GAN_loss/gen/klloss: 0.054388\n",
      "\u001b[32m[1005 17:20:40 @monitor.py:467]\u001b[0m GAN_loss/gen/loss: 0.94764\n",
      "\u001b[32m[1005 17:20:40 @monitor.py:467]\u001b[0m QueueInput/queue_size: 50\n",
      "\u001b[32m[1005 17:20:40 @base.py:275]\u001b[0m Start Epoch 77 ...\n"
     ]
    },
    {
     "name": "stderr",
     "output_type": "stream",
     "text": [
      "\n",
      "100%|###################################################################################|175/175[00:05<00:00,34.09it/s]"
     ]
    },
    {
     "name": "stdout",
     "output_type": "stream",
     "text": [
      "\u001b[32m[1005 17:20:46 @base.py:285]\u001b[0m Epoch 77 (global_step 13475) finished, time:5.13 seconds.\n",
      "\u001b[32m[1005 17:20:46 @saver.py:79]\u001b[0m Model saved to ../output/Chicago/TGAN/model\\model-13475.\n",
      "\u001b[32m[1005 17:20:46 @monitor.py:467]\u001b[0m GAN_loss/discrim/accuracy_fake: 0.898\n",
      "\u001b[32m[1005 17:20:46 @monitor.py:467]\u001b[0m GAN_loss/discrim/accuracy_real: 0.168\n",
      "\u001b[32m[1005 17:20:46 @monitor.py:467]\u001b[0m GAN_loss/discrim/loss: 0.64743\n",
      "\u001b[32m[1005 17:20:46 @monitor.py:467]\u001b[0m GAN_loss/gen/final-g-loss: 1.0063\n",
      "\u001b[32m[1005 17:20:46 @monitor.py:467]\u001b[0m GAN_loss/gen/klloss: 0.059292\n",
      "\u001b[32m[1005 17:20:46 @monitor.py:467]\u001b[0m GAN_loss/gen/loss: 0.94703\n",
      "\u001b[32m[1005 17:20:46 @monitor.py:467]\u001b[0m QueueInput/queue_size: 50\n",
      "\u001b[32m[1005 17:20:46 @base.py:275]\u001b[0m Start Epoch 78 ...\n"
     ]
    },
    {
     "name": "stderr",
     "output_type": "stream",
     "text": [
      "\n",
      "100%|###################################################################################|175/175[00:05<00:00,34.12it/s]"
     ]
    },
    {
     "name": "stdout",
     "output_type": "stream",
     "text": [
      "\u001b[32m[1005 17:20:51 @base.py:285]\u001b[0m Epoch 78 (global_step 13650) finished, time:5.13 seconds.\n",
      "\u001b[32m[1005 17:20:51 @saver.py:79]\u001b[0m Model saved to ../output/Chicago/TGAN/model\\model-13650.\n",
      "\u001b[32m[1005 17:20:51 @monitor.py:467]\u001b[0m GAN_loss/discrim/accuracy_fake: 0.914\n",
      "\u001b[32m[1005 17:20:51 @monitor.py:467]\u001b[0m GAN_loss/discrim/accuracy_real: 0.16\n",
      "\u001b[32m[1005 17:20:51 @monitor.py:467]\u001b[0m GAN_loss/discrim/loss: 0.64511\n",
      "\u001b[32m[1005 17:20:51 @monitor.py:467]\u001b[0m GAN_loss/gen/final-g-loss: 0.99267\n",
      "\u001b[32m[1005 17:20:51 @monitor.py:467]\u001b[0m GAN_loss/gen/klloss: 0.048759\n",
      "\u001b[32m[1005 17:20:51 @monitor.py:467]\u001b[0m GAN_loss/gen/loss: 0.94392\n",
      "\u001b[32m[1005 17:20:51 @monitor.py:467]\u001b[0m QueueInput/queue_size: 50\n",
      "\u001b[32m[1005 17:20:51 @base.py:275]\u001b[0m Start Epoch 79 ...\n"
     ]
    },
    {
     "name": "stderr",
     "output_type": "stream",
     "text": [
      "\n",
      "100%|###################################################################################|175/175[00:05<00:00,34.12it/s]"
     ]
    },
    {
     "name": "stdout",
     "output_type": "stream",
     "text": [
      "\u001b[32m[1005 17:20:56 @base.py:285]\u001b[0m Epoch 79 (global_step 13825) finished, time:5.13 seconds.\n",
      "\u001b[32m[1005 17:20:56 @saver.py:79]\u001b[0m Model saved to ../output/Chicago/TGAN/model\\model-13825.\n",
      "\u001b[32m[1005 17:20:56 @monitor.py:467]\u001b[0m GAN_loss/discrim/accuracy_fake: 0.902\n",
      "\u001b[32m[1005 17:20:56 @monitor.py:467]\u001b[0m GAN_loss/discrim/accuracy_real: 0.16\n",
      "\u001b[32m[1005 17:20:56 @monitor.py:467]\u001b[0m GAN_loss/discrim/loss: 0.64416\n",
      "\u001b[32m[1005 17:20:56 @monitor.py:467]\u001b[0m GAN_loss/gen/final-g-loss: 1.0313\n",
      "\u001b[32m[1005 17:20:56 @monitor.py:467]\u001b[0m GAN_loss/gen/klloss: 0.082164\n",
      "\u001b[32m[1005 17:20:56 @monitor.py:467]\u001b[0m GAN_loss/gen/loss: 0.9491\n",
      "\u001b[32m[1005 17:20:56 @monitor.py:467]\u001b[0m QueueInput/queue_size: 50\n",
      "\u001b[32m[1005 17:20:56 @base.py:275]\u001b[0m Start Epoch 80 ...\n"
     ]
    },
    {
     "name": "stderr",
     "output_type": "stream",
     "text": [
      "\n",
      "100%|###################################################################################|175/175[00:05<00:00,34.13it/s]"
     ]
    },
    {
     "name": "stdout",
     "output_type": "stream",
     "text": [
      "\u001b[32m[1005 17:21:01 @base.py:285]\u001b[0m Epoch 80 (global_step 14000) finished, time:5.13 seconds.\n",
      "\u001b[32m[1005 17:21:01 @saver.py:79]\u001b[0m Model saved to ../output/Chicago/TGAN/model\\model-14000.\n",
      "\u001b[32m[1005 17:21:01 @monitor.py:467]\u001b[0m GAN_loss/discrim/accuracy_fake: 0.914\n",
      "\u001b[32m[1005 17:21:01 @monitor.py:467]\u001b[0m GAN_loss/discrim/accuracy_real: 0.162\n",
      "\u001b[32m[1005 17:21:01 @monitor.py:467]\u001b[0m GAN_loss/discrim/loss: 0.6386\n",
      "\u001b[32m[1005 17:21:01 @monitor.py:467]\u001b[0m GAN_loss/gen/final-g-loss: 1.0029\n",
      "\u001b[32m[1005 17:21:01 @monitor.py:467]\u001b[0m GAN_loss/gen/klloss: 0.053928\n",
      "\u001b[32m[1005 17:21:01 @monitor.py:467]\u001b[0m GAN_loss/gen/loss: 0.94896\n",
      "\u001b[32m[1005 17:21:01 @monitor.py:467]\u001b[0m QueueInput/queue_size: 50\n",
      "\u001b[32m[1005 17:21:01 @base.py:275]\u001b[0m Start Epoch 81 ...\n"
     ]
    },
    {
     "name": "stderr",
     "output_type": "stream",
     "text": [
      "\n",
      "100%|###################################################################################|175/175[00:05<00:00,34.12it/s]"
     ]
    },
    {
     "name": "stdout",
     "output_type": "stream",
     "text": [
      "\u001b[32m[1005 17:21:06 @base.py:285]\u001b[0m Epoch 81 (global_step 14175) finished, time:5.13 seconds.\n",
      "\u001b[32m[1005 17:21:07 @saver.py:79]\u001b[0m Model saved to ../output/Chicago/TGAN/model\\model-14175.\n",
      "\u001b[32m[1005 17:21:07 @monitor.py:467]\u001b[0m GAN_loss/discrim/accuracy_fake: 0.902\n",
      "\u001b[32m[1005 17:21:07 @monitor.py:467]\u001b[0m GAN_loss/discrim/accuracy_real: 0.156\n",
      "\u001b[32m[1005 17:21:07 @monitor.py:467]\u001b[0m GAN_loss/discrim/loss: 0.64222\n",
      "\u001b[32m[1005 17:21:07 @monitor.py:467]\u001b[0m GAN_loss/gen/final-g-loss: 0.98396\n",
      "\u001b[32m[1005 17:21:07 @monitor.py:467]\u001b[0m GAN_loss/gen/klloss: 0.041073\n",
      "\u001b[32m[1005 17:21:07 @monitor.py:467]\u001b[0m GAN_loss/gen/loss: 0.94289\n",
      "\u001b[32m[1005 17:21:07 @monitor.py:467]\u001b[0m QueueInput/queue_size: 50\n",
      "\u001b[32m[1005 17:21:07 @base.py:275]\u001b[0m Start Epoch 82 ...\n"
     ]
    },
    {
     "name": "stderr",
     "output_type": "stream",
     "text": [
      "\n",
      "100%|###################################################################################|175/175[00:05<00:00,34.14it/s]"
     ]
    },
    {
     "name": "stdout",
     "output_type": "stream",
     "text": [
      "\u001b[32m[1005 17:21:12 @base.py:285]\u001b[0m Epoch 82 (global_step 14350) finished, time:5.13 seconds.\n",
      "\u001b[32m[1005 17:21:12 @saver.py:79]\u001b[0m Model saved to ../output/Chicago/TGAN/model\\model-14350.\n",
      "\u001b[32m[1005 17:21:12 @monitor.py:467]\u001b[0m GAN_loss/discrim/accuracy_fake: 0.902\n",
      "\u001b[32m[1005 17:21:12 @monitor.py:467]\u001b[0m GAN_loss/discrim/accuracy_real: 0.15\n",
      "\u001b[32m[1005 17:21:12 @monitor.py:467]\u001b[0m GAN_loss/discrim/loss: 0.64779\n",
      "\u001b[32m[1005 17:21:12 @monitor.py:467]\u001b[0m GAN_loss/gen/final-g-loss: 1.0315\n",
      "\u001b[32m[1005 17:21:12 @monitor.py:467]\u001b[0m GAN_loss/gen/klloss: 0.07942\n",
      "\u001b[32m[1005 17:21:12 @monitor.py:467]\u001b[0m GAN_loss/gen/loss: 0.95209\n",
      "\u001b[32m[1005 17:21:12 @monitor.py:467]\u001b[0m QueueInput/queue_size: 50\n",
      "\u001b[32m[1005 17:21:12 @base.py:275]\u001b[0m Start Epoch 83 ...\n"
     ]
    },
    {
     "name": "stderr",
     "output_type": "stream",
     "text": [
      "\n",
      "100%|###################################################################################|175/175[00:05<00:00,34.11it/s]"
     ]
    },
    {
     "name": "stdout",
     "output_type": "stream",
     "text": [
      "\u001b[32m[1005 17:21:17 @base.py:285]\u001b[0m Epoch 83 (global_step 14525) finished, time:5.13 seconds.\n",
      "\u001b[32m[1005 17:21:17 @saver.py:79]\u001b[0m Model saved to ../output/Chicago/TGAN/model\\model-14525.\n",
      "\u001b[32m[1005 17:21:17 @monitor.py:467]\u001b[0m GAN_loss/discrim/accuracy_fake: 0.92\n",
      "\u001b[32m[1005 17:21:17 @monitor.py:467]\u001b[0m GAN_loss/discrim/accuracy_real: 0.144\n",
      "\u001b[32m[1005 17:21:17 @monitor.py:467]\u001b[0m GAN_loss/discrim/loss: 0.64046\n",
      "\u001b[32m[1005 17:21:17 @monitor.py:467]\u001b[0m GAN_loss/gen/final-g-loss: 1.0157\n",
      "\u001b[32m[1005 17:21:17 @monitor.py:467]\u001b[0m GAN_loss/gen/klloss: 0.053891\n",
      "\u001b[32m[1005 17:21:17 @monitor.py:467]\u001b[0m GAN_loss/gen/loss: 0.96186\n",
      "\u001b[32m[1005 17:21:17 @monitor.py:467]\u001b[0m QueueInput/queue_size: 50\n",
      "\u001b[32m[1005 17:21:17 @base.py:275]\u001b[0m Start Epoch 84 ...\n"
     ]
    },
    {
     "name": "stderr",
     "output_type": "stream",
     "text": [
      "\n",
      "100%|###################################################################################|175/175[00:05<00:00,33.89it/s]"
     ]
    },
    {
     "name": "stdout",
     "output_type": "stream",
     "text": [
      "\u001b[32m[1005 17:21:22 @base.py:285]\u001b[0m Epoch 84 (global_step 14700) finished, time:5.16 seconds.\n",
      "\u001b[32m[1005 17:21:22 @saver.py:79]\u001b[0m Model saved to ../output/Chicago/TGAN/model\\model-14700.\n",
      "\u001b[32m[1005 17:21:22 @monitor.py:467]\u001b[0m GAN_loss/discrim/accuracy_fake: 0.91\n",
      "\u001b[32m[1005 17:21:22 @monitor.py:467]\u001b[0m GAN_loss/discrim/accuracy_real: 0.13\n",
      "\u001b[32m[1005 17:21:22 @monitor.py:467]\u001b[0m GAN_loss/discrim/loss: 0.64794\n",
      "\u001b[32m[1005 17:21:22 @monitor.py:467]\u001b[0m GAN_loss/gen/final-g-loss: 0.98001\n",
      "\u001b[32m[1005 17:21:22 @monitor.py:467]\u001b[0m GAN_loss/gen/klloss: 0.041083\n",
      "\u001b[32m[1005 17:21:22 @monitor.py:467]\u001b[0m GAN_loss/gen/loss: 0.93893\n",
      "\u001b[32m[1005 17:21:22 @monitor.py:467]\u001b[0m QueueInput/queue_size: 50\n",
      "\u001b[32m[1005 17:21:22 @base.py:275]\u001b[0m Start Epoch 85 ...\n"
     ]
    },
    {
     "name": "stderr",
     "output_type": "stream",
     "text": [
      "\n",
      "100%|###################################################################################|175/175[00:05<00:00,33.09it/s]"
     ]
    },
    {
     "name": "stdout",
     "output_type": "stream",
     "text": [
      "\u001b[32m[1005 17:21:28 @base.py:285]\u001b[0m Epoch 85 (global_step 14875) finished, time:5.29 seconds.\n",
      "\u001b[32m[1005 17:21:28 @saver.py:79]\u001b[0m Model saved to ../output/Chicago/TGAN/model\\model-14875.\n",
      "\u001b[32m[1005 17:21:28 @monitor.py:467]\u001b[0m GAN_loss/discrim/accuracy_fake: 0.922\n",
      "\u001b[32m[1005 17:21:28 @monitor.py:467]\u001b[0m GAN_loss/discrim/accuracy_real: 0.122\n"
     ]
    },
    {
     "name": "stderr",
     "output_type": "stream",
     "text": [
      "\n"
     ]
    },
    {
     "name": "stdout",
     "output_type": "stream",
     "text": [
      "\u001b[32m[1005 17:21:28 @monitor.py:467]\u001b[0m GAN_loss/discrim/loss: 0.64115\n",
      "\u001b[32m[1005 17:21:28 @monitor.py:467]\u001b[0m GAN_loss/gen/final-g-loss: 1.0346\n",
      "\u001b[32m[1005 17:21:28 @monitor.py:467]\u001b[0m GAN_loss/gen/klloss: 0.078313\n",
      "\u001b[32m[1005 17:21:28 @monitor.py:467]\u001b[0m GAN_loss/gen/loss: 0.95631\n",
      "\u001b[32m[1005 17:21:28 @monitor.py:467]\u001b[0m QueueInput/queue_size: 50\n",
      "\u001b[32m[1005 17:21:28 @base.py:275]\u001b[0m Start Epoch 86 ...\n"
     ]
    },
    {
     "name": "stderr",
     "output_type": "stream",
     "text": [
      "100%|###################################################################################|175/175[00:05<00:00,33.66it/s]"
     ]
    },
    {
     "name": "stdout",
     "output_type": "stream",
     "text": [
      "\u001b[32m[1005 17:21:33 @base.py:285]\u001b[0m Epoch 86 (global_step 15050) finished, time:5.2 seconds.\n",
      "\u001b[32m[1005 17:21:33 @saver.py:79]\u001b[0m Model saved to ../output/Chicago/TGAN/model\\model-15050.\n",
      "\u001b[32m[1005 17:21:33 @monitor.py:467]\u001b[0m GAN_loss/discrim/accuracy_fake: 0.928\n",
      "\u001b[32m[1005 17:21:33 @monitor.py:467]\u001b[0m GAN_loss/discrim/accuracy_real: 0.13\n",
      "\u001b[32m[1005 17:21:33 @monitor.py:467]\u001b[0m GAN_loss/discrim/loss: 0.64348\n",
      "\u001b[32m[1005 17:21:33 @monitor.py:467]\u001b[0m GAN_loss/gen/final-g-loss: 1.0114\n",
      "\u001b[32m[1005 17:21:33 @monitor.py:467]\u001b[0m GAN_loss/gen/klloss: 0.066077\n",
      "\u001b[32m[1005 17:21:33 @monitor.py:467]\u001b[0m GAN_loss/gen/loss: 0.94532\n",
      "\u001b[32m[1005 17:21:33 @monitor.py:467]\u001b[0m QueueInput/queue_size: 50\n",
      "\u001b[32m[1005 17:21:33 @base.py:275]\u001b[0m Start Epoch 87 ...\n"
     ]
    },
    {
     "name": "stderr",
     "output_type": "stream",
     "text": [
      "\n",
      "100%|###################################################################################|175/175[00:05<00:00,33.52it/s]"
     ]
    },
    {
     "name": "stdout",
     "output_type": "stream",
     "text": [
      "\u001b[32m[1005 17:21:38 @base.py:285]\u001b[0m Epoch 87 (global_step 15225) finished, time:5.22 seconds.\n"
     ]
    },
    {
     "name": "stderr",
     "output_type": "stream",
     "text": [
      "\n"
     ]
    },
    {
     "name": "stdout",
     "output_type": "stream",
     "text": [
      "\u001b[32m[1005 17:21:38 @saver.py:79]\u001b[0m Model saved to ../output/Chicago/TGAN/model\\model-15225.\n",
      "\u001b[32m[1005 17:21:38 @monitor.py:467]\u001b[0m GAN_loss/discrim/accuracy_fake: 0.944\n",
      "\u001b[32m[1005 17:21:38 @monitor.py:467]\u001b[0m GAN_loss/discrim/accuracy_real: 0.152\n",
      "\u001b[32m[1005 17:21:38 @monitor.py:467]\u001b[0m GAN_loss/discrim/loss: 0.64425\n",
      "\u001b[32m[1005 17:21:38 @monitor.py:467]\u001b[0m GAN_loss/gen/final-g-loss: 1.0147\n",
      "\u001b[32m[1005 17:21:38 @monitor.py:467]\u001b[0m GAN_loss/gen/klloss: 0.065854\n",
      "\u001b[32m[1005 17:21:38 @monitor.py:467]\u001b[0m GAN_loss/gen/loss: 0.94887\n",
      "\u001b[32m[1005 17:21:38 @monitor.py:467]\u001b[0m QueueInput/queue_size: 50\n",
      "\u001b[32m[1005 17:21:38 @base.py:275]\u001b[0m Start Epoch 88 ...\n"
     ]
    },
    {
     "name": "stderr",
     "output_type": "stream",
     "text": [
      "100%|###################################################################################|175/175[00:05<00:00,33.89it/s]"
     ]
    },
    {
     "name": "stdout",
     "output_type": "stream",
     "text": [
      "\u001b[32m[1005 17:21:43 @base.py:285]\u001b[0m Epoch 88 (global_step 15400) finished, time:5.17 seconds.\n",
      "\u001b[32m[1005 17:21:43 @saver.py:79]\u001b[0m Model saved to ../output/Chicago/TGAN/model\\model-15400.\n",
      "\u001b[32m[1005 17:21:43 @monitor.py:467]\u001b[0m GAN_loss/discrim/accuracy_fake: 0.942\n",
      "\u001b[32m[1005 17:21:43 @monitor.py:467]\u001b[0m GAN_loss/discrim/accuracy_real: 0.104\n",
      "\u001b[32m[1005 17:21:43 @monitor.py:467]\u001b[0m GAN_loss/discrim/loss: 0.64818\n",
      "\u001b[32m[1005 17:21:43 @monitor.py:467]\u001b[0m GAN_loss/gen/final-g-loss: 0.99569\n",
      "\u001b[32m[1005 17:21:43 @monitor.py:467]\u001b[0m GAN_loss/gen/klloss: 0.049514\n",
      "\u001b[32m[1005 17:21:43 @monitor.py:467]\u001b[0m GAN_loss/gen/loss: 0.94618\n",
      "\u001b[32m[1005 17:21:43 @monitor.py:467]\u001b[0m QueueInput/queue_size: 50\n",
      "\u001b[32m[1005 17:21:43 @base.py:275]\u001b[0m Start Epoch 89 ...\n"
     ]
    },
    {
     "name": "stderr",
     "output_type": "stream",
     "text": [
      "\n",
      "100%|###################################################################################|175/175[00:05<00:00,34.27it/s]"
     ]
    },
    {
     "name": "stdout",
     "output_type": "stream",
     "text": [
      "\u001b[32m[1005 17:21:49 @base.py:285]\u001b[0m Epoch 89 (global_step 15575) finished, time:5.11 seconds.\n",
      "\u001b[32m[1005 17:21:49 @saver.py:79]\u001b[0m Model saved to ../output/Chicago/TGAN/model\\model-15575.\n",
      "\u001b[32m[1005 17:21:49 @monitor.py:467]\u001b[0m GAN_loss/discrim/accuracy_fake: 0.916\n",
      "\u001b[32m[1005 17:21:49 @monitor.py:467]\u001b[0m GAN_loss/discrim/accuracy_real: 0.104\n",
      "\u001b[32m[1005 17:21:49 @monitor.py:467]\u001b[0m GAN_loss/discrim/loss: 0.65338\n",
      "\u001b[32m[1005 17:21:49 @monitor.py:467]\u001b[0m GAN_loss/gen/final-g-loss: 0.99521\n",
      "\u001b[32m[1005 17:21:49 @monitor.py:467]\u001b[0m GAN_loss/gen/klloss: 0.063502\n",
      "\u001b[32m[1005 17:21:49 @monitor.py:467]\u001b[0m GAN_loss/gen/loss: 0.93171\n",
      "\u001b[32m[1005 17:21:49 @monitor.py:467]\u001b[0m QueueInput/queue_size: 50\n",
      "\u001b[32m[1005 17:21:49 @base.py:275]\u001b[0m Start Epoch 90 ...\n"
     ]
    },
    {
     "name": "stderr",
     "output_type": "stream",
     "text": [
      "\n",
      "100%|###################################################################################|175/175[00:05<00:00,34.24it/s]"
     ]
    },
    {
     "name": "stdout",
     "output_type": "stream",
     "text": [
      "\u001b[32m[1005 17:21:54 @base.py:285]\u001b[0m Epoch 90 (global_step 15750) finished, time:5.11 seconds.\n",
      "\u001b[32m[1005 17:21:54 @saver.py:79]\u001b[0m Model saved to ../output/Chicago/TGAN/model\\model-15750.\n",
      "\u001b[32m[1005 17:21:54 @monitor.py:467]\u001b[0m GAN_loss/discrim/accuracy_fake: 0.948\n",
      "\u001b[32m[1005 17:21:54 @monitor.py:467]\u001b[0m GAN_loss/discrim/accuracy_real: 0.09\n",
      "\u001b[32m[1005 17:21:54 @monitor.py:467]\u001b[0m GAN_loss/discrim/loss: 0.64709\n",
      "\u001b[32m[1005 17:21:54 @monitor.py:467]\u001b[0m GAN_loss/gen/final-g-loss: 0.99736\n",
      "\u001b[32m[1005 17:21:54 @monitor.py:467]\u001b[0m GAN_loss/gen/klloss: 0.051765\n",
      "\u001b[32m[1005 17:21:54 @monitor.py:467]\u001b[0m GAN_loss/gen/loss: 0.9456\n",
      "\u001b[32m[1005 17:21:54 @monitor.py:467]\u001b[0m QueueInput/queue_size: 50\n",
      "\u001b[32m[1005 17:21:54 @base.py:275]\u001b[0m Start Epoch 91 ...\n"
     ]
    },
    {
     "name": "stderr",
     "output_type": "stream",
     "text": [
      "\n",
      "100%|###################################################################################|175/175[00:05<00:00,33.29it/s]"
     ]
    },
    {
     "name": "stdout",
     "output_type": "stream",
     "text": [
      "\u001b[32m[1005 17:21:59 @base.py:285]\u001b[0m Epoch 91 (global_step 15925) finished, time:5.26 seconds.\n",
      "\u001b[32m[1005 17:21:59 @saver.py:79]\u001b[0m Model saved to ../output/Chicago/TGAN/model\\model-15925.\n",
      "\u001b[32m[1005 17:21:59 @monitor.py:467]\u001b[0m GAN_loss/discrim/accuracy_fake: 0.916\n",
      "\u001b[32m[1005 17:21:59 @monitor.py:467]\u001b[0m GAN_loss/discrim/accuracy_real: 0.102\n",
      "\u001b[32m[1005 17:21:59 @monitor.py:467]\u001b[0m GAN_loss/discrim/loss: 0.6492\n",
      "\u001b[32m[1005 17:21:59 @monitor.py:467]\u001b[0m GAN_loss/gen/final-g-loss: 0.99586\n",
      "\u001b[32m[1005 17:21:59 @monitor.py:467]\u001b[0m GAN_loss/gen/klloss: 0.062377\n",
      "\u001b[32m[1005 17:21:59 @monitor.py:467]\u001b[0m GAN_loss/gen/loss: 0.93349\n",
      "\u001b[32m[1005 17:21:59 @monitor.py:467]\u001b[0m QueueInput/queue_size: 50\n",
      "\u001b[32m[1005 17:21:59 @base.py:275]\u001b[0m Start Epoch 92 ...\n"
     ]
    },
    {
     "name": "stderr",
     "output_type": "stream",
     "text": [
      "\n",
      "100%|###################################################################################|175/175[00:05<00:00,34.30it/s]"
     ]
    },
    {
     "name": "stdout",
     "output_type": "stream",
     "text": [
      "\u001b[32m[1005 17:22:04 @base.py:285]\u001b[0m Epoch 92 (global_step 16100) finished, time:5.1 seconds.\n",
      "\u001b[32m[1005 17:22:04 @saver.py:79]\u001b[0m Model saved to ../output/Chicago/TGAN/model\\model-16100.\n",
      "\u001b[32m[1005 17:22:04 @monitor.py:467]\u001b[0m GAN_loss/discrim/accuracy_fake: 0.942\n",
      "\u001b[32m[1005 17:22:04 @monitor.py:467]\u001b[0m GAN_loss/discrim/accuracy_real: 0.094\n",
      "\u001b[32m[1005 17:22:04 @monitor.py:467]\u001b[0m GAN_loss/discrim/loss: 0.64419\n",
      "\u001b[32m[1005 17:22:04 @monitor.py:467]\u001b[0m GAN_loss/gen/final-g-loss: 0.98179\n",
      "\u001b[32m[1005 17:22:04 @monitor.py:467]\u001b[0m GAN_loss/gen/klloss: 0.038612\n",
      "\u001b[32m[1005 17:22:04 @monitor.py:467]\u001b[0m GAN_loss/gen/loss: 0.94318\n",
      "\u001b[32m[1005 17:22:04 @monitor.py:467]\u001b[0m QueueInput/queue_size: 50\n",
      "\u001b[32m[1005 17:22:04 @base.py:275]\u001b[0m Start Epoch 93 ...\n"
     ]
    },
    {
     "name": "stderr",
     "output_type": "stream",
     "text": [
      "\n",
      "100%|###################################################################################|175/175[00:05<00:00,34.31it/s]"
     ]
    },
    {
     "name": "stdout",
     "output_type": "stream",
     "text": [
      "\u001b[32m[1005 17:22:09 @base.py:285]\u001b[0m Epoch 93 (global_step 16275) finished, time:5.1 seconds.\n",
      "\u001b[32m[1005 17:22:10 @saver.py:79]\u001b[0m Model saved to ../output/Chicago/TGAN/model\\model-16275.\n",
      "\u001b[32m[1005 17:22:10 @monitor.py:467]\u001b[0m GAN_loss/discrim/accuracy_fake: 0.932\n",
      "\u001b[32m[1005 17:22:10 @monitor.py:467]\u001b[0m GAN_loss/discrim/accuracy_real: 0.088\n",
      "\u001b[32m[1005 17:22:10 @monitor.py:467]\u001b[0m GAN_loss/discrim/loss: 0.64564\n",
      "\u001b[32m[1005 17:22:10 @monitor.py:467]\u001b[0m GAN_loss/gen/final-g-loss: 0.97953\n",
      "\u001b[32m[1005 17:22:10 @monitor.py:467]\u001b[0m GAN_loss/gen/klloss: 0.045785\n",
      "\u001b[32m[1005 17:22:10 @monitor.py:467]\u001b[0m GAN_loss/gen/loss: 0.93375\n",
      "\u001b[32m[1005 17:22:10 @monitor.py:467]\u001b[0m QueueInput/queue_size: 50\n",
      "\u001b[32m[1005 17:22:10 @base.py:275]\u001b[0m Start Epoch 94 ...\n"
     ]
    },
    {
     "name": "stderr",
     "output_type": "stream",
     "text": [
      "\n",
      "100%|###################################################################################|175/175[00:05<00:00,34.31it/s]"
     ]
    },
    {
     "name": "stdout",
     "output_type": "stream",
     "text": [
      "\u001b[32m[1005 17:22:15 @base.py:285]\u001b[0m Epoch 94 (global_step 16450) finished, time:5.1 seconds.\n",
      "\u001b[32m[1005 17:22:15 @saver.py:79]\u001b[0m Model saved to ../output/Chicago/TGAN/model\\model-16450.\n",
      "\u001b[32m[1005 17:22:15 @monitor.py:467]\u001b[0m GAN_loss/discrim/accuracy_fake: 0.946\n",
      "\u001b[32m[1005 17:22:15 @monitor.py:467]\u001b[0m GAN_loss/discrim/accuracy_real: 0.138\n",
      "\u001b[32m[1005 17:22:15 @monitor.py:467]\u001b[0m GAN_loss/discrim/loss: 0.64768\n",
      "\u001b[32m[1005 17:22:15 @monitor.py:467]\u001b[0m GAN_loss/gen/final-g-loss: 0.97624\n",
      "\u001b[32m[1005 17:22:15 @monitor.py:467]\u001b[0m GAN_loss/gen/klloss: 0.046231\n",
      "\u001b[32m[1005 17:22:15 @monitor.py:467]\u001b[0m GAN_loss/gen/loss: 0.93001\n",
      "\u001b[32m[1005 17:22:15 @monitor.py:467]\u001b[0m QueueInput/queue_size: 50\n",
      "\u001b[32m[1005 17:22:15 @base.py:275]\u001b[0m Start Epoch 95 ...\n"
     ]
    },
    {
     "name": "stderr",
     "output_type": "stream",
     "text": [
      "\n",
      "100%|###################################################################################|175/175[00:05<00:00,34.27it/s]"
     ]
    },
    {
     "name": "stdout",
     "output_type": "stream",
     "text": [
      "\u001b[32m[1005 17:22:20 @base.py:285]\u001b[0m Epoch 95 (global_step 16625) finished, time:5.11 seconds.\n",
      "\u001b[32m[1005 17:22:20 @saver.py:79]\u001b[0m Model saved to ../output/Chicago/TGAN/model\\model-16625.\n",
      "\u001b[32m[1005 17:22:20 @monitor.py:467]\u001b[0m GAN_loss/discrim/accuracy_fake: 0.958\n",
      "\u001b[32m[1005 17:22:20 @monitor.py:467]\u001b[0m GAN_loss/discrim/accuracy_real: 0.1\n",
      "\u001b[32m[1005 17:22:20 @monitor.py:467]\u001b[0m GAN_loss/discrim/loss: 0.63571\n",
      "\u001b[32m[1005 17:22:20 @monitor.py:467]\u001b[0m GAN_loss/gen/final-g-loss: 0.99184\n",
      "\u001b[32m[1005 17:22:20 @monitor.py:467]\u001b[0m GAN_loss/gen/klloss: 0.036207\n",
      "\u001b[32m[1005 17:22:20 @monitor.py:467]\u001b[0m GAN_loss/gen/loss: 0.95563\n",
      "\u001b[32m[1005 17:22:20 @monitor.py:467]\u001b[0m QueueInput/queue_size: 50\n",
      "\u001b[32m[1005 17:22:20 @base.py:275]\u001b[0m Start Epoch 96 ...\n"
     ]
    },
    {
     "name": "stderr",
     "output_type": "stream",
     "text": [
      "\n",
      "100%|###################################################################################|175/175[00:05<00:00,34.30it/s]"
     ]
    },
    {
     "name": "stdout",
     "output_type": "stream",
     "text": [
      "\u001b[32m[1005 17:22:25 @base.py:285]\u001b[0m Epoch 96 (global_step 16800) finished, time:5.1 seconds.\n",
      "\u001b[32m[1005 17:22:25 @saver.py:79]\u001b[0m Model saved to ../output/Chicago/TGAN/model\\model-16800.\n",
      "\u001b[32m[1005 17:22:25 @monitor.py:467]\u001b[0m GAN_loss/discrim/accuracy_fake: 0.954\n",
      "\u001b[32m[1005 17:22:25 @monitor.py:467]\u001b[0m GAN_loss/discrim/accuracy_real: 0.112\n",
      "\u001b[32m[1005 17:22:25 @monitor.py:467]\u001b[0m GAN_loss/discrim/loss: 0.64465\n",
      "\u001b[32m[1005 17:22:25 @monitor.py:467]\u001b[0m GAN_loss/gen/final-g-loss: 0.98553\n",
      "\u001b[32m[1005 17:22:25 @monitor.py:467]\u001b[0m GAN_loss/gen/klloss: 0.04225\n",
      "\u001b[32m[1005 17:22:25 @monitor.py:467]\u001b[0m GAN_loss/gen/loss: 0.94328\n",
      "\u001b[32m[1005 17:22:25 @monitor.py:467]\u001b[0m QueueInput/queue_size: 50\n",
      "\u001b[32m[1005 17:22:25 @base.py:275]\u001b[0m Start Epoch 97 ...\n"
     ]
    },
    {
     "name": "stderr",
     "output_type": "stream",
     "text": [
      "\n",
      "100%|###################################################################################|175/175[00:05<00:00,34.30it/s]"
     ]
    },
    {
     "name": "stdout",
     "output_type": "stream",
     "text": [
      "\u001b[32m[1005 17:22:30 @base.py:285]\u001b[0m Epoch 97 (global_step 16975) finished, time:5.1 seconds.\n",
      "\u001b[32m[1005 17:22:30 @saver.py:79]\u001b[0m Model saved to ../output/Chicago/TGAN/model\\model-16975.\n",
      "\u001b[32m[1005 17:22:30 @monitor.py:467]\u001b[0m GAN_loss/discrim/accuracy_fake: 0.942\n",
      "\u001b[32m[1005 17:22:30 @monitor.py:467]\u001b[0m GAN_loss/discrim/accuracy_real: 0.07\n",
      "\u001b[32m[1005 17:22:30 @monitor.py:467]\u001b[0m GAN_loss/discrim/loss: 0.64787\n",
      "\u001b[32m[1005 17:22:30 @monitor.py:467]\u001b[0m GAN_loss/gen/final-g-loss: 0.9907\n",
      "\u001b[32m[1005 17:22:30 @monitor.py:467]\u001b[0m GAN_loss/gen/klloss: 0.057233\n",
      "\u001b[32m[1005 17:22:30 @monitor.py:467]\u001b[0m GAN_loss/gen/loss: 0.93347\n",
      "\u001b[32m[1005 17:22:30 @monitor.py:467]\u001b[0m QueueInput/queue_size: 50\n",
      "\u001b[32m[1005 17:22:30 @base.py:275]\u001b[0m Start Epoch 98 ...\n"
     ]
    },
    {
     "name": "stderr",
     "output_type": "stream",
     "text": [
      "\n",
      "100%|###################################################################################|175/175[00:05<00:00,34.29it/s]"
     ]
    },
    {
     "name": "stdout",
     "output_type": "stream",
     "text": [
      "\u001b[32m[1005 17:22:35 @base.py:285]\u001b[0m Epoch 98 (global_step 17150) finished, time:5.1 seconds.\n",
      "\u001b[32m[1005 17:22:35 @saver.py:79]\u001b[0m Model saved to ../output/Chicago/TGAN/model\\model-17150.\n",
      "\u001b[32m[1005 17:22:35 @monitor.py:467]\u001b[0m GAN_loss/discrim/accuracy_fake: 0.932\n",
      "\u001b[32m[1005 17:22:35 @monitor.py:467]\u001b[0m GAN_loss/discrim/accuracy_real: 0.082\n",
      "\u001b[32m[1005 17:22:35 @monitor.py:467]\u001b[0m GAN_loss/discrim/loss: 0.65041\n",
      "\u001b[32m[1005 17:22:35 @monitor.py:467]\u001b[0m GAN_loss/gen/final-g-loss: 0.97712\n",
      "\u001b[32m[1005 17:22:35 @monitor.py:467]\u001b[0m GAN_loss/gen/klloss: 0.053191\n",
      "\u001b[32m[1005 17:22:35 @monitor.py:467]\u001b[0m GAN_loss/gen/loss: 0.92393\n",
      "\u001b[32m[1005 17:22:35 @monitor.py:467]\u001b[0m QueueInput/queue_size: 50\n",
      "\u001b[32m[1005 17:22:35 @base.py:275]\u001b[0m Start Epoch 99 ...\n"
     ]
    },
    {
     "name": "stderr",
     "output_type": "stream",
     "text": [
      "\n",
      "100%|###################################################################################|175/175[00:05<00:00,34.30it/s]"
     ]
    },
    {
     "name": "stdout",
     "output_type": "stream",
     "text": [
      "\u001b[32m[1005 17:22:41 @base.py:285]\u001b[0m Epoch 99 (global_step 17325) finished, time:5.1 seconds.\n",
      "\u001b[32m[1005 17:22:41 @saver.py:79]\u001b[0m Model saved to ../output/Chicago/TGAN/model\\model-17325.\n",
      "\u001b[32m[1005 17:22:41 @monitor.py:467]\u001b[0m GAN_loss/discrim/accuracy_fake: 0.954\n",
      "\u001b[32m[1005 17:22:41 @monitor.py:467]\u001b[0m GAN_loss/discrim/accuracy_real: 0.084\n",
      "\u001b[32m[1005 17:22:41 @monitor.py:467]\u001b[0m GAN_loss/discrim/loss: 0.64622\n",
      "\u001b[32m[1005 17:22:41 @monitor.py:467]\u001b[0m GAN_loss/gen/final-g-loss: 0.97016\n",
      "\u001b[32m[1005 17:22:41 @monitor.py:467]\u001b[0m GAN_loss/gen/klloss: 0.037032\n",
      "\u001b[32m[1005 17:22:41 @monitor.py:467]\u001b[0m GAN_loss/gen/loss: 0.93313\n",
      "\u001b[32m[1005 17:22:41 @monitor.py:467]\u001b[0m QueueInput/queue_size: 50\n",
      "\u001b[32m[1005 17:22:41 @base.py:275]\u001b[0m Start Epoch 100 ...\n"
     ]
    },
    {
     "name": "stderr",
     "output_type": "stream",
     "text": [
      "\n",
      "100%|###################################################################################|175/175[00:05<00:00,34.28it/s]"
     ]
    },
    {
     "name": "stdout",
     "output_type": "stream",
     "text": [
      "\u001b[32m[1005 17:22:46 @base.py:285]\u001b[0m Epoch 100 (global_step 17500) finished, time:5.11 seconds.\n",
      "\u001b[32m[1005 17:22:46 @saver.py:79]\u001b[0m Model saved to ../output/Chicago/TGAN/model\\model-17500.\n",
      "\u001b[32m[1005 17:22:46 @monitor.py:467]\u001b[0m GAN_loss/discrim/accuracy_fake: 0.942\n",
      "\u001b[32m[1005 17:22:46 @monitor.py:467]\u001b[0m GAN_loss/discrim/accuracy_real: 0.102\n",
      "\u001b[32m[1005 17:22:46 @monitor.py:467]\u001b[0m GAN_loss/discrim/loss: 0.64808\n",
      "\u001b[32m[1005 17:22:46 @monitor.py:467]\u001b[0m GAN_loss/gen/final-g-loss: 0.9923\n",
      "\u001b[32m[1005 17:22:46 @monitor.py:467]\u001b[0m GAN_loss/gen/klloss: 0.047547\n",
      "\u001b[32m[1005 17:22:46 @monitor.py:467]\u001b[0m GAN_loss/gen/loss: 0.94475\n",
      "\u001b[32m[1005 17:22:46 @monitor.py:467]\u001b[0m QueueInput/queue_size: 50\n",
      "\u001b[32m[1005 17:22:46 @base.py:289]\u001b[0m Training has finished!\n",
      "WARNING:tensorflow:From D:\\Users\\glede\\anaconda3\\envs\\py37\\lib\\site-packages\\tensorpack\\predict\\config.py:101: The name tf.train.ChiefSessionCreator is deprecated. Please use tf.compat.v1.train.ChiefSessionCreator instead.\n",
      "\n"
     ]
    },
    {
     "name": "stderr",
     "output_type": "stream",
     "text": [
      "\n"
     ]
    },
    {
     "name": "stdout",
     "output_type": "stream",
     "text": [
      "\u001b[32m[1005 17:22:47 @input_source.py:178]\u001b[0m EnqueueThread QueueInput/input_queue Exited.\n",
      "WARNING:tensorflow:From D:\\Users\\glede\\anaconda3\\envs\\py37\\lib\\site-packages\\tensorpack\\tfutils\\collection.py:45: The name tf.get_collection_ref is deprecated. Please use tf.compat.v1.get_collection_ref instead.\n",
      "\n",
      "\u001b[32m[1005 17:22:47 @collection.py:146]\u001b[0m New collections created in tower : tf.GraphKeys.REGULARIZATION_LOSSES\n",
      "\u001b[32m[1005 17:22:47 @collection.py:165]\u001b[0m These collections were modified but restored in : (tf.GraphKeys.SUMMARIES: 0->2)\n",
      "WARNING:tensorflow:From D:\\Users\\glede\\anaconda3\\envs\\py37\\lib\\site-packages\\tensorpack\\tfutils\\sessinit.py:120: The name tf.train.NewCheckpointReader is deprecated. Please use tf.compat.v1.train.NewCheckpointReader instead.\n",
      "\n",
      "WARNING:tensorflow:From D:\\Users\\glede\\anaconda3\\envs\\py37\\lib\\site-packages\\tensorpack\\tfutils\\sessinit.py:127: The name tf.global_variables is deprecated. Please use tf.compat.v1.global_variables instead.\n",
      "\n",
      "\u001b[32m[1005 17:22:47 @sessinit.py:87]\u001b[0m \u001b[5m\u001b[31mWRN\u001b[0m The following variables are in the checkpoint, but not found in the graph: global_step, optimize/beta1_power, optimize/beta2_power\n",
      "INFO:tensorflow:Graph was finalized.\n",
      "INFO:tensorflow:Running local_init_op.\n",
      "INFO:tensorflow:Done running local_init_op.\n",
      "\u001b[32m[1005 17:22:48 @sessinit.py:114]\u001b[0m Restoring checkpoint from ../output/Chicago/TGAN/model\\model-17500 ...\n",
      "INFO:tensorflow:Restoring parameters from ../output/Chicago/TGAN/model\\model-17500\n"
     ]
    }
   ],
   "source": [
    "tgan.fit(df)"
   ]
  },
  {
   "cell_type": "code",
   "execution_count": 14,
   "metadata": {},
   "outputs": [
    {
     "name": "stdout",
     "output_type": "stream",
     "text": [
      "\u001b[32m[1005 17:22:50 @model.py:813]\u001b[0m Model saved successfully.\n"
     ]
    }
   ],
   "source": [
    "tgan.save(output_folder + 'trained', force=True)"
   ]
  },
  {
   "cell_type": "code",
   "execution_count": null,
   "metadata": {},
   "outputs": [],
   "source": []
  }
 ],
 "metadata": {
  "kernelspec": {
   "display_name": "Python 3",
   "language": "python",
   "name": "python3"
  },
  "language_info": {
   "codemirror_mode": {
    "name": "ipython",
    "version": 3
   },
   "file_extension": ".py",
   "mimetype": "text/x-python",
   "name": "python",
   "nbconvert_exporter": "python",
   "pygments_lexer": "ipython3",
   "version": "3.7.9"
  }
 },
 "nbformat": 4,
 "nbformat_minor": 2
}
