{
 "cells": [
  {
   "cell_type": "code",
   "execution_count": 1,
   "metadata": {},
   "outputs": [],
   "source": [
    "import os\n",
    "os.chdir('../..')"
   ]
  },
  {
   "cell_type": "code",
   "execution_count": 2,
   "metadata": {},
   "outputs": [
    {
     "name": "stdout",
     "output_type": "stream",
     "text": [
      "3.7.9\n"
     ]
    }
   ],
   "source": [
    "from platform import python_version\n",
    "print(python_version())"
   ]
  },
  {
   "cell_type": "code",
   "execution_count": 3,
   "metadata": {},
   "outputs": [
    {
     "name": "stdout",
     "output_type": "stream",
     "text": [
      "WARNING:tensorflow:From D:\\Users\\glede\\anaconda3\\envs\\py37\\lib\\site-packages\\tensorpack\\callbacks\\hooks.py:17: The name tf.train.SessionRunHook is deprecated. Please use tf.estimator.SessionRunHook instead.\n",
      "\n",
      "WARNING:tensorflow:From D:\\Users\\glede\\anaconda3\\envs\\py37\\lib\\site-packages\\tensorpack\\tfutils\\optimizer.py:18: The name tf.train.Optimizer is deprecated. Please use tf.compat.v1.train.Optimizer instead.\n",
      "\n",
      "WARNING:tensorflow:From D:\\Users\\glede\\anaconda3\\envs\\py37\\lib\\site-packages\\tensorpack\\tfutils\\sesscreate.py:20: The name tf.train.SessionCreator is deprecated. Please use tf.compat.v1.train.SessionCreator instead.\n",
      "\n"
     ]
    }
   ],
   "source": [
    "import numpy as np\n",
    "import pandas as pd\n",
    "\n",
    "from tgan.model import TGANModel\n",
    "\n",
    "# For the Python notebook\n",
    "%matplotlib inline\n",
    "%reload_ext autoreload\n",
    "%autoreload 2"
   ]
  },
  {
   "cell_type": "code",
   "execution_count": 4,
   "metadata": {},
   "outputs": [],
   "source": [
    "dataset = 'LPMC'"
   ]
  },
  {
   "cell_type": "code",
   "execution_count": 5,
   "metadata": {},
   "outputs": [],
   "source": [
    "df = pd.read_csv('../data/{}/data.csv'.format(dataset), index_col=False)"
   ]
  },
  {
   "cell_type": "code",
   "execution_count": 6,
   "metadata": {},
   "outputs": [
    {
     "data": {
      "text/plain": [
       "28"
      ]
     },
     "execution_count": 6,
     "metadata": {},
     "output_type": "execute_result"
    }
   ],
   "source": [
    "len(df.columns)"
   ]
  },
  {
   "cell_type": "code",
   "execution_count": 7,
   "metadata": {},
   "outputs": [
    {
     "data": {
      "text/html": [
       "<div>\n",
       "<style scoped>\n",
       "    .dataframe tbody tr th:only-of-type {\n",
       "        vertical-align: middle;\n",
       "    }\n",
       "\n",
       "    .dataframe tbody tr th {\n",
       "        vertical-align: top;\n",
       "    }\n",
       "\n",
       "    .dataframe thead th {\n",
       "        text-align: right;\n",
       "    }\n",
       "</style>\n",
       "<table border=\"1\" class=\"dataframe\">\n",
       "  <thead>\n",
       "    <tr style=\"text-align: right;\">\n",
       "      <th></th>\n",
       "      <th>travel_mode</th>\n",
       "      <th>purpose</th>\n",
       "      <th>fueltype</th>\n",
       "      <th>faretype</th>\n",
       "      <th>bus_scale</th>\n",
       "      <th>survey_year</th>\n",
       "      <th>travel_year</th>\n",
       "      <th>travel_month</th>\n",
       "      <th>travel_date</th>\n",
       "      <th>day_of_week</th>\n",
       "      <th>...</th>\n",
       "      <th>dur_pt_access</th>\n",
       "      <th>dur_pt_rail</th>\n",
       "      <th>dur_pt_bus</th>\n",
       "      <th>dur_pt_int</th>\n",
       "      <th>pt_n_interchanges</th>\n",
       "      <th>dur_driving</th>\n",
       "      <th>cost_transit</th>\n",
       "      <th>cost_driving_fuel</th>\n",
       "      <th>cost_driving_con_charge</th>\n",
       "      <th>driving_traffic_percent</th>\n",
       "    </tr>\n",
       "  </thead>\n",
       "  <tbody>\n",
       "    <tr>\n",
       "      <th>0</th>\n",
       "      <td>drive</td>\n",
       "      <td>HBO</td>\n",
       "      <td>Petrol_Car</td>\n",
       "      <td>full</td>\n",
       "      <td>1.0</td>\n",
       "      <td>1</td>\n",
       "      <td>2012</td>\n",
       "      <td>4</td>\n",
       "      <td>1</td>\n",
       "      <td>7</td>\n",
       "      <td>...</td>\n",
       "      <td>0.134444</td>\n",
       "      <td>0.0</td>\n",
       "      <td>0.016667</td>\n",
       "      <td>0.0</td>\n",
       "      <td>0</td>\n",
       "      <td>0.052222</td>\n",
       "      <td>1.5</td>\n",
       "      <td>0.14</td>\n",
       "      <td>0.0</td>\n",
       "      <td>0.111702</td>\n",
       "    </tr>\n",
       "    <tr>\n",
       "      <th>1</th>\n",
       "      <td>drive</td>\n",
       "      <td>HBO</td>\n",
       "      <td>Petrol_Car</td>\n",
       "      <td>full</td>\n",
       "      <td>1.0</td>\n",
       "      <td>1</td>\n",
       "      <td>2012</td>\n",
       "      <td>4</td>\n",
       "      <td>1</td>\n",
       "      <td>7</td>\n",
       "      <td>...</td>\n",
       "      <td>0.109444</td>\n",
       "      <td>0.0</td>\n",
       "      <td>0.055556</td>\n",
       "      <td>0.0</td>\n",
       "      <td>0</td>\n",
       "      <td>0.059444</td>\n",
       "      <td>1.5</td>\n",
       "      <td>0.15</td>\n",
       "      <td>0.0</td>\n",
       "      <td>0.112150</td>\n",
       "    </tr>\n",
       "    <tr>\n",
       "      <th>2</th>\n",
       "      <td>drive</td>\n",
       "      <td>HBO</td>\n",
       "      <td>Petrol_Car</td>\n",
       "      <td>full</td>\n",
       "      <td>1.0</td>\n",
       "      <td>1</td>\n",
       "      <td>2012</td>\n",
       "      <td>4</td>\n",
       "      <td>1</td>\n",
       "      <td>7</td>\n",
       "      <td>...</td>\n",
       "      <td>0.203056</td>\n",
       "      <td>0.0</td>\n",
       "      <td>0.210278</td>\n",
       "      <td>0.0</td>\n",
       "      <td>0</td>\n",
       "      <td>0.236667</td>\n",
       "      <td>1.5</td>\n",
       "      <td>0.79</td>\n",
       "      <td>0.0</td>\n",
       "      <td>0.203052</td>\n",
       "    </tr>\n",
       "    <tr>\n",
       "      <th>3</th>\n",
       "      <td>drive</td>\n",
       "      <td>HBO</td>\n",
       "      <td>Petrol_Car</td>\n",
       "      <td>full</td>\n",
       "      <td>1.0</td>\n",
       "      <td>1</td>\n",
       "      <td>2012</td>\n",
       "      <td>4</td>\n",
       "      <td>1</td>\n",
       "      <td>7</td>\n",
       "      <td>...</td>\n",
       "      <td>0.205556</td>\n",
       "      <td>0.0</td>\n",
       "      <td>0.258611</td>\n",
       "      <td>0.0</td>\n",
       "      <td>0</td>\n",
       "      <td>0.233333</td>\n",
       "      <td>1.5</td>\n",
       "      <td>0.78</td>\n",
       "      <td>0.0</td>\n",
       "      <td>0.160714</td>\n",
       "    </tr>\n",
       "    <tr>\n",
       "      <th>4</th>\n",
       "      <td>drive</td>\n",
       "      <td>HBO</td>\n",
       "      <td>Petrol_Car</td>\n",
       "      <td>dis</td>\n",
       "      <td>1.0</td>\n",
       "      <td>1</td>\n",
       "      <td>2012</td>\n",
       "      <td>4</td>\n",
       "      <td>1</td>\n",
       "      <td>7</td>\n",
       "      <td>...</td>\n",
       "      <td>0.203056</td>\n",
       "      <td>0.0</td>\n",
       "      <td>0.189444</td>\n",
       "      <td>0.0</td>\n",
       "      <td>0</td>\n",
       "      <td>0.229167</td>\n",
       "      <td>1.5</td>\n",
       "      <td>0.78</td>\n",
       "      <td>0.0</td>\n",
       "      <td>0.130909</td>\n",
       "    </tr>\n",
       "  </tbody>\n",
       "</table>\n",
       "<p>5 rows × 28 columns</p>\n",
       "</div>"
      ],
      "text/plain": [
       "  travel_mode purpose    fueltype faretype  bus_scale  survey_year  \\\n",
       "0       drive     HBO  Petrol_Car     full        1.0            1   \n",
       "1       drive     HBO  Petrol_Car     full        1.0            1   \n",
       "2       drive     HBO  Petrol_Car     full        1.0            1   \n",
       "3       drive     HBO  Petrol_Car     full        1.0            1   \n",
       "4       drive     HBO  Petrol_Car      dis        1.0            1   \n",
       "\n",
       "   travel_year  travel_month  travel_date  day_of_week  ...  dur_pt_access  \\\n",
       "0         2012             4            1            7  ...       0.134444   \n",
       "1         2012             4            1            7  ...       0.109444   \n",
       "2         2012             4            1            7  ...       0.203056   \n",
       "3         2012             4            1            7  ...       0.205556   \n",
       "4         2012             4            1            7  ...       0.203056   \n",
       "\n",
       "   dur_pt_rail  dur_pt_bus  dur_pt_int  pt_n_interchanges  dur_driving  \\\n",
       "0          0.0    0.016667         0.0                  0     0.052222   \n",
       "1          0.0    0.055556         0.0                  0     0.059444   \n",
       "2          0.0    0.210278         0.0                  0     0.236667   \n",
       "3          0.0    0.258611         0.0                  0     0.233333   \n",
       "4          0.0    0.189444         0.0                  0     0.229167   \n",
       "\n",
       "   cost_transit  cost_driving_fuel  cost_driving_con_charge  \\\n",
       "0           1.5               0.14                      0.0   \n",
       "1           1.5               0.15                      0.0   \n",
       "2           1.5               0.79                      0.0   \n",
       "3           1.5               0.78                      0.0   \n",
       "4           1.5               0.78                      0.0   \n",
       "\n",
       "   driving_traffic_percent  \n",
       "0                 0.111702  \n",
       "1                 0.112150  \n",
       "2                 0.203052  \n",
       "3                 0.160714  \n",
       "4                 0.130909  \n",
       "\n",
       "[5 rows x 28 columns]"
      ]
     },
     "execution_count": 7,
     "metadata": {},
     "output_type": "execute_result"
    }
   ],
   "source": [
    "df.head()"
   ]
  },
  {
   "cell_type": "code",
   "execution_count": 8,
   "metadata": {},
   "outputs": [
    {
     "data": {
      "text/plain": [
       "Index(['travel_mode', 'purpose', 'fueltype', 'faretype', 'bus_scale',\n",
       "       'survey_year', 'travel_year', 'travel_month', 'travel_date',\n",
       "       'day_of_week', 'start_time_linear', 'age', 'female', 'driving_license',\n",
       "       'car_ownership', 'distance', 'dur_walking', 'dur_cycling',\n",
       "       'dur_pt_access', 'dur_pt_rail', 'dur_pt_bus', 'dur_pt_int',\n",
       "       'pt_n_interchanges', 'dur_driving', 'cost_transit', 'cost_driving_fuel',\n",
       "       'cost_driving_con_charge', 'driving_traffic_percent'],\n",
       "      dtype='object')"
      ]
     },
     "execution_count": 8,
     "metadata": {},
     "output_type": "execute_result"
    }
   ],
   "source": [
    "df.columns"
   ]
  },
  {
   "cell_type": "code",
   "execution_count": 8,
   "metadata": {},
   "outputs": [
    {
     "name": "stdout",
     "output_type": "stream",
     "text": [
      "7 - travel_month: 12\n",
      "8 - travel_date: 31\n",
      "10 - start_time_linear: 965\n",
      "11 - age: 91\n",
      "15 - distance: 13533\n",
      "16 - dur_walking: 13997\n",
      "17 - dur_cycling: 5924\n",
      "18 - dur_pt_access: 1932\n",
      "19 - dur_pt_rail: 82\n",
      "20 - dur_pt_bus: 3321\n",
      "21 - dur_pt_int: 1076\n",
      "23 - dur_driving: 4560\n",
      "24 - cost_transit: 184\n",
      "25 - cost_driving_fuel: 617\n",
      "27 - driving_traffic_percent: 50923\n"
     ]
    }
   ],
   "source": [
    "for j,i in enumerate(df.columns):\n",
    "    if len(df[i].unique()) > 10:\n",
    "        print('{} - {}: {}'.format(j, i, len(df[i].unique())))"
   ]
  },
  {
   "cell_type": "code",
   "execution_count": 9,
   "metadata": {},
   "outputs": [],
   "source": [
    "if dataset is 'Chicago':\n",
    "    continuous_columns = [3, 10, 14]\n",
    "elif dataset is 'LPMC':\n",
    "    continuous_columns = [10, 11, 15, 16, 17, 18, 19, 20, 21, 23, 24, 25, 27]"
   ]
  },
  {
   "cell_type": "code",
   "execution_count": 10,
   "metadata": {},
   "outputs": [],
   "source": [
    "output_folder = '../output/' + dataset + '/TGAN/'"
   ]
  },
  {
   "cell_type": "code",
   "execution_count": 11,
   "metadata": {},
   "outputs": [],
   "source": [
    "tgan = TGANModel(continuous_columns, max_epoch=1000, steps_per_epoch=2000, batch_size=200, output=output_folder, gpu=0)"
   ]
  },
  {
   "cell_type": "code",
   "execution_count": 12,
   "metadata": {
    "scrolled": true
   },
   "outputs": [
    {
     "name": "stdout",
     "output_type": "stream",
     "text": [
      "WARNING:tensorflow:From D:\\Users\\glede\\anaconda3\\envs\\py37\\lib\\site-packages\\tensorpack\\graph_builder\\model_desc.py:29: The name tf.get_default_graph is deprecated. Please use tf.compat.v1.get_default_graph instead.\n",
      "\n",
      "WARNING:tensorflow:From D:\\Users\\glede\\anaconda3\\envs\\py37\\lib\\site-packages\\tensorpack\\graph_builder\\model_desc.py:39: The name tf.placeholder is deprecated. Please use tf.compat.v1.placeholder instead.\n",
      "\n",
      "WARNING:tensorflow:From D:\\Users\\glede\\anaconda3\\envs\\py37\\lib\\site-packages\\tensorpack\\input_source\\input_source.py:219: The name tf.FIFOQueue is deprecated. Please use tf.queue.FIFOQueue instead.\n",
      "\n",
      "\u001b[32m[0809 14:47:27 @input_source.py:222]\u001b[0m Setting up the queue 'QueueInput/input_queue' for CPU prefetching ...\n",
      "WARNING:tensorflow:From D:\\Users\\glede\\anaconda3\\envs\\py37\\lib\\site-packages\\tensorpack\\tfutils\\summary.py:237: The name tf.get_variable_scope is deprecated. Please use tf.compat.v1.get_variable_scope instead.\n",
      "\n",
      "WARNING:tensorflow:From D:\\Users\\glede\\anaconda3\\envs\\py37\\lib\\site-packages\\tensorpack\\tfutils\\summary.py:27: The name tf.variable_scope is deprecated. Please use tf.compat.v1.variable_scope instead.\n",
      "\n",
      "WARNING:tensorflow:From D:\\Users\\glede\\anaconda3\\envs\\py37\\lib\\site-packages\\tensorpack\\tfutils\\summary.py:254: The name tf.get_variable is deprecated. Please use tf.compat.v1.get_variable instead.\n",
      "\n",
      "WARNING:tensorflow:From D:\\Users\\glede\\anaconda3\\envs\\py37\\lib\\site-packages\\tensorpack\\tfutils\\summary.py:264: The name tf.summary.scalar is deprecated. Please use tf.compat.v1.summary.scalar instead.\n",
      "\n",
      "WARNING:tensorflow:From D:\\Users\\glede\\anaconda3\\envs\\py37\\lib\\site-packages\\tensorpack\\tfutils\\collection.py:105: The name tf.GraphKeys is deprecated. Please use tf.compat.v1.GraphKeys instead.\n",
      "\n",
      "WARNING:tensorflow:From D:\\Users\\glede\\anaconda3\\envs\\py37\\lib\\site-packages\\tensorpack\\tfutils\\collection.py:33: The name tf.get_collection is deprecated. Please use tf.compat.v1.get_collection instead.\n",
      "\n",
      "WARNING:tensorflow:From D:\\Users\\glede\\anaconda3\\envs\\py37\\lib\\site-packages\\tgan\\model.py:455: The name tf.random_normal is deprecated. Please use tf.random.normal instead.\n",
      "\n",
      "WARNING:tensorflow:From D:\\Users\\glede\\anaconda3\\envs\\py37\\lib\\site-packages\\tgan\\model.py:458: The name tf.placeholder_with_default is deprecated. Please use tf.compat.v1.placeholder_with_default instead.\n",
      "\n",
      "WARNING:tensorflow:From D:\\Users\\glede\\anaconda3\\envs\\py37\\lib\\site-packages\\tgan\\model.py:259: LSTMCell.__init__ (from tensorflow.python.ops.rnn_cell_impl) is deprecated and will be removed in a future version.\n",
      "Instructions for updating:\n",
      "This class is equivalent as tf.keras.layers.LSTMCell, and will be replaced by that in Tensorflow 2.0.\n",
      "WARNING:tensorflow:From D:\\Users\\glede\\anaconda3\\envs\\py37\\lib\\site-packages\\tensorflow_core\\python\\ops\\rnn_cell_impl.py:958: Layer.add_variable (from tensorflow.python.keras.engine.base_layer) is deprecated and will be removed in a future version.\n",
      "Instructions for updating:\n",
      "Please use `layer.add_weight` method instead.\n",
      "WARNING:tensorflow:From D:\\Users\\glede\\anaconda3\\envs\\py37\\lib\\site-packages\\tensorflow_core\\python\\ops\\rnn_cell_impl.py:962: calling Zeros.__init__ (from tensorflow.python.ops.init_ops) with dtype is deprecated and will be removed in a future version.\n",
      "Instructions for updating:\n",
      "Call initializer instance with the dtype argument instead of passing it to the constructor\n",
      "\u001b[32m[0809 14:47:27 @registry.py:126]\u001b[0m gen/LSTM/00/FC input: [200, 100]\n",
      "WARNING:tensorflow:From D:\\Users\\glede\\anaconda3\\envs\\py37\\lib\\site-packages\\tensorpack\\models\\fc.py:57: The name tf.layers.Dense is deprecated. Please use tf.compat.v1.layers.Dense instead.\n",
      "\n",
      "WARNING:tensorflow:From D:\\Users\\glede\\anaconda3\\envs\\py37\\lib\\site-packages\\tensorpack\\models\\fc.py:67: Layer.apply (from tensorflow.python.keras.engine.base_layer) is deprecated and will be removed in a future version.\n",
      "Instructions for updating:\n",
      "Please use `layer.__call__` method instead.\n",
      "\u001b[32m[0809 14:47:27 @registry.py:134]\u001b[0m gen/LSTM/00/FC output: [200, 100]\n",
      "\u001b[32m[0809 14:47:27 @registry.py:126]\u001b[0m gen/LSTM/00/FC2 input: [200, 100]\n",
      "\u001b[32m[0809 14:47:27 @registry.py:134]\u001b[0m gen/LSTM/00/FC2 output: [200, 4]\n",
      "\u001b[32m[0809 14:47:27 @registry.py:126]\u001b[0m gen/LSTM/00/FC3 input: [200, 4]\n",
      "\u001b[32m[0809 14:47:27 @registry.py:134]\u001b[0m gen/LSTM/00/FC3 output: [200, 100]\n",
      "\u001b[32m[0809 14:47:27 @registry.py:126]\u001b[0m gen/LSTM/01/FC input: [200, 100]\n",
      "\u001b[32m[0809 14:47:27 @registry.py:134]\u001b[0m gen/LSTM/01/FC output: [200, 100]\n",
      "\u001b[32m[0809 14:47:27 @registry.py:126]\u001b[0m gen/LSTM/01/FC2 input: [200, 100]\n",
      "\u001b[32m[0809 14:47:27 @registry.py:134]\u001b[0m gen/LSTM/01/FC2 output: [200, 5]\n",
      "\u001b[32m[0809 14:47:27 @registry.py:126]\u001b[0m gen/LSTM/01/FC3 input: [200, 5]\n",
      "\u001b[32m[0809 14:47:27 @registry.py:134]\u001b[0m gen/LSTM/01/FC3 output: [200, 100]\n",
      "\u001b[32m[0809 14:47:27 @registry.py:126]\u001b[0m gen/LSTM/02/FC input: [200, 100]\n",
      "\u001b[32m[0809 14:47:27 @registry.py:134]\u001b[0m gen/LSTM/02/FC output: [200, 100]\n",
      "\u001b[32m[0809 14:47:27 @registry.py:126]\u001b[0m gen/LSTM/02/FC2 input: [200, 100]\n",
      "\u001b[32m[0809 14:47:27 @registry.py:134]\u001b[0m gen/LSTM/02/FC2 output: [200, 6]\n",
      "\u001b[32m[0809 14:47:27 @registry.py:126]\u001b[0m gen/LSTM/02/FC3 input: [200, 6]\n",
      "\u001b[32m[0809 14:47:27 @registry.py:134]\u001b[0m gen/LSTM/02/FC3 output: [200, 100]\n",
      "\u001b[32m[0809 14:47:27 @registry.py:126]\u001b[0m gen/LSTM/03/FC input: [200, 100]\n",
      "\u001b[32m[0809 14:47:27 @registry.py:134]\u001b[0m gen/LSTM/03/FC output: [200, 100]\n",
      "\u001b[32m[0809 14:47:27 @registry.py:126]\u001b[0m gen/LSTM/03/FC2 input: [200, 100]\n",
      "\u001b[32m[0809 14:47:27 @registry.py:134]\u001b[0m gen/LSTM/03/FC2 output: [200, 5]\n",
      "\u001b[32m[0809 14:47:27 @registry.py:126]\u001b[0m gen/LSTM/03/FC3 input: [200, 5]\n",
      "\u001b[32m[0809 14:47:27 @registry.py:134]\u001b[0m gen/LSTM/03/FC3 output: [200, 100]\n",
      "\u001b[32m[0809 14:47:27 @registry.py:126]\u001b[0m gen/LSTM/04/FC input: [200, 100]\n",
      "\u001b[32m[0809 14:47:27 @registry.py:134]\u001b[0m gen/LSTM/04/FC output: [200, 100]\n",
      "\u001b[32m[0809 14:47:27 @registry.py:126]\u001b[0m gen/LSTM/04/FC2 input: [200, 100]\n",
      "\u001b[32m[0809 14:47:27 @registry.py:134]\u001b[0m gen/LSTM/04/FC2 output: [200, 3]\n",
      "\u001b[32m[0809 14:47:27 @registry.py:126]\u001b[0m gen/LSTM/04/FC3 input: [200, 3]\n",
      "\u001b[32m[0809 14:47:27 @registry.py:134]\u001b[0m gen/LSTM/04/FC3 output: [200, 100]\n",
      "\u001b[32m[0809 14:47:27 @registry.py:126]\u001b[0m gen/LSTM/05/FC input: [200, 100]\n",
      "\u001b[32m[0809 14:47:27 @registry.py:134]\u001b[0m gen/LSTM/05/FC output: [200, 100]\n",
      "\u001b[32m[0809 14:47:27 @registry.py:126]\u001b[0m gen/LSTM/05/FC2 input: [200, 100]\n",
      "\u001b[32m[0809 14:47:27 @registry.py:134]\u001b[0m gen/LSTM/05/FC2 output: [200, 3]\n",
      "\u001b[32m[0809 14:47:27 @registry.py:126]\u001b[0m gen/LSTM/05/FC3 input: [200, 3]\n",
      "\u001b[32m[0809 14:47:27 @registry.py:134]\u001b[0m gen/LSTM/05/FC3 output: [200, 100]\n",
      "\u001b[32m[0809 14:47:27 @registry.py:126]\u001b[0m gen/LSTM/06/FC input: [200, 100]\n",
      "\u001b[32m[0809 14:47:27 @registry.py:134]\u001b[0m gen/LSTM/06/FC output: [200, 100]\n",
      "\u001b[32m[0809 14:47:27 @registry.py:126]\u001b[0m gen/LSTM/06/FC2 input: [200, 100]\n",
      "\u001b[32m[0809 14:47:27 @registry.py:134]\u001b[0m gen/LSTM/06/FC2 output: [200, 4]\n",
      "\u001b[32m[0809 14:47:27 @registry.py:126]\u001b[0m gen/LSTM/06/FC3 input: [200, 4]\n",
      "\u001b[32m[0809 14:47:27 @registry.py:134]\u001b[0m gen/LSTM/06/FC3 output: [200, 100]\n",
      "\u001b[32m[0809 14:47:27 @registry.py:126]\u001b[0m gen/LSTM/07/FC input: [200, 100]\n",
      "\u001b[32m[0809 14:47:27 @registry.py:134]\u001b[0m gen/LSTM/07/FC output: [200, 100]\n",
      "\u001b[32m[0809 14:47:27 @registry.py:126]\u001b[0m gen/LSTM/07/FC2 input: [200, 100]\n",
      "\u001b[32m[0809 14:47:27 @registry.py:134]\u001b[0m gen/LSTM/07/FC2 output: [200, 12]\n",
      "\u001b[32m[0809 14:47:27 @registry.py:126]\u001b[0m gen/LSTM/07/FC3 input: [200, 12]\n",
      "\u001b[32m[0809 14:47:27 @registry.py:134]\u001b[0m gen/LSTM/07/FC3 output: [200, 100]\n",
      "\u001b[32m[0809 14:47:27 @registry.py:126]\u001b[0m gen/LSTM/08/FC input: [200, 100]\n",
      "\u001b[32m[0809 14:47:27 @registry.py:134]\u001b[0m gen/LSTM/08/FC output: [200, 100]\n",
      "\u001b[32m[0809 14:47:27 @registry.py:126]\u001b[0m gen/LSTM/08/FC2 input: [200, 100]\n",
      "\u001b[32m[0809 14:47:27 @registry.py:134]\u001b[0m gen/LSTM/08/FC2 output: [200, 31]\n",
      "\u001b[32m[0809 14:47:27 @registry.py:126]\u001b[0m gen/LSTM/08/FC3 input: [200, 31]\n",
      "\u001b[32m[0809 14:47:27 @registry.py:134]\u001b[0m gen/LSTM/08/FC3 output: [200, 100]\n",
      "\u001b[32m[0809 14:47:27 @registry.py:126]\u001b[0m gen/LSTM/09/FC input: [200, 100]\n",
      "\u001b[32m[0809 14:47:27 @registry.py:134]\u001b[0m gen/LSTM/09/FC output: [200, 100]\n",
      "\u001b[32m[0809 14:47:27 @registry.py:126]\u001b[0m gen/LSTM/09/FC2 input: [200, 100]\n",
      "\u001b[32m[0809 14:47:27 @registry.py:134]\u001b[0m gen/LSTM/09/FC2 output: [200, 7]\n"
     ]
    },
    {
     "name": "stdout",
     "output_type": "stream",
     "text": [
      "\u001b[32m[0809 14:47:27 @registry.py:126]\u001b[0m gen/LSTM/09/FC3 input: [200, 7]\n",
      "\u001b[32m[0809 14:47:27 @registry.py:134]\u001b[0m gen/LSTM/09/FC3 output: [200, 100]\n",
      "\u001b[32m[0809 14:47:27 @registry.py:126]\u001b[0m gen/LSTM/10/FC input: [200, 100]\n",
      "\u001b[32m[0809 14:47:27 @registry.py:134]\u001b[0m gen/LSTM/10/FC output: [200, 100]\n",
      "\u001b[32m[0809 14:47:27 @registry.py:126]\u001b[0m gen/LSTM/10/FC2 input: [200, 100]\n",
      "\u001b[32m[0809 14:47:27 @registry.py:134]\u001b[0m gen/LSTM/10/FC2 output: [200, 1]\n",
      "\u001b[32m[0809 14:47:27 @registry.py:126]\u001b[0m gen/LSTM/11/FC input: [200, 100]\n",
      "\u001b[32m[0809 14:47:27 @registry.py:134]\u001b[0m gen/LSTM/11/FC output: [200, 100]\n",
      "\u001b[32m[0809 14:47:27 @registry.py:126]\u001b[0m gen/LSTM/11/FC2 input: [200, 100]\n",
      "\u001b[32m[0809 14:47:27 @registry.py:134]\u001b[0m gen/LSTM/11/FC2 output: [200, 5]\n",
      "\u001b[32m[0809 14:47:27 @registry.py:126]\u001b[0m gen/LSTM/11/FC3 input: [200, 5]\n",
      "\u001b[32m[0809 14:47:27 @registry.py:134]\u001b[0m gen/LSTM/11/FC3 output: [200, 100]\n",
      "\u001b[32m[0809 14:47:27 @registry.py:126]\u001b[0m gen/LSTM/12/FC input: [200, 100]\n",
      "\u001b[32m[0809 14:47:27 @registry.py:134]\u001b[0m gen/LSTM/12/FC output: [200, 100]\n",
      "\u001b[32m[0809 14:47:27 @registry.py:126]\u001b[0m gen/LSTM/12/FC2 input: [200, 100]\n",
      "\u001b[32m[0809 14:47:27 @registry.py:134]\u001b[0m gen/LSTM/12/FC2 output: [200, 1]\n",
      "\u001b[32m[0809 14:47:27 @registry.py:126]\u001b[0m gen/LSTM/13/FC input: [200, 100]\n",
      "\u001b[32m[0809 14:47:27 @registry.py:134]\u001b[0m gen/LSTM/13/FC output: [200, 100]\n",
      "\u001b[32m[0809 14:47:27 @registry.py:126]\u001b[0m gen/LSTM/13/FC2 input: [200, 100]\n",
      "\u001b[32m[0809 14:47:27 @registry.py:134]\u001b[0m gen/LSTM/13/FC2 output: [200, 5]\n",
      "\u001b[32m[0809 14:47:27 @registry.py:126]\u001b[0m gen/LSTM/13/FC3 input: [200, 5]\n",
      "\u001b[32m[0809 14:47:27 @registry.py:134]\u001b[0m gen/LSTM/13/FC3 output: [200, 100]\n",
      "\u001b[32m[0809 14:47:27 @registry.py:126]\u001b[0m gen/LSTM/14/FC input: [200, 100]\n",
      "\u001b[32m[0809 14:47:27 @registry.py:134]\u001b[0m gen/LSTM/14/FC output: [200, 100]\n",
      "\u001b[32m[0809 14:47:27 @registry.py:126]\u001b[0m gen/LSTM/14/FC2 input: [200, 100]\n",
      "\u001b[32m[0809 14:47:27 @registry.py:134]\u001b[0m gen/LSTM/14/FC2 output: [200, 2]\n",
      "\u001b[32m[0809 14:47:27 @registry.py:126]\u001b[0m gen/LSTM/14/FC3 input: [200, 2]\n",
      "\u001b[32m[0809 14:47:27 @registry.py:134]\u001b[0m gen/LSTM/14/FC3 output: [200, 100]\n",
      "\u001b[32m[0809 14:47:28 @registry.py:126]\u001b[0m gen/LSTM/15/FC input: [200, 100]\n",
      "\u001b[32m[0809 14:47:28 @registry.py:134]\u001b[0m gen/LSTM/15/FC output: [200, 100]\n",
      "\u001b[32m[0809 14:47:28 @registry.py:126]\u001b[0m gen/LSTM/15/FC2 input: [200, 100]\n",
      "\u001b[32m[0809 14:47:28 @registry.py:134]\u001b[0m gen/LSTM/15/FC2 output: [200, 2]\n",
      "\u001b[32m[0809 14:47:28 @registry.py:126]\u001b[0m gen/LSTM/15/FC3 input: [200, 2]\n",
      "\u001b[32m[0809 14:47:28 @registry.py:134]\u001b[0m gen/LSTM/15/FC3 output: [200, 100]\n",
      "\u001b[32m[0809 14:47:28 @registry.py:126]\u001b[0m gen/LSTM/16/FC input: [200, 100]\n",
      "\u001b[32m[0809 14:47:28 @registry.py:134]\u001b[0m gen/LSTM/16/FC output: [200, 100]\n",
      "\u001b[32m[0809 14:47:28 @registry.py:126]\u001b[0m gen/LSTM/16/FC2 input: [200, 100]\n",
      "\u001b[32m[0809 14:47:28 @registry.py:134]\u001b[0m gen/LSTM/16/FC2 output: [200, 3]\n",
      "\u001b[32m[0809 14:47:28 @registry.py:126]\u001b[0m gen/LSTM/16/FC3 input: [200, 3]\n",
      "\u001b[32m[0809 14:47:28 @registry.py:134]\u001b[0m gen/LSTM/16/FC3 output: [200, 100]\n",
      "\u001b[32m[0809 14:47:28 @registry.py:126]\u001b[0m gen/LSTM/17/FC input: [200, 100]\n",
      "\u001b[32m[0809 14:47:28 @registry.py:134]\u001b[0m gen/LSTM/17/FC output: [200, 100]\n",
      "\u001b[32m[0809 14:47:28 @registry.py:126]\u001b[0m gen/LSTM/17/FC2 input: [200, 100]\n",
      "\u001b[32m[0809 14:47:28 @registry.py:134]\u001b[0m gen/LSTM/17/FC2 output: [200, 1]\n",
      "\u001b[32m[0809 14:47:28 @registry.py:126]\u001b[0m gen/LSTM/18/FC input: [200, 100]\n",
      "\u001b[32m[0809 14:47:28 @registry.py:134]\u001b[0m gen/LSTM/18/FC output: [200, 100]\n",
      "\u001b[32m[0809 14:47:28 @registry.py:126]\u001b[0m gen/LSTM/18/FC2 input: [200, 100]\n",
      "\u001b[32m[0809 14:47:28 @registry.py:134]\u001b[0m gen/LSTM/18/FC2 output: [200, 5]\n",
      "\u001b[32m[0809 14:47:28 @registry.py:126]\u001b[0m gen/LSTM/18/FC3 input: [200, 5]\n",
      "\u001b[32m[0809 14:47:28 @registry.py:134]\u001b[0m gen/LSTM/18/FC3 output: [200, 100]\n",
      "\u001b[32m[0809 14:47:28 @registry.py:126]\u001b[0m gen/LSTM/19/FC input: [200, 100]\n",
      "\u001b[32m[0809 14:47:28 @registry.py:134]\u001b[0m gen/LSTM/19/FC output: [200, 100]\n",
      "\u001b[32m[0809 14:47:28 @registry.py:126]\u001b[0m gen/LSTM/19/FC2 input: [200, 100]\n",
      "\u001b[32m[0809 14:47:28 @registry.py:134]\u001b[0m gen/LSTM/19/FC2 output: [200, 1]\n",
      "\u001b[32m[0809 14:47:28 @registry.py:126]\u001b[0m gen/LSTM/20/FC input: [200, 100]\n",
      "\u001b[32m[0809 14:47:28 @registry.py:134]\u001b[0m gen/LSTM/20/FC output: [200, 100]\n",
      "\u001b[32m[0809 14:47:28 @registry.py:126]\u001b[0m gen/LSTM/20/FC2 input: [200, 100]\n",
      "\u001b[32m[0809 14:47:28 @registry.py:134]\u001b[0m gen/LSTM/20/FC2 output: [200, 5]\n",
      "\u001b[32m[0809 14:47:28 @registry.py:126]\u001b[0m gen/LSTM/20/FC3 input: [200, 5]\n",
      "\u001b[32m[0809 14:47:28 @registry.py:134]\u001b[0m gen/LSTM/20/FC3 output: [200, 100]\n",
      "\u001b[32m[0809 14:47:28 @registry.py:126]\u001b[0m gen/LSTM/21/FC input: [200, 100]\n",
      "\u001b[32m[0809 14:47:28 @registry.py:134]\u001b[0m gen/LSTM/21/FC output: [200, 100]\n",
      "\u001b[32m[0809 14:47:28 @registry.py:126]\u001b[0m gen/LSTM/21/FC2 input: [200, 100]\n",
      "\u001b[32m[0809 14:47:28 @registry.py:134]\u001b[0m gen/LSTM/21/FC2 output: [200, 1]\n",
      "\u001b[32m[0809 14:47:28 @registry.py:126]\u001b[0m gen/LSTM/22/FC input: [200, 100]\n",
      "\u001b[32m[0809 14:47:28 @registry.py:134]\u001b[0m gen/LSTM/22/FC output: [200, 100]\n",
      "\u001b[32m[0809 14:47:28 @registry.py:126]\u001b[0m gen/LSTM/22/FC2 input: [200, 100]\n",
      "\u001b[32m[0809 14:47:28 @registry.py:134]\u001b[0m gen/LSTM/22/FC2 output: [200, 5]\n",
      "\u001b[32m[0809 14:47:28 @registry.py:126]\u001b[0m gen/LSTM/22/FC3 input: [200, 5]\n",
      "\u001b[32m[0809 14:47:28 @registry.py:134]\u001b[0m gen/LSTM/22/FC3 output: [200, 100]\n",
      "\u001b[32m[0809 14:47:28 @registry.py:126]\u001b[0m gen/LSTM/23/FC input: [200, 100]\n",
      "\u001b[32m[0809 14:47:28 @registry.py:134]\u001b[0m gen/LSTM/23/FC output: [200, 100]\n",
      "\u001b[32m[0809 14:47:28 @registry.py:126]\u001b[0m gen/LSTM/23/FC2 input: [200, 100]\n",
      "\u001b[32m[0809 14:47:28 @registry.py:134]\u001b[0m gen/LSTM/23/FC2 output: [200, 1]\n",
      "\u001b[32m[0809 14:47:28 @registry.py:126]\u001b[0m gen/LSTM/24/FC input: [200, 100]\n",
      "\u001b[32m[0809 14:47:28 @registry.py:134]\u001b[0m gen/LSTM/24/FC output: [200, 100]\n",
      "\u001b[32m[0809 14:47:28 @registry.py:126]\u001b[0m gen/LSTM/24/FC2 input: [200, 100]\n",
      "\u001b[32m[0809 14:47:28 @registry.py:134]\u001b[0m gen/LSTM/24/FC2 output: [200, 5]\n",
      "\u001b[32m[0809 14:47:28 @registry.py:126]\u001b[0m gen/LSTM/24/FC3 input: [200, 5]\n",
      "\u001b[32m[0809 14:47:28 @registry.py:134]\u001b[0m gen/LSTM/24/FC3 output: [200, 100]\n",
      "\u001b[32m[0809 14:47:28 @registry.py:126]\u001b[0m gen/LSTM/25/FC input: [200, 100]\n",
      "\u001b[32m[0809 14:47:28 @registry.py:134]\u001b[0m gen/LSTM/25/FC output: [200, 100]\n",
      "\u001b[32m[0809 14:47:28 @registry.py:126]\u001b[0m gen/LSTM/25/FC2 input: [200, 100]\n",
      "\u001b[32m[0809 14:47:28 @registry.py:134]\u001b[0m gen/LSTM/25/FC2 output: [200, 1]\n",
      "\u001b[32m[0809 14:47:28 @registry.py:126]\u001b[0m gen/LSTM/26/FC input: [200, 100]\n",
      "\u001b[32m[0809 14:47:28 @registry.py:134]\u001b[0m gen/LSTM/26/FC output: [200, 100]\n",
      "\u001b[32m[0809 14:47:28 @registry.py:126]\u001b[0m gen/LSTM/26/FC2 input: [200, 100]\n",
      "\u001b[32m[0809 14:47:28 @registry.py:134]\u001b[0m gen/LSTM/26/FC2 output: [200, 5]\n",
      "\u001b[32m[0809 14:47:28 @registry.py:126]\u001b[0m gen/LSTM/26/FC3 input: [200, 5]\n",
      "\u001b[32m[0809 14:47:28 @registry.py:134]\u001b[0m gen/LSTM/26/FC3 output: [200, 100]\n",
      "\u001b[32m[0809 14:47:28 @registry.py:126]\u001b[0m gen/LSTM/27/FC input: [200, 100]\n",
      "\u001b[32m[0809 14:47:28 @registry.py:134]\u001b[0m gen/LSTM/27/FC output: [200, 100]\n",
      "\u001b[32m[0809 14:47:28 @registry.py:126]\u001b[0m gen/LSTM/27/FC2 input: [200, 100]\n",
      "\u001b[32m[0809 14:47:28 @registry.py:134]\u001b[0m gen/LSTM/27/FC2 output: [200, 1]\n",
      "\u001b[32m[0809 14:47:28 @registry.py:126]\u001b[0m gen/LSTM/28/FC input: [200, 100]\n",
      "\u001b[32m[0809 14:47:28 @registry.py:134]\u001b[0m gen/LSTM/28/FC output: [200, 100]\n",
      "\u001b[32m[0809 14:47:28 @registry.py:126]\u001b[0m gen/LSTM/28/FC2 input: [200, 100]\n",
      "\u001b[32m[0809 14:47:28 @registry.py:134]\u001b[0m gen/LSTM/28/FC2 output: [200, 5]\n",
      "\u001b[32m[0809 14:47:28 @registry.py:126]\u001b[0m gen/LSTM/28/FC3 input: [200, 5]\n",
      "\u001b[32m[0809 14:47:28 @registry.py:134]\u001b[0m gen/LSTM/28/FC3 output: [200, 100]\n",
      "\u001b[32m[0809 14:47:28 @registry.py:126]\u001b[0m gen/LSTM/29/FC input: [200, 100]\n",
      "\u001b[32m[0809 14:47:28 @registry.py:134]\u001b[0m gen/LSTM/29/FC output: [200, 100]\n",
      "\u001b[32m[0809 14:47:28 @registry.py:126]\u001b[0m gen/LSTM/29/FC2 input: [200, 100]\n",
      "\u001b[32m[0809 14:47:28 @registry.py:134]\u001b[0m gen/LSTM/29/FC2 output: [200, 1]\n",
      "\u001b[32m[0809 14:47:28 @registry.py:126]\u001b[0m gen/LSTM/30/FC input: [200, 100]\n",
      "\u001b[32m[0809 14:47:28 @registry.py:134]\u001b[0m gen/LSTM/30/FC output: [200, 100]\n",
      "\u001b[32m[0809 14:47:28 @registry.py:126]\u001b[0m gen/LSTM/30/FC2 input: [200, 100]\n",
      "\u001b[32m[0809 14:47:28 @registry.py:134]\u001b[0m gen/LSTM/30/FC2 output: [200, 5]\n",
      "\u001b[32m[0809 14:47:28 @registry.py:126]\u001b[0m gen/LSTM/30/FC3 input: [200, 5]\n"
     ]
    },
    {
     "name": "stdout",
     "output_type": "stream",
     "text": [
      "\u001b[32m[0809 14:47:28 @registry.py:134]\u001b[0m gen/LSTM/30/FC3 output: [200, 100]\n",
      "\u001b[32m[0809 14:47:28 @registry.py:126]\u001b[0m gen/LSTM/31/FC input: [200, 100]\n",
      "\u001b[32m[0809 14:47:28 @registry.py:134]\u001b[0m gen/LSTM/31/FC output: [200, 100]\n",
      "\u001b[32m[0809 14:47:28 @registry.py:126]\u001b[0m gen/LSTM/31/FC2 input: [200, 100]\n",
      "\u001b[32m[0809 14:47:28 @registry.py:134]\u001b[0m gen/LSTM/31/FC2 output: [200, 5]\n",
      "\u001b[32m[0809 14:47:28 @registry.py:126]\u001b[0m gen/LSTM/31/FC3 input: [200, 5]\n",
      "\u001b[32m[0809 14:47:28 @registry.py:134]\u001b[0m gen/LSTM/31/FC3 output: [200, 100]\n",
      "\u001b[32m[0809 14:47:28 @registry.py:126]\u001b[0m gen/LSTM/32/FC input: [200, 100]\n",
      "\u001b[32m[0809 14:47:28 @registry.py:134]\u001b[0m gen/LSTM/32/FC output: [200, 100]\n",
      "\u001b[32m[0809 14:47:28 @registry.py:126]\u001b[0m gen/LSTM/32/FC2 input: [200, 100]\n",
      "\u001b[32m[0809 14:47:28 @registry.py:134]\u001b[0m gen/LSTM/32/FC2 output: [200, 1]\n",
      "\u001b[32m[0809 14:47:28 @registry.py:126]\u001b[0m gen/LSTM/33/FC input: [200, 100]\n",
      "\u001b[32m[0809 14:47:28 @registry.py:134]\u001b[0m gen/LSTM/33/FC output: [200, 100]\n",
      "\u001b[32m[0809 14:47:28 @registry.py:126]\u001b[0m gen/LSTM/33/FC2 input: [200, 100]\n",
      "\u001b[32m[0809 14:47:28 @registry.py:134]\u001b[0m gen/LSTM/33/FC2 output: [200, 5]\n",
      "\u001b[32m[0809 14:47:28 @registry.py:126]\u001b[0m gen/LSTM/33/FC3 input: [200, 5]\n",
      "\u001b[32m[0809 14:47:28 @registry.py:134]\u001b[0m gen/LSTM/33/FC3 output: [200, 100]\n",
      "\u001b[32m[0809 14:47:29 @registry.py:126]\u001b[0m gen/LSTM/34/FC input: [200, 100]\n",
      "\u001b[32m[0809 14:47:29 @registry.py:134]\u001b[0m gen/LSTM/34/FC output: [200, 100]\n",
      "\u001b[32m[0809 14:47:29 @registry.py:126]\u001b[0m gen/LSTM/34/FC2 input: [200, 100]\n",
      "\u001b[32m[0809 14:47:29 @registry.py:134]\u001b[0m gen/LSTM/34/FC2 output: [200, 1]\n",
      "\u001b[32m[0809 14:47:29 @registry.py:126]\u001b[0m gen/LSTM/35/FC input: [200, 100]\n",
      "\u001b[32m[0809 14:47:29 @registry.py:134]\u001b[0m gen/LSTM/35/FC output: [200, 100]\n",
      "\u001b[32m[0809 14:47:29 @registry.py:126]\u001b[0m gen/LSTM/35/FC2 input: [200, 100]\n",
      "\u001b[32m[0809 14:47:29 @registry.py:134]\u001b[0m gen/LSTM/35/FC2 output: [200, 5]\n",
      "\u001b[32m[0809 14:47:29 @registry.py:126]\u001b[0m gen/LSTM/35/FC3 input: [200, 5]\n",
      "\u001b[32m[0809 14:47:29 @registry.py:134]\u001b[0m gen/LSTM/35/FC3 output: [200, 100]\n",
      "\u001b[32m[0809 14:47:29 @registry.py:126]\u001b[0m gen/LSTM/36/FC input: [200, 100]\n",
      "\u001b[32m[0809 14:47:29 @registry.py:134]\u001b[0m gen/LSTM/36/FC output: [200, 100]\n",
      "\u001b[32m[0809 14:47:29 @registry.py:126]\u001b[0m gen/LSTM/36/FC2 input: [200, 100]\n",
      "\u001b[32m[0809 14:47:29 @registry.py:134]\u001b[0m gen/LSTM/36/FC2 output: [200, 1]\n",
      "\u001b[32m[0809 14:47:29 @registry.py:126]\u001b[0m gen/LSTM/37/FC input: [200, 100]\n",
      "\u001b[32m[0809 14:47:29 @registry.py:134]\u001b[0m gen/LSTM/37/FC output: [200, 100]\n",
      "\u001b[32m[0809 14:47:29 @registry.py:126]\u001b[0m gen/LSTM/37/FC2 input: [200, 100]\n",
      "\u001b[32m[0809 14:47:29 @registry.py:134]\u001b[0m gen/LSTM/37/FC2 output: [200, 5]\n",
      "\u001b[32m[0809 14:47:29 @registry.py:126]\u001b[0m gen/LSTM/37/FC3 input: [200, 5]\n",
      "\u001b[32m[0809 14:47:29 @registry.py:134]\u001b[0m gen/LSTM/37/FC3 output: [200, 100]\n",
      "\u001b[32m[0809 14:47:29 @registry.py:126]\u001b[0m gen/LSTM/38/FC input: [200, 100]\n",
      "\u001b[32m[0809 14:47:29 @registry.py:134]\u001b[0m gen/LSTM/38/FC output: [200, 100]\n",
      "\u001b[32m[0809 14:47:29 @registry.py:126]\u001b[0m gen/LSTM/38/FC2 input: [200, 100]\n",
      "\u001b[32m[0809 14:47:29 @registry.py:134]\u001b[0m gen/LSTM/38/FC2 output: [200, 2]\n",
      "\u001b[32m[0809 14:47:29 @registry.py:126]\u001b[0m gen/LSTM/38/FC3 input: [200, 2]\n",
      "\u001b[32m[0809 14:47:29 @registry.py:134]\u001b[0m gen/LSTM/38/FC3 output: [200, 100]\n",
      "\u001b[32m[0809 14:47:29 @registry.py:126]\u001b[0m gen/LSTM/39/FC input: [200, 100]\n",
      "\u001b[32m[0809 14:47:29 @registry.py:134]\u001b[0m gen/LSTM/39/FC output: [200, 100]\n",
      "\u001b[32m[0809 14:47:29 @registry.py:126]\u001b[0m gen/LSTM/39/FC2 input: [200, 100]\n",
      "\u001b[32m[0809 14:47:29 @registry.py:134]\u001b[0m gen/LSTM/39/FC2 output: [200, 1]\n",
      "\u001b[32m[0809 14:47:29 @registry.py:126]\u001b[0m gen/LSTM/40/FC input: [200, 100]\n",
      "\u001b[32m[0809 14:47:29 @registry.py:134]\u001b[0m gen/LSTM/40/FC output: [200, 100]\n",
      "\u001b[32m[0809 14:47:29 @registry.py:126]\u001b[0m gen/LSTM/40/FC2 input: [200, 100]\n",
      "\u001b[32m[0809 14:47:29 @registry.py:134]\u001b[0m gen/LSTM/40/FC2 output: [200, 5]\n",
      "\u001b[32m[0809 14:47:29 @registry.py:126]\u001b[0m gen/LSTM/40/FC3 input: [200, 5]\n",
      "\u001b[32m[0809 14:47:29 @registry.py:134]\u001b[0m gen/LSTM/40/FC3 output: [200, 100]\n",
      "WARNING:tensorflow:From D:\\Users\\glede\\anaconda3\\envs\\py37\\lib\\site-packages\\tgan\\model.py:494: The name tf.random_uniform is deprecated. Please use tf.random.uniform instead.\n",
      "\n",
      "WARNING:tensorflow:From D:\\Users\\glede\\anaconda3\\envs\\py37\\lib\\site-packages\\tgan\\model.py:443: The name tf.log is deprecated. Please use tf.math.log instead.\n",
      "\n",
      "\u001b[32m[0809 14:47:29 @registry.py:126]\u001b[0m discrim/dis_fc0/fc input: [200, 172]\n",
      "\u001b[32m[0809 14:47:29 @registry.py:134]\u001b[0m discrim/dis_fc0/fc output: [200, 100]\n",
      "\u001b[32m[0809 14:47:29 @registry.py:126]\u001b[0m discrim/dis_fc0/fc_diversity input: [200, 100]\n",
      "\u001b[32m[0809 14:47:29 @registry.py:134]\u001b[0m discrim/dis_fc0/fc_diversity output: [200, 100]\n",
      "WARNING:tensorflow:From D:\\Users\\glede\\anaconda3\\envs\\py37\\lib\\site-packages\\tensorpack\\models\\batch_norm.py:204: The name tf.layers.BatchNormalization is deprecated. Please use tf.compat.v1.layers.BatchNormalization instead.\n",
      "\n",
      "WARNING:tensorflow:From D:\\Users\\glede\\anaconda3\\envs\\py37\\lib\\site-packages\\tensorpack\\models\\batch_norm.py:212: The name tf.add_to_collection is deprecated. Please use tf.compat.v1.add_to_collection instead.\n",
      "\n",
      "\u001b[32m[0809 14:47:29 @registry.py:126]\u001b[0m discrim/dis_fc_top input: [200, 110]\n",
      "\u001b[32m[0809 14:47:29 @registry.py:134]\u001b[0m discrim/dis_fc_top output: [200, 1]\n",
      "WARNING:tensorflow:From D:\\Users\\glede\\anaconda3\\envs\\py37\\lib\\site-packages\\tgan\\model.py:118: The name tf.summary.histogram is deprecated. Please use tf.compat.v1.summary.histogram instead.\n",
      "\n",
      "WARNING:tensorflow:From D:\\Users\\glede\\anaconda3\\envs\\py37\\lib\\site-packages\\tensorflow_core\\python\\ops\\nn_impl.py:183: where (from tensorflow.python.ops.array_ops) is deprecated and will be removed in a future version.\n",
      "Instructions for updating:\n",
      "Use tf.where in 2.0, which has the same broadcast rule as np.where\n",
      "WARNING:tensorflow:\n",
      "The TensorFlow contrib module will not be included in TensorFlow 2.0.\n",
      "For more information, please see:\n",
      "  * https://github.com/tensorflow/community/blob/master/rfcs/20180907-contrib-sunset.md\n",
      "  * https://github.com/tensorflow/addons\n",
      "  * https://github.com/tensorflow/io (for I/O related ops)\n",
      "If you depend on functionality not listed there, please file an issue.\n",
      "\n",
      "WARNING:tensorflow:From D:\\Users\\glede\\anaconda3\\envs\\py37\\lib\\site-packages\\tgan\\model.py:551: The name tf.train.AdamOptimizer is deprecated. Please use tf.compat.v1.train.AdamOptimizer instead.\n",
      "\n",
      "WARNING:tensorflow:From D:\\Users\\glede\\anaconda3\\envs\\py37\\lib\\site-packages\\tensorpack\\tfutils\\varmanip.py:178: The name tf.gfile.Exists is deprecated. Please use tf.io.gfile.exists instead.\n",
      "\n",
      "\u001b[32m[0809 14:47:36 @logger.py:83]\u001b[0m Existing log file '../output/LPMC/TGAN/logs\\log.log' backuped to '../output/LPMC/TGAN/logs\\log.log.0809-144736'\n",
      "\u001b[32m[0809 14:47:36 @logger.py:90]\u001b[0m Argv: D:\\Users\\glede\\anaconda3\\envs\\py37\\lib\\site-packages\\ipykernel_launcher.py -f C:\\Users\\glede\\AppData\\Roaming\\jupyter\\runtime\\kernel-45d0fc40-305a-4941-baa7-3330a124396c.json\n",
      "WARNING:tensorflow:From D:\\Users\\glede\\anaconda3\\envs\\py37\\lib\\site-packages\\tensorpack\\callbacks\\saver.py:43: The name tf.gfile.IsDirectory is deprecated. Please use tf.io.gfile.isdir instead.\n",
      "\n",
      "WARNING:tensorflow:From D:\\Users\\glede\\anaconda3\\envs\\py37\\lib\\site-packages\\tensorpack\\tfutils\\common.py:41: The name tf.ConfigProto is deprecated. Please use tf.compat.v1.ConfigProto instead.\n",
      "\n",
      "\u001b[32m[0809 14:47:36 @model_utils.py:67]\u001b[0m \u001b[36mList of Trainable Variables: \n",
      "\u001b[0mname                              shape         #elements\n",
      "--------------------------------  ----------  -----------\n",
      "gen/LSTM/go:0                     [1, 100]            100\n",
      "gen/LSTM/lstm_cell/kernel:0       [500, 400]       200000\n",
      "gen/LSTM/lstm_cell/bias:0         [400]               400\n",
      "gen/LSTM/00/FC/W:0                [100, 100]        10000\n",
      "gen/LSTM/00/FC/b:0                [100]               100\n",
      "gen/LSTM/00/FC2/W:0               [100, 4]            400\n",
      "gen/LSTM/00/FC2/b:0               [4]                   4\n",
      "gen/LSTM/00/FC3/W:0               [4, 100]            400\n",
      "gen/LSTM/00/FC3/b:0               [100]               100\n",
      "gen/LSTM/00/attw:0                [1, 1, 1]             1\n",
      "gen/LSTM/01/FC/W:0                [100, 100]        10000\n",
      "gen/LSTM/01/FC/b:0                [100]               100\n",
      "gen/LSTM/01/FC2/W:0               [100, 5]            500\n",
      "gen/LSTM/01/FC2/b:0               [5]                   5\n",
      "gen/LSTM/01/FC3/W:0               [5, 100]            500\n",
      "gen/LSTM/01/FC3/b:0               [100]               100\n",
      "gen/LSTM/01/attw:0                [2, 1, 1]             2\n",
      "gen/LSTM/02/FC/W:0                [100, 100]        10000\n",
      "gen/LSTM/02/FC/b:0                [100]               100\n",
      "gen/LSTM/02/FC2/W:0               [100, 6]            600\n",
      "gen/LSTM/02/FC2/b:0               [6]                   6\n",
      "gen/LSTM/02/FC3/W:0               [6, 100]            600\n",
      "gen/LSTM/02/FC3/b:0               [100]               100\n",
      "gen/LSTM/02/attw:0                [3, 1, 1]             3\n",
      "gen/LSTM/03/FC/W:0                [100, 100]        10000\n",
      "gen/LSTM/03/FC/b:0                [100]               100\n",
      "gen/LSTM/03/FC2/W:0               [100, 5]            500\n",
      "gen/LSTM/03/FC2/b:0               [5]                   5\n",
      "gen/LSTM/03/FC3/W:0               [5, 100]            500\n",
      "gen/LSTM/03/FC3/b:0               [100]               100\n",
      "gen/LSTM/03/attw:0                [4, 1, 1]             4\n",
      "gen/LSTM/04/FC/W:0                [100, 100]        10000\n",
      "gen/LSTM/04/FC/b:0                [100]               100\n",
      "gen/LSTM/04/FC2/W:0               [100, 3]            300\n",
      "gen/LSTM/04/FC2/b:0               [3]                   3\n",
      "gen/LSTM/04/FC3/W:0               [3, 100]            300\n",
      "gen/LSTM/04/FC3/b:0               [100]               100\n",
      "gen/LSTM/04/attw:0                [5, 1, 1]             5\n",
      "gen/LSTM/05/FC/W:0                [100, 100]        10000\n",
      "gen/LSTM/05/FC/b:0                [100]               100\n",
      "gen/LSTM/05/FC2/W:0               [100, 3]            300\n",
      "gen/LSTM/05/FC2/b:0               [3]                   3\n",
      "gen/LSTM/05/FC3/W:0               [3, 100]            300\n",
      "gen/LSTM/05/FC3/b:0               [100]               100\n",
      "gen/LSTM/05/attw:0                [6, 1, 1]             6\n",
      "gen/LSTM/06/FC/W:0                [100, 100]        10000\n",
      "gen/LSTM/06/FC/b:0                [100]               100\n",
      "gen/LSTM/06/FC2/W:0               [100, 4]            400\n",
      "gen/LSTM/06/FC2/b:0               [4]                   4\n",
      "gen/LSTM/06/FC3/W:0               [4, 100]            400\n",
      "gen/LSTM/06/FC3/b:0               [100]               100\n",
      "gen/LSTM/06/attw:0                [7, 1, 1]             7\n",
      "gen/LSTM/07/FC/W:0                [100, 100]        10000\n",
      "gen/LSTM/07/FC/b:0                [100]               100\n",
      "gen/LSTM/07/FC2/W:0               [100, 12]          1200\n",
      "gen/LSTM/07/FC2/b:0               [12]                 12\n",
      "gen/LSTM/07/FC3/W:0               [12, 100]          1200\n",
      "gen/LSTM/07/FC3/b:0               [100]               100\n",
      "gen/LSTM/07/attw:0                [8, 1, 1]             8\n",
      "gen/LSTM/08/FC/W:0                [100, 100]        10000\n",
      "gen/LSTM/08/FC/b:0                [100]               100\n",
      "gen/LSTM/08/FC2/W:0               [100, 31]          3100\n",
      "gen/LSTM/08/FC2/b:0               [31]                 31\n",
      "gen/LSTM/08/FC3/W:0               [31, 100]          3100\n",
      "gen/LSTM/08/FC3/b:0               [100]               100\n",
      "gen/LSTM/08/attw:0                [9, 1, 1]             9\n",
      "gen/LSTM/09/FC/W:0                [100, 100]        10000\n",
      "gen/LSTM/09/FC/b:0                [100]               100\n",
      "gen/LSTM/09/FC2/W:0               [100, 7]            700\n",
      "gen/LSTM/09/FC2/b:0               [7]                   7\n",
      "gen/LSTM/09/FC3/W:0               [7, 100]            700\n",
      "gen/LSTM/09/FC3/b:0               [100]               100\n",
      "gen/LSTM/09/attw:0                [10, 1, 1]           10\n",
      "gen/LSTM/10/FC/W:0                [100, 100]        10000\n",
      "gen/LSTM/10/FC/b:0                [100]               100\n",
      "gen/LSTM/10/FC2/W:0               [100, 1]            100\n",
      "gen/LSTM/10/FC2/b:0               [1]                   1\n",
      "gen/LSTM/10/attw:0                [11, 1, 1]           11\n",
      "gen/LSTM/11/FC/W:0                [100, 100]        10000\n",
      "gen/LSTM/11/FC/b:0                [100]               100\n",
      "gen/LSTM/11/FC2/W:0               [100, 5]            500\n",
      "gen/LSTM/11/FC2/b:0               [5]                   5\n",
      "gen/LSTM/11/FC3/W:0               [5, 100]            500\n",
      "gen/LSTM/11/FC3/b:0               [100]               100\n",
      "gen/LSTM/11/attw:0                [12, 1, 1]           12\n",
      "gen/LSTM/12/FC/W:0                [100, 100]        10000\n",
      "gen/LSTM/12/FC/b:0                [100]               100\n",
      "gen/LSTM/12/FC2/W:0               [100, 1]            100\n",
      "gen/LSTM/12/FC2/b:0               [1]                   1\n",
      "gen/LSTM/12/attw:0                [13, 1, 1]           13\n",
      "gen/LSTM/13/FC/W:0                [100, 100]        10000\n",
      "gen/LSTM/13/FC/b:0                [100]               100\n",
      "gen/LSTM/13/FC2/W:0               [100, 5]            500\n",
      "gen/LSTM/13/FC2/b:0               [5]                   5\n",
      "gen/LSTM/13/FC3/W:0               [5, 100]            500\n",
      "gen/LSTM/13/FC3/b:0               [100]               100\n",
      "gen/LSTM/13/attw:0                [14, 1, 1]           14\n",
      "gen/LSTM/14/FC/W:0                [100, 100]        10000\n",
      "gen/LSTM/14/FC/b:0                [100]               100\n",
      "gen/LSTM/14/FC2/W:0               [100, 2]            200\n",
      "gen/LSTM/14/FC2/b:0               [2]                   2\n",
      "gen/LSTM/14/FC3/W:0               [2, 100]            200\n",
      "gen/LSTM/14/FC3/b:0               [100]               100\n",
      "gen/LSTM/14/attw:0                [15, 1, 1]           15\n",
      "gen/LSTM/15/FC/W:0                [100, 100]        10000\n",
      "gen/LSTM/15/FC/b:0                [100]               100\n",
      "gen/LSTM/15/FC2/W:0               [100, 2]            200\n",
      "gen/LSTM/15/FC2/b:0               [2]                   2\n",
      "gen/LSTM/15/FC3/W:0               [2, 100]            200\n",
      "gen/LSTM/15/FC3/b:0               [100]               100\n",
      "gen/LSTM/15/attw:0                [16, 1, 1]           16\n",
      "gen/LSTM/16/FC/W:0                [100, 100]        10000\n",
      "gen/LSTM/16/FC/b:0                [100]               100\n",
      "gen/LSTM/16/FC2/W:0               [100, 3]            300\n",
      "gen/LSTM/16/FC2/b:0               [3]                   3\n",
      "gen/LSTM/16/FC3/W:0               [3, 100]            300\n",
      "gen/LSTM/16/FC3/b:0               [100]               100\n",
      "gen/LSTM/16/attw:0                [17, 1, 1]           17\n",
      "gen/LSTM/17/FC/W:0                [100, 100]        10000\n",
      "gen/LSTM/17/FC/b:0                [100]               100\n",
      "gen/LSTM/17/FC2/W:0               [100, 1]            100\n",
      "gen/LSTM/17/FC2/b:0               [1]                   1\n",
      "gen/LSTM/17/attw:0                [18, 1, 1]           18\n",
      "gen/LSTM/18/FC/W:0                [100, 100]        10000\n",
      "gen/LSTM/18/FC/b:0                [100]               100\n",
      "gen/LSTM/18/FC2/W:0               [100, 5]            500\n",
      "gen/LSTM/18/FC2/b:0               [5]                   5\n",
      "gen/LSTM/18/FC3/W:0               [5, 100]            500\n",
      "gen/LSTM/18/FC3/b:0               [100]               100\n",
      "gen/LSTM/18/attw:0                [19, 1, 1]           19\n",
      "gen/LSTM/19/FC/W:0                [100, 100]        10000\n",
      "gen/LSTM/19/FC/b:0                [100]               100\n",
      "gen/LSTM/19/FC2/W:0               [100, 1]            100\n",
      "gen/LSTM/19/FC2/b:0               [1]                   1\n",
      "gen/LSTM/19/attw:0                [20, 1, 1]           20\n",
      "gen/LSTM/20/FC/W:0                [100, 100]        10000\n",
      "gen/LSTM/20/FC/b:0                [100]               100\n",
      "gen/LSTM/20/FC2/W:0               [100, 5]            500\n",
      "gen/LSTM/20/FC2/b:0               [5]                   5\n",
      "gen/LSTM/20/FC3/W:0               [5, 100]            500\n",
      "gen/LSTM/20/FC3/b:0               [100]               100\n",
      "gen/LSTM/20/attw:0                [21, 1, 1]           21\n",
      "gen/LSTM/21/FC/W:0                [100, 100]        10000\n",
      "gen/LSTM/21/FC/b:0                [100]               100\n",
      "gen/LSTM/21/FC2/W:0               [100, 1]            100\n",
      "gen/LSTM/21/FC2/b:0               [1]                   1\n",
      "gen/LSTM/21/attw:0                [22, 1, 1]           22\n",
      "gen/LSTM/22/FC/W:0                [100, 100]        10000\n",
      "gen/LSTM/22/FC/b:0                [100]               100\n",
      "gen/LSTM/22/FC2/W:0               [100, 5]            500\n",
      "gen/LSTM/22/FC2/b:0               [5]                   5\n",
      "gen/LSTM/22/FC3/W:0               [5, 100]            500\n",
      "gen/LSTM/22/FC3/b:0               [100]               100\n",
      "gen/LSTM/22/attw:0                [23, 1, 1]           23\n",
      "gen/LSTM/23/FC/W:0                [100, 100]        10000\n",
      "gen/LSTM/23/FC/b:0                [100]               100\n",
      "gen/LSTM/23/FC2/W:0               [100, 1]            100\n",
      "gen/LSTM/23/FC2/b:0               [1]                   1\n",
      "gen/LSTM/23/attw:0                [24, 1, 1]           24\n",
      "gen/LSTM/24/FC/W:0                [100, 100]        10000\n",
      "gen/LSTM/24/FC/b:0                [100]               100\n",
      "gen/LSTM/24/FC2/W:0               [100, 5]            500\n",
      "gen/LSTM/24/FC2/b:0               [5]                   5\n",
      "gen/LSTM/24/FC3/W:0               [5, 100]            500\n",
      "gen/LSTM/24/FC3/b:0               [100]               100\n",
      "gen/LSTM/24/attw:0                [25, 1, 1]           25\n",
      "gen/LSTM/25/FC/W:0                [100, 100]        10000\n",
      "gen/LSTM/25/FC/b:0                [100]               100\n",
      "gen/LSTM/25/FC2/W:0               [100, 1]            100\n",
      "gen/LSTM/25/FC2/b:0               [1]                   1\n",
      "gen/LSTM/25/attw:0                [26, 1, 1]           26\n",
      "gen/LSTM/26/FC/W:0                [100, 100]        10000\n",
      "gen/LSTM/26/FC/b:0                [100]               100\n",
      "gen/LSTM/26/FC2/W:0               [100, 5]            500\n",
      "gen/LSTM/26/FC2/b:0               [5]                   5\n",
      "gen/LSTM/26/FC3/W:0               [5, 100]            500\n",
      "gen/LSTM/26/FC3/b:0               [100]               100\n",
      "gen/LSTM/26/attw:0                [27, 1, 1]           27\n",
      "gen/LSTM/27/FC/W:0                [100, 100]        10000\n",
      "gen/LSTM/27/FC/b:0                [100]               100\n",
      "gen/LSTM/27/FC2/W:0               [100, 1]            100\n",
      "gen/LSTM/27/FC2/b:0               [1]                   1\n",
      "gen/LSTM/27/attw:0                [28, 1, 1]           28\n",
      "gen/LSTM/28/FC/W:0                [100, 100]        10000\n",
      "gen/LSTM/28/FC/b:0                [100]               100\n",
      "gen/LSTM/28/FC2/W:0               [100, 5]            500\n",
      "gen/LSTM/28/FC2/b:0               [5]                   5\n",
      "gen/LSTM/28/FC3/W:0               [5, 100]            500\n",
      "gen/LSTM/28/FC3/b:0               [100]               100\n",
      "gen/LSTM/28/attw:0                [29, 1, 1]           29\n",
      "gen/LSTM/29/FC/W:0                [100, 100]        10000\n",
      "gen/LSTM/29/FC/b:0                [100]               100\n",
      "gen/LSTM/29/FC2/W:0               [100, 1]            100\n",
      "gen/LSTM/29/FC2/b:0               [1]                   1\n",
      "gen/LSTM/29/attw:0                [30, 1, 1]           30\n",
      "gen/LSTM/30/FC/W:0                [100, 100]        10000\n",
      "gen/LSTM/30/FC/b:0                [100]               100\n",
      "gen/LSTM/30/FC2/W:0               [100, 5]            500\n",
      "gen/LSTM/30/FC2/b:0               [5]                   5\n",
      "gen/LSTM/30/FC3/W:0               [5, 100]            500\n",
      "gen/LSTM/30/FC3/b:0               [100]               100\n",
      "gen/LSTM/30/attw:0                [31, 1, 1]           31\n",
      "gen/LSTM/31/FC/W:0                [100, 100]        10000\n",
      "gen/LSTM/31/FC/b:0                [100]               100\n",
      "gen/LSTM/31/FC2/W:0               [100, 5]            500\n",
      "gen/LSTM/31/FC2/b:0               [5]                   5\n",
      "gen/LSTM/31/FC3/W:0               [5, 100]            500\n",
      "gen/LSTM/31/FC3/b:0               [100]               100\n",
      "gen/LSTM/31/attw:0                [32, 1, 1]           32\n",
      "gen/LSTM/32/FC/W:0                [100, 100]        10000\n",
      "gen/LSTM/32/FC/b:0                [100]               100\n",
      "gen/LSTM/32/FC2/W:0               [100, 1]            100\n",
      "gen/LSTM/32/FC2/b:0               [1]                   1\n",
      "gen/LSTM/32/attw:0                [33, 1, 1]           33\n",
      "gen/LSTM/33/FC/W:0                [100, 100]        10000\n",
      "gen/LSTM/33/FC/b:0                [100]               100\n",
      "gen/LSTM/33/FC2/W:0               [100, 5]            500\n",
      "gen/LSTM/33/FC2/b:0               [5]                   5\n",
      "gen/LSTM/33/FC3/W:0               [5, 100]            500\n",
      "gen/LSTM/33/FC3/b:0               [100]               100\n",
      "gen/LSTM/33/attw:0                [34, 1, 1]           34\n",
      "gen/LSTM/34/FC/W:0                [100, 100]        10000\n",
      "gen/LSTM/34/FC/b:0                [100]               100\n",
      "gen/LSTM/34/FC2/W:0               [100, 1]            100\n",
      "gen/LSTM/34/FC2/b:0               [1]                   1\n",
      "gen/LSTM/34/attw:0                [35, 1, 1]           35\n",
      "gen/LSTM/35/FC/W:0                [100, 100]        10000\n",
      "gen/LSTM/35/FC/b:0                [100]               100\n",
      "gen/LSTM/35/FC2/W:0               [100, 5]            500\n",
      "gen/LSTM/35/FC2/b:0               [5]                   5\n",
      "gen/LSTM/35/FC3/W:0               [5, 100]            500\n",
      "gen/LSTM/35/FC3/b:0               [100]               100\n",
      "gen/LSTM/35/attw:0                [36, 1, 1]           36\n",
      "gen/LSTM/36/FC/W:0                [100, 100]        10000\n",
      "gen/LSTM/36/FC/b:0                [100]               100\n",
      "gen/LSTM/36/FC2/W:0               [100, 1]            100\n",
      "gen/LSTM/36/FC2/b:0               [1]                   1\n",
      "gen/LSTM/36/attw:0                [37, 1, 1]           37\n",
      "gen/LSTM/37/FC/W:0                [100, 100]        10000\n",
      "gen/LSTM/37/FC/b:0                [100]               100\n",
      "gen/LSTM/37/FC2/W:0               [100, 5]            500\n",
      "gen/LSTM/37/FC2/b:0               [5]                   5\n",
      "gen/LSTM/37/FC3/W:0               [5, 100]            500\n",
      "gen/LSTM/37/FC3/b:0               [100]               100\n",
      "gen/LSTM/37/attw:0                [38, 1, 1]           38\n",
      "gen/LSTM/38/FC/W:0                [100, 100]        10000\n",
      "gen/LSTM/38/FC/b:0                [100]               100\n",
      "gen/LSTM/38/FC2/W:0               [100, 2]            200\n",
      "gen/LSTM/38/FC2/b:0               [2]                   2\n",
      "gen/LSTM/38/FC3/W:0               [2, 100]            200\n",
      "gen/LSTM/38/FC3/b:0               [100]               100\n",
      "gen/LSTM/38/attw:0                [39, 1, 1]           39\n",
      "gen/LSTM/39/FC/W:0                [100, 100]        10000\n",
      "gen/LSTM/39/FC/b:0                [100]               100\n",
      "gen/LSTM/39/FC2/W:0               [100, 1]            100\n",
      "gen/LSTM/39/FC2/b:0               [1]                   1\n",
      "gen/LSTM/39/attw:0                [40, 1, 1]           40\n",
      "gen/LSTM/40/FC/W:0                [100, 100]        10000\n",
      "gen/LSTM/40/FC/b:0                [100]               100\n",
      "gen/LSTM/40/FC2/W:0               [100, 5]            500\n",
      "gen/LSTM/40/FC2/b:0               [5]                   5\n",
      "gen/LSTM/40/FC3/W:0               [5, 100]            500\n",
      "gen/LSTM/40/FC3/b:0               [100]               100\n",
      "gen/LSTM/40/attw:0                [41, 1, 1]           41\n",
      "discrim/dis_fc0/fc/W:0            [172, 100]        17200\n",
      "discrim/dis_fc0/fc/b:0            [100]               100\n",
      "discrim/dis_fc0/fc_diversity/W:0  [100, 100]        10000\n",
      "discrim/dis_fc0/fc_diversity/b:0  [100]               100\n",
      "discrim/dis_fc0/bn/beta:0         [110]               110\n",
      "discrim/dis_fc_top/W:0            [110, 1]            110\n",
      "discrim/dis_fc_top/b:0            [1]                   1\u001b[36m\n",
      "Number of trainable variables: 271\n",
      "Number of parameters (elements): 679154\n",
      "Storage space needed for all trainable variables: 2.59MB\u001b[0m\n"
     ]
    },
    {
     "name": "stdout",
     "output_type": "stream",
     "text": [
      "\u001b[32m[0809 14:47:36 @base.py:209]\u001b[0m Setup callbacks graph ...\n",
      "WARNING:tensorflow:From D:\\Users\\glede\\anaconda3\\envs\\py37\\lib\\site-packages\\tensorpack\\callbacks\\graph.py:54: The name tf.train.SessionRunArgs is deprecated. Please use tf.estimator.SessionRunArgs instead.\n",
      "\n",
      "WARNING:tensorflow:From D:\\Users\\glede\\anaconda3\\envs\\py37\\lib\\site-packages\\tensorpack\\tfutils\\common.py:75: The name tf.VariableScope is deprecated. Please use tf.compat.v1.VariableScope instead.\n",
      "\n",
      "WARNING:tensorflow:From D:\\Users\\glede\\anaconda3\\envs\\py37\\lib\\site-packages\\tensorpack\\tfutils\\common.py:77: The name tf.train.get_or_create_global_step is deprecated. Please use tf.compat.v1.train.get_or_create_global_step instead.\n",
      "\n",
      "WARNING:tensorflow:From D:\\Users\\glede\\anaconda3\\envs\\py37\\lib\\site-packages\\tensorpack\\callbacks\\steps.py:117: The name tf.assign_add is deprecated. Please use tf.compat.v1.assign_add instead.\n",
      "\n",
      "WARNING:tensorflow:From D:\\Users\\glede\\anaconda3\\envs\\py37\\lib\\site-packages\\tensorpack\\callbacks\\saver.py:55: The name tf.train.Saver is deprecated. Please use tf.compat.v1.train.Saver instead.\n",
      "\n",
      "WARNING:tensorflow:From D:\\Users\\glede\\anaconda3\\envs\\py37\\lib\\site-packages\\tensorpack\\callbacks\\saver.py:59: The name tf.train.SaverDef is deprecated. Please use tf.compat.v1.train.SaverDef instead.\n",
      "\n",
      "\u001b[32m[0809 14:47:36 @summary.py:46]\u001b[0m [MovingAverageSummary] 6 operations in collection 'MOVING_SUMMARY_OPS' will be run with session hooks.\n",
      "\u001b[32m[0809 14:47:36 @summary.py:93]\u001b[0m Summarizing collection 'summaries' of size 9.\n",
      "WARNING:tensorflow:From D:\\Users\\glede\\anaconda3\\envs\\py37\\lib\\site-packages\\tensorpack\\callbacks\\summary.py:94: The name tf.summary.merge_all is deprecated. Please use tf.compat.v1.summary.merge_all instead.\n",
      "\n",
      "\u001b[32m[0809 14:47:36 @graph.py:98]\u001b[0m Applying collection UPDATE_OPS of 4 ops.\n",
      "WARNING:tensorflow:From D:\\Users\\glede\\anaconda3\\envs\\py37\\lib\\site-packages\\tensorpack\\callbacks\\monitor.py:261: The name tf.summary.FileWriter is deprecated. Please use tf.compat.v1.summary.FileWriter instead.\n",
      "\n",
      "WARNING:tensorflow:From D:\\Users\\glede\\anaconda3\\envs\\py37\\lib\\site-packages\\tensorpack\\tfutils\\sessinit.py:120: The name tf.train.NewCheckpointReader is deprecated. Please use tf.compat.v1.train.NewCheckpointReader instead.\n",
      "\n",
      "WARNING:tensorflow:From D:\\Users\\glede\\anaconda3\\envs\\py37\\lib\\site-packages\\tensorpack\\tfutils\\sessinit.py:127: The name tf.global_variables is deprecated. Please use tf.compat.v1.global_variables instead.\n",
      "\n",
      "\u001b[32m[0809 14:47:38 @base.py:230]\u001b[0m Creating the session ...\n",
      "WARNING:tensorflow:From D:\\Users\\glede\\anaconda3\\envs\\py37\\lib\\site-packages\\tensorpack\\tfutils\\sesscreate.py:42: The name tf.Session is deprecated. Please use tf.compat.v1.Session instead.\n",
      "\n",
      "WARNING:tensorflow:From D:\\Users\\glede\\anaconda3\\envs\\py37\\lib\\site-packages\\tensorpack\\tfutils\\sesscreate.py:71: The name tf.global_variables_initializer is deprecated. Please use tf.compat.v1.global_variables_initializer instead.\n",
      "\n",
      "WARNING:tensorflow:From D:\\Users\\glede\\anaconda3\\envs\\py37\\lib\\site-packages\\tensorpack\\tfutils\\sesscreate.py:62: get_backward_walk_ops (from tensorflow.contrib.graph_editor.select) is deprecated and will be removed after 2019-06-06.\n",
      "Instructions for updating:\n",
      "Please use tensorflow.python.ops.op_selector.get_backward_walk_ops.\n",
      "WARNING:tensorflow:From D:\\Users\\glede\\anaconda3\\envs\\py37\\lib\\site-packages\\tensorpack\\tfutils\\sesscreate.py:72: The name tf.local_variables_initializer is deprecated. Please use tf.compat.v1.local_variables_initializer instead.\n",
      "\n",
      "WARNING:tensorflow:From D:\\Users\\glede\\anaconda3\\envs\\py37\\lib\\site-packages\\tensorpack\\tfutils\\sesscreate.py:73: The name tf.tables_initializer is deprecated. Please use tf.compat.v1.tables_initializer instead.\n",
      "\n",
      "WARNING:tensorflow:From D:\\Users\\glede\\anaconda3\\envs\\py37\\lib\\site-packages\\tensorpack\\train\\base.py:254: The name tf.train.MonitoredSession is deprecated. Please use tf.compat.v1.train.MonitoredSession instead.\n",
      "\n",
      "\u001b[32m[0809 14:47:41 @base.py:236]\u001b[0m Initializing the session ...\n",
      "\u001b[32m[0809 14:47:41 @sessinit.py:114]\u001b[0m Restoring checkpoint from ../output/LPMC/TGAN/model\\model-1958000 ...\n",
      "INFO:tensorflow:Restoring parameters from ../output/LPMC/TGAN/model\\model-1958000\n",
      "\u001b[32m[0809 14:47:42 @base.py:243]\u001b[0m Graph Finalized.\n",
      "WARNING:tensorflow:From D:\\Users\\glede\\anaconda3\\envs\\py37\\lib\\site-packages\\tensorpack\\tfutils\\common.py:89: The name tf.train.global_step is deprecated. Please use tf.compat.v1.train.global_step instead.\n",
      "\n",
      "WARNING:tensorflow:From D:\\Users\\glede\\anaconda3\\envs\\py37\\lib\\site-packages\\tensorpack\\tfutils\\common.py:90: The name tf.get_default_session is deprecated. Please use tf.compat.v1.get_default_session instead.\n",
      "\n",
      "\u001b[32m[0809 14:47:42 @concurrency.py:38]\u001b[0m Starting EnqueueThread QueueInput/input_queue ...\n",
      "\u001b[32m[0809 14:47:42 @steps.py:124]\u001b[0m Start training with global_step=1958000\n",
      "\u001b[32m[0809 14:47:43 @monitor.py:347]\u001b[0m Found existing JSON inside ../output/LPMC/TGAN/logs, will append to it.\n",
      "\u001b[32m[0809 14:47:43 @base.py:275]\u001b[0m Start Epoch 980 ...\n"
     ]
    },
    {
     "name": "stderr",
     "output_type": "stream",
     "text": [
      "100%|################################################################################8|1996/2000[01:14<00:00,28.82it/s]"
     ]
    },
    {
     "name": "stdout",
     "output_type": "stream",
     "text": [
      "WARNING:tensorflow:From D:\\Users\\glede\\anaconda3\\envs\\py37\\lib\\site-packages\\tensorpack\\callbacks\\monitor.py:148: The name tf.Summary is deprecated. Please use tf.compat.v1.Summary instead.\n",
      "\n"
     ]
    },
    {
     "name": "stderr",
     "output_type": "stream",
     "text": [
      "\r",
      "100%|#################################################################################|2000/2000[01:18<00:00,25.59it/s]"
     ]
    },
    {
     "name": "stdout",
     "output_type": "stream",
     "text": [
      "\u001b[32m[0809 14:49:01 @base.py:285]\u001b[0m Epoch 980 (global_step 1960000) finished, time:1 minute 18 seconds.\n",
      "WARNING:tensorflow:From D:\\Users\\glede\\anaconda3\\envs\\py37\\lib\\site-packages\\tensorpack\\callbacks\\saver.py:77: The name tf.train.get_global_step is deprecated. Please use tf.compat.v1.train.get_global_step instead.\n",
      "\n"
     ]
    },
    {
     "name": "stderr",
     "output_type": "stream",
     "text": [
      "\n"
     ]
    },
    {
     "name": "stdout",
     "output_type": "stream",
     "text": [
      "\u001b[32m[0809 14:49:02 @saver.py:79]\u001b[0m Model saved to ../output/LPMC/TGAN/model\\model-1960000.\n",
      "\u001b[32m[0809 14:49:02 @monitor.py:467]\u001b[0m GAN_loss/discrim/accuracy_fake: 0.79\n",
      "\u001b[32m[0809 14:49:02 @monitor.py:467]\u001b[0m GAN_loss/discrim/accuracy_real: 0.355\n",
      "\u001b[32m[0809 14:49:02 @monitor.py:467]\u001b[0m GAN_loss/discrim/loss: 0.63929\n",
      "\u001b[32m[0809 14:49:02 @monitor.py:467]\u001b[0m GAN_loss/gen/final-g-loss: 1.5695\n",
      "\u001b[32m[0809 14:49:02 @monitor.py:467]\u001b[0m GAN_loss/gen/klloss: 0.35955\n",
      "\u001b[32m[0809 14:49:02 @monitor.py:467]\u001b[0m GAN_loss/gen/loss: 1.2099\n",
      "\u001b[32m[0809 14:49:02 @monitor.py:467]\u001b[0m QueueInput/queue_size: 50\n",
      "\u001b[32m[0809 14:49:02 @base.py:275]\u001b[0m Start Epoch 981 ...\n"
     ]
    },
    {
     "name": "stderr",
     "output_type": "stream",
     "text": [
      "100%|#################################################################################|2000/2000[01:10<00:00,28.33it/s]"
     ]
    },
    {
     "name": "stdout",
     "output_type": "stream",
     "text": [
      "\u001b[32m[0809 14:50:12 @base.py:285]\u001b[0m Epoch 981 (global_step 1962000) finished, time:1 minute 10 seconds.\n",
      "\u001b[32m[0809 14:50:13 @saver.py:79]\u001b[0m Model saved to ../output/LPMC/TGAN/model\\model-1962000.\n",
      "\u001b[32m[0809 14:50:13 @monitor.py:467]\u001b[0m GAN_loss/discrim/accuracy_fake: 0.835\n"
     ]
    },
    {
     "name": "stderr",
     "output_type": "stream",
     "text": [
      "\n"
     ]
    },
    {
     "name": "stdout",
     "output_type": "stream",
     "text": [
      "\u001b[32m[0809 14:50:13 @monitor.py:467]\u001b[0m GAN_loss/discrim/accuracy_real: 0.335\n",
      "\u001b[32m[0809 14:50:13 @monitor.py:467]\u001b[0m GAN_loss/discrim/loss: 0.61675\n",
      "\u001b[32m[0809 14:50:13 @monitor.py:467]\u001b[0m GAN_loss/gen/final-g-loss: 1.594\n",
      "\u001b[32m[0809 14:50:13 @monitor.py:467]\u001b[0m GAN_loss/gen/klloss: 0.35324\n",
      "\u001b[32m[0809 14:50:13 @monitor.py:467]\u001b[0m GAN_loss/gen/loss: 1.2407\n",
      "\u001b[32m[0809 14:50:13 @monitor.py:467]\u001b[0m QueueInput/queue_size: 50\n",
      "\u001b[32m[0809 14:50:13 @base.py:275]\u001b[0m Start Epoch 982 ...\n"
     ]
    },
    {
     "name": "stderr",
     "output_type": "stream",
     "text": [
      "100%|#################################################################################|2000/2000[01:09<00:00,28.67it/s]"
     ]
    },
    {
     "name": "stdout",
     "output_type": "stream",
     "text": [
      "\u001b[32m[0809 14:51:22 @base.py:285]\u001b[0m Epoch 982 (global_step 1964000) finished, time:1 minute 9 seconds.\n",
      "\u001b[32m[0809 14:51:23 @saver.py:79]\u001b[0m Model saved to ../output/LPMC/TGAN/model\\model-1964000.\n"
     ]
    },
    {
     "name": "stderr",
     "output_type": "stream",
     "text": [
      "\n"
     ]
    },
    {
     "name": "stdout",
     "output_type": "stream",
     "text": [
      "\u001b[32m[0809 14:51:23 @monitor.py:467]\u001b[0m GAN_loss/discrim/accuracy_fake: 0.775\n",
      "\u001b[32m[0809 14:51:23 @monitor.py:467]\u001b[0m GAN_loss/discrim/accuracy_real: 0.215\n",
      "\u001b[32m[0809 14:51:23 @monitor.py:467]\u001b[0m GAN_loss/discrim/loss: 0.65509\n",
      "\u001b[32m[0809 14:51:23 @monitor.py:467]\u001b[0m GAN_loss/gen/final-g-loss: 1.5619\n",
      "\u001b[32m[0809 14:51:23 @monitor.py:467]\u001b[0m GAN_loss/gen/klloss: 0.40083\n",
      "\u001b[32m[0809 14:51:23 @monitor.py:467]\u001b[0m GAN_loss/gen/loss: 1.161\n",
      "\u001b[32m[0809 14:51:23 @monitor.py:467]\u001b[0m QueueInput/queue_size: 50\n",
      "\u001b[32m[0809 14:51:23 @base.py:275]\u001b[0m Start Epoch 983 ...\n"
     ]
    },
    {
     "name": "stderr",
     "output_type": "stream",
     "text": [
      "100%|#################################################################################|2000/2000[01:10<00:00,28.51it/s]"
     ]
    },
    {
     "name": "stdout",
     "output_type": "stream",
     "text": [
      "\u001b[32m[0809 14:52:33 @base.py:285]\u001b[0m Epoch 983 (global_step 1966000) finished, time:1 minute 10 seconds.\n",
      "\u001b[32m[0809 14:52:33 @saver.py:79]\u001b[0m Model saved to ../output/LPMC/TGAN/model\\model-1966000.\n"
     ]
    },
    {
     "name": "stderr",
     "output_type": "stream",
     "text": [
      "\n"
     ]
    },
    {
     "name": "stdout",
     "output_type": "stream",
     "text": [
      "\u001b[32m[0809 14:52:33 @monitor.py:467]\u001b[0m GAN_loss/discrim/accuracy_fake: 0.83\n",
      "\u001b[32m[0809 14:52:33 @monitor.py:467]\u001b[0m GAN_loss/discrim/accuracy_real: 0.285\n",
      "\u001b[32m[0809 14:52:33 @monitor.py:467]\u001b[0m GAN_loss/discrim/loss: 0.63555\n",
      "\u001b[32m[0809 14:52:33 @monitor.py:467]\u001b[0m GAN_loss/gen/final-g-loss: 1.5747\n",
      "\u001b[32m[0809 14:52:33 @monitor.py:467]\u001b[0m GAN_loss/gen/klloss: 0.38327\n",
      "\u001b[32m[0809 14:52:33 @monitor.py:467]\u001b[0m GAN_loss/gen/loss: 1.1915\n",
      "\u001b[32m[0809 14:52:33 @monitor.py:467]\u001b[0m QueueInput/queue_size: 50\n",
      "\u001b[32m[0809 14:52:33 @base.py:275]\u001b[0m Start Epoch 984 ...\n"
     ]
    },
    {
     "name": "stderr",
     "output_type": "stream",
     "text": [
      "100%|#################################################################################|2000/2000[01:10<00:00,28.49it/s]"
     ]
    },
    {
     "name": "stdout",
     "output_type": "stream",
     "text": [
      "\u001b[32m[0809 14:53:43 @base.py:285]\u001b[0m Epoch 984 (global_step 1968000) finished, time:1 minute 10 seconds.\n",
      "\u001b[32m[0809 14:53:43 @saver.py:79]\u001b[0m Model saved to ../output/LPMC/TGAN/model\\model-1968000.\n"
     ]
    },
    {
     "name": "stderr",
     "output_type": "stream",
     "text": [
      "\n"
     ]
    },
    {
     "name": "stdout",
     "output_type": "stream",
     "text": [
      "\u001b[32m[0809 14:53:44 @monitor.py:467]\u001b[0m GAN_loss/discrim/accuracy_fake: 0.86\n",
      "\u001b[32m[0809 14:53:44 @monitor.py:467]\u001b[0m GAN_loss/discrim/accuracy_real: 0.35\n",
      "\u001b[32m[0809 14:53:44 @monitor.py:467]\u001b[0m GAN_loss/discrim/loss: 0.62536\n",
      "\u001b[32m[0809 14:53:44 @monitor.py:467]\u001b[0m GAN_loss/gen/final-g-loss: 1.3956\n",
      "\u001b[32m[0809 14:53:44 @monitor.py:467]\u001b[0m GAN_loss/gen/klloss: 0.1853\n",
      "\u001b[32m[0809 14:53:44 @monitor.py:467]\u001b[0m GAN_loss/gen/loss: 1.2103\n",
      "\u001b[32m[0809 14:53:44 @monitor.py:467]\u001b[0m QueueInput/queue_size: 50\n",
      "\u001b[32m[0809 14:53:44 @base.py:275]\u001b[0m Start Epoch 985 ...\n"
     ]
    },
    {
     "name": "stderr",
     "output_type": "stream",
     "text": [
      "100%|#################################################################################|2000/2000[01:10<00:00,28.41it/s]"
     ]
    },
    {
     "name": "stdout",
     "output_type": "stream",
     "text": [
      "\u001b[32m[0809 14:54:54 @base.py:285]\u001b[0m Epoch 985 (global_step 1970000) finished, time:1 minute 10 seconds.\n",
      "\u001b[32m[0809 14:54:54 @saver.py:79]\u001b[0m Model saved to ../output/LPMC/TGAN/model\\model-1970000.\n"
     ]
    },
    {
     "name": "stderr",
     "output_type": "stream",
     "text": [
      "\n"
     ]
    },
    {
     "name": "stdout",
     "output_type": "stream",
     "text": [
      "\u001b[32m[0809 14:54:54 @monitor.py:467]\u001b[0m GAN_loss/discrim/accuracy_fake: 0.84\n",
      "\u001b[32m[0809 14:54:54 @monitor.py:467]\u001b[0m GAN_loss/discrim/accuracy_real: 0.3\n",
      "\u001b[32m[0809 14:54:54 @monitor.py:467]\u001b[0m GAN_loss/discrim/loss: 0.62953\n",
      "\u001b[32m[0809 14:54:54 @monitor.py:467]\u001b[0m GAN_loss/gen/final-g-loss: 1.4255\n",
      "\u001b[32m[0809 14:54:54 @monitor.py:467]\u001b[0m GAN_loss/gen/klloss: 0.20389\n",
      "\u001b[32m[0809 14:54:54 @monitor.py:467]\u001b[0m GAN_loss/gen/loss: 1.2216\n",
      "\u001b[32m[0809 14:54:54 @monitor.py:467]\u001b[0m QueueInput/queue_size: 50\n",
      "\u001b[32m[0809 14:54:54 @base.py:275]\u001b[0m Start Epoch 986 ...\n"
     ]
    },
    {
     "name": "stderr",
     "output_type": "stream",
     "text": [
      "100%|#################################################################################|2000/2000[01:10<00:00,28.24it/s]"
     ]
    },
    {
     "name": "stdout",
     "output_type": "stream",
     "text": [
      "\u001b[32m[0809 14:56:05 @base.py:285]\u001b[0m Epoch 986 (global_step 1972000) finished, time:1 minute 10 seconds.\n",
      "\u001b[32m[0809 14:56:05 @saver.py:79]\u001b[0m Model saved to ../output/LPMC/TGAN/model\\model-1972000.\n"
     ]
    },
    {
     "name": "stderr",
     "output_type": "stream",
     "text": [
      "\n"
     ]
    },
    {
     "name": "stdout",
     "output_type": "stream",
     "text": [
      "\u001b[32m[0809 14:56:05 @monitor.py:467]\u001b[0m GAN_loss/discrim/accuracy_fake: 0.9\n",
      "\u001b[32m[0809 14:56:05 @monitor.py:467]\u001b[0m GAN_loss/discrim/accuracy_real: 0.3\n",
      "\u001b[32m[0809 14:56:05 @monitor.py:467]\u001b[0m GAN_loss/discrim/loss: 0.61785\n",
      "\u001b[32m[0809 14:56:05 @monitor.py:467]\u001b[0m GAN_loss/gen/final-g-loss: 1.474\n",
      "\u001b[32m[0809 14:56:05 @monitor.py:467]\u001b[0m GAN_loss/gen/klloss: 0.23119\n",
      "\u001b[32m[0809 14:56:05 @monitor.py:467]\u001b[0m GAN_loss/gen/loss: 1.2428\n",
      "\u001b[32m[0809 14:56:05 @monitor.py:467]\u001b[0m QueueInput/queue_size: 50\n",
      "\u001b[32m[0809 14:56:05 @base.py:275]\u001b[0m Start Epoch 987 ...\n"
     ]
    },
    {
     "name": "stderr",
     "output_type": "stream",
     "text": [
      "100%|#################################################################################|2000/2000[01:10<00:00,28.41it/s]"
     ]
    },
    {
     "name": "stdout",
     "output_type": "stream",
     "text": [
      "\u001b[32m[0809 14:57:16 @base.py:285]\u001b[0m Epoch 987 (global_step 1974000) finished, time:1 minute 10 seconds.\n",
      "\u001b[32m[0809 14:57:16 @saver.py:79]\u001b[0m Model saved to ../output/LPMC/TGAN/model\\model-1974000.\n"
     ]
    },
    {
     "name": "stderr",
     "output_type": "stream",
     "text": [
      "\n"
     ]
    },
    {
     "name": "stdout",
     "output_type": "stream",
     "text": [
      "\u001b[32m[0809 14:57:16 @monitor.py:467]\u001b[0m GAN_loss/discrim/accuracy_fake: 0.79\n",
      "\u001b[32m[0809 14:57:16 @monitor.py:467]\u001b[0m GAN_loss/discrim/accuracy_real: 0.28\n",
      "\u001b[32m[0809 14:57:16 @monitor.py:467]\u001b[0m GAN_loss/discrim/loss: 0.64126\n",
      "\u001b[32m[0809 14:57:16 @monitor.py:467]\u001b[0m GAN_loss/gen/final-g-loss: 1.4246\n",
      "\u001b[32m[0809 14:57:16 @monitor.py:467]\u001b[0m GAN_loss/gen/klloss: 0.23057\n",
      "\u001b[32m[0809 14:57:16 @monitor.py:467]\u001b[0m GAN_loss/gen/loss: 1.194\n",
      "\u001b[32m[0809 14:57:16 @monitor.py:467]\u001b[0m QueueInput/queue_size: 50\n",
      "\u001b[32m[0809 14:57:16 @base.py:275]\u001b[0m Start Epoch 988 ...\n"
     ]
    },
    {
     "name": "stderr",
     "output_type": "stream",
     "text": [
      "100%|#################################################################################|2000/2000[01:10<00:00,28.56it/s]"
     ]
    },
    {
     "name": "stdout",
     "output_type": "stream",
     "text": [
      "\u001b[32m[0809 14:58:26 @base.py:285]\u001b[0m Epoch 988 (global_step 1976000) finished, time:1 minute 10 seconds.\n",
      "\u001b[32m[0809 14:58:26 @saver.py:79]\u001b[0m Model saved to ../output/LPMC/TGAN/model\\model-1976000.\n"
     ]
    },
    {
     "name": "stderr",
     "output_type": "stream",
     "text": [
      "\n"
     ]
    },
    {
     "name": "stdout",
     "output_type": "stream",
     "text": [
      "\u001b[32m[0809 14:58:26 @monitor.py:467]\u001b[0m GAN_loss/discrim/accuracy_fake: 0.845\n",
      "\u001b[32m[0809 14:58:26 @monitor.py:467]\u001b[0m GAN_loss/discrim/accuracy_real: 0.26\n",
      "\u001b[32m[0809 14:58:26 @monitor.py:467]\u001b[0m GAN_loss/discrim/loss: 0.64351\n",
      "\u001b[32m[0809 14:58:26 @monitor.py:467]\u001b[0m GAN_loss/gen/final-g-loss: 1.4567\n",
      "\u001b[32m[0809 14:58:26 @monitor.py:467]\u001b[0m GAN_loss/gen/klloss: 0.24508\n",
      "\u001b[32m[0809 14:58:26 @monitor.py:467]\u001b[0m GAN_loss/gen/loss: 1.2117\n",
      "\u001b[32m[0809 14:58:26 @monitor.py:467]\u001b[0m QueueInput/queue_size: 50\n",
      "\u001b[32m[0809 14:58:26 @base.py:275]\u001b[0m Start Epoch 989 ...\n"
     ]
    },
    {
     "name": "stderr",
     "output_type": "stream",
     "text": [
      "100%|#################################################################################|2000/2000[01:10<00:00,28.31it/s]"
     ]
    },
    {
     "name": "stdout",
     "output_type": "stream",
     "text": [
      "\u001b[32m[0809 14:59:37 @base.py:285]\u001b[0m Epoch 989 (global_step 1978000) finished, time:1 minute 10 seconds.\n",
      "\u001b[32m[0809 14:59:37 @saver.py:79]\u001b[0m Model saved to ../output/LPMC/TGAN/model\\model-1978000.\n"
     ]
    },
    {
     "name": "stderr",
     "output_type": "stream",
     "text": [
      "\n"
     ]
    },
    {
     "name": "stdout",
     "output_type": "stream",
     "text": [
      "\u001b[32m[0809 14:59:37 @monitor.py:467]\u001b[0m GAN_loss/discrim/accuracy_fake: 0.87\n",
      "\u001b[32m[0809 14:59:37 @monitor.py:467]\u001b[0m GAN_loss/discrim/accuracy_real: 0.31\n",
      "\u001b[32m[0809 14:59:37 @monitor.py:467]\u001b[0m GAN_loss/discrim/loss: 0.62919\n",
      "\u001b[32m[0809 14:59:37 @monitor.py:467]\u001b[0m GAN_loss/gen/final-g-loss: 1.3729\n",
      "\u001b[32m[0809 14:59:37 @monitor.py:467]\u001b[0m GAN_loss/gen/klloss: 0.1698\n",
      "\u001b[32m[0809 14:59:37 @monitor.py:467]\u001b[0m GAN_loss/gen/loss: 1.2031\n",
      "\u001b[32m[0809 14:59:37 @monitor.py:467]\u001b[0m QueueInput/queue_size: 50\n",
      "\u001b[32m[0809 14:59:37 @base.py:275]\u001b[0m Start Epoch 990 ...\n"
     ]
    },
    {
     "name": "stderr",
     "output_type": "stream",
     "text": [
      "100%|#################################################################################|2000/2000[01:10<00:00,28.57it/s]"
     ]
    },
    {
     "name": "stdout",
     "output_type": "stream",
     "text": [
      "\u001b[32m[0809 15:00:47 @base.py:285]\u001b[0m Epoch 990 (global_step 1980000) finished, time:1 minute 10 seconds.\n"
     ]
    },
    {
     "name": "stderr",
     "output_type": "stream",
     "text": [
      "\n"
     ]
    },
    {
     "name": "stdout",
     "output_type": "stream",
     "text": [
      "WARNING:tensorflow:From D:\\Users\\glede\\anaconda3\\envs\\py37\\lib\\site-packages\\tensorflow_core\\python\\training\\saver.py:963: remove_checkpoint (from tensorflow.python.training.checkpoint_management) is deprecated and will be removed in a future version.\n",
      "Instructions for updating:\n",
      "Use standard file APIs to delete files with this prefix.\n",
      "\u001b[32m[0809 15:00:47 @saver.py:79]\u001b[0m Model saved to ../output/LPMC/TGAN/model\\model-1980000.\n",
      "\u001b[32m[0809 15:00:47 @monitor.py:467]\u001b[0m GAN_loss/discrim/accuracy_fake: 0.815\n",
      "\u001b[32m[0809 15:00:47 @monitor.py:467]\u001b[0m GAN_loss/discrim/accuracy_real: 0.32\n",
      "\u001b[32m[0809 15:00:47 @monitor.py:467]\u001b[0m GAN_loss/discrim/loss: 0.63477\n",
      "\u001b[32m[0809 15:00:47 @monitor.py:467]\u001b[0m GAN_loss/gen/final-g-loss: 1.4394\n",
      "\u001b[32m[0809 15:00:47 @monitor.py:467]\u001b[0m GAN_loss/gen/klloss: 0.24141\n",
      "\u001b[32m[0809 15:00:47 @monitor.py:467]\u001b[0m GAN_loss/gen/loss: 1.198\n",
      "\u001b[32m[0809 15:00:47 @monitor.py:467]\u001b[0m QueueInput/queue_size: 50\n",
      "\u001b[32m[0809 15:00:47 @base.py:275]\u001b[0m Start Epoch 991 ...\n"
     ]
    },
    {
     "name": "stderr",
     "output_type": "stream",
     "text": [
      "100%|#################################################################################|2000/2000[01:09<00:00,28.57it/s]"
     ]
    },
    {
     "name": "stdout",
     "output_type": "stream",
     "text": [
      "\u001b[32m[0809 15:01:57 @base.py:285]\u001b[0m Epoch 991 (global_step 1982000) finished, time:1 minute 9 seconds.\n"
     ]
    },
    {
     "name": "stderr",
     "output_type": "stream",
     "text": [
      "\n"
     ]
    },
    {
     "name": "stdout",
     "output_type": "stream",
     "text": [
      "\u001b[32m[0809 15:01:57 @saver.py:79]\u001b[0m Model saved to ../output/LPMC/TGAN/model\\model-1982000.\n",
      "\u001b[32m[0809 15:01:57 @monitor.py:467]\u001b[0m GAN_loss/discrim/accuracy_fake: 0.875\n",
      "\u001b[32m[0809 15:01:57 @monitor.py:467]\u001b[0m GAN_loss/discrim/accuracy_real: 0.295\n",
      "\u001b[32m[0809 15:01:57 @monitor.py:467]\u001b[0m GAN_loss/discrim/loss: 0.63305\n",
      "\u001b[32m[0809 15:01:57 @monitor.py:467]\u001b[0m GAN_loss/gen/final-g-loss: 1.5392\n",
      "\u001b[32m[0809 15:01:57 @monitor.py:467]\u001b[0m GAN_loss/gen/klloss: 0.3355\n",
      "\u001b[32m[0809 15:01:57 @monitor.py:467]\u001b[0m GAN_loss/gen/loss: 1.2037\n",
      "\u001b[32m[0809 15:01:57 @monitor.py:467]\u001b[0m QueueInput/queue_size: 50\n",
      "\u001b[32m[0809 15:01:57 @base.py:275]\u001b[0m Start Epoch 992 ...\n"
     ]
    },
    {
     "name": "stderr",
     "output_type": "stream",
     "text": [
      "100%|#################################################################################|2000/2000[01:10<00:00,28.45it/s]"
     ]
    },
    {
     "name": "stdout",
     "output_type": "stream",
     "text": [
      "\u001b[32m[0809 15:03:08 @base.py:285]\u001b[0m Epoch 992 (global_step 1984000) finished, time:1 minute 10 seconds.\n",
      "\u001b[32m[0809 15:03:08 @saver.py:79]\u001b[0m Model saved to ../output/LPMC/TGAN/model\\model-1984000.\n"
     ]
    },
    {
     "name": "stderr",
     "output_type": "stream",
     "text": [
      "\n"
     ]
    },
    {
     "name": "stdout",
     "output_type": "stream",
     "text": [
      "\u001b[32m[0809 15:03:08 @monitor.py:467]\u001b[0m GAN_loss/discrim/accuracy_fake: 0.815\n",
      "\u001b[32m[0809 15:03:08 @monitor.py:467]\u001b[0m GAN_loss/discrim/accuracy_real: 0.345\n",
      "\u001b[32m[0809 15:03:08 @monitor.py:467]\u001b[0m GAN_loss/discrim/loss: 0.62953\n",
      "\u001b[32m[0809 15:03:08 @monitor.py:467]\u001b[0m GAN_loss/gen/final-g-loss: 1.6075\n",
      "\u001b[32m[0809 15:03:08 @monitor.py:467]\u001b[0m GAN_loss/gen/klloss: 0.40456\n",
      "\u001b[32m[0809 15:03:08 @monitor.py:467]\u001b[0m GAN_loss/gen/loss: 1.203\n",
      "\u001b[32m[0809 15:03:08 @monitor.py:467]\u001b[0m QueueInput/queue_size: 50\n",
      "\u001b[32m[0809 15:03:08 @base.py:275]\u001b[0m Start Epoch 993 ...\n"
     ]
    },
    {
     "name": "stderr",
     "output_type": "stream",
     "text": [
      "100%|#################################################################################|2000/2000[01:10<00:00,28.45it/s]"
     ]
    },
    {
     "name": "stdout",
     "output_type": "stream",
     "text": [
      "\u001b[32m[0809 15:04:18 @base.py:285]\u001b[0m Epoch 993 (global_step 1986000) finished, time:1 minute 10 seconds.\n",
      "\u001b[32m[0809 15:04:18 @saver.py:79]\u001b[0m Model saved to ../output/LPMC/TGAN/model\\model-1986000.\n"
     ]
    },
    {
     "name": "stderr",
     "output_type": "stream",
     "text": [
      "\n"
     ]
    },
    {
     "name": "stdout",
     "output_type": "stream",
     "text": [
      "\u001b[32m[0809 15:04:18 @monitor.py:467]\u001b[0m GAN_loss/discrim/accuracy_fake: 0.84\n",
      "\u001b[32m[0809 15:04:19 @monitor.py:467]\u001b[0m GAN_loss/discrim/accuracy_real: 0.31\n",
      "\u001b[32m[0809 15:04:19 @monitor.py:467]\u001b[0m GAN_loss/discrim/loss: 0.63848\n",
      "\u001b[32m[0809 15:04:19 @monitor.py:467]\u001b[0m GAN_loss/gen/final-g-loss: 1.428\n",
      "\u001b[32m[0809 15:04:19 @monitor.py:467]\u001b[0m GAN_loss/gen/klloss: 0.23512\n",
      "\u001b[32m[0809 15:04:19 @monitor.py:467]\u001b[0m GAN_loss/gen/loss: 1.1929\n",
      "\u001b[32m[0809 15:04:19 @monitor.py:467]\u001b[0m QueueInput/queue_size: 50\n",
      "\u001b[32m[0809 15:04:19 @base.py:275]\u001b[0m Start Epoch 994 ...\n"
     ]
    },
    {
     "name": "stderr",
     "output_type": "stream",
     "text": [
      "100%|#################################################################################|2000/2000[01:10<00:00,28.56it/s]"
     ]
    },
    {
     "name": "stdout",
     "output_type": "stream",
     "text": [
      "\u001b[32m[0809 15:05:29 @base.py:285]\u001b[0m Epoch 994 (global_step 1988000) finished, time:1 minute 10 seconds.\n"
     ]
    },
    {
     "name": "stderr",
     "output_type": "stream",
     "text": [
      "\n"
     ]
    },
    {
     "name": "stdout",
     "output_type": "stream",
     "text": [
      "\u001b[32m[0809 15:05:29 @saver.py:79]\u001b[0m Model saved to ../output/LPMC/TGAN/model\\model-1988000.\n",
      "\u001b[32m[0809 15:05:29 @monitor.py:467]\u001b[0m GAN_loss/discrim/accuracy_fake: 0.86\n",
      "\u001b[32m[0809 15:05:29 @monitor.py:467]\u001b[0m GAN_loss/discrim/accuracy_real: 0.24\n",
      "\u001b[32m[0809 15:05:29 @monitor.py:467]\u001b[0m GAN_loss/discrim/loss: 0.62934\n",
      "\u001b[32m[0809 15:05:29 @monitor.py:467]\u001b[0m GAN_loss/gen/final-g-loss: 1.5339\n",
      "\u001b[32m[0809 15:05:29 @monitor.py:467]\u001b[0m GAN_loss/gen/klloss: 0.31347\n",
      "\u001b[32m[0809 15:05:29 @monitor.py:467]\u001b[0m GAN_loss/gen/loss: 1.2205\n",
      "\u001b[32m[0809 15:05:29 @monitor.py:467]\u001b[0m QueueInput/queue_size: 50\n",
      "\u001b[32m[0809 15:05:29 @base.py:275]\u001b[0m Start Epoch 995 ...\n"
     ]
    },
    {
     "name": "stderr",
     "output_type": "stream",
     "text": [
      "100%|#################################################################################|2000/2000[01:10<00:00,28.47it/s]"
     ]
    },
    {
     "name": "stdout",
     "output_type": "stream",
     "text": [
      "\u001b[32m[0809 15:06:39 @base.py:285]\u001b[0m Epoch 995 (global_step 1990000) finished, time:1 minute 10 seconds.\n",
      "\u001b[32m[0809 15:06:39 @saver.py:79]\u001b[0m Model saved to ../output/LPMC/TGAN/model\\model-1990000.\n"
     ]
    },
    {
     "name": "stderr",
     "output_type": "stream",
     "text": [
      "\n"
     ]
    },
    {
     "name": "stdout",
     "output_type": "stream",
     "text": [
      "\u001b[32m[0809 15:06:39 @monitor.py:467]\u001b[0m GAN_loss/discrim/accuracy_fake: 0.88\n",
      "\u001b[32m[0809 15:06:39 @monitor.py:467]\u001b[0m GAN_loss/discrim/accuracy_real: 0.29\n",
      "\u001b[32m[0809 15:06:39 @monitor.py:467]\u001b[0m GAN_loss/discrim/loss: 0.6341\n",
      "\u001b[32m[0809 15:06:39 @monitor.py:467]\u001b[0m GAN_loss/gen/final-g-loss: 1.4242\n",
      "\u001b[32m[0809 15:06:39 @monitor.py:467]\u001b[0m GAN_loss/gen/klloss: 0.23554\n",
      "\u001b[32m[0809 15:06:39 @monitor.py:467]\u001b[0m GAN_loss/gen/loss: 1.1887\n",
      "\u001b[32m[0809 15:06:39 @monitor.py:467]\u001b[0m QueueInput/queue_size: 50\n",
      "\u001b[32m[0809 15:06:39 @base.py:275]\u001b[0m Start Epoch 996 ...\n"
     ]
    },
    {
     "name": "stderr",
     "output_type": "stream",
     "text": [
      "100%|#################################################################################|2000/2000[01:10<00:00,28.55it/s]"
     ]
    },
    {
     "name": "stdout",
     "output_type": "stream",
     "text": [
      "\u001b[32m[0809 15:07:49 @base.py:285]\u001b[0m Epoch 996 (global_step 1992000) finished, time:1 minute 10 seconds.\n"
     ]
    },
    {
     "name": "stderr",
     "output_type": "stream",
     "text": [
      "\n"
     ]
    },
    {
     "name": "stdout",
     "output_type": "stream",
     "text": [
      "\u001b[32m[0809 15:07:49 @saver.py:79]\u001b[0m Model saved to ../output/LPMC/TGAN/model\\model-1992000.\n",
      "\u001b[32m[0809 15:07:50 @monitor.py:467]\u001b[0m GAN_loss/discrim/accuracy_fake: 0.875\n",
      "\u001b[32m[0809 15:07:50 @monitor.py:467]\u001b[0m GAN_loss/discrim/accuracy_real: 0.245\n",
      "\u001b[32m[0809 15:07:50 @monitor.py:467]\u001b[0m GAN_loss/discrim/loss: 0.63783\n",
      "\u001b[32m[0809 15:07:50 @monitor.py:467]\u001b[0m GAN_loss/gen/final-g-loss: 1.3821\n",
      "\u001b[32m[0809 15:07:50 @monitor.py:467]\u001b[0m GAN_loss/gen/klloss: 0.20156\n",
      "\u001b[32m[0809 15:07:50 @monitor.py:467]\u001b[0m GAN_loss/gen/loss: 1.1805\n",
      "\u001b[32m[0809 15:07:50 @monitor.py:467]\u001b[0m QueueInput/queue_size: 50\n",
      "\u001b[32m[0809 15:07:50 @base.py:275]\u001b[0m Start Epoch 997 ...\n"
     ]
    },
    {
     "name": "stderr",
     "output_type": "stream",
     "text": [
      "100%|#################################################################################|2000/2000[01:10<00:00,28.44it/s]"
     ]
    },
    {
     "name": "stdout",
     "output_type": "stream",
     "text": [
      "\u001b[32m[0809 15:09:00 @base.py:285]\u001b[0m Epoch 997 (global_step 1994000) finished, time:1 minute 10 seconds.\n",
      "\u001b[32m[0809 15:09:00 @saver.py:79]\u001b[0m Model saved to ../output/LPMC/TGAN/model\\model-1994000.\n"
     ]
    },
    {
     "name": "stderr",
     "output_type": "stream",
     "text": [
      "\n"
     ]
    },
    {
     "name": "stdout",
     "output_type": "stream",
     "text": [
      "\u001b[32m[0809 15:09:00 @monitor.py:467]\u001b[0m GAN_loss/discrim/accuracy_fake: 0.79\n",
      "\u001b[32m[0809 15:09:00 @monitor.py:467]\u001b[0m GAN_loss/discrim/accuracy_real: 0.345\n",
      "\u001b[32m[0809 15:09:00 @monitor.py:467]\u001b[0m GAN_loss/discrim/loss: 0.64812\n",
      "\u001b[32m[0809 15:09:00 @monitor.py:467]\u001b[0m GAN_loss/gen/final-g-loss: 1.3054\n",
      "\u001b[32m[0809 15:09:00 @monitor.py:467]\u001b[0m GAN_loss/gen/klloss: 0.13778\n",
      "\u001b[32m[0809 15:09:00 @monitor.py:467]\u001b[0m GAN_loss/gen/loss: 1.1676\n",
      "\u001b[32m[0809 15:09:00 @monitor.py:467]\u001b[0m QueueInput/queue_size: 50\n",
      "\u001b[32m[0809 15:09:00 @base.py:275]\u001b[0m Start Epoch 998 ...\n"
     ]
    },
    {
     "name": "stderr",
     "output_type": "stream",
     "text": [
      "100%|#################################################################################|2000/2000[01:10<00:00,28.46it/s]"
     ]
    },
    {
     "name": "stdout",
     "output_type": "stream",
     "text": [
      "\u001b[32m[0809 15:10:10 @base.py:285]\u001b[0m Epoch 998 (global_step 1996000) finished, time:1 minute 10 seconds.\n",
      "\u001b[32m[0809 15:10:10 @saver.py:79]\u001b[0m Model saved to ../output/LPMC/TGAN/model\\model-1996000.\n"
     ]
    },
    {
     "name": "stderr",
     "output_type": "stream",
     "text": [
      "\n"
     ]
    },
    {
     "name": "stdout",
     "output_type": "stream",
     "text": [
      "\u001b[32m[0809 15:10:11 @monitor.py:467]\u001b[0m GAN_loss/discrim/accuracy_fake: 0.855\n",
      "\u001b[32m[0809 15:10:11 @monitor.py:467]\u001b[0m GAN_loss/discrim/accuracy_real: 0.28\n",
      "\u001b[32m[0809 15:10:11 @monitor.py:467]\u001b[0m GAN_loss/discrim/loss: 0.63451\n",
      "\u001b[32m[0809 15:10:11 @monitor.py:467]\u001b[0m GAN_loss/gen/final-g-loss: 1.3824\n",
      "\u001b[32m[0809 15:10:11 @monitor.py:467]\u001b[0m GAN_loss/gen/klloss: 0.22075\n",
      "\u001b[32m[0809 15:10:11 @monitor.py:467]\u001b[0m GAN_loss/gen/loss: 1.1616\n",
      "\u001b[32m[0809 15:10:11 @monitor.py:467]\u001b[0m QueueInput/queue_size: 50\n",
      "\u001b[32m[0809 15:10:11 @base.py:275]\u001b[0m Start Epoch 999 ...\n"
     ]
    },
    {
     "name": "stderr",
     "output_type": "stream",
     "text": [
      "100%|#################################################################################|2000/2000[01:10<00:00,28.56it/s]"
     ]
    },
    {
     "name": "stdout",
     "output_type": "stream",
     "text": [
      "\u001b[32m[0809 15:11:21 @base.py:285]\u001b[0m Epoch 999 (global_step 1998000) finished, time:1 minute 10 seconds.\n",
      "\u001b[32m[0809 15:11:21 @saver.py:79]\u001b[0m Model saved to ../output/LPMC/TGAN/model\\model-1998000.\n"
     ]
    },
    {
     "name": "stderr",
     "output_type": "stream",
     "text": [
      "\n"
     ]
    },
    {
     "name": "stdout",
     "output_type": "stream",
     "text": [
      "\u001b[32m[0809 15:11:21 @monitor.py:467]\u001b[0m GAN_loss/discrim/accuracy_fake: 0.865\n",
      "\u001b[32m[0809 15:11:21 @monitor.py:467]\u001b[0m GAN_loss/discrim/accuracy_real: 0.22\n",
      "\u001b[32m[0809 15:11:21 @monitor.py:467]\u001b[0m GAN_loss/discrim/loss: 0.64434\n",
      "\u001b[32m[0809 15:11:21 @monitor.py:467]\u001b[0m GAN_loss/gen/final-g-loss: 1.4717\n",
      "\u001b[32m[0809 15:11:21 @monitor.py:467]\u001b[0m GAN_loss/gen/klloss: 0.27691\n",
      "\u001b[32m[0809 15:11:21 @monitor.py:467]\u001b[0m GAN_loss/gen/loss: 1.1948\n",
      "\u001b[32m[0809 15:11:21 @monitor.py:467]\u001b[0m QueueInput/queue_size: 50\n",
      "\u001b[32m[0809 15:11:21 @base.py:275]\u001b[0m Start Epoch 1000 ...\n"
     ]
    },
    {
     "name": "stderr",
     "output_type": "stream",
     "text": [
      "100%|#################################################################################|2000/2000[01:10<00:00,28.55it/s]"
     ]
    },
    {
     "name": "stdout",
     "output_type": "stream",
     "text": [
      "\u001b[32m[0809 15:12:31 @base.py:285]\u001b[0m Epoch 1000 (global_step 2000000) finished, time:1 minute 10 seconds.\n"
     ]
    },
    {
     "name": "stderr",
     "output_type": "stream",
     "text": [
      "\n"
     ]
    },
    {
     "name": "stdout",
     "output_type": "stream",
     "text": [
      "\u001b[32m[0809 15:12:31 @saver.py:79]\u001b[0m Model saved to ../output/LPMC/TGAN/model\\model-2000000.\n",
      "\u001b[32m[0809 15:12:31 @monitor.py:467]\u001b[0m GAN_loss/discrim/accuracy_fake: 0.87\n",
      "\u001b[32m[0809 15:12:31 @monitor.py:467]\u001b[0m GAN_loss/discrim/accuracy_real: 0.295\n",
      "\u001b[32m[0809 15:12:31 @monitor.py:467]\u001b[0m GAN_loss/discrim/loss: 0.63016\n",
      "\u001b[32m[0809 15:12:31 @monitor.py:467]\u001b[0m GAN_loss/gen/final-g-loss: 1.4116\n",
      "\u001b[32m[0809 15:12:31 @monitor.py:467]\u001b[0m GAN_loss/gen/klloss: 0.23869\n",
      "\u001b[32m[0809 15:12:31 @monitor.py:467]\u001b[0m GAN_loss/gen/loss: 1.1729\n",
      "\u001b[32m[0809 15:12:31 @monitor.py:467]\u001b[0m QueueInput/queue_size: 50\n",
      "\u001b[32m[0809 15:12:31 @base.py:289]\u001b[0m Training has finished!\n",
      "WARNING:tensorflow:From D:\\Users\\glede\\anaconda3\\envs\\py37\\lib\\site-packages\\tensorpack\\predict\\config.py:101: The name tf.train.ChiefSessionCreator is deprecated. Please use tf.compat.v1.train.ChiefSessionCreator instead.\n",
      "\n",
      "\u001b[32m[0809 15:12:33 @input_source.py:178]\u001b[0m EnqueueThread QueueInput/input_queue Exited.\n",
      "WARNING:tensorflow:From D:\\Users\\glede\\anaconda3\\envs\\py37\\lib\\site-packages\\tensorpack\\tfutils\\collection.py:45: The name tf.get_collection_ref is deprecated. Please use tf.compat.v1.get_collection_ref instead.\n",
      "\n",
      "\u001b[32m[0809 15:12:34 @collection.py:146]\u001b[0m New collections created in tower : tf.GraphKeys.REGULARIZATION_LOSSES\n",
      "\u001b[32m[0809 15:12:34 @collection.py:165]\u001b[0m These collections were modified but restored in : (tf.GraphKeys.SUMMARIES: 0->2)\n",
      "\u001b[32m[0809 15:12:34 @sessinit.py:87]\u001b[0m \u001b[5m\u001b[31mWRN\u001b[0m The following variables are in the checkpoint, but not found in the graph: global_step, optimize/beta1_power, optimize/beta2_power\n",
      "INFO:tensorflow:Graph was finalized.\n",
      "INFO:tensorflow:Running local_init_op.\n",
      "INFO:tensorflow:Done running local_init_op.\n",
      "\u001b[32m[0809 15:12:35 @sessinit.py:114]\u001b[0m Restoring checkpoint from ../output/LPMC/TGAN/model\\model-2000000 ...\n",
      "INFO:tensorflow:Restoring parameters from ../output/LPMC/TGAN/model\\model-2000000\n"
     ]
    }
   ],
   "source": [
    "tgan.fit(df)"
   ]
  },
  {
   "cell_type": "code",
   "execution_count": 13,
   "metadata": {},
   "outputs": [
    {
     "name": "stdout",
     "output_type": "stream",
     "text": [
      "\u001b[32m[0809 15:13:09 @model.py:813]\u001b[0m Model saved successfully.\n"
     ]
    }
   ],
   "source": [
    "tgan.save(output_folder + 'trained', force=True)"
   ]
  },
  {
   "cell_type": "code",
   "execution_count": null,
   "metadata": {},
   "outputs": [],
   "source": []
  }
 ],
 "metadata": {
  "kernelspec": {
   "display_name": "Python 3",
   "language": "python",
   "name": "python3"
  },
  "language_info": {
   "codemirror_mode": {
    "name": "ipython",
    "version": 3
   },
   "file_extension": ".py",
   "mimetype": "text/x-python",
   "name": "python",
   "nbconvert_exporter": "python",
   "pygments_lexer": "ipython3",
   "version": "3.7.9"
  }
 },
 "nbformat": 4,
 "nbformat_minor": 2
}
