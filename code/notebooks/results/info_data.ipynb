{
 "cells": [
  {
   "cell_type": "code",
   "execution_count": 1,
   "metadata": {},
   "outputs": [],
   "source": [
    "import os\n",
    "os.chdir('../..')"
   ]
  },
  {
   "cell_type": "code",
   "execution_count": 2,
   "metadata": {},
   "outputs": [],
   "source": [
    "import chevron\n",
    "import sys\n",
    "import os\n",
    "import copy\n",
    "import logging\n",
    "import tensorflow as tf\n",
    "import torch\n",
    "import matplotlib.pyplot as plt\n",
    "\n",
    "from distutils.dir_util import copy_tree\n",
    "\n",
    "import pandas as pd\n",
    "import networkx as nx\n",
    "import numpy as np\n",
    "\n",
    "import time\n",
    "\n",
    "# For the Python notebook\n",
    "%matplotlib inline\n",
    "%reload_ext autoreload\n",
    "%autoreload 2"
   ]
  },
  {
   "cell_type": "code",
   "execution_count": 3,
   "metadata": {},
   "outputs": [],
   "source": [
    "dataset = 'adult'"
   ]
  },
  {
   "cell_type": "code",
   "execution_count": 4,
   "metadata": {},
   "outputs": [],
   "source": [
    "if dataset is 'Chicago':\n",
    "    continuous_columns = [\"distance\", \"age\", \"departure_time\"]\n",
    "elif dataset is 'LPMC':\n",
    "    continuous_columns = ['start_time_linear', 'age', 'distance', 'dur_walking', 'dur_cycling', 'dur_pt_access',\n",
    "                          'dur_pt_rail', 'dur_pt_bus', 'dur_pt_int', 'dur_driving', 'cost_transit',\n",
    "                          'cost_driving_fuel', 'driving_traffic_percent']\n",
    "elif dataset is 'adult':\n",
    "    continuous_columns = ['age', 'capital-gain', 'capital-loss', 'hours-per-week']"
   ]
  },
  {
   "cell_type": "code",
   "execution_count": 5,
   "metadata": {},
   "outputs": [],
   "source": [
    "df = pd.read_csv('../data/' + dataset + '/data.csv')"
   ]
  },
  {
   "cell_type": "code",
   "execution_count": 7,
   "metadata": {},
   "outputs": [
    {
     "data": {
      "text/plain": [
       "['race',\n",
       " 'workclass',\n",
       " 'income',\n",
       " 'marital-status',\n",
       " 'relationship',\n",
       " 'gender',\n",
       " 'education',\n",
       " 'native-country',\n",
       " 'occupation',\n",
       " 'educational-num']"
      ]
     },
     "execution_count": 7,
     "metadata": {},
     "output_type": "execute_result"
    }
   ],
   "source": [
    "list(set(df.columns)-set(continuous_columns))"
   ]
  },
  {
   "cell_type": "code",
   "execution_count": 57,
   "metadata": {},
   "outputs": [
    {
     "data": {
      "text/plain": [
       "27"
      ]
     },
     "execution_count": 57,
     "metadata": {},
     "output_type": "execute_result"
    }
   ],
   "source": [
    "len(df.columns)"
   ]
  },
  {
   "cell_type": "code",
   "execution_count": 58,
   "metadata": {},
   "outputs": [
    {
     "data": {
      "text/plain": [
       "8808"
      ]
     },
     "execution_count": 58,
     "metadata": {},
     "output_type": "execute_result"
    }
   ],
   "source": [
    "len(df)"
   ]
  },
  {
   "cell_type": "code",
   "execution_count": 53,
   "metadata": {},
   "outputs": [
    {
     "data": {
      "text/plain": [
       "4"
      ]
     },
     "execution_count": 53,
     "metadata": {},
     "output_type": "execute_result"
    }
   ],
   "source": [
    "len(continuous_columns)"
   ]
  },
  {
   "cell_type": "code",
   "execution_count": 35,
   "metadata": {},
   "outputs": [
    {
     "data": {
      "text/plain": [
       "Index(['age', 'workclass', 'education', 'educational-num', 'marital-status',\n",
       "       'occupation', 'relationship', 'race', 'gender', 'capital-gain',\n",
       "       'capital-loss', 'hours-per-week', 'native-country', 'income'],\n",
       "      dtype='object')"
      ]
     },
     "execution_count": 35,
     "metadata": {},
     "output_type": "execute_result"
    }
   ],
   "source": [
    "df.columns"
   ]
  },
  {
   "cell_type": "code",
   "execution_count": 36,
   "metadata": {},
   "outputs": [
    {
     "name": "stdout",
     "output_type": "stream",
     "text": [
      "age 17 90 74\n",
      "workclass Federal-gov Without-pay 7\n",
      "education 10th Some-college 16\n",
      "educational-num 1 16 16\n",
      "marital-status Divorced Widowed 7\n",
      "occupation Adm-clerical Transport-moving 14\n",
      "relationship Husband Wife 6\n",
      "race Amer-Indian-Eskimo White 5\n",
      "gender Female Male 2\n",
      "capital-gain 0 99999 121\n",
      "capital-loss 0 4356 97\n",
      "hours-per-week 1 99 96\n",
      "native-country Cambodia Yugoslavia 41\n",
      "income <=50K >50K 2\n"
     ]
    }
   ],
   "source": [
    "for c in df.columns:\n",
    "    \n",
    "    if c in continuous_columns:\n",
    "        print(c, np.min(df[c]), np.max(df[c]), len(df[c].unique()))\n",
    "        \n",
    "    else:\n",
    "        print(c, np.min(df[c]), np.max(df[c]), len(df[c].unique()))"
   ]
  },
  {
   "cell_type": "code",
   "execution_count": null,
   "metadata": {},
   "outputs": [],
   "source": []
  }
 ],
 "metadata": {
  "kernelspec": {
   "display_name": "Python 3",
   "language": "python",
   "name": "python3"
  },
  "language_info": {
   "codemirror_mode": {
    "name": "ipython",
    "version": 3
   },
   "file_extension": ".py",
   "mimetype": "text/x-python",
   "name": "python",
   "nbconvert_exporter": "python",
   "pygments_lexer": "ipython3",
   "version": "3.7.9"
  }
 },
 "nbformat": 4,
 "nbformat_minor": 4
}
