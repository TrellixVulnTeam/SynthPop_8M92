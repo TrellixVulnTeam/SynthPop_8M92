{
 "cells": [
  {
   "cell_type": "code",
   "execution_count": 1,
   "metadata": {},
   "outputs": [],
   "source": [
    "import os\n",
    "os.chdir('../..')"
   ]
  },
  {
   "cell_type": "code",
   "execution_count": 15,
   "metadata": {},
   "outputs": [],
   "source": [
    "import chevron\n",
    "import sys\n",
    "import os\n",
    "import copy\n",
    "import logging\n",
    "import tensorflow as tf\n",
    "import torch\n",
    "import matplotlib.pyplot as plt\n",
    "\n",
    "from distutils.dir_util import copy_tree\n",
    "\n",
    "import pandas as pd\n",
    "import networkx as nx\n",
    "import numpy as np\n",
    "\n",
    "import time\n",
    "\n",
    "# For the Python notebook\n",
    "%matplotlib inline\n",
    "%reload_ext autoreload\n",
    "%autoreload 2"
   ]
  },
  {
   "cell_type": "code",
   "execution_count": 26,
   "metadata": {},
   "outputs": [],
   "source": [
    "dataset = 'LPMC'"
   ]
  },
  {
   "cell_type": "code",
   "execution_count": 27,
   "metadata": {},
   "outputs": [],
   "source": [
    "if dataset is 'Chicago':\n",
    "    continuous_columns = [\"distance\", \"age\", \"departure_time\"]\n",
    "elif dataset is 'LPMC':\n",
    "    continuous_columns = ['start_time_linear', 'age', 'distance', 'dur_walking', 'dur_cycling', 'dur_pt_access',\n",
    "                          'dur_pt_rail', 'dur_pt_bus', 'dur_pt_int', 'dur_driving', 'cost_transit',\n",
    "                          'cost_driving_fuel', 'driving_traffic_percent']"
   ]
  },
  {
   "cell_type": "code",
   "execution_count": 28,
   "metadata": {},
   "outputs": [],
   "source": [
    "df = pd.read_csv('../data/' + dataset + '/data.csv')"
   ]
  },
  {
   "cell_type": "code",
   "execution_count": 29,
   "metadata": {},
   "outputs": [
    {
     "data": {
      "text/plain": [
       "27"
      ]
     },
     "execution_count": 29,
     "metadata": {},
     "output_type": "execute_result"
    }
   ],
   "source": [
    "len(df.columns)"
   ]
  },
  {
   "cell_type": "code",
   "execution_count": 30,
   "metadata": {},
   "outputs": [
    {
     "data": {
      "text/plain": [
       "Index(['travel_mode', 'purpose', 'fueltype', 'faretype', 'bus_scale',\n",
       "       'travel_year', 'travel_month', 'travel_date', 'day_of_week',\n",
       "       'start_time_linear', 'age', 'female', 'driving_license',\n",
       "       'car_ownership', 'distance', 'dur_walking', 'dur_cycling',\n",
       "       'dur_pt_access', 'dur_pt_rail', 'dur_pt_bus', 'dur_pt_int',\n",
       "       'pt_n_interchanges', 'dur_driving', 'cost_transit', 'cost_driving_fuel',\n",
       "       'cost_driving_con_charge', 'driving_traffic_percent'],\n",
       "      dtype='object')"
      ]
     },
     "execution_count": 30,
     "metadata": {},
     "output_type": "execute_result"
    }
   ],
   "source": [
    "df.columns"
   ]
  },
  {
   "cell_type": "code",
   "execution_count": 31,
   "metadata": {},
   "outputs": [
    {
     "data": {
      "text/plain": [
       "17616"
      ]
     },
     "execution_count": 31,
     "metadata": {},
     "output_type": "execute_result"
    }
   ],
   "source": [
    "len(df)"
   ]
  },
  {
   "cell_type": "code",
   "execution_count": 32,
   "metadata": {},
   "outputs": [
    {
     "name": "stdout",
     "output_type": "stream",
     "text": [
      "travel_mode cycle walk 4\n",
      "purpose B NHBO 5\n",
      "fueltype Average_Car Petrol_LGV 6\n",
      "faretype 16+ full 5\n",
      "bus_scale 0.0 1.0 3\n",
      "travel_year 2012 2015 4\n",
      "travel_month 1 12 12\n",
      "travel_date 1 31 31\n",
      "day_of_week 1 7 7\n",
      "start_time_linear 0.0 23.91666667 609\n",
      "age 5 94 90\n",
      "female 0 1 2\n",
      "driving_license 0 1 2\n",
      "car_ownership 0 2 3\n",
      "distance 77 40941 8972\n",
      "dur_walking 0.028333333 9.278333332999999 8416\n",
      "dur_cycling 0.0075 3.051944444 4350\n",
      "dur_pt_access 0.0 1.058611111 1656\n",
      "dur_pt_rail 0.0 1.3666666669999998 76\n",
      "dur_pt_bus 0.0 2.147222222 2469\n",
      "dur_pt_int 0.0 0.567222222 725\n",
      "pt_n_interchanges 0 4 5\n",
      "dur_driving 0.004166667 1.790833333 3544\n",
      "cost_transit 0.0 11.7 146\n",
      "cost_driving_fuel 0.02 10.09 507\n",
      "cost_driving_con_charge 0.0 10.5 2\n",
      "driving_traffic_percent 0.0 1.04225 15787\n"
     ]
    }
   ],
   "source": [
    "for c in df.columns:\n",
    "    \n",
    "    if c in continuous8972 u(df[c]), np.max(df[c]), len(df[c].unique()))\n",
    "        \n",
    "    else:\n",
    "        print(c, np.min(df[c]), np.max(df[c]), len(df[c].unique()))"
   ]
  },
  {
   "cell_type": "code",
   "execution_count": null,
   "metadata": {},
   "outputs": [],
   "source": []
  }
 ],
 "metadata": {
  "kernelspec": {
   "display_name": "Python 3",
   "language": "python",
   "name": "python3"
  },
  "language_info": {
   "codemirror_mode": {
    "name": "ipython",
    "version": 3
   },
   "file_extension": ".py",
   "mimetype": "text/x-python",
   "name": "python",
   "nbconvert_exporter": "python",
   "pygments_lexer": "ipython3",
   "version": "3.7.9"
  }
 },
 "nbformat": 4,
 "nbformat_minor": 4
}
